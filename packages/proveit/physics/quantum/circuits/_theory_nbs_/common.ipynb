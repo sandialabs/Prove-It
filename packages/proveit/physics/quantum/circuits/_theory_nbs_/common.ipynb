{
 "cells": [
  {
   "cell_type": "markdown",
   "metadata": {},
   "source": [
    "Common expressions for the theory of <a class=\"ProveItLink\" href=\"theory.ipynb\">proveit.physics.quantum.circuits</a>\n",
    "========"
   ]
  },
  {
   "cell_type": "code",
   "execution_count": 1,
   "metadata": {},
   "outputs": [],
   "source": [
    "import proveit\n",
    "# Prepare this notebook for defining the common expressions of a theory:\n",
    "%common_expressions_notebook # Keep this at the top following 'import proveit'.\n",
    "\n",
    "from proveit import (Function, Variable, IndexedVar, Conditional, ConditionalSet,\n",
    "                     ExprRange, ExprTuple, VertExprArray, var_range)\n",
    "from proveit import a, b, i, j, k, l, m, n, p, t, A, B, C, D, N, P, Q, R, S, U, pi\n",
    "from proveit.core_expr_types import (\n",
    "    a_i, b_i, c_i, i_k, j_k, n_k, n_1_to_m, A_k, A_1_to_m,\n",
    "    U_1_to_m, U_1_to_i, V_1_to_j)\n",
    "from proveit.core_expr_types.expr_arrays import (\n",
    "    Aij, Bij, Cij, Dij, Eij, Pij, Qij, Rij, Sij, Tij, Uij, Vij, \n",
    "    A11_to_Akl, A11_to_Akl_varray, B11_to_Bmn, B11_to_Bkl_varray,\n",
    "    D11_to_Dmn, S11_to_Smn)\n",
    "from proveit.logic import (And, Equals, NotEquals, Set, InSet, CartExp, Disjoint,\n",
    "                           InvImage)\n",
    "from proveit.numbers import NaturalPos, Complex, Interval, zero, one, two, three\n",
    "from proveit.numbers import Add, Neg, subtract, frac, sqrt, Exp, exp2pi_i, greater\n",
    "from proveit.linear_algebra import VecAdd, ScalarMult, TensorProd\n",
    "from proveit.physics.quantum import (\n",
    "    I, X, Y, Z, H, Ket, varphi, ket_plus, ket0, ket1, var_ket_u, var_ket_v, m_ket_domain, \n",
    "    var_ket_psi, NumKet, Qmult)\n",
    "from proveit.physics.quantum.circuits import (\n",
    "    Qcircuit, Gate, Input, Output, Measure, MultiQubitElem,\n",
    "    control_elem, multi_wire, multi_gate_entries, \n",
    "    multi_input_entries, multi_output_entries, multi_measure_entries)"
   ]
  },
  {
   "cell_type": "code",
   "execution_count": 2,
   "metadata": {},
   "outputs": [
    {
     "name": "stdout",
     "output_type": "stream",
     "text": [
      "Defining common sub-expressions for theory 'proveit.physics.quantum.circuits'\n",
      "Subsequent end-of-cell assignments will define common sub-expressions\n",
      "%end_common will finalize the definitions\n"
     ]
    }
   ],
   "source": [
    "%begin common"
   ]
  },
  {
   "cell_type": "code",
   "execution_count": 3,
   "metadata": {},
   "outputs": [
    {
     "data": {
      "text/html": [
       "<strong id=\"Igate\">Igate:</strong> <a class=\"ProveItLink\" href=\"../__pv_it/common/3503baca64886f46b3e1879abd140991d3d5b9850/common_expr.ipynb\"><img src=\"data:image/png;base64,iVBORw0KGgoAAAANSUhEUgAAACoAAAABAQMAAACSZq7tAAAABlBMVEX///8AAABVwtN+AAAAAXRS\n",
       "TlMAQObYZgAAAAlwSFlzAAAOxAAADsQBlSsOGwAAAAxJREFUCNdj+A8CBwAUswW8iVMLZgAAAABJ\n",
       "RU5ErkJggg==\n",
       "\" style=\"display:inline;vertical-align:middle;\" /></a><br>"
      ],
      "text/plain": [
       "<IPython.core.display.HTML object>"
      ]
     },
     "metadata": {},
     "output_type": "display_data"
    },
    {
     "data": {
      "text/html": [
       "<strong id=\"Xgate\">Xgate:</strong> <a class=\"ProveItLink\" href=\"../__pv_it/common/61bb58f835d328a2fa4e9676966bb3ab0d97addf0/common_expr.ipynb\"><img src=\"data:image/png;base64,iVBORw0KGgoAAAANSUhEUgAAAEkAAAAbBAMAAADCG78TAAAAMFBMVEX///8AAAAAAAAAAAAAAAAA\n",
       "AAAAAAAAAAAAAAAAAAAAAAAAAAAAAAAAAAAAAAAAAAAv3aB7AAAAD3RSTlMAZrvvdhDdzVSrIjKZ\n",
       "iUQw4UTKAAAACXBIWXMAAA7EAAAOxAGVKw4bAAAAhUlEQVQ4y2NggIP/aIABK/iAyuUftqoY9T87\n",
       "sOabNxAwi/MHA0PTAkI2cn9i4DpA2F31CyKJcL380QlEqGL+GYCpChG7UFW8X6AhgSGDbBbnN2JC\n",
       "9dT8B4RV8WzYr0BY1W0Gtl8EVbE8YGD8S0gVqy7I2wH4VXErf97AsP1/zrBN0XjyNgC232dpK42U\n",
       "3gAAAABJRU5ErkJggg==\n",
       "\" style=\"display:inline;vertical-align:middle;\" /></a><br>"
      ],
      "text/plain": [
       "<IPython.core.display.HTML object>"
      ]
     },
     "metadata": {},
     "output_type": "display_data"
    },
    {
     "data": {
      "text/html": [
       "<strong id=\"Ygate\">Ygate:</strong> <a class=\"ProveItLink\" href=\"../__pv_it/common/b385a2eb560a4837fac718d803396fcf41964b8f0/common_expr.ipynb\"><img src=\"data:image/png;base64,iVBORw0KGgoAAAANSUhEUgAAAEcAAAAbBAMAAADc0o+gAAAALVBMVEX///8AAAAAAAAAAAAAAAAA\n",
       "AAAAAAAAAAAAAAAAAAAAAAAAAAAAAAAAAAAAAADAOrOgAAAADnRSTlMAEKvd7yJUdkTNu2aJmYeN\n",
       "iygAAAAJcEhZcwAADsQAAA7EAZUrDhsAAAB5SURBVCjPY2CAg3eo4AEDNoAqyscw7BQxKj9RZWBI\n",
       "eVKA1ySOl0CCawMB6+wCGBgqCLmp7gADWwIhRXIODO0Efcf1gvUApiK0GGV7JAsNAuxRDWH7KRAR\n",
       "mOsEiFDkSUS0sL4hQhH3CyIUcT0grIh33aOC4Zl8cedgAGQfWYYDJww1AAAAAElFTkSuQmCC\n",
       "\" style=\"display:inline;vertical-align:middle;\" /></a><br>"
      ],
      "text/plain": [
       "<IPython.core.display.HTML object>"
      ]
     },
     "metadata": {},
     "output_type": "display_data"
    },
    {
     "data": {
      "text/html": [
       "<strong id=\"Zgate\">Zgate:</strong> <a class=\"ProveItLink\" href=\"../__pv_it/common/6f47285aaf0684dbeb79bd463f8189fa171dedb70/common_expr.ipynb\"><img src=\"data:image/png;base64,iVBORw0KGgoAAAANSUhEUgAAAEYAAAAbBAMAAAAzEOSeAAAAMFBMVEX///8AAAAAAAAAAAAAAAAA\n",
       "AAAAAAAAAAAAAAAAAAAAAAAAAAAAAAAAAAAAAAAAAAAv3aB7AAAAD3RSTlMA782r3URmEJlUIrsy\n",
       "iXbFnxI6AAAACXBIWXMAAA7EAAAOxAGVKw4bAAAAgklEQVQoz2NggAP+/yiAARvgx8Mb+mrkhYyN\n",
       "vuBXw/qNgaFEHL8ajgkMDIoL8KthZmDg/kPAPTwMDP0BBP3F+w3DXxixmP8APYYxzOH8QTh84g1A\n",
       "bsLv5t9A/xNQs1CBgSEMvxp2lwIGBnf8apikGBgObcCvxt57t+L/hGGWVnHlUwDqL0WUecPJIwAA\n",
       "AABJRU5ErkJggg==\n",
       "\" style=\"display:inline;vertical-align:middle;\" /></a><br>"
      ],
      "text/plain": [
       "<IPython.core.display.HTML object>"
      ]
     },
     "metadata": {},
     "output_type": "display_data"
    },
    {
     "data": {
      "text/html": [
       "<strong id=\"Hgate\">Hgate:</strong> <a class=\"ProveItLink\" href=\"../__pv_it/common/3efef594f5c52244e84666647bb84a430a91fa420/common_expr.ipynb\"><img src=\"data:image/png;base64,iVBORw0KGgoAAAANSUhEUgAAAEkAAAAbBAMAAADCG78TAAAAMFBMVEX///8AAAAAAAAAAAAAAAAA\n",
       "AAAAAAAAAAAAAAAAAAAAAAAAAAAAAAAAAAAAAAAAAAAv3aB7AAAAD3RSTlMAdqu7Zu8Qzd0yiSKZ\n",
       "RFTI+uAaAAAACXBIWXMAAA7EAAAOxAGVKw4bAAAAk0lEQVQ4y2NggIP/aIABK/iAyuUftqoY9T8r\n",
       "sKh+ViNgFn8BAwNrAyEb5y9gYNh/gJCq9RcYGPwfEFJVD8T2CYRUfQbiCAw/ImIXrIr3h5KS0h+w\n",
       "KjQZZLO4fgJD4x+h8GIHkszfCKniN4AEGX5V9wUgQYZf1foJDAzyFwip6gcFF4HYZlP+r8hw+L/h\n",
       "sE3RePI2AFWiaH+5r2z4AAAAAElFTkSuQmCC\n",
       "\" style=\"display:inline;vertical-align:middle;\" /></a><br>"
      ],
      "text/plain": [
       "<IPython.core.display.HTML object>"
      ]
     },
     "metadata": {},
     "output_type": "display_data"
    }
   ],
   "source": [
    "Igate, Xgate, Ygate, Zgate, Hgate = Gate(I), Gate(X), Gate(Y), Gate(Z), Gate(H)"
   ]
  },
  {
   "cell_type": "code",
   "execution_count": 4,
   "metadata": {},
   "outputs": [
    {
     "data": {
      "text/html": [
       "<strong id=\"target\">target:</strong> <a class=\"ProveItLink\" href=\"../__pv_it/common/626482ba4c30b1107a896916c67b4276b7b870dd0/common_expr.ipynb\"><img src=\"data:image/png;base64,iVBORw0KGgoAAAANSUhEUgAAADsAAAASAQMAAADfSDQOAAAABlBMVEX///8AAABVwtN+AAAAAXRS\n",
       "TlMAQObYZgAAAAlwSFlzAAAOxAAADsQBlSsOGwAAAElJREFUCNdjYGBgkGOAgvIDEJqxJQHCYGYR\n",
       "gDCYWDggDBYEgwXC4IExOCCM/xDwAFmKBcGAameDMZhgVjCyGECdcQTqDAZ7EAEA82sMyezQr9IA\n",
       "AAAASUVORK5CYII=\n",
       "\" style=\"display:inline;vertical-align:middle;\" /></a><br>"
      ],
      "text/plain": [
       "<IPython.core.display.HTML object>"
      ]
     },
     "metadata": {},
     "output_type": "display_data"
    }
   ],
   "source": [
    "target = Gate(X).with_implicit_representation()"
   ]
  },
  {
   "cell_type": "code",
   "execution_count": 5,
   "metadata": {},
   "outputs": [
    {
     "data": {
      "text/html": [
       "<strong id=\"unitary_gate_op\">unitary_gate_op:</strong> <a class=\"ProveItLink\" href=\"../__pv_it/common/ab3f811945dee2777be1f20ffcda15e6855ec1ad0/common_expr.ipynb\"><img src=\"data:image/png;base64,iVBORw0KGgoAAAANSUhEUgAAAJsAAAAbBAMAAACZ/+BnAAAAMFBMVEX///8AAAAAAAAAAAAAAAAA\n",
       "AAAAAAAAAAAAAAAAAAAAAAAAAAAAAAAAAAAAAAAAAAAv3aB7AAAAD3RSTlMAIolEdjIQVJlm3e/N\n",
       "u6uczJRnAAAACXBIWXMAAA7EAAAOxAGVKw4bAAACNElEQVRIx82WTWgTQRTH3072I2ljsgfBk2Wl\n",
       "h55KFzx6MJZa1Iu59VYW6UUoGApCwUMCiqBYSCl4zr1QK3i3ggdvVrDXEgVR9FLQFlrU9j9vMxOy\n",
       "M0KbFOrAG2Z2w2/e/t/HhOifo3zYM3ZosFHu3Z4JLlQLr0+co1dV2KjanKv2hxOxWm1pnEsUNE6C\n",
       "G3mxVqMfvysah9WixglY60TeTYDiRl3vsBzSuDnYmAXnfD/4SqXXb03ce1g+0Thf+llTuPuwizbv\n",
       "xE9Mkxbv/sBKXe0CKO9sKpz0uhhacEVJeWzicr8w3enipFr0RuL8G02K3BYFkQVXxonUNnFiF9NK\n",
       "Bzf3BLhbRAsSJ4J1v+nuGbFg3FVo4kcmbmgdU6ODix7QXbqdyFiM0ky+VQgJrx9acBPQpBCbuHtt\n",
       "5bWIvdpTWqZhhCYGLhmuCD5pNlP4crsqA8iA3mZQb0L6Sorz6RXEx6+8tgxFPREc6AXTO/+vCmDG\n",
       "O+m1CDsfG+wBh1yD+sA9owvkJhyYLC7Yx3TehtPHAJffcGo0zbkB3BI9p8tp2mRxHMBLFlwdx3/S\n",
       "uM1Ckos5c4G7EkZSbZnUBm5HKZ7BFRs0UlW43EvBSTPGOO/zx2uUlpzxscifUmir2fFvlW5HmR2f\n",
       "CtOql1XhsV+LtiJ7R86XYzSoGS60RoqTcSD6YK3Z7UfH6XfT3DHDFMcF528M0D65buY7DcrlDtoc\n",
       "AMc63oRdV49Lfd4Vrr4U2v/9xXi6/wKOAJJvp2oQW1LYAAAAAElFTkSuQmCC\n",
       "\" style=\"display:inline;vertical-align:middle;\" /></a><br>"
      ],
      "text/plain": [
       "<IPython.core.display.HTML object>"
      ]
     },
     "metadata": {},
     "output_type": "display_data"
    }
   ],
   "source": [
    "unitary_gate_op = Qcircuit(\n",
    "    VertExprArray([*multi_input_entries(var_ket_psi, one, m, (one, m))], \n",
    "                  [*multi_gate_entries(U, one, m, (one, m))], \n",
    "                  [*multi_output_entries(Qmult(U, var_ket_psi), one, m, (one, m))]))"
   ]
  },
  {
   "cell_type": "code",
   "execution_count": 6,
   "metadata": {},
   "outputs": [
    {
     "data": {
      "text/html": [
       "<strong id=\"qubit_meas\">qubit_meas:</strong> <a class=\"ProveItLink\" href=\"../__pv_it/common/3e8a7f4feee99b354a7c96bca1bea3a62ffe354c0/common_expr.ipynb\"><img src=\"data:image/png;base64,iVBORw0KGgoAAAANSUhEUgAAAIoAAAAeCAMAAADErnYDAAAARVBMVEX///8AAAAAAAAAAAAAAAAA\n",
       "AAAAAAAAAAAAAAAAAAAAAAAAAAAAAAAAAAAAAAAAAAAAAAAAAAAAAAAAAAAAAAAAAAAAAAAeYafp\n",
       "AAAAFnRSTlMAIolEdjIQVJlm3e/Nu6vj4YVQXjDnVKik+QAAAAlwSFlzAAAOxAAADsQBlSsOGwAA\n",
       "AcNJREFUWMPtl9t2wiAQRbkOkAvV1vL/n1oCJECicknr6oM8RD2ycjYwM5kg1DFM3UAvGOYXZ71R\n",
       "Xo0CuBcFHyV+CmXmNbPwHUdCH9+sB4XqKuDc1jtmGnNXIU+gTLgeBeZxSBwzFOI/hn4URVDLrkwy\n",
       "cUxRgIV5ohcFPqAJxYjEMUURIUjw3ItyuaIWFGogcUxRyPHA21A+R9SEQobU0ccPk8qjMPenIH0o\n",
       "41cbyqQZ02J1dBpBwq4HLA7zWzZ0oVwvqAkFzAT2goPjonGBpP2qFs1vsaQdKPB9a0MRbt0jC46L\n",
       "Bv63OxWfXVw/bQgetQzlViJDkZObR4KjPzTHR2I+Pw8Wk/ttMZvTlHdlIC6L1mDxKAsfXiQGFSlk\n",
       "IsghZqNURnEQ0kendQwoNq+VlSitKSzmDkiM2VWuQLF1DEa1OoZaM+LlfBStKrfmCGKr222HWkbR\n",
       "lmKWm2MocVyTmbH1WIZytd2TEJVFbF0yayJVdNyqLY87UXo0myMJTLvsaWoSvOOmsfggm3EZZSdp\n",
       "2tZg7VCc46aRRyusKXF8RmdQvGPcldhAqWYUwKdQvCM7do/6BR1/bqtR73i/B/13lD95ff8BVpYb\n",
       "F9hZde8AAAAASUVORK5CYII=\n",
       "\" style=\"display:inline;vertical-align:middle;\" /></a><br>"
      ],
      "text/plain": [
       "<IPython.core.display.HTML object>"
      ]
     },
     "metadata": {},
     "output_type": "display_data"
    }
   ],
   "source": [
    "qubit_meas = Qcircuit(VertExprArray([Input(var_ket_psi)], [Measure(Z)], [Output(Ket(b))]))"
   ]
  },
  {
   "cell_type": "code",
   "execution_count": 7,
   "metadata": {},
   "outputs": [
    {
     "data": {
      "text/html": [
       "<strong id=\"register_meas\">register_meas:</strong> <a class=\"ProveItLink\" href=\"../__pv_it/common/c8958913f8ea9236158a9d213acf0596a4da005f0/common_expr.ipynb\"><img src=\"data:image/png;base64,iVBORw0KGgoAAAANSUhEUgAAAPsAAADbCAMAAACcABeiAAAAeFBMVEX///8AAAAAAAAAAAAAAAAA\n",
       "AAAAAAAAAAAAAAAAAAAAAAAAAAAAAAAAAAAAAAAAAAAAAAAAAAAAAAAAAAAAAAAAAAAAAAAAAAAA\n",
       "AAAAAAAAAAAAAAAAAAAAAAAAAAAAAAAAAAAAAAAAAAAAAAAAAAAAAAAAAAAAAAC2Ur7sAAAAJ3RS\n",
       "TlMAIolEdjIQVJlm3e/Nu6uFr6Xj4VBeMEzb13zl2dHVwXDny05goZPHBZgBAAAACXBIWXMAAA7E\n",
       "AAAOxAGVKw4bAAAHqUlEQVR42u2d65ajKBCA5SqokNnumTPdu7Nzzs5eeP83XG+JGjUx4SLE4s+c\n",
       "7bDKRxVFUZSQZQGK2VSylyzGWSVgB3bfBRHf7Bw5ZOe5Q3ZiFPfLrpg7dmlU5hS+QD7ZiXan88Jo\n",
       "t1pfw/tkr5AzdupW6o56cx1LYme2jhjDXbNzY5gvdv7GnbEXBru39cpa8KtY7ydnc5wPsTfW0/ap\n",
       "a1hfS3fzuzaVhzmeWCv9Glb5zR17YYQH9nrA517YT+8O/TpjqJ9lmPTC/vY9BXbbsvY0p2+Rkct9\n",
       "xMs/9ATf7NxIz+wTQesPNOmMl2afqjj7xNMOeWX2q6DUyKXrfnld9lk4DsvxC16ZfYbOq1nvRMp+\n",
       "cj6/a/JIgCNEI4OxM5Wlwu7cr+PIPbtMhP3ZSsAO7MnaeQ/skdq6AHuRsep8iALswA7scdj5MOwn\n",
       "kDuwAzuwAzvYeZA7sMP6HdawIHdgH5cvX1j87NaN3EHurvJpU9R5V/m0CbI7y6dNkN1ZPm1y7Px3\n",
       "Z/m0ye1NqD+4O/ZTUnInP+RhfZs/fx7Wr5M/yGHZ//qVgj/vMqf08kD842+nb4nezg99cd0pr27n\n",
       "x7RtTunoD6893idiPueUHiKf9mrYDzml/d9fmP3a4B0npzS7nVNqXjmndDbNXeWUmgP58z5ySlPx\n",
       "6yCnFNiBHXJKjxO3OYTOQz6t1wLswA7sToqn7d0kGgk6D+zADuzHYId8WtB5YH96teZgKzMqdi51\n",
       "VVS+JIqKQgkSJ3teVZRxrwrNCS40is7Os0rwIAOaVZrHZeepQlmoQgoSk85rkQUsvJLxsH/+E3gm\n",
       "+1fFwq7zLHTBOA52irPwReUx2Hle7IC++tawdl7ke7BnVO6v87zK9imFM/aF6Zlteqzca4Gz7N9O\n",
       "GonuIfWGc/4kxbawK74TOxF32WdQit1l7445zcUW9r1UfkXpb7Pn4i47Xnz4IjvSu7FXj7Mv99e4\n",
       "Gu+Pt8VTC74Y9idWk3th4wsvjrZJI+fsOL/Dnvf/O1L35Z7b7Blzq4OzhXlc7kjdYb+IskJ32bnV\n",
       "frmVnURPsF8hjapxKmTHTtuBkeP7tm7HO1G2sROqOcJU9QYcr7DjLC+b0FNzaQOfmYZE2XGmNG0U\n",
       "FK1Zu6YayzNR/ySbSuXcf0iTnZCsUO0IYWsuUVOtFnVJ++HeGWCm7y4TomM/XUNxQ1qjzOdIY7PQ\n",
       "VsDDNDcZHe7lbmfnN+p8PxXp/lULA76rJuoKqJkCKZ9bRQ86bzW/b2XvqOu/8wuSFJJRquvFYOPl\n",
       "9uz1yJC8HSTz2TBRW5eVuNdofEbikpR1tbJW/7oD+mqkRE0NSZa8oETZOyNHq0yyMxLitNGF5geB\n",
       "L24A01hRiha931Tn95aCa5mPkJpZjzVzWZGPXCCWr6160rTzywu5kjV7Cq1vyIZqdPAzr/YbUh3v\n",
       "k/UPGtzhRvZS1bP5pRpejUa9APsZqT1iorH4SNeyHuQ+RDDky7EvBzjpfG2us9TZZ1BPB1rSY3f4\n",
       "qkfs/NPbssiWPeDexDI7fXrDgtA45b6ZPX84iocwFoqs26Nk2B/fq+Gi9blbbal4yuzi4ffTBrtf\n",
       "0kqRMnv5+CgvG33vl/Mlj5B9o53Pn4xI5H27h5SSc1LVYmg5SjsvcG+xzwFShrG6f6M0Kfrn44sL\n",
       "ggo2+icFne/ldgmQNuGA/N44YFTrnlAOetNSr6BHyV605noIkDYztjRbdL7zCsb9VHOvoYdl35jl\n",
       "2tqtqwCpqIYJsBjKlKrsYqls/ExUrKFnu98Xucp+DpB21OVtb4e1fKoTPCk3sker8+cAadFQE4Oy\n",
       "26mgfGDPi+h0fvnTs4UG9Ftfnaw7xa+7Ad1qVKlHOi/V87Yu6PdxCw3o56guQNoZOYWzm0rfZu2c\n",
       "53eB053jWNHP16232nqoRNDbi1MihDj7AEOu8HnWQ1UyPm1hpXdoa7JilOzSaqtp80oozvW7TTY9\n",
       "UmnHrLh6/jXb+y3SmBV6+iZyul1l4tT5MAXYgR3Y49ib2I/9BHIHdmAHdmCPxs77yC1MxM77zimN\n",
       "Wuc5jHdgB/aE2Pl+7GjvvYmcWjzR8hsxtrWRnuQe27eBIXU+6m9Cfdu6mL8F9s0e8zfgvtlpxN/+\n",
       "+17LRHfmA5z1EYZ9H8Gvn/ECZ/sEYl9th8cSy5lOWfYz9Fle/4U/y2vVhOqgas8VfaaRfuRe6+Bx\n",
       "z+6rGxTszEZ188TK/c7q9Cx8znC111mdm85o9Xc+bVHd96PgXOKQdj4mdjiLG9iBHdiBHdgfLnCv\n",
       "EOg8sAM7sG96QML3RcIdqZGzw73AKbFfbgQ/IPvlhPDj2TqiY7d1v3ljHw4FNTs3MrjOS3xYW8ff\n",
       "+GHZ30+HneO+lsed38tvh2U/vR/Xr3v7ngK7w8suV5et1i/xwc6NyV3JfcTLP/T4P+3lTj2wI2OY\n",
       "G/aJoPUHmnSGJXthfFxhKI3hLtinKs4+8VQVLNm18ZHup41turiZkU9cuu4nS3ZiLaHl4U7s2Wfh\n",
       "OCyvOyezVXoaodhrrBn6VUKqsWcnpnQteGLsr0ZcwNLkkQDHpoKNdo1eIg/sTGXO2WsNFW7RXXwe\n",
       "McfiyAN7Rp1KHjnJFg4Rp3XYXLdOcSj2CAuwH5Q9wF7kE+V/XZdl6IFLjikAAAAASUVORK5CYII=\n",
       "\" style=\"display:inline;vertical-align:middle;\" /></a><br>"
      ],
      "text/plain": [
       "<IPython.core.display.HTML object>"
      ]
     },
     "metadata": {},
     "output_type": "display_data"
    }
   ],
   "source": [
    "register_meas = Qcircuit(VertExprArray(\n",
    "    [*multi_input_entries(var_ket_psi, one, m, (one, m))], \n",
    "    [ExprRange(k, Measure(Z), one, m)],\n",
    "    [*multi_output_entries(NumKet(n, m), one, m, (one, m))]))"
   ]
  },
  {
   "cell_type": "code",
   "execution_count": 8,
   "metadata": {},
   "outputs": [
    {
     "data": {
      "text/html": [
       "<strong id=\"circuit_Am\">circuit_Am:</strong> <a class=\"ProveItLink\" href=\"../__pv_it/common/258b2f151e538eddf59b8100725847639452a4670/common_expr.ipynb\"><img src=\"data:image/png;base64,iVBORw0KGgoAAAANSUhEUgAAAVYAAABYBAMAAABc/MJ0AAAAMFBMVEX///8AAAAAAAAAAAAAAAAA\n",
       "AAAAAAAAAAAAAAAAAAAAAAAAAAAAAAAAAAAAAAAAAAAv3aB7AAAAD3RSTlMAEHbN71S7ZqtEMpmJ\n",
       "It02cEEwAAAACXBIWXMAAA7EAAAOxAGVKw4bAAAC70lEQVRo3u3bP2gTURwH8N9LGtvmek2IUhwE\n",
       "DwMqCDG6VYRm081Mupk4CXVIwMU/S7FLdWkXUZyCYyN63QJ1CLoqhuhmpBl0cgmEqgQ1vmoSwru7\n",
       "3Df1RWz4HVwJzeP7+/Tx3t275JWod7QHHr1mEawZ6Wgmjwa5He6/dbwZGdQsgsWBzbzfZytb2cpW\n",
       "tv4LawyzCgtDxECrkodZ45g1kMQQcdCq5EFWcSENWQ9sQwglztuq5EHWuRvziFVcXV5DEEqcp1XN\n",
       "Q6yxM8WD9/ytIr6+sVLwR6hxnt2v5iHWS1SkJ/7WUD5sh8v+CDXOy+rIw+ZWEZtbYRubNEVwbil5\n",
       "bGUrW9nKVraOn7WGWc0yhqiBViWPn7fYyla2QlYziVnfarWqVTFrsIFZF7Rag43dWDOYNdTWas3s\n",
       "ylr6AVmN1YpOq1oVss7UWpD19ZuCRqujKmStBrYRq2mdTGu0OqpCVjv0FbEalMlrtDqqItbpdPg7\n",
       "Yr1Pz8r6rM6qiNUg8xtitWlrSZ/VWRWxHt0sfSES132sgWubq1kSr1aigxCH5QVeNDsvBln/VB1g\n",
       "dfvmU1hEP4keJ9ya9V1RY7JqXXaHUe8hXOJmd5b6n7svPJt1qyqHa+G+v8CQ50d5XvbpV1l7NkWR\n",
       "NbOlYwx0qw43Bh50bp4+1un877viZFSPtVP19q0jS8cWUauZkj9yFV/rO3nu27nTzNQ1WDtVxc1z\n",
       "dJ6Og1aRa0bpYvusn3WufYpCuaa8aD2N/r21W9WMJalFz4dev/qN126PXNG5fp2ywin6NCrre/qg\n",
       "0TpRCGTNRmE0VnNxfUOjdUv27GTWHtJaW3iBWCf6LpIarA8pWDHvRPnZkK1sZeu4WvfSZ8X8fQFb\n",
       "2cpWtrKVraOw7qW9ZIfmi1PIHr2Xj2xkj54a57lHT82DxsD+E3eRMSBOl6C9j0qc995HJW/s9pRS\n",
       "AptbgTo2aRLg3FLyMGsVXGtbGKKKrrUtft5iK1vZyla2Qqr//n9OfwHXbKXROjaFpQAAAABJRU5E\n",
       "rkJggg==\n",
       "\" style=\"display:inline;vertical-align:middle;\" /></a><br>"
      ],
      "text/plain": [
       "<IPython.core.display.HTML object>"
      ]
     },
     "metadata": {},
     "output_type": "display_data"
    }
   ],
   "source": [
    "circuit_Am = Qcircuit(VertExprArray(\n",
    "    ExprRange(i, IndexedVar(A, i), one, m)))"
   ]
  },
  {
   "cell_type": "code",
   "execution_count": 9,
   "metadata": {},
   "outputs": [
    {
     "data": {
      "text/html": [
       "<strong id=\"circuit_Bn\">circuit_Bn:</strong> <a class=\"ProveItLink\" href=\"../__pv_it/common/875cde12a02c294599377f9bd4e1846ad488465f0/common_expr.ipynb\"><img src=\"data:image/png;base64,iVBORw0KGgoAAAANSUhEUgAAAVIAAABYBAMAAABVF2IOAAAAMFBMVEX///8AAAAAAAAAAAAAAAAA\n",
       "AAAAAAAAAAAAAAAAAAAAAAAAAAAAAAAAAAAAAAAAAAAv3aB7AAAAD3RSTlMAEHbN71S7ZqtEMpmJ\n",
       "It02cEEwAAAACXBIWXMAAA7EAAAOxAGVKw4bAAADA0lEQVRo3u3bP2gTURgA8O/S1FwvvSZEkQ6C\n",
       "R7IIQoxSlLpYEOxUdBDciooidDEgiNahQkCig83gIC4egktPzHVzLDq4CJasRppZl9qi1ojEd5rG\n",
       "XO7P9x2+QBu+BwmhfHnfr+/dd3139wrQaa2wtt4JS4XGRe6u1SL219XWIaR1ScPCUpG7Cw0LSMZS\n",
       "lrKUpSzthzRDkyoGTZohSjPRpTmaNFagSXNEaS6yVDl7jiTd95UkDe7OLe2NI0j335qkSJVrpQpF\n",
       "GtydW9obh0szJ63xB7hUyS0tl01cGtKdS+qJw6UXwIIXuHS4qNnaCi4N6c4l9cRRKsqiVZRm0yrK\n",
       "IlaUFb32WcpSlrKUpSzdqdI6Taqv0KR1orTO11EsZSlLB0mauL5VLs3h0putcvm4KUvqkxUf0/hF\n",
       "gEUTH9MzAGpT2ph6s+LSNQPgqY1K9Q2AkZ/SpN6suHRB/GYLBipNiPFMbEiTerPi0kXxmlhFpar4\n",
       "6dCMNKk3Ky4Vx9/4J7yixIGlPJRWUT5ZUan2LXvoBOEsVb2cLRWlnaV8sqLS2C+A80VcemQVhqel\n",
       "SX2yotI9UwCjTVBuINIr4vXeVN6V02HSgwUAZRPab8HSdtZAqe+j0bt/avpZ3i+s61HmllOwRhKS\n",
       "jc43fbobc048n2H7Dcvqlvo+Qf33naqYA/UHwGz4mGrfnYKtpCp6U8bsb2eNMvvi+INqAZU6B5a2\n",
       "CYm0HGk76535rE2WTog/PafTqHRIHFiPjooPow0Z0r9ZldvTMEOV3nMWHs799nCp6qworjqfXqYl\n",
       "SNtZ9UwBvkRe9c3SVn36JZmrPtUYmeqX9AN8lCiNm0nb7I9Un1talihdg7HnUaX1U68p0njXSVGC\n",
       "9DHE3vJ1FEtZytIBku6eO718n5+lLGUpS1nK0v+T7p6dXQcmLZWyW+7NE5uyWy6kO5fUE0eY/b2H\n",
       "71NmXzn2irQDMbg79+z3xg3Urk7I0yoq1qBVVJ5YUfnotV8jrqQNmrRGlNb4OoqlLGUpS1nqbTv8\n",
       "vzh/A3pqo8U3R2KfAAAAAElFTkSuQmCC\n",
       "\" style=\"display:inline;vertical-align:middle;\" /></a><br>"
      ],
      "text/plain": [
       "<IPython.core.display.HTML object>"
      ]
     },
     "metadata": {},
     "output_type": "display_data"
    }
   ],
   "source": [
    "circuit_Bn = Qcircuit(VertExprArray(\n",
    "    ExprRange(i, IndexedVar(B, i), one, n)))"
   ]
  },
  {
   "cell_type": "code",
   "execution_count": 10,
   "metadata": {},
   "outputs": [
    {
     "data": {
      "text/html": [
       "<strong id=\"circuit_Bk\">circuit_Bk:</strong> <a class=\"ProveItLink\" href=\"../__pv_it/common/164801bb79c713609c20c1e949b5c100d33301a90/common_expr.ipynb\"><img src=\"data:image/png;base64,iVBORw0KGgoAAAANSUhEUgAAAVEAAABYBAMAAAC+INkNAAAAMFBMVEX///8AAAAAAAAAAAAAAAAA\n",
       "AAAAAAAAAAAAAAAAAAAAAAAAAAAAAAAAAAAAAAAAAAAv3aB7AAAAD3RSTlMAEHbN71S7ZqtEMpmJ\n",
       "It02cEEwAAAACXBIWXMAAA7EAAAOxAGVKw4bAAADCUlEQVRo3u3bP2gTURgA8O/SpjmPng2xaIeC\n",
       "R7oISo1SlDqJgk7SDoJrEUVwMS5FHGw1INHBZnBy0Mw9MecmDlLo4qShYKdC4qpLqKj9o9R3krTh\n",
       "7t77vrOv0pTv4MpBH9/363vvu7y7vAJsHn0bqmOrnbJZgxaO2KytXfvRB4qj7ZcNVbsGLRyxGbCU\n",
       "pSxlKUv/n9RwaNIMjRAIJ5Vm4ksTOZp0iCYNhJNKh+JL+7+TpMbYOIkQCCftemk4qdS4UShRpAfv\n",
       "jFIIwXAyqTycTGoMzb4ulnFp5ow78BgnhMJJpIpwMmkyb3nWHC69Ai68xKWhcBKpIpx8nloeraJc\n",
       "WkUFwkkryo1fUSxlKUtZylKW7lapPUeTLtGkgXBS6RI/R7GUpSzdU9LJjWLxVBmVpm6tFAs3tUnD\n",
       "WQl9egHAXMP7tHsCYKasrU9DWXGpvQywbx2X1hyAF54uaTgrLk2Jvyy1jEunRH9OObqk4ay41BQt\n",
       "ui7h0hlxjlR1ScNZcamYf8YTvKL8iTXwRVtFhbPi0srVbCGP36WsH9kjp/XdpcJZcenxKiQv4tLE\n",
       "b4DLeW3ScFZcek2cH8twKKeW9pwF6F2Dwff3VQTjm/hxONe8UEibWe850dLIr0ZX/Lp2rGx9K2Dk\n",
       "d57Tf4vVg3fKcF/Fud9rXqBZobsUpWtE9qn106/rEiTr6j6tiJE3V2EVamUNo9/KWosx+v78s8RQ\n",
       "YVIxsaCSg9t6pK2sk/YxsrRLzL+nJ3DpiPhMOZ8WFx90VFQr64NP/VWi1PQXHtcBlT70VxT+e3nr\n",
       "swbpZtZz41bsVR/Wp61jMa1x1Wevv4WdktqeXdUnTU08t3dKujjrpvVJTedVb1ypPf/LoUjH2m6K\n",
       "25f2VM27/BzFUpaydA9JO+dNL7/nZylLWcpSlrJ0e9LO2dllzD/zKLvlBkddk7JbLhhOIlWEk46+\n",
       "cfINaQfigaOPKMMaDCcbfXk4+TztmF2dkKjTKmqYVlGBcNKKGv6HlbRDky4QV9IOTbrAz1EsZSlL\n",
       "WcrSCMzu/i/OP0iQZOxR51JYAAAAAElFTkSuQmCC\n",
       "\" style=\"display:inline;vertical-align:middle;\" /></a><br>"
      ],
      "text/plain": [
       "<IPython.core.display.HTML object>"
      ]
     },
     "metadata": {},
     "output_type": "display_data"
    }
   ],
   "source": [
    "circuit_Bk = Qcircuit(VertExprArray(\n",
    "    ExprRange(i, IndexedVar(B, i), one, k)))"
   ]
  },
  {
   "cell_type": "code",
   "execution_count": 11,
   "metadata": {},
   "outputs": [
    {
     "data": {
      "text/html": [
       "<strong id=\"circuit_Dm\">circuit_Dm:</strong> <a class=\"ProveItLink\" href=\"../__pv_it/common/92aee40056143f54a3477806fae44e76cd0eed890/common_expr.ipynb\"><img src=\"data:image/png;base64,iVBORw0KGgoAAAANSUhEUgAAAVsAAABYBAMAAACpAknEAAAAMFBMVEX///8AAAAAAAAAAAAAAAAA\n",
       "AAAAAAAAAAAAAAAAAAAAAAAAAAAAAAAAAAAAAAAAAAAv3aB7AAAAD3RSTlMAEHbN71S7ZqtEMpmJ\n",
       "It02cEEwAAAACXBIWXMAAA7EAAAOxAGVKw4bAAAC6klEQVRo3u3bP2gTURwH8F+iNGlCeuUUdSio\n",
       "HBRBOLtWkDo5uDSbWxGEUnBIRChuiQ4hClIHZw3FyRPMIDgpxclJaobicBCcXYLV/hEhvhebpn33\n",
       "3r3fu7tS0v4OcmT45uXDy+/3cpe7AOxuVjds6yBz3cGAScT2v/XezYKwrYPMWbKXRI6FBIhLXOIS\n",
       "l7iHyrWRXBvpsLFcOxLXQXIdJNfBcp0o3NRsEcUVcyqHkFNzxQFx3DMPplFcMadyCDk1VxwQxbWv\n",
       "eueeILiBnMIh5tQlLg6I4t4CD94guIGcwiHmlNzAgMhW85Ct5iFbzcO2mhdpZSAucYlLXOIS9+hw\n",
       "fSTXR3J9LNenczXiEpe4x4872V2oLazquZJcHG66tFGffxphdtcBMr8RsxvMxZpdawqgUjTm5n6y\n",
       "3Ts9V5KLxX17ASB/3Zib/sN2L8tariQXi3ulATC6acwd4Yn2ipYrycXiltij8NeYa93mn0xVy5Xk\n",
       "YnE3eIFtGXN5DUFFP7uSXBxurxUy5rPLawiWnmm5klyshYy3QnbbmMtrCH5B6r6Gu5Ob+Pww1HGe\n",
       "rU+p9Z0nIdxeK1ihK4P0Mi2vocwmLLu4XBM+DriSa7ljTbb70X+ijP1vhUpZ5MqvDlv7a+g0e+1c\n",
       "+Oz2c9vQbiRRDLwVUjeMv9V6NXQHtNx+7l5CXN4KI1OQeb98Kb3YQHNPsMCLpp67m4MvibTaDPuS\n",
       "YDVz9nn5ZDVdxXKzpa36/AfQcge53PckuLVuvXaXHTB9dcBq5FfMDyDnkAeQa+OJHkA+glcwVjww\n",
       "bqFZWE2SexMmoZ07MO7aa288QW6hw+Z3MW/M9Wc+obize9biBLijVbgG3y7SuRpxiUvcY8Ydsp+j\n",
       "6doEcYlLXOISl7iHwh2y294mpr0s5qbCQE7hEHNKbmBAXDGcuvwYVQxiTuUQcupiEAc8kjfEgots\n",
       "NRfZai621dxIK0MLyW0huS0st0XnasQlLnGJS9z43CH44+0/i5djL35QvjYAAAAASUVORK5CYII=\n",
       "\" style=\"display:inline;vertical-align:middle;\" /></a><br>"
      ],
      "text/plain": [
       "<IPython.core.display.HTML object>"
      ]
     },
     "metadata": {},
     "output_type": "display_data"
    }
   ],
   "source": [
    "circuit_Dm = Qcircuit(VertExprArray(\n",
    "    ExprRange(i, IndexedVar(D, i), one, m)))"
   ]
  },
  {
   "cell_type": "code",
   "execution_count": 12,
   "metadata": {},
   "outputs": [
    {
     "data": {
      "text/html": [
       "<strong id=\"circuit_AjBkCl\">circuit_AjBkCl:</strong> <a class=\"ProveItLink\" href=\"../__pv_it/common/dddac0699649ea3711e035d09cbf6ba79ad4226f0/common_expr.ipynb\"><img src=\"data:image/png;base64,iVBORw0KGgoAAAANSUhEUgAAA8EAAABYBAMAAAAn5+glAAAAMFBMVEX///8AAAAAAAAAAAAAAAAA\n",
       "AAAAAAAAAAAAAAAAAAAAAAAAAAAAAAAAAAAAAAAAAAAv3aB7AAAAD3RSTlMAEHbN71S7ZqtEMpmJ\n",
       "It02cEEwAAAACXBIWXMAAA7EAAAOxAGVKw4bAAAGvElEQVR42u2dQWgcVRjH3yTZZrO7k7eupeZQ\n",
       "6JKAFCJpKsVSERor6EkaUBQUbBRFqWAiQhEPthqQ1YPZgyL0oIt4ykqz9SDRiqz24kHtErUXVxJB\n",
       "ENvLktDapq3rm2Qn2Z2Zfe8b5msT438gOYR//v/vfb/ZmW8mmx0h1ra6dluTSa2sRrMLLZO04ljs\n",
       "aqHXKjebTARuNaHZmox1MhnabmNSJYOM2Y5TJkEYhEEYhEEYhEEYhEEYhEEYhEEYhEE4uDlWlmac\n",
       "ofU6QyOcoS3HU1z4VMmw1qh2rLJWFYlwxzBt1QO0Xg/QCA/QeugpLnyqZFhrVDtWWauKRHj7Jdoe\n",
       "dniU0muPrB3h9jKpKy58qmRYa1Q7VlmrikLYen4yT8nf8eoBSq89snaE28ukrrjwqZJhrRHtWGUe\n",
       "FYGwNTB9Olcw52fuLfa9Y+61V9aGsEYmdcWFT5UMa41mxyrzqgiEYxOJUqJsXvXjoig+NffaK2tD\n",
       "WCOTuuLCp0qGtUazY5V5VaTzcKJEmz6KtJmnSJu0irRZxlNc+FTJsNaodqyyVhUIgzAIgzAIgzAI\n",
       "gzAIgzAIgzAIgzAIgzAIg/CWJGyXaauu0npdpRGu0nroKS58qmRYa1Q7VlmrCu/iwbt4QBiEQRiE\n",
       "QRiEQRiEQfjmEbaHacY/sRKmpoJwdMKdNZrxQVbCpNRj9VzunoIxtXv8Sm7yKFsT/alt7DIv5Caq\n",
       "bDIiYY8bhfARGuFYnZUwLfVBIeLL5tSuMSGmCmxN9KUG6zoOpcWTf3LJiMV53SiEZ2+QCCenKpyE\n",
       "San2ohA918yp81khPipxNdGfGqizXlL7VPIGk4xYnM+NQDhVXSYR/uFcgZEwLbVbiboXzanHVWnH\n",
       "s1yE/amBus771beeESYZsTifG4HwXMclCmE7u2eUkTAtNa5+2vmwOXVKfe2rcBH2pwbqzjn9SJSY\n",
       "ZMTifG4EwqXY3xTCSXFkgpEwLVWdX613zZOWc+Lsu8A2aflTg3T2PytHzQKPjFic381MuGc0cZ1C\n",
       "+H0xU+Yj7KYW9Kkzz/RPEvarxOX+3fv5Lkj8qUG61CLJjigjFud3MxNOCvuK2iteMeWXxPwJYX2f\n",
       "S7MQXk0V4oI+dU9FxB4S4o5hPeEONXk8OiF2fvcGC+FG6utZra63Me4YWufKeIpz3fpqdMJ3npm9\n",
       "LMTHQ6Yh/cUzU2MKTHJB1+tdCoW1JBrfNIRXU429ftY58xQS/Qt6wtvU5JFaVjvh1zq7lZrWKjSm\n",
       "iq68trqulZ9Zpta5Mp7iXLfYcCDhoE9MtNSO6hzbnwqSNV0BZ5TXgpB5e20ElgF2vc4IcFG434yp\n",
       "wpDqvM7VjBxrIhz4sY8nVobfq2K+oLO72FKhMXVeX13vSv4Tpta5Mp7iXLdkWduQ5r0jqb7+aCUc\n",
       "uF+r7N4R0Z1uIhzhKN1ItQZHtakJZxqbyrcQDjKeUWfN+FXxclMTIxyl3dRj9l063epFadnUOlfG\n",
       "U5zr1psnH6U/aNyONBDumWjcZ0wtcBBupCbXDzaBqc75NaGOWibC6sQpZhyrHznOw27qm79sr+jG\n",
       "WmfoSaVNrVuTsRTnuu0iT1q2c+08XjES/tk52zn7zymOSctNvS1V0l/eK917e82E96ld8AFVWOJ3\n",
       "lpsKjdRDowmtTl099nxjfnG4Mp7iGm6PUAlb40tp8Vj9PlOZO+p7RWx8qSzspxmultZTOyd0qXHn\n",
       "DwrPCSPht5y/FDjH+/Nphia6qfa1Lw03ED/PfSHMhF0ZS3Gu21eh7ksLQpnu9qv4jem+9KpHhZRq\n",
       "eg27h4aSXeG4Wmrcuxz70CZVR2sdb3F/pW8SYfvo9GlOwp8ITsLnp4tpvibGs6dSjIR5i6tlwxKu\n",
       "HvyWYtzVNJJzEN5N26/OXs9SUg83XXxEb+K2Svw1io7YOt7iPsuHfg2Hv6fGQXj/LUjFezw2jnDn\n",
       "yREQ3tKEk4NpEN7ShG9NKgiDMAiDMAiDMAiD8EYSxn+Iiy3+H+L4lAeBz/EAYRAGYRAGYRAGYRAG\n",
       "YRAGYRAGYRAGYRAGYRDeRITxRC3zWv/bT9Syzp4sUZ4Ut/NAMU54Kp5X1oawRiZ1xYVPlQxrjWbH\n",
       "KvOqSE+2vHuW9LTH2wffphwvPbJ2R+n2MqkrLnyqZFhrRDtWmUeFp9Pi6bRq61igTR9DtJlniDZp\n",
       "DdFmGU9x4VMlw1qj2rHKWlW0dwBkaaueo/V6jkZ4jtZDT3HhUyXDWqPascpaVXgXD97FA8IgDMIg\n",
       "DMIgDMIgDMIgDMIgDMIg/L8hXNdu67+tldVodqFlklYci10t9FrlZpM1Yf0Xz5s531j57y0AAAAA\n",
       "SUVORK5CYII=\n",
       "\" style=\"display:inline;vertical-align:middle;\" /></a><br>"
      ],
      "text/plain": [
       "<IPython.core.display.HTML object>"
      ]
     },
     "metadata": {},
     "output_type": "display_data"
    }
   ],
   "source": [
    "circuit_AjBkCl = Qcircuit(VertExprArray(\n",
    "    ExprRange(i, IndexedVar(A, i), one, j),\n",
    "    ExprRange(i, IndexedVar(B, i), one, k),\n",
    "    ExprRange(i, IndexedVar(C, i), one, l)))"
   ]
  },
  {
   "cell_type": "code",
   "execution_count": 13,
   "metadata": {},
   "outputs": [
    {
     "data": {
      "text/html": [
       "<strong id=\"circuit_AjDmCl\">circuit_AjDmCl:</strong> <a class=\"ProveItLink\" href=\"../__pv_it/common/fb4254066ae97daad65b0cf1d1fd7258e785e35b0/common_expr.ipynb\"><img src=\"data:image/png;base64,iVBORw0KGgoAAAANSUhEUgAAA8sAAABYBAMAAAAwxXjsAAAAMFBMVEX///8AAAAAAAAAAAAAAAAA\n",
       "AAAAAAAAAAAAAAAAAAAAAAAAAAAAAAAAAAAAAAAAAAAv3aB7AAAAD3RSTlMAEHbN71S7ZqtEMpmJ\n",
       "It02cEEwAAAACXBIWXMAAA7EAAAOxAGVKw4bAAAHJ0lEQVR42u2dX2hbVRzHfzdt1yZp/hjH3MOg\n",
       "kUIZFLrqi0yUVR988GUFQUHBVYRZHJiIMHxrVShRkPZBEfagYeypEZeJaGUqUV98UFerDMGMVhBE\n",
       "fQmrXTfZjPemucnNyT3nfHPvkWr5HWgewre/7+/8Pveec+7NTQ5Rq9WVrSVLKWU1LFzPspQRHdoL\n",
       "tCi49W7IyLfVSNE8gVWyVM/hTLjCupTZXvRgvQuyFGNmzIyZMTNmxsyYGTNjZsyMmTEzZsbMmMNh\n",
       "trJY4AxWoAyGOUNBXGGdDLPQWQXmDFpxMEOwzJisUwVhjkxihRzFCjSKYR6lIK6wToZZ6KwC8yiK\n",
       "GcwQLDMm61RBmPdvYYfZ8WmkQIJMhlkuU7rCOhlmobNyzGJA+YkFZgiWGZN1qhDM1jOvLCH+B148\n",
       "ihRIkMkwy2VKV1gnwSx2Vo5ZDCi1BjMEy4zJBBWA2RpdvlAo6v0z95YOvqYvkCiTYFbIlK6wzh9z\n",
       "V2flKwwxoMwazBAsMyYTVQDmgXysHKvoC/kYlehdfYFEmQSzQqZ0hXX+mLs6K8XcFVBmDWYIlhmT\n",
       "iSpobo6VsUVOCZvVStgSrERBXGGdbG4WOqtYgpXQJRiYIVhmTNapYsyMmTEzZsbMmBkzY2bMjJkx\n",
       "M2bGzJgZM2NmzIyZMTdaooIVsooVqIphrlIQV1gnwyx0VoG5imIGMwTLjMk6VfyQED8kxJgZM2Nm\n",
       "zIyZMTNmxsyYdwtzYhIL/L1RzKgrYzaEua+GBT5mFDPkOlafXZhdDaQLgzmSu1Y4+TpY8cxsIV81\n",
       "JgtmimA+gWEeqBvFjLluEg1uBdKFOptT9lAzNw1VPPJgmp741ZQMxCxGQzCv3IIwxxdXTWKGXGNX\n",
       "7ZcPAulCYT6ftfs7hVTceq5oS28ZkoGYu6IBmIerf0GYv7lUNIgZc404onfyQXShMB+xuxrdRire\n",
       "94D9Ep0yJAMxd0UDMK9FthDMieyRaYOYMdd9zrvrlSC6UJhzTodvIhW/5BSl83OEEDIQc1c0AHN5\n",
       "YBvBHKcTeYOYMdfUjDOCzgfRhcJ8zSnjdaDiib8bg2jRjAzE3B1Njzk6HbuJYH6TzlfMYXZdi2pX\n",
       "Z46kOf3Z7KMLg7kx1Q8iZ/PwVQgMKAMxd0fTY45Twj5srRd0/mVanyfr60LaCOYdV6Lf1a7OHEmL\n",
       "S9rsmrpDX71k5oLKmeqHbgAVTzbXQZoMXZk3weCY3WgHazjmsYsr9hB1dkK3yDl1cXHGphPfUBVo\n",
       "xL4QsTap+aLAvOOqPbidOZL+1GfX1JXpMxXmdmYjk0rMjak+hay0+xvvWboMXZk3wZokwVYNtdEG\n",
       "Jn0x+/0QpGUPd85Q/6SfzHOlnLFjbVBqKdFaIKd8wiWdZcEf5L5oXUnj6hwKg9v67Jq6G7Re9Emv\n",
       "JWtlliyrerEz1c/lRcw+1snGPz2uy9CVeROsSxJs11AXLV5R9sJ7iMTtv186MfueL7Z3cooG0x7M\n",
       "IQbtpqs1Pq10bcyR+2e02bm6572YQwzazlRvPUSDH509HDmtXD7sXLxWdBm6Mm+CwQdtN1pyCR60\n",
       "32rexdQUMppv3p4c3jCBuekabw87vq6NOfJpfXYtHX1rZG52pvp9k3THG/n++ci8ctHrHGDDaV2G\n",
       "LZknwRAr7Wa0EXgJlnAmoNyqtpA/ODOWcxC9Z2IJ5rreNlxW3waw33y7rMfc0sV+NoLZPgKj9rD5\n",
       "3Siliu2R0dfavsqMfq7P0JV5Egxx3dyM9giK2cptpunR+n26NA/U76KB3GaFEk8ZuKBqu/blVa5D\n",
       "ueuFk5+Stoht3eW0CcwL9cLCKefO7st0jpLqecX6sPCxPsOWzJNgmJudO9E+6emeNgFpuu0numLo\n",
       "nvZOjFWs12B2iXJi1cjtkWZ7mMZoPQZZYxl6Ewz/QeRv6X8Jc+LZ5QsmMZ8jo5gvL5fSBjEnavb5\n",
       "fDpuELM3wfCYa9leMVePfYEE7vcs2E1gPozhA7Oj496tD8Jjjs7T/fTjnYg1mKE3wfCY31/q+Wzu\n",
       "/S6cCcz39OzKT49oevHfw9x3Zoox733M8fE0YyZ+spMxM2bGzJgZM2NmzIx572Lmr7H7Yt5rX2Pn\n",
       "H6Xwxcy/PcKYGTNjZsyMmTEzZsbMmBkzY2bMjJkxM2bGzJgZ8/8LM2835ot5r203Zn15poxsHnjo\n",
       "aGkI2DxQlEkwK2RKV1gn2TxQ7KwUc1dAmTWYIVhmTCaqoK1A716BtgK9ffxVZLgTZLJBWy5TusI6\n",
       "2VagQmflg7YYUGoNZgiWGZMJKt7Ylzf2dVtkA1vkTGAFmsCWYBMUxBXWSbfp3kCXYBPoEgzMECwz\n",
       "JutUYY8VZLFCrmEFWsMwr1EQV1gnfawgi2JeQzGDGYJlxmSdKn5IiB8SYsyMmTEzZsbMmBkzY2bM\n",
       "jJkxM2bGzJgZs1+rK1v7v5WyGhauZ1nKiA7tBVoU3Ho3ZB62/wAXV+1eIcc6CAAAAABJRU5ErkJg\n",
       "gg==\n",
       "\" style=\"display:inline;vertical-align:middle;\" /></a><br>"
      ],
      "text/plain": [
       "<IPython.core.display.HTML object>"
      ]
     },
     "metadata": {},
     "output_type": "display_data"
    }
   ],
   "source": [
    "circuit_AjDmCl = Qcircuit(VertExprArray(\n",
    "    ExprRange(i, IndexedVar(A, i), one, j),\n",
    "    ExprRange(i, IndexedVar(D, i), one, m),\n",
    "    ExprRange(i, IndexedVar(C, i), one, l)))"
   ]
  },
  {
   "cell_type": "code",
   "execution_count": 14,
   "metadata": {},
   "outputs": [
    {
     "data": {
      "text/html": [
       "<strong id=\"circuit_aUb\">circuit_aUb:</strong> <a class=\"ProveItLink\" href=\"../__pv_it/common/04e5d420a5af1de5ec46b1867c88ba26136942ec0/common_expr.ipynb\"><img src=\"data:image/png;base64,iVBORw0KGgoAAAANSUhEUgAAAXIAAABYBAMAAAAaSmHeAAAAMFBMVEX///8AAAAAAAAAAAAAAAAA\n",
       "AAAAAAAAAAAAAAAAAAAAAAAAAAAAAAAAAAAAAAAAAAAv3aB7AAAAD3RSTlMAIquJdkTvuxBmmd1U\n",
       "zTKBpmoTAAAACXBIWXMAAA7EAAAOxAGVKw4bAAADgElEQVRo3u3bP2gTURwH8N8laXtNk1xsO7lY\n",
       "axX8U4k4CELtWbtoqQQHRy3iUhwanNShhDa0OEiC0MVBgzp0EYqCQxHM6tQOLUgHDbhFKKdVrNgm\n",
       "vmsTjO/u5f24dwixv4O8pd/e79PL+13uLq8Ajs2oNNgsXOzP3iq4vVUkmwWIzWj0QwsVM9x+oeHe\n",
       "LAUTyUlOcpKT/L+W6yZKnsHJM0g5V9WTPLSMko/i5KNIOVfVk3xmCyPXJwoYORcTy7mqXuT63f4k\n",
       "Qj77cBUj52JCOV/Vg1wfXZ/vLUrlmQ+lqZNyOR8TyR1VPcgjuVg+lpDK30EJPsnlfEwkd1T1NM9j\n",
       "eVSHlnAdWkJ2KFeV5CQnOclJTnKS/0O5lkDJu3DyLqScq0r3oSQnOclJriLXjv86AYGJFYncJaYg\n",
       "73z7sgBHthWfFAW/s+GC9Jg7YyrHfDAJEEoozpaovb95qdwZU5F/ZK9wWlFupNjQI5U7YyryH+wV\n",
       "kMzz2VsS+XU223T5dYszpiBv+caGaVmHru002KHzpiA1WARoT0rlzpiCPFhmw5xMvvPY8Wq8bVOQ\n",
       "em1POflZ0RlTkHeMsSEvkbfYYn0cwgvuKf2rc8pZqJiCPNvj6C2nPGiLwxZ0JNxTkZ9s6Aa4v9xQ\n",
       "Xo3pp3vTjeRZthd9G6qDUL6UYxPYlMijfUMFaE1B1p6jhvNL+50pdwpiw3XvSUUYC9e9d4bLF/Yd\n",
       "9hRYhNrA7c2qb5pg3CH/O5l9r3+BrAlPBH9f0Np94yILDY95NWYktbIPs2XQ7aTIH/OlNNyEbAH6\n",
       "I3H32cL6IBCXyqux9rQvcoaCgwCPHg/3XJwUyV8AbECbGVkUnRjWQLMf1Evktdhu36jKo3noLII+\n",
       "Nw43YEgkfwUtW6D3neu8LLpuuf0cEPJqDD6n/fgMPXOM9aeWWYYyPBPJtyC8ibmilMlr14x3fLzK\n",
       "DZixMXgjKlaGmZyP8v2wzz95azGU0qyioNhRuAf+ybXJ9Xn/5AfYUW9P5QXFps7mMHJtYMNEyFvr\n",
       "Tsrq8isQjWt9aboPJTnJSU5yv+TN++SfviciOclJTnKSk3xvyZt3paU+cC2PWN06vVoKIFa38jHh\n",
       "6la+qqcVxStPMSuKH1w6jJktXEy8opirurdWcUNoAdWhI7gOHUF2KFfV252FiZJ34+Td2DsLk+5D\n",
       "SU5ykpOc5E0ob47/mv8NDMl75fGvnlAAAAAASUVORK5CYII=\n",
       "\" style=\"display:inline;vertical-align:middle;\" /></a><br>"
      ],
      "text/plain": [
       "<IPython.core.display.HTML object>"
      ]
     },
     "metadata": {},
     "output_type": "display_data"
    }
   ],
   "source": [
    "circuit_aUb = Qcircuit(VertExprArray(\n",
    "    [*multi_input_entries(a, one, k, (one, k))],\n",
    "    U_1_to_m,\n",
    "    [*multi_output_entries(b, one, k, (one, k))]))"
   ]
  },
  {
   "cell_type": "code",
   "execution_count": 15,
   "metadata": {},
   "outputs": [
    {
     "data": {
      "text/html": [
       "<strong id=\"circuit_aU\">circuit_aU:</strong> <a class=\"ProveItLink\" href=\"../__pv_it/common/78ea6a3740a8c89efc5fda2f5b73175089fa2a5a0/common_expr.ipynb\"><img src=\"data:image/png;base64,iVBORw0KGgoAAAANSUhEUgAAAWwAAABYBAMAAAAjLdCFAAAAMFBMVEX///8AAAAAAAAAAAAAAAAA\n",
       "AAAAAAAAAAAAAAAAAAAAAAAAAAAAAAAAAAAAAAAAAAAv3aB7AAAAD3RSTlMAIquJdkTvuxBmmd1U\n",
       "zTKBpmoTAAAACXBIWXMAAA7EAAAOxAGVKw4bAAADiUlEQVRo3u2bP2gTURzHv5ek6eV/TAuKS2ON\n",
       "gn9aThRc1F51UKyVTB0c/DM4uNjopIsEK4pDaRGlkxhEoToFEYcuZlQ6WKFdHGzQ4lBBDlFUtNWX\n",
       "mJbz5f6V9wqe/g7ycoVPvnx473fHe3evQPPx0+lYplJOlCEV+4O0PZyQlMWZY4QMzMWJtEmbtEmb\n",
       "tP2vreqetDnMEMOAK4LaoSlP2hxmiGFAv6D21R+etDnMEMOgDlaEtNWLXXkP2jxmCGHAtRszItpq\n",
       "/4fxzqqrdhNmiGCssl/PX+4W0I6PJktJzVW7CTNEMOA55vFWqLaTJU+1zWGGGAamDdImbdImbdIm\n",
       "bdJeFW1F86TNYYYYBrTRWpK0SZu0V1M78tifvX3aBck8fVTB5gXdWVvZ9n07AoPTcrSt0sykAsVw\n",
       "C+vJAyHNrbeDn1lzQFZvW6SZyUQxUmjXnMNm2SdadNNO1H4wLkvbIs1MvkGg99kp57Av7BNwre1U\n",
       "gTVZWdoWaWbyPsJHUHUMa/nEmiFX7ROs+FVNlrZFmpkso+NhzVrZ2KvbIMFF1txy1e5hMZG8LG2L\n",
       "NBMZL2GspZwGBtKtX23CYidZ4z5xfVK7AqTdAC3STGSgilyyrEE9g2jZJmwk21RmFtrqx6YrQEDb\n",
       "Ks1EDgPnsKWKqIGYZhP2YpTVkA71tqN2/Btr2qHu7Cw6+izUOmKqcWKLNdLstG82vsMFjNQryeL9\n",
       "dq3MgmnM9Zm0m9++16+AHWxgTaNm9ZJ+olZ2pcaJLdZI4w+eHNFxx27oehrjNenY20GjXkqpvLIo\n",
       "oUgaaTakUliq3wq64mmbImGjvsFVO86u6EAakaIU7aW0B3P7Q2NVngxWGn+36vEJu9tAooRM1VUb\n",
       "r6DUn6EHyzLuJL/Trg+MhrOhLE/Glq+U3L7MUbuw3Vvrt3QX7eD5e/Xv90Upc5J62rp+pKpRjSeP\n",
       "rWS+Pelp4qpckDlxzeEdYhWe7JavvR5rJGqfxUF0JHmyLF1bufRhXJ42m1TnMBblyIi+Au222V0e\n",
       "tMPmDU3C2i1ZvETmEEcmir5cS6715xJ4jz+1s/SchLT/e22fPpandzekTdqkTdqkTdr/lLZPty+q\n",
       "e4+XvGwW5TFDBAOGZuYDIptFoU7f9bQ1l8MMIQwYPrxJrLb9uREaobInbQ4zxDCgT3SZoHtbJuje\n",
       "lgm6R+12WkuSNmmTNmmT9l+p7YN/GP8FCmxzAMYwhEcAAAAASUVORK5CYII=\n",
       "\" style=\"display:inline;vertical-align:middle;\" /></a><br>"
      ],
      "text/plain": [
       "<IPython.core.display.HTML object>"
      ]
     },
     "metadata": {},
     "output_type": "display_data"
    }
   ],
   "source": [
    "circuit_aU = Qcircuit(VertExprArray(\n",
    "    [*multi_input_entries(a, one, k, (one, k))],\n",
    "    U_1_to_m))"
   ]
  },
  {
   "cell_type": "code",
   "execution_count": 16,
   "metadata": {},
   "outputs": [
    {
     "data": {
      "text/html": [
       "<strong id=\"circuit_Ua\">circuit_Ua:</strong> <a class=\"ProveItLink\" href=\"../__pv_it/common/7046089dc6bb41a69740c2df7f027e9c665e7d6a0/common_expr.ipynb\"><img src=\"data:image/png;base64,iVBORw0KGgoAAAANSUhEUgAAAWMAAABYBAMAAADSJosIAAAAMFBMVEX///8AAAAAAAAAAAAAAAAA\n",
       "AAAAAAAAAAAAAAAAAAAAAAAAAAAAAAAAAAAAAAAAAAAv3aB7AAAAD3RSTlMAEHbN71S7ZqtEMpmJ\n",
       "It02cEEwAAAACXBIWXMAAA7EAAAOxAGVKw4bAAADEElEQVRo3u3bP2gTURwH8N+lTY2J14Qo4hDI\n",
       "YQZFMQS3urRb3ZrNzWYTnCouVgdj6+Bf6OAgTodjz+HcHESCgoiDCR1KhkDrIAgdjBYFu+ijXkLy\n",
       "7v35vd4pbf0d5Ib2e7/fh8u7l7vmFaC//VJtprFsHNWGkqKtq/hd1jSWhejVdGWITGQiE5nIu5uc\n",
       "RzWxHBRZGuPJ+SjkEqpJooIiS2M8uRSBbM1UMU2OfEeRpTGOzHU1Ix+9NoFoYl1aXEKQ5TGOzHU1\n",
       "IufPecfuaZtYpeXnd1wtWREbJvNdjcgXwINn2ibJubSfbmjJitgwme9qePl5qNGX9lFjWRrjLz8v\n",
       "yoxBZCITmchEJvL/R+6gmtgNFFka48kdevYjMpGJTOTw0e0vn6twe9PRNFHGjMmCaiZnucke4RMN\n",
       "7XlRxczPcriaCXmSvTI5bRNVzJwcrmZC/sFeKX0TVcycHK5mQD74je0K2ibKmDFZUM2AfGiL7ea1\n",
       "TZQxY7KgWriM/eCMIySPT7Gd/nZRGTMmC6qFyzxqjX0Vkot1tqtrmyhjxmRBtVAZaxoy60Ly7Bx7\n",
       "CxywrqqbBLHCu1sqsrXZ2xUriGpKcqYL443BL5H7RzddNrRa8LQ8cKg85sMrUaz/s43ebtxHVOPJ\n",
       "QwVHa1BcEp7lZjDdXFSf5SD2E9bcGAZGUzTHcWWKDtwUzxizbEJ/qCcHsSvxkINqN64fr5+4LCNX\n",
       "YTHZEpFHfGi7enIvBh/iuPz+VLPmp+E8nJSUGXOSGxnxp9/b+9vXgYbci6U/xvLpt13NzldgC17K\n",
       "ZoyF9+1TyptPHTnYVnMx3nymnPQUfNrx/TKObPt2Kz7yqJuo2V3375JXl71cfOQ1dp4P1PwdkjuT\n",
       "rzFNZgZXFEUmP4aRlr2Qo2c/IhOZyETeB38Sp+9KiExkIhOZyETe9eQ9uLSvMOGlEAso3zzxMQso\n",
       "5bFhMt/VbGAcPn0X8VZaZ1+glqlKY9zA4Lru+8XAUEY1SayjyNIYf/mVo8wYK7hbfAd3i+8gySv0\n",
       "7EdkIhOZyET+p+S98k/NvwFgHhlc0te9RQAAAABJRU5ErkJggg==\n",
       "\" style=\"display:inline;vertical-align:middle;\" /></a><br>"
      ],
      "text/plain": [
       "<IPython.core.display.HTML object>"
      ]
     },
     "metadata": {},
     "output_type": "display_data"
    }
   ],
   "source": [
    "circuit_Ua = Qcircuit(VertExprArray(\n",
    "    U_1_to_m,\n",
    "    [*multi_output_entries(a, one, k, (one, k))]))"
   ]
  },
  {
   "cell_type": "code",
   "execution_count": 17,
   "metadata": {},
   "outputs": [
    {
     "data": {
      "text/html": [
       "<strong id=\"circuit_Ub\">circuit_Ub:</strong> <a class=\"ProveItLink\" href=\"../__pv_it/common/1f22d3d970b6d5916ffe891aacec60c39dfe765e0/common_expr.ipynb\"><img src=\"data:image/png;base64,iVBORw0KGgoAAAANSUhEUgAAAWEAAABYBAMAAADW01s1AAAAMFBMVEX///8AAAAAAAAAAAAAAAAA\n",
       "AAAAAAAAAAAAAAAAAAAAAAAAAAAAAAAAAAAAAAAAAAAv3aB7AAAAD3RSTlMAEHbN71S7ZqtEMpmJ\n",
       "It02cEEwAAAACXBIWXMAAA7EAAAOxAGVKw4bAAADUElEQVRo3u2bPWzTQBTHn9OGhjSOrYCAIVKj\n",
       "ZgAJVEWdKAx0K1uyMTYDEoipbBSW8lGpfIoRscRzzeCywIAgUiXEAokyVB0qtUggITEQqPhohQjX\n",
       "z8T2ne8Zn1AL7yTfkHv6/38+vzuf7QvAdjFaAaUd1kKFGS0Faq5ITjFwbU1UmAHR1WQyREzEREzE\n",
       "RLwjiTM4jwyKWMshiTMRiPM4jzyKOFZAEuf/nFgrljAewjC31f6vOGKPXCjiA5eGMB7CMPfpn7t+\n",
       "H0XskQtDnDlhH7ol9xCHdYpp+emZKQtB7JULQ3wGbHgk9xCHdYrFx5JOsoog9sqFG3k2LvNs1MhL\n",
       "OsiRZ0eYK4iYiImYiImYiP8X4gWcxwKKWK8iiRfoOY+IiZiIibjdqt/7NQmJ4qDEY/7ThxLcWM6p\n",
       "Ieaohejj1Aqrjkl7pcYe6WNVVX3sVwtB3LWmMyP1OMWOXlMVsV8tBLFRZtWE1OMbOxLK8tiv5n99\n",
       "d3ZJ0Fph2aRVZR57v7Aqq4qYo+aX6RKtqGoWQI/0vVNqlVXjqog5an4ZoyRofbeWUlKP9DCrHFXE\n",
       "HDW/TMXkt2o/AhK07dE34c32KMQcNb/MG0Fr/DurGgAHC4Eeo2Ns6s5B9tXVIGJteavqKyDUgomP\n",
       "90+6Pgy7Uuo1JPvbI7PjM3OzM9tTdXYln/PCtn/7uFWlHYSal9glqC2bfXXe+aSaGxcovhTYx7WN\n",
       "3FmBRUtBVtR4k5tHJv4Zurm3WNYAibqUeJQNg7sAF9UQb6pdudw/cfiCQKa3AEaVq3MS9LUXzxJi\n",
       "NjnOW+7xEIF4Q00bH4HTcEQgk65CpcRfV5x/DHJieHl7/RIl3yq5562r6ZkCrMIzgQybjl+YQfdw\n",
       "GfFmmTMVrjYTueQwvBcRW9oIRCfWHb2ujrjbipX1psWXSYztcRQQz03bpjriRdbLPWVHsBK68yRw\n",
       "ZafP/swhPIqdu4MiEz+Arrp+zaTnPCImYiIm4q2y+95403cQIiZiIiZiIibinUm8+3boZYfsBGIX\n",
       "pDjMtQty9qGD2gXplQuVFfuO3sRcR2GYe6fp4FPcTlOP3D++mxcGcB4DqJEXW0KOvIEIc0UD59HA\n",
       "rehzSOIGPecRMRETMRET8d8g3h3/Pv4Nb6HK4FD0csoAAAAASUVORK5CYII=\n",
       "\" style=\"display:inline;vertical-align:middle;\" /></a><br>"
      ],
      "text/plain": [
       "<IPython.core.display.HTML object>"
      ]
     },
     "metadata": {},
     "output_type": "display_data"
    }
   ],
   "source": [
    "circuit_Ub = Qcircuit(VertExprArray(\n",
    "    U_1_to_m,\n",
    "    [*multi_output_entries(b, one, k, (one, k))]))"
   ]
  },
  {
   "cell_type": "code",
   "execution_count": 18,
   "metadata": {},
   "outputs": [
    {
     "data": {
      "text/html": [
       "<strong id=\"circuit_b\">circuit_b:</strong> <a class=\"ProveItLink\" href=\"../__pv_it/common/c8165e679fc01f73411d195287ffd82ad577b2e40/common_expr.ipynb\"><img src=\"data:image/png;base64,iVBORw0KGgoAAAANSUhEUgAAACwAAAAXBAMAAACCF7BcAAAAMFBMVEX///8AAAAAAAAAAAAAAAAA\n",
       "AAAAAAAAAAAAAAAAAAAAAAAAAAAAAAAAAAAAAAAAAAAv3aB7AAAAD3RSTlMAELvv3c2ZVESJq3Yi\n",
       "MmZ3LnoBAAAACXBIWXMAAA7EAAAOxAGVKw4bAAAAxUlEQVQoz2NgwAB83gxYgQUWMR4Gng9YhFkF\n",
       "+BROT8AQvsXAtafQhoFR2QFFOIOBeTvDBaCuBBRhB4bzaUBRBv4CZFH2BIZHHA4HGBj6BZCFuS4w\n",
       "rOZ1AFo5BcUMUQYGHYZ1QFOidi9HEn4NpRm/CsgDjeL/DwcQOz4yMG9A+FEBymALYOBHeIoT5iyW\n",
       "CQz9CCeywBhAZ+cjnNgGF77AaIdwyFq4+x8wJSB7HebAlXlIEbMBa7ywCmAVPoQ9FqdjF14AYwAA\n",
       "HXAu1bZPIIcAAAAASUVORK5CYII=\n",
       "\" style=\"display:inline;vertical-align:middle;\" /></a><br>"
      ],
      "text/plain": [
       "<IPython.core.display.HTML object>"
      ]
     },
     "metadata": {},
     "output_type": "display_data"
    }
   ],
   "source": [
    "circuit_b = Qcircuit(VertExprArray(\n",
    "    [*multi_input_entries(b, one, k, (one, k))]))"
   ]
  },
  {
   "cell_type": "code",
   "execution_count": 19,
   "metadata": {},
   "outputs": [
    {
     "data": {
      "text/html": [
       "<strong id=\"circuit_Akm\">circuit_Akm:</strong> <a class=\"ProveItLink\" href=\"../__pv_it/common/15eda79eb3c781f57941474ac993e6cf5ef9f0420/common_expr.ipynb\"><img src=\"data:image/png;base64,iVBORw0KGgoAAAANSUhEUgAAAhUAAAC6BAMAAADrH6JfAAAAMFBMVEX///8AAAAAAAAAAAAAAAAA\n",
       "AAAAAAAAAAAAAAAAAAAAAAAAAAAAAAAAAAAAAAAAAAAv3aB7AAAAD3RSTlMAIs1UmauJMnZmRLsQ\n",
       "3e++988cAAAACXBIWXMAAA7EAAAOxAGVKw4bAAAJ4klEQVR42u2dW2wUZRTHz3SXTne77VREQoLS\n",
       "+kJMNLA+I+lquKjR2ESNVUxYSWj0wbDxEngQul4gJWjYGBMSq7EJ8cGkyho1kEDsPmgDMZEawfhg\n",
       "TA0Q1BcWhFKpss7OfLtz+WbO982lpcUzD9DL6TlnfvN9c/k6//4BmptWi7RZiSBaoirIbbU4Np9i\n",
       "GkTZ7D9djZSpGnNcmCTEglgQC2IRlIXSExeLxVHbQy9X1Uj9yrFoEQJvG5vZdDQrZrFa2Mq+2ldH\n",
       "v/Bvr4ohr0r369OyBItecW6tDMoVIYtETdzjDEB3XzQWvVKTxaNlCRbrLwoTDxYBxrpELJKbu0SJ\n",
       "1GmA9ovRWEj0692ymEXr0qvCxPsL+gQQsnhuW0E4dPVaLdFYyPTr3bKYxbK2v4SJ9ROBOiOaI0px\n",
       "f1aUqD7XB8uRWMj0692ymEUu8Tf3rW+GHoaXzi7bXbRm+R19IhZJ6C25E2UefGtEXXX/UL9tFp+O\n",
       "du706leuZSGLdFad4mb1D9BehNNZlY3m9MzQ1o3Ca+pBGMy7M+3sgiPQ8TgMstF66MieJwqRWHj1\n",
       "K9mykEXSON1m3jU+OWFeujvyoF6FrwHYEWi9CN8ecwXxLHL1K0Rm4MkKNEPhJ31KFNonQWMjZltX\n",
       "ZlPFFRSMRdJ1eWBJfFrm4lAW+9at14fTjncMuEMT5jlYn/dTcBRgms3yyfrnziCORduX6zaX9VaT\n",
       "9W+boaDqU1vLt5dBY0N3Vf1zV1AwFma/1saS+LTMxWEsMnqT/+r/rzXvEEwWvSP1+WYl1vTjfcUV\n",
       "xLE4rn9tArQRxTjNs9Br9VOEjYWe5WSfK8jF4qQ+7DKX2Acci0a/1rYWbdkdV/VZETGHHMCvbhZ1\n",
       "yJdtiQ+VIHHZzcK9QJLTB+okpCr23TTGRc5ikdZHcG/OFeRK1KEnglONDzRXFdbveweG+vYetu2j\n",
       "T8tcnPdilIn8E3br7GDRmYP0NVvixyrQOg0FdFykS+zuuHXCqgxn9a5GLBbJf/RTRlF1BgWaI2a/\n",
       "mff/gHOw27aP3i2/xsUhc0TRp5Vxe+ZgoZ6Hljzc3UisXKhAajqdRVmsAHZHubNiY7GrACuhpcli\n",
       "hc7io+JBZ1AQFqxf5XgPXIUNtn30bvleLs6fRWbsUgXW1Fa6WMCSgWfg1etPrbluXKEHBl4AeGAv\n",
       "er74rnYPJMYu5UE5ZqsMyoatI+rmcy+PnTNO7gMDJUjeVXIGBWDR7HdRUZ2EH+2VvFvm4mTWL5ws\n",
       "fDb03Mm2JXCLrUOfzREU9HnEmBKFtrJSLQgrcXGSLMZlWIwLWCiHtz+SyQs6dAaFYdGtH/FUOSes\n",
       "xMVJsFi6+nnYlVW2TBWRxI4gHxad+vlePWOEIkfLERSGxcfQ0qX0V4SVuDjZNT7hk5U9CFvjS8gk\n",
       "SoR9Zg9cyacYxiJdkUjaDMJYjMq0NxoHi1FJFqMBWaRkkqZk1n5LMplKcbAoSbIoLbx1cKm13//b\n",
       "7wSq8rtBLIgFsSAWc8tiHr+LUo2/32AvvsQ5bCIe0BvdMrEgFsSCWBALYkEsiAWxIBbEgljMVcv0\n",
       "nErrF8SCWBALYhEHC6UnLhakmSDNBGkmUBakmQDSTJBmAmNBmgmrwM2lmWBaBlwzwYJwzcT41meN\n",
       "r6GaCRYUTTPBkgg1E3wxvoxdM8G0DLhmggXhmokcPGocLVQzwYKiaSZYEqFmgi/GlXFoJhpaBlQz\n",
       "wYJwzcQ16K5PBVwzwYKiaSZYEqFmgi+GayYaWgZUM8GCcM3EB2ZlXDPBgqJpJlgSoWaCL8aNC6dm\n",
       "gmkZcM2EGSTQTMCLxr+4ZsIMiqiZMJOINRNcMXcZl2aCaRlwzYQZJNBMqL8Y38E1E2ZQRM2EmUSs\n",
       "meCKucq4NRNMy4BrJswggWZiecWMRTUTZlBEzQSrJNRMcMV81y/M3WRaBr/NHoRrJpScgj2bOIKi\n",
       "aSbwSlyctGairmUQsGgG4ZqJ5dtfqfjncQZF00zglbg4ac1EJ/5ulyMI10xcqGHP786gaJoJvBIX\n",
       "R5oJ0kwIimEsSDMxr9bBSTMxj34nQCyIBbEgFkIWC+xdlBppJm5Iy8SCWBALYkEsiAWxIBbEglgQ\n",
       "C2IxD1hEfKzzehYOVjd4A7G17HtYqnENLi3kcNDmvGViQSyIBbEgFsSCWBALYkEsiAWxIBbEglgQ\n",
       "C2JBLG4WFobEKQ4WhmBqTljE0rJXYkPiFMu4ODVXLIK2HOytpsjvRzX3SbquMYwg2M+Farm6AM4X\n",
       "p+jcSdcRYkEs6P4izP2FdS2h+wvrWqLNecs0R4gFsSAWC5mFeS0hFta1hFjQvRat5dzAtRyaI8SC\n",
       "WBALYjFLLObP++C1OW8ZPaTxjbJZ/REgzQSxIBbEglgQC2JBLIgFsSAWxIJYLGwWsf3VLq0W218t\n",
       "Q1jEYnvntwZQjetoa/EPwOpsjVONWBALYnGTsMDOdXPCYnFsLBZHbQ9bB49YRY6F2K3O00TOg0U4\n",
       "37ugLFbL7LOf7x3OQsatzstEjmcR0vcuIIuE3K8JfHzvcBYSbnWeJnI8i5C+dwFZyPQLvr53OAsJ\n",
       "tzpPEzmeRUjfu4AsZPoFX987lIWMW52niRzHIqzvXTAWUv2Cr+8dysLLrU7KRI5jEdb3LhgLz35B\n",
       "2vcOZeHlVidlIsexCOt7F4yFVxWQ971DWRhudXCip/5x6mfzO6jvHXxY9GZh971rZEJ971hQMBY5\n",
       "13WIdSP0veOLcSxMtzp1yPTY+pOdgzHfO+gc8WTh8L1jmXDfOxbkYuHn9WavYttYN0LfO76Y/TbX\n",
       "5lYHCaM3he0f6nsH3dz9MliZmKUdy4T73rEgTdLrzVbFtnXjLTc3vhg3LnKGWx1jkSovyzcg+/re\n",
       "wbCyx2tc5Oy+dywT7nvHggLNEVbloR2724YLtm6Evnd8MTeLhludyWLR6/f9Zow71Peu/9bvu3gW\n",
       "Tt+7RibU944FBWHBqpz4rNTZ19Zn60boe8cXc7NouNWZLDrfBIM17nv3e1b1GBdO37tGJtT3jgUF\n",
       "YcGq3P4GaIVk3taN0PeOL+Zi0XSrM1l0r2PXO8z3Trm80ePc6fK9a2RCfe9YUAAWzSr9sAs6srZu\n",
       "hL53fDG/9QuTxXB6Ar3XN30yy58qyPqFaWknyOQICvqcWt/Owz7oVm3d+GyW7x1fDGGR0WmrE3kB\n",
       "i3Ed9c5WfxbM0g7P5AwKwUK/KPTDcNLWjc9m+d7xxXxYKFumiuoZ+Byexp57TN+79q5FB/xZMEs7\n",
       "PJMzKASLdB/cCbe9bevGZ7N87/hi2BqfnIdcVmKNL5jvXZg5wnUTohjGQspDzjLHQ1gE872LwELK\n",
       "qs+vGMZCykMuJbP2G8z3LgKLlCQKz2ILbh08tioLjkUMYcSCWBCL2Sg2n9+/8NqL2N+/+A9m9v0j\n",
       "jtLWawAAAABJRU5ErkJggg==\n",
       "\" style=\"display:inline;vertical-align:middle;\" /></a><br>"
      ],
      "text/plain": [
       "<IPython.core.display.HTML object>"
      ]
     },
     "metadata": {},
     "output_type": "display_data"
    }
   ],
   "source": [
    "circuit_Akm = Qcircuit(VertExprArray(\n",
    "    ExprRange(i, [ExprRange(j, MultiQubitElem(Aij, Rij), one, k)], one, m)))"
   ]
  },
  {
   "cell_type": "code",
   "execution_count": 20,
   "metadata": {},
   "outputs": [
    {
     "data": {
      "text/html": [
       "<strong id=\"circuit_Bkm\">circuit_Bkm:</strong> <a class=\"ProveItLink\" href=\"../__pv_it/common/eecfbfcc438f759802c00845f57dcb87d1a4058f0/common_expr.ipynb\"><img src=\"data:image/png;base64,iVBORw0KGgoAAAANSUhEUgAAAgwAAAC6BAMAAAAwpAh9AAAAMFBMVEX///8AAAAAAAAAAAAAAAAA\n",
       "AAAAAAAAAAAAAAAAAAAAAAAAAAAAAAAAAAAAAAAAAAAv3aB7AAAAD3RSTlMAZrurzTLvInZEmRDd\n",
       "VIkafcLnAAAACXBIWXMAAA7EAAAOxAGVKw4bAAAI+ElEQVR42u2dTWhcVRTHz2Qy85JMkzeEdlEV\n",
       "OptqQaTRdBH8INVFXQg6m5YikfRDqQrSoS4URRNbweBXA0I3ERoXolQpUwVxFbMRJKLMykXtIlAF\n",
       "F6JP22JbqeObd++bN2/mvnPunXeTdtpzoVPy7sn/nPnlzZs3l/ufA9Acbj3NsK+DjnRJxPDUypBi\n",
       "uPZ1rMRhgzEwBsbAGHoXg4u+Ha0xhtH6+PgjZUrh7OnVzTgGWzoWkqjykGfDAYDsJUK1bxa+8Ijy\n",
       "bemkTqLMQ2FwLgMMXiVkTwFkduIV2tJJn0SZh8KQ8eFmLhOyfszgLF6hLZ30SZR5KAxZf7L/EK46\n",
       "+BdAroxXaEsndRJ1HgpDvgSFB9t/pfDp2/O5XZ/MTcgf67+SFdrSMU+ilYfCML1tbkexfWqqAttg\n",
       "w0MwXRE/b6lfqBAV2tIxT6KVh8JwvALD+wHOBFeUwkYx9aOfsdy3D1yZs3C0vi+cFJGuWqfwx3iV\n",
       "0lk6/wCig2KQxUZDiKjztJwsG0kMd/r//izn5pYbP+x9NziWu+bPrvaVwG1eZ4auyEkZ6ap1hmBo\n",
       "mdJZhM8RHRSDSBIdlSLqPNGQ5WAYLjTOoVkYDvTgXPA47Gu4pUjWZ1y41pxUly903HnnEqVzBWbK\n",
       "STrf+H/dwkWQDwlJWp6DEEmoNxrnOjC03arm/IsqTM7HMQR0F5uyhTH/HfvfNgxqnUy1FYNa5/YY\n",
       "hrjOhkX/YQXkQ1KSj/YeGxgtR8Wo89y2aW7sja0tT0u92BMAHvjHV7kIcQzwPMDJ+aZsY25oFT8b\n",
       "Qh0YWSZ14HfkrMJeFDLJmRPF/NjAWCSizFPYvB8OwrGEs6FNud+/lJx4rB3DnjI8Dv2h7JB/BToP\n",
       "OIZQB6aqpE7u+y4xyCSvvgluOeAZlq3K43y907+NOq2FIbv9wviOe6Adg3P6/Hxu8uBT2w8GsoP3\n",
       "j9dwDE0d525a50i1OwzNJBOwBzbUWjAo82Rnc/vgB72zIX6tCctXD/QSKccr8BKl4yw6le7OhnA8\n",
       "A0dhJtdStnLkywMlxyubYiis0hiWiPKdrbs/o3SO7H6yupQGg+P558PoUFSMesz450OmtBiVQ2Nw\n",
       "fvlvNvcCvP7Eb8myjck9tUZkcoX5et2jdA77F2pKB8UwOAaPwovvRCLq8QH0V5yJalSO5urTsMZ6\n",
       "Rk3jJtiWDrnEVdNadBo2XIRboCUHqxoV2tKhMDRF8LFgiKFIS2Z0KrSlQ2HI6C1BFnlJtpcX6F3b\n",
       "xTIGxsAYGIM5BltbJmxv83BtF2u2o0SH3XrouNe1XsbAGBgDY2AMjIExMAbGwBgYA2MwysafMHm9\n",
       "gTEwBsbAGHoKAxsJEp4pGwlSJAE2EiTmoTCwkSB4ZCNB8MhGguCRjQTBY8xIIPf4Y0YCaRXAjQSo\n",
       "jphM0kExtBsJpAhlJJDlaBsJxB5/1EggrQK4kQDVEZNJOiiGdiOBFKGMBLIcbSNBuMcfMRJIqwBu\n",
       "JEB1xKRax9BIIEUoI4EsR9tIIPf4Y0YCaRXAjQSojphU6xgaCaQIZSSQ5egbCcQef9RIIKwChJEA\n",
       "1ZGTI8Yvik4jgUxHGQlERn0jgdjjjxoJhFWAMBKgOnJyyvgS2WkkkOkoI4HIqG8kEHv8USOBsAoQ\n",
       "RgJUR0wqdVAMCiOBTEcZCURGbSOB3OOfMAQGYRXAjQSojpzEddCbishIIH0LyhEZCWRGbSNBY48/\n",
       "imEpsAoAZSRAdYSRANdBMURGAimiHpGRQJajbSQ4jO2TEkaCvFicx40EqI4wEuA6KIbISJBP+vqe\n",
       "xoiMBLIcNhKYLMKxkSC8+aIGGwlu7iVZXqBnDIyBMTAGlfKN+n2Ra7XNw7PHbj10eO8TY2AMjIEx\n",
       "MAbGwBgYA2NgDIzhZsDgpnN3d6njdm8uT/chkvxzuOup43Z9WtiqlzEwBsbAGBgDY2AMjIExMAbG\n",
       "wBgYA2NgDIyBMTCGdcXQsPvYwNDuFlorDPp5jMoP7D42zoaVdTobVozqNdqQ5Fr6UhlXNzr4m4Jx\n",
       "+q5/4Ua9NqzwJZLfKRgDY+D7BuTJRO8Wt/Z9w8o63Dfwi4IxMAbG0MMYjN6obl4MRm9U/KLgZRde\n",
       "duHbJ742MAbGwBiuN4Ye2zPtrs2e6WDwDnrGwBgYA2NgDIyBMTAGxsAYGANjYAyaw9Z3SVn/TirX\n",
       "erHYp3DP0h/Zs32yuGt0bjIGxsAYehIDuhZ5C2HATos1xpBpfL39VlKhs2uYZ12HxqCZBIy6nImj\n",
       "+RLAJNU/TdE1zLOuo3E2aCUBsy5n4ujMLMDJRUJW0TXMs66jgUErCZh1ORNHt5Tj7WCUQ9E1zLOu\n",
       "o4FBKwmYdTkTRyf9f7squKqqa5hnXUcDg04SMOxyJo4eAPjy2/Ypja5hnnUdDQzKJJCuy1lwNPf3\n",
       "3LGHO6Y0uoZ51nVoDOokkK7LWXC00Rzop6LsYAZ3yBcU0uUsjPGUOrKfGKoTjzHBIJNEI/Mdkqcj\n",
       "DMHg/y6MXJIdzCA/H/yHdTkLYzyljuwnhurEY+IYEtt7tSZpGc8heTrC1O29gqPumOgwKdrzzIgY\n",
       "rMtZGKPWkf3EUJ14jGZ7r1ixzeF4WL3tYeodA8HctP8r2SvhUxx13m/STehyFsZ4Sh3ZTwzViceY\n",
       "vChkkqh9Wab08irQXc5kGPKiOO5fSqZ3hk9x4rWvgksL1uVMxnhqHdFPDNeJxZhgEEla2pdl3/r5\n",
       "UFKezjAEwy7/XfbpavgUn60F3aLQLmcyxlPriH5iuE4sxgSDSNLSviz/HpST8nSGJWO4r9GRudnB\n",
       "zLn6sXwxJXc5C2M8tU7QT4zQicUYYAiTRO3LZk6Vk/N0hGl80BbdDUsfOsjNWSxG/UFb9BPDdeIx\n",
       "XXzQjtqXjQ4uJ99TdoTpYVjy+U2N4BiiGDUG0cEM14nHdIEhal82kVteTczTEUZjEB3M+irZTcnl\n",
       "x2PUGEQHM1wnHtMFhqh92V1wb/LH7o4wzdUnnaZhNY3Vpy51jFefdLqpAdnlrP2oTtOwKMazrmOM\n",
       "YUEPw4IZBp2mYRmNtchudYwxFPUwFHllugdXpm2EMQbGwBjSp7ph9zfYL7Yj1f9XEY6HfLDCsQAA\n",
       "AABJRU5ErkJggg==\n",
       "\" style=\"display:inline;vertical-align:middle;\" /></a><br>"
      ],
      "text/plain": [
       "<IPython.core.display.HTML object>"
      ]
     },
     "metadata": {},
     "output_type": "display_data"
    }
   ],
   "source": [
    "circuit_Bkm = Qcircuit(VertExprArray(\n",
    "    ExprRange(i, [ExprRange(j, MultiQubitElem(Bij, Sij), one, k)], one, m)))"
   ]
  },
  {
   "cell_type": "code",
   "execution_count": 21,
   "metadata": {},
   "outputs": [
    {
     "data": {
      "text/html": [
       "<strong id=\"circuit_Bkn\">circuit_Bkn:</strong> <a class=\"ProveItLink\" href=\"../__pv_it/common/bc6570053c33837722a8f16a152a03e3267c86f10/common_expr.ipynb\"><img src=\"data:image/png;base64,iVBORw0KGgoAAAANSUhEUgAAAgQAAAC6BAMAAAAjc0iJAAAAMFBMVEX///8AAAAAAAAAAAAAAAAA\n",
       "AAAAAAAAAAAAAAAAAAAAAAAAAAAAAAAAAAAAAAAAAAAv3aB7AAAAD3RSTlMAZrurzTLvInZEmRDd\n",
       "VIkafcLnAAAACXBIWXMAAA7EAAAOxAGVKw4bAAAI9klEQVR42u2dXYgbVRTHT3Z3kmbT7SzFPlSF\n",
       "LkKlINLFrVC/2LUPfRE0oC1FWrYflkpBGvqiKLrB+rAUaReEvig0PohapaQKIj6sBSlCBQmCPohg\n",
       "pAo+SJ1+bO22tOvM3Hsnmbl3zr2TmYQsewbaZjsn//PPL5OZ5PLPHoBgs5fSbC0dyEoH29KZjWtj\n",
       "Q4qt/c5ORjpZ1CW7OyEgBISAEPQjAsVJ3+kJgrVLExPbyjqJX8821+MI0usobDodmZW7aI6C/QCD\n",
       "CxrNgSp84WiOgtQ6BgiMmii64AgKNwGKtzSiZwByUziC9DoGCIyaKLrgCHIu1NxNjahbU6ziCNLr\n",
       "GCAwaqLogiMYdNsMHcI1i1cArDKOIL2OAQKTJqouOIL8GJSejJ5hSp8cn7O2fzy7lf+49Jf2iqDU\n",
       "gW9mP4UXDr92rGqgY4BA3UTvFkcwvWl2y2h01+4KbILVT8F0hf28YelaRYNAqWN9752bvmtY/xno\n",
       "GCBQNjFwiyM4WYGRfQDn/PNH6R6260e3W3lgL9i8X+ntpb1iJ6uUEDCd0uWJepvO6iZYC/AgwJU2\n",
       "nflLTyh1DBBws+LZx9yKTbYrIXD9wb9la/a898Oud9mTd8fd2xwYAzs4qwwv8p28UkLAdIZh+HxL\n",
       "B6YbAHfhAYCbbTo1+FypY4CANRH/h7oVx6FsV0JwzTtyqjDiV8Jv/t8jroI91hJ16ZbuBDvVCJiO\n",
       "PVdYaOnA73MAV1sImM4izJRVOt7N0nX3r2+n+A0JATcrNtQt32S7EFlGsLxDdHIujMDnWgtES+Pu\n",
       "Ffl2BEHkbSzXydVDCLyj4FaAgOvcF0IQ8XPRe/nU+I0Ys7kPdx3Xur133WwNYtu0g13lnqis6xBG\n",
       "AIcBTs8Fot6+4SZ+FAgdWHO+TSdfg+JigEDowD8QdxTgLwTe5Nyp0XxF47a0fh8cijkKIi2H3BPH\n",
       "qWeiCHaW4VkYEqLD7vnmEuAIhA7srrfpWAdhqAnbOAKhY/3QIQLe5I13wK5r3Ba+noLbRggGN1+b\n",
       "2PIwRBEUzl6asyYP7Nl8wBctPj7RwBEEOoWH2nXg9cuPwfM3Hv3pxnibztF6ZwiCJlvhlNbtYLW4\n",
       "1+woCJ81AuvKDT0discMr+p0CrVCpbOjQGwH4Yyl65IvD9fKSRGUmnoE8xoEhY07PtPpHN3xYn0+\n",
       "DYKCAxd+1nWZgdV7yvMJEBT+vFu1XoG3nvs7XtTbubPhVcYjyLvXB53OEfekrNIxRlAchxOjui7v\n",
       "wao/1HaxN40jBssvDYNVow51zF8Ixl2UdjEE7+sli3UDBB3qJERg0EVtF0MwqtfMmawddqiTEIFB\n",
       "F7VdWj5dFovodtZmCQEhIASEAL97v0Ys7MzNGic54q7J3XkCsrxHdm4JASEgBISAEBACQkAICAEh\n",
       "IAQrGgF9UqT1AkJACAgBIehLBBTGpzA+hfGBwvhAYXygMD5QGB/6JYzPc/JYGJ/H7fEwvtBBwviy\n",
       "TuIwPupWHCGyXQlBKIzPcvJoGJ/H7fEwPtfBwviyTuIwPupW3JLtSghCYXyRk0fC+Dxuj4fxuQ4W\n",
       "xpd1Eofxcbf8frJdPIzPc/JYGJ/H7fEwPtfBwvgKHa8mSRgfdcvD+DFt2sFGwvgsJ4+G8VncXhPG\n",
       "5zpYGF/SSR7GR9wGYXzZbhRBJIzPcvJoGJ/F7TVhfK6DhfElneRhfMRtEMaX7UYQRMP4LCePhvFZ\n",
       "3F4Txuc6WBhf0kkexsfcijC+bDfuWskQ8Jx8zMYQsLg9HsZHdfhOSSdxGB/tIsL4sl0EQanp5+RR\n",
       "BPN+3B50YXxUh4XxZZ3EYXy0Cw/jK+zGIOBh/CNYLomF8fPsCoCH8VEdFsaXdRKH8dEuPIyvsIu9\n",
       "aaQwPoXxKYy/gpdPaRGdEBACQkAIllPEwqYwfq/cEgJCQAgIASEgBISAEBACQkAICIFyUyze9UAH\n",
       "WzvshVvl05DZp3Snsyff6aVbQkAICAEhIASEgBAQAkJACAgBISAEhIAQEAJCQAgMRP1vxtgZ6XQd\n",
       "QRZuZTMXMzoKLvbkKEjiNlEyJ23Cx0nc1ftqVkKzSd32+7nA/2oWnQ4JASEgBPS+IHxVWLHvC1pX\n",
       "BaeXbumFQAgIASHoRwTsqrCiEbCrAr0QaMmElkzorRGdCwgBISAEfYAgo1RvMh27wwyy3Y0Msvkz\n",
       "0NmTm/k9KIxPCAgBISAEhIAQEAJCQAgIASEgBJm4tbNJUmWmgyLILPiVGrYKu531wdaFX/AFhIAQ\n",
       "EIJlg6Cbv/t0uSDoXhMUQc77VesbtQryPCqnOzpZNFF0QY+C/BjApG4ml2IeldMlnfRNVF1QBDNV\n",
       "gNM1jahiHpXTJZ30TVRdUAQbyu3jR2I2xTwqp0s66ZuouqAIJt0/2yu4pmoeldMlndRNlF1QBPsB\n",
       "vrwQ3WUwj8ox0dFPz0qGQN3EwC2GwLo6e+xpaZfBPCrHREc/PSsRAnUTE7cYAm8IzS+jfDIW3M9f\n",
       "Qsj0LFHjKHX4QCuhg0zPitFBEfAmYkPdRooQBO49Yc0Cn4wF+Tn25CHTs0SNo9ThA614DTY9S62D\n",
       "j47iTcSGuo0UtSOIfE/JHmcTCtkomBlWg03PEjVqHT7Qitdg07NidNDRUcIs33C34SL1yoEPdtq9\n",
       "w+CieHhrCycCrjHTs0SNo9ThA614DTY9K0YHfSHwJnwwFu42UoS8EE66J47pKfHwtr75lX8iwaZn\n",
       "8RpHrcMGWgkdbHqWWgdFwJoEg7Ewt9EiBMF29zr6Ul08vJcblv8vNj2L1zhqHTbQSuhg07PUOigC\n",
       "1iQYjIW5jRbFI3jEm9obTMYq3PqI7UKmZ4kaR63jD7QKdJDpWWodFIFowgdj4W4jRQYfltmUvLEP\n",
       "CsjbrlBNzFQnf6AVrhOu6eDDMh+MhXeJFJkhmHfJ7V6DI2jVqN2xyVi4TrimAwR8MBbeJVKkR8Am\n",
       "Yw1UBtfFi4Zr1O7YZCxcJ1zTAQI+GAvvEikyXDVqGKy+NAze2Galg+806aJqgyEo1vWSrRqn6zr4\n",
       "TpMuyjYYgpyBZs7AXVY6+E6TLso2fb2ITivI6EYICAEh6B6Cfs0XZG821OZ/OEGMSqc8rXwAAAAA\n",
       "SUVORK5CYII=\n",
       "\" style=\"display:inline;vertical-align:middle;\" /></a><br>"
      ],
      "text/plain": [
       "<IPython.core.display.HTML object>"
      ]
     },
     "metadata": {},
     "output_type": "display_data"
    }
   ],
   "source": [
    "circuit_Bkn = Qcircuit(VertExprArray(\n",
    "    ExprRange(i, [ExprRange(j, MultiQubitElem(Bij, Sij), one, k)], one, n)))"
   ]
  },
  {
   "cell_type": "code",
   "execution_count": 22,
   "metadata": {},
   "outputs": [
    {
     "data": {
      "text/html": [
       "<strong id=\"circuit_Ckm\">circuit_Ckm:</strong> <a class=\"ProveItLink\" href=\"../__pv_it/common/caa799cf4ec0f4044a31a9913f486eb8c0f54ea50/common_expr.ipynb\"><img src=\"data:image/png;base64,iVBORw0KGgoAAAANSUhEUgAAAggAAAC6BAMAAAA5T6gHAAAAMFBMVEX///8AAAAAAAAAAAAAAAAA\n",
       "AAAAAAAAAAAAAAAAAAAAAAAAAAAAAAAAAAAAAAAAAAAv3aB7AAAAD3RSTlMAEHa7q2Yiie9Umd0y\n",
       "zUTye3nKAAAACXBIWXMAAA7EAAAOxAGVKw4bAAAJ6klEQVR42u2dXWgcVRTHzybZySbZZJdKiVTB\n",
       "NK3fCFGDCBaaxvTBz67kTavGVi32ZbdS6IOU1lKFNsVGfFOxUdGClRqtH5gKXYoPta20IGjBhyYg\n",
       "WPDBrUX7YW2cmXtnd+Z+nLmzMxsScuZhs909e8+Z39y59+7tP/kDVI/cTIyjUmsnoWbQYyb+oU6V\n",
       "g/oP/2crMdqpJBxnVjFBIAgEgSDMDwiKAX32ICzqHypsQD9/w6Ghw/2PfYFDSC0bWm2VsGZSh/sf\n",
       "OTT0a48GQgWr2zSHJk0YhKYdeXj7K7TZ5XkYBViNQ7htKbQdKGDNNK2CzAS0FOqHEJ5DkyYEQuqB\n",
       "MkD7P2izA2BdAXgPhXDdd/bDZyNYMy0AxXFom6obgkEOTZoQCJ2v2g9d27FWrQKkLwMsRSGcydsP\n",
       "59DqXgB4dgya8nVDMMihSRMCYduY/ZAdx1rtsumeB5jCILRedp4dR6uzG1iTd1qrE4JJDk0aHIL1\n",
       "r3tPlIW3lvQehB93r1vujS72TYbPDkU34EZxjPrgjqnsmY97B70XRpHZIRSCOoeq3NFos0PrX6p3\n",
       "sl9Dcw98OZb1xorieAiEbT2qdk6MwD3Q8RCc4vexM7TUD0GdQ1GunAaH0ME/l3ra/bH4tPujowTZ\n",
       "q3A/wN881L7JgiEihCPsNFNbhvK11uAbgFPl5u2Q40O1M7QEQ6JAOCINiZpy05cVUQiEjJs6BUfv\n",
       "dJH2sm5/yj7ni3AvgNdP7JssGCJC2Os+y7dDu/M2C4WsXUyu1NwHOX4NnaElGBIFAs/h6wGacp00\n",
       "UhTWE9zU7wK8477UxlrdZw8uF/wQ3JvMHyL1BPetcm7KuuoLvWYH9vkgOENLMESAcJN90VL/8SdS\n",
       "T2A5fJk15QojmFwxBFelbIVQEiA4aK/4WmU3WQCCsFvhzt6tkM77z9DtCeM+CM7QEgwRmulwxp5J\n",
       "70lOneOjo8ubhstIuW4aMSqnXI6z2cH5XGtegJAZh65rvlbZTYb1hKJzmpuctiZqobAb4M8pHwRn\n",
       "aAmGRJodWI7F5wqZgaYBpFwnjRSFrRP2FaBrk3CGkN0DnSX4qdpq5/kwCG32mPS7c7ueyPsgHCvD\n",
       "L9BZg3DWfdMfEgUCz/HcXZArt5eQcp00UhS6bP5w6KB4hgAbtzwO31969K1LLsrNKy8MhkCAJf0P\n",
       "O6sp627wQbD2b57Krtn5w8qdbg94cKa/RwiJtGLkOQbhGHSMacvlacQok6/SQQjKA4XAj43wog+C\n",
       "8giERPsCxY49sAyK2bByxShDCN3hELpDIFgrTr6fKqEQgiF1QLAq9lUebg8pV4oygLDh7MtwbMza\n",
       "erFH22wgRAMhY4/j2V1uqO4IhtQBoWsAfobnl4aUK0WZ7iyNhe/PjBnsLLWFN9NW335C5HI1FSMQ\n",
       "uvKhLVZDMAjT4ZVNJwDBoFxdxQiEdHiTaZM9xkJ4O4UEIKSNOkKaNlrn75a76WsEgSAQBIKQOASY\n",
       "oyIN1Wu5Rok06iOXxLVO+hMJlksQCAJBIAgEgSAQBIJAEAgCQSAI9C1ynkn9aVOFIBAEgkAQtJPM\n",
       "7EEgqT9J/V1uJPUnqT9J/YGk/tWXSeoPotSfy/AxqT8PwaX+3ZtXuf9EpP48JJbUX1duUOqvqFjI\n",
       "EZT6cxk+JvXnIbjUfxwOuFcIkfrzkFhSf125Qam/omKxJwSk/p4MH5H68xBc6n8Nis4og0n9eUgs\n",
       "qb+u3OAIpqgYlfp7MnxE6s9DcKn/E+wMMak/D4kl9deVG5T6KyoWZ4eg1J/L8DGpPwsJkfrDK+4j\n",
       "JvVnIfGk/ppyBam/XLGYIyj15zJ8TOrPQkKk/tnP3XcwqT8LiSf115QrSP3liqVlc0Dqz2X4mNSf\n",
       "hYRI/dez4QuT+rOQeFJ/ZbmS1F+uWDdzsjPkMnz14Q/Bpf7WuKVf4QdC4kn9sXLFKGOpvyPDRyFU\n",
       "Q3Cp//qTx7XC42BILKk/Vq4UZSz1z2DypkAILvXfGxiAg0cwJJbUHytXiiKpP5DUPwoEkvov8I1W\n",
       "2nInCASBIBCE6svzSKQxQ1L/WSyXIBAEgkAQCAJBIAgEgSAQBIJAECK2qPr/20Y3k8Cf/K8kCaGS\n",
       "zNf4XKTLVKn76iZULkEgCASBIBAEgkAQCAJBIAgEgSAQBIJAEAgCQSAIiUFwfwEnPgT3l3kaD8FN\n",
       "kzwE9xdwEugJk7PTEyYjQYgk74kpE6qejWlSdkEjfayecuf4mDBJAyPNDgSBINA6QTqV2gyxkNcJ\n",
       "k41fJ9DtQBAIAkGYdxDYYL/Qe8IkQaDFEm2qzNKmCt0OBIEgEASCUMcxMze0zTNRy00UQpTLEP0C\n",
       "J/8JIKk/QSAIBIEgEASCQBAIAkEgCASBIDS83IT+dFMuEW0XDiHXsD82VUnmAueS7m+VxnRLgkAQ\n",
       "CML8goCNmgsGArbb3GgIBi5bCkcwGUK4sZjKqisahPAcoHUEQyEYuGwpHMEkCAbGYiqrrkgQDHKA\n",
       "1hEMg2DisqVwBBMhmBiLqay6okAwyQFaRzAMgoHLlsoRTIRgYCymtOqKAsEkB2gdwRAIJi5bKkcw\n",
       "EYKBsZjSqisKBJMcoHUEQyBoXLZCHcEECBpjsXBHsAgQNDlU5Y5Gmx3ULlvhjmACBLWxmIEjWAQI\n",
       "mhxg6AiGQPBcthY7CiVI82kQcQSDp3oUEDxjMe7zxWMwRzCeKgKEDmlI1JUbdASTKxYhcJetbC/r\n",
       "72+wdxBHMMhMKSB4xmLc54vHYI5gPJUAQWeG5c/hOzTlBh3B5Ir9q1O/y1abW5jFAxFHMChKi1yo\n",
       "GYtxny8egzmC8VQ5QzMsXw7ftKUpVxjBlBX70XOXLQ4h3beu5KHVOILBsHWr3BM8YzHu88VjMEcw\n",
       "nirC7eDleHJt78DNK7Byg45gcsXS7OCUt8mD0HLLm6+7KBFHsMGXrh+RZwfPWIz5fPEYzBGMp4oy\n",
       "O7AcqWdeg52wHCtXcASTKhYheE5eDELmdnDZYY5gO8ayinWCZyzGfL54DOYIxlNFWSewHNai03AV\n",
       "9mPlCo5gUsXSnMFdthiE4id8FtY7gllXPlUum7mxmOvz5cVgjmA8VaRlM8vR0pPdDt/qyxUdweSK\n",
       "dRMngzDcNYF8i2AugX1/WPqv0szny4tRH8ygi6eq46t0ptzUZ1XKYeVWHcHkihEIqRIMZidKKIRu\n",
       "+zqcaNVDcHy+ajHqbyLMEYynqgNC0W4/3TceUm7NEUyuWAPB2nqxJ7sL7oPVZW31zBGseaRlrR6C\n",
       "4/NVi1Ee3BGMp6oDwm/QOWIN5kPKrTmCyRVj60gDJ6+aCxeys2Tg1NWWwM6SSbnqijEIBk5eNRcu\n",
       "PQQTp67pBCBMGzFQVYxBMHDyShvsMZo4dRUSgFAwgpCe77vNCeWYTxASCCMIBIEgxIEwV/UJKgjJ\n",
       "6hP+BwxmSvqP5HUfAAAAAElFTkSuQmCC\n",
       "\" style=\"display:inline;vertical-align:middle;\" /></a><br>"
      ],
      "text/plain": [
       "<IPython.core.display.HTML object>"
      ]
     },
     "metadata": {},
     "output_type": "display_data"
    }
   ],
   "source": [
    "circuit_Ckm = Qcircuit(VertExprArray(\n",
    "    ExprRange(i, [ExprRange(j, MultiQubitElem(Cij, Tij), one, k)], one, m)))"
   ]
  },
  {
   "cell_type": "code",
   "execution_count": 23,
   "metadata": {},
   "outputs": [
    {
     "data": {
      "text/html": [
       "<strong id=\"circuit_Dkn\">circuit_Dkn:</strong> <a class=\"ProveItLink\" href=\"../__pv_it/common/9755c4232e2b60123471639b8eb384872d80278d0/common_expr.ipynb\"><img src=\"data:image/png;base64,iVBORw0KGgoAAAANSUhEUgAAAgwAAAC6BAMAAAAwpAh9AAAAMFBMVEX///8AAAAAAAAAAAAAAAAA\n",
       "AAAAAAAAAAAAAAAAAAAAAAAAAAAAAAAAAAAAAAAAAAAv3aB7AAAAD3RSTlMAdrurIs1mVDKZ70SJ\n",
       "EN02Mxp8AAAACXBIWXMAAA7EAAAOxAGVKw4bAAAJW0lEQVR42u2dX4hUVRzHf+5eZ2d3dr2z/SEC\n",
       "qUULKgj/rJQV1apBCMVabz05CIEh5dJTL+VIRNaDThCRhWERafTgQm+COv2xJ6ntRUgW3LCHNohG\n",
       "TVN3bbvn3nNm5tw993d+Z87s5uDvgIO78/Xc73zuOXPvPZyfX4B6C+e8Wq3Rk19Hc0Brnn6zjhOC\n",
       "V6sZ/9pCC9usc/z3jIExMAbG0CEYQuzrfUEx3DK3cu3KEbyDTX+dG4NHLxVRDEtWXRhesQ7vKHji\n",
       "34eh+8hzmRhQRmS/ZsP4aLgEkPvH0u1P49HHrFpGQ7gFYOcY3lH/TPSyHDwwkPwaDaMY8uejl48s\n",
       "vW6N/vROWDDsi+D3HsQ7WiqkB3wwkPwaDaMYllyJXk6U8F4vRH+6bd8Nd5cBCpct83Moelntg4Hk\n",
       "12gYxdAlPsNoFe20IM7ApA3DKjH5Z3F7J6IRM1D1wUDxazaMYojPz77UCYJfBj+Gt77ccGvyJdMv\n",
       "zsAOGwZxBvIXAe3pp2jE5MZ9MJj9UgyjGMSMhp0puvnfoKsI58byf8c/LhMzvmLBEE/aXHo0pHr6\n",
       "Q8xZ8MFg9EsyjGIQMxqeHB94Mf7p9Jakmyrkr8ADAMlUP7s6ntG6Zt4FU5yB7pmBU8Piq0lqUz0N\n",
       "XIznrK5xwyD9ql+ihnURikHMaLgGu++KoQ5OJcij694srAA4H/+4K/pGCoopTRpDPGnDg73QK95P\n",
       "tOmeeoTLDaBr3DBIv2oUoIZ1EYpBzOhc5O6N+KeepNdd4+KNeq9iRvePpDRpDPGk3VkKxwMxLKQ2\n",
       "1VM8Z78HXZP6pGejUzdwCeRLmOVXNtywJtIwpO5T4xl9Zij1EQXcq029ysuPpkmvwIhJO/AZ5CY0\n",
       "DHpP/bV4sOqaULe0TMzpaZAvYYbfl7YPVqyGdVFoXoEJ6zP63vRH7KtAYaZpjEUzeR1YRoOYtF1i\n",
       "EvZPNWHQe+q5HtkbSWmcJoX0O7DjC/jcZjglwiaFuK07Xkl/xPxhWFqF51WvSyuwqWzDEN24FeKT\n",
       "uHeiCUOqpxcgWJ/WOGGQfoOft8B1m+GUCMHQveri8Ir3If0RYfOpx+DNa+tfvZZ83X77SBEsGNbO\n",
       "Da+9X5zo4EFowpDqqX/le5DWuGCo++0uFg5aDesi0oO2jsHc0NGg2mZ4qhmDsWkax0crOdnKvZWy\n",
       "zbAuomKYJGCYtGEI7ttzQNwuYxh0TUsYRmHZ22WbYV1EwfDM1m/g3bHg5Gwxu1ddk4GhL7pw5A/F\n",
       "2uyzpGlawvA1LPnBalgXkVefxghrOGOU1aceQkc9La43uBqui6gYChP2PhsaDMMxgrtj/hgohhsi\n",
       "KoYcodMcaS2yROip5I+BYrgh4iXZTl2gD9vvlzEwBsbAGJw+b9u2eYRt335hxDC3ONtJ2gvfq6fw\n",
       "fzXMGBgDY2AMjIExMAbGwBgYA2NgDPTGT5i83sAYGANjYAydhoELCTKcciFBxptcSED2y4UE2Ya5\n",
       "kMCOgQsJ6jOaCwn0QgK5wx8tJFAavJBg8rvHYX5PeiGB1PgUEuCGdRG9kEDu8EcLCZQGLySowCcw\n",
       "vye9kEBqfAoJcMO6iF5IoHb4Y4UESoMXEszAaHl+T3ohgdT4FBJYDGsieiGB2uGPFRIoDV5I8LLE\n",
       "gBUSSI1PIQFuWBc5FBLIHf5oIYHUWAoJ4EeY31OqkCDReBUSYIZTIodCArnDHy0kkBpLIUH+TzD0\n",
       "pBcSJBqvQgLMcErkUEggd/ijhQRSYykk2Dhh6kkvJEg0XoUEqGFd5FBIIHf4ZzRNgxcSBJUAeQzU\n",
       "NF6FBKhhXUQvJBA7/HEMDQ1eSLBxzzvZG5p1jU8hAW5YF9ELCfq0dfd00zV4IcERbMeVrvEpJMAN\n",
       "6yIuJHBahONCgrhxIcFNvyTLC/SMgTEwBsZg+vUN/P9FciFBywfnvU+MgTEwBsbAGBgDY2AMjIEx\n",
       "MIYbC0Po91QGhofPmttxHQ24HcZ5LaF9z/i11k5o6GiYMTAGxsAYGANjYAyMgTEwBsbAGBgDY2AM\n",
       "jIExMIYOwiCKfdqCIS4WWgQMseG2Y4iLfdoyGqYXB0NsmIrBbV9T+/YbkeXJ4HE0UHM7zFwHfDdM\n",
       "81ckXykYA2Pg+wYEQ+NqcXPfN0wv9H0DTwrGwBgYQ0djSK4WPBqmGQPfPvGyyyIuu/CkYAyMgTEw\n",
       "Br82164902FH75lux0Dw6okLCRgDY2AMjIExMAbGwBgYA2NgDIyhkzC0bXeX7z6xGu0j+frNeAiv\n",
       "tesc+44bIgbvpQTGwBgYQ6diQNcibyIM2LBYSAyUbDJbaBg9fsyYcuaEgeTXbBgdDZRsMktomEP8\n",
       "mCnlzG00kPwaDaMYKNlkltAwh/gxU8qZGwaSX6NhFAMlm8wSGuYQP2ZKOXPDQPJrNIxioGSTWULD\n",
       "HOLHTClnbhgofs2GUQyUbDJLaJhD/Jgp5cwNg9kvxTCGgZRNZgkNc4gfM6WcOWEw+yUZRi+YSTYZ\n",
       "nBYbhyD3a/IWlnIGrxSNGGT8mIwukyI05UwdzemCKf3KhhtWTZpBMMhssvzgVPy7r5K3sJQz6Bs3\n",
       "YpDxYzK6TIrQlDN1NB1DZrxXs9/6L1HDqkkzNeNTe3M2GfTEvgKpxFLOYHTejW990uYuq+gyKUJT\n",
       "ztTRiPFeml91P4Yblm3UdByNrswmkxhyQxuqCm5WyhlsC5YbRoOKH5PRZVKEppypo7lMCpWl9sHu\n",
       "O+2GZcqZMoNMCpVNlmDovu31OBYMTTlb8/SZkfkY6nFpSXSZFKEpZ+poLhik39NHS30jNsP1lDNp\n",
       "BsGgsskSDH13QDk+tVjK2adjecNoqMelJdFlUoSmnKmjuWCQfp+9HcIJm+F6ypk0k42hnk2WYBjd\n",
       "X07eQ1LOgqsfGr4iG3FpcXSZEqEpZ+poDhjqftfAUbthmXKmzBAetBMM2wpT2DNikoA4dDxAHrST\n",
       "6DIlymhJ7Jg6WisP2odhf95qWKacKTM0DNFN7pr8VBXHMBkh3tuPYBDRZQ1RxvN2knKmjtYChugK\n",
       "8ftrVsMy5UyZsWMITs4W84fgHnionN1rknLWNdK9HcEgossaooyzlKScqaO1gKGwGpaXrIZlypky\n",
       "Q1x9omSTNYLFsNUnSvpYj//qE8mwMZcNw0DJJmsEiyEYSOljx/wxUAybc9kwDCVCpznKWiQpfazk\n",
       "j4Fi2JzLxivTHYChHTLGwBgYg+dxbuT9DQvht/k4/wFppM14w8wsjQAAAABJRU5ErkJggg==\n",
       "\" style=\"display:inline;vertical-align:middle;\" /></a><br>"
      ],
      "text/plain": [
       "<IPython.core.display.HTML object>"
      ]
     },
     "metadata": {},
     "output_type": "display_data"
    }
   ],
   "source": [
    "circuit_Dkn = Qcircuit(VertExprArray(\n",
    "    ExprRange(i, [ExprRange(j, MultiQubitElem(Dij, Uij), one, k)], one, n)))"
   ]
  },
  {
   "cell_type": "code",
   "execution_count": 24,
   "metadata": {},
   "outputs": [
    {
     "data": {
      "text/html": [
       "<strong id=\"circuit_AkClm\">circuit_AkClm:</strong> <a class=\"ProveItLink\" href=\"../__pv_it/common/56c6aa83ffec64de67bf3672da6a054ab7d0838c0/common_expr.ipynb\"><img src=\"data:image/png;base64,iVBORw0KGgoAAAANSUhEUgAAAhUAAAGCBAMAAAClQSwrAAAAMFBMVEX///8AAAAAAAAAAAAAAAAA\n",
       "AAAAAAAAAAAAAAAAAAAAAAAAAAAAAAAAAAAAAAAAAAAv3aB7AAAAD3RSTlMAIs1UmauJMnZmRLsQ\n",
       "3e++988cAAAACXBIWXMAAA7EAAAOxAGVKw4bAAASnElEQVR42u2dbYwdVRnHn+nd7t3d3t2piART\n",
       "ZesXYqLSlZiYiKRXw5soYaM0FsF0JWmjCaQbxcAHodeXkmJRbogJicWwCdHEZIU12kAC2vsBVhqi\n",
       "XWNR5EVqgIBG01sKpbbAOnPOmTsv55znOfOyt93tMx+2d3ufe55nfnPOzJmz879/gN7mL5ba4oag\n",
       "XENdcNsWq9gsyXwosyU/3S3VUrfiuCKNMAtmwSyYRV4W3vqqWJxVtjz0ctUtVa8bi1Uk8KF9J697\n",
       "dIJmsYEsZffi3kd/Yy+viyHvOtdrKdmBxUa6bX8OvDdJFrVFusaTAOOT5VhsdBoshpIdWFx6hGx4\n",
       "Rwtg31qKxcCWtVRD9eMAa46UY+FQr7lkmsXgOW+RDd89HQwAksXXtk+TXTfItaocC5d6zSXTLM4d\n",
       "Oko2HJwI6iepMeK17p6gGgrH+o65Uixc6jWXTLNo1v6nvfX4rivhmy+fu7MVj/IPTlIsBmBjO9tQ\n",
       "44ofzNQv+MyuzYlR/HS5c6epXreSSRYjE/Vj2qj+M6xpwdMTddWbR07u2no5eU19AHZMZVu6bS08\n",
       "AqNfgh2qtz70yB3XTJdiYarXsWSSxYA43TbuEb/sl5fu0SmovwW/B1BHYPAIPPFYJkhn0QyvEI1t\n",
       "mzrQC4W/BkNies0h8FWP2b62cV0nE5SPxUDm8qAasZSsxaEsdl9yadCdbv2RgLtrQZ6Dg3F/DB4F\n",
       "OK5G+aHw93SQxmLot5dsmQtKHQjflqFQD4a2P7VmDnzVdS8If88E5WMh64031YilZC0OY9EIinwn\n",
       "+PdiOUOQLDbOhOMtbtgPjvebmSCNxZPB/y2AP+OJ07wKPRGeIhIsglYOTGaCMiwOBN2u8bp6obGI\n",
       "6o23i9GSs3Fdy4qI7HIA/8iyCCG/kWj4oTbU3siyyC6QNIOOegiGO8ndFP2iGbMYCXrwxmYmKNPQ\n",
       "aNAQHIxe+Jksqt6f3Ltr8s6HE/toKVmLMy9GSeS/VFPnFIuxJoycSDR8dQcGj8M02i9G2mp2PLgQ\n",
       "Z4aXg6pmYhYDbwenjFY9HZRrjMh6Gz/9F7wCOxP7aC75O1ocMka8YFiJ6VmKRf1VWDUFH4ka9g53\n",
       "YPj4yATK4jxQM8rbOgkWt0/D+bCqx+K8gMX9rQfSQXlYqHq9J9fDW3BZYh/NJX9ci7OzaOx7vQMX\n",
       "LZ6fYQFnb/sKfPvdL1/0rrhCb9v2DYDP3omeL55a/CjU9r0+Bd5jiczgXbZ1pr7llW/te0Wc3Ldt\n",
       "a8PAh9vpoBwsevWubtUPwV+Smcwla3Eu6xdpFpYNPXeq7Wx4T6JCy5YKyns/IobE9NCc150mM2lx\n",
       "jizmXVjMEyy8h2/5QmOKqDAdVITFeHDEh+eaZCYtzoHFORu+DrdPeDccayENp4IsLMaC8339JRGK\n",
       "HK1UUBEWP4dVa73NHTKTFue6xkfeWSWDsDW+mktDtaL37LkzWZJhLEY6Do32gjAWsy7lzVbBYtaR\n",
       "xWxOFsMujQ67rP22XVpqV8Gi7ciivfzWwZ3Wfs+0vwl03XeDWTALZsEs+sviNH4WpVt9vfkefKmy\n",
       "25Q8oKe6ZGbBLJgFs2AWzIJZMAtmwSyYBbPoV8l8n8rrF8yCWTALZlEFC299VSxYM8GaCdZMoCxY\n",
       "MwGsmWDNBMaCNRNxgpWlmVBaBlwzoYJwzcT81uvF/6GaCRVUTjOhGiE1E3oyPU1SM6G0DLhmQgXh\n",
       "mokmXCWOFqqZUEHlNBOqEVIzoSfT0qQ0E5GWAdVMqCBcM3ECxsOhgGsmVFA5zYRqhNRM6MlwzUSk\n",
       "ZUA1EyoI10zcJzPjmgkVVE4zoRohNRN6Mq1fpDUTSsuAayZkEKGZgJvET1wzIYNKaiZkI7RmQkuW\n",
       "TZPRTCgtA66ZkEGEZqL+vHgH10zIoJKaCdkIrZnQkmXSZDUTSsuAayZkEKGZWNeRsahmQgaV1Eyo\n",
       "TKRmQktmXb+Qu6m0DLYtGYRrJrymh92bpILKaSbwTFqcs2Yi1DIQLHpBuGZi3S03d+ztpIPKaSbw\n",
       "TFqcs2ZiDH+2KxWEayYOL2L37+mgcpoJPJMWx5oJ1kwQyTAWrJk4rdbBWTNxGv1NgFkwC2bBLEgW\n",
       "y+xZlEXWTJySkpkFs2AWzIJZMAtmwSyYBbNgFsziNGBR8rbOdC+cL2/+Aior2XpYulV1Lr9gd/D7\n",
       "XjKzYBbMglkwC2bBLJgFs2AWzIJZMAtmwSyYBbNgFiuFhZA4VcFCCKb6wqKSkk0NC4lTJf3iYL9Y\n",
       "5C0531NNpZ+P6u2Tc17RjSDf5wqV3F0G54uDfO7k6wizYBY8vygyv4ivJTy/iK8lft9L5jHCLJgF\n",
       "s1jOLOS1hFnE1xJmwXMtXss5hWs5PEaYBbNgFsxiiVicPs+DL/a9ZPSQVtfLlvQjwJoJZsEsmAWz\n",
       "YBbMglkwC2bBLJgFs1jeLCr71i5/sbJvLUNYVGJ7Z1sD6FZ1tP3qO2B3qfqpzyyYBbNYISywc11f\n",
       "WJxVGYuzypaHrYOXzOLGgnarM5rIGVgU873Ly2KDyz7bfO9wFi5udSYTOZ1FQd+7nCxqbn8msPje\n",
       "4Swc3OqMJnI6i4K+dzlZuNQLVt87nIWDW53RRE5nUdD3LicLl3rB6nuHsnBxqzOayGksivre5WPh\n",
       "VC9Yfe9QFia3OicTOY1FUd+7fCyM9YKz7x3KwuRW52Qip7Eo6nuXj4UpC7j73qEshFsd7F8fvh5+\n",
       "Rr6D+t7Bz1pmFknfu6gl1PdOBeVj0cxch1Q1pO+dnkxjId3q6rukx9a/1TkY872DsRkji5TvnWoJ\n",
       "971TQRkWNq+3ZJbEpqohfe/0ZMlpbsKtDmqiNk/tH+p7B+PafBnilpSlnWoJ971TQb6j11siS2Ib\n",
       "x0vubXoyrV80hVudYjE8d+5UBNnqewd7vDtM/aKZ9L1TLeG+dyoo1xhRWT53686hPdOJakjfOz1Z\n",
       "lkXkVidZrP7up/8p+h3qe7f5vX9aq7NI+95FLaG+dyooDwuVZf+D7bHJoclENaTvnZ4syyJyq5Ms\n",
       "xr4PgjXue/faRN3QL9K+d1FLqO+dCsrDQmX5wPfAnx6YSlRD+t7pyTIsem51ksX4Jep6h/neeW9c\n",
       "bjh3ZnzvopZQ3zsVlINFL8tmuB1GJxLVkL53ejLb+oVksWdkAZ3rS5/MuV95yPqFtLQjWkoF5b1P\n",
       "DbdXYTeM1xPVWLbY905PhrBoBLTrC1MEi/kA9W2DdhbK0g5vKR1UgEVwUdgMewYS1Vi22PdOT2Zh\n",
       "4d1wrFV/CX4N12L3PdL3bs3a1ffaWShLO7yldFABFiOT8CF4312Jaixb7HunJ8PW+Nw85CYc1vjy\n",
       "+d4VGSNaNQWSYSycPORiczyERT7fuxIsnKz6bMkwFk4ecsMua7/5fO9KsBh2RGFMtuzWwSvLsuxY\n",
       "YLUxC2bBLE4hC37+oizBUj1oKT8C/IwSs2AWzIJZMAtmwSyYBbNgFsyCWSxzFn5l976VO6Z3K6+X\n",
       "+BIEv7Je062613SXqKcyC2bBLFYMC/wcfWaxwL87qA8snty7qX0O2sIfn9v0wt4vPkOxaOzedK03\n",
       "hTXUeGHvV5/b9LFWGRZ0FkvJDiyGXuvAJ/6ONryzA/8FuJZi8eO7oHYV+nfloethbAFWt8uwoLNY\n",
       "SqZZNH43DTBwBG14Erw3AD5FsHjqb8GPq9GHnFYDjDehNlOChUMWS8k0i1X/CX6MHMLa9dowfBTg\n",
       "LoLFBZ3gx4Nohe8HuH8ChjolWDhksZRMs9gePtpSb2INjwQH9G2AGZzF4NHw1c1oiUETWzphe4VZ\n",
       "uGSxlEyy8N4RAyX7cFVWgTC2QF5HxkXIH7Jny4xoIhzFZa4j5ixOJZMsBo+b3skqEMJRTrHY3jK1\n",
       "lBVNhKO4DAtzFqeSSRaj6qNKDyG1E5oCIRzl6RCdxYtyb5UeQgVroolwFKdD8rF4UTtrYiUn+uc9\n",
       "NIsx8W5D6SEi7URWgRCO8nSIzuKweNVRegilr9BEE+EoTodkWdg0E/K1ypLoD1jJ8WZIlp7mhjjF\n",
       "u5+MNADy+V9NgSBHeTLE15YFXhRvTis9RBScFU2Eozgdkm3HqpkQ9aosiR1CS463i017n+YsZxZT\n",
       "GRZZBYIc5SkWWr8Q1/zBSA+hgrOiCTGK0yH5xkiUJRZNYCXHkglDMv06En50sJNhkVUgDB+lWYyH\n",
       "e3sjKD2ECs6KJtQoTobkvI7ILAnRBFJyI5ZMuLAIVX0jN2Z2NKtAgFVv0yxqwUnrF+EYFXqIiEVG\n",
       "NAEbxJvJkHwsVJaEaAIp2YslE04sGp/fdGV2R7MKhK37Tm4mWcDje68J5zZSDxGxyIgmrlvc28qE\n",
       "5Jx3qiw90QRaciyZcGKRPrfUFpDJHMFCbVIPEbEwbqmQYvfsPdEEWnIsmcjLYp5mMU+yUHoIjEU6\n",
       "pBCLWDSBlhxLJvKwkHqIUDthbTgVYmWh9BBhsPVopUIKsYhFE2jJsWTCkAxf13JQIEw4rWs5iCZq\n",
       "1axruYkmarnX+BwUCL0QnIWDaGK2EhaOoonZ3CwcFAjDbuudDqKJdiUsHEUT7RWxDt49Y9fB8f9k\n",
       "FsyCWZxCFvz8RaEjvyQHo9KPAD+jxCyYBbNgFsyCWTALZsEsmAWzYBbLnAXfs/NaDrNgFsxiJbDg\n",
       "vxVh7bBmAmPBmon4NWsmeq9ZMxG/Zs1E7zVrJuLXrJmIX/dPM6HUDJhmQoVQmon5rdeLXxHNhAop\n",
       "qZlAS443QzItT1ozERlAIJoJFUJpJppwlThaiGZChZTUTKAlx5shGaGZiNQMiGZChVCaiRMwHp6D\n",
       "MM2ECimpmcBL7m2GZFq/SGsmIjUDoplQIZRm4j6ZG9NMqJCSmgm05FgzYUimX0fSmgmlZsA0EzKE\n",
       "1EzATeInppmQIWU1E0jJSc2EnkzPk9ZMKDUDppmQIaRmov68eAfTTMiQspoJpOSkZkJPZpiDpzQT\n",
       "Ss2AaSZkCKmZWCdPXZhmQoaU1UxgJSc0E3oy+xxB7qhSM5i3ZAilmfCanv2eIRVSVjOBlRxrJgzJ\n",
       "UBbzQs2AsuiFUJqJdbfc3LHeLKRCSmom0JJjzYQhmTWPFESMYU+6pUIozcRh5FuG0yElNRNoybFm\n",
       "wpAMX9dizUQMu0M2ypoJQwhrJvq/Dn7mfncQ/p/Mglkwi1PIgp+/KHTkl+RgVPoR4GeUmAWzYBbM\n",
       "glkwC2bBLJgFs2AWzGLFsih7j2u4zc6XN7+XY2UlWw9Lt6rO5RfsDn7fS2YWzIJZMAtmwSyYBbNg\n",
       "FsyCWTALZsEsmAWzYBbLm4WQOFXBQgim+sKikpJNDQuJUyX94mC/WFRS8hk6RvI94lX6YbHePjnn\n",
       "FUMK8n2uUMndZdAvDvJ1hK+pzIJZ8FyryFwrvpbwXCu+lvBci88XzIJZMIs8LOS1hFnE1xKeX/Ba\n",
       "Dq/l8LmTWTALZsEsVh6L0+d58G7fS0YPaXW9bEk/AqyZYBbMglkwC2bBLJgFs2AWzIJZLFMWlX1n\n",
       "l1/Nd5YRLPyqnh6rDr/hg37Fva+7JF3VZxbMglkwi5XIgjj194EF6Z6mG6dZWFC2cbrXG/WdqH6B\n",
       "LOaS3ViQ7mm6cZqZBWkbp3u9FWDhYE5n8XqjWdDuabpxmpEFbRune73lZ+FiTmfxeqNZkO5pBuM0\n",
       "IwvaNk73esvPwsGczub1RrKg3dMMxmlGFrRt3Izm9ZafhYM5nc3rjWRhdE+jjNNMLIy2cZTXW24W\n",
       "FnM6J683koXJPY00TjOxMNrGUV5vuVmYzencvN5IFpF72v714c8nRDmY19sWG4vINk7aqsk4zOvt\n",
       "iW4RFqPaWRMpORNEslDuafVdok/VBBHE6w0utLGIbOOUrZqIw7zeRKrcLKIs8YaUnAmi+4UInYaa\n",
       "YCG9oRCvN2kLZewXyjZO2aqJOMzrTaTSWdh971JZ4g0rOR3kY8s3CY82xWJ0JoJs8XqDZ42TZYht\n",
       "45St2rO9fmHxehOpdP88xPcumSW2cUNKzgT52MJO0qNNsjggj57d663RtV5HIts4Yasm4zCvtwPF\n",
       "riMyS8LGzV5yNogcI5FHm2RxoTwp273e5Og0zi8i2zhhqybjMK+3C4vNL2SWhI2bveRsED3vVO5p\n",
       "koU0iUO83uToNM/BlW2csFVTpnSI19tlBefgMkts44aUnAlyvmeXLJ7t2KMFi9FZ6p5d2qqNIv5N\n",
       "0p5NpCpynyrHRM/GDSk5E5SHRWMKui2UxTz4QxSL0FYtijPfLEivN5GqMIvYxg0pORPkysK74Vir\n",
       "/hJcMWMNll5vAz+kWIS2alGc+WhJrzeRqjCL2MYNKTkTlGtdi/Zom3Bc1yI92GrF13JylmxLRrAg\n",
       "PdoibzWKBe3BNlsRi1kXFrMFWJAebcOO6520B1u7IhZtFxZtXvtd1uvgVQYzC2bBLJjFUrE4bZ9F\n",
       "qbpeY7L/A5xWg4O/INHrAAAAAElFTkSuQmCC\n",
       "\" style=\"display:inline;vertical-align:middle;\" /></a><br>"
      ],
      "text/plain": [
       "<IPython.core.display.HTML object>"
      ]
     },
     "metadata": {},
     "output_type": "display_data"
    }
   ],
   "source": [
    "circuit_AkClm = Qcircuit(VertExprArray(\n",
    "    ExprRange(i, [ExprRange(j, MultiQubitElem(Aij, Rij), one, k),\n",
    "                  ExprRange(j, MultiQubitElem(Cij, Tij), one, l)],\n",
    "              one, m)))"
   ]
  },
  {
   "cell_type": "code",
   "execution_count": 25,
   "metadata": {},
   "outputs": [
    {
     "data": {
      "text/html": [
       "<strong id=\"circuit_BkClm\">circuit_BkClm:</strong> <a class=\"ProveItLink\" href=\"../__pv_it/common/ef132338ff9e69c19ce9bf002934388cc59eb1e60/common_expr.ipynb\"><img src=\"data:image/png;base64,iVBORw0KGgoAAAANSUhEUgAAAgwAAAGCBAMAAAB++oYJAAAAMFBMVEX///8AAAAAAAAAAAAAAAAA\n",
       "AAAAAAAAAAAAAAAAAAAAAAAAAAAAAAAAAAAAAAAAAAAv3aB7AAAAD3RSTlMAZrurzTLvInZEmRDd\n",
       "VIkafcLnAAAACXBIWXMAAA7EAAAOxAGVKw4bAAARV0lEQVR42u2dXWwc1RmGv42zXttre1YWXNBW\n",
       "wlKUthKtMJiLCKiS9iJctCp7Q4RQqgQogv6guHBBBSp2E9SmpS2WKuXGVTGVqlJA7gbUCvXCcStV\n",
       "Ku4Pvkh7QZFqCSpVooKhEPFXcGfnnNn5O+c738yOlzh5R4pJdj6/35nHszOzh/P6Jept3lY/W/U6\n",
       "7NZfE7X5ZmXqY/Oq16mkjtuAARiAARh2LgaPvR1tM4aprdnZz7VdCi+sbF7GY6hKp4Impj7Os+E2\n",
       "oqFzDtVdC/S07xh+VTp9NzH2cWFovE00+q5D9gmi2gF+hFXp9N/E2MeFoRbArb3tkA1qRhf4EVal\n",
       "038TYx8XhqFg5+47edXR14nqbX6EVen03cTcx4VheJqa12e/pfn49xfrB39xcp/+59a/nCOsSqd4\n",
       "E1EfF4Yjnzx5TSu76/AcfZLGP0NH5tS/L996Y84xwqp0ijcR9XFheGSOJm4lOh1eUZqXqF1/DTq2\n",
       "dx0lT/dsHt86Gu1UlZ5Zp/nqbMels/rSdYwOi0EPNt6UiLlP4mS5xInh48Gf19r1k2vdf9z8g/C1\n",
       "+vvB3s1d0+T1rjNj7+idutIz64zR2JpLZ5meYnRYDKpJ/KoWMfeJNz0cDsMb3XNogSZCPXox/DoR\n",
       "aHjTsWzAuPl+b6d5+ErHW2ycc+m8Q/Ntm86Z4KfbfJP0F0uTxDEoEct44+3FHIbMo2o9uKjS/sU0\n",
       "hpDuck+2ORPcsd/LYDDr1DpJDGadj6YwpHXGl4Mv66S/2Jo8dvOJkal2PBhzn49cenLm23sTh2We\n",
       "7AkBj7wVqLxJaQz0VaJHF3uy3X1jm/zZEOnQ5JpTh/7DnFXcm0I3OX2qNTwzMhOLGPs0L7uVbqcT\n",
       "lrMho7w7uJSc+nwWw6E2fZF2R7JjwRXoJeIxRDp0uOPUqf+pJAbd5IGHyGuHPKNhm/o0nj0QPEat\n",
       "iDAMXfnG7DWfpiyGxspLi/X9t3/pyttD2dFrZzd4DD2dxhVunXs65TD0muyjQzS+kcBg7DO0UD9K\n",
       "f5GdDelrTTR888ZeIvV2P93n0mksN+bKnQ3Rdgcdp/l6YtjGbbg9Mt3w20UxNDfdGFYdw2/svelJ\n",
       "l849N93SWe0HQ8MPzoepsXgw5m0+OB9q08vxcNwYGi9/sFC/mx688d922e7OQxvdSvsIh7e2fJfO\n",
       "seBC7dJhMYzO0A1078OxiHn7Me2ea+zrxMMRzj5NCOYzNgQPwVXpOKe4NkSTThMFJ+GW3JKjHcEI\n",
       "q9JxYeiJ8NtSQQwtt2RNMsKqdFwYarIpyBamZHfyBL1X9WCBARiAARiKY6hqyUTVyzy8qgdbbEWJ\n",
       "hN0gdLwPdbzAAAzAAAzAAAzAAAzAAAzAAAyFuuETJuYbgAEYgAEYdhQGGAksRwojQR9NCEYCax8X\n",
       "BhgJwq8wEoRfYSQIv8JIEH5NGQn0Gn/OSKCtAryRgNVRO206LIaskUCLuIwEejhiI4Fa488aCbRV\n",
       "gDcSsDpqp02HxZA1EmgRl5FAD0dsJIjW+DNGAm0V4I0ErI7aadYpaCTQIi4jgR6O2Eig1/hzRgJt\n",
       "FeCNBKyO2mnWKWgk0CIuI4EejtxIoNb4s0YCZRVwGAlYHb1zsvCbIm8k0O1cRgLVUW4kUGv8WSOB\n",
       "sgo4jASsjt55uPAlMm8k0O1cRgLVUW4kUGv8WSOBsgo4jASsjtpp1GExGIwEup3LSKA6io0Eeo2/\n",
       "ZVMYlFWANxKwOnonr8M+VMRGAu1bMG6xkUB3FBsJumv8WQyroVWAXEYCVkcZCXgdFkNsJNAi5i02\n",
       "EujhiI0Ex7h1UspIMKwm53kjAaujjAS8DoshNhIM2359T3eLjQR6ODASFJmEg5EgevhybTASXNhT\n",
       "spigBwZgAAZgMCmfr78vcruWefjVsRuEDtY+AQMwAAMwAAMwAAMwAAMwAMOFgMHrz91dUscrby7v\n",
       "70Ok88fhDVLHK31aVDVeYAAGYAAGYAAGYAAGYAAGYAAGYAAGYAAGYACGgWLo2n2qwJB1C20XBnmf\n",
       "QsMP7T5VnA3rAzob1guNt9CCJK+iXyrjSavDnykVbl/6G87Xa8M6LpG4UwADMOC5gTmY+G5xcT83\n",
       "rA/guQFvCmAABmDYwRgK3aguXAyFblR4U2DaBdMueHzCtQEYgAEYPmwMO2zNtLc9a6bDDSvogQEY\n",
       "gAEYgAEYgAEYgAEYgAEYgEG4VfW7pCr/nVRe5YPlPoX7Ff2Q/apPFm+bzk1gAAZg2JEY2LnIiwgD\n",
       "d1psM4Za99fb73Uq5FPD/Mp13BiETahQypl6dXiaaL8rP82QGuZXriM4G0RNqFjKmXp1foHo0WWH\n",
       "rCE1zK9cR4BB1ISKpZypVy9vp+NgjJshNcyvXEeAQdSEiqWcqVf3B38OzvGqptQwv3IdAQZJEyqY\n",
       "cqZevY3omT9kdwlSw/zKdQQYjE2ov5Sz8NX6f0+e+GxulyA1zK9cx43B3IT6SzkLX+2GA/29pRPM\n",
       "6GP6DcWknEU1vlFH54mxOumaIhh0k3ir/ZHpkytjMATfS5PndIIZDS+G/+FSzqIa36ij88RYnXRN\n",
       "GoM13ivZJLF9hemTKzPHe4WvejMqYVLF88yrGi7lLKox6+g8MVYnXSOM90oNtrc1fG682TLzioFw\n",
       "35HgW4beiQ5xqvGjHl1LyllU4xt1dJ4Yq5OuKfKm0E3i+LLa9Dc3yZ1ypsuYN8UjwaXkyIHoEPd9\n",
       "6zfhpYVLOdM1vllH5YnxOqmaIhhUk0R82dB3/3GnrU++jMFwMLjLfrkTHeJdG2FaFJtypmt8s47K\n",
       "E+N1UjVFMKgmifiy4R9S29YnX2bHcHU3kbmXYNZ49+f6zWRPOYtqfLNOmCfm0EnVFMAQNYnjy+af\n",
       "aNv75MoEH7RVuuH0TxrMw1mqxvxBW+WJ8TrpmhIftOP4sqnRNfszZa5MhmE14Hd4kscQ15gxqAQz\n",
       "XiddUwJDHF+2r762ae2TK3NjUAlmu+aGLrUPP11jxqASzHiddE0JDHF82SfoKvvH7lyZcPZJEhq2\n",
       "IZh9KqlTePZJkqZGzpSz7KuS0LC4xq9cpzCGJRmGpWIYJKFhNcFcZFmdwhhaMgwtzEzvwJlp5rQA\n",
       "BmAAhgFiwPqG8uwGoYNFP8AADMAADMAADMAADMAADMAADDsNQ1UfWqv+8OtVPy3A+f/9in7GfsXn\n",
       "irc9J6cHDMAADDsSA/9LTS4eDOzAtxvDs3tmWw+y39/8857rfz/7hQUeQ/P47FWNzT50JBjcg7X0\n",
       "cWEYuatDL/yOlR25jobXaKjFY/jOwzTxVKsPHQEGwWAtfRwYmp9qE429xcoOEc0v08Qii+Hp7lrm\n",
       "X831oePGIBmspY8Dw+6vBV9Gj7Ky3yC6fINGOiyGg93dp/rRcWOQDNbSx4Hhte6yk/oyKxtg3d+h\n",
       "UfYSORmuSr2lHx03BslgLX14DI3/hdeU7AKizMJ8oq+77hTza92//bofHScGy2BFfXgMk28b92QX\n",
       "5jfedWF4baFvHScGy2BFfXgM4/p6o00Cpw+of2YX5tfe7+3UlVkMz6sBNF+d7cRFRp10SREM47mL\n",
       "I9cnsamRMxiGw2E0tUmgfjI8tfML84fe6+3UdoIshmPh3zpjNLYWFxl10iUZDFYjQXKw8cb1iTc9\n",
       "cs/yub0LOFT+W7QeekJhyC7M796GeztfzH38D8+G8Pva3mLjXFxk1EmXbAmNBKnBxhvTJ7GpkXuW\n",
       "qQc/uglvZjBkFuaHt+EMhuzZED4xTFKtkzxGo066pMibIhps7BBg+zx284mRqXYCA3On6F51JjsZ\n",
       "DJmF+eFt2IGh65CkV7pia3GRWSdVUuhOoQabcAhwfU6fag3PjMyIMNA/WzT6CmUxpBfmE93YcWGY\n",
       "eJ3op92qw53E8Iw6qZJCzw1qsAmHANfngYfIa4f2DQGG5s9mf0k5DOmF+ZNXb+1ZcGCg3+65tvv0\n",
       "2rgiOTyjTqqk2MO0GmzsEGD77KNDNL4hw5C51qwxD2c8Br3dT/clhmfcUiVlPmjHDgG2zx10nObr\n",
       "hTGsujE0Nx0YGntvejIuMm7pkjIYYocA28cPzoepsfiwBBiUSaDx8gcLdtlgZ/3usNKOYTi4s8VF\n",
       "xi1dUgZD7BDg+ozO0A1078PxYUlnnwQGgAnJ7NNEOZ3Cs09CI8FGsUk4iQFgSYJhqZxOYQwyI0Hv\n",
       "sIQYJAaAlgRDq5xOYQwyI0ENM9M7cWaaHy8wAAMwDAwD1jeU/DkNRgeLfoABGIABGIABGIABGIAB\n",
       "GIABGHYaBnzQxrQLMAADMOB/1+wsDOzAYSQoNFiCkYDpQzASCDDASAAjQU8ZRgIYCWLltJFAr/Fn\n",
       "jQQ6T4A3EugizkiQ1ylhJOD6JM4V1VFsJNBr/Fkjgc4T4I0EuogzEuR1ShgJuD7xpjuKjQTRGn/O\n",
       "SKDzBHgjgS7ijAQGHSpsJOD6JPiqjmIjQbTGnzMS6DwB3kigizgjQV6nhJGA7dMzEuiOciOBXuPP\n",
       "GglUnoDDSKCKWCNBTqeMkYDpkzASqI5yI4Fe488aCVSegMNIoIpYI0FOp4yRgOmTMBKojnIjgV7j\n",
       "zxoJwjwBl5FAFbFGgpxOGSMB1yc2EqiOciOBXuNv3hQGlSfgMBLoIvOWKunPSMD2iY0EqqPYSNBd\n",
       "489iaG6GeQLkMhLoIuOWLunPSMD26RkJ9GGJjQTD3K+d1UaCY+puwxsJjjHLztIl/RkJuD6xkUAf\n",
       "FowERSbhYCRQD+ICTRgJMDM9GAz8eIEBGIBhYBiwvqHkz2kwOlj0AwzAAAzAAAzAAAzAAAzAAAzA\n",
       "cMFg8Pr7bFpSxyv90djrL93P+ePwBqnjlT4tqhovMAADMAADMAADMAADMAADMAADMAADMAADMAwK\n",
       "Q9fuUwWGnFtomzDI+xQafmj3qeJsWB/Q2bCON0Xx8RZaLOVVtOjKk1aHpzYVbl/6G87Xs2Eddwrc\n",
       "MIEBGPD4xBxMfLe4uB+f1vH4hGsDMAADMHAHXehGdeFiKHSjwrQLpl3w3IA7BTAAAzAAw4eNYYet\n",
       "mabtWTMdblhBDwzAAAzAAAzAAAzAAAzAAAzAUPIzXam1Q161v5HKq3iwrg+fpT+ee9ujU+LVKs4W\n",
       "YAAGYACG8x+DYy5yuzE4c7nycVlmDK7sLYeOY2ZaOFiyxXu5MDhzufJxWUYMzuwth44IgztEzBbv\n",
       "5cDgzuXKx2WZMLiztxw6EgyCEDFbvJcDgzuXKx+XZcLgzt5y6EgwCELEbPFePAZBLlc+LsuEwZ29\n",
       "5dARYJCEiNnivXgMxlwuV1yWAYMxe6uQjgCDOURMFu/FYzDmcrnisgwYjNlbhXQEGMwhYrJ4Lx6D\n",
       "zuXS4V3PqGIm3usZ34whyt5SiVvN/VYdHbaV1xFgeD57cWT6ZIt4DDqXS4d3TYSHysV7hRUGDFH2\n",
       "lk7cOmvV0WFbeR0BBj3YxKv2Ptkix9kQHltbJ9Oo5B8u3iusMJ0NOntLJ26tWHV02FZeh085Sw02\n",
       "3ux9skVpDNmHVZ3LpQ9yfLFH1xLvFVZ4+YfeKHtLJ249Z9XRYVsGHeJSzpKDjZO7uD6ZIvt0T3jx\n",
       "7X7nK9FBnlE7mHivM7Y7RRQUFiZuNX27jgrbOlPqTqEGGyd3MX2yRfybIsrlUgd5Vu1g4r3O2p4b\n",
       "oqCwMHFLXWO4eK+zZTDowcbJXUyfbJHjKVLncqmDXNE3HHu814r1YVoHhYWJWzpdjIn3Win1FKkH\n",
       "20vu4vpkimQftNVBPsfE+CQqmA/aKnFrnInXUWFbeR3RRyu19ZK7uD6ZIjGG5ib5CyyGqILB0E3c\n",
       "WiVvxCqj473yOnIMcXIX1ydTJMKgw7seX7TLJioYDN3ErUMbY9+z6uh4r7yOHEOc3MX0yRbJZ5/c\n",
       "eVkTstmnjTI6Bd4U4j6JIjkGd17WkgiDOyhsqRIMkkCyXpEcgzsvqyXCUCulUxyDJJCsV4Qp2Z05\n",
       "QV/xYIEBGIABGMphOD+XeVQ9WMMyj/8D2VFUkKm/TAMAAAAASUVORK5CYII=\n",
       "\" style=\"display:inline;vertical-align:middle;\" /></a><br>"
      ],
      "text/plain": [
       "<IPython.core.display.HTML object>"
      ]
     },
     "metadata": {},
     "output_type": "display_data"
    }
   ],
   "source": [
    "circuit_BkClm = Qcircuit(VertExprArray(\n",
    "    ExprRange(i, [ExprRange(j, MultiQubitElem(Bij, Sij), one, k),\n",
    "                  ExprRange(j, MultiQubitElem(Cij, Tij), one, l)],\n",
    "              one, m)))"
   ]
  },
  {
   "cell_type": "code",
   "execution_count": 26,
   "metadata": {},
   "outputs": [
    {
     "data": {
      "text/html": [
       "<strong id=\"no_1tok_in_Ts\">no_1tok_in_Ts:</strong> <a class=\"ProveItLink\" href=\"../__pv_it/common/a317fb9ae7d4baef08f58043128e40f85af525e70/common_expr.ipynb\"><img src=\"data:image/png;base64,iVBORw0KGgoAAAANSUhEUgAACFUAAAAXBAMAAAAyiP9LAAAAMFBMVEX///8AAAAAAAAAAAAAAAAA\n",
       "AAAAAAAAAAAAAAAAAAAAAAAAAAAAAAAAAAAAAAAAAAAv3aB7AAAAD3RSTlMAdt3vRCKJMhBUu82r\n",
       "Zpm9SALjAAAACXBIWXMAAA7EAAAOxAGVKw4bAAALKklEQVR42u2cf2ybRxnHHzt+7fd14thZGeto\n",
       "WkK3QRnVFpVKa6VkMypCRUKqu0K1ldE4GaqQGjG3/WNCq5Z3bCpS6RbTsWlQpKaqphWINGs/EEyj\n",
       "cxmCdg3ESEhDRWpdfoSJUZRt6ZJ0asPdvb/tu/fu3iQXpO2kOn793t3neb7Pc+f37n1dAKFSYJ55\n",
       "LB/W7t5CaOP/A1hz0cJO6l8MbfoUr72Uv0ph4eJGg8nguf4uUHgFDVoEW7QlVT6si4UcV7Ey88xL\n",
       "ZljD1Bvo9BfknFIKo5Qbw06u2Bzadv8JgERuofxVCuOIGwUmg+f7u0DhFTRoEWy5cSmVD0triXF1\n",
       "3XrQeq23A1Yj59ApT4O+evQ3t4690GTyUdxgLwWlH+/Cf9JVZErN97lSGEWWm/KwzaqSXGN9tC3Y\n",
       "wijCd28dWz169lOU5sYM1m4NME0YRf9WSvHY/iqFccVthFGKSGwjiXtwnWB4ZYPN1EPaFr7vzMRS\n",
       "onxYWkuMK20KEtesk+PWpYZzCFAkTSoQOw0tXdDWFKkBdPaPr9GmpdY6iRGG/dJ/KaQSRil9edhC\n",
       "KkPbZesT+xA1J6/fB+g0ASXEHyitMeHQ2zPANGEAvzNleGx/lcK44jbBKJe5ArGNJu5J0fBKBpup\n",
       "h7QtXN/ZiaVC+dC0lhlXUwB2Rd2u47TTSN32GrQh4etg5CkYgE/SMNmyiznv/1wpjFIz38h1DmEn\n",
       "eb0EUAUNKf1DRjpDjJpClgnYxExdhsf2VymMK24TjFIEYhtN3FnR8EoGm6mHvC0839mJpUL50LSW\n",
       "GVdT7Ks4AmoB+AbAhTLETHHMFtPFtJhBr9TBqOnDKqvIazdoNcighFgul86WCcTEDTI8tr9KYVxx\n",
       "m2D0jOXFNpK4iRnR8EoGm6mHvC0839mJpUL50LSWGVds0BABHQFAoo+bkJDA3O9p3loT8moRYDLp\n",
       "kyJXbUYFg9tmiBUyc8X9nom/luCF+KsUxhW3CSaVsW5sI4mb7BYNr1yw2XrI28LznZ1YKpQPTWvh\n",
       "cZXsv2EKvt4DqZUdleRNZXii4x/48KE7t3bmjPG1Z1C1CdJiHc0SNuZVePotG5OsukKrhFHKro6h\n",
       "vPZiFfb8aQUMbAT94ip8mHrxnx2n4CfvjqErrnayvGvporcPGb6WCcTEQQleiL9KYVxxG2AUc0Vj\n",
       "Ky9ua9X4tikQXtlgs/WQtEXAd3ZiqVA+NK1Fx5W+EZJT+MODAF0wXE7dAukcOoS15dRliNfdOU27\n",
       "RsO8zcLoV42nepHceBbOVJwPVcIo5dEyPJBH0dZHIA76LOwtwDF0CPEzMFSA28D9ruhjLA/bK6wU\n",
       "sk1Yht//VYIX4q9SGFfcIIxSTTS2EcQdrv1oW40fXulgs/WQs0XEd3ZiqVA+NK1Fx1W6gjdRYRQ2\n",
       "mZCDbDlehNQ0vk1zHOCqDfosfsnM0vZfe1kY4/KXUy+jCriV0W1/qBRGKT8nW+PpamIDxPAm1afR\n",
       "JVopXYV0N2RrVvrEyW7OBcZtd3LLjZpCtgl9uOGTErwQf5XCuOIGYc1FOLYRxD361fJDBX54pYPN\n",
       "1kPOFhHfmYmlRPmwtBYeV8M50AkofuV6vO85hLp7H4N+BvCODVpP7jph4R4nM6nuTHLa2TwL095b\n",
       "In8P/QotDiedOTkC7MDg6WgwyjT5DjIBpw/cfqyA0ieFNMgWcfqMQDZnpU8LgaAVrOelV+57CVgp\n",
       "ZJugn0UuDUnwPH/1XWOmX1wVMAlxAzDa961obIm4LlhI3L+/KRJe+WD79BgHN+PkbRHx3UusQ5Pq\n",
       "lW+gB6YK4XE15ID0gbk6Ah1FDa/QQozXOqkOsuDZc53T2cMnWJj4yX+Rv7tRfwln/o0Cq8PfosEo\n",
       "G1pu+hy4HV13zhrIluwIba5YF/DS6+DfJiuFbBOSOMk2SfA8f9uhvcuPVQGTEDcAo+2hicaWiOuB\n",
       "RcT93H9LAuGVD7anB97ldDJO3hYR373EMirqlW+gB4rwuHInpXsgM21PStd8oKRzpUbWOoYl5mG3\n",
       "t1EWZri8BWtKnn8zuhpnQAnYFPSVIsFCvmo0Ey6U7K+aui99ivbFmrWCPUy53Ksyl7GWCeQRuMMS\n",
       "PM/fbF6bDmAVwCTEDcDCvt14sSXi+sB8cfXZxLRAeOWD7Us2ssvpdS5ni4jvXmKRfUbFyjfQg0V0\n",
       "XLWO2IudH+BHurLlljokplxQKwEdc9c6vrlCD99CvWAOl3P2HabMCFjPhkSB/QWLGgXWEGP88oq9\n",
       "hDVy+EG9WbgTYEveTZ+TOH3SOXcFS8KTubSnM3auZHfJ3h63TSA3mc6BbYIAz/M3Y3pzhSoYEdcU\n",
       "EjcIaxZXOLZEXAIWFTczo8/G/OHVeROFtB5wszNX6CBvi4jvXmLF8+qVb6Cff7OjuvI52UGsrYe2\n",
       "q7jbJ014FoFSd0BrEVNewaBkJencryHPgPrmiuGKi3nAeqxU/8D9GOAsDJeKtuZ4KiMnI8EwIwrM\n",
       "reFV3ZaH8RpKFmMDpAsoffaV4Bc4d1pJ+uzG6UPug7XOuHPF45tqLdVY1erEvntkPy/s9u0zgZg4\n",
       "4dAFeD5/rd4xVh0M9WH36heXD3NruEfCsbXEJf0JittW0aeTvvBawQyE1ouxeySlhz7pzBVWTvlt\n",
       "CaQa1RYR373EGoZw5RvTeiGUD9L1P/dCD3RKj6sn+m94t7r/86e/1PHxPH6mc+eu3wI63P/e73/8\n",
       "XhXGvoWq7UXV35gbzQXmivgaBzN216vWQyl4DRi3b8v8FGIXTRtDprLVOEOjwPAveCLB3Bq3Oebq\n",
       "Ex1Da1Ov9zzW3/FNvDWuTQzm0eH3xnu+83wPtP0OtUqhPgafv3LKmSvuWQHZEtaJdIkJba9/YD1T\n",
       "7/btM4HITr6jcH0Bns9f++c7h0EhDItLYAFx+TCvhiuuWGwdccnvsgTFTZdh1XJ/eAnPC23gDXmR\n",
       "1sNaxeOMs1ItYIs/1ei2CPjuJdYR4CjfkNYLoXyQrj1SgWk8/ciOK3/JUm+qxN2lpX+/4hl3Sgp7\n",
       "TAQ3uJs0bbrGEYTtMBcCZvUQKLPUTj7jvrOWiKdgH1ntGab3Zcwu2ESti24Cnef5q51wscpgWFzD\n",
       "FBE3DNYsLi+2VlTlxPXCSwlmw80+WT2sVTzJuGdgnrbQffcSa2IJlG+gt+VS3WSzRnJceSVWb95w\n",
       "Imu0Om2uKApjLpF3EA2m1bXCvGGOub6yytodaCrnG+aKO+AT0JeyuxQavu01mgksnufvTviag1UF\n",
       "I+ImQTRj6bBmcfmxtaIqJ64XXijyMkFWj/hmN+OK87OF5buXWDeb6pVvoLeUYiPaZEl6XPk2oruP\n",
       "0Cs/6xu+etHe2yS/+F/GweDn3zS8BQSPQDTYjgcfNucNc8z1leMG/QnAdME3VxwAbRJ9+Z1rt7uM\n",
       "8e7Y4UfgdgDNBBbP9Vd77sG3HHFVwYi4VuNlkWHN4vJji8Gy4nrh1Xn/9Yu0HtkYirW1t5mbny1M\n",
       "393EmswtgfJBeh+6ssiM1KXHlVe0/tP0ygedCrvfz6U2wvbX+gE/Cwf2M2Uh5dGaY2ZjeEVhd83N\n",
       "zR/m9OAr2ztN+r02RxTs5b5yogovw33L7S61Wc6Nul43/3KCPNfflrm5SUdcVTAibk5E3BBYs7jc\n",
       "2BKwrLheeGO8+yDSerR/DJmDM87uO7otTN/dxLqYXwLlg/SvQGtBO2VKjyuBovmNNAJn/hPK2Y5/\n",
       "t3I9SBWlMErZ6j9oBO48E2r6IKofKyyUv0ph4eJGgnHwkuIuUHjZBpUX2ZatS6k8k76o42ozKCxK\n",
       "Yc0lYSoGfiTuh8KcpVVeHb2m0q3a0uZPRjXwI3E/FOYsrfIR6f8DMrM4gWP5zfEAAAAASUVORK5C\n",
       "YII=\n",
       "\" style=\"display:inline;vertical-align:middle;\" /></a><br>"
      ],
      "text/plain": [
       "<IPython.core.display.HTML object>"
      ]
     },
     "metadata": {},
     "output_type": "display_data"
    }
   ],
   "source": [
    "no_1tok_in_Ts = ExprRange(i, ExprRange(j, Disjoint(Tij, Interval(one, k)), one, m), one, l)"
   ]
  },
  {
   "cell_type": "code",
   "execution_count": 27,
   "metadata": {},
   "outputs": [
    {
     "data": {
      "text/html": [
       "<a class=\"ProveItLink\" href=\"../__pv_it/common/9acf0b3d746cfc35d0ca397fa079befbaea217260/expr.ipynb\"><img src=\"data:image/png;base64,iVBORw0KGgoAAAANSUhEUgAAAtQAAAAZBAMAAADj6qSAAAAAMFBMVEX///8AAAAAAAAAAAAAAAAA\n",
       "AAAAAAAAAAAAAAAAAAAAAAAAAAAAAAAAAAAAAAAAAAAv3aB7AAAAD3RSTlMAdt3vRCKJMhBUu82r\n",
       "Zpm9SALjAAAACXBIWXMAAA7EAAAOxAGVKw4bAAAG70lEQVRo3r1abWwURRh+er293WvvE6MQqaRC\n",
       "MARJaZAEmhS8BGP4xxkMQcT2Wg0xodHD/jAGwi1iMEGga/yIX5EjxMRoDY2oiQTxEIMFSnpEEw2a\n",
       "cCg2BrTho9AeBOp87O7d7e1ed7tXJum2szP7PvM8++7M+84UsFWCMbgtOacPVAEzBPflF1Sj2Gf/\n",
       "8QTt0mOVWp+Kk8s6p6Nzhym8Qy9p1xr5bYhUTfZS3wQdZq6s1CqelImTRpxxdImJLZ+SyxnXUr9h\n",
       "o4999tMWQ1jGb3fK3CWWlfauy0Ka3fvD/IEvzfXyj1GT80xadi5iz2fIpaR56jHRS348ckWNaubE\n",
       "sDrL/vSpltSqXr4AXp0/MLv31IPWjm+fvTAC7x3eNhhnv7QqkOD4ZFT9qG1EIGsK5msEdl0aM2s6\n",
       "orWjoeT7nnJMdFItM5X9sT2GVXyGCFznd1ZpE4aPj7OZDFwGkey0pREn7EcA9e1LahfNGQQOPESG\n",
       "QsaVgz9mCYYaU7C83t5T4mFTjsmklsYqSx2OGeG1Ktr4wkreewYCcYO3K0ptl/2I9ReW0zo8A5xT\n",
       "UCM7BPOO6e31WYPUU4vJpMZ3E0ptVWZpHYQsgkSyGZOQupy9Ne0Uoy2SJ8iYBmV4nYL5mvX2UNqe\n",
       "1FXC5FJfnKzUIp/PUgw/wAcDl+x9HdNH8HQrxAeifb45CvZEL9Dq5uVPNET8gwtOUDON7MFFkwCr\n",
       "z/hfkNX25kL/u4DJpb6nktAboqmYcDCDTWdmorMF0vlZtCoe/Dt6FB9dHVDo8s061jZWMmOXvdQC\n",
       "H/Gww9gJNKJHEeeiLkKqWKCI1+FhHhZgcZdwxzpV6LMC68m+T9Z0prJXb78rmFzlVRVCkO0KXowR\n",
       "OaQ0PJDyeCmOfaQKzwmk4mhifU7x1bNicG2XfV0fjQZIZLRCRgRhxZOAOEoDpf3AbZV2Hfv0g3lL\n",
       "MBYhmYLtfVLZHIdAHyVmtTjubmCinXplKmkt0ecsAqnLeJeihq5gD9HuJDKra0Y4q0r9GbueUypJ\n",
       "bZd9TwQSo+25eS+Zu5QUsXqD0iYgV1Ta9SxkCujGxEPs124tyVj/FazA/vqV/dr1LYvvtJc9ecwd\n",
       "Xf12MaVTCtPSMke6QkZCpcbCfeTN5EWiSDhBpU4jHFGlPszjUf3b2Fyef9pmn9JoS53jOUJ7Lxnb\n",
       "TQNtfi2asI4z8lHthnhRtgJ7eJi51UZiVdKlnjwmcvjTLqaPStBjLbWoS71jIZmn8n4ypHDaIHWT\n",
       "YcUIJMrt2GWve9haBEdVD7tTRNune1jRhLWEZ0m6DiwfMgOT8t5RLZ8SRsu82jnmCNqT9jCxlyrQ\n",
       "npzYqwUZ55KqV+eKpE5oXl20YtSa2LPLvj6tzptv0oQorNTm4B3RadcX0S5MWOKVBlmTWq64BgfH\n",
       "pHyNGvSI17UUwQXmb1Q8W5h4ln1A8eK0pFCoiUPqXO2P0Iw0j+VkFY3pUh8pSF20YqSidAIL/rep\n",
       "oeZsUjVsl72wGIHblORbMj4htMUlqE9QzocobV8fpR1gE9T3+oRVM4+lGVRq6ZYO5uOpLbvDb9M4\n",
       "Qhr1qe08AukhE7wLTBrDlWMyqwZMHuyxCERvpX8UaqtjGMwSYf1LURcnUncn8Q3VuZ5JvZFJfZKt\n",
       "GwUZp8k0tdm9IlubIUk/s1fOvqfPnP2ejulXM1se6X88el+M0Ebbhh9Bqluu/fTBtQwGnlcjYt/J\n",
       "8d6IvhMU7NO8erasggWO3TpdmN6a1J4KZs1QwYIsrvbQfZfJY7JtnXJMNrOXYnKpf9Yxm7Ru7EJN\n",
       "SEPR1ALxWOtrHdHnaAQiDHXFSPX1wdZXDrQicFxW4/KuAzePFnaffifXtTMRTpKcnRkuZ+/JWbEv\n",
       "zp5Moxqv4eOoTYYymtR+jfaEQX6Ib/28BzeYWCfbxORS/2uOyU2YbJwYizEuX8ItHkU3PIpq2An7\n",
       "wu6DxSqy2CAOahVNap9tMHUXIAE3mEJOiNvDLN4DKQ8bfMYdj8KiXfqGDRHMZbRwxe9Hu6gadsJe\n",
       "X0qbPzTvPFRa9chnsUOVehtKc27rfIrvbUmG3WcnmFIC617eKtvDxCV9Z08q3/HeZqjv95ufRIQM\n",
       "b2leME2oC5eJX58NqYYdsC9sInf0m3fu1nsMDw9fgHg+gm5F2HiDIDEwIV8ZbDt9pX9wLzYeTDnA\n",
       "FFvw6Pi4TUyJHjUEM2aYUE0UlTUN5hm8qMvYRoYRw9YoGZnizeBrrJ+hGnbAfuISMJlOS261naj0\n",
       "+BrWOtfZSZMZpt8+ptBFn/fE3R54mYEYR1ZN9ibnfF7Z4Zircba40qlQU3K26Ji6I/bvlj/rFMzx\n",
       "iXk5JrIOTQhp11L7E+6pO2Jfhf/J+MexI7jHDMmuTVTp/0AI+/8BOU3raIsrQYkAAAAASUVORK5C\n",
       "YII=\n",
       "\" style=\"display:inline;vertical-align:middle;\" /></a>"
      ],
      "text/plain": [
       "disjoint(T_{_b, 1}, {1 .. k}), disjoint(T_{_b, 2}, {1 .. k}), ..., disjoint(T_{_b, m}, {1 .. k})"
      ]
     },
     "metadata": {},
     "output_type": "display_data"
    }
   ],
   "source": [
    "no_1tok_in_Ts.body"
   ]
  },
  {
   "cell_type": "code",
   "execution_count": 28,
   "metadata": {},
   "outputs": [
    {
     "data": {
      "text/html": [
       "<strong id=\"no_1tok_in_Ts\">no_1tok_in_Ts:</strong> <a class=\"ProveItLink\" href=\"../__pv_it/common/15256fe2cd2b6ce84cbd85f0118e8a2b914f60a90/common_expr.ipynb\"><img src=\"data:image/png;base64,iVBORw0KGgoAAAANSUhEUgAAAuIAAABIBAMAAABB1Y2tAAAAMFBMVEX///8AAAAAAAAAAAAAAAAA\n",
       "AAAAAAAAAAAAAAAAAAAAAAAAAAAAAAAAAAAAAAAAAAAv3aB7AAAAD3RSTlMAdt3vRCKJMhBUu82r\n",
       "Zpm9SALjAAAACXBIWXMAAA7EAAAOxAGVKw4bAAAK7UlEQVR42u2cf2wbZxnHHzs++xznh70xNrS2\n",
       "hG5AO6otGpVopXQzGkKdhFRvhQoKNE6GKqRGzOv+mNCq5camIpWymI1NhSHVVVWtsEqzWEEwjdZl\n",
       "CNo1ECMhbQKpdfkRJsZQtqVL0qkN78/z+fy+d6/P9l0F90iNfb577/s83zu/73uvPyqAUmjSPY9n\n",
       "ndp9KYf+5KC18FWsFXnXFLSnXdurxodkOyLHDad2iVfR7k9fzWItyCuksOcoQCztKnHNetA20bfj\n",
       "9Hx8k0cyD9+6ZXr1sbMfsbc9iBvsFmShHx7CL70VlGW122Kw73ahmMCxm7KwlR4SX0M/2lq1y+ur\n",
       "j/36lumfipxzq/cY+rfS/Ws0D7Er9O0M/VLyTYA8+fsdgBUGoKp+b287jrT+cFJkQqpGysJ5/KLr\n",
       "YnBCKCaI0SxsIZlB30X6CdtEzbl85DT0DEGf6Nq51TuO3xmuls8DsIN09glvo9Fs3gKogIac+b4g\n",
       "A4APiyQGi6YJ57ouBktiMUFaWbsu34QdXL4PXZgaJLNixx3rxfv7ayqOy76EtPEwaFXoR1XdoJ7B\n",
       "FsM0ocfotlhsUSwmdFwWq5g8fBXgfBEiRkuO03rJ/g1tOD5JTEiWIYauPKoqq57BfWCakKp2Wyw+\n",
       "LBZrxfHEFSaPhWcMnEUrjt9X3/8rZ7vjY9fPw5dHILEyU47fVIQnMn/Hmw/fcc+KdHJm3Rl0yADp\n",
       "YHuGWsrgZXjmDWZCvNJtsVQl+Q3DLiaInZnJrPZiBR74440wvhH0C6vwZuLFf2ROwY/emS5yebhd\n",
       "cgK3esn+CUfD9Y0Qn8fH7wMYgqli4qPQm0absK6YuAhRctvR22ZU1D29KctAv5x8Gk1CIvjm6y93\n",
       "WQymqj9AU45GMUE8VoT7s+jy6CWIgr4Eu3NwCG1C9AxM5uDWurx2RXIGt3qvxe//4uh4bxlPH9Cs\n",
       "5i4D0qj7j+YhsYAnOYcBLjMTomRQQF0b6PRk3+VV0ZmdKIPkxbsTP0MH4CEtOdyGmL5z2nATg4Of\n",
       "Lz6cs4kJ4nkyV+mtxDZABI+2H0NdWQHNKXuHYbBKHafyeBipV2mZabnVO4qbP+Xo+FQadGJC9NJ1\n",
       "eMCdRE3ewyb8BOBtZkIP6ftQ1wYPXEN6vAz7zmtns7IMBjYVyOv+X6Lj59oQG4CBITcx+NtrzWKC\n",
       "+/BtlAJ2HG47hGamSwnk62AeO16CwTR1nMrjYcSs0mK4a736WVTSpKPjk9wEfXy5hkw4iM55SWgC\n",
       "6dqepBeU5/LIUVkG0RP/JK+7UNvYcBtig1ltwU0MPvGfQpOYYGw0Hd97G+o2lpIol8GSyHEyjCSb\n",
       "xxLXeuPH0Z+71O7xL0L/ArvtrlhMiPNvGu3abI6TZyxhBlPFLdiE5KL1cC9i/QZ3XC6mL8UWmsQc\n",
       "7nHNgPMFdo/XLI7nea9ChhF6pnOvZSorn1OtlzyTPunoeKrEutbv4Ye8wWJPDWLzpgkpYkJvmndt\n",
       "Fsd157H7vDFVTLNpW3+JPWh4EsNTEBex/kV9KWIXswVu9hLrx5Np/ES5BHegaXTWdPwEdpzIk2GE\n",
       "Oq7/aROMwArVeskc8c/W57rmsWA99F3GJT9lwBFkQuJTkMpjB17CJsTLcT7hSi02Oj5VNjO4nz6u\n",
       "6+8D/xjgLEwV8mx2SGZceIcnMbyM4SLWV9YX4nax+hHm1tYszFSRv8kN0JtDjj9YgJ9ju1PE8V3Y\n",
       "cTq5JM/xxHHt0TIswKxqvWT/LN8pjifGrn+nsueTpz+b+WAWP6ru2PkbQJt73v3dD9+twPTXcf+H\n",
       "pCdeuHSqwfHoGp7B9J0v06cO3BFG2bTuxxC5YDATorhvJMd7EdOOuor1FmHVDU1i5hHkz2qUjT6b\n",
       "mVyXeGXk8bHM1/BcRZudyKLNb8+MfPOFEej7rUHl468uH0vzXqUvnRiGtar1EsdvBqanEHRxoCk+\n",
       "br6z9OMHzGvu9HyFj7yXvD3gUWwHfKEDYpA0hGsxDvLU8Z5CpKTNFRRTwPu1IbGecGFjtCDccc5q\n",
       "wl6WS17ZhLcsK4Mti2nPPfRG22LmyqBlFcUckGXyqEo9D6PoLu8v1RRTwPsHqiI98dPQ8LOSHfyX\n",
       "lW0nx+DBorbrPTTpIEPMtS6nHMC9d4n0emlvYj3Ly3Nti6F41LZ9OFl2lsdVJjbC5yCV004Ziing\n",
       "Z9LtQj3xKDp2WjKtKlm3aGcQocvNRedTPlblNUSCFENhvwbbVhgK8sn6d1IlBR0/kx4R6rUY91hX\n",
       "Rq2Zav92TGEbXpu67moWc5aHzfb7xDEFbQLtjbT/U6t98gs+hq9igqhCGGGEEcb/RISEkFIKISHU\n",
       "2VoVUggJoWbHQkIoJIRo8DYhIdRivSEhJHJcFiEh1IJYSAhBSAjJV7tCQuiqJoT2TpAlVn8IISoW\n",
       "GCFUF7bMtHwnhGrwV/CNEKJigRFCprDFcP8JoXkgP5X5QwhRscAIobpwPfwnhF63Od5VQoiKBUYI\n",
       "MeGgCSE6GPtECLHfcYMihMjcJ3BCKLGGO+4DIUTFAiOEyPpJ4ITQdoM77gMhRMUCI4Q00mkHTAhp\n",
       "NS0HfhFCTCwwQogIB00IbX/oEcM3QoiKBUYIYeHgCaE7l5f9I4SoWGCEEBYOCSGvYhASQleNmLN8\n",
       "SAj5HiEhFEYYYfyfhJSK6QLTIzte/4xjhh2Cd5yy9YsewiGjarrA9ERkk4UbNzu2U4R3vKpDp+gh\n",
       "ciYVqkYM9XQBIHpGAvCQpVq29tUYFB9SgXe8q6sUq0YP0Wm/AlUjhno6DxDpZQnAg0+1/81FUf4n\n",
       "zAdwF3jHu7pKsYr0EFlyUqBqxFBP5wGigaoE4CGniggdry+2u8E7ntVVilWkh5jjsuBUjQTq6TxA\n",
       "1CMDeOSOU3xICd7xrK5SrCI95Oy4SdVIoJ7OA0TPygAeueMUH1KCdzyrqxSrkgAJVapGBPV0HiCa\n",
       "JQcKAB654xQfcod32lFXKVaBHqILcqpUjQjq6TxARO4REcCDl2rFjlN8yBXeaUtdpVgFeoiEMlWD\n",
       "f43dT2CRbgJEa8n6FgZ4ZvA7hizxCavQcYoPucI7HtQbJzodoIfI9VGmajDUQ1b5uwoQrSeT1EXa\n",
       "p3KKCMVXjoPMcYYPucE7HtQbDO8EPUTGRmWqBvdutEfvJkC03hwyZulQx367S/zLkDnO8CE3eMeD\n",
       "ekN0gh5quMfdqBrSu0WzDY53ASBaaw4Z5Bfz17nj5PFV6DjDh1zhHQ/qHaeHyFOAKlVDoJ4p4I63\n",
       "ChDhY1QAokN8yNDnzBmC4ThXYfiQI7zjTd2khwylYlkCAo6mEa9RpWpS9d7NA0BEdqoARGR2dZIP\n",
       "GWQlhcI4dKLJViHMEsDEh2zwTnO1ratzeogpWYu1JmCnhxo5mlsb3uB1IUWqhkI9s6bjrQJEBKhR\n",
       "AIh2c4CHofWYIiJt8an6XnmfruyYJYCJD9ngncZqPapzemi1YS/WmkAzPSSPA5IlCnuYVM3NhtmP\n",
       "t8j0NAM1YoAoyiGX6Ga63KHlaNv4kIuWE7zjUZ3TQ0lDpdh6AvLI21dR3KiaubTX/2Io3rSOIQaI\n",
       "zKWgwQj+H34wRUTbKjkug3c8qnN6KA6qjg84/1TdxNm4UjUXsl4BIjtQIwWIjvCmH4DERkIR0baR\n",
       "YRctJ3jHozqnh2hzdXpIvl5m/0CJqvHG9NgvrhQg2mftDOgLaastuUxzneCddtTN5ur0UAfCQtXE\n",
       "rBelC0yPZnGn4Xe2HWccm3UG3pGqQ0D0EPjL9ATL73hT/y+YEzSyuaxWWAAAAABJRU5ErkJggg==\n",
       "\" style=\"display:inline;vertical-align:middle;\" /></a><br>"
      ],
      "text/plain": [
       "<IPython.core.display.HTML object>"
      ]
     },
     "metadata": {},
     "output_type": "display_data"
    }
   ],
   "source": [
    "no_1tok_in_Ts = (ExprRange(i, ExprRange(j, Disjoint(Tij, Interval(one, k)), one, m), one, l)\n",
    "                 .with_wrapping_at(8, 16))"
   ]
  },
  {
   "cell_type": "code",
   "execution_count": 29,
   "metadata": {},
   "outputs": [
    {
     "data": {
      "text/html": [
       "<strong id=\"circuit_permuted_Akm\">circuit_permuted_Akm:</strong> <a class=\"ProveItLink\" href=\"../__pv_it/common/f910acc3d1b22bf08869d83626b21c5b7640860e0/common_expr.ipynb\"><img src=\"data:image/png;base64,iVBORw0KGgoAAAANSUhEUgAAAy4AAADJBAMAAAA3NHs/AAAAMFBMVEX///8AAAAAAAAAAAAAAAAA\n",
       "AAAAAAAAAAAAAAAAAAAAAAAAAAAAAAAAAAAAAAAAAAAv3aB7AAAAD3RSTlMAIs1UmauJMnZmRLsQ\n",
       "3e++988cAAAACXBIWXMAAA7EAAAOxAGVKw4bAAATdUlEQVR42u2df2wcxdnHn707396d174rTVGk\n",
       "EOyqBRGB8FG1/EOpD5SkhfpVT0BF3iZSjlaxWrUop9IKS5D43r44MkrbWIiokLwvWEJvpYq+zVVt\n",
       "RaogvEKFJkJqHBFo/4gqVyXK+6JKnJ0Qp3aKOzP743ZnZ3Z31ucf75tnpJyPu53neeb7mZmdmbt7\n",
       "AHBLcWk1S6vteK38hpalNSjiSIqwisXrrLWajlsdvm6FNEEuyAW5IBfkglyQC3JJXo6Ev51ZKS4R\n",
       "fqGyRlzyk5GXZFaBS7oS/r7WXBkuUX5hU8BZ6OamY1w+G32JQBMRl+tUXetm+/nrURc/J+Wi9as6\n",
       "flLBb77B690KGyTJg/ILYsSp/1wsLgOqYaQ8z39L/h1c+s2JX8ku7jFlXFLKfbTf7zc3tbjzRFl2\n",
       "8blEXFJJBo5HkO6JKEGEmgi4pJdUw7jTMyRn6OMiQF9VcnGuKuMyqCpBusb5LTZB+1B29VgiLoNJ\n",
       "uHgEuRGiBBFqIuCS2V1SvLN5pvYMlUq/QvrJrORq46qMy7ZZxeY/y/mFUTJXTcmiP20m4aIcFCfI\n",
       "dogSRKiJgMsje+tqYey99QQtrFaRrj5y82QoS8PYIuGSvX5ezW92jvl9xfULh0gMAzIuqYkEXJSD\n",
       "4gVZgEhBRJoEuWiNQ2W1MLRX289HTXtOHm3KLv+yhMvG3EXF9m8y/X7pnVFflK5Gmwm4qAflF0S/\n",
       "CpGCiDQJcsnA4ESIhd+N3w/ffW/jmLW6Gdk1sseEDe23f+RM8+9ILfxYwqWS/nuIX+NLT03qt98z\n",
       "vsNq7tjvD+wCreL3S6fxzdJpPDeTgEt4UNGC5KajBRFpEuTyEozWQlaAZ6C7Ae+UdWtU1h4oZ5vQ\n",
       "1e63D9CHY8cPPCSfC4+ZQi6Fsn45JPJ9JTgOPQ/CKJumsl2fgm8D7PL7LSyO7/mi1ELhqjqXiKCi\n",
       "BenqjxZEpEmQS6W9ckgzDRq+FV0N9Hl4DYB1I718E+RbYLTfP8Hm15Kx05TaGK0LuWQ8S6k7An7h\n",
       "XVqxewaKbDA/lqrCiwCm3292Ft541Wcj51VwXp1LICjOZqQg3U2xIFGaBLjkfr11d9M92jCecU4J\n",
       "Tll7hVFy77lMVbjCJhe4CLmrXiM30YfbibGawAZ9RhaMk0IuB7duW3SPLt7cs8tXB/SL1CZpZZE1\n",
       "xyyW4ZDJ+03N0OAcG8bwV0379IUFry0EpTfmwH443S/i4gvKf6ITT5BUNSiI7/RFognwH2OeJO9P\n",
       "21N6FUbIvF1gS99x68XBSTqLO2HQuaF7xmvuLH0gXex0NWiDPSNvsRj40w+D6P0P28gbpOn/4qsD\n",
       "6QU6S7tc6MB/LeC3WAXjQ9dGBjLT8FNwgzcWuPa2nHr0oacSfJMLyikem5GCMLOcIM68GqZJYLwQ\n",
       "Oz224Qy5+G7y9zYmzLTbPS61w8hOQ7HCj5cCGdKDFYEN9gz6hPMY7T1/tl+4n6wuyVWeOtZ4qbS5\n",
       "PErD4MfLsQlIX3JtFCe1eUiZbvCa+jzmD8odA2Z8Qdh44QWxS5gmPJfCBFvV5e97/mHosWt9wxNG\n",
       "bwUKC+0wUhV4weT1yZCBvLehB21YMbA7d4DLz6xl7rPPH67DNPwHjdRTB+A9Ivtkm8unIf+3AJev\n",
       "mJC9AnXbRt4kJLJlN3jrzqzExR/Usz8Zrz5Ndksem5GCMC5+QfL3jYzljtbDNeG50GMDsjM9day0\n",
       "j51f3u2ciNph6BcgVYNbnTBON7U/+ozspDZIGC82XgrasGIQrsfYOcpUyTgyq0+zo8JHfXUA9tfh\n",
       "Zkg5XIxF2Fzn/WofmJC/Uvi8a4N0XuuYmQWvvh7zB2Uc+V84T09zPDYjBelqBgQ59YuJ3io9eQnT\n",
       "hOPy1tJtkJ6aq90wBn3wsl3rZU8YsGH4a/D9jx6+6yM2Tw6OHCjxC/Hs8PAEZG6ZCNqwYnhBsH8x\n",
       "puZMuGvpZu1kVWsVSFv0c746RKPteyb13ecfmzrPopkffySwARge/hbAvU+7NmCfCeyvFXxedf/C\n",
       "BaWd7Id5eq7isRkpCN00cYLc8AMo1um5UZgmss9fjsMX4HN2rSe8YfjLvcKFuMyGFcO2sM9fuhvp\n",
       "mXTV2so/4eXC7d37Q/w6Nui2W29rmKkmOR/zGOxq6DPwts9mpCCFq0FRd8B+6CmHayLjcgEeYvX4\n",
       "eYwr7/Iv9E6G2LBi2BLGpbfeVSHt1ipayT+PAb9rkPu1bZBd98e8c06i8zGvwd56rqm16v55LEqQ\n",
       "94OiXoCD0KeHayLhos1q59x79ji8KQnDCBweZWoyG0bNeiY/T2YLk9Jmk9xiNz3+PdNTJ3g2XJb7\n",
       "dWxorzw+BLmGG3yy82SPwT4yYvLNitdmtCDbA6JqLTJijmbCNZFwyd/ylAndJbh+4JsAv4T9Ze3r\n",
       "lxvBKp+Z44/S9BmZDf2v1rN8NYzLM+ND9OIP6Aq+XSfwwcvAFrlfx0Yv3YQQ/07whyEpF9vgf0Gq\n",
       "pO0wvTajBdkfELVQhU/CJ34YromEC+t+1sYHDDIlxD9hflBqI21PQaUwLtvdjZu3jpJfrw14C9zg\n",
       "zyTm4jXotxlduspCQaI0kXDpYdbuscyVoGDG1ud1mQ34ufWy/PN9Wt52rvbVUfLrtUHd28GHfL7f\n",
       "iuDiNeizGaN4Pt/3ChKliYTL3iG2eTXtA518/M8e0jWJDbBGePj3YbKX2OXf8ddR8+u1QQ+17OCT\n",
       "fx/Ga9BvM065UyhqlCay9ZhVTPchfjkSbiNjho4Xu5N1wK/hPlhlSOYs7msG9zdmCXx/zOT+CjUJ\n",
       "57JyZV193zLua6uoCXJBLsgFuSAX5LLSXK7Z372KXls/v3vtYAdcw9619k1YK0GQC3JBLsgFuSAX\n",
       "5IJckAtyQS7IBbkgF+SCXJALckEuyGW1BMFzfm/B/Jb4uVg4AOSCXJALckEuyAW5IBfF8n8wv+WK\n",
       "csH8luEF81uGF8xvGUcTERfMbwmY3xIwvyXmtwTMb4n5LTG/JWB+S8xvqSYI5rcEzG+J+S1jC7LS\n",
       "+S1ZskhYZn5LmrVSNb+lVWd5+S2t4Dub3zKmIJH5LSWaxM1vyZJFwjLzW9Kslar5La06y8tvaQXf\n",
       "2fyWMQWJzG8p0SQwXiri/JYsWSQsM78ly1qpmN/SqrO8/JZW8J3NbxlTkMj8lhJNeC6y/JYsWSQs\n",
       "M78ly1qpmN/SqrO8/JZW8J3NbxlTkMj8lhJNeC7S/Ja0J8By81vSbq6a35LVWWZ+SxZ8h/NbxhMk\n",
       "Or+lWBOOizy/JU0WScuy8lvSrJWq+S1167xxWfktWfAdzm8ZT5Do/JZiTWSfvwRyU3o39e2imN+S\n",
       "bdAV81tuMkV79/4Qv8H8liz4Due3jCdIdH5LsSYyLoHclDRZZLCo5bdkWSsV81tadQIH47UQv8H8\n",
       "liz4Due3jClIVH5LiSYSLoH8lixZZPBwRC2/JctaqZjfkj0Lng0r5be0gu9sfsu4gkTlt5RoIuES\n",
       "yG/ZK/wGqWJ+S5a1UjG/5Qeir4cq5re0gu9sfsu4gkTlt5RoIuGC+S0xv+Xa57eM4oL5LTG/ZcR6\n",
       "zCqm+xC/YH5Lf8H8lrEKfg8WuSAX5IJckAtyYS/j715hjYLC/Jar0AT8/T5yQS7IBbkgF+SCXJAL\n",
       "ckEuyAW5IBfkglyQC3JBLsgFuQSkCT09X8HSGb/xPgRIZnFtuaxA31Xrkq3OduxWp+IqIhfkglyQ\n",
       "C3JBLsgFuSAX5IJckAtyQS7IBbkgF+SCXJALckEuyAW5IBfkglxWgQtL2rkWXPhEoeuFC4trHYyX\n",
       "s2vEhWX0XIdcWFw4j/1/ncc68kPN4ir/QLTVkehbzjTcGTE6Ksg1P17O4noM5zHkglyQC3JBLtfS\n",
       "vrK9JsN95braV57FfSXOY8gFuSAX5IJcriUu1poMuay78XIW9y/rbf/S2XkM9y+An4vhfR/vL8gF\n",
       "uSAX5IJckAtyWY9cAPPDcB11feSH6UgfW/ZgXW9NwDxXyAW5IBfkglyQC3JBLsgFuSAX5IJckAty\n",
       "QS7IBbl0rqzRTyRX+8eZ8ZQsrsX/V7S1Djp+ayU6fsJh1lrR0bjckYZckAtyQS7IBbkgF+SiWI5E\n",
       "vF9ZIS5RfjNrxCU/GX1NZeW5pCsRF2xaGS6RfrUm7y10U9UxLp+Ncc2mleGim+3nr0f2n0bnuDyp\n",
       "4Bee4721Vmxy9Qhi9McZU40YXLR+1TBSnue/jbz6nEyC65Tb36/it8dMwuW6JFw8gnRPxKlwLgaX\n",
       "lPLAudMzW8yQh4NLvznxK+nVYzIJBpTnrprfb25qceeJsuzqXDUJl4EkXDyC3AiRggg0EQU1qMol\n",
       "75naM0yqRYC+quzy06ZYgrTylxSf5f0Wm6B9KLvauJqASzrJNye9gmyHSEEEmoiC2jarGMbeW0/Q\n",
       "UmftoasP/QoZv1IrqQmxBJndJTW/2Tnm9xXXL4ySeXpKamVLAi7KQfGCLECkIAJNBEFlr59XDEN7\n",
       "tf18lILPEQspaRiZpliCR/bWFR1vMv1+4RCxMCAV8ssJuKgH5RdEZ4M0XBCBJoKgNuYuqsaxof30\n",
       "R84darQpnednhBJojUNl1fZX/H7pzUBflF7+Y3UuCYLyC5KbjhZEoIkgqEr672Eufzd+P3z3vY1j\n",
       "1spuZNfIHhO62v32AWeaf0dqoXBVKEEGBsOWLsaXnprUb79nfIfVDcd+f2AXwC6/XzqNb5ZP48dM\n",
       "ZS4RQUUL0tUfLYhAk2BQhbJ+2XnlDobSvzI/A90NeKesW6Oy9kA52wSj/f4JJsDxAw85wz/NppWG\n",
       "18S8UIKXYLTmreP3C/tKcBx6HoRRZi/b9Sn4NoDp91tYHN/zRXnwo3VlLnxQfFsiBeluigWJ0CQY\n",
       "VKa9oslPwql++5Ag/yd7E1CjNl4DYINKL98EeZ+1m9h9r2TsNN3jEeMZ5xDEMqItCCWotFcsR4zh\n",
       "r5r24cR/2uG/S3XtnoEi67+PparwYsBvdhbeeNUNPmCkbzLAhWUfYA9cOgBBUP4DnZiCpKpBQQR2\n",
       "eE28hxHWqwe3bnNm6DdAHyfT40/Zf7xv9zky3V6mvfMKm1zgIuSuevVhaSNuJ+2yu5lRhREy9xdq\n",
       "bSPGAncIYs2wv966u+nUyUBm2vbbax0v6RepTdL7ikxis1iGQybvNzVDg3OCDxg5zbj4G3zWqcx+\n",
       "dh8alDvn1BQEYWY5QQR2eE1a/HgxSLP/Yb9wPxl0hEuKtl+zrxycpLO4EwadF7tnAv2WDLjTtvsM\n",
       "uf5u8vc2cI1ownnsJHky7dQpTpKLmF/os0f/Ap2lXS70XvFawG+xCsaHbvABI33K85gvKPc9T1si\n",
       "BbHGCydI0I4WNY/RwfVnsmN7/nAdpi0uWboiyTc31pzucakdRnYaihVenwIZ0oMVyN/3/MPQAxaX\n",
       "b4BrxJqJeQmIlZ4Zp07eJIEyv3BUO+COl0qby6M0DJ7LsQlIX3KDDxhhtyYlLv6g7hsZyx2t+9oS\n",
       "KQjj4hdEZIfXJBDUz9hq0zgyq0/TczLKhZ3Udv3b5//CZoQKFBbaYaQq8IJ3OoGdlC0ZyHsb+qlj\n",
       "pX3seOlu51TVMiJcjxUm2GrSrUPaZ50Q7/j4H9iN8j0i+2Sby6ch/zfeL3zFhOwVeNIJnjeivB7z\n",
       "B3XqFxO9VXqY42lLpCBdzYAgIjtR6zF2zDRV0k5WtVahaXGhf6H334EtKPQLkKrBrU4Yp5vaHwN7\n",
       "hBuJkxcbL90wRuaPl20uL4NrJC/av9BjJLIjduvsMy2/8D9lnV21vw43Q8rhYizC5jrvV/vAhPyV\n",
       "wh1O8LyRF1T3L/6gbvgBFOv0vMfTlkhB2MbEL4jITj58/2JMzZlw19LNZOmXnklXLS46bVrfVluG\n",
       "DcNfg+9/9PBdH7H5cnDkQInfI2SHhycgc8sEWdd+AT5nc3kCXCOZalCCt5Zug/TUXM2pQ3fMzK92\n",
       "yV74atv3TOq7zz82dZ7dbubHHwnsTYaHvwVw79Nu8LyRbYpc+KB2wH7oKfvaEikIHQi8IAI7vCay\n",
       "z196610VvemZx44WpkXnG/fyL/S2b2twAR5ivt15zDIiOx/z1tkAH7P85pv/rYnOLfpD/DrB80aS\n",
       "nI95g7oAB6FP97UlWpD3Y9mJcT5mLV1Km03nvp9rGDXYoU/XBHXeDQjmOXqf1c659/1xcI3IzpM9\n",
       "dbRXHh8ifuFN6Grsy4o+S6nJ/TrB80YSnSd7g2qRnn4042tLtCDbY9mJc55MyzPjQwC/BO3rlxvQ\n",
       "XdL/Sp7/q+AAzwgcpentRWL+lqdMUhmuH/gmteUaORwigV2nl67gSdX95e5S109E5+JluV8neN5I\n",
       "vpqQix1UoQqfhE/80NeWaEH2x7JzGOJxYZStPRm8RYaN5FjnM3OB06MH/V3Y3jwZzbaRMyESeOsQ\n",
       "vyA5NEwPbJH75YN3jPSUEnLxBsW1JVqQrnIcO2dicnmb2bEm0HsAfh7/KLX9OXtP2a5tm7KNhH6+\n",
       "761DHgtmAr988I6RxJ/ve4PytyVG8Xy+L7cT6/N9uvC/xNryHfuUDCbic0m7/WHvEDNlOodCtpHQ\n",
       "78N46lC/+SR++eBtI8m/D+NtiL8tccqdMewofh/GcB8UCv89LtN9sMpQ6NKnXWe5fvngM6bMm6hI\n",
       "guLaEqcEvj8msDOkxmUly3r6vmXyy1ZKE+SCXJALckEuyAW5XJtcitfE75Hj9r41/j3yPwGZCxGR\n",
       "hyFQNgAAAABJRU5ErkJggg==\n",
       "\" style=\"display:inline;vertical-align:middle;\" /></a><br>"
      ],
      "text/plain": [
       "<IPython.core.display.HTML object>"
      ]
     },
     "metadata": {},
     "output_type": "display_data"
    }
   ],
   "source": [
    "circuit_permuted_Akm = Qcircuit(VertExprArray(\n",
    "    ExprRange(i, [ExprRange(j, \n",
    "                            MultiQubitElem(IndexedVar(A, [pi, j]), \n",
    "                                           Function(InvImage(p), IndexedVar(R, [pi, j]))), \n",
    "                            one, k)], \n",
    "              one, m)))"
   ]
  },
  {
   "cell_type": "code",
   "execution_count": 30,
   "metadata": {},
   "outputs": [
    {
     "data": {
      "text/html": [
       "<strong id=\"circuit_permuted_Bkn\">circuit_permuted_Bkn:</strong> <a class=\"ProveItLink\" href=\"../__pv_it/common/b865776d39ab5de909a16746317cce43d1d327630/common_expr.ipynb\"><img src=\"data:image/png;base64,iVBORw0KGgoAAAANSUhEUgAAAxwAAADJBAMAAABbMik6AAAAMFBMVEX///8AAAAAAAAAAAAAAAAA\n",
       "AAAAAAAAAAAAAAAAAAAAAAAAAAAAAAAAAAAAAAAAAAAv3aB7AAAAD3RSTlMAZrurzTLvInZEmRDd\n",
       "VIkafcLnAAAACXBIWXMAAA7EAAAOxAGVKw4bAAAQ7UlEQVR42u2de2hUVx7Hf5OZm5uZm2RibaVx\n",
       "F5wKWqEUZ00EayuJClIQukMfEhYlsVbcCmUHKW2x3c3QLN1Bunaw4D9d6vSxWJslXLUspX/UQBEX\n",
       "pWVouxa6xU6xhYVubXwbg2bPOfd95845987cmYn2dyDJPO75fX/nfM77zvwCYKbkbBNTy2W5abap\n",
       "acrThyQ0LyVbIzsV8nWN9ApxIA7EgTgQB+JAHIgDoJf7brFROHzJNhlHpMB9O9EEHF1F7tu7GoTD\n",
       "n+wUd2sROo6v+W/LqcbgkFTr8QeCBpMLD0dw2SlejSdDwWFzShkUXHu3GMcds3196zLBXIjZHt/D\n",
       "msVEudrgccobR3NkA+GILL/Y178kKA6bU209Aqc6VXHveBIgejmYC2dsHXCE+pGDI9Ua2FiV3tEU\n",
       "2WC9o50MJgMBm4jdqedA4FRHWohDvgYQvx5sxrKN24ky+fU+ea1aRz2meuJojmwwHKNkhDtQhJqd\n",
       "mgCBU8qMEEeENNHItUAu/LxuMU2sHSXpYoKYiOeqdeYeTxzNkQ2GYxExvSgHNTs1DQKnYK0QR5S8\n",
       "GdsRyAX5PuvxMGmF8fNkRqvWyRMpTxzNkQ2GY4D8bMhCrU5JtO1znYK3hTjIgKk8xBkwlff2FKQN\n",
       "B/Or2LOhB4fOqrDbevtVesnsD9Xzd4x44hDJfpQ/BI/vfGEsV5dsMBxkOjt6nFf3fKc6JkVOwStC\n",
       "HMPL8v09HAubs7AMOtfAMGs25f5Sdwqi1uKun/Xy2YtVG1V8xhOHQFY6QefET0rSVahHNhAO6UJ+\n",
       "bC13Tct3KjoocgoOqCIcr2Wha6uxt2KGnCPfZ6TqMm0jkKSVJ5XWQ2QKFOvtxawHvTw7oj//irUT\n",
       "exkue+IQyHaWacalAOehHtlAODpILZ/usRt0WBQ61ZbycspRruGMCMdSOh9ljIMH5U5jL39YWx5I\n",
       "N8iFZaKUpGYVuAEdM3Yj6/Wheto8JqAZi5YJedoTh1P247MPOmWHSwA3aaWz2d6HrHKuT62UdeE4\n",
       "Rt5RLukPKnCQNgfdl53HHcUATsXSFXVhHY3QiiVrt4Ibh/uQ4CKYywklDUNkUI7TRaSUn9RaLrGd\n",
       "TBk46BjQNmKvl5Pkh7Qo5Yb29KiW8U0wTSgaDr5sEf7hlP2W+H3BLLkP2QQkJitlXXdEO4t6VvYg\n",
       "6bpdmkxbi72juo7NotApZtThlHZZmU00r7Lld8ELga2ZSrTjDegcyZ9vyN+NjMOk1TuKJo7uSfLM\n",
       "1UxJdYKsN5NDWsaYapqQPQcrl+w0jGYcsrQhXrdKLpZNFohQhWygwWqYVGV02iyH1uJV/07R3uGq\n",
       "C5ZYuVjF0lLyBys6YEqXIPLWvJXQqef6yeYC7CQTUMHEESvCAtVVL/RKsi1bOG9+Bia1p90l04Q2\n",
       "7yX5sr+ijtpl24sQn7ZKLpaNqARAhWwgHGQ6g+FB0+BbQ3scBRE6RXE4nVp4V76oV6eGQ1sPcXDE\n",
       "SHfbvxEOH8huhmf1XF/bcWzKwCMQM3AcS8nOpeAKIk9m+7Og9F6VJuVBLaN23spMeK+s3LLwP6es\n",
       "tB1iZVhnlNyHLG2sFbKBcGwguZ5SDYOH9/e0Z+0WhU5FUy6nlN6tsMM45/3Gz8oqSo/N7gd4cQxG\n",
       "YZ+ea58dhzxxtiANbNuyfBsbPof2Zt0r6UR8dV8J5A/T8lQ8pWWMp0wTEa99R4WsdMolu/vcA/DY\n",
       "lZWfX0n7lIXNaqVsEBwr6KGmZfDFP0PSYVHoFN3qOJySPxyEGb1cGo4Ffg/Yl8Fp+ELP9ajdBWd6\n",
       "13slrZ2ddY106f1VskqRSPMO2A3ZXWq9snR7XCFbywG7YXAV7HdYFDoVn3HbiObiI3q5NBzv+MWx\n",
       "HVazfBWDFbh3Ic7Ubt4Aa89Ei1KqYrCqcmbllJWLcrZO2d3wfKVsLTgMg9vhfck5WImcetptoz2T\n",
       "KGbsg9Vanzjkq/IpcyrPw8dVXDDWcK6jVe08NPuSakzlHTnTRJUTXafsrid+p9YnKy95YrxSthYc\n",
       "hsEpOP5vu0WxUxNuG6PQuSVDyqWUtYr1caKrb1ke3qNCWxb+9Nv/AtwLm0ry9zc9ziW/vOQ+2JDM\n",
       "lfed+XGalWUklgwT84GDw5D9A12B1yXbTjcPFbK14NANxtOwt8duUezUJreN16HjO/pXekar2Eja\n",
       "Jw7W2rQNCyikp5Z8H2mucbSNN7XHR8A0cYKHo9GyteCwG7RbFKdoycsGLVeXvlHM+sTRySwd1Ooo\n",
       "C3HVd72YN60/1fPqhnQT/HvljZb1wjElwGE3aLPoI1n3yu026J83tJd93CvX76KMs32mqh0hQcT/\n",
       "gX+XPop3X2eZfzROa3QT/E+SNFqW+0kS765jN2i36Ced8bLRqx2dQA2fJFHNX/6T8z69Yv7S0jgX\n",
       "R6NlvQru7zUFXBb9JNfnrBRwliuhBsTRsDSHPoXo97XmeoU4EAfiQByIA3HUgOOX+VVNr8qYC1/V\n",
       "rLudQ2u6V0PaZqtNIQ7EgTgQB+JAHIgDcSAOxIE4EAfiQByIA3EgDsSBOBAHv4R4wG4kjIXYlIR3\n",
       "AxEH4kAciANxIA7EcWvhuNViITYQB8ZC5MtiLER3g8mFhwNjIXonjIXo6RTGQsRYiBgLsZpTGAsR\n",
       "YyFiLMQqTmEsRJEsxkJ0J4yFaEsYC9E/jrkcC5HFFoS6YiFqJoLFQjRk64iFaJcNJxaiT6e4sRBp\n",
       "CeuIhchiC0JdsRA1E8FiIRqydcRCtMuGEwvRp1PcWIi0hHXEQmSxBaGuWIiaiWCxEA3ZOmIh2mXD\n",
       "iYXo0yluLERWwtpjIbLYgjTVHgtRMxEsFqIhW0csRLtsOLEQfTrFjYXISlhHLEQKn6Y6YiEyEwFj\n",
       "Ieqy9cRCtMmGFAvRn1P8WIi0hHXEQqSxBdk+p/ZYiMxEwFiIhmwdsRBtsiHFQvTnFD8WIi1hHbEQ\n",
       "7XtgKwWKhchMBIyFWLOsFQvRJhtSLER/TvFjIdIS1hELkcYWrEyBYiEyEwFjIdYsa8VCtMmGFAvR\n",
       "p1O8WIishLXHQmSxBStPTILEQtRMBIuFWLOsFQvRLhtOLES/TvFiIbIS1h4Lsd3zs4uBYiFqJoLF\n",
       "QqxZ1oqFaJcNJxaiX6d4sRBZCTEWYnAcGAuxYbK14MBYiBgLETAWIvc1jIXYgIQfCkUciANxIA7E\n",
       "cVvjwK9qVl8FYyzEJsni98oRB+JAHIgDcSAOxIE4EAfiQByIA3EgDsSBOBAH4kAcvwgcDTkibpKs\n",
       "v9N3/80jFCshtYapW092KtwOl2zxaIE4EAfiQByIA3EgDsSBOBAH4kAciANxIA7EgTgQB+JAHIgD\n",
       "cSAOxIE4EEf49cIiOzYfR/2yDcDBnGpx7zjZmt5xci72jpM4WN1mg1Uo3zFs0Vcb6zWiDXlmRYby\n",
       "JdBk2F8l/QX1jpO4ssLBCnEgDsSBOHAbeItvA63VFW4D58I28CRuA3GwQhyIA3EgDsRxi+PQVleI\n",
       "Y670jpO475gj+44QByvcd8ytuQP3HTiVIw7EgTgQB+JAHIjjNsFxe8UkqasQcyEmSQtbA0bsQRyI\n",
       "A3EgDsSBOBAH4kAciANxIA7EgTgQB+JAHIij2Tha9K8LW/0fEz1eSjb3u46zLe9qyZbLcnE0t6dP\n",
       "IQ7EgTgQB+JAHIgDcVRJvdx3E43CEVS2GTgiBf77xcbj6Cpy35ZTjcERWJa3/A8Lx9eC93c1Boek\n",
       "Wo8/EFx7d3g4QpZNhoLD5pQyKOo9uYbgiNke3yO4tlMNDUfIsuHgsDnV1iO6+JQIR2T5xb7+JQFd\n",
       "OGMbFUZYL50oVxvLO9Je9dIiWS6OO2b7+tZloHanngOBUzAm7B3tZJQdCOZExDZuJ8q0WeTgSLVG\n",
       "r8x41kuLZLm940mA6OWgs7fNqQkQOAXHVBGOUTKeHSgGcuHndYtpYpWZpIuJ94lbVcfNtZ710iJZ\n",
       "Hg75GkD8ekAcdqemQeRUrEeEYxGxtCgXyAX5PuvxMOVNmlS8qom3PeulRbI8HBFiL3ItIA6bUxLr\n",
       "kFynEikRjgHysyEbzIfd1sNXyU/8PPGl6sDzime9tEiWhyNKLontCDp3WE51TAqd6hgR4SAD5tHj\n",
       "HDnlvT0FacPB/Cr2bOjBobMqRK3FXT+9ZPYHjoEDqle9iGQ/yh+Cx3e+MJYLV5aHg0xnykPc6Yzv\n",
       "VHRQ6FR8RoBDupAfW2u88hUj6LxqcxaWQecaGGZNudxf6iZeW28vZiPP7MVsVRPDGY96EclKJ+ic\n",
       "+ElJugphynJxDC/L9xtL1S7NcC6IU20pL6ccNqTLAhwdxPTpHnOPf3jQ2Mr/WjfzGS1Z2wgk6UVS\n",
       "aT1EHNbWsx708uxIVROjBY96ccoq5/pULU/kX/q2oUxdXwpwHvzJWiY4sscG9S+D0wcVOF7LQtdW\n",
       "5xGMdtbi06lYuqIu3DbkaTcO141LUtHQra/ujoKUJ+Pfm1rX1YxJN4i3ZQI+SQupwA3omLHXix4d\n",
       "KjFd1cQxVi9c2QQkJvU8T+ttuwRwk/YBNrX6kLWZqC7bWdSzsgdJ13HJUrpQ0gYrJa0PLuUATnUW\n",
       "3U5V2FCmXec17t6RTFvLiUOkk5K6jLHRcFTvtcRAMmXgoINf24i7mZJWrtyoamLUa9RwyiYL8mUt\n",
       "j6y3nG9JZV4wS+5D1jLBk+UOVhfBXOwljLPAjeDfKdY7nHXhtiGLBqthkj86DQvnzc/ApFaX3SW2\n",
       "R5X3mr2jaOLoniTPXPVCm5I8U9UEm3SSXNmISvxkeSKpF8pGQ7xulVwsa5ngyfJwSHQIGihE3pq3\n",
       "EjoBFt6VJ4o/gX+nKA6nUxU2tFmHg4MMmDA8qPRelSblQa0utcPSVX/8J5uSdpJFSsHEESvCAtVu\n",
       "ZIWWJ1GuasJzieOSpUVjeaJ/+Q9barYXIT5tldyHrGmCJ8vDQacz6RIcPpDdDM+C0rsVduhntD6d\n",
       "iqZcTlXaEK6sNpBrnlLlD9PyVFw3F2crhN+XJHbVpgw8AjEDx7GUfNy9vE+Q2f4sVDWxwGsD4JKF\n",
       "zaqWp/2vwEZvaTvEyrDOKLkPWdMET5aHI0YGnv0b4cUxMtrtI3YHgdTdPvDvFN1UOJyqtBER7DtW\n",
       "0GOzEj1p6RrpSmt1KdFCydf/rm87J84WpIFtW5ZvY8Pn0N6se3mfiK/u45h4x6Ne3LJ0b8vyjL6v\n",
       "L/x3n3sAHruy8vMraZ+ypgmOLA9HlB5q3k8eLIPT8AV5nouTunsU/DtFm77TqQobibS/A/b2TLQo\n",
       "pWwjTST1N9kjz7vuF9oLIhO8wyMjz254XstzR3wyW5usacKHLPeAfTuspjXYnkkUM9pA49epp93l\n",
       "qrAhPrPS0mj2JdWYhzty8DEBu7nbI89nFacwZYEJ7tGqnkde8sQ4yaOUYZU0Wa5JVjfhT5aHQ74q\n",
       "n6JT+Sh0bslAHgI4NeEuV4UN8Ymulu7MjwPcC/L3N3PQloVNpbZs9C6PE5MbFTfDRgQmIrwbD3qe\n",
       "drotaMtKz5DHv8nUJKub8CfLwxF5eI9KDb0OHd9RwwGc2uQuV4WN+T7vBjKw2i4KjpCfkveZy5eX\n",
       "Km54rRGY6Mxy6sWVpwuaI8vDwfqdvnUDJRXEqWjJyym7jRM+cXzKPNFGyIPEHdX3ieYHAhPcm9au\n",
       "PG9Ac2R5ODpLuiXDrn+nrHvldqdsNvzeK+++zkrxo3HUEvFfL11lrgnuJ0nceXoaKMv7dLsdx8/j\n",
       "zKxqHl0FcOqMR7nsNgJ+kkQxfwVIvVwTCVXcTJsiy0sel6m2376T63NWitvGeDAcjUtz6FOItV8W\n",
       "VkIciANxIA7EgTgQx22II9mar7AmW/zNWa/Usm/O/h/twJSr7inMOwAAAABJRU5ErkJggg==\n",
       "\" style=\"display:inline;vertical-align:middle;\" /></a><br>"
      ],
      "text/plain": [
       "<IPython.core.display.HTML object>"
      ]
     },
     "metadata": {},
     "output_type": "display_data"
    }
   ],
   "source": [
    "circuit_permuted_Bkn = Qcircuit(VertExprArray(\n",
    "    ExprRange(i, [ExprRange(j, \n",
    "                            MultiQubitElem(IndexedVar(B, [pi, j]), \n",
    "                                           Function(InvImage(p), IndexedVar(S, [pi, j]))), \n",
    "                            one, k)], \n",
    "              one, n)))"
   ]
  },
  {
   "cell_type": "code",
   "execution_count": 31,
   "metadata": {},
   "outputs": [
    {
     "data": {
      "text/html": [
       "<strong id=\"circuit_compressed_inputAm\">circuit_compressed_inputAm:</strong> <a class=\"ProveItLink\" href=\"../__pv_it/common/60d1e3e6501808286248aa546b18773be61df5c50/common_expr.ipynb\"><img src=\"data:image/png;base64,iVBORw0KGgoAAAANSUhEUgAAADUAAAAVBAMAAAAUZLt1AAAAMFBMVEX///8AAAAAAAAAAAAAAAAA\n",
       "AAAAAAAAAAAAAAAAAAAAAAAAAAAAAAAAAAAAAAAAAAAv3aB7AAAAD3RSTlMAIs1UmauJMnZmRLsQ\n",
       "3e++988cAAAACXBIWXMAAA7EAAAOxAGVKw4bAAAA3UlEQVQoz2NgwACMDLgB04Ep0zsCOrdjkyvl\n",
       "mfWS4SlDK5QrhCznxXhCgeE7gxuUq48sd4GBtYH9AcNlCI/5P5IUswMDXwHHBsYPBWAuS7wAQo61\n",
       "gEEeqJNzgwOYm5hfgJA7xMCwlIFJgDHiANhDDf0GCLkZKI5mYbCfgODpoMgtZqhPAFL8/+EAIefA\n",
       "IB8A57AZIGvj2OISvwHO40Ux8gTQuAtw3hIUOaA/eB/AeeHIUlxANzJ9QAoxJCAHxNwfYTzOBiSp\n",
       "0/91GJj3f0qARx7uiJXGE+nJeOQCkNgAKWM2L/3Q+s8AAAAASUVORK5CYII=\n",
       "\" style=\"display:inline;vertical-align:middle;\" /></a><br>"
      ],
      "text/plain": [
       "<IPython.core.display.HTML object>"
      ]
     },
     "metadata": {},
     "output_type": "display_data"
    }
   ],
   "source": [
    "circuit_compressed_inputAm = Qcircuit(\n",
    "    VertExprArray([*multi_input_entries(A, one, m, (one, m))]))"
   ]
  },
  {
   "cell_type": "code",
   "execution_count": 32,
   "metadata": {},
   "outputs": [
    {
     "data": {
      "text/html": [
       "<strong id=\"circuit_compressed_outputAm\">circuit_compressed_outputAm:</strong> <a class=\"ProveItLink\" href=\"../__pv_it/common/692966d20ce1ee599d82797efc451498b5f60d970/common_expr.ipynb\"><img src=\"data:image/png;base64,iVBORw0KGgoAAAANSUhEUgAAACoAAAAPBAMAAABgjEDtAAAAMFBMVEX///8AAAAAAAAAAAAAAAAA\n",
       "AAAAAAAAAAAAAAAAAAAAAAAAAAAAAAAAAAAAAAAAAAAv3aB7AAAAD3RSTlMAIs1UmauJMnZmRLsQ\n",
       "3e++988cAAAACXBIWXMAAA7EAAAOxAGVKw4bAAAAZElEQVQY02NgwACMCgxYANMHbKL2WEVdP2IR\n",
       "ZBP7jkVUguMzFlEH5p8MDP/hAGIJlwH7N0ylLAyMXzFFu11cf2MI8jQwMPzFYgADwz0M0ZVArI8R\n",
       "Mg+AxH4BNFP3fzrAYP1fDQDVWB7RXPw+RAAAAABJRU5ErkJggg==\n",
       "\" style=\"display:inline;vertical-align:middle;\" /></a><br>"
      ],
      "text/plain": [
       "<IPython.core.display.HTML object>"
      ]
     },
     "metadata": {},
     "output_type": "display_data"
    }
   ],
   "source": [
    "circuit_compressed_outputAm = Qcircuit(\n",
    "    VertExprArray([*multi_output_entries(A, one, m, (one, m))]))"
   ]
  },
  {
   "cell_type": "code",
   "execution_count": 33,
   "metadata": {},
   "outputs": [
    {
     "data": {
      "text/html": [
       "<strong id=\"circuit_expanded_inputBm\">circuit_expanded_inputBm:</strong> <a class=\"ProveItLink\" href=\"../__pv_it/common/b0614735c01e22b8a43e4a001465da5a4bbdf4040/common_expr.ipynb\"><img src=\"data:image/png;base64,iVBORw0KGgoAAAANSUhEUgAAADoAAACkBAMAAAA0+SAoAAAAMFBMVEX///8AAAAAAAAAAAAAAAAA\n",
       "AAAAAAAAAAAAAAAAAAAAAAAAAAAAAAAAAAAAAAAAAAAv3aB7AAAAD3RSTlMAZrurzTLvInZEmRDd\n",
       "VIkafcLnAAAACXBIWXMAAA7EAAAOxAGVKw4bAAABkElEQVRYw2NgYGBg1P9sbKLKgAuwKTAw2Afg\n",
       "kq1vYGCYvwCXrDxQn3wDLll7IHYrwCWbxMCw+SguSdZPHc2OOJ3M8Z2B4ZoAA7cIVlmmBAYGvq8M\n",
       "ET1g3n8kAOLzGwBD5AcDwx2seuMFGBiYf+KS7Qd6Jt4Bl6wbAwNnygYcskb/jY2dLjDg0gsDFMjW\n",
       "+b9gGAWjYBTQBAzbUnTfY2ts5SS0FF3AsAabXmgp+pOhPgB3KSqNXRZWijK8wVeKsp7GV4oWbcAT\n",
       "VewL2AtwyxaFRuHRnA/x/SgYBaNgFAxqwP0Fr/QpSs3/jw5GdGiM+ncUjIKRBIRArU2cbXpQ05v5\n",
       "K8426A9gO/YXzs7EV8ggBHbA/IGBgSUdT0+D2wanq+I1OkwEcDoZ2PTmTcQpqwbE75FM5kcp+T8z\n",
       "4OmlsH4E9VQmMC6MaOYQCsDW02D9wrBxmgCbAYcBuiwLsKcxzZuhuoWBP4DrAXpYgLpdukCGBUMY\n",
       "A88FXE5PZWhiqGfFFRcfgLqFuHDIchowuDMUd6MKAgCTAp0tQzOxawAAAABJRU5ErkJggg==\n",
       "\" style=\"display:inline;vertical-align:middle;\" /></a><br>"
      ],
      "text/plain": [
       "<IPython.core.display.HTML object>"
      ]
     },
     "metadata": {},
     "output_type": "display_data"
    }
   ],
   "source": [
    "circuit_expanded_inputBm = Qcircuit(\n",
    "    VertExprArray([ExprRange(k, Input(IndexedVar(B, k)), one, m)]))"
   ]
  },
  {
   "cell_type": "code",
   "execution_count": 34,
   "metadata": {},
   "outputs": [
    {
     "data": {
      "text/html": [
       "<strong id=\"circuit_expanded_outputBm\">circuit_expanded_outputBm:</strong> <a class=\"ProveItLink\" href=\"../__pv_it/common/d98b1e6b15ce4e327259b62f2ff0bd99f844370b0/common_expr.ipynb\"><img src=\"data:image/png;base64,iVBORw0KGgoAAAANSUhEUgAAADkAAACkBAMAAADfzpsrAAAAMFBMVEX///8AAAAAAAAAAAAAAAAA\n",
       "AAAAAAAAAAAAAAAAAAAAAAAAAAAAAAAAAAAAAAAAAAAv3aB7AAAAD3RSTlMAZrurzTLvInZEmRDd\n",
       "VIkafcLnAAAACXBIWXMAAA7EAAAOxAGVKw4bAAABRklEQVRYw2NgQAeM+p+NTVQZcAE2BQYG+wBc\n",
       "svUNDAzzF+CSlQfqk2/AJWsPxG4FuGSTGBg2H8Ulyfqpo9kRp5M5vjMwXBNg4BYBcf4jAbAsUwID\n",
       "A99XhogerHr5DYAh8oOB4Q5W2XgBBgbmn7hk+4GeiXfAJevGwMCZsgGHrNF/Y2OnCwy49MIABbJ1\n",
       "/i8YRsEoGAU0AUO+FMUoJ6Gl6L7H1tj0QkvRBQxr8JSiPxnqA3CXotLYZWGlKMMbfKUo62l8pWjR\n",
       "BjxRxb6AvQC3bFFoFB7N+dDAGQWjYBSMgsEMuL/glT5FnCn/0cGIDo1R/46CUTAKhvO4CWbJ/wGp\n",
       "xY8DwMZNGPCNm0iJdhg0quJo8XNLJjIkMzTjaPGz73Bg+MqwDleLn7mBNYHhLM64COBQYP+AKzLq\n",
       "gboZFXBFxmQGlgJ2iw0AH/2fwSYrH/UAAAAASUVORK5CYII=\n",
       "\" style=\"display:inline;vertical-align:middle;\" /></a><br>"
      ],
      "text/plain": [
       "<IPython.core.display.HTML object>"
      ]
     },
     "metadata": {},
     "output_type": "display_data"
    }
   ],
   "source": [
    "circuit_expanded_outputBm = Qcircuit(\n",
    "    VertExprArray([ExprRange(k, Output(IndexedVar(B, k)), one, m)]))"
   ]
  },
  {
   "cell_type": "code",
   "execution_count": 35,
   "metadata": {},
   "outputs": [
    {
     "data": {
      "text/html": [
       "<strong id=\"N_0_to_m\">N_0_to_m:</strong> <a class=\"ProveItLink\" href=\"../__pv_it/common/9fe42e10fed35f8c302161ad37279382d9169cdc0/common_expr.ipynb\"><img src=\"data:image/png;base64,iVBORw0KGgoAAAANSUhEUgAAAIoAAAASBAMAAAB2nFt5AAAAMFBMVEX///8AAAAAAAAAAAAAAAAA\n",
       "AAAAAAAAAAAAAAAAAAAAAAAAAAAAAAAAAAAAAAAAAAAv3aB7AAAAD3RSTlMAdrsyRM3vEKvdVCKJ\n",
       "mWY5NCfAAAAACXBIWXMAAA7EAAAOxAGVKw4bAAABpElEQVQ4y4WTP0/CYBCHf4WGplAokBgd2RyL\n",
       "izMxagwLzjpo5ANYEwddEBdnJo2Dkbi4suliKINhZXMxinwBiIJowD/X0sLbvlIvacN7eXh6d70C\n",
       "SP6kIW7t6HBC0N6Alfd5+ATPaEVA1hkk8EG3M/iGlxGvBoDCElmtAhj+Fi+j7A8pyRL1nAGx7G/x\n",
       "MlGcUpIlGvI2FN3f4mWiaDfRcBGxb8r+Y/EwWagl1xSo0E/3oPjgmDqiXTEDpeaYqNDnzDJQWJ9u\n",
       "cZhJbYi8UvIFS+MWUU3VEUyUpltsZhJUgnYH5KFW7OfQNgxoUGEfi8MwHSL3iEgfobIzKIhfhr/F\n",
       "ZmJPC3NCK211CLmLYB9yE/poUMBlZmSReAHLFFaboaJAu39I51jHtITiUo8OkllCGyPLEU3Yypo/\n",
       "JieHuZmBmo4aONjdoETK7Egt41yHdNKjzgK2RTY/lQu65IZzczHHWITMrLA13TC7sdZcrrmOXEwe\n",
       "SVSDk3MCa56P0rIYf72ecUQ6VE2L2WGl9gDsscT9MA4pzllYRixiE7ezHoL7j8C/I96LX8ttfxB+\n",
       "4VsuAAAAAElFTkSuQmCC\n",
       "\" style=\"display:inline;vertical-align:middle;\" /></a><br>"
      ],
      "text/plain": [
       "<IPython.core.display.HTML object>"
      ]
     },
     "metadata": {},
     "output_type": "display_data"
    }
   ],
   "source": [
    "N_0_to_m = var_range(N, zero, m)"
   ]
  },
  {
   "cell_type": "code",
   "execution_count": 36,
   "metadata": {},
   "outputs": [
    {
     "data": {
      "text/html": [
       "<strong id=\"N_0\">N_0:</strong> <a class=\"ProveItLink\" href=\"../__pv_it/common/fbee4787e4361ab863a9dbbdf9c2369405c163e90/common_expr.ipynb\"><img src=\"data:image/png;base64,iVBORw0KGgoAAAANSUhEUgAAABkAAAARBAMAAADalBo9AAAAMFBMVEX///8AAAAAAAAAAAAAAAAA\n",
       "AAAAAAAAAAAAAAAAAAAAAAAAAAAAAAAAAAAAAAAAAAAv3aB7AAAAD3RSTlMAdrsyRM3vEKvdVCKJ\n",
       "mWY5NCfAAAAACXBIWXMAAA7EAAAOxAGVKw4bAAAAo0lEQVQI12NgYBD6b8DAEp9UwAAB+g0MDJww\n",
       "Dsui3wwMPFAOA0/JHwYGLxiPl2EaA8NxBO/9A4YLMJ4XA/8EhgMw3nEG3i8sDgw8B8EiFxi4P/EU\n",
       "MDxkcALxgEL6exkYkhn4NwCtW8DA4H+Hgfs7AxuQBVTEwPmFgfk7A+cDBoZKoGK+DyAemwBDRX4U\n",
       "kKsAUsm/gAEOIKbAgCCDB4IDtP06AwCpcCYvN8NhMAAAAABJRU5ErkJggg==\n",
       "\" style=\"display:inline;vertical-align:middle;\" /></a><br>"
      ],
      "text/plain": [
       "<IPython.core.display.HTML object>"
      ]
     },
     "metadata": {},
     "output_type": "display_data"
    }
   ],
   "source": [
    "N_0 = IndexedVar(N, zero)"
   ]
  },
  {
   "cell_type": "code",
   "execution_count": 37,
   "metadata": {},
   "outputs": [
    {
     "data": {
      "text/html": [
       "<strong id=\"N_m\">N_m:</strong> <a class=\"ProveItLink\" href=\"../__pv_it/common/74253b2891872fd780054174601dbebfc5c1a3d70/common_expr.ipynb\"><img src=\"data:image/png;base64,iVBORw0KGgoAAAANSUhEUgAAAB8AAAARBAMAAADXimp6AAAAMFBMVEX///8AAAAAAAAAAAAAAAAA\n",
       "AAAAAAAAAAAAAAAAAAAAAAAAAAAAAAAAAAAAAAAAAAAv3aB7AAAAD3RSTlMAdrsyRM3vEKvdVCKJ\n",
       "mWY5NCfAAAAACXBIWXMAAA7EAAAOxAGVKw4bAAAArklEQVQY02NgYBD6b8DAEp9UwAAH+g0MDJxI\n",
       "fJZFvxkYeBB8Bp6SPwwMXkgCvAzTGBiOowi8f8BwAUnAi4F/AsMBJIHjDLxfWByQBC4wcH/iQbIV\n",
       "pFp/LxKfZQEDg/8dBoa3jwUb5JRBzgCq5vzCwP4kjyGDQQIoUAnEfB8YuAsDGD4zAFVW5EcBRRQY\n",
       "GDgEmBMYZiGZxWbAqMD9wQAhsB+ohk8BycUeDKwbuBsLAF5TJm1vJfpyAAAAAElFTkSuQmCC\n",
       "\" style=\"display:inline;vertical-align:middle;\" /></a><br>"
      ],
      "text/plain": [
       "<IPython.core.display.HTML object>"
      ]
     },
     "metadata": {},
     "output_type": "display_data"
    }
   ],
   "source": [
    "N_m = IndexedVar(N, m)"
   ]
  },
  {
   "cell_type": "code",
   "execution_count": 38,
   "metadata": {},
   "outputs": [
    {
     "data": {
      "text/html": [
       "<strong id=\"N_km1\">N_km1:</strong> <a class=\"ProveItLink\" href=\"../__pv_it/common/83bb9089fd29d5dcddb77072b027afb4e59d7ba60/common_expr.ipynb\"><img src=\"data:image/png;base64,iVBORw0KGgoAAAANSUhEUgAAAC0AAAARBAMAAAC7jDh/AAAAMFBMVEX///8AAAAAAAAAAAAAAAAA\n",
       "AAAAAAAAAAAAAAAAAAAAAAAAAAAAAAAAAAAAAAAAAAAv3aB7AAAAD3RSTlMAdrsyRM3vEKvdVCKJ\n",
       "mWY5NCfAAAAACXBIWXMAAA7EAAAOxAGVKw4bAAAAw0lEQVQY02NgYBD6b8DAEp9UwIAO9BsYGDgx\n",
       "hVkW/WZg4MEQZuAp+cPA4IUpzsswjYHhODbx9w8YLmCKezHwT2A4gCl+nIH3C4sDA99EuEhdAIi8\n",
       "wMD9iQfozBSYMLPgBBAFNEJ/LwMD9we4ei6QOMsCBgb/OwwMfAobDyCLg4zg/MLAwCG9PBtZvBKI\n",
       "+YBmsEkxGCCJV+RHAVkKDAz77xowGCkBwQaIehh4xDJhA7I5MNDIPOEANnFthj6o+dxH/wgAAIbK\n",
       "LbEhefIRAAAAAElFTkSuQmCC\n",
       "\" style=\"display:inline;vertical-align:middle;\" /></a><br>"
      ],
      "text/plain": [
       "<IPython.core.display.HTML object>"
      ]
     },
     "metadata": {},
     "output_type": "display_data"
    }
   ],
   "source": [
    "N_km1 = IndexedVar(N, subtract(k, one))"
   ]
  },
  {
   "cell_type": "code",
   "execution_count": 39,
   "metadata": {},
   "outputs": [
    {
     "data": {
      "text/html": [
       "<strong id=\"kth_start\">kth_start:</strong> <a class=\"ProveItLink\" href=\"../__pv_it/common/843836abeeb643b5482714ba1a31a75a78e562e20/common_expr.ipynb\"><img src=\"data:image/png;base64,iVBORw0KGgoAAAANSUhEUgAAAFIAAAARBAMAAAC8zuZqAAAAMFBMVEX///8AAAAAAAAAAAAAAAAA\n",
       "AAAAAAAAAAAAAAAAAAAAAAAAAAAAAAAAAAAAAAAAAAAv3aB7AAAAD3RSTlMAdrsyRM3vEKvdVCKJ\n",
       "mWY5NCfAAAAACXBIWXMAAA7EAAAOxAGVKw4bAAAA7ElEQVQoz2NgYBD6b8DAEp9UwIAHME8HU/oN\n",
       "DAyceBVWXP0OolgW/WZg4MGuxA9KM4JV8pT8YWDwwq5yIYpKXoZpDAzHiVP5/gHDBWJUejHwT2A4\n",
       "QIzK4wy8X1gcGPgmwuXZn2JXeYGB+xMPMJBS4CoNJcHUzZkz02bOnIFQCbRYfy8DA/cHhKUrsZrJ\n",
       "soCBwf8OAwOfwsYD+FWCLOb8wsDAIb08G7/KSiDmA9rMJsVggFMlDzAaK/KjgCwFBob9dw0YmJWA\n",
       "QBtTJUfb1z6ELx6xTNiA00wU0Mg8AdNHfthUajP0wdy5J/4gpjwANNBIktRQrdEAAAAASUVORK5C\n",
       "YII=\n",
       "\" style=\"display:inline;vertical-align:middle;\" /></a><br>"
      ],
      "text/plain": [
       "<IPython.core.display.HTML object>"
      ]
     },
     "metadata": {},
     "output_type": "display_data"
    }
   ],
   "source": [
    "kth_start = Add(N_km1, one)"
   ]
  },
  {
   "cell_type": "code",
   "execution_count": 40,
   "metadata": {},
   "outputs": [
    {
     "data": {
      "text/html": [
       "<strong id=\"N_k\">N_k:</strong> <a class=\"ProveItLink\" href=\"../__pv_it/common/fcd3a648dbeeac75d9329c0811c5edf8d9226dd80/common_expr.ipynb\"><img src=\"data:image/png;base64,iVBORw0KGgoAAAANSUhEUgAAABoAAAARBAMAAAAxo6E+AAAAMFBMVEX///8AAAAAAAAAAAAAAAAA\n",
       "AAAAAAAAAAAAAAAAAAAAAAAAAAAAAAAAAAAAAAAAAAAv3aB7AAAAD3RSTlMAdrsyRM3vEKvdVCKJ\n",
       "mWY5NCfAAAAACXBIWXMAAA7EAAAOxAGVKw4bAAAApElEQVQI12NgYBD6b8DAEp9UwAAB+g0MDJww\n",
       "Dsui3wwMPFAOA0/JHwYGLxiPl2EaA8NxBO/9A4YLMJ4XA/8EhgMw3nEG3i8sDgx8E8G8Cwzcn3iA\n",
       "FqSAeUBF+nsZGLg/gK1bwMDgf4eBgU9hI1AcpIjzCwMDh/TybAaGSqA8H1AVmxSDAUNFfhSQq8DA\n",
       "sP+uAQMCPGKZsAHBa2SecADB02boMwAAo4Akw3aVbqEAAAAASUVORK5CYII=\n",
       "\" style=\"display:inline;vertical-align:middle;\" /></a><br>"
      ],
      "text/plain": [
       "<IPython.core.display.HTML object>"
      ]
     },
     "metadata": {},
     "output_type": "display_data"
    }
   ],
   "source": [
    "N_k = IndexedVar(N, k)"
   ]
  },
  {
   "cell_type": "code",
   "execution_count": 41,
   "metadata": {},
   "outputs": [
    {
     "data": {
      "text/html": [
       "<strong id=\"each_Nk_is_partial_sum\">each_Nk_is_partial_sum:</strong> <a class=\"ProveItLink\" href=\"../__pv_it/common/985391eb3c8351becc89fcd233ec606b0894131b0/common_expr.ipynb\"><img src=\"data:image/png;base64,iVBORw0KGgoAAAANSUhEUgAAAswAAAAVBAMAAACgUaXnAAAAMFBMVEX///8AAAAAAAAAAAAAAAAA\n",
       "AAAAAAAAAAAAAAAAAAAAAAAAAAAAAAAAAAAAAAAAAAAv3aB7AAAAD3RSTlMAInZUiRDNmWbv3US7\n",
       "qzJazP2FAAAACXBIWXMAAA7EAAAOxAGVKw4bAAAFS0lEQVRYw6WZW4gbVRjH/5NkNrfdJEqxIAuN\n",
       "K2iRLgQRxUXYsG19EAujiIgXNkWEvjXgVqRPQbGLt3YfFBS1jYgW44VQX+qlNCv41stSaPFFCEIR\n",
       "inS30FVhpfGcOZPkzDnfnDmJH5zZ2fP9c34z/5lzyQmAEmKiZPhPDQcjhqN9qDTK1YwDGKvRUbEq\n",
       "PVGJk56S/4mR3z3qdeTLotgC4i83DjBWoyNjVfoDrOzqdZE/+LGny/bcW0KiIVWY5cmqMU3FzqDY\n",
       "AeLSFoCxGh0dG6a7Nf7PxTUgR3x+ouJ+Crzkn+/mB7McT8OYpmLCE8UOEJO2AIRjt12jY2DD9DR/\n",
       "VfOP3ABShOgt4HFg2Sd9wY9mOV6FMY3TelWmLoodICZtAQjbZ8O0UpDoIT3Lz1PP3QS+I0TngXkP\n",
       "Wf4EE++22dEsx4o5jfuJuveDYgXI/m9AeMi1YVopaPSA/qD/sPAlsJfQ/A2sVzDBn2Wu0GFHszxZ\n",
       "M6bpSzkQFBtAXNoCEAorppUi0mZBXxINHGugTgxJ3OYGUmv+JLCfHY1ypKvG9OBS8rNPLPzcr9sX\n",
       "FBtAXNoCoMxsFkwrxQB96vK2XfLCRtC52awnFJuoDsxq+cG8dVgvWS8jw1/S/XgoeDaRcvHaK2nq\n",
       "UlKTl7DYX4keCYoNgEqPCAhFJHNErISuni+7N6RqQf+Mn+5FeivfJhbX3OYqkmzILaz5k6xRjlzF\n",
       "mB5cyo+5DnZ0g7qHRbECxKUtAHLYMWGj6KPz7a/h3JKqBf0jflqH82/KQ2pBeVYus/lsGYUNYKqL\n",
       "BOsLstw9os0UbTr9jD9mH261Pmy1vmFn3mKbT62iel0UAvDUvssqISJNA9w9v3kaQA6CSUe0IrjL\n",
       "Adp1t5DclASC7jfA3L24HXgNP+lT4HwF+RV/Rew2EZL/fh9ts5YuzDSVaWIeuNKv/l4UAlDHYfJ+\n",
       "tXQEII10UwMoy3yVabCZVAzvMkAnNzBVkwSCzrtDnvX1s2yUP45iKTwonQOOeUg2xTr+ZYTkmFPH\n",
       "MH/QUNI+WnXhCvCPG1TPiUIAtkTHlwdJIh0NKLb97hsGqF9O1Jsix2ZaAch3GaCZx8WGF87Pgc/H\n",
       "vCfktuBsIqt8dX8TeIUtr9mqh9/HHZDlso9BTJbptObCe6xjpYLqd0QhAG8MfexHRJoGZDzf5jBA\n",
       "DoK5fHRmbecFGLCKQrU5W2XDVXUoEnS+3niWf1vZQGETuYY6p7nH/XVahhs42ZXlhM3+yo9Iqy6w\n",
       "u0/UjgbVS34hAXhMJUSkIwBINVWA+xf7s8h6NTshmO7bH+ATzBqwqkK1mT36ezJXhyJBvwa8cOJF\n",
       "dtrhNmeVOcJdmmUvTK6NKd4NCmVZTthcaNJp1YV8E+6vlaD6K7+QgMLnKiEiHQHANU8DnORvD1/9\n",
       "nqSYzpM13MKSAasqVJt/YNLXJZGg54bdkg0aRXK/707p9e5Sw9IgvlVGrT/PsSjpfVoyx2mKQgGm\n",
       "tZlfTZsBzi86gFqHSo1OlQsrYv0Woyhw8qpus9JMQM9IX2uCKZDeEBruhBhsXiYnh6ELp3Wb+a5M\n",
       "ukECnLpTInZiiHQEYDtu0wAR2zuDxVI30XE2uvaKOXLraCDq01eHuRmcIX8BkLcCVo02T5bMNkO3\n",
       "eTooBGD6+h/a60ynaYBz4fohHUCE1OgO9iJmOnV7xRzZ4kDUpz8vzWALh6iPhLyT5NsOLmibIB0q\n",
       "7Tx6k/r5QlSvKs9OApzo9bQPkekIQLbX29ABREiNnsFEybnkWSsIE0KiPt0px+1M3xXyxiy/fdRf\n",
       "cRIlUWwB8ZcbBxir0ZGxYfp/FT1mO29AyJ4AAAAASUVORK5CYII=\n",
       "\" style=\"display:inline;vertical-align:middle;\" /></a><br>"
      ],
      "text/plain": [
       "<IPython.core.display.HTML object>"
      ]
     },
     "metadata": {},
     "output_type": "display_data"
    }
   ],
   "source": [
    "each_Nk_is_partial_sum = And(Equals(N_0, zero),\n",
    "                        ExprRange(k, Equals(N_k, Add(N_km1, n_k)), one, m))"
   ]
  },
  {
   "cell_type": "code",
   "execution_count": 42,
   "metadata": {},
   "outputs": [
    {
     "data": {
      "text/html": [
       "<strong id=\"input_Ak_nk\">input_Ak_nk:</strong> <a class=\"ProveItLink\" href=\"../__pv_it/common/bb826463bbde9b3613eb6ae0311587bfa9657f200/common_expr.ipynb\"><img src=\"data:image/png;base64,iVBORw0KGgoAAAANSUhEUgAAAW4AAABXBAMAAADWjrJtAAAAMFBMVEX///8AAAAAAAAAAAAAAAAA\n",
       "AAAAAAAAAAAAAAAAAAAAAAAAAAAAAAAAAAAAAAAAAAAv3aB7AAAAD3RSTlMAIs1UmauJMnZmRLsQ\n",
       "3e++988cAAAACXBIWXMAAA7EAAAOxAGVKw4bAAAF6UlEQVRo3u2aW2gcVRjHv+kmO3uZzQ5tjYLY\n",
       "rWj7UKVZHywBW7KWtAqleImVFLUZC4IPkQzUB19iYq1FKJpQBQtFOiQUbLFkCxYEhd2HViRim4e0\n",
       "FGxMCq3UCLkZrY1t1nPm7M5l58zmnMmE7uL8ITM7c2a+859z+c7OLwuwTEmnwS+tkXnvWO29soNf\n",
       "++ZbfC3PeUcTQ9Br1NOhu2gTyd0GGFj83kOAIwUVYk1/EMPxF/lshwruZWGyu7D9Lr14RK/wL7S5\n",
       "VrEOtwA55DWRtwZjV12H+8haW9xHKvkezKEACj3AqYoBYs/MGm3D7fvNLtW17BCL784hBWJpeoDm\n",
       "igHCw3+jx/bmW+jtS7uOynkW35nEBITzXnzXwa/osb35roOWfuNg4LfPd6CjY4c7YeDWlkefvrcn\n",
       "batWev6QJm5+9uN2m+/oHRTFm+8T/ZDx5nsQeixjc0qTRiF0HbYD3HjqDoyWVdstw7eQaIMeMiXq\n",
       "1uNBmoZ7xiDl8z0IyRFjZkQmuHxnIIUm9Ze95GgDQIuGfA/JMAZ5h+8rAD1qfAKSpIvW4R0aIi9o\n",
       "p80QuFuOsvnuhLqFmAbRq/qA/ZPHduSb1o4sQINGDh8HuIQ6brhLxo9Q7ltEoZNKPAtJ3eMDm0hn\n",
       "QyrbaYZAeu8Tfbd7bGxqbOyyu+8MCP/imTFJkuVjaJMsGKro+0fAfQUpMHwns3C+rUXGH8t9hxZw\n",
       "seFb3JUnOT4+mzFDYG1ja280RHIo1Qoz+tF+jWuYAEoHcFw4bLZ3aBIP4I26b8XR3hnDN1niUB6L\n",
       "zStmCHbfOHkO7QSIZh9Siosvq2JohK5Cj9u+5qJcGt9qMgNDD8ob9cew+YYbqCLN9K2nAJzHxjUz\n",
       "BLtvPEQSqAvrP9h6HR3R56VEPbsOtxpatG6lRf14syxdQU0KfQdkPEb2F32HZ8nl76uoG1bZfEvY\n",
       "+wkwQ1B9lwJcQhlImiue/Bn9RVGjNXwIqmsexHc49FPhSQjl5hRh/rliPjn2kQZie/MPV08utqGW\n",
       "eFVfT+r3ze0li9TOtzSx4+aB3M2Sb2nfHOrtOCrCIcTvkM46fRsBEhlz1lyYxhMRJYVUq+qevxOV\n",
       "vvlEs2eE0vjmkLUqIwS1vSvqeGxEdl93tla4s763O7xM30YIm+9TLGHaxRHF3bdS4c64XP+F/uEy\n",
       "l2/rEmeEQGpsepsnzFnYqxYXX8q87GWIcHLxJa7vZFxL3BK62E9vG1gBrW3zLVRjGwQKFChQoECB\n",
       "Av1/FXD7FeH2QusTVGZb7dz+YQgvuL+nVS+3Ry9BU+6+q5fbT+eB+nDVzu3fAOhQXX1XMbcHGCd5\n",
       "r8a4PYj/6Lta4/aQIEmq1rg97CKtXmvcPkqau+a4/RYQZKg9bi8qENETXVVwe3yGjds/0tq6Wy++\n",
       "T9xev8P6gZHbjxcKpK77xe1HrbdaSH5tcXvzTG1xe/NMTXF7CsmvCW7vA8kPuH2gQIECBQoUKJCv\n",
       "Gtb8isRD71cvt7LIprxfvnnofdNyK2vBddkYvJu6acUe6T0Dt19C7+hbK4OnS3qliVrujd6z/N6e\n",
       "wbeNwZfJeMvso/n2SO9Zfm/P4NvG4MvUXNG3N3rP9Ht7Bt82Bs/l2xu9Z+H2X73eeMTyEl1G70u+\n",
       "LQye07cXes/C7ZVzvdKsJSvY6T2+uIzBc/n2Ru8ZuH1M+wWE20W8Dg56L/yOtzYGT7rlKJtvT/Se\n",
       "hdtL0oJOeSeLo95O74WXNfL8VgaP5aT3dN8Ueg8mvZ+h+2bi9qEZqF9fwuvl9B7e1f9VrNgYvK5t\n",
       "bO2teKH3GRZuj0wn+/MErzvpPZyDcgbP49sTvWfj9g0KWssVgtfBQe/1fII72mTwPL7td4bZ5iUb\n",
       "t0+pcDCqErwODnqv+7YzeDffXSQD8dP7MjFy+zNounxWxOvgoPfYt43Bu9F72DO9QU9B/PTeRUzc\n",
       "nuB11+9Vzov8pPd0MXF7gteX8G29yE96TxcTtyd4naJP6Rf5Se+XECe3LyqV9u+Vz4Xer4iEHb4Z\n",
       "Z6P3/wHevlGJ6SFCWwAAAABJRU5ErkJggg==\n",
       "\" style=\"display:inline;vertical-align:middle;\" /></a><br>"
      ],
      "text/plain": [
       "<IPython.core.display.HTML object>"
      ]
     },
     "metadata": {},
     "output_type": "display_data"
    }
   ],
   "source": [
    "input_Ak_nk = (list(multi_input_entries(A_k, kth_start, N_k, (one, n_k),\n",
    "                                        check_part_index_span=True))[0]\n",
    "               .with_wrapping_at(2, 6))"
   ]
  },
  {
   "cell_type": "code",
   "execution_count": 43,
   "metadata": {},
   "outputs": [
    {
     "data": {
      "text/html": [
       "<strong id=\"output_Ak_nk\">output_Ak_nk:</strong> <a class=\"ProveItLink\" href=\"../__pv_it/common/5b0ac3501f026d02aee05b105981235a4863b6a30/common_expr.ipynb\"><img src=\"data:image/png;base64,iVBORw0KGgoAAAANSUhEUgAAAXUAAABXBAMAAAAJwMhyAAAAMFBMVEX///8AAAAAAAAAAAAAAAAA\n",
       "AAAAAAAAAAAAAAAAAAAAAAAAAAAAAAAAAAAAAAAAAAAv3aB7AAAAD3RSTlMAIs1UmauJMnZmRLsQ\n",
       "3e++988cAAAACXBIWXMAAA7EAAAOxAGVKw4bAAAF+ElEQVRo3u2bf2gbVRzAv9ekuSa5NAertSDa\n",
       "iNo/HKz1D8egSuNopziGlaLr/LEeBcU/CgaHIMhsnNsoFLGo4GDIjo6BE0ezPwRhYvLHKjpwq9CO\n",
       "gcvaQadjYtdftjb95bt3l5e7JO/y7po2DdwXcsklL+997t33vfvx4QCKGsK3Ratqh2jjT1zIfoPH\n",
       "visaO/96wvqfKqYZKr6Z92vXClpUxRcBBtd+tFFB/3oEfI1/q9D+duvsLSbsHvVteO9K/p9HcKP/\n",
       "osVN0zZoFcQRbyChr8xatM3Qf6vR3qvM2M/GUapKeQv4Bkwr8DXPkP6xw+6pXaT/eJyFvWdIAl9T\n",
       "/qSKmlbgubKANt0+e13VHD1L51nYw4EJ8CTssLvhFtp0++xh11JmZfDPL9vQbj51sgcG7+5+9OnV\n",
       "V5oMTV/uexHem6w7ETWwe5cQhT32MwMQts3ua+IXdKtTsjAKrtuwF2DyqSUYNTbN/w7+KIw18doQ\n",
       "cYdwDbBKktYa+1kIjpCRUjVhld0NHJomvDe01SfQvCMj9iERkpDIZg9IwC/CTwDarnpEGYooXV6S\n",
       "0THq6yip9NcQG3sPuFM+WWudmyvEuk5CnRr7W9uW0ds97efHAa6hnXjlXVHZjGz2XpRBC3AJ4D+8\n",
       "+sCT6tZDfQwlbbVMhkkf3v3uZPLWP8lkO509DNyyMlLU1ocfs3hQRx2zirZ5OsMejMHljhZR+ZjN\n",
       "3oLwljPs/P6Eegzwz6Dtrdelyghbv6N0ideQ1rtlqykDylj3xuqkTL+77kGvCA2YXcru9/kMu3oo\n",
       "RHOcbx4VO82dtMiuTKxD+9Ktu1Yspvt59GoEqPz4mdsk3yPBMAw9KDbgTTGwV4fBl9Kx46lBmePG\n",
       "UZd17rgqWmNX0iWQSrfu0Y9VhnMbTimPDovVn0AEf7FLFK4DYv/siKjkS7fG7lEnFv4vqJBgp4Fd\n",
       "UDjPoNfdJp7e71oFwmx6ocRv6OVF+aK2rp8jSRGTbI/PJqB5vQHqWyPaPHPqhAx8556fb5xb60A9\n",
       "8irugMrDs4fUc4S3X4P31w42r7Wn2YXDs2jP+1E3zD8P8OElFGIuO6lgFDKjaPi+MjhjoLVumN+T\n",
       "7CeVp30jYjrfrZxP6Jrzxi5w9H5naN3A7mJn7+RHpA2yV0aPenLYybkYQ+sGdg87xEU4pCbNmCV2\n",
       "/aHQL1Z+lR5F3QtRK9Worbv110C/WD8fPrf2sqVLrjkoXlzV76MobHrUdBStqtoOcMIJJ5xwwgkn\n",
       "nHDC0m0Gxx3ga+FNcgdc685Ivu/LwR08BJ4U/Zpve7sDdDE1RWff3u7gfgK6RCr79nYHbwJ0Rajs\n",
       "29wdAIzjZTm6A+DxXbyydAcQwBNYWboD2I+XZekOvOpxoyzdwW7gRChPd8BLUKV0cSndQc43jO7g\n",
       "4dbWA3gbttQdXAtlfzBkO6M7GF9fV/+6pe4gENbK4g9Um1AG7oBqE8rAHVBtQhm4g4I2YRu7gygU\n",
       "ORx34IQTTjjhhBNOOFHqKJ1B4EIbbbB0BoHluQPTKKFBYHAHLFd+JTEILM8dMLCbGAR8F4h6l2YD\n",
       "BoHpuQMGdhODAHtM2e0bBKbnDhjYTQxCAXb7BoHFHXzzRm2/7lpXeOG4zO96rq/TwE43CAXZbRoE\n",
       "JncgfR8VdKPiqAg/QKBDueGK2w6BuUEowG7bILC4A5/8B3CLmULXAXoj/gkIqnclaAZB+JyNndkg\n",
       "2HEHgpDCk7hWiEfVByV/DIKYk2YQ4INP8duBZHIqmRyjs9s1CGzuwDUNlSFSyJVSChF2qkGAZ9n6\n",
       "XbJpENjcAQIPDiTShXC/hwk71SAwsts2CGzuoFqCloRECk2ixuQMO80gMLIr6UIxCObnYUrJwu6g\n",
       "PgLHvBFS6KMI2ikVBvZ8BiGXXTMIRhlANwjm2c7oDi6gIfRFphC37y2Z77pzJH4nzW40CLxiEC7m\n",
       "shODQKwAmBsEpmByB6RQ3uOqGnqDkNvvDAzW2ZncASlkwq43CBn28+wM1tmZ3AEplBUUgwC1je9Y\n",
       "Z3DbvhKy6A609N80g7AFsUUG4X8gSnq6GXBI9wAAAABJRU5ErkJggg==\n",
       "\" style=\"display:inline;vertical-align:middle;\" /></a><br>"
      ],
      "text/plain": [
       "<IPython.core.display.HTML object>"
      ]
     },
     "metadata": {},
     "output_type": "display_data"
    }
   ],
   "source": [
    "output_Ak_nk = (list(multi_output_entries(A_k, kth_start, N_k, (one, n_k),\n",
    "                                          check_part_index_span=True))[0]\n",
    "               .with_wrapping_at(2, 6))"
   ]
  },
  {
   "cell_type": "code",
   "execution_count": 44,
   "metadata": {},
   "outputs": [
    {
     "data": {
      "text/html": [
       "<strong id=\"consolidated_input_A_1_to_m\">consolidated_input_A_1_to_m:</strong> <a class=\"ProveItLink\" href=\"../__pv_it/common/54d5953e7ed225606f6c2f765a2a313c726104540/common_expr.ipynb\"><img src=\"data:image/png;base64,iVBORw0KGgoAAAANSUhEUgAAAfwAAABXBAMAAAAT0Oq5AAAAMFBMVEX///8AAAAAAAAAAAAAAAAA\n",
       "AAAAAAAAAAAAAAAAAAAAAAAAAAAAAAAAAAAAAAAAAAAv3aB7AAAAD3RSTlMAIs1UmauJMnZmRLsQ\n",
       "3e++988cAAAACXBIWXMAAA7EAAAOxAGVKw4bAAAHg0lEQVR42u2cfWwTZRzHv7e+XNde11PGJMGw\n",
       "GYU/0ED5Q0ICCXXZ8C3GykSnEigkDP8AVwWUxMAqMBzDwP7AQERDA8FEo64mGowQ18RBeIkwIxD/\n",
       "YDgTENAo25ibjLH5PHfXu1t715ftRrv1vskuT393z+95Ps/7br8VGC/iPk/vOWZOxq7v13JTNkoH\n",
       "BmvLF2k+uOFYpq5na9gKOkfpIFGOlj7g4GDy6m2KapotA+TCXtK6tXMoCOfsv+R832ZIbxnSMC7s\n",
       "HKUDRfZYwvUvuVxKOsRfnK2Nb28DjpcPaN5r8QNuJdvaDPGty/lYcnvN65Kfyi6502pqPtDsTNmu\n",
       "cqCl4ljiUAt5LqD5jLNJSuzWx4dDE985v0vVxJnjr6gNSqmNUXCNYnElfZKNJYwnw4m5VHbFgaa2\n",
       "xRJrmgNwerUHUGjE+PbTvaRlR4zPhHZLVWK/JpczAtIUxy3p9rukx7jvE7MpdsWBptieWMrn7oA9\n",
       "ajS+FZdJy44Y34qF0siz2nlwPsGTz3I7VucVQKtGpRW74kDUwT/2VBLDvu1rcPD63Icev7tEah1f\n",
       "4W3ycHr4rQ3P4K0rU+pDaeAfaIJvxPiHUCfNx/ewAq04QeeTl+2VZjhv5zkflzBjVXbFgaR/wtx5\n",
       "WH5HOXBlzm2cj01SL+6qJ2kyfPZnuEK44GWlJchapot/CJ429YqyKzN8H0rJ0nmK+PfD/qYPNqFF\n",
       "GbJKn1i1lH5aXUxvxUllFx2oNJ1sHGGC38yjHVEZnwyV58Pk9PJJSH7yVJkOvjsAtg8/ANIgnNak\n",
       "i78G1n6nanEq9WZC7/imYnkEbEObsChXiovozorKO5TrOfrJ6tdYrxW76ECtR4BzZDSeruVpS8j4\n",
       "ZNyXRsjUKpLrKpRKbrS3X/67vd2vwq8jDL04CvwnfJw8E7r4PjB31JOTW0z5PUOykuKfBB08sLQJ\n",
       "jmqCtJYc6Yu7QD9Kg+RTyWqo55bMItklB8PxPRG0Vi3kaVLpfbLzd5EMpaox36bT+wtJE91R8Nln\n",
       "o7r4pAdaitUdMzOzsQ+yIEv4JWikYHR9IsvpxwI+E3CEtfBjdtFB4dMb6x37g0rvW/5EHY8ZAn5A\n",
       "mqRw9pDkfmZ7Snza+z0KPlx+PXy6kzYvAvbsbfDvOEJbLpoBPT1v0AMurcg6NgBHmNTys9hBdi1Y\n",
       "79tAY+JuLdslB6e+airyO/zy3A96fGh+gJ8htEZAmqTAb6RXqyed5VPhF/ng7Ffh66/8dNy7+8F9\n",
       "dANXUU8Mb2iDajfKNNq0XWJFHJ+SD1sDYDroUZIXD9mNdHrPpXOqm1zOlUkJ2S45eHALPEGryDmL\n",
       "5y6C4O9ex9OBv1LE5yjBAfJz3cvq936t2DLsNRQE8OhwfLu4DcgVEfQT+SnsBHOyDH1YpLvxiZWO\n",
       "15mhx2Bp6Q6IFaHHnuNRrqU7ivlDpOOmkiZz0ePNUkhz2O2LTWbJLjuoxma4xUEyfV99GGz1vBO/\n",
       "Hh6sIpvES7TluWXd5K6LnJJ6niSHpqNEfCL+kpvTxTNEcc2r2DD48vxBv4xvW9b9CoZVhFb35sPk\n",
       "SpZeW4jtwC/6+3570jkhVKTwfWxUnWAYH0MY9wXZHVo54uzXsBOlbGzuJ1Fh5EtGv/f1fm1qSzWL\n",
       "i4KOCNMZ1MW3pMbHjw0LVLap76wnebh5WzVzDrcznaT/91vTwLeFNtkT8J1No8UvJY4LIz5dfHvS\n",
       "g//K3sT2v5lizxy2hPrxECaLvwJeSPqki7ftTVaq9umkI9UTh1HAM9WkQ8p1N/h7o8ODLxjuk7mV\n",
       "9luxG9r2EMaziqvSbKdVXpgyZcqUKVOmTJkyZcrUOJMZ3pCexnV4Q3H5EU17foQ3MBHUhjV95EV4\n",
       "g41HUYce/sQPbygagK0rQ/wJFN5ga4OtL0P8CRXeALe46ORpeAPqhFS+hjdIfyTI1/AGq+gqX8Mb\n",
       "PpSOHeG8DG+wBHBfrPfzMLyBOBXOUvcivIFDroU3MOcrKgTT2IQ3yLUXcpNLjoU3uMlKJXKNSXiD\n",
       "XHsh4b4UtwjlWXjDgvg1OL/CG5TdPB/DG7gQxkLjJbzBMY7e9ZnhDaZMmTJlypQpU6ZMmRrnOh1O\n",
       "77lJvKHF5kh4g2NmNL0H2deiRuLnSHiD8IZa89sb4nO6/AbS50p4w1r9b2+Iy5n61VcGyoXwBglf\n",
       "7//343Iaip8L4Q0p8ONyGomfE+ENKfDjchqJn7XwBu6pbWF21hMN1WngD89pJH7Wwhs28fgO7ir6\n",
       "l1BB5br48TlTv/ZOX1kLb7gI1AVdHfCIY4e5oYsfyynP11uG0WctvIElDJ6AKwKP0BzM4rAufiyn\n",
       "rOP0D3tQIhg6R4yftfAGSz99TMbH+mP6vS/llLUybNzYz1J4g9D7PgVfjEbVxJdyymVYBoyiz2J4\n",
       "wxWgOazC11/5pZxyGXbDlr4shjdsDpLBURCHL317g1KOKqdchmEbX7bCG4TFbtGqMLv86rqWqwp+\n",
       "7NsblHJUOeUyDD30igtRVsIbEk99SRUrY4zw73l4Q2b4chmG42cnvGG4dqVdhrUMuauRhjekH416\n",
       "tmkCvupjKtPkL6kyqMT/AaGAtr7baW8JAAAAAElFTkSuQmCC\n",
       "\" style=\"display:inline;vertical-align:middle;\" /></a><br>"
      ],
      "text/plain": [
       "<IPython.core.display.HTML object>"
      ]
     },
     "metadata": {},
     "output_type": "display_data"
    }
   ],
   "source": [
    "consolidated_input_A_1_to_m = ExprRange(\n",
    "    i, MultiQubitElem(Input(TensorProd(A_1_to_m), part=i),\n",
    "                      targets=Interval(one, N_m)), kth_start, N_k).with_wrapping_at(2, 6)"
   ]
  },
  {
   "cell_type": "code",
   "execution_count": 45,
   "metadata": {},
   "outputs": [
    {
     "data": {
      "text/html": [
       "<strong id=\"consolidated_output_A_1_to_m\">consolidated_output_A_1_to_m:</strong> <a class=\"ProveItLink\" href=\"../__pv_it/common/93f0eaffeedf17b6d6fc0b2c67ce0ad2a8fc68b70/common_expr.ipynb\"><img src=\"data:image/png;base64,iVBORw0KGgoAAAANSUhEUgAAAgIAAABXBAMAAACEtzCSAAAAMFBMVEX///8AAAAAAAAAAAAAAAAA\n",
       "AAAAAAAAAAAAAAAAAAAAAAAAAAAAAAAAAAAAAAAAAAAv3aB7AAAAD3RSTlMAIs1UmauJMnZmRLsQ\n",
       "3e++988cAAAACXBIWXMAAA7EAAAOxAGVKw4bAAAHcElEQVR42u2aa2wUVRTH/9MuO9vtbLtCaUh8\n",
       "tMbIBzC0xISY8OiILVHRuFKJLSpdSCiYgCwiSmKgCxUtBaEhJhr54MRGEo2RkmgwQuwmgqkQpEYx\n",
       "fqBQEhoCRqHlUSmPeu/M7Ozs7J3ubJlll+6cpN27d86ee+c35557ZuYA96QIX1lUnOAfhXWunNE5\n",
       "PgUD49NPYPPXFhX5VyKpW8+7xOisSMGARd1twyF4K/4ecYb8SWZ3/k3TY0arhYHUCVQxCOQPW/99\n",
       "Mt1gtNFJJucbEcDhuTeZ/e5u82MGq1Q1Vanpj7Y8jY3blZarQVtP7zeuYM2aqctcZKLa8M4kA7mZ\n",
       "Ot62qFVzAibHjFZHQcBdOhh1QXJKXZLcXLI6pHauj0BoZbgrS5cpnigB95FrQDvbjcKjJmC0OgoC\n",
       "kzyX1da75FoKP8jXLbyzUj3TfeTfUSnhVyxdtjRFCbhwClhpNwGj1VEQEPOvR1tLgEPuiGy2SvVL\n",
       "l9sPQUycN0tXdctpr1fXAwUtjRHvtOalExpO1Ebn+lkbRGsEDrU8izfPTtoStkAg3mrqBLyV/DV1\n",
       "dL/bL4gCDVztaFLj1yYswSH8nODaLF1Vii7gmIg5flc5ip4qa/NFp9eO4m4ELRHgf0NhGCcqeTVE\n",
       "ucpNCRitenpTJeACd5U49C5gHLC8BKC7iYiyAITGhRHyzb1GpIfixagbt7sGkD9ECHj74esWoBFY\n",
       "CdeQV0LBX7E8Z5cJAV8Q/CB+BFT3fKjNlIBqNRZ4Lyc742FNlE1wW3XNDRLvPpQDqisgb16eb6sb\n",
       "Oggbl0y3hhHBjbpxBEQIV8jp7emnMGIERHA36Lq5oGnSUYmhnp5T//T0BHQEmkhkuYYDwH/y14lT\n",
       "zGNE1GpsR30kxXST0L9FPmdTb0DpcmoSXaCuVSxxg3SAxhA9ZPSceF0DAdyAUPN4v9zUCBBcncRv\n",
       "OF36MdvEB6okakIjwM+PmBJQrcZkqZTqIgANpgoBLuiR6FnRefeiICITKEUri4BB95n1Wzy7Qzof\n",
       "mCORRZwXpATcasAB9s4jIbJjUjAZAeoDV2IElESPSSBq9aOPWwJb90fTx1TkSzWrJXPhK98GWolJ\n",
       "mp/IqTKJq2v5IDxSwi5u1P3lm7aigCegxYFBcgLe/jWUQJ5KgLqqb4iEkE2zziQjUCTCO6QjYL4X\n",
       "qFaFT8+jD1tohz4SWrhH4Kh+p1+ZSytd1jNI3KHUaRTeEIFnD/lsphftOInHwoDaMOo+sBnFIZdy\n",
       "bfPO4FiQEPAMTqcrwF2uEDhG/goI16JmhEwJuJXgz5+j7jM1noB6LDYRnVWuqxyDmGfYDTWtEaJA\n",
       "50AEM4cnK3MppFnOqzg6/BjyOweC4A6STpoRHaYs5fX8R7Rh1K3DRviUzCivvmURsK55+6rWhj7S\n",
       "tVDOJg5fpBGKxMyy6hD4A0T2JRIYt3igXm6UNC7Cutsvz7wd0Ahox7SJ6K2OC/O9+N2YD/SkcKMo\n",
       "z+WTEL9V11eC+wjgD7C+jfEDg+45bEMZr0XCEWS3t9tv6gNmmXvSNKco5OngLoUMqvmpEhCeaNb9\n",
       "hNv/znPk46eWWUz3ide9RLxgt8sKgTq+OyESetvulEAZ8YKCDtGg6rYOoLRiRSLWaMpgJbMM4GFM\n",
       "VG4WfSPfoe9DfWiEUdl3V0kTvS+Q5+fqImr6GJWujDzQ8jb0+e22mTzR0+RXvTuFMWakpNaqM9fC\n",
       "EUccccQRRxxxxBFHHHFkbIpTQZEzFRRc9VTme+jcqaC4H+4hVn/uVFC8CPxrRiA3KiguRsDEmTsV\n",
       "FK8BDaHUCIy1CgrgtPw/dysowMvvyXK4gkJ92ZDDFRSYr8SO3K2gKFA45HAFxQxwfuRyBQUdjF7u\n",
       "9FVQCAkJG9XPngqKB6urn5dJ2FhBET/v44bbwGyroDg9PKycmo0VFPHz9p00Ww05U0Exa0QCuVBB\n",
       "ETQxkDMVFEI4/Y9zsruCwnOvPid0KigcccQRRxxxxBFHHHHEkdyQI5LFG8Xptt96ljM6734FhWdK\n",
       "xKLmuoM2E8iSCooqemAD66incxD4/HbsvL+zmUCWVFCsAoSXKpiHC6+SfyfjVG2VLKig0E5rJ5NA\n",
       "O32eH0wbgWyooEhCYOXeoPxyKE0EsqGCIgkB0dcLdyRtBDJVQSE8/Z7ET3uypc4CgYLrca8u7SWQ\n",
       "sQqKDX58D18tmtQoMteUAFkAt+ICyA5bCWSsguJPskBChb0oVjyIO29KgLjaC5K+qLSs8k7OOFsq\n",
       "KHgSfYqDhR0oDssAFkimBMgCKOvQL0RhQaV9LpCxCgriJiju0AjgrYPmPkBfT4v6jim2LoIMVVDI\n",
       "PiDGCCiJHpMA2UG9V4K6MaoiNhLIXAXFWQJE0hEw3wvoAjgt6cZ4w867ol5kqoJiYwiTkWcgsFrZ\n",
       "GGLj0C90kX0G3Rg27oaZqqCQ4c9bJvENfWs7+2IEFl58VNkZtHHIKIsHiJFC0tLGsPu+QJbMVFAg\n",
       "pTRHGyN9BO56BUVKBGJjpINAZioo4mSH9THmZvfDrtFWUFhP9ITzY/MxIVdjEQG37I4ywv8BaiqT\n",
       "paiXYJIAAAAASUVORK5CYII=\n",
       "\" style=\"display:inline;vertical-align:middle;\" /></a><br>"
      ],
      "text/plain": [
       "<IPython.core.display.HTML object>"
      ]
     },
     "metadata": {},
     "output_type": "display_data"
    }
   ],
   "source": [
    "consolidated_output_A_1_to_m = ExprRange(\n",
    "    i, MultiQubitElem(Output(TensorProd(A_1_to_m), part=i),\n",
    "                      targets=Interval(one, N_m)), kth_start, N_k).with_wrapping_at(2, 6)"
   ]
  },
  {
   "cell_type": "code",
   "execution_count": 46,
   "metadata": {},
   "outputs": [
    {
     "data": {
      "text/html": [
       "<strong id=\"circuit_Ui_psi_m\">circuit_Ui_psi_m:</strong> <a class=\"ProveItLink\" href=\"../__pv_it/common/c02907705f51d2ed8fc0024c5102b7f1cc6e8f880/common_expr.ipynb\"><img src=\"data:image/png;base64,iVBORw0KGgoAAAANSUhEUgAAARsAAABYBAMAAAA3uE5kAAAAMFBMVEX///8AAAAAAAAAAAAAAAAA\n",
       "AAAAAAAAAAAAAAAAAAAAAAAAAAAAAAAAAAAAAAAAAAAv3aB7AAAAD3RSTlMAEHbN71S7ZqtEMpmJ\n",
       "It02cEEwAAAACXBIWXMAAA7EAAAOxAGVKw4bAAACxElEQVRo3u2bP2gTURzHf5cabZK7GK7+KVLp\n",
       "1QwOYgxuFaTiLgYUHBTbTXAquOggHNTBPwjB0SkIgngO56SThIpdEzpIhwwZBQetRQcX/eVyPZp7\n",
       "7+5+SR7lqr8H97jhy/f34d7v9/Le3QtA0P7ENZWy70BpcaqDKmWMwziMwzh7AcckxdEskswcG6dM\n",
       "ipOpkmTlcXG0yzVKnEM/KTghsxFwjtydp8S5tVInyEJmw+OY55zpx4lxtPLrtw8bibKw2fA418CB\n",
       "N4lxsst5N99MlIXNRkllh5SjeZckc8auLMZhHMZhHMZJE06HFMdokmQdXiszDuP83zhGcNeQqza+\n",
       "fanBgy1LDY7oNuigB3uR2xHQLVRkmqqejuAmxUHc6xE4C3gVSqpwBDcpDvIWI3B+4TWpLHcENxlO\n",
       "b7Ovy/equR/YzajCEd1kOFnMY2NJqtJ/Y3dPFY7oJsPRe915qap4ATtXFY7oJuCY7xCnAnBDqpq1\n",
       "sbNV4Wy7HY/GaV6Fo3CmNJjLgWpxGcfRAu1OQpwqZuCWfxMt891gNRInX/sA92Ef1l8dJJ8KWphW\n",
       "ehteVHbgSGTF3gh83b6JlPluO9qgSK9rcBHrvIBrS1v2dFp+Zd5UMlgtYdYQBiu7iTgmlpd0slzE\n",
       "OeupMhzf7ZkdjVOoGjWYA5hoy3AmXNhoKMPpu2nWZgzO0oFSDuv9s/wZrj3xfvDU4PTdjMPdaJzc\n",
       "Jd2bmT7FLjAU4fTbfitmGny1dqI3Tt3dw5k9Fjcrv/R+KNzdw7lSiMOZ8x5gOw6ns7CqEGf6dByO\n",
       "V+FTaVicejheYp1MA04mWCLbvJNgnH8fJ2Wvm/jdIOMwDuMwDuNEqFL2WX9m3pkkHHr4+NwlHHoI\n",
       "m40wWFOnHhFGQTv7nnIkJGS29w/MQIWUo5kuSVYZu7LWacsviyRb57Uy4zAO4zDOsDhp+GPCXxO9\n",
       "1wEASK9eAAAAAElFTkSuQmCC\n",
       "\" style=\"display:inline;vertical-align:middle;\" /></a><br>"
      ],
      "text/plain": [
       "<IPython.core.display.HTML object>"
      ]
     },
     "metadata": {},
     "output_type": "display_data"
    }
   ],
   "source": [
    "circuit_Ui_psi_m = Qcircuit(\n",
    "    VertExprArray(U_1_to_i.with_front_expansion(1), \n",
    "                  [*multi_output_entries(var_ket_psi, one, m, (one, m))]))"
   ]
  },
  {
   "cell_type": "code",
   "execution_count": 47,
   "metadata": {},
   "outputs": [
    {
     "data": {
      "text/html": [
       "<strong id=\"circuit_psi_m_Vj\">circuit_psi_m_Vj:</strong> <a class=\"ProveItLink\" href=\"../__pv_it/common/c4e3918fc4385bb5c3458768f602dd74fdcd60eb0/common_expr.ipynb\"><img src=\"data:image/png;base64,iVBORw0KGgoAAAANSUhEUgAAASQAAABYBAMAAACuQJfRAAAAMFBMVEX///8AAAAAAAAAAAAAAAAA\n",
       "AAAAAAAAAAAAAAAAAAAAAAAAAAAAAAAAAAAAAAAAAAAv3aB7AAAAD3RSTlMAIolEdjIQVJlm3e/N\n",
       "u6uczJRnAAAACXBIWXMAAA7EAAAOxAGVKw4bAAADZklEQVRo3u3bT2jTUBgA8G9Zkv5Z1xYRPamB\n",
       "HbwMLMhOA62gUqSOIIrFgZQxhOGfFUHQkwFBEPwTUMTLNBfB23bx5MGO6cDTJgjiyaLuJlo3mCiO\n",
       "+V6WrXuvee0ji+2YXyBh43378iPv5cvLnwEIl9SyeKlFLTdaqlJhIL2kpJqqjVJUZcKqSEISkpC0\n",
       "RUh6Voo0LEVikwUlqWUpUl6KxCYLSjr/U4akvyzJkNhkAUn6h68ZCdLFx1MSJC5ZMJKeP3Xzm9mU\n",
       "NPy6cGmuKYlPFowUsTVLM5qSrkEBTjQl8cmCjiXNkhreBanhzSZDEpKQhCQk/U+kDkOKtE2KxCbD\n",
       "uTeSkNRWUnqtWLSbtCbpWf2h2xTtV51ZKoE2/iwUUn75PcCZ31Z90HTs1skBdcz0SCqZpVvCQzFK\n",
       "bwUPhHOU9D9k01mpD9IqI/12V0WteCSFrI6Q1DVBNpWQOu4FWZM+QdHMjjykzKjhkei9/F4hKUH+\n",
       "SjVDIs2Q9YhPUBzgCwxCvOSRrpB1l5CU/MFdvTZC+p72v8ZdBXgOx2GP5pFoTCItIikLbL9tiLQv\n",
       "w/bbatMcdFTJcRqLEpKes8FQHYgYIlLsF8QyYZGe2HDfJ0gv00E/CbuPEpISmdBtdbFufNf22znP\n",
       "zTo2QjpouP1mck2x2jOnHjgddWJpICfVDRFJX6L9NlJuSKKVwj3D3Y2YNDrr9ttTrilRXEcqdmVJ\n",
       "DSBV6Sz93ffdxm/Sb9rh2lFM+bwmidO65pbTWk31e5uScth+q98jGd7Xi4r7rO6y8KoxPkSfeDih\n",
       "dFx80fALWleCCOk27ASVHLdJIenjbHik7iXaubkS1+QwpDvwEPaTGfGskHQvEx4pukA3kTLb1Gkx\n",
       "pP60Qc9xpSQkPYLwSDG683OKxTYlTYakfXp3aKWiN5ychETyrlE227R+57R6ayWvoreOlEqzTQ84\n",
       "kurWhLetJA1yQdMcSfEqekNSR+98NjzSABvEnFo9KxM4srFbOdF9wwYxp9ba1CXZwrl3om+CDUq2\n",
       "/Q4lmivifRySNg9pEz7ywmeVSEISkpCEpBBIm/DTBb23z5L4wGNoqpCU+MCDSxb0M5hXd2U+g7mQ\n",
       "+yzRcVyyrfOxEKiO1PA+JjW82WSBp3BZKdJ2uSlcFufeSEISkpD0z0ht+qePv1is1YXshQewAAAA\n",
       "AElFTkSuQmCC\n",
       "\" style=\"display:inline;vertical-align:middle;\" /></a><br>"
      ],
      "text/plain": [
       "<IPython.core.display.HTML object>"
      ]
     },
     "metadata": {},
     "output_type": "display_data"
    }
   ],
   "source": [
    "circuit_psi_m_Vj = Qcircuit(\n",
    "    VertExprArray([*multi_input_entries(var_ket_psi, one, m, (one, m))], \n",
    "                  V_1_to_j.with_front_expansion(1)))"
   ]
  },
  {
   "cell_type": "code",
   "execution_count": 48,
   "metadata": {},
   "outputs": [
    {
     "data": {
      "text/html": [
       "<strong id=\"circuit_Ui_Vj\">circuit_Ui_Vj:</strong> <a class=\"ProveItLink\" href=\"../__pv_it/common/36514b1af8ea273568bb37bcb8fc156972cba2a90/common_expr.ipynb\"><img src=\"data:image/png;base64,iVBORw0KGgoAAAANSUhEUgAAAnkAAABYBAMAAAB7SPwoAAAAMFBMVEX///8AAAAAAAAAAAAAAAAA\n",
       "AAAAAAAAAAAAAAAAAAAAAAAAAAAAAAAAAAAAAAAAAAAv3aB7AAAAD3RSTlMAEHbN71S7ZqtEMpmJ\n",
       "It02cEEwAAAACXBIWXMAAA7EAAAOxAGVKw4bAAAEiklEQVR42u2dP0wTURzH34FA6R9a8R8xmDay\n",
       "GFDSsBh0gMEdEgdHWIxu4qZxEKMmilGJk2GBwYkaczg5aSOJcVEaBsJAIiYORgaKxCIGwXdcq/Xu\n",
       "3r0f3K+Nid9LuJDw9dtPP6/vXe8KpxC/t/iWz/YntlWtWJ5ERnvEynCVb3Gh3sp+lq9WLE8ho1VV\n",
       "iAv2YA/2YA/2YA/2YA/2/ld7zbRe1lgzxZ6RolTRUgG51PbaaFpYY20UezVpShUtFZBLac/o6ycN\n",
       "MWfMkVLY2/+N8oi0VEAupb2DV7opD88ac6S87RkXbo4SnjApFZRLZa/5VKZlRN/LGnOmPO0ZbZNT\n",
       "dyZ0VbRUYC6VvXMiI57qtbDGnClPe3VDYTOc1VXRUoG51EeNDO1wwBrLUI4aYZNSRUsF5II92IM9\n",
       "2IM92IM92IM92IM92KuuvQWaFtbYAsVeLEupoqUCcqntCZqWCsbwuQbswR7swR7swR7s+fzb2IPN\n",
       "2yLU16XpnV/+3C9uraZ4KN1tHvZqegr9Iry85F/VtnVeiGebJguXu0z32ouuy91x7ajMjMrnk+Ua\n",
       "Y1eb12svaX3I/VhTZazKXeMwD5e7TGev1gpMaZ9vj/yKJLjsudq87O3plTutlzPyK8TF5SrT2YsP\n",
       "Ohi9ewvO3kCUBTXl3+NaM0EZiHbOUW3fib1xufoY2inZ+FXuWrnsudu87IV+Os46PR/xYY56nkuw\n",
       "5yrT2ZuRo9swquuN/pC7q1z23G15xYo8TFlC+eaEq0xn75O1BGl7m6w1yOSiLLUd8bXXsEYYVnF9\n",
       "iG9US2UTVHvGd3sJOpT27U0Ob6+OrW9vcFAW28RrX3uNG9bE1YCJ8ayca0xcdpkQX6j26tbkblaE\n",
       "jy769g4MybeGKfl6eemvJV087CfThDbNzDUK0rAOTCQHQ4KLyy5TzVyPv9LaXoLeSYtlkB5/pmWt\n",
       "jtGcWBcfJvxiTdbkXip9o2vzJxNi05q4GjARX5RzjYnLLvPmynu99qJ5exLV+Q/xjD2/L5dT7n6G\n",
       "FNseDfufqS1bh2UNmGhaybJx2WVGRz955q7IJ5LTQg7It7b3rW/ec6wvdpuRWvG3d2mQYK++INi4\n",
       "7LJIXZp8zD0tYiN6yFpTzFujG/7IQWm3xQ4s+tt7NUqwF7HONJm47LK9UZN+nnvxuSBAvrm3vcrP\n",
       "JVgo7bb6lL+9axSwBpORyy6rHdrpFSodZPGKjBnL8V0JSh4mXKEigfFyxXOVsTc3mUnwUZ6NcNnj\n",
       "5Xqy06ujsemNFKG3r+wNRXDKlhN6ezQwXq5juLYcgOsk7O2aq3asF/Z2zRXpSMAeNxfswR7swR7s\n",
       "lTb89qOeS20Pv3mr54I92IM92IM92IM92IM92IM92KumPdzNhsKlstfanQkRbpHEGnOmvO+kND1m\n",
       "Eu6kREoF5lLO3H0ddymvadaYI6W4i1fXC8pdvEipoFxKe7iDHIFLfdTopB0OWGOdlKNGzSKlipYK\n",
       "yKW2N0vTwhqbJV0dTZGujqaqwKW2J2haKhjD5xqwB3uwB3uwB3uwB3uw9w/Zw/8ItkMu8QuiynGA\n",
       "DPC8xQAAAABJRU5ErkJggg==\n",
       "\" style=\"display:inline;vertical-align:middle;\" /></a><br>"
      ],
      "text/plain": [
       "<IPython.core.display.HTML object>"
      ]
     },
     "metadata": {},
     "output_type": "display_data"
    }
   ],
   "source": [
    "circuit_Ui_Vj = Qcircuit(VertExprArray(U_1_to_i, V_1_to_j))"
   ]
  },
  {
   "cell_type": "code",
   "execution_count": 49,
   "metadata": {},
   "outputs": [
    {
     "data": {
      "text/html": [
       "<strong id=\"circuit_Akl\">circuit_Akl:</strong> <a class=\"ProveItLink\" href=\"../__pv_it/common/a259589d75fbdf58acdc212d1c6bfb869f8c827c0/common_expr.ipynb\"><img src=\"data:image/png;base64,iVBORw0KGgoAAAANSUhEUgAAASYAAAC6BAMAAADxOf1lAAAAMFBMVEX///8AAAAAAAAAAAAAAAAA\n",
       "AAAAAAAAAAAAAAAAAAAAAAAAAAAAAAAAAAAAAAAAAAAv3aB7AAAAD3RSTlMAIs1UmauJMnZmRLsQ\n",
       "3e++988cAAAACXBIWXMAAA7EAAAOxAGVKw4bAAAFjklEQVR42u2cT4gcRRTGXztjZmedTa9BQiDg\n",
       "zsmTsMNeNcwcNksOCl4EBWFHQfEizkGIF3WDF0kQF696WPAU2EMCghdh5+KieMgccpBFJJKbl7Qr\n",
       "JqjI2F1VPT1dVV31qmo3GXdew+zOn1f1fl3d1V1V33wDMNnicdVWxFSGJIDaYscK4sqKiqeVqbFM\n",
       "4FYBMRHTcTBFbTuTEpOYulZiz2FheiyxMykxiakpEnsOC1MXwdQNZOo6Ml383c6kxDgyKeXNTKfO\n",
       "PrAyqTFuTGp5M9O5hT+sTGqMG5Na3szUq/1lZVJj3JjU8kamxU7jvo1JE+PEpClvZKpD9CdA63P2\n",
       "4oe2lonH7L/5WhHjxMTLN39iL0QqE9O19Yv/ALz/afa88clIy8RjevBiEePExMvDb+wFT2Viam0B\n",
       "/Jv+v8DeqmmZRMzfsDKYxJTTtg7TP7fa4onMJMpH4u0LCpM0dKunj19kJukuIWK+nGaSqrmdPpZ6\n",
       "4klFjuaNc/2CST+6Y/twPX2sWtopj4F3oKKdzMdOlH/8yvO/6tupzBTdSf/sLRuZJjGNn72Y8vKn\n",
       "P4YBgqm1dziE58bPmJiKmPNDH6ZJ+ZX1AWDaabKZjl0+3uhFy17HTmxfLI6WXZn2LUznL7833A9g\n",
       "eqUx6rf6eKazq2/Dh53ojftb1Uz30l40ifFgugmvDhp3WSr82LeDGPt2/MYqk63mNh5fHNqZJjG+\n",
       "TLtuTE3EHKEJgUzbD2XegpojPKq5VDyD8ztimnOmI14Ti49gTcx1TSIO/By77kFMxERMxERMxHTS\n",
       "mWZxXEBjOmKaF6aobWdSYkgrI61Mn5q0MhwTaWUopmmtrPXWy0OwaGUixl8rE5IbViurQ30EFq1M\n",
       "xPhrZbwatFYW70QPwKKViRh/rUxIblitrDnkTCatTMT4a2VCckNrZXBKd+zKWhmPCdDKeDVorQw+\n",
       "0JzjklbGYwK0Ml4NWiuLvlWvBbJWxmMCtDJeDVorewqeBJtWxmP8tTJRDVYri765/AJYtDIR46+V\n",
       "ZdUAXis7zTuBUSsTMf5a2T3eGUkrI63Mf45A8ztiIqbZXROj9UxiIiZiIiZiIqZHyxRrxgPyZrqd\n",
       "o+75joa0GLGjSfW+xpgGidGNSUzEREzEREzEREzEREzEdLxMmW5qY2IxAUxMl3VgYrqphYnFhLTT\n",
       "7aochuXL6sXHYrZRUZy1oW+OYzqfWBtSvyOmE359Kvre7Fyfir7nen2i84mY/j9MvO/NFhPve3TN\n",
       "nJ8xHV0LiGkOmcL0lhijt8SuPwCo3zVMgzh9TvodMRETMRETMRHTDDMhvs4Z279WamYaO1Rg4k7s\n",
       "+47+Hm3i2KjENO9M5vG4L1PUtjOdqWYy7lRVDhuTbHLWMa0GMsk5bExdO1NtHMjUdWSSTc4apvrm\n",
       "chiTnMPCpJicNUyvvzsIYlJyWJgUk7PKFG191gliUnJYmBSTs8pUh+52EJOSw8ykmpxVpq/go34I\n",
       "k5rDzFQyUm/qmXqw8lLuoP4ucWeaNlLzHGamaSM1rGmZFr5e37yRO6hrbZWp0rNcyiGM1GsKk3wL\n",
       "KP/o8IY85mHvfp/WMcod1PW+dEPJIio9y9M5hJF6AzQVlPah/KPDB9p2SpMt3ckd1Es7zseubKQ+\n",
       "sB67kpG6leiYFrfFvYE5qG+5n+MlIzXPYWIqG6nZuaIwPZ0+nsiuw8xBvebMVDZS8xwGJslIzc4V\n",
       "menH8bNQ2zvsCwf1hiuTZKTmOVDjJ8a0tGsaP3EH9cHQ536XbdxIzXNgmfYhXjAwZQ7qVh+SLV+m\n",
       "zEid58AwcSN1/aqBKXNQN+7CpR1fpsxInedAj3079rFvzXOsIufAMuUmaRPTbiBTngPL1ETMEbYD\n",
       "mZoPZy51LPOWI5rfOeUgppPHdMTrT045piv4DywaUfNPa400AAAAAElFTkSuQmCC\n",
       "\" style=\"display:inline;vertical-align:middle;\" /></a><br>"
      ],
      "text/plain": [
       "<IPython.core.display.HTML object>"
      ]
     },
     "metadata": {},
     "output_type": "display_data"
    }
   ],
   "source": [
    "circuit_Akl = Qcircuit(A11_to_Akl_varray)"
   ]
  },
  {
   "cell_type": "code",
   "execution_count": 50,
   "metadata": {},
   "outputs": [
    {
     "data": {
      "text/html": [
       "<strong id=\"circuit_Bkl\">circuit_Bkl:</strong> <a class=\"ProveItLink\" href=\"../__pv_it/common/4f41130f0f94d3a418bb9d84bef060cd25e051810/common_expr.ipynb\"><img src=\"data:image/png;base64,iVBORw0KGgoAAAANSUhEUgAAASYAAAC6BAMAAADxOf1lAAAAMFBMVEX///8AAAAAAAAAAAAAAAAA\n",
       "AAAAAAAAAAAAAAAAAAAAAAAAAAAAAAAAAAAAAAAAAAAv3aB7AAAAD3RSTlMAZrurzTLvInZEmRDd\n",
       "VIkafcLnAAAACXBIWXMAAA7EAAAOxAGVKw4bAAAFpklEQVR42u2cP2wcRRTG33E5X+zLZU9ROoqk\n",
       "CSAhxB+nQAIphiINBdcEIYRkQEgRRYSVBkSBT6LABYiraK7ApZUga5F72w0SCY0LiwYXJ0FBgWAh\n",
       "RCQUmN2Zce5m3szbmR2TXHxvpbPOe2/f/O7dzOzsfvcdwL1t37l5xGTgtSWBCZxpE48YXyYIS8BM\n",
       "zDSBTAk1piox1Z6+NX/+HM10an9+/uWuk4kEdrVB1mnmLMCFLl2ndwDqt6sz2dogmZZ7AF+tkkzN\n",
       "OwCz/0QwWdogmc7k/Gd6JFMtr1HtTgSTpQ2S6UL+uLhEMtXzv8cuRzBZ2iCZ8r6y8S3dx/Pu0Hox\n",
       "oo/b2qCYGn+ufPJSyVyw+MTK+Q5UZ7K1QTEd/xvghw60Totd3yzYmL5Ygvbb0PptPs3/UZEhTKqN\n",
       "2ndiF0qAjnzkLYCTt+H1z8QbWtm2MT2WP37vzsFc8aqMDGJSbcB7YhdKgI5MnpFjak/saluZbhVD\n",
       "p5f0m2KO2rM02/or/7O1oJ6YTKqNptq9h5iMM8Bi3lHqdw0mPabxRzF0+rV0nMlYAd7MHydW1RPz\n",
       "RdVG7eyHQ2cCo6/A4gJZp6I7NIr3f3LbVSf6s1Nt1D/98bK9TsaRF/Mp+t2UZDqWd4cvX8mfvJlW\n",
       "Y1JtzHwOXR+m54rT6w5QTPXiDPpUcYp5EioxHbSxfK0LXnU62Kg+rraP4INqdVLbqdntpVCmTZqp\n",
       "ee7S9dYwgun5xvbQlsDF9PGrv8BrO82f/+05mWbyUdi4IiKrMT0Oz3ZtCcjZfad8ndmudL6jE1BM\n",
       "s2k50yCWaRDGVPNYj3dimToP6TXCYV5LZRN4fcdMU82UHPY9sSz+nljoPYkkNofnfQ9mYiZmYiZm\n",
       "YqajzjSJ6wJe0zETM7FWNtrLWpkfE2tlfkyslXkxaVqZksNIrWzzpxdCmXStDCVAR2pamZLDSK1s\n",
       "Fb4OZdK1MpQAHalpZUoOI7Wyu7DchRitDCWgtTIlh5Fa2aMyZXWtzJ7A6CtjWpmUw2itDH4N/ewM\n",
       "rcxMgI7UtTIph9FaWeP7UCZDKzMTmEcaWpmUw2it7GoayGRqZWYC5wwhmaQcRmplzdXmEsRoZSgB\n",
       "xbQp5DAo0cquXnojhRitDCVwMUmtbEYONFIre1+Ok+paGUpAzu6slXkxsVbG13fMNJ1M+6yV8T1W\n",
       "ZmImZmImZmIm57nbHUOdzr3O+YGGtMSjEJn7vSY+BUkCi8VMzMRMzMRMzMRMzMRMzPR/MRW6aRmT\n",
       "iIlgMnXZMiahm5YwiZiYOt10MRG3L903H0dXG47XRA192iBfO9z+JGrI446Zjvj8NBp7kzM/jcZe\n",
       "6PzE/YmZHh4mOfYmi0mOPZ4zp2dNx3MBM00hU5zekvjoLUnoDwB64rN+x0zMxEzMxEzMdISZPL7O\n",
       "mZR/rZRucz8kAcGdldcm8c2XBRadmaadiV6PPyAmMkElJotJGjHhmDAmi5GarhM2SeM6oZjAOmEj\n",
       "NclkMUkjJhwTyISN1CSTxSSNmHBMIBM2UpNMFpM0YsIxgUzYSE0yWUzSiAnHBDJhIzXJZDFJIyYc\n",
       "E8ZkMVKTTNIkrX5teCOzMmlG6o0smEk3UpsJ8KHSJK1+bbi9YGXSjNQixmByepY1s7YyUpsJtAXN\n",
       "mEla/erp3NBc88AoRhmpRUzi61keN2srI7U1wfh7UCZpxXSib6uTbqQWMWGfnW6kNhOgQw9M0pJp\n",
       "y9rHdSP1Vngf143UW2V9/MAkLZl2rUy6kXo3nEk3Uu+WMN0zSUumdRuTYaReD2YyjNTrvmsVyXQj\n",
       "pdYq0kh9I626VlFGajMBxdQaQtYjmJSRWsRUYlJGajOB69Di14YbV2CtTzApI/VavyqTMlKv9cF/\n",
       "ndn2WGe2Y9eZ7bC178CDaRDLNAhj6ngwdWKZOvflWmoCr1uq3bdgpqPHdNj3n0LaGE/wHxFEJFCU\n",
       "716gAAAAAElFTkSuQmCC\n",
       "\" style=\"display:inline;vertical-align:middle;\" /></a><br>"
      ],
      "text/plain": [
       "<IPython.core.display.HTML object>"
      ]
     },
     "metadata": {},
     "output_type": "display_data"
    }
   ],
   "source": [
    "circuit_Bkl = Qcircuit(B11_to_Bkl_varray)"
   ]
  },
  {
   "cell_type": "code",
   "execution_count": 51,
   "metadata": {},
   "outputs": [
    {
     "data": {
      "text/html": [
       "<strong id=\"circuit__u_Akl_v\">circuit__u_Akl_v:</strong> <a class=\"ProveItLink\" href=\"../__pv_it/common/902c943db196222deae66b25f2fab8bd358cae9a0/common_expr.ipynb\"><img src=\"data:image/png;base64,iVBORw0KGgoAAAANSUhEUgAAAWgAAAC6CAMAAAC0uid3AAAAOVBMVEX///8AAAAAAAAAAAAAAAAA\n",
       "AAAAAAAAAAAAAAAAAAAAAAAAAAAAAAAAAAAAAAAAAAAAAAAAAAAAAAACXHtMAAAAEnRSTlMAIolE\n",
       "djIQmWarVO/dzbuFpa/sGmb2AAAACXBIWXMAAA7EAAAOxAGVKw4bAAAJCUlEQVR42u2d65ajKhCF\n",
       "AREVjd1T7/+wx0sSxUtALurp7PyYlXElm6rPSlnQWDLm9SKPVzoZ/xddboHNwDhfoVNGjqwG0AAN\n",
       "0AAN0F8FmmfOg/FHFNB+Msy7WPAwYBe00t6gM2qV42APigLaT8YpyCiSH3uDldSyANINdxpMUxTQ\n",
       "njLxQDsYsDNYQVVI8uhIOw1WVMQjgPaUiQfawYBtIRkSzx9O1GIwwQXl4aB9ZaKBdjFgUygjUmGg\n",
       "FW2ObA7GZXdGdTBob5lYoJ0M2BRqSIRWHu1mSJuDFX1yK4NBe8vEAu1kwJZQeED3F9MtDWOwrAuC\n",
       "3HpKraD9ZSKBdjNgS6iiRyjn/mTllsGK/lf3DHxVzoY0/mMFPZNRQlSVcpaJBHruR9nIHT+2hBoq\n",
       "gkF3SVp/NlC2RdFdrYerbi7lVKYY/7GCnsv0ZheNs0wc0HMDGKuzHT+2hIhkhFnqVtaaDabGMV51\n",
       "oJ7bpN1BGzKU9bGVu8q8Dqr3L/j9bjpkA236wY2P63NAf57PPn80TW0DfUCmVPugP+k071/w+937\n",
       "zTE/yrarQcQ26K1XmTyis9Kcu3pG9FKmq2kbdjSiQ1LHwoBKcq1q7hzRyUHz+l0G8gDQKxmWN+pM\n",
       "0EsDatmXIOwuoFVL9OiB6P6N8AW9IcPny1nJQa8M4FQU+ZEcHQX0zxHPfC+G5ot3GZPzM1PHYvbQ\n",
       "sqxh3B30TwzQv8dBKxEEmrd5nhfKVSY+6Ep2uYuJLQO2Qf+eDJqLB4mu1MlrPf3nOOj6WRE4ysQH\n",
       "3XbBXJX5lgH3AD2LbI/VO1+Z+KA/GJAQ9I+HgZmKAtpNJiHotQEJc3TpYWDJooAu2cWg3Xy/ourw\n",
       "X73zl4n4x1k/Cy6M6HNBp/7YSREN0AAN0AAN0PcF/eN7nXe46qfaBk7O3sWwIF3VETVEUujQqQak\n",
       "Sx0ADdAADdAAfRPQPwAdlREiGqkDoAEaoAEaoAH6UtD//uUAHZXRobOF1btzUgfWowEaoAEaoG8C\n",
       "+gegraBP20Dz3W0kTkwd391G4jzQX95G4jzQX95G4jTQ395G4qyq4+vbSJxVdXx9G4mTUgfaSJwE\n",
       "eq+NhNkMwruNhF0mcRsJ04DrQO+2kTCaQfi3kbDLJG4jYRpwGej9NhJmMwjvNhJ2mcRtJBZNLdKB\n",
       "9m0jYTaD8G4j4SCTto3EoqnFpk76quNjG4l5M4iANhI2meRtJAxr7thGYt4MIqCNhE0meRsJw5o7\n",
       "tpGYN4MIaCNhk0neRsKw5iYL/3PQRjMI/zYSVpnUbSTMpha3Aj20X3g1gzgO2mgjYZdJ3EbCNOAe\n",
       "oI02ErVxXfduI2GXSdxGwjQgGejNzSFoI2FnlDh1vKqlL2sjcdlfwdFG4iTQLA5oV16Xt5HAvo4o\n",
       "HwPovwUaG2jsoNGBBqkDoJ1A3/15hq4fu/tG9KghkkIHNwt9LejVDqg86IqKe8HXSEeiYvmEtzZH\n",
       "RIdF9BLpSHQFWhcAHRf0SHQFmjUAHRf0SHQNWmiAjgt6ILoGzVuAjgt6ILoGzR4cVUdI1bFG2hMd\n",
       "jipZDKdk3MqnBSI6OKKVFP2xRr+IDkcF0/0GkpI2LocA7QX6ibSuXkT7o7ked0tWzw2BRQbQgaB7\n",
       "pI8pO3RE+6Oq3wLFnv/0U5kKoANBv5Dm+kV0zNwZzXdMGknaDbT3MlsUmXjLfn7f26o69PDATfkm\n",
       "Oh4dMoekrbLDqeqgSCHlqUPRQtTPgK2qY9y6Lt5Ex6NtnyzadtgKvCiknSL660GvI3pAqvm7kH7i\n",
       "r/r9V2I8AebUEKD9QIvHcD/de2o4HlWVkJpXMl8vdgC058ywqMpyttixnsYslu8AOngKPhBdg245\n",
       "QMcFPRBdHVUPBtBRQY9EV6DlgqvTltQvB20yWiIdicolxoohosMieom08pleArQ3I4AGaIAG6CSg\n",
       "sagUhREiGqkDoAEaoAEaoGNWHZbOOq46k8xFoA8acEHVMXXWCYroqWfPRRF9zICEPZWsfyominN/\n",
       "yKGvzQLR1yDP731bjm4KXAxxMQRorHVgrQOgL04dd6mjN8qPtHX06Tn6LnX0uvz4H9TRSB0ADdAA\n",
       "ffiFDTSRGP3piD5aviB1+EbrwfIFoHExvOeEJRQ0JixnRfQlExYsKkVhhByNiyFAAzRA/3XQuBf8\n",
       "nKojMJDj61zZgSZlRH89aLTMBGiABmiA/uOgUXWg6kDqAGiABmiABmhUHag6ENGRQEd6Tk2ax90c\n",
       "4BTlgTtJQccJEEoUZ5Qq9AEaoAEaoG8FemdL6q1AB1xHo4BOuW13OSB/xAH9WSeAluNXLX4kTR0/\n",
       "LgM+KA7ozzrpQVv82AMdZcLy6zCgpjigLTrJQdv82AP9exbooiIeA7RFJzlomx9XgxZcUB4BtE0n\n",
       "NWirHxeD5pJJ0uGgrTqJQdv9SAraXnUUfXIrw0FbdRKDtvtx7YQl64IgJxEM2q6TFrSDH9eC7m9D\n",
       "4DS2SVblVIiqig6BnukoIarxEWmGTlrQcz/KRjJnR04CLdui6K7Ww9NbcilnD73QjyOg5zq9z0Wz\n",
       "0vlMa7rF5/3OevfSjh+M1fO+5hZHkjavmk73eOrpiUXPQBfCOklm2zqUzR4pNelYVKZbfN7vpruX\n",
       "jvnBzd+azZFw0Iq2L8Nk/OB6j+o16CY7ENGGTjl/dtekkzJ1mH6UbVeDCEdHiGQwaE70eVEpK825\n",
       "6wy0ogMXw6VOV9Q2K52EoBfjV5JrVXM3RxoqgkGXROqTgfwZyKx9TqlmoKfMZge90mF5o1xTfQTQ\n",
       "y/FrqaeH0dscqegRDLqi6oOBqiV69Dx0/0YsQE+ZzQZ6Q4e3aiNDJgK9Gp9TUeTOjmQ70XgsRWfH\n",
       "fJuBbjJ1ePXuHeHdj5HzpU761bvXD7llWcO4qyNNcJLeC2gbaCWGz0hf0LzN87xQS53TQFeyS139\n",
       "w/DcHMmoDgvpjJpjdnPxICH7Z/Z1Ka6QmS/o+ll6LXROA90/3qoqc2dHBFVhnGvOPH3TPqt3Np3T\n",
       "QB92pAopPDJqFfMklKk4oE2dC0A7OsJkQExzfXyV6H01YXFAl+xi0KXr57lmKV74K/hJr5vv60im\n",
       "CNAADdAA/b8Afe/90cn88LXgPwA1SmiwDoVwAAAAAElFTkSuQmCC\n",
       "\" style=\"display:inline;vertical-align:middle;\" /></a><br>"
      ],
      "text/plain": [
       "<IPython.core.display.HTML object>"
      ]
     },
     "metadata": {},
     "output_type": "display_data"
    }
   ],
   "source": [
    "circuit__u_Akl_v = Qcircuit(VertExprArray(\n",
    "    [*multi_input_entries(var_ket_u, one, l, (one, l))],\n",
    "    ExprRange(i, ExprTuple(ExprRange(j, Aij, one, l)),\n",
    "              one, k),\n",
    "    [*multi_output_entries(var_ket_v, one, l, (one, l))]))"
   ]
  },
  {
   "cell_type": "code",
   "execution_count": 52,
   "metadata": {},
   "outputs": [
    {
     "data": {
      "text/html": [
       "<strong id=\"m_wire\">m_wire:</strong> <a class=\"ProveItLink\" href=\"../__pv_it/common/778d226d44a25de48dc423ff06f4a094bb8e66f20/common_expr.ipynb\"><img src=\"data:image/png;base64,iVBORw0KGgoAAAANSUhEUgAAAWYAAAAVBAMAAACHyVn+AAAAMFBMVEX///8AAAAAAAAAAAAAAAAA\n",
       "AAAAAAAAAAAAAAAAAAAAAAAAAAAAAAAAAAAAAAAAAAAv3aB7AAAAD3RSTlMAEM3dVIl2mSJm70S7\n",
       "qzLMnvg1AAAACXBIWXMAAA7EAAAOxAGVKw4bAAABzElEQVRIx2NgoA3gIFNuIEEKHjnuhEHpZJYA\n",
       "HBKt4acZGDIHpZuFcIgzFjD4OzAwCQxGN1fiEGf7wiCvwMBZMBjdvABXUl7NwK/AwLBwMCZnBdxy\n",
       "/hMYGDTBLN4GYBlyYLC4mR2YBbddbM1JeBqzAT2kLYFELKTMs2NgaH4wWNzMBAzLgLMJjD83sKCl\n",
       "Er7ce0ByEoTT/ADk7EECmB0YuDfYMHB8Y+D8gJE2HBgYvKCVix15wfwfG8Cpmp841VwbGBgZfzOw\n",
       "fGRgB6VsRmVjEIC4j+sjA8N7qLpmO6q6jiIAdDMDyweQg7lQKxe+Bww8XxgYdhHrZvqmDQZeBQbm\n",
       "AIb9DSj1B/9HsJudKUsbeABptRUjEpsH2KIAhrD8BoZLHBNQIuACOG3MwZoHqVA7Mn4iSTmwfgNp\n",
       "AetivcDA0P+AYT4Dw1FWFEWcE8DlcylqWQfRRqJ92IExSR5nNgQS5mDEwGfAwLCZgSGdgWF7Bqqq\n",
       "7eXANhKDNaROAbqXA1z7QLQZUyGgWUgzwxGJjT9vcRhQwz6sgJU05cglxHT81eQEatiHFYiRlvyR\n",
       "W/I8DfiU9lDDPuyAtO4EG4oH8DZ9TlDDPuqDNny+a6DMbAAbsZRbnkeNkQAAAABJRU5ErkJggg==\n",
       "\" style=\"display:inline;vertical-align:middle;\" /></a><br>"
      ],
      "text/plain": [
       "<IPython.core.display.HTML object>"
      ]
     },
     "metadata": {},
     "output_type": "display_data"
    }
   ],
   "source": [
    "m_wire = multi_wire(m)"
   ]
  },
  {
   "cell_type": "code",
   "execution_count": 53,
   "metadata": {},
   "outputs": [
    {
     "data": {
      "text/html": [
       "<strong id=\"n_wire\">n_wire:</strong> <a class=\"ProveItLink\" href=\"../__pv_it/common/c38a4ec23b18bc6d3bf31a2eed6ca122912b08000/common_expr.ipynb\"><img src=\"data:image/png;base64,iVBORw0KGgoAAAANSUhEUgAAAWAAAAAVBAMAAACK1ym5AAAAMFBMVEX///8AAAAAAAAAAAAAAAAA\n",
       "AAAAAAAAAAAAAAAAAAAAAAAAAAAAAAAAAAAAAAAAAAAv3aB7AAAAD3RSTlMAEM3dVIl2mSJm70S7\n",
       "qzLMnvg1AAAACXBIWXMAAA7EAAAOxAGVKw4bAAABnklEQVRIx2NgoA3gwCnTwDAoQQpOmW2D0r0s\n",
       "AViDPbRmAwPbhMHoYCGsouIMLF8YGBQHo4MrsYrmOzB+YmCYPhgdvACr6K4NDEAHcwkMwiSsgEvi\n",
       "JwMDEzgR8wJLC44Dg8XB7MA8t+1ia04CusRmoGNZL4AzoB0DQ/ODweJgUCAGnE1g/IEm/uwu0Imc\n",
       "kOBvfgBy8yABzA4M3BtsGDj+YSQJYCnBAkngHHbkBfB/bACnan7iVHNtYGBk/M3A8hHIZlQ2BgGo\n",
       "49YLMPB9gDCb7ajqNIoA0MEMLB8YeNHy3jsGhvPAsF9ApIPpmyRAruWfgFqC/RcAOZjFgKIkgQcI\n",
       "kK2aB1g8cAUw+Aug1tBrwUmC8wC2TEeFwhlUK5GoGkiAaVDJ1f+AIYkTNQxngsth9gCUYg2ihzTL\n",
       "cABjAZJVm4MRAx8w1jczMMhOQVXCXQ5s/DAwbwBXHEDHcoDTOESPMRWCmEWAbNX48lMzFSzDDljJ\n",
       "Vz2d5IYRKxWShBj5qnlw9ytwNCDEqODgBPJVM+Ju1uDwSwLDwII2nDIZlBkMALVFko2mlAQzAAAA\n",
       "AElFTkSuQmCC\n",
       "\" style=\"display:inline;vertical-align:middle;\" /></a><br>"
      ],
      "text/plain": [
       "<IPython.core.display.HTML object>"
      ]
     },
     "metadata": {},
     "output_type": "display_data"
    }
   ],
   "source": [
    "n_wire = multi_wire(n)"
   ]
  },
  {
   "cell_type": "code",
   "execution_count": 54,
   "metadata": {},
   "outputs": [
    {
     "data": {
      "text/html": [
       "<strong id=\"circuit__psi_m__u_Akl_v\">circuit__psi_m__u_Akl_v:</strong> <a class=\"ProveItLink\" href=\"../__pv_it/common/6d2f166d3142c17a1e00773d9922455d313b0daa0/common_expr.ipynb\"><img src=\"data:image/png;base64,iVBORw0KGgoAAAANSUhEUgAAAWsAAADkCAMAAABpCfXzAAAAOVBMVEX///8AAAAAAAAAAAAAAAAA\n",
       "AAAAAAAAAAAAAAAAAAAAAAAAAAAAAAAAAAAAAAAAAAAAAAAAAAAAAAACXHtMAAAAEnRSTlMAIolE\n",
       "djIQVJlm3e/Nu6uFpa9HweoQAAAACXBIWXMAAA7EAAAOxAGVKw4bAAALV0lEQVR42u2d7YKjKgyG\n",
       "ARG/qrOH+7/YI2pbVCwYAjrT8GO3HewreRpDtBgZ+xtNh7SrB8kdfysxxfLIaKRtMOzgR0RFse/p\n",
       "obAfijV1U0o5MNmAVSAyuKzj7HAgnTVWHXL+r6phjMqBqaboGsa6YRQbWD4ZVNaRdjiQzkRXHWL5\n",
       "v4VBqgvGlXwYs8bvsRYsnwwq60g7XEjbbYeSzw0qEKRJcBhFys68q4CsITKorCPtcCGdiNod1TMy\n",
       "8R7CaD5QulFEjp/nGjjHgmQwWcfa4UI6EbU73gfLAzITD0aX68Unmp7Bwj5IBpN1rB1OpIbo1KFk\n",
       "3cwdcg7VFSDWKhPgWDEswnyQCoIaJoPIOtoOJ1JDdOoQrBojkxo7pVbQ2bGRKMk1TAaRdbQdbqTt\n",
       "3FFWrB5fNiZwdK+pGJAVYzSYzMJR6QfbvHr/SWeyw410JGo6RvFOLrGlfqWYZ85+r2/PFOIVW1+v\n",
       "Xi8yDeEA6Uh0DuSV8XNh5SjnA7aoUNwaKIMXQ+LtcCMdic4d9XiccbOT5zxwPhFpUVBDZfBYx9vh\n",
       "RjoSXTrG9K8Z/1YU0AS7qFFQQ2XQWCPY4URqiM4dRceNvzcF+EAaShTWUBk01gh2OJEaokviXQ6i\n",
       "l5LDD6RrQwgeawQ7nEhb+ySnrLZnqb8muUZkjWGHC+lE9NVhnx31p2fGS5NrRNYYdriQTkRfHWJ7\n",
       "lnqmwS5WIcogsUaxw4F0Jvr+Et4by+Z3Jdd4rFHscCCdiUrHvHv+B5UBBXWEDBJrFDscSJH43KP9\n",
       "it/RqVGjRo0aNWrUqFGjRo0aNWrUqFGjRo0aNWrUqFGjNreYRbP4MnntyP3Dpcb5iM6yZ2Q1Yk2s\n",
       "iTWxvh9rXvwS1uApDZO1ilqhVuheBe6PP1BYw2Tga8wAAzjaWaPjVl4WuuVh+3toFNYwGUTW/gEc\n",
       "7KzWsav2RthB+6s0CmugDB7rgAG4haSOX0988HVt91cPmiOwBsrgsQ4YgFOo0Dp+mbzSuvTvT3Ch\n",
       "y3jWUBk01iEDcAq1WrD41jsde70/LsdjqIpmDZbBYh00AJcQilub6dUls95fbQJdE80aLIPFOmgA\n",
       "LqFBPxBQm6+s9OyvGF2h9B5EXtZwGSTWYQNwCbUa5V7aMWBXnv2Z/fAl1KjG+oZXb7ysLRklxDCo\n",
       "YBkk1rYdTSsP7HAJaY1z06F2HVX2/mRf1+P8PeU8pZTvJHH1xsvaljFW122wDLymxdEAGOuKAzvS\n",
       "sv58wrsUEngm4pU9LPvNGRldGA8rg2XgNS2O7OAroiujnDpNFr9ebGk7H2sWLmPumj9inSqGrO1o\n",
       "+jErEW7WgYzwWRfN+uQWyHorM+a6LcvJejOAQfJKdfxWrHn3ysN5BOudDCtblZP1dgCdrKzKsvlY\n",
       "/xxPRr3W0z3clXkhoKwdMty+wpic9W4AXNd1eRSvAxmBWP87Yxw0Xq8bH6Mn51nj9foMrmdFy3g4\n",
       "63/XsVYiijXvy7KsVagMPutBjkGMCdcAbsOai4cWUynS6v3mPOtuyccCZfBZmyIUQ1O6BpCW9Q/E\n",
       "uApwnQ8qg8/6wwDSxusGMMZCobAOk0nIej+AC/Pro8mFobBu2MWsw2zHYv3ffyXMOJQYEojs4t/R\n",
       "nYyy+XVe1qk3u3cMIdbEmlgTa2Kdn/UPdOYPyANSrTTXwdZhjCDpuQyqo6TQ0VkHkDSGEGtiTayJ\n",
       "NbG+IesfYo3KiPyaYgixJtbEmlgTa8pDKA+hGLL7481rWoRuhnWdj65fJ3F/Yk2siTWxvinr37AW\n",
       "52rWedfiXFzTAm3dE6ymRd4Y8t01LbKy/vKaFllZf3lNi5ysv72mRY77wJ4TyrfXtMh4X8HX17TI\n",
       "F0OopkU+1kc1LdaVKcA1LfwyiWtarAdwKevDmharyhTwmhZ+GRzWhzUt1gNIyxpa02JdmQJc0yJA\n",
       "Jqh+CLimxabCRtKaFp/zkOOaFuvKFOCaFn4ZFlQ/hJ0YwKqmxabCxnV5yMeaFnZlioiaFj6Z5DUt\n",
       "VqO5aU0LuzJFRE0Ln0zymhar0VzE2lfTwq5MEVHTwieTvKbFajT3+a3AZr2qTAGvaeGVSV3TYl1h\n",
       "426sp1oQz8oU51mvalr4ZRLXtFgP4OLrIRYku6ZFt8qqwDUt/DKJa1qsB3C/OgvfVtPiyt92qaZF\n",
       "PtZU0yJjDMFhHYrs4poWtD4EbzNi/fdY01oc/2eoLg7FEGJ9kjXVtMjIGtNRUujc8h6O3TKfklhH\n",
       "suZHRMX2WXZ9GXNdhe4D2yN9Ed2xrmry6zi/3iJ9Ed2xZi2xxmX9IrpnLSpijcv6SXTPmvfEGpf1\n",
       "k+ieNXtwYo3K+kl06lCynjaeV61VgvKQ6DxESWGQtpVFdOoQrDLrIxrtmB3Jr0F+vSDtBouo6Sir\n",
       "eW3gsKx9qwtiHcnaIH28PXomajqUWefDln/Mic5ArCNZP5GWlUV0DuSFttcHrgI2sYbNjdX0jFFp\n",
       "E507phAitSsRCWINvyDn1QF+DDge2OdcrOcV28ImOnf0xsf7flr+ukmwg/IQjeRYQB2N5qiwAbiu\n",
       "h0xIK24n2MuXMJhFRmL+GtYnjmF+/e2s934tHtONZfaJ49yhBiErPshyf0GEWAPPZeqhadYXRPYn\n",
       "OZsLfcQ6+rzxSXTPuufEGpf1k+iuQz0YsUZl/SK6Yy2bT3MssQ7NQxxE5fb3xYGRX8f59RbpADwn\n",
       "ItZgRsSaWBNrYk2s/wzroPWuX8466ZpgYk0xhFgTa2JNrL+a9YlrT1bJnxjWb5mLWJ8cQNZnQ7wG\n",
       "9LnkT7DOu5jQRX59bgBpa2t5f2zWGue5C6c+ZrkjdEDAz31hvG5rmhtpbiTWvzkP+VrWP+TXfzmG\n",
       "3CW/diQkafPrK+L1XfLrfULyO/JriiHEmvIQykPIrymGJGZ9NqEh1hE+ezKhofw6fwyh/DpjvKb8\n",
       "+q/PjbQWB4kR+TXlIcSaWBPr72LN6H50HNZUFweXEdZ3RjUtiDWxJtbEmlh/A2vKQygPoRhCrIk1\n",
       "sSbWxJrykC/NQ5AeC5Pm6TInUCE9JidpDNE4bqITeZtOdQAQa2JNrIn1jVn/EGsv65+cfs0fOKw/\n",
       "6+iIZCJM0WPHLWLIQ+Ow/qyj4c4Z+FGPHXeIIZXGYe3RSc7aZ0fqGPIvYJ/1oDkGa49OctY+O45Y\n",
       "/8vHWnChSwTWPp3UrL12XM+aSyZ1Fc/aq5OYtd+O1Kz9c2NtAl0Tz9qrk5i1347L85BidIVSi2jW\n",
       "fp20rAPsuJy1ud+B6yGatV8nLesAO65mLfu6Hufv+RkqqnmfDKhBn2Ft6yghhvmpeyudpKxXdjSt\n",
       "ZMGGZGOt5kHp6cEepZTWI1OqxwnWKx3jYnW70/kM7H331uuV98a0AzsY6+xK+B5DUtfWWh15Y2u7\n",
       "ZVgW61p4z6KZW0cX1vPJ3joelffdW69X7xvTztnB19HNZwgKa6XdSdBrKEWzPrm1WbdFuF+vdRr7\n",
       "WXBvnYQxZGNH048ZoAg0RGuJwZprd3L/3Cdf3Jn1ywmXxVrp8LlxpzOeWLQ7nXSst/sfJK9Ux8MM\n",
       "aXWNwbrRWh2PUfVaP0x/ZV6IDet3lPOxduiwslWhYT+a9X7/nTQJYKAhg35gsB4OcqBD8yzW7ygH\n",
       "uH7Ne+WIlsmv870O57ougw0pDhzydLguwKzbQoFZ8/Go5Hyrk431GK6LlvFQQ1qMgH3k1j7WSkzb\n",
       "SChr3pdlWautTjbWgxxjmHnEYpghhe6iHbvQ7bmhc/HQQpqHQY7hrpYFlHW35GMbnWyszePShqYM\n",
       "NkToIRp1xxnQvApw7cmrk431aUOGyFSk0L1iQEiFwmG91rmAdaAhTMZ5Nq/OX0x6TS4Mh3XDLmbd\n",
       "hG7PK5ao3WrNAuLv6Mh2/z3W+ewg1sSaWBPr38f63mvdk9kBHsH/hXx0u+uloAMAAAAASUVORK5C\n",
       "YII=\n",
       "\" style=\"display:inline;vertical-align:middle;\" /></a><br>"
      ],
      "text/plain": [
       "<IPython.core.display.HTML object>"
      ]
     },
     "metadata": {},
     "output_type": "display_data"
    }
   ],
   "source": [
    "circuit__psi_m__u_Akl_v = Qcircuit(VertExprArray(\n",
    "    [*multi_input_entries(var_ket_psi, one, m, (one, m)), \n",
    "     *multi_input_entries(var_ket_u, Add(m, one), Add(m, l), (one, l))],\n",
    "    ExprRange(i, ExprTuple(multi_wire(m), \n",
    "                           ExprRange(j, Aij, one, l)),\n",
    "              one, k),\n",
    "    [*multi_output_entries(var_ket_psi, one, m, (one, m)), \n",
    "     *multi_output_entries(var_ket_v, Add(m, one), Add(m, l), (one, l))]))"
   ]
  },
  {
   "cell_type": "code",
   "execution_count": 55,
   "metadata": {},
   "outputs": [
    {
     "data": {
      "text/html": [
       "<strong id=\"circuit__u_Akl_v__psi_m\">circuit__u_Akl_v__psi_m:</strong> <a class=\"ProveItLink\" href=\"../__pv_it/common/48cd687ccd74020929c5f7fbf00850cc363f8c070/common_expr.ipynb\"><img src=\"data:image/png;base64,iVBORw0KGgoAAAANSUhEUgAAAWsAAADkCAMAAABpCfXzAAAAOVBMVEX///8AAAAAAAAAAAAAAAAA\n",
       "AAAAAAAAAAAAAAAAAAAAAAAAAAAAAAAAAAAAAAAAAAAAAAAAAAAAAAACXHtMAAAAEnRSTlMAIolE\n",
       "djIQmWarVO/dzbuFpa/sGmb2AAAACXBIWXMAAA7EAAAOxAGVKw4bAAALTklEQVR42u2d65qrKgyG\n",
       "ARGPdWZx/xe7RW0FpQVDUGc3/FjPzLLzSV5jCBYiY8CmAS2fDLzpy3sQ0UecP9GnnBlZjVgTa2JN\n",
       "rIn1N7PmRfT5+AOFNUyGgdMHQAfeslZtCutCDyryfA+NwhomE+VqGsmOdyer9cDSYPc86nytRmEN\n",
       "lMFjHdGBNyerdJMYRUbYUeerGs0RWANl8FhHdMAvJBO9+sPl2pxPcKHLdNZQGTTWMR3wChVaq2TW\n",
       "SntP7p6Py/G6tsmswTJYrKM64BXqtUDIRQavY7vnq0ygq5NZg2WwWEd1wCeE4tZmePXJOOcrRlco\n",
       "gxc2yBoug8Q6rgM+oUY/EFCbS1YGzleZ229xf1VbZ3V+CbK2ZJQQTaOiZZBY23bUvXxjh0+o1xUG\n",
       "6zFgt5/7KIeqGsfvaRwupVwTF+eXIGtbxvS86qNlcFjbHWCsK97Y4RPSWuJMY30RzDqfmk/zTA5b\n",
       "u1ttPGtHRhfGw8pYmed/qtet/Ppp/a8Qa9cO7ny8PY315wnvcvf0XYj1AZlavWf9Sad/3cqvn14/\n",
       "HLOjHsasRPhZ+1p9hl8XtTu5Bfr1VmbMdXt21K9TYsimA43krep4tF+fwZp3r9yQJ7DeybCyV2ey\n",
       "3nagkyYpYTdirQatH4ZJa34QUNYeGW4/9crOetcBrquqPBKvsVj/HDEOOja6jY/Rk/MzY8hmVjGw\n",
       "omc8nvUPEuvf46yVSGLNh7IsKxUrg8+6kWMQY8LXAT/r3/NZc/HQYsx/yq5dfznOultyhEgZfNbD\n",
       "6NJNXfo6cBvWln8DnvNBZfBZf+hAXtY/gD4WCoV1nExG1vsO5I3XNaCPNUNhXbOLWcfZflEeAn/O\n",
       "B5dB/G4X1oNr/fpc1rk/dp5fE2tiTayJNbH+G6x/oCN/RB6Qa6W5jrYOowdZ8xBUR8mho0/tQNYY\n",
       "QqyJNbEm1sT6hqx/iDUqI/JriiHEmlgTa2JNrIn1/Vj/+1cSa1RGR68ZPec7LYbQ82tiTayJNbH+\n",
       "G9+BEeswo2x+/d01Lc6NId9d0+JU1l9e0+JU1l9e0+JM1t9e0+LEPOTra1qcmId8fU2L82II1bQ4\n",
       "j/W7mhZuZQpwTYuwTOaaFm4HLmX9tqaFU5kCXtMiLJO5poXbgStZv69p4VamANe0CMtkrmmxqbCR\n",
       "lTW0poVbmQJc0yJCJm9Ni02FDa/OKXnIx5oWdmWKhJoWIZnsNS2c3ty0poVdmSKhpkVIJntNC6c3\n",
       "N61pYVemSKhpEZLJXtPC6c19viuwWTuVKeA1LYIyuWtauBU27sZ6qgXxrExxnLVT0yIsk7mmhduB\n",
       "27B2alp0zkgPrmkRlslc08LtQE7W3nUmVNMizCh/DHmmUF9W0+LK79GppsV5rBkO61hkl9e0oPUh\n",
       "WB8j1v9H1rQWJ8ya6uJQDCHWx1jf/f2NsR/7A2vdUR0lhw7tTfpy1rslVWXSGEv70fdIX0TF9l12\n",
       "Q0l+nebXW6QvojvWbUWscVm/iO5Ys55Y47J+Ed2zFi2xxmX9JLpnzQdijcv6SXTPmj045SEpecge\n",
       "6UJ0OqBkNV2YeYVgK8ivk/1aSWH+r28totMBwVqzFqXWntGRWINYL0i7xiJqDpTtvA6zWdYZVgWx\n",
       "TmRtkD5Wj56JmgPKrKliyz9motMQ60TWT6RlaxGdA3mh7bWYTsCOYw1+IIcig/eAEPZ3vjyknd4x\n",
       "Km2i84EphEjtS0Si8hCN5FhAHY3mqLAO+PKQeXW8sInOBwbj48MwLTXeJNhRfv31rPd+PSFtuZ1g\n",
       "LxehMQu6xHwZ3IkjsYaxFo9pE589cZwPqEbIljey3D8QIdbAeWPV1LX7QGQ/ydk86CPWyXP0J9E9\n",
       "64ETa1zWT6K7A+rBiDUq6xfRHWu5QRu13vXLWbuMtkhfROWWZMPIr9P8eou0Ac4/iTWYEbEm1sSa\n",
       "WGdnTc+eUBiRX1MMIdbEmlgTa2KdNw8JlPyJ1VllLmJ9sAPX5CFryZ8kv16LCV3k18c6kLfeU/DL\n",
       "Zq1x9qIc+jPLHaEdAv7dF8brvqKxkcZGYk3PQ+h5CLG+Vwy5S37tSUjy5tdXxOu75Nf7hORv5NcU\n",
       "Q4g1sSbW8EZrcZAY/d/9+mhCQzEkwWcPJjTEmsbGO89lUlnTXOZEv75qLkPPnlAYUbymsZFYE2ti\n",
       "/WWsaT/6aXlIojvj61xZFyezX389a6rxSayJNbEm1t/FmvIQykMohhBrYk2siTWxpjyE8hBinTmG\n",
       "IL2CJ8+bfA6gQnmXUG7WOG6iM3mbznUDEGtiTayJ9W1Zv1nveivWCcMqCuvMa4K35+QPHNafdRKA\n",
       "Rf5pwI7cMeQn5pwPjcP6s05+1gE73rHGmsv8Rpyz1TisAzrZWYfseMf690TWVaM5BuuATnbWITtu\n",
       "wFpwoUsE1iGd3KyDdlzPmksmdZvOOqiTmXXYjtysw3lIZQJdnc46qJOZddiOy+cyxegKpRbJrMM6\n",
       "eVlH2HE5a7Pfgeu5zLOq1wRVNfoQa0tHCdHMb4JzdPKytu2oe8miDTmPtRyqahy/p3eolFJar/Fo\n",
       "H0dY2zrG7Krf6XwGtu4oev0U3Cz1xg7GOrs6e8CQ3LW11os+O4BeyLQW60oEZ9HMr6ML651Zq05A\n",
       "Zd1R9Ppp3Sx1zA7u3nEhQ1BYK+0fmLVz5xmjuj3rvjjg145Obb+fbNXJGUNcO+phzEpEpCFaSwzW\n",
       "XOvPz56K2p3cWqyVPjA2bnXGZLff6WRkvTl/I3mrOh5nSK8rDNa11upTH/nizmxYJlwW6zXKhVnv\n",
       "dFjZq9iwj8B6e/5Otutb5EOGNPqBwbrRzYc+qkHrh0HSmh/EhvUa5UKsPTp8UJ5omYn17vxcV1UZ\n",
       "bUjxxiEPh+vimHkW675Qh5/zvfx8vCs53+rkf873vJ0HVvSMxxrSYwTsd24dYq3E9BkJZc2Hsiwr\n",
       "tdU5jXUjxxhmXvsXZ0ihu2THLnR/rOtcPLSQ5gWFY7irZAFl3S352EbnNNbmFV5NXUYbInSTjLrj\n",
       "DGheC3nOF9I5jfVhQ5rEVKTQg2JASIXCYe3qXMA60hAm0zybt8cfJr0GF4bDumYXs65jP89blqnR\n",
       "9+jntZuvD8mmSKyJNbEm1n+O9b3XX2ez4wrW1KhRo0aNGjVq1KhRo0aNGjVq1KhRo0aNGjVq1KhR\n",
       "+/bmWxlZYoqdI4P7pSzH7v5MVHgWsg9Q2A+Fwhogg/cejnQ7PEhnos6BZT13C1zcWjaM1VVdStkw\n",
       "WYOvGEQGlXWiHR6kM1HnwHNTSA+DVBVM1UVXM9aNvZXQFbIQGVTWiXb4kPbbA+q5T0HAFreOglxJ\n",
       "syHK7NKrBJA1RAaVdaIdPqQTUftA+7xb+ABhNN8ozbR/w/QYuBoZJIPJOtUOH9KJqH1gvYAPyEjc\n",
       "TLpdafZ1T1uMYQEbJIPJOtUOL1JDdDqgZFXPB5Z9+y3g/lfTbsppF7fxiXpgoCEWJoPIOtkOL1JD\n",
       "dDogWNuZYhRmz4eCjo71FJqKZrmIvJGgzAkmg8g62Q4/0n4+ULZT9YjaBI7uNRT/neQal3WyHX6k\n",
       "I1FzQJnN10tsqdYU88CM7Pq23P8f64ec0gX2BulIdA7krfFzYeUoxwO2wNkEBZSJqh9ykh1+pCPR\n",
       "+UD1WHaMPWPT8USkR0ENlcGLIel2+JGORJcDw1wcpSigCXaBUj8DLIPGGsEOL1JDdD5QdNz4e12A\n",
       "b6QGp04uVAaNNYIdXqSG6JJ4l40YpOTwG+naEILHGsEOL9LenuSU7XaWejwrTm5gGSzWGHb4kE5E\n",
       "XwfsjH04PDJemlwjssaww4d0Ivo6ILaz1CMN9rAKUQaJNYodHqQz0fUirB+Wh2vNXZtc47FGscOD\n",
       "dCYqPePu8Yf8DQrqBBkk1ih2eJAi8blH+wsbbv8DGElz7+HyC+wAAAAASUVORK5CYII=\n",
       "\" style=\"display:inline;vertical-align:middle;\" /></a><br>"
      ],
      "text/plain": [
       "<IPython.core.display.HTML object>"
      ]
     },
     "metadata": {},
     "output_type": "display_data"
    }
   ],
   "source": [
    "circuit__u_Akl_v__psi_m = Qcircuit(VertExprArray(\n",
    "    [*multi_input_entries(var_ket_u, one, l, (one, l)), \n",
    "     *multi_input_entries(var_ket_psi, Add(l, one), Add(l, m), (one, m))],\n",
    "    ExprRange(i, ExprTuple(ExprRange(j, Aij, one, l),\n",
    "                           multi_wire(m)),\n",
    "              one, k),\n",
    "    [*multi_output_entries(var_ket_v, one, l, (one, l)), \n",
    "     *multi_output_entries(var_ket_psi, Add(l, one), Add(l, m), (one, m))]))"
   ]
  },
  {
   "cell_type": "code",
   "execution_count": 56,
   "metadata": {},
   "outputs": [
    {
     "data": {
      "text/html": [
       "<strong id=\"phase_kickback_circuit\">phase_kickback_circuit:</strong> <a class=\"ProveItLink\" href=\"../__pv_it/common/0da219496a72530a133cddf0936d610526e8ff640/common_expr.ipynb\"><img src=\"data:image/png;base64,iVBORw0KGgoAAAANSUhEUgAAAU8AAABRBAMAAACgSDmeAAAAMFBMVEX///8AAAAAAAAAAAAAAAAA\n",
       "AAAAAAAAAAAAAAAAAAAAAAAAAAAAAAAAAAAAAAAAAAAv3aB7AAAAD3RSTlMAIolEdjJmVJnd76u7\n",
       "zRDVRUmUAAAACXBIWXMAAA7EAAAOxAGVKw4bAAAFzUlEQVRo3u2aT2gcVRjAv53d2T/JZnZy8V+C\n",
       "GdxAKCpZRDzoISsYq710L8U0UrJQe+mhrkEwKNK1QSFWyh6EZlMwsWpBL52KxdpqzSLxYpHqoR56\n",
       "6BBEbG1JiLUBsbu+PzOzs/PebuZfaorzHb6d95j3vd9+7/+8D+A/l313oI7fLjJZezu9H89hLT10\n",
       "TrNkHu9UImkqPyI+U7FnJcqdCkzplScrTquILBrKlySYCm8AyPq/YF+XaANkcpG/Opq1WnjJVMGC\n",
       "fg+QpU/pAvN6ukg7gEZA7280GhjpEs4rwp4T5ntWCylNV3KzIQMAjSyQaoTBt3id4AHjQUDlpCP3\n",
       "CCSBQaNy5NSeFtDdGrUQU3WVbf7fgn/QpEIs/gJXZWD74SHjYbcmKRI8vYxwFQS6DDEQQLCASmeu\n",
       "ICdiC1JdV1mH48AZaCaHLcYrICzCkJH5hPHwp+H3H0H8EGBxDPDvJRiXY3AvgrV6dCcCHTIcjlUT\n",
       "FCr+QSc0bDGtQqIO/Ubmq0bfqusP90EvGctPmU3fDXl4jQElFt7TFQGNkl4+5B/0eVJNpgziOvTI\n",
       "NtAY7plnZyGytOsI7ib5J03Q+Gl1TGFAiYUdQBUBTeSx7nfLGXl0Ld+a8w2pZgWB3oKEYgPtRrPT\n",
       "taP71a5GYxUlezQyomnbvvn3d8CAEgsjGlUW0B7Z91J1gVQzoIB4s9mVDNA0mre/gkidu2ZZ/7EB\n",
       "SixMFKiygCYU7iI2V3MOetkEXQOYtoH2oEnmFplqWUmXeKDYwkCOKgsofzTNNxq8eSvTMAW3o3Sb\n",
       "5M7Splcgijz6Is6ZqVY/q1aP4ccU6hHo9TVeLbQX6GZMUGxhJUeVFXSaY0FApp1MB7MWj6LBlFgH\n",
       "mGQ9Kq739j64oRkTFFsYKFCVhWS1OvdptarqLmhsLKtNw9/itL3pUWeMo574E6fpbzrpQCYotjAh\n",
       "U2X16CSnUA8CqbfftxVb01+TauILkLzY3POYox5lvKtBxDEoscAZ9aYLnDd92pbeQas5CtcKIJTs\n",
       "8yjaCFw98fj7jkCHkSOJhf1AlQWUv+1rM5iobIflh89b0iNkZYLfB0+j8WFfmaK4ZWZu552Anjt5\n",
       "uUgtHNaVBVQocaen+aX2JhehDDOWdFeuuShP2UHhI4eTXIuFlrWegqb4xTLtLcZKaKMxUGB2T0Rq\n",
       "zKbkkEvQGrN7oqBTrkGvAxxoARUXzGok9jw17g6UWIirurJsSmquQCNFvfA2a+6XZjWxIlOku+QK\n",
       "lFhIybrK2k80TkEfq4OER5/4ge3MNKpTtT0zbShWC+aZqQnKcUHHpv8ZkrjR+7WWjZ/SiWDS9S6n\n",
       "eQodbTYMuAM9qF3HRsoR2eW53o0kNUNtLO1AU8rb2KG7xjTYGtIONPEJHpAnrUv91gSFORm2lLQF\n",
       "fQPuElAIQUPQEDQEDUFD0BA0BA1BQ9AQNAQNQUPQ/x9opvUuZOuCrt4tjg1BvYnxpUvcbFDzIqzg\n",
       "rbzxyZkNKQkYVDC+4i75A2VDSjYLdMofKHsJjkH75o+V4Cy+bQsONOUTdIjr0WFkPqYE6lGh5A+0\n",
       "nwt6BfSP/cGBegy1M0GZkBIC+g/o9yXBgXJvsZ2ASs8VoVtjr4gwKA65gOWgQH99B+C8l+smCiok\n",
       "FuBlzmjCoAIO99sbFKjyOsRXvY6mLLyQrJCApWkOaGoBqXJAoGJphgQ/JXPeQLWuPHwMbEgJBl3B\n",
       "d0kqZy/lUgiohKpBdYGoehxMIzSgc5Lj0YNFNErzQTV9tE4uzTtfmHYAnYHYKmcw4rxhZFeQgwJF\n",
       "fWwneA1ZQ6A/QHrxADu9EVBjdgoENK3ChbjmPgjQAD0M44rCLhik6dFcfyow0KQqHhe8hFXqoH8M\n",
       "vvJFgZ00SEhiGfoKgYFKn2/vG/USqNqyMk1xl9BHzuSD3j15CP1tAa3dqW1eWvYFygZ8bBboDX/b\n",
       "PDakZLNAn/VW3ggq6d7sM1PMOOuoELCEx+WgpbGVPun8C4d2DTmiiWGbAAAAAElFTkSuQmCC\n",
       "\" style=\"display:inline;vertical-align:middle;\" /></a><br>"
      ],
      "text/plain": [
       "<IPython.core.display.HTML object>"
      ]
     },
     "metadata": {},
     "output_type": "display_data"
    }
   ],
   "source": [
    "phase_kickback_circuit = Qcircuit(VertExprArray(\n",
    "    [Input(ket_plus), *multi_input_entries(var_ket_u, two, Add(m, two), (one, Add(m, one)))],\n",
    "    [control_elem(two), *multi_gate_entries(U, two, Add(m, two), (one, Add(m, one)))],\n",
    "    [Output(ScalarMult(frac(one, sqrt(two)), VecAdd(ket0, ScalarMult(exp2pi_i(varphi), ket1)))),\n",
    "      *multi_output_entries(var_ket_u, two, Add(m, two), (one, Add(m, one)))]))"
   ]
  },
  {
   "cell_type": "code",
   "execution_count": 57,
   "metadata": {},
   "outputs": [
    {
     "data": {
      "text/html": [
       "<strong id=\"phase_kickback_on_register_circuit\">phase_kickback_on_register_circuit:</strong> <a class=\"ProveItLink\" href=\"../__pv_it/common/37b538cf2f8afb9c07b498c71ea5f94df0ba4d730/common_expr.ipynb\"><img src=\"data:image/png;base64,iVBORw0KGgoAAAANSUhEUgAAAkMAAAEoBAMAAACpzOisAAAAMFBMVEX///8AAAAAAAAAAAAAAAAA\n",
       "AAAAAAAAAAAAAAAAAAAAAAAAAAAAAAAAAAAAAAAAAAAv3aB7AAAAD3RSTlMAIolEdjJmVJnd76u7\n",
       "zRDVRUmUAAAACXBIWXMAAA7EAAAOxAGVKw4bAAAPRUlEQVR42u2da4wb1RWAj71+7npnHFQBgS3r\n",
       "QqoIURqrQlSFHzEVhIb+iCsRNQmK1lUAVVRF2ygqgSpiCY82hUYLKspuUJNN2iIBVdepFBEIpBvR\n",
       "8AcES4WgUiQyXVEUKKtdEkgEBbv33nl4HnfGd+zxY7znRr47vvE9nvPNuc+ZcwwQvvTBbABC7oAe\n",
       "TvEbx+1FibxXhS0sly4/qpgKD9b7mpSRhTAlHYi2A2Q1fpyPj2kqp8brijZJiczoWS8gkkjLu0I9\n",
       "zBQdH59X/8j5yGd1RZul3A56ZkqR2mGxdRpWHWmxSUSZElMuuuIB3WTM6VWtMSoM0XLyfdRW3qFl\n",
       "Jdj8tAPRRkWVklb0zJSitSZ9onWIFgVK/CG6RFXuXfgwC47GFJky1CP/J+2+MMreUER92cihzTZE\n",
       "0pFThAqVEivrGR/R9jAh2smUS4xDdAZW6oXX6t1uTi/ZqEg5CW6YI6ByBNEcxCBK/kXesFrROoKI\n",
       "SpEqesZHlA4TorNMuUwZkhUY0gu3gd4H6eb0BsQPAMxsAPr3HdiUjcFFBNOP9zkRDemGpmZ2RAx/\n",
       "dDQ8iOIVppw8BvHzMJi1IRohGksvTgBcDMvYGHW90dAGoAD3AHAQMSmPgZ7ZETHZLRztmkUUufpM\n",
       "wVIQG2fKLRBE5yCZsyFaS14f7bmrHDmxfjdtd4XrDESJw+UNOS4iJuUW0DMuInire63IngZmmXLD\n",
       "OYh/CkZ/rSN6mbxegEilXx05BxV1kGINaMcXrwAXEZOyWtEzPqKtoieY2nu8w4gyMwaiMwAP2hC9\n",
       "Tl7njKHfNitn5shDRKWMFPWMj0i4v95frRY7hUj6iuaDZbWh5aCPWNFttGjX5OSzk5NP0cOTpLMi\n",
       "c6EzXLi0x7314KghykBEpQzn9YyPKJUXO8so+frxtiGSbfPNCXY1x/TuOnm+Zv66FZGPxM8vW3YZ\n",
       "T5x5YjhhQUSlLOT1zILIwB8vi530IDnbil9E7JKxbGG2+YamWRFpb4lKrRPVERErgk9FRRmIqJTh\n",
       "op7xrYj16XK1BWlRv2QTugWI1TOd6N8t7zVEiSlIzdaGYjOi3yrmxZUAIiZlJKtnfESD2W5saFov\n",
       "W7KOaGp3DXvgo2JtQqcjeom8Pnz6mt8LI1qV1aaF9Ua0oS7urjPWt7EpVbnTKw6bhhkdEZvY7Pqq\n",
       "IIro6PTJkirlLiPjI1opPOh/4XPJ2zyim2HuqmO1t32V2jZGbXGpI7KZgdBmiCrlUSPjIxpvQuVW\n",
       "I5qBMdhlev9Hk3LH7cvY/nwDiI57r9G2mbbquhJRbJQsXM0jzc6acpJjX7u20hdHxKR4rPQZ/ky2\n",
       "exF9DHC3BdGmmnKxkv3T8Sn/iJiURFnP+Jsh89CdiCIlTY8rzUMaGX9u0g6dVZ73cW5mKemsnvER\n",
       "relSRN+pgETH+Pg+8zrE867RPDSWuHvXsZrxlrsUEfwTUvQshyzjlOeaO5lriFCQd0AaRrTYiIT7\n",
       "lY/pqY9FzC1A5D6a35RS9Kz9iJq7A5LOPUyNaP2GYE6+PWmxrRWTf6Z9wLRlyYaIrGlvFkKX2ozo\n",
       "V4CIejAhIkSEiBARIkJEiAgRISJEhIgQESJCRIgIESEiRISIEBEiQkSICBEhIkSEiBBRGBCFz0+/\n",
       "3YhC6KffdisKn59+5xF1vZ9+e59SgzD66bf9uevw+el3HlFzfvrf/UHeYkUt8NPvPKLm/PSnpEUH\n",
       "ooD99DuOqEk//Wx8yoEoYD/9diMK3E8/42xoAfvpt9/Zypaa9dN/GByIgvXT91KQ68PfbX76UaXg\n",
       "RBSon76Xglyn0G7z0z/FfHtb6KfvpSDftXjJ+el7Kcj34Uc/ffTT72xD03rZknVEU7vr7vXT70B3\n",
       "HTY/fc9Bf/+JVgz6PeWnL7dk6thTfvotQdRbfvotQdRbfvqBI+o9P/3AEfWen37wDa3n/PR5iJrb\n",
       "3u85P305yI0mdeXZa376wSPqOT/94BH1nJ9+CxD1mp9+CxABIkJEiAgRISJEhIgQESJCRIgIESEi\n",
       "RISIEBEiQkSICBEhIkSEiBARIkJEiAgRISJEhIgQESJCRIgIESEiRNTTiJijISLySguziKhOkrCh\n",
       "YV+EiBARIuqxEU328pdy+796zlYyL3hBaOdFspe1uP0sbD2XPVnIBMOSEBEiQkSICBEhIkSEiBDR\n",
       "0kKU9VW8FBHFXKLJXoOI9MQJSRK5/LE8JxLQUkVEA9tIj1vLTrMYku8hIjWliLEkbdGw1o3SsJQ/\n",
       "RURq6qeYbLHlrssDQdSvICKWdgANeGMvTZ4DGGSd0SHwiPG4NBDtBLj+zdcKttLvETxRFglreREi\n",
       "Ty5tRDRu4f32wluPFgESbIOW8Fle9ELEoum6IeJF2RVB5Cq00bTQxI/07CGv3zlK6YiWnGKHy3/0\n",
       "pHdfNOGBiG3yNmJFEwEj8nsX3pxoZM0n2NH8JE0aj2kF4uqZRybNRuQSPViuemzac8qtF9WH0IZS\n",
       "k3gJIumsrWw9wJuj0DfFQRRQX2S9qF3eF5GGllwE6/heVSgi7bck6ja0nu+u/0GmRbNJq6E8xxpa\n",
       "Ykaou+59RFcBDJTft5bdyeZFavxaHPRhIzGUV20r1r7fkGUspFk8ycPk9fWljSjt2oqWi63RGp4X\n",
       "qT8rEYJ5UcJ1wvCI4DK24XnRREjmRXDcpVwkAu0S2VL72KVcJCj4EkEUKfDLbwBEFEBCRIioCxCp\n",
       "Az8i8rKiiaWAqPe31Jq3op7fUsPuGhEhIkSEiEKKyM/T+0vUwQG9Gusm9GoMPCEiRISIEBGOaN0+\n",
       "L8KGhogQESJCRIgIESEiRISIEBEiQkSICBEhIkSEiBARIkJEiAgRISJEhIgQESJCRIgIESEiRISI\n",
       "EBEiQkSICBFx0h09jegD58OYW7w+n2DBT2DuqmOmwoP1viVFs7FwIorfOG4vSnqqsl39Mwa7/HwN\n",
       "i3YxFFIrSjoQzRtRg+POj0ua0Z2F4WI90WYpt1MDLHQEUT1PogYQvQpwhXqUcVLIlNS/dzNEkf3V\n",
       "6iegRiKEEmx+2vJZs5S0QrJ9dtuqHRZbh2ixWXNyIIpMMeWiKx7gNblLjKMryev0v0s50BD1ZSOH\n",
       "NjsQbVRUKTEa1/KHNmHRvHF4IkyIaLwuoty78GEWHBZGg3tqzWcfzIESuywHUo4gmoMYRMk/KyLp\n",
       "yCliPVSKRCPvLiiuiLaHCZGcp8olxiE6Ayv1wmv1AyPe4JACm7KQiY9B/ABBtCkbg4sIpsiY1YrW\n",
       "ESordUMbLLkiSocJ0YhClcuUachlYwzaptuOHoY5MhahvfFQX1nXfwAKcI+lS9YRMSmPUQOd4SFi\n",
       "+KOjIUK0liknE+s4D4NZG6IY/fR/nxmDofUbaKt5SI1XSRElDpc35GDtr52ImJRbaO0pHqJtxqyg\n",
       "OxFFrj5jG4pfZsotEETnIJmzIRqgMc+f+eVzMK06276njlJsRNvxxSvWBqMjYlJWk4O+iisieKt7\n",
       "rciRXmfKDecg/ikY/bWOKEMu9sA4DCu8eXdBnVQ5EDEpI2RYj3/mjmhrRxHt+kvWB6KTBqIzAA/a\n",
       "EA2SrkcuGbMj65SJdifbExxEVMowwRE5644o3UlE6Wr1M75AW3Bd1XduQm1oOegjVnQbQzw5+ezk\n",
       "5FNMFhmwRsjHcxxpbHZ48U9qkgxEVMpC3hl/14wolW8hIhZ7h2W86D0Aq6rVz4W+W/WdO6l31zQG\n",
       "9VaOFY38YtkyRUSSgYhKYZNxZ0Mz8Mfp0BhYOGX7cmNCv/jszMTr6eStgQ5URKTTSVRqnailoYku\n",
       "tQxEVMoIaezxT9ytKJnrYEM7RQh4XfU7rW9fYsolpiA1WxuKjRGNFKT+KvbrOAYiJqXeiDaY7SCi\n",
       "eg3NNiO5RVVuD3xUrE3ojHkRmdlIe7esLYgiWpXVpoV30THPfV7kY6ekrd21qvWodXtsNZtdw+kV\n",
       "h03DjI6I2UFq/9uiDe3o9MmSKuVRWrHsjmhlZwf9L722GjK27bH+vLGNUVtc6ohY6Hzw0RcZUtzX\n",
       "aKrs8c5OHT1nkzfbtse0lT5Lxx3L2J0NIDruvdLfVn+rs7OIpBlte8zY5ZgylJOc+9qb/CNiUhK0\n",
       "jf0MXJexmWyXIrpQO80rzYXPG8pxfo9rYNQ3IiYlTRE87r6lNg/diahvlcJiK8ctO6bkbG/SeHCM\n",
       "zkf0CrMU7t61CdGaLkUEgzl4WN0eM2+PeE7itkIjiX8HJFZr3+VuRZSskK5I3x4zksh9NJ8pRS/C\n",
       "bggkteQOiLvQJ1LkQmrbY2FJLbmP5v5/99FF+HQXx6LrPKL0AQhdajOiZBkR1Z9dIyJEhIgQESJC\n",
       "RIgIESEiRISIEBEiQkSICBEhIkSEiBARIkJEiAgRtSjJHjdVZSGXM16Zo2JvGc+ih/GI3dx3fkxG\n",
       "RIgIETWEyOvJkO5HZDjHFluIyFdFub1K1U/GY2onegiRH6V8SNsuhujS/U+NwotfFXiaRl74/HkY\n",
       "mH7bNyJLRbm9SvmQlha0olWkQizHN4Yo9VP6fgNWZK4ot1cpH9IEXGOZXqdAeyiQo+kgfb+7AUTm\n",
       "inJ7lfIhTcA1lun1JZie47VpKlMZ5QYQmSvK7VXKhzQB11iqF/UihDkXTVeTLkrKNYDIXFFur1JC\n",
       "0t5/BOCYyLPKVK8o9ffZ4qLpqqLpeV4/iMwV5fYqJSQtdx8kFkW6NqpXegpMMX5smu4FLQiQX0Tm\n",
       "inJ7lRKRFh/dxTzb67vGUr0WyqzXkH7O0VT6H+unpMuPKg5Err6xpoqq06DcXqVEpEnwJ+gviLjG\n",
       "Ur3uL5FOsAC3rrWvLMi75DmSfY2YQ2rcKsrTN7ZWERYAmvbOXXQq1bxN9lWYH1N919hFrdeIkot9\n",
       "L8eKWD/1DZDzzEnZR0PTKsKO4BqasFJC0sg1XwcirrEMkTbmcxEtskaYUHwjUite8IdvBoZIWCkh\n",
       "aZkyvJ5QBFxjWUMj3cwhF0TJCsFHzyk67g+RXvHd4KxIWCkx4OX4waiIayzVa3AMLi26IIJ/QeQw\n",
       "/btR8TmiaRUrwSESVkpImvS3my+9ScQ1lun1rSNsCctFFH3tITanfcP3Go1VVGPoyO1VysdEVMA1\n",
       "1qzpvR57GhfDsoY2Q2Ll/wQ8u/bh7ysgTcA1VhBR5MT63Q0hShW+HTCiTDZIRAKusSZNLzi1wlXT\n",
       "fnVy4h9R/JFiwIjmIUhEa3whCsmu45ogEBnOseUeQuRHqWDTEr0D0hZEXgkRISJEZE1VX0+GCD7h\n",
       "IXfhkyH/BxusPgT070lgAAAAAElFTkSuQmCC\n",
       "\" style=\"display:inline;vertical-align:middle;\" /></a><br>"
      ],
      "text/plain": [
       "<IPython.core.display.HTML object>"
      ]
     },
     "metadata": {},
     "output_type": "display_data"
    }
   ],
   "source": [
    "phase_kickback_on_register_circuit = Qcircuit(VertExprArray(\n",
    "    [ExprRange(i, Input(ket_plus), one, t), \n",
    "     *multi_input_entries(var_ket_u, Add(t, one), Add(t, m), (one, m))],\n",
    "    ExprRange(i,\n",
    "              [ExprRange(j, ConditionalSet(\n",
    "                  Conditional(control_elem(Add(t, one)),\n",
    "                              Equals(i, j)),\n",
    "                  Conditional(Gate(I), NotEquals(i, j))),\n",
    "                         one, t).with_case_simplification(),\n",
    "               *multi_gate_entries(IndexedVar(U, i), Add(t, one), Add(t, m), (one, m))], \n",
    "              one, t).with_case_simplification(),\n",
    "    [ExprRange(i, Output(ScalarMult(frac(one, sqrt(two)), \n",
    "                                    VecAdd(ket0, ScalarMult(exp2pi_i(IndexedVar(varphi, i)), ket1)))),\n",
    "               one, t),\n",
    "      *multi_output_entries(var_ket_u, Add(t, one), Add(t, m), (one, m))]))"
   ]
  },
  {
   "cell_type": "code",
   "execution_count": 58,
   "metadata": {},
   "outputs": [
    {
     "name": "stdout",
     "output_type": "stream",
     "text": [
      "These common expressions may now be imported from the theory package: proveit.physics.quantum.circuits\n"
     ]
    }
   ],
   "source": [
    "%end common"
   ]
  },
  {
   "cell_type": "code",
   "execution_count": null,
   "metadata": {},
   "outputs": [],
   "source": []
  }
 ],
 "metadata": {
  "kernelspec": {
   "display_name": "Python 3",
   "language": "python",
   "name": "python3"
  }
 },
 "nbformat": 4,
 "nbformat_minor": 0
}