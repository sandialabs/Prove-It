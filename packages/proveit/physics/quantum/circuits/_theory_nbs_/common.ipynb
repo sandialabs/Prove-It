{
 "cells": [
  {
   "cell_type": "markdown",
   "metadata": {},
   "source": [
    "Common expressions for the theory of <a class=\"ProveItLink\" href=\"theory.ipynb\">proveit.physics.quantum.circuits</a>\n",
    "========"
   ]
  },
  {
   "cell_type": "code",
   "execution_count": null,
   "metadata": {},
   "outputs": [],
   "source": [
    "import proveit\n",
    "# Prepare this notebook for defining the common expressions of a theory:\n",
    "%common_expressions_notebook # Keep this at the top following 'import proveit'.\n",
    "from proveit import defaults\n",
    "defaults.automation = True # Hack for ExprRange simplification to go through\n",
    "\n",
    "from proveit import Function, Variable, IndexedVar, ExprRange, ExprTuple, VertExprArray\n",
    "from proveit import a, b, i, j, k, l, m, n, A, B, C, D, P, Q, R, S, U\n",
    "from proveit.core_expr_types import a_i, b_i, c_i\n",
    "from proveit.core_expr_types.expr_arrays import Aij, Bij, Cij, Dij, Eij, Pij, Qij, Rij, Sij, Tij, Uij, Vij, B11_to_Bmn, D11_to_Dmn, S11_to_Smn\n",
    "from proveit.logic import Set, InSet, CartExp\n",
    "from proveit.numbers import NaturalPos, Complex, one, two, three\n",
    "from proveit.numbers import Add, frac, sqrt, Exp, exp2pi_i\n",
    "from proveit.linear_algebra import VecAdd, ScalarMult\n",
    "from proveit.physics.quantum import I, X, Y, Z, H, varphi, ket_plus, ket0, ket1, var_ket_u, m_ket_domain\n",
    "from proveit.physics.quantum.circuits import (\n",
    "    Qcircuit, Gate, Input, Output, MultiQubitElem,\n",
    "    control_elem, multi_gate_entries, multi_input_entries, multi_output_entries)"
   ]
  },
  {
   "cell_type": "code",
   "execution_count": null,
   "metadata": {},
   "outputs": [],
   "source": [
    "defaults.automation = False # Hack for ExprRange simplification to go through\n",
    "%begin common\n",
    "defaults.automation = True # Hack for ExprRange simplification to go through\n",
    "print(\"We need automation to simplify ExprRanges in Qcircuits\")"
   ]
  },
  {
   "cell_type": "code",
   "execution_count": null,
   "metadata": {},
   "outputs": [],
   "source": [
    "Igate, Xgate, Ygate, Zgate, Hgate = Gate(I), Gate(X), Gate(Y), Gate(Z), Gate(H)"
   ]
  },
  {
   "cell_type": "code",
   "execution_count": null,
   "metadata": {},
   "outputs": [],
   "source": [
    "target = Gate(X).with_implicit_representation()"
   ]
  },
  {
   "cell_type": "code",
   "execution_count": null,
   "metadata": {},
   "outputs": [],
   "source": [
    "defaults.assumptions = [InSet(m, NaturalPos), InSet(k, NaturalPos)]"
   ]
  },
  {
   "cell_type": "code",
   "execution_count": null,
   "metadata": {},
   "outputs": [],
   "source": [
    "circuit_Am = Qcircuit(VertExprArray(\n",
    "    ExprRange(i, IndexedVar(A, i), one, m)))"
   ]
  },
  {
   "cell_type": "code",
   "execution_count": null,
   "metadata": {},
   "outputs": [],
   "source": [
    "circuit_Bn = Qcircuit(VertExprArray(\n",
    "    ExprRange(i, IndexedVar(B, i), one, n)))"
   ]
  },
  {
   "cell_type": "code",
   "execution_count": null,
   "metadata": {},
   "outputs": [],
   "source": [
    "circuit_Bk = Qcircuit(VertExprArray(\n",
    "    ExprRange(i, IndexedVar(B, i), one, k)))"
   ]
  },
  {
   "cell_type": "code",
   "execution_count": null,
   "metadata": {},
   "outputs": [],
   "source": [
    "circuit_Dm = Qcircuit(VertExprArray(\n",
    "    ExprRange(i, IndexedVar(D, i), one, m)))"
   ]
  },
  {
   "cell_type": "code",
   "execution_count": null,
   "metadata": {},
   "outputs": [],
   "source": [
    "circuit_AjBkCl = Qcircuit(VertExprArray(\n",
    "    ExprRange(i, IndexedVar(A, i), one, j),\n",
    "    ExprRange(i, IndexedVar(B, i), one, k),\n",
    "    ExprRange(i, IndexedVar(C, i), one, l)))"
   ]
  },
  {
   "cell_type": "code",
   "execution_count": null,
   "metadata": {},
   "outputs": [],
   "source": [
    "circuit_AjDmCl = Qcircuit(VertExprArray(\n",
    "    ExprRange(i, IndexedVar(A, i), one, j),\n",
    "    ExprRange(i, IndexedVar(D, i), one, m),\n",
    "    ExprRange(i, IndexedVar(C, i), one, l)))"
   ]
  },
  {
   "cell_type": "code",
   "execution_count": null,
   "metadata": {},
   "outputs": [],
   "source": [
    "circuit_aUb = Qcircuit(VertExprArray(\n",
    "    [*multi_input_entries(a, [(one, k)])],\n",
    "    ExprRange(m, IndexedVar(U, m), one, m),\n",
    "    [*multi_output_entries(b, [(one, k)])]))"
   ]
  },
  {
   "cell_type": "code",
   "execution_count": null,
   "metadata": {},
   "outputs": [],
   "source": [
    "circuit_aU = Qcircuit(VertExprArray(\n",
    "    [*multi_input_entries(a, [(one, k)])],\n",
    "    ExprRange(m, IndexedVar(U, m), one, m)))"
   ]
  },
  {
   "cell_type": "code",
   "execution_count": null,
   "metadata": {},
   "outputs": [],
   "source": [
    "circuit_b = Qcircuit(VertExprArray(\n",
    "    [*multi_input_entries(b, [(one, k)])]))"
   ]
  },
  {
   "cell_type": "code",
   "execution_count": null,
   "metadata": {},
   "outputs": [],
   "source": [
    "circuit_Akm = Qcircuit(VertExprArray(\n",
    "    ExprRange(i, [ExprRange(j, MultiQubitElem(Aij, Sij), one, k)], one, m)))"
   ]
  },
  {
   "cell_type": "code",
   "execution_count": null,
   "metadata": {},
   "outputs": [],
   "source": [
    "print(circuit_Akm.latex())"
   ]
  },
  {
   "cell_type": "code",
   "execution_count": null,
   "metadata": {},
   "outputs": [],
   "source": [
    "circuit_permuted_Akm = Qcircuit(VertExprArray(\n",
    "    ExprRange(i, [ExprRange(j, \n",
    "                            MultiQubitElem(IndexedVar(A, [i, pj]), \n",
    "                                           Function(InvImage(p), IndexedVar(S, [i, pj])), \n",
    "                            one, k)], \n",
    "              one, m)))"
   ]
  },
  {
   "cell_type": "code",
   "execution_count": null,
   "metadata": {},
   "outputs": [],
   "source": [
    "circuit_Bkn = Qcircuit(VertExprArray(\n",
    "    ExprRange(i, [ExprRange(j, MultiQubitElem(Bij, Rij), one, k)], one, n)))"
   ]
  },
  {
   "cell_type": "code",
   "execution_count": null,
   "metadata": {},
   "outputs": [],
   "source": [
    "circuit_permuted_Bkn = Qcircuit(VertExprArray(\n",
    "    ExprRange(i, [ExprRange(j, \n",
    "                            MultiQubitElem(IndexedVar(B, [i, pj]), \n",
    "                                           Function(InvImage(p), IndexedVar(S, [i, pj])), \n",
    "                            one, k)], \n",
    "              one, n)))"
   ]
  },
  {
   "cell_type": "code",
   "execution_count": null,
   "metadata": {},
   "outputs": [],
   "source": []
  },
  {
   "cell_type": "code",
   "execution_count": null,
   "metadata": {},
   "outputs": [],
   "source": [
    "phase_kickback_circuit = Qcircuit(VertExprArray(\n",
    "    [Input(ket_plus), *multi_input_entries(var_ket_u, [(two, Add(two, m))])],\n",
    "    [control_elem(one, two), *multi_gate_entries(U, [(two, Add(two, m))])],\n",
    "    [Output(ScalarMult(frac(one, sqrt(two)), VecAdd(ket0, ScalarMult(exp2pi_i(varphi), ket1)))),\n",
    "      *multi_output_entries(var_ket_u, [(two, Add(two, m))])]))"
   ]
  },
  {
   "cell_type": "code",
   "execution_count": null,
   "metadata": {},
   "outputs": [],
   "source": [
    "%end common"
   ]
  },
  {
   "cell_type": "code",
   "execution_count": null,
   "metadata": {},
   "outputs": [],
   "source": [
    "# circuit_aUVc = Circuit(ExprArray(ExprRange(\n",
    "#         i, ExprTuple(Input(a_i), \n",
    "#                      ExprRange(j, MultiQubitGate(Uij, Rij), one, m),\n",
    "#                      ExprRange(j, MultiQubitGate(Vij, Sij), one, n),\n",
    "#                      Output(c_i)), \n",
    "#         one, k)))"
   ]
  },
  {
   "cell_type": "code",
   "execution_count": null,
   "metadata": {},
   "outputs": [],
   "source": [
    "# circuit_aUb = Circuit(ExprArray(ExprRange(\n",
    "#         i, ExprTuple(Input(a_i), \n",
    "#                      ExprRange(j, MultiQubitGate(Uij, Rij), one, m),\n",
    "#                      Output(b_i)), \n",
    "#         one, k)))"
   ]
  },
  {
   "cell_type": "code",
   "execution_count": null,
   "metadata": {},
   "outputs": [],
   "source": [
    "# print(circuit_aUb.latex())"
   ]
  },
  {
   "cell_type": "code",
   "execution_count": null,
   "metadata": {},
   "outputs": [],
   "source": [
    "# circuit_bVc = Circuit(ExprArray(ExprRange(\n",
    "#         i, ExprTuple(Input(b_i), \n",
    "#                      ExprRange(j, MultiQubitGate(Vij, Sij), one, n),\n",
    "#                      Output(c_i)), \n",
    "#         one, k)))"
   ]
  },
  {
   "cell_type": "code",
   "execution_count": null,
   "metadata": {},
   "outputs": [],
   "source": [
    "# from proveit import i, U"
   ]
  },
  {
   "cell_type": "code",
   "execution_count": null,
   "metadata": {},
   "outputs": [],
   "source": [
    "# U_j = IndexedVar(U, j)"
   ]
  },
  {
   "cell_type": "code",
   "execution_count": null,
   "metadata": {},
   "outputs": [],
   "source": [
    "# Circuit(ExprArray([ExprRange(i, Input(a_i), one, k)], \n",
    "#                    ExprRange(j, U_j, one, m)),\n",
    "#                   [ExprRange(i, Output(b_i), k)])"
   ]
  },
  {
   "cell_type": "code",
   "execution_count": null,
   "metadata": {},
   "outputs": [],
   "source": [
    "# circuit_B = Circuit(ExprArray(ExprRange(\n",
    "#         i, ExprTuple(ExprRange(j, Bij, one, m)), \n",
    "#         one, k)))"
   ]
  },
  {
   "cell_type": "code",
   "execution_count": null,
   "metadata": {},
   "outputs": [],
   "source": [
    "# print(circuit_B.latex())"
   ]
  },
  {
   "cell_type": "code",
   "execution_count": null,
   "metadata": {},
   "outputs": [],
   "source": [
    "# circuit_D = Circuit(ExprArray(ExprRange(\n",
    "#         i, ExprTuple(ExprRange(j, Dij, one, m)), \n",
    "#         one, k)))"
   ]
  },
  {
   "cell_type": "code",
   "execution_count": null,
   "metadata": {},
   "outputs": [],
   "source": [
    "# # THIS WILL BE CORRECT WHEN WE CHANGE TO COLUMN-MAJOR ORDER\n",
    "# circuit_ABCvert = Circuit(ExprArray(ExprRange(\n",
    "#         i, ExprTuple(ExprRange(j, Aij, one, l), ExprRange(j, Bij, one, m), ExprRange(j, Cij, one, n)), \n",
    "#         one, k)))"
   ]
  },
  {
   "cell_type": "code",
   "execution_count": null,
   "metadata": {},
   "outputs": [],
   "source": [
    "# # THIS WILL BE CORRECT WHEN WE CHANGE TO COLUMN-MAJOR ORDER\n",
    "# circuit_ADCvert = Circuit(ExprArray(ExprRange(\n",
    "#         i, ExprTuple(ExprRange(j, Aij, one, l), ExprRange(j, Dij, one, m), ExprRange(j, Cij, one, n)), \n",
    "#         one, k)))"
   ]
  },
  {
   "cell_type": "code",
   "execution_count": null,
   "metadata": {},
   "outputs": [],
   "source": [
    "# circuit_A_detailed = Circuit(ExprArray(ExprRange(\n",
    "#         i, ExprTuple(ExprRange(j, MultiQubitGate(Aij, Rij), one, m)), \n",
    "#         one, k)))"
   ]
  },
  {
   "cell_type": "code",
   "execution_count": null,
   "metadata": {},
   "outputs": [],
   "source": [
    "# circuit_B_detailed = Circuit(ExprArray(ExprRange(\n",
    "#         i, ExprTuple(ExprRange(j, MultiQubitGate(Bij, Sij), one, m)), \n",
    "#         one, k)))"
   ]
  },
  {
   "cell_type": "code",
   "execution_count": null,
   "metadata": {},
   "outputs": [],
   "source": [
    "# permuted_Aij = IndexedVar(A, [Function(P, i), j])"
   ]
  },
  {
   "cell_type": "code",
   "execution_count": null,
   "metadata": {},
   "outputs": [],
   "source": [
    "# permuted_Bij = IndexedVar(B, [Function(P, i), j])"
   ]
  },
  {
   "cell_type": "code",
   "execution_count": null,
   "metadata": {},
   "outputs": [],
   "source": [
    "# permuted_Rij = Function(Q, IndexedVar(R, [Function(P, i), j]))"
   ]
  },
  {
   "cell_type": "code",
   "execution_count": null,
   "metadata": {},
   "outputs": [],
   "source": [
    "# permuted_Sij = Function(Q, IndexedVar(S, [Function(P, i), j]))"
   ]
  },
  {
   "cell_type": "code",
   "execution_count": null,
   "metadata": {},
   "outputs": [],
   "source": [
    "# permuted_circuit_A = Circuit(ExprArray(ExprRange(\n",
    "#         i, ExprTuple(ExprRange(j, MultiQubitGate(permuted_Aij, permuted_Rij), one, m)), \n",
    "#         one, k)))"
   ]
  },
  {
   "cell_type": "code",
   "execution_count": null,
   "metadata": {},
   "outputs": [],
   "source": [
    "# permuted_circuit_B = Circuit(ExprArray(ExprRange(\n",
    "#         i, ExprTuple(ExprRange(j, MultiQubitGate(permuted_Bij, permuted_Sij), one, m)), \n",
    "#         one, k)))"
   ]
  },
  {
   "cell_type": "code",
   "execution_count": null,
   "metadata": {},
   "outputs": [],
   "source": [
    "# %end common"
   ]
  },
  {
   "cell_type": "code",
   "execution_count": null,
   "metadata": {},
   "outputs": [],
   "source": []
  }
 ],
 "metadata": {
  "kernelspec": {
   "display_name": "Python 3",
   "language": "python",
   "name": "python3"
  }
 },
 "nbformat": 4,
 "nbformat_minor": 0
}
