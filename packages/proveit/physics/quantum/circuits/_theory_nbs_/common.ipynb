{
 "cells": [
  {
   "cell_type": "markdown",
   "metadata": {},
   "source": [
    "Common expressions for the theory of <a class=\"ProveItLink\" href=\"theory.ipynb\">proveit.physics.quantum.circuits</a>\n",
    "========"
   ]
  },
  {
   "cell_type": "code",
   "execution_count": null,
   "metadata": {},
   "outputs": [],
   "source": [
    "import proveit\n",
    "# Prepare this notebook for defining the common expressions of a theory:\n",
    "%common_expressions_notebook # Keep this at the top following 'import proveit'.\n",
    "\n",
    "from proveit import Function, IndexedVar, ExprRange, ExprTuple, VertExprArray\n",
    "from proveit import i, j, k, l, m, n, A, B, P, Q, R, S\n",
    "from proveit.logic import Set\n",
    "from proveit.numbers import one, two, three\n",
    "from proveit.core_expr_types import a_i, b_i, c_i\n",
    "from proveit.core_expr_types.expr_arrays import Aij, Bij, Cij, Dij, Eij, Pij, Qij, Rij, Sij, Tij, Uij, Vij, B11_to_Bmn, D11_to_Dmn, S11_to_Smn\n",
    "from proveit.physics.quantum import I, X, Y, Z, H, CONTROL\n",
    "from proveit.physics.quantum.circuits import Qcircuit, Input, Output, MultiQuditGate, Gate"
   ]
  },
  {
   "cell_type": "code",
   "execution_count": null,
   "metadata": {},
   "outputs": [],
   "source": [
    "%begin common"
   ]
  },
  {
   "cell_type": "code",
   "execution_count": null,
   "metadata": {},
   "outputs": [],
   "source": [
    "Igate, Xgate, Ygate, Zgate, Hgate = Gate(I), Gate(X), Gate(Y), Gate(Z), Gate(H)"
   ]
  },
  {
   "cell_type": "code",
   "execution_count": null,
   "metadata": {},
   "outputs": [],
   "source": [
    "Qcircuit([Gate(I), Gate(X)], [Gate(Y), Gate(H)])"
   ]
  },
  {
   "cell_type": "code",
   "execution_count": null,
   "metadata": {},
   "outputs": [],
   "source": [
    "Qcircuit([MultiQuditGate(CONTROL, Set(one, two)), MultiQuditGate(X, Set(one, two))], [Gate(Y), Gate(H)])"
   ]
  },
  {
   "cell_type": "code",
   "execution_count": null,
   "metadata": {},
   "outputs": [],
   "source": [
    "Qcircuit([MultiQuditGate(CONTROL, Set(one, two)), MultiQuditGate(X, Set(one, two)), Gate(I)], \n",
    "         [Gate(I), MultiQuditGate(X, Set(two, three)), MultiQuditGate(CONTROL, Set(two, three))])"
   ]
  },
  {
   "cell_type": "code",
   "execution_count": null,
   "metadata": {},
   "outputs": [],
   "source": []
  },
  {
   "cell_type": "code",
   "execution_count": null,
   "metadata": {},
   "outputs": [],
   "source": [
    "circuit_aUVc = Circuit(ExprArray(ExprRange(\n",
    "        i, ExprTuple(Input(a_i), \n",
    "                     ExprRange(j, MultiQubitGate(Uij, Rij), one, m),\n",
    "                     ExprRange(j, MultiQubitGate(Vij, Sij), one, n),\n",
    "                     Output(c_i)), \n",
    "        one, k)))"
   ]
  },
  {
   "cell_type": "code",
   "execution_count": null,
   "metadata": {},
   "outputs": [],
   "source": [
    "circuit_aUb = Circuit(ExprArray(ExprRange(\n",
    "        i, ExprTuple(Input(a_i), \n",
    "                     ExprRange(j, MultiQubitGate(Uij, Rij), one, m),\n",
    "                     Output(b_i)), \n",
    "        one, k)))"
   ]
  },
  {
   "cell_type": "code",
   "execution_count": null,
   "metadata": {},
   "outputs": [],
   "source": [
    "print(circuit_aUb.latex())"
   ]
  },
  {
   "cell_type": "code",
   "execution_count": null,
   "metadata": {},
   "outputs": [],
   "source": [
    "circuit_bVc = Circuit(ExprArray(ExprRange(\n",
    "        i, ExprTuple(Input(b_i), \n",
    "                     ExprRange(j, MultiQubitGate(Vij, Sij), one, n),\n",
    "                     Output(c_i)), \n",
    "        one, k)))"
   ]
  },
  {
   "cell_type": "code",
   "execution_count": null,
   "metadata": {},
   "outputs": [],
   "source": [
    "from proveit import i, U"
   ]
  },
  {
   "cell_type": "code",
   "execution_count": null,
   "metadata": {},
   "outputs": [],
   "source": [
    "U_j = IndexedVar(U, j)"
   ]
  },
  {
   "cell_type": "code",
   "execution_count": null,
   "metadata": {},
   "outputs": [],
   "source": [
    "Circuit(ExprArray([ExprRange(i, Input(a_i), one, k)], \n",
    "                   ExprRange(j, U_j, one, m)),\n",
    "                  [ExprRange(i, Output(b_i), k)])"
   ]
  },
  {
   "cell_type": "code",
   "execution_count": null,
   "metadata": {},
   "outputs": [],
   "source": [
    "circuit_B = Circuit(ExprArray(ExprRange(\n",
    "        i, ExprTuple(ExprRange(j, Bij, one, m)), \n",
    "        one, k)))"
   ]
  },
  {
   "cell_type": "code",
   "execution_count": null,
   "metadata": {},
   "outputs": [],
   "source": [
    "print(circuit_B.latex())"
   ]
  },
  {
   "cell_type": "code",
   "execution_count": null,
   "metadata": {},
   "outputs": [],
   "source": [
    "circuit_D = Circuit(ExprArray(ExprRange(\n",
    "        i, ExprTuple(ExprRange(j, Dij, one, m)), \n",
    "        one, k)))"
   ]
  },
  {
   "cell_type": "code",
   "execution_count": null,
   "metadata": {},
   "outputs": [],
   "source": [
    "# THIS WILL BE CORRECT WHEN WE CHANGE TO COLUMN-MAJOR ORDER\n",
    "circuit_ABCvert = Circuit(ExprArray(ExprRange(\n",
    "        i, ExprTuple(ExprRange(j, Aij, one, l), ExprRange(j, Bij, one, m), ExprRange(j, Cij, one, n)), \n",
    "        one, k)))"
   ]
  },
  {
   "cell_type": "code",
   "execution_count": null,
   "metadata": {},
   "outputs": [],
   "source": [
    "# THIS WILL BE CORRECT WHEN WE CHANGE TO COLUMN-MAJOR ORDER\n",
    "circuit_ADCvert = Circuit(ExprArray(ExprRange(\n",
    "        i, ExprTuple(ExprRange(j, Aij, one, l), ExprRange(j, Dij, one, m), ExprRange(j, Cij, one, n)), \n",
    "        one, k)))"
   ]
  },
  {
   "cell_type": "code",
   "execution_count": null,
   "metadata": {},
   "outputs": [],
   "source": [
    "circuit_A_detailed = Circuit(ExprArray(ExprRange(\n",
    "        i, ExprTuple(ExprRange(j, MultiQubitGate(Aij, Rij), one, m)), \n",
    "        one, k)))"
   ]
  },
  {
   "cell_type": "code",
   "execution_count": null,
   "metadata": {},
   "outputs": [],
   "source": [
    "circuit_B_detailed = Circuit(ExprArray(ExprRange(\n",
    "        i, ExprTuple(ExprRange(j, MultiQubitGate(Bij, Sij), one, m)), \n",
    "        one, k)))"
   ]
  },
  {
   "cell_type": "code",
   "execution_count": null,
   "metadata": {},
   "outputs": [],
   "source": [
    "permuted_Aij = IndexedVar(A, [Function(P, i), j])"
   ]
  },
  {
   "cell_type": "code",
   "execution_count": null,
   "metadata": {},
   "outputs": [],
   "source": [
    "permuted_Bij = IndexedVar(B, [Function(P, i), j])"
   ]
  },
  {
   "cell_type": "code",
   "execution_count": null,
   "metadata": {},
   "outputs": [],
   "source": [
    "permuted_Rij = Function(Q, IndexedVar(R, [Function(P, i), j]))"
   ]
  },
  {
   "cell_type": "code",
   "execution_count": null,
   "metadata": {},
   "outputs": [],
   "source": [
    "permuted_Sij = Function(Q, IndexedVar(S, [Function(P, i), j]))"
   ]
  },
  {
   "cell_type": "code",
   "execution_count": null,
   "metadata": {},
   "outputs": [],
   "source": [
    "permuted_circuit_A = Circuit(ExprArray(ExprRange(\n",
    "        i, ExprTuple(ExprRange(j, MultiQubitGate(permuted_Aij, permuted_Rij), one, m)), \n",
    "        one, k)))"
   ]
  },
  {
   "cell_type": "code",
   "execution_count": null,
   "metadata": {},
   "outputs": [],
   "source": [
    "permuted_circuit_B = Circuit(ExprArray(ExprRange(\n",
    "        i, ExprTuple(ExprRange(j, MultiQubitGate(permuted_Bij, permuted_Sij), one, m)), \n",
    "        one, k)))"
   ]
  },
  {
   "cell_type": "code",
   "execution_count": null,
   "metadata": {},
   "outputs": [],
   "source": [
    "%end common"
   ]
  },
  {
   "cell_type": "code",
   "execution_count": null,
   "metadata": {},
   "outputs": [],
   "source": []
  }
 ],
 "metadata": {
  "kernelspec": {
   "display_name": "Python 3",
   "language": "python",
   "name": "python3"
  }
 },
 "nbformat": 4,
 "nbformat_minor": 0
}
