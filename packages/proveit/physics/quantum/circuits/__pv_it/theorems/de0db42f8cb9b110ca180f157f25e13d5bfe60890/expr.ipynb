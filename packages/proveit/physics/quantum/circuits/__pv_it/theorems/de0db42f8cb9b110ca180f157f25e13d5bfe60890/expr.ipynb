{
 "cells": [
  {
   "cell_type": "markdown",
   "metadata": {},
   "source": [
    "Expression of type <a class=\"ProveItLink\" href=\"../../../../../../../../doc/html/api/proveit.ExprTuple.html\">ExprTuple</a>\n",
    "=======================\n",
    "# from the theory of <a class=\"ProveItLink\" href=\"../../../_theory_nbs_/theory.ipynb\">proveit.physics.quantum.circuits</a>"
   ]
  },
  {
   "cell_type": "code",
   "execution_count": 1,
   "metadata": {},
   "outputs": [],
   "source": [
    "import proveit\n",
    "# Automation is not needed when building an expression:\n",
    "proveit.defaults.automation = False # This will speed things up.\n",
    "proveit.defaults.inline_pngs = False # Makes files smaller.\n",
    "%load_expr # Load the stored expression as 'stored_expr'\n",
    "# import Expression classes needed to build the expression\n",
    "from proveit import ExprTuple\n",
    "from proveit.physics.quantum.circuits import circuit__u_Akl_v"
   ]
  },
  {
   "cell_type": "code",
   "execution_count": 2,
   "metadata": {},
   "outputs": [
    {
     "data": {
      "text/html": [
       "<strong id=\"expr\">expr:</strong> <a class=\"ProveItLink\" href=\"expr.ipynb\"><img src=\"expr.png\" style=\"display:inline;vertical-align:middle;\" /></a><br>"
      ],
      "text/plain": [
       "<IPython.core.display.HTML object>"
      ]
     },
     "metadata": {},
     "output_type": "display_data"
    }
   ],
   "source": [
    "# build up the expression from sub-expressions\n",
    "expr = ExprTuple(circuit__u_Akl_v)"
   ]
  },
  {
   "cell_type": "code",
   "execution_count": 3,
   "metadata": {},
   "outputs": [
    {
     "name": "stdout",
     "output_type": "stream",
     "text": [
      "Passed sanity check: expr matches stored_expr\n"
     ]
    }
   ],
   "source": [
    "# check that the built expression is the same as the stored expression\n",
    "assert expr == stored_expr\n",
    "assert expr._style_id == stored_expr._style_id\n",
    "print(\"Passed sanity check: expr matches stored_expr\")"
   ]
  },
  {
   "cell_type": "code",
   "execution_count": 4,
   "metadata": {},
   "outputs": [
    {
     "name": "stdout",
     "output_type": "stream",
     "text": [
      "\\left(\\begin{array}{c} \\Qcircuit@C=1em @R=.7em{\n",
      "\\multiqin{3}{\\lvert u \\rangle} & \\gate{A_{1, 1}} \\qwx[1] & \\gate{A_{2, 1}} \\qwx[1] & \\gate{\\cdots} \\qwx[1] & \\gate{A_{k, 1}} \\qwx[1] & \\multiqout{3}{\\lvert v \\rangle} \\\\\n",
      "\\ghostqin{\\lvert u \\rangle} & \\gate{A_{1, 2}} \\qwx[1] & \\gate{A_{2, 2}} \\qwx[1] & \\gate{\\cdots} \\qwx[1] & \\gate{A_{k, 2}} \\qwx[1] & \\ghostqout{\\lvert v \\rangle} \\\\\n",
      "\\ghostqin{\\lvert u \\rangle} & \\gate{\\vdots} \\qwx[1] & \\gate{\\vdots} \\qwx[1] & \\gate{\\ddots} \\qwx[1] & \\gate{\\vdots} \\qwx[1] & \\ghostqout{\\lvert v \\rangle} \\\\\n",
      "\\ghostqin{\\lvert u \\rangle} & \\gate{A_{1, l}} & \\gate{A_{2, l}} & \\gate{\\cdots} & \\gate{A_{k, l}} & \\ghostqout{\\lvert v \\rangle}\n",
      "} \\end{array}\\right)\n"
     ]
    }
   ],
   "source": [
    "# Show the LaTeX representation of the expression for convenience if you need it.\n",
    "print(stored_expr.latex())"
   ]
  },
  {
   "cell_type": "code",
   "execution_count": 5,
   "metadata": {},
   "outputs": [
    {
     "data": {
      "text/html": [
       "no style options"
      ],
      "text/plain": [
       "no style options"
      ]
     },
     "metadata": {},
     "output_type": "display_data"
    }
   ],
   "source": [
    "stored_expr.style_options()"
   ]
  },
  {
   "cell_type": "code",
   "execution_count": 6,
   "metadata": {},
   "outputs": [
    {
     "data": {
      "text/html": [
       "<table><tr><th>&nbsp;</th><th>core type</th><th>sub-expressions</th><th>expression</th></tr>\n",
       "<tr><td>0</td><td>ExprTuple</td><td>1</td><td><a class=\"ProveItLink\" href=\"expr.ipynb\"><img src=\"expr.png\" style=\"display:inline;vertical-align:middle;\" /></a></td></tr>\n",
       "<tr><td>1</td><td>Operation</td><td>operator:&nbsp;2<br>operands:&nbsp;3<br></td><td><a class=\"ProveItLink\" href=\"../../common/902c943db196222deae66b25f2fab8bd358cae9a0/expr.ipynb\"><img src=\"../../common/902c943db196222deae66b25f2fab8bd358cae9a0/expr.png\" style=\"display:inline;vertical-align:middle;\" /></a></td></tr>\n",
       "<tr><td>2</td><td>Literal</td><td></td><td><a class=\"ProveItLink\" href=\"../../common/40003b89a3d1740159ada9fe5b21308b42a7d3d40/expr.ipynb\"><img src=\"../../common/40003b89a3d1740159ada9fe5b21308b42a7d3d40/expr.png\" style=\"display:inline;vertical-align:middle;\" /></a></td></tr>\n",
       "<tr><td>3</td><td>ExprTuple</td><td>4, 5, 6</td><td><a class=\"ProveItLink\" href=\"../../common/2d2a33914f58a9e6a0d4c68c3b0bc8255a84163f0/expr.ipynb\"><img src=\"../../common/2d2a33914f58a9e6a0d4c68c3b0bc8255a84163f0/expr.png\" style=\"display:inline;vertical-align:middle;\" /></a></td></tr>\n",
       "<tr><td>4</td><td>ExprTuple</td><td>7</td><td><a class=\"ProveItLink\" href=\"../../common/6ad018398013e278e4065fe99e7258f545c2585e0/expr.ipynb\"><img src=\"../../common/6ad018398013e278e4065fe99e7258f545c2585e0/expr.png\" style=\"display:inline;vertical-align:middle;\" /></a></td></tr>\n",
       "<tr><td>5</td><td>ExprRange</td><td>lambda_map:&nbsp;8<br>start_index:&nbsp;39<br>end_index:&nbsp;9<br></td><td><a class=\"ProveItLink\" href=\"../../../../../../core_expr_types/expr_arrays/__pv_it/common/d6e7afffa22b7f1eea7825883cb70ba4ed98eb860/expr.ipynb\"><img src=\"../../../../../../core_expr_types/expr_arrays/__pv_it/common/d6e7afffa22b7f1eea7825883cb70ba4ed98eb860/expr.png\" style=\"display:inline;vertical-align:middle;\" /></a></td></tr>\n",
       "<tr><td>6</td><td>ExprTuple</td><td>10</td><td><a class=\"ProveItLink\" href=\"../../common/d90f972310f185d7b1b4a63daf2a0ed9856a1a740/expr.ipynb\"><img src=\"../../common/d90f972310f185d7b1b4a63daf2a0ed9856a1a740/expr.png\" style=\"display:inline;vertical-align:middle;\" /></a></td></tr>\n",
       "<tr><td>7</td><td>ExprRange</td><td>lambda_map:&nbsp;11<br>start_index:&nbsp;39<br>end_index:&nbsp;40<br></td><td><a class=\"ProveItLink\" href=\"../../common/fb0d06f0e5f749b9424709543b844e595f513dd90/expr.ipynb\"><img src=\"../../common/fb0d06f0e5f749b9424709543b844e595f513dd90/expr.png\" style=\"display:inline;vertical-align:middle;\" /></a></td></tr>\n",
       "<tr><td>8</td><td>Lambda</td><td>parameter:&nbsp;36<br>body:&nbsp;13<br></td><td><a class=\"ProveItLink\" href=\"../../../../../../core_expr_types/expr_arrays/__pv_it/common/0afc00fedb7b5cc0a15ccadfe8d932b9c5d3a3630/expr.ipynb\"><img src=\"../../../../../../core_expr_types/expr_arrays/__pv_it/common/0afc00fedb7b5cc0a15ccadfe8d932b9c5d3a3630/expr.png\" style=\"display:inline;vertical-align:middle;\" /></a></td></tr>\n",
       "<tr><td>9</td><td>Variable</td><td></td><td><a class=\"ProveItLink\" href=\"../../../../../../__pv_it/common/63b7c64bf9ec7a04ecc396c7a1670f3f12fb59490/expr.ipynb\"><img src=\"../../../../../../__pv_it/common/63b7c64bf9ec7a04ecc396c7a1670f3f12fb59490/expr.png\" style=\"display:inline;vertical-align:middle;\" /></a></td></tr>\n",
       "<tr><td>10</td><td>ExprRange</td><td>lambda_map:&nbsp;14<br>start_index:&nbsp;39<br>end_index:&nbsp;40<br></td><td><a class=\"ProveItLink\" href=\"../../common/d872e8c76493302e4f06eaaa319abedfd667899e0/expr.ipynb\"><img src=\"../../common/d872e8c76493302e4f06eaaa319abedfd667899e0/expr.png\" style=\"display:inline;vertical-align:middle;\" /></a></td></tr>\n",
       "<tr><td>11</td><td>Lambda</td><td>parameter:&nbsp;38<br>body:&nbsp;15<br></td><td><a class=\"ProveItLink\" href=\"../../common/bd434c137f061f40ba0c4c8606f1c3e2fe2ce9f70/expr.ipynb\"><img src=\"../../common/bd434c137f061f40ba0c4c8606f1c3e2fe2ce9f70/expr.png\" style=\"display:inline;vertical-align:middle;\" /></a></td></tr>\n",
       "<tr><td>12</td><td>ExprTuple</td><td>36</td><td><a class=\"ProveItLink\" href=\"../../../../../../core_expr_types/expr_arrays/__pv_it/common/18f7318b68e45ff8356043b6e71619fa8450fb200/expr.ipynb\"><img src=\"../../../../../../core_expr_types/expr_arrays/__pv_it/common/18f7318b68e45ff8356043b6e71619fa8450fb200/expr.png\" style=\"display:inline;vertical-align:middle;\" /></a></td></tr>\n",
       "<tr><td>13</td><td>ExprTuple</td><td>16</td><td><a class=\"ProveItLink\" href=\"../../../../../../core_expr_types/expr_arrays/__pv_it/common/6fcd8ce04879ed68ce8dcfb677f54c2130f600750/expr.ipynb\"><img src=\"../../../../../../core_expr_types/expr_arrays/__pv_it/common/6fcd8ce04879ed68ce8dcfb677f54c2130f600750/expr.png\" style=\"display:inline;vertical-align:middle;\" /></a></td></tr>\n",
       "<tr><td>14</td><td>Lambda</td><td>parameter:&nbsp;38<br>body:&nbsp;17<br></td><td><a class=\"ProveItLink\" href=\"../../common/09e23901db850e261131ebfd18d0cac5fbfaaf630/expr.ipynb\"><img src=\"../../common/09e23901db850e261131ebfd18d0cac5fbfaaf630/expr.png\" style=\"display:inline;vertical-align:middle;\" /></a></td></tr>\n",
       "<tr><td>15</td><td>Operation</td><td>operator:&nbsp;20<br>operands:&nbsp;18<br></td><td><a class=\"ProveItLink\" href=\"../../common/e92abcbe644ec96a2bef4dfe6b56ca92123d28720/expr.ipynb\"><img src=\"../../common/e92abcbe644ec96a2bef4dfe6b56ca92123d28720/expr.png\" style=\"display:inline;vertical-align:middle;\" /></a></td></tr>\n",
       "<tr><td>16</td><td>ExprRange</td><td>lambda_map:&nbsp;19<br>start_index:&nbsp;39<br>end_index:&nbsp;40<br></td><td><a class=\"ProveItLink\" href=\"../../../../../../core_expr_types/expr_arrays/__pv_it/common/ba13910b8ff90bcfb0fbf5fa4fe2b61900eb20590/expr.ipynb\"><img src=\"../../../../../../core_expr_types/expr_arrays/__pv_it/common/ba13910b8ff90bcfb0fbf5fa4fe2b61900eb20590/expr.png\" style=\"display:inline;vertical-align:middle;\" /></a></td></tr>\n",
       "<tr><td>17</td><td>Operation</td><td>operator:&nbsp;20<br>operands:&nbsp;21<br></td><td><a class=\"ProveItLink\" href=\"../../common/483101c50a52c5a8175a6bcb80d1c3275aa04d050/expr.ipynb\"><img src=\"../../common/483101c50a52c5a8175a6bcb80d1c3275aa04d050/expr.png\" style=\"display:inline;vertical-align:middle;\" /></a></td></tr>\n",
       "<tr><td>18</td><td>NamedExprs</td><td>element: 22<br>targets: 26<br></td><td><a class=\"ProveItLink\" href=\"../../common/33c2edadd76ecaabc10a09a709c80aca5e3a9a140/expr.ipynb\"><img src=\"../../common/33c2edadd76ecaabc10a09a709c80aca5e3a9a140/expr.png\" style=\"display:inline;vertical-align:middle;\" /></a></td></tr>\n",
       "<tr><td>19</td><td>Lambda</td><td>parameter:&nbsp;38<br>body:&nbsp;24<br></td><td><a class=\"ProveItLink\" href=\"../../../../../../core_expr_types/expr_arrays/__pv_it/common/042b3e9ccffc5bb337bf14e5131e4c08f85b67640/expr.ipynb\"><img src=\"../../../../../../core_expr_types/expr_arrays/__pv_it/common/042b3e9ccffc5bb337bf14e5131e4c08f85b67640/expr.png\" style=\"display:inline;vertical-align:middle;\" /></a></td></tr>\n",
       "<tr><td>20</td><td>Literal</td><td></td><td><a class=\"ProveItLink\" href=\"../../common/5eaa43008f05c06941080a12337ff182ea14996e0/expr.ipynb\"><img src=\"../../common/5eaa43008f05c06941080a12337ff182ea14996e0/expr.png\" style=\"display:inline;vertical-align:middle;\" /></a></td></tr>\n",
       "<tr><td>21</td><td>NamedExprs</td><td>element: 25<br>targets: 26<br></td><td><a class=\"ProveItLink\" href=\"../../common/efb5ec1dc5335561087a506cbc69af4b54faefc20/expr.ipynb\"><img src=\"../../common/efb5ec1dc5335561087a506cbc69af4b54faefc20/expr.png\" style=\"display:inline;vertical-align:middle;\" /></a></td></tr>\n",
       "<tr><td>22</td><td>Operation</td><td>operator:&nbsp;27<br>operands:&nbsp;28<br></td><td><a class=\"ProveItLink\" href=\"../../common/2597b46ca6544963bf1d7d9917602050752926bb0/expr.ipynb\"><img src=\"../../common/2597b46ca6544963bf1d7d9917602050752926bb0/expr.png\" style=\"display:inline;vertical-align:middle;\" /></a></td></tr>\n",
       "<tr><td>23</td><td>ExprTuple</td><td>38</td><td><a class=\"ProveItLink\" href=\"../../../../../../core_expr_types/expr_arrays/__pv_it/common/4b0dd6be36d76552eda6a95d5b4a27f5a5b62f900/expr.ipynb\"><img src=\"../../../../../../core_expr_types/expr_arrays/__pv_it/common/4b0dd6be36d76552eda6a95d5b4a27f5a5b62f900/expr.png\" style=\"display:inline;vertical-align:middle;\" /></a></td></tr>\n",
       "<tr><td>24</td><td>IndexedVar</td><td>variable:&nbsp;29<br>indices:&nbsp;30<br></td><td><a class=\"ProveItLink\" href=\"../../../../../../core_expr_types/expr_arrays/__pv_it/common/de56197d2c2a64a76930b89ea44fb63be43f4c020/expr.ipynb\"><img src=\"../../../../../../core_expr_types/expr_arrays/__pv_it/common/de56197d2c2a64a76930b89ea44fb63be43f4c020/expr.png\" style=\"display:inline;vertical-align:middle;\" /></a></td></tr>\n",
       "<tr><td>25</td><td>Operation</td><td>operator:&nbsp;31<br>operands:&nbsp;32<br></td><td><a class=\"ProveItLink\" href=\"../../common/9ed25143fd2bf9c444b2f7721de86cbb7c989ecd0/expr.ipynb\"><img src=\"../../common/9ed25143fd2bf9c444b2f7721de86cbb7c989ecd0/expr.png\" style=\"display:inline;vertical-align:middle;\" /></a></td></tr>\n",
       "<tr><td>26</td><td>Operation</td><td>operator:&nbsp;33<br>operands:&nbsp;34<br></td><td><a class=\"ProveItLink\" href=\"../../common/fd5432a0a9032295e6ac11112bef89178e4b08e50/expr.ipynb\"><img src=\"../../common/fd5432a0a9032295e6ac11112bef89178e4b08e50/expr.png\" style=\"display:inline;vertical-align:middle;\" /></a></td></tr>\n",
       "<tr><td>27</td><td>Literal</td><td></td><td><a class=\"ProveItLink\" href=\"../../common/deea8715ce6701df08bbe1d049112a0bad4965c20/expr.ipynb\"><img src=\"../../common/deea8715ce6701df08bbe1d049112a0bad4965c20/expr.png\" style=\"display:inline;vertical-align:middle;\" /></a></td></tr>\n",
       "<tr><td>28</td><td>NamedExprs</td><td>state: 35<br>part: 38<br></td><td><a class=\"ProveItLink\" href=\"../../common/eacc802691b83113928f36120eecb0d0d5d56c400/expr.ipynb\"><img src=\"../../common/eacc802691b83113928f36120eecb0d0d5d56c400/expr.png\" style=\"display:inline;vertical-align:middle;\" /></a></td></tr>\n",
       "<tr><td>29</td><td>Variable</td><td></td><td><a class=\"ProveItLink\" href=\"../../../../../../__pv_it/common/09585084922504426caf1db2ff588a23a0932a960/expr.ipynb\"><img src=\"../../../../../../__pv_it/common/09585084922504426caf1db2ff588a23a0932a960/expr.png\" style=\"display:inline;vertical-align:middle;\" /></a></td></tr>\n",
       "<tr><td>30</td><td>ExprTuple</td><td>36, 38</td><td><a class=\"ProveItLink\" href=\"../../../../../../core_expr_types/expr_arrays/__pv_it/common/c899820ca7633ea1589f21e8e039aa4da91850d80/expr.ipynb\"><img src=\"../../../../../../core_expr_types/expr_arrays/__pv_it/common/c899820ca7633ea1589f21e8e039aa4da91850d80/expr.png\" style=\"display:inline;vertical-align:middle;\" /></a></td></tr>\n",
       "<tr><td>31</td><td>Literal</td><td></td><td><a class=\"ProveItLink\" href=\"../../common/00345a9c4f4d361e0b6e8bbbbe5a33a8ec86a20b0/expr.ipynb\"><img src=\"../../common/00345a9c4f4d361e0b6e8bbbbe5a33a8ec86a20b0/expr.png\" style=\"display:inline;vertical-align:middle;\" /></a></td></tr>\n",
       "<tr><td>32</td><td>NamedExprs</td><td>state: 37<br>part: 38<br></td><td><a class=\"ProveItLink\" href=\"../../common/c959c972dada5b6a9a1228d67534ead92bc3273b0/expr.ipynb\"><img src=\"../../common/c959c972dada5b6a9a1228d67534ead92bc3273b0/expr.png\" style=\"display:inline;vertical-align:middle;\" /></a></td></tr>\n",
       "<tr><td>33</td><td>Literal</td><td></td><td><a class=\"ProveItLink\" href=\"../../../../../../numbers/number_sets/integers/__pv_it/common/92f3a0a77e3c3ea8e4a5c8674edadc54e4f57d550/expr.ipynb\"><img src=\"../../../../../../numbers/number_sets/integers/__pv_it/common/92f3a0a77e3c3ea8e4a5c8674edadc54e4f57d550/expr.png\" style=\"display:inline;vertical-align:middle;\" /></a></td></tr>\n",
       "<tr><td>34</td><td>ExprTuple</td><td>39, 40</td><td><a class=\"ProveItLink\" href=\"../../common/97ecb097b60abeb71a0454364a27b0b967fec9830/expr.ipynb\"><img src=\"../../common/97ecb097b60abeb71a0454364a27b0b967fec9830/expr.png\" style=\"display:inline;vertical-align:middle;\" /></a></td></tr>\n",
       "<tr><td>35</td><td>Variable</td><td></td><td><a class=\"ProveItLink\" href=\"../../../../__pv_it/common/e9ccc523355dd5c57db74023629fa3172587db260/expr.ipynb\"><img src=\"../../../../__pv_it/common/e9ccc523355dd5c57db74023629fa3172587db260/expr.png\" style=\"display:inline;vertical-align:middle;\" /></a></td></tr>\n",
       "<tr><td>36</td><td>Variable</td><td></td><td><a class=\"ProveItLink\" href=\"../../../../../../core_expr_types/expr_arrays/__pv_it/common/9a18d67b443cf8d92289c655ed91ec78766170a90/expr.ipynb\"><img src=\"../../../../../../core_expr_types/expr_arrays/__pv_it/common/9a18d67b443cf8d92289c655ed91ec78766170a90/expr.png\" style=\"display:inline;vertical-align:middle;\" /></a></td></tr>\n",
       "<tr><td>37</td><td>Variable</td><td></td><td><a class=\"ProveItLink\" href=\"../../../../__pv_it/common/4a4e4b6201c337502c2aae379d189f8e94b5ef7a0/expr.ipynb\"><img src=\"../../../../__pv_it/common/4a4e4b6201c337502c2aae379d189f8e94b5ef7a0/expr.png\" style=\"display:inline;vertical-align:middle;\" /></a></td></tr>\n",
       "<tr><td>38</td><td>Variable</td><td></td><td><a class=\"ProveItLink\" href=\"../../../../../../core_expr_types/__pv_it/common/006c465e50948aa2b52285e2de47974f741255cc0/expr.ipynb\"><img src=\"../../../../../../core_expr_types/__pv_it/common/006c465e50948aa2b52285e2de47974f741255cc0/expr.png\" style=\"display:inline;vertical-align:middle;\" /></a></td></tr>\n",
       "<tr><td>39</td><td>Literal</td><td></td><td><a class=\"ProveItLink\" href=\"../../../../../../numbers/numerals/__pv_it/common/682157d4892d216d9e5626ed533aff9b56b9506e0/expr.ipynb\"><img src=\"../../../../../../numbers/numerals/__pv_it/common/682157d4892d216d9e5626ed533aff9b56b9506e0/expr.png\" style=\"display:inline;vertical-align:middle;\" /></a></td></tr>\n",
       "<tr><td>40</td><td>Variable</td><td></td><td><a class=\"ProveItLink\" href=\"../../../../../../__pv_it/common/27cc275d44b4f4499fb9ccfb3fab1a98165d2fa60/expr.ipynb\"><img src=\"../../../../../../__pv_it/common/27cc275d44b4f4499fb9ccfb3fab1a98165d2fa60/expr.png\" style=\"display:inline;vertical-align:middle;\" /></a></td></tr>\n",
       "</table>\n"
      ],
      "text/plain": [
       "0. (QCIRCUIT(VertExprArray(([MULTI_QUBIT_ELEM]{element:[INPUT]{state:|u>, part:1}, targets:{1 .. l}}, [MULTI_QUBIT_ELEM]{element:[INPUT]{state:|u>, part:2}, targets:{1 .. l}}, ..., [MULTI_QUBIT_ELEM]{element:[INPUT]{state:|u>, part:l}, targets:{1 .. l}}), \\\\ (A_{1, 1}, A_{1, 2}, ..., A_{1, l}),  \\\\ (A_{2, 1}, A_{2, 2}, ..., A_{2, l}), ..., (A_{k, 1}, A_{k, 2}, ..., A_{k, l}), ([MULTI_QUBIT_ELEM]{element:[OUTPUT]{state:|v>, part:1}, targets:{1 .. l}}, [MULTI_QUBIT_ELEM]{element:[OUTPUT]{state:|v>, part:2}, targets:{1 .. l}}, ..., [MULTI_QUBIT_ELEM]{element:[OUTPUT]{state:|v>, part:l}, targets:{1 .. l}}))))\n",
       "   core type: ExprTuple\n",
       "   sub-expressions: 1\n",
       "1. QCIRCUIT(VertExprArray(([MULTI_QUBIT_ELEM]{element:[INPUT]{state:|u>, part:1}, targets:{1 .. l}}, [MULTI_QUBIT_ELEM]{element:[INPUT]{state:|u>, part:2}, targets:{1 .. l}}, ..., [MULTI_QUBIT_ELEM]{element:[INPUT]{state:|u>, part:l}, targets:{1 .. l}}), \\\\ (A_{1, 1}, A_{1, 2}, ..., A_{1, l}),  \\\\ (A_{2, 1}, A_{2, 2}, ..., A_{2, l}), ..., (A_{k, 1}, A_{k, 2}, ..., A_{k, l}), ([MULTI_QUBIT_ELEM]{element:[OUTPUT]{state:|v>, part:1}, targets:{1 .. l}}, [MULTI_QUBIT_ELEM]{element:[OUTPUT]{state:|v>, part:2}, targets:{1 .. l}}, ..., [MULTI_QUBIT_ELEM]{element:[OUTPUT]{state:|v>, part:l}, targets:{1 .. l}})))\n",
       "   core type: Operation\n",
       "   operator: 2\n",
       "   operands: 3\n",
       "2. QCIRCUIT\n",
       "   core type: Literal\n",
       "   sub-expressions: \n",
       "3. VertExprArray(([MULTI_QUBIT_ELEM]{element:[INPUT]{state:|u>, part:1}, targets:{1 .. l}}, [MULTI_QUBIT_ELEM]{element:[INPUT]{state:|u>, part:2}, targets:{1 .. l}}, ..., [MULTI_QUBIT_ELEM]{element:[INPUT]{state:|u>, part:l}, targets:{1 .. l}}), \\\\ (A_{1, 1}, A_{1, 2}, ..., A_{1, l}),  \\\\ (A_{2, 1}, A_{2, 2}, ..., A_{2, l}), ..., (A_{k, 1}, A_{k, 2}, ..., A_{k, l}), ([MULTI_QUBIT_ELEM]{element:[OUTPUT]{state:|v>, part:1}, targets:{1 .. l}}, [MULTI_QUBIT_ELEM]{element:[OUTPUT]{state:|v>, part:2}, targets:{1 .. l}}, ..., [MULTI_QUBIT_ELEM]{element:[OUTPUT]{state:|v>, part:l}, targets:{1 .. l}}))\n",
       "   core type: ExprTuple\n",
       "   sub-expressions: 4, 5, 6\n",
       "4. ([MULTI_QUBIT_ELEM]{element:[INPUT]{state:|u>, part:1}, targets:{1 .. l}}, [MULTI_QUBIT_ELEM]{element:[INPUT]{state:|u>, part:2}, targets:{1 .. l}}, ..., [MULTI_QUBIT_ELEM]{element:[INPUT]{state:|u>, part:l}, targets:{1 .. l}})\n",
       "   core type: ExprTuple\n",
       "   sub-expressions: 7\n",
       "5. (A_{1, 1}, A_{1, 2}, ..., A_{1, l}), (A_{2, 1}, A_{2, 2}, ..., A_{2, l}), ..., (A_{k, 1}, A_{k, 2}, ..., A_{k, l})\n",
       "   core type: ExprRange\n",
       "   lambda_map: 8\n",
       "   start_index: 39\n",
       "   end_index: 9\n",
       "6. ([MULTI_QUBIT_ELEM]{element:[OUTPUT]{state:|v>, part:1}, targets:{1 .. l}}, [MULTI_QUBIT_ELEM]{element:[OUTPUT]{state:|v>, part:2}, targets:{1 .. l}}, ..., [MULTI_QUBIT_ELEM]{element:[OUTPUT]{state:|v>, part:l}, targets:{1 .. l}})\n",
       "   core type: ExprTuple\n",
       "   sub-expressions: 10\n",
       "7. [MULTI_QUBIT_ELEM]{element:[INPUT]{state:|u>, part:1}, targets:{1 .. l}}, [MULTI_QUBIT_ELEM]{element:[INPUT]{state:|u>, part:2}, targets:{1 .. l}}, ..., [MULTI_QUBIT_ELEM]{element:[INPUT]{state:|u>, part:l}, targets:{1 .. l}}\n",
       "   core type: ExprRange\n",
       "   lambda_map: 11\n",
       "   start_index: 39\n",
       "   end_index: 40\n",
       "8. _b -> (A_{_b, 1}, A_{_b, 2}, ..., A_{_b, l})\n",
       "   core type: Lambda\n",
       "   parameter: 36\n",
       "   body: 13\n",
       "9. k\n",
       "   core type: Variable\n",
       "   sub-expressions: \n",
       "10. [MULTI_QUBIT_ELEM]{element:[OUTPUT]{state:|v>, part:1}, targets:{1 .. l}}, [MULTI_QUBIT_ELEM]{element:[OUTPUT]{state:|v>, part:2}, targets:{1 .. l}}, ..., [MULTI_QUBIT_ELEM]{element:[OUTPUT]{state:|v>, part:l}, targets:{1 .. l}}\n",
       "    core type: ExprRange\n",
       "    lambda_map: 14\n",
       "    start_index: 39\n",
       "    end_index: 40\n",
       "11. _a -> [MULTI_QUBIT_ELEM]{element:[INPUT]{state:|u>, part:_a}, targets:{1 .. l}}\n",
       "    core type: Lambda\n",
       "    parameter: 38\n",
       "    body: 15\n",
       "12. (_b)\n",
       "    core type: ExprTuple\n",
       "    sub-expressions: 36\n",
       "13. (A_{_b, 1}, A_{_b, 2}, ..., A_{_b, l})\n",
       "    core type: ExprTuple\n",
       "    sub-expressions: 16\n",
       "14. _a -> [MULTI_QUBIT_ELEM]{element:[OUTPUT]{state:|v>, part:_a}, targets:{1 .. l}}\n",
       "    core type: Lambda\n",
       "    parameter: 38\n",
       "    body: 17\n",
       "15. [MULTI_QUBIT_ELEM]{element:[INPUT]{state:|u>, part:_a}, targets:{1 .. l}}\n",
       "    core type: Operation\n",
       "    operator: 20\n",
       "    operands: 18\n",
       "16. A_{_b, 1}, A_{_b, 2}, ..., A_{_b, l}\n",
       "    core type: ExprRange\n",
       "    lambda_map: 19\n",
       "    start_index: 39\n",
       "    end_index: 40\n",
       "17. [MULTI_QUBIT_ELEM]{element:[OUTPUT]{state:|v>, part:_a}, targets:{1 .. l}}\n",
       "    core type: Operation\n",
       "    operator: 20\n",
       "    operands: 21\n",
       "18. {element:[INPUT]{state:|u>, part:_a}, targets:{1 .. l}}\n",
       "    core type: NamedExprs\n",
       "    element: 22\n",
       "    targets: 26\n",
       "19. _a -> A_{_b, _a}\n",
       "    core type: Lambda\n",
       "    parameter: 38\n",
       "    body: 24\n",
       "20. MULTI_QUBIT_ELEM\n",
       "    core type: Literal\n",
       "    sub-expressions: \n",
       "21. {element:[OUTPUT]{state:|v>, part:_a}, targets:{1 .. l}}\n",
       "    core type: NamedExprs\n",
       "    element: 25\n",
       "    targets: 26\n",
       "22. [INPUT]{state:|u>, part:_a}\n",
       "    core type: Operation\n",
       "    operator: 27\n",
       "    operands: 28\n",
       "23. (_a)\n",
       "    core type: ExprTuple\n",
       "    sub-expressions: 38\n",
       "24. A_{_b, _a}\n",
       "    core type: IndexedVar\n",
       "variable: 29\n",
       "indices: 30\n",
       "25. [OUTPUT]{state:|v>, part:_a}\n",
       "    core type: Operation\n",
       "    operator: 31\n",
       "    operands: 32\n",
       "26. {1 .. l}\n",
       "    core type: Operation\n",
       "    operator: 33\n",
       "    operands: 34\n",
       "27. INPUT\n",
       "    core type: Literal\n",
       "    sub-expressions: \n",
       "28. {state:|u>, part:_a}\n",
       "    core type: NamedExprs\n",
       "    state: 35\n",
       "    part: 38\n",
       "29. A\n",
       "    core type: Variable\n",
       "    sub-expressions: \n",
       "30. (_b, _a)\n",
       "    core type: ExprTuple\n",
       "    sub-expressions: 36, 38\n",
       "31. OUTPUT\n",
       "    core type: Literal\n",
       "    sub-expressions: \n",
       "32. {state:|v>, part:_a}\n",
       "    core type: NamedExprs\n",
       "    state: 37\n",
       "    part: 38\n",
       "33. Interval\n",
       "    core type: Literal\n",
       "    sub-expressions: \n",
       "34. (1, l)\n",
       "    core type: ExprTuple\n",
       "    sub-expressions: 39, 40\n",
       "35. |u>\n",
       "    core type: Variable\n",
       "    sub-expressions: \n",
       "36. _b\n",
       "    core type: Variable\n",
       "    sub-expressions: \n",
       "37. |v>\n",
       "    core type: Variable\n",
       "    sub-expressions: \n",
       "38. _a\n",
       "    core type: Variable\n",
       "    sub-expressions: \n",
       "39. 1\n",
       "    core type: Literal\n",
       "    sub-expressions: \n",
       "40. l\n",
       "    core type: Variable\n",
       "    sub-expressions: "
      ]
     },
     "metadata": {},
     "output_type": "display_data"
    }
   ],
   "source": [
    "# display the expression information\n",
    "stored_expr.expr_info()"
   ]
  },
  {
   "cell_type": "code",
   "execution_count": null,
   "metadata": {},
   "outputs": [],
   "source": []
  }
 ],
 "metadata": {
  "kernelspec": {
   "display_name": "Python 3",
   "language": "python",
   "name": "python3"
  }
 },
 "nbformat": 4,
 "nbformat_minor": 0
}