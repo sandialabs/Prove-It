{
 "cells": [
  {
   "cell_type": "markdown",
   "metadata": {},
   "source": [
    "Expression of type <a class=\"ProveItLink\" href=\"../../../../../../../../doc/html/api/proveit.physics.quantum.circuits.Qcircuit.html\">Qcircuit</a>\n",
    "=======================\n",
    "# from the theory of <a class=\"ProveItLink\" href=\"../../../_theory_nbs_/theory.ipynb\">proveit.physics.quantum.circuits</a>"
   ]
  },
  {
   "cell_type": "code",
   "execution_count": 1,
   "metadata": {},
   "outputs": [],
   "source": [
    "import proveit\n",
    "# Automation is not needed when building an expression:\n",
    "proveit.defaults.automation = False # This will speed things up.\n",
    "proveit.defaults.inline_pngs = False # Makes files smaller.\n",
    "%load_expr # Load the stored expression as 'stored_expr'\n",
    "# import Expression classes needed to build the expression\n",
    "from proveit import A, ExprRange, IndexedVar, N, Variable, VertExprArray, m, n\n",
    "from proveit.numbers import Add, Interval, one, subtract\n",
    "from proveit.physics.quantum.circuits import MultiQubitElem, Output, Qcircuit"
   ]
  },
  {
   "cell_type": "code",
   "execution_count": 2,
   "metadata": {},
   "outputs": [
    {
     "data": {
      "text/html": [
       "<strong id=\"expr\">expr:</strong> <a class=\"ProveItLink\" href=\"expr.ipynb\"><img src=\"expr.png\" style=\"display:inline;vertical-align:middle;\" /></a><br>"
      ],
      "text/plain": [
       "<IPython.core.display.HTML object>"
      ]
     },
     "metadata": {},
     "output_type": "display_data"
    }
   ],
   "source": [
    "# build up the expression from sub-expressions\n",
    "sub_expr1 = Variable(\"_b\", latex_format = r\"{_{-}b}\")\n",
    "sub_expr2 = Variable(\"_a\", latex_format = r\"{_{-}a}\")\n",
    "expr = Qcircuit(vert_expr_array = VertExprArray([ExprRange(sub_expr1, ExprRange(sub_expr2, MultiQubitElem(element = Output(state = IndexedVar(A, sub_expr1), part = sub_expr2), targets = Interval(Add(IndexedVar(N, subtract(sub_expr1, one)), one), IndexedVar(N, sub_expr1))), one, IndexedVar(n, sub_expr1)).with_wrapping_at(2,6), one, m)]))"
   ]
  },
  {
   "cell_type": "code",
   "execution_count": 3,
   "metadata": {},
   "outputs": [
    {
     "name": "stdout",
     "output_type": "stream",
     "text": [
      "Passed sanity check: expr matches stored_expr\n"
     ]
    }
   ],
   "source": [
    "# check that the built expression is the same as the stored expression\n",
    "assert expr == stored_expr\n",
    "assert expr._style_id == stored_expr._style_id\n",
    "print(\"Passed sanity check: expr matches stored_expr\")"
   ]
  },
  {
   "cell_type": "code",
   "execution_count": 4,
   "metadata": {},
   "outputs": [
    {
     "name": "stdout",
     "output_type": "stream",
     "text": [
      "\\begin{array}{c} \\Qcircuit@C=1em @R=.7em{\n",
      "& \\qout{A_{1}~\\mbox{part}~1~\\mbox{on}~\\{N_{1 - 1} + 1~\\ldotp \\ldotp~N_{1}\\}} \\\\\n",
      "& \\qout{A_{1}~\\mbox{part}~2~\\mbox{on}~\\{N_{1 - 1} + 1~\\ldotp \\ldotp~N_{1}\\}} \\\\\n",
      "& \\qout{\\vdots} \\\\\n",
      "& \\qout{A_{1}~\\mbox{part}~n_{1}~\\mbox{on}~\\{N_{1 - 1} + 1~\\ldotp \\ldotp~N_{1}\\}} \\\\\n",
      "& \\qout{A_{2}~\\mbox{part}~1~\\mbox{on}~\\{N_{2 - 1} + 1~\\ldotp \\ldotp~N_{2}\\}} \\\\\n",
      "& \\qout{A_{2}~\\mbox{part}~2~\\mbox{on}~\\{N_{2 - 1} + 1~\\ldotp \\ldotp~N_{2}\\}} \\\\\n",
      "& \\qout{\\vdots} \\\\\n",
      "& \\qout{A_{2}~\\mbox{part}~n_{2}~\\mbox{on}~\\{N_{2 - 1} + 1~\\ldotp \\ldotp~N_{2}\\}} \\\\\n",
      "& \\qout{\\begin{array}{c}\\vdots\\\\ \\vdots\\end{array}} \\\\\n",
      "& \\qout{A_{m}~\\mbox{part}~1~\\mbox{on}~\\{N_{m - 1} + 1~\\ldotp \\ldotp~N_{m}\\}} \\\\\n",
      "& \\qout{A_{m}~\\mbox{part}~2~\\mbox{on}~\\{N_{m - 1} + 1~\\ldotp \\ldotp~N_{m}\\}} \\\\\n",
      "& \\qout{\\vdots} \\\\\n",
      "& \\qout{A_{m}~\\mbox{part}~n_{m}~\\mbox{on}~\\{N_{m - 1} + 1~\\ldotp \\ldotp~N_{m}\\}}\n",
      "} \\end{array}\n"
     ]
    }
   ],
   "source": [
    "# Show the LaTeX representation of the expression for convenience if you need it.\n",
    "print(stored_expr.latex())"
   ]
  },
  {
   "cell_type": "code",
   "execution_count": 5,
   "metadata": {},
   "outputs": [
    {
     "data": {
      "text/html": [
       "<table>\n",
       "<tr><th>name</th><th>description</th><th>default</th><th>current value</th><th>related methods</th></tr><tr><td>spacing</td><td>change the spacing of a circuit using the format '@C=1em @R=.7em' where C is the column spacing and R is the row spacing</td><td>@C=1em @R=.7em</td><td>@C=1em @R=.7em</td><td></td></tr>\n",
       "</table>\n"
      ],
      "text/plain": [
       "style name: spacing\n",
       "description: change the spacing of a circuit using the format '@C=1em @R=.7em' where C is the column spacing and R is the row spacing\n",
       "default: @C=1em @R=.7em\n",
       "current value: @C=1em @R=.7em\n",
       "related methods: ()"
      ]
     },
     "metadata": {},
     "output_type": "display_data"
    }
   ],
   "source": [
    "stored_expr.style_options()"
   ]
  },
  {
   "cell_type": "code",
   "execution_count": 6,
   "metadata": {},
   "outputs": [
    {
     "data": {
      "text/html": [
       "<table><tr><th>&nbsp;</th><th>core type</th><th>sub-expressions</th><th>expression</th></tr>\n",
       "<tr><td>0</td><td>Operation</td><td>operator:&nbsp;1<br>operand:&nbsp;3<br></td><td><a class=\"ProveItLink\" href=\"expr.ipynb\"><img src=\"expr.png\" style=\"display:inline;vertical-align:middle;\" /></a></td></tr>\n",
       "<tr><td>1</td><td>Literal</td><td></td><td><a class=\"ProveItLink\" href=\"../../common/40003b89a3d1740159ada9fe5b21308b42a7d3d40/expr.ipynb\"><img src=\"../../common/40003b89a3d1740159ada9fe5b21308b42a7d3d40/expr.png\" style=\"display:inline;vertical-align:middle;\" /></a></td></tr>\n",
       "<tr><td>2</td><td>ExprTuple</td><td>3</td><td><a class=\"ProveItLink\" href=\"../d9d9a2037a2a95ec01507ffabe5c6b169918309e0/expr.ipynb\"><img src=\"../d9d9a2037a2a95ec01507ffabe5c6b169918309e0/expr.png\" style=\"display:inline;vertical-align:middle;\" /></a></td></tr>\n",
       "<tr><td>3</td><td>ExprTuple</td><td>4</td><td><a class=\"ProveItLink\" href=\"../9906329b89b2ce151f4eda5e13301f2295fc0c130/expr.ipynb\"><img src=\"../9906329b89b2ce151f4eda5e13301f2295fc0c130/expr.png\" style=\"display:inline;vertical-align:middle;\" /></a></td></tr>\n",
       "<tr><td>4</td><td>ExprRange</td><td>lambda_map:&nbsp;5<br>start_index:&nbsp;38<br>end_index:&nbsp;6<br></td><td><a class=\"ProveItLink\" href=\"../712f5eab80f287e8eb5a5e91fd552310c37eeb140/expr.ipynb\"><img src=\"../712f5eab80f287e8eb5a5e91fd552310c37eeb140/expr.png\" style=\"display:inline;vertical-align:middle;\" /></a></td></tr>\n",
       "<tr><td>5</td><td>Lambda</td><td>parameter:&nbsp;34<br>body:&nbsp;7<br></td><td><a class=\"ProveItLink\" href=\"../b714a7fd02feeadacbd0e886014b575893a14f110/expr.ipynb\"><img src=\"../b714a7fd02feeadacbd0e886014b575893a14f110/expr.png\" style=\"display:inline;vertical-align:middle;\" /></a></td></tr>\n",
       "<tr><td>6</td><td>Variable</td><td></td><td><a class=\"ProveItLink\" href=\"../../../../../../__pv_it/common/674a03b9c3ca221b3aabd5636837b31528ff33830/expr.ipynb\"><img src=\"../../../../../../__pv_it/common/674a03b9c3ca221b3aabd5636837b31528ff33830/expr.png\" style=\"display:inline;vertical-align:middle;\" /></a></td></tr>\n",
       "<tr><td>7</td><td>ExprRange</td><td>lambda_map:&nbsp;8<br>start_index:&nbsp;38<br>end_index:&nbsp;9<br></td><td><a class=\"ProveItLink\" href=\"../a182349bd96f3546828f58e71ed0c0479382f1150/expr.ipynb\"><img src=\"../a182349bd96f3546828f58e71ed0c0479382f1150/expr.png\" style=\"display:inline;vertical-align:middle;\" /></a></td></tr>\n",
       "<tr><td>8</td><td>Lambda</td><td>parameter:&nbsp;22<br>body:&nbsp;11<br></td><td><a class=\"ProveItLink\" href=\"../1343a0acf7d5aac8c43097f4f9c0508e0d85cc630/expr.ipynb\"><img src=\"../1343a0acf7d5aac8c43097f4f9c0508e0d85cc630/expr.png\" style=\"display:inline;vertical-align:middle;\" /></a></td></tr>\n",
       "<tr><td>9</td><td>IndexedVar</td><td>variable:&nbsp;12<br>index:&nbsp;34<br></td><td><a class=\"ProveItLink\" href=\"../75d8783e56abefb2a252bbb19a090de2e2ffc54d0/expr.ipynb\"><img src=\"../75d8783e56abefb2a252bbb19a090de2e2ffc54d0/expr.png\" style=\"display:inline;vertical-align:middle;\" /></a></td></tr>\n",
       "<tr><td>10</td><td>ExprTuple</td><td>22</td><td><a class=\"ProveItLink\" href=\"../../../../../../core_expr_types/__pv_it/common/4b0dd6be36d76552eda6a95d5b4a27f5a5b62f900/expr.ipynb\"><img src=\"../../../../../../core_expr_types/__pv_it/common/4b0dd6be36d76552eda6a95d5b4a27f5a5b62f900/expr.png\" style=\"display:inline;vertical-align:middle;\" /></a></td></tr>\n",
       "<tr><td>11</td><td>Operation</td><td>operator:&nbsp;13<br>operands:&nbsp;14<br></td><td><a class=\"ProveItLink\" href=\"../d8701acef60d94ec4b6c53613bcc0019c1e5fc410/expr.ipynb\"><img src=\"../d8701acef60d94ec4b6c53613bcc0019c1e5fc410/expr.png\" style=\"display:inline;vertical-align:middle;\" /></a></td></tr>\n",
       "<tr><td>12</td><td>Variable</td><td></td><td><a class=\"ProveItLink\" href=\"../../../../../../__pv_it/common/8968bb04eb3f7dfa02353397ce929b025bbd79c20/expr.ipynb\"><img src=\"../../../../../../__pv_it/common/8968bb04eb3f7dfa02353397ce929b025bbd79c20/expr.png\" style=\"display:inline;vertical-align:middle;\" /></a></td></tr>\n",
       "<tr><td>13</td><td>Literal</td><td></td><td><a class=\"ProveItLink\" href=\"../../common/5eaa43008f05c06941080a12337ff182ea14996e0/expr.ipynb\"><img src=\"../../common/5eaa43008f05c06941080a12337ff182ea14996e0/expr.png\" style=\"display:inline;vertical-align:middle;\" /></a></td></tr>\n",
       "<tr><td>14</td><td>NamedExprs</td><td>element: 15<br>targets: 16<br></td><td><a class=\"ProveItLink\" href=\"../50109eeb868b25ebf4b7959dcd21f19b5908e55b0/expr.ipynb\"><img src=\"../50109eeb868b25ebf4b7959dcd21f19b5908e55b0/expr.png\" style=\"display:inline;vertical-align:middle;\" /></a></td></tr>\n",
       "<tr><td>15</td><td>Operation</td><td>operator:&nbsp;17<br>operands:&nbsp;18<br></td><td><a class=\"ProveItLink\" href=\"../0588a4a21c3a37adf6b434043549d0793bfdabab0/expr.ipynb\"><img src=\"../0588a4a21c3a37adf6b434043549d0793bfdabab0/expr.png\" style=\"display:inline;vertical-align:middle;\" /></a></td></tr>\n",
       "<tr><td>16</td><td>Operation</td><td>operator:&nbsp;19<br>operands:&nbsp;20<br></td><td><a class=\"ProveItLink\" href=\"../ea8faf3b868319a4f323dbd0347fc2ea2e7d29f30/expr.ipynb\"><img src=\"../ea8faf3b868319a4f323dbd0347fc2ea2e7d29f30/expr.png\" style=\"display:inline;vertical-align:middle;\" /></a></td></tr>\n",
       "<tr><td>17</td><td>Literal</td><td></td><td><a class=\"ProveItLink\" href=\"../../common/00345a9c4f4d361e0b6e8bbbbe5a33a8ec86a20b0/expr.ipynb\"><img src=\"../../common/00345a9c4f4d361e0b6e8bbbbe5a33a8ec86a20b0/expr.png\" style=\"display:inline;vertical-align:middle;\" /></a></td></tr>\n",
       "<tr><td>18</td><td>NamedExprs</td><td>state: 21<br>part: 22<br></td><td><a class=\"ProveItLink\" href=\"../d5db41322d898db2c78485c2988013b1cad4ea1e0/expr.ipynb\"><img src=\"../d5db41322d898db2c78485c2988013b1cad4ea1e0/expr.png\" style=\"display:inline;vertical-align:middle;\" /></a></td></tr>\n",
       "<tr><td>19</td><td>Literal</td><td></td><td><a class=\"ProveItLink\" href=\"../../../../../../numbers/number_sets/integers/__pv_it/common/92f3a0a77e3c3ea8e4a5c8674edadc54e4f57d550/expr.ipynb\"><img src=\"../../../../../../numbers/number_sets/integers/__pv_it/common/92f3a0a77e3c3ea8e4a5c8674edadc54e4f57d550/expr.png\" style=\"display:inline;vertical-align:middle;\" /></a></td></tr>\n",
       "<tr><td>20</td><td>ExprTuple</td><td>23, 24</td><td><a class=\"ProveItLink\" href=\"../deb14b2f4dea9618aa2afed3b5f5da919788486b0/expr.ipynb\"><img src=\"../deb14b2f4dea9618aa2afed3b5f5da919788486b0/expr.png\" style=\"display:inline;vertical-align:middle;\" /></a></td></tr>\n",
       "<tr><td>21</td><td>IndexedVar</td><td>variable:&nbsp;25<br>index:&nbsp;34<br></td><td><a class=\"ProveItLink\" href=\"../ad23d0591dbc2d948d434f2f49ac0010b0a1f6fa0/expr.ipynb\"><img src=\"../ad23d0591dbc2d948d434f2f49ac0010b0a1f6fa0/expr.png\" style=\"display:inline;vertical-align:middle;\" /></a></td></tr>\n",
       "<tr><td>22</td><td>Variable</td><td></td><td><a class=\"ProveItLink\" href=\"../../../../../../core_expr_types/__pv_it/common/006c465e50948aa2b52285e2de47974f741255cc0/expr.ipynb\"><img src=\"../../../../../../core_expr_types/__pv_it/common/006c465e50948aa2b52285e2de47974f741255cc0/expr.png\" style=\"display:inline;vertical-align:middle;\" /></a></td></tr>\n",
       "<tr><td>23</td><td>Operation</td><td>operator:&nbsp;32<br>operands:&nbsp;26<br></td><td><a class=\"ProveItLink\" href=\"../8269149504e2efb6e45190985056c2c7071f5ef60/expr.ipynb\"><img src=\"../8269149504e2efb6e45190985056c2c7071f5ef60/expr.png\" style=\"display:inline;vertical-align:middle;\" /></a></td></tr>\n",
       "<tr><td>24</td><td>IndexedVar</td><td>variable:&nbsp;29<br>index:&nbsp;34<br></td><td><a class=\"ProveItLink\" href=\"../f7fd2d0ebb10622ace70e4a0629ec7961186e16e0/expr.ipynb\"><img src=\"../f7fd2d0ebb10622ace70e4a0629ec7961186e16e0/expr.png\" style=\"display:inline;vertical-align:middle;\" /></a></td></tr>\n",
       "<tr><td>25</td><td>Variable</td><td></td><td><a class=\"ProveItLink\" href=\"../../../../../../__pv_it/common/09585084922504426caf1db2ff588a23a0932a960/expr.ipynb\"><img src=\"../../../../../../__pv_it/common/09585084922504426caf1db2ff588a23a0932a960/expr.png\" style=\"display:inline;vertical-align:middle;\" /></a></td></tr>\n",
       "<tr><td>26</td><td>ExprTuple</td><td>28, 38</td><td><a class=\"ProveItLink\" href=\"../abc0a90ccb4060616f43e27ec48bc39fd5bd263a0/expr.ipynb\"><img src=\"../abc0a90ccb4060616f43e27ec48bc39fd5bd263a0/expr.png\" style=\"display:inline;vertical-align:middle;\" /></a></td></tr>\n",
       "<tr><td>27</td><td>ExprTuple</td><td>34</td><td><a class=\"ProveItLink\" href=\"../../../../../../core_expr_types/expr_arrays/__pv_it/common/18f7318b68e45ff8356043b6e71619fa8450fb200/expr.ipynb\"><img src=\"../../../../../../core_expr_types/expr_arrays/__pv_it/common/18f7318b68e45ff8356043b6e71619fa8450fb200/expr.png\" style=\"display:inline;vertical-align:middle;\" /></a></td></tr>\n",
       "<tr><td>28</td><td>IndexedVar</td><td>variable:&nbsp;29<br>index:&nbsp;31<br></td><td><a class=\"ProveItLink\" href=\"../482c59e0327a44a77b9c8fd86f9333b899e173600/expr.ipynb\"><img src=\"../482c59e0327a44a77b9c8fd86f9333b899e173600/expr.png\" style=\"display:inline;vertical-align:middle;\" /></a></td></tr>\n",
       "<tr><td>29</td><td>Variable</td><td></td><td><a class=\"ProveItLink\" href=\"../../../../../../__pv_it/common/ec2f9d003f907f9688d46f19f6df289e52cc63ce0/expr.ipynb\"><img src=\"../../../../../../__pv_it/common/ec2f9d003f907f9688d46f19f6df289e52cc63ce0/expr.png\" style=\"display:inline;vertical-align:middle;\" /></a></td></tr>\n",
       "<tr><td>30</td><td>ExprTuple</td><td>31</td><td><a class=\"ProveItLink\" href=\"../bbf049c6d00084788fab535e17e121663c79ff8c0/expr.ipynb\"><img src=\"../bbf049c6d00084788fab535e17e121663c79ff8c0/expr.png\" style=\"display:inline;vertical-align:middle;\" /></a></td></tr>\n",
       "<tr><td>31</td><td>Operation</td><td>operator:&nbsp;32<br>operands:&nbsp;33<br></td><td><a class=\"ProveItLink\" href=\"../63fdcc2888efa5a50c2bc63583039690994b93850/expr.ipynb\"><img src=\"../63fdcc2888efa5a50c2bc63583039690994b93850/expr.png\" style=\"display:inline;vertical-align:middle;\" /></a></td></tr>\n",
       "<tr><td>32</td><td>Literal</td><td></td><td><a class=\"ProveItLink\" href=\"../../../../../../numbers/addition/__pv_it/common/4b7effaab3619a1c2c38fe2dee8601df8ec714590/expr.ipynb\"><img src=\"../../../../../../numbers/addition/__pv_it/common/4b7effaab3619a1c2c38fe2dee8601df8ec714590/expr.png\" style=\"display:inline;vertical-align:middle;\" /></a></td></tr>\n",
       "<tr><td>33</td><td>ExprTuple</td><td>34, 35</td><td><a class=\"ProveItLink\" href=\"../78843e36d27ede38d3b74e4110e805b0517e38f30/expr.ipynb\"><img src=\"../78843e36d27ede38d3b74e4110e805b0517e38f30/expr.png\" style=\"display:inline;vertical-align:middle;\" /></a></td></tr>\n",
       "<tr><td>34</td><td>Variable</td><td></td><td><a class=\"ProveItLink\" href=\"../../../../../../core_expr_types/expr_arrays/__pv_it/common/9a18d67b443cf8d92289c655ed91ec78766170a90/expr.ipynb\"><img src=\"../../../../../../core_expr_types/expr_arrays/__pv_it/common/9a18d67b443cf8d92289c655ed91ec78766170a90/expr.png\" style=\"display:inline;vertical-align:middle;\" /></a></td></tr>\n",
       "<tr><td>35</td><td>Operation</td><td>operator:&nbsp;36<br>operand:&nbsp;38<br></td><td><a class=\"ProveItLink\" href=\"../../../../__pv_it/common/bf4beda21975fe8a0a5007615b5bcc943da59bb20/expr.ipynb\"><img src=\"../../../../__pv_it/common/bf4beda21975fe8a0a5007615b5bcc943da59bb20/expr.png\" style=\"display:inline;vertical-align:middle;\" /></a></td></tr>\n",
       "<tr><td>36</td><td>Literal</td><td></td><td><a class=\"ProveItLink\" href=\"../../../../../../numbers/negation/__pv_it/common/221b3c4d1770ee9051b7c044c3f9ec61196fc34b0/expr.ipynb\"><img src=\"../../../../../../numbers/negation/__pv_it/common/221b3c4d1770ee9051b7c044c3f9ec61196fc34b0/expr.png\" style=\"display:inline;vertical-align:middle;\" /></a></td></tr>\n",
       "<tr><td>37</td><td>ExprTuple</td><td>38</td><td><a class=\"ProveItLink\" href=\"../../../../__pv_it/common/b9e4f0dffece176bbe2f36127440684a20e0468e0/expr.ipynb\"><img src=\"../../../../__pv_it/common/b9e4f0dffece176bbe2f36127440684a20e0468e0/expr.png\" style=\"display:inline;vertical-align:middle;\" /></a></td></tr>\n",
       "<tr><td>38</td><td>Literal</td><td></td><td><a class=\"ProveItLink\" href=\"../../../../../../numbers/numerals/__pv_it/common/682157d4892d216d9e5626ed533aff9b56b9506e0/expr.ipynb\"><img src=\"../../../../../../numbers/numerals/__pv_it/common/682157d4892d216d9e5626ed533aff9b56b9506e0/expr.png\" style=\"display:inline;vertical-align:middle;\" /></a></td></tr>\n",
       "</table>\n"
      ],
      "text/plain": [
       "0. QCIRCUIT(VertExprArray(([MULTI_QUBIT_ELEM]{element:[OUTPUT]{state:A_{1}, part:1}, targets:{N_{1 - 1} + 1 .. N_{1}}}, [MULTI_QUBIT_ELEM]{element:[OUTPUT]{state:A_{1}, part:2}, targets:{N_{1 - 1} + 1 .. N_{1}}}, ..., [MULTI_QUBIT_ELEM]{element:[OUTPUT]{state:A_{1}, part:n_{1}}, targets:{N_{1 - 1} + 1 .. N_{1}}}, [MULTI_QUBIT_ELEM]{element:[OUTPUT]{state:A_{2}, part:1}, targets:{N_{2 - 1} + 1 .. N_{2}}}, [MULTI_QUBIT_ELEM]{element:[OUTPUT]{state:A_{2}, part:2}, targets:{N_{2 - 1} + 1 .. N_{2}}}, ..., [MULTI_QUBIT_ELEM]{element:[OUTPUT]{state:A_{2}, part:n_{2}}, targets:{N_{2 - 1} + 1 .. N_{2}}}, ......, [MULTI_QUBIT_ELEM]{element:[OUTPUT]{state:A_{m}, part:1}, targets:{N_{m - 1} + 1 .. N_{m}}}, [MULTI_QUBIT_ELEM]{element:[OUTPUT]{state:A_{m}, part:2}, targets:{N_{m - 1} + 1 .. N_{m}}}, ..., [MULTI_QUBIT_ELEM]{element:[OUTPUT]{state:A_{m}, part:n_{m}}, targets:{N_{m - 1} + 1 .. N_{m}}})))\n",
       "   core type: Operation\n",
       "   operator: 1\n",
       "   operand: 3\n",
       "1. QCIRCUIT\n",
       "   core type: Literal\n",
       "   sub-expressions: \n",
       "2. VertExprArray(([MULTI_QUBIT_ELEM]{element:[OUTPUT]{state:A_{1}, part:1}, targets:{N_{1 - 1} + 1 .. N_{1}}}, [MULTI_QUBIT_ELEM]{element:[OUTPUT]{state:A_{1}, part:2}, targets:{N_{1 - 1} + 1 .. N_{1}}}, ..., [MULTI_QUBIT_ELEM]{element:[OUTPUT]{state:A_{1}, part:n_{1}}, targets:{N_{1 - 1} + 1 .. N_{1}}}, [MULTI_QUBIT_ELEM]{element:[OUTPUT]{state:A_{2}, part:1}, targets:{N_{2 - 1} + 1 .. N_{2}}}, [MULTI_QUBIT_ELEM]{element:[OUTPUT]{state:A_{2}, part:2}, targets:{N_{2 - 1} + 1 .. N_{2}}}, ..., [MULTI_QUBIT_ELEM]{element:[OUTPUT]{state:A_{2}, part:n_{2}}, targets:{N_{2 - 1} + 1 .. N_{2}}}, ......, [MULTI_QUBIT_ELEM]{element:[OUTPUT]{state:A_{m}, part:1}, targets:{N_{m - 1} + 1 .. N_{m}}}, [MULTI_QUBIT_ELEM]{element:[OUTPUT]{state:A_{m}, part:2}, targets:{N_{m - 1} + 1 .. N_{m}}}, ..., [MULTI_QUBIT_ELEM]{element:[OUTPUT]{state:A_{m}, part:n_{m}}, targets:{N_{m - 1} + 1 .. N_{m}}}))\n",
       "   core type: ExprTuple\n",
       "   sub-expressions: 3\n",
       "3. ([MULTI_QUBIT_ELEM]{element:[OUTPUT]{state:A_{1}, part:1}, targets:{N_{1 - 1} + 1 .. N_{1}}}, [MULTI_QUBIT_ELEM]{element:[OUTPUT]{state:A_{1}, part:2}, targets:{N_{1 - 1} + 1 .. N_{1}}}, ..., [MULTI_QUBIT_ELEM]{element:[OUTPUT]{state:A_{1}, part:n_{1}}, targets:{N_{1 - 1} + 1 .. N_{1}}}, [MULTI_QUBIT_ELEM]{element:[OUTPUT]{state:A_{2}, part:1}, targets:{N_{2 - 1} + 1 .. N_{2}}}, [MULTI_QUBIT_ELEM]{element:[OUTPUT]{state:A_{2}, part:2}, targets:{N_{2 - 1} + 1 .. N_{2}}}, ..., [MULTI_QUBIT_ELEM]{element:[OUTPUT]{state:A_{2}, part:n_{2}}, targets:{N_{2 - 1} + 1 .. N_{2}}}, ......, [MULTI_QUBIT_ELEM]{element:[OUTPUT]{state:A_{m}, part:1}, targets:{N_{m - 1} + 1 .. N_{m}}}, [MULTI_QUBIT_ELEM]{element:[OUTPUT]{state:A_{m}, part:2}, targets:{N_{m - 1} + 1 .. N_{m}}}, ..., [MULTI_QUBIT_ELEM]{element:[OUTPUT]{state:A_{m}, part:n_{m}}, targets:{N_{m - 1} + 1 .. N_{m}}})\n",
       "   core type: ExprTuple\n",
       "   sub-expressions: 4\n",
       "4. [MULTI_QUBIT_ELEM]{element:[OUTPUT]{state:A_{1}, part:1}, targets:{N_{1 - 1} + 1 .. N_{1}}}, [MULTI_QUBIT_ELEM]{element:[OUTPUT]{state:A_{1}, part:2}, targets:{N_{1 - 1} + 1 .. N_{1}}}, ..., [MULTI_QUBIT_ELEM]{element:[OUTPUT]{state:A_{1}, part:n_{1}}, targets:{N_{1 - 1} + 1 .. N_{1}}}, [MULTI_QUBIT_ELEM]{element:[OUTPUT]{state:A_{2}, part:1}, targets:{N_{2 - 1} + 1 .. N_{2}}}, [MULTI_QUBIT_ELEM]{element:[OUTPUT]{state:A_{2}, part:2}, targets:{N_{2 - 1} + 1 .. N_{2}}}, ..., [MULTI_QUBIT_ELEM]{element:[OUTPUT]{state:A_{2}, part:n_{2}}, targets:{N_{2 - 1} + 1 .. N_{2}}}, ......, [MULTI_QUBIT_ELEM]{element:[OUTPUT]{state:A_{m}, part:1}, targets:{N_{m - 1} + 1 .. N_{m}}}, [MULTI_QUBIT_ELEM]{element:[OUTPUT]{state:A_{m}, part:2}, targets:{N_{m - 1} + 1 .. N_{m}}}, ..., [MULTI_QUBIT_ELEM]{element:[OUTPUT]{state:A_{m}, part:n_{m}}, targets:{N_{m - 1} + 1 .. N_{m}}}\n",
       "   core type: ExprRange\n",
       "   lambda_map: 5\n",
       "   start_index: 38\n",
       "   end_index: 6\n",
       "5. _b -> [MULTI_QUBIT_ELEM]{element:[OUTPUT]{state:A_{_b}, part:1}, targets:{N_{_b - 1} + 1 .. N_{_b}}},  \\\\ [MULTI_QUBIT_ELEM]{element:[OUTPUT]{state:A_{_b}, part:2}, targets:{N_{_b - 1} + 1 .. N_{_b}}}, ...,  \\\\ [MULTI_QUBIT_ELEM]{element:[OUTPUT]{state:A_{_b}, part:n_{_b}}, targets:{N_{_b - 1} + 1 .. N_{_b}}}\n",
       "   core type: Lambda\n",
       "   parameter: 34\n",
       "   body: 7\n",
       "6. m\n",
       "   core type: Variable\n",
       "   sub-expressions: \n",
       "7. [MULTI_QUBIT_ELEM]{element:[OUTPUT]{state:A_{_b}, part:1}, targets:{N_{_b - 1} + 1 .. N_{_b}}},  \\\\ [MULTI_QUBIT_ELEM]{element:[OUTPUT]{state:A_{_b}, part:2}, targets:{N_{_b - 1} + 1 .. N_{_b}}}, ...,  \\\\ [MULTI_QUBIT_ELEM]{element:[OUTPUT]{state:A_{_b}, part:n_{_b}}, targets:{N_{_b - 1} + 1 .. N_{_b}}}\n",
       "   core type: ExprRange\n",
       "   lambda_map: 8\n",
       "   start_index: 38\n",
       "   end_index: 9\n",
       "8. _a -> [MULTI_QUBIT_ELEM]{element:[OUTPUT]{state:A_{_b}, part:_a}, targets:{N_{_b - 1} + 1 .. N_{_b}}}\n",
       "   core type: Lambda\n",
       "   parameter: 22\n",
       "   body: 11\n",
       "9. n_{_b}\n",
       "   core type: IndexedVar\n",
       "variable: 12\n",
       "index: 34\n",
       "10. (_a)\n",
       "    core type: ExprTuple\n",
       "    sub-expressions: 22\n",
       "11. [MULTI_QUBIT_ELEM]{element:[OUTPUT]{state:A_{_b}, part:_a}, targets:{N_{_b - 1} + 1 .. N_{_b}}}\n",
       "    core type: Operation\n",
       "    operator: 13\n",
       "    operands: 14\n",
       "12. n\n",
       "    core type: Variable\n",
       "    sub-expressions: \n",
       "13. MULTI_QUBIT_ELEM\n",
       "    core type: Literal\n",
       "    sub-expressions: \n",
       "14. {element:[OUTPUT]{state:A_{_b}, part:_a}, targets:{N_{_b - 1} + 1 .. N_{_b}}}\n",
       "    core type: NamedExprs\n",
       "    element: 15\n",
       "    targets: 16\n",
       "15. [OUTPUT]{state:A_{_b}, part:_a}\n",
       "    core type: Operation\n",
       "    operator: 17\n",
       "    operands: 18\n",
       "16. {N_{_b - 1} + 1 .. N_{_b}}\n",
       "    core type: Operation\n",
       "    operator: 19\n",
       "    operands: 20\n",
       "17. OUTPUT\n",
       "    core type: Literal\n",
       "    sub-expressions: \n",
       "18. {state:A_{_b}, part:_a}\n",
       "    core type: NamedExprs\n",
       "    state: 21\n",
       "    part: 22\n",
       "19. Interval\n",
       "    core type: Literal\n",
       "    sub-expressions: \n",
       "20. (N_{_b - 1} + 1, N_{_b})\n",
       "    core type: ExprTuple\n",
       "    sub-expressions: 23, 24\n",
       "21. A_{_b}\n",
       "    core type: IndexedVar\n",
       "variable: 25\n",
       "index: 34\n",
       "22. _a\n",
       "    core type: Variable\n",
       "    sub-expressions: \n",
       "23. N_{_b - 1} + 1\n",
       "    core type: Operation\n",
       "    operator: 32\n",
       "    operands: 26\n",
       "24. N_{_b}\n",
       "    core type: IndexedVar\n",
       "variable: 29\n",
       "index: 34\n",
       "25. A\n",
       "    core type: Variable\n",
       "    sub-expressions: \n",
       "26. (N_{_b - 1}, 1)\n",
       "    core type: ExprTuple\n",
       "    sub-expressions: 28, 38\n",
       "27. (_b)\n",
       "    core type: ExprTuple\n",
       "    sub-expressions: 34\n",
       "28. N_{_b - 1}\n",
       "    core type: IndexedVar\n",
       "variable: 29\n",
       "index: 31\n",
       "29. N\n",
       "    core type: Variable\n",
       "    sub-expressions: \n",
       "30. (_b - 1)\n",
       "    core type: ExprTuple\n",
       "    sub-expressions: 31\n",
       "31. _b - 1\n",
       "    core type: Operation\n",
       "    operator: 32\n",
       "    operands: 33\n",
       "32. +\n",
       "    core type: Literal\n",
       "    sub-expressions: \n",
       "33. (_b, -1)\n",
       "    core type: ExprTuple\n",
       "    sub-expressions: 34, 35\n",
       "34. _b\n",
       "    core type: Variable\n",
       "    sub-expressions: \n",
       "35. -1\n",
       "    core type: Operation\n",
       "    operator: 36\n",
       "    operand: 38\n",
       "36. -\n",
       "    core type: Literal\n",
       "    sub-expressions: \n",
       "37. (1)\n",
       "    core type: ExprTuple\n",
       "    sub-expressions: 38\n",
       "38. 1\n",
       "    core type: Literal\n",
       "    sub-expressions: "
      ]
     },
     "metadata": {},
     "output_type": "display_data"
    }
   ],
   "source": [
    "# display the expression information\n",
    "stored_expr.expr_info()"
   ]
  },
  {
   "cell_type": "code",
   "execution_count": null,
   "metadata": {},
   "outputs": [],
   "source": []
  }
 ],
 "metadata": {
  "kernelspec": {
   "display_name": "Python 3",
   "language": "python",
   "name": "python3"
  }
 },
 "nbformat": 4,
 "nbformat_minor": 0
}