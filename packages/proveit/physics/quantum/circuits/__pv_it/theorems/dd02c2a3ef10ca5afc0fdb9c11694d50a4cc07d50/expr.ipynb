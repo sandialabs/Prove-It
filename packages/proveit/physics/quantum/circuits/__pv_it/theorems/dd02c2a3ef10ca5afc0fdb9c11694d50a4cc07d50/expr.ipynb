{
 "cells": [
  {
   "cell_type": "markdown",
   "metadata": {},
   "source": [
    "Expression of type <a class=\"ProveItLink\" href=\"../../../../../../../../doc/html/api/proveit.Lambda.html\">Lambda</a>\n",
    "=======================\n",
    "# from the theory of <a class=\"ProveItLink\" href=\"../../../_theory_nbs_/theory.ipynb\">proveit.physics.quantum.circuits</a>"
   ]
  },
  {
   "cell_type": "code",
   "execution_count": 1,
   "metadata": {},
   "outputs": [],
   "source": [
    "import proveit\n",
    "# Automation is not needed when building an expression:\n",
    "proveit.defaults.automation = False # This will speed things up.\n",
    "proveit.defaults.inline_pngs = False # Makes files smaller.\n",
    "%load_expr # Load the stored expression as 'stored_expr'\n",
    "# import Expression classes needed to build the expression\n",
    "from proveit import A, B, Conditional, Lambda, S, k\n",
    "from proveit.logic import Equals, Forall, InSet\n",
    "from proveit.numbers import NaturalPos\n",
    "from proveit.physics.quantum.circuits import Input, MultiQubitElem"
   ]
  },
  {
   "cell_type": "code",
   "execution_count": 2,
   "metadata": {},
   "outputs": [
    {
     "data": {
      "text/html": [
       "<strong id=\"expr\">expr:</strong> <a class=\"ProveItLink\" href=\"expr.ipynb\"><img src=\"expr.png\" style=\"display:inline;vertical-align:middle;\" /></a><br>"
      ],
      "text/plain": [
       "<IPython.core.display.HTML object>"
      ]
     },
     "metadata": {},
     "output_type": "display_data"
    }
   ],
   "source": [
    "# build up the expression from sub-expressions\n",
    "expr = Lambda(k, Conditional(Forall(instance_param_or_params = [A, B, S], instance_expr = Equals(MultiQubitElem(element = Input(state = A, part = k), targets = S), MultiQubitElem(element = Input(state = B, part = k), targets = S)), condition = Equals(A, B)), InSet(k, NaturalPos)))"
   ]
  },
  {
   "cell_type": "code",
   "execution_count": 3,
   "metadata": {},
   "outputs": [
    {
     "name": "stdout",
     "output_type": "stream",
     "text": [
      "Passed sanity check: expr matches stored_expr\n"
     ]
    }
   ],
   "source": [
    "# check that the built expression is the same as the stored expression\n",
    "assert expr == stored_expr\n",
    "assert expr._style_id == stored_expr._style_id\n",
    "print(\"Passed sanity check: expr matches stored_expr\")"
   ]
  },
  {
   "cell_type": "code",
   "execution_count": 4,
   "metadata": {},
   "outputs": [
    {
     "name": "stdout",
     "output_type": "stream",
     "text": [
      "k \\mapsto \\left\\{\\forall_{A, B, S~|~A = B}~\\left(\\begin{array}{c} \\Qcircuit@C=1em @R=.7em{\n",
      "& \\qin{A~\\mbox{part}~k~\\mbox{on}~S} & \\qw \n",
      "} \\end{array} = \\begin{array}{c} \\Qcircuit@C=1em @R=.7em{\n",
      "& \\qin{B~\\mbox{part}~k~\\mbox{on}~S} & \\qw \n",
      "} \\end{array}\\right) \\textrm{ if } k \\in \\mathbb{N}^+\\right..\n"
     ]
    }
   ],
   "source": [
    "# Show the LaTeX representation of the expression for convenience if you need it.\n",
    "print(stored_expr.latex())"
   ]
  },
  {
   "cell_type": "code",
   "execution_count": 5,
   "metadata": {},
   "outputs": [
    {
     "data": {
      "text/html": [
       "no style options"
      ],
      "text/plain": [
       "no style options"
      ]
     },
     "metadata": {},
     "output_type": "display_data"
    }
   ],
   "source": [
    "stored_expr.style_options()"
   ]
  },
  {
   "cell_type": "code",
   "execution_count": 6,
   "metadata": {},
   "outputs": [
    {
     "data": {
      "text/html": [
       "<table><tr><th>&nbsp;</th><th>core type</th><th>sub-expressions</th><th>expression</th></tr>\n",
       "<tr><td>0</td><td>Lambda</td><td>parameter:&nbsp;31<br>body:&nbsp;2<br></td><td><a class=\"ProveItLink\" href=\"expr.ipynb\"><img src=\"expr.png\" style=\"display:inline;vertical-align:middle;\" /></a></td></tr>\n",
       "<tr><td>1</td><td>ExprTuple</td><td>31</td><td><a class=\"ProveItLink\" href=\"../../../../../../__pv_it/common/688b115fcd711144fb0bdcf2138b0bd26487dd890/expr.ipynb\"><img src=\"../../../../../../__pv_it/common/688b115fcd711144fb0bdcf2138b0bd26487dd890/expr.png\" style=\"display:inline;vertical-align:middle;\" /></a></td></tr>\n",
       "<tr><td>2</td><td>Conditional</td><td>value:&nbsp;3<br>condition:&nbsp;4<br></td><td><a class=\"ProveItLink\" href=\"../b5c46ff66b09423e336d118d9a967ce1dc49962b0/expr.ipynb\"><img src=\"../b5c46ff66b09423e336d118d9a967ce1dc49962b0/expr.png\" style=\"display:inline;vertical-align:middle;\" /></a></td></tr>\n",
       "<tr><td>3</td><td>Operation</td><td>operator:&nbsp;5<br>operand:&nbsp;9<br></td><td><a class=\"ProveItLink\" href=\"../7c50f00607e43ffda6153f830472b0cb873b15eb0/expr.ipynb\"><img src=\"../7c50f00607e43ffda6153f830472b0cb873b15eb0/expr.png\" style=\"display:inline;vertical-align:middle;\" /></a></td></tr>\n",
       "<tr><td>4</td><td>Operation</td><td>operator:&nbsp;7<br>operands:&nbsp;8<br></td><td><a class=\"ProveItLink\" href=\"../cb2c00423acaa7f56a88065940b327123396a5900/expr.ipynb\"><img src=\"../cb2c00423acaa7f56a88065940b327123396a5900/expr.png\" style=\"display:inline;vertical-align:middle;\" /></a></td></tr>\n",
       "<tr><td>5</td><td>Literal</td><td></td><td><a class=\"ProveItLink\" href=\"../../../../../../logic/booleans/quantification/universality/__pv_it/common/083d2baa0b8ecab1d230f9ec29a15aa1355809fb0/expr.ipynb\"><img src=\"../../../../../../logic/booleans/quantification/universality/__pv_it/common/083d2baa0b8ecab1d230f9ec29a15aa1355809fb0/expr.png\" style=\"display:inline;vertical-align:middle;\" /></a></td></tr>\n",
       "<tr><td>6</td><td>ExprTuple</td><td>9</td><td><a class=\"ProveItLink\" href=\"../1d2c9d0460bbda014186e79dbe8e87e444b6fa960/expr.ipynb\"><img src=\"../1d2c9d0460bbda014186e79dbe8e87e444b6fa960/expr.png\" style=\"display:inline;vertical-align:middle;\" /></a></td></tr>\n",
       "<tr><td>7</td><td>Literal</td><td></td><td><a class=\"ProveItLink\" href=\"../../../../../../logic/sets/membership/__pv_it/common/477487d8796864d23d5810f83761435f25167f690/expr.ipynb\"><img src=\"../../../../../../logic/sets/membership/__pv_it/common/477487d8796864d23d5810f83761435f25167f690/expr.png\" style=\"display:inline;vertical-align:middle;\" /></a></td></tr>\n",
       "<tr><td>8</td><td>ExprTuple</td><td>31, 10</td><td><a class=\"ProveItLink\" href=\"../f180f8b426d5ece5d1a14a614fa8a345cbdb2fe90/expr.ipynb\"><img src=\"../f180f8b426d5ece5d1a14a614fa8a345cbdb2fe90/expr.png\" style=\"display:inline;vertical-align:middle;\" /></a></td></tr>\n",
       "<tr><td>9</td><td>Lambda</td><td>parameters:&nbsp;11<br>body:&nbsp;12<br></td><td><a class=\"ProveItLink\" href=\"../0491648a9f7bd194908a8a6ccb9c1baec58181330/expr.ipynb\"><img src=\"../0491648a9f7bd194908a8a6ccb9c1baec58181330/expr.png\" style=\"display:inline;vertical-align:middle;\" /></a></td></tr>\n",
       "<tr><td>10</td><td>Literal</td><td></td><td><a class=\"ProveItLink\" href=\"../../../../../../numbers/number_sets/natural_numbers/__pv_it/common/6111329435c43892c831c4793de96afbf80bdb3e0/expr.ipynb\"><img src=\"../../../../../../numbers/number_sets/natural_numbers/__pv_it/common/6111329435c43892c831c4793de96afbf80bdb3e0/expr.png\" style=\"display:inline;vertical-align:middle;\" /></a></td></tr>\n",
       "<tr><td>11</td><td>ExprTuple</td><td>29, 30, 25</td><td><a class=\"ProveItLink\" href=\"../3f13e80caebbaa9f6dd61872b8afbc0dfc888fc20/expr.ipynb\"><img src=\"../3f13e80caebbaa9f6dd61872b8afbc0dfc888fc20/expr.png\" style=\"display:inline;vertical-align:middle;\" /></a></td></tr>\n",
       "<tr><td>12</td><td>Conditional</td><td>value:&nbsp;13<br>condition:&nbsp;14<br></td><td><a class=\"ProveItLink\" href=\"../0d96daa6dea13797d38147c728866f5fb958f5d60/expr.ipynb\"><img src=\"../0d96daa6dea13797d38147c728866f5fb958f5d60/expr.png\" style=\"display:inline;vertical-align:middle;\" /></a></td></tr>\n",
       "<tr><td>13</td><td>Operation</td><td>operator:&nbsp;16<br>operands:&nbsp;15<br></td><td><a class=\"ProveItLink\" href=\"../0205697c46720a21f79657b2611d1f0ef94b93100/expr.ipynb\"><img src=\"../0205697c46720a21f79657b2611d1f0ef94b93100/expr.png\" style=\"display:inline;vertical-align:middle;\" /></a></td></tr>\n",
       "<tr><td>14</td><td>Operation</td><td>operator:&nbsp;16<br>operands:&nbsp;17<br></td><td><a class=\"ProveItLink\" href=\"../f499420995aa101afb63b56c7e1317b0571a23ed0/expr.ipynb\"><img src=\"../f499420995aa101afb63b56c7e1317b0571a23ed0/expr.png\" style=\"display:inline;vertical-align:middle;\" /></a></td></tr>\n",
       "<tr><td>15</td><td>ExprTuple</td><td>18, 19</td><td><a class=\"ProveItLink\" href=\"../6c71ef030ea8f48fe4d740564d8446d3f8f7d2c60/expr.ipynb\"><img src=\"../6c71ef030ea8f48fe4d740564d8446d3f8f7d2c60/expr.png\" style=\"display:inline;vertical-align:middle;\" /></a></td></tr>\n",
       "<tr><td>16</td><td>Literal</td><td></td><td><a class=\"ProveItLink\" href=\"../../../../../../logic/equality/__pv_it/common/fb96dc12b2aa8801dda64d0132b396c63d1502bb0/expr.ipynb\"><img src=\"../../../../../../logic/equality/__pv_it/common/fb96dc12b2aa8801dda64d0132b396c63d1502bb0/expr.png\" style=\"display:inline;vertical-align:middle;\" /></a></td></tr>\n",
       "<tr><td>17</td><td>ExprTuple</td><td>29, 30</td><td><a class=\"ProveItLink\" href=\"../e791ee87807ed43d7ac6262f8f70c4ffc8f24c940/expr.ipynb\"><img src=\"../e791ee87807ed43d7ac6262f8f70c4ffc8f24c940/expr.png\" style=\"display:inline;vertical-align:middle;\" /></a></td></tr>\n",
       "<tr><td>18</td><td>Operation</td><td>operator:&nbsp;21<br>operands:&nbsp;20<br></td><td><a class=\"ProveItLink\" href=\"../218e3e1a5824fde034a69e9bc3e74b5fa19f67b70/expr.ipynb\"><img src=\"../218e3e1a5824fde034a69e9bc3e74b5fa19f67b70/expr.png\" style=\"display:inline;vertical-align:middle;\" /></a></td></tr>\n",
       "<tr><td>19</td><td>Operation</td><td>operator:&nbsp;21<br>operands:&nbsp;22<br></td><td><a class=\"ProveItLink\" href=\"../8411edc5bd15e61e314614ea22d27d133f284a6c0/expr.ipynb\"><img src=\"../8411edc5bd15e61e314614ea22d27d133f284a6c0/expr.png\" style=\"display:inline;vertical-align:middle;\" /></a></td></tr>\n",
       "<tr><td>20</td><td>NamedExprs</td><td>element: 23<br>targets: 25<br></td><td><a class=\"ProveItLink\" href=\"../db083f648c9ba0bc04fb31709c2737df699c70a30/expr.ipynb\"><img src=\"../db083f648c9ba0bc04fb31709c2737df699c70a30/expr.png\" style=\"display:inline;vertical-align:middle;\" /></a></td></tr>\n",
       "<tr><td>21</td><td>Literal</td><td></td><td><a class=\"ProveItLink\" href=\"../../common/5eaa43008f05c06941080a12337ff182ea14996e0/expr.ipynb\"><img src=\"../../common/5eaa43008f05c06941080a12337ff182ea14996e0/expr.png\" style=\"display:inline;vertical-align:middle;\" /></a></td></tr>\n",
       "<tr><td>22</td><td>NamedExprs</td><td>element: 24<br>targets: 25<br></td><td><a class=\"ProveItLink\" href=\"../0dee216a1eea2e97b6a90a4b6ef1f0ac8bc0a6340/expr.ipynb\"><img src=\"../0dee216a1eea2e97b6a90a4b6ef1f0ac8bc0a6340/expr.png\" style=\"display:inline;vertical-align:middle;\" /></a></td></tr>\n",
       "<tr><td>23</td><td>Operation</td><td>operator:&nbsp;27<br>operands:&nbsp;26<br></td><td><a class=\"ProveItLink\" href=\"../cc6e43055858e43b3a51c888916b440d31bc40bf0/expr.ipynb\"><img src=\"../cc6e43055858e43b3a51c888916b440d31bc40bf0/expr.png\" style=\"display:inline;vertical-align:middle;\" /></a></td></tr>\n",
       "<tr><td>24</td><td>Operation</td><td>operator:&nbsp;27<br>operands:&nbsp;28<br></td><td><a class=\"ProveItLink\" href=\"../3c769b08af6f7afc4c6ea5a46066b922441272460/expr.ipynb\"><img src=\"../3c769b08af6f7afc4c6ea5a46066b922441272460/expr.png\" style=\"display:inline;vertical-align:middle;\" /></a></td></tr>\n",
       "<tr><td>25</td><td>Variable</td><td></td><td><a class=\"ProveItLink\" href=\"../../../../../../__pv_it/common/38f47c5670ea8c5b56253448e95d8afb56bc09b40/expr.ipynb\"><img src=\"../../../../../../__pv_it/common/38f47c5670ea8c5b56253448e95d8afb56bc09b40/expr.png\" style=\"display:inline;vertical-align:middle;\" /></a></td></tr>\n",
       "<tr><td>26</td><td>NamedExprs</td><td>state: 29<br>part: 31<br></td><td><a class=\"ProveItLink\" href=\"../60d1c706e2fe76ac04375d09d1406cc9df173e570/expr.ipynb\"><img src=\"../60d1c706e2fe76ac04375d09d1406cc9df173e570/expr.png\" style=\"display:inline;vertical-align:middle;\" /></a></td></tr>\n",
       "<tr><td>27</td><td>Literal</td><td></td><td><a class=\"ProveItLink\" href=\"../../common/deea8715ce6701df08bbe1d049112a0bad4965c20/expr.ipynb\"><img src=\"../../common/deea8715ce6701df08bbe1d049112a0bad4965c20/expr.png\" style=\"display:inline;vertical-align:middle;\" /></a></td></tr>\n",
       "<tr><td>28</td><td>NamedExprs</td><td>state: 30<br>part: 31<br></td><td><a class=\"ProveItLink\" href=\"../d65f5c2affc0d56f6cd14dfe76fed1dfc2921d710/expr.ipynb\"><img src=\"../d65f5c2affc0d56f6cd14dfe76fed1dfc2921d710/expr.png\" style=\"display:inline;vertical-align:middle;\" /></a></td></tr>\n",
       "<tr><td>29</td><td>Variable</td><td></td><td><a class=\"ProveItLink\" href=\"../../../../../../__pv_it/common/09585084922504426caf1db2ff588a23a0932a960/expr.ipynb\"><img src=\"../../../../../../__pv_it/common/09585084922504426caf1db2ff588a23a0932a960/expr.png\" style=\"display:inline;vertical-align:middle;\" /></a></td></tr>\n",
       "<tr><td>30</td><td>Variable</td><td></td><td><a class=\"ProveItLink\" href=\"../../../../../../__pv_it/common/a9162d1c3cc0470c02e5daf414500903a7a419230/expr.ipynb\"><img src=\"../../../../../../__pv_it/common/a9162d1c3cc0470c02e5daf414500903a7a419230/expr.png\" style=\"display:inline;vertical-align:middle;\" /></a></td></tr>\n",
       "<tr><td>31</td><td>Variable</td><td></td><td><a class=\"ProveItLink\" href=\"../../../../../../__pv_it/common/63b7c64bf9ec7a04ecc396c7a1670f3f12fb59490/expr.ipynb\"><img src=\"../../../../../../__pv_it/common/63b7c64bf9ec7a04ecc396c7a1670f3f12fb59490/expr.png\" style=\"display:inline;vertical-align:middle;\" /></a></td></tr>\n",
       "</table>\n"
      ],
      "text/plain": [
       "0. k -> {forall_{A, B, S | A = B} ([MULTI_QUBIT_ELEM]{element:[INPUT]{state:A, part:k}, targets:S} = [MULTI_QUBIT_ELEM]{element:[INPUT]{state:B, part:k}, targets:S}) if k in NaturalPos.\n",
       "   core type: Lambda\n",
       "   parameter: 31\n",
       "   body: 2\n",
       "1. (k)\n",
       "   core type: ExprTuple\n",
       "   sub-expressions: 31\n",
       "2. {forall_{A, B, S | A = B} ([MULTI_QUBIT_ELEM]{element:[INPUT]{state:A, part:k}, targets:S} = [MULTI_QUBIT_ELEM]{element:[INPUT]{state:B, part:k}, targets:S}) if k in NaturalPos.\n",
       "   core type: Conditional\n",
       "   value: 3\n",
       "   condition: 4\n",
       "3. forall_{A, B, S | A = B} ([MULTI_QUBIT_ELEM]{element:[INPUT]{state:A, part:k}, targets:S} = [MULTI_QUBIT_ELEM]{element:[INPUT]{state:B, part:k}, targets:S})\n",
       "   core type: Operation\n",
       "   operator: 5\n",
       "   operand: 9\n",
       "4. k in NaturalPos\n",
       "   core type: Operation\n",
       "   operator: 7\n",
       "   operands: 8\n",
       "5. forall\n",
       "   core type: Literal\n",
       "   sub-expressions: \n",
       "6. ((A, B, S) -> {[MULTI_QUBIT_ELEM]{element:[INPUT]{state:A, part:k}, targets:S} = [MULTI_QUBIT_ELEM]{element:[INPUT]{state:B, part:k}, targets:S} if A = B.)\n",
       "   core type: ExprTuple\n",
       "   sub-expressions: 9\n",
       "7. in\n",
       "   core type: Literal\n",
       "   sub-expressions: \n",
       "8. (k, NaturalPos)\n",
       "   core type: ExprTuple\n",
       "   sub-expressions: 31, 10\n",
       "9. (A, B, S) -> {[MULTI_QUBIT_ELEM]{element:[INPUT]{state:A, part:k}, targets:S} = [MULTI_QUBIT_ELEM]{element:[INPUT]{state:B, part:k}, targets:S} if A = B.\n",
       "   core type: Lambda\n",
       "   parameters: 11\\n   body: 12\n",
       "10. NaturalPos\n",
       "    core type: Literal\n",
       "    sub-expressions: \n",
       "11. (A, B, S)\n",
       "    core type: ExprTuple\n",
       "    sub-expressions: 29, 30, 25\n",
       "12. {[MULTI_QUBIT_ELEM]{element:[INPUT]{state:A, part:k}, targets:S} = [MULTI_QUBIT_ELEM]{element:[INPUT]{state:B, part:k}, targets:S} if A = B.\n",
       "    core type: Conditional\n",
       "    value: 13\n",
       "    condition: 14\n",
       "13. [MULTI_QUBIT_ELEM]{element:[INPUT]{state:A, part:k}, targets:S} = [MULTI_QUBIT_ELEM]{element:[INPUT]{state:B, part:k}, targets:S}\n",
       "    core type: Operation\n",
       "    operator: 16\n",
       "    operands: 15\n",
       "14. A = B\n",
       "    core type: Operation\n",
       "    operator: 16\n",
       "    operands: 17\n",
       "15. ([MULTI_QUBIT_ELEM]{element:[INPUT]{state:A, part:k}, targets:S}, [MULTI_QUBIT_ELEM]{element:[INPUT]{state:B, part:k}, targets:S})\n",
       "    core type: ExprTuple\n",
       "    sub-expressions: 18, 19\n",
       "16. =\n",
       "    core type: Literal\n",
       "    sub-expressions: \n",
       "17. (A, B)\n",
       "    core type: ExprTuple\n",
       "    sub-expressions: 29, 30\n",
       "18. [MULTI_QUBIT_ELEM]{element:[INPUT]{state:A, part:k}, targets:S}\n",
       "    core type: Operation\n",
       "    operator: 21\n",
       "    operands: 20\n",
       "19. [MULTI_QUBIT_ELEM]{element:[INPUT]{state:B, part:k}, targets:S}\n",
       "    core type: Operation\n",
       "    operator: 21\n",
       "    operands: 22\n",
       "20. {element:[INPUT]{state:A, part:k}, targets:S}\n",
       "    core type: NamedExprs\n",
       "    element: 23\n",
       "    targets: 25\n",
       "21. MULTI_QUBIT_ELEM\n",
       "    core type: Literal\n",
       "    sub-expressions: \n",
       "22. {element:[INPUT]{state:B, part:k}, targets:S}\n",
       "    core type: NamedExprs\n",
       "    element: 24\n",
       "    targets: 25\n",
       "23. [INPUT]{state:A, part:k}\n",
       "    core type: Operation\n",
       "    operator: 27\n",
       "    operands: 26\n",
       "24. [INPUT]{state:B, part:k}\n",
       "    core type: Operation\n",
       "    operator: 27\n",
       "    operands: 28\n",
       "25. S\n",
       "    core type: Variable\n",
       "    sub-expressions: \n",
       "26. {state:A, part:k}\n",
       "    core type: NamedExprs\n",
       "    state: 29\n",
       "    part: 31\n",
       "27. INPUT\n",
       "    core type: Literal\n",
       "    sub-expressions: \n",
       "28. {state:B, part:k}\n",
       "    core type: NamedExprs\n",
       "    state: 30\n",
       "    part: 31\n",
       "29. A\n",
       "    core type: Variable\n",
       "    sub-expressions: \n",
       "30. B\n",
       "    core type: Variable\n",
       "    sub-expressions: \n",
       "31. k\n",
       "    core type: Variable\n",
       "    sub-expressions: "
      ]
     },
     "metadata": {},
     "output_type": "display_data"
    }
   ],
   "source": [
    "# display the expression information\n",
    "stored_expr.expr_info()"
   ]
  },
  {
   "cell_type": "code",
   "execution_count": null,
   "metadata": {},
   "outputs": [],
   "source": []
  }
 ],
 "metadata": {
  "kernelspec": {
   "display_name": "Python 3",
   "language": "python",
   "name": "python3"
  }
 },
 "nbformat": 4,
 "nbformat_minor": 0
}