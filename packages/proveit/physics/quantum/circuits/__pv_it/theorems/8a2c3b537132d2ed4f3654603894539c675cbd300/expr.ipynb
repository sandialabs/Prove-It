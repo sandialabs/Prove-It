{
 "cells": [
  {
   "cell_type": "markdown",
   "metadata": {},
   "source": [
    "Expression of type <a class=\"ProveItLink\" href=\"../../../../../../../../doc/html/api/proveit.VertExprArray.html\">VertExprArray</a>\n",
    "=======================\n",
    "# from the theory of <a class=\"ProveItLink\" href=\"../../../_theory_nbs_/theory.ipynb\">proveit.physics.quantum.circuits</a>"
   ]
  },
  {
   "cell_type": "code",
   "execution_count": 1,
   "metadata": {},
   "outputs": [],
   "source": [
    "import proveit\n",
    "# Automation is not needed when building an expression:\n",
    "proveit.defaults.automation = False # This will speed things up.\n",
    "proveit.defaults.inline_pngs = False # Makes files smaller.\n",
    "%load_expr # Load the stored expression as 'stored_expr'\n",
    "# import Expression classes needed to build the expression\n",
    "from proveit import A, ExprRange, IndexedVar, N, Variable, VertExprArray, m, n\n",
    "from proveit.numbers import Add, Interval, one, subtract\n",
    "from proveit.physics.quantum.circuits import Input, MultiQubitElem"
   ]
  },
  {
   "cell_type": "code",
   "execution_count": 2,
   "metadata": {},
   "outputs": [
    {
     "data": {
      "text/html": [
       "<strong id=\"expr\">expr:</strong> <a class=\"ProveItLink\" href=\"expr.ipynb\"><img src=\"expr.png\" style=\"display:inline;vertical-align:middle;\" /></a><br>"
      ],
      "text/plain": [
       "<IPython.core.display.HTML object>"
      ]
     },
     "metadata": {},
     "output_type": "display_data"
    }
   ],
   "source": [
    "# build up the expression from sub-expressions\n",
    "sub_expr1 = Variable(\"_b\", latex_format = r\"{_{-}b}\")\n",
    "sub_expr2 = Variable(\"_a\", latex_format = r\"{_{-}a}\")\n",
    "expr = VertExprArray([ExprRange(sub_expr1, ExprRange(sub_expr2, MultiQubitElem(element = Input(state = IndexedVar(A, sub_expr1), part = sub_expr2), targets = Interval(Add(IndexedVar(N, subtract(sub_expr1, one)), one), IndexedVar(N, sub_expr1))), one, IndexedVar(n, sub_expr1)).with_wrapping_at(2,6), one, m)])"
   ]
  },
  {
   "cell_type": "code",
   "execution_count": 3,
   "metadata": {},
   "outputs": [
    {
     "name": "stdout",
     "output_type": "stream",
     "text": [
      "Passed sanity check: expr matches stored_expr\n"
     ]
    }
   ],
   "source": [
    "# check that the built expression is the same as the stored expression\n",
    "assert expr == stored_expr\n",
    "assert expr._style_id == stored_expr._style_id\n",
    "print(\"Passed sanity check: expr matches stored_expr\")"
   ]
  },
  {
   "cell_type": "code",
   "execution_count": 4,
   "metadata": {},
   "outputs": [
    {
     "name": "stdout",
     "output_type": "stream",
     "text": [
      "\\begin{array}{c} \n",
      " \\begin{array}{c} \\Qcircuit@C=1em @R=.7em{\n",
      "& \\qin{A_{1}~\\mbox{part}~1~\\mbox{on}~\\{N_{1 - 1} + 1~\\ldotp \\ldotp~N_{1}\\}} & \\qw \n",
      "} \\end{array} \\\\\n",
      "\\begin{array}{c} \\Qcircuit@C=1em @R=.7em{\n",
      "& \\qin{A_{1}~\\mbox{part}~2~\\mbox{on}~\\{N_{1 - 1} + 1~\\ldotp \\ldotp~N_{1}\\}} & \\qw \n",
      "} \\end{array} \\\\\n",
      "\\vdots \\\\\n",
      "\\begin{array}{c} \\Qcircuit@C=1em @R=.7em{\n",
      "& \\qin{A_{1}~\\mbox{part}~n_{1}~\\mbox{on}~\\{N_{1 - 1} + 1~\\ldotp \\ldotp~N_{1}\\}} & \\qw \n",
      "} \\end{array} \\\\\n",
      "\\begin{array}{c} \\Qcircuit@C=1em @R=.7em{\n",
      "& \\qin{A_{2}~\\mbox{part}~1~\\mbox{on}~\\{N_{2 - 1} + 1~\\ldotp \\ldotp~N_{2}\\}} & \\qw \n",
      "} \\end{array} \\\\\n",
      "\\begin{array}{c} \\Qcircuit@C=1em @R=.7em{\n",
      "& \\qin{A_{2}~\\mbox{part}~2~\\mbox{on}~\\{N_{2 - 1} + 1~\\ldotp \\ldotp~N_{2}\\}} & \\qw \n",
      "} \\end{array} \\\\\n",
      "\\vdots \\\\\n",
      "\\begin{array}{c} \\Qcircuit@C=1em @R=.7em{\n",
      "& \\qin{A_{2}~\\mbox{part}~n_{2}~\\mbox{on}~\\{N_{2 - 1} + 1~\\ldotp \\ldotp~N_{2}\\}} & \\qw \n",
      "} \\end{array} \\\\\n",
      "\\begin{array}{c}\\vdots\\\\ \\vdots\\end{array} \\\\\n",
      "\\begin{array}{c} \\Qcircuit@C=1em @R=.7em{\n",
      "& \\qin{A_{m}~\\mbox{part}~1~\\mbox{on}~\\{N_{m - 1} + 1~\\ldotp \\ldotp~N_{m}\\}} & \\qw \n",
      "} \\end{array} \\\\\n",
      "\\begin{array}{c} \\Qcircuit@C=1em @R=.7em{\n",
      "& \\qin{A_{m}~\\mbox{part}~2~\\mbox{on}~\\{N_{m - 1} + 1~\\ldotp \\ldotp~N_{m}\\}} & \\qw \n",
      "} \\end{array} \\\\\n",
      "\\vdots \\\\\n",
      "\\begin{array}{c} \\Qcircuit@C=1em @R=.7em{\n",
      "& \\qin{A_{m}~\\mbox{part}~n_{m}~\\mbox{on}~\\{N_{m - 1} + 1~\\ldotp \\ldotp~N_{m}\\}} & \\qw \n",
      "} \\end{array} \\\\\n",
      "\\end{array}\n",
      "\n"
     ]
    }
   ],
   "source": [
    "# Show the LaTeX representation of the expression for convenience if you need it.\n",
    "print(stored_expr.latex())"
   ]
  },
  {
   "cell_type": "code",
   "execution_count": 5,
   "metadata": {},
   "outputs": [
    {
     "data": {
      "text/html": [
       "<table>\n",
       "<tr><th>name</th><th>description</th><th>default</th><th>current value</th><th>related methods</th></tr><tr><td>justification</td><td>justify to the 'left', 'center', or 'right' in the array cells</td><td>center</td><td>center</td><td>with_justification</td></tr>\n",
       "</table>\n"
      ],
      "text/plain": [
       "style name: justification\n",
       "description: justify to the 'left', 'center', or 'right' in the array cells\n",
       "default: center\n",
       "current value: center\n",
       "related methods: with_justification"
      ]
     },
     "metadata": {},
     "output_type": "display_data"
    }
   ],
   "source": [
    "stored_expr.style_options()"
   ]
  },
  {
   "cell_type": "code",
   "execution_count": 6,
   "metadata": {},
   "outputs": [
    {
     "data": {
      "text/html": [
       "<table><tr><th>&nbsp;</th><th>core type</th><th>sub-expressions</th><th>expression</th></tr>\n",
       "<tr><td>0</td><td>ExprTuple</td><td>1</td><td><a class=\"ProveItLink\" href=\"expr.ipynb\"><img src=\"expr.png\" style=\"display:inline;vertical-align:middle;\" /></a></td></tr>\n",
       "<tr><td>1</td><td>ExprTuple</td><td>2</td><td><a class=\"ProveItLink\" href=\"../4d4a1ac1128c74a9c859e9185f86aacf6efd0ca50/expr.ipynb\"><img src=\"../4d4a1ac1128c74a9c859e9185f86aacf6efd0ca50/expr.png\" style=\"display:inline;vertical-align:middle;\" /></a></td></tr>\n",
       "<tr><td>2</td><td>ExprRange</td><td>lambda_map:&nbsp;3<br>start_index:&nbsp;36<br>end_index:&nbsp;4<br></td><td><a class=\"ProveItLink\" href=\"../a06268748bf115e5cd0c76087b271368074479540/expr.ipynb\"><img src=\"../a06268748bf115e5cd0c76087b271368074479540/expr.png\" style=\"display:inline;vertical-align:middle;\" /></a></td></tr>\n",
       "<tr><td>3</td><td>Lambda</td><td>parameter:&nbsp;32<br>body:&nbsp;5<br></td><td><a class=\"ProveItLink\" href=\"../abd4e7c41d4968cf953ba3f9ee8727449cc026b80/expr.ipynb\"><img src=\"../abd4e7c41d4968cf953ba3f9ee8727449cc026b80/expr.png\" style=\"display:inline;vertical-align:middle;\" /></a></td></tr>\n",
       "<tr><td>4</td><td>Variable</td><td></td><td><a class=\"ProveItLink\" href=\"../../../../../../__pv_it/common/674a03b9c3ca221b3aabd5636837b31528ff33830/expr.ipynb\"><img src=\"../../../../../../__pv_it/common/674a03b9c3ca221b3aabd5636837b31528ff33830/expr.png\" style=\"display:inline;vertical-align:middle;\" /></a></td></tr>\n",
       "<tr><td>5</td><td>ExprRange</td><td>lambda_map:&nbsp;6<br>start_index:&nbsp;36<br>end_index:&nbsp;7<br></td><td><a class=\"ProveItLink\" href=\"../a9a74abde555adfdf8f4a64ac610bd223162626d0/expr.ipynb\"><img src=\"../a9a74abde555adfdf8f4a64ac610bd223162626d0/expr.png\" style=\"display:inline;vertical-align:middle;\" /></a></td></tr>\n",
       "<tr><td>6</td><td>Lambda</td><td>parameter:&nbsp;20<br>body:&nbsp;9<br></td><td><a class=\"ProveItLink\" href=\"../706b42ad1abdee452f2ca3d660824834d344b0960/expr.ipynb\"><img src=\"../706b42ad1abdee452f2ca3d660824834d344b0960/expr.png\" style=\"display:inline;vertical-align:middle;\" /></a></td></tr>\n",
       "<tr><td>7</td><td>IndexedVar</td><td>variable:&nbsp;10<br>index:&nbsp;32<br></td><td><a class=\"ProveItLink\" href=\"../75d8783e56abefb2a252bbb19a090de2e2ffc54d0/expr.ipynb\"><img src=\"../75d8783e56abefb2a252bbb19a090de2e2ffc54d0/expr.png\" style=\"display:inline;vertical-align:middle;\" /></a></td></tr>\n",
       "<tr><td>8</td><td>ExprTuple</td><td>20</td><td><a class=\"ProveItLink\" href=\"../../../../../../core_expr_types/__pv_it/common/4b0dd6be36d76552eda6a95d5b4a27f5a5b62f900/expr.ipynb\"><img src=\"../../../../../../core_expr_types/__pv_it/common/4b0dd6be36d76552eda6a95d5b4a27f5a5b62f900/expr.png\" style=\"display:inline;vertical-align:middle;\" /></a></td></tr>\n",
       "<tr><td>9</td><td>Operation</td><td>operator:&nbsp;11<br>operands:&nbsp;12<br></td><td><a class=\"ProveItLink\" href=\"../e1a26b2434b78e2e9d46c10a190669539cbbcf7c0/expr.ipynb\"><img src=\"../e1a26b2434b78e2e9d46c10a190669539cbbcf7c0/expr.png\" style=\"display:inline;vertical-align:middle;\" /></a></td></tr>\n",
       "<tr><td>10</td><td>Variable</td><td></td><td><a class=\"ProveItLink\" href=\"../../../../../../__pv_it/common/8968bb04eb3f7dfa02353397ce929b025bbd79c20/expr.ipynb\"><img src=\"../../../../../../__pv_it/common/8968bb04eb3f7dfa02353397ce929b025bbd79c20/expr.png\" style=\"display:inline;vertical-align:middle;\" /></a></td></tr>\n",
       "<tr><td>11</td><td>Literal</td><td></td><td><a class=\"ProveItLink\" href=\"../../common/5eaa43008f05c06941080a12337ff182ea14996e0/expr.ipynb\"><img src=\"../../common/5eaa43008f05c06941080a12337ff182ea14996e0/expr.png\" style=\"display:inline;vertical-align:middle;\" /></a></td></tr>\n",
       "<tr><td>12</td><td>NamedExprs</td><td>element: 13<br>targets: 14<br></td><td><a class=\"ProveItLink\" href=\"../8fa1c234b660290be31b0dbaff993affd3826b6a0/expr.ipynb\"><img src=\"../8fa1c234b660290be31b0dbaff993affd3826b6a0/expr.png\" style=\"display:inline;vertical-align:middle;\" /></a></td></tr>\n",
       "<tr><td>13</td><td>Operation</td><td>operator:&nbsp;15<br>operands:&nbsp;16<br></td><td><a class=\"ProveItLink\" href=\"../f895b250e19642899ac6c39b88608fd5b0399c790/expr.ipynb\"><img src=\"../f895b250e19642899ac6c39b88608fd5b0399c790/expr.png\" style=\"display:inline;vertical-align:middle;\" /></a></td></tr>\n",
       "<tr><td>14</td><td>Operation</td><td>operator:&nbsp;17<br>operands:&nbsp;18<br></td><td><a class=\"ProveItLink\" href=\"../ea8faf3b868319a4f323dbd0347fc2ea2e7d29f30/expr.ipynb\"><img src=\"../ea8faf3b868319a4f323dbd0347fc2ea2e7d29f30/expr.png\" style=\"display:inline;vertical-align:middle;\" /></a></td></tr>\n",
       "<tr><td>15</td><td>Literal</td><td></td><td><a class=\"ProveItLink\" href=\"../../common/deea8715ce6701df08bbe1d049112a0bad4965c20/expr.ipynb\"><img src=\"../../common/deea8715ce6701df08bbe1d049112a0bad4965c20/expr.png\" style=\"display:inline;vertical-align:middle;\" /></a></td></tr>\n",
       "<tr><td>16</td><td>NamedExprs</td><td>state: 19<br>part: 20<br></td><td><a class=\"ProveItLink\" href=\"../d5db41322d898db2c78485c2988013b1cad4ea1e0/expr.ipynb\"><img src=\"../d5db41322d898db2c78485c2988013b1cad4ea1e0/expr.png\" style=\"display:inline;vertical-align:middle;\" /></a></td></tr>\n",
       "<tr><td>17</td><td>Literal</td><td></td><td><a class=\"ProveItLink\" href=\"../../../../../../numbers/number_sets/integers/__pv_it/common/92f3a0a77e3c3ea8e4a5c8674edadc54e4f57d550/expr.ipynb\"><img src=\"../../../../../../numbers/number_sets/integers/__pv_it/common/92f3a0a77e3c3ea8e4a5c8674edadc54e4f57d550/expr.png\" style=\"display:inline;vertical-align:middle;\" /></a></td></tr>\n",
       "<tr><td>18</td><td>ExprTuple</td><td>21, 22</td><td><a class=\"ProveItLink\" href=\"../deb14b2f4dea9618aa2afed3b5f5da919788486b0/expr.ipynb\"><img src=\"../deb14b2f4dea9618aa2afed3b5f5da919788486b0/expr.png\" style=\"display:inline;vertical-align:middle;\" /></a></td></tr>\n",
       "<tr><td>19</td><td>IndexedVar</td><td>variable:&nbsp;23<br>index:&nbsp;32<br></td><td><a class=\"ProveItLink\" href=\"../ad23d0591dbc2d948d434f2f49ac0010b0a1f6fa0/expr.ipynb\"><img src=\"../ad23d0591dbc2d948d434f2f49ac0010b0a1f6fa0/expr.png\" style=\"display:inline;vertical-align:middle;\" /></a></td></tr>\n",
       "<tr><td>20</td><td>Variable</td><td></td><td><a class=\"ProveItLink\" href=\"../../../../../../core_expr_types/__pv_it/common/006c465e50948aa2b52285e2de47974f741255cc0/expr.ipynb\"><img src=\"../../../../../../core_expr_types/__pv_it/common/006c465e50948aa2b52285e2de47974f741255cc0/expr.png\" style=\"display:inline;vertical-align:middle;\" /></a></td></tr>\n",
       "<tr><td>21</td><td>Operation</td><td>operator:&nbsp;30<br>operands:&nbsp;24<br></td><td><a class=\"ProveItLink\" href=\"../8269149504e2efb6e45190985056c2c7071f5ef60/expr.ipynb\"><img src=\"../8269149504e2efb6e45190985056c2c7071f5ef60/expr.png\" style=\"display:inline;vertical-align:middle;\" /></a></td></tr>\n",
       "<tr><td>22</td><td>IndexedVar</td><td>variable:&nbsp;27<br>index:&nbsp;32<br></td><td><a class=\"ProveItLink\" href=\"../f7fd2d0ebb10622ace70e4a0629ec7961186e16e0/expr.ipynb\"><img src=\"../f7fd2d0ebb10622ace70e4a0629ec7961186e16e0/expr.png\" style=\"display:inline;vertical-align:middle;\" /></a></td></tr>\n",
       "<tr><td>23</td><td>Variable</td><td></td><td><a class=\"ProveItLink\" href=\"../../../../../../__pv_it/common/09585084922504426caf1db2ff588a23a0932a960/expr.ipynb\"><img src=\"../../../../../../__pv_it/common/09585084922504426caf1db2ff588a23a0932a960/expr.png\" style=\"display:inline;vertical-align:middle;\" /></a></td></tr>\n",
       "<tr><td>24</td><td>ExprTuple</td><td>26, 36</td><td><a class=\"ProveItLink\" href=\"../abc0a90ccb4060616f43e27ec48bc39fd5bd263a0/expr.ipynb\"><img src=\"../abc0a90ccb4060616f43e27ec48bc39fd5bd263a0/expr.png\" style=\"display:inline;vertical-align:middle;\" /></a></td></tr>\n",
       "<tr><td>25</td><td>ExprTuple</td><td>32</td><td><a class=\"ProveItLink\" href=\"../../../../../../core_expr_types/expr_arrays/__pv_it/common/18f7318b68e45ff8356043b6e71619fa8450fb200/expr.ipynb\"><img src=\"../../../../../../core_expr_types/expr_arrays/__pv_it/common/18f7318b68e45ff8356043b6e71619fa8450fb200/expr.png\" style=\"display:inline;vertical-align:middle;\" /></a></td></tr>\n",
       "<tr><td>26</td><td>IndexedVar</td><td>variable:&nbsp;27<br>index:&nbsp;29<br></td><td><a class=\"ProveItLink\" href=\"../482c59e0327a44a77b9c8fd86f9333b899e173600/expr.ipynb\"><img src=\"../482c59e0327a44a77b9c8fd86f9333b899e173600/expr.png\" style=\"display:inline;vertical-align:middle;\" /></a></td></tr>\n",
       "<tr><td>27</td><td>Variable</td><td></td><td><a class=\"ProveItLink\" href=\"../../../../../../__pv_it/common/ec2f9d003f907f9688d46f19f6df289e52cc63ce0/expr.ipynb\"><img src=\"../../../../../../__pv_it/common/ec2f9d003f907f9688d46f19f6df289e52cc63ce0/expr.png\" style=\"display:inline;vertical-align:middle;\" /></a></td></tr>\n",
       "<tr><td>28</td><td>ExprTuple</td><td>29</td><td><a class=\"ProveItLink\" href=\"../bbf049c6d00084788fab535e17e121663c79ff8c0/expr.ipynb\"><img src=\"../bbf049c6d00084788fab535e17e121663c79ff8c0/expr.png\" style=\"display:inline;vertical-align:middle;\" /></a></td></tr>\n",
       "<tr><td>29</td><td>Operation</td><td>operator:&nbsp;30<br>operands:&nbsp;31<br></td><td><a class=\"ProveItLink\" href=\"../63fdcc2888efa5a50c2bc63583039690994b93850/expr.ipynb\"><img src=\"../63fdcc2888efa5a50c2bc63583039690994b93850/expr.png\" style=\"display:inline;vertical-align:middle;\" /></a></td></tr>\n",
       "<tr><td>30</td><td>Literal</td><td></td><td><a class=\"ProveItLink\" href=\"../../../../../../numbers/addition/__pv_it/common/4b7effaab3619a1c2c38fe2dee8601df8ec714590/expr.ipynb\"><img src=\"../../../../../../numbers/addition/__pv_it/common/4b7effaab3619a1c2c38fe2dee8601df8ec714590/expr.png\" style=\"display:inline;vertical-align:middle;\" /></a></td></tr>\n",
       "<tr><td>31</td><td>ExprTuple</td><td>32, 33</td><td><a class=\"ProveItLink\" href=\"../78843e36d27ede38d3b74e4110e805b0517e38f30/expr.ipynb\"><img src=\"../78843e36d27ede38d3b74e4110e805b0517e38f30/expr.png\" style=\"display:inline;vertical-align:middle;\" /></a></td></tr>\n",
       "<tr><td>32</td><td>Variable</td><td></td><td><a class=\"ProveItLink\" href=\"../../../../../../core_expr_types/expr_arrays/__pv_it/common/9a18d67b443cf8d92289c655ed91ec78766170a90/expr.ipynb\"><img src=\"../../../../../../core_expr_types/expr_arrays/__pv_it/common/9a18d67b443cf8d92289c655ed91ec78766170a90/expr.png\" style=\"display:inline;vertical-align:middle;\" /></a></td></tr>\n",
       "<tr><td>33</td><td>Operation</td><td>operator:&nbsp;34<br>operand:&nbsp;36<br></td><td><a class=\"ProveItLink\" href=\"../../../../__pv_it/common/bf4beda21975fe8a0a5007615b5bcc943da59bb20/expr.ipynb\"><img src=\"../../../../__pv_it/common/bf4beda21975fe8a0a5007615b5bcc943da59bb20/expr.png\" style=\"display:inline;vertical-align:middle;\" /></a></td></tr>\n",
       "<tr><td>34</td><td>Literal</td><td></td><td><a class=\"ProveItLink\" href=\"../../../../../../numbers/negation/__pv_it/common/221b3c4d1770ee9051b7c044c3f9ec61196fc34b0/expr.ipynb\"><img src=\"../../../../../../numbers/negation/__pv_it/common/221b3c4d1770ee9051b7c044c3f9ec61196fc34b0/expr.png\" style=\"display:inline;vertical-align:middle;\" /></a></td></tr>\n",
       "<tr><td>35</td><td>ExprTuple</td><td>36</td><td><a class=\"ProveItLink\" href=\"../../../../__pv_it/common/b9e4f0dffece176bbe2f36127440684a20e0468e0/expr.ipynb\"><img src=\"../../../../__pv_it/common/b9e4f0dffece176bbe2f36127440684a20e0468e0/expr.png\" style=\"display:inline;vertical-align:middle;\" /></a></td></tr>\n",
       "<tr><td>36</td><td>Literal</td><td></td><td><a class=\"ProveItLink\" href=\"../../../../../../numbers/numerals/__pv_it/common/682157d4892d216d9e5626ed533aff9b56b9506e0/expr.ipynb\"><img src=\"../../../../../../numbers/numerals/__pv_it/common/682157d4892d216d9e5626ed533aff9b56b9506e0/expr.png\" style=\"display:inline;vertical-align:middle;\" /></a></td></tr>\n",
       "</table>\n"
      ],
      "text/plain": [
       "0. VertExprArray(([MULTI_QUBIT_ELEM]{element:[INPUT]{state:A_{1}, part:1}, targets:{N_{1 - 1} + 1 .. N_{1}}}, [MULTI_QUBIT_ELEM]{element:[INPUT]{state:A_{1}, part:2}, targets:{N_{1 - 1} + 1 .. N_{1}}}, ..., [MULTI_QUBIT_ELEM]{element:[INPUT]{state:A_{1}, part:n_{1}}, targets:{N_{1 - 1} + 1 .. N_{1}}}, [MULTI_QUBIT_ELEM]{element:[INPUT]{state:A_{2}, part:1}, targets:{N_{2 - 1} + 1 .. N_{2}}}, [MULTI_QUBIT_ELEM]{element:[INPUT]{state:A_{2}, part:2}, targets:{N_{2 - 1} + 1 .. N_{2}}}, ..., [MULTI_QUBIT_ELEM]{element:[INPUT]{state:A_{2}, part:n_{2}}, targets:{N_{2 - 1} + 1 .. N_{2}}}, ......, [MULTI_QUBIT_ELEM]{element:[INPUT]{state:A_{m}, part:1}, targets:{N_{m - 1} + 1 .. N_{m}}}, [MULTI_QUBIT_ELEM]{element:[INPUT]{state:A_{m}, part:2}, targets:{N_{m - 1} + 1 .. N_{m}}}, ..., [MULTI_QUBIT_ELEM]{element:[INPUT]{state:A_{m}, part:n_{m}}, targets:{N_{m - 1} + 1 .. N_{m}}}))\n",
       "   core type: ExprTuple\n",
       "   sub-expressions: 1\n",
       "1. ([MULTI_QUBIT_ELEM]{element:[INPUT]{state:A_{1}, part:1}, targets:{N_{1 - 1} + 1 .. N_{1}}}, [MULTI_QUBIT_ELEM]{element:[INPUT]{state:A_{1}, part:2}, targets:{N_{1 - 1} + 1 .. N_{1}}}, ..., [MULTI_QUBIT_ELEM]{element:[INPUT]{state:A_{1}, part:n_{1}}, targets:{N_{1 - 1} + 1 .. N_{1}}}, [MULTI_QUBIT_ELEM]{element:[INPUT]{state:A_{2}, part:1}, targets:{N_{2 - 1} + 1 .. N_{2}}}, [MULTI_QUBIT_ELEM]{element:[INPUT]{state:A_{2}, part:2}, targets:{N_{2 - 1} + 1 .. N_{2}}}, ..., [MULTI_QUBIT_ELEM]{element:[INPUT]{state:A_{2}, part:n_{2}}, targets:{N_{2 - 1} + 1 .. N_{2}}}, ......, [MULTI_QUBIT_ELEM]{element:[INPUT]{state:A_{m}, part:1}, targets:{N_{m - 1} + 1 .. N_{m}}}, [MULTI_QUBIT_ELEM]{element:[INPUT]{state:A_{m}, part:2}, targets:{N_{m - 1} + 1 .. N_{m}}}, ..., [MULTI_QUBIT_ELEM]{element:[INPUT]{state:A_{m}, part:n_{m}}, targets:{N_{m - 1} + 1 .. N_{m}}})\n",
       "   core type: ExprTuple\n",
       "   sub-expressions: 2\n",
       "2. [MULTI_QUBIT_ELEM]{element:[INPUT]{state:A_{1}, part:1}, targets:{N_{1 - 1} + 1 .. N_{1}}}, [MULTI_QUBIT_ELEM]{element:[INPUT]{state:A_{1}, part:2}, targets:{N_{1 - 1} + 1 .. N_{1}}}, ..., [MULTI_QUBIT_ELEM]{element:[INPUT]{state:A_{1}, part:n_{1}}, targets:{N_{1 - 1} + 1 .. N_{1}}}, [MULTI_QUBIT_ELEM]{element:[INPUT]{state:A_{2}, part:1}, targets:{N_{2 - 1} + 1 .. N_{2}}}, [MULTI_QUBIT_ELEM]{element:[INPUT]{state:A_{2}, part:2}, targets:{N_{2 - 1} + 1 .. N_{2}}}, ..., [MULTI_QUBIT_ELEM]{element:[INPUT]{state:A_{2}, part:n_{2}}, targets:{N_{2 - 1} + 1 .. N_{2}}}, ......, [MULTI_QUBIT_ELEM]{element:[INPUT]{state:A_{m}, part:1}, targets:{N_{m - 1} + 1 .. N_{m}}}, [MULTI_QUBIT_ELEM]{element:[INPUT]{state:A_{m}, part:2}, targets:{N_{m - 1} + 1 .. N_{m}}}, ..., [MULTI_QUBIT_ELEM]{element:[INPUT]{state:A_{m}, part:n_{m}}, targets:{N_{m - 1} + 1 .. N_{m}}}\n",
       "   core type: ExprRange\n",
       "   lambda_map: 3\n",
       "   start_index: 36\n",
       "   end_index: 4\n",
       "3. _b -> [MULTI_QUBIT_ELEM]{element:[INPUT]{state:A_{_b}, part:1}, targets:{N_{_b - 1} + 1 .. N_{_b}}},  \\\\ [MULTI_QUBIT_ELEM]{element:[INPUT]{state:A_{_b}, part:2}, targets:{N_{_b - 1} + 1 .. N_{_b}}}, ...,  \\\\ [MULTI_QUBIT_ELEM]{element:[INPUT]{state:A_{_b}, part:n_{_b}}, targets:{N_{_b - 1} + 1 .. N_{_b}}}\n",
       "   core type: Lambda\n",
       "   parameter: 32\n",
       "   body: 5\n",
       "4. m\n",
       "   core type: Variable\n",
       "   sub-expressions: \n",
       "5. [MULTI_QUBIT_ELEM]{element:[INPUT]{state:A_{_b}, part:1}, targets:{N_{_b - 1} + 1 .. N_{_b}}},  \\\\ [MULTI_QUBIT_ELEM]{element:[INPUT]{state:A_{_b}, part:2}, targets:{N_{_b - 1} + 1 .. N_{_b}}}, ...,  \\\\ [MULTI_QUBIT_ELEM]{element:[INPUT]{state:A_{_b}, part:n_{_b}}, targets:{N_{_b - 1} + 1 .. N_{_b}}}\n",
       "   core type: ExprRange\n",
       "   lambda_map: 6\n",
       "   start_index: 36\n",
       "   end_index: 7\n",
       "6. _a -> [MULTI_QUBIT_ELEM]{element:[INPUT]{state:A_{_b}, part:_a}, targets:{N_{_b - 1} + 1 .. N_{_b}}}\n",
       "   core type: Lambda\n",
       "   parameter: 20\n",
       "   body: 9\n",
       "7. n_{_b}\n",
       "   core type: IndexedVar\n",
       "variable: 10\n",
       "index: 32\n",
       "8. (_a)\n",
       "   core type: ExprTuple\n",
       "   sub-expressions: 20\n",
       "9. [MULTI_QUBIT_ELEM]{element:[INPUT]{state:A_{_b}, part:_a}, targets:{N_{_b - 1} + 1 .. N_{_b}}}\n",
       "   core type: Operation\n",
       "   operator: 11\n",
       "   operands: 12\n",
       "10. n\n",
       "    core type: Variable\n",
       "    sub-expressions: \n",
       "11. MULTI_QUBIT_ELEM\n",
       "    core type: Literal\n",
       "    sub-expressions: \n",
       "12. {element:[INPUT]{state:A_{_b}, part:_a}, targets:{N_{_b - 1} + 1 .. N_{_b}}}\n",
       "    core type: NamedExprs\n",
       "    element: 13\n",
       "    targets: 14\n",
       "13. [INPUT]{state:A_{_b}, part:_a}\n",
       "    core type: Operation\n",
       "    operator: 15\n",
       "    operands: 16\n",
       "14. {N_{_b - 1} + 1 .. N_{_b}}\n",
       "    core type: Operation\n",
       "    operator: 17\n",
       "    operands: 18\n",
       "15. INPUT\n",
       "    core type: Literal\n",
       "    sub-expressions: \n",
       "16. {state:A_{_b}, part:_a}\n",
       "    core type: NamedExprs\n",
       "    state: 19\n",
       "    part: 20\n",
       "17. Interval\n",
       "    core type: Literal\n",
       "    sub-expressions: \n",
       "18. (N_{_b - 1} + 1, N_{_b})\n",
       "    core type: ExprTuple\n",
       "    sub-expressions: 21, 22\n",
       "19. A_{_b}\n",
       "    core type: IndexedVar\n",
       "variable: 23\n",
       "index: 32\n",
       "20. _a\n",
       "    core type: Variable\n",
       "    sub-expressions: \n",
       "21. N_{_b - 1} + 1\n",
       "    core type: Operation\n",
       "    operator: 30\n",
       "    operands: 24\n",
       "22. N_{_b}\n",
       "    core type: IndexedVar\n",
       "variable: 27\n",
       "index: 32\n",
       "23. A\n",
       "    core type: Variable\n",
       "    sub-expressions: \n",
       "24. (N_{_b - 1}, 1)\n",
       "    core type: ExprTuple\n",
       "    sub-expressions: 26, 36\n",
       "25. (_b)\n",
       "    core type: ExprTuple\n",
       "    sub-expressions: 32\n",
       "26. N_{_b - 1}\n",
       "    core type: IndexedVar\n",
       "variable: 27\n",
       "index: 29\n",
       "27. N\n",
       "    core type: Variable\n",
       "    sub-expressions: \n",
       "28. (_b - 1)\n",
       "    core type: ExprTuple\n",
       "    sub-expressions: 29\n",
       "29. _b - 1\n",
       "    core type: Operation\n",
       "    operator: 30\n",
       "    operands: 31\n",
       "30. +\n",
       "    core type: Literal\n",
       "    sub-expressions: \n",
       "31. (_b, -1)\n",
       "    core type: ExprTuple\n",
       "    sub-expressions: 32, 33\n",
       "32. _b\n",
       "    core type: Variable\n",
       "    sub-expressions: \n",
       "33. -1\n",
       "    core type: Operation\n",
       "    operator: 34\n",
       "    operand: 36\n",
       "34. -\n",
       "    core type: Literal\n",
       "    sub-expressions: \n",
       "35. (1)\n",
       "    core type: ExprTuple\n",
       "    sub-expressions: 36\n",
       "36. 1\n",
       "    core type: Literal\n",
       "    sub-expressions: "
      ]
     },
     "metadata": {},
     "output_type": "display_data"
    }
   ],
   "source": [
    "# display the expression information\n",
    "stored_expr.expr_info()"
   ]
  },
  {
   "cell_type": "code",
   "execution_count": null,
   "metadata": {},
   "outputs": [],
   "source": []
  }
 ],
 "metadata": {
  "kernelspec": {
   "display_name": "Python 3",
   "language": "python",
   "name": "python3"
  }
 },
 "nbformat": 4,
 "nbformat_minor": 0
}