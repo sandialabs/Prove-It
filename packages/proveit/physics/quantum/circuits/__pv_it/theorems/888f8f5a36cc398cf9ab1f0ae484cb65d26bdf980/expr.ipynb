{
 "cells": [
  {
   "cell_type": "markdown",
   "metadata": {},
   "source": [
    "Expression of type <a class=\"ProveItLink\" href=\"../../../../../../../../doc/html/api/proveit.Lambda.html\">Lambda</a>\n",
    "=======================\n",
    "# from the theory of <a class=\"ProveItLink\" href=\"../../../_theory_nbs_/theory.ipynb\">proveit.physics.quantum.circuits</a>"
   ]
  },
  {
   "cell_type": "code",
   "execution_count": 1,
   "metadata": {},
   "outputs": [],
   "source": [
    "import proveit\n",
    "# Automation is not needed when building an expression:\n",
    "proveit.defaults.automation = False # This will speed things up.\n",
    "proveit.defaults.inline_pngs = False # Makes files smaller.\n",
    "%load_expr # Load the stored expression as 'stored_expr'\n",
    "# import Expression classes needed to build the expression\n",
    "from proveit import A, B, Function, Lambda, Q\n",
    "from proveit.logic import Forall\n",
    "from proveit.physics.quantum.circuits import QcircuitEquiv\n",
    "from proveit.statistics import Prob"
   ]
  },
  {
   "cell_type": "code",
   "execution_count": 2,
   "metadata": {},
   "outputs": [
    {
     "data": {
      "text/html": [
       "<strong id=\"expr\">expr:</strong> <a class=\"ProveItLink\" href=\"expr.ipynb\"><img src=\"expr.png\" style=\"display:inline;vertical-align:middle;\" /></a><br>"
      ],
      "text/plain": [
       "<IPython.core.display.HTML object>"
      ]
     },
     "metadata": {},
     "output_type": "display_data"
    }
   ],
   "source": [
    "# build up the expression from sub-expressions\n",
    "expr = Lambda(Q, Forall(instance_param_or_params = [A, B], instance_expr = Function(Q, [Prob(A)]), conditions = [Function(Q, [Prob(B)]), QcircuitEquiv(A, B)]))"
   ]
  },
  {
   "cell_type": "code",
   "execution_count": 3,
   "metadata": {},
   "outputs": [
    {
     "name": "stdout",
     "output_type": "stream",
     "text": [
      "Passed sanity check: expr matches stored_expr\n"
     ]
    }
   ],
   "source": [
    "# check that the built expression is the same as the stored expression\n",
    "assert expr == stored_expr\n",
    "assert expr._style_id == stored_expr._style_id\n",
    "print(\"Passed sanity check: expr matches stored_expr\")"
   ]
  },
  {
   "cell_type": "code",
   "execution_count": 4,
   "metadata": {},
   "outputs": [
    {
     "name": "stdout",
     "output_type": "stream",
     "text": [
      "Q \\mapsto \\left[\\forall_{A, B~|~Q\\left(\\textrm{Pr}\\left(B\\right)\\right), A \\cong B}~Q\\left(\\textrm{Pr}\\left(A\\right)\\right)\\right]\n"
     ]
    }
   ],
   "source": [
    "# Show the LaTeX representation of the expression for convenience if you need it.\n",
    "print(stored_expr.latex())"
   ]
  },
  {
   "cell_type": "code",
   "execution_count": 5,
   "metadata": {},
   "outputs": [
    {
     "data": {
      "text/html": [
       "no style options"
      ],
      "text/plain": [
       "no style options"
      ]
     },
     "metadata": {},
     "output_type": "display_data"
    }
   ],
   "source": [
    "stored_expr.style_options()"
   ]
  },
  {
   "cell_type": "code",
   "execution_count": 6,
   "metadata": {},
   "outputs": [
    {
     "data": {
      "text/html": [
       "<table><tr><th>&nbsp;</th><th>core type</th><th>sub-expressions</th><th>expression</th></tr>\n",
       "<tr><td>0</td><td>Lambda</td><td>parameter:&nbsp;16<br>body:&nbsp;2<br></td><td><a class=\"ProveItLink\" href=\"expr.ipynb\"><img src=\"expr.png\" style=\"display:inline;vertical-align:middle;\" /></a></td></tr>\n",
       "<tr><td>1</td><td>ExprTuple</td><td>16</td><td><a class=\"ProveItLink\" href=\"../92b02aec7909c43346a0a1172b5a3a4974653fc70/expr.ipynb\"><img src=\"../92b02aec7909c43346a0a1172b5a3a4974653fc70/expr.png\" style=\"display:inline;vertical-align:middle;\" /></a></td></tr>\n",
       "<tr><td>2</td><td>Operation</td><td>operator:&nbsp;3<br>operand:&nbsp;5<br></td><td><a class=\"ProveItLink\" href=\"../ea0e8c2603eefa7ed6003f20e913cbefbee8b6aa0/expr.ipynb\"><img src=\"../ea0e8c2603eefa7ed6003f20e913cbefbee8b6aa0/expr.png\" style=\"display:inline;vertical-align:middle;\" /></a></td></tr>\n",
       "<tr><td>3</td><td>Literal</td><td></td><td><a class=\"ProveItLink\" href=\"../../../../../../logic/booleans/quantification/universality/__pv_it/common/083d2baa0b8ecab1d230f9ec29a15aa1355809fb0/expr.ipynb\"><img src=\"../../../../../../logic/booleans/quantification/universality/__pv_it/common/083d2baa0b8ecab1d230f9ec29a15aa1355809fb0/expr.png\" style=\"display:inline;vertical-align:middle;\" /></a></td></tr>\n",
       "<tr><td>4</td><td>ExprTuple</td><td>5</td><td><a class=\"ProveItLink\" href=\"../800e44739a064c1012e63eb619e1f03508092bcc0/expr.ipynb\"><img src=\"../800e44739a064c1012e63eb619e1f03508092bcc0/expr.png\" style=\"display:inline;vertical-align:middle;\" /></a></td></tr>\n",
       "<tr><td>5</td><td>Lambda</td><td>parameters:&nbsp;19<br>body:&nbsp;6<br></td><td><a class=\"ProveItLink\" href=\"../090162deffbd95df9202768eb4bbf6e779e28a250/expr.ipynb\"><img src=\"../090162deffbd95df9202768eb4bbf6e779e28a250/expr.png\" style=\"display:inline;vertical-align:middle;\" /></a></td></tr>\n",
       "<tr><td>6</td><td>Conditional</td><td>value:&nbsp;7<br>condition:&nbsp;8<br></td><td><a class=\"ProveItLink\" href=\"../ffcfd61d99bddc25f90755731bbab1be1465b5630/expr.ipynb\"><img src=\"../ffcfd61d99bddc25f90755731bbab1be1465b5630/expr.png\" style=\"display:inline;vertical-align:middle;\" /></a></td></tr>\n",
       "<tr><td>7</td><td>Operation</td><td>operator:&nbsp;16<br>operand:&nbsp;12<br></td><td><a class=\"ProveItLink\" href=\"../5f978268d9740d4eb162621b27193f3718047bdc0/expr.ipynb\"><img src=\"../5f978268d9740d4eb162621b27193f3718047bdc0/expr.png\" style=\"display:inline;vertical-align:middle;\" /></a></td></tr>\n",
       "<tr><td>8</td><td>Operation</td><td>operator:&nbsp;10<br>operands:&nbsp;11<br></td><td><a class=\"ProveItLink\" href=\"../caec07e6e05991a2e48073040cc5563f63c7e4190/expr.ipynb\"><img src=\"../caec07e6e05991a2e48073040cc5563f63c7e4190/expr.png\" style=\"display:inline;vertical-align:middle;\" /></a></td></tr>\n",
       "<tr><td>9</td><td>ExprTuple</td><td>12</td><td><a class=\"ProveItLink\" href=\"../f47c0441b552d5b12c1ac1d0e3394ec9bdd7d9360/expr.ipynb\"><img src=\"../f47c0441b552d5b12c1ac1d0e3394ec9bdd7d9360/expr.png\" style=\"display:inline;vertical-align:middle;\" /></a></td></tr>\n",
       "<tr><td>10</td><td>Literal</td><td></td><td><a class=\"ProveItLink\" href=\"../../../../../../logic/booleans/conjunction/__pv_it/common/42118ff318bd65d98b1393f64ce7c2269feef76e0/expr.ipynb\"><img src=\"../../../../../../logic/booleans/conjunction/__pv_it/common/42118ff318bd65d98b1393f64ce7c2269feef76e0/expr.png\" style=\"display:inline;vertical-align:middle;\" /></a></td></tr>\n",
       "<tr><td>11</td><td>ExprTuple</td><td>13, 14</td><td><a class=\"ProveItLink\" href=\"../d717394c2632b9ea078de7c9818e746bc07ab9310/expr.ipynb\"><img src=\"../d717394c2632b9ea078de7c9818e746bc07ab9310/expr.png\" style=\"display:inline;vertical-align:middle;\" /></a></td></tr>\n",
       "<tr><td>12</td><td>Operation</td><td>operator:&nbsp;22<br>operand:&nbsp;21<br></td><td><a class=\"ProveItLink\" href=\"../f2f5e45b93b40ddf9d4b1544b85bb5eb058a9e650/expr.ipynb\"><img src=\"../f2f5e45b93b40ddf9d4b1544b85bb5eb058a9e650/expr.png\" style=\"display:inline;vertical-align:middle;\" /></a></td></tr>\n",
       "<tr><td>13</td><td>Operation</td><td>operator:&nbsp;16<br>operand:&nbsp;20<br></td><td><a class=\"ProveItLink\" href=\"../c480424dfe3de07eb642b9e3678b870ba9e72fde0/expr.ipynb\"><img src=\"../c480424dfe3de07eb642b9e3678b870ba9e72fde0/expr.png\" style=\"display:inline;vertical-align:middle;\" /></a></td></tr>\n",
       "<tr><td>14</td><td>Operation</td><td>operator:&nbsp;18<br>operands:&nbsp;19<br></td><td><a class=\"ProveItLink\" href=\"../bfeac9cc640a238b3b44bb813c8dbc74156d5ac80/expr.ipynb\"><img src=\"../bfeac9cc640a238b3b44bb813c8dbc74156d5ac80/expr.png\" style=\"display:inline;vertical-align:middle;\" /></a></td></tr>\n",
       "<tr><td>15</td><td>ExprTuple</td><td>21</td><td><a class=\"ProveItLink\" href=\"../0dc6c42a8c40e6a1c0a1b3cc41b6e5aa01a661750/expr.ipynb\"><img src=\"../0dc6c42a8c40e6a1c0a1b3cc41b6e5aa01a661750/expr.png\" style=\"display:inline;vertical-align:middle;\" /></a></td></tr>\n",
       "<tr><td>16</td><td>Variable</td><td></td><td><a class=\"ProveItLink\" href=\"../../../../../../__pv_it/common/d72bb8b07403efe79afab564c36a28e21330e5f90/expr.ipynb\"><img src=\"../../../../../../__pv_it/common/d72bb8b07403efe79afab564c36a28e21330e5f90/expr.png\" style=\"display:inline;vertical-align:middle;\" /></a></td></tr>\n",
       "<tr><td>17</td><td>ExprTuple</td><td>20</td><td><a class=\"ProveItLink\" href=\"../41fa21d7254fa5f0ebcaddbfa3785c3dc9cde1ba0/expr.ipynb\"><img src=\"../41fa21d7254fa5f0ebcaddbfa3785c3dc9cde1ba0/expr.png\" style=\"display:inline;vertical-align:middle;\" /></a></td></tr>\n",
       "<tr><td>18</td><td>Literal</td><td></td><td><a class=\"ProveItLink\" href=\"../../common/838a207b4d233a1702a5e7821ffac032fcae32e80/expr.ipynb\"><img src=\"../../common/838a207b4d233a1702a5e7821ffac032fcae32e80/expr.png\" style=\"display:inline;vertical-align:middle;\" /></a></td></tr>\n",
       "<tr><td>19</td><td>ExprTuple</td><td>21, 24</td><td><a class=\"ProveItLink\" href=\"../e791ee87807ed43d7ac6262f8f70c4ffc8f24c940/expr.ipynb\"><img src=\"../e791ee87807ed43d7ac6262f8f70c4ffc8f24c940/expr.png\" style=\"display:inline;vertical-align:middle;\" /></a></td></tr>\n",
       "<tr><td>20</td><td>Operation</td><td>operator:&nbsp;22<br>operand:&nbsp;24<br></td><td><a class=\"ProveItLink\" href=\"../064917ae61721f2d9cca95d6e7370c6853284a800/expr.ipynb\"><img src=\"../064917ae61721f2d9cca95d6e7370c6853284a800/expr.png\" style=\"display:inline;vertical-align:middle;\" /></a></td></tr>\n",
       "<tr><td>21</td><td>Variable</td><td></td><td><a class=\"ProveItLink\" href=\"../../../../../../__pv_it/common/09585084922504426caf1db2ff588a23a0932a960/expr.ipynb\"><img src=\"../../../../../../__pv_it/common/09585084922504426caf1db2ff588a23a0932a960/expr.png\" style=\"display:inline;vertical-align:middle;\" /></a></td></tr>\n",
       "<tr><td>22</td><td>Literal</td><td></td><td><a class=\"ProveItLink\" href=\"../../../../../../statistics/__pv_it/common/088e9f40f9e6ba1dcc7d39fd35fd8d244261148e0/expr.ipynb\"><img src=\"../../../../../../statistics/__pv_it/common/088e9f40f9e6ba1dcc7d39fd35fd8d244261148e0/expr.png\" style=\"display:inline;vertical-align:middle;\" /></a></td></tr>\n",
       "<tr><td>23</td><td>ExprTuple</td><td>24</td><td><a class=\"ProveItLink\" href=\"../a7ff2e5307eface0f17839b0263ddd504c2c69e40/expr.ipynb\"><img src=\"../a7ff2e5307eface0f17839b0263ddd504c2c69e40/expr.png\" style=\"display:inline;vertical-align:middle;\" /></a></td></tr>\n",
       "<tr><td>24</td><td>Variable</td><td></td><td><a class=\"ProveItLink\" href=\"../../../../../../__pv_it/common/a9162d1c3cc0470c02e5daf414500903a7a419230/expr.ipynb\"><img src=\"../../../../../../__pv_it/common/a9162d1c3cc0470c02e5daf414500903a7a419230/expr.png\" style=\"display:inline;vertical-align:middle;\" /></a></td></tr>\n",
       "</table>\n"
      ],
      "text/plain": [
       "0. Q -> [forall_{A, B | Q(Pr(B)), A equiv B} Q(Pr(A))]\n",
       "   core type: Lambda\n",
       "   parameter: 16\n",
       "   body: 2\n",
       "1. (Q)\n",
       "   core type: ExprTuple\n",
       "   sub-expressions: 16\n",
       "2. forall_{A, B | Q(Pr(B)), A equiv B} Q(Pr(A))\n",
       "   core type: Operation\n",
       "   operator: 3\n",
       "   operand: 5\n",
       "3. forall\n",
       "   core type: Literal\n",
       "   sub-expressions: \n",
       "4. ((A, B) -> {Q(Pr(A)) if Q(Pr(B)) ,  A equiv B.)\n",
       "   core type: ExprTuple\n",
       "   sub-expressions: 5\n",
       "5. (A, B) -> {Q(Pr(A)) if Q(Pr(B)) ,  A equiv B.\n",
       "   core type: Lambda\n",
       "   parameters: 19\\n   body: 6\n",
       "6. {Q(Pr(A)) if Q(Pr(B)) ,  A equiv B.\n",
       "   core type: Conditional\n",
       "   value: 7\n",
       "   condition: 8\n",
       "7. Q(Pr(A))\n",
       "   core type: Operation\n",
       "   operator: 16\n",
       "   operand: 12\n",
       "8. Q(Pr(B)) and (A equiv B)\n",
       "   core type: Operation\n",
       "   operator: 10\n",
       "   operands: 11\n",
       "9. (Pr(A))\n",
       "   core type: ExprTuple\n",
       "   sub-expressions: 12\n",
       "10. and\n",
       "    core type: Literal\n",
       "    sub-expressions: \n",
       "11. (Q(Pr(B)), A equiv B)\n",
       "    core type: ExprTuple\n",
       "    sub-expressions: 13, 14\n",
       "12. Pr(A)\n",
       "    core type: Operation\n",
       "    operator: 22\n",
       "    operand: 21\n",
       "13. Q(Pr(B))\n",
       "    core type: Operation\n",
       "    operator: 16\n",
       "    operand: 20\n",
       "14. A equiv B\n",
       "    core type: Operation\n",
       "    operator: 18\n",
       "    operands: 19\n",
       "15. (A)\n",
       "    core type: ExprTuple\n",
       "    sub-expressions: 21\n",
       "16. Q\n",
       "    core type: Variable\n",
       "    sub-expressions: \n",
       "17. (Pr(B))\n",
       "    core type: ExprTuple\n",
       "    sub-expressions: 20\n",
       "18. equiv\n",
       "    core type: Literal\n",
       "    sub-expressions: \n",
       "19. (A, B)\n",
       "    core type: ExprTuple\n",
       "    sub-expressions: 21, 24\n",
       "20. Pr(B)\n",
       "    core type: Operation\n",
       "    operator: 22\n",
       "    operand: 24\n",
       "21. A\n",
       "    core type: Variable\n",
       "    sub-expressions: \n",
       "22. Pr\n",
       "    core type: Literal\n",
       "    sub-expressions: \n",
       "23. (B)\n",
       "    core type: ExprTuple\n",
       "    sub-expressions: 24\n",
       "24. B\n",
       "    core type: Variable\n",
       "    sub-expressions: "
      ]
     },
     "metadata": {},
     "output_type": "display_data"
    }
   ],
   "source": [
    "# display the expression information\n",
    "stored_expr.expr_info()"
   ]
  },
  {
   "cell_type": "code",
   "execution_count": null,
   "metadata": {},
   "outputs": [],
   "source": []
  }
 ],
 "metadata": {
  "kernelspec": {
   "display_name": "Python 3",
   "language": "python",
   "name": "python3"
  }
 },
 "nbformat": 4,
 "nbformat_minor": 0
}