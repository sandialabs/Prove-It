{
 "cells": [
  {
   "cell_type": "markdown",
   "metadata": {},
   "source": [
    "Expression of type <a class=\"ProveItLink\" href=\"../../../../../../../../doc/html/api/proveit.ExprTuple.html\">ExprTuple</a>\n",
    "=======================\n",
    "# from the theory of <a class=\"ProveItLink\" href=\"../../../_theory_nbs_/theory.ipynb\">proveit.physics.quantum.circuits</a>"
   ]
  },
  {
   "cell_type": "code",
   "execution_count": 1,
   "metadata": {},
   "outputs": [],
   "source": [
    "import proveit\n",
    "# Automation is not needed when building an expression:\n",
    "proveit.defaults.automation = False # This will speed things up.\n",
    "proveit.defaults.inline_pngs = False # Makes files smaller.\n",
    "%load_expr # Load the stored expression as 'stored_expr'\n",
    "# import Expression classes needed to build the expression\n",
    "from proveit import A, ExprTuple, Lambda\n",
    "from proveit.core_expr_types import B_1_to_m\n",
    "from proveit.linear_algebra import TensorProd\n",
    "from proveit.logic import Equals, Iff\n",
    "from proveit.physics.quantum.circuits import QcircuitEquiv, circuit_compressed_inputAm, circuit_expanded_inputBm"
   ]
  },
  {
   "cell_type": "code",
   "execution_count": 2,
   "metadata": {},
   "outputs": [
    {
     "data": {
      "text/html": [
       "<strong id=\"expr\">expr:</strong> <a class=\"ProveItLink\" href=\"expr.ipynb\"><img src=\"expr.png\" style=\"display:inline;vertical-align:middle;\" /></a><br>"
      ],
      "text/plain": [
       "<IPython.core.display.HTML object>"
      ]
     },
     "metadata": {},
     "output_type": "display_data"
    }
   ],
   "source": [
    "# build up the expression from sub-expressions\n",
    "expr = ExprTuple(Lambda([A, B_1_to_m], Iff(QcircuitEquiv(circuit_compressed_inputAm, circuit_expanded_inputBm), Equals(A, TensorProd(B_1_to_m)))))"
   ]
  },
  {
   "cell_type": "code",
   "execution_count": 3,
   "metadata": {},
   "outputs": [
    {
     "name": "stdout",
     "output_type": "stream",
     "text": [
      "Passed sanity check: expr matches stored_expr\n"
     ]
    }
   ],
   "source": [
    "# check that the built expression is the same as the stored expression\n",
    "assert expr == stored_expr\n",
    "assert expr._style_id == stored_expr._style_id\n",
    "print(\"Passed sanity check: expr matches stored_expr\")"
   ]
  },
  {
   "cell_type": "code",
   "execution_count": 4,
   "metadata": {},
   "outputs": [
    {
     "name": "stdout",
     "output_type": "stream",
     "text": [
      "\\left(\\left(A, B_{1}, B_{2}, \\ldots, B_{m}\\right) \\mapsto \\left(\\left(\\left(\\begin{array}{c} \\Qcircuit@C=1em @R=.7em{\n",
      "\\qin{A} & { /^{m} } \\qw\n",
      "} \\end{array}\\right) \\cong \\left(\\begin{array}{c} \\Qcircuit@C=1em @R=.7em{\n",
      "\\qin{B_{1}} & \\qw \\\\\n",
      "\\qin{B_{2}} & \\qw \\\\\n",
      "\\qin{\\vdots} & \\qw \\\\\n",
      "\\qin{B_{m}} & \\qw\n",
      "} \\end{array}\\right)\\right) \\Leftrightarrow \\left(A = \\left(B_{1} {\\otimes}  B_{2} {\\otimes}  \\ldots {\\otimes}  B_{m}\\right)\\right)\\right)\\right)\n"
     ]
    }
   ],
   "source": [
    "# Show the LaTeX representation of the expression for convenience if you need it.\n",
    "print(stored_expr.latex())"
   ]
  },
  {
   "cell_type": "code",
   "execution_count": 5,
   "metadata": {},
   "outputs": [
    {
     "data": {
      "text/html": [
       "no style options"
      ],
      "text/plain": [
       "no style options"
      ]
     },
     "metadata": {},
     "output_type": "display_data"
    }
   ],
   "source": [
    "stored_expr.style_options()"
   ]
  },
  {
   "cell_type": "code",
   "execution_count": 6,
   "metadata": {},
   "outputs": [
    {
     "data": {
      "text/html": [
       "<table><tr><th>&nbsp;</th><th>core type</th><th>sub-expressions</th><th>expression</th></tr>\n",
       "<tr><td>0</td><td>ExprTuple</td><td>1</td><td><a class=\"ProveItLink\" href=\"expr.ipynb\"><img src=\"expr.png\" style=\"display:inline;vertical-align:middle;\" /></a></td></tr>\n",
       "<tr><td>1</td><td>Lambda</td><td>parameters:&nbsp;2<br>body:&nbsp;3<br></td><td><a class=\"ProveItLink\" href=\"../90408cb9a9317a4b26d266e1f2ae487dc791c12d0/expr.ipynb\"><img src=\"../90408cb9a9317a4b26d266e1f2ae487dc791c12d0/expr.png\" style=\"display:inline;vertical-align:middle;\" /></a></td></tr>\n",
       "<tr><td>2</td><td>ExprTuple</td><td>42, 22</td><td><a class=\"ProveItLink\" href=\"../086955df2bebc9d1e235b2de06f46bdf317253b40/expr.ipynb\"><img src=\"../086955df2bebc9d1e235b2de06f46bdf317253b40/expr.png\" style=\"display:inline;vertical-align:middle;\" /></a></td></tr>\n",
       "<tr><td>3</td><td>Operation</td><td>operator:&nbsp;4<br>operands:&nbsp;5<br></td><td><a class=\"ProveItLink\" href=\"../ef429d7280cb53a57eab248e4cb6c16fcbd616ef0/expr.ipynb\"><img src=\"../ef429d7280cb53a57eab248e4cb6c16fcbd616ef0/expr.png\" style=\"display:inline;vertical-align:middle;\" /></a></td></tr>\n",
       "<tr><td>4</td><td>Literal</td><td></td><td><a class=\"ProveItLink\" href=\"../../../../../../logic/booleans/implication/__pv_it/common/9e5b2ca32e104df56a83c73c522e9f700ffd8f9f0/expr.ipynb\"><img src=\"../../../../../../logic/booleans/implication/__pv_it/common/9e5b2ca32e104df56a83c73c522e9f700ffd8f9f0/expr.png\" style=\"display:inline;vertical-align:middle;\" /></a></td></tr>\n",
       "<tr><td>5</td><td>ExprTuple</td><td>6, 7</td><td><a class=\"ProveItLink\" href=\"../16b86c7047b046c6d4f473c7bf7b303deb0b7bf90/expr.ipynb\"><img src=\"../16b86c7047b046c6d4f473c7bf7b303deb0b7bf90/expr.png\" style=\"display:inline;vertical-align:middle;\" /></a></td></tr>\n",
       "<tr><td>6</td><td>Operation</td><td>operator:&nbsp;8<br>operands:&nbsp;9<br></td><td><a class=\"ProveItLink\" href=\"../ac4918af34ea6221c6753526a096ba51ebe6ea470/expr.ipynb\"><img src=\"../ac4918af34ea6221c6753526a096ba51ebe6ea470/expr.png\" style=\"display:inline;vertical-align:middle;\" /></a></td></tr>\n",
       "<tr><td>7</td><td>Operation</td><td>operator:&nbsp;10<br>operands:&nbsp;11<br></td><td><a class=\"ProveItLink\" href=\"../09335622ca94301b726a4f54d5a5949ec893fd200/expr.ipynb\"><img src=\"../09335622ca94301b726a4f54d5a5949ec893fd200/expr.png\" style=\"display:inline;vertical-align:middle;\" /></a></td></tr>\n",
       "<tr><td>8</td><td>Literal</td><td></td><td><a class=\"ProveItLink\" href=\"../../common/838a207b4d233a1702a5e7821ffac032fcae32e80/expr.ipynb\"><img src=\"../../common/838a207b4d233a1702a5e7821ffac032fcae32e80/expr.png\" style=\"display:inline;vertical-align:middle;\" /></a></td></tr>\n",
       "<tr><td>9</td><td>ExprTuple</td><td>12, 13</td><td><a class=\"ProveItLink\" href=\"../6eb83b55701c083e9501f72a889f182e91b348890/expr.ipynb\"><img src=\"../6eb83b55701c083e9501f72a889f182e91b348890/expr.png\" style=\"display:inline;vertical-align:middle;\" /></a></td></tr>\n",
       "<tr><td>10</td><td>Literal</td><td></td><td><a class=\"ProveItLink\" href=\"../../../../../../logic/equality/__pv_it/common/fb96dc12b2aa8801dda64d0132b396c63d1502bb0/expr.ipynb\"><img src=\"../../../../../../logic/equality/__pv_it/common/fb96dc12b2aa8801dda64d0132b396c63d1502bb0/expr.png\" style=\"display:inline;vertical-align:middle;\" /></a></td></tr>\n",
       "<tr><td>11</td><td>ExprTuple</td><td>42, 14</td><td><a class=\"ProveItLink\" href=\"../f0e9d381898c0c5ebe5edaea29ce04c2326a0b8f0/expr.ipynb\"><img src=\"../f0e9d381898c0c5ebe5edaea29ce04c2326a0b8f0/expr.png\" style=\"display:inline;vertical-align:middle;\" /></a></td></tr>\n",
       "<tr><td>12</td><td>Operation</td><td>operator:&nbsp;16<br>operand:&nbsp;20<br></td><td><a class=\"ProveItLink\" href=\"../../common/60d1e3e6501808286248aa546b18773be61df5c50/expr.ipynb\"><img src=\"../../common/60d1e3e6501808286248aa546b18773be61df5c50/expr.png\" style=\"display:inline;vertical-align:middle;\" /></a></td></tr>\n",
       "<tr><td>13</td><td>Operation</td><td>operator:&nbsp;16<br>operand:&nbsp;21<br></td><td><a class=\"ProveItLink\" href=\"../../common/b0614735c01e22b8a43e4a001465da5a4bbdf4040/expr.ipynb\"><img src=\"../../common/b0614735c01e22b8a43e4a001465da5a4bbdf4040/expr.png\" style=\"display:inline;vertical-align:middle;\" /></a></td></tr>\n",
       "<tr><td>14</td><td>Operation</td><td>operator:&nbsp;18<br>operands:&nbsp;19<br></td><td><a class=\"ProveItLink\" href=\"../5f9ec92f4cf88405e554db35d66c2a8e9ad2a0270/expr.ipynb\"><img src=\"../5f9ec92f4cf88405e554db35d66c2a8e9ad2a0270/expr.png\" style=\"display:inline;vertical-align:middle;\" /></a></td></tr>\n",
       "<tr><td>15</td><td>ExprTuple</td><td>20</td><td><a class=\"ProveItLink\" href=\"../../common/291135d722724e9f98da421eec840efa78c89f220/expr.ipynb\"><img src=\"../../common/291135d722724e9f98da421eec840efa78c89f220/expr.png\" style=\"display:inline;vertical-align:middle;\" /></a></td></tr>\n",
       "<tr><td>16</td><td>Literal</td><td></td><td><a class=\"ProveItLink\" href=\"../../common/40003b89a3d1740159ada9fe5b21308b42a7d3d40/expr.ipynb\"><img src=\"../../common/40003b89a3d1740159ada9fe5b21308b42a7d3d40/expr.png\" style=\"display:inline;vertical-align:middle;\" /></a></td></tr>\n",
       "<tr><td>17</td><td>ExprTuple</td><td>21</td><td><a class=\"ProveItLink\" href=\"../../common/4f0efee4acaa0399c1578d1d3c1948cb0cb4f4c90/expr.ipynb\"><img src=\"../../common/4f0efee4acaa0399c1578d1d3c1948cb0cb4f4c90/expr.png\" style=\"display:inline;vertical-align:middle;\" /></a></td></tr>\n",
       "<tr><td>18</td><td>Literal</td><td></td><td><a class=\"ProveItLink\" href=\"../../../../../../linear_algebra/tensors/__pv_it/common/7fa25b05174babb4710be62d63ebd43f68aa2fec0/expr.ipynb\"><img src=\"../../../../../../linear_algebra/tensors/__pv_it/common/7fa25b05174babb4710be62d63ebd43f68aa2fec0/expr.png\" style=\"display:inline;vertical-align:middle;\" /></a></td></tr>\n",
       "<tr><td>19</td><td>ExprTuple</td><td>22</td><td><a class=\"ProveItLink\" href=\"../d64e0d0133a6bbc8cf8dc807566d19b58dc7ca1a0/expr.ipynb\"><img src=\"../d64e0d0133a6bbc8cf8dc807566d19b58dc7ca1a0/expr.png\" style=\"display:inline;vertical-align:middle;\" /></a></td></tr>\n",
       "<tr><td>20</td><td>ExprTuple</td><td>23</td><td><a class=\"ProveItLink\" href=\"../../common/60207447bdbb4853b9ac6e4f68c21cf026ff6a160/expr.ipynb\"><img src=\"../../common/60207447bdbb4853b9ac6e4f68c21cf026ff6a160/expr.png\" style=\"display:inline;vertical-align:middle;\" /></a></td></tr>\n",
       "<tr><td>21</td><td>ExprTuple</td><td>24</td><td><a class=\"ProveItLink\" href=\"../../common/870bca82929cd0d66e1edcc12ec341663713c6640/expr.ipynb\"><img src=\"../../common/870bca82929cd0d66e1edcc12ec341663713c6640/expr.png\" style=\"display:inline;vertical-align:middle;\" /></a></td></tr>\n",
       "<tr><td>22</td><td>ExprRange</td><td>lambda_map:&nbsp;25<br>start_index:&nbsp;43<br>end_index:&nbsp;44<br></td><td><a class=\"ProveItLink\" href=\"../../../../../../core_expr_types/__pv_it/common/fee611567f2a92d4a4191651639f02d5571d04e40/expr.ipynb\"><img src=\"../../../../../../core_expr_types/__pv_it/common/fee611567f2a92d4a4191651639f02d5571d04e40/expr.png\" style=\"display:inline;vertical-align:middle;\" /></a></td></tr>\n",
       "<tr><td>23</td><td>ExprRange</td><td>lambda_map:&nbsp;26<br>start_index:&nbsp;43<br>end_index:&nbsp;44<br></td><td><a class=\"ProveItLink\" href=\"../../common/9fb8004de899e12c3e00b845516473409a12c4c90/expr.ipynb\"><img src=\"../../common/9fb8004de899e12c3e00b845516473409a12c4c90/expr.png\" style=\"display:inline;vertical-align:middle;\" /></a></td></tr>\n",
       "<tr><td>24</td><td>ExprRange</td><td>lambda_map:&nbsp;27<br>start_index:&nbsp;43<br>end_index:&nbsp;44<br></td><td><a class=\"ProveItLink\" href=\"../../common/279a0cef0c2f1b2c679893d2b00c9c8149d86a020/expr.ipynb\"><img src=\"../../common/279a0cef0c2f1b2c679893d2b00c9c8149d86a020/expr.png\" style=\"display:inline;vertical-align:middle;\" /></a></td></tr>\n",
       "<tr><td>25</td><td>Lambda</td><td>parameter:&nbsp;45<br>body:&nbsp;35<br></td><td><a class=\"ProveItLink\" href=\"../../../../../../core_expr_types/__pv_it/common/d51b6313a4eb9f8dc367ca4753f290af006fadbb0/expr.ipynb\"><img src=\"../../../../../../core_expr_types/__pv_it/common/d51b6313a4eb9f8dc367ca4753f290af006fadbb0/expr.png\" style=\"display:inline;vertical-align:middle;\" /></a></td></tr>\n",
       "<tr><td>26</td><td>Lambda</td><td>parameter:&nbsp;45<br>body:&nbsp;28<br></td><td><a class=\"ProveItLink\" href=\"../../common/bdc82a362c7fadaf96aff0cfe09ace2e84acd3a80/expr.ipynb\"><img src=\"../../common/bdc82a362c7fadaf96aff0cfe09ace2e84acd3a80/expr.png\" style=\"display:inline;vertical-align:middle;\" /></a></td></tr>\n",
       "<tr><td>27</td><td>Lambda</td><td>parameter:&nbsp;45<br>body:&nbsp;29<br></td><td><a class=\"ProveItLink\" href=\"../../common/121e2621ea13696bae145f5d746e3c0757d9dcf00/expr.ipynb\"><img src=\"../../common/121e2621ea13696bae145f5d746e3c0757d9dcf00/expr.png\" style=\"display:inline;vertical-align:middle;\" /></a></td></tr>\n",
       "<tr><td>28</td><td>Operation</td><td>operator:&nbsp;30<br>operands:&nbsp;31<br></td><td><a class=\"ProveItLink\" href=\"../../common/f7ecea0430bd69fa368d37bff7146dc2ed0ea2c90/expr.ipynb\"><img src=\"../../common/f7ecea0430bd69fa368d37bff7146dc2ed0ea2c90/expr.png\" style=\"display:inline;vertical-align:middle;\" /></a></td></tr>\n",
       "<tr><td>29</td><td>Operation</td><td>operator:&nbsp;36<br>operands:&nbsp;32<br></td><td><a class=\"ProveItLink\" href=\"../../common/8ad02ca27b9560b049c6ac5143226df47464ba170/expr.ipynb\"><img src=\"../../common/8ad02ca27b9560b049c6ac5143226df47464ba170/expr.png\" style=\"display:inline;vertical-align:middle;\" /></a></td></tr>\n",
       "<tr><td>30</td><td>Literal</td><td></td><td><a class=\"ProveItLink\" href=\"../../common/5eaa43008f05c06941080a12337ff182ea14996e0/expr.ipynb\"><img src=\"../../common/5eaa43008f05c06941080a12337ff182ea14996e0/expr.png\" style=\"display:inline;vertical-align:middle;\" /></a></td></tr>\n",
       "<tr><td>31</td><td>NamedExprs</td><td>element: 33<br>targets: 34<br></td><td><a class=\"ProveItLink\" href=\"../../common/7c07ed2484a3fd977d60947521f7ef69c81b9a5b0/expr.ipynb\"><img src=\"../../common/7c07ed2484a3fd977d60947521f7ef69c81b9a5b0/expr.png\" style=\"display:inline;vertical-align:middle;\" /></a></td></tr>\n",
       "<tr><td>32</td><td>NamedExprs</td><td>state: 35<br></td><td><a class=\"ProveItLink\" href=\"../../common/ed76d4f60a50892c06fb03e2a6f359a466cdc9110/expr.ipynb\"><img src=\"../../common/ed76d4f60a50892c06fb03e2a6f359a466cdc9110/expr.png\" style=\"display:inline;vertical-align:middle;\" /></a></td></tr>\n",
       "<tr><td>33</td><td>Operation</td><td>operator:&nbsp;36<br>operands:&nbsp;37<br></td><td><a class=\"ProveItLink\" href=\"../../common/be2a2c0aa015442b6c2eeb87842442fbad7423970/expr.ipynb\"><img src=\"../../common/be2a2c0aa015442b6c2eeb87842442fbad7423970/expr.png\" style=\"display:inline;vertical-align:middle;\" /></a></td></tr>\n",
       "<tr><td>34</td><td>Operation</td><td>operator:&nbsp;38<br>operands:&nbsp;39<br></td><td><a class=\"ProveItLink\" href=\"../../common/706881e668df69cca5d841d8343295e596a7a0c70/expr.ipynb\"><img src=\"../../common/706881e668df69cca5d841d8343295e596a7a0c70/expr.png\" style=\"display:inline;vertical-align:middle;\" /></a></td></tr>\n",
       "<tr><td>35</td><td>IndexedVar</td><td>variable:&nbsp;40<br>index:&nbsp;45<br></td><td><a class=\"ProveItLink\" href=\"../../common/2d18b8ce771112ed7fafa8be6c3e3112c72709040/expr.ipynb\"><img src=\"../../common/2d18b8ce771112ed7fafa8be6c3e3112c72709040/expr.png\" style=\"display:inline;vertical-align:middle;\" /></a></td></tr>\n",
       "<tr><td>36</td><td>Literal</td><td></td><td><a class=\"ProveItLink\" href=\"../../common/deea8715ce6701df08bbe1d049112a0bad4965c20/expr.ipynb\"><img src=\"../../common/deea8715ce6701df08bbe1d049112a0bad4965c20/expr.png\" style=\"display:inline;vertical-align:middle;\" /></a></td></tr>\n",
       "<tr><td>37</td><td>NamedExprs</td><td>state: 42<br>part: 45<br></td><td><a class=\"ProveItLink\" href=\"../../common/8cc59678566a4ba6d3740d6acd86411b6bae7f450/expr.ipynb\"><img src=\"../../common/8cc59678566a4ba6d3740d6acd86411b6bae7f450/expr.png\" style=\"display:inline;vertical-align:middle;\" /></a></td></tr>\n",
       "<tr><td>38</td><td>Literal</td><td></td><td><a class=\"ProveItLink\" href=\"../../../../../../numbers/number_sets/integers/__pv_it/common/92f3a0a77e3c3ea8e4a5c8674edadc54e4f57d550/expr.ipynb\"><img src=\"../../../../../../numbers/number_sets/integers/__pv_it/common/92f3a0a77e3c3ea8e4a5c8674edadc54e4f57d550/expr.png\" style=\"display:inline;vertical-align:middle;\" /></a></td></tr>\n",
       "<tr><td>39</td><td>ExprTuple</td><td>43, 44</td><td><a class=\"ProveItLink\" href=\"../../common/940639d2e54ef77a90c8aa1312af4ae333846c530/expr.ipynb\"><img src=\"../../common/940639d2e54ef77a90c8aa1312af4ae333846c530/expr.png\" style=\"display:inline;vertical-align:middle;\" /></a></td></tr>\n",
       "<tr><td>40</td><td>Variable</td><td></td><td><a class=\"ProveItLink\" href=\"../../../../../../__pv_it/common/a9162d1c3cc0470c02e5daf414500903a7a419230/expr.ipynb\"><img src=\"../../../../../../__pv_it/common/a9162d1c3cc0470c02e5daf414500903a7a419230/expr.png\" style=\"display:inline;vertical-align:middle;\" /></a></td></tr>\n",
       "<tr><td>41</td><td>ExprTuple</td><td>45</td><td><a class=\"ProveItLink\" href=\"../../../../../../core_expr_types/__pv_it/common/4b0dd6be36d76552eda6a95d5b4a27f5a5b62f900/expr.ipynb\"><img src=\"../../../../../../core_expr_types/__pv_it/common/4b0dd6be36d76552eda6a95d5b4a27f5a5b62f900/expr.png\" style=\"display:inline;vertical-align:middle;\" /></a></td></tr>\n",
       "<tr><td>42</td><td>Variable</td><td></td><td><a class=\"ProveItLink\" href=\"../../../../../../__pv_it/common/09585084922504426caf1db2ff588a23a0932a960/expr.ipynb\"><img src=\"../../../../../../__pv_it/common/09585084922504426caf1db2ff588a23a0932a960/expr.png\" style=\"display:inline;vertical-align:middle;\" /></a></td></tr>\n",
       "<tr><td>43</td><td>Literal</td><td></td><td><a class=\"ProveItLink\" href=\"../../../../../../numbers/numerals/__pv_it/common/682157d4892d216d9e5626ed533aff9b56b9506e0/expr.ipynb\"><img src=\"../../../../../../numbers/numerals/__pv_it/common/682157d4892d216d9e5626ed533aff9b56b9506e0/expr.png\" style=\"display:inline;vertical-align:middle;\" /></a></td></tr>\n",
       "<tr><td>44</td><td>Variable</td><td></td><td><a class=\"ProveItLink\" href=\"../../../../../../__pv_it/common/674a03b9c3ca221b3aabd5636837b31528ff33830/expr.ipynb\"><img src=\"../../../../../../__pv_it/common/674a03b9c3ca221b3aabd5636837b31528ff33830/expr.png\" style=\"display:inline;vertical-align:middle;\" /></a></td></tr>\n",
       "<tr><td>45</td><td>Variable</td><td></td><td><a class=\"ProveItLink\" href=\"../../../../../../core_expr_types/__pv_it/common/006c465e50948aa2b52285e2de47974f741255cc0/expr.ipynb\"><img src=\"../../../../../../core_expr_types/__pv_it/common/006c465e50948aa2b52285e2de47974f741255cc0/expr.png\" style=\"display:inline;vertical-align:middle;\" /></a></td></tr>\n",
       "</table>\n"
      ],
      "text/plain": [
       "0. ((A, B_{1}, B_{2}, ..., B_{m}) -> ((QCIRCUIT(VertExprArray(([MULTI_QUBIT_ELEM]{element:[INPUT]{state:A, part:1}, targets:{1 .. m}}, [MULTI_QUBIT_ELEM]{element:[INPUT]{state:A, part:2}, targets:{1 .. m}}, ..., [MULTI_QUBIT_ELEM]{element:[INPUT]{state:A, part:m}, targets:{1 .. m}}))) equiv QCIRCUIT(VertExprArray(([INPUT]{state:B_{1}}, [INPUT]{state:B_{2}}, ..., [INPUT]{state:B_{m}})))) <=> (A = (B_{1} otimes  B_{2} otimes  ... otimes  B_{m}))))\n",
       "   core type: ExprTuple\n",
       "   sub-expressions: 1\n",
       "1. (A, B_{1}, B_{2}, ..., B_{m}) -> ((QCIRCUIT(VertExprArray(([MULTI_QUBIT_ELEM]{element:[INPUT]{state:A, part:1}, targets:{1 .. m}}, [MULTI_QUBIT_ELEM]{element:[INPUT]{state:A, part:2}, targets:{1 .. m}}, ..., [MULTI_QUBIT_ELEM]{element:[INPUT]{state:A, part:m}, targets:{1 .. m}}))) equiv QCIRCUIT(VertExprArray(([INPUT]{state:B_{1}}, [INPUT]{state:B_{2}}, ..., [INPUT]{state:B_{m}})))) <=> (A = (B_{1} otimes  B_{2} otimes  ... otimes  B_{m})))\n",
       "   core type: Lambda\n",
       "   parameters: 2\\n   body: 3\n",
       "2. (A,B_{1}, B_{2}, ..., B_{m})\n",
       "   core type: ExprTuple\n",
       "   sub-expressions: 42, 22\n",
       "3. (QCIRCUIT(VertExprArray(([MULTI_QUBIT_ELEM]{element:[INPUT]{state:A, part:1}, targets:{1 .. m}}, [MULTI_QUBIT_ELEM]{element:[INPUT]{state:A, part:2}, targets:{1 .. m}}, ..., [MULTI_QUBIT_ELEM]{element:[INPUT]{state:A, part:m}, targets:{1 .. m}}))) equiv QCIRCUIT(VertExprArray(([INPUT]{state:B_{1}}, [INPUT]{state:B_{2}}, ..., [INPUT]{state:B_{m}})))) <=> (A = (B_{1} otimes  B_{2} otimes  ... otimes  B_{m}))\n",
       "   core type: Operation\n",
       "   operator: 4\n",
       "   operands: 5\n",
       "4. <=>\n",
       "   core type: Literal\n",
       "   sub-expressions: \n",
       "5. (QCIRCUIT(VertExprArray(([MULTI_QUBIT_ELEM]{element:[INPUT]{state:A, part:1}, targets:{1 .. m}}, [MULTI_QUBIT_ELEM]{element:[INPUT]{state:A, part:2}, targets:{1 .. m}}, ..., [MULTI_QUBIT_ELEM]{element:[INPUT]{state:A, part:m}, targets:{1 .. m}}))) equiv QCIRCUIT(VertExprArray(([INPUT]{state:B_{1}}, [INPUT]{state:B_{2}}, ..., [INPUT]{state:B_{m}}))), A = (B_{1} otimes  B_{2} otimes  ... otimes  B_{m}))\n",
       "   core type: ExprTuple\n",
       "   sub-expressions: 6, 7\n",
       "6. QCIRCUIT(VertExprArray(([MULTI_QUBIT_ELEM]{element:[INPUT]{state:A, part:1}, targets:{1 .. m}}, [MULTI_QUBIT_ELEM]{element:[INPUT]{state:A, part:2}, targets:{1 .. m}}, ..., [MULTI_QUBIT_ELEM]{element:[INPUT]{state:A, part:m}, targets:{1 .. m}}))) equiv QCIRCUIT(VertExprArray(([INPUT]{state:B_{1}}, [INPUT]{state:B_{2}}, ..., [INPUT]{state:B_{m}})))\n",
       "   core type: Operation\n",
       "   operator: 8\n",
       "   operands: 9\n",
       "7. A = (B_{1} otimes  B_{2} otimes  ... otimes  B_{m})\n",
       "   core type: Operation\n",
       "   operator: 10\n",
       "   operands: 11\n",
       "8. equiv\n",
       "   core type: Literal\n",
       "   sub-expressions: \n",
       "9. (QCIRCUIT(VertExprArray(([MULTI_QUBIT_ELEM]{element:[INPUT]{state:A, part:1}, targets:{1 .. m}}, [MULTI_QUBIT_ELEM]{element:[INPUT]{state:A, part:2}, targets:{1 .. m}}, ..., [MULTI_QUBIT_ELEM]{element:[INPUT]{state:A, part:m}, targets:{1 .. m}}))), QCIRCUIT(VertExprArray(([INPUT]{state:B_{1}}, [INPUT]{state:B_{2}}, ..., [INPUT]{state:B_{m}}))))\n",
       "   core type: ExprTuple\n",
       "   sub-expressions: 12, 13\n",
       "10. =\n",
       "    core type: Literal\n",
       "    sub-expressions: \n",
       "11. (A, B_{1} otimes  B_{2} otimes  ... otimes  B_{m})\n",
       "    core type: ExprTuple\n",
       "    sub-expressions: 42, 14\n",
       "12. QCIRCUIT(VertExprArray(([MULTI_QUBIT_ELEM]{element:[INPUT]{state:A, part:1}, targets:{1 .. m}}, [MULTI_QUBIT_ELEM]{element:[INPUT]{state:A, part:2}, targets:{1 .. m}}, ..., [MULTI_QUBIT_ELEM]{element:[INPUT]{state:A, part:m}, targets:{1 .. m}})))\n",
       "    core type: Operation\n",
       "    operator: 16\n",
       "    operand: 20\n",
       "13. QCIRCUIT(VertExprArray(([INPUT]{state:B_{1}}, [INPUT]{state:B_{2}}, ..., [INPUT]{state:B_{m}})))\n",
       "    core type: Operation\n",
       "    operator: 16\n",
       "    operand: 21\n",
       "14. B_{1} otimes  B_{2} otimes  ... otimes  B_{m}\n",
       "    core type: Operation\n",
       "    operator: 18\n",
       "    operands: 19\n",
       "15. VertExprArray(([MULTI_QUBIT_ELEM]{element:[INPUT]{state:A, part:1}, targets:{1 .. m}}, [MULTI_QUBIT_ELEM]{element:[INPUT]{state:A, part:2}, targets:{1 .. m}}, ..., [MULTI_QUBIT_ELEM]{element:[INPUT]{state:A, part:m}, targets:{1 .. m}}))\n",
       "    core type: ExprTuple\n",
       "    sub-expressions: 20\n",
       "16. QCIRCUIT\n",
       "    core type: Literal\n",
       "    sub-expressions: \n",
       "17. VertExprArray(([INPUT]{state:B_{1}}, [INPUT]{state:B_{2}}, ..., [INPUT]{state:B_{m}}))\n",
       "    core type: ExprTuple\n",
       "    sub-expressions: 21\n",
       "18. otimes\n",
       "    core type: Literal\n",
       "    sub-expressions: \n",
       "19. (B_{1}, B_{2}, ..., B_{m})\n",
       "    core type: ExprTuple\n",
       "    sub-expressions: 22\n",
       "20. ([MULTI_QUBIT_ELEM]{element:[INPUT]{state:A, part:1}, targets:{1 .. m}}, [MULTI_QUBIT_ELEM]{element:[INPUT]{state:A, part:2}, targets:{1 .. m}}, ..., [MULTI_QUBIT_ELEM]{element:[INPUT]{state:A, part:m}, targets:{1 .. m}})\n",
       "    core type: ExprTuple\n",
       "    sub-expressions: 23\n",
       "21. ([INPUT]{state:B_{1}}, [INPUT]{state:B_{2}}, ..., [INPUT]{state:B_{m}})\n",
       "    core type: ExprTuple\n",
       "    sub-expressions: 24\n",
       "22. B_{1}, B_{2}, ..., B_{m}\n",
       "    core type: ExprRange\n",
       "    lambda_map: 25\n",
       "    start_index: 43\n",
       "    end_index: 44\n",
       "23. [MULTI_QUBIT_ELEM]{element:[INPUT]{state:A, part:1}, targets:{1 .. m}}, [MULTI_QUBIT_ELEM]{element:[INPUT]{state:A, part:2}, targets:{1 .. m}}, ..., [MULTI_QUBIT_ELEM]{element:[INPUT]{state:A, part:m}, targets:{1 .. m}}\n",
       "    core type: ExprRange\n",
       "    lambda_map: 26\n",
       "    start_index: 43\n",
       "    end_index: 44\n",
       "24. [INPUT]{state:B_{1}}, [INPUT]{state:B_{2}}, ..., [INPUT]{state:B_{m}}\n",
       "    core type: ExprRange\n",
       "    lambda_map: 27\n",
       "    start_index: 43\n",
       "    end_index: 44\n",
       "25. _a -> B_{_a}\n",
       "    core type: Lambda\n",
       "    parameter: 45\n",
       "    body: 35\n",
       "26. _a -> [MULTI_QUBIT_ELEM]{element:[INPUT]{state:A, part:_a}, targets:{1 .. m}}\n",
       "    core type: Lambda\n",
       "    parameter: 45\n",
       "    body: 28\n",
       "27. _a -> [INPUT]{state:B_{_a}}\n",
       "    core type: Lambda\n",
       "    parameter: 45\n",
       "    body: 29\n",
       "28. [MULTI_QUBIT_ELEM]{element:[INPUT]{state:A, part:_a}, targets:{1 .. m}}\n",
       "    core type: Operation\n",
       "    operator: 30\n",
       "    operands: 31\n",
       "29. [INPUT]{state:B_{_a}}\n",
       "    core type: Operation\n",
       "    operator: 36\n",
       "    operands: 32\n",
       "30. MULTI_QUBIT_ELEM\n",
       "    core type: Literal\n",
       "    sub-expressions: \n",
       "31. {element:[INPUT]{state:A, part:_a}, targets:{1 .. m}}\n",
       "    core type: NamedExprs\n",
       "    element: 33\n",
       "    targets: 34\n",
       "32. {state:B_{_a}}\n",
       "    core type: NamedExprs\n",
       "    state: 35\n",
       "33. [INPUT]{state:A, part:_a}\n",
       "    core type: Operation\n",
       "    operator: 36\n",
       "    operands: 37\n",
       "34. {1 .. m}\n",
       "    core type: Operation\n",
       "    operator: 38\n",
       "    operands: 39\n",
       "35. B_{_a}\n",
       "    core type: IndexedVar\n",
       "variable: 40\n",
       "index: 45\n",
       "36. INPUT\n",
       "    core type: Literal\n",
       "    sub-expressions: \n",
       "37. {state:A, part:_a}\n",
       "    core type: NamedExprs\n",
       "    state: 42\n",
       "    part: 45\n",
       "38. Interval\n",
       "    core type: Literal\n",
       "    sub-expressions: \n",
       "39. (1, m)\n",
       "    core type: ExprTuple\n",
       "    sub-expressions: 43, 44\n",
       "40. B\n",
       "    core type: Variable\n",
       "    sub-expressions: \n",
       "41. (_a)\n",
       "    core type: ExprTuple\n",
       "    sub-expressions: 45\n",
       "42. A\n",
       "    core type: Variable\n",
       "    sub-expressions: \n",
       "43. 1\n",
       "    core type: Literal\n",
       "    sub-expressions: \n",
       "44. m\n",
       "    core type: Variable\n",
       "    sub-expressions: \n",
       "45. _a\n",
       "    core type: Variable\n",
       "    sub-expressions: "
      ]
     },
     "metadata": {},
     "output_type": "display_data"
    }
   ],
   "source": [
    "# display the expression information\n",
    "stored_expr.expr_info()"
   ]
  },
  {
   "cell_type": "code",
   "execution_count": null,
   "metadata": {},
   "outputs": [],
   "source": []
  }
 ],
 "metadata": {
  "kernelspec": {
   "display_name": "Python 3",
   "language": "python",
   "name": "python3"
  }
 },
 "nbformat": 4,
 "nbformat_minor": 0
}