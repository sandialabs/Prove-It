{
 "cells": [
  {
   "cell_type": "markdown",
   "metadata": {},
   "source": [
    "Expression of type <a class=\"ProveItLink\" href=\"../../../../../../../../doc/html/api/proveit.statistics.Prob.html\">Prob</a>\n",
    "=======================\n",
    "# from the theory of <a class=\"ProveItLink\" href=\"../../../_theory_nbs_/theory.ipynb\">proveit.physics.quantum.circuits</a>"
   ]
  },
  {
   "cell_type": "code",
   "execution_count": 1,
   "metadata": {},
   "outputs": [],
   "source": [
    "import proveit\n",
    "# Automation is not needed when building an expression:\n",
    "proveit.defaults.automation = False # This will speed things up.\n",
    "proveit.defaults.inline_pngs = False # Makes files smaller.\n",
    "%load_expr # Load the stored expression as 'stored_expr'\n",
    "# import Expression classes needed to build the expression\n",
    "from proveit.physics.quantum.circuits import circuit_Ui_psi_m\n",
    "from proveit.statistics import Prob"
   ]
  },
  {
   "cell_type": "code",
   "execution_count": 2,
   "metadata": {},
   "outputs": [
    {
     "data": {
      "text/html": [
       "<strong id=\"expr\">expr:</strong> <a class=\"ProveItLink\" href=\"expr.ipynb\"><img src=\"expr.png\" style=\"display:inline;vertical-align:middle;\" /></a><br>"
      ],
      "text/plain": [
       "<IPython.core.display.HTML object>"
      ]
     },
     "metadata": {},
     "output_type": "display_data"
    }
   ],
   "source": [
    "# build up the expression from sub-expressions\n",
    "expr = Prob(circuit_Ui_psi_m)"
   ]
  },
  {
   "cell_type": "code",
   "execution_count": 3,
   "metadata": {},
   "outputs": [
    {
     "name": "stdout",
     "output_type": "stream",
     "text": [
      "Passed sanity check: expr matches stored_expr\n"
     ]
    }
   ],
   "source": [
    "# check that the built expression is the same as the stored expression\n",
    "assert expr == stored_expr\n",
    "assert expr._style_id == stored_expr._style_id\n",
    "print(\"Passed sanity check: expr matches stored_expr\")"
   ]
  },
  {
   "cell_type": "code",
   "execution_count": 4,
   "metadata": {},
   "outputs": [
    {
     "name": "stdout",
     "output_type": "stream",
     "text": [
      "\\textrm{Pr}\\left(\\begin{array}{c} \\Qcircuit@C=1em @R=.7em{\n",
      "& \\gate{\\begin{array}{c} \\uparrow \\\\U_{1} \\\\ \\downarrow\\end{array}} & \\gate{\\begin{array}{c} \\uparrow \\\\\\cdots \\\\ \\downarrow\\end{array}} & \\gate{\\begin{array}{c} \\uparrow \\\\U_{i} \\\\ \\downarrow\\end{array}} & \\qout{\\lvert \\psi \\rangle}\n",
      "} \\end{array}\\right)\n"
     ]
    }
   ],
   "source": [
    "# Show the LaTeX representation of the expression for convenience if you need it.\n",
    "print(stored_expr.latex())"
   ]
  },
  {
   "cell_type": "code",
   "execution_count": 5,
   "metadata": {},
   "outputs": [
    {
     "data": {
      "text/html": [
       "no style options"
      ],
      "text/plain": [
       "no style options"
      ]
     },
     "metadata": {},
     "output_type": "display_data"
    }
   ],
   "source": [
    "stored_expr.style_options()"
   ]
  },
  {
   "cell_type": "code",
   "execution_count": 6,
   "metadata": {},
   "outputs": [
    {
     "data": {
      "text/html": [
       "<table><tr><th>&nbsp;</th><th>core type</th><th>sub-expressions</th><th>expression</th></tr>\n",
       "<tr><td>0</td><td>Operation</td><td>operator:&nbsp;1<br>operand:&nbsp;3<br></td><td><a class=\"ProveItLink\" href=\"expr.ipynb\"><img src=\"expr.png\" style=\"display:inline;vertical-align:middle;\" /></a></td></tr>\n",
       "<tr><td>1</td><td>Literal</td><td></td><td><a class=\"ProveItLink\" href=\"../../../../../../statistics/__pv_it/common/088e9f40f9e6ba1dcc7d39fd35fd8d244261148e0/expr.ipynb\"><img src=\"../../../../../../statistics/__pv_it/common/088e9f40f9e6ba1dcc7d39fd35fd8d244261148e0/expr.png\" style=\"display:inline;vertical-align:middle;\" /></a></td></tr>\n",
       "<tr><td>2</td><td>ExprTuple</td><td>3</td><td><a class=\"ProveItLink\" href=\"../632a37857e1fc85a30757de91a56d6324b70c5260/expr.ipynb\"><img src=\"../632a37857e1fc85a30757de91a56d6324b70c5260/expr.png\" style=\"display:inline;vertical-align:middle;\" /></a></td></tr>\n",
       "<tr><td>3</td><td>Operation</td><td>operator:&nbsp;4<br>operands:&nbsp;5<br></td><td><a class=\"ProveItLink\" href=\"../../common/c02907705f51d2ed8fc0024c5102b7f1cc6e8f880/expr.ipynb\"><img src=\"../../common/c02907705f51d2ed8fc0024c5102b7f1cc6e8f880/expr.png\" style=\"display:inline;vertical-align:middle;\" /></a></td></tr>\n",
       "<tr><td>4</td><td>Literal</td><td></td><td><a class=\"ProveItLink\" href=\"../../common/40003b89a3d1740159ada9fe5b21308b42a7d3d40/expr.ipynb\"><img src=\"../../common/40003b89a3d1740159ada9fe5b21308b42a7d3d40/expr.png\" style=\"display:inline;vertical-align:middle;\" /></a></td></tr>\n",
       "<tr><td>5</td><td>ExprTuple</td><td>6, 7</td><td><a class=\"ProveItLink\" href=\"../../common/a929a07a0c5c45bf1f9956df4efe86c3c36558a10/expr.ipynb\"><img src=\"../../common/a929a07a0c5c45bf1f9956df4efe86c3c36558a10/expr.png\" style=\"display:inline;vertical-align:middle;\" /></a></td></tr>\n",
       "<tr><td>6</td><td>ExprRange</td><td>lambda_map:&nbsp;8<br>start_index:&nbsp;26<br>end_index:&nbsp;9<br></td><td><a class=\"ProveItLink\" href=\"../../common/51ccdf8fdad0cdee0c8c08b02516314ccc8da8900/expr.ipynb\"><img src=\"../../common/51ccdf8fdad0cdee0c8c08b02516314ccc8da8900/expr.png\" style=\"display:inline;vertical-align:middle;\" /></a></td></tr>\n",
       "<tr><td>7</td><td>ExprTuple</td><td>10</td><td><a class=\"ProveItLink\" href=\"../../common/2eef4021e2f4bf96bba353796d637c21db6151ed0/expr.ipynb\"><img src=\"../../common/2eef4021e2f4bf96bba353796d637c21db6151ed0/expr.png\" style=\"display:inline;vertical-align:middle;\" /></a></td></tr>\n",
       "<tr><td>8</td><td>Lambda</td><td>parameter:&nbsp;25<br>body:&nbsp;11<br></td><td><a class=\"ProveItLink\" href=\"../../../../../../core_expr_types/__pv_it/common/1bd846a53c13d706c6fe9ce76f1edc9e81c50bc40/expr.ipynb\"><img src=\"../../../../../../core_expr_types/__pv_it/common/1bd846a53c13d706c6fe9ce76f1edc9e81c50bc40/expr.png\" style=\"display:inline;vertical-align:middle;\" /></a></td></tr>\n",
       "<tr><td>9</td><td>Variable</td><td></td><td><a class=\"ProveItLink\" href=\"../../../../../../__pv_it/common/ae955345c83abf786c3aff8681cd5465beae262d0/expr.ipynb\"><img src=\"../../../../../../__pv_it/common/ae955345c83abf786c3aff8681cd5465beae262d0/expr.png\" style=\"display:inline;vertical-align:middle;\" /></a></td></tr>\n",
       "<tr><td>10</td><td>ExprRange</td><td>lambda_map:&nbsp;12<br>start_index:&nbsp;26<br>end_index:&nbsp;27<br></td><td><a class=\"ProveItLink\" href=\"../../common/54ece1d4c5149050cf0524b0e0e73a4455d2bcf50/expr.ipynb\"><img src=\"../../common/54ece1d4c5149050cf0524b0e0e73a4455d2bcf50/expr.png\" style=\"display:inline;vertical-align:middle;\" /></a></td></tr>\n",
       "<tr><td>11</td><td>IndexedVar</td><td>variable:&nbsp;13<br>index:&nbsp;25<br></td><td><a class=\"ProveItLink\" href=\"../../../../../../core_expr_types/__pv_it/common/a0a589405bd46ff5f5081e37e3ecae7ecd8092eb0/expr.ipynb\"><img src=\"../../../../../../core_expr_types/__pv_it/common/a0a589405bd46ff5f5081e37e3ecae7ecd8092eb0/expr.png\" style=\"display:inline;vertical-align:middle;\" /></a></td></tr>\n",
       "<tr><td>12</td><td>Lambda</td><td>parameter:&nbsp;25<br>body:&nbsp;15<br></td><td><a class=\"ProveItLink\" href=\"../../common/ce86676f8d97eaeb1d5d185013fbd99d8490681e0/expr.ipynb\"><img src=\"../../common/ce86676f8d97eaeb1d5d185013fbd99d8490681e0/expr.png\" style=\"display:inline;vertical-align:middle;\" /></a></td></tr>\n",
       "<tr><td>13</td><td>Variable</td><td></td><td><a class=\"ProveItLink\" href=\"../../../../../../__pv_it/common/2586cdae2fd2785a5bcbf61f99f7aaf8229d775e0/expr.ipynb\"><img src=\"../../../../../../__pv_it/common/2586cdae2fd2785a5bcbf61f99f7aaf8229d775e0/expr.png\" style=\"display:inline;vertical-align:middle;\" /></a></td></tr>\n",
       "<tr><td>14</td><td>ExprTuple</td><td>25</td><td><a class=\"ProveItLink\" href=\"../../../../../../core_expr_types/__pv_it/common/4b0dd6be36d76552eda6a95d5b4a27f5a5b62f900/expr.ipynb\"><img src=\"../../../../../../core_expr_types/__pv_it/common/4b0dd6be36d76552eda6a95d5b4a27f5a5b62f900/expr.png\" style=\"display:inline;vertical-align:middle;\" /></a></td></tr>\n",
       "<tr><td>15</td><td>Operation</td><td>operator:&nbsp;16<br>operands:&nbsp;17<br></td><td><a class=\"ProveItLink\" href=\"../../common/70dde68042e97f9329372686452253cea8b0dd280/expr.ipynb\"><img src=\"../../common/70dde68042e97f9329372686452253cea8b0dd280/expr.png\" style=\"display:inline;vertical-align:middle;\" /></a></td></tr>\n",
       "<tr><td>16</td><td>Literal</td><td></td><td><a class=\"ProveItLink\" href=\"../../common/5eaa43008f05c06941080a12337ff182ea14996e0/expr.ipynb\"><img src=\"../../common/5eaa43008f05c06941080a12337ff182ea14996e0/expr.png\" style=\"display:inline;vertical-align:middle;\" /></a></td></tr>\n",
       "<tr><td>17</td><td>NamedExprs</td><td>element: 18<br>targets: 19<br></td><td><a class=\"ProveItLink\" href=\"../../common/ee99cae3c00376b5b370a54b14259b1f262d67120/expr.ipynb\"><img src=\"../../common/ee99cae3c00376b5b370a54b14259b1f262d67120/expr.png\" style=\"display:inline;vertical-align:middle;\" /></a></td></tr>\n",
       "<tr><td>18</td><td>Operation</td><td>operator:&nbsp;20<br>operands:&nbsp;21<br></td><td><a class=\"ProveItLink\" href=\"../../common/4da7730d9ef5e1f2b0d7cab5cc09aea88a22dc170/expr.ipynb\"><img src=\"../../common/4da7730d9ef5e1f2b0d7cab5cc09aea88a22dc170/expr.png\" style=\"display:inline;vertical-align:middle;\" /></a></td></tr>\n",
       "<tr><td>19</td><td>Operation</td><td>operator:&nbsp;22<br>operands:&nbsp;23<br></td><td><a class=\"ProveItLink\" href=\"../../common/706881e668df69cca5d841d8343295e596a7a0c70/expr.ipynb\"><img src=\"../../common/706881e668df69cca5d841d8343295e596a7a0c70/expr.png\" style=\"display:inline;vertical-align:middle;\" /></a></td></tr>\n",
       "<tr><td>20</td><td>Literal</td><td></td><td><a class=\"ProveItLink\" href=\"../../common/00345a9c4f4d361e0b6e8bbbbe5a33a8ec86a20b0/expr.ipynb\"><img src=\"../../common/00345a9c4f4d361e0b6e8bbbbe5a33a8ec86a20b0/expr.png\" style=\"display:inline;vertical-align:middle;\" /></a></td></tr>\n",
       "<tr><td>21</td><td>NamedExprs</td><td>state: 24<br>part: 25<br></td><td><a class=\"ProveItLink\" href=\"../../common/a75c67a66ebba677292193e862375e4a61161fb80/expr.ipynb\"><img src=\"../../common/a75c67a66ebba677292193e862375e4a61161fb80/expr.png\" style=\"display:inline;vertical-align:middle;\" /></a></td></tr>\n",
       "<tr><td>22</td><td>Literal</td><td></td><td><a class=\"ProveItLink\" href=\"../../../../../../numbers/number_sets/integers/__pv_it/common/92f3a0a77e3c3ea8e4a5c8674edadc54e4f57d550/expr.ipynb\"><img src=\"../../../../../../numbers/number_sets/integers/__pv_it/common/92f3a0a77e3c3ea8e4a5c8674edadc54e4f57d550/expr.png\" style=\"display:inline;vertical-align:middle;\" /></a></td></tr>\n",
       "<tr><td>23</td><td>ExprTuple</td><td>26, 27</td><td><a class=\"ProveItLink\" href=\"../../common/940639d2e54ef77a90c8aa1312af4ae333846c530/expr.ipynb\"><img src=\"../../common/940639d2e54ef77a90c8aa1312af4ae333846c530/expr.png\" style=\"display:inline;vertical-align:middle;\" /></a></td></tr>\n",
       "<tr><td>24</td><td>Variable</td><td></td><td><a class=\"ProveItLink\" href=\"../../../../__pv_it/common/798a4b85c58eead0b86ebff17277cd7c4a79a3160/expr.ipynb\"><img src=\"../../../../__pv_it/common/798a4b85c58eead0b86ebff17277cd7c4a79a3160/expr.png\" style=\"display:inline;vertical-align:middle;\" /></a></td></tr>\n",
       "<tr><td>25</td><td>Variable</td><td></td><td><a class=\"ProveItLink\" href=\"../../../../../../core_expr_types/__pv_it/common/006c465e50948aa2b52285e2de47974f741255cc0/expr.ipynb\"><img src=\"../../../../../../core_expr_types/__pv_it/common/006c465e50948aa2b52285e2de47974f741255cc0/expr.png\" style=\"display:inline;vertical-align:middle;\" /></a></td></tr>\n",
       "<tr><td>26</td><td>Literal</td><td></td><td><a class=\"ProveItLink\" href=\"../../../../../../numbers/numerals/__pv_it/common/682157d4892d216d9e5626ed533aff9b56b9506e0/expr.ipynb\"><img src=\"../../../../../../numbers/numerals/__pv_it/common/682157d4892d216d9e5626ed533aff9b56b9506e0/expr.png\" style=\"display:inline;vertical-align:middle;\" /></a></td></tr>\n",
       "<tr><td>27</td><td>Variable</td><td></td><td><a class=\"ProveItLink\" href=\"../../../../../../__pv_it/common/674a03b9c3ca221b3aabd5636837b31528ff33830/expr.ipynb\"><img src=\"../../../../../../__pv_it/common/674a03b9c3ca221b3aabd5636837b31528ff33830/expr.png\" style=\"display:inline;vertical-align:middle;\" /></a></td></tr>\n",
       "</table>\n"
      ],
      "text/plain": [
       "0. Pr(QCIRCUIT(VertExprArray(U_{1},  \\\\ ..., U_{i}, ([MULTI_QUBIT_ELEM]{element:[OUTPUT]{state:|psi>, part:1}, targets:{1 .. m}}, [MULTI_QUBIT_ELEM]{element:[OUTPUT]{state:|psi>, part:2}, targets:{1 .. m}}, ..., [MULTI_QUBIT_ELEM]{element:[OUTPUT]{state:|psi>, part:m}, targets:{1 .. m}}))))\n",
       "   core type: Operation\n",
       "   operator: 1\n",
       "   operand: 3\n",
       "1. Pr\n",
       "   core type: Literal\n",
       "   sub-expressions: \n",
       "2. (QCIRCUIT(VertExprArray(U_{1},  \\\\ ..., U_{i}, ([MULTI_QUBIT_ELEM]{element:[OUTPUT]{state:|psi>, part:1}, targets:{1 .. m}}, [MULTI_QUBIT_ELEM]{element:[OUTPUT]{state:|psi>, part:2}, targets:{1 .. m}}, ..., [MULTI_QUBIT_ELEM]{element:[OUTPUT]{state:|psi>, part:m}, targets:{1 .. m}}))))\n",
       "   core type: ExprTuple\n",
       "   sub-expressions: 3\n",
       "3. QCIRCUIT(VertExprArray(U_{1},  \\\\ ..., U_{i}, ([MULTI_QUBIT_ELEM]{element:[OUTPUT]{state:|psi>, part:1}, targets:{1 .. m}}, [MULTI_QUBIT_ELEM]{element:[OUTPUT]{state:|psi>, part:2}, targets:{1 .. m}}, ..., [MULTI_QUBIT_ELEM]{element:[OUTPUT]{state:|psi>, part:m}, targets:{1 .. m}})))\n",
       "   core type: Operation\n",
       "   operator: 4\n",
       "   operands: 5\n",
       "4. QCIRCUIT\n",
       "   core type: Literal\n",
       "   sub-expressions: \n",
       "5. VertExprArray(U_{1},  \\\\ ..., U_{i}, ([MULTI_QUBIT_ELEM]{element:[OUTPUT]{state:|psi>, part:1}, targets:{1 .. m}}, [MULTI_QUBIT_ELEM]{element:[OUTPUT]{state:|psi>, part:2}, targets:{1 .. m}}, ..., [MULTI_QUBIT_ELEM]{element:[OUTPUT]{state:|psi>, part:m}, targets:{1 .. m}}))\n",
       "   core type: ExprTuple\n",
       "   sub-expressions: 6, 7\n",
       "6. U_{1}, ..., U_{i}\n",
       "   core type: ExprRange\n",
       "   lambda_map: 8\n",
       "   start_index: 26\n",
       "   end_index: 9\n",
       "7. ([MULTI_QUBIT_ELEM]{element:[OUTPUT]{state:|psi>, part:1}, targets:{1 .. m}}, [MULTI_QUBIT_ELEM]{element:[OUTPUT]{state:|psi>, part:2}, targets:{1 .. m}}, ..., [MULTI_QUBIT_ELEM]{element:[OUTPUT]{state:|psi>, part:m}, targets:{1 .. m}})\n",
       "   core type: ExprTuple\n",
       "   sub-expressions: 10\n",
       "8. _a -> U_{_a}\n",
       "   core type: Lambda\n",
       "   parameter: 25\n",
       "   body: 11\n",
       "9. i\n",
       "   core type: Variable\n",
       "   sub-expressions: \n",
       "10. [MULTI_QUBIT_ELEM]{element:[OUTPUT]{state:|psi>, part:1}, targets:{1 .. m}}, [MULTI_QUBIT_ELEM]{element:[OUTPUT]{state:|psi>, part:2}, targets:{1 .. m}}, ..., [MULTI_QUBIT_ELEM]{element:[OUTPUT]{state:|psi>, part:m}, targets:{1 .. m}}\n",
       "    core type: ExprRange\n",
       "    lambda_map: 12\n",
       "    start_index: 26\n",
       "    end_index: 27\n",
       "11. U_{_a}\n",
       "    core type: IndexedVar\n",
       "variable: 13\n",
       "index: 25\n",
       "12. _a -> [MULTI_QUBIT_ELEM]{element:[OUTPUT]{state:|psi>, part:_a}, targets:{1 .. m}}\n",
       "    core type: Lambda\n",
       "    parameter: 25\n",
       "    body: 15\n",
       "13. U\n",
       "    core type: Variable\n",
       "    sub-expressions: \n",
       "14. (_a)\n",
       "    core type: ExprTuple\n",
       "    sub-expressions: 25\n",
       "15. [MULTI_QUBIT_ELEM]{element:[OUTPUT]{state:|psi>, part:_a}, targets:{1 .. m}}\n",
       "    core type: Operation\n",
       "    operator: 16\n",
       "    operands: 17\n",
       "16. MULTI_QUBIT_ELEM\n",
       "    core type: Literal\n",
       "    sub-expressions: \n",
       "17. {element:[OUTPUT]{state:|psi>, part:_a}, targets:{1 .. m}}\n",
       "    core type: NamedExprs\n",
       "    element: 18\n",
       "    targets: 19\n",
       "18. [OUTPUT]{state:|psi>, part:_a}\n",
       "    core type: Operation\n",
       "    operator: 20\n",
       "    operands: 21\n",
       "19. {1 .. m}\n",
       "    core type: Operation\n",
       "    operator: 22\n",
       "    operands: 23\n",
       "20. OUTPUT\n",
       "    core type: Literal\n",
       "    sub-expressions: \n",
       "21. {state:|psi>, part:_a}\n",
       "    core type: NamedExprs\n",
       "    state: 24\n",
       "    part: 25\n",
       "22. Interval\n",
       "    core type: Literal\n",
       "    sub-expressions: \n",
       "23. (1, m)\n",
       "    core type: ExprTuple\n",
       "    sub-expressions: 26, 27\n",
       "24. |psi>\n",
       "    core type: Variable\n",
       "    sub-expressions: \n",
       "25. _a\n",
       "    core type: Variable\n",
       "    sub-expressions: \n",
       "26. 1\n",
       "    core type: Literal\n",
       "    sub-expressions: \n",
       "27. m\n",
       "    core type: Variable\n",
       "    sub-expressions: "
      ]
     },
     "metadata": {},
     "output_type": "display_data"
    }
   ],
   "source": [
    "# display the expression information\n",
    "stored_expr.expr_info()"
   ]
  },
  {
   "cell_type": "code",
   "execution_count": null,
   "metadata": {},
   "outputs": [],
   "source": []
  }
 ],
 "metadata": {
  "kernelspec": {
   "display_name": "Python 3",
   "language": "python",
   "name": "python3"
  }
 },
 "nbformat": 4,
 "nbformat_minor": 0
}