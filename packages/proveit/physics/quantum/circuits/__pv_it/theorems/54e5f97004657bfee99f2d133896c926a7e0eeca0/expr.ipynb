{
 "cells": [
  {
   "cell_type": "markdown",
   "metadata": {},
   "source": [
    "Expression of type <a class=\"ProveItLink\" href=\"../../../../../../../../doc/html/api/proveit.Conditional.html\">Conditional</a>\n",
    "=======================\n",
    "# from the theory of <a class=\"ProveItLink\" href=\"../../../_theory_nbs_/theory.ipynb\">proveit.physics.quantum.circuits</a>"
   ]
  },
  {
   "cell_type": "code",
   "execution_count": 1,
   "metadata": {},
   "outputs": [],
   "source": [
    "import proveit\n",
    "# Automation is not needed when building an expression:\n",
    "proveit.defaults.automation = False # This will speed things up.\n",
    "proveit.defaults.inline_pngs = False # Makes files smaller.\n",
    "%load_expr # Load the stored expression as 'stored_expr'\n",
    "# import Expression classes needed to build the expression\n",
    "from proveit import A, Conditional, m\n",
    "from proveit.core_expr_types import B_1_to_m\n",
    "from proveit.linear_algebra import TensorProd\n",
    "from proveit.logic import Equals, Forall, Iff, InSet\n",
    "from proveit.numbers import NaturalPos\n",
    "from proveit.physics.quantum.circuits import QcircuitEquiv, circuit_compressed_outputAm, circuit_expanded_outputBm"
   ]
  },
  {
   "cell_type": "code",
   "execution_count": 2,
   "metadata": {},
   "outputs": [
    {
     "data": {
      "text/html": [
       "<strong id=\"expr\">expr:</strong> <a class=\"ProveItLink\" href=\"expr.ipynb\"><img src=\"expr.png\" style=\"display:inline;vertical-align:middle;\" /></a><br>"
      ],
      "text/plain": [
       "<IPython.core.display.HTML object>"
      ]
     },
     "metadata": {},
     "output_type": "display_data"
    }
   ],
   "source": [
    "# build up the expression from sub-expressions\n",
    "expr = Conditional(Forall(instance_param_or_params = [A, B_1_to_m], instance_expr = Iff(QcircuitEquiv(circuit_compressed_outputAm, circuit_expanded_outputBm), Equals(A, TensorProd(B_1_to_m)))), InSet(m, NaturalPos))"
   ]
  },
  {
   "cell_type": "code",
   "execution_count": 3,
   "metadata": {},
   "outputs": [
    {
     "name": "stdout",
     "output_type": "stream",
     "text": [
      "Passed sanity check: expr matches stored_expr\n"
     ]
    }
   ],
   "source": [
    "# check that the built expression is the same as the stored expression\n",
    "assert expr == stored_expr\n",
    "assert expr._style_id == stored_expr._style_id\n",
    "print(\"Passed sanity check: expr matches stored_expr\")"
   ]
  },
  {
   "cell_type": "code",
   "execution_count": 4,
   "metadata": {},
   "outputs": [
    {
     "name": "stdout",
     "output_type": "stream",
     "text": [
      "\\left\\{\\forall_{A, B_{1}, B_{2}, \\ldots, B_{m}}~\\left(\\left(\\left(\\begin{array}{c} \\Qcircuit@C=1em @R=.7em{\n",
      "& \\qout{A}\n",
      "} \\end{array}\\right) \\cong \\left(\\begin{array}{c} \\Qcircuit@C=1em @R=.7em{\n",
      "& \\qout{B_{1}} \\\\\n",
      "& \\qout{B_{2}} \\\\\n",
      "& \\qout{\\vdots} \\\\\n",
      "& \\qout{B_{m}}\n",
      "} \\end{array}\\right)\\right) \\Leftrightarrow \\left(A = \\left(B_{1} {\\otimes}  B_{2} {\\otimes}  \\ldots {\\otimes}  B_{m}\\right)\\right)\\right) \\textrm{ if } m \\in \\mathbb{N}^+\\right..\n"
     ]
    }
   ],
   "source": [
    "# Show the LaTeX representation of the expression for convenience if you need it.\n",
    "print(stored_expr.latex())"
   ]
  },
  {
   "cell_type": "code",
   "execution_count": 5,
   "metadata": {},
   "outputs": [
    {
     "data": {
      "text/html": [
       "<table>\n",
       "<tr><th>name</th><th>description</th><th>default</th><th>current value</th><th>related methods</th></tr><tr><td>condition_delimiter</td><td>'comma' or 'and'</td><td>comma</td><td>comma</td><td>('with_comma_delimiter', 'with_conjunction_delimiter')</td></tr>\n",
       "</table>\n"
      ],
      "text/plain": [
       "style name: condition_delimiter\n",
       "description: 'comma' or 'and'\n",
       "default: comma\n",
       "current value: comma\n",
       "related methods: ('with_comma_delimiter', 'with_conjunction_delimiter')"
      ]
     },
     "metadata": {},
     "output_type": "display_data"
    }
   ],
   "source": [
    "stored_expr.style_options()"
   ]
  },
  {
   "cell_type": "code",
   "execution_count": 6,
   "metadata": {},
   "outputs": [
    {
     "data": {
      "text/html": [
       "<table><tr><th>&nbsp;</th><th>core type</th><th>sub-expressions</th><th>expression</th></tr>\n",
       "<tr><td>0</td><td>Conditional</td><td>value:&nbsp;1<br>condition:&nbsp;2<br></td><td><a class=\"ProveItLink\" href=\"expr.ipynb\"><img src=\"expr.png\" style=\"display:inline;vertical-align:middle;\" /></a></td></tr>\n",
       "<tr><td>1</td><td>Operation</td><td>operator:&nbsp;3<br>operand:&nbsp;7<br></td><td><a class=\"ProveItLink\" href=\"../67cd2cdc820057a736beede17db4163f5445ee900/expr.ipynb\"><img src=\"../67cd2cdc820057a736beede17db4163f5445ee900/expr.png\" style=\"display:inline;vertical-align:middle;\" /></a></td></tr>\n",
       "<tr><td>2</td><td>Operation</td><td>operator:&nbsp;5<br>operands:&nbsp;6<br></td><td><a class=\"ProveItLink\" href=\"../79a768603778550c651661670153c27ee0a505870/expr.ipynb\"><img src=\"../79a768603778550c651661670153c27ee0a505870/expr.png\" style=\"display:inline;vertical-align:middle;\" /></a></td></tr>\n",
       "<tr><td>3</td><td>Literal</td><td></td><td><a class=\"ProveItLink\" href=\"../../../../../../logic/booleans/quantification/universality/__pv_it/common/083d2baa0b8ecab1d230f9ec29a15aa1355809fb0/expr.ipynb\"><img src=\"../../../../../../logic/booleans/quantification/universality/__pv_it/common/083d2baa0b8ecab1d230f9ec29a15aa1355809fb0/expr.png\" style=\"display:inline;vertical-align:middle;\" /></a></td></tr>\n",
       "<tr><td>4</td><td>ExprTuple</td><td>7</td><td><a class=\"ProveItLink\" href=\"../e9ed1168736832987bc6faa71fc3cbaf508c71300/expr.ipynb\"><img src=\"../e9ed1168736832987bc6faa71fc3cbaf508c71300/expr.png\" style=\"display:inline;vertical-align:middle;\" /></a></td></tr>\n",
       "<tr><td>5</td><td>Literal</td><td></td><td><a class=\"ProveItLink\" href=\"../../../../../../logic/sets/membership/__pv_it/common/477487d8796864d23d5810f83761435f25167f690/expr.ipynb\"><img src=\"../../../../../../logic/sets/membership/__pv_it/common/477487d8796864d23d5810f83761435f25167f690/expr.png\" style=\"display:inline;vertical-align:middle;\" /></a></td></tr>\n",
       "<tr><td>6</td><td>ExprTuple</td><td>51, 8</td><td><a class=\"ProveItLink\" href=\"../0aafde61e876ad81c8138546f58d9459d893af050/expr.ipynb\"><img src=\"../0aafde61e876ad81c8138546f58d9459d893af050/expr.png\" style=\"display:inline;vertical-align:middle;\" /></a></td></tr>\n",
       "<tr><td>7</td><td>Lambda</td><td>parameters:&nbsp;9<br>body:&nbsp;10<br></td><td><a class=\"ProveItLink\" href=\"../bf999acd5373b51ef28656658f059126631572840/expr.ipynb\"><img src=\"../bf999acd5373b51ef28656658f059126631572840/expr.png\" style=\"display:inline;vertical-align:middle;\" /></a></td></tr>\n",
       "<tr><td>8</td><td>Literal</td><td></td><td><a class=\"ProveItLink\" href=\"../../../../../../numbers/number_sets/natural_numbers/__pv_it/common/6111329435c43892c831c4793de96afbf80bdb3e0/expr.ipynb\"><img src=\"../../../../../../numbers/number_sets/natural_numbers/__pv_it/common/6111329435c43892c831c4793de96afbf80bdb3e0/expr.png\" style=\"display:inline;vertical-align:middle;\" /></a></td></tr>\n",
       "<tr><td>9</td><td>ExprTuple</td><td>49, 29</td><td><a class=\"ProveItLink\" href=\"../086955df2bebc9d1e235b2de06f46bdf317253b40/expr.ipynb\"><img src=\"../086955df2bebc9d1e235b2de06f46bdf317253b40/expr.png\" style=\"display:inline;vertical-align:middle;\" /></a></td></tr>\n",
       "<tr><td>10</td><td>Operation</td><td>operator:&nbsp;11<br>operands:&nbsp;12<br></td><td><a class=\"ProveItLink\" href=\"../f7c09544290a6eeeab72f0357166192cefbbce410/expr.ipynb\"><img src=\"../f7c09544290a6eeeab72f0357166192cefbbce410/expr.png\" style=\"display:inline;vertical-align:middle;\" /></a></td></tr>\n",
       "<tr><td>11</td><td>Literal</td><td></td><td><a class=\"ProveItLink\" href=\"../../../../../../logic/booleans/implication/__pv_it/common/9e5b2ca32e104df56a83c73c522e9f700ffd8f9f0/expr.ipynb\"><img src=\"../../../../../../logic/booleans/implication/__pv_it/common/9e5b2ca32e104df56a83c73c522e9f700ffd8f9f0/expr.png\" style=\"display:inline;vertical-align:middle;\" /></a></td></tr>\n",
       "<tr><td>12</td><td>ExprTuple</td><td>13, 14</td><td><a class=\"ProveItLink\" href=\"../17187248f1a83f1c7cbd3427157e7d9b65b801ac0/expr.ipynb\"><img src=\"../17187248f1a83f1c7cbd3427157e7d9b65b801ac0/expr.png\" style=\"display:inline;vertical-align:middle;\" /></a></td></tr>\n",
       "<tr><td>13</td><td>Operation</td><td>operator:&nbsp;15<br>operands:&nbsp;16<br></td><td><a class=\"ProveItLink\" href=\"../7a318f1a3c81457fdce8bceb731dec51d55abff30/expr.ipynb\"><img src=\"../7a318f1a3c81457fdce8bceb731dec51d55abff30/expr.png\" style=\"display:inline;vertical-align:middle;\" /></a></td></tr>\n",
       "<tr><td>14</td><td>Operation</td><td>operator:&nbsp;17<br>operands:&nbsp;18<br></td><td><a class=\"ProveItLink\" href=\"../09335622ca94301b726a4f54d5a5949ec893fd200/expr.ipynb\"><img src=\"../09335622ca94301b726a4f54d5a5949ec893fd200/expr.png\" style=\"display:inline;vertical-align:middle;\" /></a></td></tr>\n",
       "<tr><td>15</td><td>Literal</td><td></td><td><a class=\"ProveItLink\" href=\"../../common/838a207b4d233a1702a5e7821ffac032fcae32e80/expr.ipynb\"><img src=\"../../common/838a207b4d233a1702a5e7821ffac032fcae32e80/expr.png\" style=\"display:inline;vertical-align:middle;\" /></a></td></tr>\n",
       "<tr><td>16</td><td>ExprTuple</td><td>19, 20</td><td><a class=\"ProveItLink\" href=\"../be0c470fe99bf22e279f4896ecddf21e51b658400/expr.ipynb\"><img src=\"../be0c470fe99bf22e279f4896ecddf21e51b658400/expr.png\" style=\"display:inline;vertical-align:middle;\" /></a></td></tr>\n",
       "<tr><td>17</td><td>Literal</td><td></td><td><a class=\"ProveItLink\" href=\"../../../../../../logic/equality/__pv_it/common/fb96dc12b2aa8801dda64d0132b396c63d1502bb0/expr.ipynb\"><img src=\"../../../../../../logic/equality/__pv_it/common/fb96dc12b2aa8801dda64d0132b396c63d1502bb0/expr.png\" style=\"display:inline;vertical-align:middle;\" /></a></td></tr>\n",
       "<tr><td>18</td><td>ExprTuple</td><td>49, 21</td><td><a class=\"ProveItLink\" href=\"../f0e9d381898c0c5ebe5edaea29ce04c2326a0b8f0/expr.ipynb\"><img src=\"../f0e9d381898c0c5ebe5edaea29ce04c2326a0b8f0/expr.png\" style=\"display:inline;vertical-align:middle;\" /></a></td></tr>\n",
       "<tr><td>19</td><td>Operation</td><td>operator:&nbsp;23<br>operand:&nbsp;27<br></td><td><a class=\"ProveItLink\" href=\"../../common/692966d20ce1ee599d82797efc451498b5f60d970/expr.ipynb\"><img src=\"../../common/692966d20ce1ee599d82797efc451498b5f60d970/expr.png\" style=\"display:inline;vertical-align:middle;\" /></a></td></tr>\n",
       "<tr><td>20</td><td>Operation</td><td>operator:&nbsp;23<br>operand:&nbsp;28<br></td><td><a class=\"ProveItLink\" href=\"../../common/d98b1e6b15ce4e327259b62f2ff0bd99f844370b0/expr.ipynb\"><img src=\"../../common/d98b1e6b15ce4e327259b62f2ff0bd99f844370b0/expr.png\" style=\"display:inline;vertical-align:middle;\" /></a></td></tr>\n",
       "<tr><td>21</td><td>Operation</td><td>operator:&nbsp;25<br>operands:&nbsp;26<br></td><td><a class=\"ProveItLink\" href=\"../5f9ec92f4cf88405e554db35d66c2a8e9ad2a0270/expr.ipynb\"><img src=\"../5f9ec92f4cf88405e554db35d66c2a8e9ad2a0270/expr.png\" style=\"display:inline;vertical-align:middle;\" /></a></td></tr>\n",
       "<tr><td>22</td><td>ExprTuple</td><td>27</td><td><a class=\"ProveItLink\" href=\"../../common/f77b6212745c513dfe2b41237f9583394c18345b0/expr.ipynb\"><img src=\"../../common/f77b6212745c513dfe2b41237f9583394c18345b0/expr.png\" style=\"display:inline;vertical-align:middle;\" /></a></td></tr>\n",
       "<tr><td>23</td><td>Literal</td><td></td><td><a class=\"ProveItLink\" href=\"../../common/40003b89a3d1740159ada9fe5b21308b42a7d3d40/expr.ipynb\"><img src=\"../../common/40003b89a3d1740159ada9fe5b21308b42a7d3d40/expr.png\" style=\"display:inline;vertical-align:middle;\" /></a></td></tr>\n",
       "<tr><td>24</td><td>ExprTuple</td><td>28</td><td><a class=\"ProveItLink\" href=\"../../common/3db891a512f67b1365f5109dc36717e4e20474200/expr.ipynb\"><img src=\"../../common/3db891a512f67b1365f5109dc36717e4e20474200/expr.png\" style=\"display:inline;vertical-align:middle;\" /></a></td></tr>\n",
       "<tr><td>25</td><td>Literal</td><td></td><td><a class=\"ProveItLink\" href=\"../../../../../../linear_algebra/tensors/__pv_it/common/7fa25b05174babb4710be62d63ebd43f68aa2fec0/expr.ipynb\"><img src=\"../../../../../../linear_algebra/tensors/__pv_it/common/7fa25b05174babb4710be62d63ebd43f68aa2fec0/expr.png\" style=\"display:inline;vertical-align:middle;\" /></a></td></tr>\n",
       "<tr><td>26</td><td>ExprTuple</td><td>29</td><td><a class=\"ProveItLink\" href=\"../d64e0d0133a6bbc8cf8dc807566d19b58dc7ca1a0/expr.ipynb\"><img src=\"../d64e0d0133a6bbc8cf8dc807566d19b58dc7ca1a0/expr.png\" style=\"display:inline;vertical-align:middle;\" /></a></td></tr>\n",
       "<tr><td>27</td><td>ExprTuple</td><td>30</td><td><a class=\"ProveItLink\" href=\"../../common/be2ddd3599587876ee212a6b4e14d024c22afe370/expr.ipynb\"><img src=\"../../common/be2ddd3599587876ee212a6b4e14d024c22afe370/expr.png\" style=\"display:inline;vertical-align:middle;\" /></a></td></tr>\n",
       "<tr><td>28</td><td>ExprTuple</td><td>31</td><td><a class=\"ProveItLink\" href=\"../../common/c8d11d6d582c1df23e42d2fed46047eb5a64bde00/expr.ipynb\"><img src=\"../../common/c8d11d6d582c1df23e42d2fed46047eb5a64bde00/expr.png\" style=\"display:inline;vertical-align:middle;\" /></a></td></tr>\n",
       "<tr><td>29</td><td>ExprRange</td><td>lambda_map:&nbsp;32<br>start_index:&nbsp;50<br>end_index:&nbsp;51<br></td><td><a class=\"ProveItLink\" href=\"../../../../../../core_expr_types/__pv_it/common/fee611567f2a92d4a4191651639f02d5571d04e40/expr.ipynb\"><img src=\"../../../../../../core_expr_types/__pv_it/common/fee611567f2a92d4a4191651639f02d5571d04e40/expr.png\" style=\"display:inline;vertical-align:middle;\" /></a></td></tr>\n",
       "<tr><td>30</td><td>ExprRange</td><td>lambda_map:&nbsp;33<br>start_index:&nbsp;50<br>end_index:&nbsp;51<br></td><td><a class=\"ProveItLink\" href=\"../../common/1de5f9b726bb13efccc3646586f7bffbf345c7470/expr.ipynb\"><img src=\"../../common/1de5f9b726bb13efccc3646586f7bffbf345c7470/expr.png\" style=\"display:inline;vertical-align:middle;\" /></a></td></tr>\n",
       "<tr><td>31</td><td>ExprRange</td><td>lambda_map:&nbsp;34<br>start_index:&nbsp;50<br>end_index:&nbsp;51<br></td><td><a class=\"ProveItLink\" href=\"../../common/fe22ccd27c5dc0b8301e4e6085435f1707551d760/expr.ipynb\"><img src=\"../../common/fe22ccd27c5dc0b8301e4e6085435f1707551d760/expr.png\" style=\"display:inline;vertical-align:middle;\" /></a></td></tr>\n",
       "<tr><td>32</td><td>Lambda</td><td>parameter:&nbsp;52<br>body:&nbsp;42<br></td><td><a class=\"ProveItLink\" href=\"../../../../../../core_expr_types/__pv_it/common/d51b6313a4eb9f8dc367ca4753f290af006fadbb0/expr.ipynb\"><img src=\"../../../../../../core_expr_types/__pv_it/common/d51b6313a4eb9f8dc367ca4753f290af006fadbb0/expr.png\" style=\"display:inline;vertical-align:middle;\" /></a></td></tr>\n",
       "<tr><td>33</td><td>Lambda</td><td>parameter:&nbsp;52<br>body:&nbsp;35<br></td><td><a class=\"ProveItLink\" href=\"../../common/7f66771c501ed08b7c246f0e5eb8ab8e98e241930/expr.ipynb\"><img src=\"../../common/7f66771c501ed08b7c246f0e5eb8ab8e98e241930/expr.png\" style=\"display:inline;vertical-align:middle;\" /></a></td></tr>\n",
       "<tr><td>34</td><td>Lambda</td><td>parameter:&nbsp;52<br>body:&nbsp;36<br></td><td><a class=\"ProveItLink\" href=\"../../common/61e2201b485d4a4470716c9cba471efe35104cc80/expr.ipynb\"><img src=\"../../common/61e2201b485d4a4470716c9cba471efe35104cc80/expr.png\" style=\"display:inline;vertical-align:middle;\" /></a></td></tr>\n",
       "<tr><td>35</td><td>Operation</td><td>operator:&nbsp;37<br>operands:&nbsp;38<br></td><td><a class=\"ProveItLink\" href=\"../../common/5d0bf95535407088a92ab16b3be7c84df2e412300/expr.ipynb\"><img src=\"../../common/5d0bf95535407088a92ab16b3be7c84df2e412300/expr.png\" style=\"display:inline;vertical-align:middle;\" /></a></td></tr>\n",
       "<tr><td>36</td><td>Operation</td><td>operator:&nbsp;43<br>operands:&nbsp;39<br></td><td><a class=\"ProveItLink\" href=\"../../common/fb1533489010b4d161f8d3c83886f75b3356abd80/expr.ipynb\"><img src=\"../../common/fb1533489010b4d161f8d3c83886f75b3356abd80/expr.png\" style=\"display:inline;vertical-align:middle;\" /></a></td></tr>\n",
       "<tr><td>37</td><td>Literal</td><td></td><td><a class=\"ProveItLink\" href=\"../../common/5eaa43008f05c06941080a12337ff182ea14996e0/expr.ipynb\"><img src=\"../../common/5eaa43008f05c06941080a12337ff182ea14996e0/expr.png\" style=\"display:inline;vertical-align:middle;\" /></a></td></tr>\n",
       "<tr><td>38</td><td>NamedExprs</td><td>element: 40<br>targets: 41<br></td><td><a class=\"ProveItLink\" href=\"../../common/68b221f24e0859b2240bb0150b402ecd7cab932e0/expr.ipynb\"><img src=\"../../common/68b221f24e0859b2240bb0150b402ecd7cab932e0/expr.png\" style=\"display:inline;vertical-align:middle;\" /></a></td></tr>\n",
       "<tr><td>39</td><td>NamedExprs</td><td>state: 42<br></td><td><a class=\"ProveItLink\" href=\"../../common/ed76d4f60a50892c06fb03e2a6f359a466cdc9110/expr.ipynb\"><img src=\"../../common/ed76d4f60a50892c06fb03e2a6f359a466cdc9110/expr.png\" style=\"display:inline;vertical-align:middle;\" /></a></td></tr>\n",
       "<tr><td>40</td><td>Operation</td><td>operator:&nbsp;43<br>operands:&nbsp;44<br></td><td><a class=\"ProveItLink\" href=\"../../common/910cd26488c3b04ce7571c62363ddd40ebaa52a30/expr.ipynb\"><img src=\"../../common/910cd26488c3b04ce7571c62363ddd40ebaa52a30/expr.png\" style=\"display:inline;vertical-align:middle;\" /></a></td></tr>\n",
       "<tr><td>41</td><td>Operation</td><td>operator:&nbsp;45<br>operands:&nbsp;46<br></td><td><a class=\"ProveItLink\" href=\"../../common/706881e668df69cca5d841d8343295e596a7a0c70/expr.ipynb\"><img src=\"../../common/706881e668df69cca5d841d8343295e596a7a0c70/expr.png\" style=\"display:inline;vertical-align:middle;\" /></a></td></tr>\n",
       "<tr><td>42</td><td>IndexedVar</td><td>variable:&nbsp;47<br>index:&nbsp;52<br></td><td><a class=\"ProveItLink\" href=\"../../common/2d18b8ce771112ed7fafa8be6c3e3112c72709040/expr.ipynb\"><img src=\"../../common/2d18b8ce771112ed7fafa8be6c3e3112c72709040/expr.png\" style=\"display:inline;vertical-align:middle;\" /></a></td></tr>\n",
       "<tr><td>43</td><td>Literal</td><td></td><td><a class=\"ProveItLink\" href=\"../../common/00345a9c4f4d361e0b6e8bbbbe5a33a8ec86a20b0/expr.ipynb\"><img src=\"../../common/00345a9c4f4d361e0b6e8bbbbe5a33a8ec86a20b0/expr.png\" style=\"display:inline;vertical-align:middle;\" /></a></td></tr>\n",
       "<tr><td>44</td><td>NamedExprs</td><td>state: 49<br>part: 52<br></td><td><a class=\"ProveItLink\" href=\"../../common/8cc59678566a4ba6d3740d6acd86411b6bae7f450/expr.ipynb\"><img src=\"../../common/8cc59678566a4ba6d3740d6acd86411b6bae7f450/expr.png\" style=\"display:inline;vertical-align:middle;\" /></a></td></tr>\n",
       "<tr><td>45</td><td>Literal</td><td></td><td><a class=\"ProveItLink\" href=\"../../../../../../numbers/number_sets/integers/__pv_it/common/92f3a0a77e3c3ea8e4a5c8674edadc54e4f57d550/expr.ipynb\"><img src=\"../../../../../../numbers/number_sets/integers/__pv_it/common/92f3a0a77e3c3ea8e4a5c8674edadc54e4f57d550/expr.png\" style=\"display:inline;vertical-align:middle;\" /></a></td></tr>\n",
       "<tr><td>46</td><td>ExprTuple</td><td>50, 51</td><td><a class=\"ProveItLink\" href=\"../../common/940639d2e54ef77a90c8aa1312af4ae333846c530/expr.ipynb\"><img src=\"../../common/940639d2e54ef77a90c8aa1312af4ae333846c530/expr.png\" style=\"display:inline;vertical-align:middle;\" /></a></td></tr>\n",
       "<tr><td>47</td><td>Variable</td><td></td><td><a class=\"ProveItLink\" href=\"../../../../../../__pv_it/common/a9162d1c3cc0470c02e5daf414500903a7a419230/expr.ipynb\"><img src=\"../../../../../../__pv_it/common/a9162d1c3cc0470c02e5daf414500903a7a419230/expr.png\" style=\"display:inline;vertical-align:middle;\" /></a></td></tr>\n",
       "<tr><td>48</td><td>ExprTuple</td><td>52</td><td><a class=\"ProveItLink\" href=\"../../../../../../core_expr_types/__pv_it/common/4b0dd6be36d76552eda6a95d5b4a27f5a5b62f900/expr.ipynb\"><img src=\"../../../../../../core_expr_types/__pv_it/common/4b0dd6be36d76552eda6a95d5b4a27f5a5b62f900/expr.png\" style=\"display:inline;vertical-align:middle;\" /></a></td></tr>\n",
       "<tr><td>49</td><td>Variable</td><td></td><td><a class=\"ProveItLink\" href=\"../../../../../../__pv_it/common/09585084922504426caf1db2ff588a23a0932a960/expr.ipynb\"><img src=\"../../../../../../__pv_it/common/09585084922504426caf1db2ff588a23a0932a960/expr.png\" style=\"display:inline;vertical-align:middle;\" /></a></td></tr>\n",
       "<tr><td>50</td><td>Literal</td><td></td><td><a class=\"ProveItLink\" href=\"../../../../../../numbers/numerals/__pv_it/common/682157d4892d216d9e5626ed533aff9b56b9506e0/expr.ipynb\"><img src=\"../../../../../../numbers/numerals/__pv_it/common/682157d4892d216d9e5626ed533aff9b56b9506e0/expr.png\" style=\"display:inline;vertical-align:middle;\" /></a></td></tr>\n",
       "<tr><td>51</td><td>Variable</td><td></td><td><a class=\"ProveItLink\" href=\"../../../../../../__pv_it/common/674a03b9c3ca221b3aabd5636837b31528ff33830/expr.ipynb\"><img src=\"../../../../../../__pv_it/common/674a03b9c3ca221b3aabd5636837b31528ff33830/expr.png\" style=\"display:inline;vertical-align:middle;\" /></a></td></tr>\n",
       "<tr><td>52</td><td>Variable</td><td></td><td><a class=\"ProveItLink\" href=\"../../../../../../core_expr_types/__pv_it/common/006c465e50948aa2b52285e2de47974f741255cc0/expr.ipynb\"><img src=\"../../../../../../core_expr_types/__pv_it/common/006c465e50948aa2b52285e2de47974f741255cc0/expr.png\" style=\"display:inline;vertical-align:middle;\" /></a></td></tr>\n",
       "</table>\n"
      ],
      "text/plain": [
       "0. {forall_{A, B_{1}, B_{2}, ..., B_{m}} ((QCIRCUIT(VertExprArray(([MULTI_QUBIT_ELEM]{element:[OUTPUT]{state:A, part:1}, targets:{1 .. m}}, [MULTI_QUBIT_ELEM]{element:[OUTPUT]{state:A, part:2}, targets:{1 .. m}}, ..., [MULTI_QUBIT_ELEM]{element:[OUTPUT]{state:A, part:m}, targets:{1 .. m}}))) equiv QCIRCUIT(VertExprArray(([OUTPUT]{state:B_{1}}, [OUTPUT]{state:B_{2}}, ..., [OUTPUT]{state:B_{m}})))) <=> (A = (B_{1} otimes  B_{2} otimes  ... otimes  B_{m}))) if m in NaturalPos.\n",
       "   core type: Conditional\n",
       "   value: 1\n",
       "   condition: 2\n",
       "1. forall_{A, B_{1}, B_{2}, ..., B_{m}} ((QCIRCUIT(VertExprArray(([MULTI_QUBIT_ELEM]{element:[OUTPUT]{state:A, part:1}, targets:{1 .. m}}, [MULTI_QUBIT_ELEM]{element:[OUTPUT]{state:A, part:2}, targets:{1 .. m}}, ..., [MULTI_QUBIT_ELEM]{element:[OUTPUT]{state:A, part:m}, targets:{1 .. m}}))) equiv QCIRCUIT(VertExprArray(([OUTPUT]{state:B_{1}}, [OUTPUT]{state:B_{2}}, ..., [OUTPUT]{state:B_{m}})))) <=> (A = (B_{1} otimes  B_{2} otimes  ... otimes  B_{m})))\n",
       "   core type: Operation\n",
       "   operator: 3\n",
       "   operand: 7\n",
       "2. m in NaturalPos\n",
       "   core type: Operation\n",
       "   operator: 5\n",
       "   operands: 6\n",
       "3. forall\n",
       "   core type: Literal\n",
       "   sub-expressions: \n",
       "4. ((A, B_{1}, B_{2}, ..., B_{m}) -> ((QCIRCUIT(VertExprArray(([MULTI_QUBIT_ELEM]{element:[OUTPUT]{state:A, part:1}, targets:{1 .. m}}, [MULTI_QUBIT_ELEM]{element:[OUTPUT]{state:A, part:2}, targets:{1 .. m}}, ..., [MULTI_QUBIT_ELEM]{element:[OUTPUT]{state:A, part:m}, targets:{1 .. m}}))) equiv QCIRCUIT(VertExprArray(([OUTPUT]{state:B_{1}}, [OUTPUT]{state:B_{2}}, ..., [OUTPUT]{state:B_{m}})))) <=> (A = (B_{1} otimes  B_{2} otimes  ... otimes  B_{m}))))\n",
       "   core type: ExprTuple\n",
       "   sub-expressions: 7\n",
       "5. in\n",
       "   core type: Literal\n",
       "   sub-expressions: \n",
       "6. (m, NaturalPos)\n",
       "   core type: ExprTuple\n",
       "   sub-expressions: 51, 8\n",
       "7. (A, B_{1}, B_{2}, ..., B_{m}) -> ((QCIRCUIT(VertExprArray(([MULTI_QUBIT_ELEM]{element:[OUTPUT]{state:A, part:1}, targets:{1 .. m}}, [MULTI_QUBIT_ELEM]{element:[OUTPUT]{state:A, part:2}, targets:{1 .. m}}, ..., [MULTI_QUBIT_ELEM]{element:[OUTPUT]{state:A, part:m}, targets:{1 .. m}}))) equiv QCIRCUIT(VertExprArray(([OUTPUT]{state:B_{1}}, [OUTPUT]{state:B_{2}}, ..., [OUTPUT]{state:B_{m}})))) <=> (A = (B_{1} otimes  B_{2} otimes  ... otimes  B_{m})))\n",
       "   core type: Lambda\n",
       "   parameters: 9\\n   body: 10\n",
       "8. NaturalPos\n",
       "   core type: Literal\n",
       "   sub-expressions: \n",
       "9. (A,B_{1}, B_{2}, ..., B_{m})\n",
       "   core type: ExprTuple\n",
       "   sub-expressions: 49, 29\n",
       "10. (QCIRCUIT(VertExprArray(([MULTI_QUBIT_ELEM]{element:[OUTPUT]{state:A, part:1}, targets:{1 .. m}}, [MULTI_QUBIT_ELEM]{element:[OUTPUT]{state:A, part:2}, targets:{1 .. m}}, ..., [MULTI_QUBIT_ELEM]{element:[OUTPUT]{state:A, part:m}, targets:{1 .. m}}))) equiv QCIRCUIT(VertExprArray(([OUTPUT]{state:B_{1}}, [OUTPUT]{state:B_{2}}, ..., [OUTPUT]{state:B_{m}})))) <=> (A = (B_{1} otimes  B_{2} otimes  ... otimes  B_{m}))\n",
       "    core type: Operation\n",
       "    operator: 11\n",
       "    operands: 12\n",
       "11. <=>\n",
       "    core type: Literal\n",
       "    sub-expressions: \n",
       "12. (QCIRCUIT(VertExprArray(([MULTI_QUBIT_ELEM]{element:[OUTPUT]{state:A, part:1}, targets:{1 .. m}}, [MULTI_QUBIT_ELEM]{element:[OUTPUT]{state:A, part:2}, targets:{1 .. m}}, ..., [MULTI_QUBIT_ELEM]{element:[OUTPUT]{state:A, part:m}, targets:{1 .. m}}))) equiv QCIRCUIT(VertExprArray(([OUTPUT]{state:B_{1}}, [OUTPUT]{state:B_{2}}, ..., [OUTPUT]{state:B_{m}}))), A = (B_{1} otimes  B_{2} otimes  ... otimes  B_{m}))\n",
       "    core type: ExprTuple\n",
       "    sub-expressions: 13, 14\n",
       "13. QCIRCUIT(VertExprArray(([MULTI_QUBIT_ELEM]{element:[OUTPUT]{state:A, part:1}, targets:{1 .. m}}, [MULTI_QUBIT_ELEM]{element:[OUTPUT]{state:A, part:2}, targets:{1 .. m}}, ..., [MULTI_QUBIT_ELEM]{element:[OUTPUT]{state:A, part:m}, targets:{1 .. m}}))) equiv QCIRCUIT(VertExprArray(([OUTPUT]{state:B_{1}}, [OUTPUT]{state:B_{2}}, ..., [OUTPUT]{state:B_{m}})))\n",
       "    core type: Operation\n",
       "    operator: 15\n",
       "    operands: 16\n",
       "14. A = (B_{1} otimes  B_{2} otimes  ... otimes  B_{m})\n",
       "    core type: Operation\n",
       "    operator: 17\n",
       "    operands: 18\n",
       "15. equiv\n",
       "    core type: Literal\n",
       "    sub-expressions: \n",
       "16. (QCIRCUIT(VertExprArray(([MULTI_QUBIT_ELEM]{element:[OUTPUT]{state:A, part:1}, targets:{1 .. m}}, [MULTI_QUBIT_ELEM]{element:[OUTPUT]{state:A, part:2}, targets:{1 .. m}}, ..., [MULTI_QUBIT_ELEM]{element:[OUTPUT]{state:A, part:m}, targets:{1 .. m}}))), QCIRCUIT(VertExprArray(([OUTPUT]{state:B_{1}}, [OUTPUT]{state:B_{2}}, ..., [OUTPUT]{state:B_{m}}))))\n",
       "    core type: ExprTuple\n",
       "    sub-expressions: 19, 20\n",
       "17. =\n",
       "    core type: Literal\n",
       "    sub-expressions: \n",
       "18. (A, B_{1} otimes  B_{2} otimes  ... otimes  B_{m})\n",
       "    core type: ExprTuple\n",
       "    sub-expressions: 49, 21\n",
       "19. QCIRCUIT(VertExprArray(([MULTI_QUBIT_ELEM]{element:[OUTPUT]{state:A, part:1}, targets:{1 .. m}}, [MULTI_QUBIT_ELEM]{element:[OUTPUT]{state:A, part:2}, targets:{1 .. m}}, ..., [MULTI_QUBIT_ELEM]{element:[OUTPUT]{state:A, part:m}, targets:{1 .. m}})))\n",
       "    core type: Operation\n",
       "    operator: 23\n",
       "    operand: 27\n",
       "20. QCIRCUIT(VertExprArray(([OUTPUT]{state:B_{1}}, [OUTPUT]{state:B_{2}}, ..., [OUTPUT]{state:B_{m}})))\n",
       "    core type: Operation\n",
       "    operator: 23\n",
       "    operand: 28\n",
       "21. B_{1} otimes  B_{2} otimes  ... otimes  B_{m}\n",
       "    core type: Operation\n",
       "    operator: 25\n",
       "    operands: 26\n",
       "22. VertExprArray(([MULTI_QUBIT_ELEM]{element:[OUTPUT]{state:A, part:1}, targets:{1 .. m}}, [MULTI_QUBIT_ELEM]{element:[OUTPUT]{state:A, part:2}, targets:{1 .. m}}, ..., [MULTI_QUBIT_ELEM]{element:[OUTPUT]{state:A, part:m}, targets:{1 .. m}}))\n",
       "    core type: ExprTuple\n",
       "    sub-expressions: 27\n",
       "23. QCIRCUIT\n",
       "    core type: Literal\n",
       "    sub-expressions: \n",
       "24. VertExprArray(([OUTPUT]{state:B_{1}}, [OUTPUT]{state:B_{2}}, ..., [OUTPUT]{state:B_{m}}))\n",
       "    core type: ExprTuple\n",
       "    sub-expressions: 28\n",
       "25. otimes\n",
       "    core type: Literal\n",
       "    sub-expressions: \n",
       "26. (B_{1}, B_{2}, ..., B_{m})\n",
       "    core type: ExprTuple\n",
       "    sub-expressions: 29\n",
       "27. ([MULTI_QUBIT_ELEM]{element:[OUTPUT]{state:A, part:1}, targets:{1 .. m}}, [MULTI_QUBIT_ELEM]{element:[OUTPUT]{state:A, part:2}, targets:{1 .. m}}, ..., [MULTI_QUBIT_ELEM]{element:[OUTPUT]{state:A, part:m}, targets:{1 .. m}})\n",
       "    core type: ExprTuple\n",
       "    sub-expressions: 30\n",
       "28. ([OUTPUT]{state:B_{1}}, [OUTPUT]{state:B_{2}}, ..., [OUTPUT]{state:B_{m}})\n",
       "    core type: ExprTuple\n",
       "    sub-expressions: 31\n",
       "29. B_{1}, B_{2}, ..., B_{m}\n",
       "    core type: ExprRange\n",
       "    lambda_map: 32\n",
       "    start_index: 50\n",
       "    end_index: 51\n",
       "30. [MULTI_QUBIT_ELEM]{element:[OUTPUT]{state:A, part:1}, targets:{1 .. m}}, [MULTI_QUBIT_ELEM]{element:[OUTPUT]{state:A, part:2}, targets:{1 .. m}}, ..., [MULTI_QUBIT_ELEM]{element:[OUTPUT]{state:A, part:m}, targets:{1 .. m}}\n",
       "    core type: ExprRange\n",
       "    lambda_map: 33\n",
       "    start_index: 50\n",
       "    end_index: 51\n",
       "31. [OUTPUT]{state:B_{1}}, [OUTPUT]{state:B_{2}}, ..., [OUTPUT]{state:B_{m}}\n",
       "    core type: ExprRange\n",
       "    lambda_map: 34\n",
       "    start_index: 50\n",
       "    end_index: 51\n",
       "32. _a -> B_{_a}\n",
       "    core type: Lambda\n",
       "    parameter: 52\n",
       "    body: 42\n",
       "33. _a -> [MULTI_QUBIT_ELEM]{element:[OUTPUT]{state:A, part:_a}, targets:{1 .. m}}\n",
       "    core type: Lambda\n",
       "    parameter: 52\n",
       "    body: 35\n",
       "34. _a -> [OUTPUT]{state:B_{_a}}\n",
       "    core type: Lambda\n",
       "    parameter: 52\n",
       "    body: 36\n",
       "35. [MULTI_QUBIT_ELEM]{element:[OUTPUT]{state:A, part:_a}, targets:{1 .. m}}\n",
       "    core type: Operation\n",
       "    operator: 37\n",
       "    operands: 38\n",
       "36. [OUTPUT]{state:B_{_a}}\n",
       "    core type: Operation\n",
       "    operator: 43\n",
       "    operands: 39\n",
       "37. MULTI_QUBIT_ELEM\n",
       "    core type: Literal\n",
       "    sub-expressions: \n",
       "38. {element:[OUTPUT]{state:A, part:_a}, targets:{1 .. m}}\n",
       "    core type: NamedExprs\n",
       "    element: 40\n",
       "    targets: 41\n",
       "39. {state:B_{_a}}\n",
       "    core type: NamedExprs\n",
       "    state: 42\n",
       "40. [OUTPUT]{state:A, part:_a}\n",
       "    core type: Operation\n",
       "    operator: 43\n",
       "    operands: 44\n",
       "41. {1 .. m}\n",
       "    core type: Operation\n",
       "    operator: 45\n",
       "    operands: 46\n",
       "42. B_{_a}\n",
       "    core type: IndexedVar\n",
       "variable: 47\n",
       "index: 52\n",
       "43. OUTPUT\n",
       "    core type: Literal\n",
       "    sub-expressions: \n",
       "44. {state:A, part:_a}\n",
       "    core type: NamedExprs\n",
       "    state: 49\n",
       "    part: 52\n",
       "45. Interval\n",
       "    core type: Literal\n",
       "    sub-expressions: \n",
       "46. (1, m)\n",
       "    core type: ExprTuple\n",
       "    sub-expressions: 50, 51\n",
       "47. B\n",
       "    core type: Variable\n",
       "    sub-expressions: \n",
       "48. (_a)\n",
       "    core type: ExprTuple\n",
       "    sub-expressions: 52\n",
       "49. A\n",
       "    core type: Variable\n",
       "    sub-expressions: \n",
       "50. 1\n",
       "    core type: Literal\n",
       "    sub-expressions: \n",
       "51. m\n",
       "    core type: Variable\n",
       "    sub-expressions: \n",
       "52. _a\n",
       "    core type: Variable\n",
       "    sub-expressions: "
      ]
     },
     "metadata": {},
     "output_type": "display_data"
    }
   ],
   "source": [
    "# display the expression information\n",
    "stored_expr.expr_info()"
   ]
  },
  {
   "cell_type": "code",
   "execution_count": null,
   "metadata": {},
   "outputs": [],
   "source": []
  }
 ],
 "metadata": {
  "kernelspec": {
   "display_name": "Python 3",
   "language": "python",
   "name": "python3"
  }
 },
 "nbformat": 4,
 "nbformat_minor": 0
}