{
 "cells": [
  {
   "cell_type": "markdown",
   "metadata": {},
   "source": [
    "Expression of type <a class=\"ProveItLink\" href=\"../../../../../../../../doc/html/api/proveit.physics.quantum.circuits.QcircuitEquiv.html\">QcircuitEquiv</a>\n",
    "=======================\n",
    "# from the theory of <a class=\"ProveItLink\" href=\"../../../_theory_nbs_/theory.ipynb\">proveit.physics.quantum.circuits</a>"
   ]
  },
  {
   "cell_type": "code",
   "execution_count": 1,
   "metadata": {},
   "outputs": [],
   "source": [
    "import proveit\n",
    "# Automation is not needed when building an expression:\n",
    "proveit.defaults.automation = False # This will speed things up.\n",
    "proveit.defaults.inline_pngs = False # Makes files smaller.\n",
    "%load_expr # Load the stored expression as 'stored_expr'\n",
    "# import Expression classes needed to build the expression\n",
    "from proveit.physics.quantum.circuits import QcircuitEquiv, circuit_Akm, circuit_Bkn"
   ]
  },
  {
   "cell_type": "code",
   "execution_count": 2,
   "metadata": {},
   "outputs": [
    {
     "data": {
      "text/html": [
       "<strong id=\"expr\">expr:</strong> <a class=\"ProveItLink\" href=\"expr.ipynb\"><img src=\"expr.png\" style=\"display:inline;vertical-align:middle;\" /></a><br>"
      ],
      "text/plain": [
       "<IPython.core.display.HTML object>"
      ]
     },
     "metadata": {},
     "output_type": "display_data"
    }
   ],
   "source": [
    "# build up the expression from sub-expressions\n",
    "expr = QcircuitEquiv(circuit_Akm, circuit_Bkn)"
   ]
  },
  {
   "cell_type": "code",
   "execution_count": 3,
   "metadata": {},
   "outputs": [
    {
     "name": "stdout",
     "output_type": "stream",
     "text": [
      "Passed sanity check: expr matches stored_expr\n"
     ]
    }
   ],
   "source": [
    "# check that the built expression is the same as the stored expression\n",
    "assert expr == stored_expr\n",
    "assert expr._style_id == stored_expr._style_id\n",
    "print(\"Passed sanity check: expr matches stored_expr\")"
   ]
  },
  {
   "cell_type": "code",
   "execution_count": 4,
   "metadata": {},
   "outputs": [
    {
     "name": "stdout",
     "output_type": "stream",
     "text": [
      "\\left(\\begin{array}{c} \\Qcircuit@C=1em @R=.7em{\n",
      "& \\gate{A_{1, 1}~\\mbox{on}~R_{1, 1}} \\qwx[1] & \\gate{A_{2, 1}~\\mbox{on}~R_{2, 1}} \\qwx[1] & \\gate{\\cdots} \\qwx[1] & \\gate{A_{m, 1}~\\mbox{on}~R_{m, 1}} \\qwx[1] & \\qw \\\\\n",
      "& \\gate{A_{1, 2}~\\mbox{on}~R_{1, 2}} \\qwx[1] & \\gate{A_{2, 2}~\\mbox{on}~R_{2, 2}} \\qwx[1] & \\gate{\\cdots} \\qwx[1] & \\gate{A_{m, 2}~\\mbox{on}~R_{m, 2}} \\qwx[1] & \\qw \\\\\n",
      "& \\gate{\\vdots} \\qwx[1] & \\gate{\\vdots} \\qwx[1] & \\gate{\\ddots} \\qwx[1] & \\gate{\\vdots} \\qwx[1] & \\qw \\\\\n",
      "& \\gate{A_{1, k}~\\mbox{on}~R_{1, k}} & \\gate{A_{2, k}~\\mbox{on}~R_{2, k}} & \\gate{\\cdots} & \\gate{A_{m, k}~\\mbox{on}~R_{m, k}} & \\qw\n",
      "} \\end{array}\\right) \\cong \\left(\\begin{array}{c} \\Qcircuit@C=1em @R=.7em{\n",
      "& \\gate{B_{1, 1}~\\mbox{on}~S_{1, 1}} \\qwx[1] & \\gate{B_{2, 1}~\\mbox{on}~S_{2, 1}} \\qwx[1] & \\gate{\\cdots} \\qwx[1] & \\gate{B_{n, 1}~\\mbox{on}~S_{n, 1}} \\qwx[1] & \\qw \\\\\n",
      "& \\gate{B_{1, 2}~\\mbox{on}~S_{1, 2}} \\qwx[1] & \\gate{B_{2, 2}~\\mbox{on}~S_{2, 2}} \\qwx[1] & \\gate{\\cdots} \\qwx[1] & \\gate{B_{n, 2}~\\mbox{on}~S_{n, 2}} \\qwx[1] & \\qw \\\\\n",
      "& \\gate{\\vdots} \\qwx[1] & \\gate{\\vdots} \\qwx[1] & \\gate{\\ddots} \\qwx[1] & \\gate{\\vdots} \\qwx[1] & \\qw \\\\\n",
      "& \\gate{B_{1, k}~\\mbox{on}~S_{1, k}} & \\gate{B_{2, k}~\\mbox{on}~S_{2, k}} & \\gate{\\cdots} & \\gate{B_{n, k}~\\mbox{on}~S_{n, k}} & \\qw\n",
      "} \\end{array}\\right)\n"
     ]
    }
   ],
   "source": [
    "# Show the LaTeX representation of the expression for convenience if you need it.\n",
    "print(stored_expr.latex())"
   ]
  },
  {
   "cell_type": "code",
   "execution_count": 5,
   "metadata": {},
   "outputs": [
    {
     "data": {
      "text/html": [
       "<table>\n",
       "<tr><th>name</th><th>description</th><th>default</th><th>current value</th><th>related methods</th></tr><tr><td>operation</td><td>'infix' or 'function' style formatting</td><td>infix</td><td>infix</td><td></td></tr>\n",
       "<tr><td>wrap_positions</td><td>position(s) at which wrapping is to occur; '2 n - 1' is after the nth operand, '2 n' is after the nth operation.</td><td>()</td><td>()</td><td>('with_wrapping_at', 'with_wrap_before_operator', 'with_wrap_after_operator', 'without_wrapping', 'wrap_positions')</td></tr>\n",
       "<tr><td>justification</td><td>if any wrap positions are set, justify to the 'left', 'center', or 'right'</td><td>center</td><td>center</td><td>('with_justification',)</td></tr>\n",
       "<tr><td>direction</td><td>Direction of the relation (normal or reversed)</td><td>normal</td><td>normal</td><td>('with_direction_reversed', 'is_reversed')</td></tr>\n",
       "</table>\n"
      ],
      "text/plain": [
       "style name: operation\n",
       "description: 'infix' or 'function' style formatting\n",
       "default: infix\n",
       "current value: infix\n",
       "related methods: ()\n",
       "style name: wrap_positions\n",
       "description: position(s) at which wrapping is to occur; '2 n - 1' is after the nth operand, '2 n' is after the nth operation.\n",
       "default: ()\n",
       "current value: ()\n",
       "related methods: ('with_wrapping_at', 'with_wrap_before_operator', 'with_wrap_after_operator', 'without_wrapping', 'wrap_positions')\n",
       "style name: justification\n",
       "description: if any wrap positions are set, justify to the 'left', 'center', or 'right'\n",
       "default: center\n",
       "current value: center\n",
       "related methods: ('with_justification',)\n",
       "style name: direction\n",
       "description: Direction of the relation (normal or reversed)\n",
       "default: normal\n",
       "current value: normal\n",
       "related methods: ('with_direction_reversed', 'is_reversed')"
      ]
     },
     "metadata": {},
     "output_type": "display_data"
    }
   ],
   "source": [
    "stored_expr.style_options()"
   ]
  },
  {
   "cell_type": "code",
   "execution_count": 6,
   "metadata": {},
   "outputs": [
    {
     "data": {
      "text/html": [
       "<table><tr><th>&nbsp;</th><th>core type</th><th>sub-expressions</th><th>expression</th></tr>\n",
       "<tr><td>0</td><td>Operation</td><td>operator:&nbsp;1<br>operands:&nbsp;2<br></td><td><a class=\"ProveItLink\" href=\"expr.ipynb\"><img src=\"expr.png\" style=\"display:inline;vertical-align:middle;\" /></a></td></tr>\n",
       "<tr><td>1</td><td>Literal</td><td></td><td><a class=\"ProveItLink\" href=\"../../common/838a207b4d233a1702a5e7821ffac032fcae32e80/expr.ipynb\"><img src=\"../../common/838a207b4d233a1702a5e7821ffac032fcae32e80/expr.png\" style=\"display:inline;vertical-align:middle;\" /></a></td></tr>\n",
       "<tr><td>2</td><td>ExprTuple</td><td>3, 4</td><td><a class=\"ProveItLink\" href=\"../5460174b05637d2c7af5033cea8d0362de8eefcf0/expr.ipynb\"><img src=\"../5460174b05637d2c7af5033cea8d0362de8eefcf0/expr.png\" style=\"display:inline;vertical-align:middle;\" /></a></td></tr>\n",
       "<tr><td>3</td><td>Operation</td><td>operator:&nbsp;6<br>operands:&nbsp;5<br></td><td><a class=\"ProveItLink\" href=\"../../common/15eda79eb3c781f57941474ac993e6cf5ef9f0420/expr.ipynb\"><img src=\"../../common/15eda79eb3c781f57941474ac993e6cf5ef9f0420/expr.png\" style=\"display:inline;vertical-align:middle;\" /></a></td></tr>\n",
       "<tr><td>4</td><td>Operation</td><td>operator:&nbsp;6<br>operands:&nbsp;7<br></td><td><a class=\"ProveItLink\" href=\"../../common/bc6570053c33837722a8f16a152a03e3267c86f10/expr.ipynb\"><img src=\"../../common/bc6570053c33837722a8f16a152a03e3267c86f10/expr.png\" style=\"display:inline;vertical-align:middle;\" /></a></td></tr>\n",
       "<tr><td>5</td><td>ExprTuple</td><td>8</td><td><a class=\"ProveItLink\" href=\"../../common/d2cb3038e3531ad8a1e4cf5bc6cb551ab2788cee0/expr.ipynb\"><img src=\"../../common/d2cb3038e3531ad8a1e4cf5bc6cb551ab2788cee0/expr.png\" style=\"display:inline;vertical-align:middle;\" /></a></td></tr>\n",
       "<tr><td>6</td><td>Literal</td><td></td><td><a class=\"ProveItLink\" href=\"../../common/40003b89a3d1740159ada9fe5b21308b42a7d3d40/expr.ipynb\"><img src=\"../../common/40003b89a3d1740159ada9fe5b21308b42a7d3d40/expr.png\" style=\"display:inline;vertical-align:middle;\" /></a></td></tr>\n",
       "<tr><td>7</td><td>ExprTuple</td><td>9</td><td><a class=\"ProveItLink\" href=\"../../common/f3500ef3515a7d37efbedeffc7d0ee9f06e1e1c80/expr.ipynb\"><img src=\"../../common/f3500ef3515a7d37efbedeffc7d0ee9f06e1e1c80/expr.png\" style=\"display:inline;vertical-align:middle;\" /></a></td></tr>\n",
       "<tr><td>8</td><td>ExprRange</td><td>lambda_map:&nbsp;10<br>start_index:&nbsp;21<br>end_index:&nbsp;11<br></td><td><a class=\"ProveItLink\" href=\"../../common/a2fdf89d38fa18f43c185e13d6fc18216fa123120/expr.ipynb\"><img src=\"../../common/a2fdf89d38fa18f43c185e13d6fc18216fa123120/expr.png\" style=\"display:inline;vertical-align:middle;\" /></a></td></tr>\n",
       "<tr><td>9</td><td>ExprRange</td><td>lambda_map:&nbsp;12<br>start_index:&nbsp;21<br>end_index:&nbsp;13<br></td><td><a class=\"ProveItLink\" href=\"../../common/c9b8868ac4bcbee724ec6c942ac680b981dad0280/expr.ipynb\"><img src=\"../../common/c9b8868ac4bcbee724ec6c942ac680b981dad0280/expr.png\" style=\"display:inline;vertical-align:middle;\" /></a></td></tr>\n",
       "<tr><td>10</td><td>Lambda</td><td>parameter:&nbsp;38<br>body:&nbsp;14<br></td><td><a class=\"ProveItLink\" href=\"../../common/8449ecf45664c3b3fef979ce9930d5ced38dd3430/expr.ipynb\"><img src=\"../../common/8449ecf45664c3b3fef979ce9930d5ced38dd3430/expr.png\" style=\"display:inline;vertical-align:middle;\" /></a></td></tr>\n",
       "<tr><td>11</td><td>Variable</td><td></td><td><a class=\"ProveItLink\" href=\"../../../../../../__pv_it/common/674a03b9c3ca221b3aabd5636837b31528ff33830/expr.ipynb\"><img src=\"../../../../../../__pv_it/common/674a03b9c3ca221b3aabd5636837b31528ff33830/expr.png\" style=\"display:inline;vertical-align:middle;\" /></a></td></tr>\n",
       "<tr><td>12</td><td>Lambda</td><td>parameter:&nbsp;38<br>body:&nbsp;16<br></td><td><a class=\"ProveItLink\" href=\"../../common/985ab5f5f6c7b991465c384571f98c356fff9aa90/expr.ipynb\"><img src=\"../../common/985ab5f5f6c7b991465c384571f98c356fff9aa90/expr.png\" style=\"display:inline;vertical-align:middle;\" /></a></td></tr>\n",
       "<tr><td>13</td><td>Variable</td><td></td><td><a class=\"ProveItLink\" href=\"../../../../../../__pv_it/common/8968bb04eb3f7dfa02353397ce929b025bbd79c20/expr.ipynb\"><img src=\"../../../../../../__pv_it/common/8968bb04eb3f7dfa02353397ce929b025bbd79c20/expr.png\" style=\"display:inline;vertical-align:middle;\" /></a></td></tr>\n",
       "<tr><td>14</td><td>ExprTuple</td><td>17</td><td><a class=\"ProveItLink\" href=\"../../common/fb2198620052a67117584c0434958e970ade988a0/expr.ipynb\"><img src=\"../../common/fb2198620052a67117584c0434958e970ade988a0/expr.png\" style=\"display:inline;vertical-align:middle;\" /></a></td></tr>\n",
       "<tr><td>15</td><td>ExprTuple</td><td>38</td><td><a class=\"ProveItLink\" href=\"../../../../../../core_expr_types/expr_arrays/__pv_it/common/18f7318b68e45ff8356043b6e71619fa8450fb200/expr.ipynb\"><img src=\"../../../../../../core_expr_types/expr_arrays/__pv_it/common/18f7318b68e45ff8356043b6e71619fa8450fb200/expr.png\" style=\"display:inline;vertical-align:middle;\" /></a></td></tr>\n",
       "<tr><td>16</td><td>ExprTuple</td><td>18</td><td><a class=\"ProveItLink\" href=\"../../common/c9f435d606d5fcd7adcd0e00ef087f3231c380490/expr.ipynb\"><img src=\"../../common/c9f435d606d5fcd7adcd0e00ef087f3231c380490/expr.png\" style=\"display:inline;vertical-align:middle;\" /></a></td></tr>\n",
       "<tr><td>17</td><td>ExprRange</td><td>lambda_map:&nbsp;19<br>start_index:&nbsp;21<br>end_index:&nbsp;22<br></td><td><a class=\"ProveItLink\" href=\"../../common/92208ceda3f7100ce294e5fb31daa3fca8cd3d7f0/expr.ipynb\"><img src=\"../../common/92208ceda3f7100ce294e5fb31daa3fca8cd3d7f0/expr.png\" style=\"display:inline;vertical-align:middle;\" /></a></td></tr>\n",
       "<tr><td>18</td><td>ExprRange</td><td>lambda_map:&nbsp;20<br>start_index:&nbsp;21<br>end_index:&nbsp;22<br></td><td><a class=\"ProveItLink\" href=\"../../common/fe84ee1eca039d437b468eb66908ef1a3edcbaec0/expr.ipynb\"><img src=\"../../common/fe84ee1eca039d437b468eb66908ef1a3edcbaec0/expr.png\" style=\"display:inline;vertical-align:middle;\" /></a></td></tr>\n",
       "<tr><td>19</td><td>Lambda</td><td>parameter:&nbsp;39<br>body:&nbsp;23<br></td><td><a class=\"ProveItLink\" href=\"../../common/b45696b93fefc8c861c0f05f31d9ed26fde8760d0/expr.ipynb\"><img src=\"../../common/b45696b93fefc8c861c0f05f31d9ed26fde8760d0/expr.png\" style=\"display:inline;vertical-align:middle;\" /></a></td></tr>\n",
       "<tr><td>20</td><td>Lambda</td><td>parameter:&nbsp;39<br>body:&nbsp;25<br></td><td><a class=\"ProveItLink\" href=\"../../common/61255e922742f0140b48df2ceaa534788ca630d20/expr.ipynb\"><img src=\"../../common/61255e922742f0140b48df2ceaa534788ca630d20/expr.png\" style=\"display:inline;vertical-align:middle;\" /></a></td></tr>\n",
       "<tr><td>21</td><td>Literal</td><td></td><td><a class=\"ProveItLink\" href=\"../../../../../../numbers/numerals/__pv_it/common/682157d4892d216d9e5626ed533aff9b56b9506e0/expr.ipynb\"><img src=\"../../../../../../numbers/numerals/__pv_it/common/682157d4892d216d9e5626ed533aff9b56b9506e0/expr.png\" style=\"display:inline;vertical-align:middle;\" /></a></td></tr>\n",
       "<tr><td>22</td><td>Variable</td><td></td><td><a class=\"ProveItLink\" href=\"../../../../../../__pv_it/common/63b7c64bf9ec7a04ecc396c7a1670f3f12fb59490/expr.ipynb\"><img src=\"../../../../../../__pv_it/common/63b7c64bf9ec7a04ecc396c7a1670f3f12fb59490/expr.png\" style=\"display:inline;vertical-align:middle;\" /></a></td></tr>\n",
       "<tr><td>23</td><td>Operation</td><td>operator:&nbsp;27<br>operands:&nbsp;26<br></td><td><a class=\"ProveItLink\" href=\"../../common/83389986be2e3765e0415fcc2827e7612045a5db0/expr.ipynb\"><img src=\"../../common/83389986be2e3765e0415fcc2827e7612045a5db0/expr.png\" style=\"display:inline;vertical-align:middle;\" /></a></td></tr>\n",
       "<tr><td>24</td><td>ExprTuple</td><td>39</td><td><a class=\"ProveItLink\" href=\"../../../../../../core_expr_types/__pv_it/common/4b0dd6be36d76552eda6a95d5b4a27f5a5b62f900/expr.ipynb\"><img src=\"../../../../../../core_expr_types/__pv_it/common/4b0dd6be36d76552eda6a95d5b4a27f5a5b62f900/expr.png\" style=\"display:inline;vertical-align:middle;\" /></a></td></tr>\n",
       "<tr><td>25</td><td>Operation</td><td>operator:&nbsp;27<br>operands:&nbsp;28<br></td><td><a class=\"ProveItLink\" href=\"../../common/f3ed14dd929e3739ec8467d2e407ce1f452399760/expr.ipynb\"><img src=\"../../common/f3ed14dd929e3739ec8467d2e407ce1f452399760/expr.png\" style=\"display:inline;vertical-align:middle;\" /></a></td></tr>\n",
       "<tr><td>26</td><td>NamedExprs</td><td>element: 29<br>targets: 30<br></td><td><a class=\"ProveItLink\" href=\"../../common/f53446c5933e70791fa06c3f0ab3d6fecec92f540/expr.ipynb\"><img src=\"../../common/f53446c5933e70791fa06c3f0ab3d6fecec92f540/expr.png\" style=\"display:inline;vertical-align:middle;\" /></a></td></tr>\n",
       "<tr><td>27</td><td>Literal</td><td></td><td><a class=\"ProveItLink\" href=\"../../common/5eaa43008f05c06941080a12337ff182ea14996e0/expr.ipynb\"><img src=\"../../common/5eaa43008f05c06941080a12337ff182ea14996e0/expr.png\" style=\"display:inline;vertical-align:middle;\" /></a></td></tr>\n",
       "<tr><td>28</td><td>NamedExprs</td><td>element: 31<br>targets: 32<br></td><td><a class=\"ProveItLink\" href=\"../../common/669c57ce15957cbc7ca3018b0c17facc3b4e373b0/expr.ipynb\"><img src=\"../../common/669c57ce15957cbc7ca3018b0c17facc3b4e373b0/expr.png\" style=\"display:inline;vertical-align:middle;\" /></a></td></tr>\n",
       "<tr><td>29</td><td>IndexedVar</td><td>variable:&nbsp;33<br>indices:&nbsp;37<br></td><td><a class=\"ProveItLink\" href=\"../../../../../../core_expr_types/expr_arrays/__pv_it/common/de56197d2c2a64a76930b89ea44fb63be43f4c020/expr.ipynb\"><img src=\"../../../../../../core_expr_types/expr_arrays/__pv_it/common/de56197d2c2a64a76930b89ea44fb63be43f4c020/expr.png\" style=\"display:inline;vertical-align:middle;\" /></a></td></tr>\n",
       "<tr><td>30</td><td>IndexedVar</td><td>variable:&nbsp;34<br>indices:&nbsp;37<br></td><td><a class=\"ProveItLink\" href=\"../../common/9f63f4fa390f65f917cfd4a5a56ca1fed476dbb90/expr.ipynb\"><img src=\"../../common/9f63f4fa390f65f917cfd4a5a56ca1fed476dbb90/expr.png\" style=\"display:inline;vertical-align:middle;\" /></a></td></tr>\n",
       "<tr><td>31</td><td>IndexedVar</td><td>variable:&nbsp;35<br>indices:&nbsp;37<br></td><td><a class=\"ProveItLink\" href=\"../../../../../../core_expr_types/expr_arrays/__pv_it/common/e79cd0fe4a2577a30580c7ee9d8c9195486094ac0/expr.ipynb\"><img src=\"../../../../../../core_expr_types/expr_arrays/__pv_it/common/e79cd0fe4a2577a30580c7ee9d8c9195486094ac0/expr.png\" style=\"display:inline;vertical-align:middle;\" /></a></td></tr>\n",
       "<tr><td>32</td><td>IndexedVar</td><td>variable:&nbsp;36<br>indices:&nbsp;37<br></td><td><a class=\"ProveItLink\" href=\"../../../../../../core_expr_types/expr_arrays/__pv_it/common/0f7c549cbda7f227e480c00ef45e264d9ad9b1850/expr.ipynb\"><img src=\"../../../../../../core_expr_types/expr_arrays/__pv_it/common/0f7c549cbda7f227e480c00ef45e264d9ad9b1850/expr.png\" style=\"display:inline;vertical-align:middle;\" /></a></td></tr>\n",
       "<tr><td>33</td><td>Variable</td><td></td><td><a class=\"ProveItLink\" href=\"../../../../../../__pv_it/common/09585084922504426caf1db2ff588a23a0932a960/expr.ipynb\"><img src=\"../../../../../../__pv_it/common/09585084922504426caf1db2ff588a23a0932a960/expr.png\" style=\"display:inline;vertical-align:middle;\" /></a></td></tr>\n",
       "<tr><td>34</td><td>Variable</td><td></td><td><a class=\"ProveItLink\" href=\"../../../../../../__pv_it/common/647ca33d6b96e29d5aa85a15d2241c7ebd0c6e4b0/expr.ipynb\"><img src=\"../../../../../../__pv_it/common/647ca33d6b96e29d5aa85a15d2241c7ebd0c6e4b0/expr.png\" style=\"display:inline;vertical-align:middle;\" /></a></td></tr>\n",
       "<tr><td>35</td><td>Variable</td><td></td><td><a class=\"ProveItLink\" href=\"../../../../../../__pv_it/common/a9162d1c3cc0470c02e5daf414500903a7a419230/expr.ipynb\"><img src=\"../../../../../../__pv_it/common/a9162d1c3cc0470c02e5daf414500903a7a419230/expr.png\" style=\"display:inline;vertical-align:middle;\" /></a></td></tr>\n",
       "<tr><td>36</td><td>Variable</td><td></td><td><a class=\"ProveItLink\" href=\"../../../../../../__pv_it/common/38f47c5670ea8c5b56253448e95d8afb56bc09b40/expr.ipynb\"><img src=\"../../../../../../__pv_it/common/38f47c5670ea8c5b56253448e95d8afb56bc09b40/expr.png\" style=\"display:inline;vertical-align:middle;\" /></a></td></tr>\n",
       "<tr><td>37</td><td>ExprTuple</td><td>38, 39</td><td><a class=\"ProveItLink\" href=\"../../../../../../core_expr_types/expr_arrays/__pv_it/common/c899820ca7633ea1589f21e8e039aa4da91850d80/expr.ipynb\"><img src=\"../../../../../../core_expr_types/expr_arrays/__pv_it/common/c899820ca7633ea1589f21e8e039aa4da91850d80/expr.png\" style=\"display:inline;vertical-align:middle;\" /></a></td></tr>\n",
       "<tr><td>38</td><td>Variable</td><td></td><td><a class=\"ProveItLink\" href=\"../../../../../../core_expr_types/expr_arrays/__pv_it/common/9a18d67b443cf8d92289c655ed91ec78766170a90/expr.ipynb\"><img src=\"../../../../../../core_expr_types/expr_arrays/__pv_it/common/9a18d67b443cf8d92289c655ed91ec78766170a90/expr.png\" style=\"display:inline;vertical-align:middle;\" /></a></td></tr>\n",
       "<tr><td>39</td><td>Variable</td><td></td><td><a class=\"ProveItLink\" href=\"../../../../../../core_expr_types/expr_arrays/__pv_it/common/006c465e50948aa2b52285e2de47974f741255cc0/expr.ipynb\"><img src=\"../../../../../../core_expr_types/expr_arrays/__pv_it/common/006c465e50948aa2b52285e2de47974f741255cc0/expr.png\" style=\"display:inline;vertical-align:middle;\" /></a></td></tr>\n",
       "</table>\n"
      ],
      "text/plain": [
       "0. QCIRCUIT(VertExprArray(([MULTI_QUBIT_ELEM]{element:A_{1, 1}, targets:R_{1, 1}}, [MULTI_QUBIT_ELEM]{element:A_{1, 2}, targets:R_{1, 2}}, ..., [MULTI_QUBIT_ELEM]{element:A_{1, k}, targets:R_{1, k}}), ([MULTI_QUBIT_ELEM]{element:A_{2, 1}, targets:R_{2, 1}}, [MULTI_QUBIT_ELEM]{element:A_{2, 2}, targets:R_{2, 2}}, ..., [MULTI_QUBIT_ELEM]{element:A_{2, k}, targets:R_{2, k}}), ..., ([MULTI_QUBIT_ELEM]{element:A_{m, 1}, targets:R_{m, 1}}, [MULTI_QUBIT_ELEM]{element:A_{m, 2}, targets:R_{m, 2}}, ..., [MULTI_QUBIT_ELEM]{element:A_{m, k}, targets:R_{m, k}}))) equiv QCIRCUIT(VertExprArray(([MULTI_QUBIT_ELEM]{element:B_{1, 1}, targets:S_{1, 1}}, [MULTI_QUBIT_ELEM]{element:B_{1, 2}, targets:S_{1, 2}}, ..., [MULTI_QUBIT_ELEM]{element:B_{1, k}, targets:S_{1, k}}), ([MULTI_QUBIT_ELEM]{element:B_{2, 1}, targets:S_{2, 1}}, [MULTI_QUBIT_ELEM]{element:B_{2, 2}, targets:S_{2, 2}}, ..., [MULTI_QUBIT_ELEM]{element:B_{2, k}, targets:S_{2, k}}), ..., ([MULTI_QUBIT_ELEM]{element:B_{n, 1}, targets:S_{n, 1}}, [MULTI_QUBIT_ELEM]{element:B_{n, 2}, targets:S_{n, 2}}, ..., [MULTI_QUBIT_ELEM]{element:B_{n, k}, targets:S_{n, k}})))\n",
       "   core type: Operation\n",
       "   operator: 1\n",
       "   operands: 2\n",
       "1. equiv\n",
       "   core type: Literal\n",
       "   sub-expressions: \n",
       "2. (QCIRCUIT(VertExprArray(([MULTI_QUBIT_ELEM]{element:A_{1, 1}, targets:R_{1, 1}}, [MULTI_QUBIT_ELEM]{element:A_{1, 2}, targets:R_{1, 2}}, ..., [MULTI_QUBIT_ELEM]{element:A_{1, k}, targets:R_{1, k}}), ([MULTI_QUBIT_ELEM]{element:A_{2, 1}, targets:R_{2, 1}}, [MULTI_QUBIT_ELEM]{element:A_{2, 2}, targets:R_{2, 2}}, ..., [MULTI_QUBIT_ELEM]{element:A_{2, k}, targets:R_{2, k}}), ..., ([MULTI_QUBIT_ELEM]{element:A_{m, 1}, targets:R_{m, 1}}, [MULTI_QUBIT_ELEM]{element:A_{m, 2}, targets:R_{m, 2}}, ..., [MULTI_QUBIT_ELEM]{element:A_{m, k}, targets:R_{m, k}}))), QCIRCUIT(VertExprArray(([MULTI_QUBIT_ELEM]{element:B_{1, 1}, targets:S_{1, 1}}, [MULTI_QUBIT_ELEM]{element:B_{1, 2}, targets:S_{1, 2}}, ..., [MULTI_QUBIT_ELEM]{element:B_{1, k}, targets:S_{1, k}}), ([MULTI_QUBIT_ELEM]{element:B_{2, 1}, targets:S_{2, 1}}, [MULTI_QUBIT_ELEM]{element:B_{2, 2}, targets:S_{2, 2}}, ..., [MULTI_QUBIT_ELEM]{element:B_{2, k}, targets:S_{2, k}}), ..., ([MULTI_QUBIT_ELEM]{element:B_{n, 1}, targets:S_{n, 1}}, [MULTI_QUBIT_ELEM]{element:B_{n, 2}, targets:S_{n, 2}}, ..., [MULTI_QUBIT_ELEM]{element:B_{n, k}, targets:S_{n, k}}))))\n",
       "   core type: ExprTuple\n",
       "   sub-expressions: 3, 4\n",
       "3. QCIRCUIT(VertExprArray(([MULTI_QUBIT_ELEM]{element:A_{1, 1}, targets:R_{1, 1}}, [MULTI_QUBIT_ELEM]{element:A_{1, 2}, targets:R_{1, 2}}, ..., [MULTI_QUBIT_ELEM]{element:A_{1, k}, targets:R_{1, k}}), ([MULTI_QUBIT_ELEM]{element:A_{2, 1}, targets:R_{2, 1}}, [MULTI_QUBIT_ELEM]{element:A_{2, 2}, targets:R_{2, 2}}, ..., [MULTI_QUBIT_ELEM]{element:A_{2, k}, targets:R_{2, k}}), ..., ([MULTI_QUBIT_ELEM]{element:A_{m, 1}, targets:R_{m, 1}}, [MULTI_QUBIT_ELEM]{element:A_{m, 2}, targets:R_{m, 2}}, ..., [MULTI_QUBIT_ELEM]{element:A_{m, k}, targets:R_{m, k}})))\n",
       "   core type: Operation\n",
       "   operator: 6\n",
       "   operands: 5\n",
       "4. QCIRCUIT(VertExprArray(([MULTI_QUBIT_ELEM]{element:B_{1, 1}, targets:S_{1, 1}}, [MULTI_QUBIT_ELEM]{element:B_{1, 2}, targets:S_{1, 2}}, ..., [MULTI_QUBIT_ELEM]{element:B_{1, k}, targets:S_{1, k}}), ([MULTI_QUBIT_ELEM]{element:B_{2, 1}, targets:S_{2, 1}}, [MULTI_QUBIT_ELEM]{element:B_{2, 2}, targets:S_{2, 2}}, ..., [MULTI_QUBIT_ELEM]{element:B_{2, k}, targets:S_{2, k}}), ..., ([MULTI_QUBIT_ELEM]{element:B_{n, 1}, targets:S_{n, 1}}, [MULTI_QUBIT_ELEM]{element:B_{n, 2}, targets:S_{n, 2}}, ..., [MULTI_QUBIT_ELEM]{element:B_{n, k}, targets:S_{n, k}})))\n",
       "   core type: Operation\n",
       "   operator: 6\n",
       "   operands: 7\n",
       "5. VertExprArray(([MULTI_QUBIT_ELEM]{element:A_{1, 1}, targets:R_{1, 1}}, [MULTI_QUBIT_ELEM]{element:A_{1, 2}, targets:R_{1, 2}}, ..., [MULTI_QUBIT_ELEM]{element:A_{1, k}, targets:R_{1, k}}), ([MULTI_QUBIT_ELEM]{element:A_{2, 1}, targets:R_{2, 1}}, [MULTI_QUBIT_ELEM]{element:A_{2, 2}, targets:R_{2, 2}}, ..., [MULTI_QUBIT_ELEM]{element:A_{2, k}, targets:R_{2, k}}), ..., ([MULTI_QUBIT_ELEM]{element:A_{m, 1}, targets:R_{m, 1}}, [MULTI_QUBIT_ELEM]{element:A_{m, 2}, targets:R_{m, 2}}, ..., [MULTI_QUBIT_ELEM]{element:A_{m, k}, targets:R_{m, k}}))\n",
       "   core type: ExprTuple\n",
       "   sub-expressions: 8\n",
       "6. QCIRCUIT\n",
       "   core type: Literal\n",
       "   sub-expressions: \n",
       "7. VertExprArray(([MULTI_QUBIT_ELEM]{element:B_{1, 1}, targets:S_{1, 1}}, [MULTI_QUBIT_ELEM]{element:B_{1, 2}, targets:S_{1, 2}}, ..., [MULTI_QUBIT_ELEM]{element:B_{1, k}, targets:S_{1, k}}), ([MULTI_QUBIT_ELEM]{element:B_{2, 1}, targets:S_{2, 1}}, [MULTI_QUBIT_ELEM]{element:B_{2, 2}, targets:S_{2, 2}}, ..., [MULTI_QUBIT_ELEM]{element:B_{2, k}, targets:S_{2, k}}), ..., ([MULTI_QUBIT_ELEM]{element:B_{n, 1}, targets:S_{n, 1}}, [MULTI_QUBIT_ELEM]{element:B_{n, 2}, targets:S_{n, 2}}, ..., [MULTI_QUBIT_ELEM]{element:B_{n, k}, targets:S_{n, k}}))\n",
       "   core type: ExprTuple\n",
       "   sub-expressions: 9\n",
       "8. ([MULTI_QUBIT_ELEM]{element:A_{1, 1}, targets:R_{1, 1}}, [MULTI_QUBIT_ELEM]{element:A_{1, 2}, targets:R_{1, 2}}, ..., [MULTI_QUBIT_ELEM]{element:A_{1, k}, targets:R_{1, k}}), ([MULTI_QUBIT_ELEM]{element:A_{2, 1}, targets:R_{2, 1}}, [MULTI_QUBIT_ELEM]{element:A_{2, 2}, targets:R_{2, 2}}, ..., [MULTI_QUBIT_ELEM]{element:A_{2, k}, targets:R_{2, k}}), ..., ([MULTI_QUBIT_ELEM]{element:A_{m, 1}, targets:R_{m, 1}}, [MULTI_QUBIT_ELEM]{element:A_{m, 2}, targets:R_{m, 2}}, ..., [MULTI_QUBIT_ELEM]{element:A_{m, k}, targets:R_{m, k}})\n",
       "   core type: ExprRange\n",
       "   lambda_map: 10\n",
       "   start_index: 21\n",
       "   end_index: 11\n",
       "9. ([MULTI_QUBIT_ELEM]{element:B_{1, 1}, targets:S_{1, 1}}, [MULTI_QUBIT_ELEM]{element:B_{1, 2}, targets:S_{1, 2}}, ..., [MULTI_QUBIT_ELEM]{element:B_{1, k}, targets:S_{1, k}}), ([MULTI_QUBIT_ELEM]{element:B_{2, 1}, targets:S_{2, 1}}, [MULTI_QUBIT_ELEM]{element:B_{2, 2}, targets:S_{2, 2}}, ..., [MULTI_QUBIT_ELEM]{element:B_{2, k}, targets:S_{2, k}}), ..., ([MULTI_QUBIT_ELEM]{element:B_{n, 1}, targets:S_{n, 1}}, [MULTI_QUBIT_ELEM]{element:B_{n, 2}, targets:S_{n, 2}}, ..., [MULTI_QUBIT_ELEM]{element:B_{n, k}, targets:S_{n, k}})\n",
       "   core type: ExprRange\n",
       "   lambda_map: 12\n",
       "   start_index: 21\n",
       "   end_index: 13\n",
       "10. _b -> ([MULTI_QUBIT_ELEM]{element:A_{_b, 1}, targets:R_{_b, 1}}, [MULTI_QUBIT_ELEM]{element:A_{_b, 2}, targets:R_{_b, 2}}, ..., [MULTI_QUBIT_ELEM]{element:A_{_b, k}, targets:R_{_b, k}})\n",
       "    core type: Lambda\n",
       "    parameter: 38\n",
       "    body: 14\n",
       "11. m\n",
       "    core type: Variable\n",
       "    sub-expressions: \n",
       "12. _b -> ([MULTI_QUBIT_ELEM]{element:B_{_b, 1}, targets:S_{_b, 1}}, [MULTI_QUBIT_ELEM]{element:B_{_b, 2}, targets:S_{_b, 2}}, ..., [MULTI_QUBIT_ELEM]{element:B_{_b, k}, targets:S_{_b, k}})\n",
       "    core type: Lambda\n",
       "    parameter: 38\n",
       "    body: 16\n",
       "13. n\n",
       "    core type: Variable\n",
       "    sub-expressions: \n",
       "14. ([MULTI_QUBIT_ELEM]{element:A_{_b, 1}, targets:R_{_b, 1}}, [MULTI_QUBIT_ELEM]{element:A_{_b, 2}, targets:R_{_b, 2}}, ..., [MULTI_QUBIT_ELEM]{element:A_{_b, k}, targets:R_{_b, k}})\n",
       "    core type: ExprTuple\n",
       "    sub-expressions: 17\n",
       "15. (_b)\n",
       "    core type: ExprTuple\n",
       "    sub-expressions: 38\n",
       "16. ([MULTI_QUBIT_ELEM]{element:B_{_b, 1}, targets:S_{_b, 1}}, [MULTI_QUBIT_ELEM]{element:B_{_b, 2}, targets:S_{_b, 2}}, ..., [MULTI_QUBIT_ELEM]{element:B_{_b, k}, targets:S_{_b, k}})\n",
       "    core type: ExprTuple\n",
       "    sub-expressions: 18\n",
       "17. [MULTI_QUBIT_ELEM]{element:A_{_b, 1}, targets:R_{_b, 1}}, [MULTI_QUBIT_ELEM]{element:A_{_b, 2}, targets:R_{_b, 2}}, ..., [MULTI_QUBIT_ELEM]{element:A_{_b, k}, targets:R_{_b, k}}\n",
       "    core type: ExprRange\n",
       "    lambda_map: 19\n",
       "    start_index: 21\n",
       "    end_index: 22\n",
       "18. [MULTI_QUBIT_ELEM]{element:B_{_b, 1}, targets:S_{_b, 1}}, [MULTI_QUBIT_ELEM]{element:B_{_b, 2}, targets:S_{_b, 2}}, ..., [MULTI_QUBIT_ELEM]{element:B_{_b, k}, targets:S_{_b, k}}\n",
       "    core type: ExprRange\n",
       "    lambda_map: 20\n",
       "    start_index: 21\n",
       "    end_index: 22\n",
       "19. _a -> [MULTI_QUBIT_ELEM]{element:A_{_b, _a}, targets:R_{_b, _a}}\n",
       "    core type: Lambda\n",
       "    parameter: 39\n",
       "    body: 23\n",
       "20. _a -> [MULTI_QUBIT_ELEM]{element:B_{_b, _a}, targets:S_{_b, _a}}\n",
       "    core type: Lambda\n",
       "    parameter: 39\n",
       "    body: 25\n",
       "21. 1\n",
       "    core type: Literal\n",
       "    sub-expressions: \n",
       "22. k\n",
       "    core type: Variable\n",
       "    sub-expressions: \n",
       "23. [MULTI_QUBIT_ELEM]{element:A_{_b, _a}, targets:R_{_b, _a}}\n",
       "    core type: Operation\n",
       "    operator: 27\n",
       "    operands: 26\n",
       "24. (_a)\n",
       "    core type: ExprTuple\n",
       "    sub-expressions: 39\n",
       "25. [MULTI_QUBIT_ELEM]{element:B_{_b, _a}, targets:S_{_b, _a}}\n",
       "    core type: Operation\n",
       "    operator: 27\n",
       "    operands: 28\n",
       "26. {element:A_{_b, _a}, targets:R_{_b, _a}}\n",
       "    core type: NamedExprs\n",
       "    element: 29\n",
       "    targets: 30\n",
       "27. MULTI_QUBIT_ELEM\n",
       "    core type: Literal\n",
       "    sub-expressions: \n",
       "28. {element:B_{_b, _a}, targets:S_{_b, _a}}\n",
       "    core type: NamedExprs\n",
       "    element: 31\n",
       "    targets: 32\n",
       "29. A_{_b, _a}\n",
       "    core type: IndexedVar\n",
       "variable: 33\n",
       "indices: 37\n",
       "30. R_{_b, _a}\n",
       "    core type: IndexedVar\n",
       "variable: 34\n",
       "indices: 37\n",
       "31. B_{_b, _a}\n",
       "    core type: IndexedVar\n",
       "variable: 35\n",
       "indices: 37\n",
       "32. S_{_b, _a}\n",
       "    core type: IndexedVar\n",
       "variable: 36\n",
       "indices: 37\n",
       "33. A\n",
       "    core type: Variable\n",
       "    sub-expressions: \n",
       "34. R\n",
       "    core type: Variable\n",
       "    sub-expressions: \n",
       "35. B\n",
       "    core type: Variable\n",
       "    sub-expressions: \n",
       "36. S\n",
       "    core type: Variable\n",
       "    sub-expressions: \n",
       "37. (_b, _a)\n",
       "    core type: ExprTuple\n",
       "    sub-expressions: 38, 39\n",
       "38. _b\n",
       "    core type: Variable\n",
       "    sub-expressions: \n",
       "39. _a\n",
       "    core type: Variable\n",
       "    sub-expressions: "
      ]
     },
     "metadata": {},
     "output_type": "display_data"
    }
   ],
   "source": [
    "# display the expression information\n",
    "stored_expr.expr_info()"
   ]
  },
  {
   "cell_type": "code",
   "execution_count": null,
   "metadata": {},
   "outputs": [],
   "source": []
  }
 ],
 "metadata": {
  "kernelspec": {
   "display_name": "Python 3",
   "language": "python",
   "name": "python3"
  }
 },
 "nbformat": 4,
 "nbformat_minor": 0
}