{
 "cells": [
  {
   "cell_type": "markdown",
   "metadata": {},
   "source": [
    "Expression of type <a class=\"ProveItLink\" href=\"../../../../../../../../doc/html/api/proveit.ExprTuple.html\">ExprTuple</a>\n",
    "=======================\n",
    "# from the theory of <a class=\"ProveItLink\" href=\"../../../_theory_nbs_/theory.ipynb\">proveit.physics.quantum.circuits</a>"
   ]
  },
  {
   "cell_type": "code",
   "execution_count": 1,
   "metadata": {},
   "outputs": [],
   "source": [
    "import proveit\n",
    "# Automation is not needed when building an expression:\n",
    "proveit.defaults.automation = False # This will speed things up.\n",
    "proveit.defaults.inline_pngs = False # Makes files smaller.\n",
    "%load_expr # Load the stored expression as 'stored_expr'\n",
    "# import Expression classes needed to build the expression\n",
    "from proveit import ExprTuple\n",
    "from proveit.physics.quantum.circuits import circuit_permuted_Akm, circuit_permuted_Bkn"
   ]
  },
  {
   "cell_type": "code",
   "execution_count": 2,
   "metadata": {},
   "outputs": [
    {
     "data": {
      "text/html": [
       "<strong id=\"expr\">expr:</strong> <a class=\"ProveItLink\" href=\"expr.ipynb\"><img src=\"expr.png\" style=\"display:inline;vertical-align:middle;\" /></a><br>"
      ],
      "text/plain": [
       "<IPython.core.display.HTML object>"
      ]
     },
     "metadata": {},
     "output_type": "display_data"
    }
   ],
   "source": [
    "# build up the expression from sub-expressions\n",
    "expr = ExprTuple(circuit_permuted_Akm, circuit_permuted_Bkn)"
   ]
  },
  {
   "cell_type": "code",
   "execution_count": 3,
   "metadata": {},
   "outputs": [
    {
     "name": "stdout",
     "output_type": "stream",
     "text": [
      "Passed sanity check: expr matches stored_expr\n"
     ]
    }
   ],
   "source": [
    "# check that the built expression is the same as the stored expression\n",
    "assert expr == stored_expr\n",
    "assert expr._style_id == stored_expr._style_id\n",
    "print(\"Passed sanity check: expr matches stored_expr\")"
   ]
  },
  {
   "cell_type": "code",
   "execution_count": 4,
   "metadata": {},
   "outputs": [
    {
     "name": "stdout",
     "output_type": "stream",
     "text": [
      "\\left(\\begin{array}{c} \\Qcircuit@C=1em @R=.7em{\n",
      "& \\gate{A_{p\\left(1\\right), 1}~\\mbox{on}~p^{\\leftarrow}\\left(R_{p\\left(1\\right), 1}\\right)} \\qwx[1] & \\gate{A_{p\\left(2\\right), 1}~\\mbox{on}~p^{\\leftarrow}\\left(R_{p\\left(2\\right), 1}\\right)} \\qwx[1] & \\gate{\\cdots} \\qwx[1] & \\gate{A_{p\\left(m\\right), 1}~\\mbox{on}~p^{\\leftarrow}\\left(R_{p\\left(m\\right), 1}\\right)} \\qwx[1] & \\qw \\\\\n",
      "& \\gate{A_{p\\left(1\\right), 2}~\\mbox{on}~p^{\\leftarrow}\\left(R_{p\\left(1\\right), 2}\\right)} \\qwx[1] & \\gate{A_{p\\left(2\\right), 2}~\\mbox{on}~p^{\\leftarrow}\\left(R_{p\\left(2\\right), 2}\\right)} \\qwx[1] & \\gate{\\cdots} \\qwx[1] & \\gate{A_{p\\left(m\\right), 2}~\\mbox{on}~p^{\\leftarrow}\\left(R_{p\\left(m\\right), 2}\\right)} \\qwx[1] & \\qw \\\\\n",
      "& \\gate{\\vdots} \\qwx[1] & \\gate{\\vdots} \\qwx[1] & \\gate{\\ddots} \\qwx[1] & \\gate{\\vdots} \\qwx[1] & \\qw \\\\\n",
      "& \\gate{A_{p\\left(1\\right), k}~\\mbox{on}~p^{\\leftarrow}\\left(R_{p\\left(1\\right), k}\\right)} & \\gate{A_{p\\left(2\\right), k}~\\mbox{on}~p^{\\leftarrow}\\left(R_{p\\left(2\\right), k}\\right)} & \\gate{\\cdots} & \\gate{A_{p\\left(m\\right), k}~\\mbox{on}~p^{\\leftarrow}\\left(R_{p\\left(m\\right), k}\\right)} & \\qw\n",
      "} \\end{array}, \\begin{array}{c} \\Qcircuit@C=1em @R=.7em{\n",
      "& \\gate{B_{p\\left(1\\right), 1}~\\mbox{on}~p^{\\leftarrow}\\left(S_{p\\left(1\\right), 1}\\right)} \\qwx[1] & \\gate{B_{p\\left(2\\right), 1}~\\mbox{on}~p^{\\leftarrow}\\left(S_{p\\left(2\\right), 1}\\right)} \\qwx[1] & \\gate{\\cdots} \\qwx[1] & \\gate{B_{p\\left(n\\right), 1}~\\mbox{on}~p^{\\leftarrow}\\left(S_{p\\left(n\\right), 1}\\right)} \\qwx[1] & \\qw \\\\\n",
      "& \\gate{B_{p\\left(1\\right), 2}~\\mbox{on}~p^{\\leftarrow}\\left(S_{p\\left(1\\right), 2}\\right)} \\qwx[1] & \\gate{B_{p\\left(2\\right), 2}~\\mbox{on}~p^{\\leftarrow}\\left(S_{p\\left(2\\right), 2}\\right)} \\qwx[1] & \\gate{\\cdots} \\qwx[1] & \\gate{B_{p\\left(n\\right), 2}~\\mbox{on}~p^{\\leftarrow}\\left(S_{p\\left(n\\right), 2}\\right)} \\qwx[1] & \\qw \\\\\n",
      "& \\gate{\\vdots} \\qwx[1] & \\gate{\\vdots} \\qwx[1] & \\gate{\\ddots} \\qwx[1] & \\gate{\\vdots} \\qwx[1] & \\qw \\\\\n",
      "& \\gate{B_{p\\left(1\\right), k}~\\mbox{on}~p^{\\leftarrow}\\left(S_{p\\left(1\\right), k}\\right)} & \\gate{B_{p\\left(2\\right), k}~\\mbox{on}~p^{\\leftarrow}\\left(S_{p\\left(2\\right), k}\\right)} & \\gate{\\cdots} & \\gate{B_{p\\left(n\\right), k}~\\mbox{on}~p^{\\leftarrow}\\left(S_{p\\left(n\\right), k}\\right)} & \\qw\n",
      "} \\end{array}\\right)\n"
     ]
    }
   ],
   "source": [
    "# Show the LaTeX representation of the expression for convenience if you need it.\n",
    "print(stored_expr.latex())"
   ]
  },
  {
   "cell_type": "code",
   "execution_count": 5,
   "metadata": {},
   "outputs": [
    {
     "data": {
      "text/html": [
       "<table>\n",
       "<tr><th>name</th><th>description</th><th>default</th><th>current value</th><th>related methods</th></tr><tr><td>wrap_positions</td><td>position(s) at which wrapping is to occur; 'n' is after the nth comma.</td><td>()</td><td>()</td><td>('with_wrapping_at',)</td></tr>\n",
       "<tr><td>justification</td><td>if any wrap positions are set, justify to the 'left', 'center', or 'right'</td><td>left</td><td>left</td><td>('with_justification',)</td></tr>\n",
       "</table>\n"
      ],
      "text/plain": [
       "style name: wrap_positions\n",
       "description: position(s) at which wrapping is to occur; 'n' is after the nth comma.\n",
       "default: ()\n",
       "current value: ()\n",
       "related methods: ('with_wrapping_at',)\n",
       "style name: justification\n",
       "description: if any wrap positions are set, justify to the 'left', 'center', or 'right'\n",
       "default: left\n",
       "current value: left\n",
       "related methods: ('with_justification',)"
      ]
     },
     "metadata": {},
     "output_type": "display_data"
    }
   ],
   "source": [
    "stored_expr.style_options()"
   ]
  },
  {
   "cell_type": "code",
   "execution_count": 6,
   "metadata": {},
   "outputs": [
    {
     "data": {
      "text/html": [
       "<table><tr><th>&nbsp;</th><th>core type</th><th>sub-expressions</th><th>expression</th></tr>\n",
       "<tr><td>0</td><td>ExprTuple</td><td>1, 2</td><td><a class=\"ProveItLink\" href=\"expr.ipynb\"><img src=\"expr.png\" style=\"display:inline;vertical-align:middle;\" /></a></td></tr>\n",
       "<tr><td>1</td><td>Operation</td><td>operator:&nbsp;4<br>operands:&nbsp;3<br></td><td><a class=\"ProveItLink\" href=\"../../common/f910acc3d1b22bf08869d83626b21c5b7640860e0/expr.ipynb\"><img src=\"../../common/f910acc3d1b22bf08869d83626b21c5b7640860e0/expr.png\" style=\"display:inline;vertical-align:middle;\" /></a></td></tr>\n",
       "<tr><td>2</td><td>Operation</td><td>operator:&nbsp;4<br>operands:&nbsp;5<br></td><td><a class=\"ProveItLink\" href=\"../../common/b865776d39ab5de909a16746317cce43d1d327630/expr.ipynb\"><img src=\"../../common/b865776d39ab5de909a16746317cce43d1d327630/expr.png\" style=\"display:inline;vertical-align:middle;\" /></a></td></tr>\n",
       "<tr><td>3</td><td>ExprTuple</td><td>6</td><td><a class=\"ProveItLink\" href=\"../../common/3ca62377ae0313b8480483d98b08ef7eb1c2acd30/expr.ipynb\"><img src=\"../../common/3ca62377ae0313b8480483d98b08ef7eb1c2acd30/expr.png\" style=\"display:inline;vertical-align:middle;\" /></a></td></tr>\n",
       "<tr><td>4</td><td>Literal</td><td></td><td><a class=\"ProveItLink\" href=\"../../common/40003b89a3d1740159ada9fe5b21308b42a7d3d40/expr.ipynb\"><img src=\"../../common/40003b89a3d1740159ada9fe5b21308b42a7d3d40/expr.png\" style=\"display:inline;vertical-align:middle;\" /></a></td></tr>\n",
       "<tr><td>5</td><td>ExprTuple</td><td>7</td><td><a class=\"ProveItLink\" href=\"../../common/51cd3d3fc4ee59f4138a50156257ada98833035e0/expr.ipynb\"><img src=\"../../common/51cd3d3fc4ee59f4138a50156257ada98833035e0/expr.png\" style=\"display:inline;vertical-align:middle;\" /></a></td></tr>\n",
       "<tr><td>6</td><td>ExprRange</td><td>lambda_map:&nbsp;8<br>start_index:&nbsp;18<br>end_index:&nbsp;9<br></td><td><a class=\"ProveItLink\" href=\"../../common/a7dcbfdabd2fdd7288d810e80b8dec8ba26e70100/expr.ipynb\"><img src=\"../../common/a7dcbfdabd2fdd7288d810e80b8dec8ba26e70100/expr.png\" style=\"display:inline;vertical-align:middle;\" /></a></td></tr>\n",
       "<tr><td>7</td><td>ExprRange</td><td>lambda_map:&nbsp;10<br>start_index:&nbsp;18<br>end_index:&nbsp;11<br></td><td><a class=\"ProveItLink\" href=\"../../common/47e8bc7ea44900f719da65526179a1ad022ce1b30/expr.ipynb\"><img src=\"../../common/47e8bc7ea44900f719da65526179a1ad022ce1b30/expr.png\" style=\"display:inline;vertical-align:middle;\" /></a></td></tr>\n",
       "<tr><td>8</td><td>Lambda</td><td>parameter:&nbsp;46<br>body:&nbsp;12<br></td><td><a class=\"ProveItLink\" href=\"../../common/aa48140d3d9c2d22c8569c68a5913ac4566f384b0/expr.ipynb\"><img src=\"../../common/aa48140d3d9c2d22c8569c68a5913ac4566f384b0/expr.png\" style=\"display:inline;vertical-align:middle;\" /></a></td></tr>\n",
       "<tr><td>9</td><td>Variable</td><td></td><td><a class=\"ProveItLink\" href=\"../../../../../../__pv_it/common/674a03b9c3ca221b3aabd5636837b31528ff33830/expr.ipynb\"><img src=\"../../../../../../__pv_it/common/674a03b9c3ca221b3aabd5636837b31528ff33830/expr.png\" style=\"display:inline;vertical-align:middle;\" /></a></td></tr>\n",
       "<tr><td>10</td><td>Lambda</td><td>parameter:&nbsp;46<br>body:&nbsp;13<br></td><td><a class=\"ProveItLink\" href=\"../../common/d98cd85ac161a0da38d4b2a21bf4ad2fcbf9976a0/expr.ipynb\"><img src=\"../../common/d98cd85ac161a0da38d4b2a21bf4ad2fcbf9976a0/expr.png\" style=\"display:inline;vertical-align:middle;\" /></a></td></tr>\n",
       "<tr><td>11</td><td>Variable</td><td></td><td><a class=\"ProveItLink\" href=\"../../../../../../__pv_it/common/8968bb04eb3f7dfa02353397ce929b025bbd79c20/expr.ipynb\"><img src=\"../../../../../../__pv_it/common/8968bb04eb3f7dfa02353397ce929b025bbd79c20/expr.png\" style=\"display:inline;vertical-align:middle;\" /></a></td></tr>\n",
       "<tr><td>12</td><td>ExprTuple</td><td>14</td><td><a class=\"ProveItLink\" href=\"../../common/9b59b66638cd0ad54fd728ba99c141608753d1a30/expr.ipynb\"><img src=\"../../common/9b59b66638cd0ad54fd728ba99c141608753d1a30/expr.png\" style=\"display:inline;vertical-align:middle;\" /></a></td></tr>\n",
       "<tr><td>13</td><td>ExprTuple</td><td>15</td><td><a class=\"ProveItLink\" href=\"../../common/cc1942d731a9e634646051c0efff35a5951ff5420/expr.ipynb\"><img src=\"../../common/cc1942d731a9e634646051c0efff35a5951ff5420/expr.png\" style=\"display:inline;vertical-align:middle;\" /></a></td></tr>\n",
       "<tr><td>14</td><td>ExprRange</td><td>lambda_map:&nbsp;16<br>start_index:&nbsp;18<br>end_index:&nbsp;19<br></td><td><a class=\"ProveItLink\" href=\"../../common/4d44113cee1313d0f40ad8bf25bb3fd1c6c9050a0/expr.ipynb\"><img src=\"../../common/4d44113cee1313d0f40ad8bf25bb3fd1c6c9050a0/expr.png\" style=\"display:inline;vertical-align:middle;\" /></a></td></tr>\n",
       "<tr><td>15</td><td>ExprRange</td><td>lambda_map:&nbsp;17<br>start_index:&nbsp;18<br>end_index:&nbsp;19<br></td><td><a class=\"ProveItLink\" href=\"../../common/0c4efa2a13b7b22917144645337b6021037d154c0/expr.ipynb\"><img src=\"../../common/0c4efa2a13b7b22917144645337b6021037d154c0/expr.png\" style=\"display:inline;vertical-align:middle;\" /></a></td></tr>\n",
       "<tr><td>16</td><td>Lambda</td><td>parameter:&nbsp;43<br>body:&nbsp;20<br></td><td><a class=\"ProveItLink\" href=\"../../common/00ad2eaa3fe21f61aaa04c01533a048a840722320/expr.ipynb\"><img src=\"../../common/00ad2eaa3fe21f61aaa04c01533a048a840722320/expr.png\" style=\"display:inline;vertical-align:middle;\" /></a></td></tr>\n",
       "<tr><td>17</td><td>Lambda</td><td>parameter:&nbsp;43<br>body:&nbsp;22<br></td><td><a class=\"ProveItLink\" href=\"../../common/16f7c7894070bdc4c36c3cd8121b19cf9ecd08da0/expr.ipynb\"><img src=\"../../common/16f7c7894070bdc4c36c3cd8121b19cf9ecd08da0/expr.png\" style=\"display:inline;vertical-align:middle;\" /></a></td></tr>\n",
       "<tr><td>18</td><td>Literal</td><td></td><td><a class=\"ProveItLink\" href=\"../../../../../../numbers/numerals/__pv_it/common/682157d4892d216d9e5626ed533aff9b56b9506e0/expr.ipynb\"><img src=\"../../../../../../numbers/numerals/__pv_it/common/682157d4892d216d9e5626ed533aff9b56b9506e0/expr.png\" style=\"display:inline;vertical-align:middle;\" /></a></td></tr>\n",
       "<tr><td>19</td><td>Variable</td><td></td><td><a class=\"ProveItLink\" href=\"../../../../../../__pv_it/common/63b7c64bf9ec7a04ecc396c7a1670f3f12fb59490/expr.ipynb\"><img src=\"../../../../../../__pv_it/common/63b7c64bf9ec7a04ecc396c7a1670f3f12fb59490/expr.png\" style=\"display:inline;vertical-align:middle;\" /></a></td></tr>\n",
       "<tr><td>20</td><td>Operation</td><td>operator:&nbsp;24<br>operands:&nbsp;23<br></td><td><a class=\"ProveItLink\" href=\"../../common/a2b1ed046910106069fd558d5d7329784d9c1aa80/expr.ipynb\"><img src=\"../../common/a2b1ed046910106069fd558d5d7329784d9c1aa80/expr.png\" style=\"display:inline;vertical-align:middle;\" /></a></td></tr>\n",
       "<tr><td>21</td><td>ExprTuple</td><td>43</td><td><a class=\"ProveItLink\" href=\"../../../../../../core_expr_types/__pv_it/common/4b0dd6be36d76552eda6a95d5b4a27f5a5b62f900/expr.ipynb\"><img src=\"../../../../../../core_expr_types/__pv_it/common/4b0dd6be36d76552eda6a95d5b4a27f5a5b62f900/expr.png\" style=\"display:inline;vertical-align:middle;\" /></a></td></tr>\n",
       "<tr><td>22</td><td>Operation</td><td>operator:&nbsp;24<br>operands:&nbsp;25<br></td><td><a class=\"ProveItLink\" href=\"../../common/ac60ebf5e6dfd8b8ca186dc8339e7bf357760bf00/expr.ipynb\"><img src=\"../../common/ac60ebf5e6dfd8b8ca186dc8339e7bf357760bf00/expr.png\" style=\"display:inline;vertical-align:middle;\" /></a></td></tr>\n",
       "<tr><td>23</td><td>NamedExprs</td><td>element: 26<br>targets: 27<br></td><td><a class=\"ProveItLink\" href=\"../../common/b1ec4ba6d0bf0779ae698976689aa55f1c7a7e9c0/expr.ipynb\"><img src=\"../../common/b1ec4ba6d0bf0779ae698976689aa55f1c7a7e9c0/expr.png\" style=\"display:inline;vertical-align:middle;\" /></a></td></tr>\n",
       "<tr><td>24</td><td>Literal</td><td></td><td><a class=\"ProveItLink\" href=\"../../common/5eaa43008f05c06941080a12337ff182ea14996e0/expr.ipynb\"><img src=\"../../common/5eaa43008f05c06941080a12337ff182ea14996e0/expr.png\" style=\"display:inline;vertical-align:middle;\" /></a></td></tr>\n",
       "<tr><td>25</td><td>NamedExprs</td><td>element: 28<br>targets: 29<br></td><td><a class=\"ProveItLink\" href=\"../../common/a3dcfa0368b9faf07209656faea2a464ad0e716e0/expr.ipynb\"><img src=\"../../common/a3dcfa0368b9faf07209656faea2a464ad0e716e0/expr.png\" style=\"display:inline;vertical-align:middle;\" /></a></td></tr>\n",
       "<tr><td>26</td><td>IndexedVar</td><td>variable:&nbsp;30<br>indices:&nbsp;41<br></td><td><a class=\"ProveItLink\" href=\"../../common/9f647344e056c6e7ec7909febf09e9134325cad60/expr.ipynb\"><img src=\"../../common/9f647344e056c6e7ec7909febf09e9134325cad60/expr.png\" style=\"display:inline;vertical-align:middle;\" /></a></td></tr>\n",
       "<tr><td>27</td><td>Operation</td><td>operator:&nbsp;33<br>operand:&nbsp;35<br></td><td><a class=\"ProveItLink\" href=\"../../common/b316d6e5bf9b36ebe7981dfcc2273f162bcd4b750/expr.ipynb\"><img src=\"../../common/b316d6e5bf9b36ebe7981dfcc2273f162bcd4b750/expr.png\" style=\"display:inline;vertical-align:middle;\" /></a></td></tr>\n",
       "<tr><td>28</td><td>IndexedVar</td><td>variable:&nbsp;32<br>indices:&nbsp;41<br></td><td><a class=\"ProveItLink\" href=\"../../common/c4cf42da8f8ddbd787e2d04660895274525e01be0/expr.ipynb\"><img src=\"../../common/c4cf42da8f8ddbd787e2d04660895274525e01be0/expr.png\" style=\"display:inline;vertical-align:middle;\" /></a></td></tr>\n",
       "<tr><td>29</td><td>Operation</td><td>operator:&nbsp;33<br>operand:&nbsp;38<br></td><td><a class=\"ProveItLink\" href=\"../../common/511fc3b1ef4936f8ebd75192d2f4931597f859d90/expr.ipynb\"><img src=\"../../common/511fc3b1ef4936f8ebd75192d2f4931597f859d90/expr.png\" style=\"display:inline;vertical-align:middle;\" /></a></td></tr>\n",
       "<tr><td>30</td><td>Variable</td><td></td><td><a class=\"ProveItLink\" href=\"../../../../../../__pv_it/common/09585084922504426caf1db2ff588a23a0932a960/expr.ipynb\"><img src=\"../../../../../../__pv_it/common/09585084922504426caf1db2ff588a23a0932a960/expr.png\" style=\"display:inline;vertical-align:middle;\" /></a></td></tr>\n",
       "<tr><td>31</td><td>ExprTuple</td><td>35</td><td><a class=\"ProveItLink\" href=\"../../common/534d15981dcb5af95cbfc0ce901d8865bee6c13f0/expr.ipynb\"><img src=\"../../common/534d15981dcb5af95cbfc0ce901d8865bee6c13f0/expr.png\" style=\"display:inline;vertical-align:middle;\" /></a></td></tr>\n",
       "<tr><td>32</td><td>Variable</td><td></td><td><a class=\"ProveItLink\" href=\"../../../../../../__pv_it/common/a9162d1c3cc0470c02e5daf414500903a7a419230/expr.ipynb\"><img src=\"../../../../../../__pv_it/common/a9162d1c3cc0470c02e5daf414500903a7a419230/expr.png\" style=\"display:inline;vertical-align:middle;\" /></a></td></tr>\n",
       "<tr><td>33</td><td>Operation</td><td>operator:&nbsp;36<br>operand:&nbsp;44<br></td><td><a class=\"ProveItLink\" href=\"../../common/eda6c636e2c976c68a83c878ad1d4096671c4a280/expr.ipynb\"><img src=\"../../common/eda6c636e2c976c68a83c878ad1d4096671c4a280/expr.png\" style=\"display:inline;vertical-align:middle;\" /></a></td></tr>\n",
       "<tr><td>34</td><td>ExprTuple</td><td>38</td><td><a class=\"ProveItLink\" href=\"../../common/4faf63233ec68b48f9053a262223215384441de00/expr.ipynb\"><img src=\"../../common/4faf63233ec68b48f9053a262223215384441de00/expr.png\" style=\"display:inline;vertical-align:middle;\" /></a></td></tr>\n",
       "<tr><td>35</td><td>IndexedVar</td><td>variable:&nbsp;39<br>indices:&nbsp;41<br></td><td><a class=\"ProveItLink\" href=\"../../common/2efcc798f07aed8a4842c910712f536b971402bc0/expr.ipynb\"><img src=\"../../common/2efcc798f07aed8a4842c910712f536b971402bc0/expr.png\" style=\"display:inline;vertical-align:middle;\" /></a></td></tr>\n",
       "<tr><td>36</td><td>Literal</td><td></td><td><a class=\"ProveItLink\" href=\"../../../../../../logic/sets/functions/images/__pv_it/common/c0d1fd92112cd0ca4e7bbe9bec942efee05eb9500/expr.ipynb\"><img src=\"../../../../../../logic/sets/functions/images/__pv_it/common/c0d1fd92112cd0ca4e7bbe9bec942efee05eb9500/expr.png\" style=\"display:inline;vertical-align:middle;\" /></a></td></tr>\n",
       "<tr><td>37</td><td>ExprTuple</td><td>44</td><td><a class=\"ProveItLink\" href=\"../../common/527c551ff60aa90c443f150751d409424a4630a80/expr.ipynb\"><img src=\"../../common/527c551ff60aa90c443f150751d409424a4630a80/expr.png\" style=\"display:inline;vertical-align:middle;\" /></a></td></tr>\n",
       "<tr><td>38</td><td>IndexedVar</td><td>variable:&nbsp;40<br>indices:&nbsp;41<br></td><td><a class=\"ProveItLink\" href=\"../../common/45a993442721aaa2406f0984d0901528bda729ee0/expr.ipynb\"><img src=\"../../common/45a993442721aaa2406f0984d0901528bda729ee0/expr.png\" style=\"display:inline;vertical-align:middle;\" /></a></td></tr>\n",
       "<tr><td>39</td><td>Variable</td><td></td><td><a class=\"ProveItLink\" href=\"../../../../../../__pv_it/common/647ca33d6b96e29d5aa85a15d2241c7ebd0c6e4b0/expr.ipynb\"><img src=\"../../../../../../__pv_it/common/647ca33d6b96e29d5aa85a15d2241c7ebd0c6e4b0/expr.png\" style=\"display:inline;vertical-align:middle;\" /></a></td></tr>\n",
       "<tr><td>40</td><td>Variable</td><td></td><td><a class=\"ProveItLink\" href=\"../../../../../../__pv_it/common/38f47c5670ea8c5b56253448e95d8afb56bc09b40/expr.ipynb\"><img src=\"../../../../../../__pv_it/common/38f47c5670ea8c5b56253448e95d8afb56bc09b40/expr.png\" style=\"display:inline;vertical-align:middle;\" /></a></td></tr>\n",
       "<tr><td>41</td><td>ExprTuple</td><td>42, 43</td><td><a class=\"ProveItLink\" href=\"../../common/7dcb055e29a7eba2391f38705d3ce62334477a9e0/expr.ipynb\"><img src=\"../../common/7dcb055e29a7eba2391f38705d3ce62334477a9e0/expr.png\" style=\"display:inline;vertical-align:middle;\" /></a></td></tr>\n",
       "<tr><td>42</td><td>Operation</td><td>operator:&nbsp;44<br>operand:&nbsp;46<br></td><td><a class=\"ProveItLink\" href=\"../../common/1d8a630dcc5d08f832c7a22a996cc52117c8378b0/expr.ipynb\"><img src=\"../../common/1d8a630dcc5d08f832c7a22a996cc52117c8378b0/expr.png\" style=\"display:inline;vertical-align:middle;\" /></a></td></tr>\n",
       "<tr><td>43</td><td>Variable</td><td></td><td><a class=\"ProveItLink\" href=\"../../../../../../core_expr_types/__pv_it/common/006c465e50948aa2b52285e2de47974f741255cc0/expr.ipynb\"><img src=\"../../../../../../core_expr_types/__pv_it/common/006c465e50948aa2b52285e2de47974f741255cc0/expr.png\" style=\"display:inline;vertical-align:middle;\" /></a></td></tr>\n",
       "<tr><td>44</td><td>Variable</td><td></td><td><a class=\"ProveItLink\" href=\"../../../../../../__pv_it/common/bbfd8ec921873eb340439a30c11dc66622cd75e90/expr.ipynb\"><img src=\"../../../../../../__pv_it/common/bbfd8ec921873eb340439a30c11dc66622cd75e90/expr.png\" style=\"display:inline;vertical-align:middle;\" /></a></td></tr>\n",
       "<tr><td>45</td><td>ExprTuple</td><td>46</td><td><a class=\"ProveItLink\" href=\"../../../../../../core_expr_types/expr_arrays/__pv_it/common/18f7318b68e45ff8356043b6e71619fa8450fb200/expr.ipynb\"><img src=\"../../../../../../core_expr_types/expr_arrays/__pv_it/common/18f7318b68e45ff8356043b6e71619fa8450fb200/expr.png\" style=\"display:inline;vertical-align:middle;\" /></a></td></tr>\n",
       "<tr><td>46</td><td>Variable</td><td></td><td><a class=\"ProveItLink\" href=\"../../../../../../core_expr_types/expr_arrays/__pv_it/common/9a18d67b443cf8d92289c655ed91ec78766170a90/expr.ipynb\"><img src=\"../../../../../../core_expr_types/expr_arrays/__pv_it/common/9a18d67b443cf8d92289c655ed91ec78766170a90/expr.png\" style=\"display:inline;vertical-align:middle;\" /></a></td></tr>\n",
       "</table>\n"
      ],
      "text/plain": [
       "0. (QCIRCUIT(VertExprArray(([MULTI_QUBIT_ELEM]{element:A_{p(1), 1}, targets:p^*(R_{p(1), 1})}, [MULTI_QUBIT_ELEM]{element:A_{p(1), 2}, targets:p^*(R_{p(1), 2})}, ..., [MULTI_QUBIT_ELEM]{element:A_{p(1), k}, targets:p^*(R_{p(1), k})}), ([MULTI_QUBIT_ELEM]{element:A_{p(2), 1}, targets:p^*(R_{p(2), 1})}, [MULTI_QUBIT_ELEM]{element:A_{p(2), 2}, targets:p^*(R_{p(2), 2})}, ..., [MULTI_QUBIT_ELEM]{element:A_{p(2), k}, targets:p^*(R_{p(2), k})}), ..., ([MULTI_QUBIT_ELEM]{element:A_{p(m), 1}, targets:p^*(R_{p(m), 1})}, [MULTI_QUBIT_ELEM]{element:A_{p(m), 2}, targets:p^*(R_{p(m), 2})}, ..., [MULTI_QUBIT_ELEM]{element:A_{p(m), k}, targets:p^*(R_{p(m), k})}))), QCIRCUIT(VertExprArray(([MULTI_QUBIT_ELEM]{element:B_{p(1), 1}, targets:p^*(S_{p(1), 1})}, [MULTI_QUBIT_ELEM]{element:B_{p(1), 2}, targets:p^*(S_{p(1), 2})}, ..., [MULTI_QUBIT_ELEM]{element:B_{p(1), k}, targets:p^*(S_{p(1), k})}), ([MULTI_QUBIT_ELEM]{element:B_{p(2), 1}, targets:p^*(S_{p(2), 1})}, [MULTI_QUBIT_ELEM]{element:B_{p(2), 2}, targets:p^*(S_{p(2), 2})}, ..., [MULTI_QUBIT_ELEM]{element:B_{p(2), k}, targets:p^*(S_{p(2), k})}), ..., ([MULTI_QUBIT_ELEM]{element:B_{p(n), 1}, targets:p^*(S_{p(n), 1})}, [MULTI_QUBIT_ELEM]{element:B_{p(n), 2}, targets:p^*(S_{p(n), 2})}, ..., [MULTI_QUBIT_ELEM]{element:B_{p(n), k}, targets:p^*(S_{p(n), k})}))))\n",
       "   core type: ExprTuple\n",
       "   sub-expressions: 1, 2\n",
       "1. QCIRCUIT(VertExprArray(([MULTI_QUBIT_ELEM]{element:A_{p(1), 1}, targets:p^*(R_{p(1), 1})}, [MULTI_QUBIT_ELEM]{element:A_{p(1), 2}, targets:p^*(R_{p(1), 2})}, ..., [MULTI_QUBIT_ELEM]{element:A_{p(1), k}, targets:p^*(R_{p(1), k})}), ([MULTI_QUBIT_ELEM]{element:A_{p(2), 1}, targets:p^*(R_{p(2), 1})}, [MULTI_QUBIT_ELEM]{element:A_{p(2), 2}, targets:p^*(R_{p(2), 2})}, ..., [MULTI_QUBIT_ELEM]{element:A_{p(2), k}, targets:p^*(R_{p(2), k})}), ..., ([MULTI_QUBIT_ELEM]{element:A_{p(m), 1}, targets:p^*(R_{p(m), 1})}, [MULTI_QUBIT_ELEM]{element:A_{p(m), 2}, targets:p^*(R_{p(m), 2})}, ..., [MULTI_QUBIT_ELEM]{element:A_{p(m), k}, targets:p^*(R_{p(m), k})})))\n",
       "   core type: Operation\n",
       "   operator: 4\n",
       "   operands: 3\n",
       "2. QCIRCUIT(VertExprArray(([MULTI_QUBIT_ELEM]{element:B_{p(1), 1}, targets:p^*(S_{p(1), 1})}, [MULTI_QUBIT_ELEM]{element:B_{p(1), 2}, targets:p^*(S_{p(1), 2})}, ..., [MULTI_QUBIT_ELEM]{element:B_{p(1), k}, targets:p^*(S_{p(1), k})}), ([MULTI_QUBIT_ELEM]{element:B_{p(2), 1}, targets:p^*(S_{p(2), 1})}, [MULTI_QUBIT_ELEM]{element:B_{p(2), 2}, targets:p^*(S_{p(2), 2})}, ..., [MULTI_QUBIT_ELEM]{element:B_{p(2), k}, targets:p^*(S_{p(2), k})}), ..., ([MULTI_QUBIT_ELEM]{element:B_{p(n), 1}, targets:p^*(S_{p(n), 1})}, [MULTI_QUBIT_ELEM]{element:B_{p(n), 2}, targets:p^*(S_{p(n), 2})}, ..., [MULTI_QUBIT_ELEM]{element:B_{p(n), k}, targets:p^*(S_{p(n), k})})))\n",
       "   core type: Operation\n",
       "   operator: 4\n",
       "   operands: 5\n",
       "3. VertExprArray(([MULTI_QUBIT_ELEM]{element:A_{p(1), 1}, targets:p^*(R_{p(1), 1})}, [MULTI_QUBIT_ELEM]{element:A_{p(1), 2}, targets:p^*(R_{p(1), 2})}, ..., [MULTI_QUBIT_ELEM]{element:A_{p(1), k}, targets:p^*(R_{p(1), k})}), ([MULTI_QUBIT_ELEM]{element:A_{p(2), 1}, targets:p^*(R_{p(2), 1})}, [MULTI_QUBIT_ELEM]{element:A_{p(2), 2}, targets:p^*(R_{p(2), 2})}, ..., [MULTI_QUBIT_ELEM]{element:A_{p(2), k}, targets:p^*(R_{p(2), k})}), ..., ([MULTI_QUBIT_ELEM]{element:A_{p(m), 1}, targets:p^*(R_{p(m), 1})}, [MULTI_QUBIT_ELEM]{element:A_{p(m), 2}, targets:p^*(R_{p(m), 2})}, ..., [MULTI_QUBIT_ELEM]{element:A_{p(m), k}, targets:p^*(R_{p(m), k})}))\n",
       "   core type: ExprTuple\n",
       "   sub-expressions: 6\n",
       "4. QCIRCUIT\n",
       "   core type: Literal\n",
       "   sub-expressions: \n",
       "5. VertExprArray(([MULTI_QUBIT_ELEM]{element:B_{p(1), 1}, targets:p^*(S_{p(1), 1})}, [MULTI_QUBIT_ELEM]{element:B_{p(1), 2}, targets:p^*(S_{p(1), 2})}, ..., [MULTI_QUBIT_ELEM]{element:B_{p(1), k}, targets:p^*(S_{p(1), k})}), ([MULTI_QUBIT_ELEM]{element:B_{p(2), 1}, targets:p^*(S_{p(2), 1})}, [MULTI_QUBIT_ELEM]{element:B_{p(2), 2}, targets:p^*(S_{p(2), 2})}, ..., [MULTI_QUBIT_ELEM]{element:B_{p(2), k}, targets:p^*(S_{p(2), k})}), ..., ([MULTI_QUBIT_ELEM]{element:B_{p(n), 1}, targets:p^*(S_{p(n), 1})}, [MULTI_QUBIT_ELEM]{element:B_{p(n), 2}, targets:p^*(S_{p(n), 2})}, ..., [MULTI_QUBIT_ELEM]{element:B_{p(n), k}, targets:p^*(S_{p(n), k})}))\n",
       "   core type: ExprTuple\n",
       "   sub-expressions: 7\n",
       "6. ([MULTI_QUBIT_ELEM]{element:A_{p(1), 1}, targets:p^*(R_{p(1), 1})}, [MULTI_QUBIT_ELEM]{element:A_{p(1), 2}, targets:p^*(R_{p(1), 2})}, ..., [MULTI_QUBIT_ELEM]{element:A_{p(1), k}, targets:p^*(R_{p(1), k})}), ([MULTI_QUBIT_ELEM]{element:A_{p(2), 1}, targets:p^*(R_{p(2), 1})}, [MULTI_QUBIT_ELEM]{element:A_{p(2), 2}, targets:p^*(R_{p(2), 2})}, ..., [MULTI_QUBIT_ELEM]{element:A_{p(2), k}, targets:p^*(R_{p(2), k})}), ..., ([MULTI_QUBIT_ELEM]{element:A_{p(m), 1}, targets:p^*(R_{p(m), 1})}, [MULTI_QUBIT_ELEM]{element:A_{p(m), 2}, targets:p^*(R_{p(m), 2})}, ..., [MULTI_QUBIT_ELEM]{element:A_{p(m), k}, targets:p^*(R_{p(m), k})})\n",
       "   core type: ExprRange\n",
       "   lambda_map: 8\n",
       "   start_index: 18\n",
       "   end_index: 9\n",
       "7. ([MULTI_QUBIT_ELEM]{element:B_{p(1), 1}, targets:p^*(S_{p(1), 1})}, [MULTI_QUBIT_ELEM]{element:B_{p(1), 2}, targets:p^*(S_{p(1), 2})}, ..., [MULTI_QUBIT_ELEM]{element:B_{p(1), k}, targets:p^*(S_{p(1), k})}), ([MULTI_QUBIT_ELEM]{element:B_{p(2), 1}, targets:p^*(S_{p(2), 1})}, [MULTI_QUBIT_ELEM]{element:B_{p(2), 2}, targets:p^*(S_{p(2), 2})}, ..., [MULTI_QUBIT_ELEM]{element:B_{p(2), k}, targets:p^*(S_{p(2), k})}), ..., ([MULTI_QUBIT_ELEM]{element:B_{p(n), 1}, targets:p^*(S_{p(n), 1})}, [MULTI_QUBIT_ELEM]{element:B_{p(n), 2}, targets:p^*(S_{p(n), 2})}, ..., [MULTI_QUBIT_ELEM]{element:B_{p(n), k}, targets:p^*(S_{p(n), k})})\n",
       "   core type: ExprRange\n",
       "   lambda_map: 10\n",
       "   start_index: 18\n",
       "   end_index: 11\n",
       "8. _b -> ([MULTI_QUBIT_ELEM]{element:A_{p(_b), 1}, targets:p^*(R_{p(_b), 1})}, [MULTI_QUBIT_ELEM]{element:A_{p(_b), 2}, targets:p^*(R_{p(_b), 2})}, ..., [MULTI_QUBIT_ELEM]{element:A_{p(_b), k}, targets:p^*(R_{p(_b), k})})\n",
       "   core type: Lambda\n",
       "   parameter: 46\n",
       "   body: 12\n",
       "9. m\n",
       "   core type: Variable\n",
       "   sub-expressions: \n",
       "10. _b -> ([MULTI_QUBIT_ELEM]{element:B_{p(_b), 1}, targets:p^*(S_{p(_b), 1})}, [MULTI_QUBIT_ELEM]{element:B_{p(_b), 2}, targets:p^*(S_{p(_b), 2})}, ..., [MULTI_QUBIT_ELEM]{element:B_{p(_b), k}, targets:p^*(S_{p(_b), k})})\n",
       "    core type: Lambda\n",
       "    parameter: 46\n",
       "    body: 13\n",
       "11. n\n",
       "    core type: Variable\n",
       "    sub-expressions: \n",
       "12. ([MULTI_QUBIT_ELEM]{element:A_{p(_b), 1}, targets:p^*(R_{p(_b), 1})}, [MULTI_QUBIT_ELEM]{element:A_{p(_b), 2}, targets:p^*(R_{p(_b), 2})}, ..., [MULTI_QUBIT_ELEM]{element:A_{p(_b), k}, targets:p^*(R_{p(_b), k})})\n",
       "    core type: ExprTuple\n",
       "    sub-expressions: 14\n",
       "13. ([MULTI_QUBIT_ELEM]{element:B_{p(_b), 1}, targets:p^*(S_{p(_b), 1})}, [MULTI_QUBIT_ELEM]{element:B_{p(_b), 2}, targets:p^*(S_{p(_b), 2})}, ..., [MULTI_QUBIT_ELEM]{element:B_{p(_b), k}, targets:p^*(S_{p(_b), k})})\n",
       "    core type: ExprTuple\n",
       "    sub-expressions: 15\n",
       "14. [MULTI_QUBIT_ELEM]{element:A_{p(_b), 1}, targets:p^*(R_{p(_b), 1})}, [MULTI_QUBIT_ELEM]{element:A_{p(_b), 2}, targets:p^*(R_{p(_b), 2})}, ..., [MULTI_QUBIT_ELEM]{element:A_{p(_b), k}, targets:p^*(R_{p(_b), k})}\n",
       "    core type: ExprRange\n",
       "    lambda_map: 16\n",
       "    start_index: 18\n",
       "    end_index: 19\n",
       "15. [MULTI_QUBIT_ELEM]{element:B_{p(_b), 1}, targets:p^*(S_{p(_b), 1})}, [MULTI_QUBIT_ELEM]{element:B_{p(_b), 2}, targets:p^*(S_{p(_b), 2})}, ..., [MULTI_QUBIT_ELEM]{element:B_{p(_b), k}, targets:p^*(S_{p(_b), k})}\n",
       "    core type: ExprRange\n",
       "    lambda_map: 17\n",
       "    start_index: 18\n",
       "    end_index: 19\n",
       "16. _a -> [MULTI_QUBIT_ELEM]{element:A_{p(_b), _a}, targets:p^*(R_{p(_b), _a})}\n",
       "    core type: Lambda\n",
       "    parameter: 43\n",
       "    body: 20\n",
       "17. _a -> [MULTI_QUBIT_ELEM]{element:B_{p(_b), _a}, targets:p^*(S_{p(_b), _a})}\n",
       "    core type: Lambda\n",
       "    parameter: 43\n",
       "    body: 22\n",
       "18. 1\n",
       "    core type: Literal\n",
       "    sub-expressions: \n",
       "19. k\n",
       "    core type: Variable\n",
       "    sub-expressions: \n",
       "20. [MULTI_QUBIT_ELEM]{element:A_{p(_b), _a}, targets:p^*(R_{p(_b), _a})}\n",
       "    core type: Operation\n",
       "    operator: 24\n",
       "    operands: 23\n",
       "21. (_a)\n",
       "    core type: ExprTuple\n",
       "    sub-expressions: 43\n",
       "22. [MULTI_QUBIT_ELEM]{element:B_{p(_b), _a}, targets:p^*(S_{p(_b), _a})}\n",
       "    core type: Operation\n",
       "    operator: 24\n",
       "    operands: 25\n",
       "23. {element:A_{p(_b), _a}, targets:p^*(R_{p(_b), _a})}\n",
       "    core type: NamedExprs\n",
       "    element: 26\n",
       "    targets: 27\n",
       "24. MULTI_QUBIT_ELEM\n",
       "    core type: Literal\n",
       "    sub-expressions: \n",
       "25. {element:B_{p(_b), _a}, targets:p^*(S_{p(_b), _a})}\n",
       "    core type: NamedExprs\n",
       "    element: 28\n",
       "    targets: 29\n",
       "26. A_{p(_b), _a}\n",
       "    core type: IndexedVar\n",
       "variable: 30\n",
       "indices: 41\n",
       "27. p^*(R_{p(_b), _a})\n",
       "    core type: Operation\n",
       "    operator: 33\n",
       "    operand: 35\n",
       "28. B_{p(_b), _a}\n",
       "    core type: IndexedVar\n",
       "variable: 32\n",
       "indices: 41\n",
       "29. p^*(S_{p(_b), _a})\n",
       "    core type: Operation\n",
       "    operator: 33\n",
       "    operand: 38\n",
       "30. A\n",
       "    core type: Variable\n",
       "    sub-expressions: \n",
       "31. (R_{p(_b), _a})\n",
       "    core type: ExprTuple\n",
       "    sub-expressions: 35\n",
       "32. B\n",
       "    core type: Variable\n",
       "    sub-expressions: \n",
       "33. p^*\n",
       "    core type: Operation\n",
       "    operator: 36\n",
       "    operand: 44\n",
       "34. (S_{p(_b), _a})\n",
       "    core type: ExprTuple\n",
       "    sub-expressions: 38\n",
       "35. R_{p(_b), _a}\n",
       "    core type: IndexedVar\n",
       "variable: 39\n",
       "indices: 41\n",
       "36. INV_IMAGE\n",
       "    core type: Literal\n",
       "    sub-expressions: \n",
       "37. (p)\n",
       "    core type: ExprTuple\n",
       "    sub-expressions: 44\n",
       "38. S_{p(_b), _a}\n",
       "    core type: IndexedVar\n",
       "variable: 40\n",
       "indices: 41\n",
       "39. R\n",
       "    core type: Variable\n",
       "    sub-expressions: \n",
       "40. S\n",
       "    core type: Variable\n",
       "    sub-expressions: \n",
       "41. (p(_b), _a)\n",
       "    core type: ExprTuple\n",
       "    sub-expressions: 42, 43\n",
       "42. p(_b)\n",
       "    core type: Operation\n",
       "    operator: 44\n",
       "    operand: 46\n",
       "43. _a\n",
       "    core type: Variable\n",
       "    sub-expressions: \n",
       "44. p\n",
       "    core type: Variable\n",
       "    sub-expressions: \n",
       "45. (_b)\n",
       "    core type: ExprTuple\n",
       "    sub-expressions: 46\n",
       "46. _b\n",
       "    core type: Variable\n",
       "    sub-expressions: "
      ]
     },
     "metadata": {},
     "output_type": "display_data"
    }
   ],
   "source": [
    "# display the expression information\n",
    "stored_expr.expr_info()"
   ]
  },
  {
   "cell_type": "code",
   "execution_count": null,
   "metadata": {},
   "outputs": [],
   "source": []
  }
 ],
 "metadata": {
  "kernelspec": {
   "display_name": "Python 3",
   "language": "python",
   "name": "python3"
  }
 },
 "nbformat": 4,
 "nbformat_minor": 0
}