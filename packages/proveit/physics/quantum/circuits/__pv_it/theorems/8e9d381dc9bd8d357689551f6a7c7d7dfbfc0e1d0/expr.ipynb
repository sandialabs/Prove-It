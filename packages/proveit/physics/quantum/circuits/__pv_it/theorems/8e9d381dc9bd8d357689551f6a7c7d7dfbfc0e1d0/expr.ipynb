{
 "cells": [
  {
   "cell_type": "markdown",
   "metadata": {},
   "source": [
    "Expression of type <a class=\"ProveItLink\" href=\"../../../../../../../../doc/html/api/proveit.logic.And.html\">And</a>\n",
    "=======================\n",
    "# from the theory of <a class=\"ProveItLink\" href=\"../../../_theory_nbs_/theory.ipynb\">proveit.physics.quantum.circuits</a>"
   ]
  },
  {
   "cell_type": "code",
   "execution_count": 1,
   "metadata": {},
   "outputs": [],
   "source": [
    "import proveit\n",
    "# Automation is not needed when building an expression:\n",
    "proveit.defaults.automation = False # This will speed things up.\n",
    "proveit.defaults.inline_pngs = False # Makes files smaller.\n",
    "%load_expr # Load the stored expression as 'stored_expr'\n",
    "# import Expression classes needed to build the expression\n",
    "from proveit import ExprRange, IndexedVar, N, Variable, m\n",
    "from proveit.logic import And, InSet\n",
    "from proveit.numbers import Natural, zero\n",
    "from proveit.physics.quantum.circuits import each_Nk_is_partial_sum"
   ]
  },
  {
   "cell_type": "code",
   "execution_count": 2,
   "metadata": {},
   "outputs": [
    {
     "data": {
      "text/html": [
       "<strong id=\"expr\">expr:</strong> <a class=\"ProveItLink\" href=\"expr.ipynb\"><img src=\"expr.png\" style=\"display:inline;vertical-align:middle;\" /></a><br>"
      ],
      "text/plain": [
       "<IPython.core.display.HTML object>"
      ]
     },
     "metadata": {},
     "output_type": "display_data"
    }
   ],
   "source": [
    "# build up the expression from sub-expressions\n",
    "sub_expr1 = Variable(\"_a\", latex_format = r\"{_{-}a}\")\n",
    "expr = And(ExprRange(sub_expr1, InSet(IndexedVar(N, sub_expr1), Natural), zero, m), each_Nk_is_partial_sum)"
   ]
  },
  {
   "cell_type": "code",
   "execution_count": 3,
   "metadata": {},
   "outputs": [
    {
     "name": "stdout",
     "output_type": "stream",
     "text": [
      "Passed sanity check: expr matches stored_expr\n"
     ]
    }
   ],
   "source": [
    "# check that the built expression is the same as the stored expression\n",
    "assert expr == stored_expr\n",
    "assert expr._style_id == stored_expr._style_id\n",
    "print(\"Passed sanity check: expr matches stored_expr\")"
   ]
  },
  {
   "cell_type": "code",
   "execution_count": 4,
   "metadata": {},
   "outputs": [
    {
     "name": "stdout",
     "output_type": "stream",
     "text": [
      "\\left(N_{0} \\in \\mathbb{N}\\right) \\land  \\left(N_{1} \\in \\mathbb{N}\\right) \\land  \\ldots \\land  \\left(N_{m} \\in \\mathbb{N}\\right) \\land \\left(\\left(N_{0} = 0\\right)\\land \\left(N_{1} = \\left(N_{1 - 1} + n_{1}\\right)\\right) \\land  \\left(N_{2} = \\left(N_{2 - 1} + n_{2}\\right)\\right) \\land  \\ldots \\land  \\left(N_{m} = \\left(N_{m - 1} + n_{m}\\right)\\right)\\right)\n"
     ]
    }
   ],
   "source": [
    "# Show the LaTeX representation of the expression for convenience if you need it.\n",
    "print(stored_expr.latex())"
   ]
  },
  {
   "cell_type": "code",
   "execution_count": 5,
   "metadata": {},
   "outputs": [
    {
     "data": {
      "text/html": [
       "<table>\n",
       "<tr><th>name</th><th>description</th><th>default</th><th>current value</th><th>related methods</th></tr><tr><td>operation</td><td>'infix' or 'function' style formatting</td><td>infix</td><td>infix</td><td></td></tr>\n",
       "<tr><td>wrap_positions</td><td>position(s) at which wrapping is to occur; '2 n - 1' is after the nth operand, '2 n' is after the nth operation.</td><td>()</td><td>()</td><td>('with_wrapping_at', 'with_wrap_before_operator', 'with_wrap_after_operator', 'without_wrapping', 'wrap_positions')</td></tr>\n",
       "<tr><td>justification</td><td>if any wrap positions are set, justify to the 'left', 'center', or 'right'</td><td>center</td><td>center</td><td>('with_justification',)</td></tr>\n",
       "</table>\n"
      ],
      "text/plain": [
       "style name: operation\n",
       "description: 'infix' or 'function' style formatting\n",
       "default: infix\n",
       "current value: infix\n",
       "related methods: ()\n",
       "style name: wrap_positions\n",
       "description: position(s) at which wrapping is to occur; '2 n - 1' is after the nth operand, '2 n' is after the nth operation.\n",
       "default: ()\n",
       "current value: ()\n",
       "related methods: ('with_wrapping_at', 'with_wrap_before_operator', 'with_wrap_after_operator', 'without_wrapping', 'wrap_positions')\n",
       "style name: justification\n",
       "description: if any wrap positions are set, justify to the 'left', 'center', or 'right'\n",
       "default: center\n",
       "current value: center\n",
       "related methods: ('with_justification',)"
      ]
     },
     "metadata": {},
     "output_type": "display_data"
    }
   ],
   "source": [
    "stored_expr.style_options()"
   ]
  },
  {
   "cell_type": "code",
   "execution_count": 6,
   "metadata": {},
   "outputs": [
    {
     "data": {
      "text/html": [
       "<table><tr><th>&nbsp;</th><th>core type</th><th>sub-expressions</th><th>expression</th></tr>\n",
       "<tr><td>0</td><td>Operation</td><td>operator:&nbsp;5<br>operands:&nbsp;1<br></td><td><a class=\"ProveItLink\" href=\"expr.ipynb\"><img src=\"expr.png\" style=\"display:inline;vertical-align:middle;\" /></a></td></tr>\n",
       "<tr><td>1</td><td>ExprTuple</td><td>2, 3</td><td><a class=\"ProveItLink\" href=\"../8562328b81c789143df738d0f5f73040faf8ba450/expr.ipynb\"><img src=\"../8562328b81c789143df738d0f5f73040faf8ba450/expr.png\" style=\"display:inline;vertical-align:middle;\" /></a></td></tr>\n",
       "<tr><td>2</td><td>ExprRange</td><td>lambda_map:&nbsp;4<br>start_index:&nbsp;21<br>end_index:&nbsp;14<br></td><td><a class=\"ProveItLink\" href=\"../1a02ae770abb93880f0cd8ca5caa4c274fa6f4ba0/expr.ipynb\"><img src=\"../1a02ae770abb93880f0cd8ca5caa4c274fa6f4ba0/expr.png\" style=\"display:inline;vertical-align:middle;\" /></a></td></tr>\n",
       "<tr><td>3</td><td>Operation</td><td>operator:&nbsp;5<br>operands:&nbsp;6<br></td><td><a class=\"ProveItLink\" href=\"../../common/985391eb3c8351becc89fcd233ec606b0894131b0/expr.ipynb\"><img src=\"../../common/985391eb3c8351becc89fcd233ec606b0894131b0/expr.png\" style=\"display:inline;vertical-align:middle;\" /></a></td></tr>\n",
       "<tr><td>4</td><td>Lambda</td><td>parameter:&nbsp;34<br>body:&nbsp;7<br></td><td><a class=\"ProveItLink\" href=\"../2ee753e604cc190ddc37e39d7fb7a2903fdf28b70/expr.ipynb\"><img src=\"../2ee753e604cc190ddc37e39d7fb7a2903fdf28b70/expr.png\" style=\"display:inline;vertical-align:middle;\" /></a></td></tr>\n",
       "<tr><td>5</td><td>Literal</td><td></td><td><a class=\"ProveItLink\" href=\"../../../../../../logic/booleans/conjunction/__pv_it/common/42118ff318bd65d98b1393f64ce7c2269feef76e0/expr.ipynb\"><img src=\"../../../../../../logic/booleans/conjunction/__pv_it/common/42118ff318bd65d98b1393f64ce7c2269feef76e0/expr.png\" style=\"display:inline;vertical-align:middle;\" /></a></td></tr>\n",
       "<tr><td>6</td><td>ExprTuple</td><td>8, 9</td><td><a class=\"ProveItLink\" href=\"../../common/55d4fb021acf0d85fee150b47bd587c82988b4450/expr.ipynb\"><img src=\"../../common/55d4fb021acf0d85fee150b47bd587c82988b4450/expr.png\" style=\"display:inline;vertical-align:middle;\" /></a></td></tr>\n",
       "<tr><td>7</td><td>Operation</td><td>operator:&nbsp;10<br>operands:&nbsp;11<br></td><td><a class=\"ProveItLink\" href=\"../63a9a4d5bb1e3ad076386861fd4dc680c5280d3d0/expr.ipynb\"><img src=\"../63a9a4d5bb1e3ad076386861fd4dc680c5280d3d0/expr.png\" style=\"display:inline;vertical-align:middle;\" /></a></td></tr>\n",
       "<tr><td>8</td><td>Operation</td><td>operator:&nbsp;19<br>operands:&nbsp;12<br></td><td><a class=\"ProveItLink\" href=\"../../common/785bf10422f1da3397bcbb78b3a1c17f500a5df90/expr.ipynb\"><img src=\"../../common/785bf10422f1da3397bcbb78b3a1c17f500a5df90/expr.png\" style=\"display:inline;vertical-align:middle;\" /></a></td></tr>\n",
       "<tr><td>9</td><td>ExprRange</td><td>lambda_map:&nbsp;13<br>start_index:&nbsp;38<br>end_index:&nbsp;14<br></td><td><a class=\"ProveItLink\" href=\"../../common/9180a3943471394473e468690a3b3758569733d90/expr.ipynb\"><img src=\"../../common/9180a3943471394473e468690a3b3758569733d90/expr.png\" style=\"display:inline;vertical-align:middle;\" /></a></td></tr>\n",
       "<tr><td>10</td><td>Literal</td><td></td><td><a class=\"ProveItLink\" href=\"../../../../../../logic/sets/membership/__pv_it/common/477487d8796864d23d5810f83761435f25167f690/expr.ipynb\"><img src=\"../../../../../../logic/sets/membership/__pv_it/common/477487d8796864d23d5810f83761435f25167f690/expr.png\" style=\"display:inline;vertical-align:middle;\" /></a></td></tr>\n",
       "<tr><td>11</td><td>ExprTuple</td><td>22, 15</td><td><a class=\"ProveItLink\" href=\"../c19353747d467b6a6f1b8940dac634aebc14f84f0/expr.ipynb\"><img src=\"../c19353747d467b6a6f1b8940dac634aebc14f84f0/expr.png\" style=\"display:inline;vertical-align:middle;\" /></a></td></tr>\n",
       "<tr><td>12</td><td>ExprTuple</td><td>16, 21</td><td><a class=\"ProveItLink\" href=\"../../common/4eb073fa6286d601d3382450d349f86dc2ab09130/expr.ipynb\"><img src=\"../../common/4eb073fa6286d601d3382450d349f86dc2ab09130/expr.png\" style=\"display:inline;vertical-align:middle;\" /></a></td></tr>\n",
       "<tr><td>13</td><td>Lambda</td><td>parameter:&nbsp;34<br>body:&nbsp;17<br></td><td><a class=\"ProveItLink\" href=\"../../common/cbd8edfeb54c2d051b8ae62139052c509b07c50a0/expr.ipynb\"><img src=\"../../common/cbd8edfeb54c2d051b8ae62139052c509b07c50a0/expr.png\" style=\"display:inline;vertical-align:middle;\" /></a></td></tr>\n",
       "<tr><td>14</td><td>Variable</td><td></td><td><a class=\"ProveItLink\" href=\"../../../../../../__pv_it/common/674a03b9c3ca221b3aabd5636837b31528ff33830/expr.ipynb\"><img src=\"../../../../../../__pv_it/common/674a03b9c3ca221b3aabd5636837b31528ff33830/expr.png\" style=\"display:inline;vertical-align:middle;\" /></a></td></tr>\n",
       "<tr><td>15</td><td>Literal</td><td></td><td><a class=\"ProveItLink\" href=\"../../../../../../numbers/number_sets/natural_numbers/__pv_it/common/8b7c321957f52ed3b05b36af612eeae4fa4783bc0/expr.ipynb\"><img src=\"../../../../../../numbers/number_sets/natural_numbers/__pv_it/common/8b7c321957f52ed3b05b36af612eeae4fa4783bc0/expr.png\" style=\"display:inline;vertical-align:middle;\" /></a></td></tr>\n",
       "<tr><td>16</td><td>IndexedVar</td><td>variable:&nbsp;27<br>index:&nbsp;21<br></td><td><a class=\"ProveItLink\" href=\"../../common/fbee4787e4361ab863a9dbbdf9c2369405c163e90/expr.ipynb\"><img src=\"../../common/fbee4787e4361ab863a9dbbdf9c2369405c163e90/expr.png\" style=\"display:inline;vertical-align:middle;\" /></a></td></tr>\n",
       "<tr><td>17</td><td>Operation</td><td>operator:&nbsp;19<br>operands:&nbsp;20<br></td><td><a class=\"ProveItLink\" href=\"../../common/9003a273513a178628818be4afd24e7e9111db330/expr.ipynb\"><img src=\"../../common/9003a273513a178628818be4afd24e7e9111db330/expr.png\" style=\"display:inline;vertical-align:middle;\" /></a></td></tr>\n",
       "<tr><td>18</td><td>ExprTuple</td><td>21</td><td><a class=\"ProveItLink\" href=\"../../../../../../numbers/number_sets/natural_numbers/__pv_it/common/2048ac4936a0fdafec65dc88dd04b24596ab2f8b0/expr.ipynb\"><img src=\"../../../../../../numbers/number_sets/natural_numbers/__pv_it/common/2048ac4936a0fdafec65dc88dd04b24596ab2f8b0/expr.png\" style=\"display:inline;vertical-align:middle;\" /></a></td></tr>\n",
       "<tr><td>19</td><td>Literal</td><td></td><td><a class=\"ProveItLink\" href=\"../../../../../../logic/equality/__pv_it/common/fb96dc12b2aa8801dda64d0132b396c63d1502bb0/expr.ipynb\"><img src=\"../../../../../../logic/equality/__pv_it/common/fb96dc12b2aa8801dda64d0132b396c63d1502bb0/expr.png\" style=\"display:inline;vertical-align:middle;\" /></a></td></tr>\n",
       "<tr><td>20</td><td>ExprTuple</td><td>22, 23</td><td><a class=\"ProveItLink\" href=\"../../common/8dc0a960e66591025a1c6d0cce21d4add4e4daab0/expr.ipynb\"><img src=\"../../common/8dc0a960e66591025a1c6d0cce21d4add4e4daab0/expr.png\" style=\"display:inline;vertical-align:middle;\" /></a></td></tr>\n",
       "<tr><td>21</td><td>Literal</td><td></td><td><a class=\"ProveItLink\" href=\"../../../../../../numbers/numerals/__pv_it/common/dd4e19e8b134dfb293470ea55fe3589b0ab9f8040/expr.ipynb\"><img src=\"../../../../../../numbers/numerals/__pv_it/common/dd4e19e8b134dfb293470ea55fe3589b0ab9f8040/expr.png\" style=\"display:inline;vertical-align:middle;\" /></a></td></tr>\n",
       "<tr><td>22</td><td>IndexedVar</td><td>variable:&nbsp;27<br>index:&nbsp;34<br></td><td><a class=\"ProveItLink\" href=\"../../common/6ef39da993b76efcfc35474bb880473fca2133ec0/expr.ipynb\"><img src=\"../../common/6ef39da993b76efcfc35474bb880473fca2133ec0/expr.png\" style=\"display:inline;vertical-align:middle;\" /></a></td></tr>\n",
       "<tr><td>23</td><td>Operation</td><td>operator:&nbsp;32<br>operands:&nbsp;24<br></td><td><a class=\"ProveItLink\" href=\"../../common/4f763fa54d4f64d8bc5b1def96995d9fb64909540/expr.ipynb\"><img src=\"../../common/4f763fa54d4f64d8bc5b1def96995d9fb64909540/expr.png\" style=\"display:inline;vertical-align:middle;\" /></a></td></tr>\n",
       "<tr><td>24</td><td>ExprTuple</td><td>25, 26</td><td><a class=\"ProveItLink\" href=\"../../common/c0da8ffae48550f83b894701fca2532541165bdc0/expr.ipynb\"><img src=\"../../common/c0da8ffae48550f83b894701fca2532541165bdc0/expr.png\" style=\"display:inline;vertical-align:middle;\" /></a></td></tr>\n",
       "<tr><td>25</td><td>IndexedVar</td><td>variable:&nbsp;27<br>index:&nbsp;31<br></td><td><a class=\"ProveItLink\" href=\"../../common/0aa1fe99756b3395617d85135cc32f698ba262e60/expr.ipynb\"><img src=\"../../common/0aa1fe99756b3395617d85135cc32f698ba262e60/expr.png\" style=\"display:inline;vertical-align:middle;\" /></a></td></tr>\n",
       "<tr><td>26</td><td>IndexedVar</td><td>variable:&nbsp;29<br>index:&nbsp;34<br></td><td><a class=\"ProveItLink\" href=\"../../../../../../core_expr_types/__pv_it/common/25e56c4269a59750d33761900d5b99c433f137050/expr.ipynb\"><img src=\"../../../../../../core_expr_types/__pv_it/common/25e56c4269a59750d33761900d5b99c433f137050/expr.png\" style=\"display:inline;vertical-align:middle;\" /></a></td></tr>\n",
       "<tr><td>27</td><td>Variable</td><td></td><td><a class=\"ProveItLink\" href=\"../../../../../../__pv_it/common/ec2f9d003f907f9688d46f19f6df289e52cc63ce0/expr.ipynb\"><img src=\"../../../../../../__pv_it/common/ec2f9d003f907f9688d46f19f6df289e52cc63ce0/expr.png\" style=\"display:inline;vertical-align:middle;\" /></a></td></tr>\n",
       "<tr><td>28</td><td>ExprTuple</td><td>31</td><td><a class=\"ProveItLink\" href=\"../../common/80dbb7ef3177e59a542d5b3d002f86a27240b8000/expr.ipynb\"><img src=\"../../common/80dbb7ef3177e59a542d5b3d002f86a27240b8000/expr.png\" style=\"display:inline;vertical-align:middle;\" /></a></td></tr>\n",
       "<tr><td>29</td><td>Variable</td><td></td><td><a class=\"ProveItLink\" href=\"../../../../../../__pv_it/common/8968bb04eb3f7dfa02353397ce929b025bbd79c20/expr.ipynb\"><img src=\"../../../../../../__pv_it/common/8968bb04eb3f7dfa02353397ce929b025bbd79c20/expr.png\" style=\"display:inline;vertical-align:middle;\" /></a></td></tr>\n",
       "<tr><td>30</td><td>ExprTuple</td><td>34</td><td><a class=\"ProveItLink\" href=\"../../../../../../core_expr_types/__pv_it/common/4b0dd6be36d76552eda6a95d5b4a27f5a5b62f900/expr.ipynb\"><img src=\"../../../../../../core_expr_types/__pv_it/common/4b0dd6be36d76552eda6a95d5b4a27f5a5b62f900/expr.png\" style=\"display:inline;vertical-align:middle;\" /></a></td></tr>\n",
       "<tr><td>31</td><td>Operation</td><td>operator:&nbsp;32<br>operands:&nbsp;33<br></td><td><a class=\"ProveItLink\" href=\"../../common/6fd97ba521ee0404d4ba029429becb40411f56770/expr.ipynb\"><img src=\"../../common/6fd97ba521ee0404d4ba029429becb40411f56770/expr.png\" style=\"display:inline;vertical-align:middle;\" /></a></td></tr>\n",
       "<tr><td>32</td><td>Literal</td><td></td><td><a class=\"ProveItLink\" href=\"../../../../../../numbers/addition/__pv_it/common/4b7effaab3619a1c2c38fe2dee8601df8ec714590/expr.ipynb\"><img src=\"../../../../../../numbers/addition/__pv_it/common/4b7effaab3619a1c2c38fe2dee8601df8ec714590/expr.png\" style=\"display:inline;vertical-align:middle;\" /></a></td></tr>\n",
       "<tr><td>33</td><td>ExprTuple</td><td>34, 35</td><td><a class=\"ProveItLink\" href=\"../../common/d66124ff92551af99af404ca97a452186ba412f30/expr.ipynb\"><img src=\"../../common/d66124ff92551af99af404ca97a452186ba412f30/expr.png\" style=\"display:inline;vertical-align:middle;\" /></a></td></tr>\n",
       "<tr><td>34</td><td>Variable</td><td></td><td><a class=\"ProveItLink\" href=\"../../../../../../core_expr_types/__pv_it/common/006c465e50948aa2b52285e2de47974f741255cc0/expr.ipynb\"><img src=\"../../../../../../core_expr_types/__pv_it/common/006c465e50948aa2b52285e2de47974f741255cc0/expr.png\" style=\"display:inline;vertical-align:middle;\" /></a></td></tr>\n",
       "<tr><td>35</td><td>Operation</td><td>operator:&nbsp;36<br>operand:&nbsp;38<br></td><td><a class=\"ProveItLink\" href=\"../../common/b0224043250c4ab99211e9b6f92b24f13306b0a80/expr.ipynb\"><img src=\"../../common/b0224043250c4ab99211e9b6f92b24f13306b0a80/expr.png\" style=\"display:inline;vertical-align:middle;\" /></a></td></tr>\n",
       "<tr><td>36</td><td>Literal</td><td></td><td><a class=\"ProveItLink\" href=\"../../../../../../numbers/negation/__pv_it/common/221b3c4d1770ee9051b7c044c3f9ec61196fc34b0/expr.ipynb\"><img src=\"../../../../../../numbers/negation/__pv_it/common/221b3c4d1770ee9051b7c044c3f9ec61196fc34b0/expr.png\" style=\"display:inline;vertical-align:middle;\" /></a></td></tr>\n",
       "<tr><td>37</td><td>ExprTuple</td><td>38</td><td><a class=\"ProveItLink\" href=\"../../../../__pv_it/common/b9e4f0dffece176bbe2f36127440684a20e0468e0/expr.ipynb\"><img src=\"../../../../__pv_it/common/b9e4f0dffece176bbe2f36127440684a20e0468e0/expr.png\" style=\"display:inline;vertical-align:middle;\" /></a></td></tr>\n",
       "<tr><td>38</td><td>Literal</td><td></td><td><a class=\"ProveItLink\" href=\"../../../../../../numbers/numerals/__pv_it/common/682157d4892d216d9e5626ed533aff9b56b9506e0/expr.ipynb\"><img src=\"../../../../../../numbers/numerals/__pv_it/common/682157d4892d216d9e5626ed533aff9b56b9506e0/expr.png\" style=\"display:inline;vertical-align:middle;\" /></a></td></tr>\n",
       "</table>\n"
      ],
      "text/plain": [
       "0. (N_{0} in Natural) and  (N_{1} in Natural) and  ... and  (N_{m} in Natural) and ((N_{0} = 0)and (N_{1} = (N_{1 - 1} + n_{1})) and  (N_{2} = (N_{2 - 1} + n_{2})) and  ... and  (N_{m} = (N_{m - 1} + n_{m})))\n",
       "   core type: Operation\n",
       "   operator: 5\n",
       "   operands: 1\n",
       "1. ((N_{0} in Natural), (N_{1} in Natural), ..., (N_{m} in Natural), (N_{0} = 0)and (N_{1} = (N_{1 - 1} + n_{1})) and  (N_{2} = (N_{2 - 1} + n_{2})) and  ... and  (N_{m} = (N_{m - 1} + n_{m})))\n",
       "   core type: ExprTuple\n",
       "   sub-expressions: 2, 3\n",
       "2. (N_{0} in Natural), (N_{1} in Natural), ..., (N_{m} in Natural)\n",
       "   core type: ExprRange\n",
       "   lambda_map: 4\n",
       "   start_index: 21\n",
       "   end_index: 14\n",
       "3. (N_{0} = 0)and (N_{1} = (N_{1 - 1} + n_{1})) and  (N_{2} = (N_{2 - 1} + n_{2})) and  ... and  (N_{m} = (N_{m - 1} + n_{m}))\n",
       "   core type: Operation\n",
       "   operator: 5\n",
       "   operands: 6\n",
       "4. _a -> (N_{_a} in Natural)\n",
       "   core type: Lambda\n",
       "   parameter: 34\n",
       "   body: 7\n",
       "5. and\n",
       "   core type: Literal\n",
       "   sub-expressions: \n",
       "6. (N_{0} = 0,(N_{1} = (N_{1 - 1} + n_{1})), (N_{2} = (N_{2 - 1} + n_{2})), ..., (N_{m} = (N_{m - 1} + n_{m})))\n",
       "   core type: ExprTuple\n",
       "   sub-expressions: 8, 9\n",
       "7. N_{_a} in Natural\n",
       "   core type: Operation\n",
       "   operator: 10\n",
       "   operands: 11\n",
       "8. N_{0} = 0\n",
       "   core type: Operation\n",
       "   operator: 19\n",
       "   operands: 12\n",
       "9. (N_{1} = (N_{1 - 1} + n_{1})), (N_{2} = (N_{2 - 1} + n_{2})), ..., (N_{m} = (N_{m - 1} + n_{m}))\n",
       "   core type: ExprRange\n",
       "   lambda_map: 13\n",
       "   start_index: 38\n",
       "   end_index: 14\n",
       "10. in\n",
       "    core type: Literal\n",
       "    sub-expressions: \n",
       "11. (N_{_a}, Natural)\n",
       "    core type: ExprTuple\n",
       "    sub-expressions: 22, 15\n",
       "12. (N_{0}, 0)\n",
       "    core type: ExprTuple\n",
       "    sub-expressions: 16, 21\n",
       "13. _a -> (N_{_a} = (N_{_a - 1} + n_{_a}))\n",
       "    core type: Lambda\n",
       "    parameter: 34\n",
       "    body: 17\n",
       "14. m\n",
       "    core type: Variable\n",
       "    sub-expressions: \n",
       "15. Natural\n",
       "    core type: Literal\n",
       "    sub-expressions: \n",
       "16. N_{0}\n",
       "    core type: IndexedVar\n",
       "variable: 27\n",
       "index: 21\n",
       "17. N_{_a} = (N_{_a - 1} + n_{_a})\n",
       "    core type: Operation\n",
       "    operator: 19\n",
       "    operands: 20\n",
       "18. (0)\n",
       "    core type: ExprTuple\n",
       "    sub-expressions: 21\n",
       "19. =\n",
       "    core type: Literal\n",
       "    sub-expressions: \n",
       "20. (N_{_a}, N_{_a - 1} + n_{_a})\n",
       "    core type: ExprTuple\n",
       "    sub-expressions: 22, 23\n",
       "21. 0\n",
       "    core type: Literal\n",
       "    sub-expressions: \n",
       "22. N_{_a}\n",
       "    core type: IndexedVar\n",
       "variable: 27\n",
       "index: 34\n",
       "23. N_{_a - 1} + n_{_a}\n",
       "    core type: Operation\n",
       "    operator: 32\n",
       "    operands: 24\n",
       "24. (N_{_a - 1}, n_{_a})\n",
       "    core type: ExprTuple\n",
       "    sub-expressions: 25, 26\n",
       "25. N_{_a - 1}\n",
       "    core type: IndexedVar\n",
       "variable: 27\n",
       "index: 31\n",
       "26. n_{_a}\n",
       "    core type: IndexedVar\n",
       "variable: 29\n",
       "index: 34\n",
       "27. N\n",
       "    core type: Variable\n",
       "    sub-expressions: \n",
       "28. (_a - 1)\n",
       "    core type: ExprTuple\n",
       "    sub-expressions: 31\n",
       "29. n\n",
       "    core type: Variable\n",
       "    sub-expressions: \n",
       "30. (_a)\n",
       "    core type: ExprTuple\n",
       "    sub-expressions: 34\n",
       "31. _a - 1\n",
       "    core type: Operation\n",
       "    operator: 32\n",
       "    operands: 33\n",
       "32. +\n",
       "    core type: Literal\n",
       "    sub-expressions: \n",
       "33. (_a, -1)\n",
       "    core type: ExprTuple\n",
       "    sub-expressions: 34, 35\n",
       "34. _a\n",
       "    core type: Variable\n",
       "    sub-expressions: \n",
       "35. -1\n",
       "    core type: Operation\n",
       "    operator: 36\n",
       "    operand: 38\n",
       "36. -\n",
       "    core type: Literal\n",
       "    sub-expressions: \n",
       "37. (1)\n",
       "    core type: ExprTuple\n",
       "    sub-expressions: 38\n",
       "38. 1\n",
       "    core type: Literal\n",
       "    sub-expressions: "
      ]
     },
     "metadata": {},
     "output_type": "display_data"
    }
   ],
   "source": [
    "# display the expression information\n",
    "stored_expr.expr_info()"
   ]
  },
  {
   "cell_type": "code",
   "execution_count": null,
   "metadata": {},
   "outputs": [],
   "source": []
  }
 ],
 "metadata": {
  "kernelspec": {
   "display_name": "Python 3",
   "language": "python",
   "name": "python3"
  }
 },
 "nbformat": 4,
 "nbformat_minor": 0
}