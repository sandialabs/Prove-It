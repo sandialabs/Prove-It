{
 "cells": [
  {
   "cell_type": "markdown",
   "metadata": {},
   "source": [
    "Expression of type <a class=\"ProveItLink\" href=\"../../../../../../../../doc/html/api/proveit.ExprTuple.html\">ExprTuple</a>\n",
    "=======================\n",
    "# from the theory of <a class=\"ProveItLink\" href=\"../../../_theory_nbs_/theory.ipynb\">proveit.physics.quantum.circuits</a>"
   ]
  },
  {
   "cell_type": "code",
   "execution_count": 1,
   "metadata": {},
   "outputs": [],
   "source": [
    "import proveit\n",
    "# Automation is not needed when building an expression:\n",
    "proveit.defaults.automation = False # This will speed things up.\n",
    "proveit.defaults.inline_pngs = False # Makes files smaller.\n",
    "%load_expr # Load the stored expression as 'stored_expr'\n",
    "# import Expression classes needed to build the expression\n",
    "from proveit import ExprTuple, Lambda, a, b\n",
    "from proveit.core_expr_types import U_1_to_m\n",
    "from proveit.logic import Implies\n",
    "from proveit.physics.quantum.circuits import QcircuitEquiv, circuit_aU, circuit_aUb, circuit_b"
   ]
  },
  {
   "cell_type": "code",
   "execution_count": 2,
   "metadata": {},
   "outputs": [
    {
     "data": {
      "text/html": [
       "<strong id=\"expr\">expr:</strong> <a class=\"ProveItLink\" href=\"expr.ipynb\"><img src=\"expr.png\" style=\"display:inline;vertical-align:middle;\" /></a><br>"
      ],
      "text/plain": [
       "<IPython.core.display.HTML object>"
      ]
     },
     "metadata": {},
     "output_type": "display_data"
    }
   ],
   "source": [
    "# build up the expression from sub-expressions\n",
    "expr = ExprTuple(Lambda([a, b, U_1_to_m], Implies(circuit_aUb, QcircuitEquiv(circuit_aU, circuit_b))))"
   ]
  },
  {
   "cell_type": "code",
   "execution_count": 3,
   "metadata": {},
   "outputs": [
    {
     "name": "stdout",
     "output_type": "stream",
     "text": [
      "Passed sanity check: expr matches stored_expr\n"
     ]
    }
   ],
   "source": [
    "# check that the built expression is the same as the stored expression\n",
    "assert expr == stored_expr\n",
    "assert expr._style_id == stored_expr._style_id\n",
    "print(\"Passed sanity check: expr matches stored_expr\")"
   ]
  },
  {
   "cell_type": "code",
   "execution_count": 4,
   "metadata": {},
   "outputs": [
    {
     "name": "stdout",
     "output_type": "stream",
     "text": [
      "\\left(\\left(a, b, U_{1}, U_{2}, \\ldots, U_{m}\\right) \\mapsto \\left(\\left(\\begin{array}{c} \\Qcircuit@C=1em @R=.7em{\n",
      "\\qin{a} & \\gate{\\begin{array}{c} \\uparrow \\\\U_{1} \\\\ \\downarrow\\end{array}} & \\gate{\\begin{array}{c} \\uparrow \\\\U_{2} \\\\ \\downarrow\\end{array}} & \\gate{\\begin{array}{c} \\uparrow \\\\\\cdots \\\\ \\downarrow\\end{array}} & \\gate{\\begin{array}{c} \\uparrow \\\\U_{m} \\\\ \\downarrow\\end{array}} & \\qout{b}\n",
      "} \\end{array}\\right) \\Rightarrow \\left(\\left(\\begin{array}{c} \\Qcircuit@C=1em @R=.7em{\n",
      "\\qin{a} & \\gate{\\begin{array}{c} \\uparrow \\\\U_{1} \\\\ \\downarrow\\end{array}} & \\gate{\\begin{array}{c} \\uparrow \\\\U_{2} \\\\ \\downarrow\\end{array}} & \\gate{\\begin{array}{c} \\uparrow \\\\\\cdots \\\\ \\downarrow\\end{array}} & \\gate{\\begin{array}{c} \\uparrow \\\\U_{m} \\\\ \\downarrow\\end{array}} & { /^{k} } \\qw\n",
      "} \\end{array}\\right) \\cong \\left(\\begin{array}{c} \\Qcircuit@C=1em @R=.7em{\n",
      "\\qin{b} & { /^{k} } \\qw\n",
      "} \\end{array}\\right)\\right)\\right)\\right)\n"
     ]
    }
   ],
   "source": [
    "# Show the LaTeX representation of the expression for convenience if you need it.\n",
    "print(stored_expr.latex())"
   ]
  },
  {
   "cell_type": "code",
   "execution_count": 5,
   "metadata": {},
   "outputs": [
    {
     "data": {
      "text/html": [
       "no style options"
      ],
      "text/plain": [
       "no style options"
      ]
     },
     "metadata": {},
     "output_type": "display_data"
    }
   ],
   "source": [
    "stored_expr.style_options()"
   ]
  },
  {
   "cell_type": "code",
   "execution_count": 6,
   "metadata": {},
   "outputs": [
    {
     "data": {
      "text/html": [
       "<table><tr><th>&nbsp;</th><th>core type</th><th>sub-expressions</th><th>expression</th></tr>\n",
       "<tr><td>0</td><td>ExprTuple</td><td>1</td><td><a class=\"ProveItLink\" href=\"expr.ipynb\"><img src=\"expr.png\" style=\"display:inline;vertical-align:middle;\" /></a></td></tr>\n",
       "<tr><td>1</td><td>Lambda</td><td>parameters:&nbsp;2<br>body:&nbsp;3<br></td><td><a class=\"ProveItLink\" href=\"../a9a2793dbd77371da2399b433b98484b5bd23baa0/expr.ipynb\"><img src=\"../a9a2793dbd77371da2399b433b98484b5bd23baa0/expr.png\" style=\"display:inline;vertical-align:middle;\" /></a></td></tr>\n",
       "<tr><td>2</td><td>ExprTuple</td><td>48, 49, 20</td><td><a class=\"ProveItLink\" href=\"../61ebf88e32562c9ba1819af722ffb8396a67c9430/expr.ipynb\"><img src=\"../61ebf88e32562c9ba1819af722ffb8396a67c9430/expr.png\" style=\"display:inline;vertical-align:middle;\" /></a></td></tr>\n",
       "<tr><td>3</td><td>Operation</td><td>operator:&nbsp;4<br>operands:&nbsp;5<br></td><td><a class=\"ProveItLink\" href=\"../b48dd7c56e13bb5795c854eed7452ac5dfeeaa6a0/expr.ipynb\"><img src=\"../b48dd7c56e13bb5795c854eed7452ac5dfeeaa6a0/expr.png\" style=\"display:inline;vertical-align:middle;\" /></a></td></tr>\n",
       "<tr><td>4</td><td>Literal</td><td></td><td><a class=\"ProveItLink\" href=\"../../../../../../logic/booleans/implication/__pv_it/common/02bdb382575728da8cdbaed545b9096ea7a1bd5b0/expr.ipynb\"><img src=\"../../../../../../logic/booleans/implication/__pv_it/common/02bdb382575728da8cdbaed545b9096ea7a1bd5b0/expr.png\" style=\"display:inline;vertical-align:middle;\" /></a></td></tr>\n",
       "<tr><td>5</td><td>ExprTuple</td><td>6, 7</td><td><a class=\"ProveItLink\" href=\"../3fe60f5235b7c7ce052015b175e923e2e7c366a90/expr.ipynb\"><img src=\"../3fe60f5235b7c7ce052015b175e923e2e7c366a90/expr.png\" style=\"display:inline;vertical-align:middle;\" /></a></td></tr>\n",
       "<tr><td>6</td><td>Operation</td><td>operator:&nbsp;16<br>operands:&nbsp;8<br></td><td><a class=\"ProveItLink\" href=\"../../common/04e5d420a5af1de5ec46b1867c88ba26136942ec0/expr.ipynb\"><img src=\"../../common/04e5d420a5af1de5ec46b1867c88ba26136942ec0/expr.png\" style=\"display:inline;vertical-align:middle;\" /></a></td></tr>\n",
       "<tr><td>7</td><td>Operation</td><td>operator:&nbsp;9<br>operands:&nbsp;10<br></td><td><a class=\"ProveItLink\" href=\"../24fba668bd842e2ee001df57fc3fcafc7659e8fb0/expr.ipynb\"><img src=\"../24fba668bd842e2ee001df57fc3fcafc7659e8fb0/expr.png\" style=\"display:inline;vertical-align:middle;\" /></a></td></tr>\n",
       "<tr><td>8</td><td>ExprTuple</td><td>19, 20, 11</td><td><a class=\"ProveItLink\" href=\"../../common/339f9e46b874b0a0de2c97fafd1a7f4185a457830/expr.ipynb\"><img src=\"../../common/339f9e46b874b0a0de2c97fafd1a7f4185a457830/expr.png\" style=\"display:inline;vertical-align:middle;\" /></a></td></tr>\n",
       "<tr><td>9</td><td>Literal</td><td></td><td><a class=\"ProveItLink\" href=\"../../common/838a207b4d233a1702a5e7821ffac032fcae32e80/expr.ipynb\"><img src=\"../../common/838a207b4d233a1702a5e7821ffac032fcae32e80/expr.png\" style=\"display:inline;vertical-align:middle;\" /></a></td></tr>\n",
       "<tr><td>10</td><td>ExprTuple</td><td>12, 13</td><td><a class=\"ProveItLink\" href=\"../cb4bb3497aed4b2f30f18ad59bc22c78b5ae185e0/expr.ipynb\"><img src=\"../cb4bb3497aed4b2f30f18ad59bc22c78b5ae185e0/expr.png\" style=\"display:inline;vertical-align:middle;\" /></a></td></tr>\n",
       "<tr><td>11</td><td>ExprTuple</td><td>14</td><td><a class=\"ProveItLink\" href=\"../../common/94fbd2763304d54d1de448b0b724931d99c426780/expr.ipynb\"><img src=\"../../common/94fbd2763304d54d1de448b0b724931d99c426780/expr.png\" style=\"display:inline;vertical-align:middle;\" /></a></td></tr>\n",
       "<tr><td>12</td><td>Operation</td><td>operator:&nbsp;16<br>operands:&nbsp;15<br></td><td><a class=\"ProveItLink\" href=\"../../common/78ea6a3740a8c89efc5fda2f5b73175089fa2a5a0/expr.ipynb\"><img src=\"../../common/78ea6a3740a8c89efc5fda2f5b73175089fa2a5a0/expr.png\" style=\"display:inline;vertical-align:middle;\" /></a></td></tr>\n",
       "<tr><td>13</td><td>Operation</td><td>operator:&nbsp;16<br>operand:&nbsp;21<br></td><td><a class=\"ProveItLink\" href=\"../../common/c8165e679fc01f73411d195287ffd82ad577b2e40/expr.ipynb\"><img src=\"../../common/c8165e679fc01f73411d195287ffd82ad577b2e40/expr.png\" style=\"display:inline;vertical-align:middle;\" /></a></td></tr>\n",
       "<tr><td>14</td><td>ExprRange</td><td>lambda_map:&nbsp;18<br>start_index:&nbsp;51<br>end_index:&nbsp;52<br></td><td><a class=\"ProveItLink\" href=\"../../common/eb74b4b78390ac6fc82cb439955e33471b2dd6700/expr.ipynb\"><img src=\"../../common/eb74b4b78390ac6fc82cb439955e33471b2dd6700/expr.png\" style=\"display:inline;vertical-align:middle;\" /></a></td></tr>\n",
       "<tr><td>15</td><td>ExprTuple</td><td>19, 20</td><td><a class=\"ProveItLink\" href=\"../../common/8ce7f213a9234bfb694bc47ab676e1182e15fc5f0/expr.ipynb\"><img src=\"../../common/8ce7f213a9234bfb694bc47ab676e1182e15fc5f0/expr.png\" style=\"display:inline;vertical-align:middle;\" /></a></td></tr>\n",
       "<tr><td>16</td><td>Literal</td><td></td><td><a class=\"ProveItLink\" href=\"../../common/40003b89a3d1740159ada9fe5b21308b42a7d3d40/expr.ipynb\"><img src=\"../../common/40003b89a3d1740159ada9fe5b21308b42a7d3d40/expr.png\" style=\"display:inline;vertical-align:middle;\" /></a></td></tr>\n",
       "<tr><td>17</td><td>ExprTuple</td><td>21</td><td><a class=\"ProveItLink\" href=\"../../common/2130bdde9bd404d81d64694af314ef7e66f863b20/expr.ipynb\"><img src=\"../../common/2130bdde9bd404d81d64694af314ef7e66f863b20/expr.png\" style=\"display:inline;vertical-align:middle;\" /></a></td></tr>\n",
       "<tr><td>18</td><td>Lambda</td><td>parameter:&nbsp;50<br>body:&nbsp;22<br></td><td><a class=\"ProveItLink\" href=\"../../common/ecfdd7d458aefc56e0ade7663adfcca51c66379d0/expr.ipynb\"><img src=\"../../common/ecfdd7d458aefc56e0ade7663adfcca51c66379d0/expr.png\" style=\"display:inline;vertical-align:middle;\" /></a></td></tr>\n",
       "<tr><td>19</td><td>ExprTuple</td><td>23</td><td><a class=\"ProveItLink\" href=\"../../common/85120790518a7ec1647480d3007bf6f47885a5e70/expr.ipynb\"><img src=\"../../common/85120790518a7ec1647480d3007bf6f47885a5e70/expr.png\" style=\"display:inline;vertical-align:middle;\" /></a></td></tr>\n",
       "<tr><td>20</td><td>ExprRange</td><td>lambda_map:&nbsp;24<br>start_index:&nbsp;51<br>end_index:&nbsp;25<br></td><td><a class=\"ProveItLink\" href=\"../../../../../../core_expr_types/__pv_it/common/f2446d23f25b2a0391ce7ae7ebebadb55f507e4c0/expr.ipynb\"><img src=\"../../../../../../core_expr_types/__pv_it/common/f2446d23f25b2a0391ce7ae7ebebadb55f507e4c0/expr.png\" style=\"display:inline;vertical-align:middle;\" /></a></td></tr>\n",
       "<tr><td>21</td><td>ExprTuple</td><td>26</td><td><a class=\"ProveItLink\" href=\"../../common/55a317e0aefe56a2ffd0f3ea82d0be2ca37527710/expr.ipynb\"><img src=\"../../common/55a317e0aefe56a2ffd0f3ea82d0be2ca37527710/expr.png\" style=\"display:inline;vertical-align:middle;\" /></a></td></tr>\n",
       "<tr><td>22</td><td>Operation</td><td>operator:&nbsp;38<br>operands:&nbsp;27<br></td><td><a class=\"ProveItLink\" href=\"../../common/00b02a3e6808aa6fb0efa9a7cf7661f3e0f7ad440/expr.ipynb\"><img src=\"../../common/00b02a3e6808aa6fb0efa9a7cf7661f3e0f7ad440/expr.png\" style=\"display:inline;vertical-align:middle;\" /></a></td></tr>\n",
       "<tr><td>23</td><td>ExprRange</td><td>lambda_map:&nbsp;28<br>start_index:&nbsp;51<br>end_index:&nbsp;52<br></td><td><a class=\"ProveItLink\" href=\"../../common/f48e0cdc518514c99ea7a1ae19a22696b2df08210/expr.ipynb\"><img src=\"../../common/f48e0cdc518514c99ea7a1ae19a22696b2df08210/expr.png\" style=\"display:inline;vertical-align:middle;\" /></a></td></tr>\n",
       "<tr><td>24</td><td>Lambda</td><td>parameter:&nbsp;50<br>body:&nbsp;29<br></td><td><a class=\"ProveItLink\" href=\"../../../../../../core_expr_types/__pv_it/common/1bd846a53c13d706c6fe9ce76f1edc9e81c50bc40/expr.ipynb\"><img src=\"../../../../../../core_expr_types/__pv_it/common/1bd846a53c13d706c6fe9ce76f1edc9e81c50bc40/expr.png\" style=\"display:inline;vertical-align:middle;\" /></a></td></tr>\n",
       "<tr><td>25</td><td>Variable</td><td></td><td><a class=\"ProveItLink\" href=\"../../../../../../__pv_it/common/674a03b9c3ca221b3aabd5636837b31528ff33830/expr.ipynb\"><img src=\"../../../../../../__pv_it/common/674a03b9c3ca221b3aabd5636837b31528ff33830/expr.png\" style=\"display:inline;vertical-align:middle;\" /></a></td></tr>\n",
       "<tr><td>26</td><td>ExprRange</td><td>lambda_map:&nbsp;30<br>start_index:&nbsp;51<br>end_index:&nbsp;52<br></td><td><a class=\"ProveItLink\" href=\"../../common/bbe18f2735172720376f58de95ff5dabb05563280/expr.ipynb\"><img src=\"../../common/bbe18f2735172720376f58de95ff5dabb05563280/expr.png\" style=\"display:inline;vertical-align:middle;\" /></a></td></tr>\n",
       "<tr><td>27</td><td>NamedExprs</td><td>element: 31<br>targets: 42<br></td><td><a class=\"ProveItLink\" href=\"../../common/33988b26268efc6e942093efd365af1d0ee7b72a0/expr.ipynb\"><img src=\"../../common/33988b26268efc6e942093efd365af1d0ee7b72a0/expr.png\" style=\"display:inline;vertical-align:middle;\" /></a></td></tr>\n",
       "<tr><td>28</td><td>Lambda</td><td>parameter:&nbsp;50<br>body:&nbsp;32<br></td><td><a class=\"ProveItLink\" href=\"../../common/83a7d71237b86ce51333808cc2e0af1cb0baa22e0/expr.ipynb\"><img src=\"../../common/83a7d71237b86ce51333808cc2e0af1cb0baa22e0/expr.png\" style=\"display:inline;vertical-align:middle;\" /></a></td></tr>\n",
       "<tr><td>29</td><td>IndexedVar</td><td>variable:&nbsp;33<br>index:&nbsp;50<br></td><td><a class=\"ProveItLink\" href=\"../../../../../../core_expr_types/__pv_it/common/a0a589405bd46ff5f5081e37e3ecae7ecd8092eb0/expr.ipynb\"><img src=\"../../../../../../core_expr_types/__pv_it/common/a0a589405bd46ff5f5081e37e3ecae7ecd8092eb0/expr.png\" style=\"display:inline;vertical-align:middle;\" /></a></td></tr>\n",
       "<tr><td>30</td><td>Lambda</td><td>parameter:&nbsp;50<br>body:&nbsp;35<br></td><td><a class=\"ProveItLink\" href=\"../../common/fdc7a393e30f1df0c68bee961f7caa939302cfff0/expr.ipynb\"><img src=\"../../common/fdc7a393e30f1df0c68bee961f7caa939302cfff0/expr.png\" style=\"display:inline;vertical-align:middle;\" /></a></td></tr>\n",
       "<tr><td>31</td><td>Operation</td><td>operator:&nbsp;36<br>operands:&nbsp;45<br></td><td><a class=\"ProveItLink\" href=\"../../common/43197716b8e090cc24ce2ebdacc182087508edfe0/expr.ipynb\"><img src=\"../../common/43197716b8e090cc24ce2ebdacc182087508edfe0/expr.png\" style=\"display:inline;vertical-align:middle;\" /></a></td></tr>\n",
       "<tr><td>32</td><td>Operation</td><td>operator:&nbsp;38<br>operands:&nbsp;37<br></td><td><a class=\"ProveItLink\" href=\"../../common/ff1045ff5961f2231f9ba440f1548488a77f40e90/expr.ipynb\"><img src=\"../../common/ff1045ff5961f2231f9ba440f1548488a77f40e90/expr.png\" style=\"display:inline;vertical-align:middle;\" /></a></td></tr>\n",
       "<tr><td>33</td><td>Variable</td><td></td><td><a class=\"ProveItLink\" href=\"../../../../../../__pv_it/common/2586cdae2fd2785a5bcbf61f99f7aaf8229d775e0/expr.ipynb\"><img src=\"../../../../../../__pv_it/common/2586cdae2fd2785a5bcbf61f99f7aaf8229d775e0/expr.png\" style=\"display:inline;vertical-align:middle;\" /></a></td></tr>\n",
       "<tr><td>34</td><td>ExprTuple</td><td>50</td><td><a class=\"ProveItLink\" href=\"../../../../../../core_expr_types/__pv_it/common/4b0dd6be36d76552eda6a95d5b4a27f5a5b62f900/expr.ipynb\"><img src=\"../../../../../../core_expr_types/__pv_it/common/4b0dd6be36d76552eda6a95d5b4a27f5a5b62f900/expr.png\" style=\"display:inline;vertical-align:middle;\" /></a></td></tr>\n",
       "<tr><td>35</td><td>Operation</td><td>operator:&nbsp;38<br>operands:&nbsp;39<br></td><td><a class=\"ProveItLink\" href=\"../../common/7a478b94228e0925c619dd6e4625207e1baf10170/expr.ipynb\"><img src=\"../../common/7a478b94228e0925c619dd6e4625207e1baf10170/expr.png\" style=\"display:inline;vertical-align:middle;\" /></a></td></tr>\n",
       "<tr><td>36</td><td>Literal</td><td></td><td><a class=\"ProveItLink\" href=\"../../common/00345a9c4f4d361e0b6e8bbbbe5a33a8ec86a20b0/expr.ipynb\"><img src=\"../../common/00345a9c4f4d361e0b6e8bbbbe5a33a8ec86a20b0/expr.png\" style=\"display:inline;vertical-align:middle;\" /></a></td></tr>\n",
       "<tr><td>37</td><td>NamedExprs</td><td>element: 40<br>targets: 42<br></td><td><a class=\"ProveItLink\" href=\"../../common/55512746aeed19c3231556d3b39920844ecaf7e60/expr.ipynb\"><img src=\"../../common/55512746aeed19c3231556d3b39920844ecaf7e60/expr.png\" style=\"display:inline;vertical-align:middle;\" /></a></td></tr>\n",
       "<tr><td>38</td><td>Literal</td><td></td><td><a class=\"ProveItLink\" href=\"../../common/5eaa43008f05c06941080a12337ff182ea14996e0/expr.ipynb\"><img src=\"../../common/5eaa43008f05c06941080a12337ff182ea14996e0/expr.png\" style=\"display:inline;vertical-align:middle;\" /></a></td></tr>\n",
       "<tr><td>39</td><td>NamedExprs</td><td>element: 41<br>targets: 42<br></td><td><a class=\"ProveItLink\" href=\"../../common/c9993bc1194fa7fb14d416e037fdd3e1ecf64cde0/expr.ipynb\"><img src=\"../../common/c9993bc1194fa7fb14d416e037fdd3e1ecf64cde0/expr.png\" style=\"display:inline;vertical-align:middle;\" /></a></td></tr>\n",
       "<tr><td>40</td><td>Operation</td><td>operator:&nbsp;44<br>operands:&nbsp;43<br></td><td><a class=\"ProveItLink\" href=\"../../common/4e427095d75b6bdb2917d6aebbf68b6198ca3d2d0/expr.ipynb\"><img src=\"../../common/4e427095d75b6bdb2917d6aebbf68b6198ca3d2d0/expr.png\" style=\"display:inline;vertical-align:middle;\" /></a></td></tr>\n",
       "<tr><td>41</td><td>Operation</td><td>operator:&nbsp;44<br>operands:&nbsp;45<br></td><td><a class=\"ProveItLink\" href=\"../../common/d3918e4065cc195d0d9d19f3926df0c0b289480d0/expr.ipynb\"><img src=\"../../common/d3918e4065cc195d0d9d19f3926df0c0b289480d0/expr.png\" style=\"display:inline;vertical-align:middle;\" /></a></td></tr>\n",
       "<tr><td>42</td><td>Operation</td><td>operator:&nbsp;46<br>operands:&nbsp;47<br></td><td><a class=\"ProveItLink\" href=\"../../common/a8b7e69e51be1878195dc38a06157ebea6c529ef0/expr.ipynb\"><img src=\"../../common/a8b7e69e51be1878195dc38a06157ebea6c529ef0/expr.png\" style=\"display:inline;vertical-align:middle;\" /></a></td></tr>\n",
       "<tr><td>43</td><td>NamedExprs</td><td>state: 48<br>part: 50<br></td><td><a class=\"ProveItLink\" href=\"../../common/a793d72f916a5fb11c4a873a1ad449dcb75faded0/expr.ipynb\"><img src=\"../../common/a793d72f916a5fb11c4a873a1ad449dcb75faded0/expr.png\" style=\"display:inline;vertical-align:middle;\" /></a></td></tr>\n",
       "<tr><td>44</td><td>Literal</td><td></td><td><a class=\"ProveItLink\" href=\"../../common/deea8715ce6701df08bbe1d049112a0bad4965c20/expr.ipynb\"><img src=\"../../common/deea8715ce6701df08bbe1d049112a0bad4965c20/expr.png\" style=\"display:inline;vertical-align:middle;\" /></a></td></tr>\n",
       "<tr><td>45</td><td>NamedExprs</td><td>state: 49<br>part: 50<br></td><td><a class=\"ProveItLink\" href=\"../../common/047cc15084d9a82d1608053f1f59282c73cf36d00/expr.ipynb\"><img src=\"../../common/047cc15084d9a82d1608053f1f59282c73cf36d00/expr.png\" style=\"display:inline;vertical-align:middle;\" /></a></td></tr>\n",
       "<tr><td>46</td><td>Literal</td><td></td><td><a class=\"ProveItLink\" href=\"../../../../../../numbers/number_sets/integers/__pv_it/common/92f3a0a77e3c3ea8e4a5c8674edadc54e4f57d550/expr.ipynb\"><img src=\"../../../../../../numbers/number_sets/integers/__pv_it/common/92f3a0a77e3c3ea8e4a5c8674edadc54e4f57d550/expr.png\" style=\"display:inline;vertical-align:middle;\" /></a></td></tr>\n",
       "<tr><td>47</td><td>ExprTuple</td><td>51, 52</td><td><a class=\"ProveItLink\" href=\"../../common/5f07297842aa7d8ed0c46d3d4896804c899607f00/expr.ipynb\"><img src=\"../../common/5f07297842aa7d8ed0c46d3d4896804c899607f00/expr.png\" style=\"display:inline;vertical-align:middle;\" /></a></td></tr>\n",
       "<tr><td>48</td><td>Variable</td><td></td><td><a class=\"ProveItLink\" href=\"../../../../../../__pv_it/common/c06c606ec12678c58933ac85412ecadc2ae28be60/expr.ipynb\"><img src=\"../../../../../../__pv_it/common/c06c606ec12678c58933ac85412ecadc2ae28be60/expr.png\" style=\"display:inline;vertical-align:middle;\" /></a></td></tr>\n",
       "<tr><td>49</td><td>Variable</td><td></td><td><a class=\"ProveItLink\" href=\"../../../../../../__pv_it/common/195236b98c6c564a75b5dbada74b173bc52d5c3e0/expr.ipynb\"><img src=\"../../../../../../__pv_it/common/195236b98c6c564a75b5dbada74b173bc52d5c3e0/expr.png\" style=\"display:inline;vertical-align:middle;\" /></a></td></tr>\n",
       "<tr><td>50</td><td>Variable</td><td></td><td><a class=\"ProveItLink\" href=\"../../../../../../core_expr_types/__pv_it/common/006c465e50948aa2b52285e2de47974f741255cc0/expr.ipynb\"><img src=\"../../../../../../core_expr_types/__pv_it/common/006c465e50948aa2b52285e2de47974f741255cc0/expr.png\" style=\"display:inline;vertical-align:middle;\" /></a></td></tr>\n",
       "<tr><td>51</td><td>Literal</td><td></td><td><a class=\"ProveItLink\" href=\"../../../../../../numbers/numerals/__pv_it/common/682157d4892d216d9e5626ed533aff9b56b9506e0/expr.ipynb\"><img src=\"../../../../../../numbers/numerals/__pv_it/common/682157d4892d216d9e5626ed533aff9b56b9506e0/expr.png\" style=\"display:inline;vertical-align:middle;\" /></a></td></tr>\n",
       "<tr><td>52</td><td>Variable</td><td></td><td><a class=\"ProveItLink\" href=\"../../../../../../__pv_it/common/63b7c64bf9ec7a04ecc396c7a1670f3f12fb59490/expr.ipynb\"><img src=\"../../../../../../__pv_it/common/63b7c64bf9ec7a04ecc396c7a1670f3f12fb59490/expr.png\" style=\"display:inline;vertical-align:middle;\" /></a></td></tr>\n",
       "</table>\n"
      ],
      "text/plain": [
       "0. ((a, b, U_{1}, U_{2}, ..., U_{m}) -> (QCIRCUIT(VertExprArray(([MULTI_QUBIT_ELEM]{element:[INPUT]{state:a, part:1}, targets:{1 .. k}}, [MULTI_QUBIT_ELEM]{element:[INPUT]{state:a, part:2}, targets:{1 .. k}}, ..., [MULTI_QUBIT_ELEM]{element:[INPUT]{state:a, part:k}, targets:{1 .. k}}), \\\\ U_{1},  \\\\ U_{2}, ..., U_{m}, ([MULTI_QUBIT_ELEM]{element:[OUTPUT]{state:b, part:1}, targets:{1 .. k}}, [MULTI_QUBIT_ELEM]{element:[OUTPUT]{state:b, part:2}, targets:{1 .. k}}, ..., [MULTI_QUBIT_ELEM]{element:[OUTPUT]{state:b, part:k}, targets:{1 .. k}}))) => (QCIRCUIT(VertExprArray(([MULTI_QUBIT_ELEM]{element:[INPUT]{state:a, part:1}, targets:{1 .. k}}, [MULTI_QUBIT_ELEM]{element:[INPUT]{state:a, part:2}, targets:{1 .. k}}, ..., [MULTI_QUBIT_ELEM]{element:[INPUT]{state:a, part:k}, targets:{1 .. k}}), \\\\ U_{1}, U_{2}, ..., U_{m})) equiv QCIRCUIT(VertExprArray(([MULTI_QUBIT_ELEM]{element:[INPUT]{state:b, part:1}, targets:{1 .. k}}, [MULTI_QUBIT_ELEM]{element:[INPUT]{state:b, part:2}, targets:{1 .. k}}, ..., [MULTI_QUBIT_ELEM]{element:[INPUT]{state:b, part:k}, targets:{1 .. k}}))))))\n",
       "   core type: ExprTuple\n",
       "   sub-expressions: 1\n",
       "1. (a, b, U_{1}, U_{2}, ..., U_{m}) -> (QCIRCUIT(VertExprArray(([MULTI_QUBIT_ELEM]{element:[INPUT]{state:a, part:1}, targets:{1 .. k}}, [MULTI_QUBIT_ELEM]{element:[INPUT]{state:a, part:2}, targets:{1 .. k}}, ..., [MULTI_QUBIT_ELEM]{element:[INPUT]{state:a, part:k}, targets:{1 .. k}}), \\\\ U_{1},  \\\\ U_{2}, ..., U_{m}, ([MULTI_QUBIT_ELEM]{element:[OUTPUT]{state:b, part:1}, targets:{1 .. k}}, [MULTI_QUBIT_ELEM]{element:[OUTPUT]{state:b, part:2}, targets:{1 .. k}}, ..., [MULTI_QUBIT_ELEM]{element:[OUTPUT]{state:b, part:k}, targets:{1 .. k}}))) => (QCIRCUIT(VertExprArray(([MULTI_QUBIT_ELEM]{element:[INPUT]{state:a, part:1}, targets:{1 .. k}}, [MULTI_QUBIT_ELEM]{element:[INPUT]{state:a, part:2}, targets:{1 .. k}}, ..., [MULTI_QUBIT_ELEM]{element:[INPUT]{state:a, part:k}, targets:{1 .. k}}), \\\\ U_{1}, U_{2}, ..., U_{m})) equiv QCIRCUIT(VertExprArray(([MULTI_QUBIT_ELEM]{element:[INPUT]{state:b, part:1}, targets:{1 .. k}}, [MULTI_QUBIT_ELEM]{element:[INPUT]{state:b, part:2}, targets:{1 .. k}}, ..., [MULTI_QUBIT_ELEM]{element:[INPUT]{state:b, part:k}, targets:{1 .. k}})))))\n",
       "   core type: Lambda\n",
       "   parameters: 2\\n   body: 3\n",
       "2. (a, b,U_{1}, U_{2}, ..., U_{m})\n",
       "   core type: ExprTuple\n",
       "   sub-expressions: 48, 49, 20\n",
       "3. QCIRCUIT(VertExprArray(([MULTI_QUBIT_ELEM]{element:[INPUT]{state:a, part:1}, targets:{1 .. k}}, [MULTI_QUBIT_ELEM]{element:[INPUT]{state:a, part:2}, targets:{1 .. k}}, ..., [MULTI_QUBIT_ELEM]{element:[INPUT]{state:a, part:k}, targets:{1 .. k}}), \\\\ U_{1},  \\\\ U_{2}, ..., U_{m}, ([MULTI_QUBIT_ELEM]{element:[OUTPUT]{state:b, part:1}, targets:{1 .. k}}, [MULTI_QUBIT_ELEM]{element:[OUTPUT]{state:b, part:2}, targets:{1 .. k}}, ..., [MULTI_QUBIT_ELEM]{element:[OUTPUT]{state:b, part:k}, targets:{1 .. k}}))) => (QCIRCUIT(VertExprArray(([MULTI_QUBIT_ELEM]{element:[INPUT]{state:a, part:1}, targets:{1 .. k}}, [MULTI_QUBIT_ELEM]{element:[INPUT]{state:a, part:2}, targets:{1 .. k}}, ..., [MULTI_QUBIT_ELEM]{element:[INPUT]{state:a, part:k}, targets:{1 .. k}}), \\\\ U_{1}, U_{2}, ..., U_{m})) equiv QCIRCUIT(VertExprArray(([MULTI_QUBIT_ELEM]{element:[INPUT]{state:b, part:1}, targets:{1 .. k}}, [MULTI_QUBIT_ELEM]{element:[INPUT]{state:b, part:2}, targets:{1 .. k}}, ..., [MULTI_QUBIT_ELEM]{element:[INPUT]{state:b, part:k}, targets:{1 .. k}}))))\n",
       "   core type: Operation\n",
       "   operator: 4\n",
       "   operands: 5\n",
       "4. =>\n",
       "   core type: Literal\n",
       "   sub-expressions: \n",
       "5. (QCIRCUIT(VertExprArray(([MULTI_QUBIT_ELEM]{element:[INPUT]{state:a, part:1}, targets:{1 .. k}}, [MULTI_QUBIT_ELEM]{element:[INPUT]{state:a, part:2}, targets:{1 .. k}}, ..., [MULTI_QUBIT_ELEM]{element:[INPUT]{state:a, part:k}, targets:{1 .. k}}), \\\\ U_{1},  \\\\ U_{2}, ..., U_{m}, ([MULTI_QUBIT_ELEM]{element:[OUTPUT]{state:b, part:1}, targets:{1 .. k}}, [MULTI_QUBIT_ELEM]{element:[OUTPUT]{state:b, part:2}, targets:{1 .. k}}, ..., [MULTI_QUBIT_ELEM]{element:[OUTPUT]{state:b, part:k}, targets:{1 .. k}}))), QCIRCUIT(VertExprArray(([MULTI_QUBIT_ELEM]{element:[INPUT]{state:a, part:1}, targets:{1 .. k}}, [MULTI_QUBIT_ELEM]{element:[INPUT]{state:a, part:2}, targets:{1 .. k}}, ..., [MULTI_QUBIT_ELEM]{element:[INPUT]{state:a, part:k}, targets:{1 .. k}}), \\\\ U_{1}, U_{2}, ..., U_{m})) equiv QCIRCUIT(VertExprArray(([MULTI_QUBIT_ELEM]{element:[INPUT]{state:b, part:1}, targets:{1 .. k}}, [MULTI_QUBIT_ELEM]{element:[INPUT]{state:b, part:2}, targets:{1 .. k}}, ..., [MULTI_QUBIT_ELEM]{element:[INPUT]{state:b, part:k}, targets:{1 .. k}}))))\n",
       "   core type: ExprTuple\n",
       "   sub-expressions: 6, 7\n",
       "6. QCIRCUIT(VertExprArray(([MULTI_QUBIT_ELEM]{element:[INPUT]{state:a, part:1}, targets:{1 .. k}}, [MULTI_QUBIT_ELEM]{element:[INPUT]{state:a, part:2}, targets:{1 .. k}}, ..., [MULTI_QUBIT_ELEM]{element:[INPUT]{state:a, part:k}, targets:{1 .. k}}), \\\\ U_{1},  \\\\ U_{2}, ..., U_{m}, ([MULTI_QUBIT_ELEM]{element:[OUTPUT]{state:b, part:1}, targets:{1 .. k}}, [MULTI_QUBIT_ELEM]{element:[OUTPUT]{state:b, part:2}, targets:{1 .. k}}, ..., [MULTI_QUBIT_ELEM]{element:[OUTPUT]{state:b, part:k}, targets:{1 .. k}})))\n",
       "   core type: Operation\n",
       "   operator: 16\n",
       "   operands: 8\n",
       "7. QCIRCUIT(VertExprArray(([MULTI_QUBIT_ELEM]{element:[INPUT]{state:a, part:1}, targets:{1 .. k}}, [MULTI_QUBIT_ELEM]{element:[INPUT]{state:a, part:2}, targets:{1 .. k}}, ..., [MULTI_QUBIT_ELEM]{element:[INPUT]{state:a, part:k}, targets:{1 .. k}}), \\\\ U_{1}, U_{2}, ..., U_{m})) equiv QCIRCUIT(VertExprArray(([MULTI_QUBIT_ELEM]{element:[INPUT]{state:b, part:1}, targets:{1 .. k}}, [MULTI_QUBIT_ELEM]{element:[INPUT]{state:b, part:2}, targets:{1 .. k}}, ..., [MULTI_QUBIT_ELEM]{element:[INPUT]{state:b, part:k}, targets:{1 .. k}})))\n",
       "   core type: Operation\n",
       "   operator: 9\n",
       "   operands: 10\n",
       "8. VertExprArray(([MULTI_QUBIT_ELEM]{element:[INPUT]{state:a, part:1}, targets:{1 .. k}}, [MULTI_QUBIT_ELEM]{element:[INPUT]{state:a, part:2}, targets:{1 .. k}}, ..., [MULTI_QUBIT_ELEM]{element:[INPUT]{state:a, part:k}, targets:{1 .. k}}), \\\\ U_{1},  \\\\ U_{2}, ..., U_{m}, ([MULTI_QUBIT_ELEM]{element:[OUTPUT]{state:b, part:1}, targets:{1 .. k}}, [MULTI_QUBIT_ELEM]{element:[OUTPUT]{state:b, part:2}, targets:{1 .. k}}, ..., [MULTI_QUBIT_ELEM]{element:[OUTPUT]{state:b, part:k}, targets:{1 .. k}}))\n",
       "   core type: ExprTuple\n",
       "   sub-expressions: 19, 20, 11\n",
       "9. equiv\n",
       "   core type: Literal\n",
       "   sub-expressions: \n",
       "10. (QCIRCUIT(VertExprArray(([MULTI_QUBIT_ELEM]{element:[INPUT]{state:a, part:1}, targets:{1 .. k}}, [MULTI_QUBIT_ELEM]{element:[INPUT]{state:a, part:2}, targets:{1 .. k}}, ..., [MULTI_QUBIT_ELEM]{element:[INPUT]{state:a, part:k}, targets:{1 .. k}}), \\\\ U_{1}, U_{2}, ..., U_{m})), QCIRCUIT(VertExprArray(([MULTI_QUBIT_ELEM]{element:[INPUT]{state:b, part:1}, targets:{1 .. k}}, [MULTI_QUBIT_ELEM]{element:[INPUT]{state:b, part:2}, targets:{1 .. k}}, ..., [MULTI_QUBIT_ELEM]{element:[INPUT]{state:b, part:k}, targets:{1 .. k}}))))\n",
       "    core type: ExprTuple\n",
       "    sub-expressions: 12, 13\n",
       "11. ([MULTI_QUBIT_ELEM]{element:[OUTPUT]{state:b, part:1}, targets:{1 .. k}}, [MULTI_QUBIT_ELEM]{element:[OUTPUT]{state:b, part:2}, targets:{1 .. k}}, ..., [MULTI_QUBIT_ELEM]{element:[OUTPUT]{state:b, part:k}, targets:{1 .. k}})\n",
       "    core type: ExprTuple\n",
       "    sub-expressions: 14\n",
       "12. QCIRCUIT(VertExprArray(([MULTI_QUBIT_ELEM]{element:[INPUT]{state:a, part:1}, targets:{1 .. k}}, [MULTI_QUBIT_ELEM]{element:[INPUT]{state:a, part:2}, targets:{1 .. k}}, ..., [MULTI_QUBIT_ELEM]{element:[INPUT]{state:a, part:k}, targets:{1 .. k}}), \\\\ U_{1}, U_{2}, ..., U_{m}))\n",
       "    core type: Operation\n",
       "    operator: 16\n",
       "    operands: 15\n",
       "13. QCIRCUIT(VertExprArray(([MULTI_QUBIT_ELEM]{element:[INPUT]{state:b, part:1}, targets:{1 .. k}}, [MULTI_QUBIT_ELEM]{element:[INPUT]{state:b, part:2}, targets:{1 .. k}}, ..., [MULTI_QUBIT_ELEM]{element:[INPUT]{state:b, part:k}, targets:{1 .. k}})))\n",
       "    core type: Operation\n",
       "    operator: 16\n",
       "    operand: 21\n",
       "14. [MULTI_QUBIT_ELEM]{element:[OUTPUT]{state:b, part:1}, targets:{1 .. k}}, [MULTI_QUBIT_ELEM]{element:[OUTPUT]{state:b, part:2}, targets:{1 .. k}}, ..., [MULTI_QUBIT_ELEM]{element:[OUTPUT]{state:b, part:k}, targets:{1 .. k}}\n",
       "    core type: ExprRange\n",
       "    lambda_map: 18\n",
       "    start_index: 51\n",
       "    end_index: 52\n",
       "15. VertExprArray(([MULTI_QUBIT_ELEM]{element:[INPUT]{state:a, part:1}, targets:{1 .. k}}, [MULTI_QUBIT_ELEM]{element:[INPUT]{state:a, part:2}, targets:{1 .. k}}, ..., [MULTI_QUBIT_ELEM]{element:[INPUT]{state:a, part:k}, targets:{1 .. k}}), \\\\ U_{1}, U_{2}, ..., U_{m})\n",
       "    core type: ExprTuple\n",
       "    sub-expressions: 19, 20\n",
       "16. QCIRCUIT\n",
       "    core type: Literal\n",
       "    sub-expressions: \n",
       "17. VertExprArray(([MULTI_QUBIT_ELEM]{element:[INPUT]{state:b, part:1}, targets:{1 .. k}}, [MULTI_QUBIT_ELEM]{element:[INPUT]{state:b, part:2}, targets:{1 .. k}}, ..., [MULTI_QUBIT_ELEM]{element:[INPUT]{state:b, part:k}, targets:{1 .. k}}))\n",
       "    core type: ExprTuple\n",
       "    sub-expressions: 21\n",
       "18. _a -> [MULTI_QUBIT_ELEM]{element:[OUTPUT]{state:b, part:_a}, targets:{1 .. k}}\n",
       "    core type: Lambda\n",
       "    parameter: 50\n",
       "    body: 22\n",
       "19. ([MULTI_QUBIT_ELEM]{element:[INPUT]{state:a, part:1}, targets:{1 .. k}}, [MULTI_QUBIT_ELEM]{element:[INPUT]{state:a, part:2}, targets:{1 .. k}}, ..., [MULTI_QUBIT_ELEM]{element:[INPUT]{state:a, part:k}, targets:{1 .. k}})\n",
       "    core type: ExprTuple\n",
       "    sub-expressions: 23\n",
       "20. U_{1}, U_{2}, ..., U_{m}\n",
       "    core type: ExprRange\n",
       "    lambda_map: 24\n",
       "    start_index: 51\n",
       "    end_index: 25\n",
       "21. ([MULTI_QUBIT_ELEM]{element:[INPUT]{state:b, part:1}, targets:{1 .. k}}, [MULTI_QUBIT_ELEM]{element:[INPUT]{state:b, part:2}, targets:{1 .. k}}, ..., [MULTI_QUBIT_ELEM]{element:[INPUT]{state:b, part:k}, targets:{1 .. k}})\n",
       "    core type: ExprTuple\n",
       "    sub-expressions: 26\n",
       "22. [MULTI_QUBIT_ELEM]{element:[OUTPUT]{state:b, part:_a}, targets:{1 .. k}}\n",
       "    core type: Operation\n",
       "    operator: 38\n",
       "    operands: 27\n",
       "23. [MULTI_QUBIT_ELEM]{element:[INPUT]{state:a, part:1}, targets:{1 .. k}}, [MULTI_QUBIT_ELEM]{element:[INPUT]{state:a, part:2}, targets:{1 .. k}}, ..., [MULTI_QUBIT_ELEM]{element:[INPUT]{state:a, part:k}, targets:{1 .. k}}\n",
       "    core type: ExprRange\n",
       "    lambda_map: 28\n",
       "    start_index: 51\n",
       "    end_index: 52\n",
       "24. _a -> U_{_a}\n",
       "    core type: Lambda\n",
       "    parameter: 50\n",
       "    body: 29\n",
       "25. m\n",
       "    core type: Variable\n",
       "    sub-expressions: \n",
       "26. [MULTI_QUBIT_ELEM]{element:[INPUT]{state:b, part:1}, targets:{1 .. k}}, [MULTI_QUBIT_ELEM]{element:[INPUT]{state:b, part:2}, targets:{1 .. k}}, ..., [MULTI_QUBIT_ELEM]{element:[INPUT]{state:b, part:k}, targets:{1 .. k}}\n",
       "    core type: ExprRange\n",
       "    lambda_map: 30\n",
       "    start_index: 51\n",
       "    end_index: 52\n",
       "27. {element:[OUTPUT]{state:b, part:_a}, targets:{1 .. k}}\n",
       "    core type: NamedExprs\n",
       "    element: 31\n",
       "    targets: 42\n",
       "28. _a -> [MULTI_QUBIT_ELEM]{element:[INPUT]{state:a, part:_a}, targets:{1 .. k}}\n",
       "    core type: Lambda\n",
       "    parameter: 50\n",
       "    body: 32\n",
       "29. U_{_a}\n",
       "    core type: IndexedVar\n",
       "variable: 33\n",
       "index: 50\n",
       "30. _a -> [MULTI_QUBIT_ELEM]{element:[INPUT]{state:b, part:_a}, targets:{1 .. k}}\n",
       "    core type: Lambda\n",
       "    parameter: 50\n",
       "    body: 35\n",
       "31. [OUTPUT]{state:b, part:_a}\n",
       "    core type: Operation\n",
       "    operator: 36\n",
       "    operands: 45\n",
       "32. [MULTI_QUBIT_ELEM]{element:[INPUT]{state:a, part:_a}, targets:{1 .. k}}\n",
       "    core type: Operation\n",
       "    operator: 38\n",
       "    operands: 37\n",
       "33. U\n",
       "    core type: Variable\n",
       "    sub-expressions: \n",
       "34. (_a)\n",
       "    core type: ExprTuple\n",
       "    sub-expressions: 50\n",
       "35. [MULTI_QUBIT_ELEM]{element:[INPUT]{state:b, part:_a}, targets:{1 .. k}}\n",
       "    core type: Operation\n",
       "    operator: 38\n",
       "    operands: 39\n",
       "36. OUTPUT\n",
       "    core type: Literal\n",
       "    sub-expressions: \n",
       "37. {element:[INPUT]{state:a, part:_a}, targets:{1 .. k}}\n",
       "    core type: NamedExprs\n",
       "    element: 40\n",
       "    targets: 42\n",
       "38. MULTI_QUBIT_ELEM\n",
       "    core type: Literal\n",
       "    sub-expressions: \n",
       "39. {element:[INPUT]{state:b, part:_a}, targets:{1 .. k}}\n",
       "    core type: NamedExprs\n",
       "    element: 41\n",
       "    targets: 42\n",
       "40. [INPUT]{state:a, part:_a}\n",
       "    core type: Operation\n",
       "    operator: 44\n",
       "    operands: 43\n",
       "41. [INPUT]{state:b, part:_a}\n",
       "    core type: Operation\n",
       "    operator: 44\n",
       "    operands: 45\n",
       "42. {1 .. k}\n",
       "    core type: Operation\n",
       "    operator: 46\n",
       "    operands: 47\n",
       "43. {state:a, part:_a}\n",
       "    core type: NamedExprs\n",
       "    state: 48\n",
       "    part: 50\n",
       "44. INPUT\n",
       "    core type: Literal\n",
       "    sub-expressions: \n",
       "45. {state:b, part:_a}\n",
       "    core type: NamedExprs\n",
       "    state: 49\n",
       "    part: 50\n",
       "46. Interval\n",
       "    core type: Literal\n",
       "    sub-expressions: \n",
       "47. (1, k)\n",
       "    core type: ExprTuple\n",
       "    sub-expressions: 51, 52\n",
       "48. a\n",
       "    core type: Variable\n",
       "    sub-expressions: \n",
       "49. b\n",
       "    core type: Variable\n",
       "    sub-expressions: \n",
       "50. _a\n",
       "    core type: Variable\n",
       "    sub-expressions: \n",
       "51. 1\n",
       "    core type: Literal\n",
       "    sub-expressions: \n",
       "52. k\n",
       "    core type: Variable\n",
       "    sub-expressions: "
      ]
     },
     "metadata": {},
     "output_type": "display_data"
    }
   ],
   "source": [
    "# display the expression information\n",
    "stored_expr.expr_info()"
   ]
  },
  {
   "cell_type": "code",
   "execution_count": null,
   "metadata": {},
   "outputs": [],
   "source": []
  }
 ],
 "metadata": {
  "kernelspec": {
   "display_name": "Python 3",
   "language": "python",
   "name": "python3"
  }
 },
 "nbformat": 4,
 "nbformat_minor": 0
}