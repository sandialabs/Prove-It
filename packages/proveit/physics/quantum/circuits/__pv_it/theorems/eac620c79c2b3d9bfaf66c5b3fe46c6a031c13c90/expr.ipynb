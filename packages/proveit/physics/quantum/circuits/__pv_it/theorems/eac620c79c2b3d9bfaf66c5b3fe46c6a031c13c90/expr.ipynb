{
 "cells": [
  {
   "cell_type": "markdown",
   "metadata": {},
   "source": [
    "Expression of type <a class=\"ProveItLink\" href=\"../../../../../../../../doc/html/api/proveit.ExprTuple.html\">ExprTuple</a>\n",
    "=======================\n",
    "# from the theory of <a class=\"ProveItLink\" href=\"../../../_theory_nbs_/theory.ipynb\">proveit.physics.quantum.circuits</a>"
   ]
  },
  {
   "cell_type": "code",
   "execution_count": 1,
   "metadata": {},
   "outputs": [],
   "source": [
    "import proveit\n",
    "# Automation is not needed when building an expression:\n",
    "proveit.defaults.automation = False # This will speed things up.\n",
    "proveit.defaults.inline_pngs = False # Makes files smaller.\n",
    "%load_expr # Load the stored expression as 'stored_expr'\n",
    "# import Expression classes needed to build the expression\n",
    "from proveit import ExprTuple\n",
    "from proveit.physics.quantum.circuits import circuit_Bk, circuit_Dm"
   ]
  },
  {
   "cell_type": "code",
   "execution_count": 2,
   "metadata": {},
   "outputs": [
    {
     "data": {
      "text/html": [
       "<strong id=\"expr\">expr:</strong> <a class=\"ProveItLink\" href=\"expr.ipynb\"><img src=\"expr.png\" style=\"display:inline;vertical-align:middle;\" /></a><br>"
      ],
      "text/plain": [
       "<IPython.core.display.HTML object>"
      ]
     },
     "metadata": {},
     "output_type": "display_data"
    }
   ],
   "source": [
    "# build up the expression from sub-expressions\n",
    "expr = ExprTuple(circuit_Bk, circuit_Dm)"
   ]
  },
  {
   "cell_type": "code",
   "execution_count": 3,
   "metadata": {},
   "outputs": [
    {
     "name": "stdout",
     "output_type": "stream",
     "text": [
      "Passed sanity check: expr matches stored_expr\n"
     ]
    }
   ],
   "source": [
    "# check that the built expression is the same as the stored expression\n",
    "assert expr == stored_expr\n",
    "assert expr._style_id == stored_expr._style_id\n",
    "print(\"Passed sanity check: expr matches stored_expr\")"
   ]
  },
  {
   "cell_type": "code",
   "execution_count": 4,
   "metadata": {},
   "outputs": [
    {
     "name": "stdout",
     "output_type": "stream",
     "text": [
      "\\left(\\begin{array}{c} \\Qcircuit@C=1em @R=.7em{\n",
      "& \\gate{\\begin{array}{c} \\uparrow \\\\B_{1} \\\\ \\downarrow\\end{array}} & \\gate{\\begin{array}{c} \\uparrow \\\\B_{2} \\\\ \\downarrow\\end{array}} & \\gate{\\begin{array}{c} \\uparrow \\\\\\cdots \\\\ \\downarrow\\end{array}} & \\gate{\\begin{array}{c} \\uparrow \\\\B_{k} \\\\ \\downarrow\\end{array}} & \\qw\n",
      "} \\end{array}, \\begin{array}{c} \\Qcircuit@C=1em @R=.7em{\n",
      "& \\gate{\\begin{array}{c} \\uparrow \\\\D_{1} \\\\ \\downarrow\\end{array}} & \\gate{\\begin{array}{c} \\uparrow \\\\D_{2} \\\\ \\downarrow\\end{array}} & \\gate{\\begin{array}{c} \\uparrow \\\\\\cdots \\\\ \\downarrow\\end{array}} & \\gate{\\begin{array}{c} \\uparrow \\\\D_{m} \\\\ \\downarrow\\end{array}} & \\qw\n",
      "} \\end{array}\\right)\n"
     ]
    }
   ],
   "source": [
    "# Show the LaTeX representation of the expression for convenience if you need it.\n",
    "print(stored_expr.latex())"
   ]
  },
  {
   "cell_type": "code",
   "execution_count": 5,
   "metadata": {},
   "outputs": [
    {
     "data": {
      "text/html": [
       "<table>\n",
       "<tr><th>name</th><th>description</th><th>default</th><th>current value</th><th>related methods</th></tr><tr><td>wrap_positions</td><td>position(s) at which wrapping is to occur; 'n' is after the nth comma.</td><td>()</td><td>()</td><td>('with_wrapping_at',)</td></tr>\n",
       "<tr><td>justification</td><td>if any wrap positions are set, justify to the 'left', 'center', or 'right'</td><td>left</td><td>left</td><td>('with_justification',)</td></tr>\n",
       "</table>\n"
      ],
      "text/plain": [
       "style name: wrap_positions\n",
       "description: position(s) at which wrapping is to occur; 'n' is after the nth comma.\n",
       "default: ()\n",
       "current value: ()\n",
       "related methods: ('with_wrapping_at',)\n",
       "style name: justification\n",
       "description: if any wrap positions are set, justify to the 'left', 'center', or 'right'\n",
       "default: left\n",
       "current value: left\n",
       "related methods: ('with_justification',)"
      ]
     },
     "metadata": {},
     "output_type": "display_data"
    }
   ],
   "source": [
    "stored_expr.style_options()"
   ]
  },
  {
   "cell_type": "code",
   "execution_count": 6,
   "metadata": {},
   "outputs": [
    {
     "data": {
      "text/html": [
       "<table><tr><th>&nbsp;</th><th>core type</th><th>sub-expressions</th><th>expression</th></tr>\n",
       "<tr><td>0</td><td>ExprTuple</td><td>1, 2</td><td><a class=\"ProveItLink\" href=\"expr.ipynb\"><img src=\"expr.png\" style=\"display:inline;vertical-align:middle;\" /></a></td></tr>\n",
       "<tr><td>1</td><td>Operation</td><td>operator:&nbsp;4<br>operands:&nbsp;3<br></td><td><a class=\"ProveItLink\" href=\"../../common/164801bb79c713609c20c1e949b5c100d33301a90/expr.ipynb\"><img src=\"../../common/164801bb79c713609c20c1e949b5c100d33301a90/expr.png\" style=\"display:inline;vertical-align:middle;\" /></a></td></tr>\n",
       "<tr><td>2</td><td>Operation</td><td>operator:&nbsp;4<br>operands:&nbsp;5<br></td><td><a class=\"ProveItLink\" href=\"../../common/92aee40056143f54a3477806fae44e76cd0eed890/expr.ipynb\"><img src=\"../../common/92aee40056143f54a3477806fae44e76cd0eed890/expr.png\" style=\"display:inline;vertical-align:middle;\" /></a></td></tr>\n",
       "<tr><td>3</td><td>ExprTuple</td><td>6</td><td><a class=\"ProveItLink\" href=\"../../common/de64c2cef0ceda1187e48b69c78b72bc349107e10/expr.ipynb\"><img src=\"../../common/de64c2cef0ceda1187e48b69c78b72bc349107e10/expr.png\" style=\"display:inline;vertical-align:middle;\" /></a></td></tr>\n",
       "<tr><td>4</td><td>Literal</td><td></td><td><a class=\"ProveItLink\" href=\"../../common/40003b89a3d1740159ada9fe5b21308b42a7d3d40/expr.ipynb\"><img src=\"../../common/40003b89a3d1740159ada9fe5b21308b42a7d3d40/expr.png\" style=\"display:inline;vertical-align:middle;\" /></a></td></tr>\n",
       "<tr><td>5</td><td>ExprTuple</td><td>7</td><td><a class=\"ProveItLink\" href=\"../../common/275c6fcc335b946049af00a82071fc117d83a7470/expr.ipynb\"><img src=\"../../common/275c6fcc335b946049af00a82071fc117d83a7470/expr.png\" style=\"display:inline;vertical-align:middle;\" /></a></td></tr>\n",
       "<tr><td>6</td><td>ExprRange</td><td>lambda_map:&nbsp;8<br>start_index:&nbsp;11<br>end_index:&nbsp;9<br></td><td><a class=\"ProveItLink\" href=\"../../common/7e57efd5d9a4194667c5bcaad46ebfba80807a1b0/expr.ipynb\"><img src=\"../../common/7e57efd5d9a4194667c5bcaad46ebfba80807a1b0/expr.png\" style=\"display:inline;vertical-align:middle;\" /></a></td></tr>\n",
       "<tr><td>7</td><td>ExprRange</td><td>lambda_map:&nbsp;10<br>start_index:&nbsp;11<br>end_index:&nbsp;12<br></td><td><a class=\"ProveItLink\" href=\"../../common/e88fae0552e7a054a6e178462c55eae80258396d0/expr.ipynb\"><img src=\"../../common/e88fae0552e7a054a6e178462c55eae80258396d0/expr.png\" style=\"display:inline;vertical-align:middle;\" /></a></td></tr>\n",
       "<tr><td>8</td><td>Lambda</td><td>parameter:&nbsp;18<br>body:&nbsp;13<br></td><td><a class=\"ProveItLink\" href=\"../../common/ce3be667460ed1a5c75aef291ca088671a4476f50/expr.ipynb\"><img src=\"../../common/ce3be667460ed1a5c75aef291ca088671a4476f50/expr.png\" style=\"display:inline;vertical-align:middle;\" /></a></td></tr>\n",
       "<tr><td>9</td><td>Variable</td><td></td><td><a class=\"ProveItLink\" href=\"../../../../../../__pv_it/common/63b7c64bf9ec7a04ecc396c7a1670f3f12fb59490/expr.ipynb\"><img src=\"../../../../../../__pv_it/common/63b7c64bf9ec7a04ecc396c7a1670f3f12fb59490/expr.png\" style=\"display:inline;vertical-align:middle;\" /></a></td></tr>\n",
       "<tr><td>10</td><td>Lambda</td><td>parameter:&nbsp;18<br>body:&nbsp;14<br></td><td><a class=\"ProveItLink\" href=\"../../common/d88cd10a717d879065792fac15bfd242261d413f0/expr.ipynb\"><img src=\"../../common/d88cd10a717d879065792fac15bfd242261d413f0/expr.png\" style=\"display:inline;vertical-align:middle;\" /></a></td></tr>\n",
       "<tr><td>11</td><td>Literal</td><td></td><td><a class=\"ProveItLink\" href=\"../../../../../../numbers/numerals/__pv_it/common/682157d4892d216d9e5626ed533aff9b56b9506e0/expr.ipynb\"><img src=\"../../../../../../numbers/numerals/__pv_it/common/682157d4892d216d9e5626ed533aff9b56b9506e0/expr.png\" style=\"display:inline;vertical-align:middle;\" /></a></td></tr>\n",
       "<tr><td>12</td><td>Variable</td><td></td><td><a class=\"ProveItLink\" href=\"../../../../../../__pv_it/common/674a03b9c3ca221b3aabd5636837b31528ff33830/expr.ipynb\"><img src=\"../../../../../../__pv_it/common/674a03b9c3ca221b3aabd5636837b31528ff33830/expr.png\" style=\"display:inline;vertical-align:middle;\" /></a></td></tr>\n",
       "<tr><td>13</td><td>IndexedVar</td><td>variable:&nbsp;15<br>index:&nbsp;18<br></td><td><a class=\"ProveItLink\" href=\"../../common/2d18b8ce771112ed7fafa8be6c3e3112c72709040/expr.ipynb\"><img src=\"../../common/2d18b8ce771112ed7fafa8be6c3e3112c72709040/expr.png\" style=\"display:inline;vertical-align:middle;\" /></a></td></tr>\n",
       "<tr><td>14</td><td>IndexedVar</td><td>variable:&nbsp;16<br>index:&nbsp;18<br></td><td><a class=\"ProveItLink\" href=\"../../common/65f318fc71dcdb13bcf6bd6e3e19c255b4d45edb0/expr.ipynb\"><img src=\"../../common/65f318fc71dcdb13bcf6bd6e3e19c255b4d45edb0/expr.png\" style=\"display:inline;vertical-align:middle;\" /></a></td></tr>\n",
       "<tr><td>15</td><td>Variable</td><td></td><td><a class=\"ProveItLink\" href=\"../../../../../../__pv_it/common/a9162d1c3cc0470c02e5daf414500903a7a419230/expr.ipynb\"><img src=\"../../../../../../__pv_it/common/a9162d1c3cc0470c02e5daf414500903a7a419230/expr.png\" style=\"display:inline;vertical-align:middle;\" /></a></td></tr>\n",
       "<tr><td>16</td><td>Variable</td><td></td><td><a class=\"ProveItLink\" href=\"../../../../../../__pv_it/common/8d36d28f3636cdaa66f8b7d56eb3bbf0b50f70200/expr.ipynb\"><img src=\"../../../../../../__pv_it/common/8d36d28f3636cdaa66f8b7d56eb3bbf0b50f70200/expr.png\" style=\"display:inline;vertical-align:middle;\" /></a></td></tr>\n",
       "<tr><td>17</td><td>ExprTuple</td><td>18</td><td><a class=\"ProveItLink\" href=\"../../../../../../core_expr_types/__pv_it/common/4b0dd6be36d76552eda6a95d5b4a27f5a5b62f900/expr.ipynb\"><img src=\"../../../../../../core_expr_types/__pv_it/common/4b0dd6be36d76552eda6a95d5b4a27f5a5b62f900/expr.png\" style=\"display:inline;vertical-align:middle;\" /></a></td></tr>\n",
       "<tr><td>18</td><td>Variable</td><td></td><td><a class=\"ProveItLink\" href=\"../../../../../../core_expr_types/__pv_it/common/006c465e50948aa2b52285e2de47974f741255cc0/expr.ipynb\"><img src=\"../../../../../../core_expr_types/__pv_it/common/006c465e50948aa2b52285e2de47974f741255cc0/expr.png\" style=\"display:inline;vertical-align:middle;\" /></a></td></tr>\n",
       "</table>\n"
      ],
      "text/plain": [
       "0. (QCIRCUIT(VertExprArray(B_{1}, B_{2}, ..., B_{k})), QCIRCUIT(VertExprArray(D_{1}, D_{2}, ..., D_{m})))\n",
       "   core type: ExprTuple\n",
       "   sub-expressions: 1, 2\n",
       "1. QCIRCUIT(VertExprArray(B_{1}, B_{2}, ..., B_{k}))\n",
       "   core type: Operation\n",
       "   operator: 4\n",
       "   operands: 3\n",
       "2. QCIRCUIT(VertExprArray(D_{1}, D_{2}, ..., D_{m}))\n",
       "   core type: Operation\n",
       "   operator: 4\n",
       "   operands: 5\n",
       "3. VertExprArray(B_{1}, B_{2}, ..., B_{k})\n",
       "   core type: ExprTuple\n",
       "   sub-expressions: 6\n",
       "4. QCIRCUIT\n",
       "   core type: Literal\n",
       "   sub-expressions: \n",
       "5. VertExprArray(D_{1}, D_{2}, ..., D_{m})\n",
       "   core type: ExprTuple\n",
       "   sub-expressions: 7\n",
       "6. B_{1}, B_{2}, ..., B_{k}\n",
       "   core type: ExprRange\n",
       "   lambda_map: 8\n",
       "   start_index: 11\n",
       "   end_index: 9\n",
       "7. D_{1}, D_{2}, ..., D_{m}\n",
       "   core type: ExprRange\n",
       "   lambda_map: 10\n",
       "   start_index: 11\n",
       "   end_index: 12\n",
       "8. _a -> B_{_a}\n",
       "   core type: Lambda\n",
       "   parameter: 18\n",
       "   body: 13\n",
       "9. k\n",
       "   core type: Variable\n",
       "   sub-expressions: \n",
       "10. _a -> D_{_a}\n",
       "    core type: Lambda\n",
       "    parameter: 18\n",
       "    body: 14\n",
       "11. 1\n",
       "    core type: Literal\n",
       "    sub-expressions: \n",
       "12. m\n",
       "    core type: Variable\n",
       "    sub-expressions: \n",
       "13. B_{_a}\n",
       "    core type: IndexedVar\n",
       "variable: 15\n",
       "index: 18\n",
       "14. D_{_a}\n",
       "    core type: IndexedVar\n",
       "variable: 16\n",
       "index: 18\n",
       "15. B\n",
       "    core type: Variable\n",
       "    sub-expressions: \n",
       "16. D\n",
       "    core type: Variable\n",
       "    sub-expressions: \n",
       "17. (_a)\n",
       "    core type: ExprTuple\n",
       "    sub-expressions: 18\n",
       "18. _a\n",
       "    core type: Variable\n",
       "    sub-expressions: "
      ]
     },
     "metadata": {},
     "output_type": "display_data"
    }
   ],
   "source": [
    "# display the expression information\n",
    "stored_expr.expr_info()"
   ]
  },
  {
   "cell_type": "code",
   "execution_count": null,
   "metadata": {},
   "outputs": [],
   "source": []
  }
 ],
 "metadata": {
  "kernelspec": {
   "display_name": "Python 3",
   "language": "python",
   "name": "python3"
  }
 },
 "nbformat": 4,
 "nbformat_minor": 0
}