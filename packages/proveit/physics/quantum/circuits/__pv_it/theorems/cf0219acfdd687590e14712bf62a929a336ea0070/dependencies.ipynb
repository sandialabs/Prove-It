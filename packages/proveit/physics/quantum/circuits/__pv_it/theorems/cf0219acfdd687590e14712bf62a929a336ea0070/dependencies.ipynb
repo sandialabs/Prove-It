{
 "cells": [
  {
   "cell_type": "markdown",
   "metadata": {},
   "source": [
    "Theorem Dependencies\n",
    "=======================\n",
    "\n",
    "## <a class=\"ProveItLink\" href=\"../../../_theory_nbs_/theory.ipynb\">proveit.physics.quantum.circuits</a>.<a class=\"ProveItLink\" href=\"../../../_theorems_.ipynb#trivial_expansion_below\">trivial_expansion_below</a> \n",
    "***see <a class=\"ProveItLink\" href=\"../../../_theory_nbs_/proofs/trivial_expansion_below/thm_proof.ipynb\">proof</a>***"
   ]
  },
  {
   "cell_type": "code",
   "execution_count": 1,
   "metadata": {},
   "outputs": [],
   "source": [
    "import proveit\n",
    "# Automation is not needed when querying dependencies:\n",
    "proveit.defaults.automation = False # This will speed things up.\n",
    "proveit.defaults.inline_pngs = False # Makes files smaller.\n",
    "from proveit.physics.quantum.circuits import trivial_expansion_below"
   ]
  },
  {
   "cell_type": "code",
   "execution_count": 2,
   "metadata": {},
   "outputs": [
    {
     "data": {
      "text/html": [
       "<h3>Unproven conjectures required (directly or indirectly) to prove trivial_expansion_below</h3>"
      ],
      "text/plain": [
       "<IPython.core.display.HTML object>"
      ]
     },
     "metadata": {},
     "output_type": "display_data"
    },
    {
     "data": {
      "text/html": [
       "<dl>"
      ],
      "text/plain": [
       "<IPython.core.display.HTML object>"
      ]
     },
     "metadata": {},
     "output_type": "display_data"
    },
    {
     "data": {
      "text/html": [
       "<dt><a class=\"ProveItLink\" href=\"../../../_theory_nbs_/proofs/trivial_expansion_below/thm_proof.ipynb\">proveit.physics.quantum.circuits.trivial_expansion_below</a></dt><dd><a class=\"ProveItLink\" href=\"../35f56a36213b99527d445696ef9c53bcc11ceaea0/expr.ipynb\"><img src=\"../35f56a36213b99527d445696ef9c53bcc11ceaea0/expr.png\" style=\"display:inline;vertical-align:middle;\" /></a></dd>"
      ],
      "text/plain": [
       "<IPython.core.display.HTML object>"
      ]
     },
     "metadata": {},
     "output_type": "display_data"
    },
    {
     "data": {
      "text/html": [
       "</dl>"
      ],
      "text/plain": [
       "<IPython.core.display.HTML object>"
      ]
     },
     "metadata": {},
     "output_type": "display_data"
    },
    {
     "data": {
      "text/html": [
       "<h3>Theorems/conjectures that depend directly on trivial_expansion_below</h3>"
      ],
      "text/plain": [
       "<IPython.core.display.HTML object>"
      ]
     },
     "metadata": {},
     "output_type": "display_data"
    },
    {
     "data": {
      "text/html": [
       "<dl>"
      ],
      "text/plain": [
       "<IPython.core.display.HTML object>"
      ]
     },
     "metadata": {},
     "output_type": "display_data"
    },
    {
     "data": {
      "text/html": [
       "<dt><a class=\"ProveItLink\" href=\"../../../../QPE/_theory_nbs_/proofs/_Psi_output/thm_proof.ipynb\">proveit.physics.quantum.QPE._Psi_output</a></dt><dd><a class=\"ProveItLink\" href=\"../../../../QPE/__pv_it/theorems/99863c4fa8e9ab08f0c60bc822b3a0ead524836a0/expr.ipynb\"><img src=\"../../../../QPE/__pv_it/theorems/99863c4fa8e9ab08f0c60bc822b3a0ead524836a0/expr.png\" style=\"display:inline;vertical-align:middle;\" /></a></dd>"
      ],
      "text/plain": [
       "<IPython.core.display.HTML object>"
      ]
     },
     "metadata": {},
     "output_type": "display_data"
    },
    {
     "data": {
      "text/html": [
       "<dt><a class=\"ProveItLink\" href=\"../../../../QPE/_theory_nbs_/proofs/_outcome_prob/thm_proof.ipynb\">proveit.physics.quantum.QPE._outcome_prob</a></dt><dd><a class=\"ProveItLink\" href=\"../../../../QPE/__pv_it/theorems/d0d56450a6d40486eb99290519f11577a2da3f440/expr.ipynb\"><img src=\"../../../../QPE/__pv_it/theorems/d0d56450a6d40486eb99290519f11577a2da3f440/expr.png\" style=\"display:inline;vertical-align:middle;\" /></a></dd>"
      ],
      "text/plain": [
       "<IPython.core.display.HTML object>"
      ]
     },
     "metadata": {},
     "output_type": "display_data"
    },
    {
     "data": {
      "text/html": [
       "</dl>"
      ],
      "text/plain": [
       "<IPython.core.display.HTML object>"
      ]
     },
     "metadata": {},
     "output_type": "display_data"
    }
   ],
   "source": [
    "%dependencies trivial_expansion_below"
   ]
  }
 ],
 "metadata": {
  "kernelspec": {
   "display_name": "Python 3",
   "language": "python",
   "name": "python3"
  }
 },
 "nbformat": 4,
 "nbformat_minor": 0
}