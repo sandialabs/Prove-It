{
 "cells": [
  {
   "cell_type": "markdown",
   "metadata": {},
   "source": [
    "Expression of type <a class=\"ProveItLink\" href=\"../../../../../../../../doc/html/api/proveit.logic.Forall.html\">Forall</a>\n",
    "=======================\n",
    "# from the theory of <a class=\"ProveItLink\" href=\"../../../_theory_nbs_/theory.ipynb\">proveit.physics.quantum.circuits</a>"
   ]
  },
  {
   "cell_type": "code",
   "execution_count": 1,
   "metadata": {},
   "outputs": [],
   "source": [
    "import proveit\n",
    "# Automation is not needed when building an expression:\n",
    "proveit.defaults.automation = False # This will speed things up.\n",
    "proveit.defaults.inline_pngs = False # Makes files smaller.\n",
    "%load_expr # Load the stored expression as 'stored_expr'\n",
    "# import Expression classes needed to build the expression\n",
    "from proveit.core_expr_types import A_1_to_j, B_1_to_k, C_1_to_l, D_1_to_m\n",
    "from proveit.logic import Forall, Implies\n",
    "from proveit.physics.quantum.circuits import QcircuitEquiv, circuit_AjBkCl, circuit_AjDmCl, circuit_Bk, circuit_Dm"
   ]
  },
  {
   "cell_type": "code",
   "execution_count": 2,
   "metadata": {},
   "outputs": [
    {
     "data": {
      "text/html": [
       "<strong id=\"expr\">expr:</strong> <a class=\"ProveItLink\" href=\"expr.ipynb\"><img src=\"expr.png\" style=\"display:inline;vertical-align:middle;\" /></a><br>"
      ],
      "text/plain": [
       "<IPython.core.display.HTML object>"
      ]
     },
     "metadata": {},
     "output_type": "display_data"
    }
   ],
   "source": [
    "# build up the expression from sub-expressions\n",
    "expr = Forall(instance_param_or_params = [A_1_to_j, B_1_to_k, C_1_to_l, D_1_to_m], instance_expr = Implies(QcircuitEquiv(circuit_Bk, circuit_Dm), QcircuitEquiv(circuit_AjBkCl, circuit_AjDmCl).with_wrapping_at(1)).with_wrapping_at(2)).with_wrapping()"
   ]
  },
  {
   "cell_type": "code",
   "execution_count": 3,
   "metadata": {},
   "outputs": [
    {
     "name": "stdout",
     "output_type": "stream",
     "text": [
      "Passed sanity check: expr matches stored_expr\n"
     ]
    }
   ],
   "source": [
    "# check that the built expression is the same as the stored expression\n",
    "assert expr == stored_expr\n",
    "assert expr._style_id == stored_expr._style_id\n",
    "print(\"Passed sanity check: expr matches stored_expr\")"
   ]
  },
  {
   "cell_type": "code",
   "execution_count": 4,
   "metadata": {},
   "outputs": [
    {
     "name": "stdout",
     "output_type": "stream",
     "text": [
      "\\begin{array}{l}\\forall_{A_{1}, A_{2}, \\ldots, A_{j}, B_{1}, B_{2}, \\ldots, B_{k}, C_{1}, C_{2}, \\ldots, C_{l}, D_{1}, D_{2}, \\ldots, D_{m}}~\\\\\n",
      "\\left(\\begin{array}{c} \\begin{array}{l} \\left(\\left(\\begin{array}{c} \\Qcircuit@C=1em @R=.7em{\n",
      "& \\gate{\\begin{array}{c} \\uparrow \\\\B_{1} \\\\ \\downarrow\\end{array}} & \\gate{\\begin{array}{c} \\uparrow \\\\B_{2} \\\\ \\downarrow\\end{array}} & \\gate{\\begin{array}{c} \\uparrow \\\\\\cdots \\\\ \\downarrow\\end{array}} & \\gate{\\begin{array}{c} \\uparrow \\\\B_{k} \\\\ \\downarrow\\end{array}} & \\qw\n",
      "} \\end{array}\\right) \\cong \\left(\\begin{array}{c} \\Qcircuit@C=1em @R=.7em{\n",
      "& \\gate{\\begin{array}{c} \\uparrow \\\\D_{1} \\\\ \\downarrow\\end{array}} & \\gate{\\begin{array}{c} \\uparrow \\\\D_{2} \\\\ \\downarrow\\end{array}} & \\gate{\\begin{array}{c} \\uparrow \\\\\\cdots \\\\ \\downarrow\\end{array}} & \\gate{\\begin{array}{c} \\uparrow \\\\D_{m} \\\\ \\downarrow\\end{array}} & \\qw\n",
      "} \\end{array}\\right)\\right) \\Rightarrow  \\\\ \\left(\\begin{array}{c} \\begin{array}{l} \\left(\\begin{array}{c} \\Qcircuit@C=1em @R=.7em{\n",
      "& \\gate{\\begin{array}{c} \\uparrow \\\\A_{1} \\\\ \\downarrow\\end{array}} & \\gate{\\begin{array}{c} \\uparrow \\\\A_{2} \\\\ \\downarrow\\end{array}} & \\gate{\\begin{array}{c} \\uparrow \\\\\\cdots \\\\ \\downarrow\\end{array}} & \\gate{\\begin{array}{c} \\uparrow \\\\A_{j} \\\\ \\downarrow\\end{array}} & \\gate{\\begin{array}{c} \\uparrow \\\\B_{1} \\\\ \\downarrow\\end{array}} & \\gate{\\begin{array}{c} \\uparrow \\\\B_{2} \\\\ \\downarrow\\end{array}} & \\gate{\\begin{array}{c} \\uparrow \\\\\\cdots \\\\ \\downarrow\\end{array}} & \\gate{\\begin{array}{c} \\uparrow \\\\B_{k} \\\\ \\downarrow\\end{array}} & \\gate{\\begin{array}{c} \\uparrow \\\\C_{1} \\\\ \\downarrow\\end{array}} & \\gate{\\begin{array}{c} \\uparrow \\\\C_{2} \\\\ \\downarrow\\end{array}} & \\gate{\\begin{array}{c} \\uparrow \\\\\\cdots \\\\ \\downarrow\\end{array}} & \\gate{\\begin{array}{c} \\uparrow \\\\C_{l} \\\\ \\downarrow\\end{array}} & \\qw\n",
      "} \\end{array}\\right) \\\\  \\cong \\left(\\begin{array}{c} \\Qcircuit@C=1em @R=.7em{\n",
      "& \\gate{\\begin{array}{c} \\uparrow \\\\A_{1} \\\\ \\downarrow\\end{array}} & \\gate{\\begin{array}{c} \\uparrow \\\\A_{2} \\\\ \\downarrow\\end{array}} & \\gate{\\begin{array}{c} \\uparrow \\\\\\cdots \\\\ \\downarrow\\end{array}} & \\gate{\\begin{array}{c} \\uparrow \\\\A_{j} \\\\ \\downarrow\\end{array}} & \\gate{\\begin{array}{c} \\uparrow \\\\D_{1} \\\\ \\downarrow\\end{array}} & \\gate{\\begin{array}{c} \\uparrow \\\\D_{2} \\\\ \\downarrow\\end{array}} & \\gate{\\begin{array}{c} \\uparrow \\\\\\cdots \\\\ \\downarrow\\end{array}} & \\gate{\\begin{array}{c} \\uparrow \\\\D_{m} \\\\ \\downarrow\\end{array}} & \\gate{\\begin{array}{c} \\uparrow \\\\C_{1} \\\\ \\downarrow\\end{array}} & \\gate{\\begin{array}{c} \\uparrow \\\\C_{2} \\\\ \\downarrow\\end{array}} & \\gate{\\begin{array}{c} \\uparrow \\\\\\cdots \\\\ \\downarrow\\end{array}} & \\gate{\\begin{array}{c} \\uparrow \\\\C_{l} \\\\ \\downarrow\\end{array}} & \\qw\n",
      "} \\end{array}\\right) \\end{array} \\end{array}\\right) \\end{array} \\end{array}\\right)\\end{array}\n"
     ]
    }
   ],
   "source": [
    "# Show the LaTeX representation of the expression for convenience if you need it.\n",
    "print(stored_expr.latex())"
   ]
  },
  {
   "cell_type": "code",
   "execution_count": 5,
   "metadata": {},
   "outputs": [
    {
     "data": {
      "text/html": [
       "<table>\n",
       "<tr><th>name</th><th>description</th><th>default</th><th>current value</th><th>related methods</th></tr><tr><td>with_wrapping</td><td>If 'True', wrap the Expression after the parameters</td><td>None</td><td>True</td><td>('with_wrapping',)</td></tr>\n",
       "<tr><td>condition_wrapping</td><td>Wrap 'before' or 'after' the condition (or None).</td><td>None</td><td>None/False</td><td>('with_wrap_after_condition', 'with_wrap_before_condition')</td></tr>\n",
       "<tr><td>wrap_params</td><td>If 'True', wraps every two parameters AND wraps the Expression after the parameters</td><td>None</td><td>None/False</td><td>('with_params',)</td></tr>\n",
       "<tr><td>justification</td><td>justify to the 'left', 'center', or 'right' in the array cells</td><td>center</td><td>center</td><td>('with_justification',)</td></tr>\n",
       "</table>\n"
      ],
      "text/plain": [
       "style name: with_wrapping\n",
       "description: If 'True', wrap the Expression after the parameters\n",
       "default: None\n",
       "current value: True\n",
       "related methods: ('with_wrapping',)\n",
       "style name: condition_wrapping\n",
       "description: Wrap 'before' or 'after' the condition (or None).\n",
       "default: None\n",
       "current value: None/False\n",
       "related methods: ('with_wrap_after_condition', 'with_wrap_before_condition')\n",
       "style name: wrap_params\n",
       "description: If 'True', wraps every two parameters AND wraps the Expression after the parameters\n",
       "default: None\n",
       "current value: None/False\n",
       "related methods: ('with_params',)\n",
       "style name: justification\n",
       "description: justify to the 'left', 'center', or 'right' in the array cells\n",
       "default: center\n",
       "current value: center\n",
       "related methods: ('with_justification',)"
      ]
     },
     "metadata": {},
     "output_type": "display_data"
    }
   ],
   "source": [
    "stored_expr.style_options()"
   ]
  },
  {
   "cell_type": "code",
   "execution_count": 6,
   "metadata": {},
   "outputs": [
    {
     "data": {
      "text/html": [
       "<table><tr><th>&nbsp;</th><th>core type</th><th>sub-expressions</th><th>expression</th></tr>\n",
       "<tr><td>0</td><td>Operation</td><td>operator:&nbsp;1<br>operand:&nbsp;3<br></td><td><a class=\"ProveItLink\" href=\"expr.ipynb\"><img src=\"expr.png\" style=\"display:inline;vertical-align:middle;\" /></a></td></tr>\n",
       "<tr><td>1</td><td>Literal</td><td></td><td><a class=\"ProveItLink\" href=\"../../../../../../logic/booleans/quantification/universality/__pv_it/common/083d2baa0b8ecab1d230f9ec29a15aa1355809fb0/expr.ipynb\"><img src=\"../../../../../../logic/booleans/quantification/universality/__pv_it/common/083d2baa0b8ecab1d230f9ec29a15aa1355809fb0/expr.png\" style=\"display:inline;vertical-align:middle;\" /></a></td></tr>\n",
       "<tr><td>2</td><td>ExprTuple</td><td>3</td><td><a class=\"ProveItLink\" href=\"../8208f626036166adfdaf3446c3cb52285f5c9a870/expr.ipynb\"><img src=\"../8208f626036166adfdaf3446c3cb52285f5c9a870/expr.png\" style=\"display:inline;vertical-align:middle;\" /></a></td></tr>\n",
       "<tr><td>3</td><td>Lambda</td><td>parameters:&nbsp;4<br>body:&nbsp;5<br></td><td><a class=\"ProveItLink\" href=\"../539a9867269245e9a67206d57166bc711d727e490/expr.ipynb\"><img src=\"../539a9867269245e9a67206d57166bc711d727e490/expr.png\" style=\"display:inline;vertical-align:middle;\" /></a></td></tr>\n",
       "<tr><td>4</td><td>ExprTuple</td><td>23, 22, 25, 24</td><td><a class=\"ProveItLink\" href=\"../29452b2f5afd53f0e1d4474be5bba8ba438565600/expr.ipynb\"><img src=\"../29452b2f5afd53f0e1d4474be5bba8ba438565600/expr.png\" style=\"display:inline;vertical-align:middle;\" /></a></td></tr>\n",
       "<tr><td>5</td><td>Operation</td><td>operator:&nbsp;6<br>operands:&nbsp;7<br></td><td><a class=\"ProveItLink\" href=\"../a38d9a200efb9845f3b1f151d25bf17a0f471b210/expr.ipynb\"><img src=\"../a38d9a200efb9845f3b1f151d25bf17a0f471b210/expr.png\" style=\"display:inline;vertical-align:middle;\" /></a></td></tr>\n",
       "<tr><td>6</td><td>Literal</td><td></td><td><a class=\"ProveItLink\" href=\"../../../../../../logic/booleans/implication/__pv_it/common/02bdb382575728da8cdbaed545b9096ea7a1bd5b0/expr.ipynb\"><img src=\"../../../../../../logic/booleans/implication/__pv_it/common/02bdb382575728da8cdbaed545b9096ea7a1bd5b0/expr.png\" style=\"display:inline;vertical-align:middle;\" /></a></td></tr>\n",
       "<tr><td>7</td><td>ExprTuple</td><td>8, 9</td><td><a class=\"ProveItLink\" href=\"../94d292648fc1d47ce07815b62b1179c307e250a20/expr.ipynb\"><img src=\"../94d292648fc1d47ce07815b62b1179c307e250a20/expr.png\" style=\"display:inline;vertical-align:middle;\" /></a></td></tr>\n",
       "<tr><td>8</td><td>Operation</td><td>operator:&nbsp;11<br>operands:&nbsp;10<br></td><td><a class=\"ProveItLink\" href=\"../9c02df5adc055424a4bc0934cf005549fec988b80/expr.ipynb\"><img src=\"../9c02df5adc055424a4bc0934cf005549fec988b80/expr.png\" style=\"display:inline;vertical-align:middle;\" /></a></td></tr>\n",
       "<tr><td>9</td><td>Operation</td><td>operator:&nbsp;11<br>operands:&nbsp;12<br></td><td><a class=\"ProveItLink\" href=\"../cfffc29df01f661428be4039c3cde6d8071203ee0/expr.ipynb\"><img src=\"../cfffc29df01f661428be4039c3cde6d8071203ee0/expr.png\" style=\"display:inline;vertical-align:middle;\" /></a></td></tr>\n",
       "<tr><td>10</td><td>ExprTuple</td><td>13, 14</td><td><a class=\"ProveItLink\" href=\"../eac620c79c2b3d9bfaf66c5b3fe46c6a031c13c90/expr.ipynb\"><img src=\"../eac620c79c2b3d9bfaf66c5b3fe46c6a031c13c90/expr.png\" style=\"display:inline;vertical-align:middle;\" /></a></td></tr>\n",
       "<tr><td>11</td><td>Literal</td><td></td><td><a class=\"ProveItLink\" href=\"../../common/838a207b4d233a1702a5e7821ffac032fcae32e80/expr.ipynb\"><img src=\"../../common/838a207b4d233a1702a5e7821ffac032fcae32e80/expr.png\" style=\"display:inline;vertical-align:middle;\" /></a></td></tr>\n",
       "<tr><td>12</td><td>ExprTuple</td><td>15, 16</td><td><a class=\"ProveItLink\" href=\"../166952ec21a9d09d20e179927654468519f9844f0/expr.ipynb\"><img src=\"../166952ec21a9d09d20e179927654468519f9844f0/expr.png\" style=\"display:inline;vertical-align:middle;\" /></a></td></tr>\n",
       "<tr><td>13</td><td>Operation</td><td>operator:&nbsp;20<br>operands:&nbsp;17<br></td><td><a class=\"ProveItLink\" href=\"../../common/164801bb79c713609c20c1e949b5c100d33301a90/expr.ipynb\"><img src=\"../../common/164801bb79c713609c20c1e949b5c100d33301a90/expr.png\" style=\"display:inline;vertical-align:middle;\" /></a></td></tr>\n",
       "<tr><td>14</td><td>Operation</td><td>operator:&nbsp;20<br>operands:&nbsp;18<br></td><td><a class=\"ProveItLink\" href=\"../../common/92aee40056143f54a3477806fae44e76cd0eed890/expr.ipynb\"><img src=\"../../common/92aee40056143f54a3477806fae44e76cd0eed890/expr.png\" style=\"display:inline;vertical-align:middle;\" /></a></td></tr>\n",
       "<tr><td>15</td><td>Operation</td><td>operator:&nbsp;20<br>operands:&nbsp;19<br></td><td><a class=\"ProveItLink\" href=\"../../common/dddac0699649ea3711e035d09cbf6ba79ad4226f0/expr.ipynb\"><img src=\"../../common/dddac0699649ea3711e035d09cbf6ba79ad4226f0/expr.png\" style=\"display:inline;vertical-align:middle;\" /></a></td></tr>\n",
       "<tr><td>16</td><td>Operation</td><td>operator:&nbsp;20<br>operands:&nbsp;21<br></td><td><a class=\"ProveItLink\" href=\"../../common/fb4254066ae97daad65b0cf1d1fd7258e785e35b0/expr.ipynb\"><img src=\"../../common/fb4254066ae97daad65b0cf1d1fd7258e785e35b0/expr.png\" style=\"display:inline;vertical-align:middle;\" /></a></td></tr>\n",
       "<tr><td>17</td><td>ExprTuple</td><td>22</td><td><a class=\"ProveItLink\" href=\"../../common/de64c2cef0ceda1187e48b69c78b72bc349107e10/expr.ipynb\"><img src=\"../../common/de64c2cef0ceda1187e48b69c78b72bc349107e10/expr.png\" style=\"display:inline;vertical-align:middle;\" /></a></td></tr>\n",
       "<tr><td>18</td><td>ExprTuple</td><td>24</td><td><a class=\"ProveItLink\" href=\"../../common/275c6fcc335b946049af00a82071fc117d83a7470/expr.ipynb\"><img src=\"../../common/275c6fcc335b946049af00a82071fc117d83a7470/expr.png\" style=\"display:inline;vertical-align:middle;\" /></a></td></tr>\n",
       "<tr><td>19</td><td>ExprTuple</td><td>23, 22, 25</td><td><a class=\"ProveItLink\" href=\"../../common/e44836ad1c9a013080197911d9ed740277561d3b0/expr.ipynb\"><img src=\"../../common/e44836ad1c9a013080197911d9ed740277561d3b0/expr.png\" style=\"display:inline;vertical-align:middle;\" /></a></td></tr>\n",
       "<tr><td>20</td><td>Literal</td><td></td><td><a class=\"ProveItLink\" href=\"../../common/40003b89a3d1740159ada9fe5b21308b42a7d3d40/expr.ipynb\"><img src=\"../../common/40003b89a3d1740159ada9fe5b21308b42a7d3d40/expr.png\" style=\"display:inline;vertical-align:middle;\" /></a></td></tr>\n",
       "<tr><td>21</td><td>ExprTuple</td><td>23, 24, 25</td><td><a class=\"ProveItLink\" href=\"../../common/3937aacd94faf0a7e42f1f02b5307a14841505ee0/expr.ipynb\"><img src=\"../../common/3937aacd94faf0a7e42f1f02b5307a14841505ee0/expr.png\" style=\"display:inline;vertical-align:middle;\" /></a></td></tr>\n",
       "<tr><td>22</td><td>ExprRange</td><td>lambda_map:&nbsp;26<br>start_index:&nbsp;33<br>end_index:&nbsp;27<br></td><td><a class=\"ProveItLink\" href=\"../../common/7e57efd5d9a4194667c5bcaad46ebfba80807a1b0/expr.ipynb\"><img src=\"../../common/7e57efd5d9a4194667c5bcaad46ebfba80807a1b0/expr.png\" style=\"display:inline;vertical-align:middle;\" /></a></td></tr>\n",
       "<tr><td>23</td><td>ExprRange</td><td>lambda_map:&nbsp;28<br>start_index:&nbsp;33<br>end_index:&nbsp;29<br></td><td><a class=\"ProveItLink\" href=\"../../common/6f07f7e1cd84e684d7c7dec96c23c91dfce5a4940/expr.ipynb\"><img src=\"../../common/6f07f7e1cd84e684d7c7dec96c23c91dfce5a4940/expr.png\" style=\"display:inline;vertical-align:middle;\" /></a></td></tr>\n",
       "<tr><td>24</td><td>ExprRange</td><td>lambda_map:&nbsp;30<br>start_index:&nbsp;33<br>end_index:&nbsp;31<br></td><td><a class=\"ProveItLink\" href=\"../../common/e88fae0552e7a054a6e178462c55eae80258396d0/expr.ipynb\"><img src=\"../../common/e88fae0552e7a054a6e178462c55eae80258396d0/expr.png\" style=\"display:inline;vertical-align:middle;\" /></a></td></tr>\n",
       "<tr><td>25</td><td>ExprRange</td><td>lambda_map:&nbsp;32<br>start_index:&nbsp;33<br>end_index:&nbsp;34<br></td><td><a class=\"ProveItLink\" href=\"../../common/93180d12670d355000d63040daf06d1f65ce2b530/expr.ipynb\"><img src=\"../../common/93180d12670d355000d63040daf06d1f65ce2b530/expr.png\" style=\"display:inline;vertical-align:middle;\" /></a></td></tr>\n",
       "<tr><td>26</td><td>Lambda</td><td>parameter:&nbsp;44<br>body:&nbsp;35<br></td><td><a class=\"ProveItLink\" href=\"../../common/ce3be667460ed1a5c75aef291ca088671a4476f50/expr.ipynb\"><img src=\"../../common/ce3be667460ed1a5c75aef291ca088671a4476f50/expr.png\" style=\"display:inline;vertical-align:middle;\" /></a></td></tr>\n",
       "<tr><td>27</td><td>Variable</td><td></td><td><a class=\"ProveItLink\" href=\"../../../../../../__pv_it/common/63b7c64bf9ec7a04ecc396c7a1670f3f12fb59490/expr.ipynb\"><img src=\"../../../../../../__pv_it/common/63b7c64bf9ec7a04ecc396c7a1670f3f12fb59490/expr.png\" style=\"display:inline;vertical-align:middle;\" /></a></td></tr>\n",
       "<tr><td>28</td><td>Lambda</td><td>parameter:&nbsp;44<br>body:&nbsp;36<br></td><td><a class=\"ProveItLink\" href=\"../../../../../../core_expr_types/__pv_it/common/9332289e845003c758afc3bcee43498ae784f2d90/expr.ipynb\"><img src=\"../../../../../../core_expr_types/__pv_it/common/9332289e845003c758afc3bcee43498ae784f2d90/expr.png\" style=\"display:inline;vertical-align:middle;\" /></a></td></tr>\n",
       "<tr><td>29</td><td>Variable</td><td></td><td><a class=\"ProveItLink\" href=\"../../../../../../__pv_it/common/1ed21df18baca2f42b561a7ffbf30a2743d594650/expr.ipynb\"><img src=\"../../../../../../__pv_it/common/1ed21df18baca2f42b561a7ffbf30a2743d594650/expr.png\" style=\"display:inline;vertical-align:middle;\" /></a></td></tr>\n",
       "<tr><td>30</td><td>Lambda</td><td>parameter:&nbsp;44<br>body:&nbsp;37<br></td><td><a class=\"ProveItLink\" href=\"../../common/d88cd10a717d879065792fac15bfd242261d413f0/expr.ipynb\"><img src=\"../../common/d88cd10a717d879065792fac15bfd242261d413f0/expr.png\" style=\"display:inline;vertical-align:middle;\" /></a></td></tr>\n",
       "<tr><td>31</td><td>Variable</td><td></td><td><a class=\"ProveItLink\" href=\"../../../../../../__pv_it/common/674a03b9c3ca221b3aabd5636837b31528ff33830/expr.ipynb\"><img src=\"../../../../../../__pv_it/common/674a03b9c3ca221b3aabd5636837b31528ff33830/expr.png\" style=\"display:inline;vertical-align:middle;\" /></a></td></tr>\n",
       "<tr><td>32</td><td>Lambda</td><td>parameter:&nbsp;44<br>body:&nbsp;38<br></td><td><a class=\"ProveItLink\" href=\"../../common/026bda56f970646a226308e8b2ecd80b6505ab7c0/expr.ipynb\"><img src=\"../../common/026bda56f970646a226308e8b2ecd80b6505ab7c0/expr.png\" style=\"display:inline;vertical-align:middle;\" /></a></td></tr>\n",
       "<tr><td>33</td><td>Literal</td><td></td><td><a class=\"ProveItLink\" href=\"../../../../../../numbers/numerals/__pv_it/common/682157d4892d216d9e5626ed533aff9b56b9506e0/expr.ipynb\"><img src=\"../../../../../../numbers/numerals/__pv_it/common/682157d4892d216d9e5626ed533aff9b56b9506e0/expr.png\" style=\"display:inline;vertical-align:middle;\" /></a></td></tr>\n",
       "<tr><td>34</td><td>Variable</td><td></td><td><a class=\"ProveItLink\" href=\"../../../../../../__pv_it/common/27cc275d44b4f4499fb9ccfb3fab1a98165d2fa60/expr.ipynb\"><img src=\"../../../../../../__pv_it/common/27cc275d44b4f4499fb9ccfb3fab1a98165d2fa60/expr.png\" style=\"display:inline;vertical-align:middle;\" /></a></td></tr>\n",
       "<tr><td>35</td><td>IndexedVar</td><td>variable:&nbsp;39<br>index:&nbsp;44<br></td><td><a class=\"ProveItLink\" href=\"../../common/2d18b8ce771112ed7fafa8be6c3e3112c72709040/expr.ipynb\"><img src=\"../../common/2d18b8ce771112ed7fafa8be6c3e3112c72709040/expr.png\" style=\"display:inline;vertical-align:middle;\" /></a></td></tr>\n",
       "<tr><td>36</td><td>IndexedVar</td><td>variable:&nbsp;40<br>index:&nbsp;44<br></td><td><a class=\"ProveItLink\" href=\"../../../../../../core_expr_types/__pv_it/common/9fdaaadf1b3d81a308244818dc08833e7f5035730/expr.ipynb\"><img src=\"../../../../../../core_expr_types/__pv_it/common/9fdaaadf1b3d81a308244818dc08833e7f5035730/expr.png\" style=\"display:inline;vertical-align:middle;\" /></a></td></tr>\n",
       "<tr><td>37</td><td>IndexedVar</td><td>variable:&nbsp;41<br>index:&nbsp;44<br></td><td><a class=\"ProveItLink\" href=\"../../common/65f318fc71dcdb13bcf6bd6e3e19c255b4d45edb0/expr.ipynb\"><img src=\"../../common/65f318fc71dcdb13bcf6bd6e3e19c255b4d45edb0/expr.png\" style=\"display:inline;vertical-align:middle;\" /></a></td></tr>\n",
       "<tr><td>38</td><td>IndexedVar</td><td>variable:&nbsp;42<br>index:&nbsp;44<br></td><td><a class=\"ProveItLink\" href=\"../../common/853003cdceb86794413e5a679b110f27894fbda20/expr.ipynb\"><img src=\"../../common/853003cdceb86794413e5a679b110f27894fbda20/expr.png\" style=\"display:inline;vertical-align:middle;\" /></a></td></tr>\n",
       "<tr><td>39</td><td>Variable</td><td></td><td><a class=\"ProveItLink\" href=\"../../../../../../__pv_it/common/a9162d1c3cc0470c02e5daf414500903a7a419230/expr.ipynb\"><img src=\"../../../../../../__pv_it/common/a9162d1c3cc0470c02e5daf414500903a7a419230/expr.png\" style=\"display:inline;vertical-align:middle;\" /></a></td></tr>\n",
       "<tr><td>40</td><td>Variable</td><td></td><td><a class=\"ProveItLink\" href=\"../../../../../../__pv_it/common/09585084922504426caf1db2ff588a23a0932a960/expr.ipynb\"><img src=\"../../../../../../__pv_it/common/09585084922504426caf1db2ff588a23a0932a960/expr.png\" style=\"display:inline;vertical-align:middle;\" /></a></td></tr>\n",
       "<tr><td>41</td><td>Variable</td><td></td><td><a class=\"ProveItLink\" href=\"../../../../../../__pv_it/common/8d36d28f3636cdaa66f8b7d56eb3bbf0b50f70200/expr.ipynb\"><img src=\"../../../../../../__pv_it/common/8d36d28f3636cdaa66f8b7d56eb3bbf0b50f70200/expr.png\" style=\"display:inline;vertical-align:middle;\" /></a></td></tr>\n",
       "<tr><td>42</td><td>Variable</td><td></td><td><a class=\"ProveItLink\" href=\"../../../../../../__pv_it/common/9fba9f29e823606ff4fdf2f1c6d5d08d906e850a0/expr.ipynb\"><img src=\"../../../../../../__pv_it/common/9fba9f29e823606ff4fdf2f1c6d5d08d906e850a0/expr.png\" style=\"display:inline;vertical-align:middle;\" /></a></td></tr>\n",
       "<tr><td>43</td><td>ExprTuple</td><td>44</td><td><a class=\"ProveItLink\" href=\"../../../../../../core_expr_types/__pv_it/common/4b0dd6be36d76552eda6a95d5b4a27f5a5b62f900/expr.ipynb\"><img src=\"../../../../../../core_expr_types/__pv_it/common/4b0dd6be36d76552eda6a95d5b4a27f5a5b62f900/expr.png\" style=\"display:inline;vertical-align:middle;\" /></a></td></tr>\n",
       "<tr><td>44</td><td>Variable</td><td></td><td><a class=\"ProveItLink\" href=\"../../../../../../core_expr_types/__pv_it/common/006c465e50948aa2b52285e2de47974f741255cc0/expr.ipynb\"><img src=\"../../../../../../core_expr_types/__pv_it/common/006c465e50948aa2b52285e2de47974f741255cc0/expr.png\" style=\"display:inline;vertical-align:middle;\" /></a></td></tr>\n",
       "</table>\n"
      ],
      "text/plain": [
       "0. forall_{A_{1}, A_{2}, ..., A_{j}, B_{1}, B_{2}, ..., B_{k}, C_{1}, C_{2}, ..., C_{l}, D_{1}, D_{2}, ..., D_{m}} ((QCIRCUIT(VertExprArray(B_{1}, B_{2}, ..., B_{k})) equiv QCIRCUIT(VertExprArray(D_{1}, D_{2}, ..., D_{m}))) =>  \\\\ (QCIRCUIT(VertExprArray(A_{1},  \\\\ A_{2},  \\\\ ..., A_{j},B_{1}, B_{2}, ..., B_{k},C_{1}, C_{2}, ..., C_{l})) \\\\  equiv QCIRCUIT(VertExprArray(A_{1},  \\\\ A_{2},  \\\\ ..., A_{j},D_{1}, D_{2}, ..., D_{m},C_{1}, C_{2}, ..., C_{l}))))\n",
       "   core type: Operation\n",
       "   operator: 1\n",
       "   operand: 3\n",
       "1. forall\n",
       "   core type: Literal\n",
       "   sub-expressions: \n",
       "2. ((A_{1}, A_{2}, ..., A_{j}, B_{1}, B_{2}, ..., B_{k}, C_{1}, C_{2}, ..., C_{l}, D_{1}, D_{2}, ..., D_{m}) -> ((QCIRCUIT(VertExprArray(B_{1}, B_{2}, ..., B_{k})) equiv QCIRCUIT(VertExprArray(D_{1}, D_{2}, ..., D_{m}))) =>  \\\\ (QCIRCUIT(VertExprArray(A_{1},  \\\\ A_{2},  \\\\ ..., A_{j},B_{1}, B_{2}, ..., B_{k},C_{1}, C_{2}, ..., C_{l})) \\\\  equiv QCIRCUIT(VertExprArray(A_{1},  \\\\ A_{2},  \\\\ ..., A_{j},D_{1}, D_{2}, ..., D_{m},C_{1}, C_{2}, ..., C_{l})))))\n",
       "   core type: ExprTuple\n",
       "   sub-expressions: 3\n",
       "3. (A_{1}, A_{2}, ..., A_{j}, B_{1}, B_{2}, ..., B_{k}, C_{1}, C_{2}, ..., C_{l}, D_{1}, D_{2}, ..., D_{m}) -> ((QCIRCUIT(VertExprArray(B_{1}, B_{2}, ..., B_{k})) equiv QCIRCUIT(VertExprArray(D_{1}, D_{2}, ..., D_{m}))) =>  \\\\ (QCIRCUIT(VertExprArray(A_{1},  \\\\ A_{2},  \\\\ ..., A_{j},B_{1}, B_{2}, ..., B_{k},C_{1}, C_{2}, ..., C_{l})) \\\\  equiv QCIRCUIT(VertExprArray(A_{1},  \\\\ A_{2},  \\\\ ..., A_{j},D_{1}, D_{2}, ..., D_{m},C_{1}, C_{2}, ..., C_{l}))))\n",
       "   core type: Lambda\n",
       "   parameters: 4\\n   body: 5\n",
       "4. (A_{1}, A_{2}, ..., A_{j},B_{1}, B_{2}, ..., B_{k},C_{1}, C_{2}, ..., C_{l},D_{1}, D_{2}, ..., D_{m})\n",
       "   core type: ExprTuple\n",
       "   sub-expressions: 23, 22, 25, 24\n",
       "5. (QCIRCUIT(VertExprArray(B_{1}, B_{2}, ..., B_{k})) equiv QCIRCUIT(VertExprArray(D_{1}, D_{2}, ..., D_{m}))) =>  \\\\ (QCIRCUIT(VertExprArray(A_{1},  \\\\ A_{2},  \\\\ ..., A_{j},B_{1}, B_{2}, ..., B_{k},C_{1}, C_{2}, ..., C_{l})) \\\\  equiv QCIRCUIT(VertExprArray(A_{1},  \\\\ A_{2},  \\\\ ..., A_{j},D_{1}, D_{2}, ..., D_{m},C_{1}, C_{2}, ..., C_{l})))\n",
       "   core type: Operation\n",
       "   operator: 6\n",
       "   operands: 7\n",
       "6. =>\n",
       "   core type: Literal\n",
       "   sub-expressions: \n",
       "7. (QCIRCUIT(VertExprArray(B_{1}, B_{2}, ..., B_{k})) equiv QCIRCUIT(VertExprArray(D_{1}, D_{2}, ..., D_{m})), QCIRCUIT(VertExprArray(A_{1},  \\\\ A_{2},  \\\\ ..., A_{j},B_{1}, B_{2}, ..., B_{k},C_{1}, C_{2}, ..., C_{l})) \\\\  equiv QCIRCUIT(VertExprArray(A_{1},  \\\\ A_{2},  \\\\ ..., A_{j},D_{1}, D_{2}, ..., D_{m},C_{1}, C_{2}, ..., C_{l})))\n",
       "   core type: ExprTuple\n",
       "   sub-expressions: 8, 9\n",
       "8. QCIRCUIT(VertExprArray(B_{1}, B_{2}, ..., B_{k})) equiv QCIRCUIT(VertExprArray(D_{1}, D_{2}, ..., D_{m}))\n",
       "   core type: Operation\n",
       "   operator: 11\n",
       "   operands: 10\n",
       "9. QCIRCUIT(VertExprArray(A_{1},  \\\\ A_{2},  \\\\ ..., A_{j},B_{1}, B_{2}, ..., B_{k},C_{1}, C_{2}, ..., C_{l})) \\\\  equiv QCIRCUIT(VertExprArray(A_{1},  \\\\ A_{2},  \\\\ ..., A_{j},D_{1}, D_{2}, ..., D_{m},C_{1}, C_{2}, ..., C_{l}))\n",
       "   core type: Operation\n",
       "   operator: 11\n",
       "   operands: 12\n",
       "10. (QCIRCUIT(VertExprArray(B_{1}, B_{2}, ..., B_{k})), QCIRCUIT(VertExprArray(D_{1}, D_{2}, ..., D_{m})))\n",
       "    core type: ExprTuple\n",
       "    sub-expressions: 13, 14\n",
       "11. equiv\n",
       "    core type: Literal\n",
       "    sub-expressions: \n",
       "12. (QCIRCUIT(VertExprArray(A_{1},  \\\\ A_{2},  \\\\ ..., A_{j},B_{1}, B_{2}, ..., B_{k},C_{1}, C_{2}, ..., C_{l})), QCIRCUIT(VertExprArray(A_{1},  \\\\ A_{2},  \\\\ ..., A_{j},D_{1}, D_{2}, ..., D_{m},C_{1}, C_{2}, ..., C_{l})))\n",
       "    core type: ExprTuple\n",
       "    sub-expressions: 15, 16\n",
       "13. QCIRCUIT(VertExprArray(B_{1}, B_{2}, ..., B_{k}))\n",
       "    core type: Operation\n",
       "    operator: 20\n",
       "    operands: 17\n",
       "14. QCIRCUIT(VertExprArray(D_{1}, D_{2}, ..., D_{m}))\n",
       "    core type: Operation\n",
       "    operator: 20\n",
       "    operands: 18\n",
       "15. QCIRCUIT(VertExprArray(A_{1},  \\\\ A_{2},  \\\\ ..., A_{j},B_{1}, B_{2}, ..., B_{k},C_{1}, C_{2}, ..., C_{l}))\n",
       "    core type: Operation\n",
       "    operator: 20\n",
       "    operands: 19\n",
       "16. QCIRCUIT(VertExprArray(A_{1},  \\\\ A_{2},  \\\\ ..., A_{j},D_{1}, D_{2}, ..., D_{m},C_{1}, C_{2}, ..., C_{l}))\n",
       "    core type: Operation\n",
       "    operator: 20\n",
       "    operands: 21\n",
       "17. VertExprArray(B_{1}, B_{2}, ..., B_{k})\n",
       "    core type: ExprTuple\n",
       "    sub-expressions: 22\n",
       "18. VertExprArray(D_{1}, D_{2}, ..., D_{m})\n",
       "    core type: ExprTuple\n",
       "    sub-expressions: 24\n",
       "19. VertExprArray(A_{1},  \\\\ A_{2},  \\\\ ..., A_{j},B_{1}, B_{2}, ..., B_{k},C_{1}, C_{2}, ..., C_{l})\n",
       "    core type: ExprTuple\n",
       "    sub-expressions: 23, 22, 25\n",
       "20. QCIRCUIT\n",
       "    core type: Literal\n",
       "    sub-expressions: \n",
       "21. VertExprArray(A_{1},  \\\\ A_{2},  \\\\ ..., A_{j},D_{1}, D_{2}, ..., D_{m},C_{1}, C_{2}, ..., C_{l})\n",
       "    core type: ExprTuple\n",
       "    sub-expressions: 23, 24, 25\n",
       "22. B_{1}, B_{2}, ..., B_{k}\n",
       "    core type: ExprRange\n",
       "    lambda_map: 26\n",
       "    start_index: 33\n",
       "    end_index: 27\n",
       "23. A_{1}, A_{2}, ..., A_{j}\n",
       "    core type: ExprRange\n",
       "    lambda_map: 28\n",
       "    start_index: 33\n",
       "    end_index: 29\n",
       "24. D_{1}, D_{2}, ..., D_{m}\n",
       "    core type: ExprRange\n",
       "    lambda_map: 30\n",
       "    start_index: 33\n",
       "    end_index: 31\n",
       "25. C_{1}, C_{2}, ..., C_{l}\n",
       "    core type: ExprRange\n",
       "    lambda_map: 32\n",
       "    start_index: 33\n",
       "    end_index: 34\n",
       "26. _a -> B_{_a}\n",
       "    core type: Lambda\n",
       "    parameter: 44\n",
       "    body: 35\n",
       "27. k\n",
       "    core type: Variable\n",
       "    sub-expressions: \n",
       "28. _a -> A_{_a}\n",
       "    core type: Lambda\n",
       "    parameter: 44\n",
       "    body: 36\n",
       "29. j\n",
       "    core type: Variable\n",
       "    sub-expressions: \n",
       "30. _a -> D_{_a}\n",
       "    core type: Lambda\n",
       "    parameter: 44\n",
       "    body: 37\n",
       "31. m\n",
       "    core type: Variable\n",
       "    sub-expressions: \n",
       "32. _a -> C_{_a}\n",
       "    core type: Lambda\n",
       "    parameter: 44\n",
       "    body: 38\n",
       "33. 1\n",
       "    core type: Literal\n",
       "    sub-expressions: \n",
       "34. l\n",
       "    core type: Variable\n",
       "    sub-expressions: \n",
       "35. B_{_a}\n",
       "    core type: IndexedVar\n",
       "variable: 39\n",
       "index: 44\n",
       "36. A_{_a}\n",
       "    core type: IndexedVar\n",
       "variable: 40\n",
       "index: 44\n",
       "37. D_{_a}\n",
       "    core type: IndexedVar\n",
       "variable: 41\n",
       "index: 44\n",
       "38. C_{_a}\n",
       "    core type: IndexedVar\n",
       "variable: 42\n",
       "index: 44\n",
       "39. B\n",
       "    core type: Variable\n",
       "    sub-expressions: \n",
       "40. A\n",
       "    core type: Variable\n",
       "    sub-expressions: \n",
       "41. D\n",
       "    core type: Variable\n",
       "    sub-expressions: \n",
       "42. C\n",
       "    core type: Variable\n",
       "    sub-expressions: \n",
       "43. (_a)\n",
       "    core type: ExprTuple\n",
       "    sub-expressions: 44\n",
       "44. _a\n",
       "    core type: Variable\n",
       "    sub-expressions: "
      ]
     },
     "metadata": {},
     "output_type": "display_data"
    }
   ],
   "source": [
    "# display the expression information\n",
    "stored_expr.expr_info()"
   ]
  },
  {
   "cell_type": "code",
   "execution_count": null,
   "metadata": {},
   "outputs": [],
   "source": []
  }
 ],
 "metadata": {
  "kernelspec": {
   "display_name": "Python 3",
   "language": "python",
   "name": "python3"
  }
 },
 "nbformat": 4,
 "nbformat_minor": 0
}