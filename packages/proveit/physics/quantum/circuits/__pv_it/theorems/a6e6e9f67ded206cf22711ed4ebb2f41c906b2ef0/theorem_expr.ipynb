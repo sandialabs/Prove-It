{
 "cells": [
  {
   "cell_type": "markdown",
   "metadata": {},
   "source": [
    "Theorem <a class=\"ProveItLink\" href=\"../../../_theorems_.ipynb#unary_multi_output_reduction\">unary_multi_output_reduction</a> of type <a class=\"ProveItLink\" href=\"../../../../../../../../doc/html/api/proveit.logic.Forall.html\">Forall</a>\n",
    "=======================\n",
    "# from the theory of <a class=\"ProveItLink\" href=\"../../../_theory_nbs_/theory.ipynb\">proveit.physics.quantum.circuits</a>\n",
    "*** see <a class=\"ProveItLink\" href=\"dependencies.ipynb\">dependencies</a> ***"
   ]
  },
  {
   "cell_type": "code",
   "execution_count": 1,
   "metadata": {},
   "outputs": [],
   "source": [
    "import proveit\n",
    "# Automation is not needed when only building an expression:\n",
    "proveit.defaults.automation = False # This will speed things up.\n",
    "proveit.defaults.inline_pngs = False # Makes files smaller.\n",
    "%load_theorem_expr # Load the stored theorem expression as 'stored_expr'\n",
    "# import the special expression\n",
    "from proveit.physics.quantum.circuits import unary_multi_output_reduction"
   ]
  },
  {
   "cell_type": "code",
   "execution_count": 2,
   "metadata": {},
   "outputs": [
    {
     "name": "stdout",
     "output_type": "stream",
     "text": [
      "Passed sanity check: unary_multi_output_reduction matches stored_expr\n"
     ]
    }
   ],
   "source": [
    "# check that the built expression is the same as the stored expression\n",
    "assert unary_multi_output_reduction.expr == stored_expr\n",
    "assert unary_multi_output_reduction.expr._style_id == stored_expr._style_id\n",
    "print(\"Passed sanity check: unary_multi_output_reduction matches stored_expr\")"
   ]
  },
  {
   "cell_type": "code",
   "execution_count": 3,
   "metadata": {},
   "outputs": [
    {
     "name": "stdout",
     "output_type": "stream",
     "text": [
      "\\forall_{\\lvert \\psi \\rangle}~\\left[\\forall_{k \\in \\mathbb{N}^+}~\\left(\\begin{array}{c} \\Qcircuit@C=1em @R=.7em{\n",
      "& & \\qout{\\lvert \\psi \\rangle~\\mbox{part}~1~\\mbox{on}~\\{k~\\ldotp \\ldotp~k\\}} \n",
      "} \\end{array} = \\begin{array}{c} \\Qcircuit@C=1em @R=.7em{\n",
      "& & \\qout{\\lvert \\psi \\rangle} \n",
      "} \\end{array}\\right)\\right]\n"
     ]
    }
   ],
   "source": [
    "# Show the LaTeX representation of the expression for convenience if you need it.\n",
    "print(stored_expr.latex())"
   ]
  },
  {
   "cell_type": "code",
   "execution_count": 4,
   "metadata": {},
   "outputs": [
    {
     "data": {
      "text/html": [
       "<table>\n",
       "<tr><th>name</th><th>description</th><th>default</th><th>current value</th><th>related methods</th></tr><tr><td>with_wrapping</td><td>If 'True', wrap the Expression after the parameters</td><td>None</td><td>None/False</td><td>('with_wrapping',)</td></tr>\n",
       "<tr><td>condition_wrapping</td><td>Wrap 'before' or 'after' the condition (or None).</td><td>None</td><td>None/False</td><td>('with_wrap_after_condition', 'with_wrap_before_condition')</td></tr>\n",
       "<tr><td>wrap_params</td><td>If 'True', wraps every two parameters AND wraps the Expression after the parameters</td><td>None</td><td>None/False</td><td>('with_params',)</td></tr>\n",
       "<tr><td>justification</td><td>justify to the 'left', 'center', or 'right' in the array cells</td><td>center</td><td>center</td><td>('with_justification',)</td></tr>\n",
       "</table>\n"
      ],
      "text/plain": [
       "style name: with_wrapping\n",
       "description: If 'True', wrap the Expression after the parameters\n",
       "default: None\n",
       "current value: None/False\n",
       "related methods: ('with_wrapping',)\n",
       "style name: condition_wrapping\n",
       "description: Wrap 'before' or 'after' the condition (or None).\n",
       "default: None\n",
       "current value: None/False\n",
       "related methods: ('with_wrap_after_condition', 'with_wrap_before_condition')\n",
       "style name: wrap_params\n",
       "description: If 'True', wraps every two parameters AND wraps the Expression after the parameters\n",
       "default: None\n",
       "current value: None/False\n",
       "related methods: ('with_params',)\n",
       "style name: justification\n",
       "description: justify to the 'left', 'center', or 'right' in the array cells\n",
       "default: center\n",
       "current value: center\n",
       "related methods: ('with_justification',)"
      ]
     },
     "metadata": {},
     "output_type": "display_data"
    }
   ],
   "source": [
    "stored_expr.style_options()"
   ]
  },
  {
   "cell_type": "code",
   "execution_count": 5,
   "metadata": {},
   "outputs": [
    {
     "data": {
      "text/html": [
       "<table><tr><th>&nbsp;</th><th>core type</th><th>sub-expressions</th><th>expression</th></tr>\n",
       "<tr><td>0</td><td>Operation</td><td>operator:&nbsp;5<br>operand:&nbsp;2<br></td><td><a class=\"ProveItLink\" href=\"../8f7c3cf5bd07e228cce81f7f58238cc216f9db360/expr.ipynb\"><img src=\"../8f7c3cf5bd07e228cce81f7f58238cc216f9db360/expr.png\" style=\"display:inline;vertical-align:middle;\" /></a></td></tr>\n",
       "<tr><td>1</td><td>ExprTuple</td><td>2</td><td><a class=\"ProveItLink\" href=\"../4985704d4c1e7004809d570584d9411661e4d9890/expr.ipynb\"><img src=\"../4985704d4c1e7004809d570584d9411661e4d9890/expr.png\" style=\"display:inline;vertical-align:middle;\" /></a></td></tr>\n",
       "<tr><td>2</td><td>Lambda</td><td>parameter:&nbsp;28<br>body:&nbsp;4<br></td><td><a class=\"ProveItLink\" href=\"../188e2bf4fbbcab999fbb7cca905cde57d74915ab0/expr.ipynb\"><img src=\"../188e2bf4fbbcab999fbb7cca905cde57d74915ab0/expr.png\" style=\"display:inline;vertical-align:middle;\" /></a></td></tr>\n",
       "<tr><td>3</td><td>ExprTuple</td><td>28</td><td><a class=\"ProveItLink\" href=\"../../../../__pv_it/common/c5907a7c7b2f95242ae96eb0318d39474692981e0/expr.ipynb\"><img src=\"../../../../__pv_it/common/c5907a7c7b2f95242ae96eb0318d39474692981e0/expr.png\" style=\"display:inline;vertical-align:middle;\" /></a></td></tr>\n",
       "<tr><td>4</td><td>Operation</td><td>operator:&nbsp;5<br>operand:&nbsp;7<br></td><td><a class=\"ProveItLink\" href=\"../b4a87f1f793d9b0ee605d70936210a6421e7adca0/expr.ipynb\"><img src=\"../b4a87f1f793d9b0ee605d70936210a6421e7adca0/expr.png\" style=\"display:inline;vertical-align:middle;\" /></a></td></tr>\n",
       "<tr><td>5</td><td>Literal</td><td></td><td><a class=\"ProveItLink\" href=\"../../../../../../logic/booleans/quantification/universality/__pv_it/common/083d2baa0b8ecab1d230f9ec29a15aa1355809fb0/expr.ipynb\"><img src=\"../../../../../../logic/booleans/quantification/universality/__pv_it/common/083d2baa0b8ecab1d230f9ec29a15aa1355809fb0/expr.png\" style=\"display:inline;vertical-align:middle;\" /></a></td></tr>\n",
       "<tr><td>6</td><td>ExprTuple</td><td>7</td><td><a class=\"ProveItLink\" href=\"../9c84f5d67d7eeb82436bffaf8ffda3d2552145360/expr.ipynb\"><img src=\"../9c84f5d67d7eeb82436bffaf8ffda3d2552145360/expr.png\" style=\"display:inline;vertical-align:middle;\" /></a></td></tr>\n",
       "<tr><td>7</td><td>Lambda</td><td>parameter:&nbsp;30<br>body:&nbsp;9<br></td><td><a class=\"ProveItLink\" href=\"../6898defd8638d003ef59ec835825a3a16a23162a0/expr.ipynb\"><img src=\"../6898defd8638d003ef59ec835825a3a16a23162a0/expr.png\" style=\"display:inline;vertical-align:middle;\" /></a></td></tr>\n",
       "<tr><td>8</td><td>ExprTuple</td><td>30</td><td><a class=\"ProveItLink\" href=\"../../../../../../__pv_it/common/688b115fcd711144fb0bdcf2138b0bd26487dd890/expr.ipynb\"><img src=\"../../../../../../__pv_it/common/688b115fcd711144fb0bdcf2138b0bd26487dd890/expr.png\" style=\"display:inline;vertical-align:middle;\" /></a></td></tr>\n",
       "<tr><td>9</td><td>Conditional</td><td>value:&nbsp;10<br>condition:&nbsp;11<br></td><td><a class=\"ProveItLink\" href=\"../3108e576bd9cfad7f7b6b4826635c7033b07f72e0/expr.ipynb\"><img src=\"../3108e576bd9cfad7f7b6b4826635c7033b07f72e0/expr.png\" style=\"display:inline;vertical-align:middle;\" /></a></td></tr>\n",
       "<tr><td>10</td><td>Operation</td><td>operator:&nbsp;12<br>operands:&nbsp;13<br></td><td><a class=\"ProveItLink\" href=\"../35b54502a65b74a19ca3754c553738814779cde20/expr.ipynb\"><img src=\"../35b54502a65b74a19ca3754c553738814779cde20/expr.png\" style=\"display:inline;vertical-align:middle;\" /></a></td></tr>\n",
       "<tr><td>11</td><td>Operation</td><td>operator:&nbsp;14<br>operands:&nbsp;15<br></td><td><a class=\"ProveItLink\" href=\"../cb2c00423acaa7f56a88065940b327123396a5900/expr.ipynb\"><img src=\"../cb2c00423acaa7f56a88065940b327123396a5900/expr.png\" style=\"display:inline;vertical-align:middle;\" /></a></td></tr>\n",
       "<tr><td>12</td><td>Literal</td><td></td><td><a class=\"ProveItLink\" href=\"../../../../../../logic/equality/__pv_it/common/fb96dc12b2aa8801dda64d0132b396c63d1502bb0/expr.ipynb\"><img src=\"../../../../../../logic/equality/__pv_it/common/fb96dc12b2aa8801dda64d0132b396c63d1502bb0/expr.png\" style=\"display:inline;vertical-align:middle;\" /></a></td></tr>\n",
       "<tr><td>13</td><td>ExprTuple</td><td>16, 17</td><td><a class=\"ProveItLink\" href=\"../1b50d6620d31b41aad2681d3c9b6c747af50b9150/expr.ipynb\"><img src=\"../1b50d6620d31b41aad2681d3c9b6c747af50b9150/expr.png\" style=\"display:inline;vertical-align:middle;\" /></a></td></tr>\n",
       "<tr><td>14</td><td>Literal</td><td></td><td><a class=\"ProveItLink\" href=\"../../../../../../logic/sets/membership/__pv_it/common/477487d8796864d23d5810f83761435f25167f690/expr.ipynb\"><img src=\"../../../../../../logic/sets/membership/__pv_it/common/477487d8796864d23d5810f83761435f25167f690/expr.png\" style=\"display:inline;vertical-align:middle;\" /></a></td></tr>\n",
       "<tr><td>15</td><td>ExprTuple</td><td>30, 18</td><td><a class=\"ProveItLink\" href=\"../f180f8b426d5ece5d1a14a614fa8a345cbdb2fe90/expr.ipynb\"><img src=\"../f180f8b426d5ece5d1a14a614fa8a345cbdb2fe90/expr.png\" style=\"display:inline;vertical-align:middle;\" /></a></td></tr>\n",
       "<tr><td>16</td><td>Operation</td><td>operator:&nbsp;19<br>operands:&nbsp;20<br></td><td><a class=\"ProveItLink\" href=\"../9dc9b2e93e20caba13151765e51e25668538ffe30/expr.ipynb\"><img src=\"../9dc9b2e93e20caba13151765e51e25668538ffe30/expr.png\" style=\"display:inline;vertical-align:middle;\" /></a></td></tr>\n",
       "<tr><td>17</td><td>Operation</td><td>operator:&nbsp;24<br>operands:&nbsp;21<br></td><td><a class=\"ProveItLink\" href=\"../aa8eb1e5ef982fbbfa57073d55a050bc642f834b0/expr.ipynb\"><img src=\"../aa8eb1e5ef982fbbfa57073d55a050bc642f834b0/expr.png\" style=\"display:inline;vertical-align:middle;\" /></a></td></tr>\n",
       "<tr><td>18</td><td>Literal</td><td></td><td><a class=\"ProveItLink\" href=\"../../../../../../numbers/number_sets/natural_numbers/__pv_it/common/6111329435c43892c831c4793de96afbf80bdb3e0/expr.ipynb\"><img src=\"../../../../../../numbers/number_sets/natural_numbers/__pv_it/common/6111329435c43892c831c4793de96afbf80bdb3e0/expr.png\" style=\"display:inline;vertical-align:middle;\" /></a></td></tr>\n",
       "<tr><td>19</td><td>Literal</td><td></td><td><a class=\"ProveItLink\" href=\"../../common/5eaa43008f05c06941080a12337ff182ea14996e0/expr.ipynb\"><img src=\"../../common/5eaa43008f05c06941080a12337ff182ea14996e0/expr.png\" style=\"display:inline;vertical-align:middle;\" /></a></td></tr>\n",
       "<tr><td>20</td><td>NamedExprs</td><td>element: 22<br>targets: 23<br></td><td><a class=\"ProveItLink\" href=\"../d09745bd128af131e4e31084cf03a1c3de76b0400/expr.ipynb\"><img src=\"../d09745bd128af131e4e31084cf03a1c3de76b0400/expr.png\" style=\"display:inline;vertical-align:middle;\" /></a></td></tr>\n",
       "<tr><td>21</td><td>NamedExprs</td><td>state: 28<br></td><td><a class=\"ProveItLink\" href=\"../../common/6ef32297b1eb08c5042a0a134ad28f1a9ef41d2a0/expr.ipynb\"><img src=\"../../common/6ef32297b1eb08c5042a0a134ad28f1a9ef41d2a0/expr.png\" style=\"display:inline;vertical-align:middle;\" /></a></td></tr>\n",
       "<tr><td>22</td><td>Operation</td><td>operator:&nbsp;24<br>operands:&nbsp;25<br></td><td><a class=\"ProveItLink\" href=\"../dd106fe190fe35345e98abd65156af7d77d4e8b90/expr.ipynb\"><img src=\"../dd106fe190fe35345e98abd65156af7d77d4e8b90/expr.png\" style=\"display:inline;vertical-align:middle;\" /></a></td></tr>\n",
       "<tr><td>23</td><td>Operation</td><td>operator:&nbsp;26<br>operands:&nbsp;27<br></td><td><a class=\"ProveItLink\" href=\"../ef0b4e3a7ac66c7100ce29c0017a21764f20660a0/expr.ipynb\"><img src=\"../ef0b4e3a7ac66c7100ce29c0017a21764f20660a0/expr.png\" style=\"display:inline;vertical-align:middle;\" /></a></td></tr>\n",
       "<tr><td>24</td><td>Literal</td><td></td><td><a class=\"ProveItLink\" href=\"../../common/00345a9c4f4d361e0b6e8bbbbe5a33a8ec86a20b0/expr.ipynb\"><img src=\"../../common/00345a9c4f4d361e0b6e8bbbbe5a33a8ec86a20b0/expr.png\" style=\"display:inline;vertical-align:middle;\" /></a></td></tr>\n",
       "<tr><td>25</td><td>NamedExprs</td><td>state: 28<br>part: 29<br></td><td><a class=\"ProveItLink\" href=\"../ec92ec05662a2bf24dea97825db432a286cb59f30/expr.ipynb\"><img src=\"../ec92ec05662a2bf24dea97825db432a286cb59f30/expr.png\" style=\"display:inline;vertical-align:middle;\" /></a></td></tr>\n",
       "<tr><td>26</td><td>Literal</td><td></td><td><a class=\"ProveItLink\" href=\"../../../../../../numbers/number_sets/integers/__pv_it/common/92f3a0a77e3c3ea8e4a5c8674edadc54e4f57d550/expr.ipynb\"><img src=\"../../../../../../numbers/number_sets/integers/__pv_it/common/92f3a0a77e3c3ea8e4a5c8674edadc54e4f57d550/expr.png\" style=\"display:inline;vertical-align:middle;\" /></a></td></tr>\n",
       "<tr><td>27</td><td>ExprTuple</td><td>30, 30</td><td><a class=\"ProveItLink\" href=\"../a535fe0c3dce66103325d189bb0c8f36bff0f39f0/expr.ipynb\"><img src=\"../a535fe0c3dce66103325d189bb0c8f36bff0f39f0/expr.png\" style=\"display:inline;vertical-align:middle;\" /></a></td></tr>\n",
       "<tr><td>28</td><td>Variable</td><td></td><td><a class=\"ProveItLink\" href=\"../../../../__pv_it/common/798a4b85c58eead0b86ebff17277cd7c4a79a3160/expr.ipynb\"><img src=\"../../../../__pv_it/common/798a4b85c58eead0b86ebff17277cd7c4a79a3160/expr.png\" style=\"display:inline;vertical-align:middle;\" /></a></td></tr>\n",
       "<tr><td>29</td><td>Literal</td><td></td><td><a class=\"ProveItLink\" href=\"../../../../../../numbers/numerals/__pv_it/common/682157d4892d216d9e5626ed533aff9b56b9506e0/expr.ipynb\"><img src=\"../../../../../../numbers/numerals/__pv_it/common/682157d4892d216d9e5626ed533aff9b56b9506e0/expr.png\" style=\"display:inline;vertical-align:middle;\" /></a></td></tr>\n",
       "<tr><td>30</td><td>Variable</td><td></td><td><a class=\"ProveItLink\" href=\"../../../../../../__pv_it/common/63b7c64bf9ec7a04ecc396c7a1670f3f12fb59490/expr.ipynb\"><img src=\"../../../../../../__pv_it/common/63b7c64bf9ec7a04ecc396c7a1670f3f12fb59490/expr.png\" style=\"display:inline;vertical-align:middle;\" /></a></td></tr>\n",
       "</table>\n"
      ],
      "text/plain": [
       "0. forall_{|psi>} [forall_{k in NaturalPos} ([MULTI_QUBIT_ELEM]{element:[OUTPUT]{state:|psi>, part:1}, targets:{k .. k}} = [OUTPUT]{state:|psi>})]\n",
       "   core type: Operation\n",
       "   operator: 5\n",
       "   operand: 2\n",
       "1. (|psi> -> [forall_{k in NaturalPos} ([MULTI_QUBIT_ELEM]{element:[OUTPUT]{state:|psi>, part:1}, targets:{k .. k}} = [OUTPUT]{state:|psi>})])\n",
       "   core type: ExprTuple\n",
       "   sub-expressions: 2\n",
       "2. |psi> -> [forall_{k in NaturalPos} ([MULTI_QUBIT_ELEM]{element:[OUTPUT]{state:|psi>, part:1}, targets:{k .. k}} = [OUTPUT]{state:|psi>})]\n",
       "   core type: Lambda\n",
       "   parameter: 28\n",
       "   body: 4\n",
       "3. (|psi>)\n",
       "   core type: ExprTuple\n",
       "   sub-expressions: 28\n",
       "4. forall_{k in NaturalPos} ([MULTI_QUBIT_ELEM]{element:[OUTPUT]{state:|psi>, part:1}, targets:{k .. k}} = [OUTPUT]{state:|psi>})\n",
       "   core type: Operation\n",
       "   operator: 5\n",
       "   operand: 7\n",
       "5. forall\n",
       "   core type: Literal\n",
       "   sub-expressions: \n",
       "6. (k -> {[MULTI_QUBIT_ELEM]{element:[OUTPUT]{state:|psi>, part:1}, targets:{k .. k}} = [OUTPUT]{state:|psi>} if k in NaturalPos.)\n",
       "   core type: ExprTuple\n",
       "   sub-expressions: 7\n",
       "7. k -> {[MULTI_QUBIT_ELEM]{element:[OUTPUT]{state:|psi>, part:1}, targets:{k .. k}} = [OUTPUT]{state:|psi>} if k in NaturalPos.\n",
       "   core type: Lambda\n",
       "   parameter: 30\n",
       "   body: 9\n",
       "8. (k)\n",
       "   core type: ExprTuple\n",
       "   sub-expressions: 30\n",
       "9. {[MULTI_QUBIT_ELEM]{element:[OUTPUT]{state:|psi>, part:1}, targets:{k .. k}} = [OUTPUT]{state:|psi>} if k in NaturalPos.\n",
       "   core type: Conditional\n",
       "   value: 10\n",
       "   condition: 11\n",
       "10. [MULTI_QUBIT_ELEM]{element:[OUTPUT]{state:|psi>, part:1}, targets:{k .. k}} = [OUTPUT]{state:|psi>}\n",
       "    core type: Operation\n",
       "    operator: 12\n",
       "    operands: 13\n",
       "11. k in NaturalPos\n",
       "    core type: Operation\n",
       "    operator: 14\n",
       "    operands: 15\n",
       "12. =\n",
       "    core type: Literal\n",
       "    sub-expressions: \n",
       "13. ([MULTI_QUBIT_ELEM]{element:[OUTPUT]{state:|psi>, part:1}, targets:{k .. k}}, [OUTPUT]{state:|psi>})\n",
       "    core type: ExprTuple\n",
       "    sub-expressions: 16, 17\n",
       "14. in\n",
       "    core type: Literal\n",
       "    sub-expressions: \n",
       "15. (k, NaturalPos)\n",
       "    core type: ExprTuple\n",
       "    sub-expressions: 30, 18\n",
       "16. [MULTI_QUBIT_ELEM]{element:[OUTPUT]{state:|psi>, part:1}, targets:{k .. k}}\n",
       "    core type: Operation\n",
       "    operator: 19\n",
       "    operands: 20\n",
       "17. [OUTPUT]{state:|psi>}\n",
       "    core type: Operation\n",
       "    operator: 24\n",
       "    operands: 21\n",
       "18. NaturalPos\n",
       "    core type: Literal\n",
       "    sub-expressions: \n",
       "19. MULTI_QUBIT_ELEM\n",
       "    core type: Literal\n",
       "    sub-expressions: \n",
       "20. {element:[OUTPUT]{state:|psi>, part:1}, targets:{k .. k}}\n",
       "    core type: NamedExprs\n",
       "    element: 22\n",
       "    targets: 23\n",
       "21. {state:|psi>}\n",
       "    core type: NamedExprs\n",
       "    state: 28\n",
       "22. [OUTPUT]{state:|psi>, part:1}\n",
       "    core type: Operation\n",
       "    operator: 24\n",
       "    operands: 25\n",
       "23. {k .. k}\n",
       "    core type: Operation\n",
       "    operator: 26\n",
       "    operands: 27\n",
       "24. OUTPUT\n",
       "    core type: Literal\n",
       "    sub-expressions: \n",
       "25. {state:|psi>, part:1}\n",
       "    core type: NamedExprs\n",
       "    state: 28\n",
       "    part: 29\n",
       "26. Interval\n",
       "    core type: Literal\n",
       "    sub-expressions: \n",
       "27. (k, k)\n",
       "    core type: ExprTuple\n",
       "    sub-expressions: 30, 30\n",
       "28. |psi>\n",
       "    core type: Variable\n",
       "    sub-expressions: \n",
       "29. 1\n",
       "    core type: Literal\n",
       "    sub-expressions: \n",
       "30. k\n",
       "    core type: Variable\n",
       "    sub-expressions: "
      ]
     },
     "metadata": {},
     "output_type": "display_data"
    }
   ],
   "source": [
    "# display the expression information\n",
    "stored_expr.expr_info()"
   ]
  },
  {
   "cell_type": "code",
   "execution_count": null,
   "metadata": {},
   "outputs": [],
   "source": []
  }
 ],
 "metadata": {
  "kernelspec": {
   "display_name": "Python 3",
   "language": "python",
   "name": "python3"
  }
 },
 "nbformat": 4,
 "nbformat_minor": 0
}