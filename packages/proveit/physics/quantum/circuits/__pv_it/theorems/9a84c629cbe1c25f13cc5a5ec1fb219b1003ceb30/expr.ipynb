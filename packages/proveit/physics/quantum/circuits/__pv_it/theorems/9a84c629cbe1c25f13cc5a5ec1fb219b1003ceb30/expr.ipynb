{
 "cells": [
  {
   "cell_type": "markdown",
   "metadata": {},
   "source": [
    "Expression of type <a class=\"ProveItLink\" href=\"../../../../../../../../doc/html/api/proveit.ExprTuple.html\">ExprTuple</a>\n",
    "=======================\n",
    "# from the theory of <a class=\"ProveItLink\" href=\"../../../_theory_nbs_/theory.ipynb\">proveit.physics.quantum.circuits</a>"
   ]
  },
  {
   "cell_type": "code",
   "execution_count": 1,
   "metadata": {},
   "outputs": [],
   "source": [
    "import proveit\n",
    "# Automation is not needed when building an expression:\n",
    "proveit.defaults.automation = False # This will speed things up.\n",
    "proveit.defaults.inline_pngs = False # Makes files smaller.\n",
    "%load_expr # Load the stored expression as 'stored_expr'\n",
    "# import Expression classes needed to build the expression\n",
    "from proveit import ExprRange, ExprTuple, IndexedVar, N, Variable, m\n",
    "from proveit.core_expr_types import A_1_to_m\n",
    "from proveit.linear_algebra import TensorProd\n",
    "from proveit.numbers import Add, Interval, one, subtract\n",
    "from proveit.physics.quantum.circuits import Input, MultiQubitElem, N_m"
   ]
  },
  {
   "cell_type": "code",
   "execution_count": 2,
   "metadata": {},
   "outputs": [
    {
     "data": {
      "text/html": [
       "<strong id=\"expr\">expr:</strong> <a class=\"ProveItLink\" href=\"expr.ipynb\"><img src=\"expr.png\" style=\"display:inline;vertical-align:middle;\" /></a><br>"
      ],
      "text/plain": [
       "<IPython.core.display.HTML object>"
      ]
     },
     "metadata": {},
     "output_type": "display_data"
    }
   ],
   "source": [
    "# build up the expression from sub-expressions\n",
    "sub_expr1 = Variable(\"_c\", latex_format = r\"{_{-}c}\")\n",
    "sub_expr2 = Variable(\"_b\", latex_format = r\"{_{-}b}\")\n",
    "expr = ExprTuple(ExprRange(sub_expr1, ExprRange(sub_expr2, MultiQubitElem(element = Input(state = TensorProd(A_1_to_m), part = sub_expr2), targets = Interval(one, N_m)), Add(IndexedVar(N, subtract(sub_expr1, one)), one), IndexedVar(N, sub_expr1)).with_wrapping_at(2,6), one, m))"
   ]
  },
  {
   "cell_type": "code",
   "execution_count": 3,
   "metadata": {},
   "outputs": [
    {
     "name": "stdout",
     "output_type": "stream",
     "text": [
      "Passed sanity check: expr matches stored_expr\n"
     ]
    }
   ],
   "source": [
    "# check that the built expression is the same as the stored expression\n",
    "assert expr == stored_expr\n",
    "assert expr._style_id == stored_expr._style_id\n",
    "print(\"Passed sanity check: expr matches stored_expr\")"
   ]
  },
  {
   "cell_type": "code",
   "execution_count": 4,
   "metadata": {},
   "outputs": [
    {
     "name": "stdout",
     "output_type": "stream",
     "text": [
      "\\left(\\begin{array}{c} \\Qcircuit@C=1em @R=.7em{\n",
      "& \\qin{A_{1} {\\otimes}  A_{2} {\\otimes}  \\ldots {\\otimes}  A_{m}~\\mbox{part}~N_{1 - 1} + 1~\\mbox{on}~\\{1~\\ldotp \\ldotp~N_{m}\\}} & \\qw \n",
      "} \\end{array}, \\begin{array}{c} \\Qcircuit@C=1em @R=.7em{\n",
      "& \\qin{A_{1} {\\otimes}  A_{2} {\\otimes}  \\ldots {\\otimes}  A_{m}~\\mbox{part}~N_{1 - 1} + 2~\\mbox{on}~\\{1~\\ldotp \\ldotp~N_{m}\\}} & \\qw \n",
      "} \\end{array}, \\ldots, \\begin{array}{c} \\Qcircuit@C=1em @R=.7em{\n",
      "& \\qin{A_{1} {\\otimes}  A_{2} {\\otimes}  \\ldots {\\otimes}  A_{m}~\\mbox{part}~N_{1}~\\mbox{on}~\\{1~\\ldotp \\ldotp~N_{m}\\}} & \\qw \n",
      "} \\end{array}, \\begin{array}{c} \\Qcircuit@C=1em @R=.7em{\n",
      "& \\qin{A_{1} {\\otimes}  A_{2} {\\otimes}  \\ldots {\\otimes}  A_{m}~\\mbox{part}~N_{2 - 1} + 1~\\mbox{on}~\\{1~\\ldotp \\ldotp~N_{m}\\}} & \\qw \n",
      "} \\end{array}, \\begin{array}{c} \\Qcircuit@C=1em @R=.7em{\n",
      "& \\qin{A_{1} {\\otimes}  A_{2} {\\otimes}  \\ldots {\\otimes}  A_{m}~\\mbox{part}~N_{2 - 1} + 2~\\mbox{on}~\\{1~\\ldotp \\ldotp~N_{m}\\}} & \\qw \n",
      "} \\end{array}, \\ldots, \\begin{array}{c} \\Qcircuit@C=1em @R=.7em{\n",
      "& \\qin{A_{1} {\\otimes}  A_{2} {\\otimes}  \\ldots {\\otimes}  A_{m}~\\mbox{part}~N_{2}~\\mbox{on}~\\{1~\\ldotp \\ldotp~N_{m}\\}} & \\qw \n",
      "} \\end{array}, \\ldots\\ldots, \\begin{array}{c} \\Qcircuit@C=1em @R=.7em{\n",
      "& \\qin{A_{1} {\\otimes}  A_{2} {\\otimes}  \\ldots {\\otimes}  A_{m}~\\mbox{part}~N_{m - 1} + 1~\\mbox{on}~\\{1~\\ldotp \\ldotp~N_{m}\\}} & \\qw \n",
      "} \\end{array}, \\begin{array}{c} \\Qcircuit@C=1em @R=.7em{\n",
      "& \\qin{A_{1} {\\otimes}  A_{2} {\\otimes}  \\ldots {\\otimes}  A_{m}~\\mbox{part}~N_{m - 1} + 2~\\mbox{on}~\\{1~\\ldotp \\ldotp~N_{m}\\}} & \\qw \n",
      "} \\end{array}, \\ldots, \\begin{array}{c} \\Qcircuit@C=1em @R=.7em{\n",
      "& \\qin{A_{1} {\\otimes}  A_{2} {\\otimes}  \\ldots {\\otimes}  A_{m}~\\mbox{part}~N_{m}~\\mbox{on}~\\{1~\\ldotp \\ldotp~N_{m}\\}} & \\qw \n",
      "} \\end{array}\\right)\n"
     ]
    }
   ],
   "source": [
    "# Show the LaTeX representation of the expression for convenience if you need it.\n",
    "print(stored_expr.latex())"
   ]
  },
  {
   "cell_type": "code",
   "execution_count": 5,
   "metadata": {},
   "outputs": [
    {
     "data": {
      "text/html": [
       "no style options"
      ],
      "text/plain": [
       "no style options"
      ]
     },
     "metadata": {},
     "output_type": "display_data"
    }
   ],
   "source": [
    "stored_expr.style_options()"
   ]
  },
  {
   "cell_type": "code",
   "execution_count": 6,
   "metadata": {},
   "outputs": [
    {
     "data": {
      "text/html": [
       "<table><tr><th>&nbsp;</th><th>core type</th><th>sub-expressions</th><th>expression</th></tr>\n",
       "<tr><td>0</td><td>ExprTuple</td><td>1</td><td><a class=\"ProveItLink\" href=\"expr.ipynb\"><img src=\"expr.png\" style=\"display:inline;vertical-align:middle;\" /></a></td></tr>\n",
       "<tr><td>1</td><td>ExprRange</td><td>lambda_map:&nbsp;2<br>start_index:&nbsp;38<br>end_index:&nbsp;37<br></td><td><a class=\"ProveItLink\" href=\"../1f2b376cb5eb6b21416574340895e8b83e6f7b940/expr.ipynb\"><img src=\"../1f2b376cb5eb6b21416574340895e8b83e6f7b940/expr.png\" style=\"display:inline;vertical-align:middle;\" /></a></td></tr>\n",
       "<tr><td>2</td><td>Lambda</td><td>parameter:&nbsp;31<br>body:&nbsp;3<br></td><td><a class=\"ProveItLink\" href=\"../5013b80d5fb0f742932f2a1c9a0b6da626f7fcfc0/expr.ipynb\"><img src=\"../5013b80d5fb0f742932f2a1c9a0b6da626f7fcfc0/expr.png\" style=\"display:inline;vertical-align:middle;\" /></a></td></tr>\n",
       "<tr><td>3</td><td>ExprRange</td><td>lambda_map:&nbsp;4<br>start_index:&nbsp;5<br>end_index:&nbsp;6<br></td><td><a class=\"ProveItLink\" href=\"../2e15f07509d6f54bc4c702053bd84fbf122dc51d0/expr.ipynb\"><img src=\"../2e15f07509d6f54bc4c702053bd84fbf122dc51d0/expr.png\" style=\"display:inline;vertical-align:middle;\" /></a></td></tr>\n",
       "<tr><td>4</td><td>Lambda</td><td>parameter:&nbsp;23<br>body:&nbsp;8<br></td><td><a class=\"ProveItLink\" href=\"../../common/f2678e9b7b6badbb0822628e0296b15bb112cdbf0/expr.ipynb\"><img src=\"../../common/f2678e9b7b6badbb0822628e0296b15bb112cdbf0/expr.png\" style=\"display:inline;vertical-align:middle;\" /></a></td></tr>\n",
       "<tr><td>5</td><td>Operation</td><td>operator:&nbsp;25<br>operands:&nbsp;9<br></td><td><a class=\"ProveItLink\" href=\"../16be7b959da4ae11e61c638016cf9dc809c994520/expr.ipynb\"><img src=\"../16be7b959da4ae11e61c638016cf9dc809c994520/expr.png\" style=\"display:inline;vertical-align:middle;\" /></a></td></tr>\n",
       "<tr><td>6</td><td>IndexedVar</td><td>variable:&nbsp;29<br>index:&nbsp;31<br></td><td><a class=\"ProveItLink\" href=\"../6f4f33874da133835da77b1b99639f2295f9f7f20/expr.ipynb\"><img src=\"../6f4f33874da133835da77b1b99639f2295f9f7f20/expr.png\" style=\"display:inline;vertical-align:middle;\" /></a></td></tr>\n",
       "<tr><td>7</td><td>ExprTuple</td><td>23</td><td><a class=\"ProveItLink\" href=\"../../../../../../core_expr_types/expr_arrays/__pv_it/common/18f7318b68e45ff8356043b6e71619fa8450fb200/expr.ipynb\"><img src=\"../../../../../../core_expr_types/expr_arrays/__pv_it/common/18f7318b68e45ff8356043b6e71619fa8450fb200/expr.png\" style=\"display:inline;vertical-align:middle;\" /></a></td></tr>\n",
       "<tr><td>8</td><td>Operation</td><td>operator:&nbsp;11<br>operands:&nbsp;12<br></td><td><a class=\"ProveItLink\" href=\"../../common/d436f2680f7efc33fe3d9d6db456c71446b5d4940/expr.ipynb\"><img src=\"../../common/d436f2680f7efc33fe3d9d6db456c71446b5d4940/expr.png\" style=\"display:inline;vertical-align:middle;\" /></a></td></tr>\n",
       "<tr><td>9</td><td>ExprTuple</td><td>13, 38</td><td><a class=\"ProveItLink\" href=\"../1878857ea3588497a5fa864f0e895a7ec18649eb0/expr.ipynb\"><img src=\"../1878857ea3588497a5fa864f0e895a7ec18649eb0/expr.png\" style=\"display:inline;vertical-align:middle;\" /></a></td></tr>\n",
       "<tr><td>10</td><td>ExprTuple</td><td>31</td><td><a class=\"ProveItLink\" href=\"../2e5306c65401f5ab94de6a03ea1629a9f30078a90/expr.ipynb\"><img src=\"../2e5306c65401f5ab94de6a03ea1629a9f30078a90/expr.png\" style=\"display:inline;vertical-align:middle;\" /></a></td></tr>\n",
       "<tr><td>11</td><td>Literal</td><td></td><td><a class=\"ProveItLink\" href=\"../../common/5eaa43008f05c06941080a12337ff182ea14996e0/expr.ipynb\"><img src=\"../../common/5eaa43008f05c06941080a12337ff182ea14996e0/expr.png\" style=\"display:inline;vertical-align:middle;\" /></a></td></tr>\n",
       "<tr><td>12</td><td>NamedExprs</td><td>element: 14<br>targets: 15<br></td><td><a class=\"ProveItLink\" href=\"../../common/71dba4fd8da01f86ee3403e9e635d1f222eb039a0/expr.ipynb\"><img src=\"../../common/71dba4fd8da01f86ee3403e9e635d1f222eb039a0/expr.png\" style=\"display:inline;vertical-align:middle;\" /></a></td></tr>\n",
       "<tr><td>13</td><td>IndexedVar</td><td>variable:&nbsp;29<br>index:&nbsp;21<br></td><td><a class=\"ProveItLink\" href=\"../6bfd9b8928b3b0329a745d4dad9d4de093e1fce20/expr.ipynb\"><img src=\"../6bfd9b8928b3b0329a745d4dad9d4de093e1fce20/expr.png\" style=\"display:inline;vertical-align:middle;\" /></a></td></tr>\n",
       "<tr><td>14</td><td>Operation</td><td>operator:&nbsp;17<br>operands:&nbsp;18<br></td><td><a class=\"ProveItLink\" href=\"../../common/2d933fe71d4e87948420c46cde40e223b666b04b0/expr.ipynb\"><img src=\"../../common/2d933fe71d4e87948420c46cde40e223b666b04b0/expr.png\" style=\"display:inline;vertical-align:middle;\" /></a></td></tr>\n",
       "<tr><td>15</td><td>Operation</td><td>operator:&nbsp;19<br>operands:&nbsp;20<br></td><td><a class=\"ProveItLink\" href=\"../../common/9da3816bd408428ee67f29c861fd4e492dc7c3150/expr.ipynb\"><img src=\"../../common/9da3816bd408428ee67f29c861fd4e492dc7c3150/expr.png\" style=\"display:inline;vertical-align:middle;\" /></a></td></tr>\n",
       "<tr><td>16</td><td>ExprTuple</td><td>21</td><td><a class=\"ProveItLink\" href=\"../b4a4793b3c04898167bd19cc93378099e6d319430/expr.ipynb\"><img src=\"../b4a4793b3c04898167bd19cc93378099e6d319430/expr.png\" style=\"display:inline;vertical-align:middle;\" /></a></td></tr>\n",
       "<tr><td>17</td><td>Literal</td><td></td><td><a class=\"ProveItLink\" href=\"../../common/deea8715ce6701df08bbe1d049112a0bad4965c20/expr.ipynb\"><img src=\"../../common/deea8715ce6701df08bbe1d049112a0bad4965c20/expr.png\" style=\"display:inline;vertical-align:middle;\" /></a></td></tr>\n",
       "<tr><td>18</td><td>NamedExprs</td><td>state: 22<br>part: 23<br></td><td><a class=\"ProveItLink\" href=\"../../common/a32be4d5abb4d21be1fad836ed668e80f4d9487a0/expr.ipynb\"><img src=\"../../common/a32be4d5abb4d21be1fad836ed668e80f4d9487a0/expr.png\" style=\"display:inline;vertical-align:middle;\" /></a></td></tr>\n",
       "<tr><td>19</td><td>Literal</td><td></td><td><a class=\"ProveItLink\" href=\"../../../../../../numbers/number_sets/integers/__pv_it/common/92f3a0a77e3c3ea8e4a5c8674edadc54e4f57d550/expr.ipynb\"><img src=\"../../../../../../numbers/number_sets/integers/__pv_it/common/92f3a0a77e3c3ea8e4a5c8674edadc54e4f57d550/expr.png\" style=\"display:inline;vertical-align:middle;\" /></a></td></tr>\n",
       "<tr><td>20</td><td>ExprTuple</td><td>38, 24</td><td><a class=\"ProveItLink\" href=\"../../common/dca0ace89c55feb0244891d029bd75ef56358dd80/expr.ipynb\"><img src=\"../../common/dca0ace89c55feb0244891d029bd75ef56358dd80/expr.png\" style=\"display:inline;vertical-align:middle;\" /></a></td></tr>\n",
       "<tr><td>21</td><td>Operation</td><td>operator:&nbsp;25<br>operands:&nbsp;26<br></td><td><a class=\"ProveItLink\" href=\"../ac30534ea9efd1f7dd1029e4f4009856b66823d40/expr.ipynb\"><img src=\"../ac30534ea9efd1f7dd1029e4f4009856b66823d40/expr.png\" style=\"display:inline;vertical-align:middle;\" /></a></td></tr>\n",
       "<tr><td>22</td><td>Operation</td><td>operator:&nbsp;27<br>operands:&nbsp;28<br></td><td><a class=\"ProveItLink\" href=\"../../common/42dc00e55323dfe559d076521d9c6524976d321a0/expr.ipynb\"><img src=\"../../common/42dc00e55323dfe559d076521d9c6524976d321a0/expr.png\" style=\"display:inline;vertical-align:middle;\" /></a></td></tr>\n",
       "<tr><td>23</td><td>Variable</td><td></td><td><a class=\"ProveItLink\" href=\"../../../../../../core_expr_types/expr_arrays/__pv_it/common/9a18d67b443cf8d92289c655ed91ec78766170a90/expr.ipynb\"><img src=\"../../../../../../core_expr_types/expr_arrays/__pv_it/common/9a18d67b443cf8d92289c655ed91ec78766170a90/expr.png\" style=\"display:inline;vertical-align:middle;\" /></a></td></tr>\n",
       "<tr><td>24</td><td>IndexedVar</td><td>variable:&nbsp;29<br>index:&nbsp;37<br></td><td><a class=\"ProveItLink\" href=\"../../common/74253b2891872fd780054174601dbebfc5c1a3d70/expr.ipynb\"><img src=\"../../common/74253b2891872fd780054174601dbebfc5c1a3d70/expr.png\" style=\"display:inline;vertical-align:middle;\" /></a></td></tr>\n",
       "<tr><td>25</td><td>Literal</td><td></td><td><a class=\"ProveItLink\" href=\"../../../../../../numbers/addition/__pv_it/common/4b7effaab3619a1c2c38fe2dee8601df8ec714590/expr.ipynb\"><img src=\"../../../../../../numbers/addition/__pv_it/common/4b7effaab3619a1c2c38fe2dee8601df8ec714590/expr.png\" style=\"display:inline;vertical-align:middle;\" /></a></td></tr>\n",
       "<tr><td>26</td><td>ExprTuple</td><td>31, 32</td><td><a class=\"ProveItLink\" href=\"../d7c619e615bcd0b9d3d8d564d8da3779f3a3a6000/expr.ipynb\"><img src=\"../d7c619e615bcd0b9d3d8d564d8da3779f3a3a6000/expr.png\" style=\"display:inline;vertical-align:middle;\" /></a></td></tr>\n",
       "<tr><td>27</td><td>Literal</td><td></td><td><a class=\"ProveItLink\" href=\"../../../../../../linear_algebra/tensors/__pv_it/common/7fa25b05174babb4710be62d63ebd43f68aa2fec0/expr.ipynb\"><img src=\"../../../../../../linear_algebra/tensors/__pv_it/common/7fa25b05174babb4710be62d63ebd43f68aa2fec0/expr.png\" style=\"display:inline;vertical-align:middle;\" /></a></td></tr>\n",
       "<tr><td>28</td><td>ExprTuple</td><td>33</td><td><a class=\"ProveItLink\" href=\"../../common/218b49ecc2fcb674f5eb724d523a787df9bde9a00/expr.ipynb\"><img src=\"../../common/218b49ecc2fcb674f5eb724d523a787df9bde9a00/expr.png\" style=\"display:inline;vertical-align:middle;\" /></a></td></tr>\n",
       "<tr><td>29</td><td>Variable</td><td></td><td><a class=\"ProveItLink\" href=\"../../../../../../__pv_it/common/ec2f9d003f907f9688d46f19f6df289e52cc63ce0/expr.ipynb\"><img src=\"../../../../../../__pv_it/common/ec2f9d003f907f9688d46f19f6df289e52cc63ce0/expr.png\" style=\"display:inline;vertical-align:middle;\" /></a></td></tr>\n",
       "<tr><td>30</td><td>ExprTuple</td><td>37</td><td><a class=\"ProveItLink\" href=\"../../common/2ed45ad9602ac89076225577ef477d88f8c5a1790/expr.ipynb\"><img src=\"../../common/2ed45ad9602ac89076225577ef477d88f8c5a1790/expr.png\" style=\"display:inline;vertical-align:middle;\" /></a></td></tr>\n",
       "<tr><td>31</td><td>Variable</td><td></td><td><a class=\"ProveItLink\" href=\"../78b8c0092da95d22274ec9b98a7b60b11e6bf88a0/expr.ipynb\"><img src=\"../78b8c0092da95d22274ec9b98a7b60b11e6bf88a0/expr.png\" style=\"display:inline;vertical-align:middle;\" /></a></td></tr>\n",
       "<tr><td>32</td><td>Operation</td><td>operator:&nbsp;34<br>operand:&nbsp;38<br></td><td><a class=\"ProveItLink\" href=\"../../../../__pv_it/common/bf4beda21975fe8a0a5007615b5bcc943da59bb20/expr.ipynb\"><img src=\"../../../../__pv_it/common/bf4beda21975fe8a0a5007615b5bcc943da59bb20/expr.png\" style=\"display:inline;vertical-align:middle;\" /></a></td></tr>\n",
       "<tr><td>33</td><td>ExprRange</td><td>lambda_map:&nbsp;36<br>start_index:&nbsp;38<br>end_index:&nbsp;37<br></td><td><a class=\"ProveItLink\" href=\"../../../../../../core_expr_types/__pv_it/common/eaccd55f312202b1e754429bdfeaf22333037c330/expr.ipynb\"><img src=\"../../../../../../core_expr_types/__pv_it/common/eaccd55f312202b1e754429bdfeaf22333037c330/expr.png\" style=\"display:inline;vertical-align:middle;\" /></a></td></tr>\n",
       "<tr><td>34</td><td>Literal</td><td></td><td><a class=\"ProveItLink\" href=\"../../../../../../numbers/negation/__pv_it/common/221b3c4d1770ee9051b7c044c3f9ec61196fc34b0/expr.ipynb\"><img src=\"../../../../../../numbers/negation/__pv_it/common/221b3c4d1770ee9051b7c044c3f9ec61196fc34b0/expr.png\" style=\"display:inline;vertical-align:middle;\" /></a></td></tr>\n",
       "<tr><td>35</td><td>ExprTuple</td><td>38</td><td><a class=\"ProveItLink\" href=\"../../../../__pv_it/common/b9e4f0dffece176bbe2f36127440684a20e0468e0/expr.ipynb\"><img src=\"../../../../__pv_it/common/b9e4f0dffece176bbe2f36127440684a20e0468e0/expr.png\" style=\"display:inline;vertical-align:middle;\" /></a></td></tr>\n",
       "<tr><td>36</td><td>Lambda</td><td>parameter:&nbsp;42<br>body:&nbsp;39<br></td><td><a class=\"ProveItLink\" href=\"../../../../../../core_expr_types/__pv_it/common/9332289e845003c758afc3bcee43498ae784f2d90/expr.ipynb\"><img src=\"../../../../../../core_expr_types/__pv_it/common/9332289e845003c758afc3bcee43498ae784f2d90/expr.png\" style=\"display:inline;vertical-align:middle;\" /></a></td></tr>\n",
       "<tr><td>37</td><td>Variable</td><td></td><td><a class=\"ProveItLink\" href=\"../../../../../../__pv_it/common/674a03b9c3ca221b3aabd5636837b31528ff33830/expr.ipynb\"><img src=\"../../../../../../__pv_it/common/674a03b9c3ca221b3aabd5636837b31528ff33830/expr.png\" style=\"display:inline;vertical-align:middle;\" /></a></td></tr>\n",
       "<tr><td>38</td><td>Literal</td><td></td><td><a class=\"ProveItLink\" href=\"../../../../../../numbers/numerals/__pv_it/common/682157d4892d216d9e5626ed533aff9b56b9506e0/expr.ipynb\"><img src=\"../../../../../../numbers/numerals/__pv_it/common/682157d4892d216d9e5626ed533aff9b56b9506e0/expr.png\" style=\"display:inline;vertical-align:middle;\" /></a></td></tr>\n",
       "<tr><td>39</td><td>IndexedVar</td><td>variable:&nbsp;40<br>index:&nbsp;42<br></td><td><a class=\"ProveItLink\" href=\"../../../../../../core_expr_types/__pv_it/common/9fdaaadf1b3d81a308244818dc08833e7f5035730/expr.ipynb\"><img src=\"../../../../../../core_expr_types/__pv_it/common/9fdaaadf1b3d81a308244818dc08833e7f5035730/expr.png\" style=\"display:inline;vertical-align:middle;\" /></a></td></tr>\n",
       "<tr><td>40</td><td>Variable</td><td></td><td><a class=\"ProveItLink\" href=\"../../../../../../__pv_it/common/09585084922504426caf1db2ff588a23a0932a960/expr.ipynb\"><img src=\"../../../../../../__pv_it/common/09585084922504426caf1db2ff588a23a0932a960/expr.png\" style=\"display:inline;vertical-align:middle;\" /></a></td></tr>\n",
       "<tr><td>41</td><td>ExprTuple</td><td>42</td><td><a class=\"ProveItLink\" href=\"../../../../../../core_expr_types/__pv_it/common/4b0dd6be36d76552eda6a95d5b4a27f5a5b62f900/expr.ipynb\"><img src=\"../../../../../../core_expr_types/__pv_it/common/4b0dd6be36d76552eda6a95d5b4a27f5a5b62f900/expr.png\" style=\"display:inline;vertical-align:middle;\" /></a></td></tr>\n",
       "<tr><td>42</td><td>Variable</td><td></td><td><a class=\"ProveItLink\" href=\"../../../../../../core_expr_types/__pv_it/common/006c465e50948aa2b52285e2de47974f741255cc0/expr.ipynb\"><img src=\"../../../../../../core_expr_types/__pv_it/common/006c465e50948aa2b52285e2de47974f741255cc0/expr.png\" style=\"display:inline;vertical-align:middle;\" /></a></td></tr>\n",
       "</table>\n"
      ],
      "text/plain": [
       "0. ([MULTI_QUBIT_ELEM]{element:[INPUT]{state:(A_{1} otimes  A_{2} otimes  ... otimes  A_{m}), part:(N_{1 - 1} + 1)}, targets:{1 .. N_{m}}}, [MULTI_QUBIT_ELEM]{element:[INPUT]{state:(A_{1} otimes  A_{2} otimes  ... otimes  A_{m}), part:(N_{1 - 1} + 2)}, targets:{1 .. N_{m}}}, ..., [MULTI_QUBIT_ELEM]{element:[INPUT]{state:(A_{1} otimes  A_{2} otimes  ... otimes  A_{m}), part:N_{1}}, targets:{1 .. N_{m}}}, [MULTI_QUBIT_ELEM]{element:[INPUT]{state:(A_{1} otimes  A_{2} otimes  ... otimes  A_{m}), part:(N_{2 - 1} + 1)}, targets:{1 .. N_{m}}}, [MULTI_QUBIT_ELEM]{element:[INPUT]{state:(A_{1} otimes  A_{2} otimes  ... otimes  A_{m}), part:(N_{2 - 1} + 2)}, targets:{1 .. N_{m}}}, ..., [MULTI_QUBIT_ELEM]{element:[INPUT]{state:(A_{1} otimes  A_{2} otimes  ... otimes  A_{m}), part:N_{2}}, targets:{1 .. N_{m}}}, ......, [MULTI_QUBIT_ELEM]{element:[INPUT]{state:(A_{1} otimes  A_{2} otimes  ... otimes  A_{m}), part:(N_{m - 1} + 1)}, targets:{1 .. N_{m}}}, [MULTI_QUBIT_ELEM]{element:[INPUT]{state:(A_{1} otimes  A_{2} otimes  ... otimes  A_{m}), part:(N_{m - 1} + 2)}, targets:{1 .. N_{m}}}, ..., [MULTI_QUBIT_ELEM]{element:[INPUT]{state:(A_{1} otimes  A_{2} otimes  ... otimes  A_{m}), part:N_{m}}, targets:{1 .. N_{m}}})\n",
       "   core type: ExprTuple\n",
       "   sub-expressions: 1\n",
       "1. [MULTI_QUBIT_ELEM]{element:[INPUT]{state:(A_{1} otimes  A_{2} otimes  ... otimes  A_{m}), part:(N_{1 - 1} + 1)}, targets:{1 .. N_{m}}}, [MULTI_QUBIT_ELEM]{element:[INPUT]{state:(A_{1} otimes  A_{2} otimes  ... otimes  A_{m}), part:(N_{1 - 1} + 2)}, targets:{1 .. N_{m}}}, ..., [MULTI_QUBIT_ELEM]{element:[INPUT]{state:(A_{1} otimes  A_{2} otimes  ... otimes  A_{m}), part:N_{1}}, targets:{1 .. N_{m}}}, [MULTI_QUBIT_ELEM]{element:[INPUT]{state:(A_{1} otimes  A_{2} otimes  ... otimes  A_{m}), part:(N_{2 - 1} + 1)}, targets:{1 .. N_{m}}}, [MULTI_QUBIT_ELEM]{element:[INPUT]{state:(A_{1} otimes  A_{2} otimes  ... otimes  A_{m}), part:(N_{2 - 1} + 2)}, targets:{1 .. N_{m}}}, ..., [MULTI_QUBIT_ELEM]{element:[INPUT]{state:(A_{1} otimes  A_{2} otimes  ... otimes  A_{m}), part:N_{2}}, targets:{1 .. N_{m}}}, ......, [MULTI_QUBIT_ELEM]{element:[INPUT]{state:(A_{1} otimes  A_{2} otimes  ... otimes  A_{m}), part:(N_{m - 1} + 1)}, targets:{1 .. N_{m}}}, [MULTI_QUBIT_ELEM]{element:[INPUT]{state:(A_{1} otimes  A_{2} otimes  ... otimes  A_{m}), part:(N_{m - 1} + 2)}, targets:{1 .. N_{m}}}, ..., [MULTI_QUBIT_ELEM]{element:[INPUT]{state:(A_{1} otimes  A_{2} otimes  ... otimes  A_{m}), part:N_{m}}, targets:{1 .. N_{m}}}\n",
       "   core type: ExprRange\n",
       "   lambda_map: 2\n",
       "   start_index: 38\n",
       "   end_index: 37\n",
       "2. _c -> [MULTI_QUBIT_ELEM]{element:[INPUT]{state:(A_{1} otimes  A_{2} otimes  ... otimes  A_{m}), part:(N_{_c - 1} + 1)}, targets:{1 .. N_{m}}},  \\\\ [MULTI_QUBIT_ELEM]{element:[INPUT]{state:(A_{1} otimes  A_{2} otimes  ... otimes  A_{m}), part:(N_{_c - 1} + 2)}, targets:{1 .. N_{m}}}, ...,  \\\\ [MULTI_QUBIT_ELEM]{element:[INPUT]{state:(A_{1} otimes  A_{2} otimes  ... otimes  A_{m}), part:N_{_c}}, targets:{1 .. N_{m}}}\n",
       "   core type: Lambda\n",
       "   parameter: 31\n",
       "   body: 3\n",
       "3. [MULTI_QUBIT_ELEM]{element:[INPUT]{state:(A_{1} otimes  A_{2} otimes  ... otimes  A_{m}), part:(N_{_c - 1} + 1)}, targets:{1 .. N_{m}}},  \\\\ [MULTI_QUBIT_ELEM]{element:[INPUT]{state:(A_{1} otimes  A_{2} otimes  ... otimes  A_{m}), part:(N_{_c - 1} + 2)}, targets:{1 .. N_{m}}}, ...,  \\\\ [MULTI_QUBIT_ELEM]{element:[INPUT]{state:(A_{1} otimes  A_{2} otimes  ... otimes  A_{m}), part:N_{_c}}, targets:{1 .. N_{m}}}\n",
       "   core type: ExprRange\n",
       "   lambda_map: 4\n",
       "   start_index: 5\n",
       "   end_index: 6\n",
       "4. _b -> [MULTI_QUBIT_ELEM]{element:[INPUT]{state:(A_{1} otimes  A_{2} otimes  ... otimes  A_{m}), part:_b}, targets:{1 .. N_{m}}}\n",
       "   core type: Lambda\n",
       "   parameter: 23\n",
       "   body: 8\n",
       "5. N_{_c - 1} + 1\n",
       "   core type: Operation\n",
       "   operator: 25\n",
       "   operands: 9\n",
       "6. N_{_c}\n",
       "   core type: IndexedVar\n",
       "variable: 29\n",
       "index: 31\n",
       "7. (_b)\n",
       "   core type: ExprTuple\n",
       "   sub-expressions: 23\n",
       "8. [MULTI_QUBIT_ELEM]{element:[INPUT]{state:(A_{1} otimes  A_{2} otimes  ... otimes  A_{m}), part:_b}, targets:{1 .. N_{m}}}\n",
       "   core type: Operation\n",
       "   operator: 11\n",
       "   operands: 12\n",
       "9. (N_{_c - 1}, 1)\n",
       "   core type: ExprTuple\n",
       "   sub-expressions: 13, 38\n",
       "10. (_c)\n",
       "    core type: ExprTuple\n",
       "    sub-expressions: 31\n",
       "11. MULTI_QUBIT_ELEM\n",
       "    core type: Literal\n",
       "    sub-expressions: \n",
       "12. {element:[INPUT]{state:(A_{1} otimes  A_{2} otimes  ... otimes  A_{m}), part:_b}, targets:{1 .. N_{m}}}\n",
       "    core type: NamedExprs\n",
       "    element: 14\n",
       "    targets: 15\n",
       "13. N_{_c - 1}\n",
       "    core type: IndexedVar\n",
       "variable: 29\n",
       "index: 21\n",
       "14. [INPUT]{state:(A_{1} otimes  A_{2} otimes  ... otimes  A_{m}), part:_b}\n",
       "    core type: Operation\n",
       "    operator: 17\n",
       "    operands: 18\n",
       "15. {1 .. N_{m}}\n",
       "    core type: Operation\n",
       "    operator: 19\n",
       "    operands: 20\n",
       "16. (_c - 1)\n",
       "    core type: ExprTuple\n",
       "    sub-expressions: 21\n",
       "17. INPUT\n",
       "    core type: Literal\n",
       "    sub-expressions: \n",
       "18. {state:(A_{1} otimes  A_{2} otimes  ... otimes  A_{m}), part:_b}\n",
       "    core type: NamedExprs\n",
       "    state: 22\n",
       "    part: 23\n",
       "19. Interval\n",
       "    core type: Literal\n",
       "    sub-expressions: \n",
       "20. (1, N_{m})\n",
       "    core type: ExprTuple\n",
       "    sub-expressions: 38, 24\n",
       "21. _c - 1\n",
       "    core type: Operation\n",
       "    operator: 25\n",
       "    operands: 26\n",
       "22. A_{1} otimes  A_{2} otimes  ... otimes  A_{m}\n",
       "    core type: Operation\n",
       "    operator: 27\n",
       "    operands: 28\n",
       "23. _b\n",
       "    core type: Variable\n",
       "    sub-expressions: \n",
       "24. N_{m}\n",
       "    core type: IndexedVar\n",
       "variable: 29\n",
       "index: 37\n",
       "25. +\n",
       "    core type: Literal\n",
       "    sub-expressions: \n",
       "26. (_c, -1)\n",
       "    core type: ExprTuple\n",
       "    sub-expressions: 31, 32\n",
       "27. otimes\n",
       "    core type: Literal\n",
       "    sub-expressions: \n",
       "28. (A_{1}, A_{2}, ..., A_{m})\n",
       "    core type: ExprTuple\n",
       "    sub-expressions: 33\n",
       "29. N\n",
       "    core type: Variable\n",
       "    sub-expressions: \n",
       "30. (m)\n",
       "    core type: ExprTuple\n",
       "    sub-expressions: 37\n",
       "31. _c\n",
       "    core type: Variable\n",
       "    sub-expressions: \n",
       "32. -1\n",
       "    core type: Operation\n",
       "    operator: 34\n",
       "    operand: 38\n",
       "33. A_{1}, A_{2}, ..., A_{m}\n",
       "    core type: ExprRange\n",
       "    lambda_map: 36\n",
       "    start_index: 38\n",
       "    end_index: 37\n",
       "34. -\n",
       "    core type: Literal\n",
       "    sub-expressions: \n",
       "35. (1)\n",
       "    core type: ExprTuple\n",
       "    sub-expressions: 38\n",
       "36. _a -> A_{_a}\n",
       "    core type: Lambda\n",
       "    parameter: 42\n",
       "    body: 39\n",
       "37. m\n",
       "    core type: Variable\n",
       "    sub-expressions: \n",
       "38. 1\n",
       "    core type: Literal\n",
       "    sub-expressions: \n",
       "39. A_{_a}\n",
       "    core type: IndexedVar\n",
       "variable: 40\n",
       "index: 42\n",
       "40. A\n",
       "    core type: Variable\n",
       "    sub-expressions: \n",
       "41. (_a)\n",
       "    core type: ExprTuple\n",
       "    sub-expressions: 42\n",
       "42. _a\n",
       "    core type: Variable\n",
       "    sub-expressions: "
      ]
     },
     "metadata": {},
     "output_type": "display_data"
    }
   ],
   "source": [
    "# display the expression information\n",
    "stored_expr.expr_info()"
   ]
  },
  {
   "cell_type": "code",
   "execution_count": null,
   "metadata": {},
   "outputs": [],
   "source": []
  }
 ],
 "metadata": {
  "kernelspec": {
   "display_name": "Python 3",
   "language": "python",
   "name": "python3"
  }
 },
 "nbformat": 4,
 "nbformat_minor": 0
}