{
 "cells": [
  {
   "cell_type": "markdown",
   "metadata": {},
   "source": [
    "Expression of type <a class=\"ProveItLink\" href=\"../../../../../../../../doc/html/api/proveit.ExprRange.html\">ExprRange</a>\n",
    "=======================\n",
    "# from the theory of <a class=\"ProveItLink\" href=\"../../../_theory_nbs_/theory.ipynb\">proveit.physics.quantum.circuits</a>"
   ]
  },
  {
   "cell_type": "code",
   "execution_count": 1,
   "metadata": {},
   "outputs": [],
   "source": [
    "import proveit\n",
    "# Automation is not needed when building an expression:\n",
    "proveit.defaults.automation = False # This will speed things up.\n",
    "proveit.defaults.inline_pngs = False # Makes files smaller.\n",
    "%load_expr # Load the stored expression as 'stored_expr'\n",
    "# import Expression classes needed to build the expression\n",
    "from proveit import A, ExprRange, IndexedVar, N, Variable, m, n\n",
    "from proveit.numbers import Add, Interval, one, subtract\n",
    "from proveit.physics.quantum.circuits import MultiQubitElem, Output"
   ]
  },
  {
   "cell_type": "code",
   "execution_count": 2,
   "metadata": {},
   "outputs": [
    {
     "data": {
      "text/html": [
       "<strong id=\"expr\">expr:</strong> <a class=\"ProveItLink\" href=\"expr.ipynb\"><img src=\"expr.png\" style=\"display:inline;vertical-align:middle;\" /></a><br>"
      ],
      "text/plain": [
       "<IPython.core.display.HTML object>"
      ]
     },
     "metadata": {},
     "output_type": "display_data"
    }
   ],
   "source": [
    "# build up the expression from sub-expressions\n",
    "sub_expr1 = Variable(\"_b\", latex_format = r\"{_{-}b}\")\n",
    "sub_expr2 = Variable(\"_a\", latex_format = r\"{_{-}a}\")\n",
    "expr = ExprRange(sub_expr1, ExprRange(sub_expr2, MultiQubitElem(element = Output(state = IndexedVar(A, sub_expr1), part = sub_expr2), targets = Interval(Add(IndexedVar(N, subtract(sub_expr1, one)), one), IndexedVar(N, sub_expr1))), one, IndexedVar(n, sub_expr1)).with_wrapping_at(2,6), one, m)"
   ]
  },
  {
   "cell_type": "code",
   "execution_count": 3,
   "metadata": {},
   "outputs": [
    {
     "name": "stdout",
     "output_type": "stream",
     "text": [
      "Passed sanity check: expr matches stored_expr\n"
     ]
    }
   ],
   "source": [
    "# check that the built expression is the same as the stored expression\n",
    "assert expr == stored_expr\n",
    "assert expr._style_id == stored_expr._style_id\n",
    "print(\"Passed sanity check: expr matches stored_expr\")"
   ]
  },
  {
   "cell_type": "code",
   "execution_count": 4,
   "metadata": {},
   "outputs": [
    {
     "name": "stdout",
     "output_type": "stream",
     "text": [
      "\\begin{array}{c} \\Qcircuit@C=1em @R=.7em{\n",
      "& & \\qout{A_{1}~\\mbox{part}~1~\\mbox{on}~\\{N_{1 - 1} + 1~\\ldotp \\ldotp~N_{1}\\}} \n",
      "} \\end{array}, \\begin{array}{c} \\Qcircuit@C=1em @R=.7em{\n",
      "& & \\qout{A_{1}~\\mbox{part}~2~\\mbox{on}~\\{N_{1 - 1} + 1~\\ldotp \\ldotp~N_{1}\\}} \n",
      "} \\end{array}, \\ldots, \\begin{array}{c} \\Qcircuit@C=1em @R=.7em{\n",
      "& & \\qout{A_{1}~\\mbox{part}~n_{1}~\\mbox{on}~\\{N_{1 - 1} + 1~\\ldotp \\ldotp~N_{1}\\}} \n",
      "} \\end{array}, \\begin{array}{c} \\Qcircuit@C=1em @R=.7em{\n",
      "& & \\qout{A_{2}~\\mbox{part}~1~\\mbox{on}~\\{N_{2 - 1} + 1~\\ldotp \\ldotp~N_{2}\\}} \n",
      "} \\end{array}, \\begin{array}{c} \\Qcircuit@C=1em @R=.7em{\n",
      "& & \\qout{A_{2}~\\mbox{part}~2~\\mbox{on}~\\{N_{2 - 1} + 1~\\ldotp \\ldotp~N_{2}\\}} \n",
      "} \\end{array}, \\ldots, \\begin{array}{c} \\Qcircuit@C=1em @R=.7em{\n",
      "& & \\qout{A_{2}~\\mbox{part}~n_{2}~\\mbox{on}~\\{N_{2 - 1} + 1~\\ldotp \\ldotp~N_{2}\\}} \n",
      "} \\end{array}, \\ldots\\ldots, \\begin{array}{c} \\Qcircuit@C=1em @R=.7em{\n",
      "& & \\qout{A_{m}~\\mbox{part}~1~\\mbox{on}~\\{N_{m - 1} + 1~\\ldotp \\ldotp~N_{m}\\}} \n",
      "} \\end{array}, \\begin{array}{c} \\Qcircuit@C=1em @R=.7em{\n",
      "& & \\qout{A_{m}~\\mbox{part}~2~\\mbox{on}~\\{N_{m - 1} + 1~\\ldotp \\ldotp~N_{m}\\}} \n",
      "} \\end{array}, \\ldots, \\begin{array}{c} \\Qcircuit@C=1em @R=.7em{\n",
      "& & \\qout{A_{m}~\\mbox{part}~n_{m}~\\mbox{on}~\\{N_{m - 1} + 1~\\ldotp \\ldotp~N_{m}\\}} \n",
      "} \\end{array}\n"
     ]
    }
   ],
   "source": [
    "# Show the LaTeX representation of the expression for convenience if you need it.\n",
    "print(stored_expr.latex())"
   ]
  },
  {
   "cell_type": "code",
   "execution_count": 5,
   "metadata": {},
   "outputs": [
    {
     "data": {
      "text/html": [
       "<table>\n",
       "<tr><th>name</th><th>description</th><th>default</th><th>current value</th><th>related methods</th></tr><tr><td>parameterization</td><td>'implicit' (default for LaTeX formatting) hides the parameter the ExprRange so the parameterization may be ambiguous (e.g., x_{1+1}, ..., x_{n+1}); 'explicit' (default for string formatting) reveals the parameterization (e.g. x_{1+1}, ..x_{k+1}.., x_{n+1}).</td><td>None</td><td>None/False</td><td>('with_explicit_parameterization', 'with_implicit_parameterization', 'with_default_parameterization_style')</td></tr>\n",
       "<tr><td>front_expansion</td><td>The number of instances to display at the front of the range (e.g., before the ellipsis). Default is 2.</td><td>2</td><td>2</td><td>('with_front_expansion', 'get_front_expansion')</td></tr>\n",
       "<tr><td>back_expansion</td><td>The number of instances to display at the back of the range (e.g., after the ellipsis). Default is 1.</td><td>1</td><td>1</td><td>('with_back_expansion', 'get_back_expansion')</td></tr>\n",
       "<tr><td>order</td><td>The default order is 'increasing' (a_1 ... a_3) but to represent a 'decreasing' ExprRange (a_6 ... a_2) the order must be set to 'decreasing'</td><td>increasing</td><td>increasing</td><td>('with_decreasing_order', 'with_increasing_order')</td></tr>\n",
       "<tr><td>wrap_positions</td><td>position(s) at which wrapping is to occur; 'n' is after the nth comma.</td><td>()</td><td>()</td><td>('with_wrapping_at',)</td></tr>\n",
       "<tr><td>case_simplify</td><td>If 'True', simplify formatted instances that are ConditionalSets under proper index assumptions</td><td>False</td><td>False</td><td>('with_case_simplification',)</td></tr>\n",
       "</table>\n"
      ],
      "text/plain": [
       "style name: parameterization\n",
       "description: 'implicit' (default for LaTeX formatting) hides the parameter the ExprRange so the parameterization may be ambiguous (e.g., x_{1+1}, ..., x_{n+1}); 'explicit' (default for string formatting) reveals the parameterization (e.g. x_{1+1}, ..x_{k+1}.., x_{n+1}).\n",
       "default: None\n",
       "current value: None/False\n",
       "related methods: ('with_explicit_parameterization', 'with_implicit_parameterization', 'with_default_parameterization_style')\n",
       "style name: front_expansion\n",
       "description: The number of instances to display at the front of the range (e.g., before the ellipsis). Default is 2.\n",
       "default: 2\n",
       "current value: 2\n",
       "related methods: ('with_front_expansion', 'get_front_expansion')\n",
       "style name: back_expansion\n",
       "description: The number of instances to display at the back of the range (e.g., after the ellipsis). Default is 1.\n",
       "default: 1\n",
       "current value: 1\n",
       "related methods: ('with_back_expansion', 'get_back_expansion')\n",
       "style name: order\n",
       "description: The default order is 'increasing' (a_1 ... a_3) but to represent a 'decreasing' ExprRange (a_6 ... a_2) the order must be set to 'decreasing'\n",
       "default: increasing\n",
       "current value: increasing\n",
       "related methods: ('with_decreasing_order', 'with_increasing_order')\n",
       "style name: wrap_positions\n",
       "description: position(s) at which wrapping is to occur; 'n' is after the nth comma.\n",
       "default: ()\n",
       "current value: ()\n",
       "related methods: ('with_wrapping_at',)\n",
       "style name: case_simplify\n",
       "description: If 'True', simplify formatted instances that are ConditionalSets under proper index assumptions\n",
       "default: False\n",
       "current value: False\n",
       "related methods: ('with_case_simplification',)"
      ]
     },
     "metadata": {},
     "output_type": "display_data"
    }
   ],
   "source": [
    "stored_expr.style_options()"
   ]
  },
  {
   "cell_type": "code",
   "execution_count": 6,
   "metadata": {},
   "outputs": [
    {
     "data": {
      "text/html": [
       "<table><tr><th>&nbsp;</th><th>core type</th><th>sub-expressions</th><th>expression</th></tr>\n",
       "<tr><td>0</td><td>ExprRange</td><td>lambda_map:&nbsp;1<br>start_index:&nbsp;34<br>end_index:&nbsp;2<br></td><td><a class=\"ProveItLink\" href=\"expr.ipynb\"><img src=\"expr.png\" style=\"display:inline;vertical-align:middle;\" /></a></td></tr>\n",
       "<tr><td>1</td><td>Lambda</td><td>parameter:&nbsp;30<br>body:&nbsp;3<br></td><td><a class=\"ProveItLink\" href=\"../b714a7fd02feeadacbd0e886014b575893a14f110/expr.ipynb\"><img src=\"../b714a7fd02feeadacbd0e886014b575893a14f110/expr.png\" style=\"display:inline;vertical-align:middle;\" /></a></td></tr>\n",
       "<tr><td>2</td><td>Variable</td><td></td><td><a class=\"ProveItLink\" href=\"../../../../../../__pv_it/common/674a03b9c3ca221b3aabd5636837b31528ff33830/expr.ipynb\"><img src=\"../../../../../../__pv_it/common/674a03b9c3ca221b3aabd5636837b31528ff33830/expr.png\" style=\"display:inline;vertical-align:middle;\" /></a></td></tr>\n",
       "<tr><td>3</td><td>ExprRange</td><td>lambda_map:&nbsp;4<br>start_index:&nbsp;34<br>end_index:&nbsp;5<br></td><td><a class=\"ProveItLink\" href=\"../a182349bd96f3546828f58e71ed0c0479382f1150/expr.ipynb\"><img src=\"../a182349bd96f3546828f58e71ed0c0479382f1150/expr.png\" style=\"display:inline;vertical-align:middle;\" /></a></td></tr>\n",
       "<tr><td>4</td><td>Lambda</td><td>parameter:&nbsp;18<br>body:&nbsp;7<br></td><td><a class=\"ProveItLink\" href=\"../1343a0acf7d5aac8c43097f4f9c0508e0d85cc630/expr.ipynb\"><img src=\"../1343a0acf7d5aac8c43097f4f9c0508e0d85cc630/expr.png\" style=\"display:inline;vertical-align:middle;\" /></a></td></tr>\n",
       "<tr><td>5</td><td>IndexedVar</td><td>variable:&nbsp;8<br>index:&nbsp;30<br></td><td><a class=\"ProveItLink\" href=\"../75d8783e56abefb2a252bbb19a090de2e2ffc54d0/expr.ipynb\"><img src=\"../75d8783e56abefb2a252bbb19a090de2e2ffc54d0/expr.png\" style=\"display:inline;vertical-align:middle;\" /></a></td></tr>\n",
       "<tr><td>6</td><td>ExprTuple</td><td>18</td><td><a class=\"ProveItLink\" href=\"../../../../../../core_expr_types/__pv_it/common/4b0dd6be36d76552eda6a95d5b4a27f5a5b62f900/expr.ipynb\"><img src=\"../../../../../../core_expr_types/__pv_it/common/4b0dd6be36d76552eda6a95d5b4a27f5a5b62f900/expr.png\" style=\"display:inline;vertical-align:middle;\" /></a></td></tr>\n",
       "<tr><td>7</td><td>Operation</td><td>operator:&nbsp;9<br>operands:&nbsp;10<br></td><td><a class=\"ProveItLink\" href=\"../d8701acef60d94ec4b6c53613bcc0019c1e5fc410/expr.ipynb\"><img src=\"../d8701acef60d94ec4b6c53613bcc0019c1e5fc410/expr.png\" style=\"display:inline;vertical-align:middle;\" /></a></td></tr>\n",
       "<tr><td>8</td><td>Variable</td><td></td><td><a class=\"ProveItLink\" href=\"../../../../../../__pv_it/common/8968bb04eb3f7dfa02353397ce929b025bbd79c20/expr.ipynb\"><img src=\"../../../../../../__pv_it/common/8968bb04eb3f7dfa02353397ce929b025bbd79c20/expr.png\" style=\"display:inline;vertical-align:middle;\" /></a></td></tr>\n",
       "<tr><td>9</td><td>Literal</td><td></td><td><a class=\"ProveItLink\" href=\"../../common/5eaa43008f05c06941080a12337ff182ea14996e0/expr.ipynb\"><img src=\"../../common/5eaa43008f05c06941080a12337ff182ea14996e0/expr.png\" style=\"display:inline;vertical-align:middle;\" /></a></td></tr>\n",
       "<tr><td>10</td><td>NamedExprs</td><td>element: 11<br>targets: 12<br></td><td><a class=\"ProveItLink\" href=\"../50109eeb868b25ebf4b7959dcd21f19b5908e55b0/expr.ipynb\"><img src=\"../50109eeb868b25ebf4b7959dcd21f19b5908e55b0/expr.png\" style=\"display:inline;vertical-align:middle;\" /></a></td></tr>\n",
       "<tr><td>11</td><td>Operation</td><td>operator:&nbsp;13<br>operands:&nbsp;14<br></td><td><a class=\"ProveItLink\" href=\"../0588a4a21c3a37adf6b434043549d0793bfdabab0/expr.ipynb\"><img src=\"../0588a4a21c3a37adf6b434043549d0793bfdabab0/expr.png\" style=\"display:inline;vertical-align:middle;\" /></a></td></tr>\n",
       "<tr><td>12</td><td>Operation</td><td>operator:&nbsp;15<br>operands:&nbsp;16<br></td><td><a class=\"ProveItLink\" href=\"../ea8faf3b868319a4f323dbd0347fc2ea2e7d29f30/expr.ipynb\"><img src=\"../ea8faf3b868319a4f323dbd0347fc2ea2e7d29f30/expr.png\" style=\"display:inline;vertical-align:middle;\" /></a></td></tr>\n",
       "<tr><td>13</td><td>Literal</td><td></td><td><a class=\"ProveItLink\" href=\"../../common/00345a9c4f4d361e0b6e8bbbbe5a33a8ec86a20b0/expr.ipynb\"><img src=\"../../common/00345a9c4f4d361e0b6e8bbbbe5a33a8ec86a20b0/expr.png\" style=\"display:inline;vertical-align:middle;\" /></a></td></tr>\n",
       "<tr><td>14</td><td>NamedExprs</td><td>state: 17<br>part: 18<br></td><td><a class=\"ProveItLink\" href=\"../d5db41322d898db2c78485c2988013b1cad4ea1e0/expr.ipynb\"><img src=\"../d5db41322d898db2c78485c2988013b1cad4ea1e0/expr.png\" style=\"display:inline;vertical-align:middle;\" /></a></td></tr>\n",
       "<tr><td>15</td><td>Literal</td><td></td><td><a class=\"ProveItLink\" href=\"../../../../../../numbers/number_sets/integers/__pv_it/common/92f3a0a77e3c3ea8e4a5c8674edadc54e4f57d550/expr.ipynb\"><img src=\"../../../../../../numbers/number_sets/integers/__pv_it/common/92f3a0a77e3c3ea8e4a5c8674edadc54e4f57d550/expr.png\" style=\"display:inline;vertical-align:middle;\" /></a></td></tr>\n",
       "<tr><td>16</td><td>ExprTuple</td><td>19, 20</td><td><a class=\"ProveItLink\" href=\"../deb14b2f4dea9618aa2afed3b5f5da919788486b0/expr.ipynb\"><img src=\"../deb14b2f4dea9618aa2afed3b5f5da919788486b0/expr.png\" style=\"display:inline;vertical-align:middle;\" /></a></td></tr>\n",
       "<tr><td>17</td><td>IndexedVar</td><td>variable:&nbsp;21<br>index:&nbsp;30<br></td><td><a class=\"ProveItLink\" href=\"../ad23d0591dbc2d948d434f2f49ac0010b0a1f6fa0/expr.ipynb\"><img src=\"../ad23d0591dbc2d948d434f2f49ac0010b0a1f6fa0/expr.png\" style=\"display:inline;vertical-align:middle;\" /></a></td></tr>\n",
       "<tr><td>18</td><td>Variable</td><td></td><td><a class=\"ProveItLink\" href=\"../../../../../../core_expr_types/__pv_it/common/006c465e50948aa2b52285e2de47974f741255cc0/expr.ipynb\"><img src=\"../../../../../../core_expr_types/__pv_it/common/006c465e50948aa2b52285e2de47974f741255cc0/expr.png\" style=\"display:inline;vertical-align:middle;\" /></a></td></tr>\n",
       "<tr><td>19</td><td>Operation</td><td>operator:&nbsp;28<br>operands:&nbsp;22<br></td><td><a class=\"ProveItLink\" href=\"../8269149504e2efb6e45190985056c2c7071f5ef60/expr.ipynb\"><img src=\"../8269149504e2efb6e45190985056c2c7071f5ef60/expr.png\" style=\"display:inline;vertical-align:middle;\" /></a></td></tr>\n",
       "<tr><td>20</td><td>IndexedVar</td><td>variable:&nbsp;25<br>index:&nbsp;30<br></td><td><a class=\"ProveItLink\" href=\"../f7fd2d0ebb10622ace70e4a0629ec7961186e16e0/expr.ipynb\"><img src=\"../f7fd2d0ebb10622ace70e4a0629ec7961186e16e0/expr.png\" style=\"display:inline;vertical-align:middle;\" /></a></td></tr>\n",
       "<tr><td>21</td><td>Variable</td><td></td><td><a class=\"ProveItLink\" href=\"../../../../../../__pv_it/common/09585084922504426caf1db2ff588a23a0932a960/expr.ipynb\"><img src=\"../../../../../../__pv_it/common/09585084922504426caf1db2ff588a23a0932a960/expr.png\" style=\"display:inline;vertical-align:middle;\" /></a></td></tr>\n",
       "<tr><td>22</td><td>ExprTuple</td><td>24, 34</td><td><a class=\"ProveItLink\" href=\"../abc0a90ccb4060616f43e27ec48bc39fd5bd263a0/expr.ipynb\"><img src=\"../abc0a90ccb4060616f43e27ec48bc39fd5bd263a0/expr.png\" style=\"display:inline;vertical-align:middle;\" /></a></td></tr>\n",
       "<tr><td>23</td><td>ExprTuple</td><td>30</td><td><a class=\"ProveItLink\" href=\"../../../../../../core_expr_types/expr_arrays/__pv_it/common/18f7318b68e45ff8356043b6e71619fa8450fb200/expr.ipynb\"><img src=\"../../../../../../core_expr_types/expr_arrays/__pv_it/common/18f7318b68e45ff8356043b6e71619fa8450fb200/expr.png\" style=\"display:inline;vertical-align:middle;\" /></a></td></tr>\n",
       "<tr><td>24</td><td>IndexedVar</td><td>variable:&nbsp;25<br>index:&nbsp;27<br></td><td><a class=\"ProveItLink\" href=\"../482c59e0327a44a77b9c8fd86f9333b899e173600/expr.ipynb\"><img src=\"../482c59e0327a44a77b9c8fd86f9333b899e173600/expr.png\" style=\"display:inline;vertical-align:middle;\" /></a></td></tr>\n",
       "<tr><td>25</td><td>Variable</td><td></td><td><a class=\"ProveItLink\" href=\"../../../../../../__pv_it/common/ec2f9d003f907f9688d46f19f6df289e52cc63ce0/expr.ipynb\"><img src=\"../../../../../../__pv_it/common/ec2f9d003f907f9688d46f19f6df289e52cc63ce0/expr.png\" style=\"display:inline;vertical-align:middle;\" /></a></td></tr>\n",
       "<tr><td>26</td><td>ExprTuple</td><td>27</td><td><a class=\"ProveItLink\" href=\"../bbf049c6d00084788fab535e17e121663c79ff8c0/expr.ipynb\"><img src=\"../bbf049c6d00084788fab535e17e121663c79ff8c0/expr.png\" style=\"display:inline;vertical-align:middle;\" /></a></td></tr>\n",
       "<tr><td>27</td><td>Operation</td><td>operator:&nbsp;28<br>operands:&nbsp;29<br></td><td><a class=\"ProveItLink\" href=\"../63fdcc2888efa5a50c2bc63583039690994b93850/expr.ipynb\"><img src=\"../63fdcc2888efa5a50c2bc63583039690994b93850/expr.png\" style=\"display:inline;vertical-align:middle;\" /></a></td></tr>\n",
       "<tr><td>28</td><td>Literal</td><td></td><td><a class=\"ProveItLink\" href=\"../../../../../../numbers/addition/__pv_it/common/4b7effaab3619a1c2c38fe2dee8601df8ec714590/expr.ipynb\"><img src=\"../../../../../../numbers/addition/__pv_it/common/4b7effaab3619a1c2c38fe2dee8601df8ec714590/expr.png\" style=\"display:inline;vertical-align:middle;\" /></a></td></tr>\n",
       "<tr><td>29</td><td>ExprTuple</td><td>30, 31</td><td><a class=\"ProveItLink\" href=\"../78843e36d27ede38d3b74e4110e805b0517e38f30/expr.ipynb\"><img src=\"../78843e36d27ede38d3b74e4110e805b0517e38f30/expr.png\" style=\"display:inline;vertical-align:middle;\" /></a></td></tr>\n",
       "<tr><td>30</td><td>Variable</td><td></td><td><a class=\"ProveItLink\" href=\"../../../../../../core_expr_types/expr_arrays/__pv_it/common/9a18d67b443cf8d92289c655ed91ec78766170a90/expr.ipynb\"><img src=\"../../../../../../core_expr_types/expr_arrays/__pv_it/common/9a18d67b443cf8d92289c655ed91ec78766170a90/expr.png\" style=\"display:inline;vertical-align:middle;\" /></a></td></tr>\n",
       "<tr><td>31</td><td>Operation</td><td>operator:&nbsp;32<br>operand:&nbsp;34<br></td><td><a class=\"ProveItLink\" href=\"../../../../__pv_it/common/bf4beda21975fe8a0a5007615b5bcc943da59bb20/expr.ipynb\"><img src=\"../../../../__pv_it/common/bf4beda21975fe8a0a5007615b5bcc943da59bb20/expr.png\" style=\"display:inline;vertical-align:middle;\" /></a></td></tr>\n",
       "<tr><td>32</td><td>Literal</td><td></td><td><a class=\"ProveItLink\" href=\"../../../../../../numbers/negation/__pv_it/common/221b3c4d1770ee9051b7c044c3f9ec61196fc34b0/expr.ipynb\"><img src=\"../../../../../../numbers/negation/__pv_it/common/221b3c4d1770ee9051b7c044c3f9ec61196fc34b0/expr.png\" style=\"display:inline;vertical-align:middle;\" /></a></td></tr>\n",
       "<tr><td>33</td><td>ExprTuple</td><td>34</td><td><a class=\"ProveItLink\" href=\"../../../../__pv_it/common/b9e4f0dffece176bbe2f36127440684a20e0468e0/expr.ipynb\"><img src=\"../../../../__pv_it/common/b9e4f0dffece176bbe2f36127440684a20e0468e0/expr.png\" style=\"display:inline;vertical-align:middle;\" /></a></td></tr>\n",
       "<tr><td>34</td><td>Literal</td><td></td><td><a class=\"ProveItLink\" href=\"../../../../../../numbers/numerals/__pv_it/common/682157d4892d216d9e5626ed533aff9b56b9506e0/expr.ipynb\"><img src=\"../../../../../../numbers/numerals/__pv_it/common/682157d4892d216d9e5626ed533aff9b56b9506e0/expr.png\" style=\"display:inline;vertical-align:middle;\" /></a></td></tr>\n",
       "</table>\n"
      ],
      "text/plain": [
       "0. [MULTI_QUBIT_ELEM]{element:[OUTPUT]{state:A_{1}, part:1}, targets:{N_{1 - 1} + 1 .. N_{1}}}, [MULTI_QUBIT_ELEM]{element:[OUTPUT]{state:A_{1}, part:2}, targets:{N_{1 - 1} + 1 .. N_{1}}}, ..., [MULTI_QUBIT_ELEM]{element:[OUTPUT]{state:A_{1}, part:n_{1}}, targets:{N_{1 - 1} + 1 .. N_{1}}}, [MULTI_QUBIT_ELEM]{element:[OUTPUT]{state:A_{2}, part:1}, targets:{N_{2 - 1} + 1 .. N_{2}}}, [MULTI_QUBIT_ELEM]{element:[OUTPUT]{state:A_{2}, part:2}, targets:{N_{2 - 1} + 1 .. N_{2}}}, ..., [MULTI_QUBIT_ELEM]{element:[OUTPUT]{state:A_{2}, part:n_{2}}, targets:{N_{2 - 1} + 1 .. N_{2}}}, ......, [MULTI_QUBIT_ELEM]{element:[OUTPUT]{state:A_{m}, part:1}, targets:{N_{m - 1} + 1 .. N_{m}}}, [MULTI_QUBIT_ELEM]{element:[OUTPUT]{state:A_{m}, part:2}, targets:{N_{m - 1} + 1 .. N_{m}}}, ..., [MULTI_QUBIT_ELEM]{element:[OUTPUT]{state:A_{m}, part:n_{m}}, targets:{N_{m - 1} + 1 .. N_{m}}}\n",
       "   core type: ExprRange\n",
       "   lambda_map: 1\n",
       "   start_index: 34\n",
       "   end_index: 2\n",
       "1. _b -> [MULTI_QUBIT_ELEM]{element:[OUTPUT]{state:A_{_b}, part:1}, targets:{N_{_b - 1} + 1 .. N_{_b}}},  \\\\ [MULTI_QUBIT_ELEM]{element:[OUTPUT]{state:A_{_b}, part:2}, targets:{N_{_b - 1} + 1 .. N_{_b}}}, ...,  \\\\ [MULTI_QUBIT_ELEM]{element:[OUTPUT]{state:A_{_b}, part:n_{_b}}, targets:{N_{_b - 1} + 1 .. N_{_b}}}\n",
       "   core type: Lambda\n",
       "   parameter: 30\n",
       "   body: 3\n",
       "2. m\n",
       "   core type: Variable\n",
       "   sub-expressions: \n",
       "3. [MULTI_QUBIT_ELEM]{element:[OUTPUT]{state:A_{_b}, part:1}, targets:{N_{_b - 1} + 1 .. N_{_b}}},  \\\\ [MULTI_QUBIT_ELEM]{element:[OUTPUT]{state:A_{_b}, part:2}, targets:{N_{_b - 1} + 1 .. N_{_b}}}, ...,  \\\\ [MULTI_QUBIT_ELEM]{element:[OUTPUT]{state:A_{_b}, part:n_{_b}}, targets:{N_{_b - 1} + 1 .. N_{_b}}}\n",
       "   core type: ExprRange\n",
       "   lambda_map: 4\n",
       "   start_index: 34\n",
       "   end_index: 5\n",
       "4. _a -> [MULTI_QUBIT_ELEM]{element:[OUTPUT]{state:A_{_b}, part:_a}, targets:{N_{_b - 1} + 1 .. N_{_b}}}\n",
       "   core type: Lambda\n",
       "   parameter: 18\n",
       "   body: 7\n",
       "5. n_{_b}\n",
       "   core type: IndexedVar\n",
       "variable: 8\n",
       "index: 30\n",
       "6. (_a)\n",
       "   core type: ExprTuple\n",
       "   sub-expressions: 18\n",
       "7. [MULTI_QUBIT_ELEM]{element:[OUTPUT]{state:A_{_b}, part:_a}, targets:{N_{_b - 1} + 1 .. N_{_b}}}\n",
       "   core type: Operation\n",
       "   operator: 9\n",
       "   operands: 10\n",
       "8. n\n",
       "   core type: Variable\n",
       "   sub-expressions: \n",
       "9. MULTI_QUBIT_ELEM\n",
       "   core type: Literal\n",
       "   sub-expressions: \n",
       "10. {element:[OUTPUT]{state:A_{_b}, part:_a}, targets:{N_{_b - 1} + 1 .. N_{_b}}}\n",
       "    core type: NamedExprs\n",
       "    element: 11\n",
       "    targets: 12\n",
       "11. [OUTPUT]{state:A_{_b}, part:_a}\n",
       "    core type: Operation\n",
       "    operator: 13\n",
       "    operands: 14\n",
       "12. {N_{_b - 1} + 1 .. N_{_b}}\n",
       "    core type: Operation\n",
       "    operator: 15\n",
       "    operands: 16\n",
       "13. OUTPUT\n",
       "    core type: Literal\n",
       "    sub-expressions: \n",
       "14. {state:A_{_b}, part:_a}\n",
       "    core type: NamedExprs\n",
       "    state: 17\n",
       "    part: 18\n",
       "15. Interval\n",
       "    core type: Literal\n",
       "    sub-expressions: \n",
       "16. (N_{_b - 1} + 1, N_{_b})\n",
       "    core type: ExprTuple\n",
       "    sub-expressions: 19, 20\n",
       "17. A_{_b}\n",
       "    core type: IndexedVar\n",
       "variable: 21\n",
       "index: 30\n",
       "18. _a\n",
       "    core type: Variable\n",
       "    sub-expressions: \n",
       "19. N_{_b - 1} + 1\n",
       "    core type: Operation\n",
       "    operator: 28\n",
       "    operands: 22\n",
       "20. N_{_b}\n",
       "    core type: IndexedVar\n",
       "variable: 25\n",
       "index: 30\n",
       "21. A\n",
       "    core type: Variable\n",
       "    sub-expressions: \n",
       "22. (N_{_b - 1}, 1)\n",
       "    core type: ExprTuple\n",
       "    sub-expressions: 24, 34\n",
       "23. (_b)\n",
       "    core type: ExprTuple\n",
       "    sub-expressions: 30\n",
       "24. N_{_b - 1}\n",
       "    core type: IndexedVar\n",
       "variable: 25\n",
       "index: 27\n",
       "25. N\n",
       "    core type: Variable\n",
       "    sub-expressions: \n",
       "26. (_b - 1)\n",
       "    core type: ExprTuple\n",
       "    sub-expressions: 27\n",
       "27. _b - 1\n",
       "    core type: Operation\n",
       "    operator: 28\n",
       "    operands: 29\n",
       "28. +\n",
       "    core type: Literal\n",
       "    sub-expressions: \n",
       "29. (_b, -1)\n",
       "    core type: ExprTuple\n",
       "    sub-expressions: 30, 31\n",
       "30. _b\n",
       "    core type: Variable\n",
       "    sub-expressions: \n",
       "31. -1\n",
       "    core type: Operation\n",
       "    operator: 32\n",
       "    operand: 34\n",
       "32. -\n",
       "    core type: Literal\n",
       "    sub-expressions: \n",
       "33. (1)\n",
       "    core type: ExprTuple\n",
       "    sub-expressions: 34\n",
       "34. 1\n",
       "    core type: Literal\n",
       "    sub-expressions: "
      ]
     },
     "metadata": {},
     "output_type": "display_data"
    }
   ],
   "source": [
    "# display the expression information\n",
    "stored_expr.expr_info()"
   ]
  },
  {
   "cell_type": "code",
   "execution_count": null,
   "metadata": {},
   "outputs": [],
   "source": []
  }
 ],
 "metadata": {
  "kernelspec": {
   "display_name": "Python 3",
   "language": "python",
   "name": "python3"
  }
 },
 "nbformat": 4,
 "nbformat_minor": 0
}