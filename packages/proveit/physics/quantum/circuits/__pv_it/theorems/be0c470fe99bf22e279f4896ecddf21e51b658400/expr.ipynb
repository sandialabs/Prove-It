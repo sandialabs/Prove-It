{
 "cells": [
  {
   "cell_type": "markdown",
   "metadata": {},
   "source": [
    "Expression of type <a class=\"ProveItLink\" href=\"../../../../../../../../doc/html/api/proveit.ExprTuple.html\">ExprTuple</a>\n",
    "=======================\n",
    "# from the theory of <a class=\"ProveItLink\" href=\"../../../_theory_nbs_/theory.ipynb\">proveit.physics.quantum.circuits</a>"
   ]
  },
  {
   "cell_type": "code",
   "execution_count": 1,
   "metadata": {},
   "outputs": [],
   "source": [
    "import proveit\n",
    "# Automation is not needed when building an expression:\n",
    "proveit.defaults.automation = False # This will speed things up.\n",
    "proveit.defaults.inline_pngs = False # Makes files smaller.\n",
    "%load_expr # Load the stored expression as 'stored_expr'\n",
    "# import Expression classes needed to build the expression\n",
    "from proveit import ExprTuple\n",
    "from proveit.physics.quantum.circuits import circuit_compressed_outputAm, circuit_expanded_outputBm"
   ]
  },
  {
   "cell_type": "code",
   "execution_count": 2,
   "metadata": {},
   "outputs": [
    {
     "data": {
      "text/html": [
       "<strong id=\"expr\">expr:</strong> <a class=\"ProveItLink\" href=\"expr.ipynb\"><img src=\"expr.png\" style=\"display:inline;vertical-align:middle;\" /></a><br>"
      ],
      "text/plain": [
       "<IPython.core.display.HTML object>"
      ]
     },
     "metadata": {},
     "output_type": "display_data"
    }
   ],
   "source": [
    "# build up the expression from sub-expressions\n",
    "expr = ExprTuple(circuit_compressed_outputAm, circuit_expanded_outputBm)"
   ]
  },
  {
   "cell_type": "code",
   "execution_count": 3,
   "metadata": {},
   "outputs": [
    {
     "name": "stdout",
     "output_type": "stream",
     "text": [
      "Passed sanity check: expr matches stored_expr\n"
     ]
    }
   ],
   "source": [
    "# check that the built expression is the same as the stored expression\n",
    "assert expr == stored_expr\n",
    "assert expr._style_id == stored_expr._style_id\n",
    "print(\"Passed sanity check: expr matches stored_expr\")"
   ]
  },
  {
   "cell_type": "code",
   "execution_count": 4,
   "metadata": {},
   "outputs": [
    {
     "name": "stdout",
     "output_type": "stream",
     "text": [
      "\\left(\\begin{array}{c} \\Qcircuit@C=1em @R=.7em{\n",
      "& \\qout{A}\n",
      "} \\end{array}, \\begin{array}{c} \\Qcircuit@C=1em @R=.7em{\n",
      "& \\qout{B_{1}} \\\\\n",
      "& \\qout{B_{2}} \\\\\n",
      "& \\qout{\\vdots} \\\\\n",
      "& \\qout{B_{m}}\n",
      "} \\end{array}\\right)\n"
     ]
    }
   ],
   "source": [
    "# Show the LaTeX representation of the expression for convenience if you need it.\n",
    "print(stored_expr.latex())"
   ]
  },
  {
   "cell_type": "code",
   "execution_count": 5,
   "metadata": {},
   "outputs": [
    {
     "data": {
      "text/html": [
       "<table>\n",
       "<tr><th>name</th><th>description</th><th>default</th><th>current value</th><th>related methods</th></tr><tr><td>wrap_positions</td><td>position(s) at which wrapping is to occur; 'n' is after the nth comma.</td><td>()</td><td>()</td><td>('with_wrapping_at',)</td></tr>\n",
       "<tr><td>justification</td><td>if any wrap positions are set, justify to the 'left', 'center', or 'right'</td><td>left</td><td>left</td><td>('with_justification',)</td></tr>\n",
       "</table>\n"
      ],
      "text/plain": [
       "style name: wrap_positions\n",
       "description: position(s) at which wrapping is to occur; 'n' is after the nth comma.\n",
       "default: ()\n",
       "current value: ()\n",
       "related methods: ('with_wrapping_at',)\n",
       "style name: justification\n",
       "description: if any wrap positions are set, justify to the 'left', 'center', or 'right'\n",
       "default: left\n",
       "current value: left\n",
       "related methods: ('with_justification',)"
      ]
     },
     "metadata": {},
     "output_type": "display_data"
    }
   ],
   "source": [
    "stored_expr.style_options()"
   ]
  },
  {
   "cell_type": "code",
   "execution_count": 6,
   "metadata": {},
   "outputs": [
    {
     "data": {
      "text/html": [
       "<table><tr><th>&nbsp;</th><th>core type</th><th>sub-expressions</th><th>expression</th></tr>\n",
       "<tr><td>0</td><td>ExprTuple</td><td>1, 2</td><td><a class=\"ProveItLink\" href=\"expr.ipynb\"><img src=\"expr.png\" style=\"display:inline;vertical-align:middle;\" /></a></td></tr>\n",
       "<tr><td>1</td><td>Operation</td><td>operator:&nbsp;4<br>operand:&nbsp;6<br></td><td><a class=\"ProveItLink\" href=\"../../common/692966d20ce1ee599d82797efc451498b5f60d970/expr.ipynb\"><img src=\"../../common/692966d20ce1ee599d82797efc451498b5f60d970/expr.png\" style=\"display:inline;vertical-align:middle;\" /></a></td></tr>\n",
       "<tr><td>2</td><td>Operation</td><td>operator:&nbsp;4<br>operand:&nbsp;7<br></td><td><a class=\"ProveItLink\" href=\"../../common/d98b1e6b15ce4e327259b62f2ff0bd99f844370b0/expr.ipynb\"><img src=\"../../common/d98b1e6b15ce4e327259b62f2ff0bd99f844370b0/expr.png\" style=\"display:inline;vertical-align:middle;\" /></a></td></tr>\n",
       "<tr><td>3</td><td>ExprTuple</td><td>6</td><td><a class=\"ProveItLink\" href=\"../../common/f77b6212745c513dfe2b41237f9583394c18345b0/expr.ipynb\"><img src=\"../../common/f77b6212745c513dfe2b41237f9583394c18345b0/expr.png\" style=\"display:inline;vertical-align:middle;\" /></a></td></tr>\n",
       "<tr><td>4</td><td>Literal</td><td></td><td><a class=\"ProveItLink\" href=\"../../common/40003b89a3d1740159ada9fe5b21308b42a7d3d40/expr.ipynb\"><img src=\"../../common/40003b89a3d1740159ada9fe5b21308b42a7d3d40/expr.png\" style=\"display:inline;vertical-align:middle;\" /></a></td></tr>\n",
       "<tr><td>5</td><td>ExprTuple</td><td>7</td><td><a class=\"ProveItLink\" href=\"../../common/3db891a512f67b1365f5109dc36717e4e20474200/expr.ipynb\"><img src=\"../../common/3db891a512f67b1365f5109dc36717e4e20474200/expr.png\" style=\"display:inline;vertical-align:middle;\" /></a></td></tr>\n",
       "<tr><td>6</td><td>ExprTuple</td><td>8</td><td><a class=\"ProveItLink\" href=\"../../common/be2ddd3599587876ee212a6b4e14d024c22afe370/expr.ipynb\"><img src=\"../../common/be2ddd3599587876ee212a6b4e14d024c22afe370/expr.png\" style=\"display:inline;vertical-align:middle;\" /></a></td></tr>\n",
       "<tr><td>7</td><td>ExprTuple</td><td>9</td><td><a class=\"ProveItLink\" href=\"../../common/c8d11d6d582c1df23e42d2fed46047eb5a64bde00/expr.ipynb\"><img src=\"../../common/c8d11d6d582c1df23e42d2fed46047eb5a64bde00/expr.png\" style=\"display:inline;vertical-align:middle;\" /></a></td></tr>\n",
       "<tr><td>8</td><td>ExprRange</td><td>lambda_map:&nbsp;10<br>start_index:&nbsp;27<br>end_index:&nbsp;28<br></td><td><a class=\"ProveItLink\" href=\"../../common/1de5f9b726bb13efccc3646586f7bffbf345c7470/expr.ipynb\"><img src=\"../../common/1de5f9b726bb13efccc3646586f7bffbf345c7470/expr.png\" style=\"display:inline;vertical-align:middle;\" /></a></td></tr>\n",
       "<tr><td>9</td><td>ExprRange</td><td>lambda_map:&nbsp;11<br>start_index:&nbsp;27<br>end_index:&nbsp;28<br></td><td><a class=\"ProveItLink\" href=\"../../common/fe22ccd27c5dc0b8301e4e6085435f1707551d760/expr.ipynb\"><img src=\"../../common/fe22ccd27c5dc0b8301e4e6085435f1707551d760/expr.png\" style=\"display:inline;vertical-align:middle;\" /></a></td></tr>\n",
       "<tr><td>10</td><td>Lambda</td><td>parameter:&nbsp;29<br>body:&nbsp;12<br></td><td><a class=\"ProveItLink\" href=\"../../common/7f66771c501ed08b7c246f0e5eb8ab8e98e241930/expr.ipynb\"><img src=\"../../common/7f66771c501ed08b7c246f0e5eb8ab8e98e241930/expr.png\" style=\"display:inline;vertical-align:middle;\" /></a></td></tr>\n",
       "<tr><td>11</td><td>Lambda</td><td>parameter:&nbsp;29<br>body:&nbsp;13<br></td><td><a class=\"ProveItLink\" href=\"../../common/61e2201b485d4a4470716c9cba471efe35104cc80/expr.ipynb\"><img src=\"../../common/61e2201b485d4a4470716c9cba471efe35104cc80/expr.png\" style=\"display:inline;vertical-align:middle;\" /></a></td></tr>\n",
       "<tr><td>12</td><td>Operation</td><td>operator:&nbsp;14<br>operands:&nbsp;15<br></td><td><a class=\"ProveItLink\" href=\"../../common/5d0bf95535407088a92ab16b3be7c84df2e412300/expr.ipynb\"><img src=\"../../common/5d0bf95535407088a92ab16b3be7c84df2e412300/expr.png\" style=\"display:inline;vertical-align:middle;\" /></a></td></tr>\n",
       "<tr><td>13</td><td>Operation</td><td>operator:&nbsp;20<br>operands:&nbsp;16<br></td><td><a class=\"ProveItLink\" href=\"../../common/fb1533489010b4d161f8d3c83886f75b3356abd80/expr.ipynb\"><img src=\"../../common/fb1533489010b4d161f8d3c83886f75b3356abd80/expr.png\" style=\"display:inline;vertical-align:middle;\" /></a></td></tr>\n",
       "<tr><td>14</td><td>Literal</td><td></td><td><a class=\"ProveItLink\" href=\"../../common/5eaa43008f05c06941080a12337ff182ea14996e0/expr.ipynb\"><img src=\"../../common/5eaa43008f05c06941080a12337ff182ea14996e0/expr.png\" style=\"display:inline;vertical-align:middle;\" /></a></td></tr>\n",
       "<tr><td>15</td><td>NamedExprs</td><td>element: 17<br>targets: 18<br></td><td><a class=\"ProveItLink\" href=\"../../common/68b221f24e0859b2240bb0150b402ecd7cab932e0/expr.ipynb\"><img src=\"../../common/68b221f24e0859b2240bb0150b402ecd7cab932e0/expr.png\" style=\"display:inline;vertical-align:middle;\" /></a></td></tr>\n",
       "<tr><td>16</td><td>NamedExprs</td><td>state: 19<br></td><td><a class=\"ProveItLink\" href=\"../../common/ed76d4f60a50892c06fb03e2a6f359a466cdc9110/expr.ipynb\"><img src=\"../../common/ed76d4f60a50892c06fb03e2a6f359a466cdc9110/expr.png\" style=\"display:inline;vertical-align:middle;\" /></a></td></tr>\n",
       "<tr><td>17</td><td>Operation</td><td>operator:&nbsp;20<br>operands:&nbsp;21<br></td><td><a class=\"ProveItLink\" href=\"../../common/910cd26488c3b04ce7571c62363ddd40ebaa52a30/expr.ipynb\"><img src=\"../../common/910cd26488c3b04ce7571c62363ddd40ebaa52a30/expr.png\" style=\"display:inline;vertical-align:middle;\" /></a></td></tr>\n",
       "<tr><td>18</td><td>Operation</td><td>operator:&nbsp;22<br>operands:&nbsp;23<br></td><td><a class=\"ProveItLink\" href=\"../../common/706881e668df69cca5d841d8343295e596a7a0c70/expr.ipynb\"><img src=\"../../common/706881e668df69cca5d841d8343295e596a7a0c70/expr.png\" style=\"display:inline;vertical-align:middle;\" /></a></td></tr>\n",
       "<tr><td>19</td><td>IndexedVar</td><td>variable:&nbsp;24<br>index:&nbsp;29<br></td><td><a class=\"ProveItLink\" href=\"../../common/2d18b8ce771112ed7fafa8be6c3e3112c72709040/expr.ipynb\"><img src=\"../../common/2d18b8ce771112ed7fafa8be6c3e3112c72709040/expr.png\" style=\"display:inline;vertical-align:middle;\" /></a></td></tr>\n",
       "<tr><td>20</td><td>Literal</td><td></td><td><a class=\"ProveItLink\" href=\"../../common/00345a9c4f4d361e0b6e8bbbbe5a33a8ec86a20b0/expr.ipynb\"><img src=\"../../common/00345a9c4f4d361e0b6e8bbbbe5a33a8ec86a20b0/expr.png\" style=\"display:inline;vertical-align:middle;\" /></a></td></tr>\n",
       "<tr><td>21</td><td>NamedExprs</td><td>state: 26<br>part: 29<br></td><td><a class=\"ProveItLink\" href=\"../../common/8cc59678566a4ba6d3740d6acd86411b6bae7f450/expr.ipynb\"><img src=\"../../common/8cc59678566a4ba6d3740d6acd86411b6bae7f450/expr.png\" style=\"display:inline;vertical-align:middle;\" /></a></td></tr>\n",
       "<tr><td>22</td><td>Literal</td><td></td><td><a class=\"ProveItLink\" href=\"../../../../../../numbers/number_sets/integers/__pv_it/common/92f3a0a77e3c3ea8e4a5c8674edadc54e4f57d550/expr.ipynb\"><img src=\"../../../../../../numbers/number_sets/integers/__pv_it/common/92f3a0a77e3c3ea8e4a5c8674edadc54e4f57d550/expr.png\" style=\"display:inline;vertical-align:middle;\" /></a></td></tr>\n",
       "<tr><td>23</td><td>ExprTuple</td><td>27, 28</td><td><a class=\"ProveItLink\" href=\"../../common/940639d2e54ef77a90c8aa1312af4ae333846c530/expr.ipynb\"><img src=\"../../common/940639d2e54ef77a90c8aa1312af4ae333846c530/expr.png\" style=\"display:inline;vertical-align:middle;\" /></a></td></tr>\n",
       "<tr><td>24</td><td>Variable</td><td></td><td><a class=\"ProveItLink\" href=\"../../../../../../__pv_it/common/a9162d1c3cc0470c02e5daf414500903a7a419230/expr.ipynb\"><img src=\"../../../../../../__pv_it/common/a9162d1c3cc0470c02e5daf414500903a7a419230/expr.png\" style=\"display:inline;vertical-align:middle;\" /></a></td></tr>\n",
       "<tr><td>25</td><td>ExprTuple</td><td>29</td><td><a class=\"ProveItLink\" href=\"../../../../../../core_expr_types/__pv_it/common/4b0dd6be36d76552eda6a95d5b4a27f5a5b62f900/expr.ipynb\"><img src=\"../../../../../../core_expr_types/__pv_it/common/4b0dd6be36d76552eda6a95d5b4a27f5a5b62f900/expr.png\" style=\"display:inline;vertical-align:middle;\" /></a></td></tr>\n",
       "<tr><td>26</td><td>Variable</td><td></td><td><a class=\"ProveItLink\" href=\"../../../../../../__pv_it/common/09585084922504426caf1db2ff588a23a0932a960/expr.ipynb\"><img src=\"../../../../../../__pv_it/common/09585084922504426caf1db2ff588a23a0932a960/expr.png\" style=\"display:inline;vertical-align:middle;\" /></a></td></tr>\n",
       "<tr><td>27</td><td>Literal</td><td></td><td><a class=\"ProveItLink\" href=\"../../../../../../numbers/numerals/__pv_it/common/682157d4892d216d9e5626ed533aff9b56b9506e0/expr.ipynb\"><img src=\"../../../../../../numbers/numerals/__pv_it/common/682157d4892d216d9e5626ed533aff9b56b9506e0/expr.png\" style=\"display:inline;vertical-align:middle;\" /></a></td></tr>\n",
       "<tr><td>28</td><td>Variable</td><td></td><td><a class=\"ProveItLink\" href=\"../../../../../../__pv_it/common/674a03b9c3ca221b3aabd5636837b31528ff33830/expr.ipynb\"><img src=\"../../../../../../__pv_it/common/674a03b9c3ca221b3aabd5636837b31528ff33830/expr.png\" style=\"display:inline;vertical-align:middle;\" /></a></td></tr>\n",
       "<tr><td>29</td><td>Variable</td><td></td><td><a class=\"ProveItLink\" href=\"../../../../../../core_expr_types/__pv_it/common/006c465e50948aa2b52285e2de47974f741255cc0/expr.ipynb\"><img src=\"../../../../../../core_expr_types/__pv_it/common/006c465e50948aa2b52285e2de47974f741255cc0/expr.png\" style=\"display:inline;vertical-align:middle;\" /></a></td></tr>\n",
       "</table>\n"
      ],
      "text/plain": [
       "0. (QCIRCUIT(VertExprArray(([MULTI_QUBIT_ELEM]{element:[OUTPUT]{state:A, part:1}, targets:{1 .. m}}, [MULTI_QUBIT_ELEM]{element:[OUTPUT]{state:A, part:2}, targets:{1 .. m}}, ..., [MULTI_QUBIT_ELEM]{element:[OUTPUT]{state:A, part:m}, targets:{1 .. m}}))), QCIRCUIT(VertExprArray(([OUTPUT]{state:B_{1}}, [OUTPUT]{state:B_{2}}, ..., [OUTPUT]{state:B_{m}}))))\n",
       "   core type: ExprTuple\n",
       "   sub-expressions: 1, 2\n",
       "1. QCIRCUIT(VertExprArray(([MULTI_QUBIT_ELEM]{element:[OUTPUT]{state:A, part:1}, targets:{1 .. m}}, [MULTI_QUBIT_ELEM]{element:[OUTPUT]{state:A, part:2}, targets:{1 .. m}}, ..., [MULTI_QUBIT_ELEM]{element:[OUTPUT]{state:A, part:m}, targets:{1 .. m}})))\n",
       "   core type: Operation\n",
       "   operator: 4\n",
       "   operand: 6\n",
       "2. QCIRCUIT(VertExprArray(([OUTPUT]{state:B_{1}}, [OUTPUT]{state:B_{2}}, ..., [OUTPUT]{state:B_{m}})))\n",
       "   core type: Operation\n",
       "   operator: 4\n",
       "   operand: 7\n",
       "3. VertExprArray(([MULTI_QUBIT_ELEM]{element:[OUTPUT]{state:A, part:1}, targets:{1 .. m}}, [MULTI_QUBIT_ELEM]{element:[OUTPUT]{state:A, part:2}, targets:{1 .. m}}, ..., [MULTI_QUBIT_ELEM]{element:[OUTPUT]{state:A, part:m}, targets:{1 .. m}}))\n",
       "   core type: ExprTuple\n",
       "   sub-expressions: 6\n",
       "4. QCIRCUIT\n",
       "   core type: Literal\n",
       "   sub-expressions: \n",
       "5. VertExprArray(([OUTPUT]{state:B_{1}}, [OUTPUT]{state:B_{2}}, ..., [OUTPUT]{state:B_{m}}))\n",
       "   core type: ExprTuple\n",
       "   sub-expressions: 7\n",
       "6. ([MULTI_QUBIT_ELEM]{element:[OUTPUT]{state:A, part:1}, targets:{1 .. m}}, [MULTI_QUBIT_ELEM]{element:[OUTPUT]{state:A, part:2}, targets:{1 .. m}}, ..., [MULTI_QUBIT_ELEM]{element:[OUTPUT]{state:A, part:m}, targets:{1 .. m}})\n",
       "   core type: ExprTuple\n",
       "   sub-expressions: 8\n",
       "7. ([OUTPUT]{state:B_{1}}, [OUTPUT]{state:B_{2}}, ..., [OUTPUT]{state:B_{m}})\n",
       "   core type: ExprTuple\n",
       "   sub-expressions: 9\n",
       "8. [MULTI_QUBIT_ELEM]{element:[OUTPUT]{state:A, part:1}, targets:{1 .. m}}, [MULTI_QUBIT_ELEM]{element:[OUTPUT]{state:A, part:2}, targets:{1 .. m}}, ..., [MULTI_QUBIT_ELEM]{element:[OUTPUT]{state:A, part:m}, targets:{1 .. m}}\n",
       "   core type: ExprRange\n",
       "   lambda_map: 10\n",
       "   start_index: 27\n",
       "   end_index: 28\n",
       "9. [OUTPUT]{state:B_{1}}, [OUTPUT]{state:B_{2}}, ..., [OUTPUT]{state:B_{m}}\n",
       "   core type: ExprRange\n",
       "   lambda_map: 11\n",
       "   start_index: 27\n",
       "   end_index: 28\n",
       "10. _a -> [MULTI_QUBIT_ELEM]{element:[OUTPUT]{state:A, part:_a}, targets:{1 .. m}}\n",
       "    core type: Lambda\n",
       "    parameter: 29\n",
       "    body: 12\n",
       "11. _a -> [OUTPUT]{state:B_{_a}}\n",
       "    core type: Lambda\n",
       "    parameter: 29\n",
       "    body: 13\n",
       "12. [MULTI_QUBIT_ELEM]{element:[OUTPUT]{state:A, part:_a}, targets:{1 .. m}}\n",
       "    core type: Operation\n",
       "    operator: 14\n",
       "    operands: 15\n",
       "13. [OUTPUT]{state:B_{_a}}\n",
       "    core type: Operation\n",
       "    operator: 20\n",
       "    operands: 16\n",
       "14. MULTI_QUBIT_ELEM\n",
       "    core type: Literal\n",
       "    sub-expressions: \n",
       "15. {element:[OUTPUT]{state:A, part:_a}, targets:{1 .. m}}\n",
       "    core type: NamedExprs\n",
       "    element: 17\n",
       "    targets: 18\n",
       "16. {state:B_{_a}}\n",
       "    core type: NamedExprs\n",
       "    state: 19\n",
       "17. [OUTPUT]{state:A, part:_a}\n",
       "    core type: Operation\n",
       "    operator: 20\n",
       "    operands: 21\n",
       "18. {1 .. m}\n",
       "    core type: Operation\n",
       "    operator: 22\n",
       "    operands: 23\n",
       "19. B_{_a}\n",
       "    core type: IndexedVar\n",
       "variable: 24\n",
       "index: 29\n",
       "20. OUTPUT\n",
       "    core type: Literal\n",
       "    sub-expressions: \n",
       "21. {state:A, part:_a}\n",
       "    core type: NamedExprs\n",
       "    state: 26\n",
       "    part: 29\n",
       "22. Interval\n",
       "    core type: Literal\n",
       "    sub-expressions: \n",
       "23. (1, m)\n",
       "    core type: ExprTuple\n",
       "    sub-expressions: 27, 28\n",
       "24. B\n",
       "    core type: Variable\n",
       "    sub-expressions: \n",
       "25. (_a)\n",
       "    core type: ExprTuple\n",
       "    sub-expressions: 29\n",
       "26. A\n",
       "    core type: Variable\n",
       "    sub-expressions: \n",
       "27. 1\n",
       "    core type: Literal\n",
       "    sub-expressions: \n",
       "28. m\n",
       "    core type: Variable\n",
       "    sub-expressions: \n",
       "29. _a\n",
       "    core type: Variable\n",
       "    sub-expressions: "
      ]
     },
     "metadata": {},
     "output_type": "display_data"
    }
   ],
   "source": [
    "# display the expression information\n",
    "stored_expr.expr_info()"
   ]
  },
  {
   "cell_type": "code",
   "execution_count": null,
   "metadata": {},
   "outputs": [],
   "source": []
  }
 ],
 "metadata": {
  "kernelspec": {
   "display_name": "Python 3",
   "language": "python",
   "name": "python3"
  }
 },
 "nbformat": 4,
 "nbformat_minor": 0
}