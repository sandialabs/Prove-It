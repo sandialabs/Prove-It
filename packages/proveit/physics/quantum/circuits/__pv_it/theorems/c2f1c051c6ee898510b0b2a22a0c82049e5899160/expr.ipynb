{
 "cells": [
  {
   "cell_type": "markdown",
   "metadata": {},
   "source": [
    "Expression of type <a class=\"ProveItLink\" href=\"../../../../../../../../doc/html/api/proveit.logic.Equals.html\">Equals</a>\n",
    "=======================\n",
    "# from the theory of <a class=\"ProveItLink\" href=\"../../../_theory_nbs_/theory.ipynb\">proveit.physics.quantum.circuits</a>"
   ]
  },
  {
   "cell_type": "code",
   "execution_count": 1,
   "metadata": {},
   "outputs": [],
   "source": [
    "import proveit\n",
    "# Automation is not needed when building an expression:\n",
    "proveit.defaults.automation = False # This will speed things up.\n",
    "proveit.defaults.inline_pngs = False # Makes files smaller.\n",
    "%load_expr # Load the stored expression as 'stored_expr'\n",
    "# import Expression classes needed to build the expression\n",
    "from proveit.logic import Equals\n",
    "from proveit.numbers import one\n",
    "from proveit.physics.quantum.circuits import circuit_psi_m_Vj\n",
    "from proveit.statistics import Prob"
   ]
  },
  {
   "cell_type": "code",
   "execution_count": 2,
   "metadata": {},
   "outputs": [
    {
     "data": {
      "text/html": [
       "<strong id=\"expr\">expr:</strong> <a class=\"ProveItLink\" href=\"expr.ipynb\"><img src=\"expr.png\" style=\"display:inline;vertical-align:middle;\" /></a><br>"
      ],
      "text/plain": [
       "<IPython.core.display.HTML object>"
      ]
     },
     "metadata": {},
     "output_type": "display_data"
    }
   ],
   "source": [
    "# build up the expression from sub-expressions\n",
    "expr = Equals(Prob(circuit_psi_m_Vj), one)"
   ]
  },
  {
   "cell_type": "code",
   "execution_count": 3,
   "metadata": {},
   "outputs": [
    {
     "name": "stdout",
     "output_type": "stream",
     "text": [
      "Passed sanity check: expr matches stored_expr\n"
     ]
    }
   ],
   "source": [
    "# check that the built expression is the same as the stored expression\n",
    "assert expr == stored_expr\n",
    "assert expr._style_id == stored_expr._style_id\n",
    "print(\"Passed sanity check: expr matches stored_expr\")"
   ]
  },
  {
   "cell_type": "code",
   "execution_count": 4,
   "metadata": {},
   "outputs": [
    {
     "name": "stdout",
     "output_type": "stream",
     "text": [
      "\\textrm{Pr}\\left(\\begin{array}{c} \\Qcircuit@C=1em @R=.7em{\n",
      "\\qin{\\lvert \\psi \\rangle} & \\gate{\\begin{array}{c} \\uparrow \\\\V_{1} \\\\ \\downarrow\\end{array}} & \\gate{\\begin{array}{c} \\uparrow \\\\\\cdots \\\\ \\downarrow\\end{array}} & \\gate{\\begin{array}{c} \\uparrow \\\\V_{j} \\\\ \\downarrow\\end{array}} & { /^{m} } \\qw\n",
      "} \\end{array}\\right) = 1\n"
     ]
    }
   ],
   "source": [
    "# Show the LaTeX representation of the expression for convenience if you need it.\n",
    "print(stored_expr.latex())"
   ]
  },
  {
   "cell_type": "code",
   "execution_count": 5,
   "metadata": {},
   "outputs": [
    {
     "data": {
      "text/html": [
       "<table>\n",
       "<tr><th>name</th><th>description</th><th>default</th><th>current value</th><th>related methods</th></tr><tr><td>operation</td><td>'infix' or 'function' style formatting</td><td>infix</td><td>infix</td><td></td></tr>\n",
       "<tr><td>wrap_positions</td><td>position(s) at which wrapping is to occur; '2 n - 1' is after the nth operand, '2 n' is after the nth operation.</td><td>()</td><td>()</td><td>('with_wrapping_at', 'with_wrap_before_operator', 'with_wrap_after_operator', 'without_wrapping', 'wrap_positions')</td></tr>\n",
       "<tr><td>justification</td><td>if any wrap positions are set, justify to the 'left', 'center', or 'right'</td><td>center</td><td>center</td><td>('with_justification',)</td></tr>\n",
       "<tr><td>direction</td><td>Direction of the relation (normal or reversed)</td><td>normal</td><td>normal</td><td>('with_direction_reversed', 'is_reversed')</td></tr>\n",
       "</table>\n"
      ],
      "text/plain": [
       "style name: operation\n",
       "description: 'infix' or 'function' style formatting\n",
       "default: infix\n",
       "current value: infix\n",
       "related methods: ()\n",
       "style name: wrap_positions\n",
       "description: position(s) at which wrapping is to occur; '2 n - 1' is after the nth operand, '2 n' is after the nth operation.\n",
       "default: ()\n",
       "current value: ()\n",
       "related methods: ('with_wrapping_at', 'with_wrap_before_operator', 'with_wrap_after_operator', 'without_wrapping', 'wrap_positions')\n",
       "style name: justification\n",
       "description: if any wrap positions are set, justify to the 'left', 'center', or 'right'\n",
       "default: center\n",
       "current value: center\n",
       "related methods: ('with_justification',)\n",
       "style name: direction\n",
       "description: Direction of the relation (normal or reversed)\n",
       "default: normal\n",
       "current value: normal\n",
       "related methods: ('with_direction_reversed', 'is_reversed')"
      ]
     },
     "metadata": {},
     "output_type": "display_data"
    }
   ],
   "source": [
    "stored_expr.style_options()"
   ]
  },
  {
   "cell_type": "code",
   "execution_count": 6,
   "metadata": {},
   "outputs": [
    {
     "data": {
      "text/html": [
       "<table><tr><th>&nbsp;</th><th>core type</th><th>sub-expressions</th><th>expression</th></tr>\n",
       "<tr><td>0</td><td>Operation</td><td>operator:&nbsp;1<br>operands:&nbsp;2<br></td><td><a class=\"ProveItLink\" href=\"expr.ipynb\"><img src=\"expr.png\" style=\"display:inline;vertical-align:middle;\" /></a></td></tr>\n",
       "<tr><td>1</td><td>Literal</td><td></td><td><a class=\"ProveItLink\" href=\"../../../../../../logic/equality/__pv_it/common/fb96dc12b2aa8801dda64d0132b396c63d1502bb0/expr.ipynb\"><img src=\"../../../../../../logic/equality/__pv_it/common/fb96dc12b2aa8801dda64d0132b396c63d1502bb0/expr.png\" style=\"display:inline;vertical-align:middle;\" /></a></td></tr>\n",
       "<tr><td>2</td><td>ExprTuple</td><td>3, 29</td><td><a class=\"ProveItLink\" href=\"../7c0c836dc0787c02c7fb540ea3b750f52efee6450/expr.ipynb\"><img src=\"../7c0c836dc0787c02c7fb540ea3b750f52efee6450/expr.png\" style=\"display:inline;vertical-align:middle;\" /></a></td></tr>\n",
       "<tr><td>3</td><td>Operation</td><td>operator:&nbsp;4<br>operand:&nbsp;6<br></td><td><a class=\"ProveItLink\" href=\"../132be31a1d17c342d363ac802bd4816940e89d1a0/expr.ipynb\"><img src=\"../132be31a1d17c342d363ac802bd4816940e89d1a0/expr.png\" style=\"display:inline;vertical-align:middle;\" /></a></td></tr>\n",
       "<tr><td>4</td><td>Literal</td><td></td><td><a class=\"ProveItLink\" href=\"../../../../../../statistics/__pv_it/common/088e9f40f9e6ba1dcc7d39fd35fd8d244261148e0/expr.ipynb\"><img src=\"../../../../../../statistics/__pv_it/common/088e9f40f9e6ba1dcc7d39fd35fd8d244261148e0/expr.png\" style=\"display:inline;vertical-align:middle;\" /></a></td></tr>\n",
       "<tr><td>5</td><td>ExprTuple</td><td>6</td><td><a class=\"ProveItLink\" href=\"../8089d81d6c9cdc973afae822dbd888bdc4bb18fa0/expr.ipynb\"><img src=\"../8089d81d6c9cdc973afae822dbd888bdc4bb18fa0/expr.png\" style=\"display:inline;vertical-align:middle;\" /></a></td></tr>\n",
       "<tr><td>6</td><td>Operation</td><td>operator:&nbsp;7<br>operands:&nbsp;8<br></td><td><a class=\"ProveItLink\" href=\"../../common/c4e3918fc4385bb5c3458768f602dd74fdcd60eb0/expr.ipynb\"><img src=\"../../common/c4e3918fc4385bb5c3458768f602dd74fdcd60eb0/expr.png\" style=\"display:inline;vertical-align:middle;\" /></a></td></tr>\n",
       "<tr><td>7</td><td>Literal</td><td></td><td><a class=\"ProveItLink\" href=\"../../common/40003b89a3d1740159ada9fe5b21308b42a7d3d40/expr.ipynb\"><img src=\"../../common/40003b89a3d1740159ada9fe5b21308b42a7d3d40/expr.png\" style=\"display:inline;vertical-align:middle;\" /></a></td></tr>\n",
       "<tr><td>8</td><td>ExprTuple</td><td>9, 10</td><td><a class=\"ProveItLink\" href=\"../../common/1af281356be8619ff13b1a6a30cb79a9e9acdd7f0/expr.ipynb\"><img src=\"../../common/1af281356be8619ff13b1a6a30cb79a9e9acdd7f0/expr.png\" style=\"display:inline;vertical-align:middle;\" /></a></td></tr>\n",
       "<tr><td>9</td><td>ExprTuple</td><td>11</td><td><a class=\"ProveItLink\" href=\"../../common/9899eae21e16d845ada70208ceccb7ed994a12190/expr.ipynb\"><img src=\"../../common/9899eae21e16d845ada70208ceccb7ed994a12190/expr.png\" style=\"display:inline;vertical-align:middle;\" /></a></td></tr>\n",
       "<tr><td>10</td><td>ExprRange</td><td>lambda_map:&nbsp;12<br>start_index:&nbsp;29<br>end_index:&nbsp;13<br></td><td><a class=\"ProveItLink\" href=\"../../common/9b0a9f5bafc1519b131396a136db20c954968c280/expr.ipynb\"><img src=\"../../common/9b0a9f5bafc1519b131396a136db20c954968c280/expr.png\" style=\"display:inline;vertical-align:middle;\" /></a></td></tr>\n",
       "<tr><td>11</td><td>ExprRange</td><td>lambda_map:&nbsp;14<br>start_index:&nbsp;29<br>end_index:&nbsp;30<br></td><td><a class=\"ProveItLink\" href=\"../../common/0e737cae5beb99924df90a68ca6ae50e267fc2f10/expr.ipynb\"><img src=\"../../common/0e737cae5beb99924df90a68ca6ae50e267fc2f10/expr.png\" style=\"display:inline;vertical-align:middle;\" /></a></td></tr>\n",
       "<tr><td>12</td><td>Lambda</td><td>parameter:&nbsp;28<br>body:&nbsp;15<br></td><td><a class=\"ProveItLink\" href=\"../../../../../../core_expr_types/__pv_it/common/26e8d4e4a478d93551799f3dc5435f662b7f04e90/expr.ipynb\"><img src=\"../../../../../../core_expr_types/__pv_it/common/26e8d4e4a478d93551799f3dc5435f662b7f04e90/expr.png\" style=\"display:inline;vertical-align:middle;\" /></a></td></tr>\n",
       "<tr><td>13</td><td>Variable</td><td></td><td><a class=\"ProveItLink\" href=\"../../../../../../__pv_it/common/1ed21df18baca2f42b561a7ffbf30a2743d594650/expr.ipynb\"><img src=\"../../../../../../__pv_it/common/1ed21df18baca2f42b561a7ffbf30a2743d594650/expr.png\" style=\"display:inline;vertical-align:middle;\" /></a></td></tr>\n",
       "<tr><td>14</td><td>Lambda</td><td>parameter:&nbsp;28<br>body:&nbsp;16<br></td><td><a class=\"ProveItLink\" href=\"../../common/98f5ba80bab8a5fad7d223dfd37a5546fbdd5a3b0/expr.ipynb\"><img src=\"../../common/98f5ba80bab8a5fad7d223dfd37a5546fbdd5a3b0/expr.png\" style=\"display:inline;vertical-align:middle;\" /></a></td></tr>\n",
       "<tr><td>15</td><td>IndexedVar</td><td>variable:&nbsp;17<br>index:&nbsp;28<br></td><td><a class=\"ProveItLink\" href=\"../../../../../../core_expr_types/__pv_it/common/147a78b7570fad51cf5e91324728b3ba848fcf2d0/expr.ipynb\"><img src=\"../../../../../../core_expr_types/__pv_it/common/147a78b7570fad51cf5e91324728b3ba848fcf2d0/expr.png\" style=\"display:inline;vertical-align:middle;\" /></a></td></tr>\n",
       "<tr><td>16</td><td>Operation</td><td>operator:&nbsp;19<br>operands:&nbsp;20<br></td><td><a class=\"ProveItLink\" href=\"../../common/aa49560c13464a24f498c31bbf7f136c8cc009d60/expr.ipynb\"><img src=\"../../common/aa49560c13464a24f498c31bbf7f136c8cc009d60/expr.png\" style=\"display:inline;vertical-align:middle;\" /></a></td></tr>\n",
       "<tr><td>17</td><td>Variable</td><td></td><td><a class=\"ProveItLink\" href=\"../../../../../../__pv_it/common/6d80eb1398b2335bf9ec427954b851b7094dced50/expr.ipynb\"><img src=\"../../../../../../__pv_it/common/6d80eb1398b2335bf9ec427954b851b7094dced50/expr.png\" style=\"display:inline;vertical-align:middle;\" /></a></td></tr>\n",
       "<tr><td>18</td><td>ExprTuple</td><td>28</td><td><a class=\"ProveItLink\" href=\"../../../../../../core_expr_types/__pv_it/common/4b0dd6be36d76552eda6a95d5b4a27f5a5b62f900/expr.ipynb\"><img src=\"../../../../../../core_expr_types/__pv_it/common/4b0dd6be36d76552eda6a95d5b4a27f5a5b62f900/expr.png\" style=\"display:inline;vertical-align:middle;\" /></a></td></tr>\n",
       "<tr><td>19</td><td>Literal</td><td></td><td><a class=\"ProveItLink\" href=\"../../common/5eaa43008f05c06941080a12337ff182ea14996e0/expr.ipynb\"><img src=\"../../common/5eaa43008f05c06941080a12337ff182ea14996e0/expr.png\" style=\"display:inline;vertical-align:middle;\" /></a></td></tr>\n",
       "<tr><td>20</td><td>NamedExprs</td><td>element: 21<br>targets: 22<br></td><td><a class=\"ProveItLink\" href=\"../../common/8fb510f8b1fc923ec29d1f69d3e18a436f4171a10/expr.ipynb\"><img src=\"../../common/8fb510f8b1fc923ec29d1f69d3e18a436f4171a10/expr.png\" style=\"display:inline;vertical-align:middle;\" /></a></td></tr>\n",
       "<tr><td>21</td><td>Operation</td><td>operator:&nbsp;23<br>operands:&nbsp;24<br></td><td><a class=\"ProveItLink\" href=\"../../common/ee3d8427cd8b9df937d19c6f81fd075bd0ea2a740/expr.ipynb\"><img src=\"../../common/ee3d8427cd8b9df937d19c6f81fd075bd0ea2a740/expr.png\" style=\"display:inline;vertical-align:middle;\" /></a></td></tr>\n",
       "<tr><td>22</td><td>Operation</td><td>operator:&nbsp;25<br>operands:&nbsp;26<br></td><td><a class=\"ProveItLink\" href=\"../../common/706881e668df69cca5d841d8343295e596a7a0c70/expr.ipynb\"><img src=\"../../common/706881e668df69cca5d841d8343295e596a7a0c70/expr.png\" style=\"display:inline;vertical-align:middle;\" /></a></td></tr>\n",
       "<tr><td>23</td><td>Literal</td><td></td><td><a class=\"ProveItLink\" href=\"../../common/deea8715ce6701df08bbe1d049112a0bad4965c20/expr.ipynb\"><img src=\"../../common/deea8715ce6701df08bbe1d049112a0bad4965c20/expr.png\" style=\"display:inline;vertical-align:middle;\" /></a></td></tr>\n",
       "<tr><td>24</td><td>NamedExprs</td><td>state: 27<br>part: 28<br></td><td><a class=\"ProveItLink\" href=\"../../common/a75c67a66ebba677292193e862375e4a61161fb80/expr.ipynb\"><img src=\"../../common/a75c67a66ebba677292193e862375e4a61161fb80/expr.png\" style=\"display:inline;vertical-align:middle;\" /></a></td></tr>\n",
       "<tr><td>25</td><td>Literal</td><td></td><td><a class=\"ProveItLink\" href=\"../../../../../../numbers/number_sets/integers/__pv_it/common/92f3a0a77e3c3ea8e4a5c8674edadc54e4f57d550/expr.ipynb\"><img src=\"../../../../../../numbers/number_sets/integers/__pv_it/common/92f3a0a77e3c3ea8e4a5c8674edadc54e4f57d550/expr.png\" style=\"display:inline;vertical-align:middle;\" /></a></td></tr>\n",
       "<tr><td>26</td><td>ExprTuple</td><td>29, 30</td><td><a class=\"ProveItLink\" href=\"../../common/940639d2e54ef77a90c8aa1312af4ae333846c530/expr.ipynb\"><img src=\"../../common/940639d2e54ef77a90c8aa1312af4ae333846c530/expr.png\" style=\"display:inline;vertical-align:middle;\" /></a></td></tr>\n",
       "<tr><td>27</td><td>Variable</td><td></td><td><a class=\"ProveItLink\" href=\"../../../../__pv_it/common/798a4b85c58eead0b86ebff17277cd7c4a79a3160/expr.ipynb\"><img src=\"../../../../__pv_it/common/798a4b85c58eead0b86ebff17277cd7c4a79a3160/expr.png\" style=\"display:inline;vertical-align:middle;\" /></a></td></tr>\n",
       "<tr><td>28</td><td>Variable</td><td></td><td><a class=\"ProveItLink\" href=\"../../../../../../core_expr_types/__pv_it/common/006c465e50948aa2b52285e2de47974f741255cc0/expr.ipynb\"><img src=\"../../../../../../core_expr_types/__pv_it/common/006c465e50948aa2b52285e2de47974f741255cc0/expr.png\" style=\"display:inline;vertical-align:middle;\" /></a></td></tr>\n",
       "<tr><td>29</td><td>Literal</td><td></td><td><a class=\"ProveItLink\" href=\"../../../../../../numbers/numerals/__pv_it/common/682157d4892d216d9e5626ed533aff9b56b9506e0/expr.ipynb\"><img src=\"../../../../../../numbers/numerals/__pv_it/common/682157d4892d216d9e5626ed533aff9b56b9506e0/expr.png\" style=\"display:inline;vertical-align:middle;\" /></a></td></tr>\n",
       "<tr><td>30</td><td>Variable</td><td></td><td><a class=\"ProveItLink\" href=\"../../../../../../__pv_it/common/674a03b9c3ca221b3aabd5636837b31528ff33830/expr.ipynb\"><img src=\"../../../../../../__pv_it/common/674a03b9c3ca221b3aabd5636837b31528ff33830/expr.png\" style=\"display:inline;vertical-align:middle;\" /></a></td></tr>\n",
       "</table>\n"
      ],
      "text/plain": [
       "0. Pr(QCIRCUIT(VertExprArray(([MULTI_QUBIT_ELEM]{element:[INPUT]{state:|psi>, part:1}, targets:{1 .. m}}, [MULTI_QUBIT_ELEM]{element:[INPUT]{state:|psi>, part:2}, targets:{1 .. m}}, ..., [MULTI_QUBIT_ELEM]{element:[INPUT]{state:|psi>, part:m}, targets:{1 .. m}}), \\\\ V_{1}, ..., V_{j}))) = 1\n",
       "   core type: Operation\n",
       "   operator: 1\n",
       "   operands: 2\n",
       "1. =\n",
       "   core type: Literal\n",
       "   sub-expressions: \n",
       "2. (Pr(QCIRCUIT(VertExprArray(([MULTI_QUBIT_ELEM]{element:[INPUT]{state:|psi>, part:1}, targets:{1 .. m}}, [MULTI_QUBIT_ELEM]{element:[INPUT]{state:|psi>, part:2}, targets:{1 .. m}}, ..., [MULTI_QUBIT_ELEM]{element:[INPUT]{state:|psi>, part:m}, targets:{1 .. m}}), \\\\ V_{1}, ..., V_{j}))), 1)\n",
       "   core type: ExprTuple\n",
       "   sub-expressions: 3, 29\n",
       "3. Pr(QCIRCUIT(VertExprArray(([MULTI_QUBIT_ELEM]{element:[INPUT]{state:|psi>, part:1}, targets:{1 .. m}}, [MULTI_QUBIT_ELEM]{element:[INPUT]{state:|psi>, part:2}, targets:{1 .. m}}, ..., [MULTI_QUBIT_ELEM]{element:[INPUT]{state:|psi>, part:m}, targets:{1 .. m}}), \\\\ V_{1}, ..., V_{j})))\n",
       "   core type: Operation\n",
       "   operator: 4\n",
       "   operand: 6\n",
       "4. Pr\n",
       "   core type: Literal\n",
       "   sub-expressions: \n",
       "5. (QCIRCUIT(VertExprArray(([MULTI_QUBIT_ELEM]{element:[INPUT]{state:|psi>, part:1}, targets:{1 .. m}}, [MULTI_QUBIT_ELEM]{element:[INPUT]{state:|psi>, part:2}, targets:{1 .. m}}, ..., [MULTI_QUBIT_ELEM]{element:[INPUT]{state:|psi>, part:m}, targets:{1 .. m}}), \\\\ V_{1}, ..., V_{j})))\n",
       "   core type: ExprTuple\n",
       "   sub-expressions: 6\n",
       "6. QCIRCUIT(VertExprArray(([MULTI_QUBIT_ELEM]{element:[INPUT]{state:|psi>, part:1}, targets:{1 .. m}}, [MULTI_QUBIT_ELEM]{element:[INPUT]{state:|psi>, part:2}, targets:{1 .. m}}, ..., [MULTI_QUBIT_ELEM]{element:[INPUT]{state:|psi>, part:m}, targets:{1 .. m}}), \\\\ V_{1}, ..., V_{j}))\n",
       "   core type: Operation\n",
       "   operator: 7\n",
       "   operands: 8\n",
       "7. QCIRCUIT\n",
       "   core type: Literal\n",
       "   sub-expressions: \n",
       "8. VertExprArray(([MULTI_QUBIT_ELEM]{element:[INPUT]{state:|psi>, part:1}, targets:{1 .. m}}, [MULTI_QUBIT_ELEM]{element:[INPUT]{state:|psi>, part:2}, targets:{1 .. m}}, ..., [MULTI_QUBIT_ELEM]{element:[INPUT]{state:|psi>, part:m}, targets:{1 .. m}}), \\\\ V_{1}, ..., V_{j})\n",
       "   core type: ExprTuple\n",
       "   sub-expressions: 9, 10\n",
       "9. ([MULTI_QUBIT_ELEM]{element:[INPUT]{state:|psi>, part:1}, targets:{1 .. m}}, [MULTI_QUBIT_ELEM]{element:[INPUT]{state:|psi>, part:2}, targets:{1 .. m}}, ..., [MULTI_QUBIT_ELEM]{element:[INPUT]{state:|psi>, part:m}, targets:{1 .. m}})\n",
       "   core type: ExprTuple\n",
       "   sub-expressions: 11\n",
       "10. V_{1}, ..., V_{j}\n",
       "    core type: ExprRange\n",
       "    lambda_map: 12\n",
       "    start_index: 29\n",
       "    end_index: 13\n",
       "11. [MULTI_QUBIT_ELEM]{element:[INPUT]{state:|psi>, part:1}, targets:{1 .. m}}, [MULTI_QUBIT_ELEM]{element:[INPUT]{state:|psi>, part:2}, targets:{1 .. m}}, ..., [MULTI_QUBIT_ELEM]{element:[INPUT]{state:|psi>, part:m}, targets:{1 .. m}}\n",
       "    core type: ExprRange\n",
       "    lambda_map: 14\n",
       "    start_index: 29\n",
       "    end_index: 30\n",
       "12. _a -> V_{_a}\n",
       "    core type: Lambda\n",
       "    parameter: 28\n",
       "    body: 15\n",
       "13. j\n",
       "    core type: Variable\n",
       "    sub-expressions: \n",
       "14. _a -> [MULTI_QUBIT_ELEM]{element:[INPUT]{state:|psi>, part:_a}, targets:{1 .. m}}\n",
       "    core type: Lambda\n",
       "    parameter: 28\n",
       "    body: 16\n",
       "15. V_{_a}\n",
       "    core type: IndexedVar\n",
       "variable: 17\n",
       "index: 28\n",
       "16. [MULTI_QUBIT_ELEM]{element:[INPUT]{state:|psi>, part:_a}, targets:{1 .. m}}\n",
       "    core type: Operation\n",
       "    operator: 19\n",
       "    operands: 20\n",
       "17. V\n",
       "    core type: Variable\n",
       "    sub-expressions: \n",
       "18. (_a)\n",
       "    core type: ExprTuple\n",
       "    sub-expressions: 28\n",
       "19. MULTI_QUBIT_ELEM\n",
       "    core type: Literal\n",
       "    sub-expressions: \n",
       "20. {element:[INPUT]{state:|psi>, part:_a}, targets:{1 .. m}}\n",
       "    core type: NamedExprs\n",
       "    element: 21\n",
       "    targets: 22\n",
       "21. [INPUT]{state:|psi>, part:_a}\n",
       "    core type: Operation\n",
       "    operator: 23\n",
       "    operands: 24\n",
       "22. {1 .. m}\n",
       "    core type: Operation\n",
       "    operator: 25\n",
       "    operands: 26\n",
       "23. INPUT\n",
       "    core type: Literal\n",
       "    sub-expressions: \n",
       "24. {state:|psi>, part:_a}\n",
       "    core type: NamedExprs\n",
       "    state: 27\n",
       "    part: 28\n",
       "25. Interval\n",
       "    core type: Literal\n",
       "    sub-expressions: \n",
       "26. (1, m)\n",
       "    core type: ExprTuple\n",
       "    sub-expressions: 29, 30\n",
       "27. |psi>\n",
       "    core type: Variable\n",
       "    sub-expressions: \n",
       "28. _a\n",
       "    core type: Variable\n",
       "    sub-expressions: \n",
       "29. 1\n",
       "    core type: Literal\n",
       "    sub-expressions: \n",
       "30. m\n",
       "    core type: Variable\n",
       "    sub-expressions: "
      ]
     },
     "metadata": {},
     "output_type": "display_data"
    }
   ],
   "source": [
    "# display the expression information\n",
    "stored_expr.expr_info()"
   ]
  },
  {
   "cell_type": "code",
   "execution_count": null,
   "metadata": {},
   "outputs": [],
   "source": []
  }
 ],
 "metadata": {
  "kernelspec": {
   "display_name": "Python 3",
   "language": "python",
   "name": "python3"
  }
 },
 "nbformat": 4,
 "nbformat_minor": 0
}