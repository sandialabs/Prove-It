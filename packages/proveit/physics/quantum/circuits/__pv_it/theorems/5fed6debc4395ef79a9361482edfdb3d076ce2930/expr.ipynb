{
 "cells": [
  {
   "cell_type": "markdown",
   "metadata": {},
   "source": [
    "Expression of type <a class=\"ProveItLink\" href=\"../../../../../../../../doc/html/api/proveit.ExprTuple.html\">ExprTuple</a>\n",
    "=======================\n",
    "# from the theory of <a class=\"ProveItLink\" href=\"../../../_theory_nbs_/theory.ipynb\">proveit.physics.quantum.circuits</a>"
   ]
  },
  {
   "cell_type": "code",
   "execution_count": 1,
   "metadata": {},
   "outputs": [],
   "source": [
    "import proveit\n",
    "# Automation is not needed when building an expression:\n",
    "proveit.defaults.automation = False # This will speed things up.\n",
    "proveit.defaults.inline_pngs = False # Makes files smaller.\n",
    "%load_expr # Load the stored expression as 'stored_expr'\n",
    "# import Expression classes needed to build the expression\n",
    "from proveit import A, B, Conditional, ExprTuple, Lambda, S, k\n",
    "from proveit.logic import NotEquals\n",
    "from proveit.physics.quantum.circuits import MultiQubitElem, Output"
   ]
  },
  {
   "cell_type": "code",
   "execution_count": 2,
   "metadata": {},
   "outputs": [
    {
     "data": {
      "text/html": [
       "<strong id=\"expr\">expr:</strong> <a class=\"ProveItLink\" href=\"expr.ipynb\"><img src=\"expr.png\" style=\"display:inline;vertical-align:middle;\" /></a><br>"
      ],
      "text/plain": [
       "<IPython.core.display.HTML object>"
      ]
     },
     "metadata": {},
     "output_type": "display_data"
    }
   ],
   "source": [
    "# build up the expression from sub-expressions\n",
    "expr = ExprTuple(Lambda([A, B, S], Conditional(NotEquals(MultiQubitElem(element = Output(state = A, part = k), targets = S), MultiQubitElem(element = Output(state = B, part = k), targets = S)), NotEquals(A, B))))"
   ]
  },
  {
   "cell_type": "code",
   "execution_count": 3,
   "metadata": {},
   "outputs": [
    {
     "name": "stdout",
     "output_type": "stream",
     "text": [
      "Passed sanity check: expr matches stored_expr\n"
     ]
    }
   ],
   "source": [
    "# check that the built expression is the same as the stored expression\n",
    "assert expr == stored_expr\n",
    "assert expr._style_id == stored_expr._style_id\n",
    "print(\"Passed sanity check: expr matches stored_expr\")"
   ]
  },
  {
   "cell_type": "code",
   "execution_count": 4,
   "metadata": {},
   "outputs": [
    {
     "name": "stdout",
     "output_type": "stream",
     "text": [
      "\\left(\\left(A, B, S\\right) \\mapsto \\left\\{\\begin{array}{c} \\Qcircuit@C=1em @R=.7em{\n",
      "& & \\qout{A~\\mbox{part}~k~\\mbox{on}~S} \n",
      "} \\end{array} \\neq \\begin{array}{c} \\Qcircuit@C=1em @R=.7em{\n",
      "& & \\qout{B~\\mbox{part}~k~\\mbox{on}~S} \n",
      "} \\end{array} \\textrm{ if } A \\neq B\\right..\\right)\n"
     ]
    }
   ],
   "source": [
    "# Show the LaTeX representation of the expression for convenience if you need it.\n",
    "print(stored_expr.latex())"
   ]
  },
  {
   "cell_type": "code",
   "execution_count": 5,
   "metadata": {},
   "outputs": [
    {
     "data": {
      "text/html": [
       "no style options"
      ],
      "text/plain": [
       "no style options"
      ]
     },
     "metadata": {},
     "output_type": "display_data"
    }
   ],
   "source": [
    "stored_expr.style_options()"
   ]
  },
  {
   "cell_type": "code",
   "execution_count": 6,
   "metadata": {},
   "outputs": [
    {
     "data": {
      "text/html": [
       "<table><tr><th>&nbsp;</th><th>core type</th><th>sub-expressions</th><th>expression</th></tr>\n",
       "<tr><td>0</td><td>ExprTuple</td><td>1</td><td><a class=\"ProveItLink\" href=\"expr.ipynb\"><img src=\"expr.png\" style=\"display:inline;vertical-align:middle;\" /></a></td></tr>\n",
       "<tr><td>1</td><td>Lambda</td><td>parameters:&nbsp;2<br>body:&nbsp;3<br></td><td><a class=\"ProveItLink\" href=\"../13957ecb3f48d0c2856d1fe8db95e160b11a247c0/expr.ipynb\"><img src=\"../13957ecb3f48d0c2856d1fe8db95e160b11a247c0/expr.png\" style=\"display:inline;vertical-align:middle;\" /></a></td></tr>\n",
       "<tr><td>2</td><td>ExprTuple</td><td>20, 21, 16</td><td><a class=\"ProveItLink\" href=\"../3f13e80caebbaa9f6dd61872b8afbc0dfc888fc20/expr.ipynb\"><img src=\"../3f13e80caebbaa9f6dd61872b8afbc0dfc888fc20/expr.png\" style=\"display:inline;vertical-align:middle;\" /></a></td></tr>\n",
       "<tr><td>3</td><td>Conditional</td><td>value:&nbsp;4<br>condition:&nbsp;5<br></td><td><a class=\"ProveItLink\" href=\"../e550a9d6a20c43ee1948fea33fb1e5821812a1110/expr.ipynb\"><img src=\"../e550a9d6a20c43ee1948fea33fb1e5821812a1110/expr.png\" style=\"display:inline;vertical-align:middle;\" /></a></td></tr>\n",
       "<tr><td>4</td><td>Operation</td><td>operator:&nbsp;7<br>operands:&nbsp;6<br></td><td><a class=\"ProveItLink\" href=\"../cee77de3e4f1b4fea0f79a56cb81d9fda48fa0730/expr.ipynb\"><img src=\"../cee77de3e4f1b4fea0f79a56cb81d9fda48fa0730/expr.png\" style=\"display:inline;vertical-align:middle;\" /></a></td></tr>\n",
       "<tr><td>5</td><td>Operation</td><td>operator:&nbsp;7<br>operands:&nbsp;8<br></td><td><a class=\"ProveItLink\" href=\"../d4be4a9f11513af87731ff6c565ac50e13687fa10/expr.ipynb\"><img src=\"../d4be4a9f11513af87731ff6c565ac50e13687fa10/expr.png\" style=\"display:inline;vertical-align:middle;\" /></a></td></tr>\n",
       "<tr><td>6</td><td>ExprTuple</td><td>9, 10</td><td><a class=\"ProveItLink\" href=\"../7be470ccba9292750a772d481f8faac9762d145f0/expr.ipynb\"><img src=\"../7be470ccba9292750a772d481f8faac9762d145f0/expr.png\" style=\"display:inline;vertical-align:middle;\" /></a></td></tr>\n",
       "<tr><td>7</td><td>Literal</td><td></td><td><a class=\"ProveItLink\" href=\"../../../../../../logic/equality/__pv_it/common/d96270bc9bb1bad54f773b1c04bfb343a739642c0/expr.ipynb\"><img src=\"../../../../../../logic/equality/__pv_it/common/d96270bc9bb1bad54f773b1c04bfb343a739642c0/expr.png\" style=\"display:inline;vertical-align:middle;\" /></a></td></tr>\n",
       "<tr><td>8</td><td>ExprTuple</td><td>20, 21</td><td><a class=\"ProveItLink\" href=\"../e791ee87807ed43d7ac6262f8f70c4ffc8f24c940/expr.ipynb\"><img src=\"../e791ee87807ed43d7ac6262f8f70c4ffc8f24c940/expr.png\" style=\"display:inline;vertical-align:middle;\" /></a></td></tr>\n",
       "<tr><td>9</td><td>Operation</td><td>operator:&nbsp;12<br>operands:&nbsp;11<br></td><td><a class=\"ProveItLink\" href=\"../ca4af2edde12d9135aec6875dd18b8ce58c0fded0/expr.ipynb\"><img src=\"../ca4af2edde12d9135aec6875dd18b8ce58c0fded0/expr.png\" style=\"display:inline;vertical-align:middle;\" /></a></td></tr>\n",
       "<tr><td>10</td><td>Operation</td><td>operator:&nbsp;12<br>operands:&nbsp;13<br></td><td><a class=\"ProveItLink\" href=\"../9b485da240d6113a8f8a0a1bafcc5388a5cbcb5c0/expr.ipynb\"><img src=\"../9b485da240d6113a8f8a0a1bafcc5388a5cbcb5c0/expr.png\" style=\"display:inline;vertical-align:middle;\" /></a></td></tr>\n",
       "<tr><td>11</td><td>NamedExprs</td><td>element: 14<br>targets: 16<br></td><td><a class=\"ProveItLink\" href=\"../9221f1fc1b893c33ac32d4fcd630663898654cf20/expr.ipynb\"><img src=\"../9221f1fc1b893c33ac32d4fcd630663898654cf20/expr.png\" style=\"display:inline;vertical-align:middle;\" /></a></td></tr>\n",
       "<tr><td>12</td><td>Literal</td><td></td><td><a class=\"ProveItLink\" href=\"../../common/5eaa43008f05c06941080a12337ff182ea14996e0/expr.ipynb\"><img src=\"../../common/5eaa43008f05c06941080a12337ff182ea14996e0/expr.png\" style=\"display:inline;vertical-align:middle;\" /></a></td></tr>\n",
       "<tr><td>13</td><td>NamedExprs</td><td>element: 15<br>targets: 16<br></td><td><a class=\"ProveItLink\" href=\"../a097174d5d85ba1efd7c4383d48a0a787d551bef0/expr.ipynb\"><img src=\"../a097174d5d85ba1efd7c4383d48a0a787d551bef0/expr.png\" style=\"display:inline;vertical-align:middle;\" /></a></td></tr>\n",
       "<tr><td>14</td><td>Operation</td><td>operator:&nbsp;18<br>operands:&nbsp;17<br></td><td><a class=\"ProveItLink\" href=\"../23534ccd8721ee4aed3e0760529484e2e44ea9b00/expr.ipynb\"><img src=\"../23534ccd8721ee4aed3e0760529484e2e44ea9b00/expr.png\" style=\"display:inline;vertical-align:middle;\" /></a></td></tr>\n",
       "<tr><td>15</td><td>Operation</td><td>operator:&nbsp;18<br>operands:&nbsp;19<br></td><td><a class=\"ProveItLink\" href=\"../f909a5363c3cff0f1d6585059c9d68d193bc93670/expr.ipynb\"><img src=\"../f909a5363c3cff0f1d6585059c9d68d193bc93670/expr.png\" style=\"display:inline;vertical-align:middle;\" /></a></td></tr>\n",
       "<tr><td>16</td><td>Variable</td><td></td><td><a class=\"ProveItLink\" href=\"../../../../../../__pv_it/common/38f47c5670ea8c5b56253448e95d8afb56bc09b40/expr.ipynb\"><img src=\"../../../../../../__pv_it/common/38f47c5670ea8c5b56253448e95d8afb56bc09b40/expr.png\" style=\"display:inline;vertical-align:middle;\" /></a></td></tr>\n",
       "<tr><td>17</td><td>NamedExprs</td><td>state: 20<br>part: 22<br></td><td><a class=\"ProveItLink\" href=\"../60d1c706e2fe76ac04375d09d1406cc9df173e570/expr.ipynb\"><img src=\"../60d1c706e2fe76ac04375d09d1406cc9df173e570/expr.png\" style=\"display:inline;vertical-align:middle;\" /></a></td></tr>\n",
       "<tr><td>18</td><td>Literal</td><td></td><td><a class=\"ProveItLink\" href=\"../../common/00345a9c4f4d361e0b6e8bbbbe5a33a8ec86a20b0/expr.ipynb\"><img src=\"../../common/00345a9c4f4d361e0b6e8bbbbe5a33a8ec86a20b0/expr.png\" style=\"display:inline;vertical-align:middle;\" /></a></td></tr>\n",
       "<tr><td>19</td><td>NamedExprs</td><td>state: 21<br>part: 22<br></td><td><a class=\"ProveItLink\" href=\"../d65f5c2affc0d56f6cd14dfe76fed1dfc2921d710/expr.ipynb\"><img src=\"../d65f5c2affc0d56f6cd14dfe76fed1dfc2921d710/expr.png\" style=\"display:inline;vertical-align:middle;\" /></a></td></tr>\n",
       "<tr><td>20</td><td>Variable</td><td></td><td><a class=\"ProveItLink\" href=\"../../../../../../__pv_it/common/09585084922504426caf1db2ff588a23a0932a960/expr.ipynb\"><img src=\"../../../../../../__pv_it/common/09585084922504426caf1db2ff588a23a0932a960/expr.png\" style=\"display:inline;vertical-align:middle;\" /></a></td></tr>\n",
       "<tr><td>21</td><td>Variable</td><td></td><td><a class=\"ProveItLink\" href=\"../../../../../../__pv_it/common/a9162d1c3cc0470c02e5daf414500903a7a419230/expr.ipynb\"><img src=\"../../../../../../__pv_it/common/a9162d1c3cc0470c02e5daf414500903a7a419230/expr.png\" style=\"display:inline;vertical-align:middle;\" /></a></td></tr>\n",
       "<tr><td>22</td><td>Variable</td><td></td><td><a class=\"ProveItLink\" href=\"../../../../../../__pv_it/common/63b7c64bf9ec7a04ecc396c7a1670f3f12fb59490/expr.ipynb\"><img src=\"../../../../../../__pv_it/common/63b7c64bf9ec7a04ecc396c7a1670f3f12fb59490/expr.png\" style=\"display:inline;vertical-align:middle;\" /></a></td></tr>\n",
       "</table>\n"
      ],
      "text/plain": [
       "0. ((A, B, S) -> {[MULTI_QUBIT_ELEM]{element:[OUTPUT]{state:A, part:k}, targets:S} != [MULTI_QUBIT_ELEM]{element:[OUTPUT]{state:B, part:k}, targets:S} if A != B.)\n",
       "   core type: ExprTuple\n",
       "   sub-expressions: 1\n",
       "1. (A, B, S) -> {[MULTI_QUBIT_ELEM]{element:[OUTPUT]{state:A, part:k}, targets:S} != [MULTI_QUBIT_ELEM]{element:[OUTPUT]{state:B, part:k}, targets:S} if A != B.\n",
       "   core type: Lambda\n",
       "   parameters: 2\\n   body: 3\n",
       "2. (A, B, S)\n",
       "   core type: ExprTuple\n",
       "   sub-expressions: 20, 21, 16\n",
       "3. {[MULTI_QUBIT_ELEM]{element:[OUTPUT]{state:A, part:k}, targets:S} != [MULTI_QUBIT_ELEM]{element:[OUTPUT]{state:B, part:k}, targets:S} if A != B.\n",
       "   core type: Conditional\n",
       "   value: 4\n",
       "   condition: 5\n",
       "4. [MULTI_QUBIT_ELEM]{element:[OUTPUT]{state:A, part:k}, targets:S} != [MULTI_QUBIT_ELEM]{element:[OUTPUT]{state:B, part:k}, targets:S}\n",
       "   core type: Operation\n",
       "   operator: 7\n",
       "   operands: 6\n",
       "5. A != B\n",
       "   core type: Operation\n",
       "   operator: 7\n",
       "   operands: 8\n",
       "6. ([MULTI_QUBIT_ELEM]{element:[OUTPUT]{state:A, part:k}, targets:S}, [MULTI_QUBIT_ELEM]{element:[OUTPUT]{state:B, part:k}, targets:S})\n",
       "   core type: ExprTuple\n",
       "   sub-expressions: 9, 10\n",
       "7. !=\n",
       "   core type: Literal\n",
       "   sub-expressions: \n",
       "8. (A, B)\n",
       "   core type: ExprTuple\n",
       "   sub-expressions: 20, 21\n",
       "9. [MULTI_QUBIT_ELEM]{element:[OUTPUT]{state:A, part:k}, targets:S}\n",
       "   core type: Operation\n",
       "   operator: 12\n",
       "   operands: 11\n",
       "10. [MULTI_QUBIT_ELEM]{element:[OUTPUT]{state:B, part:k}, targets:S}\n",
       "    core type: Operation\n",
       "    operator: 12\n",
       "    operands: 13\n",
       "11. {element:[OUTPUT]{state:A, part:k}, targets:S}\n",
       "    core type: NamedExprs\n",
       "    element: 14\n",
       "    targets: 16\n",
       "12. MULTI_QUBIT_ELEM\n",
       "    core type: Literal\n",
       "    sub-expressions: \n",
       "13. {element:[OUTPUT]{state:B, part:k}, targets:S}\n",
       "    core type: NamedExprs\n",
       "    element: 15\n",
       "    targets: 16\n",
       "14. [OUTPUT]{state:A, part:k}\n",
       "    core type: Operation\n",
       "    operator: 18\n",
       "    operands: 17\n",
       "15. [OUTPUT]{state:B, part:k}\n",
       "    core type: Operation\n",
       "    operator: 18\n",
       "    operands: 19\n",
       "16. S\n",
       "    core type: Variable\n",
       "    sub-expressions: \n",
       "17. {state:A, part:k}\n",
       "    core type: NamedExprs\n",
       "    state: 20\n",
       "    part: 22\n",
       "18. OUTPUT\n",
       "    core type: Literal\n",
       "    sub-expressions: \n",
       "19. {state:B, part:k}\n",
       "    core type: NamedExprs\n",
       "    state: 21\n",
       "    part: 22\n",
       "20. A\n",
       "    core type: Variable\n",
       "    sub-expressions: \n",
       "21. B\n",
       "    core type: Variable\n",
       "    sub-expressions: \n",
       "22. k\n",
       "    core type: Variable\n",
       "    sub-expressions: "
      ]
     },
     "metadata": {},
     "output_type": "display_data"
    }
   ],
   "source": [
    "# display the expression information\n",
    "stored_expr.expr_info()"
   ]
  },
  {
   "cell_type": "code",
   "execution_count": null,
   "metadata": {},
   "outputs": [],
   "source": []
  }
 ],
 "metadata": {
  "kernelspec": {
   "display_name": "Python 3",
   "language": "python",
   "name": "python3"
  }
 },
 "nbformat": 4,
 "nbformat_minor": 0
}