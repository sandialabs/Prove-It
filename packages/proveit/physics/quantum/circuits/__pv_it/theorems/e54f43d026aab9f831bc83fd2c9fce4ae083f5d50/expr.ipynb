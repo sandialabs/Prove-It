{
 "cells": [
  {
   "cell_type": "markdown",
   "metadata": {},
   "source": [
    "Expression of type <a class=\"ProveItLink\" href=\"../../../../../../../../doc/html/api/proveit.ExprTuple.html\">ExprTuple</a>\n",
    "=======================\n",
    "# from the theory of <a class=\"ProveItLink\" href=\"../../../_theory_nbs_/theory.ipynb\">proveit.physics.quantum.circuits</a>"
   ]
  },
  {
   "cell_type": "code",
   "execution_count": 1,
   "metadata": {},
   "outputs": [],
   "source": [
    "import proveit\n",
    "# Automation is not needed when building an expression:\n",
    "proveit.defaults.automation = False # This will speed things up.\n",
    "proveit.defaults.inline_pngs = False # Makes files smaller.\n",
    "%load_expr # Load the stored expression as 'stored_expr'\n",
    "# import Expression classes needed to build the expression\n",
    "from proveit import A, ExprTuple, k\n",
    "from proveit.numbers import Interval, one\n",
    "from proveit.physics.quantum.circuits import Gate, MultiQubitElem"
   ]
  },
  {
   "cell_type": "code",
   "execution_count": 2,
   "metadata": {},
   "outputs": [
    {
     "data": {
      "text/html": [
       "<strong id=\"expr\">expr:</strong> <a class=\"ProveItLink\" href=\"expr.ipynb\"><img src=\"expr.png\" style=\"display:inline;vertical-align:middle;\" /></a><br>"
      ],
      "text/plain": [
       "<IPython.core.display.HTML object>"
      ]
     },
     "metadata": {},
     "output_type": "display_data"
    }
   ],
   "source": [
    "# build up the expression from sub-expressions\n",
    "expr = ExprTuple(MultiQubitElem(element = Gate(operation = A, part = one), targets = Interval(k, k)), Gate(operation = A))"
   ]
  },
  {
   "cell_type": "code",
   "execution_count": 3,
   "metadata": {},
   "outputs": [
    {
     "name": "stdout",
     "output_type": "stream",
     "text": [
      "Passed sanity check: expr matches stored_expr\n"
     ]
    }
   ],
   "source": [
    "# check that the built expression is the same as the stored expression\n",
    "assert expr == stored_expr\n",
    "assert expr._style_id == stored_expr._style_id\n",
    "print(\"Passed sanity check: expr matches stored_expr\")"
   ]
  },
  {
   "cell_type": "code",
   "execution_count": 4,
   "metadata": {},
   "outputs": [
    {
     "name": "stdout",
     "output_type": "stream",
     "text": [
      "\\left(\\begin{array}{c} \\Qcircuit@C=1em @R=.7em{\n",
      "& & \\gate{A~\\mbox{part}~1~\\mbox{on}~\\{k~\\ldotp \\ldotp~k\\}} & \\qw \n",
      "} \\end{array}, \\begin{array}{c} \\Qcircuit@C=1em @R=.7em{\n",
      "& & \\gate{A} & \\qw \n",
      "} \\end{array}\\right)\n"
     ]
    }
   ],
   "source": [
    "# Show the LaTeX representation of the expression for convenience if you need it.\n",
    "print(stored_expr.latex())"
   ]
  },
  {
   "cell_type": "code",
   "execution_count": 5,
   "metadata": {},
   "outputs": [
    {
     "data": {
      "text/html": [
       "<table>\n",
       "<tr><th>name</th><th>description</th><th>default</th><th>current value</th><th>related methods</th></tr><tr><td>wrap_positions</td><td>position(s) at which wrapping is to occur; 'n' is after the nth comma.</td><td>()</td><td>()</td><td>('with_wrapping_at',)</td></tr>\n",
       "<tr><td>justification</td><td>if any wrap positions are set, justify to the 'left', 'center', or 'right'</td><td>left</td><td>left</td><td>('with_justification',)</td></tr>\n",
       "</table>\n"
      ],
      "text/plain": [
       "style name: wrap_positions\n",
       "description: position(s) at which wrapping is to occur; 'n' is after the nth comma.\n",
       "default: ()\n",
       "current value: ()\n",
       "related methods: ('with_wrapping_at',)\n",
       "style name: justification\n",
       "description: if any wrap positions are set, justify to the 'left', 'center', or 'right'\n",
       "default: left\n",
       "current value: left\n",
       "related methods: ('with_justification',)"
      ]
     },
     "metadata": {},
     "output_type": "display_data"
    }
   ],
   "source": [
    "stored_expr.style_options()"
   ]
  },
  {
   "cell_type": "code",
   "execution_count": 6,
   "metadata": {},
   "outputs": [
    {
     "data": {
      "text/html": [
       "<table><tr><th>&nbsp;</th><th>core type</th><th>sub-expressions</th><th>expression</th></tr>\n",
       "<tr><td>0</td><td>ExprTuple</td><td>1, 2</td><td><a class=\"ProveItLink\" href=\"expr.ipynb\"><img src=\"expr.png\" style=\"display:inline;vertical-align:middle;\" /></a></td></tr>\n",
       "<tr><td>1</td><td>Operation</td><td>operator:&nbsp;3<br>operands:&nbsp;4<br></td><td><a class=\"ProveItLink\" href=\"../80a203be7fdd5e785b540006baac97f22d90fdf90/expr.ipynb\"><img src=\"../80a203be7fdd5e785b540006baac97f22d90fdf90/expr.png\" style=\"display:inline;vertical-align:middle;\" /></a></td></tr>\n",
       "<tr><td>2</td><td>Operation</td><td>operator:&nbsp;8<br>operands:&nbsp;5<br></td><td><a class=\"ProveItLink\" href=\"../881310b08c2fa67b6f39b57c27585862438c228a0/expr.ipynb\"><img src=\"../881310b08c2fa67b6f39b57c27585862438c228a0/expr.png\" style=\"display:inline;vertical-align:middle;\" /></a></td></tr>\n",
       "<tr><td>3</td><td>Literal</td><td></td><td><a class=\"ProveItLink\" href=\"../../common/5eaa43008f05c06941080a12337ff182ea14996e0/expr.ipynb\"><img src=\"../../common/5eaa43008f05c06941080a12337ff182ea14996e0/expr.png\" style=\"display:inline;vertical-align:middle;\" /></a></td></tr>\n",
       "<tr><td>4</td><td>NamedExprs</td><td>element: 6<br>targets: 7<br></td><td><a class=\"ProveItLink\" href=\"../079e029ccb832bab0e60babcffcad1a85b1a91860/expr.ipynb\"><img src=\"../079e029ccb832bab0e60babcffcad1a85b1a91860/expr.png\" style=\"display:inline;vertical-align:middle;\" /></a></td></tr>\n",
       "<tr><td>5</td><td>NamedExprs</td><td>operation: 12<br></td><td><a class=\"ProveItLink\" href=\"../22218c32281509300adb94dcb934bf62f3d956d90/expr.ipynb\"><img src=\"../22218c32281509300adb94dcb934bf62f3d956d90/expr.png\" style=\"display:inline;vertical-align:middle;\" /></a></td></tr>\n",
       "<tr><td>6</td><td>Operation</td><td>operator:&nbsp;8<br>operands:&nbsp;9<br></td><td><a class=\"ProveItLink\" href=\"../854635930f5af63df674b76563ece10a23b29ba10/expr.ipynb\"><img src=\"../854635930f5af63df674b76563ece10a23b29ba10/expr.png\" style=\"display:inline;vertical-align:middle;\" /></a></td></tr>\n",
       "<tr><td>7</td><td>Operation</td><td>operator:&nbsp;10<br>operands:&nbsp;11<br></td><td><a class=\"ProveItLink\" href=\"../ef0b4e3a7ac66c7100ce29c0017a21764f20660a0/expr.ipynb\"><img src=\"../ef0b4e3a7ac66c7100ce29c0017a21764f20660a0/expr.png\" style=\"display:inline;vertical-align:middle;\" /></a></td></tr>\n",
       "<tr><td>8</td><td>Literal</td><td></td><td><a class=\"ProveItLink\" href=\"../../common/ead8f6f18d2b8c24f1ed8db33df594edd77c9bcc0/expr.ipynb\"><img src=\"../../common/ead8f6f18d2b8c24f1ed8db33df594edd77c9bcc0/expr.png\" style=\"display:inline;vertical-align:middle;\" /></a></td></tr>\n",
       "<tr><td>9</td><td>NamedExprs</td><td>operation: 12<br>part: 13<br></td><td><a class=\"ProveItLink\" href=\"../4bb14a4f98c5997f7bbfb05382fc1f7a5c7048350/expr.ipynb\"><img src=\"../4bb14a4f98c5997f7bbfb05382fc1f7a5c7048350/expr.png\" style=\"display:inline;vertical-align:middle;\" /></a></td></tr>\n",
       "<tr><td>10</td><td>Literal</td><td></td><td><a class=\"ProveItLink\" href=\"../../../../../../numbers/number_sets/integers/__pv_it/common/92f3a0a77e3c3ea8e4a5c8674edadc54e4f57d550/expr.ipynb\"><img src=\"../../../../../../numbers/number_sets/integers/__pv_it/common/92f3a0a77e3c3ea8e4a5c8674edadc54e4f57d550/expr.png\" style=\"display:inline;vertical-align:middle;\" /></a></td></tr>\n",
       "<tr><td>11</td><td>ExprTuple</td><td>14, 14</td><td><a class=\"ProveItLink\" href=\"../a535fe0c3dce66103325d189bb0c8f36bff0f39f0/expr.ipynb\"><img src=\"../a535fe0c3dce66103325d189bb0c8f36bff0f39f0/expr.png\" style=\"display:inline;vertical-align:middle;\" /></a></td></tr>\n",
       "<tr><td>12</td><td>Variable</td><td></td><td><a class=\"ProveItLink\" href=\"../../../../../../__pv_it/common/09585084922504426caf1db2ff588a23a0932a960/expr.ipynb\"><img src=\"../../../../../../__pv_it/common/09585084922504426caf1db2ff588a23a0932a960/expr.png\" style=\"display:inline;vertical-align:middle;\" /></a></td></tr>\n",
       "<tr><td>13</td><td>Literal</td><td></td><td><a class=\"ProveItLink\" href=\"../../../../../../numbers/numerals/__pv_it/common/682157d4892d216d9e5626ed533aff9b56b9506e0/expr.ipynb\"><img src=\"../../../../../../numbers/numerals/__pv_it/common/682157d4892d216d9e5626ed533aff9b56b9506e0/expr.png\" style=\"display:inline;vertical-align:middle;\" /></a></td></tr>\n",
       "<tr><td>14</td><td>Variable</td><td></td><td><a class=\"ProveItLink\" href=\"../../../../../../__pv_it/common/63b7c64bf9ec7a04ecc396c7a1670f3f12fb59490/expr.ipynb\"><img src=\"../../../../../../__pv_it/common/63b7c64bf9ec7a04ecc396c7a1670f3f12fb59490/expr.png\" style=\"display:inline;vertical-align:middle;\" /></a></td></tr>\n",
       "</table>\n"
      ],
      "text/plain": [
       "0. ([MULTI_QUBIT_ELEM]{element:[GATE]{operation:A, part:1}, targets:{k .. k}}, [GATE]{operation:A})\n",
       "   core type: ExprTuple\n",
       "   sub-expressions: 1, 2\n",
       "1. [MULTI_QUBIT_ELEM]{element:[GATE]{operation:A, part:1}, targets:{k .. k}}\n",
       "   core type: Operation\n",
       "   operator: 3\n",
       "   operands: 4\n",
       "2. [GATE]{operation:A}\n",
       "   core type: Operation\n",
       "   operator: 8\n",
       "   operands: 5\n",
       "3. MULTI_QUBIT_ELEM\n",
       "   core type: Literal\n",
       "   sub-expressions: \n",
       "4. {element:[GATE]{operation:A, part:1}, targets:{k .. k}}\n",
       "   core type: NamedExprs\n",
       "   element: 6\n",
       "   targets: 7\n",
       "5. {operation:A}\n",
       "   core type: NamedExprs\n",
       "   operation: 12\n",
       "6. [GATE]{operation:A, part:1}\n",
       "   core type: Operation\n",
       "   operator: 8\n",
       "   operands: 9\n",
       "7. {k .. k}\n",
       "   core type: Operation\n",
       "   operator: 10\n",
       "   operands: 11\n",
       "8. GATE\n",
       "   core type: Literal\n",
       "   sub-expressions: \n",
       "9. {operation:A, part:1}\n",
       "   core type: NamedExprs\n",
       "   operation: 12\n",
       "   part: 13\n",
       "10. Interval\n",
       "    core type: Literal\n",
       "    sub-expressions: \n",
       "11. (k, k)\n",
       "    core type: ExprTuple\n",
       "    sub-expressions: 14, 14\n",
       "12. A\n",
       "    core type: Variable\n",
       "    sub-expressions: \n",
       "13. 1\n",
       "    core type: Literal\n",
       "    sub-expressions: \n",
       "14. k\n",
       "    core type: Variable\n",
       "    sub-expressions: "
      ]
     },
     "metadata": {},
     "output_type": "display_data"
    }
   ],
   "source": [
    "# display the expression information\n",
    "stored_expr.expr_info()"
   ]
  },
  {
   "cell_type": "code",
   "execution_count": null,
   "metadata": {},
   "outputs": [],
   "source": []
  }
 ],
 "metadata": {
  "kernelspec": {
   "display_name": "Python 3",
   "language": "python",
   "name": "python3"
  }
 },
 "nbformat": 4,
 "nbformat_minor": 0
}