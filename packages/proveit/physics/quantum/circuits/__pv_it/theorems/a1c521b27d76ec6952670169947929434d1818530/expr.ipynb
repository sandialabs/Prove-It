{
 "cells": [
  {
   "cell_type": "markdown",
   "metadata": {},
   "source": [
    "Expression of type <a class=\"ProveItLink\" href=\"../../../../../../../../doc/html/api/proveit.Lambda.html\">Lambda</a>\n",
    "=======================\n",
    "# from the theory of <a class=\"ProveItLink\" href=\"../../../_theory_nbs_/theory.ipynb\">proveit.physics.quantum.circuits</a>"
   ]
  },
  {
   "cell_type": "code",
   "execution_count": 1,
   "metadata": {},
   "outputs": [],
   "source": [
    "import proveit\n",
    "# Automation is not needed when building an expression:\n",
    "proveit.defaults.automation = False # This will speed things up.\n",
    "proveit.defaults.inline_pngs = False # Makes files smaller.\n",
    "%load_expr # Load the stored expression as 'stored_expr'\n",
    "# import Expression classes needed to build the expression\n",
    "from proveit import Conditional, Lambda, b\n",
    "from proveit.logic import And, InClass, InSet, Set, SetOfAll\n",
    "from proveit.numbers import one, zero\n",
    "from proveit.physics.quantum import QubitSpace, normalized_var_ket_psi, var_ket_psi\n",
    "from proveit.physics.quantum.circuits import qubit_meas\n",
    "from proveit.statistics import SampleSpaces"
   ]
  },
  {
   "cell_type": "code",
   "execution_count": 2,
   "metadata": {},
   "outputs": [
    {
     "data": {
      "text/html": [
       "<strong id=\"expr\">expr:</strong> <a class=\"ProveItLink\" href=\"expr.ipynb\"><img src=\"expr.png\" style=\"display:inline;vertical-align:middle;\" /></a><br>"
      ],
      "text/plain": [
       "<IPython.core.display.HTML object>"
      ]
     },
     "metadata": {},
     "output_type": "display_data"
    }
   ],
   "source": [
    "# build up the expression from sub-expressions\n",
    "expr = Lambda(var_ket_psi, Conditional(InClass(SetOfAll(instance_param_or_params = [b], instance_element = qubit_meas, domain = Set(zero, one)), SampleSpaces), And(InSet(var_ket_psi, QubitSpace), normalized_var_ket_psi)))"
   ]
  },
  {
   "cell_type": "code",
   "execution_count": 3,
   "metadata": {},
   "outputs": [
    {
     "name": "stdout",
     "output_type": "stream",
     "text": [
      "Passed sanity check: expr matches stored_expr\n"
     ]
    }
   ],
   "source": [
    "# check that the built expression is the same as the stored expression\n",
    "assert expr == stored_expr\n",
    "assert expr._style_id == stored_expr._style_id\n",
    "print(\"Passed sanity check: expr matches stored_expr\")"
   ]
  },
  {
   "cell_type": "code",
   "execution_count": 4,
   "metadata": {},
   "outputs": [
    {
     "name": "stdout",
     "output_type": "stream",
     "text": [
      "\\lvert \\psi \\rangle \\mapsto \\left\\{\\left\\{\\begin{array}{c} \\Qcircuit@C=1em @R=.7em{\n",
      "\\qin{\\lvert \\psi \\rangle} & \\meter & \\qout{\\lvert b \\rangle}\n",
      "} \\end{array}\\right\\}_{b \\in \\left\\{0, 1\\right\\}} \\underset{{\\scriptscriptstyle c}}{\\in} \\textrm{SampleSpaces} \\textrm{ if } \\lvert \\psi \\rangle \\in \\mathbb{C}^{2} ,  \\left \\|\\lvert \\psi \\rangle\\right \\| = 1\\right..\n"
     ]
    }
   ],
   "source": [
    "# Show the LaTeX representation of the expression for convenience if you need it.\n",
    "print(stored_expr.latex())"
   ]
  },
  {
   "cell_type": "code",
   "execution_count": 5,
   "metadata": {},
   "outputs": [
    {
     "data": {
      "text/html": [
       "no style options"
      ],
      "text/plain": [
       "no style options"
      ]
     },
     "metadata": {},
     "output_type": "display_data"
    }
   ],
   "source": [
    "stored_expr.style_options()"
   ]
  },
  {
   "cell_type": "code",
   "execution_count": 6,
   "metadata": {},
   "outputs": [
    {
     "data": {
      "text/html": [
       "<table><tr><th>&nbsp;</th><th>core type</th><th>sub-expressions</th><th>expression</th></tr>\n",
       "<tr><td>0</td><td>Lambda</td><td>parameter:&nbsp;50<br>body:&nbsp;1<br></td><td><a class=\"ProveItLink\" href=\"expr.ipynb\"><img src=\"expr.png\" style=\"display:inline;vertical-align:middle;\" /></a></td></tr>\n",
       "<tr><td>1</td><td>Conditional</td><td>value:&nbsp;2<br>condition:&nbsp;3<br></td><td><a class=\"ProveItLink\" href=\"../3f0600cf22473484d15307b3bbb895f1c5a346120/expr.ipynb\"><img src=\"../3f0600cf22473484d15307b3bbb895f1c5a346120/expr.png\" style=\"display:inline;vertical-align:middle;\" /></a></td></tr>\n",
       "<tr><td>2</td><td>Operation</td><td>operator:&nbsp;4<br>operands:&nbsp;5<br></td><td><a class=\"ProveItLink\" href=\"../f63f45f8201a4fc045ccfb3d0800dc16618c2d9b0/expr.ipynb\"><img src=\"../f63f45f8201a4fc045ccfb3d0800dc16618c2d9b0/expr.png\" style=\"display:inline;vertical-align:middle;\" /></a></td></tr>\n",
       "<tr><td>3</td><td>Operation</td><td>operator:&nbsp;6<br>operands:&nbsp;7<br></td><td><a class=\"ProveItLink\" href=\"../789eaf9ab1e72dcb70030d6e9e233b07b15c3b9a0/expr.ipynb\"><img src=\"../789eaf9ab1e72dcb70030d6e9e233b07b15c3b9a0/expr.png\" style=\"display:inline;vertical-align:middle;\" /></a></td></tr>\n",
       "<tr><td>4</td><td>Literal</td><td></td><td><a class=\"ProveItLink\" href=\"../../../../../../logic/classes/membership/__pv_it/common/e3b437d28fbe17f0a50c9789c7c9b47a1270f1420/expr.ipynb\"><img src=\"../../../../../../logic/classes/membership/__pv_it/common/e3b437d28fbe17f0a50c9789c7c9b47a1270f1420/expr.png\" style=\"display:inline;vertical-align:middle;\" /></a></td></tr>\n",
       "<tr><td>5</td><td>ExprTuple</td><td>8, 9</td><td><a class=\"ProveItLink\" href=\"../d8dc8841f1ba974c591af95b47d0b5f7e0648d3d0/expr.ipynb\"><img src=\"../d8dc8841f1ba974c591af95b47d0b5f7e0648d3d0/expr.png\" style=\"display:inline;vertical-align:middle;\" /></a></td></tr>\n",
       "<tr><td>6</td><td>Literal</td><td></td><td><a class=\"ProveItLink\" href=\"../../../../../../logic/booleans/conjunction/__pv_it/common/42118ff318bd65d98b1393f64ce7c2269feef76e0/expr.ipynb\"><img src=\"../../../../../../logic/booleans/conjunction/__pv_it/common/42118ff318bd65d98b1393f64ce7c2269feef76e0/expr.png\" style=\"display:inline;vertical-align:middle;\" /></a></td></tr>\n",
       "<tr><td>7</td><td>ExprTuple</td><td>10, 11</td><td><a class=\"ProveItLink\" href=\"../a34de94b132dba25ec7b407a028d6b143b9828a70/expr.ipynb\"><img src=\"../a34de94b132dba25ec7b407a028d6b143b9828a70/expr.png\" style=\"display:inline;vertical-align:middle;\" /></a></td></tr>\n",
       "<tr><td>8</td><td>Operation</td><td>operator:&nbsp;12<br>operand:&nbsp;17<br></td><td><a class=\"ProveItLink\" href=\"../fd27649e69313f2b06e09bda6ada597c384bcfd40/expr.ipynb\"><img src=\"../fd27649e69313f2b06e09bda6ada597c384bcfd40/expr.png\" style=\"display:inline;vertical-align:middle;\" /></a></td></tr>\n",
       "<tr><td>9</td><td>Literal</td><td></td><td><a class=\"ProveItLink\" href=\"../../../../../../statistics/__pv_it/common/b8cb4b48bfd38c392abbbe6b1d73ed28fe3180d20/expr.ipynb\"><img src=\"../../../../../../statistics/__pv_it/common/b8cb4b48bfd38c392abbbe6b1d73ed28fe3180d20/expr.png\" style=\"display:inline;vertical-align:middle;\" /></a></td></tr>\n",
       "<tr><td>10</td><td>Operation</td><td>operator:&nbsp;31<br>operands:&nbsp;14<br></td><td><a class=\"ProveItLink\" href=\"../5f37b3a33bb4cee7c3ede2dcdb4d45a47e4731730/expr.ipynb\"><img src=\"../5f37b3a33bb4cee7c3ede2dcdb4d45a47e4731730/expr.png\" style=\"display:inline;vertical-align:middle;\" /></a></td></tr>\n",
       "<tr><td>11</td><td>Operation</td><td>operator:&nbsp;15<br>operands:&nbsp;16<br></td><td><a class=\"ProveItLink\" href=\"../../../../__pv_it/common/87287c19357fd766ec8702a52412598cb6a0bc950/expr.ipynb\"><img src=\"../../../../__pv_it/common/87287c19357fd766ec8702a52412598cb6a0bc950/expr.png\" style=\"display:inline;vertical-align:middle;\" /></a></td></tr>\n",
       "<tr><td>12</td><td>Literal</td><td></td><td><a class=\"ProveItLink\" href=\"../../../../../../logic/sets/comprehension/__pv_it/common/b4bb00fffb81c35677d73fdf9e971725e2b59ae40/expr.ipynb\"><img src=\"../../../../../../logic/sets/comprehension/__pv_it/common/b4bb00fffb81c35677d73fdf9e971725e2b59ae40/expr.png\" style=\"display:inline;vertical-align:middle;\" /></a></td></tr>\n",
       "<tr><td>13</td><td>ExprTuple</td><td>17</td><td><a class=\"ProveItLink\" href=\"../1fd1d73ab3a0a9c7d695712c77cda6c7ad6059c70/expr.ipynb\"><img src=\"../1fd1d73ab3a0a9c7d695712c77cda6c7ad6059c70/expr.png\" style=\"display:inline;vertical-align:middle;\" /></a></td></tr>\n",
       "<tr><td>14</td><td>ExprTuple</td><td>50, 18</td><td><a class=\"ProveItLink\" href=\"../d73da7dc006d5dacf991960fc145f61e2fbde0c00/expr.ipynb\"><img src=\"../d73da7dc006d5dacf991960fc145f61e2fbde0c00/expr.png\" style=\"display:inline;vertical-align:middle;\" /></a></td></tr>\n",
       "<tr><td>15</td><td>Literal</td><td></td><td><a class=\"ProveItLink\" href=\"../../../../../../logic/equality/__pv_it/common/fb96dc12b2aa8801dda64d0132b396c63d1502bb0/expr.ipynb\"><img src=\"../../../../../../logic/equality/__pv_it/common/fb96dc12b2aa8801dda64d0132b396c63d1502bb0/expr.png\" style=\"display:inline;vertical-align:middle;\" /></a></td></tr>\n",
       "<tr><td>16</td><td>ExprTuple</td><td>19, 49</td><td><a class=\"ProveItLink\" href=\"../../../../__pv_it/common/2d246140f3f57e9f0bf37ffbf5396718f3a844b10/expr.ipynb\"><img src=\"../../../../__pv_it/common/2d246140f3f57e9f0bf37ffbf5396718f3a844b10/expr.png\" style=\"display:inline;vertical-align:middle;\" /></a></td></tr>\n",
       "<tr><td>17</td><td>Lambda</td><td>parameter:&nbsp;55<br>body:&nbsp;20<br></td><td><a class=\"ProveItLink\" href=\"../ab6a337a58d177d21c32dccd296c2a62df1635e60/expr.ipynb\"><img src=\"../ab6a337a58d177d21c32dccd296c2a62df1635e60/expr.png\" style=\"display:inline;vertical-align:middle;\" /></a></td></tr>\n",
       "<tr><td>18</td><td>Operation</td><td>operator:&nbsp;21<br>operands:&nbsp;22<br></td><td><a class=\"ProveItLink\" href=\"../../../../__pv_it/common/b194ab1c4258bed32fef631c442d91ad648bd1580/expr.ipynb\"><img src=\"../../../../__pv_it/common/b194ab1c4258bed32fef631c442d91ad648bd1580/expr.png\" style=\"display:inline;vertical-align:middle;\" /></a></td></tr>\n",
       "<tr><td>19</td><td>Operation</td><td>operator:&nbsp;23<br>operand:&nbsp;50<br></td><td><a class=\"ProveItLink\" href=\"../../../../__pv_it/common/31ea968ebbc340f1a48ba55ef1c2a1469f70ab2a0/expr.ipynb\"><img src=\"../../../../__pv_it/common/31ea968ebbc340f1a48ba55ef1c2a1469f70ab2a0/expr.png\" style=\"display:inline;vertical-align:middle;\" /></a></td></tr>\n",
       "<tr><td>20</td><td>Conditional</td><td>value:&nbsp;25<br>condition:&nbsp;26<br></td><td><a class=\"ProveItLink\" href=\"../b7753745abf0d8e813692d2851f9401f483b1d3b0/expr.ipynb\"><img src=\"../b7753745abf0d8e813692d2851f9401f483b1d3b0/expr.png\" style=\"display:inline;vertical-align:middle;\" /></a></td></tr>\n",
       "<tr><td>21</td><td>Literal</td><td></td><td><a class=\"ProveItLink\" href=\"../../../../../../logic/sets/cartesian_products/__pv_it/common/7d20d67ddfbd94ad12efc9670c0d16a295b8ec1a0/expr.ipynb\"><img src=\"../../../../../../logic/sets/cartesian_products/__pv_it/common/7d20d67ddfbd94ad12efc9670c0d16a295b8ec1a0/expr.png\" style=\"display:inline;vertical-align:middle;\" /></a></td></tr>\n",
       "<tr><td>22</td><td>ExprTuple</td><td>27, 28</td><td><a class=\"ProveItLink\" href=\"../../../../__pv_it/common/5a8c59a3796052e8e1bf4d6da29d1e763d3ee2f20/expr.ipynb\"><img src=\"../../../../__pv_it/common/5a8c59a3796052e8e1bf4d6da29d1e763d3ee2f20/expr.png\" style=\"display:inline;vertical-align:middle;\" /></a></td></tr>\n",
       "<tr><td>23</td><td>Literal</td><td></td><td><a class=\"ProveItLink\" href=\"../../../../../../linear_algebra/inner_products/__pv_it/common/2c00dcac538e537d968253ed1ac6a761c803991f0/expr.ipynb\"><img src=\"../../../../../../linear_algebra/inner_products/__pv_it/common/2c00dcac538e537d968253ed1ac6a761c803991f0/expr.png\" style=\"display:inline;vertical-align:middle;\" /></a></td></tr>\n",
       "<tr><td>24</td><td>ExprTuple</td><td>50</td><td><a class=\"ProveItLink\" href=\"../../../../__pv_it/common/c5907a7c7b2f95242ae96eb0318d39474692981e0/expr.ipynb\"><img src=\"../../../../__pv_it/common/c5907a7c7b2f95242ae96eb0318d39474692981e0/expr.png\" style=\"display:inline;vertical-align:middle;\" /></a></td></tr>\n",
       "<tr><td>25</td><td>Operation</td><td>operator:&nbsp;29<br>operands:&nbsp;30<br></td><td><a class=\"ProveItLink\" href=\"../../common/3e8a7f4feee99b354a7c96bca1bea3a62ffe354c0/expr.ipynb\"><img src=\"../../common/3e8a7f4feee99b354a7c96bca1bea3a62ffe354c0/expr.png\" style=\"display:inline;vertical-align:middle;\" /></a></td></tr>\n",
       "<tr><td>26</td><td>Operation</td><td>operator:&nbsp;31<br>operands:&nbsp;32<br></td><td><a class=\"ProveItLink\" href=\"../7014475e6122242f4c04b551a451f089e49222900/expr.ipynb\"><img src=\"../7014475e6122242f4c04b551a451f089e49222900/expr.png\" style=\"display:inline;vertical-align:middle;\" /></a></td></tr>\n",
       "<tr><td>27</td><td>Literal</td><td></td><td><a class=\"ProveItLink\" href=\"../../../../../../numbers/number_sets/complex_numbers/__pv_it/common/d18a028138f659eda00de597c28a3447fe87eb100/expr.ipynb\"><img src=\"../../../../../../numbers/number_sets/complex_numbers/__pv_it/common/d18a028138f659eda00de597c28a3447fe87eb100/expr.png\" style=\"display:inline;vertical-align:middle;\" /></a></td></tr>\n",
       "<tr><td>28</td><td>Literal</td><td></td><td><a class=\"ProveItLink\" href=\"../../../../../../numbers/numerals/__pv_it/common/af4aab8a07465db063742696e006d04670f30cf10/expr.ipynb\"><img src=\"../../../../../../numbers/numerals/__pv_it/common/af4aab8a07465db063742696e006d04670f30cf10/expr.png\" style=\"display:inline;vertical-align:middle;\" /></a></td></tr>\n",
       "<tr><td>29</td><td>Literal</td><td></td><td><a class=\"ProveItLink\" href=\"../../common/40003b89a3d1740159ada9fe5b21308b42a7d3d40/expr.ipynb\"><img src=\"../../common/40003b89a3d1740159ada9fe5b21308b42a7d3d40/expr.png\" style=\"display:inline;vertical-align:middle;\" /></a></td></tr>\n",
       "<tr><td>30</td><td>ExprTuple</td><td>33, 34, 35</td><td><a class=\"ProveItLink\" href=\"../../common/6f7988cb1f57c0717c64fc94e180abb287d8ffb80/expr.ipynb\"><img src=\"../../common/6f7988cb1f57c0717c64fc94e180abb287d8ffb80/expr.png\" style=\"display:inline;vertical-align:middle;\" /></a></td></tr>\n",
       "<tr><td>31</td><td>Literal</td><td></td><td><a class=\"ProveItLink\" href=\"../../../../../../logic/sets/membership/__pv_it/common/477487d8796864d23d5810f83761435f25167f690/expr.ipynb\"><img src=\"../../../../../../logic/sets/membership/__pv_it/common/477487d8796864d23d5810f83761435f25167f690/expr.png\" style=\"display:inline;vertical-align:middle;\" /></a></td></tr>\n",
       "<tr><td>32</td><td>ExprTuple</td><td>55, 36</td><td><a class=\"ProveItLink\" href=\"../d874e2ae6a348a79bcb8bba527fc07d26d62ba3e0/expr.ipynb\"><img src=\"../d874e2ae6a348a79bcb8bba527fc07d26d62ba3e0/expr.png\" style=\"display:inline;vertical-align:middle;\" /></a></td></tr>\n",
       "<tr><td>33</td><td>ExprTuple</td><td>37</td><td><a class=\"ProveItLink\" href=\"../../common/b1231b9962e53e0b9ad94473dd4fba9f52d575e00/expr.ipynb\"><img src=\"../../common/b1231b9962e53e0b9ad94473dd4fba9f52d575e00/expr.png\" style=\"display:inline;vertical-align:middle;\" /></a></td></tr>\n",
       "<tr><td>34</td><td>ExprTuple</td><td>38</td><td><a class=\"ProveItLink\" href=\"../../common/44c7e222e2594b2a39bcf7424ab4a6c0c53bec330/expr.ipynb\"><img src=\"../../common/44c7e222e2594b2a39bcf7424ab4a6c0c53bec330/expr.png\" style=\"display:inline;vertical-align:middle;\" /></a></td></tr>\n",
       "<tr><td>35</td><td>ExprTuple</td><td>39</td><td><a class=\"ProveItLink\" href=\"../../common/882f465c9da0ed5a59cba86e54a27170275735730/expr.ipynb\"><img src=\"../../common/882f465c9da0ed5a59cba86e54a27170275735730/expr.png\" style=\"display:inline;vertical-align:middle;\" /></a></td></tr>\n",
       "<tr><td>36</td><td>Operation</td><td>operator:&nbsp;40<br>operands:&nbsp;41<br></td><td><a class=\"ProveItLink\" href=\"../be7e4f1895f846fee58d3881511fa924b68565ca0/expr.ipynb\"><img src=\"../be7e4f1895f846fee58d3881511fa924b68565ca0/expr.png\" style=\"display:inline;vertical-align:middle;\" /></a></td></tr>\n",
       "<tr><td>37</td><td>Operation</td><td>operator:&nbsp;42<br>operands:&nbsp;43<br></td><td><a class=\"ProveItLink\" href=\"../../common/d30c10c6355066dfd37c8458611b0b66a93cbe910/expr.ipynb\"><img src=\"../../common/d30c10c6355066dfd37c8458611b0b66a93cbe910/expr.png\" style=\"display:inline;vertical-align:middle;\" /></a></td></tr>\n",
       "<tr><td>38</td><td>Operation</td><td>operator:&nbsp;44<br>operands:&nbsp;45<br></td><td><a class=\"ProveItLink\" href=\"../../common/ece37dbd0d7cf03c338bd0adac3bf231a6fa92b20/expr.ipynb\"><img src=\"../../common/ece37dbd0d7cf03c338bd0adac3bf231a6fa92b20/expr.png\" style=\"display:inline;vertical-align:middle;\" /></a></td></tr>\n",
       "<tr><td>39</td><td>Operation</td><td>operator:&nbsp;46<br>operands:&nbsp;47<br></td><td><a class=\"ProveItLink\" href=\"../../common/1f3421d6237205206ca3ae035f837e4bc63bd5ab0/expr.ipynb\"><img src=\"../../common/1f3421d6237205206ca3ae035f837e4bc63bd5ab0/expr.png\" style=\"display:inline;vertical-align:middle;\" /></a></td></tr>\n",
       "<tr><td>40</td><td>Literal</td><td></td><td><a class=\"ProveItLink\" href=\"../../../../../../logic/sets/enumeration/__pv_it/common/0ead90ccbf4f17bc585a51f8aa904bb77916ae6e0/expr.ipynb\"><img src=\"../../../../../../logic/sets/enumeration/__pv_it/common/0ead90ccbf4f17bc585a51f8aa904bb77916ae6e0/expr.png\" style=\"display:inline;vertical-align:middle;\" /></a></td></tr>\n",
       "<tr><td>41</td><td>ExprTuple</td><td>48, 49</td><td><a class=\"ProveItLink\" href=\"../../../../../../numbers/numerals/decimals/__pv_it/theorems/da8a8b171a5f1ff8208183b4cf6a698b32a8f24a0/expr.ipynb\"><img src=\"../../../../../../numbers/numerals/decimals/__pv_it/theorems/da8a8b171a5f1ff8208183b4cf6a698b32a8f24a0/expr.png\" style=\"display:inline;vertical-align:middle;\" /></a></td></tr>\n",
       "<tr><td>42</td><td>Literal</td><td></td><td><a class=\"ProveItLink\" href=\"../../common/deea8715ce6701df08bbe1d049112a0bad4965c20/expr.ipynb\"><img src=\"../../common/deea8715ce6701df08bbe1d049112a0bad4965c20/expr.png\" style=\"display:inline;vertical-align:middle;\" /></a></td></tr>\n",
       "<tr><td>43</td><td>NamedExprs</td><td>state: 50<br></td><td><a class=\"ProveItLink\" href=\"../../common/6ef32297b1eb08c5042a0a134ad28f1a9ef41d2a0/expr.ipynb\"><img src=\"../../common/6ef32297b1eb08c5042a0a134ad28f1a9ef41d2a0/expr.png\" style=\"display:inline;vertical-align:middle;\" /></a></td></tr>\n",
       "<tr><td>44</td><td>Literal</td><td></td><td><a class=\"ProveItLink\" href=\"../../common/5e7176f4ee66b255b7d25def312f57fd0b0ba0090/expr.ipynb\"><img src=\"../../common/5e7176f4ee66b255b7d25def312f57fd0b0ba0090/expr.png\" style=\"display:inline;vertical-align:middle;\" /></a></td></tr>\n",
       "<tr><td>45</td><td>NamedExprs</td><td>basis: 51<br></td><td><a class=\"ProveItLink\" href=\"../../common/fd4e3e8dba25f802558afeb12db00b31216c97650/expr.ipynb\"><img src=\"../../common/fd4e3e8dba25f802558afeb12db00b31216c97650/expr.png\" style=\"display:inline;vertical-align:middle;\" /></a></td></tr>\n",
       "<tr><td>46</td><td>Literal</td><td></td><td><a class=\"ProveItLink\" href=\"../../common/00345a9c4f4d361e0b6e8bbbbe5a33a8ec86a20b0/expr.ipynb\"><img src=\"../../common/00345a9c4f4d361e0b6e8bbbbe5a33a8ec86a20b0/expr.png\" style=\"display:inline;vertical-align:middle;\" /></a></td></tr>\n",
       "<tr><td>47</td><td>NamedExprs</td><td>state: 52<br></td><td><a class=\"ProveItLink\" href=\"../../common/9b4465aa203ad9a2a7f07556334289ba381575fc0/expr.ipynb\"><img src=\"../../common/9b4465aa203ad9a2a7f07556334289ba381575fc0/expr.png\" style=\"display:inline;vertical-align:middle;\" /></a></td></tr>\n",
       "<tr><td>48</td><td>Literal</td><td></td><td><a class=\"ProveItLink\" href=\"../../../../../../numbers/numerals/__pv_it/common/dd4e19e8b134dfb293470ea55fe3589b0ab9f8040/expr.ipynb\"><img src=\"../../../../../../numbers/numerals/__pv_it/common/dd4e19e8b134dfb293470ea55fe3589b0ab9f8040/expr.png\" style=\"display:inline;vertical-align:middle;\" /></a></td></tr>\n",
       "<tr><td>49</td><td>Literal</td><td></td><td><a class=\"ProveItLink\" href=\"../../../../../../numbers/numerals/__pv_it/common/682157d4892d216d9e5626ed533aff9b56b9506e0/expr.ipynb\"><img src=\"../../../../../../numbers/numerals/__pv_it/common/682157d4892d216d9e5626ed533aff9b56b9506e0/expr.png\" style=\"display:inline;vertical-align:middle;\" /></a></td></tr>\n",
       "<tr><td>50</td><td>Variable</td><td></td><td><a class=\"ProveItLink\" href=\"../../../../__pv_it/common/798a4b85c58eead0b86ebff17277cd7c4a79a3160/expr.ipynb\"><img src=\"../../../../__pv_it/common/798a4b85c58eead0b86ebff17277cd7c4a79a3160/expr.png\" style=\"display:inline;vertical-align:middle;\" /></a></td></tr>\n",
       "<tr><td>51</td><td>Literal</td><td></td><td><a class=\"ProveItLink\" href=\"../../../../__pv_it/common/2c528f33b8384666a054a8146aa84d2f45cc85490/expr.ipynb\"><img src=\"../../../../__pv_it/common/2c528f33b8384666a054a8146aa84d2f45cc85490/expr.png\" style=\"display:inline;vertical-align:middle;\" /></a></td></tr>\n",
       "<tr><td>52</td><td>Operation</td><td>operator:&nbsp;53<br>operand:&nbsp;55<br></td><td><a class=\"ProveItLink\" href=\"../../common/9566049bc781d779b3c58720e5ceb9a982a5d61f0/expr.ipynb\"><img src=\"../../common/9566049bc781d779b3c58720e5ceb9a982a5d61f0/expr.png\" style=\"display:inline;vertical-align:middle;\" /></a></td></tr>\n",
       "<tr><td>53</td><td>Literal</td><td></td><td><a class=\"ProveItLink\" href=\"../../../../algebra/__pv_it/common/e3872951fe05b26090372918594af92cac779e280/expr.ipynb\"><img src=\"../../../../algebra/__pv_it/common/e3872951fe05b26090372918594af92cac779e280/expr.png\" style=\"display:inline;vertical-align:middle;\" /></a></td></tr>\n",
       "<tr><td>54</td><td>ExprTuple</td><td>55</td><td><a class=\"ProveItLink\" href=\"../../common/2172b6b5a562721cf67ce94593b8be1eb7f26c660/expr.ipynb\"><img src=\"../../common/2172b6b5a562721cf67ce94593b8be1eb7f26c660/expr.png\" style=\"display:inline;vertical-align:middle;\" /></a></td></tr>\n",
       "<tr><td>55</td><td>Variable</td><td></td><td><a class=\"ProveItLink\" href=\"../../../../../../__pv_it/common/195236b98c6c564a75b5dbada74b173bc52d5c3e0/expr.ipynb\"><img src=\"../../../../../../__pv_it/common/195236b98c6c564a75b5dbada74b173bc52d5c3e0/expr.png\" style=\"display:inline;vertical-align:middle;\" /></a></td></tr>\n",
       "</table>\n"
      ],
      "text/plain": [
       "0. |psi> -> {{QCIRCUIT(VertExprArray(([INPUT]{state:|psi>}),  \\\\ ([MEASURE]{basis:Z}),  \\\\ ([OUTPUT]{state:|b〉})))}_{b in {0, 1}} in_c SampleSpaces if |psi> in Complex^{2} ,  |||psi>|| = 1.\n",
       "   core type: Lambda\n",
       "   parameter: 50\n",
       "   body: 1\n",
       "1. {{QCIRCUIT(VertExprArray(([INPUT]{state:|psi>}),  \\\\ ([MEASURE]{basis:Z}),  \\\\ ([OUTPUT]{state:|b〉})))}_{b in {0, 1}} in_c SampleSpaces if |psi> in Complex^{2} ,  |||psi>|| = 1.\n",
       "   core type: Conditional\n",
       "   value: 2\n",
       "   condition: 3\n",
       "2. {QCIRCUIT(VertExprArray(([INPUT]{state:|psi>}),  \\\\ ([MEASURE]{basis:Z}),  \\\\ ([OUTPUT]{state:|b〉})))}_{b in {0, 1}} in_c SampleSpaces\n",
       "   core type: Operation\n",
       "   operator: 4\n",
       "   operands: 5\n",
       "3. (|psi> in Complex^{2}) and (|||psi>|| = 1)\n",
       "   core type: Operation\n",
       "   operator: 6\n",
       "   operands: 7\n",
       "4. in_c\n",
       "   core type: Literal\n",
       "   sub-expressions: \n",
       "5. ({QCIRCUIT(VertExprArray(([INPUT]{state:|psi>}),  \\\\ ([MEASURE]{basis:Z}),  \\\\ ([OUTPUT]{state:|b〉})))}_{b in {0, 1}}, SampleSpaces)\n",
       "   core type: ExprTuple\n",
       "   sub-expressions: 8, 9\n",
       "6. and\n",
       "   core type: Literal\n",
       "   sub-expressions: \n",
       "7. (|psi> in Complex^{2}, |||psi>|| = 1)\n",
       "   core type: ExprTuple\n",
       "   sub-expressions: 10, 11\n",
       "8. {QCIRCUIT(VertExprArray(([INPUT]{state:|psi>}),  \\\\ ([MEASURE]{basis:Z}),  \\\\ ([OUTPUT]{state:|b〉})))}_{b in {0, 1}}\n",
       "   core type: Operation\n",
       "   operator: 12\n",
       "   operand: 17\n",
       "9. SampleSpaces\n",
       "   core type: Literal\n",
       "   sub-expressions: \n",
       "10. |psi> in Complex^{2}\n",
       "    core type: Operation\n",
       "    operator: 31\n",
       "    operands: 14\n",
       "11. |||psi>|| = 1\n",
       "    core type: Operation\n",
       "    operator: 15\n",
       "    operands: 16\n",
       "12. SetOfAll\n",
       "    core type: Literal\n",
       "    sub-expressions: \n",
       "13. (b -> {QCIRCUIT(VertExprArray(([INPUT]{state:|psi>}),  \\\\ ([MEASURE]{basis:Z}),  \\\\ ([OUTPUT]{state:|b〉}))) if b in {0, 1}.)\n",
       "    core type: ExprTuple\n",
       "    sub-expressions: 17\n",
       "14. (|psi>, Complex^{2})\n",
       "    core type: ExprTuple\n",
       "    sub-expressions: 50, 18\n",
       "15. =\n",
       "    core type: Literal\n",
       "    sub-expressions: \n",
       "16. (|||psi>||, 1)\n",
       "    core type: ExprTuple\n",
       "    sub-expressions: 19, 49\n",
       "17. b -> {QCIRCUIT(VertExprArray(([INPUT]{state:|psi>}),  \\\\ ([MEASURE]{basis:Z}),  \\\\ ([OUTPUT]{state:|b〉}))) if b in {0, 1}.\n",
       "    core type: Lambda\n",
       "    parameter: 55\n",
       "    body: 20\n",
       "18. Complex^{2}\n",
       "    core type: Operation\n",
       "    operator: 21\n",
       "    operands: 22\n",
       "19. |||psi>||\n",
       "    core type: Operation\n",
       "    operator: 23\n",
       "    operand: 50\n",
       "20. {QCIRCUIT(VertExprArray(([INPUT]{state:|psi>}),  \\\\ ([MEASURE]{basis:Z}),  \\\\ ([OUTPUT]{state:|b〉}))) if b in {0, 1}.\n",
       "    core type: Conditional\n",
       "    value: 25\n",
       "    condition: 26\n",
       "21. CartExp\n",
       "    core type: Literal\n",
       "    sub-expressions: \n",
       "22. (Complex, 2)\n",
       "    core type: ExprTuple\n",
       "    sub-expressions: 27, 28\n",
       "23. Abs\n",
       "    core type: Literal\n",
       "    sub-expressions: \n",
       "24. (|psi>)\n",
       "    core type: ExprTuple\n",
       "    sub-expressions: 50\n",
       "25. QCIRCUIT(VertExprArray(([INPUT]{state:|psi>}),  \\\\ ([MEASURE]{basis:Z}),  \\\\ ([OUTPUT]{state:|b〉})))\n",
       "    core type: Operation\n",
       "    operator: 29\n",
       "    operands: 30\n",
       "26. b in {0, 1}\n",
       "    core type: Operation\n",
       "    operator: 31\n",
       "    operands: 32\n",
       "27. Complex\n",
       "    core type: Literal\n",
       "    sub-expressions: \n",
       "28. 2\n",
       "    core type: Literal\n",
       "    sub-expressions: \n",
       "29. QCIRCUIT\n",
       "    core type: Literal\n",
       "    sub-expressions: \n",
       "30. VertExprArray(([INPUT]{state:|psi>}),  \\\\ ([MEASURE]{basis:Z}),  \\\\ ([OUTPUT]{state:|b〉}))\n",
       "    core type: ExprTuple\n",
       "    sub-expressions: 33, 34, 35\n",
       "31. in\n",
       "    core type: Literal\n",
       "    sub-expressions: \n",
       "32. (b, {0, 1})\n",
       "    core type: ExprTuple\n",
       "    sub-expressions: 55, 36\n",
       "33. ([INPUT]{state:|psi>})\n",
       "    core type: ExprTuple\n",
       "    sub-expressions: 37\n",
       "34. ([MEASURE]{basis:Z})\n",
       "    core type: ExprTuple\n",
       "    sub-expressions: 38\n",
       "35. ([OUTPUT]{state:|b〉})\n",
       "    core type: ExprTuple\n",
       "    sub-expressions: 39\n",
       "36. {0, 1}\n",
       "    core type: Operation\n",
       "    operator: 40\n",
       "    operands: 41\n",
       "37. [INPUT]{state:|psi>}\n",
       "    core type: Operation\n",
       "    operator: 42\n",
       "    operands: 43\n",
       "38. [MEASURE]{basis:Z}\n",
       "    core type: Operation\n",
       "    operator: 44\n",
       "    operands: 45\n",
       "39. [OUTPUT]{state:|b〉}\n",
       "    core type: Operation\n",
       "    operator: 46\n",
       "    operands: 47\n",
       "40. Set\n",
       "    core type: Literal\n",
       "    sub-expressions: \n",
       "41. (0, 1)\n",
       "    core type: ExprTuple\n",
       "    sub-expressions: 48, 49\n",
       "42. INPUT\n",
       "    core type: Literal\n",
       "    sub-expressions: \n",
       "43. {state:|psi>}\n",
       "    core type: NamedExprs\n",
       "    state: 50\n",
       "44. MEASURE\n",
       "    core type: Literal\n",
       "    sub-expressions: \n",
       "45. {basis:Z}\n",
       "    core type: NamedExprs\n",
       "    basis: 51\n",
       "46. OUTPUT\n",
       "    core type: Literal\n",
       "    sub-expressions: \n",
       "47. {state:|b〉}\n",
       "    core type: NamedExprs\n",
       "    state: 52\n",
       "48. 0\n",
       "    core type: Literal\n",
       "    sub-expressions: \n",
       "49. 1\n",
       "    core type: Literal\n",
       "    sub-expressions: \n",
       "50. |psi>\n",
       "    core type: Variable\n",
       "    sub-expressions: \n",
       "51. Z\n",
       "    core type: Literal\n",
       "    sub-expressions: \n",
       "52. |b〉\n",
       "    core type: Operation\n",
       "    operator: 53\n",
       "    operand: 55\n",
       "53. KET\n",
       "    core type: Literal\n",
       "    sub-expressions: \n",
       "54. (b)\n",
       "    core type: ExprTuple\n",
       "    sub-expressions: 55\n",
       "55. b\n",
       "    core type: Variable\n",
       "    sub-expressions: "
      ]
     },
     "metadata": {},
     "output_type": "display_data"
    }
   ],
   "source": [
    "# display the expression information\n",
    "stored_expr.expr_info()"
   ]
  },
  {
   "cell_type": "code",
   "execution_count": null,
   "metadata": {},
   "outputs": [],
   "source": []
  }
 ],
 "metadata": {
  "kernelspec": {
   "display_name": "Python 3",
   "language": "python",
   "name": "python3"
  }
 },
 "nbformat": 4,
 "nbformat_minor": 0
}