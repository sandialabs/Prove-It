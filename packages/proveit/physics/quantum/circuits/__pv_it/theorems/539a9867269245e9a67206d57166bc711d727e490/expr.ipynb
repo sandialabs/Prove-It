{
 "cells": [
  {
   "cell_type": "markdown",
   "metadata": {},
   "source": [
    "Expression of type <a class=\"ProveItLink\" href=\"../../../../../../../../doc/html/api/proveit.Lambda.html\">Lambda</a>\n",
    "=======================\n",
    "# from the theory of <a class=\"ProveItLink\" href=\"../../../_theory_nbs_/theory.ipynb\">proveit.physics.quantum.circuits</a>"
   ]
  },
  {
   "cell_type": "code",
   "execution_count": 1,
   "metadata": {},
   "outputs": [],
   "source": [
    "import proveit\n",
    "# Automation is not needed when building an expression:\n",
    "proveit.defaults.automation = False # This will speed things up.\n",
    "proveit.defaults.inline_pngs = False # Makes files smaller.\n",
    "%load_expr # Load the stored expression as 'stored_expr'\n",
    "# import Expression classes needed to build the expression\n",
    "from proveit import Lambda\n",
    "from proveit.core_expr_types import A_1_to_j, B_1_to_k, C_1_to_l, D_1_to_m\n",
    "from proveit.logic import Implies\n",
    "from proveit.physics.quantum.circuits import QcircuitEquiv, circuit_AjBkCl, circuit_AjDmCl, circuit_Bk, circuit_Dm"
   ]
  },
  {
   "cell_type": "code",
   "execution_count": 2,
   "metadata": {},
   "outputs": [
    {
     "data": {
      "text/html": [
       "<strong id=\"expr\">expr:</strong> <a class=\"ProveItLink\" href=\"expr.ipynb\"><img src=\"expr.png\" style=\"display:inline;vertical-align:middle;\" /></a><br>"
      ],
      "text/plain": [
       "<IPython.core.display.HTML object>"
      ]
     },
     "metadata": {},
     "output_type": "display_data"
    }
   ],
   "source": [
    "# build up the expression from sub-expressions\n",
    "expr = Lambda([A_1_to_j, B_1_to_k, C_1_to_l, D_1_to_m], Implies(QcircuitEquiv(circuit_Bk, circuit_Dm), QcircuitEquiv(circuit_AjBkCl, circuit_AjDmCl).with_wrapping_at(1)).with_wrapping_at(2))"
   ]
  },
  {
   "cell_type": "code",
   "execution_count": 3,
   "metadata": {},
   "outputs": [
    {
     "name": "stdout",
     "output_type": "stream",
     "text": [
      "Passed sanity check: expr matches stored_expr\n"
     ]
    }
   ],
   "source": [
    "# check that the built expression is the same as the stored expression\n",
    "assert expr == stored_expr\n",
    "assert expr._style_id == stored_expr._style_id\n",
    "print(\"Passed sanity check: expr matches stored_expr\")"
   ]
  },
  {
   "cell_type": "code",
   "execution_count": 4,
   "metadata": {},
   "outputs": [
    {
     "name": "stdout",
     "output_type": "stream",
     "text": [
      "\\left(A_{1}, A_{2}, \\ldots, A_{j}, B_{1}, B_{2}, \\ldots, B_{k}, C_{1}, C_{2}, \\ldots, C_{l}, D_{1}, D_{2}, \\ldots, D_{m}\\right) \\mapsto \\left(\\begin{array}{c} \\begin{array}{l} \\left(\\left(\\begin{array}{c} \\Qcircuit@C=1em @R=.7em{\n",
      "& \\gate{\\begin{array}{c} \\uparrow \\\\B_{1} \\\\ \\downarrow\\end{array}} & \\gate{\\begin{array}{c} \\uparrow \\\\B_{2} \\\\ \\downarrow\\end{array}} & \\gate{\\begin{array}{c} \\uparrow \\\\\\cdots \\\\ \\downarrow\\end{array}} & \\gate{\\begin{array}{c} \\uparrow \\\\B_{k} \\\\ \\downarrow\\end{array}} & \\qw\n",
      "} \\end{array}\\right) \\cong \\left(\\begin{array}{c} \\Qcircuit@C=1em @R=.7em{\n",
      "& \\gate{\\begin{array}{c} \\uparrow \\\\D_{1} \\\\ \\downarrow\\end{array}} & \\gate{\\begin{array}{c} \\uparrow \\\\D_{2} \\\\ \\downarrow\\end{array}} & \\gate{\\begin{array}{c} \\uparrow \\\\\\cdots \\\\ \\downarrow\\end{array}} & \\gate{\\begin{array}{c} \\uparrow \\\\D_{m} \\\\ \\downarrow\\end{array}} & \\qw\n",
      "} \\end{array}\\right)\\right) \\Rightarrow  \\\\ \\left(\\begin{array}{c} \\begin{array}{l} \\left(\\begin{array}{c} \\Qcircuit@C=1em @R=.7em{\n",
      "& \\gate{\\begin{array}{c} \\uparrow \\\\A_{1} \\\\ \\downarrow\\end{array}} & \\gate{\\begin{array}{c} \\uparrow \\\\A_{2} \\\\ \\downarrow\\end{array}} & \\gate{\\begin{array}{c} \\uparrow \\\\\\cdots \\\\ \\downarrow\\end{array}} & \\gate{\\begin{array}{c} \\uparrow \\\\A_{j} \\\\ \\downarrow\\end{array}} & \\gate{\\begin{array}{c} \\uparrow \\\\B_{1} \\\\ \\downarrow\\end{array}} & \\gate{\\begin{array}{c} \\uparrow \\\\B_{2} \\\\ \\downarrow\\end{array}} & \\gate{\\begin{array}{c} \\uparrow \\\\\\cdots \\\\ \\downarrow\\end{array}} & \\gate{\\begin{array}{c} \\uparrow \\\\B_{k} \\\\ \\downarrow\\end{array}} & \\gate{\\begin{array}{c} \\uparrow \\\\C_{1} \\\\ \\downarrow\\end{array}} & \\gate{\\begin{array}{c} \\uparrow \\\\C_{2} \\\\ \\downarrow\\end{array}} & \\gate{\\begin{array}{c} \\uparrow \\\\\\cdots \\\\ \\downarrow\\end{array}} & \\gate{\\begin{array}{c} \\uparrow \\\\C_{l} \\\\ \\downarrow\\end{array}} & \\qw\n",
      "} \\end{array}\\right) \\\\  \\cong \\left(\\begin{array}{c} \\Qcircuit@C=1em @R=.7em{\n",
      "& \\gate{\\begin{array}{c} \\uparrow \\\\A_{1} \\\\ \\downarrow\\end{array}} & \\gate{\\begin{array}{c} \\uparrow \\\\A_{2} \\\\ \\downarrow\\end{array}} & \\gate{\\begin{array}{c} \\uparrow \\\\\\cdots \\\\ \\downarrow\\end{array}} & \\gate{\\begin{array}{c} \\uparrow \\\\A_{j} \\\\ \\downarrow\\end{array}} & \\gate{\\begin{array}{c} \\uparrow \\\\D_{1} \\\\ \\downarrow\\end{array}} & \\gate{\\begin{array}{c} \\uparrow \\\\D_{2} \\\\ \\downarrow\\end{array}} & \\gate{\\begin{array}{c} \\uparrow \\\\\\cdots \\\\ \\downarrow\\end{array}} & \\gate{\\begin{array}{c} \\uparrow \\\\D_{m} \\\\ \\downarrow\\end{array}} & \\gate{\\begin{array}{c} \\uparrow \\\\C_{1} \\\\ \\downarrow\\end{array}} & \\gate{\\begin{array}{c} \\uparrow \\\\C_{2} \\\\ \\downarrow\\end{array}} & \\gate{\\begin{array}{c} \\uparrow \\\\\\cdots \\\\ \\downarrow\\end{array}} & \\gate{\\begin{array}{c} \\uparrow \\\\C_{l} \\\\ \\downarrow\\end{array}} & \\qw\n",
      "} \\end{array}\\right) \\end{array} \\end{array}\\right) \\end{array} \\end{array}\\right)\n"
     ]
    }
   ],
   "source": [
    "# Show the LaTeX representation of the expression for convenience if you need it.\n",
    "print(stored_expr.latex())"
   ]
  },
  {
   "cell_type": "code",
   "execution_count": 5,
   "metadata": {},
   "outputs": [
    {
     "data": {
      "text/html": [
       "no style options"
      ],
      "text/plain": [
       "no style options"
      ]
     },
     "metadata": {},
     "output_type": "display_data"
    }
   ],
   "source": [
    "stored_expr.style_options()"
   ]
  },
  {
   "cell_type": "code",
   "execution_count": 6,
   "metadata": {},
   "outputs": [
    {
     "data": {
      "text/html": [
       "<table><tr><th>&nbsp;</th><th>core type</th><th>sub-expressions</th><th>expression</th></tr>\n",
       "<tr><td>0</td><td>Lambda</td><td>parameters:&nbsp;1<br>body:&nbsp;2<br></td><td><a class=\"ProveItLink\" href=\"expr.ipynb\"><img src=\"expr.png\" style=\"display:inline;vertical-align:middle;\" /></a></td></tr>\n",
       "<tr><td>1</td><td>ExprTuple</td><td>20, 19, 22, 21</td><td><a class=\"ProveItLink\" href=\"../29452b2f5afd53f0e1d4474be5bba8ba438565600/expr.ipynb\"><img src=\"../29452b2f5afd53f0e1d4474be5bba8ba438565600/expr.png\" style=\"display:inline;vertical-align:middle;\" /></a></td></tr>\n",
       "<tr><td>2</td><td>Operation</td><td>operator:&nbsp;3<br>operands:&nbsp;4<br></td><td><a class=\"ProveItLink\" href=\"../a38d9a200efb9845f3b1f151d25bf17a0f471b210/expr.ipynb\"><img src=\"../a38d9a200efb9845f3b1f151d25bf17a0f471b210/expr.png\" style=\"display:inline;vertical-align:middle;\" /></a></td></tr>\n",
       "<tr><td>3</td><td>Literal</td><td></td><td><a class=\"ProveItLink\" href=\"../../../../../../logic/booleans/implication/__pv_it/common/02bdb382575728da8cdbaed545b9096ea7a1bd5b0/expr.ipynb\"><img src=\"../../../../../../logic/booleans/implication/__pv_it/common/02bdb382575728da8cdbaed545b9096ea7a1bd5b0/expr.png\" style=\"display:inline;vertical-align:middle;\" /></a></td></tr>\n",
       "<tr><td>4</td><td>ExprTuple</td><td>5, 6</td><td><a class=\"ProveItLink\" href=\"../94d292648fc1d47ce07815b62b1179c307e250a20/expr.ipynb\"><img src=\"../94d292648fc1d47ce07815b62b1179c307e250a20/expr.png\" style=\"display:inline;vertical-align:middle;\" /></a></td></tr>\n",
       "<tr><td>5</td><td>Operation</td><td>operator:&nbsp;8<br>operands:&nbsp;7<br></td><td><a class=\"ProveItLink\" href=\"../9c02df5adc055424a4bc0934cf005549fec988b80/expr.ipynb\"><img src=\"../9c02df5adc055424a4bc0934cf005549fec988b80/expr.png\" style=\"display:inline;vertical-align:middle;\" /></a></td></tr>\n",
       "<tr><td>6</td><td>Operation</td><td>operator:&nbsp;8<br>operands:&nbsp;9<br></td><td><a class=\"ProveItLink\" href=\"../cfffc29df01f661428be4039c3cde6d8071203ee0/expr.ipynb\"><img src=\"../cfffc29df01f661428be4039c3cde6d8071203ee0/expr.png\" style=\"display:inline;vertical-align:middle;\" /></a></td></tr>\n",
       "<tr><td>7</td><td>ExprTuple</td><td>10, 11</td><td><a class=\"ProveItLink\" href=\"../eac620c79c2b3d9bfaf66c5b3fe46c6a031c13c90/expr.ipynb\"><img src=\"../eac620c79c2b3d9bfaf66c5b3fe46c6a031c13c90/expr.png\" style=\"display:inline;vertical-align:middle;\" /></a></td></tr>\n",
       "<tr><td>8</td><td>Literal</td><td></td><td><a class=\"ProveItLink\" href=\"../../common/838a207b4d233a1702a5e7821ffac032fcae32e80/expr.ipynb\"><img src=\"../../common/838a207b4d233a1702a5e7821ffac032fcae32e80/expr.png\" style=\"display:inline;vertical-align:middle;\" /></a></td></tr>\n",
       "<tr><td>9</td><td>ExprTuple</td><td>12, 13</td><td><a class=\"ProveItLink\" href=\"../166952ec21a9d09d20e179927654468519f9844f0/expr.ipynb\"><img src=\"../166952ec21a9d09d20e179927654468519f9844f0/expr.png\" style=\"display:inline;vertical-align:middle;\" /></a></td></tr>\n",
       "<tr><td>10</td><td>Operation</td><td>operator:&nbsp;17<br>operands:&nbsp;14<br></td><td><a class=\"ProveItLink\" href=\"../../common/164801bb79c713609c20c1e949b5c100d33301a90/expr.ipynb\"><img src=\"../../common/164801bb79c713609c20c1e949b5c100d33301a90/expr.png\" style=\"display:inline;vertical-align:middle;\" /></a></td></tr>\n",
       "<tr><td>11</td><td>Operation</td><td>operator:&nbsp;17<br>operands:&nbsp;15<br></td><td><a class=\"ProveItLink\" href=\"../../common/92aee40056143f54a3477806fae44e76cd0eed890/expr.ipynb\"><img src=\"../../common/92aee40056143f54a3477806fae44e76cd0eed890/expr.png\" style=\"display:inline;vertical-align:middle;\" /></a></td></tr>\n",
       "<tr><td>12</td><td>Operation</td><td>operator:&nbsp;17<br>operands:&nbsp;16<br></td><td><a class=\"ProveItLink\" href=\"../../common/dddac0699649ea3711e035d09cbf6ba79ad4226f0/expr.ipynb\"><img src=\"../../common/dddac0699649ea3711e035d09cbf6ba79ad4226f0/expr.png\" style=\"display:inline;vertical-align:middle;\" /></a></td></tr>\n",
       "<tr><td>13</td><td>Operation</td><td>operator:&nbsp;17<br>operands:&nbsp;18<br></td><td><a class=\"ProveItLink\" href=\"../../common/fb4254066ae97daad65b0cf1d1fd7258e785e35b0/expr.ipynb\"><img src=\"../../common/fb4254066ae97daad65b0cf1d1fd7258e785e35b0/expr.png\" style=\"display:inline;vertical-align:middle;\" /></a></td></tr>\n",
       "<tr><td>14</td><td>ExprTuple</td><td>19</td><td><a class=\"ProveItLink\" href=\"../../common/de64c2cef0ceda1187e48b69c78b72bc349107e10/expr.ipynb\"><img src=\"../../common/de64c2cef0ceda1187e48b69c78b72bc349107e10/expr.png\" style=\"display:inline;vertical-align:middle;\" /></a></td></tr>\n",
       "<tr><td>15</td><td>ExprTuple</td><td>21</td><td><a class=\"ProveItLink\" href=\"../../common/275c6fcc335b946049af00a82071fc117d83a7470/expr.ipynb\"><img src=\"../../common/275c6fcc335b946049af00a82071fc117d83a7470/expr.png\" style=\"display:inline;vertical-align:middle;\" /></a></td></tr>\n",
       "<tr><td>16</td><td>ExprTuple</td><td>20, 19, 22</td><td><a class=\"ProveItLink\" href=\"../../common/e44836ad1c9a013080197911d9ed740277561d3b0/expr.ipynb\"><img src=\"../../common/e44836ad1c9a013080197911d9ed740277561d3b0/expr.png\" style=\"display:inline;vertical-align:middle;\" /></a></td></tr>\n",
       "<tr><td>17</td><td>Literal</td><td></td><td><a class=\"ProveItLink\" href=\"../../common/40003b89a3d1740159ada9fe5b21308b42a7d3d40/expr.ipynb\"><img src=\"../../common/40003b89a3d1740159ada9fe5b21308b42a7d3d40/expr.png\" style=\"display:inline;vertical-align:middle;\" /></a></td></tr>\n",
       "<tr><td>18</td><td>ExprTuple</td><td>20, 21, 22</td><td><a class=\"ProveItLink\" href=\"../../common/3937aacd94faf0a7e42f1f02b5307a14841505ee0/expr.ipynb\"><img src=\"../../common/3937aacd94faf0a7e42f1f02b5307a14841505ee0/expr.png\" style=\"display:inline;vertical-align:middle;\" /></a></td></tr>\n",
       "<tr><td>19</td><td>ExprRange</td><td>lambda_map:&nbsp;23<br>start_index:&nbsp;30<br>end_index:&nbsp;24<br></td><td><a class=\"ProveItLink\" href=\"../../common/7e57efd5d9a4194667c5bcaad46ebfba80807a1b0/expr.ipynb\"><img src=\"../../common/7e57efd5d9a4194667c5bcaad46ebfba80807a1b0/expr.png\" style=\"display:inline;vertical-align:middle;\" /></a></td></tr>\n",
       "<tr><td>20</td><td>ExprRange</td><td>lambda_map:&nbsp;25<br>start_index:&nbsp;30<br>end_index:&nbsp;26<br></td><td><a class=\"ProveItLink\" href=\"../../common/6f07f7e1cd84e684d7c7dec96c23c91dfce5a4940/expr.ipynb\"><img src=\"../../common/6f07f7e1cd84e684d7c7dec96c23c91dfce5a4940/expr.png\" style=\"display:inline;vertical-align:middle;\" /></a></td></tr>\n",
       "<tr><td>21</td><td>ExprRange</td><td>lambda_map:&nbsp;27<br>start_index:&nbsp;30<br>end_index:&nbsp;28<br></td><td><a class=\"ProveItLink\" href=\"../../common/e88fae0552e7a054a6e178462c55eae80258396d0/expr.ipynb\"><img src=\"../../common/e88fae0552e7a054a6e178462c55eae80258396d0/expr.png\" style=\"display:inline;vertical-align:middle;\" /></a></td></tr>\n",
       "<tr><td>22</td><td>ExprRange</td><td>lambda_map:&nbsp;29<br>start_index:&nbsp;30<br>end_index:&nbsp;31<br></td><td><a class=\"ProveItLink\" href=\"../../common/93180d12670d355000d63040daf06d1f65ce2b530/expr.ipynb\"><img src=\"../../common/93180d12670d355000d63040daf06d1f65ce2b530/expr.png\" style=\"display:inline;vertical-align:middle;\" /></a></td></tr>\n",
       "<tr><td>23</td><td>Lambda</td><td>parameter:&nbsp;41<br>body:&nbsp;32<br></td><td><a class=\"ProveItLink\" href=\"../../common/ce3be667460ed1a5c75aef291ca088671a4476f50/expr.ipynb\"><img src=\"../../common/ce3be667460ed1a5c75aef291ca088671a4476f50/expr.png\" style=\"display:inline;vertical-align:middle;\" /></a></td></tr>\n",
       "<tr><td>24</td><td>Variable</td><td></td><td><a class=\"ProveItLink\" href=\"../../../../../../__pv_it/common/63b7c64bf9ec7a04ecc396c7a1670f3f12fb59490/expr.ipynb\"><img src=\"../../../../../../__pv_it/common/63b7c64bf9ec7a04ecc396c7a1670f3f12fb59490/expr.png\" style=\"display:inline;vertical-align:middle;\" /></a></td></tr>\n",
       "<tr><td>25</td><td>Lambda</td><td>parameter:&nbsp;41<br>body:&nbsp;33<br></td><td><a class=\"ProveItLink\" href=\"../../../../../../core_expr_types/__pv_it/common/9332289e845003c758afc3bcee43498ae784f2d90/expr.ipynb\"><img src=\"../../../../../../core_expr_types/__pv_it/common/9332289e845003c758afc3bcee43498ae784f2d90/expr.png\" style=\"display:inline;vertical-align:middle;\" /></a></td></tr>\n",
       "<tr><td>26</td><td>Variable</td><td></td><td><a class=\"ProveItLink\" href=\"../../../../../../__pv_it/common/1ed21df18baca2f42b561a7ffbf30a2743d594650/expr.ipynb\"><img src=\"../../../../../../__pv_it/common/1ed21df18baca2f42b561a7ffbf30a2743d594650/expr.png\" style=\"display:inline;vertical-align:middle;\" /></a></td></tr>\n",
       "<tr><td>27</td><td>Lambda</td><td>parameter:&nbsp;41<br>body:&nbsp;34<br></td><td><a class=\"ProveItLink\" href=\"../../common/d88cd10a717d879065792fac15bfd242261d413f0/expr.ipynb\"><img src=\"../../common/d88cd10a717d879065792fac15bfd242261d413f0/expr.png\" style=\"display:inline;vertical-align:middle;\" /></a></td></tr>\n",
       "<tr><td>28</td><td>Variable</td><td></td><td><a class=\"ProveItLink\" href=\"../../../../../../__pv_it/common/674a03b9c3ca221b3aabd5636837b31528ff33830/expr.ipynb\"><img src=\"../../../../../../__pv_it/common/674a03b9c3ca221b3aabd5636837b31528ff33830/expr.png\" style=\"display:inline;vertical-align:middle;\" /></a></td></tr>\n",
       "<tr><td>29</td><td>Lambda</td><td>parameter:&nbsp;41<br>body:&nbsp;35<br></td><td><a class=\"ProveItLink\" href=\"../../common/026bda56f970646a226308e8b2ecd80b6505ab7c0/expr.ipynb\"><img src=\"../../common/026bda56f970646a226308e8b2ecd80b6505ab7c0/expr.png\" style=\"display:inline;vertical-align:middle;\" /></a></td></tr>\n",
       "<tr><td>30</td><td>Literal</td><td></td><td><a class=\"ProveItLink\" href=\"../../../../../../numbers/numerals/__pv_it/common/682157d4892d216d9e5626ed533aff9b56b9506e0/expr.ipynb\"><img src=\"../../../../../../numbers/numerals/__pv_it/common/682157d4892d216d9e5626ed533aff9b56b9506e0/expr.png\" style=\"display:inline;vertical-align:middle;\" /></a></td></tr>\n",
       "<tr><td>31</td><td>Variable</td><td></td><td><a class=\"ProveItLink\" href=\"../../../../../../__pv_it/common/27cc275d44b4f4499fb9ccfb3fab1a98165d2fa60/expr.ipynb\"><img src=\"../../../../../../__pv_it/common/27cc275d44b4f4499fb9ccfb3fab1a98165d2fa60/expr.png\" style=\"display:inline;vertical-align:middle;\" /></a></td></tr>\n",
       "<tr><td>32</td><td>IndexedVar</td><td>variable:&nbsp;36<br>index:&nbsp;41<br></td><td><a class=\"ProveItLink\" href=\"../../common/2d18b8ce771112ed7fafa8be6c3e3112c72709040/expr.ipynb\"><img src=\"../../common/2d18b8ce771112ed7fafa8be6c3e3112c72709040/expr.png\" style=\"display:inline;vertical-align:middle;\" /></a></td></tr>\n",
       "<tr><td>33</td><td>IndexedVar</td><td>variable:&nbsp;37<br>index:&nbsp;41<br></td><td><a class=\"ProveItLink\" href=\"../../../../../../core_expr_types/__pv_it/common/9fdaaadf1b3d81a308244818dc08833e7f5035730/expr.ipynb\"><img src=\"../../../../../../core_expr_types/__pv_it/common/9fdaaadf1b3d81a308244818dc08833e7f5035730/expr.png\" style=\"display:inline;vertical-align:middle;\" /></a></td></tr>\n",
       "<tr><td>34</td><td>IndexedVar</td><td>variable:&nbsp;38<br>index:&nbsp;41<br></td><td><a class=\"ProveItLink\" href=\"../../common/65f318fc71dcdb13bcf6bd6e3e19c255b4d45edb0/expr.ipynb\"><img src=\"../../common/65f318fc71dcdb13bcf6bd6e3e19c255b4d45edb0/expr.png\" style=\"display:inline;vertical-align:middle;\" /></a></td></tr>\n",
       "<tr><td>35</td><td>IndexedVar</td><td>variable:&nbsp;39<br>index:&nbsp;41<br></td><td><a class=\"ProveItLink\" href=\"../../common/853003cdceb86794413e5a679b110f27894fbda20/expr.ipynb\"><img src=\"../../common/853003cdceb86794413e5a679b110f27894fbda20/expr.png\" style=\"display:inline;vertical-align:middle;\" /></a></td></tr>\n",
       "<tr><td>36</td><td>Variable</td><td></td><td><a class=\"ProveItLink\" href=\"../../../../../../__pv_it/common/a9162d1c3cc0470c02e5daf414500903a7a419230/expr.ipynb\"><img src=\"../../../../../../__pv_it/common/a9162d1c3cc0470c02e5daf414500903a7a419230/expr.png\" style=\"display:inline;vertical-align:middle;\" /></a></td></tr>\n",
       "<tr><td>37</td><td>Variable</td><td></td><td><a class=\"ProveItLink\" href=\"../../../../../../__pv_it/common/09585084922504426caf1db2ff588a23a0932a960/expr.ipynb\"><img src=\"../../../../../../__pv_it/common/09585084922504426caf1db2ff588a23a0932a960/expr.png\" style=\"display:inline;vertical-align:middle;\" /></a></td></tr>\n",
       "<tr><td>38</td><td>Variable</td><td></td><td><a class=\"ProveItLink\" href=\"../../../../../../__pv_it/common/8d36d28f3636cdaa66f8b7d56eb3bbf0b50f70200/expr.ipynb\"><img src=\"../../../../../../__pv_it/common/8d36d28f3636cdaa66f8b7d56eb3bbf0b50f70200/expr.png\" style=\"display:inline;vertical-align:middle;\" /></a></td></tr>\n",
       "<tr><td>39</td><td>Variable</td><td></td><td><a class=\"ProveItLink\" href=\"../../../../../../__pv_it/common/9fba9f29e823606ff4fdf2f1c6d5d08d906e850a0/expr.ipynb\"><img src=\"../../../../../../__pv_it/common/9fba9f29e823606ff4fdf2f1c6d5d08d906e850a0/expr.png\" style=\"display:inline;vertical-align:middle;\" /></a></td></tr>\n",
       "<tr><td>40</td><td>ExprTuple</td><td>41</td><td><a class=\"ProveItLink\" href=\"../../../../../../core_expr_types/__pv_it/common/4b0dd6be36d76552eda6a95d5b4a27f5a5b62f900/expr.ipynb\"><img src=\"../../../../../../core_expr_types/__pv_it/common/4b0dd6be36d76552eda6a95d5b4a27f5a5b62f900/expr.png\" style=\"display:inline;vertical-align:middle;\" /></a></td></tr>\n",
       "<tr><td>41</td><td>Variable</td><td></td><td><a class=\"ProveItLink\" href=\"../../../../../../core_expr_types/__pv_it/common/006c465e50948aa2b52285e2de47974f741255cc0/expr.ipynb\"><img src=\"../../../../../../core_expr_types/__pv_it/common/006c465e50948aa2b52285e2de47974f741255cc0/expr.png\" style=\"display:inline;vertical-align:middle;\" /></a></td></tr>\n",
       "</table>\n"
      ],
      "text/plain": [
       "0. (A_{1}, A_{2}, ..., A_{j}, B_{1}, B_{2}, ..., B_{k}, C_{1}, C_{2}, ..., C_{l}, D_{1}, D_{2}, ..., D_{m}) -> ((QCIRCUIT(VertExprArray(B_{1}, B_{2}, ..., B_{k})) equiv QCIRCUIT(VertExprArray(D_{1}, D_{2}, ..., D_{m}))) =>  \\\\ (QCIRCUIT(VertExprArray(A_{1},  \\\\ A_{2},  \\\\ ..., A_{j},B_{1}, B_{2}, ..., B_{k},C_{1}, C_{2}, ..., C_{l})) \\\\  equiv QCIRCUIT(VertExprArray(A_{1},  \\\\ A_{2},  \\\\ ..., A_{j},D_{1}, D_{2}, ..., D_{m},C_{1}, C_{2}, ..., C_{l}))))\n",
       "   core type: Lambda\n",
       "   parameters: 1\\n   body: 2\n",
       "1. (A_{1}, A_{2}, ..., A_{j},B_{1}, B_{2}, ..., B_{k},C_{1}, C_{2}, ..., C_{l},D_{1}, D_{2}, ..., D_{m})\n",
       "   core type: ExprTuple\n",
       "   sub-expressions: 20, 19, 22, 21\n",
       "2. (QCIRCUIT(VertExprArray(B_{1}, B_{2}, ..., B_{k})) equiv QCIRCUIT(VertExprArray(D_{1}, D_{2}, ..., D_{m}))) =>  \\\\ (QCIRCUIT(VertExprArray(A_{1},  \\\\ A_{2},  \\\\ ..., A_{j},B_{1}, B_{2}, ..., B_{k},C_{1}, C_{2}, ..., C_{l})) \\\\  equiv QCIRCUIT(VertExprArray(A_{1},  \\\\ A_{2},  \\\\ ..., A_{j},D_{1}, D_{2}, ..., D_{m},C_{1}, C_{2}, ..., C_{l})))\n",
       "   core type: Operation\n",
       "   operator: 3\n",
       "   operands: 4\n",
       "3. =>\n",
       "   core type: Literal\n",
       "   sub-expressions: \n",
       "4. (QCIRCUIT(VertExprArray(B_{1}, B_{2}, ..., B_{k})) equiv QCIRCUIT(VertExprArray(D_{1}, D_{2}, ..., D_{m})), QCIRCUIT(VertExprArray(A_{1},  \\\\ A_{2},  \\\\ ..., A_{j},B_{1}, B_{2}, ..., B_{k},C_{1}, C_{2}, ..., C_{l})) \\\\  equiv QCIRCUIT(VertExprArray(A_{1},  \\\\ A_{2},  \\\\ ..., A_{j},D_{1}, D_{2}, ..., D_{m},C_{1}, C_{2}, ..., C_{l})))\n",
       "   core type: ExprTuple\n",
       "   sub-expressions: 5, 6\n",
       "5. QCIRCUIT(VertExprArray(B_{1}, B_{2}, ..., B_{k})) equiv QCIRCUIT(VertExprArray(D_{1}, D_{2}, ..., D_{m}))\n",
       "   core type: Operation\n",
       "   operator: 8\n",
       "   operands: 7\n",
       "6. QCIRCUIT(VertExprArray(A_{1},  \\\\ A_{2},  \\\\ ..., A_{j},B_{1}, B_{2}, ..., B_{k},C_{1}, C_{2}, ..., C_{l})) \\\\  equiv QCIRCUIT(VertExprArray(A_{1},  \\\\ A_{2},  \\\\ ..., A_{j},D_{1}, D_{2}, ..., D_{m},C_{1}, C_{2}, ..., C_{l}))\n",
       "   core type: Operation\n",
       "   operator: 8\n",
       "   operands: 9\n",
       "7. (QCIRCUIT(VertExprArray(B_{1}, B_{2}, ..., B_{k})), QCIRCUIT(VertExprArray(D_{1}, D_{2}, ..., D_{m})))\n",
       "   core type: ExprTuple\n",
       "   sub-expressions: 10, 11\n",
       "8. equiv\n",
       "   core type: Literal\n",
       "   sub-expressions: \n",
       "9. (QCIRCUIT(VertExprArray(A_{1},  \\\\ A_{2},  \\\\ ..., A_{j},B_{1}, B_{2}, ..., B_{k},C_{1}, C_{2}, ..., C_{l})), QCIRCUIT(VertExprArray(A_{1},  \\\\ A_{2},  \\\\ ..., A_{j},D_{1}, D_{2}, ..., D_{m},C_{1}, C_{2}, ..., C_{l})))\n",
       "   core type: ExprTuple\n",
       "   sub-expressions: 12, 13\n",
       "10. QCIRCUIT(VertExprArray(B_{1}, B_{2}, ..., B_{k}))\n",
       "    core type: Operation\n",
       "    operator: 17\n",
       "    operands: 14\n",
       "11. QCIRCUIT(VertExprArray(D_{1}, D_{2}, ..., D_{m}))\n",
       "    core type: Operation\n",
       "    operator: 17\n",
       "    operands: 15\n",
       "12. QCIRCUIT(VertExprArray(A_{1},  \\\\ A_{2},  \\\\ ..., A_{j},B_{1}, B_{2}, ..., B_{k},C_{1}, C_{2}, ..., C_{l}))\n",
       "    core type: Operation\n",
       "    operator: 17\n",
       "    operands: 16\n",
       "13. QCIRCUIT(VertExprArray(A_{1},  \\\\ A_{2},  \\\\ ..., A_{j},D_{1}, D_{2}, ..., D_{m},C_{1}, C_{2}, ..., C_{l}))\n",
       "    core type: Operation\n",
       "    operator: 17\n",
       "    operands: 18\n",
       "14. VertExprArray(B_{1}, B_{2}, ..., B_{k})\n",
       "    core type: ExprTuple\n",
       "    sub-expressions: 19\n",
       "15. VertExprArray(D_{1}, D_{2}, ..., D_{m})\n",
       "    core type: ExprTuple\n",
       "    sub-expressions: 21\n",
       "16. VertExprArray(A_{1},  \\\\ A_{2},  \\\\ ..., A_{j},B_{1}, B_{2}, ..., B_{k},C_{1}, C_{2}, ..., C_{l})\n",
       "    core type: ExprTuple\n",
       "    sub-expressions: 20, 19, 22\n",
       "17. QCIRCUIT\n",
       "    core type: Literal\n",
       "    sub-expressions: \n",
       "18. VertExprArray(A_{1},  \\\\ A_{2},  \\\\ ..., A_{j},D_{1}, D_{2}, ..., D_{m},C_{1}, C_{2}, ..., C_{l})\n",
       "    core type: ExprTuple\n",
       "    sub-expressions: 20, 21, 22\n",
       "19. B_{1}, B_{2}, ..., B_{k}\n",
       "    core type: ExprRange\n",
       "    lambda_map: 23\n",
       "    start_index: 30\n",
       "    end_index: 24\n",
       "20. A_{1}, A_{2}, ..., A_{j}\n",
       "    core type: ExprRange\n",
       "    lambda_map: 25\n",
       "    start_index: 30\n",
       "    end_index: 26\n",
       "21. D_{1}, D_{2}, ..., D_{m}\n",
       "    core type: ExprRange\n",
       "    lambda_map: 27\n",
       "    start_index: 30\n",
       "    end_index: 28\n",
       "22. C_{1}, C_{2}, ..., C_{l}\n",
       "    core type: ExprRange\n",
       "    lambda_map: 29\n",
       "    start_index: 30\n",
       "    end_index: 31\n",
       "23. _a -> B_{_a}\n",
       "    core type: Lambda\n",
       "    parameter: 41\n",
       "    body: 32\n",
       "24. k\n",
       "    core type: Variable\n",
       "    sub-expressions: \n",
       "25. _a -> A_{_a}\n",
       "    core type: Lambda\n",
       "    parameter: 41\n",
       "    body: 33\n",
       "26. j\n",
       "    core type: Variable\n",
       "    sub-expressions: \n",
       "27. _a -> D_{_a}\n",
       "    core type: Lambda\n",
       "    parameter: 41\n",
       "    body: 34\n",
       "28. m\n",
       "    core type: Variable\n",
       "    sub-expressions: \n",
       "29. _a -> C_{_a}\n",
       "    core type: Lambda\n",
       "    parameter: 41\n",
       "    body: 35\n",
       "30. 1\n",
       "    core type: Literal\n",
       "    sub-expressions: \n",
       "31. l\n",
       "    core type: Variable\n",
       "    sub-expressions: \n",
       "32. B_{_a}\n",
       "    core type: IndexedVar\n",
       "variable: 36\n",
       "index: 41\n",
       "33. A_{_a}\n",
       "    core type: IndexedVar\n",
       "variable: 37\n",
       "index: 41\n",
       "34. D_{_a}\n",
       "    core type: IndexedVar\n",
       "variable: 38\n",
       "index: 41\n",
       "35. C_{_a}\n",
       "    core type: IndexedVar\n",
       "variable: 39\n",
       "index: 41\n",
       "36. B\n",
       "    core type: Variable\n",
       "    sub-expressions: \n",
       "37. A\n",
       "    core type: Variable\n",
       "    sub-expressions: \n",
       "38. D\n",
       "    core type: Variable\n",
       "    sub-expressions: \n",
       "39. C\n",
       "    core type: Variable\n",
       "    sub-expressions: \n",
       "40. (_a)\n",
       "    core type: ExprTuple\n",
       "    sub-expressions: 41\n",
       "41. _a\n",
       "    core type: Variable\n",
       "    sub-expressions: "
      ]
     },
     "metadata": {},
     "output_type": "display_data"
    }
   ],
   "source": [
    "# display the expression information\n",
    "stored_expr.expr_info()"
   ]
  },
  {
   "cell_type": "code",
   "execution_count": null,
   "metadata": {},
   "outputs": [],
   "source": []
  }
 ],
 "metadata": {
  "kernelspec": {
   "display_name": "Python 3",
   "language": "python",
   "name": "python3"
  }
 },
 "nbformat": 4,
 "nbformat_minor": 0
}