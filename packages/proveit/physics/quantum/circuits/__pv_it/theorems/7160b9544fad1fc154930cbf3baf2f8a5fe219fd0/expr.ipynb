{
 "cells": [
  {
   "cell_type": "markdown",
   "metadata": {},
   "source": [
    "Expression of type <a class=\"ProveItLink\" href=\"../../../../../../../../doc/html/api/proveit.ExprTuple.html\">ExprTuple</a>\n",
    "=======================\n",
    "# from the theory of <a class=\"ProveItLink\" href=\"../../../_theory_nbs_/theory.ipynb\">proveit.physics.quantum.circuits</a>"
   ]
  },
  {
   "cell_type": "code",
   "execution_count": 1,
   "metadata": {},
   "outputs": [],
   "source": [
    "import proveit\n",
    "# Automation is not needed when building an expression:\n",
    "proveit.defaults.automation = False # This will speed things up.\n",
    "proveit.defaults.inline_pngs = False # Makes files smaller.\n",
    "%load_expr # Load the stored expression as 'stored_expr'\n",
    "# import Expression classes needed to build the expression\n",
    "from proveit import ExprTuple\n",
    "from proveit.physics.quantum.circuits import circuit_AkClm, circuit_BkClm"
   ]
  },
  {
   "cell_type": "code",
   "execution_count": 2,
   "metadata": {},
   "outputs": [
    {
     "data": {
      "text/html": [
       "<strong id=\"expr\">expr:</strong> <a class=\"ProveItLink\" href=\"expr.ipynb\"><img src=\"expr.png\" style=\"display:inline;vertical-align:middle;\" /></a><br>"
      ],
      "text/plain": [
       "<IPython.core.display.HTML object>"
      ]
     },
     "metadata": {},
     "output_type": "display_data"
    }
   ],
   "source": [
    "# build up the expression from sub-expressions\n",
    "expr = ExprTuple(circuit_AkClm, circuit_BkClm)"
   ]
  },
  {
   "cell_type": "code",
   "execution_count": 3,
   "metadata": {},
   "outputs": [
    {
     "name": "stdout",
     "output_type": "stream",
     "text": [
      "Passed sanity check: expr matches stored_expr\n"
     ]
    }
   ],
   "source": [
    "# check that the built expression is the same as the stored expression\n",
    "assert expr == stored_expr\n",
    "assert expr._style_id == stored_expr._style_id\n",
    "print(\"Passed sanity check: expr matches stored_expr\")"
   ]
  },
  {
   "cell_type": "code",
   "execution_count": 4,
   "metadata": {},
   "outputs": [
    {
     "name": "stdout",
     "output_type": "stream",
     "text": [
      "\\left(\\begin{array}{c} \\Qcircuit@C=1em @R=.7em{\n",
      "& \\gate{A_{1, 1}~\\mbox{on}~R_{1, 1}} \\qwx[1] & \\gate{A_{2, 1}~\\mbox{on}~R_{2, 1}} \\qwx[1] & \\gate{\\cdots} \\qwx[1] & \\gate{A_{m, 1}~\\mbox{on}~R_{m, 1}} \\qwx[1] & \\qw \\\\\n",
      "& \\gate{A_{1, 2}~\\mbox{on}~R_{1, 2}} \\qwx[1] & \\gate{A_{2, 2}~\\mbox{on}~R_{2, 2}} \\qwx[1] & \\gate{\\cdots} \\qwx[1] & \\gate{A_{m, 2}~\\mbox{on}~R_{m, 2}} \\qwx[1] & \\qw \\\\\n",
      "& \\gate{\\vdots} \\qwx[1] & \\gate{\\vdots} \\qwx[1] & \\gate{\\ddots} \\qwx[1] & \\gate{\\vdots} \\qwx[1] & \\qw \\\\\n",
      "& \\gate{A_{1, k}~\\mbox{on}~R_{1, k}} \\qwx[1] & \\gate{A_{2, k}~\\mbox{on}~R_{2, k}} \\qwx[1] & \\gate{\\cdots} \\qwx[1] & \\gate{A_{m, k}~\\mbox{on}~R_{m, k}} \\qwx[1] & \\qw \\\\\n",
      "& \\gate{C_{1, 1}~\\mbox{on}~T_{1, 1}} \\qwx[1] & \\gate{C_{2, 1}~\\mbox{on}~T_{2, 1}} \\qwx[1] & \\gate{\\cdots} \\qwx[1] & \\gate{C_{m, 1}~\\mbox{on}~T_{m, 1}} \\qwx[1] & \\qw \\\\\n",
      "& \\gate{C_{1, 2}~\\mbox{on}~T_{1, 2}} \\qwx[1] & \\gate{C_{2, 2}~\\mbox{on}~T_{2, 2}} \\qwx[1] & \\gate{\\cdots} \\qwx[1] & \\gate{C_{m, 2}~\\mbox{on}~T_{m, 2}} \\qwx[1] & \\qw \\\\\n",
      "& \\gate{\\vdots} \\qwx[1] & \\gate{\\vdots} \\qwx[1] & \\gate{\\ddots} \\qwx[1] & \\gate{\\vdots} \\qwx[1] & \\qw \\\\\n",
      "& \\gate{C_{1, l}~\\mbox{on}~T_{1, l}} & \\gate{C_{2, l}~\\mbox{on}~T_{2, l}} & \\gate{\\cdots} & \\gate{C_{m, l}~\\mbox{on}~T_{m, l}} & \\qw\n",
      "} \\end{array}, \\begin{array}{c} \\Qcircuit@C=1em @R=.7em{\n",
      "& \\gate{B_{1, 1}~\\mbox{on}~S_{1, 1}} \\qwx[1] & \\gate{B_{2, 1}~\\mbox{on}~S_{2, 1}} \\qwx[1] & \\gate{\\cdots} \\qwx[1] & \\gate{B_{m, 1}~\\mbox{on}~S_{m, 1}} \\qwx[1] & \\qw \\\\\n",
      "& \\gate{B_{1, 2}~\\mbox{on}~S_{1, 2}} \\qwx[1] & \\gate{B_{2, 2}~\\mbox{on}~S_{2, 2}} \\qwx[1] & \\gate{\\cdots} \\qwx[1] & \\gate{B_{m, 2}~\\mbox{on}~S_{m, 2}} \\qwx[1] & \\qw \\\\\n",
      "& \\gate{\\vdots} \\qwx[1] & \\gate{\\vdots} \\qwx[1] & \\gate{\\ddots} \\qwx[1] & \\gate{\\vdots} \\qwx[1] & \\qw \\\\\n",
      "& \\gate{B_{1, k}~\\mbox{on}~S_{1, k}} \\qwx[1] & \\gate{B_{2, k}~\\mbox{on}~S_{2, k}} \\qwx[1] & \\gate{\\cdots} \\qwx[1] & \\gate{B_{m, k}~\\mbox{on}~S_{m, k}} \\qwx[1] & \\qw \\\\\n",
      "& \\gate{C_{1, 1}~\\mbox{on}~T_{1, 1}} \\qwx[1] & \\gate{C_{2, 1}~\\mbox{on}~T_{2, 1}} \\qwx[1] & \\gate{\\cdots} \\qwx[1] & \\gate{C_{m, 1}~\\mbox{on}~T_{m, 1}} \\qwx[1] & \\qw \\\\\n",
      "& \\gate{C_{1, 2}~\\mbox{on}~T_{1, 2}} \\qwx[1] & \\gate{C_{2, 2}~\\mbox{on}~T_{2, 2}} \\qwx[1] & \\gate{\\cdots} \\qwx[1] & \\gate{C_{m, 2}~\\mbox{on}~T_{m, 2}} \\qwx[1] & \\qw \\\\\n",
      "& \\gate{\\vdots} \\qwx[1] & \\gate{\\vdots} \\qwx[1] & \\gate{\\ddots} \\qwx[1] & \\gate{\\vdots} \\qwx[1] & \\qw \\\\\n",
      "& \\gate{C_{1, l}~\\mbox{on}~T_{1, l}} & \\gate{C_{2, l}~\\mbox{on}~T_{2, l}} & \\gate{\\cdots} & \\gate{C_{m, l}~\\mbox{on}~T_{m, l}} & \\qw\n",
      "} \\end{array}\\right)\n"
     ]
    }
   ],
   "source": [
    "# Show the LaTeX representation of the expression for convenience if you need it.\n",
    "print(stored_expr.latex())"
   ]
  },
  {
   "cell_type": "code",
   "execution_count": 5,
   "metadata": {},
   "outputs": [
    {
     "data": {
      "text/html": [
       "<table>\n",
       "<tr><th>name</th><th>description</th><th>default</th><th>current value</th><th>related methods</th></tr><tr><td>wrap_positions</td><td>position(s) at which wrapping is to occur; 'n' is after the nth comma.</td><td>()</td><td>()</td><td>('with_wrapping_at',)</td></tr>\n",
       "<tr><td>justification</td><td>if any wrap positions are set, justify to the 'left', 'center', or 'right'</td><td>left</td><td>left</td><td>('with_justification',)</td></tr>\n",
       "</table>\n"
      ],
      "text/plain": [
       "style name: wrap_positions\n",
       "description: position(s) at which wrapping is to occur; 'n' is after the nth comma.\n",
       "default: ()\n",
       "current value: ()\n",
       "related methods: ('with_wrapping_at',)\n",
       "style name: justification\n",
       "description: if any wrap positions are set, justify to the 'left', 'center', or 'right'\n",
       "default: left\n",
       "current value: left\n",
       "related methods: ('with_justification',)"
      ]
     },
     "metadata": {},
     "output_type": "display_data"
    }
   ],
   "source": [
    "stored_expr.style_options()"
   ]
  },
  {
   "cell_type": "code",
   "execution_count": 6,
   "metadata": {},
   "outputs": [
    {
     "data": {
      "text/html": [
       "<table><tr><th>&nbsp;</th><th>core type</th><th>sub-expressions</th><th>expression</th></tr>\n",
       "<tr><td>0</td><td>ExprTuple</td><td>1, 2</td><td><a class=\"ProveItLink\" href=\"expr.ipynb\"><img src=\"expr.png\" style=\"display:inline;vertical-align:middle;\" /></a></td></tr>\n",
       "<tr><td>1</td><td>Operation</td><td>operator:&nbsp;4<br>operands:&nbsp;3<br></td><td><a class=\"ProveItLink\" href=\"../../common/56c6aa83ffec64de67bf3672da6a054ab7d0838c0/expr.ipynb\"><img src=\"../../common/56c6aa83ffec64de67bf3672da6a054ab7d0838c0/expr.png\" style=\"display:inline;vertical-align:middle;\" /></a></td></tr>\n",
       "<tr><td>2</td><td>Operation</td><td>operator:&nbsp;4<br>operands:&nbsp;5<br></td><td><a class=\"ProveItLink\" href=\"../../common/ef132338ff9e69c19ce9bf002934388cc59eb1e60/expr.ipynb\"><img src=\"../../common/ef132338ff9e69c19ce9bf002934388cc59eb1e60/expr.png\" style=\"display:inline;vertical-align:middle;\" /></a></td></tr>\n",
       "<tr><td>3</td><td>ExprTuple</td><td>6</td><td><a class=\"ProveItLink\" href=\"../../common/a3f0d591dc225ca95743b3a98af3ac2c61494e730/expr.ipynb\"><img src=\"../../common/a3f0d591dc225ca95743b3a98af3ac2c61494e730/expr.png\" style=\"display:inline;vertical-align:middle;\" /></a></td></tr>\n",
       "<tr><td>4</td><td>Literal</td><td></td><td><a class=\"ProveItLink\" href=\"../../common/40003b89a3d1740159ada9fe5b21308b42a7d3d40/expr.ipynb\"><img src=\"../../common/40003b89a3d1740159ada9fe5b21308b42a7d3d40/expr.png\" style=\"display:inline;vertical-align:middle;\" /></a></td></tr>\n",
       "<tr><td>5</td><td>ExprTuple</td><td>7</td><td><a class=\"ProveItLink\" href=\"../../common/e3369ea6b73027914d1dc1ddf0e7bc775a2435f70/expr.ipynb\"><img src=\"../../common/e3369ea6b73027914d1dc1ddf0e7bc775a2435f70/expr.png\" style=\"display:inline;vertical-align:middle;\" /></a></td></tr>\n",
       "<tr><td>6</td><td>ExprRange</td><td>lambda_map:&nbsp;8<br>start_index:&nbsp;21<br>end_index:&nbsp;10<br></td><td><a class=\"ProveItLink\" href=\"../../common/4528ebdf518d956cdb858a93491583626e6f83660/expr.ipynb\"><img src=\"../../common/4528ebdf518d956cdb858a93491583626e6f83660/expr.png\" style=\"display:inline;vertical-align:middle;\" /></a></td></tr>\n",
       "<tr><td>7</td><td>ExprRange</td><td>lambda_map:&nbsp;9<br>start_index:&nbsp;21<br>end_index:&nbsp;10<br></td><td><a class=\"ProveItLink\" href=\"../../common/2cb7f0c55b99382c00c1748ced240a99db07f1bd0/expr.ipynb\"><img src=\"../../common/2cb7f0c55b99382c00c1748ced240a99db07f1bd0/expr.png\" style=\"display:inline;vertical-align:middle;\" /></a></td></tr>\n",
       "<tr><td>8</td><td>Lambda</td><td>parameter:&nbsp;44<br>body:&nbsp;11<br></td><td><a class=\"ProveItLink\" href=\"../../common/e765169c7c810d7485c1fef5559fe71b4cebc22e0/expr.ipynb\"><img src=\"../../common/e765169c7c810d7485c1fef5559fe71b4cebc22e0/expr.png\" style=\"display:inline;vertical-align:middle;\" /></a></td></tr>\n",
       "<tr><td>9</td><td>Lambda</td><td>parameter:&nbsp;44<br>body:&nbsp;13<br></td><td><a class=\"ProveItLink\" href=\"../../common/147390e6e34870a8d58d0409c45b1e7848392bd40/expr.ipynb\"><img src=\"../../common/147390e6e34870a8d58d0409c45b1e7848392bd40/expr.png\" style=\"display:inline;vertical-align:middle;\" /></a></td></tr>\n",
       "<tr><td>10</td><td>Variable</td><td></td><td><a class=\"ProveItLink\" href=\"../../../../../../__pv_it/common/674a03b9c3ca221b3aabd5636837b31528ff33830/expr.ipynb\"><img src=\"../../../../../../__pv_it/common/674a03b9c3ca221b3aabd5636837b31528ff33830/expr.png\" style=\"display:inline;vertical-align:middle;\" /></a></td></tr>\n",
       "<tr><td>11</td><td>ExprTuple</td><td>14, 16</td><td><a class=\"ProveItLink\" href=\"../../common/ae0ab1431b521fbf56021703b81fc9ceed6fcf740/expr.ipynb\"><img src=\"../../common/ae0ab1431b521fbf56021703b81fc9ceed6fcf740/expr.png\" style=\"display:inline;vertical-align:middle;\" /></a></td></tr>\n",
       "<tr><td>12</td><td>ExprTuple</td><td>44</td><td><a class=\"ProveItLink\" href=\"../../../../../../core_expr_types/expr_arrays/__pv_it/common/18f7318b68e45ff8356043b6e71619fa8450fb200/expr.ipynb\"><img src=\"../../../../../../core_expr_types/expr_arrays/__pv_it/common/18f7318b68e45ff8356043b6e71619fa8450fb200/expr.png\" style=\"display:inline;vertical-align:middle;\" /></a></td></tr>\n",
       "<tr><td>13</td><td>ExprTuple</td><td>15, 16</td><td><a class=\"ProveItLink\" href=\"../../common/69b29b3cbfafb8a177a8185a0b78ffa0e330c6e10/expr.ipynb\"><img src=\"../../common/69b29b3cbfafb8a177a8185a0b78ffa0e330c6e10/expr.png\" style=\"display:inline;vertical-align:middle;\" /></a></td></tr>\n",
       "<tr><td>14</td><td>ExprRange</td><td>lambda_map:&nbsp;17<br>start_index:&nbsp;21<br>end_index:&nbsp;19<br></td><td><a class=\"ProveItLink\" href=\"../../common/92208ceda3f7100ce294e5fb31daa3fca8cd3d7f0/expr.ipynb\"><img src=\"../../common/92208ceda3f7100ce294e5fb31daa3fca8cd3d7f0/expr.png\" style=\"display:inline;vertical-align:middle;\" /></a></td></tr>\n",
       "<tr><td>15</td><td>ExprRange</td><td>lambda_map:&nbsp;18<br>start_index:&nbsp;21<br>end_index:&nbsp;19<br></td><td><a class=\"ProveItLink\" href=\"../../common/fe84ee1eca039d437b468eb66908ef1a3edcbaec0/expr.ipynb\"><img src=\"../../common/fe84ee1eca039d437b468eb66908ef1a3edcbaec0/expr.png\" style=\"display:inline;vertical-align:middle;\" /></a></td></tr>\n",
       "<tr><td>16</td><td>ExprRange</td><td>lambda_map:&nbsp;20<br>start_index:&nbsp;21<br>end_index:&nbsp;22<br></td><td><a class=\"ProveItLink\" href=\"../../common/e45675d78199b8d537970a0d12019d19b7050cd70/expr.ipynb\"><img src=\"../../common/e45675d78199b8d537970a0d12019d19b7050cd70/expr.png\" style=\"display:inline;vertical-align:middle;\" /></a></td></tr>\n",
       "<tr><td>17</td><td>Lambda</td><td>parameter:&nbsp;45<br>body:&nbsp;23<br></td><td><a class=\"ProveItLink\" href=\"../../common/b45696b93fefc8c861c0f05f31d9ed26fde8760d0/expr.ipynb\"><img src=\"../../common/b45696b93fefc8c861c0f05f31d9ed26fde8760d0/expr.png\" style=\"display:inline;vertical-align:middle;\" /></a></td></tr>\n",
       "<tr><td>18</td><td>Lambda</td><td>parameter:&nbsp;45<br>body:&nbsp;24<br></td><td><a class=\"ProveItLink\" href=\"../../common/61255e922742f0140b48df2ceaa534788ca630d20/expr.ipynb\"><img src=\"../../common/61255e922742f0140b48df2ceaa534788ca630d20/expr.png\" style=\"display:inline;vertical-align:middle;\" /></a></td></tr>\n",
       "<tr><td>19</td><td>Variable</td><td></td><td><a class=\"ProveItLink\" href=\"../../../../../../__pv_it/common/63b7c64bf9ec7a04ecc396c7a1670f3f12fb59490/expr.ipynb\"><img src=\"../../../../../../__pv_it/common/63b7c64bf9ec7a04ecc396c7a1670f3f12fb59490/expr.png\" style=\"display:inline;vertical-align:middle;\" /></a></td></tr>\n",
       "<tr><td>20</td><td>Lambda</td><td>parameter:&nbsp;45<br>body:&nbsp;26<br></td><td><a class=\"ProveItLink\" href=\"../../common/dad6c131a7a119fe38faac213b3d9a884ad7f31f0/expr.ipynb\"><img src=\"../../common/dad6c131a7a119fe38faac213b3d9a884ad7f31f0/expr.png\" style=\"display:inline;vertical-align:middle;\" /></a></td></tr>\n",
       "<tr><td>21</td><td>Literal</td><td></td><td><a class=\"ProveItLink\" href=\"../../../../../../numbers/numerals/__pv_it/common/682157d4892d216d9e5626ed533aff9b56b9506e0/expr.ipynb\"><img src=\"../../../../../../numbers/numerals/__pv_it/common/682157d4892d216d9e5626ed533aff9b56b9506e0/expr.png\" style=\"display:inline;vertical-align:middle;\" /></a></td></tr>\n",
       "<tr><td>22</td><td>Variable</td><td></td><td><a class=\"ProveItLink\" href=\"../../../../../../__pv_it/common/27cc275d44b4f4499fb9ccfb3fab1a98165d2fa60/expr.ipynb\"><img src=\"../../../../../../__pv_it/common/27cc275d44b4f4499fb9ccfb3fab1a98165d2fa60/expr.png\" style=\"display:inline;vertical-align:middle;\" /></a></td></tr>\n",
       "<tr><td>23</td><td>Operation</td><td>operator:&nbsp;29<br>operands:&nbsp;27<br></td><td><a class=\"ProveItLink\" href=\"../../common/83389986be2e3765e0415fcc2827e7612045a5db0/expr.ipynb\"><img src=\"../../common/83389986be2e3765e0415fcc2827e7612045a5db0/expr.png\" style=\"display:inline;vertical-align:middle;\" /></a></td></tr>\n",
       "<tr><td>24</td><td>Operation</td><td>operator:&nbsp;29<br>operands:&nbsp;28<br></td><td><a class=\"ProveItLink\" href=\"../../common/f3ed14dd929e3739ec8467d2e407ce1f452399760/expr.ipynb\"><img src=\"../../common/f3ed14dd929e3739ec8467d2e407ce1f452399760/expr.png\" style=\"display:inline;vertical-align:middle;\" /></a></td></tr>\n",
       "<tr><td>25</td><td>ExprTuple</td><td>45</td><td><a class=\"ProveItLink\" href=\"../../../../../../core_expr_types/__pv_it/common/4b0dd6be36d76552eda6a95d5b4a27f5a5b62f900/expr.ipynb\"><img src=\"../../../../../../core_expr_types/__pv_it/common/4b0dd6be36d76552eda6a95d5b4a27f5a5b62f900/expr.png\" style=\"display:inline;vertical-align:middle;\" /></a></td></tr>\n",
       "<tr><td>26</td><td>Operation</td><td>operator:&nbsp;29<br>operands:&nbsp;30<br></td><td><a class=\"ProveItLink\" href=\"../../common/5d9049fadfc486c1a431704075e9cb6fcdbc26d90/expr.ipynb\"><img src=\"../../common/5d9049fadfc486c1a431704075e9cb6fcdbc26d90/expr.png\" style=\"display:inline;vertical-align:middle;\" /></a></td></tr>\n",
       "<tr><td>27</td><td>NamedExprs</td><td>element: 31<br>targets: 32<br></td><td><a class=\"ProveItLink\" href=\"../../common/f53446c5933e70791fa06c3f0ab3d6fecec92f540/expr.ipynb\"><img src=\"../../common/f53446c5933e70791fa06c3f0ab3d6fecec92f540/expr.png\" style=\"display:inline;vertical-align:middle;\" /></a></td></tr>\n",
       "<tr><td>28</td><td>NamedExprs</td><td>element: 33<br>targets: 34<br></td><td><a class=\"ProveItLink\" href=\"../../common/669c57ce15957cbc7ca3018b0c17facc3b4e373b0/expr.ipynb\"><img src=\"../../common/669c57ce15957cbc7ca3018b0c17facc3b4e373b0/expr.png\" style=\"display:inline;vertical-align:middle;\" /></a></td></tr>\n",
       "<tr><td>29</td><td>Literal</td><td></td><td><a class=\"ProveItLink\" href=\"../../common/5eaa43008f05c06941080a12337ff182ea14996e0/expr.ipynb\"><img src=\"../../common/5eaa43008f05c06941080a12337ff182ea14996e0/expr.png\" style=\"display:inline;vertical-align:middle;\" /></a></td></tr>\n",
       "<tr><td>30</td><td>NamedExprs</td><td>element: 35<br>targets: 36<br></td><td><a class=\"ProveItLink\" href=\"../../common/fdad8082829e17aff93e5c32bfd4544505b7c7090/expr.ipynb\"><img src=\"../../common/fdad8082829e17aff93e5c32bfd4544505b7c7090/expr.png\" style=\"display:inline;vertical-align:middle;\" /></a></td></tr>\n",
       "<tr><td>31</td><td>IndexedVar</td><td>variable:&nbsp;37<br>indices:&nbsp;43<br></td><td><a class=\"ProveItLink\" href=\"../../../../../../core_expr_types/expr_arrays/__pv_it/common/de56197d2c2a64a76930b89ea44fb63be43f4c020/expr.ipynb\"><img src=\"../../../../../../core_expr_types/expr_arrays/__pv_it/common/de56197d2c2a64a76930b89ea44fb63be43f4c020/expr.png\" style=\"display:inline;vertical-align:middle;\" /></a></td></tr>\n",
       "<tr><td>32</td><td>IndexedVar</td><td>variable:&nbsp;38<br>indices:&nbsp;43<br></td><td><a class=\"ProveItLink\" href=\"../../common/9f63f4fa390f65f917cfd4a5a56ca1fed476dbb90/expr.ipynb\"><img src=\"../../common/9f63f4fa390f65f917cfd4a5a56ca1fed476dbb90/expr.png\" style=\"display:inline;vertical-align:middle;\" /></a></td></tr>\n",
       "<tr><td>33</td><td>IndexedVar</td><td>variable:&nbsp;39<br>indices:&nbsp;43<br></td><td><a class=\"ProveItLink\" href=\"../../../../../../core_expr_types/expr_arrays/__pv_it/common/e79cd0fe4a2577a30580c7ee9d8c9195486094ac0/expr.ipynb\"><img src=\"../../../../../../core_expr_types/expr_arrays/__pv_it/common/e79cd0fe4a2577a30580c7ee9d8c9195486094ac0/expr.png\" style=\"display:inline;vertical-align:middle;\" /></a></td></tr>\n",
       "<tr><td>34</td><td>IndexedVar</td><td>variable:&nbsp;40<br>indices:&nbsp;43<br></td><td><a class=\"ProveItLink\" href=\"../../../../../../core_expr_types/expr_arrays/__pv_it/common/0f7c549cbda7f227e480c00ef45e264d9ad9b1850/expr.ipynb\"><img src=\"../../../../../../core_expr_types/expr_arrays/__pv_it/common/0f7c549cbda7f227e480c00ef45e264d9ad9b1850/expr.png\" style=\"display:inline;vertical-align:middle;\" /></a></td></tr>\n",
       "<tr><td>35</td><td>IndexedVar</td><td>variable:&nbsp;41<br>indices:&nbsp;43<br></td><td><a class=\"ProveItLink\" href=\"../../common/2eb9b63d569ed8899f6bc27936009b69461cfe6b0/expr.ipynb\"><img src=\"../../common/2eb9b63d569ed8899f6bc27936009b69461cfe6b0/expr.png\" style=\"display:inline;vertical-align:middle;\" /></a></td></tr>\n",
       "<tr><td>36</td><td>IndexedVar</td><td>variable:&nbsp;42<br>indices:&nbsp;43<br></td><td><a class=\"ProveItLink\" href=\"../../common/40f3483a1f1998756b131ee144447e759efc02930/expr.ipynb\"><img src=\"../../common/40f3483a1f1998756b131ee144447e759efc02930/expr.png\" style=\"display:inline;vertical-align:middle;\" /></a></td></tr>\n",
       "<tr><td>37</td><td>Variable</td><td></td><td><a class=\"ProveItLink\" href=\"../../../../../../__pv_it/common/09585084922504426caf1db2ff588a23a0932a960/expr.ipynb\"><img src=\"../../../../../../__pv_it/common/09585084922504426caf1db2ff588a23a0932a960/expr.png\" style=\"display:inline;vertical-align:middle;\" /></a></td></tr>\n",
       "<tr><td>38</td><td>Variable</td><td></td><td><a class=\"ProveItLink\" href=\"../../../../../../__pv_it/common/647ca33d6b96e29d5aa85a15d2241c7ebd0c6e4b0/expr.ipynb\"><img src=\"../../../../../../__pv_it/common/647ca33d6b96e29d5aa85a15d2241c7ebd0c6e4b0/expr.png\" style=\"display:inline;vertical-align:middle;\" /></a></td></tr>\n",
       "<tr><td>39</td><td>Variable</td><td></td><td><a class=\"ProveItLink\" href=\"../../../../../../__pv_it/common/a9162d1c3cc0470c02e5daf414500903a7a419230/expr.ipynb\"><img src=\"../../../../../../__pv_it/common/a9162d1c3cc0470c02e5daf414500903a7a419230/expr.png\" style=\"display:inline;vertical-align:middle;\" /></a></td></tr>\n",
       "<tr><td>40</td><td>Variable</td><td></td><td><a class=\"ProveItLink\" href=\"../../../../../../__pv_it/common/38f47c5670ea8c5b56253448e95d8afb56bc09b40/expr.ipynb\"><img src=\"../../../../../../__pv_it/common/38f47c5670ea8c5b56253448e95d8afb56bc09b40/expr.png\" style=\"display:inline;vertical-align:middle;\" /></a></td></tr>\n",
       "<tr><td>41</td><td>Variable</td><td></td><td><a class=\"ProveItLink\" href=\"../../../../../../__pv_it/common/9fba9f29e823606ff4fdf2f1c6d5d08d906e850a0/expr.ipynb\"><img src=\"../../../../../../__pv_it/common/9fba9f29e823606ff4fdf2f1c6d5d08d906e850a0/expr.png\" style=\"display:inline;vertical-align:middle;\" /></a></td></tr>\n",
       "<tr><td>42</td><td>Variable</td><td></td><td><a class=\"ProveItLink\" href=\"../../../../../../__pv_it/common/69c70dfa5f18cd09af12f2dcafa9764efe6f8cbd0/expr.ipynb\"><img src=\"../../../../../../__pv_it/common/69c70dfa5f18cd09af12f2dcafa9764efe6f8cbd0/expr.png\" style=\"display:inline;vertical-align:middle;\" /></a></td></tr>\n",
       "<tr><td>43</td><td>ExprTuple</td><td>44, 45</td><td><a class=\"ProveItLink\" href=\"../../../../../../core_expr_types/expr_arrays/__pv_it/common/c899820ca7633ea1589f21e8e039aa4da91850d80/expr.ipynb\"><img src=\"../../../../../../core_expr_types/expr_arrays/__pv_it/common/c899820ca7633ea1589f21e8e039aa4da91850d80/expr.png\" style=\"display:inline;vertical-align:middle;\" /></a></td></tr>\n",
       "<tr><td>44</td><td>Variable</td><td></td><td><a class=\"ProveItLink\" href=\"../../../../../../core_expr_types/expr_arrays/__pv_it/common/9a18d67b443cf8d92289c655ed91ec78766170a90/expr.ipynb\"><img src=\"../../../../../../core_expr_types/expr_arrays/__pv_it/common/9a18d67b443cf8d92289c655ed91ec78766170a90/expr.png\" style=\"display:inline;vertical-align:middle;\" /></a></td></tr>\n",
       "<tr><td>45</td><td>Variable</td><td></td><td><a class=\"ProveItLink\" href=\"../../../../../../core_expr_types/expr_arrays/__pv_it/common/006c465e50948aa2b52285e2de47974f741255cc0/expr.ipynb\"><img src=\"../../../../../../core_expr_types/expr_arrays/__pv_it/common/006c465e50948aa2b52285e2de47974f741255cc0/expr.png\" style=\"display:inline;vertical-align:middle;\" /></a></td></tr>\n",
       "</table>\n"
      ],
      "text/plain": [
       "0. (QCIRCUIT(VertExprArray(([MULTI_QUBIT_ELEM]{element:A_{1, 1}, targets:R_{1, 1}}, [MULTI_QUBIT_ELEM]{element:A_{1, 2}, targets:R_{1, 2}}, ..., [MULTI_QUBIT_ELEM]{element:A_{1, k}, targets:R_{1, k}},[MULTI_QUBIT_ELEM]{element:C_{1, 1}, targets:T_{1, 1}}, [MULTI_QUBIT_ELEM]{element:C_{1, 2}, targets:T_{1, 2}}, ..., [MULTI_QUBIT_ELEM]{element:C_{1, l}, targets:T_{1, l}}), ([MULTI_QUBIT_ELEM]{element:A_{2, 1}, targets:R_{2, 1}}, [MULTI_QUBIT_ELEM]{element:A_{2, 2}, targets:R_{2, 2}}, ..., [MULTI_QUBIT_ELEM]{element:A_{2, k}, targets:R_{2, k}},[MULTI_QUBIT_ELEM]{element:C_{2, 1}, targets:T_{2, 1}}, [MULTI_QUBIT_ELEM]{element:C_{2, 2}, targets:T_{2, 2}}, ..., [MULTI_QUBIT_ELEM]{element:C_{2, l}, targets:T_{2, l}}), ..., ([MULTI_QUBIT_ELEM]{element:A_{m, 1}, targets:R_{m, 1}}, [MULTI_QUBIT_ELEM]{element:A_{m, 2}, targets:R_{m, 2}}, ..., [MULTI_QUBIT_ELEM]{element:A_{m, k}, targets:R_{m, k}},[MULTI_QUBIT_ELEM]{element:C_{m, 1}, targets:T_{m, 1}}, [MULTI_QUBIT_ELEM]{element:C_{m, 2}, targets:T_{m, 2}}, ..., [MULTI_QUBIT_ELEM]{element:C_{m, l}, targets:T_{m, l}}))), QCIRCUIT(VertExprArray(([MULTI_QUBIT_ELEM]{element:B_{1, 1}, targets:S_{1, 1}}, [MULTI_QUBIT_ELEM]{element:B_{1, 2}, targets:S_{1, 2}}, ..., [MULTI_QUBIT_ELEM]{element:B_{1, k}, targets:S_{1, k}},[MULTI_QUBIT_ELEM]{element:C_{1, 1}, targets:T_{1, 1}}, [MULTI_QUBIT_ELEM]{element:C_{1, 2}, targets:T_{1, 2}}, ..., [MULTI_QUBIT_ELEM]{element:C_{1, l}, targets:T_{1, l}}), ([MULTI_QUBIT_ELEM]{element:B_{2, 1}, targets:S_{2, 1}}, [MULTI_QUBIT_ELEM]{element:B_{2, 2}, targets:S_{2, 2}}, ..., [MULTI_QUBIT_ELEM]{element:B_{2, k}, targets:S_{2, k}},[MULTI_QUBIT_ELEM]{element:C_{2, 1}, targets:T_{2, 1}}, [MULTI_QUBIT_ELEM]{element:C_{2, 2}, targets:T_{2, 2}}, ..., [MULTI_QUBIT_ELEM]{element:C_{2, l}, targets:T_{2, l}}), ..., ([MULTI_QUBIT_ELEM]{element:B_{m, 1}, targets:S_{m, 1}}, [MULTI_QUBIT_ELEM]{element:B_{m, 2}, targets:S_{m, 2}}, ..., [MULTI_QUBIT_ELEM]{element:B_{m, k}, targets:S_{m, k}},[MULTI_QUBIT_ELEM]{element:C_{m, 1}, targets:T_{m, 1}}, [MULTI_QUBIT_ELEM]{element:C_{m, 2}, targets:T_{m, 2}}, ..., [MULTI_QUBIT_ELEM]{element:C_{m, l}, targets:T_{m, l}}))))\n",
       "   core type: ExprTuple\n",
       "   sub-expressions: 1, 2\n",
       "1. QCIRCUIT(VertExprArray(([MULTI_QUBIT_ELEM]{element:A_{1, 1}, targets:R_{1, 1}}, [MULTI_QUBIT_ELEM]{element:A_{1, 2}, targets:R_{1, 2}}, ..., [MULTI_QUBIT_ELEM]{element:A_{1, k}, targets:R_{1, k}},[MULTI_QUBIT_ELEM]{element:C_{1, 1}, targets:T_{1, 1}}, [MULTI_QUBIT_ELEM]{element:C_{1, 2}, targets:T_{1, 2}}, ..., [MULTI_QUBIT_ELEM]{element:C_{1, l}, targets:T_{1, l}}), ([MULTI_QUBIT_ELEM]{element:A_{2, 1}, targets:R_{2, 1}}, [MULTI_QUBIT_ELEM]{element:A_{2, 2}, targets:R_{2, 2}}, ..., [MULTI_QUBIT_ELEM]{element:A_{2, k}, targets:R_{2, k}},[MULTI_QUBIT_ELEM]{element:C_{2, 1}, targets:T_{2, 1}}, [MULTI_QUBIT_ELEM]{element:C_{2, 2}, targets:T_{2, 2}}, ..., [MULTI_QUBIT_ELEM]{element:C_{2, l}, targets:T_{2, l}}), ..., ([MULTI_QUBIT_ELEM]{element:A_{m, 1}, targets:R_{m, 1}}, [MULTI_QUBIT_ELEM]{element:A_{m, 2}, targets:R_{m, 2}}, ..., [MULTI_QUBIT_ELEM]{element:A_{m, k}, targets:R_{m, k}},[MULTI_QUBIT_ELEM]{element:C_{m, 1}, targets:T_{m, 1}}, [MULTI_QUBIT_ELEM]{element:C_{m, 2}, targets:T_{m, 2}}, ..., [MULTI_QUBIT_ELEM]{element:C_{m, l}, targets:T_{m, l}})))\n",
       "   core type: Operation\n",
       "   operator: 4\n",
       "   operands: 3\n",
       "2. QCIRCUIT(VertExprArray(([MULTI_QUBIT_ELEM]{element:B_{1, 1}, targets:S_{1, 1}}, [MULTI_QUBIT_ELEM]{element:B_{1, 2}, targets:S_{1, 2}}, ..., [MULTI_QUBIT_ELEM]{element:B_{1, k}, targets:S_{1, k}},[MULTI_QUBIT_ELEM]{element:C_{1, 1}, targets:T_{1, 1}}, [MULTI_QUBIT_ELEM]{element:C_{1, 2}, targets:T_{1, 2}}, ..., [MULTI_QUBIT_ELEM]{element:C_{1, l}, targets:T_{1, l}}), ([MULTI_QUBIT_ELEM]{element:B_{2, 1}, targets:S_{2, 1}}, [MULTI_QUBIT_ELEM]{element:B_{2, 2}, targets:S_{2, 2}}, ..., [MULTI_QUBIT_ELEM]{element:B_{2, k}, targets:S_{2, k}},[MULTI_QUBIT_ELEM]{element:C_{2, 1}, targets:T_{2, 1}}, [MULTI_QUBIT_ELEM]{element:C_{2, 2}, targets:T_{2, 2}}, ..., [MULTI_QUBIT_ELEM]{element:C_{2, l}, targets:T_{2, l}}), ..., ([MULTI_QUBIT_ELEM]{element:B_{m, 1}, targets:S_{m, 1}}, [MULTI_QUBIT_ELEM]{element:B_{m, 2}, targets:S_{m, 2}}, ..., [MULTI_QUBIT_ELEM]{element:B_{m, k}, targets:S_{m, k}},[MULTI_QUBIT_ELEM]{element:C_{m, 1}, targets:T_{m, 1}}, [MULTI_QUBIT_ELEM]{element:C_{m, 2}, targets:T_{m, 2}}, ..., [MULTI_QUBIT_ELEM]{element:C_{m, l}, targets:T_{m, l}})))\n",
       "   core type: Operation\n",
       "   operator: 4\n",
       "   operands: 5\n",
       "3. VertExprArray(([MULTI_QUBIT_ELEM]{element:A_{1, 1}, targets:R_{1, 1}}, [MULTI_QUBIT_ELEM]{element:A_{1, 2}, targets:R_{1, 2}}, ..., [MULTI_QUBIT_ELEM]{element:A_{1, k}, targets:R_{1, k}},[MULTI_QUBIT_ELEM]{element:C_{1, 1}, targets:T_{1, 1}}, [MULTI_QUBIT_ELEM]{element:C_{1, 2}, targets:T_{1, 2}}, ..., [MULTI_QUBIT_ELEM]{element:C_{1, l}, targets:T_{1, l}}), ([MULTI_QUBIT_ELEM]{element:A_{2, 1}, targets:R_{2, 1}}, [MULTI_QUBIT_ELEM]{element:A_{2, 2}, targets:R_{2, 2}}, ..., [MULTI_QUBIT_ELEM]{element:A_{2, k}, targets:R_{2, k}},[MULTI_QUBIT_ELEM]{element:C_{2, 1}, targets:T_{2, 1}}, [MULTI_QUBIT_ELEM]{element:C_{2, 2}, targets:T_{2, 2}}, ..., [MULTI_QUBIT_ELEM]{element:C_{2, l}, targets:T_{2, l}}), ..., ([MULTI_QUBIT_ELEM]{element:A_{m, 1}, targets:R_{m, 1}}, [MULTI_QUBIT_ELEM]{element:A_{m, 2}, targets:R_{m, 2}}, ..., [MULTI_QUBIT_ELEM]{element:A_{m, k}, targets:R_{m, k}},[MULTI_QUBIT_ELEM]{element:C_{m, 1}, targets:T_{m, 1}}, [MULTI_QUBIT_ELEM]{element:C_{m, 2}, targets:T_{m, 2}}, ..., [MULTI_QUBIT_ELEM]{element:C_{m, l}, targets:T_{m, l}}))\n",
       "   core type: ExprTuple\n",
       "   sub-expressions: 6\n",
       "4. QCIRCUIT\n",
       "   core type: Literal\n",
       "   sub-expressions: \n",
       "5. VertExprArray(([MULTI_QUBIT_ELEM]{element:B_{1, 1}, targets:S_{1, 1}}, [MULTI_QUBIT_ELEM]{element:B_{1, 2}, targets:S_{1, 2}}, ..., [MULTI_QUBIT_ELEM]{element:B_{1, k}, targets:S_{1, k}},[MULTI_QUBIT_ELEM]{element:C_{1, 1}, targets:T_{1, 1}}, [MULTI_QUBIT_ELEM]{element:C_{1, 2}, targets:T_{1, 2}}, ..., [MULTI_QUBIT_ELEM]{element:C_{1, l}, targets:T_{1, l}}), ([MULTI_QUBIT_ELEM]{element:B_{2, 1}, targets:S_{2, 1}}, [MULTI_QUBIT_ELEM]{element:B_{2, 2}, targets:S_{2, 2}}, ..., [MULTI_QUBIT_ELEM]{element:B_{2, k}, targets:S_{2, k}},[MULTI_QUBIT_ELEM]{element:C_{2, 1}, targets:T_{2, 1}}, [MULTI_QUBIT_ELEM]{element:C_{2, 2}, targets:T_{2, 2}}, ..., [MULTI_QUBIT_ELEM]{element:C_{2, l}, targets:T_{2, l}}), ..., ([MULTI_QUBIT_ELEM]{element:B_{m, 1}, targets:S_{m, 1}}, [MULTI_QUBIT_ELEM]{element:B_{m, 2}, targets:S_{m, 2}}, ..., [MULTI_QUBIT_ELEM]{element:B_{m, k}, targets:S_{m, k}},[MULTI_QUBIT_ELEM]{element:C_{m, 1}, targets:T_{m, 1}}, [MULTI_QUBIT_ELEM]{element:C_{m, 2}, targets:T_{m, 2}}, ..., [MULTI_QUBIT_ELEM]{element:C_{m, l}, targets:T_{m, l}}))\n",
       "   core type: ExprTuple\n",
       "   sub-expressions: 7\n",
       "6. ([MULTI_QUBIT_ELEM]{element:A_{1, 1}, targets:R_{1, 1}}, [MULTI_QUBIT_ELEM]{element:A_{1, 2}, targets:R_{1, 2}}, ..., [MULTI_QUBIT_ELEM]{element:A_{1, k}, targets:R_{1, k}},[MULTI_QUBIT_ELEM]{element:C_{1, 1}, targets:T_{1, 1}}, [MULTI_QUBIT_ELEM]{element:C_{1, 2}, targets:T_{1, 2}}, ..., [MULTI_QUBIT_ELEM]{element:C_{1, l}, targets:T_{1, l}}), ([MULTI_QUBIT_ELEM]{element:A_{2, 1}, targets:R_{2, 1}}, [MULTI_QUBIT_ELEM]{element:A_{2, 2}, targets:R_{2, 2}}, ..., [MULTI_QUBIT_ELEM]{element:A_{2, k}, targets:R_{2, k}},[MULTI_QUBIT_ELEM]{element:C_{2, 1}, targets:T_{2, 1}}, [MULTI_QUBIT_ELEM]{element:C_{2, 2}, targets:T_{2, 2}}, ..., [MULTI_QUBIT_ELEM]{element:C_{2, l}, targets:T_{2, l}}), ..., ([MULTI_QUBIT_ELEM]{element:A_{m, 1}, targets:R_{m, 1}}, [MULTI_QUBIT_ELEM]{element:A_{m, 2}, targets:R_{m, 2}}, ..., [MULTI_QUBIT_ELEM]{element:A_{m, k}, targets:R_{m, k}},[MULTI_QUBIT_ELEM]{element:C_{m, 1}, targets:T_{m, 1}}, [MULTI_QUBIT_ELEM]{element:C_{m, 2}, targets:T_{m, 2}}, ..., [MULTI_QUBIT_ELEM]{element:C_{m, l}, targets:T_{m, l}})\n",
       "   core type: ExprRange\n",
       "   lambda_map: 8\n",
       "   start_index: 21\n",
       "   end_index: 10\n",
       "7. ([MULTI_QUBIT_ELEM]{element:B_{1, 1}, targets:S_{1, 1}}, [MULTI_QUBIT_ELEM]{element:B_{1, 2}, targets:S_{1, 2}}, ..., [MULTI_QUBIT_ELEM]{element:B_{1, k}, targets:S_{1, k}},[MULTI_QUBIT_ELEM]{element:C_{1, 1}, targets:T_{1, 1}}, [MULTI_QUBIT_ELEM]{element:C_{1, 2}, targets:T_{1, 2}}, ..., [MULTI_QUBIT_ELEM]{element:C_{1, l}, targets:T_{1, l}}), ([MULTI_QUBIT_ELEM]{element:B_{2, 1}, targets:S_{2, 1}}, [MULTI_QUBIT_ELEM]{element:B_{2, 2}, targets:S_{2, 2}}, ..., [MULTI_QUBIT_ELEM]{element:B_{2, k}, targets:S_{2, k}},[MULTI_QUBIT_ELEM]{element:C_{2, 1}, targets:T_{2, 1}}, [MULTI_QUBIT_ELEM]{element:C_{2, 2}, targets:T_{2, 2}}, ..., [MULTI_QUBIT_ELEM]{element:C_{2, l}, targets:T_{2, l}}), ..., ([MULTI_QUBIT_ELEM]{element:B_{m, 1}, targets:S_{m, 1}}, [MULTI_QUBIT_ELEM]{element:B_{m, 2}, targets:S_{m, 2}}, ..., [MULTI_QUBIT_ELEM]{element:B_{m, k}, targets:S_{m, k}},[MULTI_QUBIT_ELEM]{element:C_{m, 1}, targets:T_{m, 1}}, [MULTI_QUBIT_ELEM]{element:C_{m, 2}, targets:T_{m, 2}}, ..., [MULTI_QUBIT_ELEM]{element:C_{m, l}, targets:T_{m, l}})\n",
       "   core type: ExprRange\n",
       "   lambda_map: 9\n",
       "   start_index: 21\n",
       "   end_index: 10\n",
       "8. _b -> ([MULTI_QUBIT_ELEM]{element:A_{_b, 1}, targets:R_{_b, 1}}, [MULTI_QUBIT_ELEM]{element:A_{_b, 2}, targets:R_{_b, 2}}, ..., [MULTI_QUBIT_ELEM]{element:A_{_b, k}, targets:R_{_b, k}},[MULTI_QUBIT_ELEM]{element:C_{_b, 1}, targets:T_{_b, 1}}, [MULTI_QUBIT_ELEM]{element:C_{_b, 2}, targets:T_{_b, 2}}, ..., [MULTI_QUBIT_ELEM]{element:C_{_b, l}, targets:T_{_b, l}})\n",
       "   core type: Lambda\n",
       "   parameter: 44\n",
       "   body: 11\n",
       "9. _b -> ([MULTI_QUBIT_ELEM]{element:B_{_b, 1}, targets:S_{_b, 1}}, [MULTI_QUBIT_ELEM]{element:B_{_b, 2}, targets:S_{_b, 2}}, ..., [MULTI_QUBIT_ELEM]{element:B_{_b, k}, targets:S_{_b, k}},[MULTI_QUBIT_ELEM]{element:C_{_b, 1}, targets:T_{_b, 1}}, [MULTI_QUBIT_ELEM]{element:C_{_b, 2}, targets:T_{_b, 2}}, ..., [MULTI_QUBIT_ELEM]{element:C_{_b, l}, targets:T_{_b, l}})\n",
       "   core type: Lambda\n",
       "   parameter: 44\n",
       "   body: 13\n",
       "10. m\n",
       "    core type: Variable\n",
       "    sub-expressions: \n",
       "11. ([MULTI_QUBIT_ELEM]{element:A_{_b, 1}, targets:R_{_b, 1}}, [MULTI_QUBIT_ELEM]{element:A_{_b, 2}, targets:R_{_b, 2}}, ..., [MULTI_QUBIT_ELEM]{element:A_{_b, k}, targets:R_{_b, k}},[MULTI_QUBIT_ELEM]{element:C_{_b, 1}, targets:T_{_b, 1}}, [MULTI_QUBIT_ELEM]{element:C_{_b, 2}, targets:T_{_b, 2}}, ..., [MULTI_QUBIT_ELEM]{element:C_{_b, l}, targets:T_{_b, l}})\n",
       "    core type: ExprTuple\n",
       "    sub-expressions: 14, 16\n",
       "12. (_b)\n",
       "    core type: ExprTuple\n",
       "    sub-expressions: 44\n",
       "13. ([MULTI_QUBIT_ELEM]{element:B_{_b, 1}, targets:S_{_b, 1}}, [MULTI_QUBIT_ELEM]{element:B_{_b, 2}, targets:S_{_b, 2}}, ..., [MULTI_QUBIT_ELEM]{element:B_{_b, k}, targets:S_{_b, k}},[MULTI_QUBIT_ELEM]{element:C_{_b, 1}, targets:T_{_b, 1}}, [MULTI_QUBIT_ELEM]{element:C_{_b, 2}, targets:T_{_b, 2}}, ..., [MULTI_QUBIT_ELEM]{element:C_{_b, l}, targets:T_{_b, l}})\n",
       "    core type: ExprTuple\n",
       "    sub-expressions: 15, 16\n",
       "14. [MULTI_QUBIT_ELEM]{element:A_{_b, 1}, targets:R_{_b, 1}}, [MULTI_QUBIT_ELEM]{element:A_{_b, 2}, targets:R_{_b, 2}}, ..., [MULTI_QUBIT_ELEM]{element:A_{_b, k}, targets:R_{_b, k}}\n",
       "    core type: ExprRange\n",
       "    lambda_map: 17\n",
       "    start_index: 21\n",
       "    end_index: 19\n",
       "15. [MULTI_QUBIT_ELEM]{element:B_{_b, 1}, targets:S_{_b, 1}}, [MULTI_QUBIT_ELEM]{element:B_{_b, 2}, targets:S_{_b, 2}}, ..., [MULTI_QUBIT_ELEM]{element:B_{_b, k}, targets:S_{_b, k}}\n",
       "    core type: ExprRange\n",
       "    lambda_map: 18\n",
       "    start_index: 21\n",
       "    end_index: 19\n",
       "16. [MULTI_QUBIT_ELEM]{element:C_{_b, 1}, targets:T_{_b, 1}}, [MULTI_QUBIT_ELEM]{element:C_{_b, 2}, targets:T_{_b, 2}}, ..., [MULTI_QUBIT_ELEM]{element:C_{_b, l}, targets:T_{_b, l}}\n",
       "    core type: ExprRange\n",
       "    lambda_map: 20\n",
       "    start_index: 21\n",
       "    end_index: 22\n",
       "17. _a -> [MULTI_QUBIT_ELEM]{element:A_{_b, _a}, targets:R_{_b, _a}}\n",
       "    core type: Lambda\n",
       "    parameter: 45\n",
       "    body: 23\n",
       "18. _a -> [MULTI_QUBIT_ELEM]{element:B_{_b, _a}, targets:S_{_b, _a}}\n",
       "    core type: Lambda\n",
       "    parameter: 45\n",
       "    body: 24\n",
       "19. k\n",
       "    core type: Variable\n",
       "    sub-expressions: \n",
       "20. _a -> [MULTI_QUBIT_ELEM]{element:C_{_b, _a}, targets:T_{_b, _a}}\n",
       "    core type: Lambda\n",
       "    parameter: 45\n",
       "    body: 26\n",
       "21. 1\n",
       "    core type: Literal\n",
       "    sub-expressions: \n",
       "22. l\n",
       "    core type: Variable\n",
       "    sub-expressions: \n",
       "23. [MULTI_QUBIT_ELEM]{element:A_{_b, _a}, targets:R_{_b, _a}}\n",
       "    core type: Operation\n",
       "    operator: 29\n",
       "    operands: 27\n",
       "24. [MULTI_QUBIT_ELEM]{element:B_{_b, _a}, targets:S_{_b, _a}}\n",
       "    core type: Operation\n",
       "    operator: 29\n",
       "    operands: 28\n",
       "25. (_a)\n",
       "    core type: ExprTuple\n",
       "    sub-expressions: 45\n",
       "26. [MULTI_QUBIT_ELEM]{element:C_{_b, _a}, targets:T_{_b, _a}}\n",
       "    core type: Operation\n",
       "    operator: 29\n",
       "    operands: 30\n",
       "27. {element:A_{_b, _a}, targets:R_{_b, _a}}\n",
       "    core type: NamedExprs\n",
       "    element: 31\n",
       "    targets: 32\n",
       "28. {element:B_{_b, _a}, targets:S_{_b, _a}}\n",
       "    core type: NamedExprs\n",
       "    element: 33\n",
       "    targets: 34\n",
       "29. MULTI_QUBIT_ELEM\n",
       "    core type: Literal\n",
       "    sub-expressions: \n",
       "30. {element:C_{_b, _a}, targets:T_{_b, _a}}\n",
       "    core type: NamedExprs\n",
       "    element: 35\n",
       "    targets: 36\n",
       "31. A_{_b, _a}\n",
       "    core type: IndexedVar\n",
       "variable: 37\n",
       "indices: 43\n",
       "32. R_{_b, _a}\n",
       "    core type: IndexedVar\n",
       "variable: 38\n",
       "indices: 43\n",
       "33. B_{_b, _a}\n",
       "    core type: IndexedVar\n",
       "variable: 39\n",
       "indices: 43\n",
       "34. S_{_b, _a}\n",
       "    core type: IndexedVar\n",
       "variable: 40\n",
       "indices: 43\n",
       "35. C_{_b, _a}\n",
       "    core type: IndexedVar\n",
       "variable: 41\n",
       "indices: 43\n",
       "36. T_{_b, _a}\n",
       "    core type: IndexedVar\n",
       "variable: 42\n",
       "indices: 43\n",
       "37. A\n",
       "    core type: Variable\n",
       "    sub-expressions: \n",
       "38. R\n",
       "    core type: Variable\n",
       "    sub-expressions: \n",
       "39. B\n",
       "    core type: Variable\n",
       "    sub-expressions: \n",
       "40. S\n",
       "    core type: Variable\n",
       "    sub-expressions: \n",
       "41. C\n",
       "    core type: Variable\n",
       "    sub-expressions: \n",
       "42. T\n",
       "    core type: Variable\n",
       "    sub-expressions: \n",
       "43. (_b, _a)\n",
       "    core type: ExprTuple\n",
       "    sub-expressions: 44, 45\n",
       "44. _b\n",
       "    core type: Variable\n",
       "    sub-expressions: \n",
       "45. _a\n",
       "    core type: Variable\n",
       "    sub-expressions: "
      ]
     },
     "metadata": {},
     "output_type": "display_data"
    }
   ],
   "source": [
    "# display the expression information\n",
    "stored_expr.expr_info()"
   ]
  },
  {
   "cell_type": "code",
   "execution_count": null,
   "metadata": {},
   "outputs": [],
   "source": []
  }
 ],
 "metadata": {
  "kernelspec": {
   "display_name": "Python 3",
   "language": "python",
   "name": "python3"
  }
 },
 "nbformat": 4,
 "nbformat_minor": 0
}