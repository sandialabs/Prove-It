{
 "cells": [
  {
   "cell_type": "markdown",
   "metadata": {},
   "source": [
    "Expression of type <a class=\"ProveItLink\" href=\"../../../../../../../../doc/html/api/proveit.ExprTuple.html\">ExprTuple</a>\n",
    "=======================\n",
    "# from the theory of <a class=\"ProveItLink\" href=\"../../../_theory_nbs_/theory.ipynb\">proveit.physics.quantum.circuits</a>"
   ]
  },
  {
   "cell_type": "code",
   "execution_count": 1,
   "metadata": {},
   "outputs": [],
   "source": [
    "import proveit\n",
    "# Automation is not needed when building an expression:\n",
    "proveit.defaults.automation = False # This will speed things up.\n",
    "proveit.defaults.inline_pngs = False # Makes files smaller.\n",
    "%load_expr # Load the stored expression as 'stored_expr'\n",
    "# import Expression classes needed to build the expression\n",
    "from proveit import ExprTuple\n",
    "from proveit.core_expr_types.expr_arrays import R11_to_Rkm, S11_to_Skm, T11_to_Tlm"
   ]
  },
  {
   "cell_type": "code",
   "execution_count": 2,
   "metadata": {},
   "outputs": [
    {
     "data": {
      "text/html": [
       "<strong id=\"expr\">expr:</strong> <a class=\"ProveItLink\" href=\"expr.ipynb\"><img src=\"expr.png\" style=\"display:inline;vertical-align:middle;\" /></a><br>"
      ],
      "text/plain": [
       "<IPython.core.display.HTML object>"
      ]
     },
     "metadata": {},
     "output_type": "display_data"
    }
   ],
   "source": [
    "# build up the expression from sub-expressions\n",
    "expr = ExprTuple(R11_to_Rkm, S11_to_Skm, T11_to_Tlm)"
   ]
  },
  {
   "cell_type": "code",
   "execution_count": 3,
   "metadata": {},
   "outputs": [
    {
     "name": "stdout",
     "output_type": "stream",
     "text": [
      "Passed sanity check: expr matches stored_expr\n"
     ]
    }
   ],
   "source": [
    "# check that the built expression is the same as the stored expression\n",
    "assert expr == stored_expr\n",
    "assert expr._style_id == stored_expr._style_id\n",
    "print(\"Passed sanity check: expr matches stored_expr\")"
   ]
  },
  {
   "cell_type": "code",
   "execution_count": 4,
   "metadata": {},
   "outputs": [
    {
     "name": "stdout",
     "output_type": "stream",
     "text": [
      "\\left(R_{1, 1}, R_{1, 2}, \\ldots, R_{1, m}, R_{2, 1}, R_{2, 2}, \\ldots, R_{2, m}, \\ldots\\ldots, R_{k, 1}, R_{k, 2}, \\ldots, R_{k, m},S_{1, 1}, S_{1, 2}, \\ldots, S_{1, m}, S_{2, 1}, S_{2, 2}, \\ldots, S_{2, m}, \\ldots\\ldots, S_{k, 1}, S_{k, 2}, \\ldots, S_{k, m},T_{1, 1}, T_{1, 2}, \\ldots, T_{1, m}, T_{2, 1}, T_{2, 2}, \\ldots, T_{2, m}, \\ldots\\ldots, T_{l, 1}, T_{l, 2}, \\ldots, T_{l, m}\\right)\n"
     ]
    }
   ],
   "source": [
    "# Show the LaTeX representation of the expression for convenience if you need it.\n",
    "print(stored_expr.latex())"
   ]
  },
  {
   "cell_type": "code",
   "execution_count": 5,
   "metadata": {},
   "outputs": [
    {
     "data": {
      "text/html": [
       "<table>\n",
       "<tr><th>name</th><th>description</th><th>default</th><th>current value</th><th>related methods</th></tr><tr><td>wrap_positions</td><td>position(s) at which wrapping is to occur; 'n' is after the nth comma.</td><td>()</td><td>()</td><td>('with_wrapping_at',)</td></tr>\n",
       "<tr><td>justification</td><td>if any wrap positions are set, justify to the 'left', 'center', or 'right'</td><td>left</td><td>left</td><td>('with_justification',)</td></tr>\n",
       "</table>\n"
      ],
      "text/plain": [
       "style name: wrap_positions\n",
       "description: position(s) at which wrapping is to occur; 'n' is after the nth comma.\n",
       "default: ()\n",
       "current value: ()\n",
       "related methods: ('with_wrapping_at',)\n",
       "style name: justification\n",
       "description: if any wrap positions are set, justify to the 'left', 'center', or 'right'\n",
       "default: left\n",
       "current value: left\n",
       "related methods: ('with_justification',)"
      ]
     },
     "metadata": {},
     "output_type": "display_data"
    }
   ],
   "source": [
    "stored_expr.style_options()"
   ]
  },
  {
   "cell_type": "code",
   "execution_count": 6,
   "metadata": {},
   "outputs": [
    {
     "data": {
      "text/html": [
       "<table><tr><th>&nbsp;</th><th>core type</th><th>sub-expressions</th><th>expression</th></tr>\n",
       "<tr><td>0</td><td>ExprTuple</td><td>1, 2, 3</td><td><a class=\"ProveItLink\" href=\"expr.ipynb\"><img src=\"expr.png\" style=\"display:inline;vertical-align:middle;\" /></a></td></tr>\n",
       "<tr><td>1</td><td>ExprRange</td><td>lambda_map:&nbsp;4<br>start_index:&nbsp;16<br>end_index:&nbsp;6<br></td><td><a class=\"ProveItLink\" href=\"../../../../../../core_expr_types/expr_arrays/__pv_it/common/55b538f65464b6726ae477b5e6c716c335878aa70/expr.ipynb\"><img src=\"../../../../../../core_expr_types/expr_arrays/__pv_it/common/55b538f65464b6726ae477b5e6c716c335878aa70/expr.png\" style=\"display:inline;vertical-align:middle;\" /></a></td></tr>\n",
       "<tr><td>2</td><td>ExprRange</td><td>lambda_map:&nbsp;5<br>start_index:&nbsp;16<br>end_index:&nbsp;6<br></td><td><a class=\"ProveItLink\" href=\"../../../../../../core_expr_types/expr_arrays/__pv_it/common/ac7fa14a3f78a5521cfecbf32411ce6018762bcc0/expr.ipynb\"><img src=\"../../../../../../core_expr_types/expr_arrays/__pv_it/common/ac7fa14a3f78a5521cfecbf32411ce6018762bcc0/expr.png\" style=\"display:inline;vertical-align:middle;\" /></a></td></tr>\n",
       "<tr><td>3</td><td>ExprRange</td><td>lambda_map:&nbsp;7<br>start_index:&nbsp;16<br>end_index:&nbsp;8<br></td><td><a class=\"ProveItLink\" href=\"../../../../../../core_expr_types/expr_arrays/__pv_it/common/5de099f953f1b06e8d5657d60e8007367945f0f30/expr.ipynb\"><img src=\"../../../../../../core_expr_types/expr_arrays/__pv_it/common/5de099f953f1b06e8d5657d60e8007367945f0f30/expr.png\" style=\"display:inline;vertical-align:middle;\" /></a></td></tr>\n",
       "<tr><td>4</td><td>Lambda</td><td>parameter:&nbsp;26<br>body:&nbsp;9<br></td><td><a class=\"ProveItLink\" href=\"../../../../../../core_expr_types/expr_arrays/__pv_it/common/b8fb3b2f8676408778656e627b9be79413acda230/expr.ipynb\"><img src=\"../../../../../../core_expr_types/expr_arrays/__pv_it/common/b8fb3b2f8676408778656e627b9be79413acda230/expr.png\" style=\"display:inline;vertical-align:middle;\" /></a></td></tr>\n",
       "<tr><td>5</td><td>Lambda</td><td>parameter:&nbsp;26<br>body:&nbsp;10<br></td><td><a class=\"ProveItLink\" href=\"../../../../../../core_expr_types/expr_arrays/__pv_it/common/837deca2842a6b304843011efb96226f01fcb3760/expr.ipynb\"><img src=\"../../../../../../core_expr_types/expr_arrays/__pv_it/common/837deca2842a6b304843011efb96226f01fcb3760/expr.png\" style=\"display:inline;vertical-align:middle;\" /></a></td></tr>\n",
       "<tr><td>6</td><td>Variable</td><td></td><td><a class=\"ProveItLink\" href=\"../../../../../../__pv_it/common/63b7c64bf9ec7a04ecc396c7a1670f3f12fb59490/expr.ipynb\"><img src=\"../../../../../../__pv_it/common/63b7c64bf9ec7a04ecc396c7a1670f3f12fb59490/expr.png\" style=\"display:inline;vertical-align:middle;\" /></a></td></tr>\n",
       "<tr><td>7</td><td>Lambda</td><td>parameter:&nbsp;26<br>body:&nbsp;12<br></td><td><a class=\"ProveItLink\" href=\"../../../../../../core_expr_types/expr_arrays/__pv_it/common/7246807072537bb693861d9aaeb65cffddab31050/expr.ipynb\"><img src=\"../../../../../../core_expr_types/expr_arrays/__pv_it/common/7246807072537bb693861d9aaeb65cffddab31050/expr.png\" style=\"display:inline;vertical-align:middle;\" /></a></td></tr>\n",
       "<tr><td>8</td><td>Variable</td><td></td><td><a class=\"ProveItLink\" href=\"../../../../../../__pv_it/common/27cc275d44b4f4499fb9ccfb3fab1a98165d2fa60/expr.ipynb\"><img src=\"../../../../../../__pv_it/common/27cc275d44b4f4499fb9ccfb3fab1a98165d2fa60/expr.png\" style=\"display:inline;vertical-align:middle;\" /></a></td></tr>\n",
       "<tr><td>9</td><td>ExprRange</td><td>lambda_map:&nbsp;13<br>start_index:&nbsp;16<br>end_index:&nbsp;17<br></td><td><a class=\"ProveItLink\" href=\"../../../../../../core_expr_types/expr_arrays/__pv_it/common/93101617db334b2ca6d3941997dda9234d5a40ca0/expr.ipynb\"><img src=\"../../../../../../core_expr_types/expr_arrays/__pv_it/common/93101617db334b2ca6d3941997dda9234d5a40ca0/expr.png\" style=\"display:inline;vertical-align:middle;\" /></a></td></tr>\n",
       "<tr><td>10</td><td>ExprRange</td><td>lambda_map:&nbsp;14<br>start_index:&nbsp;16<br>end_index:&nbsp;17<br></td><td><a class=\"ProveItLink\" href=\"../../../../../../core_expr_types/expr_arrays/__pv_it/common/ae8d6384f71695010dfcfdf32f42c26380264b2b0/expr.ipynb\"><img src=\"../../../../../../core_expr_types/expr_arrays/__pv_it/common/ae8d6384f71695010dfcfdf32f42c26380264b2b0/expr.png\" style=\"display:inline;vertical-align:middle;\" /></a></td></tr>\n",
       "<tr><td>11</td><td>ExprTuple</td><td>26</td><td><a class=\"ProveItLink\" href=\"../../../../../../core_expr_types/expr_arrays/__pv_it/common/18f7318b68e45ff8356043b6e71619fa8450fb200/expr.ipynb\"><img src=\"../../../../../../core_expr_types/expr_arrays/__pv_it/common/18f7318b68e45ff8356043b6e71619fa8450fb200/expr.png\" style=\"display:inline;vertical-align:middle;\" /></a></td></tr>\n",
       "<tr><td>12</td><td>ExprRange</td><td>lambda_map:&nbsp;15<br>start_index:&nbsp;16<br>end_index:&nbsp;17<br></td><td><a class=\"ProveItLink\" href=\"../../../../../../core_expr_types/expr_arrays/__pv_it/common/88fba7dcfe8ff4993cf54f82811c5ea6c31915fe0/expr.ipynb\"><img src=\"../../../../../../core_expr_types/expr_arrays/__pv_it/common/88fba7dcfe8ff4993cf54f82811c5ea6c31915fe0/expr.png\" style=\"display:inline;vertical-align:middle;\" /></a></td></tr>\n",
       "<tr><td>13</td><td>Lambda</td><td>parameter:&nbsp;27<br>body:&nbsp;18<br></td><td><a class=\"ProveItLink\" href=\"../../../../../../core_expr_types/expr_arrays/__pv_it/common/8bbb4f80f559bc18543864519bd199ce1833f0610/expr.ipynb\"><img src=\"../../../../../../core_expr_types/expr_arrays/__pv_it/common/8bbb4f80f559bc18543864519bd199ce1833f0610/expr.png\" style=\"display:inline;vertical-align:middle;\" /></a></td></tr>\n",
       "<tr><td>14</td><td>Lambda</td><td>parameter:&nbsp;27<br>body:&nbsp;19<br></td><td><a class=\"ProveItLink\" href=\"../../../../../../core_expr_types/expr_arrays/__pv_it/common/d8e92c260e5477de9b81c8ea098e405d9ea124aa0/expr.ipynb\"><img src=\"../../../../../../core_expr_types/expr_arrays/__pv_it/common/d8e92c260e5477de9b81c8ea098e405d9ea124aa0/expr.png\" style=\"display:inline;vertical-align:middle;\" /></a></td></tr>\n",
       "<tr><td>15</td><td>Lambda</td><td>parameter:&nbsp;27<br>body:&nbsp;21<br></td><td><a class=\"ProveItLink\" href=\"../../../../../../core_expr_types/expr_arrays/__pv_it/common/f565f7d7951ef17ed6b3a989f1d57fe703f2213e0/expr.ipynb\"><img src=\"../../../../../../core_expr_types/expr_arrays/__pv_it/common/f565f7d7951ef17ed6b3a989f1d57fe703f2213e0/expr.png\" style=\"display:inline;vertical-align:middle;\" /></a></td></tr>\n",
       "<tr><td>16</td><td>Literal</td><td></td><td><a class=\"ProveItLink\" href=\"../../../../../../numbers/numerals/__pv_it/common/682157d4892d216d9e5626ed533aff9b56b9506e0/expr.ipynb\"><img src=\"../../../../../../numbers/numerals/__pv_it/common/682157d4892d216d9e5626ed533aff9b56b9506e0/expr.png\" style=\"display:inline;vertical-align:middle;\" /></a></td></tr>\n",
       "<tr><td>17</td><td>Variable</td><td></td><td><a class=\"ProveItLink\" href=\"../../../../../../__pv_it/common/674a03b9c3ca221b3aabd5636837b31528ff33830/expr.ipynb\"><img src=\"../../../../../../__pv_it/common/674a03b9c3ca221b3aabd5636837b31528ff33830/expr.png\" style=\"display:inline;vertical-align:middle;\" /></a></td></tr>\n",
       "<tr><td>18</td><td>IndexedVar</td><td>variable:&nbsp;22<br>indices:&nbsp;25<br></td><td><a class=\"ProveItLink\" href=\"../../../../../../core_expr_types/expr_arrays/__pv_it/common/45be0383e88e50c90ccca4f91763a4aaff5322c80/expr.ipynb\"><img src=\"../../../../../../core_expr_types/expr_arrays/__pv_it/common/45be0383e88e50c90ccca4f91763a4aaff5322c80/expr.png\" style=\"display:inline;vertical-align:middle;\" /></a></td></tr>\n",
       "<tr><td>19</td><td>IndexedVar</td><td>variable:&nbsp;23<br>indices:&nbsp;25<br></td><td><a class=\"ProveItLink\" href=\"../../../../../../core_expr_types/expr_arrays/__pv_it/common/0f7c549cbda7f227e480c00ef45e264d9ad9b1850/expr.ipynb\"><img src=\"../../../../../../core_expr_types/expr_arrays/__pv_it/common/0f7c549cbda7f227e480c00ef45e264d9ad9b1850/expr.png\" style=\"display:inline;vertical-align:middle;\" /></a></td></tr>\n",
       "<tr><td>20</td><td>ExprTuple</td><td>27</td><td><a class=\"ProveItLink\" href=\"../../../../../../core_expr_types/expr_arrays/__pv_it/common/4b0dd6be36d76552eda6a95d5b4a27f5a5b62f900/expr.ipynb\"><img src=\"../../../../../../core_expr_types/expr_arrays/__pv_it/common/4b0dd6be36d76552eda6a95d5b4a27f5a5b62f900/expr.png\" style=\"display:inline;vertical-align:middle;\" /></a></td></tr>\n",
       "<tr><td>21</td><td>IndexedVar</td><td>variable:&nbsp;24<br>indices:&nbsp;25<br></td><td><a class=\"ProveItLink\" href=\"../../../../../../core_expr_types/expr_arrays/__pv_it/common/8ccb14c9a4dc9ed5064ee6aa9bf5a04bcc0fc5a70/expr.ipynb\"><img src=\"../../../../../../core_expr_types/expr_arrays/__pv_it/common/8ccb14c9a4dc9ed5064ee6aa9bf5a04bcc0fc5a70/expr.png\" style=\"display:inline;vertical-align:middle;\" /></a></td></tr>\n",
       "<tr><td>22</td><td>Variable</td><td></td><td><a class=\"ProveItLink\" href=\"../../../../../../__pv_it/common/647ca33d6b96e29d5aa85a15d2241c7ebd0c6e4b0/expr.ipynb\"><img src=\"../../../../../../__pv_it/common/647ca33d6b96e29d5aa85a15d2241c7ebd0c6e4b0/expr.png\" style=\"display:inline;vertical-align:middle;\" /></a></td></tr>\n",
       "<tr><td>23</td><td>Variable</td><td></td><td><a class=\"ProveItLink\" href=\"../../../../../../__pv_it/common/38f47c5670ea8c5b56253448e95d8afb56bc09b40/expr.ipynb\"><img src=\"../../../../../../__pv_it/common/38f47c5670ea8c5b56253448e95d8afb56bc09b40/expr.png\" style=\"display:inline;vertical-align:middle;\" /></a></td></tr>\n",
       "<tr><td>24</td><td>Variable</td><td></td><td><a class=\"ProveItLink\" href=\"../../../../../../__pv_it/common/69c70dfa5f18cd09af12f2dcafa9764efe6f8cbd0/expr.ipynb\"><img src=\"../../../../../../__pv_it/common/69c70dfa5f18cd09af12f2dcafa9764efe6f8cbd0/expr.png\" style=\"display:inline;vertical-align:middle;\" /></a></td></tr>\n",
       "<tr><td>25</td><td>ExprTuple</td><td>26, 27</td><td><a class=\"ProveItLink\" href=\"../../../../../../core_expr_types/expr_arrays/__pv_it/common/c899820ca7633ea1589f21e8e039aa4da91850d80/expr.ipynb\"><img src=\"../../../../../../core_expr_types/expr_arrays/__pv_it/common/c899820ca7633ea1589f21e8e039aa4da91850d80/expr.png\" style=\"display:inline;vertical-align:middle;\" /></a></td></tr>\n",
       "<tr><td>26</td><td>Variable</td><td></td><td><a class=\"ProveItLink\" href=\"../../../../../../core_expr_types/expr_arrays/__pv_it/common/9a18d67b443cf8d92289c655ed91ec78766170a90/expr.ipynb\"><img src=\"../../../../../../core_expr_types/expr_arrays/__pv_it/common/9a18d67b443cf8d92289c655ed91ec78766170a90/expr.png\" style=\"display:inline;vertical-align:middle;\" /></a></td></tr>\n",
       "<tr><td>27</td><td>Variable</td><td></td><td><a class=\"ProveItLink\" href=\"../../../../../../core_expr_types/expr_arrays/__pv_it/common/006c465e50948aa2b52285e2de47974f741255cc0/expr.ipynb\"><img src=\"../../../../../../core_expr_types/expr_arrays/__pv_it/common/006c465e50948aa2b52285e2de47974f741255cc0/expr.png\" style=\"display:inline;vertical-align:middle;\" /></a></td></tr>\n",
       "</table>\n"
      ],
      "text/plain": [
       "0. (R_{1, 1}, R_{1, 2}, ..., R_{1, m}, R_{2, 1}, R_{2, 2}, ..., R_{2, m}, ......, R_{k, 1}, R_{k, 2}, ..., R_{k, m},S_{1, 1}, S_{1, 2}, ..., S_{1, m}, S_{2, 1}, S_{2, 2}, ..., S_{2, m}, ......, S_{k, 1}, S_{k, 2}, ..., S_{k, m},T_{1, 1}, T_{1, 2}, ..., T_{1, m}, T_{2, 1}, T_{2, 2}, ..., T_{2, m}, ......, T_{l, 1}, T_{l, 2}, ..., T_{l, m})\n",
       "   core type: ExprTuple\n",
       "   sub-expressions: 1, 2, 3\n",
       "1. R_{1, 1}, R_{1, 2}, ..., R_{1, m}, R_{2, 1}, R_{2, 2}, ..., R_{2, m}, ......, R_{k, 1}, R_{k, 2}, ..., R_{k, m}\n",
       "   core type: ExprRange\n",
       "   lambda_map: 4\n",
       "   start_index: 16\n",
       "   end_index: 6\n",
       "2. S_{1, 1}, S_{1, 2}, ..., S_{1, m}, S_{2, 1}, S_{2, 2}, ..., S_{2, m}, ......, S_{k, 1}, S_{k, 2}, ..., S_{k, m}\n",
       "   core type: ExprRange\n",
       "   lambda_map: 5\n",
       "   start_index: 16\n",
       "   end_index: 6\n",
       "3. T_{1, 1}, T_{1, 2}, ..., T_{1, m}, T_{2, 1}, T_{2, 2}, ..., T_{2, m}, ......, T_{l, 1}, T_{l, 2}, ..., T_{l, m}\n",
       "   core type: ExprRange\n",
       "   lambda_map: 7\n",
       "   start_index: 16\n",
       "   end_index: 8\n",
       "4. _b -> R_{_b, 1}, R_{_b, 2}, ..., R_{_b, m}\n",
       "   core type: Lambda\n",
       "   parameter: 26\n",
       "   body: 9\n",
       "5. _b -> S_{_b, 1}, S_{_b, 2}, ..., S_{_b, m}\n",
       "   core type: Lambda\n",
       "   parameter: 26\n",
       "   body: 10\n",
       "6. k\n",
       "   core type: Variable\n",
       "   sub-expressions: \n",
       "7. _b -> T_{_b, 1}, T_{_b, 2}, ..., T_{_b, m}\n",
       "   core type: Lambda\n",
       "   parameter: 26\n",
       "   body: 12\n",
       "8. l\n",
       "   core type: Variable\n",
       "   sub-expressions: \n",
       "9. R_{_b, 1}, R_{_b, 2}, ..., R_{_b, m}\n",
       "   core type: ExprRange\n",
       "   lambda_map: 13\n",
       "   start_index: 16\n",
       "   end_index: 17\n",
       "10. S_{_b, 1}, S_{_b, 2}, ..., S_{_b, m}\n",
       "    core type: ExprRange\n",
       "    lambda_map: 14\n",
       "    start_index: 16\n",
       "    end_index: 17\n",
       "11. (_b)\n",
       "    core type: ExprTuple\n",
       "    sub-expressions: 26\n",
       "12. T_{_b, 1}, T_{_b, 2}, ..., T_{_b, m}\n",
       "    core type: ExprRange\n",
       "    lambda_map: 15\n",
       "    start_index: 16\n",
       "    end_index: 17\n",
       "13. _a -> R_{_b, _a}\n",
       "    core type: Lambda\n",
       "    parameter: 27\n",
       "    body: 18\n",
       "14. _a -> S_{_b, _a}\n",
       "    core type: Lambda\n",
       "    parameter: 27\n",
       "    body: 19\n",
       "15. _a -> T_{_b, _a}\n",
       "    core type: Lambda\n",
       "    parameter: 27\n",
       "    body: 21\n",
       "16. 1\n",
       "    core type: Literal\n",
       "    sub-expressions: \n",
       "17. m\n",
       "    core type: Variable\n",
       "    sub-expressions: \n",
       "18. R_{_b, _a}\n",
       "    core type: IndexedVar\n",
       "variable: 22\n",
       "indices: 25\n",
       "19. S_{_b, _a}\n",
       "    core type: IndexedVar\n",
       "variable: 23\n",
       "indices: 25\n",
       "20. (_a)\n",
       "    core type: ExprTuple\n",
       "    sub-expressions: 27\n",
       "21. T_{_b, _a}\n",
       "    core type: IndexedVar\n",
       "variable: 24\n",
       "indices: 25\n",
       "22. R\n",
       "    core type: Variable\n",
       "    sub-expressions: \n",
       "23. S\n",
       "    core type: Variable\n",
       "    sub-expressions: \n",
       "24. T\n",
       "    core type: Variable\n",
       "    sub-expressions: \n",
       "25. (_b, _a)\n",
       "    core type: ExprTuple\n",
       "    sub-expressions: 26, 27\n",
       "26. _b\n",
       "    core type: Variable\n",
       "    sub-expressions: \n",
       "27. _a\n",
       "    core type: Variable\n",
       "    sub-expressions: "
      ]
     },
     "metadata": {},
     "output_type": "display_data"
    }
   ],
   "source": [
    "# display the expression information\n",
    "stored_expr.expr_info()"
   ]
  },
  {
   "cell_type": "code",
   "execution_count": null,
   "metadata": {},
   "outputs": [],
   "source": []
  }
 ],
 "metadata": {
  "kernelspec": {
   "display_name": "Python 3",
   "language": "python",
   "name": "python3"
  }
 },
 "nbformat": 4,
 "nbformat_minor": 0
}