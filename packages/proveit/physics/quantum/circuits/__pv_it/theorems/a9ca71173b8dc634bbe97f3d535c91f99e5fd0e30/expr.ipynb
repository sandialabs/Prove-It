{
 "cells": [
  {
   "cell_type": "markdown",
   "metadata": {},
   "source": [
    "Expression of type <a class=\"ProveItLink\" href=\"../../../../../../../../doc/html/api/proveit.logic.Equals.html\">Equals</a>\n",
    "=======================\n",
    "# from the theory of <a class=\"ProveItLink\" href=\"../../../_theory_nbs_/theory.ipynb\">proveit.physics.quantum.circuits</a>"
   ]
  },
  {
   "cell_type": "code",
   "execution_count": 1,
   "metadata": {},
   "outputs": [],
   "source": [
    "import proveit\n",
    "# Automation is not needed when building an expression:\n",
    "proveit.defaults.automation = False # This will speed things up.\n",
    "proveit.defaults.inline_pngs = False # Makes files smaller.\n",
    "%load_expr # Load the stored expression as 'stored_expr'\n",
    "# import Expression classes needed to build the expression\n",
    "from proveit.logic import Equals\n",
    "from proveit.numbers import one\n",
    "from proveit.physics.quantum.circuits import unitary_gate_op\n",
    "from proveit.statistics import Prob"
   ]
  },
  {
   "cell_type": "code",
   "execution_count": 2,
   "metadata": {},
   "outputs": [
    {
     "data": {
      "text/html": [
       "<strong id=\"expr\">expr:</strong> <a class=\"ProveItLink\" href=\"expr.ipynb\"><img src=\"expr.png\" style=\"display:inline;vertical-align:middle;\" /></a><br>"
      ],
      "text/plain": [
       "<IPython.core.display.HTML object>"
      ]
     },
     "metadata": {},
     "output_type": "display_data"
    }
   ],
   "source": [
    "# build up the expression from sub-expressions\n",
    "expr = Equals(Prob(unitary_gate_op), one)"
   ]
  },
  {
   "cell_type": "code",
   "execution_count": 3,
   "metadata": {},
   "outputs": [
    {
     "name": "stdout",
     "output_type": "stream",
     "text": [
      "Passed sanity check: expr matches stored_expr\n"
     ]
    }
   ],
   "source": [
    "# check that the built expression is the same as the stored expression\n",
    "assert expr == stored_expr\n",
    "assert expr._style_id == stored_expr._style_id\n",
    "print(\"Passed sanity check: expr matches stored_expr\")"
   ]
  },
  {
   "cell_type": "code",
   "execution_count": 4,
   "metadata": {},
   "outputs": [
    {
     "name": "stdout",
     "output_type": "stream",
     "text": [
      "\\textrm{Pr}\\left(\\begin{array}{c} \\Qcircuit@C=1em @R=.7em{\n",
      "\\qin{\\lvert \\psi \\rangle} & \\gate{U} & \\qout{U \\thinspace \\lvert \\psi \\rangle}\n",
      "} \\end{array}\\right) = 1\n"
     ]
    }
   ],
   "source": [
    "# Show the LaTeX representation of the expression for convenience if you need it.\n",
    "print(stored_expr.latex())"
   ]
  },
  {
   "cell_type": "code",
   "execution_count": 5,
   "metadata": {},
   "outputs": [
    {
     "data": {
      "text/html": [
       "<table>\n",
       "<tr><th>name</th><th>description</th><th>default</th><th>current value</th><th>related methods</th></tr><tr><td>operation</td><td>'infix' or 'function' style formatting</td><td>infix</td><td>infix</td><td></td></tr>\n",
       "<tr><td>wrap_positions</td><td>position(s) at which wrapping is to occur; '2 n - 1' is after the nth operand, '2 n' is after the nth operation.</td><td>()</td><td>()</td><td>('with_wrapping_at', 'with_wrap_before_operator', 'with_wrap_after_operator', 'without_wrapping', 'wrap_positions')</td></tr>\n",
       "<tr><td>justification</td><td>if any wrap positions are set, justify to the 'left', 'center', or 'right'</td><td>center</td><td>center</td><td>('with_justification',)</td></tr>\n",
       "<tr><td>direction</td><td>Direction of the relation (normal or reversed)</td><td>normal</td><td>normal</td><td>('with_direction_reversed', 'is_reversed')</td></tr>\n",
       "</table>\n"
      ],
      "text/plain": [
       "style name: operation\n",
       "description: 'infix' or 'function' style formatting\n",
       "default: infix\n",
       "current value: infix\n",
       "related methods: ()\n",
       "style name: wrap_positions\n",
       "description: position(s) at which wrapping is to occur; '2 n - 1' is after the nth operand, '2 n' is after the nth operation.\n",
       "default: ()\n",
       "current value: ()\n",
       "related methods: ('with_wrapping_at', 'with_wrap_before_operator', 'with_wrap_after_operator', 'without_wrapping', 'wrap_positions')\n",
       "style name: justification\n",
       "description: if any wrap positions are set, justify to the 'left', 'center', or 'right'\n",
       "default: center\n",
       "current value: center\n",
       "related methods: ('with_justification',)\n",
       "style name: direction\n",
       "description: Direction of the relation (normal or reversed)\n",
       "default: normal\n",
       "current value: normal\n",
       "related methods: ('with_direction_reversed', 'is_reversed')"
      ]
     },
     "metadata": {},
     "output_type": "display_data"
    }
   ],
   "source": [
    "stored_expr.style_options()"
   ]
  },
  {
   "cell_type": "code",
   "execution_count": 6,
   "metadata": {},
   "outputs": [
    {
     "data": {
      "text/html": [
       "<table><tr><th>&nbsp;</th><th>core type</th><th>sub-expressions</th><th>expression</th></tr>\n",
       "<tr><td>0</td><td>Operation</td><td>operator:&nbsp;1<br>operands:&nbsp;2<br></td><td><a class=\"ProveItLink\" href=\"expr.ipynb\"><img src=\"expr.png\" style=\"display:inline;vertical-align:middle;\" /></a></td></tr>\n",
       "<tr><td>1</td><td>Literal</td><td></td><td><a class=\"ProveItLink\" href=\"../../../../../../logic/equality/__pv_it/common/fb96dc12b2aa8801dda64d0132b396c63d1502bb0/expr.ipynb\"><img src=\"../../../../../../logic/equality/__pv_it/common/fb96dc12b2aa8801dda64d0132b396c63d1502bb0/expr.png\" style=\"display:inline;vertical-align:middle;\" /></a></td></tr>\n",
       "<tr><td>2</td><td>ExprTuple</td><td>3, 40</td><td><a class=\"ProveItLink\" href=\"../9c5cf53ce2196ac361b951bfa6586d71cbb0d4510/expr.ipynb\"><img src=\"../9c5cf53ce2196ac361b951bfa6586d71cbb0d4510/expr.png\" style=\"display:inline;vertical-align:middle;\" /></a></td></tr>\n",
       "<tr><td>3</td><td>Operation</td><td>operator:&nbsp;4<br>operand:&nbsp;6<br></td><td><a class=\"ProveItLink\" href=\"../0c8218559cea70bf2cf35f54d7b8cb6cc6cf80d60/expr.ipynb\"><img src=\"../0c8218559cea70bf2cf35f54d7b8cb6cc6cf80d60/expr.png\" style=\"display:inline;vertical-align:middle;\" /></a></td></tr>\n",
       "<tr><td>4</td><td>Literal</td><td></td><td><a class=\"ProveItLink\" href=\"../../../../../../statistics/__pv_it/common/088e9f40f9e6ba1dcc7d39fd35fd8d244261148e0/expr.ipynb\"><img src=\"../../../../../../statistics/__pv_it/common/088e9f40f9e6ba1dcc7d39fd35fd8d244261148e0/expr.png\" style=\"display:inline;vertical-align:middle;\" /></a></td></tr>\n",
       "<tr><td>5</td><td>ExprTuple</td><td>6</td><td><a class=\"ProveItLink\" href=\"../8fbccd671ef089d30f0d94fad69ca525bde512590/expr.ipynb\"><img src=\"../8fbccd671ef089d30f0d94fad69ca525bde512590/expr.png\" style=\"display:inline;vertical-align:middle;\" /></a></td></tr>\n",
       "<tr><td>6</td><td>Operation</td><td>operator:&nbsp;7<br>operands:&nbsp;8<br></td><td><a class=\"ProveItLink\" href=\"../../common/ab3f811945dee2777be1f20ffcda15e6855ec1ad0/expr.ipynb\"><img src=\"../../common/ab3f811945dee2777be1f20ffcda15e6855ec1ad0/expr.png\" style=\"display:inline;vertical-align:middle;\" /></a></td></tr>\n",
       "<tr><td>7</td><td>Literal</td><td></td><td><a class=\"ProveItLink\" href=\"../../common/40003b89a3d1740159ada9fe5b21308b42a7d3d40/expr.ipynb\"><img src=\"../../common/40003b89a3d1740159ada9fe5b21308b42a7d3d40/expr.png\" style=\"display:inline;vertical-align:middle;\" /></a></td></tr>\n",
       "<tr><td>8</td><td>ExprTuple</td><td>9, 10, 11</td><td><a class=\"ProveItLink\" href=\"../../common/5cac681a74778928e46bfa53cc136577c292f7a60/expr.ipynb\"><img src=\"../../common/5cac681a74778928e46bfa53cc136577c292f7a60/expr.png\" style=\"display:inline;vertical-align:middle;\" /></a></td></tr>\n",
       "<tr><td>9</td><td>ExprTuple</td><td>12</td><td><a class=\"ProveItLink\" href=\"../../common/9899eae21e16d845ada70208ceccb7ed994a12190/expr.ipynb\"><img src=\"../../common/9899eae21e16d845ada70208ceccb7ed994a12190/expr.png\" style=\"display:inline;vertical-align:middle;\" /></a></td></tr>\n",
       "<tr><td>10</td><td>ExprTuple</td><td>13</td><td><a class=\"ProveItLink\" href=\"../../common/82bcb22d9c1411c77429c471e66560816dd09cc80/expr.ipynb\"><img src=\"../../common/82bcb22d9c1411c77429c471e66560816dd09cc80/expr.png\" style=\"display:inline;vertical-align:middle;\" /></a></td></tr>\n",
       "<tr><td>11</td><td>ExprTuple</td><td>14</td><td><a class=\"ProveItLink\" href=\"../../common/68e45b582861841079d8fca6d3f14ca9d8c09eed0/expr.ipynb\"><img src=\"../../common/68e45b582861841079d8fca6d3f14ca9d8c09eed0/expr.png\" style=\"display:inline;vertical-align:middle;\" /></a></td></tr>\n",
       "<tr><td>12</td><td>ExprRange</td><td>lambda_map:&nbsp;15<br>start_index:&nbsp;40<br>end_index:&nbsp;41<br></td><td><a class=\"ProveItLink\" href=\"../../common/0e737cae5beb99924df90a68ca6ae50e267fc2f10/expr.ipynb\"><img src=\"../../common/0e737cae5beb99924df90a68ca6ae50e267fc2f10/expr.png\" style=\"display:inline;vertical-align:middle;\" /></a></td></tr>\n",
       "<tr><td>13</td><td>ExprRange</td><td>lambda_map:&nbsp;16<br>start_index:&nbsp;40<br>end_index:&nbsp;41<br></td><td><a class=\"ProveItLink\" href=\"../../common/05bcd7892f80d05d1156f0b5d666d7efd99e63af0/expr.ipynb\"><img src=\"../../common/05bcd7892f80d05d1156f0b5d666d7efd99e63af0/expr.png\" style=\"display:inline;vertical-align:middle;\" /></a></td></tr>\n",
       "<tr><td>14</td><td>ExprRange</td><td>lambda_map:&nbsp;17<br>start_index:&nbsp;40<br>end_index:&nbsp;41<br></td><td><a class=\"ProveItLink\" href=\"../../common/9e97b0dede04297223aca5756a3df3c989e6445d0/expr.ipynb\"><img src=\"../../common/9e97b0dede04297223aca5756a3df3c989e6445d0/expr.png\" style=\"display:inline;vertical-align:middle;\" /></a></td></tr>\n",
       "<tr><td>15</td><td>Lambda</td><td>parameter:&nbsp;39<br>body:&nbsp;18<br></td><td><a class=\"ProveItLink\" href=\"../../common/98f5ba80bab8a5fad7d223dfd37a5546fbdd5a3b0/expr.ipynb\"><img src=\"../../common/98f5ba80bab8a5fad7d223dfd37a5546fbdd5a3b0/expr.png\" style=\"display:inline;vertical-align:middle;\" /></a></td></tr>\n",
       "<tr><td>16</td><td>Lambda</td><td>parameter:&nbsp;39<br>body:&nbsp;19<br></td><td><a class=\"ProveItLink\" href=\"../../common/f520f42e964f62d7c591d94203b2ddfee2d5d5ba0/expr.ipynb\"><img src=\"../../common/f520f42e964f62d7c591d94203b2ddfee2d5d5ba0/expr.png\" style=\"display:inline;vertical-align:middle;\" /></a></td></tr>\n",
       "<tr><td>17</td><td>Lambda</td><td>parameter:&nbsp;39<br>body:&nbsp;21<br></td><td><a class=\"ProveItLink\" href=\"../../common/b9b5cd11793ea775fd13fc3aeda3d63a5a9255b80/expr.ipynb\"><img src=\"../../common/b9b5cd11793ea775fd13fc3aeda3d63a5a9255b80/expr.png\" style=\"display:inline;vertical-align:middle;\" /></a></td></tr>\n",
       "<tr><td>18</td><td>Operation</td><td>operator:&nbsp;24<br>operands:&nbsp;22<br></td><td><a class=\"ProveItLink\" href=\"../../common/aa49560c13464a24f498c31bbf7f136c8cc009d60/expr.ipynb\"><img src=\"../../common/aa49560c13464a24f498c31bbf7f136c8cc009d60/expr.png\" style=\"display:inline;vertical-align:middle;\" /></a></td></tr>\n",
       "<tr><td>19</td><td>Operation</td><td>operator:&nbsp;24<br>operands:&nbsp;23<br></td><td><a class=\"ProveItLink\" href=\"../../common/d9b69c7b5c57012147bce27c0841716b5f6c01740/expr.ipynb\"><img src=\"../../common/d9b69c7b5c57012147bce27c0841716b5f6c01740/expr.png\" style=\"display:inline;vertical-align:middle;\" /></a></td></tr>\n",
       "<tr><td>20</td><td>ExprTuple</td><td>39</td><td><a class=\"ProveItLink\" href=\"../../../../../../core_expr_types/__pv_it/common/4b0dd6be36d76552eda6a95d5b4a27f5a5b62f900/expr.ipynb\"><img src=\"../../../../../../core_expr_types/__pv_it/common/4b0dd6be36d76552eda6a95d5b4a27f5a5b62f900/expr.png\" style=\"display:inline;vertical-align:middle;\" /></a></td></tr>\n",
       "<tr><td>21</td><td>Operation</td><td>operator:&nbsp;24<br>operands:&nbsp;25<br></td><td><a class=\"ProveItLink\" href=\"../../common/ed116e9591814a476559e81db9fa9727af8742880/expr.ipynb\"><img src=\"../../common/ed116e9591814a476559e81db9fa9727af8742880/expr.png\" style=\"display:inline;vertical-align:middle;\" /></a></td></tr>\n",
       "<tr><td>22</td><td>NamedExprs</td><td>element: 26<br>targets: 29<br></td><td><a class=\"ProveItLink\" href=\"../../common/8fb510f8b1fc923ec29d1f69d3e18a436f4171a10/expr.ipynb\"><img src=\"../../common/8fb510f8b1fc923ec29d1f69d3e18a436f4171a10/expr.png\" style=\"display:inline;vertical-align:middle;\" /></a></td></tr>\n",
       "<tr><td>23</td><td>NamedExprs</td><td>element: 27<br>targets: 29<br></td><td><a class=\"ProveItLink\" href=\"../../common/bc4ddfdb39f7b828cf13f3fd2881b5af17ccbb9a0/expr.ipynb\"><img src=\"../../common/bc4ddfdb39f7b828cf13f3fd2881b5af17ccbb9a0/expr.png\" style=\"display:inline;vertical-align:middle;\" /></a></td></tr>\n",
       "<tr><td>24</td><td>Literal</td><td></td><td><a class=\"ProveItLink\" href=\"../../common/5eaa43008f05c06941080a12337ff182ea14996e0/expr.ipynb\"><img src=\"../../common/5eaa43008f05c06941080a12337ff182ea14996e0/expr.png\" style=\"display:inline;vertical-align:middle;\" /></a></td></tr>\n",
       "<tr><td>25</td><td>NamedExprs</td><td>element: 28<br>targets: 29<br></td><td><a class=\"ProveItLink\" href=\"../../common/2e2509b3e70bc12203810d3a61d179dbf63216d50/expr.ipynb\"><img src=\"../../common/2e2509b3e70bc12203810d3a61d179dbf63216d50/expr.png\" style=\"display:inline;vertical-align:middle;\" /></a></td></tr>\n",
       "<tr><td>26</td><td>Operation</td><td>operator:&nbsp;30<br>operands:&nbsp;31<br></td><td><a class=\"ProveItLink\" href=\"../../common/ee3d8427cd8b9df937d19c6f81fd075bd0ea2a740/expr.ipynb\"><img src=\"../../common/ee3d8427cd8b9df937d19c6f81fd075bd0ea2a740/expr.png\" style=\"display:inline;vertical-align:middle;\" /></a></td></tr>\n",
       "<tr><td>27</td><td>Operation</td><td>operator:&nbsp;32<br>operands:&nbsp;33<br></td><td><a class=\"ProveItLink\" href=\"../../common/a997617436f2686b57a897b8865323dc0b78384e0/expr.ipynb\"><img src=\"../../common/a997617436f2686b57a897b8865323dc0b78384e0/expr.png\" style=\"display:inline;vertical-align:middle;\" /></a></td></tr>\n",
       "<tr><td>28</td><td>Operation</td><td>operator:&nbsp;34<br>operands:&nbsp;35<br></td><td><a class=\"ProveItLink\" href=\"../../common/52ff46671187be5586eebbccea1a26cd7aef7e270/expr.ipynb\"><img src=\"../../common/52ff46671187be5586eebbccea1a26cd7aef7e270/expr.png\" style=\"display:inline;vertical-align:middle;\" /></a></td></tr>\n",
       "<tr><td>29</td><td>Operation</td><td>operator:&nbsp;36<br>operands:&nbsp;37<br></td><td><a class=\"ProveItLink\" href=\"../../common/706881e668df69cca5d841d8343295e596a7a0c70/expr.ipynb\"><img src=\"../../common/706881e668df69cca5d841d8343295e596a7a0c70/expr.png\" style=\"display:inline;vertical-align:middle;\" /></a></td></tr>\n",
       "<tr><td>30</td><td>Literal</td><td></td><td><a class=\"ProveItLink\" href=\"../../common/deea8715ce6701df08bbe1d049112a0bad4965c20/expr.ipynb\"><img src=\"../../common/deea8715ce6701df08bbe1d049112a0bad4965c20/expr.png\" style=\"display:inline;vertical-align:middle;\" /></a></td></tr>\n",
       "<tr><td>31</td><td>NamedExprs</td><td>state: 45<br>part: 39<br></td><td><a class=\"ProveItLink\" href=\"../../common/a75c67a66ebba677292193e862375e4a61161fb80/expr.ipynb\"><img src=\"../../common/a75c67a66ebba677292193e862375e4a61161fb80/expr.png\" style=\"display:inline;vertical-align:middle;\" /></a></td></tr>\n",
       "<tr><td>32</td><td>Literal</td><td></td><td><a class=\"ProveItLink\" href=\"../../common/ead8f6f18d2b8c24f1ed8db33df594edd77c9bcc0/expr.ipynb\"><img src=\"../../common/ead8f6f18d2b8c24f1ed8db33df594edd77c9bcc0/expr.png\" style=\"display:inline;vertical-align:middle;\" /></a></td></tr>\n",
       "<tr><td>33</td><td>NamedExprs</td><td>operation: 44<br>part: 39<br></td><td><a class=\"ProveItLink\" href=\"../../common/3ff4697818095d614ab3a81998f15b0120c6ae8c0/expr.ipynb\"><img src=\"../../common/3ff4697818095d614ab3a81998f15b0120c6ae8c0/expr.png\" style=\"display:inline;vertical-align:middle;\" /></a></td></tr>\n",
       "<tr><td>34</td><td>Literal</td><td></td><td><a class=\"ProveItLink\" href=\"../../common/00345a9c4f4d361e0b6e8bbbbe5a33a8ec86a20b0/expr.ipynb\"><img src=\"../../common/00345a9c4f4d361e0b6e8bbbbe5a33a8ec86a20b0/expr.png\" style=\"display:inline;vertical-align:middle;\" /></a></td></tr>\n",
       "<tr><td>35</td><td>NamedExprs</td><td>state: 38<br>part: 39<br></td><td><a class=\"ProveItLink\" href=\"../../common/5fa628b9f1542289b71c7cce581a4f848ec696ea0/expr.ipynb\"><img src=\"../../common/5fa628b9f1542289b71c7cce581a4f848ec696ea0/expr.png\" style=\"display:inline;vertical-align:middle;\" /></a></td></tr>\n",
       "<tr><td>36</td><td>Literal</td><td></td><td><a class=\"ProveItLink\" href=\"../../../../../../numbers/number_sets/integers/__pv_it/common/92f3a0a77e3c3ea8e4a5c8674edadc54e4f57d550/expr.ipynb\"><img src=\"../../../../../../numbers/number_sets/integers/__pv_it/common/92f3a0a77e3c3ea8e4a5c8674edadc54e4f57d550/expr.png\" style=\"display:inline;vertical-align:middle;\" /></a></td></tr>\n",
       "<tr><td>37</td><td>ExprTuple</td><td>40, 41</td><td><a class=\"ProveItLink\" href=\"../../common/940639d2e54ef77a90c8aa1312af4ae333846c530/expr.ipynb\"><img src=\"../../common/940639d2e54ef77a90c8aa1312af4ae333846c530/expr.png\" style=\"display:inline;vertical-align:middle;\" /></a></td></tr>\n",
       "<tr><td>38</td><td>Operation</td><td>operator:&nbsp;42<br>operands:&nbsp;43<br></td><td><a class=\"ProveItLink\" href=\"../../common/86c261207877818d91a356ab0efdc066364498650/expr.ipynb\"><img src=\"../../common/86c261207877818d91a356ab0efdc066364498650/expr.png\" style=\"display:inline;vertical-align:middle;\" /></a></td></tr>\n",
       "<tr><td>39</td><td>Variable</td><td></td><td><a class=\"ProveItLink\" href=\"../../../../../../core_expr_types/__pv_it/common/006c465e50948aa2b52285e2de47974f741255cc0/expr.ipynb\"><img src=\"../../../../../../core_expr_types/__pv_it/common/006c465e50948aa2b52285e2de47974f741255cc0/expr.png\" style=\"display:inline;vertical-align:middle;\" /></a></td></tr>\n",
       "<tr><td>40</td><td>Literal</td><td></td><td><a class=\"ProveItLink\" href=\"../../../../../../numbers/numerals/__pv_it/common/682157d4892d216d9e5626ed533aff9b56b9506e0/expr.ipynb\"><img src=\"../../../../../../numbers/numerals/__pv_it/common/682157d4892d216d9e5626ed533aff9b56b9506e0/expr.png\" style=\"display:inline;vertical-align:middle;\" /></a></td></tr>\n",
       "<tr><td>41</td><td>Variable</td><td></td><td><a class=\"ProveItLink\" href=\"../../../../../../__pv_it/common/674a03b9c3ca221b3aabd5636837b31528ff33830/expr.ipynb\"><img src=\"../../../../../../__pv_it/common/674a03b9c3ca221b3aabd5636837b31528ff33830/expr.png\" style=\"display:inline;vertical-align:middle;\" /></a></td></tr>\n",
       "<tr><td>42</td><td>Literal</td><td></td><td><a class=\"ProveItLink\" href=\"../../../../algebra/__pv_it/common/2972e0deb52c96565b39f905d407d7302ae287580/expr.ipynb\"><img src=\"../../../../algebra/__pv_it/common/2972e0deb52c96565b39f905d407d7302ae287580/expr.png\" style=\"display:inline;vertical-align:middle;\" /></a></td></tr>\n",
       "<tr><td>43</td><td>ExprTuple</td><td>44, 45</td><td><a class=\"ProveItLink\" href=\"../../common/b2f17bb364030f597cd8a48229dc0d1cb4ed86a70/expr.ipynb\"><img src=\"../../common/b2f17bb364030f597cd8a48229dc0d1cb4ed86a70/expr.png\" style=\"display:inline;vertical-align:middle;\" /></a></td></tr>\n",
       "<tr><td>44</td><td>Variable</td><td></td><td><a class=\"ProveItLink\" href=\"../../../../../../__pv_it/common/2586cdae2fd2785a5bcbf61f99f7aaf8229d775e0/expr.ipynb\"><img src=\"../../../../../../__pv_it/common/2586cdae2fd2785a5bcbf61f99f7aaf8229d775e0/expr.png\" style=\"display:inline;vertical-align:middle;\" /></a></td></tr>\n",
       "<tr><td>45</td><td>Variable</td><td></td><td><a class=\"ProveItLink\" href=\"../../../../__pv_it/common/798a4b85c58eead0b86ebff17277cd7c4a79a3160/expr.ipynb\"><img src=\"../../../../__pv_it/common/798a4b85c58eead0b86ebff17277cd7c4a79a3160/expr.png\" style=\"display:inline;vertical-align:middle;\" /></a></td></tr>\n",
       "</table>\n"
      ],
      "text/plain": [
       "0. Pr(QCIRCUIT(VertExprArray(([MULTI_QUBIT_ELEM]{element:[INPUT]{state:|psi>, part:1}, targets:{1 .. m}}, [MULTI_QUBIT_ELEM]{element:[INPUT]{state:|psi>, part:2}, targets:{1 .. m}}, ..., [MULTI_QUBIT_ELEM]{element:[INPUT]{state:|psi>, part:m}, targets:{1 .. m}}),  \\\\ ([MULTI_QUBIT_ELEM]{element:[GATE]{operation:U, part:1}, targets:{1 .. m}}, [MULTI_QUBIT_ELEM]{element:[GATE]{operation:U, part:2}, targets:{1 .. m}}, ..., [MULTI_QUBIT_ELEM]{element:[GATE]{operation:U, part:m}, targets:{1 .. m}}),  \\\\ ([MULTI_QUBIT_ELEM]{element:[OUTPUT]{state:(U . |psi>), part:1}, targets:{1 .. m}}, [MULTI_QUBIT_ELEM]{element:[OUTPUT]{state:(U . |psi>), part:2}, targets:{1 .. m}}, ..., [MULTI_QUBIT_ELEM]{element:[OUTPUT]{state:(U . |psi>), part:m}, targets:{1 .. m}})))) = 1\n",
       "   core type: Operation\n",
       "   operator: 1\n",
       "   operands: 2\n",
       "1. =\n",
       "   core type: Literal\n",
       "   sub-expressions: \n",
       "2. (Pr(QCIRCUIT(VertExprArray(([MULTI_QUBIT_ELEM]{element:[INPUT]{state:|psi>, part:1}, targets:{1 .. m}}, [MULTI_QUBIT_ELEM]{element:[INPUT]{state:|psi>, part:2}, targets:{1 .. m}}, ..., [MULTI_QUBIT_ELEM]{element:[INPUT]{state:|psi>, part:m}, targets:{1 .. m}}),  \\\\ ([MULTI_QUBIT_ELEM]{element:[GATE]{operation:U, part:1}, targets:{1 .. m}}, [MULTI_QUBIT_ELEM]{element:[GATE]{operation:U, part:2}, targets:{1 .. m}}, ..., [MULTI_QUBIT_ELEM]{element:[GATE]{operation:U, part:m}, targets:{1 .. m}}),  \\\\ ([MULTI_QUBIT_ELEM]{element:[OUTPUT]{state:(U . |psi>), part:1}, targets:{1 .. m}}, [MULTI_QUBIT_ELEM]{element:[OUTPUT]{state:(U . |psi>), part:2}, targets:{1 .. m}}, ..., [MULTI_QUBIT_ELEM]{element:[OUTPUT]{state:(U . |psi>), part:m}, targets:{1 .. m}})))), 1)\n",
       "   core type: ExprTuple\n",
       "   sub-expressions: 3, 40\n",
       "3. Pr(QCIRCUIT(VertExprArray(([MULTI_QUBIT_ELEM]{element:[INPUT]{state:|psi>, part:1}, targets:{1 .. m}}, [MULTI_QUBIT_ELEM]{element:[INPUT]{state:|psi>, part:2}, targets:{1 .. m}}, ..., [MULTI_QUBIT_ELEM]{element:[INPUT]{state:|psi>, part:m}, targets:{1 .. m}}),  \\\\ ([MULTI_QUBIT_ELEM]{element:[GATE]{operation:U, part:1}, targets:{1 .. m}}, [MULTI_QUBIT_ELEM]{element:[GATE]{operation:U, part:2}, targets:{1 .. m}}, ..., [MULTI_QUBIT_ELEM]{element:[GATE]{operation:U, part:m}, targets:{1 .. m}}),  \\\\ ([MULTI_QUBIT_ELEM]{element:[OUTPUT]{state:(U . |psi>), part:1}, targets:{1 .. m}}, [MULTI_QUBIT_ELEM]{element:[OUTPUT]{state:(U . |psi>), part:2}, targets:{1 .. m}}, ..., [MULTI_QUBIT_ELEM]{element:[OUTPUT]{state:(U . |psi>), part:m}, targets:{1 .. m}}))))\n",
       "   core type: Operation\n",
       "   operator: 4\n",
       "   operand: 6\n",
       "4. Pr\n",
       "   core type: Literal\n",
       "   sub-expressions: \n",
       "5. (QCIRCUIT(VertExprArray(([MULTI_QUBIT_ELEM]{element:[INPUT]{state:|psi>, part:1}, targets:{1 .. m}}, [MULTI_QUBIT_ELEM]{element:[INPUT]{state:|psi>, part:2}, targets:{1 .. m}}, ..., [MULTI_QUBIT_ELEM]{element:[INPUT]{state:|psi>, part:m}, targets:{1 .. m}}),  \\\\ ([MULTI_QUBIT_ELEM]{element:[GATE]{operation:U, part:1}, targets:{1 .. m}}, [MULTI_QUBIT_ELEM]{element:[GATE]{operation:U, part:2}, targets:{1 .. m}}, ..., [MULTI_QUBIT_ELEM]{element:[GATE]{operation:U, part:m}, targets:{1 .. m}}),  \\\\ ([MULTI_QUBIT_ELEM]{element:[OUTPUT]{state:(U . |psi>), part:1}, targets:{1 .. m}}, [MULTI_QUBIT_ELEM]{element:[OUTPUT]{state:(U . |psi>), part:2}, targets:{1 .. m}}, ..., [MULTI_QUBIT_ELEM]{element:[OUTPUT]{state:(U . |psi>), part:m}, targets:{1 .. m}}))))\n",
       "   core type: ExprTuple\n",
       "   sub-expressions: 6\n",
       "6. QCIRCUIT(VertExprArray(([MULTI_QUBIT_ELEM]{element:[INPUT]{state:|psi>, part:1}, targets:{1 .. m}}, [MULTI_QUBIT_ELEM]{element:[INPUT]{state:|psi>, part:2}, targets:{1 .. m}}, ..., [MULTI_QUBIT_ELEM]{element:[INPUT]{state:|psi>, part:m}, targets:{1 .. m}}),  \\\\ ([MULTI_QUBIT_ELEM]{element:[GATE]{operation:U, part:1}, targets:{1 .. m}}, [MULTI_QUBIT_ELEM]{element:[GATE]{operation:U, part:2}, targets:{1 .. m}}, ..., [MULTI_QUBIT_ELEM]{element:[GATE]{operation:U, part:m}, targets:{1 .. m}}),  \\\\ ([MULTI_QUBIT_ELEM]{element:[OUTPUT]{state:(U . |psi>), part:1}, targets:{1 .. m}}, [MULTI_QUBIT_ELEM]{element:[OUTPUT]{state:(U . |psi>), part:2}, targets:{1 .. m}}, ..., [MULTI_QUBIT_ELEM]{element:[OUTPUT]{state:(U . |psi>), part:m}, targets:{1 .. m}})))\n",
       "   core type: Operation\n",
       "   operator: 7\n",
       "   operands: 8\n",
       "7. QCIRCUIT\n",
       "   core type: Literal\n",
       "   sub-expressions: \n",
       "8. VertExprArray(([MULTI_QUBIT_ELEM]{element:[INPUT]{state:|psi>, part:1}, targets:{1 .. m}}, [MULTI_QUBIT_ELEM]{element:[INPUT]{state:|psi>, part:2}, targets:{1 .. m}}, ..., [MULTI_QUBIT_ELEM]{element:[INPUT]{state:|psi>, part:m}, targets:{1 .. m}}),  \\\\ ([MULTI_QUBIT_ELEM]{element:[GATE]{operation:U, part:1}, targets:{1 .. m}}, [MULTI_QUBIT_ELEM]{element:[GATE]{operation:U, part:2}, targets:{1 .. m}}, ..., [MULTI_QUBIT_ELEM]{element:[GATE]{operation:U, part:m}, targets:{1 .. m}}),  \\\\ ([MULTI_QUBIT_ELEM]{element:[OUTPUT]{state:(U . |psi>), part:1}, targets:{1 .. m}}, [MULTI_QUBIT_ELEM]{element:[OUTPUT]{state:(U . |psi>), part:2}, targets:{1 .. m}}, ..., [MULTI_QUBIT_ELEM]{element:[OUTPUT]{state:(U . |psi>), part:m}, targets:{1 .. m}}))\n",
       "   core type: ExprTuple\n",
       "   sub-expressions: 9, 10, 11\n",
       "9. ([MULTI_QUBIT_ELEM]{element:[INPUT]{state:|psi>, part:1}, targets:{1 .. m}}, [MULTI_QUBIT_ELEM]{element:[INPUT]{state:|psi>, part:2}, targets:{1 .. m}}, ..., [MULTI_QUBIT_ELEM]{element:[INPUT]{state:|psi>, part:m}, targets:{1 .. m}})\n",
       "   core type: ExprTuple\n",
       "   sub-expressions: 12\n",
       "10. ([MULTI_QUBIT_ELEM]{element:[GATE]{operation:U, part:1}, targets:{1 .. m}}, [MULTI_QUBIT_ELEM]{element:[GATE]{operation:U, part:2}, targets:{1 .. m}}, ..., [MULTI_QUBIT_ELEM]{element:[GATE]{operation:U, part:m}, targets:{1 .. m}})\n",
       "    core type: ExprTuple\n",
       "    sub-expressions: 13\n",
       "11. ([MULTI_QUBIT_ELEM]{element:[OUTPUT]{state:(U . |psi>), part:1}, targets:{1 .. m}}, [MULTI_QUBIT_ELEM]{element:[OUTPUT]{state:(U . |psi>), part:2}, targets:{1 .. m}}, ..., [MULTI_QUBIT_ELEM]{element:[OUTPUT]{state:(U . |psi>), part:m}, targets:{1 .. m}})\n",
       "    core type: ExprTuple\n",
       "    sub-expressions: 14\n",
       "12. [MULTI_QUBIT_ELEM]{element:[INPUT]{state:|psi>, part:1}, targets:{1 .. m}}, [MULTI_QUBIT_ELEM]{element:[INPUT]{state:|psi>, part:2}, targets:{1 .. m}}, ..., [MULTI_QUBIT_ELEM]{element:[INPUT]{state:|psi>, part:m}, targets:{1 .. m}}\n",
       "    core type: ExprRange\n",
       "    lambda_map: 15\n",
       "    start_index: 40\n",
       "    end_index: 41\n",
       "13. [MULTI_QUBIT_ELEM]{element:[GATE]{operation:U, part:1}, targets:{1 .. m}}, [MULTI_QUBIT_ELEM]{element:[GATE]{operation:U, part:2}, targets:{1 .. m}}, ..., [MULTI_QUBIT_ELEM]{element:[GATE]{operation:U, part:m}, targets:{1 .. m}}\n",
       "    core type: ExprRange\n",
       "    lambda_map: 16\n",
       "    start_index: 40\n",
       "    end_index: 41\n",
       "14. [MULTI_QUBIT_ELEM]{element:[OUTPUT]{state:(U . |psi>), part:1}, targets:{1 .. m}}, [MULTI_QUBIT_ELEM]{element:[OUTPUT]{state:(U . |psi>), part:2}, targets:{1 .. m}}, ..., [MULTI_QUBIT_ELEM]{element:[OUTPUT]{state:(U . |psi>), part:m}, targets:{1 .. m}}\n",
       "    core type: ExprRange\n",
       "    lambda_map: 17\n",
       "    start_index: 40\n",
       "    end_index: 41\n",
       "15. _a -> [MULTI_QUBIT_ELEM]{element:[INPUT]{state:|psi>, part:_a}, targets:{1 .. m}}\n",
       "    core type: Lambda\n",
       "    parameter: 39\n",
       "    body: 18\n",
       "16. _a -> [MULTI_QUBIT_ELEM]{element:[GATE]{operation:U, part:_a}, targets:{1 .. m}}\n",
       "    core type: Lambda\n",
       "    parameter: 39\n",
       "    body: 19\n",
       "17. _a -> [MULTI_QUBIT_ELEM]{element:[OUTPUT]{state:(U . |psi>), part:_a}, targets:{1 .. m}}\n",
       "    core type: Lambda\n",
       "    parameter: 39\n",
       "    body: 21\n",
       "18. [MULTI_QUBIT_ELEM]{element:[INPUT]{state:|psi>, part:_a}, targets:{1 .. m}}\n",
       "    core type: Operation\n",
       "    operator: 24\n",
       "    operands: 22\n",
       "19. [MULTI_QUBIT_ELEM]{element:[GATE]{operation:U, part:_a}, targets:{1 .. m}}\n",
       "    core type: Operation\n",
       "    operator: 24\n",
       "    operands: 23\n",
       "20. (_a)\n",
       "    core type: ExprTuple\n",
       "    sub-expressions: 39\n",
       "21. [MULTI_QUBIT_ELEM]{element:[OUTPUT]{state:(U . |psi>), part:_a}, targets:{1 .. m}}\n",
       "    core type: Operation\n",
       "    operator: 24\n",
       "    operands: 25\n",
       "22. {element:[INPUT]{state:|psi>, part:_a}, targets:{1 .. m}}\n",
       "    core type: NamedExprs\n",
       "    element: 26\n",
       "    targets: 29\n",
       "23. {element:[GATE]{operation:U, part:_a}, targets:{1 .. m}}\n",
       "    core type: NamedExprs\n",
       "    element: 27\n",
       "    targets: 29\n",
       "24. MULTI_QUBIT_ELEM\n",
       "    core type: Literal\n",
       "    sub-expressions: \n",
       "25. {element:[OUTPUT]{state:(U . |psi>), part:_a}, targets:{1 .. m}}\n",
       "    core type: NamedExprs\n",
       "    element: 28\n",
       "    targets: 29\n",
       "26. [INPUT]{state:|psi>, part:_a}\n",
       "    core type: Operation\n",
       "    operator: 30\n",
       "    operands: 31\n",
       "27. [GATE]{operation:U, part:_a}\n",
       "    core type: Operation\n",
       "    operator: 32\n",
       "    operands: 33\n",
       "28. [OUTPUT]{state:(U . |psi>), part:_a}\n",
       "    core type: Operation\n",
       "    operator: 34\n",
       "    operands: 35\n",
       "29. {1 .. m}\n",
       "    core type: Operation\n",
       "    operator: 36\n",
       "    operands: 37\n",
       "30. INPUT\n",
       "    core type: Literal\n",
       "    sub-expressions: \n",
       "31. {state:|psi>, part:_a}\n",
       "    core type: NamedExprs\n",
       "    state: 45\n",
       "    part: 39\n",
       "32. GATE\n",
       "    core type: Literal\n",
       "    sub-expressions: \n",
       "33. {operation:U, part:_a}\n",
       "    core type: NamedExprs\n",
       "    operation: 44\n",
       "    part: 39\n",
       "34. OUTPUT\n",
       "    core type: Literal\n",
       "    sub-expressions: \n",
       "35. {state:(U . |psi>), part:_a}\n",
       "    core type: NamedExprs\n",
       "    state: 38\n",
       "    part: 39\n",
       "36. Interval\n",
       "    core type: Literal\n",
       "    sub-expressions: \n",
       "37. (1, m)\n",
       "    core type: ExprTuple\n",
       "    sub-expressions: 40, 41\n",
       "38. U . |psi>\n",
       "    core type: Operation\n",
       "    operator: 42\n",
       "    operands: 43\n",
       "39. _a\n",
       "    core type: Variable\n",
       "    sub-expressions: \n",
       "40. 1\n",
       "    core type: Literal\n",
       "    sub-expressions: \n",
       "41. m\n",
       "    core type: Variable\n",
       "    sub-expressions: \n",
       "42. .\n",
       "    core type: Literal\n",
       "    sub-expressions: \n",
       "43. (U, |psi>)\n",
       "    core type: ExprTuple\n",
       "    sub-expressions: 44, 45\n",
       "44. U\n",
       "    core type: Variable\n",
       "    sub-expressions: \n",
       "45. |psi>\n",
       "    core type: Variable\n",
       "    sub-expressions: "
      ]
     },
     "metadata": {},
     "output_type": "display_data"
    }
   ],
   "source": [
    "# display the expression information\n",
    "stored_expr.expr_info()"
   ]
  },
  {
   "cell_type": "code",
   "execution_count": null,
   "metadata": {},
   "outputs": [],
   "source": []
  }
 ],
 "metadata": {
  "kernelspec": {
   "display_name": "Python 3",
   "language": "python",
   "name": "python3"
  }
 },
 "nbformat": 4,
 "nbformat_minor": 0
}