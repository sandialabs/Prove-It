{
 "cells": [
  {
   "cell_type": "markdown",
   "metadata": {},
   "source": [
    "Expression of type <a class=\"ProveItLink\" href=\"../../../../../../../../doc/html/api/proveit.logic.Equals.html\">Equals</a>\n",
    "=======================\n",
    "# from the theory of <a class=\"ProveItLink\" href=\"../../../_theory_nbs_/theory.ipynb\">proveit.physics.quantum.circuits</a>"
   ]
  },
  {
   "cell_type": "code",
   "execution_count": 1,
   "metadata": {},
   "outputs": [],
   "source": [
    "import proveit\n",
    "# Automation is not needed when building an expression:\n",
    "proveit.defaults.automation = False # This will speed things up.\n",
    "proveit.defaults.inline_pngs = False # Makes files smaller.\n",
    "%load_expr # Load the stored expression as 'stored_expr'\n",
    "# import Expression classes needed to build the expression\n",
    "from proveit.logic import Equals\n",
    "from proveit.physics.quantum.circuits import circuit_Akl, circuit_Bkl"
   ]
  },
  {
   "cell_type": "code",
   "execution_count": 2,
   "metadata": {},
   "outputs": [
    {
     "data": {
      "text/html": [
       "<strong id=\"expr\">expr:</strong> <a class=\"ProveItLink\" href=\"expr.ipynb\"><img src=\"expr.png\" style=\"display:inline;vertical-align:middle;\" /></a><br>"
      ],
      "text/plain": [
       "<IPython.core.display.HTML object>"
      ]
     },
     "metadata": {},
     "output_type": "display_data"
    }
   ],
   "source": [
    "# build up the expression from sub-expressions\n",
    "expr = Equals(circuit_Akl, circuit_Bkl)"
   ]
  },
  {
   "cell_type": "code",
   "execution_count": 3,
   "metadata": {},
   "outputs": [
    {
     "name": "stdout",
     "output_type": "stream",
     "text": [
      "Passed sanity check: expr matches stored_expr\n"
     ]
    }
   ],
   "source": [
    "# check that the built expression is the same as the stored expression\n",
    "assert expr == stored_expr\n",
    "assert expr._style_id == stored_expr._style_id\n",
    "print(\"Passed sanity check: expr matches stored_expr\")"
   ]
  },
  {
   "cell_type": "code",
   "execution_count": 4,
   "metadata": {},
   "outputs": [
    {
     "name": "stdout",
     "output_type": "stream",
     "text": [
      "\\left(\\begin{array}{c} \\Qcircuit@C=1em @R=.7em{\n",
      "& \\gate{A_{1, 1}} \\qwx[1] & \\gate{A_{2, 1}} \\qwx[1] & \\gate{\\cdots} \\qwx[1] & \\gate{A_{k, 1}} \\qwx[1] & \\qw \\\\\n",
      "& \\gate{A_{1, 2}} \\qwx[1] & \\gate{A_{2, 2}} \\qwx[1] & \\gate{\\cdots} \\qwx[1] & \\gate{A_{k, 2}} \\qwx[1] & \\qw \\\\\n",
      "& \\gate{\\vdots} \\qwx[1] & \\gate{\\vdots} \\qwx[1] & \\gate{\\ddots} \\qwx[1] & \\gate{\\vdots} \\qwx[1] & \\qw \\\\\n",
      "& \\gate{A_{1, l}} & \\gate{A_{2, l}} & \\gate{\\cdots} & \\gate{A_{k, l}} & \\qw\n",
      "} \\end{array}\\right) = \\left(\\begin{array}{c} \\Qcircuit@C=1em @R=.7em{\n",
      "& \\gate{B_{1, 1}} \\qwx[1] & \\gate{B_{2, 1}} \\qwx[1] & \\gate{\\cdots} \\qwx[1] & \\gate{B_{k, 1}} \\qwx[1] & \\qw \\\\\n",
      "& \\gate{B_{1, 2}} \\qwx[1] & \\gate{B_{2, 2}} \\qwx[1] & \\gate{\\cdots} \\qwx[1] & \\gate{B_{k, 2}} \\qwx[1] & \\qw \\\\\n",
      "& \\gate{\\vdots} \\qwx[1] & \\gate{\\vdots} \\qwx[1] & \\gate{\\ddots} \\qwx[1] & \\gate{\\vdots} \\qwx[1] & \\qw \\\\\n",
      "& \\gate{B_{1, l}} & \\gate{B_{2, l}} & \\gate{\\cdots} & \\gate{B_{k, l}} & \\qw\n",
      "} \\end{array}\\right)\n"
     ]
    }
   ],
   "source": [
    "# Show the LaTeX representation of the expression for convenience if you need it.\n",
    "print(stored_expr.latex())"
   ]
  },
  {
   "cell_type": "code",
   "execution_count": 5,
   "metadata": {},
   "outputs": [
    {
     "data": {
      "text/html": [
       "<table>\n",
       "<tr><th>name</th><th>description</th><th>default</th><th>current value</th><th>related methods</th></tr><tr><td>operation</td><td>'infix' or 'function' style formatting</td><td>infix</td><td>infix</td><td></td></tr>\n",
       "<tr><td>wrap_positions</td><td>position(s) at which wrapping is to occur; '2 n - 1' is after the nth operand, '2 n' is after the nth operation.</td><td>()</td><td>()</td><td>('with_wrapping_at', 'with_wrap_before_operator', 'with_wrap_after_operator', 'without_wrapping', 'wrap_positions')</td></tr>\n",
       "<tr><td>justification</td><td>if any wrap positions are set, justify to the 'left', 'center', or 'right'</td><td>center</td><td>center</td><td>('with_justification',)</td></tr>\n",
       "<tr><td>direction</td><td>Direction of the relation (normal or reversed)</td><td>normal</td><td>normal</td><td>('with_direction_reversed', 'is_reversed')</td></tr>\n",
       "</table>\n"
      ],
      "text/plain": [
       "style name: operation\n",
       "description: 'infix' or 'function' style formatting\n",
       "default: infix\n",
       "current value: infix\n",
       "related methods: ()\n",
       "style name: wrap_positions\n",
       "description: position(s) at which wrapping is to occur; '2 n - 1' is after the nth operand, '2 n' is after the nth operation.\n",
       "default: ()\n",
       "current value: ()\n",
       "related methods: ('with_wrapping_at', 'with_wrap_before_operator', 'with_wrap_after_operator', 'without_wrapping', 'wrap_positions')\n",
       "style name: justification\n",
       "description: if any wrap positions are set, justify to the 'left', 'center', or 'right'\n",
       "default: center\n",
       "current value: center\n",
       "related methods: ('with_justification',)\n",
       "style name: direction\n",
       "description: Direction of the relation (normal or reversed)\n",
       "default: normal\n",
       "current value: normal\n",
       "related methods: ('with_direction_reversed', 'is_reversed')"
      ]
     },
     "metadata": {},
     "output_type": "display_data"
    }
   ],
   "source": [
    "stored_expr.style_options()"
   ]
  },
  {
   "cell_type": "code",
   "execution_count": 6,
   "metadata": {},
   "outputs": [
    {
     "data": {
      "text/html": [
       "<table><tr><th>&nbsp;</th><th>core type</th><th>sub-expressions</th><th>expression</th></tr>\n",
       "<tr><td>0</td><td>Operation</td><td>operator:&nbsp;1<br>operands:&nbsp;2<br></td><td><a class=\"ProveItLink\" href=\"expr.ipynb\"><img src=\"expr.png\" style=\"display:inline;vertical-align:middle;\" /></a></td></tr>\n",
       "<tr><td>1</td><td>Literal</td><td></td><td><a class=\"ProveItLink\" href=\"../../../../../../logic/equality/__pv_it/common/fb96dc12b2aa8801dda64d0132b396c63d1502bb0/expr.ipynb\"><img src=\"../../../../../../logic/equality/__pv_it/common/fb96dc12b2aa8801dda64d0132b396c63d1502bb0/expr.png\" style=\"display:inline;vertical-align:middle;\" /></a></td></tr>\n",
       "<tr><td>2</td><td>ExprTuple</td><td>3, 4</td><td><a class=\"ProveItLink\" href=\"../193777f40c4ad2b8b66981130521ec142842ffdf0/expr.ipynb\"><img src=\"../193777f40c4ad2b8b66981130521ec142842ffdf0/expr.png\" style=\"display:inline;vertical-align:middle;\" /></a></td></tr>\n",
       "<tr><td>3</td><td>Operation</td><td>operator:&nbsp;6<br>operands:&nbsp;5<br></td><td><a class=\"ProveItLink\" href=\"../../common/a259589d75fbdf58acdc212d1c6bfb869f8c827c0/expr.ipynb\"><img src=\"../../common/a259589d75fbdf58acdc212d1c6bfb869f8c827c0/expr.png\" style=\"display:inline;vertical-align:middle;\" /></a></td></tr>\n",
       "<tr><td>4</td><td>Operation</td><td>operator:&nbsp;6<br>operands:&nbsp;7<br></td><td><a class=\"ProveItLink\" href=\"../../common/4f41130f0f94d3a418bb9d84bef060cd25e051810/expr.ipynb\"><img src=\"../../common/4f41130f0f94d3a418bb9d84bef060cd25e051810/expr.png\" style=\"display:inline;vertical-align:middle;\" /></a></td></tr>\n",
       "<tr><td>5</td><td>ExprTuple</td><td>8</td><td><a class=\"ProveItLink\" href=\"../../../../../../core_expr_types/expr_arrays/__pv_it/common/a6d6654211557a57bc4b2c95d3c050fdf39e9c900/expr.ipynb\"><img src=\"../../../../../../core_expr_types/expr_arrays/__pv_it/common/a6d6654211557a57bc4b2c95d3c050fdf39e9c900/expr.png\" style=\"display:inline;vertical-align:middle;\" /></a></td></tr>\n",
       "<tr><td>6</td><td>Literal</td><td></td><td><a class=\"ProveItLink\" href=\"../../common/40003b89a3d1740159ada9fe5b21308b42a7d3d40/expr.ipynb\"><img src=\"../../common/40003b89a3d1740159ada9fe5b21308b42a7d3d40/expr.png\" style=\"display:inline;vertical-align:middle;\" /></a></td></tr>\n",
       "<tr><td>7</td><td>ExprTuple</td><td>9</td><td><a class=\"ProveItLink\" href=\"../../../../../../core_expr_types/expr_arrays/__pv_it/common/dd56b5f0c579b0bdd055c82621936b48252045c10/expr.ipynb\"><img src=\"../../../../../../core_expr_types/expr_arrays/__pv_it/common/dd56b5f0c579b0bdd055c82621936b48252045c10/expr.png\" style=\"display:inline;vertical-align:middle;\" /></a></td></tr>\n",
       "<tr><td>8</td><td>ExprRange</td><td>lambda_map:&nbsp;10<br>start_index:&nbsp;20<br>end_index:&nbsp;12<br></td><td><a class=\"ProveItLink\" href=\"../../../../../../core_expr_types/expr_arrays/__pv_it/common/d6e7afffa22b7f1eea7825883cb70ba4ed98eb860/expr.ipynb\"><img src=\"../../../../../../core_expr_types/expr_arrays/__pv_it/common/d6e7afffa22b7f1eea7825883cb70ba4ed98eb860/expr.png\" style=\"display:inline;vertical-align:middle;\" /></a></td></tr>\n",
       "<tr><td>9</td><td>ExprRange</td><td>lambda_map:&nbsp;11<br>start_index:&nbsp;20<br>end_index:&nbsp;12<br></td><td><a class=\"ProveItLink\" href=\"../../../../../../core_expr_types/expr_arrays/__pv_it/common/67dd42c15996de7cf1833f315175c6a1003f63c20/expr.ipynb\"><img src=\"../../../../../../core_expr_types/expr_arrays/__pv_it/common/67dd42c15996de7cf1833f315175c6a1003f63c20/expr.png\" style=\"display:inline;vertical-align:middle;\" /></a></td></tr>\n",
       "<tr><td>10</td><td>Lambda</td><td>parameter:&nbsp;28<br>body:&nbsp;13<br></td><td><a class=\"ProveItLink\" href=\"../../../../../../core_expr_types/expr_arrays/__pv_it/common/0afc00fedb7b5cc0a15ccadfe8d932b9c5d3a3630/expr.ipynb\"><img src=\"../../../../../../core_expr_types/expr_arrays/__pv_it/common/0afc00fedb7b5cc0a15ccadfe8d932b9c5d3a3630/expr.png\" style=\"display:inline;vertical-align:middle;\" /></a></td></tr>\n",
       "<tr><td>11</td><td>Lambda</td><td>parameter:&nbsp;28<br>body:&nbsp;15<br></td><td><a class=\"ProveItLink\" href=\"../../../../../../core_expr_types/expr_arrays/__pv_it/common/15f77fe7ffd7a32f2e8efe592d13d22e01ee80820/expr.ipynb\"><img src=\"../../../../../../core_expr_types/expr_arrays/__pv_it/common/15f77fe7ffd7a32f2e8efe592d13d22e01ee80820/expr.png\" style=\"display:inline;vertical-align:middle;\" /></a></td></tr>\n",
       "<tr><td>12</td><td>Variable</td><td></td><td><a class=\"ProveItLink\" href=\"../../../../../../__pv_it/common/63b7c64bf9ec7a04ecc396c7a1670f3f12fb59490/expr.ipynb\"><img src=\"../../../../../../__pv_it/common/63b7c64bf9ec7a04ecc396c7a1670f3f12fb59490/expr.png\" style=\"display:inline;vertical-align:middle;\" /></a></td></tr>\n",
       "<tr><td>13</td><td>ExprTuple</td><td>16</td><td><a class=\"ProveItLink\" href=\"../../../../../../core_expr_types/expr_arrays/__pv_it/common/6fcd8ce04879ed68ce8dcfb677f54c2130f600750/expr.ipynb\"><img src=\"../../../../../../core_expr_types/expr_arrays/__pv_it/common/6fcd8ce04879ed68ce8dcfb677f54c2130f600750/expr.png\" style=\"display:inline;vertical-align:middle;\" /></a></td></tr>\n",
       "<tr><td>14</td><td>ExprTuple</td><td>28</td><td><a class=\"ProveItLink\" href=\"../../../../../../core_expr_types/expr_arrays/__pv_it/common/18f7318b68e45ff8356043b6e71619fa8450fb200/expr.ipynb\"><img src=\"../../../../../../core_expr_types/expr_arrays/__pv_it/common/18f7318b68e45ff8356043b6e71619fa8450fb200/expr.png\" style=\"display:inline;vertical-align:middle;\" /></a></td></tr>\n",
       "<tr><td>15</td><td>ExprTuple</td><td>17</td><td><a class=\"ProveItLink\" href=\"../../../../../../core_expr_types/expr_arrays/__pv_it/common/f11b5ca21da0c9eb83028013f3f1f45d6447d4320/expr.ipynb\"><img src=\"../../../../../../core_expr_types/expr_arrays/__pv_it/common/f11b5ca21da0c9eb83028013f3f1f45d6447d4320/expr.png\" style=\"display:inline;vertical-align:middle;\" /></a></td></tr>\n",
       "<tr><td>16</td><td>ExprRange</td><td>lambda_map:&nbsp;18<br>start_index:&nbsp;20<br>end_index:&nbsp;21<br></td><td><a class=\"ProveItLink\" href=\"../../../../../../core_expr_types/expr_arrays/__pv_it/common/ba13910b8ff90bcfb0fbf5fa4fe2b61900eb20590/expr.ipynb\"><img src=\"../../../../../../core_expr_types/expr_arrays/__pv_it/common/ba13910b8ff90bcfb0fbf5fa4fe2b61900eb20590/expr.png\" style=\"display:inline;vertical-align:middle;\" /></a></td></tr>\n",
       "<tr><td>17</td><td>ExprRange</td><td>lambda_map:&nbsp;19<br>start_index:&nbsp;20<br>end_index:&nbsp;21<br></td><td><a class=\"ProveItLink\" href=\"../../../../../../core_expr_types/expr_arrays/__pv_it/common/fea2205a0e1ab585f2abca1ee3d9baee3cc941520/expr.ipynb\"><img src=\"../../../../../../core_expr_types/expr_arrays/__pv_it/common/fea2205a0e1ab585f2abca1ee3d9baee3cc941520/expr.png\" style=\"display:inline;vertical-align:middle;\" /></a></td></tr>\n",
       "<tr><td>18</td><td>Lambda</td><td>parameter:&nbsp;29<br>body:&nbsp;22<br></td><td><a class=\"ProveItLink\" href=\"../../../../../../core_expr_types/expr_arrays/__pv_it/common/042b3e9ccffc5bb337bf14e5131e4c08f85b67640/expr.ipynb\"><img src=\"../../../../../../core_expr_types/expr_arrays/__pv_it/common/042b3e9ccffc5bb337bf14e5131e4c08f85b67640/expr.png\" style=\"display:inline;vertical-align:middle;\" /></a></td></tr>\n",
       "<tr><td>19</td><td>Lambda</td><td>parameter:&nbsp;29<br>body:&nbsp;24<br></td><td><a class=\"ProveItLink\" href=\"../../../../../../core_expr_types/expr_arrays/__pv_it/common/173a6f369ab7811b1f6ac71a9b4b327950cd138d0/expr.ipynb\"><img src=\"../../../../../../core_expr_types/expr_arrays/__pv_it/common/173a6f369ab7811b1f6ac71a9b4b327950cd138d0/expr.png\" style=\"display:inline;vertical-align:middle;\" /></a></td></tr>\n",
       "<tr><td>20</td><td>Literal</td><td></td><td><a class=\"ProveItLink\" href=\"../../../../../../numbers/numerals/__pv_it/common/682157d4892d216d9e5626ed533aff9b56b9506e0/expr.ipynb\"><img src=\"../../../../../../numbers/numerals/__pv_it/common/682157d4892d216d9e5626ed533aff9b56b9506e0/expr.png\" style=\"display:inline;vertical-align:middle;\" /></a></td></tr>\n",
       "<tr><td>21</td><td>Variable</td><td></td><td><a class=\"ProveItLink\" href=\"../../../../../../__pv_it/common/27cc275d44b4f4499fb9ccfb3fab1a98165d2fa60/expr.ipynb\"><img src=\"../../../../../../__pv_it/common/27cc275d44b4f4499fb9ccfb3fab1a98165d2fa60/expr.png\" style=\"display:inline;vertical-align:middle;\" /></a></td></tr>\n",
       "<tr><td>22</td><td>IndexedVar</td><td>variable:&nbsp;25<br>indices:&nbsp;27<br></td><td><a class=\"ProveItLink\" href=\"../../../../../../core_expr_types/expr_arrays/__pv_it/common/de56197d2c2a64a76930b89ea44fb63be43f4c020/expr.ipynb\"><img src=\"../../../../../../core_expr_types/expr_arrays/__pv_it/common/de56197d2c2a64a76930b89ea44fb63be43f4c020/expr.png\" style=\"display:inline;vertical-align:middle;\" /></a></td></tr>\n",
       "<tr><td>23</td><td>ExprTuple</td><td>29</td><td><a class=\"ProveItLink\" href=\"../../../../../../core_expr_types/expr_arrays/__pv_it/common/4b0dd6be36d76552eda6a95d5b4a27f5a5b62f900/expr.ipynb\"><img src=\"../../../../../../core_expr_types/expr_arrays/__pv_it/common/4b0dd6be36d76552eda6a95d5b4a27f5a5b62f900/expr.png\" style=\"display:inline;vertical-align:middle;\" /></a></td></tr>\n",
       "<tr><td>24</td><td>IndexedVar</td><td>variable:&nbsp;26<br>indices:&nbsp;27<br></td><td><a class=\"ProveItLink\" href=\"../../../../../../core_expr_types/expr_arrays/__pv_it/common/e79cd0fe4a2577a30580c7ee9d8c9195486094ac0/expr.ipynb\"><img src=\"../../../../../../core_expr_types/expr_arrays/__pv_it/common/e79cd0fe4a2577a30580c7ee9d8c9195486094ac0/expr.png\" style=\"display:inline;vertical-align:middle;\" /></a></td></tr>\n",
       "<tr><td>25</td><td>Variable</td><td></td><td><a class=\"ProveItLink\" href=\"../../../../../../__pv_it/common/09585084922504426caf1db2ff588a23a0932a960/expr.ipynb\"><img src=\"../../../../../../__pv_it/common/09585084922504426caf1db2ff588a23a0932a960/expr.png\" style=\"display:inline;vertical-align:middle;\" /></a></td></tr>\n",
       "<tr><td>26</td><td>Variable</td><td></td><td><a class=\"ProveItLink\" href=\"../../../../../../__pv_it/common/a9162d1c3cc0470c02e5daf414500903a7a419230/expr.ipynb\"><img src=\"../../../../../../__pv_it/common/a9162d1c3cc0470c02e5daf414500903a7a419230/expr.png\" style=\"display:inline;vertical-align:middle;\" /></a></td></tr>\n",
       "<tr><td>27</td><td>ExprTuple</td><td>28, 29</td><td><a class=\"ProveItLink\" href=\"../../../../../../core_expr_types/expr_arrays/__pv_it/common/c899820ca7633ea1589f21e8e039aa4da91850d80/expr.ipynb\"><img src=\"../../../../../../core_expr_types/expr_arrays/__pv_it/common/c899820ca7633ea1589f21e8e039aa4da91850d80/expr.png\" style=\"display:inline;vertical-align:middle;\" /></a></td></tr>\n",
       "<tr><td>28</td><td>Variable</td><td></td><td><a class=\"ProveItLink\" href=\"../../../../../../core_expr_types/expr_arrays/__pv_it/common/9a18d67b443cf8d92289c655ed91ec78766170a90/expr.ipynb\"><img src=\"../../../../../../core_expr_types/expr_arrays/__pv_it/common/9a18d67b443cf8d92289c655ed91ec78766170a90/expr.png\" style=\"display:inline;vertical-align:middle;\" /></a></td></tr>\n",
       "<tr><td>29</td><td>Variable</td><td></td><td><a class=\"ProveItLink\" href=\"../../../../../../core_expr_types/expr_arrays/__pv_it/common/006c465e50948aa2b52285e2de47974f741255cc0/expr.ipynb\"><img src=\"../../../../../../core_expr_types/expr_arrays/__pv_it/common/006c465e50948aa2b52285e2de47974f741255cc0/expr.png\" style=\"display:inline;vertical-align:middle;\" /></a></td></tr>\n",
       "</table>\n"
      ],
      "text/plain": [
       "0. QCIRCUIT(VertExprArray((A_{1, 1}, A_{1, 2}, ..., A_{1, l}), (A_{2, 1}, A_{2, 2}, ..., A_{2, l}), ..., (A_{k, 1}, A_{k, 2}, ..., A_{k, l}))) = QCIRCUIT(VertExprArray((B_{1, 1}, B_{1, 2}, ..., B_{1, l}), (B_{2, 1}, B_{2, 2}, ..., B_{2, l}), ..., (B_{k, 1}, B_{k, 2}, ..., B_{k, l})))\n",
       "   core type: Operation\n",
       "   operator: 1\n",
       "   operands: 2\n",
       "1. =\n",
       "   core type: Literal\n",
       "   sub-expressions: \n",
       "2. (QCIRCUIT(VertExprArray((A_{1, 1}, A_{1, 2}, ..., A_{1, l}), (A_{2, 1}, A_{2, 2}, ..., A_{2, l}), ..., (A_{k, 1}, A_{k, 2}, ..., A_{k, l}))), QCIRCUIT(VertExprArray((B_{1, 1}, B_{1, 2}, ..., B_{1, l}), (B_{2, 1}, B_{2, 2}, ..., B_{2, l}), ..., (B_{k, 1}, B_{k, 2}, ..., B_{k, l}))))\n",
       "   core type: ExprTuple\n",
       "   sub-expressions: 3, 4\n",
       "3. QCIRCUIT(VertExprArray((A_{1, 1}, A_{1, 2}, ..., A_{1, l}), (A_{2, 1}, A_{2, 2}, ..., A_{2, l}), ..., (A_{k, 1}, A_{k, 2}, ..., A_{k, l})))\n",
       "   core type: Operation\n",
       "   operator: 6\n",
       "   operands: 5\n",
       "4. QCIRCUIT(VertExprArray((B_{1, 1}, B_{1, 2}, ..., B_{1, l}), (B_{2, 1}, B_{2, 2}, ..., B_{2, l}), ..., (B_{k, 1}, B_{k, 2}, ..., B_{k, l})))\n",
       "   core type: Operation\n",
       "   operator: 6\n",
       "   operands: 7\n",
       "5. VertExprArray((A_{1, 1}, A_{1, 2}, ..., A_{1, l}), (A_{2, 1}, A_{2, 2}, ..., A_{2, l}), ..., (A_{k, 1}, A_{k, 2}, ..., A_{k, l}))\n",
       "   core type: ExprTuple\n",
       "   sub-expressions: 8\n",
       "6. QCIRCUIT\n",
       "   core type: Literal\n",
       "   sub-expressions: \n",
       "7. VertExprArray((B_{1, 1}, B_{1, 2}, ..., B_{1, l}), (B_{2, 1}, B_{2, 2}, ..., B_{2, l}), ..., (B_{k, 1}, B_{k, 2}, ..., B_{k, l}))\n",
       "   core type: ExprTuple\n",
       "   sub-expressions: 9\n",
       "8. (A_{1, 1}, A_{1, 2}, ..., A_{1, l}), (A_{2, 1}, A_{2, 2}, ..., A_{2, l}), ..., (A_{k, 1}, A_{k, 2}, ..., A_{k, l})\n",
       "   core type: ExprRange\n",
       "   lambda_map: 10\n",
       "   start_index: 20\n",
       "   end_index: 12\n",
       "9. (B_{1, 1}, B_{1, 2}, ..., B_{1, l}), (B_{2, 1}, B_{2, 2}, ..., B_{2, l}), ..., (B_{k, 1}, B_{k, 2}, ..., B_{k, l})\n",
       "   core type: ExprRange\n",
       "   lambda_map: 11\n",
       "   start_index: 20\n",
       "   end_index: 12\n",
       "10. _b -> (A_{_b, 1}, A_{_b, 2}, ..., A_{_b, l})\n",
       "    core type: Lambda\n",
       "    parameter: 28\n",
       "    body: 13\n",
       "11. _b -> (B_{_b, 1}, B_{_b, 2}, ..., B_{_b, l})\n",
       "    core type: Lambda\n",
       "    parameter: 28\n",
       "    body: 15\n",
       "12. k\n",
       "    core type: Variable\n",
       "    sub-expressions: \n",
       "13. (A_{_b, 1}, A_{_b, 2}, ..., A_{_b, l})\n",
       "    core type: ExprTuple\n",
       "    sub-expressions: 16\n",
       "14. (_b)\n",
       "    core type: ExprTuple\n",
       "    sub-expressions: 28\n",
       "15. (B_{_b, 1}, B_{_b, 2}, ..., B_{_b, l})\n",
       "    core type: ExprTuple\n",
       "    sub-expressions: 17\n",
       "16. A_{_b, 1}, A_{_b, 2}, ..., A_{_b, l}\n",
       "    core type: ExprRange\n",
       "    lambda_map: 18\n",
       "    start_index: 20\n",
       "    end_index: 21\n",
       "17. B_{_b, 1}, B_{_b, 2}, ..., B_{_b, l}\n",
       "    core type: ExprRange\n",
       "    lambda_map: 19\n",
       "    start_index: 20\n",
       "    end_index: 21\n",
       "18. _a -> A_{_b, _a}\n",
       "    core type: Lambda\n",
       "    parameter: 29\n",
       "    body: 22\n",
       "19. _a -> B_{_b, _a}\n",
       "    core type: Lambda\n",
       "    parameter: 29\n",
       "    body: 24\n",
       "20. 1\n",
       "    core type: Literal\n",
       "    sub-expressions: \n",
       "21. l\n",
       "    core type: Variable\n",
       "    sub-expressions: \n",
       "22. A_{_b, _a}\n",
       "    core type: IndexedVar\n",
       "variable: 25\n",
       "indices: 27\n",
       "23. (_a)\n",
       "    core type: ExprTuple\n",
       "    sub-expressions: 29\n",
       "24. B_{_b, _a}\n",
       "    core type: IndexedVar\n",
       "variable: 26\n",
       "indices: 27\n",
       "25. A\n",
       "    core type: Variable\n",
       "    sub-expressions: \n",
       "26. B\n",
       "    core type: Variable\n",
       "    sub-expressions: \n",
       "27. (_b, _a)\n",
       "    core type: ExprTuple\n",
       "    sub-expressions: 28, 29\n",
       "28. _b\n",
       "    core type: Variable\n",
       "    sub-expressions: \n",
       "29. _a\n",
       "    core type: Variable\n",
       "    sub-expressions: "
      ]
     },
     "metadata": {},
     "output_type": "display_data"
    }
   ],
   "source": [
    "# display the expression information\n",
    "stored_expr.expr_info()"
   ]
  },
  {
   "cell_type": "code",
   "execution_count": null,
   "metadata": {},
   "outputs": [],
   "source": []
  }
 ],
 "metadata": {
  "kernelspec": {
   "display_name": "Python 3",
   "language": "python",
   "name": "python3"
  }
 },
 "nbformat": 4,
 "nbformat_minor": 0
}