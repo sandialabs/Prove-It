{
 "cells": [
  {
   "cell_type": "markdown",
   "metadata": {},
   "source": [
    "Expression of type <a class=\"ProveItLink\" href=\"../../../../../../../../doc/html/api/proveit.ExprTuple.html\">ExprTuple</a>\n",
    "=======================\n",
    "# from the theory of <a class=\"ProveItLink\" href=\"../../../_theory_nbs_/theory.ipynb\">proveit.physics.quantum.circuits</a>"
   ]
  },
  {
   "cell_type": "code",
   "execution_count": 1,
   "metadata": {},
   "outputs": [],
   "source": [
    "import proveit\n",
    "# Automation is not needed when building an expression:\n",
    "proveit.defaults.automation = False # This will speed things up.\n",
    "proveit.defaults.inline_pngs = False # Makes files smaller.\n",
    "%load_expr # Load the stored expression as 'stored_expr'\n",
    "# import Expression classes needed to build the expression\n",
    "from proveit import ExprTuple\n",
    "from proveit.physics.quantum.circuits import circuit_compressed_inputAm, circuit_expanded_inputBm"
   ]
  },
  {
   "cell_type": "code",
   "execution_count": 2,
   "metadata": {},
   "outputs": [
    {
     "data": {
      "text/html": [
       "<strong id=\"expr\">expr:</strong> <a class=\"ProveItLink\" href=\"expr.ipynb\"><img src=\"expr.png\" style=\"display:inline;vertical-align:middle;\" /></a><br>"
      ],
      "text/plain": [
       "<IPython.core.display.HTML object>"
      ]
     },
     "metadata": {},
     "output_type": "display_data"
    }
   ],
   "source": [
    "# build up the expression from sub-expressions\n",
    "expr = ExprTuple(circuit_compressed_inputAm, circuit_expanded_inputBm)"
   ]
  },
  {
   "cell_type": "code",
   "execution_count": 3,
   "metadata": {},
   "outputs": [
    {
     "name": "stdout",
     "output_type": "stream",
     "text": [
      "Passed sanity check: expr matches stored_expr\n"
     ]
    }
   ],
   "source": [
    "# check that the built expression is the same as the stored expression\n",
    "assert expr == stored_expr\n",
    "assert expr._style_id == stored_expr._style_id\n",
    "print(\"Passed sanity check: expr matches stored_expr\")"
   ]
  },
  {
   "cell_type": "code",
   "execution_count": 4,
   "metadata": {},
   "outputs": [
    {
     "name": "stdout",
     "output_type": "stream",
     "text": [
      "\\left(\\begin{array}{c} \\Qcircuit@C=1em @R=.7em{\n",
      "\\qin{A} & { /^{m} } \\qw\n",
      "} \\end{array}, \\begin{array}{c} \\Qcircuit@C=1em @R=.7em{\n",
      "\\qin{B_{1}} & \\qw \\\\\n",
      "\\qin{B_{2}} & \\qw \\\\\n",
      "\\qin{\\vdots} & \\qw \\\\\n",
      "\\qin{B_{m}} & \\qw\n",
      "} \\end{array}\\right)\n"
     ]
    }
   ],
   "source": [
    "# Show the LaTeX representation of the expression for convenience if you need it.\n",
    "print(stored_expr.latex())"
   ]
  },
  {
   "cell_type": "code",
   "execution_count": 5,
   "metadata": {},
   "outputs": [
    {
     "data": {
      "text/html": [
       "<table>\n",
       "<tr><th>name</th><th>description</th><th>default</th><th>current value</th><th>related methods</th></tr><tr><td>wrap_positions</td><td>position(s) at which wrapping is to occur; 'n' is after the nth comma.</td><td>()</td><td>()</td><td>('with_wrapping_at',)</td></tr>\n",
       "<tr><td>justification</td><td>if any wrap positions are set, justify to the 'left', 'center', or 'right'</td><td>left</td><td>left</td><td>('with_justification',)</td></tr>\n",
       "</table>\n"
      ],
      "text/plain": [
       "style name: wrap_positions\n",
       "description: position(s) at which wrapping is to occur; 'n' is after the nth comma.\n",
       "default: ()\n",
       "current value: ()\n",
       "related methods: ('with_wrapping_at',)\n",
       "style name: justification\n",
       "description: if any wrap positions are set, justify to the 'left', 'center', or 'right'\n",
       "default: left\n",
       "current value: left\n",
       "related methods: ('with_justification',)"
      ]
     },
     "metadata": {},
     "output_type": "display_data"
    }
   ],
   "source": [
    "stored_expr.style_options()"
   ]
  },
  {
   "cell_type": "code",
   "execution_count": 6,
   "metadata": {},
   "outputs": [
    {
     "data": {
      "text/html": [
       "<table><tr><th>&nbsp;</th><th>core type</th><th>sub-expressions</th><th>expression</th></tr>\n",
       "<tr><td>0</td><td>ExprTuple</td><td>1, 2</td><td><a class=\"ProveItLink\" href=\"expr.ipynb\"><img src=\"expr.png\" style=\"display:inline;vertical-align:middle;\" /></a></td></tr>\n",
       "<tr><td>1</td><td>Operation</td><td>operator:&nbsp;4<br>operand:&nbsp;6<br></td><td><a class=\"ProveItLink\" href=\"../../common/60d1e3e6501808286248aa546b18773be61df5c50/expr.ipynb\"><img src=\"../../common/60d1e3e6501808286248aa546b18773be61df5c50/expr.png\" style=\"display:inline;vertical-align:middle;\" /></a></td></tr>\n",
       "<tr><td>2</td><td>Operation</td><td>operator:&nbsp;4<br>operand:&nbsp;7<br></td><td><a class=\"ProveItLink\" href=\"../../common/b0614735c01e22b8a43e4a001465da5a4bbdf4040/expr.ipynb\"><img src=\"../../common/b0614735c01e22b8a43e4a001465da5a4bbdf4040/expr.png\" style=\"display:inline;vertical-align:middle;\" /></a></td></tr>\n",
       "<tr><td>3</td><td>ExprTuple</td><td>6</td><td><a class=\"ProveItLink\" href=\"../../common/291135d722724e9f98da421eec840efa78c89f220/expr.ipynb\"><img src=\"../../common/291135d722724e9f98da421eec840efa78c89f220/expr.png\" style=\"display:inline;vertical-align:middle;\" /></a></td></tr>\n",
       "<tr><td>4</td><td>Literal</td><td></td><td><a class=\"ProveItLink\" href=\"../../common/40003b89a3d1740159ada9fe5b21308b42a7d3d40/expr.ipynb\"><img src=\"../../common/40003b89a3d1740159ada9fe5b21308b42a7d3d40/expr.png\" style=\"display:inline;vertical-align:middle;\" /></a></td></tr>\n",
       "<tr><td>5</td><td>ExprTuple</td><td>7</td><td><a class=\"ProveItLink\" href=\"../../common/4f0efee4acaa0399c1578d1d3c1948cb0cb4f4c90/expr.ipynb\"><img src=\"../../common/4f0efee4acaa0399c1578d1d3c1948cb0cb4f4c90/expr.png\" style=\"display:inline;vertical-align:middle;\" /></a></td></tr>\n",
       "<tr><td>6</td><td>ExprTuple</td><td>8</td><td><a class=\"ProveItLink\" href=\"../../common/60207447bdbb4853b9ac6e4f68c21cf026ff6a160/expr.ipynb\"><img src=\"../../common/60207447bdbb4853b9ac6e4f68c21cf026ff6a160/expr.png\" style=\"display:inline;vertical-align:middle;\" /></a></td></tr>\n",
       "<tr><td>7</td><td>ExprTuple</td><td>9</td><td><a class=\"ProveItLink\" href=\"../../common/870bca82929cd0d66e1edcc12ec341663713c6640/expr.ipynb\"><img src=\"../../common/870bca82929cd0d66e1edcc12ec341663713c6640/expr.png\" style=\"display:inline;vertical-align:middle;\" /></a></td></tr>\n",
       "<tr><td>8</td><td>ExprRange</td><td>lambda_map:&nbsp;10<br>start_index:&nbsp;27<br>end_index:&nbsp;28<br></td><td><a class=\"ProveItLink\" href=\"../../common/9fb8004de899e12c3e00b845516473409a12c4c90/expr.ipynb\"><img src=\"../../common/9fb8004de899e12c3e00b845516473409a12c4c90/expr.png\" style=\"display:inline;vertical-align:middle;\" /></a></td></tr>\n",
       "<tr><td>9</td><td>ExprRange</td><td>lambda_map:&nbsp;11<br>start_index:&nbsp;27<br>end_index:&nbsp;28<br></td><td><a class=\"ProveItLink\" href=\"../../common/279a0cef0c2f1b2c679893d2b00c9c8149d86a020/expr.ipynb\"><img src=\"../../common/279a0cef0c2f1b2c679893d2b00c9c8149d86a020/expr.png\" style=\"display:inline;vertical-align:middle;\" /></a></td></tr>\n",
       "<tr><td>10</td><td>Lambda</td><td>parameter:&nbsp;29<br>body:&nbsp;12<br></td><td><a class=\"ProveItLink\" href=\"../../common/bdc82a362c7fadaf96aff0cfe09ace2e84acd3a80/expr.ipynb\"><img src=\"../../common/bdc82a362c7fadaf96aff0cfe09ace2e84acd3a80/expr.png\" style=\"display:inline;vertical-align:middle;\" /></a></td></tr>\n",
       "<tr><td>11</td><td>Lambda</td><td>parameter:&nbsp;29<br>body:&nbsp;13<br></td><td><a class=\"ProveItLink\" href=\"../../common/121e2621ea13696bae145f5d746e3c0757d9dcf00/expr.ipynb\"><img src=\"../../common/121e2621ea13696bae145f5d746e3c0757d9dcf00/expr.png\" style=\"display:inline;vertical-align:middle;\" /></a></td></tr>\n",
       "<tr><td>12</td><td>Operation</td><td>operator:&nbsp;14<br>operands:&nbsp;15<br></td><td><a class=\"ProveItLink\" href=\"../../common/f7ecea0430bd69fa368d37bff7146dc2ed0ea2c90/expr.ipynb\"><img src=\"../../common/f7ecea0430bd69fa368d37bff7146dc2ed0ea2c90/expr.png\" style=\"display:inline;vertical-align:middle;\" /></a></td></tr>\n",
       "<tr><td>13</td><td>Operation</td><td>operator:&nbsp;20<br>operands:&nbsp;16<br></td><td><a class=\"ProveItLink\" href=\"../../common/8ad02ca27b9560b049c6ac5143226df47464ba170/expr.ipynb\"><img src=\"../../common/8ad02ca27b9560b049c6ac5143226df47464ba170/expr.png\" style=\"display:inline;vertical-align:middle;\" /></a></td></tr>\n",
       "<tr><td>14</td><td>Literal</td><td></td><td><a class=\"ProveItLink\" href=\"../../common/5eaa43008f05c06941080a12337ff182ea14996e0/expr.ipynb\"><img src=\"../../common/5eaa43008f05c06941080a12337ff182ea14996e0/expr.png\" style=\"display:inline;vertical-align:middle;\" /></a></td></tr>\n",
       "<tr><td>15</td><td>NamedExprs</td><td>element: 17<br>targets: 18<br></td><td><a class=\"ProveItLink\" href=\"../../common/7c07ed2484a3fd977d60947521f7ef69c81b9a5b0/expr.ipynb\"><img src=\"../../common/7c07ed2484a3fd977d60947521f7ef69c81b9a5b0/expr.png\" style=\"display:inline;vertical-align:middle;\" /></a></td></tr>\n",
       "<tr><td>16</td><td>NamedExprs</td><td>state: 19<br></td><td><a class=\"ProveItLink\" href=\"../../common/ed76d4f60a50892c06fb03e2a6f359a466cdc9110/expr.ipynb\"><img src=\"../../common/ed76d4f60a50892c06fb03e2a6f359a466cdc9110/expr.png\" style=\"display:inline;vertical-align:middle;\" /></a></td></tr>\n",
       "<tr><td>17</td><td>Operation</td><td>operator:&nbsp;20<br>operands:&nbsp;21<br></td><td><a class=\"ProveItLink\" href=\"../../common/be2a2c0aa015442b6c2eeb87842442fbad7423970/expr.ipynb\"><img src=\"../../common/be2a2c0aa015442b6c2eeb87842442fbad7423970/expr.png\" style=\"display:inline;vertical-align:middle;\" /></a></td></tr>\n",
       "<tr><td>18</td><td>Operation</td><td>operator:&nbsp;22<br>operands:&nbsp;23<br></td><td><a class=\"ProveItLink\" href=\"../../common/706881e668df69cca5d841d8343295e596a7a0c70/expr.ipynb\"><img src=\"../../common/706881e668df69cca5d841d8343295e596a7a0c70/expr.png\" style=\"display:inline;vertical-align:middle;\" /></a></td></tr>\n",
       "<tr><td>19</td><td>IndexedVar</td><td>variable:&nbsp;24<br>index:&nbsp;29<br></td><td><a class=\"ProveItLink\" href=\"../../common/2d18b8ce771112ed7fafa8be6c3e3112c72709040/expr.ipynb\"><img src=\"../../common/2d18b8ce771112ed7fafa8be6c3e3112c72709040/expr.png\" style=\"display:inline;vertical-align:middle;\" /></a></td></tr>\n",
       "<tr><td>20</td><td>Literal</td><td></td><td><a class=\"ProveItLink\" href=\"../../common/deea8715ce6701df08bbe1d049112a0bad4965c20/expr.ipynb\"><img src=\"../../common/deea8715ce6701df08bbe1d049112a0bad4965c20/expr.png\" style=\"display:inline;vertical-align:middle;\" /></a></td></tr>\n",
       "<tr><td>21</td><td>NamedExprs</td><td>state: 26<br>part: 29<br></td><td><a class=\"ProveItLink\" href=\"../../common/8cc59678566a4ba6d3740d6acd86411b6bae7f450/expr.ipynb\"><img src=\"../../common/8cc59678566a4ba6d3740d6acd86411b6bae7f450/expr.png\" style=\"display:inline;vertical-align:middle;\" /></a></td></tr>\n",
       "<tr><td>22</td><td>Literal</td><td></td><td><a class=\"ProveItLink\" href=\"../../../../../../numbers/number_sets/integers/__pv_it/common/92f3a0a77e3c3ea8e4a5c8674edadc54e4f57d550/expr.ipynb\"><img src=\"../../../../../../numbers/number_sets/integers/__pv_it/common/92f3a0a77e3c3ea8e4a5c8674edadc54e4f57d550/expr.png\" style=\"display:inline;vertical-align:middle;\" /></a></td></tr>\n",
       "<tr><td>23</td><td>ExprTuple</td><td>27, 28</td><td><a class=\"ProveItLink\" href=\"../../common/940639d2e54ef77a90c8aa1312af4ae333846c530/expr.ipynb\"><img src=\"../../common/940639d2e54ef77a90c8aa1312af4ae333846c530/expr.png\" style=\"display:inline;vertical-align:middle;\" /></a></td></tr>\n",
       "<tr><td>24</td><td>Variable</td><td></td><td><a class=\"ProveItLink\" href=\"../../../../../../__pv_it/common/a9162d1c3cc0470c02e5daf414500903a7a419230/expr.ipynb\"><img src=\"../../../../../../__pv_it/common/a9162d1c3cc0470c02e5daf414500903a7a419230/expr.png\" style=\"display:inline;vertical-align:middle;\" /></a></td></tr>\n",
       "<tr><td>25</td><td>ExprTuple</td><td>29</td><td><a class=\"ProveItLink\" href=\"../../../../../../core_expr_types/__pv_it/common/4b0dd6be36d76552eda6a95d5b4a27f5a5b62f900/expr.ipynb\"><img src=\"../../../../../../core_expr_types/__pv_it/common/4b0dd6be36d76552eda6a95d5b4a27f5a5b62f900/expr.png\" style=\"display:inline;vertical-align:middle;\" /></a></td></tr>\n",
       "<tr><td>26</td><td>Variable</td><td></td><td><a class=\"ProveItLink\" href=\"../../../../../../__pv_it/common/09585084922504426caf1db2ff588a23a0932a960/expr.ipynb\"><img src=\"../../../../../../__pv_it/common/09585084922504426caf1db2ff588a23a0932a960/expr.png\" style=\"display:inline;vertical-align:middle;\" /></a></td></tr>\n",
       "<tr><td>27</td><td>Literal</td><td></td><td><a class=\"ProveItLink\" href=\"../../../../../../numbers/numerals/__pv_it/common/682157d4892d216d9e5626ed533aff9b56b9506e0/expr.ipynb\"><img src=\"../../../../../../numbers/numerals/__pv_it/common/682157d4892d216d9e5626ed533aff9b56b9506e0/expr.png\" style=\"display:inline;vertical-align:middle;\" /></a></td></tr>\n",
       "<tr><td>28</td><td>Variable</td><td></td><td><a class=\"ProveItLink\" href=\"../../../../../../__pv_it/common/674a03b9c3ca221b3aabd5636837b31528ff33830/expr.ipynb\"><img src=\"../../../../../../__pv_it/common/674a03b9c3ca221b3aabd5636837b31528ff33830/expr.png\" style=\"display:inline;vertical-align:middle;\" /></a></td></tr>\n",
       "<tr><td>29</td><td>Variable</td><td></td><td><a class=\"ProveItLink\" href=\"../../../../../../core_expr_types/__pv_it/common/006c465e50948aa2b52285e2de47974f741255cc0/expr.ipynb\"><img src=\"../../../../../../core_expr_types/__pv_it/common/006c465e50948aa2b52285e2de47974f741255cc0/expr.png\" style=\"display:inline;vertical-align:middle;\" /></a></td></tr>\n",
       "</table>\n"
      ],
      "text/plain": [
       "0. (QCIRCUIT(VertExprArray(([MULTI_QUBIT_ELEM]{element:[INPUT]{state:A, part:1}, targets:{1 .. m}}, [MULTI_QUBIT_ELEM]{element:[INPUT]{state:A, part:2}, targets:{1 .. m}}, ..., [MULTI_QUBIT_ELEM]{element:[INPUT]{state:A, part:m}, targets:{1 .. m}}))), QCIRCUIT(VertExprArray(([INPUT]{state:B_{1}}, [INPUT]{state:B_{2}}, ..., [INPUT]{state:B_{m}}))))\n",
       "   core type: ExprTuple\n",
       "   sub-expressions: 1, 2\n",
       "1. QCIRCUIT(VertExprArray(([MULTI_QUBIT_ELEM]{element:[INPUT]{state:A, part:1}, targets:{1 .. m}}, [MULTI_QUBIT_ELEM]{element:[INPUT]{state:A, part:2}, targets:{1 .. m}}, ..., [MULTI_QUBIT_ELEM]{element:[INPUT]{state:A, part:m}, targets:{1 .. m}})))\n",
       "   core type: Operation\n",
       "   operator: 4\n",
       "   operand: 6\n",
       "2. QCIRCUIT(VertExprArray(([INPUT]{state:B_{1}}, [INPUT]{state:B_{2}}, ..., [INPUT]{state:B_{m}})))\n",
       "   core type: Operation\n",
       "   operator: 4\n",
       "   operand: 7\n",
       "3. VertExprArray(([MULTI_QUBIT_ELEM]{element:[INPUT]{state:A, part:1}, targets:{1 .. m}}, [MULTI_QUBIT_ELEM]{element:[INPUT]{state:A, part:2}, targets:{1 .. m}}, ..., [MULTI_QUBIT_ELEM]{element:[INPUT]{state:A, part:m}, targets:{1 .. m}}))\n",
       "   core type: ExprTuple\n",
       "   sub-expressions: 6\n",
       "4. QCIRCUIT\n",
       "   core type: Literal\n",
       "   sub-expressions: \n",
       "5. VertExprArray(([INPUT]{state:B_{1}}, [INPUT]{state:B_{2}}, ..., [INPUT]{state:B_{m}}))\n",
       "   core type: ExprTuple\n",
       "   sub-expressions: 7\n",
       "6. ([MULTI_QUBIT_ELEM]{element:[INPUT]{state:A, part:1}, targets:{1 .. m}}, [MULTI_QUBIT_ELEM]{element:[INPUT]{state:A, part:2}, targets:{1 .. m}}, ..., [MULTI_QUBIT_ELEM]{element:[INPUT]{state:A, part:m}, targets:{1 .. m}})\n",
       "   core type: ExprTuple\n",
       "   sub-expressions: 8\n",
       "7. ([INPUT]{state:B_{1}}, [INPUT]{state:B_{2}}, ..., [INPUT]{state:B_{m}})\n",
       "   core type: ExprTuple\n",
       "   sub-expressions: 9\n",
       "8. [MULTI_QUBIT_ELEM]{element:[INPUT]{state:A, part:1}, targets:{1 .. m}}, [MULTI_QUBIT_ELEM]{element:[INPUT]{state:A, part:2}, targets:{1 .. m}}, ..., [MULTI_QUBIT_ELEM]{element:[INPUT]{state:A, part:m}, targets:{1 .. m}}\n",
       "   core type: ExprRange\n",
       "   lambda_map: 10\n",
       "   start_index: 27\n",
       "   end_index: 28\n",
       "9. [INPUT]{state:B_{1}}, [INPUT]{state:B_{2}}, ..., [INPUT]{state:B_{m}}\n",
       "   core type: ExprRange\n",
       "   lambda_map: 11\n",
       "   start_index: 27\n",
       "   end_index: 28\n",
       "10. _a -> [MULTI_QUBIT_ELEM]{element:[INPUT]{state:A, part:_a}, targets:{1 .. m}}\n",
       "    core type: Lambda\n",
       "    parameter: 29\n",
       "    body: 12\n",
       "11. _a -> [INPUT]{state:B_{_a}}\n",
       "    core type: Lambda\n",
       "    parameter: 29\n",
       "    body: 13\n",
       "12. [MULTI_QUBIT_ELEM]{element:[INPUT]{state:A, part:_a}, targets:{1 .. m}}\n",
       "    core type: Operation\n",
       "    operator: 14\n",
       "    operands: 15\n",
       "13. [INPUT]{state:B_{_a}}\n",
       "    core type: Operation\n",
       "    operator: 20\n",
       "    operands: 16\n",
       "14. MULTI_QUBIT_ELEM\n",
       "    core type: Literal\n",
       "    sub-expressions: \n",
       "15. {element:[INPUT]{state:A, part:_a}, targets:{1 .. m}}\n",
       "    core type: NamedExprs\n",
       "    element: 17\n",
       "    targets: 18\n",
       "16. {state:B_{_a}}\n",
       "    core type: NamedExprs\n",
       "    state: 19\n",
       "17. [INPUT]{state:A, part:_a}\n",
       "    core type: Operation\n",
       "    operator: 20\n",
       "    operands: 21\n",
       "18. {1 .. m}\n",
       "    core type: Operation\n",
       "    operator: 22\n",
       "    operands: 23\n",
       "19. B_{_a}\n",
       "    core type: IndexedVar\n",
       "variable: 24\n",
       "index: 29\n",
       "20. INPUT\n",
       "    core type: Literal\n",
       "    sub-expressions: \n",
       "21. {state:A, part:_a}\n",
       "    core type: NamedExprs\n",
       "    state: 26\n",
       "    part: 29\n",
       "22. Interval\n",
       "    core type: Literal\n",
       "    sub-expressions: \n",
       "23. (1, m)\n",
       "    core type: ExprTuple\n",
       "    sub-expressions: 27, 28\n",
       "24. B\n",
       "    core type: Variable\n",
       "    sub-expressions: \n",
       "25. (_a)\n",
       "    core type: ExprTuple\n",
       "    sub-expressions: 29\n",
       "26. A\n",
       "    core type: Variable\n",
       "    sub-expressions: \n",
       "27. 1\n",
       "    core type: Literal\n",
       "    sub-expressions: \n",
       "28. m\n",
       "    core type: Variable\n",
       "    sub-expressions: \n",
       "29. _a\n",
       "    core type: Variable\n",
       "    sub-expressions: "
      ]
     },
     "metadata": {},
     "output_type": "display_data"
    }
   ],
   "source": [
    "# display the expression information\n",
    "stored_expr.expr_info()"
   ]
  },
  {
   "cell_type": "code",
   "execution_count": null,
   "metadata": {},
   "outputs": [],
   "source": []
  }
 ],
 "metadata": {
  "kernelspec": {
   "display_name": "Python 3",
   "language": "python",
   "name": "python3"
  }
 },
 "nbformat": 4,
 "nbformat_minor": 0
}