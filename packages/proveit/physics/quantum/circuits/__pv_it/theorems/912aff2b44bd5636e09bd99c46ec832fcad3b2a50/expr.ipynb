{
 "cells": [
  {
   "cell_type": "markdown",
   "metadata": {},
   "source": [
    "Expression of type <a class=\"ProveItLink\" href=\"../../../../../../../../doc/html/api/proveit.VertExprArray.html\">VertExprArray</a>\n",
    "=======================\n",
    "# from the theory of <a class=\"ProveItLink\" href=\"../../../_theory_nbs_/theory.ipynb\">proveit.physics.quantum.circuits</a>"
   ]
  },
  {
   "cell_type": "code",
   "execution_count": 1,
   "metadata": {},
   "outputs": [],
   "source": [
    "import proveit\n",
    "# Automation is not needed when building an expression:\n",
    "proveit.defaults.automation = False # This will speed things up.\n",
    "proveit.defaults.inline_pngs = False # Makes files smaller.\n",
    "%load_expr # Load the stored expression as 'stored_expr'\n",
    "# import Expression classes needed to build the expression\n",
    "from proveit import ExprRange, IndexedVar, N, Variable, VertExprArray, m\n",
    "from proveit.core_expr_types import A_1_to_m\n",
    "from proveit.linear_algebra import TensorProd\n",
    "from proveit.numbers import Add, Interval, one, subtract\n",
    "from proveit.physics.quantum.circuits import MultiQubitElem, N_m, Output"
   ]
  },
  {
   "cell_type": "code",
   "execution_count": 2,
   "metadata": {},
   "outputs": [
    {
     "data": {
      "text/html": [
       "<strong id=\"expr\">expr:</strong> <a class=\"ProveItLink\" href=\"expr.ipynb\"><img src=\"expr.png\" style=\"display:inline;vertical-align:middle;\" /></a><br>"
      ],
      "text/plain": [
       "<IPython.core.display.HTML object>"
      ]
     },
     "metadata": {},
     "output_type": "display_data"
    }
   ],
   "source": [
    "# build up the expression from sub-expressions\n",
    "sub_expr1 = Variable(\"_c\", latex_format = r\"{_{-}c}\")\n",
    "sub_expr2 = Variable(\"_b\", latex_format = r\"{_{-}b}\")\n",
    "expr = VertExprArray([ExprRange(sub_expr1, ExprRange(sub_expr2, MultiQubitElem(element = Output(state = TensorProd(A_1_to_m), part = sub_expr2), targets = Interval(one, N_m)), Add(IndexedVar(N, subtract(sub_expr1, one)), one), IndexedVar(N, sub_expr1)).with_wrapping_at(2,6), one, m)])"
   ]
  },
  {
   "cell_type": "code",
   "execution_count": 3,
   "metadata": {},
   "outputs": [
    {
     "name": "stdout",
     "output_type": "stream",
     "text": [
      "Passed sanity check: expr matches stored_expr\n"
     ]
    }
   ],
   "source": [
    "# check that the built expression is the same as the stored expression\n",
    "assert expr == stored_expr\n",
    "assert expr._style_id == stored_expr._style_id\n",
    "print(\"Passed sanity check: expr matches stored_expr\")"
   ]
  },
  {
   "cell_type": "code",
   "execution_count": 4,
   "metadata": {},
   "outputs": [
    {
     "name": "stdout",
     "output_type": "stream",
     "text": [
      "\\begin{array}{c} \n",
      " \\begin{array}{c} \\Qcircuit@C=1em @R=.7em{\n",
      "& & \\qout{A_{1} {\\otimes}  A_{2} {\\otimes}  \\ldots {\\otimes}  A_{m}~\\mbox{part}~N_{1 - 1} + 1~\\mbox{on}~\\{1~\\ldotp \\ldotp~N_{m}\\}} \n",
      "} \\end{array} \\\\\n",
      "\\begin{array}{c} \\Qcircuit@C=1em @R=.7em{\n",
      "& & \\qout{A_{1} {\\otimes}  A_{2} {\\otimes}  \\ldots {\\otimes}  A_{m}~\\mbox{part}~N_{1 - 1} + 2~\\mbox{on}~\\{1~\\ldotp \\ldotp~N_{m}\\}} \n",
      "} \\end{array} \\\\\n",
      "\\vdots \\\\\n",
      "\\begin{array}{c} \\Qcircuit@C=1em @R=.7em{\n",
      "& & \\qout{A_{1} {\\otimes}  A_{2} {\\otimes}  \\ldots {\\otimes}  A_{m}~\\mbox{part}~N_{1}~\\mbox{on}~\\{1~\\ldotp \\ldotp~N_{m}\\}} \n",
      "} \\end{array} \\\\\n",
      "\\begin{array}{c} \\Qcircuit@C=1em @R=.7em{\n",
      "& & \\qout{A_{1} {\\otimes}  A_{2} {\\otimes}  \\ldots {\\otimes}  A_{m}~\\mbox{part}~N_{2 - 1} + 1~\\mbox{on}~\\{1~\\ldotp \\ldotp~N_{m}\\}} \n",
      "} \\end{array} \\\\\n",
      "\\begin{array}{c} \\Qcircuit@C=1em @R=.7em{\n",
      "& & \\qout{A_{1} {\\otimes}  A_{2} {\\otimes}  \\ldots {\\otimes}  A_{m}~\\mbox{part}~N_{2 - 1} + 2~\\mbox{on}~\\{1~\\ldotp \\ldotp~N_{m}\\}} \n",
      "} \\end{array} \\\\\n",
      "\\vdots \\\\\n",
      "\\begin{array}{c} \\Qcircuit@C=1em @R=.7em{\n",
      "& & \\qout{A_{1} {\\otimes}  A_{2} {\\otimes}  \\ldots {\\otimes}  A_{m}~\\mbox{part}~N_{2}~\\mbox{on}~\\{1~\\ldotp \\ldotp~N_{m}\\}} \n",
      "} \\end{array} \\\\\n",
      "\\begin{array}{c}\\vdots\\\\ \\vdots\\end{array} \\\\\n",
      "\\begin{array}{c} \\Qcircuit@C=1em @R=.7em{\n",
      "& & \\qout{A_{1} {\\otimes}  A_{2} {\\otimes}  \\ldots {\\otimes}  A_{m}~\\mbox{part}~N_{m - 1} + 1~\\mbox{on}~\\{1~\\ldotp \\ldotp~N_{m}\\}} \n",
      "} \\end{array} \\\\\n",
      "\\begin{array}{c} \\Qcircuit@C=1em @R=.7em{\n",
      "& & \\qout{A_{1} {\\otimes}  A_{2} {\\otimes}  \\ldots {\\otimes}  A_{m}~\\mbox{part}~N_{m - 1} + 2~\\mbox{on}~\\{1~\\ldotp \\ldotp~N_{m}\\}} \n",
      "} \\end{array} \\\\\n",
      "\\vdots \\\\\n",
      "\\begin{array}{c} \\Qcircuit@C=1em @R=.7em{\n",
      "& & \\qout{A_{1} {\\otimes}  A_{2} {\\otimes}  \\ldots {\\otimes}  A_{m}~\\mbox{part}~N_{m}~\\mbox{on}~\\{1~\\ldotp \\ldotp~N_{m}\\}} \n",
      "} \\end{array} \\\\\n",
      "\\end{array}\n",
      "\n"
     ]
    }
   ],
   "source": [
    "# Show the LaTeX representation of the expression for convenience if you need it.\n",
    "print(stored_expr.latex())"
   ]
  },
  {
   "cell_type": "code",
   "execution_count": 5,
   "metadata": {},
   "outputs": [
    {
     "data": {
      "text/html": [
       "<table>\n",
       "<tr><th>name</th><th>description</th><th>default</th><th>current value</th><th>related methods</th></tr><tr><td>justification</td><td>justify to the 'left', 'center', or 'right' in the array cells</td><td>center</td><td>center</td><td>with_justification</td></tr>\n",
       "</table>\n"
      ],
      "text/plain": [
       "style name: justification\n",
       "description: justify to the 'left', 'center', or 'right' in the array cells\n",
       "default: center\n",
       "current value: center\n",
       "related methods: with_justification"
      ]
     },
     "metadata": {},
     "output_type": "display_data"
    }
   ],
   "source": [
    "stored_expr.style_options()"
   ]
  },
  {
   "cell_type": "code",
   "execution_count": 6,
   "metadata": {},
   "outputs": [
    {
     "data": {
      "text/html": [
       "<table><tr><th>&nbsp;</th><th>core type</th><th>sub-expressions</th><th>expression</th></tr>\n",
       "<tr><td>0</td><td>ExprTuple</td><td>1</td><td><a class=\"ProveItLink\" href=\"expr.ipynb\"><img src=\"expr.png\" style=\"display:inline;vertical-align:middle;\" /></a></td></tr>\n",
       "<tr><td>1</td><td>ExprTuple</td><td>2</td><td><a class=\"ProveItLink\" href=\"../e55567ed7fae27a5bf32b116d07eddb384ad1f330/expr.ipynb\"><img src=\"../e55567ed7fae27a5bf32b116d07eddb384ad1f330/expr.png\" style=\"display:inline;vertical-align:middle;\" /></a></td></tr>\n",
       "<tr><td>2</td><td>ExprRange</td><td>lambda_map:&nbsp;3<br>start_index:&nbsp;39<br>end_index:&nbsp;38<br></td><td><a class=\"ProveItLink\" href=\"../c4d765d2822092b8951ff3b5997a17a54cd7e8890/expr.ipynb\"><img src=\"../c4d765d2822092b8951ff3b5997a17a54cd7e8890/expr.png\" style=\"display:inline;vertical-align:middle;\" /></a></td></tr>\n",
       "<tr><td>3</td><td>Lambda</td><td>parameter:&nbsp;32<br>body:&nbsp;4<br></td><td><a class=\"ProveItLink\" href=\"../88899f77ac452c877f4efa6e133a577f58a1eba50/expr.ipynb\"><img src=\"../88899f77ac452c877f4efa6e133a577f58a1eba50/expr.png\" style=\"display:inline;vertical-align:middle;\" /></a></td></tr>\n",
       "<tr><td>4</td><td>ExprRange</td><td>lambda_map:&nbsp;5<br>start_index:&nbsp;6<br>end_index:&nbsp;7<br></td><td><a class=\"ProveItLink\" href=\"../02e4a1a63dd296ac4f39c3165802c8112354fbff0/expr.ipynb\"><img src=\"../02e4a1a63dd296ac4f39c3165802c8112354fbff0/expr.png\" style=\"display:inline;vertical-align:middle;\" /></a></td></tr>\n",
       "<tr><td>5</td><td>Lambda</td><td>parameter:&nbsp;24<br>body:&nbsp;9<br></td><td><a class=\"ProveItLink\" href=\"../../common/7b8e6aac8ef5664f51c193acf0b4e432c79d833b0/expr.ipynb\"><img src=\"../../common/7b8e6aac8ef5664f51c193acf0b4e432c79d833b0/expr.png\" style=\"display:inline;vertical-align:middle;\" /></a></td></tr>\n",
       "<tr><td>6</td><td>Operation</td><td>operator:&nbsp;26<br>operands:&nbsp;10<br></td><td><a class=\"ProveItLink\" href=\"../16be7b959da4ae11e61c638016cf9dc809c994520/expr.ipynb\"><img src=\"../16be7b959da4ae11e61c638016cf9dc809c994520/expr.png\" style=\"display:inline;vertical-align:middle;\" /></a></td></tr>\n",
       "<tr><td>7</td><td>IndexedVar</td><td>variable:&nbsp;30<br>index:&nbsp;32<br></td><td><a class=\"ProveItLink\" href=\"../6f4f33874da133835da77b1b99639f2295f9f7f20/expr.ipynb\"><img src=\"../6f4f33874da133835da77b1b99639f2295f9f7f20/expr.png\" style=\"display:inline;vertical-align:middle;\" /></a></td></tr>\n",
       "<tr><td>8</td><td>ExprTuple</td><td>24</td><td><a class=\"ProveItLink\" href=\"../../../../../../core_expr_types/expr_arrays/__pv_it/common/18f7318b68e45ff8356043b6e71619fa8450fb200/expr.ipynb\"><img src=\"../../../../../../core_expr_types/expr_arrays/__pv_it/common/18f7318b68e45ff8356043b6e71619fa8450fb200/expr.png\" style=\"display:inline;vertical-align:middle;\" /></a></td></tr>\n",
       "<tr><td>9</td><td>Operation</td><td>operator:&nbsp;12<br>operands:&nbsp;13<br></td><td><a class=\"ProveItLink\" href=\"../../common/7949827383a30db6c04b928f8e621d6e18fddd0b0/expr.ipynb\"><img src=\"../../common/7949827383a30db6c04b928f8e621d6e18fddd0b0/expr.png\" style=\"display:inline;vertical-align:middle;\" /></a></td></tr>\n",
       "<tr><td>10</td><td>ExprTuple</td><td>14, 39</td><td><a class=\"ProveItLink\" href=\"../1878857ea3588497a5fa864f0e895a7ec18649eb0/expr.ipynb\"><img src=\"../1878857ea3588497a5fa864f0e895a7ec18649eb0/expr.png\" style=\"display:inline;vertical-align:middle;\" /></a></td></tr>\n",
       "<tr><td>11</td><td>ExprTuple</td><td>32</td><td><a class=\"ProveItLink\" href=\"../2e5306c65401f5ab94de6a03ea1629a9f30078a90/expr.ipynb\"><img src=\"../2e5306c65401f5ab94de6a03ea1629a9f30078a90/expr.png\" style=\"display:inline;vertical-align:middle;\" /></a></td></tr>\n",
       "<tr><td>12</td><td>Literal</td><td></td><td><a class=\"ProveItLink\" href=\"../../common/5eaa43008f05c06941080a12337ff182ea14996e0/expr.ipynb\"><img src=\"../../common/5eaa43008f05c06941080a12337ff182ea14996e0/expr.png\" style=\"display:inline;vertical-align:middle;\" /></a></td></tr>\n",
       "<tr><td>13</td><td>NamedExprs</td><td>element: 15<br>targets: 16<br></td><td><a class=\"ProveItLink\" href=\"../../common/ad7fa41c0586bcc1535f0629c3392f42d11f721a0/expr.ipynb\"><img src=\"../../common/ad7fa41c0586bcc1535f0629c3392f42d11f721a0/expr.png\" style=\"display:inline;vertical-align:middle;\" /></a></td></tr>\n",
       "<tr><td>14</td><td>IndexedVar</td><td>variable:&nbsp;30<br>index:&nbsp;22<br></td><td><a class=\"ProveItLink\" href=\"../6bfd9b8928b3b0329a745d4dad9d4de093e1fce20/expr.ipynb\"><img src=\"../6bfd9b8928b3b0329a745d4dad9d4de093e1fce20/expr.png\" style=\"display:inline;vertical-align:middle;\" /></a></td></tr>\n",
       "<tr><td>15</td><td>Operation</td><td>operator:&nbsp;18<br>operands:&nbsp;19<br></td><td><a class=\"ProveItLink\" href=\"../../common/ac4db680d62707090119df5272af91b10a82063e0/expr.ipynb\"><img src=\"../../common/ac4db680d62707090119df5272af91b10a82063e0/expr.png\" style=\"display:inline;vertical-align:middle;\" /></a></td></tr>\n",
       "<tr><td>16</td><td>Operation</td><td>operator:&nbsp;20<br>operands:&nbsp;21<br></td><td><a class=\"ProveItLink\" href=\"../../common/9da3816bd408428ee67f29c861fd4e492dc7c3150/expr.ipynb\"><img src=\"../../common/9da3816bd408428ee67f29c861fd4e492dc7c3150/expr.png\" style=\"display:inline;vertical-align:middle;\" /></a></td></tr>\n",
       "<tr><td>17</td><td>ExprTuple</td><td>22</td><td><a class=\"ProveItLink\" href=\"../b4a4793b3c04898167bd19cc93378099e6d319430/expr.ipynb\"><img src=\"../b4a4793b3c04898167bd19cc93378099e6d319430/expr.png\" style=\"display:inline;vertical-align:middle;\" /></a></td></tr>\n",
       "<tr><td>18</td><td>Literal</td><td></td><td><a class=\"ProveItLink\" href=\"../../common/00345a9c4f4d361e0b6e8bbbbe5a33a8ec86a20b0/expr.ipynb\"><img src=\"../../common/00345a9c4f4d361e0b6e8bbbbe5a33a8ec86a20b0/expr.png\" style=\"display:inline;vertical-align:middle;\" /></a></td></tr>\n",
       "<tr><td>19</td><td>NamedExprs</td><td>state: 23<br>part: 24<br></td><td><a class=\"ProveItLink\" href=\"../../common/a32be4d5abb4d21be1fad836ed668e80f4d9487a0/expr.ipynb\"><img src=\"../../common/a32be4d5abb4d21be1fad836ed668e80f4d9487a0/expr.png\" style=\"display:inline;vertical-align:middle;\" /></a></td></tr>\n",
       "<tr><td>20</td><td>Literal</td><td></td><td><a class=\"ProveItLink\" href=\"../../../../../../numbers/number_sets/integers/__pv_it/common/92f3a0a77e3c3ea8e4a5c8674edadc54e4f57d550/expr.ipynb\"><img src=\"../../../../../../numbers/number_sets/integers/__pv_it/common/92f3a0a77e3c3ea8e4a5c8674edadc54e4f57d550/expr.png\" style=\"display:inline;vertical-align:middle;\" /></a></td></tr>\n",
       "<tr><td>21</td><td>ExprTuple</td><td>39, 25</td><td><a class=\"ProveItLink\" href=\"../../common/dca0ace89c55feb0244891d029bd75ef56358dd80/expr.ipynb\"><img src=\"../../common/dca0ace89c55feb0244891d029bd75ef56358dd80/expr.png\" style=\"display:inline;vertical-align:middle;\" /></a></td></tr>\n",
       "<tr><td>22</td><td>Operation</td><td>operator:&nbsp;26<br>operands:&nbsp;27<br></td><td><a class=\"ProveItLink\" href=\"../ac30534ea9efd1f7dd1029e4f4009856b66823d40/expr.ipynb\"><img src=\"../ac30534ea9efd1f7dd1029e4f4009856b66823d40/expr.png\" style=\"display:inline;vertical-align:middle;\" /></a></td></tr>\n",
       "<tr><td>23</td><td>Operation</td><td>operator:&nbsp;28<br>operands:&nbsp;29<br></td><td><a class=\"ProveItLink\" href=\"../../common/42dc00e55323dfe559d076521d9c6524976d321a0/expr.ipynb\"><img src=\"../../common/42dc00e55323dfe559d076521d9c6524976d321a0/expr.png\" style=\"display:inline;vertical-align:middle;\" /></a></td></tr>\n",
       "<tr><td>24</td><td>Variable</td><td></td><td><a class=\"ProveItLink\" href=\"../../../../../../core_expr_types/expr_arrays/__pv_it/common/9a18d67b443cf8d92289c655ed91ec78766170a90/expr.ipynb\"><img src=\"../../../../../../core_expr_types/expr_arrays/__pv_it/common/9a18d67b443cf8d92289c655ed91ec78766170a90/expr.png\" style=\"display:inline;vertical-align:middle;\" /></a></td></tr>\n",
       "<tr><td>25</td><td>IndexedVar</td><td>variable:&nbsp;30<br>index:&nbsp;38<br></td><td><a class=\"ProveItLink\" href=\"../../common/74253b2891872fd780054174601dbebfc5c1a3d70/expr.ipynb\"><img src=\"../../common/74253b2891872fd780054174601dbebfc5c1a3d70/expr.png\" style=\"display:inline;vertical-align:middle;\" /></a></td></tr>\n",
       "<tr><td>26</td><td>Literal</td><td></td><td><a class=\"ProveItLink\" href=\"../../../../../../numbers/addition/__pv_it/common/4b7effaab3619a1c2c38fe2dee8601df8ec714590/expr.ipynb\"><img src=\"../../../../../../numbers/addition/__pv_it/common/4b7effaab3619a1c2c38fe2dee8601df8ec714590/expr.png\" style=\"display:inline;vertical-align:middle;\" /></a></td></tr>\n",
       "<tr><td>27</td><td>ExprTuple</td><td>32, 33</td><td><a class=\"ProveItLink\" href=\"../d7c619e615bcd0b9d3d8d564d8da3779f3a3a6000/expr.ipynb\"><img src=\"../d7c619e615bcd0b9d3d8d564d8da3779f3a3a6000/expr.png\" style=\"display:inline;vertical-align:middle;\" /></a></td></tr>\n",
       "<tr><td>28</td><td>Literal</td><td></td><td><a class=\"ProveItLink\" href=\"../../../../../../linear_algebra/tensors/__pv_it/common/7fa25b05174babb4710be62d63ebd43f68aa2fec0/expr.ipynb\"><img src=\"../../../../../../linear_algebra/tensors/__pv_it/common/7fa25b05174babb4710be62d63ebd43f68aa2fec0/expr.png\" style=\"display:inline;vertical-align:middle;\" /></a></td></tr>\n",
       "<tr><td>29</td><td>ExprTuple</td><td>34</td><td><a class=\"ProveItLink\" href=\"../../common/218b49ecc2fcb674f5eb724d523a787df9bde9a00/expr.ipynb\"><img src=\"../../common/218b49ecc2fcb674f5eb724d523a787df9bde9a00/expr.png\" style=\"display:inline;vertical-align:middle;\" /></a></td></tr>\n",
       "<tr><td>30</td><td>Variable</td><td></td><td><a class=\"ProveItLink\" href=\"../../../../../../__pv_it/common/ec2f9d003f907f9688d46f19f6df289e52cc63ce0/expr.ipynb\"><img src=\"../../../../../../__pv_it/common/ec2f9d003f907f9688d46f19f6df289e52cc63ce0/expr.png\" style=\"display:inline;vertical-align:middle;\" /></a></td></tr>\n",
       "<tr><td>31</td><td>ExprTuple</td><td>38</td><td><a class=\"ProveItLink\" href=\"../../common/2ed45ad9602ac89076225577ef477d88f8c5a1790/expr.ipynb\"><img src=\"../../common/2ed45ad9602ac89076225577ef477d88f8c5a1790/expr.png\" style=\"display:inline;vertical-align:middle;\" /></a></td></tr>\n",
       "<tr><td>32</td><td>Variable</td><td></td><td><a class=\"ProveItLink\" href=\"../78b8c0092da95d22274ec9b98a7b60b11e6bf88a0/expr.ipynb\"><img src=\"../78b8c0092da95d22274ec9b98a7b60b11e6bf88a0/expr.png\" style=\"display:inline;vertical-align:middle;\" /></a></td></tr>\n",
       "<tr><td>33</td><td>Operation</td><td>operator:&nbsp;35<br>operand:&nbsp;39<br></td><td><a class=\"ProveItLink\" href=\"../../../../__pv_it/common/bf4beda21975fe8a0a5007615b5bcc943da59bb20/expr.ipynb\"><img src=\"../../../../__pv_it/common/bf4beda21975fe8a0a5007615b5bcc943da59bb20/expr.png\" style=\"display:inline;vertical-align:middle;\" /></a></td></tr>\n",
       "<tr><td>34</td><td>ExprRange</td><td>lambda_map:&nbsp;37<br>start_index:&nbsp;39<br>end_index:&nbsp;38<br></td><td><a class=\"ProveItLink\" href=\"../../../../../../core_expr_types/__pv_it/common/eaccd55f312202b1e754429bdfeaf22333037c330/expr.ipynb\"><img src=\"../../../../../../core_expr_types/__pv_it/common/eaccd55f312202b1e754429bdfeaf22333037c330/expr.png\" style=\"display:inline;vertical-align:middle;\" /></a></td></tr>\n",
       "<tr><td>35</td><td>Literal</td><td></td><td><a class=\"ProveItLink\" href=\"../../../../../../numbers/negation/__pv_it/common/221b3c4d1770ee9051b7c044c3f9ec61196fc34b0/expr.ipynb\"><img src=\"../../../../../../numbers/negation/__pv_it/common/221b3c4d1770ee9051b7c044c3f9ec61196fc34b0/expr.png\" style=\"display:inline;vertical-align:middle;\" /></a></td></tr>\n",
       "<tr><td>36</td><td>ExprTuple</td><td>39</td><td><a class=\"ProveItLink\" href=\"../../../../__pv_it/common/b9e4f0dffece176bbe2f36127440684a20e0468e0/expr.ipynb\"><img src=\"../../../../__pv_it/common/b9e4f0dffece176bbe2f36127440684a20e0468e0/expr.png\" style=\"display:inline;vertical-align:middle;\" /></a></td></tr>\n",
       "<tr><td>37</td><td>Lambda</td><td>parameter:&nbsp;43<br>body:&nbsp;40<br></td><td><a class=\"ProveItLink\" href=\"../../../../../../core_expr_types/__pv_it/common/9332289e845003c758afc3bcee43498ae784f2d90/expr.ipynb\"><img src=\"../../../../../../core_expr_types/__pv_it/common/9332289e845003c758afc3bcee43498ae784f2d90/expr.png\" style=\"display:inline;vertical-align:middle;\" /></a></td></tr>\n",
       "<tr><td>38</td><td>Variable</td><td></td><td><a class=\"ProveItLink\" href=\"../../../../../../__pv_it/common/674a03b9c3ca221b3aabd5636837b31528ff33830/expr.ipynb\"><img src=\"../../../../../../__pv_it/common/674a03b9c3ca221b3aabd5636837b31528ff33830/expr.png\" style=\"display:inline;vertical-align:middle;\" /></a></td></tr>\n",
       "<tr><td>39</td><td>Literal</td><td></td><td><a class=\"ProveItLink\" href=\"../../../../../../numbers/numerals/__pv_it/common/682157d4892d216d9e5626ed533aff9b56b9506e0/expr.ipynb\"><img src=\"../../../../../../numbers/numerals/__pv_it/common/682157d4892d216d9e5626ed533aff9b56b9506e0/expr.png\" style=\"display:inline;vertical-align:middle;\" /></a></td></tr>\n",
       "<tr><td>40</td><td>IndexedVar</td><td>variable:&nbsp;41<br>index:&nbsp;43<br></td><td><a class=\"ProveItLink\" href=\"../../../../../../core_expr_types/__pv_it/common/9fdaaadf1b3d81a308244818dc08833e7f5035730/expr.ipynb\"><img src=\"../../../../../../core_expr_types/__pv_it/common/9fdaaadf1b3d81a308244818dc08833e7f5035730/expr.png\" style=\"display:inline;vertical-align:middle;\" /></a></td></tr>\n",
       "<tr><td>41</td><td>Variable</td><td></td><td><a class=\"ProveItLink\" href=\"../../../../../../__pv_it/common/09585084922504426caf1db2ff588a23a0932a960/expr.ipynb\"><img src=\"../../../../../../__pv_it/common/09585084922504426caf1db2ff588a23a0932a960/expr.png\" style=\"display:inline;vertical-align:middle;\" /></a></td></tr>\n",
       "<tr><td>42</td><td>ExprTuple</td><td>43</td><td><a class=\"ProveItLink\" href=\"../../../../../../core_expr_types/__pv_it/common/4b0dd6be36d76552eda6a95d5b4a27f5a5b62f900/expr.ipynb\"><img src=\"../../../../../../core_expr_types/__pv_it/common/4b0dd6be36d76552eda6a95d5b4a27f5a5b62f900/expr.png\" style=\"display:inline;vertical-align:middle;\" /></a></td></tr>\n",
       "<tr><td>43</td><td>Variable</td><td></td><td><a class=\"ProveItLink\" href=\"../../../../../../core_expr_types/__pv_it/common/006c465e50948aa2b52285e2de47974f741255cc0/expr.ipynb\"><img src=\"../../../../../../core_expr_types/__pv_it/common/006c465e50948aa2b52285e2de47974f741255cc0/expr.png\" style=\"display:inline;vertical-align:middle;\" /></a></td></tr>\n",
       "</table>\n"
      ],
      "text/plain": [
       "0. VertExprArray(([MULTI_QUBIT_ELEM]{element:[OUTPUT]{state:(A_{1} otimes  A_{2} otimes  ... otimes  A_{m}), part:(N_{1 - 1} + 1)}, targets:{1 .. N_{m}}}, [MULTI_QUBIT_ELEM]{element:[OUTPUT]{state:(A_{1} otimes  A_{2} otimes  ... otimes  A_{m}), part:(N_{1 - 1} + 2)}, targets:{1 .. N_{m}}}, ..., [MULTI_QUBIT_ELEM]{element:[OUTPUT]{state:(A_{1} otimes  A_{2} otimes  ... otimes  A_{m}), part:N_{1}}, targets:{1 .. N_{m}}}, [MULTI_QUBIT_ELEM]{element:[OUTPUT]{state:(A_{1} otimes  A_{2} otimes  ... otimes  A_{m}), part:(N_{2 - 1} + 1)}, targets:{1 .. N_{m}}}, [MULTI_QUBIT_ELEM]{element:[OUTPUT]{state:(A_{1} otimes  A_{2} otimes  ... otimes  A_{m}), part:(N_{2 - 1} + 2)}, targets:{1 .. N_{m}}}, ..., [MULTI_QUBIT_ELEM]{element:[OUTPUT]{state:(A_{1} otimes  A_{2} otimes  ... otimes  A_{m}), part:N_{2}}, targets:{1 .. N_{m}}}, ......, [MULTI_QUBIT_ELEM]{element:[OUTPUT]{state:(A_{1} otimes  A_{2} otimes  ... otimes  A_{m}), part:(N_{m - 1} + 1)}, targets:{1 .. N_{m}}}, [MULTI_QUBIT_ELEM]{element:[OUTPUT]{state:(A_{1} otimes  A_{2} otimes  ... otimes  A_{m}), part:(N_{m - 1} + 2)}, targets:{1 .. N_{m}}}, ..., [MULTI_QUBIT_ELEM]{element:[OUTPUT]{state:(A_{1} otimes  A_{2} otimes  ... otimes  A_{m}), part:N_{m}}, targets:{1 .. N_{m}}}))\n",
       "   core type: ExprTuple\n",
       "   sub-expressions: 1\n",
       "1. ([MULTI_QUBIT_ELEM]{element:[OUTPUT]{state:(A_{1} otimes  A_{2} otimes  ... otimes  A_{m}), part:(N_{1 - 1} + 1)}, targets:{1 .. N_{m}}}, [MULTI_QUBIT_ELEM]{element:[OUTPUT]{state:(A_{1} otimes  A_{2} otimes  ... otimes  A_{m}), part:(N_{1 - 1} + 2)}, targets:{1 .. N_{m}}}, ..., [MULTI_QUBIT_ELEM]{element:[OUTPUT]{state:(A_{1} otimes  A_{2} otimes  ... otimes  A_{m}), part:N_{1}}, targets:{1 .. N_{m}}}, [MULTI_QUBIT_ELEM]{element:[OUTPUT]{state:(A_{1} otimes  A_{2} otimes  ... otimes  A_{m}), part:(N_{2 - 1} + 1)}, targets:{1 .. N_{m}}}, [MULTI_QUBIT_ELEM]{element:[OUTPUT]{state:(A_{1} otimes  A_{2} otimes  ... otimes  A_{m}), part:(N_{2 - 1} + 2)}, targets:{1 .. N_{m}}}, ..., [MULTI_QUBIT_ELEM]{element:[OUTPUT]{state:(A_{1} otimes  A_{2} otimes  ... otimes  A_{m}), part:N_{2}}, targets:{1 .. N_{m}}}, ......, [MULTI_QUBIT_ELEM]{element:[OUTPUT]{state:(A_{1} otimes  A_{2} otimes  ... otimes  A_{m}), part:(N_{m - 1} + 1)}, targets:{1 .. N_{m}}}, [MULTI_QUBIT_ELEM]{element:[OUTPUT]{state:(A_{1} otimes  A_{2} otimes  ... otimes  A_{m}), part:(N_{m - 1} + 2)}, targets:{1 .. N_{m}}}, ..., [MULTI_QUBIT_ELEM]{element:[OUTPUT]{state:(A_{1} otimes  A_{2} otimes  ... otimes  A_{m}), part:N_{m}}, targets:{1 .. N_{m}}})\n",
       "   core type: ExprTuple\n",
       "   sub-expressions: 2\n",
       "2. [MULTI_QUBIT_ELEM]{element:[OUTPUT]{state:(A_{1} otimes  A_{2} otimes  ... otimes  A_{m}), part:(N_{1 - 1} + 1)}, targets:{1 .. N_{m}}}, [MULTI_QUBIT_ELEM]{element:[OUTPUT]{state:(A_{1} otimes  A_{2} otimes  ... otimes  A_{m}), part:(N_{1 - 1} + 2)}, targets:{1 .. N_{m}}}, ..., [MULTI_QUBIT_ELEM]{element:[OUTPUT]{state:(A_{1} otimes  A_{2} otimes  ... otimes  A_{m}), part:N_{1}}, targets:{1 .. N_{m}}}, [MULTI_QUBIT_ELEM]{element:[OUTPUT]{state:(A_{1} otimes  A_{2} otimes  ... otimes  A_{m}), part:(N_{2 - 1} + 1)}, targets:{1 .. N_{m}}}, [MULTI_QUBIT_ELEM]{element:[OUTPUT]{state:(A_{1} otimes  A_{2} otimes  ... otimes  A_{m}), part:(N_{2 - 1} + 2)}, targets:{1 .. N_{m}}}, ..., [MULTI_QUBIT_ELEM]{element:[OUTPUT]{state:(A_{1} otimes  A_{2} otimes  ... otimes  A_{m}), part:N_{2}}, targets:{1 .. N_{m}}}, ......, [MULTI_QUBIT_ELEM]{element:[OUTPUT]{state:(A_{1} otimes  A_{2} otimes  ... otimes  A_{m}), part:(N_{m - 1} + 1)}, targets:{1 .. N_{m}}}, [MULTI_QUBIT_ELEM]{element:[OUTPUT]{state:(A_{1} otimes  A_{2} otimes  ... otimes  A_{m}), part:(N_{m - 1} + 2)}, targets:{1 .. N_{m}}}, ..., [MULTI_QUBIT_ELEM]{element:[OUTPUT]{state:(A_{1} otimes  A_{2} otimes  ... otimes  A_{m}), part:N_{m}}, targets:{1 .. N_{m}}}\n",
       "   core type: ExprRange\n",
       "   lambda_map: 3\n",
       "   start_index: 39\n",
       "   end_index: 38\n",
       "3. _c -> [MULTI_QUBIT_ELEM]{element:[OUTPUT]{state:(A_{1} otimes  A_{2} otimes  ... otimes  A_{m}), part:(N_{_c - 1} + 1)}, targets:{1 .. N_{m}}},  \\\\ [MULTI_QUBIT_ELEM]{element:[OUTPUT]{state:(A_{1} otimes  A_{2} otimes  ... otimes  A_{m}), part:(N_{_c - 1} + 2)}, targets:{1 .. N_{m}}}, ...,  \\\\ [MULTI_QUBIT_ELEM]{element:[OUTPUT]{state:(A_{1} otimes  A_{2} otimes  ... otimes  A_{m}), part:N_{_c}}, targets:{1 .. N_{m}}}\n",
       "   core type: Lambda\n",
       "   parameter: 32\n",
       "   body: 4\n",
       "4. [MULTI_QUBIT_ELEM]{element:[OUTPUT]{state:(A_{1} otimes  A_{2} otimes  ... otimes  A_{m}), part:(N_{_c - 1} + 1)}, targets:{1 .. N_{m}}},  \\\\ [MULTI_QUBIT_ELEM]{element:[OUTPUT]{state:(A_{1} otimes  A_{2} otimes  ... otimes  A_{m}), part:(N_{_c - 1} + 2)}, targets:{1 .. N_{m}}}, ...,  \\\\ [MULTI_QUBIT_ELEM]{element:[OUTPUT]{state:(A_{1} otimes  A_{2} otimes  ... otimes  A_{m}), part:N_{_c}}, targets:{1 .. N_{m}}}\n",
       "   core type: ExprRange\n",
       "   lambda_map: 5\n",
       "   start_index: 6\n",
       "   end_index: 7\n",
       "5. _b -> [MULTI_QUBIT_ELEM]{element:[OUTPUT]{state:(A_{1} otimes  A_{2} otimes  ... otimes  A_{m}), part:_b}, targets:{1 .. N_{m}}}\n",
       "   core type: Lambda\n",
       "   parameter: 24\n",
       "   body: 9\n",
       "6. N_{_c - 1} + 1\n",
       "   core type: Operation\n",
       "   operator: 26\n",
       "   operands: 10\n",
       "7. N_{_c}\n",
       "   core type: IndexedVar\n",
       "variable: 30\n",
       "index: 32\n",
       "8. (_b)\n",
       "   core type: ExprTuple\n",
       "   sub-expressions: 24\n",
       "9. [MULTI_QUBIT_ELEM]{element:[OUTPUT]{state:(A_{1} otimes  A_{2} otimes  ... otimes  A_{m}), part:_b}, targets:{1 .. N_{m}}}\n",
       "   core type: Operation\n",
       "   operator: 12\n",
       "   operands: 13\n",
       "10. (N_{_c - 1}, 1)\n",
       "    core type: ExprTuple\n",
       "    sub-expressions: 14, 39\n",
       "11. (_c)\n",
       "    core type: ExprTuple\n",
       "    sub-expressions: 32\n",
       "12. MULTI_QUBIT_ELEM\n",
       "    core type: Literal\n",
       "    sub-expressions: \n",
       "13. {element:[OUTPUT]{state:(A_{1} otimes  A_{2} otimes  ... otimes  A_{m}), part:_b}, targets:{1 .. N_{m}}}\n",
       "    core type: NamedExprs\n",
       "    element: 15\n",
       "    targets: 16\n",
       "14. N_{_c - 1}\n",
       "    core type: IndexedVar\n",
       "variable: 30\n",
       "index: 22\n",
       "15. [OUTPUT]{state:(A_{1} otimes  A_{2} otimes  ... otimes  A_{m}), part:_b}\n",
       "    core type: Operation\n",
       "    operator: 18\n",
       "    operands: 19\n",
       "16. {1 .. N_{m}}\n",
       "    core type: Operation\n",
       "    operator: 20\n",
       "    operands: 21\n",
       "17. (_c - 1)\n",
       "    core type: ExprTuple\n",
       "    sub-expressions: 22\n",
       "18. OUTPUT\n",
       "    core type: Literal\n",
       "    sub-expressions: \n",
       "19. {state:(A_{1} otimes  A_{2} otimes  ... otimes  A_{m}), part:_b}\n",
       "    core type: NamedExprs\n",
       "    state: 23\n",
       "    part: 24\n",
       "20. Interval\n",
       "    core type: Literal\n",
       "    sub-expressions: \n",
       "21. (1, N_{m})\n",
       "    core type: ExprTuple\n",
       "    sub-expressions: 39, 25\n",
       "22. _c - 1\n",
       "    core type: Operation\n",
       "    operator: 26\n",
       "    operands: 27\n",
       "23. A_{1} otimes  A_{2} otimes  ... otimes  A_{m}\n",
       "    core type: Operation\n",
       "    operator: 28\n",
       "    operands: 29\n",
       "24. _b\n",
       "    core type: Variable\n",
       "    sub-expressions: \n",
       "25. N_{m}\n",
       "    core type: IndexedVar\n",
       "variable: 30\n",
       "index: 38\n",
       "26. +\n",
       "    core type: Literal\n",
       "    sub-expressions: \n",
       "27. (_c, -1)\n",
       "    core type: ExprTuple\n",
       "    sub-expressions: 32, 33\n",
       "28. otimes\n",
       "    core type: Literal\n",
       "    sub-expressions: \n",
       "29. (A_{1}, A_{2}, ..., A_{m})\n",
       "    core type: ExprTuple\n",
       "    sub-expressions: 34\n",
       "30. N\n",
       "    core type: Variable\n",
       "    sub-expressions: \n",
       "31. (m)\n",
       "    core type: ExprTuple\n",
       "    sub-expressions: 38\n",
       "32. _c\n",
       "    core type: Variable\n",
       "    sub-expressions: \n",
       "33. -1\n",
       "    core type: Operation\n",
       "    operator: 35\n",
       "    operand: 39\n",
       "34. A_{1}, A_{2}, ..., A_{m}\n",
       "    core type: ExprRange\n",
       "    lambda_map: 37\n",
       "    start_index: 39\n",
       "    end_index: 38\n",
       "35. -\n",
       "    core type: Literal\n",
       "    sub-expressions: \n",
       "36. (1)\n",
       "    core type: ExprTuple\n",
       "    sub-expressions: 39\n",
       "37. _a -> A_{_a}\n",
       "    core type: Lambda\n",
       "    parameter: 43\n",
       "    body: 40\n",
       "38. m\n",
       "    core type: Variable\n",
       "    sub-expressions: \n",
       "39. 1\n",
       "    core type: Literal\n",
       "    sub-expressions: \n",
       "40. A_{_a}\n",
       "    core type: IndexedVar\n",
       "variable: 41\n",
       "index: 43\n",
       "41. A\n",
       "    core type: Variable\n",
       "    sub-expressions: \n",
       "42. (_a)\n",
       "    core type: ExprTuple\n",
       "    sub-expressions: 43\n",
       "43. _a\n",
       "    core type: Variable\n",
       "    sub-expressions: "
      ]
     },
     "metadata": {},
     "output_type": "display_data"
    }
   ],
   "source": [
    "# display the expression information\n",
    "stored_expr.expr_info()"
   ]
  },
  {
   "cell_type": "code",
   "execution_count": null,
   "metadata": {},
   "outputs": [],
   "source": []
  }
 ],
 "metadata": {
  "kernelspec": {
   "display_name": "Python 3",
   "language": "python",
   "name": "python3"
  }
 },
 "nbformat": 4,
 "nbformat_minor": 0
}