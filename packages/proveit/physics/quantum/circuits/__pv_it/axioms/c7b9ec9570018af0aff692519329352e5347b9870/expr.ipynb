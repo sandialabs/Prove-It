{
 "cells": [
  {
   "cell_type": "markdown",
   "metadata": {},
   "source": [
    "Expression of type <a class=\"ProveItLink\" href=\"../../../../../../../../doc/html/api/proveit.logic.Forall.html\">Forall</a>\n",
    "=======================\n",
    "# from the theory of <a class=\"ProveItLink\" href=\"../../../_theory_nbs_/theory.ipynb\">proveit.physics.quantum.circuits</a>"
   ]
  },
  {
   "cell_type": "code",
   "execution_count": 1,
   "metadata": {},
   "outputs": [],
   "source": [
    "import proveit\n",
    "# Automation is not needed when building an expression:\n",
    "proveit.defaults.automation = False # This will speed things up.\n",
    "proveit.defaults.inline_pngs = False # Makes files smaller.\n",
    "%load_expr # Load the stored expression as 'stored_expr'\n",
    "# import Expression classes needed to build the expression\n",
    "from proveit import A, B, S, k\n",
    "from proveit.logic import Equals, Forall\n",
    "from proveit.physics.quantum.circuits import Input, MultiQubitElem"
   ]
  },
  {
   "cell_type": "code",
   "execution_count": 2,
   "metadata": {},
   "outputs": [
    {
     "data": {
      "text/html": [
       "<strong id=\"expr\">expr:</strong> <a class=\"ProveItLink\" href=\"expr.ipynb\"><img src=\"expr.png\" style=\"display:inline;vertical-align:middle;\" /></a><br>"
      ],
      "text/plain": [
       "<IPython.core.display.HTML object>"
      ]
     },
     "metadata": {},
     "output_type": "display_data"
    }
   ],
   "source": [
    "# build up the expression from sub-expressions\n",
    "expr = Forall(instance_param_or_params = [A, B, S], instance_expr = Equals(Equals(MultiQubitElem(element = Input(state = A, part = k), targets = S), MultiQubitElem(element = Input(state = B, part = k), targets = S)), Equals(A, B)))"
   ]
  },
  {
   "cell_type": "code",
   "execution_count": 3,
   "metadata": {},
   "outputs": [
    {
     "name": "stdout",
     "output_type": "stream",
     "text": [
      "Passed sanity check: expr matches stored_expr\n"
     ]
    }
   ],
   "source": [
    "# check that the built expression is the same as the stored expression\n",
    "assert expr == stored_expr\n",
    "assert expr._style_id == stored_expr._style_id\n",
    "print(\"Passed sanity check: expr matches stored_expr\")"
   ]
  },
  {
   "cell_type": "code",
   "execution_count": 4,
   "metadata": {},
   "outputs": [
    {
     "name": "stdout",
     "output_type": "stream",
     "text": [
      "\\forall_{A, B, S}~\\left(\\left(\\begin{array}{c} \\Qcircuit@C=1em @R=.7em{\n",
      "& \\qin{A~\\mbox{part}~k~\\mbox{on}~S} & \\qw \n",
      "} \\end{array} = \\begin{array}{c} \\Qcircuit@C=1em @R=.7em{\n",
      "& \\qin{B~\\mbox{part}~k~\\mbox{on}~S} & \\qw \n",
      "} \\end{array}\\right) = \\left(A = B\\right)\\right)\n"
     ]
    }
   ],
   "source": [
    "# Show the LaTeX representation of the expression for convenience if you need it.\n",
    "print(stored_expr.latex())"
   ]
  },
  {
   "cell_type": "code",
   "execution_count": 5,
   "metadata": {},
   "outputs": [
    {
     "data": {
      "text/html": [
       "<table>\n",
       "<tr><th>name</th><th>description</th><th>default</th><th>current value</th><th>related methods</th></tr><tr><td>with_wrapping</td><td>If 'True', wrap the Expression after the parameters</td><td>None</td><td>None/False</td><td>('with_wrapping',)</td></tr>\n",
       "<tr><td>condition_wrapping</td><td>Wrap 'before' or 'after' the condition (or None).</td><td>None</td><td>None/False</td><td>('with_wrap_after_condition', 'with_wrap_before_condition')</td></tr>\n",
       "<tr><td>wrap_params</td><td>If 'True', wraps every two parameters AND wraps the Expression after the parameters</td><td>None</td><td>None/False</td><td>('with_params',)</td></tr>\n",
       "<tr><td>justification</td><td>justify to the 'left', 'center', or 'right' in the array cells</td><td>center</td><td>center</td><td>('with_justification',)</td></tr>\n",
       "</table>\n"
      ],
      "text/plain": [
       "style name: with_wrapping\n",
       "description: If 'True', wrap the Expression after the parameters\n",
       "default: None\n",
       "current value: None/False\n",
       "related methods: ('with_wrapping',)\n",
       "style name: condition_wrapping\n",
       "description: Wrap 'before' or 'after' the condition (or None).\n",
       "default: None\n",
       "current value: None/False\n",
       "related methods: ('with_wrap_after_condition', 'with_wrap_before_condition')\n",
       "style name: wrap_params\n",
       "description: If 'True', wraps every two parameters AND wraps the Expression after the parameters\n",
       "default: None\n",
       "current value: None/False\n",
       "related methods: ('with_params',)\n",
       "style name: justification\n",
       "description: justify to the 'left', 'center', or 'right' in the array cells\n",
       "default: center\n",
       "current value: center\n",
       "related methods: ('with_justification',)"
      ]
     },
     "metadata": {},
     "output_type": "display_data"
    }
   ],
   "source": [
    "stored_expr.style_options()"
   ]
  },
  {
   "cell_type": "code",
   "execution_count": 6,
   "metadata": {},
   "outputs": [
    {
     "data": {
      "text/html": [
       "<table><tr><th>&nbsp;</th><th>core type</th><th>sub-expressions</th><th>expression</th></tr>\n",
       "<tr><td>0</td><td>Operation</td><td>operator:&nbsp;1<br>operand:&nbsp;3<br></td><td><a class=\"ProveItLink\" href=\"expr.ipynb\"><img src=\"expr.png\" style=\"display:inline;vertical-align:middle;\" /></a></td></tr>\n",
       "<tr><td>1</td><td>Literal</td><td></td><td><a class=\"ProveItLink\" href=\"../../../../../../logic/booleans/quantification/universality/__pv_it/common/083d2baa0b8ecab1d230f9ec29a15aa1355809fb0/expr.ipynb\"><img src=\"../../../../../../logic/booleans/quantification/universality/__pv_it/common/083d2baa0b8ecab1d230f9ec29a15aa1355809fb0/expr.png\" style=\"display:inline;vertical-align:middle;\" /></a></td></tr>\n",
       "<tr><td>2</td><td>ExprTuple</td><td>3</td><td><a class=\"ProveItLink\" href=\"../89672409f5a5fe265caaa2e20e033866278114d50/expr.ipynb\"><img src=\"../89672409f5a5fe265caaa2e20e033866278114d50/expr.png\" style=\"display:inline;vertical-align:middle;\" /></a></td></tr>\n",
       "<tr><td>3</td><td>Lambda</td><td>parameters:&nbsp;4<br>body:&nbsp;5<br></td><td><a class=\"ProveItLink\" href=\"../44180fd347acf2306b0c950d73afc09ecefc25910/expr.ipynb\"><img src=\"../44180fd347acf2306b0c950d73afc09ecefc25910/expr.png\" style=\"display:inline;vertical-align:middle;\" /></a></td></tr>\n",
       "<tr><td>4</td><td>ExprTuple</td><td>23, 24, 19</td><td><a class=\"ProveItLink\" href=\"../3f13e80caebbaa9f6dd61872b8afbc0dfc888fc20/expr.ipynb\"><img src=\"../3f13e80caebbaa9f6dd61872b8afbc0dfc888fc20/expr.png\" style=\"display:inline;vertical-align:middle;\" /></a></td></tr>\n",
       "<tr><td>5</td><td>Operation</td><td>operator:&nbsp;10<br>operands:&nbsp;6<br></td><td><a class=\"ProveItLink\" href=\"../0e16d4e05cd6be5a7122078d46ee9259d5e41b670/expr.ipynb\"><img src=\"../0e16d4e05cd6be5a7122078d46ee9259d5e41b670/expr.png\" style=\"display:inline;vertical-align:middle;\" /></a></td></tr>\n",
       "<tr><td>6</td><td>ExprTuple</td><td>7, 8</td><td><a class=\"ProveItLink\" href=\"../bcf7c7ed3098531ebdfedc1d128397654f63e8ad0/expr.ipynb\"><img src=\"../bcf7c7ed3098531ebdfedc1d128397654f63e8ad0/expr.png\" style=\"display:inline;vertical-align:middle;\" /></a></td></tr>\n",
       "<tr><td>7</td><td>Operation</td><td>operator:&nbsp;10<br>operands:&nbsp;9<br></td><td><a class=\"ProveItLink\" href=\"../0205697c46720a21f79657b2611d1f0ef94b93100/expr.ipynb\"><img src=\"../0205697c46720a21f79657b2611d1f0ef94b93100/expr.png\" style=\"display:inline;vertical-align:middle;\" /></a></td></tr>\n",
       "<tr><td>8</td><td>Operation</td><td>operator:&nbsp;10<br>operands:&nbsp;11<br></td><td><a class=\"ProveItLink\" href=\"../f499420995aa101afb63b56c7e1317b0571a23ed0/expr.ipynb\"><img src=\"../f499420995aa101afb63b56c7e1317b0571a23ed0/expr.png\" style=\"display:inline;vertical-align:middle;\" /></a></td></tr>\n",
       "<tr><td>9</td><td>ExprTuple</td><td>12, 13</td><td><a class=\"ProveItLink\" href=\"../6c71ef030ea8f48fe4d740564d8446d3f8f7d2c60/expr.ipynb\"><img src=\"../6c71ef030ea8f48fe4d740564d8446d3f8f7d2c60/expr.png\" style=\"display:inline;vertical-align:middle;\" /></a></td></tr>\n",
       "<tr><td>10</td><td>Literal</td><td></td><td><a class=\"ProveItLink\" href=\"../../../../../../logic/equality/__pv_it/common/fb96dc12b2aa8801dda64d0132b396c63d1502bb0/expr.ipynb\"><img src=\"../../../../../../logic/equality/__pv_it/common/fb96dc12b2aa8801dda64d0132b396c63d1502bb0/expr.png\" style=\"display:inline;vertical-align:middle;\" /></a></td></tr>\n",
       "<tr><td>11</td><td>ExprTuple</td><td>23, 24</td><td><a class=\"ProveItLink\" href=\"../e791ee87807ed43d7ac6262f8f70c4ffc8f24c940/expr.ipynb\"><img src=\"../e791ee87807ed43d7ac6262f8f70c4ffc8f24c940/expr.png\" style=\"display:inline;vertical-align:middle;\" /></a></td></tr>\n",
       "<tr><td>12</td><td>Operation</td><td>operator:&nbsp;15<br>operands:&nbsp;14<br></td><td><a class=\"ProveItLink\" href=\"../218e3e1a5824fde034a69e9bc3e74b5fa19f67b70/expr.ipynb\"><img src=\"../218e3e1a5824fde034a69e9bc3e74b5fa19f67b70/expr.png\" style=\"display:inline;vertical-align:middle;\" /></a></td></tr>\n",
       "<tr><td>13</td><td>Operation</td><td>operator:&nbsp;15<br>operands:&nbsp;16<br></td><td><a class=\"ProveItLink\" href=\"../8411edc5bd15e61e314614ea22d27d133f284a6c0/expr.ipynb\"><img src=\"../8411edc5bd15e61e314614ea22d27d133f284a6c0/expr.png\" style=\"display:inline;vertical-align:middle;\" /></a></td></tr>\n",
       "<tr><td>14</td><td>NamedExprs</td><td>element: 17<br>targets: 19<br></td><td><a class=\"ProveItLink\" href=\"../db083f648c9ba0bc04fb31709c2737df699c70a30/expr.ipynb\"><img src=\"../db083f648c9ba0bc04fb31709c2737df699c70a30/expr.png\" style=\"display:inline;vertical-align:middle;\" /></a></td></tr>\n",
       "<tr><td>15</td><td>Literal</td><td></td><td><a class=\"ProveItLink\" href=\"../../common/5eaa43008f05c06941080a12337ff182ea14996e0/expr.ipynb\"><img src=\"../../common/5eaa43008f05c06941080a12337ff182ea14996e0/expr.png\" style=\"display:inline;vertical-align:middle;\" /></a></td></tr>\n",
       "<tr><td>16</td><td>NamedExprs</td><td>element: 18<br>targets: 19<br></td><td><a class=\"ProveItLink\" href=\"../0dee216a1eea2e97b6a90a4b6ef1f0ac8bc0a6340/expr.ipynb\"><img src=\"../0dee216a1eea2e97b6a90a4b6ef1f0ac8bc0a6340/expr.png\" style=\"display:inline;vertical-align:middle;\" /></a></td></tr>\n",
       "<tr><td>17</td><td>Operation</td><td>operator:&nbsp;21<br>operands:&nbsp;20<br></td><td><a class=\"ProveItLink\" href=\"../cc6e43055858e43b3a51c888916b440d31bc40bf0/expr.ipynb\"><img src=\"../cc6e43055858e43b3a51c888916b440d31bc40bf0/expr.png\" style=\"display:inline;vertical-align:middle;\" /></a></td></tr>\n",
       "<tr><td>18</td><td>Operation</td><td>operator:&nbsp;21<br>operands:&nbsp;22<br></td><td><a class=\"ProveItLink\" href=\"../3c769b08af6f7afc4c6ea5a46066b922441272460/expr.ipynb\"><img src=\"../3c769b08af6f7afc4c6ea5a46066b922441272460/expr.png\" style=\"display:inline;vertical-align:middle;\" /></a></td></tr>\n",
       "<tr><td>19</td><td>Variable</td><td></td><td><a class=\"ProveItLink\" href=\"../../../../../../__pv_it/common/38f47c5670ea8c5b56253448e95d8afb56bc09b40/expr.ipynb\"><img src=\"../../../../../../__pv_it/common/38f47c5670ea8c5b56253448e95d8afb56bc09b40/expr.png\" style=\"display:inline;vertical-align:middle;\" /></a></td></tr>\n",
       "<tr><td>20</td><td>NamedExprs</td><td>state: 23<br>part: 25<br></td><td><a class=\"ProveItLink\" href=\"../60d1c706e2fe76ac04375d09d1406cc9df173e570/expr.ipynb\"><img src=\"../60d1c706e2fe76ac04375d09d1406cc9df173e570/expr.png\" style=\"display:inline;vertical-align:middle;\" /></a></td></tr>\n",
       "<tr><td>21</td><td>Literal</td><td></td><td><a class=\"ProveItLink\" href=\"../../common/deea8715ce6701df08bbe1d049112a0bad4965c20/expr.ipynb\"><img src=\"../../common/deea8715ce6701df08bbe1d049112a0bad4965c20/expr.png\" style=\"display:inline;vertical-align:middle;\" /></a></td></tr>\n",
       "<tr><td>22</td><td>NamedExprs</td><td>state: 24<br>part: 25<br></td><td><a class=\"ProveItLink\" href=\"../d65f5c2affc0d56f6cd14dfe76fed1dfc2921d710/expr.ipynb\"><img src=\"../d65f5c2affc0d56f6cd14dfe76fed1dfc2921d710/expr.png\" style=\"display:inline;vertical-align:middle;\" /></a></td></tr>\n",
       "<tr><td>23</td><td>Variable</td><td></td><td><a class=\"ProveItLink\" href=\"../../../../../../__pv_it/common/09585084922504426caf1db2ff588a23a0932a960/expr.ipynb\"><img src=\"../../../../../../__pv_it/common/09585084922504426caf1db2ff588a23a0932a960/expr.png\" style=\"display:inline;vertical-align:middle;\" /></a></td></tr>\n",
       "<tr><td>24</td><td>Variable</td><td></td><td><a class=\"ProveItLink\" href=\"../../../../../../__pv_it/common/a9162d1c3cc0470c02e5daf414500903a7a419230/expr.ipynb\"><img src=\"../../../../../../__pv_it/common/a9162d1c3cc0470c02e5daf414500903a7a419230/expr.png\" style=\"display:inline;vertical-align:middle;\" /></a></td></tr>\n",
       "<tr><td>25</td><td>Variable</td><td></td><td><a class=\"ProveItLink\" href=\"../../../../../../__pv_it/common/63b7c64bf9ec7a04ecc396c7a1670f3f12fb59490/expr.ipynb\"><img src=\"../../../../../../__pv_it/common/63b7c64bf9ec7a04ecc396c7a1670f3f12fb59490/expr.png\" style=\"display:inline;vertical-align:middle;\" /></a></td></tr>\n",
       "</table>\n"
      ],
      "text/plain": [
       "0. forall_{A, B, S} (([MULTI_QUBIT_ELEM]{element:[INPUT]{state:A, part:k}, targets:S} = [MULTI_QUBIT_ELEM]{element:[INPUT]{state:B, part:k}, targets:S}) = (A = B))\n",
       "   core type: Operation\n",
       "   operator: 1\n",
       "   operand: 3\n",
       "1. forall\n",
       "   core type: Literal\n",
       "   sub-expressions: \n",
       "2. ((A, B, S) -> (([MULTI_QUBIT_ELEM]{element:[INPUT]{state:A, part:k}, targets:S} = [MULTI_QUBIT_ELEM]{element:[INPUT]{state:B, part:k}, targets:S}) = (A = B)))\n",
       "   core type: ExprTuple\n",
       "   sub-expressions: 3\n",
       "3. (A, B, S) -> (([MULTI_QUBIT_ELEM]{element:[INPUT]{state:A, part:k}, targets:S} = [MULTI_QUBIT_ELEM]{element:[INPUT]{state:B, part:k}, targets:S}) = (A = B))\n",
       "   core type: Lambda\n",
       "   parameters: 4\\n   body: 5\n",
       "4. (A, B, S)\n",
       "   core type: ExprTuple\n",
       "   sub-expressions: 23, 24, 19\n",
       "5. ([MULTI_QUBIT_ELEM]{element:[INPUT]{state:A, part:k}, targets:S} = [MULTI_QUBIT_ELEM]{element:[INPUT]{state:B, part:k}, targets:S}) = (A = B)\n",
       "   core type: Operation\n",
       "   operator: 10\n",
       "   operands: 6\n",
       "6. ([MULTI_QUBIT_ELEM]{element:[INPUT]{state:A, part:k}, targets:S} = [MULTI_QUBIT_ELEM]{element:[INPUT]{state:B, part:k}, targets:S}, A = B)\n",
       "   core type: ExprTuple\n",
       "   sub-expressions: 7, 8\n",
       "7. [MULTI_QUBIT_ELEM]{element:[INPUT]{state:A, part:k}, targets:S} = [MULTI_QUBIT_ELEM]{element:[INPUT]{state:B, part:k}, targets:S}\n",
       "   core type: Operation\n",
       "   operator: 10\n",
       "   operands: 9\n",
       "8. A = B\n",
       "   core type: Operation\n",
       "   operator: 10\n",
       "   operands: 11\n",
       "9. ([MULTI_QUBIT_ELEM]{element:[INPUT]{state:A, part:k}, targets:S}, [MULTI_QUBIT_ELEM]{element:[INPUT]{state:B, part:k}, targets:S})\n",
       "   core type: ExprTuple\n",
       "   sub-expressions: 12, 13\n",
       "10. =\n",
       "    core type: Literal\n",
       "    sub-expressions: \n",
       "11. (A, B)\n",
       "    core type: ExprTuple\n",
       "    sub-expressions: 23, 24\n",
       "12. [MULTI_QUBIT_ELEM]{element:[INPUT]{state:A, part:k}, targets:S}\n",
       "    core type: Operation\n",
       "    operator: 15\n",
       "    operands: 14\n",
       "13. [MULTI_QUBIT_ELEM]{element:[INPUT]{state:B, part:k}, targets:S}\n",
       "    core type: Operation\n",
       "    operator: 15\n",
       "    operands: 16\n",
       "14. {element:[INPUT]{state:A, part:k}, targets:S}\n",
       "    core type: NamedExprs\n",
       "    element: 17\n",
       "    targets: 19\n",
       "15. MULTI_QUBIT_ELEM\n",
       "    core type: Literal\n",
       "    sub-expressions: \n",
       "16. {element:[INPUT]{state:B, part:k}, targets:S}\n",
       "    core type: NamedExprs\n",
       "    element: 18\n",
       "    targets: 19\n",
       "17. [INPUT]{state:A, part:k}\n",
       "    core type: Operation\n",
       "    operator: 21\n",
       "    operands: 20\n",
       "18. [INPUT]{state:B, part:k}\n",
       "    core type: Operation\n",
       "    operator: 21\n",
       "    operands: 22\n",
       "19. S\n",
       "    core type: Variable\n",
       "    sub-expressions: \n",
       "20. {state:A, part:k}\n",
       "    core type: NamedExprs\n",
       "    state: 23\n",
       "    part: 25\n",
       "21. INPUT\n",
       "    core type: Literal\n",
       "    sub-expressions: \n",
       "22. {state:B, part:k}\n",
       "    core type: NamedExprs\n",
       "    state: 24\n",
       "    part: 25\n",
       "23. A\n",
       "    core type: Variable\n",
       "    sub-expressions: \n",
       "24. B\n",
       "    core type: Variable\n",
       "    sub-expressions: \n",
       "25. k\n",
       "    core type: Variable\n",
       "    sub-expressions: "
      ]
     },
     "metadata": {},
     "output_type": "display_data"
    }
   ],
   "source": [
    "# display the expression information\n",
    "stored_expr.expr_info()"
   ]
  },
  {
   "cell_type": "code",
   "execution_count": null,
   "metadata": {},
   "outputs": [],
   "source": []
  }
 ],
 "metadata": {
  "kernelspec": {
   "display_name": "Python 3",
   "language": "python",
   "name": "python3"
  }
 },
 "nbformat": 4,
 "nbformat_minor": 0
}