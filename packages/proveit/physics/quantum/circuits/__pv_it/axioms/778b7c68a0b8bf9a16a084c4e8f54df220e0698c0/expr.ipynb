{
 "cells": [
  {
   "cell_type": "markdown",
   "metadata": {},
   "source": [
    "Expression of type <a class=\"ProveItLink\" href=\"../../../../../../../../doc/html/api/proveit.Lambda.html\">Lambda</a>\n",
    "=======================\n",
    "# from the theory of <a class=\"ProveItLink\" href=\"../../../_theory_nbs_/theory.ipynb\">proveit.physics.quantum.circuits</a>"
   ]
  },
  {
   "cell_type": "code",
   "execution_count": 1,
   "metadata": {},
   "outputs": [],
   "source": [
    "import proveit\n",
    "# Automation is not needed when building an expression:\n",
    "proveit.defaults.automation = False # This will speed things up.\n",
    "proveit.defaults.inline_pngs = False # Makes files smaller.\n",
    "%load_expr # Load the stored expression as 'stored_expr'\n",
    "# import Expression classes needed to build the expression\n",
    "from proveit import A, B, Conditional, Lambda, S, k\n",
    "from proveit.logic import Equals, Forall, InSet\n",
    "from proveit.numbers import NaturalPos\n",
    "from proveit.physics.quantum.circuits import MultiQubitElem, Output"
   ]
  },
  {
   "cell_type": "code",
   "execution_count": 2,
   "metadata": {},
   "outputs": [
    {
     "data": {
      "text/html": [
       "<strong id=\"expr\">expr:</strong> <a class=\"ProveItLink\" href=\"expr.ipynb\"><img src=\"expr.png\" style=\"display:inline;vertical-align:middle;\" /></a><br>"
      ],
      "text/plain": [
       "<IPython.core.display.HTML object>"
      ]
     },
     "metadata": {},
     "output_type": "display_data"
    }
   ],
   "source": [
    "# build up the expression from sub-expressions\n",
    "expr = Lambda(k, Conditional(Forall(instance_param_or_params = [A, B, S], instance_expr = Equals(Equals(MultiQubitElem(element = Output(state = A, part = k), targets = S), MultiQubitElem(element = Output(state = B, part = k), targets = S)), Equals(A, B))), InSet(k, NaturalPos)))"
   ]
  },
  {
   "cell_type": "code",
   "execution_count": 3,
   "metadata": {},
   "outputs": [
    {
     "name": "stdout",
     "output_type": "stream",
     "text": [
      "Passed sanity check: expr matches stored_expr\n"
     ]
    }
   ],
   "source": [
    "# check that the built expression is the same as the stored expression\n",
    "assert expr == stored_expr\n",
    "assert expr._style_id == stored_expr._style_id\n",
    "print(\"Passed sanity check: expr matches stored_expr\")"
   ]
  },
  {
   "cell_type": "code",
   "execution_count": 4,
   "metadata": {},
   "outputs": [
    {
     "name": "stdout",
     "output_type": "stream",
     "text": [
      "k \\mapsto \\left\\{\\forall_{A, B, S}~\\left(\\left(\\begin{array}{c} \\Qcircuit@C=1em @R=.7em{\n",
      "& & \\qout{A~\\mbox{part}~k~\\mbox{on}~S} \n",
      "} \\end{array} = \\begin{array}{c} \\Qcircuit@C=1em @R=.7em{\n",
      "& & \\qout{B~\\mbox{part}~k~\\mbox{on}~S} \n",
      "} \\end{array}\\right) = \\left(A = B\\right)\\right) \\textrm{ if } k \\in \\mathbb{N}^+\\right..\n"
     ]
    }
   ],
   "source": [
    "# Show the LaTeX representation of the expression for convenience if you need it.\n",
    "print(stored_expr.latex())"
   ]
  },
  {
   "cell_type": "code",
   "execution_count": 5,
   "metadata": {},
   "outputs": [
    {
     "data": {
      "text/html": [
       "no style options"
      ],
      "text/plain": [
       "no style options"
      ]
     },
     "metadata": {},
     "output_type": "display_data"
    }
   ],
   "source": [
    "stored_expr.style_options()"
   ]
  },
  {
   "cell_type": "code",
   "execution_count": 6,
   "metadata": {},
   "outputs": [
    {
     "data": {
      "text/html": [
       "<table><tr><th>&nbsp;</th><th>core type</th><th>sub-expressions</th><th>expression</th></tr>\n",
       "<tr><td>0</td><td>Lambda</td><td>parameter:&nbsp;32<br>body:&nbsp;2<br></td><td><a class=\"ProveItLink\" href=\"expr.ipynb\"><img src=\"expr.png\" style=\"display:inline;vertical-align:middle;\" /></a></td></tr>\n",
       "<tr><td>1</td><td>ExprTuple</td><td>32</td><td><a class=\"ProveItLink\" href=\"../../../../../../__pv_it/common/688b115fcd711144fb0bdcf2138b0bd26487dd890/expr.ipynb\"><img src=\"../../../../../../__pv_it/common/688b115fcd711144fb0bdcf2138b0bd26487dd890/expr.png\" style=\"display:inline;vertical-align:middle;\" /></a></td></tr>\n",
       "<tr><td>2</td><td>Conditional</td><td>value:&nbsp;3<br>condition:&nbsp;4<br></td><td><a class=\"ProveItLink\" href=\"../eb5b8eb92e6af7c84b3b2ab3f2d8b3f893ba43a80/expr.ipynb\"><img src=\"../eb5b8eb92e6af7c84b3b2ab3f2d8b3f893ba43a80/expr.png\" style=\"display:inline;vertical-align:middle;\" /></a></td></tr>\n",
       "<tr><td>3</td><td>Operation</td><td>operator:&nbsp;5<br>operand:&nbsp;9<br></td><td><a class=\"ProveItLink\" href=\"../d195ca71338d005641eb6cc5feed3596758f308c0/expr.ipynb\"><img src=\"../d195ca71338d005641eb6cc5feed3596758f308c0/expr.png\" style=\"display:inline;vertical-align:middle;\" /></a></td></tr>\n",
       "<tr><td>4</td><td>Operation</td><td>operator:&nbsp;7<br>operands:&nbsp;8<br></td><td><a class=\"ProveItLink\" href=\"../cb2c00423acaa7f56a88065940b327123396a5900/expr.ipynb\"><img src=\"../cb2c00423acaa7f56a88065940b327123396a5900/expr.png\" style=\"display:inline;vertical-align:middle;\" /></a></td></tr>\n",
       "<tr><td>5</td><td>Literal</td><td></td><td><a class=\"ProveItLink\" href=\"../../../../../../logic/booleans/quantification/universality/__pv_it/common/083d2baa0b8ecab1d230f9ec29a15aa1355809fb0/expr.ipynb\"><img src=\"../../../../../../logic/booleans/quantification/universality/__pv_it/common/083d2baa0b8ecab1d230f9ec29a15aa1355809fb0/expr.png\" style=\"display:inline;vertical-align:middle;\" /></a></td></tr>\n",
       "<tr><td>6</td><td>ExprTuple</td><td>9</td><td><a class=\"ProveItLink\" href=\"../2c9d86f0e96a1ad11b9328b34e401a53825744f20/expr.ipynb\"><img src=\"../2c9d86f0e96a1ad11b9328b34e401a53825744f20/expr.png\" style=\"display:inline;vertical-align:middle;\" /></a></td></tr>\n",
       "<tr><td>7</td><td>Literal</td><td></td><td><a class=\"ProveItLink\" href=\"../../../../../../logic/sets/membership/__pv_it/common/477487d8796864d23d5810f83761435f25167f690/expr.ipynb\"><img src=\"../../../../../../logic/sets/membership/__pv_it/common/477487d8796864d23d5810f83761435f25167f690/expr.png\" style=\"display:inline;vertical-align:middle;\" /></a></td></tr>\n",
       "<tr><td>8</td><td>ExprTuple</td><td>32, 10</td><td><a class=\"ProveItLink\" href=\"../f180f8b426d5ece5d1a14a614fa8a345cbdb2fe90/expr.ipynb\"><img src=\"../f180f8b426d5ece5d1a14a614fa8a345cbdb2fe90/expr.png\" style=\"display:inline;vertical-align:middle;\" /></a></td></tr>\n",
       "<tr><td>9</td><td>Lambda</td><td>parameters:&nbsp;11<br>body:&nbsp;12<br></td><td><a class=\"ProveItLink\" href=\"../6cc21f0fcadd400b8b4bca825cce61db9fed99490/expr.ipynb\"><img src=\"../6cc21f0fcadd400b8b4bca825cce61db9fed99490/expr.png\" style=\"display:inline;vertical-align:middle;\" /></a></td></tr>\n",
       "<tr><td>10</td><td>Literal</td><td></td><td><a class=\"ProveItLink\" href=\"../../../../../../numbers/number_sets/natural_numbers/__pv_it/common/6111329435c43892c831c4793de96afbf80bdb3e0/expr.ipynb\"><img src=\"../../../../../../numbers/number_sets/natural_numbers/__pv_it/common/6111329435c43892c831c4793de96afbf80bdb3e0/expr.png\" style=\"display:inline;vertical-align:middle;\" /></a></td></tr>\n",
       "<tr><td>11</td><td>ExprTuple</td><td>30, 31, 26</td><td><a class=\"ProveItLink\" href=\"../3f13e80caebbaa9f6dd61872b8afbc0dfc888fc20/expr.ipynb\"><img src=\"../3f13e80caebbaa9f6dd61872b8afbc0dfc888fc20/expr.png\" style=\"display:inline;vertical-align:middle;\" /></a></td></tr>\n",
       "<tr><td>12</td><td>Operation</td><td>operator:&nbsp;17<br>operands:&nbsp;13<br></td><td><a class=\"ProveItLink\" href=\"../89ff00630e83341a8e869d34092d3e682925252c0/expr.ipynb\"><img src=\"../89ff00630e83341a8e869d34092d3e682925252c0/expr.png\" style=\"display:inline;vertical-align:middle;\" /></a></td></tr>\n",
       "<tr><td>13</td><td>ExprTuple</td><td>14, 15</td><td><a class=\"ProveItLink\" href=\"../03e45ead82cdd3833a813b35cc4d7b9195a61def0/expr.ipynb\"><img src=\"../03e45ead82cdd3833a813b35cc4d7b9195a61def0/expr.png\" style=\"display:inline;vertical-align:middle;\" /></a></td></tr>\n",
       "<tr><td>14</td><td>Operation</td><td>operator:&nbsp;17<br>operands:&nbsp;16<br></td><td><a class=\"ProveItLink\" href=\"../d4c27c3459e8e67bed3c9c6a02b547f528e9ab740/expr.ipynb\"><img src=\"../d4c27c3459e8e67bed3c9c6a02b547f528e9ab740/expr.png\" style=\"display:inline;vertical-align:middle;\" /></a></td></tr>\n",
       "<tr><td>15</td><td>Operation</td><td>operator:&nbsp;17<br>operands:&nbsp;18<br></td><td><a class=\"ProveItLink\" href=\"../f499420995aa101afb63b56c7e1317b0571a23ed0/expr.ipynb\"><img src=\"../f499420995aa101afb63b56c7e1317b0571a23ed0/expr.png\" style=\"display:inline;vertical-align:middle;\" /></a></td></tr>\n",
       "<tr><td>16</td><td>ExprTuple</td><td>19, 20</td><td><a class=\"ProveItLink\" href=\"../7be470ccba9292750a772d481f8faac9762d145f0/expr.ipynb\"><img src=\"../7be470ccba9292750a772d481f8faac9762d145f0/expr.png\" style=\"display:inline;vertical-align:middle;\" /></a></td></tr>\n",
       "<tr><td>17</td><td>Literal</td><td></td><td><a class=\"ProveItLink\" href=\"../../../../../../logic/equality/__pv_it/common/fb96dc12b2aa8801dda64d0132b396c63d1502bb0/expr.ipynb\"><img src=\"../../../../../../logic/equality/__pv_it/common/fb96dc12b2aa8801dda64d0132b396c63d1502bb0/expr.png\" style=\"display:inline;vertical-align:middle;\" /></a></td></tr>\n",
       "<tr><td>18</td><td>ExprTuple</td><td>30, 31</td><td><a class=\"ProveItLink\" href=\"../e791ee87807ed43d7ac6262f8f70c4ffc8f24c940/expr.ipynb\"><img src=\"../e791ee87807ed43d7ac6262f8f70c4ffc8f24c940/expr.png\" style=\"display:inline;vertical-align:middle;\" /></a></td></tr>\n",
       "<tr><td>19</td><td>Operation</td><td>operator:&nbsp;22<br>operands:&nbsp;21<br></td><td><a class=\"ProveItLink\" href=\"../ca4af2edde12d9135aec6875dd18b8ce58c0fded0/expr.ipynb\"><img src=\"../ca4af2edde12d9135aec6875dd18b8ce58c0fded0/expr.png\" style=\"display:inline;vertical-align:middle;\" /></a></td></tr>\n",
       "<tr><td>20</td><td>Operation</td><td>operator:&nbsp;22<br>operands:&nbsp;23<br></td><td><a class=\"ProveItLink\" href=\"../9b485da240d6113a8f8a0a1bafcc5388a5cbcb5c0/expr.ipynb\"><img src=\"../9b485da240d6113a8f8a0a1bafcc5388a5cbcb5c0/expr.png\" style=\"display:inline;vertical-align:middle;\" /></a></td></tr>\n",
       "<tr><td>21</td><td>NamedExprs</td><td>element: 24<br>targets: 26<br></td><td><a class=\"ProveItLink\" href=\"../9221f1fc1b893c33ac32d4fcd630663898654cf20/expr.ipynb\"><img src=\"../9221f1fc1b893c33ac32d4fcd630663898654cf20/expr.png\" style=\"display:inline;vertical-align:middle;\" /></a></td></tr>\n",
       "<tr><td>22</td><td>Literal</td><td></td><td><a class=\"ProveItLink\" href=\"../../common/5eaa43008f05c06941080a12337ff182ea14996e0/expr.ipynb\"><img src=\"../../common/5eaa43008f05c06941080a12337ff182ea14996e0/expr.png\" style=\"display:inline;vertical-align:middle;\" /></a></td></tr>\n",
       "<tr><td>23</td><td>NamedExprs</td><td>element: 25<br>targets: 26<br></td><td><a class=\"ProveItLink\" href=\"../a097174d5d85ba1efd7c4383d48a0a787d551bef0/expr.ipynb\"><img src=\"../a097174d5d85ba1efd7c4383d48a0a787d551bef0/expr.png\" style=\"display:inline;vertical-align:middle;\" /></a></td></tr>\n",
       "<tr><td>24</td><td>Operation</td><td>operator:&nbsp;28<br>operands:&nbsp;27<br></td><td><a class=\"ProveItLink\" href=\"../23534ccd8721ee4aed3e0760529484e2e44ea9b00/expr.ipynb\"><img src=\"../23534ccd8721ee4aed3e0760529484e2e44ea9b00/expr.png\" style=\"display:inline;vertical-align:middle;\" /></a></td></tr>\n",
       "<tr><td>25</td><td>Operation</td><td>operator:&nbsp;28<br>operands:&nbsp;29<br></td><td><a class=\"ProveItLink\" href=\"../f909a5363c3cff0f1d6585059c9d68d193bc93670/expr.ipynb\"><img src=\"../f909a5363c3cff0f1d6585059c9d68d193bc93670/expr.png\" style=\"display:inline;vertical-align:middle;\" /></a></td></tr>\n",
       "<tr><td>26</td><td>Variable</td><td></td><td><a class=\"ProveItLink\" href=\"../../../../../../__pv_it/common/38f47c5670ea8c5b56253448e95d8afb56bc09b40/expr.ipynb\"><img src=\"../../../../../../__pv_it/common/38f47c5670ea8c5b56253448e95d8afb56bc09b40/expr.png\" style=\"display:inline;vertical-align:middle;\" /></a></td></tr>\n",
       "<tr><td>27</td><td>NamedExprs</td><td>state: 30<br>part: 32<br></td><td><a class=\"ProveItLink\" href=\"../60d1c706e2fe76ac04375d09d1406cc9df173e570/expr.ipynb\"><img src=\"../60d1c706e2fe76ac04375d09d1406cc9df173e570/expr.png\" style=\"display:inline;vertical-align:middle;\" /></a></td></tr>\n",
       "<tr><td>28</td><td>Literal</td><td></td><td><a class=\"ProveItLink\" href=\"../../common/00345a9c4f4d361e0b6e8bbbbe5a33a8ec86a20b0/expr.ipynb\"><img src=\"../../common/00345a9c4f4d361e0b6e8bbbbe5a33a8ec86a20b0/expr.png\" style=\"display:inline;vertical-align:middle;\" /></a></td></tr>\n",
       "<tr><td>29</td><td>NamedExprs</td><td>state: 31<br>part: 32<br></td><td><a class=\"ProveItLink\" href=\"../d65f5c2affc0d56f6cd14dfe76fed1dfc2921d710/expr.ipynb\"><img src=\"../d65f5c2affc0d56f6cd14dfe76fed1dfc2921d710/expr.png\" style=\"display:inline;vertical-align:middle;\" /></a></td></tr>\n",
       "<tr><td>30</td><td>Variable</td><td></td><td><a class=\"ProveItLink\" href=\"../../../../../../__pv_it/common/09585084922504426caf1db2ff588a23a0932a960/expr.ipynb\"><img src=\"../../../../../../__pv_it/common/09585084922504426caf1db2ff588a23a0932a960/expr.png\" style=\"display:inline;vertical-align:middle;\" /></a></td></tr>\n",
       "<tr><td>31</td><td>Variable</td><td></td><td><a class=\"ProveItLink\" href=\"../../../../../../__pv_it/common/a9162d1c3cc0470c02e5daf414500903a7a419230/expr.ipynb\"><img src=\"../../../../../../__pv_it/common/a9162d1c3cc0470c02e5daf414500903a7a419230/expr.png\" style=\"display:inline;vertical-align:middle;\" /></a></td></tr>\n",
       "<tr><td>32</td><td>Variable</td><td></td><td><a class=\"ProveItLink\" href=\"../../../../../../__pv_it/common/63b7c64bf9ec7a04ecc396c7a1670f3f12fb59490/expr.ipynb\"><img src=\"../../../../../../__pv_it/common/63b7c64bf9ec7a04ecc396c7a1670f3f12fb59490/expr.png\" style=\"display:inline;vertical-align:middle;\" /></a></td></tr>\n",
       "</table>\n"
      ],
      "text/plain": [
       "0. k -> {forall_{A, B, S} (([MULTI_QUBIT_ELEM]{element:[OUTPUT]{state:A, part:k}, targets:S} = [MULTI_QUBIT_ELEM]{element:[OUTPUT]{state:B, part:k}, targets:S}) = (A = B)) if k in NaturalPos.\n",
       "   core type: Lambda\n",
       "   parameter: 32\n",
       "   body: 2\n",
       "1. (k)\n",
       "   core type: ExprTuple\n",
       "   sub-expressions: 32\n",
       "2. {forall_{A, B, S} (([MULTI_QUBIT_ELEM]{element:[OUTPUT]{state:A, part:k}, targets:S} = [MULTI_QUBIT_ELEM]{element:[OUTPUT]{state:B, part:k}, targets:S}) = (A = B)) if k in NaturalPos.\n",
       "   core type: Conditional\n",
       "   value: 3\n",
       "   condition: 4\n",
       "3. forall_{A, B, S} (([MULTI_QUBIT_ELEM]{element:[OUTPUT]{state:A, part:k}, targets:S} = [MULTI_QUBIT_ELEM]{element:[OUTPUT]{state:B, part:k}, targets:S}) = (A = B))\n",
       "   core type: Operation\n",
       "   operator: 5\n",
       "   operand: 9\n",
       "4. k in NaturalPos\n",
       "   core type: Operation\n",
       "   operator: 7\n",
       "   operands: 8\n",
       "5. forall\n",
       "   core type: Literal\n",
       "   sub-expressions: \n",
       "6. ((A, B, S) -> (([MULTI_QUBIT_ELEM]{element:[OUTPUT]{state:A, part:k}, targets:S} = [MULTI_QUBIT_ELEM]{element:[OUTPUT]{state:B, part:k}, targets:S}) = (A = B)))\n",
       "   core type: ExprTuple\n",
       "   sub-expressions: 9\n",
       "7. in\n",
       "   core type: Literal\n",
       "   sub-expressions: \n",
       "8. (k, NaturalPos)\n",
       "   core type: ExprTuple\n",
       "   sub-expressions: 32, 10\n",
       "9. (A, B, S) -> (([MULTI_QUBIT_ELEM]{element:[OUTPUT]{state:A, part:k}, targets:S} = [MULTI_QUBIT_ELEM]{element:[OUTPUT]{state:B, part:k}, targets:S}) = (A = B))\n",
       "   core type: Lambda\n",
       "   parameters: 11\\n   body: 12\n",
       "10. NaturalPos\n",
       "    core type: Literal\n",
       "    sub-expressions: \n",
       "11. (A, B, S)\n",
       "    core type: ExprTuple\n",
       "    sub-expressions: 30, 31, 26\n",
       "12. ([MULTI_QUBIT_ELEM]{element:[OUTPUT]{state:A, part:k}, targets:S} = [MULTI_QUBIT_ELEM]{element:[OUTPUT]{state:B, part:k}, targets:S}) = (A = B)\n",
       "    core type: Operation\n",
       "    operator: 17\n",
       "    operands: 13\n",
       "13. ([MULTI_QUBIT_ELEM]{element:[OUTPUT]{state:A, part:k}, targets:S} = [MULTI_QUBIT_ELEM]{element:[OUTPUT]{state:B, part:k}, targets:S}, A = B)\n",
       "    core type: ExprTuple\n",
       "    sub-expressions: 14, 15\n",
       "14. [MULTI_QUBIT_ELEM]{element:[OUTPUT]{state:A, part:k}, targets:S} = [MULTI_QUBIT_ELEM]{element:[OUTPUT]{state:B, part:k}, targets:S}\n",
       "    core type: Operation\n",
       "    operator: 17\n",
       "    operands: 16\n",
       "15. A = B\n",
       "    core type: Operation\n",
       "    operator: 17\n",
       "    operands: 18\n",
       "16. ([MULTI_QUBIT_ELEM]{element:[OUTPUT]{state:A, part:k}, targets:S}, [MULTI_QUBIT_ELEM]{element:[OUTPUT]{state:B, part:k}, targets:S})\n",
       "    core type: ExprTuple\n",
       "    sub-expressions: 19, 20\n",
       "17. =\n",
       "    core type: Literal\n",
       "    sub-expressions: \n",
       "18. (A, B)\n",
       "    core type: ExprTuple\n",
       "    sub-expressions: 30, 31\n",
       "19. [MULTI_QUBIT_ELEM]{element:[OUTPUT]{state:A, part:k}, targets:S}\n",
       "    core type: Operation\n",
       "    operator: 22\n",
       "    operands: 21\n",
       "20. [MULTI_QUBIT_ELEM]{element:[OUTPUT]{state:B, part:k}, targets:S}\n",
       "    core type: Operation\n",
       "    operator: 22\n",
       "    operands: 23\n",
       "21. {element:[OUTPUT]{state:A, part:k}, targets:S}\n",
       "    core type: NamedExprs\n",
       "    element: 24\n",
       "    targets: 26\n",
       "22. MULTI_QUBIT_ELEM\n",
       "    core type: Literal\n",
       "    sub-expressions: \n",
       "23. {element:[OUTPUT]{state:B, part:k}, targets:S}\n",
       "    core type: NamedExprs\n",
       "    element: 25\n",
       "    targets: 26\n",
       "24. [OUTPUT]{state:A, part:k}\n",
       "    core type: Operation\n",
       "    operator: 28\n",
       "    operands: 27\n",
       "25. [OUTPUT]{state:B, part:k}\n",
       "    core type: Operation\n",
       "    operator: 28\n",
       "    operands: 29\n",
       "26. S\n",
       "    core type: Variable\n",
       "    sub-expressions: \n",
       "27. {state:A, part:k}\n",
       "    core type: NamedExprs\n",
       "    state: 30\n",
       "    part: 32\n",
       "28. OUTPUT\n",
       "    core type: Literal\n",
       "    sub-expressions: \n",
       "29. {state:B, part:k}\n",
       "    core type: NamedExprs\n",
       "    state: 31\n",
       "    part: 32\n",
       "30. A\n",
       "    core type: Variable\n",
       "    sub-expressions: \n",
       "31. B\n",
       "    core type: Variable\n",
       "    sub-expressions: \n",
       "32. k\n",
       "    core type: Variable\n",
       "    sub-expressions: "
      ]
     },
     "metadata": {},
     "output_type": "display_data"
    }
   ],
   "source": [
    "# display the expression information\n",
    "stored_expr.expr_info()"
   ]
  },
  {
   "cell_type": "code",
   "execution_count": null,
   "metadata": {},
   "outputs": [],
   "source": []
  }
 ],
 "metadata": {
  "kernelspec": {
   "display_name": "Python 3",
   "language": "python",
   "name": "python3"
  }
 },
 "nbformat": 4,
 "nbformat_minor": 0
}