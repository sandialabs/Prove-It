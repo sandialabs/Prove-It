{
 "cells": [
  {
   "cell_type": "markdown",
   "metadata": {},
   "source": [
    "Expression of type <a class=\"ProveItLink\" href=\"../../../../../../../../doc/html/api/proveit.logic.Forall.html\">Forall</a>\n",
    "=======================\n",
    "# from the theory of <a class=\"ProveItLink\" href=\"../../../_theory_nbs_/theory.ipynb\">proveit.physics.quantum.circuits</a>"
   ]
  },
  {
   "cell_type": "code",
   "execution_count": 1,
   "metadata": {},
   "outputs": [],
   "source": [
    "import proveit\n",
    "# Automation is not needed when building an expression:\n",
    "proveit.defaults.automation = False # This will speed things up.\n",
    "proveit.defaults.inline_pngs = False # Makes files smaller.\n",
    "%load_expr # Load the stored expression as 'stored_expr'\n",
    "# import Expression classes needed to build the expression\n",
    "from proveit.core_expr_types.expr_arrays import A11_to_Akl, A11_to_Akl_varray, B11_to_Bkl, B11_to_Bkl_varray\n",
    "from proveit.logic import Equals, Forall\n",
    "from proveit.physics.quantum.circuits import circuit_Akl, circuit_Bkl"
   ]
  },
  {
   "cell_type": "code",
   "execution_count": 2,
   "metadata": {},
   "outputs": [
    {
     "data": {
      "text/html": [
       "<strong id=\"expr\">expr:</strong> <a class=\"ProveItLink\" href=\"expr.ipynb\"><img src=\"expr.png\" style=\"display:inline;vertical-align:middle;\" /></a><br>"
      ],
      "text/plain": [
       "<IPython.core.display.HTML object>"
      ]
     },
     "metadata": {},
     "output_type": "display_data"
    }
   ],
   "source": [
    "# build up the expression from sub-expressions\n",
    "expr = Forall(instance_param_or_params = [A11_to_Akl, B11_to_Bkl], instance_expr = Equals(Equals(circuit_Akl, circuit_Bkl), Equals(A11_to_Akl_varray, B11_to_Bkl_varray)).with_wrapping_at(2)).with_wrapping()"
   ]
  },
  {
   "cell_type": "code",
   "execution_count": 3,
   "metadata": {},
   "outputs": [
    {
     "name": "stdout",
     "output_type": "stream",
     "text": [
      "Passed sanity check: expr matches stored_expr\n"
     ]
    }
   ],
   "source": [
    "# check that the built expression is the same as the stored expression\n",
    "assert expr == stored_expr\n",
    "assert expr._style_id == stored_expr._style_id\n",
    "print(\"Passed sanity check: expr matches stored_expr\")"
   ]
  },
  {
   "cell_type": "code",
   "execution_count": 4,
   "metadata": {},
   "outputs": [
    {
     "name": "stdout",
     "output_type": "stream",
     "text": [
      "\\begin{array}{l}\\forall_{A_{1, 1}, A_{1, 2}, \\ldots, A_{1, l}, A_{2, 1}, A_{2, 2}, \\ldots, A_{2, l}, \\ldots\\ldots, A_{k, 1}, A_{k, 2}, \\ldots, A_{k, l}, B_{1, 1}, B_{1, 2}, \\ldots, B_{1, l}, B_{2, 1}, B_{2, 2}, \\ldots, B_{2, l}, \\ldots\\ldots, B_{k, 1}, B_{k, 2}, \\ldots, B_{k, l}}~\\\\\n",
      "\\left(\\begin{array}{c} \\begin{array}{l} \\left(\\left(\\begin{array}{c} \\Qcircuit@C=1em @R=.7em{\n",
      "& \\gate{A_{1, 1}} \\qwx[1] & \\gate{A_{2, 1}} \\qwx[1] & \\gate{\\cdots} \\qwx[1] & \\gate{A_{k, 1}} \\qwx[1] & \\qw \\\\\n",
      "& \\gate{A_{1, 2}} \\qwx[1] & \\gate{A_{2, 2}} \\qwx[1] & \\gate{\\cdots} \\qwx[1] & \\gate{A_{k, 2}} \\qwx[1] & \\qw \\\\\n",
      "& \\gate{\\vdots} \\qwx[1] & \\gate{\\vdots} \\qwx[1] & \\gate{\\ddots} \\qwx[1] & \\gate{\\vdots} \\qwx[1] & \\qw \\\\\n",
      "& \\gate{A_{1, l}} & \\gate{A_{2, l}} & \\gate{\\cdots} & \\gate{A_{k, l}} & \\qw\n",
      "} \\end{array}\\right) = \\left(\\begin{array}{c} \\Qcircuit@C=1em @R=.7em{\n",
      "& \\gate{B_{1, 1}} \\qwx[1] & \\gate{B_{2, 1}} \\qwx[1] & \\gate{\\cdots} \\qwx[1] & \\gate{B_{k, 1}} \\qwx[1] & \\qw \\\\\n",
      "& \\gate{B_{1, 2}} \\qwx[1] & \\gate{B_{2, 2}} \\qwx[1] & \\gate{\\cdots} \\qwx[1] & \\gate{B_{k, 2}} \\qwx[1] & \\qw \\\\\n",
      "& \\gate{\\vdots} \\qwx[1] & \\gate{\\vdots} \\qwx[1] & \\gate{\\ddots} \\qwx[1] & \\gate{\\vdots} \\qwx[1] & \\qw \\\\\n",
      "& \\gate{B_{1, l}} & \\gate{B_{2, l}} & \\gate{\\cdots} & \\gate{B_{k, l}} & \\qw\n",
      "} \\end{array}\\right)\\right) =  \\\\ \\left(\\left(\\begin{array}{cccc} \n",
      " A_{1, 1} & A_{2, 1} & \\cdots & A_{k, 1} \\\\\n",
      "A_{1, 2} & A_{2, 2} & \\cdots & A_{k, 2} \\\\\n",
      "\\vdots & \\vdots & \\ddots & \\vdots \\\\\n",
      "A_{1, l} & A_{2, l} & \\cdots & A_{k, l} \\\\\n",
      "\\end{array}\n",
      "\\right) = \\left(\\begin{array}{cccc} \n",
      " B_{1, 1} & B_{2, 1} & \\cdots & B_{k, 1} \\\\\n",
      "B_{1, 2} & B_{2, 2} & \\cdots & B_{k, 2} \\\\\n",
      "\\vdots & \\vdots & \\ddots & \\vdots \\\\\n",
      "B_{1, l} & B_{2, l} & \\cdots & B_{k, l} \\\\\n",
      "\\end{array}\n",
      "\\right)\\right) \\end{array} \\end{array}\\right)\\end{array}\n"
     ]
    }
   ],
   "source": [
    "# Show the LaTeX representation of the expression for convenience if you need it.\n",
    "print(stored_expr.latex())"
   ]
  },
  {
   "cell_type": "code",
   "execution_count": 5,
   "metadata": {},
   "outputs": [
    {
     "data": {
      "text/html": [
       "<table>\n",
       "<tr><th>name</th><th>description</th><th>default</th><th>current value</th><th>related methods</th></tr><tr><td>with_wrapping</td><td>If 'True', wrap the Expression after the parameters</td><td>None</td><td>True</td><td>('with_wrapping',)</td></tr>\n",
       "<tr><td>condition_wrapping</td><td>Wrap 'before' or 'after' the condition (or None).</td><td>None</td><td>None/False</td><td>('with_wrap_after_condition', 'with_wrap_before_condition')</td></tr>\n",
       "<tr><td>wrap_params</td><td>If 'True', wraps every two parameters AND wraps the Expression after the parameters</td><td>None</td><td>None/False</td><td>('with_params',)</td></tr>\n",
       "<tr><td>justification</td><td>justify to the 'left', 'center', or 'right' in the array cells</td><td>center</td><td>center</td><td>('with_justification',)</td></tr>\n",
       "</table>\n"
      ],
      "text/plain": [
       "style name: with_wrapping\n",
       "description: If 'True', wrap the Expression after the parameters\n",
       "default: None\n",
       "current value: True\n",
       "related methods: ('with_wrapping',)\n",
       "style name: condition_wrapping\n",
       "description: Wrap 'before' or 'after' the condition (or None).\n",
       "default: None\n",
       "current value: None/False\n",
       "related methods: ('with_wrap_after_condition', 'with_wrap_before_condition')\n",
       "style name: wrap_params\n",
       "description: If 'True', wraps every two parameters AND wraps the Expression after the parameters\n",
       "default: None\n",
       "current value: None/False\n",
       "related methods: ('with_params',)\n",
       "style name: justification\n",
       "description: justify to the 'left', 'center', or 'right' in the array cells\n",
       "default: center\n",
       "current value: center\n",
       "related methods: ('with_justification',)"
      ]
     },
     "metadata": {},
     "output_type": "display_data"
    }
   ],
   "source": [
    "stored_expr.style_options()"
   ]
  },
  {
   "cell_type": "code",
   "execution_count": 6,
   "metadata": {},
   "outputs": [
    {
     "data": {
      "text/html": [
       "<table><tr><th>&nbsp;</th><th>core type</th><th>sub-expressions</th><th>expression</th></tr>\n",
       "<tr><td>0</td><td>Operation</td><td>operator:&nbsp;1<br>operand:&nbsp;3<br></td><td><a class=\"ProveItLink\" href=\"expr.ipynb\"><img src=\"expr.png\" style=\"display:inline;vertical-align:middle;\" /></a></td></tr>\n",
       "<tr><td>1</td><td>Literal</td><td></td><td><a class=\"ProveItLink\" href=\"../../../../../../logic/booleans/quantification/universality/__pv_it/common/083d2baa0b8ecab1d230f9ec29a15aa1355809fb0/expr.ipynb\"><img src=\"../../../../../../logic/booleans/quantification/universality/__pv_it/common/083d2baa0b8ecab1d230f9ec29a15aa1355809fb0/expr.png\" style=\"display:inline;vertical-align:middle;\" /></a></td></tr>\n",
       "<tr><td>2</td><td>ExprTuple</td><td>3</td><td><a class=\"ProveItLink\" href=\"../eb413bbff4562980ae62c888043db075951c84040/expr.ipynb\"><img src=\"../eb413bbff4562980ae62c888043db075951c84040/expr.png\" style=\"display:inline;vertical-align:middle;\" /></a></td></tr>\n",
       "<tr><td>3</td><td>Lambda</td><td>parameters:&nbsp;4<br>body:&nbsp;5<br></td><td><a class=\"ProveItLink\" href=\"../a8eb1f99629128dcfb49fc064dd988c83c05d15c0/expr.ipynb\"><img src=\"../a8eb1f99629128dcfb49fc064dd988c83c05d15c0/expr.png\" style=\"display:inline;vertical-align:middle;\" /></a></td></tr>\n",
       "<tr><td>4</td><td>ExprTuple</td><td>6, 7</td><td><a class=\"ProveItLink\" href=\"../c26c4ab5fdb4a65bf4f121a07d817242231ff2720/expr.ipynb\"><img src=\"../c26c4ab5fdb4a65bf4f121a07d817242231ff2720/expr.png\" style=\"display:inline;vertical-align:middle;\" /></a></td></tr>\n",
       "<tr><td>5</td><td>Operation</td><td>operator:&nbsp;14<br>operands:&nbsp;8<br></td><td><a class=\"ProveItLink\" href=\"../2c2d405d692e96e9f16e8cd86dd176dfe00eca4d0/expr.ipynb\"><img src=\"../2c2d405d692e96e9f16e8cd86dd176dfe00eca4d0/expr.png\" style=\"display:inline;vertical-align:middle;\" /></a></td></tr>\n",
       "<tr><td>6</td><td>ExprRange</td><td>lambda_map:&nbsp;9<br>start_index:&nbsp;33<br>end_index:&nbsp;25<br></td><td><a class=\"ProveItLink\" href=\"../../../../../../core_expr_types/expr_arrays/__pv_it/common/1911b5617c66a2edcf7fa193eb814fbdedca6c250/expr.ipynb\"><img src=\"../../../../../../core_expr_types/expr_arrays/__pv_it/common/1911b5617c66a2edcf7fa193eb814fbdedca6c250/expr.png\" style=\"display:inline;vertical-align:middle;\" /></a></td></tr>\n",
       "<tr><td>7</td><td>ExprRange</td><td>lambda_map:&nbsp;10<br>start_index:&nbsp;33<br>end_index:&nbsp;25<br></td><td><a class=\"ProveItLink\" href=\"../../../../../../core_expr_types/expr_arrays/__pv_it/common/286ac745941c3c768406cf60e6f10bc5c303251c0/expr.ipynb\"><img src=\"../../../../../../core_expr_types/expr_arrays/__pv_it/common/286ac745941c3c768406cf60e6f10bc5c303251c0/expr.png\" style=\"display:inline;vertical-align:middle;\" /></a></td></tr>\n",
       "<tr><td>8</td><td>ExprTuple</td><td>11, 12</td><td><a class=\"ProveItLink\" href=\"../76bfe5511a517964886439d91672a2129bfc57690/expr.ipynb\"><img src=\"../76bfe5511a517964886439d91672a2129bfc57690/expr.png\" style=\"display:inline;vertical-align:middle;\" /></a></td></tr>\n",
       "<tr><td>9</td><td>Lambda</td><td>parameter:&nbsp;41<br>body:&nbsp;29<br></td><td><a class=\"ProveItLink\" href=\"../../../../../../core_expr_types/expr_arrays/__pv_it/common/2048ae160df25dd717ec9d358c9f541cebb0f1750/expr.ipynb\"><img src=\"../../../../../../core_expr_types/expr_arrays/__pv_it/common/2048ae160df25dd717ec9d358c9f541cebb0f1750/expr.png\" style=\"display:inline;vertical-align:middle;\" /></a></td></tr>\n",
       "<tr><td>10</td><td>Lambda</td><td>parameter:&nbsp;41<br>body:&nbsp;30<br></td><td><a class=\"ProveItLink\" href=\"../../../../../../core_expr_types/expr_arrays/__pv_it/common/142830ac64edda8ab3a29b5daddca8bdcfa3a5e80/expr.ipynb\"><img src=\"../../../../../../core_expr_types/expr_arrays/__pv_it/common/142830ac64edda8ab3a29b5daddca8bdcfa3a5e80/expr.png\" style=\"display:inline;vertical-align:middle;\" /></a></td></tr>\n",
       "<tr><td>11</td><td>Operation</td><td>operator:&nbsp;14<br>operands:&nbsp;13<br></td><td><a class=\"ProveItLink\" href=\"../93b89324c35baa5ed1c37d247c675d91eaec9f9e0/expr.ipynb\"><img src=\"../93b89324c35baa5ed1c37d247c675d91eaec9f9e0/expr.png\" style=\"display:inline;vertical-align:middle;\" /></a></td></tr>\n",
       "<tr><td>12</td><td>Operation</td><td>operator:&nbsp;14<br>operands:&nbsp;15<br></td><td><a class=\"ProveItLink\" href=\"../23e0c3a7d7aa42ff0b9a56df357561189a1e6ca20/expr.ipynb\"><img src=\"../23e0c3a7d7aa42ff0b9a56df357561189a1e6ca20/expr.png\" style=\"display:inline;vertical-align:middle;\" /></a></td></tr>\n",
       "<tr><td>13</td><td>ExprTuple</td><td>16, 17</td><td><a class=\"ProveItLink\" href=\"../193777f40c4ad2b8b66981130521ec142842ffdf0/expr.ipynb\"><img src=\"../193777f40c4ad2b8b66981130521ec142842ffdf0/expr.png\" style=\"display:inline;vertical-align:middle;\" /></a></td></tr>\n",
       "<tr><td>14</td><td>Literal</td><td></td><td><a class=\"ProveItLink\" href=\"../../../../../../logic/equality/__pv_it/common/fb96dc12b2aa8801dda64d0132b396c63d1502bb0/expr.ipynb\"><img src=\"../../../../../../logic/equality/__pv_it/common/fb96dc12b2aa8801dda64d0132b396c63d1502bb0/expr.png\" style=\"display:inline;vertical-align:middle;\" /></a></td></tr>\n",
       "<tr><td>15</td><td>ExprTuple</td><td>18, 20</td><td><a class=\"ProveItLink\" href=\"../34daa6302bb2388bc532f3a25f058709efe28bfc0/expr.ipynb\"><img src=\"../34daa6302bb2388bc532f3a25f058709efe28bfc0/expr.png\" style=\"display:inline;vertical-align:middle;\" /></a></td></tr>\n",
       "<tr><td>16</td><td>Operation</td><td>operator:&nbsp;19<br>operands:&nbsp;18<br></td><td><a class=\"ProveItLink\" href=\"../../common/a259589d75fbdf58acdc212d1c6bfb869f8c827c0/expr.ipynb\"><img src=\"../../common/a259589d75fbdf58acdc212d1c6bfb869f8c827c0/expr.png\" style=\"display:inline;vertical-align:middle;\" /></a></td></tr>\n",
       "<tr><td>17</td><td>Operation</td><td>operator:&nbsp;19<br>operands:&nbsp;20<br></td><td><a class=\"ProveItLink\" href=\"../../common/4f41130f0f94d3a418bb9d84bef060cd25e051810/expr.ipynb\"><img src=\"../../common/4f41130f0f94d3a418bb9d84bef060cd25e051810/expr.png\" style=\"display:inline;vertical-align:middle;\" /></a></td></tr>\n",
       "<tr><td>18</td><td>ExprTuple</td><td>21</td><td><a class=\"ProveItLink\" href=\"../../../../../../core_expr_types/expr_arrays/__pv_it/common/a6d6654211557a57bc4b2c95d3c050fdf39e9c900/expr.ipynb\"><img src=\"../../../../../../core_expr_types/expr_arrays/__pv_it/common/a6d6654211557a57bc4b2c95d3c050fdf39e9c900/expr.png\" style=\"display:inline;vertical-align:middle;\" /></a></td></tr>\n",
       "<tr><td>19</td><td>Literal</td><td></td><td><a class=\"ProveItLink\" href=\"../../common/40003b89a3d1740159ada9fe5b21308b42a7d3d40/expr.ipynb\"><img src=\"../../common/40003b89a3d1740159ada9fe5b21308b42a7d3d40/expr.png\" style=\"display:inline;vertical-align:middle;\" /></a></td></tr>\n",
       "<tr><td>20</td><td>ExprTuple</td><td>22</td><td><a class=\"ProveItLink\" href=\"../../../../../../core_expr_types/expr_arrays/__pv_it/common/dd56b5f0c579b0bdd055c82621936b48252045c10/expr.ipynb\"><img src=\"../../../../../../core_expr_types/expr_arrays/__pv_it/common/dd56b5f0c579b0bdd055c82621936b48252045c10/expr.png\" style=\"display:inline;vertical-align:middle;\" /></a></td></tr>\n",
       "<tr><td>21</td><td>ExprRange</td><td>lambda_map:&nbsp;23<br>start_index:&nbsp;33<br>end_index:&nbsp;25<br></td><td><a class=\"ProveItLink\" href=\"../../../../../../core_expr_types/expr_arrays/__pv_it/common/d6e7afffa22b7f1eea7825883cb70ba4ed98eb860/expr.ipynb\"><img src=\"../../../../../../core_expr_types/expr_arrays/__pv_it/common/d6e7afffa22b7f1eea7825883cb70ba4ed98eb860/expr.png\" style=\"display:inline;vertical-align:middle;\" /></a></td></tr>\n",
       "<tr><td>22</td><td>ExprRange</td><td>lambda_map:&nbsp;24<br>start_index:&nbsp;33<br>end_index:&nbsp;25<br></td><td><a class=\"ProveItLink\" href=\"../../../../../../core_expr_types/expr_arrays/__pv_it/common/67dd42c15996de7cf1833f315175c6a1003f63c20/expr.ipynb\"><img src=\"../../../../../../core_expr_types/expr_arrays/__pv_it/common/67dd42c15996de7cf1833f315175c6a1003f63c20/expr.png\" style=\"display:inline;vertical-align:middle;\" /></a></td></tr>\n",
       "<tr><td>23</td><td>Lambda</td><td>parameter:&nbsp;41<br>body:&nbsp;26<br></td><td><a class=\"ProveItLink\" href=\"../../../../../../core_expr_types/expr_arrays/__pv_it/common/0afc00fedb7b5cc0a15ccadfe8d932b9c5d3a3630/expr.ipynb\"><img src=\"../../../../../../core_expr_types/expr_arrays/__pv_it/common/0afc00fedb7b5cc0a15ccadfe8d932b9c5d3a3630/expr.png\" style=\"display:inline;vertical-align:middle;\" /></a></td></tr>\n",
       "<tr><td>24</td><td>Lambda</td><td>parameter:&nbsp;41<br>body:&nbsp;28<br></td><td><a class=\"ProveItLink\" href=\"../../../../../../core_expr_types/expr_arrays/__pv_it/common/15f77fe7ffd7a32f2e8efe592d13d22e01ee80820/expr.ipynb\"><img src=\"../../../../../../core_expr_types/expr_arrays/__pv_it/common/15f77fe7ffd7a32f2e8efe592d13d22e01ee80820/expr.png\" style=\"display:inline;vertical-align:middle;\" /></a></td></tr>\n",
       "<tr><td>25</td><td>Variable</td><td></td><td><a class=\"ProveItLink\" href=\"../../../../../../__pv_it/common/63b7c64bf9ec7a04ecc396c7a1670f3f12fb59490/expr.ipynb\"><img src=\"../../../../../../__pv_it/common/63b7c64bf9ec7a04ecc396c7a1670f3f12fb59490/expr.png\" style=\"display:inline;vertical-align:middle;\" /></a></td></tr>\n",
       "<tr><td>26</td><td>ExprTuple</td><td>29</td><td><a class=\"ProveItLink\" href=\"../../../../../../core_expr_types/expr_arrays/__pv_it/common/6fcd8ce04879ed68ce8dcfb677f54c2130f600750/expr.ipynb\"><img src=\"../../../../../../core_expr_types/expr_arrays/__pv_it/common/6fcd8ce04879ed68ce8dcfb677f54c2130f600750/expr.png\" style=\"display:inline;vertical-align:middle;\" /></a></td></tr>\n",
       "<tr><td>27</td><td>ExprTuple</td><td>41</td><td><a class=\"ProveItLink\" href=\"../../../../../../core_expr_types/expr_arrays/__pv_it/common/18f7318b68e45ff8356043b6e71619fa8450fb200/expr.ipynb\"><img src=\"../../../../../../core_expr_types/expr_arrays/__pv_it/common/18f7318b68e45ff8356043b6e71619fa8450fb200/expr.png\" style=\"display:inline;vertical-align:middle;\" /></a></td></tr>\n",
       "<tr><td>28</td><td>ExprTuple</td><td>30</td><td><a class=\"ProveItLink\" href=\"../../../../../../core_expr_types/expr_arrays/__pv_it/common/f11b5ca21da0c9eb83028013f3f1f45d6447d4320/expr.ipynb\"><img src=\"../../../../../../core_expr_types/expr_arrays/__pv_it/common/f11b5ca21da0c9eb83028013f3f1f45d6447d4320/expr.png\" style=\"display:inline;vertical-align:middle;\" /></a></td></tr>\n",
       "<tr><td>29</td><td>ExprRange</td><td>lambda_map:&nbsp;31<br>start_index:&nbsp;33<br>end_index:&nbsp;34<br></td><td><a class=\"ProveItLink\" href=\"../../../../../../core_expr_types/expr_arrays/__pv_it/common/ba13910b8ff90bcfb0fbf5fa4fe2b61900eb20590/expr.ipynb\"><img src=\"../../../../../../core_expr_types/expr_arrays/__pv_it/common/ba13910b8ff90bcfb0fbf5fa4fe2b61900eb20590/expr.png\" style=\"display:inline;vertical-align:middle;\" /></a></td></tr>\n",
       "<tr><td>30</td><td>ExprRange</td><td>lambda_map:&nbsp;32<br>start_index:&nbsp;33<br>end_index:&nbsp;34<br></td><td><a class=\"ProveItLink\" href=\"../../../../../../core_expr_types/expr_arrays/__pv_it/common/fea2205a0e1ab585f2abca1ee3d9baee3cc941520/expr.ipynb\"><img src=\"../../../../../../core_expr_types/expr_arrays/__pv_it/common/fea2205a0e1ab585f2abca1ee3d9baee3cc941520/expr.png\" style=\"display:inline;vertical-align:middle;\" /></a></td></tr>\n",
       "<tr><td>31</td><td>Lambda</td><td>parameter:&nbsp;42<br>body:&nbsp;35<br></td><td><a class=\"ProveItLink\" href=\"../../../../../../core_expr_types/expr_arrays/__pv_it/common/042b3e9ccffc5bb337bf14e5131e4c08f85b67640/expr.ipynb\"><img src=\"../../../../../../core_expr_types/expr_arrays/__pv_it/common/042b3e9ccffc5bb337bf14e5131e4c08f85b67640/expr.png\" style=\"display:inline;vertical-align:middle;\" /></a></td></tr>\n",
       "<tr><td>32</td><td>Lambda</td><td>parameter:&nbsp;42<br>body:&nbsp;37<br></td><td><a class=\"ProveItLink\" href=\"../../../../../../core_expr_types/expr_arrays/__pv_it/common/173a6f369ab7811b1f6ac71a9b4b327950cd138d0/expr.ipynb\"><img src=\"../../../../../../core_expr_types/expr_arrays/__pv_it/common/173a6f369ab7811b1f6ac71a9b4b327950cd138d0/expr.png\" style=\"display:inline;vertical-align:middle;\" /></a></td></tr>\n",
       "<tr><td>33</td><td>Literal</td><td></td><td><a class=\"ProveItLink\" href=\"../../../../../../numbers/numerals/__pv_it/common/682157d4892d216d9e5626ed533aff9b56b9506e0/expr.ipynb\"><img src=\"../../../../../../numbers/numerals/__pv_it/common/682157d4892d216d9e5626ed533aff9b56b9506e0/expr.png\" style=\"display:inline;vertical-align:middle;\" /></a></td></tr>\n",
       "<tr><td>34</td><td>Variable</td><td></td><td><a class=\"ProveItLink\" href=\"../../../../../../__pv_it/common/27cc275d44b4f4499fb9ccfb3fab1a98165d2fa60/expr.ipynb\"><img src=\"../../../../../../__pv_it/common/27cc275d44b4f4499fb9ccfb3fab1a98165d2fa60/expr.png\" style=\"display:inline;vertical-align:middle;\" /></a></td></tr>\n",
       "<tr><td>35</td><td>IndexedVar</td><td>variable:&nbsp;38<br>indices:&nbsp;40<br></td><td><a class=\"ProveItLink\" href=\"../../../../../../core_expr_types/expr_arrays/__pv_it/common/de56197d2c2a64a76930b89ea44fb63be43f4c020/expr.ipynb\"><img src=\"../../../../../../core_expr_types/expr_arrays/__pv_it/common/de56197d2c2a64a76930b89ea44fb63be43f4c020/expr.png\" style=\"display:inline;vertical-align:middle;\" /></a></td></tr>\n",
       "<tr><td>36</td><td>ExprTuple</td><td>42</td><td><a class=\"ProveItLink\" href=\"../../../../../../core_expr_types/expr_arrays/__pv_it/common/4b0dd6be36d76552eda6a95d5b4a27f5a5b62f900/expr.ipynb\"><img src=\"../../../../../../core_expr_types/expr_arrays/__pv_it/common/4b0dd6be36d76552eda6a95d5b4a27f5a5b62f900/expr.png\" style=\"display:inline;vertical-align:middle;\" /></a></td></tr>\n",
       "<tr><td>37</td><td>IndexedVar</td><td>variable:&nbsp;39<br>indices:&nbsp;40<br></td><td><a class=\"ProveItLink\" href=\"../../../../../../core_expr_types/expr_arrays/__pv_it/common/e79cd0fe4a2577a30580c7ee9d8c9195486094ac0/expr.ipynb\"><img src=\"../../../../../../core_expr_types/expr_arrays/__pv_it/common/e79cd0fe4a2577a30580c7ee9d8c9195486094ac0/expr.png\" style=\"display:inline;vertical-align:middle;\" /></a></td></tr>\n",
       "<tr><td>38</td><td>Variable</td><td></td><td><a class=\"ProveItLink\" href=\"../../../../../../__pv_it/common/09585084922504426caf1db2ff588a23a0932a960/expr.ipynb\"><img src=\"../../../../../../__pv_it/common/09585084922504426caf1db2ff588a23a0932a960/expr.png\" style=\"display:inline;vertical-align:middle;\" /></a></td></tr>\n",
       "<tr><td>39</td><td>Variable</td><td></td><td><a class=\"ProveItLink\" href=\"../../../../../../__pv_it/common/a9162d1c3cc0470c02e5daf414500903a7a419230/expr.ipynb\"><img src=\"../../../../../../__pv_it/common/a9162d1c3cc0470c02e5daf414500903a7a419230/expr.png\" style=\"display:inline;vertical-align:middle;\" /></a></td></tr>\n",
       "<tr><td>40</td><td>ExprTuple</td><td>41, 42</td><td><a class=\"ProveItLink\" href=\"../../../../../../core_expr_types/expr_arrays/__pv_it/common/c899820ca7633ea1589f21e8e039aa4da91850d80/expr.ipynb\"><img src=\"../../../../../../core_expr_types/expr_arrays/__pv_it/common/c899820ca7633ea1589f21e8e039aa4da91850d80/expr.png\" style=\"display:inline;vertical-align:middle;\" /></a></td></tr>\n",
       "<tr><td>41</td><td>Variable</td><td></td><td><a class=\"ProveItLink\" href=\"../../../../../../core_expr_types/expr_arrays/__pv_it/common/9a18d67b443cf8d92289c655ed91ec78766170a90/expr.ipynb\"><img src=\"../../../../../../core_expr_types/expr_arrays/__pv_it/common/9a18d67b443cf8d92289c655ed91ec78766170a90/expr.png\" style=\"display:inline;vertical-align:middle;\" /></a></td></tr>\n",
       "<tr><td>42</td><td>Variable</td><td></td><td><a class=\"ProveItLink\" href=\"../../../../../../core_expr_types/expr_arrays/__pv_it/common/006c465e50948aa2b52285e2de47974f741255cc0/expr.ipynb\"><img src=\"../../../../../../core_expr_types/expr_arrays/__pv_it/common/006c465e50948aa2b52285e2de47974f741255cc0/expr.png\" style=\"display:inline;vertical-align:middle;\" /></a></td></tr>\n",
       "</table>\n"
      ],
      "text/plain": [
       "0. forall_{A_{1, 1}, A_{1, 2}, ..., A_{1, l}, A_{2, 1}, A_{2, 2}, ..., A_{2, l}, ......, A_{k, 1}, A_{k, 2}, ..., A_{k, l}, B_{1, 1}, B_{1, 2}, ..., B_{1, l}, B_{2, 1}, B_{2, 2}, ..., B_{2, l}, ......, B_{k, 1}, B_{k, 2}, ..., B_{k, l}} ((QCIRCUIT(VertExprArray((A_{1, 1}, A_{1, 2}, ..., A_{1, l}), (A_{2, 1}, A_{2, 2}, ..., A_{2, l}), ..., (A_{k, 1}, A_{k, 2}, ..., A_{k, l}))) = QCIRCUIT(VertExprArray((B_{1, 1}, B_{1, 2}, ..., B_{1, l}), (B_{2, 1}, B_{2, 2}, ..., B_{2, l}), ..., (B_{k, 1}, B_{k, 2}, ..., B_{k, l})))) =  \\\\ (VertExprArray((A_{1, 1}, A_{1, 2}, ..., A_{1, l}), (A_{2, 1}, A_{2, 2}, ..., A_{2, l}), ..., (A_{k, 1}, A_{k, 2}, ..., A_{k, l})) = VertExprArray((B_{1, 1}, B_{1, 2}, ..., B_{1, l}), (B_{2, 1}, B_{2, 2}, ..., B_{2, l}), ..., (B_{k, 1}, B_{k, 2}, ..., B_{k, l}))))\n",
       "   core type: Operation\n",
       "   operator: 1\n",
       "   operand: 3\n",
       "1. forall\n",
       "   core type: Literal\n",
       "   sub-expressions: \n",
       "2. ((A_{1, 1}, A_{1, 2}, ..., A_{1, l}, A_{2, 1}, A_{2, 2}, ..., A_{2, l}, ......, A_{k, 1}, A_{k, 2}, ..., A_{k, l}, B_{1, 1}, B_{1, 2}, ..., B_{1, l}, B_{2, 1}, B_{2, 2}, ..., B_{2, l}, ......, B_{k, 1}, B_{k, 2}, ..., B_{k, l}) -> ((QCIRCUIT(VertExprArray((A_{1, 1}, A_{1, 2}, ..., A_{1, l}), (A_{2, 1}, A_{2, 2}, ..., A_{2, l}), ..., (A_{k, 1}, A_{k, 2}, ..., A_{k, l}))) = QCIRCUIT(VertExprArray((B_{1, 1}, B_{1, 2}, ..., B_{1, l}), (B_{2, 1}, B_{2, 2}, ..., B_{2, l}), ..., (B_{k, 1}, B_{k, 2}, ..., B_{k, l})))) =  \\\\ (VertExprArray((A_{1, 1}, A_{1, 2}, ..., A_{1, l}), (A_{2, 1}, A_{2, 2}, ..., A_{2, l}), ..., (A_{k, 1}, A_{k, 2}, ..., A_{k, l})) = VertExprArray((B_{1, 1}, B_{1, 2}, ..., B_{1, l}), (B_{2, 1}, B_{2, 2}, ..., B_{2, l}), ..., (B_{k, 1}, B_{k, 2}, ..., B_{k, l})))))\n",
       "   core type: ExprTuple\n",
       "   sub-expressions: 3\n",
       "3. (A_{1, 1}, A_{1, 2}, ..., A_{1, l}, A_{2, 1}, A_{2, 2}, ..., A_{2, l}, ......, A_{k, 1}, A_{k, 2}, ..., A_{k, l}, B_{1, 1}, B_{1, 2}, ..., B_{1, l}, B_{2, 1}, B_{2, 2}, ..., B_{2, l}, ......, B_{k, 1}, B_{k, 2}, ..., B_{k, l}) -> ((QCIRCUIT(VertExprArray((A_{1, 1}, A_{1, 2}, ..., A_{1, l}), (A_{2, 1}, A_{2, 2}, ..., A_{2, l}), ..., (A_{k, 1}, A_{k, 2}, ..., A_{k, l}))) = QCIRCUIT(VertExprArray((B_{1, 1}, B_{1, 2}, ..., B_{1, l}), (B_{2, 1}, B_{2, 2}, ..., B_{2, l}), ..., (B_{k, 1}, B_{k, 2}, ..., B_{k, l})))) =  \\\\ (VertExprArray((A_{1, 1}, A_{1, 2}, ..., A_{1, l}), (A_{2, 1}, A_{2, 2}, ..., A_{2, l}), ..., (A_{k, 1}, A_{k, 2}, ..., A_{k, l})) = VertExprArray((B_{1, 1}, B_{1, 2}, ..., B_{1, l}), (B_{2, 1}, B_{2, 2}, ..., B_{2, l}), ..., (B_{k, 1}, B_{k, 2}, ..., B_{k, l}))))\n",
       "   core type: Lambda\n",
       "   parameters: 4\\n   body: 5\n",
       "4. (A_{1, 1}, A_{1, 2}, ..., A_{1, l}, A_{2, 1}, A_{2, 2}, ..., A_{2, l}, ......, A_{k, 1}, A_{k, 2}, ..., A_{k, l},B_{1, 1}, B_{1, 2}, ..., B_{1, l}, B_{2, 1}, B_{2, 2}, ..., B_{2, l}, ......, B_{k, 1}, B_{k, 2}, ..., B_{k, l})\n",
       "   core type: ExprTuple\n",
       "   sub-expressions: 6, 7\n",
       "5. (QCIRCUIT(VertExprArray((A_{1, 1}, A_{1, 2}, ..., A_{1, l}), (A_{2, 1}, A_{2, 2}, ..., A_{2, l}), ..., (A_{k, 1}, A_{k, 2}, ..., A_{k, l}))) = QCIRCUIT(VertExprArray((B_{1, 1}, B_{1, 2}, ..., B_{1, l}), (B_{2, 1}, B_{2, 2}, ..., B_{2, l}), ..., (B_{k, 1}, B_{k, 2}, ..., B_{k, l})))) =  \\\\ (VertExprArray((A_{1, 1}, A_{1, 2}, ..., A_{1, l}), (A_{2, 1}, A_{2, 2}, ..., A_{2, l}), ..., (A_{k, 1}, A_{k, 2}, ..., A_{k, l})) = VertExprArray((B_{1, 1}, B_{1, 2}, ..., B_{1, l}), (B_{2, 1}, B_{2, 2}, ..., B_{2, l}), ..., (B_{k, 1}, B_{k, 2}, ..., B_{k, l})))\n",
       "   core type: Operation\n",
       "   operator: 14\n",
       "   operands: 8\n",
       "6. A_{1, 1}, A_{1, 2}, ..., A_{1, l}, A_{2, 1}, A_{2, 2}, ..., A_{2, l}, ......, A_{k, 1}, A_{k, 2}, ..., A_{k, l}\n",
       "   core type: ExprRange\n",
       "   lambda_map: 9\n",
       "   start_index: 33\n",
       "   end_index: 25\n",
       "7. B_{1, 1}, B_{1, 2}, ..., B_{1, l}, B_{2, 1}, B_{2, 2}, ..., B_{2, l}, ......, B_{k, 1}, B_{k, 2}, ..., B_{k, l}\n",
       "   core type: ExprRange\n",
       "   lambda_map: 10\n",
       "   start_index: 33\n",
       "   end_index: 25\n",
       "8. (QCIRCUIT(VertExprArray((A_{1, 1}, A_{1, 2}, ..., A_{1, l}), (A_{2, 1}, A_{2, 2}, ..., A_{2, l}), ..., (A_{k, 1}, A_{k, 2}, ..., A_{k, l}))) = QCIRCUIT(VertExprArray((B_{1, 1}, B_{1, 2}, ..., B_{1, l}), (B_{2, 1}, B_{2, 2}, ..., B_{2, l}), ..., (B_{k, 1}, B_{k, 2}, ..., B_{k, l}))), VertExprArray((A_{1, 1}, A_{1, 2}, ..., A_{1, l}), (A_{2, 1}, A_{2, 2}, ..., A_{2, l}), ..., (A_{k, 1}, A_{k, 2}, ..., A_{k, l})) = VertExprArray((B_{1, 1}, B_{1, 2}, ..., B_{1, l}), (B_{2, 1}, B_{2, 2}, ..., B_{2, l}), ..., (B_{k, 1}, B_{k, 2}, ..., B_{k, l})))\n",
       "   core type: ExprTuple\n",
       "   sub-expressions: 11, 12\n",
       "9. _b -> A_{_b, 1}, A_{_b, 2}, ..., A_{_b, l}\n",
       "   core type: Lambda\n",
       "   parameter: 41\n",
       "   body: 29\n",
       "10. _b -> B_{_b, 1}, B_{_b, 2}, ..., B_{_b, l}\n",
       "    core type: Lambda\n",
       "    parameter: 41\n",
       "    body: 30\n",
       "11. QCIRCUIT(VertExprArray((A_{1, 1}, A_{1, 2}, ..., A_{1, l}), (A_{2, 1}, A_{2, 2}, ..., A_{2, l}), ..., (A_{k, 1}, A_{k, 2}, ..., A_{k, l}))) = QCIRCUIT(VertExprArray((B_{1, 1}, B_{1, 2}, ..., B_{1, l}), (B_{2, 1}, B_{2, 2}, ..., B_{2, l}), ..., (B_{k, 1}, B_{k, 2}, ..., B_{k, l})))\n",
       "    core type: Operation\n",
       "    operator: 14\n",
       "    operands: 13\n",
       "12. VertExprArray((A_{1, 1}, A_{1, 2}, ..., A_{1, l}), (A_{2, 1}, A_{2, 2}, ..., A_{2, l}), ..., (A_{k, 1}, A_{k, 2}, ..., A_{k, l})) = VertExprArray((B_{1, 1}, B_{1, 2}, ..., B_{1, l}), (B_{2, 1}, B_{2, 2}, ..., B_{2, l}), ..., (B_{k, 1}, B_{k, 2}, ..., B_{k, l}))\n",
       "    core type: Operation\n",
       "    operator: 14\n",
       "    operands: 15\n",
       "13. (QCIRCUIT(VertExprArray((A_{1, 1}, A_{1, 2}, ..., A_{1, l}), (A_{2, 1}, A_{2, 2}, ..., A_{2, l}), ..., (A_{k, 1}, A_{k, 2}, ..., A_{k, l}))), QCIRCUIT(VertExprArray((B_{1, 1}, B_{1, 2}, ..., B_{1, l}), (B_{2, 1}, B_{2, 2}, ..., B_{2, l}), ..., (B_{k, 1}, B_{k, 2}, ..., B_{k, l}))))\n",
       "    core type: ExprTuple\n",
       "    sub-expressions: 16, 17\n",
       "14. =\n",
       "    core type: Literal\n",
       "    sub-expressions: \n",
       "15. (VertExprArray((A_{1, 1}, A_{1, 2}, ..., A_{1, l}), (A_{2, 1}, A_{2, 2}, ..., A_{2, l}), ..., (A_{k, 1}, A_{k, 2}, ..., A_{k, l})), VertExprArray((B_{1, 1}, B_{1, 2}, ..., B_{1, l}), (B_{2, 1}, B_{2, 2}, ..., B_{2, l}), ..., (B_{k, 1}, B_{k, 2}, ..., B_{k, l})))\n",
       "    core type: ExprTuple\n",
       "    sub-expressions: 18, 20\n",
       "16. QCIRCUIT(VertExprArray((A_{1, 1}, A_{1, 2}, ..., A_{1, l}), (A_{2, 1}, A_{2, 2}, ..., A_{2, l}), ..., (A_{k, 1}, A_{k, 2}, ..., A_{k, l})))\n",
       "    core type: Operation\n",
       "    operator: 19\n",
       "    operands: 18\n",
       "17. QCIRCUIT(VertExprArray((B_{1, 1}, B_{1, 2}, ..., B_{1, l}), (B_{2, 1}, B_{2, 2}, ..., B_{2, l}), ..., (B_{k, 1}, B_{k, 2}, ..., B_{k, l})))\n",
       "    core type: Operation\n",
       "    operator: 19\n",
       "    operands: 20\n",
       "18. VertExprArray((A_{1, 1}, A_{1, 2}, ..., A_{1, l}), (A_{2, 1}, A_{2, 2}, ..., A_{2, l}), ..., (A_{k, 1}, A_{k, 2}, ..., A_{k, l}))\n",
       "    core type: ExprTuple\n",
       "    sub-expressions: 21\n",
       "19. QCIRCUIT\n",
       "    core type: Literal\n",
       "    sub-expressions: \n",
       "20. VertExprArray((B_{1, 1}, B_{1, 2}, ..., B_{1, l}), (B_{2, 1}, B_{2, 2}, ..., B_{2, l}), ..., (B_{k, 1}, B_{k, 2}, ..., B_{k, l}))\n",
       "    core type: ExprTuple\n",
       "    sub-expressions: 22\n",
       "21. (A_{1, 1}, A_{1, 2}, ..., A_{1, l}), (A_{2, 1}, A_{2, 2}, ..., A_{2, l}), ..., (A_{k, 1}, A_{k, 2}, ..., A_{k, l})\n",
       "    core type: ExprRange\n",
       "    lambda_map: 23\n",
       "    start_index: 33\n",
       "    end_index: 25\n",
       "22. (B_{1, 1}, B_{1, 2}, ..., B_{1, l}), (B_{2, 1}, B_{2, 2}, ..., B_{2, l}), ..., (B_{k, 1}, B_{k, 2}, ..., B_{k, l})\n",
       "    core type: ExprRange\n",
       "    lambda_map: 24\n",
       "    start_index: 33\n",
       "    end_index: 25\n",
       "23. _b -> (A_{_b, 1}, A_{_b, 2}, ..., A_{_b, l})\n",
       "    core type: Lambda\n",
       "    parameter: 41\n",
       "    body: 26\n",
       "24. _b -> (B_{_b, 1}, B_{_b, 2}, ..., B_{_b, l})\n",
       "    core type: Lambda\n",
       "    parameter: 41\n",
       "    body: 28\n",
       "25. k\n",
       "    core type: Variable\n",
       "    sub-expressions: \n",
       "26. (A_{_b, 1}, A_{_b, 2}, ..., A_{_b, l})\n",
       "    core type: ExprTuple\n",
       "    sub-expressions: 29\n",
       "27. (_b)\n",
       "    core type: ExprTuple\n",
       "    sub-expressions: 41\n",
       "28. (B_{_b, 1}, B_{_b, 2}, ..., B_{_b, l})\n",
       "    core type: ExprTuple\n",
       "    sub-expressions: 30\n",
       "29. A_{_b, 1}, A_{_b, 2}, ..., A_{_b, l}\n",
       "    core type: ExprRange\n",
       "    lambda_map: 31\n",
       "    start_index: 33\n",
       "    end_index: 34\n",
       "30. B_{_b, 1}, B_{_b, 2}, ..., B_{_b, l}\n",
       "    core type: ExprRange\n",
       "    lambda_map: 32\n",
       "    start_index: 33\n",
       "    end_index: 34\n",
       "31. _a -> A_{_b, _a}\n",
       "    core type: Lambda\n",
       "    parameter: 42\n",
       "    body: 35\n",
       "32. _a -> B_{_b, _a}\n",
       "    core type: Lambda\n",
       "    parameter: 42\n",
       "    body: 37\n",
       "33. 1\n",
       "    core type: Literal\n",
       "    sub-expressions: \n",
       "34. l\n",
       "    core type: Variable\n",
       "    sub-expressions: \n",
       "35. A_{_b, _a}\n",
       "    core type: IndexedVar\n",
       "variable: 38\n",
       "indices: 40\n",
       "36. (_a)\n",
       "    core type: ExprTuple\n",
       "    sub-expressions: 42\n",
       "37. B_{_b, _a}\n",
       "    core type: IndexedVar\n",
       "variable: 39\n",
       "indices: 40\n",
       "38. A\n",
       "    core type: Variable\n",
       "    sub-expressions: \n",
       "39. B\n",
       "    core type: Variable\n",
       "    sub-expressions: \n",
       "40. (_b, _a)\n",
       "    core type: ExprTuple\n",
       "    sub-expressions: 41, 42\n",
       "41. _b\n",
       "    core type: Variable\n",
       "    sub-expressions: \n",
       "42. _a\n",
       "    core type: Variable\n",
       "    sub-expressions: "
      ]
     },
     "metadata": {},
     "output_type": "display_data"
    }
   ],
   "source": [
    "# display the expression information\n",
    "stored_expr.expr_info()"
   ]
  },
  {
   "cell_type": "code",
   "execution_count": null,
   "metadata": {},
   "outputs": [],
   "source": []
  }
 ],
 "metadata": {
  "kernelspec": {
   "display_name": "Python 3",
   "language": "python",
   "name": "python3"
  }
 },
 "nbformat": 4,
 "nbformat_minor": 0
}