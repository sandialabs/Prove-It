{
 "cells": [
  {
   "cell_type": "markdown",
   "metadata": {},
   "source": [
    "Expression of type <a class=\"ProveItLink\" href=\"../../../../../../../../doc/html/api/proveit.ExprTuple.html\">ExprTuple</a>\n",
    "=======================\n",
    "# from the theory of <a class=\"ProveItLink\" href=\"../../../_theory_nbs_/theory.ipynb\">proveit.physics.quantum.circuits</a>"
   ]
  },
  {
   "cell_type": "code",
   "execution_count": 1,
   "metadata": {},
   "outputs": [],
   "source": [
    "import proveit\n",
    "# Automation is not needed when building an expression:\n",
    "proveit.defaults.automation = False # This will speed things up.\n",
    "proveit.defaults.inline_pngs = False # Makes files smaller.\n",
    "%load_expr # Load the stored expression as 'stored_expr'\n",
    "# import Expression classes needed to build the expression\n",
    "from proveit import Conditional, ConditionalSet, ExprRange, ExprTuple, IndexedVar, U, Variable, m, t\n",
    "from proveit.logic import Equals, NotEquals, Set\n",
    "from proveit.numbers import Add, Interval, one\n",
    "from proveit.physics.quantum import CONTROL, I\n",
    "from proveit.physics.quantum.circuits import Gate, MultiQubitElem"
   ]
  },
  {
   "cell_type": "code",
   "execution_count": 2,
   "metadata": {},
   "outputs": [
    {
     "data": {
      "text/html": [
       "<strong id=\"expr\">expr:</strong> <a class=\"ProveItLink\" href=\"expr.ipynb\"><img src=\"expr.png\" style=\"display:inline;vertical-align:middle;\" /></a><br>"
      ],
      "text/plain": [
       "<IPython.core.display.HTML object>"
      ]
     },
     "metadata": {},
     "output_type": "display_data"
    }
   ],
   "source": [
    "# build up the expression from sub-expressions\n",
    "sub_expr1 = Variable(\"_a\", latex_format = r\"{_{-}a}\")\n",
    "sub_expr2 = Variable(\"_b\", latex_format = r\"{_{-}b}\")\n",
    "sub_expr3 = Add(t, one)\n",
    "expr = ExprTuple(ExprRange(sub_expr1, ConditionalSet(Conditional(MultiQubitElem(element = CONTROL, targets = Set(sub_expr3)), Equals(sub_expr2, sub_expr1)), Conditional(Gate(operation = I).with_implicit_representation(), NotEquals(sub_expr2, sub_expr1))), one, t).with_case_simplification(), ExprRange(sub_expr1, MultiQubitElem(element = Gate(operation = IndexedVar(U, sub_expr2), part = sub_expr1), targets = Interval(sub_expr3, Add(t, m))), one, m))"
   ]
  },
  {
   "cell_type": "code",
   "execution_count": 3,
   "metadata": {},
   "outputs": [
    {
     "name": "stdout",
     "output_type": "stream",
     "text": [
      "Passed sanity check: expr matches stored_expr\n"
     ]
    }
   ],
   "source": [
    "# check that the built expression is the same as the stored expression\n",
    "assert expr == stored_expr\n",
    "assert expr._style_id == stored_expr._style_id\n",
    "print(\"Passed sanity check: expr matches stored_expr\")"
   ]
  },
  {
   "cell_type": "code",
   "execution_count": 4,
   "metadata": {},
   "outputs": [
    {
     "name": "stdout",
     "output_type": "stream",
     "text": [
      "\\left(\\left\\{\\begin{array}{ccc}\\begin{array}{c} \\Qcircuit@C=1em @R=.7em{\n",
      "& & \\gate{CONTROL~\\mbox{on}~\\left\\{t + 1\\right\\}} & \\qw \n",
      "} \\end{array} \\textrm{ if } {_{-}b} = 1 \\\\ \\begin{array}{c} \\Qcircuit@C=1em @R=.7em{\n",
      "& & \\qw & \\qw \n",
      "} \\end{array} \\textrm{ if } {_{-}b} \\neq 1\\end{array}\\right.., \\left\\{\\begin{array}{ccc}\\begin{array}{c} \\Qcircuit@C=1em @R=.7em{\n",
      "& & \\gate{CONTROL~\\mbox{on}~\\left\\{t + 1\\right\\}} & \\qw \n",
      "} \\end{array} \\textrm{ if } {_{-}b} = 2 \\\\ \\begin{array}{c} \\Qcircuit@C=1em @R=.7em{\n",
      "& & \\qw & \\qw \n",
      "} \\end{array} \\textrm{ if } {_{-}b} \\neq 2\\end{array}\\right.., \\ldots, \\left\\{\\begin{array}{ccc}\\begin{array}{c} \\Qcircuit@C=1em @R=.7em{\n",
      "& & \\gate{CONTROL~\\mbox{on}~\\left\\{t + 1\\right\\}} & \\qw \n",
      "} \\end{array} \\textrm{ if } {_{-}b} = t \\\\ \\begin{array}{c} \\Qcircuit@C=1em @R=.7em{\n",
      "& & \\qw & \\qw \n",
      "} \\end{array} \\textrm{ if } {_{-}b} \\neq t\\end{array}\\right..,\\begin{array}{c} \\Qcircuit@C=1em @R=.7em{\n",
      "& & \\gate{U_{{_{-}b}}~\\mbox{part}~1~\\mbox{on}~\\{t + 1~\\ldotp \\ldotp~t + m\\}} & \\qw \n",
      "} \\end{array}, \\begin{array}{c} \\Qcircuit@C=1em @R=.7em{\n",
      "& & \\gate{U_{{_{-}b}}~\\mbox{part}~2~\\mbox{on}~\\{t + 1~\\ldotp \\ldotp~t + m\\}} & \\qw \n",
      "} \\end{array}, \\ldots, \\begin{array}{c} \\Qcircuit@C=1em @R=.7em{\n",
      "& & \\gate{U_{{_{-}b}}~\\mbox{part}~m~\\mbox{on}~\\{t + 1~\\ldotp \\ldotp~t + m\\}} & \\qw \n",
      "} \\end{array}\\right)\n"
     ]
    }
   ],
   "source": [
    "# Show the LaTeX representation of the expression for convenience if you need it.\n",
    "print(stored_expr.latex())"
   ]
  },
  {
   "cell_type": "code",
   "execution_count": 5,
   "metadata": {},
   "outputs": [
    {
     "data": {
      "text/html": [
       "<table>\n",
       "<tr><th>name</th><th>description</th><th>default</th><th>current value</th><th>related methods</th></tr><tr><td>wrap_positions</td><td>position(s) at which wrapping is to occur; 'n' is after the nth comma.</td><td>()</td><td>()</td><td>('with_wrapping_at',)</td></tr>\n",
       "<tr><td>justification</td><td>if any wrap positions are set, justify to the 'left', 'center', or 'right'</td><td>left</td><td>left</td><td>('with_justification',)</td></tr>\n",
       "</table>\n"
      ],
      "text/plain": [
       "style name: wrap_positions\n",
       "description: position(s) at which wrapping is to occur; 'n' is after the nth comma.\n",
       "default: ()\n",
       "current value: ()\n",
       "related methods: ('with_wrapping_at',)\n",
       "style name: justification\n",
       "description: if any wrap positions are set, justify to the 'left', 'center', or 'right'\n",
       "default: left\n",
       "current value: left\n",
       "related methods: ('with_justification',)"
      ]
     },
     "metadata": {},
     "output_type": "display_data"
    }
   ],
   "source": [
    "stored_expr.style_options()"
   ]
  },
  {
   "cell_type": "code",
   "execution_count": 6,
   "metadata": {},
   "outputs": [
    {
     "data": {
      "text/html": [
       "<table><tr><th>&nbsp;</th><th>core type</th><th>sub-expressions</th><th>expression</th></tr>\n",
       "<tr><td>0</td><td>ExprTuple</td><td>1, 2</td><td><a class=\"ProveItLink\" href=\"expr.ipynb\"><img src=\"expr.png\" style=\"display:inline;vertical-align:middle;\" /></a></td></tr>\n",
       "<tr><td>1</td><td>ExprRange</td><td>lambda_map:&nbsp;3<br>start_index:&nbsp;46<br>end_index:&nbsp;45<br></td><td><a class=\"ProveItLink\" href=\"../3539baab37c1e441d3e01ee99b285f4b41affefc0/expr.ipynb\"><img src=\"../3539baab37c1e441d3e01ee99b285f4b41affefc0/expr.png\" style=\"display:inline;vertical-align:middle;\" /></a></td></tr>\n",
       "<tr><td>2</td><td>ExprRange</td><td>lambda_map:&nbsp;4<br>start_index:&nbsp;46<br>end_index:&nbsp;41<br></td><td><a class=\"ProveItLink\" href=\"../a65589597c3170a03874b4afd7bb7ee78e9630b50/expr.ipynb\"><img src=\"../a65589597c3170a03874b4afd7bb7ee78e9630b50/expr.png\" style=\"display:inline;vertical-align:middle;\" /></a></td></tr>\n",
       "<tr><td>3</td><td>Lambda</td><td>parameter:&nbsp;34<br>body:&nbsp;5<br></td><td><a class=\"ProveItLink\" href=\"../6709accf0a09875a7ec0a2e4d0d26187333442130/expr.ipynb\"><img src=\"../6709accf0a09875a7ec0a2e4d0d26187333442130/expr.png\" style=\"display:inline;vertical-align:middle;\" /></a></td></tr>\n",
       "<tr><td>4</td><td>Lambda</td><td>parameter:&nbsp;34<br>body:&nbsp;7<br></td><td><a class=\"ProveItLink\" href=\"../49a36fb33a8d86cf8cf4b795ba24ca94ae8576910/expr.ipynb\"><img src=\"../49a36fb33a8d86cf8cf4b795ba24ca94ae8576910/expr.png\" style=\"display:inline;vertical-align:middle;\" /></a></td></tr>\n",
       "<tr><td>5</td><td>Operation</td><td>operator:&nbsp;8<br>operands:&nbsp;9<br></td><td><a class=\"ProveItLink\" href=\"../02f7a00e95a7902a2cedd861cfcf1d8c6ad741660/expr.ipynb\"><img src=\"../02f7a00e95a7902a2cedd861cfcf1d8c6ad741660/expr.png\" style=\"display:inline;vertical-align:middle;\" /></a></td></tr>\n",
       "<tr><td>6</td><td>ExprTuple</td><td>34</td><td><a class=\"ProveItLink\" href=\"../../../../../../core_expr_types/__pv_it/common/4b0dd6be36d76552eda6a95d5b4a27f5a5b62f900/expr.ipynb\"><img src=\"../../../../../../core_expr_types/__pv_it/common/4b0dd6be36d76552eda6a95d5b4a27f5a5b62f900/expr.png\" style=\"display:inline;vertical-align:middle;\" /></a></td></tr>\n",
       "<tr><td>7</td><td>Operation</td><td>operator:&nbsp;22<br>operands:&nbsp;10<br></td><td><a class=\"ProveItLink\" href=\"../976d771a139ac0a44f500ab93bdb4410b7a08c100/expr.ipynb\"><img src=\"../976d771a139ac0a44f500ab93bdb4410b7a08c100/expr.png\" style=\"display:inline;vertical-align:middle;\" /></a></td></tr>\n",
       "<tr><td>8</td><td>Literal</td><td></td><td><a class=\"ProveItLink\" href=\"../83d667c64f29f6c733f867a4bce407455c5de51e0/expr.ipynb\"><img src=\"../../../../../_core_/expression/conditional/__pv_it/common/83d667c64f29f6c733f867a4bce407455c5de51e0/expr.png\" style=\"display:inline;vertical-align:middle;\" /></a></td></tr>\n",
       "<tr><td>9</td><td>ExprTuple</td><td>11, 12</td><td><a class=\"ProveItLink\" href=\"../f60e9b96fefb010ebfbbd1f343268b75e896af510/expr.ipynb\"><img src=\"../f60e9b96fefb010ebfbbd1f343268b75e896af510/expr.png\" style=\"display:inline;vertical-align:middle;\" /></a></td></tr>\n",
       "<tr><td>10</td><td>NamedExprs</td><td>element: 13<br>targets: 14<br></td><td><a class=\"ProveItLink\" href=\"../bd6f650c9a6c93c064c5e2105547ec09b218e7880/expr.ipynb\"><img src=\"../bd6f650c9a6c93c064c5e2105547ec09b218e7880/expr.png\" style=\"display:inline;vertical-align:middle;\" /></a></td></tr>\n",
       "<tr><td>11</td><td>Conditional</td><td>value:&nbsp;15<br>condition:&nbsp;16<br></td><td><a class=\"ProveItLink\" href=\"../6c7feed96cd4a7a810fe1ca119bd1193c6d3d21d0/expr.ipynb\"><img src=\"../6c7feed96cd4a7a810fe1ca119bd1193c6d3d21d0/expr.png\" style=\"display:inline;vertical-align:middle;\" /></a></td></tr>\n",
       "<tr><td>12</td><td>Conditional</td><td>value:&nbsp;17<br>condition:&nbsp;18<br></td><td><a class=\"ProveItLink\" href=\"../d3ca5f66f68b61401c4df896a1ae3011ebb25d5d0/expr.ipynb\"><img src=\"../d3ca5f66f68b61401c4df896a1ae3011ebb25d5d0/expr.png\" style=\"display:inline;vertical-align:middle;\" /></a></td></tr>\n",
       "<tr><td>13</td><td>Operation</td><td>operator:&nbsp;25<br>operands:&nbsp;19<br></td><td><a class=\"ProveItLink\" href=\"../3028146b31aebb52638bea8c1ede5d1e79eea08e0/expr.ipynb\"><img src=\"../3028146b31aebb52638bea8c1ede5d1e79eea08e0/expr.png\" style=\"display:inline;vertical-align:middle;\" /></a></td></tr>\n",
       "<tr><td>14</td><td>Operation</td><td>operator:&nbsp;20<br>operands:&nbsp;21<br></td><td><a class=\"ProveItLink\" href=\"../85ee552673eb4fd7d6d4c4f942a23d65f60f2fe30/expr.ipynb\"><img src=\"../85ee552673eb4fd7d6d4c4f942a23d65f60f2fe30/expr.png\" style=\"display:inline;vertical-align:middle;\" /></a></td></tr>\n",
       "<tr><td>15</td><td>Operation</td><td>operator:&nbsp;22<br>operands:&nbsp;23<br></td><td><a class=\"ProveItLink\" href=\"../943c1a991fab5dea8c6c47f32f8b20160043d3c50/expr.ipynb\"><img src=\"../943c1a991fab5dea8c6c47f32f8b20160043d3c50/expr.png\" style=\"display:inline;vertical-align:middle;\" /></a></td></tr>\n",
       "<tr><td>16</td><td>Operation</td><td>operator:&nbsp;24<br>operands:&nbsp;28<br></td><td><a class=\"ProveItLink\" href=\"../dfeb54a7824fe24f4fd111e69d7f7a3589aa12280/expr.ipynb\"><img src=\"../dfeb54a7824fe24f4fd111e69d7f7a3589aa12280/expr.png\" style=\"display:inline;vertical-align:middle;\" /></a></td></tr>\n",
       "<tr><td>17</td><td>Operation</td><td>operator:&nbsp;25<br>operands:&nbsp;26<br></td><td><a class=\"ProveItLink\" href=\"../3503baca64886f46b3e1879abd140991d3d5b9850/expr.ipynb\"><img src=\"../3503baca64886f46b3e1879abd140991d3d5b9850/expr.png\" style=\"display:inline;vertical-align:middle;\" /></a></td></tr>\n",
       "<tr><td>18</td><td>Operation</td><td>operator:&nbsp;27<br>operands:&nbsp;28<br></td><td><a class=\"ProveItLink\" href=\"../0e3a50db27a49cf202abb762d1083a8a4878308c0/expr.ipynb\"><img src=\"../0e3a50db27a49cf202abb762d1083a8a4878308c0/expr.png\" style=\"display:inline;vertical-align:middle;\" /></a></td></tr>\n",
       "<tr><td>19</td><td>NamedExprs</td><td>operation: 29<br>part: 34<br></td><td><a class=\"ProveItLink\" href=\"../93316e073c33e056533c7908cf379d29ce33d0830/expr.ipynb\"><img src=\"../93316e073c33e056533c7908cf379d29ce33d0830/expr.png\" style=\"display:inline;vertical-align:middle;\" /></a></td></tr>\n",
       "<tr><td>20</td><td>Literal</td><td></td><td><a class=\"ProveItLink\" href=\"../../../../../../numbers/number_sets/integers/__pv_it/common/92f3a0a77e3c3ea8e4a5c8674edadc54e4f57d550/expr.ipynb\"><img src=\"../../../../../../numbers/number_sets/integers/__pv_it/common/92f3a0a77e3c3ea8e4a5c8674edadc54e4f57d550/expr.png\" style=\"display:inline;vertical-align:middle;\" /></a></td></tr>\n",
       "<tr><td>21</td><td>ExprTuple</td><td>42, 30</td><td><a class=\"ProveItLink\" href=\"../66fe906819e9c2a7d8e9576ce8825f0ded65bc300/expr.ipynb\"><img src=\"../66fe906819e9c2a7d8e9576ce8825f0ded65bc300/expr.png\" style=\"display:inline;vertical-align:middle;\" /></a></td></tr>\n",
       "<tr><td>22</td><td>Literal</td><td></td><td><a class=\"ProveItLink\" href=\"../5eaa43008f05c06941080a12337ff182ea14996e0/expr.ipynb\"><img src=\"../5eaa43008f05c06941080a12337ff182ea14996e0/expr.png\" style=\"display:inline;vertical-align:middle;\" /></a></td></tr>\n",
       "<tr><td>23</td><td>NamedExprs</td><td>element: 31<br>targets: 32<br></td><td><a class=\"ProveItLink\" href=\"../daede2f32d9bc55170fadeabdef2e2c63afdb4fb0/expr.ipynb\"><img src=\"../daede2f32d9bc55170fadeabdef2e2c63afdb4fb0/expr.png\" style=\"display:inline;vertical-align:middle;\" /></a></td></tr>\n",
       "<tr><td>24</td><td>Literal</td><td></td><td><a class=\"ProveItLink\" href=\"../../../../../../logic/equality/__pv_it/common/fb96dc12b2aa8801dda64d0132b396c63d1502bb0/expr.ipynb\"><img src=\"../../../../../../logic/equality/__pv_it/common/fb96dc12b2aa8801dda64d0132b396c63d1502bb0/expr.png\" style=\"display:inline;vertical-align:middle;\" /></a></td></tr>\n",
       "<tr><td>25</td><td>Literal</td><td></td><td><a class=\"ProveItLink\" href=\"../ead8f6f18d2b8c24f1ed8db33df594edd77c9bcc0/expr.ipynb\"><img src=\"../ead8f6f18d2b8c24f1ed8db33df594edd77c9bcc0/expr.png\" style=\"display:inline;vertical-align:middle;\" /></a></td></tr>\n",
       "<tr><td>26</td><td>NamedExprs</td><td>operation: 33<br></td><td><a class=\"ProveItLink\" href=\"../4c602428e5a38ea20d603c6070910e44aaa6b0590/expr.ipynb\"><img src=\"../4c602428e5a38ea20d603c6070910e44aaa6b0590/expr.png\" style=\"display:inline;vertical-align:middle;\" /></a></td></tr>\n",
       "<tr><td>27</td><td>Literal</td><td></td><td><a class=\"ProveItLink\" href=\"../../../../../../logic/equality/__pv_it/common/d96270bc9bb1bad54f773b1c04bfb343a739642c0/expr.ipynb\"><img src=\"../../../../../../logic/equality/__pv_it/common/d96270bc9bb1bad54f773b1c04bfb343a739642c0/expr.png\" style=\"display:inline;vertical-align:middle;\" /></a></td></tr>\n",
       "<tr><td>28</td><td>ExprTuple</td><td>40, 34</td><td><a class=\"ProveItLink\" href=\"../../../../../../core_expr_types/expr_arrays/__pv_it/common/c899820ca7633ea1589f21e8e039aa4da91850d80/expr.ipynb\"><img src=\"../../../../../../core_expr_types/expr_arrays/__pv_it/common/c899820ca7633ea1589f21e8e039aa4da91850d80/expr.png\" style=\"display:inline;vertical-align:middle;\" /></a></td></tr>\n",
       "<tr><td>29</td><td>IndexedVar</td><td>variable:&nbsp;35<br>index:&nbsp;40<br></td><td><a class=\"ProveItLink\" href=\"../e24f97261082d59690ad8f5ee6e9b416057691a60/expr.ipynb\"><img src=\"../e24f97261082d59690ad8f5ee6e9b416057691a60/expr.png\" style=\"display:inline;vertical-align:middle;\" /></a></td></tr>\n",
       "<tr><td>30</td><td>Operation</td><td>operator:&nbsp;43<br>operands:&nbsp;37<br></td><td><a class=\"ProveItLink\" href=\"../9e7411ea7789f924a9e78c255474289b77fd18840/expr.ipynb\"><img src=\"../9e7411ea7789f924a9e78c255474289b77fd18840/expr.png\" style=\"display:inline;vertical-align:middle;\" /></a></td></tr>\n",
       "<tr><td>31</td><td>Literal</td><td></td><td><a class=\"ProveItLink\" href=\"../../../../__pv_it/common/f3dc5d2a12aa7d8cdfd8981d2c35970c615f6b8e0/expr.ipynb\"><img src=\"../../../../__pv_it/common/f3dc5d2a12aa7d8cdfd8981d2c35970c615f6b8e0/expr.png\" style=\"display:inline;vertical-align:middle;\" /></a></td></tr>\n",
       "<tr><td>32</td><td>Operation</td><td>operator:&nbsp;38<br>operand:&nbsp;42<br></td><td><a class=\"ProveItLink\" href=\"../626f654b96ee64b615216a9ceefc03e45bb4a5f70/expr.ipynb\"><img src=\"../626f654b96ee64b615216a9ceefc03e45bb4a5f70/expr.png\" style=\"display:inline;vertical-align:middle;\" /></a></td></tr>\n",
       "<tr><td>33</td><td>Literal</td><td></td><td><a class=\"ProveItLink\" href=\"../../../../__pv_it/common/51b66f0810ce0726813ca9e4eb1f8747515d0d020/expr.ipynb\"><img src=\"../../../../__pv_it/common/51b66f0810ce0726813ca9e4eb1f8747515d0d020/expr.png\" style=\"display:inline;vertical-align:middle;\" /></a></td></tr>\n",
       "<tr><td>34</td><td>Variable</td><td></td><td><a class=\"ProveItLink\" href=\"../../../../../../core_expr_types/expr_arrays/__pv_it/common/006c465e50948aa2b52285e2de47974f741255cc0/expr.ipynb\"><img src=\"../../../../../../core_expr_types/expr_arrays/__pv_it/common/006c465e50948aa2b52285e2de47974f741255cc0/expr.png\" style=\"display:inline;vertical-align:middle;\" /></a></td></tr>\n",
       "<tr><td>35</td><td>Variable</td><td></td><td><a class=\"ProveItLink\" href=\"../../../../../../__pv_it/common/2586cdae2fd2785a5bcbf61f99f7aaf8229d775e0/expr.ipynb\"><img src=\"../../../../../../__pv_it/common/2586cdae2fd2785a5bcbf61f99f7aaf8229d775e0/expr.png\" style=\"display:inline;vertical-align:middle;\" /></a></td></tr>\n",
       "<tr><td>36</td><td>ExprTuple</td><td>40</td><td><a class=\"ProveItLink\" href=\"../../../../../../core_expr_types/expr_arrays/__pv_it/common/18f7318b68e45ff8356043b6e71619fa8450fb200/expr.ipynb\"><img src=\"../../../../../../core_expr_types/expr_arrays/__pv_it/common/18f7318b68e45ff8356043b6e71619fa8450fb200/expr.png\" style=\"display:inline;vertical-align:middle;\" /></a></td></tr>\n",
       "<tr><td>37</td><td>ExprTuple</td><td>45, 41</td><td><a class=\"ProveItLink\" href=\"../739ab5362c4599c2c8fd5547d785e33c32ff08900/expr.ipynb\"><img src=\"../739ab5362c4599c2c8fd5547d785e33c32ff08900/expr.png\" style=\"display:inline;vertical-align:middle;\" /></a></td></tr>\n",
       "<tr><td>38</td><td>Literal</td><td></td><td><a class=\"ProveItLink\" href=\"../../../../../../logic/sets/enumeration/__pv_it/common/0ead90ccbf4f17bc585a51f8aa904bb77916ae6e0/expr.ipynb\"><img src=\"../../../../../../logic/sets/enumeration/__pv_it/common/0ead90ccbf4f17bc585a51f8aa904bb77916ae6e0/expr.png\" style=\"display:inline;vertical-align:middle;\" /></a></td></tr>\n",
       "<tr><td>39</td><td>ExprTuple</td><td>42</td><td><a class=\"ProveItLink\" href=\"../b6b9cea1281c9a524f0c70d75fe950c9a53d13aa0/expr.ipynb\"><img src=\"../b6b9cea1281c9a524f0c70d75fe950c9a53d13aa0/expr.png\" style=\"display:inline;vertical-align:middle;\" /></a></td></tr>\n",
       "<tr><td>40</td><td>Variable</td><td></td><td><a class=\"ProveItLink\" href=\"../../../../../../core_expr_types/expr_arrays/__pv_it/common/9a18d67b443cf8d92289c655ed91ec78766170a90/expr.ipynb\"><img src=\"../../../../../../core_expr_types/expr_arrays/__pv_it/common/9a18d67b443cf8d92289c655ed91ec78766170a90/expr.png\" style=\"display:inline;vertical-align:middle;\" /></a></td></tr>\n",
       "<tr><td>41</td><td>Variable</td><td></td><td><a class=\"ProveItLink\" href=\"../../../../../../__pv_it/common/674a03b9c3ca221b3aabd5636837b31528ff33830/expr.ipynb\"><img src=\"../../../../../../__pv_it/common/674a03b9c3ca221b3aabd5636837b31528ff33830/expr.png\" style=\"display:inline;vertical-align:middle;\" /></a></td></tr>\n",
       "<tr><td>42</td><td>Operation</td><td>operator:&nbsp;43<br>operands:&nbsp;44<br></td><td><a class=\"ProveItLink\" href=\"../da3a9b7cb1fc73dc54679e3aad35b8e91b8d8f820/expr.ipynb\"><img src=\"../da3a9b7cb1fc73dc54679e3aad35b8e91b8d8f820/expr.png\" style=\"display:inline;vertical-align:middle;\" /></a></td></tr>\n",
       "<tr><td>43</td><td>Literal</td><td></td><td><a class=\"ProveItLink\" href=\"../../../../../../numbers/addition/__pv_it/common/4b7effaab3619a1c2c38fe2dee8601df8ec714590/expr.ipynb\"><img src=\"../../../../../../numbers/addition/__pv_it/common/4b7effaab3619a1c2c38fe2dee8601df8ec714590/expr.png\" style=\"display:inline;vertical-align:middle;\" /></a></td></tr>\n",
       "<tr><td>44</td><td>ExprTuple</td><td>45, 46</td><td><a class=\"ProveItLink\" href=\"../163d7569c6c27dcd1ee82c5775d619290779899c0/expr.ipynb\"><img src=\"../163d7569c6c27dcd1ee82c5775d619290779899c0/expr.png\" style=\"display:inline;vertical-align:middle;\" /></a></td></tr>\n",
       "<tr><td>45</td><td>Variable</td><td></td><td><a class=\"ProveItLink\" href=\"../../../../../../__pv_it/common/36861eae73a44b53d5b3b017ac6a3a9dae53bfba0/expr.ipynb\"><img src=\"../../../../../../__pv_it/common/36861eae73a44b53d5b3b017ac6a3a9dae53bfba0/expr.png\" style=\"display:inline;vertical-align:middle;\" /></a></td></tr>\n",
       "<tr><td>46</td><td>Literal</td><td></td><td><a class=\"ProveItLink\" href=\"../../../../../../numbers/numerals/__pv_it/common/682157d4892d216d9e5626ed533aff9b56b9506e0/expr.ipynb\"><img src=\"../../../../../../numbers/numerals/__pv_it/common/682157d4892d216d9e5626ed533aff9b56b9506e0/expr.png\" style=\"display:inline;vertical-align:middle;\" /></a></td></tr>\n",
       "</table>\n"
      ],
      "text/plain": [
       "0. ({[MULTI_QUBIT_ELEM]{element:CONTROL, targets:{t + 1}} if _b = 1; [GATE]{operation:I} if _b != 1., {[MULTI_QUBIT_ELEM]{element:CONTROL, targets:{t + 1}} if _b = 2; [GATE]{operation:I} if _b != 2., ..., {[MULTI_QUBIT_ELEM]{element:CONTROL, targets:{t + 1}} if _b = t; [GATE]{operation:I} if _b != t.,[MULTI_QUBIT_ELEM]{element:[GATE]{operation:U_{_b}, part:1}, targets:{t + 1 .. t + m}}, [MULTI_QUBIT_ELEM]{element:[GATE]{operation:U_{_b}, part:2}, targets:{t + 1 .. t + m}}, ..., [MULTI_QUBIT_ELEM]{element:[GATE]{operation:U_{_b}, part:m}, targets:{t + 1 .. t + m}})\n",
       "   core type: ExprTuple\n",
       "   sub-expressions: 1, 2\n",
       "1. {[MULTI_QUBIT_ELEM]{element:CONTROL, targets:{t + 1}} if _b = 1; [GATE]{operation:I} if _b != 1., {[MULTI_QUBIT_ELEM]{element:CONTROL, targets:{t + 1}} if _b = 2; [GATE]{operation:I} if _b != 2., ..., {[MULTI_QUBIT_ELEM]{element:CONTROL, targets:{t + 1}} if _b = t; [GATE]{operation:I} if _b != t.\n",
       "   core type: ExprRange\n",
       "   lambda_map: 3\n",
       "   start_index: 46\n",
       "   end_index: 45\n",
       "2. [MULTI_QUBIT_ELEM]{element:[GATE]{operation:U_{_b}, part:1}, targets:{t + 1 .. t + m}}, [MULTI_QUBIT_ELEM]{element:[GATE]{operation:U_{_b}, part:2}, targets:{t + 1 .. t + m}}, ..., [MULTI_QUBIT_ELEM]{element:[GATE]{operation:U_{_b}, part:m}, targets:{t + 1 .. t + m}}\n",
       "   core type: ExprRange\n",
       "   lambda_map: 4\n",
       "   start_index: 46\n",
       "   end_index: 41\n",
       "3. _a -> {[MULTI_QUBIT_ELEM]{element:CONTROL, targets:{t + 1}} if _b = _a; [GATE]{operation:I} if _b != _a.\n",
       "   core type: Lambda\n",
       "   parameter: 34\n",
       "   body: 5\n",
       "4. _a -> [MULTI_QUBIT_ELEM]{element:[GATE]{operation:U_{_b}, part:_a}, targets:{t + 1 .. t + m}}\n",
       "   core type: Lambda\n",
       "   parameter: 34\n",
       "   body: 7\n",
       "5. {[MULTI_QUBIT_ELEM]{element:CONTROL, targets:{t + 1}} if _b = _a; [GATE]{operation:I} if _b != _a.\n",
       "   core type: Operation\n",
       "   operator: 8\n",
       "   operands: 9\n",
       "6. (_a)\n",
       "   core type: ExprTuple\n",
       "   sub-expressions: 34\n",
       "7. [MULTI_QUBIT_ELEM]{element:[GATE]{operation:U_{_b}, part:_a}, targets:{t + 1 .. t + m}}\n",
       "   core type: Operation\n",
       "   operator: 22\n",
       "   operands: 10\n",
       "8. CondSet\n",
       "   core type: Literal\n",
       "   sub-expressions: \n",
       "9. ([MULTI_QUBIT_ELEM]{element:CONTROL, targets:{t + 1}} if _b = _a, [GATE]{operation:I} if _b != _a)\n",
       "   core type: ExprTuple\n",
       "   sub-expressions: 11, 12\n",
       "10. {element:[GATE]{operation:U_{_b}, part:_a}, targets:{t + 1 .. t + m}}\n",
       "    core type: NamedExprs\n",
       "    element: 13\n",
       "    targets: 14\n",
       "11. {[MULTI_QUBIT_ELEM]{element:CONTROL, targets:{t + 1}} if _b = _a.\n",
       "    core type: Conditional\n",
       "    value: 15\n",
       "    condition: 16\n",
       "12. {[GATE]{operation:I} if _b != _a.\n",
       "    core type: Conditional\n",
       "    value: 17\n",
       "    condition: 18\n",
       "13. [GATE]{operation:U_{_b}, part:_a}\n",
       "    core type: Operation\n",
       "    operator: 25\n",
       "    operands: 19\n",
       "14. {t + 1 .. t + m}\n",
       "    core type: Operation\n",
       "    operator: 20\n",
       "    operands: 21\n",
       "15. [MULTI_QUBIT_ELEM]{element:CONTROL, targets:{t + 1}}\n",
       "    core type: Operation\n",
       "    operator: 22\n",
       "    operands: 23\n",
       "16. _b = _a\n",
       "    core type: Operation\n",
       "    operator: 24\n",
       "    operands: 28\n",
       "17. [GATE]{operation:I}\n",
       "    core type: Operation\n",
       "    operator: 25\n",
       "    operands: 26\n",
       "18. _b != _a\n",
       "    core type: Operation\n",
       "    operator: 27\n",
       "    operands: 28\n",
       "19. {operation:U_{_b}, part:_a}\n",
       "    core type: NamedExprs\n",
       "    operation: 29\n",
       "    part: 34\n",
       "20. Interval\n",
       "    core type: Literal\n",
       "    sub-expressions: \n",
       "21. (t + 1, t + m)\n",
       "    core type: ExprTuple\n",
       "    sub-expressions: 42, 30\n",
       "22. MULTI_QUBIT_ELEM\n",
       "    core type: Literal\n",
       "    sub-expressions: \n",
       "23. {element:CONTROL, targets:{t + 1}}\n",
       "    core type: NamedExprs\n",
       "    element: 31\n",
       "    targets: 32\n",
       "24. =\n",
       "    core type: Literal\n",
       "    sub-expressions: \n",
       "25. GATE\n",
       "    core type: Literal\n",
       "    sub-expressions: \n",
       "26. {operation:I}\n",
       "    core type: NamedExprs\n",
       "    operation: 33\n",
       "27. !=\n",
       "    core type: Literal\n",
       "    sub-expressions: \n",
       "28. (_b, _a)\n",
       "    core type: ExprTuple\n",
       "    sub-expressions: 40, 34\n",
       "29. U_{_b}\n",
       "    core type: IndexedVar\n",
       "variable: 35\n",
       "index: 40\n",
       "30. t + m\n",
       "    core type: Operation\n",
       "    operator: 43\n",
       "    operands: 37\n",
       "31. CONTROL\n",
       "    core type: Literal\n",
       "    sub-expressions: \n",
       "32. {t + 1}\n",
       "    core type: Operation\n",
       "    operator: 38\n",
       "    operand: 42\n",
       "33. I\n",
       "    core type: Literal\n",
       "    sub-expressions: \n",
       "34. _a\n",
       "    core type: Variable\n",
       "    sub-expressions: \n",
       "35. U\n",
       "    core type: Variable\n",
       "    sub-expressions: \n",
       "36. (_b)\n",
       "    core type: ExprTuple\n",
       "    sub-expressions: 40\n",
       "37. (t, m)\n",
       "    core type: ExprTuple\n",
       "    sub-expressions: 45, 41\n",
       "38. Set\n",
       "    core type: Literal\n",
       "    sub-expressions: \n",
       "39. (t + 1)\n",
       "    core type: ExprTuple\n",
       "    sub-expressions: 42\n",
       "40. _b\n",
       "    core type: Variable\n",
       "    sub-expressions: \n",
       "41. m\n",
       "    core type: Variable\n",
       "    sub-expressions: \n",
       "42. t + 1\n",
       "    core type: Operation\n",
       "    operator: 43\n",
       "    operands: 44\n",
       "43. +\n",
       "    core type: Literal\n",
       "    sub-expressions: \n",
       "44. (t, 1)\n",
       "    core type: ExprTuple\n",
       "    sub-expressions: 45, 46\n",
       "45. t\n",
       "    core type: Variable\n",
       "    sub-expressions: \n",
       "46. 1\n",
       "    core type: Literal\n",
       "    sub-expressions: "
      ]
     },
     "metadata": {},
     "output_type": "display_data"
    }
   ],
   "source": [
    "# display the expression information\n",
    "stored_expr.expr_info()"
   ]
  },
  {
   "cell_type": "code",
   "execution_count": null,
   "metadata": {},
   "outputs": [],
   "source": []
  }
 ],
 "metadata": {
  "kernelspec": {
   "display_name": "Python 3",
   "language": "python",
   "name": "python3"
  }
 },
 "nbformat": 4,
 "nbformat_minor": 0
}