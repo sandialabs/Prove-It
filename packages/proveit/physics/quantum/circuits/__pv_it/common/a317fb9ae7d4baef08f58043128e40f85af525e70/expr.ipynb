{
 "cells": [
  {
   "cell_type": "markdown",
   "metadata": {},
   "source": [
    "Expression of type <a class=\"ProveItLink\" href=\"../../../../../../../../doc/html/api/proveit.ExprRange.html\">ExprRange</a>\n",
    "=======================\n",
    "# from the theory of <a class=\"ProveItLink\" href=\"../../../_theory_nbs_/theory.ipynb\">proveit.physics.quantum.circuits</a>"
   ]
  },
  {
   "cell_type": "code",
   "execution_count": 1,
   "metadata": {},
   "outputs": [],
   "source": [
    "import proveit\n",
    "# Automation is not needed when building an expression:\n",
    "proveit.defaults.automation = False # This will speed things up.\n",
    "proveit.defaults.inline_pngs = False # Makes files smaller.\n",
    "%load_expr # Load the stored expression as 'stored_expr'\n",
    "# import Expression classes needed to build the expression\n",
    "from proveit import ExprRange, IndexedVar, T, Variable, k, l, m\n",
    "from proveit.logic import Disjoint\n",
    "from proveit.numbers import Interval, one"
   ]
  },
  {
   "cell_type": "code",
   "execution_count": 2,
   "metadata": {},
   "outputs": [
    {
     "data": {
      "text/html": [
       "<strong id=\"expr\">expr:</strong> <a class=\"ProveItLink\" href=\"expr.ipynb\"><img src=\"expr.png\" style=\"display:inline;vertical-align:middle;\" /></a><br>"
      ],
      "text/plain": [
       "<IPython.core.display.HTML object>"
      ]
     },
     "metadata": {},
     "output_type": "display_data"
    }
   ],
   "source": [
    "# build up the expression from sub-expressions\n",
    "sub_expr1 = Variable(\"_b\", latex_format = r\"{_{-}b}\")\n",
    "sub_expr2 = Variable(\"_a\", latex_format = r\"{_{-}a}\")\n",
    "expr = ExprRange(sub_expr1, ExprRange(sub_expr2, Disjoint(IndexedVar(T, [sub_expr1, sub_expr2]), Interval(one, k)), one, m), one, l)"
   ]
  },
  {
   "cell_type": "code",
   "execution_count": 3,
   "metadata": {},
   "outputs": [
    {
     "name": "stdout",
     "output_type": "stream",
     "text": [
      "Passed sanity check: expr matches stored_expr\n"
     ]
    }
   ],
   "source": [
    "# check that the built expression is the same as the stored expression\n",
    "assert expr == stored_expr\n",
    "assert expr._style_id == stored_expr._style_id\n",
    "print(\"Passed sanity check: expr matches stored_expr\")"
   ]
  },
  {
   "cell_type": "code",
   "execution_count": 4,
   "metadata": {},
   "outputs": [
    {
     "name": "stdout",
     "output_type": "stream",
     "text": [
      "\\textrm{disjoint}\\left(T_{1, 1}, \\{1~\\ldotp \\ldotp~k\\}\\right), \\textrm{disjoint}\\left(T_{1, 2}, \\{1~\\ldotp \\ldotp~k\\}\\right), \\ldots, \\textrm{disjoint}\\left(T_{1, m}, \\{1~\\ldotp \\ldotp~k\\}\\right), \\textrm{disjoint}\\left(T_{2, 1}, \\{1~\\ldotp \\ldotp~k\\}\\right), \\textrm{disjoint}\\left(T_{2, 2}, \\{1~\\ldotp \\ldotp~k\\}\\right), \\ldots, \\textrm{disjoint}\\left(T_{2, m}, \\{1~\\ldotp \\ldotp~k\\}\\right), \\ldots\\ldots, \\textrm{disjoint}\\left(T_{l, 1}, \\{1~\\ldotp \\ldotp~k\\}\\right), \\textrm{disjoint}\\left(T_{l, 2}, \\{1~\\ldotp \\ldotp~k\\}\\right), \\ldots, \\textrm{disjoint}\\left(T_{l, m}, \\{1~\\ldotp \\ldotp~k\\}\\right)\n"
     ]
    }
   ],
   "source": [
    "# Show the LaTeX representation of the expression for convenience if you need it.\n",
    "print(stored_expr.latex())"
   ]
  },
  {
   "cell_type": "code",
   "execution_count": 5,
   "metadata": {},
   "outputs": [
    {
     "data": {
      "text/html": [
       "<table>\n",
       "<tr><th>name</th><th>description</th><th>default</th><th>current value</th><th>related methods</th></tr><tr><td>parameterization</td><td>'implicit' (default for LaTeX formatting) hides the parameter the ExprRange so the parameterization may be ambiguous (e.g., x_{1+1}, ..., x_{n+1}); 'explicit' (default for string formatting) reveals the parameterization (e.g. x_{1+1}, ..x_{k+1}.., x_{n+1}).</td><td>None</td><td>None/False</td><td>('with_explicit_parameterization', 'with_implicit_parameterization', 'with_default_parameterization_style')</td></tr>\n",
       "<tr><td>front_expansion</td><td>The number of instances to display at the front of the range (e.g., before the ellipsis). Default is 2.</td><td>2</td><td>2</td><td>('with_front_expansion', 'get_front_expansion')</td></tr>\n",
       "<tr><td>back_expansion</td><td>The number of instances to display at the back of the range (e.g., after the ellipsis). Default is 1.</td><td>1</td><td>1</td><td>('with_back_expansion', 'get_back_expansion')</td></tr>\n",
       "<tr><td>order</td><td>The default order is 'increasing' (a_1 ... a_3) but to represent a 'decreasing' ExprRange (a_6 ... a_2) the order must be set to 'decreasing'</td><td>increasing</td><td>increasing</td><td>('with_decreasing_order', 'with_increasing_order')</td></tr>\n",
       "<tr><td>wrap_positions</td><td>position(s) at which wrapping is to occur; 'n' is after the nth comma.</td><td>()</td><td>()</td><td>('with_wrapping_at',)</td></tr>\n",
       "<tr><td>case_simplify</td><td>If 'True', simplify formatted instances that are ConditionalSets under proper index assumptions</td><td>False</td><td>False</td><td>('with_case_simplification',)</td></tr>\n",
       "</table>\n"
      ],
      "text/plain": [
       "style name: parameterization\n",
       "description: 'implicit' (default for LaTeX formatting) hides the parameter the ExprRange so the parameterization may be ambiguous (e.g., x_{1+1}, ..., x_{n+1}); 'explicit' (default for string formatting) reveals the parameterization (e.g. x_{1+1}, ..x_{k+1}.., x_{n+1}).\n",
       "default: None\n",
       "current value: None/False\n",
       "related methods: ('with_explicit_parameterization', 'with_implicit_parameterization', 'with_default_parameterization_style')\n",
       "style name: front_expansion\n",
       "description: The number of instances to display at the front of the range (e.g., before the ellipsis). Default is 2.\n",
       "default: 2\n",
       "current value: 2\n",
       "related methods: ('with_front_expansion', 'get_front_expansion')\n",
       "style name: back_expansion\n",
       "description: The number of instances to display at the back of the range (e.g., after the ellipsis). Default is 1.\n",
       "default: 1\n",
       "current value: 1\n",
       "related methods: ('with_back_expansion', 'get_back_expansion')\n",
       "style name: order\n",
       "description: The default order is 'increasing' (a_1 ... a_3) but to represent a 'decreasing' ExprRange (a_6 ... a_2) the order must be set to 'decreasing'\n",
       "default: increasing\n",
       "current value: increasing\n",
       "related methods: ('with_decreasing_order', 'with_increasing_order')\n",
       "style name: wrap_positions\n",
       "description: position(s) at which wrapping is to occur; 'n' is after the nth comma.\n",
       "default: ()\n",
       "current value: ()\n",
       "related methods: ('with_wrapping_at',)\n",
       "style name: case_simplify\n",
       "description: If 'True', simplify formatted instances that are ConditionalSets under proper index assumptions\n",
       "default: False\n",
       "current value: False\n",
       "related methods: ('with_case_simplification',)"
      ]
     },
     "metadata": {},
     "output_type": "display_data"
    }
   ],
   "source": [
    "stored_expr.style_options()"
   ]
  },
  {
   "cell_type": "code",
   "execution_count": 6,
   "metadata": {},
   "outputs": [
    {
     "data": {
      "text/html": [
       "<table><tr><th>&nbsp;</th><th>core type</th><th>sub-expressions</th><th>expression</th></tr>\n",
       "<tr><td>0</td><td>ExprRange</td><td>lambda_map:&nbsp;1<br>start_index:&nbsp;19<br>end_index:&nbsp;2<br></td><td><a class=\"ProveItLink\" href=\"expr.ipynb\"><img src=\"expr.png\" style=\"display:inline;vertical-align:middle;\" /></a></td></tr>\n",
       "<tr><td>1</td><td>Lambda</td><td>parameter:&nbsp;17<br>body:&nbsp;4<br></td><td><a class=\"ProveItLink\" href=\"../9e9f70fa898074437db3df783037cdbd1b8c5a960/expr.ipynb\"><img src=\"../9e9f70fa898074437db3df783037cdbd1b8c5a960/expr.png\" style=\"display:inline;vertical-align:middle;\" /></a></td></tr>\n",
       "<tr><td>2</td><td>Variable</td><td></td><td><a class=\"ProveItLink\" href=\"../../../../../../__pv_it/common/27cc275d44b4f4499fb9ccfb3fab1a98165d2fa60/expr.ipynb\"><img src=\"../../../../../../__pv_it/common/27cc275d44b4f4499fb9ccfb3fab1a98165d2fa60/expr.png\" style=\"display:inline;vertical-align:middle;\" /></a></td></tr>\n",
       "<tr><td>3</td><td>ExprTuple</td><td>17</td><td><a class=\"ProveItLink\" href=\"../../../../../../core_expr_types/expr_arrays/__pv_it/common/18f7318b68e45ff8356043b6e71619fa8450fb200/expr.ipynb\"><img src=\"../../../../../../core_expr_types/expr_arrays/__pv_it/common/18f7318b68e45ff8356043b6e71619fa8450fb200/expr.png\" style=\"display:inline;vertical-align:middle;\" /></a></td></tr>\n",
       "<tr><td>4</td><td>ExprRange</td><td>lambda_map:&nbsp;5<br>start_index:&nbsp;19<br>end_index:&nbsp;6<br></td><td><a class=\"ProveItLink\" href=\"../9acf0b3d746cfc35d0ca397fa079befbaea217260/expr.ipynb\"><img src=\"../9acf0b3d746cfc35d0ca397fa079befbaea217260/expr.png\" style=\"display:inline;vertical-align:middle;\" /></a></td></tr>\n",
       "<tr><td>5</td><td>Lambda</td><td>parameter:&nbsp;18<br>body:&nbsp;8<br></td><td><a class=\"ProveItLink\" href=\"../4f18a29b3e8756e4be931c9857aa214896979d4a0/expr.ipynb\"><img src=\"../4f18a29b3e8756e4be931c9857aa214896979d4a0/expr.png\" style=\"display:inline;vertical-align:middle;\" /></a></td></tr>\n",
       "<tr><td>6</td><td>Variable</td><td></td><td><a class=\"ProveItLink\" href=\"../../../../../../__pv_it/common/674a03b9c3ca221b3aabd5636837b31528ff33830/expr.ipynb\"><img src=\"../../../../../../__pv_it/common/674a03b9c3ca221b3aabd5636837b31528ff33830/expr.png\" style=\"display:inline;vertical-align:middle;\" /></a></td></tr>\n",
       "<tr><td>7</td><td>ExprTuple</td><td>18</td><td><a class=\"ProveItLink\" href=\"../../../../../../core_expr_types/__pv_it/common/4b0dd6be36d76552eda6a95d5b4a27f5a5b62f900/expr.ipynb\"><img src=\"../../../../../../core_expr_types/__pv_it/common/4b0dd6be36d76552eda6a95d5b4a27f5a5b62f900/expr.png\" style=\"display:inline;vertical-align:middle;\" /></a></td></tr>\n",
       "<tr><td>8</td><td>Operation</td><td>operator:&nbsp;9<br>operands:&nbsp;10<br></td><td><a class=\"ProveItLink\" href=\"../80835c4934b4a93712b2bc75dcf5f1124ed216070/expr.ipynb\"><img src=\"../80835c4934b4a93712b2bc75dcf5f1124ed216070/expr.png\" style=\"display:inline;vertical-align:middle;\" /></a></td></tr>\n",
       "<tr><td>9</td><td>Literal</td><td></td><td><a class=\"ProveItLink\" href=\"../../../../../../logic/sets/disjointness/__pv_it/common/13e387fcf80c73e6cdeaf71ec8ea61a3061a80520/expr.ipynb\"><img src=\"../../../../../../logic/sets/disjointness/__pv_it/common/13e387fcf80c73e6cdeaf71ec8ea61a3061a80520/expr.png\" style=\"display:inline;vertical-align:middle;\" /></a></td></tr>\n",
       "<tr><td>10</td><td>ExprTuple</td><td>11, 12</td><td><a class=\"ProveItLink\" href=\"../131ec414ce74dfaff64e579196d3ba53dcef06590/expr.ipynb\"><img src=\"../131ec414ce74dfaff64e579196d3ba53dcef06590/expr.png\" style=\"display:inline;vertical-align:middle;\" /></a></td></tr>\n",
       "<tr><td>11</td><td>IndexedVar</td><td>variable:&nbsp;13<br>indices:&nbsp;14<br></td><td><a class=\"ProveItLink\" href=\"../40f3483a1f1998756b131ee144447e759efc02930/expr.ipynb\"><img src=\"../40f3483a1f1998756b131ee144447e759efc02930/expr.png\" style=\"display:inline;vertical-align:middle;\" /></a></td></tr>\n",
       "<tr><td>12</td><td>Operation</td><td>operator:&nbsp;15<br>operands:&nbsp;16<br></td><td><a class=\"ProveItLink\" href=\"../a8b7e69e51be1878195dc38a06157ebea6c529ef0/expr.ipynb\"><img src=\"../a8b7e69e51be1878195dc38a06157ebea6c529ef0/expr.png\" style=\"display:inline;vertical-align:middle;\" /></a></td></tr>\n",
       "<tr><td>13</td><td>Variable</td><td></td><td><a class=\"ProveItLink\" href=\"../../../../../../__pv_it/common/69c70dfa5f18cd09af12f2dcafa9764efe6f8cbd0/expr.ipynb\"><img src=\"../../../../../../__pv_it/common/69c70dfa5f18cd09af12f2dcafa9764efe6f8cbd0/expr.png\" style=\"display:inline;vertical-align:middle;\" /></a></td></tr>\n",
       "<tr><td>14</td><td>ExprTuple</td><td>17, 18</td><td><a class=\"ProveItLink\" href=\"../../../../../../core_expr_types/expr_arrays/__pv_it/common/c899820ca7633ea1589f21e8e039aa4da91850d80/expr.ipynb\"><img src=\"../../../../../../core_expr_types/expr_arrays/__pv_it/common/c899820ca7633ea1589f21e8e039aa4da91850d80/expr.png\" style=\"display:inline;vertical-align:middle;\" /></a></td></tr>\n",
       "<tr><td>15</td><td>Literal</td><td></td><td><a class=\"ProveItLink\" href=\"../../../../../../numbers/number_sets/integers/__pv_it/common/92f3a0a77e3c3ea8e4a5c8674edadc54e4f57d550/expr.ipynb\"><img src=\"../../../../../../numbers/number_sets/integers/__pv_it/common/92f3a0a77e3c3ea8e4a5c8674edadc54e4f57d550/expr.png\" style=\"display:inline;vertical-align:middle;\" /></a></td></tr>\n",
       "<tr><td>16</td><td>ExprTuple</td><td>19, 20</td><td><a class=\"ProveItLink\" href=\"../5f07297842aa7d8ed0c46d3d4896804c899607f00/expr.ipynb\"><img src=\"../5f07297842aa7d8ed0c46d3d4896804c899607f00/expr.png\" style=\"display:inline;vertical-align:middle;\" /></a></td></tr>\n",
       "<tr><td>17</td><td>Variable</td><td></td><td><a class=\"ProveItLink\" href=\"../../../../../../core_expr_types/expr_arrays/__pv_it/common/9a18d67b443cf8d92289c655ed91ec78766170a90/expr.ipynb\"><img src=\"../../../../../../core_expr_types/expr_arrays/__pv_it/common/9a18d67b443cf8d92289c655ed91ec78766170a90/expr.png\" style=\"display:inline;vertical-align:middle;\" /></a></td></tr>\n",
       "<tr><td>18</td><td>Variable</td><td></td><td><a class=\"ProveItLink\" href=\"../../../../../../core_expr_types/expr_arrays/__pv_it/common/006c465e50948aa2b52285e2de47974f741255cc0/expr.ipynb\"><img src=\"../../../../../../core_expr_types/expr_arrays/__pv_it/common/006c465e50948aa2b52285e2de47974f741255cc0/expr.png\" style=\"display:inline;vertical-align:middle;\" /></a></td></tr>\n",
       "<tr><td>19</td><td>Literal</td><td></td><td><a class=\"ProveItLink\" href=\"../../../../../../numbers/numerals/__pv_it/common/682157d4892d216d9e5626ed533aff9b56b9506e0/expr.ipynb\"><img src=\"../../../../../../numbers/numerals/__pv_it/common/682157d4892d216d9e5626ed533aff9b56b9506e0/expr.png\" style=\"display:inline;vertical-align:middle;\" /></a></td></tr>\n",
       "<tr><td>20</td><td>Variable</td><td></td><td><a class=\"ProveItLink\" href=\"../../../../../../__pv_it/common/63b7c64bf9ec7a04ecc396c7a1670f3f12fb59490/expr.ipynb\"><img src=\"../../../../../../__pv_it/common/63b7c64bf9ec7a04ecc396c7a1670f3f12fb59490/expr.png\" style=\"display:inline;vertical-align:middle;\" /></a></td></tr>\n",
       "</table>\n"
      ],
      "text/plain": [
       "0. disjoint(T_{1, 1}, {1 .. k}), disjoint(T_{1, 2}, {1 .. k}), ..., disjoint(T_{1, m}, {1 .. k}), disjoint(T_{2, 1}, {1 .. k}), disjoint(T_{2, 2}, {1 .. k}), ..., disjoint(T_{2, m}, {1 .. k}), ......, disjoint(T_{l, 1}, {1 .. k}), disjoint(T_{l, 2}, {1 .. k}), ..., disjoint(T_{l, m}, {1 .. k})\n",
       "   core type: ExprRange\n",
       "   lambda_map: 1\n",
       "   start_index: 19\n",
       "   end_index: 2\n",
       "1. _b -> disjoint(T_{_b, 1}, {1 .. k}), disjoint(T_{_b, 2}, {1 .. k}), ..., disjoint(T_{_b, m}, {1 .. k})\n",
       "   core type: Lambda\n",
       "   parameter: 17\n",
       "   body: 4\n",
       "2. l\n",
       "   core type: Variable\n",
       "   sub-expressions: \n",
       "3. (_b)\n",
       "   core type: ExprTuple\n",
       "   sub-expressions: 17\n",
       "4. disjoint(T_{_b, 1}, {1 .. k}), disjoint(T_{_b, 2}, {1 .. k}), ..., disjoint(T_{_b, m}, {1 .. k})\n",
       "   core type: ExprRange\n",
       "   lambda_map: 5\n",
       "   start_index: 19\n",
       "   end_index: 6\n",
       "5. _a -> disjoint(T_{_b, _a}, {1 .. k})\n",
       "   core type: Lambda\n",
       "   parameter: 18\n",
       "   body: 8\n",
       "6. m\n",
       "   core type: Variable\n",
       "   sub-expressions: \n",
       "7. (_a)\n",
       "   core type: ExprTuple\n",
       "   sub-expressions: 18\n",
       "8. disjoint(T_{_b, _a}, {1 .. k})\n",
       "   core type: Operation\n",
       "   operator: 9\n",
       "   operands: 10\n",
       "9. disjoint\n",
       "   core type: Literal\n",
       "   sub-expressions: \n",
       "10. (T_{_b, _a}, {1 .. k})\n",
       "    core type: ExprTuple\n",
       "    sub-expressions: 11, 12\n",
       "11. T_{_b, _a}\n",
       "    core type: IndexedVar\n",
       "variable: 13\n",
       "indices: 14\n",
       "12. {1 .. k}\n",
       "    core type: Operation\n",
       "    operator: 15\n",
       "    operands: 16\n",
       "13. T\n",
       "    core type: Variable\n",
       "    sub-expressions: \n",
       "14. (_b, _a)\n",
       "    core type: ExprTuple\n",
       "    sub-expressions: 17, 18\n",
       "15. Interval\n",
       "    core type: Literal\n",
       "    sub-expressions: \n",
       "16. (1, k)\n",
       "    core type: ExprTuple\n",
       "    sub-expressions: 19, 20\n",
       "17. _b\n",
       "    core type: Variable\n",
       "    sub-expressions: \n",
       "18. _a\n",
       "    core type: Variable\n",
       "    sub-expressions: \n",
       "19. 1\n",
       "    core type: Literal\n",
       "    sub-expressions: \n",
       "20. k\n",
       "    core type: Variable\n",
       "    sub-expressions: "
      ]
     },
     "metadata": {},
     "output_type": "display_data"
    }
   ],
   "source": [
    "# display the expression information\n",
    "stored_expr.expr_info()"
   ]
  },
  {
   "cell_type": "code",
   "execution_count": null,
   "metadata": {},
   "outputs": [],
   "source": []
  }
 ],
 "metadata": {
  "kernelspec": {
   "display_name": "Python 3",
   "language": "python",
   "name": "python3"
  }
 },
 "nbformat": 4,
 "nbformat_minor": 0
}