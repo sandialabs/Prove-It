{
 "cells": [
  {
   "cell_type": "markdown",
   "metadata": {},
   "source": [
    "Expression of type <a class=\"ProveItLink\" href=\"../../../../../../../../doc/html/api/proveit.VertExprArray.html\">VertExprArray</a>\n",
    "=======================\n",
    "# from the theory of <a class=\"ProveItLink\" href=\"../../../_theory_nbs_/theory.ipynb\">proveit.physics.quantum.circuits</a>"
   ]
  },
  {
   "cell_type": "code",
   "execution_count": 1,
   "metadata": {},
   "outputs": [],
   "source": [
    "import proveit\n",
    "# Automation is not needed when building an expression:\n",
    "proveit.defaults.automation = False # This will speed things up.\n",
    "proveit.defaults.inline_pngs = False # Makes files smaller.\n",
    "%load_expr # Load the stored expression as 'stored_expr'\n",
    "# import Expression classes needed to build the expression\n",
    "from proveit import A, C, ExprRange, IndexedVar, R, T, Variable, VertExprArray, k, l, m\n",
    "from proveit.numbers import one\n",
    "from proveit.physics.quantum.circuits import MultiQubitElem"
   ]
  },
  {
   "cell_type": "code",
   "execution_count": 2,
   "metadata": {},
   "outputs": [
    {
     "data": {
      "text/html": [
       "<strong id=\"expr\">expr:</strong> <a class=\"ProveItLink\" href=\"expr.ipynb\"><img src=\"expr.png\" style=\"display:inline;vertical-align:middle;\" /></a><br>"
      ],
      "text/plain": [
       "<IPython.core.display.HTML object>"
      ]
     },
     "metadata": {},
     "output_type": "display_data"
    }
   ],
   "source": [
    "# build up the expression from sub-expressions\n",
    "sub_expr1 = Variable(\"_b\", latex_format = r\"{_{-}b}\")\n",
    "sub_expr2 = Variable(\"_a\", latex_format = r\"{_{-}a}\")\n",
    "sub_expr3 = [sub_expr1, sub_expr2]\n",
    "expr = VertExprArray(ExprRange(sub_expr1, [ExprRange(sub_expr2, MultiQubitElem(element = IndexedVar(A, sub_expr3), targets = IndexedVar(R, sub_expr3)), one, k), ExprRange(sub_expr2, MultiQubitElem(element = IndexedVar(C, sub_expr3), targets = IndexedVar(T, sub_expr3)), one, l)], one, m))"
   ]
  },
  {
   "cell_type": "code",
   "execution_count": 3,
   "metadata": {},
   "outputs": [
    {
     "name": "stdout",
     "output_type": "stream",
     "text": [
      "Passed sanity check: expr matches stored_expr\n"
     ]
    }
   ],
   "source": [
    "# check that the built expression is the same as the stored expression\n",
    "assert expr == stored_expr\n",
    "assert expr._style_id == stored_expr._style_id\n",
    "print(\"Passed sanity check: expr matches stored_expr\")"
   ]
  },
  {
   "cell_type": "code",
   "execution_count": 4,
   "metadata": {},
   "outputs": [
    {
     "name": "stdout",
     "output_type": "stream",
     "text": [
      "\\begin{array}{cccc} \n",
      " \\begin{array}{c} \\Qcircuit@C=1em @R=.7em{\n",
      "& & \\gate{A_{1, 1}~\\mbox{on}~R_{1, 1}} & \\qw \n",
      "} \\end{array} & \\begin{array}{c} \\Qcircuit@C=1em @R=.7em{\n",
      "& & \\gate{A_{2, 1}~\\mbox{on}~R_{2, 1}} & \\qw \n",
      "} \\end{array} & \\cdots & \\begin{array}{c} \\Qcircuit@C=1em @R=.7em{\n",
      "& & \\gate{A_{m, 1}~\\mbox{on}~R_{m, 1}} & \\qw \n",
      "} \\end{array} \\\\\n",
      "\\begin{array}{c} \\Qcircuit@C=1em @R=.7em{\n",
      "& & \\gate{A_{1, 2}~\\mbox{on}~R_{1, 2}} & \\qw \n",
      "} \\end{array} & \\begin{array}{c} \\Qcircuit@C=1em @R=.7em{\n",
      "& & \\gate{A_{2, 2}~\\mbox{on}~R_{2, 2}} & \\qw \n",
      "} \\end{array} & \\cdots & \\begin{array}{c} \\Qcircuit@C=1em @R=.7em{\n",
      "& & \\gate{A_{m, 2}~\\mbox{on}~R_{m, 2}} & \\qw \n",
      "} \\end{array} \\\\\n",
      "\\vdots & \\vdots & \\ddots & \\vdots \\\\\n",
      "\\begin{array}{c} \\Qcircuit@C=1em @R=.7em{\n",
      "& & \\gate{A_{1, k}~\\mbox{on}~R_{1, k}} & \\qw \n",
      "} \\end{array} & \\begin{array}{c} \\Qcircuit@C=1em @R=.7em{\n",
      "& & \\gate{A_{2, k}~\\mbox{on}~R_{2, k}} & \\qw \n",
      "} \\end{array} & \\cdots & \\begin{array}{c} \\Qcircuit@C=1em @R=.7em{\n",
      "& & \\gate{A_{m, k}~\\mbox{on}~R_{m, k}} & \\qw \n",
      "} \\end{array} \\\\\n",
      "\\begin{array}{c} \\Qcircuit@C=1em @R=.7em{\n",
      "& & \\gate{C_{1, 1}~\\mbox{on}~T_{1, 1}} & \\qw \n",
      "} \\end{array} & \\begin{array}{c} \\Qcircuit@C=1em @R=.7em{\n",
      "& & \\gate{C_{2, 1}~\\mbox{on}~T_{2, 1}} & \\qw \n",
      "} \\end{array} & \\cdots & \\begin{array}{c} \\Qcircuit@C=1em @R=.7em{\n",
      "& & \\gate{C_{m, 1}~\\mbox{on}~T_{m, 1}} & \\qw \n",
      "} \\end{array} \\\\\n",
      "\\begin{array}{c} \\Qcircuit@C=1em @R=.7em{\n",
      "& & \\gate{C_{1, 2}~\\mbox{on}~T_{1, 2}} & \\qw \n",
      "} \\end{array} & \\begin{array}{c} \\Qcircuit@C=1em @R=.7em{\n",
      "& & \\gate{C_{2, 2}~\\mbox{on}~T_{2, 2}} & \\qw \n",
      "} \\end{array} & \\cdots & \\begin{array}{c} \\Qcircuit@C=1em @R=.7em{\n",
      "& & \\gate{C_{m, 2}~\\mbox{on}~T_{m, 2}} & \\qw \n",
      "} \\end{array} \\\\\n",
      "\\vdots & \\vdots & \\ddots & \\vdots \\\\\n",
      "\\begin{array}{c} \\Qcircuit@C=1em @R=.7em{\n",
      "& & \\gate{C_{1, l}~\\mbox{on}~T_{1, l}} & \\qw \n",
      "} \\end{array} & \\begin{array}{c} \\Qcircuit@C=1em @R=.7em{\n",
      "& & \\gate{C_{2, l}~\\mbox{on}~T_{2, l}} & \\qw \n",
      "} \\end{array} & \\cdots & \\begin{array}{c} \\Qcircuit@C=1em @R=.7em{\n",
      "& & \\gate{C_{m, l}~\\mbox{on}~T_{m, l}} & \\qw \n",
      "} \\end{array} \\\\\n",
      "\\end{array}\n",
      "\n"
     ]
    }
   ],
   "source": [
    "# Show the LaTeX representation of the expression for convenience if you need it.\n",
    "print(stored_expr.latex())"
   ]
  },
  {
   "cell_type": "code",
   "execution_count": 5,
   "metadata": {},
   "outputs": [
    {
     "data": {
      "text/html": [
       "<table>\n",
       "<tr><th>name</th><th>description</th><th>default</th><th>current value</th><th>related methods</th></tr><tr><td>justification</td><td>justify to the 'left', 'center', or 'right' in the array cells</td><td>center</td><td>center</td><td>with_justification</td></tr>\n",
       "</table>\n"
      ],
      "text/plain": [
       "style name: justification\n",
       "description: justify to the 'left', 'center', or 'right' in the array cells\n",
       "default: center\n",
       "current value: center\n",
       "related methods: with_justification"
      ]
     },
     "metadata": {},
     "output_type": "display_data"
    }
   ],
   "source": [
    "stored_expr.style_options()"
   ]
  },
  {
   "cell_type": "code",
   "execution_count": 6,
   "metadata": {},
   "outputs": [
    {
     "data": {
      "text/html": [
       "<table><tr><th>&nbsp;</th><th>core type</th><th>sub-expressions</th><th>expression</th></tr>\n",
       "<tr><td>0</td><td>ExprTuple</td><td>1</td><td><a class=\"ProveItLink\" href=\"expr.ipynb\"><img src=\"expr.png\" style=\"display:inline;vertical-align:middle;\" /></a></td></tr>\n",
       "<tr><td>1</td><td>ExprRange</td><td>lambda_map:&nbsp;2<br>start_index:&nbsp;11<br>end_index:&nbsp;3<br></td><td><a class=\"ProveItLink\" href=\"../4528ebdf518d956cdb858a93491583626e6f83660/expr.ipynb\"><img src=\"../4528ebdf518d956cdb858a93491583626e6f83660/expr.png\" style=\"display:inline;vertical-align:middle;\" /></a></td></tr>\n",
       "<tr><td>2</td><td>Lambda</td><td>parameter:&nbsp;28<br>body:&nbsp;5<br></td><td><a class=\"ProveItLink\" href=\"../e765169c7c810d7485c1fef5559fe71b4cebc22e0/expr.ipynb\"><img src=\"../e765169c7c810d7485c1fef5559fe71b4cebc22e0/expr.png\" style=\"display:inline;vertical-align:middle;\" /></a></td></tr>\n",
       "<tr><td>3</td><td>Variable</td><td></td><td><a class=\"ProveItLink\" href=\"../../../../../../__pv_it/common/674a03b9c3ca221b3aabd5636837b31528ff33830/expr.ipynb\"><img src=\"../../../../../../__pv_it/common/674a03b9c3ca221b3aabd5636837b31528ff33830/expr.png\" style=\"display:inline;vertical-align:middle;\" /></a></td></tr>\n",
       "<tr><td>4</td><td>ExprTuple</td><td>28</td><td><a class=\"ProveItLink\" href=\"../../../../../../core_expr_types/expr_arrays/__pv_it/common/18f7318b68e45ff8356043b6e71619fa8450fb200/expr.ipynb\"><img src=\"../../../../../../core_expr_types/expr_arrays/__pv_it/common/18f7318b68e45ff8356043b6e71619fa8450fb200/expr.png\" style=\"display:inline;vertical-align:middle;\" /></a></td></tr>\n",
       "<tr><td>5</td><td>ExprTuple</td><td>6, 7</td><td><a class=\"ProveItLink\" href=\"../ae0ab1431b521fbf56021703b81fc9ceed6fcf740/expr.ipynb\"><img src=\"../ae0ab1431b521fbf56021703b81fc9ceed6fcf740/expr.png\" style=\"display:inline;vertical-align:middle;\" /></a></td></tr>\n",
       "<tr><td>6</td><td>ExprRange</td><td>lambda_map:&nbsp;8<br>start_index:&nbsp;11<br>end_index:&nbsp;9<br></td><td><a class=\"ProveItLink\" href=\"../92208ceda3f7100ce294e5fb31daa3fca8cd3d7f0/expr.ipynb\"><img src=\"../92208ceda3f7100ce294e5fb31daa3fca8cd3d7f0/expr.png\" style=\"display:inline;vertical-align:middle;\" /></a></td></tr>\n",
       "<tr><td>7</td><td>ExprRange</td><td>lambda_map:&nbsp;10<br>start_index:&nbsp;11<br>end_index:&nbsp;12<br></td><td><a class=\"ProveItLink\" href=\"../e45675d78199b8d537970a0d12019d19b7050cd70/expr.ipynb\"><img src=\"../e45675d78199b8d537970a0d12019d19b7050cd70/expr.png\" style=\"display:inline;vertical-align:middle;\" /></a></td></tr>\n",
       "<tr><td>8</td><td>Lambda</td><td>parameter:&nbsp;29<br>body:&nbsp;13<br></td><td><a class=\"ProveItLink\" href=\"../b45696b93fefc8c861c0f05f31d9ed26fde8760d0/expr.ipynb\"><img src=\"../b45696b93fefc8c861c0f05f31d9ed26fde8760d0/expr.png\" style=\"display:inline;vertical-align:middle;\" /></a></td></tr>\n",
       "<tr><td>9</td><td>Variable</td><td></td><td><a class=\"ProveItLink\" href=\"../../../../../../__pv_it/common/63b7c64bf9ec7a04ecc396c7a1670f3f12fb59490/expr.ipynb\"><img src=\"../../../../../../__pv_it/common/63b7c64bf9ec7a04ecc396c7a1670f3f12fb59490/expr.png\" style=\"display:inline;vertical-align:middle;\" /></a></td></tr>\n",
       "<tr><td>10</td><td>Lambda</td><td>parameter:&nbsp;29<br>body:&nbsp;15<br></td><td><a class=\"ProveItLink\" href=\"../dad6c131a7a119fe38faac213b3d9a884ad7f31f0/expr.ipynb\"><img src=\"../dad6c131a7a119fe38faac213b3d9a884ad7f31f0/expr.png\" style=\"display:inline;vertical-align:middle;\" /></a></td></tr>\n",
       "<tr><td>11</td><td>Literal</td><td></td><td><a class=\"ProveItLink\" href=\"../../../../../../numbers/numerals/__pv_it/common/682157d4892d216d9e5626ed533aff9b56b9506e0/expr.ipynb\"><img src=\"../../../../../../numbers/numerals/__pv_it/common/682157d4892d216d9e5626ed533aff9b56b9506e0/expr.png\" style=\"display:inline;vertical-align:middle;\" /></a></td></tr>\n",
       "<tr><td>12</td><td>Variable</td><td></td><td><a class=\"ProveItLink\" href=\"../../../../../../__pv_it/common/27cc275d44b4f4499fb9ccfb3fab1a98165d2fa60/expr.ipynb\"><img src=\"../../../../../../__pv_it/common/27cc275d44b4f4499fb9ccfb3fab1a98165d2fa60/expr.png\" style=\"display:inline;vertical-align:middle;\" /></a></td></tr>\n",
       "<tr><td>13</td><td>Operation</td><td>operator:&nbsp;17<br>operands:&nbsp;16<br></td><td><a class=\"ProveItLink\" href=\"../83389986be2e3765e0415fcc2827e7612045a5db0/expr.ipynb\"><img src=\"../83389986be2e3765e0415fcc2827e7612045a5db0/expr.png\" style=\"display:inline;vertical-align:middle;\" /></a></td></tr>\n",
       "<tr><td>14</td><td>ExprTuple</td><td>29</td><td><a class=\"ProveItLink\" href=\"../../../../../../core_expr_types/__pv_it/common/4b0dd6be36d76552eda6a95d5b4a27f5a5b62f900/expr.ipynb\"><img src=\"../../../../../../core_expr_types/__pv_it/common/4b0dd6be36d76552eda6a95d5b4a27f5a5b62f900/expr.png\" style=\"display:inline;vertical-align:middle;\" /></a></td></tr>\n",
       "<tr><td>15</td><td>Operation</td><td>operator:&nbsp;17<br>operands:&nbsp;18<br></td><td><a class=\"ProveItLink\" href=\"../5d9049fadfc486c1a431704075e9cb6fcdbc26d90/expr.ipynb\"><img src=\"../5d9049fadfc486c1a431704075e9cb6fcdbc26d90/expr.png\" style=\"display:inline;vertical-align:middle;\" /></a></td></tr>\n",
       "<tr><td>16</td><td>NamedExprs</td><td>element: 19<br>targets: 20<br></td><td><a class=\"ProveItLink\" href=\"../f53446c5933e70791fa06c3f0ab3d6fecec92f540/expr.ipynb\"><img src=\"../f53446c5933e70791fa06c3f0ab3d6fecec92f540/expr.png\" style=\"display:inline;vertical-align:middle;\" /></a></td></tr>\n",
       "<tr><td>17</td><td>Literal</td><td></td><td><a class=\"ProveItLink\" href=\"../5eaa43008f05c06941080a12337ff182ea14996e0/expr.ipynb\"><img src=\"../5eaa43008f05c06941080a12337ff182ea14996e0/expr.png\" style=\"display:inline;vertical-align:middle;\" /></a></td></tr>\n",
       "<tr><td>18</td><td>NamedExprs</td><td>element: 21<br>targets: 22<br></td><td><a class=\"ProveItLink\" href=\"../fdad8082829e17aff93e5c32bfd4544505b7c7090/expr.ipynb\"><img src=\"../fdad8082829e17aff93e5c32bfd4544505b7c7090/expr.png\" style=\"display:inline;vertical-align:middle;\" /></a></td></tr>\n",
       "<tr><td>19</td><td>IndexedVar</td><td>variable:&nbsp;23<br>indices:&nbsp;27<br></td><td><a class=\"ProveItLink\" href=\"../../../../../../core_expr_types/expr_arrays/__pv_it/common/de56197d2c2a64a76930b89ea44fb63be43f4c020/expr.ipynb\"><img src=\"../../../../../../core_expr_types/expr_arrays/__pv_it/common/de56197d2c2a64a76930b89ea44fb63be43f4c020/expr.png\" style=\"display:inline;vertical-align:middle;\" /></a></td></tr>\n",
       "<tr><td>20</td><td>IndexedVar</td><td>variable:&nbsp;24<br>indices:&nbsp;27<br></td><td><a class=\"ProveItLink\" href=\"../9f63f4fa390f65f917cfd4a5a56ca1fed476dbb90/expr.ipynb\"><img src=\"../9f63f4fa390f65f917cfd4a5a56ca1fed476dbb90/expr.png\" style=\"display:inline;vertical-align:middle;\" /></a></td></tr>\n",
       "<tr><td>21</td><td>IndexedVar</td><td>variable:&nbsp;25<br>indices:&nbsp;27<br></td><td><a class=\"ProveItLink\" href=\"../2eb9b63d569ed8899f6bc27936009b69461cfe6b0/expr.ipynb\"><img src=\"../2eb9b63d569ed8899f6bc27936009b69461cfe6b0/expr.png\" style=\"display:inline;vertical-align:middle;\" /></a></td></tr>\n",
       "<tr><td>22</td><td>IndexedVar</td><td>variable:&nbsp;26<br>indices:&nbsp;27<br></td><td><a class=\"ProveItLink\" href=\"../40f3483a1f1998756b131ee144447e759efc02930/expr.ipynb\"><img src=\"../40f3483a1f1998756b131ee144447e759efc02930/expr.png\" style=\"display:inline;vertical-align:middle;\" /></a></td></tr>\n",
       "<tr><td>23</td><td>Variable</td><td></td><td><a class=\"ProveItLink\" href=\"../../../../../../__pv_it/common/09585084922504426caf1db2ff588a23a0932a960/expr.ipynb\"><img src=\"../../../../../../__pv_it/common/09585084922504426caf1db2ff588a23a0932a960/expr.png\" style=\"display:inline;vertical-align:middle;\" /></a></td></tr>\n",
       "<tr><td>24</td><td>Variable</td><td></td><td><a class=\"ProveItLink\" href=\"../../../../../../__pv_it/common/647ca33d6b96e29d5aa85a15d2241c7ebd0c6e4b0/expr.ipynb\"><img src=\"../../../../../../__pv_it/common/647ca33d6b96e29d5aa85a15d2241c7ebd0c6e4b0/expr.png\" style=\"display:inline;vertical-align:middle;\" /></a></td></tr>\n",
       "<tr><td>25</td><td>Variable</td><td></td><td><a class=\"ProveItLink\" href=\"../../../../../../__pv_it/common/9fba9f29e823606ff4fdf2f1c6d5d08d906e850a0/expr.ipynb\"><img src=\"../../../../../../__pv_it/common/9fba9f29e823606ff4fdf2f1c6d5d08d906e850a0/expr.png\" style=\"display:inline;vertical-align:middle;\" /></a></td></tr>\n",
       "<tr><td>26</td><td>Variable</td><td></td><td><a class=\"ProveItLink\" href=\"../../../../../../__pv_it/common/69c70dfa5f18cd09af12f2dcafa9764efe6f8cbd0/expr.ipynb\"><img src=\"../../../../../../__pv_it/common/69c70dfa5f18cd09af12f2dcafa9764efe6f8cbd0/expr.png\" style=\"display:inline;vertical-align:middle;\" /></a></td></tr>\n",
       "<tr><td>27</td><td>ExprTuple</td><td>28, 29</td><td><a class=\"ProveItLink\" href=\"../../../../../../core_expr_types/expr_arrays/__pv_it/common/c899820ca7633ea1589f21e8e039aa4da91850d80/expr.ipynb\"><img src=\"../../../../../../core_expr_types/expr_arrays/__pv_it/common/c899820ca7633ea1589f21e8e039aa4da91850d80/expr.png\" style=\"display:inline;vertical-align:middle;\" /></a></td></tr>\n",
       "<tr><td>28</td><td>Variable</td><td></td><td><a class=\"ProveItLink\" href=\"../../../../../../core_expr_types/expr_arrays/__pv_it/common/9a18d67b443cf8d92289c655ed91ec78766170a90/expr.ipynb\"><img src=\"../../../../../../core_expr_types/expr_arrays/__pv_it/common/9a18d67b443cf8d92289c655ed91ec78766170a90/expr.png\" style=\"display:inline;vertical-align:middle;\" /></a></td></tr>\n",
       "<tr><td>29</td><td>Variable</td><td></td><td><a class=\"ProveItLink\" href=\"../../../../../../core_expr_types/expr_arrays/__pv_it/common/006c465e50948aa2b52285e2de47974f741255cc0/expr.ipynb\"><img src=\"../../../../../../core_expr_types/expr_arrays/__pv_it/common/006c465e50948aa2b52285e2de47974f741255cc0/expr.png\" style=\"display:inline;vertical-align:middle;\" /></a></td></tr>\n",
       "</table>\n"
      ],
      "text/plain": [
       "0. VertExprArray(([MULTI_QUBIT_ELEM]{element:A_{1, 1}, targets:R_{1, 1}}, [MULTI_QUBIT_ELEM]{element:A_{1, 2}, targets:R_{1, 2}}, ..., [MULTI_QUBIT_ELEM]{element:A_{1, k}, targets:R_{1, k}},[MULTI_QUBIT_ELEM]{element:C_{1, 1}, targets:T_{1, 1}}, [MULTI_QUBIT_ELEM]{element:C_{1, 2}, targets:T_{1, 2}}, ..., [MULTI_QUBIT_ELEM]{element:C_{1, l}, targets:T_{1, l}}), ([MULTI_QUBIT_ELEM]{element:A_{2, 1}, targets:R_{2, 1}}, [MULTI_QUBIT_ELEM]{element:A_{2, 2}, targets:R_{2, 2}}, ..., [MULTI_QUBIT_ELEM]{element:A_{2, k}, targets:R_{2, k}},[MULTI_QUBIT_ELEM]{element:C_{2, 1}, targets:T_{2, 1}}, [MULTI_QUBIT_ELEM]{element:C_{2, 2}, targets:T_{2, 2}}, ..., [MULTI_QUBIT_ELEM]{element:C_{2, l}, targets:T_{2, l}}), ..., ([MULTI_QUBIT_ELEM]{element:A_{m, 1}, targets:R_{m, 1}}, [MULTI_QUBIT_ELEM]{element:A_{m, 2}, targets:R_{m, 2}}, ..., [MULTI_QUBIT_ELEM]{element:A_{m, k}, targets:R_{m, k}},[MULTI_QUBIT_ELEM]{element:C_{m, 1}, targets:T_{m, 1}}, [MULTI_QUBIT_ELEM]{element:C_{m, 2}, targets:T_{m, 2}}, ..., [MULTI_QUBIT_ELEM]{element:C_{m, l}, targets:T_{m, l}}))\n",
       "   core type: ExprTuple\n",
       "   sub-expressions: 1\n",
       "1. ([MULTI_QUBIT_ELEM]{element:A_{1, 1}, targets:R_{1, 1}}, [MULTI_QUBIT_ELEM]{element:A_{1, 2}, targets:R_{1, 2}}, ..., [MULTI_QUBIT_ELEM]{element:A_{1, k}, targets:R_{1, k}},[MULTI_QUBIT_ELEM]{element:C_{1, 1}, targets:T_{1, 1}}, [MULTI_QUBIT_ELEM]{element:C_{1, 2}, targets:T_{1, 2}}, ..., [MULTI_QUBIT_ELEM]{element:C_{1, l}, targets:T_{1, l}}), ([MULTI_QUBIT_ELEM]{element:A_{2, 1}, targets:R_{2, 1}}, [MULTI_QUBIT_ELEM]{element:A_{2, 2}, targets:R_{2, 2}}, ..., [MULTI_QUBIT_ELEM]{element:A_{2, k}, targets:R_{2, k}},[MULTI_QUBIT_ELEM]{element:C_{2, 1}, targets:T_{2, 1}}, [MULTI_QUBIT_ELEM]{element:C_{2, 2}, targets:T_{2, 2}}, ..., [MULTI_QUBIT_ELEM]{element:C_{2, l}, targets:T_{2, l}}), ..., ([MULTI_QUBIT_ELEM]{element:A_{m, 1}, targets:R_{m, 1}}, [MULTI_QUBIT_ELEM]{element:A_{m, 2}, targets:R_{m, 2}}, ..., [MULTI_QUBIT_ELEM]{element:A_{m, k}, targets:R_{m, k}},[MULTI_QUBIT_ELEM]{element:C_{m, 1}, targets:T_{m, 1}}, [MULTI_QUBIT_ELEM]{element:C_{m, 2}, targets:T_{m, 2}}, ..., [MULTI_QUBIT_ELEM]{element:C_{m, l}, targets:T_{m, l}})\n",
       "   core type: ExprRange\n",
       "   lambda_map: 2\n",
       "   start_index: 11\n",
       "   end_index: 3\n",
       "2. _b -> ([MULTI_QUBIT_ELEM]{element:A_{_b, 1}, targets:R_{_b, 1}}, [MULTI_QUBIT_ELEM]{element:A_{_b, 2}, targets:R_{_b, 2}}, ..., [MULTI_QUBIT_ELEM]{element:A_{_b, k}, targets:R_{_b, k}},[MULTI_QUBIT_ELEM]{element:C_{_b, 1}, targets:T_{_b, 1}}, [MULTI_QUBIT_ELEM]{element:C_{_b, 2}, targets:T_{_b, 2}}, ..., [MULTI_QUBIT_ELEM]{element:C_{_b, l}, targets:T_{_b, l}})\n",
       "   core type: Lambda\n",
       "   parameter: 28\n",
       "   body: 5\n",
       "3. m\n",
       "   core type: Variable\n",
       "   sub-expressions: \n",
       "4. (_b)\n",
       "   core type: ExprTuple\n",
       "   sub-expressions: 28\n",
       "5. ([MULTI_QUBIT_ELEM]{element:A_{_b, 1}, targets:R_{_b, 1}}, [MULTI_QUBIT_ELEM]{element:A_{_b, 2}, targets:R_{_b, 2}}, ..., [MULTI_QUBIT_ELEM]{element:A_{_b, k}, targets:R_{_b, k}},[MULTI_QUBIT_ELEM]{element:C_{_b, 1}, targets:T_{_b, 1}}, [MULTI_QUBIT_ELEM]{element:C_{_b, 2}, targets:T_{_b, 2}}, ..., [MULTI_QUBIT_ELEM]{element:C_{_b, l}, targets:T_{_b, l}})\n",
       "   core type: ExprTuple\n",
       "   sub-expressions: 6, 7\n",
       "6. [MULTI_QUBIT_ELEM]{element:A_{_b, 1}, targets:R_{_b, 1}}, [MULTI_QUBIT_ELEM]{element:A_{_b, 2}, targets:R_{_b, 2}}, ..., [MULTI_QUBIT_ELEM]{element:A_{_b, k}, targets:R_{_b, k}}\n",
       "   core type: ExprRange\n",
       "   lambda_map: 8\n",
       "   start_index: 11\n",
       "   end_index: 9\n",
       "7. [MULTI_QUBIT_ELEM]{element:C_{_b, 1}, targets:T_{_b, 1}}, [MULTI_QUBIT_ELEM]{element:C_{_b, 2}, targets:T_{_b, 2}}, ..., [MULTI_QUBIT_ELEM]{element:C_{_b, l}, targets:T_{_b, l}}\n",
       "   core type: ExprRange\n",
       "   lambda_map: 10\n",
       "   start_index: 11\n",
       "   end_index: 12\n",
       "8. _a -> [MULTI_QUBIT_ELEM]{element:A_{_b, _a}, targets:R_{_b, _a}}\n",
       "   core type: Lambda\n",
       "   parameter: 29\n",
       "   body: 13\n",
       "9. k\n",
       "   core type: Variable\n",
       "   sub-expressions: \n",
       "10. _a -> [MULTI_QUBIT_ELEM]{element:C_{_b, _a}, targets:T_{_b, _a}}\n",
       "    core type: Lambda\n",
       "    parameter: 29\n",
       "    body: 15\n",
       "11. 1\n",
       "    core type: Literal\n",
       "    sub-expressions: \n",
       "12. l\n",
       "    core type: Variable\n",
       "    sub-expressions: \n",
       "13. [MULTI_QUBIT_ELEM]{element:A_{_b, _a}, targets:R_{_b, _a}}\n",
       "    core type: Operation\n",
       "    operator: 17\n",
       "    operands: 16\n",
       "14. (_a)\n",
       "    core type: ExprTuple\n",
       "    sub-expressions: 29\n",
       "15. [MULTI_QUBIT_ELEM]{element:C_{_b, _a}, targets:T_{_b, _a}}\n",
       "    core type: Operation\n",
       "    operator: 17\n",
       "    operands: 18\n",
       "16. {element:A_{_b, _a}, targets:R_{_b, _a}}\n",
       "    core type: NamedExprs\n",
       "    element: 19\n",
       "    targets: 20\n",
       "17. MULTI_QUBIT_ELEM\n",
       "    core type: Literal\n",
       "    sub-expressions: \n",
       "18. {element:C_{_b, _a}, targets:T_{_b, _a}}\n",
       "    core type: NamedExprs\n",
       "    element: 21\n",
       "    targets: 22\n",
       "19. A_{_b, _a}\n",
       "    core type: IndexedVar\n",
       "variable: 23\n",
       "indices: 27\n",
       "20. R_{_b, _a}\n",
       "    core type: IndexedVar\n",
       "variable: 24\n",
       "indices: 27\n",
       "21. C_{_b, _a}\n",
       "    core type: IndexedVar\n",
       "variable: 25\n",
       "indices: 27\n",
       "22. T_{_b, _a}\n",
       "    core type: IndexedVar\n",
       "variable: 26\n",
       "indices: 27\n",
       "23. A\n",
       "    core type: Variable\n",
       "    sub-expressions: \n",
       "24. R\n",
       "    core type: Variable\n",
       "    sub-expressions: \n",
       "25. C\n",
       "    core type: Variable\n",
       "    sub-expressions: \n",
       "26. T\n",
       "    core type: Variable\n",
       "    sub-expressions: \n",
       "27. (_b, _a)\n",
       "    core type: ExprTuple\n",
       "    sub-expressions: 28, 29\n",
       "28. _b\n",
       "    core type: Variable\n",
       "    sub-expressions: \n",
       "29. _a\n",
       "    core type: Variable\n",
       "    sub-expressions: "
      ]
     },
     "metadata": {},
     "output_type": "display_data"
    }
   ],
   "source": [
    "# display the expression information\n",
    "stored_expr.expr_info()"
   ]
  },
  {
   "cell_type": "code",
   "execution_count": null,
   "metadata": {},
   "outputs": [],
   "source": []
  }
 ],
 "metadata": {
  "kernelspec": {
   "display_name": "Python 3",
   "language": "python",
   "name": "python3"
  }
 },
 "nbformat": 4,
 "nbformat_minor": 0
}