{
 "cells": [
  {
   "cell_type": "markdown",
   "metadata": {},
   "source": [
    "Expression of type <a class=\"ProveItLink\" href=\"../../../../../../../../doc/html/api/proveit.NamedExprs.html\">NamedExprs</a>\n",
    "=======================\n",
    "# from the theory of <a class=\"ProveItLink\" href=\"../../../_theory_nbs_/theory.ipynb\">proveit.physics.quantum.circuits</a>"
   ]
  },
  {
   "cell_type": "code",
   "execution_count": 1,
   "metadata": {},
   "outputs": [],
   "source": [
    "import proveit\n",
    "# Automation is not needed when building an expression:\n",
    "proveit.defaults.automation = False # This will speed things up.\n",
    "proveit.defaults.inline_pngs = False # Makes files smaller.\n",
    "%load_expr # Load the stored expression as 'stored_expr'\n",
    "# import Expression classes needed to build the expression\n",
    "from proveit import NamedExprs, Variable, l, m\n",
    "from proveit.numbers import Add, Interval, one\n",
    "from proveit.physics.quantum import var_ket_v\n",
    "from proveit.physics.quantum.circuits import Output"
   ]
  },
  {
   "cell_type": "code",
   "execution_count": 2,
   "metadata": {},
   "outputs": [
    {
     "data": {
      "text/html": [
       "<strong id=\"expr\">expr:</strong> <a class=\"ProveItLink\" href=\"expr.ipynb\"><img src=\"expr.png\" style=\"display:inline;vertical-align:middle;\" /></a><br>"
      ],
      "text/plain": [
       "<IPython.core.display.HTML object>"
      ]
     },
     "metadata": {},
     "output_type": "display_data"
    }
   ],
   "source": [
    "# build up the expression from sub-expressions\n",
    "expr = NamedExprs((\"element\", Output(state = var_ket_v, part = Variable(\"_a\", latex_format = r\"{_{-}a}\"))), (\"targets\", Interval(Add(m, one), Add(m, l))))"
   ]
  },
  {
   "cell_type": "code",
   "execution_count": 3,
   "metadata": {},
   "outputs": [
    {
     "name": "stdout",
     "output_type": "stream",
     "text": [
      "Passed sanity check: expr matches stored_expr\n"
     ]
    }
   ],
   "source": [
    "# check that the built expression is the same as the stored expression\n",
    "assert expr == stored_expr\n",
    "assert expr._style_id == stored_expr._style_id\n",
    "print(\"Passed sanity check: expr matches stored_expr\")"
   ]
  },
  {
   "cell_type": "code",
   "execution_count": 4,
   "metadata": {},
   "outputs": [
    {
     "name": "stdout",
     "output_type": "stream",
     "text": [
      "\\left\\{ \\begin{array}{l}\n",
      "{\\rm element}: \\begin{array}{c} \\Qcircuit@C=1em @R=.7em{\n",
      "& & \\qout{\\lvert v \\rangle~\\mbox{part}~{_{-}a}} \n",
      "} \\end{array}\\\\\n",
      "{\\rm targets}: \\{m + 1~\\ldotp \\ldotp~m + l\\}\\\\\n",
      "\\end{array} \\right\\}\n",
      "\n"
     ]
    }
   ],
   "source": [
    "# Show the LaTeX representation of the expression for convenience if you need it.\n",
    "print(stored_expr.latex())"
   ]
  },
  {
   "cell_type": "code",
   "execution_count": 5,
   "metadata": {},
   "outputs": [
    {
     "data": {
      "text/html": [
       "no style options"
      ],
      "text/plain": [
       "no style options"
      ]
     },
     "metadata": {},
     "output_type": "display_data"
    }
   ],
   "source": [
    "stored_expr.style_options()"
   ]
  },
  {
   "cell_type": "code",
   "execution_count": 6,
   "metadata": {},
   "outputs": [
    {
     "data": {
      "text/html": [
       "<table><tr><th>&nbsp;</th><th>core type</th><th>sub-expressions</th><th>expression</th></tr>\n",
       "<tr><td>0</td><td>NamedExprs</td><td>element: 1<br>targets: 2<br></td><td><a class=\"ProveItLink\" href=\"expr.ipynb\"><img src=\"expr.png\" style=\"display:inline;vertical-align:middle;\" /></a></td></tr>\n",
       "<tr><td>1</td><td>Operation</td><td>operator:&nbsp;3<br>operands:&nbsp;4<br></td><td><a class=\"ProveItLink\" href=\"../9ed25143fd2bf9c444b2f7721de86cbb7c989ecd0/expr.ipynb\"><img src=\"../9ed25143fd2bf9c444b2f7721de86cbb7c989ecd0/expr.png\" style=\"display:inline;vertical-align:middle;\" /></a></td></tr>\n",
       "<tr><td>2</td><td>Operation</td><td>operator:&nbsp;5<br>operands:&nbsp;6<br></td><td><a class=\"ProveItLink\" href=\"../dfd1489368cf76f26f6bc49eaa45ab0856cc739e0/expr.ipynb\"><img src=\"../dfd1489368cf76f26f6bc49eaa45ab0856cc739e0/expr.png\" style=\"display:inline;vertical-align:middle;\" /></a></td></tr>\n",
       "<tr><td>3</td><td>Literal</td><td></td><td><a class=\"ProveItLink\" href=\"../00345a9c4f4d361e0b6e8bbbbe5a33a8ec86a20b0/expr.ipynb\"><img src=\"../00345a9c4f4d361e0b6e8bbbbe5a33a8ec86a20b0/expr.png\" style=\"display:inline;vertical-align:middle;\" /></a></td></tr>\n",
       "<tr><td>4</td><td>NamedExprs</td><td>state: 7<br>part: 8<br></td><td><a class=\"ProveItLink\" href=\"../c959c972dada5b6a9a1228d67534ead92bc3273b0/expr.ipynb\"><img src=\"../c959c972dada5b6a9a1228d67534ead92bc3273b0/expr.png\" style=\"display:inline;vertical-align:middle;\" /></a></td></tr>\n",
       "<tr><td>5</td><td>Literal</td><td></td><td><a class=\"ProveItLink\" href=\"../../../../../../numbers/number_sets/integers/__pv_it/common/92f3a0a77e3c3ea8e4a5c8674edadc54e4f57d550/expr.ipynb\"><img src=\"../../../../../../numbers/number_sets/integers/__pv_it/common/92f3a0a77e3c3ea8e4a5c8674edadc54e4f57d550/expr.png\" style=\"display:inline;vertical-align:middle;\" /></a></td></tr>\n",
       "<tr><td>6</td><td>ExprTuple</td><td>9, 10</td><td><a class=\"ProveItLink\" href=\"../83d1991587d19dbbf0efa4d5a5ad0b99e5af93db0/expr.ipynb\"><img src=\"../83d1991587d19dbbf0efa4d5a5ad0b99e5af93db0/expr.png\" style=\"display:inline;vertical-align:middle;\" /></a></td></tr>\n",
       "<tr><td>7</td><td>Variable</td><td></td><td><a class=\"ProveItLink\" href=\"../../../../__pv_it/common/4a4e4b6201c337502c2aae379d189f8e94b5ef7a0/expr.ipynb\"><img src=\"../../../../__pv_it/common/4a4e4b6201c337502c2aae379d189f8e94b5ef7a0/expr.png\" style=\"display:inline;vertical-align:middle;\" /></a></td></tr>\n",
       "<tr><td>8</td><td>Variable</td><td></td><td><a class=\"ProveItLink\" href=\"../../../../../../core_expr_types/__pv_it/common/006c465e50948aa2b52285e2de47974f741255cc0/expr.ipynb\"><img src=\"../../../../../../core_expr_types/__pv_it/common/006c465e50948aa2b52285e2de47974f741255cc0/expr.png\" style=\"display:inline;vertical-align:middle;\" /></a></td></tr>\n",
       "<tr><td>9</td><td>Operation</td><td>operator:&nbsp;12<br>operands:&nbsp;11<br></td><td><a class=\"ProveItLink\" href=\"../f0153e6834a9ad14709e8cc9fcde46b29f1ea5f30/expr.ipynb\"><img src=\"../f0153e6834a9ad14709e8cc9fcde46b29f1ea5f30/expr.png\" style=\"display:inline;vertical-align:middle;\" /></a></td></tr>\n",
       "<tr><td>10</td><td>Operation</td><td>operator:&nbsp;12<br>operands:&nbsp;13<br></td><td><a class=\"ProveItLink\" href=\"../573a5f4932dc2cd07a3bc012a24c8a036c6fdbae0/expr.ipynb\"><img src=\"../573a5f4932dc2cd07a3bc012a24c8a036c6fdbae0/expr.png\" style=\"display:inline;vertical-align:middle;\" /></a></td></tr>\n",
       "<tr><td>11</td><td>ExprTuple</td><td>15, 14</td><td><a class=\"ProveItLink\" href=\"../170d11eb07f7b16874eb02f06c0a6709375d45350/expr.ipynb\"><img src=\"../170d11eb07f7b16874eb02f06c0a6709375d45350/expr.png\" style=\"display:inline;vertical-align:middle;\" /></a></td></tr>\n",
       "<tr><td>12</td><td>Literal</td><td></td><td><a class=\"ProveItLink\" href=\"../../../../../../numbers/addition/__pv_it/common/4b7effaab3619a1c2c38fe2dee8601df8ec714590/expr.ipynb\"><img src=\"../../../../../../numbers/addition/__pv_it/common/4b7effaab3619a1c2c38fe2dee8601df8ec714590/expr.png\" style=\"display:inline;vertical-align:middle;\" /></a></td></tr>\n",
       "<tr><td>13</td><td>ExprTuple</td><td>15, 16</td><td><a class=\"ProveItLink\" href=\"../47fa5367839ff82e085179e6035b615043aba31c0/expr.ipynb\"><img src=\"../47fa5367839ff82e085179e6035b615043aba31c0/expr.png\" style=\"display:inline;vertical-align:middle;\" /></a></td></tr>\n",
       "<tr><td>14</td><td>Literal</td><td></td><td><a class=\"ProveItLink\" href=\"../../../../../../numbers/numerals/__pv_it/common/682157d4892d216d9e5626ed533aff9b56b9506e0/expr.ipynb\"><img src=\"../../../../../../numbers/numerals/__pv_it/common/682157d4892d216d9e5626ed533aff9b56b9506e0/expr.png\" style=\"display:inline;vertical-align:middle;\" /></a></td></tr>\n",
       "<tr><td>15</td><td>Variable</td><td></td><td><a class=\"ProveItLink\" href=\"../../../../../../__pv_it/common/674a03b9c3ca221b3aabd5636837b31528ff33830/expr.ipynb\"><img src=\"../../../../../../__pv_it/common/674a03b9c3ca221b3aabd5636837b31528ff33830/expr.png\" style=\"display:inline;vertical-align:middle;\" /></a></td></tr>\n",
       "<tr><td>16</td><td>Variable</td><td></td><td><a class=\"ProveItLink\" href=\"../../../../../../__pv_it/common/27cc275d44b4f4499fb9ccfb3fab1a98165d2fa60/expr.ipynb\"><img src=\"../../../../../../__pv_it/common/27cc275d44b4f4499fb9ccfb3fab1a98165d2fa60/expr.png\" style=\"display:inline;vertical-align:middle;\" /></a></td></tr>\n",
       "</table>\n"
      ],
      "text/plain": [
       "0. {element:[OUTPUT]{state:|v>, part:_a}, targets:{m + 1 .. m + l}}\n",
       "   core type: NamedExprs\n",
       "   element: 1\n",
       "   targets: 2\n",
       "1. [OUTPUT]{state:|v>, part:_a}\n",
       "   core type: Operation\n",
       "   operator: 3\n",
       "   operands: 4\n",
       "2. {m + 1 .. m + l}\n",
       "   core type: Operation\n",
       "   operator: 5\n",
       "   operands: 6\n",
       "3. OUTPUT\n",
       "   core type: Literal\n",
       "   sub-expressions: \n",
       "4. {state:|v>, part:_a}\n",
       "   core type: NamedExprs\n",
       "   state: 7\n",
       "   part: 8\n",
       "5. Interval\n",
       "   core type: Literal\n",
       "   sub-expressions: \n",
       "6. (m + 1, m + l)\n",
       "   core type: ExprTuple\n",
       "   sub-expressions: 9, 10\n",
       "7. |v>\n",
       "   core type: Variable\n",
       "   sub-expressions: \n",
       "8. _a\n",
       "   core type: Variable\n",
       "   sub-expressions: \n",
       "9. m + 1\n",
       "   core type: Operation\n",
       "   operator: 12\n",
       "   operands: 11\n",
       "10. m + l\n",
       "    core type: Operation\n",
       "    operator: 12\n",
       "    operands: 13\n",
       "11. (m, 1)\n",
       "    core type: ExprTuple\n",
       "    sub-expressions: 15, 14\n",
       "12. +\n",
       "    core type: Literal\n",
       "    sub-expressions: \n",
       "13. (m, l)\n",
       "    core type: ExprTuple\n",
       "    sub-expressions: 15, 16\n",
       "14. 1\n",
       "    core type: Literal\n",
       "    sub-expressions: \n",
       "15. m\n",
       "    core type: Variable\n",
       "    sub-expressions: \n",
       "16. l\n",
       "    core type: Variable\n",
       "    sub-expressions: "
      ]
     },
     "metadata": {},
     "output_type": "display_data"
    }
   ],
   "source": [
    "# display the expression information\n",
    "stored_expr.expr_info()"
   ]
  },
  {
   "cell_type": "code",
   "execution_count": null,
   "metadata": {},
   "outputs": [],
   "source": []
  }
 ],
 "metadata": {
  "kernelspec": {
   "display_name": "Python 3",
   "language": "python",
   "name": "python3"
  }
 },
 "nbformat": 4,
 "nbformat_minor": 0
}