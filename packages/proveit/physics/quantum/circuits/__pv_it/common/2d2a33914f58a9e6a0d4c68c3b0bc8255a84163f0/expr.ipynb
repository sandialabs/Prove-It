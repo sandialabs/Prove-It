{
 "cells": [
  {
   "cell_type": "markdown",
   "metadata": {},
   "source": [
    "Expression of type <a class=\"ProveItLink\" href=\"../../../../../../../../doc/html/api/proveit.VertExprArray.html\">VertExprArray</a>\n",
    "=======================\n",
    "# from the theory of <a class=\"ProveItLink\" href=\"../../../_theory_nbs_/theory.ipynb\">proveit.physics.quantum.circuits</a>"
   ]
  },
  {
   "cell_type": "code",
   "execution_count": 1,
   "metadata": {},
   "outputs": [],
   "source": [
    "import proveit\n",
    "# Automation is not needed when building an expression:\n",
    "proveit.defaults.automation = False # This will speed things up.\n",
    "proveit.defaults.inline_pngs = False # Makes files smaller.\n",
    "%load_expr # Load the stored expression as 'stored_expr'\n",
    "# import Expression classes needed to build the expression\n",
    "from proveit import A, ExprRange, IndexedVar, Variable, VertExprArray, k, l\n",
    "from proveit.numbers import Interval, one\n",
    "from proveit.physics.quantum import var_ket_u, var_ket_v\n",
    "from proveit.physics.quantum.circuits import Input, MultiQubitElem, Output"
   ]
  },
  {
   "cell_type": "code",
   "execution_count": 2,
   "metadata": {},
   "outputs": [
    {
     "data": {
      "text/html": [
       "<strong id=\"expr\">expr:</strong> <a class=\"ProveItLink\" href=\"expr.ipynb\"><img src=\"expr.png\" style=\"display:inline;vertical-align:middle;\" /></a><br>"
      ],
      "text/plain": [
       "<IPython.core.display.HTML object>"
      ]
     },
     "metadata": {},
     "output_type": "display_data"
    }
   ],
   "source": [
    "# build up the expression from sub-expressions\n",
    "sub_expr1 = Variable(\"_a\", latex_format = r\"{_{-}a}\")\n",
    "sub_expr2 = Variable(\"_b\", latex_format = r\"{_{-}b}\")\n",
    "sub_expr3 = Interval(one, l)\n",
    "expr = VertExprArray([ExprRange(sub_expr1, MultiQubitElem(element = Input(state = var_ket_u, part = sub_expr1), targets = sub_expr3), one, l)], ExprRange(sub_expr2, [ExprRange(sub_expr1, IndexedVar(A, [sub_expr2, sub_expr1]), one, l)], one, k), [ExprRange(sub_expr1, MultiQubitElem(element = Output(state = var_ket_v, part = sub_expr1), targets = sub_expr3), one, l)])"
   ]
  },
  {
   "cell_type": "code",
   "execution_count": 3,
   "metadata": {},
   "outputs": [
    {
     "name": "stdout",
     "output_type": "stream",
     "text": [
      "Passed sanity check: expr matches stored_expr\n"
     ]
    }
   ],
   "source": [
    "# check that the built expression is the same as the stored expression\n",
    "assert expr == stored_expr\n",
    "assert expr._style_id == stored_expr._style_id\n",
    "print(\"Passed sanity check: expr matches stored_expr\")"
   ]
  },
  {
   "cell_type": "code",
   "execution_count": 4,
   "metadata": {},
   "outputs": [
    {
     "name": "stdout",
     "output_type": "stream",
     "text": [
      "\\begin{array}{cccccc} \n",
      " \\begin{array}{c} \\Qcircuit@C=1em @R=.7em{\n",
      "& \\qin{\\lvert u \\rangle~\\mbox{part}~1~\\mbox{on}~\\{1~\\ldotp \\ldotp~l\\}} & \\qw \n",
      "} \\end{array} & A_{1, 1} & A_{2, 1} & \\cdots & A_{k, 1} & \\begin{array}{c} \\Qcircuit@C=1em @R=.7em{\n",
      "& & \\qout{\\lvert v \\rangle~\\mbox{part}~1~\\mbox{on}~\\{1~\\ldotp \\ldotp~l\\}} \n",
      "} \\end{array} \\\\\n",
      "\\begin{array}{c} \\Qcircuit@C=1em @R=.7em{\n",
      "& \\qin{\\lvert u \\rangle~\\mbox{part}~2~\\mbox{on}~\\{1~\\ldotp \\ldotp~l\\}} & \\qw \n",
      "} \\end{array} & A_{1, 2} & A_{2, 2} & \\cdots & A_{k, 2} & \\begin{array}{c} \\Qcircuit@C=1em @R=.7em{\n",
      "& & \\qout{\\lvert v \\rangle~\\mbox{part}~2~\\mbox{on}~\\{1~\\ldotp \\ldotp~l\\}} \n",
      "} \\end{array} \\\\\n",
      "\\vdots & \\vdots & \\vdots & \\ddots & \\vdots & \\vdots \\\\\n",
      "\\begin{array}{c} \\Qcircuit@C=1em @R=.7em{\n",
      "& \\qin{\\lvert u \\rangle~\\mbox{part}~l~\\mbox{on}~\\{1~\\ldotp \\ldotp~l\\}} & \\qw \n",
      "} \\end{array} & A_{1, l} & A_{2, l} & \\cdots & A_{k, l} & \\begin{array}{c} \\Qcircuit@C=1em @R=.7em{\n",
      "& & \\qout{\\lvert v \\rangle~\\mbox{part}~l~\\mbox{on}~\\{1~\\ldotp \\ldotp~l\\}} \n",
      "} \\end{array} \\\\\n",
      "\\end{array}\n",
      "\n"
     ]
    }
   ],
   "source": [
    "# Show the LaTeX representation of the expression for convenience if you need it.\n",
    "print(stored_expr.latex())"
   ]
  },
  {
   "cell_type": "code",
   "execution_count": 5,
   "metadata": {},
   "outputs": [
    {
     "data": {
      "text/html": [
       "<table>\n",
       "<tr><th>name</th><th>description</th><th>default</th><th>current value</th><th>related methods</th></tr><tr><td>justification</td><td>justify to the 'left', 'center', or 'right' in the array cells</td><td>center</td><td>center</td><td>with_justification</td></tr>\n",
       "</table>\n"
      ],
      "text/plain": [
       "style name: justification\n",
       "description: justify to the 'left', 'center', or 'right' in the array cells\n",
       "default: center\n",
       "current value: center\n",
       "related methods: with_justification"
      ]
     },
     "metadata": {},
     "output_type": "display_data"
    }
   ],
   "source": [
    "stored_expr.style_options()"
   ]
  },
  {
   "cell_type": "code",
   "execution_count": 6,
   "metadata": {},
   "outputs": [
    {
     "data": {
      "text/html": [
       "<table><tr><th>&nbsp;</th><th>core type</th><th>sub-expressions</th><th>expression</th></tr>\n",
       "<tr><td>0</td><td>ExprTuple</td><td>1, 2, 3</td><td><a class=\"ProveItLink\" href=\"expr.ipynb\"><img src=\"expr.png\" style=\"display:inline;vertical-align:middle;\" /></a></td></tr>\n",
       "<tr><td>1</td><td>ExprTuple</td><td>4</td><td><a class=\"ProveItLink\" href=\"../6ad018398013e278e4065fe99e7258f545c2585e0/expr.ipynb\"><img src=\"../6ad018398013e278e4065fe99e7258f545c2585e0/expr.png\" style=\"display:inline;vertical-align:middle;\" /></a></td></tr>\n",
       "<tr><td>2</td><td>ExprRange</td><td>lambda_map:&nbsp;5<br>start_index:&nbsp;36<br>end_index:&nbsp;6<br></td><td><a class=\"ProveItLink\" href=\"../../../../../../core_expr_types/expr_arrays/__pv_it/common/d6e7afffa22b7f1eea7825883cb70ba4ed98eb860/expr.ipynb\"><img src=\"../../../../../../core_expr_types/expr_arrays/__pv_it/common/d6e7afffa22b7f1eea7825883cb70ba4ed98eb860/expr.png\" style=\"display:inline;vertical-align:middle;\" /></a></td></tr>\n",
       "<tr><td>3</td><td>ExprTuple</td><td>7</td><td><a class=\"ProveItLink\" href=\"../d90f972310f185d7b1b4a63daf2a0ed9856a1a740/expr.ipynb\"><img src=\"../d90f972310f185d7b1b4a63daf2a0ed9856a1a740/expr.png\" style=\"display:inline;vertical-align:middle;\" /></a></td></tr>\n",
       "<tr><td>4</td><td>ExprRange</td><td>lambda_map:&nbsp;8<br>start_index:&nbsp;36<br>end_index:&nbsp;37<br></td><td><a class=\"ProveItLink\" href=\"../fb0d06f0e5f749b9424709543b844e595f513dd90/expr.ipynb\"><img src=\"../fb0d06f0e5f749b9424709543b844e595f513dd90/expr.png\" style=\"display:inline;vertical-align:middle;\" /></a></td></tr>\n",
       "<tr><td>5</td><td>Lambda</td><td>parameter:&nbsp;33<br>body:&nbsp;10<br></td><td><a class=\"ProveItLink\" href=\"../../../../../../core_expr_types/expr_arrays/__pv_it/common/0afc00fedb7b5cc0a15ccadfe8d932b9c5d3a3630/expr.ipynb\"><img src=\"../../../../../../core_expr_types/expr_arrays/__pv_it/common/0afc00fedb7b5cc0a15ccadfe8d932b9c5d3a3630/expr.png\" style=\"display:inline;vertical-align:middle;\" /></a></td></tr>\n",
       "<tr><td>6</td><td>Variable</td><td></td><td><a class=\"ProveItLink\" href=\"../../../../../../__pv_it/common/63b7c64bf9ec7a04ecc396c7a1670f3f12fb59490/expr.ipynb\"><img src=\"../../../../../../__pv_it/common/63b7c64bf9ec7a04ecc396c7a1670f3f12fb59490/expr.png\" style=\"display:inline;vertical-align:middle;\" /></a></td></tr>\n",
       "<tr><td>7</td><td>ExprRange</td><td>lambda_map:&nbsp;11<br>start_index:&nbsp;36<br>end_index:&nbsp;37<br></td><td><a class=\"ProveItLink\" href=\"../d872e8c76493302e4f06eaaa319abedfd667899e0/expr.ipynb\"><img src=\"../d872e8c76493302e4f06eaaa319abedfd667899e0/expr.png\" style=\"display:inline;vertical-align:middle;\" /></a></td></tr>\n",
       "<tr><td>8</td><td>Lambda</td><td>parameter:&nbsp;35<br>body:&nbsp;12<br></td><td><a class=\"ProveItLink\" href=\"../bd434c137f061f40ba0c4c8606f1c3e2fe2ce9f70/expr.ipynb\"><img src=\"../bd434c137f061f40ba0c4c8606f1c3e2fe2ce9f70/expr.png\" style=\"display:inline;vertical-align:middle;\" /></a></td></tr>\n",
       "<tr><td>9</td><td>ExprTuple</td><td>33</td><td><a class=\"ProveItLink\" href=\"../../../../../../core_expr_types/expr_arrays/__pv_it/common/18f7318b68e45ff8356043b6e71619fa8450fb200/expr.ipynb\"><img src=\"../../../../../../core_expr_types/expr_arrays/__pv_it/common/18f7318b68e45ff8356043b6e71619fa8450fb200/expr.png\" style=\"display:inline;vertical-align:middle;\" /></a></td></tr>\n",
       "<tr><td>10</td><td>ExprTuple</td><td>13</td><td><a class=\"ProveItLink\" href=\"../../../../../../core_expr_types/expr_arrays/__pv_it/common/6fcd8ce04879ed68ce8dcfb677f54c2130f600750/expr.ipynb\"><img src=\"../../../../../../core_expr_types/expr_arrays/__pv_it/common/6fcd8ce04879ed68ce8dcfb677f54c2130f600750/expr.png\" style=\"display:inline;vertical-align:middle;\" /></a></td></tr>\n",
       "<tr><td>11</td><td>Lambda</td><td>parameter:&nbsp;35<br>body:&nbsp;14<br></td><td><a class=\"ProveItLink\" href=\"../09e23901db850e261131ebfd18d0cac5fbfaaf630/expr.ipynb\"><img src=\"../09e23901db850e261131ebfd18d0cac5fbfaaf630/expr.png\" style=\"display:inline;vertical-align:middle;\" /></a></td></tr>\n",
       "<tr><td>12</td><td>Operation</td><td>operator:&nbsp;17<br>operands:&nbsp;15<br></td><td><a class=\"ProveItLink\" href=\"../e92abcbe644ec96a2bef4dfe6b56ca92123d28720/expr.ipynb\"><img src=\"../e92abcbe644ec96a2bef4dfe6b56ca92123d28720/expr.png\" style=\"display:inline;vertical-align:middle;\" /></a></td></tr>\n",
       "<tr><td>13</td><td>ExprRange</td><td>lambda_map:&nbsp;16<br>start_index:&nbsp;36<br>end_index:&nbsp;37<br></td><td><a class=\"ProveItLink\" href=\"../../../../../../core_expr_types/expr_arrays/__pv_it/common/ba13910b8ff90bcfb0fbf5fa4fe2b61900eb20590/expr.ipynb\"><img src=\"../../../../../../core_expr_types/expr_arrays/__pv_it/common/ba13910b8ff90bcfb0fbf5fa4fe2b61900eb20590/expr.png\" style=\"display:inline;vertical-align:middle;\" /></a></td></tr>\n",
       "<tr><td>14</td><td>Operation</td><td>operator:&nbsp;17<br>operands:&nbsp;18<br></td><td><a class=\"ProveItLink\" href=\"../483101c50a52c5a8175a6bcb80d1c3275aa04d050/expr.ipynb\"><img src=\"../483101c50a52c5a8175a6bcb80d1c3275aa04d050/expr.png\" style=\"display:inline;vertical-align:middle;\" /></a></td></tr>\n",
       "<tr><td>15</td><td>NamedExprs</td><td>element: 19<br>targets: 23<br></td><td><a class=\"ProveItLink\" href=\"../33c2edadd76ecaabc10a09a709c80aca5e3a9a140/expr.ipynb\"><img src=\"../33c2edadd76ecaabc10a09a709c80aca5e3a9a140/expr.png\" style=\"display:inline;vertical-align:middle;\" /></a></td></tr>\n",
       "<tr><td>16</td><td>Lambda</td><td>parameter:&nbsp;35<br>body:&nbsp;21<br></td><td><a class=\"ProveItLink\" href=\"../../../../../../core_expr_types/expr_arrays/__pv_it/common/042b3e9ccffc5bb337bf14e5131e4c08f85b67640/expr.ipynb\"><img src=\"../../../../../../core_expr_types/expr_arrays/__pv_it/common/042b3e9ccffc5bb337bf14e5131e4c08f85b67640/expr.png\" style=\"display:inline;vertical-align:middle;\" /></a></td></tr>\n",
       "<tr><td>17</td><td>Literal</td><td></td><td><a class=\"ProveItLink\" href=\"../5eaa43008f05c06941080a12337ff182ea14996e0/expr.ipynb\"><img src=\"../5eaa43008f05c06941080a12337ff182ea14996e0/expr.png\" style=\"display:inline;vertical-align:middle;\" /></a></td></tr>\n",
       "<tr><td>18</td><td>NamedExprs</td><td>element: 22<br>targets: 23<br></td><td><a class=\"ProveItLink\" href=\"../efb5ec1dc5335561087a506cbc69af4b54faefc20/expr.ipynb\"><img src=\"../efb5ec1dc5335561087a506cbc69af4b54faefc20/expr.png\" style=\"display:inline;vertical-align:middle;\" /></a></td></tr>\n",
       "<tr><td>19</td><td>Operation</td><td>operator:&nbsp;24<br>operands:&nbsp;25<br></td><td><a class=\"ProveItLink\" href=\"../2597b46ca6544963bf1d7d9917602050752926bb0/expr.ipynb\"><img src=\"../2597b46ca6544963bf1d7d9917602050752926bb0/expr.png\" style=\"display:inline;vertical-align:middle;\" /></a></td></tr>\n",
       "<tr><td>20</td><td>ExprTuple</td><td>35</td><td><a class=\"ProveItLink\" href=\"../../../../../../core_expr_types/expr_arrays/__pv_it/common/4b0dd6be36d76552eda6a95d5b4a27f5a5b62f900/expr.ipynb\"><img src=\"../../../../../../core_expr_types/expr_arrays/__pv_it/common/4b0dd6be36d76552eda6a95d5b4a27f5a5b62f900/expr.png\" style=\"display:inline;vertical-align:middle;\" /></a></td></tr>\n",
       "<tr><td>21</td><td>IndexedVar</td><td>variable:&nbsp;26<br>indices:&nbsp;27<br></td><td><a class=\"ProveItLink\" href=\"../../../../../../core_expr_types/expr_arrays/__pv_it/common/de56197d2c2a64a76930b89ea44fb63be43f4c020/expr.ipynb\"><img src=\"../../../../../../core_expr_types/expr_arrays/__pv_it/common/de56197d2c2a64a76930b89ea44fb63be43f4c020/expr.png\" style=\"display:inline;vertical-align:middle;\" /></a></td></tr>\n",
       "<tr><td>22</td><td>Operation</td><td>operator:&nbsp;28<br>operands:&nbsp;29<br></td><td><a class=\"ProveItLink\" href=\"../9ed25143fd2bf9c444b2f7721de86cbb7c989ecd0/expr.ipynb\"><img src=\"../9ed25143fd2bf9c444b2f7721de86cbb7c989ecd0/expr.png\" style=\"display:inline;vertical-align:middle;\" /></a></td></tr>\n",
       "<tr><td>23</td><td>Operation</td><td>operator:&nbsp;30<br>operands:&nbsp;31<br></td><td><a class=\"ProveItLink\" href=\"../fd5432a0a9032295e6ac11112bef89178e4b08e50/expr.ipynb\"><img src=\"../fd5432a0a9032295e6ac11112bef89178e4b08e50/expr.png\" style=\"display:inline;vertical-align:middle;\" /></a></td></tr>\n",
       "<tr><td>24</td><td>Literal</td><td></td><td><a class=\"ProveItLink\" href=\"../deea8715ce6701df08bbe1d049112a0bad4965c20/expr.ipynb\"><img src=\"../deea8715ce6701df08bbe1d049112a0bad4965c20/expr.png\" style=\"display:inline;vertical-align:middle;\" /></a></td></tr>\n",
       "<tr><td>25</td><td>NamedExprs</td><td>state: 32<br>part: 35<br></td><td><a class=\"ProveItLink\" href=\"../eacc802691b83113928f36120eecb0d0d5d56c400/expr.ipynb\"><img src=\"../eacc802691b83113928f36120eecb0d0d5d56c400/expr.png\" style=\"display:inline;vertical-align:middle;\" /></a></td></tr>\n",
       "<tr><td>26</td><td>Variable</td><td></td><td><a class=\"ProveItLink\" href=\"../../../../../../__pv_it/common/09585084922504426caf1db2ff588a23a0932a960/expr.ipynb\"><img src=\"../../../../../../__pv_it/common/09585084922504426caf1db2ff588a23a0932a960/expr.png\" style=\"display:inline;vertical-align:middle;\" /></a></td></tr>\n",
       "<tr><td>27</td><td>ExprTuple</td><td>33, 35</td><td><a class=\"ProveItLink\" href=\"../../../../../../core_expr_types/expr_arrays/__pv_it/common/c899820ca7633ea1589f21e8e039aa4da91850d80/expr.ipynb\"><img src=\"../../../../../../core_expr_types/expr_arrays/__pv_it/common/c899820ca7633ea1589f21e8e039aa4da91850d80/expr.png\" style=\"display:inline;vertical-align:middle;\" /></a></td></tr>\n",
       "<tr><td>28</td><td>Literal</td><td></td><td><a class=\"ProveItLink\" href=\"../00345a9c4f4d361e0b6e8bbbbe5a33a8ec86a20b0/expr.ipynb\"><img src=\"../00345a9c4f4d361e0b6e8bbbbe5a33a8ec86a20b0/expr.png\" style=\"display:inline;vertical-align:middle;\" /></a></td></tr>\n",
       "<tr><td>29</td><td>NamedExprs</td><td>state: 34<br>part: 35<br></td><td><a class=\"ProveItLink\" href=\"../c959c972dada5b6a9a1228d67534ead92bc3273b0/expr.ipynb\"><img src=\"../c959c972dada5b6a9a1228d67534ead92bc3273b0/expr.png\" style=\"display:inline;vertical-align:middle;\" /></a></td></tr>\n",
       "<tr><td>30</td><td>Literal</td><td></td><td><a class=\"ProveItLink\" href=\"../../../../../../numbers/number_sets/integers/__pv_it/common/92f3a0a77e3c3ea8e4a5c8674edadc54e4f57d550/expr.ipynb\"><img src=\"../../../../../../numbers/number_sets/integers/__pv_it/common/92f3a0a77e3c3ea8e4a5c8674edadc54e4f57d550/expr.png\" style=\"display:inline;vertical-align:middle;\" /></a></td></tr>\n",
       "<tr><td>31</td><td>ExprTuple</td><td>36, 37</td><td><a class=\"ProveItLink\" href=\"../97ecb097b60abeb71a0454364a27b0b967fec9830/expr.ipynb\"><img src=\"../97ecb097b60abeb71a0454364a27b0b967fec9830/expr.png\" style=\"display:inline;vertical-align:middle;\" /></a></td></tr>\n",
       "<tr><td>32</td><td>Variable</td><td></td><td><a class=\"ProveItLink\" href=\"../../../../__pv_it/common/e9ccc523355dd5c57db74023629fa3172587db260/expr.ipynb\"><img src=\"../../../../__pv_it/common/e9ccc523355dd5c57db74023629fa3172587db260/expr.png\" style=\"display:inline;vertical-align:middle;\" /></a></td></tr>\n",
       "<tr><td>33</td><td>Variable</td><td></td><td><a class=\"ProveItLink\" href=\"../../../../../../core_expr_types/expr_arrays/__pv_it/common/9a18d67b443cf8d92289c655ed91ec78766170a90/expr.ipynb\"><img src=\"../../../../../../core_expr_types/expr_arrays/__pv_it/common/9a18d67b443cf8d92289c655ed91ec78766170a90/expr.png\" style=\"display:inline;vertical-align:middle;\" /></a></td></tr>\n",
       "<tr><td>34</td><td>Variable</td><td></td><td><a class=\"ProveItLink\" href=\"../../../../__pv_it/common/4a4e4b6201c337502c2aae379d189f8e94b5ef7a0/expr.ipynb\"><img src=\"../../../../__pv_it/common/4a4e4b6201c337502c2aae379d189f8e94b5ef7a0/expr.png\" style=\"display:inline;vertical-align:middle;\" /></a></td></tr>\n",
       "<tr><td>35</td><td>Variable</td><td></td><td><a class=\"ProveItLink\" href=\"../../../../../../core_expr_types/__pv_it/common/006c465e50948aa2b52285e2de47974f741255cc0/expr.ipynb\"><img src=\"../../../../../../core_expr_types/__pv_it/common/006c465e50948aa2b52285e2de47974f741255cc0/expr.png\" style=\"display:inline;vertical-align:middle;\" /></a></td></tr>\n",
       "<tr><td>36</td><td>Literal</td><td></td><td><a class=\"ProveItLink\" href=\"../../../../../../numbers/numerals/__pv_it/common/682157d4892d216d9e5626ed533aff9b56b9506e0/expr.ipynb\"><img src=\"../../../../../../numbers/numerals/__pv_it/common/682157d4892d216d9e5626ed533aff9b56b9506e0/expr.png\" style=\"display:inline;vertical-align:middle;\" /></a></td></tr>\n",
       "<tr><td>37</td><td>Variable</td><td></td><td><a class=\"ProveItLink\" href=\"../../../../../../__pv_it/common/27cc275d44b4f4499fb9ccfb3fab1a98165d2fa60/expr.ipynb\"><img src=\"../../../../../../__pv_it/common/27cc275d44b4f4499fb9ccfb3fab1a98165d2fa60/expr.png\" style=\"display:inline;vertical-align:middle;\" /></a></td></tr>\n",
       "</table>\n"
      ],
      "text/plain": [
       "0. VertExprArray(([MULTI_QUBIT_ELEM]{element:[INPUT]{state:|u>, part:1}, targets:{1 .. l}}, [MULTI_QUBIT_ELEM]{element:[INPUT]{state:|u>, part:2}, targets:{1 .. l}}, ..., [MULTI_QUBIT_ELEM]{element:[INPUT]{state:|u>, part:l}, targets:{1 .. l}}), \\\\ (A_{1, 1}, A_{1, 2}, ..., A_{1, l}),  \\\\ (A_{2, 1}, A_{2, 2}, ..., A_{2, l}), ..., (A_{k, 1}, A_{k, 2}, ..., A_{k, l}), ([MULTI_QUBIT_ELEM]{element:[OUTPUT]{state:|v>, part:1}, targets:{1 .. l}}, [MULTI_QUBIT_ELEM]{element:[OUTPUT]{state:|v>, part:2}, targets:{1 .. l}}, ..., [MULTI_QUBIT_ELEM]{element:[OUTPUT]{state:|v>, part:l}, targets:{1 .. l}}))\n",
       "   core type: ExprTuple\n",
       "   sub-expressions: 1, 2, 3\n",
       "1. ([MULTI_QUBIT_ELEM]{element:[INPUT]{state:|u>, part:1}, targets:{1 .. l}}, [MULTI_QUBIT_ELEM]{element:[INPUT]{state:|u>, part:2}, targets:{1 .. l}}, ..., [MULTI_QUBIT_ELEM]{element:[INPUT]{state:|u>, part:l}, targets:{1 .. l}})\n",
       "   core type: ExprTuple\n",
       "   sub-expressions: 4\n",
       "2. (A_{1, 1}, A_{1, 2}, ..., A_{1, l}), (A_{2, 1}, A_{2, 2}, ..., A_{2, l}), ..., (A_{k, 1}, A_{k, 2}, ..., A_{k, l})\n",
       "   core type: ExprRange\n",
       "   lambda_map: 5\n",
       "   start_index: 36\n",
       "   end_index: 6\n",
       "3. ([MULTI_QUBIT_ELEM]{element:[OUTPUT]{state:|v>, part:1}, targets:{1 .. l}}, [MULTI_QUBIT_ELEM]{element:[OUTPUT]{state:|v>, part:2}, targets:{1 .. l}}, ..., [MULTI_QUBIT_ELEM]{element:[OUTPUT]{state:|v>, part:l}, targets:{1 .. l}})\n",
       "   core type: ExprTuple\n",
       "   sub-expressions: 7\n",
       "4. [MULTI_QUBIT_ELEM]{element:[INPUT]{state:|u>, part:1}, targets:{1 .. l}}, [MULTI_QUBIT_ELEM]{element:[INPUT]{state:|u>, part:2}, targets:{1 .. l}}, ..., [MULTI_QUBIT_ELEM]{element:[INPUT]{state:|u>, part:l}, targets:{1 .. l}}\n",
       "   core type: ExprRange\n",
       "   lambda_map: 8\n",
       "   start_index: 36\n",
       "   end_index: 37\n",
       "5. _b -> (A_{_b, 1}, A_{_b, 2}, ..., A_{_b, l})\n",
       "   core type: Lambda\n",
       "   parameter: 33\n",
       "   body: 10\n",
       "6. k\n",
       "   core type: Variable\n",
       "   sub-expressions: \n",
       "7. [MULTI_QUBIT_ELEM]{element:[OUTPUT]{state:|v>, part:1}, targets:{1 .. l}}, [MULTI_QUBIT_ELEM]{element:[OUTPUT]{state:|v>, part:2}, targets:{1 .. l}}, ..., [MULTI_QUBIT_ELEM]{element:[OUTPUT]{state:|v>, part:l}, targets:{1 .. l}}\n",
       "   core type: ExprRange\n",
       "   lambda_map: 11\n",
       "   start_index: 36\n",
       "   end_index: 37\n",
       "8. _a -> [MULTI_QUBIT_ELEM]{element:[INPUT]{state:|u>, part:_a}, targets:{1 .. l}}\n",
       "   core type: Lambda\n",
       "   parameter: 35\n",
       "   body: 12\n",
       "9. (_b)\n",
       "   core type: ExprTuple\n",
       "   sub-expressions: 33\n",
       "10. (A_{_b, 1}, A_{_b, 2}, ..., A_{_b, l})\n",
       "    core type: ExprTuple\n",
       "    sub-expressions: 13\n",
       "11. _a -> [MULTI_QUBIT_ELEM]{element:[OUTPUT]{state:|v>, part:_a}, targets:{1 .. l}}\n",
       "    core type: Lambda\n",
       "    parameter: 35\n",
       "    body: 14\n",
       "12. [MULTI_QUBIT_ELEM]{element:[INPUT]{state:|u>, part:_a}, targets:{1 .. l}}\n",
       "    core type: Operation\n",
       "    operator: 17\n",
       "    operands: 15\n",
       "13. A_{_b, 1}, A_{_b, 2}, ..., A_{_b, l}\n",
       "    core type: ExprRange\n",
       "    lambda_map: 16\n",
       "    start_index: 36\n",
       "    end_index: 37\n",
       "14. [MULTI_QUBIT_ELEM]{element:[OUTPUT]{state:|v>, part:_a}, targets:{1 .. l}}\n",
       "    core type: Operation\n",
       "    operator: 17\n",
       "    operands: 18\n",
       "15. {element:[INPUT]{state:|u>, part:_a}, targets:{1 .. l}}\n",
       "    core type: NamedExprs\n",
       "    element: 19\n",
       "    targets: 23\n",
       "16. _a -> A_{_b, _a}\n",
       "    core type: Lambda\n",
       "    parameter: 35\n",
       "    body: 21\n",
       "17. MULTI_QUBIT_ELEM\n",
       "    core type: Literal\n",
       "    sub-expressions: \n",
       "18. {element:[OUTPUT]{state:|v>, part:_a}, targets:{1 .. l}}\n",
       "    core type: NamedExprs\n",
       "    element: 22\n",
       "    targets: 23\n",
       "19. [INPUT]{state:|u>, part:_a}\n",
       "    core type: Operation\n",
       "    operator: 24\n",
       "    operands: 25\n",
       "20. (_a)\n",
       "    core type: ExprTuple\n",
       "    sub-expressions: 35\n",
       "21. A_{_b, _a}\n",
       "    core type: IndexedVar\n",
       "variable: 26\n",
       "indices: 27\n",
       "22. [OUTPUT]{state:|v>, part:_a}\n",
       "    core type: Operation\n",
       "    operator: 28\n",
       "    operands: 29\n",
       "23. {1 .. l}\n",
       "    core type: Operation\n",
       "    operator: 30\n",
       "    operands: 31\n",
       "24. INPUT\n",
       "    core type: Literal\n",
       "    sub-expressions: \n",
       "25. {state:|u>, part:_a}\n",
       "    core type: NamedExprs\n",
       "    state: 32\n",
       "    part: 35\n",
       "26. A\n",
       "    core type: Variable\n",
       "    sub-expressions: \n",
       "27. (_b, _a)\n",
       "    core type: ExprTuple\n",
       "    sub-expressions: 33, 35\n",
       "28. OUTPUT\n",
       "    core type: Literal\n",
       "    sub-expressions: \n",
       "29. {state:|v>, part:_a}\n",
       "    core type: NamedExprs\n",
       "    state: 34\n",
       "    part: 35\n",
       "30. Interval\n",
       "    core type: Literal\n",
       "    sub-expressions: \n",
       "31. (1, l)\n",
       "    core type: ExprTuple\n",
       "    sub-expressions: 36, 37\n",
       "32. |u>\n",
       "    core type: Variable\n",
       "    sub-expressions: \n",
       "33. _b\n",
       "    core type: Variable\n",
       "    sub-expressions: \n",
       "34. |v>\n",
       "    core type: Variable\n",
       "    sub-expressions: \n",
       "35. _a\n",
       "    core type: Variable\n",
       "    sub-expressions: \n",
       "36. 1\n",
       "    core type: Literal\n",
       "    sub-expressions: \n",
       "37. l\n",
       "    core type: Variable\n",
       "    sub-expressions: "
      ]
     },
     "metadata": {},
     "output_type": "display_data"
    }
   ],
   "source": [
    "# display the expression information\n",
    "stored_expr.expr_info()"
   ]
  },
  {
   "cell_type": "code",
   "execution_count": null,
   "metadata": {},
   "outputs": [],
   "source": []
  }
 ],
 "metadata": {
  "kernelspec": {
   "display_name": "Python 3",
   "language": "python",
   "name": "python3"
  }
 },
 "nbformat": 4,
 "nbformat_minor": 0
}