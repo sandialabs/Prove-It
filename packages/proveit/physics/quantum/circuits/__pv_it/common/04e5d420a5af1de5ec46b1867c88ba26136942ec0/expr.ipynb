{
 "cells": [
  {
   "cell_type": "markdown",
   "metadata": {},
   "source": [
    "Expression of type <a class=\"ProveItLink\" href=\"../../../../../../../../doc/html/api/proveit.physics.quantum.circuits.Qcircuit.html\">Qcircuit</a>\n",
    "=======================\n",
    "# from the theory of <a class=\"ProveItLink\" href=\"../../../_theory_nbs_/theory.ipynb\">proveit.physics.quantum.circuits</a>"
   ]
  },
  {
   "cell_type": "code",
   "execution_count": 1,
   "metadata": {},
   "outputs": [],
   "source": [
    "import proveit\n",
    "# Automation is not needed when building an expression:\n",
    "proveit.defaults.automation = False # This will speed things up.\n",
    "proveit.defaults.inline_pngs = False # Makes files smaller.\n",
    "%load_expr # Load the stored expression as 'stored_expr'\n",
    "# import Expression classes needed to build the expression\n",
    "from proveit import ExprRange, Variable, VertExprArray, a, b, k\n",
    "from proveit.core_expr_types import U_1_to_m\n",
    "from proveit.numbers import Interval, one\n",
    "from proveit.physics.quantum.circuits import Input, MultiQubitElem, Output, Qcircuit"
   ]
  },
  {
   "cell_type": "code",
   "execution_count": 2,
   "metadata": {},
   "outputs": [
    {
     "data": {
      "text/html": [
       "<strong id=\"expr\">expr:</strong> <a class=\"ProveItLink\" href=\"expr.ipynb\"><img src=\"expr.png\" style=\"display:inline;vertical-align:middle;\" /></a><br>"
      ],
      "text/plain": [
       "<IPython.core.display.HTML object>"
      ]
     },
     "metadata": {},
     "output_type": "display_data"
    }
   ],
   "source": [
    "# build up the expression from sub-expressions\n",
    "sub_expr1 = Variable(\"_a\", latex_format = r\"{_{-}a}\")\n",
    "sub_expr2 = Interval(one, k)\n",
    "expr = Qcircuit(vert_expr_array = VertExprArray([ExprRange(sub_expr1, MultiQubitElem(element = Input(state = a, part = sub_expr1), targets = sub_expr2), one, k)], U_1_to_m, [ExprRange(sub_expr1, MultiQubitElem(element = Output(state = b, part = sub_expr1), targets = sub_expr2), one, k)]))"
   ]
  },
  {
   "cell_type": "code",
   "execution_count": 3,
   "metadata": {},
   "outputs": [
    {
     "name": "stdout",
     "output_type": "stream",
     "text": [
      "Passed sanity check: expr matches stored_expr\n"
     ]
    }
   ],
   "source": [
    "# check that the built expression is the same as the stored expression\n",
    "assert expr == stored_expr\n",
    "assert expr._style_id == stored_expr._style_id\n",
    "print(\"Passed sanity check: expr matches stored_expr\")"
   ]
  },
  {
   "cell_type": "code",
   "execution_count": 4,
   "metadata": {},
   "outputs": [
    {
     "name": "stdout",
     "output_type": "stream",
     "text": [
      "\\begin{array}{c} \\Qcircuit@C=1em @R=.7em{\n",
      "\\qin{a} & \\gate{\\begin{array}{c} \\uparrow \\\\U_{1} \\\\ \\downarrow\\end{array}} & \\gate{\\begin{array}{c} \\uparrow \\\\U_{2} \\\\ \\downarrow\\end{array}} & \\gate{\\begin{array}{c} \\uparrow \\\\\\cdots \\\\ \\downarrow\\end{array}} & \\gate{\\begin{array}{c} \\uparrow \\\\U_{m} \\\\ \\downarrow\\end{array}} & \\qout{b}\n",
      "} \\end{array}\n"
     ]
    }
   ],
   "source": [
    "# Show the LaTeX representation of the expression for convenience if you need it.\n",
    "print(stored_expr.latex())"
   ]
  },
  {
   "cell_type": "code",
   "execution_count": 5,
   "metadata": {},
   "outputs": [
    {
     "data": {
      "text/html": [
       "<table>\n",
       "<tr><th>name</th><th>description</th><th>default</th><th>current value</th><th>related methods</th></tr><tr><td>spacing</td><td>change the spacing of a circuit using the format '@C=1em @R=.7em' where C is the column spacing and R is the row spacing</td><td>@C=1em @R=.7em</td><td>@C=1em @R=.7em</td><td></td></tr>\n",
       "</table>\n"
      ],
      "text/plain": [
       "style name: spacing\n",
       "description: change the spacing of a circuit using the format '@C=1em @R=.7em' where C is the column spacing and R is the row spacing\n",
       "default: @C=1em @R=.7em\n",
       "current value: @C=1em @R=.7em\n",
       "related methods: ()"
      ]
     },
     "metadata": {},
     "output_type": "display_data"
    }
   ],
   "source": [
    "stored_expr.style_options()"
   ]
  },
  {
   "cell_type": "code",
   "execution_count": 6,
   "metadata": {},
   "outputs": [
    {
     "data": {
      "text/html": [
       "<table><tr><th>&nbsp;</th><th>core type</th><th>sub-expressions</th><th>expression</th></tr>\n",
       "<tr><td>0</td><td>Operation</td><td>operator:&nbsp;1<br>operands:&nbsp;2<br></td><td><a class=\"ProveItLink\" href=\"expr.ipynb\"><img src=\"expr.png\" style=\"display:inline;vertical-align:middle;\" /></a></td></tr>\n",
       "<tr><td>1</td><td>Literal</td><td></td><td><a class=\"ProveItLink\" href=\"../40003b89a3d1740159ada9fe5b21308b42a7d3d40/expr.ipynb\"><img src=\"../40003b89a3d1740159ada9fe5b21308b42a7d3d40/expr.png\" style=\"display:inline;vertical-align:middle;\" /></a></td></tr>\n",
       "<tr><td>2</td><td>ExprTuple</td><td>3, 4, 5</td><td><a class=\"ProveItLink\" href=\"../339f9e46b874b0a0de2c97fafd1a7f4185a457830/expr.ipynb\"><img src=\"../339f9e46b874b0a0de2c97fafd1a7f4185a457830/expr.png\" style=\"display:inline;vertical-align:middle;\" /></a></td></tr>\n",
       "<tr><td>3</td><td>ExprTuple</td><td>6</td><td><a class=\"ProveItLink\" href=\"../85120790518a7ec1647480d3007bf6f47885a5e70/expr.ipynb\"><img src=\"../85120790518a7ec1647480d3007bf6f47885a5e70/expr.png\" style=\"display:inline;vertical-align:middle;\" /></a></td></tr>\n",
       "<tr><td>4</td><td>ExprRange</td><td>lambda_map:&nbsp;7<br>start_index:&nbsp;32<br>end_index:&nbsp;8<br></td><td><a class=\"ProveItLink\" href=\"../../../../../../core_expr_types/__pv_it/common/f2446d23f25b2a0391ce7ae7ebebadb55f507e4c0/expr.ipynb\"><img src=\"../../../../../../core_expr_types/__pv_it/common/f2446d23f25b2a0391ce7ae7ebebadb55f507e4c0/expr.png\" style=\"display:inline;vertical-align:middle;\" /></a></td></tr>\n",
       "<tr><td>5</td><td>ExprTuple</td><td>9</td><td><a class=\"ProveItLink\" href=\"../94fbd2763304d54d1de448b0b724931d99c426780/expr.ipynb\"><img src=\"../94fbd2763304d54d1de448b0b724931d99c426780/expr.png\" style=\"display:inline;vertical-align:middle;\" /></a></td></tr>\n",
       "<tr><td>6</td><td>ExprRange</td><td>lambda_map:&nbsp;10<br>start_index:&nbsp;32<br>end_index:&nbsp;33<br></td><td><a class=\"ProveItLink\" href=\"../f48e0cdc518514c99ea7a1ae19a22696b2df08210/expr.ipynb\"><img src=\"../f48e0cdc518514c99ea7a1ae19a22696b2df08210/expr.png\" style=\"display:inline;vertical-align:middle;\" /></a></td></tr>\n",
       "<tr><td>7</td><td>Lambda</td><td>parameter:&nbsp;31<br>body:&nbsp;11<br></td><td><a class=\"ProveItLink\" href=\"../../../../../../core_expr_types/__pv_it/common/1bd846a53c13d706c6fe9ce76f1edc9e81c50bc40/expr.ipynb\"><img src=\"../../../../../../core_expr_types/__pv_it/common/1bd846a53c13d706c6fe9ce76f1edc9e81c50bc40/expr.png\" style=\"display:inline;vertical-align:middle;\" /></a></td></tr>\n",
       "<tr><td>8</td><td>Variable</td><td></td><td><a class=\"ProveItLink\" href=\"../../../../../../__pv_it/common/674a03b9c3ca221b3aabd5636837b31528ff33830/expr.ipynb\"><img src=\"../../../../../../__pv_it/common/674a03b9c3ca221b3aabd5636837b31528ff33830/expr.png\" style=\"display:inline;vertical-align:middle;\" /></a></td></tr>\n",
       "<tr><td>9</td><td>ExprRange</td><td>lambda_map:&nbsp;12<br>start_index:&nbsp;32<br>end_index:&nbsp;33<br></td><td><a class=\"ProveItLink\" href=\"../eb74b4b78390ac6fc82cb439955e33471b2dd6700/expr.ipynb\"><img src=\"../eb74b4b78390ac6fc82cb439955e33471b2dd6700/expr.png\" style=\"display:inline;vertical-align:middle;\" /></a></td></tr>\n",
       "<tr><td>10</td><td>Lambda</td><td>parameter:&nbsp;31<br>body:&nbsp;13<br></td><td><a class=\"ProveItLink\" href=\"../83a7d71237b86ce51333808cc2e0af1cb0baa22e0/expr.ipynb\"><img src=\"../83a7d71237b86ce51333808cc2e0af1cb0baa22e0/expr.png\" style=\"display:inline;vertical-align:middle;\" /></a></td></tr>\n",
       "<tr><td>11</td><td>IndexedVar</td><td>variable:&nbsp;14<br>index:&nbsp;31<br></td><td><a class=\"ProveItLink\" href=\"../../../../../../core_expr_types/__pv_it/common/a0a589405bd46ff5f5081e37e3ecae7ecd8092eb0/expr.ipynb\"><img src=\"../../../../../../core_expr_types/__pv_it/common/a0a589405bd46ff5f5081e37e3ecae7ecd8092eb0/expr.png\" style=\"display:inline;vertical-align:middle;\" /></a></td></tr>\n",
       "<tr><td>12</td><td>Lambda</td><td>parameter:&nbsp;31<br>body:&nbsp;16<br></td><td><a class=\"ProveItLink\" href=\"../ecfdd7d458aefc56e0ade7663adfcca51c66379d0/expr.ipynb\"><img src=\"../ecfdd7d458aefc56e0ade7663adfcca51c66379d0/expr.png\" style=\"display:inline;vertical-align:middle;\" /></a></td></tr>\n",
       "<tr><td>13</td><td>Operation</td><td>operator:&nbsp;18<br>operands:&nbsp;17<br></td><td><a class=\"ProveItLink\" href=\"../ff1045ff5961f2231f9ba440f1548488a77f40e90/expr.ipynb\"><img src=\"../ff1045ff5961f2231f9ba440f1548488a77f40e90/expr.png\" style=\"display:inline;vertical-align:middle;\" /></a></td></tr>\n",
       "<tr><td>14</td><td>Variable</td><td></td><td><a class=\"ProveItLink\" href=\"../../../../../../__pv_it/common/2586cdae2fd2785a5bcbf61f99f7aaf8229d775e0/expr.ipynb\"><img src=\"../../../../../../__pv_it/common/2586cdae2fd2785a5bcbf61f99f7aaf8229d775e0/expr.png\" style=\"display:inline;vertical-align:middle;\" /></a></td></tr>\n",
       "<tr><td>15</td><td>ExprTuple</td><td>31</td><td><a class=\"ProveItLink\" href=\"../../../../../../core_expr_types/__pv_it/common/4b0dd6be36d76552eda6a95d5b4a27f5a5b62f900/expr.ipynb\"><img src=\"../../../../../../core_expr_types/__pv_it/common/4b0dd6be36d76552eda6a95d5b4a27f5a5b62f900/expr.png\" style=\"display:inline;vertical-align:middle;\" /></a></td></tr>\n",
       "<tr><td>16</td><td>Operation</td><td>operator:&nbsp;18<br>operands:&nbsp;19<br></td><td><a class=\"ProveItLink\" href=\"../00b02a3e6808aa6fb0efa9a7cf7661f3e0f7ad440/expr.ipynb\"><img src=\"../00b02a3e6808aa6fb0efa9a7cf7661f3e0f7ad440/expr.png\" style=\"display:inline;vertical-align:middle;\" /></a></td></tr>\n",
       "<tr><td>17</td><td>NamedExprs</td><td>element: 20<br>targets: 22<br></td><td><a class=\"ProveItLink\" href=\"../55512746aeed19c3231556d3b39920844ecaf7e60/expr.ipynb\"><img src=\"../55512746aeed19c3231556d3b39920844ecaf7e60/expr.png\" style=\"display:inline;vertical-align:middle;\" /></a></td></tr>\n",
       "<tr><td>18</td><td>Literal</td><td></td><td><a class=\"ProveItLink\" href=\"../5eaa43008f05c06941080a12337ff182ea14996e0/expr.ipynb\"><img src=\"../5eaa43008f05c06941080a12337ff182ea14996e0/expr.png\" style=\"display:inline;vertical-align:middle;\" /></a></td></tr>\n",
       "<tr><td>19</td><td>NamedExprs</td><td>element: 21<br>targets: 22<br></td><td><a class=\"ProveItLink\" href=\"../33988b26268efc6e942093efd365af1d0ee7b72a0/expr.ipynb\"><img src=\"../33988b26268efc6e942093efd365af1d0ee7b72a0/expr.png\" style=\"display:inline;vertical-align:middle;\" /></a></td></tr>\n",
       "<tr><td>20</td><td>Operation</td><td>operator:&nbsp;23<br>operands:&nbsp;24<br></td><td><a class=\"ProveItLink\" href=\"../4e427095d75b6bdb2917d6aebbf68b6198ca3d2d0/expr.ipynb\"><img src=\"../4e427095d75b6bdb2917d6aebbf68b6198ca3d2d0/expr.png\" style=\"display:inline;vertical-align:middle;\" /></a></td></tr>\n",
       "<tr><td>21</td><td>Operation</td><td>operator:&nbsp;25<br>operands:&nbsp;26<br></td><td><a class=\"ProveItLink\" href=\"../43197716b8e090cc24ce2ebdacc182087508edfe0/expr.ipynb\"><img src=\"../43197716b8e090cc24ce2ebdacc182087508edfe0/expr.png\" style=\"display:inline;vertical-align:middle;\" /></a></td></tr>\n",
       "<tr><td>22</td><td>Operation</td><td>operator:&nbsp;27<br>operands:&nbsp;28<br></td><td><a class=\"ProveItLink\" href=\"../a8b7e69e51be1878195dc38a06157ebea6c529ef0/expr.ipynb\"><img src=\"../a8b7e69e51be1878195dc38a06157ebea6c529ef0/expr.png\" style=\"display:inline;vertical-align:middle;\" /></a></td></tr>\n",
       "<tr><td>23</td><td>Literal</td><td></td><td><a class=\"ProveItLink\" href=\"../deea8715ce6701df08bbe1d049112a0bad4965c20/expr.ipynb\"><img src=\"../deea8715ce6701df08bbe1d049112a0bad4965c20/expr.png\" style=\"display:inline;vertical-align:middle;\" /></a></td></tr>\n",
       "<tr><td>24</td><td>NamedExprs</td><td>state: 29<br>part: 31<br></td><td><a class=\"ProveItLink\" href=\"../a793d72f916a5fb11c4a873a1ad449dcb75faded0/expr.ipynb\"><img src=\"../a793d72f916a5fb11c4a873a1ad449dcb75faded0/expr.png\" style=\"display:inline;vertical-align:middle;\" /></a></td></tr>\n",
       "<tr><td>25</td><td>Literal</td><td></td><td><a class=\"ProveItLink\" href=\"../00345a9c4f4d361e0b6e8bbbbe5a33a8ec86a20b0/expr.ipynb\"><img src=\"../00345a9c4f4d361e0b6e8bbbbe5a33a8ec86a20b0/expr.png\" style=\"display:inline;vertical-align:middle;\" /></a></td></tr>\n",
       "<tr><td>26</td><td>NamedExprs</td><td>state: 30<br>part: 31<br></td><td><a class=\"ProveItLink\" href=\"../047cc15084d9a82d1608053f1f59282c73cf36d00/expr.ipynb\"><img src=\"../047cc15084d9a82d1608053f1f59282c73cf36d00/expr.png\" style=\"display:inline;vertical-align:middle;\" /></a></td></tr>\n",
       "<tr><td>27</td><td>Literal</td><td></td><td><a class=\"ProveItLink\" href=\"../../../../../../numbers/number_sets/integers/__pv_it/common/92f3a0a77e3c3ea8e4a5c8674edadc54e4f57d550/expr.ipynb\"><img src=\"../../../../../../numbers/number_sets/integers/__pv_it/common/92f3a0a77e3c3ea8e4a5c8674edadc54e4f57d550/expr.png\" style=\"display:inline;vertical-align:middle;\" /></a></td></tr>\n",
       "<tr><td>28</td><td>ExprTuple</td><td>32, 33</td><td><a class=\"ProveItLink\" href=\"../5f07297842aa7d8ed0c46d3d4896804c899607f00/expr.ipynb\"><img src=\"../5f07297842aa7d8ed0c46d3d4896804c899607f00/expr.png\" style=\"display:inline;vertical-align:middle;\" /></a></td></tr>\n",
       "<tr><td>29</td><td>Variable</td><td></td><td><a class=\"ProveItLink\" href=\"../../../../../../__pv_it/common/c06c606ec12678c58933ac85412ecadc2ae28be60/expr.ipynb\"><img src=\"../../../../../../__pv_it/common/c06c606ec12678c58933ac85412ecadc2ae28be60/expr.png\" style=\"display:inline;vertical-align:middle;\" /></a></td></tr>\n",
       "<tr><td>30</td><td>Variable</td><td></td><td><a class=\"ProveItLink\" href=\"../../../../../../__pv_it/common/195236b98c6c564a75b5dbada74b173bc52d5c3e0/expr.ipynb\"><img src=\"../../../../../../__pv_it/common/195236b98c6c564a75b5dbada74b173bc52d5c3e0/expr.png\" style=\"display:inline;vertical-align:middle;\" /></a></td></tr>\n",
       "<tr><td>31</td><td>Variable</td><td></td><td><a class=\"ProveItLink\" href=\"../../../../../../core_expr_types/__pv_it/common/006c465e50948aa2b52285e2de47974f741255cc0/expr.ipynb\"><img src=\"../../../../../../core_expr_types/__pv_it/common/006c465e50948aa2b52285e2de47974f741255cc0/expr.png\" style=\"display:inline;vertical-align:middle;\" /></a></td></tr>\n",
       "<tr><td>32</td><td>Literal</td><td></td><td><a class=\"ProveItLink\" href=\"../../../../../../numbers/numerals/__pv_it/common/682157d4892d216d9e5626ed533aff9b56b9506e0/expr.ipynb\"><img src=\"../../../../../../numbers/numerals/__pv_it/common/682157d4892d216d9e5626ed533aff9b56b9506e0/expr.png\" style=\"display:inline;vertical-align:middle;\" /></a></td></tr>\n",
       "<tr><td>33</td><td>Variable</td><td></td><td><a class=\"ProveItLink\" href=\"../../../../../../__pv_it/common/63b7c64bf9ec7a04ecc396c7a1670f3f12fb59490/expr.ipynb\"><img src=\"../../../../../../__pv_it/common/63b7c64bf9ec7a04ecc396c7a1670f3f12fb59490/expr.png\" style=\"display:inline;vertical-align:middle;\" /></a></td></tr>\n",
       "</table>\n"
      ],
      "text/plain": [
       "0. QCIRCUIT(VertExprArray(([MULTI_QUBIT_ELEM]{element:[INPUT]{state:a, part:1}, targets:{1 .. k}}, [MULTI_QUBIT_ELEM]{element:[INPUT]{state:a, part:2}, targets:{1 .. k}}, ..., [MULTI_QUBIT_ELEM]{element:[INPUT]{state:a, part:k}, targets:{1 .. k}}), \\\\ U_{1},  \\\\ U_{2}, ..., U_{m}, ([MULTI_QUBIT_ELEM]{element:[OUTPUT]{state:b, part:1}, targets:{1 .. k}}, [MULTI_QUBIT_ELEM]{element:[OUTPUT]{state:b, part:2}, targets:{1 .. k}}, ..., [MULTI_QUBIT_ELEM]{element:[OUTPUT]{state:b, part:k}, targets:{1 .. k}})))\n",
       "   core type: Operation\n",
       "   operator: 1\n",
       "   operands: 2\n",
       "1. QCIRCUIT\n",
       "   core type: Literal\n",
       "   sub-expressions: \n",
       "2. VertExprArray(([MULTI_QUBIT_ELEM]{element:[INPUT]{state:a, part:1}, targets:{1 .. k}}, [MULTI_QUBIT_ELEM]{element:[INPUT]{state:a, part:2}, targets:{1 .. k}}, ..., [MULTI_QUBIT_ELEM]{element:[INPUT]{state:a, part:k}, targets:{1 .. k}}), \\\\ U_{1},  \\\\ U_{2}, ..., U_{m}, ([MULTI_QUBIT_ELEM]{element:[OUTPUT]{state:b, part:1}, targets:{1 .. k}}, [MULTI_QUBIT_ELEM]{element:[OUTPUT]{state:b, part:2}, targets:{1 .. k}}, ..., [MULTI_QUBIT_ELEM]{element:[OUTPUT]{state:b, part:k}, targets:{1 .. k}}))\n",
       "   core type: ExprTuple\n",
       "   sub-expressions: 3, 4, 5\n",
       "3. ([MULTI_QUBIT_ELEM]{element:[INPUT]{state:a, part:1}, targets:{1 .. k}}, [MULTI_QUBIT_ELEM]{element:[INPUT]{state:a, part:2}, targets:{1 .. k}}, ..., [MULTI_QUBIT_ELEM]{element:[INPUT]{state:a, part:k}, targets:{1 .. k}})\n",
       "   core type: ExprTuple\n",
       "   sub-expressions: 6\n",
       "4. U_{1}, U_{2}, ..., U_{m}\n",
       "   core type: ExprRange\n",
       "   lambda_map: 7\n",
       "   start_index: 32\n",
       "   end_index: 8\n",
       "5. ([MULTI_QUBIT_ELEM]{element:[OUTPUT]{state:b, part:1}, targets:{1 .. k}}, [MULTI_QUBIT_ELEM]{element:[OUTPUT]{state:b, part:2}, targets:{1 .. k}}, ..., [MULTI_QUBIT_ELEM]{element:[OUTPUT]{state:b, part:k}, targets:{1 .. k}})\n",
       "   core type: ExprTuple\n",
       "   sub-expressions: 9\n",
       "6. [MULTI_QUBIT_ELEM]{element:[INPUT]{state:a, part:1}, targets:{1 .. k}}, [MULTI_QUBIT_ELEM]{element:[INPUT]{state:a, part:2}, targets:{1 .. k}}, ..., [MULTI_QUBIT_ELEM]{element:[INPUT]{state:a, part:k}, targets:{1 .. k}}\n",
       "   core type: ExprRange\n",
       "   lambda_map: 10\n",
       "   start_index: 32\n",
       "   end_index: 33\n",
       "7. _a -> U_{_a}\n",
       "   core type: Lambda\n",
       "   parameter: 31\n",
       "   body: 11\n",
       "8. m\n",
       "   core type: Variable\n",
       "   sub-expressions: \n",
       "9. [MULTI_QUBIT_ELEM]{element:[OUTPUT]{state:b, part:1}, targets:{1 .. k}}, [MULTI_QUBIT_ELEM]{element:[OUTPUT]{state:b, part:2}, targets:{1 .. k}}, ..., [MULTI_QUBIT_ELEM]{element:[OUTPUT]{state:b, part:k}, targets:{1 .. k}}\n",
       "   core type: ExprRange\n",
       "   lambda_map: 12\n",
       "   start_index: 32\n",
       "   end_index: 33\n",
       "10. _a -> [MULTI_QUBIT_ELEM]{element:[INPUT]{state:a, part:_a}, targets:{1 .. k}}\n",
       "    core type: Lambda\n",
       "    parameter: 31\n",
       "    body: 13\n",
       "11. U_{_a}\n",
       "    core type: IndexedVar\n",
       "variable: 14\n",
       "index: 31\n",
       "12. _a -> [MULTI_QUBIT_ELEM]{element:[OUTPUT]{state:b, part:_a}, targets:{1 .. k}}\n",
       "    core type: Lambda\n",
       "    parameter: 31\n",
       "    body: 16\n",
       "13. [MULTI_QUBIT_ELEM]{element:[INPUT]{state:a, part:_a}, targets:{1 .. k}}\n",
       "    core type: Operation\n",
       "    operator: 18\n",
       "    operands: 17\n",
       "14. U\n",
       "    core type: Variable\n",
       "    sub-expressions: \n",
       "15. (_a)\n",
       "    core type: ExprTuple\n",
       "    sub-expressions: 31\n",
       "16. [MULTI_QUBIT_ELEM]{element:[OUTPUT]{state:b, part:_a}, targets:{1 .. k}}\n",
       "    core type: Operation\n",
       "    operator: 18\n",
       "    operands: 19\n",
       "17. {element:[INPUT]{state:a, part:_a}, targets:{1 .. k}}\n",
       "    core type: NamedExprs\n",
       "    element: 20\n",
       "    targets: 22\n",
       "18. MULTI_QUBIT_ELEM\n",
       "    core type: Literal\n",
       "    sub-expressions: \n",
       "19. {element:[OUTPUT]{state:b, part:_a}, targets:{1 .. k}}\n",
       "    core type: NamedExprs\n",
       "    element: 21\n",
       "    targets: 22\n",
       "20. [INPUT]{state:a, part:_a}\n",
       "    core type: Operation\n",
       "    operator: 23\n",
       "    operands: 24\n",
       "21. [OUTPUT]{state:b, part:_a}\n",
       "    core type: Operation\n",
       "    operator: 25\n",
       "    operands: 26\n",
       "22. {1 .. k}\n",
       "    core type: Operation\n",
       "    operator: 27\n",
       "    operands: 28\n",
       "23. INPUT\n",
       "    core type: Literal\n",
       "    sub-expressions: \n",
       "24. {state:a, part:_a}\n",
       "    core type: NamedExprs\n",
       "    state: 29\n",
       "    part: 31\n",
       "25. OUTPUT\n",
       "    core type: Literal\n",
       "    sub-expressions: \n",
       "26. {state:b, part:_a}\n",
       "    core type: NamedExprs\n",
       "    state: 30\n",
       "    part: 31\n",
       "27. Interval\n",
       "    core type: Literal\n",
       "    sub-expressions: \n",
       "28. (1, k)\n",
       "    core type: ExprTuple\n",
       "    sub-expressions: 32, 33\n",
       "29. a\n",
       "    core type: Variable\n",
       "    sub-expressions: \n",
       "30. b\n",
       "    core type: Variable\n",
       "    sub-expressions: \n",
       "31. _a\n",
       "    core type: Variable\n",
       "    sub-expressions: \n",
       "32. 1\n",
       "    core type: Literal\n",
       "    sub-expressions: \n",
       "33. k\n",
       "    core type: Variable\n",
       "    sub-expressions: "
      ]
     },
     "metadata": {},
     "output_type": "display_data"
    }
   ],
   "source": [
    "# display the expression information\n",
    "stored_expr.expr_info()"
   ]
  },
  {
   "cell_type": "code",
   "execution_count": null,
   "metadata": {},
   "outputs": [],
   "source": []
  }
 ],
 "metadata": {
  "kernelspec": {
   "display_name": "Python 3",
   "language": "python",
   "name": "python3"
  }
 },
 "nbformat": 4,
 "nbformat_minor": 0
}