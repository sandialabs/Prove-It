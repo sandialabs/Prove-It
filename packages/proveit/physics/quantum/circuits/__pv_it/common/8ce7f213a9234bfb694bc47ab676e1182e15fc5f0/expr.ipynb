{
 "cells": [
  {
   "cell_type": "markdown",
   "metadata": {},
   "source": [
    "Expression of type <a class=\"ProveItLink\" href=\"../../../../../../../../doc/html/api/proveit.VertExprArray.html\">VertExprArray</a>\n",
    "=======================\n",
    "# from the theory of <a class=\"ProveItLink\" href=\"../../../_theory_nbs_/theory.ipynb\">proveit.physics.quantum.circuits</a>"
   ]
  },
  {
   "cell_type": "code",
   "execution_count": 1,
   "metadata": {},
   "outputs": [],
   "source": [
    "import proveit\n",
    "# Automation is not needed when building an expression:\n",
    "proveit.defaults.automation = False # This will speed things up.\n",
    "proveit.defaults.inline_pngs = False # Makes files smaller.\n",
    "%load_expr # Load the stored expression as 'stored_expr'\n",
    "# import Expression classes needed to build the expression\n",
    "from proveit import ExprRange, Variable, VertExprArray, a, k\n",
    "from proveit.core_expr_types import U_1_to_m\n",
    "from proveit.numbers import Interval, one\n",
    "from proveit.physics.quantum.circuits import Input, MultiQubitElem"
   ]
  },
  {
   "cell_type": "code",
   "execution_count": 2,
   "metadata": {},
   "outputs": [
    {
     "data": {
      "text/html": [
       "<strong id=\"expr\">expr:</strong> <a class=\"ProveItLink\" href=\"expr.ipynb\"><img src=\"expr.png\" style=\"display:inline;vertical-align:middle;\" /></a><br>"
      ],
      "text/plain": [
       "<IPython.core.display.HTML object>"
      ]
     },
     "metadata": {},
     "output_type": "display_data"
    }
   ],
   "source": [
    "# build up the expression from sub-expressions\n",
    "sub_expr1 = Variable(\"_a\", latex_format = r\"{_{-}a}\")\n",
    "expr = VertExprArray([ExprRange(sub_expr1, MultiQubitElem(element = Input(state = a, part = sub_expr1), targets = Interval(one, k)), one, k)], U_1_to_m)"
   ]
  },
  {
   "cell_type": "code",
   "execution_count": 3,
   "metadata": {},
   "outputs": [
    {
     "name": "stdout",
     "output_type": "stream",
     "text": [
      "Passed sanity check: expr matches stored_expr\n"
     ]
    }
   ],
   "source": [
    "# check that the built expression is the same as the stored expression\n",
    "assert expr == stored_expr\n",
    "assert expr._style_id == stored_expr._style_id\n",
    "print(\"Passed sanity check: expr matches stored_expr\")"
   ]
  },
  {
   "cell_type": "code",
   "execution_count": 4,
   "metadata": {},
   "outputs": [
    {
     "name": "stdout",
     "output_type": "stream",
     "text": [
      "\\begin{array}{ccccc} \n",
      " \\begin{array}{c} \\Qcircuit@C=1em @R=.7em{\n",
      "& \\qin{a~\\mbox{part}~1~\\mbox{on}~\\{1~\\ldotp \\ldotp~k\\}} & \\qw \n",
      "} \\end{array} & \\multirow{4}{*}{$\\begin{array}{c} \\uparrow \\\\ U_{1} \\\\ \\downarrow \\end{array}$} & \\multirow{4}{*}{$\\begin{array}{c} \\uparrow \\\\ U_{2} \\\\ \\downarrow \\end{array}$} & \\multirow{4}{*}{$\\begin{array}{c} \\uparrow \\\\ \\cdots \\\\ \\downarrow \\end{array}$} & \\multirow{4}{*}{$\\begin{array}{c} \\uparrow \\\\ U_{m} \\\\ \\downarrow \\end{array}$} \\\\\n",
      "\\begin{array}{c} \\Qcircuit@C=1em @R=.7em{\n",
      "& \\qin{a~\\mbox{part}~2~\\mbox{on}~\\{1~\\ldotp \\ldotp~k\\}} & \\qw \n",
      "} \\end{array} &  &  &  &  \\\\\n",
      "\\vdots &  &  &  &  \\\\\n",
      "\\begin{array}{c} \\Qcircuit@C=1em @R=.7em{\n",
      "& \\qin{a~\\mbox{part}~k~\\mbox{on}~\\{1~\\ldotp \\ldotp~k\\}} & \\qw \n",
      "} \\end{array} &  &  &  &  \\\\\n",
      "\\end{array}\n",
      "\n"
     ]
    }
   ],
   "source": [
    "# Show the LaTeX representation of the expression for convenience if you need it.\n",
    "print(stored_expr.latex())"
   ]
  },
  {
   "cell_type": "code",
   "execution_count": 5,
   "metadata": {},
   "outputs": [
    {
     "data": {
      "text/html": [
       "<table>\n",
       "<tr><th>name</th><th>description</th><th>default</th><th>current value</th><th>related methods</th></tr><tr><td>justification</td><td>justify to the 'left', 'center', or 'right' in the array cells</td><td>center</td><td>center</td><td>with_justification</td></tr>\n",
       "</table>\n"
      ],
      "text/plain": [
       "style name: justification\n",
       "description: justify to the 'left', 'center', or 'right' in the array cells\n",
       "default: center\n",
       "current value: center\n",
       "related methods: with_justification"
      ]
     },
     "metadata": {},
     "output_type": "display_data"
    }
   ],
   "source": [
    "stored_expr.style_options()"
   ]
  },
  {
   "cell_type": "code",
   "execution_count": 6,
   "metadata": {},
   "outputs": [
    {
     "data": {
      "text/html": [
       "<table><tr><th>&nbsp;</th><th>core type</th><th>sub-expressions</th><th>expression</th></tr>\n",
       "<tr><td>0</td><td>ExprTuple</td><td>1, 2</td><td><a class=\"ProveItLink\" href=\"expr.ipynb\"><img src=\"expr.png\" style=\"display:inline;vertical-align:middle;\" /></a></td></tr>\n",
       "<tr><td>1</td><td>ExprTuple</td><td>3</td><td><a class=\"ProveItLink\" href=\"../85120790518a7ec1647480d3007bf6f47885a5e70/expr.ipynb\"><img src=\"../85120790518a7ec1647480d3007bf6f47885a5e70/expr.png\" style=\"display:inline;vertical-align:middle;\" /></a></td></tr>\n",
       "<tr><td>2</td><td>ExprRange</td><td>lambda_map:&nbsp;4<br>start_index:&nbsp;21<br>end_index:&nbsp;5<br></td><td><a class=\"ProveItLink\" href=\"../../../../../../core_expr_types/__pv_it/common/f2446d23f25b2a0391ce7ae7ebebadb55f507e4c0/expr.ipynb\"><img src=\"../../../../../../core_expr_types/__pv_it/common/f2446d23f25b2a0391ce7ae7ebebadb55f507e4c0/expr.png\" style=\"display:inline;vertical-align:middle;\" /></a></td></tr>\n",
       "<tr><td>3</td><td>ExprRange</td><td>lambda_map:&nbsp;6<br>start_index:&nbsp;21<br>end_index:&nbsp;22<br></td><td><a class=\"ProveItLink\" href=\"../f48e0cdc518514c99ea7a1ae19a22696b2df08210/expr.ipynb\"><img src=\"../f48e0cdc518514c99ea7a1ae19a22696b2df08210/expr.png\" style=\"display:inline;vertical-align:middle;\" /></a></td></tr>\n",
       "<tr><td>4</td><td>Lambda</td><td>parameter:&nbsp;20<br>body:&nbsp;7<br></td><td><a class=\"ProveItLink\" href=\"../../../../../../core_expr_types/__pv_it/common/1bd846a53c13d706c6fe9ce76f1edc9e81c50bc40/expr.ipynb\"><img src=\"../../../../../../core_expr_types/__pv_it/common/1bd846a53c13d706c6fe9ce76f1edc9e81c50bc40/expr.png\" style=\"display:inline;vertical-align:middle;\" /></a></td></tr>\n",
       "<tr><td>5</td><td>Variable</td><td></td><td><a class=\"ProveItLink\" href=\"../../../../../../__pv_it/common/674a03b9c3ca221b3aabd5636837b31528ff33830/expr.ipynb\"><img src=\"../../../../../../__pv_it/common/674a03b9c3ca221b3aabd5636837b31528ff33830/expr.png\" style=\"display:inline;vertical-align:middle;\" /></a></td></tr>\n",
       "<tr><td>6</td><td>Lambda</td><td>parameter:&nbsp;20<br>body:&nbsp;8<br></td><td><a class=\"ProveItLink\" href=\"../83a7d71237b86ce51333808cc2e0af1cb0baa22e0/expr.ipynb\"><img src=\"../83a7d71237b86ce51333808cc2e0af1cb0baa22e0/expr.png\" style=\"display:inline;vertical-align:middle;\" /></a></td></tr>\n",
       "<tr><td>7</td><td>IndexedVar</td><td>variable:&nbsp;9<br>index:&nbsp;20<br></td><td><a class=\"ProveItLink\" href=\"../../../../../../core_expr_types/__pv_it/common/a0a589405bd46ff5f5081e37e3ecae7ecd8092eb0/expr.ipynb\"><img src=\"../../../../../../core_expr_types/__pv_it/common/a0a589405bd46ff5f5081e37e3ecae7ecd8092eb0/expr.png\" style=\"display:inline;vertical-align:middle;\" /></a></td></tr>\n",
       "<tr><td>8</td><td>Operation</td><td>operator:&nbsp;11<br>operands:&nbsp;12<br></td><td><a class=\"ProveItLink\" href=\"../ff1045ff5961f2231f9ba440f1548488a77f40e90/expr.ipynb\"><img src=\"../ff1045ff5961f2231f9ba440f1548488a77f40e90/expr.png\" style=\"display:inline;vertical-align:middle;\" /></a></td></tr>\n",
       "<tr><td>9</td><td>Variable</td><td></td><td><a class=\"ProveItLink\" href=\"../../../../../../__pv_it/common/2586cdae2fd2785a5bcbf61f99f7aaf8229d775e0/expr.ipynb\"><img src=\"../../../../../../__pv_it/common/2586cdae2fd2785a5bcbf61f99f7aaf8229d775e0/expr.png\" style=\"display:inline;vertical-align:middle;\" /></a></td></tr>\n",
       "<tr><td>10</td><td>ExprTuple</td><td>20</td><td><a class=\"ProveItLink\" href=\"../../../../../../core_expr_types/__pv_it/common/4b0dd6be36d76552eda6a95d5b4a27f5a5b62f900/expr.ipynb\"><img src=\"../../../../../../core_expr_types/__pv_it/common/4b0dd6be36d76552eda6a95d5b4a27f5a5b62f900/expr.png\" style=\"display:inline;vertical-align:middle;\" /></a></td></tr>\n",
       "<tr><td>11</td><td>Literal</td><td></td><td><a class=\"ProveItLink\" href=\"../5eaa43008f05c06941080a12337ff182ea14996e0/expr.ipynb\"><img src=\"../5eaa43008f05c06941080a12337ff182ea14996e0/expr.png\" style=\"display:inline;vertical-align:middle;\" /></a></td></tr>\n",
       "<tr><td>12</td><td>NamedExprs</td><td>element: 13<br>targets: 14<br></td><td><a class=\"ProveItLink\" href=\"../55512746aeed19c3231556d3b39920844ecaf7e60/expr.ipynb\"><img src=\"../55512746aeed19c3231556d3b39920844ecaf7e60/expr.png\" style=\"display:inline;vertical-align:middle;\" /></a></td></tr>\n",
       "<tr><td>13</td><td>Operation</td><td>operator:&nbsp;15<br>operands:&nbsp;16<br></td><td><a class=\"ProveItLink\" href=\"../4e427095d75b6bdb2917d6aebbf68b6198ca3d2d0/expr.ipynb\"><img src=\"../4e427095d75b6bdb2917d6aebbf68b6198ca3d2d0/expr.png\" style=\"display:inline;vertical-align:middle;\" /></a></td></tr>\n",
       "<tr><td>14</td><td>Operation</td><td>operator:&nbsp;17<br>operands:&nbsp;18<br></td><td><a class=\"ProveItLink\" href=\"../a8b7e69e51be1878195dc38a06157ebea6c529ef0/expr.ipynb\"><img src=\"../a8b7e69e51be1878195dc38a06157ebea6c529ef0/expr.png\" style=\"display:inline;vertical-align:middle;\" /></a></td></tr>\n",
       "<tr><td>15</td><td>Literal</td><td></td><td><a class=\"ProveItLink\" href=\"../deea8715ce6701df08bbe1d049112a0bad4965c20/expr.ipynb\"><img src=\"../deea8715ce6701df08bbe1d049112a0bad4965c20/expr.png\" style=\"display:inline;vertical-align:middle;\" /></a></td></tr>\n",
       "<tr><td>16</td><td>NamedExprs</td><td>state: 19<br>part: 20<br></td><td><a class=\"ProveItLink\" href=\"../a793d72f916a5fb11c4a873a1ad449dcb75faded0/expr.ipynb\"><img src=\"../a793d72f916a5fb11c4a873a1ad449dcb75faded0/expr.png\" style=\"display:inline;vertical-align:middle;\" /></a></td></tr>\n",
       "<tr><td>17</td><td>Literal</td><td></td><td><a class=\"ProveItLink\" href=\"../../../../../../numbers/number_sets/integers/__pv_it/common/92f3a0a77e3c3ea8e4a5c8674edadc54e4f57d550/expr.ipynb\"><img src=\"../../../../../../numbers/number_sets/integers/__pv_it/common/92f3a0a77e3c3ea8e4a5c8674edadc54e4f57d550/expr.png\" style=\"display:inline;vertical-align:middle;\" /></a></td></tr>\n",
       "<tr><td>18</td><td>ExprTuple</td><td>21, 22</td><td><a class=\"ProveItLink\" href=\"../5f07297842aa7d8ed0c46d3d4896804c899607f00/expr.ipynb\"><img src=\"../5f07297842aa7d8ed0c46d3d4896804c899607f00/expr.png\" style=\"display:inline;vertical-align:middle;\" /></a></td></tr>\n",
       "<tr><td>19</td><td>Variable</td><td></td><td><a class=\"ProveItLink\" href=\"../../../../../../__pv_it/common/c06c606ec12678c58933ac85412ecadc2ae28be60/expr.ipynb\"><img src=\"../../../../../../__pv_it/common/c06c606ec12678c58933ac85412ecadc2ae28be60/expr.png\" style=\"display:inline;vertical-align:middle;\" /></a></td></tr>\n",
       "<tr><td>20</td><td>Variable</td><td></td><td><a class=\"ProveItLink\" href=\"../../../../../../core_expr_types/__pv_it/common/006c465e50948aa2b52285e2de47974f741255cc0/expr.ipynb\"><img src=\"../../../../../../core_expr_types/__pv_it/common/006c465e50948aa2b52285e2de47974f741255cc0/expr.png\" style=\"display:inline;vertical-align:middle;\" /></a></td></tr>\n",
       "<tr><td>21</td><td>Literal</td><td></td><td><a class=\"ProveItLink\" href=\"../../../../../../numbers/numerals/__pv_it/common/682157d4892d216d9e5626ed533aff9b56b9506e0/expr.ipynb\"><img src=\"../../../../../../numbers/numerals/__pv_it/common/682157d4892d216d9e5626ed533aff9b56b9506e0/expr.png\" style=\"display:inline;vertical-align:middle;\" /></a></td></tr>\n",
       "<tr><td>22</td><td>Variable</td><td></td><td><a class=\"ProveItLink\" href=\"../../../../../../__pv_it/common/63b7c64bf9ec7a04ecc396c7a1670f3f12fb59490/expr.ipynb\"><img src=\"../../../../../../__pv_it/common/63b7c64bf9ec7a04ecc396c7a1670f3f12fb59490/expr.png\" style=\"display:inline;vertical-align:middle;\" /></a></td></tr>\n",
       "</table>\n"
      ],
      "text/plain": [
       "0. VertExprArray(([MULTI_QUBIT_ELEM]{element:[INPUT]{state:a, part:1}, targets:{1 .. k}}, [MULTI_QUBIT_ELEM]{element:[INPUT]{state:a, part:2}, targets:{1 .. k}}, ..., [MULTI_QUBIT_ELEM]{element:[INPUT]{state:a, part:k}, targets:{1 .. k}}), \\\\ U_{1}, U_{2}, ..., U_{m})\n",
       "   core type: ExprTuple\n",
       "   sub-expressions: 1, 2\n",
       "1. ([MULTI_QUBIT_ELEM]{element:[INPUT]{state:a, part:1}, targets:{1 .. k}}, [MULTI_QUBIT_ELEM]{element:[INPUT]{state:a, part:2}, targets:{1 .. k}}, ..., [MULTI_QUBIT_ELEM]{element:[INPUT]{state:a, part:k}, targets:{1 .. k}})\n",
       "   core type: ExprTuple\n",
       "   sub-expressions: 3\n",
       "2. U_{1}, U_{2}, ..., U_{m}\n",
       "   core type: ExprRange\n",
       "   lambda_map: 4\n",
       "   start_index: 21\n",
       "   end_index: 5\n",
       "3. [MULTI_QUBIT_ELEM]{element:[INPUT]{state:a, part:1}, targets:{1 .. k}}, [MULTI_QUBIT_ELEM]{element:[INPUT]{state:a, part:2}, targets:{1 .. k}}, ..., [MULTI_QUBIT_ELEM]{element:[INPUT]{state:a, part:k}, targets:{1 .. k}}\n",
       "   core type: ExprRange\n",
       "   lambda_map: 6\n",
       "   start_index: 21\n",
       "   end_index: 22\n",
       "4. _a -> U_{_a}\n",
       "   core type: Lambda\n",
       "   parameter: 20\n",
       "   body: 7\n",
       "5. m\n",
       "   core type: Variable\n",
       "   sub-expressions: \n",
       "6. _a -> [MULTI_QUBIT_ELEM]{element:[INPUT]{state:a, part:_a}, targets:{1 .. k}}\n",
       "   core type: Lambda\n",
       "   parameter: 20\n",
       "   body: 8\n",
       "7. U_{_a}\n",
       "   core type: IndexedVar\n",
       "variable: 9\n",
       "index: 20\n",
       "8. [MULTI_QUBIT_ELEM]{element:[INPUT]{state:a, part:_a}, targets:{1 .. k}}\n",
       "   core type: Operation\n",
       "   operator: 11\n",
       "   operands: 12\n",
       "9. U\n",
       "   core type: Variable\n",
       "   sub-expressions: \n",
       "10. (_a)\n",
       "    core type: ExprTuple\n",
       "    sub-expressions: 20\n",
       "11. MULTI_QUBIT_ELEM\n",
       "    core type: Literal\n",
       "    sub-expressions: \n",
       "12. {element:[INPUT]{state:a, part:_a}, targets:{1 .. k}}\n",
       "    core type: NamedExprs\n",
       "    element: 13\n",
       "    targets: 14\n",
       "13. [INPUT]{state:a, part:_a}\n",
       "    core type: Operation\n",
       "    operator: 15\n",
       "    operands: 16\n",
       "14. {1 .. k}\n",
       "    core type: Operation\n",
       "    operator: 17\n",
       "    operands: 18\n",
       "15. INPUT\n",
       "    core type: Literal\n",
       "    sub-expressions: \n",
       "16. {state:a, part:_a}\n",
       "    core type: NamedExprs\n",
       "    state: 19\n",
       "    part: 20\n",
       "17. Interval\n",
       "    core type: Literal\n",
       "    sub-expressions: \n",
       "18. (1, k)\n",
       "    core type: ExprTuple\n",
       "    sub-expressions: 21, 22\n",
       "19. a\n",
       "    core type: Variable\n",
       "    sub-expressions: \n",
       "20. _a\n",
       "    core type: Variable\n",
       "    sub-expressions: \n",
       "21. 1\n",
       "    core type: Literal\n",
       "    sub-expressions: \n",
       "22. k\n",
       "    core type: Variable\n",
       "    sub-expressions: "
      ]
     },
     "metadata": {},
     "output_type": "display_data"
    }
   ],
   "source": [
    "# display the expression information\n",
    "stored_expr.expr_info()"
   ]
  },
  {
   "cell_type": "code",
   "execution_count": null,
   "metadata": {},
   "outputs": [],
   "source": []
  }
 ],
 "metadata": {
  "kernelspec": {
   "display_name": "Python 3",
   "language": "python",
   "name": "python3"
  }
 },
 "nbformat": 4,
 "nbformat_minor": 0
}