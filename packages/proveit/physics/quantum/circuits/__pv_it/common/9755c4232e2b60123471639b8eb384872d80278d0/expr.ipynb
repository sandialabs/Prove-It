{
 "cells": [
  {
   "cell_type": "markdown",
   "metadata": {},
   "source": [
    "Expression of type <a class=\"ProveItLink\" href=\"../../../../../../../../doc/html/api/proveit.physics.quantum.circuits.Qcircuit.html\">Qcircuit</a>\n",
    "=======================\n",
    "# from the theory of <a class=\"ProveItLink\" href=\"../../../_theory_nbs_/theory.ipynb\">proveit.physics.quantum.circuits</a>"
   ]
  },
  {
   "cell_type": "code",
   "execution_count": 1,
   "metadata": {},
   "outputs": [],
   "source": [
    "import proveit\n",
    "# Automation is not needed when building an expression:\n",
    "proveit.defaults.automation = False # This will speed things up.\n",
    "proveit.defaults.inline_pngs = False # Makes files smaller.\n",
    "%load_expr # Load the stored expression as 'stored_expr'\n",
    "# import Expression classes needed to build the expression\n",
    "from proveit import D, ExprRange, IndexedVar, U, Variable, VertExprArray, k, n\n",
    "from proveit.numbers import one\n",
    "from proveit.physics.quantum.circuits import MultiQubitElem, Qcircuit"
   ]
  },
  {
   "cell_type": "code",
   "execution_count": 2,
   "metadata": {},
   "outputs": [
    {
     "data": {
      "text/html": [
       "<strong id=\"expr\">expr:</strong> <a class=\"ProveItLink\" href=\"expr.ipynb\"><img src=\"expr.png\" style=\"display:inline;vertical-align:middle;\" /></a><br>"
      ],
      "text/plain": [
       "<IPython.core.display.HTML object>"
      ]
     },
     "metadata": {},
     "output_type": "display_data"
    }
   ],
   "source": [
    "# build up the expression from sub-expressions\n",
    "sub_expr1 = Variable(\"_b\", latex_format = r\"{_{-}b}\")\n",
    "sub_expr2 = Variable(\"_a\", latex_format = r\"{_{-}a}\")\n",
    "sub_expr3 = [sub_expr1, sub_expr2]\n",
    "expr = Qcircuit(vert_expr_array = VertExprArray(ExprRange(sub_expr1, [ExprRange(sub_expr2, MultiQubitElem(element = IndexedVar(D, sub_expr3), targets = IndexedVar(U, sub_expr3)), one, k)], one, n)))"
   ]
  },
  {
   "cell_type": "code",
   "execution_count": 3,
   "metadata": {},
   "outputs": [
    {
     "name": "stdout",
     "output_type": "stream",
     "text": [
      "Passed sanity check: expr matches stored_expr\n"
     ]
    }
   ],
   "source": [
    "# check that the built expression is the same as the stored expression\n",
    "assert expr == stored_expr\n",
    "assert expr._style_id == stored_expr._style_id\n",
    "print(\"Passed sanity check: expr matches stored_expr\")"
   ]
  },
  {
   "cell_type": "code",
   "execution_count": 4,
   "metadata": {},
   "outputs": [
    {
     "name": "stdout",
     "output_type": "stream",
     "text": [
      "\\begin{array}{c} \\Qcircuit@C=1em @R=.7em{\n",
      "& \\gate{D_{1, 1}~\\mbox{on}~U_{1, 1}} \\qwx[1] & \\gate{D_{2, 1}~\\mbox{on}~U_{2, 1}} \\qwx[1] & \\gate{\\cdots} \\qwx[1] & \\gate{D_{n, 1}~\\mbox{on}~U_{n, 1}} \\qwx[1] & \\qw \\\\\n",
      "& \\gate{D_{1, 2}~\\mbox{on}~U_{1, 2}} \\qwx[1] & \\gate{D_{2, 2}~\\mbox{on}~U_{2, 2}} \\qwx[1] & \\gate{\\cdots} \\qwx[1] & \\gate{D_{n, 2}~\\mbox{on}~U_{n, 2}} \\qwx[1] & \\qw \\\\\n",
      "& \\gate{\\vdots} \\qwx[1] & \\gate{\\vdots} \\qwx[1] & \\gate{\\ddots} \\qwx[1] & \\gate{\\vdots} \\qwx[1] & \\qw \\\\\n",
      "& \\gate{D_{1, k}~\\mbox{on}~U_{1, k}} & \\gate{D_{2, k}~\\mbox{on}~U_{2, k}} & \\gate{\\cdots} & \\gate{D_{n, k}~\\mbox{on}~U_{n, k}} & \\qw\n",
      "} \\end{array}\n"
     ]
    }
   ],
   "source": [
    "# Show the LaTeX representation of the expression for convenience if you need it.\n",
    "print(stored_expr.latex())"
   ]
  },
  {
   "cell_type": "code",
   "execution_count": 5,
   "metadata": {},
   "outputs": [
    {
     "data": {
      "text/html": [
       "<table>\n",
       "<tr><th>name</th><th>description</th><th>default</th><th>current value</th><th>related methods</th></tr><tr><td>spacing</td><td>change the spacing of a circuit using the format '@C=1em @R=.7em' where C is the column spacing and R is the row spacing</td><td>@C=1em @R=.7em</td><td>@C=1em @R=.7em</td><td></td></tr>\n",
       "</table>\n"
      ],
      "text/plain": [
       "style name: spacing\n",
       "description: change the spacing of a circuit using the format '@C=1em @R=.7em' where C is the column spacing and R is the row spacing\n",
       "default: @C=1em @R=.7em\n",
       "current value: @C=1em @R=.7em\n",
       "related methods: ()"
      ]
     },
     "metadata": {},
     "output_type": "display_data"
    }
   ],
   "source": [
    "stored_expr.style_options()"
   ]
  },
  {
   "cell_type": "code",
   "execution_count": 6,
   "metadata": {},
   "outputs": [
    {
     "data": {
      "text/html": [
       "<table><tr><th>&nbsp;</th><th>core type</th><th>sub-expressions</th><th>expression</th></tr>\n",
       "<tr><td>0</td><td>Operation</td><td>operator:&nbsp;1<br>operands:&nbsp;2<br></td><td><a class=\"ProveItLink\" href=\"expr.ipynb\"><img src=\"expr.png\" style=\"display:inline;vertical-align:middle;\" /></a></td></tr>\n",
       "<tr><td>1</td><td>Literal</td><td></td><td><a class=\"ProveItLink\" href=\"../40003b89a3d1740159ada9fe5b21308b42a7d3d40/expr.ipynb\"><img src=\"../40003b89a3d1740159ada9fe5b21308b42a7d3d40/expr.png\" style=\"display:inline;vertical-align:middle;\" /></a></td></tr>\n",
       "<tr><td>2</td><td>ExprTuple</td><td>3</td><td><a class=\"ProveItLink\" href=\"../00ce1fad92daf9c6bd838fbd2eecb0d3d91fd44b0/expr.ipynb\"><img src=\"../00ce1fad92daf9c6bd838fbd2eecb0d3d91fd44b0/expr.png\" style=\"display:inline;vertical-align:middle;\" /></a></td></tr>\n",
       "<tr><td>3</td><td>ExprRange</td><td>lambda_map:&nbsp;4<br>start_index:&nbsp;10<br>end_index:&nbsp;5<br></td><td><a class=\"ProveItLink\" href=\"../83b17d881be3452dc292ad24a845cfd06e4c04590/expr.ipynb\"><img src=\"../83b17d881be3452dc292ad24a845cfd06e4c04590/expr.png\" style=\"display:inline;vertical-align:middle;\" /></a></td></tr>\n",
       "<tr><td>4</td><td>Lambda</td><td>parameter:&nbsp;21<br>body:&nbsp;7<br></td><td><a class=\"ProveItLink\" href=\"../263aad255fe5d8d34c48af34e17bd7986897309f0/expr.ipynb\"><img src=\"../263aad255fe5d8d34c48af34e17bd7986897309f0/expr.png\" style=\"display:inline;vertical-align:middle;\" /></a></td></tr>\n",
       "<tr><td>5</td><td>Variable</td><td></td><td><a class=\"ProveItLink\" href=\"../../../../../../__pv_it/common/8968bb04eb3f7dfa02353397ce929b025bbd79c20/expr.ipynb\"><img src=\"../../../../../../__pv_it/common/8968bb04eb3f7dfa02353397ce929b025bbd79c20/expr.png\" style=\"display:inline;vertical-align:middle;\" /></a></td></tr>\n",
       "<tr><td>6</td><td>ExprTuple</td><td>21</td><td><a class=\"ProveItLink\" href=\"../../../../../../core_expr_types/expr_arrays/__pv_it/common/18f7318b68e45ff8356043b6e71619fa8450fb200/expr.ipynb\"><img src=\"../../../../../../core_expr_types/expr_arrays/__pv_it/common/18f7318b68e45ff8356043b6e71619fa8450fb200/expr.png\" style=\"display:inline;vertical-align:middle;\" /></a></td></tr>\n",
       "<tr><td>7</td><td>ExprTuple</td><td>8</td><td><a class=\"ProveItLink\" href=\"../4d8133b4bd9599d6d0787f39da2474bc2b9a6b4f0/expr.ipynb\"><img src=\"../4d8133b4bd9599d6d0787f39da2474bc2b9a6b4f0/expr.png\" style=\"display:inline;vertical-align:middle;\" /></a></td></tr>\n",
       "<tr><td>8</td><td>ExprRange</td><td>lambda_map:&nbsp;9<br>start_index:&nbsp;10<br>end_index:&nbsp;11<br></td><td><a class=\"ProveItLink\" href=\"../d8257dfea1e06d63f7a23b940756a51be56a69650/expr.ipynb\"><img src=\"../d8257dfea1e06d63f7a23b940756a51be56a69650/expr.png\" style=\"display:inline;vertical-align:middle;\" /></a></td></tr>\n",
       "<tr><td>9</td><td>Lambda</td><td>parameter:&nbsp;22<br>body:&nbsp;13<br></td><td><a class=\"ProveItLink\" href=\"../55263e55a4cb6c4f73fd813763da872dd48771200/expr.ipynb\"><img src=\"../55263e55a4cb6c4f73fd813763da872dd48771200/expr.png\" style=\"display:inline;vertical-align:middle;\" /></a></td></tr>\n",
       "<tr><td>10</td><td>Literal</td><td></td><td><a class=\"ProveItLink\" href=\"../../../../../../numbers/numerals/__pv_it/common/682157d4892d216d9e5626ed533aff9b56b9506e0/expr.ipynb\"><img src=\"../../../../../../numbers/numerals/__pv_it/common/682157d4892d216d9e5626ed533aff9b56b9506e0/expr.png\" style=\"display:inline;vertical-align:middle;\" /></a></td></tr>\n",
       "<tr><td>11</td><td>Variable</td><td></td><td><a class=\"ProveItLink\" href=\"../../../../../../__pv_it/common/63b7c64bf9ec7a04ecc396c7a1670f3f12fb59490/expr.ipynb\"><img src=\"../../../../../../__pv_it/common/63b7c64bf9ec7a04ecc396c7a1670f3f12fb59490/expr.png\" style=\"display:inline;vertical-align:middle;\" /></a></td></tr>\n",
       "<tr><td>12</td><td>ExprTuple</td><td>22</td><td><a class=\"ProveItLink\" href=\"../../../../../../core_expr_types/__pv_it/common/4b0dd6be36d76552eda6a95d5b4a27f5a5b62f900/expr.ipynb\"><img src=\"../../../../../../core_expr_types/__pv_it/common/4b0dd6be36d76552eda6a95d5b4a27f5a5b62f900/expr.png\" style=\"display:inline;vertical-align:middle;\" /></a></td></tr>\n",
       "<tr><td>13</td><td>Operation</td><td>operator:&nbsp;14<br>operands:&nbsp;15<br></td><td><a class=\"ProveItLink\" href=\"../28979e09a753bdd52e081ce68c01465c29f683460/expr.ipynb\"><img src=\"../28979e09a753bdd52e081ce68c01465c29f683460/expr.png\" style=\"display:inline;vertical-align:middle;\" /></a></td></tr>\n",
       "<tr><td>14</td><td>Literal</td><td></td><td><a class=\"ProveItLink\" href=\"../5eaa43008f05c06941080a12337ff182ea14996e0/expr.ipynb\"><img src=\"../5eaa43008f05c06941080a12337ff182ea14996e0/expr.png\" style=\"display:inline;vertical-align:middle;\" /></a></td></tr>\n",
       "<tr><td>15</td><td>NamedExprs</td><td>element: 16<br>targets: 17<br></td><td><a class=\"ProveItLink\" href=\"../2bffb91c87cc3ff9265bb05c41c3808244c03a310/expr.ipynb\"><img src=\"../2bffb91c87cc3ff9265bb05c41c3808244c03a310/expr.png\" style=\"display:inline;vertical-align:middle;\" /></a></td></tr>\n",
       "<tr><td>16</td><td>IndexedVar</td><td>variable:&nbsp;18<br>indices:&nbsp;20<br></td><td><a class=\"ProveItLink\" href=\"../../../../../../core_expr_types/expr_arrays/__pv_it/common/2753182fc606f3db8cf50a87b84f4592482dba5f0/expr.ipynb\"><img src=\"../../../../../../core_expr_types/expr_arrays/__pv_it/common/2753182fc606f3db8cf50a87b84f4592482dba5f0/expr.png\" style=\"display:inline;vertical-align:middle;\" /></a></td></tr>\n",
       "<tr><td>17</td><td>IndexedVar</td><td>variable:&nbsp;19<br>indices:&nbsp;20<br></td><td><a class=\"ProveItLink\" href=\"../8b15d6188b5374b549a7c7c645671c38d6d443b80/expr.ipynb\"><img src=\"../8b15d6188b5374b549a7c7c645671c38d6d443b80/expr.png\" style=\"display:inline;vertical-align:middle;\" /></a></td></tr>\n",
       "<tr><td>18</td><td>Variable</td><td></td><td><a class=\"ProveItLink\" href=\"../../../../../../__pv_it/common/8d36d28f3636cdaa66f8b7d56eb3bbf0b50f70200/expr.ipynb\"><img src=\"../../../../../../__pv_it/common/8d36d28f3636cdaa66f8b7d56eb3bbf0b50f70200/expr.png\" style=\"display:inline;vertical-align:middle;\" /></a></td></tr>\n",
       "<tr><td>19</td><td>Variable</td><td></td><td><a class=\"ProveItLink\" href=\"../../../../../../__pv_it/common/2586cdae2fd2785a5bcbf61f99f7aaf8229d775e0/expr.ipynb\"><img src=\"../../../../../../__pv_it/common/2586cdae2fd2785a5bcbf61f99f7aaf8229d775e0/expr.png\" style=\"display:inline;vertical-align:middle;\" /></a></td></tr>\n",
       "<tr><td>20</td><td>ExprTuple</td><td>21, 22</td><td><a class=\"ProveItLink\" href=\"../../../../../../core_expr_types/expr_arrays/__pv_it/common/c899820ca7633ea1589f21e8e039aa4da91850d80/expr.ipynb\"><img src=\"../../../../../../core_expr_types/expr_arrays/__pv_it/common/c899820ca7633ea1589f21e8e039aa4da91850d80/expr.png\" style=\"display:inline;vertical-align:middle;\" /></a></td></tr>\n",
       "<tr><td>21</td><td>Variable</td><td></td><td><a class=\"ProveItLink\" href=\"../../../../../../core_expr_types/expr_arrays/__pv_it/common/9a18d67b443cf8d92289c655ed91ec78766170a90/expr.ipynb\"><img src=\"../../../../../../core_expr_types/expr_arrays/__pv_it/common/9a18d67b443cf8d92289c655ed91ec78766170a90/expr.png\" style=\"display:inline;vertical-align:middle;\" /></a></td></tr>\n",
       "<tr><td>22</td><td>Variable</td><td></td><td><a class=\"ProveItLink\" href=\"../../../../../../core_expr_types/expr_arrays/__pv_it/common/006c465e50948aa2b52285e2de47974f741255cc0/expr.ipynb\"><img src=\"../../../../../../core_expr_types/expr_arrays/__pv_it/common/006c465e50948aa2b52285e2de47974f741255cc0/expr.png\" style=\"display:inline;vertical-align:middle;\" /></a></td></tr>\n",
       "</table>\n"
      ],
      "text/plain": [
       "0. QCIRCUIT(VertExprArray(([MULTI_QUBIT_ELEM]{element:D_{1, 1}, targets:U_{1, 1}}, [MULTI_QUBIT_ELEM]{element:D_{1, 2}, targets:U_{1, 2}}, ..., [MULTI_QUBIT_ELEM]{element:D_{1, k}, targets:U_{1, k}}), ([MULTI_QUBIT_ELEM]{element:D_{2, 1}, targets:U_{2, 1}}, [MULTI_QUBIT_ELEM]{element:D_{2, 2}, targets:U_{2, 2}}, ..., [MULTI_QUBIT_ELEM]{element:D_{2, k}, targets:U_{2, k}}), ..., ([MULTI_QUBIT_ELEM]{element:D_{n, 1}, targets:U_{n, 1}}, [MULTI_QUBIT_ELEM]{element:D_{n, 2}, targets:U_{n, 2}}, ..., [MULTI_QUBIT_ELEM]{element:D_{n, k}, targets:U_{n, k}})))\n",
       "   core type: Operation\n",
       "   operator: 1\n",
       "   operands: 2\n",
       "1. QCIRCUIT\n",
       "   core type: Literal\n",
       "   sub-expressions: \n",
       "2. VertExprArray(([MULTI_QUBIT_ELEM]{element:D_{1, 1}, targets:U_{1, 1}}, [MULTI_QUBIT_ELEM]{element:D_{1, 2}, targets:U_{1, 2}}, ..., [MULTI_QUBIT_ELEM]{element:D_{1, k}, targets:U_{1, k}}), ([MULTI_QUBIT_ELEM]{element:D_{2, 1}, targets:U_{2, 1}}, [MULTI_QUBIT_ELEM]{element:D_{2, 2}, targets:U_{2, 2}}, ..., [MULTI_QUBIT_ELEM]{element:D_{2, k}, targets:U_{2, k}}), ..., ([MULTI_QUBIT_ELEM]{element:D_{n, 1}, targets:U_{n, 1}}, [MULTI_QUBIT_ELEM]{element:D_{n, 2}, targets:U_{n, 2}}, ..., [MULTI_QUBIT_ELEM]{element:D_{n, k}, targets:U_{n, k}}))\n",
       "   core type: ExprTuple\n",
       "   sub-expressions: 3\n",
       "3. ([MULTI_QUBIT_ELEM]{element:D_{1, 1}, targets:U_{1, 1}}, [MULTI_QUBIT_ELEM]{element:D_{1, 2}, targets:U_{1, 2}}, ..., [MULTI_QUBIT_ELEM]{element:D_{1, k}, targets:U_{1, k}}), ([MULTI_QUBIT_ELEM]{element:D_{2, 1}, targets:U_{2, 1}}, [MULTI_QUBIT_ELEM]{element:D_{2, 2}, targets:U_{2, 2}}, ..., [MULTI_QUBIT_ELEM]{element:D_{2, k}, targets:U_{2, k}}), ..., ([MULTI_QUBIT_ELEM]{element:D_{n, 1}, targets:U_{n, 1}}, [MULTI_QUBIT_ELEM]{element:D_{n, 2}, targets:U_{n, 2}}, ..., [MULTI_QUBIT_ELEM]{element:D_{n, k}, targets:U_{n, k}})\n",
       "   core type: ExprRange\n",
       "   lambda_map: 4\n",
       "   start_index: 10\n",
       "   end_index: 5\n",
       "4. _b -> ([MULTI_QUBIT_ELEM]{element:D_{_b, 1}, targets:U_{_b, 1}}, [MULTI_QUBIT_ELEM]{element:D_{_b, 2}, targets:U_{_b, 2}}, ..., [MULTI_QUBIT_ELEM]{element:D_{_b, k}, targets:U_{_b, k}})\n",
       "   core type: Lambda\n",
       "   parameter: 21\n",
       "   body: 7\n",
       "5. n\n",
       "   core type: Variable\n",
       "   sub-expressions: \n",
       "6. (_b)\n",
       "   core type: ExprTuple\n",
       "   sub-expressions: 21\n",
       "7. ([MULTI_QUBIT_ELEM]{element:D_{_b, 1}, targets:U_{_b, 1}}, [MULTI_QUBIT_ELEM]{element:D_{_b, 2}, targets:U_{_b, 2}}, ..., [MULTI_QUBIT_ELEM]{element:D_{_b, k}, targets:U_{_b, k}})\n",
       "   core type: ExprTuple\n",
       "   sub-expressions: 8\n",
       "8. [MULTI_QUBIT_ELEM]{element:D_{_b, 1}, targets:U_{_b, 1}}, [MULTI_QUBIT_ELEM]{element:D_{_b, 2}, targets:U_{_b, 2}}, ..., [MULTI_QUBIT_ELEM]{element:D_{_b, k}, targets:U_{_b, k}}\n",
       "   core type: ExprRange\n",
       "   lambda_map: 9\n",
       "   start_index: 10\n",
       "   end_index: 11\n",
       "9. _a -> [MULTI_QUBIT_ELEM]{element:D_{_b, _a}, targets:U_{_b, _a}}\n",
       "   core type: Lambda\n",
       "   parameter: 22\n",
       "   body: 13\n",
       "10. 1\n",
       "    core type: Literal\n",
       "    sub-expressions: \n",
       "11. k\n",
       "    core type: Variable\n",
       "    sub-expressions: \n",
       "12. (_a)\n",
       "    core type: ExprTuple\n",
       "    sub-expressions: 22\n",
       "13. [MULTI_QUBIT_ELEM]{element:D_{_b, _a}, targets:U_{_b, _a}}\n",
       "    core type: Operation\n",
       "    operator: 14\n",
       "    operands: 15\n",
       "14. MULTI_QUBIT_ELEM\n",
       "    core type: Literal\n",
       "    sub-expressions: \n",
       "15. {element:D_{_b, _a}, targets:U_{_b, _a}}\n",
       "    core type: NamedExprs\n",
       "    element: 16\n",
       "    targets: 17\n",
       "16. D_{_b, _a}\n",
       "    core type: IndexedVar\n",
       "variable: 18\n",
       "indices: 20\n",
       "17. U_{_b, _a}\n",
       "    core type: IndexedVar\n",
       "variable: 19\n",
       "indices: 20\n",
       "18. D\n",
       "    core type: Variable\n",
       "    sub-expressions: \n",
       "19. U\n",
       "    core type: Variable\n",
       "    sub-expressions: \n",
       "20. (_b, _a)\n",
       "    core type: ExprTuple\n",
       "    sub-expressions: 21, 22\n",
       "21. _b\n",
       "    core type: Variable\n",
       "    sub-expressions: \n",
       "22. _a\n",
       "    core type: Variable\n",
       "    sub-expressions: "
      ]
     },
     "metadata": {},
     "output_type": "display_data"
    }
   ],
   "source": [
    "# display the expression information\n",
    "stored_expr.expr_info()"
   ]
  },
  {
   "cell_type": "code",
   "execution_count": null,
   "metadata": {},
   "outputs": [],
   "source": []
  }
 ],
 "metadata": {
  "kernelspec": {
   "display_name": "Python 3",
   "language": "python",
   "name": "python3"
  }
 },
 "nbformat": 4,
 "nbformat_minor": 0
}