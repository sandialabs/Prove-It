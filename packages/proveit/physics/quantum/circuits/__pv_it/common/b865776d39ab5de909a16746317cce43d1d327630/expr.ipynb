{
 "cells": [
  {
   "cell_type": "markdown",
   "metadata": {},
   "source": [
    "Expression of type <a class=\"ProveItLink\" href=\"../../../../../../../../doc/html/api/proveit.physics.quantum.circuits.Qcircuit.html\">Qcircuit</a>\n",
    "=======================\n",
    "# from the theory of <a class=\"ProveItLink\" href=\"../../../_theory_nbs_/theory.ipynb\">proveit.physics.quantum.circuits</a>"
   ]
  },
  {
   "cell_type": "code",
   "execution_count": 1,
   "metadata": {},
   "outputs": [],
   "source": [
    "import proveit\n",
    "# Automation is not needed when building an expression:\n",
    "proveit.defaults.automation = False # This will speed things up.\n",
    "proveit.defaults.inline_pngs = False # Makes files smaller.\n",
    "%load_expr # Load the stored expression as 'stored_expr'\n",
    "# import Expression classes needed to build the expression\n",
    "from proveit import B, ExprRange, Function, IndexedVar, S, Variable, VertExprArray, k, n, p\n",
    "from proveit.logic import InvImage\n",
    "from proveit.numbers import one\n",
    "from proveit.physics.quantum.circuits import MultiQubitElem, Qcircuit"
   ]
  },
  {
   "cell_type": "code",
   "execution_count": 2,
   "metadata": {},
   "outputs": [
    {
     "data": {
      "text/html": [
       "<strong id=\"expr\">expr:</strong> <a class=\"ProveItLink\" href=\"expr.ipynb\"><img src=\"expr.png\" style=\"display:inline;vertical-align:middle;\" /></a><br>"
      ],
      "text/plain": [
       "<IPython.core.display.HTML object>"
      ]
     },
     "metadata": {},
     "output_type": "display_data"
    }
   ],
   "source": [
    "# build up the expression from sub-expressions\n",
    "sub_expr1 = Variable(\"_b\", latex_format = r\"{_{-}b}\")\n",
    "sub_expr2 = Variable(\"_a\", latex_format = r\"{_{-}a}\")\n",
    "sub_expr3 = [Function(p, [sub_expr1]), sub_expr2]\n",
    "expr = Qcircuit(vert_expr_array = VertExprArray(ExprRange(sub_expr1, [ExprRange(sub_expr2, MultiQubitElem(element = IndexedVar(B, sub_expr3), targets = Function(InvImage(p), [IndexedVar(S, sub_expr3)])), one, k)], one, n)))"
   ]
  },
  {
   "cell_type": "code",
   "execution_count": 3,
   "metadata": {},
   "outputs": [
    {
     "name": "stdout",
     "output_type": "stream",
     "text": [
      "Passed sanity check: expr matches stored_expr\n"
     ]
    }
   ],
   "source": [
    "# check that the built expression is the same as the stored expression\n",
    "assert expr == stored_expr\n",
    "assert expr._style_id == stored_expr._style_id\n",
    "print(\"Passed sanity check: expr matches stored_expr\")"
   ]
  },
  {
   "cell_type": "code",
   "execution_count": 4,
   "metadata": {},
   "outputs": [
    {
     "name": "stdout",
     "output_type": "stream",
     "text": [
      "\\begin{array}{c} \\Qcircuit@C=1em @R=.7em{\n",
      "& \\gate{B_{p\\left(1\\right), 1}~\\mbox{on}~p^{\\leftarrow}\\left(S_{p\\left(1\\right), 1}\\right)} \\qwx[1] & \\gate{B_{p\\left(2\\right), 1}~\\mbox{on}~p^{\\leftarrow}\\left(S_{p\\left(2\\right), 1}\\right)} \\qwx[1] & \\gate{\\cdots} \\qwx[1] & \\gate{B_{p\\left(n\\right), 1}~\\mbox{on}~p^{\\leftarrow}\\left(S_{p\\left(n\\right), 1}\\right)} \\qwx[1] & \\qw \\\\\n",
      "& \\gate{B_{p\\left(1\\right), 2}~\\mbox{on}~p^{\\leftarrow}\\left(S_{p\\left(1\\right), 2}\\right)} \\qwx[1] & \\gate{B_{p\\left(2\\right), 2}~\\mbox{on}~p^{\\leftarrow}\\left(S_{p\\left(2\\right), 2}\\right)} \\qwx[1] & \\gate{\\cdots} \\qwx[1] & \\gate{B_{p\\left(n\\right), 2}~\\mbox{on}~p^{\\leftarrow}\\left(S_{p\\left(n\\right), 2}\\right)} \\qwx[1] & \\qw \\\\\n",
      "& \\gate{\\vdots} \\qwx[1] & \\gate{\\vdots} \\qwx[1] & \\gate{\\ddots} \\qwx[1] & \\gate{\\vdots} \\qwx[1] & \\qw \\\\\n",
      "& \\gate{B_{p\\left(1\\right), k}~\\mbox{on}~p^{\\leftarrow}\\left(S_{p\\left(1\\right), k}\\right)} & \\gate{B_{p\\left(2\\right), k}~\\mbox{on}~p^{\\leftarrow}\\left(S_{p\\left(2\\right), k}\\right)} & \\gate{\\cdots} & \\gate{B_{p\\left(n\\right), k}~\\mbox{on}~p^{\\leftarrow}\\left(S_{p\\left(n\\right), k}\\right)} & \\qw\n",
      "} \\end{array}\n"
     ]
    }
   ],
   "source": [
    "# Show the LaTeX representation of the expression for convenience if you need it.\n",
    "print(stored_expr.latex())"
   ]
  },
  {
   "cell_type": "code",
   "execution_count": 5,
   "metadata": {},
   "outputs": [
    {
     "data": {
      "text/html": [
       "<table>\n",
       "<tr><th>name</th><th>description</th><th>default</th><th>current value</th><th>related methods</th></tr><tr><td>spacing</td><td>change the spacing of a circuit using the format '@C=1em @R=.7em' where C is the column spacing and R is the row spacing</td><td>@C=1em @R=.7em</td><td>@C=1em @R=.7em</td><td></td></tr>\n",
       "</table>\n"
      ],
      "text/plain": [
       "style name: spacing\n",
       "description: change the spacing of a circuit using the format '@C=1em @R=.7em' where C is the column spacing and R is the row spacing\n",
       "default: @C=1em @R=.7em\n",
       "current value: @C=1em @R=.7em\n",
       "related methods: ()"
      ]
     },
     "metadata": {},
     "output_type": "display_data"
    }
   ],
   "source": [
    "stored_expr.style_options()"
   ]
  },
  {
   "cell_type": "code",
   "execution_count": 6,
   "metadata": {},
   "outputs": [
    {
     "data": {
      "text/html": [
       "<table><tr><th>&nbsp;</th><th>core type</th><th>sub-expressions</th><th>expression</th></tr>\n",
       "<tr><td>0</td><td>Operation</td><td>operator:&nbsp;1<br>operands:&nbsp;2<br></td><td><a class=\"ProveItLink\" href=\"expr.ipynb\"><img src=\"expr.png\" style=\"display:inline;vertical-align:middle;\" /></a></td></tr>\n",
       "<tr><td>1</td><td>Literal</td><td></td><td><a class=\"ProveItLink\" href=\"../40003b89a3d1740159ada9fe5b21308b42a7d3d40/expr.ipynb\"><img src=\"../40003b89a3d1740159ada9fe5b21308b42a7d3d40/expr.png\" style=\"display:inline;vertical-align:middle;\" /></a></td></tr>\n",
       "<tr><td>2</td><td>ExprTuple</td><td>3</td><td><a class=\"ProveItLink\" href=\"../51cd3d3fc4ee59f4138a50156257ada98833035e0/expr.ipynb\"><img src=\"../51cd3d3fc4ee59f4138a50156257ada98833035e0/expr.png\" style=\"display:inline;vertical-align:middle;\" /></a></td></tr>\n",
       "<tr><td>3</td><td>ExprRange</td><td>lambda_map:&nbsp;4<br>start_index:&nbsp;9<br>end_index:&nbsp;5<br></td><td><a class=\"ProveItLink\" href=\"../47e8bc7ea44900f719da65526179a1ad022ce1b30/expr.ipynb\"><img src=\"../47e8bc7ea44900f719da65526179a1ad022ce1b30/expr.png\" style=\"display:inline;vertical-align:middle;\" /></a></td></tr>\n",
       "<tr><td>4</td><td>Lambda</td><td>parameter:&nbsp;29<br>body:&nbsp;6<br></td><td><a class=\"ProveItLink\" href=\"../d98cd85ac161a0da38d4b2a21bf4ad2fcbf9976a0/expr.ipynb\"><img src=\"../d98cd85ac161a0da38d4b2a21bf4ad2fcbf9976a0/expr.png\" style=\"display:inline;vertical-align:middle;\" /></a></td></tr>\n",
       "<tr><td>5</td><td>Variable</td><td></td><td><a class=\"ProveItLink\" href=\"../../../../../../__pv_it/common/8968bb04eb3f7dfa02353397ce929b025bbd79c20/expr.ipynb\"><img src=\"../../../../../../__pv_it/common/8968bb04eb3f7dfa02353397ce929b025bbd79c20/expr.png\" style=\"display:inline;vertical-align:middle;\" /></a></td></tr>\n",
       "<tr><td>6</td><td>ExprTuple</td><td>7</td><td><a class=\"ProveItLink\" href=\"../cc1942d731a9e634646051c0efff35a5951ff5420/expr.ipynb\"><img src=\"../cc1942d731a9e634646051c0efff35a5951ff5420/expr.png\" style=\"display:inline;vertical-align:middle;\" /></a></td></tr>\n",
       "<tr><td>7</td><td>ExprRange</td><td>lambda_map:&nbsp;8<br>start_index:&nbsp;9<br>end_index:&nbsp;10<br></td><td><a class=\"ProveItLink\" href=\"../0c4efa2a13b7b22917144645337b6021037d154c0/expr.ipynb\"><img src=\"../0c4efa2a13b7b22917144645337b6021037d154c0/expr.png\" style=\"display:inline;vertical-align:middle;\" /></a></td></tr>\n",
       "<tr><td>8</td><td>Lambda</td><td>parameter:&nbsp;26<br>body:&nbsp;12<br></td><td><a class=\"ProveItLink\" href=\"../16f7c7894070bdc4c36c3cd8121b19cf9ecd08da0/expr.ipynb\"><img src=\"../16f7c7894070bdc4c36c3cd8121b19cf9ecd08da0/expr.png\" style=\"display:inline;vertical-align:middle;\" /></a></td></tr>\n",
       "<tr><td>9</td><td>Literal</td><td></td><td><a class=\"ProveItLink\" href=\"../../../../../../numbers/numerals/__pv_it/common/682157d4892d216d9e5626ed533aff9b56b9506e0/expr.ipynb\"><img src=\"../../../../../../numbers/numerals/__pv_it/common/682157d4892d216d9e5626ed533aff9b56b9506e0/expr.png\" style=\"display:inline;vertical-align:middle;\" /></a></td></tr>\n",
       "<tr><td>10</td><td>Variable</td><td></td><td><a class=\"ProveItLink\" href=\"../../../../../../__pv_it/common/63b7c64bf9ec7a04ecc396c7a1670f3f12fb59490/expr.ipynb\"><img src=\"../../../../../../__pv_it/common/63b7c64bf9ec7a04ecc396c7a1670f3f12fb59490/expr.png\" style=\"display:inline;vertical-align:middle;\" /></a></td></tr>\n",
       "<tr><td>11</td><td>ExprTuple</td><td>26</td><td><a class=\"ProveItLink\" href=\"../../../../../../core_expr_types/__pv_it/common/4b0dd6be36d76552eda6a95d5b4a27f5a5b62f900/expr.ipynb\"><img src=\"../../../../../../core_expr_types/__pv_it/common/4b0dd6be36d76552eda6a95d5b4a27f5a5b62f900/expr.png\" style=\"display:inline;vertical-align:middle;\" /></a></td></tr>\n",
       "<tr><td>12</td><td>Operation</td><td>operator:&nbsp;13<br>operands:&nbsp;14<br></td><td><a class=\"ProveItLink\" href=\"../ac60ebf5e6dfd8b8ca186dc8339e7bf357760bf00/expr.ipynb\"><img src=\"../ac60ebf5e6dfd8b8ca186dc8339e7bf357760bf00/expr.png\" style=\"display:inline;vertical-align:middle;\" /></a></td></tr>\n",
       "<tr><td>13</td><td>Literal</td><td></td><td><a class=\"ProveItLink\" href=\"../5eaa43008f05c06941080a12337ff182ea14996e0/expr.ipynb\"><img src=\"../5eaa43008f05c06941080a12337ff182ea14996e0/expr.png\" style=\"display:inline;vertical-align:middle;\" /></a></td></tr>\n",
       "<tr><td>14</td><td>NamedExprs</td><td>element: 15<br>targets: 16<br></td><td><a class=\"ProveItLink\" href=\"../a3dcfa0368b9faf07209656faea2a464ad0e716e0/expr.ipynb\"><img src=\"../a3dcfa0368b9faf07209656faea2a464ad0e716e0/expr.png\" style=\"display:inline;vertical-align:middle;\" /></a></td></tr>\n",
       "<tr><td>15</td><td>IndexedVar</td><td>variable:&nbsp;17<br>indices:&nbsp;24<br></td><td><a class=\"ProveItLink\" href=\"../c4cf42da8f8ddbd787e2d04660895274525e01be0/expr.ipynb\"><img src=\"../c4cf42da8f8ddbd787e2d04660895274525e01be0/expr.png\" style=\"display:inline;vertical-align:middle;\" /></a></td></tr>\n",
       "<tr><td>16</td><td>Operation</td><td>operator:&nbsp;18<br>operand:&nbsp;22<br></td><td><a class=\"ProveItLink\" href=\"../511fc3b1ef4936f8ebd75192d2f4931597f859d90/expr.ipynb\"><img src=\"../511fc3b1ef4936f8ebd75192d2f4931597f859d90/expr.png\" style=\"display:inline;vertical-align:middle;\" /></a></td></tr>\n",
       "<tr><td>17</td><td>Variable</td><td></td><td><a class=\"ProveItLink\" href=\"../../../../../../__pv_it/common/a9162d1c3cc0470c02e5daf414500903a7a419230/expr.ipynb\"><img src=\"../../../../../../__pv_it/common/a9162d1c3cc0470c02e5daf414500903a7a419230/expr.png\" style=\"display:inline;vertical-align:middle;\" /></a></td></tr>\n",
       "<tr><td>18</td><td>Operation</td><td>operator:&nbsp;20<br>operand:&nbsp;27<br></td><td><a class=\"ProveItLink\" href=\"../eda6c636e2c976c68a83c878ad1d4096671c4a280/expr.ipynb\"><img src=\"../eda6c636e2c976c68a83c878ad1d4096671c4a280/expr.png\" style=\"display:inline;vertical-align:middle;\" /></a></td></tr>\n",
       "<tr><td>19</td><td>ExprTuple</td><td>22</td><td><a class=\"ProveItLink\" href=\"../4faf63233ec68b48f9053a262223215384441de00/expr.ipynb\"><img src=\"../4faf63233ec68b48f9053a262223215384441de00/expr.png\" style=\"display:inline;vertical-align:middle;\" /></a></td></tr>\n",
       "<tr><td>20</td><td>Literal</td><td></td><td><a class=\"ProveItLink\" href=\"../../../../../../logic/sets/functions/images/__pv_it/common/c0d1fd92112cd0ca4e7bbe9bec942efee05eb9500/expr.ipynb\"><img src=\"../../../../../../logic/sets/functions/images/__pv_it/common/c0d1fd92112cd0ca4e7bbe9bec942efee05eb9500/expr.png\" style=\"display:inline;vertical-align:middle;\" /></a></td></tr>\n",
       "<tr><td>21</td><td>ExprTuple</td><td>27</td><td><a class=\"ProveItLink\" href=\"../527c551ff60aa90c443f150751d409424a4630a80/expr.ipynb\"><img src=\"../527c551ff60aa90c443f150751d409424a4630a80/expr.png\" style=\"display:inline;vertical-align:middle;\" /></a></td></tr>\n",
       "<tr><td>22</td><td>IndexedVar</td><td>variable:&nbsp;23<br>indices:&nbsp;24<br></td><td><a class=\"ProveItLink\" href=\"../45a993442721aaa2406f0984d0901528bda729ee0/expr.ipynb\"><img src=\"../45a993442721aaa2406f0984d0901528bda729ee0/expr.png\" style=\"display:inline;vertical-align:middle;\" /></a></td></tr>\n",
       "<tr><td>23</td><td>Variable</td><td></td><td><a class=\"ProveItLink\" href=\"../../../../../../__pv_it/common/38f47c5670ea8c5b56253448e95d8afb56bc09b40/expr.ipynb\"><img src=\"../../../../../../__pv_it/common/38f47c5670ea8c5b56253448e95d8afb56bc09b40/expr.png\" style=\"display:inline;vertical-align:middle;\" /></a></td></tr>\n",
       "<tr><td>24</td><td>ExprTuple</td><td>25, 26</td><td><a class=\"ProveItLink\" href=\"../7dcb055e29a7eba2391f38705d3ce62334477a9e0/expr.ipynb\"><img src=\"../7dcb055e29a7eba2391f38705d3ce62334477a9e0/expr.png\" style=\"display:inline;vertical-align:middle;\" /></a></td></tr>\n",
       "<tr><td>25</td><td>Operation</td><td>operator:&nbsp;27<br>operand:&nbsp;29<br></td><td><a class=\"ProveItLink\" href=\"../1d8a630dcc5d08f832c7a22a996cc52117c8378b0/expr.ipynb\"><img src=\"../1d8a630dcc5d08f832c7a22a996cc52117c8378b0/expr.png\" style=\"display:inline;vertical-align:middle;\" /></a></td></tr>\n",
       "<tr><td>26</td><td>Variable</td><td></td><td><a class=\"ProveItLink\" href=\"../../../../../../core_expr_types/__pv_it/common/006c465e50948aa2b52285e2de47974f741255cc0/expr.ipynb\"><img src=\"../../../../../../core_expr_types/__pv_it/common/006c465e50948aa2b52285e2de47974f741255cc0/expr.png\" style=\"display:inline;vertical-align:middle;\" /></a></td></tr>\n",
       "<tr><td>27</td><td>Variable</td><td></td><td><a class=\"ProveItLink\" href=\"../../../../../../__pv_it/common/bbfd8ec921873eb340439a30c11dc66622cd75e90/expr.ipynb\"><img src=\"../../../../../../__pv_it/common/bbfd8ec921873eb340439a30c11dc66622cd75e90/expr.png\" style=\"display:inline;vertical-align:middle;\" /></a></td></tr>\n",
       "<tr><td>28</td><td>ExprTuple</td><td>29</td><td><a class=\"ProveItLink\" href=\"../../../../../../core_expr_types/expr_arrays/__pv_it/common/18f7318b68e45ff8356043b6e71619fa8450fb200/expr.ipynb\"><img src=\"../../../../../../core_expr_types/expr_arrays/__pv_it/common/18f7318b68e45ff8356043b6e71619fa8450fb200/expr.png\" style=\"display:inline;vertical-align:middle;\" /></a></td></tr>\n",
       "<tr><td>29</td><td>Variable</td><td></td><td><a class=\"ProveItLink\" href=\"../../../../../../core_expr_types/expr_arrays/__pv_it/common/9a18d67b443cf8d92289c655ed91ec78766170a90/expr.ipynb\"><img src=\"../../../../../../core_expr_types/expr_arrays/__pv_it/common/9a18d67b443cf8d92289c655ed91ec78766170a90/expr.png\" style=\"display:inline;vertical-align:middle;\" /></a></td></tr>\n",
       "</table>\n"
      ],
      "text/plain": [
       "0. QCIRCUIT(VertExprArray(([MULTI_QUBIT_ELEM]{element:B_{p(1), 1}, targets:p^*(S_{p(1), 1})}, [MULTI_QUBIT_ELEM]{element:B_{p(1), 2}, targets:p^*(S_{p(1), 2})}, ..., [MULTI_QUBIT_ELEM]{element:B_{p(1), k}, targets:p^*(S_{p(1), k})}), ([MULTI_QUBIT_ELEM]{element:B_{p(2), 1}, targets:p^*(S_{p(2), 1})}, [MULTI_QUBIT_ELEM]{element:B_{p(2), 2}, targets:p^*(S_{p(2), 2})}, ..., [MULTI_QUBIT_ELEM]{element:B_{p(2), k}, targets:p^*(S_{p(2), k})}), ..., ([MULTI_QUBIT_ELEM]{element:B_{p(n), 1}, targets:p^*(S_{p(n), 1})}, [MULTI_QUBIT_ELEM]{element:B_{p(n), 2}, targets:p^*(S_{p(n), 2})}, ..., [MULTI_QUBIT_ELEM]{element:B_{p(n), k}, targets:p^*(S_{p(n), k})})))\n",
       "   core type: Operation\n",
       "   operator: 1\n",
       "   operands: 2\n",
       "1. QCIRCUIT\n",
       "   core type: Literal\n",
       "   sub-expressions: \n",
       "2. VertExprArray(([MULTI_QUBIT_ELEM]{element:B_{p(1), 1}, targets:p^*(S_{p(1), 1})}, [MULTI_QUBIT_ELEM]{element:B_{p(1), 2}, targets:p^*(S_{p(1), 2})}, ..., [MULTI_QUBIT_ELEM]{element:B_{p(1), k}, targets:p^*(S_{p(1), k})}), ([MULTI_QUBIT_ELEM]{element:B_{p(2), 1}, targets:p^*(S_{p(2), 1})}, [MULTI_QUBIT_ELEM]{element:B_{p(2), 2}, targets:p^*(S_{p(2), 2})}, ..., [MULTI_QUBIT_ELEM]{element:B_{p(2), k}, targets:p^*(S_{p(2), k})}), ..., ([MULTI_QUBIT_ELEM]{element:B_{p(n), 1}, targets:p^*(S_{p(n), 1})}, [MULTI_QUBIT_ELEM]{element:B_{p(n), 2}, targets:p^*(S_{p(n), 2})}, ..., [MULTI_QUBIT_ELEM]{element:B_{p(n), k}, targets:p^*(S_{p(n), k})}))\n",
       "   core type: ExprTuple\n",
       "   sub-expressions: 3\n",
       "3. ([MULTI_QUBIT_ELEM]{element:B_{p(1), 1}, targets:p^*(S_{p(1), 1})}, [MULTI_QUBIT_ELEM]{element:B_{p(1), 2}, targets:p^*(S_{p(1), 2})}, ..., [MULTI_QUBIT_ELEM]{element:B_{p(1), k}, targets:p^*(S_{p(1), k})}), ([MULTI_QUBIT_ELEM]{element:B_{p(2), 1}, targets:p^*(S_{p(2), 1})}, [MULTI_QUBIT_ELEM]{element:B_{p(2), 2}, targets:p^*(S_{p(2), 2})}, ..., [MULTI_QUBIT_ELEM]{element:B_{p(2), k}, targets:p^*(S_{p(2), k})}), ..., ([MULTI_QUBIT_ELEM]{element:B_{p(n), 1}, targets:p^*(S_{p(n), 1})}, [MULTI_QUBIT_ELEM]{element:B_{p(n), 2}, targets:p^*(S_{p(n), 2})}, ..., [MULTI_QUBIT_ELEM]{element:B_{p(n), k}, targets:p^*(S_{p(n), k})})\n",
       "   core type: ExprRange\n",
       "   lambda_map: 4\n",
       "   start_index: 9\n",
       "   end_index: 5\n",
       "4. _b -> ([MULTI_QUBIT_ELEM]{element:B_{p(_b), 1}, targets:p^*(S_{p(_b), 1})}, [MULTI_QUBIT_ELEM]{element:B_{p(_b), 2}, targets:p^*(S_{p(_b), 2})}, ..., [MULTI_QUBIT_ELEM]{element:B_{p(_b), k}, targets:p^*(S_{p(_b), k})})\n",
       "   core type: Lambda\n",
       "   parameter: 29\n",
       "   body: 6\n",
       "5. n\n",
       "   core type: Variable\n",
       "   sub-expressions: \n",
       "6. ([MULTI_QUBIT_ELEM]{element:B_{p(_b), 1}, targets:p^*(S_{p(_b), 1})}, [MULTI_QUBIT_ELEM]{element:B_{p(_b), 2}, targets:p^*(S_{p(_b), 2})}, ..., [MULTI_QUBIT_ELEM]{element:B_{p(_b), k}, targets:p^*(S_{p(_b), k})})\n",
       "   core type: ExprTuple\n",
       "   sub-expressions: 7\n",
       "7. [MULTI_QUBIT_ELEM]{element:B_{p(_b), 1}, targets:p^*(S_{p(_b), 1})}, [MULTI_QUBIT_ELEM]{element:B_{p(_b), 2}, targets:p^*(S_{p(_b), 2})}, ..., [MULTI_QUBIT_ELEM]{element:B_{p(_b), k}, targets:p^*(S_{p(_b), k})}\n",
       "   core type: ExprRange\n",
       "   lambda_map: 8\n",
       "   start_index: 9\n",
       "   end_index: 10\n",
       "8. _a -> [MULTI_QUBIT_ELEM]{element:B_{p(_b), _a}, targets:p^*(S_{p(_b), _a})}\n",
       "   core type: Lambda\n",
       "   parameter: 26\n",
       "   body: 12\n",
       "9. 1\n",
       "   core type: Literal\n",
       "   sub-expressions: \n",
       "10. k\n",
       "    core type: Variable\n",
       "    sub-expressions: \n",
       "11. (_a)\n",
       "    core type: ExprTuple\n",
       "    sub-expressions: 26\n",
       "12. [MULTI_QUBIT_ELEM]{element:B_{p(_b), _a}, targets:p^*(S_{p(_b), _a})}\n",
       "    core type: Operation\n",
       "    operator: 13\n",
       "    operands: 14\n",
       "13. MULTI_QUBIT_ELEM\n",
       "    core type: Literal\n",
       "    sub-expressions: \n",
       "14. {element:B_{p(_b), _a}, targets:p^*(S_{p(_b), _a})}\n",
       "    core type: NamedExprs\n",
       "    element: 15\n",
       "    targets: 16\n",
       "15. B_{p(_b), _a}\n",
       "    core type: IndexedVar\n",
       "variable: 17\n",
       "indices: 24\n",
       "16. p^*(S_{p(_b), _a})\n",
       "    core type: Operation\n",
       "    operator: 18\n",
       "    operand: 22\n",
       "17. B\n",
       "    core type: Variable\n",
       "    sub-expressions: \n",
       "18. p^*\n",
       "    core type: Operation\n",
       "    operator: 20\n",
       "    operand: 27\n",
       "19. (S_{p(_b), _a})\n",
       "    core type: ExprTuple\n",
       "    sub-expressions: 22\n",
       "20. INV_IMAGE\n",
       "    core type: Literal\n",
       "    sub-expressions: \n",
       "21. (p)\n",
       "    core type: ExprTuple\n",
       "    sub-expressions: 27\n",
       "22. S_{p(_b), _a}\n",
       "    core type: IndexedVar\n",
       "variable: 23\n",
       "indices: 24\n",
       "23. S\n",
       "    core type: Variable\n",
       "    sub-expressions: \n",
       "24. (p(_b), _a)\n",
       "    core type: ExprTuple\n",
       "    sub-expressions: 25, 26\n",
       "25. p(_b)\n",
       "    core type: Operation\n",
       "    operator: 27\n",
       "    operand: 29\n",
       "26. _a\n",
       "    core type: Variable\n",
       "    sub-expressions: \n",
       "27. p\n",
       "    core type: Variable\n",
       "    sub-expressions: \n",
       "28. (_b)\n",
       "    core type: ExprTuple\n",
       "    sub-expressions: 29\n",
       "29. _b\n",
       "    core type: Variable\n",
       "    sub-expressions: "
      ]
     },
     "metadata": {},
     "output_type": "display_data"
    }
   ],
   "source": [
    "# display the expression information\n",
    "stored_expr.expr_info()"
   ]
  },
  {
   "cell_type": "code",
   "execution_count": null,
   "metadata": {},
   "outputs": [],
   "source": []
  }
 ],
 "metadata": {
  "kernelspec": {
   "display_name": "Python 3",
   "language": "python",
   "name": "python3"
  }
 },
 "nbformat": 4,
 "nbformat_minor": 0
}