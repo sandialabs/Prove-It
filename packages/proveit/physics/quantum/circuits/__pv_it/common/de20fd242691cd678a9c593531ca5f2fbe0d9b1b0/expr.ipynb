{
 "cells": [
  {
   "cell_type": "markdown",
   "metadata": {},
   "source": [
    "Expression of type <a class=\"ProveItLink\" href=\"../../../../../../../../doc/html/api/proveit.ExprTuple.html\">ExprTuple</a>\n",
    "=======================\n",
    "# from the theory of <a class=\"ProveItLink\" href=\"../../../_theory_nbs_/theory.ipynb\">proveit.physics.quantum.circuits</a>"
   ]
  },
  {
   "cell_type": "code",
   "execution_count": 1,
   "metadata": {},
   "outputs": [],
   "source": [
    "import proveit\n",
    "# Automation is not needed when building an expression:\n",
    "proveit.defaults.automation = False # This will speed things up.\n",
    "proveit.defaults.inline_pngs = False # Makes files smaller.\n",
    "%load_expr # Load the stored expression as 'stored_expr'\n",
    "# import Expression classes needed to build the expression\n",
    "from proveit import ExprRange, ExprTuple, U, Variable, m\n",
    "from proveit.logic import Set\n",
    "from proveit.numbers import Add, Interval, one, two\n",
    "from proveit.physics.quantum import CONTROL\n",
    "from proveit.physics.quantum.circuits import Gate, MultiQubitElem"
   ]
  },
  {
   "cell_type": "code",
   "execution_count": 2,
   "metadata": {},
   "outputs": [
    {
     "data": {
      "text/html": [
       "<strong id=\"expr\">expr:</strong> <a class=\"ProveItLink\" href=\"expr.ipynb\"><img src=\"expr.png\" style=\"display:inline;vertical-align:middle;\" /></a><br>"
      ],
      "text/plain": [
       "<IPython.core.display.HTML object>"
      ]
     },
     "metadata": {},
     "output_type": "display_data"
    }
   ],
   "source": [
    "# build up the expression from sub-expressions\n",
    "sub_expr1 = Variable(\"_a\", latex_format = r\"{_{-}a}\")\n",
    "expr = ExprTuple(MultiQubitElem(element = CONTROL, targets = Set(two)), ExprRange(sub_expr1, MultiQubitElem(element = Gate(operation = U, part = sub_expr1), targets = Interval(two, Add(m, two))), one, Add(m, one)))"
   ]
  },
  {
   "cell_type": "code",
   "execution_count": 3,
   "metadata": {},
   "outputs": [
    {
     "name": "stdout",
     "output_type": "stream",
     "text": [
      "Passed sanity check: expr matches stored_expr\n"
     ]
    }
   ],
   "source": [
    "# check that the built expression is the same as the stored expression\n",
    "assert expr == stored_expr\n",
    "assert expr._style_id == stored_expr._style_id\n",
    "print(\"Passed sanity check: expr matches stored_expr\")"
   ]
  },
  {
   "cell_type": "code",
   "execution_count": 4,
   "metadata": {},
   "outputs": [
    {
     "name": "stdout",
     "output_type": "stream",
     "text": [
      "\\left(\\begin{array}{c} \\Qcircuit@C=1em @R=.7em{\n",
      "& & \\gate{CONTROL~\\mbox{on}~\\left\\{2\\right\\}} & \\qw \n",
      "} \\end{array},\\begin{array}{c} \\Qcircuit@C=1em @R=.7em{\n",
      "& & \\gate{U~\\mbox{part}~1~\\mbox{on}~\\{2~\\ldotp \\ldotp~m + 2\\}} & \\qw \n",
      "} \\end{array}, \\begin{array}{c} \\Qcircuit@C=1em @R=.7em{\n",
      "& & \\gate{U~\\mbox{part}~2~\\mbox{on}~\\{2~\\ldotp \\ldotp~m + 2\\}} & \\qw \n",
      "} \\end{array}, \\ldots, \\begin{array}{c} \\Qcircuit@C=1em @R=.7em{\n",
      "& & \\gate{U~\\mbox{part}~m + 1~\\mbox{on}~\\{2~\\ldotp \\ldotp~m + 2\\}} & \\qw \n",
      "} \\end{array}\\right)\n"
     ]
    }
   ],
   "source": [
    "# Show the LaTeX representation of the expression for convenience if you need it.\n",
    "print(stored_expr.latex())"
   ]
  },
  {
   "cell_type": "code",
   "execution_count": 5,
   "metadata": {},
   "outputs": [
    {
     "data": {
      "text/html": [
       "<table>\n",
       "<tr><th>name</th><th>description</th><th>default</th><th>current value</th><th>related methods</th></tr><tr><td>wrap_positions</td><td>position(s) at which wrapping is to occur; 'n' is after the nth comma.</td><td>()</td><td>()</td><td>('with_wrapping_at',)</td></tr>\n",
       "<tr><td>justification</td><td>if any wrap positions are set, justify to the 'left', 'center', or 'right'</td><td>left</td><td>left</td><td>('with_justification',)</td></tr>\n",
       "</table>\n"
      ],
      "text/plain": [
       "style name: wrap_positions\n",
       "description: position(s) at which wrapping is to occur; 'n' is after the nth comma.\n",
       "default: ()\n",
       "current value: ()\n",
       "related methods: ('with_wrapping_at',)\n",
       "style name: justification\n",
       "description: if any wrap positions are set, justify to the 'left', 'center', or 'right'\n",
       "default: left\n",
       "current value: left\n",
       "related methods: ('with_justification',)"
      ]
     },
     "metadata": {},
     "output_type": "display_data"
    }
   ],
   "source": [
    "stored_expr.style_options()"
   ]
  },
  {
   "cell_type": "code",
   "execution_count": 6,
   "metadata": {},
   "outputs": [
    {
     "data": {
      "text/html": [
       "<table><tr><th>&nbsp;</th><th>core type</th><th>sub-expressions</th><th>expression</th></tr>\n",
       "<tr><td>0</td><td>ExprTuple</td><td>1, 2</td><td><a class=\"ProveItLink\" href=\"expr.ipynb\"><img src=\"expr.png\" style=\"display:inline;vertical-align:middle;\" /></a></td></tr>\n",
       "<tr><td>1</td><td>Operation</td><td>operator:&nbsp;13<br>operands:&nbsp;3<br></td><td><a class=\"ProveItLink\" href=\"../418668349b1d4d076155c78f2791da794bf8d6130/expr.ipynb\"><img src=\"../418668349b1d4d076155c78f2791da794bf8d6130/expr.png\" style=\"display:inline;vertical-align:middle;\" /></a></td></tr>\n",
       "<tr><td>2</td><td>ExprRange</td><td>lambda_map:&nbsp;4<br>start_index:&nbsp;15<br>end_index:&nbsp;5<br></td><td><a class=\"ProveItLink\" href=\"../fbd744e4ec85f3ef01b96f01fbe619705b830cf60/expr.ipynb\"><img src=\"../fbd744e4ec85f3ef01b96f01fbe619705b830cf60/expr.png\" style=\"display:inline;vertical-align:middle;\" /></a></td></tr>\n",
       "<tr><td>3</td><td>NamedExprs</td><td>element: 6<br>targets: 7<br></td><td><a class=\"ProveItLink\" href=\"../12b29009b6de24162adee819cacf327753991e370/expr.ipynb\"><img src=\"../12b29009b6de24162adee819cacf327753991e370/expr.png\" style=\"display:inline;vertical-align:middle;\" /></a></td></tr>\n",
       "<tr><td>4</td><td>Lambda</td><td>parameter:&nbsp;23<br>body:&nbsp;9<br></td><td><a class=\"ProveItLink\" href=\"../4932651a112c3aa5bd68f5f4e145049ff7e69eb40/expr.ipynb\"><img src=\"../4932651a112c3aa5bd68f5f4e145049ff7e69eb40/expr.png\" style=\"display:inline;vertical-align:middle;\" /></a></td></tr>\n",
       "<tr><td>5</td><td>Operation</td><td>operator:&nbsp;25<br>operands:&nbsp;10<br></td><td><a class=\"ProveItLink\" href=\"../f0153e6834a9ad14709e8cc9fcde46b29f1ea5f30/expr.ipynb\"><img src=\"../f0153e6834a9ad14709e8cc9fcde46b29f1ea5f30/expr.png\" style=\"display:inline;vertical-align:middle;\" /></a></td></tr>\n",
       "<tr><td>6</td><td>Literal</td><td></td><td><a class=\"ProveItLink\" href=\"../../../../__pv_it/common/f3dc5d2a12aa7d8cdfd8981d2c35970c615f6b8e0/expr.ipynb\"><img src=\"../../../../__pv_it/common/f3dc5d2a12aa7d8cdfd8981d2c35970c615f6b8e0/expr.png\" style=\"display:inline;vertical-align:middle;\" /></a></td></tr>\n",
       "<tr><td>7</td><td>Operation</td><td>operator:&nbsp;11<br>operand:&nbsp;28<br></td><td><a class=\"ProveItLink\" href=\"../dc0bbad2446e8057bd48fb75a7fceca7a05f27210/expr.ipynb\"><img src=\"../dc0bbad2446e8057bd48fb75a7fceca7a05f27210/expr.png\" style=\"display:inline;vertical-align:middle;\" /></a></td></tr>\n",
       "<tr><td>8</td><td>ExprTuple</td><td>23</td><td><a class=\"ProveItLink\" href=\"../../../../../../core_expr_types/__pv_it/common/4b0dd6be36d76552eda6a95d5b4a27f5a5b62f900/expr.ipynb\"><img src=\"../../../../../../core_expr_types/__pv_it/common/4b0dd6be36d76552eda6a95d5b4a27f5a5b62f900/expr.png\" style=\"display:inline;vertical-align:middle;\" /></a></td></tr>\n",
       "<tr><td>9</td><td>Operation</td><td>operator:&nbsp;13<br>operands:&nbsp;14<br></td><td><a class=\"ProveItLink\" href=\"../c93d91df4b04e99913b2475324a2b50030289b000/expr.ipynb\"><img src=\"../c93d91df4b04e99913b2475324a2b50030289b000/expr.png\" style=\"display:inline;vertical-align:middle;\" /></a></td></tr>\n",
       "<tr><td>10</td><td>ExprTuple</td><td>27, 15</td><td><a class=\"ProveItLink\" href=\"../170d11eb07f7b16874eb02f06c0a6709375d45350/expr.ipynb\"><img src=\"../170d11eb07f7b16874eb02f06c0a6709375d45350/expr.png\" style=\"display:inline;vertical-align:middle;\" /></a></td></tr>\n",
       "<tr><td>11</td><td>Literal</td><td></td><td><a class=\"ProveItLink\" href=\"../../../../../../logic/sets/enumeration/__pv_it/common/0ead90ccbf4f17bc585a51f8aa904bb77916ae6e0/expr.ipynb\"><img src=\"../../../../../../logic/sets/enumeration/__pv_it/common/0ead90ccbf4f17bc585a51f8aa904bb77916ae6e0/expr.png\" style=\"display:inline;vertical-align:middle;\" /></a></td></tr>\n",
       "<tr><td>12</td><td>ExprTuple</td><td>28</td><td><a class=\"ProveItLink\" href=\"../56953b0728fa2850398ae7a13d530612ae194a390/expr.ipynb\"><img src=\"../56953b0728fa2850398ae7a13d530612ae194a390/expr.png\" style=\"display:inline;vertical-align:middle;\" /></a></td></tr>\n",
       "<tr><td>13</td><td>Literal</td><td></td><td><a class=\"ProveItLink\" href=\"../5eaa43008f05c06941080a12337ff182ea14996e0/expr.ipynb\"><img src=\"../5eaa43008f05c06941080a12337ff182ea14996e0/expr.png\" style=\"display:inline;vertical-align:middle;\" /></a></td></tr>\n",
       "<tr><td>14</td><td>NamedExprs</td><td>element: 16<br>targets: 17<br></td><td><a class=\"ProveItLink\" href=\"../3eb454c54f0fd328b8953f91c8769d8b4bbd2cce0/expr.ipynb\"><img src=\"../3eb454c54f0fd328b8953f91c8769d8b4bbd2cce0/expr.png\" style=\"display:inline;vertical-align:middle;\" /></a></td></tr>\n",
       "<tr><td>15</td><td>Literal</td><td></td><td><a class=\"ProveItLink\" href=\"../../../../../../numbers/numerals/__pv_it/common/682157d4892d216d9e5626ed533aff9b56b9506e0/expr.ipynb\"><img src=\"../../../../../../numbers/numerals/__pv_it/common/682157d4892d216d9e5626ed533aff9b56b9506e0/expr.png\" style=\"display:inline;vertical-align:middle;\" /></a></td></tr>\n",
       "<tr><td>16</td><td>Operation</td><td>operator:&nbsp;18<br>operands:&nbsp;19<br></td><td><a class=\"ProveItLink\" href=\"../a997617436f2686b57a897b8865323dc0b78384e0/expr.ipynb\"><img src=\"../a997617436f2686b57a897b8865323dc0b78384e0/expr.png\" style=\"display:inline;vertical-align:middle;\" /></a></td></tr>\n",
       "<tr><td>17</td><td>Operation</td><td>operator:&nbsp;20<br>operands:&nbsp;21<br></td><td><a class=\"ProveItLink\" href=\"../3e4027408715a6ba9ab67b8279a5f64261dbcd7a0/expr.ipynb\"><img src=\"../3e4027408715a6ba9ab67b8279a5f64261dbcd7a0/expr.png\" style=\"display:inline;vertical-align:middle;\" /></a></td></tr>\n",
       "<tr><td>18</td><td>Literal</td><td></td><td><a class=\"ProveItLink\" href=\"../ead8f6f18d2b8c24f1ed8db33df594edd77c9bcc0/expr.ipynb\"><img src=\"../ead8f6f18d2b8c24f1ed8db33df594edd77c9bcc0/expr.png\" style=\"display:inline;vertical-align:middle;\" /></a></td></tr>\n",
       "<tr><td>19</td><td>NamedExprs</td><td>operation: 22<br>part: 23<br></td><td><a class=\"ProveItLink\" href=\"../3ff4697818095d614ab3a81998f15b0120c6ae8c0/expr.ipynb\"><img src=\"../3ff4697818095d614ab3a81998f15b0120c6ae8c0/expr.png\" style=\"display:inline;vertical-align:middle;\" /></a></td></tr>\n",
       "<tr><td>20</td><td>Literal</td><td></td><td><a class=\"ProveItLink\" href=\"../../../../../../numbers/number_sets/integers/__pv_it/common/92f3a0a77e3c3ea8e4a5c8674edadc54e4f57d550/expr.ipynb\"><img src=\"../../../../../../numbers/number_sets/integers/__pv_it/common/92f3a0a77e3c3ea8e4a5c8674edadc54e4f57d550/expr.png\" style=\"display:inline;vertical-align:middle;\" /></a></td></tr>\n",
       "<tr><td>21</td><td>ExprTuple</td><td>28, 24</td><td><a class=\"ProveItLink\" href=\"../0ab38e0bb214af7ce33f42205c7cc457bfabb0830/expr.ipynb\"><img src=\"../0ab38e0bb214af7ce33f42205c7cc457bfabb0830/expr.png\" style=\"display:inline;vertical-align:middle;\" /></a></td></tr>\n",
       "<tr><td>22</td><td>Variable</td><td></td><td><a class=\"ProveItLink\" href=\"../../../../../../__pv_it/common/2586cdae2fd2785a5bcbf61f99f7aaf8229d775e0/expr.ipynb\"><img src=\"../../../../../../__pv_it/common/2586cdae2fd2785a5bcbf61f99f7aaf8229d775e0/expr.png\" style=\"display:inline;vertical-align:middle;\" /></a></td></tr>\n",
       "<tr><td>23</td><td>Variable</td><td></td><td><a class=\"ProveItLink\" href=\"../../../../../../core_expr_types/__pv_it/common/006c465e50948aa2b52285e2de47974f741255cc0/expr.ipynb\"><img src=\"../../../../../../core_expr_types/__pv_it/common/006c465e50948aa2b52285e2de47974f741255cc0/expr.png\" style=\"display:inline;vertical-align:middle;\" /></a></td></tr>\n",
       "<tr><td>24</td><td>Operation</td><td>operator:&nbsp;25<br>operands:&nbsp;26<br></td><td><a class=\"ProveItLink\" href=\"../656bbe40cadb9040b3751e9ab1b0716a733a380a0/expr.ipynb\"><img src=\"../656bbe40cadb9040b3751e9ab1b0716a733a380a0/expr.png\" style=\"display:inline;vertical-align:middle;\" /></a></td></tr>\n",
       "<tr><td>25</td><td>Literal</td><td></td><td><a class=\"ProveItLink\" href=\"../../../../../../numbers/addition/__pv_it/common/4b7effaab3619a1c2c38fe2dee8601df8ec714590/expr.ipynb\"><img src=\"../../../../../../numbers/addition/__pv_it/common/4b7effaab3619a1c2c38fe2dee8601df8ec714590/expr.png\" style=\"display:inline;vertical-align:middle;\" /></a></td></tr>\n",
       "<tr><td>26</td><td>ExprTuple</td><td>27, 28</td><td><a class=\"ProveItLink\" href=\"../0435b8d55df7efd2ee6294990555c08ca4b85bb40/expr.ipynb\"><img src=\"../0435b8d55df7efd2ee6294990555c08ca4b85bb40/expr.png\" style=\"display:inline;vertical-align:middle;\" /></a></td></tr>\n",
       "<tr><td>27</td><td>Variable</td><td></td><td><a class=\"ProveItLink\" href=\"../../../../../../__pv_it/common/674a03b9c3ca221b3aabd5636837b31528ff33830/expr.ipynb\"><img src=\"../../../../../../__pv_it/common/674a03b9c3ca221b3aabd5636837b31528ff33830/expr.png\" style=\"display:inline;vertical-align:middle;\" /></a></td></tr>\n",
       "<tr><td>28</td><td>Literal</td><td></td><td><a class=\"ProveItLink\" href=\"../../../../../../numbers/numerals/__pv_it/common/af4aab8a07465db063742696e006d04670f30cf10/expr.ipynb\"><img src=\"../../../../../../numbers/numerals/__pv_it/common/af4aab8a07465db063742696e006d04670f30cf10/expr.png\" style=\"display:inline;vertical-align:middle;\" /></a></td></tr>\n",
       "</table>\n"
      ],
      "text/plain": [
       "0. ([MULTI_QUBIT_ELEM]{element:CONTROL, targets:{2}},[MULTI_QUBIT_ELEM]{element:[GATE]{operation:U, part:1}, targets:{2 .. m + 2}}, [MULTI_QUBIT_ELEM]{element:[GATE]{operation:U, part:2}, targets:{2 .. m + 2}}, ..., [MULTI_QUBIT_ELEM]{element:[GATE]{operation:U, part:(m + 1)}, targets:{2 .. m + 2}})\n",
       "   core type: ExprTuple\n",
       "   sub-expressions: 1, 2\n",
       "1. [MULTI_QUBIT_ELEM]{element:CONTROL, targets:{2}}\n",
       "   core type: Operation\n",
       "   operator: 13\n",
       "   operands: 3\n",
       "2. [MULTI_QUBIT_ELEM]{element:[GATE]{operation:U, part:1}, targets:{2 .. m + 2}}, [MULTI_QUBIT_ELEM]{element:[GATE]{operation:U, part:2}, targets:{2 .. m + 2}}, ..., [MULTI_QUBIT_ELEM]{element:[GATE]{operation:U, part:(m + 1)}, targets:{2 .. m + 2}}\n",
       "   core type: ExprRange\n",
       "   lambda_map: 4\n",
       "   start_index: 15\n",
       "   end_index: 5\n",
       "3. {element:CONTROL, targets:{2}}\n",
       "   core type: NamedExprs\n",
       "   element: 6\n",
       "   targets: 7\n",
       "4. _a -> [MULTI_QUBIT_ELEM]{element:[GATE]{operation:U, part:_a}, targets:{2 .. m + 2}}\n",
       "   core type: Lambda\n",
       "   parameter: 23\n",
       "   body: 9\n",
       "5. m + 1\n",
       "   core type: Operation\n",
       "   operator: 25\n",
       "   operands: 10\n",
       "6. CONTROL\n",
       "   core type: Literal\n",
       "   sub-expressions: \n",
       "7. {2}\n",
       "   core type: Operation\n",
       "   operator: 11\n",
       "   operand: 28\n",
       "8. (_a)\n",
       "   core type: ExprTuple\n",
       "   sub-expressions: 23\n",
       "9. [MULTI_QUBIT_ELEM]{element:[GATE]{operation:U, part:_a}, targets:{2 .. m + 2}}\n",
       "   core type: Operation\n",
       "   operator: 13\n",
       "   operands: 14\n",
       "10. (m, 1)\n",
       "    core type: ExprTuple\n",
       "    sub-expressions: 27, 15\n",
       "11. Set\n",
       "    core type: Literal\n",
       "    sub-expressions: \n",
       "12. (2)\n",
       "    core type: ExprTuple\n",
       "    sub-expressions: 28\n",
       "13. MULTI_QUBIT_ELEM\n",
       "    core type: Literal\n",
       "    sub-expressions: \n",
       "14. {element:[GATE]{operation:U, part:_a}, targets:{2 .. m + 2}}\n",
       "    core type: NamedExprs\n",
       "    element: 16\n",
       "    targets: 17\n",
       "15. 1\n",
       "    core type: Literal\n",
       "    sub-expressions: \n",
       "16. [GATE]{operation:U, part:_a}\n",
       "    core type: Operation\n",
       "    operator: 18\n",
       "    operands: 19\n",
       "17. {2 .. m + 2}\n",
       "    core type: Operation\n",
       "    operator: 20\n",
       "    operands: 21\n",
       "18. GATE\n",
       "    core type: Literal\n",
       "    sub-expressions: \n",
       "19. {operation:U, part:_a}\n",
       "    core type: NamedExprs\n",
       "    operation: 22\n",
       "    part: 23\n",
       "20. Interval\n",
       "    core type: Literal\n",
       "    sub-expressions: \n",
       "21. (2, m + 2)\n",
       "    core type: ExprTuple\n",
       "    sub-expressions: 28, 24\n",
       "22. U\n",
       "    core type: Variable\n",
       "    sub-expressions: \n",
       "23. _a\n",
       "    core type: Variable\n",
       "    sub-expressions: \n",
       "24. m + 2\n",
       "    core type: Operation\n",
       "    operator: 25\n",
       "    operands: 26\n",
       "25. +\n",
       "    core type: Literal\n",
       "    sub-expressions: \n",
       "26. (m, 2)\n",
       "    core type: ExprTuple\n",
       "    sub-expressions: 27, 28\n",
       "27. m\n",
       "    core type: Variable\n",
       "    sub-expressions: \n",
       "28. 2\n",
       "    core type: Literal\n",
       "    sub-expressions: "
      ]
     },
     "metadata": {},
     "output_type": "display_data"
    }
   ],
   "source": [
    "# display the expression information\n",
    "stored_expr.expr_info()"
   ]
  },
  {
   "cell_type": "code",
   "execution_count": null,
   "metadata": {},
   "outputs": [],
   "source": []
  }
 ],
 "metadata": {
  "kernelspec": {
   "display_name": "Python 3",
   "language": "python",
   "name": "python3"
  }
 },
 "nbformat": 4,
 "nbformat_minor": 0
}