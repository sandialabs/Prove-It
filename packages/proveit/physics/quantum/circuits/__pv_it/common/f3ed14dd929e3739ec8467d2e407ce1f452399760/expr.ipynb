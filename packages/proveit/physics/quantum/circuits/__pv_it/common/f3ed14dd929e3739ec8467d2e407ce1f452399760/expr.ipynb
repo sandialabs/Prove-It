{
 "cells": [
  {
   "cell_type": "markdown",
   "metadata": {},
   "source": [
    "Expression of type <a class=\"ProveItLink\" href=\"../../../../../../../../doc/html/api/proveit.physics.quantum.circuits.MultiQubitElem.html\">MultiQubitElem</a>\n",
    "=======================\n",
    "# from the theory of <a class=\"ProveItLink\" href=\"../../../_theory_nbs_/theory.ipynb\">proveit.physics.quantum.circuits</a>"
   ]
  },
  {
   "cell_type": "code",
   "execution_count": 1,
   "metadata": {},
   "outputs": [],
   "source": [
    "import proveit\n",
    "# Automation is not needed when building an expression:\n",
    "proveit.defaults.automation = False # This will speed things up.\n",
    "proveit.defaults.inline_pngs = False # Makes files smaller.\n",
    "%load_expr # Load the stored expression as 'stored_expr'\n",
    "# import Expression classes needed to build the expression\n",
    "from proveit import B, IndexedVar, S, Variable\n",
    "from proveit.physics.quantum.circuits import MultiQubitElem"
   ]
  },
  {
   "cell_type": "code",
   "execution_count": 2,
   "metadata": {},
   "outputs": [
    {
     "data": {
      "text/html": [
       "<strong id=\"expr\">expr:</strong> <a class=\"ProveItLink\" href=\"expr.ipynb\"><img src=\"expr.png\" style=\"display:inline;vertical-align:middle;\" /></a><br>"
      ],
      "text/plain": [
       "<IPython.core.display.HTML object>"
      ]
     },
     "metadata": {},
     "output_type": "display_data"
    }
   ],
   "source": [
    "# build up the expression from sub-expressions\n",
    "sub_expr1 = [Variable(\"_b\", latex_format = r\"{_{-}b}\"), Variable(\"_a\", latex_format = r\"{_{-}a}\")]\n",
    "expr = MultiQubitElem(element = IndexedVar(B, sub_expr1), targets = IndexedVar(S, sub_expr1))"
   ]
  },
  {
   "cell_type": "code",
   "execution_count": 3,
   "metadata": {},
   "outputs": [
    {
     "name": "stdout",
     "output_type": "stream",
     "text": [
      "Passed sanity check: expr matches stored_expr\n"
     ]
    }
   ],
   "source": [
    "# check that the built expression is the same as the stored expression\n",
    "assert expr == stored_expr\n",
    "assert expr._style_id == stored_expr._style_id\n",
    "print(\"Passed sanity check: expr matches stored_expr\")"
   ]
  },
  {
   "cell_type": "code",
   "execution_count": 4,
   "metadata": {},
   "outputs": [
    {
     "name": "stdout",
     "output_type": "stream",
     "text": [
      "\\begin{array}{c} \\Qcircuit@C=1em @R=.7em{\n",
      "& & \\gate{B_{{_{-}b}, {_{-}a}}~\\mbox{on}~S_{{_{-}b}, {_{-}a}}} & \\qw \n",
      "} \\end{array}\n"
     ]
    }
   ],
   "source": [
    "# Show the LaTeX representation of the expression for convenience if you need it.\n",
    "print(stored_expr.latex())"
   ]
  },
  {
   "cell_type": "code",
   "execution_count": 5,
   "metadata": {},
   "outputs": [
    {
     "data": {
      "text/html": [
       "no style options"
      ],
      "text/plain": [
       "no style options"
      ]
     },
     "metadata": {},
     "output_type": "display_data"
    }
   ],
   "source": [
    "stored_expr.style_options()"
   ]
  },
  {
   "cell_type": "code",
   "execution_count": 6,
   "metadata": {},
   "outputs": [
    {
     "data": {
      "text/html": [
       "<table><tr><th>&nbsp;</th><th>core type</th><th>sub-expressions</th><th>expression</th></tr>\n",
       "<tr><td>0</td><td>Operation</td><td>operator:&nbsp;1<br>operands:&nbsp;2<br></td><td><a class=\"ProveItLink\" href=\"expr.ipynb\"><img src=\"expr.png\" style=\"display:inline;vertical-align:middle;\" /></a></td></tr>\n",
       "<tr><td>1</td><td>Literal</td><td></td><td><a class=\"ProveItLink\" href=\"../5eaa43008f05c06941080a12337ff182ea14996e0/expr.ipynb\"><img src=\"../5eaa43008f05c06941080a12337ff182ea14996e0/expr.png\" style=\"display:inline;vertical-align:middle;\" /></a></td></tr>\n",
       "<tr><td>2</td><td>NamedExprs</td><td>element: 3<br>targets: 4<br></td><td><a class=\"ProveItLink\" href=\"../669c57ce15957cbc7ca3018b0c17facc3b4e373b0/expr.ipynb\"><img src=\"../669c57ce15957cbc7ca3018b0c17facc3b4e373b0/expr.png\" style=\"display:inline;vertical-align:middle;\" /></a></td></tr>\n",
       "<tr><td>3</td><td>IndexedVar</td><td>variable:&nbsp;5<br>indices:&nbsp;7<br></td><td><a class=\"ProveItLink\" href=\"../../../../../../core_expr_types/expr_arrays/__pv_it/common/e79cd0fe4a2577a30580c7ee9d8c9195486094ac0/expr.ipynb\"><img src=\"../../../../../../core_expr_types/expr_arrays/__pv_it/common/e79cd0fe4a2577a30580c7ee9d8c9195486094ac0/expr.png\" style=\"display:inline;vertical-align:middle;\" /></a></td></tr>\n",
       "<tr><td>4</td><td>IndexedVar</td><td>variable:&nbsp;6<br>indices:&nbsp;7<br></td><td><a class=\"ProveItLink\" href=\"../../../../../../core_expr_types/expr_arrays/__pv_it/common/0f7c549cbda7f227e480c00ef45e264d9ad9b1850/expr.ipynb\"><img src=\"../../../../../../core_expr_types/expr_arrays/__pv_it/common/0f7c549cbda7f227e480c00ef45e264d9ad9b1850/expr.png\" style=\"display:inline;vertical-align:middle;\" /></a></td></tr>\n",
       "<tr><td>5</td><td>Variable</td><td></td><td><a class=\"ProveItLink\" href=\"../../../../../../__pv_it/common/a9162d1c3cc0470c02e5daf414500903a7a419230/expr.ipynb\"><img src=\"../../../../../../__pv_it/common/a9162d1c3cc0470c02e5daf414500903a7a419230/expr.png\" style=\"display:inline;vertical-align:middle;\" /></a></td></tr>\n",
       "<tr><td>6</td><td>Variable</td><td></td><td><a class=\"ProveItLink\" href=\"../../../../../../__pv_it/common/38f47c5670ea8c5b56253448e95d8afb56bc09b40/expr.ipynb\"><img src=\"../../../../../../__pv_it/common/38f47c5670ea8c5b56253448e95d8afb56bc09b40/expr.png\" style=\"display:inline;vertical-align:middle;\" /></a></td></tr>\n",
       "<tr><td>7</td><td>ExprTuple</td><td>8, 9</td><td><a class=\"ProveItLink\" href=\"../../../../../../core_expr_types/expr_arrays/__pv_it/common/c899820ca7633ea1589f21e8e039aa4da91850d80/expr.ipynb\"><img src=\"../../../../../../core_expr_types/expr_arrays/__pv_it/common/c899820ca7633ea1589f21e8e039aa4da91850d80/expr.png\" style=\"display:inline;vertical-align:middle;\" /></a></td></tr>\n",
       "<tr><td>8</td><td>Variable</td><td></td><td><a class=\"ProveItLink\" href=\"../../../../../../core_expr_types/expr_arrays/__pv_it/common/9a18d67b443cf8d92289c655ed91ec78766170a90/expr.ipynb\"><img src=\"../../../../../../core_expr_types/expr_arrays/__pv_it/common/9a18d67b443cf8d92289c655ed91ec78766170a90/expr.png\" style=\"display:inline;vertical-align:middle;\" /></a></td></tr>\n",
       "<tr><td>9</td><td>Variable</td><td></td><td><a class=\"ProveItLink\" href=\"../../../../../../core_expr_types/expr_arrays/__pv_it/common/006c465e50948aa2b52285e2de47974f741255cc0/expr.ipynb\"><img src=\"../../../../../../core_expr_types/expr_arrays/__pv_it/common/006c465e50948aa2b52285e2de47974f741255cc0/expr.png\" style=\"display:inline;vertical-align:middle;\" /></a></td></tr>\n",
       "</table>\n"
      ],
      "text/plain": [
       "0. [MULTI_QUBIT_ELEM]{element:B_{_b, _a}, targets:S_{_b, _a}}\n",
       "   core type: Operation\n",
       "   operator: 1\n",
       "   operands: 2\n",
       "1. MULTI_QUBIT_ELEM\n",
       "   core type: Literal\n",
       "   sub-expressions: \n",
       "2. {element:B_{_b, _a}, targets:S_{_b, _a}}\n",
       "   core type: NamedExprs\n",
       "   element: 3\n",
       "   targets: 4\n",
       "3. B_{_b, _a}\n",
       "   core type: IndexedVar\n",
       "variable: 5\n",
       "indices: 7\n",
       "4. S_{_b, _a}\n",
       "   core type: IndexedVar\n",
       "variable: 6\n",
       "indices: 7\n",
       "5. B\n",
       "   core type: Variable\n",
       "   sub-expressions: \n",
       "6. S\n",
       "   core type: Variable\n",
       "   sub-expressions: \n",
       "7. (_b, _a)\n",
       "   core type: ExprTuple\n",
       "   sub-expressions: 8, 9\n",
       "8. _b\n",
       "   core type: Variable\n",
       "   sub-expressions: \n",
       "9. _a\n",
       "   core type: Variable\n",
       "   sub-expressions: "
      ]
     },
     "metadata": {},
     "output_type": "display_data"
    }
   ],
   "source": [
    "# display the expression information\n",
    "stored_expr.expr_info()"
   ]
  },
  {
   "cell_type": "code",
   "execution_count": null,
   "metadata": {},
   "outputs": [],
   "source": []
  }
 ],
 "metadata": {
  "kernelspec": {
   "display_name": "Python 3",
   "language": "python",
   "name": "python3"
  }
 },
 "nbformat": 4,
 "nbformat_minor": 0
}