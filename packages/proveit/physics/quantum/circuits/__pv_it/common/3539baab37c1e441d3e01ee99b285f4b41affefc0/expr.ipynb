{
 "cells": [
  {
   "cell_type": "markdown",
   "metadata": {},
   "source": [
    "Expression of type <a class=\"ProveItLink\" href=\"../../../../../../../../doc/html/api/proveit.ExprRange.html\">ExprRange</a>\n",
    "=======================\n",
    "# from the theory of <a class=\"ProveItLink\" href=\"../../../_theory_nbs_/theory.ipynb\">proveit.physics.quantum.circuits</a>"
   ]
  },
  {
   "cell_type": "code",
   "execution_count": 1,
   "metadata": {},
   "outputs": [],
   "source": [
    "import proveit\n",
    "# Automation is not needed when building an expression:\n",
    "proveit.defaults.automation = False # This will speed things up.\n",
    "proveit.defaults.inline_pngs = False # Makes files smaller.\n",
    "%load_expr # Load the stored expression as 'stored_expr'\n",
    "# import Expression classes needed to build the expression\n",
    "from proveit import Conditional, ConditionalSet, ExprRange, Variable, t\n",
    "from proveit.logic import Equals, NotEquals, Set\n",
    "from proveit.numbers import Add, one\n",
    "from proveit.physics.quantum import CONTROL, I\n",
    "from proveit.physics.quantum.circuits import Gate, MultiQubitElem"
   ]
  },
  {
   "cell_type": "code",
   "execution_count": 2,
   "metadata": {},
   "outputs": [
    {
     "data": {
      "text/html": [
       "<strong id=\"expr\">expr:</strong> <a class=\"ProveItLink\" href=\"expr.ipynb\"><img src=\"expr.png\" style=\"display:inline;vertical-align:middle;\" /></a><br>"
      ],
      "text/plain": [
       "<IPython.core.display.HTML object>"
      ]
     },
     "metadata": {},
     "output_type": "display_data"
    }
   ],
   "source": [
    "# build up the expression from sub-expressions\n",
    "sub_expr1 = Variable(\"_a\", latex_format = r\"{_{-}a}\")\n",
    "sub_expr2 = Variable(\"_b\", latex_format = r\"{_{-}b}\")\n",
    "expr = ExprRange(sub_expr1, ConditionalSet(Conditional(MultiQubitElem(element = CONTROL, targets = Set(Add(t, one))), Equals(sub_expr2, sub_expr1)), Conditional(Gate(operation = I).with_implicit_representation(), NotEquals(sub_expr2, sub_expr1))), one, t).with_case_simplification()"
   ]
  },
  {
   "cell_type": "code",
   "execution_count": 3,
   "metadata": {},
   "outputs": [
    {
     "name": "stdout",
     "output_type": "stream",
     "text": [
      "Passed sanity check: expr matches stored_expr\n"
     ]
    }
   ],
   "source": [
    "# check that the built expression is the same as the stored expression\n",
    "assert expr == stored_expr\n",
    "assert expr._style_id == stored_expr._style_id\n",
    "print(\"Passed sanity check: expr matches stored_expr\")"
   ]
  },
  {
   "cell_type": "code",
   "execution_count": 4,
   "metadata": {},
   "outputs": [
    {
     "name": "stdout",
     "output_type": "stream",
     "text": [
      "\\left\\{\\begin{array}{ccc}\\begin{array}{c} \\Qcircuit@C=1em @R=.7em{\n",
      "& & \\gate{CONTROL~\\mbox{on}~\\left\\{t + 1\\right\\}} & \\qw \n",
      "} \\end{array} \\textrm{ if } {_{-}b} = 1 \\\\ \\begin{array}{c} \\Qcircuit@C=1em @R=.7em{\n",
      "& & \\qw & \\qw \n",
      "} \\end{array} \\textrm{ if } {_{-}b} \\neq 1\\end{array}\\right.., \\left\\{\\begin{array}{ccc}\\begin{array}{c} \\Qcircuit@C=1em @R=.7em{\n",
      "& & \\gate{CONTROL~\\mbox{on}~\\left\\{t + 1\\right\\}} & \\qw \n",
      "} \\end{array} \\textrm{ if } {_{-}b} = 2 \\\\ \\begin{array}{c} \\Qcircuit@C=1em @R=.7em{\n",
      "& & \\qw & \\qw \n",
      "} \\end{array} \\textrm{ if } {_{-}b} \\neq 2\\end{array}\\right.., \\ldots, \\left\\{\\begin{array}{ccc}\\begin{array}{c} \\Qcircuit@C=1em @R=.7em{\n",
      "& & \\gate{CONTROL~\\mbox{on}~\\left\\{t + 1\\right\\}} & \\qw \n",
      "} \\end{array} \\textrm{ if } {_{-}b} = t \\\\ \\begin{array}{c} \\Qcircuit@C=1em @R=.7em{\n",
      "& & \\qw & \\qw \n",
      "} \\end{array} \\textrm{ if } {_{-}b} \\neq t\\end{array}\\right..\n"
     ]
    }
   ],
   "source": [
    "# Show the LaTeX representation of the expression for convenience if you need it.\n",
    "print(stored_expr.latex())"
   ]
  },
  {
   "cell_type": "code",
   "execution_count": 5,
   "metadata": {},
   "outputs": [
    {
     "data": {
      "text/html": [
       "<table>\n",
       "<tr><th>name</th><th>description</th><th>default</th><th>current value</th><th>related methods</th></tr><tr><td>parameterization</td><td>'implicit' (default for LaTeX formatting) hides the parameter the ExprRange so the parameterization may be ambiguous (e.g., x_{1+1}, ..., x_{n+1}); 'explicit' (default for string formatting) reveals the parameterization (e.g. x_{1+1}, ..x_{k+1}.., x_{n+1}).</td><td>None</td><td>None/False</td><td>('with_explicit_parameterization', 'with_implicit_parameterization', 'with_default_parameterization_style')</td></tr>\n",
       "<tr><td>front_expansion</td><td>The number of instances to display at the front of the range (e.g., before the ellipsis). Default is 2.</td><td>2</td><td>2</td><td>('with_front_expansion', 'get_front_expansion')</td></tr>\n",
       "<tr><td>back_expansion</td><td>The number of instances to display at the back of the range (e.g., after the ellipsis). Default is 1.</td><td>1</td><td>1</td><td>('with_back_expansion', 'get_back_expansion')</td></tr>\n",
       "<tr><td>order</td><td>The default order is 'increasing' (a_1 ... a_3) but to represent a 'decreasing' ExprRange (a_6 ... a_2) the order must be set to 'decreasing'</td><td>increasing</td><td>increasing</td><td>('with_decreasing_order', 'with_increasing_order')</td></tr>\n",
       "<tr><td>wrap_positions</td><td>position(s) at which wrapping is to occur; 'n' is after the nth comma.</td><td>()</td><td>()</td><td>('with_wrapping_at',)</td></tr>\n",
       "<tr><td>case_simplify</td><td>If 'True', simplify formatted instances that are ConditionalSets under proper index assumptions</td><td>False</td><td>True</td><td>('with_case_simplification',)</td></tr>\n",
       "</table>\n"
      ],
      "text/plain": [
       "style name: parameterization\n",
       "description: 'implicit' (default for LaTeX formatting) hides the parameter the ExprRange so the parameterization may be ambiguous (e.g., x_{1+1}, ..., x_{n+1}); 'explicit' (default for string formatting) reveals the parameterization (e.g. x_{1+1}, ..x_{k+1}.., x_{n+1}).\n",
       "default: None\n",
       "current value: None/False\n",
       "related methods: ('with_explicit_parameterization', 'with_implicit_parameterization', 'with_default_parameterization_style')\n",
       "style name: front_expansion\n",
       "description: The number of instances to display at the front of the range (e.g., before the ellipsis). Default is 2.\n",
       "default: 2\n",
       "current value: 2\n",
       "related methods: ('with_front_expansion', 'get_front_expansion')\n",
       "style name: back_expansion\n",
       "description: The number of instances to display at the back of the range (e.g., after the ellipsis). Default is 1.\n",
       "default: 1\n",
       "current value: 1\n",
       "related methods: ('with_back_expansion', 'get_back_expansion')\n",
       "style name: order\n",
       "description: The default order is 'increasing' (a_1 ... a_3) but to represent a 'decreasing' ExprRange (a_6 ... a_2) the order must be set to 'decreasing'\n",
       "default: increasing\n",
       "current value: increasing\n",
       "related methods: ('with_decreasing_order', 'with_increasing_order')\n",
       "style name: wrap_positions\n",
       "description: position(s) at which wrapping is to occur; 'n' is after the nth comma.\n",
       "default: ()\n",
       "current value: ()\n",
       "related methods: ('with_wrapping_at',)\n",
       "style name: case_simplify\n",
       "description: If 'True', simplify formatted instances that are ConditionalSets under proper index assumptions\n",
       "default: False\n",
       "current value: True\n",
       "related methods: ('with_case_simplification',)"
      ]
     },
     "metadata": {},
     "output_type": "display_data"
    }
   ],
   "source": [
    "stored_expr.style_options()"
   ]
  },
  {
   "cell_type": "code",
   "execution_count": 6,
   "metadata": {},
   "outputs": [
    {
     "data": {
      "text/html": [
       "<table><tr><th>&nbsp;</th><th>core type</th><th>sub-expressions</th><th>expression</th></tr>\n",
       "<tr><td>0</td><td>ExprRange</td><td>lambda_map:&nbsp;1<br>start_index:&nbsp;30<br>end_index:&nbsp;29<br></td><td><a class=\"ProveItLink\" href=\"expr.ipynb\"><img src=\"expr.png\" style=\"display:inline;vertical-align:middle;\" /></a></td></tr>\n",
       "<tr><td>1</td><td>Lambda</td><td>parameter:&nbsp;23<br>body:&nbsp;3<br></td><td><a class=\"ProveItLink\" href=\"../6709accf0a09875a7ec0a2e4d0d26187333442130/expr.ipynb\"><img src=\"../6709accf0a09875a7ec0a2e4d0d26187333442130/expr.png\" style=\"display:inline;vertical-align:middle;\" /></a></td></tr>\n",
       "<tr><td>2</td><td>ExprTuple</td><td>23</td><td><a class=\"ProveItLink\" href=\"../../../../../../core_expr_types/__pv_it/common/4b0dd6be36d76552eda6a95d5b4a27f5a5b62f900/expr.ipynb\"><img src=\"../../../../../../core_expr_types/__pv_it/common/4b0dd6be36d76552eda6a95d5b4a27f5a5b62f900/expr.png\" style=\"display:inline;vertical-align:middle;\" /></a></td></tr>\n",
       "<tr><td>3</td><td>Operation</td><td>operator:&nbsp;4<br>operands:&nbsp;5<br></td><td><a class=\"ProveItLink\" href=\"../02f7a00e95a7902a2cedd861cfcf1d8c6ad741660/expr.ipynb\"><img src=\"../02f7a00e95a7902a2cedd861cfcf1d8c6ad741660/expr.png\" style=\"display:inline;vertical-align:middle;\" /></a></td></tr>\n",
       "<tr><td>4</td><td>Literal</td><td></td><td><a class=\"ProveItLink\" href=\"../83d667c64f29f6c733f867a4bce407455c5de51e0/expr.ipynb\"><img src=\"../../../../../_core_/expression/conditional/__pv_it/common/83d667c64f29f6c733f867a4bce407455c5de51e0/expr.png\" style=\"display:inline;vertical-align:middle;\" /></a></td></tr>\n",
       "<tr><td>5</td><td>ExprTuple</td><td>6, 7</td><td><a class=\"ProveItLink\" href=\"../f60e9b96fefb010ebfbbd1f343268b75e896af510/expr.ipynb\"><img src=\"../f60e9b96fefb010ebfbbd1f343268b75e896af510/expr.png\" style=\"display:inline;vertical-align:middle;\" /></a></td></tr>\n",
       "<tr><td>6</td><td>Conditional</td><td>value:&nbsp;8<br>condition:&nbsp;9<br></td><td><a class=\"ProveItLink\" href=\"../6c7feed96cd4a7a810fe1ca119bd1193c6d3d21d0/expr.ipynb\"><img src=\"../6c7feed96cd4a7a810fe1ca119bd1193c6d3d21d0/expr.png\" style=\"display:inline;vertical-align:middle;\" /></a></td></tr>\n",
       "<tr><td>7</td><td>Conditional</td><td>value:&nbsp;10<br>condition:&nbsp;11<br></td><td><a class=\"ProveItLink\" href=\"../d3ca5f66f68b61401c4df896a1ae3011ebb25d5d0/expr.ipynb\"><img src=\"../d3ca5f66f68b61401c4df896a1ae3011ebb25d5d0/expr.png\" style=\"display:inline;vertical-align:middle;\" /></a></td></tr>\n",
       "<tr><td>8</td><td>Operation</td><td>operator:&nbsp;12<br>operands:&nbsp;13<br></td><td><a class=\"ProveItLink\" href=\"../943c1a991fab5dea8c6c47f32f8b20160043d3c50/expr.ipynb\"><img src=\"../943c1a991fab5dea8c6c47f32f8b20160043d3c50/expr.png\" style=\"display:inline;vertical-align:middle;\" /></a></td></tr>\n",
       "<tr><td>9</td><td>Operation</td><td>operator:&nbsp;14<br>operands:&nbsp;18<br></td><td><a class=\"ProveItLink\" href=\"../dfeb54a7824fe24f4fd111e69d7f7a3589aa12280/expr.ipynb\"><img src=\"../dfeb54a7824fe24f4fd111e69d7f7a3589aa12280/expr.png\" style=\"display:inline;vertical-align:middle;\" /></a></td></tr>\n",
       "<tr><td>10</td><td>Operation</td><td>operator:&nbsp;15<br>operands:&nbsp;16<br></td><td><a class=\"ProveItLink\" href=\"../3503baca64886f46b3e1879abd140991d3d5b9850/expr.ipynb\"><img src=\"../3503baca64886f46b3e1879abd140991d3d5b9850/expr.png\" style=\"display:inline;vertical-align:middle;\" /></a></td></tr>\n",
       "<tr><td>11</td><td>Operation</td><td>operator:&nbsp;17<br>operands:&nbsp;18<br></td><td><a class=\"ProveItLink\" href=\"../0e3a50db27a49cf202abb762d1083a8a4878308c0/expr.ipynb\"><img src=\"../0e3a50db27a49cf202abb762d1083a8a4878308c0/expr.png\" style=\"display:inline;vertical-align:middle;\" /></a></td></tr>\n",
       "<tr><td>12</td><td>Literal</td><td></td><td><a class=\"ProveItLink\" href=\"../5eaa43008f05c06941080a12337ff182ea14996e0/expr.ipynb\"><img src=\"../5eaa43008f05c06941080a12337ff182ea14996e0/expr.png\" style=\"display:inline;vertical-align:middle;\" /></a></td></tr>\n",
       "<tr><td>13</td><td>NamedExprs</td><td>element: 19<br>targets: 20<br></td><td><a class=\"ProveItLink\" href=\"../daede2f32d9bc55170fadeabdef2e2c63afdb4fb0/expr.ipynb\"><img src=\"../daede2f32d9bc55170fadeabdef2e2c63afdb4fb0/expr.png\" style=\"display:inline;vertical-align:middle;\" /></a></td></tr>\n",
       "<tr><td>14</td><td>Literal</td><td></td><td><a class=\"ProveItLink\" href=\"../../../../../../logic/equality/__pv_it/common/fb96dc12b2aa8801dda64d0132b396c63d1502bb0/expr.ipynb\"><img src=\"../../../../../../logic/equality/__pv_it/common/fb96dc12b2aa8801dda64d0132b396c63d1502bb0/expr.png\" style=\"display:inline;vertical-align:middle;\" /></a></td></tr>\n",
       "<tr><td>15</td><td>Literal</td><td></td><td><a class=\"ProveItLink\" href=\"../ead8f6f18d2b8c24f1ed8db33df594edd77c9bcc0/expr.ipynb\"><img src=\"../ead8f6f18d2b8c24f1ed8db33df594edd77c9bcc0/expr.png\" style=\"display:inline;vertical-align:middle;\" /></a></td></tr>\n",
       "<tr><td>16</td><td>NamedExprs</td><td>operation: 21<br></td><td><a class=\"ProveItLink\" href=\"../4c602428e5a38ea20d603c6070910e44aaa6b0590/expr.ipynb\"><img src=\"../4c602428e5a38ea20d603c6070910e44aaa6b0590/expr.png\" style=\"display:inline;vertical-align:middle;\" /></a></td></tr>\n",
       "<tr><td>17</td><td>Literal</td><td></td><td><a class=\"ProveItLink\" href=\"../../../../../../logic/equality/__pv_it/common/d96270bc9bb1bad54f773b1c04bfb343a739642c0/expr.ipynb\"><img src=\"../../../../../../logic/equality/__pv_it/common/d96270bc9bb1bad54f773b1c04bfb343a739642c0/expr.png\" style=\"display:inline;vertical-align:middle;\" /></a></td></tr>\n",
       "<tr><td>18</td><td>ExprTuple</td><td>22, 23</td><td><a class=\"ProveItLink\" href=\"../../../../../../core_expr_types/expr_arrays/__pv_it/common/c899820ca7633ea1589f21e8e039aa4da91850d80/expr.ipynb\"><img src=\"../../../../../../core_expr_types/expr_arrays/__pv_it/common/c899820ca7633ea1589f21e8e039aa4da91850d80/expr.png\" style=\"display:inline;vertical-align:middle;\" /></a></td></tr>\n",
       "<tr><td>19</td><td>Literal</td><td></td><td><a class=\"ProveItLink\" href=\"../../../../__pv_it/common/f3dc5d2a12aa7d8cdfd8981d2c35970c615f6b8e0/expr.ipynb\"><img src=\"../../../../__pv_it/common/f3dc5d2a12aa7d8cdfd8981d2c35970c615f6b8e0/expr.png\" style=\"display:inline;vertical-align:middle;\" /></a></td></tr>\n",
       "<tr><td>20</td><td>Operation</td><td>operator:&nbsp;24<br>operand:&nbsp;26<br></td><td><a class=\"ProveItLink\" href=\"../626f654b96ee64b615216a9ceefc03e45bb4a5f70/expr.ipynb\"><img src=\"../626f654b96ee64b615216a9ceefc03e45bb4a5f70/expr.png\" style=\"display:inline;vertical-align:middle;\" /></a></td></tr>\n",
       "<tr><td>21</td><td>Literal</td><td></td><td><a class=\"ProveItLink\" href=\"../../../../__pv_it/common/51b66f0810ce0726813ca9e4eb1f8747515d0d020/expr.ipynb\"><img src=\"../../../../__pv_it/common/51b66f0810ce0726813ca9e4eb1f8747515d0d020/expr.png\" style=\"display:inline;vertical-align:middle;\" /></a></td></tr>\n",
       "<tr><td>22</td><td>Variable</td><td></td><td><a class=\"ProveItLink\" href=\"../../../../../../core_expr_types/expr_arrays/__pv_it/common/9a18d67b443cf8d92289c655ed91ec78766170a90/expr.ipynb\"><img src=\"../../../../../../core_expr_types/expr_arrays/__pv_it/common/9a18d67b443cf8d92289c655ed91ec78766170a90/expr.png\" style=\"display:inline;vertical-align:middle;\" /></a></td></tr>\n",
       "<tr><td>23</td><td>Variable</td><td></td><td><a class=\"ProveItLink\" href=\"../../../../../../core_expr_types/expr_arrays/__pv_it/common/006c465e50948aa2b52285e2de47974f741255cc0/expr.ipynb\"><img src=\"../../../../../../core_expr_types/expr_arrays/__pv_it/common/006c465e50948aa2b52285e2de47974f741255cc0/expr.png\" style=\"display:inline;vertical-align:middle;\" /></a></td></tr>\n",
       "<tr><td>24</td><td>Literal</td><td></td><td><a class=\"ProveItLink\" href=\"../../../../../../logic/sets/enumeration/__pv_it/common/0ead90ccbf4f17bc585a51f8aa904bb77916ae6e0/expr.ipynb\"><img src=\"../../../../../../logic/sets/enumeration/__pv_it/common/0ead90ccbf4f17bc585a51f8aa904bb77916ae6e0/expr.png\" style=\"display:inline;vertical-align:middle;\" /></a></td></tr>\n",
       "<tr><td>25</td><td>ExprTuple</td><td>26</td><td><a class=\"ProveItLink\" href=\"../b6b9cea1281c9a524f0c70d75fe950c9a53d13aa0/expr.ipynb\"><img src=\"../b6b9cea1281c9a524f0c70d75fe950c9a53d13aa0/expr.png\" style=\"display:inline;vertical-align:middle;\" /></a></td></tr>\n",
       "<tr><td>26</td><td>Operation</td><td>operator:&nbsp;27<br>operands:&nbsp;28<br></td><td><a class=\"ProveItLink\" href=\"../da3a9b7cb1fc73dc54679e3aad35b8e91b8d8f820/expr.ipynb\"><img src=\"../da3a9b7cb1fc73dc54679e3aad35b8e91b8d8f820/expr.png\" style=\"display:inline;vertical-align:middle;\" /></a></td></tr>\n",
       "<tr><td>27</td><td>Literal</td><td></td><td><a class=\"ProveItLink\" href=\"../../../../../../numbers/addition/__pv_it/common/4b7effaab3619a1c2c38fe2dee8601df8ec714590/expr.ipynb\"><img src=\"../../../../../../numbers/addition/__pv_it/common/4b7effaab3619a1c2c38fe2dee8601df8ec714590/expr.png\" style=\"display:inline;vertical-align:middle;\" /></a></td></tr>\n",
       "<tr><td>28</td><td>ExprTuple</td><td>29, 30</td><td><a class=\"ProveItLink\" href=\"../163d7569c6c27dcd1ee82c5775d619290779899c0/expr.ipynb\"><img src=\"../163d7569c6c27dcd1ee82c5775d619290779899c0/expr.png\" style=\"display:inline;vertical-align:middle;\" /></a></td></tr>\n",
       "<tr><td>29</td><td>Variable</td><td></td><td><a class=\"ProveItLink\" href=\"../../../../../../__pv_it/common/36861eae73a44b53d5b3b017ac6a3a9dae53bfba0/expr.ipynb\"><img src=\"../../../../../../__pv_it/common/36861eae73a44b53d5b3b017ac6a3a9dae53bfba0/expr.png\" style=\"display:inline;vertical-align:middle;\" /></a></td></tr>\n",
       "<tr><td>30</td><td>Literal</td><td></td><td><a class=\"ProveItLink\" href=\"../../../../../../numbers/numerals/__pv_it/common/682157d4892d216d9e5626ed533aff9b56b9506e0/expr.ipynb\"><img src=\"../../../../../../numbers/numerals/__pv_it/common/682157d4892d216d9e5626ed533aff9b56b9506e0/expr.png\" style=\"display:inline;vertical-align:middle;\" /></a></td></tr>\n",
       "</table>\n"
      ],
      "text/plain": [
       "0. {[MULTI_QUBIT_ELEM]{element:CONTROL, targets:{t + 1}} if _b = 1; [GATE]{operation:I} if _b != 1., {[MULTI_QUBIT_ELEM]{element:CONTROL, targets:{t + 1}} if _b = 2; [GATE]{operation:I} if _b != 2., ..., {[MULTI_QUBIT_ELEM]{element:CONTROL, targets:{t + 1}} if _b = t; [GATE]{operation:I} if _b != t.\n",
       "   core type: ExprRange\n",
       "   lambda_map: 1\n",
       "   start_index: 30\n",
       "   end_index: 29\n",
       "1. _a -> {[MULTI_QUBIT_ELEM]{element:CONTROL, targets:{t + 1}} if _b = _a; [GATE]{operation:I} if _b != _a.\n",
       "   core type: Lambda\n",
       "   parameter: 23\n",
       "   body: 3\n",
       "2. (_a)\n",
       "   core type: ExprTuple\n",
       "   sub-expressions: 23\n",
       "3. {[MULTI_QUBIT_ELEM]{element:CONTROL, targets:{t + 1}} if _b = _a; [GATE]{operation:I} if _b != _a.\n",
       "   core type: Operation\n",
       "   operator: 4\n",
       "   operands: 5\n",
       "4. CondSet\n",
       "   core type: Literal\n",
       "   sub-expressions: \n",
       "5. ([MULTI_QUBIT_ELEM]{element:CONTROL, targets:{t + 1}} if _b = _a, [GATE]{operation:I} if _b != _a)\n",
       "   core type: ExprTuple\n",
       "   sub-expressions: 6, 7\n",
       "6. {[MULTI_QUBIT_ELEM]{element:CONTROL, targets:{t + 1}} if _b = _a.\n",
       "   core type: Conditional\n",
       "   value: 8\n",
       "   condition: 9\n",
       "7. {[GATE]{operation:I} if _b != _a.\n",
       "   core type: Conditional\n",
       "   value: 10\n",
       "   condition: 11\n",
       "8. [MULTI_QUBIT_ELEM]{element:CONTROL, targets:{t + 1}}\n",
       "   core type: Operation\n",
       "   operator: 12\n",
       "   operands: 13\n",
       "9. _b = _a\n",
       "   core type: Operation\n",
       "   operator: 14\n",
       "   operands: 18\n",
       "10. [GATE]{operation:I}\n",
       "    core type: Operation\n",
       "    operator: 15\n",
       "    operands: 16\n",
       "11. _b != _a\n",
       "    core type: Operation\n",
       "    operator: 17\n",
       "    operands: 18\n",
       "12. MULTI_QUBIT_ELEM\n",
       "    core type: Literal\n",
       "    sub-expressions: \n",
       "13. {element:CONTROL, targets:{t + 1}}\n",
       "    core type: NamedExprs\n",
       "    element: 19\n",
       "    targets: 20\n",
       "14. =\n",
       "    core type: Literal\n",
       "    sub-expressions: \n",
       "15. GATE\n",
       "    core type: Literal\n",
       "    sub-expressions: \n",
       "16. {operation:I}\n",
       "    core type: NamedExprs\n",
       "    operation: 21\n",
       "17. !=\n",
       "    core type: Literal\n",
       "    sub-expressions: \n",
       "18. (_b, _a)\n",
       "    core type: ExprTuple\n",
       "    sub-expressions: 22, 23\n",
       "19. CONTROL\n",
       "    core type: Literal\n",
       "    sub-expressions: \n",
       "20. {t + 1}\n",
       "    core type: Operation\n",
       "    operator: 24\n",
       "    operand: 26\n",
       "21. I\n",
       "    core type: Literal\n",
       "    sub-expressions: \n",
       "22. _b\n",
       "    core type: Variable\n",
       "    sub-expressions: \n",
       "23. _a\n",
       "    core type: Variable\n",
       "    sub-expressions: \n",
       "24. Set\n",
       "    core type: Literal\n",
       "    sub-expressions: \n",
       "25. (t + 1)\n",
       "    core type: ExprTuple\n",
       "    sub-expressions: 26\n",
       "26. t + 1\n",
       "    core type: Operation\n",
       "    operator: 27\n",
       "    operands: 28\n",
       "27. +\n",
       "    core type: Literal\n",
       "    sub-expressions: \n",
       "28. (t, 1)\n",
       "    core type: ExprTuple\n",
       "    sub-expressions: 29, 30\n",
       "29. t\n",
       "    core type: Variable\n",
       "    sub-expressions: \n",
       "30. 1\n",
       "    core type: Literal\n",
       "    sub-expressions: "
      ]
     },
     "metadata": {},
     "output_type": "display_data"
    }
   ],
   "source": [
    "# display the expression information\n",
    "stored_expr.expr_info()"
   ]
  },
  {
   "cell_type": "code",
   "execution_count": null,
   "metadata": {},
   "outputs": [],
   "source": []
  }
 ],
 "metadata": {
  "kernelspec": {
   "display_name": "Python 3",
   "language": "python",
   "name": "python3"
  }
 },
 "nbformat": 4,
 "nbformat_minor": 0
}