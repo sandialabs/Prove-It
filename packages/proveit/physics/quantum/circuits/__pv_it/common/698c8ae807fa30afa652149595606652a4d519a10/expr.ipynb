{
 "cells": [
  {
   "cell_type": "markdown",
   "metadata": {},
   "source": [
    "Expression of type <a class=\"ProveItLink\" href=\"../../../../../../../../doc/html/api/proveit.VertExprArray.html\">VertExprArray</a>\n",
    "=======================\n",
    "# from the theory of <a class=\"ProveItLink\" href=\"../../../_theory_nbs_/theory.ipynb\">proveit.physics.quantum.circuits</a>"
   ]
  },
  {
   "cell_type": "code",
   "execution_count": 1,
   "metadata": {},
   "outputs": [],
   "source": [
    "import proveit\n",
    "# Automation is not needed when building an expression:\n",
    "proveit.defaults.automation = False # This will speed things up.\n",
    "proveit.defaults.inline_pngs = False # Makes files smaller.\n",
    "%load_expr # Load the stored expression as 'stored_expr'\n",
    "# import Expression classes needed to build the expression\n",
    "from proveit import ExprRange, Variable, VertExprArray, m, n\n",
    "from proveit.numbers import Interval, one\n",
    "from proveit.physics.quantum import NumKet, Z, var_ket_psi\n",
    "from proveit.physics.quantum.circuits import Input, Measure, MultiQubitElem, Output"
   ]
  },
  {
   "cell_type": "code",
   "execution_count": 2,
   "metadata": {},
   "outputs": [
    {
     "data": {
      "text/html": [
       "<strong id=\"expr\">expr:</strong> <a class=\"ProveItLink\" href=\"expr.ipynb\"><img src=\"expr.png\" style=\"display:inline;vertical-align:middle;\" /></a><br>"
      ],
      "text/plain": [
       "<IPython.core.display.HTML object>"
      ]
     },
     "metadata": {},
     "output_type": "display_data"
    }
   ],
   "source": [
    "# build up the expression from sub-expressions\n",
    "sub_expr1 = Variable(\"_a\", latex_format = r\"{_{-}a}\")\n",
    "sub_expr2 = Interval(one, m)\n",
    "expr = VertExprArray([ExprRange(sub_expr1, MultiQubitElem(element = Input(state = var_ket_psi, part = sub_expr1), targets = sub_expr2), one, m)], [ExprRange(sub_expr1, Measure(basis = Z), one, m)], [ExprRange(sub_expr1, MultiQubitElem(element = Output(state = NumKet(n, m), part = sub_expr1), targets = sub_expr2), one, m)])"
   ]
  },
  {
   "cell_type": "code",
   "execution_count": 3,
   "metadata": {},
   "outputs": [
    {
     "name": "stdout",
     "output_type": "stream",
     "text": [
      "Passed sanity check: expr matches stored_expr\n"
     ]
    }
   ],
   "source": [
    "# check that the built expression is the same as the stored expression\n",
    "assert expr == stored_expr\n",
    "assert expr._style_id == stored_expr._style_id\n",
    "print(\"Passed sanity check: expr matches stored_expr\")"
   ]
  },
  {
   "cell_type": "code",
   "execution_count": 4,
   "metadata": {},
   "outputs": [
    {
     "name": "stdout",
     "output_type": "stream",
     "text": [
      "\\begin{array}{ccc} \n",
      " \\begin{array}{c} \\Qcircuit@C=1em @R=.7em{\n",
      "& \\qin{\\lvert \\psi \\rangle~\\mbox{part}~1~\\mbox{on}~\\{1~\\ldotp \\ldotp~m\\}} & \\qw \n",
      "} \\end{array} & \\begin{array}{c} \\Qcircuit@C=1em @R=.7em{\n",
      "& & \\meter \n",
      "} \\end{array} & \\begin{array}{c} \\Qcircuit@C=1em @R=.7em{\n",
      "& & \\qout{\\lvert n \\rangle_{m}~\\mbox{part}~1~\\mbox{on}~\\{1~\\ldotp \\ldotp~m\\}} \n",
      "} \\end{array} \\\\\n",
      "\\begin{array}{c} \\Qcircuit@C=1em @R=.7em{\n",
      "& \\qin{\\lvert \\psi \\rangle~\\mbox{part}~2~\\mbox{on}~\\{1~\\ldotp \\ldotp~m\\}} & \\qw \n",
      "} \\end{array} & \\begin{array}{c} \\Qcircuit@C=1em @R=.7em{\n",
      "& & \\meter \n",
      "} \\end{array} & \\begin{array}{c} \\Qcircuit@C=1em @R=.7em{\n",
      "& & \\qout{\\lvert n \\rangle_{m}~\\mbox{part}~2~\\mbox{on}~\\{1~\\ldotp \\ldotp~m\\}} \n",
      "} \\end{array} \\\\\n",
      "\\vdots & \\begin{array}{c}:\\\\ \\left(m - 3\\right) \\times \\\\:\\end{array} & \\vdots \\\\\n",
      "\\begin{array}{c} \\Qcircuit@C=1em @R=.7em{\n",
      "& \\qin{\\lvert \\psi \\rangle~\\mbox{part}~m~\\mbox{on}~\\{1~\\ldotp \\ldotp~m\\}} & \\qw \n",
      "} \\end{array} & \\begin{array}{c} \\Qcircuit@C=1em @R=.7em{\n",
      "& & \\meter \n",
      "} \\end{array} & \\begin{array}{c} \\Qcircuit@C=1em @R=.7em{\n",
      "& & \\qout{\\lvert n \\rangle_{m}~\\mbox{part}~m~\\mbox{on}~\\{1~\\ldotp \\ldotp~m\\}} \n",
      "} \\end{array} \\\\\n",
      "\\end{array}\n",
      "\n"
     ]
    }
   ],
   "source": [
    "# Show the LaTeX representation of the expression for convenience if you need it.\n",
    "print(stored_expr.latex())"
   ]
  },
  {
   "cell_type": "code",
   "execution_count": 5,
   "metadata": {},
   "outputs": [
    {
     "data": {
      "text/html": [
       "<table>\n",
       "<tr><th>name</th><th>description</th><th>default</th><th>current value</th><th>related methods</th></tr><tr><td>justification</td><td>justify to the 'left', 'center', or 'right' in the array cells</td><td>center</td><td>center</td><td>with_justification</td></tr>\n",
       "</table>\n"
      ],
      "text/plain": [
       "style name: justification\n",
       "description: justify to the 'left', 'center', or 'right' in the array cells\n",
       "default: center\n",
       "current value: center\n",
       "related methods: with_justification"
      ]
     },
     "metadata": {},
     "output_type": "display_data"
    }
   ],
   "source": [
    "stored_expr.style_options()"
   ]
  },
  {
   "cell_type": "code",
   "execution_count": 6,
   "metadata": {},
   "outputs": [
    {
     "data": {
      "text/html": [
       "<table><tr><th>&nbsp;</th><th>core type</th><th>sub-expressions</th><th>expression</th></tr>\n",
       "<tr><td>0</td><td>ExprTuple</td><td>1, 2, 3</td><td><a class=\"ProveItLink\" href=\"expr.ipynb\"><img src=\"expr.png\" style=\"display:inline;vertical-align:middle;\" /></a></td></tr>\n",
       "<tr><td>1</td><td>ExprTuple</td><td>4</td><td><a class=\"ProveItLink\" href=\"../9899eae21e16d845ada70208ceccb7ed994a12190/expr.ipynb\"><img src=\"../9899eae21e16d845ada70208ceccb7ed994a12190/expr.png\" style=\"display:inline;vertical-align:middle;\" /></a></td></tr>\n",
       "<tr><td>2</td><td>ExprTuple</td><td>5</td><td><a class=\"ProveItLink\" href=\"../2c88049b8f5dcdfae819a1b0d57a12ef66ce563e0/expr.ipynb\"><img src=\"../2c88049b8f5dcdfae819a1b0d57a12ef66ce563e0/expr.png\" style=\"display:inline;vertical-align:middle;\" /></a></td></tr>\n",
       "<tr><td>3</td><td>ExprTuple</td><td>6</td><td><a class=\"ProveItLink\" href=\"../aa3e42cd1e52560d6d993dbde06c3840036fd2860/expr.ipynb\"><img src=\"../aa3e42cd1e52560d6d993dbde06c3840036fd2860/expr.png\" style=\"display:inline;vertical-align:middle;\" /></a></td></tr>\n",
       "<tr><td>4</td><td>ExprRange</td><td>lambda_map:&nbsp;7<br>start_index:&nbsp;32<br>end_index:&nbsp;36<br></td><td><a class=\"ProveItLink\" href=\"../0e737cae5beb99924df90a68ca6ae50e267fc2f10/expr.ipynb\"><img src=\"../0e737cae5beb99924df90a68ca6ae50e267fc2f10/expr.png\" style=\"display:inline;vertical-align:middle;\" /></a></td></tr>\n",
       "<tr><td>5</td><td>ExprRange</td><td>lambda_map:&nbsp;8<br>start_index:&nbsp;32<br>end_index:&nbsp;36<br></td><td><a class=\"ProveItLink\" href=\"../ff39572a4da56dd8d9d5c0b9993eb49b1675d4080/expr.ipynb\"><img src=\"../ff39572a4da56dd8d9d5c0b9993eb49b1675d4080/expr.png\" style=\"display:inline;vertical-align:middle;\" /></a></td></tr>\n",
       "<tr><td>6</td><td>ExprRange</td><td>lambda_map:&nbsp;9<br>start_index:&nbsp;32<br>end_index:&nbsp;36<br></td><td><a class=\"ProveItLink\" href=\"../fbd325ffc6971ef71057f026d4b5890cb0f7c45e0/expr.ipynb\"><img src=\"../fbd325ffc6971ef71057f026d4b5890cb0f7c45e0/expr.png\" style=\"display:inline;vertical-align:middle;\" /></a></td></tr>\n",
       "<tr><td>7</td><td>Lambda</td><td>parameter:&nbsp;31<br>body:&nbsp;10<br></td><td><a class=\"ProveItLink\" href=\"../98f5ba80bab8a5fad7d223dfd37a5546fbdd5a3b0/expr.ipynb\"><img src=\"../98f5ba80bab8a5fad7d223dfd37a5546fbdd5a3b0/expr.png\" style=\"display:inline;vertical-align:middle;\" /></a></td></tr>\n",
       "<tr><td>8</td><td>Lambda</td><td>parameter:&nbsp;31<br>body:&nbsp;11<br></td><td><a class=\"ProveItLink\" href=\"../1dbe0288f4ce70f67d88c8cc4770f5831ccc75780/expr.ipynb\"><img src=\"../1dbe0288f4ce70f67d88c8cc4770f5831ccc75780/expr.png\" style=\"display:inline;vertical-align:middle;\" /></a></td></tr>\n",
       "<tr><td>9</td><td>Lambda</td><td>parameter:&nbsp;31<br>body:&nbsp;13<br></td><td><a class=\"ProveItLink\" href=\"../6b485783b73dc484dd64099e8dc0a2fef1f6e6e60/expr.ipynb\"><img src=\"../6b485783b73dc484dd64099e8dc0a2fef1f6e6e60/expr.png\" style=\"display:inline;vertical-align:middle;\" /></a></td></tr>\n",
       "<tr><td>10</td><td>Operation</td><td>operator:&nbsp;17<br>operands:&nbsp;14<br></td><td><a class=\"ProveItLink\" href=\"../aa49560c13464a24f498c31bbf7f136c8cc009d60/expr.ipynb\"><img src=\"../aa49560c13464a24f498c31bbf7f136c8cc009d60/expr.png\" style=\"display:inline;vertical-align:middle;\" /></a></td></tr>\n",
       "<tr><td>11</td><td>Operation</td><td>operator:&nbsp;15<br>operands:&nbsp;16<br></td><td><a class=\"ProveItLink\" href=\"../ece37dbd0d7cf03c338bd0adac3bf231a6fa92b20/expr.ipynb\"><img src=\"../ece37dbd0d7cf03c338bd0adac3bf231a6fa92b20/expr.png\" style=\"display:inline;vertical-align:middle;\" /></a></td></tr>\n",
       "<tr><td>12</td><td>ExprTuple</td><td>31</td><td><a class=\"ProveItLink\" href=\"../../../../../../core_expr_types/__pv_it/common/4b0dd6be36d76552eda6a95d5b4a27f5a5b62f900/expr.ipynb\"><img src=\"../../../../../../core_expr_types/__pv_it/common/4b0dd6be36d76552eda6a95d5b4a27f5a5b62f900/expr.png\" style=\"display:inline;vertical-align:middle;\" /></a></td></tr>\n",
       "<tr><td>13</td><td>Operation</td><td>operator:&nbsp;17<br>operands:&nbsp;18<br></td><td><a class=\"ProveItLink\" href=\"../6ab6a46f0cb0bb2108d1a99814bcb22c6048dd820/expr.ipynb\"><img src=\"../6ab6a46f0cb0bb2108d1a99814bcb22c6048dd820/expr.png\" style=\"display:inline;vertical-align:middle;\" /></a></td></tr>\n",
       "<tr><td>14</td><td>NamedExprs</td><td>element: 19<br>targets: 22<br></td><td><a class=\"ProveItLink\" href=\"../8fb510f8b1fc923ec29d1f69d3e18a436f4171a10/expr.ipynb\"><img src=\"../8fb510f8b1fc923ec29d1f69d3e18a436f4171a10/expr.png\" style=\"display:inline;vertical-align:middle;\" /></a></td></tr>\n",
       "<tr><td>15</td><td>Literal</td><td></td><td><a class=\"ProveItLink\" href=\"../5e7176f4ee66b255b7d25def312f57fd0b0ba0090/expr.ipynb\"><img src=\"../5e7176f4ee66b255b7d25def312f57fd0b0ba0090/expr.png\" style=\"display:inline;vertical-align:middle;\" /></a></td></tr>\n",
       "<tr><td>16</td><td>NamedExprs</td><td>basis: 20<br></td><td><a class=\"ProveItLink\" href=\"../fd4e3e8dba25f802558afeb12db00b31216c97650/expr.ipynb\"><img src=\"../fd4e3e8dba25f802558afeb12db00b31216c97650/expr.png\" style=\"display:inline;vertical-align:middle;\" /></a></td></tr>\n",
       "<tr><td>17</td><td>Literal</td><td></td><td><a class=\"ProveItLink\" href=\"../5eaa43008f05c06941080a12337ff182ea14996e0/expr.ipynb\"><img src=\"../5eaa43008f05c06941080a12337ff182ea14996e0/expr.png\" style=\"display:inline;vertical-align:middle;\" /></a></td></tr>\n",
       "<tr><td>18</td><td>NamedExprs</td><td>element: 21<br>targets: 22<br></td><td><a class=\"ProveItLink\" href=\"../fc03aa176df290907f359c41a417b1bf16ede8020/expr.ipynb\"><img src=\"../fc03aa176df290907f359c41a417b1bf16ede8020/expr.png\" style=\"display:inline;vertical-align:middle;\" /></a></td></tr>\n",
       "<tr><td>19</td><td>Operation</td><td>operator:&nbsp;23<br>operands:&nbsp;24<br></td><td><a class=\"ProveItLink\" href=\"../ee3d8427cd8b9df937d19c6f81fd075bd0ea2a740/expr.ipynb\"><img src=\"../ee3d8427cd8b9df937d19c6f81fd075bd0ea2a740/expr.png\" style=\"display:inline;vertical-align:middle;\" /></a></td></tr>\n",
       "<tr><td>20</td><td>Literal</td><td></td><td><a class=\"ProveItLink\" href=\"../../../../__pv_it/common/2c528f33b8384666a054a8146aa84d2f45cc85490/expr.ipynb\"><img src=\"../../../../__pv_it/common/2c528f33b8384666a054a8146aa84d2f45cc85490/expr.png\" style=\"display:inline;vertical-align:middle;\" /></a></td></tr>\n",
       "<tr><td>21</td><td>Operation</td><td>operator:&nbsp;25<br>operands:&nbsp;26<br></td><td><a class=\"ProveItLink\" href=\"../c37847d7f9f312eeeefb32cd1d57d59c37ad52540/expr.ipynb\"><img src=\"../c37847d7f9f312eeeefb32cd1d57d59c37ad52540/expr.png\" style=\"display:inline;vertical-align:middle;\" /></a></td></tr>\n",
       "<tr><td>22</td><td>Operation</td><td>operator:&nbsp;27<br>operands:&nbsp;28<br></td><td><a class=\"ProveItLink\" href=\"../706881e668df69cca5d841d8343295e596a7a0c70/expr.ipynb\"><img src=\"../706881e668df69cca5d841d8343295e596a7a0c70/expr.png\" style=\"display:inline;vertical-align:middle;\" /></a></td></tr>\n",
       "<tr><td>23</td><td>Literal</td><td></td><td><a class=\"ProveItLink\" href=\"../deea8715ce6701df08bbe1d049112a0bad4965c20/expr.ipynb\"><img src=\"../deea8715ce6701df08bbe1d049112a0bad4965c20/expr.png\" style=\"display:inline;vertical-align:middle;\" /></a></td></tr>\n",
       "<tr><td>24</td><td>NamedExprs</td><td>state: 29<br>part: 31<br></td><td><a class=\"ProveItLink\" href=\"../a75c67a66ebba677292193e862375e4a61161fb80/expr.ipynb\"><img src=\"../a75c67a66ebba677292193e862375e4a61161fb80/expr.png\" style=\"display:inline;vertical-align:middle;\" /></a></td></tr>\n",
       "<tr><td>25</td><td>Literal</td><td></td><td><a class=\"ProveItLink\" href=\"../00345a9c4f4d361e0b6e8bbbbe5a33a8ec86a20b0/expr.ipynb\"><img src=\"../00345a9c4f4d361e0b6e8bbbbe5a33a8ec86a20b0/expr.png\" style=\"display:inline;vertical-align:middle;\" /></a></td></tr>\n",
       "<tr><td>26</td><td>NamedExprs</td><td>state: 30<br>part: 31<br></td><td><a class=\"ProveItLink\" href=\"../611db4489a43abd06c2b57ad7a6d9b01b03964e60/expr.ipynb\"><img src=\"../611db4489a43abd06c2b57ad7a6d9b01b03964e60/expr.png\" style=\"display:inline;vertical-align:middle;\" /></a></td></tr>\n",
       "<tr><td>27</td><td>Literal</td><td></td><td><a class=\"ProveItLink\" href=\"../../../../../../numbers/number_sets/integers/__pv_it/common/92f3a0a77e3c3ea8e4a5c8674edadc54e4f57d550/expr.ipynb\"><img src=\"../../../../../../numbers/number_sets/integers/__pv_it/common/92f3a0a77e3c3ea8e4a5c8674edadc54e4f57d550/expr.png\" style=\"display:inline;vertical-align:middle;\" /></a></td></tr>\n",
       "<tr><td>28</td><td>ExprTuple</td><td>32, 36</td><td><a class=\"ProveItLink\" href=\"../940639d2e54ef77a90c8aa1312af4ae333846c530/expr.ipynb\"><img src=\"../940639d2e54ef77a90c8aa1312af4ae333846c530/expr.png\" style=\"display:inline;vertical-align:middle;\" /></a></td></tr>\n",
       "<tr><td>29</td><td>Variable</td><td></td><td><a class=\"ProveItLink\" href=\"../../../../__pv_it/common/798a4b85c58eead0b86ebff17277cd7c4a79a3160/expr.ipynb\"><img src=\"../../../../__pv_it/common/798a4b85c58eead0b86ebff17277cd7c4a79a3160/expr.png\" style=\"display:inline;vertical-align:middle;\" /></a></td></tr>\n",
       "<tr><td>30</td><td>Operation</td><td>operator:&nbsp;33<br>operands:&nbsp;34<br></td><td><a class=\"ProveItLink\" href=\"../48584b15f38d738eb65973b4301f23963a7ac4750/expr.ipynb\"><img src=\"../48584b15f38d738eb65973b4301f23963a7ac4750/expr.png\" style=\"display:inline;vertical-align:middle;\" /></a></td></tr>\n",
       "<tr><td>31</td><td>Variable</td><td></td><td><a class=\"ProveItLink\" href=\"../../../../../../core_expr_types/__pv_it/common/006c465e50948aa2b52285e2de47974f741255cc0/expr.ipynb\"><img src=\"../../../../../../core_expr_types/__pv_it/common/006c465e50948aa2b52285e2de47974f741255cc0/expr.png\" style=\"display:inline;vertical-align:middle;\" /></a></td></tr>\n",
       "<tr><td>32</td><td>Literal</td><td></td><td><a class=\"ProveItLink\" href=\"../../../../../../numbers/numerals/__pv_it/common/682157d4892d216d9e5626ed533aff9b56b9506e0/expr.ipynb\"><img src=\"../../../../../../numbers/numerals/__pv_it/common/682157d4892d216d9e5626ed533aff9b56b9506e0/expr.png\" style=\"display:inline;vertical-align:middle;\" /></a></td></tr>\n",
       "<tr><td>33</td><td>Literal</td><td></td><td><a class=\"ProveItLink\" href=\"../../../../algebra/__pv_it/common/8fae26fc802d6e77100c911db42f2d3784cdc7330/expr.ipynb\"><img src=\"../../../../algebra/__pv_it/common/8fae26fc802d6e77100c911db42f2d3784cdc7330/expr.png\" style=\"display:inline;vertical-align:middle;\" /></a></td></tr>\n",
       "<tr><td>34</td><td>ExprTuple</td><td>35, 36</td><td><a class=\"ProveItLink\" href=\"../4dfb425557374107791dbc60e3c87f32a4d1adb30/expr.ipynb\"><img src=\"../4dfb425557374107791dbc60e3c87f32a4d1adb30/expr.png\" style=\"display:inline;vertical-align:middle;\" /></a></td></tr>\n",
       "<tr><td>35</td><td>Variable</td><td></td><td><a class=\"ProveItLink\" href=\"../../../../../../__pv_it/common/8968bb04eb3f7dfa02353397ce929b025bbd79c20/expr.ipynb\"><img src=\"../../../../../../__pv_it/common/8968bb04eb3f7dfa02353397ce929b025bbd79c20/expr.png\" style=\"display:inline;vertical-align:middle;\" /></a></td></tr>\n",
       "<tr><td>36</td><td>Variable</td><td></td><td><a class=\"ProveItLink\" href=\"../../../../../../__pv_it/common/674a03b9c3ca221b3aabd5636837b31528ff33830/expr.ipynb\"><img src=\"../../../../../../__pv_it/common/674a03b9c3ca221b3aabd5636837b31528ff33830/expr.png\" style=\"display:inline;vertical-align:middle;\" /></a></td></tr>\n",
       "</table>\n"
      ],
      "text/plain": [
       "0. VertExprArray(([MULTI_QUBIT_ELEM]{element:[INPUT]{state:|psi>, part:1}, targets:{1 .. m}}, [MULTI_QUBIT_ELEM]{element:[INPUT]{state:|psi>, part:2}, targets:{1 .. m}}, ..., [MULTI_QUBIT_ELEM]{element:[INPUT]{state:|psi>, part:m}, targets:{1 .. m}}),  \\\\ ([MEASURE]{basis:Z}, [MEASURE]{basis:Z}, ..(m - 3) ×.., [MEASURE]{basis:Z}),  \\\\ ([MULTI_QUBIT_ELEM]{element:[OUTPUT]{state:|n〉_{m}, part:1}, targets:{1 .. m}}, [MULTI_QUBIT_ELEM]{element:[OUTPUT]{state:|n〉_{m}, part:2}, targets:{1 .. m}}, ..., [MULTI_QUBIT_ELEM]{element:[OUTPUT]{state:|n〉_{m}, part:m}, targets:{1 .. m}}))\n",
       "   core type: ExprTuple\n",
       "   sub-expressions: 1, 2, 3\n",
       "1. ([MULTI_QUBIT_ELEM]{element:[INPUT]{state:|psi>, part:1}, targets:{1 .. m}}, [MULTI_QUBIT_ELEM]{element:[INPUT]{state:|psi>, part:2}, targets:{1 .. m}}, ..., [MULTI_QUBIT_ELEM]{element:[INPUT]{state:|psi>, part:m}, targets:{1 .. m}})\n",
       "   core type: ExprTuple\n",
       "   sub-expressions: 4\n",
       "2. ([MEASURE]{basis:Z}, [MEASURE]{basis:Z}, ..(m - 3) ×.., [MEASURE]{basis:Z})\n",
       "   core type: ExprTuple\n",
       "   sub-expressions: 5\n",
       "3. ([MULTI_QUBIT_ELEM]{element:[OUTPUT]{state:|n〉_{m}, part:1}, targets:{1 .. m}}, [MULTI_QUBIT_ELEM]{element:[OUTPUT]{state:|n〉_{m}, part:2}, targets:{1 .. m}}, ..., [MULTI_QUBIT_ELEM]{element:[OUTPUT]{state:|n〉_{m}, part:m}, targets:{1 .. m}})\n",
       "   core type: ExprTuple\n",
       "   sub-expressions: 6\n",
       "4. [MULTI_QUBIT_ELEM]{element:[INPUT]{state:|psi>, part:1}, targets:{1 .. m}}, [MULTI_QUBIT_ELEM]{element:[INPUT]{state:|psi>, part:2}, targets:{1 .. m}}, ..., [MULTI_QUBIT_ELEM]{element:[INPUT]{state:|psi>, part:m}, targets:{1 .. m}}\n",
       "   core type: ExprRange\n",
       "   lambda_map: 7\n",
       "   start_index: 32\n",
       "   end_index: 36\n",
       "5. [MEASURE]{basis:Z}, [MEASURE]{basis:Z}, ..(m - 3) ×.., [MEASURE]{basis:Z}\n",
       "   core type: ExprRange\n",
       "   lambda_map: 8\n",
       "   start_index: 32\n",
       "   end_index: 36\n",
       "6. [MULTI_QUBIT_ELEM]{element:[OUTPUT]{state:|n〉_{m}, part:1}, targets:{1 .. m}}, [MULTI_QUBIT_ELEM]{element:[OUTPUT]{state:|n〉_{m}, part:2}, targets:{1 .. m}}, ..., [MULTI_QUBIT_ELEM]{element:[OUTPUT]{state:|n〉_{m}, part:m}, targets:{1 .. m}}\n",
       "   core type: ExprRange\n",
       "   lambda_map: 9\n",
       "   start_index: 32\n",
       "   end_index: 36\n",
       "7. _a -> [MULTI_QUBIT_ELEM]{element:[INPUT]{state:|psi>, part:_a}, targets:{1 .. m}}\n",
       "   core type: Lambda\n",
       "   parameter: 31\n",
       "   body: 10\n",
       "8. _a -> [MEASURE]{basis:Z}\n",
       "   core type: Lambda\n",
       "   parameter: 31\n",
       "   body: 11\n",
       "9. _a -> [MULTI_QUBIT_ELEM]{element:[OUTPUT]{state:|n〉_{m}, part:_a}, targets:{1 .. m}}\n",
       "   core type: Lambda\n",
       "   parameter: 31\n",
       "   body: 13\n",
       "10. [MULTI_QUBIT_ELEM]{element:[INPUT]{state:|psi>, part:_a}, targets:{1 .. m}}\n",
       "    core type: Operation\n",
       "    operator: 17\n",
       "    operands: 14\n",
       "11. [MEASURE]{basis:Z}\n",
       "    core type: Operation\n",
       "    operator: 15\n",
       "    operands: 16\n",
       "12. (_a)\n",
       "    core type: ExprTuple\n",
       "    sub-expressions: 31\n",
       "13. [MULTI_QUBIT_ELEM]{element:[OUTPUT]{state:|n〉_{m}, part:_a}, targets:{1 .. m}}\n",
       "    core type: Operation\n",
       "    operator: 17\n",
       "    operands: 18\n",
       "14. {element:[INPUT]{state:|psi>, part:_a}, targets:{1 .. m}}\n",
       "    core type: NamedExprs\n",
       "    element: 19\n",
       "    targets: 22\n",
       "15. MEASURE\n",
       "    core type: Literal\n",
       "    sub-expressions: \n",
       "16. {basis:Z}\n",
       "    core type: NamedExprs\n",
       "    basis: 20\n",
       "17. MULTI_QUBIT_ELEM\n",
       "    core type: Literal\n",
       "    sub-expressions: \n",
       "18. {element:[OUTPUT]{state:|n〉_{m}, part:_a}, targets:{1 .. m}}\n",
       "    core type: NamedExprs\n",
       "    element: 21\n",
       "    targets: 22\n",
       "19. [INPUT]{state:|psi>, part:_a}\n",
       "    core type: Operation\n",
       "    operator: 23\n",
       "    operands: 24\n",
       "20. Z\n",
       "    core type: Literal\n",
       "    sub-expressions: \n",
       "21. [OUTPUT]{state:|n〉_{m}, part:_a}\n",
       "    core type: Operation\n",
       "    operator: 25\n",
       "    operands: 26\n",
       "22. {1 .. m}\n",
       "    core type: Operation\n",
       "    operator: 27\n",
       "    operands: 28\n",
       "23. INPUT\n",
       "    core type: Literal\n",
       "    sub-expressions: \n",
       "24. {state:|psi>, part:_a}\n",
       "    core type: NamedExprs\n",
       "    state: 29\n",
       "    part: 31\n",
       "25. OUTPUT\n",
       "    core type: Literal\n",
       "    sub-expressions: \n",
       "26. {state:|n〉_{m}, part:_a}\n",
       "    core type: NamedExprs\n",
       "    state: 30\n",
       "    part: 31\n",
       "27. Interval\n",
       "    core type: Literal\n",
       "    sub-expressions: \n",
       "28. (1, m)\n",
       "    core type: ExprTuple\n",
       "    sub-expressions: 32, 36\n",
       "29. |psi>\n",
       "    core type: Variable\n",
       "    sub-expressions: \n",
       "30. |n〉_{m}\n",
       "    core type: Operation\n",
       "    operator: 33\n",
       "    operands: 34\n",
       "31. _a\n",
       "    core type: Variable\n",
       "    sub-expressions: \n",
       "32. 1\n",
       "    core type: Literal\n",
       "    sub-expressions: \n",
       "33. NUM_KET\n",
       "    core type: Literal\n",
       "    sub-expressions: \n",
       "34. (n, m)\n",
       "    core type: ExprTuple\n",
       "    sub-expressions: 35, 36\n",
       "35. n\n",
       "    core type: Variable\n",
       "    sub-expressions: \n",
       "36. m\n",
       "    core type: Variable\n",
       "    sub-expressions: "
      ]
     },
     "metadata": {},
     "output_type": "display_data"
    }
   ],
   "source": [
    "# display the expression information\n",
    "stored_expr.expr_info()"
   ]
  },
  {
   "cell_type": "code",
   "execution_count": null,
   "metadata": {},
   "outputs": [],
   "source": []
  }
 ],
 "metadata": {
  "kernelspec": {
   "display_name": "Python 3",
   "language": "python",
   "name": "python3"
  }
 },
 "nbformat": 4,
 "nbformat_minor": 0
}