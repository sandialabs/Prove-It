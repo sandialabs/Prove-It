{
 "cells": [
  {
   "cell_type": "markdown",
   "metadata": {},
   "source": [
    "Expression of type <a class=\"ProveItLink\" href=\"../../../../../../../../doc/html/api/proveit.ExprTuple.html\">ExprTuple</a>\n",
    "=======================\n",
    "# from the theory of <a class=\"ProveItLink\" href=\"../../../_theory_nbs_/theory.ipynb\">proveit.physics.quantum.circuits</a>"
   ]
  },
  {
   "cell_type": "code",
   "execution_count": 1,
   "metadata": {},
   "outputs": [],
   "source": [
    "import proveit\n",
    "# Automation is not needed when building an expression:\n",
    "proveit.defaults.automation = False # This will speed things up.\n",
    "proveit.defaults.inline_pngs = False # Makes files smaller.\n",
    "%load_expr # Load the stored expression as 'stored_expr'\n",
    "# import Expression classes needed to build the expression\n",
    "from proveit import ExprRange, ExprTuple, Variable, m, n\n",
    "from proveit.numbers import Interval, one\n",
    "from proveit.physics.quantum import NumKet\n",
    "from proveit.physics.quantum.circuits import MultiQubitElem, Output"
   ]
  },
  {
   "cell_type": "code",
   "execution_count": 2,
   "metadata": {},
   "outputs": [
    {
     "data": {
      "text/html": [
       "<strong id=\"expr\">expr:</strong> <a class=\"ProveItLink\" href=\"expr.ipynb\"><img src=\"expr.png\" style=\"display:inline;vertical-align:middle;\" /></a><br>"
      ],
      "text/plain": [
       "<IPython.core.display.HTML object>"
      ]
     },
     "metadata": {},
     "output_type": "display_data"
    }
   ],
   "source": [
    "# build up the expression from sub-expressions\n",
    "sub_expr1 = Variable(\"_a\", latex_format = r\"{_{-}a}\")\n",
    "expr = ExprTuple(ExprRange(sub_expr1, MultiQubitElem(element = Output(state = NumKet(n, m), part = sub_expr1), targets = Interval(one, m)), one, m))"
   ]
  },
  {
   "cell_type": "code",
   "execution_count": 3,
   "metadata": {},
   "outputs": [
    {
     "name": "stdout",
     "output_type": "stream",
     "text": [
      "Passed sanity check: expr matches stored_expr\n"
     ]
    }
   ],
   "source": [
    "# check that the built expression is the same as the stored expression\n",
    "assert expr == stored_expr\n",
    "assert expr._style_id == stored_expr._style_id\n",
    "print(\"Passed sanity check: expr matches stored_expr\")"
   ]
  },
  {
   "cell_type": "code",
   "execution_count": 4,
   "metadata": {},
   "outputs": [
    {
     "name": "stdout",
     "output_type": "stream",
     "text": [
      "\\left(\\begin{array}{c} \\Qcircuit@C=1em @R=.7em{\n",
      "& & \\qout{\\lvert n \\rangle_{m}~\\mbox{part}~1~\\mbox{on}~\\{1~\\ldotp \\ldotp~m\\}} \n",
      "} \\end{array}, \\begin{array}{c} \\Qcircuit@C=1em @R=.7em{\n",
      "& & \\qout{\\lvert n \\rangle_{m}~\\mbox{part}~2~\\mbox{on}~\\{1~\\ldotp \\ldotp~m\\}} \n",
      "} \\end{array}, \\ldots, \\begin{array}{c} \\Qcircuit@C=1em @R=.7em{\n",
      "& & \\qout{\\lvert n \\rangle_{m}~\\mbox{part}~m~\\mbox{on}~\\{1~\\ldotp \\ldotp~m\\}} \n",
      "} \\end{array}\\right)\n"
     ]
    }
   ],
   "source": [
    "# Show the LaTeX representation of the expression for convenience if you need it.\n",
    "print(stored_expr.latex())"
   ]
  },
  {
   "cell_type": "code",
   "execution_count": 5,
   "metadata": {},
   "outputs": [
    {
     "data": {
      "text/html": [
       "no style options"
      ],
      "text/plain": [
       "no style options"
      ]
     },
     "metadata": {},
     "output_type": "display_data"
    }
   ],
   "source": [
    "stored_expr.style_options()"
   ]
  },
  {
   "cell_type": "code",
   "execution_count": 6,
   "metadata": {},
   "outputs": [
    {
     "data": {
      "text/html": [
       "<table><tr><th>&nbsp;</th><th>core type</th><th>sub-expressions</th><th>expression</th></tr>\n",
       "<tr><td>0</td><td>ExprTuple</td><td>1</td><td><a class=\"ProveItLink\" href=\"expr.ipynb\"><img src=\"expr.png\" style=\"display:inline;vertical-align:middle;\" /></a></td></tr>\n",
       "<tr><td>1</td><td>ExprRange</td><td>lambda_map:&nbsp;2<br>start_index:&nbsp;15<br>end_index:&nbsp;19<br></td><td><a class=\"ProveItLink\" href=\"../fbd325ffc6971ef71057f026d4b5890cb0f7c45e0/expr.ipynb\"><img src=\"../fbd325ffc6971ef71057f026d4b5890cb0f7c45e0/expr.png\" style=\"display:inline;vertical-align:middle;\" /></a></td></tr>\n",
       "<tr><td>2</td><td>Lambda</td><td>parameter:&nbsp;14<br>body:&nbsp;4<br></td><td><a class=\"ProveItLink\" href=\"../6b485783b73dc484dd64099e8dc0a2fef1f6e6e60/expr.ipynb\"><img src=\"../6b485783b73dc484dd64099e8dc0a2fef1f6e6e60/expr.png\" style=\"display:inline;vertical-align:middle;\" /></a></td></tr>\n",
       "<tr><td>3</td><td>ExprTuple</td><td>14</td><td><a class=\"ProveItLink\" href=\"../../../../../../core_expr_types/__pv_it/common/4b0dd6be36d76552eda6a95d5b4a27f5a5b62f900/expr.ipynb\"><img src=\"../../../../../../core_expr_types/__pv_it/common/4b0dd6be36d76552eda6a95d5b4a27f5a5b62f900/expr.png\" style=\"display:inline;vertical-align:middle;\" /></a></td></tr>\n",
       "<tr><td>4</td><td>Operation</td><td>operator:&nbsp;5<br>operands:&nbsp;6<br></td><td><a class=\"ProveItLink\" href=\"../6ab6a46f0cb0bb2108d1a99814bcb22c6048dd820/expr.ipynb\"><img src=\"../6ab6a46f0cb0bb2108d1a99814bcb22c6048dd820/expr.png\" style=\"display:inline;vertical-align:middle;\" /></a></td></tr>\n",
       "<tr><td>5</td><td>Literal</td><td></td><td><a class=\"ProveItLink\" href=\"../5eaa43008f05c06941080a12337ff182ea14996e0/expr.ipynb\"><img src=\"../5eaa43008f05c06941080a12337ff182ea14996e0/expr.png\" style=\"display:inline;vertical-align:middle;\" /></a></td></tr>\n",
       "<tr><td>6</td><td>NamedExprs</td><td>element: 7<br>targets: 8<br></td><td><a class=\"ProveItLink\" href=\"../fc03aa176df290907f359c41a417b1bf16ede8020/expr.ipynb\"><img src=\"../fc03aa176df290907f359c41a417b1bf16ede8020/expr.png\" style=\"display:inline;vertical-align:middle;\" /></a></td></tr>\n",
       "<tr><td>7</td><td>Operation</td><td>operator:&nbsp;9<br>operands:&nbsp;10<br></td><td><a class=\"ProveItLink\" href=\"../c37847d7f9f312eeeefb32cd1d57d59c37ad52540/expr.ipynb\"><img src=\"../c37847d7f9f312eeeefb32cd1d57d59c37ad52540/expr.png\" style=\"display:inline;vertical-align:middle;\" /></a></td></tr>\n",
       "<tr><td>8</td><td>Operation</td><td>operator:&nbsp;11<br>operands:&nbsp;12<br></td><td><a class=\"ProveItLink\" href=\"../706881e668df69cca5d841d8343295e596a7a0c70/expr.ipynb\"><img src=\"../706881e668df69cca5d841d8343295e596a7a0c70/expr.png\" style=\"display:inline;vertical-align:middle;\" /></a></td></tr>\n",
       "<tr><td>9</td><td>Literal</td><td></td><td><a class=\"ProveItLink\" href=\"../00345a9c4f4d361e0b6e8bbbbe5a33a8ec86a20b0/expr.ipynb\"><img src=\"../00345a9c4f4d361e0b6e8bbbbe5a33a8ec86a20b0/expr.png\" style=\"display:inline;vertical-align:middle;\" /></a></td></tr>\n",
       "<tr><td>10</td><td>NamedExprs</td><td>state: 13<br>part: 14<br></td><td><a class=\"ProveItLink\" href=\"../611db4489a43abd06c2b57ad7a6d9b01b03964e60/expr.ipynb\"><img src=\"../611db4489a43abd06c2b57ad7a6d9b01b03964e60/expr.png\" style=\"display:inline;vertical-align:middle;\" /></a></td></tr>\n",
       "<tr><td>11</td><td>Literal</td><td></td><td><a class=\"ProveItLink\" href=\"../../../../../../numbers/number_sets/integers/__pv_it/common/92f3a0a77e3c3ea8e4a5c8674edadc54e4f57d550/expr.ipynb\"><img src=\"../../../../../../numbers/number_sets/integers/__pv_it/common/92f3a0a77e3c3ea8e4a5c8674edadc54e4f57d550/expr.png\" style=\"display:inline;vertical-align:middle;\" /></a></td></tr>\n",
       "<tr><td>12</td><td>ExprTuple</td><td>15, 19</td><td><a class=\"ProveItLink\" href=\"../940639d2e54ef77a90c8aa1312af4ae333846c530/expr.ipynb\"><img src=\"../940639d2e54ef77a90c8aa1312af4ae333846c530/expr.png\" style=\"display:inline;vertical-align:middle;\" /></a></td></tr>\n",
       "<tr><td>13</td><td>Operation</td><td>operator:&nbsp;16<br>operands:&nbsp;17<br></td><td><a class=\"ProveItLink\" href=\"../48584b15f38d738eb65973b4301f23963a7ac4750/expr.ipynb\"><img src=\"../48584b15f38d738eb65973b4301f23963a7ac4750/expr.png\" style=\"display:inline;vertical-align:middle;\" /></a></td></tr>\n",
       "<tr><td>14</td><td>Variable</td><td></td><td><a class=\"ProveItLink\" href=\"../../../../../../core_expr_types/__pv_it/common/006c465e50948aa2b52285e2de47974f741255cc0/expr.ipynb\"><img src=\"../../../../../../core_expr_types/__pv_it/common/006c465e50948aa2b52285e2de47974f741255cc0/expr.png\" style=\"display:inline;vertical-align:middle;\" /></a></td></tr>\n",
       "<tr><td>15</td><td>Literal</td><td></td><td><a class=\"ProveItLink\" href=\"../../../../../../numbers/numerals/__pv_it/common/682157d4892d216d9e5626ed533aff9b56b9506e0/expr.ipynb\"><img src=\"../../../../../../numbers/numerals/__pv_it/common/682157d4892d216d9e5626ed533aff9b56b9506e0/expr.png\" style=\"display:inline;vertical-align:middle;\" /></a></td></tr>\n",
       "<tr><td>16</td><td>Literal</td><td></td><td><a class=\"ProveItLink\" href=\"../../../../algebra/__pv_it/common/8fae26fc802d6e77100c911db42f2d3784cdc7330/expr.ipynb\"><img src=\"../../../../algebra/__pv_it/common/8fae26fc802d6e77100c911db42f2d3784cdc7330/expr.png\" style=\"display:inline;vertical-align:middle;\" /></a></td></tr>\n",
       "<tr><td>17</td><td>ExprTuple</td><td>18, 19</td><td><a class=\"ProveItLink\" href=\"../4dfb425557374107791dbc60e3c87f32a4d1adb30/expr.ipynb\"><img src=\"../4dfb425557374107791dbc60e3c87f32a4d1adb30/expr.png\" style=\"display:inline;vertical-align:middle;\" /></a></td></tr>\n",
       "<tr><td>18</td><td>Variable</td><td></td><td><a class=\"ProveItLink\" href=\"../../../../../../__pv_it/common/8968bb04eb3f7dfa02353397ce929b025bbd79c20/expr.ipynb\"><img src=\"../../../../../../__pv_it/common/8968bb04eb3f7dfa02353397ce929b025bbd79c20/expr.png\" style=\"display:inline;vertical-align:middle;\" /></a></td></tr>\n",
       "<tr><td>19</td><td>Variable</td><td></td><td><a class=\"ProveItLink\" href=\"../../../../../../__pv_it/common/674a03b9c3ca221b3aabd5636837b31528ff33830/expr.ipynb\"><img src=\"../../../../../../__pv_it/common/674a03b9c3ca221b3aabd5636837b31528ff33830/expr.png\" style=\"display:inline;vertical-align:middle;\" /></a></td></tr>\n",
       "</table>\n"
      ],
      "text/plain": [
       "0. ([MULTI_QUBIT_ELEM]{element:[OUTPUT]{state:|n〉_{m}, part:1}, targets:{1 .. m}}, [MULTI_QUBIT_ELEM]{element:[OUTPUT]{state:|n〉_{m}, part:2}, targets:{1 .. m}}, ..., [MULTI_QUBIT_ELEM]{element:[OUTPUT]{state:|n〉_{m}, part:m}, targets:{1 .. m}})\n",
       "   core type: ExprTuple\n",
       "   sub-expressions: 1\n",
       "1. [MULTI_QUBIT_ELEM]{element:[OUTPUT]{state:|n〉_{m}, part:1}, targets:{1 .. m}}, [MULTI_QUBIT_ELEM]{element:[OUTPUT]{state:|n〉_{m}, part:2}, targets:{1 .. m}}, ..., [MULTI_QUBIT_ELEM]{element:[OUTPUT]{state:|n〉_{m}, part:m}, targets:{1 .. m}}\n",
       "   core type: ExprRange\n",
       "   lambda_map: 2\n",
       "   start_index: 15\n",
       "   end_index: 19\n",
       "2. _a -> [MULTI_QUBIT_ELEM]{element:[OUTPUT]{state:|n〉_{m}, part:_a}, targets:{1 .. m}}\n",
       "   core type: Lambda\n",
       "   parameter: 14\n",
       "   body: 4\n",
       "3. (_a)\n",
       "   core type: ExprTuple\n",
       "   sub-expressions: 14\n",
       "4. [MULTI_QUBIT_ELEM]{element:[OUTPUT]{state:|n〉_{m}, part:_a}, targets:{1 .. m}}\n",
       "   core type: Operation\n",
       "   operator: 5\n",
       "   operands: 6\n",
       "5. MULTI_QUBIT_ELEM\n",
       "   core type: Literal\n",
       "   sub-expressions: \n",
       "6. {element:[OUTPUT]{state:|n〉_{m}, part:_a}, targets:{1 .. m}}\n",
       "   core type: NamedExprs\n",
       "   element: 7\n",
       "   targets: 8\n",
       "7. [OUTPUT]{state:|n〉_{m}, part:_a}\n",
       "   core type: Operation\n",
       "   operator: 9\n",
       "   operands: 10\n",
       "8. {1 .. m}\n",
       "   core type: Operation\n",
       "   operator: 11\n",
       "   operands: 12\n",
       "9. OUTPUT\n",
       "   core type: Literal\n",
       "   sub-expressions: \n",
       "10. {state:|n〉_{m}, part:_a}\n",
       "    core type: NamedExprs\n",
       "    state: 13\n",
       "    part: 14\n",
       "11. Interval\n",
       "    core type: Literal\n",
       "    sub-expressions: \n",
       "12. (1, m)\n",
       "    core type: ExprTuple\n",
       "    sub-expressions: 15, 19\n",
       "13. |n〉_{m}\n",
       "    core type: Operation\n",
       "    operator: 16\n",
       "    operands: 17\n",
       "14. _a\n",
       "    core type: Variable\n",
       "    sub-expressions: \n",
       "15. 1\n",
       "    core type: Literal\n",
       "    sub-expressions: \n",
       "16. NUM_KET\n",
       "    core type: Literal\n",
       "    sub-expressions: \n",
       "17. (n, m)\n",
       "    core type: ExprTuple\n",
       "    sub-expressions: 18, 19\n",
       "18. n\n",
       "    core type: Variable\n",
       "    sub-expressions: \n",
       "19. m\n",
       "    core type: Variable\n",
       "    sub-expressions: "
      ]
     },
     "metadata": {},
     "output_type": "display_data"
    }
   ],
   "source": [
    "# display the expression information\n",
    "stored_expr.expr_info()"
   ]
  },
  {
   "cell_type": "code",
   "execution_count": null,
   "metadata": {},
   "outputs": [],
   "source": []
  }
 ],
 "metadata": {
  "kernelspec": {
   "display_name": "Python 3",
   "language": "python",
   "name": "python3"
  }
 },
 "nbformat": 4,
 "nbformat_minor": 0
}