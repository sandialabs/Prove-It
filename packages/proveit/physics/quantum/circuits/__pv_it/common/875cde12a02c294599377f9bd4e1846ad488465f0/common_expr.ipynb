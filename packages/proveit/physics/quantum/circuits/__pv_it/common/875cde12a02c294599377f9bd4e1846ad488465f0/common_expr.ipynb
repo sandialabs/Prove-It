{
 "cells": [
  {
   "cell_type": "markdown",
   "metadata": {},
   "source": [
    "Common <a class=\"ProveItLink\" href=\"../../../_common_.ipynb#circuit_Bn\">circuit_Bn</a> of type <a class=\"ProveItLink\" href=\"../../../../../../../../doc/html/api/proveit.physics.quantum.circuits.Qcircuit.html\">Qcircuit</a>\n",
    "=======================\n",
    "# from the theory of <a class=\"ProveItLink\" href=\"../../../_theory_nbs_/theory.ipynb\">proveit.physics.quantum.circuits</a>"
   ]
  },
  {
   "cell_type": "code",
   "execution_count": 1,
   "metadata": {},
   "outputs": [],
   "source": [
    "import proveit\n",
    "# Automation is not needed when only building an expression:\n",
    "proveit.defaults.automation = False # This will speed things up.\n",
    "proveit.defaults.inline_pngs = False # Makes files smaller.\n",
    "%load_expr # Load the stored expression as 'stored_expr'\n",
    "# import the special expression\n",
    "from proveit.physics.quantum.circuits import circuit_Bn"
   ]
  },
  {
   "cell_type": "code",
   "execution_count": 2,
   "metadata": {},
   "outputs": [
    {
     "name": "stdout",
     "output_type": "stream",
     "text": [
      "Passed sanity check: circuit_Bn matches stored_expr\n"
     ]
    }
   ],
   "source": [
    "# check that the built expression is the same as the stored expression\n",
    "assert circuit_Bn == stored_expr\n",
    "assert circuit_Bn._style_id == stored_expr._style_id\n",
    "print(\"Passed sanity check: circuit_Bn matches stored_expr\")"
   ]
  },
  {
   "cell_type": "code",
   "execution_count": 3,
   "metadata": {},
   "outputs": [
    {
     "name": "stdout",
     "output_type": "stream",
     "text": [
      "\\begin{array}{c} \\Qcircuit@C=1em @R=.7em{\n",
      "& \\gate{\\begin{array}{c} \\uparrow \\\\B_{1} \\\\ \\downarrow\\end{array}} & \\gate{\\begin{array}{c} \\uparrow \\\\B_{2} \\\\ \\downarrow\\end{array}} & \\gate{\\begin{array}{c} \\uparrow \\\\\\cdots \\\\ \\downarrow\\end{array}} & \\gate{\\begin{array}{c} \\uparrow \\\\B_{n} \\\\ \\downarrow\\end{array}} & \\qw\n",
      "} \\end{array}\n"
     ]
    }
   ],
   "source": [
    "# Show the LaTeX representation of the expression for convenience if you need it.\n",
    "print(stored_expr.latex())"
   ]
  },
  {
   "cell_type": "code",
   "execution_count": 4,
   "metadata": {},
   "outputs": [
    {
     "data": {
      "text/html": [
       "<table>\n",
       "<tr><th>name</th><th>description</th><th>default</th><th>current value</th><th>related methods</th></tr><tr><td>spacing</td><td>change the spacing of a circuit using the format '@C=1em @R=.7em' where C is the column spacing and R is the row spacing</td><td>@C=1em @R=.7em</td><td>@C=1em @R=.7em</td><td></td></tr>\n",
       "</table>\n"
      ],
      "text/plain": [
       "style name: spacing\n",
       "description: change the spacing of a circuit using the format '@C=1em @R=.7em' where C is the column spacing and R is the row spacing\n",
       "default: @C=1em @R=.7em\n",
       "current value: @C=1em @R=.7em\n",
       "related methods: ()"
      ]
     },
     "metadata": {},
     "output_type": "display_data"
    }
   ],
   "source": [
    "stored_expr.style_options()"
   ]
  },
  {
   "cell_type": "code",
   "execution_count": 5,
   "metadata": {},
   "outputs": [
    {
     "data": {
      "text/html": [
       "<table><tr><th>&nbsp;</th><th>core type</th><th>sub-expressions</th><th>expression</th></tr>\n",
       "<tr><td>0</td><td>Operation</td><td>operator:&nbsp;1<br>operands:&nbsp;2<br></td><td><a class=\"ProveItLink\" href=\"expr.ipynb\"><img src=\"expr.png\" style=\"display:inline;vertical-align:middle;\" /></a></td></tr>\n",
       "<tr><td>1</td><td>Literal</td><td></td><td><a class=\"ProveItLink\" href=\"../40003b89a3d1740159ada9fe5b21308b42a7d3d40/expr.ipynb\"><img src=\"../40003b89a3d1740159ada9fe5b21308b42a7d3d40/expr.png\" style=\"display:inline;vertical-align:middle;\" /></a></td></tr>\n",
       "<tr><td>2</td><td>ExprTuple</td><td>3</td><td><a class=\"ProveItLink\" href=\"../ec4320a82c61442502f5b12b69763d56327317160/expr.ipynb\"><img src=\"../ec4320a82c61442502f5b12b69763d56327317160/expr.png\" style=\"display:inline;vertical-align:middle;\" /></a></td></tr>\n",
       "<tr><td>3</td><td>ExprRange</td><td>lambda_map:&nbsp;4<br>start_index:&nbsp;5<br>end_index:&nbsp;6<br></td><td><a class=\"ProveItLink\" href=\"../d4cb68062d16b581529b032e89019e32a068359f0/expr.ipynb\"><img src=\"../d4cb68062d16b581529b032e89019e32a068359f0/expr.png\" style=\"display:inline;vertical-align:middle;\" /></a></td></tr>\n",
       "<tr><td>4</td><td>Lambda</td><td>parameter:&nbsp;10<br>body:&nbsp;7<br></td><td><a class=\"ProveItLink\" href=\"../ce3be667460ed1a5c75aef291ca088671a4476f50/expr.ipynb\"><img src=\"../ce3be667460ed1a5c75aef291ca088671a4476f50/expr.png\" style=\"display:inline;vertical-align:middle;\" /></a></td></tr>\n",
       "<tr><td>5</td><td>Literal</td><td></td><td><a class=\"ProveItLink\" href=\"../../../../../../numbers/numerals/__pv_it/common/682157d4892d216d9e5626ed533aff9b56b9506e0/expr.ipynb\"><img src=\"../../../../../../numbers/numerals/__pv_it/common/682157d4892d216d9e5626ed533aff9b56b9506e0/expr.png\" style=\"display:inline;vertical-align:middle;\" /></a></td></tr>\n",
       "<tr><td>6</td><td>Variable</td><td></td><td><a class=\"ProveItLink\" href=\"../../../../../../__pv_it/common/8968bb04eb3f7dfa02353397ce929b025bbd79c20/expr.ipynb\"><img src=\"../../../../../../__pv_it/common/8968bb04eb3f7dfa02353397ce929b025bbd79c20/expr.png\" style=\"display:inline;vertical-align:middle;\" /></a></td></tr>\n",
       "<tr><td>7</td><td>IndexedVar</td><td>variable:&nbsp;8<br>index:&nbsp;10<br></td><td><a class=\"ProveItLink\" href=\"../2d18b8ce771112ed7fafa8be6c3e3112c72709040/expr.ipynb\"><img src=\"../2d18b8ce771112ed7fafa8be6c3e3112c72709040/expr.png\" style=\"display:inline;vertical-align:middle;\" /></a></td></tr>\n",
       "<tr><td>8</td><td>Variable</td><td></td><td><a class=\"ProveItLink\" href=\"../../../../../../__pv_it/common/a9162d1c3cc0470c02e5daf414500903a7a419230/expr.ipynb\"><img src=\"../../../../../../__pv_it/common/a9162d1c3cc0470c02e5daf414500903a7a419230/expr.png\" style=\"display:inline;vertical-align:middle;\" /></a></td></tr>\n",
       "<tr><td>9</td><td>ExprTuple</td><td>10</td><td><a class=\"ProveItLink\" href=\"../../../../../../core_expr_types/__pv_it/common/4b0dd6be36d76552eda6a95d5b4a27f5a5b62f900/expr.ipynb\"><img src=\"../../../../../../core_expr_types/__pv_it/common/4b0dd6be36d76552eda6a95d5b4a27f5a5b62f900/expr.png\" style=\"display:inline;vertical-align:middle;\" /></a></td></tr>\n",
       "<tr><td>10</td><td>Variable</td><td></td><td><a class=\"ProveItLink\" href=\"../../../../../../core_expr_types/__pv_it/common/006c465e50948aa2b52285e2de47974f741255cc0/expr.ipynb\"><img src=\"../../../../../../core_expr_types/__pv_it/common/006c465e50948aa2b52285e2de47974f741255cc0/expr.png\" style=\"display:inline;vertical-align:middle;\" /></a></td></tr>\n",
       "</table>\n"
      ],
      "text/plain": [
       "0. QCIRCUIT(VertExprArray(B_{1}, B_{2}, ..., B_{n}))\n",
       "   core type: Operation\n",
       "   operator: 1\n",
       "   operands: 2\n",
       "1. QCIRCUIT\n",
       "   core type: Literal\n",
       "   sub-expressions: \n",
       "2. VertExprArray(B_{1}, B_{2}, ..., B_{n})\n",
       "   core type: ExprTuple\n",
       "   sub-expressions: 3\n",
       "3. B_{1}, B_{2}, ..., B_{n}\n",
       "   core type: ExprRange\n",
       "   lambda_map: 4\n",
       "   start_index: 5\n",
       "   end_index: 6\n",
       "4. _a -> B_{_a}\n",
       "   core type: Lambda\n",
       "   parameter: 10\n",
       "   body: 7\n",
       "5. 1\n",
       "   core type: Literal\n",
       "   sub-expressions: \n",
       "6. n\n",
       "   core type: Variable\n",
       "   sub-expressions: \n",
       "7. B_{_a}\n",
       "   core type: IndexedVar\n",
       "variable: 8\n",
       "index: 10\n",
       "8. B\n",
       "   core type: Variable\n",
       "   sub-expressions: \n",
       "9. (_a)\n",
       "   core type: ExprTuple\n",
       "   sub-expressions: 10\n",
       "10. _a\n",
       "    core type: Variable\n",
       "    sub-expressions: "
      ]
     },
     "metadata": {},
     "output_type": "display_data"
    }
   ],
   "source": [
    "# display the expression information\n",
    "stored_expr.expr_info()"
   ]
  },
  {
   "cell_type": "code",
   "execution_count": null,
   "metadata": {},
   "outputs": [],
   "source": []
  }
 ],
 "metadata": {
  "kernelspec": {
   "display_name": "Python 3",
   "language": "python",
   "name": "python3"
  }
 },
 "nbformat": 4,
 "nbformat_minor": 0
}