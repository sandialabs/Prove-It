{
 "cells": [
  {
   "cell_type": "markdown",
   "metadata": {},
   "source": [
    "Expression of type <a class=\"ProveItLink\" href=\"../../../../../../../../doc/html/api/proveit.ExprRange.html\">ExprRange</a>\n",
    "=======================\n",
    "# from the theory of <a class=\"ProveItLink\" href=\"../../../_theory_nbs_/theory.ipynb\">proveit.physics.quantum.circuits</a>"
   ]
  },
  {
   "cell_type": "code",
   "execution_count": 1,
   "metadata": {},
   "outputs": [],
   "source": [
    "import proveit\n",
    "# Automation is not needed when building an expression:\n",
    "proveit.defaults.automation = False # This will speed things up.\n",
    "proveit.defaults.inline_pngs = False # Makes files smaller.\n",
    "%load_expr # Load the stored expression as 'stored_expr'\n",
    "# import Expression classes needed to build the expression\n",
    "from proveit import A, C, ExprRange, IndexedVar, R, T, Variable, k, l, m\n",
    "from proveit.numbers import one\n",
    "from proveit.physics.quantum.circuits import MultiQubitElem"
   ]
  },
  {
   "cell_type": "code",
   "execution_count": 2,
   "metadata": {},
   "outputs": [
    {
     "data": {
      "text/html": [
       "<strong id=\"expr\">expr:</strong> <a class=\"ProveItLink\" href=\"expr.ipynb\"><img src=\"expr.png\" style=\"display:inline;vertical-align:middle;\" /></a><br>"
      ],
      "text/plain": [
       "<IPython.core.display.HTML object>"
      ]
     },
     "metadata": {},
     "output_type": "display_data"
    }
   ],
   "source": [
    "# build up the expression from sub-expressions\n",
    "sub_expr1 = Variable(\"_b\", latex_format = r\"{_{-}b}\")\n",
    "sub_expr2 = Variable(\"_a\", latex_format = r\"{_{-}a}\")\n",
    "sub_expr3 = [sub_expr1, sub_expr2]\n",
    "expr = ExprRange(sub_expr1, [ExprRange(sub_expr2, MultiQubitElem(element = IndexedVar(A, sub_expr3), targets = IndexedVar(R, sub_expr3)), one, k), ExprRange(sub_expr2, MultiQubitElem(element = IndexedVar(C, sub_expr3), targets = IndexedVar(T, sub_expr3)), one, l)], one, m)"
   ]
  },
  {
   "cell_type": "code",
   "execution_count": 3,
   "metadata": {},
   "outputs": [
    {
     "name": "stdout",
     "output_type": "stream",
     "text": [
      "Passed sanity check: expr matches stored_expr\n"
     ]
    }
   ],
   "source": [
    "# check that the built expression is the same as the stored expression\n",
    "assert expr == stored_expr\n",
    "assert expr._style_id == stored_expr._style_id\n",
    "print(\"Passed sanity check: expr matches stored_expr\")"
   ]
  },
  {
   "cell_type": "code",
   "execution_count": 4,
   "metadata": {},
   "outputs": [
    {
     "name": "stdout",
     "output_type": "stream",
     "text": [
      "\\left(\\begin{array}{c} \\Qcircuit@C=1em @R=.7em{\n",
      "& & \\gate{A_{1, 1}~\\mbox{on}~R_{1, 1}} & \\qw \n",
      "} \\end{array}, \\begin{array}{c} \\Qcircuit@C=1em @R=.7em{\n",
      "& & \\gate{A_{1, 2}~\\mbox{on}~R_{1, 2}} & \\qw \n",
      "} \\end{array}, \\ldots, \\begin{array}{c} \\Qcircuit@C=1em @R=.7em{\n",
      "& & \\gate{A_{1, k}~\\mbox{on}~R_{1, k}} & \\qw \n",
      "} \\end{array},\\begin{array}{c} \\Qcircuit@C=1em @R=.7em{\n",
      "& & \\gate{C_{1, 1}~\\mbox{on}~T_{1, 1}} & \\qw \n",
      "} \\end{array}, \\begin{array}{c} \\Qcircuit@C=1em @R=.7em{\n",
      "& & \\gate{C_{1, 2}~\\mbox{on}~T_{1, 2}} & \\qw \n",
      "} \\end{array}, \\ldots, \\begin{array}{c} \\Qcircuit@C=1em @R=.7em{\n",
      "& & \\gate{C_{1, l}~\\mbox{on}~T_{1, l}} & \\qw \n",
      "} \\end{array}\\right), \\left(\\begin{array}{c} \\Qcircuit@C=1em @R=.7em{\n",
      "& & \\gate{A_{2, 1}~\\mbox{on}~R_{2, 1}} & \\qw \n",
      "} \\end{array}, \\begin{array}{c} \\Qcircuit@C=1em @R=.7em{\n",
      "& & \\gate{A_{2, 2}~\\mbox{on}~R_{2, 2}} & \\qw \n",
      "} \\end{array}, \\ldots, \\begin{array}{c} \\Qcircuit@C=1em @R=.7em{\n",
      "& & \\gate{A_{2, k}~\\mbox{on}~R_{2, k}} & \\qw \n",
      "} \\end{array},\\begin{array}{c} \\Qcircuit@C=1em @R=.7em{\n",
      "& & \\gate{C_{2, 1}~\\mbox{on}~T_{2, 1}} & \\qw \n",
      "} \\end{array}, \\begin{array}{c} \\Qcircuit@C=1em @R=.7em{\n",
      "& & \\gate{C_{2, 2}~\\mbox{on}~T_{2, 2}} & \\qw \n",
      "} \\end{array}, \\ldots, \\begin{array}{c} \\Qcircuit@C=1em @R=.7em{\n",
      "& & \\gate{C_{2, l}~\\mbox{on}~T_{2, l}} & \\qw \n",
      "} \\end{array}\\right), \\ldots, \\left(\\begin{array}{c} \\Qcircuit@C=1em @R=.7em{\n",
      "& & \\gate{A_{m, 1}~\\mbox{on}~R_{m, 1}} & \\qw \n",
      "} \\end{array}, \\begin{array}{c} \\Qcircuit@C=1em @R=.7em{\n",
      "& & \\gate{A_{m, 2}~\\mbox{on}~R_{m, 2}} & \\qw \n",
      "} \\end{array}, \\ldots, \\begin{array}{c} \\Qcircuit@C=1em @R=.7em{\n",
      "& & \\gate{A_{m, k}~\\mbox{on}~R_{m, k}} & \\qw \n",
      "} \\end{array},\\begin{array}{c} \\Qcircuit@C=1em @R=.7em{\n",
      "& & \\gate{C_{m, 1}~\\mbox{on}~T_{m, 1}} & \\qw \n",
      "} \\end{array}, \\begin{array}{c} \\Qcircuit@C=1em @R=.7em{\n",
      "& & \\gate{C_{m, 2}~\\mbox{on}~T_{m, 2}} & \\qw \n",
      "} \\end{array}, \\ldots, \\begin{array}{c} \\Qcircuit@C=1em @R=.7em{\n",
      "& & \\gate{C_{m, l}~\\mbox{on}~T_{m, l}} & \\qw \n",
      "} \\end{array}\\right)\n"
     ]
    }
   ],
   "source": [
    "# Show the LaTeX representation of the expression for convenience if you need it.\n",
    "print(stored_expr.latex())"
   ]
  },
  {
   "cell_type": "code",
   "execution_count": 5,
   "metadata": {},
   "outputs": [
    {
     "data": {
      "text/html": [
       "<table>\n",
       "<tr><th>name</th><th>description</th><th>default</th><th>current value</th><th>related methods</th></tr><tr><td>parameterization</td><td>'implicit' (default for LaTeX formatting) hides the parameter the ExprRange so the parameterization may be ambiguous (e.g., x_{1+1}, ..., x_{n+1}); 'explicit' (default for string formatting) reveals the parameterization (e.g. x_{1+1}, ..x_{k+1}.., x_{n+1}).</td><td>None</td><td>None/False</td><td>('with_explicit_parameterization', 'with_implicit_parameterization', 'with_default_parameterization_style')</td></tr>\n",
       "<tr><td>front_expansion</td><td>The number of instances to display at the front of the range (e.g., before the ellipsis). Default is 2.</td><td>2</td><td>2</td><td>('with_front_expansion', 'get_front_expansion')</td></tr>\n",
       "<tr><td>back_expansion</td><td>The number of instances to display at the back of the range (e.g., after the ellipsis). Default is 1.</td><td>1</td><td>1</td><td>('with_back_expansion', 'get_back_expansion')</td></tr>\n",
       "<tr><td>order</td><td>The default order is 'increasing' (a_1 ... a_3) but to represent a 'decreasing' ExprRange (a_6 ... a_2) the order must be set to 'decreasing'</td><td>increasing</td><td>increasing</td><td>('with_decreasing_order', 'with_increasing_order')</td></tr>\n",
       "<tr><td>wrap_positions</td><td>position(s) at which wrapping is to occur; 'n' is after the nth comma.</td><td>()</td><td>()</td><td>('with_wrapping_at',)</td></tr>\n",
       "<tr><td>case_simplify</td><td>If 'True', simplify formatted instances that are ConditionalSets under proper index assumptions</td><td>False</td><td>False</td><td>('with_case_simplification',)</td></tr>\n",
       "</table>\n"
      ],
      "text/plain": [
       "style name: parameterization\n",
       "description: 'implicit' (default for LaTeX formatting) hides the parameter the ExprRange so the parameterization may be ambiguous (e.g., x_{1+1}, ..., x_{n+1}); 'explicit' (default for string formatting) reveals the parameterization (e.g. x_{1+1}, ..x_{k+1}.., x_{n+1}).\n",
       "default: None\n",
       "current value: None/False\n",
       "related methods: ('with_explicit_parameterization', 'with_implicit_parameterization', 'with_default_parameterization_style')\n",
       "style name: front_expansion\n",
       "description: The number of instances to display at the front of the range (e.g., before the ellipsis). Default is 2.\n",
       "default: 2\n",
       "current value: 2\n",
       "related methods: ('with_front_expansion', 'get_front_expansion')\n",
       "style name: back_expansion\n",
       "description: The number of instances to display at the back of the range (e.g., after the ellipsis). Default is 1.\n",
       "default: 1\n",
       "current value: 1\n",
       "related methods: ('with_back_expansion', 'get_back_expansion')\n",
       "style name: order\n",
       "description: The default order is 'increasing' (a_1 ... a_3) but to represent a 'decreasing' ExprRange (a_6 ... a_2) the order must be set to 'decreasing'\n",
       "default: increasing\n",
       "current value: increasing\n",
       "related methods: ('with_decreasing_order', 'with_increasing_order')\n",
       "style name: wrap_positions\n",
       "description: position(s) at which wrapping is to occur; 'n' is after the nth comma.\n",
       "default: ()\n",
       "current value: ()\n",
       "related methods: ('with_wrapping_at',)\n",
       "style name: case_simplify\n",
       "description: If 'True', simplify formatted instances that are ConditionalSets under proper index assumptions\n",
       "default: False\n",
       "current value: False\n",
       "related methods: ('with_case_simplification',)"
      ]
     },
     "metadata": {},
     "output_type": "display_data"
    }
   ],
   "source": [
    "stored_expr.style_options()"
   ]
  },
  {
   "cell_type": "code",
   "execution_count": 6,
   "metadata": {},
   "outputs": [
    {
     "data": {
      "text/html": [
       "<table><tr><th>&nbsp;</th><th>core type</th><th>sub-expressions</th><th>expression</th></tr>\n",
       "<tr><td>0</td><td>ExprRange</td><td>lambda_map:&nbsp;1<br>start_index:&nbsp;10<br>end_index:&nbsp;2<br></td><td><a class=\"ProveItLink\" href=\"expr.ipynb\"><img src=\"expr.png\" style=\"display:inline;vertical-align:middle;\" /></a></td></tr>\n",
       "<tr><td>1</td><td>Lambda</td><td>parameter:&nbsp;27<br>body:&nbsp;4<br></td><td><a class=\"ProveItLink\" href=\"../e765169c7c810d7485c1fef5559fe71b4cebc22e0/expr.ipynb\"><img src=\"../e765169c7c810d7485c1fef5559fe71b4cebc22e0/expr.png\" style=\"display:inline;vertical-align:middle;\" /></a></td></tr>\n",
       "<tr><td>2</td><td>Variable</td><td></td><td><a class=\"ProveItLink\" href=\"../../../../../../__pv_it/common/674a03b9c3ca221b3aabd5636837b31528ff33830/expr.ipynb\"><img src=\"../../../../../../__pv_it/common/674a03b9c3ca221b3aabd5636837b31528ff33830/expr.png\" style=\"display:inline;vertical-align:middle;\" /></a></td></tr>\n",
       "<tr><td>3</td><td>ExprTuple</td><td>27</td><td><a class=\"ProveItLink\" href=\"../../../../../../core_expr_types/expr_arrays/__pv_it/common/18f7318b68e45ff8356043b6e71619fa8450fb200/expr.ipynb\"><img src=\"../../../../../../core_expr_types/expr_arrays/__pv_it/common/18f7318b68e45ff8356043b6e71619fa8450fb200/expr.png\" style=\"display:inline;vertical-align:middle;\" /></a></td></tr>\n",
       "<tr><td>4</td><td>ExprTuple</td><td>5, 6</td><td><a class=\"ProveItLink\" href=\"../ae0ab1431b521fbf56021703b81fc9ceed6fcf740/expr.ipynb\"><img src=\"../ae0ab1431b521fbf56021703b81fc9ceed6fcf740/expr.png\" style=\"display:inline;vertical-align:middle;\" /></a></td></tr>\n",
       "<tr><td>5</td><td>ExprRange</td><td>lambda_map:&nbsp;7<br>start_index:&nbsp;10<br>end_index:&nbsp;8<br></td><td><a class=\"ProveItLink\" href=\"../92208ceda3f7100ce294e5fb31daa3fca8cd3d7f0/expr.ipynb\"><img src=\"../92208ceda3f7100ce294e5fb31daa3fca8cd3d7f0/expr.png\" style=\"display:inline;vertical-align:middle;\" /></a></td></tr>\n",
       "<tr><td>6</td><td>ExprRange</td><td>lambda_map:&nbsp;9<br>start_index:&nbsp;10<br>end_index:&nbsp;11<br></td><td><a class=\"ProveItLink\" href=\"../e45675d78199b8d537970a0d12019d19b7050cd70/expr.ipynb\"><img src=\"../e45675d78199b8d537970a0d12019d19b7050cd70/expr.png\" style=\"display:inline;vertical-align:middle;\" /></a></td></tr>\n",
       "<tr><td>7</td><td>Lambda</td><td>parameter:&nbsp;28<br>body:&nbsp;12<br></td><td><a class=\"ProveItLink\" href=\"../b45696b93fefc8c861c0f05f31d9ed26fde8760d0/expr.ipynb\"><img src=\"../b45696b93fefc8c861c0f05f31d9ed26fde8760d0/expr.png\" style=\"display:inline;vertical-align:middle;\" /></a></td></tr>\n",
       "<tr><td>8</td><td>Variable</td><td></td><td><a class=\"ProveItLink\" href=\"../../../../../../__pv_it/common/63b7c64bf9ec7a04ecc396c7a1670f3f12fb59490/expr.ipynb\"><img src=\"../../../../../../__pv_it/common/63b7c64bf9ec7a04ecc396c7a1670f3f12fb59490/expr.png\" style=\"display:inline;vertical-align:middle;\" /></a></td></tr>\n",
       "<tr><td>9</td><td>Lambda</td><td>parameter:&nbsp;28<br>body:&nbsp;14<br></td><td><a class=\"ProveItLink\" href=\"../dad6c131a7a119fe38faac213b3d9a884ad7f31f0/expr.ipynb\"><img src=\"../dad6c131a7a119fe38faac213b3d9a884ad7f31f0/expr.png\" style=\"display:inline;vertical-align:middle;\" /></a></td></tr>\n",
       "<tr><td>10</td><td>Literal</td><td></td><td><a class=\"ProveItLink\" href=\"../../../../../../numbers/numerals/__pv_it/common/682157d4892d216d9e5626ed533aff9b56b9506e0/expr.ipynb\"><img src=\"../../../../../../numbers/numerals/__pv_it/common/682157d4892d216d9e5626ed533aff9b56b9506e0/expr.png\" style=\"display:inline;vertical-align:middle;\" /></a></td></tr>\n",
       "<tr><td>11</td><td>Variable</td><td></td><td><a class=\"ProveItLink\" href=\"../../../../../../__pv_it/common/27cc275d44b4f4499fb9ccfb3fab1a98165d2fa60/expr.ipynb\"><img src=\"../../../../../../__pv_it/common/27cc275d44b4f4499fb9ccfb3fab1a98165d2fa60/expr.png\" style=\"display:inline;vertical-align:middle;\" /></a></td></tr>\n",
       "<tr><td>12</td><td>Operation</td><td>operator:&nbsp;16<br>operands:&nbsp;15<br></td><td><a class=\"ProveItLink\" href=\"../83389986be2e3765e0415fcc2827e7612045a5db0/expr.ipynb\"><img src=\"../83389986be2e3765e0415fcc2827e7612045a5db0/expr.png\" style=\"display:inline;vertical-align:middle;\" /></a></td></tr>\n",
       "<tr><td>13</td><td>ExprTuple</td><td>28</td><td><a class=\"ProveItLink\" href=\"../../../../../../core_expr_types/__pv_it/common/4b0dd6be36d76552eda6a95d5b4a27f5a5b62f900/expr.ipynb\"><img src=\"../../../../../../core_expr_types/__pv_it/common/4b0dd6be36d76552eda6a95d5b4a27f5a5b62f900/expr.png\" style=\"display:inline;vertical-align:middle;\" /></a></td></tr>\n",
       "<tr><td>14</td><td>Operation</td><td>operator:&nbsp;16<br>operands:&nbsp;17<br></td><td><a class=\"ProveItLink\" href=\"../5d9049fadfc486c1a431704075e9cb6fcdbc26d90/expr.ipynb\"><img src=\"../5d9049fadfc486c1a431704075e9cb6fcdbc26d90/expr.png\" style=\"display:inline;vertical-align:middle;\" /></a></td></tr>\n",
       "<tr><td>15</td><td>NamedExprs</td><td>element: 18<br>targets: 19<br></td><td><a class=\"ProveItLink\" href=\"../f53446c5933e70791fa06c3f0ab3d6fecec92f540/expr.ipynb\"><img src=\"../f53446c5933e70791fa06c3f0ab3d6fecec92f540/expr.png\" style=\"display:inline;vertical-align:middle;\" /></a></td></tr>\n",
       "<tr><td>16</td><td>Literal</td><td></td><td><a class=\"ProveItLink\" href=\"../5eaa43008f05c06941080a12337ff182ea14996e0/expr.ipynb\"><img src=\"../5eaa43008f05c06941080a12337ff182ea14996e0/expr.png\" style=\"display:inline;vertical-align:middle;\" /></a></td></tr>\n",
       "<tr><td>17</td><td>NamedExprs</td><td>element: 20<br>targets: 21<br></td><td><a class=\"ProveItLink\" href=\"../fdad8082829e17aff93e5c32bfd4544505b7c7090/expr.ipynb\"><img src=\"../fdad8082829e17aff93e5c32bfd4544505b7c7090/expr.png\" style=\"display:inline;vertical-align:middle;\" /></a></td></tr>\n",
       "<tr><td>18</td><td>IndexedVar</td><td>variable:&nbsp;22<br>indices:&nbsp;26<br></td><td><a class=\"ProveItLink\" href=\"../../../../../../core_expr_types/expr_arrays/__pv_it/common/de56197d2c2a64a76930b89ea44fb63be43f4c020/expr.ipynb\"><img src=\"../../../../../../core_expr_types/expr_arrays/__pv_it/common/de56197d2c2a64a76930b89ea44fb63be43f4c020/expr.png\" style=\"display:inline;vertical-align:middle;\" /></a></td></tr>\n",
       "<tr><td>19</td><td>IndexedVar</td><td>variable:&nbsp;23<br>indices:&nbsp;26<br></td><td><a class=\"ProveItLink\" href=\"../9f63f4fa390f65f917cfd4a5a56ca1fed476dbb90/expr.ipynb\"><img src=\"../9f63f4fa390f65f917cfd4a5a56ca1fed476dbb90/expr.png\" style=\"display:inline;vertical-align:middle;\" /></a></td></tr>\n",
       "<tr><td>20</td><td>IndexedVar</td><td>variable:&nbsp;24<br>indices:&nbsp;26<br></td><td><a class=\"ProveItLink\" href=\"../2eb9b63d569ed8899f6bc27936009b69461cfe6b0/expr.ipynb\"><img src=\"../2eb9b63d569ed8899f6bc27936009b69461cfe6b0/expr.png\" style=\"display:inline;vertical-align:middle;\" /></a></td></tr>\n",
       "<tr><td>21</td><td>IndexedVar</td><td>variable:&nbsp;25<br>indices:&nbsp;26<br></td><td><a class=\"ProveItLink\" href=\"../40f3483a1f1998756b131ee144447e759efc02930/expr.ipynb\"><img src=\"../40f3483a1f1998756b131ee144447e759efc02930/expr.png\" style=\"display:inline;vertical-align:middle;\" /></a></td></tr>\n",
       "<tr><td>22</td><td>Variable</td><td></td><td><a class=\"ProveItLink\" href=\"../../../../../../__pv_it/common/09585084922504426caf1db2ff588a23a0932a960/expr.ipynb\"><img src=\"../../../../../../__pv_it/common/09585084922504426caf1db2ff588a23a0932a960/expr.png\" style=\"display:inline;vertical-align:middle;\" /></a></td></tr>\n",
       "<tr><td>23</td><td>Variable</td><td></td><td><a class=\"ProveItLink\" href=\"../../../../../../__pv_it/common/647ca33d6b96e29d5aa85a15d2241c7ebd0c6e4b0/expr.ipynb\"><img src=\"../../../../../../__pv_it/common/647ca33d6b96e29d5aa85a15d2241c7ebd0c6e4b0/expr.png\" style=\"display:inline;vertical-align:middle;\" /></a></td></tr>\n",
       "<tr><td>24</td><td>Variable</td><td></td><td><a class=\"ProveItLink\" href=\"../../../../../../__pv_it/common/9fba9f29e823606ff4fdf2f1c6d5d08d906e850a0/expr.ipynb\"><img src=\"../../../../../../__pv_it/common/9fba9f29e823606ff4fdf2f1c6d5d08d906e850a0/expr.png\" style=\"display:inline;vertical-align:middle;\" /></a></td></tr>\n",
       "<tr><td>25</td><td>Variable</td><td></td><td><a class=\"ProveItLink\" href=\"../../../../../../__pv_it/common/69c70dfa5f18cd09af12f2dcafa9764efe6f8cbd0/expr.ipynb\"><img src=\"../../../../../../__pv_it/common/69c70dfa5f18cd09af12f2dcafa9764efe6f8cbd0/expr.png\" style=\"display:inline;vertical-align:middle;\" /></a></td></tr>\n",
       "<tr><td>26</td><td>ExprTuple</td><td>27, 28</td><td><a class=\"ProveItLink\" href=\"../../../../../../core_expr_types/expr_arrays/__pv_it/common/c899820ca7633ea1589f21e8e039aa4da91850d80/expr.ipynb\"><img src=\"../../../../../../core_expr_types/expr_arrays/__pv_it/common/c899820ca7633ea1589f21e8e039aa4da91850d80/expr.png\" style=\"display:inline;vertical-align:middle;\" /></a></td></tr>\n",
       "<tr><td>27</td><td>Variable</td><td></td><td><a class=\"ProveItLink\" href=\"../../../../../../core_expr_types/expr_arrays/__pv_it/common/9a18d67b443cf8d92289c655ed91ec78766170a90/expr.ipynb\"><img src=\"../../../../../../core_expr_types/expr_arrays/__pv_it/common/9a18d67b443cf8d92289c655ed91ec78766170a90/expr.png\" style=\"display:inline;vertical-align:middle;\" /></a></td></tr>\n",
       "<tr><td>28</td><td>Variable</td><td></td><td><a class=\"ProveItLink\" href=\"../../../../../../core_expr_types/expr_arrays/__pv_it/common/006c465e50948aa2b52285e2de47974f741255cc0/expr.ipynb\"><img src=\"../../../../../../core_expr_types/expr_arrays/__pv_it/common/006c465e50948aa2b52285e2de47974f741255cc0/expr.png\" style=\"display:inline;vertical-align:middle;\" /></a></td></tr>\n",
       "</table>\n"
      ],
      "text/plain": [
       "0. ([MULTI_QUBIT_ELEM]{element:A_{1, 1}, targets:R_{1, 1}}, [MULTI_QUBIT_ELEM]{element:A_{1, 2}, targets:R_{1, 2}}, ..., [MULTI_QUBIT_ELEM]{element:A_{1, k}, targets:R_{1, k}},[MULTI_QUBIT_ELEM]{element:C_{1, 1}, targets:T_{1, 1}}, [MULTI_QUBIT_ELEM]{element:C_{1, 2}, targets:T_{1, 2}}, ..., [MULTI_QUBIT_ELEM]{element:C_{1, l}, targets:T_{1, l}}), ([MULTI_QUBIT_ELEM]{element:A_{2, 1}, targets:R_{2, 1}}, [MULTI_QUBIT_ELEM]{element:A_{2, 2}, targets:R_{2, 2}}, ..., [MULTI_QUBIT_ELEM]{element:A_{2, k}, targets:R_{2, k}},[MULTI_QUBIT_ELEM]{element:C_{2, 1}, targets:T_{2, 1}}, [MULTI_QUBIT_ELEM]{element:C_{2, 2}, targets:T_{2, 2}}, ..., [MULTI_QUBIT_ELEM]{element:C_{2, l}, targets:T_{2, l}}), ..., ([MULTI_QUBIT_ELEM]{element:A_{m, 1}, targets:R_{m, 1}}, [MULTI_QUBIT_ELEM]{element:A_{m, 2}, targets:R_{m, 2}}, ..., [MULTI_QUBIT_ELEM]{element:A_{m, k}, targets:R_{m, k}},[MULTI_QUBIT_ELEM]{element:C_{m, 1}, targets:T_{m, 1}}, [MULTI_QUBIT_ELEM]{element:C_{m, 2}, targets:T_{m, 2}}, ..., [MULTI_QUBIT_ELEM]{element:C_{m, l}, targets:T_{m, l}})\n",
       "   core type: ExprRange\n",
       "   lambda_map: 1\n",
       "   start_index: 10\n",
       "   end_index: 2\n",
       "1. _b -> ([MULTI_QUBIT_ELEM]{element:A_{_b, 1}, targets:R_{_b, 1}}, [MULTI_QUBIT_ELEM]{element:A_{_b, 2}, targets:R_{_b, 2}}, ..., [MULTI_QUBIT_ELEM]{element:A_{_b, k}, targets:R_{_b, k}},[MULTI_QUBIT_ELEM]{element:C_{_b, 1}, targets:T_{_b, 1}}, [MULTI_QUBIT_ELEM]{element:C_{_b, 2}, targets:T_{_b, 2}}, ..., [MULTI_QUBIT_ELEM]{element:C_{_b, l}, targets:T_{_b, l}})\n",
       "   core type: Lambda\n",
       "   parameter: 27\n",
       "   body: 4\n",
       "2. m\n",
       "   core type: Variable\n",
       "   sub-expressions: \n",
       "3. (_b)\n",
       "   core type: ExprTuple\n",
       "   sub-expressions: 27\n",
       "4. ([MULTI_QUBIT_ELEM]{element:A_{_b, 1}, targets:R_{_b, 1}}, [MULTI_QUBIT_ELEM]{element:A_{_b, 2}, targets:R_{_b, 2}}, ..., [MULTI_QUBIT_ELEM]{element:A_{_b, k}, targets:R_{_b, k}},[MULTI_QUBIT_ELEM]{element:C_{_b, 1}, targets:T_{_b, 1}}, [MULTI_QUBIT_ELEM]{element:C_{_b, 2}, targets:T_{_b, 2}}, ..., [MULTI_QUBIT_ELEM]{element:C_{_b, l}, targets:T_{_b, l}})\n",
       "   core type: ExprTuple\n",
       "   sub-expressions: 5, 6\n",
       "5. [MULTI_QUBIT_ELEM]{element:A_{_b, 1}, targets:R_{_b, 1}}, [MULTI_QUBIT_ELEM]{element:A_{_b, 2}, targets:R_{_b, 2}}, ..., [MULTI_QUBIT_ELEM]{element:A_{_b, k}, targets:R_{_b, k}}\n",
       "   core type: ExprRange\n",
       "   lambda_map: 7\n",
       "   start_index: 10\n",
       "   end_index: 8\n",
       "6. [MULTI_QUBIT_ELEM]{element:C_{_b, 1}, targets:T_{_b, 1}}, [MULTI_QUBIT_ELEM]{element:C_{_b, 2}, targets:T_{_b, 2}}, ..., [MULTI_QUBIT_ELEM]{element:C_{_b, l}, targets:T_{_b, l}}\n",
       "   core type: ExprRange\n",
       "   lambda_map: 9\n",
       "   start_index: 10\n",
       "   end_index: 11\n",
       "7. _a -> [MULTI_QUBIT_ELEM]{element:A_{_b, _a}, targets:R_{_b, _a}}\n",
       "   core type: Lambda\n",
       "   parameter: 28\n",
       "   body: 12\n",
       "8. k\n",
       "   core type: Variable\n",
       "   sub-expressions: \n",
       "9. _a -> [MULTI_QUBIT_ELEM]{element:C_{_b, _a}, targets:T_{_b, _a}}\n",
       "   core type: Lambda\n",
       "   parameter: 28\n",
       "   body: 14\n",
       "10. 1\n",
       "    core type: Literal\n",
       "    sub-expressions: \n",
       "11. l\n",
       "    core type: Variable\n",
       "    sub-expressions: \n",
       "12. [MULTI_QUBIT_ELEM]{element:A_{_b, _a}, targets:R_{_b, _a}}\n",
       "    core type: Operation\n",
       "    operator: 16\n",
       "    operands: 15\n",
       "13. (_a)\n",
       "    core type: ExprTuple\n",
       "    sub-expressions: 28\n",
       "14. [MULTI_QUBIT_ELEM]{element:C_{_b, _a}, targets:T_{_b, _a}}\n",
       "    core type: Operation\n",
       "    operator: 16\n",
       "    operands: 17\n",
       "15. {element:A_{_b, _a}, targets:R_{_b, _a}}\n",
       "    core type: NamedExprs\n",
       "    element: 18\n",
       "    targets: 19\n",
       "16. MULTI_QUBIT_ELEM\n",
       "    core type: Literal\n",
       "    sub-expressions: \n",
       "17. {element:C_{_b, _a}, targets:T_{_b, _a}}\n",
       "    core type: NamedExprs\n",
       "    element: 20\n",
       "    targets: 21\n",
       "18. A_{_b, _a}\n",
       "    core type: IndexedVar\n",
       "variable: 22\n",
       "indices: 26\n",
       "19. R_{_b, _a}\n",
       "    core type: IndexedVar\n",
       "variable: 23\n",
       "indices: 26\n",
       "20. C_{_b, _a}\n",
       "    core type: IndexedVar\n",
       "variable: 24\n",
       "indices: 26\n",
       "21. T_{_b, _a}\n",
       "    core type: IndexedVar\n",
       "variable: 25\n",
       "indices: 26\n",
       "22. A\n",
       "    core type: Variable\n",
       "    sub-expressions: \n",
       "23. R\n",
       "    core type: Variable\n",
       "    sub-expressions: \n",
       "24. C\n",
       "    core type: Variable\n",
       "    sub-expressions: \n",
       "25. T\n",
       "    core type: Variable\n",
       "    sub-expressions: \n",
       "26. (_b, _a)\n",
       "    core type: ExprTuple\n",
       "    sub-expressions: 27, 28\n",
       "27. _b\n",
       "    core type: Variable\n",
       "    sub-expressions: \n",
       "28. _a\n",
       "    core type: Variable\n",
       "    sub-expressions: "
      ]
     },
     "metadata": {},
     "output_type": "display_data"
    }
   ],
   "source": [
    "# display the expression information\n",
    "stored_expr.expr_info()"
   ]
  },
  {
   "cell_type": "code",
   "execution_count": null,
   "metadata": {},
   "outputs": [],
   "source": []
  }
 ],
 "metadata": {
  "kernelspec": {
   "display_name": "Python 3",
   "language": "python",
   "name": "python3"
  }
 },
 "nbformat": 4,
 "nbformat_minor": 0
}