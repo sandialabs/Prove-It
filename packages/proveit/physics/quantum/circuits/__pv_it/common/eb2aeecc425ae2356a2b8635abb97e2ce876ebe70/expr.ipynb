{
 "cells": [
  {
   "cell_type": "markdown",
   "metadata": {},
   "source": [
    "Expression of type <a class=\"ProveItLink\" href=\"../../../../../../../../doc/html/api/proveit.ExprTuple.html\">ExprTuple</a>\n",
    "=======================\n",
    "# from the theory of <a class=\"ProveItLink\" href=\"../../../_theory_nbs_/theory.ipynb\">proveit.physics.quantum.circuits</a>"
   ]
  },
  {
   "cell_type": "code",
   "execution_count": 1,
   "metadata": {},
   "outputs": [],
   "source": [
    "import proveit\n",
    "# Automation is not needed when building an expression:\n",
    "proveit.defaults.automation = False # This will speed things up.\n",
    "proveit.defaults.inline_pngs = False # Makes files smaller.\n",
    "%load_expr # Load the stored expression as 'stored_expr'\n",
    "# import Expression classes needed to build the expression\n",
    "from proveit import ExprRange, ExprTuple, Variable, l, m\n",
    "from proveit.numbers import Add, Interval, one\n",
    "from proveit.physics.quantum import var_ket_psi, var_ket_u\n",
    "from proveit.physics.quantum.circuits import Input, MultiQubitElem"
   ]
  },
  {
   "cell_type": "code",
   "execution_count": 2,
   "metadata": {},
   "outputs": [
    {
     "data": {
      "text/html": [
       "<strong id=\"expr\">expr:</strong> <a class=\"ProveItLink\" href=\"expr.ipynb\"><img src=\"expr.png\" style=\"display:inline;vertical-align:middle;\" /></a><br>"
      ],
      "text/plain": [
       "<IPython.core.display.HTML object>"
      ]
     },
     "metadata": {},
     "output_type": "display_data"
    }
   ],
   "source": [
    "# build up the expression from sub-expressions\n",
    "sub_expr1 = Variable(\"_a\", latex_format = r\"{_{-}a}\")\n",
    "expr = ExprTuple(ExprRange(sub_expr1, MultiQubitElem(element = Input(state = var_ket_u, part = sub_expr1), targets = Interval(one, l)), one, l), ExprRange(sub_expr1, MultiQubitElem(element = Input(state = var_ket_psi, part = sub_expr1), targets = Interval(Add(l, one), Add(l, m))), one, m))"
   ]
  },
  {
   "cell_type": "code",
   "execution_count": 3,
   "metadata": {},
   "outputs": [
    {
     "name": "stdout",
     "output_type": "stream",
     "text": [
      "Passed sanity check: expr matches stored_expr\n"
     ]
    }
   ],
   "source": [
    "# check that the built expression is the same as the stored expression\n",
    "assert expr == stored_expr\n",
    "assert expr._style_id == stored_expr._style_id\n",
    "print(\"Passed sanity check: expr matches stored_expr\")"
   ]
  },
  {
   "cell_type": "code",
   "execution_count": 4,
   "metadata": {},
   "outputs": [
    {
     "name": "stdout",
     "output_type": "stream",
     "text": [
      "\\left(\\begin{array}{c} \\Qcircuit@C=1em @R=.7em{\n",
      "& \\qin{\\lvert u \\rangle~\\mbox{part}~1~\\mbox{on}~\\{1~\\ldotp \\ldotp~l\\}} & \\qw \n",
      "} \\end{array}, \\begin{array}{c} \\Qcircuit@C=1em @R=.7em{\n",
      "& \\qin{\\lvert u \\rangle~\\mbox{part}~2~\\mbox{on}~\\{1~\\ldotp \\ldotp~l\\}} & \\qw \n",
      "} \\end{array}, \\ldots, \\begin{array}{c} \\Qcircuit@C=1em @R=.7em{\n",
      "& \\qin{\\lvert u \\rangle~\\mbox{part}~l~\\mbox{on}~\\{1~\\ldotp \\ldotp~l\\}} & \\qw \n",
      "} \\end{array},\\begin{array}{c} \\Qcircuit@C=1em @R=.7em{\n",
      "& \\qin{\\lvert \\psi \\rangle~\\mbox{part}~1~\\mbox{on}~\\{l + 1~\\ldotp \\ldotp~l + m\\}} & \\qw \n",
      "} \\end{array}, \\begin{array}{c} \\Qcircuit@C=1em @R=.7em{\n",
      "& \\qin{\\lvert \\psi \\rangle~\\mbox{part}~2~\\mbox{on}~\\{l + 1~\\ldotp \\ldotp~l + m\\}} & \\qw \n",
      "} \\end{array}, \\ldots, \\begin{array}{c} \\Qcircuit@C=1em @R=.7em{\n",
      "& \\qin{\\lvert \\psi \\rangle~\\mbox{part}~m~\\mbox{on}~\\{l + 1~\\ldotp \\ldotp~l + m\\}} & \\qw \n",
      "} \\end{array}\\right)\n"
     ]
    }
   ],
   "source": [
    "# Show the LaTeX representation of the expression for convenience if you need it.\n",
    "print(stored_expr.latex())"
   ]
  },
  {
   "cell_type": "code",
   "execution_count": 5,
   "metadata": {},
   "outputs": [
    {
     "data": {
      "text/html": [
       "<table>\n",
       "<tr><th>name</th><th>description</th><th>default</th><th>current value</th><th>related methods</th></tr><tr><td>wrap_positions</td><td>position(s) at which wrapping is to occur; 'n' is after the nth comma.</td><td>()</td><td>()</td><td>('with_wrapping_at',)</td></tr>\n",
       "<tr><td>justification</td><td>if any wrap positions are set, justify to the 'left', 'center', or 'right'</td><td>left</td><td>left</td><td>('with_justification',)</td></tr>\n",
       "</table>\n"
      ],
      "text/plain": [
       "style name: wrap_positions\n",
       "description: position(s) at which wrapping is to occur; 'n' is after the nth comma.\n",
       "default: ()\n",
       "current value: ()\n",
       "related methods: ('with_wrapping_at',)\n",
       "style name: justification\n",
       "description: if any wrap positions are set, justify to the 'left', 'center', or 'right'\n",
       "default: left\n",
       "current value: left\n",
       "related methods: ('with_justification',)"
      ]
     },
     "metadata": {},
     "output_type": "display_data"
    }
   ],
   "source": [
    "stored_expr.style_options()"
   ]
  },
  {
   "cell_type": "code",
   "execution_count": 6,
   "metadata": {},
   "outputs": [
    {
     "data": {
      "text/html": [
       "<table><tr><th>&nbsp;</th><th>core type</th><th>sub-expressions</th><th>expression</th></tr>\n",
       "<tr><td>0</td><td>ExprTuple</td><td>1, 2</td><td><a class=\"ProveItLink\" href=\"expr.ipynb\"><img src=\"expr.png\" style=\"display:inline;vertical-align:middle;\" /></a></td></tr>\n",
       "<tr><td>1</td><td>ExprRange</td><td>lambda_map:&nbsp;3<br>start_index:&nbsp;29<br>end_index:&nbsp;30<br></td><td><a class=\"ProveItLink\" href=\"../fb0d06f0e5f749b9424709543b844e595f513dd90/expr.ipynb\"><img src=\"../fb0d06f0e5f749b9424709543b844e595f513dd90/expr.png\" style=\"display:inline;vertical-align:middle;\" /></a></td></tr>\n",
       "<tr><td>2</td><td>ExprRange</td><td>lambda_map:&nbsp;4<br>start_index:&nbsp;29<br>end_index:&nbsp;31<br></td><td><a class=\"ProveItLink\" href=\"../68a038dfb9f677ee7cebb24ab49511258cf76d460/expr.ipynb\"><img src=\"../68a038dfb9f677ee7cebb24ab49511258cf76d460/expr.png\" style=\"display:inline;vertical-align:middle;\" /></a></td></tr>\n",
       "<tr><td>3</td><td>Lambda</td><td>parameter:&nbsp;23<br>body:&nbsp;5<br></td><td><a class=\"ProveItLink\" href=\"../bd434c137f061f40ba0c4c8606f1c3e2fe2ce9f70/expr.ipynb\"><img src=\"../bd434c137f061f40ba0c4c8606f1c3e2fe2ce9f70/expr.png\" style=\"display:inline;vertical-align:middle;\" /></a></td></tr>\n",
       "<tr><td>4</td><td>Lambda</td><td>parameter:&nbsp;23<br>body:&nbsp;7<br></td><td><a class=\"ProveItLink\" href=\"../ec22949f6540eb0e76c7f035e22fa800b2f300100/expr.ipynb\"><img src=\"../ec22949f6540eb0e76c7f035e22fa800b2f300100/expr.png\" style=\"display:inline;vertical-align:middle;\" /></a></td></tr>\n",
       "<tr><td>5</td><td>Operation</td><td>operator:&nbsp;9<br>operands:&nbsp;8<br></td><td><a class=\"ProveItLink\" href=\"../e92abcbe644ec96a2bef4dfe6b56ca92123d28720/expr.ipynb\"><img src=\"../e92abcbe644ec96a2bef4dfe6b56ca92123d28720/expr.png\" style=\"display:inline;vertical-align:middle;\" /></a></td></tr>\n",
       "<tr><td>6</td><td>ExprTuple</td><td>23</td><td><a class=\"ProveItLink\" href=\"../../../../../../core_expr_types/__pv_it/common/4b0dd6be36d76552eda6a95d5b4a27f5a5b62f900/expr.ipynb\"><img src=\"../../../../../../core_expr_types/__pv_it/common/4b0dd6be36d76552eda6a95d5b4a27f5a5b62f900/expr.png\" style=\"display:inline;vertical-align:middle;\" /></a></td></tr>\n",
       "<tr><td>7</td><td>Operation</td><td>operator:&nbsp;9<br>operands:&nbsp;10<br></td><td><a class=\"ProveItLink\" href=\"../59cd4a763ddfdd4b38b51839ba655d9b9f9448ff0/expr.ipynb\"><img src=\"../59cd4a763ddfdd4b38b51839ba655d9b9f9448ff0/expr.png\" style=\"display:inline;vertical-align:middle;\" /></a></td></tr>\n",
       "<tr><td>8</td><td>NamedExprs</td><td>element: 11<br>targets: 12<br></td><td><a class=\"ProveItLink\" href=\"../33c2edadd76ecaabc10a09a709c80aca5e3a9a140/expr.ipynb\"><img src=\"../33c2edadd76ecaabc10a09a709c80aca5e3a9a140/expr.png\" style=\"display:inline;vertical-align:middle;\" /></a></td></tr>\n",
       "<tr><td>9</td><td>Literal</td><td></td><td><a class=\"ProveItLink\" href=\"../5eaa43008f05c06941080a12337ff182ea14996e0/expr.ipynb\"><img src=\"../5eaa43008f05c06941080a12337ff182ea14996e0/expr.png\" style=\"display:inline;vertical-align:middle;\" /></a></td></tr>\n",
       "<tr><td>10</td><td>NamedExprs</td><td>element: 13<br>targets: 14<br></td><td><a class=\"ProveItLink\" href=\"../ddebb2cb6b816ddda7c520446608e880ca0090ef0/expr.ipynb\"><img src=\"../ddebb2cb6b816ddda7c520446608e880ca0090ef0/expr.png\" style=\"display:inline;vertical-align:middle;\" /></a></td></tr>\n",
       "<tr><td>11</td><td>Operation</td><td>operator:&nbsp;17<br>operands:&nbsp;15<br></td><td><a class=\"ProveItLink\" href=\"../2597b46ca6544963bf1d7d9917602050752926bb0/expr.ipynb\"><img src=\"../2597b46ca6544963bf1d7d9917602050752926bb0/expr.png\" style=\"display:inline;vertical-align:middle;\" /></a></td></tr>\n",
       "<tr><td>12</td><td>Operation</td><td>operator:&nbsp;19<br>operands:&nbsp;16<br></td><td><a class=\"ProveItLink\" href=\"../fd5432a0a9032295e6ac11112bef89178e4b08e50/expr.ipynb\"><img src=\"../fd5432a0a9032295e6ac11112bef89178e4b08e50/expr.png\" style=\"display:inline;vertical-align:middle;\" /></a></td></tr>\n",
       "<tr><td>13</td><td>Operation</td><td>operator:&nbsp;17<br>operands:&nbsp;18<br></td><td><a class=\"ProveItLink\" href=\"../ee3d8427cd8b9df937d19c6f81fd075bd0ea2a740/expr.ipynb\"><img src=\"../ee3d8427cd8b9df937d19c6f81fd075bd0ea2a740/expr.png\" style=\"display:inline;vertical-align:middle;\" /></a></td></tr>\n",
       "<tr><td>14</td><td>Operation</td><td>operator:&nbsp;19<br>operands:&nbsp;20<br></td><td><a class=\"ProveItLink\" href=\"../019755b8319cb78eb276518cfde10aad753018b60/expr.ipynb\"><img src=\"../019755b8319cb78eb276518cfde10aad753018b60/expr.png\" style=\"display:inline;vertical-align:middle;\" /></a></td></tr>\n",
       "<tr><td>15</td><td>NamedExprs</td><td>state: 21<br>part: 23<br></td><td><a class=\"ProveItLink\" href=\"../eacc802691b83113928f36120eecb0d0d5d56c400/expr.ipynb\"><img src=\"../eacc802691b83113928f36120eecb0d0d5d56c400/expr.png\" style=\"display:inline;vertical-align:middle;\" /></a></td></tr>\n",
       "<tr><td>16</td><td>ExprTuple</td><td>29, 30</td><td><a class=\"ProveItLink\" href=\"../97ecb097b60abeb71a0454364a27b0b967fec9830/expr.ipynb\"><img src=\"../97ecb097b60abeb71a0454364a27b0b967fec9830/expr.png\" style=\"display:inline;vertical-align:middle;\" /></a></td></tr>\n",
       "<tr><td>17</td><td>Literal</td><td></td><td><a class=\"ProveItLink\" href=\"../deea8715ce6701df08bbe1d049112a0bad4965c20/expr.ipynb\"><img src=\"../deea8715ce6701df08bbe1d049112a0bad4965c20/expr.png\" style=\"display:inline;vertical-align:middle;\" /></a></td></tr>\n",
       "<tr><td>18</td><td>NamedExprs</td><td>state: 22<br>part: 23<br></td><td><a class=\"ProveItLink\" href=\"../a75c67a66ebba677292193e862375e4a61161fb80/expr.ipynb\"><img src=\"../a75c67a66ebba677292193e862375e4a61161fb80/expr.png\" style=\"display:inline;vertical-align:middle;\" /></a></td></tr>\n",
       "<tr><td>19</td><td>Literal</td><td></td><td><a class=\"ProveItLink\" href=\"../../../../../../numbers/number_sets/integers/__pv_it/common/92f3a0a77e3c3ea8e4a5c8674edadc54e4f57d550/expr.ipynb\"><img src=\"../../../../../../numbers/number_sets/integers/__pv_it/common/92f3a0a77e3c3ea8e4a5c8674edadc54e4f57d550/expr.png\" style=\"display:inline;vertical-align:middle;\" /></a></td></tr>\n",
       "<tr><td>20</td><td>ExprTuple</td><td>24, 25</td><td><a class=\"ProveItLink\" href=\"../84356f17197ac7ec03dcc0422bb8210e5351d9a50/expr.ipynb\"><img src=\"../84356f17197ac7ec03dcc0422bb8210e5351d9a50/expr.png\" style=\"display:inline;vertical-align:middle;\" /></a></td></tr>\n",
       "<tr><td>21</td><td>Variable</td><td></td><td><a class=\"ProveItLink\" href=\"../../../../__pv_it/common/e9ccc523355dd5c57db74023629fa3172587db260/expr.ipynb\"><img src=\"../../../../__pv_it/common/e9ccc523355dd5c57db74023629fa3172587db260/expr.png\" style=\"display:inline;vertical-align:middle;\" /></a></td></tr>\n",
       "<tr><td>22</td><td>Variable</td><td></td><td><a class=\"ProveItLink\" href=\"../../../../__pv_it/common/798a4b85c58eead0b86ebff17277cd7c4a79a3160/expr.ipynb\"><img src=\"../../../../__pv_it/common/798a4b85c58eead0b86ebff17277cd7c4a79a3160/expr.png\" style=\"display:inline;vertical-align:middle;\" /></a></td></tr>\n",
       "<tr><td>23</td><td>Variable</td><td></td><td><a class=\"ProveItLink\" href=\"../../../../../../core_expr_types/__pv_it/common/006c465e50948aa2b52285e2de47974f741255cc0/expr.ipynb\"><img src=\"../../../../../../core_expr_types/__pv_it/common/006c465e50948aa2b52285e2de47974f741255cc0/expr.png\" style=\"display:inline;vertical-align:middle;\" /></a></td></tr>\n",
       "<tr><td>24</td><td>Operation</td><td>operator:&nbsp;27<br>operands:&nbsp;26<br></td><td><a class=\"ProveItLink\" href=\"../2c379c09601b7278b55f311c88477de5c5c6fd9f0/expr.ipynb\"><img src=\"../2c379c09601b7278b55f311c88477de5c5c6fd9f0/expr.png\" style=\"display:inline;vertical-align:middle;\" /></a></td></tr>\n",
       "<tr><td>25</td><td>Operation</td><td>operator:&nbsp;27<br>operands:&nbsp;28<br></td><td><a class=\"ProveItLink\" href=\"../5b983f9737c318ef594f66a29803bda8ca2cbab90/expr.ipynb\"><img src=\"../5b983f9737c318ef594f66a29803bda8ca2cbab90/expr.png\" style=\"display:inline;vertical-align:middle;\" /></a></td></tr>\n",
       "<tr><td>26</td><td>ExprTuple</td><td>30, 29</td><td><a class=\"ProveItLink\" href=\"../fead003c58d2bb33c7f10335d21b02a04e8206210/expr.ipynb\"><img src=\"../fead003c58d2bb33c7f10335d21b02a04e8206210/expr.png\" style=\"display:inline;vertical-align:middle;\" /></a></td></tr>\n",
       "<tr><td>27</td><td>Literal</td><td></td><td><a class=\"ProveItLink\" href=\"../../../../../../numbers/addition/__pv_it/common/4b7effaab3619a1c2c38fe2dee8601df8ec714590/expr.ipynb\"><img src=\"../../../../../../numbers/addition/__pv_it/common/4b7effaab3619a1c2c38fe2dee8601df8ec714590/expr.png\" style=\"display:inline;vertical-align:middle;\" /></a></td></tr>\n",
       "<tr><td>28</td><td>ExprTuple</td><td>30, 31</td><td><a class=\"ProveItLink\" href=\"../1c070a95920ab39ad443b789adf12f29bc0510100/expr.ipynb\"><img src=\"../1c070a95920ab39ad443b789adf12f29bc0510100/expr.png\" style=\"display:inline;vertical-align:middle;\" /></a></td></tr>\n",
       "<tr><td>29</td><td>Literal</td><td></td><td><a class=\"ProveItLink\" href=\"../../../../../../numbers/numerals/__pv_it/common/682157d4892d216d9e5626ed533aff9b56b9506e0/expr.ipynb\"><img src=\"../../../../../../numbers/numerals/__pv_it/common/682157d4892d216d9e5626ed533aff9b56b9506e0/expr.png\" style=\"display:inline;vertical-align:middle;\" /></a></td></tr>\n",
       "<tr><td>30</td><td>Variable</td><td></td><td><a class=\"ProveItLink\" href=\"../../../../../../__pv_it/common/27cc275d44b4f4499fb9ccfb3fab1a98165d2fa60/expr.ipynb\"><img src=\"../../../../../../__pv_it/common/27cc275d44b4f4499fb9ccfb3fab1a98165d2fa60/expr.png\" style=\"display:inline;vertical-align:middle;\" /></a></td></tr>\n",
       "<tr><td>31</td><td>Variable</td><td></td><td><a class=\"ProveItLink\" href=\"../../../../../../__pv_it/common/674a03b9c3ca221b3aabd5636837b31528ff33830/expr.ipynb\"><img src=\"../../../../../../__pv_it/common/674a03b9c3ca221b3aabd5636837b31528ff33830/expr.png\" style=\"display:inline;vertical-align:middle;\" /></a></td></tr>\n",
       "</table>\n"
      ],
      "text/plain": [
       "0. ([MULTI_QUBIT_ELEM]{element:[INPUT]{state:|u>, part:1}, targets:{1 .. l}}, [MULTI_QUBIT_ELEM]{element:[INPUT]{state:|u>, part:2}, targets:{1 .. l}}, ..., [MULTI_QUBIT_ELEM]{element:[INPUT]{state:|u>, part:l}, targets:{1 .. l}},[MULTI_QUBIT_ELEM]{element:[INPUT]{state:|psi>, part:1}, targets:{l + 1 .. l + m}}, [MULTI_QUBIT_ELEM]{element:[INPUT]{state:|psi>, part:2}, targets:{l + 1 .. l + m}}, ..., [MULTI_QUBIT_ELEM]{element:[INPUT]{state:|psi>, part:m}, targets:{l + 1 .. l + m}})\n",
       "   core type: ExprTuple\n",
       "   sub-expressions: 1, 2\n",
       "1. [MULTI_QUBIT_ELEM]{element:[INPUT]{state:|u>, part:1}, targets:{1 .. l}}, [MULTI_QUBIT_ELEM]{element:[INPUT]{state:|u>, part:2}, targets:{1 .. l}}, ..., [MULTI_QUBIT_ELEM]{element:[INPUT]{state:|u>, part:l}, targets:{1 .. l}}\n",
       "   core type: ExprRange\n",
       "   lambda_map: 3\n",
       "   start_index: 29\n",
       "   end_index: 30\n",
       "2. [MULTI_QUBIT_ELEM]{element:[INPUT]{state:|psi>, part:1}, targets:{l + 1 .. l + m}}, [MULTI_QUBIT_ELEM]{element:[INPUT]{state:|psi>, part:2}, targets:{l + 1 .. l + m}}, ..., [MULTI_QUBIT_ELEM]{element:[INPUT]{state:|psi>, part:m}, targets:{l + 1 .. l + m}}\n",
       "   core type: ExprRange\n",
       "   lambda_map: 4\n",
       "   start_index: 29\n",
       "   end_index: 31\n",
       "3. _a -> [MULTI_QUBIT_ELEM]{element:[INPUT]{state:|u>, part:_a}, targets:{1 .. l}}\n",
       "   core type: Lambda\n",
       "   parameter: 23\n",
       "   body: 5\n",
       "4. _a -> [MULTI_QUBIT_ELEM]{element:[INPUT]{state:|psi>, part:_a}, targets:{l + 1 .. l + m}}\n",
       "   core type: Lambda\n",
       "   parameter: 23\n",
       "   body: 7\n",
       "5. [MULTI_QUBIT_ELEM]{element:[INPUT]{state:|u>, part:_a}, targets:{1 .. l}}\n",
       "   core type: Operation\n",
       "   operator: 9\n",
       "   operands: 8\n",
       "6. (_a)\n",
       "   core type: ExprTuple\n",
       "   sub-expressions: 23\n",
       "7. [MULTI_QUBIT_ELEM]{element:[INPUT]{state:|psi>, part:_a}, targets:{l + 1 .. l + m}}\n",
       "   core type: Operation\n",
       "   operator: 9\n",
       "   operands: 10\n",
       "8. {element:[INPUT]{state:|u>, part:_a}, targets:{1 .. l}}\n",
       "   core type: NamedExprs\n",
       "   element: 11\n",
       "   targets: 12\n",
       "9. MULTI_QUBIT_ELEM\n",
       "   core type: Literal\n",
       "   sub-expressions: \n",
       "10. {element:[INPUT]{state:|psi>, part:_a}, targets:{l + 1 .. l + m}}\n",
       "    core type: NamedExprs\n",
       "    element: 13\n",
       "    targets: 14\n",
       "11. [INPUT]{state:|u>, part:_a}\n",
       "    core type: Operation\n",
       "    operator: 17\n",
       "    operands: 15\n",
       "12. {1 .. l}\n",
       "    core type: Operation\n",
       "    operator: 19\n",
       "    operands: 16\n",
       "13. [INPUT]{state:|psi>, part:_a}\n",
       "    core type: Operation\n",
       "    operator: 17\n",
       "    operands: 18\n",
       "14. {l + 1 .. l + m}\n",
       "    core type: Operation\n",
       "    operator: 19\n",
       "    operands: 20\n",
       "15. {state:|u>, part:_a}\n",
       "    core type: NamedExprs\n",
       "    state: 21\n",
       "    part: 23\n",
       "16. (1, l)\n",
       "    core type: ExprTuple\n",
       "    sub-expressions: 29, 30\n",
       "17. INPUT\n",
       "    core type: Literal\n",
       "    sub-expressions: \n",
       "18. {state:|psi>, part:_a}\n",
       "    core type: NamedExprs\n",
       "    state: 22\n",
       "    part: 23\n",
       "19. Interval\n",
       "    core type: Literal\n",
       "    sub-expressions: \n",
       "20. (l + 1, l + m)\n",
       "    core type: ExprTuple\n",
       "    sub-expressions: 24, 25\n",
       "21. |u>\n",
       "    core type: Variable\n",
       "    sub-expressions: \n",
       "22. |psi>\n",
       "    core type: Variable\n",
       "    sub-expressions: \n",
       "23. _a\n",
       "    core type: Variable\n",
       "    sub-expressions: \n",
       "24. l + 1\n",
       "    core type: Operation\n",
       "    operator: 27\n",
       "    operands: 26\n",
       "25. l + m\n",
       "    core type: Operation\n",
       "    operator: 27\n",
       "    operands: 28\n",
       "26. (l, 1)\n",
       "    core type: ExprTuple\n",
       "    sub-expressions: 30, 29\n",
       "27. +\n",
       "    core type: Literal\n",
       "    sub-expressions: \n",
       "28. (l, m)\n",
       "    core type: ExprTuple\n",
       "    sub-expressions: 30, 31\n",
       "29. 1\n",
       "    core type: Literal\n",
       "    sub-expressions: \n",
       "30. l\n",
       "    core type: Variable\n",
       "    sub-expressions: \n",
       "31. m\n",
       "    core type: Variable\n",
       "    sub-expressions: "
      ]
     },
     "metadata": {},
     "output_type": "display_data"
    }
   ],
   "source": [
    "# display the expression information\n",
    "stored_expr.expr_info()"
   ]
  },
  {
   "cell_type": "code",
   "execution_count": null,
   "metadata": {},
   "outputs": [],
   "source": []
  }
 ],
 "metadata": {
  "kernelspec": {
   "display_name": "Python 3",
   "language": "python",
   "name": "python3"
  }
 },
 "nbformat": 4,
 "nbformat_minor": 0
}