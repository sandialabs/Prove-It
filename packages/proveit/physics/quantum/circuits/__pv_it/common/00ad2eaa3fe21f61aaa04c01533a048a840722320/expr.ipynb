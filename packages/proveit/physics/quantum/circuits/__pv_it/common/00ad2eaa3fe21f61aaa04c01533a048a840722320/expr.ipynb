{
 "cells": [
  {
   "cell_type": "markdown",
   "metadata": {},
   "source": [
    "Expression of type <a class=\"ProveItLink\" href=\"../../../../../../../../doc/html/api/proveit.Lambda.html\">Lambda</a>\n",
    "=======================\n",
    "# from the theory of <a class=\"ProveItLink\" href=\"../../../_theory_nbs_/theory.ipynb\">proveit.physics.quantum.circuits</a>"
   ]
  },
  {
   "cell_type": "code",
   "execution_count": 1,
   "metadata": {},
   "outputs": [],
   "source": [
    "import proveit\n",
    "# Automation is not needed when building an expression:\n",
    "proveit.defaults.automation = False # This will speed things up.\n",
    "proveit.defaults.inline_pngs = False # Makes files smaller.\n",
    "%load_expr # Load the stored expression as 'stored_expr'\n",
    "# import Expression classes needed to build the expression\n",
    "from proveit import A, Function, IndexedVar, Lambda, R, Variable, p\n",
    "from proveit.logic import InvImage\n",
    "from proveit.physics.quantum.circuits import MultiQubitElem"
   ]
  },
  {
   "cell_type": "code",
   "execution_count": 2,
   "metadata": {},
   "outputs": [
    {
     "data": {
      "text/html": [
       "<strong id=\"expr\">expr:</strong> <a class=\"ProveItLink\" href=\"expr.ipynb\"><img src=\"expr.png\" style=\"display:inline;vertical-align:middle;\" /></a><br>"
      ],
      "text/plain": [
       "<IPython.core.display.HTML object>"
      ]
     },
     "metadata": {},
     "output_type": "display_data"
    }
   ],
   "source": [
    "# build up the expression from sub-expressions\n",
    "sub_expr1 = Variable(\"_a\", latex_format = r\"{_{-}a}\")\n",
    "sub_expr2 = [Function(p, [Variable(\"_b\", latex_format = r\"{_{-}b}\")]), sub_expr1]\n",
    "expr = Lambda(sub_expr1, MultiQubitElem(element = IndexedVar(A, sub_expr2), targets = Function(InvImage(p), [IndexedVar(R, sub_expr2)])))"
   ]
  },
  {
   "cell_type": "code",
   "execution_count": 3,
   "metadata": {},
   "outputs": [
    {
     "name": "stdout",
     "output_type": "stream",
     "text": [
      "Passed sanity check: expr matches stored_expr\n"
     ]
    }
   ],
   "source": [
    "# check that the built expression is the same as the stored expression\n",
    "assert expr == stored_expr\n",
    "assert expr._style_id == stored_expr._style_id\n",
    "print(\"Passed sanity check: expr matches stored_expr\")"
   ]
  },
  {
   "cell_type": "code",
   "execution_count": 4,
   "metadata": {},
   "outputs": [
    {
     "name": "stdout",
     "output_type": "stream",
     "text": [
      "{_{-}a} \\mapsto \\begin{array}{c} \\Qcircuit@C=1em @R=.7em{\n",
      "& & \\gate{A_{p\\left({_{-}b}\\right), {_{-}a}}~\\mbox{on}~p^{\\leftarrow}\\left(R_{p\\left({_{-}b}\\right), {_{-}a}}\\right)} & \\qw \n",
      "} \\end{array}\n"
     ]
    }
   ],
   "source": [
    "# Show the LaTeX representation of the expression for convenience if you need it.\n",
    "print(stored_expr.latex())"
   ]
  },
  {
   "cell_type": "code",
   "execution_count": 5,
   "metadata": {},
   "outputs": [
    {
     "data": {
      "text/html": [
       "no style options"
      ],
      "text/plain": [
       "no style options"
      ]
     },
     "metadata": {},
     "output_type": "display_data"
    }
   ],
   "source": [
    "stored_expr.style_options()"
   ]
  },
  {
   "cell_type": "code",
   "execution_count": 6,
   "metadata": {},
   "outputs": [
    {
     "data": {
      "text/html": [
       "<table><tr><th>&nbsp;</th><th>core type</th><th>sub-expressions</th><th>expression</th></tr>\n",
       "<tr><td>0</td><td>Lambda</td><td>parameter:&nbsp;16<br>body:&nbsp;2<br></td><td><a class=\"ProveItLink\" href=\"expr.ipynb\"><img src=\"expr.png\" style=\"display:inline;vertical-align:middle;\" /></a></td></tr>\n",
       "<tr><td>1</td><td>ExprTuple</td><td>16</td><td><a class=\"ProveItLink\" href=\"../../../../../../core_expr_types/__pv_it/common/4b0dd6be36d76552eda6a95d5b4a27f5a5b62f900/expr.ipynb\"><img src=\"../../../../../../core_expr_types/__pv_it/common/4b0dd6be36d76552eda6a95d5b4a27f5a5b62f900/expr.png\" style=\"display:inline;vertical-align:middle;\" /></a></td></tr>\n",
       "<tr><td>2</td><td>Operation</td><td>operator:&nbsp;3<br>operands:&nbsp;4<br></td><td><a class=\"ProveItLink\" href=\"../a2b1ed046910106069fd558d5d7329784d9c1aa80/expr.ipynb\"><img src=\"../a2b1ed046910106069fd558d5d7329784d9c1aa80/expr.png\" style=\"display:inline;vertical-align:middle;\" /></a></td></tr>\n",
       "<tr><td>3</td><td>Literal</td><td></td><td><a class=\"ProveItLink\" href=\"../5eaa43008f05c06941080a12337ff182ea14996e0/expr.ipynb\"><img src=\"../5eaa43008f05c06941080a12337ff182ea14996e0/expr.png\" style=\"display:inline;vertical-align:middle;\" /></a></td></tr>\n",
       "<tr><td>4</td><td>NamedExprs</td><td>element: 5<br>targets: 6<br></td><td><a class=\"ProveItLink\" href=\"../b1ec4ba6d0bf0779ae698976689aa55f1c7a7e9c0/expr.ipynb\"><img src=\"../b1ec4ba6d0bf0779ae698976689aa55f1c7a7e9c0/expr.png\" style=\"display:inline;vertical-align:middle;\" /></a></td></tr>\n",
       "<tr><td>5</td><td>IndexedVar</td><td>variable:&nbsp;7<br>indices:&nbsp;14<br></td><td><a class=\"ProveItLink\" href=\"../9f647344e056c6e7ec7909febf09e9134325cad60/expr.ipynb\"><img src=\"../9f647344e056c6e7ec7909febf09e9134325cad60/expr.png\" style=\"display:inline;vertical-align:middle;\" /></a></td></tr>\n",
       "<tr><td>6</td><td>Operation</td><td>operator:&nbsp;8<br>operand:&nbsp;12<br></td><td><a class=\"ProveItLink\" href=\"../b316d6e5bf9b36ebe7981dfcc2273f162bcd4b750/expr.ipynb\"><img src=\"../b316d6e5bf9b36ebe7981dfcc2273f162bcd4b750/expr.png\" style=\"display:inline;vertical-align:middle;\" /></a></td></tr>\n",
       "<tr><td>7</td><td>Variable</td><td></td><td><a class=\"ProveItLink\" href=\"../../../../../../__pv_it/common/09585084922504426caf1db2ff588a23a0932a960/expr.ipynb\"><img src=\"../../../../../../__pv_it/common/09585084922504426caf1db2ff588a23a0932a960/expr.png\" style=\"display:inline;vertical-align:middle;\" /></a></td></tr>\n",
       "<tr><td>8</td><td>Operation</td><td>operator:&nbsp;10<br>operand:&nbsp;17<br></td><td><a class=\"ProveItLink\" href=\"../eda6c636e2c976c68a83c878ad1d4096671c4a280/expr.ipynb\"><img src=\"../eda6c636e2c976c68a83c878ad1d4096671c4a280/expr.png\" style=\"display:inline;vertical-align:middle;\" /></a></td></tr>\n",
       "<tr><td>9</td><td>ExprTuple</td><td>12</td><td><a class=\"ProveItLink\" href=\"../534d15981dcb5af95cbfc0ce901d8865bee6c13f0/expr.ipynb\"><img src=\"../534d15981dcb5af95cbfc0ce901d8865bee6c13f0/expr.png\" style=\"display:inline;vertical-align:middle;\" /></a></td></tr>\n",
       "<tr><td>10</td><td>Literal</td><td></td><td><a class=\"ProveItLink\" href=\"../../../../../../logic/sets/functions/images/__pv_it/common/c0d1fd92112cd0ca4e7bbe9bec942efee05eb9500/expr.ipynb\"><img src=\"../../../../../../logic/sets/functions/images/__pv_it/common/c0d1fd92112cd0ca4e7bbe9bec942efee05eb9500/expr.png\" style=\"display:inline;vertical-align:middle;\" /></a></td></tr>\n",
       "<tr><td>11</td><td>ExprTuple</td><td>17</td><td><a class=\"ProveItLink\" href=\"../527c551ff60aa90c443f150751d409424a4630a80/expr.ipynb\"><img src=\"../527c551ff60aa90c443f150751d409424a4630a80/expr.png\" style=\"display:inline;vertical-align:middle;\" /></a></td></tr>\n",
       "<tr><td>12</td><td>IndexedVar</td><td>variable:&nbsp;13<br>indices:&nbsp;14<br></td><td><a class=\"ProveItLink\" href=\"../2efcc798f07aed8a4842c910712f536b971402bc0/expr.ipynb\"><img src=\"../2efcc798f07aed8a4842c910712f536b971402bc0/expr.png\" style=\"display:inline;vertical-align:middle;\" /></a></td></tr>\n",
       "<tr><td>13</td><td>Variable</td><td></td><td><a class=\"ProveItLink\" href=\"../../../../../../__pv_it/common/647ca33d6b96e29d5aa85a15d2241c7ebd0c6e4b0/expr.ipynb\"><img src=\"../../../../../../__pv_it/common/647ca33d6b96e29d5aa85a15d2241c7ebd0c6e4b0/expr.png\" style=\"display:inline;vertical-align:middle;\" /></a></td></tr>\n",
       "<tr><td>14</td><td>ExprTuple</td><td>15, 16</td><td><a class=\"ProveItLink\" href=\"../7dcb055e29a7eba2391f38705d3ce62334477a9e0/expr.ipynb\"><img src=\"../7dcb055e29a7eba2391f38705d3ce62334477a9e0/expr.png\" style=\"display:inline;vertical-align:middle;\" /></a></td></tr>\n",
       "<tr><td>15</td><td>Operation</td><td>operator:&nbsp;17<br>operand:&nbsp;19<br></td><td><a class=\"ProveItLink\" href=\"../1d8a630dcc5d08f832c7a22a996cc52117c8378b0/expr.ipynb\"><img src=\"../1d8a630dcc5d08f832c7a22a996cc52117c8378b0/expr.png\" style=\"display:inline;vertical-align:middle;\" /></a></td></tr>\n",
       "<tr><td>16</td><td>Variable</td><td></td><td><a class=\"ProveItLink\" href=\"../../../../../../core_expr_types/__pv_it/common/006c465e50948aa2b52285e2de47974f741255cc0/expr.ipynb\"><img src=\"../../../../../../core_expr_types/__pv_it/common/006c465e50948aa2b52285e2de47974f741255cc0/expr.png\" style=\"display:inline;vertical-align:middle;\" /></a></td></tr>\n",
       "<tr><td>17</td><td>Variable</td><td></td><td><a class=\"ProveItLink\" href=\"../../../../../../__pv_it/common/bbfd8ec921873eb340439a30c11dc66622cd75e90/expr.ipynb\"><img src=\"../../../../../../__pv_it/common/bbfd8ec921873eb340439a30c11dc66622cd75e90/expr.png\" style=\"display:inline;vertical-align:middle;\" /></a></td></tr>\n",
       "<tr><td>18</td><td>ExprTuple</td><td>19</td><td><a class=\"ProveItLink\" href=\"../../../../../../core_expr_types/expr_arrays/__pv_it/common/18f7318b68e45ff8356043b6e71619fa8450fb200/expr.ipynb\"><img src=\"../../../../../../core_expr_types/expr_arrays/__pv_it/common/18f7318b68e45ff8356043b6e71619fa8450fb200/expr.png\" style=\"display:inline;vertical-align:middle;\" /></a></td></tr>\n",
       "<tr><td>19</td><td>Variable</td><td></td><td><a class=\"ProveItLink\" href=\"../../../../../../core_expr_types/expr_arrays/__pv_it/common/9a18d67b443cf8d92289c655ed91ec78766170a90/expr.ipynb\"><img src=\"../../../../../../core_expr_types/expr_arrays/__pv_it/common/9a18d67b443cf8d92289c655ed91ec78766170a90/expr.png\" style=\"display:inline;vertical-align:middle;\" /></a></td></tr>\n",
       "</table>\n"
      ],
      "text/plain": [
       "0. _a -> [MULTI_QUBIT_ELEM]{element:A_{p(_b), _a}, targets:p^*(R_{p(_b), _a})}\n",
       "   core type: Lambda\n",
       "   parameter: 16\n",
       "   body: 2\n",
       "1. (_a)\n",
       "   core type: ExprTuple\n",
       "   sub-expressions: 16\n",
       "2. [MULTI_QUBIT_ELEM]{element:A_{p(_b), _a}, targets:p^*(R_{p(_b), _a})}\n",
       "   core type: Operation\n",
       "   operator: 3\n",
       "   operands: 4\n",
       "3. MULTI_QUBIT_ELEM\n",
       "   core type: Literal\n",
       "   sub-expressions: \n",
       "4. {element:A_{p(_b), _a}, targets:p^*(R_{p(_b), _a})}\n",
       "   core type: NamedExprs\n",
       "   element: 5\n",
       "   targets: 6\n",
       "5. A_{p(_b), _a}\n",
       "   core type: IndexedVar\n",
       "variable: 7\n",
       "indices: 14\n",
       "6. p^*(R_{p(_b), _a})\n",
       "   core type: Operation\n",
       "   operator: 8\n",
       "   operand: 12\n",
       "7. A\n",
       "   core type: Variable\n",
       "   sub-expressions: \n",
       "8. p^*\n",
       "   core type: Operation\n",
       "   operator: 10\n",
       "   operand: 17\n",
       "9. (R_{p(_b), _a})\n",
       "   core type: ExprTuple\n",
       "   sub-expressions: 12\n",
       "10. INV_IMAGE\n",
       "    core type: Literal\n",
       "    sub-expressions: \n",
       "11. (p)\n",
       "    core type: ExprTuple\n",
       "    sub-expressions: 17\n",
       "12. R_{p(_b), _a}\n",
       "    core type: IndexedVar\n",
       "variable: 13\n",
       "indices: 14\n",
       "13. R\n",
       "    core type: Variable\n",
       "    sub-expressions: \n",
       "14. (p(_b), _a)\n",
       "    core type: ExprTuple\n",
       "    sub-expressions: 15, 16\n",
       "15. p(_b)\n",
       "    core type: Operation\n",
       "    operator: 17\n",
       "    operand: 19\n",
       "16. _a\n",
       "    core type: Variable\n",
       "    sub-expressions: \n",
       "17. p\n",
       "    core type: Variable\n",
       "    sub-expressions: \n",
       "18. (_b)\n",
       "    core type: ExprTuple\n",
       "    sub-expressions: 19\n",
       "19. _b\n",
       "    core type: Variable\n",
       "    sub-expressions: "
      ]
     },
     "metadata": {},
     "output_type": "display_data"
    }
   ],
   "source": [
    "# display the expression information\n",
    "stored_expr.expr_info()"
   ]
  },
  {
   "cell_type": "code",
   "execution_count": null,
   "metadata": {},
   "outputs": [],
   "source": []
  }
 ],
 "metadata": {
  "kernelspec": {
   "display_name": "Python 3",
   "language": "python",
   "name": "python3"
  }
 },
 "nbformat": 4,
 "nbformat_minor": 0
}