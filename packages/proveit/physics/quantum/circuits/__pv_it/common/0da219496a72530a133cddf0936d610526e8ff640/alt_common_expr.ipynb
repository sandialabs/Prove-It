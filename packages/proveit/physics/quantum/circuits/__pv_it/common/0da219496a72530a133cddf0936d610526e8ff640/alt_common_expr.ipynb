{
 "cells": [
  {
   "cell_type": "markdown",
   "metadata": {},
   "source": [
    "Temporary notebook for <a class=\"ProveItLink\" href=\"../../../_common_.ipynb#phase_kickback_circuit\">phase_kickback_circuit</a> of type <a href=\"../../../../../../../../doc/html/api/proveit.physics.quantum.circuits.Qcircuit.html\">Qcircuit</a>\n",
    "=======================\n",
    "# a not-yet-official common expression from the theory of <a class=\"ProveItLink\" href=\"../../../_theory_nbs_/theory.ipynb\">proveit.physics.quantum.circuits</a>"
   ]
  },
  {
   "cell_type": "code",
   "execution_count": null,
   "metadata": {},
   "outputs": [],
   "source": [
    "import proveit\n",
    "# Automation is not needed when building an expression:\n",
    "proveit.defaults.automation = False # This will speed things up\n",
    "proveit.defaults.inline_pngs = False # Makes files smaller.\n",
    "%load_expr # Load the stored common expression as 'stored_expr'\n",
    "# import Expression classes needed to build the expression\n",
    "from proveit import ExprRange, U, Variable, VertExprArray, m\n",
    "from proveit.linear_algebra import ScalarMult, VecAdd\n",
    "from proveit.logic import Set\n",
    "from proveit.numbers import Add, Exp, Interval, Mult, e, frac, i, one, pi, sqrt, two\n",
    "from proveit.physics.quantum import CONTROL, ket0, ket1, ket_plus, var_ket_u, varphi\n",
    "from proveit.physics.quantum.circuits import Gate, Input, MultiQubitElem, Output, Qcircuit"
   ]
  },
  {
   "cell_type": "code",
   "execution_count": null,
   "metadata": {},
   "outputs": [],
   "source": [
    "# build up the expression from sub-expressions\n",
    "sub_expr1 = Variable(\"_a\", latex_format = r\"{_{-}a}\")\n",
    "sub_expr2 = Add(m, one)\n",
    "sub_expr3 = Interval(two, Add(m, two))\n",
    "expr = Qcircuit(vert_expr_array = VertExprArray([Input(state = ket_plus), ExprRange(sub_expr1, MultiQubitElem(element = Input(state = var_ket_u, part = sub_expr1), targets = sub_expr3), one, sub_expr2)], [MultiQubitElem(element = CONTROL, targets = Set(two)), ExprRange(sub_expr1, MultiQubitElem(element = Gate(operation = U, part = sub_expr1), targets = sub_expr3), one, sub_expr2)], [Output(state = ScalarMult(frac(one, sqrt(two)), VecAdd(ket0, ScalarMult(Exp(e, Mult(two, pi, i, varphi)), ket1)))), ExprRange(sub_expr1, MultiQubitElem(element = Output(state = var_ket_u, part = sub_expr1), targets = sub_expr3), one, sub_expr2)]))"
   ]
  },
  {
   "cell_type": "code",
   "execution_count": null,
   "metadata": {},
   "outputs": [],
   "source": [
    "# check that the built expression is the same as the stored expression\n",
    "assert expr == stored_expr\n",
    "assert expr._style_id == stored_expr._style_id\n",
    "print(\"Passed sanity check: phase_kickback_circuit matches stored_expr\")"
   ]
  },
  {
   "cell_type": "code",
   "execution_count": null,
   "metadata": {},
   "outputs": [],
   "source": [
    "# Show the LaTeX representation of the expression for convenience if you need it.\n",
    "print(stored_expr.latex())"
   ]
  },
  {
   "cell_type": "code",
   "execution_count": null,
   "metadata": {},
   "outputs": [],
   "source": [
    "stored_expr.style_options()"
   ]
  },
  {
   "cell_type": "code",
   "execution_count": null,
   "metadata": {},
   "outputs": [],
   "source": [
    "# display the expression information\n",
    "stored_expr.expr_info()"
   ]
  },
  {
   "cell_type": "code",
   "execution_count": null,
   "metadata": {},
   "outputs": [],
   "source": []
  }
 ],
 "metadata": {
  "kernelspec": {
   "display_name": "Python 3",
   "language": "python",
   "name": "python3"
  }
 },
 "nbformat": 4,
 "nbformat_minor": 0
}