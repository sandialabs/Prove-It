{
 "cells": [
  {
   "cell_type": "markdown",
   "metadata": {},
   "source": [
    "Expression of type <a class=\"ProveItLink\" href=\"../../../../../../../../doc/html/api/proveit.physics.quantum.circuits.Qcircuit.html\">Qcircuit</a>\n",
    "=======================\n",
    "# from the theory of <a class=\"ProveItLink\" href=\"../../../_theory_nbs_/theory.ipynb\">proveit.physics.quantum.circuits</a>"
   ]
  },
  {
   "cell_type": "code",
   "execution_count": 1,
   "metadata": {},
   "outputs": [],
   "source": [
    "import proveit\n",
    "# Automation is not needed when building an expression:\n",
    "proveit.defaults.automation = False # This will speed things up.\n",
    "proveit.defaults.inline_pngs = False # Makes files smaller.\n",
    "%load_expr # Load the stored expression as 'stored_expr'\n",
    "# import Expression classes needed to build the expression\n",
    "from proveit import B, C, ExprRange, IndexedVar, S, T, Variable, VertExprArray, k, l, m\n",
    "from proveit.numbers import one\n",
    "from proveit.physics.quantum.circuits import MultiQubitElem, Qcircuit"
   ]
  },
  {
   "cell_type": "code",
   "execution_count": 2,
   "metadata": {},
   "outputs": [
    {
     "data": {
      "text/html": [
       "<strong id=\"expr\">expr:</strong> <a class=\"ProveItLink\" href=\"expr.ipynb\"><img src=\"expr.png\" style=\"display:inline;vertical-align:middle;\" /></a><br>"
      ],
      "text/plain": [
       "<IPython.core.display.HTML object>"
      ]
     },
     "metadata": {},
     "output_type": "display_data"
    }
   ],
   "source": [
    "# build up the expression from sub-expressions\n",
    "sub_expr1 = Variable(\"_b\", latex_format = r\"{_{-}b}\")\n",
    "sub_expr2 = Variable(\"_a\", latex_format = r\"{_{-}a}\")\n",
    "sub_expr3 = [sub_expr1, sub_expr2]\n",
    "expr = Qcircuit(vert_expr_array = VertExprArray(ExprRange(sub_expr1, [ExprRange(sub_expr2, MultiQubitElem(element = IndexedVar(B, sub_expr3), targets = IndexedVar(S, sub_expr3)), one, k), ExprRange(sub_expr2, MultiQubitElem(element = IndexedVar(C, sub_expr3), targets = IndexedVar(T, sub_expr3)), one, l)], one, m)))"
   ]
  },
  {
   "cell_type": "code",
   "execution_count": 3,
   "metadata": {},
   "outputs": [
    {
     "name": "stdout",
     "output_type": "stream",
     "text": [
      "Passed sanity check: expr matches stored_expr\n"
     ]
    }
   ],
   "source": [
    "# check that the built expression is the same as the stored expression\n",
    "assert expr == stored_expr\n",
    "assert expr._style_id == stored_expr._style_id\n",
    "print(\"Passed sanity check: expr matches stored_expr\")"
   ]
  },
  {
   "cell_type": "code",
   "execution_count": 4,
   "metadata": {},
   "outputs": [
    {
     "name": "stdout",
     "output_type": "stream",
     "text": [
      "\\begin{array}{c} \\Qcircuit@C=1em @R=.7em{\n",
      "& \\gate{B_{1, 1}~\\mbox{on}~S_{1, 1}} \\qwx[1] & \\gate{B_{2, 1}~\\mbox{on}~S_{2, 1}} \\qwx[1] & \\gate{\\cdots} \\qwx[1] & \\gate{B_{m, 1}~\\mbox{on}~S_{m, 1}} \\qwx[1] & \\qw \\\\\n",
      "& \\gate{B_{1, 2}~\\mbox{on}~S_{1, 2}} \\qwx[1] & \\gate{B_{2, 2}~\\mbox{on}~S_{2, 2}} \\qwx[1] & \\gate{\\cdots} \\qwx[1] & \\gate{B_{m, 2}~\\mbox{on}~S_{m, 2}} \\qwx[1] & \\qw \\\\\n",
      "& \\gate{\\vdots} \\qwx[1] & \\gate{\\vdots} \\qwx[1] & \\gate{\\ddots} \\qwx[1] & \\gate{\\vdots} \\qwx[1] & \\qw \\\\\n",
      "& \\gate{B_{1, k}~\\mbox{on}~S_{1, k}} \\qwx[1] & \\gate{B_{2, k}~\\mbox{on}~S_{2, k}} \\qwx[1] & \\gate{\\cdots} \\qwx[1] & \\gate{B_{m, k}~\\mbox{on}~S_{m, k}} \\qwx[1] & \\qw \\\\\n",
      "& \\gate{C_{1, 1}~\\mbox{on}~T_{1, 1}} \\qwx[1] & \\gate{C_{2, 1}~\\mbox{on}~T_{2, 1}} \\qwx[1] & \\gate{\\cdots} \\qwx[1] & \\gate{C_{m, 1}~\\mbox{on}~T_{m, 1}} \\qwx[1] & \\qw \\\\\n",
      "& \\gate{C_{1, 2}~\\mbox{on}~T_{1, 2}} \\qwx[1] & \\gate{C_{2, 2}~\\mbox{on}~T_{2, 2}} \\qwx[1] & \\gate{\\cdots} \\qwx[1] & \\gate{C_{m, 2}~\\mbox{on}~T_{m, 2}} \\qwx[1] & \\qw \\\\\n",
      "& \\gate{\\vdots} \\qwx[1] & \\gate{\\vdots} \\qwx[1] & \\gate{\\ddots} \\qwx[1] & \\gate{\\vdots} \\qwx[1] & \\qw \\\\\n",
      "& \\gate{C_{1, l}~\\mbox{on}~T_{1, l}} & \\gate{C_{2, l}~\\mbox{on}~T_{2, l}} & \\gate{\\cdots} & \\gate{C_{m, l}~\\mbox{on}~T_{m, l}} & \\qw\n",
      "} \\end{array}\n"
     ]
    }
   ],
   "source": [
    "# Show the LaTeX representation of the expression for convenience if you need it.\n",
    "print(stored_expr.latex())"
   ]
  },
  {
   "cell_type": "code",
   "execution_count": 5,
   "metadata": {},
   "outputs": [
    {
     "data": {
      "text/html": [
       "<table>\n",
       "<tr><th>name</th><th>description</th><th>default</th><th>current value</th><th>related methods</th></tr><tr><td>spacing</td><td>change the spacing of a circuit using the format '@C=1em @R=.7em' where C is the column spacing and R is the row spacing</td><td>@C=1em @R=.7em</td><td>@C=1em @R=.7em</td><td></td></tr>\n",
       "</table>\n"
      ],
      "text/plain": [
       "style name: spacing\n",
       "description: change the spacing of a circuit using the format '@C=1em @R=.7em' where C is the column spacing and R is the row spacing\n",
       "default: @C=1em @R=.7em\n",
       "current value: @C=1em @R=.7em\n",
       "related methods: ()"
      ]
     },
     "metadata": {},
     "output_type": "display_data"
    }
   ],
   "source": [
    "stored_expr.style_options()"
   ]
  },
  {
   "cell_type": "code",
   "execution_count": 6,
   "metadata": {},
   "outputs": [
    {
     "data": {
      "text/html": [
       "<table><tr><th>&nbsp;</th><th>core type</th><th>sub-expressions</th><th>expression</th></tr>\n",
       "<tr><td>0</td><td>Operation</td><td>operator:&nbsp;1<br>operands:&nbsp;2<br></td><td><a class=\"ProveItLink\" href=\"expr.ipynb\"><img src=\"expr.png\" style=\"display:inline;vertical-align:middle;\" /></a></td></tr>\n",
       "<tr><td>1</td><td>Literal</td><td></td><td><a class=\"ProveItLink\" href=\"../40003b89a3d1740159ada9fe5b21308b42a7d3d40/expr.ipynb\"><img src=\"../40003b89a3d1740159ada9fe5b21308b42a7d3d40/expr.png\" style=\"display:inline;vertical-align:middle;\" /></a></td></tr>\n",
       "<tr><td>2</td><td>ExprTuple</td><td>3</td><td><a class=\"ProveItLink\" href=\"../e3369ea6b73027914d1dc1ddf0e7bc775a2435f70/expr.ipynb\"><img src=\"../e3369ea6b73027914d1dc1ddf0e7bc775a2435f70/expr.png\" style=\"display:inline;vertical-align:middle;\" /></a></td></tr>\n",
       "<tr><td>3</td><td>ExprRange</td><td>lambda_map:&nbsp;4<br>start_index:&nbsp;13<br>end_index:&nbsp;5<br></td><td><a class=\"ProveItLink\" href=\"../2cb7f0c55b99382c00c1748ced240a99db07f1bd0/expr.ipynb\"><img src=\"../2cb7f0c55b99382c00c1748ced240a99db07f1bd0/expr.png\" style=\"display:inline;vertical-align:middle;\" /></a></td></tr>\n",
       "<tr><td>4</td><td>Lambda</td><td>parameter:&nbsp;30<br>body:&nbsp;7<br></td><td><a class=\"ProveItLink\" href=\"../147390e6e34870a8d58d0409c45b1e7848392bd40/expr.ipynb\"><img src=\"../147390e6e34870a8d58d0409c45b1e7848392bd40/expr.png\" style=\"display:inline;vertical-align:middle;\" /></a></td></tr>\n",
       "<tr><td>5</td><td>Variable</td><td></td><td><a class=\"ProveItLink\" href=\"../../../../../../__pv_it/common/674a03b9c3ca221b3aabd5636837b31528ff33830/expr.ipynb\"><img src=\"../../../../../../__pv_it/common/674a03b9c3ca221b3aabd5636837b31528ff33830/expr.png\" style=\"display:inline;vertical-align:middle;\" /></a></td></tr>\n",
       "<tr><td>6</td><td>ExprTuple</td><td>30</td><td><a class=\"ProveItLink\" href=\"../../../../../../core_expr_types/expr_arrays/__pv_it/common/18f7318b68e45ff8356043b6e71619fa8450fb200/expr.ipynb\"><img src=\"../../../../../../core_expr_types/expr_arrays/__pv_it/common/18f7318b68e45ff8356043b6e71619fa8450fb200/expr.png\" style=\"display:inline;vertical-align:middle;\" /></a></td></tr>\n",
       "<tr><td>7</td><td>ExprTuple</td><td>8, 9</td><td><a class=\"ProveItLink\" href=\"../69b29b3cbfafb8a177a8185a0b78ffa0e330c6e10/expr.ipynb\"><img src=\"../69b29b3cbfafb8a177a8185a0b78ffa0e330c6e10/expr.png\" style=\"display:inline;vertical-align:middle;\" /></a></td></tr>\n",
       "<tr><td>8</td><td>ExprRange</td><td>lambda_map:&nbsp;10<br>start_index:&nbsp;13<br>end_index:&nbsp;11<br></td><td><a class=\"ProveItLink\" href=\"../fe84ee1eca039d437b468eb66908ef1a3edcbaec0/expr.ipynb\"><img src=\"../fe84ee1eca039d437b468eb66908ef1a3edcbaec0/expr.png\" style=\"display:inline;vertical-align:middle;\" /></a></td></tr>\n",
       "<tr><td>9</td><td>ExprRange</td><td>lambda_map:&nbsp;12<br>start_index:&nbsp;13<br>end_index:&nbsp;14<br></td><td><a class=\"ProveItLink\" href=\"../e45675d78199b8d537970a0d12019d19b7050cd70/expr.ipynb\"><img src=\"../e45675d78199b8d537970a0d12019d19b7050cd70/expr.png\" style=\"display:inline;vertical-align:middle;\" /></a></td></tr>\n",
       "<tr><td>10</td><td>Lambda</td><td>parameter:&nbsp;31<br>body:&nbsp;15<br></td><td><a class=\"ProveItLink\" href=\"../61255e922742f0140b48df2ceaa534788ca630d20/expr.ipynb\"><img src=\"../61255e922742f0140b48df2ceaa534788ca630d20/expr.png\" style=\"display:inline;vertical-align:middle;\" /></a></td></tr>\n",
       "<tr><td>11</td><td>Variable</td><td></td><td><a class=\"ProveItLink\" href=\"../../../../../../__pv_it/common/63b7c64bf9ec7a04ecc396c7a1670f3f12fb59490/expr.ipynb\"><img src=\"../../../../../../__pv_it/common/63b7c64bf9ec7a04ecc396c7a1670f3f12fb59490/expr.png\" style=\"display:inline;vertical-align:middle;\" /></a></td></tr>\n",
       "<tr><td>12</td><td>Lambda</td><td>parameter:&nbsp;31<br>body:&nbsp;17<br></td><td><a class=\"ProveItLink\" href=\"../dad6c131a7a119fe38faac213b3d9a884ad7f31f0/expr.ipynb\"><img src=\"../dad6c131a7a119fe38faac213b3d9a884ad7f31f0/expr.png\" style=\"display:inline;vertical-align:middle;\" /></a></td></tr>\n",
       "<tr><td>13</td><td>Literal</td><td></td><td><a class=\"ProveItLink\" href=\"../../../../../../numbers/numerals/__pv_it/common/682157d4892d216d9e5626ed533aff9b56b9506e0/expr.ipynb\"><img src=\"../../../../../../numbers/numerals/__pv_it/common/682157d4892d216d9e5626ed533aff9b56b9506e0/expr.png\" style=\"display:inline;vertical-align:middle;\" /></a></td></tr>\n",
       "<tr><td>14</td><td>Variable</td><td></td><td><a class=\"ProveItLink\" href=\"../../../../../../__pv_it/common/27cc275d44b4f4499fb9ccfb3fab1a98165d2fa60/expr.ipynb\"><img src=\"../../../../../../__pv_it/common/27cc275d44b4f4499fb9ccfb3fab1a98165d2fa60/expr.png\" style=\"display:inline;vertical-align:middle;\" /></a></td></tr>\n",
       "<tr><td>15</td><td>Operation</td><td>operator:&nbsp;19<br>operands:&nbsp;18<br></td><td><a class=\"ProveItLink\" href=\"../f3ed14dd929e3739ec8467d2e407ce1f452399760/expr.ipynb\"><img src=\"../f3ed14dd929e3739ec8467d2e407ce1f452399760/expr.png\" style=\"display:inline;vertical-align:middle;\" /></a></td></tr>\n",
       "<tr><td>16</td><td>ExprTuple</td><td>31</td><td><a class=\"ProveItLink\" href=\"../../../../../../core_expr_types/__pv_it/common/4b0dd6be36d76552eda6a95d5b4a27f5a5b62f900/expr.ipynb\"><img src=\"../../../../../../core_expr_types/__pv_it/common/4b0dd6be36d76552eda6a95d5b4a27f5a5b62f900/expr.png\" style=\"display:inline;vertical-align:middle;\" /></a></td></tr>\n",
       "<tr><td>17</td><td>Operation</td><td>operator:&nbsp;19<br>operands:&nbsp;20<br></td><td><a class=\"ProveItLink\" href=\"../5d9049fadfc486c1a431704075e9cb6fcdbc26d90/expr.ipynb\"><img src=\"../5d9049fadfc486c1a431704075e9cb6fcdbc26d90/expr.png\" style=\"display:inline;vertical-align:middle;\" /></a></td></tr>\n",
       "<tr><td>18</td><td>NamedExprs</td><td>element: 21<br>targets: 22<br></td><td><a class=\"ProveItLink\" href=\"../669c57ce15957cbc7ca3018b0c17facc3b4e373b0/expr.ipynb\"><img src=\"../669c57ce15957cbc7ca3018b0c17facc3b4e373b0/expr.png\" style=\"display:inline;vertical-align:middle;\" /></a></td></tr>\n",
       "<tr><td>19</td><td>Literal</td><td></td><td><a class=\"ProveItLink\" href=\"../5eaa43008f05c06941080a12337ff182ea14996e0/expr.ipynb\"><img src=\"../5eaa43008f05c06941080a12337ff182ea14996e0/expr.png\" style=\"display:inline;vertical-align:middle;\" /></a></td></tr>\n",
       "<tr><td>20</td><td>NamedExprs</td><td>element: 23<br>targets: 24<br></td><td><a class=\"ProveItLink\" href=\"../fdad8082829e17aff93e5c32bfd4544505b7c7090/expr.ipynb\"><img src=\"../fdad8082829e17aff93e5c32bfd4544505b7c7090/expr.png\" style=\"display:inline;vertical-align:middle;\" /></a></td></tr>\n",
       "<tr><td>21</td><td>IndexedVar</td><td>variable:&nbsp;25<br>indices:&nbsp;29<br></td><td><a class=\"ProveItLink\" href=\"../../../../../../core_expr_types/expr_arrays/__pv_it/common/e79cd0fe4a2577a30580c7ee9d8c9195486094ac0/expr.ipynb\"><img src=\"../../../../../../core_expr_types/expr_arrays/__pv_it/common/e79cd0fe4a2577a30580c7ee9d8c9195486094ac0/expr.png\" style=\"display:inline;vertical-align:middle;\" /></a></td></tr>\n",
       "<tr><td>22</td><td>IndexedVar</td><td>variable:&nbsp;26<br>indices:&nbsp;29<br></td><td><a class=\"ProveItLink\" href=\"../../../../../../core_expr_types/expr_arrays/__pv_it/common/0f7c549cbda7f227e480c00ef45e264d9ad9b1850/expr.ipynb\"><img src=\"../../../../../../core_expr_types/expr_arrays/__pv_it/common/0f7c549cbda7f227e480c00ef45e264d9ad9b1850/expr.png\" style=\"display:inline;vertical-align:middle;\" /></a></td></tr>\n",
       "<tr><td>23</td><td>IndexedVar</td><td>variable:&nbsp;27<br>indices:&nbsp;29<br></td><td><a class=\"ProveItLink\" href=\"../2eb9b63d569ed8899f6bc27936009b69461cfe6b0/expr.ipynb\"><img src=\"../2eb9b63d569ed8899f6bc27936009b69461cfe6b0/expr.png\" style=\"display:inline;vertical-align:middle;\" /></a></td></tr>\n",
       "<tr><td>24</td><td>IndexedVar</td><td>variable:&nbsp;28<br>indices:&nbsp;29<br></td><td><a class=\"ProveItLink\" href=\"../40f3483a1f1998756b131ee144447e759efc02930/expr.ipynb\"><img src=\"../40f3483a1f1998756b131ee144447e759efc02930/expr.png\" style=\"display:inline;vertical-align:middle;\" /></a></td></tr>\n",
       "<tr><td>25</td><td>Variable</td><td></td><td><a class=\"ProveItLink\" href=\"../../../../../../__pv_it/common/a9162d1c3cc0470c02e5daf414500903a7a419230/expr.ipynb\"><img src=\"../../../../../../__pv_it/common/a9162d1c3cc0470c02e5daf414500903a7a419230/expr.png\" style=\"display:inline;vertical-align:middle;\" /></a></td></tr>\n",
       "<tr><td>26</td><td>Variable</td><td></td><td><a class=\"ProveItLink\" href=\"../../../../../../__pv_it/common/38f47c5670ea8c5b56253448e95d8afb56bc09b40/expr.ipynb\"><img src=\"../../../../../../__pv_it/common/38f47c5670ea8c5b56253448e95d8afb56bc09b40/expr.png\" style=\"display:inline;vertical-align:middle;\" /></a></td></tr>\n",
       "<tr><td>27</td><td>Variable</td><td></td><td><a class=\"ProveItLink\" href=\"../../../../../../__pv_it/common/9fba9f29e823606ff4fdf2f1c6d5d08d906e850a0/expr.ipynb\"><img src=\"../../../../../../__pv_it/common/9fba9f29e823606ff4fdf2f1c6d5d08d906e850a0/expr.png\" style=\"display:inline;vertical-align:middle;\" /></a></td></tr>\n",
       "<tr><td>28</td><td>Variable</td><td></td><td><a class=\"ProveItLink\" href=\"../../../../../../__pv_it/common/69c70dfa5f18cd09af12f2dcafa9764efe6f8cbd0/expr.ipynb\"><img src=\"../../../../../../__pv_it/common/69c70dfa5f18cd09af12f2dcafa9764efe6f8cbd0/expr.png\" style=\"display:inline;vertical-align:middle;\" /></a></td></tr>\n",
       "<tr><td>29</td><td>ExprTuple</td><td>30, 31</td><td><a class=\"ProveItLink\" href=\"../../../../../../core_expr_types/expr_arrays/__pv_it/common/c899820ca7633ea1589f21e8e039aa4da91850d80/expr.ipynb\"><img src=\"../../../../../../core_expr_types/expr_arrays/__pv_it/common/c899820ca7633ea1589f21e8e039aa4da91850d80/expr.png\" style=\"display:inline;vertical-align:middle;\" /></a></td></tr>\n",
       "<tr><td>30</td><td>Variable</td><td></td><td><a class=\"ProveItLink\" href=\"../../../../../../core_expr_types/expr_arrays/__pv_it/common/9a18d67b443cf8d92289c655ed91ec78766170a90/expr.ipynb\"><img src=\"../../../../../../core_expr_types/expr_arrays/__pv_it/common/9a18d67b443cf8d92289c655ed91ec78766170a90/expr.png\" style=\"display:inline;vertical-align:middle;\" /></a></td></tr>\n",
       "<tr><td>31</td><td>Variable</td><td></td><td><a class=\"ProveItLink\" href=\"../../../../../../core_expr_types/expr_arrays/__pv_it/common/006c465e50948aa2b52285e2de47974f741255cc0/expr.ipynb\"><img src=\"../../../../../../core_expr_types/expr_arrays/__pv_it/common/006c465e50948aa2b52285e2de47974f741255cc0/expr.png\" style=\"display:inline;vertical-align:middle;\" /></a></td></tr>\n",
       "</table>\n"
      ],
      "text/plain": [
       "0. QCIRCUIT(VertExprArray(([MULTI_QUBIT_ELEM]{element:B_{1, 1}, targets:S_{1, 1}}, [MULTI_QUBIT_ELEM]{element:B_{1, 2}, targets:S_{1, 2}}, ..., [MULTI_QUBIT_ELEM]{element:B_{1, k}, targets:S_{1, k}},[MULTI_QUBIT_ELEM]{element:C_{1, 1}, targets:T_{1, 1}}, [MULTI_QUBIT_ELEM]{element:C_{1, 2}, targets:T_{1, 2}}, ..., [MULTI_QUBIT_ELEM]{element:C_{1, l}, targets:T_{1, l}}), ([MULTI_QUBIT_ELEM]{element:B_{2, 1}, targets:S_{2, 1}}, [MULTI_QUBIT_ELEM]{element:B_{2, 2}, targets:S_{2, 2}}, ..., [MULTI_QUBIT_ELEM]{element:B_{2, k}, targets:S_{2, k}},[MULTI_QUBIT_ELEM]{element:C_{2, 1}, targets:T_{2, 1}}, [MULTI_QUBIT_ELEM]{element:C_{2, 2}, targets:T_{2, 2}}, ..., [MULTI_QUBIT_ELEM]{element:C_{2, l}, targets:T_{2, l}}), ..., ([MULTI_QUBIT_ELEM]{element:B_{m, 1}, targets:S_{m, 1}}, [MULTI_QUBIT_ELEM]{element:B_{m, 2}, targets:S_{m, 2}}, ..., [MULTI_QUBIT_ELEM]{element:B_{m, k}, targets:S_{m, k}},[MULTI_QUBIT_ELEM]{element:C_{m, 1}, targets:T_{m, 1}}, [MULTI_QUBIT_ELEM]{element:C_{m, 2}, targets:T_{m, 2}}, ..., [MULTI_QUBIT_ELEM]{element:C_{m, l}, targets:T_{m, l}})))\n",
       "   core type: Operation\n",
       "   operator: 1\n",
       "   operands: 2\n",
       "1. QCIRCUIT\n",
       "   core type: Literal\n",
       "   sub-expressions: \n",
       "2. VertExprArray(([MULTI_QUBIT_ELEM]{element:B_{1, 1}, targets:S_{1, 1}}, [MULTI_QUBIT_ELEM]{element:B_{1, 2}, targets:S_{1, 2}}, ..., [MULTI_QUBIT_ELEM]{element:B_{1, k}, targets:S_{1, k}},[MULTI_QUBIT_ELEM]{element:C_{1, 1}, targets:T_{1, 1}}, [MULTI_QUBIT_ELEM]{element:C_{1, 2}, targets:T_{1, 2}}, ..., [MULTI_QUBIT_ELEM]{element:C_{1, l}, targets:T_{1, l}}), ([MULTI_QUBIT_ELEM]{element:B_{2, 1}, targets:S_{2, 1}}, [MULTI_QUBIT_ELEM]{element:B_{2, 2}, targets:S_{2, 2}}, ..., [MULTI_QUBIT_ELEM]{element:B_{2, k}, targets:S_{2, k}},[MULTI_QUBIT_ELEM]{element:C_{2, 1}, targets:T_{2, 1}}, [MULTI_QUBIT_ELEM]{element:C_{2, 2}, targets:T_{2, 2}}, ..., [MULTI_QUBIT_ELEM]{element:C_{2, l}, targets:T_{2, l}}), ..., ([MULTI_QUBIT_ELEM]{element:B_{m, 1}, targets:S_{m, 1}}, [MULTI_QUBIT_ELEM]{element:B_{m, 2}, targets:S_{m, 2}}, ..., [MULTI_QUBIT_ELEM]{element:B_{m, k}, targets:S_{m, k}},[MULTI_QUBIT_ELEM]{element:C_{m, 1}, targets:T_{m, 1}}, [MULTI_QUBIT_ELEM]{element:C_{m, 2}, targets:T_{m, 2}}, ..., [MULTI_QUBIT_ELEM]{element:C_{m, l}, targets:T_{m, l}}))\n",
       "   core type: ExprTuple\n",
       "   sub-expressions: 3\n",
       "3. ([MULTI_QUBIT_ELEM]{element:B_{1, 1}, targets:S_{1, 1}}, [MULTI_QUBIT_ELEM]{element:B_{1, 2}, targets:S_{1, 2}}, ..., [MULTI_QUBIT_ELEM]{element:B_{1, k}, targets:S_{1, k}},[MULTI_QUBIT_ELEM]{element:C_{1, 1}, targets:T_{1, 1}}, [MULTI_QUBIT_ELEM]{element:C_{1, 2}, targets:T_{1, 2}}, ..., [MULTI_QUBIT_ELEM]{element:C_{1, l}, targets:T_{1, l}}), ([MULTI_QUBIT_ELEM]{element:B_{2, 1}, targets:S_{2, 1}}, [MULTI_QUBIT_ELEM]{element:B_{2, 2}, targets:S_{2, 2}}, ..., [MULTI_QUBIT_ELEM]{element:B_{2, k}, targets:S_{2, k}},[MULTI_QUBIT_ELEM]{element:C_{2, 1}, targets:T_{2, 1}}, [MULTI_QUBIT_ELEM]{element:C_{2, 2}, targets:T_{2, 2}}, ..., [MULTI_QUBIT_ELEM]{element:C_{2, l}, targets:T_{2, l}}), ..., ([MULTI_QUBIT_ELEM]{element:B_{m, 1}, targets:S_{m, 1}}, [MULTI_QUBIT_ELEM]{element:B_{m, 2}, targets:S_{m, 2}}, ..., [MULTI_QUBIT_ELEM]{element:B_{m, k}, targets:S_{m, k}},[MULTI_QUBIT_ELEM]{element:C_{m, 1}, targets:T_{m, 1}}, [MULTI_QUBIT_ELEM]{element:C_{m, 2}, targets:T_{m, 2}}, ..., [MULTI_QUBIT_ELEM]{element:C_{m, l}, targets:T_{m, l}})\n",
       "   core type: ExprRange\n",
       "   lambda_map: 4\n",
       "   start_index: 13\n",
       "   end_index: 5\n",
       "4. _b -> ([MULTI_QUBIT_ELEM]{element:B_{_b, 1}, targets:S_{_b, 1}}, [MULTI_QUBIT_ELEM]{element:B_{_b, 2}, targets:S_{_b, 2}}, ..., [MULTI_QUBIT_ELEM]{element:B_{_b, k}, targets:S_{_b, k}},[MULTI_QUBIT_ELEM]{element:C_{_b, 1}, targets:T_{_b, 1}}, [MULTI_QUBIT_ELEM]{element:C_{_b, 2}, targets:T_{_b, 2}}, ..., [MULTI_QUBIT_ELEM]{element:C_{_b, l}, targets:T_{_b, l}})\n",
       "   core type: Lambda\n",
       "   parameter: 30\n",
       "   body: 7\n",
       "5. m\n",
       "   core type: Variable\n",
       "   sub-expressions: \n",
       "6. (_b)\n",
       "   core type: ExprTuple\n",
       "   sub-expressions: 30\n",
       "7. ([MULTI_QUBIT_ELEM]{element:B_{_b, 1}, targets:S_{_b, 1}}, [MULTI_QUBIT_ELEM]{element:B_{_b, 2}, targets:S_{_b, 2}}, ..., [MULTI_QUBIT_ELEM]{element:B_{_b, k}, targets:S_{_b, k}},[MULTI_QUBIT_ELEM]{element:C_{_b, 1}, targets:T_{_b, 1}}, [MULTI_QUBIT_ELEM]{element:C_{_b, 2}, targets:T_{_b, 2}}, ..., [MULTI_QUBIT_ELEM]{element:C_{_b, l}, targets:T_{_b, l}})\n",
       "   core type: ExprTuple\n",
       "   sub-expressions: 8, 9\n",
       "8. [MULTI_QUBIT_ELEM]{element:B_{_b, 1}, targets:S_{_b, 1}}, [MULTI_QUBIT_ELEM]{element:B_{_b, 2}, targets:S_{_b, 2}}, ..., [MULTI_QUBIT_ELEM]{element:B_{_b, k}, targets:S_{_b, k}}\n",
       "   core type: ExprRange\n",
       "   lambda_map: 10\n",
       "   start_index: 13\n",
       "   end_index: 11\n",
       "9. [MULTI_QUBIT_ELEM]{element:C_{_b, 1}, targets:T_{_b, 1}}, [MULTI_QUBIT_ELEM]{element:C_{_b, 2}, targets:T_{_b, 2}}, ..., [MULTI_QUBIT_ELEM]{element:C_{_b, l}, targets:T_{_b, l}}\n",
       "   core type: ExprRange\n",
       "   lambda_map: 12\n",
       "   start_index: 13\n",
       "   end_index: 14\n",
       "10. _a -> [MULTI_QUBIT_ELEM]{element:B_{_b, _a}, targets:S_{_b, _a}}\n",
       "    core type: Lambda\n",
       "    parameter: 31\n",
       "    body: 15\n",
       "11. k\n",
       "    core type: Variable\n",
       "    sub-expressions: \n",
       "12. _a -> [MULTI_QUBIT_ELEM]{element:C_{_b, _a}, targets:T_{_b, _a}}\n",
       "    core type: Lambda\n",
       "    parameter: 31\n",
       "    body: 17\n",
       "13. 1\n",
       "    core type: Literal\n",
       "    sub-expressions: \n",
       "14. l\n",
       "    core type: Variable\n",
       "    sub-expressions: \n",
       "15. [MULTI_QUBIT_ELEM]{element:B_{_b, _a}, targets:S_{_b, _a}}\n",
       "    core type: Operation\n",
       "    operator: 19\n",
       "    operands: 18\n",
       "16. (_a)\n",
       "    core type: ExprTuple\n",
       "    sub-expressions: 31\n",
       "17. [MULTI_QUBIT_ELEM]{element:C_{_b, _a}, targets:T_{_b, _a}}\n",
       "    core type: Operation\n",
       "    operator: 19\n",
       "    operands: 20\n",
       "18. {element:B_{_b, _a}, targets:S_{_b, _a}}\n",
       "    core type: NamedExprs\n",
       "    element: 21\n",
       "    targets: 22\n",
       "19. MULTI_QUBIT_ELEM\n",
       "    core type: Literal\n",
       "    sub-expressions: \n",
       "20. {element:C_{_b, _a}, targets:T_{_b, _a}}\n",
       "    core type: NamedExprs\n",
       "    element: 23\n",
       "    targets: 24\n",
       "21. B_{_b, _a}\n",
       "    core type: IndexedVar\n",
       "variable: 25\n",
       "indices: 29\n",
       "22. S_{_b, _a}\n",
       "    core type: IndexedVar\n",
       "variable: 26\n",
       "indices: 29\n",
       "23. C_{_b, _a}\n",
       "    core type: IndexedVar\n",
       "variable: 27\n",
       "indices: 29\n",
       "24. T_{_b, _a}\n",
       "    core type: IndexedVar\n",
       "variable: 28\n",
       "indices: 29\n",
       "25. B\n",
       "    core type: Variable\n",
       "    sub-expressions: \n",
       "26. S\n",
       "    core type: Variable\n",
       "    sub-expressions: \n",
       "27. C\n",
       "    core type: Variable\n",
       "    sub-expressions: \n",
       "28. T\n",
       "    core type: Variable\n",
       "    sub-expressions: \n",
       "29. (_b, _a)\n",
       "    core type: ExprTuple\n",
       "    sub-expressions: 30, 31\n",
       "30. _b\n",
       "    core type: Variable\n",
       "    sub-expressions: \n",
       "31. _a\n",
       "    core type: Variable\n",
       "    sub-expressions: "
      ]
     },
     "metadata": {},
     "output_type": "display_data"
    }
   ],
   "source": [
    "# display the expression information\n",
    "stored_expr.expr_info()"
   ]
  },
  {
   "cell_type": "code",
   "execution_count": null,
   "metadata": {},
   "outputs": [],
   "source": []
  }
 ],
 "metadata": {
  "kernelspec": {
   "display_name": "Python 3",
   "language": "python",
   "name": "python3"
  }
 },
 "nbformat": 4,
 "nbformat_minor": 0
}