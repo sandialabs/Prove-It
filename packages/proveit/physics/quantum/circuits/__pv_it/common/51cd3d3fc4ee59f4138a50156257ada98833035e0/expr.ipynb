{
 "cells": [
  {
   "cell_type": "markdown",
   "metadata": {},
   "source": [
    "Expression of type <a class=\"ProveItLink\" href=\"../../../../../../../../doc/html/api/proveit.VertExprArray.html\">VertExprArray</a>\n",
    "=======================\n",
    "# from the theory of <a class=\"ProveItLink\" href=\"../../../_theory_nbs_/theory.ipynb\">proveit.physics.quantum.circuits</a>"
   ]
  },
  {
   "cell_type": "code",
   "execution_count": 1,
   "metadata": {},
   "outputs": [],
   "source": [
    "import proveit\n",
    "# Automation is not needed when building an expression:\n",
    "proveit.defaults.automation = False # This will speed things up.\n",
    "proveit.defaults.inline_pngs = False # Makes files smaller.\n",
    "%load_expr # Load the stored expression as 'stored_expr'\n",
    "# import Expression classes needed to build the expression\n",
    "from proveit import B, ExprRange, Function, IndexedVar, S, Variable, VertExprArray, k, n, p\n",
    "from proveit.logic import InvImage\n",
    "from proveit.numbers import one\n",
    "from proveit.physics.quantum.circuits import MultiQubitElem"
   ]
  },
  {
   "cell_type": "code",
   "execution_count": 2,
   "metadata": {},
   "outputs": [
    {
     "data": {
      "text/html": [
       "<strong id=\"expr\">expr:</strong> <a class=\"ProveItLink\" href=\"expr.ipynb\"><img src=\"expr.png\" style=\"display:inline;vertical-align:middle;\" /></a><br>"
      ],
      "text/plain": [
       "<IPython.core.display.HTML object>"
      ]
     },
     "metadata": {},
     "output_type": "display_data"
    }
   ],
   "source": [
    "# build up the expression from sub-expressions\n",
    "sub_expr1 = Variable(\"_b\", latex_format = r\"{_{-}b}\")\n",
    "sub_expr2 = Variable(\"_a\", latex_format = r\"{_{-}a}\")\n",
    "sub_expr3 = [Function(p, [sub_expr1]), sub_expr2]\n",
    "expr = VertExprArray(ExprRange(sub_expr1, [ExprRange(sub_expr2, MultiQubitElem(element = IndexedVar(B, sub_expr3), targets = Function(InvImage(p), [IndexedVar(S, sub_expr3)])), one, k)], one, n))"
   ]
  },
  {
   "cell_type": "code",
   "execution_count": 3,
   "metadata": {},
   "outputs": [
    {
     "name": "stdout",
     "output_type": "stream",
     "text": [
      "Passed sanity check: expr matches stored_expr\n"
     ]
    }
   ],
   "source": [
    "# check that the built expression is the same as the stored expression\n",
    "assert expr == stored_expr\n",
    "assert expr._style_id == stored_expr._style_id\n",
    "print(\"Passed sanity check: expr matches stored_expr\")"
   ]
  },
  {
   "cell_type": "code",
   "execution_count": 4,
   "metadata": {},
   "outputs": [
    {
     "name": "stdout",
     "output_type": "stream",
     "text": [
      "\\begin{array}{cccc} \n",
      " \\begin{array}{c} \\Qcircuit@C=1em @R=.7em{\n",
      "& & \\gate{B_{p\\left(1\\right), 1}~\\mbox{on}~p^{\\leftarrow}\\left(S_{p\\left(1\\right), 1}\\right)} & \\qw \n",
      "} \\end{array} & \\begin{array}{c} \\Qcircuit@C=1em @R=.7em{\n",
      "& & \\gate{B_{p\\left(2\\right), 1}~\\mbox{on}~p^{\\leftarrow}\\left(S_{p\\left(2\\right), 1}\\right)} & \\qw \n",
      "} \\end{array} & \\cdots & \\begin{array}{c} \\Qcircuit@C=1em @R=.7em{\n",
      "& & \\gate{B_{p\\left(n\\right), 1}~\\mbox{on}~p^{\\leftarrow}\\left(S_{p\\left(n\\right), 1}\\right)} & \\qw \n",
      "} \\end{array} \\\\\n",
      "\\begin{array}{c} \\Qcircuit@C=1em @R=.7em{\n",
      "& & \\gate{B_{p\\left(1\\right), 2}~\\mbox{on}~p^{\\leftarrow}\\left(S_{p\\left(1\\right), 2}\\right)} & \\qw \n",
      "} \\end{array} & \\begin{array}{c} \\Qcircuit@C=1em @R=.7em{\n",
      "& & \\gate{B_{p\\left(2\\right), 2}~\\mbox{on}~p^{\\leftarrow}\\left(S_{p\\left(2\\right), 2}\\right)} & \\qw \n",
      "} \\end{array} & \\cdots & \\begin{array}{c} \\Qcircuit@C=1em @R=.7em{\n",
      "& & \\gate{B_{p\\left(n\\right), 2}~\\mbox{on}~p^{\\leftarrow}\\left(S_{p\\left(n\\right), 2}\\right)} & \\qw \n",
      "} \\end{array} \\\\\n",
      "\\vdots & \\vdots & \\ddots & \\vdots \\\\\n",
      "\\begin{array}{c} \\Qcircuit@C=1em @R=.7em{\n",
      "& & \\gate{B_{p\\left(1\\right), k}~\\mbox{on}~p^{\\leftarrow}\\left(S_{p\\left(1\\right), k}\\right)} & \\qw \n",
      "} \\end{array} & \\begin{array}{c} \\Qcircuit@C=1em @R=.7em{\n",
      "& & \\gate{B_{p\\left(2\\right), k}~\\mbox{on}~p^{\\leftarrow}\\left(S_{p\\left(2\\right), k}\\right)} & \\qw \n",
      "} \\end{array} & \\cdots & \\begin{array}{c} \\Qcircuit@C=1em @R=.7em{\n",
      "& & \\gate{B_{p\\left(n\\right), k}~\\mbox{on}~p^{\\leftarrow}\\left(S_{p\\left(n\\right), k}\\right)} & \\qw \n",
      "} \\end{array} \\\\\n",
      "\\end{array}\n",
      "\n"
     ]
    }
   ],
   "source": [
    "# Show the LaTeX representation of the expression for convenience if you need it.\n",
    "print(stored_expr.latex())"
   ]
  },
  {
   "cell_type": "code",
   "execution_count": 5,
   "metadata": {},
   "outputs": [
    {
     "data": {
      "text/html": [
       "<table>\n",
       "<tr><th>name</th><th>description</th><th>default</th><th>current value</th><th>related methods</th></tr><tr><td>justification</td><td>justify to the 'left', 'center', or 'right' in the array cells</td><td>center</td><td>center</td><td>with_justification</td></tr>\n",
       "</table>\n"
      ],
      "text/plain": [
       "style name: justification\n",
       "description: justify to the 'left', 'center', or 'right' in the array cells\n",
       "default: center\n",
       "current value: center\n",
       "related methods: with_justification"
      ]
     },
     "metadata": {},
     "output_type": "display_data"
    }
   ],
   "source": [
    "stored_expr.style_options()"
   ]
  },
  {
   "cell_type": "code",
   "execution_count": 6,
   "metadata": {},
   "outputs": [
    {
     "data": {
      "text/html": [
       "<table><tr><th>&nbsp;</th><th>core type</th><th>sub-expressions</th><th>expression</th></tr>\n",
       "<tr><td>0</td><td>ExprTuple</td><td>1</td><td><a class=\"ProveItLink\" href=\"expr.ipynb\"><img src=\"expr.png\" style=\"display:inline;vertical-align:middle;\" /></a></td></tr>\n",
       "<tr><td>1</td><td>ExprRange</td><td>lambda_map:&nbsp;2<br>start_index:&nbsp;7<br>end_index:&nbsp;3<br></td><td><a class=\"ProveItLink\" href=\"../47e8bc7ea44900f719da65526179a1ad022ce1b30/expr.ipynb\"><img src=\"../47e8bc7ea44900f719da65526179a1ad022ce1b30/expr.png\" style=\"display:inline;vertical-align:middle;\" /></a></td></tr>\n",
       "<tr><td>2</td><td>Lambda</td><td>parameter:&nbsp;27<br>body:&nbsp;4<br></td><td><a class=\"ProveItLink\" href=\"../d98cd85ac161a0da38d4b2a21bf4ad2fcbf9976a0/expr.ipynb\"><img src=\"../d98cd85ac161a0da38d4b2a21bf4ad2fcbf9976a0/expr.png\" style=\"display:inline;vertical-align:middle;\" /></a></td></tr>\n",
       "<tr><td>3</td><td>Variable</td><td></td><td><a class=\"ProveItLink\" href=\"../../../../../../__pv_it/common/8968bb04eb3f7dfa02353397ce929b025bbd79c20/expr.ipynb\"><img src=\"../../../../../../__pv_it/common/8968bb04eb3f7dfa02353397ce929b025bbd79c20/expr.png\" style=\"display:inline;vertical-align:middle;\" /></a></td></tr>\n",
       "<tr><td>4</td><td>ExprTuple</td><td>5</td><td><a class=\"ProveItLink\" href=\"../cc1942d731a9e634646051c0efff35a5951ff5420/expr.ipynb\"><img src=\"../cc1942d731a9e634646051c0efff35a5951ff5420/expr.png\" style=\"display:inline;vertical-align:middle;\" /></a></td></tr>\n",
       "<tr><td>5</td><td>ExprRange</td><td>lambda_map:&nbsp;6<br>start_index:&nbsp;7<br>end_index:&nbsp;8<br></td><td><a class=\"ProveItLink\" href=\"../0c4efa2a13b7b22917144645337b6021037d154c0/expr.ipynb\"><img src=\"../0c4efa2a13b7b22917144645337b6021037d154c0/expr.png\" style=\"display:inline;vertical-align:middle;\" /></a></td></tr>\n",
       "<tr><td>6</td><td>Lambda</td><td>parameter:&nbsp;24<br>body:&nbsp;10<br></td><td><a class=\"ProveItLink\" href=\"../16f7c7894070bdc4c36c3cd8121b19cf9ecd08da0/expr.ipynb\"><img src=\"../16f7c7894070bdc4c36c3cd8121b19cf9ecd08da0/expr.png\" style=\"display:inline;vertical-align:middle;\" /></a></td></tr>\n",
       "<tr><td>7</td><td>Literal</td><td></td><td><a class=\"ProveItLink\" href=\"../../../../../../numbers/numerals/__pv_it/common/682157d4892d216d9e5626ed533aff9b56b9506e0/expr.ipynb\"><img src=\"../../../../../../numbers/numerals/__pv_it/common/682157d4892d216d9e5626ed533aff9b56b9506e0/expr.png\" style=\"display:inline;vertical-align:middle;\" /></a></td></tr>\n",
       "<tr><td>8</td><td>Variable</td><td></td><td><a class=\"ProveItLink\" href=\"../../../../../../__pv_it/common/63b7c64bf9ec7a04ecc396c7a1670f3f12fb59490/expr.ipynb\"><img src=\"../../../../../../__pv_it/common/63b7c64bf9ec7a04ecc396c7a1670f3f12fb59490/expr.png\" style=\"display:inline;vertical-align:middle;\" /></a></td></tr>\n",
       "<tr><td>9</td><td>ExprTuple</td><td>24</td><td><a class=\"ProveItLink\" href=\"../../../../../../core_expr_types/__pv_it/common/4b0dd6be36d76552eda6a95d5b4a27f5a5b62f900/expr.ipynb\"><img src=\"../../../../../../core_expr_types/__pv_it/common/4b0dd6be36d76552eda6a95d5b4a27f5a5b62f900/expr.png\" style=\"display:inline;vertical-align:middle;\" /></a></td></tr>\n",
       "<tr><td>10</td><td>Operation</td><td>operator:&nbsp;11<br>operands:&nbsp;12<br></td><td><a class=\"ProveItLink\" href=\"../ac60ebf5e6dfd8b8ca186dc8339e7bf357760bf00/expr.ipynb\"><img src=\"../ac60ebf5e6dfd8b8ca186dc8339e7bf357760bf00/expr.png\" style=\"display:inline;vertical-align:middle;\" /></a></td></tr>\n",
       "<tr><td>11</td><td>Literal</td><td></td><td><a class=\"ProveItLink\" href=\"../5eaa43008f05c06941080a12337ff182ea14996e0/expr.ipynb\"><img src=\"../5eaa43008f05c06941080a12337ff182ea14996e0/expr.png\" style=\"display:inline;vertical-align:middle;\" /></a></td></tr>\n",
       "<tr><td>12</td><td>NamedExprs</td><td>element: 13<br>targets: 14<br></td><td><a class=\"ProveItLink\" href=\"../a3dcfa0368b9faf07209656faea2a464ad0e716e0/expr.ipynb\"><img src=\"../a3dcfa0368b9faf07209656faea2a464ad0e716e0/expr.png\" style=\"display:inline;vertical-align:middle;\" /></a></td></tr>\n",
       "<tr><td>13</td><td>IndexedVar</td><td>variable:&nbsp;15<br>indices:&nbsp;22<br></td><td><a class=\"ProveItLink\" href=\"../c4cf42da8f8ddbd787e2d04660895274525e01be0/expr.ipynb\"><img src=\"../c4cf42da8f8ddbd787e2d04660895274525e01be0/expr.png\" style=\"display:inline;vertical-align:middle;\" /></a></td></tr>\n",
       "<tr><td>14</td><td>Operation</td><td>operator:&nbsp;16<br>operand:&nbsp;20<br></td><td><a class=\"ProveItLink\" href=\"../511fc3b1ef4936f8ebd75192d2f4931597f859d90/expr.ipynb\"><img src=\"../511fc3b1ef4936f8ebd75192d2f4931597f859d90/expr.png\" style=\"display:inline;vertical-align:middle;\" /></a></td></tr>\n",
       "<tr><td>15</td><td>Variable</td><td></td><td><a class=\"ProveItLink\" href=\"../../../../../../__pv_it/common/a9162d1c3cc0470c02e5daf414500903a7a419230/expr.ipynb\"><img src=\"../../../../../../__pv_it/common/a9162d1c3cc0470c02e5daf414500903a7a419230/expr.png\" style=\"display:inline;vertical-align:middle;\" /></a></td></tr>\n",
       "<tr><td>16</td><td>Operation</td><td>operator:&nbsp;18<br>operand:&nbsp;25<br></td><td><a class=\"ProveItLink\" href=\"../eda6c636e2c976c68a83c878ad1d4096671c4a280/expr.ipynb\"><img src=\"../eda6c636e2c976c68a83c878ad1d4096671c4a280/expr.png\" style=\"display:inline;vertical-align:middle;\" /></a></td></tr>\n",
       "<tr><td>17</td><td>ExprTuple</td><td>20</td><td><a class=\"ProveItLink\" href=\"../4faf63233ec68b48f9053a262223215384441de00/expr.ipynb\"><img src=\"../4faf63233ec68b48f9053a262223215384441de00/expr.png\" style=\"display:inline;vertical-align:middle;\" /></a></td></tr>\n",
       "<tr><td>18</td><td>Literal</td><td></td><td><a class=\"ProveItLink\" href=\"../../../../../../logic/sets/functions/images/__pv_it/common/c0d1fd92112cd0ca4e7bbe9bec942efee05eb9500/expr.ipynb\"><img src=\"../../../../../../logic/sets/functions/images/__pv_it/common/c0d1fd92112cd0ca4e7bbe9bec942efee05eb9500/expr.png\" style=\"display:inline;vertical-align:middle;\" /></a></td></tr>\n",
       "<tr><td>19</td><td>ExprTuple</td><td>25</td><td><a class=\"ProveItLink\" href=\"../527c551ff60aa90c443f150751d409424a4630a80/expr.ipynb\"><img src=\"../527c551ff60aa90c443f150751d409424a4630a80/expr.png\" style=\"display:inline;vertical-align:middle;\" /></a></td></tr>\n",
       "<tr><td>20</td><td>IndexedVar</td><td>variable:&nbsp;21<br>indices:&nbsp;22<br></td><td><a class=\"ProveItLink\" href=\"../45a993442721aaa2406f0984d0901528bda729ee0/expr.ipynb\"><img src=\"../45a993442721aaa2406f0984d0901528bda729ee0/expr.png\" style=\"display:inline;vertical-align:middle;\" /></a></td></tr>\n",
       "<tr><td>21</td><td>Variable</td><td></td><td><a class=\"ProveItLink\" href=\"../../../../../../__pv_it/common/38f47c5670ea8c5b56253448e95d8afb56bc09b40/expr.ipynb\"><img src=\"../../../../../../__pv_it/common/38f47c5670ea8c5b56253448e95d8afb56bc09b40/expr.png\" style=\"display:inline;vertical-align:middle;\" /></a></td></tr>\n",
       "<tr><td>22</td><td>ExprTuple</td><td>23, 24</td><td><a class=\"ProveItLink\" href=\"../7dcb055e29a7eba2391f38705d3ce62334477a9e0/expr.ipynb\"><img src=\"../7dcb055e29a7eba2391f38705d3ce62334477a9e0/expr.png\" style=\"display:inline;vertical-align:middle;\" /></a></td></tr>\n",
       "<tr><td>23</td><td>Operation</td><td>operator:&nbsp;25<br>operand:&nbsp;27<br></td><td><a class=\"ProveItLink\" href=\"../1d8a630dcc5d08f832c7a22a996cc52117c8378b0/expr.ipynb\"><img src=\"../1d8a630dcc5d08f832c7a22a996cc52117c8378b0/expr.png\" style=\"display:inline;vertical-align:middle;\" /></a></td></tr>\n",
       "<tr><td>24</td><td>Variable</td><td></td><td><a class=\"ProveItLink\" href=\"../../../../../../core_expr_types/__pv_it/common/006c465e50948aa2b52285e2de47974f741255cc0/expr.ipynb\"><img src=\"../../../../../../core_expr_types/__pv_it/common/006c465e50948aa2b52285e2de47974f741255cc0/expr.png\" style=\"display:inline;vertical-align:middle;\" /></a></td></tr>\n",
       "<tr><td>25</td><td>Variable</td><td></td><td><a class=\"ProveItLink\" href=\"../../../../../../__pv_it/common/bbfd8ec921873eb340439a30c11dc66622cd75e90/expr.ipynb\"><img src=\"../../../../../../__pv_it/common/bbfd8ec921873eb340439a30c11dc66622cd75e90/expr.png\" style=\"display:inline;vertical-align:middle;\" /></a></td></tr>\n",
       "<tr><td>26</td><td>ExprTuple</td><td>27</td><td><a class=\"ProveItLink\" href=\"../../../../../../core_expr_types/expr_arrays/__pv_it/common/18f7318b68e45ff8356043b6e71619fa8450fb200/expr.ipynb\"><img src=\"../../../../../../core_expr_types/expr_arrays/__pv_it/common/18f7318b68e45ff8356043b6e71619fa8450fb200/expr.png\" style=\"display:inline;vertical-align:middle;\" /></a></td></tr>\n",
       "<tr><td>27</td><td>Variable</td><td></td><td><a class=\"ProveItLink\" href=\"../../../../../../core_expr_types/expr_arrays/__pv_it/common/9a18d67b443cf8d92289c655ed91ec78766170a90/expr.ipynb\"><img src=\"../../../../../../core_expr_types/expr_arrays/__pv_it/common/9a18d67b443cf8d92289c655ed91ec78766170a90/expr.png\" style=\"display:inline;vertical-align:middle;\" /></a></td></tr>\n",
       "</table>\n"
      ],
      "text/plain": [
       "0. VertExprArray(([MULTI_QUBIT_ELEM]{element:B_{p(1), 1}, targets:p^*(S_{p(1), 1})}, [MULTI_QUBIT_ELEM]{element:B_{p(1), 2}, targets:p^*(S_{p(1), 2})}, ..., [MULTI_QUBIT_ELEM]{element:B_{p(1), k}, targets:p^*(S_{p(1), k})}), ([MULTI_QUBIT_ELEM]{element:B_{p(2), 1}, targets:p^*(S_{p(2), 1})}, [MULTI_QUBIT_ELEM]{element:B_{p(2), 2}, targets:p^*(S_{p(2), 2})}, ..., [MULTI_QUBIT_ELEM]{element:B_{p(2), k}, targets:p^*(S_{p(2), k})}), ..., ([MULTI_QUBIT_ELEM]{element:B_{p(n), 1}, targets:p^*(S_{p(n), 1})}, [MULTI_QUBIT_ELEM]{element:B_{p(n), 2}, targets:p^*(S_{p(n), 2})}, ..., [MULTI_QUBIT_ELEM]{element:B_{p(n), k}, targets:p^*(S_{p(n), k})}))\n",
       "   core type: ExprTuple\n",
       "   sub-expressions: 1\n",
       "1. ([MULTI_QUBIT_ELEM]{element:B_{p(1), 1}, targets:p^*(S_{p(1), 1})}, [MULTI_QUBIT_ELEM]{element:B_{p(1), 2}, targets:p^*(S_{p(1), 2})}, ..., [MULTI_QUBIT_ELEM]{element:B_{p(1), k}, targets:p^*(S_{p(1), k})}), ([MULTI_QUBIT_ELEM]{element:B_{p(2), 1}, targets:p^*(S_{p(2), 1})}, [MULTI_QUBIT_ELEM]{element:B_{p(2), 2}, targets:p^*(S_{p(2), 2})}, ..., [MULTI_QUBIT_ELEM]{element:B_{p(2), k}, targets:p^*(S_{p(2), k})}), ..., ([MULTI_QUBIT_ELEM]{element:B_{p(n), 1}, targets:p^*(S_{p(n), 1})}, [MULTI_QUBIT_ELEM]{element:B_{p(n), 2}, targets:p^*(S_{p(n), 2})}, ..., [MULTI_QUBIT_ELEM]{element:B_{p(n), k}, targets:p^*(S_{p(n), k})})\n",
       "   core type: ExprRange\n",
       "   lambda_map: 2\n",
       "   start_index: 7\n",
       "   end_index: 3\n",
       "2. _b -> ([MULTI_QUBIT_ELEM]{element:B_{p(_b), 1}, targets:p^*(S_{p(_b), 1})}, [MULTI_QUBIT_ELEM]{element:B_{p(_b), 2}, targets:p^*(S_{p(_b), 2})}, ..., [MULTI_QUBIT_ELEM]{element:B_{p(_b), k}, targets:p^*(S_{p(_b), k})})\n",
       "   core type: Lambda\n",
       "   parameter: 27\n",
       "   body: 4\n",
       "3. n\n",
       "   core type: Variable\n",
       "   sub-expressions: \n",
       "4. ([MULTI_QUBIT_ELEM]{element:B_{p(_b), 1}, targets:p^*(S_{p(_b), 1})}, [MULTI_QUBIT_ELEM]{element:B_{p(_b), 2}, targets:p^*(S_{p(_b), 2})}, ..., [MULTI_QUBIT_ELEM]{element:B_{p(_b), k}, targets:p^*(S_{p(_b), k})})\n",
       "   core type: ExprTuple\n",
       "   sub-expressions: 5\n",
       "5. [MULTI_QUBIT_ELEM]{element:B_{p(_b), 1}, targets:p^*(S_{p(_b), 1})}, [MULTI_QUBIT_ELEM]{element:B_{p(_b), 2}, targets:p^*(S_{p(_b), 2})}, ..., [MULTI_QUBIT_ELEM]{element:B_{p(_b), k}, targets:p^*(S_{p(_b), k})}\n",
       "   core type: ExprRange\n",
       "   lambda_map: 6\n",
       "   start_index: 7\n",
       "   end_index: 8\n",
       "6. _a -> [MULTI_QUBIT_ELEM]{element:B_{p(_b), _a}, targets:p^*(S_{p(_b), _a})}\n",
       "   core type: Lambda\n",
       "   parameter: 24\n",
       "   body: 10\n",
       "7. 1\n",
       "   core type: Literal\n",
       "   sub-expressions: \n",
       "8. k\n",
       "   core type: Variable\n",
       "   sub-expressions: \n",
       "9. (_a)\n",
       "   core type: ExprTuple\n",
       "   sub-expressions: 24\n",
       "10. [MULTI_QUBIT_ELEM]{element:B_{p(_b), _a}, targets:p^*(S_{p(_b), _a})}\n",
       "    core type: Operation\n",
       "    operator: 11\n",
       "    operands: 12\n",
       "11. MULTI_QUBIT_ELEM\n",
       "    core type: Literal\n",
       "    sub-expressions: \n",
       "12. {element:B_{p(_b), _a}, targets:p^*(S_{p(_b), _a})}\n",
       "    core type: NamedExprs\n",
       "    element: 13\n",
       "    targets: 14\n",
       "13. B_{p(_b), _a}\n",
       "    core type: IndexedVar\n",
       "variable: 15\n",
       "indices: 22\n",
       "14. p^*(S_{p(_b), _a})\n",
       "    core type: Operation\n",
       "    operator: 16\n",
       "    operand: 20\n",
       "15. B\n",
       "    core type: Variable\n",
       "    sub-expressions: \n",
       "16. p^*\n",
       "    core type: Operation\n",
       "    operator: 18\n",
       "    operand: 25\n",
       "17. (S_{p(_b), _a})\n",
       "    core type: ExprTuple\n",
       "    sub-expressions: 20\n",
       "18. INV_IMAGE\n",
       "    core type: Literal\n",
       "    sub-expressions: \n",
       "19. (p)\n",
       "    core type: ExprTuple\n",
       "    sub-expressions: 25\n",
       "20. S_{p(_b), _a}\n",
       "    core type: IndexedVar\n",
       "variable: 21\n",
       "indices: 22\n",
       "21. S\n",
       "    core type: Variable\n",
       "    sub-expressions: \n",
       "22. (p(_b), _a)\n",
       "    core type: ExprTuple\n",
       "    sub-expressions: 23, 24\n",
       "23. p(_b)\n",
       "    core type: Operation\n",
       "    operator: 25\n",
       "    operand: 27\n",
       "24. _a\n",
       "    core type: Variable\n",
       "    sub-expressions: \n",
       "25. p\n",
       "    core type: Variable\n",
       "    sub-expressions: \n",
       "26. (_b)\n",
       "    core type: ExprTuple\n",
       "    sub-expressions: 27\n",
       "27. _b\n",
       "    core type: Variable\n",
       "    sub-expressions: "
      ]
     },
     "metadata": {},
     "output_type": "display_data"
    }
   ],
   "source": [
    "# display the expression information\n",
    "stored_expr.expr_info()"
   ]
  },
  {
   "cell_type": "code",
   "execution_count": null,
   "metadata": {},
   "outputs": [],
   "source": []
  }
 ],
 "metadata": {
  "kernelspec": {
   "display_name": "Python 3",
   "language": "python",
   "name": "python3"
  }
 },
 "nbformat": 4,
 "nbformat_minor": 0
}