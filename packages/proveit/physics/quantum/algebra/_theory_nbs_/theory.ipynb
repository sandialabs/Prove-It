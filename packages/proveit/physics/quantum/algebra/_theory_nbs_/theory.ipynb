{
 "cells": [
  {
   "cell_type": "markdown",
   "metadata": {},
   "source": [
    "Theory of <a class=\"ProveItLink\" href=\"../../../../_theory_nbs_/theory.ipynb\">proveit</a>.<a class=\"ProveItLink\" href=\"../../../_theory_nbs_/theory.ipynb\">physics</a>.<a class=\"ProveItLink\" href=\"../../_theory_nbs_/theory.ipynb\">quantum</a>.algebra\n",
    "========\n",
    "\n",
    "The \"quantum\" algebra is defined by algebra on Hilbert spaces, inner product spaces over complex numbers.  Bra and ket notation is defined in this package, as well as `Qmult` for \"multiplying\" a sequence of bra's, ket's, and/or quantum operators."
   ]
  },
  {
   "cell_type": "code",
   "execution_count": 1,
   "metadata": {},
   "outputs": [
    {
     "data": {
      "text/html": [
       "<h3>Local content of this theory</h3>"
      ],
      "text/plain": [
       "<IPython.core.display.HTML object>"
      ]
     },
     "metadata": {},
     "output_type": "display_data"
    },
    {
     "data": {
      "text/html": [
       "<table><tr>\n",
       "<th><a class=\"ProveItLink\" href=\"common.ipynb\">common expressions</a></th>\n",
       "<th><a class=\"ProveItLink\" href=\"axioms.ipynb\">axioms</a></th>\n",
       "<th><a class=\"ProveItLink\" href=\"theorems.ipynb\">theorems</a></th>\n",
       "<th><a class=\"ProveItLink\" href=\"demonstrations.ipynb\">demonstrations</a></th>\n",
       "</tr></table>\n",
       "<h3>Sub-theories</h3>\n"
      ],
      "text/plain": [
       "<IPython.core.display.HTML object>"
      ]
     },
     "metadata": {},
     "output_type": "display_data"
    },
    {
     "data": {
      "text/html": [
       "<h3>All axioms contained within this theory</h3>"
      ],
      "text/plain": [
       "<IPython.core.display.HTML object>"
      ]
     },
     "metadata": {},
     "output_type": "display_data"
    },
    {
     "data": {
      "text/html": [
       "<dt><a class=\"ProveItLink\" href=\"axioms.ipynb#ket_zero_def\">proveit.physics.quantum.algebra.ket_zero_def</a></dt><dd><a class=\"ProveItLink\" href=\"../__pv_it/axioms/3e54a8dd88a104f7713a7d6a665a594620eff24a0/expr.ipynb\"><img src=\"data:image/png;base64,iVBORw0KGgoAAAANSUhEUgAAAF0AAAAVBAMAAADWVP/xAAAAMFBMVEX///8AAAAAAAAAAAAAAAAA\n",
       "AAAAAAAAAAAAAAAAAAAAAAAAAAAAAAAAAAAAAAAAAAAv3aB7AAAAD3RSTlMAIolEdjKZzVQQ3Wa7\n",
       "q+/tGue1AAAACXBIWXMAAA7EAAAOxAGVKw4bAAABmElEQVQoz3XTMUjDQBQG4L9p0yZNrJlFMGgH\n",
       "B0UHd+Ogm9i5INY6OLjUTRExOOjYDOIgRetWOmVycNAIjgpddBMK4qyIaIuL75pcCXf1QZq7x9eX\n",
       "u9wLLPRCxYCwBswnwqFZkHnKFRJzoVfy69BKsj+kq+hFk/ElCym/53dwZqEucb0C/fkg8hlXvwR2\n",
       "mTfqUAJMSj5N1bAS+WtgCrhi3mxB62JU8jnE/CNQ9ZDzyA+XoHaQEV8GjuP+G1hzkfHJX5D/hWaL\n",
       "vhzzOvM+lBb5MRvqF8INp5u9aLHxXswnPsk7MCqRp+mGWL8hehtam63HRpLqr4r+Nb4e8vMO1I9w\n",
       "v1onPJ1/Pdtv1UWS1TcDGF1gW1x/fD14AG49aHV2Xm2kK0gEYv177tlfboBNwAhYPzRwXoAiNhem\n",
       "2c+MBf2H7llXf6PH28yf5p8oIZ1vka6X930fTXqAXl6mDs7O8n7GkeSzvMU13qMY6fc/7iRv8BZX\n",
       "+qmtvqfmlYKXOOEJ9k4izz4FMWrR3eEJk3pyMRwODfh8E46QWAD+ACZBZgCqtNF4AAAAAElFTkSu\n",
       "QmCC\n",
       "\" style=\"display:inline;vertical-align:middle;\" /></a></dd>"
      ],
      "text/plain": [
       "<IPython.core.display.HTML object>"
      ]
     },
     "metadata": {},
     "output_type": "display_data"
    },
    {
     "data": {
      "text/html": [
       "<dt><a class=\"ProveItLink\" href=\"axioms.ipynb#ket_one_def\">proveit.physics.quantum.algebra.ket_one_def</a></dt><dd><a class=\"ProveItLink\" href=\"../__pv_it/axioms/e6f6bf2356ecf8190ace216be589ed33260d1a2e0/expr.ipynb\"><img src=\"data:image/png;base64,iVBORw0KGgoAAAANSUhEUgAAAF0AAAAVBAMAAADWVP/xAAAAMFBMVEX///8AAAAAAAAAAAAAAAAA\n",
       "AAAAAAAAAAAAAAAAAAAAAAAAAAAAAAAAAAAAAAAAAAAv3aB7AAAAD3RSTlMAIolEdjLdEKuZze9m\n",
       "u1Q7ZGlWAAAACXBIWXMAAA7EAAAOxAGVKw4bAAABdklEQVQoz23TMUvDQBQH8H9T0zZtenZyEwN2\n",
       "cFIHP0AdnO1UHDvVTTKIKCJ2ERQdqm7iUCcdihb8AGZ1i+AHkG46qQiFIuK7JHc57nLQ9O7x4929\n",
       "ywtqiIaNjFHLWM/H02rT5FNvWmAl8S0frGf6EWDVz5OFvUkJAu6LJw8+0DZ4sQ/cYyc+1O7VmJ63\n",
       "cf518ouGdwK4bVhhcjjun1M/a/gKVdUFGyu+4ktf1i8DH8B0D/af4suB9MzT/QVwSP5X8VZX+rhg\n",
       "pxONLp8PgDkP9o/i3X7qL/X8W7H/Vjwbpn5D9490Hg95Nb/9mfpRhqd6mVpvXsl/o5+fzlMN4ar3\n",
       "ydrS50I9/yvVN4TTh5/WG0Z+ie7e0psLC9Ee+83ihK+sL769x/3x012AgvF+W/Tbqx8BHdqgdDo5\n",
       "AwrLop/xbviCaHHmi9CM7H+8GN4VLW7J0LX0vHn1IVJsiwC/k8TzT0EfB8l/QwSqdC9r8bSU8fnm\n",
       "GlpgFfgHwR9cODOdQZgAAAAASUVORK5CYII=\n",
       "\" style=\"display:inline;vertical-align:middle;\" /></a></dd>"
      ],
      "text/plain": [
       "<IPython.core.display.HTML object>"
      ]
     },
     "metadata": {},
     "output_type": "display_data"
    },
    {
     "data": {
      "text/html": [
       "<dt><a class=\"ProveItLink\" href=\"axioms.ipynb#ket_plus_def\">proveit.physics.quantum.algebra.ket_plus_def</a></dt><dd><a class=\"ProveItLink\" href=\"../__pv_it/axioms/5912ed46f91e762c4c6e5cbd2247bf564cdfc8140/expr.ipynb\"><img src=\"data:image/png;base64,iVBORw0KGgoAAAANSUhEUgAAANsAAAAyBAMAAAAn5rM5AAAAMFBMVEX///8AAAAAAAAAAAAAAAAA\n",
       "AAAAAAAAAAAAAAAAAAAAAAAAAAAAAAAAAAAAAAAAAAAv3aB7AAAAD3RSTlMAIolEdjJmVJnd76u7\n",
       "zRDVRUmUAAAACXBIWXMAAA7EAAAOxAGVKw4bAAADzklEQVRYw7WYz0/TUBzAv+3abpNt7KoxcQkk\n",
       "HjjAyYOJgYM/ju6KGtkfoGFBD0himHgQEg9LNOIkCoknEWRqTPxxYEv0oBeHBzxgcEc1EETHj4QA\n",
       "tt/Xta99pX10tYet7fd936fv+76/WgDP4wMEcSxV+cY1ZQLByY/4xr0wzrqrjfCucY1SKvpJ4vX3\n",
       "hnBikWfUoaRxerYhHNzjGXQXgsINcKgrE4Hh4jnvMQdSgeFCq95jaESDOFjwHjIGweEGPfXltQBx\n",
       "K12eKWUiQFws7+kpxQBxiqev9GQCxCXWAcykITs5ZpK6aE8y8mRdX3YQGQJBv/UUoMU0bZrFfaLO\n",
       "380s2IuDlK3rs8qUIKT7yEcaF3aI+il38/Shvth6w0G5hdQQFJzWzUPjgHWcxKb7ZlRQ/yv8TLLK\n",
       "LXoN0QRxsuu9HQQXQisdZcOu5oqLZLRZlTyIJVP5GLU6zbk0gULW3tNFcGE07mFmvvCGe5jgrLEi\n",
       "hHdM5as2HAqekTjP0bg443nKmivuOs7anAN5w1S241Awj7eaizQunLLPJ7kH5hDOqj6zvG4q23Eo\n",
       "aCO4Eo0j2x0p4IHpRNxxxc3jrEdSuMf5PXAouEyMX7HgbjK+4I4bNXB/TGUGpwkG8FY0r95Vl/Pg\n",
       "CS7nPJOhfxMj7NKHdi+xrd1/TIyZglBNVx4pFCYLhTELThP0ENyEZXV9e+AcjvsmTnUVzYP79lqd\n",
       "JjjuhJuz7x2XMWMlUHZ0ZSfcnNFkojENnFBiekN3z3yPs6rdU6RiKttxKLjk4CpilgkEa9zJ7bh5\n",
       "xnUbmXUUfqVNZRqn1RAUDNWrJ4WLgkeY29N+N5n1R+srSpnCYQ1BwR3icpas0s8msb+Wyws2cTRt\n",
       "pvh+pyRWFwgkKFUfplJ0mU3R65bLl/bF58xZy04pui6IZCwp2ign9sNSgATVIYa/0QYtG7OyyrRA\n",
       "z9+DWQonObzIPbTkmA5VT6Ttu2TMyirTgrLRipwyY9rB1d/SF8sAzwEm6fV21fVZZUog6dVi1qt5\n",
       "6qWbr1sAM1WYTfpuxaY8Gz8qFBOqe71RHzHtlybU9tPWimR7xv9jWxvRm/YrRhaQa75xTZ5Ne4j4\n",
       "oTSt/pwkoV30jWv2fCUhhQYutqfr5fq2/6a9t8o7ZKUICj6b4n9xlndF95flyCpEq6QCC34Dgedl\n",
       "WSEFVtgk1VpOgeT3PSjGY5gv5O9zdVH7Ozg8POLXlp08z3mO2K7zDPbd47u7235xozyDJNIUxKf9\n",
       "5679fKTSP8GFtxr95HeC82NP1uzSGvnAuMg5MJjPp8voKP8AMJcWcsglbEIAAAAASUVORK5CYII=\n",
       "\" style=\"display:inline;vertical-align:middle;\" /></a></dd>"
      ],
      "text/plain": [
       "<IPython.core.display.HTML object>"
      ]
     },
     "metadata": {},
     "output_type": "display_data"
    },
    {
     "data": {
      "text/html": [
       "<dt><a class=\"ProveItLink\" href=\"axioms.ipynb#ket_minus_def\">proveit.physics.quantum.algebra.ket_minus_def</a></dt><dd><a class=\"ProveItLink\" href=\"../__pv_it/axioms/8cf4ee20de6c1e918a0d6d47ed4fabfa75fa2b520/expr.ipynb\"><img src=\"data:image/png;base64,iVBORw0KGgoAAAANSUhEUgAAAPsAAAAyBAMAAABou7DpAAAAMFBMVEX///8AAAAAAAAAAAAAAAAA\n",
       "AAAAAAAAAAAAAAAAAAAAAAAAAAAAAAAAAAAAAAAAAAAv3aB7AAAAD3RSTlMAIolEdjIQzd27VJmr\n",
       "Zu9JOMHMAAAACXBIWXMAAA7EAAAOxAGVKw4bAAAEEklEQVRYw71ZTWgTURCezX+TbLsei6ABexKh\n",
       "vXnS5qAeBDF4EAWxuWkRNPUgIhYDikpVSEDBk4YasFDQqAdFL0HxpGhvIggtFCwF8beNUC36/rJv\n",
       "dt+6+8Rdh067m/fNfNm382bmvQIEyjWIQkbLerj8TCT0yfN6uKf21b5ymPxTWiizIi5SL86ESh9r\n",
       "66DWWfbl7lDp4YoO6BxERX9Hw505Fxl9uhWM6S1ERh//EozBlCHTw+lgyGWIjv5uoL/kcoT0x4qB\n",
       "KW8uQvqeamDktSOkNwNjb2QmQvrUKoBMakmvwLfQzaCljFtdey9jy31FQYZQKh8ANshXUVI93EDX\n",
       "Lz+ddhe/RKNr72FMBruCQPEiVyrXMX3WIwst+k/fJLOPDdzzMp4EBz2plwy0SyidTkwPaiCmfvi/\n",
       "vAqzPwWHLdU4VcH0vF5SULrMlcjsEKbfqC77JV/63Az1bFYhVpPGW9AgfnoauBRktrjSwC5i+n7F\n",
       "f3bFf1kyzz1tyHakcRMNuukZ6L1QkndamD6tRLa57Et/m3nua0FyRRo30aCbnoHGhQL0tTF9tqAE\n",
       "r39iuM88k2dIrkrjJhp00zPQJqGEvobpefg8ukiFl5pYx5d+nHleX2AxUnXRj3vQM9AboeT9VBz0\n",
       "D5TY8qefsOm/SuMmGlToKeiOUIBMla6Jk+x5SUo4oFScz3ySfmGhn6W+08/n+eQXIL4kjMnUfRRT\n",
       "RwZtzzY9BY0IJfRzjqef/AO9h1yS9CT06AqZdD39vNfTU9BWoQr9mPvda01+Tw3MjjAOmvwx0eBP\n",
       "ycm3xagpvbh/5F9lnkk3mqtI4yYadNMz0Fuh7tCLNZSF51z3Sfvdc9nEPU/A0ZI0bqJBTE/rJQPd\n",
       "t1dlr2PdZyAg7bjL2j7u+cjAc2TcRIOIntVLBjorFGjUIPppNel+c9zudw1nSrJkTbvpMyVwF1wG\n",
       "MqpcadItYPq6WnJWHbfP3JPTkp7r7pJjtlT6uihFohw5Sg6ukF1xFFyjAmsfOnb7dduzh3FdoWeg\n",
       "flnc7jYQfcJjI3/BkQOHSOQODuEzAtuzh/GoQs9AdfnNSCu3XeYYj6X1Ct8cgrwFvbj1Nopdew9j\n",
       "Q7bxCJSwuFJ5HdSMzuLm9jH0diCvsTPTlcXARhulglQV8uRnOTR2Y+lvthkx9nozn//jNiMn3vQt\n",
       "OyuNFEOjzwdusuI87yQWyK9typb3H6Uv+ElYYYW9gyXRzuRq4dHPlnUhx9pgsu/6LsQ9nsZEisOV\n",
       "3BfIlHk3uuZ/Hq6YvOEwfvBuZg/AjtC29zoHe8f5n5vlE/RbXHrypBoW/bDOfv0gT5DDO2kBy5Bu\n",
       "oxIW/YQOKMFDPb1ghXu2oHmoKo6Usz9DZofNmoePDdkFhyjJE5rAaP6dcIgF3m/XRRif4nokkQAA\n",
       "AABJRU5ErkJggg==\n",
       "\" style=\"display:inline;vertical-align:middle;\" /></a></dd>"
      ],
      "text/plain": [
       "<IPython.core.display.HTML object>"
      ]
     },
     "metadata": {},
     "output_type": "display_data"
    },
    {
     "data": {
      "text/html": [
       "<dt><a class=\"ProveItLink\" href=\"axioms.ipynb#num_ket_def\">proveit.physics.quantum.algebra.num_ket_def</a></dt><dd><a class=\"ProveItLink\" href=\"../__pv_it/axioms/900622405d888843c6cd488daf560dca8c33bf8f0/expr.ipynb\"><img src=\"data:image/png;base64,iVBORw0KGgoAAAANSUhEUgAAAocAAAAZBAMAAACxyZnLAAAAMFBMVEX///8AAAAAAAAAAAAAAAAA\n",
       "AAAAAAAAAAAAAAAAAAAAAAAAAAAAAAAAAAAAAAAAAAAv3aB7AAAAD3RSTlMAq1RmmUTNIjK7EInv\n",
       "3XZ/CtNrAAAACXBIWXMAAA7EAAAOxAGVKw4bAAAH4klEQVRYw+2Za4gbVRSATzKTncnMJlkQxAeW\n",
       "iFpLa0t8FVt0HXGLYq0OVfCHr4A/ioI6FUFKbTeKomIfi1LW+EPHB5V1azdV19YWy4pI8R2lPtCu\n",
       "pK2l1bV1Faui2PWec2Ymc2cSsy/8Uy/cZO7JuefMfHPvPefeALQupw078H9pVg4P58ejVpxWpw5o\n",
       "MclUrAGUmv2oya5KzZzq43AkWdI9AQmVwn8OMZsH045KJl9uEfWpZj/uk11JeoOh63SptSPJEnZI\n",
       "1bgixA4UntECYgK/koXpgDgHohDnTOmdiJs6s8lvyYrs6sxmEJPWBCFSh/1eFRAXoXBZC4gqWmib\n",
       "jpXRKPL9rIVr1LG8L5lCuQMg0+SnjZFHzzSDCNUJQqQObS5XAfEBnNo9LSDqOF5XTMdAVAt8Pz/B\n",
       "buPWgi+ZQrlA2GuyHlweeXTWG9mx041CfJUG9Y4dPzQywx1kiNhBsbxaIJZmvtWaeIfvaaql3Xup\n",
       "V8MxyBV8yVQMuk3HwFDk0UlvnQvGgShEHB+6ILjZjlvxOsgQaUC9z1VAxNjS1jKwnD9d8WUmQzx/\n",
       "T+fPeYY4c2oG2wrNVqNkMfroQk/vFd99dgQirlSPiWpsiFnxO8iWaGm7jSsS/Gh4+IOWENuHh/dU\n",
       "pgPiYoJojIkylHv9w1NYop16sBYeMnKzQb5RVzA7moUmtcIQl+9cXQ9hqumAYW0niHUrIgSBtRXg\n",
       "RdONWfE6yJawA2zhihCvBHi6JUS1BGl3OiDe5k3nY8qfkPvtjD0uSW5y0n+GlCLNeAkpKEUpYiwZ\n",
       "xvKpP0aFq9QueNYNIstB2AovQj9BDFmpQtYxHcMyYiPF7yBbosgynytCXA5aR4NgJEMUKssnDS5M\n",
       "/zOGaPxijkKuCJsslBjvgBoKkJFmgxAfUkiKlU+1G2ll8uRqUwGW+KPKFhmd+YiFKdugZGURirbd\n",
       "CxBD4XeQLVFScw5XhJh2cWRc4k+PVYtt5W3hL5JsPy0vIhMp55ZgRcDxXYao/5GoQq4G5hBK1FHI\n",
       "VMCY7z8rNfu3nNI0xJOC8i2tWaOAyQM35JBjk6trAb4BeAEfQuiJkXYZDZFByc0DKFIFwdhI9DsE\n",
       "lpgUJjXruSLEZK3N8wj63rKd7NgOV8UhzptwXNF2D8LFHWC8XgJ9bgSityYWIDmKkvYeGLBh3WH/\n",
       "6alp1V97DA8pkC1IDfEK9W4ziO+BcRT0I1VeySzQdpTw6QYlN3NQtHKbWBmjVvwOviUmRcvwTVxp\n",
       "21fsFB/d+EuX2M0kO1WkH4XYptQmQnDdyRvgdNNVXW0xxrGMG5nOC479dFc+V4HsEEoGanCpkM/1\n",
       "dLh5FLqb7cZYQRul6VylWMkNaU3k6WwcA2WU1VDPgpVwgCGG3SwTIq2StRtB5A6BpW4/0NP9zvUg\n",
       "vopJ4AJthLZQkHzwhlrF7FrStUiCaM6cSFxRr8S9ZM0yYRW9tzrEZxhioirmcq4K7RZKBvJwYtKh\n",
       "m0JFbi7Ep4s7NQIFpWe1eNtKD2Vt3JBKukYQf4FE8WyGKPQe1MWbs5cSxLobkUHq+ccBDqRiGbPf\n",
       "IbCEpDjlXMCVIN6Pi+mMezY5ffRmS9vPajAStbfxAV4b8bd+/Z1b4+wCIW4pYdZZq8VCc64tQdzC\n",
       "ENM93XnI/fzwnS5K0rXkbpXeqvEbBE14i5sDRU8etFghcXD2Lk5kxDaAG3Js7CBXz8Bcy2KIQi97\n",
       "Ix5MVBBi3Q3tNg4IYXaO56Hu1O8QWEJSvD1ZzJUgJnDWfJzX4TqGqGZ74hDhJFFfcdZ7EI0v9d/j\n",
       "gwSFquhs0BZilvk83sDphTDEtd5IrIk7yez92yKJMWPb8kM8PYbdoKl/zc0MTrHd4H1kvvYV2vfh\n",
       "4VbGpnyDG3KaXCVXz408MqPEELFi7vycS9G57gZzpDQm2xhkyF/dqdchsISkOKn6nGtwFKb9Kibg\n",
       "/HK5nE+WjEqxAURaM2ENcKRVLX0Iln4npxYkxAOOFJmdBdb3+P2Qrf8YbBkzpeg2IhM8PEJM1icw\n",
       "OkrG5/Ns/6Ibl3BYxWcq3JDLVyFXCJHOXpRDsK4Q3vahGzrf6Szp+xssTV4H3xKRog5alWsAUem5\n",
       "WYPHeSTC0losT/RD614v0rbb2Q4YMkYj4VAI8TxBub1cfkJA7I/vJ3HHLkNUrDDEul/N0hzpNuo5\n",
       "B5cFqapDpww4hrgRP5sIQ0yTxvNHZodPcchNL02kefsarvvcwbdEpKgDPik9rQ8xUVtr8p5EsSHb\n",
       "0fhQ1vgdnnyZp+aAk17oOmLgSUEThW33HQG9wiMxNQ/u7erqkpj1xs4Te8MQN9cH4qMPuaFmsGYE\n",
       "WcIMvVqhFX6j34hGFkeGuLHRURi6Gc9pnG+JSFGHFV4NIKadxEWg4dHv2mWxtD1wsUs/uhAh9kO7\n",
       "s/46F9K2uBQ7Je+DhLl7+rx95IUgBm6s9MUg9nnfK+/eCVBPpD4ZGws3g1PYEPwTSjS69vuNKO+e\n",
       "+iR8468a7G8EEd1kC+OHSKSoQ69XI38P9JfL9r/9PXD9eSMFhLgmn7p83mu07V6T13fBGgc/WLge\n",
       "1+YV4oH0Lxw+EY/k4DXIlqKSyZeD0GCr5pfVsitJ71DoOjGeI/RSpEPW4Tqp/1hwOnM2Zbo1/xIL\n",
       "X42sekmMgTfLG+B4KZOAiJE2xQvw3WNV/xL3X3x1hXkeHF9lfBDvjP7vrDS6VOD4LIf3FP4BQWyC\n",
       "4PDlrCcAAAAASUVORK5CYII=\n",
       "\" style=\"display:inline;vertical-align:middle;\" /></a></dd>"
      ],
      "text/plain": [
       "<IPython.core.display.HTML object>"
      ]
     },
     "metadata": {},
     "output_type": "display_data"
    },
    {
     "data": {
      "text/html": [
       "<dt><a class=\"ProveItLink\" href=\"axioms.ipynb#bra_def\">proveit.physics.quantum.algebra.bra_def</a></dt><dd><a class=\"ProveItLink\" href=\"../__pv_it/axioms/62c8ddcbc2490a9323e872a0ae41d353e97803290/expr.ipynb\"><img src=\"data:image/png;base64,iVBORw0KGgoAAAANSUhEUgAAAmEAAAAfCAMAAACYnOrhAAAANlBMVEX///8AAAAAAAAAAAAAAAAA\n",
       "AAAAAAAAAAAAAAAAAAAAAAAAAAAAAAAAAAAAAAAAAAAAAAAAAABHL6OuAAAAEXRSTlMAq1RmmUTN\n",
       "IjK7EInv3Xbz6T5NtFUAAAAJcEhZcwAADsQAAA7EAZUrDhsAAAezSURBVHja7VvneusoEBW9c1fv\n",
       "/7JLF4hi2c51vN+KH4kjj2YOcJgmZdu+dABjDNvu8V8e1u0h/Fp09MP2Mpv59JvVQvKhGH8GgCSk\n",
       "uu2StoUQf27Wr4J+uBYI3QxLK5POGhPdV4o8uDcKDMTEE7tlKZEVhEvaFkIr08iSCxpeHV4lsRXD\n",
       "QPkKoq9j2MfAQZXXB/4Iw+IKQ3wdwC63GsLAaK9tYXJgmum4hhTynTzWsPJ8mO5paxiVI1AWHQzD\n",
       "xQZlX8ewT4GTxWOa7UcYpqbaZjoOUTMzapbITiZ702QP3EFmY0Be0DAdGHOi95Qu0zGoTDzHMJ79\n",
       "xCA+/DrDPgUOo6mfeIlh0k494kOGRQgjo522lcmB6bjpAFzUMBvCA6QJ747Gq4HwkYdltin4fQz7\n",
       "FDi9SkJeYBjkDw6GZVOGRQgjo522lcmpaYAvaihYhSsJTfFVMDBUi3NwP6nUsjAsZ/t0+0KGfQYc\n",
       "pF20fI9hahDc5TKnKgxLEIZGz6nC0uQsr5gyTA3NEGrlIK3Y1SRIZpUUHRuoPUWNVl9ZS34EHM7q\n",
       "U4LKeVzbXcgnGSZtCLjKl+1NBXFOb8yMYQlC1NkCqbVtD02ehRnVwOcdWldx8hHoQSafcrq4KLud\n",
       "MUyBg2E4TEPIr2TYR8BR1O57OOWcIgJUwzBsqgFGDFMbdBFXOn02xg8z4RQ8hSJMW7GoswXS8XJt\n",
       "ssvYKRjnYQvQM09o9xQk2YxhqApCDOQfX8iwJTg8+dz/uR658UxAlZCEz+I5H8ahY6FbVlZyu6Ma\n",
       "NufsRg46CRlC1HkCUmvbHpvEZ9xizLAV6HF64hzhLvzQeppUQF2lOX6u6TrDVPPex0qljZKborvi\n",
       "vtzdpNh9SmhWO2+tVVy9ybAaXF/VTD77mcFRF2c0N7+u7Z6Er5HMM3mCYe4ebZMCvDXV8PbnH9OM\n",
       "vTSl3Ami+XPe3ORcGiC1tu2xSQ6uMWwFmusMt15fiHYA/djnpTffK4ZBWxJr5XK4sDcmyVkgBCno\n",
       "rA7X/KJ4BXzCMFPiGwbvMuwA9xTDjr/zFLq59QxLOZAtP0IB/1SmH4orddT+B5tPa0VopZbj7NFy\n",
       "qzL2LVsg3dlYm+wO0oRhK9BSTPrDLLIITRlGah/mdhDZLXFHhpu5zr21Bp3VRzExZ1iUiqJvM6yA\n",
       "e5JhmG3NFLq5DaJkquP8wSThLiyfzMNCPsW8ulSBHXlMu1b8lEEL0FazQdsJSJcVrU12KdSUYXPQ\n",
       "k/ZrKiHRIA0rUdLUDFPwmG/0bhjXB6phWAiQiWEaWRsnr9wnV3hQiDEBu3IhlYbGMfOxFFnlpZhC\n",
       "KQhYZQFLN20WIoXmDDvAobAzGs0ZVkkwvJ2m0M6tWfpMYcFy/9XLSMCf7lZgEeNaeoxd9ZbMuvFg\n",
       "GgiJYS2QrE2e+DE22TfE5gybgt7s8HSnEhLv8+YOEjXDmD6sxm9CIKldpDDKDaFzgIwM8xwOzSQK\n",
       "w3oQDZlKToKZ3QRCBSnrpHxBpP0CKhw6BPEm4q4yO2dYAUeYz1gYp1OGNRKi9/LV3NpFydNP4YFS\n",
       "SznCSfAphhE3QacEka5TTK71wxKE9OylAZK0yZ02hicm+ya1EMfPKxriWsBRkEy+zjscfoQ1Wi1X\n",
       "6gDlhibgpd+379qNQE6CtoEPi+RKPiwQmkTnQIT7Lasw5DIgT/YixRwBBErBisl0E98xlIsoWcDZ\n",
       "lPuqKcMaifCsvJ5CM7c2ZJmTo0EuDzfqpY4rB0rY0rKfPeNTfNrTN40nqIFkbcbINqkemjR9AaiB\n",
       "9GUgsF1aPgctgSBySFXnLnbOq5f4TP28K52Kwds7IbTGZgaioSQVcM0wF5SQRm6QdCH+lDkuFSkf\n",
       "HI317bpoPN1ERFVWLcpkm5OFFcMOiVDG1lNo5nZKxPjWHl+MXu/pczh3VXMdZmsgZG01kKINyhOy\n",
       "gclrpq+AJkrUT42OSO6ipMGTp0Ysn9WOYcQcTxbqVsMFH1acgbss82tBppIyyKc80oVZWdWzXA53\n",
       "vb8CInUgnDKskQipftMtqed26m3kazkF0fx1hlVPWQR7nmERQtZWAynaOu86MHnN9HugFyrzyegZ\n",
       "FtNgardTK33MMO8UQnITgp/N3mv3jzuCX/K90hA6rXCX3W/jU0ehgnS8KRwZcYFhCHDg6no1ryVr\n",
       "iZSB1X3NZm4nv59Xldbkf41hqorLl/flqNIjhLar1GrLL0GsTF40/R7oucpSLPQMi2dG281Xgiy/\n",
       "aiCV1q48tL7jKsGON4l9s41Z5MrEqFf5WtJVkTGTV7536GuD2DWB1m+uxQjxsMFBOv2C2CLFLjDM\n",
       "1RS7FmTVragkbK6L+Hhu7SgVQeyMWPMGww4G2+uvTbK9uGZUNeFqIEWb7T1QJ3TR9Hug5yrLie0Y\n",
       "loo6YACLzPJJDHnPJNdv9cNqL2Yf9cMOCVEeR+QpnOY2nHhq4LE6EbePXitW4d30gdgzzUCGAaxu\n",
       "S9pqIL22hcmLpt8EPVBofPv6eDnpI+/p8/2nGCbgI4YVCWK3e3zB+ATDfOj8IYYZ+YhhRQLIe3f/\n",
       "Lwx7cdAL/y/JJp+30/t+9/idYY3R6F6Ge/zq4K7Ou1fhHn+PYGDUqrrHPX5qvPv/v/e4x3r40uzO\n",
       "me/x9wZRCN3FwD3eGf8CoRxLJRnqBlYAAAAASUVORK5CYII=\n",
       "\" style=\"display:inline;vertical-align:middle;\" /></a></dd>"
      ],
      "text/plain": [
       "<IPython.core.display.HTML object>"
      ]
     },
     "metadata": {},
     "output_type": "display_data"
    },
    {
     "data": {
      "text/html": [
       "<dt><a class=\"ProveItLink\" href=\"axioms.ipynb#qmult_of_ket\">proveit.physics.quantum.algebra.qmult_of_ket</a></dt><dd><a class=\"ProveItLink\" href=\"../__pv_it/axioms/bc155234130051aaa3e97c3889e6353b1e436f9f0/expr.ipynb\"><img src=\"data:image/png;base64,iVBORw0KGgoAAAANSUhEUgAAAVgAAAAfBAMAAABQaMgTAAAAMFBMVEX///8AAAAAAAAAAAAAAAAA\n",
       "AAAAAAAAAAAAAAAAAAAAAAAAAAAAAAAAAAAAAAAAAAAv3aB7AAAAD3RSTlMAq1RmmUTNIjK7EInv\n",
       "3XZ/CtNrAAAACXBIWXMAAA7EAAAOxAGVKw4bAAAEmUlEQVRYw9WYX4gbVRTGv2SSzGSSHfOqPmyg\n",
       "iz4oMpC2/l+C28ViKQR8EqVGBUXxYSoFWWrbqQ8+1G0ytBQbxXZQKS7CbnTRukRLYJE+tEraIi7U\n",
       "lClbK3btGtClsIvouXf+ZGY72UZJaXPYZZh8M19+c+65594J0LuINH/CzQulebaXdgnc3MjdGlgN\n",
       "V+dE70xnadNXXRKQ6YZbBqtk8SVSBff0MP23z5wIytts2Aw7rOsVbHdu96ENawFDa8A6sqJy2FH2\n",
       "0Su9gu3KTS76YKvAwBqwjozXOOxeVh9Gr2C7coupbViZUpfKdoR1ZaznsAnTOe0JbFduabRho7r9\n",
       "dB1gXRlpk8EKas96Dtl05XaPDzbl1E0HWFdGQuXd4Ptm81TvukE3bltc2MkRornKJ1wYrE9GKsNh\n",
       "NwPv9w7Wdss7xRl+3UsubPV+fIw/TDaFbNitTRZnHFifDKHIYbdDJOodr+uIVu3J+s1586sV/XFM\n",
       "tMQPfdOCGsji19UbwNpufIqpELzq9dkDZx1YKbsVD7IKjhXCMuuXEa1z2KRJFwrVqSwG6MPSnYeQ\n",
       "zECpowSxhf3tuwdY2mKZG8ByNxvWso/SxUrBs+fxnQMr4wdqTZQEKRMG65chtThs1KIvKWFKwzg9\n",
       "xGb2hRyWUhyA/R2oO11/DVjuxiFFSuuTdNykt+2DsIguE80kWM7DatYnI25nFsVhJpbJFpiHCysf\n",
       "ZbDjw5dMTC+KLw+NDtbMF0xoY+cWnsLO9eS9cFFLDVvKuunAcsvdDGzLCOYcdjhrj2sfLAPEivRE\n",
       "V+hGLbRmfTKiDRv2C7Y64GHgR8h8/JLnazN17GGwZS1aTGRj6nP3Vikxu/4ehXQNl3E3TiKVj1Vf\n",
       "xMiz2B2A5W6GbC0rOIAkMGFr3N6JIx6sIZhxohwL7wY+GYJhw77FhvbYP6dPtxBXvcxiimcWWCoj\n",
       "bpRNPoqlQUuq447CmzhIAyt+2sIz5SfMACx3M8SPGgoeQlTF01yy7Z343IWNn0xhA3vAcFifjFjV\n",
       "ho3w3dk11h2EVyuVA6tgZx/L5Qp0pD+T6pxg06py4gKep8edzW2IH10KwHI3AxHrDSo4qYqNlUol\n",
       "69g7sd9bFPbOLLLNX6PDotCW+ez0tojxBiJ5Zh6WWe4/LquUtAbP7DkcMfeYfIruw8brt4gGmT8i\n",
       "qohpeNdn7/YV3VvB3uZrar7TCubJ2OXfz8bySFjO8uCDLWuCkVRli6CnJH2Jmqi0jN/kZVywklXZ\n",
       "OojJIVaY18NGLGsnL9ik6bO3Q8h7sFf492mdYD0ZI37YtI60dRfGdLYonDIvr+wbzH/yF3bnFoDa\n",
       "ojh4HKktGK3VIP35QB6Xcu9Y9DFSJ6yh+eNhsPKmD6j+f6EOdthn78R7HiwfyWMdt4iezDczHixN\n",
       "6cgZDfJM5dDaa6pU7+JNwbDbLO+3n1UqBdfeiQkPlmd7viOsJ/Ps/vfXGqnVHaxAwx+3wi8ULXw7\n",
       "p3hvXTQVlJ9XwwZk/Pr/3sG2r3QHq7DOYN7Gb7fe7wbOgMu9/d1gFv0cpUf7h1XKJPsHNqn3URUM\n",
       "mHL/wManc7cx3b9KxokoFB0UEgAAAABJRU5ErkJggg==\n",
       "\" style=\"display:inline;vertical-align:middle;\" /></a></dd>"
      ],
      "text/plain": [
       "<IPython.core.display.HTML object>"
      ]
     },
     "metadata": {},
     "output_type": "display_data"
    },
    {
     "data": {
      "text/html": [
       "<dt><a class=\"ProveItLink\" href=\"axioms.ipynb#qmult_of_matrix\">proveit.physics.quantum.algebra.qmult_of_matrix</a></dt><dd><a class=\"ProveItLink\" href=\"../__pv_it/axioms/e3067366bceeab8f876659a383695810398a24700/expr.ipynb\"><img src=\"data:image/png;base64,iVBORw0KGgoAAAANSUhEUgAAAdsAAAAXCAMAAAB0+RV9AAAANlBMVEX///8AAAAAAAAAAAAAAAAA\n",
       "AAAAAAAAAAAAAAAAAAAAAAAAAAAAAAAAAAAAAAAAAAAAAAAAAABHL6OuAAAAEXRSTlMAq1RmmUTN\n",
       "IjK7EInv3Xbz6T5NtFUAAAAJcEhZcwAADsQAAA7EAZUrDhsAAAWFSURBVGje7VqJkqM4DPV927v+\n",
       "/59d+QBMEAGSkO6dGld1pp02kuVnSU9iCLlrpBgN+crQT7Wd2MdrW3VSkh8ZXHCTksCt0N84ff8t\n",
       "yxM70Ha4k5e2mpR0L6OTrmp03kalkjaeOC4DJyRo1A6Zlgmd/8L4p7G9TfY4mB/g4TZnNp9+DpTd\n",
       "hS3LM7KoUjTAhHYMipl8TWWi5VEnshVEu6Tgq+xwOxKfJ2JWovSnsb1N9nih1RoemqeLa2g/wFuw\n",
       "9XGYIEqxIXMNpDwSTS/5vEjS92tUJFDQJsOeHcpNEzM5l7Yfj8m3yR7N5it4NA9TIuI0k+9giynF\n",
       "L2K7CfSiLiOI7XeBFkUBUqkQxOB2cDFPOszEs8/n27tkDyOs4eFaqf6bC/aD2Ca9jy2m9Mmg4lCZ\n",
       "jTDU/IAjk1QHV1mX6xMN28GWBDdNeI/P6gYudZfsIe2pNTyCiIa2lnoKlK9iuwqbTOxjiyl9A1up\n",
       "0jpiW6LHR2Tx++T5nh2Kz5NQ7kgM/g6efJPs4Vj9I7apBcVEeDaXsHUpUWf8EmPialF8hu1WKSJP\n",
       "q0BLRg5hiMqbVbDsIRdrSow/feTwD50nou7Gujdg3FX0vuyDofjKLM2BwJboyRyZM9+CrYjDoA9n\n",
       "IgodTbAGR5Otg61QQ7pFlCLyYLd0k2+3qza8E4CV/AK2XM0TTaePl51nV9GbsqtJ5lmUi2xtliam\n",
       "1CMOfubMd85v4VHwOkCH73hqGq/oVM7sKkXkwSXfYIus2iQwCMgyXcCWhWVS9nyNKuooajoN9ADb\n",
       "lWwzlwoiC/N4cIImDTFNMM6FZL79HRK2aXWDkJwh8SHIlVllbVGSCuNIl7A1a2eE8c+/cTXyXN5o\n",
       "quT6am+UIvIwbLerTJj02SHfXonJJi8Tlk6zHZOotfAQo8QDasIdYbuSzbtVktq1OGepLlHPw3pb\n",
       "AZtw5L4Jr9/HU9hCPcKqN5jLfamQnmRYOeBpxODEqFJEHobtdpXbEm278OQzdsgwEivC07ngO7kb\n",
       "gwdETbReCBHhR+6RtkG2YPW4HLNpLc671IAEO0xtR4gea43twYoaIBlHMdmUxcqW4EhoINfybekt\n",
       "ADzO4diaNcWx8+O4UkTeDraPq7Y3WC71LZEnYnIciRXr+25daEoStwbpTKc5KTDDJERQf5RvB9ll\n",
       "Xa3MCCftds/iHDedClXLis9GwnvV3uuoWNZvO7h2VefUIpQ2Pwj0Uj/ZQfyoyPidQ36gOAtPxpUi\n",
       "8hBssVUpYX0puqFw+1zKjuyyb2nqQtPC3eZznzvTQ7SAutk7Jk9gqxdzgU+WKyp1SwiLOKbZdHCu\n",
       "6JalraYbQ+xFcvmeYSUdHbXF1tGtj2Z+CVuWjStVqlyKEXmuvsWVIvIAW7t87q9SDGlmKKEh4EW8\n",
       "NHZZjYlp7LCXgFcPv3ehzVI3jp3pgYiXnghUdfYY20l244SwbYhd7blFHHfcHXbqdghAXLTRmEtJ\n",
       "VDilhN/j1LM957cC/IUJvtdB8wbHdk8pIq9Wtg4+M51cE9XqqN0EKOdtyFHsteUb5t3QKFGri1IT\n",
       "hjw2dqa5snWwhq3zE0vy55o9ol4ZPgXSRZwx8uWXjf015dff8flI7hvS27HneKldBEUMblTpQhev\n",
       "gsRoxu9qZ3pojtRepmTp0oGVMt1KTXq6HcR1LkVe6HEMnfE/B9t3WoGPb0/mjJi7n0I6FtUzV53p\n",
       "hffzRl3olQPT1f/ZVH+N4rSv0canFwyy+kewTeGXYqt33pBUNlYIoaalXW0KEkNnWk/s2cTGGq9g\n",
       "myLUh4U/Jdv7y3oh485DgBYvBWZnfwRbndnvxNbqk0axTUa3tdlwKmgd/o+dK+KenHJ6qi3FIN/f\n",
       "KqJW0N+FbjO0v4s8tlo68nf8oYP/PYL/8fgPXiI1ujy4uPEAAAAASUVORK5CYII=\n",
       "\" style=\"display:inline;vertical-align:middle;\" /></a></dd>"
      ],
      "text/plain": [
       "<IPython.core.display.HTML object>"
      ]
     },
     "metadata": {},
     "output_type": "display_data"
    },
    {
     "data": {
      "text/html": [
       "<dt><a class=\"ProveItLink\" href=\"axioms.ipynb#qmult_of_linmap\">proveit.physics.quantum.algebra.qmult_of_linmap</a></dt><dd><a class=\"ProveItLink\" href=\"../__pv_it/axioms/b8b523331b2694a06a93e80e962968435e6030920/expr.ipynb\"><img src=\"data:image/png;base64,iVBORw0KGgoAAAANSUhEUgAAAXQAAAAfBAMAAAAFCStNAAAAMFBMVEX///8AAAAAAAAAAAAAAAAA\n",
       "AAAAAAAAAAAAAAAAAAAAAAAAAAAAAAAAAAAAAAAAAAAv3aB7AAAAD3RSTlMAq1RmmUTNIjK7EInv\n",
       "3XZ/CtNrAAAACXBIWXMAAA7EAAAOxAGVKw4bAAAFNUlEQVRYw92YbWgcRRjH//eW2+wlm3wQqlbJ\n",
       "SYNQqvYgTVGEcG2TtiRIT/2SWIW0ImIt5gJSianJ9Yv4UpJoG9JTa7YolVBMzlpomkhMm4CiaT0t\n",
       "opReWY0IRUlOaxOTWNJnZnY3d7lNcz1ykDiwe3vz8sxvnnleZhfIRrHFfkJ2ixL7ITuCc5D9UrLc\n",
       "0N2kz5Cp2dBCnZYj+q/wBAReLYzH5LIPcGkcvZD9XbP06JnJtUcM3pz4Auh1dI1y9Ar29/mlR89M\n",
       "7nGTd/0C6PZZJl9l6AfY5rQtPXpmcreYvJsmrdGdRUHA4WfobAEe79KjZyZ30OD1NP5rjX76S+a7\n",
       "3zB0hy8LsYwEZiTXbvpmk/K3JbpbG2f6eJZHmPOx2LfZiDCZyHVGDF6//ZoluhPrSSf4jKNvB97L\n",
       "BropV52n2WBKd80c59N5XV5pRn90xngpFD2eQCstDxs5ej3cVP3y3hCLTFTWTgVtZ0UuOHG+z1PX\n",
       "64jKnWiIzs1EPqKM9UYWQRdyAfnrOeq9BFkK91aqWscrOjtwz52kSr3kew1euP+y1LofzUzqAxw9\n",
       "V6UejkiPF/mi5zCcpBjpl3AA7wB/QtLQDCkBPcpU6ixcBJ3LZQ5HRouWu9rpvvnTKORCPCpT1Y+8\n",
       "Y54f20jHhhryAjrv1fJNU1boyuHyIha2Wjm6XaOJWtATxEHRPK720b2cKZ6jU+lJRFcGeSRYDJ3L\n",
       "pVJ9gZS4nS8iYg/BGZA0eRLSoJA17WH2tGceuky7c8MKvRsoYCRPi4NAbRnEOsr18VUkTWHOINC7\n",
       "4gx9aKwSnjJt3+7yx2f6sEtFsOHiH5Vo3BCAMrCKNSlrPk86CAi50HaJ7Ac0M8p8uqQ4nH7Rc5ip\n",
       "CSfnGQyzoMtWtk6j8tmiHxToJ/maHzH2EApFVHTxx6P9/R/AzdEncT92Y4vrXCNT2Gs3KljV71iN\n",
       "r3AKVaxpJ5qS0IVcBVshi9R0Rj+CwNFmGCfGuVcV6+NyNcH7pEj4KVp3+cQJgdEy9P1sQcdnR0bi\n",
       "ot0zDDFY17rM0QdRUB1HjTQt9rqlSGNVgVdwiLb/VdJjTetmNQmdy0U1SXDxLcQQu9WQOdT9N/Kd\n",
       "3vMLv14ppi7kvG42Q2cwFX0/Wx6lWdIVR7fxhU/CUSva+8YJYWM4HPYmo+eVDJWU0i9DV2nTWZVP\n",
       "GbjioiU7qMnVeT0JXcit6i9SHS+Ew++CVk3lProKgiy6cdZuXvmmPo55lCcgd06oWDv7Ygp61+we\n",
       "CkoTEW4g5qHXFYVNmJ9HJbfH29ZaZ8KlwY+Yj0a51i/iw0+mufXiLYMnMY0qZOIhiUcQZt4Sp3wG\n",
       "uENXE4YTDQY/J1mJ5cmR59RoAjrJzdEg0xyV5PYstM1DnyT7OoRu4pXjb+A6BW3S4lV5Gle098nx\n",
       "qakYuanoZHgFXpGbmg8/jHbuphQPXqKsQbOqYFuMMaP7hvTQnb4E9LwQ8rS7pXPyY5dwbMIH9xGW\n",
       "kkb6lLreY//IO/zu0TI6Sg9o9TNBnIqgor8f0rWH/Pit5HWNqllT8ejpFHTnWcg7nkMD2Y5cse7o\n",
       "VAi5lDMoI12wqQe9H8dUuYiOI+gw+ucG00JvSHxLouBg+z4Iu9l6IhwO3Drb66E5nbck+Uy43bDM\n",
       "CB2hgHtXAea5Um5LeEoHvcPiBe+p2zioSPGMXvC2me5lBiTn3LGmCZ65d9PLC6ArQQt0322g189k\n",
       "hO4xiB1mVely+iJwq+8waho1aXyHGcL/sEijkZWKfgBtKxX9yMo1mEuZOM/yKDtLfMuc8CYFpZDb\n",
       "8uEapwAAAABJRU5ErkJggg==\n",
       "\" style=\"display:inline;vertical-align:middle;\" /></a></dd>"
      ],
      "text/plain": [
       "<IPython.core.display.HTML object>"
      ]
     },
     "metadata": {},
     "output_type": "display_data"
    },
    {
     "data": {
      "text/html": [
       "<dt><a class=\"ProveItLink\" href=\"axioms.ipynb#qmult_op_ket\">proveit.physics.quantum.algebra.qmult_op_ket</a></dt><dd><a class=\"ProveItLink\" href=\"../__pv_it/axioms/d8fd9fb1e441f8e1cf290aaf741467826282813c0/expr.ipynb\"><img src=\"data:image/png;base64,iVBORw0KGgoAAAANSUhEUgAAAlYAAAAfBAMAAADXQ56hAAAAMFBMVEX///8AAAAAAAAAAAAAAAAA\n",
       "AAAAAAAAAAAAAAAAAAAAAAAAAAAAAAAAAAAAAAAAAAAv3aB7AAAAD3RSTlMAq1RmmUTNIjK7EInv\n",
       "3XZ/CtNrAAAACXBIWXMAAA7EAAAOxAGVKw4bAAAH7klEQVRo3u2ZaYwURRSA386x3dO908wPE6/o\n",
       "TqJBxYOO6wUoWbPgtUEnGhMP1FGjxrs9YoIHtP7UhZl4BIdEaCIxbkzYFkSFNbqIRqOIKwl/lImN\n",
       "Eg+QZb1AQLO+V6+6d3q6NwM6q8ZsJW+7tqr69auvXlW9qgEYl3RM1fqPKvsraVc1D0Z18zhpL/4r\n",
       "yiwpMilBzg5XyGRU7bqcNdpKlQqEkqSJfzr+T6yMPAumh+iPXvBrnke5PtJe1itFP4svr/ErM0gv\n",
       "7bH4rHJUcVzzWTVRbxFa6JEwG7Q7WQqme2tYYGePJxDmGKxah/0svsysDPxaJz6/liJZzaa625rP\n",
       "qol6i5CirrQ2WLW0IgthHalh4QJk6XnHGKym+qzoZWalowzSJx0Wyepx8sJy81k1UW8RVPLSeQ2a\n",
       "pUwWyrZbAQsN/UqnmXnGGKzO3yuz9DKzWomyivypUwqzImx6vvmsmqi3yD6xqkGzNimY3njHDlgk\n",
       "bDlobU4sK/2R32SWXmZWJ/pD8xGLZEWP1nFY25uot8h7UKMlfrIUROPtzo+y8BeDVjOW1XzjJ5md\n",
       "HLBy/Sl/M4u/D35SrX48Hvtg8/SisrZqdavboFm3FJxMMNVkFiu7kNUuXvL1XCyrzsTPMtstWGnb\n",
       "TXCNQUjQ915l8VldBLBkPFg1Ty8qS9mQcRo0kz6A6XIouczCPQVehN2OWNyTwjHnVCl9FrBK59UD\n",
       "MnuzYKUnBjTT2M+L+1ksPqv7QMmNB6tAryPHWqwpi7lkWt0nT4gGSyFlqOo+Xwe6Quw3N0uh+gU5\n",
       "wULNz4GzaR2ijTQxEOdXKVB+lNnNgtUTqcGkBdiWdvJTWHxWGYcaPniXzV4HJ+2zWtZzGKu99YXz\n",
       "+gH7POgdVl6o2XCwJ0Nvug1YsV5U8iHHduJvi18yymryJrSlEDWgMxSLLqGVROhIApweROYXfBiE\n",
       "VPC+FDCendVeFiw02IRrD9pLG6k6HMfq+1nn75PZ9wUrp83TxXDQTl5i8VklPFyCk25fHrK8h74H\n",
       "KVrWFh35HGRyYAzAIlCGYeHoN7I0wVK5BqyEXrLop3pWVEK2b6vgB1NTqgDLYwy4NsTqNIFfOpx4\n",
       "kn0zNFS1pZ4V7viTBplFYj+ywv9pFNJxfkURxR8hVjDV0UUxjcFcluCMU5yJH4Y+C3pYxW5nHTnP\n",
       "RdRBwQo1hlj9AOSijVgJvZiu2lTPikrw7VnCeftpg54dY0CrU6usNelJHfeDQEn2qZ62F9SB+jmI\n",
       "PpEdYBapopKHHbypJQZj1iua1ltDcxAuwE8YDu+dp7IErFaJgBY9bZaMU7odGdozK20ZseqZud2B\n",
       "1UPKrcfPbu93bnTAUl6Y+ZqjrMZpvXObpc/04KsZZm33WC94N9azopKcPHMo+0HGyPUGjAZnpEyf\n",
       "7JCO9DaYnrWVTmkfzauUP1mXSkmbfG4RrMpJJ13gYClZjvGrK/hAJFgtZVYXw3S4UsZk01gCVo8K\n",
       "D5kWOLPxG3mSUJz5on/tACwgViUrUWzNp8y5J7g4/I/9gYhKllFscdssvTPl3gRdaVfxarvHeg0c\n",
       "pzArUZKDXra3LE+v9QbwgSxQpqwXOlZOcrxMHsrSPup/1j8hy/0dHqWWe5lF+gMdzpRxbMqNslLI\n",
       "/5ZZzOpVZjXXcnH95LGScUjAqoXmwksjGzfKtU9/Tw6OPwf7hF8B/FqCdLnkiKmyqN0TRYqVMfss\n",
       "5eVhuFr9ZUpoDgq9cBVN2RArUZITI4o+RN9Jl6MGiMKae4YjhI6HTwUvaeOZnO3T7v1946d+s4Us\n",
       "vSN3QGLZHped5fG1Q5Z03ADqKCtt2R4HThq5k1ktZFbq0Uu/BXmG3MJSdyezV8YfAOt202nx9krl\n",
       "6TpWG87t6Cjgs4d2fZWLYOcu7wZsvqHjTLh6pBC9Runub3fCrERJDs6qVCp5KFFlIhc1ANRyRBnq\n",
       "OFbJ4y71lLQPJlkiBOItx2YJ73NPBD762BjnwSBLL1PcrorZT3cTyiBLmFV6EFrY6XWnDTOqG+tX\n",
       "An6PZuZoqKgoa2Z2LBDkQHWSxUj3cNdaYIdYcUkO+0uJliibsNQbUDcHfVZbks4DABdK++A6gMP8\n",
       "Wv+gGwawQ7xIvtXViBW9TKwMMbiLa47jYVa4QrZ6oKEFlwAFrRxz17AqWclyxtQ8BNSn2r9SdFhy\n",
       "jHKfkx3KuJr3DKzEzkVdAWfapHyIFZfkOA5X9nXZmQJNkYgBhhfrV4biisVqiY/6nqDDi6WEAAim\n",
       "L8VeetSzopfX+CdIcbszT0qYVZsNbd5R6rvanM9h+R6smmdTLPqx882BJ9s7V/wC8zt24gY/pLS/\n",
       "AXo3zO7vx7X99O1gdJ1zDxaD/raXuHSGVd+91HrQLrullpUsyYFCl5UrLl/75fPCyIgBGSuO1YqL\n",
       "VyPGAtsHgKHophY/uOiVEgIgiH8NtfrGZNUr/Qr8q0GffpjVfOzHZxYkRm/O1laea3CQ6TmUa9+a\n",
       "mIESTuJXKhXf2GtjDOiFOFYUXomnsI823mMOD6J4jyWY/3bN1+Db6B3y6H371oJU8J1fKXZsiyX+\n",
       "vv2aQzn0lf4eq9prOitqwIXxrKbHXp2Pc4plZR6CAqXdbRYrWBcxIFmIZ0V+c9R/glWz0t2Rn/T4\n",
       "B6iMXHuneXV35dHb8xhl/o9Yzj+MatdWE4zqBphITUiLZkwwOMik5jITEA4yZewJBgebso42AeEg\n",
       "U3p1xwSEcPoToB5nxao4CGYAAAAASUVORK5CYII=\n",
       "\" style=\"display:inline;vertical-align:middle;\" /></a></dd>"
      ],
      "text/plain": [
       "<IPython.core.display.HTML object>"
      ]
     },
     "metadata": {},
     "output_type": "display_data"
    },
    {
     "data": {
      "text/html": [
       "<dt><a class=\"ProveItLink\" href=\"axioms.ipynb#qmult_op_op\">proveit.physics.quantum.algebra.qmult_op_op</a></dt><dd><a class=\"ProveItLink\" href=\"../__pv_it/axioms/b0a552b83e719d53869b41753235e49cfdcbc60e0/expr.ipynb\"><img src=\"data:image/png;base64,iVBORw0KGgoAAAANSUhEUgAAAoQAAAAfBAMAAACMp8HVAAAAMFBMVEX///8AAAAAAAAAAAAAAAAA\n",
       "AAAAAAAAAAAAAAAAAAAAAAAAAAAAAAAAAAAAAAAAAAAv3aB7AAAAD3RSTlMAq1RmmUTNIjK7EInv\n",
       "3XZ/CtNrAAAACXBIWXMAAA7EAAAOxAGVKw4bAAAIL0lEQVRo3u2Za4wTVRSAz3TaTp/DkhAFErM1\n",
       "Enzgo7GgkCjyMohorPhHXYMb+GEkKCUxJiK69Y/xsdhFRSgKW6Ix2SBseTTAVmVdwARFsyIkhlgt\n",
       "WROMj2U1wAKbgOfcc2c6nRlgE6xrdG84O4e5586955t77j1zC1DTclUpBf/popcO1riHxn+Hoykp\n",
       "tqK52/7+naFXNEErbdHMRyb+Fwj1GAuWZ633fWVX2wKYpgVLTThpVefjZT4jrKPLNbVDqNDFEx9S\n",
       "hBOkYFki/qqtf4y8Yg1Aj6ttoWJqRygboqqjSySI8G6qfaJ2CL307vxDuiKGGlnoXZ7nW5EWgPo0\n",
       "+HNutoWKqWMWckNSFwFLAl6iNaGldggDNM2fG9JJ6I2zkFrPL7MJQ/jxaaBOc7MtVEwdCLkhqROB\n",
       "JSFeRDhWw7WQ3tTWIUUYkYJlx27eEu7Cy11I4ws320LF1IGQG5IaybEkQEXs/lpuJ4kh31XGS8Fw\n",
       "Kx/n2VKPshhn2UI320LF1IGQG5Lqj7Ogf1+VSl/WEmGkVPo+P6QI50rB4IRbOKD3A2yghGWLm22h\n",
       "YspqaY2JkBuSGq5jQYT3AKytJUJvGoK5IUW4EIzpNg8y4m0GzvQeFXduY0Si1Bm2hYqpUBfAy0mJ\n",
       "UDYUm3MjCyJcClpdLRHi05fyZmer46V8f0pUqSurKz2OPZxzuMhq/p/d/lpngmdqB6VQl03CV70f\n",
       "4EaajzfaWx00ELIpqeE47+fETTYk1dPJggiDObrxzOI0eMQbuv5MSvkMF82Pvwb4bTY/eONXHeEl\n",
       "O9XuUCs8110FoffX1y+VWq+VK8pHYiUPtM7dLuICOA2ok1VKhd5ipDWpMpDwgTLoe1NeUYlmr54o\n",
       "zrHaj8eBqkmnB+Zuu08K6G/Pqhe9BtH18GlUMvYB75MIpSmpfuA4JUyyoZiQfSyI0FNGGzXfHoMo\n",
       "p997wUtTIHwW4Ge8vjFmFQC+898gUIYmCFgQdlOUTr8UwpvlbrKbV/I76VE2hFilGF3BjE3dEKqr\n",
       "DAR250BPgy8vEardoHeSEjiaxRF7byjh+uTiQYMD4WaAEWL4I/Dx6jlUHrsQQmkqEOY4rSBusiGp\n",
       "vk4WsV1OxcFDewqa+SnHcx0i7gZAxYF476H/rJR+t1sRoiMRsEyHCyD0qyIGfc0ciqMwK7AhpCrF\n",
       "6Cqc96Q5IZcDgfY83C7zWDJTMJ/rI2WWmNZFuA7wA8HpgZk3m4GM8zLaSUoGg1g5icpN9rXQCGRp\n",
       "KiZkGTQjkGVDEcjdLIRwqxgbTulZMjWay30/AJPB+AYSCNv6COGe3nshPLX87IJZDw50+MeCpq2b\n",
       "uj2nbcPPHP3TK2FbL+jXbLMiDI8Xz9P9vOR2QehbG0KqUoyumsg6ah2It09NG8klmkVisCmOivi8\n",
       "Au0sx4PTAzPbXS/FR2lIn2CMcyNDY5tif+frGaFhKpagd5fdlJIIZUOxnbSwEMLlwjV82GE5uU7z\n",
       "takHDUPs6Lpi8T3QBMJ+zJ0WwExf1/OBTtB+PJSETEpvVPKRFGyHuf6YN94AL1oRap/xduAV8ayd\n",
       "S0xP2xBSlWJ0tcs8DTAGop2bRJdxEmFTz8TRpLRxtkattEYXDzzGYrhFynJaBfvpzmKE9HnOzHUs\n",
       "ZQsjNEwFQvWdDiOpkQ1J9eZZCKFCHn14/sCBPplC7uVrcJ98c8YsDAmEnTDi4T54JHCWVFyPzlH4\n",
       "nNRSwXioH5ZlwNeSmZGrOqkZLeI4rYsYwpVsw7RqhKJKMbraQ38esQ4E3kua9xRaTEOjSHmIZxy1\n",
       "8rW4eOAzPltXsLSdXwSe1lPo9ZjzI0c+KeboYTvCFQKhaWpLrY2GhDAqpXLY1S+SHCodx2X80BDU\n",
       "J7PZN20II4k9iUl4xX8hip9m8vvX38s+9OCORCLpaz3pPOzyFreIkMOVTDtZjVBUKbKrgLC62joQ\n",
       "mCP+vioRIr+mJCq3ZbPZGGTIxlPn4kHAQBhNs7gcGHbb70Srv+oufNgFLwCLidDXTc6J6lyElSgt\n",
       "/4G8+yykbSXQ+b5CyxbNwmg8+AstS5QlvMYZazVCXJNFeOFK5jtdjVBUKbIrL3YeELjMgcAPYA3k\n",
       "LvzQp6SGsyla/tJEy+GBGch0mOA8UDAOFaoL2Q0O4UxgMRHiyP1lCKEX94J+Vijt4sWttSPsx0Xn\n",
       "LdhMU7DvlRFJzJszOb2lPRfthXdhM4ZzeRwEHQgpSv+EjWK32FQdyFylyK6a3p4Mq8R2IgZCTUKM\n",
       "vJdGpdD+ETpELMU3j3ZmZjqYpO3E5oHYSWVZLcVRXE6QVg8SIZ1uiRMuE2EkDZHy2EBX6P4jsOFU\n",
       "PNAFausO0QuB3HigQ1+yc8OJ0APTtJ6peQh/Wl46gNtH3ttQzEPm1p9Anzn5aboNxV4Y17PDgfC+\n",
       "OvjgVLI5pi4pbn8TqhBylcJdhe6esO4MfhKm5ECgOQZTBlLsHI4K43egOCdGCDXK0D+Yt+vHNcJx\n",
       "mwe4lpsfOG1S3HjZS9sgEdLTRQ8mQtxDlW9S4DE/EcwzyF3ZVZf4imse/MG/9VTNklpzhFq68uUd\n",
       "TWjD9lSyUFQ2ZrOGVw1ODyzQtDKL4xvQ7feUMnxS+e1knxVh5beT75NwDK/H3H47edShDKJkBo3Q\n",
       "l7sYQmuZ7WhCHxyPViG0Lmop58Bn/zOHGHaEcYdy6aLV5weLUIXBIgzn7E0miVFdACF0OAauJocG\n",
       "4d9dnrrI78hck+WLut5W6zgf4xtB46TGZh9y/mLyjwDUS3tguNS+BHrywxAur7wELcMQLq+sGUZw\n",
       "ueUI5IYhXF5pSMSHIVys/AURSLMjNAMIowAAAABJRU5ErkJggg==\n",
       "\" style=\"display:inline;vertical-align:middle;\" /></a></dd>"
      ],
      "text/plain": [
       "<IPython.core.display.HTML object>"
      ]
     },
     "metadata": {},
     "output_type": "display_data"
    },
    {
     "data": {
      "text/html": [
       "<dt><a class=\"ProveItLink\" href=\"axioms.ipynb#qmult_ket_ket\">proveit.physics.quantum.algebra.qmult_ket_ket</a></dt><dd><a class=\"ProveItLink\" href=\"../__pv_it/axioms/844e638ce739672576f23bfde42140e9fcd2d9990/expr.ipynb\"><img src=\"data:image/png;base64,iVBORw0KGgoAAAANSUhEUgAAAdQAAAAfBAMAAACsUSGcAAAAMFBMVEX///8AAAAAAAAAAAAAAAAA\n",
       "AAAAAAAAAAAAAAAAAAAAAAAAAAAAAAAAAAAAAAAAAAAv3aB7AAAAD3RSTlMAq1RmmUTNIjK7EInv\n",
       "3XZ/CtNrAAAACXBIWXMAAA7EAAAOxAGVKw4bAAAGv0lEQVRYw+WYfYhUVRTAz8ybmfe189w/Ak3R\n",
       "HVIs/KjB1Uo3ZWTTNDGGIKi0GhD6kNKn9Uf2oaOEQa47QyCrgvYsESTYfbpNYhuxJVGk2SotBLb0\n",
       "/Epxc1vCEFSyc+7HOPPmxe7KQIt72TNv77vnvHt/9+Pccy9AFdP4HhuGabJ6Tlb1exkYxql+OKDa\n",
       "TIoTQmO/arE4K1T8SfXp3Hrvs1SHDaqVYFKQeZ2120zL/HaU5wPszvh0ZKqwjHoctZYeE6uFGqJH\n",
       "ODkkq6lcOKqF5qnyBk+i15WfDLtSx+M6lajS8ixHXUCPl6qFGqFqYkNyTkaGC0c1UbrKGxynn5UV\n",
       "dvuKOq7QqUCVljGHoW6k2Z2vFqpGk2TdkIwiSS4ctRXlYHmDTZzgMLPCrlHqGJ7Qgd6Or5wgSyXF\n",
       "UImYK1Zlra6UTR10qhHCUe+TXXWrwWwgahy/XafUCWeFTrMDxvlAyx8YqoIdGqueW6ofsneaLKQg\n",
       "JyNfALcazJZXzL9YwxmpYwodrQWf+9NBliu4B/6xp+do9VBrenp+dYdktERIAYxzSXCtLnI4DEPL\n",
       "QnT1Tu63zFr/vHeZTmsjol5mOhHTBiP1RZDlAY66CGBn9VAjWdAdiIgXKd6qspw/rRBSADPcaSSt\n",
       "a9wvYYPRbvOscdy7KGyqLO2hdALEYKGOOw0+gT8d0rkAh2AvfBpk+SBHXQMqcr/xapb3Ji7zL085\n",
       "n1/PzoX9/equkm5E6evdMgAqfmsNbo2UUwBm8I1SFM8orqGF3/Mep3RSSAE2RboUm9bgAo6K67aW\n",
       "jMmthzt9dcUTpKMllsJDtNRRpxbM91O43QVYTuOouoNlituWgDgWNN+9DfRasDqhGdR+2FrybTZk\n",
       "8wcKIXbSotPFFqmXobInVdBg/AXQLd5+K6QATo1nsrHfyFFdUNgEIbeu9fu9WZp0DDiOalwHB2o+\n",
       "rdwAyxxHDXvolZqhzYYmhFlETWKoOLxlqH8wRxkaCPV++mVQa/Fzdikq5agCzTOugtZZgQoPOCbb\n",
       "OqZyVI96q5UFCxDtDESF8DXk4jopUDuyCBhguVwEhpl5ZIrgj4q4gqEaHxFq07xzDrT3qS9OWlDX\n",
       "4cTGgqrumveZo7bjHOs9bWMRnGlIlqLGFI/goqdhTjyrpgRqEjYfAcqd5WFuP0RSFRMYFmL3WA53\n",
       "nNjgFDwN8Dj3yOEu31rlExgiGTUBl5hOCt6G8xzVbzldoB5kkchsmlIGiyX0Ux2HO2EDoebscCaW\n",
       "iCSX3+vimKu//ZzGV1Ym5NbYZiriYtEsV/VKUc3JDsG1jnI8PQH8exC11dGbAXO8AlDybLWwtFsI\n",
       "oi6GOfCU2A6xwY3Y5D1Zvs8q/ihH9zhqXnGiaaazSXPBSj8ZZDlboL5DfnzfzWPH+iGaLI4qtLFR\n",
       "Bfg7B9F8zqF/QTv9D3ul2nqyzVYdLNp+ZUrZBFa/ZnBvTQdPyfLgWsfpZNL2N1FUYKy+cewnaXRA\n",
       "CKIut10lLSIabHBs1cszu0VIEvHvYLSHoE70OxNmcR1rGZ0B3CDLJQI1xE4SV8krK6/s2PGhD/XI\n",
       "I/X1aXzin0HznF5B72XvBTSiomdupstONmP4lJ2gJhBui0RdS6tni6gARtnM/7O0VQiiauN2X5Ch\n",
       "KwUCc2+eAhETx9M+VK2L62w83GcLHQoh9jhBlt2lh7hoF4RSoLmBo8ra0mQkQ9QMehVP6pc2OGyB\n",
       "a46SqTjEIWq34rwO8BjPhdBR3EM5XgE8B3BX0bNnuVC0pCXkgYQ1OMLmADvpvFvhA38R0dKmoo5y\n",
       "EZqTQZZqVykqeomYJ4KJEtScreT1pOEhX5uWHZXGTTPnWPk2J96nu4aHRWdSkA9CnWCpLi1Nw8Wc\n",
       "Mqb2PZYT0Qo6wFVSl2JxEkK1WKTbIlFr2HzTbR7c+9JMgXqpqAMf900JtGTgRVQsq/HGwroshRBH\n",
       "nd+vf1CX2nsF1tf3AnT0qXWHwFwCkWUdLuRmnAOr8eFV+JqKwk802EGoexe3Y9MxRvuGcpNvbGM5\n",
       "VgEARhDHQzKAb+FSkOGskZGoOXlaCzp7IQdDdaVO6SGu3HJd2S3EelyzJzCGPLxj2wDRX9MgbiF0\n",
       "vq2yZ5h+aQdiOVYB+ezxo6Xyfi4FHnXIYzg1+DIrP1sctfJzbp6jelKnFLXcsuU2L1xyg0SdI+5J\n",
       "nqWcnviPWxPqd4/JRZnnUYqFw/8m+482iAsBduuZDhR1ihc4fkvLvj1Utc4dHCr19lig6AFzcUfk\n",
       "7pQbw9fkPbC8tHMCcv/XPfARGLmpuWGkkGq1+khB1bMjZv7GHWOkoEbb6+9Ytn8Beqv4cH6vmk8A\n",
       "AAAASUVORK5CYII=\n",
       "\" style=\"display:inline;vertical-align:middle;\" /></a></dd>"
      ],
      "text/plain": [
       "<IPython.core.display.HTML object>"
      ]
     },
     "metadata": {},
     "output_type": "display_data"
    },
    {
     "data": {
      "text/html": [
       "<dt><a class=\"ProveItLink\" href=\"axioms.ipynb#qmult_ket_bra\">proveit.physics.quantum.algebra.qmult_ket_bra</a></dt><dd><a class=\"ProveItLink\" href=\"../__pv_it/axioms/1152354e9e60dc70de123b27370ee4a27c45f27e0/expr.ipynb\"><img src=\"data:image/png;base64,iVBORw0KGgoAAAANSUhEUgAAAxIAAAAfCAMAAABEbAu6AAAANlBMVEX///8AAAAAAAAAAAAAAAAA\n",
       "AAAAAAAAAAAAAAAAAAAAAAAAAAAAAAAAAAAAAAAAAAAAAAAAAABHL6OuAAAAEXRSTlMAq1RmmUTN\n",
       "IjK7EInv3Xbz6T5NtFUAAAAJcEhZcwAADsQAAA7EAZUrDhsAAAnDSURBVHja7VzZdisrDi3mme76\n",
       "/59t5qmAKse+ayW3zUPIcUDaAm0QAp/j+CsFGGPYrxb4LX+1WOcKsKn/SKG/XuC+sKaeMJHffhB7\n",
       "sWczzC8N+StgJSEjbr60aFTF5x8fx/pz/nz8fmTPfIhaoQj19ZcS//xCBJtakcvfxTDFTFyahF7E\n",
       "3usKDUcd4gUfspTIAfcKz3FVlTWtoD6wvjiqJate4j1OjKPZUAKUNhD9fkp8Ei39sLxtgaqtu+mN\n",
       "swLxMGNw4UoW/YwSo4Id2FOOuNd4rqqKpgXUe+uZjj0p5OdCyRN7GKZnmmFG5X40G0rgoomy30+J\n",
       "T6KlH5a3DURoV3fTm5zO9D3M0pUuk/uMEjOJq/5mxL3Dc1VV2s6h3ltPzuDvyBwMyNXecmsPxpzo\n",
       "Mx0c6c1oNpTgYL1T/z5KfBIt/bC87eygrm6nV9rZMjxbA1MvhH9GCQVfp0TGvcNzVVU0zaHeW39E\n",
       "PwVgF27d2SO8cppMOdHNaLZniUwTBf8AJT6Jln5Y3q7ovm6nF/IZKWeRcu6l5Y8osWa9ZStK6Cd4\n",
       "LqqqpinUe+tTAXhHiUsXK4wreTuAgU9ajKHgYjRbSuTf6fEXKPFBtPTD8nbBOe3rdnrVLHSTdONK\n",
       "FP2IEr2C3ZZUKJHx7vFcVRVNU6i31j+jxNCFUHvlnzzVIm4aR7PLOGnPLaPV38g4fQ4t/bC8Xdyk\n",
       "+jpMh7QhLFE+I9idZOupj/M42aeQzSQq8JgS0iovKSbbWwVmF5YXSmS8ezxXVfVQDlbwdtYzqoEP\n",
       "arVuQqe9PZPzczyURIynXVIiQewogYOdQv4NSnwOLf2wvJ0q1NfRZw/o4hLpPrJxWzcXHw2rJKeI\n",
       "ANVMIipLHjZNARNKRB2HBsdcQd4N+hgE03GR3+KZqMri0XJ32VnvFIP5WWJpzyI9Ys8UN7ElJRC9\n",
       "UoKB/OMvUKJFO+z3+CcC99bjpfSXlOUr0Vz76eDQebSbAlZC9pr+IqAJtMPvoplEqJ/uEl4Hretp\n",
       "VTDuC7ZdE3IKtOLd45mowjuod9Z78XNKrO2ZRr5unzmFL1qvw7cEsb+q88ORGjBMNR82JShO4ZAD\n",
       "DdojllTaKHkoeirus2WHFKc/8pidb1lrFVdvUaJFW9e2YAeaHJHn4FuBjbxJ1mL660LZbPBStEf6\n",
       "2utzarVNwTQ+unRanuvwNyRzi4ySn08pkXR4V+oVHP/5r+nKWfL/DFAy4t7jmajKmipUedLjeGb9\n",
       "mhJre7jOljTzBNEJoC/nJl+WIPaUgLYcXpWDHtSZ1km0l4jT3sMtEIIU2FaHz/xYetl8QQlTghQM\n",
       "3qNERdt4qe3/XTCO4CcCG3mvUOKqbDF4K0qkNIiqmcjKpBS62/IjtMiTSB7vEjnVkiLphqrDNJFK\n",
       "g4PjsmVkvHs8E1VZUwPV4ON4Zv2aEmt75DSdlgImfqI1Jchsl3AegeyRPFsGKVz3EZnbDtIwYcw7\n",
       "2FbXdWBNidgqNn2TEgVt45UsrhrZ8SvGAfxUYJX3EiVGZavBWwVOMWQPyFOqpIbDKcHjnYgE6bg9\n",
       "zkLz+CwRopOS12ni7X6aeH82FWDAvcczUZU1QbPMOK2t31FiZc/84i4lmtDkKDGO5kAJBeuQxH0E\n",
       "9zuNxtmpmjv6SokQMyVKaGRtGLBDud8ORinEmIBTOQk0XEUyH14hq3wrplDalK2ygKVOh4VIoRUl\n",
       "KlrvpcSCsJn7V1wMjxh78HOBVR4K3qHRmhJNi5my6eD5vrav0/SKGIakJ3Ztnl2EOfQ5GS9Lxqiv\n",
       "HAjF810iTBJkFwVmk86sGaeMd4/nqqpomkK9tX5DiZU9h50taynRhM9NKjhBHCjBdNUdWwxbvz35\n",
       "dX8SRrkidI6ZIiU8IUM6m8IwhkRDptLCycxpAgNCK+ta+cyF9gYqHFJ+sRNxnzK7okRFK8Ku63YB\n",
       "11bA7LbjHlrALwQWeYT5SJpxuqRE12KibDp4TS6y1CRu2cyvdyhHU83pJIUElFrKEU4C8yRi9ZwS\n",
       "itahbBWQR/cSJYe6xXNVVTRNod5a78ZW1J8rJUMXCidxU9qA/LLNh1PNMJrjS9hy9pT0PLUrA62U\n",
       "ToNG0DHZJSIb0i4R2EnigkmEq2UTS7i42zO3tGLOxwRKEQeTqRM/MZTLwKmiFb6P3/icSMSP9HaP\n",
       "oAX4lcAsz6YtWS0p0bW4KFsMXhNO5jpNBwdK2HJ1bCY3Bcide40a1jVDnlPCHd0Q2sUWoT1fUKKG\n",
       "wTs8V1W1G1mvz2vrw42E9PkiYMdeS3skEGRwmkwpfXLefDUmnmqG0dw8Dg9h15BOVjLljt0fQlIr\n",
       "LslrSrjIAmnkCkkfxJ8yBxellY+XjPVXKlF86kREzYBssmzBYjdqPiQN8xSyWS3GDvydQJuD2x0l\n",
       "aouJstngxXHnXV2cicPFUp1XQIwursRu37vNb6+fP4WtDzoy7h2ezSPVOdR767e9ll2IEs2DjhLu\n",
       "+cDJ4NWDjgxxTQkSWoB+emTK2yQ3eL5LlIXGfSzzQ3TTtDLIB6zSRV6ySYhxOXGsFSUcy11IylA5\n",
       "8vZZ3gb8nUAQfR3CJSW6Fldls8FLA427ukxv8wZBdPF8jpM1v0wiRj+jhGCvU6K829vgmXyVIWua\n",
       "Q723/hElxHtvl4fRXFMiHg1pzLSlCxF5lCvG9pp3Tgm/UIaQOsRDNu8Pp38MEFZ+fy0Woikr3Meu\n",
       "Nv5kJFRoHTsF/ovnu4TbJ1QT2LfXTh34G4EIcHDwLvwdKNG2mClrBm8xf7GuznQMSaaKTl6uIGKv\n",
       "B292p5SQz59x1Sxi9bslnquqomkB9YH1Dygh33yWNozmmhJxFdD2ANJ5MzwkNkb6QO2Ml/ssP4mU\n",
       "Smu3Alt/Vef+il1LfyHCLEI2mqqUzziBU8Xjs/I3Pv5AHhPF0Hr/sRghHnwotE4VxBYp9pASEmOR\n",
       "0lM2Jy8yxgH8nUBITy3ILgnbtBiVDYM3lHwMj3VdJ4/hKqLyM14CmGvOhf2MEvb5d6TYCS/5/iWe\n",
       "q6qiaQH1gfUPKGHRJyhRIC4pkQ7zwIDQdHIdLJUPncl7cLh+vQ9d3howODjwM4wTgZcLisu9RG1x\n",
       "VTYM3nRkY22vOTAw/YC1DUMv+yBcUP6LxaOOV66DGAZwwL3Cc1zNyZpWUJ9Yf9/rvRdI1oRryArx\n",
       "4XevyT/1GO72ScJLlEAJ5pOvJd8IhHeUKC1eVPYtv7w8pMQ/9XVkH019kBJlHZPvCjTyjhKlBZBf\n",
       "N/o/pMSvKvT63y4N/5RvC7yS91PKvuU3F2tMeJGQ62/5lm956xxgkfqOwrd8S2EEuF4ZfMu3/B+X\n",
       "d/+TtW/5ln9ZCXdf32H4lm/JhSiEvofyb/n3lv8B6OFe39CxxU4AAAAASUVORK5CYII=\n",
       "\" style=\"display:inline;vertical-align:middle;\" /></a></dd>"
      ],
      "text/plain": [
       "<IPython.core.display.HTML object>"
      ]
     },
     "metadata": {},
     "output_type": "display_data"
    },
    {
     "data": {
      "text/html": [
       "<dt><a class=\"ProveItLink\" href=\"axioms.ipynb#qmult_complex_complex\">proveit.physics.quantum.algebra.qmult_complex_complex</a></dt><dd><a class=\"ProveItLink\" href=\"../__pv_it/axioms/68434144f27cba0cf40f0c5972dab7a400165d810/expr.ipynb\"><img src=\"data:image/png;base64,iVBORw0KGgoAAAANSUhEUgAAAMYAAAAWBAMAAABpi/5BAAAAMFBMVEX///8AAAAAAAAAAAAAAAAA\n",
       "AAAAAAAAAAAAAAAAAAAAAAAAAAAAAAAAAAAAAAAAAAAv3aB7AAAAD3RSTlMAq1RmmUTNIjK7EInv\n",
       "3XZ/CtNrAAAACXBIWXMAAA7EAAAOxAGVKw4bAAADFUlEQVRIx7VVXUgUURT+nJ11d8b9o6AXYVkI\n",
       "8qGsfRBBA1uwIghT8KUHyY2C0KfxMajYHqKgQgPBtqJGgkA2WiuhXhIhoj+MLYwkEUZ7MAhChDQM\n",
       "pHPmb2d2x7GXDnx355777T3nnnPuucDWEuJBcWqUzVjVqhD+SRYJsZRTc2ITVoUENQMJnuz0MyGM\n",
       "07Dbmsl3SmQx7c1yyNg0Dd8MHGLFGT8bD3jnrD2tzdDQ78lyyWnmqjoucsyG/Gy0E8Sy43GOWpMn\n",
       "yyUrhEBGB5uqS/nZmCJEytNeleeqF8uVi3Ue3+kIkIe1vungMO0qz1/oAUt7sZxSV+LxlIHp+fn3\n",
       "fjZETuZRjmj9EtUITv7cRjskvFgDkxfKaUsuUHQeQ8cR4JafDd1l9qdHkej88qpaVBDQ3e6YZ/lo\n",
       "sYKvcc+OYbFfXgOaoWMAIdupcJ/1FRtOmj5FOVmfaPOXEOn8wjoiGoTK8DPrYRodtmKfig/AHuiQ\n",
       "1Loue6WeDS3ku+QbinDbUEV49RVFYxlRCoiYRXwc4eUKG8zqBOa4zldZcRj4AwxCh6A5Uv6GcDBH\n",
       "8X4E7HfbiAyhSJ9kpzeF4JSHjbeQf/H3DA9zCFL19sBAto2GQtszPsLGgqrf4fuX7E5jxaqo4YBx\n",
       "PTpVCKWKfBBL3kBg2XE9RMpeIww8oUsrfwmvcRa+xjJjzGhosMkSF9NdspHCDkFBPEeJQaDy1hJL\n",
       "XkFN1v7fb04PWmDgHKVczIT59FI6kO1mRmtrudATRv1JmjAjAjVpKWOWqus6JNiRxkzGUmzHsFnz\n",
       "jJochzPGW0VyYqI5n8+nrhy3/x3msFynoyafD3ynn3ruGtGuChvMGv1xOZmzFKMTHPPPJvRqVqRW\n",
       "Ku04IqmruluUc9lcm+U9c+4tz1ddo1nPl6dkwCgLZbBbLSCqtlAt8+KEgklzrclsbr4d0KNLmq3U\n",
       "bqfB9r1PcS0VPqYhdJMVhb5hy3WJX70Rt3/VjVryehvPmnCI0X4L+bwr2jJvOLbVhrLX+zBS5V1Q\n",
       "9e5Y3FRCmlOztAmrQmKKAYcE8H/kLyTSwcA+DvrsAAAAAElFTkSuQmCC\n",
       "\" style=\"display:inline;vertical-align:middle;\" /></a></dd>"
      ],
      "text/plain": [
       "<IPython.core.display.HTML object>"
      ]
     },
     "metadata": {},
     "output_type": "display_data"
    },
    {
     "data": {
      "text/html": [
       "<dt><a class=\"ProveItLink\" href=\"axioms.ipynb#qmult_complex_left\">proveit.physics.quantum.algebra.qmult_complex_left</a></dt><dd><a class=\"ProveItLink\" href=\"../__pv_it/axioms/620214921fa356f153bc411210027ca4fca80c140/expr.ipynb\"><img src=\"data:image/png;base64,iVBORw0KGgoAAAANSUhEUgAAASEAAAAlBAMAAAD/1UKKAAAAMFBMVEX///8AAAAAAAAAAAAAAAAA\n",
       "AAAAAAAAAAAAAAAAAAAAAAAAAAAAAAAAAAAAAAAAAAAv3aB7AAAAD3RSTlMAq1RmmUTNIjK7EInv\n",
       "3XZ/CtNrAAAACXBIWXMAAA7EAAAOxAGVKw4bAAAD10lEQVRYw+1YXUhUQRQ+7q7ueu/681gRuVHk\n",
       "Qw8JSpSBCRYZQS30Ehgi9RD60gq+BCrrQ6FEtZWi18C2HwKRbLOgsjAfDIpIRQr6YWlrKamHjH6M\n",
       "7MfmzMy9zp179wZRZuSBb2dnzjd3vjtz5szsAjjYqun3MKvmmZ6OOhKWwqybf17RvKJ5Rf+UIi+H\n",
       "2UI2zJD9A0K663cpes5htkorMTtg/4BKnU4U5WK5LKUiJ7dhrhgDt7XTw3D+6y7ILrAwV0p1kUrp\n",
       "RNFGdOxJqcjJbdg5Dt3yAuBqJ2WNTFSq5BaRWsMUNWEIRFIqcnIbVsah25EI1GFZZDm3LLMmUouY\n",
       "ogwSSmogpSInt2GDHLplfFJybcPUb+kqUjncRHZG6sh2chthVMVgmPvDKTacPCUrLH1FKgJV3YvH\n",
       "7zrsNQe3sRYxBlDfrGEtI4tooeZKzC34MZAMC00CFYGKygE6HRQ5uI2Z5+/nHYPNrOVmgk0ATpwn\n",
       "To2K203QEPCIcSlQEaioFrziq2S3LmkUFTG362Q7LF5gkF5+KxW6ZAU4YjDMd9AoW85BSfsYwRPw\n",
       "J8TNNkNFoKLMqBpkTt8zLagcDblOiIq4218Km0hxeGEb+awIuyeJdj1u/UGGbXqDp/Yje+BbSdEt\n",
       "4ptieWDSSkWgIldCj9wNZH3VXoB1oiLuzp5SCddTrifE9WHXQIuk6I7er9z3mZbpg1ZFfr5k963U\n",
       "dD5HUFWCkZVM0Jx5Zr9wQtFThLoBhvrJR5J+PUCQUwA7O82rpnzndTUMT+kh5RqV4ois2gVxycxU\n",
       "BFXUh7nygW+wGz35+fK51scy7wSZQIW9XxfOS8C1VZ+jzAQD+ZmQjvUXZArpmeKWU2sXfRUIGg0m\n",
       "KoIqqifyPRElvB09xcWyonoW9zdILKez/PIO5yg6E0f6ziUb7SqpdpMhcqb0tGCyizgSTgw3MxVB\n",
       "FaWFWRis1jQt0LxDVpRG+6u9pKO7WtOOAXyRrgW+UQb1Ugl5XsvIbfDtpZsxKygpOkRwvfC1XpWo\n",
       "CCPN55DFPMhGJotjcxvphyEyLHvnvOLT5kP0IYdsDXJDVjhVTmvgMBRlBCGWiRXv5RAMWBV5ojAR\n",
       "1XOl59GVOtPNq8juVJVOX5YHS392WBuKvGUlUW8Hfuupbg1bFJ2NR5U8knD3UZfSvDwB4iGaGWKQ\n",
       "b5bWO0N7qktohNPNh3OPpgWd75DKNa0Nl3845BaDFvegYh3eRmR3CkXGO/3irdb7auS4qaGRw2zj\n",
       "Nj0T9k8c1+nzv47+C0W+ZGyOKWqCyBxT1DHnVu0xRP+qIuv/kBWFBX/6f8gf1HwniHEnBwwAAAAA\n",
       "SUVORK5CYII=\n",
       "\" style=\"display:inline;vertical-align:middle;\" /></a></dd>"
      ],
      "text/plain": [
       "<IPython.core.display.HTML object>"
      ]
     },
     "metadata": {},
     "output_type": "display_data"
    },
    {
     "data": {
      "text/html": [
       "<dt><a class=\"ProveItLink\" href=\"axioms.ipynb#qmult_complex_right\">proveit.physics.quantum.algebra.qmult_complex_right</a></dt><dd><a class=\"ProveItLink\" href=\"../__pv_it/axioms/22cc4db7a129c945e7f45a784a332a0f098e38e10/expr.ipynb\"><img src=\"data:image/png;base64,iVBORw0KGgoAAAANSUhEUgAAASEAAAAlBAMAAAD/1UKKAAAAMFBMVEX///8AAAAAAAAAAAAAAAAA\n",
       "AAAAAAAAAAAAAAAAAAAAAAAAAAAAAAAAAAAAAAAAAAAv3aB7AAAAD3RSTlMAq1RmmUTNIjK7EInv\n",
       "3XZ/CtNrAAAACXBIWXMAAA7EAAAOxAGVKw4bAAAD+0lEQVRYw+1YW2gTQRS93d3msUnTfKqIiSiK\n",
       "+GHBIlhBC1UsChLwR6iUoB+iP67gj2Bl/VAqosYX7aro+kAoxRqLoFap+VARRFuKgg+C0aCiP2p9\n",
       "Ya3GeW52Z5MVxEfFXDiZ7Jy7u2fm3rkzCYCHzSq8gz9qSqFgejpMhj9u4YqiiqKKon9KkZ/BaVoJ\n",
       "T630AzRO/SpFTxmc1up2jMRLP6CVuyNFUdxOKavIi7ZMSlPIx0Zz6uMb/K2ROpfnTOF6buEOnBld\n",
       "RVyJO1K0CBNryiryoi07zQBVwwAzioFZJzqqSbEnFgepg7muo4q24hRIlVXkRVvWxACBz+BvLPbX\n",
       "u/Yt16ztScFG7lpPFflQKoXiZRV50ZZlGADWa8e9Fk7Ydavvkxrlrgwyku0rn9letJVGSQpkC5ZE\n",
       "7a8Tp2Sa6175/XHLFQOrup3N3vJYax60FYs0BR7qWz4t/XkdQlHBcylnijYwgTTYFQMragY45KHI\n",
       "g7ZPBZuO0DfW1xZXUiDjiVOyxIi41Zwp2tUcnaskBVa0Afz2oUQOTNpiV0Rp6VgHTBxnOT3/astf\n",
       "qIlT4MX2lfU9gnAOpIygfYgztsU2SCOfocCKgmYoQcnAEyOh7tWkw3ZFjA43wmLU7B5/EH226PJH\n",
       "pJ0HKJygQLY4RltlhDzwjaDoOmdA/cgivuEDcFcMrEjK8cxdiOIb6gGYZ1fE6MhICPkqzbwgLtCl\n",
       "/h0uRYq+h0YkTJrqjFtRmIXsLm2aUcHgrtVsjiA5HydAPkdq5sltth2K7CKEBrjWhz7y5Ot2hNo6\n",
       "WHnIFbWLUPOJdJ0lgZEGhTwa4gy3kA6PNe6KQRT14lp5L5Dpwsz06eK+1ksr72s0gSod31E8CXFp\n",
       "GZ+jYI4CIgmQv5AuJBjQhVhaj3KG2zM022SVYlcMomgzkq+kVH05ZhoaREWbad5fQblcTRfUMH6l\n",
       "WcwjvnJVnID0xwRaTmj4rCQU7RxnmHUhh9oRewUhiqp0mgZzDMOIt68QFVWR+0M96EZ5rWHsA/gi\n",
       "HAsCgwSBI6M6bC/QBLk8+xUKZUJQtIsz1HYM3ITAerJusSuGVeZrUTB30jejsZY4jfTBNfRaOuZY\n",
       "wwnnJnqfQbQ2saNGL1fT2hgsRb4EpIP4wn9eg363IsWE1yavlcqDCxsdJ6/6Ursq330de0bjjzZr\n",
       "S5G/ab7p78Tfutce0F2KTmVNNYYK7iZCqe1Tc2DfRIMahXiydJ8ZOsodQlPM3bk5dxtGwvsMqV4y\n",
       "DuLw39Fke9LiNai6X19CZFcZRdaYfvJU6385sN/RsYXBaS9K3Jkr/cQX3L3y6+i/UBTIp8eYoq2Q\n",
       "GmOKOsdc1B6C+VcVuf+HbJld97v/h/wOTeko8MJmc5wAAAAASUVORK5CYII=\n",
       "\" style=\"display:inline;vertical-align:middle;\" /></a></dd>"
      ],
      "text/plain": [
       "<IPython.core.display.HTML object>"
      ]
     },
     "metadata": {},
     "output_type": "display_data"
    },
    {
     "data": {
      "text/html": [
       "<dt><a class=\"ProveItLink\" href=\"axioms.ipynb#qmult_in_codomain_only_if_valid\">proveit.physics.quantum.algebra.qmult_in_codomain_only_if_valid</a></dt><dd><a class=\"ProveItLink\" href=\"../__pv_it/axioms/cf8c083dbae760cf10a382ea8a25c8dff49c6f670/expr.ipynb\"><img src=\"data:image/png;base64,iVBORw0KGgoAAAANSUhEUgAABFQAAAAmBAMAAAAYdtK6AAAAMFBMVEX///8AAAAAAAAAAAAAAAAA\n",
       "AAAAAAAAAAAAAAAAAAAAAAAAAAAAAAAAAAAAAAAAAAAv3aB7AAAAD3RSTlMAq1RmmUTNIjK7EInv\n",
       "3XZ/CtNrAAAACXBIWXMAAA7EAAAOxAGVKw4bAAAOiElEQVR42u1cC3BU1Rn+2Ufu3bvJEqlVsTgJ\n",
       "SGlVKDsl2jI+WOUNKumgHUHaRKl2fJHFYbAMAmsfViWS+CpGkVws05EiEKooECsRwSJSQyu1thpZ\n",
       "RFTEQsI7L7bnP497zrn3Lk0ZnArdM5Pdu+ee/zvfOee7//nPvzsBOGklkMnEIVdOzzIu03YS0QKF\n",
       "uRk9jcvmnFRyJSeVXMlJJVdyUsmVnFRyJSeVnFRyUvlKSsXAlyT86z3+OdaU8lzhXcNral3PbF1g\n",
       "fiWZpePj3D8+ZNJtlOwCnNFVbk5rA7oyui4Pht66W3I/taTyEYqiGFaxEZcDREv5HeeClFUQTntM\n",
       "P5nIbHUw3/Jjb5UKqIF4+Wll6TO3fjqXAqqgGkI2OJ8xHKdvbK1ZECrWmnen/KzOJZNE9sFM86Ft\n",
       "9rQF981A1/f8kyWVa5qamjZ+WUoJ4LgvAi6VvGaXVIK1LWec9SS9vdNjSnONF9HrCVtKOdi0CkLZ\n",
       "uJ23GZx5G5Z13AwxmXM2RrSQ1+m2CoggwdqOtLX9DTHP4QUbwQ8y1itujXucAiqgGg36QfSM3u+8\n",
       "jrMB+nek9THIxg4lWhwi2HqnPlU7XofFrQmnptfhOgg8lEiDezAAvRvvAPj24hh4aEOkUHDfDMPx\n",
       "7acn06t89GVJ5Xc4leVCKgPdUoH8aoCiFN7Os12m0a3cFiB0VUU1AwuNmkQwupWLRkXFEJhP3m93\n",
       "zIb9qpG8nqUCMpBu+wEucJz3sH6t4Ad57Y1kMR9ngBJUo8E+iJ5RdodxgeL6GJTGDiVWBBFsrVgg\n",
       "lV1ELoOFVMILH7jsMBhjHyn2DmbCZ79oLIdpa3qAlzaduNuZVO7Dh6f6lJDKUJy0uJDKlUfcUplD\n",
       "npiyBN4OJvykEqJPxyNQVs3AHoc8Ut3ded6rqpkTLhEVkQTcRd4OqIAMxGylvpw3Kwy3gg+kmXiK\n",
       "vJ7JAEtAR+A02AfRM5btZOF3gT4G2VhSYkUQwdaKBaHyywhRRDdRtZvoYnsarptiewYTI9DLjkF4\n",
       "xOfgpU0nroRJBSUWLT4lpNKAngO4VKIzj7qlMoSEtkPS9DaPwWLPNL0rpZJPq9pgpk3BCF/0QwOd\n",
       "ZyzviEWHkC9qegO8yTcvJ6jLZ28VyUUOr322sRZ8ILvZuL6/ZYAOqE4jX+uZopF9oliPI5XGCiWd\n",
       "yGbNgkzVuRF0G/w5iCKTsq2xtavLPYNZg06nE/YsvR+8tNnE2dQoiL4OTgWpBHCU/YRUZsf2u6VS\n",
       "RP7uTNLbk5nXnWKrXqUfnZ2EBIMVdYovh+BBNut5Mq6w2vl2MlnU9GNvQ8bIIH4D+ENGhONBQAmq\n",
       "0uBwomcK0MDjSKdLvbFDSScyWbVAKtXTlLkro0prBqMQ3IMJU9mRXW0q+NCmE0e5E339uanprVNC\n",
       "KiGMascKqSQCB9xSIY/bovfY7ZW0drqtbUBj6UNbKsGgjHw4JntoPJc1lioIHyLbSdoBFCBk2lsc\n",
       "7Ngh8IecavLzBwJKUJWGgOM905U6ZDCzldJtqY0dSjqRlaoFoWIUzlXm7i1xEEiCezD5tLcKeYjW\n",
       "aW8VE0KkMgrgqVNCKlTbk7lUwsVmu0sqZuveHeL2JaBH6yHHM3yggME+wvqI7GEdW4GgfGZjZHYH\n",
       "Jh1A+URGpcIKGrJAzg1zT4KAElSlIeDWybUPtCxmF06XemOHkk7kEtWCUDHrxitLQ9WMYZSOjIAD\n",
       "6RzeJRtrtGMNYkI2o99hXglcp4YQ7wVZWcpJ/LhSGUAOy+u/JKkU4A7+V66FEBgtLqnEyAr151Fv\n",
       "f1orl/zeOLc1Dipg9zXW1CxokD0UsbkMOFVmr9aami3gAHIQ3NA7Has5iSyQ00QGAwElqEpDwBVt\n",
       "VXwbf+ScLrXGkpJOpL9qQagYCSWVEz2i7mP6YNYllU3UQ9vYLyaESCViswm3NtH7Dx6sH00znxHW\n",
       "/mJ8eR5rzNqxLz5JPL9UTcU2f69ijNjEj+yB2vnQ6xzCdUsaYhvYs2C98r79UnvqcljSbDyjSTO2\n",
       "d3VddqnkI82NXCq7h13Z6pJKhAwoepTdrqILTfbWpn9Qn3oLcFuxW1Cw81v69BkoxxOaym6azc6Q\n",
       "hvTo04cuVJWo4lmjkUWl7u3BAxnhOwkFlKAqDQ4neqallj+zVe4djjaWlHQiVaoFUqmeqeiJIlSJ\n",
       "jLY2GGpvHpWNNdqw6GZ+QaQSSLOoNrqfeZ2tzOlwqbDIfB0NyS8H+AKAHLphXs8nyB6wGoaQ5/Zz\n",
       "r1QutQjW30RENpIi2BAjTM0dNaWY1iFdzAOjGR5WnAbuhaHCrknFIsLvdEmlO7ENHmNSmUS5OzkA\n",
       "c7TNbfMaFDDcKapkDDvKbGUBinQ0xNOb9GA6SZdKKFXlgN8JWSAjNm+DgBJUpcHhRM+0vMHfnS71\n",
       "xg4lncgk1QKpPBVRtgJM25GTvBsZAfcVsrSAlIpKG14q5Rd4bCq/gt644W0mwAQEm6VUQjj+cCV1\n",
       "SeSoPYQmcEKjeKYveBQu+qzaLRUzbR0Bs4Gf86I2Pxh8D5NVKZYBpGq0NKl8QY94hV3bgEJsB9ek\n",
       "giuEjw9KZQCtlV4dk47Udk6c7acUDA8SQ5xtP5qiOQ0yEGlHzjJB6rwH6BvQaigQMY5xgO/eHsgw\n",
       "TVCEGaAEVWkwOKdnitfOL5wu9cYOJZ3IANUCqVyHeRVgE2RlRpovBx0G2mBWHEzOTV6ufkmg0W4T\n",
       "E4JS+QNLJKZvYoIshmVxKZUCut55dAXXg/UOTcLQzLBZTlNB4Tdtb1hLPFaI63TDWia55mBKpIip\n",
       "VKxalErlFR/b8MJe49a+w4vq7ZtsSM54Z88YmFlChrhnRzJ6RTp2/gtiuVGvC5lUxrOgnUrF5lLZ\n",
       "R2a7iidzB1OLvXoKDm2v/qYN5kYOhgeJcU4otossMnW9wWqn7hgyBw5IqxbSCSmFYDvvOrR+IkBl\n",
       "qR/ktT8gLyMYoARVaTA40TOdyaDYbpwu9caCkq0SYa0Hi5ATqYR2FdJwnrZ7OLPB/qETjGqDMbd3\n",
       "jAmLXLKHdrRBTAhK5d5CFq6OYBLeWXIOSKlMpyqiBwjj2KAryXIHEsyx05lZD329XoViF/AHfh/b\n",
       "II1jGPQsYcjv169pgDkolapkoDyvOBSf9K26SoBZncPBPAKfwDfgTxBNhOpuhqE3wmyQZzd6zlsF\n",
       "Bg6gNkkVYh3mUiEbQfgNm0mFnUHzijWpENtwR6ZzaL84B8NU2Z3wHKzA4S0hi9W9zTn10jp8pvIa\n",
       "rBQDpFVIwHqavGRs1nVZY2bbdyeDH2TsNyOtAQkGKEFVGhRO9EzhINKsnGTRQG8sKNHGgghvjX9s\n",
       "OpDK7p8kn93GQYkGYnKP0QaD4vrYSeq4abM0dx2XSje6mDfgDkADEutMRSoT0Bel2JFpKyzCLyar\n",
       "2WGqO65DmytWYV8XWhUdWxp57Suc4QKUznhwvAqsoF4F4FAVgayy8RLmFaXJxtW99B54DFYkjeea\n",
       "YULVVeJhMJE17lirrNrDNlyQuYN5lSabSqVn5owzbivmUS8LlKyeE1WpENsZyWev6ThHgNXgeeOB\n",
       "v0PBP0k437gJzIpOZEtVjnUQIY9B/tGHkwyQVhEQc0FHCu7PbKNdG/OtvttfS/lBAixd0DmSA0pQ\n",
       "lQZ+kD3jSEK1LfwAIrrUGktKpLEkwlrTUSMIpWKtadyWZJ/BvL7k63KLUQcD8KvxVzohuoc2nTjK\n",
       "XaaCx9YX2TwgmVMqpdIbRVW/so1FMQZxjmZ18Laamkehe53rdwfKh+5JcXaPLuc56NH0QF9TU1Ps\n",
       "ksrrlw0aVEreK1HeZjORSn489uqHUEbE+fqgi8O1zuEAf6ZSkBLfATmZt4Dt/hECGHxbDq9RE/sF\n",
       "KYUtguE3dOO2EfMLtaBoFn3FugiZ6lDnGAF4oRskoCUYskLO0kA1hOxwskutsUNJ7xtbMwta/54L\n",
       "dHuGbFPmZjcyAhZkMmQlKzmamzaduFna9wwxopAUC0igTDksP4j7DxhHWRQTPoobEMvmdTvw+2Lt\n",
       "G1xFKj+iksOyVpzYP6TZHX+vQuVdacUJwFbqVd6BhfYcmx7SHpIJoxL+tZhLKlHwSCUU9/u6UPsS\n",
       "sUS9Xef5WtJVxwDr3CBRzS4r5FANVEPIDie77EJj2ppZRF1U6Gejd6bl+9NLfQdzd1Hma7++JQtt\n",
       "OnFDNamMxx3FqgOjDaxtoIW1uN/gQZqs3TICHUvz7O41T98zEvylMgxgCvFjhJUN+2y8sI6yc5hL\n",
       "KlXJYHUkbqWJZFaYqUNgFJptsNtqgw/TkTor/Rgs7wvOoQ8fKHxsXVJZ7pXKDPfpiZ3/5ys1EeX3\n",
       "X1Zae0CrvXUzZJUKslzrJBskAqqgKkJ2uBleFsfpe4awYPUKFd4ucF7n2dkG03v7X5L+tGmam3EX\n",
       "Ugm9Bta4W8z1cEl7/ehiRSqkz6sLYfFhEmlX1L/4KKuZQd3Ocz+/Vk3jqlLZBPB2N7uyeHGTbRVN\n",
       "hspiGNyOZIwnaQruLfuT9oeKEosPwuxBewDq9xpFL0N0LAyvrwfzwHcS8PGg+9OkGqKvpvvufNmZ\n",
       "/moWGbukkvZKZb5bKjTpyKNqBcw3A82mOeZdI1algugLmQ0SAVVQFSE73Hyf3Hj2vuc76552UUl7\n",
       "sg5ZBuNHG56PC+6uH0wG1JZst/ekT5dgwFTzBMZUn8KlvlIxCL3ziIadA4hzsbSmpvT46XuzIfu9\n",
       "2Qz7j85vaz9w8irKb2s3Qsz7i9FpPTgvDcy3fOqtUgGN9HH5ZQFUQTWEbHAxv1+9Zu0bW2sWs7PP\n",
       "YhcHQynP7OFwd0llokcqMNKNICtmL2iN+3sVHlTa7osuFJkAz5WvVHFJJe6VStS1zMHS//TNsmzq\n",
       "uehCmdqeW5VTQSqas+PvLqlY0GWp5Mr/iVT+65KTSk4q3jLv0hOViq9lrpy2UjELIycoFX/LXDlt\n",
       "pRJJnegG5G+ZK6etVApsv+C2K/8Lzt8yV77y5UT/F1z4hUEn2OOJW+bK/7r8G7eX/mxSQXl6AAAA\n",
       "AElFTkSuQmCC\n",
       "\" style=\"display:inline;vertical-align:middle;\" /></a></dd>"
      ],
      "text/plain": [
       "<IPython.core.display.HTML object>"
      ]
     },
     "metadata": {},
     "output_type": "display_data"
    },
    {
     "data": {
      "text/html": [
       "<dt><a class=\"ProveItLink\" href=\"axioms.ipynb#multi_qmult_def\">proveit.physics.quantum.algebra.multi_qmult_def</a></dt><dd><a class=\"ProveItLink\" href=\"../__pv_it/axioms/4a0b7fff5eca7af9b84edc9ad19d4f4a1cdfe02b0/expr.ipynb\"><img src=\"data:image/png;base64,iVBORw0KGgoAAAANSUhEUgAAAd8AAAAzBAMAAAAk3x8mAAAAMFBMVEX///8AAAAAAAAAAAAAAAAA\n",
       "AAAAAAAAAAAAAAAAAAAAAAAAAAAAAAAAAAAAAAAAAAAv3aB7AAAAD3RSTlMAq1RmmUTNIjK7EInv\n",
       "3XZ/CtNrAAAACXBIWXMAAA7EAAAOxAGVKw4bAAAHJUlEQVRo3tVaX4wTRRj/urvt9rbtXi8a4oNw\n",
       "TYwkBsldIl68RLkihxEOQoUHiSFSRUPEB0piMCh41Qej8fCqMYEjyl2iLxwKPR4w4R4oEAQhmqr4\n",
       "5sUSjARDoMB5HHeROrO7s92Z/dM12zAySbf9pt9O5zfzzffn1wXw1UZHR+Heb8ro6IhP1d9rk038\n",
       "4Zb8XQa61/jdWq3g85ZfmzqB+2gx16xxXQfaRTZW5AI4VKRENaW9baM6t3kPIWedel90UxfKXAF3\n",
       "0eIC/W0L1bnFe4hIlRK7a21tr+VB7XTTH+MJWD5NHzB9s4QatSU17zE6aMDwPbKbaYDNbvqJTo6A\n",
       "ExVKlPS5SO3WE0hL9rbkFr2GdwDCyK0ucrXpsxwBP0mLcf3t22NW101LthZ7e5qSRSSKCHTcNeq8\n",
       "whHwOVqcr+9R5VrKsmOUZG/vqDdoN4gsPIJOSsT1EG/IcQOsztByn27D0GGZLC3ZW1q4SVtJAZS5\n",
       "yCZiSVcvl+QGOMFMaqN2XQODlmBFS7YWTkVnqY7BfVfn4BUSNQe4agK3n+hDPMMN8CBzOn/W9wz6\n",
       "0UJ8aYRXTVLG21yOpATydarjWg6EkxhWyTXZusMN8IOMfEqz88962wsQvaonCLokgVR2HuJy75Lb\n",
       "VMfn6IXdXLTq+rNfcAN83AnwQYDWspkR6VJrRp523i0U1/6hevB+96DesOsOQ0+OE+DoTXAw6TQ6\n",
       "2yUTsC6JIy6AJfT6DQXdJ64mL+4xx2zPkPudzjAc6uQEWL3FdOzDXqhTzxb1CRMJYs4mvVZLPZXH\n",
       "TyJruUDGjE5544knOQFuKTmkuTvwF7cIYCIZRY6CoRzKkgvIeIThnHwwC9N6UIugnvU4rZTcfXtL\n",
       "2QCsAX/IB2B/ig1bnF3jXQD7a5tBGJ4q6oBNSTbK2PM4mKXJRRmeGoFHaq9DqBItaQciNHy9bc6n\n",
       "WsjLuCdnVQPwMvy+yQdgf4oN26E0G5fzDmWc1t6ANz2XLq8W5CoV5Ha6a4t/G4DfxUZS8AHYn2Lj\n",
       "MFxhZ5J2ASzv+WCF10j9aI/FArV+Sz2c5R0DcASdk1jKB2B/ig1bh22I3XWIR2YtyxGv1apeIz0H\n",
       "kZw8z5qbeO2HMmkAFrFL9OO0/Ck2bD22Mmh/8xyiV015nXjpHyYmzvny0r4UG7ZrtknJlWYBvuT1\n",
       "5W0C+FmAvb4Am4pWK1Kc9V3rUjg2AnzadwTwVpCdi6oYA5goKmcsX3ztWKhTKvDh5PhyU201L8AT\n",
       "BHDLSIyJXjv7MuJxPYOzAiaKMWvxfczRjVEqIJZBNdONdk54cTKqAxYqVlcUvTCUEZJHYYUdMFFc\n",
       "96OlMh1wPIBWFZQYpEGs/n8AQ3axpbsX2Z6wWIKiHTBRrLxkyYwjjsfBqoLiSwq+6fQw6RwEJuOZ\n",
       "22Uvk4bDKAsVl358Qe02mF3hvecrxVjvqt5lNODDGguqwjMWZFLWqUCwqqAM4eKiB+pnwAYNE/FB\n",
       "yXiGgg9XPJwW7MBUw/rOeFJN6jFRyB992GmHd2i7uQ6uAGzX9ymcR4dzzR9sBqup1NtToNxfD0s2\n",
       "L7cAgpPxJgVvUPIXXepwDXAITeGtP6E1j2qNtTpgSS04AA5pc+0bbx+JLtQBS+NjM1BS2IQIq1hE\n",
       "hLY/45p4YCI+OBlvUvA6JR+xH5xJujycBwOQSEHX0NBQSsgrxawDYMNcoT8PCX3ACqAaPRctsRaN\n",
       "VMSnH1u2QAd3AmCDCbODNQdMxAcn4wkFb1DyYtoWKWdpwGfgMvRH4SN9h2FNxR6Hzeq7NYUBK0Wt\n",
       "UkcBqCUDB7BoXHQV4TKcEoq4R54B5Xy9eGD51zg0g4wnFDyh5M+6Fg/GwlTRHndLKNbi3gyoSRcC\n",
       "QDoOyupXMeDoCViZhK+mMjgFG0hFT8NADl9ShsoeJSulsFbX7PjyerRuZdd+PjSDjCcUPKHkN7Lq\n",
       "wg0KcDiJSt2tf6GSDJfkm4xy353xwCYtkKUeQeZQnxv5VBaKCbGuZd7JuvU+aAYZTyh4QsmPOVNL\n",
       "dornwNBQpjHFE71yGOAF4kxrZQibToJ8UpJqJnSprmVmISzFsxGaQcaLxjoSSr6L1Q9VA3Na1vUX\n",
       "HT7ZtbTvZxxYy+BkPKHgCSX/qDO1xIOmveHASwcn4wkFTyj5QRs/UuEE2JGID07GEwqeUPLrbcQD\n",
       "LyIeVrqZdDoIGW/cZVLyC9kb5gIvwBsYp7gPmkHGG0hMSr6bvYHfn2kJJhCPQTPIeIOCj5QMSr7P\n",
       "2VfyAMy66V3QDDJep+DrlLwtceD3hzj7yAMm4oOT8QwFL7MHgeMjD9BDR1ac5wcn45faKxKqfQL8\n",
       "AEeYBGo3BCfjWQp+O5uXzXAEHKUfTNNIh6BkPEvB72aPcIojYFSI0uetEpyMZyh4la2kuT56yD5c\n",
       "ehdaOPtfAf/S1AfEX77bgN/X/aQyetAv4Hv8AXGD8cIPiP8LG66NWS72K/sAAAAASUVORK5CYII=\n",
       "\" style=\"display:inline;vertical-align:middle;\" /></a></dd>"
      ],
      "text/plain": [
       "<IPython.core.display.HTML object>"
      ]
     },
     "metadata": {},
     "output_type": "display_data"
    }
   ],
   "source": [
    "import proveit\n",
    "%theory # toggles between interactive and static modes"
   ]
  },
  {
   "cell_type": "code",
   "execution_count": null,
   "metadata": {},
   "outputs": [],
   "source": []
  }
 ],
 "metadata": {
  "kernelspec": {
   "display_name": "Python 3",
   "language": "python",
   "name": "python3"
  }
 },
 "nbformat": 4,
 "nbformat_minor": 0
}