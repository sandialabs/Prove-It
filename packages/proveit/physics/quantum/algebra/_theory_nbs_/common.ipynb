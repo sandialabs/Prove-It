{
 "cells": [
  {
   "cell_type": "markdown",
   "metadata": {},
   "source": [
    "Common expressions for the theory of <a class=\"ProveItLink\" href=\"theory.ipynb\">proveit.physics.quantum.algebra</a>\n",
    "========"
   ]
  },
  {
   "cell_type": "code",
   "execution_count": 1,
   "metadata": {},
   "outputs": [],
   "source": [
    "import proveit\n",
    "# Prepare this notebook for defining the common expressions of a theory:\n",
    "%common_expressions_notebook # Keep this at the top following 'import proveit'.\n",
    "\n",
    "from proveit import Variable, Literal\n",
    "from proveit import v\n",
    "from proveit.numbers import zero, one\n",
    "from proveit.physics.quantum import Bra, Ket\n",
    "from proveit.physics.quantum.algebra.hilbert_spaces import (\n",
    "    HilbertSpacesLiteral)\n",
    "from proveit.physics.quantum.algebra.qmult import (\n",
    "    QmultCodomainLiteral)"
   ]
  },
  {
   "cell_type": "code",
   "execution_count": 2,
   "metadata": {},
   "outputs": [
    {
     "name": "stdout",
     "output_type": "stream",
     "text": [
      "Defining common sub-expressions for theory 'proveit.physics.quantum.algebra'\n",
      "Subsequent end-of-cell assignments will define common sub-expressions\n",
      "%end_common will finalize the definitions\n"
     ]
    }
   ],
   "source": [
    "%begin common"
   ]
  },
  {
   "cell_type": "code",
   "execution_count": 3,
   "metadata": {},
   "outputs": [
    {
     "data": {
      "text/html": [
       "<strong id=\"HilbertSpaces\">HilbertSpaces:</strong> <a class=\"ProveItLink\" href=\"../__pv_it/common/b018d64ace3d2c0400863e94aa36bbed3bcf10880/common_expr.ipynb\"><img src=\"data:image/png;base64,iVBORw0KGgoAAAANSUhEUgAAAH0AAAASBAMAAACEDMyZAAAAMFBMVEX///+qqqqIiIju7u5mZma6\n",
       "urqYmJgyMjJUVFTc3Nx2dnYQEBAiIiJERETMzMwAAAAO8wFwAAAAAXRSTlMAQObYZgAAAAlwSFlz\n",
       "AAAOxAAADsQBlSsOGwAAAfxJREFUOMulkzFoE2EUx3/JecakMTmHThXaRqFrJgXJcEKQ0imKkwge\n",
       "HQpOZohURDCCliCCVxAsdGgGbUnWWkkqFRex0CGHXSoiDS5WJKRIOpySxPddpGhNtZjHfTd83//3\n",
       "vf97745aZSU/Iyv4nE8lLi+zN7Rk0jDZP+qOrDR6A1ZhD5+HRJXj6b/wc1lZckccNuDmb2dBSfwE\n",
       "Dh+EpwvvNzs7zn/ydeHfizHr3/zjksdnxk8a8Chm6mvDC9MPV+8wuJwCfW0+OSWFxIpxtLGioRR8\n",
       "HB9RfCmX23S85gl/yyZDpMwI0bNzVljy+9vt69C3RMJkwD6UZtbQXyqF5hD+xf+G99yAKynBokb4\n",
       "lYbiOfWgbRHI4tsRXneZxFdWiv5FQn/wGYiaddHnhejw8GWbgIkmE9Yuudo31RilqLy1u/LO4LmJ\n",
       "iaoQHi+903cUTxNt9Jgb+SqQpzhzu7FPfmmh3K/4kDe71s/8A6mIq2ygFMG4dq3apf56tU+2UooP\n",
       "CP9alNte/S2eobufJ8GnFOeHOGLtfr986PQ/zn0iS4Rs5T2UDvHG4LRUWyaRp4G/dXXWoqAU04sc\n",
       "tdmqNOX/aeZrL9Zr39+x3n9Bxj0zVtA3V8RjrkD24ug9cTIVk/fW8ImFIe1u0fYU87GnHDQCJj1F\n",
       "r3w42xMu3bC7HvwAobrH5y7o3roAAAAASUVORK5CYII=\n",
       "\" style=\"display:inline;vertical-align:middle;\" /></a><br>"
      ],
      "text/plain": [
       "HilbertSpaces: HilbertSpaces"
      ]
     },
     "execution_count": 3,
     "metadata": {},
     "output_type": "execute_result"
    }
   ],
   "source": [
    "HilbertSpaces = HilbertSpacesLiteral()"
   ]
  },
  {
   "cell_type": "markdown",
   "metadata": {},
   "source": [
    "Use $\\mathcal{H}$ as a generic Hilbert space:"
   ]
  },
  {
   "cell_type": "code",
   "execution_count": 4,
   "metadata": {},
   "outputs": [
    {
     "data": {
      "text/html": [
       "<strong id=\"Hspace\">Hspace:</strong> <a class=\"ProveItLink\" href=\"../__pv_it/common/0a298dc12c549b5fdc96454972e9674c7dbf104f0/common_expr.ipynb\"><img src=\"data:image/png;base64,iVBORw0KGgoAAAANSUhEUgAAABEAAAAQBAMAAAACH4lsAAAAMFBMVEX///+YmJh2dnaqqqqIiIgi\n",
       "IiIQEBC6urrMzMzu7u5ERERUVFQyMjJmZmbc3NwAAABVD4qdAAAAAXRSTlMAQObYZgAAAAlwSFlz\n",
       "AAAOxAAADsQBlSsOGwAAAINJREFUCNdjYOC785uBgeHVBAaGu+35QNZWBgauCwyhQNYXBgZrBoZf\n",
       "DAzM/4A8Bs5PDAzcASAW+3cGBn4HEIvpAwOD/QMgg2Pbr1Wr0sCS8puNzUFGgmX4PoJZaxgYGH+A\n",
       "DQEayvsBxGL8CbQoga8BSC5gYGD7UQY0hguIeb/eZEAAAEsWIhe84uenAAAAAElFTkSuQmCC\n",
       "\" style=\"display:inline;vertical-align:middle;\" /></a><br>"
      ],
      "text/plain": [
       "Hspace: H"
      ]
     },
     "execution_count": 4,
     "metadata": {},
     "output_type": "execute_result"
    }
   ],
   "source": [
    "Hspace = Variable('H', r'\\mathcal{H}')"
   ]
  },
  {
   "cell_type": "markdown",
   "metadata": {},
   "source": [
    "QmultCodomain is the proper class containing all possible Qmult evaluations if and only if the sequence of operands (bras, kets, and/or quantum operators) is valid:"
   ]
  },
  {
   "cell_type": "code",
   "execution_count": 5,
   "metadata": {},
   "outputs": [
    {
     "data": {
      "text/html": [
       "<strong id=\"QmultCodomain\">QmultCodomain:</strong> <a class=\"ProveItLink\" href=\"../__pv_it/common/9eb627883d0de35514f5f025d8d6d9a6894424630/common_expr.ipynb\"><img src=\"data:image/png;base64,iVBORw0KGgoAAAANSUhEUgAAABcAAAATBAMAAACJlYuFAAAAMFBMVEX////c3NwiIiLu7u5mZmaY\n",
       "mJjMzMyIiIhERES6urp2dnYyMjIQEBBUVFSqqqoAAAAzIhdxAAAAAXRSTlMAQObYZgAAAAlwSFlz\n",
       "AAAOxAAADsQBlSsOGwAAAJ5JREFUCNdjYIABEQYECDPhAtNvz+8CSqy4CmLPKEs9v4GB07sYyGZ3\n",
       "YGAw+s6wyirbgIFhBVCA8xMDgyyI/gxSep6BgRFI8SwAcfZDjHw/AURugnDWC4DIIxDOfZAM2zcI\n",
       "p/4CkOBwgHDsvwhkCQRB3cSm/8eZczPciQYMJXC25FTfCTA20///QN05BhCeaP//q4k74Qrf6uuC\n",
       "bWYAAGMRJjpb6DjkAAAAAElFTkSuQmCC\n",
       "\" style=\"display:inline;vertical-align:middle;\" /></a><br>"
      ],
      "text/plain": [
       "QmultCodomain: Q*"
      ]
     },
     "execution_count": 5,
     "metadata": {},
     "output_type": "execute_result"
    }
   ],
   "source": [
    "QmultCodomain = QmultCodomainLiteral()"
   ]
  },
  {
   "cell_type": "code",
   "execution_count": 6,
   "metadata": {},
   "outputs": [
    {
     "name": "stdout",
     "output_type": "stream",
     "text": [
      "These common expressions may now be imported from the theory package: proveit.physics.quantum.algebra\n"
     ]
    }
   ],
   "source": [
    "%end common"
   ]
  },
  {
   "cell_type": "code",
   "execution_count": null,
   "metadata": {},
   "outputs": [],
   "source": []
  }
 ],
 "metadata": {
  "kernelspec": {
   "display_name": "Python 3",
   "language": "python",
   "name": "python3"
  },
  "language_info": {
   "codemirror_mode": {
    "name": "ipython",
    "version": 3
   },
   "file_extension": ".py",
   "mimetype": "text/x-python",
   "name": "python",
   "nbconvert_exporter": "python",
   "pygments_lexer": "ipython3",
   "version": "3.7.4"
  }
 },
 "nbformat": 4,
 "nbformat_minor": 1
}