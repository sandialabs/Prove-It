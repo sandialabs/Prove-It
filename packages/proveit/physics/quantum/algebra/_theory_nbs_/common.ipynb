{
 "cells": [
  {
   "cell_type": "markdown",
   "metadata": {},
   "source": [
    "Common expressions for the theory of <a class=\"ProveItLink\" href=\"theory.ipynb\">proveit.physics.quantum.algebra</a>\n",
    "========"
   ]
  },
  {
   "cell_type": "code",
   "execution_count": 1,
   "metadata": {},
   "outputs": [],
   "source": [
    "import proveit\n",
    "# Prepare this notebook for defining the common expressions of a theory:\n",
    "%common_expressions_notebook # Keep this at the top following 'import proveit'.\n",
    "\n",
    "from proveit import Variable, Literal, ExprRange\n",
    "from proveit import i, n, m, v\n",
    "from proveit.logic import Set\n",
    "from proveit.core_expr_types import a_i, b_i, x_i, v_i, w_i\n",
    "from proveit.numbers import zero, one, two, subtract, Interval, Exp\n",
    "from proveit.physics.quantum import Bra, Ket\n",
    "from proveit.physics.quantum.algebra.qmult import (\n",
    "    QmultCodomainLiteral)"
   ]
  },
  {
   "cell_type": "code",
   "execution_count": 2,
   "metadata": {},
   "outputs": [
    {
     "name": "stdout",
     "output_type": "stream",
     "text": [
      "Defining common sub-expressions for theory 'proveit.physics.quantum.algebra'\n",
      "Subsequent end-of-cell assignments will define common sub-expressions\n",
      "%end_common will finalize the definitions\n"
     ]
    }
   ],
   "source": [
    "%begin common"
   ]
  },
  {
   "cell_type": "markdown",
   "metadata": {},
   "source": [
    "QmultCodomain is the proper class containing all possible Qmult evaluations if and only if the sequence of operands (bras, kets, and/or quantum operators) is valid:"
   ]
  },
  {
   "cell_type": "code",
   "execution_count": 3,
   "metadata": {},
   "outputs": [
    {
     "data": {
      "text/html": [
       "<strong id=\"QmultCodomain\">QmultCodomain:</strong> <a class=\"ProveItLink\" href=\"../__pv_it/common/9eb627883d0de35514f5f025d8d6d9a6894424630/common_expr.ipynb\"><img src=\"data:image/png;base64,iVBORw0KGgoAAAANSUhEUgAAABcAAAATBAMAAACJlYuFAAAAMFBMVEX///8AAAAAAAAAAAAAAAAA\n",
       "AAAAAAAAAAAAAAAAAAAAAAAAAAAAAAAAAAAAAAAAAAAv3aB7AAAAD3RSTlMAVKvvzYlEu3YyZhDd\n",
       "IpmEQkzKAAAACXBIWXMAAA7EAAAOxAGVKw4bAAAAnElEQVQI12NggIF7DAgguY8DTAvZuwIlwhVB\n",
       "7PTOWfYODGxPuoFsjgIGhj0/GFq3TgFywoGY7Q8DwyUQ/Ruk1J6BgRdIMQeAOP4QI+UTQKQPhBN/\n",
       "AUTaQTj6IBnOnxBOvwKQYH8A4ez/d2HqhTVQN3Ge//yazRvuxA0MfXD2tKxHCTA2z///QGsnb4Dw\n",
       "Lur/15rrBlcodP4Q2GYGAPbGKNy7EZ90AAAAAElFTkSuQmCC\n",
       "\" style=\"display:inline;vertical-align:middle;\" /></a><br>"
      ],
      "text/plain": [
       "<IPython.core.display.HTML object>"
      ]
     },
     "metadata": {},
     "output_type": "display_data"
    }
   ],
   "source": [
    "QmultCodomain = QmultCodomainLiteral()"
   ]
  },
  {
   "cell_type": "code",
   "execution_count": 4,
   "metadata": {},
   "outputs": [
    {
     "data": {
      "text/html": [
       "<strong id=\"n_bit_interval\">n_bit_interval:</strong> <a class=\"ProveItLink\" href=\"../__pv_it/common/71a545666cbdfcccb17b0d4d7d2f98f758af73740/common_expr.ipynb\"><img src=\"data:image/png;base64,iVBORw0KGgoAAAANSUhEUgAAAHYAAAAVBAMAAABh6QfWAAAAMFBMVEX///8AAAAAAAAAAAAAAAAA\n",
       "AAAAAAAAAAAAAAAAAAAAAAAAAAAAAAAAAAAAAAAAAAAv3aB7AAAAD3RSTlMAEER2zVSJ3Zki72ar\n",
       "MruaaVGaAAAACXBIWXMAAA7EAAAOxAGVKw4bAAABZ0lEQVQ4y2NgYGBUYsANuLsvW2ATnzoBTJko\n",
       "4tErrbWBawIWcd5zAkCS9SOQSLPAomBGy1uGiSYM/ALo+gqBBN8BIMFWwMDAEsBYiaGV8wFDvgLD\n",
       "YQYtNHGZlo9QbWBiOwNDHoZengkMXAsY1jJ08KJJMKPofcPAEI/uMgaujww8Pzk/MNTG4tX7g4Hh\n",
       "fgCGvQUMPH+ZDjCYbcCnlxGkdwOW0GT/gC3sEXo5HBg4vwH1GmBRhVUQopd5AZCYtQGiNwGLqhoG\n",
       "nHo5vzIwzHECpiygXn0sVnA8QLBFykGgFq6XQcaVgbdPABxW8QGYevcw4LaXIUUBkkDeMTDsx4gj\n",
       "BtYEhpk49bLCAmwXA0MLppprDAyGuMN5AVQvewDjWrCwvAPQ91+gabKio6MAm162n8hpg7HN5gIk\n",
       "QhuARAU0cv///++ARSvPqS+nkfSSASjWC04gpAMOB2gCIQNIgdP/jKNkaJ0G1AQAvhFiaHv3L2wA\n",
       "AAAASUVORK5CYII=\n",
       "\" style=\"display:inline;vertical-align:middle;\" /></a><br>"
      ],
      "text/plain": [
       "<IPython.core.display.HTML object>"
      ]
     },
     "metadata": {},
     "output_type": "display_data"
    }
   ],
   "source": [
    "n_bit_interval = Interval(zero, subtract(Exp(two, n), one))"
   ]
  },
  {
   "cell_type": "code",
   "execution_count": 5,
   "metadata": {},
   "outputs": [
    {
     "data": {
      "text/html": [
       "<strong id=\"x_1_to_n_kets\">x_1_to_n_kets:</strong> <a class=\"ProveItLink\" href=\"../__pv_it/common/6c68f258671d569eb40f03030dd17c8a8b0a60dc0/common_expr.ipynb\"><img src=\"data:image/png;base64,iVBORw0KGgoAAAANSUhEUgAAALUAAAAVBAMAAADyYbJ0AAAAMFBMVEX///8AAAAAAAAAAAAAAAAA\n",
       "AAAAAAAAAAAAAAAAAAAAAAAAAAAAAAAAAAAAAAAAAAAv3aB7AAAAD3RSTlMAEER2zVSJ3Zki72ar\n",
       "MruaaVGaAAAACXBIWXMAAA7EAAAOxAGVKw4bAAACY0lEQVQ4y42VP2jUUBzHv++uyV3un0/OoSBq\n",
       "FNwEA+ekFYpbt3OROrWIraAO56RjtIJgoWRUkfbASboUQdBBPFEXdTgHdalg3QQLHqjgUGp+7+WS\n",
       "Xy65kAx3v/d9+X7y8nu/3wsAcQTwEF31MOIq+hh7WbER+a3zOj5xGLjA5hohhavYHs82bYz6N7co\n",
       "NAYjFMNNZc/mZWv/TzXRGaV0UtmlvGztv5TOXkhlm+287IUM9moq2/qWl72awZ7w0tiYyctW/hi7\n",
       "OXVgUb+2MR+xIxXnstii9erzMJfKr9jlaU1xi6/LnfhmxtVSFruMKecO38yTFDzYUJSqVx3UNrCf\n",
       "nnQrZGtVLH6Q/iLsDPZzvJTvh2Pyr/lv+/CMptTVC9Rb9MzNkK3VMmjt9V4Gu4/b0Zj84k0b9RUZ\n",
       "7FrFoVx1WGaH6h7b2mHbkL6Xj6Ix+U1ac6MXUI57Qmr2DGOTWpXEnvCy2IV/2ItnL1pu4J+TUZ0c\n",
       "tN/B1OumSpbgqrrJL1uR5CqELb7XupgXT9bxOOiEy6wG5z7exVHN9jtQ/AZX8UWqdjvkJ19NhYH6\n",
       "MW1jZ7JbaFvNaQyCDub1PdkyltuaTcV2XXLV2tKVVbrm/9+genSDQN3or3vJmX0K1JxCNyjWlL4k\n",
       "Np14huTqPdzXx9vZRE4Myfqy0i+7fX1ijmH/IJX3vLX99SYatJXJUjF5z6+h9Kmv/Jpd7HLKxb+O\n",
       "oPZpcnZld/cX9lF2nQS7ydnHULwC5dflbv0ZOZWK1KhO4qw6RVPJOnESZ5Xyi3WdzLfAaTZXCyOu\n",
       "ojf+21CMfUvJb131K+A/Qf+U+UmBuo4AAAAASUVORK5CYII=\n",
       "\" style=\"display:inline;vertical-align:middle;\" /></a><br>"
      ],
      "text/plain": [
       "<IPython.core.display.HTML object>"
      ]
     },
     "metadata": {},
     "output_type": "display_data"
    }
   ],
   "source": [
    "x_1_to_n_kets = Set(ExprRange(i, Ket(x_i), one, n))"
   ]
  },
  {
   "cell_type": "code",
   "execution_count": 6,
   "metadata": {},
   "outputs": [
    {
     "data": {
      "text/html": [
       "<strong id=\"a_1_to_m_kets\">a_1_to_m_kets:</strong> <a class=\"ProveItLink\" href=\"../__pv_it/common/43a89e8326225d027dc0ee9185315bf7576139e00/common_expr.ipynb\"><img src=\"data:image/png;base64,iVBORw0KGgoAAAANSUhEUgAAALcAAAAVBAMAAAD2lGJJAAAAMFBMVEX///8AAAAAAAAAAAAAAAAA\n",
       "AAAAAAAAAAAAAAAAAAAAAAAAAAAAAAAAAAAAAAAAAAAv3aB7AAAAD3RSTlMAEER2zVSJ3Zki72ar\n",
       "MruaaVGaAAAACXBIWXMAAA7EAAAOxAGVKw4bAAACbUlEQVQ4y42VPWgUQRiG38lmb3cvuc2CVirc\n",
       "aZlqhaD4Ewl2qTwbz1QehiiIwtloyosIFoKuCKJyJLYiyhXWceGilcVBClEiJFgJBi9qSonzt7ez\n",
       "v+4Ue7Mz7/vs3Mz3fQOAHAE8hK0SdCxlEH1kNiv2zgDWnOhPHQYuK3N2wCnVlNHtbHhEFwA2tlhX\n",
       "30EUrrfTTBeLwwXgB59qxeBopZmM4nABuJoOX0gzlerF4Qs58OU0k7VZHL6cAx/10kyzxeEcEIFb\n",
       "H0648kCaoakz/1g6LuTCQ10A4HBzRsAnPXsneqLUNPISP53/nWhUFwBOss7zLoeTVzBbIG/Z0J2h\n",
       "6UAX90CufKRGs5YD57qwMcAKjYDOWXC4OYDRxPpx9rYxND0EbsFkn0XFz4FzXdgYgKzVUXngcHh5\n",
       "E1W6toayvdT0BuQXJmrW3/AkUuFcFzYGKLFV2z6HV128g4TPBibyG2MDjDkMPuplw6Xu/vppbbUv\n",
       "AZecMFqqdazpHoezkHaEaRfjM3NCQ4OXJMGq7uBkt+xrvsyJa0oo2q6+aIqV02Qkf8Tf/YZGm1aK\n",
       "Tw5PuyoNLD7DH8O3QPdoChN9symzWY1z0rvRmRZwFnS3HW46dOxzrw9rS4SXcZP+LkI+jHZc18MX\n",
       "GHUZtSkZ2pAFUHeUzHuKZ6LUnU9sS0T3GmewUpEVNAP+nY0qaW1tf12Czc4zGTAR3YCufdUUAAHX\n",
       "XijwJ+fmQVjK7lNM5b29AfazrXYTcFU34tMw6RwVANzl39uNFS6NpawbL0in2EwyWtyUwsUBNOP5\n",
       "jr4HppW58aFIvTf97MtCi92vDGBdpwf7D/OZnHy16FOaAAAAAElFTkSuQmCC\n",
       "\" style=\"display:inline;vertical-align:middle;\" /></a><br>"
      ],
      "text/plain": [
       "<IPython.core.display.HTML object>"
      ]
     },
     "metadata": {},
     "output_type": "display_data"
    }
   ],
   "source": [
    "a_1_to_m_kets = Set(ExprRange(i, Ket(a_i), one, m))"
   ]
  },
  {
   "cell_type": "code",
   "execution_count": 7,
   "metadata": {},
   "outputs": [
    {
     "data": {
      "text/html": [
       "<strong id=\"b_1_to_n_kets\">b_1_to_n_kets:</strong> <a class=\"ProveItLink\" href=\"../__pv_it/common/31d0e9c040e07bc01bda32f9f962f1ff8badb0530/common_expr.ipynb\"><img src=\"data:image/png;base64,iVBORw0KGgoAAAANSUhEUgAAAKsAAAAVBAMAAADLBgMvAAAAMFBMVEX///8AAAAAAAAAAAAAAAAA\n",
       "AAAAAAAAAAAAAAAAAAAAAAAAAAAAAAAAAAAAAAAAAAAv3aB7AAAAD3RSTlMAEER2zVSJ3Zki72ar\n",
       "MruaaVGaAAAACXBIWXMAAA7EAAAOxAGVKw4bAAACcUlEQVQ4y4WVPWgUQRiG372fvdtwe1mIWKh4\n",
       "0VrIwln5A6eVAYuzEa1yHEpEU2watVxEsBD0ShHJBSxEUnha2QgnGhubbQQLBe1UtDjJBSwkzvfN\n",
       "zM5cNlkX7vh25+HZ2fnenQXgHIYHcyS66JlrPnY/LIw576Ksjx6CO2uGfumia67Vk921Fia5T1+p\n",
       "LI9A2oNP1NAFwzs/IlmW4zxtiinuJ/25EWtxRg1VrGmUtC7KnW2KSW7R1o7ViNs2/LSuL+dqU0xy\n",
       "trYwUiPeF8PPBapeydWmmORsrZs+57zhF/W1Ui9Pm2KSs7WlNyfUo5w3/NnmuupFJ0+bYpJjbbXF\n",
       "2sYp589kz0SLN4JG7389m8CYO0bFwwFrFwI8xv4W3WdW8yJ7U+Hepdfi5FaOljF1RlxfPPaj02Dt\n",
       "bWDTb9LN/KHmxYNMd2LcoYznaBlTZ8Q5b9vw7wWsvY7CGOXIWscuKh3MtX+jn5gF30nLGExjXJpp\n",
       "fcjaMaojqdVd71Ie7wfPWTufo2Xs5atmrGK0EJgk/MW+gdSK7DmKT5w12VkKc5AxWpjzYg1PVeiv\n",
       "WgF7j2+QWvGmNFrM1wZ1MQN/mV89Z4NE9EejaaEwb6aFkXpF7dweuDJQWvGrLMvkvLtLsw9k6G7Q\n",
       "dG9SAmNdWFgtLKyqcE7sCZzmSO1C58yO58Vej7e1cnYVLGwqqcaJ3P521NapYx3Dr3z+GOA7gdl2\n",
       "WVgflQ8Jc1JbXE213qXNEHtoCUPDP9vagkOLOJNtmYUdQfGa5OgVEK4xJr4Ox+lW27b9olh3hBnt\n",
       "dkxynB7gwTqK1kdlqIuT5lot51tmYcx5SyIN/wDpAJ83sw+RuQAAAABJRU5ErkJggg==\n",
       "\" style=\"display:inline;vertical-align:middle;\" /></a><br>"
      ],
      "text/plain": [
       "<IPython.core.display.HTML object>"
      ]
     },
     "metadata": {},
     "output_type": "display_data"
    }
   ],
   "source": [
    "b_1_to_n_kets = Set(ExprRange(i, Ket(b_i), one, n))"
   ]
  },
  {
   "cell_type": "code",
   "execution_count": 8,
   "metadata": {},
   "outputs": [
    {
     "data": {
      "text/html": [
       "<strong id=\"v_1_to_m_kets\">v_1_to_m_kets:</strong> <a class=\"ProveItLink\" href=\"../__pv_it/common/abc4f4a34a5873699f886f50df18f15383e90e610/common_expr.ipynb\"><img src=\"data:image/png;base64,iVBORw0KGgoAAAANSUhEUgAAALMAAAAVBAMAAAD/f8IzAAAAMFBMVEX///8AAAAAAAAAAAAAAAAA\n",
       "AAAAAAAAAAAAAAAAAAAAAAAAAAAAAAAAAAAAAAAAAAAv3aB7AAAAD3RSTlMAEER2zVSJ3Zki72ar\n",
       "MruaaVGaAAAACXBIWXMAAA7EAAAOxAGVKw4bAAACPUlEQVQ4y41VPWgUQRT+hvX2MjF7LJzYJqZO\n",
       "saAgGIvDLpVnYxIbAxKEmOIsRMtFgjYiqURE7gKWEfzBIhCEFbU/sLFI4CwFAxqSMsR5M7O7b7K7\n",
       "Ybd6+73v++bvvRkAYhoS+RekAQcxROUn3V/Sy0UTX7oAfypPtVIXDmKv2trhWf3OLwob/9xsIy6T\n",
       "LNS2Nvo/OtM7ke2VSZq1rY3+bqn1cpnE79a2Xq627pdJ5Ki2db/a+sx6mWSutrXWc+v2PTTNohtL\n",
       "mSQHcfM0a8azem091tHZpVsYT5xzdMHmadaMZ/VXKHj1nrJBd00NJz4R8jiVGPD86heawVS1teFl\n",
       "AOkHahGvr+mswBsE3R+XKbWTSgwY4yk1WVJtbXgZQHrxrYvgeajXpDrHA+bZtqbgPgZD8FkVN8SI\n",
       "04/0Ps24lejsWA++tZ7LJBr8oK3Tuim11rytzxeT2T2rvx3mFaJGWDTWVMIhGKiPW1WrKNoynvi4\n",
       "ibe4altghRWf35GRsVaNJw7AwOC+6bFJVUs6kwWcJ9sdHOGJbVynZZ5tw1hTmT0MGdgPTUU1aYhH\n",
       "xIht4PAmomADD2yZFrtx3l5yjTAHZSzXzX12o7AhnDc+9Eby79BckuXWvwlkDdzf/RmiRadYLBLO\n",
       "G6h5nx3FWm+svY08++L6HQi1kWgzybvjY+Ac7WxUsOa8GVVF8muo9VjT6z10bxhPdSeik9fOLGWK\n",
       "FRIVryetF5s6fvkdHnv6JjIOfw+T6qfAc99N0stVVSX/AcEuif7bTE3AAAAAAElFTkSuQmCC\n",
       "\" style=\"display:inline;vertical-align:middle;\" /></a><br>"
      ],
      "text/plain": [
       "<IPython.core.display.HTML object>"
      ]
     },
     "metadata": {},
     "output_type": "display_data"
    }
   ],
   "source": [
    "v_1_to_m_kets = Set(ExprRange(i, Ket(v_i), one, m))"
   ]
  },
  {
   "cell_type": "code",
   "execution_count": 9,
   "metadata": {},
   "outputs": [
    {
     "data": {
      "text/html": [
       "<strong id=\"v_1_to_n_kets\">v_1_to_n_kets:</strong> <a class=\"ProveItLink\" href=\"../__pv_it/common/30e3dea8923a3fec57a7d7ed974c3a0dc2f8c4590/common_expr.ipynb\"><img src=\"data:image/png;base64,iVBORw0KGgoAAAANSUhEUgAAAK8AAAAVBAMAAADC7aNVAAAAMFBMVEX///8AAAAAAAAAAAAAAAAA\n",
       "AAAAAAAAAAAAAAAAAAAAAAAAAAAAAAAAAAAAAAAAAAAv3aB7AAAAD3RSTlMAEER2zVSJ3Zki72ar\n",
       "MruaaVGaAAAACXBIWXMAAA7EAAAOxAGVKw4bAAACVElEQVQ4y42VMWgUQRSG/3Gzezdn9hw4e09r\n",
       "iwVFQRGOdKk8m8TYeESjYCxiIbE8JZBG5ECQKJIcWEksglgIIlyhlRYHEmwimFJIwICWEt/MG3dn\n",
       "b3fjbnE3M2+/b2dn3psFIE5AIrnCuNVzRocovFzY0HKG26ePI2gmoXrsmHWA3WKxCzO9ta2b/l46\n",
       "5nfzxJdLipneMeMLI7GFPHGlpJjpm7niuTxx0C4pnisWr+aJ5feS4tVi8VgvR4zJkmJDu+LGPCr8\n",
       "un4nFoszG7jLnamDxAnMtBFXWybWuYLaIL17swj8Pl79b/fSsKHP6cazDR0L20v0MPFGjzyIxZv0\n",
       "1Clx47Oi5zeLxQzbrqbXaPrPJ0xM4AXC9pezOrQVi1UtIjmqNItwUCxm2HY1LT60ET5S5m2oTjxg\n",
       "2l1O2ryrCtGRpvzjrHzeUjCcbEagZ1sfmBjNKrDiyUS8DHQOKy0e6x0gNvDb96e6lqb5xFlB/hkW\n",
       "65RVVrwDv8e3UH6KrFQhhsXrdby0CX/LSbegJSMWU5GJX1Z8HY+p8VWZijpG+WMiupH0LCwbLezZ\n",
       "Ek0VyMN3YLFOrEXF4uonyhm5zVlUuUP/9/Qd3X8/iyqBx6NDfZuW2cqbtgeZr5zKW8FTPrUuZZbC\n",
       "VwlcG1a7Qz4G88U/9KBT0nL3233U9d5lEyNwSnoNlc2hoVns9ZPYk4vXIPQCNhxxbX//J47q7Iwy\n",
       "4oYjPglvnmksmQn9Tp8jHq0qotFD6LyOZLMiGj2EDC3WeQk/wnM+aeNx64IDDIoPehc2tLxNmfEX\n",
       "CoaI4Q1kOs4AAAAASUVORK5CYII=\n",
       "\" style=\"display:inline;vertical-align:middle;\" /></a><br>"
      ],
      "text/plain": [
       "<IPython.core.display.HTML object>"
      ]
     },
     "metadata": {},
     "output_type": "display_data"
    }
   ],
   "source": [
    "v_1_to_n_kets = Set(ExprRange(i, Ket(v_i), one, n))"
   ]
  },
  {
   "cell_type": "code",
   "execution_count": 10,
   "metadata": {},
   "outputs": [
    {
     "data": {
      "text/html": [
       "<strong id=\"w_1_to_n_kets\">w_1_to_n_kets:</strong> <a class=\"ProveItLink\" href=\"../__pv_it/common/29b22cfc3f206832ad702f7b1d7298661f8c2cc40/common_expr.ipynb\"><img src=\"data:image/png;base64,iVBORw0KGgoAAAANSUhEUgAAAL0AAAAVBAMAAADhtvKAAAAAMFBMVEX///8AAAAAAAAAAAAAAAAA\n",
       "AAAAAAAAAAAAAAAAAAAAAAAAAAAAAAAAAAAAAAAAAAAv3aB7AAAAD3RSTlMAEER2zVSJ3Zki72ar\n",
       "MruaaVGaAAAACXBIWXMAAA7EAAAOxAGVKw4bAAACdklEQVQ4y42VT2jTUBzHv2lMmpSmBCpeJhh3\n",
       "FMHIxIMiFG+71Yv/LivTIdgh7UU9BpHNk/Q4hrQFT2ODVU9ehAoKniQIgx0U61Gohw31JvP93ntZ\n",
       "+5Y/JtD0Ne/z+6R5v9/vBYA2CxvKEUaDjnLZQfqhkhy1b4nxhdMwPWX2ZzRYVC5XwnS/Sgr0y3ca\n",
       "Gns46r+ZHGUEuf0CHdPJbMX8xZSoVm6/QO+l+M16ctRSfv9Slt8eJUd18/u7WX7MJ0cd6+T2c3Ta\n",
       "X23CCYy2mL1+GKVdHGAXN1yRtUaGXyEFyv1Wjfsbt1EeFfbVBC/CNPr4hHPe/xJ8lOToJRqsD8jv\n",
       "1FdR8tnCzNTonl4UtWO18JI97Ynld+z3kwx/RMoLhPZYnby4SmvkaWzuW4jAmaMbO8Moyi35zl9Y\n",
       "CLBKHZPhj0h5EKq9r8N57vL1YW3GHseH0ZpaaJa1BVfvQ8c+euEkL4n5lSQmKTTpv1eG3M/SMIbj\n",
       "CX/0lCzqKQGf8Yr757P8knzzdi6QJbjgTuqHzT2ECeFn1avJqDGKDchioL5wY2qV1F5vYkO20P2p\n",
       "+jRHhS3MSj/rvlM1EfUAZ4YFlm6nzfta+wU5R6fJr0PSrtawJ7cApb+e3Tm5MpB+9im2RZS1cv5j\n",
       "kx7JFWX7iL5pAfjpMWJk2S/0ZYUn9S/5+e53TelKO7A7fF814gukkqXQCkKxBaf5K5TehhLV/brr\n",
       "4gfh8dyqZA/FnZCjws+Kaspv3/3j4zhlzVeitg8OoNFCV+P5Vcmz0JsCZRVFxt+x/e0y3Ta+a+ks\n",
       "PfBj/gRSoNomH699gK6++YbR4IpyuZzx/lVJjtrLrIb+AVrXowZhQ5jXAAAAAElFTkSuQmCC\n",
       "\" style=\"display:inline;vertical-align:middle;\" /></a><br>"
      ],
      "text/plain": [
       "<IPython.core.display.HTML object>"
      ]
     },
     "metadata": {},
     "output_type": "display_data"
    }
   ],
   "source": [
    "w_1_to_n_kets = Set(ExprRange(i, Ket(w_i), one, n))"
   ]
  },
  {
   "cell_type": "code",
   "execution_count": 11,
   "metadata": {},
   "outputs": [
    {
     "name": "stdout",
     "output_type": "stream",
     "text": [
      "These common expressions may now be imported from the theory package: proveit.physics.quantum.algebra\n"
     ]
    }
   ],
   "source": [
    "%end common"
   ]
  },
  {
   "cell_type": "code",
   "execution_count": null,
   "metadata": {},
   "outputs": [],
   "source": []
  }
 ],
 "metadata": {
  "kernelspec": {
   "display_name": "Python 3",
   "language": "python",
   "name": "python3"
  }
 },
 "nbformat": 4,
 "nbformat_minor": 0
}