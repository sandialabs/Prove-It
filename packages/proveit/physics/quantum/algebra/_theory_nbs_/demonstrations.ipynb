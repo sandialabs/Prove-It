{
 "cells": [
  {
   "cell_type": "markdown",
   "metadata": {},
   "source": [
    "Demonstrations for the theory of <a class=\"ProveItLink\" href=\"theory.ipynb\">proveit.physics.quantum.algebra</a>\n",
    "========"
   ]
  },
  {
   "cell_type": "code",
   "execution_count": 1,
   "metadata": {},
   "outputs": [],
   "source": [
    "import proveit\n",
    "from proveit import defaults\n",
    "from proveit import alpha, beta, gamma, delta, j, m, n, b, c, A, B, C, D\n",
    "from proveit.core_expr_types import b_1_to_j, f__b_1_to_j, Q__b_1_to_j\n",
    "from proveit.logic import Forall, InSet, CartExp, InClass\n",
    "from proveit.numbers import Complex, NaturalPos\n",
    "from proveit.linear_algebra import VecAdd, MatrixSpace\n",
    "from proveit.linear_algebra.addition import vec_summation_b1toj_fQ\n",
    "from proveit.physics.quantum import Qmult, Bra, Ket\n",
    "from proveit.physics.quantum import (\n",
    "    psi, bra_psi, ket_psi, varphi, bra_varphi, ket_varphi)\n",
    "from proveit.physics.quantum.algebra import QmultCodomain\n",
    "%begin demonstrations"
   ]
  },
  {
   "cell_type": "markdown",
   "metadata": {},
   "source": [
    "### Make some assumptions from proving that the Qmult examples are well-formed"
   ]
  },
  {
   "cell_type": "code",
   "execution_count": 2,
   "metadata": {},
   "outputs": [
    {
     "data": {
      "text/html": [
       "<strong id=\"all_instances_in_C_nxm\">all_instances_in_C_nxm:</strong> <a class=\"ProveItLink\" href=\"../__pv_it/demonstrations/af3c2902573b75ab19a42e7920623b865c28bcde0/expr.ipynb\"><img src=\"data:image/png;base64,iVBORw0KGgoAAAANSUhEUgAAAcgAAAAZBAMAAABHmqPnAAAAMFBMVEX///8AAAAAAAAAAAAAAAAA\n",
       "AAAAAAAAAAAAAAAAAAAAAAAAAAAAAAAAAAAAAAAAAAAv3aB7AAAAD3RSTlMAq1RmmUTNIjK7EInv\n",
       "3XZ/CtNrAAAACXBIWXMAAA7EAAAOxAGVKw4bAAAFRUlEQVRYw8VYa2gcVRT+dnd2Z3b2kfUJbTRs\n",
       "VUSq0hFaMRXqQtT6QI3aH6YEu9JCaX/EEUq1KiRKfyiNdUVBLSqjlUKtNJsiQtFKbJAES1uVtLaR\n",
       "wIZGUapLCFRjCsZz78zcuZN9ZBJxOzB3zpxzz5173mcu0OhrVYO/l0Pjr/D//9FdgGKKtx2XQMh9\n",
       "8ou5yEXUGvhI2+4JIF1EG7DyjnLm3DuEKzVeyDclOJ1d5CLRio3rh093PVfc22kkSXHlRAn6qkF8\n",
       "jXEijQIZNuX6hsmoDvCH8oVF483A/uPyTt/7ri6zRz83lzQ+iI//zj3/C5po4UQXfehgHtN4kJGA\n",
       "e9iUzQ0TUinyR38vGVHPE7RJpsbmCVhBj1lzlv2Z1m3NoQWdsIVEqKQN4AcC+iy8xNRbaJiQTe38\n",
       "cbSDdqkYBE35qPP4r6BH5mhjZ5zWC+UwjLs14DxbOdmTLqiTPaQQg+skkW2YkK9zE0Rn2JgUkHtt\n",
       "sOpze/Rvnah+f+w0ey6NM2821EmcuclJPN1ky0iBlKEUECGhY43LO3/wMcFj60YBudeRebg9+kY7\n",
       "AXU5Uhe22e8ZnDdYCQmZeBQxU20heprSwPGxsWONE/Jq7mzXfM/cjWWFWMu45EZPlS+vy+3R+/m4\n",
       "3ZFRzeyqk4rJWe4D9iy2gQgHLHRexn/Xjq2Sa42+rfpfXvb80+qrt6JDpzjD7ZATplZ8vDaXNg08\n",
       "Q3qAtkWgtlSZJuGcHJX+asJkLVowRsWzBR+72T556lth4QT25h2dzSBZOtC/tGa3xOjAGQJv4Yi8\n",
       "W5hyT9apWheAuJWgjNcscM1V5jXPFTK6GeoQ9ExAxmjRRYzwcQUfv6H7XuCiVnYCU8mjqZjDQzXr\n",
       "D6M7CYzrkEJt7Czf1Qt17E9Chkss7wwL3HCVecNzhbyV7vuhtAdl3Oq35BEh5E+ITiHsCJkqYkP2\n",
       "gmPnKhen22An374ofXvidSw5zWy+hnTyz7gTwx4keZ2EKwi+u5AKzHjIL+QbcN11CsqMEJLK4CPW\n",
       "6tpCcro+kXW0DIjUvI7VSbRXj0kW9IdIzenRtJNRPEjqMSUcFzLEguFLbA/MeIOLWcLHE3z8gO5p\n",
       "fGpwIXUmRI8+aNu5sl4KuhJmH2/lyLLX8WS4N9fKrniR6HEjkld5kmXQYxN+nTAcFMsTMlnkRukI\n",
       "zNjhYn53U4FTBq7AW+BC9tEOQ0acdKKNUhqFjeGDeOP0TxJu+aECJMrPb5vMj0Zq/JqwdjnUw3og\n",
       "JfPyKN8/QQP6pG8aw/ksmTS4FywLzPiqr2cJ27Neo/vDzwxbyBQtoje3sR9AmjJGd4oJwwe2e48e\n",
       "Y93gKdu8S9aLv5CTIzWqj9h7E5JZjLqQqQ34Y4FwkZWSkPFc1EoZbOsBGYW7Jtu9z6bc2OMxuVyU\n",
       "A9VEuNJfl4tFSRjVicboYbutq9vVG27eslr5j9cBG4q3Qy/SCx9s3LP75MQztPpXKuWpwIxl+S9k\n",
       "meNlosvmQrpVZscrOy0kKvcqqlAvnN4+4NXnKkx7uMT32pvlEHVB2lH0mtoQDQ7uTrmEbGu5zDIR\n",
       "N4Myvi1SHZn6rHs64GDVzy/ST67bFZ2cnQUOViYe0TWNL/BM4zbfG/M6ruOERSuGBd7W+1W+jgfr\n",
       "6KtujZ+X0StooOZzzVoH3i8n4hp9YCV9o6y0ANeP8svuY1lEuWmfniX/WS9SsCXXJHe73dcSem1A\n",
       "RulcST7jURdx/BJ7gnwhvYDDocoznogHGj5c+rqcX8jYKW65YIzSMWS4+B+PFiashTEswLPDV1Y9\n",
       "YLOCMVqX8Nz1AeBfU/2V/tTxnSQAAAAASUVORK5CYII=\n",
       "\" style=\"display:inline;vertical-align:middle;\" /></a><br>"
      ],
      "text/plain": [
       "<IPython.core.display.HTML object>"
      ]
     },
     "metadata": {},
     "output_type": "display_data"
    }
   ],
   "source": [
    "all_instances_in_C_nxm = Forall(\n",
    "    b_1_to_j, InSet(f__b_1_to_j, MatrixSpace(Complex, n, m)),\n",
    "           condition=Q__b_1_to_j)"
   ]
  },
  {
   "cell_type": "code",
   "execution_count": 3,
   "metadata": {},
   "outputs": [
    {
     "data": {
      "text/html": [
       "<strong id=\"defaults.assumptions\">defaults.assumptions:</strong> <a class=\"ProveItLink\" href=\"../__pv_it/demonstrations/c084ef76c98a4cb71e0011d568cda0015e8102cc0/expr.ipynb\"><img src=\"data:image/png;base64,iVBORw0KGgoAAAANSUhEUgAABq0AAAAZBAMAAABZb3lQAAAAMFBMVEX///8AAAAAAAAAAAAAAAAA\n",
       "AAAAAAAAAAAAAAAAAAAAAAAAAAAAAAAAAAAAAAAAAAAv3aB7AAAAD3RSTlMAZkRUmRDNuyLviTJ2\n",
       "3asqG0tJAAAACXBIWXMAAA7EAAAOxAGVKw4bAAAQgUlEQVR42u0cC5AUxfXt3s7t7Of2ViSaRBM2\n",
       "H63yh5vET9QoC1ExijBWLI3WCWuiMSYqqwEvBpW1ouL/zk8CBRrX+CsJ6lZpkULRWxR/5DzPCH7r\n",
       "yjWKIho8sRAE9fJe90xP91zP7AdympKuYumd9+3X73W/fj17ADAKvpwtUi9ibhtibW9fbAtlRlhg\n",
       "7n/luC1fVoeL1otYaAzLFI/K20TPh9CSxZEgSpQAjtoGCm5rA2zLtp/8pdgkk2ID5pijRzKbFE10\n",
       "JnO1E/QIxt0vnnV1yZe+AbB55FzPQE++6NdPP+RDecrG8y2455NMrbgyXu88HeK33hAcVzqsuFgS\n",
       "Z/noHRq/tC+5s+R0Zt4PbzlAsgTjAUbv0ltdNitY5WaIuK0QEZe/FRBJwzDlgogYdyErV9sAsrgv\n",
       "oBmyoZPZJrns3YDpQxUti8ebFB0mdrtS71w9Qt/1cPxGx7jmosOtAHAwdRzGqsTJd9PGlBliFZ6p\n",
       "kv4+XAVjsPZ+Fc2OBZhWa7/SYNluVfEsjpLex+2RjlWTVfdx66AvHi4ZvfEKGKOuh79Cn0hnZn++\n",
       "7u1ZDRJBx8Xr0leBxlaEOA+/VBYBqMolZ29c17kG/Ig4d0fWPG9cDTOAIo4ak/ODkctR0uy/o++k\n",
       "z4PBuKBfAp54SzCxgCfTUL/pV8m7zR0L3+BJXKnZESzDf23o72a3Pkd8DDnv7ATOUghVA8DB1ClP\n",
       "SMKkPdHxRFwlPXvBf4q3AXTXjqvUy/E0xGrFlQbLdivUsM1H78uehPZyRDLtuEFfPBxc/Cw0Y0ce\n",
       "tsDRAiOG4j4oN0aUvNmC/Z7X2YoQN+C3u3Ax8CjXjuYbk/Uj4twdWRu8cTXMAKo4bBPo4zcjFldX\n",
       "cgXfu9Heu1oVFzutBrWAnw71z1efhHdXGVL5gCSujtaKAmjVi+gj88EowlP2qIwShPv9wTWok1XP\n",
       "MSFHO9RbfrRvFlqL0A8TOy/o7EwHRcyBON9tEOnsnNt5biNY3K0MdNF41kfv92EJtEnAyZv88Paw\n",
       "3RZSlUQ3vCAwupD9vrmGiIyLMA4jm7S2SlXC3XZceZTrwUeRbh8im7stK9ztjSuvATzisD0qzgsj\n",
       "0vgaE/shqYE5L7QrCn5Ug1rAR0P98zXNXfZPoIHeRL3xzRdecNINXJTa1QLMUwMDLGBX025h2H6d\n",
       "xEHy4EheNPDiMHANauMjFZqySP3jvBmIzRnW7IqnmX7//cpBTF1SuZwvuIXGsLhbtZQlh/HqvQCe\n",
       "gq6EYBa/agtoh78ADkesFeQBsXKyYA6KHWoM9sZUfJjriVr/TPl5t6q+batYOZIr48mA5ltV7jmk\n",
       "Dn/oQ2Rzt2URCzWuHAPoxTnLbzw7YnG1nn3uy1w9JnrO2WVDjbONgMcsqNv0ra4Xn00fH9BHd/ND\n",
       "oFk8Fdc7JUvb/Qmnenap7KQAhzK08FmWBlyDGmZbCjRqavY5wRnWpMorAuJKIKaK7yVLfnEVhMXd\n",
       "Ki4lOF69zUFc2XZ26/zXJD8C3fAR77VD7HNwF66AoYIYGc3OmUUf5nqi+7Nsx1AEObbqgrYHyrxu\n",
       "4VFuNrHc7EPEuTuyiIUaV7YBfMSx5Re9rnXEwirBI+Ne9nmA6DkT1x9M7cLtWKnL9BHhGBG2et6P\n",
       "A2/JNz8GjCmYCPAs9Rfex61oOompWZXrdXvNeZsDLrd04EM3WrCbP/Vh4woK7+sScurZ0adwxriC\n",
       "QjSjxFW47xeLLkwsPE9FTBWjcJ4aMXuvvuqpSk0sdKuO8RhXz9LJWDvqcBUd7ronhI65lg+1w0e8\n",
       "FWmq26aKMBZai+b7YhRzAaa+5sdcS2R+xjb3sqK+Y6uxkLyN1dnXeJXbSO74uQ8R5+7IQhaOARJl\n",
       "CE+f6RhAL463WwYG5o9YXCVZZHz7lrecnPCc3jelo8v7fYE7pwuPV+s3fVLsTV3MRaZk7MNRvHcX\n",
       "ifmiZcElWIF9H/57BuBt/O/ajDHPJJVai+Kq5DsSTSk06jWQD7AKOHTTvVWqrvlQh/IptgoJ6ENh\n",
       "OX/MxdLq0XgNPGisUuIqHn0fpo2CgxQV0DaJ3CmnKBFTurhibKqJhW5VOgiTnecs+9zuM2p388sm\n",
       "NvsPX7/wbuztO7Uu5u7EfAqebWSYrXSCiCq0uSEiNABud4tHrXUKF0GUxwDMHLG44kUD+NRZ+I2P\n",
       "rWnuHc20041NQdQuPJSv3/Ru9jiFReX0It/vzBdo23HatdlI4CnTxd6Jp6+d+N/NADOStGaJHd/M\n",
       "yXcAVExhnbwOPAdgVqLsS91VbGH7q4BeGpauDJJFfjTNS3EVyh5Ia4hIdb7bVqA6wBhFBVpzdmy5\n",
       "gIWmY6HMS2BuqYWFbpXIHgtfp/w9kgH/UbvVJDA/9x++fuHFCT4oXQ9z0dokn8lrbaUVRONNrW+I\n",
       "COPqEKqgRx0DBFFeh6t9/YGhviPz4zp3KbfMzjMbPocvYD62AWKuRuMs8lT/xuF08mzprt/0iS1O\n",
       "73UKAeMTmgv0ybaSLO1VWRHd7JUc2bT895ThHDTGIMCR7LyxZAAbG1tBukeh0tm+TAVMCgZe8oIx\n",
       "JelI+lO/Y2suoFFTygMNsobMGeMKVqeUc6M1LUNYR6oqYMSkrHdlPMNYTzNRAwvdykAblMgHElV/\n",
       "vaVqzOGTN/oPX38PgwOIb6mHuVuZH+T2UAQpttIKIqr27oaIaMOGkCUMEEgZtShtPEN44Rkaz3Sf\n",
       "OTnGit6j2DtJi8Uiv1iz3DvPxJLXyuajhd9q3ICemYf2krGTDUUH2GwsXGf5jYvg6OG4xCcG6ze9\n",
       "ud7pfcK2Okr5Y7jcTCE5x9lLToTc6uT7VvtyYdhMdg/tJRlYye9a7mE3cScKvJlS1SBcZhkjTnpB\n",
       "B6aZ+pM/9Yf2KE90Z0ox8bEqZ4qrqYZ6Qh3HbDZfRcSIMaqnKHg4ITyTCMRCP8HoK0GHc/2n11tZ\n",
       "Vj4LHP7w1o4OEvq0DubSisesdIgqyGMrjSCCj0k3RIQGqNAm4RggkLKlQsv+WvF9rYbhWm9c7V6E\n",
       "K4swFc0v4jSliXXn2Z7CBjmp/nAD2wX2zS59VuwZ4Y8iEPGtXhDc9tju+k1viLgaoI+T8nZczaUV\n",
       "o9cWRiGC4X+sL5e5okeVfNwIcL+aVrGLUdI94fep4g+8cERb2cWs168DE0bFl9rYYme7AhpmlyRh\n",
       "1xoKZ4qrREWd3reZzTYZCiJGDCyNetPz9rRVC4uOF3k8Tj7hZOD6USu5zSuBwx/eetJOdlaDuSRm\n",
       "k51yy4I8ttIIQssbcxsjQgPkYC+AIxwDBFLmd2W1fact0DBc4Imrln5WZptA1WyxHWuO/c6zVkvZ\n",
       "r6JVJw/EMwJuBIeK66nIhvaMucX/+ipin5Va+us3vcvvAzxJw8+KPA80PnUZ8RCB9dDlV7sw3MMx\n",
       "advF8sB2JLqHZ7oih4w8VmXbsH3qSvDXWnp1YJqpkj/1FmjNqtBJY9mmbcjbsODM3ln7p4grJmA+\n",
       "LSqp/CUKYhTHmPwHyIixEuaLpVpYFFeFkBXOOC9dDtdbJKnU6Mw7XT98nYX5rRLOTk8+kLmXyKSp\n",
       "iVsea9i20jXLub6K5hsjQgOMx8iaWnYM4EPJdbn9dKqO9FlOnaTPGl47Ec94XJH7hQYpXHt6ndTJ\n",
       "7UmLgv1MXJDxuLJPMheiZ5aN67mnck86KR2yMA4M/bgIDh0/pWSuULfpIbHJmbWe7C6XxJmjRyuU\n",
       "Z+ECQ3FFsHZcJzNfo4FZ+hln2Ew2VSJ6inj8oaUlNIVfNP7KPVScVvz5SjA+xu7xadiHx3prVgMm\n",
       "w5T9qRfBYaBCk+cfZRyag2lsnKFBD2dCEyZgHNCSiBUtlRRE1hHOwxBx2E+GyrWw0K3C8+Ls5zG3\n",
       "g1ZvUWAiNdiLXrOLuuFri1JM9TPRzH+xApkPIxqXhvCd4LGGbStdLDLbY8CHVzZIhAZoPet3o/8l\n",
       "DKCntCf3SnTJ5Kqk/dDtSXUH91nUyS8g3k0vKz9rLbchbs9tzjPxk4oUi4eujFOwTqWjORZXTJc3\n",
       "YAbPEpm56IM9Fh0Gz9G1l/0SUT2m5/VAxjE5rxLnpzeq008E+DuLK4JhiJCP38sFqWIZLcNmso/m\n",
       "9UA6OC3c4YnIIiZk6nlOPBp337oSnWkAvx+y9wo78o13dhsOdstAWup4b8kLPfmCz/BY27bKNaXL\n",
       "efEnBfm1ZuIQ7gecuPCkooyYmE7Zj/seFyHug0J2hFpYdC366N29RTcBGqa3k+6jhsbsjy04cOi3\n",
       "2uHrjkk0qneG1q07IxvMfBiRMXHdBPDa2baVrtFYUNA7M4oNEpEBvjX0qpsB+lDyyU3RjpgO5U1W\n",
       "bqfe95arGRU9g4jlxtV8tvWEC/RS904wh0GwF/7JBFUZglI2GnbSE36XNI5/eQQVWzvezqxIl6l3\n",
       "0DnyEYubi53FVjodB25Yd9CjTN2mh1C3MwHw6B/vzbDfziTQLvHbdrVYXDEYhgg+XmUbZaUin+CE\n",
       "zWXTcvUNz5sieIS8aEDZLlssJ+fnwX23/baRBCbbB1D7895f2vSHcdZyqB8xAIu9bvCAsk56NVM0\n",
       "rM01kMaX+dYKGmaaeonIAJG0bAA9pSsgVo5UH1jl9LqNQc8xKVJV9qvrWSrUUqWT1+QEf1UHezH+\n",
       "wwL5XDaZr34F5S5psr3YlKUTi9CFhff+AbrSteG1DZie625zjGaSLPxeA+mgJqTRCjHcISVtULbZ\n",
       "z0cQywTXjkCJKx1YLujowT4N+aayY6ya8utq8bqxWFyx9xWixRroJWi8NUPTFFEcmiQiA/CSQbAB\n",
       "XAHtEMvyH1RQr5hQX5+jZ6HRUlzNgN3geRYtg3Aj+9UE65mwRBVA0B1y8k9rb8AvVTt9C+WkuBK6\n",
       "XApX6Mzl6krHpUZem+XvPNkco9UD2P+j5bgqiWsws6izekmWzRasU33fZ3daB68zB4Cp/S0Y7FND\n",
       "qdBR8QWoJb++1lE3FosrNupavwYwKo07bjM0zRF1QJNEZIAeqG0AV0CbtTP7odLJvBfNYM8oOR/0\n",
       "7IoTpLi68pKOxWmWZK4KFSiuEI16cB64hPyZeVleLjDg4aRtprPF/EGKK0cXc9bDR+jMJXSlmG/o\n",
       "BXz2PrvDMTLEq4POgsPqFo60OQ8/aGms7mpDsqkSRO+zJ4Jf3a3w66sAMLVCMFjf6C45sjx4u4S6\n",
       "Ha5SNxaLK4a+rAZ2sgnHbYamOaJKs0RkAH4ntKxOAYlJFRZXS7KsdwzrzYMlRfrgz74pxZU5uW+1\n",
       "yeLiwV72K7/EjawXKUuE9rNQSd42cUMLLXe+2fdPV01f5OoSGxoa1JlL6Eq/SqqZh8jt2/IEJF7h\n",
       "p2L7Ss+8a3PFlXbr0JDO6q42JJsWA/ZjxTdh61sR/o9aUqwTVfhKNjLA1Y0bgPJA5nVxq2L3WOO9\n",
       "f0txRRdhHeJ0QHlgC+vdmQSJkD9LZeQL3JT8Yq3ZzMpBad3TjRC8rH16DTQnmx3P2oqwNT+N3N6+\n",
       "Sm3p/CyE2VFp+lC/3WMhxHv9SlyZn69y/jpL4pnbgf3cAVqHPgOJkNcg6fLWrV0a+a3U8pdLGiQI\n",
       "VbaZhYRs9vctmv8p//b2VWshv17yRzklruBsSrbvFEhpDSF79vh+6t82O3grNZx0RIMEc7addRzZ\n",
       "9vFu1HZ/2d62srXYf1ZB/fNgRm3Cw3IqWigzwpofse1Z0lXefwE9aPilizt4HwAAAABJRU5ErkJg\n",
       "gg==\n",
       "\" style=\"display:inline;vertical-align:middle;\" /></a><br>"
      ],
      "text/plain": [
       "<IPython.core.display.HTML object>"
      ]
     },
     "metadata": {},
     "output_type": "display_data"
    }
   ],
   "source": [
    "defaults.assumptions = [\n",
    "    InSet(alpha, Complex), InSet(beta, Complex),\n",
    "    InSet(gamma, Complex), InSet(delta, Complex),\n",
    "    InSet(j, NaturalPos),\n",
    "    InSet(m, NaturalPos), InSet(n, NaturalPos),\n",
    "    InSet(ket_psi, CartExp(Complex, m)),\n",
    "    InSet(A, MatrixSpace(Complex, n, m)),\n",
    "    InSet(B, MatrixSpace(Complex, n, m)),\n",
    "    InSet(C, MatrixSpace(Complex, n, m)),\n",
    "    InSet(D, MatrixSpace(Complex, m, n)),\n",
    "    InSet(ket_varphi, CartExp(Complex, n)),\n",
    "    all_instances_in_C_nxm,\n",
    "    Q__b_1_to_j.basic_replaced({b:c})\n",
    "    ]"
   ]
  },
  {
   "cell_type": "code",
   "execution_count": 4,
   "metadata": {},
   "outputs": [
    {
     "data": {
      "text/html": [
       "<span style=\"font-size:20px;\"><a class=\"ProveItLink\" href=\"../__pv_it/demonstrations/af3c2902573b75ab19a42e7920623b865c28bcde0/expr.ipynb\"><img src=\"data:image/png;base64,iVBORw0KGgoAAAANSUhEUgAAAcgAAAAZBAMAAABHmqPnAAAAMFBMVEX///8AAAAAAAAAAAAAAAAA\n",
       "AAAAAAAAAAAAAAAAAAAAAAAAAAAAAAAAAAAAAAAAAAAv3aB7AAAAD3RSTlMAq1RmmUTNIjK7EInv\n",
       "3XZ/CtNrAAAACXBIWXMAAA7EAAAOxAGVKw4bAAAFRUlEQVRYw8VYa2gcVRT+dnd2Z3b2kfUJbTRs\n",
       "VUSq0hFaMRXqQtT6QI3aH6YEu9JCaX/EEUq1KiRKfyiNdUVBLSqjlUKtNJsiQtFKbJAES1uVtLaR\n",
       "wIZGUapLCFRjCsZz78zcuZN9ZBJxOzB3zpxzz5173mcu0OhrVYO/l0Pjr/D//9FdgGKKtx2XQMh9\n",
       "8ou5yEXUGvhI2+4JIF1EG7DyjnLm3DuEKzVeyDclOJ1d5CLRio3rh093PVfc22kkSXHlRAn6qkF8\n",
       "jXEijQIZNuX6hsmoDvCH8oVF483A/uPyTt/7ri6zRz83lzQ+iI//zj3/C5po4UQXfehgHtN4kJGA\n",
       "e9iUzQ0TUinyR38vGVHPE7RJpsbmCVhBj1lzlv2Z1m3NoQWdsIVEqKQN4AcC+iy8xNRbaJiQTe38\n",
       "cbSDdqkYBE35qPP4r6BH5mhjZ5zWC+UwjLs14DxbOdmTLqiTPaQQg+skkW2YkK9zE0Rn2JgUkHtt\n",
       "sOpze/Rvnah+f+w0ey6NM2821EmcuclJPN1ky0iBlKEUECGhY43LO3/wMcFj60YBudeRebg9+kY7\n",
       "AXU5Uhe22e8ZnDdYCQmZeBQxU20heprSwPGxsWONE/Jq7mzXfM/cjWWFWMu45EZPlS+vy+3R+/m4\n",
       "3ZFRzeyqk4rJWe4D9iy2gQgHLHRexn/Xjq2Sa42+rfpfXvb80+qrt6JDpzjD7ZATplZ8vDaXNg08\n",
       "Q3qAtkWgtlSZJuGcHJX+asJkLVowRsWzBR+72T556lth4QT25h2dzSBZOtC/tGa3xOjAGQJv4Yi8\n",
       "W5hyT9apWheAuJWgjNcscM1V5jXPFTK6GeoQ9ExAxmjRRYzwcQUfv6H7XuCiVnYCU8mjqZjDQzXr\n",
       "D6M7CYzrkEJt7Czf1Qt17E9Chkss7wwL3HCVecNzhbyV7vuhtAdl3Oq35BEh5E+ITiHsCJkqYkP2\n",
       "gmPnKhen22An374ofXvidSw5zWy+hnTyz7gTwx4keZ2EKwi+u5AKzHjIL+QbcN11CsqMEJLK4CPW\n",
       "6tpCcro+kXW0DIjUvI7VSbRXj0kW9IdIzenRtJNRPEjqMSUcFzLEguFLbA/MeIOLWcLHE3z8gO5p\n",
       "fGpwIXUmRI8+aNu5sl4KuhJmH2/lyLLX8WS4N9fKrniR6HEjkld5kmXQYxN+nTAcFMsTMlnkRukI\n",
       "zNjhYn53U4FTBq7AW+BC9tEOQ0acdKKNUhqFjeGDeOP0TxJu+aECJMrPb5vMj0Zq/JqwdjnUw3og\n",
       "JfPyKN8/QQP6pG8aw/ksmTS4FywLzPiqr2cJ27Neo/vDzwxbyBQtoje3sR9AmjJGd4oJwwe2e48e\n",
       "Y93gKdu8S9aLv5CTIzWqj9h7E5JZjLqQqQ34Y4FwkZWSkPFc1EoZbOsBGYW7Jtu9z6bc2OMxuVyU\n",
       "A9VEuNJfl4tFSRjVicboYbutq9vVG27eslr5j9cBG4q3Qy/SCx9s3LP75MQztPpXKuWpwIxl+S9k\n",
       "meNlosvmQrpVZscrOy0kKvcqqlAvnN4+4NXnKkx7uMT32pvlEHVB2lH0mtoQDQ7uTrmEbGu5zDIR\n",
       "N4Myvi1SHZn6rHs64GDVzy/ST67bFZ2cnQUOViYe0TWNL/BM4zbfG/M6ruOERSuGBd7W+1W+jgfr\n",
       "6KtujZ+X0StooOZzzVoH3i8n4hp9YCV9o6y0ANeP8svuY1lEuWmfniX/WS9SsCXXJHe73dcSem1A\n",
       "RulcST7jURdx/BJ7gnwhvYDDocoznogHGj5c+rqcX8jYKW65YIzSMWS4+B+PFiashTEswLPDV1Y9\n",
       "YLOCMVqX8Nz1AeBfU/2V/tTxnSQAAAAASUVORK5CYII=\n",
       "\" style=\"display:inline;vertical-align:middle;\" /></a>, <a class=\"ProveItLink\" href=\"../__pv_it/demonstrations/ba75e0a10e33b28b383c42c2259539aebf0b54450/expr.ipynb\"><img src=\"data:image/png;base64,iVBORw0KGgoAAAANSUhEUgAAAI4AAAAWBAMAAADk5rkVAAAAMFBMVEX///8AAAAAAAAAAAAAAAAA\n",
       "AAAAAAAAAAAAAAAAAAAAAAAAAAAAAAAAAAAAAAAAAAAv3aB7AAAAD3RSTlMAIomZq2bNMhC7791E\n",
       "VHYkqjbgAAAACXBIWXMAAA7EAAAOxAGVKw4bAAACEUlEQVQ4y6VUv0scURD+3FV374frNhaHEMVf\n",
       "KQSzCIGYoGeRgJ1CMMZGrrFSyEECgo2LYIoU/voLImm00RALQ0zI1VZbiZhmG8EmgkJMEPGcmbd7\n",
       "uypnsZli3szbb7578715B8SsBsnsdt3vhDxZX9ja215I2tCakAdH7LqKqC1w8D4pDepdql6m4BNn\n",
       "jxPz1DnAFAfD7D4m5sE69L+8PiqSPIXkPJNo4baQLwE6y6ydjMU+9xwV7y2voDuQ93h9Y5NYI3R3\n",
       "P9AXwZo9ffneuRG0QdEr/CSpYV6QyxBjphWbWAgb/IK0P98xVJVH0MjQmQ9xIXr/IZem3vLEapx8\n",
       "VjD9HzkHz6ryMFrZHHZ5+VAIeDZkHgOeNDd1iZaqGm1Uoj268ayHp7bqy7yK8yzxuL+uzqPQi/3k\n",
       "fmHOG2vS1ngjRWXUX1Z4TNpoJOHpjN0qu2XckqCdfYrGYa352nPpUxsEy/9QeJaoU7osrQjjq8rM\n",
       "c8QCcYw23XaKeoF3q90l8NENKtc6J1zhyVA12kaPgZwbZNvcuxME2HUDNM0g8F0aKlmsD3aCI4s+\n",
       "B+GMODV2lEXWULmrUwKJoqnBfdl4GecJ/0NyM2/dKIuNchgY9Cz1EZmTsrwxpGx1gq4zH6YfwLbK\n",
       "ZURZZIthYJGsOcX4zVP3GHsE1o0i6+59VZj5Oa3c/PYgwUufnqWfsfHfNvBElmsEJ3c82uafWgAA\n",
       "AABJRU5ErkJggg==\n",
       "\" style=\"display:inline;vertical-align:middle;\" /></a> <a class=\"ProveItLink\" href=\"../__pv_it/demonstrations/039f53e584d7f6dc57678c18dbfd06eafb3778a20/proof.ipynb\" style=\"text-decoration: none\">&nbsp;&#x22A2;&nbsp;&nbsp;</a><a class=\"ProveItLink\" href=\"../__pv_it/demonstrations/08e367bd957eca5b9ae42173eaf96ed1340dda4b0/expr.ipynb\"><img src=\"data:image/png;base64,iVBORw0KGgoAAAANSUhEUgAAANoAAAAXBAMAAACfRUyCAAAAMFBMVEX///8AAAAAAAAAAAAAAAAA\n",
       "AAAAAAAAAAAAAAAAAAAAAAAAAAAAAAAAAAAAAAAAAAAv3aB7AAAAD3RSTlMAmYkQqzLvVES73WZ2\n",
       "Is1wFLxSAAAACXBIWXMAAA7EAAAOxAGVKw4bAAACz0lEQVRIx71VTWgTQRT+Ntv876YLPYg0tbHo\n",
       "xUpZihdJ0QjSk0IoGEE89CJSrFDQkwcNpQiCSEpVpAeJqIg5pYeChR4WFaTQSsWeREnAg4IowSKI\n",
       "f3Xm7c5k87PVLuhA3u733rz5Zt9fgH+8gimgp41e93vgqod+bn7ZAB5DKSPeffKptpB1GZ/5Zbva\n",
       "ohmc/bQyoj46g7OAZu0F0pfLoYyW4Talz2QynPLLppWbFcNltXdaH6pinaEBC3j5HJ1ZhRh25SaY\n",
       "POA/N2+bcHISiE+jw4qMOmw4ghxinAanr/Bv6/bPNtdUGMYMk4cQyipGFlqKn3wKS6gE2UtknfaM\n",
       "+mcLmfZzqVSqskeHWWAyjQpix7N2leg19nULClMHinxnuOqfLWEn7toTG0Z1g55T0PqpA44iksFH\n",
       "rDF7fPgeN1IKA8vzrkMaUeuS9gAVmy7StxbcpOA6LXE//QG2u/qvAbXpT7LzXMQpLgnRdyORsrdX\n",
       "hZqOF0wshXGkRUg5UvsOm15+tBsx5h2mnCeE4UXE8ma7ZGc6D/Syk4PLRUfPkQKl6OXXK+8RrHGZ\n",
       "K7FVoLxtEsk9km2MykUcz1FnXv/i5Tcm36itsF/AKNWkx7oOJ5LqDzcbobjpyWbvHtomXWKSnPot\n",
       "0t5t3L4Qi/V3voe7qlxDiPeH2upjCrtxkd+JvkWT2UpOMbGjfWl9lVXMSmw3sR3klUIIJ0xC6i84\n",
       "aom4XTV3iu4B3sk5ebtHvWC0ZQvX7EwzkkD/oklssbtwkD7joDs8VoYQJdOx4wNX5emIfbdE3Qze\n",
       "/NbTPpBKxn7eF+w8CedkNeONC9WvKOvxJ/u9ct4nZ0t/mEjnExONo5XYRAnrN4511ZFrjMjiH93S\n",
       "QH8o/mmi9ijQBz5bUEXCQxsbtTqqryGZIhYZvfDXbIsiwKrLR2v8c2z1stwDObrqY5K/9uHzPsfE\n",
       "Cv7TSnZtaftvZnyiR9px5JsAAAAASUVORK5CYII=\n",
       "\" style=\"display:inline;vertical-align:middle;\" /></a></span>"
      ],
      "text/plain": [
       "{forall_{b_{1}, b_{2}, ..., b_{j} | Q(b_{1}, b_{2}, ..., b_{j})} (f(b_{1}, b_{2}, ..., b_{j}) in Complex^{n x m}), Q(c_{1}, c_{2}, ..., c_{j})} |- f(c_{1}, c_{2}, ..., c_{j}) in Complex^{n x m}"
      ]
     },
     "metadata": {},
     "output_type": "display_data"
    }
   ],
   "source": [
    "all_instances_in_C_nxm.instantiate({b:c})"
   ]
  },
  {
   "cell_type": "markdown",
   "metadata": {},
   "source": [
    "### Build some Qmult examples, well-formed and not"
   ]
  },
  {
   "cell_type": "markdown",
   "metadata": {},
   "source": [
    "Well-formed:"
   ]
  },
  {
   "cell_type": "code",
   "execution_count": 5,
   "metadata": {},
   "outputs": [
    {
     "data": {
      "text/html": [
       "<strong id=\"qmult1\">qmult1:</strong> <a class=\"ProveItLink\" href=\"../__pv_it/demonstrations/ec98014517e6a0d3f8983153cef35d4f0a9e127f0/expr.ipynb\"><img src=\"data:image/png;base64,iVBORw0KGgoAAAANSUhEUgAAAGAAAAAVBAMAAABLWfZ5AAAAMFBMVEX///8AAAAAAAAAAAAAAAAA\n",
       "AAAAAAAAAAAAAAAAAAAAAAAAAAAAAAAAAAAAAAAAAAAv3aB7AAAAD3RSTlMAiasyIt1EEO9UdruZ\n",
       "zWZ7xlX5AAAACXBIWXMAAA7EAAAOxAGVKw4bAAABw0lEQVQ4y4WTOUsDQRTH/+uu2exmXaPglcb4\n",
       "DYKIaLcWFtEmlVoq4lHJ2qYxhZVYRMRKIQEFQS2CWomgWGjhDbZisLGTeCESPN4cWaK4OvCYNzPv\n",
       "N/OuAfyHU1JUXxPtonxVX1JCMT+gqiDmro0jDzABY98PyAhAzeLWAxSShB9w8MynSWDEA5IkTT72\n",
       "StcTn7OEesA8Sa8P0GO+ScDo94Awi80pN6upLSVh3/hgU6Bt89rlgL6RR9hMwGAUFoouxoDuQX1a\n",
       "S3PDtPogwrwfiXFAMVJ63nwVUduzdVHm7Qywa7ILYUF7lHmxcxzotBK2gxRwKALZUmOwKJOnCvdo\n",
       "/eSgKPMSKHDADWbpiKrQSstVOqGiBOmuxgZmp9NzL0wZpmqlRNAZV+H7czKNcWCKls1p4REwIPMS\n",
       "igrgFHEwf68kQMbVJI18NUFywxRqqA5HAMe4wyj1WE4CdJeVg33O2lFjXuyRoX6GQJ9svnEnbA+S\n",
       "YVoCLHk196tWhMz23l0sfl5Sq7WvRUrdqrbsrJBWKQtl/d4g5e2t8ruX5E7F/4Co0LbcGfoVSJYD\n",
       "nNYvfn6pb2P42wv8D+XlTg5/jmX8dJ1y+AUYoF1pY3JYygAAAABJRU5ErkJggg==\n",
       "\" style=\"display:inline;vertical-align:middle;\" /></a><br>"
      ],
      "text/plain": [
       "<IPython.core.display.HTML object>"
      ]
     },
     "metadata": {},
     "output_type": "display_data"
    }
   ],
   "source": [
    "qmult1 = Qmult(alpha, A, beta, ket_psi, gamma)"
   ]
  },
  {
   "cell_type": "code",
   "execution_count": 6,
   "metadata": {},
   "outputs": [
    {
     "data": {
      "text/html": [
       "<strong id=\"qmult2\">qmult2:</strong> <a class=\"ProveItLink\" href=\"../__pv_it/demonstrations/0c73256043b53c6764b287879ab8abf235377f520/expr.ipynb\"><img src=\"data:image/png;base64,iVBORw0KGgoAAAANSUhEUgAAAKkAAAAVBAMAAADP89MSAAAAMFBMVEX///8AAAAAAAAAAAAAAAAA\n",
       "AAAAAAAAAAAAAAAAAAAAAAAAAAAAAAAAAAAAAAAAAAAv3aB7AAAAD3RSTlMAMiK7iVTdmRDNdmZE\n",
       "q+96N/emAAAACXBIWXMAAA7EAAAOxAGVKw4bAAACq0lEQVQ4y42VQWgTQRSG/2x2m83upsaDF0UM\n",
       "FA9ebDzpRbpqvUTBCGJPtfWuNGBpkQoueBArSPBU8eAKIrUFG/SgSJF4UFAopnjyVG09eWqUStVD\n",
       "ffNmNt1sdoNzmJ28nffNzP+/zALIQ7UCujWtNcpH3sQBtGIwOh0FHQj/0OvB6FBkuXaAdnWN6Ho5\n",
       "kfpApZUmvRbVB4baZ0UAOpZodg+SqMaWfO6G3WhR3XAGtwgg54l+KJGaWWGhTBfOaEA1/fDmEAOw\n",
       "Gu0qRanHz7APFvFbezXyYSERAzA3RFdNomr+QllRz7d01UV3NzytAzBAk60asBN4/9NTYg8uBwJg\n",
       "pCaeb/o+z8gamJ4i6mPgHO967AicGMDwSFFqXUHq/pLLQe0S7hT2M/Ut9rnsj714UVLdC7iNBU/6\n",
       "83r8sjhGFGBXc5vAEmuVA4oc7PWRrswytYL+hnL9OVNT5Qk8Qy+dos7ipvO0xyigv2A0gWus1UsB\n",
       "EcHrlFPlLVqHJ1eKyvWPTDXxnZbIAClazfLoDb2KAj4hRdR5tsMXySK4RnO+ccVNAzuooOCQ60+l\n",
       "AsYmUSluuKpIhJsRwF+k1oFbwhbKzLDY5h9K31ACoOeLcv2opGaqWhkkT1b94UuiiwCapCyQLiBT\n",
       "y8BcloUhqIIFh6zN0qrI0olXFbVoew5p2qeqZFB0EUAT2bI8zb0neybqMngFeLEuiv+gSPhB3c0a\n",
       "3tUl1VnVsUjDk4p6jCusHVDCsIiSdvbYL1cVsX7qlTdOJtzYmoEx8JvCZz888oM7a++JuYJMCUTq\n",
       "BMyx6GLhqfg7K7hOtm/CXby7igpx4cUDhEhf/5c6q5Tk5rjJgKzHtZBENf0w1VWuh+/xWIDtwxpN\n",
       "pjr5MIOXmFeRdDdAA5rMfNj1u2Xl0Sbn9pesE/APovy3h3TH9JEAAAAASUVORK5CYII=\n",
       "\" style=\"display:inline;vertical-align:middle;\" /></a><br>"
      ],
      "text/plain": [
       "<IPython.core.display.HTML object>"
      ]
     },
     "metadata": {},
     "output_type": "display_data"
    }
   ],
   "source": [
    "qmult2 = Qmult(bra_varphi, alpha, A, beta, \n",
    "               ket_psi, gamma, bra_varphi, delta)"
   ]
  },
  {
   "cell_type": "code",
   "execution_count": 7,
   "metadata": {},
   "outputs": [
    {
     "data": {
      "text/html": [
       "<strong id=\"qmult3\">qmult3:</strong> <a class=\"ProveItLink\" href=\"../__pv_it/demonstrations/5e619be3689aadb5327ed0cc441bb636aebdc83a0/expr.ipynb\"><img src=\"data:image/png;base64,iVBORw0KGgoAAAANSUhEUgAAARQAAAAVBAMAAAB1dQxbAAAAMFBMVEX///8AAAAAAAAAAAAAAAAA\n",
       "AAAAAAAAAAAAAAAAAAAAAAAAAAAAAAAAAAAAAAAAAAAv3aB7AAAAD3RSTlMAMiK7iVTdmRDNdmZE\n",
       "q+96N/emAAAACXBIWXMAAA7EAAAOxAGVKw4bAAAEUElEQVRIx52WX4hUVRjAv3vnzt47c2fG60MP\n",
       "FeENlcCnccEQQfcWBrEprRQKPrQjyL605sAumqh438KFcvsHW0Le0lKL6sJCmyI1vghmbiOYuA+D\n",
       "pj5IQay7temGbN93vnvPzDnOPGwDc8893znnO7/z/TsXADxIfj6oPxMW/XtkidRpaANGmyVmOX3b\n",
       "pM3+nMdHF4FSiDSB1Jnx1IHl6YtVo+czn3Tja18HlGwgmty0vt/4QqPxvqdLR9Y34hXwlTxh795Q\n",
       "6syjtqo6/QUVJShcB+iCDiiHuel/BAVuAxTvabL87yFsex1yYdJ/Aty61Gnhv6LOr6go1+mxrRPK\n",
       "fm4OziT9S/LA8+iJf1Sh8yyayZ4BNzm8E0ChInWOtJqBTV5VUb6mx+pOKDd55or0/NvTARcl7rwq\n",
       "zN2lSMEldyF1id20ypbW4NBCh1GOYJg4ox1QsjywKv+3jlJEl+VuqcKXKeIMPOpRibK1GSsUdTm/\n",
       "jfclSuY+rokBlgJcnA15mbXxCk+xOWqr2X91lFIZnGueIjTnhFdQuJkF55dPjfHxnJMxBPkKZ0F2\n",
       "91ooECKGt+FB4dhaRsn+OstRWwXj6OVAoJiD8I6/Upg8FtnZZ/yloyxb9+VUrAqt+XTwDDeBe24H\n",
       "o1jZm06cv8+B+sPwLjKY6NgAj5+7yihn4EYIlxHJgyJAWaCUIshUT9HkLpHkNpgPdZRvfcj+oQq7\n",
       "0tiG1yB1yTijPGZXXJ8C74CoYRlvKZ2wLgKoDhmBYs5Av0cTMNW+J9MQyiHcfVS4piR8eHzvwVlq\n",
       "9wwM/DkwsEtss4Fiw1OEJZHxDpmMEwhL3S+MEpYii7TDUxgNIY5QFbRrROuGeFRCKZZhmUdOQ4tF\n",
       "tHgTlwzrTihRSOWcbhUy04+RapXpNFEmueoi6TdJKvSHltDzKk99nqxNERrRxiMCZUlMRzhMTsCV\n",
       "tghbB31uccoIB6E/4Q0NxaA4vlFThPZMmihbZU1bn6Dsg5VkDniPp/YKq42Soc4DvClQjngUYxkf\n",
       "7NgG5wonHqFwQclESQU7pqHkcVvjgSqkqgcWWXOcywxOuZWgDKH7f27edRvFs5tKaBXe9tgqHnzI\n",
       "N81Hp5/cU2OUIYCJaZGoFkaWSVQ9vlbNUDg5pvH1x1B4kV6GRfetGC7UEpRJP3BrzbvuOfFEb+U+\n",
       "fndikOuKFWXrnFbu7rkgKUfWS2fDYREHRgWcngchvLLwgbJrsedhY2oNaCjOUOOAeBnk8vrTiSgt\n",
       "m8bVdZ9B867jik+97xZ2piWu90R6Re5vV/h3aBfe9nZfBbrQrMjyKnUafa13XZ2DCWV23Ky28sPh\n",
       "t3YoE9oul9qh6EJWr6LkwyQ6RG4F8iup5GkoeK0b0+1QMv7iv+KSS8+JWlGsNGdadx5LS1ALiov5\n",
       "XWmH4pT/B0q3LCstVoGkkogDJgNnAb7QUdB5Jq/8VFO7avEked2SUmdR+5TF/tO8JMX+D3mhDhBC\n",
       "ui/CAAAAAElFTkSuQmCC\n",
       "\" style=\"display:inline;vertical-align:middle;\" /></a><br>"
      ],
      "text/plain": [
       "<IPython.core.display.HTML object>"
      ]
     },
     "metadata": {},
     "output_type": "display_data"
    }
   ],
   "source": [
    "qmult3 = Qmult(bra_varphi, alpha, VecAdd(A, B, C), beta, \n",
    "               ket_psi, gamma, bra_varphi, delta)"
   ]
  },
  {
   "cell_type": "code",
   "execution_count": 8,
   "metadata": {},
   "outputs": [
    {
     "data": {
      "text/html": [
       "<strong id=\"qmult4\">qmult4:</strong> <a class=\"ProveItLink\" href=\"../__pv_it/demonstrations/e3b4684c6131985a3c0f930cff0c9afe9ba7e6930/expr.ipynb\"><img src=\"data:image/png;base64,iVBORw0KGgoAAAANSUhEUgAAAhgAAABLCAMAAAAF3w5SAAAAOVBMVEX///8AAAAAAAAAAAAAAAAA\n",
       "AAAAAAAAAAAAAAAAAAAAAAAAAAAAAAAAAAAAAAAAAAAAAAAAAAAAAAACXHtMAAAAEnRSTlMAMiK7\n",
       "iVTdmRDNdmZEq+9AMHw3m6zrAAAACXBIWXMAAA7EAAAOxAGVKw4bAAAHdUlEQVR42u2d6ZarKBCA\n",
       "AdlkcWZ8/4cdZRMFSbpHJZlb9aNPDqIY6rM2IY3Q7wTPTiwCuU24n+Pvumk8U72IAfXdJ+sEa/t1\n",
       "YBDQ3CN0ABggAAYIgAECYIAAGAAGgAFgABgABoABYAAYAAaAAWAAGAAGgAFgABgABgiAAQJggAAY\n",
       "IAAGCIABYAAYAAaAAWAAGF8ExjifiAIw/mgw2MIAzhskMcpO8zwBGH+2K7HzzCtTxGcGYDyr5aKF\n",
       "dAVj3YNV2+Mmhi7TQ3oO+BoM8o5Cf6VwUs43NV3BWDdA6hoZPSJe9bidMuonYFR0NbTJaCuciHEa\n",
       "3ERT9mlgILWQURtAP6MZQalMEQ/twKJ+AQahSghZ0ZVHiok2Sk2FL9/XWHdtjj4ODDRUw4yHhFo8\n",
       "xbmTY487GGUTDLzqX9uKrgLF7blrK9zGsWt4dQdDLkmI6AXGxMwQZ0foHnegRQsM6dRveKkrqU5t\n",
       "Qpb1tRWubMMhdQcDmcWZdEpCzCwzSDqxKRtgeO2LisVg+DSKaEcg2UVkmPeqrewPBqLzPMk+niQz\n",
       "tWzsA8aoX4HBeCXGSPHQeK6elwof/IMRAh3sMDLj7Izo1o/SxeP2AGMtgPbQirYTt2ILQ9NEKKXP\n",
       "gv3WsbdQLM6n9hwMg8lgxxSGOF1J5XzecreKH0Jmxr1OjdxFtmcKZ5bNQxaJuKnAozaWZv0IN6u/\n",
       "J4iwx8FYwwza42nNS+/xySWcndZRWsfeKltk50c89HgOBl1/U8VwnINBEVucntRrQrfPKPQkKLfJ\n",
       "Ab1QuBvYrpcwNnNO7vOQ9Zvc1QaBlHwcjLI0/lB5KR+UhweC0zAbUhdmLB6Ti3G1v/B+6drr5zA2\n",
       "m5pgrAeGDAzMkFgUrkmKioTJo40lrMDhym2Fk1WvbJ2BcAE3mJYRpdBP+LsSI6LPu5J1+B5hBstV\n",
       "McWJkDFRVLy4S7k9g4L/4lvKmqs+BSNkHmbOwJCeLJpMAcLBF/knejknGoymwpEd3OA4eRyV/rhx\n",
       "Q7/JU0knerz3v+a/H9AR7/FGNY89IxjTkLnsYwIRj83mYG7eTEBqTshEi/HPXIYYXmPTLm5kK150\n",
       "4+ZQl6MpFmgqHLmCs6MyxKgijSi2WEQGtdAycXxmPQbpUeUa8tc03pXIjM8jGNux9fn7ORjZtZcI\n",
       "kh1HKS0GPdym19Vi1X0gGJz+IS2h6pCUVBW+3AxOAY4vi68x7dpX+hQk9ItgTKgPGGrq8HJkyo3U\n",
       "oLYHaZnJXGXRiGbHorl5y/+V54stO04RRAmG74LT1AQwBk+mMdVCBt0MSEvhyIExsszmjKMasRbc\n",
       "5GmtD5X1EmrgHmCYPrGnKdNGPxEUZ2DImExnxxB2xYV0KH2oNJXnS4moOKbJBRjS5aWGm30Jwiyg\n",
       "rOmKqZc+6TaTLYU7y8LsLn3Ri0Pn9FDvoFTrxTYJqjqAgbuUPnex56Lp3UTkFoOnClM6RkIlPR3i\n",
       "qSCSPm0fyvO3ulbSewEGw0apXB9BV9jSQSmyz0m3CDd3jw2FryWV1BamP38r8AGVTySnLkv5xH4l\n",
       "CD8arS3GYEePQZbpJ6R6qIpg2SnOKtnKEHM9xKjoCm/PUfE6JP9S7yo8uqMJfxYYY4eXaIsVHfdm\n",
       "SotTMGgxkRhj/zL8rcJc2QnHYG7T2Q/AyGpNw0E7hv5G4b64imf0UWAMPZZr8aF4k7CfY0LHOdhx\n",
       "eTRoU/rpb/mOrat0ii82s9DxCEZ51uYF0CHzONPnuwrXPqflHwWG4DVrfHfQoVWxSEyeAdpQ/ls+\n",
       "sNIphhgZjEcwDD63GNulj2sFht8p3HFK8hEV7gyGriaqukc0Sh4KdUYTPYnKvvvrpX0VXRULZsl/\n",
       "Vvj7GcOtYNQTVfa/3j8glKgYSdg+sK8lVEyDFP3WdPUTAKOdqBJm+7xrBTA+CIxxHnPh3Mf7HZcH\n",
       "AxifAIY427uqAYw/PMYAATBAAAwQAAMEwAABMJ7KSs4PsWtHVQDGN4FxeGulqIqvti7/B8ACwPhW\n",
       "MIxb1UrcOzV5+X8MNxTA+E4w4rIYtzBSXP8fw0cJYNwFBlW6XDxSaatJtV8GRlqN7+aHXz8iZQDG\n",
       "TWBws61IQ422mtT7ZWDYuBRp3cFAxutHZALAuAeM1cZLvC2QztoMU23jH88Nm14qYEwxBhiX8MIM\n",
       "149oBgDjHjDCHj7MsqV4cV/funmidZHJvIoxJp0NF/Y7XDoiBjBuAmNzKZuaQhtBL8x7PFfvl2Jn\n",
       "uhqE/10HrjclXjoiuJK7wBj9rzNENbmfh0ptaDCpcf8n70fIflVzHnxOREuFwyJZfv2ISgEY94BB\n",
       "RNhG5dXkfu4utQmfU7hGt9ky/dn30/QsXSXCqvVHJ9xofvH0pSMOBMC4uY4RDXuW/1EZi86VpDBv\n",
       "sua0wLUGiCLspjiUoy4YUX56iPH1YGA1+ZKA2Rz/mFbjmbKMtGviqAUGmW1gIN/0ccmIggAYd1uM\n",
       "+EXebNyaFDtEgMVTPKYtvlReOqI2CMB4CIyfC7OHzKB1ZXnpiBIBGJ8LBsj/CwwnFjR3n/A57ZL+\n",
       "HpHaiQH13WgsvPQZ/F/yVkpwDIWCTQAAAABJRU5ErkJggg==\n",
       "\" style=\"display:inline;vertical-align:middle;\" /></a><br>"
      ],
      "text/plain": [
       "<IPython.core.display.HTML object>"
      ]
     },
     "metadata": {},
     "output_type": "display_data"
    }
   ],
   "source": [
    "qmult4 = Qmult(bra_varphi, alpha, vec_summation_b1toj_fQ, beta, \n",
    "               ket_psi, gamma, bra_varphi, delta).basic_replaced(\n",
    "    {b:c}, allow_relabeling=True)"
   ]
  },
  {
   "cell_type": "code",
   "execution_count": 9,
   "metadata": {},
   "outputs": [
    {
     "data": {
      "text/html": [
       "<strong id=\"qmult5\">qmult5:</strong> <a class=\"ProveItLink\" href=\"../__pv_it/demonstrations/19f2762fb3a49433095cbe8e1577b9c4cbe0f9300/expr.ipynb\"><img src=\"data:image/png;base64,iVBORw0KGgoAAAANSUhEUgAAALwAAAAVBAMAAAAOdJm+AAAAMFBMVEX///8AAAAAAAAAAAAAAAAA\n",
       "AAAAAAAAAAAAAAAAAAAAAAAAAAAAAAAAAAAAAAAAAAAv3aB7AAAAD3RSTlMAiasyIt1EEO9UdruZ\n",
       "zWZ7xlX5AAAACXBIWXMAAA7EAAAOxAGVKw4bAAADKUlEQVQ4y4WVTWhTQRCAJ33pe30vLz/tQWs9\n",
       "GKq3XkoV0YumBy/tJVBSexAMloIXJV4D1YIVQS/xIBQULIiEVm2D9mYhMVC9aIzgtTWI6MHa2moV\n",
       "LbbOzO4m76fUCbNvXmbz7ezs7ARgVwniR0n3Tm6HJJShSU/QN73q+WIKAmllP/Xjp5wve5QRwkD0\n",
       "SaEuCX8Tz95HL/lpxhQeZ9710dENVnGz89khF94s4TAj1Sn3BF6bhA9sjILCI6jZhx+lIYo7Xs05\n",
       "8ZCkSDNCnVL+wY9LACNsVBTewOgDOTlLr0mjQsNJdNljLvw+1EhJqEMCvd9VJspsjCm8iekMFtTm\n",
       "VU4JCrOU6S0Xvp+G61Ib0mf9lnjzNHOqCh+g4Z0Hb3IhFKkk1lz4MBXRktTWNlVyJXOLN3/kySJn\n",
       "zY4xPltB/AOAWx48uQE26bDWBf4wwIXNDB85tAk9lTbGg5xWPaetiVBXRnjFcI3xsQm4DLOZ+tkq\n",
       "PLlB+0OJltGXQFs6FxNn+1XoDYB5SwQLwXWZiQjnuTlHeC23AB+hBf1pN57cYNFxNf1kPJ5QEwD+\n",
       "9AW+TrDaWIuvObXw8FWZdgpZ3AhXaEua8AZGEMO1QYtTDKnU0LVUKi7dEKKZUVE5iPlMW4AeqijW\n",
       "Flysfa8qvg0yhjGmsQYezF+Iz4pb5Iye8VHa52qN8RZVBWHolM6zXsG3AzmRG4AheYVC8UZywK7i\n",
       "2eRlQXiTQ2Vv3BS31ga9G+yMqLHbrFF0t/Psi6jvycB6O8ak0KTAFyIZPS3L2YEnN5d9qCrxNRuM\n",
       "g/KGfGG1CxB5wz2O8lFErFEBfVBcszjj9fEAfJKX0YknNwWkn1EtbfHxiYW0vN/Phbau5O0OhBb/\n",
       "ZuDO9lv89dHpDtlZk+Ja9eyfTshW4sSTu2u7s2s+ofCRsxt0PlzBg1K9EmiYA/LWHq83QldTGABv\n",
       "Q+YuxL01mBS6G35Z4vOc6oS3pS378FfZmqNCqQn1SbZhIpHxsXr7dUl9QYXX+LoYVdnW+nf6Axxu\n",
       "mEZB4DkbM76ZRsGDtzgbVk3uYA7+I31g1f9i4zu5HXIfk82Tm2iJBOs/qqbG86SjQMwAAAAASUVO\n",
       "RK5CYII=\n",
       "\" style=\"display:inline;vertical-align:middle;\" /></a><br>"
      ],
      "text/plain": [
       "<IPython.core.display.HTML object>"
      ]
     },
     "metadata": {},
     "output_type": "display_data"
    }
   ],
   "source": [
    "qmult5 = Qmult(alpha, A, beta, VecAdd(ket_psi, Qmult(D, ket_varphi)))"
   ]
  },
  {
   "cell_type": "code",
   "execution_count": 10,
   "metadata": {},
   "outputs": [
    {
     "data": {
      "text/html": [
       "<strong id=\"qmult6\">qmult6:</strong> <a class=\"ProveItLink\" href=\"../__pv_it/demonstrations/a6b29a5ef6667e470d387498f79515261a5faa5a0/expr.ipynb\"><img src=\"data:image/png;base64,iVBORw0KGgoAAAANSUhEUgAAAL4AAAAVBAMAAAAKgUmDAAAAMFBMVEX///8AAAAAAAAAAAAAAAAA\n",
       "AAAAAAAAAAAAAAAAAAAAAAAAAAAAAAAAAAAAAAAAAAAv3aB7AAAAD3RSTlMAiasyIt1EEO9UdruZ\n",
       "zWZ7xlX5AAAACXBIWXMAAA7EAAAOxAGVKw4bAAAC+klEQVQ4y4VVTWgTURCezabZ7Ga7TXvQ2ks1\n",
       "6qkUF//Qi40HD+IlCKkIgsVSyaUSr/VgwKJiQSIiiCgGFIRSbZAeNBYahepBWnsQPEhr8OKh2Kb1\n",
       "D1q1zrz39jWbl9SBL5nd7+V7M/PmTQD+Y3GBymdmOiJYc/kGtGJWlkPaJs+JuAChXPX6DWhrYjX2\n",
       "Ygf3D4+84c4Ngfm1WOyjKwUsALOI30/q6tegm2YAFlmseg4+s1fGDAfAEEDgmxTQEAlEY7qefg26\n",
       "C9OxM+SdB+hjr+wSBwRXMN3fUmAAsQXhFMVvzyn6PprZKJXsL3m40Sv2KiwADsburEiBm4hj5FwR\n",
       "v72j6PtoZhMU5xLXN0+wV/cEIFDGbAelQJSSp16Zq6sv6eYWl79Zpcov40do79NZXrmXAhDOg7GT\n",
       "n68xUoKolQCTNmlR9fcA9K+mJX2kxxgM0qnqlL6zxE5voY/vOeeF2FUY7ixxAc3MGCXrFz/Br6p+\n",
       "EfS5M1FJXwMYtyhai9oj8JN3h5Nny08KwGgczOtc4KCdcOKAffAaH28r+qYLAYC8R9tY2CmN3Ygy\n",
       "9WiGd0eozJZfFoBniHZen3Q4p1GUsJvyInIymbyaTB4X6QF8qaCxsNC6mbU/hbxIRejFZDJ+fTqW\n",
       "xRwvwP20BkaO37uUEr9F7bFOX0SvPeu1vzEkuiOy1Vcfndp2Vw/Xn4KjQBV9j4+3FH0bQi7Ykm5C\n",
       "1VbZ/hF2V/HjAB9UBQHrO+7xRxzgWyzAWWxlynde1S/ZYGyXtJ0H5x0NO/iEVT/FhsI0hLr58haB\n",
       "RixX6oPQT8WjDqaiZb3m9ffP7ONDkxV088Ijuw3djrVYxziL2tw/3CaW7+MITCzHOp97Avq2wkP0\n",
       "GuixW9V3Tv+IVtM+09bdBpfDP8B0dl536bonatzfaVDoevo0oPxDigTYdYExMf+U+XYJFNpnAxX+\n",
       "mIBPX/NGNx9iVbRerk8z663wLwj442d/MaXqrQVtJerTigVzHNIeeE6AROLV65EOuhX0P/Pjxjvu\n",
       "90OgAAAAAElFTkSuQmCC\n",
       "\" style=\"display:inline;vertical-align:middle;\" /></a><br>"
      ],
      "text/plain": [
       "<IPython.core.display.HTML object>"
      ]
     },
     "metadata": {},
     "output_type": "display_data"
    }
   ],
   "source": [
    "qmult6 = Qmult(alpha, D, beta, VecAdd(Qmult(B, ket_psi), ket_varphi))"
   ]
  },
  {
   "cell_type": "markdown",
   "metadata": {},
   "source": [
    "Not well-formed (matrix-vector incompatible):"
   ]
  },
  {
   "cell_type": "code",
   "execution_count": 11,
   "metadata": {},
   "outputs": [
    {
     "data": {
      "text/html": [
       "<strong id=\"qmult_bad\">qmult_bad:</strong> <a class=\"ProveItLink\" href=\"../__pv_it/demonstrations/3999c116cceb73f89a2e956e615c934fd16df3030/expr.ipynb\"><img src=\"data:image/png;base64,iVBORw0KGgoAAAANSUhEUgAAAI4AAAAVBAMAAABicsu7AAAAMFBMVEX///8AAAAAAAAAAAAAAAAA\n",
       "AAAAAAAAAAAAAAAAAAAAAAAAAAAAAAAAAAAAAAAAAAAv3aB7AAAAD3RSTlMAiasyIt1EEO9UdruZ\n",
       "zWZ7xlX5AAAACXBIWXMAAA7EAAAOxAGVKw4bAAACoklEQVQ4y42UTWgTQRTH/9vE3exms0kFteZi\n",
       "6qWIhy4iogdJRDwUBeOlXiMl6s3YkxSkOXgSDxXxJjR+UdCiSxQEP6iIWEFaBQU/QFwEFURrUaFq\n",
       "0frezOxmt4jpQF5m9s3+5s3/vX3Af0YpmCQWOcJ1EksZK4NJ2o07dgYTrcJ214vrEeflheb6pgph\n",
       "2/hkyLEA826cszrOyek9Ue9vwPkp427gbcjR6FeOc8pxTk/80r/IPBTTw0A15AxFAxCjFZ7knIt5\n",
       "rW9kDvk8bQD3Qs6pqCCL5JKc4ZGYd5bM7pzkmHtDDj/JlKI7jyLOSc+x7Vwu8VmPTLFARt/YfF0T\n",
       "HGPcR84qwxT40/M1HKD/KySCC/3NDckx182T3VExjiU5sCLdBl9yQtmZqis4mlk3fGtOKuucWFHg\n",
       "K/PCBra+75acz+ilU48Dty0+/Sq/2luRGXI8wdlil50S6sADKdI1igN6QYhWQFpwkt8x6sImVaY4\n",
       "tZhg80NlSJ8VnFqqQT5KzwZajpGHigl2hUVzahQUczo8FF2k6OCuVfw2X9L5w7MBSl5d6jxa02DQ\n",
       "XU4qXfs4sT5nwuLzmJP1UaSc0aY1I0H5HPFUhtIFyZlCH/jWzxSH5TGecIh02KTgDLukELLk6QrL\n",
       "547YTfs2lyTnET5gP2ngKY7IG31N00QadGU8Ll7SZT04j/n7zZAiVVGoxjT0fvWdHizlHNqrqUrT\n",
       "RInQJTOvnn7ql/WjNUwOvnNmzM6TWhNf1966L8t+06V88L0num9eoNkyVXe2sLx6t7AnqMP82X+3\n",
       "Cy3aNxIikjPqSYfcQM9sv1XPWAJHlBaC/rJPdi9SK+W25QxFOQLKGYp2tufgVLfjDMTigaoYMVTa\n",
       "PgIX23PCcR4xWVodm9bbZa8JOshfOFKTtdO5LOoAAAAASUVORK5CYII=\n",
       "\" style=\"display:inline;vertical-align:middle;\" /></a><br>"
      ],
      "text/plain": [
       "<IPython.core.display.HTML object>"
      ]
     },
     "metadata": {},
     "output_type": "display_data"
    }
   ],
   "source": [
    "qmult_bad = Qmult(alpha, D, beta, ket_psi, \n",
    "                  gamma, Bra(varphi), delta)"
   ]
  },
  {
   "cell_type": "markdown",
   "metadata": {},
   "source": [
    "### Let's disable some simplification directives during initial testing"
   ]
  },
  {
   "cell_type": "code",
   "execution_count": 12,
   "metadata": {},
   "outputs": [
    {
     "name": "stdout",
     "output_type": "stream",
     "text": [
      "['ungroup', 'factor_scalars', 'use_scalar_mult']\n"
     ]
    }
   ],
   "source": [
    "print(Qmult.simplification_directive_keys())"
   ]
  },
  {
   "cell_type": "code",
   "execution_count": 13,
   "metadata": {},
   "outputs": [],
   "source": [
    "Qmult.change_simplification_directives(\n",
    "    ungroup=False, factor_scalars=False, use_scalar_mult=False)"
   ]
  },
  {
   "cell_type": "markdown",
   "metadata": {},
   "source": [
    "### Proving membership in the QmultCodomain class"
   ]
  },
  {
   "cell_type": "code",
   "execution_count": 14,
   "metadata": {},
   "outputs": [
    {
     "data": {
      "text/html": [
       "<span style=\"font-size:20px;\"><a class=\"ProveItLink\" href=\"../__pv_it/demonstrations/209baac38918ef8b1210d5267967da66f42b39310/expr.ipynb\"><img src=\"data:image/png;base64,iVBORw0KGgoAAAANSUhEUgAAADYAAAAQBAMAAACvnpHFAAAAMFBMVEX///8AAAAAAAAAAAAAAAAA\n",
       "AAAAAAAAAAAAAAAAAAAAAAAAAAAAAAAAAAAAAAAAAAAv3aB7AAAAD3RSTlMAiasyIt1EEO9UdruZ\n",
       "zWZ7xlX5AAAACXBIWXMAAA7EAAAOxAGVKw4bAAAA10lEQVQY02NgwAbYpWNvOQtglWJY1MdQ8/sA\n",
       "VimeZUA9r7HL2XAXMDAwocqtDg29AKLVuUF2PkCWyl0OZWzwgQkJChmAaZbrUAEWBUMoyzWBvYVl\n",
       "ApDB6wAVYRbIg7K6GBj2cBWA5GAGsRzIgrr3AwPDWUYQyyIUCDaA7XOEyHEAeRLiIFY13FHbuSF0\n",
       "/QIGBnmQdQyscLkckP8YEhj4gXISYBGuBYhwUQASFxh4NjDwnWcGC91EBMIdh8oYkPfeLeeRAosU\n",
       "bSuAx0N/jANqOCZuhYQZFAAANPAuqY517tAAAAAASUVORK5CYII=\n",
       "\" style=\"display:inline;vertical-align:middle;\" /></a> <a class=\"ProveItLink\" href=\"../__pv_it/demonstrations/e3511ce4e874c49936540e782f6efb6c00873d280/proof.ipynb\" style=\"text-decoration: none\">&nbsp;&#x22A2;&nbsp;&nbsp;</a><a class=\"ProveItLink\" href=\"../__pv_it/demonstrations/0efacd37e0b53121b7eaeb2620f4b3e4801ea8790/expr.ipynb\"><img src=\"data:image/png;base64,iVBORw0KGgoAAAANSUhEUgAAAEAAAAAdBAMAAADoV3fEAAAAMFBMVEX///8AAAAAAAAAAAAAAAAA\n",
       "AAAAAAAAAAAAAAAAAAAAAAAAAAAAAAAAAAAAAAAAAAAv3aB7AAAAD3RSTlMAiasyIt1EEO9UdruZ\n",
       "zWZ7xlX5AAAACXBIWXMAAA7EAAAOxAGVKw4bAAABKUlEQVQoz2NgwAdYDuCVZuA0P7AAp5zGXwEG\n",
       "loObJuCQZ9tl/OIvA0POrQIcClYzMLDHL+ASF76AKhwaChFg3AAk8gMYWBRQ5HOXw1j5IJM5PjAw\n",
       "OIB4gkIGED9dhyttBBG8HyAc1wT2FhaQY3kd4F74BlYQAOF1MTDs4QIZyQs3gPELiOSAhBIP0KCz\n",
       "jCCWRSgQgFzHwAQ2wR5iMwdQSEIcxKqGm8D1CUTugXDqgYEpDw4vVrgC9v9HmEX4oE7gByqQgOhD\n",
       "hLvp/56CXGgg8mxg4DvPDGbeRAQJOwMXPCIF3y3nkQKzirbBQp457Y0athhI3AoN6vj/H4Gq2vEk\n",
       "lEn/Pz32TcCbVlS/qjAMTcC8TgC/AiOGDfgVbCZkRThDAX4Fie8eYIgBAPdrRm4yj6XUAAAAAElF\n",
       "TkSuQmCC\n",
       "\" style=\"display:inline;vertical-align:middle;\" /></a></span>"
      ],
      "text/plain": [
       "{alpha in Complex} |- alpha in_c Q*"
      ]
     },
     "metadata": {},
     "output_type": "display_data"
    }
   ],
   "source": [
    "InClass(alpha, QmultCodomain).prove()"
   ]
  },
  {
   "cell_type": "code",
   "execution_count": 15,
   "metadata": {},
   "outputs": [
    {
     "data": {
      "text/html": [
       "<span style=\"font-size:20px;\"><a class=\"ProveItLink\" href=\"../../../../logic/sets/cartesian_products/__pv_it/theorems/79a768603778550c651661670153c27ee0a505870/expr.ipynb\"><img src=\"data:image/png;base64,iVBORw0KGgoAAAANSUhEUgAAAEYAAAATBAMAAADfQ2bzAAAAMFBMVEX///8AAAAAAAAAAAAAAAAA\n",
       "AAAAAAAAAAAAAAAAAAAAAAAAAAAAAAAAAAAAAAAAAAAv3aB7AAAAD3RSTlMARHarECKJuzJmVO/d\n",
       "mc2qKiq2AAAACXBIWXMAAA7EAAAOxAGVKw4bAAABD0lEQVQoz2NgIAAuMBAGBZSoYTlf/oSBbf9G\n",
       "vOawLxBmYPDHbxfzUbYJDNwMvOXl28srcalZzvCUgQe7OUw1Z86B1UQqxOFQw/jIAWpOgAVTAlwN\n",
       "o7JrUhFHWiFYKs4BZlcAO0MhXA0buxGD/0SG1WCpp3D3BHBc8PGBhbMgTwFDvALDfLDUA4Qahllc\n",
       "1TCeg78Aw3oHhnsgNseeM2fOHIeqYXawhrtzPQNIwTZw8BYgmcNi4ANXY8fAcIyB8SsLiH0ASQ1D\n",
       "EztczTYGlo8MzA8iQWwleFw0AMOqHcZj/cHA+YGBPSEBxOFbABUFM+7Bg+0AA9MFBsZLAWAHmYuA\n",
       "BTnebweSftjjiTEdEhcoAAAiLj7xf6vyygAAAABJRU5ErkJggg==\n",
       "\" style=\"display:inline;vertical-align:middle;\" /></a>, <a class=\"ProveItLink\" href=\"../__pv_it/demonstrations/b9ff765654f5a9fab1a0f971ffbd46ba878d2ac30/expr.ipynb\"><img src=\"data:image/png;base64,iVBORw0KGgoAAAANSUhEUgAAAFAAAAAVBAMAAAAjqnRBAAAAMFBMVEX///8AAAAAAAAAAAAAAAAA\n",
       "AAAAAAAAAAAAAAAAAAAAAAAAAAAAAAAAAAAAAAAAAAAv3aB7AAAAD3RSTlMAIolEdjIQVJlm3e/N\n",
       "u6uczJRnAAAACXBIWXMAAA7EAAAOxAGVKw4bAAABgklEQVQoz2MQYIACVgbsgLMzxI9lbgCDMkyA\n",
       "NwBdCZvumiOiCpnWE7gfsDyAKmRhYGBvQFfot5Mh42+DmA8DfwCHAlQhExAvQFPH4azAwDC3geEJ\n",
       "QzQDVwFUYQoQq6MpjOBNYGDga2DYyuDLIM8KVVgKxLJQBb6rVh0A0c94Qe6cwPgBaOZcDqhCoCUM\n",
       "PJAAsHGDarggAaaYHzAcZJBzAypk85jAoMCygIEdpJqB8RhUHeODIBSXKDMwsW9gm8DyDeobHljA\n",
       "sipYoikM51jAKcCwgYGhGawQJsHYYIKmMIHbARg6wFCMA/GjVwHBBbAbhdAUMtQnMDGwOTAwFIH4\n",
       "uXCZa7zoCnsYxBlYgGF2EMTngstYgMKRwQBJYS/DNAZjoKPAFrI4IGLmAZA4gKTQWkCBE6iRqQAs\n",
       "cBxupO8JgfQVyFazPrriiLA073ICPPXsXyGArJCBFWxWBVTE6NaqA1jSJUghC9iMiwx4gTI0kTGw\n",
       "HSCskAXs3Qn4FbrCGHz41QEAUKNKBCB71lUAAAAASUVORK5CYII=\n",
       "\" style=\"display:inline;vertical-align:middle;\" /></a> <a class=\"ProveItLink\" href=\"../__pv_it/demonstrations/23089c5fcc40ee1afca1661b9fb47dac2c623b750/proof.ipynb\" style=\"text-decoration: none\">&nbsp;&#x22A2;&nbsp;&nbsp;</a><a class=\"ProveItLink\" href=\"../__pv_it/demonstrations/933ed7b8075b3f660a9c6c9a4868468a6c9c880b0/expr.ipynb\"><img src=\"data:image/png;base64,iVBORw0KGgoAAAANSUhEUgAAAEwAAAAdBAMAAADya5dKAAAAMFBMVEX///8AAAAAAAAAAAAAAAAA\n",
       "AAAAAAAAAAAAAAAAAAAAAAAAAAAAAAAAAAAAAAAAAAAv3aB7AAAAD3RSTlMAIolEdjIQVJlm3e/N\n",
       "u6uczJRnAAAACXBIWXMAAA7EAAAOxAGVKw4bAAABnElEQVQ4y2MQYIACVgZcgLGBgUEZxuENwKGK\n",
       "PazBAaqMBchrwKLi9R8FBsamewVQZUxAvABDFfOV0Nl/GBgsjiRAlaUAsTqGMl8GBrb1Dixqqgeg\n",
       "ykqBWBYqyXJr1RqIFReAhP0CBsYHMC8oADEPxNPMQCsgwB7E4P7AwCAAUsbmMYFBgWUBA7sCWFIG\n",
       "pophE4jg+QBmKzMwsW9gm8DyDeaHg3BvfgYrWwBVFs6xgFOAYQMDQzNY4ABMGdNHEMndAFWWwO0A\n",
       "DA8gLw4cGbtWrVq1FsTiA5sWHwBVxlCfwMTA5sDAUATis12AmcbyD0TeYIAp62EQZ2BJgLkKHsps\n",
       "/xtZFTkXwJX1MkxjMAbGMMQcF3joRv3fkWCTAFdmLaDAaQB0cgFYgKcAro6NgQUW0UBlrI+uOAJZ\n",
       "XFC5t2awpGU84zEDQhkDK9iACliE60Ija/3/T0C5bXBlLGAHXMRIjnX//02VMYArYwJbdgBLenv1\n",
       "6yHCUhZwME1gwANcYQw+hiEAWD0ViFEWx3CBGGVXibN0GUMCMcqMZmIGNAA4Cla0PHTD9wAAAABJ\n",
       "RU5ErkJggg==\n",
       "\" style=\"display:inline;vertical-align:middle;\" /></a></span>"
      ],
      "text/plain": [
       "{m in NaturalPos, |psi〉 in Complex^{m}} |- |psi〉 in_c Q*"
      ]
     },
     "metadata": {},
     "output_type": "display_data"
    }
   ],
   "source": [
    "InClass(ket_psi, QmultCodomain).prove()"
   ]
  },
  {
   "cell_type": "code",
   "execution_count": 16,
   "metadata": {},
   "outputs": [
    {
     "data": {
      "text/html": [
       "<span style=\"font-size:20px;\"><a class=\"ProveItLink\" href=\"../../../../numbers/number_sets/natural_numbers/__pv_it/theorems/132c57ec1224a4beaf274a23bd799047020206590/expr.ipynb\"><img src=\"data:image/png;base64,iVBORw0KGgoAAAANSUhEUgAAAEEAAAATBAMAAAA9n32KAAAAMFBMVEX///8AAAAAAAAAAAAAAAAA\n",
       "AAAAAAAAAAAAAAAAAAAAAAAAAAAAAAAAAAAAAAAAAAAv3aB7AAAAD3RSTlMARHarECKJu90yVM1m\n",
       "75kejotwAAAACXBIWXMAAA7EAAAOxAGVKw4bAAAA90lEQVQoz2NgwAf4GAgBdrJVeHyvdmDI/SuA\n",
       "x4wqRgMGlg/4bLEIyGFguMDwvLy2vPwAVhVWBdwBDA3YzFDv6NgAok0PsW7AqkJaBcowZZ6ghlDB\n",
       "qOyaVAQWZ90CU2rKUMAuAFfBxm7E4B8AYnEHIFTMY2lpgIWpIEcBQ/wEsAoGhAqeBcsvwHgO/gIM\n",
       "6x1ArLkdQFAAUcFgwgxXwbCegcEazHBHMoPBmaUBzgVK/2EBMTiQVXAqFMC51xi4vrCBGEwKMKFK\n",
       "INaEq2D9ycC04SSYuQsmBmLwbYDxGBsYWGwWgJnOhWAXM8z+C9TPsgFbfIhVdGCKAwDDkzTgOh63\n",
       "3AAAAABJRU5ErkJggg==\n",
       "\" style=\"display:inline;vertical-align:middle;\" /></a>, <a class=\"ProveItLink\" href=\"../__pv_it/demonstrations/55701387f25fde525e21ebc18286978696667feb0/expr.ipynb\"><img src=\"data:image/png;base64,iVBORw0KGgoAAAANSUhEUgAAAEwAAAAVBAMAAAAeOBUnAAAAMFBMVEX///8AAAAAAAAAAAAAAAAA\n",
       "AAAAAAAAAAAAAAAAAAAAAAAAAAAAAAAAAAAAAAAAAAAv3aB7AAAAD3RSTlMAIolEdjLNuxCZZqtU\n",
       "3e8Ziz2RAAAACXBIWXMAAA7EAAAOxAGVKw4bAAABZ0lEQVQoz2MQYIACVgbsgGtWiCcDgzKMyx6A\n",
       "roBD/VqKqEKX3QI+AYQyngnoyrxfMXR+nyDhxsDfgFDGcAFNFaezAgPD8gkMWxjskCxl0EFTFsne\n",
       "wMDAPYHhKcNMViRl4lDa/e7dBBC9gx3kvgWMHxiuHkVSxgbxtJkHlF8gCaaYNzA4LQApCwXKfW9g\n",
       "4FEAiTJmQFUxbghCcgFQ2QQG1ixrBagf2GAByapghaKMJ4CBG2gFA8NksDKYBOMEExRlTAwMK0BG\n",
       "MkSD+HF3gaAA7DYhFGUsDAwODBwODAyHQPx2uEwFO4oyTgbmAAZOYBglgvi8cBlLULgxGMCVLeBk\n",
       "4NgKdAzYKhYHRCxsABIJcJ+muUXNBWpiOgAWyIEb554p0HMTESBc9/8qIKzrLm6Ap5D3NwUQyhhm\n",
       "gVknoSJGtXcTMFIdSNlTMKuQAQ8AKmP9ALYigYAyFnAssSzAp8wVGBLg5M2NTxUAn11FpH3bB28A\n",
       "AAAASUVORK5CYII=\n",
       "\" style=\"display:inline;vertical-align:middle;\" /></a> <a class=\"ProveItLink\" href=\"../__pv_it/demonstrations/fb82d467fb1e3ddfc8aa1d077dc89895618105040/proof.ipynb\" style=\"text-decoration: none\">&nbsp;&#x22A2;&nbsp;&nbsp;</a><a class=\"ProveItLink\" href=\"../__pv_it/theorems/715f503574a08999f18d4b215f047a8200ed6dc00/expr.ipynb\"><img src=\"data:image/png;base64,iVBORw0KGgoAAAANSUhEUgAAAEwAAAAdBAMAAADya5dKAAAAMFBMVEX///8AAAAAAAAAAAAAAAAA\n",
       "AAAAAAAAAAAAAAAAAAAAAAAAAAAAAAAAAAAAAAAAAAAv3aB7AAAAD3RSTlMAMiK7iVTdmRDNdmZE\n",
       "q+96N/emAAAACXBIWXMAAA7EAAAOxAGVKw4bAAABkklEQVQ4y2NgYBBggAIFBuyAqQBEGMC4PthV\n",
       "sUoULGBgYAnArYz13k8HBqYSW6ASNgacynisBPf9ZGA4PquBgSEct7LFDAwc+Qu4PBwnMDAYoitb\n",
       "nJY2AcxgAbn6fAID0wWg8gloyk6ugPHPA+1i4PsADgKuDQwMgkDJzw0QZUwz4NqegAjOD2A2yAcF\n",
       "DIyzzzpAlHHCQ4/1D5ifAOacBfIFGHgZGAygyuCGsXwCkXwFYE4NkM/AsANkJFiZXBoQgEOcF2ya\n",
       "PCSSVgOdx8CwgIFjAURZM9w0rr8g0hzC6WRgYGfgEWBgh3oBEdoc/4sYnbghTmNgVmBg38DOwHER\n",
       "GiBcC+DqxP4/bzjZAPWPAwPDzJXSZQdg4TYVEQscDFwFMDbQVO78bw7w4O21gRrAwHhm+x24Flcg\n",
       "rkaOrCNm0MjK//8FqPYFRFQZiB9ijXqm2P9/N2oegHA4GxgYP+BKb9e+XYIyuRcwcCXgS71QcIGB\n",
       "CRLSCxkGPWBc7UCMMlkGA2KUGRJnaQZDAzHKjuzegCEGAOBiWMjZwyrFAAAAAElFTkSuQmCC\n",
       "\" style=\"display:inline;vertical-align:middle;\" /></a></span>"
      ],
      "text/plain": [
       "{n in NaturalPos, |varphi〉 in Complex^{n}} |- 〈varphi| in_c Q*"
      ]
     },
     "metadata": {},
     "output_type": "display_data"
    }
   ],
   "source": [
    "InClass(Bra(varphi), QmultCodomain).prove()"
   ]
  },
  {
   "cell_type": "code",
   "execution_count": 17,
   "metadata": {},
   "outputs": [
    {
     "data": {
      "text/html": [
       "<span style=\"font-size:20px;\"><a class=\"ProveItLink\" href=\"../__pv_it/demonstrations/209baac38918ef8b1210d5267967da66f42b39310/expr.ipynb\"><img src=\"data:image/png;base64,iVBORw0KGgoAAAANSUhEUgAAADYAAAAQBAMAAACvnpHFAAAAMFBMVEX///8AAAAAAAAAAAAAAAAA\n",
       "AAAAAAAAAAAAAAAAAAAAAAAAAAAAAAAAAAAAAAAAAAAv3aB7AAAAD3RSTlMAiasyIt1EEO9UdruZ\n",
       "zWZ7xlX5AAAACXBIWXMAAA7EAAAOxAGVKw4bAAAA10lEQVQY02NgwAbYpWNvOQtglWJY1MdQ8/sA\n",
       "VimeZUA9r7HL2XAXMDAwocqtDg29AKLVuUF2PkCWyl0OZWzwgQkJChmAaZbrUAEWBUMoyzWBvYVl\n",
       "ApDB6wAVYRbIg7K6GBj2cBWA5GAGsRzIgrr3AwPDWUYQyyIUCDaA7XOEyHEAeRLiIFY13FHbuSF0\n",
       "/QIGBnmQdQyscLkckP8YEhj4gXISYBGuBYhwUQASFxh4NjDwnWcGC91EBMIdh8oYkPfeLeeRAosU\n",
       "bSuAx0N/jANqOCZuhYQZFAAANPAuqY517tAAAAAASUVORK5CYII=\n",
       "\" style=\"display:inline;vertical-align:middle;\" /></a> <a class=\"ProveItLink\" href=\"../__pv_it/demonstrations/1419951de28e561ed542f23de47ce4fad681084a0/proof.ipynb\" style=\"text-decoration: none\">&nbsp;&#x22A2;&nbsp;&nbsp;</a><a class=\"ProveItLink\" href=\"../__pv_it/demonstrations/a57c222e475f24e9f431c3e3f743f5710cb89f140/expr.ipynb\"><img src=\"data:image/png;base64,iVBORw0KGgoAAAANSUhEUgAAAEoAAAAdBAMAAAD/decNAAAAMFBMVEX///8AAAAAAAAAAAAAAAAA\n",
       "AAAAAAAAAAAAAAAAAAAAAAAAAAAAAAAAAAAAAAAAAAAv3aB7AAAAD3RSTlMAdt0yiUSrIhDvVLuZ\n",
       "zWbK4E8GAAAACXBIWXMAAA7EAAAOxAGVKw4bAAABW0lEQVQ4y2MQUmYAA0YlAwbsgP0AA4MrjMMS\n",
       "gF0Rl8UBAbyquDL/OjCwH9m2AJ8q1o3GL/8yMMRcbMCnSpqBgUNfgNHD+QKmKmklpQsQgQ1AIl6B\n",
       "gT0B0/WxEjCB+AYgwfmBgaEAosrFzQCmiv0G3MIpIIL3A5gNVFUUwDGdfQFEFW8B3INfwXwFmKqJ\n",
       "DAx7GBugquBGsXwHkZwHoKp4gIaeZYHaaKkEBCBnM7CBzbI3gKriBAp6ekBVdcPNYvwGIvcwQFX1\n",
       "CzAw+C+AqmKCq+L4f5zZnU8BpoofqMoT5kdGAbgyo/9zGmIbYKp4NjDwnWeGhdctRNhzMDAeYICp\n",
       "YnB5J8HjCFPVthWqnYE59E0qA0IVagyFbILGkP7/L0ClM7CrQqS+Zf+/Pa4NIKAKGPxJn9IZCKpC\n",
       "ACdYutfEp2oQAGY5ByJUmTFsIELVZqJs1GBoIEJVyLsHGGIAgTdQGnYxp50AAAAASUVORK5CYII=\n",
       "\" style=\"display:inline;vertical-align:middle;\" /></a></span>"
      ],
      "text/plain": [
       "{alpha in Complex} |- [alpha] in_c Q*"
      ]
     },
     "metadata": {},
     "output_type": "display_data"
    }
   ],
   "source": [
    "InClass(Qmult(alpha), QmultCodomain).prove()"
   ]
  },
  {
   "cell_type": "code",
   "execution_count": 18,
   "metadata": {},
   "outputs": [
    {
     "data": {
      "text/html": [
       "<span style=\"font-size:20px;\"><a class=\"ProveItLink\" href=\"../../../../logic/sets/cartesian_products/__pv_it/theorems/79a768603778550c651661670153c27ee0a505870/expr.ipynb\"><img src=\"data:image/png;base64,iVBORw0KGgoAAAANSUhEUgAAAEYAAAATBAMAAADfQ2bzAAAAMFBMVEX///8AAAAAAAAAAAAAAAAA\n",
       "AAAAAAAAAAAAAAAAAAAAAAAAAAAAAAAAAAAAAAAAAAAv3aB7AAAAD3RSTlMARHarECKJuzJmVO/d\n",
       "mc2qKiq2AAAACXBIWXMAAA7EAAAOxAGVKw4bAAABD0lEQVQoz2NgIAAuMBAGBZSoYTlf/oSBbf9G\n",
       "vOawLxBmYPDHbxfzUbYJDNwMvOXl28srcalZzvCUgQe7OUw1Z86B1UQqxOFQw/jIAWpOgAVTAlwN\n",
       "o7JrUhFHWiFYKs4BZlcAO0MhXA0buxGD/0SG1WCpp3D3BHBc8PGBhbMgTwFDvALDfLDUA4Qahllc\n",
       "1TCeg78Aw3oHhnsgNseeM2fOHIeqYXawhrtzPQNIwTZw8BYgmcNi4ANXY8fAcIyB8SsLiH0ASQ1D\n",
       "EztczTYGlo8MzA8iQWwleFw0AMOqHcZj/cHA+YGBPSEBxOFbABUFM+7Bg+0AA9MFBsZLAWAHmYuA\n",
       "BTnebweSftjjiTEdEhcoAAAiLj7xf6vyygAAAABJRU5ErkJggg==\n",
       "\" style=\"display:inline;vertical-align:middle;\" /></a>, <a class=\"ProveItLink\" href=\"../__pv_it/demonstrations/b9ff765654f5a9fab1a0f971ffbd46ba878d2ac30/expr.ipynb\"><img src=\"data:image/png;base64,iVBORw0KGgoAAAANSUhEUgAAAFAAAAAVBAMAAAAjqnRBAAAAMFBMVEX///8AAAAAAAAAAAAAAAAA\n",
       "AAAAAAAAAAAAAAAAAAAAAAAAAAAAAAAAAAAAAAAAAAAv3aB7AAAAD3RSTlMAIolEdjIQVJlm3e/N\n",
       "u6uczJRnAAAACXBIWXMAAA7EAAAOxAGVKw4bAAABgklEQVQoz2MQYIACVgbsgLMzxI9lbgCDMkyA\n",
       "NwBdCZvumiOiCpnWE7gfsDyAKmRhYGBvQFfot5Mh42+DmA8DfwCHAlQhExAvQFPH4azAwDC3geEJ\n",
       "QzQDVwFUYQoQq6MpjOBNYGDga2DYyuDLIM8KVVgKxLJQBb6rVh0A0c94Qe6cwPgBaOZcDqhCoCUM\n",
       "PJAAsHGDarggAaaYHzAcZJBzAypk85jAoMCygIEdpJqB8RhUHeODIBSXKDMwsW9gm8DyDeobHljA\n",
       "sipYoikM51jAKcCwgYGhGawQJsHYYIKmMIHbARg6wFCMA/GjVwHBBbAbhdAUMtQnMDGwOTAwFIH4\n",
       "uXCZa7zoCnsYxBlYgGF2EMTngstYgMKRwQBJYS/DNAZjoKPAFrI4IGLmAZA4gKTQWkCBE6iRqQAs\n",
       "cBxupO8JgfQVyFazPrriiLA073ICPPXsXyGArJCBFWxWBVTE6NaqA1jSJUghC9iMiwx4gTI0kTGw\n",
       "HSCskAXs3Qn4FbrCGHz41QEAUKNKBCB71lUAAAAASUVORK5CYII=\n",
       "\" style=\"display:inline;vertical-align:middle;\" /></a> <a class=\"ProveItLink\" href=\"../__pv_it/demonstrations/ca6616d8536e77a03b9506bbe1fcc4045dd7c04a0/proof.ipynb\" style=\"text-decoration: none\">&nbsp;&#x22A2;&nbsp;&nbsp;</a><a class=\"ProveItLink\" href=\"../__pv_it/demonstrations/8b970f0b0a5757ce60e8ad6224c0b753c87f5a370/expr.ipynb\"><img src=\"data:image/png;base64,iVBORw0KGgoAAAANSUhEUgAAAFgAAAAdBAMAAADcLrbYAAAAMFBMVEX///8AAAAAAAAAAAAAAAAA\n",
       "AAAAAAAAAAAAAAAAAAAAAAAAAAAAAAAAAAAAAAAAAAAv3aB7AAAAD3RSTlMAdt0yiUQiEFSZZu/N\n",
       "u6vCSoemAAAACXBIWXMAAA7EAAAOxAGVKw4bAAABuElEQVQ4y9WTvy8EQRTHv2PX7ro7siEhJJLN\n",
       "KZQnFCQSNsSP8goKIbGlgmT9AeQSGg1boCK5RCFoFER0p0F5R0g0IoJGI+JHI3dm52Z39mIlp/Sy\n",
       "72Xe7Cdv3nvzBrUtsMBFokr9cFEcYIB9RaluQ8ArFa3T0QVM6IYTCmvPXyaU1duUgGWqRhhcmevY\n",
       "+wLGTmwBz1IdDoObATWhk6H+jIAXqM4IuDkezxRPzFIzaUC5CxRoUo1ZnjfR4AWetKmJvgAWh9XG\n",
       "NExiQDM5rJz5WRy4JvbC1gyWtX01TT5ZhQyO+b3X3plvCLiryohY2AfWPNgPLH+4NuoI2I7qtHN0\n",
       "o4fD3XEqbmWoYZF72wSMFVuGqgOLHJ7zI5O8a28QgDcwBULLPuVwhQ+rhXVpMGIE4U1sY5Q2Icth\n",
       "ovt0e+HYnrCD8LhlRpK0mpTX53NxgyqIgyAsPeTq+elFeP7K9uZ2dOcRJTCklOssieseueDXnSi8\n",
       "0d9HQZiwQNchg6QsF/Jb08kgLLPsMuHzfP/6VJIGYT1I//5SmPS1oM5b17hv8BD/VqQms3y4B9ny\n",
       "4cu/pNEKu3x4ZDf9Y+8bxtRgq8eYPdAAAAAASUVORK5CYII=\n",
       "\" style=\"display:inline;vertical-align:middle;\" /></a></span>"
      ],
      "text/plain": [
       "{m in NaturalPos, |psi〉 in Complex^{m}} |- [|psi〉] in_c Q*"
      ]
     },
     "metadata": {},
     "output_type": "display_data"
    }
   ],
   "source": [
    "InClass(Qmult(ket_psi), QmultCodomain).prove()"
   ]
  },
  {
   "cell_type": "code",
   "execution_count": 19,
   "metadata": {},
   "outputs": [
    {
     "data": {
      "text/html": [
       "<span style=\"font-size:20px;\"><a class=\"ProveItLink\" href=\"../../../../numbers/number_sets/natural_numbers/__pv_it/theorems/132c57ec1224a4beaf274a23bd799047020206590/expr.ipynb\"><img src=\"data:image/png;base64,iVBORw0KGgoAAAANSUhEUgAAAEEAAAATBAMAAAA9n32KAAAAMFBMVEX///8AAAAAAAAAAAAAAAAA\n",
       "AAAAAAAAAAAAAAAAAAAAAAAAAAAAAAAAAAAAAAAAAAAv3aB7AAAAD3RSTlMARHarECKJu90yVM1m\n",
       "75kejotwAAAACXBIWXMAAA7EAAAOxAGVKw4bAAAA90lEQVQoz2NgwAf4GAgBdrJVeHyvdmDI/SuA\n",
       "x4wqRgMGlg/4bLEIyGFguMDwvLy2vPwAVhVWBdwBDA3YzFDv6NgAok0PsW7AqkJaBcowZZ6ghlDB\n",
       "qOyaVAQWZ90CU2rKUMAuAFfBxm7E4B8AYnEHIFTMY2lpgIWpIEcBQ/wEsAoGhAqeBcsvwHgO/gIM\n",
       "6x1ArLkdQFAAUcFgwgxXwbCegcEazHBHMoPBmaUBzgVK/2EBMTiQVXAqFMC51xi4vrCBGEwKMKFK\n",
       "INaEq2D9ycC04SSYuQsmBmLwbYDxGBsYWGwWgJnOhWAXM8z+C9TPsgFbfIhVdGCKAwDDkzTgOh63\n",
       "3AAAAABJRU5ErkJggg==\n",
       "\" style=\"display:inline;vertical-align:middle;\" /></a>, <a class=\"ProveItLink\" href=\"../../../../logic/sets/cartesian_products/__pv_it/theorems/79a768603778550c651661670153c27ee0a505870/expr.ipynb\"><img src=\"data:image/png;base64,iVBORw0KGgoAAAANSUhEUgAAAEYAAAATBAMAAADfQ2bzAAAAMFBMVEX///8AAAAAAAAAAAAAAAAA\n",
       "AAAAAAAAAAAAAAAAAAAAAAAAAAAAAAAAAAAAAAAAAAAv3aB7AAAAD3RSTlMARHarECKJuzJmVO/d\n",
       "mc2qKiq2AAAACXBIWXMAAA7EAAAOxAGVKw4bAAABD0lEQVQoz2NgIAAuMBAGBZSoYTlf/oSBbf9G\n",
       "vOawLxBmYPDHbxfzUbYJDNwMvOXl28srcalZzvCUgQe7OUw1Z86B1UQqxOFQw/jIAWpOgAVTAlwN\n",
       "o7JrUhFHWiFYKs4BZlcAO0MhXA0buxGD/0SG1WCpp3D3BHBc8PGBhbMgTwFDvALDfLDUA4Qahllc\n",
       "1TCeg78Aw3oHhnsgNseeM2fOHIeqYXawhrtzPQNIwTZw8BYgmcNi4ANXY8fAcIyB8SsLiH0ASQ1D\n",
       "EztczTYGlo8MzA8iQWwleFw0AMOqHcZj/cHA+YGBPSEBxOFbABUFM+7Bg+0AA9MFBsZLAWAHmYuA\n",
       "BTnebweSftjjiTEdEhcoAAAiLj7xf6vyygAAAABJRU5ErkJggg==\n",
       "\" style=\"display:inline;vertical-align:middle;\" /></a>, <a class=\"ProveItLink\" href=\"../__pv_it/demonstrations/053fb38df6fcf9baf4abe8cee7dd8e99b8a50fd80/expr.ipynb\"><img src=\"data:image/png;base64,iVBORw0KGgoAAAANSUhEUgAAAF0AAAASBAMAAADLUc9JAAAAMFBMVEX///8AAAAAAAAAAAAAAAAA\n",
       "AAAAAAAAAAAAAAAAAAAAAAAAAAAAAAAAAAAAAAAAAAAv3aB7AAAAD3RSTlMAIs1UmauJMnZmRLsQ\n",
       "3e++988cAAAACXBIWXMAAA7EAAAOxAGVKw4bAAABdklEQVQoz2NgIAjKGBhYBBiIAZyeFS0MDBwJ\n",
       "DJ4MDFOmdwR0bodKCKGr5Mm+pCGecHLdBD6gyR1sDQw8s14yPGVohUrro6tvfclw5LeDTBMD/wEG\n",
       "BjYNBgbGEwoM3xncILLM/9GUs3QlMDDMdmCIYFjHAFHPwNrA/oDhMlQ6Hs0/JdxAY1kdGJ4zuLAz\n",
       "MLSxTGBg4Cvg2MD4oQAsnZgPoRk49t69BKJjuEF+mMD4geG6OdS/8kAbODc4gGQZG/oNwMq5NA5A\n",
       "9G0QgfADGNomgMKTVYBhKQOTAGMEWJ6FwX4CJJigyhkDyvAF82KG+gQwQxEqwJ6wEp96Bwb5ADBD\n",
       "ASrA6LACj3KOLS7xG8DGvr179+5tsPvF8Kg/wcDAfwEcqRtgQnu48TqHgfcBmHUBJrQEFP4MC7Aq\n",
       "5wKGDdMHMLMDEb9AD7EoYFUvB8TcH8FMJgOYYLeKwOErWJWf/q/DwLz/EzhAeaLXwNPn+ytEpHmu\n",
       "bEh6wA0A6ehXuNCZSI8AAAAASUVORK5CYII=\n",
       "\" style=\"display:inline;vertical-align:middle;\" /></a> <a class=\"ProveItLink\" href=\"../__pv_it/demonstrations/f1eec586633dd70d065753146a5040ecdb007d960/proof.ipynb\" style=\"text-decoration: none\">&nbsp;&#x22A2;&nbsp;&nbsp;</a><a class=\"ProveItLink\" href=\"../__pv_it/theorems/cd1b98f0dc28e0b17ec7328266db691b60ac265e0/expr.ipynb\"><img src=\"data:image/png;base64,iVBORw0KGgoAAAANSUhEUgAAAEwAAAAdBAMAAADya5dKAAAAMFBMVEX///8AAAAAAAAAAAAAAAAA\n",
       "AAAAAAAAAAAAAAAAAAAAAAAAAAAAAAAAAAAAAAAAAAAv3aB7AAAAD3RSTlMAdt0yiUQizVSZq2a7\n",
       "EO+yuMX5AAAACXBIWXMAAA7EAAAOxAGVKw4bAAABbElEQVQ4y2MQUmaAAgQLDbBNYGBwhTDTGeBM\n",
       "dMBhO0EAJlePVRnHuu8ODGxTTjVA5Tj+Y1PGetB433cGhsjCC1A5zvUJWJTJMDDw6gsw+joXQOXc\n",
       "/A3gymSUlArADJYDQCJegYFtAVSOTUC+AaYsXBZmWPwFIMH3gYEBZhMnQ/8GmI5auJ1PQAT7BzAb\n",
       "LBfBYO8AZbInwL35FcxXQCibwJAPs58dbhjLNxDJNwGujPHkzPUHoMrslIAA5HYGLrBp9gZwZRcZ\n",
       "GPgVoMruwE1j/AUiTzLAlQHNZXoAVcYEV8b7fxqzG7cCXBnrBoiHwMoYBeDqjP6/vBB+Aa4sD0jx\n",
       "fIOFWwUiFngZGCcwwJTd+V/LwHEeGMcQZbeOQg1gYA7duZSBAeE2VGbIIWhk6f//AlT7FocyRHLs\n",
       "+v9rc3oAIWXAiFj0aRkDYWUI4ITIC08ZBj1glnYgRpkVwwFilB0mzlJdhgvEKAvZvQFDDABZyVgW\n",
       "IBg6VQAAAABJRU5ErkJggg==\n",
       "\" style=\"display:inline;vertical-align:middle;\" /></a></span>"
      ],
      "text/plain": [
       "{n in NaturalPos, m in NaturalPos, A in Complex^{n x m}} |- [A] in_c Q*"
      ]
     },
     "metadata": {},
     "output_type": "display_data"
    }
   ],
   "source": [
    "InClass(Qmult(A), QmultCodomain).prove()"
   ]
  },
  {
   "cell_type": "code",
   "execution_count": 20,
   "metadata": {},
   "outputs": [
    {
     "data": {
      "text/html": [
       "<span style=\"font-size:20px;\"><a class=\"ProveItLink\" href=\"../../../../numbers/number_sets/natural_numbers/__pv_it/theorems/132c57ec1224a4beaf274a23bd799047020206590/expr.ipynb\"><img src=\"data:image/png;base64,iVBORw0KGgoAAAANSUhEUgAAAEEAAAATBAMAAAA9n32KAAAAMFBMVEX///8AAAAAAAAAAAAAAAAA\n",
       "AAAAAAAAAAAAAAAAAAAAAAAAAAAAAAAAAAAAAAAAAAAv3aB7AAAAD3RSTlMARHarECKJu90yVM1m\n",
       "75kejotwAAAACXBIWXMAAA7EAAAOxAGVKw4bAAAA90lEQVQoz2NgwAf4GAgBdrJVeHyvdmDI/SuA\n",
       "x4wqRgMGlg/4bLEIyGFguMDwvLy2vPwAVhVWBdwBDA3YzFDv6NgAok0PsW7AqkJaBcowZZ6ghlDB\n",
       "qOyaVAQWZ90CU2rKUMAuAFfBxm7E4B8AYnEHIFTMY2lpgIWpIEcBQ/wEsAoGhAqeBcsvwHgO/gIM\n",
       "6x1ArLkdQFAAUcFgwgxXwbCegcEazHBHMoPBmaUBzgVK/2EBMTiQVXAqFMC51xi4vrCBGEwKMKFK\n",
       "INaEq2D9ycC04SSYuQsmBmLwbYDxGBsYWGwWgJnOhWAXM8z+C9TPsgFbfIhVdGCKAwDDkzTgOh63\n",
       "3AAAAABJRU5ErkJggg==\n",
       "\" style=\"display:inline;vertical-align:middle;\" /></a>, <a class=\"ProveItLink\" href=\"../__pv_it/demonstrations/55701387f25fde525e21ebc18286978696667feb0/expr.ipynb\"><img src=\"data:image/png;base64,iVBORw0KGgoAAAANSUhEUgAAAEwAAAAVBAMAAAAeOBUnAAAAMFBMVEX///8AAAAAAAAAAAAAAAAA\n",
       "AAAAAAAAAAAAAAAAAAAAAAAAAAAAAAAAAAAAAAAAAAAv3aB7AAAAD3RSTlMAIolEdjLNuxCZZqtU\n",
       "3e8Ziz2RAAAACXBIWXMAAA7EAAAOxAGVKw4bAAABZ0lEQVQoz2MQYIACVgbsgGtWiCcDgzKMyx6A\n",
       "roBD/VqKqEKX3QI+AYQyngnoyrxfMXR+nyDhxsDfgFDGcAFNFaezAgPD8gkMWxjskCxl0EFTFsne\n",
       "wMDAPYHhKcNMViRl4lDa/e7dBBC9gx3kvgWMHxiuHkVSxgbxtJkHlF8gCaaYNzA4LQApCwXKfW9g\n",
       "4FEAiTJmQFUxbghCcgFQ2QQG1ixrBagf2GAByapghaKMJ4CBG2gFA8NksDKYBOMEExRlTAwMK0BG\n",
       "MkSD+HF3gaAA7DYhFGUsDAwODBwODAyHQPx2uEwFO4oyTgbmAAZOYBglgvi8cBlLULgxGMCVLeBk\n",
       "4NgKdAzYKhYHRCxsABIJcJ+muUXNBWpiOgAWyIEb554p0HMTESBc9/8qIKzrLm6Ap5D3NwUQyhhm\n",
       "gVknoSJGtXcTMFIdSNlTMKuQAQ8AKmP9ALYigYAyFnAssSzAp8wVGBLg5M2NTxUAn11FpH3bB28A\n",
       "AAAASUVORK5CYII=\n",
       "\" style=\"display:inline;vertical-align:middle;\" /></a> <a class=\"ProveItLink\" href=\"../__pv_it/demonstrations/bc3fe5c975ab6a01cc94bdc14e9179a3bdba50670/proof.ipynb\" style=\"text-decoration: none\">&nbsp;&#x22A2;&nbsp;&nbsp;</a><a class=\"ProveItLink\" href=\"../__pv_it/theorems/2231b3ef549f9c00886898df42d0fb78beaef04e0/expr.ipynb\"><img src=\"data:image/png;base64,iVBORw0KGgoAAAANSUhEUgAAAFgAAAAdBAMAAADcLrbYAAAAMFBMVEX///8AAAAAAAAAAAAAAAAA\n",
       "AAAAAAAAAAAAAAAAAAAAAAAAAAAAAAAAAAAAAAAAAAAv3aB7AAAAD3RSTlMAdt0yiUQiu1SZEM1m\n",
       "q++nmiv/AAAACXBIWXMAAA7EAAAOxAGVKw4bAAABq0lEQVQ4y2MQUmZgYDBggIIEBjAfG2CbwMDg\n",
       "CqILYCKuEAEsgMNqggBYjqUBr2KOe78dGNim1DaA5ZgY8ClmLTQ+95uBIXLjArBcJ17F4gwMXPoC\n",
       "jF7OG8ByxVgUiyspbQAzWEAeildgYLsAluPagKk4WgomFL8ASPB9AIUUSI7xAAODMVD++wK4YrZd\n",
       "cP1PQAT3B5hZIP9NYGDeE+sAV8ydAA+Kr2C+AkxxLFDIgIGXgaEAoRhuMMs3EMk3AaZ4KlCIgeEU\n",
       "yHiYYjslIABHFS/YZHsDmGIZoLMZGAQYuATgipfDTWb8CyIr4f5fzcDAycBqwMCJ8CAimrj+T2N2\n",
       "41GAK2ZPYOA8wMnAdRkRdIwCcNVG/18uiF4AV8zhwMCwW9pmUgBSOO9AxCAXA+MERDQwAC3h0f/k\n",
       "gBwpa0uhhjEwh568ihRnDB5APActukOKoNGt//8LUMcruOJ0IH6MKyGx9f7/ezg7AK6YewED8wc8\n",
       "6fnSp2sIZ/AIMDAqEMgpYOAEynMXGNggUSTMIPSUYcgCZhkH4hXbMhQQr7iYFGdoMSwgXnHImQMY\n",
       "YgA7BV6peyPMyQAAAABJRU5ErkJggg==\n",
       "\" style=\"display:inline;vertical-align:middle;\" /></a></span>"
      ],
      "text/plain": [
       "{n in NaturalPos, |varphi〉 in Complex^{n}} |- [〈varphi|] in_c Q*"
      ]
     },
     "metadata": {},
     "output_type": "display_data"
    }
   ],
   "source": [
    "InClass(Qmult(bra_varphi), QmultCodomain).prove()"
   ]
  },
  {
   "cell_type": "code",
   "execution_count": 21,
   "metadata": {},
   "outputs": [
    {
     "data": {
      "text/html": [
       "<span style=\"font-size:20px;\"><a class=\"ProveItLink\" href=\"../__pv_it/demonstrations/55701387f25fde525e21ebc18286978696667feb0/expr.ipynb\"><img src=\"data:image/png;base64,iVBORw0KGgoAAAANSUhEUgAAAEwAAAAVBAMAAAAeOBUnAAAAMFBMVEX///8AAAAAAAAAAAAAAAAA\n",
       "AAAAAAAAAAAAAAAAAAAAAAAAAAAAAAAAAAAAAAAAAAAv3aB7AAAAD3RSTlMAIolEdjLNuxCZZqtU\n",
       "3e8Ziz2RAAAACXBIWXMAAA7EAAAOxAGVKw4bAAABZ0lEQVQoz2MQYIACVgbsgGtWiCcDgzKMyx6A\n",
       "roBD/VqKqEKX3QI+AYQyngnoyrxfMXR+nyDhxsDfgFDGcAFNFaezAgPD8gkMWxjskCxl0EFTFsne\n",
       "wMDAPYHhKcNMViRl4lDa/e7dBBC9gx3kvgWMHxiuHkVSxgbxtJkHlF8gCaaYNzA4LQApCwXKfW9g\n",
       "4FEAiTJmQFUxbghCcgFQ2QQG1ixrBagf2GAByapghaKMJ4CBG2gFA8NksDKYBOMEExRlTAwMK0BG\n",
       "MkSD+HF3gaAA7DYhFGUsDAwODBwODAyHQPx2uEwFO4oyTgbmAAZOYBglgvi8cBlLULgxGMCVLeBk\n",
       "4NgKdAzYKhYHRCxsABIJcJ+muUXNBWpiOgAWyIEb554p0HMTESBc9/8qIKzrLm6Ap5D3NwUQyhhm\n",
       "gVknoSJGtXcTMFIdSNlTMKuQAQ8AKmP9ALYigYAyFnAssSzAp8wVGBLg5M2NTxUAn11FpH3bB28A\n",
       "AAAASUVORK5CYII=\n",
       "\" style=\"display:inline;vertical-align:middle;\" /></a>, <a class=\"ProveItLink\" href=\"../__pv_it/demonstrations/b9ff765654f5a9fab1a0f971ffbd46ba878d2ac30/expr.ipynb\"><img src=\"data:image/png;base64,iVBORw0KGgoAAAANSUhEUgAAAFAAAAAVBAMAAAAjqnRBAAAAMFBMVEX///8AAAAAAAAAAAAAAAAA\n",
       "AAAAAAAAAAAAAAAAAAAAAAAAAAAAAAAAAAAAAAAAAAAv3aB7AAAAD3RSTlMAIolEdjIQVJlm3e/N\n",
       "u6uczJRnAAAACXBIWXMAAA7EAAAOxAGVKw4bAAABgklEQVQoz2MQYIACVgbsgLMzxI9lbgCDMkyA\n",
       "NwBdCZvumiOiCpnWE7gfsDyAKmRhYGBvQFfot5Mh42+DmA8DfwCHAlQhExAvQFPH4azAwDC3geEJ\n",
       "QzQDVwFUYQoQq6MpjOBNYGDga2DYyuDLIM8KVVgKxLJQBb6rVh0A0c94Qe6cwPgBaOZcDqhCoCUM\n",
       "PJAAsHGDarggAaaYHzAcZJBzAypk85jAoMCygIEdpJqB8RhUHeODIBSXKDMwsW9gm8DyDeobHljA\n",
       "sipYoikM51jAKcCwgYGhGawQJsHYYIKmMIHbARg6wFCMA/GjVwHBBbAbhdAUMtQnMDGwOTAwFIH4\n",
       "uXCZa7zoCnsYxBlYgGF2EMTngstYgMKRwQBJYS/DNAZjoKPAFrI4IGLmAZA4gKTQWkCBE6iRqQAs\n",
       "cBxupO8JgfQVyFazPrriiLA073ICPPXsXyGArJCBFWxWBVTE6NaqA1jSJUghC9iMiwx4gTI0kTGw\n",
       "HSCskAXs3Qn4FbrCGHz41QEAUKNKBCB71lUAAAAASUVORK5CYII=\n",
       "\" style=\"display:inline;vertical-align:middle;\" /></a> <a class=\"ProveItLink\" href=\"../__pv_it/demonstrations/b3c906ba8032bdf0d5a78511b0f1ab4969731e0c0/proof.ipynb\" style=\"text-decoration: none\">&nbsp;&#x22A2;&nbsp;&nbsp;</a><a class=\"ProveItLink\" href=\"../__pv_it/demonstrations/3066ab935f64c8e893a206a0ab6e092dbd16ec660/expr.ipynb\"><img src=\"data:image/png;base64,iVBORw0KGgoAAAANSUhEUgAAAHwAAAAdBAMAAACamBVyAAAAMFBMVEX///8AAAAAAAAAAAAAAAAA\n",
       "AAAAAAAAAAAAAAAAAAAAAAAAAAAAAAAAAAAAAAAAAAAv3aB7AAAAD3RSTlMAInZUiRDNmWbv3US7\n",
       "qzJazP2FAAAACXBIWXMAAA7EAAAOxAGVKw4bAAACfUlEQVQ4y+2VQWgTQRSG/+xmu5ukWXryID1E\n",
       "IVJENAdRehBWiqeqLD2IhwpRUXpcoYdQL1GQWgRRUTwIUhAvuSRIqQeRxl4ERYlHFWRBBBVSK2gP\n",
       "1RLfvDe7WRt7ytUJvNmdmW/mvf+9nQAYop9u7qYeKXQne1oqIGOUMB4NDIbSD0cD6QYebUWbn4IC\n",
       "sB9d3AykH2NbYNyo/oN8u+YhNf2qBKucwDGf7DzGca6Hzi2vzK0Bj8/4sKtJfCzhhCWnY7YH30OT\n",
       "9YJx5HgZGSTx4YQEZih4xtdQrVYWQZpkluaRagEH/sIHWOcTskqkw4AEv1iMFi2p/TKrnJRpwVdo\n",
       "/rcP01PzI8BEhfDdjKdbnKWuBLf5oFV+nhI8gDv11NOikfFGcRL7fIU75a5fHNQvfhd5HzBOceYB\n",
       "iumiErYFtzSDS6SLws0bvDw+PP1d2Yzk+B7jFOcV5QLa9Go3YOEW5c1m3GU3v9SoKc2Q59O/hQnc\n",
       "UEViSRFxoZg/CZ9gPMenT8anGxvKPkfCeRu5EDYpelolnIK1y6kSiuI8R5mNcatzwT3s6AJbFrxq\n",
       "w/pA+rJ7zwhvOn6uwbjDY0Yh5r927vqLuhiOifLnd32eUUkqqTGKIHczjWuSd5uTibPdqrNgBNFW\n",
       "gjv1dS92Udn20Z1DgmcbPHjqpR99zk9m30c7ZUOpugq/HZTUKB8+6g8W2/XKhRe6aOudH7THHX52\n",
       "AsHvQ0cNrUAxwis918Shzsb1beKTIsaj5FqyPX+jnsZFzU3f+7v1N/pxknGDExFdDZflsmB8cOvb\n",
       "il0pYC9ZLqK8HsvHJRJiB/43uCNeP3gbzX7w1/05/xB+P/jC1d7/mz9zq5imyhCojwAAAABJRU5E\n",
       "rkJggg==\n",
       "\" style=\"display:inline;vertical-align:middle;\" /></a></span>"
      ],
      "text/plain": [
       "{|varphi〉 in Complex^{n}, |psi〉 in Complex^{m}} |- (|varphi〉 . 〈psi|) in_c Q*"
      ]
     },
     "metadata": {},
     "output_type": "display_data"
    }
   ],
   "source": [
    "InClass(Qmult(ket_varphi, bra_psi), QmultCodomain).prove()"
   ]
  },
  {
   "cell_type": "code",
   "execution_count": 22,
   "metadata": {},
   "outputs": [
    {
     "data": {
      "text/html": [
       "<span style=\"font-size:20px;\"><a class=\"ProveItLink\" href=\"../../../../numbers/number_sets/natural_numbers/__pv_it/theorems/132c57ec1224a4beaf274a23bd799047020206590/expr.ipynb\"><img src=\"data:image/png;base64,iVBORw0KGgoAAAANSUhEUgAAAEEAAAATBAMAAAA9n32KAAAAMFBMVEX///8AAAAAAAAAAAAAAAAA\n",
       "AAAAAAAAAAAAAAAAAAAAAAAAAAAAAAAAAAAAAAAAAAAv3aB7AAAAD3RSTlMARHarECKJu90yVM1m\n",
       "75kejotwAAAACXBIWXMAAA7EAAAOxAGVKw4bAAAA90lEQVQoz2NgwAf4GAgBdrJVeHyvdmDI/SuA\n",
       "x4wqRgMGlg/4bLEIyGFguMDwvLy2vPwAVhVWBdwBDA3YzFDv6NgAok0PsW7AqkJaBcowZZ6ghlDB\n",
       "qOyaVAQWZ90CU2rKUMAuAFfBxm7E4B8AYnEHIFTMY2lpgIWpIEcBQ/wEsAoGhAqeBcsvwHgO/gIM\n",
       "6x1ArLkdQFAAUcFgwgxXwbCegcEazHBHMoPBmaUBzgVK/2EBMTiQVXAqFMC51xi4vrCBGEwKMKFK\n",
       "INaEq2D9ycC04SSYuQsmBmLwbYDxGBsYWGwWgJnOhWAXM8z+C9TPsgFbfIhVdGCKAwDDkzTgOh63\n",
       "3AAAAABJRU5ErkJggg==\n",
       "\" style=\"display:inline;vertical-align:middle;\" /></a>, <a class=\"ProveItLink\" href=\"../../../../logic/sets/cartesian_products/__pv_it/theorems/79a768603778550c651661670153c27ee0a505870/expr.ipynb\"><img src=\"data:image/png;base64,iVBORw0KGgoAAAANSUhEUgAAAEYAAAATBAMAAADfQ2bzAAAAMFBMVEX///8AAAAAAAAAAAAAAAAA\n",
       "AAAAAAAAAAAAAAAAAAAAAAAAAAAAAAAAAAAAAAAAAAAv3aB7AAAAD3RSTlMARHarECKJuzJmVO/d\n",
       "mc2qKiq2AAAACXBIWXMAAA7EAAAOxAGVKw4bAAABD0lEQVQoz2NgIAAuMBAGBZSoYTlf/oSBbf9G\n",
       "vOawLxBmYPDHbxfzUbYJDNwMvOXl28srcalZzvCUgQe7OUw1Z86B1UQqxOFQw/jIAWpOgAVTAlwN\n",
       "o7JrUhFHWiFYKs4BZlcAO0MhXA0buxGD/0SG1WCpp3D3BHBc8PGBhbMgTwFDvALDfLDUA4Qahllc\n",
       "1TCeg78Aw3oHhnsgNseeM2fOHIeqYXawhrtzPQNIwTZw8BYgmcNi4ANXY8fAcIyB8SsLiH0ASQ1D\n",
       "EztczTYGlo8MzA8iQWwleFw0AMOqHcZj/cHA+YGBPSEBxOFbABUFM+7Bg+0AA9MFBsZLAWAHmYuA\n",
       "BTnebweSftjjiTEdEhcoAAAiLj7xf6vyygAAAABJRU5ErkJggg==\n",
       "\" style=\"display:inline;vertical-align:middle;\" /></a>, <a class=\"ProveItLink\" href=\"../__pv_it/demonstrations/d110bb13a053721ab731f462ceb03fc920ca201b0/expr.ipynb\"><img src=\"data:image/png;base64,iVBORw0KGgoAAAANSUhEUgAAAGAAAAASBAMAAABWXMbBAAAAMFBMVEX///8AAAAAAAAAAAAAAAAA\n",
       "AAAAAAAAAAAAAAAAAAAAAAAAAAAAAAAAAAAAAAAAAAAv3aB7AAAAD3RSTlMAdrurIs1mVDKZ70SJ\n",
       "EN02Mxp8AAAACXBIWXMAAA7EAAAOxAGVKw4bAAABdElEQVQoz2NgIAZwHGBgmEKMQrZpjcKMSQ0M\n",
       "DDIMnAkgniROpbyHngZ6HLi2K4HLgNGAgYFR4CADA4jnAJQT+q9spOyApkF4GcPNTxN8RRn4GziB\n",
       "7mE4KsDAAOJdAEl+Bdr9HVU9pzRQVdIEBkOGLga+AqgGIG8X2EcfgcQsVA2dTECjmCcwrGAQYvDn\n",
       "ADrpwDSg6AqGmUA2A+MPILE/AayQUe/dUxBtywTyRwLLB6CpSZxQTwN5LyqA4kwfgIQ/yKEM3IEX\n",
       "IDYoeIIpbgOGEAZnWXCwmoB4MiBz+RWARL8BSIErVD2LQQ+ewO4H+ScfbEMIPKK24dEgD4wYBvsN\n",
       "IGYAVIhlwkY8GvRBxC+wwevevXv3COwHHzwaPoHSwDdw9CrAxHSZ8CQsUDTcgih9ABPcCYoHhg1Y\n",
       "NYCjQRXCFkTENDDUOAOwamAFRsO+CVB2AUxUKNLh+kus6pn1PxsrwdI6r9FeeGpd/9KBiAzAfQiS\n",
       "NHADANfiWcu00UR9AAAAAElFTkSuQmCC\n",
       "\" style=\"display:inline;vertical-align:middle;\" /></a>, <a class=\"ProveItLink\" href=\"../__pv_it/demonstrations/55701387f25fde525e21ebc18286978696667feb0/expr.ipynb\"><img src=\"data:image/png;base64,iVBORw0KGgoAAAANSUhEUgAAAEwAAAAVBAMAAAAeOBUnAAAAMFBMVEX///8AAAAAAAAAAAAAAAAA\n",
       "AAAAAAAAAAAAAAAAAAAAAAAAAAAAAAAAAAAAAAAAAAAv3aB7AAAAD3RSTlMAIolEdjLNuxCZZqtU\n",
       "3e8Ziz2RAAAACXBIWXMAAA7EAAAOxAGVKw4bAAABZ0lEQVQoz2MQYIACVgbsgGtWiCcDgzKMyx6A\n",
       "roBD/VqKqEKX3QI+AYQyngnoyrxfMXR+nyDhxsDfgFDGcAFNFaezAgPD8gkMWxjskCxl0EFTFsne\n",
       "wMDAPYHhKcNMViRl4lDa/e7dBBC9gx3kvgWMHxiuHkVSxgbxtJkHlF8gCaaYNzA4LQApCwXKfW9g\n",
       "4FEAiTJmQFUxbghCcgFQ2QQG1ixrBagf2GAByapghaKMJ4CBG2gFA8NksDKYBOMEExRlTAwMK0BG\n",
       "MkSD+HF3gaAA7DYhFGUsDAwODBwODAyHQPx2uEwFO4oyTgbmAAZOYBglgvi8cBlLULgxGMCVLeBk\n",
       "4NgKdAzYKhYHRCxsABIJcJ+muUXNBWpiOgAWyIEb554p0HMTESBc9/8qIKzrLm6Ap5D3NwUQyhhm\n",
       "gVknoSJGtXcTMFIdSNlTMKuQAQ8AKmP9ALYigYAyFnAssSzAp8wVGBLg5M2NTxUAn11FpH3bB28A\n",
       "AAAASUVORK5CYII=\n",
       "\" style=\"display:inline;vertical-align:middle;\" /></a> <a class=\"ProveItLink\" href=\"../__pv_it/demonstrations/3b96f2d9a041d32fba7261c60fa7918d19cbe0f50/proof.ipynb\" style=\"text-decoration: none\">&nbsp;&#x22A2;&nbsp;&nbsp;</a><a class=\"ProveItLink\" href=\"../__pv_it/demonstrations/3798a1f247605d27df3ac78858f2067ee5a7d8b80/expr.ipynb\"><img src=\"data:image/png;base64,iVBORw0KGgoAAAANSUhEUgAAAHIAAAAdBAMAAACEUSXBAAAAMFBMVEX///8AAAAAAAAAAAAAAAAA\n",
       "AAAAAAAAAAAAAAAAAAAAAAAAAAAAAAAAAAAAAAAAAAAv3aB7AAAAD3RSTlMAInZUiRDNmWbv3US7\n",
       "qzJazP2FAAAACXBIWXMAAA7EAAAOxAGVKw4bAAACTUlEQVQ4y+VUO2gUYRD+bu82e8/NVVYBr1Es\n",
       "gqYQRUG4IIIgkW2FCFFRUm4ghdHmCp8QtFEsAnJgdxaXQiIqkphCQT1ylr4XQdCAuYtK0JhznZn9\n",
       "dy+7lzTX+sM/zMz+37xnAeSx7gSCSTeGzU7MJqINrFcd8ZmsA2QKmwDjn236tJu4frf2rpYPIeNs\n",
       "dccGoNcrRcTGawPQR1heAZI/QkiU6fZYUWBmfukqPb5/0oJR4qS+E5kIIw/STdpRZD+gVwvaoaMj\n",
       "SLGs/SUyWwoh+5jcVO8rFQkNiTl+WEasDuyRcjSJbC2GkD2c96iwM9t85SyHn2pKD8ZZ0cumGnUP\n",
       "uURP1yzE2dCQtOB0YO6G2GwKL1YbXP7ryqcNc/Rx0SvRpcC7V9g/IpdFuMNkFzUPH6cFGXeQAyiI\n",
       "8yTuk5eBy8Qy05RXtykmC0x+e7VNABfZMb5xMKz7WqHD+SAnPhtOG7nGHfjlITWgAF2NyAPWDQc+\n",
       "tRbTZwiilXYem/OQBjIODKrhCRL3sy4dIHV3zBxMemli3m/nUzW3RsmA/oEqypYmxVN7fBfdW9aM\n",
       "GqwhVeaHtj/xZ7Z/OUfFSvAmSM9wqj1DOjR/rhYp74XW+5djwa4kq6tFP8a7ojz+wp9f89Hlt76R\n",
       "tIPolp0Vbi/PgErp3nM1fVX3J8G9mYwMNSNvC/eErqxDaKMPuK1rW6YRvAghTRku2b6+Dfbzzeor\n",
       "xQ5HkZqEqJU6rHb8UkK/jJ2kkMxzjM7j/zqfLnQJNOvZLpFZp9tg05beJTJz+Eqn8h/wKJAutous\n",
       "iwAAAABJRU5ErkJggg==\n",
       "\" style=\"display:inline;vertical-align:middle;\" /></a></span>"
      ],
      "text/plain": [
       "{n in NaturalPos, m in NaturalPos, D in Complex^{m x n}, |varphi〉 in Complex^{n}} |- (D . |varphi〉) in_c Q*"
      ]
     },
     "metadata": {},
     "output_type": "display_data"
    }
   ],
   "source": [
    "InClass(Qmult(D, ket_varphi), QmultCodomain).prove()"
   ]
  },
  {
   "cell_type": "code",
   "execution_count": 23,
   "metadata": {},
   "outputs": [
    {
     "data": {
      "text/html": [
       "<span style=\"font-size:20px;\"><a class=\"ProveItLink\" href=\"../../../../logic/sets/cartesian_products/__pv_it/theorems/79a768603778550c651661670153c27ee0a505870/expr.ipynb\"><img src=\"data:image/png;base64,iVBORw0KGgoAAAANSUhEUgAAAEYAAAATBAMAAADfQ2bzAAAAMFBMVEX///8AAAAAAAAAAAAAAAAA\n",
       "AAAAAAAAAAAAAAAAAAAAAAAAAAAAAAAAAAAAAAAAAAAv3aB7AAAAD3RSTlMARHarECKJuzJmVO/d\n",
       "mc2qKiq2AAAACXBIWXMAAA7EAAAOxAGVKw4bAAABD0lEQVQoz2NgIAAuMBAGBZSoYTlf/oSBbf9G\n",
       "vOawLxBmYPDHbxfzUbYJDNwMvOXl28srcalZzvCUgQe7OUw1Z86B1UQqxOFQw/jIAWpOgAVTAlwN\n",
       "o7JrUhFHWiFYKs4BZlcAO0MhXA0buxGD/0SG1WCpp3D3BHBc8PGBhbMgTwFDvALDfLDUA4Qahllc\n",
       "1TCeg78Aw3oHhnsgNseeM2fOHIeqYXawhrtzPQNIwTZw8BYgmcNi4ANXY8fAcIyB8SsLiH0ASQ1D\n",
       "EztczTYGlo8MzA8iQWwleFw0AMOqHcZj/cHA+YGBPSEBxOFbABUFM+7Bg+0AA9MFBsZLAWAHmYuA\n",
       "BTnebweSftjjiTEdEhcoAAAiLj7xf6vyygAAAABJRU5ErkJggg==\n",
       "\" style=\"display:inline;vertical-align:middle;\" /></a>, <a class=\"ProveItLink\" href=\"../__pv_it/demonstrations/b9ff765654f5a9fab1a0f971ffbd46ba878d2ac30/expr.ipynb\"><img src=\"data:image/png;base64,iVBORw0KGgoAAAANSUhEUgAAAFAAAAAVBAMAAAAjqnRBAAAAMFBMVEX///8AAAAAAAAAAAAAAAAA\n",
       "AAAAAAAAAAAAAAAAAAAAAAAAAAAAAAAAAAAAAAAAAAAv3aB7AAAAD3RSTlMAIolEdjIQVJlm3e/N\n",
       "u6uczJRnAAAACXBIWXMAAA7EAAAOxAGVKw4bAAABgklEQVQoz2MQYIACVgbsgLMzxI9lbgCDMkyA\n",
       "NwBdCZvumiOiCpnWE7gfsDyAKmRhYGBvQFfot5Mh42+DmA8DfwCHAlQhExAvQFPH4azAwDC3geEJ\n",
       "QzQDVwFUYQoQq6MpjOBNYGDga2DYyuDLIM8KVVgKxLJQBb6rVh0A0c94Qe6cwPgBaOZcDqhCoCUM\n",
       "PJAAsHGDarggAaaYHzAcZJBzAypk85jAoMCygIEdpJqB8RhUHeODIBSXKDMwsW9gm8DyDeobHljA\n",
       "sipYoikM51jAKcCwgYGhGawQJsHYYIKmMIHbARg6wFCMA/GjVwHBBbAbhdAUMtQnMDGwOTAwFIH4\n",
       "uXCZa7zoCnsYxBlYgGF2EMTngstYgMKRwQBJYS/DNAZjoKPAFrI4IGLmAZA4gKTQWkCBE6iRqQAs\n",
       "cBxupO8JgfQVyFazPrriiLA073ICPPXsXyGArJCBFWxWBVTE6NaqA1jSJUghC9iMiwx4gTI0kTGw\n",
       "HSCskAXs3Qn4FbrCGHz41QEAUKNKBCB71lUAAAAASUVORK5CYII=\n",
       "\" style=\"display:inline;vertical-align:middle;\" /></a> <a class=\"ProveItLink\" href=\"../__pv_it/demonstrations/f59a230d983f43edf3612cb619ac9447c87a7cdb0/proof.ipynb\" style=\"text-decoration: none\">&nbsp;&#x22A2;&nbsp;&nbsp;</a><a class=\"ProveItLink\" href=\"../__pv_it/demonstrations/f6e1ebd75cdc62cbeffd2384a8b5a01841ea77c50/expr.ipynb\"><img src=\"data:image/png;base64,iVBORw0KGgoAAAANSUhEUgAAAHwAAAAdBAMAAACamBVyAAAAMFBMVEX///8AAAAAAAAAAAAAAAAA\n",
       "AAAAAAAAAAAAAAAAAAAAAAAAAAAAAAAAAAAAAAAAAAAv3aB7AAAAD3RSTlMAInZUiRDNmWbv3US7\n",
       "qzJazP2FAAAACXBIWXMAAA7EAAAOxAGVKw4bAAACVUlEQVQ4y+1UPWgUURD+dm/3spfosiBYpVgL\n",
       "MYXIFaIoRFfESpTFwkrhVISUJxw2WmzjH4ikiFjYLIjNWSRFiIQgSa4RFEMEG7U5EAsDMRE0hRLO\n",
       "mXk/l4256loH3vC+2fe993bmmwcgAtCGtsg6tpCGg17m1Mm5VZosmNBZ69h20bZDcQ926WudPh2m\n",
       "mVdl7BbpBEu8/8gOzI8bCZzGuyr8GsFBCXpFOsOcRjndzh5qfX+wAby8mmIgI3xUoheKdIanaQT1\n",
       "7fSDgD8Zu2fO11BhvCTRE0U6w2GePNakZrOmrsWZms/hLANHaOqrcFKkMyxzEcYEzuw3h8/z31TW\n",
       "pUINTlIG/0CGxM0N3cAS73FOqnTd3n2CXXld5mMqc15p3M/cX4ZuoOTuLsw9VNr/CM4FPKPxCvgy\n",
       "kAcRxg3dQNwieEyW28O9H+wrKqFPIWvSSkyFqhu6gVgluMaxb00yUdduOX2tbeksjJOpBz+2qdNQ\n",
       "RDXLsUv2dHeT/WvYy1+kcRN74KaWriGuEDwOqyw2v3MjPBWoX0eLpU1puY07mOsWTkNphodyZlf6\n",
       "K50n6YyWIleFyzMbJcFUl66hNENDFl7rqs6Ha5S4AiXt8ENr3xbZaChXfiELL7812g/n7n02Ow22\n",
       "tbTDaqFhFeRmcPRvTr/Rop3s/KTvSsrSECxtNy3QFVykIU1VeCZGO5uP9k4psKh70is+FwKlGYZ3\n",
       "6PdPv9/rKRc0iNVjsfV0qGZQ+/c2hyuybNAh60RgvEWE/xaOJP3QV7HQD32pv8s/R9oPffp+9k/s\n",
       "L/P1i0pEkN6jAAAAAElFTkSuQmCC\n",
       "\" style=\"display:inline;vertical-align:middle;\" /></a></span>"
      ],
      "text/plain": [
       "{m in NaturalPos, |psi〉 in Complex^{m}} |- (〈psi| . |psi〉) in_c Q*"
      ]
     },
     "metadata": {},
     "output_type": "display_data"
    }
   ],
   "source": [
    "InClass(Qmult(bra_psi, ket_psi), QmultCodomain).prove()"
   ]
  },
  {
   "cell_type": "code",
   "execution_count": 24,
   "metadata": {},
   "outputs": [
    {
     "data": {
      "text/html": [
       "<span style=\"font-size:20px;\"><a class=\"ProveItLink\" href=\"../__pv_it/demonstrations/209baac38918ef8b1210d5267967da66f42b39310/expr.ipynb\"><img src=\"data:image/png;base64,iVBORw0KGgoAAAANSUhEUgAAADYAAAAQBAMAAACvnpHFAAAAMFBMVEX///8AAAAAAAAAAAAAAAAA\n",
       "AAAAAAAAAAAAAAAAAAAAAAAAAAAAAAAAAAAAAAAAAAAv3aB7AAAAD3RSTlMAiasyIt1EEO9UdruZ\n",
       "zWZ7xlX5AAAACXBIWXMAAA7EAAAOxAGVKw4bAAAA10lEQVQY02NgwAbYpWNvOQtglWJY1MdQ8/sA\n",
       "VimeZUA9r7HL2XAXMDAwocqtDg29AKLVuUF2PkCWyl0OZWzwgQkJChmAaZbrUAEWBUMoyzWBvYVl\n",
       "ApDB6wAVYRbIg7K6GBj2cBWA5GAGsRzIgrr3AwPDWUYQyyIUCDaA7XOEyHEAeRLiIFY13FHbuSF0\n",
       "/QIGBnmQdQyscLkckP8YEhj4gXISYBGuBYhwUQASFxh4NjDwnWcGC91EBMIdh8oYkPfeLeeRAosU\n",
       "bSuAx0N/jANqOCZuhYQZFAAANPAuqY517tAAAAAASUVORK5CYII=\n",
       "\" style=\"display:inline;vertical-align:middle;\" /></a>, <a class=\"ProveItLink\" href=\"../../../../numbers/number_sets/natural_numbers/__pv_it/theorems/132c57ec1224a4beaf274a23bd799047020206590/expr.ipynb\"><img src=\"data:image/png;base64,iVBORw0KGgoAAAANSUhEUgAAAEEAAAATBAMAAAA9n32KAAAAMFBMVEX///8AAAAAAAAAAAAAAAAA\n",
       "AAAAAAAAAAAAAAAAAAAAAAAAAAAAAAAAAAAAAAAAAAAv3aB7AAAAD3RSTlMARHarECKJu90yVM1m\n",
       "75kejotwAAAACXBIWXMAAA7EAAAOxAGVKw4bAAAA90lEQVQoz2NgwAf4GAgBdrJVeHyvdmDI/SuA\n",
       "x4wqRgMGlg/4bLEIyGFguMDwvLy2vPwAVhVWBdwBDA3YzFDv6NgAok0PsW7AqkJaBcowZZ6ghlDB\n",
       "qOyaVAQWZ90CU2rKUMAuAFfBxm7E4B8AYnEHIFTMY2lpgIWpIEcBQ/wEsAoGhAqeBcsvwHgO/gIM\n",
       "6x1ArLkdQFAAUcFgwgxXwbCegcEazHBHMoPBmaUBzgVK/2EBMTiQVXAqFMC51xi4vrCBGEwKMKFK\n",
       "INaEq2D9ycC04SSYuQsmBmLwbYDxGBsYWGwWgJnOhWAXM8z+C9TPsgFbfIhVdGCKAwDDkzTgOh63\n",
       "3AAAAABJRU5ErkJggg==\n",
       "\" style=\"display:inline;vertical-align:middle;\" /></a>, <a class=\"ProveItLink\" href=\"../../../../logic/sets/cartesian_products/__pv_it/theorems/79a768603778550c651661670153c27ee0a505870/expr.ipynb\"><img src=\"data:image/png;base64,iVBORw0KGgoAAAANSUhEUgAAAEYAAAATBAMAAADfQ2bzAAAAMFBMVEX///8AAAAAAAAAAAAAAAAA\n",
       "AAAAAAAAAAAAAAAAAAAAAAAAAAAAAAAAAAAAAAAAAAAv3aB7AAAAD3RSTlMARHarECKJuzJmVO/d\n",
       "mc2qKiq2AAAACXBIWXMAAA7EAAAOxAGVKw4bAAABD0lEQVQoz2NgIAAuMBAGBZSoYTlf/oSBbf9G\n",
       "vOawLxBmYPDHbxfzUbYJDNwMvOXl28srcalZzvCUgQe7OUw1Z86B1UQqxOFQw/jIAWpOgAVTAlwN\n",
       "o7JrUhFHWiFYKs4BZlcAO0MhXA0buxGD/0SG1WCpp3D3BHBc8PGBhbMgTwFDvALDfLDUA4Qahllc\n",
       "1TCeg78Aw3oHhnsgNseeM2fOHIeqYXawhrtzPQNIwTZw8BYgmcNi4ANXY8fAcIyB8SsLiH0ASQ1D\n",
       "EztczTYGlo8MzA8iQWwleFw0AMOqHcZj/cHA+YGBPSEBxOFbABUFM+7Bg+0AA9MFBsZLAWAHmYuA\n",
       "BTnebweSftjjiTEdEhcoAAAiLj7xf6vyygAAAABJRU5ErkJggg==\n",
       "\" style=\"display:inline;vertical-align:middle;\" /></a>, <a class=\"ProveItLink\" href=\"../__pv_it/demonstrations/053fb38df6fcf9baf4abe8cee7dd8e99b8a50fd80/expr.ipynb\"><img src=\"data:image/png;base64,iVBORw0KGgoAAAANSUhEUgAAAF0AAAASBAMAAADLUc9JAAAAMFBMVEX///8AAAAAAAAAAAAAAAAA\n",
       "AAAAAAAAAAAAAAAAAAAAAAAAAAAAAAAAAAAAAAAAAAAv3aB7AAAAD3RSTlMAIs1UmauJMnZmRLsQ\n",
       "3e++988cAAAACXBIWXMAAA7EAAAOxAGVKw4bAAABdklEQVQoz2NgIAjKGBhYBBiIAZyeFS0MDBwJ\n",
       "DJ4MDFOmdwR0bodKCKGr5Mm+pCGecHLdBD6gyR1sDQw8s14yPGVohUrro6tvfclw5LeDTBMD/wEG\n",
       "BjYNBgbGEwoM3xncILLM/9GUs3QlMDDMdmCIYFjHAFHPwNrA/oDhMlQ6Hs0/JdxAY1kdGJ4zuLAz\n",
       "MLSxTGBg4Cvg2MD4oQAsnZgPoRk49t69BKJjuEF+mMD4geG6OdS/8kAbODc4gGQZG/oNwMq5NA5A\n",
       "9G0QgfADGNomgMKTVYBhKQOTAGMEWJ6FwX4CJJigyhkDyvAF82KG+gQwQxEqwJ6wEp96Bwb5ADBD\n",
       "ASrA6LACj3KOLS7xG8DGvr179+5tsPvF8Kg/wcDAfwEcqRtgQnu48TqHgfcBmHUBJrQEFP4MC7Aq\n",
       "5wKGDdMHMLMDEb9AD7EoYFUvB8TcH8FMJgOYYLeKwOErWJWf/q/DwLz/EzhAeaLXwNPn+ytEpHmu\n",
       "bEh6wA0A6ehXuNCZSI8AAAAASUVORK5CYII=\n",
       "\" style=\"display:inline;vertical-align:middle;\" /></a> <a class=\"ProveItLink\" href=\"../__pv_it/demonstrations/389b9520862ee31ceab8b9833cc56c511655b8300/proof.ipynb\" style=\"text-decoration: none\">&nbsp;&#x22A2;&nbsp;&nbsp;</a><a class=\"ProveItLink\" href=\"../__pv_it/demonstrations/b23591166adde3825f3df64d02b8437dcf329f550/expr.ipynb\"><img src=\"data:image/png;base64,iVBORw0KGgoAAAANSUhEUgAAAGAAAAAdBAMAAACnCnQUAAAAMFBMVEX///8AAAAAAAAAAAAAAAAA\n",
       "AAAAAAAAAAAAAAAAAAAAAAAAAAAAAAAAAAAAAAAAAAAv3aB7AAAAD3RSTlMAInZUiRDNmWbv3US7\n",
       "qzJazP2FAAAACXBIWXMAAA7EAAAOxAGVKw4bAAAB8klEQVQ4y2NgYBBgQAOMDLgAYwGQYDJAERNj\n",
       "YOBWwKGe+WkBUMoEVTAfiDWwqL35zYGBseSsAQNrAqrEfyDBFoCunvvQu85vDAzbkwIY2BtQZNjv\n",
       "A73EUYCuQYeBgXW9ApOrXwIDJ6qMo/8DIDkVwmE6tWoZmMFyAEjsX8DAeIGBwQw1GBT0QWGQAXFH\n",
       "Esxp+0EMzg/gEC0BCbj4PoC6iMEe5ERfSIDBvTIFRLB9ALNBhkltYJ3ICA7dzQzvHYBUG1gqER4S\n",
       "v8EaFoA5i4F4EgPDcSawcQUM8kBnMliCpeDhx/IRRHJCgmI20B1Au8pYwL48Xn4f5L/3IA7frFWr\n",
       "Vq0BsXjBNrx/ANPACVTj6QriBDEw8IMs3gnisB6A2cD0F0QeZ4A5KR4Y3/4GEBcxcE0A0lZgqQUw\n",
       "Daz/C/kcOaDcQ0BDgRo8weHYAA2LHrCUEjy0X/2fHrANGmbAEGQ/wMBRzwdkSwIxD8iD4LBmYEMk\n",
       "S1YGJljsvwJFQ4cquxMDQ8z/VAbm88BExrAaourOVqgivt3tt2F6uR5gSfZQ53L7QJPG+v9fgLog\n",
       "CQYzoTGgJ0igCbb///aJbYBwDmJqkMGSH279ughlxmDKHmTABxgxMiSTAMPwAXwaDqRpeMtwgDQN\n",
       "50h10lKGANI0bOlowBADADohcDduEzZJAAAAAElFTkSuQmCC\n",
       "\" style=\"display:inline;vertical-align:middle;\" /></a></span>"
      ],
      "text/plain": [
       "{alpha in Complex, n in NaturalPos, m in NaturalPos, A in Complex^{n x m}} |- (alpha . A) in_c Q*"
      ]
     },
     "metadata": {},
     "output_type": "display_data"
    }
   ],
   "source": [
    "InClass(Qmult(alpha, A), QmultCodomain).prove()"
   ]
  },
  {
   "cell_type": "code",
   "execution_count": 25,
   "metadata": {},
   "outputs": [
    {
     "data": {
      "text/html": [
       "<span style=\"font-size:20px;\"><a class=\"ProveItLink\" href=\"../../../../numbers/number_sets/natural_numbers/__pv_it/theorems/132c57ec1224a4beaf274a23bd799047020206590/expr.ipynb\"><img src=\"data:image/png;base64,iVBORw0KGgoAAAANSUhEUgAAAEEAAAATBAMAAAA9n32KAAAAMFBMVEX///8AAAAAAAAAAAAAAAAA\n",
       "AAAAAAAAAAAAAAAAAAAAAAAAAAAAAAAAAAAAAAAAAAAv3aB7AAAAD3RSTlMARHarECKJu90yVM1m\n",
       "75kejotwAAAACXBIWXMAAA7EAAAOxAGVKw4bAAAA90lEQVQoz2NgwAf4GAgBdrJVeHyvdmDI/SuA\n",
       "x4wqRgMGlg/4bLEIyGFguMDwvLy2vPwAVhVWBdwBDA3YzFDv6NgAok0PsW7AqkJaBcowZZ6ghlDB\n",
       "qOyaVAQWZ90CU2rKUMAuAFfBxm7E4B8AYnEHIFTMY2lpgIWpIEcBQ/wEsAoGhAqeBcsvwHgO/gIM\n",
       "6x1ArLkdQFAAUcFgwgxXwbCegcEazHBHMoPBmaUBzgVK/2EBMTiQVXAqFMC51xi4vrCBGEwKMKFK\n",
       "INaEq2D9ycC04SSYuQsmBmLwbYDxGBsYWGwWgJnOhWAXM8z+C9TPsgFbfIhVdGCKAwDDkzTgOh63\n",
       "3AAAAABJRU5ErkJggg==\n",
       "\" style=\"display:inline;vertical-align:middle;\" /></a>, <a class=\"ProveItLink\" href=\"../__pv_it/demonstrations/55701387f25fde525e21ebc18286978696667feb0/expr.ipynb\"><img src=\"data:image/png;base64,iVBORw0KGgoAAAANSUhEUgAAAEwAAAAVBAMAAAAeOBUnAAAAMFBMVEX///8AAAAAAAAAAAAAAAAA\n",
       "AAAAAAAAAAAAAAAAAAAAAAAAAAAAAAAAAAAAAAAAAAAv3aB7AAAAD3RSTlMAIolEdjLNuxCZZqtU\n",
       "3e8Ziz2RAAAACXBIWXMAAA7EAAAOxAGVKw4bAAABZ0lEQVQoz2MQYIACVgbsgGtWiCcDgzKMyx6A\n",
       "roBD/VqKqEKX3QI+AYQyngnoyrxfMXR+nyDhxsDfgFDGcAFNFaezAgPD8gkMWxjskCxl0EFTFsne\n",
       "wMDAPYHhKcNMViRl4lDa/e7dBBC9gx3kvgWMHxiuHkVSxgbxtJkHlF8gCaaYNzA4LQApCwXKfW9g\n",
       "4FEAiTJmQFUxbghCcgFQ2QQG1ixrBagf2GAByapghaKMJ4CBG2gFA8NksDKYBOMEExRlTAwMK0BG\n",
       "MkSD+HF3gaAA7DYhFGUsDAwODBwODAyHQPx2uEwFO4oyTgbmAAZOYBglgvi8cBlLULgxGMCVLeBk\n",
       "4NgKdAzYKhYHRCxsABIJcJ+muUXNBWpiOgAWyIEb554p0HMTESBc9/8qIKzrLm6Ap5D3NwUQyhhm\n",
       "gVknoSJGtXcTMFIdSNlTMKuQAQ8AKmP9ALYigYAyFnAssSzAp8wVGBLg5M2NTxUAn11FpH3bB28A\n",
       "AAAASUVORK5CYII=\n",
       "\" style=\"display:inline;vertical-align:middle;\" /></a>, <a class=\"ProveItLink\" href=\"../__pv_it/demonstrations/a96adf032fe1e70a10118c41779605949495a8190/expr.ipynb\"><img src=\"data:image/png;base64,iVBORw0KGgoAAAANSUhEUgAAADQAAAAUBAMAAAAw+gPuAAAAMFBMVEX///8AAAAAAAAAAAAAAAAA\n",
       "AAAAAAAAAAAAAAAAAAAAAAAAAAAAAAAAAAAAAAAAAAAv3aB7AAAAD3RSTlMAVN27EERm75mJq3Yi\n",
       "Ms2Hvvv4AAAACXBIWXMAAA7EAAAOxAGVKw4bAAAA1ElEQVQoz2NgwAJYJuu9PjsBmwzDrjIGj88N\n",
       "2GQ4tgJ1JGOVusHswMDAhSK1WUnpAYhewgyyLwFJJm4LlGFwAsoQ+uzAEAKkeZ5ABXgW3IQw2Com\n",
       "LWDYAGTwHYBK8U4IgzAOMzDY8l4AScEM5mmIhjCAFnhzgxjXlYDAAGzXSbj9nAdBpDOcb8KMkAJZ\n",
       "xcAE50eA/MUQAJYCBxf3BkRoLAASYC9yXgCLPET4/cUBRw2IKoiAl6kDPOTrNSBe4YKKRBpBAgoJ\n",
       "RDLgBFNxSxngljqAXRgAVG4uiC3eUoAAAAAASUVORK5CYII=\n",
       "\" style=\"display:inline;vertical-align:middle;\" /></a> <a class=\"ProveItLink\" href=\"../__pv_it/demonstrations/0fb3c749b33dcaddb60985de977d90fea0493b990/proof.ipynb\" style=\"text-decoration: none\">&nbsp;&#x22A2;&nbsp;&nbsp;</a><a class=\"ProveItLink\" href=\"../__pv_it/demonstrations/1cca5c079ccd7a2e7799cf59d55498b7cb82940d0/expr.ipynb\"><img src=\"data:image/png;base64,iVBORw0KGgoAAAANSUhEUgAAAIoAAAAdBAMAAACHyumsAAAAMFBMVEX///8AAAAAAAAAAAAAAAAA\n",
       "AAAAAAAAAAAAAAAAAAAAAAAAAAAAAAAAAAAAAAAAAAAv3aB7AAAAD3RSTlMAInZUiRDNmWbv3US7\n",
       "qzJazP2FAAAACXBIWXMAAA7EAAAOxAGVKw4bAAACnUlEQVQ4y+1UTWgTQRT+dpvtbppmCQieiuSi\n",
       "FBHJQRQLyop4UZSlB08WYkXpSSNEKPbSi9Y/PFl6ECSgXtJDeogVkdpYEEGxRPCiguxF0YJtBOmh\n",
       "WuJ7s7OzuzHxlKMPZnjvzcz3/gdABoAHSSxogRCqo8pW0gq06TliaoHqGK3EXCAth3dT2Q4gPZ8L\n",
       "dLSH3+Xao+yL3B5sA/B+3YFWfJODkSexD+1R+iJPet1WkNTS6vV14PGoC3MyZjOOEvoIWIVWlF2A\n",
       "UcnqR07kkYzHH0cJ80U0Ld+Wy3nfBB8ulqDVgb3EGvkOKDgdQRkT+/z2QF7kEJMNUdcil4miWqUL\n",
       "v90AxfaQuvDCTz2GSP8IOC68O6tQ74hsNZQFTmIB9tiCE6CYwJeb7/wTa+ZoHVTMq+JVRhXol5BL\n",
       "QrhPa4F0HtJALUA5CNTRD5gU3ADljXzDfvFKuZL4wXvSz/ldWhOkA66wQxLFgeWyQzZljhIxrJN6\n",
       "ja9/KxOJnKeFL2ueQqGGomtZGNkAJcuKYXLR8e1uoe0Jc6eUL/om7y+hIjpJriPlwVTZLeAZcEml\n",
       "IcHtPxTvQ6N50T5k+WnBEq3+DDWfCeOTqvQ44Yx4IicChV26JTwIx2mlOePOy4bm+rHf53Z8vTyn\n",
       "UHpHz0/NEntYonD0RcGeCRvIgB708wpv5JdV2XAiXXej+UAeMJm8zQp25HUwT/bTqY9q4DxpcjzW\n",
       "u2K80CNtpbnfJGL1lZyASvMnQU2HQ8bh34uhJEUF+2WPVRHgRn+nA83N21vltDz3p95uxFBEc3Dx\n",
       "lHagzf/yYeOtZLkDLOqPUgxlZ+xnqklrnUnj2tWh+U24m6tJ7DYh1cPfWM/gP/2L7EGnCyjfUesC\n",
       "ynJXInoItwso1WuTf+n+APqGo1AH/m+jAAAAAElFTkSuQmCC\n",
       "\" style=\"display:inline;vertical-align:middle;\" /></a></span>"
      ],
      "text/plain": [
       "{n in NaturalPos, |varphi〉 in Complex^{n}, gamma in Complex} |- (〈varphi| . |varphi〉 . gamma) in_c Q*"
      ]
     },
     "metadata": {},
     "output_type": "display_data"
    }
   ],
   "source": [
    "InClass(Qmult(bra_varphi, ket_varphi, gamma), QmultCodomain).prove()"
   ]
  },
  {
   "cell_type": "code",
   "execution_count": 26,
   "metadata": {},
   "outputs": [
    {
     "data": {
      "text/html": [
       "<a class=\"ProveItLink\" href=\"../__pv_it/demonstrations/ec98014517e6a0d3f8983153cef35d4f0a9e127f0/expr.ipynb\"><img src=\"data:image/png;base64,iVBORw0KGgoAAAANSUhEUgAAAGAAAAAVBAMAAABLWfZ5AAAAMFBMVEX///8AAAAAAAAAAAAAAAAA\n",
       "AAAAAAAAAAAAAAAAAAAAAAAAAAAAAAAAAAAAAAAAAAAv3aB7AAAAD3RSTlMAiasyIt1EEO9UdruZ\n",
       "zWZ7xlX5AAAACXBIWXMAAA7EAAAOxAGVKw4bAAABw0lEQVQ4y4WTOUsDQRTH/+uu2exmXaPglcb4\n",
       "DYKIaLcWFtEmlVoq4lHJ2qYxhZVYRMRKIQEFQS2CWomgWGjhDbZisLGTeCESPN4cWaK4OvCYNzPv\n",
       "N/OuAfyHU1JUXxPtonxVX1JCMT+gqiDmro0jDzABY98PyAhAzeLWAxSShB9w8MynSWDEA5IkTT72\n",
       "StcTn7OEesA8Sa8P0GO+ScDo94Awi80pN6upLSVh3/hgU6Bt89rlgL6RR9hMwGAUFoouxoDuQX1a\n",
       "S3PDtPogwrwfiXFAMVJ63nwVUduzdVHm7Qywa7ILYUF7lHmxcxzotBK2gxRwKALZUmOwKJOnCvdo\n",
       "/eSgKPMSKHDADWbpiKrQSstVOqGiBOmuxgZmp9NzL0wZpmqlRNAZV+H7czKNcWCKls1p4REwIPMS\n",
       "igrgFHEwf68kQMbVJI18NUFywxRqqA5HAMe4wyj1WE4CdJeVg33O2lFjXuyRoX6GQJ9svnEnbA+S\n",
       "YVoCLHk196tWhMz23l0sfl5Sq7WvRUrdqrbsrJBWKQtl/d4g5e2t8ruX5E7F/4Co0LbcGfoVSJYD\n",
       "nNYvfn6pb2P42wv8D+XlTg5/jmX8dJ1y+AUYoF1pY3JYygAAAABJRU5ErkJggg==\n",
       "\" style=\"display:inline;vertical-align:middle;\" /></a>"
      ],
      "text/plain": [
       "alpha . A . beta . |psi〉 . gamma"
      ]
     },
     "metadata": {},
     "output_type": "display_data"
    }
   ],
   "source": [
    "qmult1"
   ]
  },
  {
   "cell_type": "code",
   "execution_count": 27,
   "metadata": {},
   "outputs": [
    {
     "data": {
      "text/html": [
       "<span style=\"font-size:20px;\"><a class=\"ProveItLink\" href=\"../__pv_it/demonstrations/a96adf032fe1e70a10118c41779605949495a8190/expr.ipynb\"><img src=\"data:image/png;base64,iVBORw0KGgoAAAANSUhEUgAAADQAAAAUBAMAAAAw+gPuAAAAMFBMVEX///8AAAAAAAAAAAAAAAAA\n",
       "AAAAAAAAAAAAAAAAAAAAAAAAAAAAAAAAAAAAAAAAAAAv3aB7AAAAD3RSTlMAVN27EERm75mJq3Yi\n",
       "Ms2Hvvv4AAAACXBIWXMAAA7EAAAOxAGVKw4bAAAA1ElEQVQoz2NgwAJYJuu9PjsBmwzDrjIGj88N\n",
       "2GQ4tgJ1JGOVusHswMDAhSK1WUnpAYhewgyyLwFJJm4LlGFwAsoQ+uzAEAKkeZ5ABXgW3IQw2Com\n",
       "LWDYAGTwHYBK8U4IgzAOMzDY8l4AScEM5mmIhjCAFnhzgxjXlYDAAGzXSbj9nAdBpDOcb8KMkAJZ\n",
       "xcAE50eA/MUQAJYCBxf3BkRoLAASYC9yXgCLPET4/cUBRw2IKoiAl6kDPOTrNSBe4YKKRBpBAgoJ\n",
       "RDLgBFNxSxngljqAXRgAVG4uiC3eUoAAAAAASUVORK5CYII=\n",
       "\" style=\"display:inline;vertical-align:middle;\" /></a>, <a class=\"ProveItLink\" href=\"../../../../logic/sets/cartesian_products/__pv_it/theorems/79a768603778550c651661670153c27ee0a505870/expr.ipynb\"><img src=\"data:image/png;base64,iVBORw0KGgoAAAANSUhEUgAAAEYAAAATBAMAAADfQ2bzAAAAMFBMVEX///8AAAAAAAAAAAAAAAAA\n",
       "AAAAAAAAAAAAAAAAAAAAAAAAAAAAAAAAAAAAAAAAAAAv3aB7AAAAD3RSTlMARHarECKJuzJmVO/d\n",
       "mc2qKiq2AAAACXBIWXMAAA7EAAAOxAGVKw4bAAABD0lEQVQoz2NgIAAuMBAGBZSoYTlf/oSBbf9G\n",
       "vOawLxBmYPDHbxfzUbYJDNwMvOXl28srcalZzvCUgQe7OUw1Z86B1UQqxOFQw/jIAWpOgAVTAlwN\n",
       "o7JrUhFHWiFYKs4BZlcAO0MhXA0buxGD/0SG1WCpp3D3BHBc8PGBhbMgTwFDvALDfLDUA4Qahllc\n",
       "1TCeg78Aw3oHhnsgNseeM2fOHIeqYXawhrtzPQNIwTZw8BYgmcNi4ANXY8fAcIyB8SsLiH0ASQ1D\n",
       "EztczTYGlo8MzA8iQWwleFw0AMOqHcZj/cHA+YGBPSEBxOFbABUFM+7Bg+0AA9MFBsZLAWAHmYuA\n",
       "BTnebweSftjjiTEdEhcoAAAiLj7xf6vyygAAAABJRU5ErkJggg==\n",
       "\" style=\"display:inline;vertical-align:middle;\" /></a>, <a class=\"ProveItLink\" href=\"../../../../numbers/number_sets/natural_numbers/__pv_it/theorems/132c57ec1224a4beaf274a23bd799047020206590/expr.ipynb\"><img src=\"data:image/png;base64,iVBORw0KGgoAAAANSUhEUgAAAEEAAAATBAMAAAA9n32KAAAAMFBMVEX///8AAAAAAAAAAAAAAAAA\n",
       "AAAAAAAAAAAAAAAAAAAAAAAAAAAAAAAAAAAAAAAAAAAv3aB7AAAAD3RSTlMARHarECKJu90yVM1m\n",
       "75kejotwAAAACXBIWXMAAA7EAAAOxAGVKw4bAAAA90lEQVQoz2NgwAf4GAgBdrJVeHyvdmDI/SuA\n",
       "x4wqRgMGlg/4bLEIyGFguMDwvLy2vPwAVhVWBdwBDA3YzFDv6NgAok0PsW7AqkJaBcowZZ6ghlDB\n",
       "qOyaVAQWZ90CU2rKUMAuAFfBxm7E4B8AYnEHIFTMY2lpgIWpIEcBQ/wEsAoGhAqeBcsvwHgO/gIM\n",
       "6x1ArLkdQFAAUcFgwgxXwbCegcEazHBHMoPBmaUBzgVK/2EBMTiQVXAqFMC51xi4vrCBGEwKMKFK\n",
       "INaEq2D9ycC04SSYuQsmBmLwbYDxGBsYWGwWgJnOhWAXM8z+C9TPsgFbfIhVdGCKAwDDkzTgOh63\n",
       "3AAAAABJRU5ErkJggg==\n",
       "\" style=\"display:inline;vertical-align:middle;\" /></a>, <a class=\"ProveItLink\" href=\"../__pv_it/demonstrations/4827169ff5051c0ad90075d5d60d0692974558df0/expr.ipynb\"><img src=\"data:image/png;base64,iVBORw0KGgoAAAANSUhEUgAAADUAAAATBAMAAADCPVhoAAAAMFBMVEX///8AAAAAAAAAAAAAAAAA\n",
       "AAAAAAAAAAAAAAAAAAAAAAAAAAAAAAAAAAAAAAAAAAAv3aB7AAAAD3RSTlMAIol2mRAyZqtE3VS7\n",
       "ze8XF9CTAAAACXBIWXMAAA7EAAAOxAGVKw4bAAAA9UlEQVQoz2NgwAaCTt01TAKzhExcUaWY+wpY\n",
       "/Y+AWGwGDBWocs6TGBjYwXJBDAyzUKTYHI4CyRYQ04CBwQMiaLNq1QUgxRFwAEiGQ+S4l4Kl5ppC\n",
       "lPAwOkBN4Ew8cTcAxGC8ChWRYFOAspgYymclgBi8AlCRJM4CuBwD+wGwHMwtIpwGUFYw0NgPIEbe\n",
       "KiA4ALYPZuY0oF8fgBgxMH08YHeCAFANTwOIwQWT4wT7jxOIgT7KA7uC2QAeLjOAhC8DA6s7A+dK\n",
       "iNBteHiedWTdBfQjd6axMlQo4mQALB7O/XKEeAEOJp0ChxkcMDHgBsF45KbhlgIAuewwOfL5TtwA\n",
       "AAAASUVORK5CYII=\n",
       "\" style=\"display:inline;vertical-align:middle;\" /></a>, <a class=\"ProveItLink\" href=\"../__pv_it/demonstrations/209baac38918ef8b1210d5267967da66f42b39310/expr.ipynb\"><img src=\"data:image/png;base64,iVBORw0KGgoAAAANSUhEUgAAADYAAAAQBAMAAACvnpHFAAAAMFBMVEX///8AAAAAAAAAAAAAAAAA\n",
       "AAAAAAAAAAAAAAAAAAAAAAAAAAAAAAAAAAAAAAAAAAAv3aB7AAAAD3RSTlMAiasyIt1EEO9UdruZ\n",
       "zWZ7xlX5AAAACXBIWXMAAA7EAAAOxAGVKw4bAAAA10lEQVQY02NgwAbYpWNvOQtglWJY1MdQ8/sA\n",
       "VimeZUA9r7HL2XAXMDAwocqtDg29AKLVuUF2PkCWyl0OZWzwgQkJChmAaZbrUAEWBUMoyzWBvYVl\n",
       "ApDB6wAVYRbIg7K6GBj2cBWA5GAGsRzIgrr3AwPDWUYQyyIUCDaA7XOEyHEAeRLiIFY13FHbuSF0\n",
       "/QIGBnmQdQyscLkckP8YEhj4gXISYBGuBYhwUQASFxh4NjDwnWcGC91EBMIdh8oYkPfeLeeRAosU\n",
       "bSuAx0N/jANqOCZuhYQZFAAANPAuqY517tAAAAAASUVORK5CYII=\n",
       "\" style=\"display:inline;vertical-align:middle;\" /></a>, <a class=\"ProveItLink\" href=\"../__pv_it/demonstrations/053fb38df6fcf9baf4abe8cee7dd8e99b8a50fd80/expr.ipynb\"><img src=\"data:image/png;base64,iVBORw0KGgoAAAANSUhEUgAAAF0AAAASBAMAAADLUc9JAAAAMFBMVEX///8AAAAAAAAAAAAAAAAA\n",
       "AAAAAAAAAAAAAAAAAAAAAAAAAAAAAAAAAAAAAAAAAAAv3aB7AAAAD3RSTlMAIs1UmauJMnZmRLsQ\n",
       "3e++988cAAAACXBIWXMAAA7EAAAOxAGVKw4bAAABdklEQVQoz2NgIAjKGBhYBBiIAZyeFS0MDBwJ\n",
       "DJ4MDFOmdwR0bodKCKGr5Mm+pCGecHLdBD6gyR1sDQw8s14yPGVohUrro6tvfclw5LeDTBMD/wEG\n",
       "BjYNBgbGEwoM3xncILLM/9GUs3QlMDDMdmCIYFjHAFHPwNrA/oDhMlQ6Hs0/JdxAY1kdGJ4zuLAz\n",
       "MLSxTGBg4Cvg2MD4oQAsnZgPoRk49t69BKJjuEF+mMD4geG6OdS/8kAbODc4gGQZG/oNwMq5NA5A\n",
       "9G0QgfADGNomgMKTVYBhKQOTAGMEWJ6FwX4CJJigyhkDyvAF82KG+gQwQxEqwJ6wEp96Bwb5ADBD\n",
       "ASrA6LACj3KOLS7xG8DGvr179+5tsPvF8Kg/wcDAfwEcqRtgQnu48TqHgfcBmHUBJrQEFP4MC7Aq\n",
       "5wKGDdMHMLMDEb9AD7EoYFUvB8TcH8FMJgOYYLeKwOErWJWf/q/DwLz/EzhAeaLXwNPn+ytEpHmu\n",
       "bEh6wA0A6ehXuNCZSI8AAAAASUVORK5CYII=\n",
       "\" style=\"display:inline;vertical-align:middle;\" /></a>, <a class=\"ProveItLink\" href=\"../__pv_it/demonstrations/b9ff765654f5a9fab1a0f971ffbd46ba878d2ac30/expr.ipynb\"><img src=\"data:image/png;base64,iVBORw0KGgoAAAANSUhEUgAAAFAAAAAVBAMAAAAjqnRBAAAAMFBMVEX///8AAAAAAAAAAAAAAAAA\n",
       "AAAAAAAAAAAAAAAAAAAAAAAAAAAAAAAAAAAAAAAAAAAv3aB7AAAAD3RSTlMAIolEdjIQVJlm3e/N\n",
       "u6uczJRnAAAACXBIWXMAAA7EAAAOxAGVKw4bAAABgklEQVQoz2MQYIACVgbsgLMzxI9lbgCDMkyA\n",
       "NwBdCZvumiOiCpnWE7gfsDyAKmRhYGBvQFfot5Mh42+DmA8DfwCHAlQhExAvQFPH4azAwDC3geEJ\n",
       "QzQDVwFUYQoQq6MpjOBNYGDga2DYyuDLIM8KVVgKxLJQBb6rVh0A0c94Qe6cwPgBaOZcDqhCoCUM\n",
       "PJAAsHGDarggAaaYHzAcZJBzAypk85jAoMCygIEdpJqB8RhUHeODIBSXKDMwsW9gm8DyDeobHljA\n",
       "sipYoikM51jAKcCwgYGhGawQJsHYYIKmMIHbARg6wFCMA/GjVwHBBbAbhdAUMtQnMDGwOTAwFIH4\n",
       "uXCZa7zoCnsYxBlYgGF2EMTngstYgMKRwQBJYS/DNAZjoKPAFrI4IGLmAZA4gKTQWkCBE6iRqQAs\n",
       "cBxupO8JgfQVyFazPrriiLA073ICPPXsXyGArJCBFWxWBVTE6NaqA1jSJUghC9iMiwx4gTI0kTGw\n",
       "HSCskAXs3Qn4FbrCGHz41QEAUKNKBCB71lUAAAAASUVORK5CYII=\n",
       "\" style=\"display:inline;vertical-align:middle;\" /></a> <a class=\"ProveItLink\" href=\"../__pv_it/demonstrations/d2ba6dfd44210540f1cec4b5483ab9883420905a0/proof.ipynb\" style=\"text-decoration: none\">&nbsp;&#x22A2;&nbsp;&nbsp;</a><a class=\"ProveItLink\" href=\"../__pv_it/demonstrations/d5e904b5152c2e12bb18075deb57418bcdf44dca0/expr.ipynb\"><img src=\"data:image/png;base64,iVBORw0KGgoAAAANSUhEUgAAAKAAAAAdBAMAAADftXq1AAAAMFBMVEX///8AAAAAAAAAAAAAAAAA\n",
       "AAAAAAAAAAAAAAAAAAAAAAAAAAAAAAAAAAAAAAAAAAAv3aB7AAAAD3RSTlMAInZUiRDNmWbv3US7\n",
       "qzJazP2FAAAACXBIWXMAAA7EAAAOxAGVKw4bAAADBUlEQVRIx+2VT0gUURzHvzM70866Oi0pHaLD\n",
       "FogeIvYQRVK5WR5MrEE6GtlfurWBWVDSXiqDCovEQ5eF8JAd9GCWCrp6EQr/BF3Ky0Z00DA3KgnT\n",
       "tt/7M7Mz226nPTbwZt77vR+f9/v3fgMghMKPs2e6hEpBdSVGLzXilbW6V432pDSVFQbDBXi+TzHa\n",
       "2uUVbkiLb0XVZQeokm7MpVOdh/VuJQqlbToCvdW7UyuAZhj3HKBGI+E+1MrlBSe/3FkBXpy24I97\n",
       "tzq+8s9xYMQBNtM45NIxYrnAHYDeH1brj7Yi4N3RKn7zL8WiwwEeoLHVrdUtMX19wj8tSa/xBJQ5\n",
       "YLcXuEn9JoG+XgcYZW66i+ECfw9V2utxFoNAmldFGxMcbrKTGPP95DH5MH3e4kC9Ko6omoCPUVGz\n",
       "ZuE50MTr4ZxzwCNXOtlhWwb0BwqvnmDE/C7S0DmS4kDN16XH1R8iK0bPkTkWjVvw2Oz7xdcib09o\n",
       "PASmVJ45P5R1mVcjyYEf/QkjhC7gmgjkjEkH7eWAbOB5IgMiVY+JQra2ayLMVzrWZF6DaQ60AmHa\n",
       "It0lWlLQmqkoscx0FvroYaeijFu4nLKBAZI21LOFTu6ssskYVXOXSEqtpXG5vABaOb2G2azFsVDl\n",
       "Xk3BdvkkqR+LCI+BpzKvpXMC2I5ysHickkB272rYrMQB6plL5kFDlv4ksJF0GvjiJY2LbELltRAS\n",
       "wOu4iVHKaVICWbbvcruyV3ox02MNyetDFeBPwrjB2onCvJwlkH4VwWeyOQyHosYAgWQP0VikeK3h\n",
       "TLYwdaj27VlkZdhZ6a8j6eyKhX2Zs1QHn7fX2d3GfDu5zeUgiwr4YTjx2r7T5ujteZtdksrThzR3\n",
       "+zK5bXukpIx5IsM1+Epevf4MVa/ZXeCi5wJFhU5IySCzMp7bWPdn1u9vHhCLiTzAZjeQ050u15jb\n",
       "KORleb/6Rk5b8gDHPBbylNpGJQvY4DI3/I/NnXCFzv7LqCH8f4r1mNXR4gKXkCwucKbYLvfCKi5w\n",
       "sDP+l+wPj6GpVim/jAIAAAAASUVORK5CYII=\n",
       "\" style=\"display:inline;vertical-align:middle;\" /></a></span>"
      ],
      "text/plain": [
       "{gamma in Complex, m in NaturalPos, n in NaturalPos, beta in Complex, alpha in Complex, A in Complex^{n x m}, |psi〉 in Complex^{m}} |- (alpha . A . beta . |psi〉 . gamma) in_c Q*"
      ]
     },
     "metadata": {},
     "output_type": "display_data"
    }
   ],
   "source": [
    "InClass(qmult1, QmultCodomain).prove()"
   ]
  },
  {
   "cell_type": "code",
   "execution_count": 28,
   "metadata": {},
   "outputs": [
    {
     "data": {
      "text/html": [
       "<a class=\"ProveItLink\" href=\"../__pv_it/demonstrations/19f2762fb3a49433095cbe8e1577b9c4cbe0f9300/expr.ipynb\"><img src=\"data:image/png;base64,iVBORw0KGgoAAAANSUhEUgAAALwAAAAVBAMAAAAOdJm+AAAAMFBMVEX///8AAAAAAAAAAAAAAAAA\n",
       "AAAAAAAAAAAAAAAAAAAAAAAAAAAAAAAAAAAAAAAAAAAv3aB7AAAAD3RSTlMAiasyIt1EEO9UdruZ\n",
       "zWZ7xlX5AAAACXBIWXMAAA7EAAAOxAGVKw4bAAADKUlEQVQ4y4WVTWhTQRCAJ33pe30vLz/tQWs9\n",
       "GKq3XkoV0YumBy/tJVBSexAMloIXJV4D1YIVQS/xIBQULIiEVm2D9mYhMVC9aIzgtTWI6MHa2moV\n",
       "LbbOzO4m76fUCbNvXmbz7ezs7ARgVwniR0n3Tm6HJJShSU/QN73q+WIKAmllP/Xjp5wve5QRwkD0\n",
       "SaEuCX8Tz95HL/lpxhQeZ9710dENVnGz89khF94s4TAj1Sn3BF6bhA9sjILCI6jZhx+lIYo7Xs05\n",
       "8ZCkSDNCnVL+wY9LACNsVBTewOgDOTlLr0mjQsNJdNljLvw+1EhJqEMCvd9VJspsjCm8iekMFtTm\n",
       "VU4JCrOU6S0Xvp+G61Ib0mf9lnjzNHOqCh+g4Z0Hb3IhFKkk1lz4MBXRktTWNlVyJXOLN3/kySJn\n",
       "zY4xPltB/AOAWx48uQE26bDWBf4wwIXNDB85tAk9lTbGg5xWPaetiVBXRnjFcI3xsQm4DLOZ+tkq\n",
       "PLlB+0OJltGXQFs6FxNn+1XoDYB5SwQLwXWZiQjnuTlHeC23AB+hBf1pN57cYNFxNf1kPJ5QEwD+\n",
       "9AW+TrDaWIuvObXw8FWZdgpZ3AhXaEua8AZGEMO1QYtTDKnU0LVUKi7dEKKZUVE5iPlMW4AeqijW\n",
       "Flysfa8qvg0yhjGmsQYezF+Iz4pb5Iye8VHa52qN8RZVBWHolM6zXsG3AzmRG4AheYVC8UZywK7i\n",
       "2eRlQXiTQ2Vv3BS31ga9G+yMqLHbrFF0t/Psi6jvycB6O8ak0KTAFyIZPS3L2YEnN5d9qCrxNRuM\n",
       "g/KGfGG1CxB5wz2O8lFErFEBfVBcszjj9fEAfJKX0YknNwWkn1EtbfHxiYW0vN/Phbau5O0OhBb/\n",
       "ZuDO9lv89dHpDtlZk+Ja9eyfTshW4sSTu2u7s2s+ofCRsxt0PlzBg1K9EmiYA/LWHq83QldTGABv\n",
       "Q+YuxL01mBS6G35Z4vOc6oS3pS378FfZmqNCqQn1SbZhIpHxsXr7dUl9QYXX+LoYVdnW+nf6Axxu\n",
       "mEZB4DkbM76ZRsGDtzgbVk3uYA7+I31g1f9i4zu5HXIfk82Tm2iJBOs/qqbG86SjQMwAAAAASUVO\n",
       "RK5CYII=\n",
       "\" style=\"display:inline;vertical-align:middle;\" /></a>"
      ],
      "text/plain": [
       "alpha . A . beta . (|psi〉 + (D . |varphi〉))"
      ]
     },
     "metadata": {},
     "output_type": "display_data"
    }
   ],
   "source": [
    "qmult5"
   ]
  },
  {
   "cell_type": "code",
   "execution_count": 29,
   "metadata": {},
   "outputs": [
    {
     "data": {
      "text/html": [
       "<span style=\"font-size:20px;\"><a class=\"ProveItLink\" href=\"../../../../logic/sets/cartesian_products/__pv_it/theorems/79a768603778550c651661670153c27ee0a505870/expr.ipynb\"><img src=\"data:image/png;base64,iVBORw0KGgoAAAANSUhEUgAAAEYAAAATBAMAAADfQ2bzAAAAMFBMVEX///8AAAAAAAAAAAAAAAAA\n",
       "AAAAAAAAAAAAAAAAAAAAAAAAAAAAAAAAAAAAAAAAAAAv3aB7AAAAD3RSTlMARHarECKJuzJmVO/d\n",
       "mc2qKiq2AAAACXBIWXMAAA7EAAAOxAGVKw4bAAABD0lEQVQoz2NgIAAuMBAGBZSoYTlf/oSBbf9G\n",
       "vOawLxBmYPDHbxfzUbYJDNwMvOXl28srcalZzvCUgQe7OUw1Z86B1UQqxOFQw/jIAWpOgAVTAlwN\n",
       "o7JrUhFHWiFYKs4BZlcAO0MhXA0buxGD/0SG1WCpp3D3BHBc8PGBhbMgTwFDvALDfLDUA4Qahllc\n",
       "1TCeg78Aw3oHhnsgNseeM2fOHIeqYXawhrtzPQNIwTZw8BYgmcNi4ANXY8fAcIyB8SsLiH0ASQ1D\n",
       "EztczTYGlo8MzA8iQWwleFw0AMOqHcZj/cHA+YGBPSEBxOFbABUFM+7Bg+0AA9MFBsZLAWAHmYuA\n",
       "BTnebweSftjjiTEdEhcoAAAiLj7xf6vyygAAAABJRU5ErkJggg==\n",
       "\" style=\"display:inline;vertical-align:middle;\" /></a>, <a class=\"ProveItLink\" href=\"../../../../numbers/number_sets/natural_numbers/__pv_it/theorems/132c57ec1224a4beaf274a23bd799047020206590/expr.ipynb\"><img src=\"data:image/png;base64,iVBORw0KGgoAAAANSUhEUgAAAEEAAAATBAMAAAA9n32KAAAAMFBMVEX///8AAAAAAAAAAAAAAAAA\n",
       "AAAAAAAAAAAAAAAAAAAAAAAAAAAAAAAAAAAAAAAAAAAv3aB7AAAAD3RSTlMARHarECKJu90yVM1m\n",
       "75kejotwAAAACXBIWXMAAA7EAAAOxAGVKw4bAAAA90lEQVQoz2NgwAf4GAgBdrJVeHyvdmDI/SuA\n",
       "x4wqRgMGlg/4bLEIyGFguMDwvLy2vPwAVhVWBdwBDA3YzFDv6NgAok0PsW7AqkJaBcowZZ6ghlDB\n",
       "qOyaVAQWZ90CU2rKUMAuAFfBxm7E4B8AYnEHIFTMY2lpgIWpIEcBQ/wEsAoGhAqeBcsvwHgO/gIM\n",
       "6x1ArLkdQFAAUcFgwgxXwbCegcEazHBHMoPBmaUBzgVK/2EBMTiQVXAqFMC51xi4vrCBGEwKMKFK\n",
       "INaEq2D9ycC04SSYuQsmBmLwbYDxGBsYWGwWgJnOhWAXM8z+C9TPsgFbfIhVdGCKAwDDkzTgOh63\n",
       "3AAAAABJRU5ErkJggg==\n",
       "\" style=\"display:inline;vertical-align:middle;\" /></a>, <a class=\"ProveItLink\" href=\"../__pv_it/demonstrations/4827169ff5051c0ad90075d5d60d0692974558df0/expr.ipynb\"><img src=\"data:image/png;base64,iVBORw0KGgoAAAANSUhEUgAAADUAAAATBAMAAADCPVhoAAAAMFBMVEX///8AAAAAAAAAAAAAAAAA\n",
       "AAAAAAAAAAAAAAAAAAAAAAAAAAAAAAAAAAAAAAAAAAAv3aB7AAAAD3RSTlMAIol2mRAyZqtE3VS7\n",
       "ze8XF9CTAAAACXBIWXMAAA7EAAAOxAGVKw4bAAAA9UlEQVQoz2NgwAaCTt01TAKzhExcUaWY+wpY\n",
       "/Y+AWGwGDBWocs6TGBjYwXJBDAyzUKTYHI4CyRYQ04CBwQMiaLNq1QUgxRFwAEiGQ+S4l4Kl5ppC\n",
       "lPAwOkBN4Ew8cTcAxGC8ChWRYFOAspgYymclgBi8AlCRJM4CuBwD+wGwHMwtIpwGUFYw0NgPIEbe\n",
       "KiA4ALYPZuY0oF8fgBgxMH08YHeCAFANTwOIwQWT4wT7jxOIgT7KA7uC2QAeLjOAhC8DA6s7A+dK\n",
       "iNBteHiedWTdBfQjd6axMlQo4mQALB7O/XKEeAEOJp0ChxkcMDHgBsF45KbhlgIAuewwOfL5TtwA\n",
       "AAAASUVORK5CYII=\n",
       "\" style=\"display:inline;vertical-align:middle;\" /></a>, <a class=\"ProveItLink\" href=\"../__pv_it/demonstrations/209baac38918ef8b1210d5267967da66f42b39310/expr.ipynb\"><img src=\"data:image/png;base64,iVBORw0KGgoAAAANSUhEUgAAADYAAAAQBAMAAACvnpHFAAAAMFBMVEX///8AAAAAAAAAAAAAAAAA\n",
       "AAAAAAAAAAAAAAAAAAAAAAAAAAAAAAAAAAAAAAAAAAAv3aB7AAAAD3RSTlMAiasyIt1EEO9UdruZ\n",
       "zWZ7xlX5AAAACXBIWXMAAA7EAAAOxAGVKw4bAAAA10lEQVQY02NgwAbYpWNvOQtglWJY1MdQ8/sA\n",
       "VimeZUA9r7HL2XAXMDAwocqtDg29AKLVuUF2PkCWyl0OZWzwgQkJChmAaZbrUAEWBUMoyzWBvYVl\n",
       "ApDB6wAVYRbIg7K6GBj2cBWA5GAGsRzIgrr3AwPDWUYQyyIUCDaA7XOEyHEAeRLiIFY13FHbuSF0\n",
       "/QIGBnmQdQyscLkckP8YEhj4gXISYBGuBYhwUQASFxh4NjDwnWcGC91EBMIdh8oYkPfeLeeRAosU\n",
       "bSuAx0N/jANqOCZuhYQZFAAANPAuqY517tAAAAAASUVORK5CYII=\n",
       "\" style=\"display:inline;vertical-align:middle;\" /></a>, <a class=\"ProveItLink\" href=\"../__pv_it/demonstrations/053fb38df6fcf9baf4abe8cee7dd8e99b8a50fd80/expr.ipynb\"><img src=\"data:image/png;base64,iVBORw0KGgoAAAANSUhEUgAAAF0AAAASBAMAAADLUc9JAAAAMFBMVEX///8AAAAAAAAAAAAAAAAA\n",
       "AAAAAAAAAAAAAAAAAAAAAAAAAAAAAAAAAAAAAAAAAAAv3aB7AAAAD3RSTlMAIs1UmauJMnZmRLsQ\n",
       "3e++988cAAAACXBIWXMAAA7EAAAOxAGVKw4bAAABdklEQVQoz2NgIAjKGBhYBBiIAZyeFS0MDBwJ\n",
       "DJ4MDFOmdwR0bodKCKGr5Mm+pCGecHLdBD6gyR1sDQw8s14yPGVohUrro6tvfclw5LeDTBMD/wEG\n",
       "BjYNBgbGEwoM3xncILLM/9GUs3QlMDDMdmCIYFjHAFHPwNrA/oDhMlQ6Hs0/JdxAY1kdGJ4zuLAz\n",
       "MLSxTGBg4Cvg2MD4oQAsnZgPoRk49t69BKJjuEF+mMD4geG6OdS/8kAbODc4gGQZG/oNwMq5NA5A\n",
       "9G0QgfADGNomgMKTVYBhKQOTAGMEWJ6FwX4CJJigyhkDyvAF82KG+gQwQxEqwJ6wEp96Bwb5ADBD\n",
       "ASrA6LACj3KOLS7xG8DGvr179+5tsPvF8Kg/wcDAfwEcqRtgQnu48TqHgfcBmHUBJrQEFP4MC7Aq\n",
       "5wKGDdMHMLMDEb9AD7EoYFUvB8TcH8FMJgOYYLeKwOErWJWf/q/DwLz/EzhAeaLXwNPn+ytEpHmu\n",
       "bEh6wA0A6ehXuNCZSI8AAAAASUVORK5CYII=\n",
       "\" style=\"display:inline;vertical-align:middle;\" /></a>, <a class=\"ProveItLink\" href=\"../__pv_it/demonstrations/b9ff765654f5a9fab1a0f971ffbd46ba878d2ac30/expr.ipynb\"><img src=\"data:image/png;base64,iVBORw0KGgoAAAANSUhEUgAAAFAAAAAVBAMAAAAjqnRBAAAAMFBMVEX///8AAAAAAAAAAAAAAAAA\n",
       "AAAAAAAAAAAAAAAAAAAAAAAAAAAAAAAAAAAAAAAAAAAv3aB7AAAAD3RSTlMAIolEdjIQVJlm3e/N\n",
       "u6uczJRnAAAACXBIWXMAAA7EAAAOxAGVKw4bAAABgklEQVQoz2MQYIACVgbsgLMzxI9lbgCDMkyA\n",
       "NwBdCZvumiOiCpnWE7gfsDyAKmRhYGBvQFfot5Mh42+DmA8DfwCHAlQhExAvQFPH4azAwDC3geEJ\n",
       "QzQDVwFUYQoQq6MpjOBNYGDga2DYyuDLIM8KVVgKxLJQBb6rVh0A0c94Qe6cwPgBaOZcDqhCoCUM\n",
       "PJAAsHGDarggAaaYHzAcZJBzAypk85jAoMCygIEdpJqB8RhUHeODIBSXKDMwsW9gm8DyDeobHljA\n",
       "sipYoikM51jAKcCwgYGhGawQJsHYYIKmMIHbARg6wFCMA/GjVwHBBbAbhdAUMtQnMDGwOTAwFIH4\n",
       "uXCZa7zoCnsYxBlYgGF2EMTngstYgMKRwQBJYS/DNAZjoKPAFrI4IGLmAZA4gKTQWkCBE6iRqQAs\n",
       "cBxupO8JgfQVyFazPrriiLA073ICPPXsXyGArJCBFWxWBVTE6NaqA1jSJUghC9iMiwx4gTI0kTGw\n",
       "HSCskAXs3Qn4FbrCGHz41QEAUKNKBCB71lUAAAAASUVORK5CYII=\n",
       "\" style=\"display:inline;vertical-align:middle;\" /></a>, <a class=\"ProveItLink\" href=\"../__pv_it/demonstrations/d110bb13a053721ab731f462ceb03fc920ca201b0/expr.ipynb\"><img src=\"data:image/png;base64,iVBORw0KGgoAAAANSUhEUgAAAGAAAAASBAMAAABWXMbBAAAAMFBMVEX///8AAAAAAAAAAAAAAAAA\n",
       "AAAAAAAAAAAAAAAAAAAAAAAAAAAAAAAAAAAAAAAAAAAv3aB7AAAAD3RSTlMAdrurIs1mVDKZ70SJ\n",
       "EN02Mxp8AAAACXBIWXMAAA7EAAAOxAGVKw4bAAABdElEQVQoz2NgIAZwHGBgmEKMQrZpjcKMSQ0M\n",
       "DDIMnAkgniROpbyHngZ6HLi2K4HLgNGAgYFR4CADA4jnAJQT+q9spOyApkF4GcPNTxN8RRn4GziB\n",
       "7mE4KsDAAOJdAEl+Bdr9HVU9pzRQVdIEBkOGLga+AqgGIG8X2EcfgcQsVA2dTECjmCcwrGAQYvDn\n",
       "ADrpwDSg6AqGmUA2A+MPILE/AayQUe/dUxBtywTyRwLLB6CpSZxQTwN5LyqA4kwfgIQ/yKEM3IEX\n",
       "IDYoeIIpbgOGEAZnWXCwmoB4MiBz+RWARL8BSIErVD2LQQ+ewO4H+ScfbEMIPKK24dEgD4wYBvsN\n",
       "IGYAVIhlwkY8GvRBxC+wwevevXv3COwHHzwaPoHSwDdw9CrAxHSZ8CQsUDTcgih9ABPcCYoHhg1Y\n",
       "NYCjQRXCFkTENDDUOAOwamAFRsO+CVB2AUxUKNLh+kus6pn1PxsrwdI6r9FeeGpd/9KBiAzAfQiS\n",
       "NHADANfiWcu00UR9AAAAAElFTkSuQmCC\n",
       "\" style=\"display:inline;vertical-align:middle;\" /></a>, <a class=\"ProveItLink\" href=\"../__pv_it/demonstrations/55701387f25fde525e21ebc18286978696667feb0/expr.ipynb\"><img src=\"data:image/png;base64,iVBORw0KGgoAAAANSUhEUgAAAEwAAAAVBAMAAAAeOBUnAAAAMFBMVEX///8AAAAAAAAAAAAAAAAA\n",
       "AAAAAAAAAAAAAAAAAAAAAAAAAAAAAAAAAAAAAAAAAAAv3aB7AAAAD3RSTlMAIolEdjLNuxCZZqtU\n",
       "3e8Ziz2RAAAACXBIWXMAAA7EAAAOxAGVKw4bAAABZ0lEQVQoz2MQYIACVgbsgGtWiCcDgzKMyx6A\n",
       "roBD/VqKqEKX3QI+AYQyngnoyrxfMXR+nyDhxsDfgFDGcAFNFaezAgPD8gkMWxjskCxl0EFTFsne\n",
       "wMDAPYHhKcNMViRl4lDa/e7dBBC9gx3kvgWMHxiuHkVSxgbxtJkHlF8gCaaYNzA4LQApCwXKfW9g\n",
       "4FEAiTJmQFUxbghCcgFQ2QQG1ixrBagf2GAByapghaKMJ4CBG2gFA8NksDKYBOMEExRlTAwMK0BG\n",
       "MkSD+HF3gaAA7DYhFGUsDAwODBwODAyHQPx2uEwFO4oyTgbmAAZOYBglgvi8cBlLULgxGMCVLeBk\n",
       "4NgKdAzYKhYHRCxsABIJcJ+muUXNBWpiOgAWyIEb554p0HMTESBc9/8qIKzrLm6Ap5D3NwUQyhhm\n",
       "gVknoSJGtXcTMFIdSNlTMKuQAQ8AKmP9ALYigYAyFnAssSzAp8wVGBLg5M2NTxUAn11FpH3bB28A\n",
       "AAAASUVORK5CYII=\n",
       "\" style=\"display:inline;vertical-align:middle;\" /></a> <a class=\"ProveItLink\" href=\"../__pv_it/demonstrations/c98dbe728032a17ab16df9aff46cc07f529cc25e0/proof.ipynb\" style=\"text-decoration: none\">&nbsp;&#x22A2;&nbsp;&nbsp;</a><a class=\"ProveItLink\" href=\"../__pv_it/demonstrations/87029235392ebc4cd15d0596482db90c96d7226e0/expr.ipynb\"><img src=\"data:image/png;base64,iVBORw0KGgoAAAANSUhEUgAAAP4AAAAdBAMAAAB4aMxOAAAAMFBMVEX///8AAAAAAAAAAAAAAAAA\n",
       "AAAAAAAAAAAAAAAAAAAAAAAAAAAAAAAAAAAAAAAAAAAv3aB7AAAAD3RSTlMAInZUiRDNmWbv3US7\n",
       "qzJazP2FAAAACXBIWXMAAA7EAAAOxAGVKw4bAAAER0lEQVRIx+2WT2hcRRzHv/t2X95udvOylNKD\n",
       "9LCkRIuI3YNUKoprtYdiq48gxYPgWqT05hZiDZXgetBE/NNUFEFFFqRKt9LsQatWbJNeAmKb7VFN\n",
       "S0QE25K2ag0lTVx/v9/M7Jv3du01l074vcx7v5n5zPzm92cB5HHLlqA/0+a7qa3WXsrXmkR8RHRu\n",
       "hR5OMfqtHBu0AamG6Z/tXGOD/fK46eRop9lCKF1b8vcKqe6Lfuy5pv6vvetFNahk+DT2/s41SnSC\n",
       "2eXzP56L8JN8so2WxKf9tFhCYvhMEW7svA8rvl/A29LZBcMnUm/HQrv40U9rHCzafNT4KEEo0ZY9\n",
       "feWNReDr3QG8alQ1+qf8ewo4IZ0Rw3fp/ClzV1kza4QfV0nlTUT4j5KkK6FE2z203GTB2fZEGZmo\n",
       "JrX2X2PsUelMGH6SrjQxZexn7pSp2MS3fSPCX8+P9y1hT/uh/pmC8DKnakg0gc1R/hrnb81PHhZQ\n",
       "2fBT/Hguxk/K7c2y316P8Hs4FPZaQjvcbe7hFHcy1yRehvnDYztNZFWSN2Tsr2f2yGivJPyhEeLf\n",
       "HTqr4bMaWGaHWVH8K8Dx5UD8EjstAda13eA9y9F5b3c03EMJudps0b+uDjt+QrbUUxV+aQuexqag\n",
       "7YCGz2r4f/Fl6/NX4O/9vqQc8HVLQtsheVOm1uTlU5J3gRlHHReJFW3stNx1b5H5fvEAXmVX8RpR\n",
       "PqvhsMv03RQ+eUkfQFNfptctlgDtQEuJi2eUV35Ei5Il9qeUY740ysbEEJlC7JNpMN+lLZZoc/Cb\n",
       "vMl6/ciH9XpTq5Hjkf3K/2mZ19gIWOC4sAQ+Tal/AbNVXJ03/Axtd/s2E2NL3DlJp5oI+Uj+Q/wh\n",
       "lW7s8wu/ny11sCp8h13X1WntW0vgmtiBIyaegbH/szT8yaIyP3BE55pcM7Q/vDL5x6B267j9Ofzd\n",
       "j1X+85Cdhxeo237AEuUR0tzWPv+RtH49Tfun+dvl5RuSF/RdXRRUrqD4U+kg29BhbfFZLeGfK2t+\n",
       "1YN7QWeKtywBBtrBean1QXBcRwPFhjeF9CtSsdjks8R1R5A9qnylKfzsoRTe1GnN5rOad5z93NSf\n",
       "PXf+caChM+WwJWS7sNC5cExOvMThPz7obaWvs4sBHmw9T8tfHtiqC2lN5Z+FHQN5y4aGz+q51vm5\n",
       "mbzhpyeX2EckUI9aQsvPfWWq83djv5it9Hap6SrXqXZM57/f2mUtkn+PIV5/pSJIpUzUQpHkskPn\n",
       "38kWJQtfZeXO4hDlj2n+oFx3Pl5/xjr4n0hvmr25Gkr0N8ZDrZV31ulUMt2FPxR2CSn8UrvaRlou\n",
       "H+P7kjakqq+3JF7/f146p7vPdOGfDLsUtsIXg3f+kgijWvMdMbZT1Seb/p8TWsYo3Pr33xo4bRdp\n",
       "dlNb7V5aTgb38R7yodxutxv8jaVV5S9galX5Z1fZ/ocRrCr/y/Fqx7f/AMd6DzMOAsGmAAAAAElF\n",
       "TkSuQmCC\n",
       "\" style=\"display:inline;vertical-align:middle;\" /></a></span>"
      ],
      "text/plain": [
       "{m in NaturalPos, n in NaturalPos, beta in Complex, alpha in Complex, A in Complex^{n x m}, |psi〉 in Complex^{m}, D in Complex^{m x n}, |varphi〉 in Complex^{n}} |- (alpha . A . beta . (|psi〉 + (D . |varphi〉))) in_c Q*"
      ]
     },
     "metadata": {},
     "output_type": "display_data"
    }
   ],
   "source": [
    "InClass(qmult5, QmultCodomain).prove()"
   ]
  },
  {
   "cell_type": "markdown",
   "metadata": {},
   "source": [
    "### Association/dissociation of a Qmult"
   ]
  },
  {
   "cell_type": "code",
   "execution_count": 30,
   "metadata": {},
   "outputs": [
    {
     "name": "stdout",
     "output_type": "stream",
     "text": [
      "Help on function association in module proveit.physics.quantum.algebra.qmult:\n",
      "\n",
      "association(self, start_idx, length, **defaults_config)\n",
      "    Given a valid Qmult operation (valid sequence of bras, kets,\n",
      "    and/or quantum operations), deduce that this expression is equal \n",
      "    to a form in which operands in the\n",
      "    range [start_idx, start_idx+length) are grouped together.\n",
      "    For example, (A B ... Y Z) = (A B ... (L ... M) ... Y Z).\n",
      "    \n",
      "    Keyword arguments are accepted for temporarily changing any\n",
      "    of the attributes of proveit.defaults.\n",
      "    \n",
      "    'associated' returns the right-hand side of 'association'.\n",
      "    'associate', called on an InnerExpr of a Judgment,\n",
      "    substitutes the right-hand side of 'association' for\n",
      "    the inner expression.\n",
      "\n"
     ]
    }
   ],
   "source": [
    "help(Qmult.association)"
   ]
  },
  {
   "cell_type": "code",
   "execution_count": 31,
   "metadata": {},
   "outputs": [
    {
     "name": "stdout",
     "output_type": "stream",
     "text": [
      "Help on function disassociation in module proveit.physics.quantum.algebra.qmult:\n",
      "\n",
      "disassociation(self, idx, **defaults_config)\n",
      "    Given a valid Qmult operation (valid sequence of bras, kets,\n",
      "    and/or quantum operations), deduce that this expression is equal \n",
      "    to a form in which the operand\n",
      "    at index idx is no longer grouped together.\n",
      "    For example, (A B ... (L ... M) ... Y Z) = (A B ... Y Z).\n",
      "    \n",
      "    Keyword arguments are accepted for temporarily changing any\n",
      "    of the attributes of proveit.defaults.\n",
      "    \n",
      "    'disassociated' returns the right-hand side of 'disassociation'.\n",
      "    'disassociate', called on an InnerExpr of a Judgment,\n",
      "    substitutes the right-hand side of 'disassociation' for\n",
      "    the inner expression.\n",
      "\n"
     ]
    }
   ],
   "source": [
    "help(Qmult.disassociation)"
   ]
  },
  {
   "cell_type": "code",
   "execution_count": 32,
   "metadata": {},
   "outputs": [
    {
     "data": {
      "text/html": [
       "<a class=\"ProveItLink\" href=\"../__pv_it/demonstrations/ec98014517e6a0d3f8983153cef35d4f0a9e127f0/expr.ipynb\"><img src=\"data:image/png;base64,iVBORw0KGgoAAAANSUhEUgAAAGAAAAAVBAMAAABLWfZ5AAAAMFBMVEX///8AAAAAAAAAAAAAAAAA\n",
       "AAAAAAAAAAAAAAAAAAAAAAAAAAAAAAAAAAAAAAAAAAAv3aB7AAAAD3RSTlMAiasyIt1EEO9UdruZ\n",
       "zWZ7xlX5AAAACXBIWXMAAA7EAAAOxAGVKw4bAAABw0lEQVQ4y4WTOUsDQRTH/+uu2exmXaPglcb4\n",
       "DYKIaLcWFtEmlVoq4lHJ2qYxhZVYRMRKIQEFQS2CWomgWGjhDbZisLGTeCESPN4cWaK4OvCYNzPv\n",
       "N/OuAfyHU1JUXxPtonxVX1JCMT+gqiDmro0jDzABY98PyAhAzeLWAxSShB9w8MynSWDEA5IkTT72\n",
       "StcTn7OEesA8Sa8P0GO+ScDo94Awi80pN6upLSVh3/hgU6Bt89rlgL6RR9hMwGAUFoouxoDuQX1a\n",
       "S3PDtPogwrwfiXFAMVJ63nwVUduzdVHm7Qywa7ILYUF7lHmxcxzotBK2gxRwKALZUmOwKJOnCvdo\n",
       "/eSgKPMSKHDADWbpiKrQSstVOqGiBOmuxgZmp9NzL0wZpmqlRNAZV+H7czKNcWCKls1p4REwIPMS\n",
       "igrgFHEwf68kQMbVJI18NUFywxRqqA5HAMe4wyj1WE4CdJeVg33O2lFjXuyRoX6GQJ9svnEnbA+S\n",
       "YVoCLHk196tWhMz23l0sfl5Sq7WvRUrdqrbsrJBWKQtl/d4g5e2t8ruX5E7F/4Co0LbcGfoVSJYD\n",
       "nNYvfn6pb2P42wv8D+XlTg5/jmX8dJ1y+AUYoF1pY3JYygAAAABJRU5ErkJggg==\n",
       "\" style=\"display:inline;vertical-align:middle;\" /></a>"
      ],
      "text/plain": [
       "alpha . A . beta . |psi〉 . gamma"
      ]
     },
     "metadata": {},
     "output_type": "display_data"
    }
   ],
   "source": [
    "qmult1"
   ]
  },
  {
   "cell_type": "code",
   "execution_count": 33,
   "metadata": {},
   "outputs": [
    {
     "data": {
      "text/html": [
       "<strong id=\"qmult1_association\">qmult1_association:</strong> <span style=\"font-size:20px;\"><a class=\"ProveItLink\" href=\"../__pv_it/demonstrations/a96adf032fe1e70a10118c41779605949495a8190/expr.ipynb\"><img src=\"data:image/png;base64,iVBORw0KGgoAAAANSUhEUgAAADQAAAAUBAMAAAAw+gPuAAAAMFBMVEX///8AAAAAAAAAAAAAAAAA\n",
       "AAAAAAAAAAAAAAAAAAAAAAAAAAAAAAAAAAAAAAAAAAAv3aB7AAAAD3RSTlMAVN27EERm75mJq3Yi\n",
       "Ms2Hvvv4AAAACXBIWXMAAA7EAAAOxAGVKw4bAAAA1ElEQVQoz2NgwAJYJuu9PjsBmwzDrjIGj88N\n",
       "2GQ4tgJ1JGOVusHswMDAhSK1WUnpAYhewgyyLwFJJm4LlGFwAsoQ+uzAEAKkeZ5ABXgW3IQw2Com\n",
       "LWDYAGTwHYBK8U4IgzAOMzDY8l4AScEM5mmIhjCAFnhzgxjXlYDAAGzXSbj9nAdBpDOcb8KMkAJZ\n",
       "xcAE50eA/MUQAJYCBxf3BkRoLAASYC9yXgCLPET4/cUBRw2IKoiAl6kDPOTrNSBe4YKKRBpBAgoJ\n",
       "RDLgBFNxSxngljqAXRgAVG4uiC3eUoAAAAAASUVORK5CYII=\n",
       "\" style=\"display:inline;vertical-align:middle;\" /></a>, <a class=\"ProveItLink\" href=\"../../../../logic/sets/cartesian_products/__pv_it/theorems/79a768603778550c651661670153c27ee0a505870/expr.ipynb\"><img src=\"data:image/png;base64,iVBORw0KGgoAAAANSUhEUgAAAEYAAAATBAMAAADfQ2bzAAAAMFBMVEX///8AAAAAAAAAAAAAAAAA\n",
       "AAAAAAAAAAAAAAAAAAAAAAAAAAAAAAAAAAAAAAAAAAAv3aB7AAAAD3RSTlMARHarECKJuzJmVO/d\n",
       "mc2qKiq2AAAACXBIWXMAAA7EAAAOxAGVKw4bAAABD0lEQVQoz2NgIAAuMBAGBZSoYTlf/oSBbf9G\n",
       "vOawLxBmYPDHbxfzUbYJDNwMvOXl28srcalZzvCUgQe7OUw1Z86B1UQqxOFQw/jIAWpOgAVTAlwN\n",
       "o7JrUhFHWiFYKs4BZlcAO0MhXA0buxGD/0SG1WCpp3D3BHBc8PGBhbMgTwFDvALDfLDUA4Qahllc\n",
       "1TCeg78Aw3oHhnsgNseeM2fOHIeqYXawhrtzPQNIwTZw8BYgmcNi4ANXY8fAcIyB8SsLiH0ASQ1D\n",
       "EztczTYGlo8MzA8iQWwleFw0AMOqHcZj/cHA+YGBPSEBxOFbABUFM+7Bg+0AA9MFBsZLAWAHmYuA\n",
       "BTnebweSftjjiTEdEhcoAAAiLj7xf6vyygAAAABJRU5ErkJggg==\n",
       "\" style=\"display:inline;vertical-align:middle;\" /></a>, <a class=\"ProveItLink\" href=\"../../../../numbers/number_sets/natural_numbers/__pv_it/theorems/132c57ec1224a4beaf274a23bd799047020206590/expr.ipynb\"><img src=\"data:image/png;base64,iVBORw0KGgoAAAANSUhEUgAAAEEAAAATBAMAAAA9n32KAAAAMFBMVEX///8AAAAAAAAAAAAAAAAA\n",
       "AAAAAAAAAAAAAAAAAAAAAAAAAAAAAAAAAAAAAAAAAAAv3aB7AAAAD3RSTlMARHarECKJu90yVM1m\n",
       "75kejotwAAAACXBIWXMAAA7EAAAOxAGVKw4bAAAA90lEQVQoz2NgwAf4GAgBdrJVeHyvdmDI/SuA\n",
       "x4wqRgMGlg/4bLEIyGFguMDwvLy2vPwAVhVWBdwBDA3YzFDv6NgAok0PsW7AqkJaBcowZZ6ghlDB\n",
       "qOyaVAQWZ90CU2rKUMAuAFfBxm7E4B8AYnEHIFTMY2lpgIWpIEcBQ/wEsAoGhAqeBcsvwHgO/gIM\n",
       "6x1ArLkdQFAAUcFgwgxXwbCegcEazHBHMoPBmaUBzgVK/2EBMTiQVXAqFMC51xi4vrCBGEwKMKFK\n",
       "INaEq2D9ycC04SSYuQsmBmLwbYDxGBsYWGwWgJnOhWAXM8z+C9TPsgFbfIhVdGCKAwDDkzTgOh63\n",
       "3AAAAABJRU5ErkJggg==\n",
       "\" style=\"display:inline;vertical-align:middle;\" /></a>, <a class=\"ProveItLink\" href=\"../__pv_it/demonstrations/4827169ff5051c0ad90075d5d60d0692974558df0/expr.ipynb\"><img src=\"data:image/png;base64,iVBORw0KGgoAAAANSUhEUgAAADUAAAATBAMAAADCPVhoAAAAMFBMVEX///8AAAAAAAAAAAAAAAAA\n",
       "AAAAAAAAAAAAAAAAAAAAAAAAAAAAAAAAAAAAAAAAAAAv3aB7AAAAD3RSTlMAIol2mRAyZqtE3VS7\n",
       "ze8XF9CTAAAACXBIWXMAAA7EAAAOxAGVKw4bAAAA9UlEQVQoz2NgwAaCTt01TAKzhExcUaWY+wpY\n",
       "/Y+AWGwGDBWocs6TGBjYwXJBDAyzUKTYHI4CyRYQ04CBwQMiaLNq1QUgxRFwAEiGQ+S4l4Kl5ppC\n",
       "lPAwOkBN4Ew8cTcAxGC8ChWRYFOAspgYymclgBi8AlCRJM4CuBwD+wGwHMwtIpwGUFYw0NgPIEbe\n",
       "KiA4ALYPZuY0oF8fgBgxMH08YHeCAFANTwOIwQWT4wT7jxOIgT7KA7uC2QAeLjOAhC8DA6s7A+dK\n",
       "iNBteHiedWTdBfQjd6axMlQo4mQALB7O/XKEeAEOJp0ChxkcMDHgBsF45KbhlgIAuewwOfL5TtwA\n",
       "AAAASUVORK5CYII=\n",
       "\" style=\"display:inline;vertical-align:middle;\" /></a>, <a class=\"ProveItLink\" href=\"../__pv_it/demonstrations/209baac38918ef8b1210d5267967da66f42b39310/expr.ipynb\"><img src=\"data:image/png;base64,iVBORw0KGgoAAAANSUhEUgAAADYAAAAQBAMAAACvnpHFAAAAMFBMVEX///8AAAAAAAAAAAAAAAAA\n",
       "AAAAAAAAAAAAAAAAAAAAAAAAAAAAAAAAAAAAAAAAAAAv3aB7AAAAD3RSTlMAiasyIt1EEO9UdruZ\n",
       "zWZ7xlX5AAAACXBIWXMAAA7EAAAOxAGVKw4bAAAA10lEQVQY02NgwAbYpWNvOQtglWJY1MdQ8/sA\n",
       "VimeZUA9r7HL2XAXMDAwocqtDg29AKLVuUF2PkCWyl0OZWzwgQkJChmAaZbrUAEWBUMoyzWBvYVl\n",
       "ApDB6wAVYRbIg7K6GBj2cBWA5GAGsRzIgrr3AwPDWUYQyyIUCDaA7XOEyHEAeRLiIFY13FHbuSF0\n",
       "/QIGBnmQdQyscLkckP8YEhj4gXISYBGuBYhwUQASFxh4NjDwnWcGC91EBMIdh8oYkPfeLeeRAosU\n",
       "bSuAx0N/jANqOCZuhYQZFAAANPAuqY517tAAAAAASUVORK5CYII=\n",
       "\" style=\"display:inline;vertical-align:middle;\" /></a>, <a class=\"ProveItLink\" href=\"../__pv_it/demonstrations/053fb38df6fcf9baf4abe8cee7dd8e99b8a50fd80/expr.ipynb\"><img src=\"data:image/png;base64,iVBORw0KGgoAAAANSUhEUgAAAF0AAAASBAMAAADLUc9JAAAAMFBMVEX///8AAAAAAAAAAAAAAAAA\n",
       "AAAAAAAAAAAAAAAAAAAAAAAAAAAAAAAAAAAAAAAAAAAv3aB7AAAAD3RSTlMAIs1UmauJMnZmRLsQ\n",
       "3e++988cAAAACXBIWXMAAA7EAAAOxAGVKw4bAAABdklEQVQoz2NgIAjKGBhYBBiIAZyeFS0MDBwJ\n",
       "DJ4MDFOmdwR0bodKCKGr5Mm+pCGecHLdBD6gyR1sDQw8s14yPGVohUrro6tvfclw5LeDTBMD/wEG\n",
       "BjYNBgbGEwoM3xncILLM/9GUs3QlMDDMdmCIYFjHAFHPwNrA/oDhMlQ6Hs0/JdxAY1kdGJ4zuLAz\n",
       "MLSxTGBg4Cvg2MD4oQAsnZgPoRk49t69BKJjuEF+mMD4geG6OdS/8kAbODc4gGQZG/oNwMq5NA5A\n",
       "9G0QgfADGNomgMKTVYBhKQOTAGMEWJ6FwX4CJJigyhkDyvAF82KG+gQwQxEqwJ6wEp96Bwb5ADBD\n",
       "ASrA6LACj3KOLS7xG8DGvr179+5tsPvF8Kg/wcDAfwEcqRtgQnu48TqHgfcBmHUBJrQEFP4MC7Aq\n",
       "5wKGDdMHMLMDEb9AD7EoYFUvB8TcH8FMJgOYYLeKwOErWJWf/q/DwLz/EzhAeaLXwNPn+ytEpHmu\n",
       "bEh6wA0A6ehXuNCZSI8AAAAASUVORK5CYII=\n",
       "\" style=\"display:inline;vertical-align:middle;\" /></a>, <a class=\"ProveItLink\" href=\"../__pv_it/demonstrations/b9ff765654f5a9fab1a0f971ffbd46ba878d2ac30/expr.ipynb\"><img src=\"data:image/png;base64,iVBORw0KGgoAAAANSUhEUgAAAFAAAAAVBAMAAAAjqnRBAAAAMFBMVEX///8AAAAAAAAAAAAAAAAA\n",
       "AAAAAAAAAAAAAAAAAAAAAAAAAAAAAAAAAAAAAAAAAAAv3aB7AAAAD3RSTlMAIolEdjIQVJlm3e/N\n",
       "u6uczJRnAAAACXBIWXMAAA7EAAAOxAGVKw4bAAABgklEQVQoz2MQYIACVgbsgLMzxI9lbgCDMkyA\n",
       "NwBdCZvumiOiCpnWE7gfsDyAKmRhYGBvQFfot5Mh42+DmA8DfwCHAlQhExAvQFPH4azAwDC3geEJ\n",
       "QzQDVwFUYQoQq6MpjOBNYGDga2DYyuDLIM8KVVgKxLJQBb6rVh0A0c94Qe6cwPgBaOZcDqhCoCUM\n",
       "PJAAsHGDarggAaaYHzAcZJBzAypk85jAoMCygIEdpJqB8RhUHeODIBSXKDMwsW9gm8DyDeobHljA\n",
       "sipYoikM51jAKcCwgYGhGawQJsHYYIKmMIHbARg6wFCMA/GjVwHBBbAbhdAUMtQnMDGwOTAwFIH4\n",
       "uXCZa7zoCnsYxBlYgGF2EMTngstYgMKRwQBJYS/DNAZjoKPAFrI4IGLmAZA4gKTQWkCBE6iRqQAs\n",
       "cBxupO8JgfQVyFazPrriiLA073ICPPXsXyGArJCBFWxWBVTE6NaqA1jSJUghC9iMiwx4gTI0kTGw\n",
       "HSCskAXs3Qn4FbrCGHz41QEAUKNKBCB71lUAAAAASUVORK5CYII=\n",
       "\" style=\"display:inline;vertical-align:middle;\" /></a> <a class=\"ProveItLink\" href=\"../__pv_it/demonstrations/9bb57e514e656cec9e2eb14b914ab4c968301f7e0/proof.ipynb\" style=\"text-decoration: none\">&nbsp;&#x22A2;&nbsp;&nbsp;</a><a class=\"ProveItLink\" href=\"../__pv_it/demonstrations/7cdf2cab099016efb8d9d5c00a67d44fd146e3390/expr.ipynb\"><img src=\"data:image/png;base64,iVBORw0KGgoAAAANSUhEUgAAAQ4AAAAVBAMAAABF+R16AAAAMFBMVEX///8AAAAAAAAAAAAAAAAA\n",
       "AAAAAAAAAAAAAAAAAAAAAAAAAAAAAAAAAAAAAAAAAAAv3aB7AAAAD3RSTlMAInZUiRDNmWbv3US7\n",
       "qzJazP2FAAAACXBIWXMAAA7EAAAOxAGVKw4bAAADwElEQVRIx4WWTWgTQRTH/8nuNkkTY7AiWASj\n",
       "InoQ7UEURWxaK/iBuhQRBMEKVryZQ61FWwyCtoJCFMWDHgLiQYta/AA/oERBPGl78KwVTypq/ERE\n",
       "re/Nzu7O7k7qQJq+zfx/+9/33swsgBzqD++3rO6iMmJTRKpGCxTT4y0BwaxAtNn9JzPhX7yl8bFA\n",
       "E8W6ohotMJ2nP8uDwAPye+aig54sDhhFf0q8FLFhFDRRQ81HuRotEIsBqysInJRpy+O0JzPpU1Em\n",
       "dUd87NBFrTUF1a36CAMbbCSCD5d45VRwO/DAk3XSZ50yaTDio08XDXxWUIOqjzAwWUQqCGzb5tSN\n",
       "KjbgydbSZ44yKWWHfZQ1kTnzr4KSGj0Q57Ei2Oj5ZS1SbFzxZFzuBmWVNIQbxOjSRDPiXxWU1OiB\n",
       "2I8e/urYIrs3gVYxP/362T5byKxFJRTiFaf3jJtPkLZhjod8JPhHs+OlEgFF46eCkpoQEKt/27gL\n",
       "bCEnQPOIdSYm8nAbnwpOIw09mBAy0yhbpfh3p69O9lznXk+KBz58jcd1N0GxYezMNfnpSrdkvyko\n",
       "RxMGJi9sGufCncBlis4CT+OifkXMHZcNnawK2ZtEJZnjih+hW1Vp2X+ktJRD+Wikh0jlkSkudCNO\n",
       "beyPgpKaIJCb5HmWXK7CRVLQ+uo1xbp+euhVVTZ0uiZkdipvsj98oJ9tWHlyn62FfKRGgKME6iq4\n",
       "EbDk0MBvBSU1QSDIdyclGJ/YR4puvXG91EwX63qUblp22qrVNunu3n7XRg+bLmt8XKJHP2d7Pljy\n",
       "S0Gl3XyEgSbX8j7XZTdd3NbilAWNZdnQmXFH1osmTgT2OLJ2btdKqD+oEtYXQn71qkRlAa4qKEej\n",
       "AZq8qa/GY0oB/bdRtFbJ3Yypqd7mHFk/juOh6A0xOiBbRx0ZIrCPshfhnntGSJTURIEm1/IUrRgk\n",
       "qkge5fNvNkN4E7T6kB6Wsvu5QpISbcrjcKu/MP3Bi7Kf9szahBvF2NJYzkdJTRRosqYH7/gZhxYm\n",
       "KN+7JrthjP0ggfF+frsry754PI+TLW/Jx1PjSMhHlpJubjhm9+RlZI39sLFmcq+PkpookAuIYTRO\n",
       "aE5xUz33s8L4SnmFu6Y5IrhRN3JRzfWA03gbr/AR8x8fzs7ySL4qFCKnWvTkG9Sg+uoAcYdzUvJj\n",
       "dXSqPgTJfT0wR/wOUxs1Vy+SKFcTAYorfObt0vgYDeRDfffJRG4qhlWtF40GrUWAqMrcxPJTvJ8u\n",
       "hVJF91VynmbijCkiKJoIkN9Y4zn8AyVA9JDHpmy5AAAAAElFTkSuQmCC\n",
       "\" style=\"display:inline;vertical-align:middle;\" /></a></span><br>"
      ],
      "text/plain": [
       "<IPython.core.display.HTML object>"
      ]
     },
     "metadata": {},
     "output_type": "display_data"
    }
   ],
   "source": [
    "qmult1_association = qmult1.association(1, 2)"
   ]
  },
  {
   "cell_type": "code",
   "execution_count": 34,
   "metadata": {},
   "outputs": [
    {
     "data": {
      "text/html": [
       "<strong id=\"qmult1_associated\">qmult1_associated:</strong> <a class=\"ProveItLink\" href=\"../__pv_it/demonstrations/1924f2d3a5403aff24e6195acfe52100f29deb8c0/expr.ipynb\"><img src=\"data:image/png;base64,iVBORw0KGgoAAAANSUhEUgAAAHcAAAAVBAMAAACOK2zoAAAAMFBMVEX///8AAAAAAAAAAAAAAAAA\n",
       "AAAAAAAAAAAAAAAAAAAAAAAAAAAAAAAAAAAAAAAAAAAv3aB7AAAAD3RSTlMAiasyIt1EEO9UdruZ\n",
       "zWZ7xlX5AAAACXBIWXMAAA7EAAAOxAGVKw4bAAACNElEQVQ4y3WUz2vUQBTHX8w2s8mmcatSay/W\n",
       "/0BURG/poQfrJSioNxdKRTxIvBbEPXjqqaVHhS5YEGsPQQRBhNYe9KBdKwiexMWLHkqpvxARf3xn\n",
       "3osZUxOYvMyb+bw3832TIbKfGpWfuGTJparnDodYLzyXxA7mjsbBCtZvGtO/xd3RpacU9Gw4wJyV\n",
       "Cvgqm3mG3Q69I3ptww5aUgF32ax+MeYK0STRhg1Poe2rgNscfvSzsR2EIaqnFjyHdrJiyyzUePBd\n",
       "YP8sBOhZsNakP7aZgV0iYMh6rfi/tPGO3HuDrM6IwGqpR80gYVX98w/Iw+hYS12vzRiVTRJvxv3I\n",
       "4mxOImq0LrDjt1Uv+MaKfXh8SktP00SPArOxPhMipNonUTbKkKMt8PEwiWItyxOchAz1Poy5qMua\n",
       "YybUW/p99/nqD1HWw5i7JXBa72AaqnwI9U5JdSBoHdGH9hawgu+r7k1gDvJ4eWaaTx0zOssK7cE6\n",
       "r6G736yXlx2inRNlGxDLT3J4jU7olPSK4WG0nYCH5Njiky6jvdU9CHUs5n0z/Ize0wWzXy6SzpRR\n",
       "9IJ/FV2Vml7lMiDVJe9MUT/AF+NmhI05vEzabSJs3g6H+TAnpJZ/pnTj90ss9+ii8fa1ctg98HBB\n",
       "O+R4lH+Q09a3I3asONuuyXlTBkZK8MZ/4G4B82m4zw6vWYIb1rGdkrslK2ATT8lN4bRKsMqK74l/\n",
       "4w3yVUB/b4fGtv9qfJtnQeyt3LHDuu7+AAqIc3y9TABMAAAAAElFTkSuQmCC\n",
       "\" style=\"display:inline;vertical-align:middle;\" /></a><br>"
      ],
      "text/plain": [
       "<IPython.core.display.HTML object>"
      ]
     },
     "metadata": {},
     "output_type": "display_data"
    }
   ],
   "source": [
    "qmult1_associated = qmult1_association.rhs"
   ]
  },
  {
   "cell_type": "code",
   "execution_count": 35,
   "metadata": {},
   "outputs": [
    {
     "data": {
      "text/html": [
       "<span style=\"font-size:20px;\"><a class=\"ProveItLink\" href=\"../__pv_it/demonstrations/a96adf032fe1e70a10118c41779605949495a8190/expr.ipynb\"><img src=\"data:image/png;base64,iVBORw0KGgoAAAANSUhEUgAAADQAAAAUBAMAAAAw+gPuAAAAMFBMVEX///8AAAAAAAAAAAAAAAAA\n",
       "AAAAAAAAAAAAAAAAAAAAAAAAAAAAAAAAAAAAAAAAAAAv3aB7AAAAD3RSTlMAVN27EERm75mJq3Yi\n",
       "Ms2Hvvv4AAAACXBIWXMAAA7EAAAOxAGVKw4bAAAA1ElEQVQoz2NgwAJYJuu9PjsBmwzDrjIGj88N\n",
       "2GQ4tgJ1JGOVusHswMDAhSK1WUnpAYhewgyyLwFJJm4LlGFwAsoQ+uzAEAKkeZ5ABXgW3IQw2Com\n",
       "LWDYAGTwHYBK8U4IgzAOMzDY8l4AScEM5mmIhjCAFnhzgxjXlYDAAGzXSbj9nAdBpDOcb8KMkAJZ\n",
       "xcAE50eA/MUQAJYCBxf3BkRoLAASYC9yXgCLPET4/cUBRw2IKoiAl6kDPOTrNSBe4YKKRBpBAgoJ\n",
       "RDLgBFNxSxngljqAXRgAVG4uiC3eUoAAAAAASUVORK5CYII=\n",
       "\" style=\"display:inline;vertical-align:middle;\" /></a>, <a class=\"ProveItLink\" href=\"../../../../logic/sets/cartesian_products/__pv_it/theorems/79a768603778550c651661670153c27ee0a505870/expr.ipynb\"><img src=\"data:image/png;base64,iVBORw0KGgoAAAANSUhEUgAAAEYAAAATBAMAAADfQ2bzAAAAMFBMVEX///8AAAAAAAAAAAAAAAAA\n",
       "AAAAAAAAAAAAAAAAAAAAAAAAAAAAAAAAAAAAAAAAAAAv3aB7AAAAD3RSTlMARHarECKJuzJmVO/d\n",
       "mc2qKiq2AAAACXBIWXMAAA7EAAAOxAGVKw4bAAABD0lEQVQoz2NgIAAuMBAGBZSoYTlf/oSBbf9G\n",
       "vOawLxBmYPDHbxfzUbYJDNwMvOXl28srcalZzvCUgQe7OUw1Z86B1UQqxOFQw/jIAWpOgAVTAlwN\n",
       "o7JrUhFHWiFYKs4BZlcAO0MhXA0buxGD/0SG1WCpp3D3BHBc8PGBhbMgTwFDvALDfLDUA4Qahllc\n",
       "1TCeg78Aw3oHhnsgNseeM2fOHIeqYXawhrtzPQNIwTZw8BYgmcNi4ANXY8fAcIyB8SsLiH0ASQ1D\n",
       "EztczTYGlo8MzA8iQWwleFw0AMOqHcZj/cHA+YGBPSEBxOFbABUFM+7Bg+0AA9MFBsZLAWAHmYuA\n",
       "BTnebweSftjjiTEdEhcoAAAiLj7xf6vyygAAAABJRU5ErkJggg==\n",
       "\" style=\"display:inline;vertical-align:middle;\" /></a>, <a class=\"ProveItLink\" href=\"../../../../numbers/number_sets/natural_numbers/__pv_it/theorems/132c57ec1224a4beaf274a23bd799047020206590/expr.ipynb\"><img src=\"data:image/png;base64,iVBORw0KGgoAAAANSUhEUgAAAEEAAAATBAMAAAA9n32KAAAAMFBMVEX///8AAAAAAAAAAAAAAAAA\n",
       "AAAAAAAAAAAAAAAAAAAAAAAAAAAAAAAAAAAAAAAAAAAv3aB7AAAAD3RSTlMARHarECKJu90yVM1m\n",
       "75kejotwAAAACXBIWXMAAA7EAAAOxAGVKw4bAAAA90lEQVQoz2NgwAf4GAgBdrJVeHyvdmDI/SuA\n",
       "x4wqRgMGlg/4bLEIyGFguMDwvLy2vPwAVhVWBdwBDA3YzFDv6NgAok0PsW7AqkJaBcowZZ6ghlDB\n",
       "qOyaVAQWZ90CU2rKUMAuAFfBxm7E4B8AYnEHIFTMY2lpgIWpIEcBQ/wEsAoGhAqeBcsvwHgO/gIM\n",
       "6x1ArLkdQFAAUcFgwgxXwbCegcEazHBHMoPBmaUBzgVK/2EBMTiQVXAqFMC51xi4vrCBGEwKMKFK\n",
       "INaEq2D9ycC04SSYuQsmBmLwbYDxGBsYWGwWgJnOhWAXM8z+C9TPsgFbfIhVdGCKAwDDkzTgOh63\n",
       "3AAAAABJRU5ErkJggg==\n",
       "\" style=\"display:inline;vertical-align:middle;\" /></a>, <a class=\"ProveItLink\" href=\"../__pv_it/demonstrations/4827169ff5051c0ad90075d5d60d0692974558df0/expr.ipynb\"><img src=\"data:image/png;base64,iVBORw0KGgoAAAANSUhEUgAAADUAAAATBAMAAADCPVhoAAAAMFBMVEX///8AAAAAAAAAAAAAAAAA\n",
       "AAAAAAAAAAAAAAAAAAAAAAAAAAAAAAAAAAAAAAAAAAAv3aB7AAAAD3RSTlMAIol2mRAyZqtE3VS7\n",
       "ze8XF9CTAAAACXBIWXMAAA7EAAAOxAGVKw4bAAAA9UlEQVQoz2NgwAaCTt01TAKzhExcUaWY+wpY\n",
       "/Y+AWGwGDBWocs6TGBjYwXJBDAyzUKTYHI4CyRYQ04CBwQMiaLNq1QUgxRFwAEiGQ+S4l4Kl5ppC\n",
       "lPAwOkBN4Ew8cTcAxGC8ChWRYFOAspgYymclgBi8AlCRJM4CuBwD+wGwHMwtIpwGUFYw0NgPIEbe\n",
       "KiA4ALYPZuY0oF8fgBgxMH08YHeCAFANTwOIwQWT4wT7jxOIgT7KA7uC2QAeLjOAhC8DA6s7A+dK\n",
       "iNBteHiedWTdBfQjd6axMlQo4mQALB7O/XKEeAEOJp0ChxkcMDHgBsF45KbhlgIAuewwOfL5TtwA\n",
       "AAAASUVORK5CYII=\n",
       "\" style=\"display:inline;vertical-align:middle;\" /></a>, <a class=\"ProveItLink\" href=\"../__pv_it/demonstrations/209baac38918ef8b1210d5267967da66f42b39310/expr.ipynb\"><img src=\"data:image/png;base64,iVBORw0KGgoAAAANSUhEUgAAADYAAAAQBAMAAACvnpHFAAAAMFBMVEX///8AAAAAAAAAAAAAAAAA\n",
       "AAAAAAAAAAAAAAAAAAAAAAAAAAAAAAAAAAAAAAAAAAAv3aB7AAAAD3RSTlMAiasyIt1EEO9UdruZ\n",
       "zWZ7xlX5AAAACXBIWXMAAA7EAAAOxAGVKw4bAAAA10lEQVQY02NgwAbYpWNvOQtglWJY1MdQ8/sA\n",
       "VimeZUA9r7HL2XAXMDAwocqtDg29AKLVuUF2PkCWyl0OZWzwgQkJChmAaZbrUAEWBUMoyzWBvYVl\n",
       "ApDB6wAVYRbIg7K6GBj2cBWA5GAGsRzIgrr3AwPDWUYQyyIUCDaA7XOEyHEAeRLiIFY13FHbuSF0\n",
       "/QIGBnmQdQyscLkckP8YEhj4gXISYBGuBYhwUQASFxh4NjDwnWcGC91EBMIdh8oYkPfeLeeRAosU\n",
       "bSuAx0N/jANqOCZuhYQZFAAANPAuqY517tAAAAAASUVORK5CYII=\n",
       "\" style=\"display:inline;vertical-align:middle;\" /></a>, <a class=\"ProveItLink\" href=\"../__pv_it/demonstrations/053fb38df6fcf9baf4abe8cee7dd8e99b8a50fd80/expr.ipynb\"><img src=\"data:image/png;base64,iVBORw0KGgoAAAANSUhEUgAAAF0AAAASBAMAAADLUc9JAAAAMFBMVEX///8AAAAAAAAAAAAAAAAA\n",
       "AAAAAAAAAAAAAAAAAAAAAAAAAAAAAAAAAAAAAAAAAAAv3aB7AAAAD3RSTlMAIs1UmauJMnZmRLsQ\n",
       "3e++988cAAAACXBIWXMAAA7EAAAOxAGVKw4bAAABdklEQVQoz2NgIAjKGBhYBBiIAZyeFS0MDBwJ\n",
       "DJ4MDFOmdwR0bodKCKGr5Mm+pCGecHLdBD6gyR1sDQw8s14yPGVohUrro6tvfclw5LeDTBMD/wEG\n",
       "BjYNBgbGEwoM3xncILLM/9GUs3QlMDDMdmCIYFjHAFHPwNrA/oDhMlQ6Hs0/JdxAY1kdGJ4zuLAz\n",
       "MLSxTGBg4Cvg2MD4oQAsnZgPoRk49t69BKJjuEF+mMD4geG6OdS/8kAbODc4gGQZG/oNwMq5NA5A\n",
       "9G0QgfADGNomgMKTVYBhKQOTAGMEWJ6FwX4CJJigyhkDyvAF82KG+gQwQxEqwJ6wEp96Bwb5ADBD\n",
       "ASrA6LACj3KOLS7xG8DGvr179+5tsPvF8Kg/wcDAfwEcqRtgQnu48TqHgfcBmHUBJrQEFP4MC7Aq\n",
       "5wKGDdMHMLMDEb9AD7EoYFUvB8TcH8FMJgOYYLeKwOErWJWf/q/DwLz/EzhAeaLXwNPn+ytEpHmu\n",
       "bEh6wA0A6ehXuNCZSI8AAAAASUVORK5CYII=\n",
       "\" style=\"display:inline;vertical-align:middle;\" /></a>, <a class=\"ProveItLink\" href=\"../__pv_it/demonstrations/b9ff765654f5a9fab1a0f971ffbd46ba878d2ac30/expr.ipynb\"><img src=\"data:image/png;base64,iVBORw0KGgoAAAANSUhEUgAAAFAAAAAVBAMAAAAjqnRBAAAAMFBMVEX///8AAAAAAAAAAAAAAAAA\n",
       "AAAAAAAAAAAAAAAAAAAAAAAAAAAAAAAAAAAAAAAAAAAv3aB7AAAAD3RSTlMAIolEdjIQVJlm3e/N\n",
       "u6uczJRnAAAACXBIWXMAAA7EAAAOxAGVKw4bAAABgklEQVQoz2MQYIACVgbsgLMzxI9lbgCDMkyA\n",
       "NwBdCZvumiOiCpnWE7gfsDyAKmRhYGBvQFfot5Mh42+DmA8DfwCHAlQhExAvQFPH4azAwDC3geEJ\n",
       "QzQDVwFUYQoQq6MpjOBNYGDga2DYyuDLIM8KVVgKxLJQBb6rVh0A0c94Qe6cwPgBaOZcDqhCoCUM\n",
       "PJAAsHGDarggAaaYHzAcZJBzAypk85jAoMCygIEdpJqB8RhUHeODIBSXKDMwsW9gm8DyDeobHljA\n",
       "sipYoikM51jAKcCwgYGhGawQJsHYYIKmMIHbARg6wFCMA/GjVwHBBbAbhdAUMtQnMDGwOTAwFIH4\n",
       "uXCZa7zoCnsYxBlYgGF2EMTngstYgMKRwQBJYS/DNAZjoKPAFrI4IGLmAZA4gKTQWkCBE6iRqQAs\n",
       "cBxupO8JgfQVyFazPrriiLA073ICPPXsXyGArJCBFWxWBVTE6NaqA1jSJUghC9iMiwx4gTI0kTGw\n",
       "HSCskAXs3Qn4FbrCGHz41QEAUKNKBCB71lUAAAAASUVORK5CYII=\n",
       "\" style=\"display:inline;vertical-align:middle;\" /></a> <a class=\"ProveItLink\" href=\"../__pv_it/demonstrations/14cdaff8d94dc4aaf780ec7b3ec8a4a7691a38c70/proof.ipynb\" style=\"text-decoration: none\">&nbsp;&#x22A2;&nbsp;&nbsp;</a><a class=\"ProveItLink\" href=\"../__pv_it/demonstrations/a9e2f86f9a4e65ae5b5fc7f4519e93931299af750/expr.ipynb\"><img src=\"data:image/png;base64,iVBORw0KGgoAAAANSUhEUgAAAQ4AAAAVBAMAAABF+R16AAAAMFBMVEX///8AAAAAAAAAAAAAAAAA\n",
       "AAAAAAAAAAAAAAAAAAAAAAAAAAAAAAAAAAAAAAAAAAAv3aB7AAAAD3RSTlMAInZUiRDNmWbv3US7\n",
       "qzJazP2FAAAACXBIWXMAAA7EAAAOxAGVKw4bAAAD+ElEQVRIx31WTYgURxR+/bfdu63joCJEFpyI\n",
       "ixpE5yCKEtzOmhxMIjaLmBwWNBDFm3tQV9TF8aAIJrArSA65DEgORpAhGogbMLN78aQ7B8nVMZ5U\n",
       "xBXjImKyvqp6Xf1ez2jBUPPqdX311fstACgDH1LC4RRmgHan8sMQ3XSl4hFulX9H0op8Ja6Y2W9k\n",
       "K/c6lV0g7CEHuPRV9mdRu4CyWewi6QhhDI2lsE7wwC1b2ffrOnlIQOiZM/PytccsDxfAG5UogaBL\n",
       "krdgxH8gakFPynkkAH38lLRIQwICDBoepQr8aHn4+KtLlLDGN5EUPtB+DBKI6xCNMh4B2sNnho9G\n",
       "izwkIMD4Cz3tBZiyPIbxtxMESq/YRNJne9pkvrAFcJnx8FDhNNmOy0UeEhD85f9n/hy3PHbgrx8E\n",
       "yhaxy0hOZVOVeGxHux9mPJRF4Tu243CRhwSEpe5L4uH9YnkkyhdlgXJUTZ/vpug9akwLg9q4t/v/\n",
       "PojT7ozH8Ank8QlF4va3KfyeKdmQgDDqvdYp8fDuoVTzCNbWIHHr4CUCRd1nZSOYdKr57W7Ac/1R\n",
       "El28jtP5jEeyDb6FTakO1OinL1vK2FoZ/qpHK4PIAeNq6V9jxwtTbc3D9yaCmvvKBGqOcgWlSwB3\n",
       "XB34V8wdYFWLzPcDTtuIR6l6Es4q/4cN7d57pXamZEMChuD8R/6MmprHo7AelWEC4BRwlJ/xW8ys\n",
       "49rxSsKwuDP2oEm58RfOz4lHgPgJIkMJWQ5g1LtWyYYE3DA2/pYyJJ7TPNLeiq+uCs+Ao+C2Xjx0\n",
       "1xc5D9yzRBktRqLrcb6V+cV7hTxQa1wL/jKrlDxyQHWVNzrU8HoTJk4HU1+vU70jFDTjflzcU7VG\n",
       "VVz7Jig37qpYyniEB9DpAzbU/Uqm5PEhANF4cJVcvKhleByHZaCcRllHKDN4efy3yyzOKDPUqBj3\n",
       "oAcmwcSI4dGM0rhhU99PrJINAfhH1iOwyD4uGx6n4Rz8mVchQsG8C5sQnTH9T2XhR6oLqSL4TQ2m\n",
       "GjaZkUc86cPFvBT6batkgwM6yqyzeH5wAuJr1OdulZOokVdlQnmisv3CQDikF1EaWTgI3uw8stzx\n",
       "2xrdTq/ZOvbs69XlvDWEuZINBhjMzqfw6cL3GFFPVw9l/bZ0f+ZjyLsUofS1OYiQEmq69byePtK1\n",
       "nXrK4lz5Pghb3XnfL2lLZF2bUGSjElIiGpfmMaCfDlSRb3bpat06X5GHqSzTIFGmxQYmBfTG6Wfv\n",
       "D01tH8Ps7zxzuguPYc7DF8+DDGVEbGBS3Ba4mkeFv32a3Q8d6cLjtrCHLpa1AoojnnZOx0PPJS+4\n",
       "1u+t/K3pdnmLOpUPvE83AgsLhvIOr+X4UDqXpWkAAAAASUVORK5CYII=\n",
       "\" style=\"display:inline;vertical-align:middle;\" /></a></span>"
      ],
      "text/plain": [
       "{gamma in Complex, m in NaturalPos, n in NaturalPos, beta in Complex, alpha in Complex, A in Complex^{n x m}, |psi〉 in Complex^{m}} |- (alpha . (A . beta) . |psi〉 . gamma) = (alpha . A . beta . |psi〉 . gamma)"
      ]
     },
     "metadata": {},
     "output_type": "display_data"
    }
   ],
   "source": [
    "qmult1_associated.disassociation(1)"
   ]
  },
  {
   "cell_type": "code",
   "execution_count": 36,
   "metadata": {},
   "outputs": [
    {
     "data": {
      "text/html": [
       "<a class=\"ProveItLink\" href=\"../__pv_it/demonstrations/0c73256043b53c6764b287879ab8abf235377f520/expr.ipynb\"><img src=\"data:image/png;base64,iVBORw0KGgoAAAANSUhEUgAAAKkAAAAVBAMAAADP89MSAAAAMFBMVEX///8AAAAAAAAAAAAAAAAA\n",
       "AAAAAAAAAAAAAAAAAAAAAAAAAAAAAAAAAAAAAAAAAAAv3aB7AAAAD3RSTlMAMiK7iVTdmRDNdmZE\n",
       "q+96N/emAAAACXBIWXMAAA7EAAAOxAGVKw4bAAACq0lEQVQ4y42VQWgTQRSG/2x2m83upsaDF0UM\n",
       "FA9ebDzpRbpqvUTBCGJPtfWuNGBpkQoueBArSPBU8eAKIrUFG/SgSJF4UFAopnjyVG09eWqUStVD\n",
       "ffNmNt1sdoNzmJ28nffNzP+/zALIQ7UCujWtNcpH3sQBtGIwOh0FHQj/0OvB6FBkuXaAdnWN6Ho5\n",
       "kfpApZUmvRbVB4baZ0UAOpZodg+SqMaWfO6G3WhR3XAGtwgg54l+KJGaWWGhTBfOaEA1/fDmEAOw\n",
       "Gu0qRanHz7APFvFbezXyYSERAzA3RFdNomr+QllRz7d01UV3NzytAzBAk60asBN4/9NTYg8uBwJg\n",
       "pCaeb/o+z8gamJ4i6mPgHO967AicGMDwSFFqXUHq/pLLQe0S7hT2M/Ut9rnsj714UVLdC7iNBU/6\n",
       "83r8sjhGFGBXc5vAEmuVA4oc7PWRrswytYL+hnL9OVNT5Qk8Qy+dos7ipvO0xyigv2A0gWus1UsB\n",
       "EcHrlFPlLVqHJ1eKyvWPTDXxnZbIAClazfLoDb2KAj4hRdR5tsMXySK4RnO+ccVNAzuooOCQ60+l\n",
       "AsYmUSluuKpIhJsRwF+k1oFbwhbKzLDY5h9K31ACoOeLcv2opGaqWhkkT1b94UuiiwCapCyQLiBT\n",
       "y8BcloUhqIIFh6zN0qrI0olXFbVoew5p2qeqZFB0EUAT2bI8zb0neybqMngFeLEuiv+gSPhB3c0a\n",
       "3tUl1VnVsUjDk4p6jCusHVDCsIiSdvbYL1cVsX7qlTdOJtzYmoEx8JvCZz888oM7a++JuYJMCUTq\n",
       "BMyx6GLhqfg7K7hOtm/CXby7igpx4cUDhEhf/5c6q5Tk5rjJgKzHtZBENf0w1VWuh+/xWIDtwxpN\n",
       "pjr5MIOXmFeRdDdAA5rMfNj1u2Xl0Sbn9pesE/APovy3h3TH9JEAAAAASUVORK5CYII=\n",
       "\" style=\"display:inline;vertical-align:middle;\" /></a>"
      ],
      "text/plain": [
       "〈varphi| . alpha . A . beta . |psi〉 . gamma . 〈varphi| . delta"
      ]
     },
     "metadata": {},
     "output_type": "display_data"
    }
   ],
   "source": [
    "qmult2"
   ]
  },
  {
   "cell_type": "code",
   "execution_count": 37,
   "metadata": {},
   "outputs": [
    {
     "data": {
      "text/html": [
       "<span style=\"font-size:20px;\"><a class=\"ProveItLink\" href=\"../__pv_it/demonstrations/6f005ee107395200ff7f4bc83791582bbb4e0f640/expr.ipynb\"><img src=\"data:image/png;base64,iVBORw0KGgoAAAANSUhEUgAAADIAAAAQBAMAAACmdTG/AAAAMFBMVEX///8AAAAAAAAAAAAAAAAA\n",
       "AAAAAAAAAAAAAAAAAAAAAAAAAAAAAAAAAAAAAAAAAAAv3aB7AAAAD3RSTlMAIpnN77uJRKsQdlRm\n",
       "Mt3eazepAAAACXBIWXMAAA7EAAAOxAGVKw4bAAAA4UlEQVQY02NgYBAyCWRAAZypj61kE4CMBPZO\n",
       "VJkVPgyTvioAGWjiDEzLgeqPgmRWoMlcYp3AwMABkpm/ASKy9N07AxDdyQqy6wCQYP0JliheCdUT\n",
       "IARlcHd/BVGMllA+Y8M1KOswQz/QXAZmASifN6EGquQjw/4LIBmYAxgVqiAMjgCG+yCZK++AIABs\n",
       "jxhEhv8Aw30QPRXu6khWCD3/AtAmIOCDyxSB/MNQwMB/gcEaxOdagAiDBiBhwMC2gLsBLGAN17TU\n",
       "SGD2IyCdtQzCnxE+AR7W/o8EkMOrLA4SOlAAAESKNoXM75SxAAAAAElFTkSuQmCC\n",
       "\" style=\"display:inline;vertical-align:middle;\" /></a>, <a class=\"ProveItLink\" href=\"../../../../logic/sets/cartesian_products/__pv_it/theorems/79a768603778550c651661670153c27ee0a505870/expr.ipynb\"><img src=\"data:image/png;base64,iVBORw0KGgoAAAANSUhEUgAAAEYAAAATBAMAAADfQ2bzAAAAMFBMVEX///8AAAAAAAAAAAAAAAAA\n",
       "AAAAAAAAAAAAAAAAAAAAAAAAAAAAAAAAAAAAAAAAAAAv3aB7AAAAD3RSTlMARHarECKJuzJmVO/d\n",
       "mc2qKiq2AAAACXBIWXMAAA7EAAAOxAGVKw4bAAABD0lEQVQoz2NgIAAuMBAGBZSoYTlf/oSBbf9G\n",
       "vOawLxBmYPDHbxfzUbYJDNwMvOXl28srcalZzvCUgQe7OUw1Z86B1UQqxOFQw/jIAWpOgAVTAlwN\n",
       "o7JrUhFHWiFYKs4BZlcAO0MhXA0buxGD/0SG1WCpp3D3BHBc8PGBhbMgTwFDvALDfLDUA4Qahllc\n",
       "1TCeg78Aw3oHhnsgNseeM2fOHIeqYXawhrtzPQNIwTZw8BYgmcNi4ANXY8fAcIyB8SsLiH0ASQ1D\n",
       "EztczTYGlo8MzA8iQWwleFw0AMOqHcZj/cHA+YGBPSEBxOFbABUFM+7Bg+0AA9MFBsZLAWAHmYuA\n",
       "BTnebweSftjjiTEdEhcoAAAiLj7xf6vyygAAAABJRU5ErkJggg==\n",
       "\" style=\"display:inline;vertical-align:middle;\" /></a>, <a class=\"ProveItLink\" href=\"../__pv_it/demonstrations/4827169ff5051c0ad90075d5d60d0692974558df0/expr.ipynb\"><img src=\"data:image/png;base64,iVBORw0KGgoAAAANSUhEUgAAADUAAAATBAMAAADCPVhoAAAAMFBMVEX///8AAAAAAAAAAAAAAAAA\n",
       "AAAAAAAAAAAAAAAAAAAAAAAAAAAAAAAAAAAAAAAAAAAv3aB7AAAAD3RSTlMAIol2mRAyZqtE3VS7\n",
       "ze8XF9CTAAAACXBIWXMAAA7EAAAOxAGVKw4bAAAA9UlEQVQoz2NgwAaCTt01TAKzhExcUaWY+wpY\n",
       "/Y+AWGwGDBWocs6TGBjYwXJBDAyzUKTYHI4CyRYQ04CBwQMiaLNq1QUgxRFwAEiGQ+S4l4Kl5ppC\n",
       "lPAwOkBN4Ew8cTcAxGC8ChWRYFOAspgYymclgBi8AlCRJM4CuBwD+wGwHMwtIpwGUFYw0NgPIEbe\n",
       "KiA4ALYPZuY0oF8fgBgxMH08YHeCAFANTwOIwQWT4wT7jxOIgT7KA7uC2QAeLjOAhC8DA6s7A+dK\n",
       "iNBteHiedWTdBfQjd6axMlQo4mQALB7O/XKEeAEOJp0ChxkcMDHgBsF45KbhlgIAuewwOfL5TtwA\n",
       "AAAASUVORK5CYII=\n",
       "\" style=\"display:inline;vertical-align:middle;\" /></a>, <a class=\"ProveItLink\" href=\"../../../../numbers/number_sets/natural_numbers/__pv_it/theorems/132c57ec1224a4beaf274a23bd799047020206590/expr.ipynb\"><img src=\"data:image/png;base64,iVBORw0KGgoAAAANSUhEUgAAAEEAAAATBAMAAAA9n32KAAAAMFBMVEX///8AAAAAAAAAAAAAAAAA\n",
       "AAAAAAAAAAAAAAAAAAAAAAAAAAAAAAAAAAAAAAAAAAAv3aB7AAAAD3RSTlMARHarECKJu90yVM1m\n",
       "75kejotwAAAACXBIWXMAAA7EAAAOxAGVKw4bAAAA90lEQVQoz2NgwAf4GAgBdrJVeHyvdmDI/SuA\n",
       "x4wqRgMGlg/4bLEIyGFguMDwvLy2vPwAVhVWBdwBDA3YzFDv6NgAok0PsW7AqkJaBcowZZ6ghlDB\n",
       "qOyaVAQWZ90CU2rKUMAuAFfBxm7E4B8AYnEHIFTMY2lpgIWpIEcBQ/wEsAoGhAqeBcsvwHgO/gIM\n",
       "6x1ArLkdQFAAUcFgwgxXwbCegcEazHBHMoPBmaUBzgVK/2EBMTiQVXAqFMC51xi4vrCBGEwKMKFK\n",
       "INaEq2D9ycC04SSYuQsmBmLwbYDxGBsYWGwWgJnOhWAXM8z+C9TPsgFbfIhVdGCKAwDDkzTgOh63\n",
       "3AAAAABJRU5ErkJggg==\n",
       "\" style=\"display:inline;vertical-align:middle;\" /></a>, <a class=\"ProveItLink\" href=\"../__pv_it/demonstrations/209baac38918ef8b1210d5267967da66f42b39310/expr.ipynb\"><img src=\"data:image/png;base64,iVBORw0KGgoAAAANSUhEUgAAADYAAAAQBAMAAACvnpHFAAAAMFBMVEX///8AAAAAAAAAAAAAAAAA\n",
       "AAAAAAAAAAAAAAAAAAAAAAAAAAAAAAAAAAAAAAAAAAAv3aB7AAAAD3RSTlMAiasyIt1EEO9UdruZ\n",
       "zWZ7xlX5AAAACXBIWXMAAA7EAAAOxAGVKw4bAAAA10lEQVQY02NgwAbYpWNvOQtglWJY1MdQ8/sA\n",
       "VimeZUA9r7HL2XAXMDAwocqtDg29AKLVuUF2PkCWyl0OZWzwgQkJChmAaZbrUAEWBUMoyzWBvYVl\n",
       "ApDB6wAVYRbIg7K6GBj2cBWA5GAGsRzIgrr3AwPDWUYQyyIUCDaA7XOEyHEAeRLiIFY13FHbuSF0\n",
       "/QIGBnmQdQyscLkckP8YEhj4gXISYBGuBYhwUQASFxh4NjDwnWcGC91EBMIdh8oYkPfeLeeRAosU\n",
       "bSuAx0N/jANqOCZuhYQZFAAANPAuqY517tAAAAAASUVORK5CYII=\n",
       "\" style=\"display:inline;vertical-align:middle;\" /></a>, <a class=\"ProveItLink\" href=\"../__pv_it/demonstrations/55701387f25fde525e21ebc18286978696667feb0/expr.ipynb\"><img src=\"data:image/png;base64,iVBORw0KGgoAAAANSUhEUgAAAEwAAAAVBAMAAAAeOBUnAAAAMFBMVEX///8AAAAAAAAAAAAAAAAA\n",
       "AAAAAAAAAAAAAAAAAAAAAAAAAAAAAAAAAAAAAAAAAAAv3aB7AAAAD3RSTlMAIolEdjLNuxCZZqtU\n",
       "3e8Ziz2RAAAACXBIWXMAAA7EAAAOxAGVKw4bAAABZ0lEQVQoz2MQYIACVgbsgGtWiCcDgzKMyx6A\n",
       "roBD/VqKqEKX3QI+AYQyngnoyrxfMXR+nyDhxsDfgFDGcAFNFaezAgPD8gkMWxjskCxl0EFTFsne\n",
       "wMDAPYHhKcNMViRl4lDa/e7dBBC9gx3kvgWMHxiuHkVSxgbxtJkHlF8gCaaYNzA4LQApCwXKfW9g\n",
       "4FEAiTJmQFUxbghCcgFQ2QQG1ixrBagf2GAByapghaKMJ4CBG2gFA8NksDKYBOMEExRlTAwMK0BG\n",
       "MkSD+HF3gaAA7DYhFGUsDAwODBwODAyHQPx2uEwFO4oyTgbmAAZOYBglgvi8cBlLULgxGMCVLeBk\n",
       "4NgKdAzYKhYHRCxsABIJcJ+muUXNBWpiOgAWyIEb554p0HMTESBc9/8qIKzrLm6Ap5D3NwUQyhhm\n",
       "gVknoSJGtXcTMFIdSNlTMKuQAQ8AKmP9ALYigYAyFnAssSzAp8wVGBLg5M2NTxUAn11FpH3bB28A\n",
       "AAAASUVORK5CYII=\n",
       "\" style=\"display:inline;vertical-align:middle;\" /></a>, <a class=\"ProveItLink\" href=\"../__pv_it/demonstrations/053fb38df6fcf9baf4abe8cee7dd8e99b8a50fd80/expr.ipynb\"><img src=\"data:image/png;base64,iVBORw0KGgoAAAANSUhEUgAAAF0AAAASBAMAAADLUc9JAAAAMFBMVEX///8AAAAAAAAAAAAAAAAA\n",
       "AAAAAAAAAAAAAAAAAAAAAAAAAAAAAAAAAAAAAAAAAAAv3aB7AAAAD3RSTlMAIs1UmauJMnZmRLsQ\n",
       "3e++988cAAAACXBIWXMAAA7EAAAOxAGVKw4bAAABdklEQVQoz2NgIAjKGBhYBBiIAZyeFS0MDBwJ\n",
       "DJ4MDFOmdwR0bodKCKGr5Mm+pCGecHLdBD6gyR1sDQw8s14yPGVohUrro6tvfclw5LeDTBMD/wEG\n",
       "BjYNBgbGEwoM3xncILLM/9GUs3QlMDDMdmCIYFjHAFHPwNrA/oDhMlQ6Hs0/JdxAY1kdGJ4zuLAz\n",
       "MLSxTGBg4Cvg2MD4oQAsnZgPoRk49t69BKJjuEF+mMD4geG6OdS/8kAbODc4gGQZG/oNwMq5NA5A\n",
       "9G0QgfADGNomgMKTVYBhKQOTAGMEWJ6FwX4CJJigyhkDyvAF82KG+gQwQxEqwJ6wEp96Bwb5ADBD\n",
       "ASrA6LACj3KOLS7xG8DGvr179+5tsPvF8Kg/wcDAfwEcqRtgQnu48TqHgfcBmHUBJrQEFP4MC7Aq\n",
       "5wKGDdMHMLMDEb9AD7EoYFUvB8TcH8FMJgOYYLeKwOErWJWf/q/DwLz/EzhAeaLXwNPn+ytEpHmu\n",
       "bEh6wA0A6ehXuNCZSI8AAAAASUVORK5CYII=\n",
       "\" style=\"display:inline;vertical-align:middle;\" /></a>, <a class=\"ProveItLink\" href=\"../__pv_it/demonstrations/b9ff765654f5a9fab1a0f971ffbd46ba878d2ac30/expr.ipynb\"><img src=\"data:image/png;base64,iVBORw0KGgoAAAANSUhEUgAAAFAAAAAVBAMAAAAjqnRBAAAAMFBMVEX///8AAAAAAAAAAAAAAAAA\n",
       "AAAAAAAAAAAAAAAAAAAAAAAAAAAAAAAAAAAAAAAAAAAv3aB7AAAAD3RSTlMAIolEdjIQVJlm3e/N\n",
       "u6uczJRnAAAACXBIWXMAAA7EAAAOxAGVKw4bAAABgklEQVQoz2MQYIACVgbsgLMzxI9lbgCDMkyA\n",
       "NwBdCZvumiOiCpnWE7gfsDyAKmRhYGBvQFfot5Mh42+DmA8DfwCHAlQhExAvQFPH4azAwDC3geEJ\n",
       "QzQDVwFUYQoQq6MpjOBNYGDga2DYyuDLIM8KVVgKxLJQBb6rVh0A0c94Qe6cwPgBaOZcDqhCoCUM\n",
       "PJAAsHGDarggAaaYHzAcZJBzAypk85jAoMCygIEdpJqB8RhUHeODIBSXKDMwsW9gm8DyDeobHljA\n",
       "sipYoikM51jAKcCwgYGhGawQJsHYYIKmMIHbARg6wFCMA/GjVwHBBbAbhdAUMtQnMDGwOTAwFIH4\n",
       "uXCZa7zoCnsYxBlYgGF2EMTngstYgMKRwQBJYS/DNAZjoKPAFrI4IGLmAZA4gKTQWkCBE6iRqQAs\n",
       "cBxupO8JgfQVyFazPrriiLA073ICPPXsXyGArJCBFWxWBVTE6NaqA1jSJUghC9iMiwx4gTI0kTGw\n",
       "HSCskAXs3Qn4FbrCGHz41QEAUKNKBCB71lUAAAAASUVORK5CYII=\n",
       "\" style=\"display:inline;vertical-align:middle;\" /></a>, <a class=\"ProveItLink\" href=\"../__pv_it/demonstrations/a96adf032fe1e70a10118c41779605949495a8190/expr.ipynb\"><img src=\"data:image/png;base64,iVBORw0KGgoAAAANSUhEUgAAADQAAAAUBAMAAAAw+gPuAAAAMFBMVEX///8AAAAAAAAAAAAAAAAA\n",
       "AAAAAAAAAAAAAAAAAAAAAAAAAAAAAAAAAAAAAAAAAAAv3aB7AAAAD3RSTlMAVN27EERm75mJq3Yi\n",
       "Ms2Hvvv4AAAACXBIWXMAAA7EAAAOxAGVKw4bAAAA1ElEQVQoz2NgwAJYJuu9PjsBmwzDrjIGj88N\n",
       "2GQ4tgJ1JGOVusHswMDAhSK1WUnpAYhewgyyLwFJJm4LlGFwAsoQ+uzAEAKkeZ5ABXgW3IQw2Com\n",
       "LWDYAGTwHYBK8U4IgzAOMzDY8l4AScEM5mmIhjCAFnhzgxjXlYDAAGzXSbj9nAdBpDOcb8KMkAJZ\n",
       "xcAE50eA/MUQAJYCBxf3BkRoLAASYC9yXgCLPET4/cUBRw2IKoiAl6kDPOTrNSBe4YKKRBpBAgoJ\n",
       "RDLgBFNxSxngljqAXRgAVG4uiC3eUoAAAAAASUVORK5CYII=\n",
       "\" style=\"display:inline;vertical-align:middle;\" /></a> <a class=\"ProveItLink\" href=\"../__pv_it/demonstrations/6f6f15b7b69fc91921a5235b689c8d8966b89abd0/proof.ipynb\" style=\"text-decoration: none\">&nbsp;&#x22A2;&nbsp;&nbsp;</a><a class=\"ProveItLink\" href=\"../__pv_it/demonstrations/9edb914e24ce7ec7242e2618e0157f08ae0371ef0/expr.ipynb\"><img src=\"data:image/png;base64,iVBORw0KGgoAAAANSUhEUgAAAaEAAAAVBAMAAAAdqkwmAAAAMFBMVEX///8AAAAAAAAAAAAAAAAA\n",
       "AAAAAAAAAAAAAAAAAAAAAAAAAAAAAAAAAAAAAAAAAAAv3aB7AAAAD3RSTlMAInZUiRDNmWbv3US7\n",
       "qzJazP2FAAAACXBIWXMAAA7EAAAOxAGVKw4bAAAFX0lEQVRYw41XXWgcVRQ+uzOzM7uzmQ5WBEux\n",
       "02hs9cHuQ7EotJnGCBatHUKpFipGIaVPdh/SdImVxoKkGoWN+NYiC9UXQ9OlgmAkcVsofardh9In\n",
       "aUcL4g9toyUiIonn3Htn9s7P/gzcyWbmnu87373n3HMGAGwA8EFcNnS6MuEvP/YmCWC3sbeSYKlX\n",
       "aG9BmkU6IfsnW8KpjeDxy3HgR+R/1Hrw64eYq1GAzMRZ+2KKl4/j2JgES6NqeVL0ZfPOhIx0O4GX\n",
       "2io6KhCGjnuhEw7AjuisGIAKi152KiFIcfH2QltFggoe3nIs9CSLVmXZvDMhDW0UHxSgnSJljf/9\n",
       "GYxm6IQrW7ArBtCH6mEsoegA3WrtFAVUlgOfhJ6oksWBHghx6LSUO9oq0m+z0NRcMGuBE5ojrxG7\n",
       "YgBZVA/TCUUVkFY8oUhQwX6AhdCTEWlXKz0Q4shHsyKuaPc+X2y+Hu6R4stxDCkA2gO85b24omok\n",
       "K+KKBBXF9HuhJ7ukzKv2QIjjWRCRl6oo42wrCUXPh3lEkQBvydMSANdxci6eSMpoJHRiigIqVKR8\n",
       "GQJR6uTslnk3QhzjwPPpHsA3/3kiz4ZvBZEAg8yvpY03x7gTIxVU9DQ/UEC5cAVMLwmwcxC3UG3G\n",
       "I5jc24qJ4oN59IpQNLzXj1KZP1077DFPtS1T4GZrwYlA5l0JcRwRaVYG68iiy95n5uCgvZ6hfA33\n",
       "GZxrzMxzRe5z8Dps83hqfjh+nrYvDmCM9q3QnaZMfkXXefrJNq1GvsMvMze4og11bTZTkqlUOL3g\n",
       "M0WqUtWmsivB0UDmXQlxnMMHiyw3+gAa7H3egWJ5gKGUYVNTbP7HTJFVmoT3Kfn0Okumon8vCbDJ\n",
       "VlbxSTW2RwX03Gyy3GhCkSv6FOBq1pOpMKaNBlN0R68ZNmXPu4F5d0IcZ4BZIM4HhErvT6K/o2y9\n",
       "sleP326I0+17pkhDH1xaZQvp0RXNcZIAP4KFBNZyTFG+zhfCBcNDCFKk45wJVaai081cZoq8vKMS\n",
       "JNwNzLsT4jjDYztLGYmO0/uzOP0zT6Cvoy03MQye4lGnrKBHI61yt7uUBPiHgZvVFEWUAA5NHmGK\n",
       "8ihiz4syFSzhpCrP+EFPZYu5PTTvSojjHD9/dPJaZ3mm/YWuPxBBB4WqON2ucUX6KIb9QHgAwRAk\n",
       "AVZZSCu1WB5R1NEhVSavjzFFb6K/+0oyFQV4sckVTcB62hZxrhZKPRDiuEw1wsZCq4N2i5+FpIiB\n",
       "m3QcUgTkcDtnhaKG4Zn1VpEYhiTAKuRKIhvkq0jxcokqZRne8JmidfhoT4QK0LXfbK7oBMbVd2Ht\n",
       "Y+bdCHHsFQ3T4Sd/nazz9yew9C7TcfMo2f6Jt9emYKHOFZmzKsxIhfxVSAIMwc7gsI40f03eRube\n",
       "fmd6jtcjvQHGSUum0ipgzok6863tGvWwPxHVoDMhjt9Fr2Vc+NcV9Up96ZQ3jgtyaG0MlOt/4+Nd\n",
       "F59wgqJ495V+W2q2eFMTA+inX4V4J2rVxLn70doXQYUdPj2gD8lUyh/9Q0HltG5c3tzq4axaD4Q4\n",
       "Cr5Y8Ep67x1W7rDM3wG5PeMLlwawIQEzL5pm1ksme++wNQ2BrJLcw833QIjDKIvO6fNeFQ2IQGaX\n",
       "yV+lAVQSMNPiwybv96iIV6pLknk3woqYn/OC6pGqSHNkRa7c2Qu3UgAyjQQOWwbspu5De0UjsiI1\n",
       "0sMx886EjPQQdRFYImrtFZm+7D+TtzVg4X9SAIrJz3KN+E4BtYVtFS1F9ghE19ky70zISDMOC84M\n",
       "9/qZjt/+2fBToBn79E8CbE6xf4g+zgAei4GlXiFQX8S8MyGO/wHoqKnSYxvCbgAAAABJRU5ErkJg\n",
       "gg==\n",
       "\" style=\"display:inline;vertical-align:middle;\" /></a></span>"
      ],
      "text/plain": [
       "{delta in Complex, m in NaturalPos, beta in Complex, n in NaturalPos, alpha in Complex, |varphi〉 in Complex^{n}, A in Complex^{n x m}, |psi〉 in Complex^{m}, gamma in Complex} |- (〈varphi| . alpha . A . beta . |psi〉 . gamma . 〈varphi| . delta) = (〈varphi| . alpha . A . beta . |psi〉 . (gamma . 〈varphi| . delta))"
      ]
     },
     "metadata": {},
     "output_type": "display_data"
    }
   ],
   "source": [
    "qmult2.association(5, 3)"
   ]
  },
  {
   "cell_type": "markdown",
   "metadata": {},
   "source": [
    "**If the Qmult is not well-formed, we expect an error:**"
   ]
  },
  {
   "cell_type": "code",
   "execution_count": 38,
   "metadata": {},
   "outputs": [
    {
     "data": {
      "text/html": [
       "<a class=\"ProveItLink\" href=\"../__pv_it/demonstrations/3999c116cceb73f89a2e956e615c934fd16df3030/expr.ipynb\"><img src=\"data:image/png;base64,iVBORw0KGgoAAAANSUhEUgAAAI4AAAAVBAMAAABicsu7AAAAMFBMVEX///8AAAAAAAAAAAAAAAAA\n",
       "AAAAAAAAAAAAAAAAAAAAAAAAAAAAAAAAAAAAAAAAAAAv3aB7AAAAD3RSTlMAiasyIt1EEO9UdruZ\n",
       "zWZ7xlX5AAAACXBIWXMAAA7EAAAOxAGVKw4bAAACoklEQVQ4y42UTWgTQRTH/9vE3exms0kFteZi\n",
       "6qWIhy4iogdJRDwUBeOlXiMl6s3YkxSkOXgSDxXxJjR+UdCiSxQEP6iIWEFaBQU/QFwEFURrUaFq\n",
       "0frezOxmt4jpQF5m9s3+5s3/vX3Af0YpmCQWOcJ1EksZK4NJ2o07dgYTrcJ214vrEeflheb6pgph\n",
       "2/hkyLEA826cszrOyek9Ue9vwPkp427gbcjR6FeOc8pxTk/80r/IPBTTw0A15AxFAxCjFZ7knIt5\n",
       "rW9kDvk8bQD3Qs6pqCCL5JKc4ZGYd5bM7pzkmHtDDj/JlKI7jyLOSc+x7Vwu8VmPTLFARt/YfF0T\n",
       "HGPcR84qwxT40/M1HKD/KySCC/3NDckx182T3VExjiU5sCLdBl9yQtmZqis4mlk3fGtOKuucWFHg\n",
       "K/PCBra+75acz+ilU48Dty0+/Sq/2luRGXI8wdlil50S6sADKdI1igN6QYhWQFpwkt8x6sImVaY4\n",
       "tZhg80NlSJ8VnFqqQT5KzwZajpGHigl2hUVzahQUczo8FF2k6OCuVfw2X9L5w7MBSl5d6jxa02DQ\n",
       "XU4qXfs4sT5nwuLzmJP1UaSc0aY1I0H5HPFUhtIFyZlCH/jWzxSH5TGecIh02KTgDLukELLk6QrL\n",
       "547YTfs2lyTnET5gP2ngKY7IG31N00QadGU8Ll7SZT04j/n7zZAiVVGoxjT0fvWdHizlHNqrqUrT\n",
       "RInQJTOvnn7ql/WjNUwOvnNmzM6TWhNf1966L8t+06V88L0num9eoNkyVXe2sLx6t7AnqMP82X+3\n",
       "Cy3aNxIikjPqSYfcQM9sv1XPWAJHlBaC/rJPdi9SK+W25QxFOQLKGYp2tufgVLfjDMTigaoYMVTa\n",
       "PgIX23PCcR4xWVodm9bbZa8JOshfOFKTtdO5LOoAAAAASUVORK5CYII=\n",
       "\" style=\"display:inline;vertical-align:middle;\" /></a>"
      ],
      "text/plain": [
       "alpha . D . beta . |psi〉 . gamma . 〈varphi| . delta"
      ]
     },
     "metadata": {},
     "output_type": "display_data"
    }
   ],
   "source": [
    "qmult_bad"
   ]
  },
  {
   "cell_type": "markdown",
   "metadata": {},
   "source": [
    "from proveit import UnsatisfiedPrerequisites\n",
    "try:\n",
    "    qmult_bad.association(2, 3)\n",
    "    assert False # expecting an error\n",
    "except UnsatisfiedPrerequisites as e:\n",
    "    print(\"Expected error: %s\"%e)"
   ]
  },
  {
   "cell_type": "markdown",
   "metadata": {},
   "source": [
    "### Factor out scalar factors\n",
    "\n",
    "Scalars are pulled to the front automatically with the default simplification directives.  This directive is currently disabled, however.  Here, we demonstrate doing this manually."
   ]
  },
  {
   "cell_type": "code",
   "execution_count": 39,
   "metadata": {},
   "outputs": [
    {
     "name": "stdout",
     "output_type": "stream",
     "text": [
      "Help on function factorization_of_scalars in module proveit.physics.quantum.algebra.qmult:\n",
      "\n",
      "factorization_of_scalars(self, **defaults_config)\n",
      "    Prove equality with a Qmult in which the complex\n",
      "    numbers are pulled to the front andassociated together via Mult.\n",
      "    For example,\n",
      "        (a A b B c C d D e) = ((a*b*c*d*e) A B C D)\n",
      "    where a, b, c, d, and e are complex numbers, '*' denotes\n",
      "    number multiplication, and spaces, here, denote the Qmult\n",
      "    operation.\n",
      "    \n",
      "    Also see scalar_mult_factorization.\n",
      "    \n",
      "    Keyword arguments are accepted for temporarily changing any\n",
      "    of the attributes of proveit.defaults.\n",
      "    \n",
      "    'scalars_factored' returns the right-hand side of 'factorization_of_scalars'.\n",
      "    'factor_scalars', called on an InnerExpr of a Judgment,\n",
      "    substitutes the right-hand side of 'factorization_of_scalars' for\n",
      "    the inner expression.\n",
      "\n"
     ]
    }
   ],
   "source": [
    "help(Qmult.factorization_of_scalars)"
   ]
  },
  {
   "cell_type": "code",
   "execution_count": 40,
   "metadata": {},
   "outputs": [
    {
     "data": {
      "text/html": [
       "<span style=\"font-size:20px;\"><a class=\"ProveItLink\" href=\"../__pv_it/demonstrations/a96adf032fe1e70a10118c41779605949495a8190/expr.ipynb\"><img src=\"data:image/png;base64,iVBORw0KGgoAAAANSUhEUgAAADQAAAAUBAMAAAAw+gPuAAAAMFBMVEX///8AAAAAAAAAAAAAAAAA\n",
       "AAAAAAAAAAAAAAAAAAAAAAAAAAAAAAAAAAAAAAAAAAAv3aB7AAAAD3RSTlMAVN27EERm75mJq3Yi\n",
       "Ms2Hvvv4AAAACXBIWXMAAA7EAAAOxAGVKw4bAAAA1ElEQVQoz2NgwAJYJuu9PjsBmwzDrjIGj88N\n",
       "2GQ4tgJ1JGOVusHswMDAhSK1WUnpAYhewgyyLwFJJm4LlGFwAsoQ+uzAEAKkeZ5ABXgW3IQw2Com\n",
       "LWDYAGTwHYBK8U4IgzAOMzDY8l4AScEM5mmIhjCAFnhzgxjXlYDAAGzXSbj9nAdBpDOcb8KMkAJZ\n",
       "xcAE50eA/MUQAJYCBxf3BkRoLAASYC9yXgCLPET4/cUBRw2IKoiAl6kDPOTrNSBe4YKKRBpBAgoJ\n",
       "RDLgBFNxSxngljqAXRgAVG4uiC3eUoAAAAAASUVORK5CYII=\n",
       "\" style=\"display:inline;vertical-align:middle;\" /></a>, <a class=\"ProveItLink\" href=\"../../../../logic/sets/cartesian_products/__pv_it/theorems/79a768603778550c651661670153c27ee0a505870/expr.ipynb\"><img src=\"data:image/png;base64,iVBORw0KGgoAAAANSUhEUgAAAEYAAAATBAMAAADfQ2bzAAAAMFBMVEX///8AAAAAAAAAAAAAAAAA\n",
       "AAAAAAAAAAAAAAAAAAAAAAAAAAAAAAAAAAAAAAAAAAAv3aB7AAAAD3RSTlMARHarECKJuzJmVO/d\n",
       "mc2qKiq2AAAACXBIWXMAAA7EAAAOxAGVKw4bAAABD0lEQVQoz2NgIAAuMBAGBZSoYTlf/oSBbf9G\n",
       "vOawLxBmYPDHbxfzUbYJDNwMvOXl28srcalZzvCUgQe7OUw1Z86B1UQqxOFQw/jIAWpOgAVTAlwN\n",
       "o7JrUhFHWiFYKs4BZlcAO0MhXA0buxGD/0SG1WCpp3D3BHBc8PGBhbMgTwFDvALDfLDUA4Qahllc\n",
       "1TCeg78Aw3oHhnsgNseeM2fOHIeqYXawhrtzPQNIwTZw8BYgmcNi4ANXY8fAcIyB8SsLiH0ASQ1D\n",
       "EztczTYGlo8MzA8iQWwleFw0AMOqHcZj/cHA+YGBPSEBxOFbABUFM+7Bg+0AA9MFBsZLAWAHmYuA\n",
       "BTnebweSftjjiTEdEhcoAAAiLj7xf6vyygAAAABJRU5ErkJggg==\n",
       "\" style=\"display:inline;vertical-align:middle;\" /></a>, <a class=\"ProveItLink\" href=\"../../../../numbers/number_sets/natural_numbers/__pv_it/theorems/132c57ec1224a4beaf274a23bd799047020206590/expr.ipynb\"><img src=\"data:image/png;base64,iVBORw0KGgoAAAANSUhEUgAAAEEAAAATBAMAAAA9n32KAAAAMFBMVEX///8AAAAAAAAAAAAAAAAA\n",
       "AAAAAAAAAAAAAAAAAAAAAAAAAAAAAAAAAAAAAAAAAAAv3aB7AAAAD3RSTlMARHarECKJu90yVM1m\n",
       "75kejotwAAAACXBIWXMAAA7EAAAOxAGVKw4bAAAA90lEQVQoz2NgwAf4GAgBdrJVeHyvdmDI/SuA\n",
       "x4wqRgMGlg/4bLEIyGFguMDwvLy2vPwAVhVWBdwBDA3YzFDv6NgAok0PsW7AqkJaBcowZZ6ghlDB\n",
       "qOyaVAQWZ90CU2rKUMAuAFfBxm7E4B8AYnEHIFTMY2lpgIWpIEcBQ/wEsAoGhAqeBcsvwHgO/gIM\n",
       "6x1ArLkdQFAAUcFgwgxXwbCegcEazHBHMoPBmaUBzgVK/2EBMTiQVXAqFMC51xi4vrCBGEwKMKFK\n",
       "INaEq2D9ycC04SSYuQsmBmLwbYDxGBsYWGwWgJnOhWAXM8z+C9TPsgFbfIhVdGCKAwDDkzTgOh63\n",
       "3AAAAABJRU5ErkJggg==\n",
       "\" style=\"display:inline;vertical-align:middle;\" /></a>, <a class=\"ProveItLink\" href=\"../__pv_it/demonstrations/4827169ff5051c0ad90075d5d60d0692974558df0/expr.ipynb\"><img src=\"data:image/png;base64,iVBORw0KGgoAAAANSUhEUgAAADUAAAATBAMAAADCPVhoAAAAMFBMVEX///8AAAAAAAAAAAAAAAAA\n",
       "AAAAAAAAAAAAAAAAAAAAAAAAAAAAAAAAAAAAAAAAAAAv3aB7AAAAD3RSTlMAIol2mRAyZqtE3VS7\n",
       "ze8XF9CTAAAACXBIWXMAAA7EAAAOxAGVKw4bAAAA9UlEQVQoz2NgwAaCTt01TAKzhExcUaWY+wpY\n",
       "/Y+AWGwGDBWocs6TGBjYwXJBDAyzUKTYHI4CyRYQ04CBwQMiaLNq1QUgxRFwAEiGQ+S4l4Kl5ppC\n",
       "lPAwOkBN4Ew8cTcAxGC8ChWRYFOAspgYymclgBi8AlCRJM4CuBwD+wGwHMwtIpwGUFYw0NgPIEbe\n",
       "KiA4ALYPZuY0oF8fgBgxMH08YHeCAFANTwOIwQWT4wT7jxOIgT7KA7uC2QAeLjOAhC8DA6s7A+dK\n",
       "iNBteHiedWTdBfQjd6axMlQo4mQALB7O/XKEeAEOJp0ChxkcMDHgBsF45KbhlgIAuewwOfL5TtwA\n",
       "AAAASUVORK5CYII=\n",
       "\" style=\"display:inline;vertical-align:middle;\" /></a>, <a class=\"ProveItLink\" href=\"../__pv_it/demonstrations/209baac38918ef8b1210d5267967da66f42b39310/expr.ipynb\"><img src=\"data:image/png;base64,iVBORw0KGgoAAAANSUhEUgAAADYAAAAQBAMAAACvnpHFAAAAMFBMVEX///8AAAAAAAAAAAAAAAAA\n",
       "AAAAAAAAAAAAAAAAAAAAAAAAAAAAAAAAAAAAAAAAAAAv3aB7AAAAD3RSTlMAiasyIt1EEO9UdruZ\n",
       "zWZ7xlX5AAAACXBIWXMAAA7EAAAOxAGVKw4bAAAA10lEQVQY02NgwAbYpWNvOQtglWJY1MdQ8/sA\n",
       "VimeZUA9r7HL2XAXMDAwocqtDg29AKLVuUF2PkCWyl0OZWzwgQkJChmAaZbrUAEWBUMoyzWBvYVl\n",
       "ApDB6wAVYRbIg7K6GBj2cBWA5GAGsRzIgrr3AwPDWUYQyyIUCDaA7XOEyHEAeRLiIFY13FHbuSF0\n",
       "/QIGBnmQdQyscLkckP8YEhj4gXISYBGuBYhwUQASFxh4NjDwnWcGC91EBMIdh8oYkPfeLeeRAosU\n",
       "bSuAx0N/jANqOCZuhYQZFAAANPAuqY517tAAAAAASUVORK5CYII=\n",
       "\" style=\"display:inline;vertical-align:middle;\" /></a>, <a class=\"ProveItLink\" href=\"../__pv_it/demonstrations/053fb38df6fcf9baf4abe8cee7dd8e99b8a50fd80/expr.ipynb\"><img src=\"data:image/png;base64,iVBORw0KGgoAAAANSUhEUgAAAF0AAAASBAMAAADLUc9JAAAAMFBMVEX///8AAAAAAAAAAAAAAAAA\n",
       "AAAAAAAAAAAAAAAAAAAAAAAAAAAAAAAAAAAAAAAAAAAv3aB7AAAAD3RSTlMAIs1UmauJMnZmRLsQ\n",
       "3e++988cAAAACXBIWXMAAA7EAAAOxAGVKw4bAAABdklEQVQoz2NgIAjKGBhYBBiIAZyeFS0MDBwJ\n",
       "DJ4MDFOmdwR0bodKCKGr5Mm+pCGecHLdBD6gyR1sDQw8s14yPGVohUrro6tvfclw5LeDTBMD/wEG\n",
       "BjYNBgbGEwoM3xncILLM/9GUs3QlMDDMdmCIYFjHAFHPwNrA/oDhMlQ6Hs0/JdxAY1kdGJ4zuLAz\n",
       "MLSxTGBg4Cvg2MD4oQAsnZgPoRk49t69BKJjuEF+mMD4geG6OdS/8kAbODc4gGQZG/oNwMq5NA5A\n",
       "9G0QgfADGNomgMKTVYBhKQOTAGMEWJ6FwX4CJJigyhkDyvAF82KG+gQwQxEqwJ6wEp96Bwb5ADBD\n",
       "ASrA6LACj3KOLS7xG8DGvr179+5tsPvF8Kg/wcDAfwEcqRtgQnu48TqHgfcBmHUBJrQEFP4MC7Aq\n",
       "5wKGDdMHMLMDEb9AD7EoYFUvB8TcH8FMJgOYYLeKwOErWJWf/q/DwLz/EzhAeaLXwNPn+ytEpHmu\n",
       "bEh6wA0A6ehXuNCZSI8AAAAASUVORK5CYII=\n",
       "\" style=\"display:inline;vertical-align:middle;\" /></a>, <a class=\"ProveItLink\" href=\"../__pv_it/demonstrations/b9ff765654f5a9fab1a0f971ffbd46ba878d2ac30/expr.ipynb\"><img src=\"data:image/png;base64,iVBORw0KGgoAAAANSUhEUgAAAFAAAAAVBAMAAAAjqnRBAAAAMFBMVEX///8AAAAAAAAAAAAAAAAA\n",
       "AAAAAAAAAAAAAAAAAAAAAAAAAAAAAAAAAAAAAAAAAAAv3aB7AAAAD3RSTlMAIolEdjIQVJlm3e/N\n",
       "u6uczJRnAAAACXBIWXMAAA7EAAAOxAGVKw4bAAABgklEQVQoz2MQYIACVgbsgLMzxI9lbgCDMkyA\n",
       "NwBdCZvumiOiCpnWE7gfsDyAKmRhYGBvQFfot5Mh42+DmA8DfwCHAlQhExAvQFPH4azAwDC3geEJ\n",
       "QzQDVwFUYQoQq6MpjOBNYGDga2DYyuDLIM8KVVgKxLJQBb6rVh0A0c94Qe6cwPgBaOZcDqhCoCUM\n",
       "PJAAsHGDarggAaaYHzAcZJBzAypk85jAoMCygIEdpJqB8RhUHeODIBSXKDMwsW9gm8DyDeobHljA\n",
       "sipYoikM51jAKcCwgYGhGawQJsHYYIKmMIHbARg6wFCMA/GjVwHBBbAbhdAUMtQnMDGwOTAwFIH4\n",
       "uXCZa7zoCnsYxBlYgGF2EMTngstYgMKRwQBJYS/DNAZjoKPAFrI4IGLmAZA4gKTQWkCBE6iRqQAs\n",
       "cBxupO8JgfQVyFazPrriiLA073ICPPXsXyGArJCBFWxWBVTE6NaqA1jSJUghC9iMiwx4gTI0kTGw\n",
       "HSCskAXs3Qn4FbrCGHz41QEAUKNKBCB71lUAAAAASUVORK5CYII=\n",
       "\" style=\"display:inline;vertical-align:middle;\" /></a> <a class=\"ProveItLink\" href=\"../__pv_it/demonstrations/c2d5d6667adef451e3e9f23db9347e5ee1846e010/proof.ipynb\" style=\"text-decoration: none\">&nbsp;&#x22A2;&nbsp;&nbsp;</a><a class=\"ProveItLink\" href=\"../__pv_it/demonstrations/70ff6e712b8f5e973c19b6400743dc078419fd8b0/expr.ipynb\"><img src=\"data:image/png;base64,iVBORw0KGgoAAAANSUhEUgAAASEAAAAVBAMAAAD7r0UnAAAAMFBMVEX///8AAAAAAAAAAAAAAAAA\n",
       "AAAAAAAAAAAAAAAAAAAAAAAAAAAAAAAAAAAAAAAAAAAv3aB7AAAAD3RSTlMAInZUiRDNmWbv3US7\n",
       "qzJazP2FAAAACXBIWXMAAA7EAAAOxAGVKw4bAAAEGklEQVRIx4VWTYgURxR+092z87fpNKsEDIKj\n",
       "YVGC6BxESQhuxx+IUbEZRBIQHMGV3JzDuruoi5OAKEhgDIEc9DAgHlQig1HwB2T04kl3Dp7jBE8q\n",
       "4vq3hGCyeVXvVU11d7lb8KZ7+tX31VevXr0qAAjgw037fNtHo2XYFmqBDUitp9xOJd6jZv7brl4G\n",
       "e/2PVy0jfca2UDOxn4gfr63+PlTudXHIwAw9F688rBU5AG6938VppAZyQ7JkIxawYw8ZisoAG9id\n",
       "rcUhI6TIL8PPWpGH1jL6jKZG3sOWaMwCVqw7ZyjC2RTZnUtMeOqVfOwGuKUVVdE2G31OpoaeZEs0\n",
       "ZgErNvc40IqyGCOvQu5CHOAt/k9FcUor2oi21OhUiJJDN9kSjVnAiv16V08rcvE10yH3+jhgyHnD\n",
       "XO4FrUgkyICxSwaSieTWyNKKJEssTxU2U15b0YpEXsB+co+J9y071Vaqu3+LR+mvBwcjqSi7sgGh\n",
       "0+K8/fJ9BNfB6yaGyYVk4G350/isWKglsDkYaZCi6iQq+pz2GLp/wMen7eyZjCwCpYr/ljSfutWT\n",
       "ijy3mW047yi1879928WJ52U4jlwS7Xc1cWGZy/B9sKifAswiWwyL7Q94GZKi8Av4DtZGMrXRfR4f\n",
       "vwDcdyISnvmXo5jvSEVPcq18IHLkKCXTQ78HbjJlihWyQhkG68OGImKRLYmtw7KuVORXjsCPIp9z\n",
       "uIDoPotvuOHH5UrC6omp97y7SjNSUVQoewIOL/AvDlbF4uTPJNO1TXYcyWpi5vtqJov8l8A69yce\n",
       "d6SiLEYkxFiA35VuVFRAz7atahP+I17uIKRJmT0SefI7V1IPF6XU/ICic+j/VQS7WDdZivU0FtV+\n",
       "3KJVc9+hoiqVWHTjqu3D8XZVaNEALvLuGuySonFYBGJJ9zMrdnZbiTziVcu+Rv+bvlDFoldRY2XU\n",
       "i01SlKthEg/Tdkb3PdSKHbfJbjdUbccwPw1I0TE4Abe5WgiG0EwOdeqVyYQiI36KRSvqY0sNPrCE\n",
       "ok4+KrWp5KF7J0amA/nj4nDPCLZp5MhOQukyn7Q3gzDf5ooqGHq80WN1tUt2DIvujN5dmkV362OX\n",
       "iHm8IkWlMx6c5mMB3c9EOTo1nNuEDNOzEXw1dwBj93zFJnX2+4/uLQc+dXhhi+3k+dUi8775KRor\n",
       "67qpWCCF3Ts3Cu70bEgV8sWOFQEfnegu9ix3Bs+8jfgyOhv4y0eifqUAV9jsLDAPVtbsJ3ICdXLn\n",
       "6wspokp1l79cs56pJ23nb0qRDSsVyRI2GLD7rkVR1VQkifWlZXs/yc3UDpjRygLzYKWiUN1opHuv\n",
       "RdGdWIxiN62OZWgU3CGzs8A8WKlIpt4qFadMeZ5L6BozBdRFebml4xDbQpfsFNbReSwqF7r/Byh/\n",
       "/3LpUuUnAAAAAElFTkSuQmCC\n",
       "\" style=\"display:inline;vertical-align:middle;\" /></a></span>"
      ],
      "text/plain": [
       "{gamma in Complex, m in NaturalPos, n in NaturalPos, beta in Complex, alpha in Complex, A in Complex^{n x m}, |psi〉 in Complex^{m}} |- (alpha . A . beta . |psi〉 . gamma) = ((alpha * beta * gamma) . A . |psi〉)"
      ]
     },
     "metadata": {},
     "output_type": "display_data"
    }
   ],
   "source": [
    "qmult1.factorization_of_scalars()"
   ]
  },
  {
   "cell_type": "code",
   "execution_count": 41,
   "metadata": {},
   "outputs": [
    {
     "data": {
      "text/html": [
       "<a class=\"ProveItLink\" href=\"../__pv_it/demonstrations/0c73256043b53c6764b287879ab8abf235377f520/expr.ipynb\"><img src=\"data:image/png;base64,iVBORw0KGgoAAAANSUhEUgAAAKkAAAAVBAMAAADP89MSAAAAMFBMVEX///8AAAAAAAAAAAAAAAAA\n",
       "AAAAAAAAAAAAAAAAAAAAAAAAAAAAAAAAAAAAAAAAAAAv3aB7AAAAD3RSTlMAMiK7iVTdmRDNdmZE\n",
       "q+96N/emAAAACXBIWXMAAA7EAAAOxAGVKw4bAAACq0lEQVQ4y42VQWgTQRSG/2x2m83upsaDF0UM\n",
       "FA9ebDzpRbpqvUTBCGJPtfWuNGBpkQoueBArSPBU8eAKIrUFG/SgSJF4UFAopnjyVG09eWqUStVD\n",
       "ffNmNt1sdoNzmJ28nffNzP+/zALIQ7UCujWtNcpH3sQBtGIwOh0FHQj/0OvB6FBkuXaAdnWN6Ho5\n",
       "kfpApZUmvRbVB4baZ0UAOpZodg+SqMaWfO6G3WhR3XAGtwgg54l+KJGaWWGhTBfOaEA1/fDmEAOw\n",
       "Gu0qRanHz7APFvFbezXyYSERAzA3RFdNomr+QllRz7d01UV3NzytAzBAk60asBN4/9NTYg8uBwJg\n",
       "pCaeb/o+z8gamJ4i6mPgHO967AicGMDwSFFqXUHq/pLLQe0S7hT2M/Ut9rnsj714UVLdC7iNBU/6\n",
       "83r8sjhGFGBXc5vAEmuVA4oc7PWRrswytYL+hnL9OVNT5Qk8Qy+dos7ipvO0xyigv2A0gWus1UsB\n",
       "EcHrlFPlLVqHJ1eKyvWPTDXxnZbIAClazfLoDb2KAj4hRdR5tsMXySK4RnO+ccVNAzuooOCQ60+l\n",
       "AsYmUSluuKpIhJsRwF+k1oFbwhbKzLDY5h9K31ACoOeLcv2opGaqWhkkT1b94UuiiwCapCyQLiBT\n",
       "y8BcloUhqIIFh6zN0qrI0olXFbVoew5p2qeqZFB0EUAT2bI8zb0neybqMngFeLEuiv+gSPhB3c0a\n",
       "3tUl1VnVsUjDk4p6jCusHVDCsIiSdvbYL1cVsX7qlTdOJtzYmoEx8JvCZz888oM7a++JuYJMCUTq\n",
       "BMyx6GLhqfg7K7hOtm/CXby7igpx4cUDhEhf/5c6q5Tk5rjJgKzHtZBENf0w1VWuh+/xWIDtwxpN\n",
       "pjr5MIOXmFeRdDdAA5rMfNj1u2Xl0Sbn9pesE/APovy3h3TH9JEAAAAASUVORK5CYII=\n",
       "\" style=\"display:inline;vertical-align:middle;\" /></a>"
      ],
      "text/plain": [
       "〈varphi| . alpha . A . beta . |psi〉 . gamma . 〈varphi| . delta"
      ]
     },
     "metadata": {},
     "output_type": "display_data"
    }
   ],
   "source": [
    "qmult2"
   ]
  },
  {
   "cell_type": "code",
   "execution_count": 42,
   "metadata": {},
   "outputs": [
    {
     "data": {
      "text/html": [
       "<span style=\"font-size:20px;\"><a class=\"ProveItLink\" href=\"../__pv_it/demonstrations/6f005ee107395200ff7f4bc83791582bbb4e0f640/expr.ipynb\"><img src=\"data:image/png;base64,iVBORw0KGgoAAAANSUhEUgAAADIAAAAQBAMAAACmdTG/AAAAMFBMVEX///8AAAAAAAAAAAAAAAAA\n",
       "AAAAAAAAAAAAAAAAAAAAAAAAAAAAAAAAAAAAAAAAAAAv3aB7AAAAD3RSTlMAIpnN77uJRKsQdlRm\n",
       "Mt3eazepAAAACXBIWXMAAA7EAAAOxAGVKw4bAAAA4UlEQVQY02NgYBAyCWRAAZypj61kE4CMBPZO\n",
       "VJkVPgyTvioAGWjiDEzLgeqPgmRWoMlcYp3AwMABkpm/ASKy9N07AxDdyQqy6wCQYP0JliheCdUT\n",
       "IARlcHd/BVGMllA+Y8M1KOswQz/QXAZmASifN6EGquQjw/4LIBmYAxgVqiAMjgCG+yCZK++AIABs\n",
       "jxhEhv8Aw30QPRXu6khWCD3/AtAmIOCDyxSB/MNQwMB/gcEaxOdagAiDBiBhwMC2gLsBLGAN17TU\n",
       "SGD2IyCdtQzCnxE+AR7W/o8EkMOrLA4SOlAAAESKNoXM75SxAAAAAElFTkSuQmCC\n",
       "\" style=\"display:inline;vertical-align:middle;\" /></a>, <a class=\"ProveItLink\" href=\"../../../../logic/sets/cartesian_products/__pv_it/theorems/79a768603778550c651661670153c27ee0a505870/expr.ipynb\"><img src=\"data:image/png;base64,iVBORw0KGgoAAAANSUhEUgAAAEYAAAATBAMAAADfQ2bzAAAAMFBMVEX///8AAAAAAAAAAAAAAAAA\n",
       "AAAAAAAAAAAAAAAAAAAAAAAAAAAAAAAAAAAAAAAAAAAv3aB7AAAAD3RSTlMARHarECKJuzJmVO/d\n",
       "mc2qKiq2AAAACXBIWXMAAA7EAAAOxAGVKw4bAAABD0lEQVQoz2NgIAAuMBAGBZSoYTlf/oSBbf9G\n",
       "vOawLxBmYPDHbxfzUbYJDNwMvOXl28srcalZzvCUgQe7OUw1Z86B1UQqxOFQw/jIAWpOgAVTAlwN\n",
       "o7JrUhFHWiFYKs4BZlcAO0MhXA0buxGD/0SG1WCpp3D3BHBc8PGBhbMgTwFDvALDfLDUA4Qahllc\n",
       "1TCeg78Aw3oHhnsgNseeM2fOHIeqYXawhrtzPQNIwTZw8BYgmcNi4ANXY8fAcIyB8SsLiH0ASQ1D\n",
       "EztczTYGlo8MzA8iQWwleFw0AMOqHcZj/cHA+YGBPSEBxOFbABUFM+7Bg+0AA9MFBsZLAWAHmYuA\n",
       "BTnebweSftjjiTEdEhcoAAAiLj7xf6vyygAAAABJRU5ErkJggg==\n",
       "\" style=\"display:inline;vertical-align:middle;\" /></a>, <a class=\"ProveItLink\" href=\"../__pv_it/demonstrations/4827169ff5051c0ad90075d5d60d0692974558df0/expr.ipynb\"><img src=\"data:image/png;base64,iVBORw0KGgoAAAANSUhEUgAAADUAAAATBAMAAADCPVhoAAAAMFBMVEX///8AAAAAAAAAAAAAAAAA\n",
       "AAAAAAAAAAAAAAAAAAAAAAAAAAAAAAAAAAAAAAAAAAAv3aB7AAAAD3RSTlMAIol2mRAyZqtE3VS7\n",
       "ze8XF9CTAAAACXBIWXMAAA7EAAAOxAGVKw4bAAAA9UlEQVQoz2NgwAaCTt01TAKzhExcUaWY+wpY\n",
       "/Y+AWGwGDBWocs6TGBjYwXJBDAyzUKTYHI4CyRYQ04CBwQMiaLNq1QUgxRFwAEiGQ+S4l4Kl5ppC\n",
       "lPAwOkBN4Ew8cTcAxGC8ChWRYFOAspgYymclgBi8AlCRJM4CuBwD+wGwHMwtIpwGUFYw0NgPIEbe\n",
       "KiA4ALYPZuY0oF8fgBgxMH08YHeCAFANTwOIwQWT4wT7jxOIgT7KA7uC2QAeLjOAhC8DA6s7A+dK\n",
       "iNBteHiedWTdBfQjd6axMlQo4mQALB7O/XKEeAEOJp0ChxkcMDHgBsF45KbhlgIAuewwOfL5TtwA\n",
       "AAAASUVORK5CYII=\n",
       "\" style=\"display:inline;vertical-align:middle;\" /></a>, <a class=\"ProveItLink\" href=\"../../../../numbers/number_sets/natural_numbers/__pv_it/theorems/132c57ec1224a4beaf274a23bd799047020206590/expr.ipynb\"><img src=\"data:image/png;base64,iVBORw0KGgoAAAANSUhEUgAAAEEAAAATBAMAAAA9n32KAAAAMFBMVEX///8AAAAAAAAAAAAAAAAA\n",
       "AAAAAAAAAAAAAAAAAAAAAAAAAAAAAAAAAAAAAAAAAAAv3aB7AAAAD3RSTlMARHarECKJu90yVM1m\n",
       "75kejotwAAAACXBIWXMAAA7EAAAOxAGVKw4bAAAA90lEQVQoz2NgwAf4GAgBdrJVeHyvdmDI/SuA\n",
       "x4wqRgMGlg/4bLEIyGFguMDwvLy2vPwAVhVWBdwBDA3YzFDv6NgAok0PsW7AqkJaBcowZZ6ghlDB\n",
       "qOyaVAQWZ90CU2rKUMAuAFfBxm7E4B8AYnEHIFTMY2lpgIWpIEcBQ/wEsAoGhAqeBcsvwHgO/gIM\n",
       "6x1ArLkdQFAAUcFgwgxXwbCegcEazHBHMoPBmaUBzgVK/2EBMTiQVXAqFMC51xi4vrCBGEwKMKFK\n",
       "INaEq2D9ycC04SSYuQsmBmLwbYDxGBsYWGwWgJnOhWAXM8z+C9TPsgFbfIhVdGCKAwDDkzTgOh63\n",
       "3AAAAABJRU5ErkJggg==\n",
       "\" style=\"display:inline;vertical-align:middle;\" /></a>, <a class=\"ProveItLink\" href=\"../__pv_it/demonstrations/209baac38918ef8b1210d5267967da66f42b39310/expr.ipynb\"><img src=\"data:image/png;base64,iVBORw0KGgoAAAANSUhEUgAAADYAAAAQBAMAAACvnpHFAAAAMFBMVEX///8AAAAAAAAAAAAAAAAA\n",
       "AAAAAAAAAAAAAAAAAAAAAAAAAAAAAAAAAAAAAAAAAAAv3aB7AAAAD3RSTlMAiasyIt1EEO9UdruZ\n",
       "zWZ7xlX5AAAACXBIWXMAAA7EAAAOxAGVKw4bAAAA10lEQVQY02NgwAbYpWNvOQtglWJY1MdQ8/sA\n",
       "VimeZUA9r7HL2XAXMDAwocqtDg29AKLVuUF2PkCWyl0OZWzwgQkJChmAaZbrUAEWBUMoyzWBvYVl\n",
       "ApDB6wAVYRbIg7K6GBj2cBWA5GAGsRzIgrr3AwPDWUYQyyIUCDaA7XOEyHEAeRLiIFY13FHbuSF0\n",
       "/QIGBnmQdQyscLkckP8YEhj4gXISYBGuBYhwUQASFxh4NjDwnWcGC91EBMIdh8oYkPfeLeeRAosU\n",
       "bSuAx0N/jANqOCZuhYQZFAAANPAuqY517tAAAAAASUVORK5CYII=\n",
       "\" style=\"display:inline;vertical-align:middle;\" /></a>, <a class=\"ProveItLink\" href=\"../__pv_it/demonstrations/55701387f25fde525e21ebc18286978696667feb0/expr.ipynb\"><img src=\"data:image/png;base64,iVBORw0KGgoAAAANSUhEUgAAAEwAAAAVBAMAAAAeOBUnAAAAMFBMVEX///8AAAAAAAAAAAAAAAAA\n",
       "AAAAAAAAAAAAAAAAAAAAAAAAAAAAAAAAAAAAAAAAAAAv3aB7AAAAD3RSTlMAIolEdjLNuxCZZqtU\n",
       "3e8Ziz2RAAAACXBIWXMAAA7EAAAOxAGVKw4bAAABZ0lEQVQoz2MQYIACVgbsgGtWiCcDgzKMyx6A\n",
       "roBD/VqKqEKX3QI+AYQyngnoyrxfMXR+nyDhxsDfgFDGcAFNFaezAgPD8gkMWxjskCxl0EFTFsne\n",
       "wMDAPYHhKcNMViRl4lDa/e7dBBC9gx3kvgWMHxiuHkVSxgbxtJkHlF8gCaaYNzA4LQApCwXKfW9g\n",
       "4FEAiTJmQFUxbghCcgFQ2QQG1ixrBagf2GAByapghaKMJ4CBG2gFA8NksDKYBOMEExRlTAwMK0BG\n",
       "MkSD+HF3gaAA7DYhFGUsDAwODBwODAyHQPx2uEwFO4oyTgbmAAZOYBglgvi8cBlLULgxGMCVLeBk\n",
       "4NgKdAzYKhYHRCxsABIJcJ+muUXNBWpiOgAWyIEb554p0HMTESBc9/8qIKzrLm6Ap5D3NwUQyhhm\n",
       "gVknoSJGtXcTMFIdSNlTMKuQAQ8AKmP9ALYigYAyFnAssSzAp8wVGBLg5M2NTxUAn11FpH3bB28A\n",
       "AAAASUVORK5CYII=\n",
       "\" style=\"display:inline;vertical-align:middle;\" /></a>, <a class=\"ProveItLink\" href=\"../__pv_it/demonstrations/053fb38df6fcf9baf4abe8cee7dd8e99b8a50fd80/expr.ipynb\"><img src=\"data:image/png;base64,iVBORw0KGgoAAAANSUhEUgAAAF0AAAASBAMAAADLUc9JAAAAMFBMVEX///8AAAAAAAAAAAAAAAAA\n",
       "AAAAAAAAAAAAAAAAAAAAAAAAAAAAAAAAAAAAAAAAAAAv3aB7AAAAD3RSTlMAIs1UmauJMnZmRLsQ\n",
       "3e++988cAAAACXBIWXMAAA7EAAAOxAGVKw4bAAABdklEQVQoz2NgIAjKGBhYBBiIAZyeFS0MDBwJ\n",
       "DJ4MDFOmdwR0bodKCKGr5Mm+pCGecHLdBD6gyR1sDQw8s14yPGVohUrro6tvfclw5LeDTBMD/wEG\n",
       "BjYNBgbGEwoM3xncILLM/9GUs3QlMDDMdmCIYFjHAFHPwNrA/oDhMlQ6Hs0/JdxAY1kdGJ4zuLAz\n",
       "MLSxTGBg4Cvg2MD4oQAsnZgPoRk49t69BKJjuEF+mMD4geG6OdS/8kAbODc4gGQZG/oNwMq5NA5A\n",
       "9G0QgfADGNomgMKTVYBhKQOTAGMEWJ6FwX4CJJigyhkDyvAF82KG+gQwQxEqwJ6wEp96Bwb5ADBD\n",
       "ASrA6LACj3KOLS7xG8DGvr179+5tsPvF8Kg/wcDAfwEcqRtgQnu48TqHgfcBmHUBJrQEFP4MC7Aq\n",
       "5wKGDdMHMLMDEb9AD7EoYFUvB8TcH8FMJgOYYLeKwOErWJWf/q/DwLz/EzhAeaLXwNPn+ytEpHmu\n",
       "bEh6wA0A6ehXuNCZSI8AAAAASUVORK5CYII=\n",
       "\" style=\"display:inline;vertical-align:middle;\" /></a>, <a class=\"ProveItLink\" href=\"../__pv_it/demonstrations/b9ff765654f5a9fab1a0f971ffbd46ba878d2ac30/expr.ipynb\"><img src=\"data:image/png;base64,iVBORw0KGgoAAAANSUhEUgAAAFAAAAAVBAMAAAAjqnRBAAAAMFBMVEX///8AAAAAAAAAAAAAAAAA\n",
       "AAAAAAAAAAAAAAAAAAAAAAAAAAAAAAAAAAAAAAAAAAAv3aB7AAAAD3RSTlMAIolEdjIQVJlm3e/N\n",
       "u6uczJRnAAAACXBIWXMAAA7EAAAOxAGVKw4bAAABgklEQVQoz2MQYIACVgbsgLMzxI9lbgCDMkyA\n",
       "NwBdCZvumiOiCpnWE7gfsDyAKmRhYGBvQFfot5Mh42+DmA8DfwCHAlQhExAvQFPH4azAwDC3geEJ\n",
       "QzQDVwFUYQoQq6MpjOBNYGDga2DYyuDLIM8KVVgKxLJQBb6rVh0A0c94Qe6cwPgBaOZcDqhCoCUM\n",
       "PJAAsHGDarggAaaYHzAcZJBzAypk85jAoMCygIEdpJqB8RhUHeODIBSXKDMwsW9gm8DyDeobHljA\n",
       "sipYoikM51jAKcCwgYGhGawQJsHYYIKmMIHbARg6wFCMA/GjVwHBBbAbhdAUMtQnMDGwOTAwFIH4\n",
       "uXCZa7zoCnsYxBlYgGF2EMTngstYgMKRwQBJYS/DNAZjoKPAFrI4IGLmAZA4gKTQWkCBE6iRqQAs\n",
       "cBxupO8JgfQVyFazPrriiLA073ICPPXsXyGArJCBFWxWBVTE6NaqA1jSJUghC9iMiwx4gTI0kTGw\n",
       "HSCskAXs3Qn4FbrCGHz41QEAUKNKBCB71lUAAAAASUVORK5CYII=\n",
       "\" style=\"display:inline;vertical-align:middle;\" /></a>, <a class=\"ProveItLink\" href=\"../__pv_it/demonstrations/a96adf032fe1e70a10118c41779605949495a8190/expr.ipynb\"><img src=\"data:image/png;base64,iVBORw0KGgoAAAANSUhEUgAAADQAAAAUBAMAAAAw+gPuAAAAMFBMVEX///8AAAAAAAAAAAAAAAAA\n",
       "AAAAAAAAAAAAAAAAAAAAAAAAAAAAAAAAAAAAAAAAAAAv3aB7AAAAD3RSTlMAVN27EERm75mJq3Yi\n",
       "Ms2Hvvv4AAAACXBIWXMAAA7EAAAOxAGVKw4bAAAA1ElEQVQoz2NgwAJYJuu9PjsBmwzDrjIGj88N\n",
       "2GQ4tgJ1JGOVusHswMDAhSK1WUnpAYhewgyyLwFJJm4LlGFwAsoQ+uzAEAKkeZ5ABXgW3IQw2Com\n",
       "LWDYAGTwHYBK8U4IgzAOMzDY8l4AScEM5mmIhjCAFnhzgxjXlYDAAGzXSbj9nAdBpDOcb8KMkAJZ\n",
       "xcAE50eA/MUQAJYCBxf3BkRoLAASYC9yXgCLPET4/cUBRw2IKoiAl6kDPOTrNSBe4YKKRBpBAgoJ\n",
       "RDLgBFNxSxngljqAXRgAVG4uiC3eUoAAAAAASUVORK5CYII=\n",
       "\" style=\"display:inline;vertical-align:middle;\" /></a> <a class=\"ProveItLink\" href=\"../__pv_it/demonstrations/d54469b7edf13eec8afbce5063402d25731e65d70/proof.ipynb\" style=\"text-decoration: none\">&nbsp;&#x22A2;&nbsp;&nbsp;</a><a class=\"ProveItLink\" href=\"../__pv_it/demonstrations/d0080efa87f7c93abe8938fb40658e8d03ab8cc90/expr.ipynb\"><img src=\"data:image/png;base64,iVBORw0KGgoAAAANSUhEUgAAAcQAAAAVBAMAAAAqZIMSAAAAMFBMVEX///8AAAAAAAAAAAAAAAAA\n",
       "AAAAAAAAAAAAAAAAAAAAAAAAAAAAAAAAAAAAAAAAAAAv3aB7AAAAD3RSTlMAInZUiRDNmWbv3US7\n",
       "qzJazP2FAAAACXBIWXMAAA7EAAAOxAGVKw4bAAAFjElEQVRYw5VYXWhcVRCezf5mb7JZLFSUYq+1\n",
       "lSpo90EsCbRZYx9ErS55qAqVrkokvph9iDZEwViwQdOHVCw+WGRBQTC0XeoPVEi7EYpPtgGtT9Jc\n",
       "FEQEm9aSIlISZ+b83HPn3q1xICf373zzfefMzDlnAaAMAAFoK8OtLGWvAvEmDpCEVI5grM/C70vx\n",
       "R8mkHDL8squCX7XNwyekh43uTaZlri4IHlGA1OvHy6fjbMkV3PN/9N3+yoLnm5tNMRobE0m5ZLj3\n",
       "Q/RVpaPEMd1t6GDNomG3ndGvBEAG5mtdUzHC5Cpdjc8TYyda1bsE283NozGJY85dSCpCBntn63hZ\n",
       "hE4S02vq/y9QWLRoVbcHmwDoJcojki+72hfXobAT7RL+5Yz+ppSoyMVIRchg7zwN9s6OEvNLnFPZ\n",
       "KnhNg5b13ZFiEwBdRHla8mVXEzEZGjvRHsC/QkMLakiJilyMVIQM9u6OZpaU+MjTnLtdiGdnMR24\n",
       "8Q4JANnr2HTL6GNXs/EMVdiJdoBIH1PXPYGUqMjFSEXJHIOHTQQlSkz5OyqaxoDNxQw1L8RC0AW4\n",
       "iB/nZDKSq3Q9SeJAp1zsWcFmVF3vk1VPk5OkBJlRGCcnSOYKwNc3a7pa7LlsYgsGmejZTT+NKLTh\n",
       "CUS7X5UOGMAeXyUA7BrE8czIqSFX+WoE38HW0XjqPHhWcPqHm9juVTdYOEoBeGPnjURNTpISZPby\n",
       "EFF+NqA0Ol/lh6k5eK68gVG+gGWugNXCzEmFVu2HZ2FHjfsUPnx8kSqZBCjUe1eopZ6Tn5OdAD0b\n",
       "NLUOvoOt7N3xEzSt2g7DUo1aU23yAL/N/GgkanKClCRzGD7Bdp5DuRegzQ+7fehpbGOUBmxe1OXq\n",
       "CKOVKpPwNmVVvsUL1YVSEAfYXE6v4hOZduSqWIngO9hmSesJrti7azCI8P184yGR3QCL0GMkanKC\n",
       "lCTTDx9h+waH8jvUiR6+hd/WefK6vju41Nbl6hyjZeF95ISjWUJ0pDnMQy4AfoYSSixdFRLJVXfL\n",
       "wT9Qd7CzN8hhDe9986q3DcsocVmFZYtGo4BrgJZoyAlSkswy+93OOe+TN3p4HL/5gPNhGKCP6rmH\n",
       "ju5TMZFeQbRhu4RnNkAc4G+W5812kGjxiw0HGz4zRbxiXvVNsbwzYFLMJzfDWqIhJ0kJMmc4evZR\n",
       "lKOrPCdo9i/sdl2HAhRndbn6XqHl66kKTV9O7UEzPsQBVjkP002RizpQHXxwsK0NhUtGwHk4YKt2\n",
       "A84CvKYlWnKCVJQM9v6WSnMZl+U8ZC+rMksUeAY8HLgchVsOY+CoRmsXal7LbhgzPJkCYBVyOBOF\n",
       "tphFduU7+GwG29oee9UXwEtgM3WB9g0NeD5QEi05SUqQOcIVmeb35Xt/n2yph2/izuQqVZE7qMM1\n",
       "bJ6Zgm9aCs07moGZcMOY4fVYAAzBLrM+uEauaCWx+GwG29pT4QT76UW92Kgdbu7FV6fn9EpoyUlS\n",
       "gsw4/KHrceHUP1W9WGYeO1Qbx9HevzYC6Ys38PHu01t9s+b++eSWcrhhzNuC7gJsoatiS0gkV6Vm\n",
       "iK/MYFtrODG7ldq5cOv53tqnmkZILkYqSmYOioFWP5F80jB1PdxW/OpuGHvDQ4AEuFOisKuTnbCt\n",
       "yR1DqhkeIHib6xyfEklFyGBv3uRSDH+8XonbdMCzfRke5SRAbMPNrqb/S6JXTdq962Ngd9BBoksq\n",
       "QoZ6L6jzil7FEiVmfRet6m4Y9fcJAKl2DGfBGZsYdvzYLU/CI2aJTJDokoqQod77aXxxwWl2lugF\n",
       "LpqvV0I2rSMBoCf+ywa5yrY7YNt+SQPDdghoH5os0SUVIbPA+3WO/5Ry9eAtf2foCmTClO29BLg7\n",
       "4WcYcnXbun+r0T7tUGHe3yVoJJNyyGDvfwHbhbbs0gHLMgAAAABJRU5ErkJggg==\n",
       "\" style=\"display:inline;vertical-align:middle;\" /></a></span>"
      ],
      "text/plain": [
       "{delta in Complex, m in NaturalPos, beta in Complex, n in NaturalPos, alpha in Complex, |varphi〉 in Complex^{n}, A in Complex^{n x m}, |psi〉 in Complex^{m}, gamma in Complex} |- (〈varphi| . alpha . A . beta . |psi〉 . gamma . 〈varphi| . delta) = ((alpha * beta * gamma * delta) . 〈varphi| . A . |psi〉 . 〈varphi|)"
      ]
     },
     "metadata": {},
     "output_type": "display_data"
    }
   ],
   "source": [
    "qmult2.factorization_of_scalars()"
   ]
  },
  {
   "cell_type": "markdown",
   "metadata": {},
   "source": [
    "### Distribution over summations"
   ]
  },
  {
   "cell_type": "code",
   "execution_count": 43,
   "metadata": {},
   "outputs": [
    {
     "name": "stdout",
     "output_type": "stream",
     "text": [
      "Help on function distribution in module proveit.physics.quantum.algebra.qmult:\n",
      "\n",
      "distribution(self, idx, *, field=None, **defaults_config)\n",
      "    Given a Qmult operand at the (0-based) index location\n",
      "    'idx' that is a vector sum or summation, prove the distribution \n",
      "    over that Qmult factor and return an equality to the original\n",
      "    Qmult. For example, we could take the Qmult\n",
      "        qmult = Qmult(A, B+C, D)\n",
      "    and call qmult.distribution(1) to obtain:\n",
      "        |- Qmult(A, B+C, D) =\n",
      "           Qmult(A, B, D) + Qmult(A, C. D)\n",
      "    \n",
      "    Keyword arguments are accepted for temporarily changing any\n",
      "    of the attributes of proveit.defaults.\n",
      "    \n",
      "    'distributed' returns the right-hand side of 'distribution'.\n",
      "    'distribute', called on an InnerExpr of a Judgment,\n",
      "    substitutes the right-hand side of 'distribution' for\n",
      "    the inner expression.\n",
      "\n"
     ]
    }
   ],
   "source": [
    "help(Qmult.distribution)"
   ]
  },
  {
   "cell_type": "code",
   "execution_count": 44,
   "metadata": {},
   "outputs": [
    {
     "data": {
      "text/html": [
       "<a class=\"ProveItLink\" href=\"../__pv_it/demonstrations/5e619be3689aadb5327ed0cc441bb636aebdc83a0/expr.ipynb\"><img src=\"data:image/png;base64,iVBORw0KGgoAAAANSUhEUgAAARQAAAAVBAMAAAB1dQxbAAAAMFBMVEX///8AAAAAAAAAAAAAAAAA\n",
       "AAAAAAAAAAAAAAAAAAAAAAAAAAAAAAAAAAAAAAAAAAAv3aB7AAAAD3RSTlMAMiK7iVTdmRDNdmZE\n",
       "q+96N/emAAAACXBIWXMAAA7EAAAOxAGVKw4bAAAEUElEQVRIx52WX4hUVRjAv3vnzt47c2fG60MP\n",
       "FeENlcCnccEQQfcWBrEprRQKPrQjyL605sAumqh438KFcvsHW0Le0lKL6sJCmyI1vghmbiOYuA+D\n",
       "pj5IQay7temGbN93vnvPzDnOPGwDc8893znnO7/z/TsXADxIfj6oPxMW/XtkidRpaANGmyVmOX3b\n",
       "pM3+nMdHF4FSiDSB1Jnx1IHl6YtVo+czn3Tja18HlGwgmty0vt/4QqPxvqdLR9Y34hXwlTxh795Q\n",
       "6syjtqo6/QUVJShcB+iCDiiHuel/BAVuAxTvabL87yFsex1yYdJ/Aty61Gnhv6LOr6go1+mxrRPK\n",
       "fm4OziT9S/LA8+iJf1Sh8yyayZ4BNzm8E0ChInWOtJqBTV5VUb6mx+pOKDd55or0/NvTARcl7rwq\n",
       "zN2lSMEldyF1id20ypbW4NBCh1GOYJg4ox1QsjywKv+3jlJEl+VuqcKXKeIMPOpRibK1GSsUdTm/\n",
       "jfclSuY+rokBlgJcnA15mbXxCk+xOWqr2X91lFIZnGueIjTnhFdQuJkF55dPjfHxnJMxBPkKZ0F2\n",
       "91ooECKGt+FB4dhaRsn+OstRWwXj6OVAoJiD8I6/Upg8FtnZZ/yloyxb9+VUrAqt+XTwDDeBe24H\n",
       "o1jZm06cv8+B+sPwLjKY6NgAj5+7yihn4EYIlxHJgyJAWaCUIshUT9HkLpHkNpgPdZRvfcj+oQq7\n",
       "0tiG1yB1yTijPGZXXJ8C74CoYRlvKZ2wLgKoDhmBYs5Av0cTMNW+J9MQyiHcfVS4piR8eHzvwVlq\n",
       "9wwM/DkwsEtss4Fiw1OEJZHxDpmMEwhL3S+MEpYii7TDUxgNIY5QFbRrROuGeFRCKZZhmUdOQ4tF\n",
       "tHgTlwzrTihRSOWcbhUy04+RapXpNFEmueoi6TdJKvSHltDzKk99nqxNERrRxiMCZUlMRzhMTsCV\n",
       "tghbB31uccoIB6E/4Q0NxaA4vlFThPZMmihbZU1bn6Dsg5VkDniPp/YKq42Soc4DvClQjngUYxkf\n",
       "7NgG5wonHqFwQclESQU7pqHkcVvjgSqkqgcWWXOcywxOuZWgDKH7f27edRvFs5tKaBXe9tgqHnzI\n",
       "N81Hp5/cU2OUIYCJaZGoFkaWSVQ9vlbNUDg5pvH1x1B4kV6GRfetGC7UEpRJP3BrzbvuOfFEb+U+\n",
       "fndikOuKFWXrnFbu7rkgKUfWS2fDYREHRgWcngchvLLwgbJrsedhY2oNaCjOUOOAeBnk8vrTiSgt\n",
       "m8bVdZ9B867jik+97xZ2piWu90R6Re5vV/h3aBfe9nZfBbrQrMjyKnUafa13XZ2DCWV23Ky28sPh\n",
       "t3YoE9oul9qh6EJWr6LkwyQ6RG4F8iup5GkoeK0b0+1QMv7iv+KSS8+JWlGsNGdadx5LS1ALiov5\n",
       "XWmH4pT/B0q3LCstVoGkkogDJgNnAb7QUdB5Jq/8VFO7avEked2SUmdR+5TF/tO8JMX+D3mhDhBC\n",
       "ui/CAAAAAElFTkSuQmCC\n",
       "\" style=\"display:inline;vertical-align:middle;\" /></a>"
      ],
      "text/plain": [
       "〈varphi| . alpha . (A + B + C) . beta . |psi〉 . gamma . 〈varphi| . delta"
      ]
     },
     "metadata": {},
     "output_type": "display_data"
    }
   ],
   "source": [
    "qmult3"
   ]
  },
  {
   "cell_type": "code",
   "execution_count": 45,
   "metadata": {},
   "outputs": [
    {
     "data": {
      "text/html": [
       "<a class=\"ProveItLink\" href=\"../__pv_it/demonstrations/2bc34d5ab46c87c90dc26d4bfc171573451bccb00/expr.ipynb\"><img src=\"data:image/png;base64,iVBORw0KGgoAAAANSUhEUgAAAVYAAAAdBAMAAAADaVmrAAAAMFBMVEX///8AAAAAAAAAAAAAAAAA\n",
       "AAAAAAAAAAAAAAAAAAAAAAAAAAAAAAAAAAAAAAAAAAAv3aB7AAAAD3RSTlMAInZUiRDNmWbv3US7\n",
       "qzJazP2FAAAACXBIWXMAAA7EAAAOxAGVKw4bAAAFiElEQVRYw+2Xf2gcVRDH5/bH/cjebZc2KEiR\n",
       "bf3RIFVDKRZFzTW2IEjrEkpBaGlsTYkg9oRUQ5vgUdC0/ozSoqLIgRb0Qk2QUpuWtpdIEStpIrYF\n",
       "K2lXRLGVJpdoo8TG8828t3u37+6E5h8JdCF79+a9m/3svO/MvACABQAuiMuC4BWC67+samNTmjDL\n",
       "nlL9caEUuyn17EvOMz0mLbmNL2y+HtbPpbHvM+4GJxZ6X7Q+vN/89IBhV/Gp/pxiU8txbX0VVjVJ\n",
       "H+G8/NvXCqOjz7iytWloNF0LStob1y7Z7vtUmLdUcPkjQdakcRbqKmB+P5WEUNtQPegYshqowrqe\n",
       "fzSUscIHAIl/JJvytgMrPgFo8fbYhtd9nxr7ywTXZ4KsZzEqjvwgY3BszxTAF5sdiGAQVlRjbecf\n",
       "nRNifNiXzyTz8mfQqJ9igY6wpV3CsA7giO+zqTSQPGCpIOvd7C+aklmXMse9trJ6bTPEcHy6Gms3\n",
       "d1XrRXCZNxFlluhk0Bjeh2FgP4mJ4DCFdfo+Hy4VqCRfzroJlbhPEGazPEc0TKUTGQiNANyHAWmu\n",
       "wqryifnK7zJrgqki/FbQ+Dg+y2SBCac9VnW/7xOVH7YqCMxnjV9lt1YyHLrDmzqB7x3LUzVpQ50x\n",
       "32NswTWH+9VWXeALIzy1UupfMmssB/p5N2AMTZMQmFEb4Ur7cWirQ6z6kjQklQxPVbX3JBhoZ3lk\n",
       "umBsO8lZ1e+usfsactXiv8bektxuFamVArP1WJJYQz3whLWA1lCAjHrzD5l1fHDxuXTQqE36AhHb\n",
       "B7uPuMSqqd16WrnKs2lP2wEsCjSIAPzy6hnO+jJcdPAeiL/6N415Fn7E/o4xmwsJgByxxmyIp2gT\n",
       "aqiWRSA0I7Pea4H6btBYM+E/oNvL/GiOWH+KZKIWin8n1fK4O4YhGCERj0CcWEMT0MDe7H5iK6qD\n",
       "nMZ4xr0P5IH5fQmDi6wvMrxm2v0Y6WjpC524O7Ajm30vmz1AP/sa9ekGjDHaKB01m/cy38gTqxOz\n",
       "NfQOV5jgHNBtLPmRPhRxlJUiYk3kYJw5HMdfXsqyi/pTguI67vqsdVSpbeaDWFnp1PY6PiuzwrQc\n",
       "Vwz0m3Ywrnkv3Q0e1+PMbTfPrQZHIz/L+dKV9SJLbHxwE7HOSxNnP85vKJZs2tGvwNfAetxnw4UI\n",
       "5ZbOdKfxxCcNME3BpxKricl2sS9gjEx46a5mvMyPj3DW52EBBhSe5EsbQVSfFL7QdmLd5JJWH4BA\n",
       "b9ILz5kro6JpDGKxsFhLiIB+gdcXZOWRidui1G+TWBXGZU4FjdgeQMP9iPLjBWO5ZHHWDqawo8Vz\n",
       "xyq6D2CvScFGl8fVhS3YvMl98VhwufCOc0jU6zWi62+989cdfZy1g3WePCkEi08IsYctqewzY3+L\n",
       "9AINaTBWF0ud3g5Gj6jZ/VYy2lc8d6ylOxNEePOzXT28vmq2ipvQRlNbilVYB8XrZZdF9Yj2TidF\n",
       "3dYe3eW00ZuZGdCHpxx4sPBUACsxPDN67kuQWPWO0Z1cOiQO9bfFjV5/Mc8MLirZW/5wHL1S+Njr\n",
       "BY23o5HeDjZ+450LzKNdP3gPqnFFn26v1GM/k5rzskrntTLjLf5hxfdpUkS9cwfvFRhlOo6IvkVC\n",
       "EtI8eEr02N4Cq+0m77x0WMA+/WEl1i6J4nAl1jJjezmr4giFUnPh7RDVG3ODrJG0fMZ+qDDzxk1i\n",
       "foCfxERNlFjj1iz+LxAZ1FTKqkHJucNDaxHltIR1YYXz6/npb8VXrGVRVucylVj13CxYxQseD8QV\n",
       "REWlBWJiF8BdEuvAf0fBJgGFeGu4R5qdPwvWRdLY95mQ/qti41t5CfROh8ps9vHGdeP6vy+zLjln\n",
       "WK9Abs6wnp5DGtgPzpxhPbg7XWb7F8BTYKVfSTM4AAAAAElFTkSuQmCC\n",
       "\" style=\"display:inline;vertical-align:middle;\" /></a>"
      ],
      "text/plain": [
       "(〈varphi| . alpha . (A + B + C) . beta . |psi〉 . gamma . 〈varphi| . delta) in_c Q*"
      ]
     },
     "metadata": {},
     "output_type": "display_data"
    }
   ],
   "source": [
    "QmultCodomain.membership_object(qmult3).expr"
   ]
  },
  {
   "cell_type": "code",
   "execution_count": 46,
   "metadata": {},
   "outputs": [
    {
     "data": {
      "text/html": [
       "<span style=\"font-size:20px;\"><a class=\"ProveItLink\" href=\"../__pv_it/demonstrations/6f005ee107395200ff7f4bc83791582bbb4e0f640/expr.ipynb\"><img src=\"data:image/png;base64,iVBORw0KGgoAAAANSUhEUgAAADIAAAAQBAMAAACmdTG/AAAAMFBMVEX///8AAAAAAAAAAAAAAAAA\n",
       "AAAAAAAAAAAAAAAAAAAAAAAAAAAAAAAAAAAAAAAAAAAv3aB7AAAAD3RSTlMAIpnN77uJRKsQdlRm\n",
       "Mt3eazepAAAACXBIWXMAAA7EAAAOxAGVKw4bAAAA4UlEQVQY02NgYBAyCWRAAZypj61kE4CMBPZO\n",
       "VJkVPgyTvioAGWjiDEzLgeqPgmRWoMlcYp3AwMABkpm/ASKy9N07AxDdyQqy6wCQYP0JliheCdUT\n",
       "IARlcHd/BVGMllA+Y8M1KOswQz/QXAZmASifN6EGquQjw/4LIBmYAxgVqiAMjgCG+yCZK++AIABs\n",
       "jxhEhv8Aw30QPRXu6khWCD3/AtAmIOCDyxSB/MNQwMB/gcEaxOdagAiDBiBhwMC2gLsBLGAN17TU\n",
       "SGD2IyCdtQzCnxE+AR7W/o8EkMOrLA4SOlAAAESKNoXM75SxAAAAAElFTkSuQmCC\n",
       "\" style=\"display:inline;vertical-align:middle;\" /></a>, <a class=\"ProveItLink\" href=\"../../../../logic/sets/cartesian_products/__pv_it/theorems/79a768603778550c651661670153c27ee0a505870/expr.ipynb\"><img src=\"data:image/png;base64,iVBORw0KGgoAAAANSUhEUgAAAEYAAAATBAMAAADfQ2bzAAAAMFBMVEX///8AAAAAAAAAAAAAAAAA\n",
       "AAAAAAAAAAAAAAAAAAAAAAAAAAAAAAAAAAAAAAAAAAAv3aB7AAAAD3RSTlMARHarECKJuzJmVO/d\n",
       "mc2qKiq2AAAACXBIWXMAAA7EAAAOxAGVKw4bAAABD0lEQVQoz2NgIAAuMBAGBZSoYTlf/oSBbf9G\n",
       "vOawLxBmYPDHbxfzUbYJDNwMvOXl28srcalZzvCUgQe7OUw1Z86B1UQqxOFQw/jIAWpOgAVTAlwN\n",
       "o7JrUhFHWiFYKs4BZlcAO0MhXA0buxGD/0SG1WCpp3D3BHBc8PGBhbMgTwFDvALDfLDUA4Qahllc\n",
       "1TCeg78Aw3oHhnsgNseeM2fOHIeqYXawhrtzPQNIwTZw8BYgmcNi4ANXY8fAcIyB8SsLiH0ASQ1D\n",
       "EztczTYGlo8MzA8iQWwleFw0AMOqHcZj/cHA+YGBPSEBxOFbABUFM+7Bg+0AA9MFBsZLAWAHmYuA\n",
       "BTnebweSftjjiTEdEhcoAAAiLj7xf6vyygAAAABJRU5ErkJggg==\n",
       "\" style=\"display:inline;vertical-align:middle;\" /></a>, <a class=\"ProveItLink\" href=\"../__pv_it/demonstrations/4827169ff5051c0ad90075d5d60d0692974558df0/expr.ipynb\"><img src=\"data:image/png;base64,iVBORw0KGgoAAAANSUhEUgAAADUAAAATBAMAAADCPVhoAAAAMFBMVEX///8AAAAAAAAAAAAAAAAA\n",
       "AAAAAAAAAAAAAAAAAAAAAAAAAAAAAAAAAAAAAAAAAAAv3aB7AAAAD3RSTlMAIol2mRAyZqtE3VS7\n",
       "ze8XF9CTAAAACXBIWXMAAA7EAAAOxAGVKw4bAAAA9UlEQVQoz2NgwAaCTt01TAKzhExcUaWY+wpY\n",
       "/Y+AWGwGDBWocs6TGBjYwXJBDAyzUKTYHI4CyRYQ04CBwQMiaLNq1QUgxRFwAEiGQ+S4l4Kl5ppC\n",
       "lPAwOkBN4Ew8cTcAxGC8ChWRYFOAspgYymclgBi8AlCRJM4CuBwD+wGwHMwtIpwGUFYw0NgPIEbe\n",
       "KiA4ALYPZuY0oF8fgBgxMH08YHeCAFANTwOIwQWT4wT7jxOIgT7KA7uC2QAeLjOAhC8DA6s7A+dK\n",
       "iNBteHiedWTdBfQjd6axMlQo4mQALB7O/XKEeAEOJp0ChxkcMDHgBsF45KbhlgIAuewwOfL5TtwA\n",
       "AAAASUVORK5CYII=\n",
       "\" style=\"display:inline;vertical-align:middle;\" /></a>, <a class=\"ProveItLink\" href=\"../../../../numbers/number_sets/natural_numbers/__pv_it/theorems/132c57ec1224a4beaf274a23bd799047020206590/expr.ipynb\"><img src=\"data:image/png;base64,iVBORw0KGgoAAAANSUhEUgAAAEEAAAATBAMAAAA9n32KAAAAMFBMVEX///8AAAAAAAAAAAAAAAAA\n",
       "AAAAAAAAAAAAAAAAAAAAAAAAAAAAAAAAAAAAAAAAAAAv3aB7AAAAD3RSTlMARHarECKJu90yVM1m\n",
       "75kejotwAAAACXBIWXMAAA7EAAAOxAGVKw4bAAAA90lEQVQoz2NgwAf4GAgBdrJVeHyvdmDI/SuA\n",
       "x4wqRgMGlg/4bLEIyGFguMDwvLy2vPwAVhVWBdwBDA3YzFDv6NgAok0PsW7AqkJaBcowZZ6ghlDB\n",
       "qOyaVAQWZ90CU2rKUMAuAFfBxm7E4B8AYnEHIFTMY2lpgIWpIEcBQ/wEsAoGhAqeBcsvwHgO/gIM\n",
       "6x1ArLkdQFAAUcFgwgxXwbCegcEazHBHMoPBmaUBzgVK/2EBMTiQVXAqFMC51xi4vrCBGEwKMKFK\n",
       "INaEq2D9ycC04SSYuQsmBmLwbYDxGBsYWGwWgJnOhWAXM8z+C9TPsgFbfIhVdGCKAwDDkzTgOh63\n",
       "3AAAAABJRU5ErkJggg==\n",
       "\" style=\"display:inline;vertical-align:middle;\" /></a>, <a class=\"ProveItLink\" href=\"../__pv_it/demonstrations/209baac38918ef8b1210d5267967da66f42b39310/expr.ipynb\"><img src=\"data:image/png;base64,iVBORw0KGgoAAAANSUhEUgAAADYAAAAQBAMAAACvnpHFAAAAMFBMVEX///8AAAAAAAAAAAAAAAAA\n",
       "AAAAAAAAAAAAAAAAAAAAAAAAAAAAAAAAAAAAAAAAAAAv3aB7AAAAD3RSTlMAiasyIt1EEO9UdruZ\n",
       "zWZ7xlX5AAAACXBIWXMAAA7EAAAOxAGVKw4bAAAA10lEQVQY02NgwAbYpWNvOQtglWJY1MdQ8/sA\n",
       "VimeZUA9r7HL2XAXMDAwocqtDg29AKLVuUF2PkCWyl0OZWzwgQkJChmAaZbrUAEWBUMoyzWBvYVl\n",
       "ApDB6wAVYRbIg7K6GBj2cBWA5GAGsRzIgrr3AwPDWUYQyyIUCDaA7XOEyHEAeRLiIFY13FHbuSF0\n",
       "/QIGBnmQdQyscLkckP8YEhj4gXISYBGuBYhwUQASFxh4NjDwnWcGC91EBMIdh8oYkPfeLeeRAosU\n",
       "bSuAx0N/jANqOCZuhYQZFAAANPAuqY517tAAAAAASUVORK5CYII=\n",
       "\" style=\"display:inline;vertical-align:middle;\" /></a>, <a class=\"ProveItLink\" href=\"../__pv_it/demonstrations/55701387f25fde525e21ebc18286978696667feb0/expr.ipynb\"><img src=\"data:image/png;base64,iVBORw0KGgoAAAANSUhEUgAAAEwAAAAVBAMAAAAeOBUnAAAAMFBMVEX///8AAAAAAAAAAAAAAAAA\n",
       "AAAAAAAAAAAAAAAAAAAAAAAAAAAAAAAAAAAAAAAAAAAv3aB7AAAAD3RSTlMAIolEdjLNuxCZZqtU\n",
       "3e8Ziz2RAAAACXBIWXMAAA7EAAAOxAGVKw4bAAABZ0lEQVQoz2MQYIACVgbsgGtWiCcDgzKMyx6A\n",
       "roBD/VqKqEKX3QI+AYQyngnoyrxfMXR+nyDhxsDfgFDGcAFNFaezAgPD8gkMWxjskCxl0EFTFsne\n",
       "wMDAPYHhKcNMViRl4lDa/e7dBBC9gx3kvgWMHxiuHkVSxgbxtJkHlF8gCaaYNzA4LQApCwXKfW9g\n",
       "4FEAiTJmQFUxbghCcgFQ2QQG1ixrBagf2GAByapghaKMJ4CBG2gFA8NksDKYBOMEExRlTAwMK0BG\n",
       "MkSD+HF3gaAA7DYhFGUsDAwODBwODAyHQPx2uEwFO4oyTgbmAAZOYBglgvi8cBlLULgxGMCVLeBk\n",
       "4NgKdAzYKhYHRCxsABIJcJ+muUXNBWpiOgAWyIEb554p0HMTESBc9/8qIKzrLm6Ap5D3NwUQyhhm\n",
       "gVknoSJGtXcTMFIdSNlTMKuQAQ8AKmP9ALYigYAyFnAssSzAp8wVGBLg5M2NTxUAn11FpH3bB28A\n",
       "AAAASUVORK5CYII=\n",
       "\" style=\"display:inline;vertical-align:middle;\" /></a>, <a class=\"ProveItLink\" href=\"../__pv_it/demonstrations/053fb38df6fcf9baf4abe8cee7dd8e99b8a50fd80/expr.ipynb\"><img src=\"data:image/png;base64,iVBORw0KGgoAAAANSUhEUgAAAF0AAAASBAMAAADLUc9JAAAAMFBMVEX///8AAAAAAAAAAAAAAAAA\n",
       "AAAAAAAAAAAAAAAAAAAAAAAAAAAAAAAAAAAAAAAAAAAv3aB7AAAAD3RSTlMAIs1UmauJMnZmRLsQ\n",
       "3e++988cAAAACXBIWXMAAA7EAAAOxAGVKw4bAAABdklEQVQoz2NgIAjKGBhYBBiIAZyeFS0MDBwJ\n",
       "DJ4MDFOmdwR0bodKCKGr5Mm+pCGecHLdBD6gyR1sDQw8s14yPGVohUrro6tvfclw5LeDTBMD/wEG\n",
       "BjYNBgbGEwoM3xncILLM/9GUs3QlMDDMdmCIYFjHAFHPwNrA/oDhMlQ6Hs0/JdxAY1kdGJ4zuLAz\n",
       "MLSxTGBg4Cvg2MD4oQAsnZgPoRk49t69BKJjuEF+mMD4geG6OdS/8kAbODc4gGQZG/oNwMq5NA5A\n",
       "9G0QgfADGNomgMKTVYBhKQOTAGMEWJ6FwX4CJJigyhkDyvAF82KG+gQwQxEqwJ6wEp96Bwb5ADBD\n",
       "ASrA6LACj3KOLS7xG8DGvr179+5tsPvF8Kg/wcDAfwEcqRtgQnu48TqHgfcBmHUBJrQEFP4MC7Aq\n",
       "5wKGDdMHMLMDEb9AD7EoYFUvB8TcH8FMJgOYYLeKwOErWJWf/q/DwLz/EzhAeaLXwNPn+ytEpHmu\n",
       "bEh6wA0A6ehXuNCZSI8AAAAASUVORK5CYII=\n",
       "\" style=\"display:inline;vertical-align:middle;\" /></a>, <a class=\"ProveItLink\" href=\"../__pv_it/demonstrations/8ad6c394b3f6e47e61283ded938b84fbf01842970/expr.ipynb\"><img src=\"data:image/png;base64,iVBORw0KGgoAAAANSUhEUgAAAF4AAAASBAMAAAAgZnRKAAAAMFBMVEX///8AAAAAAAAAAAAAAAAA\n",
       "AAAAAAAAAAAAAAAAAAAAAAAAAAAAAAAAAAAAAAAAAAAv3aB7AAAAD3RSTlMAZrurzTLvInZEmRDd\n",
       "VIkafcLnAAAACXBIWXMAAA7EAAAOxAGVKw4bAAABg0lEQVQoz2NgIAhYHzAwLGcgCkiJdixgYOhj\n",
       "4BJgYFwY0cwhFIBL5T4dl/Y4bslEhnQGBo6GFwwMG6cJsBlwGAClhP4bGzuhaeQwE+Ber8W+w4Hh\n",
       "N5D3pIGBobqFgT+A6wFIMomBgfkrqvoV8xgYGLUYmBs4E6DqGSwYwhh4LgAZ7D8YGDh/oXpxgTaQ\n",
       "tGJgC+BaEMDA8WAhkJfK0MRQzwpkMALNZvwBcYbOmSMgmnmDApDcyFDPwBMbAPEv+wegDUJcIMkP\n",
       "DAws6SBlnB4bIOYzsS8A05MZOB6Cw9OcgdOAwZ2huBsoyKbAwG0D9m8JVDlDMesD3IEcr9FhIgBm\n",
       "ucOE4jgFcKvvL2DgTQSzHGBCVZwNuNWrAfF7kHtYc86cOXMI4n487vkMxPIg87gVYEJMGxRwJ6eP\n",
       "QMJ+Aoh5ACbGCQ5/TqzqOb4D9XwBMzsQ8TsZSCzBqp4FGOPTvCHMC3BDVJZz31mATTmz/mdjE10I\n",
       "m9toNjx9qv0hIs1zPoKkB9wAAIQTVhI/1yADAAAAAElFTkSuQmCC\n",
       "\" style=\"display:inline;vertical-align:middle;\" /></a>, <a class=\"ProveItLink\" href=\"../__pv_it/demonstrations/3e9076fd26c9c3bd8c96662b37678647e05f14bb0/expr.ipynb\"><img src=\"data:image/png;base64,iVBORw0KGgoAAAANSUhEUgAAAF0AAAASBAMAAADLUc9JAAAAMFBMVEX///8AAAAAAAAAAAAAAAAA\n",
       "AAAAAAAAAAAAAAAAAAAAAAAAAAAAAAAAAAAAAAAAAAAv3aB7AAAAD3RSTlMAEHa7q2Yiie9Umd0y\n",
       "zUTye3nKAAAACXBIWXMAAA7EAAAOxAGVKw4bAAABdElEQVQoz2NgIAiOMzBwJTAQA1iXHtJiYGAq\n",
       "YFjKwBAVo+SgaoNLJWPx3ks5BaIvAjiAJiuxKzAwxrUytDCogOWUXVzZClDVq7QySH1ekKjLwC/A\n",
       "wMB+iYGBTegCwx+G5SA5DUUGztUBKMq59ID6gxcwODG8YICoZ2BR4Glg2AlkCO8BEutRPXSKGWgs\n",
       "ywKGHoZVPAwM6lxA0zgOMBmwfTjAwHADKAU2BgiUd+++AKIdmUHuDGD7wLBnDtS/+UAbWA0WMLD/\n",
       "BBsIVv5WEWq+QRaY4nNgUA8AhSdLAsMTBt4ENicBhvwNIBkZEMF2EaqczeE4zjCuV4AzeWGe4Cl4\n",
       "ilP9foRPeWEMtgWPcKrvB5MgPzOc2A0EBmD3p+M2H0RwHgCRwnBBQ2ac6sEhzw5mcsMFX4HCn+EB\n",
       "NvX5IP8WgplMCoj4dQASF7Cp5/zKwPBcAMK+CRdVvpUguQu7g6RMvGAWi9gJwNNn/y4i0vxz690X\n",
       "8KsAAEEJUlTkiw84AAAAAElFTkSuQmCC\n",
       "\" style=\"display:inline;vertical-align:middle;\" /></a>, <a class=\"ProveItLink\" href=\"../__pv_it/demonstrations/b9ff765654f5a9fab1a0f971ffbd46ba878d2ac30/expr.ipynb\"><img src=\"data:image/png;base64,iVBORw0KGgoAAAANSUhEUgAAAFAAAAAVBAMAAAAjqnRBAAAAMFBMVEX///8AAAAAAAAAAAAAAAAA\n",
       "AAAAAAAAAAAAAAAAAAAAAAAAAAAAAAAAAAAAAAAAAAAv3aB7AAAAD3RSTlMAIolEdjIQVJlm3e/N\n",
       "u6uczJRnAAAACXBIWXMAAA7EAAAOxAGVKw4bAAABgklEQVQoz2MQYIACVgbsgLMzxI9lbgCDMkyA\n",
       "NwBdCZvumiOiCpnWE7gfsDyAKmRhYGBvQFfot5Mh42+DmA8DfwCHAlQhExAvQFPH4azAwDC3geEJ\n",
       "QzQDVwFUYQoQq6MpjOBNYGDga2DYyuDLIM8KVVgKxLJQBb6rVh0A0c94Qe6cwPgBaOZcDqhCoCUM\n",
       "PJAAsHGDarggAaaYHzAcZJBzAypk85jAoMCygIEdpJqB8RhUHeODIBSXKDMwsW9gm8DyDeobHljA\n",
       "sipYoikM51jAKcCwgYGhGawQJsHYYIKmMIHbARg6wFCMA/GjVwHBBbAbhdAUMtQnMDGwOTAwFIH4\n",
       "uXCZa7zoCnsYxBlYgGF2EMTngstYgMKRwQBJYS/DNAZjoKPAFrI4IGLmAZA4gKTQWkCBE6iRqQAs\n",
       "cBxupO8JgfQVyFazPrriiLA073ICPPXsXyGArJCBFWxWBVTE6NaqA1jSJUghC9iMiwx4gTI0kTGw\n",
       "HSCskAXs3Qn4FbrCGHz41QEAUKNKBCB71lUAAAAASUVORK5CYII=\n",
       "\" style=\"display:inline;vertical-align:middle;\" /></a>, <a class=\"ProveItLink\" href=\"../__pv_it/demonstrations/a96adf032fe1e70a10118c41779605949495a8190/expr.ipynb\"><img src=\"data:image/png;base64,iVBORw0KGgoAAAANSUhEUgAAADQAAAAUBAMAAAAw+gPuAAAAMFBMVEX///8AAAAAAAAAAAAAAAAA\n",
       "AAAAAAAAAAAAAAAAAAAAAAAAAAAAAAAAAAAAAAAAAAAv3aB7AAAAD3RSTlMAVN27EERm75mJq3Yi\n",
       "Ms2Hvvv4AAAACXBIWXMAAA7EAAAOxAGVKw4bAAAA1ElEQVQoz2NgwAJYJuu9PjsBmwzDrjIGj88N\n",
       "2GQ4tgJ1JGOVusHswMDAhSK1WUnpAYhewgyyLwFJJm4LlGFwAsoQ+uzAEAKkeZ5ABXgW3IQw2Com\n",
       "LWDYAGTwHYBK8U4IgzAOMzDY8l4AScEM5mmIhjCAFnhzgxjXlYDAAGzXSbj9nAdBpDOcb8KMkAJZ\n",
       "xcAE50eA/MUQAJYCBxf3BkRoLAASYC9yXgCLPET4/cUBRw2IKoiAl6kDPOTrNSBe4YKKRBpBAgoJ\n",
       "RDLgBFNxSxngljqAXRgAVG4uiC3eUoAAAAAASUVORK5CYII=\n",
       "\" style=\"display:inline;vertical-align:middle;\" /></a> <a class=\"ProveItLink\" href=\"../__pv_it/demonstrations/b3539572874ac6fe85362ca04dc4ac662897d80b0/proof.ipynb\" style=\"text-decoration: none\">&nbsp;&#x22A2;&nbsp;&nbsp;</a><a class=\"ProveItLink\" href=\"../__pv_it/demonstrations/2bc34d5ab46c87c90dc26d4bfc171573451bccb00/expr.ipynb\"><img src=\"data:image/png;base64,iVBORw0KGgoAAAANSUhEUgAAAVYAAAAdBAMAAAADaVmrAAAAMFBMVEX///8AAAAAAAAAAAAAAAAA\n",
       "AAAAAAAAAAAAAAAAAAAAAAAAAAAAAAAAAAAAAAAAAAAv3aB7AAAAD3RSTlMAInZUiRDNmWbv3US7\n",
       "qzJazP2FAAAACXBIWXMAAA7EAAAOxAGVKw4bAAAFiElEQVRYw+2Xf2gcVRDH5/bH/cjebZc2KEiR\n",
       "bf3RIFVDKRZFzTW2IEjrEkpBaGlsTYkg9oRUQ5vgUdC0/ozSoqLIgRb0Qk2QUpuWtpdIEStpIrYF\n",
       "K2lXRLGVJpdoo8TG8828t3u37+6E5h8JdCF79+a9m/3svO/MvACABQAuiMuC4BWC67+samNTmjDL\n",
       "nlL9caEUuyn17EvOMz0mLbmNL2y+HtbPpbHvM+4GJxZ6X7Q+vN/89IBhV/Gp/pxiU8txbX0VVjVJ\n",
       "H+G8/NvXCqOjz7iytWloNF0LStob1y7Z7vtUmLdUcPkjQdakcRbqKmB+P5WEUNtQPegYshqowrqe\n",
       "fzSUscIHAIl/JJvytgMrPgFo8fbYhtd9nxr7ywTXZ4KsZzEqjvwgY3BszxTAF5sdiGAQVlRjbecf\n",
       "nRNifNiXzyTz8mfQqJ9igY6wpV3CsA7giO+zqTSQPGCpIOvd7C+aklmXMse9trJ6bTPEcHy6Gms3\n",
       "d1XrRXCZNxFlluhk0Bjeh2FgP4mJ4DCFdfo+Hy4VqCRfzroJlbhPEGazPEc0TKUTGQiNANyHAWmu\n",
       "wqryifnK7zJrgqki/FbQ+Dg+y2SBCac9VnW/7xOVH7YqCMxnjV9lt1YyHLrDmzqB7x3LUzVpQ50x\n",
       "32NswTWH+9VWXeALIzy1UupfMmssB/p5N2AMTZMQmFEb4Ur7cWirQ6z6kjQklQxPVbX3JBhoZ3lk\n",
       "umBsO8lZ1e+usfsactXiv8bektxuFamVArP1WJJYQz3whLWA1lCAjHrzD5l1fHDxuXTQqE36AhHb\n",
       "B7uPuMSqqd16WrnKs2lP2wEsCjSIAPzy6hnO+jJcdPAeiL/6N415Fn7E/o4xmwsJgByxxmyIp2gT\n",
       "aqiWRSA0I7Pea4H6btBYM+E/oNvL/GiOWH+KZKIWin8n1fK4O4YhGCERj0CcWEMT0MDe7H5iK6qD\n",
       "nMZ4xr0P5IH5fQmDi6wvMrxm2v0Y6WjpC524O7Ajm30vmz1AP/sa9ekGjDHaKB01m/cy38gTqxOz\n",
       "NfQOV5jgHNBtLPmRPhRxlJUiYk3kYJw5HMdfXsqyi/pTguI67vqsdVSpbeaDWFnp1PY6PiuzwrQc\n",
       "Vwz0m3Ywrnkv3Q0e1+PMbTfPrQZHIz/L+dKV9SJLbHxwE7HOSxNnP85vKJZs2tGvwNfAetxnw4UI\n",
       "5ZbOdKfxxCcNME3BpxKricl2sS9gjEx46a5mvMyPj3DW52EBBhSe5EsbQVSfFL7QdmLd5JJWH4BA\n",
       "b9ILz5kro6JpDGKxsFhLiIB+gdcXZOWRidui1G+TWBXGZU4FjdgeQMP9iPLjBWO5ZHHWDqawo8Vz\n",
       "xyq6D2CvScFGl8fVhS3YvMl98VhwufCOc0jU6zWi62+989cdfZy1g3WePCkEi08IsYctqewzY3+L\n",
       "9AINaTBWF0ud3g5Gj6jZ/VYy2lc8d6ylOxNEePOzXT28vmq2ipvQRlNbilVYB8XrZZdF9Yj2TidF\n",
       "3dYe3eW00ZuZGdCHpxx4sPBUACsxPDN67kuQWPWO0Z1cOiQO9bfFjV5/Mc8MLirZW/5wHL1S+Njr\n",
       "BY23o5HeDjZ+450LzKNdP3gPqnFFn26v1GM/k5rzskrntTLjLf5hxfdpUkS9cwfvFRhlOo6IvkVC\n",
       "EtI8eEr02N4Cq+0m77x0WMA+/WEl1i6J4nAl1jJjezmr4giFUnPh7RDVG3ODrJG0fMZ+qDDzxk1i\n",
       "foCfxERNlFjj1iz+LxAZ1FTKqkHJucNDaxHltIR1YYXz6/npb8VXrGVRVucylVj13CxYxQseD8QV\n",
       "REWlBWJiF8BdEuvAf0fBJgGFeGu4R5qdPwvWRdLY95mQ/qti41t5CfROh8ps9vHGdeP6vy+zLjln\n",
       "WK9Abs6wnp5DGtgPzpxhPbg7XWb7F8BTYKVfSTM4AAAAAElFTkSuQmCC\n",
       "\" style=\"display:inline;vertical-align:middle;\" /></a></span>"
      ],
      "text/plain": [
       "{delta in Complex, m in NaturalPos, beta in Complex, n in NaturalPos, alpha in Complex, |varphi〉 in Complex^{n}, A in Complex^{n x m}, B in Complex^{n x m}, C in Complex^{n x m}, |psi〉 in Complex^{m}, gamma in Complex} |- (〈varphi| . alpha . (A + B + C) . beta . |psi〉 . gamma . 〈varphi| . delta) in_c Q*"
      ]
     },
     "metadata": {},
     "output_type": "display_data"
    }
   ],
   "source": [
    "InClass(qmult3, QmultCodomain).prove()"
   ]
  },
  {
   "cell_type": "code",
   "execution_count": 47,
   "metadata": {},
   "outputs": [
    {
     "data": {
      "text/html": [
       "<span style=\"font-size:20px;\"><a class=\"ProveItLink\" href=\"../__pv_it/demonstrations/209baac38918ef8b1210d5267967da66f42b39310/expr.ipynb\"><img src=\"data:image/png;base64,iVBORw0KGgoAAAANSUhEUgAAADYAAAAQBAMAAACvnpHFAAAAMFBMVEX///8AAAAAAAAAAAAAAAAA\n",
       "AAAAAAAAAAAAAAAAAAAAAAAAAAAAAAAAAAAAAAAAAAAv3aB7AAAAD3RSTlMAiasyIt1EEO9UdruZ\n",
       "zWZ7xlX5AAAACXBIWXMAAA7EAAAOxAGVKw4bAAAA10lEQVQY02NgwAbYpWNvOQtglWJY1MdQ8/sA\n",
       "VimeZUA9r7HL2XAXMDAwocqtDg29AKLVuUF2PkCWyl0OZWzwgQkJChmAaZbrUAEWBUMoyzWBvYVl\n",
       "ApDB6wAVYRbIg7K6GBj2cBWA5GAGsRzIgrr3AwPDWUYQyyIUCDaA7XOEyHEAeRLiIFY13FHbuSF0\n",
       "/QIGBnmQdQyscLkckP8YEhj4gXISYBGuBYhwUQASFxh4NjDwnWcGC91EBMIdh8oYkPfeLeeRAosU\n",
       "bSuAx0N/jANqOCZuhYQZFAAANPAuqY517tAAAAAASUVORK5CYII=\n",
       "\" style=\"display:inline;vertical-align:middle;\" /></a>, <a class=\"ProveItLink\" href=\"../__pv_it/demonstrations/4827169ff5051c0ad90075d5d60d0692974558df0/expr.ipynb\"><img src=\"data:image/png;base64,iVBORw0KGgoAAAANSUhEUgAAADUAAAATBAMAAADCPVhoAAAAMFBMVEX///8AAAAAAAAAAAAAAAAA\n",
       "AAAAAAAAAAAAAAAAAAAAAAAAAAAAAAAAAAAAAAAAAAAv3aB7AAAAD3RSTlMAIol2mRAyZqtE3VS7\n",
       "ze8XF9CTAAAACXBIWXMAAA7EAAAOxAGVKw4bAAAA9UlEQVQoz2NgwAaCTt01TAKzhExcUaWY+wpY\n",
       "/Y+AWGwGDBWocs6TGBjYwXJBDAyzUKTYHI4CyRYQ04CBwQMiaLNq1QUgxRFwAEiGQ+S4l4Kl5ppC\n",
       "lPAwOkBN4Ew8cTcAxGC8ChWRYFOAspgYymclgBi8AlCRJM4CuBwD+wGwHMwtIpwGUFYw0NgPIEbe\n",
       "KiA4ALYPZuY0oF8fgBgxMH08YHeCAFANTwOIwQWT4wT7jxOIgT7KA7uC2QAeLjOAhC8DA6s7A+dK\n",
       "iNBteHiedWTdBfQjd6axMlQo4mQALB7O/XKEeAEOJp0ChxkcMDHgBsF45KbhlgIAuewwOfL5TtwA\n",
       "AAAASUVORK5CYII=\n",
       "\" style=\"display:inline;vertical-align:middle;\" /></a>, <a class=\"ProveItLink\" href=\"../__pv_it/demonstrations/a96adf032fe1e70a10118c41779605949495a8190/expr.ipynb\"><img src=\"data:image/png;base64,iVBORw0KGgoAAAANSUhEUgAAADQAAAAUBAMAAAAw+gPuAAAAMFBMVEX///8AAAAAAAAAAAAAAAAA\n",
       "AAAAAAAAAAAAAAAAAAAAAAAAAAAAAAAAAAAAAAAAAAAv3aB7AAAAD3RSTlMAVN27EERm75mJq3Yi\n",
       "Ms2Hvvv4AAAACXBIWXMAAA7EAAAOxAGVKw4bAAAA1ElEQVQoz2NgwAJYJuu9PjsBmwzDrjIGj88N\n",
       "2GQ4tgJ1JGOVusHswMDAhSK1WUnpAYhewgyyLwFJJm4LlGFwAsoQ+uzAEAKkeZ5ABXgW3IQw2Com\n",
       "LWDYAGTwHYBK8U4IgzAOMzDY8l4AScEM5mmIhjCAFnhzgxjXlYDAAGzXSbj9nAdBpDOcb8KMkAJZ\n",
       "xcAE50eA/MUQAJYCBxf3BkRoLAASYC9yXgCLPET4/cUBRw2IKoiAl6kDPOTrNSBe4YKKRBpBAgoJ\n",
       "RDLgBFNxSxngljqAXRgAVG4uiC3eUoAAAAAASUVORK5CYII=\n",
       "\" style=\"display:inline;vertical-align:middle;\" /></a>, <a class=\"ProveItLink\" href=\"../__pv_it/demonstrations/6f005ee107395200ff7f4bc83791582bbb4e0f640/expr.ipynb\"><img src=\"data:image/png;base64,iVBORw0KGgoAAAANSUhEUgAAADIAAAAQBAMAAACmdTG/AAAAMFBMVEX///8AAAAAAAAAAAAAAAAA\n",
       "AAAAAAAAAAAAAAAAAAAAAAAAAAAAAAAAAAAAAAAAAAAv3aB7AAAAD3RSTlMAIpnN77uJRKsQdlRm\n",
       "Mt3eazepAAAACXBIWXMAAA7EAAAOxAGVKw4bAAAA4UlEQVQY02NgYBAyCWRAAZypj61kE4CMBPZO\n",
       "VJkVPgyTvioAGWjiDEzLgeqPgmRWoMlcYp3AwMABkpm/ASKy9N07AxDdyQqy6wCQYP0JliheCdUT\n",
       "IARlcHd/BVGMllA+Y8M1KOswQz/QXAZmASifN6EGquQjw/4LIBmYAxgVqiAMjgCG+yCZK++AIABs\n",
       "jxhEhv8Aw30QPRXu6khWCD3/AtAmIOCDyxSB/MNQwMB/gcEaxOdagAiDBiBhwMC2gLsBLGAN17TU\n",
       "SGD2IyCdtQzCnxE+AR7W/o8EkMOrLA4SOlAAAESKNoXM75SxAAAAAElFTkSuQmCC\n",
       "\" style=\"display:inline;vertical-align:middle;\" /></a>, <a class=\"ProveItLink\" href=\"../../../../logic/sets/cartesian_products/__pv_it/theorems/79a768603778550c651661670153c27ee0a505870/expr.ipynb\"><img src=\"data:image/png;base64,iVBORw0KGgoAAAANSUhEUgAAAEYAAAATBAMAAADfQ2bzAAAAMFBMVEX///8AAAAAAAAAAAAAAAAA\n",
       "AAAAAAAAAAAAAAAAAAAAAAAAAAAAAAAAAAAAAAAAAAAv3aB7AAAAD3RSTlMARHarECKJuzJmVO/d\n",
       "mc2qKiq2AAAACXBIWXMAAA7EAAAOxAGVKw4bAAABD0lEQVQoz2NgIAAuMBAGBZSoYTlf/oSBbf9G\n",
       "vOawLxBmYPDHbxfzUbYJDNwMvOXl28srcalZzvCUgQe7OUw1Z86B1UQqxOFQw/jIAWpOgAVTAlwN\n",
       "o7JrUhFHWiFYKs4BZlcAO0MhXA0buxGD/0SG1WCpp3D3BHBc8PGBhbMgTwFDvALDfLDUA4Qahllc\n",
       "1TCeg78Aw3oHhnsgNseeM2fOHIeqYXawhrtzPQNIwTZw8BYgmcNi4ANXY8fAcIyB8SsLiH0ASQ1D\n",
       "EztczTYGlo8MzA8iQWwleFw0AMOqHcZj/cHA+YGBPSEBxOFbABUFM+7Bg+0AA9MFBsZLAWAHmYuA\n",
       "BTnebweSftjjiTEdEhcoAAAiLj7xf6vyygAAAABJRU5ErkJggg==\n",
       "\" style=\"display:inline;vertical-align:middle;\" /></a>, <a class=\"ProveItLink\" href=\"../../../../numbers/number_sets/natural_numbers/__pv_it/theorems/132c57ec1224a4beaf274a23bd799047020206590/expr.ipynb\"><img src=\"data:image/png;base64,iVBORw0KGgoAAAANSUhEUgAAAEEAAAATBAMAAAA9n32KAAAAMFBMVEX///8AAAAAAAAAAAAAAAAA\n",
       "AAAAAAAAAAAAAAAAAAAAAAAAAAAAAAAAAAAAAAAAAAAv3aB7AAAAD3RSTlMARHarECKJu90yVM1m\n",
       "75kejotwAAAACXBIWXMAAA7EAAAOxAGVKw4bAAAA90lEQVQoz2NgwAf4GAgBdrJVeHyvdmDI/SuA\n",
       "x4wqRgMGlg/4bLEIyGFguMDwvLy2vPwAVhVWBdwBDA3YzFDv6NgAok0PsW7AqkJaBcowZZ6ghlDB\n",
       "qOyaVAQWZ90CU2rKUMAuAFfBxm7E4B8AYnEHIFTMY2lpgIWpIEcBQ/wEsAoGhAqeBcsvwHgO/gIM\n",
       "6x1ArLkdQFAAUcFgwgxXwbCegcEazHBHMoPBmaUBzgVK/2EBMTiQVXAqFMC51xi4vrCBGEwKMKFK\n",
       "INaEq2D9ycC04SSYuQsmBmLwbYDxGBsYWGwWgJnOhWAXM8z+C9TPsgFbfIhVdGCKAwDDkzTgOh63\n",
       "3AAAAABJRU5ErkJggg==\n",
       "\" style=\"display:inline;vertical-align:middle;\" /></a>, <a class=\"ProveItLink\" href=\"../__pv_it/demonstrations/b9ff765654f5a9fab1a0f971ffbd46ba878d2ac30/expr.ipynb\"><img src=\"data:image/png;base64,iVBORw0KGgoAAAANSUhEUgAAAFAAAAAVBAMAAAAjqnRBAAAAMFBMVEX///8AAAAAAAAAAAAAAAAA\n",
       "AAAAAAAAAAAAAAAAAAAAAAAAAAAAAAAAAAAAAAAAAAAv3aB7AAAAD3RSTlMAIolEdjIQVJlm3e/N\n",
       "u6uczJRnAAAACXBIWXMAAA7EAAAOxAGVKw4bAAABgklEQVQoz2MQYIACVgbsgLMzxI9lbgCDMkyA\n",
       "NwBdCZvumiOiCpnWE7gfsDyAKmRhYGBvQFfot5Mh42+DmA8DfwCHAlQhExAvQFPH4azAwDC3geEJ\n",
       "QzQDVwFUYQoQq6MpjOBNYGDga2DYyuDLIM8KVVgKxLJQBb6rVh0A0c94Qe6cwPgBaOZcDqhCoCUM\n",
       "PJAAsHGDarggAaaYHzAcZJBzAypk85jAoMCygIEdpJqB8RhUHeODIBSXKDMwsW9gm8DyDeobHljA\n",
       "sipYoikM51jAKcCwgYGhGawQJsHYYIKmMIHbARg6wFCMA/GjVwHBBbAbhdAUMtQnMDGwOTAwFIH4\n",
       "uXCZa7zoCnsYxBlYgGF2EMTngstYgMKRwQBJYS/DNAZjoKPAFrI4IGLmAZA4gKTQWkCBE6iRqQAs\n",
       "cBxupO8JgfQVyFazPrriiLA073ICPPXsXyGArJCBFWxWBVTE6NaqA1jSJUghC9iMiwx4gTI0kTGw\n",
       "HSCskAXs3Qn4FbrCGHz41QEAUKNKBCB71lUAAAAASUVORK5CYII=\n",
       "\" style=\"display:inline;vertical-align:middle;\" /></a>, <a class=\"ProveItLink\" href=\"../__pv_it/demonstrations/053fb38df6fcf9baf4abe8cee7dd8e99b8a50fd80/expr.ipynb\"><img src=\"data:image/png;base64,iVBORw0KGgoAAAANSUhEUgAAAF0AAAASBAMAAADLUc9JAAAAMFBMVEX///8AAAAAAAAAAAAAAAAA\n",
       "AAAAAAAAAAAAAAAAAAAAAAAAAAAAAAAAAAAAAAAAAAAv3aB7AAAAD3RSTlMAIs1UmauJMnZmRLsQ\n",
       "3e++988cAAAACXBIWXMAAA7EAAAOxAGVKw4bAAABdklEQVQoz2NgIAjKGBhYBBiIAZyeFS0MDBwJ\n",
       "DJ4MDFOmdwR0bodKCKGr5Mm+pCGecHLdBD6gyR1sDQw8s14yPGVohUrro6tvfclw5LeDTBMD/wEG\n",
       "BjYNBgbGEwoM3xncILLM/9GUs3QlMDDMdmCIYFjHAFHPwNrA/oDhMlQ6Hs0/JdxAY1kdGJ4zuLAz\n",
       "MLSxTGBg4Cvg2MD4oQAsnZgPoRk49t69BKJjuEF+mMD4geG6OdS/8kAbODc4gGQZG/oNwMq5NA5A\n",
       "9G0QgfADGNomgMKTVYBhKQOTAGMEWJ6FwX4CJJigyhkDyvAF82KG+gQwQxEqwJ6wEp96Bwb5ADBD\n",
       "ASrA6LACj3KOLS7xG8DGvr179+5tsPvF8Kg/wcDAfwEcqRtgQnu48TqHgfcBmHUBJrQEFP4MC7Aq\n",
       "5wKGDdMHMLMDEb9AD7EoYFUvB8TcH8FMJgOYYLeKwOErWJWf/q/DwLz/EzhAeaLXwNPn+ytEpHmu\n",
       "bEh6wA0A6ehXuNCZSI8AAAAASUVORK5CYII=\n",
       "\" style=\"display:inline;vertical-align:middle;\" /></a>, <a class=\"ProveItLink\" href=\"../__pv_it/demonstrations/8ad6c394b3f6e47e61283ded938b84fbf01842970/expr.ipynb\"><img src=\"data:image/png;base64,iVBORw0KGgoAAAANSUhEUgAAAF4AAAASBAMAAAAgZnRKAAAAMFBMVEX///8AAAAAAAAAAAAAAAAA\n",
       "AAAAAAAAAAAAAAAAAAAAAAAAAAAAAAAAAAAAAAAAAAAv3aB7AAAAD3RSTlMAZrurzTLvInZEmRDd\n",
       "VIkafcLnAAAACXBIWXMAAA7EAAAOxAGVKw4bAAABg0lEQVQoz2NgIAhYHzAwLGcgCkiJdixgYOhj\n",
       "4BJgYFwY0cwhFIBL5T4dl/Y4bslEhnQGBo6GFwwMG6cJsBlwGAClhP4bGzuhaeQwE+Ber8W+w4Hh\n",
       "N5D3pIGBobqFgT+A6wFIMomBgfkrqvoV8xgYGLUYmBs4E6DqGSwYwhh4LgAZ7D8YGDh/oXpxgTaQ\n",
       "tGJgC+BaEMDA8WAhkJfK0MRQzwpkMALNZvwBcYbOmSMgmnmDApDcyFDPwBMbAPEv+wegDUJcIMkP\n",
       "DAws6SBlnB4bIOYzsS8A05MZOB6Cw9OcgdOAwZ2huBsoyKbAwG0D9m8JVDlDMesD3IEcr9FhIgBm\n",
       "ucOE4jgFcKvvL2DgTQSzHGBCVZwNuNWrAfF7kHtYc86cOXMI4n487vkMxPIg87gVYEJMGxRwJ6eP\n",
       "QMJ+Aoh5ACbGCQ5/TqzqOb4D9XwBMzsQ8TsZSCzBqp4FGOPTvCHMC3BDVJZz31mATTmz/mdjE10I\n",
       "m9toNjx9qv0hIs1zPoKkB9wAAIQTVhI/1yADAAAAAElFTkSuQmCC\n",
       "\" style=\"display:inline;vertical-align:middle;\" /></a>, <a class=\"ProveItLink\" href=\"../__pv_it/demonstrations/3e9076fd26c9c3bd8c96662b37678647e05f14bb0/expr.ipynb\"><img src=\"data:image/png;base64,iVBORw0KGgoAAAANSUhEUgAAAF0AAAASBAMAAADLUc9JAAAAMFBMVEX///8AAAAAAAAAAAAAAAAA\n",
       "AAAAAAAAAAAAAAAAAAAAAAAAAAAAAAAAAAAAAAAAAAAv3aB7AAAAD3RSTlMAEHa7q2Yiie9Umd0y\n",
       "zUTye3nKAAAACXBIWXMAAA7EAAAOxAGVKw4bAAABdElEQVQoz2NgIAiOMzBwJTAQA1iXHtJiYGAq\n",
       "YFjKwBAVo+SgaoNLJWPx3ks5BaIvAjiAJiuxKzAwxrUytDCogOWUXVzZClDVq7QySH1ekKjLwC/A\n",
       "wMB+iYGBTegCwx+G5SA5DUUGztUBKMq59ID6gxcwODG8YICoZ2BR4Glg2AlkCO8BEutRPXSKGWgs\n",
       "ywKGHoZVPAwM6lxA0zgOMBmwfTjAwHADKAU2BgiUd+++AKIdmUHuDGD7wLBnDtS/+UAbWA0WMLD/\n",
       "BBsIVv5WEWq+QRaY4nNgUA8AhSdLAsMTBt4ENicBhvwNIBkZEMF2EaqczeE4zjCuV4AzeWGe4Cl4\n",
       "ilP9foRPeWEMtgWPcKrvB5MgPzOc2A0EBmD3p+M2H0RwHgCRwnBBQ2ac6sEhzw5mcsMFX4HCn+EB\n",
       "NvX5IP8WgplMCoj4dQASF7Cp5/zKwPBcAMK+CRdVvpUguQu7g6RMvGAWi9gJwNNn/y4i0vxz690X\n",
       "8KsAAEEJUlTkiw84AAAAAElFTkSuQmCC\n",
       "\" style=\"display:inline;vertical-align:middle;\" /></a>, <a class=\"ProveItLink\" href=\"../__pv_it/demonstrations/55701387f25fde525e21ebc18286978696667feb0/expr.ipynb\"><img src=\"data:image/png;base64,iVBORw0KGgoAAAANSUhEUgAAAEwAAAAVBAMAAAAeOBUnAAAAMFBMVEX///8AAAAAAAAAAAAAAAAA\n",
       "AAAAAAAAAAAAAAAAAAAAAAAAAAAAAAAAAAAAAAAAAAAv3aB7AAAAD3RSTlMAIolEdjLNuxCZZqtU\n",
       "3e8Ziz2RAAAACXBIWXMAAA7EAAAOxAGVKw4bAAABZ0lEQVQoz2MQYIACVgbsgGtWiCcDgzKMyx6A\n",
       "roBD/VqKqEKX3QI+AYQyngnoyrxfMXR+nyDhxsDfgFDGcAFNFaezAgPD8gkMWxjskCxl0EFTFsne\n",
       "wMDAPYHhKcNMViRl4lDa/e7dBBC9gx3kvgWMHxiuHkVSxgbxtJkHlF8gCaaYNzA4LQApCwXKfW9g\n",
       "4FEAiTJmQFUxbghCcgFQ2QQG1ixrBagf2GAByapghaKMJ4CBG2gFA8NksDKYBOMEExRlTAwMK0BG\n",
       "MkSD+HF3gaAA7DYhFGUsDAwODBwODAyHQPx2uEwFO4oyTgbmAAZOYBglgvi8cBlLULgxGMCVLeBk\n",
       "4NgKdAzYKhYHRCxsABIJcJ+muUXNBWpiOgAWyIEb554p0HMTESBc9/8qIKzrLm6Ap5D3NwUQyhhm\n",
       "gVknoSJGtXcTMFIdSNlTMKuQAQ8AKmP9ALYigYAyFnAssSzAp8wVGBLg5M2NTxUAn11FpH3bB28A\n",
       "AAAASUVORK5CYII=\n",
       "\" style=\"display:inline;vertical-align:middle;\" /></a> <a class=\"ProveItLink\" href=\"../__pv_it/demonstrations/00bd838c88dbd67da82e0f7212430c2b1abadc930/proof.ipynb\" style=\"text-decoration: none\">&nbsp;&#x22A2;&nbsp;&nbsp;</a><a class=\"ProveItLink\" href=\"../__pv_it/demonstrations/c99db15a7239005903d9d2e15d650dc421c1b0ea0/expr.ipynb\"><img src=\"data:image/png;base64,iVBORw0KGgoAAAANSUhEUgAAA7MAAAAVBAMAAABmnaQyAAAAMFBMVEX///8AAAAAAAAAAAAAAAAA\n",
       "AAAAAAAAAAAAAAAAAAAAAAAAAAAAAAAAAAAAAAAAAAAv3aB7AAAAD3RSTlMAInZUiRDNmWbv3US7\n",
       "qzJazP2FAAAACXBIWXMAAA7EAAAOxAGVKw4bAAAJlElEQVRo3q1ae4hU1xn/ZubevbPOw4sKBZE6\n",
       "brJNU5JmCaGiNN3pRqFpanJZim0habYPg0Jp5g9jFqM4DTSm1eIaal8J7UBSaFayDiEtWYtm1hJK\n",
       "C+pAE1tKNk4b6JPER2oarNF+33ndc8699+yueuG47jnnnt/jO++7ABACQA/EE4L55GDBT+IV1WbV\n",
       "KqgmXgkz2sul1k5/FgCXy3i95+Jz3aAWIiou7lklSa6h/CU/hC92ZPY91os38IbHFhDaUs3KUG2W\n",
       "LVor5H+8NoFseyZ8MaW9G0Qyaxu6x64CDj60ZSZBdS47rk5ZBpRblPnExScs7SZXaSIz8g56cShD\n",
       "S6HOfvSdtaH2Xpmd/YbdgWD0+GxzGXxUwY48Gqk289haw6x+l0HcgyNRvpkQRRQYjbsyXZD0lt30\n",
       "yPzhoF56PaaqHocdxZMfzJ46cd2gnKL8W2b/lKvHJopi7B+rrZibXKWJlHzq8YsgI7Qb+Y/hRGjh\n",
       "GYDKZbvHPxXB6l9AXyR+/ysUu6pND1PLrN8ydFXotU0JoI2SRisztIJetQbfmz8cvE6dIrKactrR\n",
       "jyPkdO96QTlF3TwIhe3N2ERRXNfJscfiqkzEFND7q7NCO85/7Dwnfn9ZDcjzOPP+18z0f4+yg3NQ\n",
       "FF3Yr0Oppdoc1fso77YNQ1eeusHuRGjHRbJq64+g93mAw/OHg1tpIDYsYU47VuKgeaVxjVClpiYs\n",
       "S9T9U/jPrjA2kRf7NX2YssfiqkzE1G/O31ZoJzjsMjk+b1eTE+YUz5uZfQeIOb5yAOREFcSj9lP6\n",
       "ymItUIy4/y4NDLtvMwoTydr6nCTooe6d84eDB8mjA5Ywpx37sIV9tWuEKtQ0YVmitpAN05qJvLjQ\n",
       "0xdXSOGqTMT0CTkLpWkp8IIl+Xft0FZwDuzbb2beRwKq2A83q9CujddaWjj6wpTZXuk6iZX77MWW\n",
       "KDAaGyErtJJeDQo/XwBc+QIoqkqD047TZHp4jVAytC5RHhP0d81EXkxTP3wlsYDoXKWJmLYCX3Pf\n",
       "AfjVpUisxeveFNMT30U1Cu/bocVlx/9zz8jMXWRYmLmBZxxdcWoTx/RvakI93+I7h8KhV6FEIceN\n",
       "RbUHpYdf5cTvHMb+6HWt0BIFRsOqDes2yB4v6JX+cvyhKAkHa1HWL5MNFP5wCRRVJcxpB+4vHphy\n",
       "QGUpM6BkaF2iVrIl+MuaiVg8Oo6h/Rjf6Ckom6syEdNmsRQ3oLr5SJ2V5w7Cl8KlbIplY6g0VP2P\n",
       "HdozxwZONc1M77wsfIL/qBf3TPHQeoUJv5m/wHcN39n6AvVF9ksA8Lc9rzFdxbHKBfqXSrZP0vOC\n",
       "pMBomLVhedvfnxvS6Xnw5OFeEq74w892aQK1G3gCTkeKqhLmsqN6aeDWzeCAylBmQsnQukTdF5+U\n",
       "hIlYXF8DX4TbIr5xklAW19hETM9ixhE2i1cAOqy8vwblxiDbfjHvAsh9YIf2thAKPzIzF8m9FqwB\n",
       "OVHt5aF9K2gVQ1pcHmNrRbn3DoWky5apLpSZrpVhAZfMwoQ1aokCJas2PAXw23yk08PZqthJwNEq\n",
       "eAJHht1A7hwM9xRVJcxlRx4FrmlmQ2UpM6FkaF2iDsXTuzDRa1eHtsO3aC8QtDUoi2tsIqangdFC\n",
       "st+m+FP5Lnx9jM1l/WyWuOXRnZfEWPqxGEvwO1pbe0ZmPzuC+DSkQW7nXuGhjfprHrUOb6NBEZaQ\n",
       "PKJYh2KEsSFdb0AVWVXtYxZRoGTVDrDeNrb0KHq4US2dTcABBmU0n4SrdOBMT1DVhLnsKKNj3uVs\n",
       "qCxlGlQwOfn8TyYnu+AW9TMmLNJM9No+Br5OY7za1aAsrrGJmJ7mM36etgbYzj18SfG+H6nQUusX\n",
       "7VFL42RfzRy1Z+V2cZrv8lHOzWJ9H4481s4dvOqnh8SSViPgUabrfcaoNJERWqs2HTHvXg86vaNY\n",
       "aSIVzluahFvcZF5PW8JcdizuylNBNlSaMhNKjlqXqENyO6xMxOLCBQztqLpG4lAW19hETM/yfVpA\n",
       "jQRsLfbPyy0an5Cxo8DzlgNV2ricbhuZwTm5XVyrTvLHRWi3wVLqaXJ3NyI3dw1y6REi7l9mS0Sh\n",
       "Za21ckI2a8ODNbEjj+khcrmbCufVINlAjy1+a1Mm5Cw7zmAgKv9zQ6Uos6D0CTlLFDvRerqJWByM\n",
       "4TI8GG/GRyDJNTYR0zGaaUI8qgfgv8l30KSFD55yTZzmH7YcoGWn+p6ZSbcY4FH33sv3CVhlvwjt\n",
       "Dpwzfh2fydaxf2fo2N6AB3pM12XoGxJLmHFErAkaZu3FmHW3umxg9FDTP8NUOK+ehFvcg68pqrEw\n",
       "lx24v4AzY26oNGUmlAytSxTdjcB63UQKbacYldrxEZpBWVxjEzFtELeZD33kH9vbvHwHwO6zbBNO\n",
       "u+gcyToZWrcTmDm9ybJluAml9fIEAfCFJhxui9BOh/ViO75JuVde1/Z99Zu7D/JT2wjcGR+3tCNe\n",
       "V5yIzNpBB4q76LOJouePQ+lgOpzXS8J5tUJXUY01uOzYgtPcD9gCmA2VpsyEkqF1iaLT3EuRbiIW\n",
       "l/Z7sEe7+LoXklxjEzH9S2zWi4cu1sW51/vM49FWRqDaAv/kexF88srXDQcqdFH+G7Bs8XfMPsb+\n",
       "c5Bf0rx4Y02epauvHVulXXg21PXnd688J87r3gDhL7IvEZECS1ZtWPfkYIBTUkyv8O+BkQy4IAUO\n",
       "Rm6MqcYaHHa8QV9EWAQdUI05oWRoHaIwosf/2DZMpOK3PzcQatfODUjhqkzEtKgnOsJ42kXjlGX0\n",
       "7WkfnOzMXEtd0qg2q0P6hWdXfbQImuZVzPJE61MipdU2hnc2XCUTLteyNLjtmBuqOyeUumicjyhl\n",
       "Iit+y7if7qpvTDbX5TyxW2uavn+apsW+rX85Dd7O5FzN0PIj6Iy4Ia+rT439PVPXeKJ1cdedWjvT\n",
       "bwMOXsqEC5qWBrcdc0I5lEko9XlgPqLM0A6K1VWHSuMqv6jM8A9O4kBpaSmHC/8rC7HO+zXdAE+/\n",
       "8JQyNskjsNKV6yRaIwqMRrK2+a04E06KSmlgRaIZpx1zQmUrS0LNR5QykRXX9ftp8UIKVzKRGXk/\n",
       "9VU8XLXStPidqwjtjDrWan0bxHmPiRIFjwPdieq6UroSUWA0krWN52gmHHSy4NS41j6nueyYEypb\n",
       "WRJqPqKUiayYxVl+0hdQKVzVYMjV2Lyd44183Gp7ycIjm7fDo9qsWH/og79/mL8iFaxKaW+JSMna\n",
       "6U8CTv7VULKBfLInue24emUpUAsRFRd3Lagk11U8/R+swbg6jxjVCQAAAABJRU5ErkJggg==\n",
       "\" style=\"display:inline;vertical-align:middle;\" /></a></span>"
      ],
      "text/plain": [
       "{alpha in Complex, beta in Complex, gamma in Complex, delta in Complex, m in NaturalPos, n in NaturalPos, |psi〉 in Complex^{m}, A in Complex^{n x m}, B in Complex^{n x m}, C in Complex^{n x m}, |varphi〉 in Complex^{n}} |- (〈varphi| . alpha . (A + B + C) . beta . |psi〉 . gamma . 〈varphi| . delta) = ((〈varphi| . alpha . A . beta . |psi〉 . gamma . 〈varphi| . delta) + (〈varphi| . alpha . B . beta . |psi〉 . gamma . 〈varphi| . delta) + (〈varphi| . alpha . C . beta . |psi〉 . gamma . 〈varphi| . delta))"
      ]
     },
     "metadata": {},
     "output_type": "display_data"
    }
   ],
   "source": [
    "qmult3.distribution(2)"
   ]
  },
  {
   "cell_type": "code",
   "execution_count": 48,
   "metadata": {},
   "outputs": [
    {
     "data": {
      "text/html": [
       "<a class=\"ProveItLink\" href=\"../__pv_it/demonstrations/e3b4684c6131985a3c0f930cff0c9afe9ba7e6930/expr.ipynb\"><img src=\"data:image/png;base64,iVBORw0KGgoAAAANSUhEUgAAAhgAAABLCAMAAAAF3w5SAAAAOVBMVEX///8AAAAAAAAAAAAAAAAA\n",
       "AAAAAAAAAAAAAAAAAAAAAAAAAAAAAAAAAAAAAAAAAAAAAAAAAAAAAAACXHtMAAAAEnRSTlMAMiK7\n",
       "iVTdmRDNdmZEq+9AMHw3m6zrAAAACXBIWXMAAA7EAAAOxAGVKw4bAAAHdUlEQVR42u2d6ZarKBCA\n",
       "AdlkcWZ8/4cdZRMFSbpHJZlb9aNPDqIY6rM2IY3Q7wTPTiwCuU24n+Pvumk8U72IAfXdJ+sEa/t1\n",
       "YBDQ3CN0ABggAAYIgAECYIAAGAAGgAFgABgABoABYAAYAAaAAWAAGAAGgAFgABgABgiAAQJggAAY\n",
       "IAAGCIABYAAYAAaAAWAAGF8ExjifiAIw/mgw2MIAzhskMcpO8zwBGH+2K7HzzCtTxGcGYDyr5aKF\n",
       "dAVj3YNV2+Mmhi7TQ3oO+BoM8o5Cf6VwUs43NV3BWDdA6hoZPSJe9bidMuonYFR0NbTJaCuciHEa\n",
       "3ERT9mlgILWQURtAP6MZQalMEQ/twKJ+AQahSghZ0ZVHiok2Sk2FL9/XWHdtjj4ODDRUw4yHhFo8\n",
       "xbmTY487GGUTDLzqX9uKrgLF7blrK9zGsWt4dQdDLkmI6AXGxMwQZ0foHnegRQsM6dRveKkrqU5t\n",
       "Qpb1tRWubMMhdQcDmcWZdEpCzCwzSDqxKRtgeO2LisVg+DSKaEcg2UVkmPeqrewPBqLzPMk+niQz\n",
       "tWzsA8aoX4HBeCXGSPHQeK6elwof/IMRAh3sMDLj7Izo1o/SxeP2AGMtgPbQirYTt2ILQ9NEKKXP\n",
       "gv3WsbdQLM6n9hwMg8lgxxSGOF1J5XzecreKH0Jmxr1OjdxFtmcKZ5bNQxaJuKnAozaWZv0IN6u/\n",
       "J4iwx8FYwwza42nNS+/xySWcndZRWsfeKltk50c89HgOBl1/U8VwnINBEVucntRrQrfPKPQkKLfJ\n",
       "Ab1QuBvYrpcwNnNO7vOQ9Zvc1QaBlHwcjLI0/lB5KR+UhweC0zAbUhdmLB6Ti3G1v/B+6drr5zA2\n",
       "m5pgrAeGDAzMkFgUrkmKioTJo40lrMDhym2Fk1WvbJ2BcAE3mJYRpdBP+LsSI6LPu5J1+B5hBstV\n",
       "McWJkDFRVLy4S7k9g4L/4lvKmqs+BSNkHmbOwJCeLJpMAcLBF/knejknGoymwpEd3OA4eRyV/rhx\n",
       "Q7/JU0knerz3v+a/H9AR7/FGNY89IxjTkLnsYwIRj83mYG7eTEBqTshEi/HPXIYYXmPTLm5kK150\n",
       "4+ZQl6MpFmgqHLmCs6MyxKgijSi2WEQGtdAycXxmPQbpUeUa8tc03pXIjM8jGNux9fn7ORjZtZcI\n",
       "kh1HKS0GPdym19Vi1X0gGJz+IS2h6pCUVBW+3AxOAY4vi68x7dpX+hQk9ItgTKgPGGrq8HJkyo3U\n",
       "oLYHaZnJXGXRiGbHorl5y/+V54stO04RRAmG74LT1AQwBk+mMdVCBt0MSEvhyIExsszmjKMasRbc\n",
       "5GmtD5X1EmrgHmCYPrGnKdNGPxEUZ2DImExnxxB2xYV0KH2oNJXnS4moOKbJBRjS5aWGm30Jwiyg\n",
       "rOmKqZc+6TaTLYU7y8LsLn3Ri0Pn9FDvoFTrxTYJqjqAgbuUPnex56Lp3UTkFoOnClM6RkIlPR3i\n",
       "qSCSPm0fyvO3ulbSewEGw0apXB9BV9jSQSmyz0m3CDd3jw2FryWV1BamP38r8AGVTySnLkv5xH4l\n",
       "CD8arS3GYEePQZbpJ6R6qIpg2SnOKtnKEHM9xKjoCm/PUfE6JP9S7yo8uqMJfxYYY4eXaIsVHfdm\n",
       "SotTMGgxkRhj/zL8rcJc2QnHYG7T2Q/AyGpNw0E7hv5G4b64imf0UWAMPZZr8aF4k7CfY0LHOdhx\n",
       "eTRoU/rpb/mOrat0ii82s9DxCEZ51uYF0CHzONPnuwrXPqflHwWG4DVrfHfQoVWxSEyeAdpQ/ls+\n",
       "sNIphhgZjEcwDD63GNulj2sFht8p3HFK8hEV7gyGriaqukc0Sh4KdUYTPYnKvvvrpX0VXRULZsl/\n",
       "Vvj7GcOtYNQTVfa/3j8glKgYSdg+sK8lVEyDFP3WdPUTAKOdqBJm+7xrBTA+CIxxHnPh3Mf7HZcH\n",
       "AxifAIY427uqAYw/PMYAATBAAAwQAAMEwAABMJ7KSs4PsWtHVQDGN4FxeGulqIqvti7/B8ACwPhW\n",
       "MIxb1UrcOzV5+X8MNxTA+E4w4rIYtzBSXP8fw0cJYNwFBlW6XDxSaatJtV8GRlqN7+aHXz8iZQDG\n",
       "TWBws61IQ422mtT7ZWDYuBRp3cFAxutHZALAuAeM1cZLvC2QztoMU23jH88Nm14qYEwxBhiX8MIM\n",
       "149oBgDjHjDCHj7MsqV4cV/funmidZHJvIoxJp0NF/Y7XDoiBjBuAmNzKZuaQhtBL8x7PFfvl2Jn\n",
       "uhqE/10HrjclXjoiuJK7wBj9rzNENbmfh0ptaDCpcf8n70fIflVzHnxOREuFwyJZfv2ISgEY94BB\n",
       "RNhG5dXkfu4utQmfU7hGt9ky/dn30/QsXSXCqvVHJ9xofvH0pSMOBMC4uY4RDXuW/1EZi86VpDBv\n",
       "sua0wLUGiCLspjiUoy4YUX56iPH1YGA1+ZKA2Rz/mFbjmbKMtGviqAUGmW1gIN/0ccmIggAYd1uM\n",
       "+EXebNyaFDtEgMVTPKYtvlReOqI2CMB4CIyfC7OHzKB1ZXnpiBIBGJ8LBsj/CwwnFjR3n/A57ZL+\n",
       "HpHaiQH13WgsvPQZ/F/yVkpwDIWCTQAAAABJRU5ErkJggg==\n",
       "\" style=\"display:inline;vertical-align:middle;\" /></a>"
      ],
      "text/plain": [
       "〈varphi| . alpha . [Sum_{c_{1}, c_{2}, ..., c_{j} | Q(c_{1}, c_{2}, ..., c_{j})} f(c_{1}, c_{2}, ..., c_{j})] . beta . |psi〉 . gamma . 〈varphi| . delta"
      ]
     },
     "metadata": {},
     "output_type": "display_data"
    }
   ],
   "source": [
    "qmult4"
   ]
  },
  {
   "cell_type": "code",
   "execution_count": 49,
   "metadata": {},
   "outputs": [
    {
     "data": {
      "text/html": [
       "<span style=\"font-size:20px;\"><a class=\"ProveItLink\" href=\"../__pv_it/demonstrations/209baac38918ef8b1210d5267967da66f42b39310/expr.ipynb\"><img src=\"data:image/png;base64,iVBORw0KGgoAAAANSUhEUgAAADYAAAAQBAMAAACvnpHFAAAAMFBMVEX///8AAAAAAAAAAAAAAAAA\n",
       "AAAAAAAAAAAAAAAAAAAAAAAAAAAAAAAAAAAAAAAAAAAv3aB7AAAAD3RSTlMAiasyIt1EEO9UdruZ\n",
       "zWZ7xlX5AAAACXBIWXMAAA7EAAAOxAGVKw4bAAAA10lEQVQY02NgwAbYpWNvOQtglWJY1MdQ8/sA\n",
       "VimeZUA9r7HL2XAXMDAwocqtDg29AKLVuUF2PkCWyl0OZWzwgQkJChmAaZbrUAEWBUMoyzWBvYVl\n",
       "ApDB6wAVYRbIg7K6GBj2cBWA5GAGsRzIgrr3AwPDWUYQyyIUCDaA7XOEyHEAeRLiIFY13FHbuSF0\n",
       "/QIGBnmQdQyscLkckP8YEhj4gXISYBGuBYhwUQASFxh4NjDwnWcGC91EBMIdh8oYkPfeLeeRAosU\n",
       "bSuAx0N/jANqOCZuhYQZFAAANPAuqY517tAAAAAASUVORK5CYII=\n",
       "\" style=\"display:inline;vertical-align:middle;\" /></a>, <a class=\"ProveItLink\" href=\"../__pv_it/demonstrations/4827169ff5051c0ad90075d5d60d0692974558df0/expr.ipynb\"><img src=\"data:image/png;base64,iVBORw0KGgoAAAANSUhEUgAAADUAAAATBAMAAADCPVhoAAAAMFBMVEX///8AAAAAAAAAAAAAAAAA\n",
       "AAAAAAAAAAAAAAAAAAAAAAAAAAAAAAAAAAAAAAAAAAAv3aB7AAAAD3RSTlMAIol2mRAyZqtE3VS7\n",
       "ze8XF9CTAAAACXBIWXMAAA7EAAAOxAGVKw4bAAAA9UlEQVQoz2NgwAaCTt01TAKzhExcUaWY+wpY\n",
       "/Y+AWGwGDBWocs6TGBjYwXJBDAyzUKTYHI4CyRYQ04CBwQMiaLNq1QUgxRFwAEiGQ+S4l4Kl5ppC\n",
       "lPAwOkBN4Ew8cTcAxGC8ChWRYFOAspgYymclgBi8AlCRJM4CuBwD+wGwHMwtIpwGUFYw0NgPIEbe\n",
       "KiA4ALYPZuY0oF8fgBgxMH08YHeCAFANTwOIwQWT4wT7jxOIgT7KA7uC2QAeLjOAhC8DA6s7A+dK\n",
       "iNBteHiedWTdBfQjd6axMlQo4mQALB7O/XKEeAEOJp0ChxkcMDHgBsF45KbhlgIAuewwOfL5TtwA\n",
       "AAAASUVORK5CYII=\n",
       "\" style=\"display:inline;vertical-align:middle;\" /></a>, <a class=\"ProveItLink\" href=\"../__pv_it/demonstrations/a96adf032fe1e70a10118c41779605949495a8190/expr.ipynb\"><img src=\"data:image/png;base64,iVBORw0KGgoAAAANSUhEUgAAADQAAAAUBAMAAAAw+gPuAAAAMFBMVEX///8AAAAAAAAAAAAAAAAA\n",
       "AAAAAAAAAAAAAAAAAAAAAAAAAAAAAAAAAAAAAAAAAAAv3aB7AAAAD3RSTlMAVN27EERm75mJq3Yi\n",
       "Ms2Hvvv4AAAACXBIWXMAAA7EAAAOxAGVKw4bAAAA1ElEQVQoz2NgwAJYJuu9PjsBmwzDrjIGj88N\n",
       "2GQ4tgJ1JGOVusHswMDAhSK1WUnpAYhewgyyLwFJJm4LlGFwAsoQ+uzAEAKkeZ5ABXgW3IQw2Com\n",
       "LWDYAGTwHYBK8U4IgzAOMzDY8l4AScEM5mmIhjCAFnhzgxjXlYDAAGzXSbj9nAdBpDOcb8KMkAJZ\n",
       "xcAE50eA/MUQAJYCBxf3BkRoLAASYC9yXgCLPET4/cUBRw2IKoiAl6kDPOTrNSBe4YKKRBpBAgoJ\n",
       "RDLgBFNxSxngljqAXRgAVG4uiC3eUoAAAAAASUVORK5CYII=\n",
       "\" style=\"display:inline;vertical-align:middle;\" /></a>, <a class=\"ProveItLink\" href=\"../__pv_it/demonstrations/6f005ee107395200ff7f4bc83791582bbb4e0f640/expr.ipynb\"><img src=\"data:image/png;base64,iVBORw0KGgoAAAANSUhEUgAAADIAAAAQBAMAAACmdTG/AAAAMFBMVEX///8AAAAAAAAAAAAAAAAA\n",
       "AAAAAAAAAAAAAAAAAAAAAAAAAAAAAAAAAAAAAAAAAAAv3aB7AAAAD3RSTlMAIpnN77uJRKsQdlRm\n",
       "Mt3eazepAAAACXBIWXMAAA7EAAAOxAGVKw4bAAAA4UlEQVQY02NgYBAyCWRAAZypj61kE4CMBPZO\n",
       "VJkVPgyTvioAGWjiDEzLgeqPgmRWoMlcYp3AwMABkpm/ASKy9N07AxDdyQqy6wCQYP0JliheCdUT\n",
       "IARlcHd/BVGMllA+Y8M1KOswQz/QXAZmASifN6EGquQjw/4LIBmYAxgVqiAMjgCG+yCZK++AIABs\n",
       "jxhEhv8Aw30QPRXu6khWCD3/AtAmIOCDyxSB/MNQwMB/gcEaxOdagAiDBiBhwMC2gLsBLGAN17TU\n",
       "SGD2IyCdtQzCnxE+AR7W/o8EkMOrLA4SOlAAAESKNoXM75SxAAAAAElFTkSuQmCC\n",
       "\" style=\"display:inline;vertical-align:middle;\" /></a>, <a class=\"ProveItLink\" href=\"../__pv_it/demonstrations/649ae346ef247b1d190476e522e54e82e6fe76a10/expr.ipynb\"><img src=\"data:image/png;base64,iVBORw0KGgoAAAANSUhEUgAAAD8AAAAWBAMAAACF0lkSAAAAMFBMVEX///8AAAAAAAAAAAAAAAAA\n",
       "AAAAAAAAAAAAAAAAAAAAAAAAAAAAAAAAAAAAAAAAAAAv3aB7AAAAD3RSTlMAMrsQds2rme9mIlTd\n",
       "iUQmv6lAAAAACXBIWXMAAA7EAAAOxAGVKw4bAAAA+klEQVQoz2NgwAPYGQgAJjIV2HxSNWC48eMB\n",
       "QgGjMqoKbb4EBuYPSCawBKAqyFlwk4GhgaFISUNJaQI2O7IVWBcwHMB0A4vOmaNgRtYUrgAsCvhC\n",
       "DKCsLDYBX2QFJm5gailMniGLQYHpAZKCAg6wS6IYEArEmQ8fgIckywL+DSA6AEkB54ZNDXAuM8N+\n",
       "kOGMPWfOnDkEVcCQzNaA5LwasDoFJBMYzJgPICk4CyYPICtgdECoZ+D6B6Zc4AKKQOyIpIDzA5hi\n",
       "3QATiAZ5ACn42SCKmZMeQ/iiP4ACzEgKOBygQXkJGtSogG3DfAO8qUZ+w2n8yYrd/QFeeQD5RTWT\n",
       "DhgrWwAAAABJRU5ErkJggg==\n",
       "\" style=\"display:inline;vertical-align:middle;\" /></a>, <a class=\"ProveItLink\" href=\"../../../../logic/sets/cartesian_products/__pv_it/theorems/79a768603778550c651661670153c27ee0a505870/expr.ipynb\"><img src=\"data:image/png;base64,iVBORw0KGgoAAAANSUhEUgAAAEYAAAATBAMAAADfQ2bzAAAAMFBMVEX///8AAAAAAAAAAAAAAAAA\n",
       "AAAAAAAAAAAAAAAAAAAAAAAAAAAAAAAAAAAAAAAAAAAv3aB7AAAAD3RSTlMARHarECKJuzJmVO/d\n",
       "mc2qKiq2AAAACXBIWXMAAA7EAAAOxAGVKw4bAAABD0lEQVQoz2NgIAAuMBAGBZSoYTlf/oSBbf9G\n",
       "vOawLxBmYPDHbxfzUbYJDNwMvOXl28srcalZzvCUgQe7OUw1Z86B1UQqxOFQw/jIAWpOgAVTAlwN\n",
       "o7JrUhFHWiFYKs4BZlcAO0MhXA0buxGD/0SG1WCpp3D3BHBc8PGBhbMgTwFDvALDfLDUA4Qahllc\n",
       "1TCeg78Aw3oHhnsgNseeM2fOHIeqYXawhrtzPQNIwTZw8BYgmcNi4ANXY8fAcIyB8SsLiH0ASQ1D\n",
       "EztczTYGlo8MzA8iQWwleFw0AMOqHcZj/cHA+YGBPSEBxOFbABUFM+7Bg+0AA9MFBsZLAWAHmYuA\n",
       "BTnebweSftjjiTEdEhcoAAAiLj7xf6vyygAAAABJRU5ErkJggg==\n",
       "\" style=\"display:inline;vertical-align:middle;\" /></a>, <a class=\"ProveItLink\" href=\"../../../../numbers/number_sets/natural_numbers/__pv_it/theorems/132c57ec1224a4beaf274a23bd799047020206590/expr.ipynb\"><img src=\"data:image/png;base64,iVBORw0KGgoAAAANSUhEUgAAAEEAAAATBAMAAAA9n32KAAAAMFBMVEX///8AAAAAAAAAAAAAAAAA\n",
       "AAAAAAAAAAAAAAAAAAAAAAAAAAAAAAAAAAAAAAAAAAAv3aB7AAAAD3RSTlMARHarECKJu90yVM1m\n",
       "75kejotwAAAACXBIWXMAAA7EAAAOxAGVKw4bAAAA90lEQVQoz2NgwAf4GAgBdrJVeHyvdmDI/SuA\n",
       "x4wqRgMGlg/4bLEIyGFguMDwvLy2vPwAVhVWBdwBDA3YzFDv6NgAok0PsW7AqkJaBcowZZ6ghlDB\n",
       "qOyaVAQWZ90CU2rKUMAuAFfBxm7E4B8AYnEHIFTMY2lpgIWpIEcBQ/wEsAoGhAqeBcsvwHgO/gIM\n",
       "6x1ArLkdQFAAUcFgwgxXwbCegcEazHBHMoPBmaUBzgVK/2EBMTiQVXAqFMC51xi4vrCBGEwKMKFK\n",
       "INaEq2D9ycC04SSYuQsmBmLwbYDxGBsYWGwWgJnOhWAXM8z+C9TPsgFbfIhVdGCKAwDDkzTgOh63\n",
       "3AAAAABJRU5ErkJggg==\n",
       "\" style=\"display:inline;vertical-align:middle;\" /></a>, <a class=\"ProveItLink\" href=\"../__pv_it/demonstrations/b9ff765654f5a9fab1a0f971ffbd46ba878d2ac30/expr.ipynb\"><img src=\"data:image/png;base64,iVBORw0KGgoAAAANSUhEUgAAAFAAAAAVBAMAAAAjqnRBAAAAMFBMVEX///8AAAAAAAAAAAAAAAAA\n",
       "AAAAAAAAAAAAAAAAAAAAAAAAAAAAAAAAAAAAAAAAAAAv3aB7AAAAD3RSTlMAIolEdjIQVJlm3e/N\n",
       "u6uczJRnAAAACXBIWXMAAA7EAAAOxAGVKw4bAAABgklEQVQoz2MQYIACVgbsgLMzxI9lbgCDMkyA\n",
       "NwBdCZvumiOiCpnWE7gfsDyAKmRhYGBvQFfot5Mh42+DmA8DfwCHAlQhExAvQFPH4azAwDC3geEJ\n",
       "QzQDVwFUYQoQq6MpjOBNYGDga2DYyuDLIM8KVVgKxLJQBb6rVh0A0c94Qe6cwPgBaOZcDqhCoCUM\n",
       "PJAAsHGDarggAaaYHzAcZJBzAypk85jAoMCygIEdpJqB8RhUHeODIBSXKDMwsW9gm8DyDeobHljA\n",
       "sipYoikM51jAKcCwgYGhGawQJsHYYIKmMIHbARg6wFCMA/GjVwHBBbAbhdAUMtQnMDGwOTAwFIH4\n",
       "uXCZa7zoCnsYxBlYgGF2EMTngstYgMKRwQBJYS/DNAZjoKPAFrI4IGLmAZA4gKTQWkCBE6iRqQAs\n",
       "cBxupO8JgfQVyFazPrriiLA073ICPPXsXyGArJCBFWxWBVTE6NaqA1jSJUghC9iMiwx4gTI0kTGw\n",
       "HSCskAXs3Qn4FbrCGHz41QEAUKNKBCB71lUAAAAASUVORK5CYII=\n",
       "\" style=\"display:inline;vertical-align:middle;\" /></a>, <a class=\"ProveItLink\" href=\"../__pv_it/demonstrations/55701387f25fde525e21ebc18286978696667feb0/expr.ipynb\"><img src=\"data:image/png;base64,iVBORw0KGgoAAAANSUhEUgAAAEwAAAAVBAMAAAAeOBUnAAAAMFBMVEX///8AAAAAAAAAAAAAAAAA\n",
       "AAAAAAAAAAAAAAAAAAAAAAAAAAAAAAAAAAAAAAAAAAAv3aB7AAAAD3RSTlMAIolEdjLNuxCZZqtU\n",
       "3e8Ziz2RAAAACXBIWXMAAA7EAAAOxAGVKw4bAAABZ0lEQVQoz2MQYIACVgbsgGtWiCcDgzKMyx6A\n",
       "roBD/VqKqEKX3QI+AYQyngnoyrxfMXR+nyDhxsDfgFDGcAFNFaezAgPD8gkMWxjskCxl0EFTFsne\n",
       "wMDAPYHhKcNMViRl4lDa/e7dBBC9gx3kvgWMHxiuHkVSxgbxtJkHlF8gCaaYNzA4LQApCwXKfW9g\n",
       "4FEAiTJmQFUxbghCcgFQ2QQG1ixrBagf2GAByapghaKMJ4CBG2gFA8NksDKYBOMEExRlTAwMK0BG\n",
       "MkSD+HF3gaAA7DYhFGUsDAwODBwODAyHQPx2uEwFO4oyTgbmAAZOYBglgvi8cBlLULgxGMCVLeBk\n",
       "4NgKdAzYKhYHRCxsABIJcJ+muUXNBWpiOgAWyIEb554p0HMTESBc9/8qIKzrLm6Ap5D3NwUQyhhm\n",
       "gVknoSJGtXcTMFIdSNlTMKuQAQ8AKmP9ALYigYAyFnAssSzAp8wVGBLg5M2NTxUAn11FpH3bB28A\n",
       "AAAASUVORK5CYII=\n",
       "\" style=\"display:inline;vertical-align:middle;\" /></a>, <a class=\"ProveItLink\" href=\"../__pv_it/demonstrations/af3c2902573b75ab19a42e7920623b865c28bcde0/expr.ipynb\"><img src=\"data:image/png;base64,iVBORw0KGgoAAAANSUhEUgAAAcgAAAAZBAMAAABHmqPnAAAAMFBMVEX///8AAAAAAAAAAAAAAAAA\n",
       "AAAAAAAAAAAAAAAAAAAAAAAAAAAAAAAAAAAAAAAAAAAv3aB7AAAAD3RSTlMAq1RmmUTNIjK7EInv\n",
       "3XZ/CtNrAAAACXBIWXMAAA7EAAAOxAGVKw4bAAAFRUlEQVRYw8VYa2gcVRT+dnd2Z3b2kfUJbTRs\n",
       "VUSq0hFaMRXqQtT6QI3aH6YEu9JCaX/EEUq1KiRKfyiNdUVBLSqjlUKtNJsiQtFKbJAES1uVtLaR\n",
       "wIZGUapLCFRjCsZz78zcuZN9ZBJxOzB3zpxzz5173mcu0OhrVYO/l0Pjr/D//9FdgGKKtx2XQMh9\n",
       "8ou5yEXUGvhI2+4JIF1EG7DyjnLm3DuEKzVeyDclOJ1d5CLRio3rh093PVfc22kkSXHlRAn6qkF8\n",
       "jXEijQIZNuX6hsmoDvCH8oVF483A/uPyTt/7ri6zRz83lzQ+iI//zj3/C5po4UQXfehgHtN4kJGA\n",
       "e9iUzQ0TUinyR38vGVHPE7RJpsbmCVhBj1lzlv2Z1m3NoQWdsIVEqKQN4AcC+iy8xNRbaJiQTe38\n",
       "cbSDdqkYBE35qPP4r6BH5mhjZ5zWC+UwjLs14DxbOdmTLqiTPaQQg+skkW2YkK9zE0Rn2JgUkHtt\n",
       "sOpze/Rvnah+f+w0ey6NM2821EmcuclJPN1ky0iBlKEUECGhY43LO3/wMcFj60YBudeRebg9+kY7\n",
       "AXU5Uhe22e8ZnDdYCQmZeBQxU20heprSwPGxsWONE/Jq7mzXfM/cjWWFWMu45EZPlS+vy+3R+/m4\n",
       "3ZFRzeyqk4rJWe4D9iy2gQgHLHRexn/Xjq2Sa42+rfpfXvb80+qrt6JDpzjD7ZATplZ8vDaXNg08\n",
       "Q3qAtkWgtlSZJuGcHJX+asJkLVowRsWzBR+72T556lth4QT25h2dzSBZOtC/tGa3xOjAGQJv4Yi8\n",
       "W5hyT9apWheAuJWgjNcscM1V5jXPFTK6GeoQ9ExAxmjRRYzwcQUfv6H7XuCiVnYCU8mjqZjDQzXr\n",
       "D6M7CYzrkEJt7Czf1Qt17E9Chkss7wwL3HCVecNzhbyV7vuhtAdl3Oq35BEh5E+ITiHsCJkqYkP2\n",
       "gmPnKhen22An374ofXvidSw5zWy+hnTyz7gTwx4keZ2EKwi+u5AKzHjIL+QbcN11CsqMEJLK4CPW\n",
       "6tpCcro+kXW0DIjUvI7VSbRXj0kW9IdIzenRtJNRPEjqMSUcFzLEguFLbA/MeIOLWcLHE3z8gO5p\n",
       "fGpwIXUmRI8+aNu5sl4KuhJmH2/lyLLX8WS4N9fKrniR6HEjkld5kmXQYxN+nTAcFMsTMlnkRukI\n",
       "zNjhYn53U4FTBq7AW+BC9tEOQ0acdKKNUhqFjeGDeOP0TxJu+aECJMrPb5vMj0Zq/JqwdjnUw3og\n",
       "JfPyKN8/QQP6pG8aw/ksmTS4FywLzPiqr2cJ27Neo/vDzwxbyBQtoje3sR9AmjJGd4oJwwe2e48e\n",
       "Y93gKdu8S9aLv5CTIzWqj9h7E5JZjLqQqQ34Y4FwkZWSkPFc1EoZbOsBGYW7Jtu9z6bc2OMxuVyU\n",
       "A9VEuNJfl4tFSRjVicboYbutq9vVG27eslr5j9cBG4q3Qy/SCx9s3LP75MQztPpXKuWpwIxl+S9k\n",
       "meNlosvmQrpVZscrOy0kKvcqqlAvnN4+4NXnKkx7uMT32pvlEHVB2lH0mtoQDQ7uTrmEbGu5zDIR\n",
       "N4Myvi1SHZn6rHs64GDVzy/ST67bFZ2cnQUOViYe0TWNL/BM4zbfG/M6ruOERSuGBd7W+1W+jgfr\n",
       "6KtujZ+X0StooOZzzVoH3i8n4hp9YCV9o6y0ANeP8svuY1lEuWmfniX/WS9SsCXXJHe73dcSem1A\n",
       "RulcST7jURdx/BJ7gnwhvYDDocoznogHGj5c+rqcX8jYKW65YIzSMWS4+B+PFiashTEswLPDV1Y9\n",
       "YLOCMVqX8Nz1AeBfU/2V/tTxnSQAAAAASUVORK5CYII=\n",
       "\" style=\"display:inline;vertical-align:middle;\" /></a> <a class=\"ProveItLink\" href=\"../__pv_it/demonstrations/abd85fc9332ac3a6d277cd65df497e133a66c83d0/proof.ipynb\" style=\"text-decoration: none\">&nbsp;&#x22A2;&nbsp;&nbsp;</a><a class=\"ProveItLink\" href=\"../__pv_it/demonstrations/f25727a2c9611ab4961feb51f1ce96e6f9faddb80/expr.ipynb\"><img src=\"data:image/png;base64,iVBORw0KGgoAAAANSUhEUgAABHgAAABMBAMAAADkeB3YAAAAMFBMVEX///8AAAAAAAAAAAAAAAAA\n",
       "AAAAAAAAAAAAAAAAAAAAAAAAAAAAAAAAAAAAAAAAAAAv3aB7AAAAD3RSTlMAzUSZq1TvEGYy3Xa7\n",
       "iSJNjWSlAAAACXBIWXMAAA7EAAAOxAGVKw4bAAAO5klEQVR42u2dD4wcVR3Hf7tzu7N/bvauqFAx\n",
       "4RZFCCDeSmpaseVWRQkqudVijTXaDQRBgXaqBDGn3rZFWanaxUAjYLxNDZ6QkFtToIUGbqMmDWLK\n",
       "BkGQSrraFBGB3kGP67/r+P7N352ZnZ0Z4m55L7m92dv3Zn+/7/vM+/N78+YAcDoFXFJSUZQ89FJK\n",
       "IYsDFH9FdvpkQlEOAU84TSnKDDkQXNlILpTL2Z5yLFEujwYoLjnKMfF8eSPnhqRy+RYKzyrZFZ4T\n",
       "PejbliCFr3WEp8mp0S9RAo94LXB4jGm4yeHxCk/fIIfHlPrqHB6v8ExkOTymlJnj8HiFZxFweMzp\n",
       "zxwej/DE3uDwWCGpcXi8wROpcngsqb/I4fEGj9Nl9g6GJzbH4fEGz6jM4bGmWQ6PJ3jE48DhsabR\n",
       "CofHCzyJOQ5PSxpucHi8wNM/z+FpSQNFDo8XeMarHJ7W6dYRDo8XeLY0ODwtKb3A4fECz2iWw9Pq\n",
       "8yyHxws864DD05oUmcPTHh7xKIfHJg1lOTzt4Ykd5/DYpJEah6c9PMICh8eufJ3D0x6eyByHxw6T\n",
       "IoenPTzxIxwemzQ+w+FpD8/AfLjwRBRDqvUsPANHgsMzZFDi2EkJz8GZcOGJKUz2H57/GaXYs/Ck\n",
       "5oLDs0ahy6vivx5c99ZJCc+aasjd1qg+979trmfhiRwLDk+fommbmCqcjPBMD4YMT8qwvXR5z8LT\n",
       "txDCmGdK314q1E9GePapXml3sDSDwZNUDuuS+R9gZvwWbNrDo1mStNpr+43CoRDgmVBK2vHFfn1x\n",
       "rBf3P3vUyU5w671MLRZkVHhGWTuR0S6NpwPOtqYV3a6Sb3ge8lvwfHt4NK/6Ldq8qh5IWfy6/9Q9\n",
       "5M1sCPCkFV26hA9X0gW3etHzBNBJT9R9nJ6wUGW2AAkUrTF4nsqxsoWw4OlXqhAkrXgOj7sbfoun\n",
       "SxZ4Xtu+VPMqjc6cM+d/1qxeI3opeXM0jKn6U0cDKfE113ohOpE8AXTSBWLwIC5WWqgyW4AF2sng\n",
       "GWJapiAseMR1bwZRTLrsavS63v8JTjPDk6zBLZpXEvqxoF01w3Mpk/atMOC5SckFUEIcdKsXqpM4\n",
       "GEwnXSAGT8P4lXZkYIEiMoVnil3iK0ODB4aVIFOL+Bd3o9dl/k+wyQzPDwDO07waMzY1NLSQM8Pz\n",
       "IOtllDDgiSpB5ptCya1eqE5CKZhOukDUfbFmbGrsyMACJXIUnnUNa0cXGB5JuSaAZMPkZogAEaK4\n",
       "bIIHqbFE8+orxkGOZQhE1RsvhAgP7HtLDuCIa71QneIBddIFou7HKsZBjh0ZRKBrGDw1vYkMCR4Y\n",
       "mg0AzwvEB/+tMURKFnhik5pX+EqJmAhYbxkxslu6Y+HAE1ECOPIF13p5QcsTRCddIOo+7tfhjJbO\n",
       "02ABEWgxg6ekDZ/uAjjzuEyzSC9e5h+emxTfw1245Vufwq0xOcHenYaZkbTrJ+7tnfo5eTaTBk/0\n",
       "139aJBPHxe0laKSrbCy+Gnl6DvqNxn7JCkSHdlP1Yp8+HiY84roF/7W7wq1eqE4kT2c6abnZM6xU\n",
       "gZD7Y8sQPI+yQbgqkMUCKtAzFB4WisCjohwkF5/VIFky2+Cm5gG/8GhLFH7SMe2qeKVgCK1l7nUP\n",
       "OdLPcdAmMWiER4LyeRUCjxQriqX0PB0iJ656IY8bbPxGALh94+UUng1sD2SUwSPcT1LeJzzaEoWf\n",
       "tNi1Xo5peTrSieWuMJ10gZD7jVVwM0zL5Es1gSwWUIE2MHhoH38W6e76AOokS7wG/bkdfuGBEf9d\n",
       "fYZwl8JWPYDMEDeoY/4GXCe+eInjefHn6BXJECua4YFEncBzp1BNNPFg6kI68HkCtTgQzZOBUB76\n",
       "CTyZE7CmQkOdchgtDwgBxn/3utUL1Ynk6UgnkhvgPqaTLpCUTRYugp/jUZSQ1QWyWMAEWkXhKdOv\n",
       "uZCc5VYMGTZyBJ1hkPU94q0du53yv54eIwu1cWS+gDvXex5VeZRxEyE4hpBGNLmS+Awvq+/Q/Co6\n",
       "Q+CR4zUJ+wd3oLeoAsbSQHVqQEJG58bw9NVhgsAjlu2+5ObOr4kp/+vpV7rVC9UJ5+lMJ2HepJMu\n",
       "kJQV0eXXwO1wMq8LZLGACTSB8S2BQqf3O0kArYanatjI61GJG2TfLU/Gf3BMqqrwxElbvJr9HVkE\n",
       "A9mMY394vT4/NrU85yLHinSwt0aWyFSUxdWkA6xHr2HXxwg8AyWiS3gtDxysBoLHsV6oTjhPZzrF\n",
       "6yaddIGQ+7F5BM+YFqElAlksYAKdbeq21mNeoxUQyLBIRJeLNOd7wAzptb4V68+r3dZ4zSAKtgg1\n",
       "EI6ikM9h7KP4mqwa4WmwUyKvPgIHIC1rkwmpxuYSOSzgUgLPeAU2mOAJOuaBh5uBui3HeqE64Twd\n",
       "6URzi9sLTCddIOS+MJgp4CaHzUeJQBYLmECrTfD0N0EoCSBeRidk2Miif3iG/Y8S48Ti/hqBHLLE\n",
       "TFyPh9GlQq43sbWM9nkOz1xJD67Bg+DY2qTwLEeN7/v1MIZErq89OCCZgxsrtOWpwHsYPKHMtiAa\n",
       "YOrwpFu9UJ1wns50IrkFHApJ1E0CYXjqCTma1SJhVCCzBUygn5qm6rilWvT7X16UpUaiAfummYpf\n",
       "eJIB4qoHs+o0Ek0KpAoWRZylFv0d4G4ZxvEkAb+QP2sH+HNR/qs6zVfhEZdBdBuLUZzdbCSyegBV\n",
       "Iv6hPizyvvdu2kYDHVItxiawIcEzESDY/oxbvVCdcJ7OdCK5vyvl1HCIJhByP7pWgo16DJ4KZLaA\n",
       "CbTCBA+esiamjjZYKEh6frO8ouY7zhPg9tM19Dtxk/pieQdtIO+XqUWQ2Y16NBzRSuH4+G/UA+1z\n",
       "OrvNGuCJ/WLXXjXAlbz8ycdBX6sRtBjFbcoDapRs72MQJjzidQHCpXe71csaPU9HOtHcOBSSypoE\n",
       "wu7f8Y9dTdCW+wQ7MqhA2yg8UwweTNuykCLM7wqg2BL66z71PRYlpg5e98PrAF9unaFpg1ts6itg\n",
       "gEcyRkeTBeNaTR/NUFAXiPR7EsKDJxJkYRTHHRzrZYkhT+c6DTSZTrpAxP07SbacUSA7CzJVCs8Q\n",
       "ayVwP/fNcODpr/vWK5anQw5t1Y6IojqYeeKupXSJwTJD00wtqo7awpOW2SiHpAvoOZGx8UoLPLFQ\n",
       "VtXhLwHYocuP9vWi6ZTI+dEJtmpAmOHZwUY5BoHsLCBXG76fh31HRFYn/oHhuUif5Xba46d2s5UU\n",
       "1YHXhvbStXAySMT/LENs7RPHtFleXh0Pb7F+9LQqlLZWw/w8Ddjs3ARPIpT7eYRJvbp90LPHsV40\n",
       "ndRLoTOd8NI4mzeMmeBpsPmV8QttLCAjanwnIUM3UYN0NRR4Evo8PdEpPIntrHpEY+tlkiHdWkr7\n",
       "HHflFLstepjH0PIAGG6CYt+wGeDRVnjSYdxJCD/W8//IBzzfd6wXTSeSp2Od8NiQXZ7nmuCpsciO\n",
       "USAbC/YweEZYCAPykKH95yMB4THM01f5b7P/66PMKbg1fhyM8GhJ86pPPWhq7/9D1TbGF6TjIcBj\n",
       "mKfHij78ydTc6sWQp9OR2LlFVScDbJr7ebNArRakmwyefW0HKB3CY3j2/ncC3VLYefr4Uu0w6O4J\n",
       "4c0Q4DmoNbziSA66Jwnb5RDOguDZEvbWG22enrkiyOJ6wBQUnv4Q9m3p8/QDowEW17s1IXiGiyHD\n",
       "M7SIpNN/qygB74T/f8ITCWHHaGSWSnH/OkU5CicjPGFvNxaMe9VLPQtPPIS96iMGJQ6flPAMnAgX\n",
       "ni5JgR90MB9KnOdkTgie1BscHruxbpHD0x6evsMcHrt4wyCHpz086Tc5PDZpusHhaQ9PdJbDY5NG\n",
       "Cxye9vCICofHJk3x5zB7gAemmuHCYwqlft1joVqXwSPaP8mrM3hMSsQ8Fk33FDz7SuHCU6e/Htt1\n",
       "MTp/1mMhocvgiR0KAR6mRHovXsXc6Au5bodnOP92wHNmE15qwo1eC0Ub3QVP31xo8ETPgMxaEPNe\n",
       "S13QS/DEZ94GeGJVcrfshZ5LndZd8DiI4gcefJfWcrI/zFuKyD0Ej3DEEzx7N6vv9SM9STtrJskO\n",
       "VsjJq54LPttd8EzkneHRfTV47agE2QSzhdwq7V5QlUcq9BA80QUv8KSyW9lb/ciQtpEbQHXJPoFV\n",
       "KGYGPRdc2V3wTBec4dF9NXjtqEQfjjb+Df7ZtqAqTyzXQ/DAN7zAsxy+B6+SBhUdRb9q6Y+Eukh2\n",
       "hWmS3YDb33y07rngh7oLnlPBER5sMt6dQI8+uD3rrkQcj+bejf1zL0iEgqXoYq73EjzTWQ/wXIl+\n",
       "ryaa4A2uMG4ZImQtPf21RGm8xcdjwV91FTzJBWd4sMl3TqrGF8UZdyXiJaLgFe0Kks3F5Lt7Cp6B\n",
       "vAd4SNdFGDiBH6Vq6YDwTo7EJoNkf4Rz4HdEB48Fu6vb6pt3hgebDJOq8U1LB9SiRH8uKqdK+OJw\n",
       "L0iEKud6rduS5j3AcwpImAGxQY7gD/hRdugNe4lkofH6eoNkL708dnuJ7BfzWHBXV8EznneGB5uM\n",
       "GaDGQ3/W4I6NEpm1tz6ymOwtdCtI5cn8Gw2Q0rVegkdc8ADP/vIOzEDyanIkoMnU1kJyLWxt4pdC\n",
       "ZtlmGX5mlGzJg5dmyF32Hgvu6Sp4ppvO8BCTJ0E1/mOAfaPuNG2UgP2fu0Ru4r0KbgWZPImGvumo\n",
       "N+DBz4LyFOfBvQ/dfvQcDqLrExJ69EmjZBDNjWkBr/YFxXpXwXMVgHucZ1I1XpJrxj1ZdkrAB8Sa\n",
       "FgV1KkiP+rLmvTQ9AE+q4Qme5MPPAnlKHUTwLblRDTl2VDVJljk0qf77AA8FhWY3wZOebwPPPTcU\n",
       "mPFD+D7tc1yVgIOfldV/H+BUkB3haNDFvQVP7IS3lgenkl7WfJT+Us4s2el43vGcx4IboZvgGS+1\n",
       "a3lMbui+2SsR2UZaGreC9OihlR0sB3YJPG2egOhteSL2KXZgakNEjwXlroLn8+ABng6V8OLiFTlP\n",
       "inUXPKlScHi6LAWBJ3pNIHjeKYnBk3R9YmdSUZR8T7mVQhYHKe7Yc0woyiFODUlT+GEKJH3YLZtY\n",
       "LpezvXVNIIsDFP+24yc3l8sbOTckIYlL/wM9bPpPNo2ZSQAAAABJRU5ErkJggg==\n",
       "\" style=\"display:inline;vertical-align:middle;\" /></a></span>"
      ],
      "text/plain": [
       "{alpha in Complex, beta in Complex, gamma in Complex, delta in Complex, j in NaturalPos, m in NaturalPos, n in NaturalPos, |psi〉 in Complex^{m}, |varphi〉 in Complex^{n}, forall_{b_{1}, b_{2}, ..., b_{j} | Q(b_{1}, b_{2}, ..., b_{j})} (f(b_{1}, b_{2}, ..., b_{j}) in Complex^{n x m})} |- (〈varphi| . alpha . [Sum_{c_{1}, c_{2}, ..., c_{j} | Q(c_{1}, c_{2}, ..., c_{j})} f(c_{1}, c_{2}, ..., c_{j})] . beta . |psi〉 . gamma . 〈varphi| . delta) = [Sum_{c_{1}, c_{2}, ..., c_{j} | Q(c_{1}, c_{2}, ..., c_{j})} (〈varphi| . alpha . f(c_{1}, c_{2}, ..., c_{j}) . beta . |psi〉 . gamma . 〈varphi| . delta)]"
      ]
     },
     "metadata": {},
     "output_type": "display_data"
    }
   ],
   "source": [
    "qmult4.distribution(2)"
   ]
  },
  {
   "cell_type": "code",
   "execution_count": 50,
   "metadata": {},
   "outputs": [
    {
     "data": {
      "text/html": [
       "<a class=\"ProveItLink\" href=\"../__pv_it/demonstrations/19f2762fb3a49433095cbe8e1577b9c4cbe0f9300/expr.ipynb\"><img src=\"data:image/png;base64,iVBORw0KGgoAAAANSUhEUgAAALwAAAAVBAMAAAAOdJm+AAAAMFBMVEX///8AAAAAAAAAAAAAAAAA\n",
       "AAAAAAAAAAAAAAAAAAAAAAAAAAAAAAAAAAAAAAAAAAAv3aB7AAAAD3RSTlMAiasyIt1EEO9UdruZ\n",
       "zWZ7xlX5AAAACXBIWXMAAA7EAAAOxAGVKw4bAAADKUlEQVQ4y4WVTWhTQRCAJ33pe30vLz/tQWs9\n",
       "GKq3XkoV0YumBy/tJVBSexAMloIXJV4D1YIVQS/xIBQULIiEVm2D9mYhMVC9aIzgtTWI6MHa2moV\n",
       "LbbOzO4m76fUCbNvXmbz7ezs7ARgVwniR0n3Tm6HJJShSU/QN73q+WIKAmllP/Xjp5wve5QRwkD0\n",
       "SaEuCX8Tz95HL/lpxhQeZ9710dENVnGz89khF94s4TAj1Sn3BF6bhA9sjILCI6jZhx+lIYo7Xs05\n",
       "8ZCkSDNCnVL+wY9LACNsVBTewOgDOTlLr0mjQsNJdNljLvw+1EhJqEMCvd9VJspsjCm8iekMFtTm\n",
       "VU4JCrOU6S0Xvp+G61Ib0mf9lnjzNHOqCh+g4Z0Hb3IhFKkk1lz4MBXRktTWNlVyJXOLN3/kySJn\n",
       "zY4xPltB/AOAWx48uQE26bDWBf4wwIXNDB85tAk9lTbGg5xWPaetiVBXRnjFcI3xsQm4DLOZ+tkq\n",
       "PLlB+0OJltGXQFs6FxNn+1XoDYB5SwQLwXWZiQjnuTlHeC23AB+hBf1pN57cYNFxNf1kPJ5QEwD+\n",
       "9AW+TrDaWIuvObXw8FWZdgpZ3AhXaEua8AZGEMO1QYtTDKnU0LVUKi7dEKKZUVE5iPlMW4AeqijW\n",
       "Flysfa8qvg0yhjGmsQYezF+Iz4pb5Iye8VHa52qN8RZVBWHolM6zXsG3AzmRG4AheYVC8UZywK7i\n",
       "2eRlQXiTQ2Vv3BS31ga9G+yMqLHbrFF0t/Psi6jvycB6O8ak0KTAFyIZPS3L2YEnN5d9qCrxNRuM\n",
       "g/KGfGG1CxB5wz2O8lFErFEBfVBcszjj9fEAfJKX0YknNwWkn1EtbfHxiYW0vN/Phbau5O0OhBb/\n",
       "ZuDO9lv89dHpDtlZk+Ja9eyfTshW4sSTu2u7s2s+ofCRsxt0PlzBg1K9EmiYA/LWHq83QldTGABv\n",
       "Q+YuxL01mBS6G35Z4vOc6oS3pS378FfZmqNCqQn1SbZhIpHxsXr7dUl9QYXX+LoYVdnW+nf6Axxu\n",
       "mEZB4DkbM76ZRsGDtzgbVk3uYA7+I31g1f9i4zu5HXIfk82Tm2iJBOs/qqbG86SjQMwAAAAASUVO\n",
       "RK5CYII=\n",
       "\" style=\"display:inline;vertical-align:middle;\" /></a>"
      ],
      "text/plain": [
       "alpha . A . beta . (|psi〉 + (D . |varphi〉))"
      ]
     },
     "metadata": {},
     "output_type": "display_data"
    }
   ],
   "source": [
    "qmult5"
   ]
  },
  {
   "cell_type": "code",
   "execution_count": 51,
   "metadata": {},
   "outputs": [
    {
     "data": {
      "text/html": [
       "<span style=\"font-size:20px;\"><a class=\"ProveItLink\" href=\"../__pv_it/demonstrations/209baac38918ef8b1210d5267967da66f42b39310/expr.ipynb\"><img src=\"data:image/png;base64,iVBORw0KGgoAAAANSUhEUgAAADYAAAAQBAMAAACvnpHFAAAAMFBMVEX///8AAAAAAAAAAAAAAAAA\n",
       "AAAAAAAAAAAAAAAAAAAAAAAAAAAAAAAAAAAAAAAAAAAv3aB7AAAAD3RSTlMAiasyIt1EEO9UdruZ\n",
       "zWZ7xlX5AAAACXBIWXMAAA7EAAAOxAGVKw4bAAAA10lEQVQY02NgwAbYpWNvOQtglWJY1MdQ8/sA\n",
       "VimeZUA9r7HL2XAXMDAwocqtDg29AKLVuUF2PkCWyl0OZWzwgQkJChmAaZbrUAEWBUMoyzWBvYVl\n",
       "ApDB6wAVYRbIg7K6GBj2cBWA5GAGsRzIgrr3AwPDWUYQyyIUCDaA7XOEyHEAeRLiIFY13FHbuSF0\n",
       "/QIGBnmQdQyscLkckP8YEhj4gXISYBGuBYhwUQASFxh4NjDwnWcGC91EBMIdh8oYkPfeLeeRAosU\n",
       "bSuAx0N/jANqOCZuhYQZFAAANPAuqY517tAAAAAASUVORK5CYII=\n",
       "\" style=\"display:inline;vertical-align:middle;\" /></a>, <a class=\"ProveItLink\" href=\"../__pv_it/demonstrations/4827169ff5051c0ad90075d5d60d0692974558df0/expr.ipynb\"><img src=\"data:image/png;base64,iVBORw0KGgoAAAANSUhEUgAAADUAAAATBAMAAADCPVhoAAAAMFBMVEX///8AAAAAAAAAAAAAAAAA\n",
       "AAAAAAAAAAAAAAAAAAAAAAAAAAAAAAAAAAAAAAAAAAAv3aB7AAAAD3RSTlMAIol2mRAyZqtE3VS7\n",
       "ze8XF9CTAAAACXBIWXMAAA7EAAAOxAGVKw4bAAAA9UlEQVQoz2NgwAaCTt01TAKzhExcUaWY+wpY\n",
       "/Y+AWGwGDBWocs6TGBjYwXJBDAyzUKTYHI4CyRYQ04CBwQMiaLNq1QUgxRFwAEiGQ+S4l4Kl5ppC\n",
       "lPAwOkBN4Ew8cTcAxGC8ChWRYFOAspgYymclgBi8AlCRJM4CuBwD+wGwHMwtIpwGUFYw0NgPIEbe\n",
       "KiA4ALYPZuY0oF8fgBgxMH08YHeCAFANTwOIwQWT4wT7jxOIgT7KA7uC2QAeLjOAhC8DA6s7A+dK\n",
       "iNBteHiedWTdBfQjd6axMlQo4mQALB7O/XKEeAEOJp0ChxkcMDHgBsF45KbhlgIAuewwOfL5TtwA\n",
       "AAAASUVORK5CYII=\n",
       "\" style=\"display:inline;vertical-align:middle;\" /></a>, <a class=\"ProveItLink\" href=\"../../../../logic/sets/cartesian_products/__pv_it/theorems/79a768603778550c651661670153c27ee0a505870/expr.ipynb\"><img src=\"data:image/png;base64,iVBORw0KGgoAAAANSUhEUgAAAEYAAAATBAMAAADfQ2bzAAAAMFBMVEX///8AAAAAAAAAAAAAAAAA\n",
       "AAAAAAAAAAAAAAAAAAAAAAAAAAAAAAAAAAAAAAAAAAAv3aB7AAAAD3RSTlMARHarECKJuzJmVO/d\n",
       "mc2qKiq2AAAACXBIWXMAAA7EAAAOxAGVKw4bAAABD0lEQVQoz2NgIAAuMBAGBZSoYTlf/oSBbf9G\n",
       "vOawLxBmYPDHbxfzUbYJDNwMvOXl28srcalZzvCUgQe7OUw1Z86B1UQqxOFQw/jIAWpOgAVTAlwN\n",
       "o7JrUhFHWiFYKs4BZlcAO0MhXA0buxGD/0SG1WCpp3D3BHBc8PGBhbMgTwFDvALDfLDUA4Qahllc\n",
       "1TCeg78Aw3oHhnsgNseeM2fOHIeqYXawhrtzPQNIwTZw8BYgmcNi4ANXY8fAcIyB8SsLiH0ASQ1D\n",
       "EztczTYGlo8MzA8iQWwleFw0AMOqHcZj/cHA+YGBPSEBxOFbABUFM+7Bg+0AA9MFBsZLAWAHmYuA\n",
       "BTnebweSftjjiTEdEhcoAAAiLj7xf6vyygAAAABJRU5ErkJggg==\n",
       "\" style=\"display:inline;vertical-align:middle;\" /></a>, <a class=\"ProveItLink\" href=\"../../../../numbers/number_sets/natural_numbers/__pv_it/theorems/132c57ec1224a4beaf274a23bd799047020206590/expr.ipynb\"><img src=\"data:image/png;base64,iVBORw0KGgoAAAANSUhEUgAAAEEAAAATBAMAAAA9n32KAAAAMFBMVEX///8AAAAAAAAAAAAAAAAA\n",
       "AAAAAAAAAAAAAAAAAAAAAAAAAAAAAAAAAAAAAAAAAAAv3aB7AAAAD3RSTlMARHarECKJu90yVM1m\n",
       "75kejotwAAAACXBIWXMAAA7EAAAOxAGVKw4bAAAA90lEQVQoz2NgwAf4GAgBdrJVeHyvdmDI/SuA\n",
       "x4wqRgMGlg/4bLEIyGFguMDwvLy2vPwAVhVWBdwBDA3YzFDv6NgAok0PsW7AqkJaBcowZZ6ghlDB\n",
       "qOyaVAQWZ90CU2rKUMAuAFfBxm7E4B8AYnEHIFTMY2lpgIWpIEcBQ/wEsAoGhAqeBcsvwHgO/gIM\n",
       "6x1ArLkdQFAAUcFgwgxXwbCegcEazHBHMoPBmaUBzgVK/2EBMTiQVXAqFMC51xi4vrCBGEwKMKFK\n",
       "INaEq2D9ycC04SSYuQsmBmLwbYDxGBsYWGwWgJnOhWAXM8z+C9TPsgFbfIhVdGCKAwDDkzTgOh63\n",
       "3AAAAABJRU5ErkJggg==\n",
       "\" style=\"display:inline;vertical-align:middle;\" /></a>, <a class=\"ProveItLink\" href=\"../__pv_it/demonstrations/b9ff765654f5a9fab1a0f971ffbd46ba878d2ac30/expr.ipynb\"><img src=\"data:image/png;base64,iVBORw0KGgoAAAANSUhEUgAAAFAAAAAVBAMAAAAjqnRBAAAAMFBMVEX///8AAAAAAAAAAAAAAAAA\n",
       "AAAAAAAAAAAAAAAAAAAAAAAAAAAAAAAAAAAAAAAAAAAv3aB7AAAAD3RSTlMAIolEdjIQVJlm3e/N\n",
       "u6uczJRnAAAACXBIWXMAAA7EAAAOxAGVKw4bAAABgklEQVQoz2MQYIACVgbsgLMzxI9lbgCDMkyA\n",
       "NwBdCZvumiOiCpnWE7gfsDyAKmRhYGBvQFfot5Mh42+DmA8DfwCHAlQhExAvQFPH4azAwDC3geEJ\n",
       "QzQDVwFUYQoQq6MpjOBNYGDga2DYyuDLIM8KVVgKxLJQBb6rVh0A0c94Qe6cwPgBaOZcDqhCoCUM\n",
       "PJAAsHGDarggAaaYHzAcZJBzAypk85jAoMCygIEdpJqB8RhUHeODIBSXKDMwsW9gm8DyDeobHljA\n",
       "sipYoikM51jAKcCwgYGhGawQJsHYYIKmMIHbARg6wFCMA/GjVwHBBbAbhdAUMtQnMDGwOTAwFIH4\n",
       "uXCZa7zoCnsYxBlYgGF2EMTngstYgMKRwQBJYS/DNAZjoKPAFrI4IGLmAZA4gKTQWkCBE6iRqQAs\n",
       "cBxupO8JgfQVyFazPrriiLA073ICPPXsXyGArJCBFWxWBVTE6NaqA1jSJUghC9iMiwx4gTI0kTGw\n",
       "HSCskAXs3Qn4FbrCGHz41QEAUKNKBCB71lUAAAAASUVORK5CYII=\n",
       "\" style=\"display:inline;vertical-align:middle;\" /></a>, <a class=\"ProveItLink\" href=\"../__pv_it/demonstrations/053fb38df6fcf9baf4abe8cee7dd8e99b8a50fd80/expr.ipynb\"><img src=\"data:image/png;base64,iVBORw0KGgoAAAANSUhEUgAAAF0AAAASBAMAAADLUc9JAAAAMFBMVEX///8AAAAAAAAAAAAAAAAA\n",
       "AAAAAAAAAAAAAAAAAAAAAAAAAAAAAAAAAAAAAAAAAAAv3aB7AAAAD3RSTlMAIs1UmauJMnZmRLsQ\n",
       "3e++988cAAAACXBIWXMAAA7EAAAOxAGVKw4bAAABdklEQVQoz2NgIAjKGBhYBBiIAZyeFS0MDBwJ\n",
       "DJ4MDFOmdwR0bodKCKGr5Mm+pCGecHLdBD6gyR1sDQw8s14yPGVohUrro6tvfclw5LeDTBMD/wEG\n",
       "BjYNBgbGEwoM3xncILLM/9GUs3QlMDDMdmCIYFjHAFHPwNrA/oDhMlQ6Hs0/JdxAY1kdGJ4zuLAz\n",
       "MLSxTGBg4Cvg2MD4oQAsnZgPoRk49t69BKJjuEF+mMD4geG6OdS/8kAbODc4gGQZG/oNwMq5NA5A\n",
       "9G0QgfADGNomgMKTVYBhKQOTAGMEWJ6FwX4CJJigyhkDyvAF82KG+gQwQxEqwJ6wEp96Bwb5ADBD\n",
       "ASrA6LACj3KOLS7xG8DGvr179+5tsPvF8Kg/wcDAfwEcqRtgQnu48TqHgfcBmHUBJrQEFP4MC7Aq\n",
       "5wKGDdMHMLMDEb9AD7EoYFUvB8TcH8FMJgOYYLeKwOErWJWf/q/DwLz/EzhAeaLXwNPn+ytEpHmu\n",
       "bEh6wA0A6ehXuNCZSI8AAAAASUVORK5CYII=\n",
       "\" style=\"display:inline;vertical-align:middle;\" /></a>, <a class=\"ProveItLink\" href=\"../__pv_it/demonstrations/d110bb13a053721ab731f462ceb03fc920ca201b0/expr.ipynb\"><img src=\"data:image/png;base64,iVBORw0KGgoAAAANSUhEUgAAAGAAAAASBAMAAABWXMbBAAAAMFBMVEX///8AAAAAAAAAAAAAAAAA\n",
       "AAAAAAAAAAAAAAAAAAAAAAAAAAAAAAAAAAAAAAAAAAAv3aB7AAAAD3RSTlMAdrurIs1mVDKZ70SJ\n",
       "EN02Mxp8AAAACXBIWXMAAA7EAAAOxAGVKw4bAAABdElEQVQoz2NgIAZwHGBgmEKMQrZpjcKMSQ0M\n",
       "DDIMnAkgniROpbyHngZ6HLi2K4HLgNGAgYFR4CADA4jnAJQT+q9spOyApkF4GcPNTxN8RRn4GziB\n",
       "7mE4KsDAAOJdAEl+Bdr9HVU9pzRQVdIEBkOGLga+AqgGIG8X2EcfgcQsVA2dTECjmCcwrGAQYvDn\n",
       "ADrpwDSg6AqGmUA2A+MPILE/AayQUe/dUxBtywTyRwLLB6CpSZxQTwN5LyqA4kwfgIQ/yKEM3IEX\n",
       "IDYoeIIpbgOGEAZnWXCwmoB4MiBz+RWARL8BSIErVD2LQQ+ewO4H+ScfbEMIPKK24dEgD4wYBvsN\n",
       "IGYAVIhlwkY8GvRBxC+wwevevXv3COwHHzwaPoHSwDdw9CrAxHSZ8CQsUDTcgih9ABPcCYoHhg1Y\n",
       "NYCjQRXCFkTENDDUOAOwamAFRsO+CVB2AUxUKNLh+kus6pn1PxsrwdI6r9FeeGpd/9KBiAzAfQiS\n",
       "NHADANfiWcu00UR9AAAAAElFTkSuQmCC\n",
       "\" style=\"display:inline;vertical-align:middle;\" /></a>, <a class=\"ProveItLink\" href=\"../__pv_it/demonstrations/55701387f25fde525e21ebc18286978696667feb0/expr.ipynb\"><img src=\"data:image/png;base64,iVBORw0KGgoAAAANSUhEUgAAAEwAAAAVBAMAAAAeOBUnAAAAMFBMVEX///8AAAAAAAAAAAAAAAAA\n",
       "AAAAAAAAAAAAAAAAAAAAAAAAAAAAAAAAAAAAAAAAAAAv3aB7AAAAD3RSTlMAIolEdjLNuxCZZqtU\n",
       "3e8Ziz2RAAAACXBIWXMAAA7EAAAOxAGVKw4bAAABZ0lEQVQoz2MQYIACVgbsgGtWiCcDgzKMyx6A\n",
       "roBD/VqKqEKX3QI+AYQyngnoyrxfMXR+nyDhxsDfgFDGcAFNFaezAgPD8gkMWxjskCxl0EFTFsne\n",
       "wMDAPYHhKcNMViRl4lDa/e7dBBC9gx3kvgWMHxiuHkVSxgbxtJkHlF8gCaaYNzA4LQApCwXKfW9g\n",
       "4FEAiTJmQFUxbghCcgFQ2QQG1ixrBagf2GAByapghaKMJ4CBG2gFA8NksDKYBOMEExRlTAwMK0BG\n",
       "MkSD+HF3gaAA7DYhFGUsDAwODBwODAyHQPx2uEwFO4oyTgbmAAZOYBglgvi8cBlLULgxGMCVLeBk\n",
       "4NgKdAzYKhYHRCxsABIJcJ+muUXNBWpiOgAWyIEb554p0HMTESBc9/8qIKzrLm6Ap5D3NwUQyhhm\n",
       "gVknoSJGtXcTMFIdSNlTMKuQAQ8AKmP9ALYigYAyFnAssSzAp8wVGBLg5M2NTxUAn11FpH3bB28A\n",
       "AAAASUVORK5CYII=\n",
       "\" style=\"display:inline;vertical-align:middle;\" /></a> <a class=\"ProveItLink\" href=\"../__pv_it/demonstrations/4cec0bc1da4acf02fbfbb41e2fb1118164e4c3770/proof.ipynb\" style=\"text-decoration: none\">&nbsp;&#x22A2;&nbsp;&nbsp;</a><a class=\"ProveItLink\" href=\"../__pv_it/demonstrations/202932c16c2f8213104e3ab676d0f4908f6df2ff0/expr.ipynb\"><img src=\"data:image/png;base64,iVBORw0KGgoAAAANSUhEUgAAAfgAAAAVBAMAAABYq+GkAAAAMFBMVEX///8AAAAAAAAAAAAAAAAA\n",
       "AAAAAAAAAAAAAAAAAAAAAAAAAAAAAAAAAAAAAAAAAAAv3aB7AAAAD3RSTlMAInZUiRDNmWbv3US7\n",
       "qzJazP2FAAAACXBIWXMAAA7EAAAOxAGVKw4bAAAFY0lEQVRYw51YXWgcVRQ+OzuT2WQ3m6UVQQm4\n",
       "NsaqD80+iNI+tGOsYNHSJUhUKBgfWvpmHmIb0kpXQVNopRvRFy2yICImGBcFoRHjti95ac0K4lN/\n",
       "on3xh9r4UxGNxnPu3Ltz7tybYegNZ3ayd77vO+fOuefeuwBQgsSWwT/VVmzdrHWoirInE3+CoTJJ\n",
       "qgZTkizcsltORUPdHqcZALep7r8yVQb4P0+omwIOU74cmQ01AAnCBlOSrNXrVG49qKNekJ+3bX1R\n",
       "fGYDFTw+/LDhBHaDs7x2+cLXmkp2HC/3MTNRZBbhzPCRaofJYUwGwcbg1G55YzrrukyQMrwubkZB\n",
       "BY98PUYYo3TpQ47TFa4CDbSuamQmahSswt9Drt1hchmTKbshOLVbfk2j8a+GE+QpgAVxM6mC9/DN\n",
       "u2qK5BVqki43sMuvayqPouXGI9PbpEIawl4A+UaHaYQxmbIbglO71a3TPLJvReX4S+KmroLPYkem\n",
       "pYZazULihiGaSn9pKv10eYuZ1uoKaQhjovvRm9/JmQzZDcGp3XpIL5LloYoMPvu+kBtTwVMKwvOx\n",
       "4LNi0iwT8g9NpYtexSFmWpaOKaQhjP7viOZ8wJkM2Q3Bqd2aoO9275WLmA+7RGblv7t4UND4gQh+\n",
       "ZBKDfyCqjsoLXxSeNSoS/4YqvwB8tlYNK9JeZlqWBgppCC/2f3sgrFHe1hoETiNiisu6u6+AHZza\n",
       "LRqCO5veTEaM3adwIwhf84kF4VZXTQQfbIdnYKjaqXjKC+qG4m80k+QQj0Px0BdBWFpeYwZTs9Q+\n",
       "UiiBNIWD3Mn5MHg3W/dqzs2IKSabmYNnS5vBBk7t1nt4fQNgyREvehzuasscz4n53VOh4IuVKXiZ\n",
       "yoPf1L2gbnD+w0vvP0IFK0MvAEKP4r/bmfFGKIE0hdG/U2Hw1/xGrkST92jEwGW7y1AYHwQbOLVb\n",
       "72BEqwCHxZR2lo5cbckym1+lm+4mBe+hmwFmFxRJxJ+d/fDt2dm27IYCPdkXllWkeZW8getUbpnx\n",
       "RigyU5iWlC/D4KvdZVdjiskex2/GAis4tVsYfDci9zwmY+4Ta8UiUtaj4CF7E4MfiTYX6hUIlT5S\n",
       "Pl0TKg7VSvKCqsNZZrbgTeE8zrX75b5kV9XVmGKyZ9CxN6tWcGq3MO2fwy/3VcL8gZ66TKBCO0p7\n",
       "HGOcmoOyWsbTntZT70zosk8u+NVwXdjBjM95lfamMKXBRRn8YdgMDmPSZT2c0e7vYAWndus8DhE+\n",
       "tUftIbpEtuNS8aOIs1AOg2/lqvmmXCeZF9Qt1tPCmFSp+eBdkTuCU8x4IxSZKdyFM2tGBn8MM/Vz\n",
       "xhSTpeDrdnBqt7Dm+y3IHacDzx2E+5VmzyTk58INZlsEn59x4aTcIXEvqJs21vkP1Ani4L0/TDXl\n",
       "XnCCGW+CtG0TfroGC03JdLYU5DhTTPYYwPTqihWc2q2faLU9MegPA+xfPwDZ5T/p0PHzlmG5x2+E\n",
       "m5zrT24pyb0x94K6L61fvrRUUiq5j/+muiDWxDlmvBGKzBTe+ck9ZcVU/Ob83ZwpJus+/kp1omwF\n",
       "p3arx3JGD3dzYZuXO7xrnVORts+cNw6i4babzn+ZRmR6mzeQsgWcqVjhTAmycXBqt8xThx78tAxe\n",
       "rKiFUvxgM22ovCvuztHaVItMb9MG0hZ8uANQTAmyZvBp3TpnoRlhxakUBh9YTpJ8ODrJKgqmOCj3\n",
       "MzNRBcsvSF6Z++tqTAmycXB6t/Zbgl9klK0weMFs/izhtWIqjshQpyaHWZmJ0pHyza5ob15jSpCN\n",
       "g9O7lSkn/xq2CZwOa9vWzdo2pBMP95JSKTIbalOS6jZ1o5iSZOEW3fofvtPmRaVzLVwAAAAASUVO\n",
       "RK5CYII=\n",
       "\" style=\"display:inline;vertical-align:middle;\" /></a></span>"
      ],
      "text/plain": [
       "{alpha in Complex, beta in Complex, m in NaturalPos, n in NaturalPos, |psi〉 in Complex^{m}, A in Complex^{n x m}, D in Complex^{m x n}, |varphi〉 in Complex^{n}} |- (alpha . A . beta . (|psi〉 + (D . |varphi〉))) = ((alpha . A . beta . |psi〉) + (alpha . A . beta . (D . |varphi〉)))"
      ]
     },
     "metadata": {},
     "output_type": "display_data"
    }
   ],
   "source": [
    "qmult5.distribution(3)"
   ]
  },
  {
   "cell_type": "code",
   "execution_count": 52,
   "metadata": {},
   "outputs": [
    {
     "data": {
      "text/html": [
       "<a class=\"ProveItLink\" href=\"../__pv_it/demonstrations/a6b29a5ef6667e470d387498f79515261a5faa5a0/expr.ipynb\"><img src=\"data:image/png;base64,iVBORw0KGgoAAAANSUhEUgAAAL4AAAAVBAMAAAAKgUmDAAAAMFBMVEX///8AAAAAAAAAAAAAAAAA\n",
       "AAAAAAAAAAAAAAAAAAAAAAAAAAAAAAAAAAAAAAAAAAAv3aB7AAAAD3RSTlMAiasyIt1EEO9UdruZ\n",
       "zWZ7xlX5AAAACXBIWXMAAA7EAAAOxAGVKw4bAAAC+klEQVQ4y4VVTWgTURCezabZ7Ga7TXvQ2ks1\n",
       "6qkUF//Qi40HD+IlCKkIgsVSyaUSr/VgwKJiQSIiiCgGFIRSbZAeNBYahepBWnsQPEhr8OKh2Kb1\n",
       "D1q1zrz39jWbl9SBL5nd7+V7M/PmTQD+Y3GBymdmOiJYc/kGtGJWlkPaJs+JuAChXPX6DWhrYjX2\n",
       "Ygf3D4+84c4Ngfm1WOyjKwUsALOI30/q6tegm2YAFlmseg4+s1fGDAfAEEDgmxTQEAlEY7qefg26\n",
       "C9OxM+SdB+hjr+wSBwRXMN3fUmAAsQXhFMVvzyn6PprZKJXsL3m40Sv2KiwADsburEiBm4hj5FwR\n",
       "v72j6PtoZhMU5xLXN0+wV/cEIFDGbAelQJSSp16Zq6sv6eYWl79Zpcov40do79NZXrmXAhDOg7GT\n",
       "n68xUoKolQCTNmlR9fcA9K+mJX2kxxgM0qnqlL6zxE5voY/vOeeF2FUY7ixxAc3MGCXrFz/Br6p+\n",
       "EfS5M1FJXwMYtyhai9oj8JN3h5Nny08KwGgczOtc4KCdcOKAffAaH28r+qYLAYC8R9tY2CmN3Ygy\n",
       "9WiGd0eozJZfFoBniHZen3Q4p1GUsJvyInIymbyaTB4X6QF8qaCxsNC6mbU/hbxIRejFZDJ+fTqW\n",
       "xRwvwP20BkaO37uUEr9F7bFOX0SvPeu1vzEkuiOy1Vcfndp2Vw/Xn4KjQBV9j4+3FH0bQi7Ykm5C\n",
       "1VbZ/hF2V/HjAB9UBQHrO+7xRxzgWyzAWWxlynde1S/ZYGyXtJ0H5x0NO/iEVT/FhsI0hLr58haB\n",
       "RixX6oPQT8WjDqaiZb3m9ffP7ONDkxV088Ijuw3djrVYxziL2tw/3CaW7+MITCzHOp97Avq2wkP0\n",
       "GuixW9V3Tv+IVtM+09bdBpfDP8B0dl536bonatzfaVDoevo0oPxDigTYdYExMf+U+XYJFNpnAxX+\n",
       "mIBPX/NGNx9iVbRerk8z663wLwj442d/MaXqrQVtJerTigVzHNIeeE6AROLV65EOuhX0P/Pjxjvu\n",
       "90OgAAAAAElFTkSuQmCC\n",
       "\" style=\"display:inline;vertical-align:middle;\" /></a>"
      ],
      "text/plain": [
       "alpha . D . beta . ((B . |psi〉) + |varphi〉)"
      ]
     },
     "metadata": {},
     "output_type": "display_data"
    }
   ],
   "source": [
    "qmult6"
   ]
  },
  {
   "cell_type": "code",
   "execution_count": 53,
   "metadata": {},
   "outputs": [
    {
     "data": {
      "text/html": [
       "<span style=\"font-size:20px;\"><a class=\"ProveItLink\" href=\"../__pv_it/demonstrations/209baac38918ef8b1210d5267967da66f42b39310/expr.ipynb\"><img src=\"data:image/png;base64,iVBORw0KGgoAAAANSUhEUgAAADYAAAAQBAMAAACvnpHFAAAAMFBMVEX///8AAAAAAAAAAAAAAAAA\n",
       "AAAAAAAAAAAAAAAAAAAAAAAAAAAAAAAAAAAAAAAAAAAv3aB7AAAAD3RSTlMAiasyIt1EEO9UdruZ\n",
       "zWZ7xlX5AAAACXBIWXMAAA7EAAAOxAGVKw4bAAAA10lEQVQY02NgwAbYpWNvOQtglWJY1MdQ8/sA\n",
       "VimeZUA9r7HL2XAXMDAwocqtDg29AKLVuUF2PkCWyl0OZWzwgQkJChmAaZbrUAEWBUMoyzWBvYVl\n",
       "ApDB6wAVYRbIg7K6GBj2cBWA5GAGsRzIgrr3AwPDWUYQyyIUCDaA7XOEyHEAeRLiIFY13FHbuSF0\n",
       "/QIGBnmQdQyscLkckP8YEhj4gXISYBGuBYhwUQASFxh4NjDwnWcGC91EBMIdh8oYkPfeLeeRAosU\n",
       "bSuAx0N/jANqOCZuhYQZFAAANPAuqY517tAAAAAASUVORK5CYII=\n",
       "\" style=\"display:inline;vertical-align:middle;\" /></a>, <a class=\"ProveItLink\" href=\"../__pv_it/demonstrations/4827169ff5051c0ad90075d5d60d0692974558df0/expr.ipynb\"><img src=\"data:image/png;base64,iVBORw0KGgoAAAANSUhEUgAAADUAAAATBAMAAADCPVhoAAAAMFBMVEX///8AAAAAAAAAAAAAAAAA\n",
       "AAAAAAAAAAAAAAAAAAAAAAAAAAAAAAAAAAAAAAAAAAAv3aB7AAAAD3RSTlMAIol2mRAyZqtE3VS7\n",
       "ze8XF9CTAAAACXBIWXMAAA7EAAAOxAGVKw4bAAAA9UlEQVQoz2NgwAaCTt01TAKzhExcUaWY+wpY\n",
       "/Y+AWGwGDBWocs6TGBjYwXJBDAyzUKTYHI4CyRYQ04CBwQMiaLNq1QUgxRFwAEiGQ+S4l4Kl5ppC\n",
       "lPAwOkBN4Ew8cTcAxGC8ChWRYFOAspgYymclgBi8AlCRJM4CuBwD+wGwHMwtIpwGUFYw0NgPIEbe\n",
       "KiA4ALYPZuY0oF8fgBgxMH08YHeCAFANTwOIwQWT4wT7jxOIgT7KA7uC2QAeLjOAhC8DA6s7A+dK\n",
       "iNBteHiedWTdBfQjd6axMlQo4mQALB7O/XKEeAEOJp0ChxkcMDHgBsF45KbhlgIAuewwOfL5TtwA\n",
       "AAAASUVORK5CYII=\n",
       "\" style=\"display:inline;vertical-align:middle;\" /></a>, <a class=\"ProveItLink\" href=\"../../../../logic/sets/cartesian_products/__pv_it/theorems/79a768603778550c651661670153c27ee0a505870/expr.ipynb\"><img src=\"data:image/png;base64,iVBORw0KGgoAAAANSUhEUgAAAEYAAAATBAMAAADfQ2bzAAAAMFBMVEX///8AAAAAAAAAAAAAAAAA\n",
       "AAAAAAAAAAAAAAAAAAAAAAAAAAAAAAAAAAAAAAAAAAAv3aB7AAAAD3RSTlMARHarECKJuzJmVO/d\n",
       "mc2qKiq2AAAACXBIWXMAAA7EAAAOxAGVKw4bAAABD0lEQVQoz2NgIAAuMBAGBZSoYTlf/oSBbf9G\n",
       "vOawLxBmYPDHbxfzUbYJDNwMvOXl28srcalZzvCUgQe7OUw1Z86B1UQqxOFQw/jIAWpOgAVTAlwN\n",
       "o7JrUhFHWiFYKs4BZlcAO0MhXA0buxGD/0SG1WCpp3D3BHBc8PGBhbMgTwFDvALDfLDUA4Qahllc\n",
       "1TCeg78Aw3oHhnsgNseeM2fOHIeqYXawhrtzPQNIwTZw8BYgmcNi4ANXY8fAcIyB8SsLiH0ASQ1D\n",
       "EztczTYGlo8MzA8iQWwleFw0AMOqHcZj/cHA+YGBPSEBxOFbABUFM+7Bg+0AA9MFBsZLAWAHmYuA\n",
       "BTnebweSftjjiTEdEhcoAAAiLj7xf6vyygAAAABJRU5ErkJggg==\n",
       "\" style=\"display:inline;vertical-align:middle;\" /></a>, <a class=\"ProveItLink\" href=\"../../../../numbers/number_sets/natural_numbers/__pv_it/theorems/132c57ec1224a4beaf274a23bd799047020206590/expr.ipynb\"><img src=\"data:image/png;base64,iVBORw0KGgoAAAANSUhEUgAAAEEAAAATBAMAAAA9n32KAAAAMFBMVEX///8AAAAAAAAAAAAAAAAA\n",
       "AAAAAAAAAAAAAAAAAAAAAAAAAAAAAAAAAAAAAAAAAAAv3aB7AAAAD3RSTlMARHarECKJu90yVM1m\n",
       "75kejotwAAAACXBIWXMAAA7EAAAOxAGVKw4bAAAA90lEQVQoz2NgwAf4GAgBdrJVeHyvdmDI/SuA\n",
       "x4wqRgMGlg/4bLEIyGFguMDwvLy2vPwAVhVWBdwBDA3YzFDv6NgAok0PsW7AqkJaBcowZZ6ghlDB\n",
       "qOyaVAQWZ90CU2rKUMAuAFfBxm7E4B8AYnEHIFTMY2lpgIWpIEcBQ/wEsAoGhAqeBcsvwHgO/gIM\n",
       "6x1ArLkdQFAAUcFgwgxXwbCegcEazHBHMoPBmaUBzgVK/2EBMTiQVXAqFMC51xi4vrCBGEwKMKFK\n",
       "INaEq2D9ycC04SSYuQsmBmLwbYDxGBsYWGwWgJnOhWAXM8z+C9TPsgFbfIhVdGCKAwDDkzTgOh63\n",
       "3AAAAABJRU5ErkJggg==\n",
       "\" style=\"display:inline;vertical-align:middle;\" /></a>, <a class=\"ProveItLink\" href=\"../__pv_it/demonstrations/b9ff765654f5a9fab1a0f971ffbd46ba878d2ac30/expr.ipynb\"><img src=\"data:image/png;base64,iVBORw0KGgoAAAANSUhEUgAAAFAAAAAVBAMAAAAjqnRBAAAAMFBMVEX///8AAAAAAAAAAAAAAAAA\n",
       "AAAAAAAAAAAAAAAAAAAAAAAAAAAAAAAAAAAAAAAAAAAv3aB7AAAAD3RSTlMAIolEdjIQVJlm3e/N\n",
       "u6uczJRnAAAACXBIWXMAAA7EAAAOxAGVKw4bAAABgklEQVQoz2MQYIACVgbsgLMzxI9lbgCDMkyA\n",
       "NwBdCZvumiOiCpnWE7gfsDyAKmRhYGBvQFfot5Mh42+DmA8DfwCHAlQhExAvQFPH4azAwDC3geEJ\n",
       "QzQDVwFUYQoQq6MpjOBNYGDga2DYyuDLIM8KVVgKxLJQBb6rVh0A0c94Qe6cwPgBaOZcDqhCoCUM\n",
       "PJAAsHGDarggAaaYHzAcZJBzAypk85jAoMCygIEdpJqB8RhUHeODIBSXKDMwsW9gm8DyDeobHljA\n",
       "sipYoikM51jAKcCwgYGhGawQJsHYYIKmMIHbARg6wFCMA/GjVwHBBbAbhdAUMtQnMDGwOTAwFIH4\n",
       "uXCZa7zoCnsYxBlYgGF2EMTngstYgMKRwQBJYS/DNAZjoKPAFrI4IGLmAZA4gKTQWkCBE6iRqQAs\n",
       "cBxupO8JgfQVyFazPrriiLA073ICPPXsXyGArJCBFWxWBVTE6NaqA1jSJUghC9iMiwx4gTI0kTGw\n",
       "HSCskAXs3Qn4FbrCGHz41QEAUKNKBCB71lUAAAAASUVORK5CYII=\n",
       "\" style=\"display:inline;vertical-align:middle;\" /></a>, <a class=\"ProveItLink\" href=\"../__pv_it/demonstrations/8ad6c394b3f6e47e61283ded938b84fbf01842970/expr.ipynb\"><img src=\"data:image/png;base64,iVBORw0KGgoAAAANSUhEUgAAAF4AAAASBAMAAAAgZnRKAAAAMFBMVEX///8AAAAAAAAAAAAAAAAA\n",
       "AAAAAAAAAAAAAAAAAAAAAAAAAAAAAAAAAAAAAAAAAAAv3aB7AAAAD3RSTlMAZrurzTLvInZEmRDd\n",
       "VIkafcLnAAAACXBIWXMAAA7EAAAOxAGVKw4bAAABg0lEQVQoz2NgIAhYHzAwLGcgCkiJdixgYOhj\n",
       "4BJgYFwY0cwhFIBL5T4dl/Y4bslEhnQGBo6GFwwMG6cJsBlwGAClhP4bGzuhaeQwE+Ber8W+w4Hh\n",
       "N5D3pIGBobqFgT+A6wFIMomBgfkrqvoV8xgYGLUYmBs4E6DqGSwYwhh4LgAZ7D8YGDh/oXpxgTaQ\n",
       "tGJgC+BaEMDA8WAhkJfK0MRQzwpkMALNZvwBcYbOmSMgmnmDApDcyFDPwBMbAPEv+wegDUJcIMkP\n",
       "DAws6SBlnB4bIOYzsS8A05MZOB6Cw9OcgdOAwZ2huBsoyKbAwG0D9m8JVDlDMesD3IEcr9FhIgBm\n",
       "ucOE4jgFcKvvL2DgTQSzHGBCVZwNuNWrAfF7kHtYc86cOXMI4n487vkMxPIg87gVYEJMGxRwJ6eP\n",
       "QMJ+Aoh5ACbGCQ5/TqzqOb4D9XwBMzsQ8TsZSCzBqp4FGOPTvCHMC3BDVJZz31mATTmz/mdjE10I\n",
       "m9toNjx9qv0hIs1zPoKkB9wAAIQTVhI/1yADAAAAAElFTkSuQmCC\n",
       "\" style=\"display:inline;vertical-align:middle;\" /></a>, <a class=\"ProveItLink\" href=\"../__pv_it/demonstrations/d110bb13a053721ab731f462ceb03fc920ca201b0/expr.ipynb\"><img src=\"data:image/png;base64,iVBORw0KGgoAAAANSUhEUgAAAGAAAAASBAMAAABWXMbBAAAAMFBMVEX///8AAAAAAAAAAAAAAAAA\n",
       "AAAAAAAAAAAAAAAAAAAAAAAAAAAAAAAAAAAAAAAAAAAv3aB7AAAAD3RSTlMAdrurIs1mVDKZ70SJ\n",
       "EN02Mxp8AAAACXBIWXMAAA7EAAAOxAGVKw4bAAABdElEQVQoz2NgIAZwHGBgmEKMQrZpjcKMSQ0M\n",
       "DDIMnAkgniROpbyHngZ6HLi2K4HLgNGAgYFR4CADA4jnAJQT+q9spOyApkF4GcPNTxN8RRn4GziB\n",
       "7mE4KsDAAOJdAEl+Bdr9HVU9pzRQVdIEBkOGLga+AqgGIG8X2EcfgcQsVA2dTECjmCcwrGAQYvDn\n",
       "ADrpwDSg6AqGmUA2A+MPILE/AayQUe/dUxBtywTyRwLLB6CpSZxQTwN5LyqA4kwfgIQ/yKEM3IEX\n",
       "IDYoeIIpbgOGEAZnWXCwmoB4MiBz+RWARL8BSIErVD2LQQ+ewO4H+ScfbEMIPKK24dEgD4wYBvsN\n",
       "IGYAVIhlwkY8GvRBxC+wwevevXv3COwHHzwaPoHSwDdw9CrAxHSZ8CQsUDTcgih9ABPcCYoHhg1Y\n",
       "NYCjQRXCFkTENDDUOAOwamAFRsO+CVB2AUxUKNLh+kus6pn1PxsrwdI6r9FeeGpd/9KBiAzAfQiS\n",
       "NHADANfiWcu00UR9AAAAAElFTkSuQmCC\n",
       "\" style=\"display:inline;vertical-align:middle;\" /></a>, <a class=\"ProveItLink\" href=\"../__pv_it/demonstrations/55701387f25fde525e21ebc18286978696667feb0/expr.ipynb\"><img src=\"data:image/png;base64,iVBORw0KGgoAAAANSUhEUgAAAEwAAAAVBAMAAAAeOBUnAAAAMFBMVEX///8AAAAAAAAAAAAAAAAA\n",
       "AAAAAAAAAAAAAAAAAAAAAAAAAAAAAAAAAAAAAAAAAAAv3aB7AAAAD3RSTlMAIolEdjLNuxCZZqtU\n",
       "3e8Ziz2RAAAACXBIWXMAAA7EAAAOxAGVKw4bAAABZ0lEQVQoz2MQYIACVgbsgGtWiCcDgzKMyx6A\n",
       "roBD/VqKqEKX3QI+AYQyngnoyrxfMXR+nyDhxsDfgFDGcAFNFaezAgPD8gkMWxjskCxl0EFTFsne\n",
       "wMDAPYHhKcNMViRl4lDa/e7dBBC9gx3kvgWMHxiuHkVSxgbxtJkHlF8gCaaYNzA4LQApCwXKfW9g\n",
       "4FEAiTJmQFUxbghCcgFQ2QQG1ixrBagf2GAByapghaKMJ4CBG2gFA8NksDKYBOMEExRlTAwMK0BG\n",
       "MkSD+HF3gaAA7DYhFGUsDAwODBwODAyHQPx2uEwFO4oyTgbmAAZOYBglgvi8cBlLULgxGMCVLeBk\n",
       "4NgKdAzYKhYHRCxsABIJcJ+muUXNBWpiOgAWyIEb554p0HMTESBc9/8qIKzrLm6Ap5D3NwUQyhhm\n",
       "gVknoSJGtXcTMFIdSNlTMKuQAQ8AKmP9ALYigYAyFnAssSzAp8wVGBLg5M2NTxUAn11FpH3bB28A\n",
       "AAAASUVORK5CYII=\n",
       "\" style=\"display:inline;vertical-align:middle;\" /></a> <a class=\"ProveItLink\" href=\"../__pv_it/demonstrations/8cc84c5733456258f202e905e0a4ea49d36ba5340/proof.ipynb\" style=\"text-decoration: none\">&nbsp;&#x22A2;&nbsp;&nbsp;</a><a class=\"ProveItLink\" href=\"../__pv_it/demonstrations/af14e0c26082280033302317da75425deded13e50/expr.ipynb\"><img src=\"data:image/png;base64,iVBORw0KGgoAAAANSUhEUgAAAf0AAAAVBAMAAAC+girgAAAAMFBMVEX///8AAAAAAAAAAAAAAAAA\n",
       "AAAAAAAAAAAAAAAAAAAAAAAAAAAAAAAAAAAAAAAAAAAv3aB7AAAAD3RSTlMAInZUiRDNmWbv3US7\n",
       "qzJazP2FAAAACXBIWXMAAA7EAAAOxAGVKw4bAAAGN0lEQVRYw5VYb2gcRRR/d7eX3eQu16P1Uwh4\n",
       "Ta2tovaQUmk/6FIrWGrpEkQtVIwfWlIQjBBrjJWegqbQSi6iorbIQRExxXr0g9iI6TWCRWjaE6Qf\n",
       "JGlP+0UrNbH/rJo2vjfzdm53Z7NLH7zL3N7b3/x+M2/ezAQA8hBjefAHJVSrASGvqwc5jk2EYC70\n",
       "XAu6LdhErA4fgniQLMawoABfkFF1W6fRjwbjN7mNLA5PpiA9aMvYI23Z7cJGI2oIgvpqr9Qzc9On\n",
       "fpTtO1a8LBur2ffPT0+/0GjqR4CH6J3SQt2k+vBjJbvfUrZ0ZffNT05NyglKrH/FUUHWmZvTZ083\n",
       "YZNRsDGIGjGinu7xIizCb8NirnMFeEc8ogAZdBCg/VZTP3bWRn+3L6QfKugtjnS/PcXetOuo9Ypo\n",
       "/QpWXQVBaw3gfEPBGlGwMYg6MaRu+qZvBifVLFPrSYAx8YgCRFDiMmbN30p/GkMNGqohfvdrTf+j\n",
       "6FafdL8NsCvLITi8KnBtyFRUENyJ3RzvU7DdIbCZkgc1AlEnhtRbfbxW0cq4wdn9unjUyg4Wzr11\n",
       "WelPYWiiRj/yNDyo6e+kj/fZfVZmb648SqzjJZnhZl0FwTB2M1xQsA+HwKYKHtQIRJ0YUl/j43WG\n",
       "5vmq1J/6VDxaww7ts5g0I0o/ZSI8T4lUWkh/Cy2/XnbfQu2R3rTsLM21Ldmuc9wgzH30nXkFa4fA\n",
       "uvrjEHViSL2fvm/Y3JA/zFHi3KSc+mVyh5zXfnZaiemfuf51D6D+e2VdNOqa/j8BvppzZD3azO41\n",
       "05YOxoZzXHgok2YIabzz7HYVJIrOs0ckbHpFCexkRYN19cch6sSQOo1hRzU9kii6a8a6KmZ375gc\n",
       "EzXQMxNdZ0u8/9lr4RlY5YgCaPVo+vsg1/utLevM2+wwOEr2BXDKkCcOw9b8ErfwwDDRsq19R8AN\n",
       "gtxc1/29DGukyulS8loAtqk/DlEnhtQPYetdgJNJx10z7f/J7LZqAvUQO6zKQ+pDqT9XHIQ3qCqY\n",
       "uBRS5aB+LA3tAPj6a/h1LbvX2orSWwuQ7VvuFh44X5UZvl8FQfIvfLskYS+YFStPizwA6+qPQ9SJ\n",
       "IfUDKAJXyi5DrZlFZVlnM7MC9QA7/IC+ReZ/GofMBhOnB/MrNysn9yOe3E00eG/RWMMlmgd2r7VW\n",
       "pe/Bzntst/DAP7ytHFdBkEUyxi0J67QWDA3WHB39/OPR0TrEI+rEkPoBucVufEytmWEa7nEc+rJf\n",
       "P5UFUYkx/1PXUH+3PHFktPlPUvmkbqk8HGMP04+L23jPcQuPRRtPBkf4nqb+RXXedCh7H3GMMFh3\n",
       "/uMQdWJIHVP7OXywpeiumfRBrrPZui//czfcfEL9Zg/Wi+WykKYqQf0m9Wk6cntYx+5d/5z/aRRm\n",
       "XFGb9dYabyuTzfyfKfGCJP27YAkkg7C+/I9E1Ikh9QkcY3x/o9r+s6Kc4cfv8vA4wU4rMXed659Z\n",
       "s5xMVW6kXCe8+ksmpM/x8WA/uAvaszcVpBPbstqsvxdFDHsZUUFUdGCmh/Xvxuz9Rod19cch6sSQ\n",
       "Ou4CZg2sPXQnghcxJT4TR6YByByWqO5G04Kwx7az/syIAfv4IGXaWv3fcfdvg1U+Hqr903uDqkvf\n",
       "jUewWSopLVhDxsRx7ukSjFVVEOxERh84DHssb1shsK7+OESdGFK/SNv/3uXmevw7NT89dVLMeuqP\n",
       "rvXM9aL0drqIfKfuf5ee6MrzQbqtqum3vvyXBkVcDw6z+86mFenG4286/QUJfuolecA7elehGTRF\n",
       "d66iC5v7aWJpCGzK80IUok4Mqbc1wq6KhmevakAgSJz/LqiLVAfo5z95EqfrYaIi3W9H2HWz/UH+\n",
       "a1WuGAarzr8xiDqxjrC7SUC/foER+sUem817bh3e+88nonXCe33y2ZDn3rSg/iFNvzikaLDq/jMU\n",
       "r99PbIDbmnV72ieCQUbVRaULZ6Km33/FkUDemjvd64a/AOZ58IKWLviD/PqNaNgYRI2YoL4tTP+4\n",
       "p70tGCT0C9SVYZ1iN0mRmeI/IydChzhdk65ZpuEPCsx/NGwMokZMUE8U4v4LVwgEJRUiVeilwfgH\n",
       "MFxEtFNsXnrQFrNH2uIArLQI2GhEjRhS/x/3FBMfU2p3DwAAAABJRU5ErkJggg==\n",
       "\" style=\"display:inline;vertical-align:middle;\" /></a></span>"
      ],
      "text/plain": [
       "{alpha in Complex, beta in Complex, m in NaturalPos, n in NaturalPos, |psi〉 in Complex^{m}, B in Complex^{n x m}, D in Complex^{m x n}, |varphi〉 in Complex^{n}} |- (alpha . D . beta . ((B . |psi〉) + |varphi〉)) = ((alpha . D . beta . (B . |psi〉)) + (alpha . D . beta . |varphi〉))"
      ]
     },
     "metadata": {},
     "output_type": "display_data"
    }
   ],
   "source": [
    "qmult6.distribution(3)"
   ]
  },
  {
   "cell_type": "markdown",
   "metadata": {},
   "source": [
    "### Simplification"
   ]
  },
  {
   "cell_type": "code",
   "execution_count": 54,
   "metadata": {},
   "outputs": [
    {
     "name": "stdout",
     "output_type": "stream",
     "text": [
      "Help on function simplification in module proveit._core_.expression.operation.operation:\n",
      "\n",
      "simplification(self, **defaults_config)\n",
      "    If possible, return a Judgment of this expression equal to a\n",
      "    simplified form (according to strategies specified in \n",
      "    proveit.defaults). \n",
      "    \n",
      "    This Operation.simplification version tries calling\n",
      "    simplifies the operands and then calls 'shallow_simplification'.\n",
      "    \n",
      "    Keyword arguments are accepted for temporarily changing any\n",
      "    of the attributes of proveit.defaults.\n",
      "    \n",
      "    'simplified' returns the right-hand side of 'simplification'.\n",
      "    'simplify', called on an InnerExpr of a Judgment,\n",
      "    substitutes the right-hand side of 'simplification' for\n",
      "    the inner expression.\n",
      "\n"
     ]
    }
   ],
   "source": [
    "help(Qmult.simplification)"
   ]
  },
  {
   "cell_type": "code",
   "execution_count": 55,
   "metadata": {},
   "outputs": [
    {
     "name": "stdout",
     "output_type": "stream",
     "text": [
      "Help on function shallow_simplification in module proveit.physics.quantum.algebra.qmult:\n",
      "\n",
      "shallow_simplification(self, *, must_evaluate=False, **defaults_config)\n",
      "    Returns a proven simplification equation for this Qmult\n",
      "    expression assuming the operands have been simplified.\n",
      "    \n",
      "    Currently deals only with:\n",
      "    (1) simplify unary case\n",
      "    (2) Ungrouping nested tensor products.\n",
      "    (3) Factoring out scalars.\n",
      "    \n",
      "    Keyword arguments are accepted for temporarily changing any\n",
      "    of the attributes of proveit.defaults.\n",
      "    \n",
      "    'shallow_simplified' returns the right-hand side of 'shallow_simplification'.\n",
      "    'shallow_simplify', called on an InnerExpr of a Judgment,\n",
      "    substitutes the right-hand side of 'shallow_simplification' for\n",
      "    the inner expression.\n",
      "\n"
     ]
    }
   ],
   "source": [
    "help(Qmult.shallow_simplification)"
   ]
  },
  {
   "cell_type": "code",
   "execution_count": 56,
   "metadata": {},
   "outputs": [],
   "source": [
    "Qmult.change_simplification_directives(ungroup=True, \n",
    "                                       factor_scalars=True,\n",
    "                                       use_scalar_mult=True)"
   ]
  },
  {
   "cell_type": "code",
   "execution_count": 57,
   "metadata": {},
   "outputs": [
    {
     "data": {
      "text/html": [
       "<span style=\"font-size:20px;\"><a class=\"ProveItLink\" href=\"../__pv_it/demonstrations/a96adf032fe1e70a10118c41779605949495a8190/expr.ipynb\"><img src=\"data:image/png;base64,iVBORw0KGgoAAAANSUhEUgAAADQAAAAUBAMAAAAw+gPuAAAAMFBMVEX///8AAAAAAAAAAAAAAAAA\n",
       "AAAAAAAAAAAAAAAAAAAAAAAAAAAAAAAAAAAAAAAAAAAv3aB7AAAAD3RSTlMAVN27EERm75mJq3Yi\n",
       "Ms2Hvvv4AAAACXBIWXMAAA7EAAAOxAGVKw4bAAAA1ElEQVQoz2NgwAJYJuu9PjsBmwzDrjIGj88N\n",
       "2GQ4tgJ1JGOVusHswMDAhSK1WUnpAYhewgyyLwFJJm4LlGFwAsoQ+uzAEAKkeZ5ABXgW3IQw2Com\n",
       "LWDYAGTwHYBK8U4IgzAOMzDY8l4AScEM5mmIhjCAFnhzgxjXlYDAAGzXSbj9nAdBpDOcb8KMkAJZ\n",
       "xcAE50eA/MUQAJYCBxf3BkRoLAASYC9yXgCLPET4/cUBRw2IKoiAl6kDPOTrNSBe4YKKRBpBAgoJ\n",
       "RDLgBFNxSxngljqAXRgAVG4uiC3eUoAAAAAASUVORK5CYII=\n",
       "\" style=\"display:inline;vertical-align:middle;\" /></a>, <a class=\"ProveItLink\" href=\"../../../../logic/sets/cartesian_products/__pv_it/theorems/79a768603778550c651661670153c27ee0a505870/expr.ipynb\"><img src=\"data:image/png;base64,iVBORw0KGgoAAAANSUhEUgAAAEYAAAATBAMAAADfQ2bzAAAAMFBMVEX///8AAAAAAAAAAAAAAAAA\n",
       "AAAAAAAAAAAAAAAAAAAAAAAAAAAAAAAAAAAAAAAAAAAv3aB7AAAAD3RSTlMARHarECKJuzJmVO/d\n",
       "mc2qKiq2AAAACXBIWXMAAA7EAAAOxAGVKw4bAAABD0lEQVQoz2NgIAAuMBAGBZSoYTlf/oSBbf9G\n",
       "vOawLxBmYPDHbxfzUbYJDNwMvOXl28srcalZzvCUgQe7OUw1Z86B1UQqxOFQw/jIAWpOgAVTAlwN\n",
       "o7JrUhFHWiFYKs4BZlcAO0MhXA0buxGD/0SG1WCpp3D3BHBc8PGBhbMgTwFDvALDfLDUA4Qahllc\n",
       "1TCeg78Aw3oHhnsgNseeM2fOHIeqYXawhrtzPQNIwTZw8BYgmcNi4ANXY8fAcIyB8SsLiH0ASQ1D\n",
       "EztczTYGlo8MzA8iQWwleFw0AMOqHcZj/cHA+YGBPSEBxOFbABUFM+7Bg+0AA9MFBsZLAWAHmYuA\n",
       "BTnebweSftjjiTEdEhcoAAAiLj7xf6vyygAAAABJRU5ErkJggg==\n",
       "\" style=\"display:inline;vertical-align:middle;\" /></a>, <a class=\"ProveItLink\" href=\"../../../../numbers/number_sets/natural_numbers/__pv_it/theorems/132c57ec1224a4beaf274a23bd799047020206590/expr.ipynb\"><img src=\"data:image/png;base64,iVBORw0KGgoAAAANSUhEUgAAAEEAAAATBAMAAAA9n32KAAAAMFBMVEX///8AAAAAAAAAAAAAAAAA\n",
       "AAAAAAAAAAAAAAAAAAAAAAAAAAAAAAAAAAAAAAAAAAAv3aB7AAAAD3RSTlMARHarECKJu90yVM1m\n",
       "75kejotwAAAACXBIWXMAAA7EAAAOxAGVKw4bAAAA90lEQVQoz2NgwAf4GAgBdrJVeHyvdmDI/SuA\n",
       "x4wqRgMGlg/4bLEIyGFguMDwvLy2vPwAVhVWBdwBDA3YzFDv6NgAok0PsW7AqkJaBcowZZ6ghlDB\n",
       "qOyaVAQWZ90CU2rKUMAuAFfBxm7E4B8AYnEHIFTMY2lpgIWpIEcBQ/wEsAoGhAqeBcsvwHgO/gIM\n",
       "6x1ArLkdQFAAUcFgwgxXwbCegcEazHBHMoPBmaUBzgVK/2EBMTiQVXAqFMC51xi4vrCBGEwKMKFK\n",
       "INaEq2D9ycC04SSYuQsmBmLwbYDxGBsYWGwWgJnOhWAXM8z+C9TPsgFbfIhVdGCKAwDDkzTgOh63\n",
       "3AAAAABJRU5ErkJggg==\n",
       "\" style=\"display:inline;vertical-align:middle;\" /></a>, <a class=\"ProveItLink\" href=\"../__pv_it/demonstrations/4827169ff5051c0ad90075d5d60d0692974558df0/expr.ipynb\"><img src=\"data:image/png;base64,iVBORw0KGgoAAAANSUhEUgAAADUAAAATBAMAAADCPVhoAAAAMFBMVEX///8AAAAAAAAAAAAAAAAA\n",
       "AAAAAAAAAAAAAAAAAAAAAAAAAAAAAAAAAAAAAAAAAAAv3aB7AAAAD3RSTlMAIol2mRAyZqtE3VS7\n",
       "ze8XF9CTAAAACXBIWXMAAA7EAAAOxAGVKw4bAAAA9UlEQVQoz2NgwAaCTt01TAKzhExcUaWY+wpY\n",
       "/Y+AWGwGDBWocs6TGBjYwXJBDAyzUKTYHI4CyRYQ04CBwQMiaLNq1QUgxRFwAEiGQ+S4l4Kl5ppC\n",
       "lPAwOkBN4Ew8cTcAxGC8ChWRYFOAspgYymclgBi8AlCRJM4CuBwD+wGwHMwtIpwGUFYw0NgPIEbe\n",
       "KiA4ALYPZuY0oF8fgBgxMH08YHeCAFANTwOIwQWT4wT7jxOIgT7KA7uC2QAeLjOAhC8DA6s7A+dK\n",
       "iNBteHiedWTdBfQjd6axMlQo4mQALB7O/XKEeAEOJp0ChxkcMDHgBsF45KbhlgIAuewwOfL5TtwA\n",
       "AAAASUVORK5CYII=\n",
       "\" style=\"display:inline;vertical-align:middle;\" /></a>, <a class=\"ProveItLink\" href=\"../__pv_it/demonstrations/209baac38918ef8b1210d5267967da66f42b39310/expr.ipynb\"><img src=\"data:image/png;base64,iVBORw0KGgoAAAANSUhEUgAAADYAAAAQBAMAAACvnpHFAAAAMFBMVEX///8AAAAAAAAAAAAAAAAA\n",
       "AAAAAAAAAAAAAAAAAAAAAAAAAAAAAAAAAAAAAAAAAAAv3aB7AAAAD3RSTlMAiasyIt1EEO9UdruZ\n",
       "zWZ7xlX5AAAACXBIWXMAAA7EAAAOxAGVKw4bAAAA10lEQVQY02NgwAbYpWNvOQtglWJY1MdQ8/sA\n",
       "VimeZUA9r7HL2XAXMDAwocqtDg29AKLVuUF2PkCWyl0OZWzwgQkJChmAaZbrUAEWBUMoyzWBvYVl\n",
       "ApDB6wAVYRbIg7K6GBj2cBWA5GAGsRzIgrr3AwPDWUYQyyIUCDaA7XOEyHEAeRLiIFY13FHbuSF0\n",
       "/QIGBnmQdQyscLkckP8YEhj4gXISYBGuBYhwUQASFxh4NjDwnWcGC91EBMIdh8oYkPfeLeeRAosU\n",
       "bSuAx0N/jANqOCZuhYQZFAAANPAuqY517tAAAAAASUVORK5CYII=\n",
       "\" style=\"display:inline;vertical-align:middle;\" /></a>, <a class=\"ProveItLink\" href=\"../__pv_it/demonstrations/053fb38df6fcf9baf4abe8cee7dd8e99b8a50fd80/expr.ipynb\"><img src=\"data:image/png;base64,iVBORw0KGgoAAAANSUhEUgAAAF0AAAASBAMAAADLUc9JAAAAMFBMVEX///8AAAAAAAAAAAAAAAAA\n",
       "AAAAAAAAAAAAAAAAAAAAAAAAAAAAAAAAAAAAAAAAAAAv3aB7AAAAD3RSTlMAIs1UmauJMnZmRLsQ\n",
       "3e++988cAAAACXBIWXMAAA7EAAAOxAGVKw4bAAABdklEQVQoz2NgIAjKGBhYBBiIAZyeFS0MDBwJ\n",
       "DJ4MDFOmdwR0bodKCKGr5Mm+pCGecHLdBD6gyR1sDQw8s14yPGVohUrro6tvfclw5LeDTBMD/wEG\n",
       "BjYNBgbGEwoM3xncILLM/9GUs3QlMDDMdmCIYFjHAFHPwNrA/oDhMlQ6Hs0/JdxAY1kdGJ4zuLAz\n",
       "MLSxTGBg4Cvg2MD4oQAsnZgPoRk49t69BKJjuEF+mMD4geG6OdS/8kAbODc4gGQZG/oNwMq5NA5A\n",
       "9G0QgfADGNomgMKTVYBhKQOTAGMEWJ6FwX4CJJigyhkDyvAF82KG+gQwQxEqwJ6wEp96Bwb5ADBD\n",
       "ASrA6LACj3KOLS7xG8DGvr179+5tsPvF8Kg/wcDAfwEcqRtgQnu48TqHgfcBmHUBJrQEFP4MC7Aq\n",
       "5wKGDdMHMLMDEb9AD7EoYFUvB8TcH8FMJgOYYLeKwOErWJWf/q/DwLz/EzhAeaLXwNPn+ytEpHmu\n",
       "bEh6wA0A6ehXuNCZSI8AAAAASUVORK5CYII=\n",
       "\" style=\"display:inline;vertical-align:middle;\" /></a>, <a class=\"ProveItLink\" href=\"../__pv_it/demonstrations/b9ff765654f5a9fab1a0f971ffbd46ba878d2ac30/expr.ipynb\"><img src=\"data:image/png;base64,iVBORw0KGgoAAAANSUhEUgAAAFAAAAAVBAMAAAAjqnRBAAAAMFBMVEX///8AAAAAAAAAAAAAAAAA\n",
       "AAAAAAAAAAAAAAAAAAAAAAAAAAAAAAAAAAAAAAAAAAAv3aB7AAAAD3RSTlMAIolEdjIQVJlm3e/N\n",
       "u6uczJRnAAAACXBIWXMAAA7EAAAOxAGVKw4bAAABgklEQVQoz2MQYIACVgbsgLMzxI9lbgCDMkyA\n",
       "NwBdCZvumiOiCpnWE7gfsDyAKmRhYGBvQFfot5Mh42+DmA8DfwCHAlQhExAvQFPH4azAwDC3geEJ\n",
       "QzQDVwFUYQoQq6MpjOBNYGDga2DYyuDLIM8KVVgKxLJQBb6rVh0A0c94Qe6cwPgBaOZcDqhCoCUM\n",
       "PJAAsHGDarggAaaYHzAcZJBzAypk85jAoMCygIEdpJqB8RhUHeODIBSXKDMwsW9gm8DyDeobHljA\n",
       "sipYoikM51jAKcCwgYGhGawQJsHYYIKmMIHbARg6wFCMA/GjVwHBBbAbhdAUMtQnMDGwOTAwFIH4\n",
       "uXCZa7zoCnsYxBlYgGF2EMTngstYgMKRwQBJYS/DNAZjoKPAFrI4IGLmAZA4gKTQWkCBE6iRqQAs\n",
       "cBxupO8JgfQVyFazPrriiLA073ICPPXsXyGArJCBFWxWBVTE6NaqA1jSJUghC9iMiwx4gTI0kTGw\n",
       "HSCskAXs3Qn4FbrCGHz41QEAUKNKBCB71lUAAAAASUVORK5CYII=\n",
       "\" style=\"display:inline;vertical-align:middle;\" /></a> <a class=\"ProveItLink\" href=\"../__pv_it/demonstrations/b017f27c324a2019f1f943532f271bea3eabc85c0/proof.ipynb\" style=\"text-decoration: none\">&nbsp;&#x22A2;&nbsp;&nbsp;</a><a class=\"ProveItLink\" href=\"../__pv_it/demonstrations/9cbe1728d6338af61b0a2881f7a78d5351303e2c0/expr.ipynb\"><img src=\"data:image/png;base64,iVBORw0KGgoAAAANSUhEUgAAAToAAAAVBAMAAAAk4T84AAAAMFBMVEX///8AAAAAAAAAAAAAAAAA\n",
       "AAAAAAAAAAAAAAAAAAAAAAAAAAAAAAAAAAAAAAAAAAAv3aB7AAAAD3RSTlMAInZUiRDNmWbv3US7\n",
       "qzJazP2FAAAACXBIWXMAAA7EAAAOxAGVKw4bAAAEb0lEQVRIx4VWTYgcVRCunu7e+elxbJIgGAQn\n",
       "kSVBxMwhGCLidmIEg8Y0i4iBhYxgJLfMYUyWmCWjoImoMBE9xcNAENElOujFRAizC5KT7hw8m5Gc\n",
       "VGI2f0sQdVOvql7P6zc92YKa6X5dP9+rV1WvACCE8ZR8q2QtGuQIr0XhuLeh8kA+0EqulnZTN99e\n",
       "1A/lwXDxuwyvjwmvRSldcf2Q+vG6evUXEQuq+LM9rT6xzP8btryVoMsBuA3DaGvEqRsx28RWYIyu\n",
       "uD5ioENEO7TYVgC/nlafYnSVKnycoPOQO4bMoREUrwpbJFYgW1dcu6sGOtxhSYtNxJC3AjF3g/5e\n",
       "AbiYoJtGfs6QOTUCY1bYIrEC2briOn8lTND5GDuvJmKFBhTTyt6G/3WE5xJ0zyI/YggVYxtGW9gi\n",
       "sQLZuuJ61/5Bgs7FR6enxT6Dp9LK63K3xK77RYJOJdSEUV8TduK5deZRdGQllddDXXbtVLfVEnQq\n",
       "h+B1LXYYmup9zz5dkg33rvoLfv/5zZjQ+VtaEOU6nPPutz9BEIPXt1zmI2bw9vxmLGsrvIMR3Sbr\n",
       "wlSL0U3PIrrHuVhIbB/iA9jY9c84VN1BrXKb93D64oDQeW7bb+XucFl80DyvCrhAYTr+taLzOiCK\n",
       "nXk4EK4fpolYIUrpEh2m3+/hesToop3wGmyLqSxI7H04h7+fAFzOxbwR5z+JcKFH6K7mO4VQ5dTb\n",
       "lBHlwd8YBjvFSjXmYhXKjUkDHVuhAxzVPcenBY/2CV2ldhzeUcmY74rYTjiLb9hEjtKJwxPH5v6V\n",
       "Kg2WCV1crHrKBFzDLhRjUWGmV5btVO8yn0RjdRWJg3XTinpL6for6vNZaoCXj13pETofoxRhfKDS\n",
       "F7HrSqSIX/c+rwv6H/VwCdXaXBVTsUfr0jp3YYiC9hh0n6OXT9UhlBqmlVLD1v0yQYc7eLDDJ+ve\n",
       "QXTT3NZJ7IIK70H0vb/GBwvwlVRpuc/ojsJ6tXGqJKTdKsE7Vt7Jyfo30cutIWhtRdNQd3iyCLzU\n",
       "ZnT5Oib/JLcHEnsaFhE7ottL8j/oewWP4o+Q0Z2A9+BH6UKqvMFIpuQWrjIrdEZctRVNlu6iKsOW\n",
       "XJ4KXa8QB11urST2EVYtrkLhpBpCHGV5Ce35sxDMyxRwIYwKXengSC9LA0n38D7zCWzyy0mVJlY0\n",
       "WbroGh5We7vB6IIzHnwo1xKJNeFPtafTk3mMur+0EsMzq29gXP/avFvPKJVfFzeB3H58ElDq2vdp\n",
       "h9l74d24WU06nLYC2broemb1ELhLKxF342svbQ7lSiexeSgNMuYcz5ygKhS1HbKi8mjjiMI3wtlW\n",
       "IFs35Zruiqu0qYaIOR111a6BjjvhgrT/KPO+P5U1G9jobN2Ua0JHrbIcipiaEhYy0E2b6Dxj2iEj\n",
       "Tm9EQVksh+OswBjdBRtdpKcxElPVMZOB7lIqdubUWIYMGAi+x5xtBcboztjoKGW3arEFmhHuM2g/\n",
       "qR8eMMb/TRmC64TvRyO6puvcwMxOJZYL4R7KkhSw7WxfzAAAAABJRU5ErkJggg==\n",
       "\" style=\"display:inline;vertical-align:middle;\" /></a></span>"
      ],
      "text/plain": [
       "{gamma in Complex, m in NaturalPos, n in NaturalPos, beta in Complex, alpha in Complex, A in Complex^{n x m}, |psi〉 in Complex^{m}} |- (alpha . A . beta . |psi〉 . gamma) = ((alpha * beta * gamma) * (A . |psi〉))"
      ]
     },
     "metadata": {},
     "output_type": "display_data"
    }
   ],
   "source": [
    "qmult1.simplification()"
   ]
  },
  {
   "cell_type": "code",
   "execution_count": 58,
   "metadata": {},
   "outputs": [
    {
     "data": {
      "text/html": [
       "<a class=\"ProveItLink\" href=\"../__pv_it/demonstrations/1924f2d3a5403aff24e6195acfe52100f29deb8c0/expr.ipynb\"><img src=\"data:image/png;base64,iVBORw0KGgoAAAANSUhEUgAAAHcAAAAVBAMAAACOK2zoAAAAMFBMVEX///8AAAAAAAAAAAAAAAAA\n",
       "AAAAAAAAAAAAAAAAAAAAAAAAAAAAAAAAAAAAAAAAAAAv3aB7AAAAD3RSTlMAiasyIt1EEO9UdruZ\n",
       "zWZ7xlX5AAAACXBIWXMAAA7EAAAOxAGVKw4bAAACNElEQVQ4y3WUz2vUQBTHX8w2s8mmcatSay/W\n",
       "/0BURG/poQfrJSioNxdKRTxIvBbEPXjqqaVHhS5YEGsPQQRBhNYe9KBdKwiexMWLHkqpvxARf3xn\n",
       "3osZUxOYvMyb+bw3832TIbKfGpWfuGTJparnDodYLzyXxA7mjsbBCtZvGtO/xd3RpacU9Gw4wJyV\n",
       "Cvgqm3mG3Q69I3ptww5aUgF32ax+MeYK0STRhg1Poe2rgNscfvSzsR2EIaqnFjyHdrJiyyzUePBd\n",
       "YP8sBOhZsNakP7aZgV0iYMh6rfi/tPGO3HuDrM6IwGqpR80gYVX98w/Iw+hYS12vzRiVTRJvxv3I\n",
       "4mxOImq0LrDjt1Uv+MaKfXh8SktP00SPArOxPhMipNonUTbKkKMt8PEwiWItyxOchAz1Poy5qMua\n",
       "YybUW/p99/nqD1HWw5i7JXBa72AaqnwI9U5JdSBoHdGH9hawgu+r7k1gDvJ4eWaaTx0zOssK7cE6\n",
       "r6G736yXlx2inRNlGxDLT3J4jU7olPSK4WG0nYCH5Njiky6jvdU9CHUs5n0z/Ize0wWzXy6SzpRR\n",
       "9IJ/FV2Vml7lMiDVJe9MUT/AF+NmhI05vEzabSJs3g6H+TAnpJZ/pnTj90ss9+ii8fa1ctg98HBB\n",
       "O+R4lH+Q09a3I3asONuuyXlTBkZK8MZ/4G4B82m4zw6vWYIb1rGdkrslK2ATT8lN4bRKsMqK74l/\n",
       "4w3yVUB/b4fGtv9qfJtnQeyt3LHDuu7+AAqIc3y9TABMAAAAAElFTkSuQmCC\n",
       "\" style=\"display:inline;vertical-align:middle;\" /></a>"
      ],
      "text/plain": [
       "alpha . (A . beta) . |psi〉 . gamma"
      ]
     },
     "metadata": {},
     "output_type": "display_data"
    }
   ],
   "source": [
    "qmult1_associated"
   ]
  },
  {
   "cell_type": "code",
   "execution_count": 59,
   "metadata": {},
   "outputs": [
    {
     "data": {
      "text/html": [
       "<span style=\"font-size:20px;\"><a class=\"ProveItLink\" href=\"../__pv_it/demonstrations/4827169ff5051c0ad90075d5d60d0692974558df0/expr.ipynb\"><img src=\"data:image/png;base64,iVBORw0KGgoAAAANSUhEUgAAADUAAAATBAMAAADCPVhoAAAAMFBMVEX///8AAAAAAAAAAAAAAAAA\n",
       "AAAAAAAAAAAAAAAAAAAAAAAAAAAAAAAAAAAAAAAAAAAv3aB7AAAAD3RSTlMAIol2mRAyZqtE3VS7\n",
       "ze8XF9CTAAAACXBIWXMAAA7EAAAOxAGVKw4bAAAA9UlEQVQoz2NgwAaCTt01TAKzhExcUaWY+wpY\n",
       "/Y+AWGwGDBWocs6TGBjYwXJBDAyzUKTYHI4CyRYQ04CBwQMiaLNq1QUgxRFwAEiGQ+S4l4Kl5ppC\n",
       "lPAwOkBN4Ew8cTcAxGC8ChWRYFOAspgYymclgBi8AlCRJM4CuBwD+wGwHMwtIpwGUFYw0NgPIEbe\n",
       "KiA4ALYPZuY0oF8fgBgxMH08YHeCAFANTwOIwQWT4wT7jxOIgT7KA7uC2QAeLjOAhC8DA6s7A+dK\n",
       "iNBteHiedWTdBfQjd6axMlQo4mQALB7O/XKEeAEOJp0ChxkcMDHgBsF45KbhlgIAuewwOfL5TtwA\n",
       "AAAASUVORK5CYII=\n",
       "\" style=\"display:inline;vertical-align:middle;\" /></a>, <a class=\"ProveItLink\" href=\"../../../../numbers/number_sets/natural_numbers/__pv_it/theorems/132c57ec1224a4beaf274a23bd799047020206590/expr.ipynb\"><img src=\"data:image/png;base64,iVBORw0KGgoAAAANSUhEUgAAAEEAAAATBAMAAAA9n32KAAAAMFBMVEX///8AAAAAAAAAAAAAAAAA\n",
       "AAAAAAAAAAAAAAAAAAAAAAAAAAAAAAAAAAAAAAAAAAAv3aB7AAAAD3RSTlMARHarECKJu90yVM1m\n",
       "75kejotwAAAACXBIWXMAAA7EAAAOxAGVKw4bAAAA90lEQVQoz2NgwAf4GAgBdrJVeHyvdmDI/SuA\n",
       "x4wqRgMGlg/4bLEIyGFguMDwvLy2vPwAVhVWBdwBDA3YzFDv6NgAok0PsW7AqkJaBcowZZ6ghlDB\n",
       "qOyaVAQWZ90CU2rKUMAuAFfBxm7E4B8AYnEHIFTMY2lpgIWpIEcBQ/wEsAoGhAqeBcsvwHgO/gIM\n",
       "6x1ArLkdQFAAUcFgwgxXwbCegcEazHBHMoPBmaUBzgVK/2EBMTiQVXAqFMC51xi4vrCBGEwKMKFK\n",
       "INaEq2D9ycC04SSYuQsmBmLwbYDxGBsYWGwWgJnOhWAXM8z+C9TPsgFbfIhVdGCKAwDDkzTgOh63\n",
       "3AAAAABJRU5ErkJggg==\n",
       "\" style=\"display:inline;vertical-align:middle;\" /></a>, <a class=\"ProveItLink\" href=\"../../../../logic/sets/cartesian_products/__pv_it/theorems/79a768603778550c651661670153c27ee0a505870/expr.ipynb\"><img src=\"data:image/png;base64,iVBORw0KGgoAAAANSUhEUgAAAEYAAAATBAMAAADfQ2bzAAAAMFBMVEX///8AAAAAAAAAAAAAAAAA\n",
       "AAAAAAAAAAAAAAAAAAAAAAAAAAAAAAAAAAAAAAAAAAAv3aB7AAAAD3RSTlMARHarECKJuzJmVO/d\n",
       "mc2qKiq2AAAACXBIWXMAAA7EAAAOxAGVKw4bAAABD0lEQVQoz2NgIAAuMBAGBZSoYTlf/oSBbf9G\n",
       "vOawLxBmYPDHbxfzUbYJDNwMvOXl28srcalZzvCUgQe7OUw1Z86B1UQqxOFQw/jIAWpOgAVTAlwN\n",
       "o7JrUhFHWiFYKs4BZlcAO0MhXA0buxGD/0SG1WCpp3D3BHBc8PGBhbMgTwFDvALDfLDUA4Qahllc\n",
       "1TCeg78Aw3oHhnsgNseeM2fOHIeqYXawhrtzPQNIwTZw8BYgmcNi4ANXY8fAcIyB8SsLiH0ASQ1D\n",
       "EztczTYGlo8MzA8iQWwleFw0AMOqHcZj/cHA+YGBPSEBxOFbABUFM+7Bg+0AA9MFBsZLAWAHmYuA\n",
       "BTnebweSftjjiTEdEhcoAAAiLj7xf6vyygAAAABJRU5ErkJggg==\n",
       "\" style=\"display:inline;vertical-align:middle;\" /></a>, <a class=\"ProveItLink\" href=\"../__pv_it/demonstrations/053fb38df6fcf9baf4abe8cee7dd8e99b8a50fd80/expr.ipynb\"><img src=\"data:image/png;base64,iVBORw0KGgoAAAANSUhEUgAAAF0AAAASBAMAAADLUc9JAAAAMFBMVEX///8AAAAAAAAAAAAAAAAA\n",
       "AAAAAAAAAAAAAAAAAAAAAAAAAAAAAAAAAAAAAAAAAAAv3aB7AAAAD3RSTlMAIs1UmauJMnZmRLsQ\n",
       "3e++988cAAAACXBIWXMAAA7EAAAOxAGVKw4bAAABdklEQVQoz2NgIAjKGBhYBBiIAZyeFS0MDBwJ\n",
       "DJ4MDFOmdwR0bodKCKGr5Mm+pCGecHLdBD6gyR1sDQw8s14yPGVohUrro6tvfclw5LeDTBMD/wEG\n",
       "BjYNBgbGEwoM3xncILLM/9GUs3QlMDDMdmCIYFjHAFHPwNrA/oDhMlQ6Hs0/JdxAY1kdGJ4zuLAz\n",
       "MLSxTGBg4Cvg2MD4oQAsnZgPoRk49t69BKJjuEF+mMD4geG6OdS/8kAbODc4gGQZG/oNwMq5NA5A\n",
       "9G0QgfADGNomgMKTVYBhKQOTAGMEWJ6FwX4CJJigyhkDyvAF82KG+gQwQxEqwJ6wEp96Bwb5ADBD\n",
       "ASrA6LACj3KOLS7xG8DGvr179+5tsPvF8Kg/wcDAfwEcqRtgQnu48TqHgfcBmHUBJrQEFP4MC7Aq\n",
       "5wKGDdMHMLMDEb9AD7EoYFUvB8TcH8FMJgOYYLeKwOErWJWf/q/DwLz/EzhAeaLXwNPn+ytEpHmu\n",
       "bEh6wA0A6ehXuNCZSI8AAAAASUVORK5CYII=\n",
       "\" style=\"display:inline;vertical-align:middle;\" /></a>, <a class=\"ProveItLink\" href=\"../__pv_it/demonstrations/209baac38918ef8b1210d5267967da66f42b39310/expr.ipynb\"><img src=\"data:image/png;base64,iVBORw0KGgoAAAANSUhEUgAAADYAAAAQBAMAAACvnpHFAAAAMFBMVEX///8AAAAAAAAAAAAAAAAA\n",
       "AAAAAAAAAAAAAAAAAAAAAAAAAAAAAAAAAAAAAAAAAAAv3aB7AAAAD3RSTlMAiasyIt1EEO9UdruZ\n",
       "zWZ7xlX5AAAACXBIWXMAAA7EAAAOxAGVKw4bAAAA10lEQVQY02NgwAbYpWNvOQtglWJY1MdQ8/sA\n",
       "VimeZUA9r7HL2XAXMDAwocqtDg29AKLVuUF2PkCWyl0OZWzwgQkJChmAaZbrUAEWBUMoyzWBvYVl\n",
       "ApDB6wAVYRbIg7K6GBj2cBWA5GAGsRzIgrr3AwPDWUYQyyIUCDaA7XOEyHEAeRLiIFY13FHbuSF0\n",
       "/QIGBnmQdQyscLkckP8YEhj4gXISYBGuBYhwUQASFxh4NjDwnWcGC91EBMIdh8oYkPfeLeeRAosU\n",
       "bSuAx0N/jANqOCZuhYQZFAAANPAuqY517tAAAAAASUVORK5CYII=\n",
       "\" style=\"display:inline;vertical-align:middle;\" /></a>, <a class=\"ProveItLink\" href=\"../__pv_it/demonstrations/a96adf032fe1e70a10118c41779605949495a8190/expr.ipynb\"><img src=\"data:image/png;base64,iVBORw0KGgoAAAANSUhEUgAAADQAAAAUBAMAAAAw+gPuAAAAMFBMVEX///8AAAAAAAAAAAAAAAAA\n",
       "AAAAAAAAAAAAAAAAAAAAAAAAAAAAAAAAAAAAAAAAAAAv3aB7AAAAD3RSTlMAVN27EERm75mJq3Yi\n",
       "Ms2Hvvv4AAAACXBIWXMAAA7EAAAOxAGVKw4bAAAA1ElEQVQoz2NgwAJYJuu9PjsBmwzDrjIGj88N\n",
       "2GQ4tgJ1JGOVusHswMDAhSK1WUnpAYhewgyyLwFJJm4LlGFwAsoQ+uzAEAKkeZ5ABXgW3IQw2Com\n",
       "LWDYAGTwHYBK8U4IgzAOMzDY8l4AScEM5mmIhjCAFnhzgxjXlYDAAGzXSbj9nAdBpDOcb8KMkAJZ\n",
       "xcAE50eA/MUQAJYCBxf3BkRoLAASYC9yXgCLPET4/cUBRw2IKoiAl6kDPOTrNSBe4YKKRBpBAgoJ\n",
       "RDLgBFNxSxngljqAXRgAVG4uiC3eUoAAAAAASUVORK5CYII=\n",
       "\" style=\"display:inline;vertical-align:middle;\" /></a>, <a class=\"ProveItLink\" href=\"../__pv_it/demonstrations/b9ff765654f5a9fab1a0f971ffbd46ba878d2ac30/expr.ipynb\"><img src=\"data:image/png;base64,iVBORw0KGgoAAAANSUhEUgAAAFAAAAAVBAMAAAAjqnRBAAAAMFBMVEX///8AAAAAAAAAAAAAAAAA\n",
       "AAAAAAAAAAAAAAAAAAAAAAAAAAAAAAAAAAAAAAAAAAAv3aB7AAAAD3RSTlMAIolEdjIQVJlm3e/N\n",
       "u6uczJRnAAAACXBIWXMAAA7EAAAOxAGVKw4bAAABgklEQVQoz2MQYIACVgbsgLMzxI9lbgCDMkyA\n",
       "NwBdCZvumiOiCpnWE7gfsDyAKmRhYGBvQFfot5Mh42+DmA8DfwCHAlQhExAvQFPH4azAwDC3geEJ\n",
       "QzQDVwFUYQoQq6MpjOBNYGDga2DYyuDLIM8KVVgKxLJQBb6rVh0A0c94Qe6cwPgBaOZcDqhCoCUM\n",
       "PJAAsHGDarggAaaYHzAcZJBzAypk85jAoMCygIEdpJqB8RhUHeODIBSXKDMwsW9gm8DyDeobHljA\n",
       "sipYoikM51jAKcCwgYGhGawQJsHYYIKmMIHbARg6wFCMA/GjVwHBBbAbhdAUMtQnMDGwOTAwFIH4\n",
       "uXCZa7zoCnsYxBlYgGF2EMTngstYgMKRwQBJYS/DNAZjoKPAFrI4IGLmAZA4gKTQWkCBE6iRqQAs\n",
       "cBxupO8JgfQVyFazPrriiLA073ICPPXsXyGArJCBFWxWBVTE6NaqA1jSJUghC9iMiwx4gTI0kTGw\n",
       "HSCskAXs3Qn4FbrCGHz41QEAUKNKBCB71lUAAAAASUVORK5CYII=\n",
       "\" style=\"display:inline;vertical-align:middle;\" /></a> <a class=\"ProveItLink\" href=\"../__pv_it/demonstrations/5762bf40d845454616d71ece0af582ec65a11f8d0/proof.ipynb\" style=\"text-decoration: none\">&nbsp;&#x22A2;&nbsp;&nbsp;</a><a class=\"ProveItLink\" href=\"../__pv_it/demonstrations/6ac888077ce4751eeec04cabb73447d9dfa96f6d0/expr.ipynb\"><img src=\"data:image/png;base64,iVBORw0KGgoAAAANSUhEUgAAAVEAAAAVBAMAAAAN5sC/AAAAMFBMVEX///8AAAAAAAAAAAAAAAAA\n",
       "AAAAAAAAAAAAAAAAAAAAAAAAAAAAAAAAAAAAAAAAAAAv3aB7AAAAD3RSTlMAInZUiRDNmWbv3US7\n",
       "qzJazP2FAAAACXBIWXMAAA7EAAAOxAGVKw4bAAAEh0lEQVRIx31XTWhUVxQ+L2/ezGTeMA6pCA0B\n",
       "J0lFLQVnUZSEUp8xBQPGDKFECwFHaMRds0ibIAbTLhqLLSRFV+liIJSiIXGIG80iTgIlKxtXLuuo\n",
       "KxU1ag2ltE3PuT/v3Z+XXjh5efed75zv/NyfAYA8qMMBYzjWh7ryNQ/2cOLMxIz8dm+6q7z82FDU\n",
       "AO1ctxxO+AX+TFTlzG+K+mIMg/bQzP8PDSto7LJdLUrVDzW0G7BHcoO/7tz7JezTmCLvQ6qDCYsA\n",
       "mRBmtEx3jZb0GQ0raHxhuyI1Eq+soQf44zBnmivAD5AsqUyRQkYFDFmUBiIz6ngE6XvGlIIVNNyt\n",
       "GFdDXFJ6Usb4Y/wVe3wKsATpYYWph4Em1H6ZtCiNRWaU4QXgV4w5BStopB7kbVeTXBp18BRntfNf\n",
       "mf9xgKsKUxd73KkpgMaSyWkqNKOVGmmYOVWwgsaRvrrtitRQDuo9xovQ1PBGMHV/BjinME3QnzMK\n",
       "Imk2Kplwy3FMO82gFCyn4RQOFG1XpIYyQu/dvWLnSfGVMOz+yZb9w7tn0XqvZNo/hvD3Rfe7N34F\n",
       "vwQJM1FkgplJdP+uTC+33I/a0saOcCwcnrBdkRoKJay56k07xShKv5j7g0d1aQlD+FYyDTrgFBwo\n",
       "8T7/bmSeEpVm6Tt/ncY8RBkAZw4+y78TUgnSlxfCFw3LBq/bTXgZ2K5IDWUW//0RYK2BlSZT5KE5\n",
       "/4j8p7FROgTTXPE8fE0dlaqyDsrWX2B6zJYkEySNBcgO74mYAnwfblg2dpbXEnbfs12RGsoMvuGW\n",
       "9FWCNzbrkA9Gx/+mZz+mF7+9FEw9DCnAMCCH5jAyr4ArLrdhLpMql4touEwZOl0WC/kOiDcN623S\n",
       "9Azr5bXRBzXbFamhoEojfu35JGJKVv9ivYVgjOe2rL77FuH90b5+BFPnT23D9CeEXKFCZWiX87GL\n",
       "9oN807C/hEzR9I6K7YrUUDDtp5FZXzEsHYUC10TFshhTp2SaKmM3Y0GT4ozuosVRMfpUVN97jZA3\n",
       "IX8q2V01oAgbVR+DyEzZrkgNZRXjQKY9HJClQ/6WPNWwUE/ysr8IXkuXfExXizDfDbyRtUEmSIhp\n",
       "lO8kFnBaVTOwq5T3CXGMG65IDQW3oFQN0hdznA6m0CH768jQGwN/LtxBEO5PJ+Ay/ntUmD8R7WvR\n",
       "EHsKXMCDZSO8dp2cgKWqqmZgaSd8l+J8ZbsS+95Tiu/SnlQXP+gr4K1vluCjrc8x48/a2OxcuPM/\n",
       "P95GhZdFo5bLVA2maIJJ4tg3pZGCnP148b2CpmZgkcbg1hC465uB5YrUUDJ1zcCCmh2xp1SiM+ox\n",
       "27fFogDaUZqt02jBMCM3KX0YWI2G4aqZS3p4u0uDZCouDwzO9sesWFB+EHsXmYy7t5hMTaxGw3Al\n",
       "rzwr+npQrt79/NGiwAPlZshmnJrFlExkjd8CXsHsZhO7YjINXZEaUx3UTSroZc0GgzOH+yQlsCkJ\n",
       "E54RgF83wzGxgybT0FUYuaOH22RdgoS9hrraYvLnTmvMr46mODMxv7U0rEpDd9XK5T+CRi825Xoa\n",
       "PgAAAABJRU5ErkJggg==\n",
       "\" style=\"display:inline;vertical-align:middle;\" /></a></span>"
      ],
      "text/plain": [
       "{beta in Complex, n in NaturalPos, m in NaturalPos, A in Complex^{n x m}, alpha in Complex, gamma in Complex, |psi〉 in Complex^{m}} |- (alpha . (A . beta) . |psi〉 . gamma) = ((alpha * beta * gamma) * (A . |psi〉))"
      ]
     },
     "metadata": {},
     "output_type": "display_data"
    }
   ],
   "source": [
    "qmult1_associated.simplification()"
   ]
  },
  {
   "cell_type": "code",
   "execution_count": 60,
   "metadata": {},
   "outputs": [
    {
     "data": {
      "text/html": [
       "<a class=\"ProveItLink\" href=\"../__pv_it/demonstrations/e3b4684c6131985a3c0f930cff0c9afe9ba7e6930/expr.ipynb\"><img src=\"data:image/png;base64,iVBORw0KGgoAAAANSUhEUgAAAhgAAABLCAMAAAAF3w5SAAAAOVBMVEX///8AAAAAAAAAAAAAAAAA\n",
       "AAAAAAAAAAAAAAAAAAAAAAAAAAAAAAAAAAAAAAAAAAAAAAAAAAAAAAACXHtMAAAAEnRSTlMAMiK7\n",
       "iVTdmRDNdmZEq+9AMHw3m6zrAAAACXBIWXMAAA7EAAAOxAGVKw4bAAAHdUlEQVR42u2d6ZarKBCA\n",
       "AdlkcWZ8/4cdZRMFSbpHJZlb9aNPDqIY6rM2IY3Q7wTPTiwCuU24n+Pvumk8U72IAfXdJ+sEa/t1\n",
       "YBDQ3CN0ABggAAYIgAECYIAAGAAGgAFgABgABoABYAAYAAaAAWAAGAAGgAFgABgABgiAAQJggAAY\n",
       "IAAGCIABYAAYAAaAAWAAGF8ExjifiAIw/mgw2MIAzhskMcpO8zwBGH+2K7HzzCtTxGcGYDyr5aKF\n",
       "dAVj3YNV2+Mmhi7TQ3oO+BoM8o5Cf6VwUs43NV3BWDdA6hoZPSJe9bidMuonYFR0NbTJaCuciHEa\n",
       "3ERT9mlgILWQURtAP6MZQalMEQ/twKJ+AQahSghZ0ZVHiok2Sk2FL9/XWHdtjj4ODDRUw4yHhFo8\n",
       "xbmTY487GGUTDLzqX9uKrgLF7blrK9zGsWt4dQdDLkmI6AXGxMwQZ0foHnegRQsM6dRveKkrqU5t\n",
       "Qpb1tRWubMMhdQcDmcWZdEpCzCwzSDqxKRtgeO2LisVg+DSKaEcg2UVkmPeqrewPBqLzPMk+niQz\n",
       "tWzsA8aoX4HBeCXGSPHQeK6elwof/IMRAh3sMDLj7Izo1o/SxeP2AGMtgPbQirYTt2ILQ9NEKKXP\n",
       "gv3WsbdQLM6n9hwMg8lgxxSGOF1J5XzecreKH0Jmxr1OjdxFtmcKZ5bNQxaJuKnAozaWZv0IN6u/\n",
       "J4iwx8FYwwza42nNS+/xySWcndZRWsfeKltk50c89HgOBl1/U8VwnINBEVucntRrQrfPKPQkKLfJ\n",
       "Ab1QuBvYrpcwNnNO7vOQ9Zvc1QaBlHwcjLI0/lB5KR+UhweC0zAbUhdmLB6Ti3G1v/B+6drr5zA2\n",
       "m5pgrAeGDAzMkFgUrkmKioTJo40lrMDhym2Fk1WvbJ2BcAE3mJYRpdBP+LsSI6LPu5J1+B5hBstV\n",
       "McWJkDFRVLy4S7k9g4L/4lvKmqs+BSNkHmbOwJCeLJpMAcLBF/knejknGoymwpEd3OA4eRyV/rhx\n",
       "Q7/JU0knerz3v+a/H9AR7/FGNY89IxjTkLnsYwIRj83mYG7eTEBqTshEi/HPXIYYXmPTLm5kK150\n",
       "4+ZQl6MpFmgqHLmCs6MyxKgijSi2WEQGtdAycXxmPQbpUeUa8tc03pXIjM8jGNux9fn7ORjZtZcI\n",
       "kh1HKS0GPdym19Vi1X0gGJz+IS2h6pCUVBW+3AxOAY4vi68x7dpX+hQk9ItgTKgPGGrq8HJkyo3U\n",
       "oLYHaZnJXGXRiGbHorl5y/+V54stO04RRAmG74LT1AQwBk+mMdVCBt0MSEvhyIExsszmjKMasRbc\n",
       "5GmtD5X1EmrgHmCYPrGnKdNGPxEUZ2DImExnxxB2xYV0KH2oNJXnS4moOKbJBRjS5aWGm30Jwiyg\n",
       "rOmKqZc+6TaTLYU7y8LsLn3Ri0Pn9FDvoFTrxTYJqjqAgbuUPnex56Lp3UTkFoOnClM6RkIlPR3i\n",
       "qSCSPm0fyvO3ulbSewEGw0apXB9BV9jSQSmyz0m3CDd3jw2FryWV1BamP38r8AGVTySnLkv5xH4l\n",
       "CD8arS3GYEePQZbpJ6R6qIpg2SnOKtnKEHM9xKjoCm/PUfE6JP9S7yo8uqMJfxYYY4eXaIsVHfdm\n",
       "SotTMGgxkRhj/zL8rcJc2QnHYG7T2Q/AyGpNw0E7hv5G4b64imf0UWAMPZZr8aF4k7CfY0LHOdhx\n",
       "eTRoU/rpb/mOrat0ii82s9DxCEZ51uYF0CHzONPnuwrXPqflHwWG4DVrfHfQoVWxSEyeAdpQ/ls+\n",
       "sNIphhgZjEcwDD63GNulj2sFht8p3HFK8hEV7gyGriaqukc0Sh4KdUYTPYnKvvvrpX0VXRULZsl/\n",
       "Vvj7GcOtYNQTVfa/3j8glKgYSdg+sK8lVEyDFP3WdPUTAKOdqBJm+7xrBTA+CIxxHnPh3Mf7HZcH\n",
       "AxifAIY427uqAYw/PMYAATBAAAwQAAMEwAABMJ7KSs4PsWtHVQDGN4FxeGulqIqvti7/B8ACwPhW\n",
       "MIxb1UrcOzV5+X8MNxTA+E4w4rIYtzBSXP8fw0cJYNwFBlW6XDxSaatJtV8GRlqN7+aHXz8iZQDG\n",
       "TWBws61IQ422mtT7ZWDYuBRp3cFAxutHZALAuAeM1cZLvC2QztoMU23jH88Nm14qYEwxBhiX8MIM\n",
       "149oBgDjHjDCHj7MsqV4cV/funmidZHJvIoxJp0NF/Y7XDoiBjBuAmNzKZuaQhtBL8x7PFfvl2Jn\n",
       "uhqE/10HrjclXjoiuJK7wBj9rzNENbmfh0ptaDCpcf8n70fIflVzHnxOREuFwyJZfv2ISgEY94BB\n",
       "RNhG5dXkfu4utQmfU7hGt9ky/dn30/QsXSXCqvVHJ9xofvH0pSMOBMC4uY4RDXuW/1EZi86VpDBv\n",
       "sua0wLUGiCLspjiUoy4YUX56iPH1YGA1+ZKA2Rz/mFbjmbKMtGviqAUGmW1gIN/0ccmIggAYd1uM\n",
       "+EXebNyaFDtEgMVTPKYtvlReOqI2CMB4CIyfC7OHzKB1ZXnpiBIBGJ8LBsj/CwwnFjR3n/A57ZL+\n",
       "HpHaiQH13WgsvPQZ/F/yVkpwDIWCTQAAAABJRU5ErkJggg==\n",
       "\" style=\"display:inline;vertical-align:middle;\" /></a>"
      ],
      "text/plain": [
       "〈varphi| . alpha . [Sum_{c_{1}, c_{2}, ..., c_{j} | Q(c_{1}, c_{2}, ..., c_{j})} f(c_{1}, c_{2}, ..., c_{j})] . beta . |psi〉 . gamma . 〈varphi| . delta"
      ]
     },
     "metadata": {},
     "output_type": "display_data"
    }
   ],
   "source": [
    "qmult4"
   ]
  },
  {
   "cell_type": "code",
   "execution_count": 61,
   "metadata": {},
   "outputs": [
    {
     "data": {
      "text/html": [
       "<span style=\"font-size:20px;\"><a class=\"ProveItLink\" href=\"../__pv_it/demonstrations/6f005ee107395200ff7f4bc83791582bbb4e0f640/expr.ipynb\"><img src=\"data:image/png;base64,iVBORw0KGgoAAAANSUhEUgAAADIAAAAQBAMAAACmdTG/AAAAMFBMVEX///8AAAAAAAAAAAAAAAAA\n",
       "AAAAAAAAAAAAAAAAAAAAAAAAAAAAAAAAAAAAAAAAAAAv3aB7AAAAD3RSTlMAIpnN77uJRKsQdlRm\n",
       "Mt3eazepAAAACXBIWXMAAA7EAAAOxAGVKw4bAAAA4UlEQVQY02NgYBAyCWRAAZypj61kE4CMBPZO\n",
       "VJkVPgyTvioAGWjiDEzLgeqPgmRWoMlcYp3AwMABkpm/ASKy9N07AxDdyQqy6wCQYP0JliheCdUT\n",
       "IARlcHd/BVGMllA+Y8M1KOswQz/QXAZmASifN6EGquQjw/4LIBmYAxgVqiAMjgCG+yCZK++AIABs\n",
       "jxhEhv8Aw30QPRXu6khWCD3/AtAmIOCDyxSB/MNQwMB/gcEaxOdagAiDBiBhwMC2gLsBLGAN17TU\n",
       "SGD2IyCdtQzCnxE+AR7W/o8EkMOrLA4SOlAAAESKNoXM75SxAAAAAElFTkSuQmCC\n",
       "\" style=\"display:inline;vertical-align:middle;\" /></a>, <a class=\"ProveItLink\" href=\"../../../../logic/sets/cartesian_products/__pv_it/theorems/79a768603778550c651661670153c27ee0a505870/expr.ipynb\"><img src=\"data:image/png;base64,iVBORw0KGgoAAAANSUhEUgAAAEYAAAATBAMAAADfQ2bzAAAAMFBMVEX///8AAAAAAAAAAAAAAAAA\n",
       "AAAAAAAAAAAAAAAAAAAAAAAAAAAAAAAAAAAAAAAAAAAv3aB7AAAAD3RSTlMARHarECKJuzJmVO/d\n",
       "mc2qKiq2AAAACXBIWXMAAA7EAAAOxAGVKw4bAAABD0lEQVQoz2NgIAAuMBAGBZSoYTlf/oSBbf9G\n",
       "vOawLxBmYPDHbxfzUbYJDNwMvOXl28srcalZzvCUgQe7OUw1Z86B1UQqxOFQw/jIAWpOgAVTAlwN\n",
       "o7JrUhFHWiFYKs4BZlcAO0MhXA0buxGD/0SG1WCpp3D3BHBc8PGBhbMgTwFDvALDfLDUA4Qahllc\n",
       "1TCeg78Aw3oHhnsgNseeM2fOHIeqYXawhrtzPQNIwTZw8BYgmcNi4ANXY8fAcIyB8SsLiH0ASQ1D\n",
       "EztczTYGlo8MzA8iQWwleFw0AMOqHcZj/cHA+YGBPSEBxOFbABUFM+7Bg+0AA9MFBsZLAWAHmYuA\n",
       "BTnebweSftjjiTEdEhcoAAAiLj7xf6vyygAAAABJRU5ErkJggg==\n",
       "\" style=\"display:inline;vertical-align:middle;\" /></a>, <a class=\"ProveItLink\" href=\"../__pv_it/demonstrations/4827169ff5051c0ad90075d5d60d0692974558df0/expr.ipynb\"><img src=\"data:image/png;base64,iVBORw0KGgoAAAANSUhEUgAAADUAAAATBAMAAADCPVhoAAAAMFBMVEX///8AAAAAAAAAAAAAAAAA\n",
       "AAAAAAAAAAAAAAAAAAAAAAAAAAAAAAAAAAAAAAAAAAAv3aB7AAAAD3RSTlMAIol2mRAyZqtE3VS7\n",
       "ze8XF9CTAAAACXBIWXMAAA7EAAAOxAGVKw4bAAAA9UlEQVQoz2NgwAaCTt01TAKzhExcUaWY+wpY\n",
       "/Y+AWGwGDBWocs6TGBjYwXJBDAyzUKTYHI4CyRYQ04CBwQMiaLNq1QUgxRFwAEiGQ+S4l4Kl5ppC\n",
       "lPAwOkBN4Ew8cTcAxGC8ChWRYFOAspgYymclgBi8AlCRJM4CuBwD+wGwHMwtIpwGUFYw0NgPIEbe\n",
       "KiA4ALYPZuY0oF8fgBgxMH08YHeCAFANTwOIwQWT4wT7jxOIgT7KA7uC2QAeLjOAhC8DA6s7A+dK\n",
       "iNBteHiedWTdBfQjd6axMlQo4mQALB7O/XKEeAEOJp0ChxkcMDHgBsF45KbhlgIAuewwOfL5TtwA\n",
       "AAAASUVORK5CYII=\n",
       "\" style=\"display:inline;vertical-align:middle;\" /></a>, <a class=\"ProveItLink\" href=\"../../../../numbers/number_sets/natural_numbers/__pv_it/theorems/132c57ec1224a4beaf274a23bd799047020206590/expr.ipynb\"><img src=\"data:image/png;base64,iVBORw0KGgoAAAANSUhEUgAAAEEAAAATBAMAAAA9n32KAAAAMFBMVEX///8AAAAAAAAAAAAAAAAA\n",
       "AAAAAAAAAAAAAAAAAAAAAAAAAAAAAAAAAAAAAAAAAAAv3aB7AAAAD3RSTlMARHarECKJu90yVM1m\n",
       "75kejotwAAAACXBIWXMAAA7EAAAOxAGVKw4bAAAA90lEQVQoz2NgwAf4GAgBdrJVeHyvdmDI/SuA\n",
       "x4wqRgMGlg/4bLEIyGFguMDwvLy2vPwAVhVWBdwBDA3YzFDv6NgAok0PsW7AqkJaBcowZZ6ghlDB\n",
       "qOyaVAQWZ90CU2rKUMAuAFfBxm7E4B8AYnEHIFTMY2lpgIWpIEcBQ/wEsAoGhAqeBcsvwHgO/gIM\n",
       "6x1ArLkdQFAAUcFgwgxXwbCegcEazHBHMoPBmaUBzgVK/2EBMTiQVXAqFMC51xi4vrCBGEwKMKFK\n",
       "INaEq2D9ycC04SSYuQsmBmLwbYDxGBsYWGwWgJnOhWAXM8z+C9TPsgFbfIhVdGCKAwDDkzTgOh63\n",
       "3AAAAABJRU5ErkJggg==\n",
       "\" style=\"display:inline;vertical-align:middle;\" /></a>, <a class=\"ProveItLink\" href=\"../__pv_it/demonstrations/209baac38918ef8b1210d5267967da66f42b39310/expr.ipynb\"><img src=\"data:image/png;base64,iVBORw0KGgoAAAANSUhEUgAAADYAAAAQBAMAAACvnpHFAAAAMFBMVEX///8AAAAAAAAAAAAAAAAA\n",
       "AAAAAAAAAAAAAAAAAAAAAAAAAAAAAAAAAAAAAAAAAAAv3aB7AAAAD3RSTlMAiasyIt1EEO9UdruZ\n",
       "zWZ7xlX5AAAACXBIWXMAAA7EAAAOxAGVKw4bAAAA10lEQVQY02NgwAbYpWNvOQtglWJY1MdQ8/sA\n",
       "VimeZUA9r7HL2XAXMDAwocqtDg29AKLVuUF2PkCWyl0OZWzwgQkJChmAaZbrUAEWBUMoyzWBvYVl\n",
       "ApDB6wAVYRbIg7K6GBj2cBWA5GAGsRzIgrr3AwPDWUYQyyIUCDaA7XOEyHEAeRLiIFY13FHbuSF0\n",
       "/QIGBnmQdQyscLkckP8YEhj4gXISYBGuBYhwUQASFxh4NjDwnWcGC91EBMIdh8oYkPfeLeeRAosU\n",
       "bSuAx0N/jANqOCZuhYQZFAAANPAuqY517tAAAAAASUVORK5CYII=\n",
       "\" style=\"display:inline;vertical-align:middle;\" /></a>, <a class=\"ProveItLink\" href=\"../__pv_it/demonstrations/55701387f25fde525e21ebc18286978696667feb0/expr.ipynb\"><img src=\"data:image/png;base64,iVBORw0KGgoAAAANSUhEUgAAAEwAAAAVBAMAAAAeOBUnAAAAMFBMVEX///8AAAAAAAAAAAAAAAAA\n",
       "AAAAAAAAAAAAAAAAAAAAAAAAAAAAAAAAAAAAAAAAAAAv3aB7AAAAD3RSTlMAIolEdjLNuxCZZqtU\n",
       "3e8Ziz2RAAAACXBIWXMAAA7EAAAOxAGVKw4bAAABZ0lEQVQoz2MQYIACVgbsgGtWiCcDgzKMyx6A\n",
       "roBD/VqKqEKX3QI+AYQyngnoyrxfMXR+nyDhxsDfgFDGcAFNFaezAgPD8gkMWxjskCxl0EFTFsne\n",
       "wMDAPYHhKcNMViRl4lDa/e7dBBC9gx3kvgWMHxiuHkVSxgbxtJkHlF8gCaaYNzA4LQApCwXKfW9g\n",
       "4FEAiTJmQFUxbghCcgFQ2QQG1ixrBagf2GAByapghaKMJ4CBG2gFA8NksDKYBOMEExRlTAwMK0BG\n",
       "MkSD+HF3gaAA7DYhFGUsDAwODBwODAyHQPx2uEwFO4oyTgbmAAZOYBglgvi8cBlLULgxGMCVLeBk\n",
       "4NgKdAzYKhYHRCxsABIJcJ+muUXNBWpiOgAWyIEb554p0HMTESBc9/8qIKzrLm6Ap5D3NwUQyhhm\n",
       "gVknoSJGtXcTMFIdSNlTMKuQAQ8AKmP9ALYigYAyFnAssSzAp8wVGBLg5M2NTxUAn11FpH3bB28A\n",
       "AAAASUVORK5CYII=\n",
       "\" style=\"display:inline;vertical-align:middle;\" /></a>, <a class=\"ProveItLink\" href=\"../__pv_it/demonstrations/649ae346ef247b1d190476e522e54e82e6fe76a10/expr.ipynb\"><img src=\"data:image/png;base64,iVBORw0KGgoAAAANSUhEUgAAAD8AAAAWBAMAAACF0lkSAAAAMFBMVEX///8AAAAAAAAAAAAAAAAA\n",
       "AAAAAAAAAAAAAAAAAAAAAAAAAAAAAAAAAAAAAAAAAAAv3aB7AAAAD3RSTlMAMrsQds2rme9mIlTd\n",
       "iUQmv6lAAAAACXBIWXMAAA7EAAAOxAGVKw4bAAAA+klEQVQoz2NgwAPYGQgAJjIV2HxSNWC48eMB\n",
       "QgGjMqoKbb4EBuYPSCawBKAqyFlwk4GhgaFISUNJaQI2O7IVWBcwHMB0A4vOmaNgRtYUrgAsCvhC\n",
       "DKCsLDYBX2QFJm5gailMniGLQYHpAZKCAg6wS6IYEArEmQ8fgIckywL+DSA6AEkB54ZNDXAuM8N+\n",
       "kOGMPWfOnDkEVcCQzNaA5LwasDoFJBMYzJgPICk4CyYPICtgdECoZ+D6B6Zc4AKKQOyIpIDzA5hi\n",
       "3QATiAZ5ACn42SCKmZMeQ/iiP4ACzEgKOBygQXkJGtSogG3DfAO8qUZ+w2n8yYrd/QFeeQD5RTWT\n",
       "DhgrWwAAAABJRU5ErkJggg==\n",
       "\" style=\"display:inline;vertical-align:middle;\" /></a>, <a class=\"ProveItLink\" href=\"../__pv_it/demonstrations/af3c2902573b75ab19a42e7920623b865c28bcde0/expr.ipynb\"><img src=\"data:image/png;base64,iVBORw0KGgoAAAANSUhEUgAAAcgAAAAZBAMAAABHmqPnAAAAMFBMVEX///8AAAAAAAAAAAAAAAAA\n",
       "AAAAAAAAAAAAAAAAAAAAAAAAAAAAAAAAAAAAAAAAAAAv3aB7AAAAD3RSTlMAq1RmmUTNIjK7EInv\n",
       "3XZ/CtNrAAAACXBIWXMAAA7EAAAOxAGVKw4bAAAFRUlEQVRYw8VYa2gcVRT+dnd2Z3b2kfUJbTRs\n",
       "VUSq0hFaMRXqQtT6QI3aH6YEu9JCaX/EEUq1KiRKfyiNdUVBLSqjlUKtNJsiQtFKbJAES1uVtLaR\n",
       "wIZGUapLCFRjCsZz78zcuZN9ZBJxOzB3zpxzz5173mcu0OhrVYO/l0Pjr/D//9FdgGKKtx2XQMh9\n",
       "8ou5yEXUGvhI2+4JIF1EG7DyjnLm3DuEKzVeyDclOJ1d5CLRio3rh093PVfc22kkSXHlRAn6qkF8\n",
       "jXEijQIZNuX6hsmoDvCH8oVF483A/uPyTt/7ri6zRz83lzQ+iI//zj3/C5po4UQXfehgHtN4kJGA\n",
       "e9iUzQ0TUinyR38vGVHPE7RJpsbmCVhBj1lzlv2Z1m3NoQWdsIVEqKQN4AcC+iy8xNRbaJiQTe38\n",
       "cbSDdqkYBE35qPP4r6BH5mhjZ5zWC+UwjLs14DxbOdmTLqiTPaQQg+skkW2YkK9zE0Rn2JgUkHtt\n",
       "sOpze/Rvnah+f+w0ey6NM2821EmcuclJPN1ky0iBlKEUECGhY43LO3/wMcFj60YBudeRebg9+kY7\n",
       "AXU5Uhe22e8ZnDdYCQmZeBQxU20heprSwPGxsWONE/Jq7mzXfM/cjWWFWMu45EZPlS+vy+3R+/m4\n",
       "3ZFRzeyqk4rJWe4D9iy2gQgHLHRexn/Xjq2Sa42+rfpfXvb80+qrt6JDpzjD7ZATplZ8vDaXNg08\n",
       "Q3qAtkWgtlSZJuGcHJX+asJkLVowRsWzBR+72T556lth4QT25h2dzSBZOtC/tGa3xOjAGQJv4Yi8\n",
       "W5hyT9apWheAuJWgjNcscM1V5jXPFTK6GeoQ9ExAxmjRRYzwcQUfv6H7XuCiVnYCU8mjqZjDQzXr\n",
       "D6M7CYzrkEJt7Czf1Qt17E9Chkss7wwL3HCVecNzhbyV7vuhtAdl3Oq35BEh5E+ITiHsCJkqYkP2\n",
       "gmPnKhen22An374ofXvidSw5zWy+hnTyz7gTwx4keZ2EKwi+u5AKzHjIL+QbcN11CsqMEJLK4CPW\n",
       "6tpCcro+kXW0DIjUvI7VSbRXj0kW9IdIzenRtJNRPEjqMSUcFzLEguFLbA/MeIOLWcLHE3z8gO5p\n",
       "fGpwIXUmRI8+aNu5sl4KuhJmH2/lyLLX8WS4N9fKrniR6HEjkld5kmXQYxN+nTAcFMsTMlnkRukI\n",
       "zNjhYn53U4FTBq7AW+BC9tEOQ0acdKKNUhqFjeGDeOP0TxJu+aECJMrPb5vMj0Zq/JqwdjnUw3og\n",
       "JfPyKN8/QQP6pG8aw/ksmTS4FywLzPiqr2cJ27Neo/vDzwxbyBQtoje3sR9AmjJGd4oJwwe2e48e\n",
       "Y93gKdu8S9aLv5CTIzWqj9h7E5JZjLqQqQ34Y4FwkZWSkPFc1EoZbOsBGYW7Jtu9z6bc2OMxuVyU\n",
       "A9VEuNJfl4tFSRjVicboYbutq9vVG27eslr5j9cBG4q3Qy/SCx9s3LP75MQztPpXKuWpwIxl+S9k\n",
       "meNlosvmQrpVZscrOy0kKvcqqlAvnN4+4NXnKkx7uMT32pvlEHVB2lH0mtoQDQ7uTrmEbGu5zDIR\n",
       "N4Myvi1SHZn6rHs64GDVzy/ST67bFZ2cnQUOViYe0TWNL/BM4zbfG/M6ruOERSuGBd7W+1W+jgfr\n",
       "6KtujZ+X0StooOZzzVoH3i8n4hp9YCV9o6y0ANeP8svuY1lEuWmfniX/WS9SsCXXJHe73dcSem1A\n",
       "RulcST7jURdx/BJ7gnwhvYDDocoznogHGj5c+rqcX8jYKW65YIzSMWS4+B+PFiashTEswLPDV1Y9\n",
       "YLOCMVqX8Nz1AeBfU/2V/tTxnSQAAAAASUVORK5CYII=\n",
       "\" style=\"display:inline;vertical-align:middle;\" /></a>, <a class=\"ProveItLink\" href=\"../__pv_it/demonstrations/b9ff765654f5a9fab1a0f971ffbd46ba878d2ac30/expr.ipynb\"><img src=\"data:image/png;base64,iVBORw0KGgoAAAANSUhEUgAAAFAAAAAVBAMAAAAjqnRBAAAAMFBMVEX///8AAAAAAAAAAAAAAAAA\n",
       "AAAAAAAAAAAAAAAAAAAAAAAAAAAAAAAAAAAAAAAAAAAv3aB7AAAAD3RSTlMAIolEdjIQVJlm3e/N\n",
       "u6uczJRnAAAACXBIWXMAAA7EAAAOxAGVKw4bAAABgklEQVQoz2MQYIACVgbsgLMzxI9lbgCDMkyA\n",
       "NwBdCZvumiOiCpnWE7gfsDyAKmRhYGBvQFfot5Mh42+DmA8DfwCHAlQhExAvQFPH4azAwDC3geEJ\n",
       "QzQDVwFUYQoQq6MpjOBNYGDga2DYyuDLIM8KVVgKxLJQBb6rVh0A0c94Qe6cwPgBaOZcDqhCoCUM\n",
       "PJAAsHGDarggAaaYHzAcZJBzAypk85jAoMCygIEdpJqB8RhUHeODIBSXKDMwsW9gm8DyDeobHljA\n",
       "sipYoikM51jAKcCwgYGhGawQJsHYYIKmMIHbARg6wFCMA/GjVwHBBbAbhdAUMtQnMDGwOTAwFIH4\n",
       "uXCZa7zoCnsYxBlYgGF2EMTngstYgMKRwQBJYS/DNAZjoKPAFrI4IGLmAZA4gKTQWkCBE6iRqQAs\n",
       "cBxupO8JgfQVyFazPrriiLA073ICPPXsXyGArJCBFWxWBVTE6NaqA1jSJUghC9iMiwx4gTI0kTGw\n",
       "HSCskAXs3Qn4FbrCGHz41QEAUKNKBCB71lUAAAAASUVORK5CYII=\n",
       "\" style=\"display:inline;vertical-align:middle;\" /></a>, <a class=\"ProveItLink\" href=\"../__pv_it/demonstrations/a96adf032fe1e70a10118c41779605949495a8190/expr.ipynb\"><img src=\"data:image/png;base64,iVBORw0KGgoAAAANSUhEUgAAADQAAAAUBAMAAAAw+gPuAAAAMFBMVEX///8AAAAAAAAAAAAAAAAA\n",
       "AAAAAAAAAAAAAAAAAAAAAAAAAAAAAAAAAAAAAAAAAAAv3aB7AAAAD3RSTlMAVN27EERm75mJq3Yi\n",
       "Ms2Hvvv4AAAACXBIWXMAAA7EAAAOxAGVKw4bAAAA1ElEQVQoz2NgwAJYJuu9PjsBmwzDrjIGj88N\n",
       "2GQ4tgJ1JGOVusHswMDAhSK1WUnpAYhewgyyLwFJJm4LlGFwAsoQ+uzAEAKkeZ5ABXgW3IQw2Com\n",
       "LWDYAGTwHYBK8U4IgzAOMzDY8l4AScEM5mmIhjCAFnhzgxjXlYDAAGzXSbj9nAdBpDOcb8KMkAJZ\n",
       "xcAE50eA/MUQAJYCBxf3BkRoLAASYC9yXgCLPET4/cUBRw2IKoiAl6kDPOTrNSBe4YKKRBpBAgoJ\n",
       "RDLgBFNxSxngljqAXRgAVG4uiC3eUoAAAAAASUVORK5CYII=\n",
       "\" style=\"display:inline;vertical-align:middle;\" /></a> <a class=\"ProveItLink\" href=\"../__pv_it/demonstrations/6c34d74afb94a3cd7d5d9f79fb4aa73dcdc572220/proof.ipynb\" style=\"text-decoration: none\">&nbsp;&#x22A2;&nbsp;&nbsp;</a><a class=\"ProveItLink\" href=\"../__pv_it/demonstrations/bfb78054044d22ad2de36e860b5a0cf40d2e78f60/expr.ipynb\"><img src=\"data:image/png;base64,iVBORw0KGgoAAAANSUhEUgAABPAAAABMBAMAAAARqlQtAAAAMFBMVEX///8AAAAAAAAAAAAAAAAA\n",
       "AAAAAAAAAAAAAAAAAAAAAAAAAAAAAAAAAAAAAAAAAAAv3aB7AAAAD3RSTlMAzUSZq1TvEGYy3Xa7\n",
       "iSJNjWSlAAAACXBIWXMAAA7EAAAOxAGVKw4bAAAQRklEQVR42u2dD4xcRR3HZ//d2/93rREQE28x\n",
       "BMLfWwimDRa6ikKaQG6VirFG7wLhj1K4RQnBHHoLJeGkMbcYbQSNdylilUi6BpBCA7cRYoMk7Yot\n",
       "KE3TTQiIFegfer0e7XWdv+/PvJl9c+89dvf2dpJuf/vm5vdmPu/7Zn4z788CgNJy0CDF6vV6Diym\n",
       "FIc19lD8QKFh9nJ/Krl8abFOb+ENmEIN2xqbHx/PLCoY0fHxQQ/FUw1xhPwRhthNB7PebTMAuKHh\n",
       "KR47BRZfmvBS+LZGmY1hKSexmw5m3VPkDaA1BL0EhTdQk+c5wFJNEjcdzDp4ijdAuK8rPEsKVxrk\n",
       "9flSP4mbTmZ9rc2YzHSFZw2EZ+R5k/6EYBI3ncz6YJ43loGu8Kzp7/KsZf7Ub9nSY52c4ozIka7w\n",
       "+P6oLMtxgqWYZG46mXXsBGcEprrC40/OYVmOEyzFJHPT0az/xhny03vJCi8ys/C+0JcutaNZD+Wt\n",
       "xmChKzw+HZZlDPqziidz09Gse/sshnYSdIVnE0ZJvN0RllqSuulo1uE5ixGd6QrPlgaq4u2OsNSS\n",
       "1E1Hsw7OW4zkbFd49lFBMrtwhKU4eZldkqyPWYyxqa7w7MqYE293hKWWpG46m/WuktmYqHaFZ0uJ\n",
       "eYnbqj+1qy5J1tNVszGY6QrP3mbJtNYRluLcJbMkWU/2mY0R0BWePdXF6x0j/tRuZGmy7p01GdrH\n",
       "XeEJUr+wT3KGpZTkbjqbdeCIyYic7ApPkFYLLy1E/FnGk7vpbNahEyYjNN8Vnqh8RUhu3pfKyd10\n",
       "NuvoSZMRmOkKTxQHDwvHCn/Wj+VuOpt17JjJ6JnrCk+Qxg6JtjrDUkpyN53NWqubjN5Zf4UXqJtS\n",
       "edEKr3eu4bTMo/PZJcq6XjKMg4f8FV6kTg/ZTy64uj68aIUXF46GzrCUktxNh7PemjeMoSmfh9pB\n",
       "Y63g4ZlFK7zACdFWZ1hKSe6mw1n3lw1jus9n4cVNj8KvWrTCCwsnntP+PGImd9PhrAerhrGfrRvo\n",
       "d6DVvMGI1Y8b6wY1161Juy1YE8PQaxLj6yvcY+ioyLcOq+aqUjY3NuaLm7WNMc92NTtPoDFI7TSD\n",
       "AV73ONOarhsIiq5hPOu24AVi4emtSnL3eL7PjFQGfb592k78RXixlsFK5BdyWC9ZX7tA6MbOfHGz\n",
       "tjHm2IL9rKuHxq4szcr7Jbxk3VskdMWbKG52fRtIosgJ74OnV+itSkDPWevf77HCqQavwV+EV7UY\n",
       "rO/Ys8heRCkFzi4kiiI3duZNZh3aV/CTtY3xHl54rLbQ6Kd/Ewd+CU8b+cgLjNSam+HnXe4dnG4V\n",
       "XqwMHtRblYL/uEM1ZYVzDUV6TBgcE1iaPUajexGGiwVWKc6NgHmTWe/elPeTtY0xxxZMs6k3NLZS\n",
       "uV/vm/DAQD3vAUbP13fAz5XuHWywCu/HAJyvt2rUfBqSJYmsFc4z5EtU+O4tCitkH9XoXoTdQo5V\n",
       "inMjYN5k1jdfWPCTNc+YZwsm2DoSNEYohFf9E16qfqsHGAP4hiQPq1I9BYvw4Az+Mr1V3zIHHlzI\n",
       "R+CM5RsIj8LqsefQvQh7pRlWKc6NgHlzWQfJQrZvrHnGPFur8Mr86OFZeKD/sAfhvYXPFQ/rFoEi\n",
       "J7zIFr1V6IgHLNM/Y5whcOjjEBGx8Aisr4mEF9kiq9CuAq0U50bAvLmsU1P+suYZ82zBEBMeNEaK\n",
       "epj4KABnnSyQ4ql9a9wL7566+zvEH/z+VWgwww72bjPNQFPbf9qYIsvH71XUYQR/+8qyAoaiPV0E\n",
       "1cQUjaXXwZaeC//fBhtYAsH+HQRO5KsnGwmPwLoCfezbbaoc2wtJzDdJa4cq3MseJcybzTp69e+y\n",
       "jLWVrkvWPGOOrVV49aIe52ZB7IyzqxhCejO4p/aOWxj6pRw36YR+Jh3IhyrGosQTjZdIST5aOIr2\n",
       "mWGkwPj5JQwlFRnWiolZEvJGb3orh8ZH9CUEwCMPXEfg3E+ftQ5S4YWexInKhsI6A1Uuo92ZzvN7\n",
       "IQeU+Sbf+sKztFIsiZk3n3VvmbG20nXLmmPMs4VhFBMeNGhwejZsQgmEAahgCD1lkMw+5xYGWH3M\n",
       "9QP3acwxjmr1FKyGdj/dHq+C27V9X5H6RfnwEx79yLBVeCBawVB+GZqK1lBAcykJQl6FZyMI5nBQ\n",
       "kgNJDCd9CgyVyNKsaE8U1hPwH9zZy4kCvxe2eoV9k3SwFpmjleLccMybz/pgibHG9O7t88iaY8yx\n",
       "hWmS3R0BjXHi/lIM7yF0CiIIq6FW+2gfrj204BbF3d8rEcEnRQ+saAjV8tcvML4FdPqEpMtWq3VM\n",
       "MeThPfYNzrGChzCUQk85hdoHfgG/wpNqNIF6tAwKSqIF6BvBCVfAJD4a2rhoJxTWjbAc9HkJWjjQ\n",
       "Dpv3gr8x32AMHclrQWyOVko7bHHDMW8+6yHAWCN6se1THllzjDm2MN3LIl1o1MmmbXjhrwy0Moaw\n",
       "HjK5o+D6LEy7fzaBBLwIRg/uQtbR7evR0JBJS8eV9Ua8ZTkLz4MNGyaB71AhhdrHln9T79A4q4ya\n",
       "Porh9BbBJGjQ42WY8FDl3kAr3eBx817IN+obxFEIdRwfnaA5V8y8+azf0oWH6UWmPLLmGHNsuR6P\n",
       "dvt3IY0HSyCEA10NBlqpGfcwEne6hpHMse5/rGwSHqoRPHmkMHA+GP0C46fDqFKXsFWXgHcAGh0/\n",
       "R8VRpjPLLNLNCgxnrATutwiPi/H0oRZVbr+xhMb2op8+ei+kzeFAKDJlH2qtzFvA+hVAWRN6rI6u\n",
       "WXOMObZi4SVrIFQMAW0NmRQj4Q27hzFQcr8yhA9Zsox7H5DBwivgjgMEcX+o2cvo+Vm00IGDLR0G\n",
       "bPymGoGyCg5rnzeukKZwKLETLaBmwd0l0uOVwKep8IA8xnuNxOVvGBlsL7rwjKnmHAjkzRGg4YZj\n",
       "3nzWtwPGGtPDKvLCmmdsZYv0xiYXk/pyCpr/Lvvzry7PEAhw0rLhUMktjJiHe8MOZtg0HU5pUyUk\n",
       "PBwawRr9G4DHCiRwQh94s26gfK3wT7Y8wGBoK0FwM4VyTq0azRhXSFO4fXBMCHz2Mxs2k7WmVDlC\n",
       "Oq5go+WU3bhy0dX6zRf6XnThGWrYC9bq60NWNxzzprNOH9GXRDBdJDw7a7xFibWNsZUtN6ulENDU\n",
       "N7r14ypdBkz9a2PhirLrtSUPt2GTgDeGTr5948+RofbJAqkRSO+AI8MWFj09zgw9Hy90xDMmGJGf\n",
       "b9/LoMSue+0lYFwhDelrGg/Xn2KLnHtfBM7Ce4xULrQX8HsBFt90zavKKsW54Zg3nTWZx2HWmB7u\n",
       "8eysHweKrG2MObZW4W2lENDVtZU+Xbn4lIcLF/TC0x/1xVhEiAX6b4MPAfimnaA+EUBVPQBMMFLm\n",
       "VfUYPg/ZFdIw+YM8u/aaMmtDLDwKK86Pbin+D8P8hgMCNwLmTWXNflyIscbC88DaxtjG1iw8djcy\n",
       "urr2PX+El6y4PwlzJMQyLqqvMx3X9KuPriCXZCTHPTbMDqVQeGTdbSfdchHxCSvbU7IJLyK+O4XA\n",
       "imadhHcRv2GlwI2AeTNZrw3krayx8DywtjG2sR1i8wZo7KK+AwWyKOOD8C43ViIWeutEfAddxEzS\n",
       "UP2D/r3kfgc88ajXD+HJOpdG9RlejsW1E3zW6wyafoWUtvN0QFdQLMKLiu/Ho7B2yioArL6NcKoi\n",
       "cmNn3kzWf2KXUinr9D/my55Y2xnzbCfY3B4ag/TsjZZBYsoX4UWN+X10oTCiT1PBaeYjZWl+wl5K\n",
       "z0dXfwjGCWMZz3Q2AsBuXgToegFOGwF4wS68hPgOZArrPm77efwf8v1QsiZyY2feTNYbrwT+srYz\n",
       "5tnqD5tAQ78NPgfSJHR53qPwTPP7G9wHIP9zUWb5JvjxErDAYOl5W/hV07//l1A2R24p4etNGKy0\n",
       "U0Rf476/JHRjZ764WdsY82z1h02gsd8xSFggDNPvMf3Q0+2xC09fNO4+9/qUWUhYdWdYSknupsNZ\n",
       "r84axoTfjzfq8/v02vocaFXyKryk8LnaCX8eb5zoW6Ksd5UNY2DYZ+H1L8PpzN/X6x6f+mml8MTv\n",
       "1XGGpTZADi9R1v15w/D7FRYh8/s8iotWeOL36rTZKywWHeuRkmH0nvJXeG2SPL+0R/henV5/UMjd\n",
       "dDhr/ZYfaMSPdIUn6pSEo2Hcn99ulLvpbNbpYyYjfLwrPFEYJoz/nWEpJbmbzmYdPGwyEh91hSdI\n",
       "08JHaBL+rFnI3XQ2a/3XQ5ARPNwVniAN5huest6S3E1nsw7PmAyt3hWeIG0VPuniDEspyd10Nuv4\n",
       "rNnYWvNXeJY7N76rWKjcZsLTjkn0WPOldlI3C1xOAS5YJ1onvLFhs7G/6K/wKuS/F7dfCQC6GdUF\n",
       "wtYLL3JUvN0RllqSulkY6yRwwzrbMtZDObMxkPskhHdWDbxbA3crRz3V9hJeWHJDuSMsxTlzzk/h\n",
       "LZD1RS0Tnh44Y6Pn0CcgvMgUfizhUuVSp7eX8GRQevy5dCF140Z4C2UdKLSK9YjFCM0pCW/vRvbd\n",
       "sIyU2la2CA89ox49hF9koFZwT3sJb1LSJYX8uRQvdaPC2thGhKfMmm5L5VvEOnbUYgTnVYQXz2xi\n",
       "MxLdMqXNsWGL8L6EGjic7lMueH17CW9acnCC/vymlNSNAmvTNiI8VdZsWyTbItaJGatxi4rwVoEf\n",
       "gfdxHw2t4Le5fj1U0fBzybrw7kBdei5YUS54YXsJ7zRZxi3+VO8W96xRLlhhEp4qa1YwWGkR68Cw\n",
       "1ZjOKAjvRvj/Otwm9P4GMMbFLBkuxrsNDVc19IyqYsHftJXwYtKOzQmWao+acc36Rj7GU2XNCsZa\n",
       "JbzJqtXozSkIDw8BuE2n0MvjuY68twbDjA0m4b0MzgV/wE1ULNheQ21Y+ptPTrAUk8yNAmuUO541\n",
       "CU+VNSvYsqF2sGA1UrMKwlsOUqhNWhVb4K/orb/wC/0IZED1w7tMwnv3vdFHiviJZcWC29tKeGNS\n",
       "eaX8+TUzmRsn1mRb+j99JuEpsTYVTJRbw1o7yhnavILw3h5/DrUpdjO2QnAitSkfuxNsqqGPfHrl\n",
       "xgL4mUl46cueuSaNHwNULLizrYQ3XZPS82d2IXPjxJpui1ZNwlNibSqYrLWGdeIUb0wX1NbxUC8e\n",
       "wdab6LqLMfEj1pdNwoMhbHZUX6t0LqhV2kp4NzXQpD+rYBI3jqzJtnDGJDw11kbB+0BrWPdkeSNe\n",
       "VRJe7C97AHm1b6D+MWytjo5aUxbhpY9uYT9zpFAwVGsn4SUajKdxf66xSNw4siavVo4Di/BUWBsF\n",
       "r2yR8PRzTTcip9R6PJSKuhW1WolvZC3CA2eis/JNxYIPgHYS3lhRnhfx5/4RiRtH1njbs9dbhafC\n",
       "Wi+ofE3XZ9bacd5w+uE/tcs4kauoYem7NMWChbYS3rWNMn36lcRVHlivpee49cfvNLWCGmgN63CF\n",
       "N2AHXPQuvDZLXoQXbPibJY1hqY+1xSXG+pwCb8DmNiQdq9fruUVFIg5r7KV4w8EodqsvdRS76WDW\n",
       "m20GTBc3HJzHx8cziwpGFNbYQ/EfNM6+2J9KXry0WGsZq/F/FzbIC4BbRgoAAAAASUVORK5CYII=\n",
       "\" style=\"display:inline;vertical-align:middle;\" /></a></span>"
      ],
      "text/plain": [
       "{delta in Complex, m in NaturalPos, beta in Complex, n in NaturalPos, alpha in Complex, |varphi〉 in Complex^{n}, j in NaturalPos, forall_{b_{1}, b_{2}, ..., b_{j} | Q(b_{1}, b_{2}, ..., b_{j})} (f(b_{1}, b_{2}, ..., b_{j}) in Complex^{n x m}), |psi〉 in Complex^{m}, gamma in Complex} |- (〈varphi| . alpha . [Sum_{c_{1}, c_{2}, ..., c_{j} | Q(c_{1}, c_{2}, ..., c_{j})} f(c_{1}, c_{2}, ..., c_{j})] . beta . |psi〉 . gamma . 〈varphi| . delta) = ((alpha * beta * gamma * delta) * (〈varphi| . [Sum_{c_{1}, c_{2}, ..., c_{j} | Q(c_{1}, c_{2}, ..., c_{j})} f(c_{1}, c_{2}, ..., c_{j})] . |psi〉 . 〈varphi|))"
      ]
     },
     "metadata": {},
     "output_type": "display_data"
    }
   ],
   "source": [
    "qmult4.simplification()"
   ]
  },
  {
   "cell_type": "code",
   "execution_count": 62,
   "metadata": {},
   "outputs": [],
   "source": [
    "%end demonstrations"
   ]
  }
 ],
 "metadata": {
  "kernelspec": {
   "display_name": "Python 3",
   "language": "python",
   "name": "python3"
  }
 },
 "nbformat": 4,
 "nbformat_minor": 0
}