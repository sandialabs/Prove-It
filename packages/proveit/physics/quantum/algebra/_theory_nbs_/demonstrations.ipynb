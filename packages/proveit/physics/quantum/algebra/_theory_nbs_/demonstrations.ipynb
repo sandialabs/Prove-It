{
 "cells": [
  {
   "cell_type": "markdown",
   "metadata": {},
   "source": [
    "Demonstrations for the theory of <a class=\"ProveItLink\" href=\"theory.ipynb\">proveit.physics.quantum.algebra</a>\n",
    "========"
   ]
  },
  {
   "cell_type": "code",
   "execution_count": 1,
   "metadata": {
    "scrolled": true
   },
   "outputs": [],
   "source": [
    "import proveit\n",
    "from proveit import defaults\n",
    "from proveit import alpha, beta, gamma, delta, j, m, n, A, B, C, D\n",
    "from proveit.core_expr_types import b_1_to_j, f__b_1_to_j, Q__b_1_to_j\n",
    "from proveit.logic import Forall, InSet, CartExp, InClass\n",
    "from proveit.numbers import Complex, NaturalPos\n",
    "from proveit.linear_algebra import VecAdd, MatrixSpace\n",
    "from proveit.linear_algebra.addition import vec_summation_b1toj_fQ\n",
    "from proveit.physics.quantum import Qmult, Bra, Ket\n",
    "from proveit.physics.quantum import (\n",
    "    psi, bra_psi, ket_psi, varphi, bra_varphi, ket_varphi)\n",
    "from proveit.physics.quantum.algebra import QmultCodomain\n",
    "%begin demonstrations"
   ]
  },
  {
   "cell_type": "markdown",
   "metadata": {},
   "source": [
    "### Make some assumptions from proving that the Qmult examples are well-formed"
   ]
  },
  {
   "cell_type": "code",
   "execution_count": 2,
   "metadata": {},
   "outputs": [
    {
     "data": {
      "text/html": [
       "<strong id=\"all_instances_in_C_nxm\">all_instances_in_C_nxm:</strong> <a class=\"ProveItLink\" href=\"../__pv_it/demonstrations/b09e8dca9af82b0479dfd557865bdcf8040994640/expr.ipynb\"><img src=\"data:image/png;base64,iVBORw0KGgoAAAANSUhEUgAAAYEAAAAZBAMAAAAlNY+NAAAAMFBMVEX///+IiIgiIiIQEBB2dnbu\n",
       "7u5UVFTMzMzc3NwyMjK6urpmZmaYmJiqqqpEREQAAACk/Np2AAAAAXRSTlMAQObYZgAAAAlwSFlz\n",
       "AAAOxAAADsQBlSsOGwAABRNJREFUWMO9WG1oHEUYfu5jb+/29i6XtFYhVMJBwA+UEpSG2sCpRBA/\n",
       "2KB/RMhdpVoxIgkpggp6UhssQnP+aGk11aOtBX9o7yDWKo3dolbSSj2CCjVK04aA0D+teNiKgu/M\n",
       "7M7t3t5eEnQduJnZd2d232fe5/3YAwJsqTKCbdGAn4/5//6Rag74tHG1ECwApdSYF1e8K+534+w3\n",
       "nRVgLZIm9BNj60KnR4FTwSJIm3Iaqq14l5bxiN64tP+m7TizGf30pMy9gH7IjBRCBSBsANwOPweC\n",
       "YIcYpgeB76Es9rRfPdxnTdZ72L5oKidH4kM9qNPVg4RwZxc6ykkiFEPxOVuzLxAE0+L92wY4nxKV\n",
       "ZZa/a40Jo+lG9TCd+mXEMtoGhoBZdgvGESa7KoTpRUa9YBziT95Hflpi1EXHckT62xr1JqhqZYn6\n",
       "EURGk7lRhHIn6GojbsakSpMpgThaCwKAWufDUXpBxBrb8r9uz+62fOdS9lbuTgY74NcxifBHo8yT\n",
       "a4hfISucY7H0C0JMx5MIxAQhQfz76PehNbaN7dJPpgSity3I6bgwyhGEHubRdBu0AhF/4gYSrqFf\n",
       "XzZ7VyAIYjyYnu4bER6xt3Om7fLElm6LCg/wfpdtswmmtV9jlqX8sLSsNi5qptoF91AjmArvuipO\n",
       "Vblu5Nsmhfwe5RpRj2azcEWX7Zrpv+s1SgoTiBegvteCxw6Z5erRajdpcQYvtXB9WybBJgo8Qf1B\n",
       "3R0Eu46OjDLrr8sFg4ENk0Zz/Fqmw7daZAjZJsvMUaLUb21xd2szAm0f4v1QCoi1sKstO2wLwhxL\n",
       "6gp1m4BkCfncWJe/Lp9B+d06V35+xO7sncIP2rAoT7qnMgkenrxtYzOCOe78yTIFNu9qWybDubAB\n",
       "d9BNPB0crVnH65MONCueHuIliTSziEV+NmBvLVFxoV5d5wl2TtmCJMR3CNMpdT7tZaQlk6FZIEiz\n",
       "/gClAxMnjXYI/kKyjqEZ2CySoUnj+UDz8QPmW4/sIf/rDXlSplO2IIPL/dgFdBndnmfZspS9KcY3\n",
       "RRiJLxKCsrJZKOfNC4rIf4+ZqJyn2Tku7HTlZMpgvrEIO+iU0hm9FG8KSUyGWLGBIMJ024uPmUaz\n",
       "2N2kCZPhWTos2+ahDdLMFB9jZrrCESjXYXX5kmOC53EZivEQ01iYUKbZ6P5B5bxPTfIl15TeESkn\n",
       "Cy/3NhGbZC4bsONUr+FHxutj6sEmBCRz1+wiyV5g3UFStWoTJMs23m67Op+wNz/J0wHLZrcIw7zw\n",
       "gaxNF3877sO9Y/akw4jU0ISAyfSzDgTpimaETbwKqhEHeGHrbEz2bcXBIua/1ivCtuczBCkvjX6Q\n",
       "M0oJccsDtEdFVdG2TcnIZxD5CMHjUHJ2x2RvPuH05P6vb6Qd5Mm9+gJHIJfTQLL4zhIr4B21aapw\n",
       "wFWszbX+NJThUiXmJc1VfETJYkqt5jiC8Zraj/Ei62pc9pUzmk5cfMYoIl3EK2vFx4Vcrg5wmU47\n",
       "0jLzjtOiJZGYfrXo8D5xfMirhwTN6v3dq6hc9ILrkrGoUaWK2XOunIwjigktZ5nNuTwlwg/ll+FG\n",
       "jqtB7xZ4hh2v8R6x3iiOzJXUOI0WdhUqY/fUHBy1Zj1uBJNPkZh7lbpmxklpwWQiGAZbfSfHV8aM\n",
       "d8hsenEVCE61OQ0+C/1ScSNI3MaIbHiXcw3Xz5Oo/C/+q6h+srr1y3+apaZb/tXg960yn7Oy0//2\n",
       "fxFp8g+V80ZssWnemAAAAABJRU5ErkJggg==\n",
       "\" style=\"display:inline;vertical-align:middle;\" /></a><br>"
      ],
      "text/plain": [
       "all_instances_in_C_nxm: forall_{b_{1}, ..b_{_a}.., b_{j} | Q(b_{1}, ..b_{_a}.., b_{j})} (f(b_{1}, ..b_{_a}.., b_{j}) in Complex^{n x m})"
      ]
     },
     "execution_count": 2,
     "metadata": {},
     "output_type": "execute_result"
    }
   ],
   "source": [
    "all_instances_in_C_nxm = Forall(\n",
    "    b_1_to_j, InSet(f__b_1_to_j, MatrixSpace(Complex, n, m)),\n",
    "           condition=Q__b_1_to_j)"
   ]
  },
  {
   "cell_type": "code",
   "execution_count": 3,
   "metadata": {},
   "outputs": [
    {
     "data": {
      "text/html": [
       "<strong id=\"defaults.assumptions\">defaults.assumptions:</strong> <a class=\"ProveItLink\" href=\"../__pv_it/demonstrations/1a5390fb8a00c174e853db16c911e961916301c10/expr.ipynb\"><img src=\"data:image/png;base64,iVBORw0KGgoAAAANSUhEUgAABkcAAAAZBAMAAAB5r+ToAAAAMFBMVEX///9UVFQiIiKIiIjMzMx2\n",
       "dnYQEBDc3NyYmJhEREQyMjLu7u5mZma6urqqqqoAAACMi3WHAAAAAXRSTlMAQObYZgAAAAlwSFlz\n",
       "AAAOxAAADsQBlSsOGwAADoNJREFUeNrtXH2QFMUVf3u7e7PftwQVQUsvVxo/QF28kEhEXWNJVSzN\n",
       "rVJQAlY8v3ISv9YoBNTKrcFKQkpkRUM8wbBKNChWHLiKpcTKLaKJUiqLUSvRVFgNmpBgAXp4IAHy\n",
       "Xs9Mz/Rsz9fKWaZC/7Ef17/30a/fe/26e/YA4EP4YraUX2D1IKIOtc+vZWrDLKBwEHhENVW/qN4T\n",
       "9wssB0Mp/E/5g6Ln+RjP+c+DKIKT/sJBUPBgG6DZtk2ikWdTAgz1W8EZNEAjzG/WOgCmn7ziVudQ\n",
       "DNCtbDipKPbOXvzE1893oFyz50EVpn1S8wqS5Gl9qyB60w3uQSJDRXkCu99B79hL540P32nxIKXi\n",
       "hJsEEC7ASwB339WZPeMwd5s3Q6TZCoGYyyZAqgQNyrkRMe5cVtXbAFZxw9ySplHP9k+Vzvk3aywn\n",
       "YRBU1nz69IAcMP1aeG6nYSllyiuqS7c7dRQ2icTRJaXkxqN5flwqkv4ynYXkXu+VJF7fBDCgeqwk\n",
       "EpTuIzlrKhP1jr1Vas2Gs+afEzsccRj/nVHktfBauALGG/2x5XtGjLk/IBH03zuiNBtktkJgD7pA\n",
       "bgqyFpQLo6AHR4ETkcbdkNVjD5IGAwji+Pr7z+GpFEqsqJ6qQqYAz17pEVFL2p2c3MWsY62xdNnU\n",
       "I6lwCiqrBZ1H6ZZvCM7CdWCBEQVzIZZ16XanjtvWEVj/Jk71MuNb2Jalv1S8FKDbO0hCJ0RL0OpV\n",
       "bklQuo+ghi0Oet9+OrTVUpZ1cvsORxyaMLoCzdjfDvvgRY5oRXHH5oMRha9S4f0TZbYiIOWNGegB\n",
       "NuXa0HyL6k5EGndD1l57kDQYQBSH7VV6+fWwBMkc9nrx5DorZp70QCcMZ0uo/udivAU3Iw+hCgSX\n",
       "RfkoJa+ZLoxjf0gHJ3OQaXfu9qAOZ22ldZXWjqOdaI8pJ4rQDi/3LenrK7m5/1acvBZI9fXN6nsg\n",
       "CErzERwTROsOeo+EydBi6Vw35IR7ixiuJEG5SDecyhG9yH5zNRBRcjH2p4aktgrl0pQ3ZpBBROW6\n",
       "UFCq24FI567LSnfbg8RuAJs4bOdSDi4PS5BoyeHGv6hUIcF+D3SboWqs6n8uBsyAWkuDuB6Cy6Kq\n",
       "pk08YpjY0cEy+1LK44pe04VRrubp4cUdJzd0e1An94u9cZX0vcVGanCGUfNxB9DuvJIYwNDc3G1a\n",
       "KiwHQ2k+kslbZt+u99UwEXojZhEyexCkw78aXkTUBNwpQGs+XFZ28LVjEX5alHNgLidKXEdlcLcg\n",
       "yLBVaz5VyGPFTVMsKncOUqd3OxDp3HVZxEIMEsMAcnFGLm3IJQen7WNlP61Y3fq7W9vM/f068G3W\n",
       "hJllH6GXY5uRhWHXJaxeb59pnAXdYfU4gNcZLL1ClXR7UMNyVeiNK5IViHOGUaH8BJcg4cBQ8bBw\n",
       "wSlI3FCaj0QtdYRdb2UH5qUFUc7tlvB+kA0fcadsoc3ia7h0YP6KlfmyjNMBjxUdmMuJLq+zXC4I\n",
       "MmzVCy1/y9PGvW5Xbjmx3OVApHE3ZBELMUh0AziIY7kU3SwxLDESYa4axZlOV7R313YJ/7QSfJs1\n",
       "xSc9xdLc5fkmZL0McDp9njpJM4myykgxWevp0xvzxmgdt6my7vf2qPCOM/W27WWB980Ra4XXP1Hg\n",
       "jEEC5XhNCJL0xT+YMjIy5SERGCrG4SHR/d8cNXt8zhOFPtK/HoPkGwDvy0edzqL33Hwm17Ga2S0d\n",
       "PuImlOjYMZSHTZAoKiP5KGYBrD7OibmUSPmILbt5QX3DVpsgfCk7Aj7MrtweYrnTgUjjbshCFoYB\n",
       "InlIP7XUMIBcnNau7Oi4ZliCJExzHDviy1VW8SdGTnJfrx7ufE3/dLF/s4Z5HdrLpn9jrQlZXwMY\n",
       "g2/fryV7FKJLFPmR/J+tlzKxu44D6w5O6I5dcUmW3dvIqWOVEMsZvPf8tHWrUW0tiXvDUXBhcqwQ\n",
       "JNH4fTCwED4QVED3j1TXrBHcv9CXSw55otBHCh/AM3COqm9cHUZtLkv1yC7n4cvT5J7O8St9MTdr\n",
       "uo/BluAbbCUTRFThXYGI0AApgAsWHm7s3N0oX8CCZliCJMSKpbacVhQNrEoOuZ44faoO6Jb8mX+z\n",
       "moXVRhYWTxWbkIXFVx++YapYFqZswhdWpfona5DomkFF1j0P4P5I3ZG6t5hhSx3vvcN61B0raruk\n",
       "iiVIYvWtlAH4jftFrWXoLcAiQQV0f7gns4TFmWGv2ixQBr1Q6CNK/Xn4CZ15pWrgPGrz/ASUnc7D\n",
       "l6dJnIUPSn6Y89YyaH6uSG0lFURUoX2BiDBItgBkIWQYwI3yZszVXv4uPhvxD1d9zRNglrV6ceWk\n",
       "U4jtKnzsRpfZy+KJ1tn3/Js1wm16Gnl98pNmZHXl4WEcI8bbBlbkTu7AxpQvW87r6SBoM5OJa2/H\n",
       "SfZuXPn7XahH66ry3rgiHKhtVwXOGCRwVEg4rlEHaoQaLaqA7h9SjxAyQHIfxHZ4odBHknAVBj5O\n",
       "bSTrrLflOOKVdXuchy+/A8ABRAf9MDcPjVnWS4qCbLaSCKLxtnUHIqKlFGIqN4ArZVyl6uzxRi4X\n",
       "mFtBY82/rPOPmPZqMjSH81yVYLbfTiPHSN0AyV3wTMU5DiswgLpRQdPl36zKPuPTAZaRdzcjq7cG\n",
       "47Qz/WkzqftZDlxq2Tan86wwwxksy7rJ7Lc4U++GyA6hVztC4e15kTMFyeqkuLXaTgNDxxaA6P7J\n",
       "7BoxBeyAUNkThZOeHkI36Wc3S456CzniI9fhSw4R0QNiH/tgbllJmJW2iIJstpIIov5FpUBELEgw\n",
       "pRsGcKXM5ChpHy4plwr2IHm7CHOKsFqK5vA3+Xirxh6ZHPdJSO+PdLa7XV1s1jcSb/k3a5IHSQe9\n",
       "PF1pRhamaFxJKGzY0YrlcumvdPoM2jEILRP3sk/tsm5CzHSkTg7irkToTbPD+LTx9XiRMwVJJCfO\n",
       "1RhCpYeSAhDdH86L28vctpLqhaKSvB23YDONylY+aqGY+Irr8BtbV8kogjyYW8QM6ZWtVZDNVhJB\n",
       "GMHJWcGI0ABVeAMXbMMArpSV+ezYuXHly9uChK7SUmW6frwanOH8LlBbScivEnVKpVjPZJwdt60E\n",
       "G3XK9/ybVRk0TxvTdfhDsRlZvazcwj/CNK1i5CUpu8cMl0HfqUS0pxQ6Zd1k9qoz9SBTzNpL17ow\n",
       "UassjBWRc2bPE32VBwkTcA2lhFDlhwIwjlYPm4+wEbC1gItOwQtFQVKOqfQM6jyHURuJiL3SxvAp\n",
       "+fBlyUu7vUDn66q4MrcTKbTwRFWbNXRbyZpqXJOsrQQjQgO8hGGyOm8YwIFS0+U7q+h4YLzaEJ6d\n",
       "R4lBQtsLrHbbpWgO55cuWpBQeRDP0aXJ0yXNcVWpddpqyWshyU6lFvg2K0SGjHF01c/qj/U0Jaur\n",
       "SJV+Kguxy7Xbqd9w9IxH1d8/iRt9/Li6BK9rkZqoS7qBP3kppZ4C74LYG31iZvJfVRhgc6ttIiyc\n",
       "T9WqQuOgQcsHiEoUCgKQXTpvACsQp2lGrOiFonKrJwoLyQFAqrfRmIbsuZ3lRdnwZU0b1WOYj7+n\n",
       "ujJvINqOMzcTbNbQbSU9gwEtetPjAhKhARIrfnX3KdwAckp9cuegM4fHhhvYna5OEoOEzkmj3UpF\n",
       "iuZw/tA5K4xZqo+ihCNhmbYWMalkD/6BvYRK8SqkMvR1vW+zaqdbjFG4J5dap7rK4t9ssjarbLMx\n",
       "9YxSagrjuvohI7iU6TeNQ8/owO9b/j7BuDwf/U5jNw0YnKmjnQV77+wlH+EOr2Ust5WF8zc/KVsf\n",
       "ECUO6XZAq2fWF63AyGlUZJiPMBPwdUyN94AXiu7Szp0+v2jWGQ16GxGGGiaXf6rC1gOPSocv21rQ\n",
       "qMYcGDHi8bo78wai5MsjXgW7nXVbyRqNBQWNXlYMSEQG+NGB481Cy4FSm1xai+O5WEWxnQTfRyee\n",
       "oyxBcj1bHtJlKZrD00bOZ3cYGUqROL/wHCVult1JKtuvjDM2Lmwa1r8G8DtWsZzg26wQ6+bjOPfn\n",
       "02qQd5OlCWyU9WPrFby2r1rcIWz7M6rw25X0dP3hEUu3GSRSamfe/2a1ak7OWcrBP9AFxS6cvy1k\n",
       "NbtmgobeXF1pHJl/VkENpvFLRAZIlawGkFOaAlprqexFY8XeG2CduJJcxUqTTFaK5vBI2ZrlU6zm\n",
       "Os4Q2C6dcdM6dMuhtPs3q8Ze5xiv0zVHcFnrtKMFt5MQcP2Bl/50xHnu3Q4N+Ybqi1RP+b5a1DeK\n",
       "BQm7sY4XPeDN/LStqZ/DNUMUhSaJyADaPtrdAKaANrW1Dja33ws3wk+rliBZBu/AiRQEMjSHm7/x\n",
       "uwHgXa3Qu9vquFEX67QVjfD217Rnt3SO8ezWpmStdHwK2Gj92hGoSze1s9y7Hc7ncrSfOhW85Ptr\n",
       "/b5RLEjYqNd6oJO54F7YDE1zRP3QJBEZgF02eBjAFNCiLmA/zvgtJAvsBd/GxsrK7RVLkMyZ239B\n",
       "iSo4A61jtRcDbu64XwQ4SVPAiFXmuP0u1pkMxlmDv6Y9BaxzTB0YbEYWPQUc6XYVU9KuSVy6qWXd\n",
       "ux0KRlJ8ksfvnH2njZJvFAsSZoszPNCxJrywGZrmiErNEpEB2CN7HgYwBUTWF5jbT65HemByMdIT\n",
       "uREunIB6FyxBoowef5QC8AuORhBh6cWEm4sXeuF8bf+jX9QoM/6Tkw3LtA79PiTIQzJ3WscR+W69\n",
       "GVnsl1THwGdvRfgfamEe9GX4v2xkgFuDG4AKKH4MltH2ojVLkNBDhs/w28KxHCTCzVvAEGcGc32q\n",
       "sJKeYwqg8gmSvwWV1VL0UXMcaoca23deX7dsdLX9bQsIQaLsxNBIFQ205TjChM80K5tKQA0Sb3QH\n",
       "XKBzTY/WlDVfOOI51A4132UhK1TO3iYGCTxSE8Kg1AiPWcrrbQGlpyapwQjmNT9SLkv/XdqHhyb/\n",
       "UGuqbTP+H46493WDWzuH/f9uzTwIPOgZiP8Czp50uk+GolcAAAAASUVORK5CYII=\n",
       "\" style=\"display:inline;vertical-align:middle;\" /></a><br>"
      ],
      "text/plain": [
       "defaults.assumptions: (alpha in Complex, beta in Complex, gamma in Complex, delta in Complex, j in NaturalPos, m in NaturalPos, n in NaturalPos, |psi〉 in Complex^{m}, A in Complex^{n x m}, B in Complex^{n x m}, C in Complex^{n x m}, D in Complex^{m x n}, |varphi〉 in Complex^{n}, forall_{b_{1}, ..b_{_a}.., b_{j} | Q(b_{1}, ..b_{_a}.., b_{j})} (f(b_{1}, ..b_{_a}.., b_{j}) in Complex^{n x m}), Q(b_{1}, ..b_{_a}.., b_{j}))"
      ]
     },
     "execution_count": 3,
     "metadata": {},
     "output_type": "execute_result"
    }
   ],
   "source": [
    "defaults.assumptions = [\n",
    "    InSet(alpha, Complex), InSet(beta, Complex),\n",
    "    InSet(gamma, Complex), InSet(delta, Complex),\n",
    "    InSet(j, NaturalPos),\n",
    "    InSet(m, NaturalPos), InSet(n, NaturalPos),\n",
    "    InSet(ket_psi, CartExp(Complex, m)),\n",
    "    InSet(A, MatrixSpace(Complex, n, m)),\n",
    "    InSet(B, MatrixSpace(Complex, n, m)),\n",
    "    InSet(C, MatrixSpace(Complex, n, m)),\n",
    "    InSet(D, MatrixSpace(Complex, m, n)),\n",
    "    InSet(ket_varphi, CartExp(Complex, n)),\n",
    "    all_instances_in_C_nxm,\n",
    "    Q__b_1_to_j\n",
    "    ]"
   ]
  },
  {
   "cell_type": "code",
   "execution_count": 4,
   "metadata": {},
   "outputs": [
    {
     "data": {
      "text/html": [
       "<span style=\"font-size:20px;\"><a class=\"ProveItLink\" href=\"../__pv_it/demonstrations/b09e8dca9af82b0479dfd557865bdcf8040994640/expr.ipynb\"><img src=\"data:image/png;base64,iVBORw0KGgoAAAANSUhEUgAAAYEAAAAZBAMAAAAlNY+NAAAAMFBMVEX///+IiIgiIiIQEBB2dnbu\n",
       "7u5UVFTMzMzc3NwyMjK6urpmZmaYmJiqqqpEREQAAACk/Np2AAAAAXRSTlMAQObYZgAAAAlwSFlz\n",
       "AAAOxAAADsQBlSsOGwAABRNJREFUWMO9WG1oHEUYfu5jb+/29i6XtFYhVMJBwA+UEpSG2sCpRBA/\n",
       "2KB/RMhdpVoxIgkpggp6UhssQnP+aGk11aOtBX9o7yDWKo3dolbSSj2CCjVK04aA0D+teNiKgu/M\n",
       "7M7t3t5eEnQduJnZd2d232fe5/3YAwJsqTKCbdGAn4/5//6Rag74tHG1ECwApdSYF1e8K+534+w3\n",
       "nRVgLZIm9BNj60KnR4FTwSJIm3Iaqq14l5bxiN64tP+m7TizGf30pMy9gH7IjBRCBSBsANwOPweC\n",
       "YIcYpgeB76Es9rRfPdxnTdZ72L5oKidH4kM9qNPVg4RwZxc6ykkiFEPxOVuzLxAE0+L92wY4nxKV\n",
       "ZZa/a40Jo+lG9TCd+mXEMtoGhoBZdgvGESa7KoTpRUa9YBziT95Hflpi1EXHckT62xr1JqhqZYn6\n",
       "EURGk7lRhHIn6GojbsakSpMpgThaCwKAWufDUXpBxBrb8r9uz+62fOdS9lbuTgY74NcxifBHo8yT\n",
       "a4hfISucY7H0C0JMx5MIxAQhQfz76PehNbaN7dJPpgSity3I6bgwyhGEHubRdBu0AhF/4gYSrqFf\n",
       "XzZ7VyAIYjyYnu4bER6xt3Om7fLElm6LCg/wfpdtswmmtV9jlqX8sLSsNi5qptoF91AjmArvuipO\n",
       "Vblu5Nsmhfwe5RpRj2azcEWX7Zrpv+s1SgoTiBegvteCxw6Z5erRajdpcQYvtXB9WybBJgo8Qf1B\n",
       "3R0Eu46OjDLrr8sFg4ENk0Zz/Fqmw7daZAjZJsvMUaLUb21xd2szAm0f4v1QCoi1sKstO2wLwhxL\n",
       "6gp1m4BkCfncWJe/Lp9B+d06V35+xO7sncIP2rAoT7qnMgkenrxtYzOCOe78yTIFNu9qWybDubAB\n",
       "d9BNPB0crVnH65MONCueHuIliTSziEV+NmBvLVFxoV5d5wl2TtmCJMR3CNMpdT7tZaQlk6FZIEiz\n",
       "/gClAxMnjXYI/kKyjqEZ2CySoUnj+UDz8QPmW4/sIf/rDXlSplO2IIPL/dgFdBndnmfZspS9KcY3\n",
       "RRiJLxKCsrJZKOfNC4rIf4+ZqJyn2Tku7HTlZMpgvrEIO+iU0hm9FG8KSUyGWLGBIMJ024uPmUaz\n",
       "2N2kCZPhWTos2+ahDdLMFB9jZrrCESjXYXX5kmOC53EZivEQ01iYUKbZ6P5B5bxPTfIl15TeESkn\n",
       "Cy/3NhGbZC4bsONUr+FHxutj6sEmBCRz1+wiyV5g3UFStWoTJMs23m67Op+wNz/J0wHLZrcIw7zw\n",
       "gaxNF3877sO9Y/akw4jU0ISAyfSzDgTpimaETbwKqhEHeGHrbEz2bcXBIua/1ivCtuczBCkvjX6Q\n",
       "M0oJccsDtEdFVdG2TcnIZxD5CMHjUHJ2x2RvPuH05P6vb6Qd5Mm9+gJHIJfTQLL4zhIr4B21aapw\n",
       "wFWszbX+NJThUiXmJc1VfETJYkqt5jiC8Zraj/Ei62pc9pUzmk5cfMYoIl3EK2vFx4Vcrg5wmU47\n",
       "0jLzjtOiJZGYfrXo8D5xfMirhwTN6v3dq6hc9ILrkrGoUaWK2XOunIwjigktZ5nNuTwlwg/ll+FG\n",
       "jqtB7xZ4hh2v8R6x3iiOzJXUOI0WdhUqY/fUHBy1Zj1uBJNPkZh7lbpmxklpwWQiGAZbfSfHV8aM\n",
       "d8hsenEVCE61OQ0+C/1ScSNI3MaIbHiXcw3Xz5Oo/C/+q6h+srr1y3+apaZb/tXg960yn7Oy0//2\n",
       "fxFp8g+V80ZssWnemAAAAABJRU5ErkJggg==\n",
       "\" style=\"display:inline;vertical-align:middle;\" /></a>, <a class=\"ProveItLink\" href=\"../../../../core_expr_types/__pv_it/common/25d6606c82c2f3b97cd05bd1b3998f000a7926b80/expr.ipynb\"><img src=\"data:image/png;base64,iVBORw0KGgoAAAANSUhEUgAAAHAAAAAWBAMAAADqYwU/AAAAMFBMVEX///+IiIiqqqq6uroiIiIQ\n",
       "EBBERETu7u7MzMwyMjKYmJhUVFRmZmZ2dnbc3NwAAABtgPhfAAAAAXRSTlMAQObYZgAAAAlwSFlz\n",
       "AAAOxAAADsQBlSsOGwAAAeBJREFUOMuVVD0sBEEYfXbZdWfPHUqKLYTSNRKdKy6hEBREIiIa0ZCs\n",
       "AiGSu0alsIVEgsRWEonitNf4SRQo7goKQWyl0Agih/j7vtm7y8rG3plk53u7872ZN++bWaDYalF2\n",
       "+51aXz5Rjgj69U2agpTF7IB/vjoecy9ymUSNCcwT3CyxUuCgAAwijBEYAU4pPJUghvU8CNIMqwz2\n",
       "gX6SnitB7DQKaAjaK8fbpExqQ7ESxPMiWscDK0UmqmVJ+V6T7kvcqDvKoytkROqWHbCAxJr65evq\n",
       "m5GwgSTBHfTZ/OUFlTRBm4FHLJh/EqUcwlTBboLN+BYmvaMqCpxA/ayu+3ujmolE1oEriHOYMQVx\n",
       "E/ITpJhfGTvzJrRTIWQdxzYC9OUdWs6PGLaQMVRhYDNW9Ibp4CigkPhnzFgO0fAaw8SoOgxNYhO2\n",
       "UTEa0c4oL5QC0piEIKpvNJYw813xrcZSDjAX4nN3CCxPXUTJYZnyF1mFWDFOU1Vyguh6GHTRDIdc\n",
       "Ri4celmFolcYjsnCcyZKXq2txZ1SAWuFEUqqhfpdNzHkdSZbAEtcGEuU55vPq2I7l/vyg2ya9poT\n",
       "KaBGeu4Eqh5kg9UxV5rlIQZd5xuYcA/dl/XXCHTQ/Qva+HfTmhzffgBL6G0S0G0OOgAAAABJRU5E\n",
       "rkJggg==\n",
       "\" style=\"display:inline;vertical-align:middle;\" /></a> <a class=\"ProveItLink\" href=\"../__pv_it/demonstrations/f23e6f50e40b8ca1c45f04f13a0a6fac8b007de30/proof.ipynb\" style=\"text-decoration: none\">&nbsp;&#x22A2;&nbsp;&nbsp;</a><a class=\"ProveItLink\" href=\"../__pv_it/demonstrations/4f8a1b87c330da84b685f22600fcf56b128a49620/expr.ipynb\"><img src=\"data:image/png;base64,iVBORw0KGgoAAAANSUhEUgAAALsAAAAXBAMAAAChYCPMAAAAMFBMVEX///8yMjLc3NyIiIiYmJgi\n",
       "IiJERES6urqqqqoQEBDMzMxUVFTu7u52dnZmZmYAAAD1zdHuAAAAAXRSTlMAQObYZgAAAAlwSFlz\n",
       "AAAOxAAADsQBlSsOGwAAAsRJREFUSMe1VU1o1FAQ/pLNbvYnyS7Ug2AtPehF1AbWP9CWoKDgodTD\n",
       "qlQpexEpilQqQhXtnlVowQqiBxc89VBZqBc9pVSKonTTg72IEHUPvRRbFVp0Fee9ZOPaNNkt6IO8\n",
       "mWTefO97M/MmwL8eE4BW9H0VmwdoD/guVR53ARELFaD7eLa05/kf24Hm4Qf93OZPtOywpCEjQVtn\n",
       "VR04NoaHOMiN2nsTcQsz98JRlf4eR4kU1prmxzD7w965F2kTUFtov+kerGCRG9+NFzBFsq0Ba8F2\n",
       "ldY1Bm2/BRy1MYkhelM30ZTSk6M4za33r5osXFhtAJ+use5eY3gSI9IpGw+wmAQ6NQNIFCN5cYml\n",
       "WK7SNOrKsDFsukrCVfblchkmL8ZY/HVxCadusdQuAB3EX8pb7DAUUjnjyNDx1ouSwcXlQ+57fjcX\n",
       "cgmdBivMVBHXIbSLk0RDenbGhkb7CJNdhVD4LdkFR1FLvFxqKRBLE2Eh1R0+5VblS2jlLJtlqjuK\n",
       "p8RDItTqP2ldCXHrIIco8R4x8RUvMoHr4lXOpJc0HkbBq3p7MAR+hCVrAPgA5WcyG5wALYOy5dBd\n",
       "YvN4jkaex35Xg4wx+DbIqy6xoLIfdpIjj7J5xrPwygkaF5gr+X2DVg2DTxv4bCos/c6iqGe5yeoe\n",
       "A+u73aUnRkFdwSuDeyr+Ncw9PaCMQYtTciQekoj+162N5NdFF7+7pfYUlxxiZZZeNinL9UrKiNl4\n",
       "o1Jn0BzgzR7G3FbzZUBLibM8yYQ6Wzt39Cw7OmswfTUlR/SVTwvulYo6Jfn6vOl1zEd9AW1a43ek\n",
       "t7YZC+sdPwfTywDBbHf1G+dymQY3/bZQqO9SHN7yrVI9bZyeSvP/hpNTXMScs4lzv3Qoum/VtKfR\n",
       "L0LMNw9/5KNz4+tcJP8qw9OomcfMjf+BtzW1SrhGN+ow/tfQujbG/DfDa6TKonbVzAAAAABJRU5E\n",
       "rkJggg==\n",
       "\" style=\"display:inline;vertical-align:middle;\" /></a></span>"
      ],
      "text/plain": [
       "{forall_{b_{1}, ..b_{_a}.., b_{j} | Q(b_{1}, ..b_{_a}.., b_{j})} (f(b_{1}, ..b_{_a}.., b_{j}) in Complex^{n x m}), Q(b_{1}, ..b_{_a}.., b_{j})} |- f(b_{1}, ..b_{_a}.., b_{j}) in Complex^{n x m}"
      ]
     },
     "execution_count": 4,
     "metadata": {},
     "output_type": "execute_result"
    }
   ],
   "source": [
    "all_instances_in_C_nxm.instantiate()"
   ]
  },
  {
   "cell_type": "markdown",
   "metadata": {},
   "source": [
    "### Build some Qmult examples, well-formed and not"
   ]
  },
  {
   "cell_type": "markdown",
   "metadata": {},
   "source": [
    "Well-formed:"
   ]
  },
  {
   "cell_type": "code",
   "execution_count": 5,
   "metadata": {},
   "outputs": [
    {
     "data": {
      "text/html": [
       "<strong id=\"qmult1\">qmult1:</strong> <a class=\"ProveItLink\" href=\"../__pv_it/demonstrations/64bfe7bad6348e4d450868f23a31af99e87c6bcb0/expr.ipynb\"><img src=\"data:image/png;base64,iVBORw0KGgoAAAANSUhEUgAAAGAAAAAVBAMAAABLWfZ5AAAAMFBMVEX///9UVFSYmJgyMjJERESq\n",
       "qqoQEBDu7u66uroiIiLc3NzMzMxmZmaIiIh2dnYAAADysKFQAAAAAXRSTlMAQObYZgAAAAlwSFlz\n",
       "AAAOxAAADsQBlSsOGwAAAcFJREFUOMuNkzsvBFEUx/+G3VnzsnwAGRrtJjoFS4nEFApCWK1C9gsI\n",
       "UVAoqFBOQaEgFCQkEkKCRLERCWEl23gVdj0jSHDuYyYj2RE3ubnn3Ht+957XBcKH6wl6qImWCGq3\n",
       "nlC2EgaUPoh1ObvvAyYQ2Q4D+gWg2ajxAYvmdBiw88GXYaDbB0jBVYi9tfzJ1wxQ6QM9NOdDgCXz\n",
       "VQKxWR/IsdjcoFk+6yVhO/LElthmc32aA2o2g5yZQIRR6H5JYwJYHFUHNYcbOvqXCLN2Y4UDViSl\n",
       "2uabiFoZuIuz94aAdpNdCAPao8yLkuDAgjGtuEgBByKQNt2BQfyuxT06Odp5kXmJPXAgHc3QEVVh\n",
       "ldRTOiEtmgSub5idSsl5Z8IkVSslgp5yLb7fJ9O4BIyQVwVHeATMyLyUxQVwiAVY5G+DBOjmCpte\n",
       "4NoYzSYmkP/rrgD2UIcuKn1SAuSdEYdSYO2oMS86yFCtQmxONt+4m1NGydARgMGSlz+2jXsy63hO\n",
       "o/O7kVpt7fLe61a9uuWcpHJZqJLiDRJsb53f3ft/QFSoVe5sFQWGgwCnVe9fnRUFJn+9wP+QLXfi\n",
       "+HNc+F808Mt/AKkaeCFuKGIyAAAAAElFTkSuQmCC\n",
       "\" style=\"display:inline;vertical-align:middle;\" /></a><br>"
      ],
      "text/plain": [
       "qmult1: alpha . A . beta . |psi〉 . gamma"
      ]
     },
     "execution_count": 5,
     "metadata": {},
     "output_type": "execute_result"
    }
   ],
   "source": [
    "qmult1 = Qmult(alpha, A, beta, ket_psi, gamma)"
   ]
  },
  {
   "cell_type": "code",
   "execution_count": 6,
   "metadata": {},
   "outputs": [
    {
     "data": {
      "text/html": [
       "<strong id=\"qmult2\">qmult2:</strong> <a class=\"ProveItLink\" href=\"../__pv_it/demonstrations/1407314ac4d6bc171a87de819f82e9ca04b1dac70/expr.ipynb\"><img src=\"data:image/png;base64,iVBORw0KGgoAAAANSUhEUgAAAKkAAAAVBAMAAADP89MSAAAAMFBMVEX///8QEBBUVFS6urqYmJiI\n",
       "iIgyMjLu7u7MzMxmZmYiIiKqqqp2dnZERETc3NwAAACf5FhoAAAAAXRSTlMAQObYZgAAAAlwSFlz\n",
       "AAAOxAAADsQBlSsOGwAAAqxJREFUOMuNlU1o1FAQx//dTTabJhu9CB607Ek8KF32IFIPrvh5EIlQ\n",
       "Ww9C9yD2plFsb8IiHoQeXPzCFsFFL16kqyC4IDQgi4hfixf11BXEi5T2IFqsts6bvGSz2aT4DsnL\n",
       "ZOY3L/+Z9wKgDTmCSeywglkl8iYOYLX82Yso6Fv4wSz4s0+RdN0A6/Yjopv1ROo5GdacdgKqDTS6\n",
       "vSIAE0Xy7kcS1Vjz7l+h5AOqG47gEQHkWIdGIlUfZAfNhlHzqfQQWhxiAGq+W6Uo9d17rosKpIK1\n",
       "GpWwkIgBaCviUk6iWvZYXVKHAl1NcTkbdusBzJOzWgKuArv+OlLs5h1fAMyVxH33wrZxrwcmbhF1\n",
       "BHjOq579iHQMoDHX8rSuInu66LLReoDz7e9M3YNrLtdHOfLQo7qPcRFjjleffTvu88ojAKWc+gUU\n",
       "WasUkGdjn4tcdZSpVSzmZdUPMdWqz+AY+ugrCixurjKFHsBi21gGbrBWhwVEGO850Mu8RPXz9GBL\n",
       "Vn0vUzVsohQ6kKVsqkNvhGMEsBNZog6z0RbBwriVHrc4gjoBbKCGQpqqftxTIL1KVLIbrmwSShgF\n",
       "/EB2CZgUZaHIFIut/SGfFSkA+jfKqn/wqHrNquMlkJEb/o1IHwEsk7K8FfSSDm07ZCqYgoU0lTZD\n",
       "WZGhLx6Q1JbiGKTpguySV3IvhQHLyNS9rzkzcmWm4BmvA0eXRPN/EQGrdLlQwlBBKjBgYj9NX0sq\n",
       "92AE0MQTYSXtlNnfrmxis3kAd0muS2vjMOZ/kvnZ01O2f2Zdfnuw7YXw4BaJAk6w6CLxzfgzyz9O\n",
       "OifhFK+u2kWNBQiRNv8vdbRzKpHcdjIg43AvJFE1O0zlFJPSohaSAYoNtZZMTVfCVE4xLC2p9QAt\n",
       "WF7kyXX/W2qlE9D9J+sF/AOFRNQDe7L7aAAAAABJRU5ErkJggg==\n",
       "\" style=\"display:inline;vertical-align:middle;\" /></a><br>"
      ],
      "text/plain": [
       "qmult2: 〈varphi| . alpha . A . beta . |psi〉 . gamma . 〈varphi| . delta"
      ]
     },
     "execution_count": 6,
     "metadata": {},
     "output_type": "execute_result"
    }
   ],
   "source": [
    "qmult2 = Qmult(bra_varphi, alpha, A, beta, \n",
    "               ket_psi, gamma, bra_varphi, delta)"
   ]
  },
  {
   "cell_type": "code",
   "execution_count": 7,
   "metadata": {},
   "outputs": [
    {
     "data": {
      "text/html": [
       "<strong id=\"qmult3\">qmult3:</strong> <a class=\"ProveItLink\" href=\"../__pv_it/demonstrations/fae0e0efbf49e1b0d0683f0d1cfc7a744898ec950/expr.ipynb\"><img src=\"data:image/png;base64,iVBORw0KGgoAAAANSUhEUgAAARQAAAAVBAMAAAB1dQxbAAAAMFBMVEX///8QEBBUVFS6urqYmJiI\n",
       "iIgyMjLu7u7MzMxmZmYiIiKqqqp2dnZERETc3NwAAACf5FhoAAAAAXRSTlMAQObYZgAAAAlwSFlz\n",
       "AAAOxAAADsQBlSsOGwAABE5JREFUSMedll1oHFUUx8/uzuzMZGbHCkp90LLkIRUJdFOKlL50RI1W\n",
       "LI7it1XzUI34lbGQvnYQEcGHLmkEGy2urQ8liA1IQEslgyWIKO0alIhCOw8VlLQQimk0msRz7pm5\n",
       "u/d29yEO7M7Mufee+7vn/O+5AwApZJd8yC4fNnxdN0T6tLv1bBviN/Ons1rvZ7h9aAMopVAzSJ+V\n",
       "WG24kj94Nfr/4+UL+DjVBcVNxK28qM+3d32u97VYt47O9QaXM3xawezRSPo00Vtd7f6dipKUtgL0\n",
       "QBeUg3ybuQ4FbgMo/qXZzJsjOPMJlKPs/RIYVenTw19D7d9QUS7Q35fdUMb5NraWve+QC17CTPyt\n",
       "Gq1fkMFZAyNbvBWC25A+R9vDwCGvqyiP0N/P3VA2cc/L+fqn8wYDLcaSaixvJqXgkM2Qp6TYisoX\n",
       "7eLQpMMoh1Am1lAXlBI3/Gb+o6MUMWXlLarxPCnOxqXulyi7Wloh1ZXTDtmXKJVlHBMAvANw52rE\n",
       "w7zZ97mLw6qtu3/qKIUmWHfEitFfEVlB49ds2Hmlb5iXZz0VQmIO8S5wT81DiRAfRfAYSiPzjOJ+\n",
       "sMqqrYO9f3siUPwT8Ea6IEIeiNhM2f/qKId/eqwvUI3eUt44yLfEuP8ko3juJiswl1mod/UfFxqm\n",
       "Fwfg7bv7GWUQtkWwHZFiKAJUBUohgUr9CercIza5A/5VHeX5FNybVGOP3FCnIU/JIKMsOA0jJeEd\n",
       "ETWsEr9LK6wKAVVxYkLx12Ampg6IeR+FhlA+isAZEqkpiBw+e3Rsle4Tk5M3Tk4eF9P8QNqIFWNh\n",
       "WSSIQpZvINjNKFEh9Mg7vIlqiLCFvDs1ojVwMoFSbMLhmJKGPUMafJZLhndrJFHI5YoeFQrTQ6Ea\n",
       "lcV8owyw5pH04Wwr7E494ecMdz1HI0mhCWl7VKDcENASDlIScGRRyNZCYXi8ZcpTIj8AH2soNul4\n",
       "W00xOmv5Rjkta9pchjIBC+Dh6l7nrt/TQmnf1mEnwFaBciimdFZScAIHrNt54+E0HheUSphVsBEN\n",
       "xcRp7WuqkaqemA/28jqwy5YM5Rim//PWWfctZNV1HGEOxByVGF7hk+bFx9+aqDHKGMCDi2Kjeqgs\n",
       "n6guplo1Q+PAsMY3E4D7DT28J14PBLCrlqEMpIlRa511XCswW+UXXtpzguuKF7pV3lbGqZUkK0fe\n",
       "7D3wodBBqQHWxWsRfLX+qjJrceRqb9+voKFYx3qPiIfPuLxO7wvzsmn3//gctM66KosLfw+sf5qX\n",
       "uNl9+RE53qnwn9QOvOlOXwW60W/I8ip92lPtZx2jUIycoFVt5YfDLZ1Q9miz7OiEohvZvYpiRvLs\n",
       "Ra5QfiUVYg0Fj3V7sRNKJd34V1x26FlhO4oor/lZZ2YzD+clqA3FCMFsdEKxmv8DZV6WlbaoQFZJ\n",
       "hNSyhnsBntZRoAk+j3xSc3tp4ySGHknps6J9yuL77xymHPs/hXkqo0GU0xwAAAAASUVORK5CYII=\n",
       "\" style=\"display:inline;vertical-align:middle;\" /></a><br>"
      ],
      "text/plain": [
       "qmult3: 〈varphi| . alpha . (A + B + C) . beta . |psi〉 . gamma . 〈varphi| . delta"
      ]
     },
     "execution_count": 7,
     "metadata": {},
     "output_type": "execute_result"
    }
   ],
   "source": [
    "qmult3 = Qmult(bra_varphi, alpha, VecAdd(A, B, C), beta, \n",
    "               ket_psi, gamma, bra_varphi, delta)"
   ]
  },
  {
   "cell_type": "code",
   "execution_count": 8,
   "metadata": {},
   "outputs": [
    {
     "data": {
      "text/html": [
       "<strong id=\"qmult4\">qmult4:</strong> <a class=\"ProveItLink\" href=\"../__pv_it/demonstrations/be60c7db86f0e60756a0532cbd72e3d30da0a17f0/expr.ipynb\"><img src=\"data:image/png;base64,iVBORw0KGgoAAAANSUhEUgAAAdAAAABLCAMAAAD3VSYGAAAAOVBMVEX///+Dg4POzs6/v78QEBBU\n",
       "VFS6urqYmJiIiIgyMjLu7u7MzMxmZmYiIiKqqqp2dnZERETc3NwAAAASg5l4AAAAAXRSTlMAQObY\n",
       "ZgAAAAlwSFlzAAAOxAAADsQBlSsOGwAABw5JREFUeNrtnem2oygQgJ0Z2Tfx/R92WARR0XhJSDp9\n",
       "ix85OTYUsT6oTbw9DG1NzKGhAdqhqaib7/rRYjbENQz4js0rhqCvA2qB3CVVAApAASgABaAAFIAC\n",
       "UGgAFIACUAAKQAEoAAWg0AAoAAWgABSAAlAACkChAVAACkABKAAFoAAUgEIDoGw+aRSAfiVQ7diJ\n",
       "8gK3mKJxnkcA+p0mF82zqmhDzRqAtjd740ovH6rqx+/l9O5bfrHQx0ArP0G8BpQ9Ks/gdwH171SQ\n",
       "GtGuQRftYgAw/QnQio6na6LXoKxkagpaM/qDQAfqiNZkkdcrXBrDo+s23l1Po3pGWmV8sU6qQK2h\n",
       "UvKajuNS0PJ6CVyCcveEURCuhk8CHaaqG+3QDBJjUAlnS4wtn4zRD+MZvwJq/SIlqKZjsziga/d0\n",
       "CWpKRGrL4p1AuQtq5TuAjhpPQeFy2f3PRl7H8UReAOVhG2pV0TGnp3uwSAmuQVF0YbjfCXTAzui+\n",
       "IajFc9o+4/7CswKLRcPPgUZoqLZDtTj1ktcethDCFyUm+/M5oINxeSfvDtSkrYHZ7sKzAkubSx4A\n",
       "xarmQ00ef67Wh6CmuMBo/AlCxHudg1Uqfa1z5KIvUF8wYr3zQjQqJJfYaJkVUSqfMA218QadAsXC\n",
       "ToitXjbomFNJI1DKcrgWN62KKHAa8ACUlnqeCk8b7lUwgpEp+1mFvZezg9UdgXo3anrv0FxOXHYR\n",
       "n51yeft9bManJU/YKVDjXwUWSmyAmkE7B8CJj/Y3ESoZkVGo3LzXoPzEyIvAqDDiKH3kfmOQN8mB\n",
       "8o5AjyXADll/nkDpZU6+YOaENf1mvi6TxCmHPFWgJfGgY7dNpBtBbPbsEhfO1HlNkTbSNSjreWh/\n",
       "i4uAMBvhaQmkfjIuG8kG09Pk+ol6u1GdNTzGm5MsbDMzCEpbvGkev9XLGdAlkMVzCdTd8kgX7Ud/\n",
       "ICK3uH/cmCz+GhSawuQiW2aTvXaYOPUbY9RlRrPT9n/zv6/Vt+r9hGUNYRagIYvEITTULUCL8YWj\n",
       "TE8V/pkPLjSSGrfxDPY7w6zA9WaBGJuVcg0qVNvCalpiJ5mnRIWvTevPHNKKlz8Ptb2rC1MuGTO9\n",
       "6iCaoCag63i+xkbnJtfsf0bUsbe4IT5Ztsw2zDXrRnoASmRzHgsMPtf2fTkSwx6836FDb6B07PzE\n",
       "fMxrfYrf5hDukRLDLaOfOq3j5aBzLDSdAY09xHqbC9ApWlCNa4moKWoJ16BEXqnLHmeMMkGkwpv0\n",
       "Rob1RMy8fxDwaqD4fTFRSi0QCdFeAZSn5On4pXIpj+d8VbykJ0C57+6yULxLIbEj7ONfXC0VlQnj\n",
       "JSjj5tVoEw4T58WU2eerLgslfk0Y2hWo6F4qWmMip9WoYpktZdqhKmX9KgHKX4pLS6di/FpPUPYE\n",
       "qBaa0o0WFx0LZCZCbb1ciyql3BNQTvqwXRSSfKpS5CxX9yMnstCN2luD7Pn0HaNb6ZS0YdVZLdec\n",
       "F3mEPi3XboDeBZXM9ig+BpR1Ls47Y8QKE0DkGdBb1Y1jJ5FijFXXPwBapPjTVquCNoGK1Sgxf6yW\n",
       "O3U+njCoaVsI3erNGjZLWuSKD8zJsVN60FGENDuglUGrtTwt11LcBIqEyTbJ9VuBSlUzdK90qoRu\n",
       "D0DwkxV066F6pVNyoRM/A4rFxQ4ddrlm3eL+AFS4PVtOScX7gJJqwkK6Rkn2hechGE4WlxQ38vgI\n",
       "SkXH+3Vmnwd1Pyx9FdB6wqK/5xynC3YrFubXnpy3tYSFy/ecYejYfivQSsJiNer/7AWAdgLKZlY2\n",
       "NS6vQqgBgH4jUHn2bgsBoF/qQ//WBkABKAAFoAAUgAJQAPqjMPf8n3TzDBSAtgMV7N6jkpN+u4tG\n",
       "0lRH98/wW4VLANq+Q9HNE9L1fhsQOJyQsqFYz9ETwrEBoM1Ax5tFunq/Emh6zBze3o7HUFuFMw5A\n",
       "W03uTCnidwZU+xVA8zGuoAv1lHCjAWgjUKr4QG/4rJN+BVCUHtf7Q6OWPSVcSwDaCNQfcvUHfO10\n",
       "vZNSPwfO1oGOCQJz7hNPTwnHEwBtBOrfK5BoEFhd63zpd7FD04O0IDqeMW0WLgBoK1D/KkD4ywUP\n",
       "dJ76ke2Ru0Lx/tCyfxlSkUykWTiY3GagTtXx+H/UOTcnH0s/a3fn74qgaLSEU7EcuFIV4TXBdeGU\n",
       "AtDWKFcuJ7ajzsPfGQkvcJQfuuhHzFnaYtFEkQtWg+Rw0nInvCa9LnyyALQ1D00tWcVawlBeQ/ii\n",
       "UuRfa+XkWBvIJlffEs4/7kK/HqigY3zRo/YyweaaGq6A2hkt8IqTtFl4TXpNuOEA9Okdmm7k8hrV\n",
       "u3DlsJVYfj+rRoXcEv4n/F/vv+Rpi5a7KuuVFN4qnA8A9E1Af0/7PqChISB3bCrq5rt+NCehYcBX\n",
       "2ZyxfWby/wGxZGGLGIMu0gAAAABJRU5ErkJggg==\n",
       "\" style=\"display:inline;vertical-align:middle;\" /></a><br>"
      ],
      "text/plain": [
       "qmult4: 〈varphi| . alpha . [Sum_{b_{1}, ..b_{_a}.., b_{j} | Q(b_{1}, ..b_{_a}.., b_{j})} f(b_{1}, ..b_{_a}.., b_{j})] . beta . |psi〉 . gamma . 〈varphi| . delta"
      ]
     },
     "execution_count": 8,
     "metadata": {},
     "output_type": "execute_result"
    }
   ],
   "source": [
    "qmult4 = Qmult(bra_varphi, alpha, vec_summation_b1toj_fQ, beta, \n",
    "               ket_psi, gamma, bra_varphi, delta)"
   ]
  },
  {
   "cell_type": "code",
   "execution_count": 9,
   "metadata": {},
   "outputs": [
    {
     "data": {
      "text/html": [
       "<strong id=\"qmult5\">qmult5:</strong> <a class=\"ProveItLink\" href=\"../__pv_it/demonstrations/328c77a7d503ebe78dc3c37ef5d18fbf6b35c0a70/expr.ipynb\"><img src=\"data:image/png;base64,iVBORw0KGgoAAAANSUhEUgAAALwAAAAVBAMAAAAOdJm+AAAAMFBMVEX///9UVFSYmJgyMjJERESq\n",
       "qqoQEBDu7u66uroiIiLc3NzMzMxmZmaIiIh2dnYAAADysKFQAAAAAXRSTlMAQObYZgAAAAlwSFlz\n",
       "AAAOxAAADsQBlSsOGwAAAypJREFUOMt9lU1oE1EQgKdp0t1udvOjnvSy/oAilYb25kEjHgQtZA8i\n",
       "FER7EMSKEuw5GBW89JJTNVYwSC8eLFaooB5M60ELFkpr8WClEbT10l8j2oqtM/PeS/andMK8nWTe\n",
       "fjs7b2YCsK0Y+FHybCu3S0rKiEqPEdie8v0wDbG8ss8E8dPuLz+UEcZA9AmhHmlcFtfBmXd8jVQU\n",
       "HneeD9DRDVammjy524OPlOWTp337Lwq8YcNeNnpA4RHUHMD30BLHN2513HgoUKRZoW4ZWedLDqCT\n",
       "jVGF1zD6mCN36bY0Rml5gy6zy4P/jhoqC3VJbPCvykSSjS6Fj2A6jbR6eZVTgsIsZXrVgx+g5bLU\n",
       "ujy1fkm8fo/DTCl8jJajPrzOhZChbG548I1URG1SF2dUyZUjq3zbqxPtnDWzwvjcOOKnAC748OQG\n",
       "qNIdKwL/GuBONctHDl+FPslr3QanVXeiGyLUfS/5iY024yvn4AbMZmtnq/Dkhug/XCwZfRmibbcq\n",
       "4mz3C70O0GGJYMFYkZkI8Xs3O4Q3nDE4DE3oz3vx5AaLjqvhD+PxhBoAEgDvQRRHJ5i/Ad5yauHj\n",
       "h5GqLBydK7QpT3gNrmFdmhhogmIoFvuuFIsJ6YYw7YyLykHMQXoFGKKKYm3CepibV8W3RkYvxtRV\n",
       "x4O+jvic6CJ39IyPUz212go/wRg6pbusN/GeJUfkBqBPtlA4wcnl5IBZwLOZlwXhzr0jy167JLrW\n",
       "BB3TkxU1JpITxwfP8e7bqMfJwLy/YFJ4QuDToWwkL8vZhSc3l31PSuJtE7Q9skMOsJoJCC3xjKN8\n",
       "ZBCr7QD9vmizhEhOdwwOyWZ048lNAekP1Uhrn3o+lpf9PS50cdI2FxCa+ZmFs5vH8O7hLwuybwqi\n",
       "rYa+HSnJUeJpK/xh52ZyV0dJ4UOP1uh8uIIfSPVLrG72y64drg1Cz1DoB/9A5inEs9UoCN0O3yLx\n",
       "nzjVJf9Iawngr7J1mgrFFhqQXN1EIuMrtfHrkdoDFT7K7aKl5Fgb2OoPsLduammB52xMBnZqaR/e\n",
       "4mxYFPQpqdvKY7Bqf7Hprdwu+YzJ5s1hGvcl1v9OxuOPZBAZLgAAAABJRU5ErkJggg==\n",
       "\" style=\"display:inline;vertical-align:middle;\" /></a><br>"
      ],
      "text/plain": [
       "qmult5: alpha . A . beta . (|psi〉 + (D . |varphi〉))"
      ]
     },
     "execution_count": 9,
     "metadata": {},
     "output_type": "execute_result"
    }
   ],
   "source": [
    "qmult5 = Qmult(alpha, A, beta, VecAdd(ket_psi, Qmult(D, ket_varphi)))"
   ]
  },
  {
   "cell_type": "code",
   "execution_count": 10,
   "metadata": {},
   "outputs": [
    {
     "data": {
      "text/html": [
       "<strong id=\"qmult6\">qmult6:</strong> <a class=\"ProveItLink\" href=\"../__pv_it/demonstrations/ab7d4b1fedd002e27f4b63daf98678662eadd63e0/expr.ipynb\"><img src=\"data:image/png;base64,iVBORw0KGgoAAAANSUhEUgAAAL4AAAAVBAMAAAAKgUmDAAAAMFBMVEX///9UVFSYmJgyMjJERESq\n",
       "qqoQEBDu7u66uroiIiLc3NzMzMxmZmaIiIh2dnYAAADysKFQAAAAAXRSTlMAQObYZgAAAAlwSFlz\n",
       "AAAOxAAADsQBlSsOGwAAAvhJREFUOMuFVU1IVFEU/ubp+MZ5PzrZpoKaSmipaBG0MYsKRNFl0Q9D\n",
       "SIVBCLWVrEAIF02LqImgWeSiTUxBQbVQKigXxVC0KcVxkbVRxxL6VTvn3vtu782bsQPfzJn73fne\n",
       "Oeeeex7wH8sq+H8LswjxsttXoUPm9Eho++I51Tkgli/dvwrtdC8m9q6X/r2Jl9I5ptC40p7YntMC\n",
       "DhAdo+/3FfXL0HXNQJOINZ7EZrFkNksAvUDktxZwCWlCVX8l/TL0KKVjp9gbAA6JJTspgfgSpftH\n",
       "C9AGfCIYY+q/F0P6AVrYFJfsK3v0oIRYqlGAQbEbS1rgMOEOOyfVf4+G9AO0sG6Oc1nqx66LpUsK\n",
       "iBQp2z4tUODkuVdaKuprem4iJ1cWCbEF/njS3ior90YBNbthrpPna07kUXCaEeWHTIf1n1JIi/2a\n",
       "vjto9sX5VC1O31kWp7flsXxmixfiaNdkQ1IKuNGUmXS+yxPcGtYfg9VyoaDpM0Cnw9E63B6RH7I7\n",
       "DNE0uKaAqSyix6XAiJ02sqA+eAWvDfz60RwiQL1H2xTIc1fciCL3aEp2R6wotp9SwH7CvKxPf03e\n",
       "5Shxn/NicjyTOZHJXFXpAdt8NBUWM59F+5OHJi7CMCWTCurzsTTlZQGuZF2YeXnvhkLxu9we/+jz\n",
       "VKn5Hq/9zV7VHdX1YvsOBYvbdtOg1B/HCFyq6K6y9bERowppuo4CntHtf1aUnT4eyUHVpeD8omd8\n",
       "Uwf4ggpwkFqZ820M6ydtmBs0bdfDmOdhhzaq+i0xFNYgdkNun1aoonIN7VT6Q9mCQam4nPXrcP+0\n",
       "vnsw7qPn3ibtWXIbVhJrO0XU0YeTs2r7ZYlI20KiYZ8nYG3c84G8Wv55M6xv3P5ZKKUD5v5za3MS\n",
       "wQFmifM6wtc9Xeb+PkOIrqTPAyo4pFhAXBd0qPkXmm+nEaIDNuDzOxQC+q43uuUQK6GtYmVa2LDP\n",
       "P6cQjF+8Yji2A2X0nXRlOmT0phHQ9lG/ALl82dL9RMdzPvovci/jiIGJe+8AAAAASUVORK5CYII=\n",
       "\" style=\"display:inline;vertical-align:middle;\" /></a><br>"
      ],
      "text/plain": [
       "qmult6: alpha . D . beta . ((B . |psi〉) + |varphi〉)"
      ]
     },
     "execution_count": 10,
     "metadata": {},
     "output_type": "execute_result"
    }
   ],
   "source": [
    "qmult6 = Qmult(alpha, D, beta, VecAdd(Qmult(B, ket_psi), ket_varphi))"
   ]
  },
  {
   "cell_type": "markdown",
   "metadata": {},
   "source": [
    "Not well-formed (matrix-vector incompatible):"
   ]
  },
  {
   "cell_type": "code",
   "execution_count": 11,
   "metadata": {},
   "outputs": [
    {
     "data": {
      "text/html": [
       "<strong id=\"qmult_bad\">qmult_bad:</strong> <a class=\"ProveItLink\" href=\"../__pv_it/demonstrations/57ad762b19f05e79f32c1b05faafd2dbb0ffcf080/expr.ipynb\"><img src=\"data:image/png;base64,iVBORw0KGgoAAAANSUhEUgAAAI4AAAAVBAMAAABicsu7AAAAMFBMVEX///9UVFSYmJgyMjJERESq\n",
       "qqoQEBDu7u66uroiIiLc3NzMzMxmZmaIiIh2dnYAAADysKFQAAAAAXRSTlMAQObYZgAAAAlwSFlz\n",
       "AAAOxAAADsQBlSsOGwAAAp1JREFUOMuNlE1o1FAQx/+b/UjcTdJUhN7aqAcVFFaKiIp0K4JQBXu0\n",
       "KLpePciK4G3pnhTpoXuzJ8nBHsSviCgoyBa/9bQWwa/V5mLVw7ZVqwVF6sx7SZqs0vXBTiY7L783\n",
       "7z/zHrDMcAIn1xLI/uUsOz4FTsqNBy4Ejllhe3nbQCT4YrF/1WY/hauNxyHHANITcc6HOMfTuqLR\n",
       "b4DyXaZrY3XIMelXjXOqcc5ALJj7TeaRcMvAUMgpRxMQYyk9yXkeixq/yIza7NaBzpBzMCpIi1yS\n",
       "MzwYi86RueZJjnYu5PA/SSc68yTinNQC25mGxHcUOB+LjHanv7ckOGqjDs/IIy3wQ/MlnKHnJIng\n",
       "QuvbIznph/NkL1bUY1lOrEa7wZQnlF1z2xUcM11UbWNBKqsc/WyJ7OhFB26s75acteihVY8D+wxe\n",
       "fYo/7anICil5wRnXq4qDIvBEirQ3RytqlhDNQkJwsj9xxIVOi93n0mI/mx9+hbQ5wSll6hSj8lyn\n",
       "15cU4Zl6hUVTSpQUcxIF1FxkSJXpj/w1b1L5yt4IFa8odR51TKi04cO+rle4sDZzDF6POR02alQz\n",
       "2vDsYNA+pwp+hVKW5DzFOEza9XafwyuqeU6RFusSnGGXFGIapoP2UXvFbJp3y5GcB1iHA6RBwedM\n",
       "+P17j0gnXJmPiy20WQvKLJ/nJClyVkxTV0Ib88/pacdTaK7pd5ouWoQ2mdy5Y+OY7B+znubkZyZt\n",
       "vUlq9X3p3P1Mtv3Nd83gvOe6d70hb4Xfdwlh+W3D4vmgD5vv/31dmNF7IycyORTjcHa6vdTP+A+O\n",
       "aK3wRN+V1wGplXHbcspRjoByhcR4JR9bwaVuxxmJ5QO/Y8Sw5GMT8Lo9Jxxvw6ug5cam90vyrglu\n",
       "kD9i9rG8N5nIugAAAABJRU5ErkJggg==\n",
       "\" style=\"display:inline;vertical-align:middle;\" /></a><br>"
      ],
      "text/plain": [
       "qmult_bad: alpha . D . beta . |psi〉 . gamma . 〈varphi| . delta"
      ]
     },
     "execution_count": 11,
     "metadata": {},
     "output_type": "execute_result"
    }
   ],
   "source": [
    "qmult_bad = Qmult(alpha, D, beta, ket_psi, \n",
    "                  gamma, Bra(varphi), delta)"
   ]
  },
  {
   "cell_type": "markdown",
   "metadata": {},
   "source": [
    "### Let's disable some simplification directives during initial testing"
   ]
  },
  {
   "cell_type": "code",
   "execution_count": 12,
   "metadata": {},
   "outputs": [
    {
     "name": "stdout",
     "output_type": "stream",
     "text": [
      "['ungroup', 'factor_scalars']\n"
     ]
    }
   ],
   "source": [
    "print(Qmult.simplification_directive_keys())"
   ]
  },
  {
   "cell_type": "code",
   "execution_count": 13,
   "metadata": {},
   "outputs": [],
   "source": [
    "Qmult.change_simplification_directives(ungroup=False, \n",
    "                                       factor_scalars=False)"
   ]
  },
  {
   "cell_type": "markdown",
   "metadata": {},
   "source": [
    "### Proving membership in the QmultCodomain class"
   ]
  },
  {
   "cell_type": "code",
   "execution_count": 14,
   "metadata": {},
   "outputs": [
    {
     "data": {
      "text/html": [
       "<span style=\"font-size:20px;\"><a class=\"ProveItLink\" href=\"../__pv_it/demonstrations/847ecb4d628b91a053c2379114751af7d89ba9560/expr.ipynb\"><img src=\"data:image/png;base64,iVBORw0KGgoAAAANSUhEUgAAADYAAAAQBAMAAACvnpHFAAAAMFBMVEX///9UVFSYmJgyMjJERESq\n",
       "qqoQEBDu7u66uroiIiLc3NzMzMxmZmaIiIh2dnYAAADysKFQAAAAAXRSTlMAQObYZgAAAAlwSFlz\n",
       "AAAOxAAADsQBlSsOGwAAANRJREFUGNNjYMAGuJ5Mtl39AKsUw5MkhpqPB7BK8dwA6lHBLreHpYCB\n",
       "gRFV7srMmQYg2p0FZOcFZKnm61CGwxqY0Ls7GyCOM4e5UmAflLWygT2LKwDIYF4AFeF+0ARl5TEw\n",
       "+PAWgOTgvjvQC3XvdwaGw3wg1raZQOAAtm8dRI4NyHv2HMQqgTsK7E4gqAd68z3IOgZOuFwPyH8M\n",
       "DQz8CkB9YBHeCyjhwuvAwCPAwPSeGyxkCtf42K6g1AbkvUsKPG/BIoUeBfB4yJ+zADUc+zwhYQYF\n",
       "AH6TOAHoygR1AAAAAElFTkSuQmCC\n",
       "\" style=\"display:inline;vertical-align:middle;\" /></a> <a class=\"ProveItLink\" href=\"../__pv_it/demonstrations/179343cacb77e875d31e283d4fae9d5c73b78b030/proof.ipynb\" style=\"text-decoration: none\">&nbsp;&#x22A2;&nbsp;&nbsp;</a><a class=\"ProveItLink\" href=\"../__pv_it/demonstrations/70e810fc3ce0b52d19c262e3337b7e4cb379a4650/expr.ipynb\"><img src=\"data:image/png;base64,iVBORw0KGgoAAAANSUhEUgAAAEAAAAAdBAMAAADoV3fEAAAAMFBMVEX///9UVFSYmJgyMjJERESq\n",
       "qqoQEBDu7u66uroiIiLc3NzMzMxmZmaIiIh2dnYAAADysKFQAAAAAXRSTlMAQObYZgAAAAlwSFlz\n",
       "AAAOxAAADsQBlSsOGwAAAS1JREFUKM9jYMAHuA7glWZg2n7gAS45VrHPDxi4zjkq4JDn8N2t9pmB\n",
       "oce2AIeCOwwM7PMv8D1/bY4ifGXmTAMwg88BSPRPYOASQJFvvg5j9YNMZvvAwLAAxHt3ZwPETwjj\n",
       "8kAE8wcIZ2UDexZXAEhgAdwLP8AKJsBV+/CCjGSGG8D3C0SyQUKJ5zsDw2E+EGvbTCAAuY6BEWzC\n",
       "fojNbEChZ89BrBK4CbwfQaQPhFMPDMz3ICcwcMIVsP8/xf2KCeoEfmBgPoPouwBXsfN/TkEzNBB5\n",
       "BBiY3nODmaaIIGFn4IVH5LtLCjxvwaxCD1jIc3XoSGCLgT5PaFDP//+HgYE7HU9CUfn/UXtxA760\n",
       "wir5U4phaALuSw/wK9jIYIBfgTchK6YzFOBX0BeKmZEABJZNIPGLWhYAAAAASUVORK5CYII=\n",
       "\" style=\"display:inline;vertical-align:middle;\" /></a></span>"
      ],
      "text/plain": [
       "{alpha in Complex} |- alpha in_c Q*"
      ]
     },
     "execution_count": 14,
     "metadata": {},
     "output_type": "execute_result"
    }
   ],
   "source": [
    "InClass(alpha, QmultCodomain).prove()"
   ]
  },
  {
   "cell_type": "code",
   "execution_count": 15,
   "metadata": {},
   "outputs": [
    {
     "data": {
      "text/html": [
       "<span style=\"font-size:20px;\"><a class=\"ProveItLink\" href=\"../../../../logic/sets/cartesian_products/__pv_it/theorems/84ee59aeed12e78631ff41732d618eeba4d5229f0/expr.ipynb\"><img src=\"data:image/png;base64,iVBORw0KGgoAAAANSUhEUgAAAEYAAAATBAMAAADfQ2bzAAAAMFBMVEX///8iIiIyMjJmZmYQEBCq\n",
       "qqqYmJju7u5ERETMzMyIiIjc3NxUVFR2dna6uroAAACULOzSAAAAAXRSTlMAQObYZgAAAAlwSFlz\n",
       "AAAOxAAADsQBlSsOGwAAARJJREFUKM9jYCAADBgIgwZK1LDLd6gz8Pr74TWHI+ANA0N9AV41PNK8\n",
       "CQwsDMwdHR4dbbjURDBoMzBidw9Xo6AQWM22BZtwqOHTKoCas+Ek1wW4Gr47u2+d4rzVB5baVACz\n",
       "awMHQx9cDS9HF0N9HkMIWEob7p4NnAaFhbBwnsfSwLD/AkM+WEoBoYYhlbUFxiuof8AQX8BwAsTm\n",
       "dBQUFJSAquEpOAJ3ZzwDgxEDgxc4eBuQzGE/UAhXc4iBQZaB7zc7iC2ApIZhFgdcjS8D+z8GHoWt\n",
       "IPYqeFxMAIbVDBiP+ycD2wcGpgsXQBymAKgoI4hhBA82AQYuAwZWqw1gB514DhbklPcAkkXY44nv\n",
       "BiQuUAAA7zs7hIz3bAEAAAAASUVORK5CYII=\n",
       "\" style=\"display:inline;vertical-align:middle;\" /></a>, <a class=\"ProveItLink\" href=\"../__pv_it/demonstrations/932f704789037247f30ad02e6c8f267e6cfb2e4c0/expr.ipynb\"><img src=\"data:image/png;base64,iVBORw0KGgoAAAANSUhEUgAAAFAAAAAVBAMAAAAjqnRBAAAAMFBMVEX///9UVFREREQiIiKYmJgQ\n",
       "EBAyMjJmZmaqqqru7u7MzMyIiIi6urp2dnbc3NwAAAC+adfGAAAAAXRSTlMAQObYZgAAAAlwSFlz\n",
       "AAAOxAAADsQBlSsOGwAAAX5JREFUKM+Fkz9IAzEUxj/bq+1dvHq7CAVdBJFCQdfaza2Dk4vdVMRy\n",
       "qKNDN0EUThcFlzoUBxHOOkhFpIPVQcTQQRw6nC5WQdTRzSRNz2uQ+iCEl/zy/nxJ4EGagb9NWz06\n",
       "IZNFNNoLoaKKxOvji29Uq6UjFrEkSICYrYL1aex+2a+n6K9GqQRNNpIKF72gQMbGAEoIFyS4z8aj\n",
       "Ah6GHKDHxgzK+DAkuMHGswTKqVSOzyMhXqcb/2QxM6YEWRL0tgS4rsgDiRcx9VnI46nCQP3MBSU5\n",
       "xKhodaHds3XcUUkDZiyrp8m37Ka3LaxBrxSwGU1qHrLAmgB9Fe1bBXQiLlOHqXjA/VKKWULU+K6A\n",
       "uPdM6C6wxf0df0d03QGuoAmTaZbnftjfueE6ohoAlzGFTVaUSEjcjpshiQBY86jGDpoFsTDvh3xY\n",
       "cvbmgqmNweHL36Tbo47/emYnvCAIQ8Ralyt3Q60rVIyDRMQYQ1dryEcGPfc/SES76e7guf8VunM/\n",
       "h/FjgTPyFT0AAAAASUVORK5CYII=\n",
       "\" style=\"display:inline;vertical-align:middle;\" /></a> <a class=\"ProveItLink\" href=\"../__pv_it/demonstrations/d59211e543c83785be1967b4d33a012893711f400/proof.ipynb\" style=\"text-decoration: none\">&nbsp;&#x22A2;&nbsp;&nbsp;</a><a class=\"ProveItLink\" href=\"../__pv_it/demonstrations/5b9ac67afe96d11d02e85f261ac4e14e5a74fcb80/expr.ipynb\"><img src=\"data:image/png;base64,iVBORw0KGgoAAAANSUhEUgAAAEwAAAAdBAMAAADya5dKAAAAMFBMVEX///9UVFREREQiIiKYmJgQ\n",
       "EBAyMjJmZmaqqqru7u7MzMyIiIi6urp2dnbc3NwAAAC+adfGAAAAAXRSTlMAQObYZgAAAAlwSFlz\n",
       "AAAOxAAADsQBlSsOGwAAAZxJREFUOMvVkj1Iw0AUx/9qW/PRFFHcVCoKgoIEA4JTiyCiU8FBHISu\n",
       "IkjQVaWbIgrZXVqcdLGDUFCQLiqC0uCkUiQ4lI4tQkUQ6+Vydx2iktUH7/Hu7sd79z7ggImC3yRm\n",
       "AmV+aM/+QoWOTZthKiCZfkLqbdiIbQ0mGaYR1X1UdOxkpgHcrFoMOyT66MMKgJzIa0/PKwzbI/rK\n",
       "HtUhY9JLESempCPWxUuwiUa8oqMkhScl1wnXAMfF5EIetpqGZNPHCqew7JpIjfplaFJKTqofvIY1\n",
       "UeYnxXSGVTv1kIMUsEkv0hzTvlwbNhlmhfOkH+SUo8NYMAxjwvXaaLTTLMNQcjTIeeDAPctxHk2t\n",
       "u3YEHNtAFZrFfyW6LDe3lZeQLrB1zGGfTNiLcyG6e9RctK4tgV05dqhIvpyhF5GM4GSofNAEU/qH\n",
       "L4nXwd66b/kC3c32oYVBoQF2+MAf2LASzXfytiQwlX5g3LeO0836fKUoMI0mS/+wbz1vA62kKm1T\n",
       "En/IuVhy/ANRzuwgWA7pINhosKRTsIJg97v+Rn8DKCBn5PgEopEAAAAASUVORK5CYII=\n",
       "\" style=\"display:inline;vertical-align:middle;\" /></a></span>"
      ],
      "text/plain": [
       "{m in NaturalPos, |psi〉 in Complex^{m}} |- |psi〉 in_c Q*"
      ]
     },
     "execution_count": 15,
     "metadata": {},
     "output_type": "execute_result"
    }
   ],
   "source": [
    "InClass(ket_psi, QmultCodomain).prove()"
   ]
  },
  {
   "cell_type": "code",
   "execution_count": 16,
   "metadata": {},
   "outputs": [
    {
     "data": {
      "text/html": [
       "<span style=\"font-size:20px;\"><a class=\"ProveItLink\" href=\"../../../../numbers/number_sets/natural_numbers/__pv_it/theorems/d0faa5018b5696ae3900dfa3ef431459c4f039010/expr.ipynb\"><img src=\"data:image/png;base64,iVBORw0KGgoAAAANSUhEUgAAAEEAAAATBAMAAAA9n32KAAAAMFBMVEX///9mZmYiIiIyMjKqqqqY\n",
       "mJgQEBDMzMzu7u5ERESIiIjc3NxUVFR2dna6uroAAABonEzTAAAAAXRSTlMAQObYZgAAAAlwSFlz\n",
       "AAAOxAAADsQBlSsOGwAAAPlJREFUKM9jYMAHGBkIAU6yVTT9nNzAcO3bAzxmTOE7wMDxA58thzZc\n",
       "ZWBIYJCcOW3mzACsKo5MYN7AoIDNjJVKSgYg+nQUtwFWFY9XQBmneQrWIlTw3dl96xRYnNsCpvQ0\n",
       "wwTOB3AVvJyzGPo3gFjMGxAqCjk0FGBhWsc2gWF/AVgFA0IFq4NnAozX0P+AIR7MKlMCggkQFQwn\n",
       "eOAqGPwZGE6CGZ1IZjD0cCjAuYcZGL5ygBhMyCrYF0yAc3MZWD7wghhcC2BC04F4OVwF93cGXoNo\n",
       "MNMEJqYC8oYBjMenwMA91QHM7JnXAKaLvgH1cxhgi4+3k5QwxQHHgj1ZIOxujgAAAABJRU5ErkJg\n",
       "gg==\n",
       "\" style=\"display:inline;vertical-align:middle;\" /></a>, <a class=\"ProveItLink\" href=\"../__pv_it/demonstrations/bbf5d33edced3682aab59724695062ca64acb82c0/expr.ipynb\"><img src=\"data:image/png;base64,iVBORw0KGgoAAAANSUhEUgAAAEwAAAAVBAMAAAAeOBUnAAAAMFBMVEX///8QEBAiIiKqqqpUVFSY\n",
       "mJhmZmbu7u5EREQyMjLMzMyIiIi6urp2dnbc3NwAAADC3l7hAAAAAXRSTlMAQObYZgAAAAlwSFlz\n",
       "AAAOxAAADsQBlSsOGwAAAWNJREFUKM9jeMAABVwM2AFr6uptDAx3YFyOBegK+G5ozn51gfVgAOMD\n",
       "hDLmBHRlN0QZyr4kPN/EwF+AUMaggKaKbc8FBoaIBAZvhoNIljJcRlO2jKOAgYElgUGKIZcLSdkL\n",
       "KL1DSWkCiG7nALlvA98HBh0rJGWcEE+f3A7lNzwDUzwODHsDQMpWAeV+FDAwXwB7bzrMnw5rkVwA\n",
       "VJbAwDX1yAWoHzhhAcl14SiKMuYFDCwMDA4MDDlgZfBQSziNooyXgSEcZCTDEhB/oRIQNIDd9hZd\n",
       "2QYG9g0MDLYgfgVcBuxThDI2Bh6gtcAwmgfiM8FljoHCjeEAXFkAGwO7F9AxYKu4N6DEAncD3Kcz\n",
       "dy5NAmriNQALTIYbd3NuQfE0RICw6n+6gLCupKcAnkLk1R4glDGkgllmUJGzTZDIQgEgZVJgVh8D\n",
       "HgBUxvUBxGCfQEAZNziWuAPwKdsFdCo4eXPgUwUATsteKZUtyh8AAAAASUVORK5CYII=\n",
       "\" style=\"display:inline;vertical-align:middle;\" /></a> <a class=\"ProveItLink\" href=\"../__pv_it/demonstrations/9fc39a34c6e8a96110b6ace5de695e8af4450ddc0/proof.ipynb\" style=\"text-decoration: none\">&nbsp;&#x22A2;&nbsp;&nbsp;</a><a class=\"ProveItLink\" href=\"../__pv_it/theorems/11f8f04c3aa93287c9af3f05e09322f0f98552af0/expr.ipynb\"><img src=\"data:image/png;base64,iVBORw0KGgoAAAANSUhEUgAAAEwAAAAdBAMAAADya5dKAAAAMFBMVEX///8QEBBUVFS6urqYmJiI\n",
       "iIgyMjLu7u7MzMxmZmYiIiKqqqp2dnZERETc3NwAAACf5FhoAAAAAXRSTlMAQObYZgAAAAlwSFlz\n",
       "AAAOxAAADsQBlSsOGwAAAY5JREFUOMtjYGB4wAAFcAYa4JsAIi7AuIexq2Jpn3CAgYFnA25l3Irf\n",
       "DjDwzbnkwMDAxYBTGfPVDsdvDAyWqQUMDDtxK4tkYGBfH8Bz/EQ6A8MNdGWxq1YlgBk8IFfbL2Dg\n",
       "UwAqT0BTZhYO49sD7WJg/AAOAlag8zqAkn8LIMr40uHaZEAE2wcwG+SDCQwcKUYHIMrY4KHH/RnM\n",
       "XwDmGAH5DQxMDAwKUGVww3j+gUjGCWDOZCCfgcEdZCRYWeMqIACHOBPYtP4GsLIQsLIABvYAiLJa\n",
       "uGmsn0DkTQinjIGBk4EZaC3UC4jQZv8/j+McC8RpDLwPGDgdOBnYNaABwhoAV9f1X7LArADqH2C0\n",
       "poW1zDKAhVs2IhbYGVgnwNhAU1nW/zoAD96iywWwBGTsqQzXchqIpyBHls0taGSt//+TgYFDHCL6\n",
       "FoglsEY9n+//Tx7PDCActgIGjg+40pvWLz1Y4gxgYF2AL/VCwQUGPkhIRzAMesARcoAYZU0MCcQo\n",
       "u0GcpcsZCohRZrPbAUMMAC05Za6KhzsLAAAAAElFTkSuQmCC\n",
       "\" style=\"display:inline;vertical-align:middle;\" /></a></span>"
      ],
      "text/plain": [
       "{n in NaturalPos, |varphi〉 in Complex^{n}} |- 〈varphi| in_c Q*"
      ]
     },
     "execution_count": 16,
     "metadata": {},
     "output_type": "execute_result"
    }
   ],
   "source": [
    "InClass(Bra(varphi), QmultCodomain).prove()"
   ]
  },
  {
   "cell_type": "code",
   "execution_count": 17,
   "metadata": {},
   "outputs": [
    {
     "data": {
      "text/html": [
       "<span style=\"font-size:20px;\"><a class=\"ProveItLink\" href=\"../__pv_it/demonstrations/847ecb4d628b91a053c2379114751af7d89ba9560/expr.ipynb\"><img src=\"data:image/png;base64,iVBORw0KGgoAAAANSUhEUgAAADYAAAAQBAMAAACvnpHFAAAAMFBMVEX///9UVFSYmJgyMjJERESq\n",
       "qqoQEBDu7u66uroiIiLc3NzMzMxmZmaIiIh2dnYAAADysKFQAAAAAXRSTlMAQObYZgAAAAlwSFlz\n",
       "AAAOxAAADsQBlSsOGwAAANRJREFUGNNjYMAGuJ5Mtl39AKsUw5MkhpqPB7BK8dwA6lHBLreHpYCB\n",
       "gRFV7srMmQYg2p0FZOcFZKnm61CGwxqY0Ls7GyCOM4e5UmAflLWygT2LKwDIYF4AFeF+0ARl5TEw\n",
       "+PAWgOTgvjvQC3XvdwaGw3wg1raZQOAAtm8dRI4NyHv2HMQqgTsK7E4gqAd68z3IOgZOuFwPyH8M\n",
       "DQz8CkB9YBHeCyjhwuvAwCPAwPSeGyxkCtf42K6g1AbkvUsKPG/BIoUeBfB4yJ+zADUc+zwhYQYF\n",
       "AH6TOAHoygR1AAAAAElFTkSuQmCC\n",
       "\" style=\"display:inline;vertical-align:middle;\" /></a> <a class=\"ProveItLink\" href=\"../__pv_it/demonstrations/7c14711a3a0306d1265da389b7fddeed09eef2dc0/proof.ipynb\" style=\"text-decoration: none\">&nbsp;&#x22A2;&nbsp;&nbsp;</a><a class=\"ProveItLink\" href=\"../__pv_it/demonstrations/11a60dca052a2d7cc3bfc59514b3bba05b2ebd950/expr.ipynb\"><img src=\"data:image/png;base64,iVBORw0KGgoAAAANSUhEUgAAAEoAAAAdBAMAAAD/decNAAAAMFBMVEX///9UVFSYmJgyMjJERESq\n",
       "qqoQEBDu7u7c3NxmZma6urp2dnbMzMwiIiKIiIgAAACE+LczAAAAAXRSTlMAQObYZgAAAAlwSFlz\n",
       "AAAOxAAADsQBlSsOGwAAAV9JREFUOMtjeHuHAQz47h5gwA44JjAw7IJxuBdgV8R0fMIGvKpYxT5v\n",
       "YOCY7aiATxWX3xm1zwwMK+0K8Kl6ycDAfv8B9/Y95piqnty9awARcAAS6y8wcAhgun7xc5jA+gIg\n",
       "wfaBgaEBomr3ywMwVRzmcAuzQQTzBzAbqKp3AXsGRwBEFXMD3IO/wPwLMFVATZ58BVBVcKO4f4BI\n",
       "tglQVZzfGRgmc0NtPHYXCEDOZmAEm3X+AFQVG1Bw23aoqhK4WXwfQaQnA1RV/QYGhv0BUFW8cFXs\n",
       "/2fw7GC6AFPFrwA0C+ZHvgdwZWf/ZxYsLoCp4hRgYNrPAwsvU0TYszPwTWCAqWLY/UiBcx9MVaFX\n",
       "ASzFrNKUYkCoQo2h1b7QGLr//ycDA086dlWI1Kfy/6NO8wICqoDBL/tXgoGgKgTYC0v31/CpGgSA\n",
       "59EGIlQdZDAgQpUPUTZeZyggQtXqUAUMMQCujm8F6mO/6gAAAABJRU5ErkJggg==\n",
       "\" style=\"display:inline;vertical-align:middle;\" /></a></span>"
      ],
      "text/plain": [
       "{alpha in Complex} |- [alpha] in_c Q*"
      ]
     },
     "execution_count": 17,
     "metadata": {},
     "output_type": "execute_result"
    }
   ],
   "source": [
    "InClass(Qmult(alpha), QmultCodomain).prove()"
   ]
  },
  {
   "cell_type": "code",
   "execution_count": 18,
   "metadata": {},
   "outputs": [
    {
     "data": {
      "text/html": [
       "<span style=\"font-size:20px;\"><a class=\"ProveItLink\" href=\"../../../../logic/sets/cartesian_products/__pv_it/theorems/84ee59aeed12e78631ff41732d618eeba4d5229f0/expr.ipynb\"><img src=\"data:image/png;base64,iVBORw0KGgoAAAANSUhEUgAAAEYAAAATBAMAAADfQ2bzAAAAMFBMVEX///8iIiIyMjJmZmYQEBCq\n",
       "qqqYmJju7u5ERETMzMyIiIjc3NxUVFR2dna6uroAAACULOzSAAAAAXRSTlMAQObYZgAAAAlwSFlz\n",
       "AAAOxAAADsQBlSsOGwAAARJJREFUKM9jYCAADBgIgwZK1LDLd6gz8Pr74TWHI+ANA0N9AV41PNK8\n",
       "CQwsDMwdHR4dbbjURDBoMzBidw9Xo6AQWM22BZtwqOHTKoCas+Ek1wW4Gr47u2+d4rzVB5baVACz\n",
       "awMHQx9cDS9HF0N9HkMIWEob7p4NnAaFhbBwnsfSwLD/AkM+WEoBoYYhlbUFxiuof8AQX8BwAsTm\n",
       "dBQUFJSAquEpOAJ3ZzwDgxEDgxc4eBuQzGE/UAhXc4iBQZaB7zc7iC2ApIZhFgdcjS8D+z8GHoWt\n",
       "IPYqeFxMAIbVDBiP+ycD2wcGpgsXQBymAKgoI4hhBA82AQYuAwZWqw1gB514DhbklPcAkkXY44nv\n",
       "BiQuUAAA7zs7hIz3bAEAAAAASUVORK5CYII=\n",
       "\" style=\"display:inline;vertical-align:middle;\" /></a>, <a class=\"ProveItLink\" href=\"../__pv_it/demonstrations/932f704789037247f30ad02e6c8f267e6cfb2e4c0/expr.ipynb\"><img src=\"data:image/png;base64,iVBORw0KGgoAAAANSUhEUgAAAFAAAAAVBAMAAAAjqnRBAAAAMFBMVEX///9UVFREREQiIiKYmJgQ\n",
       "EBAyMjJmZmaqqqru7u7MzMyIiIi6urp2dnbc3NwAAAC+adfGAAAAAXRSTlMAQObYZgAAAAlwSFlz\n",
       "AAAOxAAADsQBlSsOGwAAAX5JREFUKM+Fkz9IAzEUxj/bq+1dvHq7CAVdBJFCQdfaza2Dk4vdVMRy\n",
       "qKNDN0EUThcFlzoUBxHOOkhFpIPVQcTQQRw6nC5WQdTRzSRNz2uQ+iCEl/zy/nxJ4EGagb9NWz06\n",
       "IZNFNNoLoaKKxOvji29Uq6UjFrEkSICYrYL1aex+2a+n6K9GqQRNNpIKF72gQMbGAEoIFyS4z8aj\n",
       "Ah6GHKDHxgzK+DAkuMHGswTKqVSOzyMhXqcb/2QxM6YEWRL0tgS4rsgDiRcx9VnI46nCQP3MBSU5\n",
       "xKhodaHds3XcUUkDZiyrp8m37Ka3LaxBrxSwGU1qHrLAmgB9Fe1bBXQiLlOHqXjA/VKKWULU+K6A\n",
       "uPdM6C6wxf0df0d03QGuoAmTaZbnftjfueE6ohoAlzGFTVaUSEjcjpshiQBY86jGDpoFsTDvh3xY\n",
       "cvbmgqmNweHL36Tbo47/emYnvCAIQ8Ralyt3Q60rVIyDRMQYQ1dryEcGPfc/SES76e7guf8VunM/\n",
       "h/FjgTPyFT0AAAAASUVORK5CYII=\n",
       "\" style=\"display:inline;vertical-align:middle;\" /></a> <a class=\"ProveItLink\" href=\"../__pv_it/demonstrations/951b59b14386c6d50cbb5d9035b5108cefc3ba380/proof.ipynb\" style=\"text-decoration: none\">&nbsp;&#x22A2;&nbsp;&nbsp;</a><a class=\"ProveItLink\" href=\"../__pv_it/demonstrations/e70e3cef39bd371be971aacece5b3137f3b11bdf0/expr.ipynb\"><img src=\"data:image/png;base64,iVBORw0KGgoAAAANSUhEUgAAAFgAAAAdBAMAAADcLrbYAAAAMFBMVEX///9UVFRERESYmJgQEBAy\n",
       "MjJmZmaqqqru7u7c3Ny6urp2dnbMzMwiIiKIiIgAAAA5ujhVAAAAAXRSTlMAQObYZgAAAAlwSFlz\n",
       "AAAOxAAADsQBlSsOGwAAAblJREFUOMvVk79Lw0AUx7/a1iQmBgcXFUERBEWliIiDg5OILt2siwQ3\n",
       "FcFJQR2if4AEQbp2sA46NJs/UFBwcFDM6NBiUCgKCu1QUUHq5XrJpRihjn7Je+QlH9699+4OrxkY\n",
       "YFKIkThYkgac0Kes2nP4okqFrjSTwyogaIGw0FQ0IS10RDksE7OC4Pr+68EisDejc3iL2GEQnAPE\n",
       "e1s+Oo1zeJ3YNocfstlYecV24tIWpEZfgyaxiOFGqSc3cVonLpwHDAaLORumGoNgMliKe1VMOi6S\n",
       "p+8UloVRMaq+0w4pHPFmL3zS2OJwos4KGRgF5l3YSyx/OD6scVgP22Ry5MMFgy+zRE5nqKGZb885\n",
       "jLQhQ7SBNQZvepnVguO74IMXkYBM2p5mcIMHi6U55Thk+eFZDGOVDKGdwart0TelMT2l++Fdwwwl\n",
       "STdL7pyn+A6KUDX4YaW185mtXoY3enT3aO4PtaAChrLkBMt8uw/62Hbfl97I73E/rNJE3QEHSRoo\n",
       "FUZ2kn5YptXFgs9z21dzRRkqnUH095tCdZbBi3etnDs4gX8r5dGsHr5ArHq49y9l3EGvHj5Yif74\n",
       "9g2dNIzHO+rudgAAAABJRU5ErkJggg==\n",
       "\" style=\"display:inline;vertical-align:middle;\" /></a></span>"
      ],
      "text/plain": [
       "{m in NaturalPos, |psi〉 in Complex^{m}} |- [|psi〉] in_c Q*"
      ]
     },
     "execution_count": 18,
     "metadata": {},
     "output_type": "execute_result"
    }
   ],
   "source": [
    "InClass(Qmult(ket_psi), QmultCodomain).prove()"
   ]
  },
  {
   "cell_type": "code",
   "execution_count": 19,
   "metadata": {},
   "outputs": [
    {
     "data": {
      "text/html": [
       "<span style=\"font-size:20px;\"><a class=\"ProveItLink\" href=\"../../../../numbers/number_sets/natural_numbers/__pv_it/theorems/d0faa5018b5696ae3900dfa3ef431459c4f039010/expr.ipynb\"><img src=\"data:image/png;base64,iVBORw0KGgoAAAANSUhEUgAAAEEAAAATBAMAAAA9n32KAAAAMFBMVEX///9mZmYiIiIyMjKqqqqY\n",
       "mJgQEBDMzMzu7u5ERESIiIjc3NxUVFR2dna6uroAAABonEzTAAAAAXRSTlMAQObYZgAAAAlwSFlz\n",
       "AAAOxAAADsQBlSsOGwAAAPlJREFUKM9jYMAHGBkIAU6yVTT9nNzAcO3bAzxmTOE7wMDxA58thzZc\n",
       "ZWBIYJCcOW3mzACsKo5MYN7AoIDNjJVKSgYg+nQUtwFWFY9XQBmneQrWIlTw3dl96xRYnNsCpvQ0\n",
       "wwTOB3AVvJyzGPo3gFjMGxAqCjk0FGBhWsc2gWF/AVgFA0IFq4NnAozX0P+AIR7MKlMCggkQFQwn\n",
       "eOAqGPwZGE6CGZ1IZjD0cCjAuYcZGL5ygBhMyCrYF0yAc3MZWD7wghhcC2BC04F4OVwF93cGXoNo\n",
       "MNMEJqYC8oYBjMenwMA91QHM7JnXAKaLvgH1cxhgi4+3k5QwxQHHgj1ZIOxujgAAAABJRU5ErkJg\n",
       "gg==\n",
       "\" style=\"display:inline;vertical-align:middle;\" /></a>, <a class=\"ProveItLink\" href=\"../../../../logic/sets/cartesian_products/__pv_it/theorems/84ee59aeed12e78631ff41732d618eeba4d5229f0/expr.ipynb\"><img src=\"data:image/png;base64,iVBORw0KGgoAAAANSUhEUgAAAEYAAAATBAMAAADfQ2bzAAAAMFBMVEX///8iIiIyMjJmZmYQEBCq\n",
       "qqqYmJju7u5ERETMzMyIiIjc3NxUVFR2dna6uroAAACULOzSAAAAAXRSTlMAQObYZgAAAAlwSFlz\n",
       "AAAOxAAADsQBlSsOGwAAARJJREFUKM9jYCAADBgIgwZK1LDLd6gz8Pr74TWHI+ANA0N9AV41PNK8\n",
       "CQwsDMwdHR4dbbjURDBoMzBidw9Xo6AQWM22BZtwqOHTKoCas+Ek1wW4Gr47u2+d4rzVB5baVACz\n",
       "awMHQx9cDS9HF0N9HkMIWEob7p4NnAaFhbBwnsfSwLD/AkM+WEoBoYYhlbUFxiuof8AQX8BwAsTm\n",
       "dBQUFJSAquEpOAJ3ZzwDgxEDgxc4eBuQzGE/UAhXc4iBQZaB7zc7iC2ApIZhFgdcjS8D+z8GHoWt\n",
       "IPYqeFxMAIbVDBiP+ycD2wcGpgsXQBymAKgoI4hhBA82AQYuAwZWqw1gB514DhbklPcAkkXY44nv\n",
       "BiQuUAAA7zs7hIz3bAEAAAAASUVORK5CYII=\n",
       "\" style=\"display:inline;vertical-align:middle;\" /></a>, <a class=\"ProveItLink\" href=\"../__pv_it/demonstrations/a0aa0488271b81ec08bef69d663496a5009a7f650/expr.ipynb\"><img src=\"data:image/png;base64,iVBORw0KGgoAAAANSUhEUgAAAF0AAAASBAMAAADLUc9JAAAAMFBMVEX///8QEBAiIiLu7u5ERES6\n",
       "urqYmJiIiIjMzMx2dnZUVFRmZmaqqqoyMjLc3NwAAABb1yYoAAAAAXRSTlMAQObYZgAAAAlwSFlz\n",
       "AAAOxAAADsQBlSsOGwAAAXlJREFUKM9jYCAIOhkYuBsYiAFs29qrGRjYJzBsY2DIzihfULYCKvEW\n",
       "XSXfFN3rLyawBSYwPmBgKOcsYGBIFWOQYqiCSt9HVz9FjMH614bHRQz8BgwMnNeBBpgrMHxl2AmR\n",
       "5fmPppy7dAIDQ8oGhuUMgUAe5zUgwVXAIcCgA5Ve/wBVfTcL0FiuDQwSDDs5GBgquRMYGBgb2B34\n",
       "PkD8PW8+1P/sTkq6INqZBeSHAr4PDKonQP7dw8DwHmgDm8MEsOcK6g+AlbNeN4Doc3gN4S9gqEwA\n",
       "hSdXA0MUA+8DvuVgeW6G8wmQYIIq51vQiS+YYxj6wfYw3IMKcEwIw6d+A8P7BWDGBVjobwjHo5zd\n",
       "e/d6B7CxQkpKSipg97/Eo96cgYFfAcRgdoAJgcMHt3MYmATALAWYUDQo/BkCsCpnBYYN7wcwsxwl\n",
       "ftkdsKp/CMQs/8BM3gMwwbk3DWxuY1Vu8v8yA4//X3CAMi8JhqdPee0HhBM86xRIesANAEA9Vo0y\n",
       "TAlvAAAAAElFTkSuQmCC\n",
       "\" style=\"display:inline;vertical-align:middle;\" /></a> <a class=\"ProveItLink\" href=\"../__pv_it/demonstrations/05ebc5d0691fde7da2e9b2689f2f285ecd1182a20/proof.ipynb\" style=\"text-decoration: none\">&nbsp;&#x22A2;&nbsp;&nbsp;</a><a class=\"ProveItLink\" href=\"../__pv_it/theorems/f26b7f0e356cef2c2de5b4acb375f4ccbf7775e60/expr.ipynb\"><img src=\"data:image/png;base64,iVBORw0KGgoAAAANSUhEUgAAAEwAAAAdBAMAAADya5dKAAAAMFBMVEX///8QEBDu7u5ERESYmJhU\n",
       "VFRmZmaqqqoyMjLc3Ny6urp2dnbMzMwiIiKIiIgAAAC8plohAAAAAXRSTlMAQObYZgAAAAlwSFlz\n",
       "AAAOxAAADsQBlSsOGwAAAW1JREFUOMtjeHuHAQoQLDTAmcDAsAvCnMEAZ6IDlkMJG2By/ViVsQf+\n",
       "2MDAmW3qAJVj/49NGZfdGccfDAzL+hSgcmzxE7Aoe8bAwHT/AfemPU1QuZ37D8CVPb57twHM4DYA\n",
       "EusvMHAGQOU4H7wvgClb8Qhm2HoFIMH4gYEBZhMbQ70DTEcT3E5pEMHxAcwGyy1nOL8ByuSYAPfm\n",
       "LzD/AkJZAsN8mP0ccMO4f4JIxgS4Mj6ztHgDqLKDd4EA5HYGVrBp5w/AlekxMPBfgCpThpvG9xVE\n",
       "mjHAlQHN5RWAKuOFK2P6n8mzk+UCXBmXA8RDYGV8D+Dqzv4XU1ihAFc2EUgx/4SFWzsiFpgY+BIY\n",
       "YMqU/zcxsNv/gKUCVSsFWAJa5RbFwIBwGypztS00su7//8bAwCOEQxkiOTr//+ozYwEhZcCIiP0b\n",
       "yUBYGQLsReQFKYZBD3iebCBG2VGGBmKU2RBn6SUGBWKUrS53wBADAHF5dMrCD0sQAAAAAElFTkSu\n",
       "QmCC\n",
       "\" style=\"display:inline;vertical-align:middle;\" /></a></span>"
      ],
      "text/plain": [
       "{n in NaturalPos, m in NaturalPos, A in Complex^{n x m}} |- [A] in_c Q*"
      ]
     },
     "execution_count": 19,
     "metadata": {},
     "output_type": "execute_result"
    }
   ],
   "source": [
    "InClass(Qmult(A), QmultCodomain).prove()"
   ]
  },
  {
   "cell_type": "code",
   "execution_count": 20,
   "metadata": {},
   "outputs": [
    {
     "data": {
      "text/html": [
       "<span style=\"font-size:20px;\"><a class=\"ProveItLink\" href=\"../../../../numbers/number_sets/natural_numbers/__pv_it/theorems/d0faa5018b5696ae3900dfa3ef431459c4f039010/expr.ipynb\"><img src=\"data:image/png;base64,iVBORw0KGgoAAAANSUhEUgAAAEEAAAATBAMAAAA9n32KAAAAMFBMVEX///9mZmYiIiIyMjKqqqqY\n",
       "mJgQEBDMzMzu7u5ERESIiIjc3NxUVFR2dna6uroAAABonEzTAAAAAXRSTlMAQObYZgAAAAlwSFlz\n",
       "AAAOxAAADsQBlSsOGwAAAPlJREFUKM9jYMAHGBkIAU6yVTT9nNzAcO3bAzxmTOE7wMDxA58thzZc\n",
       "ZWBIYJCcOW3mzACsKo5MYN7AoIDNjJVKSgYg+nQUtwFWFY9XQBmneQrWIlTw3dl96xRYnNsCpvQ0\n",
       "wwTOB3AVvJyzGPo3gFjMGxAqCjk0FGBhWsc2gWF/AVgFA0IFq4NnAozX0P+AIR7MKlMCggkQFQwn\n",
       "eOAqGPwZGE6CGZ1IZjD0cCjAuYcZGL5ygBhMyCrYF0yAc3MZWD7wghhcC2BC04F4OVwF93cGXoNo\n",
       "MNMEJqYC8oYBjMenwMA91QHM7JnXAKaLvgH1cxhgi4+3k5QwxQHHgj1ZIOxujgAAAABJRU5ErkJg\n",
       "gg==\n",
       "\" style=\"display:inline;vertical-align:middle;\" /></a>, <a class=\"ProveItLink\" href=\"../__pv_it/demonstrations/bbf5d33edced3682aab59724695062ca64acb82c0/expr.ipynb\"><img src=\"data:image/png;base64,iVBORw0KGgoAAAANSUhEUgAAAEwAAAAVBAMAAAAeOBUnAAAAMFBMVEX///8QEBAiIiKqqqpUVFSY\n",
       "mJhmZmbu7u5EREQyMjLMzMyIiIi6urp2dnbc3NwAAADC3l7hAAAAAXRSTlMAQObYZgAAAAlwSFlz\n",
       "AAAOxAAADsQBlSsOGwAAAWNJREFUKM9jeMAABVwM2AFr6uptDAx3YFyOBegK+G5ozn51gfVgAOMD\n",
       "hDLmBHRlN0QZyr4kPN/EwF+AUMaggKaKbc8FBoaIBAZvhoNIljJcRlO2jKOAgYElgUGKIZcLSdkL\n",
       "KL1DSWkCiG7nALlvA98HBh0rJGWcEE+f3A7lNzwDUzwODHsDQMpWAeV+FDAwXwB7bzrMnw5rkVwA\n",
       "VJbAwDX1yAWoHzhhAcl14SiKMuYFDCwMDA4MDDlgZfBQSziNooyXgSEcZCTDEhB/oRIQNIDd9hZd\n",
       "2QYG9g0MDLYgfgVcBuxThDI2Bh6gtcAwmgfiM8FljoHCjeEAXFkAGwO7F9AxYKu4N6DEAncD3Kcz\n",
       "dy5NAmriNQALTIYbd3NuQfE0RICw6n+6gLCupKcAnkLk1R4glDGkgllmUJGzTZDIQgEgZVJgVh8D\n",
       "HgBUxvUBxGCfQEAZNziWuAPwKdsFdCo4eXPgUwUATsteKZUtyh8AAAAASUVORK5CYII=\n",
       "\" style=\"display:inline;vertical-align:middle;\" /></a> <a class=\"ProveItLink\" href=\"../__pv_it/demonstrations/d71e72906ec949b122c73d723e54367df70ea37a0/proof.ipynb\" style=\"text-decoration: none\">&nbsp;&#x22A2;&nbsp;&nbsp;</a><a class=\"ProveItLink\" href=\"../__pv_it/theorems/d3f92e85e68fce18a1fa368eba8ecd40acf7edcf0/expr.ipynb\"><img src=\"data:image/png;base64,iVBORw0KGgoAAAANSUhEUgAAAFgAAAAdBAMAAADcLrbYAAAAMFBMVEX///8QEBBUVFSYmJgyMjLu\n",
       "7u5mZmaqqqpERETc3Ny6urp2dnbMzMwiIiKIiIgAAAD5J/UaAAAAAXRSTlMAQObYZgAAAAlwSFlz\n",
       "AAAOxAAADsQBlSsOGwAAAatJREFUOMtjeHuHgYFhAgMUTGAA87EBzgQGhl0gugEmsgsigAUwH03Y\n",
       "AJbjLsCrmF3xywYGzuwmA7AcLwM+xVx9Zwy/MDAs8wsAy5XhVfyMgYH1/gPurXtcwXI9WBS/uHvX\n",
       "AczgBnlo/QUGTgWwHKsDpuIlT2FC6wOABOMHcJAB5fgMGBjOAOV/BMAVc7rC9UuDCJYPMLNA/ktg\n",
       "4HFetAGumAUe8uy/wPwLMMWLgEIHGJgYGBQQiuEGc/8EkYwJMMVZQCEGBlOQ8TDFB+8CATiqmMAm\n",
       "nz8AU/wYrPgBA+sDuOIIuMl8n0BkG9z/IQwMbAxcQIcgPIiIJtb/mTw7mS/AFXNMYGAzYGNg1UEE\n",
       "Hd8DuOqz/8UClgTAFbNvYGBweXI4dwFSOLsjYpCVgS8BEQ0MQEuY7//dgBwpQV0BsKS5ykwLKc4Y\n",
       "tgNxMlp0r+6FRvf9/98YGHhE4YpnALEMroTEafH/k82UBXDFLAEMPB/wpGfdv5oIZzA/YOC7QCCn\n",
       "gMFeUJ5rYOCERNEbhrdSDEMW8DzeQLziQwwOxCvuIcUZVxkCiFe8utwAQwwA+sWM3SesxlEAAAAA\n",
       "SUVORK5CYII=\n",
       "\" style=\"display:inline;vertical-align:middle;\" /></a></span>"
      ],
      "text/plain": [
       "{n in NaturalPos, |varphi〉 in Complex^{n}} |- [〈varphi|] in_c Q*"
      ]
     },
     "execution_count": 20,
     "metadata": {},
     "output_type": "execute_result"
    }
   ],
   "source": [
    "InClass(Qmult(bra_varphi), QmultCodomain).prove()"
   ]
  },
  {
   "cell_type": "code",
   "execution_count": 21,
   "metadata": {},
   "outputs": [
    {
     "data": {
      "text/html": [
       "<span style=\"font-size:20px;\"><a class=\"ProveItLink\" href=\"../__pv_it/demonstrations/bbf5d33edced3682aab59724695062ca64acb82c0/expr.ipynb\"><img src=\"data:image/png;base64,iVBORw0KGgoAAAANSUhEUgAAAEwAAAAVBAMAAAAeOBUnAAAAMFBMVEX///8QEBAiIiKqqqpUVFSY\n",
       "mJhmZmbu7u5EREQyMjLMzMyIiIi6urp2dnbc3NwAAADC3l7hAAAAAXRSTlMAQObYZgAAAAlwSFlz\n",
       "AAAOxAAADsQBlSsOGwAAAWNJREFUKM9jeMAABVwM2AFr6uptDAx3YFyOBegK+G5ozn51gfVgAOMD\n",
       "hDLmBHRlN0QZyr4kPN/EwF+AUMaggKaKbc8FBoaIBAZvhoNIljJcRlO2jKOAgYElgUGKIZcLSdkL\n",
       "KL1DSWkCiG7nALlvA98HBh0rJGWcEE+f3A7lNzwDUzwODHsDQMpWAeV+FDAwXwB7bzrMnw5rkVwA\n",
       "VJbAwDX1yAWoHzhhAcl14SiKMuYFDCwMDA4MDDlgZfBQSziNooyXgSEcZCTDEhB/oRIQNIDd9hZd\n",
       "2QYG9g0MDLYgfgVcBuxThDI2Bh6gtcAwmgfiM8FljoHCjeEAXFkAGwO7F9AxYKu4N6DEAncD3Kcz\n",
       "dy5NAmriNQALTIYbd3NuQfE0RICw6n+6gLCupKcAnkLk1R4glDGkgllmUJGzTZDIQgEgZVJgVh8D\n",
       "HgBUxvUBxGCfQEAZNziWuAPwKdsFdCo4eXPgUwUATsteKZUtyh8AAAAASUVORK5CYII=\n",
       "\" style=\"display:inline;vertical-align:middle;\" /></a>, <a class=\"ProveItLink\" href=\"../__pv_it/demonstrations/932f704789037247f30ad02e6c8f267e6cfb2e4c0/expr.ipynb\"><img src=\"data:image/png;base64,iVBORw0KGgoAAAANSUhEUgAAAFAAAAAVBAMAAAAjqnRBAAAAMFBMVEX///9UVFREREQiIiKYmJgQ\n",
       "EBAyMjJmZmaqqqru7u7MzMyIiIi6urp2dnbc3NwAAAC+adfGAAAAAXRSTlMAQObYZgAAAAlwSFlz\n",
       "AAAOxAAADsQBlSsOGwAAAX5JREFUKM+Fkz9IAzEUxj/bq+1dvHq7CAVdBJFCQdfaza2Dk4vdVMRy\n",
       "qKNDN0EUThcFlzoUBxHOOkhFpIPVQcTQQRw6nC5WQdTRzSRNz2uQ+iCEl/zy/nxJ4EGagb9NWz06\n",
       "IZNFNNoLoaKKxOvji29Uq6UjFrEkSICYrYL1aex+2a+n6K9GqQRNNpIKF72gQMbGAEoIFyS4z8aj\n",
       "Ah6GHKDHxgzK+DAkuMHGswTKqVSOzyMhXqcb/2QxM6YEWRL0tgS4rsgDiRcx9VnI46nCQP3MBSU5\n",
       "xKhodaHds3XcUUkDZiyrp8m37Ka3LaxBrxSwGU1qHrLAmgB9Fe1bBXQiLlOHqXjA/VKKWULU+K6A\n",
       "uPdM6C6wxf0df0d03QGuoAmTaZbnftjfueE6ohoAlzGFTVaUSEjcjpshiQBY86jGDpoFsTDvh3xY\n",
       "cvbmgqmNweHL36Tbo47/emYnvCAIQ8Ralyt3Q60rVIyDRMQYQ1dryEcGPfc/SES76e7guf8VunM/\n",
       "h/FjgTPyFT0AAAAASUVORK5CYII=\n",
       "\" style=\"display:inline;vertical-align:middle;\" /></a> <a class=\"ProveItLink\" href=\"../__pv_it/demonstrations/5943e2ddb237967aece0942a2006ea27f290d3940/proof.ipynb\" style=\"text-decoration: none\">&nbsp;&#x22A2;&nbsp;&nbsp;</a><a class=\"ProveItLink\" href=\"../__pv_it/demonstrations/a9dd0ef7d48467352bc609ebe28d8cd47e33d70d0/expr.ipynb\"><img src=\"data:image/png;base64,iVBORw0KGgoAAAANSUhEUgAAAHwAAAAdBAMAAACamBVyAAAAMFBMVEX////MzMxUVFREREQiIiK6\n",
       "uroQEBCYmJhmZmYyMjLu7u52dnaqqqqIiIjc3NwAAACFAiZ1AAAAAXRSTlMAQObYZgAAAAlwSFlz\n",
       "AAAOxAAADsQBlSsOGwAAAn5JREFUOMvtlD1oFEEUx/+X+9i9vd3lcoiCCJ6glhJFwSZyxVUi3CEK\n",
       "HkGihSCKsiKRIESuiKQIynXBoLKYQiwCq5ImBEklQixOLGLSGIiNXYgRTJPzzXuzexsXba51Ft7s\n",
       "fPxm3vzfmwGwRp8uKV276P5Eg4niNsk4i5gLO9JFqdfDjkIdl/9GG/ubAbCELm43pV5g22aclk8U\n",
       "++h2AHfyhAerFcNRiVcB45hO0NnB/nvbwKVnPkwvji/EnLBkd4wm8C80WGsX5l9PI4c4vh6TwC4K\n",
       "nvNl7HO12hJBBsgMV+CWgcYuPM86v5JZIh3yHjcbq+GkYbVeboODMil4P43/8GEHanwZmH1E+Arj\n",
       "hTJHqSvBTd5og/+nBG8iNXU+0KKRCd7jJb76CjdaXb/4UD+5LfKeY5zO2QfQNg+VsGW4i+N4QLoo\n",
       "3OaJ+Wjzwo6yOYnxNcbpnPeVCyhR06zDwi2Km8l4it3cW6WiNEMf736wuBtvc6SWVB6SVtkdwmcZ\n",
       "z15R82ai3Z1NZU9L4ynjJrLkPin6XAWcDmtW3EXMx5zPRLjVeZx6Z+gEGxTcM2EdIn3ZvTOEDxi+\n",
       "XWfc4D6nHfF7Otf9hk6GN6L8k5V94ypInOB0guztAkYk7mY7cjPcH46+HLgguFHbCiIXlS29HVsT\n",
       "PCMhe3HKDy/qxdEj4UqZomTdBLc+SGiUDwf0hcU3PXPopE7aWucXxeOG3Nqm4FehTw2twGqITySe\n",
       "ibudzTvf6wiJuTC4lizPdzTQuKj5x30/vHVM/84w7nAgHLkdGJPHgvG0j38V18MnspxE6fDRilKk\n",
       "SLn7vyC1HPSCl9DqBT/em/Nn4feCD330En2/AWAWmbnuFgMBAAAAAElFTkSuQmCC\n",
       "\" style=\"display:inline;vertical-align:middle;\" /></a></span>"
      ],
      "text/plain": [
       "{|varphi〉 in Complex^{n}, |psi〉 in Complex^{m}} |- (|varphi〉 . 〈psi|) in_c Q*"
      ]
     },
     "execution_count": 21,
     "metadata": {},
     "output_type": "execute_result"
    }
   ],
   "source": [
    "InClass(Qmult(ket_varphi, bra_psi), QmultCodomain).prove()"
   ]
  },
  {
   "cell_type": "code",
   "execution_count": 22,
   "metadata": {},
   "outputs": [
    {
     "data": {
      "text/html": [
       "<span style=\"font-size:20px;\"><a class=\"ProveItLink\" href=\"../../../../numbers/number_sets/natural_numbers/__pv_it/theorems/d0faa5018b5696ae3900dfa3ef431459c4f039010/expr.ipynb\"><img src=\"data:image/png;base64,iVBORw0KGgoAAAANSUhEUgAAAEEAAAATBAMAAAA9n32KAAAAMFBMVEX///9mZmYiIiIyMjKqqqqY\n",
       "mJgQEBDMzMzu7u5ERESIiIjc3NxUVFR2dna6uroAAABonEzTAAAAAXRSTlMAQObYZgAAAAlwSFlz\n",
       "AAAOxAAADsQBlSsOGwAAAPlJREFUKM9jYMAHGBkIAU6yVTT9nNzAcO3bAzxmTOE7wMDxA58thzZc\n",
       "ZWBIYJCcOW3mzACsKo5MYN7AoIDNjJVKSgYg+nQUtwFWFY9XQBmneQrWIlTw3dl96xRYnNsCpvQ0\n",
       "wwTOB3AVvJyzGPo3gFjMGxAqCjk0FGBhWsc2gWF/AVgFA0IFq4NnAozX0P+AIR7MKlMCggkQFQwn\n",
       "eOAqGPwZGE6CGZ1IZjD0cCjAuYcZGL5ygBhMyCrYF0yAc3MZWD7wghhcC2BC04F4OVwF93cGXoNo\n",
       "MNMEJqYC8oYBjMenwMA91QHM7JnXAKaLvgH1cxhgi4+3k5QwxQHHgj1ZIOxujgAAAABJRU5ErkJg\n",
       "gg==\n",
       "\" style=\"display:inline;vertical-align:middle;\" /></a>, <a class=\"ProveItLink\" href=\"../../../../logic/sets/cartesian_products/__pv_it/theorems/84ee59aeed12e78631ff41732d618eeba4d5229f0/expr.ipynb\"><img src=\"data:image/png;base64,iVBORw0KGgoAAAANSUhEUgAAAEYAAAATBAMAAADfQ2bzAAAAMFBMVEX///8iIiIyMjJmZmYQEBCq\n",
       "qqqYmJju7u5ERETMzMyIiIjc3NxUVFR2dna6uroAAACULOzSAAAAAXRSTlMAQObYZgAAAAlwSFlz\n",
       "AAAOxAAADsQBlSsOGwAAARJJREFUKM9jYCAADBgIgwZK1LDLd6gz8Pr74TWHI+ANA0N9AV41PNK8\n",
       "CQwsDMwdHR4dbbjURDBoMzBidw9Xo6AQWM22BZtwqOHTKoCas+Ek1wW4Gr47u2+d4rzVB5baVACz\n",
       "awMHQx9cDS9HF0N9HkMIWEob7p4NnAaFhbBwnsfSwLD/AkM+WEoBoYYhlbUFxiuof8AQX8BwAsTm\n",
       "dBQUFJSAquEpOAJ3ZzwDgxEDgxc4eBuQzGE/UAhXc4iBQZaB7zc7iC2ApIZhFgdcjS8D+z8GHoWt\n",
       "IPYqeFxMAIbVDBiP+ycD2wcGpgsXQBymAKgoI4hhBA82AQYuAwZWqw1gB514DhbklPcAkkXY44nv\n",
       "BiQuUAAA7zs7hIz3bAEAAAAASUVORK5CYII=\n",
       "\" style=\"display:inline;vertical-align:middle;\" /></a>, <a class=\"ProveItLink\" href=\"../__pv_it/demonstrations/7018668c2225e47ce49c7829a3cfaa7e336348c90/expr.ipynb\"><img src=\"data:image/png;base64,iVBORw0KGgoAAAANSUhEUgAAAGAAAAASBAMAAABWXMbBAAAAMFBMVEX///8iIiLu7u52dna6uroQ\n",
       "EBBmZmbMzMyqqqqYmJjc3NwyMjJUVFRERESIiIgAAABmmfmVAAAAAXRSTlMAQObYZgAAAAlwSFlz\n",
       "AAAOxAAADsQBlSsOGwAAAXtJREFUKM9jYCAGsBswMKQTo5Azs+4N35wCBobHDGwTQLxnOJVy2Urv\n",
       "W27A6TqB9QDfAQYGvgd2QO1A3gKg3Nv/d87uWYCmwTaSQe1PwqKHDPwObED3MFg/YGAA8RRAkr+B\n",
       "mn+gqmd7AlQ1N4HhHEMpA2MDSMMEIHGOwRXso39AIhVVQxkv0CieBIZwhrcM69mBTjLIBIqGMyQD\n",
       "2Qx834GE/wSwQr6LgtIg+hIvyB8PuD4ATZ3LDPZ0AwOQJ9IOFOf9ACTWgxzKwLJPAWLDhWVgiuUA\n",
       "wy6GNY/AwXocxHsMMpf/AsiGAyAFq6HquQ4U4wnsemAAMLwH27ALHlGeeDS8B0YMw3kHEHMDLBYS\n",
       "/PBouA8ivoINDhQUFJQF+2ExHg1/QWngJ4jFdAEmBg4lXAkLFA2qEKUCMEE3UDwwOGDVAIoGpt0Q\n",
       "9juUmOa7gFUDNzAaHBOg7AaYqPVmBY1tWNXz7P9z5m4WlMN01gmeWuPFFhCRAVhsIUkDNwAAk1xh\n",
       "S3w/Lp8AAAAASUVORK5CYII=\n",
       "\" style=\"display:inline;vertical-align:middle;\" /></a>, <a class=\"ProveItLink\" href=\"../__pv_it/demonstrations/bbf5d33edced3682aab59724695062ca64acb82c0/expr.ipynb\"><img src=\"data:image/png;base64,iVBORw0KGgoAAAANSUhEUgAAAEwAAAAVBAMAAAAeOBUnAAAAMFBMVEX///8QEBAiIiKqqqpUVFSY\n",
       "mJhmZmbu7u5EREQyMjLMzMyIiIi6urp2dnbc3NwAAADC3l7hAAAAAXRSTlMAQObYZgAAAAlwSFlz\n",
       "AAAOxAAADsQBlSsOGwAAAWNJREFUKM9jeMAABVwM2AFr6uptDAx3YFyOBegK+G5ozn51gfVgAOMD\n",
       "hDLmBHRlN0QZyr4kPN/EwF+AUMaggKaKbc8FBoaIBAZvhoNIljJcRlO2jKOAgYElgUGKIZcLSdkL\n",
       "KL1DSWkCiG7nALlvA98HBh0rJGWcEE+f3A7lNzwDUzwODHsDQMpWAeV+FDAwXwB7bzrMnw5rkVwA\n",
       "VJbAwDX1yAWoHzhhAcl14SiKMuYFDCwMDA4MDDlgZfBQSziNooyXgSEcZCTDEhB/oRIQNIDd9hZd\n",
       "2QYG9g0MDLYgfgVcBuxThDI2Bh6gtcAwmgfiM8FljoHCjeEAXFkAGwO7F9AxYKu4N6DEAncD3Kcz\n",
       "dy5NAmriNQALTIYbd3NuQfE0RICw6n+6gLCupKcAnkLk1R4glDGkgllmUJGzTZDIQgEgZVJgVh8D\n",
       "HgBUxvUBxGCfQEAZNziWuAPwKdsFdCo4eXPgUwUATsteKZUtyh8AAAAASUVORK5CYII=\n",
       "\" style=\"display:inline;vertical-align:middle;\" /></a> <a class=\"ProveItLink\" href=\"../__pv_it/demonstrations/c1c1e55cb9d0f259d6409f75ad0fd56db86f1b9e0/proof.ipynb\" style=\"text-decoration: none\">&nbsp;&#x22A2;&nbsp;&nbsp;</a><a class=\"ProveItLink\" href=\"../__pv_it/demonstrations/984819e62b4fcaad08cc23dd913f1686804fd2170/expr.ipynb\"><img src=\"data:image/png;base64,iVBORw0KGgoAAAANSUhEUgAAAHIAAAAdBAMAAACEUSXBAAAAMFBMVEX////MzMxUVFREREQiIiK6\n",
       "uroQEBCYmJhmZmYyMjLu7u52dnaqqqqIiIjc3NwAAACFAiZ1AAAAAXRSTlMAQObYZgAAAAlwSFlz\n",
       "AAAOxAAADsQBlSsOGwAAAkhJREFUOMvlUztoFGEQ/jb33r1dNyIKguR8liZEBRGiV1wpXpAoHhbB\n",
       "QhBtTgJitNnCRxEMYhMSfCwGrNeAjQSxEBRsTtKoCDlIZeV5iY+AZp2Zf3eT3RiLa/3hH2aG+eY9\n",
       "AJpY8yJBo29ho2c5RMyXa1XPQiZlA5nGBsDcdscD3hI35/fvvteMIYvs9dN6UHHfsgdrrL8O/S7L\n",
       "y+TnVwyJMv2CmwRmBrqvkPGZBy7ydS7qN5FbceQsZ+Ukke8Bvdownj+dQpZl8yuR4XoMucDkouLn\n",
       "KhVJDUYfG5ZhlYCatKNF5IsXQxa47glhax9D5TCnn23JDMZYsUlclRSym0wXXRTZ0YyMYCpyd0l8\n",
       "toQXrz3c/vkgpgNt4qSnWjQaRVeN/SZyWYTjTOZpeOgdFGTRRhdA8W+S+Eoso5DGCtOs6tt5JseY\n",
       "fFe9NYBrHBibORnWba3Q43rQJTF77FXkIk/gR4RsQG+oFTnNuukoptlmelgJ98NxPulTyDwylC/1\n",
       "8GGYbTpC6v649iKnysRAME59MtjbfD0PfSd1lD2NSKTV9d3iX3BrwWLNBG0ecsKNn/yw7QY1y+BL\n",
       "uBPlFUaFGe7VENX9qL3rwHh0K7nqkhfmeEKUjw+F+2uduro3dJK2kbyy28K9YcOgpLMHg+2r+j+p\n",
       "LWonE0vNyHPCHaUv5xC76BG/ffnzICKLGFKT5ZLrW/jLfe5Z2h+w00mkKSmaHO4I/vWsWEbvSCGV\n",
       "p7iSJv6vt+N6h0CtVOgQmbI7TTbt6h0iM7Ov1yv/AIPbjD4KTocjAAAAAElFTkSuQmCC\n",
       "\" style=\"display:inline;vertical-align:middle;\" /></a></span>"
      ],
      "text/plain": [
       "{n in NaturalPos, m in NaturalPos, D in Complex^{m x n}, |varphi〉 in Complex^{n}} |- (D . |varphi〉) in_c Q*"
      ]
     },
     "execution_count": 22,
     "metadata": {},
     "output_type": "execute_result"
    }
   ],
   "source": [
    "InClass(Qmult(D, ket_varphi), QmultCodomain).prove()"
   ]
  },
  {
   "cell_type": "code",
   "execution_count": 23,
   "metadata": {},
   "outputs": [
    {
     "data": {
      "text/html": [
       "<span style=\"font-size:20px;\"><a class=\"ProveItLink\" href=\"../../../../logic/sets/cartesian_products/__pv_it/theorems/84ee59aeed12e78631ff41732d618eeba4d5229f0/expr.ipynb\"><img src=\"data:image/png;base64,iVBORw0KGgoAAAANSUhEUgAAAEYAAAATBAMAAADfQ2bzAAAAMFBMVEX///8iIiIyMjJmZmYQEBCq\n",
       "qqqYmJju7u5ERETMzMyIiIjc3NxUVFR2dna6uroAAACULOzSAAAAAXRSTlMAQObYZgAAAAlwSFlz\n",
       "AAAOxAAADsQBlSsOGwAAARJJREFUKM9jYCAADBgIgwZK1LDLd6gz8Pr74TWHI+ANA0N9AV41PNK8\n",
       "CQwsDMwdHR4dbbjURDBoMzBidw9Xo6AQWM22BZtwqOHTKoCas+Ek1wW4Gr47u2+d4rzVB5baVACz\n",
       "awMHQx9cDS9HF0N9HkMIWEob7p4NnAaFhbBwnsfSwLD/AkM+WEoBoYYhlbUFxiuof8AQX8BwAsTm\n",
       "dBQUFJSAquEpOAJ3ZzwDgxEDgxc4eBuQzGE/UAhXc4iBQZaB7zc7iC2ApIZhFgdcjS8D+z8GHoWt\n",
       "IPYqeFxMAIbVDBiP+ycD2wcGpgsXQBymAKgoI4hhBA82AQYuAwZWqw1gB514DhbklPcAkkXY44nv\n",
       "BiQuUAAA7zs7hIz3bAEAAAAASUVORK5CYII=\n",
       "\" style=\"display:inline;vertical-align:middle;\" /></a>, <a class=\"ProveItLink\" href=\"../__pv_it/demonstrations/932f704789037247f30ad02e6c8f267e6cfb2e4c0/expr.ipynb\"><img src=\"data:image/png;base64,iVBORw0KGgoAAAANSUhEUgAAAFAAAAAVBAMAAAAjqnRBAAAAMFBMVEX///9UVFREREQiIiKYmJgQ\n",
       "EBAyMjJmZmaqqqru7u7MzMyIiIi6urp2dnbc3NwAAAC+adfGAAAAAXRSTlMAQObYZgAAAAlwSFlz\n",
       "AAAOxAAADsQBlSsOGwAAAX5JREFUKM+Fkz9IAzEUxj/bq+1dvHq7CAVdBJFCQdfaza2Dk4vdVMRy\n",
       "qKNDN0EUThcFlzoUBxHOOkhFpIPVQcTQQRw6nC5WQdTRzSRNz2uQ+iCEl/zy/nxJ4EGagb9NWz06\n",
       "IZNFNNoLoaKKxOvji29Uq6UjFrEkSICYrYL1aex+2a+n6K9GqQRNNpIKF72gQMbGAEoIFyS4z8aj\n",
       "Ah6GHKDHxgzK+DAkuMHGswTKqVSOzyMhXqcb/2QxM6YEWRL0tgS4rsgDiRcx9VnI46nCQP3MBSU5\n",
       "xKhodaHds3XcUUkDZiyrp8m37Ka3LaxBrxSwGU1qHrLAmgB9Fe1bBXQiLlOHqXjA/VKKWULU+K6A\n",
       "uPdM6C6wxf0df0d03QGuoAmTaZbnftjfueE6ohoAlzGFTVaUSEjcjpshiQBY86jGDpoFsTDvh3xY\n",
       "cvbmgqmNweHL36Tbo47/emYnvCAIQ8Ralyt3Q60rVIyDRMQYQ1dryEcGPfc/SES76e7guf8VunM/\n",
       "h/FjgTPyFT0AAAAASUVORK5CYII=\n",
       "\" style=\"display:inline;vertical-align:middle;\" /></a> <a class=\"ProveItLink\" href=\"../__pv_it/demonstrations/6a90fbcd6eda31bb4b0e64a507a336ccf18796380/proof.ipynb\" style=\"text-decoration: none\">&nbsp;&#x22A2;&nbsp;&nbsp;</a><a class=\"ProveItLink\" href=\"../__pv_it/demonstrations/bc8aa5c0182660e7e7be2b0e0cb97ce99d4b97590/expr.ipynb\"><img src=\"data:image/png;base64,iVBORw0KGgoAAAANSUhEUgAAAHwAAAAdBAMAAACamBVyAAAAMFBMVEX////MzMxUVFREREQiIiK6\n",
       "uroQEBCYmJhmZmYyMjLu7u52dnaqqqqIiIjc3NwAAACFAiZ1AAAAAXRSTlMAQObYZgAAAAlwSFlz\n",
       "AAAOxAAADsQBlSsOGwAAAlVJREFUOMvtlD9oFEEUxr/Vy21u93Y5g1jYxEJtBDGiKELCFVeJmCAa\n",
       "PFIkjSDanARErQ7UKijXBYLKopWFsAo2InKCgqDFikWCiCykElKEoGAsPN978+duEmNzrQMzzO/t\n",
       "fDNv37w3AHKoLi1HL3nUY2zV4iYNUZsmh4zpuR24ba8AA9kWan93MwXe0yxsM0eunLDM+3/ZrCzv\n",
       "X08Rzx1uIGgRFsQYunLGKvVSslE9MLrj6jpw/n6CwQbxO7E+ceWML9nJ5kb5EhCMZ+GLpwsoMo+I\n",
       "9bUrZ1zmySUl+lSrtZRbHKnpKuI9QJ2mgTKnrpyxxJcwL1j/bA6f5r8prsoNzXGQKARLGdKoZeQG\n",
       "y7zHM7mlBev7ZR5KqzKfV5ELyzNBI/pl5AYldtdh/FBh/yFcFThF/QywMlj1c8wYuUHcJnwjy+3h\n",
       "4W8eiyqgFyBrkmJGF9U0coMYIhxm264aNcmubXL6cMXKFzkeeYggs6HTKEk1ybZH9vRojcfjCu5R\n",
       "f0z9FlYQJlauEQ+M8wUrDzp3vVe++nWMcmpTWG7iBt52L06jFMOsnNlN/Z2di0ldpyLfCl/PZJ76\n",
       "E125RimGO9ZNcz4ik4lnoVLbO3Dsa0/aaBSXT8vCh0dN7sfnru0zOxUqOrW9tlOwCrkYYv2bU0d0\n",
       "0o53ftJ3lcpSEJzaUeLIFY5Rl6JynonZztqVbxMKxnRNhu5zISjFsPyXet/7/aCe8oX6mXosek+H\n",
       "KgbgBP7VYl5iH6uPdpDHirfO8b95i2k/8iG0+pGP9Of8SST9yKc+NDbZ/gAS/qv9XgHzFwAAAABJ\n",
       "RU5ErkJggg==\n",
       "\" style=\"display:inline;vertical-align:middle;\" /></a></span>"
      ],
      "text/plain": [
       "{m in NaturalPos, |psi〉 in Complex^{m}} |- (〈psi| . |psi〉) in_c Q*"
      ]
     },
     "execution_count": 23,
     "metadata": {},
     "output_type": "execute_result"
    }
   ],
   "source": [
    "InClass(Qmult(bra_psi, ket_psi), QmultCodomain).prove()"
   ]
  },
  {
   "cell_type": "code",
   "execution_count": 24,
   "metadata": {},
   "outputs": [
    {
     "data": {
      "text/html": [
       "<span style=\"font-size:20px;\"><a class=\"ProveItLink\" href=\"../__pv_it/demonstrations/847ecb4d628b91a053c2379114751af7d89ba9560/expr.ipynb\"><img src=\"data:image/png;base64,iVBORw0KGgoAAAANSUhEUgAAADYAAAAQBAMAAACvnpHFAAAAMFBMVEX///9UVFSYmJgyMjJERESq\n",
       "qqoQEBDu7u66uroiIiLc3NzMzMxmZmaIiIh2dnYAAADysKFQAAAAAXRSTlMAQObYZgAAAAlwSFlz\n",
       "AAAOxAAADsQBlSsOGwAAANRJREFUGNNjYMAGuJ5Mtl39AKsUw5MkhpqPB7BK8dwA6lHBLreHpYCB\n",
       "gRFV7srMmQYg2p0FZOcFZKnm61CGwxqY0Ls7GyCOM4e5UmAflLWygT2LKwDIYF4AFeF+0ARl5TEw\n",
       "+PAWgOTgvjvQC3XvdwaGw3wg1raZQOAAtm8dRI4NyHv2HMQqgTsK7E4gqAd68z3IOgZOuFwPyH8M\n",
       "DQz8CkB9YBHeCyjhwuvAwCPAwPSeGyxkCtf42K6g1AbkvUsKPG/BIoUeBfB4yJ+zADUc+zwhYQYF\n",
       "AH6TOAHoygR1AAAAAElFTkSuQmCC\n",
       "\" style=\"display:inline;vertical-align:middle;\" /></a>, <a class=\"ProveItLink\" href=\"../../../../numbers/number_sets/natural_numbers/__pv_it/theorems/d0faa5018b5696ae3900dfa3ef431459c4f039010/expr.ipynb\"><img src=\"data:image/png;base64,iVBORw0KGgoAAAANSUhEUgAAAEEAAAATBAMAAAA9n32KAAAAMFBMVEX///9mZmYiIiIyMjKqqqqY\n",
       "mJgQEBDMzMzu7u5ERESIiIjc3NxUVFR2dna6uroAAABonEzTAAAAAXRSTlMAQObYZgAAAAlwSFlz\n",
       "AAAOxAAADsQBlSsOGwAAAPlJREFUKM9jYMAHGBkIAU6yVTT9nNzAcO3bAzxmTOE7wMDxA58thzZc\n",
       "ZWBIYJCcOW3mzACsKo5MYN7AoIDNjJVKSgYg+nQUtwFWFY9XQBmneQrWIlTw3dl96xRYnNsCpvQ0\n",
       "wwTOB3AVvJyzGPo3gFjMGxAqCjk0FGBhWsc2gWF/AVgFA0IFq4NnAozX0P+AIR7MKlMCggkQFQwn\n",
       "eOAqGPwZGE6CGZ1IZjD0cCjAuYcZGL5ygBhMyCrYF0yAc3MZWD7wghhcC2BC04F4OVwF93cGXoNo\n",
       "MNMEJqYC8oYBjMenwMA91QHM7JnXAKaLvgH1cxhgi4+3k5QwxQHHgj1ZIOxujgAAAABJRU5ErkJg\n",
       "gg==\n",
       "\" style=\"display:inline;vertical-align:middle;\" /></a>, <a class=\"ProveItLink\" href=\"../../../../logic/sets/cartesian_products/__pv_it/theorems/84ee59aeed12e78631ff41732d618eeba4d5229f0/expr.ipynb\"><img src=\"data:image/png;base64,iVBORw0KGgoAAAANSUhEUgAAAEYAAAATBAMAAADfQ2bzAAAAMFBMVEX///8iIiIyMjJmZmYQEBCq\n",
       "qqqYmJju7u5ERETMzMyIiIjc3NxUVFR2dna6uroAAACULOzSAAAAAXRSTlMAQObYZgAAAAlwSFlz\n",
       "AAAOxAAADsQBlSsOGwAAARJJREFUKM9jYCAADBgIgwZK1LDLd6gz8Pr74TWHI+ANA0N9AV41PNK8\n",
       "CQwsDMwdHR4dbbjURDBoMzBidw9Xo6AQWM22BZtwqOHTKoCas+Ek1wW4Gr47u2+d4rzVB5baVACz\n",
       "awMHQx9cDS9HF0N9HkMIWEob7p4NnAaFhbBwnsfSwLD/AkM+WEoBoYYhlbUFxiuof8AQX8BwAsTm\n",
       "dBQUFJSAquEpOAJ3ZzwDgxEDgxc4eBuQzGE/UAhXc4iBQZaB7zc7iC2ApIZhFgdcjS8D+z8GHoWt\n",
       "IPYqeFxMAIbVDBiP+ycD2wcGpgsXQBymAKgoI4hhBA82AQYuAwZWqw1gB514DhbklPcAkkXY44nv\n",
       "BiQuUAAA7zs7hIz3bAEAAAAASUVORK5CYII=\n",
       "\" style=\"display:inline;vertical-align:middle;\" /></a>, <a class=\"ProveItLink\" href=\"../__pv_it/demonstrations/a0aa0488271b81ec08bef69d663496a5009a7f650/expr.ipynb\"><img src=\"data:image/png;base64,iVBORw0KGgoAAAANSUhEUgAAAF0AAAASBAMAAADLUc9JAAAAMFBMVEX///8QEBAiIiLu7u5ERES6\n",
       "urqYmJiIiIjMzMx2dnZUVFRmZmaqqqoyMjLc3NwAAABb1yYoAAAAAXRSTlMAQObYZgAAAAlwSFlz\n",
       "AAAOxAAADsQBlSsOGwAAAXlJREFUKM9jYCAIOhkYuBsYiAFs29qrGRjYJzBsY2DIzihfULYCKvEW\n",
       "XSXfFN3rLyawBSYwPmBgKOcsYGBIFWOQYqiCSt9HVz9FjMH614bHRQz8BgwMnNeBBpgrMHxl2AmR\n",
       "5fmPppy7dAIDQ8oGhuUMgUAe5zUgwVXAIcCgA5Ve/wBVfTcL0FiuDQwSDDs5GBgquRMYGBgb2B34\n",
       "PkD8PW8+1P/sTkq6INqZBeSHAr4PDKonQP7dw8DwHmgDm8MEsOcK6g+AlbNeN4Doc3gN4S9gqEwA\n",
       "hSdXA0MUA+8DvuVgeW6G8wmQYIIq51vQiS+YYxj6wfYw3IMKcEwIw6d+A8P7BWDGBVjobwjHo5zd\n",
       "e/d6B7CxQkpKSipg97/Eo96cgYFfAcRgdoAJgcMHt3MYmATALAWYUDQo/BkCsCpnBYYN7wcwsxwl\n",
       "ftkdsKp/CMQs/8BM3gMwwbk3DWxuY1Vu8v8yA4//X3CAMi8JhqdPee0HhBM86xRIesANAEA9Vo0y\n",
       "TAlvAAAAAElFTkSuQmCC\n",
       "\" style=\"display:inline;vertical-align:middle;\" /></a> <a class=\"ProveItLink\" href=\"../__pv_it/demonstrations/52605da3bcd3ac20cdf70f65d88b8867bebf9e3e0/proof.ipynb\" style=\"text-decoration: none\">&nbsp;&#x22A2;&nbsp;&nbsp;</a><a class=\"ProveItLink\" href=\"../__pv_it/demonstrations/bb8b4581dde0248f69c3b16a3e9c71d84bb9ad430/expr.ipynb\"><img src=\"data:image/png;base64,iVBORw0KGgoAAAANSUhEUgAAAGAAAAAdBAMAAACnCnQUAAAAMFBMVEX////MzMxUVFREREQiIiK6\n",
       "uroQEBCYmJhmZmYyMjLu7u52dnaqqqqIiIjc3NwAAACFAiZ1AAAAAXRSTlMAQObYZgAAAAlwSFlz\n",
       "AAAOxAAADsQBlSsOGwAAAexJREFUOMvdU00oRFEU/gbz98Z7hqxsRvlZ+stiUpgyGxIWyF+xoETp\n",
       "aUrsZkkiOyU/U9YyKAtiLOwos2NBFCkrEoWF59x733t681Czdeuezrnn537nu+cCuEHKUvDbUqIk\n",
       "5CPL2QPgTP4S7y6IxoET6+Ea7Ut7bHbpexzKbJUKacHq0Eh4Y6nxztrciXegayUGj2rxeMqpJXc0\n",
       "NeECkFqTvr2tJbisnsOEn+SIMOTqcCNXfBUk+kNQCoFuKw3Ja8bBosCxYkDrZ4rriTM6yw72L/w6\n",
       "IpwxiNuCMLOVUSa8T1xnxe7apDGFs9uHABGHKe5aNZl45QkhbjSLAkGZl4vikWDimLtM/nyfTLoE\n",
       "FUOE4wOY8fEug9PlrL8AMxyD4XC4gWkZ/IaA30hwUczuHjM2gBx2cSczpArjBvmZyaAwloFNgp04\n",
       "EoiQNWBCChkJkjbvOHTrZi0VJWJ2OY+qzkWEu65MtvO14Vi3zhkx6CmEO+Eg/Z52Jmtwjru832Mp\n",
       "QTZev509w7nqOQDWtSVk19OQoUVEFfUY79kxWWLkZvl/GHsdrnNHH41W7Y1YEwNjHzSkDiRViGjP\n",
       "4w9twqizJ9z+8B+KX8p0dd3urcFfS1FtP/EG/2c5zuPpJeRhIb2EynQhNSGWXkLvqe2N8AVY5HEh\n",
       "eMIw6QAAAABJRU5ErkJggg==\n",
       "\" style=\"display:inline;vertical-align:middle;\" /></a></span>"
      ],
      "text/plain": [
       "{alpha in Complex, n in NaturalPos, m in NaturalPos, A in Complex^{n x m}} |- (alpha . A) in_c Q*"
      ]
     },
     "execution_count": 24,
     "metadata": {},
     "output_type": "execute_result"
    }
   ],
   "source": [
    "InClass(Qmult(alpha, A), QmultCodomain).prove()"
   ]
  },
  {
   "cell_type": "code",
   "execution_count": 25,
   "metadata": {
    "scrolled": true
   },
   "outputs": [
    {
     "data": {
      "text/html": [
       "<span style=\"font-size:20px;\"><a class=\"ProveItLink\" href=\"../../../../numbers/number_sets/natural_numbers/__pv_it/theorems/d0faa5018b5696ae3900dfa3ef431459c4f039010/expr.ipynb\"><img src=\"data:image/png;base64,iVBORw0KGgoAAAANSUhEUgAAAEEAAAATBAMAAAA9n32KAAAAMFBMVEX///9mZmYiIiIyMjKqqqqY\n",
       "mJgQEBDMzMzu7u5ERESIiIjc3NxUVFR2dna6uroAAABonEzTAAAAAXRSTlMAQObYZgAAAAlwSFlz\n",
       "AAAOxAAADsQBlSsOGwAAAPlJREFUKM9jYMAHGBkIAU6yVTT9nNzAcO3bAzxmTOE7wMDxA58thzZc\n",
       "ZWBIYJCcOW3mzACsKo5MYN7AoIDNjJVKSgYg+nQUtwFWFY9XQBmneQrWIlTw3dl96xRYnNsCpvQ0\n",
       "wwTOB3AVvJyzGPo3gFjMGxAqCjk0FGBhWsc2gWF/AVgFA0IFq4NnAozX0P+AIR7MKlMCggkQFQwn\n",
       "eOAqGPwZGE6CGZ1IZjD0cCjAuYcZGL5ygBhMyCrYF0yAc3MZWD7wghhcC2BC04F4OVwF93cGXoNo\n",
       "MNMEJqYC8oYBjMenwMA91QHM7JnXAKaLvgH1cxhgi4+3k5QwxQHHgj1ZIOxujgAAAABJRU5ErkJg\n",
       "gg==\n",
       "\" style=\"display:inline;vertical-align:middle;\" /></a>, <a class=\"ProveItLink\" href=\"../__pv_it/demonstrations/bbf5d33edced3682aab59724695062ca64acb82c0/expr.ipynb\"><img src=\"data:image/png;base64,iVBORw0KGgoAAAANSUhEUgAAAEwAAAAVBAMAAAAeOBUnAAAAMFBMVEX///8QEBAiIiKqqqpUVFSY\n",
       "mJhmZmbu7u5EREQyMjLMzMyIiIi6urp2dnbc3NwAAADC3l7hAAAAAXRSTlMAQObYZgAAAAlwSFlz\n",
       "AAAOxAAADsQBlSsOGwAAAWNJREFUKM9jeMAABVwM2AFr6uptDAx3YFyOBegK+G5ozn51gfVgAOMD\n",
       "hDLmBHRlN0QZyr4kPN/EwF+AUMaggKaKbc8FBoaIBAZvhoNIljJcRlO2jKOAgYElgUGKIZcLSdkL\n",
       "KL1DSWkCiG7nALlvA98HBh0rJGWcEE+f3A7lNzwDUzwODHsDQMpWAeV+FDAwXwB7bzrMnw5rkVwA\n",
       "VJbAwDX1yAWoHzhhAcl14SiKMuYFDCwMDA4MDDlgZfBQSziNooyXgSEcZCTDEhB/oRIQNIDd9hZd\n",
       "2QYG9g0MDLYgfgVcBuxThDI2Bh6gtcAwmgfiM8FljoHCjeEAXFkAGwO7F9AxYKu4N6DEAncD3Kcz\n",
       "dy5NAmriNQALTIYbd3NuQfE0RICw6n+6gLCupKcAnkLk1R4glDGkgllmUJGzTZDIQgEgZVJgVh8D\n",
       "HgBUxvUBxGCfQEAZNziWuAPwKdsFdCo4eXPgUwUATsteKZUtyh8AAAAASUVORK5CYII=\n",
       "\" style=\"display:inline;vertical-align:middle;\" /></a>, <a class=\"ProveItLink\" href=\"../__pv_it/demonstrations/9776b868029321ad4d7f2b3c1f048f5554e92b8f0/expr.ipynb\"><img src=\"data:image/png;base64,iVBORw0KGgoAAAANSUhEUgAAADQAAAAUBAMAAAAw+gPuAAAAMFBMVEX///8yMjJmZmaIiIjMzMzc\n",
       "3Nx2dnZUVFQQEBCYmJi6urru7u5EREQiIiKqqqoAAAAmNEGZAAAAAXRSTlMAQObYZgAAAAlwSFlz\n",
       "AAAOxAAADsQBlSsOGwAAAM9JREFUKM9jYMACWHMuCockYJNhyOlk2PRdAZsMkxVQxxysUk48GxgY\n",
       "2FGkbO7eFQDRp3lA9hkgySy0hjIOBEEZb/9sYFgNUiYNc1+BG4TB2Z5bwAByKGMAVIolYSWEEcPA\n",
       "cITlAUgK7iuFxRAG0ILNbCCGx10gOAC2KwxuP1swiNwD54NdCJXKBpG8cP4ikL8YFoClwL5jNkAJ\n",
       "DWaw2UwOYBE5uLZEsQ37hMAsdojA9lMb4CHffykAWYph2VlIQCEBZwacwAq3VAFuqQDswgBkzi1X\n",
       "2dcTkQAAAABJRU5ErkJggg==\n",
       "\" style=\"display:inline;vertical-align:middle;\" /></a> <a class=\"ProveItLink\" href=\"../__pv_it/demonstrations/b2241729fdef3e78562f7b2953ca211ae1c30be30/proof.ipynb\" style=\"text-decoration: none\">&nbsp;&#x22A2;&nbsp;&nbsp;</a><a class=\"ProveItLink\" href=\"../__pv_it/demonstrations/c045489a53b8a5d75f3012c61da83422a32079920/expr.ipynb\"><img src=\"data:image/png;base64,iVBORw0KGgoAAAANSUhEUgAAAIoAAAAdBAMAAACHyumsAAAAMFBMVEX////MzMxUVFREREQiIiK6\n",
       "uroQEBCYmJhmZmYyMjLu7u52dnaqqqqIiIjc3NwAAACFAiZ1AAAAAXRSTlMAQObYZgAAAAlwSFlz\n",
       "AAAOxAAADsQBlSsOGwAAAqVJREFUOMvtVE1oE1EQ/rZtsukmWbYiioI0gnpQkFQUpFDJIV5UTC0q\n",
       "xh6KQkHqJaUq1dMelB6KEk/FYnWpJw/CKnopIhV6EPQQUYmKh4gnD0KoFezFdOa93be76c8pRwfe\n",
       "25n3872Zb2YWQA1yCGHF9A1YSgstNotp05SeJyXrL72gkez3rZ7gbKyyDoi+3XaBt3xvfm2UN6HT\n",
       "31YDpPYsuzAnD5RglMnswNooHaErnU4zSKyv69oycG7GQaIUeTOKEvhIntvNKJ8Bo1BJzj2dRjwa\n",
       "fxQl4ItkRH4+5PNl+QRvDuVgZoAiqUZ5HRQ8CKFMibn41beHOMR4XeR1ktNEUXXRgd+Oj6JZiD3s\n",
       "ldRjgdbPA8+Ed9MK9bJgq65eYBJtaFMDro+SALZd3Sd39IvPM6BkXhe3VGWl/gg7J4wTNAZozUIb\n",
       "kPFRXrNOCwkK7gfxphHNC+KWciX5j+e45HyYxi1aA26wQx6KC91hhzRijoh4Qtvo5uNb8iSC8zbh\n",
       "S7elUKoCpQKjEqCk6S656Mp3f9F0lrVHypf0Is+HpXGfxmNyHTGKSbFr4xSwV9GQnIMXUVCHRuOO\n",
       "9kqXtKCPRnuNii8BY6fK9AThzFqCE4HC0Y8JD4J22ty45BS9gub8sd/3vmy92a9QOmfujh8l9aU8\n",
       "lODobyvffW+Q9uv5NE/kl15YckNVd6Vx3NsQTPJ0Uqizh/x+Ms+M71YNZ3lPTkRqV7QXUnaAYnqI\n",
       "gwe9Dig0/lISR4Im4/AvRFDiIoPtXo3tgI8b/juNNRZHf3rdckR2vVaPoIji4OQJ+QRFdOT/smtp\n",
       "v6dyBegVpHMRlI/CqnpnqPbQi43EZE+zMGURvudskvpdWNngb6zX8F82Eq3qtgBlE8otQOlpSUTH\n",
       "4LQAZfBdadXaCqEPoQ5ypz41AAAAAElFTkSuQmCC\n",
       "\" style=\"display:inline;vertical-align:middle;\" /></a></span>"
      ],
      "text/plain": [
       "{n in NaturalPos, |varphi〉 in Complex^{n}, gamma in Complex} |- (〈varphi| . |varphi〉 . gamma) in_c Q*"
      ]
     },
     "execution_count": 25,
     "metadata": {},
     "output_type": "execute_result"
    }
   ],
   "source": [
    "InClass(Qmult(bra_varphi, ket_varphi, gamma), QmultCodomain).prove()"
   ]
  },
  {
   "cell_type": "code",
   "execution_count": 26,
   "metadata": {},
   "outputs": [
    {
     "data": {
      "text/html": [
       "<a class=\"ProveItLink\" href=\"../__pv_it/demonstrations/64bfe7bad6348e4d450868f23a31af99e87c6bcb0/expr.ipynb\"><img src=\"data:image/png;base64,iVBORw0KGgoAAAANSUhEUgAAAGAAAAAVBAMAAABLWfZ5AAAAMFBMVEX///9UVFSYmJgyMjJERESq\n",
       "qqoQEBDu7u66uroiIiLc3NzMzMxmZmaIiIh2dnYAAADysKFQAAAAAXRSTlMAQObYZgAAAAlwSFlz\n",
       "AAAOxAAADsQBlSsOGwAAAcFJREFUOMuNkzsvBFEUx/+G3VnzsnwAGRrtJjoFS4nEFApCWK1C9gsI\n",
       "UVAoqFBOQaEgFCQkEkKCRLERCWEl23gVdj0jSHDuYyYj2RE3ubnn3Ht+957XBcKH6wl6qImWCGq3\n",
       "nlC2EgaUPoh1ObvvAyYQ2Q4D+gWg2ajxAYvmdBiw88GXYaDbB0jBVYi9tfzJ1wxQ6QM9NOdDgCXz\n",
       "VQKxWR/IsdjcoFk+6yVhO/LElthmc32aA2o2g5yZQIRR6H5JYwJYHFUHNYcbOvqXCLN2Y4UDViSl\n",
       "2uabiFoZuIuz94aAdpNdCAPao8yLkuDAgjGtuEgBByKQNt2BQfyuxT06Odp5kXmJPXAgHc3QEVVh\n",
       "ldRTOiEtmgSub5idSsl5Z8IkVSslgp5yLb7fJ9O4BIyQVwVHeATMyLyUxQVwiAVY5G+DBOjmCpte\n",
       "4NoYzSYmkP/rrgD2UIcuKn1SAuSdEYdSYO2oMS86yFCtQmxONt+4m1NGydARgMGSlz+2jXsy63hO\n",
       "o/O7kVpt7fLe61a9uuWcpHJZqJLiDRJsb53f3ft/QFSoVe5sFQWGgwCnVe9fnRUFJn+9wP+QLXfi\n",
       "+HNc+F808Mt/AKkaeCFuKGIyAAAAAElFTkSuQmCC\n",
       "\" style=\"display:inline;vertical-align:middle;\" /></a>"
      ],
      "text/plain": [
       "alpha . A . beta . |psi〉 . gamma"
      ]
     },
     "execution_count": 26,
     "metadata": {},
     "output_type": "execute_result"
    }
   ],
   "source": [
    "qmult1"
   ]
  },
  {
   "cell_type": "code",
   "execution_count": 27,
   "metadata": {},
   "outputs": [
    {
     "data": {
      "text/html": [
       "<span style=\"font-size:20px;\"><a class=\"ProveItLink\" href=\"../__pv_it/demonstrations/9776b868029321ad4d7f2b3c1f048f5554e92b8f0/expr.ipynb\"><img src=\"data:image/png;base64,iVBORw0KGgoAAAANSUhEUgAAADQAAAAUBAMAAAAw+gPuAAAAMFBMVEX///8yMjJmZmaIiIjMzMzc\n",
       "3Nx2dnZUVFQQEBCYmJi6urru7u5EREQiIiKqqqoAAAAmNEGZAAAAAXRSTlMAQObYZgAAAAlwSFlz\n",
       "AAAOxAAADsQBlSsOGwAAAM9JREFUKM9jYMACWHMuCockYJNhyOlk2PRdAZsMkxVQxxysUk48GxgY\n",
       "2FGkbO7eFQDRp3lA9hkgySy0hjIOBEEZb/9sYFgNUiYNc1+BG4TB2Z5bwAByKGMAVIolYSWEEcPA\n",
       "cITlAUgK7iuFxRAG0ILNbCCGx10gOAC2KwxuP1swiNwD54NdCJXKBpG8cP4ikL8YFoClwL5jNkAJ\n",
       "DWaw2UwOYBE5uLZEsQ37hMAsdojA9lMb4CHffykAWYph2VlIQCEBZwacwAq3VAFuqQDswgBkzi1X\n",
       "2dcTkQAAAABJRU5ErkJggg==\n",
       "\" style=\"display:inline;vertical-align:middle;\" /></a>, <a class=\"ProveItLink\" href=\"../../../../logic/sets/cartesian_products/__pv_it/theorems/84ee59aeed12e78631ff41732d618eeba4d5229f0/expr.ipynb\"><img src=\"data:image/png;base64,iVBORw0KGgoAAAANSUhEUgAAAEYAAAATBAMAAADfQ2bzAAAAMFBMVEX///8iIiIyMjJmZmYQEBCq\n",
       "qqqYmJju7u5ERETMzMyIiIjc3NxUVFR2dna6uroAAACULOzSAAAAAXRSTlMAQObYZgAAAAlwSFlz\n",
       "AAAOxAAADsQBlSsOGwAAARJJREFUKM9jYCAADBgIgwZK1LDLd6gz8Pr74TWHI+ANA0N9AV41PNK8\n",
       "CQwsDMwdHR4dbbjURDBoMzBidw9Xo6AQWM22BZtwqOHTKoCas+Ek1wW4Gr47u2+d4rzVB5baVACz\n",
       "awMHQx9cDS9HF0N9HkMIWEob7p4NnAaFhbBwnsfSwLD/AkM+WEoBoYYhlbUFxiuof8AQX8BwAsTm\n",
       "dBQUFJSAquEpOAJ3ZzwDgxEDgxc4eBuQzGE/UAhXc4iBQZaB7zc7iC2ApIZhFgdcjS8D+z8GHoWt\n",
       "IPYqeFxMAIbVDBiP+ycD2wcGpgsXQBymAKgoI4hhBA82AQYuAwZWqw1gB514DhbklPcAkkXY44nv\n",
       "BiQuUAAA7zs7hIz3bAEAAAAASUVORK5CYII=\n",
       "\" style=\"display:inline;vertical-align:middle;\" /></a>, <a class=\"ProveItLink\" href=\"../../../../numbers/number_sets/natural_numbers/__pv_it/theorems/d0faa5018b5696ae3900dfa3ef431459c4f039010/expr.ipynb\"><img src=\"data:image/png;base64,iVBORw0KGgoAAAANSUhEUgAAAEEAAAATBAMAAAA9n32KAAAAMFBMVEX///9mZmYiIiIyMjKqqqqY\n",
       "mJgQEBDMzMzu7u5ERESIiIjc3NxUVFR2dna6uroAAABonEzTAAAAAXRSTlMAQObYZgAAAAlwSFlz\n",
       "AAAOxAAADsQBlSsOGwAAAPlJREFUKM9jYMAHGBkIAU6yVTT9nNzAcO3bAzxmTOE7wMDxA58thzZc\n",
       "ZWBIYJCcOW3mzACsKo5MYN7AoIDNjJVKSgYg+nQUtwFWFY9XQBmneQrWIlTw3dl96xRYnNsCpvQ0\n",
       "wwTOB3AVvJyzGPo3gFjMGxAqCjk0FGBhWsc2gWF/AVgFA0IFq4NnAozX0P+AIR7MKlMCggkQFQwn\n",
       "eOAqGPwZGE6CGZ1IZjD0cCjAuYcZGL5ygBhMyCrYF0yAc3MZWD7wghhcC2BC04F4OVwF93cGXoNo\n",
       "MNMEJqYC8oYBjMenwMA91QHM7JnXAKaLvgH1cxhgi4+3k5QwxQHHgj1ZIOxujgAAAABJRU5ErkJg\n",
       "gg==\n",
       "\" style=\"display:inline;vertical-align:middle;\" /></a>, <a class=\"ProveItLink\" href=\"../__pv_it/demonstrations/6634837ef11982c7c926a933fc6129de5c4761670/expr.ipynb\"><img src=\"data:image/png;base64,iVBORw0KGgoAAAANSUhEUgAAADUAAAATBAMAAADCPVhoAAAAMFBMVEX///8QEBAyMjJERETMzMy6\n",
       "uroiIiKqqqpUVFSYmJju7u5mZmaIiIh2dnbc3NwAAABKcBCOAAAAAXRSTlMAQObYZgAAAAlwSFlz\n",
       "AAAOxAAADsQBlSsOGwAAAPFJREFUKM9jYMAG3popnfOFsE7vQpXiNZzAtb8bxOKbwDADVW5PLAMD\n",
       "pzWItYaBoQxFimWDFZAE6zvAwNABETyclqYApJgXGADJNxA51iywVNApiBJmvg1QE1j9LJQWgO3V\n",
       "goq8YLkAcxTDTDcHEIPpAVTEl3UCXI6BUwEsB3PLa9YDUBbQmawfQAzHNCAwANsHMzOEgYFHAMRY\n",
       "DNMHcScIANUwN4AYbDA5VrD/WIEYaJcj2BU8B5DDheEwAwNXJwNrKkRIHR6eSre4ioB+ZHc/cwcq\n",
       "tMJ0ASweDL/tg3gBDmLNwGGGiA8G3GANHrkQ3FIAu+U0diYjhn8AAAAASUVORK5CYII=\n",
       "\" style=\"display:inline;vertical-align:middle;\" /></a>, <a class=\"ProveItLink\" href=\"../__pv_it/demonstrations/847ecb4d628b91a053c2379114751af7d89ba9560/expr.ipynb\"><img src=\"data:image/png;base64,iVBORw0KGgoAAAANSUhEUgAAADYAAAAQBAMAAACvnpHFAAAAMFBMVEX///9UVFSYmJgyMjJERESq\n",
       "qqoQEBDu7u66uroiIiLc3NzMzMxmZmaIiIh2dnYAAADysKFQAAAAAXRSTlMAQObYZgAAAAlwSFlz\n",
       "AAAOxAAADsQBlSsOGwAAANRJREFUGNNjYMAGuJ5Mtl39AKsUw5MkhpqPB7BK8dwA6lHBLreHpYCB\n",
       "gRFV7srMmQYg2p0FZOcFZKnm61CGwxqY0Ls7GyCOM4e5UmAflLWygT2LKwDIYF4AFeF+0ARl5TEw\n",
       "+PAWgOTgvjvQC3XvdwaGw3wg1raZQOAAtm8dRI4NyHv2HMQqgTsK7E4gqAd68z3IOgZOuFwPyH8M\n",
       "DQz8CkB9YBHeCyjhwuvAwCPAwPSeGyxkCtf42K6g1AbkvUsKPG/BIoUeBfB4yJ+zADUc+zwhYQYF\n",
       "AH6TOAHoygR1AAAAAElFTkSuQmCC\n",
       "\" style=\"display:inline;vertical-align:middle;\" /></a>, <a class=\"ProveItLink\" href=\"../__pv_it/demonstrations/a0aa0488271b81ec08bef69d663496a5009a7f650/expr.ipynb\"><img src=\"data:image/png;base64,iVBORw0KGgoAAAANSUhEUgAAAF0AAAASBAMAAADLUc9JAAAAMFBMVEX///8QEBAiIiLu7u5ERES6\n",
       "urqYmJiIiIjMzMx2dnZUVFRmZmaqqqoyMjLc3NwAAABb1yYoAAAAAXRSTlMAQObYZgAAAAlwSFlz\n",
       "AAAOxAAADsQBlSsOGwAAAXlJREFUKM9jYCAIOhkYuBsYiAFs29qrGRjYJzBsY2DIzihfULYCKvEW\n",
       "XSXfFN3rLyawBSYwPmBgKOcsYGBIFWOQYqiCSt9HVz9FjMH614bHRQz8BgwMnNeBBpgrMHxl2AmR\n",
       "5fmPppy7dAIDQ8oGhuUMgUAe5zUgwVXAIcCgA5Ve/wBVfTcL0FiuDQwSDDs5GBgquRMYGBgb2B34\n",
       "PkD8PW8+1P/sTkq6INqZBeSHAr4PDKonQP7dw8DwHmgDm8MEsOcK6g+AlbNeN4Doc3gN4S9gqEwA\n",
       "hSdXA0MUA+8DvuVgeW6G8wmQYIIq51vQiS+YYxj6wfYw3IMKcEwIw6d+A8P7BWDGBVjobwjHo5zd\n",
       "e/d6B7CxQkpKSipg97/Eo96cgYFfAcRgdoAJgcMHt3MYmATALAWYUDQo/BkCsCpnBYYN7wcwsxwl\n",
       "ftkdsKp/CMQs/8BM3gMwwbk3DWxuY1Vu8v8yA4//X3CAMi8JhqdPee0HhBM86xRIesANAEA9Vo0y\n",
       "TAlvAAAAAElFTkSuQmCC\n",
       "\" style=\"display:inline;vertical-align:middle;\" /></a>, <a class=\"ProveItLink\" href=\"../__pv_it/demonstrations/932f704789037247f30ad02e6c8f267e6cfb2e4c0/expr.ipynb\"><img src=\"data:image/png;base64,iVBORw0KGgoAAAANSUhEUgAAAFAAAAAVBAMAAAAjqnRBAAAAMFBMVEX///9UVFREREQiIiKYmJgQ\n",
       "EBAyMjJmZmaqqqru7u7MzMyIiIi6urp2dnbc3NwAAAC+adfGAAAAAXRSTlMAQObYZgAAAAlwSFlz\n",
       "AAAOxAAADsQBlSsOGwAAAX5JREFUKM+Fkz9IAzEUxj/bq+1dvHq7CAVdBJFCQdfaza2Dk4vdVMRy\n",
       "qKNDN0EUThcFlzoUBxHOOkhFpIPVQcTQQRw6nC5WQdTRzSRNz2uQ+iCEl/zy/nxJ4EGagb9NWz06\n",
       "IZNFNNoLoaKKxOvji29Uq6UjFrEkSICYrYL1aex+2a+n6K9GqQRNNpIKF72gQMbGAEoIFyS4z8aj\n",
       "Ah6GHKDHxgzK+DAkuMHGswTKqVSOzyMhXqcb/2QxM6YEWRL0tgS4rsgDiRcx9VnI46nCQP3MBSU5\n",
       "xKhodaHds3XcUUkDZiyrp8m37Ka3LaxBrxSwGU1qHrLAmgB9Fe1bBXQiLlOHqXjA/VKKWULU+K6A\n",
       "uPdM6C6wxf0df0d03QGuoAmTaZbnftjfueE6ohoAlzGFTVaUSEjcjpshiQBY86jGDpoFsTDvh3xY\n",
       "cvbmgqmNweHL36Tbo47/emYnvCAIQ8Ralyt3Q60rVIyDRMQYQ1dryEcGPfc/SES76e7guf8VunM/\n",
       "h/FjgTPyFT0AAAAASUVORK5CYII=\n",
       "\" style=\"display:inline;vertical-align:middle;\" /></a> <a class=\"ProveItLink\" href=\"../__pv_it/demonstrations/3d62ec8e3833a7caf9a4f142dd9f141897c48fba0/proof.ipynb\" style=\"text-decoration: none\">&nbsp;&#x22A2;&nbsp;&nbsp;</a><a class=\"ProveItLink\" href=\"../__pv_it/demonstrations/a02c7f4adf5dde8d4b3dcc5d2c175427ef53b30b0/expr.ipynb\"><img src=\"data:image/png;base64,iVBORw0KGgoAAAANSUhEUgAAAKAAAAAdBAMAAADftXq1AAAAMFBMVEX////MzMxUVFREREQiIiK6\n",
       "uroQEBCYmJhmZmYyMjLu7u52dnaqqqqIiIjc3NwAAACFAiZ1AAAAAXRSTlMAQObYZgAAAAlwSFlz\n",
       "AAAOxAAADsQBlSsOGwAAAwNJREFUSMftlVtIFFEYx/+r7s46szNtIj5E5RJdHoJQKZLAy4P1IJEK\n",
       "ZZkPShCEQUwJ3Z4WK6ik2LfIbkM+S1uUD5a5kUFQ0EqES1Qs1EuoYGqUFW3fucw4s7o+7WMH5pzz\n",
       "fefwO9/tnAGQRu7mrPlcSiPndiNKnZ7w6mJu6ZE9KQwvKP3JHDxlVTQOvPIqi6fFOJG67AB1IBR1\n",
       "7fmwmBXaOB+H0VtlQo15V94IoGHihAPU6Kt3H2pl8/w1K0/OAwduWQia3qWev3wYAEYdIAl44nYt\n",
       "mg1MAWpTUhu634eAd0Wb+MZHCtM6B/iMvs/uXV1ieNvQIPzTKqjrqIcRAdq8wCn9jwT6Gx1gnLnp\n",
       "LoZrvG97b8sdLAaBaV4VvUzxOGUnMRr6wWOytuq6xYFqKom4HkOIUTE6a+Eg8ICHuc854Kgrneyw\n",
       "L83qMYNXjz/h+y3ScKo0zIFaqFM19V8iK8qhhxFm7xl4bA5957LI225xQLXOMxeEMSPzqsQ4cDJY\n",
       "r6TRCVwQgaz0JUS+ULwQeJ7IgEjVYaLQ+Zc0EeaLPbMyr/5pDrQCSVqivSUkUtAG2MZytqesgRrL\n",
       "Bgq4heVhGxgg7eAQE1RK7hybtFA1d4qkdKQ1rpcXQJuirpXN+h0Lde5VtRBuAvcoKiMJ4TGwS+a1\n",
       "MCKA5zEJjeJxWwLZydzlIgeoZq76niqy9GuAFVTbg1zYT98dNqH4laUF8BzO4gXltEICWaS6uV0L\n",
       "V7o0c8Rqk9eHKiAYgTLCnhODeVlHIHUT/Dvl49CajivNBJJvSJBF6ortnGMjdPv27GVlOG4Gh0lb\n",
       "N2/heeYG1cHqj8P2a+PbvP2Ty8EC1u3h07vb7Dtt7Du9wWYXhZd4hzT38+Xjtr10AQ0Zrvat8uo1\n",
       "ZX7Svq4cFz0bKCq0VmrWMLfN7Ie1OzNz/GuzEGqXAA64gZzuvHLvsh8KeVnWz22R0/4lgC0eC3lK\n",
       "baNYMe3Acs0wl1kcc34Brr+Mksb/lq/mG4/nF1iCWH6Blfl2uRFWfoHtrxfX8D+YXsHCJ/ryzAAA\n",
       "AABJRU5ErkJggg==\n",
       "\" style=\"display:inline;vertical-align:middle;\" /></a></span>"
      ],
      "text/plain": [
       "{gamma in Complex, m in NaturalPos, n in NaturalPos, beta in Complex, alpha in Complex, A in Complex^{n x m}, |psi〉 in Complex^{m}} |- (alpha . A . beta . |psi〉 . gamma) in_c Q*"
      ]
     },
     "execution_count": 27,
     "metadata": {},
     "output_type": "execute_result"
    }
   ],
   "source": [
    "InClass(qmult1, QmultCodomain).prove()"
   ]
  },
  {
   "cell_type": "code",
   "execution_count": 28,
   "metadata": {},
   "outputs": [
    {
     "data": {
      "text/html": [
       "<a class=\"ProveItLink\" href=\"../__pv_it/demonstrations/328c77a7d503ebe78dc3c37ef5d18fbf6b35c0a70/expr.ipynb\"><img src=\"data:image/png;base64,iVBORw0KGgoAAAANSUhEUgAAALwAAAAVBAMAAAAOdJm+AAAAMFBMVEX///9UVFSYmJgyMjJERESq\n",
       "qqoQEBDu7u66uroiIiLc3NzMzMxmZmaIiIh2dnYAAADysKFQAAAAAXRSTlMAQObYZgAAAAlwSFlz\n",
       "AAAOxAAADsQBlSsOGwAAAypJREFUOMt9lU1oE1EQgKdp0t1udvOjnvSy/oAilYb25kEjHgQtZA8i\n",
       "FER7EMSKEuw5GBW89JJTNVYwSC8eLFaooB5M60ELFkpr8WClEbT10l8j2oqtM/PeS/andMK8nWTe\n",
       "fjs7b2YCsK0Y+FHybCu3S0rKiEqPEdie8v0wDbG8ss8E8dPuLz+UEcZA9AmhHmlcFtfBmXd8jVQU\n",
       "HneeD9DRDVammjy524OPlOWTp337Lwq8YcNeNnpA4RHUHMD30BLHN2513HgoUKRZoW4ZWedLDqCT\n",
       "jVGF1zD6mCN36bY0Rml5gy6zy4P/jhoqC3VJbPCvykSSjS6Fj2A6jbR6eZVTgsIsZXrVgx+g5bLU\n",
       "ujy1fkm8fo/DTCl8jJajPrzOhZChbG548I1URG1SF2dUyZUjq3zbqxPtnDWzwvjcOOKnAC748OQG\n",
       "qNIdKwL/GuBONctHDl+FPslr3QanVXeiGyLUfS/5iY024yvn4AbMZmtnq/Dkhug/XCwZfRmibbcq\n",
       "4mz3C70O0GGJYMFYkZkI8Xs3O4Q3nDE4DE3oz3vx5AaLjqvhD+PxhBoAEgDvQRRHJ5i/Ad5yauHj\n",
       "h5GqLBydK7QpT3gNrmFdmhhogmIoFvuuFIsJ6YYw7YyLykHMQXoFGKKKYm3CepibV8W3RkYvxtRV\n",
       "x4O+jvic6CJ39IyPUz212go/wRg6pbusN/GeJUfkBqBPtlA4wcnl5IBZwLOZlwXhzr0jy167JLrW\n",
       "BB3TkxU1JpITxwfP8e7bqMfJwLy/YFJ4QuDToWwkL8vZhSc3l31PSuJtE7Q9skMOsJoJCC3xjKN8\n",
       "ZBCr7QD9vmizhEhOdwwOyWZ048lNAekP1Uhrn3o+lpf9PS50cdI2FxCa+ZmFs5vH8O7hLwuybwqi\n",
       "rYa+HSnJUeJpK/xh52ZyV0dJ4UOP1uh8uIIfSPVLrG72y64drg1Cz1DoB/9A5inEs9UoCN0O3yLx\n",
       "nzjVJf9Iawngr7J1mgrFFhqQXN1EIuMrtfHrkdoDFT7K7aKl5Fgb2OoPsLduammB52xMBnZqaR/e\n",
       "4mxYFPQpqdvKY7Bqf7Hprdwu+YzJ5s1hGvcl1v9OxuOPZBAZLgAAAABJRU5ErkJggg==\n",
       "\" style=\"display:inline;vertical-align:middle;\" /></a>"
      ],
      "text/plain": [
       "alpha . A . beta . (|psi〉 + (D . |varphi〉))"
      ]
     },
     "execution_count": 28,
     "metadata": {},
     "output_type": "execute_result"
    }
   ],
   "source": [
    "qmult5"
   ]
  },
  {
   "cell_type": "code",
   "execution_count": 29,
   "metadata": {},
   "outputs": [
    {
     "data": {
      "text/html": [
       "<span style=\"font-size:20px;\"><a class=\"ProveItLink\" href=\"../../../../logic/sets/cartesian_products/__pv_it/theorems/84ee59aeed12e78631ff41732d618eeba4d5229f0/expr.ipynb\"><img src=\"data:image/png;base64,iVBORw0KGgoAAAANSUhEUgAAAEYAAAATBAMAAADfQ2bzAAAAMFBMVEX///8iIiIyMjJmZmYQEBCq\n",
       "qqqYmJju7u5ERETMzMyIiIjc3NxUVFR2dna6uroAAACULOzSAAAAAXRSTlMAQObYZgAAAAlwSFlz\n",
       "AAAOxAAADsQBlSsOGwAAARJJREFUKM9jYCAADBgIgwZK1LDLd6gz8Pr74TWHI+ANA0N9AV41PNK8\n",
       "CQwsDMwdHR4dbbjURDBoMzBidw9Xo6AQWM22BZtwqOHTKoCas+Ek1wW4Gr47u2+d4rzVB5baVACz\n",
       "awMHQx9cDS9HF0N9HkMIWEob7p4NnAaFhbBwnsfSwLD/AkM+WEoBoYYhlbUFxiuof8AQX8BwAsTm\n",
       "dBQUFJSAquEpOAJ3ZzwDgxEDgxc4eBuQzGE/UAhXc4iBQZaB7zc7iC2ApIZhFgdcjS8D+z8GHoWt\n",
       "IPYqeFxMAIbVDBiP+ycD2wcGpgsXQBymAKgoI4hhBA82AQYuAwZWqw1gB514DhbklPcAkkXY44nv\n",
       "BiQuUAAA7zs7hIz3bAEAAAAASUVORK5CYII=\n",
       "\" style=\"display:inline;vertical-align:middle;\" /></a>, <a class=\"ProveItLink\" href=\"../../../../numbers/number_sets/natural_numbers/__pv_it/theorems/d0faa5018b5696ae3900dfa3ef431459c4f039010/expr.ipynb\"><img src=\"data:image/png;base64,iVBORw0KGgoAAAANSUhEUgAAAEEAAAATBAMAAAA9n32KAAAAMFBMVEX///9mZmYiIiIyMjKqqqqY\n",
       "mJgQEBDMzMzu7u5ERESIiIjc3NxUVFR2dna6uroAAABonEzTAAAAAXRSTlMAQObYZgAAAAlwSFlz\n",
       "AAAOxAAADsQBlSsOGwAAAPlJREFUKM9jYMAHGBkIAU6yVTT9nNzAcO3bAzxmTOE7wMDxA58thzZc\n",
       "ZWBIYJCcOW3mzACsKo5MYN7AoIDNjJVKSgYg+nQUtwFWFY9XQBmneQrWIlTw3dl96xRYnNsCpvQ0\n",
       "wwTOB3AVvJyzGPo3gFjMGxAqCjk0FGBhWsc2gWF/AVgFA0IFq4NnAozX0P+AIR7MKlMCggkQFQwn\n",
       "eOAqGPwZGE6CGZ1IZjD0cCjAuYcZGL5ygBhMyCrYF0yAc3MZWD7wghhcC2BC04F4OVwF93cGXoNo\n",
       "MNMEJqYC8oYBjMenwMA91QHM7JnXAKaLvgH1cxhgi4+3k5QwxQHHgj1ZIOxujgAAAABJRU5ErkJg\n",
       "gg==\n",
       "\" style=\"display:inline;vertical-align:middle;\" /></a>, <a class=\"ProveItLink\" href=\"../__pv_it/demonstrations/6634837ef11982c7c926a933fc6129de5c4761670/expr.ipynb\"><img src=\"data:image/png;base64,iVBORw0KGgoAAAANSUhEUgAAADUAAAATBAMAAADCPVhoAAAAMFBMVEX///8QEBAyMjJERETMzMy6\n",
       "uroiIiKqqqpUVFSYmJju7u5mZmaIiIh2dnbc3NwAAABKcBCOAAAAAXRSTlMAQObYZgAAAAlwSFlz\n",
       "AAAOxAAADsQBlSsOGwAAAPFJREFUKM9jYMAG3popnfOFsE7vQpXiNZzAtb8bxOKbwDADVW5PLAMD\n",
       "pzWItYaBoQxFimWDFZAE6zvAwNABETyclqYApJgXGADJNxA51iywVNApiBJmvg1QE1j9LJQWgO3V\n",
       "goq8YLkAcxTDTDcHEIPpAVTEl3UCXI6BUwEsB3PLa9YDUBbQmawfQAzHNCAwANsHMzOEgYFHAMRY\n",
       "DNMHcScIANUwN4AYbDA5VrD/WIEYaJcj2BU8B5DDheEwAwNXJwNrKkRIHR6eSre4ioB+ZHc/cwcq\n",
       "tMJ0ASweDL/tg3gBDmLNwGGGiA8G3GANHrkQ3FIAu+U0diYjhn8AAAAASUVORK5CYII=\n",
       "\" style=\"display:inline;vertical-align:middle;\" /></a>, <a class=\"ProveItLink\" href=\"../__pv_it/demonstrations/847ecb4d628b91a053c2379114751af7d89ba9560/expr.ipynb\"><img src=\"data:image/png;base64,iVBORw0KGgoAAAANSUhEUgAAADYAAAAQBAMAAACvnpHFAAAAMFBMVEX///9UVFSYmJgyMjJERESq\n",
       "qqoQEBDu7u66uroiIiLc3NzMzMxmZmaIiIh2dnYAAADysKFQAAAAAXRSTlMAQObYZgAAAAlwSFlz\n",
       "AAAOxAAADsQBlSsOGwAAANRJREFUGNNjYMAGuJ5Mtl39AKsUw5MkhpqPB7BK8dwA6lHBLreHpYCB\n",
       "gRFV7srMmQYg2p0FZOcFZKnm61CGwxqY0Ls7GyCOM4e5UmAflLWygT2LKwDIYF4AFeF+0ARl5TEw\n",
       "+PAWgOTgvjvQC3XvdwaGw3wg1raZQOAAtm8dRI4NyHv2HMQqgTsK7E4gqAd68z3IOgZOuFwPyH8M\n",
       "DQz8CkB9YBHeCyjhwuvAwCPAwPSeGyxkCtf42K6g1AbkvUsKPG/BIoUeBfB4yJ+zADUc+zwhYQYF\n",
       "AH6TOAHoygR1AAAAAElFTkSuQmCC\n",
       "\" style=\"display:inline;vertical-align:middle;\" /></a>, <a class=\"ProveItLink\" href=\"../__pv_it/demonstrations/a0aa0488271b81ec08bef69d663496a5009a7f650/expr.ipynb\"><img src=\"data:image/png;base64,iVBORw0KGgoAAAANSUhEUgAAAF0AAAASBAMAAADLUc9JAAAAMFBMVEX///8QEBAiIiLu7u5ERES6\n",
       "urqYmJiIiIjMzMx2dnZUVFRmZmaqqqoyMjLc3NwAAABb1yYoAAAAAXRSTlMAQObYZgAAAAlwSFlz\n",
       "AAAOxAAADsQBlSsOGwAAAXlJREFUKM9jYCAIOhkYuBsYiAFs29qrGRjYJzBsY2DIzihfULYCKvEW\n",
       "XSXfFN3rLyawBSYwPmBgKOcsYGBIFWOQYqiCSt9HVz9FjMH614bHRQz8BgwMnNeBBpgrMHxl2AmR\n",
       "5fmPppy7dAIDQ8oGhuUMgUAe5zUgwVXAIcCgA5Ve/wBVfTcL0FiuDQwSDDs5GBgquRMYGBgb2B34\n",
       "PkD8PW8+1P/sTkq6INqZBeSHAr4PDKonQP7dw8DwHmgDm8MEsOcK6g+AlbNeN4Doc3gN4S9gqEwA\n",
       "hSdXA0MUA+8DvuVgeW6G8wmQYIIq51vQiS+YYxj6wfYw3IMKcEwIw6d+A8P7BWDGBVjobwjHo5zd\n",
       "e/d6B7CxQkpKSipg97/Eo96cgYFfAcRgdoAJgcMHt3MYmATALAWYUDQo/BkCsCpnBYYN7wcwsxwl\n",
       "ftkdsKp/CMQs/8BM3gMwwbk3DWxuY1Vu8v8yA4//X3CAMi8JhqdPee0HhBM86xRIesANAEA9Vo0y\n",
       "TAlvAAAAAElFTkSuQmCC\n",
       "\" style=\"display:inline;vertical-align:middle;\" /></a>, <a class=\"ProveItLink\" href=\"../__pv_it/demonstrations/932f704789037247f30ad02e6c8f267e6cfb2e4c0/expr.ipynb\"><img src=\"data:image/png;base64,iVBORw0KGgoAAAANSUhEUgAAAFAAAAAVBAMAAAAjqnRBAAAAMFBMVEX///9UVFREREQiIiKYmJgQ\n",
       "EBAyMjJmZmaqqqru7u7MzMyIiIi6urp2dnbc3NwAAAC+adfGAAAAAXRSTlMAQObYZgAAAAlwSFlz\n",
       "AAAOxAAADsQBlSsOGwAAAX5JREFUKM+Fkz9IAzEUxj/bq+1dvHq7CAVdBJFCQdfaza2Dk4vdVMRy\n",
       "qKNDN0EUThcFlzoUBxHOOkhFpIPVQcTQQRw6nC5WQdTRzSRNz2uQ+iCEl/zy/nxJ4EGagb9NWz06\n",
       "IZNFNNoLoaKKxOvji29Uq6UjFrEkSICYrYL1aex+2a+n6K9GqQRNNpIKF72gQMbGAEoIFyS4z8aj\n",
       "Ah6GHKDHxgzK+DAkuMHGswTKqVSOzyMhXqcb/2QxM6YEWRL0tgS4rsgDiRcx9VnI46nCQP3MBSU5\n",
       "xKhodaHds3XcUUkDZiyrp8m37Ka3LaxBrxSwGU1qHrLAmgB9Fe1bBXQiLlOHqXjA/VKKWULU+K6A\n",
       "uPdM6C6wxf0df0d03QGuoAmTaZbnftjfueE6ohoAlzGFTVaUSEjcjpshiQBY86jGDpoFsTDvh3xY\n",
       "cvbmgqmNweHL36Tbo47/emYnvCAIQ8Ralyt3Q60rVIyDRMQYQ1dryEcGPfc/SES76e7guf8VunM/\n",
       "h/FjgTPyFT0AAAAASUVORK5CYII=\n",
       "\" style=\"display:inline;vertical-align:middle;\" /></a>, <a class=\"ProveItLink\" href=\"../__pv_it/demonstrations/7018668c2225e47ce49c7829a3cfaa7e336348c90/expr.ipynb\"><img src=\"data:image/png;base64,iVBORw0KGgoAAAANSUhEUgAAAGAAAAASBAMAAABWXMbBAAAAMFBMVEX///8iIiLu7u52dna6uroQ\n",
       "EBBmZmbMzMyqqqqYmJjc3NwyMjJUVFRERESIiIgAAABmmfmVAAAAAXRSTlMAQObYZgAAAAlwSFlz\n",
       "AAAOxAAADsQBlSsOGwAAAXtJREFUKM9jYCAGsBswMKQTo5Azs+4N35wCBobHDGwTQLxnOJVy2Urv\n",
       "W27A6TqB9QDfAQYGvgd2QO1A3gKg3Nv/d87uWYCmwTaSQe1PwqKHDPwObED3MFg/YGAA8RRAkr+B\n",
       "mn+gqmd7AlQ1N4HhHEMpA2MDSMMEIHGOwRXso39AIhVVQxkv0CieBIZwhrcM69mBTjLIBIqGMyQD\n",
       "2Qx834GE/wSwQr6LgtIg+hIvyB8PuD4ATZ3LDPZ0AwOQJ9IOFOf9ACTWgxzKwLJPAWLDhWVgiuUA\n",
       "wy6GNY/AwXocxHsMMpf/AsiGAyAFq6HquQ4U4wnsemAAMLwH27ALHlGeeDS8B0YMw3kHEHMDLBYS\n",
       "/PBouA8ivoINDhQUFJQF+2ExHg1/QWngJ4jFdAEmBg4lXAkLFA2qEKUCMEE3UDwwOGDVAIoGpt0Q\n",
       "9juUmOa7gFUDNzAaHBOg7AaYqPVmBY1tWNXz7P9z5m4WlMN01gmeWuPFFhCRAVhsIUkDNwAAk1xh\n",
       "S3w/Lp8AAAAASUVORK5CYII=\n",
       "\" style=\"display:inline;vertical-align:middle;\" /></a>, <a class=\"ProveItLink\" href=\"../__pv_it/demonstrations/bbf5d33edced3682aab59724695062ca64acb82c0/expr.ipynb\"><img src=\"data:image/png;base64,iVBORw0KGgoAAAANSUhEUgAAAEwAAAAVBAMAAAAeOBUnAAAAMFBMVEX///8QEBAiIiKqqqpUVFSY\n",
       "mJhmZmbu7u5EREQyMjLMzMyIiIi6urp2dnbc3NwAAADC3l7hAAAAAXRSTlMAQObYZgAAAAlwSFlz\n",
       "AAAOxAAADsQBlSsOGwAAAWNJREFUKM9jeMAABVwM2AFr6uptDAx3YFyOBegK+G5ozn51gfVgAOMD\n",
       "hDLmBHRlN0QZyr4kPN/EwF+AUMaggKaKbc8FBoaIBAZvhoNIljJcRlO2jKOAgYElgUGKIZcLSdkL\n",
       "KL1DSWkCiG7nALlvA98HBh0rJGWcEE+f3A7lNzwDUzwODHsDQMpWAeV+FDAwXwB7bzrMnw5rkVwA\n",
       "VJbAwDX1yAWoHzhhAcl14SiKMuYFDCwMDA4MDDlgZfBQSziNooyXgSEcZCTDEhB/oRIQNIDd9hZd\n",
       "2QYG9g0MDLYgfgVcBuxThDI2Bh6gtcAwmgfiM8FljoHCjeEAXFkAGwO7F9AxYKu4N6DEAncD3Kcz\n",
       "dy5NAmriNQALTIYbd3NuQfE0RICw6n+6gLCupKcAnkLk1R4glDGkgllmUJGzTZDIQgEgZVJgVh8D\n",
       "HgBUxvUBxGCfQEAZNziWuAPwKdsFdCo4eXPgUwUATsteKZUtyh8AAAAASUVORK5CYII=\n",
       "\" style=\"display:inline;vertical-align:middle;\" /></a> <a class=\"ProveItLink\" href=\"../__pv_it/demonstrations/0348d7ad2b74857b3610c42e23297ca490bcdf0f0/proof.ipynb\" style=\"text-decoration: none\">&nbsp;&#x22A2;&nbsp;&nbsp;</a><a class=\"ProveItLink\" href=\"../__pv_it/demonstrations/1f206b62e4d657bf5d3c4f18bcbd379d2a265c3a0/expr.ipynb\"><img src=\"data:image/png;base64,iVBORw0KGgoAAAANSUhEUgAAAP4AAAAdBAMAAAB4aMxOAAAAMFBMVEX////MzMxUVFREREQiIiK6\n",
       "uroQEBCYmJhmZmYyMjLu7u52dnaqqqqIiIjc3NwAAACFAiZ1AAAAAXRSTlMAQObYZgAAAAlwSFlz\n",
       "AAAOxAAADsQBlSsOGwAABEdJREFUSMftll1oHFUUx//bzexOdncmbSgKUuya+oEvJS0+RKHNFtei\n",
       "RcxW/Ko+NKKCKJbRokZBu5RK1VLJW6laHfBB8hBcLfYhWrugiKBgxIekktKFClKKUJOUGqtdzzn3\n",
       "3pk7s0te89K7nNk7c++c373n6w6AFpZtPv1MW91t2GqRqowe8dMzku/W6eI1k8/GU5PmUKyZ/qZO\n",
       "HXP2zZemk6WVOtOxdG35G+oN4Mfkw96L6v/C7LvyX2oYPqn5oUMHDcMbXhi4c2OCX6rrpc2ll6jH\n",
       "b11qwD+0OUAhtd+fFd8P8JJ0JmD4ROrpUDTBlz7Ssa9p81HhrYSxJJuzZc0rS8Bjx0K4QXJo/1X5\n",
       "mwS+k85Bwy/Q/ovGV4556yBf1tOQO5rgf832rceSbLOkbmS6OPX5+8glR4oX/jLGHpDOqOGXyKX+\n",
       "oLGf8SlTcZa9fTnBP8eX5yzhSLujep+CsJrdFfhlYFeS/6f3r+Y7O2Sj44Zf5MtHKb4j3htmh11J\n",
       "8Hs5FY5YQnOPGT/s5k7uouTLIX7w1azJrHrpssy9cfNRme02hD95mPin42A1fB4GFviNecVfQ1ta\n",
       "CCUu8YUlwPkoDJ63Ap3X9nutsMcX1zrNzBW12VfXypJ6A+E3vsenOBtGAWj4PIzMf2xcvf86Mkce\n",
       "bKgAfM2S2HYoXZJXK3Jzv1rPkKe2C39eGzsvpu1pMt9vHsCbHCpuLcnnYXgcMqsuCZ+iZBVAfn0L\n",
       "KoKNAFGiFSXEcyoqnyGl/wDviHvx69v7F3T4O2KfXI35BbxA6efSVsu8yGp1+9PValkPI8sz+1T8\n",
       "k5rX2Qjo57ywBBl6pXo3zFKxfrXh5ygcT0yZHFvkzk7a1WjMh3OV+JOq3Nj7F34fh/O+wPCnRQ1H\n",
       "yiOWoGByB56YeEjdfAh8RkpPNZX5ge261mTL4iWxP9wKxceUDmvb/02d/oWnVP1z4ZAHQuXtpP0r\n",
       "hl9ov5f5Jq9vt9D6aekn5OZRko+1r64TVHZa8QfzYamm09ri87Ck/8S45gcuCjfpSrHXEuBMlJxr\n",
       "28+Gu3Q2UG64ZeRPyYnFJh8mbuE2OPeoWCkr++8p4mVd1mw+D/OKnXvN+XP09PUHarpSHrZE20pb\n",
       "AJ6piQ9x+s8E7kl6OrwU4tv2B6R+3ZmTusBUVP3pP/5Gy7JhVH/owe3tgQ1DLcPPjyxyjEiiPmAJ\n",
       "qd/wuDljHx67xSylp8uZrmqdatt0/VsXHWuJ+rsN6fNXTgQ5Kf1KLLLY47r+jrT/pnxQVbnzcEjy\n",
       "xzT/N3F3K33+jHXwn5TeVo7mIJbkN8be9vyL53Up2dqFPxl3CSn8RnTaJlq2leJnpGzIqX7OkvT5\n",
       "f/PiRt39pAt/Z9yltBW+GHymY2ac1ZrvibE93vJdlizzfRcs//33B7woRAa7DVvtF1Ink7Ps2VYs\n",
       "19q1hsxMY0X5/RhfUf6mFbb/DoQryn/ip85S8z+QJyVgPLRwhAAAAABJRU5ErkJggg==\n",
       "\" style=\"display:inline;vertical-align:middle;\" /></a></span>"
      ],
      "text/plain": [
       "{m in NaturalPos, n in NaturalPos, beta in Complex, alpha in Complex, A in Complex^{n x m}, |psi〉 in Complex^{m}, D in Complex^{m x n}, |varphi〉 in Complex^{n}} |- (alpha . A . beta . (|psi〉 + (D . |varphi〉))) in_c Q*"
      ]
     },
     "execution_count": 29,
     "metadata": {},
     "output_type": "execute_result"
    }
   ],
   "source": [
    "InClass(qmult5, QmultCodomain).prove()"
   ]
  },
  {
   "cell_type": "markdown",
   "metadata": {},
   "source": [
    "### Association/dissociation of a Qmult"
   ]
  },
  {
   "cell_type": "code",
   "execution_count": 30,
   "metadata": {},
   "outputs": [
    {
     "name": "stdout",
     "output_type": "stream",
     "text": [
      "Help on function association in module proveit.physics.quantum.algebra.qmult:\n",
      "\n",
      "association(self, start_idx, length, **defaults_config)\n",
      "    Given a valid Qmult operation (valid sequence of bras, kets,\n",
      "    and/or quantum operations), deduce that this expression is equal \n",
      "    to a form in which operands in the\n",
      "    range [start_idx, start_idx+length) are grouped together.\n",
      "    For example, (A B ... Y Z) = (A B ... (L ... M) ... Y Z).\n",
      "    \n",
      "    Keyword arguments are accepted for temporarily changing any\n",
      "    of the attributes of proveit.defaults.\n",
      "    \n",
      "    'associated' returns the right-hand side of 'association'.\n",
      "    'associate', called on an InnerExpr of a Judgment,\n",
      "    substitutes the right-hand side of 'association' for\n",
      "    the inner expression.\n",
      "\n"
     ]
    }
   ],
   "source": [
    "help(Qmult.association)"
   ]
  },
  {
   "cell_type": "code",
   "execution_count": 31,
   "metadata": {},
   "outputs": [
    {
     "name": "stdout",
     "output_type": "stream",
     "text": [
      "Help on function disassociation in module proveit.physics.quantum.algebra.qmult:\n",
      "\n",
      "disassociation(self, idx, **defaults_config)\n",
      "    Given a valid Qmult operation (valid sequence of bras, kets,\n",
      "    and/or quantum operations), deduce that this expression is equal \n",
      "    to a form in which the operand\n",
      "    at index idx is no longer grouped together.\n",
      "    range [start_idx, start_idx+length) are grouped together.\n",
      "    For example, (A B ... (L ... M) ... Y Z) = (A B ... Y Z).\n",
      "    \n",
      "    Keyword arguments are accepted for temporarily changing any\n",
      "    of the attributes of proveit.defaults.\n",
      "    \n",
      "    'disassociated' returns the right-hand side of 'disassociation'.\n",
      "    'disassociate', called on an InnerExpr of a Judgment,\n",
      "    substitutes the right-hand side of 'disassociation' for\n",
      "    the inner expression.\n",
      "\n"
     ]
    }
   ],
   "source": [
    "help(Qmult.disassociation)"
   ]
  },
  {
   "cell_type": "code",
   "execution_count": 32,
   "metadata": {},
   "outputs": [
    {
     "data": {
      "text/html": [
       "<a class=\"ProveItLink\" href=\"../__pv_it/demonstrations/64bfe7bad6348e4d450868f23a31af99e87c6bcb0/expr.ipynb\"><img src=\"data:image/png;base64,iVBORw0KGgoAAAANSUhEUgAAAGAAAAAVBAMAAABLWfZ5AAAAMFBMVEX///9UVFSYmJgyMjJERESq\n",
       "qqoQEBDu7u66uroiIiLc3NzMzMxmZmaIiIh2dnYAAADysKFQAAAAAXRSTlMAQObYZgAAAAlwSFlz\n",
       "AAAOxAAADsQBlSsOGwAAAcFJREFUOMuNkzsvBFEUx/+G3VnzsnwAGRrtJjoFS4nEFApCWK1C9gsI\n",
       "UVAoqFBOQaEgFCQkEkKCRLERCWEl23gVdj0jSHDuYyYj2RE3ubnn3Ht+957XBcKH6wl6qImWCGq3\n",
       "nlC2EgaUPoh1ObvvAyYQ2Q4D+gWg2ajxAYvmdBiw88GXYaDbB0jBVYi9tfzJ1wxQ6QM9NOdDgCXz\n",
       "VQKxWR/IsdjcoFk+6yVhO/LElthmc32aA2o2g5yZQIRR6H5JYwJYHFUHNYcbOvqXCLN2Y4UDViSl\n",
       "2uabiFoZuIuz94aAdpNdCAPao8yLkuDAgjGtuEgBByKQNt2BQfyuxT06Odp5kXmJPXAgHc3QEVVh\n",
       "ldRTOiEtmgSub5idSsl5Z8IkVSslgp5yLb7fJ9O4BIyQVwVHeATMyLyUxQVwiAVY5G+DBOjmCpte\n",
       "4NoYzSYmkP/rrgD2UIcuKn1SAuSdEYdSYO2oMS86yFCtQmxONt+4m1NGydARgMGSlz+2jXsy63hO\n",
       "o/O7kVpt7fLe61a9uuWcpHJZqJLiDRJsb53f3ft/QFSoVe5sFQWGgwCnVe9fnRUFJn+9wP+QLXfi\n",
       "+HNc+F808Mt/AKkaeCFuKGIyAAAAAElFTkSuQmCC\n",
       "\" style=\"display:inline;vertical-align:middle;\" /></a>"
      ],
      "text/plain": [
       "alpha . A . beta . |psi〉 . gamma"
      ]
     },
     "execution_count": 32,
     "metadata": {},
     "output_type": "execute_result"
    }
   ],
   "source": [
    "qmult1"
   ]
  },
  {
   "cell_type": "code",
   "execution_count": 33,
   "metadata": {},
   "outputs": [
    {
     "data": {
      "text/html": [
       "<strong id=\"qmult1_association\">qmult1_association:</strong> <span style=\"font-size:20px;\"><a class=\"ProveItLink\" href=\"../__pv_it/demonstrations/9776b868029321ad4d7f2b3c1f048f5554e92b8f0/expr.ipynb\"><img src=\"data:image/png;base64,iVBORw0KGgoAAAANSUhEUgAAADQAAAAUBAMAAAAw+gPuAAAAMFBMVEX///8yMjJmZmaIiIjMzMzc\n",
       "3Nx2dnZUVFQQEBCYmJi6urru7u5EREQiIiKqqqoAAAAmNEGZAAAAAXRSTlMAQObYZgAAAAlwSFlz\n",
       "AAAOxAAADsQBlSsOGwAAAM9JREFUKM9jYMACWHMuCockYJNhyOlk2PRdAZsMkxVQxxysUk48GxgY\n",
       "2FGkbO7eFQDRp3lA9hkgySy0hjIOBEEZb/9sYFgNUiYNc1+BG4TB2Z5bwAByKGMAVIolYSWEEcPA\n",
       "cITlAUgK7iuFxRAG0ILNbCCGx10gOAC2KwxuP1swiNwD54NdCJXKBpG8cP4ikL8YFoClwL5jNkAJ\n",
       "DWaw2UwOYBE5uLZEsQ37hMAsdojA9lMb4CHffykAWYph2VlIQCEBZwacwAq3VAFuqQDswgBkzi1X\n",
       "2dcTkQAAAABJRU5ErkJggg==\n",
       "\" style=\"display:inline;vertical-align:middle;\" /></a>, <a class=\"ProveItLink\" href=\"../../../../logic/sets/cartesian_products/__pv_it/theorems/84ee59aeed12e78631ff41732d618eeba4d5229f0/expr.ipynb\"><img src=\"data:image/png;base64,iVBORw0KGgoAAAANSUhEUgAAAEYAAAATBAMAAADfQ2bzAAAAMFBMVEX///8iIiIyMjJmZmYQEBCq\n",
       "qqqYmJju7u5ERETMzMyIiIjc3NxUVFR2dna6uroAAACULOzSAAAAAXRSTlMAQObYZgAAAAlwSFlz\n",
       "AAAOxAAADsQBlSsOGwAAARJJREFUKM9jYCAADBgIgwZK1LDLd6gz8Pr74TWHI+ANA0N9AV41PNK8\n",
       "CQwsDMwdHR4dbbjURDBoMzBidw9Xo6AQWM22BZtwqOHTKoCas+Ek1wW4Gr47u2+d4rzVB5baVACz\n",
       "awMHQx9cDS9HF0N9HkMIWEob7p4NnAaFhbBwnsfSwLD/AkM+WEoBoYYhlbUFxiuof8AQX8BwAsTm\n",
       "dBQUFJSAquEpOAJ3ZzwDgxEDgxc4eBuQzGE/UAhXc4iBQZaB7zc7iC2ApIZhFgdcjS8D+z8GHoWt\n",
       "IPYqeFxMAIbVDBiP+ycD2wcGpgsXQBymAKgoI4hhBA82AQYuAwZWqw1gB514DhbklPcAkkXY44nv\n",
       "BiQuUAAA7zs7hIz3bAEAAAAASUVORK5CYII=\n",
       "\" style=\"display:inline;vertical-align:middle;\" /></a>, <a class=\"ProveItLink\" href=\"../../../../numbers/number_sets/natural_numbers/__pv_it/theorems/d0faa5018b5696ae3900dfa3ef431459c4f039010/expr.ipynb\"><img src=\"data:image/png;base64,iVBORw0KGgoAAAANSUhEUgAAAEEAAAATBAMAAAA9n32KAAAAMFBMVEX///9mZmYiIiIyMjKqqqqY\n",
       "mJgQEBDMzMzu7u5ERESIiIjc3NxUVFR2dna6uroAAABonEzTAAAAAXRSTlMAQObYZgAAAAlwSFlz\n",
       "AAAOxAAADsQBlSsOGwAAAPlJREFUKM9jYMAHGBkIAU6yVTT9nNzAcO3bAzxmTOE7wMDxA58thzZc\n",
       "ZWBIYJCcOW3mzACsKo5MYN7AoIDNjJVKSgYg+nQUtwFWFY9XQBmneQrWIlTw3dl96xRYnNsCpvQ0\n",
       "wwTOB3AVvJyzGPo3gFjMGxAqCjk0FGBhWsc2gWF/AVgFA0IFq4NnAozX0P+AIR7MKlMCggkQFQwn\n",
       "eOAqGPwZGE6CGZ1IZjD0cCjAuYcZGL5ygBhMyCrYF0yAc3MZWD7wghhcC2BC04F4OVwF93cGXoNo\n",
       "MNMEJqYC8oYBjMenwMA91QHM7JnXAKaLvgH1cxhgi4+3k5QwxQHHgj1ZIOxujgAAAABJRU5ErkJg\n",
       "gg==\n",
       "\" style=\"display:inline;vertical-align:middle;\" /></a>, <a class=\"ProveItLink\" href=\"../__pv_it/demonstrations/6634837ef11982c7c926a933fc6129de5c4761670/expr.ipynb\"><img src=\"data:image/png;base64,iVBORw0KGgoAAAANSUhEUgAAADUAAAATBAMAAADCPVhoAAAAMFBMVEX///8QEBAyMjJERETMzMy6\n",
       "uroiIiKqqqpUVFSYmJju7u5mZmaIiIh2dnbc3NwAAABKcBCOAAAAAXRSTlMAQObYZgAAAAlwSFlz\n",
       "AAAOxAAADsQBlSsOGwAAAPFJREFUKM9jYMAG3popnfOFsE7vQpXiNZzAtb8bxOKbwDADVW5PLAMD\n",
       "pzWItYaBoQxFimWDFZAE6zvAwNABETyclqYApJgXGADJNxA51iywVNApiBJmvg1QE1j9LJQWgO3V\n",
       "goq8YLkAcxTDTDcHEIPpAVTEl3UCXI6BUwEsB3PLa9YDUBbQmawfQAzHNCAwANsHMzOEgYFHAMRY\n",
       "DNMHcScIANUwN4AYbDA5VrD/WIEYaJcj2BU8B5DDheEwAwNXJwNrKkRIHR6eSre4ioB+ZHc/cwcq\n",
       "tMJ0ASweDL/tg3gBDmLNwGGGiA8G3GANHrkQ3FIAu+U0diYjhn8AAAAASUVORK5CYII=\n",
       "\" style=\"display:inline;vertical-align:middle;\" /></a>, <a class=\"ProveItLink\" href=\"../__pv_it/demonstrations/847ecb4d628b91a053c2379114751af7d89ba9560/expr.ipynb\"><img src=\"data:image/png;base64,iVBORw0KGgoAAAANSUhEUgAAADYAAAAQBAMAAACvnpHFAAAAMFBMVEX///9UVFSYmJgyMjJERESq\n",
       "qqoQEBDu7u66uroiIiLc3NzMzMxmZmaIiIh2dnYAAADysKFQAAAAAXRSTlMAQObYZgAAAAlwSFlz\n",
       "AAAOxAAADsQBlSsOGwAAANRJREFUGNNjYMAGuJ5Mtl39AKsUw5MkhpqPB7BK8dwA6lHBLreHpYCB\n",
       "gRFV7srMmQYg2p0FZOcFZKnm61CGwxqY0Ls7GyCOM4e5UmAflLWygT2LKwDIYF4AFeF+0ARl5TEw\n",
       "+PAWgOTgvjvQC3XvdwaGw3wg1raZQOAAtm8dRI4NyHv2HMQqgTsK7E4gqAd68z3IOgZOuFwPyH8M\n",
       "DQz8CkB9YBHeCyjhwuvAwCPAwPSeGyxkCtf42K6g1AbkvUsKPG/BIoUeBfB4yJ+zADUc+zwhYQYF\n",
       "AH6TOAHoygR1AAAAAElFTkSuQmCC\n",
       "\" style=\"display:inline;vertical-align:middle;\" /></a>, <a class=\"ProveItLink\" href=\"../__pv_it/demonstrations/a0aa0488271b81ec08bef69d663496a5009a7f650/expr.ipynb\"><img src=\"data:image/png;base64,iVBORw0KGgoAAAANSUhEUgAAAF0AAAASBAMAAADLUc9JAAAAMFBMVEX///8QEBAiIiLu7u5ERES6\n",
       "urqYmJiIiIjMzMx2dnZUVFRmZmaqqqoyMjLc3NwAAABb1yYoAAAAAXRSTlMAQObYZgAAAAlwSFlz\n",
       "AAAOxAAADsQBlSsOGwAAAXlJREFUKM9jYCAIOhkYuBsYiAFs29qrGRjYJzBsY2DIzihfULYCKvEW\n",
       "XSXfFN3rLyawBSYwPmBgKOcsYGBIFWOQYqiCSt9HVz9FjMH614bHRQz8BgwMnNeBBpgrMHxl2AmR\n",
       "5fmPppy7dAIDQ8oGhuUMgUAe5zUgwVXAIcCgA5Ve/wBVfTcL0FiuDQwSDDs5GBgquRMYGBgb2B34\n",
       "PkD8PW8+1P/sTkq6INqZBeSHAr4PDKonQP7dw8DwHmgDm8MEsOcK6g+AlbNeN4Doc3gN4S9gqEwA\n",
       "hSdXA0MUA+8DvuVgeW6G8wmQYIIq51vQiS+YYxj6wfYw3IMKcEwIw6d+A8P7BWDGBVjobwjHo5zd\n",
       "e/d6B7CxQkpKSipg97/Eo96cgYFfAcRgdoAJgcMHt3MYmATALAWYUDQo/BkCsCpnBYYN7wcwsxwl\n",
       "ftkdsKp/CMQs/8BM3gMwwbk3DWxuY1Vu8v8yA4//X3CAMi8JhqdPee0HhBM86xRIesANAEA9Vo0y\n",
       "TAlvAAAAAElFTkSuQmCC\n",
       "\" style=\"display:inline;vertical-align:middle;\" /></a>, <a class=\"ProveItLink\" href=\"../__pv_it/demonstrations/932f704789037247f30ad02e6c8f267e6cfb2e4c0/expr.ipynb\"><img src=\"data:image/png;base64,iVBORw0KGgoAAAANSUhEUgAAAFAAAAAVBAMAAAAjqnRBAAAAMFBMVEX///9UVFREREQiIiKYmJgQ\n",
       "EBAyMjJmZmaqqqru7u7MzMyIiIi6urp2dnbc3NwAAAC+adfGAAAAAXRSTlMAQObYZgAAAAlwSFlz\n",
       "AAAOxAAADsQBlSsOGwAAAX5JREFUKM+Fkz9IAzEUxj/bq+1dvHq7CAVdBJFCQdfaza2Dk4vdVMRy\n",
       "qKNDN0EUThcFlzoUBxHOOkhFpIPVQcTQQRw6nC5WQdTRzSRNz2uQ+iCEl/zy/nxJ4EGagb9NWz06\n",
       "IZNFNNoLoaKKxOvji29Uq6UjFrEkSICYrYL1aex+2a+n6K9GqQRNNpIKF72gQMbGAEoIFyS4z8aj\n",
       "Ah6GHKDHxgzK+DAkuMHGswTKqVSOzyMhXqcb/2QxM6YEWRL0tgS4rsgDiRcx9VnI46nCQP3MBSU5\n",
       "xKhodaHds3XcUUkDZiyrp8m37Ka3LaxBrxSwGU1qHrLAmgB9Fe1bBXQiLlOHqXjA/VKKWULU+K6A\n",
       "uPdM6C6wxf0df0d03QGuoAmTaZbnftjfueE6ohoAlzGFTVaUSEjcjpshiQBY86jGDpoFsTDvh3xY\n",
       "cvbmgqmNweHL36Tbo47/emYnvCAIQ8Ralyt3Q60rVIyDRMQYQ1dryEcGPfc/SES76e7guf8VunM/\n",
       "h/FjgTPyFT0AAAAASUVORK5CYII=\n",
       "\" style=\"display:inline;vertical-align:middle;\" /></a> <a class=\"ProveItLink\" href=\"../__pv_it/demonstrations/f8aca8f26b6e2b94e54e056a4088325de293ef0c0/proof.ipynb\" style=\"text-decoration: none\">&nbsp;&#x22A2;&nbsp;&nbsp;</a><a class=\"ProveItLink\" href=\"../__pv_it/demonstrations/1bc0a2f45071c550e1ed27ff8f37eac24f91cc9c0/expr.ipynb\"><img src=\"data:image/png;base64,iVBORw0KGgoAAAANSUhEUgAAAQ4AAAAVBAMAAABF+R16AAAAMFBMVEX////MzMxUVFREREQiIiK6\n",
       "uroQEBCYmJhmZmYyMjLu7u52dnaqqqqIiIjc3NwAAACFAiZ1AAAAAXRSTlMAQObYZgAAAAlwSFlz\n",
       "AAAOxAAADsQBlSsOGwAAA8hJREFUSMeFlk2IE0kUx/8x00mnO4mDiCc/ghcPHhy9OAysE0X3IIuO\n",
       "IIqiGBQvDkhwQUcXluyo+IVsbsvOijYIgofBICqijhNxBMGDEREH8SPgsIs4YtSFxQ+cfa+6uru6\n",
       "u6IF6eSl6/+rf796VdUAmmjf/HsJ3Z9Ky38jUjVaoOieq4cEr0LRZe9HsjP4c6vGx1NNlK/GNVqg\n",
       "0aDLvTDwjPx+PX7cl+WAbCXoEnHOLVvTRJlWgPI0WiD7tqph4JRMVRl7fJlNn6LSaSjm47wuut9S\n",
       "UEOqjygw48AshxDmIncGh4ExX0YBbiidBmI+juiiwa8KakD1EQWmK0iFgTdH3XmjGZvvy27R56XS\n",
       "KeVEfZQ0kf36nYKSGj0Qu7ApXOiNF3UpNlb7Mp7ujLJKMuWIDaOqid7kvigoqdED8QdO8Nf1cVm9\n",
       "Ju6L/sbcJX86QmaNN1DLVd3ay67tgeHALkR8mHzTHvlNiYBK9j8FJTURIMY+ONgMXCQnwESftTsv\n",
       "8rAF82puIe2b2SlkdrZklXOf3Lrau3AF11haPPChldxWeAnKr8K55mSQLqOe+KygXE0UmN5+qcDZ\n",
       "2Y+fKOoHunNi/ip4W5AFLYSXMWkW002e8cM0VBct+9mUlmIkHx30EKkakpUnXsSpzb9XUFITBnKR\n",
       "LE7UuZB3koLMHbPFuu4+uqhLFrTREjIn1bDZH2bQbQdWg9wnWhEfqT7gd1p71ZoXAQ+PDn5QUFIT\n",
       "BoJ8D/PI89hHioa+ck1qpgvf62jQkltW25o2je7vdzfpp1HS+NhBj97v+D5Y8q+Ckpo40H5Dlw04\n",
       "BVygpxitu9OCjpIs6GTBlR3CJGzin3Zl1x0vx2p91GFRMdjuAsnUxbQAPyoof16iQJszMIYfKAVU\n",
       "V1dEaZW9zZgmdFbTlR3EAdwRtSHaVa6urkg+kvR4tDjskh9ho3dGSJTUxIE2b/A/04qBWUB6lM+/\n",
       "vxnCm6C1AMYqKdvQrKUp0bY8IHhtmo2ID16Ug8AvrU4vyrOl3maAkpo40GTNSaznXD8umyPA2akh\n",
       "ZHs/UiKzs5+NeLLEwqXPeRHIIXm2OqInv1Hk7WMfTjRkZPV+dHB76q8AJTVx4DS+rEFHp+YUt9Vz\n",
       "PyGM31V8TMQEy9tGHmqiHZB95It8xHzHh7uzLJOvL43YqRY/+QY0qCNtgJjDc1MOYrUNqz4EyXs9\n",
       "yPUFFaYWarNdJFGeJgbEI3nmndX4WBfKhxi/HGQxGTtuYXW1iyTK08SAYqJ73NeU9u2B/4jKq+Sv\n",
       "mo7/fCOCookB+Y2V9vn/AeW0MWZYo4rmAAAAAElFTkSuQmCC\n",
       "\" style=\"display:inline;vertical-align:middle;\" /></a></span><br>"
      ],
      "text/plain": [
       "qmult1_association: {gamma in Complex, m in NaturalPos, n in NaturalPos, beta in Complex, alpha in Complex, A in Complex^{n x m}, |psi〉 in Complex^{m}} |- (alpha . A . beta . |psi〉 . gamma) = (alpha . (A . beta) . |psi〉 . gamma)"
      ]
     },
     "execution_count": 33,
     "metadata": {},
     "output_type": "execute_result"
    }
   ],
   "source": [
    "qmult1_association = qmult1.association(1, 2)"
   ]
  },
  {
   "cell_type": "code",
   "execution_count": 34,
   "metadata": {},
   "outputs": [
    {
     "data": {
      "text/html": [
       "<strong id=\"qmult1_associated\">qmult1_associated:</strong> <a class=\"ProveItLink\" href=\"../__pv_it/demonstrations/6f351d871586963e19853b9fb2ddd5b5689b64750/expr.ipynb\"><img src=\"data:image/png;base64,iVBORw0KGgoAAAANSUhEUgAAAHcAAAAVBAMAAACOK2zoAAAAMFBMVEX///9UVFSYmJgyMjJERESq\n",
       "qqoQEBDu7u66uroiIiLc3NzMzMxmZmaIiIh2dnYAAADysKFQAAAAAXRSTlMAQObYZgAAAAlwSFlz\n",
       "AAAOxAAADsQBlSsOGwAAAjVJREFUOMt1lL9rFEEUx7/u3d5udm/Xi39AOC0UJMWBhWChq01AhFxh\n",
       "oSh6tUVYsA4eFjZBPJsoWGQJpkhh0CKCVkkUVLRYRBs94RoTETXxF6KC+ubNW3fYZAd23+zMfN6b\n",
       "+b63A5jNQ7ElBQsfZe2ldtHKRy6LfZcNVG+XsPaATWVDfy70HyFom3BAa5ZK4PPanNWw18ROYL8J\n",
       "h/T0SuAVbZZ/sZkETgKjJkxDeFsCd7T7hd9sU2AYqMUGfIqem1uzrhbqVvBdYPcaCdA0YKVJJTGZ\n",
       "T30RsK71WrK/sKv7h/dR1LAhsNNPMQhaWlV7Zgwuzc53nXMea6qDuG3/jxZn1z3yarUEDu2O0wx+\n",
       "aMV2j1xl9SaAYwEfbIhd1OF9FmUVaPcEnqv3rETJ8pgSEVG+F2kt+XoQ8oJaV71fPFv+Jsq6lDN/\n",
       "Q+C4ltIyyvIdyncMJ6Xt1yJgdS2HHRL5p/qaojUUx+1kgl1JQp49oxV6T90L5GBdl1GlzbsGpkXZ\n",
       "asPYNp5gDiGd74DoTN3tpNKqlC35wkV6DqkvOu9dyooVZfBD7MEJPi+3DypSA9a6/lVUVjy1y3GC\n",
       "nB1wr6v5NIMvJQOLDhZKtT/l8M+b9Y+6SHpwxr/GOP73IG138Q2PDiUZ7I8ceaUGpDwahRK7YfRD\n",
       "sfN5bfsc83QJPLoFvJLDuhqOyqWQFuCqUbaTcrdEOcz+HLkpgm4BdqK8PyX+YiMyQ/pHwbZN/9Xs\n",
       "ppG9Yl//351x3f0DhLCLtsorqmgAAAAASUVORK5CYII=\n",
       "\" style=\"display:inline;vertical-align:middle;\" /></a><br>"
      ],
      "text/plain": [
       "qmult1_associated: alpha . (A . beta) . |psi〉 . gamma"
      ]
     },
     "execution_count": 34,
     "metadata": {},
     "output_type": "execute_result"
    }
   ],
   "source": [
    "qmult1_associated = qmult1_association.rhs"
   ]
  },
  {
   "cell_type": "code",
   "execution_count": 35,
   "metadata": {},
   "outputs": [
    {
     "data": {
      "text/html": [
       "<span style=\"font-size:20px;\"><a class=\"ProveItLink\" href=\"../__pv_it/demonstrations/9776b868029321ad4d7f2b3c1f048f5554e92b8f0/expr.ipynb\"><img src=\"data:image/png;base64,iVBORw0KGgoAAAANSUhEUgAAADQAAAAUBAMAAAAw+gPuAAAAMFBMVEX///8yMjJmZmaIiIjMzMzc\n",
       "3Nx2dnZUVFQQEBCYmJi6urru7u5EREQiIiKqqqoAAAAmNEGZAAAAAXRSTlMAQObYZgAAAAlwSFlz\n",
       "AAAOxAAADsQBlSsOGwAAAM9JREFUKM9jYMACWHMuCockYJNhyOlk2PRdAZsMkxVQxxysUk48GxgY\n",
       "2FGkbO7eFQDRp3lA9hkgySy0hjIOBEEZb/9sYFgNUiYNc1+BG4TB2Z5bwAByKGMAVIolYSWEEcPA\n",
       "cITlAUgK7iuFxRAG0ILNbCCGx10gOAC2KwxuP1swiNwD54NdCJXKBpG8cP4ikL8YFoClwL5jNkAJ\n",
       "DWaw2UwOYBE5uLZEsQ37hMAsdojA9lMb4CHffykAWYph2VlIQCEBZwacwAq3VAFuqQDswgBkzi1X\n",
       "2dcTkQAAAABJRU5ErkJggg==\n",
       "\" style=\"display:inline;vertical-align:middle;\" /></a>, <a class=\"ProveItLink\" href=\"../../../../logic/sets/cartesian_products/__pv_it/theorems/84ee59aeed12e78631ff41732d618eeba4d5229f0/expr.ipynb\"><img src=\"data:image/png;base64,iVBORw0KGgoAAAANSUhEUgAAAEYAAAATBAMAAADfQ2bzAAAAMFBMVEX///8iIiIyMjJmZmYQEBCq\n",
       "qqqYmJju7u5ERETMzMyIiIjc3NxUVFR2dna6uroAAACULOzSAAAAAXRSTlMAQObYZgAAAAlwSFlz\n",
       "AAAOxAAADsQBlSsOGwAAARJJREFUKM9jYCAADBgIgwZK1LDLd6gz8Pr74TWHI+ANA0N9AV41PNK8\n",
       "CQwsDMwdHR4dbbjURDBoMzBidw9Xo6AQWM22BZtwqOHTKoCas+Ek1wW4Gr47u2+d4rzVB5baVACz\n",
       "awMHQx9cDS9HF0N9HkMIWEob7p4NnAaFhbBwnsfSwLD/AkM+WEoBoYYhlbUFxiuof8AQX8BwAsTm\n",
       "dBQUFJSAquEpOAJ3ZzwDgxEDgxc4eBuQzGE/UAhXc4iBQZaB7zc7iC2ApIZhFgdcjS8D+z8GHoWt\n",
       "IPYqeFxMAIbVDBiP+ycD2wcGpgsXQBymAKgoI4hhBA82AQYuAwZWqw1gB514DhbklPcAkkXY44nv\n",
       "BiQuUAAA7zs7hIz3bAEAAAAASUVORK5CYII=\n",
       "\" style=\"display:inline;vertical-align:middle;\" /></a>, <a class=\"ProveItLink\" href=\"../../../../numbers/number_sets/natural_numbers/__pv_it/theorems/d0faa5018b5696ae3900dfa3ef431459c4f039010/expr.ipynb\"><img src=\"data:image/png;base64,iVBORw0KGgoAAAANSUhEUgAAAEEAAAATBAMAAAA9n32KAAAAMFBMVEX///9mZmYiIiIyMjKqqqqY\n",
       "mJgQEBDMzMzu7u5ERESIiIjc3NxUVFR2dna6uroAAABonEzTAAAAAXRSTlMAQObYZgAAAAlwSFlz\n",
       "AAAOxAAADsQBlSsOGwAAAPlJREFUKM9jYMAHGBkIAU6yVTT9nNzAcO3bAzxmTOE7wMDxA58thzZc\n",
       "ZWBIYJCcOW3mzACsKo5MYN7AoIDNjJVKSgYg+nQUtwFWFY9XQBmneQrWIlTw3dl96xRYnNsCpvQ0\n",
       "wwTOB3AVvJyzGPo3gFjMGxAqCjk0FGBhWsc2gWF/AVgFA0IFq4NnAozX0P+AIR7MKlMCggkQFQwn\n",
       "eOAqGPwZGE6CGZ1IZjD0cCjAuYcZGL5ygBhMyCrYF0yAc3MZWD7wghhcC2BC04F4OVwF93cGXoNo\n",
       "MNMEJqYC8oYBjMenwMA91QHM7JnXAKaLvgH1cxhgi4+3k5QwxQHHgj1ZIOxujgAAAABJRU5ErkJg\n",
       "gg==\n",
       "\" style=\"display:inline;vertical-align:middle;\" /></a>, <a class=\"ProveItLink\" href=\"../__pv_it/demonstrations/6634837ef11982c7c926a933fc6129de5c4761670/expr.ipynb\"><img src=\"data:image/png;base64,iVBORw0KGgoAAAANSUhEUgAAADUAAAATBAMAAADCPVhoAAAAMFBMVEX///8QEBAyMjJERETMzMy6\n",
       "uroiIiKqqqpUVFSYmJju7u5mZmaIiIh2dnbc3NwAAABKcBCOAAAAAXRSTlMAQObYZgAAAAlwSFlz\n",
       "AAAOxAAADsQBlSsOGwAAAPFJREFUKM9jYMAG3popnfOFsE7vQpXiNZzAtb8bxOKbwDADVW5PLAMD\n",
       "pzWItYaBoQxFimWDFZAE6zvAwNABETyclqYApJgXGADJNxA51iywVNApiBJmvg1QE1j9LJQWgO3V\n",
       "goq8YLkAcxTDTDcHEIPpAVTEl3UCXI6BUwEsB3PLa9YDUBbQmawfQAzHNCAwANsHMzOEgYFHAMRY\n",
       "DNMHcScIANUwN4AYbDA5VrD/WIEYaJcj2BU8B5DDheEwAwNXJwNrKkRIHR6eSre4ioB+ZHc/cwcq\n",
       "tMJ0ASweDL/tg3gBDmLNwGGGiA8G3GANHrkQ3FIAu+U0diYjhn8AAAAASUVORK5CYII=\n",
       "\" style=\"display:inline;vertical-align:middle;\" /></a>, <a class=\"ProveItLink\" href=\"../__pv_it/demonstrations/847ecb4d628b91a053c2379114751af7d89ba9560/expr.ipynb\"><img src=\"data:image/png;base64,iVBORw0KGgoAAAANSUhEUgAAADYAAAAQBAMAAACvnpHFAAAAMFBMVEX///9UVFSYmJgyMjJERESq\n",
       "qqoQEBDu7u66uroiIiLc3NzMzMxmZmaIiIh2dnYAAADysKFQAAAAAXRSTlMAQObYZgAAAAlwSFlz\n",
       "AAAOxAAADsQBlSsOGwAAANRJREFUGNNjYMAGuJ5Mtl39AKsUw5MkhpqPB7BK8dwA6lHBLreHpYCB\n",
       "gRFV7srMmQYg2p0FZOcFZKnm61CGwxqY0Ls7GyCOM4e5UmAflLWygT2LKwDIYF4AFeF+0ARl5TEw\n",
       "+PAWgOTgvjvQC3XvdwaGw3wg1raZQOAAtm8dRI4NyHv2HMQqgTsK7E4gqAd68z3IOgZOuFwPyH8M\n",
       "DQz8CkB9YBHeCyjhwuvAwCPAwPSeGyxkCtf42K6g1AbkvUsKPG/BIoUeBfB4yJ+zADUc+zwhYQYF\n",
       "AH6TOAHoygR1AAAAAElFTkSuQmCC\n",
       "\" style=\"display:inline;vertical-align:middle;\" /></a>, <a class=\"ProveItLink\" href=\"../__pv_it/demonstrations/a0aa0488271b81ec08bef69d663496a5009a7f650/expr.ipynb\"><img src=\"data:image/png;base64,iVBORw0KGgoAAAANSUhEUgAAAF0AAAASBAMAAADLUc9JAAAAMFBMVEX///8QEBAiIiLu7u5ERES6\n",
       "urqYmJiIiIjMzMx2dnZUVFRmZmaqqqoyMjLc3NwAAABb1yYoAAAAAXRSTlMAQObYZgAAAAlwSFlz\n",
       "AAAOxAAADsQBlSsOGwAAAXlJREFUKM9jYCAIOhkYuBsYiAFs29qrGRjYJzBsY2DIzihfULYCKvEW\n",
       "XSXfFN3rLyawBSYwPmBgKOcsYGBIFWOQYqiCSt9HVz9FjMH614bHRQz8BgwMnNeBBpgrMHxl2AmR\n",
       "5fmPppy7dAIDQ8oGhuUMgUAe5zUgwVXAIcCgA5Ve/wBVfTcL0FiuDQwSDDs5GBgquRMYGBgb2B34\n",
       "PkD8PW8+1P/sTkq6INqZBeSHAr4PDKonQP7dw8DwHmgDm8MEsOcK6g+AlbNeN4Doc3gN4S9gqEwA\n",
       "hSdXA0MUA+8DvuVgeW6G8wmQYIIq51vQiS+YYxj6wfYw3IMKcEwIw6d+A8P7BWDGBVjobwjHo5zd\n",
       "e/d6B7CxQkpKSipg97/Eo96cgYFfAcRgdoAJgcMHt3MYmATALAWYUDQo/BkCsCpnBYYN7wcwsxwl\n",
       "ftkdsKp/CMQs/8BM3gMwwbk3DWxuY1Vu8v8yA4//X3CAMi8JhqdPee0HhBM86xRIesANAEA9Vo0y\n",
       "TAlvAAAAAElFTkSuQmCC\n",
       "\" style=\"display:inline;vertical-align:middle;\" /></a>, <a class=\"ProveItLink\" href=\"../__pv_it/demonstrations/932f704789037247f30ad02e6c8f267e6cfb2e4c0/expr.ipynb\"><img src=\"data:image/png;base64,iVBORw0KGgoAAAANSUhEUgAAAFAAAAAVBAMAAAAjqnRBAAAAMFBMVEX///9UVFREREQiIiKYmJgQ\n",
       "EBAyMjJmZmaqqqru7u7MzMyIiIi6urp2dnbc3NwAAAC+adfGAAAAAXRSTlMAQObYZgAAAAlwSFlz\n",
       "AAAOxAAADsQBlSsOGwAAAX5JREFUKM+Fkz9IAzEUxj/bq+1dvHq7CAVdBJFCQdfaza2Dk4vdVMRy\n",
       "qKNDN0EUThcFlzoUBxHOOkhFpIPVQcTQQRw6nC5WQdTRzSRNz2uQ+iCEl/zy/nxJ4EGagb9NWz06\n",
       "IZNFNNoLoaKKxOvji29Uq6UjFrEkSICYrYL1aex+2a+n6K9GqQRNNpIKF72gQMbGAEoIFyS4z8aj\n",
       "Ah6GHKDHxgzK+DAkuMHGswTKqVSOzyMhXqcb/2QxM6YEWRL0tgS4rsgDiRcx9VnI46nCQP3MBSU5\n",
       "xKhodaHds3XcUUkDZiyrp8m37Ka3LaxBrxSwGU1qHrLAmgB9Fe1bBXQiLlOHqXjA/VKKWULU+K6A\n",
       "uPdM6C6wxf0df0d03QGuoAmTaZbnftjfueE6ohoAlzGFTVaUSEjcjpshiQBY86jGDpoFsTDvh3xY\n",
       "cvbmgqmNweHL36Tbo47/emYnvCAIQ8Ralyt3Q60rVIyDRMQYQ1dryEcGPfc/SES76e7guf8VunM/\n",
       "h/FjgTPyFT0AAAAASUVORK5CYII=\n",
       "\" style=\"display:inline;vertical-align:middle;\" /></a> <a class=\"ProveItLink\" href=\"../__pv_it/demonstrations/9475cc20c3bb80e456375665652175f44c50da3f0/proof.ipynb\" style=\"text-decoration: none\">&nbsp;&#x22A2;&nbsp;&nbsp;</a><a class=\"ProveItLink\" href=\"../__pv_it/demonstrations/da9a27449fd748b28e946241b828d6ef574f07340/expr.ipynb\"><img src=\"data:image/png;base64,iVBORw0KGgoAAAANSUhEUgAAAQ4AAAAVBAMAAABF+R16AAAAMFBMVEX////MzMxUVFREREQiIiK6\n",
       "uroQEBCYmJhmZmYyMjLu7u52dnaqqqqIiIjc3NwAAACFAiZ1AAAAAXRSTlMAQObYZgAAAAlwSFlz\n",
       "AAAOxAAADsQBlSsOGwAAA/1JREFUSMd9Vm+IVFUU/43u7Hv73pvXINIn08EvIn1w9UsS6E5QfQiR\n",
       "ERYjEVyCvhgtYxFSUAxmsCXCfpNM6pEfwg+Lj1I/bK074hpChBNRrv8HNpJQUTMIS9zOvfe8++55\n",
       "M3VguHPeufd3f/ecc8+5ALpwRWokcWEEqr3G/4foZysVt6i03Xms/Z5/KXfMGDayL+t7jX0g7CaT\n",
       "rnYy+7O0WkD5Xqxi7XPGmJlIcFXwoCXnnflXe3lIQAzdM+Ot+Y8tjwoQtSRKIOiyFi0a9Sa8GoYS\n",
       "l0cKDLi7JEUaEhC4YHjETbxpeYT0q0sUv+kuYs1fp+MYdBDV4bUcHvQJoeN4r1XkIQGBfY/1MAXM\n",
       "WR6k4FsIlEGxiLXTs1V235IasNvhEZEhHnZW7C7ykIAIb93P4rna8jhDvwUIlFfEKqPFnRtt5jFK\n",
       "fj/k8FAexWfOikNFHhIQdyqPmEf5JcsjVbHoCpQDavhmnrP3gHEtLmjnbltYe5iGrzIeUweJxyXO\n",
       "xLkHCXZkRkckIFrRX/pKrNzwSaJ5BPMdpJVJRKlAUef5tRGMx+38dDuxSk9KvT3P0fBOxiP9Dl/i\n",
       "RqIT1Xv1RE2dSxv957XUMogcsNwu/WP8uHd5VfMIo7GgWfnbJGqOsoW014GNFZ34W8wZcLfG7lPb\n",
       "zDGPuL0f76v4+w0d3vWldmZ0RAL6iP/geHqTmsdtv+51MQZ8CBflNZpL5D7SgVcapcXGiXXDfDd2\n",
       "0biKeQR4g6j5VAuJ5WXK+tAaHZGAP03se8A3pHxP80gGO6E6KpbBRaFlg7TpqemcB615QjmtTI78\n",
       "hcbtWVzKj4kHWU1oEd6xRskjB1RH+VOnGh1vzOTprm6ov3O9Y5QjwHGCnTU14YgJCwbG+G5scOIC\n",
       "v05Bn7apHk5nRjc/BCA5Dy9yiJfWDI/9uI0wsbeOUTbR4elynDIfNyk3NLkYD1EExml8y/IY9pKo\n",
       "Ya9+2LJGRwTgy1mPoNx4smt4fIB3cS6vQoxC986vwZs1/U/dwt9UF1JF8IsmRlXROGjjMh7i7bwU\n",
       "+lVrdMQFjJVbR2j/YA3KL3Cf295NvUZelRllVN32i01/Rn8k7ejiYUQjD8mRZ364otvpVlvHln39\n",
       "XjdvDUtyoyMOYDDyMMHZxU8po1Zcm8n6benpZ64j71KMMlB1QYSWctOt5/V0ha7trRwhrhd5SMCs\n",
       "urt9v6Q9cR4CRTYqoaWicWkel/XTgSvyU326Wr/OV+RhKstmSJTNYoGjBfzGWXDeH5raMZ7wc7Fb\n",
       "9UBYmXJ5hOJ5kKEcFQscrcwOftbhoald5Am13PgfEFa2CX/oYtksoMTCs3GvnzkKFRv34fyt6fV5\n",
       "i/ZCOPKjfRdCoPwL9Z8oUeOUqYgAAAAASUVORK5CYII=\n",
       "\" style=\"display:inline;vertical-align:middle;\" /></a></span>"
      ],
      "text/plain": [
       "{gamma in Complex, m in NaturalPos, n in NaturalPos, beta in Complex, alpha in Complex, A in Complex^{n x m}, |psi〉 in Complex^{m}} |- (alpha . (A . beta) . |psi〉 . gamma) = (alpha . A . beta . |psi〉 . gamma)"
      ]
     },
     "execution_count": 35,
     "metadata": {},
     "output_type": "execute_result"
    }
   ],
   "source": [
    "qmult1_associated.disassociation(1)"
   ]
  },
  {
   "cell_type": "code",
   "execution_count": 36,
   "metadata": {},
   "outputs": [
    {
     "data": {
      "text/html": [
       "<a class=\"ProveItLink\" href=\"../__pv_it/demonstrations/1407314ac4d6bc171a87de819f82e9ca04b1dac70/expr.ipynb\"><img src=\"data:image/png;base64,iVBORw0KGgoAAAANSUhEUgAAAKkAAAAVBAMAAADP89MSAAAAMFBMVEX///8QEBBUVFS6urqYmJiI\n",
       "iIgyMjLu7u7MzMxmZmYiIiKqqqp2dnZERETc3NwAAACf5FhoAAAAAXRSTlMAQObYZgAAAAlwSFlz\n",
       "AAAOxAAADsQBlSsOGwAAAqxJREFUOMuNlU1o1FAQx//dTTabJhu9CB607Ek8KF32IFIPrvh5EIlQ\n",
       "Ww9C9yD2plFsb8IiHoQeXPzCFsFFL16kqyC4IDQgi4hfixf11BXEi5T2IFqsts6bvGSz2aT4DsnL\n",
       "ZOY3L/+Z9wKgDTmCSeywglkl8iYOYLX82Yso6Fv4wSz4s0+RdN0A6/Yjopv1ROo5GdacdgKqDTS6\n",
       "vSIAE0Xy7kcS1Vjz7l+h5AOqG47gEQHkWIdGIlUfZAfNhlHzqfQQWhxiAGq+W6Uo9d17rosKpIK1\n",
       "GpWwkIgBaCviUk6iWvZYXVKHAl1NcTkbdusBzJOzWgKuArv+OlLs5h1fAMyVxH33wrZxrwcmbhF1\n",
       "BHjOq579iHQMoDHX8rSuInu66LLReoDz7e9M3YNrLtdHOfLQo7qPcRFjjleffTvu88ojAKWc+gUU\n",
       "WasUkGdjn4tcdZSpVSzmZdUPMdWqz+AY+ugrCixurjKFHsBi21gGbrBWhwVEGO850Mu8RPXz9GBL\n",
       "Vn0vUzVsohQ6kKVsqkNvhGMEsBNZog6z0RbBwriVHrc4gjoBbKCGQpqqftxTIL1KVLIbrmwSShgF\n",
       "/EB2CZgUZaHIFIut/SGfFSkA+jfKqn/wqHrNquMlkJEb/o1IHwEsk7K8FfSSDm07ZCqYgoU0lTZD\n",
       "WZGhLx6Q1JbiGKTpguySV3IvhQHLyNS9rzkzcmWm4BmvA0eXRPN/EQGrdLlQwlBBKjBgYj9NX0sq\n",
       "92AE0MQTYSXtlNnfrmxis3kAd0muS2vjMOZ/kvnZ01O2f2Zdfnuw7YXw4BaJAk6w6CLxzfgzyz9O\n",
       "OifhFK+u2kWNBQiRNv8vdbRzKpHcdjIg43AvJFE1O0zlFJPSohaSAYoNtZZMTVfCVE4xLC2p9QAt\n",
       "WF7kyXX/W2qlE9D9J+sF/AOFRNQDe7L7aAAAAABJRU5ErkJggg==\n",
       "\" style=\"display:inline;vertical-align:middle;\" /></a>"
      ],
      "text/plain": [
       "〈varphi| . alpha . A . beta . |psi〉 . gamma . 〈varphi| . delta"
      ]
     },
     "execution_count": 36,
     "metadata": {},
     "output_type": "execute_result"
    }
   ],
   "source": [
    "qmult2"
   ]
  },
  {
   "cell_type": "code",
   "execution_count": 37,
   "metadata": {},
   "outputs": [
    {
     "data": {
      "text/html": [
       "<span style=\"font-size:20px;\"><a class=\"ProveItLink\" href=\"../__pv_it/demonstrations/f902dee330625b7efb8591cb50d4ff3a2f40e3640/expr.ipynb\"><img src=\"data:image/png;base64,iVBORw0KGgoAAAANSUhEUgAAADIAAAAQBAMAAACmdTG/AAAAMFBMVEX///8QEBDMzMyYmJiqqqqI\n",
       "iIju7u5UVFS6urp2dnZEREQiIiIyMjJmZmbc3NwAAAAJMjmHAAAAAXRSTlMAQObYZgAAAAlwSFlz\n",
       "AAAOxAAADsQBlSsOGwAAAN1JREFUGNNjYGB4e3odAwrgm7Xn6KMJQMYEjjJUmVnCDLnfLwAZaDoY\n",
       "eCOA6q1AMuFoMrpcCQwM7CCZfAeISNTu3QdA9DIukF0BQILrG1iiJwyqZ8FbKIPlyi+wg47BXFag\n",
       "CWXZMNQDzWXgeQDlM01ohir5x+CvAJKB++ZCK4TBvoBBHySjuBsIFoDteQmR4Tdg0AfRWXBXg90G\n",
       "crMC0CYg4IbL9IL8w9DAwK/AcATEZw1ACQPWBQycASwFYIEjcE1zTiaknAXSUyMh/PQVCfCwlt/7\n",
       "ADm8OldDQgcKAL1EOEzTZhtzAAAAAElFTkSuQmCC\n",
       "\" style=\"display:inline;vertical-align:middle;\" /></a>, <a class=\"ProveItLink\" href=\"../../../../logic/sets/cartesian_products/__pv_it/theorems/84ee59aeed12e78631ff41732d618eeba4d5229f0/expr.ipynb\"><img src=\"data:image/png;base64,iVBORw0KGgoAAAANSUhEUgAAAEYAAAATBAMAAADfQ2bzAAAAMFBMVEX///8iIiIyMjJmZmYQEBCq\n",
       "qqqYmJju7u5ERETMzMyIiIjc3NxUVFR2dna6uroAAACULOzSAAAAAXRSTlMAQObYZgAAAAlwSFlz\n",
       "AAAOxAAADsQBlSsOGwAAARJJREFUKM9jYCAADBgIgwZK1LDLd6gz8Pr74TWHI+ANA0N9AV41PNK8\n",
       "CQwsDMwdHR4dbbjURDBoMzBidw9Xo6AQWM22BZtwqOHTKoCas+Ek1wW4Gr47u2+d4rzVB5baVACz\n",
       "awMHQx9cDS9HF0N9HkMIWEob7p4NnAaFhbBwnsfSwLD/AkM+WEoBoYYhlbUFxiuof8AQX8BwAsTm\n",
       "dBQUFJSAquEpOAJ3ZzwDgxEDgxc4eBuQzGE/UAhXc4iBQZaB7zc7iC2ApIZhFgdcjS8D+z8GHoWt\n",
       "IPYqeFxMAIbVDBiP+ycD2wcGpgsXQBymAKgoI4hhBA82AQYuAwZWqw1gB514DhbklPcAkkXY44nv\n",
       "BiQuUAAA7zs7hIz3bAEAAAAASUVORK5CYII=\n",
       "\" style=\"display:inline;vertical-align:middle;\" /></a>, <a class=\"ProveItLink\" href=\"../__pv_it/demonstrations/6634837ef11982c7c926a933fc6129de5c4761670/expr.ipynb\"><img src=\"data:image/png;base64,iVBORw0KGgoAAAANSUhEUgAAADUAAAATBAMAAADCPVhoAAAAMFBMVEX///8QEBAyMjJERETMzMy6\n",
       "uroiIiKqqqpUVFSYmJju7u5mZmaIiIh2dnbc3NwAAABKcBCOAAAAAXRSTlMAQObYZgAAAAlwSFlz\n",
       "AAAOxAAADsQBlSsOGwAAAPFJREFUKM9jYMAG3popnfOFsE7vQpXiNZzAtb8bxOKbwDADVW5PLAMD\n",
       "pzWItYaBoQxFimWDFZAE6zvAwNABETyclqYApJgXGADJNxA51iywVNApiBJmvg1QE1j9LJQWgO3V\n",
       "goq8YLkAcxTDTDcHEIPpAVTEl3UCXI6BUwEsB3PLa9YDUBbQmawfQAzHNCAwANsHMzOEgYFHAMRY\n",
       "DNMHcScIANUwN4AYbDA5VrD/WIEYaJcj2BU8B5DDheEwAwNXJwNrKkRIHR6eSre4ioB+ZHc/cwcq\n",
       "tMJ0ASweDL/tg3gBDmLNwGGGiA8G3GANHrkQ3FIAu+U0diYjhn8AAAAASUVORK5CYII=\n",
       "\" style=\"display:inline;vertical-align:middle;\" /></a>, <a class=\"ProveItLink\" href=\"../../../../numbers/number_sets/natural_numbers/__pv_it/theorems/d0faa5018b5696ae3900dfa3ef431459c4f039010/expr.ipynb\"><img src=\"data:image/png;base64,iVBORw0KGgoAAAANSUhEUgAAAEEAAAATBAMAAAA9n32KAAAAMFBMVEX///9mZmYiIiIyMjKqqqqY\n",
       "mJgQEBDMzMzu7u5ERESIiIjc3NxUVFR2dna6uroAAABonEzTAAAAAXRSTlMAQObYZgAAAAlwSFlz\n",
       "AAAOxAAADsQBlSsOGwAAAPlJREFUKM9jYMAHGBkIAU6yVTT9nNzAcO3bAzxmTOE7wMDxA58thzZc\n",
       "ZWBIYJCcOW3mzACsKo5MYN7AoIDNjJVKSgYg+nQUtwFWFY9XQBmneQrWIlTw3dl96xRYnNsCpvQ0\n",
       "wwTOB3AVvJyzGPo3gFjMGxAqCjk0FGBhWsc2gWF/AVgFA0IFq4NnAozX0P+AIR7MKlMCggkQFQwn\n",
       "eOAqGPwZGE6CGZ1IZjD0cCjAuYcZGL5ygBhMyCrYF0yAc3MZWD7wghhcC2BC04F4OVwF93cGXoNo\n",
       "MNMEJqYC8oYBjMenwMA91QHM7JnXAKaLvgH1cxhgi4+3k5QwxQHHgj1ZIOxujgAAAABJRU5ErkJg\n",
       "gg==\n",
       "\" style=\"display:inline;vertical-align:middle;\" /></a>, <a class=\"ProveItLink\" href=\"../__pv_it/demonstrations/847ecb4d628b91a053c2379114751af7d89ba9560/expr.ipynb\"><img src=\"data:image/png;base64,iVBORw0KGgoAAAANSUhEUgAAADYAAAAQBAMAAACvnpHFAAAAMFBMVEX///9UVFSYmJgyMjJERESq\n",
       "qqoQEBDu7u66uroiIiLc3NzMzMxmZmaIiIh2dnYAAADysKFQAAAAAXRSTlMAQObYZgAAAAlwSFlz\n",
       "AAAOxAAADsQBlSsOGwAAANRJREFUGNNjYMAGuJ5Mtl39AKsUw5MkhpqPB7BK8dwA6lHBLreHpYCB\n",
       "gRFV7srMmQYg2p0FZOcFZKnm61CGwxqY0Ls7GyCOM4e5UmAflLWygT2LKwDIYF4AFeF+0ARl5TEw\n",
       "+PAWgOTgvjvQC3XvdwaGw3wg1raZQOAAtm8dRI4NyHv2HMQqgTsK7E4gqAd68z3IOgZOuFwPyH8M\n",
       "DQz8CkB9YBHeCyjhwuvAwCPAwPSeGyxkCtf42K6g1AbkvUsKPG/BIoUeBfB4yJ+zADUc+zwhYQYF\n",
       "AH6TOAHoygR1AAAAAElFTkSuQmCC\n",
       "\" style=\"display:inline;vertical-align:middle;\" /></a>, <a class=\"ProveItLink\" href=\"../__pv_it/demonstrations/bbf5d33edced3682aab59724695062ca64acb82c0/expr.ipynb\"><img src=\"data:image/png;base64,iVBORw0KGgoAAAANSUhEUgAAAEwAAAAVBAMAAAAeOBUnAAAAMFBMVEX///8QEBAiIiKqqqpUVFSY\n",
       "mJhmZmbu7u5EREQyMjLMzMyIiIi6urp2dnbc3NwAAADC3l7hAAAAAXRSTlMAQObYZgAAAAlwSFlz\n",
       "AAAOxAAADsQBlSsOGwAAAWNJREFUKM9jeMAABVwM2AFr6uptDAx3YFyOBegK+G5ozn51gfVgAOMD\n",
       "hDLmBHRlN0QZyr4kPN/EwF+AUMaggKaKbc8FBoaIBAZvhoNIljJcRlO2jKOAgYElgUGKIZcLSdkL\n",
       "KL1DSWkCiG7nALlvA98HBh0rJGWcEE+f3A7lNzwDUzwODHsDQMpWAeV+FDAwXwB7bzrMnw5rkVwA\n",
       "VJbAwDX1yAWoHzhhAcl14SiKMuYFDCwMDA4MDDlgZfBQSziNooyXgSEcZCTDEhB/oRIQNIDd9hZd\n",
       "2QYG9g0MDLYgfgVcBuxThDI2Bh6gtcAwmgfiM8FljoHCjeEAXFkAGwO7F9AxYKu4N6DEAncD3Kcz\n",
       "dy5NAmriNQALTIYbd3NuQfE0RICw6n+6gLCupKcAnkLk1R4glDGkgllmUJGzTZDIQgEgZVJgVh8D\n",
       "HgBUxvUBxGCfQEAZNziWuAPwKdsFdCo4eXPgUwUATsteKZUtyh8AAAAASUVORK5CYII=\n",
       "\" style=\"display:inline;vertical-align:middle;\" /></a>, <a class=\"ProveItLink\" href=\"../__pv_it/demonstrations/a0aa0488271b81ec08bef69d663496a5009a7f650/expr.ipynb\"><img src=\"data:image/png;base64,iVBORw0KGgoAAAANSUhEUgAAAF0AAAASBAMAAADLUc9JAAAAMFBMVEX///8QEBAiIiLu7u5ERES6\n",
       "urqYmJiIiIjMzMx2dnZUVFRmZmaqqqoyMjLc3NwAAABb1yYoAAAAAXRSTlMAQObYZgAAAAlwSFlz\n",
       "AAAOxAAADsQBlSsOGwAAAXlJREFUKM9jYCAIOhkYuBsYiAFs29qrGRjYJzBsY2DIzihfULYCKvEW\n",
       "XSXfFN3rLyawBSYwPmBgKOcsYGBIFWOQYqiCSt9HVz9FjMH614bHRQz8BgwMnNeBBpgrMHxl2AmR\n",
       "5fmPppy7dAIDQ8oGhuUMgUAe5zUgwVXAIcCgA5Ve/wBVfTcL0FiuDQwSDDs5GBgquRMYGBgb2B34\n",
       "PkD8PW8+1P/sTkq6INqZBeSHAr4PDKonQP7dw8DwHmgDm8MEsOcK6g+AlbNeN4Doc3gN4S9gqEwA\n",
       "hSdXA0MUA+8DvuVgeW6G8wmQYIIq51vQiS+YYxj6wfYw3IMKcEwIw6d+A8P7BWDGBVjobwjHo5zd\n",
       "e/d6B7CxQkpKSipg97/Eo96cgYFfAcRgdoAJgcMHt3MYmATALAWYUDQo/BkCsCpnBYYN7wcwsxwl\n",
       "ftkdsKp/CMQs/8BM3gMwwbk3DWxuY1Vu8v8yA4//X3CAMi8JhqdPee0HhBM86xRIesANAEA9Vo0y\n",
       "TAlvAAAAAElFTkSuQmCC\n",
       "\" style=\"display:inline;vertical-align:middle;\" /></a>, <a class=\"ProveItLink\" href=\"../__pv_it/demonstrations/932f704789037247f30ad02e6c8f267e6cfb2e4c0/expr.ipynb\"><img src=\"data:image/png;base64,iVBORw0KGgoAAAANSUhEUgAAAFAAAAAVBAMAAAAjqnRBAAAAMFBMVEX///9UVFREREQiIiKYmJgQ\n",
       "EBAyMjJmZmaqqqru7u7MzMyIiIi6urp2dnbc3NwAAAC+adfGAAAAAXRSTlMAQObYZgAAAAlwSFlz\n",
       "AAAOxAAADsQBlSsOGwAAAX5JREFUKM+Fkz9IAzEUxj/bq+1dvHq7CAVdBJFCQdfaza2Dk4vdVMRy\n",
       "qKNDN0EUThcFlzoUBxHOOkhFpIPVQcTQQRw6nC5WQdTRzSRNz2uQ+iCEl/zy/nxJ4EGagb9NWz06\n",
       "IZNFNNoLoaKKxOvji29Uq6UjFrEkSICYrYL1aex+2a+n6K9GqQRNNpIKF72gQMbGAEoIFyS4z8aj\n",
       "Ah6GHKDHxgzK+DAkuMHGswTKqVSOzyMhXqcb/2QxM6YEWRL0tgS4rsgDiRcx9VnI46nCQP3MBSU5\n",
       "xKhodaHds3XcUUkDZiyrp8m37Ka3LaxBrxSwGU1qHrLAmgB9Fe1bBXQiLlOHqXjA/VKKWULU+K6A\n",
       "uPdM6C6wxf0df0d03QGuoAmTaZbnftjfueE6ohoAlzGFTVaUSEjcjpshiQBY86jGDpoFsTDvh3xY\n",
       "cvbmgqmNweHL36Tbo47/emYnvCAIQ8Ralyt3Q60rVIyDRMQYQ1dryEcGPfc/SES76e7guf8VunM/\n",
       "h/FjgTPyFT0AAAAASUVORK5CYII=\n",
       "\" style=\"display:inline;vertical-align:middle;\" /></a>, <a class=\"ProveItLink\" href=\"../__pv_it/demonstrations/9776b868029321ad4d7f2b3c1f048f5554e92b8f0/expr.ipynb\"><img src=\"data:image/png;base64,iVBORw0KGgoAAAANSUhEUgAAADQAAAAUBAMAAAAw+gPuAAAAMFBMVEX///8yMjJmZmaIiIjMzMzc\n",
       "3Nx2dnZUVFQQEBCYmJi6urru7u5EREQiIiKqqqoAAAAmNEGZAAAAAXRSTlMAQObYZgAAAAlwSFlz\n",
       "AAAOxAAADsQBlSsOGwAAAM9JREFUKM9jYMACWHMuCockYJNhyOlk2PRdAZsMkxVQxxysUk48GxgY\n",
       "2FGkbO7eFQDRp3lA9hkgySy0hjIOBEEZb/9sYFgNUiYNc1+BG4TB2Z5bwAByKGMAVIolYSWEEcPA\n",
       "cITlAUgK7iuFxRAG0ILNbCCGx10gOAC2KwxuP1swiNwD54NdCJXKBpG8cP4ikL8YFoClwL5jNkAJ\n",
       "DWaw2UwOYBE5uLZEsQ37hMAsdojA9lMb4CHffykAWYph2VlIQCEBZwacwAq3VAFuqQDswgBkzi1X\n",
       "2dcTkQAAAABJRU5ErkJggg==\n",
       "\" style=\"display:inline;vertical-align:middle;\" /></a> <a class=\"ProveItLink\" href=\"../__pv_it/demonstrations/c731a3633acf65745aa6c91cdccadd09d734a7ee0/proof.ipynb\" style=\"text-decoration: none\">&nbsp;&#x22A2;&nbsp;&nbsp;</a><a class=\"ProveItLink\" href=\"../__pv_it/demonstrations/e3dd5a86eb5d63d44d89433421e92a5d291ca4420/expr.ipynb\"><img src=\"data:image/png;base64,iVBORw0KGgoAAAANSUhEUgAAAaEAAAAVBAMAAAAdqkwmAAAAMFBMVEX////MzMxUVFREREQiIiK6\n",
       "uroQEBCYmJhmZmYyMjLu7u52dnaqqqqIiIjc3NwAAACFAiZ1AAAAAXRSTlMAQObYZgAAAAlwSFlz\n",
       "AAAOxAAADsQBlSsOGwAABVtJREFUWMONV12I3FQUPrOzmWSSSRqLKMJiR30Q3YeOfbEUbGer+6JC\n",
       "Z5dFKCgdkT4Vl1GsXZWWqa5MaxHXp9JFbWhB6cNgUFqk63SnRaVQpCOIu63WRlos4kJ3URBr6Xru\n",
       "T+7c3GR+AjeTSXK+73z3nnPPCQAEwAY9xEXi4YgrV3kSdL5Q7J04WOIh7FOQZJFMSP/YTXy1EN4+\n",
       "qQL/If+xSuHVY4qrUQDn4JPBCwle/oLjWhwsiartSdqVzbsTUtILBLzZUdFRjtA44AknWgDno28p\n",
       "ABaMe3YzJijn4+nrjoo4Ffy5+J7wxEarqmzenZAMcwZvDEInRblV9nsD9Lxwwpct6KEApMnqz8YU\n",
       "nSCnYidFIZVTgVeFJ5ZkcaIPQhxGBeQZVxUZ62lomi3IFUMn8I80R/RQAGxUD1MxRTWQZjymiFNB\n",
       "HeAb4UldWtVaH4Q4MtGsUBWdmXf54g+INcq5chxDAoB5G08ZT1VUjmSFqohTkZh+UHhyVsq8ch+E\n",
       "OLYDj7xERU7rapMrmhB5RCIBPpFfiwFswZezFUWQNhMJHUVRSIWKtKcFEEmdbNA270WI4xDxFy/v\n",
       "Atj+l8fzrLE/jAS4SP0au/bILHOi/j4qusQ2FMht2wSaFwc4fxGX0MqrEUzcW8Dt2AXt6CauaG7R\n",
       "jVJp92844lFPzcUW+PZMuCMQ856EOA7zNKtC6vC4T587o/BpsERRnod1FM7XXxlhivzv4DO46rHU\n",
       "fH14K10xBUCfGbhFzuSV6afIsZVc0kUrEt/hvt3DTNH1kjnpNGUqC/bc7VJFVq5sVuxb4dZAzHsS\n",
       "4ngWb4zT3BgAyNPnGR/S1csUpQo383zx36CKnOY07CPJZ5RoMqXdoTjAzSC3AnQriW6I6LmWp7mR\n",
       "x5epol0AG21PprL4XJyEJaOoByR73g3NexPi2AnUAnHeJKjk+QceGDN0vuyNB9YX+O62gyoy4WWU\n",
       "h7OcQnp0xWz5cYCHIIUEqWVFUabEJsIHHRmoIgOn9qAlU5HdTVumirxMyyKQsDY0702IYyeLbYtk\n",
       "JDpOnr+Ef3d5HH0NmWkNw+AnFnXaHfSo3i53Z1pxgH8ouFZOUEQSwCcbTZ0qyqCIU6dlKhjDl8os\n",
       "43cEFp3MC8K8JyGOj9j+YxCvB2iemf/h67d50MFgme9uG5gio4hhf1psQDDnxQFWaNywqJPziBf0\n",
       "KvH6Uaroc5yX+aZMRQI8nWeKpmEJLC/cV7PNPghxPMEqrlExwHwAuGKwKLhGtkMSAVlczkmuqKB7\n",
       "uVK7SHwFcYAVyq4XlDVKk9ndTCplFY65VNEaZDgVoQJ07Z6AKXoH4+pbUfuoeS9CHF/whunIpXun\n",
       "S+z52wBvLZPt5ndiewdPxyowUeJRN2nBbqmQ74c4QAPOkd22pSii2zlGUPbjD6dGWT0y8qDPp2Qq\n",
       "82HQRnmdeS7w9ZLoT3g16E6IY4L3Wvq2v31er6zGHjiET4+vzkJuy794++z3P7fCorj2y72B1Gwx\n",
       "GgXgCrkaVL8ntCLfd19bfSassHMLFaMhU+WGrjTCypkafvzXdg+nFfsgxDHo8gmvJffeonKLMj8E\n",
       "cnvGCJIArsdgRnjTTHvJeO8tWlMBlGrKPdxIH4Q49CrvnF7sV9Fl0ewSThZaSQC1GMwU/7DJuH0q\n",
       "YpVqs2Tei7DG3896YfVIVGS2ZEW+3NnbzK0EAKcQwwl7/nXQWVFdVmRFejhq3p2Qkh4nXUQL7GJn\n",
       "RZorK6LyFvidAfaTAJD24jND+PYC/NhF0VhkjYB3nW3z7oSU1CEGBXCY1z90/fa3xadAQfn0jwPs\n",
       "S7C/QYgBflPAEg8BlI6YdyfE8T8p+u30od7VbgAAAABJRU5ErkJggg==\n",
       "\" style=\"display:inline;vertical-align:middle;\" /></a></span>"
      ],
      "text/plain": [
       "{delta in Complex, m in NaturalPos, beta in Complex, n in NaturalPos, alpha in Complex, |varphi〉 in Complex^{n}, A in Complex^{n x m}, |psi〉 in Complex^{m}, gamma in Complex} |- (〈varphi| . alpha . A . beta . |psi〉 . gamma . 〈varphi| . delta) = (〈varphi| . alpha . A . beta . |psi〉 . (gamma . 〈varphi| . delta))"
      ]
     },
     "execution_count": 37,
     "metadata": {},
     "output_type": "execute_result"
    }
   ],
   "source": [
    "qmult2.association(5, 3)"
   ]
  },
  {
   "cell_type": "markdown",
   "metadata": {},
   "source": [
    "**If the Qmult is not well-formed, we expect an error:**"
   ]
  },
  {
   "cell_type": "code",
   "execution_count": 38,
   "metadata": {},
   "outputs": [
    {
     "data": {
      "text/html": [
       "<a class=\"ProveItLink\" href=\"../__pv_it/demonstrations/57ad762b19f05e79f32c1b05faafd2dbb0ffcf080/expr.ipynb\"><img src=\"data:image/png;base64,iVBORw0KGgoAAAANSUhEUgAAAI4AAAAVBAMAAABicsu7AAAAMFBMVEX///9UVFSYmJgyMjJERESq\n",
       "qqoQEBDu7u66uroiIiLc3NzMzMxmZmaIiIh2dnYAAADysKFQAAAAAXRSTlMAQObYZgAAAAlwSFlz\n",
       "AAAOxAAADsQBlSsOGwAAAp1JREFUOMuNlE1o1FAQx/+b/UjcTdJUhN7aqAcVFFaKiIp0K4JQBXu0\n",
       "KLpePciK4G3pnhTpoXuzJ8nBHsSviCgoyBa/9bQWwa/V5mLVw7ZVqwVF6sx7SZqs0vXBTiY7L783\n",
       "7z/zHrDMcAIn1xLI/uUsOz4FTsqNBy4Ejllhe3nbQCT4YrF/1WY/hauNxyHHANITcc6HOMfTuqLR\n",
       "b4DyXaZrY3XIMelXjXOqcc5ALJj7TeaRcMvAUMgpRxMQYyk9yXkeixq/yIza7NaBzpBzMCpIi1yS\n",
       "MzwYi86RueZJjnYu5PA/SSc68yTinNQC25mGxHcUOB+LjHanv7ckOGqjDs/IIy3wQ/MlnKHnJIng\n",
       "QuvbIznph/NkL1bUY1lOrEa7wZQnlF1z2xUcM11UbWNBKqsc/WyJ7OhFB26s75acteihVY8D+wxe\n",
       "fYo/7anICil5wRnXq4qDIvBEirQ3RytqlhDNQkJwsj9xxIVOi93n0mI/mx9+hbQ5wSll6hSj8lyn\n",
       "15cU4Zl6hUVTSpQUcxIF1FxkSJXpj/w1b1L5yt4IFa8odR51TKi04cO+rle4sDZzDF6POR02alQz\n",
       "2vDsYNA+pwp+hVKW5DzFOEza9XafwyuqeU6RFusSnGGXFGIapoP2UXvFbJp3y5GcB1iHA6RBwedM\n",
       "+P17j0gnXJmPiy20WQvKLJ/nJClyVkxTV0Ib88/pacdTaK7pd5ouWoQ2mdy5Y+OY7B+znubkZyZt\n",
       "vUlq9X3p3P1Mtv3Nd83gvOe6d70hb4Xfdwlh+W3D4vmgD5vv/31dmNF7IycyORTjcHa6vdTP+A+O\n",
       "aK3wRN+V1wGplXHbcspRjoByhcR4JR9bwaVuxxmJ5QO/Y8Sw5GMT8Lo9Jxxvw6ug5cam90vyrglu\n",
       "kD9i9rG8N5nIugAAAABJRU5ErkJggg==\n",
       "\" style=\"display:inline;vertical-align:middle;\" /></a>"
      ],
      "text/plain": [
       "alpha . D . beta . |psi〉 . gamma . 〈varphi| . delta"
      ]
     },
     "execution_count": 38,
     "metadata": {},
     "output_type": "execute_result"
    }
   ],
   "source": [
    "qmult_bad"
   ]
  },
  {
   "cell_type": "markdown",
   "metadata": {},
   "source": [
    "from proveit import UnsatisfiedPrerequisites\n",
    "try:\n",
    "    qmult_bad.association(2, 3)\n",
    "    assert False # expecting an error\n",
    "except UnsatisfiedPrerequisites as e:\n",
    "    print(\"Expected error: %s\"%e)"
   ]
  },
  {
   "cell_type": "markdown",
   "metadata": {},
   "source": [
    "### Factor out scalar factors\n",
    "\n",
    "Scalars are pulled to the front automatically with the default simplification directives.  This directive is currently disabled, however.  Here, we demonstrate doing this manually."
   ]
  },
  {
   "cell_type": "code",
   "execution_count": 39,
   "metadata": {},
   "outputs": [
    {
     "name": "stdout",
     "output_type": "stream",
     "text": [
      "Help on function factorization_of_scalars in module proveit.physics.quantum.algebra.qmult:\n",
      "\n",
      "factorization_of_scalars(self, **defaults_config)\n",
      "    Prove equality with a Qmult in which the complex\n",
      "    numbers are pulled to the front andassociated together via Mult.\n",
      "    For example,\n",
      "        (a A b B c C d D e) = ((a*b*c*d*e) A B C D)\n",
      "    where a, b, c, d, and e are complex numbers, '*' denotes\n",
      "    number multiplication, and spaces, here, denote the Qmult\n",
      "    operation.\n",
      "    \n",
      "    Keyword arguments are accepted for temporarily changing any\n",
      "    of the attributes of proveit.defaults.\n",
      "    \n",
      "    'scalars_factored' returns the right-hand side of 'factorization_of_scalars'.\n",
      "    'factor_scalars', called on an InnerExpr of a Judgment,\n",
      "    substitutes the right-hand side of 'factorization_of_scalars' for\n",
      "    the inner expression.\n",
      "\n"
     ]
    }
   ],
   "source": [
    "help(Qmult.factorization_of_scalars)"
   ]
  },
  {
   "cell_type": "code",
   "execution_count": 40,
   "metadata": {},
   "outputs": [
    {
     "data": {
      "text/html": [
       "<span style=\"font-size:20px;\"><a class=\"ProveItLink\" href=\"../__pv_it/demonstrations/9776b868029321ad4d7f2b3c1f048f5554e92b8f0/expr.ipynb\"><img src=\"data:image/png;base64,iVBORw0KGgoAAAANSUhEUgAAADQAAAAUBAMAAAAw+gPuAAAAMFBMVEX///8yMjJmZmaIiIjMzMzc\n",
       "3Nx2dnZUVFQQEBCYmJi6urru7u5EREQiIiKqqqoAAAAmNEGZAAAAAXRSTlMAQObYZgAAAAlwSFlz\n",
       "AAAOxAAADsQBlSsOGwAAAM9JREFUKM9jYMACWHMuCockYJNhyOlk2PRdAZsMkxVQxxysUk48GxgY\n",
       "2FGkbO7eFQDRp3lA9hkgySy0hjIOBEEZb/9sYFgNUiYNc1+BG4TB2Z5bwAByKGMAVIolYSWEEcPA\n",
       "cITlAUgK7iuFxRAG0ILNbCCGx10gOAC2KwxuP1swiNwD54NdCJXKBpG8cP4ikL8YFoClwL5jNkAJ\n",
       "DWaw2UwOYBE5uLZEsQ37hMAsdojA9lMb4CHffykAWYph2VlIQCEBZwacwAq3VAFuqQDswgBkzi1X\n",
       "2dcTkQAAAABJRU5ErkJggg==\n",
       "\" style=\"display:inline;vertical-align:middle;\" /></a>, <a class=\"ProveItLink\" href=\"../../../../logic/sets/cartesian_products/__pv_it/theorems/84ee59aeed12e78631ff41732d618eeba4d5229f0/expr.ipynb\"><img src=\"data:image/png;base64,iVBORw0KGgoAAAANSUhEUgAAAEYAAAATBAMAAADfQ2bzAAAAMFBMVEX///8iIiIyMjJmZmYQEBCq\n",
       "qqqYmJju7u5ERETMzMyIiIjc3NxUVFR2dna6uroAAACULOzSAAAAAXRSTlMAQObYZgAAAAlwSFlz\n",
       "AAAOxAAADsQBlSsOGwAAARJJREFUKM9jYCAADBgIgwZK1LDLd6gz8Pr74TWHI+ANA0N9AV41PNK8\n",
       "CQwsDMwdHR4dbbjURDBoMzBidw9Xo6AQWM22BZtwqOHTKoCas+Ek1wW4Gr47u2+d4rzVB5baVACz\n",
       "awMHQx9cDS9HF0N9HkMIWEob7p4NnAaFhbBwnsfSwLD/AkM+WEoBoYYhlbUFxiuof8AQX8BwAsTm\n",
       "dBQUFJSAquEpOAJ3ZzwDgxEDgxc4eBuQzGE/UAhXc4iBQZaB7zc7iC2ApIZhFgdcjS8D+z8GHoWt\n",
       "IPYqeFxMAIbVDBiP+ycD2wcGpgsXQBymAKgoI4hhBA82AQYuAwZWqw1gB514DhbklPcAkkXY44nv\n",
       "BiQuUAAA7zs7hIz3bAEAAAAASUVORK5CYII=\n",
       "\" style=\"display:inline;vertical-align:middle;\" /></a>, <a class=\"ProveItLink\" href=\"../../../../numbers/number_sets/natural_numbers/__pv_it/theorems/d0faa5018b5696ae3900dfa3ef431459c4f039010/expr.ipynb\"><img src=\"data:image/png;base64,iVBORw0KGgoAAAANSUhEUgAAAEEAAAATBAMAAAA9n32KAAAAMFBMVEX///9mZmYiIiIyMjKqqqqY\n",
       "mJgQEBDMzMzu7u5ERESIiIjc3NxUVFR2dna6uroAAABonEzTAAAAAXRSTlMAQObYZgAAAAlwSFlz\n",
       "AAAOxAAADsQBlSsOGwAAAPlJREFUKM9jYMAHGBkIAU6yVTT9nNzAcO3bAzxmTOE7wMDxA58thzZc\n",
       "ZWBIYJCcOW3mzACsKo5MYN7AoIDNjJVKSgYg+nQUtwFWFY9XQBmneQrWIlTw3dl96xRYnNsCpvQ0\n",
       "wwTOB3AVvJyzGPo3gFjMGxAqCjk0FGBhWsc2gWF/AVgFA0IFq4NnAozX0P+AIR7MKlMCggkQFQwn\n",
       "eOAqGPwZGE6CGZ1IZjD0cCjAuYcZGL5ygBhMyCrYF0yAc3MZWD7wghhcC2BC04F4OVwF93cGXoNo\n",
       "MNMEJqYC8oYBjMenwMA91QHM7JnXAKaLvgH1cxhgi4+3k5QwxQHHgj1ZIOxujgAAAABJRU5ErkJg\n",
       "gg==\n",
       "\" style=\"display:inline;vertical-align:middle;\" /></a>, <a class=\"ProveItLink\" href=\"../__pv_it/demonstrations/6634837ef11982c7c926a933fc6129de5c4761670/expr.ipynb\"><img src=\"data:image/png;base64,iVBORw0KGgoAAAANSUhEUgAAADUAAAATBAMAAADCPVhoAAAAMFBMVEX///8QEBAyMjJERETMzMy6\n",
       "uroiIiKqqqpUVFSYmJju7u5mZmaIiIh2dnbc3NwAAABKcBCOAAAAAXRSTlMAQObYZgAAAAlwSFlz\n",
       "AAAOxAAADsQBlSsOGwAAAPFJREFUKM9jYMAG3popnfOFsE7vQpXiNZzAtb8bxOKbwDADVW5PLAMD\n",
       "pzWItYaBoQxFimWDFZAE6zvAwNABETyclqYApJgXGADJNxA51iywVNApiBJmvg1QE1j9LJQWgO3V\n",
       "goq8YLkAcxTDTDcHEIPpAVTEl3UCXI6BUwEsB3PLa9YDUBbQmawfQAzHNCAwANsHMzOEgYFHAMRY\n",
       "DNMHcScIANUwN4AYbDA5VrD/WIEYaJcj2BU8B5DDheEwAwNXJwNrKkRIHR6eSre4ioB+ZHc/cwcq\n",
       "tMJ0ASweDL/tg3gBDmLNwGGGiA8G3GANHrkQ3FIAu+U0diYjhn8AAAAASUVORK5CYII=\n",
       "\" style=\"display:inline;vertical-align:middle;\" /></a>, <a class=\"ProveItLink\" href=\"../__pv_it/demonstrations/847ecb4d628b91a053c2379114751af7d89ba9560/expr.ipynb\"><img src=\"data:image/png;base64,iVBORw0KGgoAAAANSUhEUgAAADYAAAAQBAMAAACvnpHFAAAAMFBMVEX///9UVFSYmJgyMjJERESq\n",
       "qqoQEBDu7u66uroiIiLc3NzMzMxmZmaIiIh2dnYAAADysKFQAAAAAXRSTlMAQObYZgAAAAlwSFlz\n",
       "AAAOxAAADsQBlSsOGwAAANRJREFUGNNjYMAGuJ5Mtl39AKsUw5MkhpqPB7BK8dwA6lHBLreHpYCB\n",
       "gRFV7srMmQYg2p0FZOcFZKnm61CGwxqY0Ls7GyCOM4e5UmAflLWygT2LKwDIYF4AFeF+0ARl5TEw\n",
       "+PAWgOTgvjvQC3XvdwaGw3wg1raZQOAAtm8dRI4NyHv2HMQqgTsK7E4gqAd68z3IOgZOuFwPyH8M\n",
       "DQz8CkB9YBHeCyjhwuvAwCPAwPSeGyxkCtf42K6g1AbkvUsKPG/BIoUeBfB4yJ+zADUc+zwhYQYF\n",
       "AH6TOAHoygR1AAAAAElFTkSuQmCC\n",
       "\" style=\"display:inline;vertical-align:middle;\" /></a>, <a class=\"ProveItLink\" href=\"../__pv_it/demonstrations/a0aa0488271b81ec08bef69d663496a5009a7f650/expr.ipynb\"><img src=\"data:image/png;base64,iVBORw0KGgoAAAANSUhEUgAAAF0AAAASBAMAAADLUc9JAAAAMFBMVEX///8QEBAiIiLu7u5ERES6\n",
       "urqYmJiIiIjMzMx2dnZUVFRmZmaqqqoyMjLc3NwAAABb1yYoAAAAAXRSTlMAQObYZgAAAAlwSFlz\n",
       "AAAOxAAADsQBlSsOGwAAAXlJREFUKM9jYCAIOhkYuBsYiAFs29qrGRjYJzBsY2DIzihfULYCKvEW\n",
       "XSXfFN3rLyawBSYwPmBgKOcsYGBIFWOQYqiCSt9HVz9FjMH614bHRQz8BgwMnNeBBpgrMHxl2AmR\n",
       "5fmPppy7dAIDQ8oGhuUMgUAe5zUgwVXAIcCgA5Ve/wBVfTcL0FiuDQwSDDs5GBgquRMYGBgb2B34\n",
       "PkD8PW8+1P/sTkq6INqZBeSHAr4PDKonQP7dw8DwHmgDm8MEsOcK6g+AlbNeN4Doc3gN4S9gqEwA\n",
       "hSdXA0MUA+8DvuVgeW6G8wmQYIIq51vQiS+YYxj6wfYw3IMKcEwIw6d+A8P7BWDGBVjobwjHo5zd\n",
       "e/d6B7CxQkpKSipg97/Eo96cgYFfAcRgdoAJgcMHt3MYmATALAWYUDQo/BkCsCpnBYYN7wcwsxwl\n",
       "ftkdsKp/CMQs/8BM3gMwwbk3DWxuY1Vu8v8yA4//X3CAMi8JhqdPee0HhBM86xRIesANAEA9Vo0y\n",
       "TAlvAAAAAElFTkSuQmCC\n",
       "\" style=\"display:inline;vertical-align:middle;\" /></a>, <a class=\"ProveItLink\" href=\"../__pv_it/demonstrations/932f704789037247f30ad02e6c8f267e6cfb2e4c0/expr.ipynb\"><img src=\"data:image/png;base64,iVBORw0KGgoAAAANSUhEUgAAAFAAAAAVBAMAAAAjqnRBAAAAMFBMVEX///9UVFREREQiIiKYmJgQ\n",
       "EBAyMjJmZmaqqqru7u7MzMyIiIi6urp2dnbc3NwAAAC+adfGAAAAAXRSTlMAQObYZgAAAAlwSFlz\n",
       "AAAOxAAADsQBlSsOGwAAAX5JREFUKM+Fkz9IAzEUxj/bq+1dvHq7CAVdBJFCQdfaza2Dk4vdVMRy\n",
       "qKNDN0EUThcFlzoUBxHOOkhFpIPVQcTQQRw6nC5WQdTRzSRNz2uQ+iCEl/zy/nxJ4EGagb9NWz06\n",
       "IZNFNNoLoaKKxOvji29Uq6UjFrEkSICYrYL1aex+2a+n6K9GqQRNNpIKF72gQMbGAEoIFyS4z8aj\n",
       "Ah6GHKDHxgzK+DAkuMHGswTKqVSOzyMhXqcb/2QxM6YEWRL0tgS4rsgDiRcx9VnI46nCQP3MBSU5\n",
       "xKhodaHds3XcUUkDZiyrp8m37Ka3LaxBrxSwGU1qHrLAmgB9Fe1bBXQiLlOHqXjA/VKKWULU+K6A\n",
       "uPdM6C6wxf0df0d03QGuoAmTaZbnftjfueE6ohoAlzGFTVaUSEjcjpshiQBY86jGDpoFsTDvh3xY\n",
       "cvbmgqmNweHL36Tbo47/emYnvCAIQ8Ralyt3Q60rVIyDRMQYQ1dryEcGPfc/SES76e7guf8VunM/\n",
       "h/FjgTPyFT0AAAAASUVORK5CYII=\n",
       "\" style=\"display:inline;vertical-align:middle;\" /></a> <a class=\"ProveItLink\" href=\"../__pv_it/demonstrations/2bb77b006340b10a92a59d194ccaea41b1638ecc0/proof.ipynb\" style=\"text-decoration: none\">&nbsp;&#x22A2;&nbsp;&nbsp;</a><a class=\"ProveItLink\" href=\"../__pv_it/demonstrations/3a84dff702e3c35135faef6fb3626afb46f0ddfe0/expr.ipynb\"><img src=\"data:image/png;base64,iVBORw0KGgoAAAANSUhEUgAAASEAAAAVBAMAAAD7r0UnAAAAMFBMVEX////MzMxUVFREREQiIiK6\n",
       "uroQEBCYmJhmZmYyMjLu7u52dnaqqqqIiIjc3NwAAACFAiZ1AAAAAXRSTlMAQObYZgAAAAlwSFlz\n",
       "AAAOxAAADsQBlSsOGwAABCVJREFUSMeFVl9oFEcY/877t9ndWw+RPqk9+tIHH3L6Ul+anFL7UHw4\n",
       "obS0VDxa+hQaDkEiSuWMKUaD9N5KbWkXhEofji5t9SH1zJbGEuhDrpSSKLZZqChipLEKooak38w3\n",
       "Ozu7O0k++G5n7pvfN7/55vtmBgACWFukLaP7UxFH6EYS6IAk5dBc8uMj2mrvctjIlqM/D2lmuiV0\n",
       "I1Gx99iPVQ+7u0Lzb3FI3xJ978+fk4xKAHYrGpJYAxPbI00KeQE99muFUQ9gRpjNdhwyS4ycJhyR\n",
       "jCzUmjLmQmrmb4Umt4S8gBZrryqMcDU5YTaaccToCv90AKYlI+zAVWXMsdTUZ4QmRHgBLdboDyQj\n",
       "E2Nk+WQuxAHW/YdhFF+SjH5G/UcZVHCTUzeEJkR4AS322lRZMrKx6VTJ/E4c8KC0LHzl35CMWIL0\n",
       "KVXSl4gr5NukaUbcSyxPQ6zTW/AlI5YX8BWZJ1j7p/mwlFr2Ez7Fjt2fu5yROd8Dr9QWeTv9yIV3\n",
       "waokpjE8UrC6p1SiwgtJAmvAbJMYdc4joxtUY2j+DD+36+aww4sg72eeE+eRrWXOyLIbZrP0jFK7\n",
       "+P6PFYxYkYdj7DUm+8KFM3X2wzfBYpQCwguXGBblPXjRI0ber3AJFlye2mg+gJ8hgD0ll4g7/4ko\n",
       "cuhlWDRqxYDlyCeUTLsyPti1RIxyPmnBg2zrpsIoIpDCtuDfCmfk+GNwkuWzgRuI5g+xhRE4y3cS\n",
       "/hgffSSKJL/EGbmFnsXgsAW7OFkHe5mlZLrWST91wWizlX/XVr3wXgJb2jPeX+WMTPgIY2egqcLN\n",
       "yKiAliuTYRE+Zo2DCGlQZh8OLP6/OEmtBzhNYw1GH6B9iAU711K95FppLLLdXKNdy68gow4dsWj+\n",
       "EpeArSmfNg3gdVFd2QoxGoNFsFyqBOZhEkTk1TzyuZqYg9ZyRDT0IndRYnnUcw1iZNQwiSepnNH8\n",
       "KnLFnLzCh70dnu0Y5hcCYnQajsN1cVowD+iqWE3EKNsjxTq1lPiFXiSjCJtviguLMaoWXbtORx6a\n",
       "v8fIVKA4xS53h3kbRB/my5DfL27atwKvWBcnKgsjFo/RSzBiJc10FODEkqwu6UUeEhH2DlvHiti1\n",
       "YQuOimsBzW+y42iuaXTRw+BTF35Z/QJjt+2vbnj3Z3a+8jeIWwdlE2sn3xT5GqnVHYEJSVd6gRT2\n",
       "4uoFsAefenRCbvnh40BcnWjOlTVvBkt9jWR4dGYUr7dTgL1C9V5gHSw/s7fxBbTIXGxtxIhOqgHx\n",
       "z3btnXpMd/+mGOmwnBE/wrKBMA+A9s6OGHHH8tHyZ5TkamoHwqPWC6yD5Yy88EXDzRc1jA7GYsQP\n",
       "tPCCxPzNpq5+MKukei+wDpYz4qk3B8LsNNd5hP4ug6A8lE9qBt4VutEjO4UtyTxmC0Lz/zwnL7VK\n",
       "SJhGAAAAAElFTkSuQmCC\n",
       "\" style=\"display:inline;vertical-align:middle;\" /></a></span>"
      ],
      "text/plain": [
       "{gamma in Complex, m in NaturalPos, n in NaturalPos, beta in Complex, alpha in Complex, A in Complex^{n x m}, |psi〉 in Complex^{m}} |- (alpha . A . beta . |psi〉 . gamma) = ((alpha * beta * gamma) . A . |psi〉)"
      ]
     },
     "execution_count": 40,
     "metadata": {},
     "output_type": "execute_result"
    }
   ],
   "source": [
    "qmult1.factorization_of_scalars()"
   ]
  },
  {
   "cell_type": "code",
   "execution_count": 41,
   "metadata": {},
   "outputs": [
    {
     "data": {
      "text/html": [
       "<a class=\"ProveItLink\" href=\"../__pv_it/demonstrations/1407314ac4d6bc171a87de819f82e9ca04b1dac70/expr.ipynb\"><img src=\"data:image/png;base64,iVBORw0KGgoAAAANSUhEUgAAAKkAAAAVBAMAAADP89MSAAAAMFBMVEX///8QEBBUVFS6urqYmJiI\n",
       "iIgyMjLu7u7MzMxmZmYiIiKqqqp2dnZERETc3NwAAACf5FhoAAAAAXRSTlMAQObYZgAAAAlwSFlz\n",
       "AAAOxAAADsQBlSsOGwAAAqxJREFUOMuNlU1o1FAQx//dTTabJhu9CB607Ek8KF32IFIPrvh5EIlQ\n",
       "Ww9C9yD2plFsb8IiHoQeXPzCFsFFL16kqyC4IDQgi4hfixf11BXEi5T2IFqsts6bvGSz2aT4DsnL\n",
       "ZOY3L/+Z9wKgDTmCSeywglkl8iYOYLX82Yso6Fv4wSz4s0+RdN0A6/Yjopv1ROo5GdacdgKqDTS6\n",
       "vSIAE0Xy7kcS1Vjz7l+h5AOqG47gEQHkWIdGIlUfZAfNhlHzqfQQWhxiAGq+W6Uo9d17rosKpIK1\n",
       "GpWwkIgBaCviUk6iWvZYXVKHAl1NcTkbdusBzJOzWgKuArv+OlLs5h1fAMyVxH33wrZxrwcmbhF1\n",
       "BHjOq579iHQMoDHX8rSuInu66LLReoDz7e9M3YNrLtdHOfLQo7qPcRFjjleffTvu88ojAKWc+gUU\n",
       "WasUkGdjn4tcdZSpVSzmZdUPMdWqz+AY+ugrCixurjKFHsBi21gGbrBWhwVEGO850Mu8RPXz9GBL\n",
       "Vn0vUzVsohQ6kKVsqkNvhGMEsBNZog6z0RbBwriVHrc4gjoBbKCGQpqqftxTIL1KVLIbrmwSShgF\n",
       "/EB2CZgUZaHIFIut/SGfFSkA+jfKqn/wqHrNquMlkJEb/o1IHwEsk7K8FfSSDm07ZCqYgoU0lTZD\n",
       "WZGhLx6Q1JbiGKTpguySV3IvhQHLyNS9rzkzcmWm4BmvA0eXRPN/EQGrdLlQwlBBKjBgYj9NX0sq\n",
       "92AE0MQTYSXtlNnfrmxis3kAd0muS2vjMOZ/kvnZ01O2f2Zdfnuw7YXw4BaJAk6w6CLxzfgzyz9O\n",
       "OifhFK+u2kWNBQiRNv8vdbRzKpHcdjIg43AvJFE1O0zlFJPSohaSAYoNtZZMTVfCVE4xLC2p9QAt\n",
       "WF7kyXX/W2qlE9D9J+sF/AOFRNQDe7L7aAAAAABJRU5ErkJggg==\n",
       "\" style=\"display:inline;vertical-align:middle;\" /></a>"
      ],
      "text/plain": [
       "〈varphi| . alpha . A . beta . |psi〉 . gamma . 〈varphi| . delta"
      ]
     },
     "execution_count": 41,
     "metadata": {},
     "output_type": "execute_result"
    }
   ],
   "source": [
    "qmult2"
   ]
  },
  {
   "cell_type": "code",
   "execution_count": 42,
   "metadata": {},
   "outputs": [
    {
     "data": {
      "text/html": [
       "<span style=\"font-size:20px;\"><a class=\"ProveItLink\" href=\"../__pv_it/demonstrations/f902dee330625b7efb8591cb50d4ff3a2f40e3640/expr.ipynb\"><img src=\"data:image/png;base64,iVBORw0KGgoAAAANSUhEUgAAADIAAAAQBAMAAACmdTG/AAAAMFBMVEX///8QEBDMzMyYmJiqqqqI\n",
       "iIju7u5UVFS6urp2dnZEREQiIiIyMjJmZmbc3NwAAAAJMjmHAAAAAXRSTlMAQObYZgAAAAlwSFlz\n",
       "AAAOxAAADsQBlSsOGwAAAN1JREFUGNNjYGB4e3odAwrgm7Xn6KMJQMYEjjJUmVnCDLnfLwAZaDoY\n",
       "eCOA6q1AMuFoMrpcCQwM7CCZfAeISNTu3QdA9DIukF0BQILrG1iiJwyqZ8FbKIPlyi+wg47BXFag\n",
       "CWXZMNQDzWXgeQDlM01ohir5x+CvAJKB++ZCK4TBvoBBHySjuBsIFoDteQmR4Tdg0AfRWXBXg90G\n",
       "crMC0CYg4IbL9IL8w9DAwK/AcATEZw1ACQPWBQycASwFYIEjcE1zTiaknAXSUyMh/PQVCfCwlt/7\n",
       "ADm8OldDQgcKAL1EOEzTZhtzAAAAAElFTkSuQmCC\n",
       "\" style=\"display:inline;vertical-align:middle;\" /></a>, <a class=\"ProveItLink\" href=\"../../../../logic/sets/cartesian_products/__pv_it/theorems/84ee59aeed12e78631ff41732d618eeba4d5229f0/expr.ipynb\"><img src=\"data:image/png;base64,iVBORw0KGgoAAAANSUhEUgAAAEYAAAATBAMAAADfQ2bzAAAAMFBMVEX///8iIiIyMjJmZmYQEBCq\n",
       "qqqYmJju7u5ERETMzMyIiIjc3NxUVFR2dna6uroAAACULOzSAAAAAXRSTlMAQObYZgAAAAlwSFlz\n",
       "AAAOxAAADsQBlSsOGwAAARJJREFUKM9jYCAADBgIgwZK1LDLd6gz8Pr74TWHI+ANA0N9AV41PNK8\n",
       "CQwsDMwdHR4dbbjURDBoMzBidw9Xo6AQWM22BZtwqOHTKoCas+Ek1wW4Gr47u2+d4rzVB5baVACz\n",
       "awMHQx9cDS9HF0N9HkMIWEob7p4NnAaFhbBwnsfSwLD/AkM+WEoBoYYhlbUFxiuof8AQX8BwAsTm\n",
       "dBQUFJSAquEpOAJ3ZzwDgxEDgxc4eBuQzGE/UAhXc4iBQZaB7zc7iC2ApIZhFgdcjS8D+z8GHoWt\n",
       "IPYqeFxMAIbVDBiP+ycD2wcGpgsXQBymAKgoI4hhBA82AQYuAwZWqw1gB514DhbklPcAkkXY44nv\n",
       "BiQuUAAA7zs7hIz3bAEAAAAASUVORK5CYII=\n",
       "\" style=\"display:inline;vertical-align:middle;\" /></a>, <a class=\"ProveItLink\" href=\"../__pv_it/demonstrations/6634837ef11982c7c926a933fc6129de5c4761670/expr.ipynb\"><img src=\"data:image/png;base64,iVBORw0KGgoAAAANSUhEUgAAADUAAAATBAMAAADCPVhoAAAAMFBMVEX///8QEBAyMjJERETMzMy6\n",
       "uroiIiKqqqpUVFSYmJju7u5mZmaIiIh2dnbc3NwAAABKcBCOAAAAAXRSTlMAQObYZgAAAAlwSFlz\n",
       "AAAOxAAADsQBlSsOGwAAAPFJREFUKM9jYMAG3popnfOFsE7vQpXiNZzAtb8bxOKbwDADVW5PLAMD\n",
       "pzWItYaBoQxFimWDFZAE6zvAwNABETyclqYApJgXGADJNxA51iywVNApiBJmvg1QE1j9LJQWgO3V\n",
       "goq8YLkAcxTDTDcHEIPpAVTEl3UCXI6BUwEsB3PLa9YDUBbQmawfQAzHNCAwANsHMzOEgYFHAMRY\n",
       "DNMHcScIANUwN4AYbDA5VrD/WIEYaJcj2BU8B5DDheEwAwNXJwNrKkRIHR6eSre4ioB+ZHc/cwcq\n",
       "tMJ0ASweDL/tg3gBDmLNwGGGiA8G3GANHrkQ3FIAu+U0diYjhn8AAAAASUVORK5CYII=\n",
       "\" style=\"display:inline;vertical-align:middle;\" /></a>, <a class=\"ProveItLink\" href=\"../../../../numbers/number_sets/natural_numbers/__pv_it/theorems/d0faa5018b5696ae3900dfa3ef431459c4f039010/expr.ipynb\"><img src=\"data:image/png;base64,iVBORw0KGgoAAAANSUhEUgAAAEEAAAATBAMAAAA9n32KAAAAMFBMVEX///9mZmYiIiIyMjKqqqqY\n",
       "mJgQEBDMzMzu7u5ERESIiIjc3NxUVFR2dna6uroAAABonEzTAAAAAXRSTlMAQObYZgAAAAlwSFlz\n",
       "AAAOxAAADsQBlSsOGwAAAPlJREFUKM9jYMAHGBkIAU6yVTT9nNzAcO3bAzxmTOE7wMDxA58thzZc\n",
       "ZWBIYJCcOW3mzACsKo5MYN7AoIDNjJVKSgYg+nQUtwFWFY9XQBmneQrWIlTw3dl96xRYnNsCpvQ0\n",
       "wwTOB3AVvJyzGPo3gFjMGxAqCjk0FGBhWsc2gWF/AVgFA0IFq4NnAozX0P+AIR7MKlMCggkQFQwn\n",
       "eOAqGPwZGE6CGZ1IZjD0cCjAuYcZGL5ygBhMyCrYF0yAc3MZWD7wghhcC2BC04F4OVwF93cGXoNo\n",
       "MNMEJqYC8oYBjMenwMA91QHM7JnXAKaLvgH1cxhgi4+3k5QwxQHHgj1ZIOxujgAAAABJRU5ErkJg\n",
       "gg==\n",
       "\" style=\"display:inline;vertical-align:middle;\" /></a>, <a class=\"ProveItLink\" href=\"../__pv_it/demonstrations/847ecb4d628b91a053c2379114751af7d89ba9560/expr.ipynb\"><img src=\"data:image/png;base64,iVBORw0KGgoAAAANSUhEUgAAADYAAAAQBAMAAACvnpHFAAAAMFBMVEX///9UVFSYmJgyMjJERESq\n",
       "qqoQEBDu7u66uroiIiLc3NzMzMxmZmaIiIh2dnYAAADysKFQAAAAAXRSTlMAQObYZgAAAAlwSFlz\n",
       "AAAOxAAADsQBlSsOGwAAANRJREFUGNNjYMAGuJ5Mtl39AKsUw5MkhpqPB7BK8dwA6lHBLreHpYCB\n",
       "gRFV7srMmQYg2p0FZOcFZKnm61CGwxqY0Ls7GyCOM4e5UmAflLWygT2LKwDIYF4AFeF+0ARl5TEw\n",
       "+PAWgOTgvjvQC3XvdwaGw3wg1raZQOAAtm8dRI4NyHv2HMQqgTsK7E4gqAd68z3IOgZOuFwPyH8M\n",
       "DQz8CkB9YBHeCyjhwuvAwCPAwPSeGyxkCtf42K6g1AbkvUsKPG/BIoUeBfB4yJ+zADUc+zwhYQYF\n",
       "AH6TOAHoygR1AAAAAElFTkSuQmCC\n",
       "\" style=\"display:inline;vertical-align:middle;\" /></a>, <a class=\"ProveItLink\" href=\"../__pv_it/demonstrations/bbf5d33edced3682aab59724695062ca64acb82c0/expr.ipynb\"><img src=\"data:image/png;base64,iVBORw0KGgoAAAANSUhEUgAAAEwAAAAVBAMAAAAeOBUnAAAAMFBMVEX///8QEBAiIiKqqqpUVFSY\n",
       "mJhmZmbu7u5EREQyMjLMzMyIiIi6urp2dnbc3NwAAADC3l7hAAAAAXRSTlMAQObYZgAAAAlwSFlz\n",
       "AAAOxAAADsQBlSsOGwAAAWNJREFUKM9jeMAABVwM2AFr6uptDAx3YFyOBegK+G5ozn51gfVgAOMD\n",
       "hDLmBHRlN0QZyr4kPN/EwF+AUMaggKaKbc8FBoaIBAZvhoNIljJcRlO2jKOAgYElgUGKIZcLSdkL\n",
       "KL1DSWkCiG7nALlvA98HBh0rJGWcEE+f3A7lNzwDUzwODHsDQMpWAeV+FDAwXwB7bzrMnw5rkVwA\n",
       "VJbAwDX1yAWoHzhhAcl14SiKMuYFDCwMDA4MDDlgZfBQSziNooyXgSEcZCTDEhB/oRIQNIDd9hZd\n",
       "2QYG9g0MDLYgfgVcBuxThDI2Bh6gtcAwmgfiM8FljoHCjeEAXFkAGwO7F9AxYKu4N6DEAncD3Kcz\n",
       "dy5NAmriNQALTIYbd3NuQfE0RICw6n+6gLCupKcAnkLk1R4glDGkgllmUJGzTZDIQgEgZVJgVh8D\n",
       "HgBUxvUBxGCfQEAZNziWuAPwKdsFdCo4eXPgUwUATsteKZUtyh8AAAAASUVORK5CYII=\n",
       "\" style=\"display:inline;vertical-align:middle;\" /></a>, <a class=\"ProveItLink\" href=\"../__pv_it/demonstrations/a0aa0488271b81ec08bef69d663496a5009a7f650/expr.ipynb\"><img src=\"data:image/png;base64,iVBORw0KGgoAAAANSUhEUgAAAF0AAAASBAMAAADLUc9JAAAAMFBMVEX///8QEBAiIiLu7u5ERES6\n",
       "urqYmJiIiIjMzMx2dnZUVFRmZmaqqqoyMjLc3NwAAABb1yYoAAAAAXRSTlMAQObYZgAAAAlwSFlz\n",
       "AAAOxAAADsQBlSsOGwAAAXlJREFUKM9jYCAIOhkYuBsYiAFs29qrGRjYJzBsY2DIzihfULYCKvEW\n",
       "XSXfFN3rLyawBSYwPmBgKOcsYGBIFWOQYqiCSt9HVz9FjMH614bHRQz8BgwMnNeBBpgrMHxl2AmR\n",
       "5fmPppy7dAIDQ8oGhuUMgUAe5zUgwVXAIcCgA5Ve/wBVfTcL0FiuDQwSDDs5GBgquRMYGBgb2B34\n",
       "PkD8PW8+1P/sTkq6INqZBeSHAr4PDKonQP7dw8DwHmgDm8MEsOcK6g+AlbNeN4Doc3gN4S9gqEwA\n",
       "hSdXA0MUA+8DvuVgeW6G8wmQYIIq51vQiS+YYxj6wfYw3IMKcEwIw6d+A8P7BWDGBVjobwjHo5zd\n",
       "e/d6B7CxQkpKSipg97/Eo96cgYFfAcRgdoAJgcMHt3MYmATALAWYUDQo/BkCsCpnBYYN7wcwsxwl\n",
       "ftkdsKp/CMQs/8BM3gMwwbk3DWxuY1Vu8v8yA4//X3CAMi8JhqdPee0HhBM86xRIesANAEA9Vo0y\n",
       "TAlvAAAAAElFTkSuQmCC\n",
       "\" style=\"display:inline;vertical-align:middle;\" /></a>, <a class=\"ProveItLink\" href=\"../__pv_it/demonstrations/932f704789037247f30ad02e6c8f267e6cfb2e4c0/expr.ipynb\"><img src=\"data:image/png;base64,iVBORw0KGgoAAAANSUhEUgAAAFAAAAAVBAMAAAAjqnRBAAAAMFBMVEX///9UVFREREQiIiKYmJgQ\n",
       "EBAyMjJmZmaqqqru7u7MzMyIiIi6urp2dnbc3NwAAAC+adfGAAAAAXRSTlMAQObYZgAAAAlwSFlz\n",
       "AAAOxAAADsQBlSsOGwAAAX5JREFUKM+Fkz9IAzEUxj/bq+1dvHq7CAVdBJFCQdfaza2Dk4vdVMRy\n",
       "qKNDN0EUThcFlzoUBxHOOkhFpIPVQcTQQRw6nC5WQdTRzSRNz2uQ+iCEl/zy/nxJ4EGagb9NWz06\n",
       "IZNFNNoLoaKKxOvji29Uq6UjFrEkSICYrYL1aex+2a+n6K9GqQRNNpIKF72gQMbGAEoIFyS4z8aj\n",
       "Ah6GHKDHxgzK+DAkuMHGswTKqVSOzyMhXqcb/2QxM6YEWRL0tgS4rsgDiRcx9VnI46nCQP3MBSU5\n",
       "xKhodaHds3XcUUkDZiyrp8m37Ka3LaxBrxSwGU1qHrLAmgB9Fe1bBXQiLlOHqXjA/VKKWULU+K6A\n",
       "uPdM6C6wxf0df0d03QGuoAmTaZbnftjfueE6ohoAlzGFTVaUSEjcjpshiQBY86jGDpoFsTDvh3xY\n",
       "cvbmgqmNweHL36Tbo47/emYnvCAIQ8Ralyt3Q60rVIyDRMQYQ1dryEcGPfc/SES76e7guf8VunM/\n",
       "h/FjgTPyFT0AAAAASUVORK5CYII=\n",
       "\" style=\"display:inline;vertical-align:middle;\" /></a>, <a class=\"ProveItLink\" href=\"../__pv_it/demonstrations/9776b868029321ad4d7f2b3c1f048f5554e92b8f0/expr.ipynb\"><img src=\"data:image/png;base64,iVBORw0KGgoAAAANSUhEUgAAADQAAAAUBAMAAAAw+gPuAAAAMFBMVEX///8yMjJmZmaIiIjMzMzc\n",
       "3Nx2dnZUVFQQEBCYmJi6urru7u5EREQiIiKqqqoAAAAmNEGZAAAAAXRSTlMAQObYZgAAAAlwSFlz\n",
       "AAAOxAAADsQBlSsOGwAAAM9JREFUKM9jYMACWHMuCockYJNhyOlk2PRdAZsMkxVQxxysUk48GxgY\n",
       "2FGkbO7eFQDRp3lA9hkgySy0hjIOBEEZb/9sYFgNUiYNc1+BG4TB2Z5bwAByKGMAVIolYSWEEcPA\n",
       "cITlAUgK7iuFxRAG0ILNbCCGx10gOAC2KwxuP1swiNwD54NdCJXKBpG8cP4ikL8YFoClwL5jNkAJ\n",
       "DWaw2UwOYBE5uLZEsQ37hMAsdojA9lMb4CHffykAWYph2VlIQCEBZwacwAq3VAFuqQDswgBkzi1X\n",
       "2dcTkQAAAABJRU5ErkJggg==\n",
       "\" style=\"display:inline;vertical-align:middle;\" /></a> <a class=\"ProveItLink\" href=\"../__pv_it/demonstrations/07c7616a49eaa39d109c81fad165c99db0ffa96a0/proof.ipynb\" style=\"text-decoration: none\">&nbsp;&#x22A2;&nbsp;&nbsp;</a><a class=\"ProveItLink\" href=\"../__pv_it/demonstrations/fa3df9cfa017bd3a59bc732dbe0d674a37eeae700/expr.ipynb\"><img src=\"data:image/png;base64,iVBORw0KGgoAAAANSUhEUgAAAcQAAAAVBAMAAAAqZIMSAAAAMFBMVEX////MzMxUVFREREQiIiK6\n",
       "uroQEBCYmJhmZmYyMjLu7u52dnaqqqqIiIjc3NwAAACFAiZ1AAAAAXRSTlMAQObYZgAAAAlwSFlz\n",
       "AAAOxAAADsQBlSsOGwAABYpJREFUWMOVWF1oXEUUPrubm/2/WX0RoZKIT7YP3fokAdtttSAo7TaE\n",
       "gqIYFV8qlpVaTZSWVSKp1GAEIRjULC0ofQi5VAWpRrcSpCCSq6ilrdKVilpQ2lBBWkvinDM/d+6Z\n",
       "u7Y9kJu5P+c73zdz5szMAkAH5B+ZaSSab1oV9qbTvcG+8uHGzHdb/jVIWRzoZbktvqrqhx/zCOft\n",
       "m2JdtzYwHnEA/7V7O4+6bDEU/HQj+v54a6MX6ptzDo3ziaRsMuT9NX7V7ipxVrktHGgZNOF2Iv4V\n",
       "AyjCUKvcdghjqFLgjhNhJ1rgrY365DNH4qx1F5GKkRHehSnR7IFuEkur8v/vkB0waIHtQcYAMpgq\n",
       "M5wvhTri6pDYibZR/OW1/hqXKMk5pGJkhHeuAfaYcIm59ZTYhRBKNY0mbqyeImMAZaQ8yvlSqAlH\n",
       "hsJOtO/EX7apBDW5REnOIRUjI7x74zOLS/z8C5rDZYC0GcVSxc53SAAoXBWXXp59FGrEnaESO9Hm\n",
       "kfQu2c5UuERJziEVJ7MLHtIZlCjRD8+2FY1hMxeLeHnPSUEbYJP4ON9gfDGUN5UkcbjbXMxcEZdp\n",
       "2T7Cq54ix0kxMtNwEIMIMjcJCpdaqlosvKxzC5aI6I5zd85ItLlJgXZKlg5YFB4PJwCcWBL9WeRD\n",
       "g6FyQQzfwlbZuH0QPCO49PolcT0qb04CpCrgzQ5qiYocJ8XIHKUuwvnZhNT0UEAP/a3wfudPQnkE\n",
       "+qkCBtlnN0u04Cv4AM62yCf7xEcDOM05QHYqfQWv6Dl+H9oWUKOBQ2vhW9jSnl+3RQ4I2Risb+FV\n",
       "V5scwK1712mJihwjxcmMwYPiOkSpnAYYoIe9AWSapwmlCRcGVLkaIzS/PQ77cVbl6rRQbUi1XYAL\n",
       "ndIyuDUEQ/W0Y/gWtl7SMpU15m4FlsQUW6QbTxA5jhHSWqIix0hxMovwlLi+Sqn8IjrhwzdEnZ2i\n",
       "wSvffWB9VZWrxwitAM8ITqI3UwJd0JyjLmcAd0BKSExdZBIxVG/dwp+fsrALlzFgS9ybV+kq9AuJ\n",
       "/TIt69gbWeGrJGpyjBQn009xT9LDEKPhwyfF7dM0H+YA+nAsPBHoR5kT3opAmzNLePEvcAH+IXne\n",
       "SBeJBr+naWHD/bqIh/pVX4Pk7QQ9xQKsTXNKoibHSTEyO+EdWatyGCpNE7Twr/jmqkoF6BlR5eou\n",
       "iZar+W04JiaV3AgWj4ELsEzzUCaqNRcxVL5t44OFbexTU23mK5TCi6ZqN2EHwFol0ZBjpOJkhPc9\n",
       "cjOSa+SgcDuoQYAijYAnOi6P6ZYXObBboVWzrVLdbBiLTXABllEJZKtsFClUaOGTaWxjn5hWX4W6\n",
       "ZY/Z6UwIXYcqUqIhx0kxMnuoIuP4vn3qlvG6fPgKwEsXcVH9DR1WxOVQA4brKid2F2FvtGHM0XrM\n",
       "ABbgS3wVMokYClcSg0+msY1FC0oxLOHkmjQ73Py7b45uVSuhIcdJMTKTMKzqcXb734FaLIsLL8BB\n",
       "we/w6gyUNl0Wj49/cybUa+7NH+7rRBvGtCnoNsDPtJLw4xSG8moRvjSNbcxaThfO4HVbtPV8bvUB\n",
       "RSMi55CKk9kGPRWlfiL5pKHrerStWGNvGNPRIYAD/MpRKNTmbthJEuXSUYsOELTNtY5PiaRiZIQ3\n",
       "bXIxhx+/XomnzVlC2G3RUY4DOBtuCjV6LYmpMGn3ro6BvZUuEm1SMTLorc4rahVLlFgIbbTA3jD+\n",
       "oGqGC+BXE49GmU4XbLNlrbMH5iQ8o5fIBIk2qRgZ9D6M/RtCudZdolex0UK1EtpZlQCQcbfWGKpQ\n",
       "7YKtLc29BnVjH8D33STapGJk0NvHPKiCL0N9+7+/M5QNnyr7mcQF2J/wM0yDDsDX+1uNImyGPQPw\n",
       "C6ORTMoiI7z/Az+x6hku70iwAAAAAElFTkSuQmCC\n",
       "\" style=\"display:inline;vertical-align:middle;\" /></a></span>"
      ],
      "text/plain": [
       "{delta in Complex, m in NaturalPos, beta in Complex, n in NaturalPos, alpha in Complex, |varphi〉 in Complex^{n}, A in Complex^{n x m}, |psi〉 in Complex^{m}, gamma in Complex} |- (〈varphi| . alpha . A . beta . |psi〉 . gamma . 〈varphi| . delta) = ((alpha * beta * gamma * delta) . 〈varphi| . A . |psi〉 . 〈varphi|)"
      ]
     },
     "execution_count": 42,
     "metadata": {},
     "output_type": "execute_result"
    }
   ],
   "source": [
    "qmult2.factorization_of_scalars()"
   ]
  },
  {
   "cell_type": "markdown",
   "metadata": {},
   "source": [
    "### Distribution over summations"
   ]
  },
  {
   "cell_type": "code",
   "execution_count": 43,
   "metadata": {},
   "outputs": [
    {
     "name": "stdout",
     "output_type": "stream",
     "text": [
      "Help on function distribution in module proveit.physics.quantum.algebra.qmult:\n",
      "\n",
      "distribution(self, idx, *, field=None, **defaults_config)\n",
      "    Given a Qmult operand at the (0-based) index location\n",
      "    'idx' that is a vector sum or summation, prove the distribution \n",
      "    over that Qmult factor and return an equality to the original\n",
      "    Qmult. For example, we could take the Qmult\n",
      "        qmult = Qmult(A, B+C, D)\n",
      "    and call qmult.distribution(1) to obtain:\n",
      "        |- Qmult(A, B+C, D) =\n",
      "           Qmult(A, B, D) + Qmult(A, C. D)\n",
      "    \n",
      "    Keyword arguments are accepted for temporarily changing any\n",
      "    of the attributes of proveit.defaults.\n",
      "    \n",
      "    'distributed' returns the right-hand side of 'distribution'.\n",
      "    'distribute', called on an InnerExpr of a Judgment,\n",
      "    substitutes the right-hand side of 'distribution' for\n",
      "    the inner expression.\n",
      "\n"
     ]
    }
   ],
   "source": [
    "help(Qmult.distribution)"
   ]
  },
  {
   "cell_type": "code",
   "execution_count": 44,
   "metadata": {},
   "outputs": [
    {
     "data": {
      "text/html": [
       "<a class=\"ProveItLink\" href=\"../__pv_it/demonstrations/fae0e0efbf49e1b0d0683f0d1cfc7a744898ec950/expr.ipynb\"><img src=\"data:image/png;base64,iVBORw0KGgoAAAANSUhEUgAAARQAAAAVBAMAAAB1dQxbAAAAMFBMVEX///8QEBBUVFS6urqYmJiI\n",
       "iIgyMjLu7u7MzMxmZmYiIiKqqqp2dnZERETc3NwAAACf5FhoAAAAAXRSTlMAQObYZgAAAAlwSFlz\n",
       "AAAOxAAADsQBlSsOGwAABE5JREFUSMedll1oHFUUx8/uzuzMZGbHCkp90LLkIRUJdFOKlL50RI1W\n",
       "LI7it1XzUI34lbGQvnYQEcGHLmkEGy2urQ8liA1IQEslgyWIKO0alIhCOw8VlLQQimk0msRz7pm5\n",
       "u/d29yEO7M7Mufee+7vn/O+5AwApZJd8yC4fNnxdN0T6tLv1bBviN/Ons1rvZ7h9aAMopVAzSJ+V\n",
       "WG24kj94Nfr/4+UL+DjVBcVNxK28qM+3d32u97VYt47O9QaXM3xawezRSPo00Vtd7f6dipKUtgL0\n",
       "QBeUg3ybuQ4FbgMo/qXZzJsjOPMJlKPs/RIYVenTw19D7d9QUS7Q35fdUMb5NraWve+QC17CTPyt\n",
       "Gq1fkMFZAyNbvBWC25A+R9vDwCGvqyiP0N/P3VA2cc/L+fqn8wYDLcaSaixvJqXgkM2Qp6TYisoX\n",
       "7eLQpMMoh1Am1lAXlBI3/Gb+o6MUMWXlLarxPCnOxqXulyi7Wloh1ZXTDtmXKJVlHBMAvANw52rE\n",
       "w7zZ97mLw6qtu3/qKIUmWHfEitFfEVlB49ds2Hmlb5iXZz0VQmIO8S5wT81DiRAfRfAYSiPzjOJ+\n",
       "sMqqrYO9f3siUPwT8Ea6IEIeiNhM2f/qKId/eqwvUI3eUt44yLfEuP8ko3juJiswl1mod/UfFxqm\n",
       "Fwfg7bv7GWUQtkWwHZFiKAJUBUohgUr9CercIza5A/5VHeX5FNybVGOP3FCnIU/JIKMsOA0jJeEd\n",
       "ETWsEr9LK6wKAVVxYkLx12Ampg6IeR+FhlA+isAZEqkpiBw+e3Rsle4Tk5M3Tk4eF9P8QNqIFWNh\n",
       "WSSIQpZvINjNKFEh9Mg7vIlqiLCFvDs1ojVwMoFSbMLhmJKGPUMafJZLhndrJFHI5YoeFQrTQ6Ea\n",
       "lcV8owyw5pH04Wwr7E494ecMdz1HI0mhCWl7VKDcENASDlIScGRRyNZCYXi8ZcpTIj8AH2soNul4\n",
       "W00xOmv5Rjkta9pchjIBC+Dh6l7nrt/TQmnf1mEnwFaBciimdFZScAIHrNt54+E0HheUSphVsBEN\n",
       "xcRp7WuqkaqemA/28jqwy5YM5Rim//PWWfctZNV1HGEOxByVGF7hk+bFx9+aqDHKGMCDi2Kjeqgs\n",
       "n6guplo1Q+PAsMY3E4D7DT28J14PBLCrlqEMpIlRa511XCswW+UXXtpzguuKF7pV3lbGqZUkK0fe\n",
       "7D3wodBBqQHWxWsRfLX+qjJrceRqb9+voKFYx3qPiIfPuLxO7wvzsmn3//gctM66KosLfw+sf5qX\n",
       "uNl9+RE53qnwn9QOvOlOXwW60W/I8ip92lPtZx2jUIycoFVt5YfDLZ1Q9miz7OiEohvZvYpiRvLs\n",
       "Ra5QfiUVYg0Fj3V7sRNKJd34V1x26FlhO4oor/lZZ2YzD+clqA3FCMFsdEKxmv8DZV6WlbaoQFZJ\n",
       "hNSyhnsBntZRoAk+j3xSc3tp4ySGHknps6J9yuL77xymHPs/hXkqo0GU0xwAAAAASUVORK5CYII=\n",
       "\" style=\"display:inline;vertical-align:middle;\" /></a>"
      ],
      "text/plain": [
       "〈varphi| . alpha . (A + B + C) . beta . |psi〉 . gamma . 〈varphi| . delta"
      ]
     },
     "execution_count": 44,
     "metadata": {},
     "output_type": "execute_result"
    }
   ],
   "source": [
    "qmult3"
   ]
  },
  {
   "cell_type": "code",
   "execution_count": 45,
   "metadata": {},
   "outputs": [
    {
     "data": {
      "text/html": [
       "<a class=\"ProveItLink\" href=\"../__pv_it/demonstrations/907eff8ed746910a3fef78551b5ecad4a3d07afa0/expr.ipynb\"><img src=\"data:image/png;base64,iVBORw0KGgoAAAANSUhEUgAAAVYAAAAdBAMAAAADaVmrAAAAMFBMVEX////MzMxUVFREREQiIiK6\n",
       "uroQEBCYmJhmZmYyMjLu7u52dnaqqqqIiIjc3NwAAACFAiZ1AAAAAXRSTlMAQObYZgAAAAlwSFlz\n",
       "AAAOxAAADsQBlSsOGwAABYdJREFUWMPtl39oHEUUx9/lsvdj927dllJRijlDVdqATUP9QTDtWS4K\n",
       "VUwsmhqKJCL+oEU5jbZRUc80JWL8EVEIjdYsLQj+EXoWClJNjahQiCWnFRJ/VE8qqCTCmUY00eR8\n",
       "783s3u3kTmn+kUAXbm/n7dybz7z5vjdzAJAF8eHLfZCXCed/Zcu1feWcm/89nJnCW3QEH2od0zGl\n",
       "y7eiY9/5sN6ttF2ffsv74qzzYDTT/efXN2uZMj6Dl6bSAKPUd6QMayTNX+Gc+tuOfF31a5ZqHaqr\n",
       "Tk7y7MU1OfGC6zOK3lLe7h94WdPaehkbL8OVs2kwe+uSoFPIKqEM6zvia2wRK9wLUPGbYos+ZMPo\n",
       "zQADzrol4VHXp4GfuLd/3Mu6maJiqwNpDSv2zALcddCGUBLbJ8ux9oivrgXZ3uHKZx69/Ok16ptw\n",
       "oBB27XTCDPCJ63OoOJAiYCkv6xe01imVdQIdN2WM4+8OQIDaG8uxtgtXk04ET7n6QUtw3msM76Iw\n",
       "4E8CMjgovmrX50fFAlXkK1iPkHZ2CcvpRELkiEGp1BYHMwbQSgHpK8OqiRe/Rv9WWStQFeGHvcYP\n",
       "aSwfBiacdFi1ba5PUn44W0JgLqt/Dm/9bGj92nnVRvMO5Lia9JLO0PcK7HDOFn6N4edEx5BIrVTk\n",
       "D5U1UAv6WstjNGdYCGg0YmKml9UdsJlVn8hAOtonUjXSVA8a2cdxZhZog/WCNfLiObwfZVcD7jR2\n",
       "F+V2v0ytFPj6t6eZ1WyEt7NT3IcDpI34/lJZqxrOrEt6jca8KxC5fLB3lcWsRqRdT0bnRDbtqdnK\n",
       "iUaNEMAlj9cI1idgg013T/wjv3NbZOGt+NmONgsqAGLMGkiDP8WLUMnVJwTmtMr6fRYiD3iNlW5Z\n",
       "iMSdzGfqYzAVigezJP79XMv91hoKQYxFHMOBidVcgDFLJCOEC+rgrA6IjLsP2AP6fZKCS6yvYHXo\n",
       "49UPsI5OP99FqwPdicT9icRW/tm1pE/LYwzMsQZIszkn87Ucs9qBjEHeYSUKzgY9Q95DzSTiIA7G\n",
       "rBW1UIUOq+iXqxN48f5UwXGtslzWcWbNoA9mxdJp7LZdVrTCjBpXCvSzGW9cc066a6J83I5g7SK3\n",
       "2rIG+xkVXU9kZJakaYsYYtaLkszZQu8PF0o2r+j1ovGmSMgQaKgCzi0dxWmIxA+PsAQAblJYfZRs\n",
       "G5o9xtCCk+5SA/jojwnWbpgCA6f/luj6vi2rT4omtJ5Zj1isVdZAYW/S8y/7TgTlptFAxSKLW0II\n",
       "9MtFfUEOQ0TGn5GlflBhjSKXb9ZrpO2BgSAojhfIsjorWPehwj4tnDveA7lP9SDtIUvE1eK4dbD7\n",
       "wrFgVf5Bu1XW66Ny1z/w1cXdzYK1C+CpHCuEio9J2FuyStlHY8uAMoGxJESOc4R5KP0q0BplzW7J\n",
       "poPNhXOHKIkoiPDBVzsbRX01MhFahJfc1XYiC1FnL7tDVo9g00xa1m1jeC/08nBaHPQtszZ8nH/D\n",
       "g1UxOF297gZQWPV91fuFcnlmkTVnhp39xVdz3XdFayvqL7Uey9/i7AXD35DxNn516BrnXGDe2XmF\n",
       "M1ClJffpnlJ77I3K5nyq1HltkfFH97Di+vRxRE96WCnKfByR+xajSWnu3CT32KY8njp8YuflwwLt\n",
       "0/eUYu1UKHaUYl1k7FnMGrWdkxSBCzmSegOWlzWUVM/YHfnpR36R7+VJTNZEhdWfXcL/AplBQ8Ws\n",
       "DO6cO6Jy6AFZTotYz5Y4v66duVo+Ui0LZiAaL8Wq1y6B1W875bUoriArKstdvnga4EuFtf7fo0AO\n",
       "asEUW8PnytuflsD6jNJ2ffqVf1XY/kEE2jkdBpeyjheuC9f/ffnG08uGdSX0LRvWjctIA9vAXjas\n",
       "Oz9LLrL9A1wDda0sCHllAAAAAElFTkSuQmCC\n",
       "\" style=\"display:inline;vertical-align:middle;\" /></a>"
      ],
      "text/plain": [
       "(〈varphi| . alpha . (A + B + C) . beta . |psi〉 . gamma . 〈varphi| . delta) in_c Q*"
      ]
     },
     "execution_count": 45,
     "metadata": {},
     "output_type": "execute_result"
    }
   ],
   "source": [
    "QmultCodomain.membership_object(qmult3).expr"
   ]
  },
  {
   "cell_type": "code",
   "execution_count": 46,
   "metadata": {},
   "outputs": [
    {
     "data": {
      "text/html": [
       "<span style=\"font-size:20px;\"><a class=\"ProveItLink\" href=\"../__pv_it/demonstrations/f902dee330625b7efb8591cb50d4ff3a2f40e3640/expr.ipynb\"><img src=\"data:image/png;base64,iVBORw0KGgoAAAANSUhEUgAAADIAAAAQBAMAAACmdTG/AAAAMFBMVEX///8QEBDMzMyYmJiqqqqI\n",
       "iIju7u5UVFS6urp2dnZEREQiIiIyMjJmZmbc3NwAAAAJMjmHAAAAAXRSTlMAQObYZgAAAAlwSFlz\n",
       "AAAOxAAADsQBlSsOGwAAAN1JREFUGNNjYGB4e3odAwrgm7Xn6KMJQMYEjjJUmVnCDLnfLwAZaDoY\n",
       "eCOA6q1AMuFoMrpcCQwM7CCZfAeISNTu3QdA9DIukF0BQILrG1iiJwyqZ8FbKIPlyi+wg47BXFag\n",
       "CWXZMNQDzWXgeQDlM01ohir5x+CvAJKB++ZCK4TBvoBBHySjuBsIFoDteQmR4Tdg0AfRWXBXg90G\n",
       "crMC0CYg4IbL9IL8w9DAwK/AcATEZw1ACQPWBQycASwFYIEjcE1zTiaknAXSUyMh/PQVCfCwlt/7\n",
       "ADm8OldDQgcKAL1EOEzTZhtzAAAAAElFTkSuQmCC\n",
       "\" style=\"display:inline;vertical-align:middle;\" /></a>, <a class=\"ProveItLink\" href=\"../../../../logic/sets/cartesian_products/__pv_it/theorems/84ee59aeed12e78631ff41732d618eeba4d5229f0/expr.ipynb\"><img src=\"data:image/png;base64,iVBORw0KGgoAAAANSUhEUgAAAEYAAAATBAMAAADfQ2bzAAAAMFBMVEX///8iIiIyMjJmZmYQEBCq\n",
       "qqqYmJju7u5ERETMzMyIiIjc3NxUVFR2dna6uroAAACULOzSAAAAAXRSTlMAQObYZgAAAAlwSFlz\n",
       "AAAOxAAADsQBlSsOGwAAARJJREFUKM9jYCAADBgIgwZK1LDLd6gz8Pr74TWHI+ANA0N9AV41PNK8\n",
       "CQwsDMwdHR4dbbjURDBoMzBidw9Xo6AQWM22BZtwqOHTKoCas+Ek1wW4Gr47u2+d4rzVB5baVACz\n",
       "awMHQx9cDS9HF0N9HkMIWEob7p4NnAaFhbBwnsfSwLD/AkM+WEoBoYYhlbUFxiuof8AQX8BwAsTm\n",
       "dBQUFJSAquEpOAJ3ZzwDgxEDgxc4eBuQzGE/UAhXc4iBQZaB7zc7iC2ApIZhFgdcjS8D+z8GHoWt\n",
       "IPYqeFxMAIbVDBiP+ycD2wcGpgsXQBymAKgoI4hhBA82AQYuAwZWqw1gB514DhbklPcAkkXY44nv\n",
       "BiQuUAAA7zs7hIz3bAEAAAAASUVORK5CYII=\n",
       "\" style=\"display:inline;vertical-align:middle;\" /></a>, <a class=\"ProveItLink\" href=\"../__pv_it/demonstrations/6634837ef11982c7c926a933fc6129de5c4761670/expr.ipynb\"><img src=\"data:image/png;base64,iVBORw0KGgoAAAANSUhEUgAAADUAAAATBAMAAADCPVhoAAAAMFBMVEX///8QEBAyMjJERETMzMy6\n",
       "uroiIiKqqqpUVFSYmJju7u5mZmaIiIh2dnbc3NwAAABKcBCOAAAAAXRSTlMAQObYZgAAAAlwSFlz\n",
       "AAAOxAAADsQBlSsOGwAAAPFJREFUKM9jYMAG3popnfOFsE7vQpXiNZzAtb8bxOKbwDADVW5PLAMD\n",
       "pzWItYaBoQxFimWDFZAE6zvAwNABETyclqYApJgXGADJNxA51iywVNApiBJmvg1QE1j9LJQWgO3V\n",
       "goq8YLkAcxTDTDcHEIPpAVTEl3UCXI6BUwEsB3PLa9YDUBbQmawfQAzHNCAwANsHMzOEgYFHAMRY\n",
       "DNMHcScIANUwN4AYbDA5VrD/WIEYaJcj2BU8B5DDheEwAwNXJwNrKkRIHR6eSre4ioB+ZHc/cwcq\n",
       "tMJ0ASweDL/tg3gBDmLNwGGGiA8G3GANHrkQ3FIAu+U0diYjhn8AAAAASUVORK5CYII=\n",
       "\" style=\"display:inline;vertical-align:middle;\" /></a>, <a class=\"ProveItLink\" href=\"../../../../numbers/number_sets/natural_numbers/__pv_it/theorems/d0faa5018b5696ae3900dfa3ef431459c4f039010/expr.ipynb\"><img src=\"data:image/png;base64,iVBORw0KGgoAAAANSUhEUgAAAEEAAAATBAMAAAA9n32KAAAAMFBMVEX///9mZmYiIiIyMjKqqqqY\n",
       "mJgQEBDMzMzu7u5ERESIiIjc3NxUVFR2dna6uroAAABonEzTAAAAAXRSTlMAQObYZgAAAAlwSFlz\n",
       "AAAOxAAADsQBlSsOGwAAAPlJREFUKM9jYMAHGBkIAU6yVTT9nNzAcO3bAzxmTOE7wMDxA58thzZc\n",
       "ZWBIYJCcOW3mzACsKo5MYN7AoIDNjJVKSgYg+nQUtwFWFY9XQBmneQrWIlTw3dl96xRYnNsCpvQ0\n",
       "wwTOB3AVvJyzGPo3gFjMGxAqCjk0FGBhWsc2gWF/AVgFA0IFq4NnAozX0P+AIR7MKlMCggkQFQwn\n",
       "eOAqGPwZGE6CGZ1IZjD0cCjAuYcZGL5ygBhMyCrYF0yAc3MZWD7wghhcC2BC04F4OVwF93cGXoNo\n",
       "MNMEJqYC8oYBjMenwMA91QHM7JnXAKaLvgH1cxhgi4+3k5QwxQHHgj1ZIOxujgAAAABJRU5ErkJg\n",
       "gg==\n",
       "\" style=\"display:inline;vertical-align:middle;\" /></a>, <a class=\"ProveItLink\" href=\"../__pv_it/demonstrations/847ecb4d628b91a053c2379114751af7d89ba9560/expr.ipynb\"><img src=\"data:image/png;base64,iVBORw0KGgoAAAANSUhEUgAAADYAAAAQBAMAAACvnpHFAAAAMFBMVEX///9UVFSYmJgyMjJERESq\n",
       "qqoQEBDu7u66uroiIiLc3NzMzMxmZmaIiIh2dnYAAADysKFQAAAAAXRSTlMAQObYZgAAAAlwSFlz\n",
       "AAAOxAAADsQBlSsOGwAAANRJREFUGNNjYMAGuJ5Mtl39AKsUw5MkhpqPB7BK8dwA6lHBLreHpYCB\n",
       "gRFV7srMmQYg2p0FZOcFZKnm61CGwxqY0Ls7GyCOM4e5UmAflLWygT2LKwDIYF4AFeF+0ARl5TEw\n",
       "+PAWgOTgvjvQC3XvdwaGw3wg1raZQOAAtm8dRI4NyHv2HMQqgTsK7E4gqAd68z3IOgZOuFwPyH8M\n",
       "DQz8CkB9YBHeCyjhwuvAwCPAwPSeGyxkCtf42K6g1AbkvUsKPG/BIoUeBfB4yJ+zADUc+zwhYQYF\n",
       "AH6TOAHoygR1AAAAAElFTkSuQmCC\n",
       "\" style=\"display:inline;vertical-align:middle;\" /></a>, <a class=\"ProveItLink\" href=\"../__pv_it/demonstrations/bbf5d33edced3682aab59724695062ca64acb82c0/expr.ipynb\"><img src=\"data:image/png;base64,iVBORw0KGgoAAAANSUhEUgAAAEwAAAAVBAMAAAAeOBUnAAAAMFBMVEX///8QEBAiIiKqqqpUVFSY\n",
       "mJhmZmbu7u5EREQyMjLMzMyIiIi6urp2dnbc3NwAAADC3l7hAAAAAXRSTlMAQObYZgAAAAlwSFlz\n",
       "AAAOxAAADsQBlSsOGwAAAWNJREFUKM9jeMAABVwM2AFr6uptDAx3YFyOBegK+G5ozn51gfVgAOMD\n",
       "hDLmBHRlN0QZyr4kPN/EwF+AUMaggKaKbc8FBoaIBAZvhoNIljJcRlO2jKOAgYElgUGKIZcLSdkL\n",
       "KL1DSWkCiG7nALlvA98HBh0rJGWcEE+f3A7lNzwDUzwODHsDQMpWAeV+FDAwXwB7bzrMnw5rkVwA\n",
       "VJbAwDX1yAWoHzhhAcl14SiKMuYFDCwMDA4MDDlgZfBQSziNooyXgSEcZCTDEhB/oRIQNIDd9hZd\n",
       "2QYG9g0MDLYgfgVcBuxThDI2Bh6gtcAwmgfiM8FljoHCjeEAXFkAGwO7F9AxYKu4N6DEAncD3Kcz\n",
       "dy5NAmriNQALTIYbd3NuQfE0RICw6n+6gLCupKcAnkLk1R4glDGkgllmUJGzTZDIQgEgZVJgVh8D\n",
       "HgBUxvUBxGCfQEAZNziWuAPwKdsFdCo4eXPgUwUATsteKZUtyh8AAAAASUVORK5CYII=\n",
       "\" style=\"display:inline;vertical-align:middle;\" /></a>, <a class=\"ProveItLink\" href=\"../__pv_it/demonstrations/a0aa0488271b81ec08bef69d663496a5009a7f650/expr.ipynb\"><img src=\"data:image/png;base64,iVBORw0KGgoAAAANSUhEUgAAAF0AAAASBAMAAADLUc9JAAAAMFBMVEX///8QEBAiIiLu7u5ERES6\n",
       "urqYmJiIiIjMzMx2dnZUVFRmZmaqqqoyMjLc3NwAAABb1yYoAAAAAXRSTlMAQObYZgAAAAlwSFlz\n",
       "AAAOxAAADsQBlSsOGwAAAXlJREFUKM9jYCAIOhkYuBsYiAFs29qrGRjYJzBsY2DIzihfULYCKvEW\n",
       "XSXfFN3rLyawBSYwPmBgKOcsYGBIFWOQYqiCSt9HVz9FjMH614bHRQz8BgwMnNeBBpgrMHxl2AmR\n",
       "5fmPppy7dAIDQ8oGhuUMgUAe5zUgwVXAIcCgA5Ve/wBVfTcL0FiuDQwSDDs5GBgquRMYGBgb2B34\n",
       "PkD8PW8+1P/sTkq6INqZBeSHAr4PDKonQP7dw8DwHmgDm8MEsOcK6g+AlbNeN4Doc3gN4S9gqEwA\n",
       "hSdXA0MUA+8DvuVgeW6G8wmQYIIq51vQiS+YYxj6wfYw3IMKcEwIw6d+A8P7BWDGBVjobwjHo5zd\n",
       "e/d6B7CxQkpKSipg97/Eo96cgYFfAcRgdoAJgcMHt3MYmATALAWYUDQo/BkCsCpnBYYN7wcwsxwl\n",
       "ftkdsKp/CMQs/8BM3gMwwbk3DWxuY1Vu8v8yA4//X3CAMi8JhqdPee0HhBM86xRIesANAEA9Vo0y\n",
       "TAlvAAAAAElFTkSuQmCC\n",
       "\" style=\"display:inline;vertical-align:middle;\" /></a>, <a class=\"ProveItLink\" href=\"../__pv_it/demonstrations/e60b8f70960d4af78300b3449124fd46a0aa91830/expr.ipynb\"><img src=\"data:image/png;base64,iVBORw0KGgoAAAANSUhEUgAAAF4AAAASBAMAAAAgZnRKAAAAMFBMVEX///92dnaqqqoiIiLu7u5m\n",
       "Zma6urqIiIjc3NwQEBDMzMwyMjJUVFRERESYmJgAAAAeMT9/AAAAAXRSTlMAQObYZgAAAAlwSFlz\n",
       "AAAOxAAADsQBlSsOGwAAAYlJREFUKM9jYCAIuAQYGKIYiAJPX5UHMDAUMrA+YOCLW17D/mYBLpWN\n",
       "l3dXLGR4No9hBgMDe4E4AwNf5gPOA+wHgFJv/985sxdNI+PNByzxRzncDRi+AHnSBQwMLcUM/Ams\n",
       "AiDJuQwMPL9Q1YcnAk28ysBTwDYBpP4BkDjOsJKBWQHI4PjOwMD2FdWLAVeA5FEGzgWsAgsY2AXi\n",
       "gLxZDLUM/VxABh/QbL7vYHXsl42tQTSvwwUg2c7Qz8CctADkXwUGjg9AG94yAoV5PjAwcM8AKWPb\n",
       "7gAxn5cjAEznMLDLgcPzFAPbAYYdDD0lQEHOCwwsh8H+7YYqZ+jhEsAdyOuvl59+AGbtgAktZHuA\n",
       "W319AwPTPDBrA0yola0At/qbQCwPcg/XZGNjY1uI+/G45w8QvweZx3IBJgQJHxzJ6R+QOJ8AYhrA\n",
       "xNjA4c+GVT37D6Ce32BmOUr8AuMHG+AGxnjmFghTAZ5+douwaAdgU86z/8+Z05cgbJazKfD0efNz\n",
       "BOH0ziYLSQ+4AQAkw2IMa9cJugAAAABJRU5ErkJggg==\n",
       "\" style=\"display:inline;vertical-align:middle;\" /></a>, <a class=\"ProveItLink\" href=\"../__pv_it/demonstrations/55ae555d5f0c16d4b9bc389aad8bd32148070b8b0/expr.ipynb\"><img src=\"data:image/png;base64,iVBORw0KGgoAAAANSUhEUgAAAF0AAAASBAMAAADLUc9JAAAAMFBMVEX////MzMy6uroyMjJmZmYi\n",
       "IiKqqqoQEBB2dnbc3NyYmJhUVFRERESIiIju7u4AAACU7+9TAAAAAXRSTlMAQObYZgAAAAlwSFlz\n",
       "AAAOxAAADsQBlSsOGwAAAXlJREFUKM9jYCAIJBgYWAQYiAFcXrJXGBh4Gxi8GBiWLLy74dZGXCo5\n",
       "e4JtJzZwqS9gn8DAcJfjAgPDoiqGaobbIDm+O7t3cTagqu+pYnjy22HeVQb+BwwMHLZAA94GMHxi\n",
       "8ADJXb/HwNa6AEU5yyWg/jUODHsZ1IE8DisgwX2BsYAhDMh4Ewck/CegqBfhARrL7cBQyODByMBw\n",
       "gwVoGrsA7wHOD0B/mwOlwMYAwZ3QUAMQfY4H5IcLnB8YghJB/nVjYJgPtIHrQAMDxzewgWDlyveg\n",
       "5h+YAqaYNjDcWAAKT24BBm0G5gmcex8wzA8AyTwEB4odLHQ2SOAM4/4LcCYzzBOMDVo41ccjoo4Z\n",
       "HvoOujjV14O8ywAmxEOB4ADY/TNwmw8i2MCWvIELgsMHOwCHPAeYyQoXVAGFP4MCNvXzQf7tAzN5\n",
       "L6DEL+8BbOrZfjEwZDyAsM3gos0WD56ZYHfQk9NbYBa/PvQAnj7rQyYQTvAaRyHpATcAAM5kXmJR\n",
       "HhpgAAAAAElFTkSuQmCC\n",
       "\" style=\"display:inline;vertical-align:middle;\" /></a>, <a class=\"ProveItLink\" href=\"../__pv_it/demonstrations/932f704789037247f30ad02e6c8f267e6cfb2e4c0/expr.ipynb\"><img src=\"data:image/png;base64,iVBORw0KGgoAAAANSUhEUgAAAFAAAAAVBAMAAAAjqnRBAAAAMFBMVEX///9UVFREREQiIiKYmJgQ\n",
       "EBAyMjJmZmaqqqru7u7MzMyIiIi6urp2dnbc3NwAAAC+adfGAAAAAXRSTlMAQObYZgAAAAlwSFlz\n",
       "AAAOxAAADsQBlSsOGwAAAX5JREFUKM+Fkz9IAzEUxj/bq+1dvHq7CAVdBJFCQdfaza2Dk4vdVMRy\n",
       "qKNDN0EUThcFlzoUBxHOOkhFpIPVQcTQQRw6nC5WQdTRzSRNz2uQ+iCEl/zy/nxJ4EGagb9NWz06\n",
       "IZNFNNoLoaKKxOvji29Uq6UjFrEkSICYrYL1aex+2a+n6K9GqQRNNpIKF72gQMbGAEoIFyS4z8aj\n",
       "Ah6GHKDHxgzK+DAkuMHGswTKqVSOzyMhXqcb/2QxM6YEWRL0tgS4rsgDiRcx9VnI46nCQP3MBSU5\n",
       "xKhodaHds3XcUUkDZiyrp8m37Ka3LaxBrxSwGU1qHrLAmgB9Fe1bBXQiLlOHqXjA/VKKWULU+K6A\n",
       "uPdM6C6wxf0df0d03QGuoAmTaZbnftjfueE6ohoAlzGFTVaUSEjcjpshiQBY86jGDpoFsTDvh3xY\n",
       "cvbmgqmNweHL36Tbo47/emYnvCAIQ8Ralyt3Q60rVIyDRMQYQ1dryEcGPfc/SES76e7guf8VunM/\n",
       "h/FjgTPyFT0AAAAASUVORK5CYII=\n",
       "\" style=\"display:inline;vertical-align:middle;\" /></a>, <a class=\"ProveItLink\" href=\"../__pv_it/demonstrations/9776b868029321ad4d7f2b3c1f048f5554e92b8f0/expr.ipynb\"><img src=\"data:image/png;base64,iVBORw0KGgoAAAANSUhEUgAAADQAAAAUBAMAAAAw+gPuAAAAMFBMVEX///8yMjJmZmaIiIjMzMzc\n",
       "3Nx2dnZUVFQQEBCYmJi6urru7u5EREQiIiKqqqoAAAAmNEGZAAAAAXRSTlMAQObYZgAAAAlwSFlz\n",
       "AAAOxAAADsQBlSsOGwAAAM9JREFUKM9jYMACWHMuCockYJNhyOlk2PRdAZsMkxVQxxysUk48GxgY\n",
       "2FGkbO7eFQDRp3lA9hkgySy0hjIOBEEZb/9sYFgNUiYNc1+BG4TB2Z5bwAByKGMAVIolYSWEEcPA\n",
       "cITlAUgK7iuFxRAG0ILNbCCGx10gOAC2KwxuP1swiNwD54NdCJXKBpG8cP4ikL8YFoClwL5jNkAJ\n",
       "DWaw2UwOYBE5uLZEsQ37hMAsdojA9lMb4CHffykAWYph2VlIQCEBZwacwAq3VAFuqQDswgBkzi1X\n",
       "2dcTkQAAAABJRU5ErkJggg==\n",
       "\" style=\"display:inline;vertical-align:middle;\" /></a> <a class=\"ProveItLink\" href=\"../__pv_it/demonstrations/6784540ec439e2efff70a0b0c5bc9110b3ca5d1a0/proof.ipynb\" style=\"text-decoration: none\">&nbsp;&#x22A2;&nbsp;&nbsp;</a><a class=\"ProveItLink\" href=\"../__pv_it/demonstrations/907eff8ed746910a3fef78551b5ecad4a3d07afa0/expr.ipynb\"><img src=\"data:image/png;base64,iVBORw0KGgoAAAANSUhEUgAAAVYAAAAdBAMAAAADaVmrAAAAMFBMVEX////MzMxUVFREREQiIiK6\n",
       "uroQEBCYmJhmZmYyMjLu7u52dnaqqqqIiIjc3NwAAACFAiZ1AAAAAXRSTlMAQObYZgAAAAlwSFlz\n",
       "AAAOxAAADsQBlSsOGwAABYdJREFUWMPtl39oHEUUx9/lsvdj927dllJRijlDVdqATUP9QTDtWS4K\n",
       "VUwsmhqKJCL+oEU5jbZRUc80JWL8EVEIjdYsLQj+EXoWClJNjahQiCWnFRJ/VE8qqCTCmUY00eR8\n",
       "783s3u3kTmn+kUAXbm/n7dybz7z5vjdzAJAF8eHLfZCXCed/Zcu1feWcm/89nJnCW3QEH2od0zGl\n",
       "y7eiY9/5sN6ttF2ffsv74qzzYDTT/efXN2uZMj6Dl6bSAKPUd6QMayTNX+Gc+tuOfF31a5ZqHaqr\n",
       "Tk7y7MU1OfGC6zOK3lLe7h94WdPaehkbL8OVs2kwe+uSoFPIKqEM6zvia2wRK9wLUPGbYos+ZMPo\n",
       "zQADzrol4VHXp4GfuLd/3Mu6maJiqwNpDSv2zALcddCGUBLbJ8ux9oivrgXZ3uHKZx69/Ok16ptw\n",
       "oBB27XTCDPCJ63OoOJAiYCkv6xe01imVdQIdN2WM4+8OQIDaG8uxtgtXk04ET7n6QUtw3msM76Iw\n",
       "4E8CMjgovmrX50fFAlXkK1iPkHZ2CcvpRELkiEGp1BYHMwbQSgHpK8OqiRe/Rv9WWStQFeGHvcYP\n",
       "aSwfBiacdFi1ba5PUn44W0JgLqt/Dm/9bGj92nnVRvMO5Lia9JLO0PcK7HDOFn6N4edEx5BIrVTk\n",
       "D5U1UAv6WstjNGdYCGg0YmKml9UdsJlVn8hAOtonUjXSVA8a2cdxZhZog/WCNfLiObwfZVcD7jR2\n",
       "F+V2v0ytFPj6t6eZ1WyEt7NT3IcDpI34/lJZqxrOrEt6jca8KxC5fLB3lcWsRqRdT0bnRDbtqdnK\n",
       "iUaNEMAlj9cI1idgg013T/wjv3NbZOGt+NmONgsqAGLMGkiDP8WLUMnVJwTmtMr6fRYiD3iNlW5Z\n",
       "iMSdzGfqYzAVigezJP79XMv91hoKQYxFHMOBidVcgDFLJCOEC+rgrA6IjLsP2AP6fZKCS6yvYHXo\n",
       "49UPsI5OP99FqwPdicT9icRW/tm1pE/LYwzMsQZIszkn87Ucs9qBjEHeYSUKzgY9Q95DzSTiIA7G\n",
       "rBW1UIUOq+iXqxN48f5UwXGtslzWcWbNoA9mxdJp7LZdVrTCjBpXCvSzGW9cc066a6J83I5g7SK3\n",
       "2rIG+xkVXU9kZJakaYsYYtaLkszZQu8PF0o2r+j1ovGmSMgQaKgCzi0dxWmIxA+PsAQAblJYfZRs\n",
       "G5o9xtCCk+5SA/jojwnWbpgCA6f/luj6vi2rT4omtJ5Zj1isVdZAYW/S8y/7TgTlptFAxSKLW0II\n",
       "9MtFfUEOQ0TGn5GlflBhjSKXb9ZrpO2BgSAojhfIsjorWPehwj4tnDveA7lP9SDtIUvE1eK4dbD7\n",
       "wrFgVf5Bu1XW66Ny1z/w1cXdzYK1C+CpHCuEio9J2FuyStlHY8uAMoGxJESOc4R5KP0q0BplzW7J\n",
       "poPNhXOHKIkoiPDBVzsbRX01MhFahJfc1XYiC1FnL7tDVo9g00xa1m1jeC/08nBaHPQtszZ8nH/D\n",
       "g1UxOF297gZQWPV91fuFcnlmkTVnhp39xVdz3XdFayvqL7Uey9/i7AXD35DxNn516BrnXGDe2XmF\n",
       "M1ClJffpnlJ77I3K5nyq1HltkfFH97Di+vRxRE96WCnKfByR+xajSWnu3CT32KY8njp8YuflwwLt\n",
       "0/eUYu1UKHaUYl1k7FnMGrWdkxSBCzmSegOWlzWUVM/YHfnpR36R7+VJTNZEhdWfXcL/AplBQ8Ws\n",
       "DO6cO6Jy6AFZTotYz5Y4v66duVo+Ui0LZiAaL8Wq1y6B1W875bUoriArKstdvnga4EuFtf7fo0AO\n",
       "asEUW8PnytuflsD6jNJ2ffqVf1XY/kEE2jkdBpeyjheuC9f/ffnG08uGdSX0LRvWjctIA9vAXjas\n",
       "Oz9LLrL9A1wDda0sCHllAAAAAElFTkSuQmCC\n",
       "\" style=\"display:inline;vertical-align:middle;\" /></a></span>"
      ],
      "text/plain": [
       "{delta in Complex, m in NaturalPos, beta in Complex, n in NaturalPos, alpha in Complex, |varphi〉 in Complex^{n}, A in Complex^{n x m}, B in Complex^{n x m}, C in Complex^{n x m}, |psi〉 in Complex^{m}, gamma in Complex} |- (〈varphi| . alpha . (A + B + C) . beta . |psi〉 . gamma . 〈varphi| . delta) in_c Q*"
      ]
     },
     "execution_count": 46,
     "metadata": {},
     "output_type": "execute_result"
    }
   ],
   "source": [
    "InClass(qmult3, QmultCodomain).prove()"
   ]
  },
  {
   "cell_type": "code",
   "execution_count": 47,
   "metadata": {},
   "outputs": [
    {
     "data": {
      "text/html": [
       "<span style=\"font-size:20px;\"><a class=\"ProveItLink\" href=\"../__pv_it/demonstrations/f902dee330625b7efb8591cb50d4ff3a2f40e3640/expr.ipynb\"><img src=\"data:image/png;base64,iVBORw0KGgoAAAANSUhEUgAAADIAAAAQBAMAAACmdTG/AAAAMFBMVEX///8QEBDMzMyYmJiqqqqI\n",
       "iIju7u5UVFS6urp2dnZEREQiIiIyMjJmZmbc3NwAAAAJMjmHAAAAAXRSTlMAQObYZgAAAAlwSFlz\n",
       "AAAOxAAADsQBlSsOGwAAAN1JREFUGNNjYGB4e3odAwrgm7Xn6KMJQMYEjjJUmVnCDLnfLwAZaDoY\n",
       "eCOA6q1AMuFoMrpcCQwM7CCZfAeISNTu3QdA9DIukF0BQILrG1iiJwyqZ8FbKIPlyi+wg47BXFag\n",
       "CWXZMNQDzWXgeQDlM01ohir5x+CvAJKB++ZCK4TBvoBBHySjuBsIFoDteQmR4Tdg0AfRWXBXg90G\n",
       "crMC0CYg4IbL9IL8w9DAwK/AcATEZw1ACQPWBQycASwFYIEjcE1zTiaknAXSUyMh/PQVCfCwlt/7\n",
       "ADm8OldDQgcKAL1EOEzTZhtzAAAAAElFTkSuQmCC\n",
       "\" style=\"display:inline;vertical-align:middle;\" /></a>, <a class=\"ProveItLink\" href=\"../../../../logic/sets/cartesian_products/__pv_it/theorems/84ee59aeed12e78631ff41732d618eeba4d5229f0/expr.ipynb\"><img src=\"data:image/png;base64,iVBORw0KGgoAAAANSUhEUgAAAEYAAAATBAMAAADfQ2bzAAAAMFBMVEX///8iIiIyMjJmZmYQEBCq\n",
       "qqqYmJju7u5ERETMzMyIiIjc3NxUVFR2dna6uroAAACULOzSAAAAAXRSTlMAQObYZgAAAAlwSFlz\n",
       "AAAOxAAADsQBlSsOGwAAARJJREFUKM9jYCAADBgIgwZK1LDLd6gz8Pr74TWHI+ANA0N9AV41PNK8\n",
       "CQwsDMwdHR4dbbjURDBoMzBidw9Xo6AQWM22BZtwqOHTKoCas+Ek1wW4Gr47u2+d4rzVB5baVACz\n",
       "awMHQx9cDS9HF0N9HkMIWEob7p4NnAaFhbBwnsfSwLD/AkM+WEoBoYYhlbUFxiuof8AQX8BwAsTm\n",
       "dBQUFJSAquEpOAJ3ZzwDgxEDgxc4eBuQzGE/UAhXc4iBQZaB7zc7iC2ApIZhFgdcjS8D+z8GHoWt\n",
       "IPYqeFxMAIbVDBiP+ycD2wcGpgsXQBymAKgoI4hhBA82AQYuAwZWqw1gB514DhbklPcAkkXY44nv\n",
       "BiQuUAAA7zs7hIz3bAEAAAAASUVORK5CYII=\n",
       "\" style=\"display:inline;vertical-align:middle;\" /></a>, <a class=\"ProveItLink\" href=\"../../../../numbers/number_sets/natural_numbers/__pv_it/theorems/d0faa5018b5696ae3900dfa3ef431459c4f039010/expr.ipynb\"><img src=\"data:image/png;base64,iVBORw0KGgoAAAANSUhEUgAAAEEAAAATBAMAAAA9n32KAAAAMFBMVEX///9mZmYiIiIyMjKqqqqY\n",
       "mJgQEBDMzMzu7u5ERESIiIjc3NxUVFR2dna6uroAAABonEzTAAAAAXRSTlMAQObYZgAAAAlwSFlz\n",
       "AAAOxAAADsQBlSsOGwAAAPlJREFUKM9jYMAHGBkIAU6yVTT9nNzAcO3bAzxmTOE7wMDxA58thzZc\n",
       "ZWBIYJCcOW3mzACsKo5MYN7AoIDNjJVKSgYg+nQUtwFWFY9XQBmneQrWIlTw3dl96xRYnNsCpvQ0\n",
       "wwTOB3AVvJyzGPo3gFjMGxAqCjk0FGBhWsc2gWF/AVgFA0IFq4NnAozX0P+AIR7MKlMCggkQFQwn\n",
       "eOAqGPwZGE6CGZ1IZjD0cCjAuYcZGL5ygBhMyCrYF0yAc3MZWD7wghhcC2BC04F4OVwF93cGXoNo\n",
       "MNMEJqYC8oYBjMenwMA91QHM7JnXAKaLvgH1cxhgi4+3k5QwxQHHgj1ZIOxujgAAAABJRU5ErkJg\n",
       "gg==\n",
       "\" style=\"display:inline;vertical-align:middle;\" /></a>, <a class=\"ProveItLink\" href=\"../__pv_it/demonstrations/e60b8f70960d4af78300b3449124fd46a0aa91830/expr.ipynb\"><img src=\"data:image/png;base64,iVBORw0KGgoAAAANSUhEUgAAAF4AAAASBAMAAAAgZnRKAAAAMFBMVEX///92dnaqqqoiIiLu7u5m\n",
       "Zma6urqIiIjc3NwQEBDMzMwyMjJUVFRERESYmJgAAAAeMT9/AAAAAXRSTlMAQObYZgAAAAlwSFlz\n",
       "AAAOxAAADsQBlSsOGwAAAYlJREFUKM9jYCAIuAQYGKIYiAJPX5UHMDAUMrA+YOCLW17D/mYBLpWN\n",
       "l3dXLGR4No9hBgMDe4E4AwNf5gPOA+wHgFJv/985sxdNI+PNByzxRzncDRi+AHnSBQwMLcUM/Ams\n",
       "AiDJuQwMPL9Q1YcnAk28ysBTwDYBpP4BkDjOsJKBWQHI4PjOwMD2FdWLAVeA5FEGzgWsAgsY2AXi\n",
       "gLxZDLUM/VxABh/QbL7vYHXsl42tQTSvwwUg2c7Qz8CctADkXwUGjg9AG94yAoV5PjAwcM8AKWPb\n",
       "7gAxn5cjAEznMLDLgcPzFAPbAYYdDD0lQEHOCwwsh8H+7YYqZ+jhEsAdyOuvl59+AGbtgAktZHuA\n",
       "W319AwPTPDBrA0yola0At/qbQCwPcg/XZGNjY1uI+/G45w8QvweZx3IBJgQJHxzJ6R+QOJ8AYhrA\n",
       "xNjA4c+GVT37D6Ce32BmOUr8AuMHG+AGxnjmFghTAZ5+douwaAdgU86z/8+Z05cgbJazKfD0efNz\n",
       "BOH0ziYLSQ+4AQAkw2IMa9cJugAAAABJRU5ErkJggg==\n",
       "\" style=\"display:inline;vertical-align:middle;\" /></a>, <a class=\"ProveItLink\" href=\"../__pv_it/demonstrations/847ecb4d628b91a053c2379114751af7d89ba9560/expr.ipynb\"><img src=\"data:image/png;base64,iVBORw0KGgoAAAANSUhEUgAAADYAAAAQBAMAAACvnpHFAAAAMFBMVEX///9UVFSYmJgyMjJERESq\n",
       "qqoQEBDu7u66uroiIiLc3NzMzMxmZmaIiIh2dnYAAADysKFQAAAAAXRSTlMAQObYZgAAAAlwSFlz\n",
       "AAAOxAAADsQBlSsOGwAAANRJREFUGNNjYMAGuJ5Mtl39AKsUw5MkhpqPB7BK8dwA6lHBLreHpYCB\n",
       "gRFV7srMmQYg2p0FZOcFZKnm61CGwxqY0Ls7GyCOM4e5UmAflLWygT2LKwDIYF4AFeF+0ARl5TEw\n",
       "+PAWgOTgvjvQC3XvdwaGw3wg1raZQOAAtm8dRI4NyHv2HMQqgTsK7E4gqAd68z3IOgZOuFwPyH8M\n",
       "DQz8CkB9YBHeCyjhwuvAwCPAwPSeGyxkCtf42K6g1AbkvUsKPG/BIoUeBfB4yJ+zADUc+zwhYQYF\n",
       "AH6TOAHoygR1AAAAAElFTkSuQmCC\n",
       "\" style=\"display:inline;vertical-align:middle;\" /></a>, <a class=\"ProveItLink\" href=\"../__pv_it/demonstrations/932f704789037247f30ad02e6c8f267e6cfb2e4c0/expr.ipynb\"><img src=\"data:image/png;base64,iVBORw0KGgoAAAANSUhEUgAAAFAAAAAVBAMAAAAjqnRBAAAAMFBMVEX///9UVFREREQiIiKYmJgQ\n",
       "EBAyMjJmZmaqqqru7u7MzMyIiIi6urp2dnbc3NwAAAC+adfGAAAAAXRSTlMAQObYZgAAAAlwSFlz\n",
       "AAAOxAAADsQBlSsOGwAAAX5JREFUKM+Fkz9IAzEUxj/bq+1dvHq7CAVdBJFCQdfaza2Dk4vdVMRy\n",
       "qKNDN0EUThcFlzoUBxHOOkhFpIPVQcTQQRw6nC5WQdTRzSRNz2uQ+iCEl/zy/nxJ4EGagb9NWz06\n",
       "IZNFNNoLoaKKxOvji29Uq6UjFrEkSICYrYL1aex+2a+n6K9GqQRNNpIKF72gQMbGAEoIFyS4z8aj\n",
       "Ah6GHKDHxgzK+DAkuMHGswTKqVSOzyMhXqcb/2QxM6YEWRL0tgS4rsgDiRcx9VnI46nCQP3MBSU5\n",
       "xKhodaHds3XcUUkDZiyrp8m37Ka3LaxBrxSwGU1qHrLAmgB9Fe1bBXQiLlOHqXjA/VKKWULU+K6A\n",
       "uPdM6C6wxf0df0d03QGuoAmTaZbnftjfueE6ohoAlzGFTVaUSEjcjpshiQBY86jGDpoFsTDvh3xY\n",
       "cvbmgqmNweHL36Tbo47/emYnvCAIQ8Ralyt3Q60rVIyDRMQYQ1dryEcGPfc/SES76e7guf8VunM/\n",
       "h/FjgTPyFT0AAAAASUVORK5CYII=\n",
       "\" style=\"display:inline;vertical-align:middle;\" /></a>, <a class=\"ProveItLink\" href=\"../__pv_it/demonstrations/55ae555d5f0c16d4b9bc389aad8bd32148070b8b0/expr.ipynb\"><img src=\"data:image/png;base64,iVBORw0KGgoAAAANSUhEUgAAAF0AAAASBAMAAADLUc9JAAAAMFBMVEX////MzMy6uroyMjJmZmYi\n",
       "IiKqqqoQEBB2dnbc3NyYmJhUVFRERESIiIju7u4AAACU7+9TAAAAAXRSTlMAQObYZgAAAAlwSFlz\n",
       "AAAOxAAADsQBlSsOGwAAAXlJREFUKM9jYCAIJBgYWAQYiAFcXrJXGBh4Gxi8GBiWLLy74dZGXCo5\n",
       "e4JtJzZwqS9gn8DAcJfjAgPDoiqGaobbIDm+O7t3cTagqu+pYnjy22HeVQb+BwwMHLZAA94GMHxi\n",
       "8ADJXb/HwNa6AEU5yyWg/jUODHsZ1IE8DisgwX2BsYAhDMh4Ewck/CegqBfhARrL7cBQyODByMBw\n",
       "gwVoGrsA7wHOD0B/mwOlwMYAwZ3QUAMQfY4H5IcLnB8YghJB/nVjYJgPtIHrQAMDxzewgWDlyveg\n",
       "5h+YAqaYNjDcWAAKT24BBm0G5gmcex8wzA8AyTwEB4odLHQ2SOAM4/4LcCYzzBOMDVo41ccjoo4Z\n",
       "HvoOujjV14O8ywAmxEOB4ADY/TNwmw8i2MCWvIELgsMHOwCHPAeYyQoXVAGFP4MCNvXzQf7tAzN5\n",
       "L6DEL+8BbOrZfjEwZDyAsM3gos0WD56ZYHfQk9NbYBa/PvQAnj7rQyYQTvAaRyHpATcAAM5kXmJR\n",
       "HhpgAAAAAElFTkSuQmCC\n",
       "\" style=\"display:inline;vertical-align:middle;\" /></a>, <a class=\"ProveItLink\" href=\"../__pv_it/demonstrations/9776b868029321ad4d7f2b3c1f048f5554e92b8f0/expr.ipynb\"><img src=\"data:image/png;base64,iVBORw0KGgoAAAANSUhEUgAAADQAAAAUBAMAAAAw+gPuAAAAMFBMVEX///8yMjJmZmaIiIjMzMzc\n",
       "3Nx2dnZUVFQQEBCYmJi6urru7u5EREQiIiKqqqoAAAAmNEGZAAAAAXRSTlMAQObYZgAAAAlwSFlz\n",
       "AAAOxAAADsQBlSsOGwAAAM9JREFUKM9jYMACWHMuCockYJNhyOlk2PRdAZsMkxVQxxysUk48GxgY\n",
       "2FGkbO7eFQDRp3lA9hkgySy0hjIOBEEZb/9sYFgNUiYNc1+BG4TB2Z5bwAByKGMAVIolYSWEEcPA\n",
       "cITlAUgK7iuFxRAG0ILNbCCGx10gOAC2KwxuP1swiNwD54NdCJXKBpG8cP4ikL8YFoClwL5jNkAJ\n",
       "DWaw2UwOYBE5uLZEsQ37hMAsdojA9lMb4CHffykAWYph2VlIQCEBZwacwAq3VAFuqQDswgBkzi1X\n",
       "2dcTkQAAAABJRU5ErkJggg==\n",
       "\" style=\"display:inline;vertical-align:middle;\" /></a>, <a class=\"ProveItLink\" href=\"../__pv_it/demonstrations/bbf5d33edced3682aab59724695062ca64acb82c0/expr.ipynb\"><img src=\"data:image/png;base64,iVBORw0KGgoAAAANSUhEUgAAAEwAAAAVBAMAAAAeOBUnAAAAMFBMVEX///8QEBAiIiKqqqpUVFSY\n",
       "mJhmZmbu7u5EREQyMjLMzMyIiIi6urp2dnbc3NwAAADC3l7hAAAAAXRSTlMAQObYZgAAAAlwSFlz\n",
       "AAAOxAAADsQBlSsOGwAAAWNJREFUKM9jeMAABVwM2AFr6uptDAx3YFyOBegK+G5ozn51gfVgAOMD\n",
       "hDLmBHRlN0QZyr4kPN/EwF+AUMaggKaKbc8FBoaIBAZvhoNIljJcRlO2jKOAgYElgUGKIZcLSdkL\n",
       "KL1DSWkCiG7nALlvA98HBh0rJGWcEE+f3A7lNzwDUzwODHsDQMpWAeV+FDAwXwB7bzrMnw5rkVwA\n",
       "VJbAwDX1yAWoHzhhAcl14SiKMuYFDCwMDA4MDDlgZfBQSziNooyXgSEcZCTDEhB/oRIQNIDd9hZd\n",
       "2QYG9g0MDLYgfgVcBuxThDI2Bh6gtcAwmgfiM8FljoHCjeEAXFkAGwO7F9AxYKu4N6DEAncD3Kcz\n",
       "dy5NAmriNQALTIYbd3NuQfE0RICw6n+6gLCupKcAnkLk1R4glDGkgllmUJGzTZDIQgEgZVJgVh8D\n",
       "HgBUxvUBxGCfQEAZNziWuAPwKdsFdCo4eXPgUwUATsteKZUtyh8AAAAASUVORK5CYII=\n",
       "\" style=\"display:inline;vertical-align:middle;\" /></a>, <a class=\"ProveItLink\" href=\"../__pv_it/demonstrations/6634837ef11982c7c926a933fc6129de5c4761670/expr.ipynb\"><img src=\"data:image/png;base64,iVBORw0KGgoAAAANSUhEUgAAADUAAAATBAMAAADCPVhoAAAAMFBMVEX///8QEBAyMjJERETMzMy6\n",
       "uroiIiKqqqpUVFSYmJju7u5mZmaIiIh2dnbc3NwAAABKcBCOAAAAAXRSTlMAQObYZgAAAAlwSFlz\n",
       "AAAOxAAADsQBlSsOGwAAAPFJREFUKM9jYMAG3popnfOFsE7vQpXiNZzAtb8bxOKbwDADVW5PLAMD\n",
       "pzWItYaBoQxFimWDFZAE6zvAwNABETyclqYApJgXGADJNxA51iywVNApiBJmvg1QE1j9LJQWgO3V\n",
       "goq8YLkAcxTDTDcHEIPpAVTEl3UCXI6BUwEsB3PLa9YDUBbQmawfQAzHNCAwANsHMzOEgYFHAMRY\n",
       "DNMHcScIANUwN4AYbDA5VrD/WIEYaJcj2BU8B5DDheEwAwNXJwNrKkRIHR6eSre4ioB+ZHc/cwcq\n",
       "tMJ0ASweDL/tg3gBDmLNwGGGiA8G3GANHrkQ3FIAu+U0diYjhn8AAAAASUVORK5CYII=\n",
       "\" style=\"display:inline;vertical-align:middle;\" /></a>, <a class=\"ProveItLink\" href=\"../__pv_it/demonstrations/a0aa0488271b81ec08bef69d663496a5009a7f650/expr.ipynb\"><img src=\"data:image/png;base64,iVBORw0KGgoAAAANSUhEUgAAAF0AAAASBAMAAADLUc9JAAAAMFBMVEX///8QEBAiIiLu7u5ERES6\n",
       "urqYmJiIiIjMzMx2dnZUVFRmZmaqqqoyMjLc3NwAAABb1yYoAAAAAXRSTlMAQObYZgAAAAlwSFlz\n",
       "AAAOxAAADsQBlSsOGwAAAXlJREFUKM9jYCAIOhkYuBsYiAFs29qrGRjYJzBsY2DIzihfULYCKvEW\n",
       "XSXfFN3rLyawBSYwPmBgKOcsYGBIFWOQYqiCSt9HVz9FjMH614bHRQz8BgwMnNeBBpgrMHxl2AmR\n",
       "5fmPppy7dAIDQ8oGhuUMgUAe5zUgwVXAIcCgA5Ve/wBVfTcL0FiuDQwSDDs5GBgquRMYGBgb2B34\n",
       "PkD8PW8+1P/sTkq6INqZBeSHAr4PDKonQP7dw8DwHmgDm8MEsOcK6g+AlbNeN4Doc3gN4S9gqEwA\n",
       "hSdXA0MUA+8DvuVgeW6G8wmQYIIq51vQiS+YYxj6wfYw3IMKcEwIw6d+A8P7BWDGBVjobwjHo5zd\n",
       "e/d6B7CxQkpKSipg97/Eo96cgYFfAcRgdoAJgcMHt3MYmATALAWYUDQo/BkCsCpnBYYN7wcwsxwl\n",
       "ftkdsKp/CMQs/8BM3gMwwbk3DWxuY1Vu8v8yA4//X3CAMi8JhqdPee0HhBM86xRIesANAEA9Vo0y\n",
       "TAlvAAAAAElFTkSuQmCC\n",
       "\" style=\"display:inline;vertical-align:middle;\" /></a> <a class=\"ProveItLink\" href=\"../__pv_it/demonstrations/fd8a88cfda33b06a253ba965e4bb6c2fa72b05c10/proof.ipynb\" style=\"text-decoration: none\">&nbsp;&#x22A2;&nbsp;&nbsp;</a><a class=\"ProveItLink\" href=\"../__pv_it/demonstrations/19db75cd8bdf1a7966b3b895689df5be8599fdd10/expr.ipynb\"><img src=\"data:image/png;base64,iVBORw0KGgoAAAANSUhEUgAAA7MAAAAVBAMAAABmnaQyAAAAMFBMVEX////MzMxUVFREREQiIiK6\n",
       "uroQEBCYmJhmZmYyMjLu7u52dnaqqqqIiIjc3NwAAACFAiZ1AAAAAXRSTlMAQObYZgAAAAlwSFlz\n",
       "AAAOxAAADsQBlSsOGwAACZFJREFUaN6tWn+MFFcd/+4uezs3szusjfFHgt64mrRX/mC5GDXEwlKP\n",
       "mlQjCyHX2MRwVquRpriKtUVTWCjNtdamZ2pKij8YaWLLH5duats00JOtYkNCCGurhdJix5QEE2iA\n",
       "HqaWlsPv+znvvZl5dwdM8u5u33v7Pj++7/ccAETAEn3kH/zxYc5P4iuyzVxWTT8LXhT6qbXTnznA\n",
       "+Rlfj2x8rhrUXETFxdUsDlFCQaWLX6yL7OeML77JGh6fQ2iLPSNDtlkwaL0t/vCaBOTBr0TfSmnv\n",
       "TZ702pru8cuAg//8emmC6kx2XJ6yDCi7KP2Jixcb2nWuwkRq5EHyxW6GlnKH/uo/a0JtuDRUe9Ts\n",
       "QDAxVGud4t2B4Ew+EMo2K9haW6/+okbcg9VhpZsQRShQGi9muiDonTr6i9nDQad4fUxVPhY7Ssum\n",
       "aoOLrxqUVZT7au1avxObyIuxfxwwYq5zFSaS5JIePw8yQrub/TqcCC18ByB/zuzxd4Zw8KvQH/LP\n",
       "J6EUyDY9TA29fkPTVSCTyI4E0G5Bo5EZWk7Pb8GPZw8HS0mnCI2mrHb04QhZVL1aUFZRrx2D8rOt\n",
       "2ERe3FHJ0cfgKk3E5JDvH8gK7Rj7tXWaf75FDsiLOPP+T890P4/snWko8S7s9qDckG1OqH2Uddu2\n",
       "pqtCusE9idCO8WTUVh9ODxH2zx4OXiEDsW0Is9pxBgfN2vYVQhVbirAsUU/cjD8eiWITWTF+UIYp\n",
       "fQyu0kRMffr8bYR2lMGeEuPzkJycMKd0Uc/sX0eY41fWgZio8vGofUldWYwFihJ3PyQDw+zblMJo\n",
       "srY6J3F6qLs2ezh4mni0zhBmtWMztrC5d4VQ5Z4iLEvUY8SGEcVEVlyuqosrpHCVJmL6ppiF0rQU\n",
       "WcE7lQ/N0OZxDuxfr2fuIwJy2A+3y9CuiddasnD0RymzvdS1DCv3t8xN2TinsRuyQivo9aB48xzg\n",
       "ChdAUpUarHYsIqZHVwglQmsT5VFBn1BMZMVk6offJxYQlaswEdND5Ov450dQ1lTI1+LJLXx6Yruo\n",
       "dvk9M7S47Lifq2qZ/nmKhZnPsIxVbw/uYJju0R50KuNs51BeuQSKJORHsCNUobhzCSN+4DD2Ry8w\n",
       "QksoUBpGbdh7VPR4Tq/46aHHwyQc7EdZtyYbKP9yCiRVKcxqB+4vdi23QGUp06BEaG2iztAl+A+K\n",
       "iVg88TCG9nW20ZNQJldpIqbtfCluQ2776g4t91fAH6PTdIqlY6jYzX1ghnbghuODLT3TuygKN7Jf\n",
       "ndKPlrPQeuVRt1W5wHYNP114I+t++MEB+ORdC6mu0nj+AvlJSrYNk+dGQYHS0GvDiaa73u+q9Dy4\n",
       "+6PVJFzptmcDOrCMBjbColBSlcJsduSmjr+yHSxQGcp0KBFam6h98UmJm4jFnZfhSXgrZBsnAWVw\n",
       "jU3E9HXMWE1n8TxAQMv7OlBoH6PbL+qdA/67ZmjfiqD8fT1zntww7wcxUW1koT3tNEoRWVzup2tF\n",
       "obqAhCSgy1SAwETXmaiMDZSNrSalQJJRG+4A+FIlVOl5vGPocGQVXJxLNuBPw+GqpCqF2eyo4G7t\n",
       "5VY2VJYyHUqE1iZqZXys5CZ6Tb+7DTaRvYDTVKAMrrGJmG4HSgvJ/ozEn5Q/EoIzTueyPjpLvPrA\n",
       "1ik+lr7HxxJ8gaytVS2z7wKdkMmQFhtkWMtCG/b1PNI6XIMGhVhCWicUO1BCMKrrs5BDVjnzmEUo\n",
       "kGTUdhDsQTpCJD3cqBbPJuAAgzLhJeHydRiocqqKMJsdBYygdy4bKkuZAuUMD9/03eHhAOyifkj7\n",
       "bKiY6DVduBPr4hjPBQqUwTU2EdPtbMb3yNYA23mOLSneHaEMLWn9vDlqyTjZ3NNH7VmxXRxh+wSU\n",
       "8xpf39dGHm3nIKv65x5f0jpkmzBBdb1HGRVHM0Jr1CZHzOf3gEpvFVYaTYXz3knCzW9Rr0cMYTY7\n",
       "5gfiVJANlaZMhxKj1iZqpdgOSxOxuDiNdSfkNRKDMrjGJmL6LdunOaSRPF2L3Q/EFg36u3TCA7jJ\n",
       "cCBHNi6LmlqmMy22i/vlSX6Ih3YbnAYvlLu7vSHf3LWJS9cT4u45OsexCVlda7ss6bXh6Q7fkcf0\n",
       "MKcQpMJ5eyDZQJVOdOaEbLNjAAOR/68dKkWZASXXWosoeqL1VBOx2GngMrwn3oxTKINrbCKmG9gV\n",
       "htNywP0M8NCDxwZPocdP8zsNB8iyk3tfzyS3GFQlbGDcscp6Htr7cM74W3wmewH4Hc0YKttVpbrO\n",
       "UbGlujFqCQVKQ6+NIwGel5cNlB5q+liUCue1k3DzqzSMGwxhNjtwfwED43aoNGU6lAitTRS5G4E9\n",
       "qokktPVSWG7GR+gXIMk1NhHTM/w28/HXP76tycq3Avz8LF3IyS7aJ7KWRcbtBGaO7DBsOdyCMuXz\n",
       "MP24qwVrmjy0I1Gn1IxvUraI69r+3/3qnhXs1DYJfyFj0LxF5xt5s7YTQGkfed8i6bnXQnFFOpxT\n",
       "TcJ5vXIgqcYabHY8htPcD+iozIZKU6ZDidDaRJHT3MFQNZFMyOs9uEu5+NoCSa6xiZjW8M16aeX5\n",
       "Dj/3epN3w0OUQLEB7rL3Q/jrpd9oDuR3vlsb/DIYtrj31e6nf3yDXdIceqMnztK5hV/8l3LhGcjr\n",
       "z59c+ho/r3vHCf488zUaUqDJqA17j7ScSVDolRccn8yAy6fAweQbMdVYg8WOwUu12qM0ghaoYEYo\n",
       "eWWRLQrgqaHrmpqJpPiaP90bKdfOAaRwlSZimlflHWEs7aJxuWH0obQXTmam35CXNLLNXFe98Azk\n",
       "SwunpV/FnEi0vpyntNra8M6Gy2fC+Q1Dg92OmaGCGaHkReNsREkTafEC7X46kO+YTK4nWKK31mT6\n",
       "/naaFvO2/pY0eDOTcdVDy46gS/kmrCdfNfZVdV1jidb5XXdq7Uy/NTj4VCac0zI02O2YEcqiTEDJ\n",
       "1wOzEaWH9ph8txNDpXEVb1T4Cyd+oDS0FKK5/5cFX+fdnmqAp154VriMHeIILHX59URrhIJ4VTVg\n",
       "eWs9kQkH/8yCM271YSY7ZoTKVpaEmo0oaSIt7qj30xwqhSsxkRr5BOmrPag00rS49csI7RJ5rFX6\n",
       "NvDzXjxBAtwL8A9dVyFMqqtzGsna2rMqE45PXWkNLEk0Y7VjRqhsZUmo2YiSJtJiGucj2iqTxpWY\n",
       "SI30Cas6+KyRvxttn5x7ZEvmSJdtFox/9MHP/2Y9UCjYlNLeSZ6StdOfBJz4r6FkA6XkpGS34/KV\n",
       "pUDNRVRcXDegklw3sfR/HY0aHtPJgzIAAAAASUVORK5CYII=\n",
       "\" style=\"display:inline;vertical-align:middle;\" /></a></span>"
      ],
      "text/plain": [
       "{delta in Complex, m in NaturalPos, n in NaturalPos, B in Complex^{n x m}, alpha in Complex, |psi〉 in Complex^{m}, C in Complex^{n x m}, gamma in Complex, |varphi〉 in Complex^{n}, beta in Complex, A in Complex^{n x m}} |- (〈varphi| . alpha . (A + B + C) . beta . |psi〉 . gamma . 〈varphi| . delta) = ((〈varphi| . alpha . A . beta . |psi〉 . gamma . 〈varphi| . delta) + (〈varphi| . alpha . B . beta . |psi〉 . gamma . 〈varphi| . delta) + (〈varphi| . alpha . C . beta . |psi〉 . gamma . 〈varphi| . delta))"
      ]
     },
     "execution_count": 47,
     "metadata": {},
     "output_type": "execute_result"
    }
   ],
   "source": [
    "qmult3.distribution(2)"
   ]
  },
  {
   "cell_type": "code",
   "execution_count": 48,
   "metadata": {},
   "outputs": [
    {
     "data": {
      "text/html": [
       "<a class=\"ProveItLink\" href=\"../__pv_it/demonstrations/be60c7db86f0e60756a0532cbd72e3d30da0a17f0/expr.ipynb\"><img src=\"data:image/png;base64,iVBORw0KGgoAAAANSUhEUgAAAdAAAABLCAMAAAD3VSYGAAAAOVBMVEX///+Dg4POzs6/v78QEBBU\n",
       "VFS6urqYmJiIiIgyMjLu7u7MzMxmZmYiIiKqqqp2dnZERETc3NwAAAASg5l4AAAAAXRSTlMAQObY\n",
       "ZgAAAAlwSFlzAAAOxAAADsQBlSsOGwAABw5JREFUeNrtnem2oygQgJ0Z2Tfx/R92WARR0XhJSDp9\n",
       "ix85OTYUsT6oTbw9DG1NzKGhAdqhqaib7/rRYjbENQz4js0rhqCvA2qB3CVVAApAASgABaAAFIAC\n",
       "UGgAFIACUAAKQAEoAAWg0AAoAAWgABSAAlAACkChAVAACkABKAAFoAAUgEIDoGw+aRSAfiVQ7diJ\n",
       "8gK3mKJxnkcA+p0mF82zqmhDzRqAtjd740ovH6rqx+/l9O5bfrHQx0ArP0G8BpQ9Ks/gdwH171SQ\n",
       "GtGuQRftYgAw/QnQio6na6LXoKxkagpaM/qDQAfqiNZkkdcrXBrDo+s23l1Po3pGWmV8sU6qQK2h\n",
       "UvKajuNS0PJ6CVyCcveEURCuhk8CHaaqG+3QDBJjUAlnS4wtn4zRD+MZvwJq/SIlqKZjsziga/d0\n",
       "CWpKRGrL4p1AuQtq5TuAjhpPQeFy2f3PRl7H8UReAOVhG2pV0TGnp3uwSAmuQVF0YbjfCXTAzui+\n",
       "IajFc9o+4/7CswKLRcPPgUZoqLZDtTj1ktcethDCFyUm+/M5oINxeSfvDtSkrYHZ7sKzAkubSx4A\n",
       "xarmQ00ef67Wh6CmuMBo/AlCxHudg1Uqfa1z5KIvUF8wYr3zQjQqJJfYaJkVUSqfMA218QadAsXC\n",
       "ToitXjbomFNJI1DKcrgWN62KKHAa8ACUlnqeCk8b7lUwgpEp+1mFvZezg9UdgXo3anrv0FxOXHYR\n",
       "n51yeft9bManJU/YKVDjXwUWSmyAmkE7B8CJj/Y3ESoZkVGo3LzXoPzEyIvAqDDiKH3kfmOQN8mB\n",
       "8o5AjyXADll/nkDpZU6+YOaENf1mvi6TxCmHPFWgJfGgY7dNpBtBbPbsEhfO1HlNkTbSNSjreWh/\n",
       "i4uAMBvhaQmkfjIuG8kG09Pk+ol6u1GdNTzGm5MsbDMzCEpbvGkev9XLGdAlkMVzCdTd8kgX7Ud/\n",
       "ICK3uH/cmCz+GhSawuQiW2aTvXaYOPUbY9RlRrPT9n/zv6/Vt+r9hGUNYRagIYvEITTULUCL8YWj\n",
       "TE8V/pkPLjSSGrfxDPY7w6zA9WaBGJuVcg0qVNvCalpiJ5mnRIWvTevPHNKKlz8Ptb2rC1MuGTO9\n",
       "6iCaoCag63i+xkbnJtfsf0bUsbe4IT5Ztsw2zDXrRnoASmRzHgsMPtf2fTkSwx6836FDb6B07PzE\n",
       "fMxrfYrf5hDukRLDLaOfOq3j5aBzLDSdAY09xHqbC9ApWlCNa4moKWoJ16BEXqnLHmeMMkGkwpv0\n",
       "Rob1RMy8fxDwaqD4fTFRSi0QCdFeAZSn5On4pXIpj+d8VbykJ0C57+6yULxLIbEj7ONfXC0VlQnj\n",
       "JSjj5tVoEw4T58WU2eerLgslfk0Y2hWo6F4qWmMip9WoYpktZdqhKmX9KgHKX4pLS6di/FpPUPYE\n",
       "qBaa0o0WFx0LZCZCbb1ciyql3BNQTvqwXRSSfKpS5CxX9yMnstCN2luD7Pn0HaNb6ZS0YdVZLdec\n",
       "F3mEPi3XboDeBZXM9ig+BpR1Ls47Y8QKE0DkGdBb1Y1jJ5FijFXXPwBapPjTVquCNoGK1Sgxf6yW\n",
       "O3U+njCoaVsI3erNGjZLWuSKD8zJsVN60FGENDuglUGrtTwt11LcBIqEyTbJ9VuBSlUzdK90qoRu\n",
       "D0DwkxV066F6pVNyoRM/A4rFxQ4ddrlm3eL+AFS4PVtOScX7gJJqwkK6Rkn2hechGE4WlxQ38vgI\n",
       "SkXH+3Vmnwd1Pyx9FdB6wqK/5xynC3YrFubXnpy3tYSFy/ecYejYfivQSsJiNer/7AWAdgLKZlY2\n",
       "NS6vQqgBgH4jUHn2bgsBoF/qQ//WBkABKAAFoAAUgAJQAPqjMPf8n3TzDBSAtgMV7N6jkpN+u4tG\n",
       "0lRH98/wW4VLANq+Q9HNE9L1fhsQOJyQsqFYz9ETwrEBoM1Ax5tFunq/Emh6zBze3o7HUFuFMw5A\n",
       "W03uTCnidwZU+xVA8zGuoAv1lHCjAWgjUKr4QG/4rJN+BVCUHtf7Q6OWPSVcSwDaCNQfcvUHfO10\n",
       "vZNSPwfO1oGOCQJz7hNPTwnHEwBtBOrfK5BoEFhd63zpd7FD04O0IDqeMW0WLgBoK1D/KkD4ywUP\n",
       "dJ76ke2Ru0Lx/tCyfxlSkUykWTiY3GagTtXx+H/UOTcnH0s/a3fn74qgaLSEU7EcuFIV4TXBdeGU\n",
       "AtDWKFcuJ7ajzsPfGQkvcJQfuuhHzFnaYtFEkQtWg+Rw0nInvCa9LnyyALQ1D00tWcVawlBeQ/ii\n",
       "UuRfa+XkWBvIJlffEs4/7kK/HqigY3zRo/YyweaaGq6A2hkt8IqTtFl4TXpNuOEA9Okdmm7k8hrV\n",
       "u3DlsJVYfj+rRoXcEv4n/F/vv+Rpi5a7KuuVFN4qnA8A9E1Af0/7PqChISB3bCrq5rt+NCehYcBX\n",
       "2ZyxfWby/wGxZGGLGIMu0gAAAABJRU5ErkJggg==\n",
       "\" style=\"display:inline;vertical-align:middle;\" /></a>"
      ],
      "text/plain": [
       "〈varphi| . alpha . [Sum_{b_{1}, ..b_{_a}.., b_{j} | Q(b_{1}, ..b_{_a}.., b_{j})} f(b_{1}, ..b_{_a}.., b_{j})] . beta . |psi〉 . gamma . 〈varphi| . delta"
      ]
     },
     "execution_count": 48,
     "metadata": {},
     "output_type": "execute_result"
    }
   ],
   "source": [
    "qmult4"
   ]
  },
  {
   "cell_type": "code",
   "execution_count": 49,
   "metadata": {},
   "outputs": [
    {
     "data": {
      "text/html": [
       "<span style=\"font-size:20px;\"><a class=\"ProveItLink\" href=\"../__pv_it/demonstrations/f902dee330625b7efb8591cb50d4ff3a2f40e3640/expr.ipynb\"><img src=\"data:image/png;base64,iVBORw0KGgoAAAANSUhEUgAAADIAAAAQBAMAAACmdTG/AAAAMFBMVEX///8QEBDMzMyYmJiqqqqI\n",
       "iIju7u5UVFS6urp2dnZEREQiIiIyMjJmZmbc3NwAAAAJMjmHAAAAAXRSTlMAQObYZgAAAAlwSFlz\n",
       "AAAOxAAADsQBlSsOGwAAAN1JREFUGNNjYGB4e3odAwrgm7Xn6KMJQMYEjjJUmVnCDLnfLwAZaDoY\n",
       "eCOA6q1AMuFoMrpcCQwM7CCZfAeISNTu3QdA9DIukF0BQILrG1iiJwyqZ8FbKIPlyi+wg47BXFag\n",
       "CWXZMNQDzWXgeQDlM01ohir5x+CvAJKB++ZCK4TBvoBBHySjuBsIFoDteQmR4Tdg0AfRWXBXg90G\n",
       "crMC0CYg4IbL9IL8w9DAwK/AcATEZw1ACQPWBQycASwFYIEjcE1zTiaknAXSUyMh/PQVCfCwlt/7\n",
       "ADm8OldDQgcKAL1EOEzTZhtzAAAAAElFTkSuQmCC\n",
       "\" style=\"display:inline;vertical-align:middle;\" /></a>, <a class=\"ProveItLink\" href=\"../__pv_it/demonstrations/b09e8dca9af82b0479dfd557865bdcf8040994640/expr.ipynb\"><img src=\"data:image/png;base64,iVBORw0KGgoAAAANSUhEUgAAAYEAAAAZBAMAAAAlNY+NAAAAMFBMVEX///+IiIgiIiIQEBB2dnbu\n",
       "7u5UVFTMzMzc3NwyMjK6urpmZmaYmJiqqqpEREQAAACk/Np2AAAAAXRSTlMAQObYZgAAAAlwSFlz\n",
       "AAAOxAAADsQBlSsOGwAABRNJREFUWMO9WG1oHEUYfu5jb+/29i6XtFYhVMJBwA+UEpSG2sCpRBA/\n",
       "2KB/RMhdpVoxIgkpggp6UhssQnP+aGk11aOtBX9o7yDWKo3dolbSSj2CCjVK04aA0D+teNiKgu/M\n",
       "7M7t3t5eEnQduJnZd2d232fe5/3YAwJsqTKCbdGAn4/5//6Rag74tHG1ECwApdSYF1e8K+534+w3\n",
       "nRVgLZIm9BNj60KnR4FTwSJIm3Iaqq14l5bxiN64tP+m7TizGf30pMy9gH7IjBRCBSBsANwOPweC\n",
       "YIcYpgeB76Es9rRfPdxnTdZ72L5oKidH4kM9qNPVg4RwZxc6ykkiFEPxOVuzLxAE0+L92wY4nxKV\n",
       "ZZa/a40Jo+lG9TCd+mXEMtoGhoBZdgvGESa7KoTpRUa9YBziT95Hflpi1EXHckT62xr1JqhqZYn6\n",
       "EURGk7lRhHIn6GojbsakSpMpgThaCwKAWufDUXpBxBrb8r9uz+62fOdS9lbuTgY74NcxifBHo8yT\n",
       "a4hfISucY7H0C0JMx5MIxAQhQfz76PehNbaN7dJPpgSity3I6bgwyhGEHubRdBu0AhF/4gYSrqFf\n",
       "XzZ7VyAIYjyYnu4bER6xt3Om7fLElm6LCg/wfpdtswmmtV9jlqX8sLSsNi5qptoF91AjmArvuipO\n",
       "Vblu5Nsmhfwe5RpRj2azcEWX7Zrpv+s1SgoTiBegvteCxw6Z5erRajdpcQYvtXB9WybBJgo8Qf1B\n",
       "3R0Eu46OjDLrr8sFg4ENk0Zz/Fqmw7daZAjZJsvMUaLUb21xd2szAm0f4v1QCoi1sKstO2wLwhxL\n",
       "6gp1m4BkCfncWJe/Lp9B+d06V35+xO7sncIP2rAoT7qnMgkenrxtYzOCOe78yTIFNu9qWybDubAB\n",
       "d9BNPB0crVnH65MONCueHuIliTSziEV+NmBvLVFxoV5d5wl2TtmCJMR3CNMpdT7tZaQlk6FZIEiz\n",
       "/gClAxMnjXYI/kKyjqEZ2CySoUnj+UDz8QPmW4/sIf/rDXlSplO2IIPL/dgFdBndnmfZspS9KcY3\n",
       "RRiJLxKCsrJZKOfNC4rIf4+ZqJyn2Tku7HTlZMpgvrEIO+iU0hm9FG8KSUyGWLGBIMJ024uPmUaz\n",
       "2N2kCZPhWTos2+ahDdLMFB9jZrrCESjXYXX5kmOC53EZivEQ01iYUKbZ6P5B5bxPTfIl15TeESkn\n",
       "Cy/3NhGbZC4bsONUr+FHxutj6sEmBCRz1+wiyV5g3UFStWoTJMs23m67Op+wNz/J0wHLZrcIw7zw\n",
       "gaxNF3877sO9Y/akw4jU0ISAyfSzDgTpimaETbwKqhEHeGHrbEz2bcXBIua/1ivCtuczBCkvjX6Q\n",
       "M0oJccsDtEdFVdG2TcnIZxD5CMHjUHJ2x2RvPuH05P6vb6Qd5Mm9+gJHIJfTQLL4zhIr4B21aapw\n",
       "wFWszbX+NJThUiXmJc1VfETJYkqt5jiC8Zraj/Ei62pc9pUzmk5cfMYoIl3EK2vFx4Vcrg5wmU47\n",
       "0jLzjtOiJZGYfrXo8D5xfMirhwTN6v3dq6hc9ILrkrGoUaWK2XOunIwjigktZ5nNuTwlwg/ll+FG\n",
       "jqtB7xZ4hh2v8R6x3iiOzJXUOI0WdhUqY/fUHBy1Zj1uBJNPkZh7lbpmxklpwWQiGAZbfSfHV8aM\n",
       "d8hsenEVCE61OQ0+C/1ScSNI3MaIbHiXcw3Xz5Oo/C/+q6h+srr1y3+apaZb/tXg960yn7Oy0//2\n",
       "fxFp8g+V80ZssWnemAAAAABJRU5ErkJggg==\n",
       "\" style=\"display:inline;vertical-align:middle;\" /></a>, <a class=\"ProveItLink\" href=\"../../../../logic/sets/cartesian_products/__pv_it/theorems/84ee59aeed12e78631ff41732d618eeba4d5229f0/expr.ipynb\"><img src=\"data:image/png;base64,iVBORw0KGgoAAAANSUhEUgAAAEYAAAATBAMAAADfQ2bzAAAAMFBMVEX///8iIiIyMjJmZmYQEBCq\n",
       "qqqYmJju7u5ERETMzMyIiIjc3NxUVFR2dna6uroAAACULOzSAAAAAXRSTlMAQObYZgAAAAlwSFlz\n",
       "AAAOxAAADsQBlSsOGwAAARJJREFUKM9jYCAADBgIgwZK1LDLd6gz8Pr74TWHI+ANA0N9AV41PNK8\n",
       "CQwsDMwdHR4dbbjURDBoMzBidw9Xo6AQWM22BZtwqOHTKoCas+Ek1wW4Gr47u2+d4rzVB5baVACz\n",
       "awMHQx9cDS9HF0N9HkMIWEob7p4NnAaFhbBwnsfSwLD/AkM+WEoBoYYhlbUFxiuof8AQX8BwAsTm\n",
       "dBQUFJSAquEpOAJ3ZzwDgxEDgxc4eBuQzGE/UAhXc4iBQZaB7zc7iC2ApIZhFgdcjS8D+z8GHoWt\n",
       "IPYqeFxMAIbVDBiP+ycD2wcGpgsXQBymAKgoI4hhBA82AQYuAwZWqw1gB514DhbklPcAkkXY44nv\n",
       "BiQuUAAA7zs7hIz3bAEAAAAASUVORK5CYII=\n",
       "\" style=\"display:inline;vertical-align:middle;\" /></a>, <a class=\"ProveItLink\" href=\"../../../../numbers/number_sets/natural_numbers/__pv_it/theorems/d0faa5018b5696ae3900dfa3ef431459c4f039010/expr.ipynb\"><img src=\"data:image/png;base64,iVBORw0KGgoAAAANSUhEUgAAAEEAAAATBAMAAAA9n32KAAAAMFBMVEX///9mZmYiIiIyMjKqqqqY\n",
       "mJgQEBDMzMzu7u5ERESIiIjc3NxUVFR2dna6uroAAABonEzTAAAAAXRSTlMAQObYZgAAAAlwSFlz\n",
       "AAAOxAAADsQBlSsOGwAAAPlJREFUKM9jYMAHGBkIAU6yVTT9nNzAcO3bAzxmTOE7wMDxA58thzZc\n",
       "ZWBIYJCcOW3mzACsKo5MYN7AoIDNjJVKSgYg+nQUtwFWFY9XQBmneQrWIlTw3dl96xRYnNsCpvQ0\n",
       "wwTOB3AVvJyzGPo3gFjMGxAqCjk0FGBhWsc2gWF/AVgFA0IFq4NnAozX0P+AIR7MKlMCggkQFQwn\n",
       "eOAqGPwZGE6CGZ1IZjD0cCjAuYcZGL5ygBhMyCrYF0yAc3MZWD7wghhcC2BC04F4OVwF93cGXoNo\n",
       "MNMEJqYC8oYBjMenwMA91QHM7JnXAKaLvgH1cxhgi4+3k5QwxQHHgj1ZIOxujgAAAABJRU5ErkJg\n",
       "gg==\n",
       "\" style=\"display:inline;vertical-align:middle;\" /></a>, <a class=\"ProveItLink\" href=\"../__pv_it/demonstrations/75026a9828ef6056c2238d450cff6cac44f507110/expr.ipynb\"><img src=\"data:image/png;base64,iVBORw0KGgoAAAANSUhEUgAAAD8AAAAWBAMAAACF0lkSAAAAMFBMVEX///9UVFS6urp2dnYiIiKq\n",
       "qqrc3NyYmJgQEBBmZmYyMjKIiIju7u5ERETMzMwAAAC4hZuzAAAAAXRSTlMAQObYZgAAAAlwSFlz\n",
       "AAAOxAAADsQBlSsOGwAAAPhJREFUKM9jYMADOBkIAF4yFRz5e+sAg8UPBYQCvjuoKq4yCTDw/EEy\n",
       "gXsBqgKRBHMGhgaGuXdv3L1bgM0O0QtcCQwOmG7gvuLiBWaIVbMtwKKAafUBKEuM8cFmZAWn94Kp\n",
       "LJg8gxjDBV4FJAUTOMAuWcaAUPCSx8cBHpLsCfwBIHoBkgL2gNgGJNvjQYbztbi4uPhCFTDIMCIr\n",
       "mAIieC4gmcBwkMcBSYEzmHRAVsC3AaGege0TmNoNF7gHxPuQFLB/AFNcATABV5AHkIKfEaKYR1YH\n",
       "wn/yAyjAg6SAYwM0KG2hQY0KGAPqD+BNNe8DXPEnK86dCnjlAb2POKMKMbyjAAAAAElFTkSuQmCC\n",
       "\" style=\"display:inline;vertical-align:middle;\" /></a>, <a class=\"ProveItLink\" href=\"../__pv_it/demonstrations/847ecb4d628b91a053c2379114751af7d89ba9560/expr.ipynb\"><img src=\"data:image/png;base64,iVBORw0KGgoAAAANSUhEUgAAADYAAAAQBAMAAACvnpHFAAAAMFBMVEX///9UVFSYmJgyMjJERESq\n",
       "qqoQEBDu7u66uroiIiLc3NzMzMxmZmaIiIh2dnYAAADysKFQAAAAAXRSTlMAQObYZgAAAAlwSFlz\n",
       "AAAOxAAADsQBlSsOGwAAANRJREFUGNNjYMAGuJ5Mtl39AKsUw5MkhpqPB7BK8dwA6lHBLreHpYCB\n",
       "gRFV7srMmQYg2p0FZOcFZKnm61CGwxqY0Ls7GyCOM4e5UmAflLWygT2LKwDIYF4AFeF+0ARl5TEw\n",
       "+PAWgOTgvjvQC3XvdwaGw3wg1raZQOAAtm8dRI4NyHv2HMQqgTsK7E4gqAd68z3IOgZOuFwPyH8M\n",
       "DQz8CkB9YBHeCyjhwuvAwCPAwPSeGyxkCtf42K6g1AbkvUsKPG/BIoUeBfB4yJ+zADUc+zwhYQYF\n",
       "AH6TOAHoygR1AAAAAElFTkSuQmCC\n",
       "\" style=\"display:inline;vertical-align:middle;\" /></a>, <a class=\"ProveItLink\" href=\"../__pv_it/demonstrations/932f704789037247f30ad02e6c8f267e6cfb2e4c0/expr.ipynb\"><img src=\"data:image/png;base64,iVBORw0KGgoAAAANSUhEUgAAAFAAAAAVBAMAAAAjqnRBAAAAMFBMVEX///9UVFREREQiIiKYmJgQ\n",
       "EBAyMjJmZmaqqqru7u7MzMyIiIi6urp2dnbc3NwAAAC+adfGAAAAAXRSTlMAQObYZgAAAAlwSFlz\n",
       "AAAOxAAADsQBlSsOGwAAAX5JREFUKM+Fkz9IAzEUxj/bq+1dvHq7CAVdBJFCQdfaza2Dk4vdVMRy\n",
       "qKNDN0EUThcFlzoUBxHOOkhFpIPVQcTQQRw6nC5WQdTRzSRNz2uQ+iCEl/zy/nxJ4EGagb9NWz06\n",
       "IZNFNNoLoaKKxOvji29Uq6UjFrEkSICYrYL1aex+2a+n6K9GqQRNNpIKF72gQMbGAEoIFyS4z8aj\n",
       "Ah6GHKDHxgzK+DAkuMHGswTKqVSOzyMhXqcb/2QxM6YEWRL0tgS4rsgDiRcx9VnI46nCQP3MBSU5\n",
       "xKhodaHds3XcUUkDZiyrp8m37Ka3LaxBrxSwGU1qHrLAmgB9Fe1bBXQiLlOHqXjA/VKKWULU+K6A\n",
       "uPdM6C6wxf0df0d03QGuoAmTaZbnftjfueE6ohoAlzGFTVaUSEjcjpshiQBY86jGDpoFsTDvh3xY\n",
       "cvbmgqmNweHL36Tbo47/emYnvCAIQ8Ralyt3Q60rVIyDRMQYQ1dryEcGPfc/SES76e7guf8VunM/\n",
       "h/FjgTPyFT0AAAAASUVORK5CYII=\n",
       "\" style=\"display:inline;vertical-align:middle;\" /></a>, <a class=\"ProveItLink\" href=\"../__pv_it/demonstrations/9776b868029321ad4d7f2b3c1f048f5554e92b8f0/expr.ipynb\"><img src=\"data:image/png;base64,iVBORw0KGgoAAAANSUhEUgAAADQAAAAUBAMAAAAw+gPuAAAAMFBMVEX///8yMjJmZmaIiIjMzMzc\n",
       "3Nx2dnZUVFQQEBCYmJi6urru7u5EREQiIiKqqqoAAAAmNEGZAAAAAXRSTlMAQObYZgAAAAlwSFlz\n",
       "AAAOxAAADsQBlSsOGwAAAM9JREFUKM9jYMACWHMuCockYJNhyOlk2PRdAZsMkxVQxxysUk48GxgY\n",
       "2FGkbO7eFQDRp3lA9hkgySy0hjIOBEEZb/9sYFgNUiYNc1+BG4TB2Z5bwAByKGMAVIolYSWEEcPA\n",
       "cITlAUgK7iuFxRAG0ILNbCCGx10gOAC2KwxuP1swiNwD54NdCJXKBpG8cP4ikL8YFoClwL5jNkAJ\n",
       "DWaw2UwOYBE5uLZEsQ37hMAsdojA9lMb4CHffykAWYph2VlIQCEBZwacwAq3VAFuqQDswgBkzi1X\n",
       "2dcTkQAAAABJRU5ErkJggg==\n",
       "\" style=\"display:inline;vertical-align:middle;\" /></a>, <a class=\"ProveItLink\" href=\"../__pv_it/demonstrations/bbf5d33edced3682aab59724695062ca64acb82c0/expr.ipynb\"><img src=\"data:image/png;base64,iVBORw0KGgoAAAANSUhEUgAAAEwAAAAVBAMAAAAeOBUnAAAAMFBMVEX///8QEBAiIiKqqqpUVFSY\n",
       "mJhmZmbu7u5EREQyMjLMzMyIiIi6urp2dnbc3NwAAADC3l7hAAAAAXRSTlMAQObYZgAAAAlwSFlz\n",
       "AAAOxAAADsQBlSsOGwAAAWNJREFUKM9jeMAABVwM2AFr6uptDAx3YFyOBegK+G5ozn51gfVgAOMD\n",
       "hDLmBHRlN0QZyr4kPN/EwF+AUMaggKaKbc8FBoaIBAZvhoNIljJcRlO2jKOAgYElgUGKIZcLSdkL\n",
       "KL1DSWkCiG7nALlvA98HBh0rJGWcEE+f3A7lNzwDUzwODHsDQMpWAeV+FDAwXwB7bzrMnw5rkVwA\n",
       "VJbAwDX1yAWoHzhhAcl14SiKMuYFDCwMDA4MDDlgZfBQSziNooyXgSEcZCTDEhB/oRIQNIDd9hZd\n",
       "2QYG9g0MDLYgfgVcBuxThDI2Bh6gtcAwmgfiM8FljoHCjeEAXFkAGwO7F9AxYKu4N6DEAncD3Kcz\n",
       "dy5NAmriNQALTIYbd3NuQfE0RICw6n+6gLCupKcAnkLk1R4glDGkgllmUJGzTZDIQgEgZVJgVh8D\n",
       "HgBUxvUBxGCfQEAZNziWuAPwKdsFdCo4eXPgUwUATsteKZUtyh8AAAAASUVORK5CYII=\n",
       "\" style=\"display:inline;vertical-align:middle;\" /></a>, <a class=\"ProveItLink\" href=\"../__pv_it/demonstrations/6634837ef11982c7c926a933fc6129de5c4761670/expr.ipynb\"><img src=\"data:image/png;base64,iVBORw0KGgoAAAANSUhEUgAAADUAAAATBAMAAADCPVhoAAAAMFBMVEX///8QEBAyMjJERETMzMy6\n",
       "uroiIiKqqqpUVFSYmJju7u5mZmaIiIh2dnbc3NwAAABKcBCOAAAAAXRSTlMAQObYZgAAAAlwSFlz\n",
       "AAAOxAAADsQBlSsOGwAAAPFJREFUKM9jYMAG3popnfOFsE7vQpXiNZzAtb8bxOKbwDADVW5PLAMD\n",
       "pzWItYaBoQxFimWDFZAE6zvAwNABETyclqYApJgXGADJNxA51iywVNApiBJmvg1QE1j9LJQWgO3V\n",
       "goq8YLkAcxTDTDcHEIPpAVTEl3UCXI6BUwEsB3PLa9YDUBbQmawfQAzHNCAwANsHMzOEgYFHAMRY\n",
       "DNMHcScIANUwN4AYbDA5VrD/WIEYaJcj2BU8B5DDheEwAwNXJwNrKkRIHR6eSre4ioB+ZHc/cwcq\n",
       "tMJ0ASweDL/tg3gBDmLNwGGGiA8G3GANHrkQ3FIAu+U0diYjhn8AAAAASUVORK5CYII=\n",
       "\" style=\"display:inline;vertical-align:middle;\" /></a> <a class=\"ProveItLink\" href=\"../__pv_it/demonstrations/321ad27810e96b783fe04ca2795b04f8088402510/proof.ipynb\" style=\"text-decoration: none\">&nbsp;&#x22A2;&nbsp;&nbsp;</a><a class=\"ProveItLink\" href=\"../__pv_it/demonstrations/1d40fe8e30310795be4abf510523f69587e0bcd10/expr.ipynb\"><img src=\"data:image/png;base64,iVBORw0KGgoAAAANSUhEUgAAA+QAAABMBAMAAAAW1GA8AAAAMFBMVEX////c3Nx2dnZERESIiIgi\n",
       "IiLMzMyYmJju7u4QEBCqqqpUVFRmZma6uroyMjIAAADVePneAAAAAXRSTlMAQObYZgAAAAlwSFlz\n",
       "AAAOxAAADsQBlSsOGwAADWBJREFUeNrtnQ+MHFUdx3/7d2Z3Z/dWKiKNpqtpE8Ife0TEM5CwkqJC\n",
       "q11MwFMht0bUFJVbQVwQaEfahDQgd1X5Y6W5lVgiWuxaDNSo3ALlT6jYVamBkHBrEFsRetdrS6/X\n",
       "9sb3b/7d7szNm7llZ517CdfZN29m3/f7eTPv9968WQBwehtsUlxRlCr4JcVQbTwcfqrcFSrblQYU\n",
       "ZYJsSLZa45Plct03lRbK5VEPh4erXaGyXalcvoUif1i2RX7QZ/Ve5+Xg+7pFZbsuGYJcvA+Cg3ws\n",
       "u4AcINUIEPJU7wJygMF6gJCHpheQAxyAACGHjy0gh+TJQCEfzC8gzxQChTwyvIDcotn/vyJPTi8g\n",
       "H5UDhRxmAo9cPATBQj5aDDpyYTpgyMdyQUcemQoY8p7hoCMfKgQMeeSdoCNflwsY8uhk0JGP1gOG\n",
       "PD4TdOQjEDDkoAQceehI4JCP14ONPHkocMj35IONXJoMHPJ11WAjz0wHDvngcLCRJ94JHPKhiWAj\n",
       "75maD+Tjip4O+x15z0GXKjMGlUq+a5EvmZgP5NuVIvlX/ODKkWN+Rx476VJlUmG3xB+89HtluGuR\n",
       "by/MB/KUop1GGKj4HHnmqNsb+6g+or1xumuRr27MS18+cFzblHp9jjw16VZlzPBCy9Ndi3y5Ckhb\n",
       "3511Y8agUtK2n+SrRMh50Wxr5FqN41anNn2HdNwt8rii3yCkLFe1Le21znTiFof0kIp8lLXbkHZt\n",
       "nuPGjKiilxL4kF/mvOhLrZFrNY4UzTsWqRthMuH2gTfOJR8OuY7YVys6nJLTWkcrdvaqJRymdN6t\n",
       "dHokQn5Rje2peEIOFx1xcZd56gwUE+Vg/T32xbT91BodeWjpn2WtxlF0rpr5wDPNunPpneTDjGvk\n",
       "EaXAr/JBW3uxBw+C+ImCQw/UK+SUVc9zSr+MIR9nRWPgDflGpcbtRfixzQB3o4235iio7d9vRn4a\n",
       "CFWtxmH03yzfCmbd57KGc8Q1cnHkBLdKsWFnL/YAl8jUHHqQkWlrL8EtnNLJkRh5ju7Z5hF5WuEP\n",
       "YROP9AE8hzbmOlTbf6sJuZiHZEGr8QZj26aDqppZ90rW8bhHDmMK93hEKtnZiz3AJXoqDj0Qaqra\n",
       "rZzSyZEI+QBDfr5H5LD8mMxrxhg+Ao1v03NMB+n7E7IRObqfpfSr/CFjDzarf6O6h6itwjH3yMPK\n",
       "/dwN29Ze7EFC9cKRB7QCqGP+A6/0+xnyvH738YQ8ozR4zViGpaCjwnP0Y/r+TGkW8r16X47bbsYU\n",
       "+t4NZt1smV9ScY8cxmd4Vb5ma+8yVmIZOPVgH0Oe7ueVvo8iH6GBZxT983X05Ydkepbw0mc5zRBH\n",
       "Jjm9uOWeP6LbHqpu5nerbG9r+n7yiwAa8n8semI/dVFclYdctIFjQYR0oA/SuCl8GlW+COnxPqo7\n",
       "+cIh78g3KjneGNXOXuIBLvHfFS+AMw/OIhf9Vy44IDdLh63oG162kn4WRc7G0zi8qEF836s5UqfQ\n",
       "1bAxu5jPDHXS1Xk6zK7bof2i7XfQ/XjkKTSMyHPC966kyMPJYbEUnaJRy807vkwCGvxBArjuth1U\n",
       "91r2lkaaIZeuIKnKpVKbdHWc9tnae5iWEGfkoawzD9bSgK38tWKzdOFny6rkmm8pfS1DTtvOq0hM\n",
       "EVIAVVKnRA4itc/wIZd4u7kQNi+Gvn+7jJTfYd0vkP0QQxJJtKYjZ/rPgcVSQcjisOBFMgSOFK/F\n",
       "aKukl6siWVh36CBsL9IJFdn9VQ57eGOWL9nZSzxAJZJT0JMX14IDD7ayGJ00f7N03KGfH69YSd9K\n",
       "kZepgBfJWW7CbRHXaY8MUoPdwcSbHGob4HyGlsRPdBKoRn8BcTK+wrpDx/sZmAkyNNMCdhijyOVE\n",
       "PozrDt9EN1EZ7cF1l+q4VQhICtGd6oVBglwst+qXnKqM8T5D22JnL/EAlZAaMJS75hJw4MEgi9HT\n",
       "E03SATWjDWFL6YN0cKfQhWCfJnXKYxtxnX6MPv5I5mz/SzinKUhEgpG/BelpegFbDUnTbIiSHjZc\n",
       "5Wmk4lIWEY1lw6QJPEh3fSjPOtAcjvE2EN09JeqWx6s8xDvntMXOXuLBFjIsH6vQC3guD14hYQyS\n",
       "N9xSevi9ltJfMd3Y78b3fuRhisQXuEGFp3nNuDTL50UE96IZ9P1HQZqyQ072b8DhjenGjpvzBQz5\n",
       "M7AYwsjEf9JdH5ZZmFzD5uwkuoeKtBtAyD305RDdxIn8TTt7iQdvEijo0rdBrnuwlfVpkWpL6eEz\n",
       "LKWzG/sIRR7JglSSQHyMxv1H0aHDnMjTvHFNAl+KEfTnJGwsEZpicyHMjuyv/QZXuNeAPIPqtokh\n",
       "fxrdNR/Rp7LPBjbl9BxSfmeRNvUicV8P39xd5WO8Qep5dvYSD1CJnjr+kSbMpNkDkqN7cAP+iJCu\n",
       "ybaUHq5ZSr+BjctpxI5D/AOf+8YzdVqn3QDXTxT5zBjknZdaUmTDrsfhQnoBDzVw7Ap0Q/+E94sy\n",
       "xijlDcjvLMHeOkP+SjYn1PWp7GfVye3Mv/5969V0cBrOJ6vekce5JxnPsrOXeIBKpEqRGkVu8kA3\n",
       "Q/dgF24Fj0P66tbSpaKl9F0m5DiqFwaO5NjoPry0DE/l+cblP+H1YjvxH33xXXjIiZHH8OzCVThG\n",
       "qql/rpDZfjrYyRqQP/SLi/Pq7EZ8x8c/aZjKrmojzxuVz6vzEUsvBu/IN+Z5Ze61s3c7KyHuUu/Z\n",
       "Zg+uUnN0Dy7HTejaFUstpKespV/O5thL+pOX5zzNvnE/VtlN/l6pxu+4m/5lc1ivhVq4Gqca59hz\n",
       "xgmteMX4pIAixw2fzHCzKSj1lB4mXOd8AtQixC/a2LtbKwFqN93sgZ6DKhkqsDDGQnrKUjo5Ej88\n",
       "Za0WT9He6wX5RzmdSFbf1J+UqMibZ7Y0cfFh1bWWyKOy+sAIl6WicPeWKDYh9zLHHuFf8kOeZrS2\n",
       "l3kg1IzImz3IGT0gIMOW0uEaS+nkSIycnS8j00GvW+RSvy7EWePva6iBI6njR06QMczstEGLlKtq\n",
       "iLJOH5brusPGJwVRJnM/G8WakXt4eArP6OM7x6HLuZb2qh4wXKeM74IWHug52INFJleapMNnLaWT\n",
       "I/GqGNbChDxECx6Q36yP0L7vrPGvokeIhuumxXqakvGJSkQ2IE8XTU1dfVKg39wAvgtwSTNyD0sk\n",
       "BH2EJjhGvt7SXtWD9WDngZ6DPehjw3IL6axPayW9jyHfoy7g64UQ9fBTbswwjNCSnMt9T3NU6u01\n",
       "6M93wHhj15JW44jaa+mf30cvD+PISnK/EMowQnvY+cRyyc5erYQzD4SsvXR1NVyzdHokXuE6Z+fk\n",
       "yIwlWpsX93DHcU7Srue1Tc8rXE+4VWn4NdC7TsC7ngweuE54HXtjPpDrI7TFo9wP1HiTV+SRw26R\n",
       "ayO00K+5H6j5JCHkg8PzgTwzc4CkLyqKcgR8jrzlm5eOkI9TlW+MIJmFrkU+NC8vKO0xvKx11O/I\n",
       "W7556USlZHwnrdS1yHsOzgfydzV5fvN0qhtUtg957GTgkAf9/fLU0cAhX9cINvLoicAhX54LNvL4\n",
       "TOCQX1QJNnJQAod8QA448oHsPCCXTJ9+blc032nk4rF3QWXUz8iXl5wgv67FvKwhT53hPXvFk+is\n",
       "9fjrLU7zeivfOoA8ebyNKrXiNR8jH6s6QZ5qEfIY8pgZr2Xh9CzcCbCjxXlYXjrXYeSp6XaqVIv/\n",
       "zcfIE8NOkNPH7eZkyKNm4FUOUi9etH1vi/Ooefs7jDwx0U6VavGM7F/k0jtOkA+u2Nk8paHnUTPw\n",
       "2j10ygLED69sUqzlndlh5IPVNqrUiocr/kWennSC/BJ5VdMOQx414wksdTjUgGh/tKkv0/K2dRj5\n",
       "6kobVWrFkzX/IoefOkF+HqyFRbPaNM6D3xrMeADf0KrpXojkhUaoz1wa50EKDQ/+3mHk/2mnSq14\n",
       "utfHyFfXHSDfArvje2eZsYWtUdXMwA/NB7PJKiTqUvXb/bM6uTr736R/tbPI45PtVKkVj/sZeU/V\n",
       "AfIp2AyxWWbgvHLNYMaF8DJ8AYvtkRMVmGUGzhNu7fyNPTXVTpVacV/f2MNTDpD3C73YDDEHt2t/\n",
       "UF7o/Q2DGaeftuG6El6mH5NvAGyGXvx2kvce/OMGKzqLfKg6p0pdI6dKQ/Fo3sfIxUkHyL91MWAz\n",
       "4pthTTa+Cf/ZTPKEnMGM0KMrd4bwEt34rhwxQy++pkLyrgd9wXWHkK/OzqkSUG2Jxk2cKg3FI1kf\n",
       "I4fV8tzIccJm6GvU6VaqbpqXSlfv0GYh+sFYnIbJfzIvYu4E8gccqNTXqHOq1IuvBz8jT+QcIY9f\n",
       "+oLxXRm6FTPNS0HoeL/6U5fXPFAxFGfvGRWAvBfbQeTRKQcq9bei+FQaip/ha+TJg86ucpxK5q3L\n",
       "tpnNgDfqJrlacbL8PvorFNPcBh1FPlRyoFJwqVIvLtR9jRwedY58VtrGbhDmH5MVLUon8U8fyZ1F\n",
       "/mjbVZLiIvgbeazkFnlHkhfk6fu7RWV7kcdtf8oprihK1TdVjqHaeDm83hUq25UGFIU9VPqrXTGx\n",
       "XC77p2cSUG08HP7D7lDZroRElv4HBjxGbb4xpjsAAAAASUVORK5CYII=\n",
       "\" style=\"display:inline;vertical-align:middle;\" /></a></span>"
      ],
      "text/plain": [
       "{delta in Complex, forall_{b_{1}, ..b_{_a}.., b_{j} | Q(b_{1}, ..b_{_a}.., b_{j})} (f(b_{1}, ..b_{_a}.., b_{j}) in Complex^{n x m}), m in NaturalPos, n in NaturalPos, j in NaturalPos, alpha in Complex, |psi〉 in Complex^{m}, gamma in Complex, |varphi〉 in Complex^{n}, beta in Complex} |- (〈varphi| . alpha . [Sum_{b_{1}, ..b_{_a}.., b_{j} | Q(b_{1}, ..b_{_a}.., b_{j})} f(b_{1}, ..b_{_a}.., b_{j})] . beta . |psi〉 . gamma . 〈varphi| . delta) = [Sum_{b_{1}, ..b_{_a}.., b_{j} | Q(b_{1}, ..b_{_a}.., b_{j})} (〈varphi| . alpha . f(b_{1}, ..b_{_a}.., b_{j}) . beta . |psi〉 . gamma . 〈varphi| . delta)]"
      ]
     },
     "execution_count": 49,
     "metadata": {},
     "output_type": "execute_result"
    }
   ],
   "source": [
    "qmult4.distribution(2)"
   ]
  },
  {
   "cell_type": "code",
   "execution_count": 50,
   "metadata": {},
   "outputs": [
    {
     "data": {
      "text/html": [
       "<a class=\"ProveItLink\" href=\"../__pv_it/demonstrations/328c77a7d503ebe78dc3c37ef5d18fbf6b35c0a70/expr.ipynb\"><img src=\"data:image/png;base64,iVBORw0KGgoAAAANSUhEUgAAALwAAAAVBAMAAAAOdJm+AAAAMFBMVEX///9UVFSYmJgyMjJERESq\n",
       "qqoQEBDu7u66uroiIiLc3NzMzMxmZmaIiIh2dnYAAADysKFQAAAAAXRSTlMAQObYZgAAAAlwSFlz\n",
       "AAAOxAAADsQBlSsOGwAAAypJREFUOMt9lU1oE1EQgKdp0t1udvOjnvSy/oAilYb25kEjHgQtZA8i\n",
       "FER7EMSKEuw5GBW89JJTNVYwSC8eLFaooB5M60ELFkpr8WClEbT10l8j2oqtM/PeS/andMK8nWTe\n",
       "fjs7b2YCsK0Y+FHybCu3S0rKiEqPEdie8v0wDbG8ss8E8dPuLz+UEcZA9AmhHmlcFtfBmXd8jVQU\n",
       "HneeD9DRDVammjy524OPlOWTp337Lwq8YcNeNnpA4RHUHMD30BLHN2513HgoUKRZoW4ZWedLDqCT\n",
       "jVGF1zD6mCN36bY0Rml5gy6zy4P/jhoqC3VJbPCvykSSjS6Fj2A6jbR6eZVTgsIsZXrVgx+g5bLU\n",
       "ujy1fkm8fo/DTCl8jJajPrzOhZChbG548I1URG1SF2dUyZUjq3zbqxPtnDWzwvjcOOKnAC748OQG\n",
       "qNIdKwL/GuBONctHDl+FPslr3QanVXeiGyLUfS/5iY024yvn4AbMZmtnq/Dkhug/XCwZfRmibbcq\n",
       "4mz3C70O0GGJYMFYkZkI8Xs3O4Q3nDE4DE3oz3vx5AaLjqvhD+PxhBoAEgDvQRRHJ5i/Ad5yauHj\n",
       "h5GqLBydK7QpT3gNrmFdmhhogmIoFvuuFIsJ6YYw7YyLykHMQXoFGKKKYm3CepibV8W3RkYvxtRV\n",
       "x4O+jvic6CJ39IyPUz212go/wRg6pbusN/GeJUfkBqBPtlA4wcnl5IBZwLOZlwXhzr0jy167JLrW\n",
       "BB3TkxU1JpITxwfP8e7bqMfJwLy/YFJ4QuDToWwkL8vZhSc3l31PSuJtE7Q9skMOsJoJCC3xjKN8\n",
       "ZBCr7QD9vmizhEhOdwwOyWZ048lNAekP1Uhrn3o+lpf9PS50cdI2FxCa+ZmFs5vH8O7hLwuybwqi\n",
       "rYa+HSnJUeJpK/xh52ZyV0dJ4UOP1uh8uIIfSPVLrG72y64drg1Cz1DoB/9A5inEs9UoCN0O3yLx\n",
       "nzjVJf9Iawngr7J1mgrFFhqQXN1EIuMrtfHrkdoDFT7K7aKl5Fgb2OoPsLduammB52xMBnZqaR/e\n",
       "4mxYFPQpqdvKY7Bqf7Hprdwu+YzJ5s1hGvcl1v9OxuOPZBAZLgAAAABJRU5ErkJggg==\n",
       "\" style=\"display:inline;vertical-align:middle;\" /></a>"
      ],
      "text/plain": [
       "alpha . A . beta . (|psi〉 + (D . |varphi〉))"
      ]
     },
     "execution_count": 50,
     "metadata": {},
     "output_type": "execute_result"
    }
   ],
   "source": [
    "qmult5"
   ]
  },
  {
   "cell_type": "code",
   "execution_count": 51,
   "metadata": {},
   "outputs": [
    {
     "data": {
      "text/html": [
       "<span style=\"font-size:20px;\"><a class=\"ProveItLink\" href=\"../__pv_it/demonstrations/7018668c2225e47ce49c7829a3cfaa7e336348c90/expr.ipynb\"><img src=\"data:image/png;base64,iVBORw0KGgoAAAANSUhEUgAAAGAAAAASBAMAAABWXMbBAAAAMFBMVEX///8iIiLu7u52dna6uroQ\n",
       "EBBmZmbMzMyqqqqYmJjc3NwyMjJUVFRERESIiIgAAABmmfmVAAAAAXRSTlMAQObYZgAAAAlwSFlz\n",
       "AAAOxAAADsQBlSsOGwAAAXtJREFUKM9jYCAGsBswMKQTo5Azs+4N35wCBobHDGwTQLxnOJVy2Urv\n",
       "W27A6TqB9QDfAQYGvgd2QO1A3gKg3Nv/d87uWYCmwTaSQe1PwqKHDPwObED3MFg/YGAA8RRAkr+B\n",
       "mn+gqmd7AlQ1N4HhHEMpA2MDSMMEIHGOwRXso39AIhVVQxkv0CieBIZwhrcM69mBTjLIBIqGMyQD\n",
       "2Qx834GE/wSwQr6LgtIg+hIvyB8PuD4ATZ3LDPZ0AwOQJ9IOFOf9ACTWgxzKwLJPAWLDhWVgiuUA\n",
       "wy6GNY/AwXocxHsMMpf/AsiGAyAFq6HquQ4U4wnsemAAMLwH27ALHlGeeDS8B0YMw3kHEHMDLBYS\n",
       "/PBouA8ivoINDhQUFJQF+2ExHg1/QWngJ4jFdAEmBg4lXAkLFA2qEKUCMEE3UDwwOGDVAIoGpt0Q\n",
       "9juUmOa7gFUDNzAaHBOg7AaYqPVmBY1tWNXz7P9z5m4WlMN01gmeWuPFFhCRAVhsIUkDNwAAk1xh\n",
       "S3w/Lp8AAAAASUVORK5CYII=\n",
       "\" style=\"display:inline;vertical-align:middle;\" /></a>, <a class=\"ProveItLink\" href=\"../../../../logic/sets/cartesian_products/__pv_it/theorems/84ee59aeed12e78631ff41732d618eeba4d5229f0/expr.ipynb\"><img src=\"data:image/png;base64,iVBORw0KGgoAAAANSUhEUgAAAEYAAAATBAMAAADfQ2bzAAAAMFBMVEX///8iIiIyMjJmZmYQEBCq\n",
       "qqqYmJju7u5ERETMzMyIiIjc3NxUVFR2dna6uroAAACULOzSAAAAAXRSTlMAQObYZgAAAAlwSFlz\n",
       "AAAOxAAADsQBlSsOGwAAARJJREFUKM9jYCAADBgIgwZK1LDLd6gz8Pr74TWHI+ANA0N9AV41PNK8\n",
       "CQwsDMwdHR4dbbjURDBoMzBidw9Xo6AQWM22BZtwqOHTKoCas+Ek1wW4Gr47u2+d4rzVB5baVACz\n",
       "awMHQx9cDS9HF0N9HkMIWEob7p4NnAaFhbBwnsfSwLD/AkM+WEoBoYYhlbUFxiuof8AQX8BwAsTm\n",
       "dBQUFJSAquEpOAJ3ZzwDgxEDgxc4eBuQzGE/UAhXc4iBQZaB7zc7iC2ApIZhFgdcjS8D+z8GHoWt\n",
       "IPYqeFxMAIbVDBiP+ycD2wcGpgsXQBymAKgoI4hhBA82AQYuAwZWqw1gB514DhbklPcAkkXY44nv\n",
       "BiQuUAAA7zs7hIz3bAEAAAAASUVORK5CYII=\n",
       "\" style=\"display:inline;vertical-align:middle;\" /></a>, <a class=\"ProveItLink\" href=\"../../../../numbers/number_sets/natural_numbers/__pv_it/theorems/d0faa5018b5696ae3900dfa3ef431459c4f039010/expr.ipynb\"><img src=\"data:image/png;base64,iVBORw0KGgoAAAANSUhEUgAAAEEAAAATBAMAAAA9n32KAAAAMFBMVEX///9mZmYiIiIyMjKqqqqY\n",
       "mJgQEBDMzMzu7u5ERESIiIjc3NxUVFR2dna6uroAAABonEzTAAAAAXRSTlMAQObYZgAAAAlwSFlz\n",
       "AAAOxAAADsQBlSsOGwAAAPlJREFUKM9jYMAHGBkIAU6yVTT9nNzAcO3bAzxmTOE7wMDxA58thzZc\n",
       "ZWBIYJCcOW3mzACsKo5MYN7AoIDNjJVKSgYg+nQUtwFWFY9XQBmneQrWIlTw3dl96xRYnNsCpvQ0\n",
       "wwTOB3AVvJyzGPo3gFjMGxAqCjk0FGBhWsc2gWF/AVgFA0IFq4NnAozX0P+AIR7MKlMCggkQFQwn\n",
       "eOAqGPwZGE6CGZ1IZjD0cCjAuYcZGL5ygBhMyCrYF0yAc3MZWD7wghhcC2BC04F4OVwF93cGXoNo\n",
       "MNMEJqYC8oYBjMenwMA91QHM7JnXAKaLvgH1cxhgi4+3k5QwxQHHgj1ZIOxujgAAAABJRU5ErkJg\n",
       "gg==\n",
       "\" style=\"display:inline;vertical-align:middle;\" /></a>, <a class=\"ProveItLink\" href=\"../__pv_it/demonstrations/847ecb4d628b91a053c2379114751af7d89ba9560/expr.ipynb\"><img src=\"data:image/png;base64,iVBORw0KGgoAAAANSUhEUgAAADYAAAAQBAMAAACvnpHFAAAAMFBMVEX///9UVFSYmJgyMjJERESq\n",
       "qqoQEBDu7u66uroiIiLc3NzMzMxmZmaIiIh2dnYAAADysKFQAAAAAXRSTlMAQObYZgAAAAlwSFlz\n",
       "AAAOxAAADsQBlSsOGwAAANRJREFUGNNjYMAGuJ5Mtl39AKsUw5MkhpqPB7BK8dwA6lHBLreHpYCB\n",
       "gRFV7srMmQYg2p0FZOcFZKnm61CGwxqY0Ls7GyCOM4e5UmAflLWygT2LKwDIYF4AFeF+0ARl5TEw\n",
       "+PAWgOTgvjvQC3XvdwaGw3wg1raZQOAAtm8dRI4NyHv2HMQqgTsK7E4gqAd68z3IOgZOuFwPyH8M\n",
       "DQz8CkB9YBHeCyjhwuvAwCPAwPSeGyxkCtf42K6g1AbkvUsKPG/BIoUeBfB4yJ+zADUc+zwhYQYF\n",
       "AH6TOAHoygR1AAAAAElFTkSuQmCC\n",
       "\" style=\"display:inline;vertical-align:middle;\" /></a>, <a class=\"ProveItLink\" href=\"../__pv_it/demonstrations/932f704789037247f30ad02e6c8f267e6cfb2e4c0/expr.ipynb\"><img src=\"data:image/png;base64,iVBORw0KGgoAAAANSUhEUgAAAFAAAAAVBAMAAAAjqnRBAAAAMFBMVEX///9UVFREREQiIiKYmJgQ\n",
       "EBAyMjJmZmaqqqru7u7MzMyIiIi6urp2dnbc3NwAAAC+adfGAAAAAXRSTlMAQObYZgAAAAlwSFlz\n",
       "AAAOxAAADsQBlSsOGwAAAX5JREFUKM+Fkz9IAzEUxj/bq+1dvHq7CAVdBJFCQdfaza2Dk4vdVMRy\n",
       "qKNDN0EUThcFlzoUBxHOOkhFpIPVQcTQQRw6nC5WQdTRzSRNz2uQ+iCEl/zy/nxJ4EGagb9NWz06\n",
       "IZNFNNoLoaKKxOvji29Uq6UjFrEkSICYrYL1aex+2a+n6K9GqQRNNpIKF72gQMbGAEoIFyS4z8aj\n",
       "Ah6GHKDHxgzK+DAkuMHGswTKqVSOzyMhXqcb/2QxM6YEWRL0tgS4rsgDiRcx9VnI46nCQP3MBSU5\n",
       "xKhodaHds3XcUUkDZiyrp8m37Ka3LaxBrxSwGU1qHrLAmgB9Fe1bBXQiLlOHqXjA/VKKWULU+K6A\n",
       "uPdM6C6wxf0df0d03QGuoAmTaZbnftjfueE6ohoAlzGFTVaUSEjcjpshiQBY86jGDpoFsTDvh3xY\n",
       "cvbmgqmNweHL36Tbo47/emYnvCAIQ8Ralyt3Q60rVIyDRMQYQ1dryEcGPfc/SES76e7guf8VunM/\n",
       "h/FjgTPyFT0AAAAASUVORK5CYII=\n",
       "\" style=\"display:inline;vertical-align:middle;\" /></a>, <a class=\"ProveItLink\" href=\"../__pv_it/demonstrations/bbf5d33edced3682aab59724695062ca64acb82c0/expr.ipynb\"><img src=\"data:image/png;base64,iVBORw0KGgoAAAANSUhEUgAAAEwAAAAVBAMAAAAeOBUnAAAAMFBMVEX///8QEBAiIiKqqqpUVFSY\n",
       "mJhmZmbu7u5EREQyMjLMzMyIiIi6urp2dnbc3NwAAADC3l7hAAAAAXRSTlMAQObYZgAAAAlwSFlz\n",
       "AAAOxAAADsQBlSsOGwAAAWNJREFUKM9jeMAABVwM2AFr6uptDAx3YFyOBegK+G5ozn51gfVgAOMD\n",
       "hDLmBHRlN0QZyr4kPN/EwF+AUMaggKaKbc8FBoaIBAZvhoNIljJcRlO2jKOAgYElgUGKIZcLSdkL\n",
       "KL1DSWkCiG7nALlvA98HBh0rJGWcEE+f3A7lNzwDUzwODHsDQMpWAeV+FDAwXwB7bzrMnw5rkVwA\n",
       "VJbAwDX1yAWoHzhhAcl14SiKMuYFDCwMDA4MDDlgZfBQSziNooyXgSEcZCTDEhB/oRIQNIDd9hZd\n",
       "2QYG9g0MDLYgfgVcBuxThDI2Bh6gtcAwmgfiM8FljoHCjeEAXFkAGwO7F9AxYKu4N6DEAncD3Kcz\n",
       "dy5NAmriNQALTIYbd3NuQfE0RICw6n+6gLCupKcAnkLk1R4glDGkgllmUJGzTZDIQgEgZVJgVh8D\n",
       "HgBUxvUBxGCfQEAZNziWuAPwKdsFdCo4eXPgUwUATsteKZUtyh8AAAAASUVORK5CYII=\n",
       "\" style=\"display:inline;vertical-align:middle;\" /></a>, <a class=\"ProveItLink\" href=\"../__pv_it/demonstrations/6634837ef11982c7c926a933fc6129de5c4761670/expr.ipynb\"><img src=\"data:image/png;base64,iVBORw0KGgoAAAANSUhEUgAAADUAAAATBAMAAADCPVhoAAAAMFBMVEX///8QEBAyMjJERETMzMy6\n",
       "uroiIiKqqqpUVFSYmJju7u5mZmaIiIh2dnbc3NwAAABKcBCOAAAAAXRSTlMAQObYZgAAAAlwSFlz\n",
       "AAAOxAAADsQBlSsOGwAAAPFJREFUKM9jYMAG3popnfOFsE7vQpXiNZzAtb8bxOKbwDADVW5PLAMD\n",
       "pzWItYaBoQxFimWDFZAE6zvAwNABETyclqYApJgXGADJNxA51iywVNApiBJmvg1QE1j9LJQWgO3V\n",
       "goq8YLkAcxTDTDcHEIPpAVTEl3UCXI6BUwEsB3PLa9YDUBbQmawfQAzHNCAwANsHMzOEgYFHAMRY\n",
       "DNMHcScIANUwN4AYbDA5VrD/WIEYaJcj2BU8B5DDheEwAwNXJwNrKkRIHR6eSre4ioB+ZHc/cwcq\n",
       "tMJ0ASweDL/tg3gBDmLNwGGGiA8G3GANHrkQ3FIAu+U0diYjhn8AAAAASUVORK5CYII=\n",
       "\" style=\"display:inline;vertical-align:middle;\" /></a>, <a class=\"ProveItLink\" href=\"../__pv_it/demonstrations/a0aa0488271b81ec08bef69d663496a5009a7f650/expr.ipynb\"><img src=\"data:image/png;base64,iVBORw0KGgoAAAANSUhEUgAAAF0AAAASBAMAAADLUc9JAAAAMFBMVEX///8QEBAiIiLu7u5ERES6\n",
       "urqYmJiIiIjMzMx2dnZUVFRmZmaqqqoyMjLc3NwAAABb1yYoAAAAAXRSTlMAQObYZgAAAAlwSFlz\n",
       "AAAOxAAADsQBlSsOGwAAAXlJREFUKM9jYCAIOhkYuBsYiAFs29qrGRjYJzBsY2DIzihfULYCKvEW\n",
       "XSXfFN3rLyawBSYwPmBgKOcsYGBIFWOQYqiCSt9HVz9FjMH614bHRQz8BgwMnNeBBpgrMHxl2AmR\n",
       "5fmPppy7dAIDQ8oGhuUMgUAe5zUgwVXAIcCgA5Ve/wBVfTcL0FiuDQwSDDs5GBgquRMYGBgb2B34\n",
       "PkD8PW8+1P/sTkq6INqZBeSHAr4PDKonQP7dw8DwHmgDm8MEsOcK6g+AlbNeN4Doc3gN4S9gqEwA\n",
       "hSdXA0MUA+8DvuVgeW6G8wmQYIIq51vQiS+YYxj6wfYw3IMKcEwIw6d+A8P7BWDGBVjobwjHo5zd\n",
       "e/d6B7CxQkpKSipg97/Eo96cgYFfAcRgdoAJgcMHt3MYmATALAWYUDQo/BkCsCpnBYYN7wcwsxwl\n",
       "ftkdsKp/CMQs/8BM3gMwwbk3DWxuY1Vu8v8yA4//X3CAMi8JhqdPee0HhBM86xRIesANAEA9Vo0y\n",
       "TAlvAAAAAElFTkSuQmCC\n",
       "\" style=\"display:inline;vertical-align:middle;\" /></a> <a class=\"ProveItLink\" href=\"../__pv_it/demonstrations/a0ed5ac471e80c2b71eeabdbdb70d02429b8fffa0/proof.ipynb\" style=\"text-decoration: none\">&nbsp;&#x22A2;&nbsp;&nbsp;</a><a class=\"ProveItLink\" href=\"../__pv_it/demonstrations/061219a5f2571681ca862ff39ca10bdb6a5008e10/expr.ipynb\"><img src=\"data:image/png;base64,iVBORw0KGgoAAAANSUhEUgAAAfgAAAAVBAMAAABYq+GkAAAAMFBMVEX////MzMxUVFREREQiIiK6\n",
       "uroQEBCYmJhmZmYyMjLu7u52dnaqqqqIiIjc3NwAAACFAiZ1AAAAAXRSTlMAQObYZgAAAAlwSFlz\n",
       "AAAOxAAADsQBlSsOGwAABWZJREFUWMOdWF1oXEUUPpvNzd7du3cTi+hLsWt8kCLYtS9GwWYjWxER\n",
       "3UgoFISuVF8shlWRRkUbNSXVUty30iK6WFDyELwo7UN1zRZUBCndvthUo1mIGMSA1SjiX+M587N3\n",
       "5s7kenHCubnZ2e/7zpk5c2YmANCF2FbAH9mGbN1K61GlRE8h+g0FVYhTNZjiZOF/u+W3NdQPUZol\n",
       "8Kry/TZTZUn947R8SeMwOZ3QbKgliBE2mOJkrV4ncusLHfWW+P3j4mvsdz6QweOXPzecwG7wR9eH\n",
       "77hVU8lPKxEuWVFkFuFC60izx+QrTAbB5uDEbuUaOuuGoKnDU+xlDmTwyNdvhDFHj0HkONRWVaCM\n",
       "lm2GZqLmwCq8Cplij8lTmEzZTcGJ3XLrGo27gy+QeYBP2MusDD6HM+/JJeJI1Cw9tmGXW9NUPkLL\n",
       "TIemt1mJNIRRJV/uMc0rTKbspuDEbg3oNB8vDMkcH2YvNRl8HjsKJTnUchUSNyzTUvpdU1mhx+OK\n",
       "aa0mkYYwJnpfOPPnVCZDdlNwYrf26kWys9wWwTv3sbFuyOApBeHNSPAOWzSjhPxLU8nSVBxXTG2E\n",
       "chpWYfR/IlzzgcpkyG4KTuzWUfrsw0WxiblwgWWWc8POE4zGDVjw88cw+MthdZReuKzwrBPiF65y\n",
       "DcDe9SavSO8rpmVpIJGG8PjK9pO8RuUWOxD4jZApKuu1XgI7OLFbNATfVXOTBTZ2D8O2gE/zwWuZ\n",
       "W9k6Cz74DN6F5Wav4kkvqBtS/9CoiyGehtTxhwJeWp5VDGYq1O6WKIY0hYPMk2M8eC9fy9X9P0Om\n",
       "iGxhN7zTXQMbOLFb9+PzAMCIzyZ6Gn4qihzPsNTpb1PwhfYMvEjlwa3qXlA3+D/jo+83poKVoQ8A\n",
       "OQ4DL5nS1EYohjSFAxHoaVhzy5kuLd7DIYMqOxBAevorsIETu/UYRoTD+ypb0v7IkR0lUWadK/Qy\n",
       "UKXgc/AEMrs4miTiVir3PFqpFEU3pOmbg7ysIs1z5A1soXKrmNoIRWYK05ayjwffHOh4GlNE9nXc\n",
       "qRqBFZzYLQx+AJFnzoqYB9leMY6UtTB4cK5i8PPh4UJOAVMZJOVDdanSYV5QddijmC14U9jBtfal\n",
       "OJfs63oaU0R2Pzp2oGkFJ3brDYD3MKKFNs8f6K+JBEqzTMqytAe3jEvzrKiW6uJri/00t5+77JIL\n",
       "fU2+L2hpr675NjdTmNJgpwh+BtbAU5h02RwuZu9vsIITu3UXDhGOzhl5hsiybMf1fh2LM93hwZcy\n",
       "zXxV7JOKF9TN9tO5hlCpu5C7UZwInlZMbYQiM4WzuLImRfCvYKZ+qjBFZHED92p2cGK3sOa7Rcgs\n",
       "0IXne8JdpdVzMzi7+QGzyNN+0oNnxAlJ9YK66WDt3CtvECcuXz9TFWfBY4qpjZEWbcJv12GiKpj2\n",
       "dIOMyhSRfRng+StDVnBityZot71Ud1sApzZOQn70D7p0bP2mJY4TZX7I2fLBC11xNtZOG/jB9o3h\n",
       "m0a6UiXz4K9UF9ie+IBi2iGnzM0UPnf+645kSt1y+7cqU0TWax2Eox0rOLFb/ZY7Oj/N8TYmTnhb\n",
       "e7ci7Zw5ZlxE+bGb7n+Fcmh6GzOQogUqU6qtMsXIRsGJ3TJvHXrwUyJ4tqOmu9GLzZSh8gh720V7\n",
       "Uz00vU0ZSFvw/AQgmWJkzeCTurXLQjOvFKcuDz6w3CTV4eglKyuY7KK8opiJSlv+g5TrqP56GlOM\n",
       "bBSc3K1TluDHFcoSD54xXzIVSxEVn2WoT1N0p2ImSkeKmR3SZl5jipGNgpO7VajH/zdsFfwea8nW\n",
       "rbSLSMe+nKZ7czc0G2o1TvVibw7ByrAK/+V1Arf+Be+TPZI1WwS9AAAAAElFTkSuQmCC\n",
       "\" style=\"display:inline;vertical-align:middle;\" /></a></span>"
      ],
      "text/plain": [
       "{D in Complex^{m x n}, m in NaturalPos, n in NaturalPos, alpha in Complex, |psi〉 in Complex^{m}, |varphi〉 in Complex^{n}, beta in Complex, A in Complex^{n x m}} |- (alpha . A . beta . (|psi〉 + (D . |varphi〉))) = ((alpha . A . beta . |psi〉) + (alpha . A . beta . (D . |varphi〉)))"
      ]
     },
     "execution_count": 51,
     "metadata": {},
     "output_type": "execute_result"
    }
   ],
   "source": [
    "qmult5.distribution(3)"
   ]
  },
  {
   "cell_type": "code",
   "execution_count": 52,
   "metadata": {},
   "outputs": [
    {
     "data": {
      "text/html": [
       "<a class=\"ProveItLink\" href=\"../__pv_it/demonstrations/ab7d4b1fedd002e27f4b63daf98678662eadd63e0/expr.ipynb\"><img src=\"data:image/png;base64,iVBORw0KGgoAAAANSUhEUgAAAL4AAAAVBAMAAAAKgUmDAAAAMFBMVEX///9UVFSYmJgyMjJERESq\n",
       "qqoQEBDu7u66uroiIiLc3NzMzMxmZmaIiIh2dnYAAADysKFQAAAAAXRSTlMAQObYZgAAAAlwSFlz\n",
       "AAAOxAAADsQBlSsOGwAAAvhJREFUOMuFVU1IVFEU/ubp+MZ5PzrZpoKaSmipaBG0MYsKRNFl0Q9D\n",
       "SIVBCLWVrEAIF02LqImgWeSiTUxBQbVQKigXxVC0KcVxkbVRxxL6VTvn3vtu782bsQPfzJn73fne\n",
       "Oeeeex7wH8sq+H8LswjxsttXoUPm9Eho++I51Tkgli/dvwrtdC8m9q6X/r2Jl9I5ptC40p7YntMC\n",
       "DhAdo+/3FfXL0HXNQJOINZ7EZrFkNksAvUDktxZwCWlCVX8l/TL0KKVjp9gbAA6JJTspgfgSpftH\n",
       "C9AGfCIYY+q/F0P6AVrYFJfsK3v0oIRYqlGAQbEbS1rgMOEOOyfVf4+G9AO0sG6Oc1nqx66LpUsK\n",
       "iBQp2z4tUODkuVdaKuprem4iJ1cWCbEF/njS3ior90YBNbthrpPna07kUXCaEeWHTIf1n1JIi/2a\n",
       "vjto9sX5VC1O31kWp7flsXxmixfiaNdkQ1IKuNGUmXS+yxPcGtYfg9VyoaDpM0Cnw9E63B6RH7I7\n",
       "DNE0uKaAqSyix6XAiJ02sqA+eAWvDfz60RwiQL1H2xTIc1fciCL3aEp2R6wotp9SwH7CvKxPf03e\n",
       "5Shxn/NicjyTOZHJXFXpAdt8NBUWM59F+5OHJi7CMCWTCurzsTTlZQGuZF2YeXnvhkLxu9we/+jz\n",
       "VKn5Hq/9zV7VHdX1YvsOBYvbdtOg1B/HCFyq6K6y9bERowppuo4CntHtf1aUnT4eyUHVpeD8omd8\n",
       "Uwf4ggpwkFqZ820M6ydtmBs0bdfDmOdhhzaq+i0xFNYgdkNun1aoonIN7VT6Q9mCQam4nPXrcP+0\n",
       "vnsw7qPn3ibtWXIbVhJrO0XU0YeTs2r7ZYlI20KiYZ8nYG3c84G8Wv55M6xv3P5ZKKUD5v5za3MS\n",
       "wQFmifM6wtc9Xeb+PkOIrqTPAyo4pFhAXBd0qPkXmm+nEaIDNuDzOxQC+q43uuUQK6GtYmVa2LDP\n",
       "P6cQjF+8Yji2A2X0nXRlOmT0phHQ9lG/ALl82dL9RMdzPvovci/jiIGJe+8AAAAASUVORK5CYII=\n",
       "\" style=\"display:inline;vertical-align:middle;\" /></a>"
      ],
      "text/plain": [
       "alpha . D . beta . ((B . |psi〉) + |varphi〉)"
      ]
     },
     "execution_count": 52,
     "metadata": {},
     "output_type": "execute_result"
    }
   ],
   "source": [
    "qmult6"
   ]
  },
  {
   "cell_type": "code",
   "execution_count": 53,
   "metadata": {},
   "outputs": [
    {
     "data": {
      "text/html": [
       "<span style=\"font-size:20px;\"><a class=\"ProveItLink\" href=\"../__pv_it/demonstrations/7018668c2225e47ce49c7829a3cfaa7e336348c90/expr.ipynb\"><img src=\"data:image/png;base64,iVBORw0KGgoAAAANSUhEUgAAAGAAAAASBAMAAABWXMbBAAAAMFBMVEX///8iIiLu7u52dna6uroQ\n",
       "EBBmZmbMzMyqqqqYmJjc3NwyMjJUVFRERESIiIgAAABmmfmVAAAAAXRSTlMAQObYZgAAAAlwSFlz\n",
       "AAAOxAAADsQBlSsOGwAAAXtJREFUKM9jYCAGsBswMKQTo5Azs+4N35wCBobHDGwTQLxnOJVy2Urv\n",
       "W27A6TqB9QDfAQYGvgd2QO1A3gKg3Nv/d87uWYCmwTaSQe1PwqKHDPwObED3MFg/YGAA8RRAkr+B\n",
       "mn+gqmd7AlQ1N4HhHEMpA2MDSMMEIHGOwRXso39AIhVVQxkv0CieBIZwhrcM69mBTjLIBIqGMyQD\n",
       "2Qx834GE/wSwQr6LgtIg+hIvyB8PuD4ATZ3LDPZ0AwOQJ9IOFOf9ACTWgxzKwLJPAWLDhWVgiuUA\n",
       "wy6GNY/AwXocxHsMMpf/AsiGAyAFq6HquQ4U4wnsemAAMLwH27ALHlGeeDS8B0YMw3kHEHMDLBYS\n",
       "/PBouA8ivoINDhQUFJQF+2ExHg1/QWngJ4jFdAEmBg4lXAkLFA2qEKUCMEE3UDwwOGDVAIoGpt0Q\n",
       "9juUmOa7gFUDNzAaHBOg7AaYqPVmBY1tWNXz7P9z5m4WlMN01gmeWuPFFhCRAVhsIUkDNwAAk1xh\n",
       "S3w/Lp8AAAAASUVORK5CYII=\n",
       "\" style=\"display:inline;vertical-align:middle;\" /></a>, <a class=\"ProveItLink\" href=\"../../../../logic/sets/cartesian_products/__pv_it/theorems/84ee59aeed12e78631ff41732d618eeba4d5229f0/expr.ipynb\"><img src=\"data:image/png;base64,iVBORw0KGgoAAAANSUhEUgAAAEYAAAATBAMAAADfQ2bzAAAAMFBMVEX///8iIiIyMjJmZmYQEBCq\n",
       "qqqYmJju7u5ERETMzMyIiIjc3NxUVFR2dna6uroAAACULOzSAAAAAXRSTlMAQObYZgAAAAlwSFlz\n",
       "AAAOxAAADsQBlSsOGwAAARJJREFUKM9jYCAADBgIgwZK1LDLd6gz8Pr74TWHI+ANA0N9AV41PNK8\n",
       "CQwsDMwdHR4dbbjURDBoMzBidw9Xo6AQWM22BZtwqOHTKoCas+Ek1wW4Gr47u2+d4rzVB5baVACz\n",
       "awMHQx9cDS9HF0N9HkMIWEob7p4NnAaFhbBwnsfSwLD/AkM+WEoBoYYhlbUFxiuof8AQX8BwAsTm\n",
       "dBQUFJSAquEpOAJ3ZzwDgxEDgxc4eBuQzGE/UAhXc4iBQZaB7zc7iC2ApIZhFgdcjS8D+z8GHoWt\n",
       "IPYqeFxMAIbVDBiP+ycD2wcGpgsXQBymAKgoI4hhBA82AQYuAwZWqw1gB514DhbklPcAkkXY44nv\n",
       "BiQuUAAA7zs7hIz3bAEAAAAASUVORK5CYII=\n",
       "\" style=\"display:inline;vertical-align:middle;\" /></a>, <a class=\"ProveItLink\" href=\"../../../../numbers/number_sets/natural_numbers/__pv_it/theorems/d0faa5018b5696ae3900dfa3ef431459c4f039010/expr.ipynb\"><img src=\"data:image/png;base64,iVBORw0KGgoAAAANSUhEUgAAAEEAAAATBAMAAAA9n32KAAAAMFBMVEX///9mZmYiIiIyMjKqqqqY\n",
       "mJgQEBDMzMzu7u5ERESIiIjc3NxUVFR2dna6uroAAABonEzTAAAAAXRSTlMAQObYZgAAAAlwSFlz\n",
       "AAAOxAAADsQBlSsOGwAAAPlJREFUKM9jYMAHGBkIAU6yVTT9nNzAcO3bAzxmTOE7wMDxA58thzZc\n",
       "ZWBIYJCcOW3mzACsKo5MYN7AoIDNjJVKSgYg+nQUtwFWFY9XQBmneQrWIlTw3dl96xRYnNsCpvQ0\n",
       "wwTOB3AVvJyzGPo3gFjMGxAqCjk0FGBhWsc2gWF/AVgFA0IFq4NnAozX0P+AIR7MKlMCggkQFQwn\n",
       "eOAqGPwZGE6CGZ1IZjD0cCjAuYcZGL5ygBhMyCrYF0yAc3MZWD7wghhcC2BC04F4OVwF93cGXoNo\n",
       "MNMEJqYC8oYBjMenwMA91QHM7JnXAKaLvgH1cxhgi4+3k5QwxQHHgj1ZIOxujgAAAABJRU5ErkJg\n",
       "gg==\n",
       "\" style=\"display:inline;vertical-align:middle;\" /></a>, <a class=\"ProveItLink\" href=\"../__pv_it/demonstrations/e60b8f70960d4af78300b3449124fd46a0aa91830/expr.ipynb\"><img src=\"data:image/png;base64,iVBORw0KGgoAAAANSUhEUgAAAF4AAAASBAMAAAAgZnRKAAAAMFBMVEX///92dnaqqqoiIiLu7u5m\n",
       "Zma6urqIiIjc3NwQEBDMzMwyMjJUVFRERESYmJgAAAAeMT9/AAAAAXRSTlMAQObYZgAAAAlwSFlz\n",
       "AAAOxAAADsQBlSsOGwAAAYlJREFUKM9jYCAIuAQYGKIYiAJPX5UHMDAUMrA+YOCLW17D/mYBLpWN\n",
       "l3dXLGR4No9hBgMDe4E4AwNf5gPOA+wHgFJv/985sxdNI+PNByzxRzncDRi+AHnSBQwMLcUM/Ams\n",
       "AiDJuQwMPL9Q1YcnAk28ysBTwDYBpP4BkDjOsJKBWQHI4PjOwMD2FdWLAVeA5FEGzgWsAgsY2AXi\n",
       "gLxZDLUM/VxABh/QbL7vYHXsl42tQTSvwwUg2c7Qz8CctADkXwUGjg9AG94yAoV5PjAwcM8AKWPb\n",
       "7gAxn5cjAEznMLDLgcPzFAPbAYYdDD0lQEHOCwwsh8H+7YYqZ+jhEsAdyOuvl59+AGbtgAktZHuA\n",
       "W319AwPTPDBrA0yola0At/qbQCwPcg/XZGNjY1uI+/G45w8QvweZx3IBJgQJHxzJ6R+QOJ8AYhrA\n",
       "xNjA4c+GVT37D6Ce32BmOUr8AuMHG+AGxnjmFghTAZ5+douwaAdgU86z/8+Z05cgbJazKfD0efNz\n",
       "BOH0ziYLSQ+4AQAkw2IMa9cJugAAAABJRU5ErkJggg==\n",
       "\" style=\"display:inline;vertical-align:middle;\" /></a>, <a class=\"ProveItLink\" href=\"../__pv_it/demonstrations/847ecb4d628b91a053c2379114751af7d89ba9560/expr.ipynb\"><img src=\"data:image/png;base64,iVBORw0KGgoAAAANSUhEUgAAADYAAAAQBAMAAACvnpHFAAAAMFBMVEX///9UVFSYmJgyMjJERESq\n",
       "qqoQEBDu7u66uroiIiLc3NzMzMxmZmaIiIh2dnYAAADysKFQAAAAAXRSTlMAQObYZgAAAAlwSFlz\n",
       "AAAOxAAADsQBlSsOGwAAANRJREFUGNNjYMAGuJ5Mtl39AKsUw5MkhpqPB7BK8dwA6lHBLreHpYCB\n",
       "gRFV7srMmQYg2p0FZOcFZKnm61CGwxqY0Ls7GyCOM4e5UmAflLWygT2LKwDIYF4AFeF+0ARl5TEw\n",
       "+PAWgOTgvjvQC3XvdwaGw3wg1raZQOAAtm8dRI4NyHv2HMQqgTsK7E4gqAd68z3IOgZOuFwPyH8M\n",
       "DQz8CkB9YBHeCyjhwuvAwCPAwPSeGyxkCtf42K6g1AbkvUsKPG/BIoUeBfB4yJ+zADUc+zwhYQYF\n",
       "AH6TOAHoygR1AAAAAElFTkSuQmCC\n",
       "\" style=\"display:inline;vertical-align:middle;\" /></a>, <a class=\"ProveItLink\" href=\"../__pv_it/demonstrations/932f704789037247f30ad02e6c8f267e6cfb2e4c0/expr.ipynb\"><img src=\"data:image/png;base64,iVBORw0KGgoAAAANSUhEUgAAAFAAAAAVBAMAAAAjqnRBAAAAMFBMVEX///9UVFREREQiIiKYmJgQ\n",
       "EBAyMjJmZmaqqqru7u7MzMyIiIi6urp2dnbc3NwAAAC+adfGAAAAAXRSTlMAQObYZgAAAAlwSFlz\n",
       "AAAOxAAADsQBlSsOGwAAAX5JREFUKM+Fkz9IAzEUxj/bq+1dvHq7CAVdBJFCQdfaza2Dk4vdVMRy\n",
       "qKNDN0EUThcFlzoUBxHOOkhFpIPVQcTQQRw6nC5WQdTRzSRNz2uQ+iCEl/zy/nxJ4EGagb9NWz06\n",
       "IZNFNNoLoaKKxOvji29Uq6UjFrEkSICYrYL1aex+2a+n6K9GqQRNNpIKF72gQMbGAEoIFyS4z8aj\n",
       "Ah6GHKDHxgzK+DAkuMHGswTKqVSOzyMhXqcb/2QxM6YEWRL0tgS4rsgDiRcx9VnI46nCQP3MBSU5\n",
       "xKhodaHds3XcUUkDZiyrp8m37Ka3LaxBrxSwGU1qHrLAmgB9Fe1bBXQiLlOHqXjA/VKKWULU+K6A\n",
       "uPdM6C6wxf0df0d03QGuoAmTaZbnftjfueE6ohoAlzGFTVaUSEjcjpshiQBY86jGDpoFsTDvh3xY\n",
       "cvbmgqmNweHL36Tbo47/emYnvCAIQ8Ralyt3Q60rVIyDRMQYQ1dryEcGPfc/SES76e7guf8VunM/\n",
       "h/FjgTPyFT0AAAAASUVORK5CYII=\n",
       "\" style=\"display:inline;vertical-align:middle;\" /></a>, <a class=\"ProveItLink\" href=\"../__pv_it/demonstrations/bbf5d33edced3682aab59724695062ca64acb82c0/expr.ipynb\"><img src=\"data:image/png;base64,iVBORw0KGgoAAAANSUhEUgAAAEwAAAAVBAMAAAAeOBUnAAAAMFBMVEX///8QEBAiIiKqqqpUVFSY\n",
       "mJhmZmbu7u5EREQyMjLMzMyIiIi6urp2dnbc3NwAAADC3l7hAAAAAXRSTlMAQObYZgAAAAlwSFlz\n",
       "AAAOxAAADsQBlSsOGwAAAWNJREFUKM9jeMAABVwM2AFr6uptDAx3YFyOBegK+G5ozn51gfVgAOMD\n",
       "hDLmBHRlN0QZyr4kPN/EwF+AUMaggKaKbc8FBoaIBAZvhoNIljJcRlO2jKOAgYElgUGKIZcLSdkL\n",
       "KL1DSWkCiG7nALlvA98HBh0rJGWcEE+f3A7lNzwDUzwODHsDQMpWAeV+FDAwXwB7bzrMnw5rkVwA\n",
       "VJbAwDX1yAWoHzhhAcl14SiKMuYFDCwMDA4MDDlgZfBQSziNooyXgSEcZCTDEhB/oRIQNIDd9hZd\n",
       "2QYG9g0MDLYgfgVcBuxThDI2Bh6gtcAwmgfiM8FljoHCjeEAXFkAGwO7F9AxYKu4N6DEAncD3Kcz\n",
       "dy5NAmriNQALTIYbd3NuQfE0RICw6n+6gLCupKcAnkLk1R4glDGkgllmUJGzTZDIQgEgZVJgVh8D\n",
       "HgBUxvUBxGCfQEAZNziWuAPwKdsFdCo4eXPgUwUATsteKZUtyh8AAAAASUVORK5CYII=\n",
       "\" style=\"display:inline;vertical-align:middle;\" /></a>, <a class=\"ProveItLink\" href=\"../__pv_it/demonstrations/6634837ef11982c7c926a933fc6129de5c4761670/expr.ipynb\"><img src=\"data:image/png;base64,iVBORw0KGgoAAAANSUhEUgAAADUAAAATBAMAAADCPVhoAAAAMFBMVEX///8QEBAyMjJERETMzMy6\n",
       "uroiIiKqqqpUVFSYmJju7u5mZmaIiIh2dnbc3NwAAABKcBCOAAAAAXRSTlMAQObYZgAAAAlwSFlz\n",
       "AAAOxAAADsQBlSsOGwAAAPFJREFUKM9jYMAG3popnfOFsE7vQpXiNZzAtb8bxOKbwDADVW5PLAMD\n",
       "pzWItYaBoQxFimWDFZAE6zvAwNABETyclqYApJgXGADJNxA51iywVNApiBJmvg1QE1j9LJQWgO3V\n",
       "goq8YLkAcxTDTDcHEIPpAVTEl3UCXI6BUwEsB3PLa9YDUBbQmawfQAzHNCAwANsHMzOEgYFHAMRY\n",
       "DNMHcScIANUwN4AYbDA5VrD/WIEYaJcj2BU8B5DDheEwAwNXJwNrKkRIHR6eSre4ioB+ZHc/cwcq\n",
       "tMJ0ASweDL/tg3gBDmLNwGGGiA8G3GANHrkQ3FIAu+U0diYjhn8AAAAASUVORK5CYII=\n",
       "\" style=\"display:inline;vertical-align:middle;\" /></a> <a class=\"ProveItLink\" href=\"../__pv_it/demonstrations/a2382a4f61a75630c0e219258552103354eeba9d0/proof.ipynb\" style=\"text-decoration: none\">&nbsp;&#x22A2;&nbsp;&nbsp;</a><a class=\"ProveItLink\" href=\"../__pv_it/demonstrations/4a40862f85b6f2e00598bbb922655c6c6bb4e26c0/expr.ipynb\"><img src=\"data:image/png;base64,iVBORw0KGgoAAAANSUhEUgAAAf0AAAAVBAMAAAC+girgAAAAMFBMVEX////MzMxUVFREREQiIiK6\n",
       "uroQEBCYmJhmZmYyMjLu7u52dnaqqqqIiIjc3NwAAACFAiZ1AAAAAXRSTlMAQObYZgAAAAlwSFlz\n",
       "AAAOxAAADsQBlSsOGwAABjFJREFUWMOVWF1oHFUUPrubzUx2dqdrEX0pJqaCBMFuI2gV26aSikjR\n",
       "rYRIHyQrtYoWw2iRpopN1GjVUg0WWlqKHVqo9CG4KO1DNXSFWoRSWBVsq40ZaKAPFkwbtdb+ec69\n",
       "Z+7OzJ3s0APf5mZy9pvvuz/n3hsA8CAhPAgn2apVhJivqwcpzrVjOOd6riXdEq2d6CPEIB4Uagkq\n",
       "KCGUZJX91mLEc9H8Q34jg92TrUtE4yyjaZy9VdrmjBqDkH4iaHX5bOfD98v2H6c/lo0TjA03uzu3\n",
       "Fxv+keCHuP5Tr8mPzGk0X5VQ8fPN7oWfyQGyJz50VZKBiroWN2gLzWgTGDVhJD03FmSYh78NC0O2\n",
       "A6+LR5Qgk9YCpC82/OPLWujn7rn8Qw+izZUIx0FGI66g12uidR6MDpUErSWARUVFazWjTWDUhaF0\n",
       "0wl+px0H1axQaxzgmHhECSLJvo6z5l/lP4epFnXVEH/3Wc3/twhjRCIcWxgqUkgOHzBvvkclwZ/4\n",
       "moERRTseQ5t1AqxNGHVhKL01pGuKVsZlnt2d4lErAwwce+O68p/HVLtEf+RhOKn5P0cfrzBCUWE0\n",
       "Vh5NrAFHzvB0h0qCYXzNcF3RfhdDm68HWJsw6sJQ+pqQruU0zlel/+yT4tEaBqRncNIMKv80E+Fz\n",
       "mkjOXP7baPntZAQjOybRiMwMjXVVqu1z/SSc+4gdnqKtxtD6/pMYdWEofSv9/s3povzDLNFcoo+7\n",
       "unfJcd3KoJWYu4fr3/g29H9G1kWrQ/N/G3bZrCvr0VeMYJhVCbAm3uHCQzNpgJhWn+varZJE0dm3\n",
       "QtLmTtehWhjTaH3/SYy6MJROfThdzg3aNX/NFK6K0d14u+wT1dHtSye7HN7/qsfhC5hyRQE0xjT/\n",
       "I5Da+UxV1plNDBjtpXgMeMoQ7JVwwLvgFx6YIllV47UV4CdBanbyp51Ma+UrOafwX4S24T+JUReG\n",
       "0ldhaz3AkoLrr5n033J2s69VDJjyIP+S9G/XRmEzVQUTlwJXq4B/LA1pAOz690FW0WOR8W+pSbRW\n",
       "ITPyq194YFFZzvBNKgkKNwCOO5L2gtljeLTII7S+/yRGXRhKX4cmsEs/stSamVeRdTY7I1jXMeBB\n",
       "xFE5/3PwKrKaODzIlZqRg/siD+4h6rw3qa9hPo0DIxitZYlPXTDHqn7hgX94WxlQSZBBMdZFSeu2\n",
       "1i2N1uztffyF3t4OSGbUhaH0dXKLPXxErZlh6u7V2PWVsH8qC6IS4/zP3kD/4/LEka1Ex9+i8kmv\n",
       "pfLQz4jzj4vbWu/6hcegjSeLPfxLw/+8Dt50aPYOeFYcrT/+SYy6MJS+B+BLNHG05q+Z3FqusxlZ\n",
       "1/YwUpf9+YT+zR6sF0dkIdXnv0nvTLtye1ATNbj+awI5rDTWNbVZHyjxttINfhK0O7wgyf8oXAAr\n",
       "ShtY/wmMujCUvhT7GN9xWG3/B8Wyx4875OFxKYNWYuoK1z+zZLj5stxIjZLm3zEhdzcfDzYwQntT\n",
       "XQK71Kr4m3VulzCBbxlUSVR0oH2M/b+Hs/d7ndb3n8SoC0PpuAuYHWAcpTsR7MUp8YQ4Mt0L2ZWS\n",
       "1d9o2pC2fzf7zw5a8AYfpMy6Vv93nblztMzHw22MYNCWSXgX4K0ZKiltWEP6xHFunwN9ZZUEO1DR\n",
       "yy7T9ntVI4bW95/EqAtD6X20/Z9yzAn82XWzc+ESMer5BZMTrLVPIr33UmfXo+r+N//rtz0+SLd4\n",
       "mn/j6b+oBonrwVOM0PmnR8Ka2Ahb65L8gU/kAe/kb/VGEirq3F7zaVP3PfR7DG0+8IVmjLowlN5S\n",
       "jLsqWoG9qgiRJHH+W6AuUtOgn//kSZyuh3aPRDhWMPSohpPC16pULY5WnX8TGHVh03F3k4h//QIj\n",
       "/Is9NuMFbh3B+8/zorUseH0KxVDg3jSn/yHNvzikaLTq/jOU7D8sbAu3tRgPtJdFk6yyz0oXTruk\n",
       "33/FkUDems/5141wAfS486KRq4eTwv6t5rQJjJowIX1/nP/Vgfb+aJLwL1hP0Utd3X9BzMwCjcsj\n",
       "jIiokoQW2WI4KTL+zWkTGDVhQrrtJP0XzokkFRQjvW9zNP9HTBcZGVo9nkQ0zjOaxvkILY/y3LTN\n",
       "GTVhKP1/JZhKi5l9zJsAAAAASUVORK5CYII=\n",
       "\" style=\"display:inline;vertical-align:middle;\" /></a></span>"
      ],
      "text/plain": [
       "{D in Complex^{m x n}, m in NaturalPos, n in NaturalPos, B in Complex^{n x m}, alpha in Complex, |psi〉 in Complex^{m}, |varphi〉 in Complex^{n}, beta in Complex} |- (alpha . D . beta . ((B . |psi〉) + |varphi〉)) = ((alpha . D . beta . (B . |psi〉)) + (alpha . D . beta . |varphi〉))"
      ]
     },
     "execution_count": 53,
     "metadata": {},
     "output_type": "execute_result"
    }
   ],
   "source": [
    "qmult6.distribution(3)"
   ]
  },
  {
   "cell_type": "markdown",
   "metadata": {},
   "source": [
    "### Simplification"
   ]
  },
  {
   "cell_type": "code",
   "execution_count": 54,
   "metadata": {},
   "outputs": [
    {
     "name": "stdout",
     "output_type": "stream",
     "text": [
      "Help on function simplification in module proveit._core_.expression.operation.operation:\n",
      "\n",
      "simplification(self, **defaults_config)\n",
      "    If possible, return a Judgment of this expression equal to a\n",
      "    simplified form (according to strategies specified in \n",
      "    proveit.defaults). \n",
      "    \n",
      "    This Operation.simplification version tries calling\n",
      "    simplifies the operands and then calls 'shallow_simplification'.\n",
      "    \n",
      "    Keyword arguments are accepted for temporarily changing any\n",
      "    of the attributes of proveit.defaults.\n",
      "    \n",
      "    'simplified' returns the right-hand side of 'simplification'.\n",
      "    'simplify', called on an InnerExpr of a Judgment,\n",
      "    substitutes the right-hand side of 'simplification' for\n",
      "    the inner expression.\n",
      "\n"
     ]
    }
   ],
   "source": [
    "help(Qmult.simplification)"
   ]
  },
  {
   "cell_type": "code",
   "execution_count": 55,
   "metadata": {},
   "outputs": [
    {
     "name": "stdout",
     "output_type": "stream",
     "text": [
      "Help on function shallow_simplification in module proveit.physics.quantum.algebra.qmult:\n",
      "\n",
      "shallow_simplification(self, *, must_evaluate=False, **defaults_config)\n",
      "    Returns a proven simplification equation for this Qmult\n",
      "    expression assuming the operands have been simplified.\n",
      "    \n",
      "    Currently deals only with:\n",
      "    (1) simplify unary case\n",
      "    (2) Ungrouping nested tensor products.\n",
      "    (3) Factoring out scalars.\n",
      "    \n",
      "    Keyword arguments are accepted for temporarily changing any\n",
      "    of the attributes of proveit.defaults.\n",
      "    \n",
      "    'shallow_simplified' returns the right-hand side of 'shallow_simplification'.\n",
      "    'shallow_simplify', called on an InnerExpr of a Judgment,\n",
      "    substitutes the right-hand side of 'shallow_simplification' for\n",
      "    the inner expression.\n",
      "\n"
     ]
    }
   ],
   "source": [
    "help(Qmult.shallow_simplification)"
   ]
  },
  {
   "cell_type": "code",
   "execution_count": 56,
   "metadata": {},
   "outputs": [],
   "source": [
    "Qmult.change_simplification_directives(ungroup=True, \n",
    "                                       factor_scalars=True)"
   ]
  },
  {
   "cell_type": "code",
   "execution_count": 57,
   "metadata": {},
   "outputs": [
    {
     "data": {
      "text/html": [
       "<span style=\"font-size:20px;\"><a class=\"ProveItLink\" href=\"../__pv_it/demonstrations/9776b868029321ad4d7f2b3c1f048f5554e92b8f0/expr.ipynb\"><img src=\"data:image/png;base64,iVBORw0KGgoAAAANSUhEUgAAADQAAAAUBAMAAAAw+gPuAAAAMFBMVEX///8yMjJmZmaIiIjMzMzc\n",
       "3Nx2dnZUVFQQEBCYmJi6urru7u5EREQiIiKqqqoAAAAmNEGZAAAAAXRSTlMAQObYZgAAAAlwSFlz\n",
       "AAAOxAAADsQBlSsOGwAAAM9JREFUKM9jYMACWHMuCockYJNhyOlk2PRdAZsMkxVQxxysUk48GxgY\n",
       "2FGkbO7eFQDRp3lA9hkgySy0hjIOBEEZb/9sYFgNUiYNc1+BG4TB2Z5bwAByKGMAVIolYSWEEcPA\n",
       "cITlAUgK7iuFxRAG0ILNbCCGx10gOAC2KwxuP1swiNwD54NdCJXKBpG8cP4ikL8YFoClwL5jNkAJ\n",
       "DWaw2UwOYBE5uLZEsQ37hMAsdojA9lMb4CHffykAWYph2VlIQCEBZwacwAq3VAFuqQDswgBkzi1X\n",
       "2dcTkQAAAABJRU5ErkJggg==\n",
       "\" style=\"display:inline;vertical-align:middle;\" /></a>, <a class=\"ProveItLink\" href=\"../../../../logic/sets/cartesian_products/__pv_it/theorems/84ee59aeed12e78631ff41732d618eeba4d5229f0/expr.ipynb\"><img src=\"data:image/png;base64,iVBORw0KGgoAAAANSUhEUgAAAEYAAAATBAMAAADfQ2bzAAAAMFBMVEX///8iIiIyMjJmZmYQEBCq\n",
       "qqqYmJju7u5ERETMzMyIiIjc3NxUVFR2dna6uroAAACULOzSAAAAAXRSTlMAQObYZgAAAAlwSFlz\n",
       "AAAOxAAADsQBlSsOGwAAARJJREFUKM9jYCAADBgIgwZK1LDLd6gz8Pr74TWHI+ANA0N9AV41PNK8\n",
       "CQwsDMwdHR4dbbjURDBoMzBidw9Xo6AQWM22BZtwqOHTKoCas+Ek1wW4Gr47u2+d4rzVB5baVACz\n",
       "awMHQx9cDS9HF0N9HkMIWEob7p4NnAaFhbBwnsfSwLD/AkM+WEoBoYYhlbUFxiuof8AQX8BwAsTm\n",
       "dBQUFJSAquEpOAJ3ZzwDgxEDgxc4eBuQzGE/UAhXc4iBQZaB7zc7iC2ApIZhFgdcjS8D+z8GHoWt\n",
       "IPYqeFxMAIbVDBiP+ycD2wcGpgsXQBymAKgoI4hhBA82AQYuAwZWqw1gB514DhbklPcAkkXY44nv\n",
       "BiQuUAAA7zs7hIz3bAEAAAAASUVORK5CYII=\n",
       "\" style=\"display:inline;vertical-align:middle;\" /></a>, <a class=\"ProveItLink\" href=\"../../../../numbers/number_sets/natural_numbers/__pv_it/theorems/d0faa5018b5696ae3900dfa3ef431459c4f039010/expr.ipynb\"><img src=\"data:image/png;base64,iVBORw0KGgoAAAANSUhEUgAAAEEAAAATBAMAAAA9n32KAAAAMFBMVEX///9mZmYiIiIyMjKqqqqY\n",
       "mJgQEBDMzMzu7u5ERESIiIjc3NxUVFR2dna6uroAAABonEzTAAAAAXRSTlMAQObYZgAAAAlwSFlz\n",
       "AAAOxAAADsQBlSsOGwAAAPlJREFUKM9jYMAHGBkIAU6yVTT9nNzAcO3bAzxmTOE7wMDxA58thzZc\n",
       "ZWBIYJCcOW3mzACsKo5MYN7AoIDNjJVKSgYg+nQUtwFWFY9XQBmneQrWIlTw3dl96xRYnNsCpvQ0\n",
       "wwTOB3AVvJyzGPo3gFjMGxAqCjk0FGBhWsc2gWF/AVgFA0IFq4NnAozX0P+AIR7MKlMCggkQFQwn\n",
       "eOAqGPwZGE6CGZ1IZjD0cCjAuYcZGL5ygBhMyCrYF0yAc3MZWD7wghhcC2BC04F4OVwF93cGXoNo\n",
       "MNMEJqYC8oYBjMenwMA91QHM7JnXAKaLvgH1cxhgi4+3k5QwxQHHgj1ZIOxujgAAAABJRU5ErkJg\n",
       "gg==\n",
       "\" style=\"display:inline;vertical-align:middle;\" /></a>, <a class=\"ProveItLink\" href=\"../__pv_it/demonstrations/6634837ef11982c7c926a933fc6129de5c4761670/expr.ipynb\"><img src=\"data:image/png;base64,iVBORw0KGgoAAAANSUhEUgAAADUAAAATBAMAAADCPVhoAAAAMFBMVEX///8QEBAyMjJERETMzMy6\n",
       "uroiIiKqqqpUVFSYmJju7u5mZmaIiIh2dnbc3NwAAABKcBCOAAAAAXRSTlMAQObYZgAAAAlwSFlz\n",
       "AAAOxAAADsQBlSsOGwAAAPFJREFUKM9jYMAG3popnfOFsE7vQpXiNZzAtb8bxOKbwDADVW5PLAMD\n",
       "pzWItYaBoQxFimWDFZAE6zvAwNABETyclqYApJgXGADJNxA51iywVNApiBJmvg1QE1j9LJQWgO3V\n",
       "goq8YLkAcxTDTDcHEIPpAVTEl3UCXI6BUwEsB3PLa9YDUBbQmawfQAzHNCAwANsHMzOEgYFHAMRY\n",
       "DNMHcScIANUwN4AYbDA5VrD/WIEYaJcj2BU8B5DDheEwAwNXJwNrKkRIHR6eSre4ioB+ZHc/cwcq\n",
       "tMJ0ASweDL/tg3gBDmLNwGGGiA8G3GANHrkQ3FIAu+U0diYjhn8AAAAASUVORK5CYII=\n",
       "\" style=\"display:inline;vertical-align:middle;\" /></a>, <a class=\"ProveItLink\" href=\"../__pv_it/demonstrations/847ecb4d628b91a053c2379114751af7d89ba9560/expr.ipynb\"><img src=\"data:image/png;base64,iVBORw0KGgoAAAANSUhEUgAAADYAAAAQBAMAAACvnpHFAAAAMFBMVEX///9UVFSYmJgyMjJERESq\n",
       "qqoQEBDu7u66uroiIiLc3NzMzMxmZmaIiIh2dnYAAADysKFQAAAAAXRSTlMAQObYZgAAAAlwSFlz\n",
       "AAAOxAAADsQBlSsOGwAAANRJREFUGNNjYMAGuJ5Mtl39AKsUw5MkhpqPB7BK8dwA6lHBLreHpYCB\n",
       "gRFV7srMmQYg2p0FZOcFZKnm61CGwxqY0Ls7GyCOM4e5UmAflLWygT2LKwDIYF4AFeF+0ARl5TEw\n",
       "+PAWgOTgvjvQC3XvdwaGw3wg1raZQOAAtm8dRI4NyHv2HMQqgTsK7E4gqAd68z3IOgZOuFwPyH8M\n",
       "DQz8CkB9YBHeCyjhwuvAwCPAwPSeGyxkCtf42K6g1AbkvUsKPG/BIoUeBfB4yJ+zADUc+zwhYQYF\n",
       "AH6TOAHoygR1AAAAAElFTkSuQmCC\n",
       "\" style=\"display:inline;vertical-align:middle;\" /></a>, <a class=\"ProveItLink\" href=\"../__pv_it/demonstrations/a0aa0488271b81ec08bef69d663496a5009a7f650/expr.ipynb\"><img src=\"data:image/png;base64,iVBORw0KGgoAAAANSUhEUgAAAF0AAAASBAMAAADLUc9JAAAAMFBMVEX///8QEBAiIiLu7u5ERES6\n",
       "urqYmJiIiIjMzMx2dnZUVFRmZmaqqqoyMjLc3NwAAABb1yYoAAAAAXRSTlMAQObYZgAAAAlwSFlz\n",
       "AAAOxAAADsQBlSsOGwAAAXlJREFUKM9jYCAIOhkYuBsYiAFs29qrGRjYJzBsY2DIzihfULYCKvEW\n",
       "XSXfFN3rLyawBSYwPmBgKOcsYGBIFWOQYqiCSt9HVz9FjMH614bHRQz8BgwMnNeBBpgrMHxl2AmR\n",
       "5fmPppy7dAIDQ8oGhuUMgUAe5zUgwVXAIcCgA5Ve/wBVfTcL0FiuDQwSDDs5GBgquRMYGBgb2B34\n",
       "PkD8PW8+1P/sTkq6INqZBeSHAr4PDKonQP7dw8DwHmgDm8MEsOcK6g+AlbNeN4Doc3gN4S9gqEwA\n",
       "hSdXA0MUA+8DvuVgeW6G8wmQYIIq51vQiS+YYxj6wfYw3IMKcEwIw6d+A8P7BWDGBVjobwjHo5zd\n",
       "e/d6B7CxQkpKSipg97/Eo96cgYFfAcRgdoAJgcMHt3MYmATALAWYUDQo/BkCsCpnBYYN7wcwsxwl\n",
       "ftkdsKp/CMQs/8BM3gMwwbk3DWxuY1Vu8v8yA4//X3CAMi8JhqdPee0HhBM86xRIesANAEA9Vo0y\n",
       "TAlvAAAAAElFTkSuQmCC\n",
       "\" style=\"display:inline;vertical-align:middle;\" /></a>, <a class=\"ProveItLink\" href=\"../__pv_it/demonstrations/932f704789037247f30ad02e6c8f267e6cfb2e4c0/expr.ipynb\"><img src=\"data:image/png;base64,iVBORw0KGgoAAAANSUhEUgAAAFAAAAAVBAMAAAAjqnRBAAAAMFBMVEX///9UVFREREQiIiKYmJgQ\n",
       "EBAyMjJmZmaqqqru7u7MzMyIiIi6urp2dnbc3NwAAAC+adfGAAAAAXRSTlMAQObYZgAAAAlwSFlz\n",
       "AAAOxAAADsQBlSsOGwAAAX5JREFUKM+Fkz9IAzEUxj/bq+1dvHq7CAVdBJFCQdfaza2Dk4vdVMRy\n",
       "qKNDN0EUThcFlzoUBxHOOkhFpIPVQcTQQRw6nC5WQdTRzSRNz2uQ+iCEl/zy/nxJ4EGagb9NWz06\n",
       "IZNFNNoLoaKKxOvji29Uq6UjFrEkSICYrYL1aex+2a+n6K9GqQRNNpIKF72gQMbGAEoIFyS4z8aj\n",
       "Ah6GHKDHxgzK+DAkuMHGswTKqVSOzyMhXqcb/2QxM6YEWRL0tgS4rsgDiRcx9VnI46nCQP3MBSU5\n",
       "xKhodaHds3XcUUkDZiyrp8m37Ka3LaxBrxSwGU1qHrLAmgB9Fe1bBXQiLlOHqXjA/VKKWULU+K6A\n",
       "uPdM6C6wxf0df0d03QGuoAmTaZbnftjfueE6ohoAlzGFTVaUSEjcjpshiQBY86jGDpoFsTDvh3xY\n",
       "cvbmgqmNweHL36Tbo47/emYnvCAIQ8Ralyt3Q60rVIyDRMQYQ1dryEcGPfc/SES76e7guf8VunM/\n",
       "h/FjgTPyFT0AAAAASUVORK5CYII=\n",
       "\" style=\"display:inline;vertical-align:middle;\" /></a> <a class=\"ProveItLink\" href=\"../__pv_it/demonstrations/2bb77b006340b10a92a59d194ccaea41b1638ecc0/proof.ipynb\" style=\"text-decoration: none\">&nbsp;&#x22A2;&nbsp;&nbsp;</a><a class=\"ProveItLink\" href=\"../__pv_it/demonstrations/3a84dff702e3c35135faef6fb3626afb46f0ddfe0/expr.ipynb\"><img src=\"data:image/png;base64,iVBORw0KGgoAAAANSUhEUgAAASEAAAAVBAMAAAD7r0UnAAAAMFBMVEX////MzMxUVFREREQiIiK6\n",
       "uroQEBCYmJhmZmYyMjLu7u52dnaqqqqIiIjc3NwAAACFAiZ1AAAAAXRSTlMAQObYZgAAAAlwSFlz\n",
       "AAAOxAAADsQBlSsOGwAABCVJREFUSMeFVl9oFEcY/877t9ndWw+RPqk9+tIHH3L6Ul+anFL7UHw4\n",
       "obS0VDxa+hQaDkEiSuWMKUaD9N5KbWkXhEofji5t9SH1zJbGEuhDrpSSKLZZqChipLEKooak38w3\n",
       "Ozu7O0k++G5n7pvfN7/55vtmBgACWFukLaP7UxFH6EYS6IAk5dBc8uMj2mrvctjIlqM/D2lmuiV0\n",
       "I1Gx99iPVQ+7u0Lzb3FI3xJ978+fk4xKAHYrGpJYAxPbI00KeQE99muFUQ9gRpjNdhwyS4ycJhyR\n",
       "jCzUmjLmQmrmb4Umt4S8gBZrryqMcDU5YTaaccToCv90AKYlI+zAVWXMsdTUZ4QmRHgBLdboDyQj\n",
       "E2Nk+WQuxAHW/YdhFF+SjH5G/UcZVHCTUzeEJkR4AS322lRZMrKx6VTJ/E4c8KC0LHzl35CMWIL0\n",
       "KVXSl4gr5NukaUbcSyxPQ6zTW/AlI5YX8BWZJ1j7p/mwlFr2Ez7Fjt2fu5yROd8Dr9QWeTv9yIV3\n",
       "waokpjE8UrC6p1SiwgtJAmvAbJMYdc4joxtUY2j+DD+36+aww4sg72eeE+eRrWXOyLIbZrP0jFK7\n",
       "+P6PFYxYkYdj7DUm+8KFM3X2wzfBYpQCwguXGBblPXjRI0ber3AJFlye2mg+gJ8hgD0ll4g7/4ko\n",
       "cuhlWDRqxYDlyCeUTLsyPti1RIxyPmnBg2zrpsIoIpDCtuDfCmfk+GNwkuWzgRuI5g+xhRE4y3cS\n",
       "/hgffSSKJL/EGbmFnsXgsAW7OFkHe5mlZLrWST91wWizlX/XVr3wXgJb2jPeX+WMTPgIY2egqcLN\n",
       "yKiAliuTYRE+Zo2DCGlQZh8OLP6/OEmtBzhNYw1GH6B9iAU711K95FppLLLdXKNdy68gow4dsWj+\n",
       "EpeArSmfNg3gdVFd2QoxGoNFsFyqBOZhEkTk1TzyuZqYg9ZyRDT0IndRYnnUcw1iZNQwiSepnNH8\n",
       "KnLFnLzCh70dnu0Y5hcCYnQajsN1cVowD+iqWE3EKNsjxTq1lPiFXiSjCJtviguLMaoWXbtORx6a\n",
       "v8fIVKA4xS53h3kbRB/my5DfL27atwKvWBcnKgsjFo/RSzBiJc10FODEkqwu6UUeEhH2DlvHiti1\n",
       "YQuOimsBzW+y42iuaXTRw+BTF35Z/QJjt+2vbnj3Z3a+8jeIWwdlE2sn3xT5GqnVHYEJSVd6gRT2\n",
       "4uoFsAefenRCbvnh40BcnWjOlTVvBkt9jWR4dGYUr7dTgL1C9V5gHSw/s7fxBbTIXGxtxIhOqgHx\n",
       "z3btnXpMd/+mGOmwnBE/wrKBMA+A9s6OGHHH8tHyZ5TkamoHwqPWC6yD5Yy88EXDzRc1jA7GYsQP\n",
       "tPCCxPzNpq5+MKukei+wDpYz4qk3B8LsNNd5hP4ug6A8lE9qBt4VutEjO4UtyTxmC0Lz/zwnL7VK\n",
       "SJhGAAAAAElFTkSuQmCC\n",
       "\" style=\"display:inline;vertical-align:middle;\" /></a></span>"
      ],
      "text/plain": [
       "{gamma in Complex, m in NaturalPos, n in NaturalPos, beta in Complex, alpha in Complex, A in Complex^{n x m}, |psi〉 in Complex^{m}} |- (alpha . A . beta . |psi〉 . gamma) = ((alpha * beta * gamma) . A . |psi〉)"
      ]
     },
     "execution_count": 57,
     "metadata": {},
     "output_type": "execute_result"
    }
   ],
   "source": [
    "qmult1.simplification()"
   ]
  },
  {
   "cell_type": "code",
   "execution_count": 58,
   "metadata": {},
   "outputs": [
    {
     "data": {
      "text/html": [
       "<span style=\"font-size:20px;\"><a class=\"ProveItLink\" href=\"../__pv_it/demonstrations/6634837ef11982c7c926a933fc6129de5c4761670/expr.ipynb\"><img src=\"data:image/png;base64,iVBORw0KGgoAAAANSUhEUgAAADUAAAATBAMAAADCPVhoAAAAMFBMVEX///8QEBAyMjJERETMzMy6\n",
       "uroiIiKqqqpUVFSYmJju7u5mZmaIiIh2dnbc3NwAAABKcBCOAAAAAXRSTlMAQObYZgAAAAlwSFlz\n",
       "AAAOxAAADsQBlSsOGwAAAPFJREFUKM9jYMAG3popnfOFsE7vQpXiNZzAtb8bxOKbwDADVW5PLAMD\n",
       "pzWItYaBoQxFimWDFZAE6zvAwNABETyclqYApJgXGADJNxA51iywVNApiBJmvg1QE1j9LJQWgO3V\n",
       "goq8YLkAcxTDTDcHEIPpAVTEl3UCXI6BUwEsB3PLa9YDUBbQmawfQAzHNCAwANsHMzOEgYFHAMRY\n",
       "DNMHcScIANUwN4AYbDA5VrD/WIEYaJcj2BU8B5DDheEwAwNXJwNrKkRIHR6eSre4ioB+ZHc/cwcq\n",
       "tMJ0ASweDL/tg3gBDmLNwGGGiA8G3GANHrkQ3FIAu+U0diYjhn8AAAAASUVORK5CYII=\n",
       "\" style=\"display:inline;vertical-align:middle;\" /></a>, <a class=\"ProveItLink\" href=\"../../../../numbers/number_sets/natural_numbers/__pv_it/theorems/d0faa5018b5696ae3900dfa3ef431459c4f039010/expr.ipynb\"><img src=\"data:image/png;base64,iVBORw0KGgoAAAANSUhEUgAAAEEAAAATBAMAAAA9n32KAAAAMFBMVEX///9mZmYiIiIyMjKqqqqY\n",
       "mJgQEBDMzMzu7u5ERESIiIjc3NxUVFR2dna6uroAAABonEzTAAAAAXRSTlMAQObYZgAAAAlwSFlz\n",
       "AAAOxAAADsQBlSsOGwAAAPlJREFUKM9jYMAHGBkIAU6yVTT9nNzAcO3bAzxmTOE7wMDxA58thzZc\n",
       "ZWBIYJCcOW3mzACsKo5MYN7AoIDNjJVKSgYg+nQUtwFWFY9XQBmneQrWIlTw3dl96xRYnNsCpvQ0\n",
       "wwTOB3AVvJyzGPo3gFjMGxAqCjk0FGBhWsc2gWF/AVgFA0IFq4NnAozX0P+AIR7MKlMCggkQFQwn\n",
       "eOAqGPwZGE6CGZ1IZjD0cCjAuYcZGL5ygBhMyCrYF0yAc3MZWD7wghhcC2BC04F4OVwF93cGXoNo\n",
       "MNMEJqYC8oYBjMenwMA91QHM7JnXAKaLvgH1cxhgi4+3k5QwxQHHgj1ZIOxujgAAAABJRU5ErkJg\n",
       "gg==\n",
       "\" style=\"display:inline;vertical-align:middle;\" /></a>, <a class=\"ProveItLink\" href=\"../../../../logic/sets/cartesian_products/__pv_it/theorems/84ee59aeed12e78631ff41732d618eeba4d5229f0/expr.ipynb\"><img src=\"data:image/png;base64,iVBORw0KGgoAAAANSUhEUgAAAEYAAAATBAMAAADfQ2bzAAAAMFBMVEX///8iIiIyMjJmZmYQEBCq\n",
       "qqqYmJju7u5ERETMzMyIiIjc3NxUVFR2dna6uroAAACULOzSAAAAAXRSTlMAQObYZgAAAAlwSFlz\n",
       "AAAOxAAADsQBlSsOGwAAARJJREFUKM9jYCAADBgIgwZK1LDLd6gz8Pr74TWHI+ANA0N9AV41PNK8\n",
       "CQwsDMwdHR4dbbjURDBoMzBidw9Xo6AQWM22BZtwqOHTKoCas+Ek1wW4Gr47u2+d4rzVB5baVACz\n",
       "awMHQx9cDS9HF0N9HkMIWEob7p4NnAaFhbBwnsfSwLD/AkM+WEoBoYYhlbUFxiuof8AQX8BwAsTm\n",
       "dBQUFJSAquEpOAJ3ZzwDgxEDgxc4eBuQzGE/UAhXc4iBQZaB7zc7iC2ApIZhFgdcjS8D+z8GHoWt\n",
       "IPYqeFxMAIbVDBiP+ycD2wcGpgsXQBymAKgoI4hhBA82AQYuAwZWqw1gB514DhbklPcAkkXY44nv\n",
       "BiQuUAAA7zs7hIz3bAEAAAAASUVORK5CYII=\n",
       "\" style=\"display:inline;vertical-align:middle;\" /></a>, <a class=\"ProveItLink\" href=\"../__pv_it/demonstrations/a0aa0488271b81ec08bef69d663496a5009a7f650/expr.ipynb\"><img src=\"data:image/png;base64,iVBORw0KGgoAAAANSUhEUgAAAF0AAAASBAMAAADLUc9JAAAAMFBMVEX///8QEBAiIiLu7u5ERES6\n",
       "urqYmJiIiIjMzMx2dnZUVFRmZmaqqqoyMjLc3NwAAABb1yYoAAAAAXRSTlMAQObYZgAAAAlwSFlz\n",
       "AAAOxAAADsQBlSsOGwAAAXlJREFUKM9jYCAIOhkYuBsYiAFs29qrGRjYJzBsY2DIzihfULYCKvEW\n",
       "XSXfFN3rLyawBSYwPmBgKOcsYGBIFWOQYqiCSt9HVz9FjMH614bHRQz8BgwMnNeBBpgrMHxl2AmR\n",
       "5fmPppy7dAIDQ8oGhuUMgUAe5zUgwVXAIcCgA5Ve/wBVfTcL0FiuDQwSDDs5GBgquRMYGBgb2B34\n",
       "PkD8PW8+1P/sTkq6INqZBeSHAr4PDKonQP7dw8DwHmgDm8MEsOcK6g+AlbNeN4Doc3gN4S9gqEwA\n",
       "hSdXA0MUA+8DvuVgeW6G8wmQYIIq51vQiS+YYxj6wfYw3IMKcEwIw6d+A8P7BWDGBVjobwjHo5zd\n",
       "e/d6B7CxQkpKSipg97/Eo96cgYFfAcRgdoAJgcMHt3MYmATALAWYUDQo/BkCsCpnBYYN7wcwsxwl\n",
       "ftkdsKp/CMQs/8BM3gMwwbk3DWxuY1Vu8v8yA4//X3CAMi8JhqdPee0HhBM86xRIesANAEA9Vo0y\n",
       "TAlvAAAAAElFTkSuQmCC\n",
       "\" style=\"display:inline;vertical-align:middle;\" /></a>, <a class=\"ProveItLink\" href=\"../__pv_it/demonstrations/847ecb4d628b91a053c2379114751af7d89ba9560/expr.ipynb\"><img src=\"data:image/png;base64,iVBORw0KGgoAAAANSUhEUgAAADYAAAAQBAMAAACvnpHFAAAAMFBMVEX///9UVFSYmJgyMjJERESq\n",
       "qqoQEBDu7u66uroiIiLc3NzMzMxmZmaIiIh2dnYAAADysKFQAAAAAXRSTlMAQObYZgAAAAlwSFlz\n",
       "AAAOxAAADsQBlSsOGwAAANRJREFUGNNjYMAGuJ5Mtl39AKsUw5MkhpqPB7BK8dwA6lHBLreHpYCB\n",
       "gRFV7srMmQYg2p0FZOcFZKnm61CGwxqY0Ls7GyCOM4e5UmAflLWygT2LKwDIYF4AFeF+0ARl5TEw\n",
       "+PAWgOTgvjvQC3XvdwaGw3wg1raZQOAAtm8dRI4NyHv2HMQqgTsK7E4gqAd68z3IOgZOuFwPyH8M\n",
       "DQz8CkB9YBHeCyjhwuvAwCPAwPSeGyxkCtf42K6g1AbkvUsKPG/BIoUeBfB4yJ+zADUc+zwhYQYF\n",
       "AH6TOAHoygR1AAAAAElFTkSuQmCC\n",
       "\" style=\"display:inline;vertical-align:middle;\" /></a>, <a class=\"ProveItLink\" href=\"../__pv_it/demonstrations/9776b868029321ad4d7f2b3c1f048f5554e92b8f0/expr.ipynb\"><img src=\"data:image/png;base64,iVBORw0KGgoAAAANSUhEUgAAADQAAAAUBAMAAAAw+gPuAAAAMFBMVEX///8yMjJmZmaIiIjMzMzc\n",
       "3Nx2dnZUVFQQEBCYmJi6urru7u5EREQiIiKqqqoAAAAmNEGZAAAAAXRSTlMAQObYZgAAAAlwSFlz\n",
       "AAAOxAAADsQBlSsOGwAAAM9JREFUKM9jYMACWHMuCockYJNhyOlk2PRdAZsMkxVQxxysUk48GxgY\n",
       "2FGkbO7eFQDRp3lA9hkgySy0hjIOBEEZb/9sYFgNUiYNc1+BG4TB2Z5bwAByKGMAVIolYSWEEcPA\n",
       "cITlAUgK7iuFxRAG0ILNbCCGx10gOAC2KwxuP1swiNwD54NdCJXKBpG8cP4ikL8YFoClwL5jNkAJ\n",
       "DWaw2UwOYBE5uLZEsQ37hMAsdojA9lMb4CHffykAWYph2VlIQCEBZwacwAq3VAFuqQDswgBkzi1X\n",
       "2dcTkQAAAABJRU5ErkJggg==\n",
       "\" style=\"display:inline;vertical-align:middle;\" /></a>, <a class=\"ProveItLink\" href=\"../__pv_it/demonstrations/932f704789037247f30ad02e6c8f267e6cfb2e4c0/expr.ipynb\"><img src=\"data:image/png;base64,iVBORw0KGgoAAAANSUhEUgAAAFAAAAAVBAMAAAAjqnRBAAAAMFBMVEX///9UVFREREQiIiKYmJgQ\n",
       "EBAyMjJmZmaqqqru7u7MzMyIiIi6urp2dnbc3NwAAAC+adfGAAAAAXRSTlMAQObYZgAAAAlwSFlz\n",
       "AAAOxAAADsQBlSsOGwAAAX5JREFUKM+Fkz9IAzEUxj/bq+1dvHq7CAVdBJFCQdfaza2Dk4vdVMRy\n",
       "qKNDN0EUThcFlzoUBxHOOkhFpIPVQcTQQRw6nC5WQdTRzSRNz2uQ+iCEl/zy/nxJ4EGagb9NWz06\n",
       "IZNFNNoLoaKKxOvji29Uq6UjFrEkSICYrYL1aex+2a+n6K9GqQRNNpIKF72gQMbGAEoIFyS4z8aj\n",
       "Ah6GHKDHxgzK+DAkuMHGswTKqVSOzyMhXqcb/2QxM6YEWRL0tgS4rsgDiRcx9VnI46nCQP3MBSU5\n",
       "xKhodaHds3XcUUkDZiyrp8m37Ka3LaxBrxSwGU1qHrLAmgB9Fe1bBXQiLlOHqXjA/VKKWULU+K6A\n",
       "uPdM6C6wxf0df0d03QGuoAmTaZbnftjfueE6ohoAlzGFTVaUSEjcjpshiQBY86jGDpoFsTDvh3xY\n",
       "cvbmgqmNweHL36Tbo47/emYnvCAIQ8Ralyt3Q60rVIyDRMQYQ1dryEcGPfc/SES76e7guf8VunM/\n",
       "h/FjgTPyFT0AAAAASUVORK5CYII=\n",
       "\" style=\"display:inline;vertical-align:middle;\" /></a> <a class=\"ProveItLink\" href=\"../__pv_it/demonstrations/b33c5bd041c14c43e2642975bd8362a477c1b4880/proof.ipynb\" style=\"text-decoration: none\">&nbsp;&#x22A2;&nbsp;&nbsp;</a><a class=\"ProveItLink\" href=\"../__pv_it/demonstrations/a3c775a24aefa0f3cdff5577fc11baab0fea2fb20/expr.ipynb\"><img src=\"data:image/png;base64,iVBORw0KGgoAAAANSUhEUgAAATkAAAAVBAMAAADP1oQ7AAAAMFBMVEX////MzMxUVFREREQiIiK6\n",
       "uroQEBCYmJhmZmYyMjLu7u52dnaqqqqIiIjc3NwAAACFAiZ1AAAAAXRSTlMAQObYZgAAAAlwSFlz\n",
       "AAAOxAAADsQBlSsOGwAABJlJREFUSMeNV19oHEUY/653e7u3u7ceRXwKevgi0oeefbEINpdifRDB\n",
       "KwRFUHogPhXDKtRGxXCNkUSLeG9iFF0sKH0ILkqLVNNs8Q8FkZ4INtpqFxoUacT4B6RaEr+Zb3Zm\n",
       "dnZFByZzu7/5ffv7vvnmmwkApKC3AMyWGiNUSkDTRAD/3dIyIrVWBjeT3IyLNG+o3jwsxhPZi2qr\n",
       "CJomLv4PdTr3J/bH62WPt2Xw5zmGH/OhsUGPV1ZflPJJXRPnDNR8w7fMhDCTC8zyQpR/o3Pf1NSN\n",
       "AM4K2B3mGMdpOEfqghCeAFjU1XnYuxphsSDjuDKjtx/BbhuvFNff0tShZzUBO2GOME/D7CYflgA+\n",
       "AZjW1eEr+EgjTBdkzCszWnNH4HeNd4rr7EylOpwJXkJwPU/oU4Cu/JrF+GacEmnqzmC/rBHqkamj\n",
       "L83klhFgmxk7xT290pLqfPwZdAh+MDffonX+uXlNqLPuwSQMNXUsoRrabmuExieZCWtYpm7SdERy\n",
       "g9GlRKpjuQNvEHyU/f5wVWxDh7J54P/JP3TjrlfRotcW6tzVEcTNIeW8f98dYEUZqBozwc14y0e0\n",
       "1/sv36qlmcF14FxI6pZeQnXf0F5F+BUc1nruVJAob6yk8jd5cfh6lG0PhTrP77th8y/aFk/u2Mvc\n",
       "JHDuLtb2ZiZYD/bB2+m6FBTbj0/IhxwX20NwU0zq4s/gHbgU8W2B8L04HATY3eRhryXkSvCbiDEz\n",
       "ILL5BKw7XTtlOfU8z4xqawyKqc5MsF6PoTr4VqkDeEoWF5M7gF/aXF2QzMEM2wtOj8OP4i+Mxgse\n",
       "5Slf+a8WZn8X+9PC0lLZEOqi+shjpmA75lGEmyuWoJbqPeovR+AMWUTeHYqNeADEk8lt7l7Y2eHq\n",
       "XHgM/XAQanMY1dUROXlKqWOW/uC5gkSMlNXPdsWB1OOoqOCnRxIsqnsEv3aQLUiNFW8LM+RryJ4M\n",
       "Lkbhui6trLWJ6paonCP8OrqDv1aobjcSvrAAd4vVqLa1lYU5WAcvoh3FNlOUgXreJby7mLneNamZ\n",
       "Lc0u3QnF5atR65M6p4sb4BSVBYTvRN2YwyfFEYoewQPZyYKLcAPOsjuZuufgafhUVCNsH4AEVWMm\n",
       "WMdd76m4NnChpvRpGtcKxdHJ1HXsyO9RSUX4PYxVG+wVuniwPR4wm+Ooyr0FrH0slqNM3f1pbPdE\n",
       "Jcd2RIGqMROszwI8syHvC2+FMNnTp2ncH5hPm2Jlpzw4JI4jhCdZlM+HzjK50QV3/GoEH2+9hpEd\n",
       "+46/raWZusqO278HcQpiaytQq8Zd6t7yYTgqpZ/54kLeDcU9trUI/vjVmKrx9vefTcVRjnCtlSNN\n",
       "6FEQ45o6Zys8ame1L6wVToUJw4w8YgrqTC4/K8Z4uR4QbA/+5WBW6uaVOqqKe8QtdFR63k+X3Q1M\n",
       "daVcro6XyGoq4D35nNYWaknWTqmOC84uXc2eAg0T1bRwQzGO3TIuVxdntzAOH8ub0Rj7xdciLXbc\n",
       "sji8t2mgYcI1Pmy1jEmlXK6O+3E+g4PQuCSabUaMX8rgaP8GzEDZPbPMTPFfiAK3KX3oEPwPTGVF\n",
       "DEGBEf4AAAAASUVORK5CYII=\n",
       "\" style=\"display:inline;vertical-align:middle;\" /></a></span>"
      ],
      "text/plain": [
       "{beta in Complex, n in NaturalPos, m in NaturalPos, A in Complex^{n x m}, alpha in Complex, gamma in Complex, |psi〉 in Complex^{m}} |- (alpha . (A . beta) . |psi〉 . gamma) = ((alpha * beta * gamma) . A . |psi〉)"
      ]
     },
     "execution_count": 58,
     "metadata": {},
     "output_type": "execute_result"
    }
   ],
   "source": [
    "qmult1_associated.simplification()"
   ]
  },
  {
   "cell_type": "code",
   "execution_count": 59,
   "metadata": {},
   "outputs": [
    {
     "data": {
      "text/html": [
       "<a class=\"ProveItLink\" href=\"../__pv_it/demonstrations/be60c7db86f0e60756a0532cbd72e3d30da0a17f0/expr.ipynb\"><img src=\"data:image/png;base64,iVBORw0KGgoAAAANSUhEUgAAAdAAAABLCAMAAAD3VSYGAAAAOVBMVEX///+Dg4POzs6/v78QEBBU\n",
       "VFS6urqYmJiIiIgyMjLu7u7MzMxmZmYiIiKqqqp2dnZERETc3NwAAAASg5l4AAAAAXRSTlMAQObY\n",
       "ZgAAAAlwSFlzAAAOxAAADsQBlSsOGwAABw5JREFUeNrtnem2oygQgJ0Z2Tfx/R92WARR0XhJSDp9\n",
       "ix85OTYUsT6oTbw9DG1NzKGhAdqhqaib7/rRYjbENQz4js0rhqCvA2qB3CVVAApAASgABaAAFIAC\n",
       "UGgAFIACUAAKQAEoAAWg0AAoAAWgABSAAlAACkChAVAACkABKAAFoAAUgEIDoGw+aRSAfiVQ7diJ\n",
       "8gK3mKJxnkcA+p0mF82zqmhDzRqAtjd740ovH6rqx+/l9O5bfrHQx0ArP0G8BpQ9Ks/gdwH171SQ\n",
       "GtGuQRftYgAw/QnQio6na6LXoKxkagpaM/qDQAfqiNZkkdcrXBrDo+s23l1Po3pGWmV8sU6qQK2h\n",
       "UvKajuNS0PJ6CVyCcveEURCuhk8CHaaqG+3QDBJjUAlnS4wtn4zRD+MZvwJq/SIlqKZjsziga/d0\n",
       "CWpKRGrL4p1AuQtq5TuAjhpPQeFy2f3PRl7H8UReAOVhG2pV0TGnp3uwSAmuQVF0YbjfCXTAzui+\n",
       "IajFc9o+4/7CswKLRcPPgUZoqLZDtTj1ktcethDCFyUm+/M5oINxeSfvDtSkrYHZ7sKzAkubSx4A\n",
       "xarmQ00ef67Wh6CmuMBo/AlCxHudg1Uqfa1z5KIvUF8wYr3zQjQqJJfYaJkVUSqfMA218QadAsXC\n",
       "ToitXjbomFNJI1DKcrgWN62KKHAa8ACUlnqeCk8b7lUwgpEp+1mFvZezg9UdgXo3anrv0FxOXHYR\n",
       "n51yeft9bManJU/YKVDjXwUWSmyAmkE7B8CJj/Y3ESoZkVGo3LzXoPzEyIvAqDDiKH3kfmOQN8mB\n",
       "8o5AjyXADll/nkDpZU6+YOaENf1mvi6TxCmHPFWgJfGgY7dNpBtBbPbsEhfO1HlNkTbSNSjreWh/\n",
       "i4uAMBvhaQmkfjIuG8kG09Pk+ol6u1GdNTzGm5MsbDMzCEpbvGkev9XLGdAlkMVzCdTd8kgX7Ud/\n",
       "ICK3uH/cmCz+GhSawuQiW2aTvXaYOPUbY9RlRrPT9n/zv6/Vt+r9hGUNYRagIYvEITTULUCL8YWj\n",
       "TE8V/pkPLjSSGrfxDPY7w6zA9WaBGJuVcg0qVNvCalpiJ5mnRIWvTevPHNKKlz8Ptb2rC1MuGTO9\n",
       "6iCaoCag63i+xkbnJtfsf0bUsbe4IT5Ztsw2zDXrRnoASmRzHgsMPtf2fTkSwx6836FDb6B07PzE\n",
       "fMxrfYrf5hDukRLDLaOfOq3j5aBzLDSdAY09xHqbC9ApWlCNa4moKWoJ16BEXqnLHmeMMkGkwpv0\n",
       "Rob1RMy8fxDwaqD4fTFRSi0QCdFeAZSn5On4pXIpj+d8VbykJ0C57+6yULxLIbEj7ONfXC0VlQnj\n",
       "JSjj5tVoEw4T58WU2eerLgslfk0Y2hWo6F4qWmMip9WoYpktZdqhKmX9KgHKX4pLS6di/FpPUPYE\n",
       "qBaa0o0WFx0LZCZCbb1ciyql3BNQTvqwXRSSfKpS5CxX9yMnstCN2luD7Pn0HaNb6ZS0YdVZLdec\n",
       "F3mEPi3XboDeBZXM9ig+BpR1Ls47Y8QKE0DkGdBb1Y1jJ5FijFXXPwBapPjTVquCNoGK1Sgxf6yW\n",
       "O3U+njCoaVsI3erNGjZLWuSKD8zJsVN60FGENDuglUGrtTwt11LcBIqEyTbJ9VuBSlUzdK90qoRu\n",
       "D0DwkxV066F6pVNyoRM/A4rFxQ4ddrlm3eL+AFS4PVtOScX7gJJqwkK6Rkn2hechGE4WlxQ38vgI\n",
       "SkXH+3Vmnwd1Pyx9FdB6wqK/5xynC3YrFubXnpy3tYSFy/ecYejYfivQSsJiNer/7AWAdgLKZlY2\n",
       "NS6vQqgBgH4jUHn2bgsBoF/qQ//WBkABKAAFoAAUgAJQAPqjMPf8n3TzDBSAtgMV7N6jkpN+u4tG\n",
       "0lRH98/wW4VLANq+Q9HNE9L1fhsQOJyQsqFYz9ETwrEBoM1Ax5tFunq/Emh6zBze3o7HUFuFMw5A\n",
       "W03uTCnidwZU+xVA8zGuoAv1lHCjAWgjUKr4QG/4rJN+BVCUHtf7Q6OWPSVcSwDaCNQfcvUHfO10\n",
       "vZNSPwfO1oGOCQJz7hNPTwnHEwBtBOrfK5BoEFhd63zpd7FD04O0IDqeMW0WLgBoK1D/KkD4ywUP\n",
       "dJ76ke2Ru0Lx/tCyfxlSkUykWTiY3GagTtXx+H/UOTcnH0s/a3fn74qgaLSEU7EcuFIV4TXBdeGU\n",
       "AtDWKFcuJ7ajzsPfGQkvcJQfuuhHzFnaYtFEkQtWg+Rw0nInvCa9LnyyALQ1D00tWcVawlBeQ/ii\n",
       "UuRfa+XkWBvIJlffEs4/7kK/HqigY3zRo/YyweaaGq6A2hkt8IqTtFl4TXpNuOEA9Okdmm7k8hrV\n",
       "u3DlsJVYfj+rRoXcEv4n/F/vv+Rpi5a7KuuVFN4qnA8A9E1Af0/7PqChISB3bCrq5rt+NCehYcBX\n",
       "2ZyxfWby/wGxZGGLGIMu0gAAAABJRU5ErkJggg==\n",
       "\" style=\"display:inline;vertical-align:middle;\" /></a>"
      ],
      "text/plain": [
       "〈varphi| . alpha . [Sum_{b_{1}, ..b_{_a}.., b_{j} | Q(b_{1}, ..b_{_a}.., b_{j})} f(b_{1}, ..b_{_a}.., b_{j})] . beta . |psi〉 . gamma . 〈varphi| . delta"
      ]
     },
     "execution_count": 59,
     "metadata": {},
     "output_type": "execute_result"
    }
   ],
   "source": [
    "qmult4"
   ]
  },
  {
   "cell_type": "code",
   "execution_count": 60,
   "metadata": {},
   "outputs": [
    {
     "data": {
      "text/html": [
       "<span style=\"font-size:20px;\"><a class=\"ProveItLink\" href=\"../__pv_it/demonstrations/f902dee330625b7efb8591cb50d4ff3a2f40e3640/expr.ipynb\"><img src=\"data:image/png;base64,iVBORw0KGgoAAAANSUhEUgAAADIAAAAQBAMAAACmdTG/AAAAMFBMVEX///8QEBDMzMyYmJiqqqqI\n",
       "iIju7u5UVFS6urp2dnZEREQiIiIyMjJmZmbc3NwAAAAJMjmHAAAAAXRSTlMAQObYZgAAAAlwSFlz\n",
       "AAAOxAAADsQBlSsOGwAAAN1JREFUGNNjYGB4e3odAwrgm7Xn6KMJQMYEjjJUmVnCDLnfLwAZaDoY\n",
       "eCOA6q1AMuFoMrpcCQwM7CCZfAeISNTu3QdA9DIukF0BQILrG1iiJwyqZ8FbKIPlyi+wg47BXFag\n",
       "CWXZMNQDzWXgeQDlM01ohir5x+CvAJKB++ZCK4TBvoBBHySjuBsIFoDteQmR4Tdg0AfRWXBXg90G\n",
       "crMC0CYg4IbL9IL8w9DAwK/AcATEZw1ACQPWBQycASwFYIEjcE1zTiaknAXSUyMh/PQVCfCwlt/7\n",
       "ADm8OldDQgcKAL1EOEzTZhtzAAAAAElFTkSuQmCC\n",
       "\" style=\"display:inline;vertical-align:middle;\" /></a>, <a class=\"ProveItLink\" href=\"../../../../logic/sets/cartesian_products/__pv_it/theorems/84ee59aeed12e78631ff41732d618eeba4d5229f0/expr.ipynb\"><img src=\"data:image/png;base64,iVBORw0KGgoAAAANSUhEUgAAAEYAAAATBAMAAADfQ2bzAAAAMFBMVEX///8iIiIyMjJmZmYQEBCq\n",
       "qqqYmJju7u5ERETMzMyIiIjc3NxUVFR2dna6uroAAACULOzSAAAAAXRSTlMAQObYZgAAAAlwSFlz\n",
       "AAAOxAAADsQBlSsOGwAAARJJREFUKM9jYCAADBgIgwZK1LDLd6gz8Pr74TWHI+ANA0N9AV41PNK8\n",
       "CQwsDMwdHR4dbbjURDBoMzBidw9Xo6AQWM22BZtwqOHTKoCas+Ek1wW4Gr47u2+d4rzVB5baVACz\n",
       "awMHQx9cDS9HF0N9HkMIWEob7p4NnAaFhbBwnsfSwLD/AkM+WEoBoYYhlbUFxiuof8AQX8BwAsTm\n",
       "dBQUFJSAquEpOAJ3ZzwDgxEDgxc4eBuQzGE/UAhXc4iBQZaB7zc7iC2ApIZhFgdcjS8D+z8GHoWt\n",
       "IPYqeFxMAIbVDBiP+ycD2wcGpgsXQBymAKgoI4hhBA82AQYuAwZWqw1gB514DhbklPcAkkXY44nv\n",
       "BiQuUAAA7zs7hIz3bAEAAAAASUVORK5CYII=\n",
       "\" style=\"display:inline;vertical-align:middle;\" /></a>, <a class=\"ProveItLink\" href=\"../__pv_it/demonstrations/6634837ef11982c7c926a933fc6129de5c4761670/expr.ipynb\"><img src=\"data:image/png;base64,iVBORw0KGgoAAAANSUhEUgAAADUAAAATBAMAAADCPVhoAAAAMFBMVEX///8QEBAyMjJERETMzMy6\n",
       "uroiIiKqqqpUVFSYmJju7u5mZmaIiIh2dnbc3NwAAABKcBCOAAAAAXRSTlMAQObYZgAAAAlwSFlz\n",
       "AAAOxAAADsQBlSsOGwAAAPFJREFUKM9jYMAG3popnfOFsE7vQpXiNZzAtb8bxOKbwDADVW5PLAMD\n",
       "pzWItYaBoQxFimWDFZAE6zvAwNABETyclqYApJgXGADJNxA51iywVNApiBJmvg1QE1j9LJQWgO3V\n",
       "goq8YLkAcxTDTDcHEIPpAVTEl3UCXI6BUwEsB3PLa9YDUBbQmawfQAzHNCAwANsHMzOEgYFHAMRY\n",
       "DNMHcScIANUwN4AYbDA5VrD/WIEYaJcj2BU8B5DDheEwAwNXJwNrKkRIHR6eSre4ioB+ZHc/cwcq\n",
       "tMJ0ASweDL/tg3gBDmLNwGGGiA8G3GANHrkQ3FIAu+U0diYjhn8AAAAASUVORK5CYII=\n",
       "\" style=\"display:inline;vertical-align:middle;\" /></a>, <a class=\"ProveItLink\" href=\"../../../../numbers/number_sets/natural_numbers/__pv_it/theorems/d0faa5018b5696ae3900dfa3ef431459c4f039010/expr.ipynb\"><img src=\"data:image/png;base64,iVBORw0KGgoAAAANSUhEUgAAAEEAAAATBAMAAAA9n32KAAAAMFBMVEX///9mZmYiIiIyMjKqqqqY\n",
       "mJgQEBDMzMzu7u5ERESIiIjc3NxUVFR2dna6uroAAABonEzTAAAAAXRSTlMAQObYZgAAAAlwSFlz\n",
       "AAAOxAAADsQBlSsOGwAAAPlJREFUKM9jYMAHGBkIAU6yVTT9nNzAcO3bAzxmTOE7wMDxA58thzZc\n",
       "ZWBIYJCcOW3mzACsKo5MYN7AoIDNjJVKSgYg+nQUtwFWFY9XQBmneQrWIlTw3dl96xRYnNsCpvQ0\n",
       "wwTOB3AVvJyzGPo3gFjMGxAqCjk0FGBhWsc2gWF/AVgFA0IFq4NnAozX0P+AIR7MKlMCggkQFQwn\n",
       "eOAqGPwZGE6CGZ1IZjD0cCjAuYcZGL5ygBhMyCrYF0yAc3MZWD7wghhcC2BC04F4OVwF93cGXoNo\n",
       "MNMEJqYC8oYBjMenwMA91QHM7JnXAKaLvgH1cxhgi4+3k5QwxQHHgj1ZIOxujgAAAABJRU5ErkJg\n",
       "gg==\n",
       "\" style=\"display:inline;vertical-align:middle;\" /></a>, <a class=\"ProveItLink\" href=\"../__pv_it/demonstrations/847ecb4d628b91a053c2379114751af7d89ba9560/expr.ipynb\"><img src=\"data:image/png;base64,iVBORw0KGgoAAAANSUhEUgAAADYAAAAQBAMAAACvnpHFAAAAMFBMVEX///9UVFSYmJgyMjJERESq\n",
       "qqoQEBDu7u66uroiIiLc3NzMzMxmZmaIiIh2dnYAAADysKFQAAAAAXRSTlMAQObYZgAAAAlwSFlz\n",
       "AAAOxAAADsQBlSsOGwAAANRJREFUGNNjYMAGuJ5Mtl39AKsUw5MkhpqPB7BK8dwA6lHBLreHpYCB\n",
       "gRFV7srMmQYg2p0FZOcFZKnm61CGwxqY0Ls7GyCOM4e5UmAflLWygT2LKwDIYF4AFeF+0ARl5TEw\n",
       "+PAWgOTgvjvQC3XvdwaGw3wg1raZQOAAtm8dRI4NyHv2HMQqgTsK7E4gqAd68z3IOgZOuFwPyH8M\n",
       "DQz8CkB9YBHeCyjhwuvAwCPAwPSeGyxkCtf42K6g1AbkvUsKPG/BIoUeBfB4yJ+zADUc+zwhYQYF\n",
       "AH6TOAHoygR1AAAAAElFTkSuQmCC\n",
       "\" style=\"display:inline;vertical-align:middle;\" /></a>, <a class=\"ProveItLink\" href=\"../__pv_it/demonstrations/bbf5d33edced3682aab59724695062ca64acb82c0/expr.ipynb\"><img src=\"data:image/png;base64,iVBORw0KGgoAAAANSUhEUgAAAEwAAAAVBAMAAAAeOBUnAAAAMFBMVEX///8QEBAiIiKqqqpUVFSY\n",
       "mJhmZmbu7u5EREQyMjLMzMyIiIi6urp2dnbc3NwAAADC3l7hAAAAAXRSTlMAQObYZgAAAAlwSFlz\n",
       "AAAOxAAADsQBlSsOGwAAAWNJREFUKM9jeMAABVwM2AFr6uptDAx3YFyOBegK+G5ozn51gfVgAOMD\n",
       "hDLmBHRlN0QZyr4kPN/EwF+AUMaggKaKbc8FBoaIBAZvhoNIljJcRlO2jKOAgYElgUGKIZcLSdkL\n",
       "KL1DSWkCiG7nALlvA98HBh0rJGWcEE+f3A7lNzwDUzwODHsDQMpWAeV+FDAwXwB7bzrMnw5rkVwA\n",
       "VJbAwDX1yAWoHzhhAcl14SiKMuYFDCwMDA4MDDlgZfBQSziNooyXgSEcZCTDEhB/oRIQNIDd9hZd\n",
       "2QYG9g0MDLYgfgVcBuxThDI2Bh6gtcAwmgfiM8FljoHCjeEAXFkAGwO7F9AxYKu4N6DEAncD3Kcz\n",
       "dy5NAmriNQALTIYbd3NuQfE0RICw6n+6gLCupKcAnkLk1R4glDGkgllmUJGzTZDIQgEgZVJgVh8D\n",
       "HgBUxvUBxGCfQEAZNziWuAPwKdsFdCo4eXPgUwUATsteKZUtyh8AAAAASUVORK5CYII=\n",
       "\" style=\"display:inline;vertical-align:middle;\" /></a>, <a class=\"ProveItLink\" href=\"../__pv_it/demonstrations/b09e8dca9af82b0479dfd557865bdcf8040994640/expr.ipynb\"><img src=\"data:image/png;base64,iVBORw0KGgoAAAANSUhEUgAAAYEAAAAZBAMAAAAlNY+NAAAAMFBMVEX///+IiIgiIiIQEBB2dnbu\n",
       "7u5UVFTMzMzc3NwyMjK6urpmZmaYmJiqqqpEREQAAACk/Np2AAAAAXRSTlMAQObYZgAAAAlwSFlz\n",
       "AAAOxAAADsQBlSsOGwAABRNJREFUWMO9WG1oHEUYfu5jb+/29i6XtFYhVMJBwA+UEpSG2sCpRBA/\n",
       "2KB/RMhdpVoxIgkpggp6UhssQnP+aGk11aOtBX9o7yDWKo3dolbSSj2CCjVK04aA0D+teNiKgu/M\n",
       "7M7t3t5eEnQduJnZd2d232fe5/3YAwJsqTKCbdGAn4/5//6Rag74tHG1ECwApdSYF1e8K+534+w3\n",
       "nRVgLZIm9BNj60KnR4FTwSJIm3Iaqq14l5bxiN64tP+m7TizGf30pMy9gH7IjBRCBSBsANwOPweC\n",
       "YIcYpgeB76Es9rRfPdxnTdZ72L5oKidH4kM9qNPVg4RwZxc6ykkiFEPxOVuzLxAE0+L92wY4nxKV\n",
       "ZZa/a40Jo+lG9TCd+mXEMtoGhoBZdgvGESa7KoTpRUa9YBziT95Hflpi1EXHckT62xr1JqhqZYn6\n",
       "EURGk7lRhHIn6GojbsakSpMpgThaCwKAWufDUXpBxBrb8r9uz+62fOdS9lbuTgY74NcxifBHo8yT\n",
       "a4hfISucY7H0C0JMx5MIxAQhQfz76PehNbaN7dJPpgSity3I6bgwyhGEHubRdBu0AhF/4gYSrqFf\n",
       "XzZ7VyAIYjyYnu4bER6xt3Om7fLElm6LCg/wfpdtswmmtV9jlqX8sLSsNi5qptoF91AjmArvuipO\n",
       "Vblu5Nsmhfwe5RpRj2azcEWX7Zrpv+s1SgoTiBegvteCxw6Z5erRajdpcQYvtXB9WybBJgo8Qf1B\n",
       "3R0Eu46OjDLrr8sFg4ENk0Zz/Fqmw7daZAjZJsvMUaLUb21xd2szAm0f4v1QCoi1sKstO2wLwhxL\n",
       "6gp1m4BkCfncWJe/Lp9B+d06V35+xO7sncIP2rAoT7qnMgkenrxtYzOCOe78yTIFNu9qWybDubAB\n",
       "d9BNPB0crVnH65MONCueHuIliTSziEV+NmBvLVFxoV5d5wl2TtmCJMR3CNMpdT7tZaQlk6FZIEiz\n",
       "/gClAxMnjXYI/kKyjqEZ2CySoUnj+UDz8QPmW4/sIf/rDXlSplO2IIPL/dgFdBndnmfZspS9KcY3\n",
       "RRiJLxKCsrJZKOfNC4rIf4+ZqJyn2Tku7HTlZMpgvrEIO+iU0hm9FG8KSUyGWLGBIMJ024uPmUaz\n",
       "2N2kCZPhWTos2+ahDdLMFB9jZrrCESjXYXX5kmOC53EZivEQ01iYUKbZ6P5B5bxPTfIl15TeESkn\n",
       "Cy/3NhGbZC4bsONUr+FHxutj6sEmBCRz1+wiyV5g3UFStWoTJMs23m67Op+wNz/J0wHLZrcIw7zw\n",
       "gaxNF3877sO9Y/akw4jU0ISAyfSzDgTpimaETbwKqhEHeGHrbEz2bcXBIua/1ivCtuczBCkvjX6Q\n",
       "M0oJccsDtEdFVdG2TcnIZxD5CMHjUHJ2x2RvPuH05P6vb6Qd5Mm9+gJHIJfTQLL4zhIr4B21aapw\n",
       "wFWszbX+NJThUiXmJc1VfETJYkqt5jiC8Zraj/Ei62pc9pUzmk5cfMYoIl3EK2vFx4Vcrg5wmU47\n",
       "0jLzjtOiJZGYfrXo8D5xfMirhwTN6v3dq6hc9ILrkrGoUaWK2XOunIwjigktZ5nNuTwlwg/ll+FG\n",
       "jqtB7xZ4hh2v8R6x3iiOzJXUOI0WdhUqY/fUHBy1Zj1uBJNPkZh7lbpmxklpwWQiGAZbfSfHV8aM\n",
       "d8hsenEVCE61OQ0+C/1ScSNI3MaIbHiXcw3Xz5Oo/C/+q6h+srr1y3+apaZb/tXg960yn7Oy0//2\n",
       "fxFp8g+V80ZssWnemAAAAABJRU5ErkJggg==\n",
       "\" style=\"display:inline;vertical-align:middle;\" /></a>, <a class=\"ProveItLink\" href=\"../__pv_it/demonstrations/75026a9828ef6056c2238d450cff6cac44f507110/expr.ipynb\"><img src=\"data:image/png;base64,iVBORw0KGgoAAAANSUhEUgAAAD8AAAAWBAMAAACF0lkSAAAAMFBMVEX///9UVFS6urp2dnYiIiKq\n",
       "qqrc3NyYmJgQEBBmZmYyMjKIiIju7u5ERETMzMwAAAC4hZuzAAAAAXRSTlMAQObYZgAAAAlwSFlz\n",
       "AAAOxAAADsQBlSsOGwAAAPhJREFUKM9jYMADOBkIAF4yFRz5e+sAg8UPBYQCvjuoKq4yCTDw/EEy\n",
       "gXsBqgKRBHMGhgaGuXdv3L1bgM0O0QtcCQwOmG7gvuLiBWaIVbMtwKKAafUBKEuM8cFmZAWn94Kp\n",
       "LJg8gxjDBV4FJAUTOMAuWcaAUPCSx8cBHpLsCfwBIHoBkgL2gNgGJNvjQYbztbi4uPhCFTDIMCIr\n",
       "mAIieC4gmcBwkMcBSYEzmHRAVsC3AaGege0TmNoNF7gHxPuQFLB/AFNcATABV5AHkIKfEaKYR1YH\n",
       "wn/yAyjAg6SAYwM0KG2hQY0KGAPqD+BNNe8DXPEnK86dCnjlAb2POKMKMbyjAAAAAElFTkSuQmCC\n",
       "\" style=\"display:inline;vertical-align:middle;\" /></a>, <a class=\"ProveItLink\" href=\"../__pv_it/demonstrations/932f704789037247f30ad02e6c8f267e6cfb2e4c0/expr.ipynb\"><img src=\"data:image/png;base64,iVBORw0KGgoAAAANSUhEUgAAAFAAAAAVBAMAAAAjqnRBAAAAMFBMVEX///9UVFREREQiIiKYmJgQ\n",
       "EBAyMjJmZmaqqqru7u7MzMyIiIi6urp2dnbc3NwAAAC+adfGAAAAAXRSTlMAQObYZgAAAAlwSFlz\n",
       "AAAOxAAADsQBlSsOGwAAAX5JREFUKM+Fkz9IAzEUxj/bq+1dvHq7CAVdBJFCQdfaza2Dk4vdVMRy\n",
       "qKNDN0EUThcFlzoUBxHOOkhFpIPVQcTQQRw6nC5WQdTRzSRNz2uQ+iCEl/zy/nxJ4EGagb9NWz06\n",
       "IZNFNNoLoaKKxOvji29Uq6UjFrEkSICYrYL1aex+2a+n6K9GqQRNNpIKF72gQMbGAEoIFyS4z8aj\n",
       "Ah6GHKDHxgzK+DAkuMHGswTKqVSOzyMhXqcb/2QxM6YEWRL0tgS4rsgDiRcx9VnI46nCQP3MBSU5\n",
       "xKhodaHds3XcUUkDZiyrp8m37Ka3LaxBrxSwGU1qHrLAmgB9Fe1bBXQiLlOHqXjA/VKKWULU+K6A\n",
       "uPdM6C6wxf0df0d03QGuoAmTaZbnftjfueE6ohoAlzGFTVaUSEjcjpshiQBY86jGDpoFsTDvh3xY\n",
       "cvbmgqmNweHL36Tbo47/emYnvCAIQ8Ralyt3Q60rVIyDRMQYQ1dryEcGPfc/SES76e7guf8VunM/\n",
       "h/FjgTPyFT0AAAAASUVORK5CYII=\n",
       "\" style=\"display:inline;vertical-align:middle;\" /></a>, <a class=\"ProveItLink\" href=\"../__pv_it/demonstrations/9776b868029321ad4d7f2b3c1f048f5554e92b8f0/expr.ipynb\"><img src=\"data:image/png;base64,iVBORw0KGgoAAAANSUhEUgAAADQAAAAUBAMAAAAw+gPuAAAAMFBMVEX///8yMjJmZmaIiIjMzMzc\n",
       "3Nx2dnZUVFQQEBCYmJi6urru7u5EREQiIiKqqqoAAAAmNEGZAAAAAXRSTlMAQObYZgAAAAlwSFlz\n",
       "AAAOxAAADsQBlSsOGwAAAM9JREFUKM9jYMACWHMuCockYJNhyOlk2PRdAZsMkxVQxxysUk48GxgY\n",
       "2FGkbO7eFQDRp3lA9hkgySy0hjIOBEEZb/9sYFgNUiYNc1+BG4TB2Z5bwAByKGMAVIolYSWEEcPA\n",
       "cITlAUgK7iuFxRAG0ILNbCCGx10gOAC2KwxuP1swiNwD54NdCJXKBpG8cP4ikL8YFoClwL5jNkAJ\n",
       "DWaw2UwOYBE5uLZEsQ37hMAsdojA9lMb4CHffykAWYph2VlIQCEBZwacwAq3VAFuqQDswgBkzi1X\n",
       "2dcTkQAAAABJRU5ErkJggg==\n",
       "\" style=\"display:inline;vertical-align:middle;\" /></a> <a class=\"ProveItLink\" href=\"../__pv_it/demonstrations/24ea4820ad7f139ddc5b3a3f28abfb348bab06ce0/proof.ipynb\" style=\"text-decoration: none\">&nbsp;&#x22A2;&nbsp;&nbsp;</a><a class=\"ProveItLink\" href=\"../__pv_it/demonstrations/b7c08e3b2c37503886dbc4793f0f407a568510d00/expr.ipynb\"><img src=\"data:image/png;base64,iVBORw0KGgoAAAANSUhEUgAABDMAAABMBAMAAACCIuGPAAAAMFBMVEX////c3Nx2dnZERESIiIgi\n",
       "IiLMzMyYmJju7u4QEBCqqqpUVFRmZma6uroyMjIAAADVePneAAAAAXRSTlMAQObYZgAAAAlwSFlz\n",
       "AAAOxAAADsQBlSsOGwAAESZJREFUeNrtnQuQHEUZx799zz5vBSMSH1kxlOGhOUrEWFCVlQrPRO6U\n",
       "AqJA3VmiVkC55eWiJGSEVEUKzF0wvCJUVstQYoK3BoVQKLdAQqwgZBVCQaWKOwojUSCXd468xv56\n",
       "enpePXMz99jdYrerOHanZ3e//vevu7/+unsCgOkDcElRRVHK0CgpQqwZx8enyG65merEGtujKIcb\n",
       "RjnoUpRdfjVKudZ8dE+xWG2Y8sWKxYFxfDzoWtSXJtjYni8UFzUOGsXibbv8avSYa1OK7obGSovH\n",
       "8+EHXPISD040GtnGUi62y6dG0gPQPGgMutTWXYUWGmaNkkNNhEay3TnvWWihYdaop9pEaAQOORf0\n",
       "aAsNi0Y7oYnQgK84z0+GWmiYNUocbSo0evJOOf3VFhpmjTKdTYVGqM8pZzu00DBr5NyMPpJoJJyc\n",
       "jei+FhoWjQbkpkIDjjn55SMtNMwaSXuhudAY6BZf721voWHWKHaoydAYzDl8bamFhlmj0EiTodHm\n",
       "4IfOlltomDXq7WwyNEIHhJel/dBCw6zR4lyToRHeI5ZtTwsNi0YD1SZDIyqeoiSPttCwaLQKmgwN\n",
       "EG8Fiu9qoWHWKLC/6dAYFvaT0zpbaJg1SuxtOjS25EVX+9tbaJg1Su1pOjQWCzcBbsm10DBrlDnU\n",
       "dGj0CAMbw6UWGmaN4geaDo1eoUCrultomDVqG5kINIYVPe1rdDTahAVS5LqgkTEop+QbBg3UaNqu\n",
       "iUCjX1HbnPSZuas+bHQ0IqIIRkCBuqCRUFi3/fPXnlb6GgYN1Ki/cyLQSCr8a2JdpQZHI3NQVEX7\n",
       "64MGDOg/fMuhhkEDNeoYmhBfo0s/pZVqb3A0kqJJWfhYndCIGI4GvtAwaKBGM7WK5KXIjgWNHkU/\n",
       "w/GcP3sD3m/NitHgFkedvtr0GynRYcPgXqfyezNKKKEXNKKK3omlsmP9aW8iczR0PbrFtqNGA4zZ\n",
       "AG/rXxwLGmFFvyvmr3wXe7/1NTEa3OKQZZZxPK94GgD99PYzzBQYm4nGS9jPeBh45dLsa/yNTUJP\n",
       "M5QORb/L3xkpH6am8yY0gjwgfJbYdtRodoXdXBoXGjB7LGP18zPIIJ+DO+9zv43nq1roaASm/0Pm\n",
       "FofJd1XMHzzVjEYuvZ6+EY0doSPsxW/tecfN+7uDZUHYJvMKskvoCY2QMoYQfeokGU2Vvub+WT3/\n",
       "YhEahJe1YttRo2GmZgTGh8ZdSsV3+YJPrgRYRl68P8qNPH+HGY0TIFbWS0P+swjVaUbjDAaYiOIM\n",
       "Q0Oy+16BAtzmVK1ZzSihhJ7QkFYd8Y/GaQtK1NTMKKrz/IwsQCPHjbbajhoN59Qra8eJRlrx717H\n",
       "H58FsIm8GO2jPH+hCQ0pD4lObvESYzehzjoqZjTmsgFPiAbzTVP2Pp188WqnLr2sGSWU0FvIa1Dx\n",
       "P6db+apMTW0b5aM8P1axo0H007oLq+2oUVfONOaMGQ2Y+aHvmNEgfoLM5dOjhN30/LhsRIMMIUm9\n",
       "13jU6FxYXA9Vil5Vhpgo8hJhaMTtWUTAZ5xa/CHNKKGE3tAIKr5P6FNF4pqEo0lM04N2NBLd3Mmw\n",
       "2o4adeWt/egY0cgoQ34LeDIWknwqOMpgq+dnChY0tuq+BjKeMdXFMjCjwbbBJkTRrQgL4r4lQiM9\n",
       "39HFkplRQgk9BsqHfU+cqSJvMQlHk1hN79rRwCEY3hbajhqtUssVJv/7Afm1vbKaF5z+ok80pFV+\n",
       "d9Dddt9fSQdOajTz53mu/aKeT58KwtF4/fhnd6ilkeblIRceQp+WFKtrFqQRmQuI8d2QHp6lSpHY\n",
       "vNcZjTibQj6Pf06aZ5jqpL979k69ba4mCr3B363FpXz2qBKrhN7RuEvJ+YxPPH1lRTX1vTmbXe/U\n",
       "80+zoLFkA0HjEuZ222xHjVg8At2QCkTf3ZajeYGr4a7sVF9o8GC597SP9QO9OyTX31DzMWgRGzKi\n",
       "kYv95HIVjWCiTyqER1TH86frrlQbBHmTArh+0ToVjdvZaaw0QyN1GU1qxbYd1BvXlKq0PFDSZyHF\n",
       "7/OSxX59chl4RcaG8FxTbEgkoQ80eLDcc2rLq6ZKx+Ret99g+d209GY0co/BUuiQVQfUZjtqxFyg\n",
       "bXTkSQKUaV48B6HKhf7QSPkdMgMoSIT8fr9MKFnqPB7RfIiQAlKvU0dDLTCxeGqqM5ZFt+VlOnqG\n",
       "uq/F4pWpA1ImxUI0Aruhv1sNMgkG6Dbm6n6H/HcvwDlhWUdDq3zVmTkryqmZlk0cYEbZJPSBBmzx\n",
       "66dN61ZNTYwQSqTbnaEboRRhA1ptRiNQ2gg3oLuSqopsR42KqlEvUwluRXYwbwvxf4dY45Bu9Whv\n",
       "l8811wQaGieWvQLSnugcZ4cD8xmmu+iUlU9QYFBFQ47ng2g7XEc6R5nkoO1Y6BzESFEoGsl26KFo\n",
       "SEVRH81K+Qj5HOkJXgnSNscmKGn82V7kgzSXJXrWExA9wIyySYhpqccaj/hdc+3XTB2C3tw15zk3\n",
       "V8xnmKrTcA0NCVYQcUinGi2LbEeNFHWGewHNy6PcmPcr8vZe2V+v4Xt3JfWlEI33IX1Ia3visEaa\n",
       "tel0n6HXSJOKvoh5ToPZIEWFBaw+l2cDaA591SUUjbYClcep1zjK0YgT/+GUGfjmKurRkG/Cn41o\n",
       "wcGP86yDFIt0n0hCP71GwG+88GRmaqYCgyXHqbWWT9OblgElvZuIswRU98xmO2rEBpRlOCwTrZPU\n",
       "D8FGGjwEPtG4yOcKQAh5zZRQYdJQXdCg+UvQnzINKNh6z2ZobISpEJSZv038SJm53RWs2fUUjd5u\n",
       "dfghxRb5Gqy4/wPazmbqfnGOWcqJnsFH8gN0qGGWmyX0hUZ4uU80zmamEtxJB++MBs2XqBNvGVAg\n",
       "1UncqRlsUmezHTVaVdLCeqlCCqQn1dkL8cmCfT7RSPv1peLYtEPkz1F8wBoKLNlvwjqm+ZU/Ytna\n",
       "DWhkiG3LGRovkN7wcX0p4HRg0c9NBI67u9VeoxvFNLihZmMYGmdSPeEUPYdU/gJjFQf1AOQBSnas\n",
       "XSShHzQG/TrwKzRTq/iMvtVMJ4sLCiw/lcCh8CYrGu0xOVFloSCb7ahRlzr8YLey85IfbqyqeS8B\n",
       "3Lir2x8aPX5jetSXwpnfU3CO2vZwOKejOB3X+TvMl2Ss7lTegMbdBdhaZWi8mc3FqvpSwIvackjm\n",
       "3/9ZeLU6jw/mE2VnNCIH+RwvVYbYTL6IKz0F6atN47dej9NhjWaUTUIfaET9BpKpA4+mJguhCkWD\n",
       "q0Zf8Hc0/xcU5g3WAWV5EBZpAWSb7QY0cKIX69qfYzGP4PQiPJ/3F9dY4TduQ32pNPnhe7DHQzQi\n",
       "89koTsd1+ucymeXTaWUka0Dj0d+dm9eiNNF1X/26YSmgzKeTtyjf0kI808+F0dHYisPRBYXUdO4s\n",
       "XztnuunOpKEDmZPTjLJJ6Ceu4dMJVR14NFXasJmNFagTFewqzRNCMdV8GpP7pjXkdd3nb86Cts5k\n",
       "tR01GmZoIDybxhUNrfhFQ3227+VacdHG39tV4D0lmjHFuIaSMwbw1BnlWhMa2IeoayJB46mkhChQ\n",
       "rm39ilj79qD1zqT1whRwktAjGu/7VU59PDQ3dbVJJ564mG3EjECnLRp6LRWjIrQdNZqd5xN2uH88\n",
       "aHzZL/lldeRfaETDHhXkNRPt06wXoqHGIdjaalQtFHoe8W4bGsI1lBCbeccqo6FxjfXCJnCS0Bsa\n",
       "Ib/b4tZkSiZTV4vMNOizAFgTMaNxIfMyRLajRrPZF2RkbX4+NjRS+jJDwttcftYQGGwLfOkInTtZ\n",
       "0xLuxZc1L3OxHtbQ0QgalwLCjIQdwOarJjSEi/IhLcx/hpMBWvqGdeDXatYuoTc0NuoN3pu7duky\n",
       "k6nHDW8QmGnQZy6rewsaOcM6k9V21GiAoRfLQ7hzHGj8VFfhZ97WAeapn5AMbUawP4yvkeOAGZIN\n",
       "aKS7Tb2GthRg7PNvBjjPjoZwK09S2zRxpyXjdeud1rNvIa1m7RJ6QiOmz1xj3tC4+Tm7qfa9BLqY\n",
       "6KXNsqORZ9EYke2o0RatpO0QULU+fyxoGGauCZ9b5k/wdNcH2CveAMYBhSducUhryPr7T6iNwOhB\n",
       "pEQbAPmG0cBom/Cs1X0Df2WT0BMahpnrYz4nKp72C2ZeJxUSy5rQ0PVoF9uOGnWMOtB5QmMa513a\n",
       "4tsf9ZI26Hvwxr2jXLSrKrx3Eoz2gobhydj3HJkM5VLz+IDlY0c5MaV/aCLQ0GeuUwd8L8D6TeNF\n",
       "IyRa60nU67ABn7kG1vhegPWbvKOBGvX0TQQamWM7afq2oij7ocHREJ4Aj35YJzSGVeW2ryLSdTYM\n",
       "GqhR74QcbNxiOLh5sNHREJ4Al+p0sDFlPPNaaBg0UKO23ROBRk3TuE/KC7eiKtn69Bq1TD5Oyo84\n",
       "nA3+aKMhHkO7qi00zBolDzYdGouFnvdAoYWGWaPwkaZDY2ZOdLWj0kLDrFH0WNOhMbskrMahFhoW\n",
       "jZSmQ6NLFl1taz031KpRV3YC0EiZ3v3G7dZ8vdGQxBGMyO76oGEaxxJuHwjXDg1Vo5kFL2hcL4in\n",
       "G65pixenz3mOGFCNviP4mndEFNUBjYT43/IOHpwcNNy0wMREDG7A5cZFrkJXaoaGqtFg2QsaSYHr\n",
       "ZrjG0HgrCydm4W6AdYLvYdfSuTqjkRRvt0sfnqRew0ULHY302xBYDlLZVeh/1QwNVaN4nxc01B0x\n",
       "5mS4pqKBu3FS7Xio4X7B92jXdtQZDaeHkT80SWi4acHRwN04L+DJGTehM3Kt0FA1Sh3wgkbPnPX2\n",
       "guvXVDRwHzD59U6I7ptrKwW/dmqd0ehx6Ca3dE/OgOKmhYYG3Qe8GDezugkdLNUKDVWj9B4vaJwn\n",
       "z7NlGK6paOA/vB3sCwxBeH7YNi7ya2vrjEaHg8CDuUlBw1ULDQ36b7efAp91FzpRqRUaTKOHvKBx\n",
       "JtwOx1vox2vwJwMaD2OnV063QygfGwrMMt+N1yBJtHq1zmj816kT7ZsUNFy10NCIY6W/h9K4CZ1u\n",
       "rxUaTKOOqgc0HoGXolstFj/C9oRzNFZQNRJliFdT5R9bnkmB1+iL79UXjahTLxk+OilouGrB0chT\n",
       "nde4Cx2tFRqaRm1lD2iMwEqIWCzGa8WKAY1z4A24AgvQJsdLYJEDr8UW1n9Acf7nXA9PChquWmho\n",
       "hCppOVLAVuMmdM0GFE2j4IgHNObH2tFiKQd38D/kWuCTQwY0TjxhyfUFPO4SkW8ClEO//Q567WO4\n",
       "f3lOfdHodWwJM+XJQEPT4g6DGlwL7oYuv/X8d+mZKia0frtB6HC+RmhoGkl7PKDxo3OxkBBdCQuy\n",
       "0eX4ZyW9FssZ0Ag8MXd9APfARzfkqBz67QtK9NqNYN/NX2M0OhwDjr25yUBD04IosJypoWvBJ6+f\n",
       "OvMZOYsHL5jQ+u0GoUPZGqHBNeqQR0cDE1qsnzFRXyWrxpAXpMtLeWRmPhhvV13ev5kPF9QDjYcd\n",
       "c8Ijk4EG16Jk10JHA2CbVNDCgXRAKdmFvrNWIS+uUTznCY3oRZuNJw/VVxEwoRE4PF97nPI1D5cM\n",
       "t7Nzd51AH3VQRzTc6v/eyUIDtdBPHupaGNGY9heZPcObCq3frgs9o0Zo6BoldnvrNTAVzK8uXmtG\n",
       "A7ZXTUXgt9PzMuE/VICezq4jGr0uS0b92cnqNcB4YkjXwohGBo/j6+0mZhc6Vq0RGgaNnvCOhiWt\n",
       "ZR2O+RH0ksPdCXxmnVxfNNzKmmyfRDREWmAy3yK7CC1BjdAwaBQpjBWNuqTxoJF2fRTdFbVDoy7J\n",
       "GxpGjaKuekUVRSk3TOkixJrxfNy1U14wwdPXHkU53DhgdCnKLt8a/dPtTqlYLFYbB3xizTg+/kv3\n",
       "9jLBrXxpsbiocdAgyhV8aPR/E6C447ANTBMAAAAASUVORK5CYII=\n",
       "\" style=\"display:inline;vertical-align:middle;\" /></a></span>"
      ],
      "text/plain": [
       "{delta in Complex, m in NaturalPos, beta in Complex, n in NaturalPos, alpha in Complex, |varphi〉 in Complex^{n}, forall_{b_{1}, ..b_{_a}.., b_{j} | Q(b_{1}, ..b_{_a}.., b_{j})} (f(b_{1}, ..b_{_a}.., b_{j}) in Complex^{n x m}), j in NaturalPos, |psi〉 in Complex^{m}, gamma in Complex} |- (〈varphi| . alpha . [Sum_{b_{1}, ..b_{_a}.., b_{j} | Q(b_{1}, ..b_{_a}.., b_{j})} f(b_{1}, ..b_{_a}.., b_{j})] . beta . |psi〉 . gamma . 〈varphi| . delta) = ((alpha * beta * gamma * delta) . 〈varphi| . [Sum_{b_{1}, ..b_{_a}.., b_{j} | Q(b_{1}, ..b_{_a}.., b_{j})} f(b_{1}, ..b_{_a}.., b_{j})] . |psi〉 . 〈varphi|)"
      ]
     },
     "execution_count": 60,
     "metadata": {},
     "output_type": "execute_result"
    }
   ],
   "source": [
    "qmult4.simplification()"
   ]
  },
  {
   "cell_type": "code",
   "execution_count": 61,
   "metadata": {},
   "outputs": [],
   "source": [
    "%end demonstrations"
   ]
  }
 ],
 "metadata": {
  "kernelspec": {
   "display_name": "Python 3",
   "language": "python",
   "name": "python3"
  },
  "language_info": {
   "codemirror_mode": {
    "name": "ipython",
    "version": 3
   },
   "file_extension": ".py",
   "mimetype": "text/x-python",
   "name": "python",
   "nbconvert_exporter": "python",
   "pygments_lexer": "ipython3",
   "version": "3.7.4"
  }
 },
 "nbformat": 4,
 "nbformat_minor": 1
}