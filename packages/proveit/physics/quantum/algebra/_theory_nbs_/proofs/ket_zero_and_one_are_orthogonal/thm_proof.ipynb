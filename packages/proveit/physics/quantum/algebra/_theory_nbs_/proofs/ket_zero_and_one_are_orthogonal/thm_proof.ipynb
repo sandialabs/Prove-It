{
 "cells": [
  {
   "cell_type": "markdown",
   "metadata": {},
   "source": [
    "Proof of <a class=\"ProveItLink\" href=\"../../../../../../_theory_nbs_/theory.ipynb\">proveit</a>.<a class=\"ProveItLink\" href=\"../../../../../_theory_nbs_/theory.ipynb\">physics</a>.<a class=\"ProveItLink\" href=\"../../../../_theory_nbs_/theory.ipynb\">quantum</a>.<a class=\"ProveItLink\" href=\"../../theory.ipynb\">algebra</a>.<a class=\"ProveItLink\" href=\"../../theorems.ipynb#ket_zero_and_one_are_orthogonal\">ket_zero_and_one_are_orthogonal</a> theorem\n",
    "========"
   ]
  },
  {
   "cell_type": "code",
   "execution_count": 1,
   "metadata": {},
   "outputs": [],
   "source": [
    "import proveit\n",
    "theory = proveit.Theory() # the theorem's theory"
   ]
  },
  {
   "cell_type": "code",
   "execution_count": 2,
   "metadata": {},
   "outputs": [
    {
     "data": {
      "text/html": [
       "With these <a href=\"allowed_presumptions.txt\">allowed</a>/<a href=\"disallowed_presumptions.txt\">disallowed</a> theorem/theory presumptions (e.g., to avoid circular dependencies), we begin our proof of<br><strong id=\"ket_zero_and_one_are_orthogonal\">ket_zero_and_one_are_orthogonal:</strong> <a class=\"ProveItLink\" href=\"../../../__pv_it/theorems/e084945eab966a3f730955cf70238f286c66aacb0/expr.ipynb\"><img src=\"data:image/png;base64,iVBORw0KGgoAAAANSUhEUgAAAGcAAAAVBAMAAACphe0AAAAAMFBMVEX///8AAAAAAAAAAAAAAAAA\n",
       "AAAAAAAAAAAAAAAAAAAAAAAAAAAAAAAAAAAAAAAAAAAv3aB7AAAAD3RSTlMAInZUiRDNmWbv3US7\n",
       "qzJazP2FAAAACXBIWXMAAA7EAAAOxAGVKw4bAAABuUlEQVQ4y3WUP0gcQRSHP91bb+8816tDwLPS\n",
       "JmGLoKWLSWcCVykG5S6EQMoLiISksRNtvD4QFEkTEMReckmdBMukkavT+O/OWPre7Hoys3cPZvkx\n",
       "zDfvzW/mLVAG2phQOZRIM1VmQAxHsrCV6AUZucNE/5ZxNAh6ogsjcvPv7qHwC8zqhhuZ5c+mJL1f\n",
       "F1WE17ws30Gr610zB29cZiTy9yCvm80S7JJr9TINd0122HShbXgOhaT+0gle14LMOQtVB/oFc1Vm\n",
       "MCWONwivLIhXWo17qP9wFrGWnLcm0I0NGYdObMZXaIO3iQ8TMeGlDakTgdrEh68aB3qJHYEq7Is8\n",
       "TqCODeVFeE07k4FiPon8CLWYUSdTKKWF5055An2rGGgaNcJzjPBiGG1mjZiLTHmLUGoR2JYzIlfv\n",
       "7dpn4ifsVPkhqlQmaJKv29BDNaLlZNqCdXiRFrLPcrsH5S5EPFUzYgcqRv5n+KdSiliaP+092LG/\n",
       "13/MJMVDB/LXHknPFNvppm5reA35POjfGUEjLd+FStqB7wf003c1qpqFFrlvzkysaLpKFpq+y9Yv\n",
       "hhRI3+Vjfb3p/0KnJvsjt9REedZsMCE8AAAAAElFTkSuQmCC\n",
       "\" style=\"display:inline;vertical-align:middle;\" /></a><br>(see <a class=\"ProveItLink\" href=\"../../../__pv_it/theorems/0b5d75805da846001c43ff4e6abfb3b84d5adfbd0/dependencies.ipynb\">dependencies</a>)<br>"
      ],
      "text/plain": [
       "<IPython.core.display.HTML object>"
      ]
     },
     "metadata": {},
     "output_type": "display_data"
    }
   ],
   "source": [
    "%proving ket_zero_and_one_are_orthogonal"
   ]
  },
  {
   "cell_type": "code",
   "execution_count": null,
   "metadata": {},
   "outputs": [],
   "source": []
  }
 ],
 "metadata": {
  "kernelspec": {
   "display_name": "Python 3",
   "language": "python",
   "name": "python3"
  }
 },
 "nbformat": 4,
 "nbformat_minor": 0
}