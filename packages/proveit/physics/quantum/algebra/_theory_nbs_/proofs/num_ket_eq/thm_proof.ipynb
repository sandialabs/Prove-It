{
 "cells": [
  {
   "cell_type": "markdown",
   "metadata": {},
   "source": [
    "Proof of <a class=\"ProveItLink\" href=\"../../../../../../_theory_nbs_/theory.ipynb\">proveit</a>.<a class=\"ProveItLink\" href=\"../../../../../_theory_nbs_/theory.ipynb\">physics</a>.<a class=\"ProveItLink\" href=\"../../../../_theory_nbs_/theory.ipynb\">quantum</a>.<a class=\"ProveItLink\" href=\"../../theory.ipynb\">algebra</a>.<a class=\"ProveItLink\" href=\"../../theorems.ipynb#num_ket_eq\">num_ket_eq</a> theorem\n",
    "========"
   ]
  },
  {
   "cell_type": "code",
   "execution_count": 1,
   "metadata": {},
   "outputs": [],
   "source": [
    "import proveit\n",
    "from proveit import defaults\n",
    "theory = proveit.Theory() # the theorem's theory"
   ]
  },
  {
   "cell_type": "code",
   "execution_count": 2,
   "metadata": {},
   "outputs": [
    {
     "data": {
      "text/html": [
       "With these <a href=\"allowed_presumptions.txt\">allowed</a>/<a href=\"disallowed_presumptions.txt\">disallowed</a> theorem/theory presumptions (e.g., to avoid circular dependencies), we begin our proof of<br><strong id=\"num_ket_eq\">num_ket_eq:</strong> <a class=\"ProveItLink\" href=\"../../../__pv_it/theorems/703b7c9ad567f6c70462bd512cd90a3d53e437200/expr.ipynb\"><img src=\"data:image/png;base64,iVBORw0KGgoAAAANSUhEUgAAAP4AAAAZBAMAAADj+Y5YAAAAMFBMVEX///8AAAAAAAAAAAAAAAAA\n",
       "AAAAAAAAAAAAAAAAAAAAAAAAAAAAAAAAAAAAAAAAAAAv3aB7AAAAD3RSTlMAq1RmmUTNIjK7EInv\n",
       "3XZ/CtNrAAAACXBIWXMAAA7EAAAOxAGVKw4bAAADRklEQVRIx72WTWgTQRTHXzabZLNp0sWevJSg\n",
       "RUQPLlihXjTYCuJHiTeRIgGVgqf14EGpJvUgCCoFD34cZEEQ6qHG2t6DRSpIJfagvaRUDW1RKCUX\n",
       "S0/O5+7sTmZ7afsvTWb/m5nf7sx7bwZAUqzxA3ZHucZ8GzcJu6ej28R30B9RRfkDKiPobBM/l4dp\n",
       "2nqu+AW7DWnvAa9QvoW/9of4shmtwwzw0O1R88fn0LdW8J7ZJvzTuD0c4stmpMwS4y9DNuL9r+FG\n",
       "3bNuEP4o+kyNhfiyGSnd9iY4k1fzW7gx6Vm9hJ90w50QXzYj1eEvsOqp0e3EJm7c9nu5mB+3wxGH\n",
       "rmQzUgeEABtW8jM1MrrjcWwS/3ONxhcp/iUzUucowFyzSCgq+ElLm3JBq3IrYxH+GYCXEp+ZhrjI\n",
       "oMzwqxSgwwwEAvBCA+sb47+z943YQgDGS4R/E1KWxGdmFsHiiyxz2e0F3n3R6zFPASs4wvSi6v2P\n",
       "3Mo/cFhuYWk1wk+7maLEF81PQT6EfNZCAFdDEWZYKv75PtIa5ZaxTvjaUlKuf4KZWm/P577PBx3N\n",
       "rb++Yf73gQqrVVQJ+v5QOoEms/9JM1B/sQkTp/A8j92r+nyzydOS+/78Q7ZK4ru3b60gr7/ZSmzQ\n",
       "BGEwrU75k6gQvR6yOxyRj00o4MSKrRya9fm6VtJfID31fKRXjF8u4vw2j83ArPz+8U2zlSMFgsHi\n",
       "Y5Q/glbszjJ0uiIfm6Y7hcvELxrylP82wws495HeM/5JUt9SEyXYlPmxkrmRIWWNwfQq5cfwMN0w\n",
       "FJh/YpLEKtNl4+uPqwYR95EeM/5eWt9jS4mazE/nofmH5ieFZYvC/vsZBgx5//2H/o8n6o7A73TY\n",
       "/HOfpSnmf6X7W0dFL1QU+y/0eLC7wv6PgnnhoMQ3amYVuo26EH/wiN/kPg7FAgbsiaNZT6NnKkP2\n",
       "vpL/zIP1C/yEBX9tiZ+zjI+oQ5ew/vDTH6irIgw6bbSyKDXeoKuLkPugOn/grZrCyE4Vff5Ba615\n",
       "F2m/1koax4BBXNl+b3H+ydneeM5W/Otori8H+clLtXajp5ZglbYsBX+VH649Z2XL89/gWQA7yNeb\n",
       "7s6ff9uf/1M7cf6f+Q8zx+YsRiIgUgAAAABJRU5ErkJggg==\n",
       "\" style=\"display:inline;vertical-align:middle;\" /></a><br>(see <a class=\"ProveItLink\" href=\"../../../__pv_it/theorems/4662719190fd2d93ee8c8a18bd118e5169341c120/dependencies.ipynb\">dependencies</a>)<br>"
      ],
      "text/plain": [
       "<IPython.core.display.HTML object>"
      ]
     },
     "metadata": {},
     "output_type": "display_data"
    },
    {
     "name": "stdout",
     "output_type": "stream",
     "text": [
      "num_ket_eq may now be readily provable (assuming required theorems are usable).  Simply execute \"%qed\".\n"
     ]
    }
   ],
   "source": [
    "%proving num_ket_eq"
   ]
  },
  {
   "cell_type": "code",
   "execution_count": 3,
   "metadata": {},
   "outputs": [
    {
     "data": {
      "text/html": [
       "<strong id=\"defaults.assumptions\">defaults.assumptions:</strong> <a class=\"ProveItLink\" href=\"../../../__pv_it/_proof_num_ket_eq/4336ba5aabdbba573cc6aaf3682d00a58f607bfa0/expr.ipynb\"><img src=\"data:image/png;base64,iVBORw0KGgoAAAANSUhEUgAAAD0AAAAVBAMAAAAHs/uBAAAAMFBMVEX///8AAAAAAAAAAAAAAAAA\n",
       "AAAAAAAAAAAAAAAAAAAAAAAAAAAAAAAAAAAAAAAAAAAv3aB7AAAAD3RSTlMAInZUiRDNmWbv3US7\n",
       "qzJazP2FAAAACXBIWXMAAA7EAAAOxAGVKw4bAAABEklEQVQoz2NgYBBgwAXAMkwGOOU3gQgTEPEm\n",
       "AE0qZhZIawMDA2sCiKuGoTcdRKQyMLA3YDf7M4hoZ2DgxC7N/RVEcgYwmGGXZ5kAItkaGEqAFKvS\n",
       "BXR5tgvM7gEMLBcYMoAcdoYZIDH2VWAAVhvfYCzZwMCRwLAYyFGEuAYZ2EsbPBNgYJ7AMBvICWD+\n",
       "ii5f2Qci+T6A5RnYF6DLLyt/APLFBLD5DFwOaPazfub+B6SYFzAcAsnIb0DTzvGV9TMTkDrA4Avi\n",
       "9qMbz5vA+o8FaKIDwysQ9w66PI8Bg7oq0N4NDFwgd0zCEcFSQCsKGC5zfMUhXwHEB/k+c+FIIowH\n",
       "QCmBoagah3YeUAJjVMCZvhQZGABODDwsArq+gAAAAABJRU5ErkJggg==\n",
       "\" style=\"display:inline;vertical-align:middle;\" /></a><br>"
      ],
      "text/plain": [
       "<IPython.core.display.HTML object>"
      ]
     },
     "metadata": {},
     "output_type": "display_data"
    }
   ],
   "source": [
    "defaults.assumptions = num_ket_eq.all_conditions()"
   ]
  },
  {
   "cell_type": "code",
   "execution_count": 4,
   "metadata": {},
   "outputs": [
    {
     "data": {
      "text/html": [
       "<strong id=\"j_eq_k\">j_eq_k:</strong> <a class=\"ProveItLink\" href=\"../../../__pv_it/theorems/6ab22eec04f3d3be448f929a9d4548e477dda92f0/expr.ipynb\"><img src=\"data:image/png;base64,iVBORw0KGgoAAAANSUhEUgAAADIAAAASBAMAAADrvZC0AAAAMFBMVEX///8AAAAAAAAAAAAAAAAA\n",
       "AAAAAAAAAAAAAAAAAAAAAAAAAAAAAAAAAAAAAAAAAAAv3aB7AAAAD3RSTlMAMrsQds2rme9mIlTd\n",
       "iUQmv6lAAAAACXBIWXMAAA7EAAAOxAGVKw4bAAAAoklEQVQY02NgYGBgVGZABcwaByAMlgA0GQbW\n",
       "AgYcgH8DLpn3BrhkbkAoEzcMmTCGvcVAqoBjAohXcwYEjoHd9pN7VyfQZQsw7OP+9ZoxCqiAYT+6\n",
       "feydAhBGDbo1POGFEMZZBjR77De8B2vi+oeuZ76B/QYHIM35AV0mlcFe4AKQZlNAl9FmYCkBuYrD\n",
       "AXtAsG2YjyOQ5DecxhF47O4PsEsAAMEcKLkSHzKEAAAAAElFTkSuQmCC\n",
       "\" style=\"display:inline;vertical-align:middle;\" /></a><br>"
      ],
      "text/plain": [
       "<IPython.core.display.HTML object>"
      ]
     },
     "metadata": {},
     "output_type": "display_data"
    }
   ],
   "source": [
    "j_eq_k = defaults.assumptions[0]"
   ]
  },
  {
   "cell_type": "code",
   "execution_count": 5,
   "metadata": {},
   "outputs": [
    {
     "data": {
      "text/html": [
       "<strong id=\"j_ket\">j_ket:</strong> <a class=\"ProveItLink\" href=\"../../../__pv_it/theorems/9f7c43c4976c3f38bac6d78dd6e8ba5f97c214330/expr.ipynb\"><img src=\"data:image/png;base64,iVBORw0KGgoAAAANSUhEUgAAACAAAAAVBAMAAADV4/HZAAAAMFBMVEX///8AAAAAAAAAAAAAAAAA\n",
       "AAAAAAAAAAAAAAAAAAAAAAAAAAAAAAAAAAAAAAAAAAAv3aB7AAAAD3RSTlMAIolEdjK7EM2rme9m\n",
       "VN012POtAAAACXBIWXMAAA7EAAAOxAGVKw4bAAAAu0lEQVQY02MQYAADVgYYUIZQbAEoAmEFvAtQ\n",
       "BDwYGB6gaWHQRRcQQxfgEEAIsLtMYGDgVUAIcDHsYUCYChRwZPgLZCxGCBTwfgcyIpEM5QIpv4Qk\n",
       "wAcysJGBZ02IF0RA3oCBgTGBocb6ALcAWOA8EDNdYBD3YOAvAAtMA2kD4ikM1hAtW4D4FhBvZVjF\n",
       "ChSYywOyNRFozAeGp1cZlFn/8l0AOr+BgYF5AoPTAaCKJSA3shyA+dYVQnHC+ACqOCQ/+9JrygAA\n",
       "AABJRU5ErkJggg==\n",
       "\" style=\"display:inline;vertical-align:middle;\" /></a><br>"
      ],
      "text/plain": [
       "<IPython.core.display.HTML object>"
      ]
     },
     "metadata": {},
     "output_type": "display_data"
    }
   ],
   "source": [
    "j_ket = num_ket_eq.instance_expr.instance_expr.lhs"
   ]
  },
  {
   "cell_type": "code",
   "execution_count": 6,
   "metadata": {},
   "outputs": [
    {
     "data": {
      "text/html": [
       "<span style=\"font-size:20px;\"><a class=\"ProveItLink\" href=\"../../../__pv_it/theorems/6ab22eec04f3d3be448f929a9d4548e477dda92f0/expr.ipynb\"><img src=\"data:image/png;base64,iVBORw0KGgoAAAANSUhEUgAAADIAAAASBAMAAADrvZC0AAAAMFBMVEX///8AAAAAAAAAAAAAAAAA\n",
       "AAAAAAAAAAAAAAAAAAAAAAAAAAAAAAAAAAAAAAAAAAAv3aB7AAAAD3RSTlMAMrsQds2rme9mIlTd\n",
       "iUQmv6lAAAAACXBIWXMAAA7EAAAOxAGVKw4bAAAAoklEQVQY02NgYGBgVGZABcwaByAMlgA0GQbW\n",
       "AgYcgH8DLpn3BrhkbkAoEzcMmTCGvcVAqoBjAohXcwYEjoHd9pN7VyfQZQsw7OP+9ZoxCqiAYT+6\n",
       "feydAhBGDbo1POGFEMZZBjR77De8B2vi+oeuZ76B/QYHIM35AV0mlcFe4AKQZlNAl9FmYCkBuYrD\n",
       "AXtAsG2YjyOQ5DecxhF47O4PsEsAAMEcKLkSHzKEAAAAAElFTkSuQmCC\n",
       "\" style=\"display:inline;vertical-align:middle;\" /></a> <a class=\"ProveItLink\" href=\"../../../__pv_it/_proof_num_ket_eq/fe27817acda8a4fb2de70e261620e8569a4a89d30/proof.ipynb\" style=\"text-decoration: none\">&nbsp;&#x22A2;&nbsp;&nbsp;</a><a class=\"ProveItLink\" href=\"../../../__pv_it/theorems/51ddc7b0ea46c62bba19649d6a324d650a0abd510/expr.ipynb\"><img src=\"data:image/png;base64,iVBORw0KGgoAAAANSUhEUgAAAGAAAAAVBAMAAABLWfZ5AAAAMFBMVEX///8AAAAAAAAAAAAAAAAA\n",
       "AAAAAAAAAAAAAAAAAAAAAAAAAAAAAAAAAAAAAAAAAAAv3aB7AAAAD3RSTlMAIolEdjK7EM2rme9m\n",
       "VN012POtAAAACXBIWXMAAA7EAAAOxAGVKw4bAAABT0lEQVQ4y2MQYAADVgbsgJEBXV4ZQrEFYNfA\n",
       "ZIAuD9YQVsC7AKcG9uwHDAwIebAGDwaGB7ht4AApfoDmJAZd3Br4LyDLwzSI4dZgX4AsD9PAIYBT\n",
       "gzaKPFADu8sEoK8UcGroZLi0HCEP1MDFsIcBxdfr3oHAS1go/eG9uAchD9TgyPAXyFiMywbej7as\n",
       "jQh5oIYC3u9ARiQuDVx7wJEWieRpLpB1l3Bp4OtayoAkD9LAB/JQIwPPmhAvLH6ov2AfgCQP0iAP\n",
       "DArGBIYa6wPcApg2nC+ov+CAkAdpOA+SucAg7sHAX4CpYQZDfYACQh6kYRrIWUA8hcEaix9yGViW\n",
       "FCDkQRq2APEtIN7KsIoVR/JGyCszzOUBhWoi0BsfGJ5exaUBLq/M+pcPmBrZGxgYmCcwOB3AoQEh\n",
       "r8ywBBSHLAfw5ziEvCuE4sSRp1kC0OQBWktciibrYyAAAAAASUVORK5CYII=\n",
       "\" style=\"display:inline;vertical-align:middle;\" /></a></span>"
      ],
      "text/plain": [
       "{j = k} |- |j〉_{n} = |k〉_{n}"
      ]
     },
     "metadata": {},
     "output_type": "display_data"
    }
   ],
   "source": [
    "j_eq_k.substitution(j_ket)"
   ]
  },
  {
   "cell_type": "code",
   "execution_count": 7,
   "metadata": {},
   "outputs": [
    {
     "name": "stdout",
     "output_type": "stream",
     "text": [
      "proveit.physics.quantum.algebra.num_ket_eq has been proven.\n"
     ]
    },
    {
     "data": {
      "text/html": [
       "<table><tr><th>&nbsp;</th><th>step type</th><th>requirements</th><th>statement</th></tr>\n",
       "<tr><td><a name=\"-0x364d56c4b666aceb_step0\">0</a></td><td>generalization</td><td><a href=\"#-0x364d56c4b666aceb_step1\">1</a></td><td><span style=\"font-size:20px;\"> <a class=\"ProveItLink\" href=\"../../../__pv_it/_proof_num_ket_eq/6c7f0957c2e92cf066fd73d9ce043a0e58dfa2c80/proof.ipynb\" style=\"text-decoration: none\">&nbsp;&#x22A2;&nbsp;&nbsp;</a><a class=\"ProveItLink\" href=\"../../../__pv_it/theorems/703b7c9ad567f6c70462bd512cd90a3d53e437200/expr.ipynb\"><img src=\"data:image/png;base64,iVBORw0KGgoAAAANSUhEUgAAAP4AAAAZBAMAAADj+Y5YAAAAMFBMVEX///8AAAAAAAAAAAAAAAAA\n",
       "AAAAAAAAAAAAAAAAAAAAAAAAAAAAAAAAAAAAAAAAAAAv3aB7AAAAD3RSTlMAq1RmmUTNIjK7EInv\n",
       "3XZ/CtNrAAAACXBIWXMAAA7EAAAOxAGVKw4bAAADRklEQVRIx72WTWgTQRTHXzabZLNp0sWevJSg\n",
       "RUQPLlihXjTYCuJHiTeRIgGVgqf14EGpJvUgCCoFD34cZEEQ6qHG2t6DRSpIJfagvaRUDW1RKCUX\n",
       "S0/O5+7sTmZ7afsvTWb/m5nf7sx7bwZAUqzxA3ZHucZ8GzcJu6ej28R30B9RRfkDKiPobBM/l4dp\n",
       "2nqu+AW7DWnvAa9QvoW/9of4shmtwwzw0O1R88fn0LdW8J7ZJvzTuD0c4stmpMwS4y9DNuL9r+FG\n",
       "3bNuEP4o+kyNhfiyGSnd9iY4k1fzW7gx6Vm9hJ90w50QXzYj1eEvsOqp0e3EJm7c9nu5mB+3wxGH\n",
       "rmQzUgeEABtW8jM1MrrjcWwS/3ONxhcp/iUzUucowFyzSCgq+ElLm3JBq3IrYxH+GYCXEp+ZhrjI\n",
       "oMzwqxSgwwwEAvBCA+sb47+z943YQgDGS4R/E1KWxGdmFsHiiyxz2e0F3n3R6zFPASs4wvSi6v2P\n",
       "3Mo/cFhuYWk1wk+7maLEF81PQT6EfNZCAFdDEWZYKv75PtIa5ZaxTvjaUlKuf4KZWm/P577PBx3N\n",
       "rb++Yf73gQqrVVQJ+v5QOoEms/9JM1B/sQkTp/A8j92r+nyzydOS+/78Q7ZK4ru3b60gr7/ZSmzQ\n",
       "BGEwrU75k6gQvR6yOxyRj00o4MSKrRya9fm6VtJfID31fKRXjF8u4vw2j83ArPz+8U2zlSMFgsHi\n",
       "Y5Q/glbszjJ0uiIfm6Y7hcvELxrylP82wws495HeM/5JUt9SEyXYlPmxkrmRIWWNwfQq5cfwMN0w\n",
       "FJh/YpLEKtNl4+uPqwYR95EeM/5eWt9jS4mazE/nofmH5ieFZYvC/vsZBgx5//2H/o8n6o7A73TY\n",
       "/HOfpSnmf6X7W0dFL1QU+y/0eLC7wv6PgnnhoMQ3amYVuo26EH/wiN/kPg7FAgbsiaNZT6NnKkP2\n",
       "vpL/zIP1C/yEBX9tiZ+zjI+oQ5ew/vDTH6irIgw6bbSyKDXeoKuLkPugOn/grZrCyE4Vff5Ba615\n",
       "F2m/1koax4BBXNl+b3H+ydneeM5W/Otori8H+clLtXajp5ZglbYsBX+VH649Z2XL89/gWQA7yNeb\n",
       "7s6ff9uf/1M7cf6f+Q8zx+YsRiIgUgAAAABJRU5ErkJggg==\n",
       "\" style=\"display:inline;vertical-align:middle;\" /></a></span></td></tr>\n",
       "<tr><td><a name=\"-0x364d56c4b666aceb_step1\">1</a></td><td>instantiation</td><td><a href=\"#-0x364d56c4b666aceb_step2\">2</a>, <a href=\"#-0x364d56c4b666aceb_step3\">3</a></td><td><span style=\"font-size:20px;\"><a class=\"ProveItLink\" href=\"../../../__pv_it/theorems/6ab22eec04f3d3be448f929a9d4548e477dda92f0/expr.ipynb\"><img src=\"data:image/png;base64,iVBORw0KGgoAAAANSUhEUgAAADIAAAASBAMAAADrvZC0AAAAMFBMVEX///8AAAAAAAAAAAAAAAAA\n",
       "AAAAAAAAAAAAAAAAAAAAAAAAAAAAAAAAAAAAAAAAAAAv3aB7AAAAD3RSTlMAMrsQds2rme9mIlTd\n",
       "iUQmv6lAAAAACXBIWXMAAA7EAAAOxAGVKw4bAAAAoklEQVQY02NgYGBgVGZABcwaByAMlgA0GQbW\n",
       "AgYcgH8DLpn3BrhkbkAoEzcMmTCGvcVAqoBjAohXcwYEjoHd9pN7VyfQZQsw7OP+9ZoxCqiAYT+6\n",
       "feydAhBGDbo1POGFEMZZBjR77De8B2vi+oeuZ76B/QYHIM35AV0mlcFe4AKQZlNAl9FmYCkBuYrD\n",
       "AXtAsG2YjyOQ5DecxhF47O4PsEsAAMEcKLkSHzKEAAAAAElFTkSuQmCC\n",
       "\" style=\"display:inline;vertical-align:middle;\" /></a> <a class=\"ProveItLink\" href=\"../../../__pv_it/_proof_num_ket_eq/fe27817acda8a4fb2de70e261620e8569a4a89d30/proof.ipynb\" style=\"text-decoration: none\">&nbsp;&#x22A2;&nbsp;&nbsp;</a><a class=\"ProveItLink\" href=\"../../../__pv_it/theorems/51ddc7b0ea46c62bba19649d6a324d650a0abd510/expr.ipynb\"><img src=\"data:image/png;base64,iVBORw0KGgoAAAANSUhEUgAAAGAAAAAVBAMAAABLWfZ5AAAAMFBMVEX///8AAAAAAAAAAAAAAAAA\n",
       "AAAAAAAAAAAAAAAAAAAAAAAAAAAAAAAAAAAAAAAAAAAv3aB7AAAAD3RSTlMAIolEdjK7EM2rme9m\n",
       "VN012POtAAAACXBIWXMAAA7EAAAOxAGVKw4bAAABT0lEQVQ4y2MQYAADVgbsgJEBXV4ZQrEFYNfA\n",
       "ZIAuD9YQVsC7AKcG9uwHDAwIebAGDwaGB7ht4AApfoDmJAZd3Br4LyDLwzSI4dZgX4AsD9PAIYBT\n",
       "gzaKPFADu8sEoK8UcGroZLi0HCEP1MDFsIcBxdfr3oHAS1go/eG9uAchD9TgyPAXyFiMywbej7as\n",
       "jQh5oIYC3u9ARiQuDVx7wJEWieRpLpB1l3Bp4OtayoAkD9LAB/JQIwPPmhAvLH6ov2AfgCQP0iAP\n",
       "DArGBIYa6wPcApg2nC+ov+CAkAdpOA+SucAg7sHAX4CpYQZDfYACQh6kYRrIWUA8hcEaix9yGViW\n",
       "FCDkQRq2APEtIN7KsIoVR/JGyCszzOUBhWoi0BsfGJ5exaUBLq/M+pcPmBrZGxgYmCcwOB3AoQEh\n",
       "r8ywBBSHLAfw5ziEvCuE4sSRp1kC0OQBWktciibrYyAAAAAASUVORK5CYII=\n",
       "\" style=\"display:inline;vertical-align:middle;\" /></a></span></td></tr>\n",
       "<tr><td>&nbsp;</td><td colspan=4 style=\"text-align:left\"><span style=\"font-size:20px;\"><a class=\"ProveItLink\" href=\"../../../__pv_it/_proof_num_ket_eq/1fec0eaf1cfb24a7fd0f169d6d2b28f8410bcd7c0/expr.ipynb\"><img src=\"data:image/png;base64,iVBORw0KGgoAAAANSUhEUgAAADYAAAAVBAMAAAD/UwB2AAAAMFBMVEX///8AAAAAAAAAAAAAAAAA\n",
       "AAAAAAAAAAAAAAAAAAAAAAAAAAAAAAAAAAAAAAAAAAAv3aB7AAAAD3RSTlMAmYkQqzLvVES73WZ2\n",
       "Is1wFLxSAAAACXBIWXMAAA7EAAAOxAGVKw4bAAABDUlEQVQoz2NggANeBmSAyjuOwuM4AKYYlQyA\n",
       "JLsCihzDaTCpElYAJO1QpRj4QBoY0jtBlDSaHLcAyOTPYHYCmhxDMhAzLQCx2B+gy70G6nVbAtLN\n",
       "iOSUKzp3QM4AYn6wa/k2IJyfyzAf6IJ9QOb9AJAAVwFczmwDgxSQKgPierAAWwNcTp6BYRGQigdi\n",
       "LXS5TAbmH0CqDYinMKCayfyHgfsDkK4C4hywCOcBuNx3BpYHtQwMO4EB/gMswuQAN3MOQ5UA0FtC\n",
       "QE9/AAuwAkMgciYQXGAwORTrA3T7CqCnoRqWogUL7wKGEj6oIzaiyTFuYFgJixvOC6hyNxkY9sjC\n",
       "nDcBVW4uMucOihTPBQYAeJk0yx5NH1wAAAAASUVORK5CYII=\n",
       "\" style=\"display:inline;vertical-align:middle;\" /></a> : <a class=\"ProveItLink\" href=\"../../../__pv_it/_proof_num_ket_eq/6704ca607e664c7e91104339280dd96ab0b2aa340/expr.ipynb\"><img src=\"data:image/png;base64,iVBORw0KGgoAAAANSUhEUgAAAC4AAAAVBAMAAADLKsFqAAAAMFBMVEX///8AAAAAAAAAAAAAAAAA\n",
       "AAAAAAAAAAAAAAAAAAAAAAAAAAAAAAAAAAAAAAAAAAAv3aB7AAAAD3RSTlMAIolEdjK7q+8QZpnd\n",
       "VM3G58sGAAAACXBIWXMAAA7EAAAOxAGVKw4bAAAAwUlEQVQY02MQYEAGrHCWMoo4WwB2cd4N2MUZ\n",
       "DuAQ18UhLoZDnE8AQ1xcRQRosQK6OHMjQ/4EhMVw8RkLGPYAqc3o4vsZGA4BqXB08TYGzs9A6hKa\n",
       "OOcXBq4PQPohA9euEG8k8b8M7A8uMjAmMMyyWMAhgDAnheHOhg0MTBcYJP0Y+CcAxVnTgCCRYbpT\n",
       "YEkAAw9QRQmDBYZ/bwNxK8NuVnTxRAYGxg8MR6+iiXM+AHq8gMFpAZo4ywIYyxVFnB3GAABStSiv\n",
       "9EVODgAAAABJRU5ErkJggg==\n",
       "\" style=\"display:inline;vertical-align:middle;\" /></a>, <a class=\"ProveItLink\" href=\"../../../../../../__pv_it/common/a0d9d672aa5e272d907247690c152cc2c6daafb70/expr.ipynb\"><img src=\"data:image/png;base64,iVBORw0KGgoAAAANSUhEUgAAAAsAAAAJBAMAAAAWSsseAAAAMFBMVEX///8AAAAAAAAAAAAAAAAA\n",
       "AAAAAAAAAAAAAAAAAAAAAAAAAAAAAAAAAAAAAAAAAAAv3aB7AAAAD3RSTlMAEHarMolUmd1mIs3v\n",
       "RLtmgJDEAAAACXBIWXMAAA7EAAAOxAGVKw4bAAAAQklEQVQI12NgEFIWCU1gYChgMmJvYOBcwPmR\n",
       "eQIDCwP7BgYQ4FEAU/cXMAowyF2wYWBlYMh3rGG4xsAgrsRWmcAAAFEjCyBvD0T9AAAAAElFTkSu\n",
       "QmCC\n",
       "\" style=\"display:inline;vertical-align:middle;\" /></a> : <a class=\"ProveItLink\" href=\"../../../../../../__pv_it/common/1ed21df18baca2f42b561a7ffbf30a2743d594650/expr.ipynb\"><img src=\"data:image/png;base64,iVBORw0KGgoAAAANSUhEUgAAAAoAAAASBAMAAACQmVJ4AAAAMFBMVEX///8AAAAAAAAAAAAAAAAA\n",
       "AAAAAAAAAAAAAAAAAAAAAAAAAAAAAAAAAAAAAAAAAAAv3aB7AAAAD3RSTlMAMrsQds2rme9mIlTd\n",
       "iUQmv6lAAAAACXBIWXMAAA7EAAAOxAGVKw4bAAAATElEQVQI12NgYGBgVAYSDCwBDNiAiRuILOCY\n",
       "AFSxgH8DAwMzw34DkFANWPosiOD6ByI5P4BINgUQyeEAZG2YD1Qov+E0kM/u/oCBAQDY7wxV/Qz6\n",
       "SAAAAABJRU5ErkJggg==\n",
       "\" style=\"display:inline;vertical-align:middle;\" /></a>, <a class=\"ProveItLink\" href=\"../../../../../../__pv_it/common/ff7dba4ef0bbe791ab573bf2d9c220a304399ac80/expr.ipynb\"><img src=\"data:image/png;base64,iVBORw0KGgoAAAANSUhEUgAAAAsAAAANBAMAAACN24kIAAAAMFBMVEX///8AAAAAAAAAAAAAAAAA\n",
       "AAAAAAAAAAAAAAAAAAAAAAAAAAAAAAAAAAAAAAAAAAAv3aB7AAAAD3RSTlMAEHaZZquJVO8y3btE\n",
       "zSKD2s2pAAAACXBIWXMAAA7EAAAOxAGVKw4bAAAAVklEQVQI12NgVHZgEGVgYGNvYPBnYJjOvIAh\n",
       "moFBgEOBoYmBgeG8AOdPIGXLwNQApLYycAcAKVOG8w5ASjTJ/gEDCOQCMdsFxnYgxaXAmgCk2J1s\n",
       "gCQAaFoNDtFIIdEAAAAASUVORK5CYII=\n",
       "\" style=\"display:inline;vertical-align:middle;\" /></a> : <a class=\"ProveItLink\" href=\"../../../../../../__pv_it/common/63b7c64bf9ec7a04ecc396c7a1670f3f12fb59490/expr.ipynb\"><img src=\"data:image/png;base64,iVBORw0KGgoAAAANSUhEUgAAAAoAAAAOBAMAAADkjZCYAAAAMFBMVEX///8AAAAAAAAAAAAAAAAA\n",
       "AAAAAAAAAAAAAAAAAAAAAAAAAAAAAAAAAAAAAAAAAAAv3aB7AAAAD3RSTlMAELvv3c2ZVESJq2Yi\n",
       "MnY6gD36AAAACXBIWXMAAA7EAAAOxAGVKw4bAAAATklEQVQI12NgVHZgAALWBBDJXwAi+wVA5GQQ\n",
       "wRDFUJnIwPibvcaagf1PO28MA5v1BaAwS1gukJQv6Ady9gvIFzxgWMogf2ECgzoDX54AABZPEDeN\n",
       "/qkHAAAAAElFTkSuQmCC\n",
       "\" style=\"display:inline;vertical-align:middle;\" /></a></span></td></tr><tr><td><a name=\"-0x364d56c4b666aceb_step2\">2</a></td><td>axiom</td><td></td><td><span style=\"font-size:20px;\"> <a class=\"ProveItLink\" href=\"../../../../../../logic/equality/_theory_nbs_/axioms.ipynb#substitution\" style=\"text-decoration: none\">&nbsp;&#x22A2;&nbsp;&nbsp;</a><a class=\"ProveItLink\" href=\"../../../../../../logic/equality/__pv_it/axioms/b3647e5bced6c805148d96be1aa0946871a946d20/expr.ipynb\"><img src=\"data:image/png;base64,iVBORw0KGgoAAAANSUhEUgAAAO8AAAAXBAMAAAARnwX+AAAAMFBMVEX///8AAAAAAAAAAAAAAAAA\n",
       "AAAAAAAAAAAAAAAAAAAAAAAAAAAAAAAAAAAAAAAAAAAv3aB7AAAAD3RSTlMAq1RmmUTNIjK7EInv\n",
       "3XZ/CtNrAAAACXBIWXMAAA7EAAAOxAGVKw4bAAAC/UlEQVRIx7VWTWgTURCeJLtpkk3SHDxYLCXi\n",
       "z0VLV1Chl1pp/aOCwYMnMYseBE/rUalYPUrFigexh7IFDxah1B48KJYgCKJUglDwEkixInoovVV6\n",
       "EOfN+9vsS1sT6MDMfvvmy5t5+97MC0Db4pu44z/4fuSnLUu+aGK7vj3/itACe9nXRuBDZEfeaIzy\n",
       "vRmzkZN3uZ5iL9dbj5vxmHV2v1eYSTIwmVHODa732NZMtB7YcpnNHphUmEli0GRGOUe5shydYuuB\n",
       "s2TLgcYkn0xmlJMNSBOYSbKNLT5I9l0Ik1wzmVFO0uW6WKt9biPwCDNHFndJPLv84i1+uFcGUXMy\n",
       "Ky5M4/ctcD0LMLnZ7IObB+ZL+6vwYL7HqgIcp/2vkRSgkePEK3ACz4HH9SZ0MEZm2DVn3+LQfaWG\n",
       "8UfihJ/YiOEMhw2i5tzHzLoAMDxpOnBK6EgfG2sp8Adm4msSp8CienlkEDUnyNbhC1LXuMbrdLY6\n",
       "m1TgtoGdqsZZ6lqXzTLWnHKQwuXbFa7gDbC8uueZe/XMCvZRexliocB8kFqidIhPnS5oXPYzmHuv\n",
       "scchzmnIs89c5QrzrJVAP7UzvyuJR3O2MxjXgWnw3DMUVzkApvQqGZ4pdYMjp2kseMWBx5RFYoIr\n",
       "jFJKw9R4YCqFj9u98EsHFoMQdoi6uVuSuO/Bebgoq6xBNAdOQhnPnzXHFWJ0qp5w2jrZPdAT3uN1\n",
       "NYt0ADxkpk/h56vxIdb/lozAmgPTCxdwz3IlrkI+kk1V6EpdEq8TapB/auXAn47REjTmtVM1Ajdw\n",
       "XqPeESoumw2AlzDqeBY+4Ju9pgPToBDpoOsgXrgavRqsaDMIcxwvw+6pIaEgVgUwXrR+LPzGB+zv\n",
       "93RgGhQiHShPITfpKSzkVnS9YU6uHpvjV2HoOqSkxSVVzPhpt2kdKwfKDCRklSGOZqDmDXHiA+zy\n",
       "T/tcuaT34hbYvIfYQax+qXkDUQ62naG/ORLnt/gzJTk/hYr2skp1w5MEe2CueWDl2Gnxd27qf2UN\n",
       "1FvBvR7LAAAAAElFTkSuQmCC\n",
       "\" style=\"display:inline;vertical-align:middle;\" /></a></span></td></tr>\n",
       "<tr><td>&nbsp;</td><td colspan=4 style-\"text-align:left\"><a class=\"ProveItLink\" href=\"../../../../../../logic/equality/_theory_nbs_/axioms.ipynb#substitution\">proveit.logic.equality.substitution</a></td></tr><tr><td><a name=\"-0x364d56c4b666aceb_step3\">3</a></td><td>assumption</td><td></td><td><span style=\"font-size:20px;\"><a class=\"ProveItLink\" href=\"../../../__pv_it/theorems/6ab22eec04f3d3be448f929a9d4548e477dda92f0/expr.ipynb\"><img src=\"data:image/png;base64,iVBORw0KGgoAAAANSUhEUgAAADIAAAASBAMAAADrvZC0AAAAMFBMVEX///8AAAAAAAAAAAAAAAAA\n",
       "AAAAAAAAAAAAAAAAAAAAAAAAAAAAAAAAAAAAAAAAAAAv3aB7AAAAD3RSTlMAMrsQds2rme9mIlTd\n",
       "iUQmv6lAAAAACXBIWXMAAA7EAAAOxAGVKw4bAAAAoklEQVQY02NgYGBgVGZABcwaByAMlgA0GQbW\n",
       "AgYcgH8DLpn3BrhkbkAoEzcMmTCGvcVAqoBjAohXcwYEjoHd9pN7VyfQZQsw7OP+9ZoxCqiAYT+6\n",
       "feydAhBGDbo1POGFEMZZBjR77De8B2vi+oeuZ76B/QYHIM35AV0mlcFe4AKQZlNAl9FmYCkBuYrD\n",
       "AXtAsG2YjyOQ5DecxhF47O4PsEsAAMEcKLkSHzKEAAAAAElFTkSuQmCC\n",
       "\" style=\"display:inline;vertical-align:middle;\" /></a> <a class=\"ProveItLink\" href=\"../../../__pv_it/_proof_num_ket_eq/5ade33eeef8032e120703a5c6fc8b7525cdea08d0/proof.ipynb\" style=\"text-decoration: none\">&nbsp;&#x22A2;&nbsp;&nbsp;</a><a class=\"ProveItLink\" href=\"../../../__pv_it/theorems/6ab22eec04f3d3be448f929a9d4548e477dda92f0/expr.ipynb\"><img src=\"data:image/png;base64,iVBORw0KGgoAAAANSUhEUgAAADIAAAASBAMAAADrvZC0AAAAMFBMVEX///8AAAAAAAAAAAAAAAAA\n",
       "AAAAAAAAAAAAAAAAAAAAAAAAAAAAAAAAAAAAAAAAAAAv3aB7AAAAD3RSTlMAMrsQds2rme9mIlTd\n",
       "iUQmv6lAAAAACXBIWXMAAA7EAAAOxAGVKw4bAAAAoklEQVQY02NgYGBgVGZABcwaByAMlgA0GQbW\n",
       "AgYcgH8DLpn3BrhkbkAoEzcMmTCGvcVAqoBjAohXcwYEjoHd9pN7VyfQZQsw7OP+9ZoxCqiAYT+6\n",
       "feydAhBGDbo1POGFEMZZBjR77De8B2vi+oeuZ76B/QYHIM35AV0mlcFe4AKQZlNAl9FmYCkBuYrD\n",
       "AXtAsG2YjyOQ5DecxhF47O4PsEsAAMEcKLkSHzKEAAAAAElFTkSuQmCC\n",
       "\" style=\"display:inline;vertical-align:middle;\" /></a></span></td></tr>\n",
       "</table>"
      ],
      "text/plain": [
       "\tstep type\trequirements\tstatement\n",
       "0\tgeneralization\t1\t|- forall_{n} [forall_{j, k | j = k} (|j〉_{n} = |k〉_{n})]\n",
       "1\tinstantiation\t2, 3\t{j = k} |- |j〉_{n} = |k〉_{n}\n",
       "\tf(_a) : |_a〉_{n}, x : j, y : k\n",
       "2\taxiom\t\t|- forall_{f, x, y | x = y} (f(x) = f(y))\n",
       "\tproveit.logic.equality.substitution\n",
       "3\tassumption\t\t{j = k} |- j = k"
      ]
     },
     "execution_count": 7,
     "metadata": {},
     "output_type": "execute_result"
    }
   ],
   "source": [
    "%qed"
   ]
  },
  {
   "cell_type": "code",
   "execution_count": null,
   "metadata": {},
   "outputs": [],
   "source": []
  }
 ],
 "metadata": {
  "kernelspec": {
   "display_name": "Python 3",
   "language": "python",
   "name": "python3"
  }
 },
 "nbformat": 4,
 "nbformat_minor": 0
}