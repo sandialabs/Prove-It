{
 "cells": [
  {
   "cell_type": "markdown",
   "metadata": {},
   "source": [
    "Proof of <a class=\"ProveItLink\" href=\"../../../../../../_theory_nbs_/theory.ipynb\">proveit</a>.<a class=\"ProveItLink\" href=\"../../../../../_theory_nbs_/theory.ipynb\">physics</a>.<a class=\"ProveItLink\" href=\"../../../../_theory_nbs_/theory.ipynb\">quantum</a>.<a class=\"ProveItLink\" href=\"../../theory.ipynb\">algebra</a>.<a class=\"ProveItLink\" href=\"../../theorems.ipynb#unitary_matrices_transform_ortho_norm_bases\">unitary_matrices_transform_ortho_norm_bases</a> theorem\n",
    "========"
   ]
  },
  {
   "cell_type": "code",
   "execution_count": 1,
   "metadata": {},
   "outputs": [],
   "source": [
    "import proveit\n",
    "theory = proveit.Theory() # the theorem's theory"
   ]
  },
  {
   "cell_type": "code",
   "execution_count": 2,
   "metadata": {},
   "outputs": [
    {
     "data": {
      "text/html": [
       "With these <a href=\"allowed_presumptions.txt\">allowed</a>/<a href=\"disallowed_presumptions.txt\">disallowed</a> theorem/theory presumptions (e.g., to avoid circular dependencies), we begin our proof of<br><strong id=\"unitary_matrices_transform_ortho_norm_bases\">unitary_matrices_transform_ortho_norm_bases:</strong> <a class=\"ProveItLink\" href=\"../../../__pv_it/theorems/3682b725ceef1dd7591adce2bb7e1ecf50455e000/expr.ipynb\"><img src=\"data:image/png;base64,iVBORw0KGgoAAAANSUhEUgAAA9EAAAAzBAMAAABiepZUAAAAMFBMVEX///8AAAAAAAAAAAAAAAAA\n",
       "AAAAAAAAAAAAAAAAAAAAAAAAAAAAAAAAAAAAAAAAAAAv3aB7AAAAD3RSTlMAq1RmmUTNIjK7EInv\n",
       "3XZ/CtNrAAAACXBIWXMAAA7EAAAOxAGVKw4bAAANF0lEQVR42u2cf4wU1R3Av7e/ZnbmdjnTRlQs\n",
       "XQKlVPmx8TiqxdK1gNBadK2xCaC40TRV/sCloVrUwEqqifUHo8bImVQHJVYOc7dwHkawcGgNjdb2\n",
       "/FUN9XQEfyF6wVYr0uj2+33vzcybH8vtEslZnW/yvTc737fvfd985v36ztwCDCtaV5cJjUtXVxdE\n",
       "8qURhqNBhJlardBE0a/XPoqu75dH7qt9CpCu1YxGSBebKvql6Op+ueQM+hOPSEekI9IR6UZJLxgc\n",
       "HHwqutBfkz69N7rQEelIItKRRKQjiUhHEpGOSB9z0lNwl/XEMW1DgifxXq4Fx1CQzZ4jTwb7UH3E\n",
       "ZNqUxMrucdZ1BGbm5dIDrgSdSfg/3PxTaN6d70rH1leuT6d5cotQtzGnyWZqZ873TandlFdv48pF\n",
       "OXeoSummZ03tZycAaI8/s31MoPIOgP1nvWPJPMkJtd9TesCVoDOyjRs3g+zOiqEDlGiP74ENuyro\n",
       "1l+3b676vYkXJXcSX1XSE4UaPkM6lKz/M+WKlbiC+kZnESaacCvrsGcb0EJpSxu0+EvQ2mDjaPhe\n",
       "dfoFp+KnxY4jVIwR8DFdp/KAjRntcuC2E++C2FJQX2b8rgBg+I8DONF/KdaD5E6y+rUhnSj7LuG8\n",
       "+qQpr0N6DvYZ5RMcjgfI9OjnoAvS8YP+MbcI2yyIV6caGfyUMuuRDrgScMZLep5UTmI+HqzGAj4g\n",
       "i77agqog/SP/pZgLsjtLR4L0kjZd3GHJN2B7ILdrJvsGbbdzXis8XPbn9mQJIW2XphS42alyRYC0\n",
       "UzHltUln88QVD7R/kak6rWKTThtw7fQi7MVZuHeIkgxop+OFKbdUriIKOS9p133JFdv1FX7ScrNW\n",
       "SOXsoxPHo/ZQ8XrskEO6E5TeuZAd3wv6LIuSAY87W0aAtGYdjokZp3uUOc6fWTKT/Qz4pXM+bqQC\n",
       "FctZXNIzhBpuaQY3O1Wm/aSlijFvcoDrRtZeYvNnRjoxwElfNusOgDGwO1lVrFQu0YHJVRD7NaHM\n",
       "wL5FyKVgOxIv8dId911XbNfTftJys8h4MTB3NPbVF1FbqXgdFnDSx7fvz0FLtbW8GFbBpTAbE6Xk\n",
       "cWdCGGnW3PHDkGazVSzfHGn2hEO5fwCqyj30+ZopoCenzvVkZmZxjPax8A6sNPn5Fitb/vmbXtgi\n",
       "i5e0ejlXMNzKxnOzU6Xfd0OqmPIuM5leQJ9b6ZKwtymq8Jzdp1dacDXcqX50CqyF5DpMFkL8AZNN\n",
       "kKdi2UlDOAI3Vnjp5L7PFXQ9zJm0p1lkTL3HXEqyfLtQR3HSmTbRp5V7QSmn82t/bKoHYSEmWL/s\n",
       "zsIw0uzK/2oY0gm64Kly830ar1JVLa7Zww7HwA2t0BM028dj4Cmw1CkmP99azEK/5pseWRYf6etP\n",
       "4oq9x6nsZmG2q1Sr/tHbrZjyTrSYzujs7My1YOdW+OgNq2cK0srHkN3xGiysFc9sby9iMg7UGypO\n",
       "eaohHFGPM3np5L7PFXQ9zJm0p1lkjC1jLsWv6Oy8A75FczUbvUH5tz16ry7CgQ+s5H0fx59s78AE\n",
       "xyfZnZvCSF9PPcgYhrRKt/lKOBrS1GLgpLE1CtuJ+Mx8+YrfRK55yJi80h6IQ5n2LJ7CKUt87mlV\n",
       "eRh8Q6jhVjZPmO0qE2U/abdizKv0c2VU1EN4VQc46fingjR8Di/AvQ+Z8dJazIHJTWwJBGLXy0dv\n",
       "ciLbRqVz9z2uMNfDnEl7mkXG64C5w++ItQjwT2xFhgsxQ5AeZWXy6fd+DzOwTwMlhsed0NGbVo16\n",
       "brh5eql/mm+YdKbyG9biTQCvKFjSXaBV8YP9h8xsvYj2y5MH42UijedTlUvg+3gVilJeO0tsPwyE\n",
       "r8jsynCGw/xpp0qagD3lGG7FNBvaK7I0u1I/LMPFZbiW7WlOBqXK1t6faIfhtb0FMNJ5jRL85rXz\n",
       "QBc9MWthudKKTLgvu8Jb53dGsvFmbZRWZGzSi78MyZeZF3jL9ZNbtPYu95iZoQn43Tuhm5IBjztD\n",
       "YaTjNC8MuyJrx7R0VKSTvXnW4ltysBhLSVRAfQJuKau76c8TzMzWi2g/f9/MDiDSdH5sey/WO58M\n",
       "PO9uN8sJSimctF1ZtkhloFlUCW/5yjHcijGvQ1pZxyMnBxDbZNjwYRnLiPVT5OTECrzZfuPec2eW\n",
       "YftQDJN0GbStnfPtfkltkUgL92VXuOt+Z2Qba9ZbEumVFR45wf0DenHeaCp5MoucrIPs7NOXTdj3\n",
       "KOg7LEruBtmdu0PX3s8ODj4zLOnWwcFXq0dFmgmNYnzc2IbDa8yNKPIK2HrRHldo9LZz6KblGtyj\n",
       "gWyHWX8/vUdEQ2wzVWmAtxzDrdgTOdnU2dngTsMbndjIfA7sp/2uhDgj2Viz5MiJ9ljnXQ3ueBZ7\n",
       "djRGKOn5YpTwSdVDGm/FtHmE6K91RNK3PZODJPt6qvYZwCLHsEjEd3C9mBTFq+9vcXNcWRtwDOAc\n",
       "aW2xXrlPXyzUcCpbwsrmZqoyaYG3HMOteIlMugmZ5/uwyNkdOaT9roQ549pYs8joxsiaeARQrvfB\n",
       "Jb0clLaQrxY8pDHLcoDffZhX/sBvgU3PbgOKCXcEovR13hiMu4f5kCPZ7jkvGeJ1YmQpi6t7J5/E\n",
       "ynD3rS2mrxzppqe8N+a4NiO66Y0657kTsMwbI/O74nfGa2NG9VJo3p1t3pB8GOm0qcsDlvJiH5zZ\n",
       "5ieN3b4P7zNc6F0ogsO3M7xaW2Asa/7d0OmnDxWOKhqqiHQNV/dONj1mdNP/Temmx7xKhWtzIpHW\n",
       "JEfUnFx6wJWgMwr4jL+Fo3BHC/dMJh2z3AUZRdTH6WbCDJCeSguyRImN0xQcJtI68I02eCKtTZPW\n",
       "Op6E3RDJsRI3Glqa5YzvtHYbbxV0eGTOi3OKMulUHBFnqjR/s+CwIJ2xe+SWMNLKEXrjlbgSHHz1\n",
       "77WaqXSX4LC/y0ndwr67VW8ORVSgRCwbJb0F+2N89m1vioj6pO+s0gPzNOgTsZ/3FKlPs+CwIH2V\n",
       "3SMnhJGu/yRrL1zCtsTa4poFLVbSGyDJ5miusGWdSD2Rmz6+sBEaSUOkr8O59oGL8q1lvjifpN+/\n",
       "OEhaofDrNLyuFR4cFqQXguiRC0NIx6qw/PXncnDyf/ww0KKL/9NbPwCtlUTBMy2dCjJp+yba4iXN\n",
       "7ktbI2mEdAte5WvehlEioj4JCvuDpAHX2XA2e4+GBYfpWTiSHgeiR94UQvpB1J345WxgJ06WK8Xs\n",
       "MBpWQ2aNTForeUhn7O2mjzRF92yNpBHSTMbCRcAj6pNgUyqwn+ZyFkC3CA7Tw3GdAeY9Mmz0nk08\n",
       "afoPoCDL6qf5cTecD9lez94w7yEtYrWxgo90vOBqJA2T/gvMUXlEfRIkpwZiZHaIgqK7PISSycG7\n",
       "rL/xHjkUQpomX3pC0BKonCz84UGYtIKHtHj+kq74SMPTkkbSIGnlILwyicfKOvgzmTDSsTE0J/Lg\n",
       "sLZ9e4XivaJH3h0kTVGe5OfAHl74pmkW//l2vaXURC9p8Uz1QfCTvkzSSBoknWyDA3kWUVf/UfZ1\n",
       "wsA7J1Jw2I6YSJFWh3QCbfqhQMhGWAAePlTHtXMYSQ0det5eoPGFV3cvqIXYHpv0ZkkjaXT05rxC\n",
       "I+pHfLtIRH+lSKtDOoXTbabfWdzRKyiDg8/ZFrynPqtT5mWMpB7rh12gle0lGS7IqpOhxUh+TCeJ\n",
       "9AxJI2mKdLgckbSI/krd1iGNMzn0ULQ0EFbP8DXWzjpLqecZ6TWJEvZmeuLKAnE46qi5BdBq4WCO\n",
       "J4n0ZEkjOdakRYzVDCHdit+bhr1XCczHrbzE1CfhRT7FSJsIdQ0PjtGtgrg1+Bu9gVGwR++1kkZy\n",
       "zEkHxEN6J878erkOad3u038MIw3TTPEwNEbTOsVgY4fhffGElEhfJGkkI0iaxuid7iZLmqfF6O3E\n",
       "1XbYBw+U3NEbFuDEnKRtAHtVkcIpOJ7fDmqRThLpKZJGMoKk0xbrlzA6kCXNuqWyx39eHWJxsHs5\n",
       "6dshVu4eZdoBb9zHpdvgn6DT69GM9BmSRjKCpOl/yFIFWF4JLuPYGi0VNMQY6c2c9FZYRW9C2wFv\n",
       "3GvpRnIXXMhO9ondmK2RjCBplbA99s2Q+AizwJ1iawdL2rykb+WkE9/I8/7NA96015qzY/05/GSf\n",
       "qOkliH4Xa8RJwyt185AlK9ZjqzTrMPykEyUvSGcqToxMO1yBGM/ovqpMJ9GuDLgayYiSnl43D1l+\n",
       "IY6X0j/OePo0PbIQpGOlAkVc2bTu+Eon+/iDEFsjGVHS6br/3oMWez02uSQWaC5pWnzZfXps2Ql4\n",
       "Oy8w0ck+vlCzNZIRJa3VLR0tmVO6urquvuHtWh56HvKO3vRWi/SEw37TYJZcQh9/qGJrJCNKGtfO\n",
       "9WQVnFcTYsLEhK9PKxY9EbXFXq95nru8C1kcMWyN5Ish/YOmfsn9haZ/yX29/X+yytb/WhGZL1a6\n",
       "uvbTL7l3N0Q6+iX3/2Nxfsn9f2tDe49Y3C5RAAAAAElFTkSuQmCC\n",
       "\" style=\"display:inline;vertical-align:middle;\" /></a><br>(see <a class=\"ProveItLink\" href=\"../../../__pv_it/theorems/79ea2d2984ed66332a597cf659088e2bb9d38e7f0/dependencies.ipynb\">dependencies</a>)<br>"
      ],
      "text/plain": [
       "<IPython.core.display.HTML object>"
      ]
     },
     "metadata": {},
     "output_type": "display_data"
    }
   ],
   "source": [
    "%proving unitary_matrices_transform_ortho_norm_bases"
   ]
  },
  {
   "cell_type": "code",
   "execution_count": null,
   "metadata": {},
   "outputs": [],
   "source": []
  }
 ],
 "metadata": {
  "kernelspec": {
   "display_name": "Python 3",
   "language": "python",
   "name": "python3"
  }
 },
 "nbformat": 4,
 "nbformat_minor": 0
}