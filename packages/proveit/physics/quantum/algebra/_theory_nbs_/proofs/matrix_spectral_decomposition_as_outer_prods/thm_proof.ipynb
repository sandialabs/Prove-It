{
 "cells": [
  {
   "cell_type": "markdown",
   "metadata": {},
   "source": [
    "Proof of <a class=\"ProveItLink\" href=\"../../../../../../_theory_nbs_/theory.ipynb\">proveit</a>.<a class=\"ProveItLink\" href=\"../../../../../_theory_nbs_/theory.ipynb\">physics</a>.<a class=\"ProveItLink\" href=\"../../../../_theory_nbs_/theory.ipynb\">quantum</a>.<a class=\"ProveItLink\" href=\"../../theory.ipynb\">algebra</a>.<a class=\"ProveItLink\" href=\"../../theorems.ipynb#matrix_spectral_decomposition_as_outer_prods\">matrix_spectral_decomposition_as_outer_prods</a> theorem\n",
    "========"
   ]
  },
  {
   "cell_type": "code",
   "execution_count": 1,
   "metadata": {},
   "outputs": [],
   "source": [
    "import proveit\n",
    "theory = proveit.Theory() # the theorem's theory"
   ]
  },
  {
   "cell_type": "code",
   "execution_count": 2,
   "metadata": {},
   "outputs": [
    {
     "data": {
      "text/html": [
       "With these <a href=\"allowed_presumptions.txt\">allowed</a>/<a href=\"disallowed_presumptions.txt\">disallowed</a> theorem/theory presumptions (e.g., to avoid circular dependencies), we begin our proof of<br><strong id=\"matrix_spectral_decomposition_as_outer_prods\">matrix_spectral_decomposition_as_outer_prods:</strong> <a class=\"ProveItLink\" href=\"../../../__pv_it/theorems/2a49c32e861c160f4e84c7b3e8905648999a65430/expr.ipynb\"><img src=\"data:image/png;base64,iVBORw0KGgoAAAANSUhEUgAAArgAAABlCAMAAACRIWDFAAAAQlBMVEX///8AAAAAAAAAAAAAAAAA\n",
       "AAAAAAAAAAAAAAAAAAAAAAAAAAAAAAAAAAAAAAAAAAAAAAAAAAAAAAAAAAAAAAAAAACGKEuzAAAA\n",
       "FXRSTlMAq1RmmUTNIjK7EInv3XZAMGxgr3zKxjj6AAAACXBIWXMAAA7EAAAOxAGVKw4bAAARnUlE\n",
       "QVR42u2di5aDKrJAFVBeytw7Z/j/Xx0BeQqCienRRNbq1ihQxGyhgKLouu8NcEhPXgnoBYFviUHd\n",
       "E/4wEKlD/6dCxz1SAEpPcqGvwYZpa2nAa8iZEngx7QK/P+CZJVdmw9mZ4HK4hOEvvxbae03YmJ68\n",
       "Bm4HRVtp9uVUS+DFtAr8hcDTn1hBBvtTwcV//aXAxHbuUpieZINgVTkzayrOvpx6CbyYRoE/Eabc\n",
       "U4W3BpdNe6TgKT3pIJUSOFzk1IOOjhRNoNuJoU6a9B8nJ59J6Y4vgRcj+gdYG4YcV/cGt99tmhFP\n",
       "T1QSaVth0kvTQvO4dsvE6JhsqQEDOblMyndsCbyYNoE/Enr6ZeASuaudurtBNAwn239yalKs4+Zi\n",
       "LH3AFiXAy8lnUrzjSuDFjPAB1j0z30h9B7jjuF8clpyo74ttIsim9UUeo8eSi7FUprTl+7P9TIp3\n",
       "XAlQWeBoq+kfJJfOXwUu2K9wxZyeKB46ZBRRPGDbZsfg5mIseUwNXay5kknxjiuBF5MKFK6jSX4P\n",
       "XCLFN4E7zm0KcKgJo6VHZEBYvvqKAB1isrYxVAehrnMGcvKZFO+4EngxiUDiKmA2/qD2S6cvAjfz\n",
       "GsZflqYnSsNc6mlVSsA6p2FG4GZjKGEePzQHoc8ILGVSvONK4MWQiHcyTU7i9IPkgo2We2Nw+0ol\n",
       "OPbpidIwl1Iuz4Atf07D7Emkg2ZiqP5BfV7FyylkUrzjSuDFRAIFZVHtC36OXDl+DbhMVvpLM0pP\n",
       "jBGAqqiFIsNW2AhHTXkmhpJWB9fLKWRSvONK4MUEAtmUdMg2F35gREySbwEXStBYAQY1ruJmQh3A\n",
       "XaBhRjNn2RiKsnqfyMspZFK840rgxYQCcc8jdWPkP1fjDpJ/C7i01l3KgEtU13ykqp3u+uw4QSlG\n",
       "+N1KOq6TUxZTK4AXEz9MGIqcf3BcoZPTl4DL5FxrXWh60gmsgdFNdL65LcVoGlWgVTG1AhRHFaBX\n",
       "d0b8g9wu9RT5DnChrLWXbiTUD4lq1oUuJpHZqalSDNgyjjtVxdQK4MWkAt3kGhp+kdvlofHvALev\n",
       "9pZcnWVP+lmqidRhqe+G5XzuN5VoOQZq6A6tcsqZ1AvgxaQCrcXkr5rqkmRc4bbgTvWCT0N68npo\n",
       "Mh14X86OrYIbePhNcDuZ6E43Bbeu4hasw14Vd9A67F0xj3XY5p2Om9i7ggtkvckkU3ryukbdNHD6\n",
       "thwvBj72uGmtEA+I3xVcJBtqN2e/3b871TS3fbN35XgxM35QTXvj9BvAHWUDI41rzhoe2ofXnG3E\n",
       "PGvOMnRN3wDuJFtG4QFPT14KB1b58lPEPKt8c/q//AZwZVvn5SS/Cu0dpbf8KrAXBP7SsAK5P7j4\n",
       "zGX1T7hFmCPt8KbggobRsO5/5KLkCUdgbPftMUbDCjcFV8ixrUR/76LkCUe6owd8e/TRQNJNweWS\n",
       "XqxET3id3jYGUdRy3hTcvq35z5TI2iROTzV8M3B51MreFFwq0ZslEuAh5m7gzvcHd3zA/TlwRTQD\n",
       "cVNwZ8kfcH8MXBiNPtwU3OkB9wH3nuCKB9wfAxd8B7jwAfcB937gypfBBXY47IPgxh1HyGF4gqop\n",
       "UC3HrjXCepVwY/xgj58LoECAOAHc4WPg/kv+39+B+/8XrnGjyZHUnD07cwJBKXnmflXkNpl1R88z\n",
       "w98YCSF8l4HxSblDZ2ha/essFybOed/QqzBzlIKiXmDR/OY1MvivyLDqP3cF9993AReM8QmtJqHN\n",
       "YFbv06QQrjAdET3VLsuAdkVGAst1NOpknvFen/bVyUqm4jHaL1kByjuIBmjtPAd+YXD/VFUA3wVu\n",
       "6AaKVu4fANcm24CL0GojiNdHFPhI5cY5FE/ArfOlV85zJoxe1AFB1wX5S9jx1NcILonAhb8M7qB2\n",
       "WuBJXZC9mNW5ihGr4G6TYhQnT2NgVAc3UyCbLAXXedt1vlGZf6ILcsr0NQVXO6PEHGo8BTAaO4dC\n",
       "uE8KUgaJmUzH2pcftt+egwfcs8BdqoblUYBY7ctezLaL5Yjx4qgxPqH5pDQ63cagVXCzBVqTDXN0\n",
       "ZD4356nPefhXxKI5AneEUBgXkUrTnbBu+ZUWqzxSI7h+0pAC7Dtos3pDBkPbzg5wL4PrvyqAZ4B7\n",
       "Vn4fATcwssEMzOZ3wt6Np7s4ALHrNMan3gWXjCQ+oV1WcPCoaK4UlUdJCwWyycbVr545Dj4z5whK\n",
       "huB2c5/WuJgqFQBjvSkWkQgw9XxVZnT9NKjvDRlkgcoL7JDKQM8H1/8+77mlspicld9Ha9zO1h9L\n",
       "y0ZAuK3YenFSzWdL6l1wSb+6q3EnNC+Y8Dh5WgrC6zpupkA2GRhFcIQj1QEo7zpW1wUhuFjCVFUw\n",
       "HnsFF7PyxEPl8hFOxtzZfNKVPSFDdjUg+QC4bj+MN9foWUzOyu/z4CrbRv2DhuCuF3HVT8IaMew8\n",
       "Z5p1t2PZekLzgoPeF82VotI7o4UCrcnsDmzrMXgLrOdzHnTODBg0AVf79Z2XCpQKRphWfYhBzn7S\n",
       "KdbOWepx5xOqguvxcXAKuGfl93lw56X3MHh+GI8uGg/3+mLun40YdZ4bRxUSwVbrNPnSXCn8/WxZ\n",
       "aL5AVplNO2eBh3OoB8IG/R9zr+ppL6jrhXVUARsHO7MQGkNqttJk7pOWibl+WXgy5yDEB8CFVhE6\n",
       "qXN2Un6fB3fga1ENP0RPp7mLZsRIXyQTjv+FEcPOcyO4ieDldx18AeIYphTB/WxZojS+QGLIg4uD\n",
       "vXvUBMQ6FgGUZoJkj21B9YV1AkInEQhCMi6oCsg1n3wh0n6i2LxdiyKCUn2B4k+MKpidMSZ+Ergn\n",
       "5fd5cH3Vuz6SMFfO1pnKnKjwWth5PjqOawXTIN8oxloKmpHbldL4AhUnIBhXOu7Jq0B2ZhnYjtb4\n",
       "Brjm/aCNE9m8ismx/P7n4BIxGa0mpG+U0pjcD5mvEV6LOs9bNu1IlD2hWcEiyDeMsZYiup8rS5jG\n",
       "F8gmy8ycfSSUFfE9Ff0NcHFv/zUVr4rJsfzinwHqH/Sj4DIdco+wa7xYHZsK2RPRSbbqsZ5yYSFG\n",
       "dD9XlnyFZpORdQdAMrb3OooPabdOKyTYXWj9zgSEqhx5MXM8I3UTrmN+JXD9CF6UH3HbLiOZqj7W\n",
       "HiPoCC9qGtEStr314N35B78Brl7Njz5X8SRCCQhP8q/STvJMF70qMk6GSXxsClQ9pMPDQuzQ5UPg\n",
       "sn/+Cb+weYeByHalrCUG6PW7tBrF1WvcOD+4DqcM1kzDZuvtMcKeOeRozSPtrZ9V487PCt+2AP/E\n",
       "h9lbU75jzkGgs8QAy02klVuOEJqXv6GCSZgf0jM6HQNUxNl6e4ywZ07o2iBueusPuA+4aSIO1sFX\n",
       "iCARQtd53hIDEDAsDTpv1XGD/LRiLo0uZsa6XbahPYbvCC96gh0qSnvrD7gPuGkivOqvDA4T1HYU\n",
       "4QgGIEvtCIYD4GK/GdKijagbAzbzLD7bwB7Dd4T1pI4md9tb/xi4j5eQ24Jrt5PFTKjWWUUJLDEW\n",
       "cNW237Qd3GCDXIiVEREDa3qfbWCPcbQz8qEa91mIdj9wPXHKhEJN9wWWGApcxm13ix/DBOldPfQc\n",
       "dxdlW7LHaAgPuA+46f1J1a6oI6ElhgJXWdi9hAlSo17DcsuouEG2BXuMB9wH3OPg6o7UTBSqfuZr\n",
       "XQTXv4IJ1jU46KwpUZBtwR7jAfcB9zi4g6JT6D6Rs8QgszGsfQVcMY+D7pAJutouBAYeeXuMB9wH\n",
       "3BdUhbCLdMwSo9Wk5QQDjwfcB9zzCnCbNWcbcP/CS4h7OTJeBx5wH3AvWuNuZ7kfcH8T3CZNo+Ci\n",
       "5O/Bzc1yP+Cu4T9PjXtKjcs4FBxvFfPc1bwKv4mZneV+wH1UhTPBZTPOpMtfzXK7jZmd5X7APQ5u\n",
       "d3tw33MzugsuQnZhbeBtwV+tuVsI0rvQNMv9gFsJwwPurpGNXuOtPQSE3hbc1aq7BRczeMhnzHI/\n",
       "4H4DuPNnalzVrEvtq0UvWvHg+qs1dws+pl/Bccos9wPuN4A7vuVKf9ced1Iq6gA9uNpxQXC14m7B\n",
       "xQxWcJwxy/3z4IJv2HWHvrV5yS64A4LATHmH3haCqxV3Cz6mX8Fxxiz3z4MLv2Gfs/6tfc5aV0Dk\n",
       "vC20u1sIV3B8xI3Bj4ErvmFnSfTylqjt4Ga9LbS7W9hdwfGAe5zBeP/mn9yE+uCaM9h89daUXh1c\n",
       "FLWyNwUXyvHvwP3dcClwadQhvym4g5wecH8M3DGaLb0puFjKO4AbrPV/wH0X3EmS+4PbySZZh8B9\n",
       "vfBY1wfTbOffJuW9SLJwrX8ldbOYfGRS+ezl4EQo3i3EpcCNbGxuC+7cZNd4BNzXTRp1yiEcZWQD\n",
       "l4tGFqz1r6RuFpN38EZjUvOe4HVS5/axcLwuuDjWDu8Kbt8053sAXOteD9LA8kzIqa9ytabk8dAy\n",
       "05sruLX+tdT1YCLmwU381Oc9wZuk1sKydLwsuEPcH78ruKJpBqIdXDYG74StfUjfUK+7lGMSWS11\n",
       "cGv9q6kbxRRcas47n2Jw3T4HpeNVwRXxZOldwR2axsPawUWuwsHQ7fgF+4an41IubVn02zMRrvWv\n",
       "pW4UUwA3qmML+4SsSSHqdo9XBbePTbDvCi5rGlZoB9c35xCP6zsB2dTwwwUpN7MiwVr/auo2MQVw\n",
       "I62Wkj1wO/t6lY4XBXeOuwp3BXf5HvhEcAMX86hDBhI84AYbtNA5fS+PGn01u7a3EUvet4Md5Ura\n",
       "h006wv3jNcFlycj9bcHlLb2zZnARD8AV5pmI5eHUrbiClB2b5EGzL5ca93x3zbqNqOljphKfQbaP\n",
       "Z7pZ2zgWXN7vH68JLkisU24L7tBiZtMM7hiouMszUqkA62IV1y6T0KHfptTy5mPfwqYe1FgvNY0h\n",
       "wzsRNX1cb+NkdjO1seeka7aNY8G1mwuXjtcEN1Fx7wtuN8kTwfUVE1R24GrN5PLXouLOsc3jwa0l\n",
       "1tRMzVPonZ+7gpG5FaPoI6BDo61lbWy3EE7r1bk4Flww7R+vCW76c98XXNTQLDeD6z06K/CUqqq2\n",
       "I21RWRNf0OOxZ7CmRvpXmHmq1o0bMYq+pV6eRBdsiqK/qm0DDMGZOG4zGbl/vCS4JG1g7wvu0LAI\n",
       "4kVwJ9SpVeQtKm4KLk9qXIZbUuuqnW0GjWeUBVcpfKxbNwPeKLl2JmETx4JrJ0RKx0uCK1J/BPcF\n",
       "t5um88B1DT5RP/tIlaJgdrOt6bixqrDZ3H7b7rNQlzSpma7azU8x5J25hqqCVSp4GNsNK9hBhU0c\n",
       "pyrM+8dLgjtO3deAK+rTWs3gUsuXwJpY/XFqWWVBQzLxXF29S4SY09RMVyf9uNTzTORNG6wYQx9V\n",
       "JVsaBR87GMhdd83dxHGdM7p/vCK4ZNO83hjcrj6u0AyuGwqazSuBdeKWWa1oEGlsGQ0La7Y1tcIS\n",
       "LIoB6jAD854YQx8fjcNsHzuYOrO2E2kcC64dWSsdrwhuv3mb7wwul+wscIn5bftZqnEnZSo1LOdz\n",
       "X3d/QML6Myad5dv9kMw1NesFJ7gXJK3CN2JW+lC/bqllY4e0r+dpHAvuXDleEFy2raPuDC6rds/a\n",
       "p3znlxeM+5SJxTgWayuNqA1wo0tu5DLJyI6YZObMxo7MExLjMBtnTYrnbvd4RXDF9ne8M7jL92Fn\n",
       "gQtfXqbgUg7JAP7I8u1+dG0jF4z57bjWiAm4NjYNv2dijmvj2Mp6bRZKxyuCO6Huq8DdjHy+Dm78\n",
       "0x8Ka8qkYwamsdDuxzCnchetAe+ISWtcEzsxT4gtFG2OJqmlunS8Iri5Cure4IKKxAPgspd/ozXl\n",
       "DJgJGJNBjFJ17UwrvacqtMs1EfNGNokVOMyqyeuABI5fmPR4QXBZrpd8b3AXJs4Ct3t9WwadEsk0\n",
       "sEK7n6gPzXJ1RJFVgPvKZ0O3Smqr89LxiuD2tPs6cLsZvgIuVDXjX3Qft+0+5qO8hcs79YjEFcAd\n",
       "JvZxcHXo//LxkokdL9GsLt530fjfBKoe0qfBnc0PtB9neCHRsXcU6vC33jYGfLUSPeFAZWvCLlVD\n",
       "KdF/AcyQ2xOO4xX2AAAAAElFTkSuQmCC\n",
       "\" style=\"display:inline;vertical-align:middle;\" /></a><br>(see <a class=\"ProveItLink\" href=\"../../../__pv_it/theorems/3b0276f96f3be74c0d108ea674e18b4970ef74a20/dependencies.ipynb\">dependencies</a>)<br>"
      ],
      "text/plain": [
       "<IPython.core.display.HTML object>"
      ]
     },
     "metadata": {},
     "output_type": "display_data"
    }
   ],
   "source": [
    "%proving matrix_spectral_decomposition_as_outer_prods"
   ]
  },
  {
   "cell_type": "code",
   "execution_count": null,
   "metadata": {},
   "outputs": [],
   "source": []
  }
 ],
 "metadata": {
  "kernelspec": {
   "display_name": "Python 3",
   "language": "python",
   "name": "python3"
  }
 },
 "nbformat": 4,
 "nbformat_minor": 0
}