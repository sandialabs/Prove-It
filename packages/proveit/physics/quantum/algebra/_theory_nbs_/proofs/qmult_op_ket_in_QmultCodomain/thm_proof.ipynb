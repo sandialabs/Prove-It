{
 "cells": [
  {
   "cell_type": "markdown",
   "metadata": {},
   "source": [
    "Proof of <a class=\"ProveItLink\" href=\"../../../../../../_theory_nbs_/theory.ipynb\">proveit</a>.<a class=\"ProveItLink\" href=\"../../../../../_theory_nbs_/theory.ipynb\">physics</a>.<a class=\"ProveItLink\" href=\"../../../../_theory_nbs_/theory.ipynb\">quantum</a>.<a class=\"ProveItLink\" href=\"../../theory.ipynb\">algebra</a>.<a class=\"ProveItLink\" href=\"../../theorems.ipynb#qmult_op_ket_in_QmultCodomain\">qmult_op_ket_in_QmultCodomain</a> theorem\n",
    "========"
   ]
  },
  {
   "cell_type": "code",
   "execution_count": 1,
   "metadata": {},
   "outputs": [],
   "source": [
    "import proveit\n",
    "theory = proveit.Theory() # the theorem's theory"
   ]
  },
  {
   "cell_type": "code",
   "execution_count": 2,
   "metadata": {},
   "outputs": [
    {
     "data": {
      "text/html": [
       "With these <a href=\"allowed_presumptions.txt\">allowed</a>/<a href=\"disallowed_presumptions.txt\">disallowed</a> theorem/theory presumptions (e.g., to avoid circular dependencies), we begin our proof of<br><strong id=\"qmult_op_ket_in_QmultCodomain\">qmult_op_ket_in_QmultCodomain:</strong> <a class=\"ProveItLink\" href=\"../../../__pv_it/theorems/f08c1b74197241012993cad887e6921c3abc99fe0/expr.ipynb\"><img src=\"data:image/png;base64,iVBORw0KGgoAAAANSUhEUgAAAjAAAAAmBAMAAAAoz7zzAAAAMFBMVEX///8AAAAAAAAAAAAAAAAA\n",
       "AAAAAAAAAAAAAAAAAAAAAAAAAAAAAAAAAAAAAAAAAAAv3aB7AAAAD3RSTlMAq1RmmUTNIjK7EInv\n",
       "3XZ/CtNrAAAACXBIWXMAAA7EAAAOxAGVKw4bAAAIMklEQVRo3t2aa2wUVRSAz+7sdmZnlqE/fL9Y\n",
       "Y6MSH6xWjKLBRSkoYNjER6KiVE00ooFFjYqvrv4wPpAWlegaaYcEjQSBAaNA66MCRkXU9ZmIVodg\n",
       "fERTKkgrRVzPPffO7J3drS0ubWUn3ZnZO3POvfe7555z7t0CDMYRzOXiw6Ptwv9ezUsWO0/P9YrT\n",
       "oICpHiZtoTIq1rby62bvVEFgzi6nnjMqF4xWVn8isYoFU2WXU4++uWLBjLHKqmhCxYL5pryKGlIV\n",
       "CkYrM8hG7AoFE2iiS0oq8u41/Kh9SqoJdlbaKxTMSMoDTR5c1Hp2fs2zhjRA2OmrhscT7JG6UwJD\n",
       "lZ5w4MEE6BofUm2NZB+niAjVlQdjojCzie0llB/TbYM6dSHR/EICU8cuNx94MKEka1xqSLVdQEG3\n",
       "XkQoCYyBnyzTUBS1ws2Pnt8NcPlsejJJAvMQM6GmAw9GY6Y4b2i1HUarAmFXE3ryYFbiZw1zIolC\n",
       "kV+Q5PeO2bqOcO6QwDCIRmwQfMws0Zgh1PYOO0X5vXHfn3kwJ7tYhU81F3d8xd9iJjEzCyp3Y2PS\n",
       "eTAKAq4aDOdbi9f6odW2l51O5PcPmjvzYGx3It7I589sd0rNZDfRLjd6NcakqPRRR8eHgwEm2tHx\n",
       "rT202nax01R+nwju4mD0H+Jgm1kIMvHV9Owuz9V8mHfT7FgVl8BcDPD8YIAJpSFCDdBFS+n8QYpK\n",
       "lIUFAsV+1SmhLQSyrqJkhGxEGEVM28vBGMF2PW72cu/LV99erAnuJjBZL947Epi5NMHuvC3NmcLo\n",
       "PanAO2l6b/lHrcacdUpWb4F5WWnTAydp5zq7HzCodS59eYUr4w6+WpQE8u/ehq0ZC+qk90WkDbY8\n",
       "C8cc4UGQtUUoDQM402PhSbEcjsB8Jtqo/s7BPBzKKinA1I3F31PpoTcnDXLQUY/zSFsCE7GMJCj2\n",
       "qhiMSNLTTRDC8dO2ZZKA4/obaA40gCaBGcHM7F+3hCgle15M8LdjhWCwhIFZcOQitue2Igt6NZyn\n",
       "Y7e+BNHQyTjmdrG2iEhK6MrEJSmUoPF/l0ebiRP2cDBW1DHIxlj8bSSA6D06vqZUmSQa0x6YhAQm\n",
       "6KDvXQCrUjCfP91hteJ5InubwLC55wODRe2ii/8G5nQ+MuH5TgEYVoJgQhfToNnBNKYpmqP3gNbO\n",
       "Y0avwebgrGJtBOR2oJFj4rKUazEERsc69wnnO8Yy6DszrBn00MtOTLKqZ6AkGKgfD5zlRP40OhWb\n",
       "ZVI2QGCWdTEwGzunALzaqd5UUzeqzbregtS8z3+dAvedhWb267aUMd4xT3jV15UqhYiYVdUFYFhJ\n",
       "wE1DGyxug6B1QUjY9CY2MvnonNcWgfA2GDcizZY2XFySkqcSm4ffCjCTEKVpcc9yGr3oDbKem6yt\n",
       "VfJj7vMxsIaG5lzPJE2WACyj28VtbS+ASmB6MA5WxULxGSfZaFkP7KtjRT/C0fAeGImQfQNcdA08\n",
       "6OuKcSL5XidUXwCGlQTccVtPYYK5jiZ3LsMOsu2aYm0RWDnSciIxVCbEJSlQKQ41s9Nl+JkjwFwC\n",
       "4+AKkcWeSy92eiSezG2yrrT8iy0PzP2s3pdyW7aIqGVsEpqFxegEph1GJhsh3NRo0ZRbMMqhorvh\n",
       "aZyF6stdcFXjhZavKyrlW+G02e4HQyUBCPMMdSM7XYWDN+evLZ8I8TcSorBQWwTuPQ0cJY2LOy4u\n",
       "S4H+N4iIrLIqW1IczIyUrSRFFstjeVU+odXBlEJcg5zHQIDGpwcU4axbd2AHz85kMjE/mGj8/Nra\n",
       "JFLBPwttmIrMt76DmThwG2vHhlt2+9fDR5BRt63u9YOhkgAot2QyT4ktlOPZaKXcrWxjJRU+VqwN\n",
       "fcxxagx96RNCXJKisMGMAHvb0m3B6NytHIx2dPNPYrqKSaEfebU7+64461B5FZos2nYIZyHA0RkW\n",
       "C19PlLYYqne+HsemZqnoc2i2GhgmgMfzTZQ2ChxQ//SDoZIAaBR1mIPQiMG1AIeIkeE9rCnWhmC+\n",
       "VKw7AKMWF5ek8LiFYmZaDgMsMGoxV50q3El4vVgSfJ/bK2+h09aoHww2sMoBHWubAiwb4rmZBKYH\n",
       "52ckrjtoLqu09G5MLHCwf9F74TsnYuvO07CyhgcNf1eYxe/0geElAZFWNjxzDiyi0UTXPxtTJ2yK\n",
       "Bcxm857AB+Y4U7XJwfCslEuJYxoULRQZGJP68qy0wMznhMfnfj/nLtdJwZvFG1XRNESdo7QN+qVb\n",
       "YUl3HNTnWIK3pdWcs27JH/r0hLp9PEJr61RHrQVjKtS1tYG26/QE/FD7iIPFYLzl1GxfW9yVadWw\n",
       "tDspg+ElCGYeDq1ed8riPZjUojvATO3jgDU/trTD0kfdKHpSDGbpJRj7zCQXd6XcbQePgA+M4e1G\n",
       "lFifB4/dd7j3ZWExGAwogU9TEPTeWZ7JJPvZYW3frz03KcFjjg2buj6zyLUrG1SMlMdiEz2/mM82\n",
       "fGBYGkNXEnelxFKHhJcVWQzF2nghs74WWyW3Nq/ejwWR1lUeGPmY7E09L7KFUqXBjMPPdX1sZtMs\n",
       "UuUNzJ9BqtDsZ6cr3NMnmP3Zipy798CBMVweilc0FkqDYd0+qnS1Snt5a1+jfjg2w/loZfhFaS54\n",
       "WrTnKJXktal9vs1n3+7ymh2NVeivBPB6eRXRurA/MNp2++ADE00P0D2W7tyGgYB5CJoOPjDKAPdS\n",
       "S3fOrB8ImOcOxqkktu/6PUp37v7UQMBs7cvD/a/BrBjYD1klO6fzvb/+wFxTW8aviMP2P3jqrAG9\n",
       "VrJzESob3P/BG77jnv8u+qLv2z/zKo3jHjC/ZwAAAABJRU5ErkJggg==\n",
       "\" style=\"display:inline;vertical-align:middle;\" /></a><br>(see <a class=\"ProveItLink\" href=\"../../../__pv_it/theorems/07429e5ec9d1e0b470a2240a50b6b97b6b9f6b980/dependencies.ipynb\">dependencies</a>)<br>"
      ],
      "text/plain": [
       "<IPython.core.display.HTML object>"
      ]
     },
     "metadata": {},
     "output_type": "display_data"
    }
   ],
   "source": [
    "%proving qmult_op_ket_in_QmultCodomain"
   ]
  },
  {
   "cell_type": "code",
   "execution_count": null,
   "metadata": {},
   "outputs": [],
   "source": []
  }
 ],
 "metadata": {
  "kernelspec": {
   "display_name": "Python 3",
   "language": "python",
   "name": "python3"
  }
 },
 "nbformat": 4,
 "nbformat_minor": 0
}