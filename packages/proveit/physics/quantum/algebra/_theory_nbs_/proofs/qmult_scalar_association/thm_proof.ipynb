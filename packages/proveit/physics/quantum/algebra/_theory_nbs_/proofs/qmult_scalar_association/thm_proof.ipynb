{
 "cells": [
  {
   "cell_type": "markdown",
   "metadata": {},
   "source": [
    "Proof of <a class=\"ProveItLink\" href=\"../../../../../../_theory_nbs_/theory.ipynb\">proveit</a>.<a class=\"ProveItLink\" href=\"../../../../../_theory_nbs_/theory.ipynb\">physics</a>.<a class=\"ProveItLink\" href=\"../../../../_theory_nbs_/theory.ipynb\">quantum</a>.<a class=\"ProveItLink\" href=\"../../theory.ipynb\">algebra</a>.<a class=\"ProveItLink\" href=\"../../theorems.ipynb#qmult_scalar_association\">qmult_scalar_association</a> theorem\n",
    "========"
   ]
  },
  {
   "cell_type": "code",
   "execution_count": 1,
   "metadata": {},
   "outputs": [],
   "source": [
    "import proveit\n",
    "theory = proveit.Theory() # the theorem's theory"
   ]
  },
  {
   "cell_type": "code",
   "execution_count": 2,
   "metadata": {},
   "outputs": [
    {
     "data": {
      "text/html": [
       "With these <a href=\"allowed_presumptions.txt\">allowed</a>/<a href=\"disallowed_presumptions.txt\">disallowed</a> theorem/theory presumptions (e.g., to avoid circular dependencies), we begin our proof of<br><strong id=\"qmult_scalar_association\">qmult_scalar_association:</strong> <a class=\"ProveItLink\" href=\"../../../__pv_it/theorems/da772a827225f81241e634b430257988bd32957c0/expr.ipynb\"><img src=\"data:image/png;base64,iVBORw0KGgoAAAANSUhEUgAAA1wAAAAzBAMAAABxgRTlAAAAMFBMVEX///8AAAAAAAAAAAAAAAAA\n",
       "AAAAAAAAAAAAAAAAAAAAAAAAAAAAAAAAAAAAAAAAAAAv3aB7AAAAD3RSTlMAq1RmmUTNIjK7EInv\n",
       "3XZ/CtNrAAAACXBIWXMAAA7EAAAOxAGVKw4bAAALu0lEQVR42u1ce4xUVxn/9s77zs7sajUxYrrj\n",
       "axtTKZMUSaSmTC1V0m1hgokibcq0tGnAP5gmDQ3pg2mjBlIoY8TQRYVbapqwEHZo0CaQ8tAYVAKs\n",
       "bUkUSxxStCHRsoKydAkdz+ue571372UIS7PzJeyc79vznTn3/M7jO9/9sQBRZWhoCNoSe2jIgY5E\n",
       "H7KrGvm/t/7b3nfnWq3SjTIOmdqNjdN2OrEzrVYdYGvrw+gtnGi3C7nyjTMcN93gyyp9khVidfzz\n",
       "61Mbrq6Gqlev31enwlWb3oFLyCxVzReucugr/popK8nPRDNU09neDlx8YA+r+q1g/2KEHxtHA45+\n",
       "UQ1LctRfM2UF/XgvXB/f7sDFe6LOcBsti6SIgh4N8EwqwdKMUX/NEKvFmggXHn/V6cDF5BuqGi8C\n",
       "9Ij98HyAZ4+ybd415q8ZEu+jJ2QsXHjMJkYHLoAjqtqN/i3hcz4xHuC5RF4a2acv+WqmvHGAXR7+\n",
       "FKqPibEOXCyy0ADpR//eFMM+EuD6pqw8lz/vq5nnZfMcW5lLw/Xy4Q5crCO9qj6AB+eDT7q70M2n\n",
       "/QNFUQ1JyboAfpq5F8KMIi3tDtfLGU4HLiIbtJQGmu72RWeYXb6Gl9u+hxCrRv0ThfRlafNSNFMW\n",
       "woaGdIuInyLS6+8w3OzAReRzmv4WCtvGobtpz2Kz+pi97xOe8RupBvAXtl5S/0EIzgJJ27H7sz5f\n",
       "WoLVvWD34ZgvXC8zIx24iBzS9N+jwa5AT+Olf2PtWwCX4xD3PMFINVc5O/euDwGok6uV4H6f83Lj\n",
       "3L46PSY3hOtlbKwDF5b0BROuXAOWFGjm52+QON9TTnmGebQa2xjRMrvC00VM+x+srnl+6S50CRih\n",
       "x+SD4bppX+jARSb6mLkZovvUAoeO/HmIj8ccb7hINftMge5+AO9yuJg22w8udIvKHaSDOD3c2UU3\n",
       "gQ5cmYOaYQvCoWb/jg3kJdhZ9AvnSbW4VcHl77C8EoXL1dRQXwQiRZKkskcjjP0vO3CRW3FdM6DI\n",
       "uquYKbGRvwk2op/raagxXMHhICuwakNZnHBIYdC3VpkT19ibD80PnsHTZAwI0AMh+3lAhosswy9G\n",
       "gyuyjw5XFwmvipML17CeBVqPhnba3e5CeWUP6l9qM+szrvuOW2DVkqiCvfWiA19p/YA6CW2V4+W3\n",
       "vbUcrK0XG/FGhHk/pyzBdQ/+eDwaXJF9dLjiuAfJ6uTCtaGpd8w9bqZz05PwlH8DPcoDTFdyF6VU\n",
       "0NPlFqMqI1H66cL1PG68Hg2uyD46XGm8PldN8mY4Q09a8KQrH/nUy2vu9W9gHfjCtWrND52Ar+7J\n",
       "04Ry+F3AhQvn8bOFaHBF9jHOruXo8/VJhmuOEbttoh9Pr9jvHm+tVsDbkNOyIpywHG+1AjNR/4gw\n",
       "W3t6JbhiOFaJGGpE9jHguh19ViYZrnPGdrU9WgNL2/r6TaHhqsuR4dFTp45EjQyj+hhwdZ869W5j\n",
       "kuE6YGxXqWYE9+Sig23d+kKf3N0VGa55AJuNKtlguDx9osAVr0GGjJYt/8Znu+fmOMvYVTVH29cr\n",
       "H9CPBU5baMfPONdnWuVGZLiegBTeHNNqX4LhIj7pZTyds8wjxbNMTZXd/JwMF3J/gig7pQPE/oN3\n",
       "FoabM/Tja7rjzpqvlxSs//OKGrn3wcdDcBZEwJVxsmURxT47UI4d4nC9wg5aZuVwUZ9pvMVpHt/i\n",
       "2tKnB8v2T6rWz5Vr8mb4Nd2RpIgl6/1eT5gpXHav7nig4Ov1AOsBKtVi6L6adz7mcFnNpDSwVu9e\n",
       "uFdsOxXFyuGiPmIxeC0L1zYXzYPsLoA7FLhuo5FGYp10XCw65tldYaZwkUub7Kg0onnhIBb3AKwG\n",
       "jgWt/Wuv1WZ4/eBSNkOo3CkNrHVnHBrZuffPJVdhfPvmVjkJhX3SH51mDyxK0mbIbHl8vXj1RxIP\n",
       "ksCVjJEhziel5GbzYc/uCjOFK6c7Ko1oXui+QXoAP8YxVhEeFGfuAfOwr0Lb1NB27/7VCUINeB1f\n",
       "gnZ9kz6W9cL3mg2+utDIylYBF/bJn8yzw0CUpNOK2UhwfMstes4w20/AbMZFOJ/Hr5g8QihhpnCt\n",
       "1B3lsu5llVh4vgU/eMGaL1bXOePEw7TQq6WGuvKQVF6p/GZlsCNjkz5kwtWrwPUMVkv99LGs2t4v\n",
       "C7iGQbEKuLBPphir0JwaLi08o2ZusQ3iDklRw+zZOlwpchQmankRDS+Cf3nuhcicekSC6/uao9KI\n",
       "7pWo0x4QGlqPI59d5jX5VtCooew6dnRilHidvJSsWKFUWTHBxWDU8Gf3rpICVxfqtu3soY9l1eL5\n",
       "OoerHxSrgAv7dNfivS+QxDMuHbTV+z+24c9Zg4ODhTWLdLjgM2Sz3bd7nKdRB/b1OYnb7tF7i83s\n",
       "Tknh+rzmSMr6bHG90nXaA7jMPKUklP5mANNCNWoolUdDrCpeZzk3WUpmw2pNkBMb1f3dJFQDzBco\n",
       "S+ljWTW7UeH3rgFQrAIugjraXOCkW6qm1SmObbGZAC+SE2SXdDmSXqA0IXUJKOT4irS61o0XtLar\n",
       "4Td9ByW41mqOpKzNFu6FNsMXaRw4e5s2Ehv0eYyzeBo1FPjKnEh4nZmivT75IFI1U1w26czAFK8r\n",
       "Y/SxrBosFHHWCce0crhyDvJGI7aDljJlsBtIIT+o7anXgN6GU3uqsN+EC7+sO8/awMu4p5DCedMd\n",
       "UkPMXFdDDeHolslscd0kr3yT3cfjf33jyaq5ySgbAujUUNbN8YnREnW6uTcngHpo5sXDZZN2O16p\n",
       "aA0u9LTksWIouGBxFnru0aZhFXCl5zfJiK0rkNI8ZPktrKumD6MfzHYHTmrjujuWbayZcN3XC7+6\n",
       "WKZtxA+BveAxgJ+RBg+zhpg51pDgylQlR94Imi3guoHwQpVpD+w1X2qqaZOcHqD0g04NZSMZ4lWH\n",
       "qJMs8pTWuYKc4DoXGMRwNmmy6JXb1OBCaJDHWv84e/tIBn9+2bBqb9XwiJFuZB0Ej8XttGufxkgN\n",
       "DpaNJJR3G0CyU0LhpXhZgivRkB1dmeeRJirTSIn0YO3xY9WYkqbs0gOUAdCpoWwAgwiiRh33v/hI\n",
       "BFBTM4WzSbP6rYRc5zW4MKb6wNLB160KXC8dKUCCzNkVLTS/FvO9gc7jEb+coQ5Xwp33e/OSwku5\n",
       "bXIS6tsecJHZon/RNqkupM4e/6ny69i4R4ZdpYaysz6AIKrWwZm8mLtoBQHU1MzNlLNJY/qi/6MJ\n",
       "12PrPJpY7JszVB9bFIuKLf+FUhi4MORuG8nWFblBt5R9X4Yr6whHHiW3zKmBvGIBvJC0HkG8BTo1\n",
       "lB0eAQRRuQ7N5FnuoiUEUHi1Imn+rVA2KU76WdqiT31kwjXf66VpMRxcvmJ9CkKtrtCSCs7ce6WH\n",
       "g37pQQvVqKGUESMRRAlNRl9Ybh02C0bdrDYmgKY/GJE0P5qpyyYlST/thWiHFupGOt5wSdRQyoiR\n",
       "CaLveDyPW4dta2x1MAKoNSJpfjRTl02Kk34JbXV1TTXSdfo971NjSdlzM5Sooe6Vyp8gKtfBmTyO\n",
       "j0sAZSrVfFthbFI8NJa2/nqaUwyu58GbBpTTjtYtoFNDqQQRRJU6pX4+sC4BlI2+q/m1wtikw8Jf\n",
       "5MqcKQbXyz52PTTcDTo1lIpCEAWZ5zlckevgTB7d0IATQBlcrsZa0Vtw2aT9wp/Ln2GKwXXSLzbR\n",
       "+CbrQaeGUlEIou4BRpamWJ+kDrkK0MdzCaAULq65ragtcDbpgDk8U+8/uz5wu88FdY4KIw7DPaih\n",
       "VAIJoiKTB/CsFh6PRGjlhGP4Z3qnGlz+qQh138G0UJMayu4QgQRRkckDuDsArolaGW0a/iyB2YGL\n",
       "5BgV2QQe1FCWeA0kiIpMns5uTv3mcjN8KzjpVzfD1Q5c7HKqqtshMjVUXa1FklNuSzT/zh8Zkq+g\n",
       "6m6YakakhqpCMnnvt9klzf+70CZcb7f75ydzs2+cPz/5yLVsbP6917x/afpG1R7aVcd/fvJs9BY6\n",
       "f37yOsprdGLzPz/5fyoH54PCBe6WAAAAAElFTkSuQmCC\n",
       "\" style=\"display:inline;vertical-align:middle;\" /></a><br>(see <a class=\"ProveItLink\" href=\"../../../__pv_it/theorems/e9582c425dd6f2d5664332792d1df5da9aa371860/dependencies.ipynb\">dependencies</a>)<br>"
      ],
      "text/plain": [
       "<IPython.core.display.HTML object>"
      ]
     },
     "metadata": {},
     "output_type": "display_data"
    }
   ],
   "source": [
    "%proving qmult_scalar_association"
   ]
  },
  {
   "cell_type": "code",
   "execution_count": null,
   "metadata": {},
   "outputs": [],
   "source": []
  }
 ],
 "metadata": {
  "kernelspec": {
   "display_name": "Python 3",
   "language": "python",
   "name": "python3"
  }
 },
 "nbformat": 4,
 "nbformat_minor": 0
}