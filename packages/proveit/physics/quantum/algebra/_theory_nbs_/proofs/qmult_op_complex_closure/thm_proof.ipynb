{
 "cells": [
  {
   "cell_type": "markdown",
   "metadata": {},
   "source": [
    "Proof of <a class=\"ProveItLink\" href=\"../../../../../../_theory_nbs_/theory.ipynb\">proveit</a>.<a class=\"ProveItLink\" href=\"../../../../../_theory_nbs_/theory.ipynb\">physics</a>.<a class=\"ProveItLink\" href=\"../../../../_theory_nbs_/theory.ipynb\">quantum</a>.<a class=\"ProveItLink\" href=\"../../theory.ipynb\">algebra</a>.<a class=\"ProveItLink\" href=\"../../theorems.ipynb#qmult_op_complex_closure\">qmult_op_complex_closure</a> theorem\n",
    "========"
   ]
  },
  {
   "cell_type": "code",
   "execution_count": 1,
   "metadata": {},
   "outputs": [],
   "source": [
    "import proveit\n",
    "theory = proveit.Theory() # the theorem's theory"
   ]
  },
  {
   "cell_type": "code",
   "execution_count": 2,
   "metadata": {},
   "outputs": [
    {
     "data": {
      "text/html": [
       "With these <a href=\"allowed_presumptions.txt\">allowed</a>/<a href=\"disallowed_presumptions.txt\">disallowed</a> theorem/theory presumptions (e.g., to avoid circular dependencies), we begin our proof of<br><strong id=\"qmult_op_complex_closure\">qmult_op_complex_closure:</strong> <a class=\"ProveItLink\" href=\"../../../__pv_it/theorems/c03ba3bbafee0642ccd57396a31f07451696edf20/expr.ipynb\"><img src=\"data:image/png;base64,iVBORw0KGgoAAAANSUhEUgAAAjQAAAAlBAMAAACnsG4nAAAAMFBMVEX///8AAAAAAAAAAAAAAAAA\n",
       "AAAAAAAAAAAAAAAAAAAAAAAAAAAAAAAAAAAAAAAAAAAv3aB7AAAAD3RSTlMAq1RmmUTNIjK7EInv\n",
       "3XZ/CtNrAAAACXBIWXMAAA7EAAAOxAGVKw4bAAAHZElEQVRo3u2ae2wURRjAv96ju7d7ve5fJmLi\n",
       "VWhA8dGLRWLR1IttFWlML/gPUiIFokZC7JEQDRHo8YcGtXJHICmnPLbRGBoiPcSE0kvgAImoQCug\n",
       "KMnBYn3EQMopj9oqnvPavX10r4GrAUsn+brXmbmZb3/zPWamBchTKrKX4DYtDdmhvO33wG1cvhpH\n",
       "M45mHM04mjGLpih96hZm4ksfv3loim9xg6kcM2jCTHSFy9OdG3GcMYPGV0YFldfUOrdi3/9Hu4YX\n",
       "mKhoJPyYZIsmX3MhaEZx3PuZoNKsVfZZ+7k3HcIPRwJgWTOan1vMGqqyx+CTvxeCLwBEVDR1+PGy\n",
       "LZp8zYWgGb1xhSYq+K2zuSlkS8fayYP48TGAa+a8DEoGTWqLvwwcbei5mAlDsxp7X8wWTb7mQtCM\n",
       "3riuABX80a+FHGfQ3M8juQmaGoANUNwLUBpQm6IxWIaf05gwNBivWGaLJl9zIWhGb1wvE1R274uY\n",
       "tyW+zenv6KeLMteNnylwSOBFq1KhGVbxgEAc3CtTYWicAfuwiNDkay4EzeiNO5kJskLlYg72Ihpf\n",
       "XtXe/3P6cBA36kQB5w6tr/NyO9UrQEXNUEfT6a/zZKg8zQVlqFEbt54J8ieoID4i9j8KsJOmLI2M\n",
       "7wrzvwT+OT8E8E9ujJ4J5CFKVFQ0MwHez4MmT3NBaLRxZfZaxKLbaE2VZPzCFGvGNpgHNZHZEMXv\n",
       "zR2HZwCmgzHQl6RAswzkXch8BnKj7aO53tlERUWzFDi9Ir4Nd6/So6HNy5ZESNYDuG8wXLSfuvT2\n",
       "o91ic5ezV9gKy3t1cREN0t+VGAGNOq1wmAZJeoJQa3IaTT6G1A1ZFdDC7HEmgKpa8PdKEoC+8wCp\n",
       "0pIQtLAvlGCfW90Tj29K5RTyU/UdKSoqGo8shmgH/lw8JKwLOz7QoyHNzkRnGZSEmM+6wrQvrAO4\n",
       "ALwCLcDr0JRgk3BJI6BRpxX/MKPBNRKbAVxT0wDtwyjQqA52iAla1Fo/znkNxA6j5I2Q26Z/oFGY\n",
       "vaQXPyf9PnFiRS6HuZZSb+MzVFQ0DkUNh7XIGMQdAI/p0ZDmtdAZhlY10nezvhQNDmoGNBdwFoCR\n",
       "0KjTzjlmRoNrJDYDJOFevAmyKqBtXDQ0SPNSrMaXpHoeMcDc9mAJ6NBgZ4pquRtm8oM0aKeoaAeF\n",
       "pmq8VH0K2Qh++KbukEEOCqQZL0ItG7teZptGiqYjg9Ec7J8FsKufe6m8zp+UF8gQXn7i/Cx4YxrS\n",
       "5Py5sFit+CbtMhwU6LigLDCjwTUSm4EjN7S9VgVymV9zqCANKAINrw+C+k2avS6xuEYcCu/2ntD2\n",
       "QGIEzpJfHL1UNDSf4g3gt3yqgwS8KeYzFGmGKtSFBaM/0Q/SFzYnk5uAI2gGUAItLnMF5k1JoMVd\n",
       "ea0OV/0Cd8EXIAZdiYVQ0wirDGjouD54yoSG1EhsBhEvO9dkVQAcqj9sYeLGmRd5AyAIbtIflX7N\n",
       "Zw7MBWhF6+TBEbcU/WjAVkXafkacSBhzxqhoaFYg63XFhMhzuGLGDDMa3AwfZ48cyTDGeINA+lKr\n",
       "EQiaFJSGouCORWVi92v9Cql6HdYjV+C2ZeD56JOyAQ0ZF+ZQl9ShITUSm8GLbccdsypAKknZyWQF\n",
       "HgVnHZSeutR8Xqza1vye7MmHF7EETXZ7S2AbdGLoHQhL6ZCa2LFoaIoi1AOnx+PxsjVzzGiKiM8P\n",
       "kKyGS/dFmfU1ovEGHq+sDCEurdhw+Qyp8u09A/PRUhysfMS99YoBDR23PumXjWhIjcRmiOJGh2RV\n",
       "AHgVzXtUOrKLwbH1KnoxcVe1rJqYcOdc6k9tQvlZklhJVIzjvcyaU1ByGuDtnsPAN1/DRojjPBbD\n",
       "pUQp8rV3yZLsUM3McCnh7oUiasGi7A2yvlarIUq2CgH0Lr2k6gRskVtkEvbfYVsNw6UE2p60RAxo\n",
       "aI3EZsDhJYIpmBXIOVRJhIrpUoZFGfce9aCglu+R4O1Tw0kEcKqhaSUTA5riECQ8eDG4z8Kw14rG\n",
       "FYRiBQS0JrPAN4RTrwnNAHJuT0BQkMl08pEraNPCD8FvwhCcUTwJQVkPO8rZ6xvQILcpLTOgoTUS\n",
       "nYEbrIl4QjiYmhUAn6I7SFoPk66AXXqcpv/FuPuqYWJAw9VUy9xGso97ZUPEisYbAa8ygT8gPHsa\n",
       "2q8GgPTdfqTb19zVflloCHJ91WiWZD/n3w1iPdQlk8BfeigIP1W+paBqEPcq5X27LWhc+0FoeFGP\n",
       "htVIdIaPZu85u5EsslkB8GgJpo2JoSy33Tl4dBeCguHGC98EkNsA6y3f9ng8ZHPLh5JL0TdhcNj3\n",
       "tRQ+dT23fLrkjYtkmKFxGAU6DJ86zOO12d/vxIY7bqjQCLgbuQCdex0HJT5TGBq9d4StCjydW2yF\n",
       "iuGIFbZXbJVdw69MbghN4DrQLP1r1NBAt0UBZ2iM/kXB+ncougP3MD+oMhmBYHWL/w6ML33w5qH5\n",
       "X5QbRsP3JcbRDF9WQ2wczfBl47hD2ZXTIN/WaPL8L19jZWBMg2nIDv0LrgpPNDp/BI4AAAAASUVO\n",
       "RK5CYII=\n",
       "\" style=\"display:inline;vertical-align:middle;\" /></a><br>(see <a class=\"ProveItLink\" href=\"../../../__pv_it/theorems/20de13248ceec0391ad6c5e39bb4f517ec65caa30/dependencies.ipynb\">dependencies</a>)<br>"
      ],
      "text/plain": [
       "<IPython.core.display.HTML object>"
      ]
     },
     "metadata": {},
     "output_type": "display_data"
    }
   ],
   "source": [
    "%proving qmult_op_complex_closure"
   ]
  },
  {
   "cell_type": "code",
   "execution_count": null,
   "metadata": {},
   "outputs": [],
   "source": []
  }
 ],
 "metadata": {
  "kernelspec": {
   "display_name": "Python 3",
   "language": "python",
   "name": "python3"
  }
 },
 "nbformat": 4,
 "nbformat_minor": 0
}