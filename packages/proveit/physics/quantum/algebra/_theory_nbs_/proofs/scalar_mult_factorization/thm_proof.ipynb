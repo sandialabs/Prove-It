{
 "cells": [
  {
   "cell_type": "markdown",
   "metadata": {},
   "source": [
    "Proof of <a class=\"ProveItLink\" href=\"../../../../../../_theory_nbs_/theory.ipynb\">proveit</a>.<a class=\"ProveItLink\" href=\"../../../../../_theory_nbs_/theory.ipynb\">physics</a>.<a class=\"ProveItLink\" href=\"../../../../_theory_nbs_/theory.ipynb\">quantum</a>.<a class=\"ProveItLink\" href=\"../../theory.ipynb\">algebra</a>.<a class=\"ProveItLink\" href=\"../../theorems.ipynb#scalar_mult_factorization\">scalar_mult_factorization</a> theorem\n",
    "========"
   ]
  },
  {
   "cell_type": "code",
   "execution_count": 1,
   "metadata": {},
   "outputs": [],
   "source": [
    "import proveit\n",
    "theory = proveit.Theory() # the theorem's theory"
   ]
  },
  {
   "cell_type": "code",
   "execution_count": 2,
   "metadata": {},
   "outputs": [
    {
     "data": {
      "text/html": [
       "With these <a href=\"allowed_presumptions.txt\">allowed</a>/<a href=\"disallowed_presumptions.txt\">disallowed</a> theorem/theory presumptions (e.g., to avoid circular dependencies), we begin our proof of<br><strong id=\"scalar_mult_factorization\">scalar_mult_factorization:</strong> <a class=\"ProveItLink\" href=\"../../../__pv_it/theorems/30cb59f4f94c9959d56f3eb025847853ba4425140/expr.ipynb\"><img src=\"data:image/png;base64,iVBORw0KGgoAAAANSUhEUgAAApsAAAAzBAMAAAAqbN79AAAAMFBMVEX///8AAAAAAAAAAAAAAAAA\n",
       "AAAAAAAAAAAAAAAAAAAAAAAAAAAAAAAAAAAAAAAAAAAv3aB7AAAAD3RSTlMAq1RmmUTNIjK7EInv\n",
       "3XZ/CtNrAAAACXBIWXMAAA7EAAAOxAGVKw4bAAAJJElEQVR42u1cC4gbVRS9OzP5TbLZFGpV/DT+\n",
       "CkIrwdZiK9qoLWqLsqig0oUuqIgfcCqiFD+NgmJxdVelaETtqFAw0m5a668FXRUtVtQVq6i4ktqi\n",
       "FqXdalftFhvfe/N7v8xkEht19EGSuffOnXlz8t67992cXYDAplcqZjv2/0CrVCpN49BdrxfbsXe2\n",
       "PdHJm+lPWp9r6gcAUvX6UDNw9rZn72jrKnT0dg8543EeflMjB+cxrJho/4q+l1BGIw2n2s/K37Z/\n",
       "yVjNz7oh0nDeabCDp+odz6tPmXJ9SS6JjbLv9H34QpTh/IYV19LC+2hl/b2BJDbPHveL18q2CMOp\n",
       "jrDy+fQaeAhN3P1ySbJienbVN2+5JsJwZqqsTKOrorGmHpJLki+Gsm/zu+UyI7pw7mXnpUIHpq5x\n",
       "NG+3yiVJwkXZr/a7ZTwXXTg/YUUND9bEMd+T2JwZAv04N/iwkmScU/YNvqnSZGThTHKxJY7Dbp+R\n",
       "Ik88+MyeaV6Oz0pic+xJ9JpLvpox0nLCxuhQZOHs4iJRdx497jugkVx7rwHKOwDPWwuAJelbpjQI\n",
       "2/bZ0I1G6Ezfmz4dWTgz3NjJoJ5p49BNAtRT6PVmKbnH2sdYkmZDLTbLbo9U35suMKIK52BBhBMt\n",
       "gsOkg/vwo9ecbaEl9fQmGuSe9tmk9fnedLgQVTj3GuJkH67BArKu/oLepvfacNqSajaA0zl7/Xno\n",
       "c5bf2mlPiSjC+RQnp9DwGs7DNAXBnP0NgfSrU7RwJEjLJ7tjL85woGrYUqNRhfN9Tk7nMKTKdg1H\n",
       "eRSm+m5w4HQku8Km/+q8DVuRyrbr5iYkLPG9aXqchpMM1ZMC4OoiGVahNXvHms5vGpMIOv3415b/\n",
       "gIL+mn1Tpj3qlNRcKWHXf7c7b91kR+naSQr/mf/GdoKGcxH+vC4ATg0PwLjRmr1zaaewafxCknYz\n",
       "s/tWuN3/mmjSJ0abuKsD5z34OxoKgDOJx/CKFu0da8rPvGZOAJyJJx5Y7I8VmvRaoYk54cCJy0/p\n",
       "fNDaiJeZjS3aO1dPEqJ0SpgwiVcO1qioXK+P+14ymwseJvtoOFWEfTww1MxGn/0t2jvWcDjmRs5Q\n",
       "m5fE29THA845wET2D8fGPgiEMzM29nW1RXvHWnpSUN3d3hWvHUBfUlBIeI+B80KAJ8WecXBpJUiZ\n",
       "PnD62X2aZq9nIYJY1udqk3/1F3TJ4iZOGmPgXA6JnF06EZ7ThQudspw5Yfe539dE+6r9Wy5yql7J\n",
       "NUs2SX70ZtQp6+MM1pM+Ft2KnvK7P4pMBWT8b5kUXzNwpsx0r106Qe2uJb3qWyKcaAC/7MgPH70a\n",
       "XjgSTq2KdnUUsm5V52yAnyR3p9UWnHqO9WSuIrgtxeDuKKObLi2pKPPOmv8oOJWaE4lwJ5XcZlgs\n",
       "gfM0N9JoaHWAzTVQq6K9qwiq+0xTwdotc41WW3DirJX2ZK4iuOFUZCH+7vHPlAtKyhurDt9kb6qx\n",
       "kx36z7H1uJPKORpU0wsvXriIhTOuormtv/SjQX4n1c9EOkOwQyYP69ws7W3QP5XcnVZbcHZznsxV\n",
       "BDeU1WWJ9X706ilAn7vyp4XILnIO2uExJOT+bCiCjThpXH+e1Unl3itqVcnoTM9Ag2KdMWiQ3EO5\n",
       "xZDZYeXOOUe5Nz80+9ySpE+02oLzNs6TPhbdlCK8QA6eIcgrl7ijMytWh74NVIRomMAgITG8xcJ5\n",
       "J45ExRlWJ5XS5lNkcCaw00IYgBgGXX3elNnRAqdPBW8FfLYoybVptQXnVZwnfSy6xYbgMnKA90A9\n",
       "JrV2imm8UpUpQhEYVLx9t2PnTpCRGPazcHaha+HSyWUWnFp2SAIn4PHyLuwA9fpy+dHkfSWZHS9w\n",
       "K3thhWmvgIkJuHQXV2+y1KCZHpwncJ7kOHbaIrlbcgjmlsvlPBy0XT2sJvgnXStXhCIwZBAc00vu\n",
       "si2QGPSDsgLd1VYnlZJe7RfzTsvxN3iskiRfOApFYIoFurcBlpWSs0x7BYz9DiM6F1QsNTM6V3Ge\n",
       "5DgDw3I3NNkfJAfT5z9HNrdszZdp50sV4QgMK9GjLrMmBiYwCCQGtgTilU4etEYnXFprVM/cmpyY\n",
       "b+X8d1wA6ZpgT0yCvh0pTHgRdcOEdUUwkiNI0KvOm61W57ChyPN0jhNoYXH9aLdszd4xaF++eqsh\n",
       "Tju6jUgV4QgMC0rezxzbQCQxWIUXDk701KSTai/Z9svhvPz0HwuwAg98/ZXyhaJ97sEtF+UJKAN5\n",
       "9eYtm3DFMNWLhORWGDDwm6O+fS0FZ8qgPN2rwGrUK9sPKDd0doKsZfoDJ9eAmXqf80/aL1WEIzBM\n",
       "R6+bDGcKiyQGq1LAwYkwJJ186DqAnG+1XX+9vNq/Go9BcWtUGHWvYOUenUXBGavSnm4WKQsPyA1H\n",
       "zBfLKI1f9fFHhsrEmmP5XSdNW3AVIQkMaGl91qmbbgCRxNA1LoETl05IJ+V78qASCQ9nzMElbdY8\n",
       "gTo6gt5kXiCDc7Nsd34EdTIkdn/8GDsvTbEe5NIWXEU4AkPywJ4dZEBixOfaLz5U8XDi0knTcAXY\n",
       "kz9tBNURbq6PegJ1NErDmTY9T/fJ639I7jWKV6OGbZCr2zK0BUcRksCA5/LMgl3ZnwkiiWFlTYTT\n",
       "r3RyGH56y55YZPYoZvNuuo/dj7ZAflPLkK6GIjCkUPRKO6nIIIgkhn8AbUGZ2tK2JMhNGxHhdGgL\n",
       "5De1THgCQ0+OCvx9IJIYjoO/Hc52W3KntFYdmxAnu0Nb8CZ7OAIDZpZ0TYC+C7vOsl90iwDl6x6Q\n",
       "d3w7N1FrHm3BVYQkMGBmyWA/aCTHmgcCiUGNACGx0d9icaGdpi24CoiPBBEY8DpLDnDKiQb9eyZU\n",
       "0nixWAICiaE7AnTZrxoEL47MTdEWPEUTBAayzloj/WhcIMk7OdZnIJAYokDmXjpbnimqXAFZoC3Q\n",
       "inAEhh7DIjDwJIZH4N8PZ8N2IysKtIU5jeAMJDDgxBwTGDgSQ2wyynAOsDURgbZAKUISGHaARWBY\n",
       "ISYP0YUzyz6QQFtonceAN5qPg0BiiPYfEfJ/4irQFlrkMcSvHLEIDByJIdYfHs75/n/2HmTvaIvn\n",
       "D8tltV3yR7zfUlcqu/G/B1jfFJz//3uARk23fw1w/z3An4FaPStth0JWAAAAAElFTkSuQmCC\n",
       "\" style=\"display:inline;vertical-align:middle;\" /></a><br>(see <a class=\"ProveItLink\" href=\"../../../__pv_it/theorems/1ab9c8de885d9a54628aa9c8388253174ee340100/dependencies.ipynb\">dependencies</a>)<br>"
      ],
      "text/plain": [
       "<IPython.core.display.HTML object>"
      ]
     },
     "metadata": {},
     "output_type": "display_data"
    }
   ],
   "source": [
    "%proving scalar_mult_factorization"
   ]
  },
  {
   "cell_type": "code",
   "execution_count": null,
   "metadata": {},
   "outputs": [],
   "source": []
  }
 ],
 "metadata": {
  "kernelspec": {
   "display_name": "Python 3",
   "language": "python",
   "name": "python3"
  }
 },
 "nbformat": 4,
 "nbformat_minor": 0
}