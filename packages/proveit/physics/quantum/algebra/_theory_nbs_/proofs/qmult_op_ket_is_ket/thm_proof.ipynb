{
 "cells": [
  {
   "cell_type": "markdown",
   "metadata": {},
   "source": [
    "Proof of <a class=\"ProveItLink\" href=\"../../../../../../_theory_nbs_/theory.ipynb\">proveit</a>.<a class=\"ProveItLink\" href=\"../../../../../_theory_nbs_/theory.ipynb\">physics</a>.<a class=\"ProveItLink\" href=\"../../../../_theory_nbs_/theory.ipynb\">quantum</a>.<a class=\"ProveItLink\" href=\"../../theory.ipynb\">algebra</a>.<a class=\"ProveItLink\" href=\"../../theorems.ipynb#qmult_op_ket_is_ket\">qmult_op_ket_is_ket</a> theorem\n",
    "========"
   ]
  },
  {
   "cell_type": "code",
   "execution_count": 1,
   "metadata": {},
   "outputs": [],
   "source": [
    "import proveit\n",
    "theory = proveit.Theory() # the theorem's theory"
   ]
  },
  {
   "cell_type": "code",
   "execution_count": 2,
   "metadata": {},
   "outputs": [
    {
     "data": {
      "text/html": [
       "With these <a href=\"allowed_presumptions.txt\">allowed</a>/<a href=\"disallowed_presumptions.txt\">disallowed</a> theorem/theory presumptions (e.g., to avoid circular dependencies), we begin our proof of<br><strong id=\"qmult_op_ket_is_ket\">qmult_op_ket_is_ket:</strong> <a class=\"ProveItLink\" href=\"../../../__pv_it/theorems/807ad73925abf245b646127924692856ef6149e10/expr.ipynb\"><img src=\"data:image/png;base64,iVBORw0KGgoAAAANSUhEUgAAAhwAAAAfBAMAAABe2wnIAAAAMFBMVEX///8AAAAAAAAAAAAAAAAA\n",
       "AAAAAAAAAAAAAAAAAAAAAAAAAAAAAAAAAAAAAAAAAAAv3aB7AAAAD3RSTlMAq1RmmUTNIjK7EInv\n",
       "3XZ/CtNrAAAACXBIWXMAAA7EAAAOxAGVKw4bAAAHLElEQVRo3u2ZfWwURRTAX+9rb/c+en+YqCRw\n",
       "l0hAEPRCBYVqvaR8CUEbTAwI6gFRI1FY1JhggC7+4R9aeheV1EORbSTExqQ9qAqlRougEsFaifwj\n",
       "XFgs0QjSVgJUvqzzZub288pJvCaInWRutrOzb9789s17b6cAQ1JG5uTrVNgg5XQuBuHcoSGSnrxu\n",
       "hQ1W3HHyU3FD4ZB55UXQrxTrDVsRbkwc4RirpLyMP4Ga/J13SH1i0Oe8moEjgh23lR5HCeUmoQwb\n",
       "V7zIuDt4JWWlCQdZ7GiE5XjcveWyJh37OgbdBo4ZeOOZ0uMoodwkeHBhviIOVUqyiuQGTDiyACFs\n",
       "lzueKDsDMI5I9ak6jvW4edKlx1FCuUnwo62tLjLME2cVL6OyjkMi1hHALXS34wn/BRASaBkJHQeS\n",
       "CcRKj6OEcpPsze4oMizIKyk7v1B0HC6Fv5egym7+lsvlvdFKuZG23+o4sPENgSstodwkc/nFPOoY\n",
       "Xsnqtd6YjiOQ37U+ZjmPnjQeeWAOdXGwzIgs3+VyB4YispROLhEWzOWOZosMm8sr2StwV5zhaK4m\n",
       "OE4zDxugSxfMLiT4B7OY7QaO2QCbhgKHLlflKtL5G1jP1Ih1/Fhn1LQI8yggqlwGQKLgnMt4BZgP\n",
       "qSzDkZ0AH0CvSn2pm5qXxSEH/mLtFAPHKhCIbi89p4CL8h93QS7bozBf/dkR9dNLyv3Q1CdsNvks\n",
       "omzPrmwRHEwuEbKf9ojMl+d7DBxjOokuNU4FEmZhRNQqLsMNMElPoGbu12MrHOIVcdVGKA5/bB7c\n",
       "gw4FQ5Org+KwhJYrrJ1g4BBVQtGdbYlBiAWmfeBBgvW3bgQxAuEOqAehDzYYQkL46j2RIjioXFTq\n",
       "jB0H9pCn/cczZIBnfA6gsYACiyxp2Cb4hMsI8xb1q5SIqMN82Fe8Qvjt6dE0xSFBJ4mz5PVhaPL3\n",
       "4c26HCn5iDcrymZMGThcGgFWDy0y1LExvepuNIHZuAaKg7xPC47fATrM77cwDiqXlAWddhzYQ56e\n",
       "Tk2wHW4HkqQ4FfCpZhx3UsL41wtAaaF+fk3qB3+HHUczQHkX2yyuiwQH+RvtzksHNplDs5JiYBab\n",
       "kvRkFQc0nfuXuahIN+RxSFsQR13VCRVae4SnR8+ItqtLVJCFzVUfq0IrybdOHZcDVRr8XBk3r4DJ\n",
       "BW2JHQf2RHiWKFzE364CChhRGoX53BrK8B6HaSEFk4Vuljn0gSdh3yykI9TBcHiSQgxOMo/h6uKm\n",
       "rZddEOqnFxNNOHZQXztVt7rwn2gPFJt4pL2tA2oRR0p2JX0xT3zx2Cx5iWuvEAopOZwsywblQMKT\n",
       "XQrV3qygmVfA5IZhpg0H7Ynw1xTAeYSkUwFwJczCAmNUlNFcrmpiDNJcP3Cn8zsM4H1evRji+ziO\n",
       "tFv11rAUzk0fCWuGtyZO4hLwxes41qDZbxs4eLCPu9t9XGZ+s7RQ6wA4lwJvOqVSm66ParRLkMV4\n",
       "iyx82AcL/WfHW7Y7lQsLcG9ZcNCeCDzCLAHn8aadCtBOQ5iwh8p4ZSJoboV8CzH9pJWXD36fH7ad\n",
       "1zU4sp/h8H4TgMk8hfMw579UT+rfJT8DKo/ROo4yuof7eSAC2N2LKfyzmcybNhx776uoqCFtHYZK\n",
       "P+uCU6e1J8nwvRWTYeFAjXkFTO7c9qhqxUF7IjAlk8nEIIU3XRGnAuC34IBbmIxRQozkVW9w/aBc\n",
       "xiDJygZWmwaWg2vL+SxLw9a39ch8N3IzatzInJL/vcsKvDbwI14ftn/ge7ugjFlnQA2SC3+2oHXQ\n",
       "CeukeARnwK5QXDxZS+GAX3UnHd/kJA7UKhYcrCdCloQF3YWCK7crYNsseQs77FZfJBGB6wePA9yk\n",
       "BzyFVSOrwPW/qm+8tbx70eacLcEVuuw4iEPyaSCRSeZA+CLwFMqEIyW702Jc0giDFr9yDjOBlBpO\n",
       "t6ihHjEraW9BM5kz7VgB2RLlMQsO1hPBtIoocqFaEWvw5TkUCGuFcIwKC1nqODblaa7Qv9cTrFpx\n",
       "0JRcRAupvurHnxVHUIGgNsL/pTTvJ2g8T26tVjANO6D+cun1aGLrWVhXcYpExR4huhMCc2FGeztx\n",
       "pZNOQLj63hWkGwKfa66HKmX7Cjx7QHr4KTMO3hMBAc9kts5vO0bahgIKiHIhHFsfbKU+kOoHQLKw\n",
       "zrJ8RG7g1YKDWtG2q39er3achq0jqv4gg8s4PWjLbCySidddywGWKdBiIbvto0wm72sWFVCgCQrh\n",
       "wLSDtlQ/DGUjbzY/0WTHQW2sG8x4HaVhsMPBx67lwyT173CYrVV2KjCrMI5pg5/zIRwj1hMjUsyz\n",
       "/Tr4oaI8GI74NdAQotlS4YDdDgXcNYVx4HJH/NdO0p93/GuEHWuLfG9P1WwHe86jvgLC8kfj6hD8\n",
       "n+VoHMK5vTBc/lmprxxmYDpWjYjDEEyuTxlmYCohVRqGYBRva8X/cNV/A4juHqWFpGBQAAAAAElF\n",
       "TkSuQmCC\n",
       "\" style=\"display:inline;vertical-align:middle;\" /></a><br>(see <a class=\"ProveItLink\" href=\"../../../__pv_it/theorems/88d8c3ecedcb0dd9584b8f7b1ca5512757e1c45d0/dependencies.ipynb\">dependencies</a>)<br>"
      ],
      "text/plain": [
       "<IPython.core.display.HTML object>"
      ]
     },
     "metadata": {},
     "output_type": "display_data"
    }
   ],
   "source": [
    "%proving qmult_op_ket_is_ket"
   ]
  },
  {
   "cell_type": "code",
   "execution_count": null,
   "metadata": {},
   "outputs": [],
   "source": []
  }
 ],
 "metadata": {
  "kernelspec": {
   "display_name": "Python 3",
   "language": "python",
   "name": "python3"
  }
 },
 "nbformat": 4,
 "nbformat_minor": 0
}