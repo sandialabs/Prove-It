{
 "cells": [
  {
   "cell_type": "markdown",
   "metadata": {},
   "source": [
    "Proof of <a class=\"ProveItLink\" href=\"../../../../../../_theory_nbs_/theory.ipynb\">proveit</a>.<a class=\"ProveItLink\" href=\"../../../../../_theory_nbs_/theory.ipynb\">physics</a>.<a class=\"ProveItLink\" href=\"../../../../_theory_nbs_/theory.ipynb\">quantum</a>.<a class=\"ProveItLink\" href=\"../../theory.ipynb\">algebra</a>.<a class=\"ProveItLink\" href=\"../../theorems.ipynb#qmult_complex_right_closure\">qmult_complex_right_closure</a> theorem\n",
    "========"
   ]
  },
  {
   "cell_type": "code",
   "execution_count": 1,
   "metadata": {},
   "outputs": [],
   "source": [
    "import proveit\n",
    "theory = proveit.Theory() # the theorem's theory"
   ]
  },
  {
   "cell_type": "code",
   "execution_count": 2,
   "metadata": {},
   "outputs": [
    {
     "data": {
      "text/html": [
       "With these <a href=\"allowed_presumptions.txt\">allowed</a>/<a href=\"disallowed_presumptions.txt\">disallowed</a> theorem/theory presumptions (e.g., to avoid circular dependencies), we begin our proof of<br><strong id=\"qmult_complex_right_closure\">qmult_complex_right_closure:</strong> <a class=\"ProveItLink\" href=\"../../../__pv_it/theorems/d17badc0438084981c39418cd30388a327c5d1d80/expr.ipynb\"><img src=\"data:image/png;base64,iVBORw0KGgoAAAANSUhEUgAAASsAAAAzBAMAAAA9eDPFAAAAMFBMVEX///8AAAAAAAAAAAAAAAAA\n",
       "AAAAAAAAAAAAAAAAAAAAAAAAAAAAAAAAAAAAAAAAAAAv3aB7AAAAD3RSTlMAq1RmmUTNIjK7EInv\n",
       "3XZ/CtNrAAAACXBIWXMAAA7EAAAOxAGVKw4bAAAFRklEQVRYw+2Zf4gUZRjHn9tfMzu7N7cURP3T\n",
       "7VFoEXQXF4IneXdpEim14D9XhmyIhBfVGBJF/hgJTTnLkwRdoxzKAr28O62M4+g8oyCMPJMKNBcn\n",
       "LipNsq48zTq393nemdmdnZ2xHXbviG7g3p15Z973/bzP+z7f55k5AI9D2rdPg0k/rjlqbS7XNvlY\n",
       "0Vyu2xsrBVNyBKexprH+k1j3ltvgHW0SsEKJcluIpyYBa1b5Te6qPpZ41IeSJquOFen3EXeOVh2r\n",
       "0U84ba861rd+Gq1TqowlXvEVpvurjFXDu1aKqhXXBqsIaLjKWHVNWMrctYS0Wb3U7fnb9sj44JiB\n",
       "RZp3iytWDf4GmsrH2kp2ucPwyl/NarlEVw0jTzBjDVyH518ZWPfh7+OuWCE0WEQpH6uVHN6wUqOF\n",
       "BZ2OJx/+6cWRNIQXnMOLBQbWejRdtyuWiNZ83sci3kDxx7BN+yWr/u7iB2U2+P6r8HPPRry6YGBF\n",
       "mLzEku57C2d30AfWESzi/Dz2wmWrPs7lTH49+w2vGGB/4QmAldyuKscKsglFPLZ8M/tN+8D6C4sZ\n",
       "/HytPJYXfzJg+ClTbMMkJCNsyfiWTBqe+EU2+7kHVjybPe0jjMDvWCzk520BuoKhURVi5GPPWiEg\n",
       "Tp0/bV72NRlY9wPs8sAKqRD1EUa4py/jBkmKZLs1yRBbnbTdxxpJhJ60dEU3sFaCUJgYydtvXluI\n",
       "xW7yVZd4EsWnuANLDWa7plQiYZ0w2gi/8XAU1yFAgpnfFofJyz+xsPoNrKgWM1RT/C6TkrYpgdds\n",
       "croLPqCLd1WKDlzCifMzgDzWDxO2V8rwRSw/pfOz89v/RDraRSJqhch2TvYk3azHMUTLJeraDKyA\n",
       "bu74+WzgWC/AHBvWncbUDieLsGJjhIWTAViiBseZqTW7tQhLYusygSYmGQqjtaS8Il3AmUXbHFiQ\n",
       "notjjOokwG9tMH3CxIoEdepui16E1XGMsHAyEGC2b1UDQ5tLLCKu+2nczdRB4DiWxy2svj+ULuUe\n",
       "cOwtOIjS9LU4vBerZ84sjomxGWQCOZIowtIfQyweTTbyKPio5TwC+d4bWCw2PA2jZMoIw7/kN+GZ\n",
       "vx8Id9pDKT2zmo0X6pZUbA4tLcVYAgkj6KG0HUvGQJEAmgyNH08GHrSsJV3F8gC2x1XbreAYEFMh\n",
       "RIIQKRBwDb4vSLhM3YIatgpxBjArk8kkN3U4MogbaQ1VediO1QHnEYsmA7hkdVrB3uK+9TLj2z2u\n",
       "we05FoxhsPmc2ad00yPmgxsWtxckKltThYlNHZtNF+3jXlMK7IlNaPDAFTvWwsF6jWHRZEjTG2wK\n",
       "sYI6UB3Kscbw1AEj+NTmcsx+W7TCVNvCiqSgn1RTeF+BoRJYOgiXbVgsO1qnMqwu7uYtbxblBoso\n",
       "5jq/Q80rrnimPnf9S8vNq49saaAwb64m7MSznhXbVSdWuIkvVB6LLV5dkmHxEBA6+eEqe/bTSvU7\n",
       "HOpfIllpOPOl1XabMzvtyWRSLtnpogTsGU8VYIWOgPTQcobFJyNtulUHW4zqo02915GsK/8ilJaf\n",
       "NBcIBB4JYzKbR44pQVtE5wop6EXtf/SmCl+qFJaxOGdHXrV/dRn28wYQS1cWy/mCfNEPVjzpD4sH\n",
       "pqixlWfr7o0P+cE6X/W36rjqefuVOaVqP64YljhaOnkNeqbaYiJaolZOVwxrPbh0sszzrb6kLVcr\n",
       "FcPa6XZjv5dE1WpSCTc5UbnPbqfAJdUXOr0E6r3mEiZsqhzWkma3TwHPleslb0/Kl2bfxzTW/wCr\n",
       "ZWr+zdl7Dawp+zfnP7lOXqKEbvlqAAAAAElFTkSuQmCC\n",
       "\" style=\"display:inline;vertical-align:middle;\" /></a><br>(see <a class=\"ProveItLink\" href=\"../../../__pv_it/theorems/87965218297ce26bd7a5ad4c457e29e5bed7c8830/dependencies.ipynb\">dependencies</a>)<br>"
      ],
      "text/plain": [
       "<IPython.core.display.HTML object>"
      ]
     },
     "metadata": {},
     "output_type": "display_data"
    }
   ],
   "source": [
    "%proving qmult_complex_right_closure"
   ]
  },
  {
   "cell_type": "code",
   "execution_count": null,
   "metadata": {},
   "outputs": [],
   "source": []
  }
 ],
 "metadata": {
  "kernelspec": {
   "display_name": "Python 3",
   "language": "python",
   "name": "python3"
  }
 },
 "nbformat": 4,
 "nbformat_minor": 0
}