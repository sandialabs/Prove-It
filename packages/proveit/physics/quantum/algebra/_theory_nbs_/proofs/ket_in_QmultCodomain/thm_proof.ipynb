{
 "cells": [
  {
   "cell_type": "markdown",
   "metadata": {},
   "source": [
    "Proof of <a class=\"ProveItLink\" href=\"../../../../../../_theory_nbs_/theory.ipynb\">proveit</a>.<a class=\"ProveItLink\" href=\"../../../../../_theory_nbs_/theory.ipynb\">physics</a>.<a class=\"ProveItLink\" href=\"../../../../_theory_nbs_/theory.ipynb\">quantum</a>.<a class=\"ProveItLink\" href=\"../../theory.ipynb\">algebra</a>.<a class=\"ProveItLink\" href=\"../../theorems.ipynb#ket_in_QmultCodomain\">ket_in_QmultCodomain</a> theorem\n",
    "========"
   ]
  },
  {
   "cell_type": "code",
   "execution_count": 1,
   "metadata": {},
   "outputs": [],
   "source": [
    "import proveit\n",
    "theory = proveit.Theory() # the theorem's theory"
   ]
  },
  {
   "cell_type": "code",
   "execution_count": 2,
   "metadata": {},
   "outputs": [
    {
     "data": {
      "text/html": [
       "With these <a href=\"allowed_presumptions.txt\">allowed</a>/<a href=\"disallowed_presumptions.txt\">disallowed</a> theorem/theory presumptions (e.g., to avoid circular dependencies), we begin our proof of<br><strong id=\"ket_in_QmultCodomain\">ket_in_QmultCodomain:</strong> <a class=\"ProveItLink\" href=\"../../../__pv_it/theorems/e5e626baa1ab7e8aaaeb78869feb66fb1e5664630/expr.ipynb\"><img src=\"data:image/png;base64,iVBORw0KGgoAAAANSUhEUgAAAVQAAAAmBAMAAABpIX74AAAAMFBMVEX///8AAAAAAAAAAAAAAAAA\n",
       "AAAAAAAAAAAAAAAAAAAAAAAAAAAAAAAAAAAAAAAAAAAv3aB7AAAAD3RSTlMAq1RmmUTNIjK7EInv\n",
       "3XZ/CtNrAAAACXBIWXMAAA7EAAAOxAGVKw4bAAAFqklEQVRYw8WZf2gbZRjHn+SS3K/kmj8U2XA0\n",
       "w4GggsfiZrW1RLq6wVD7hw7GdI37Q3FKPUUGQ11T/5KZNedmwTqq5w+GA20OK9tqRYITNrY66x+i\n",
       "OMpOOwZrXc1cu0rnjO+Pu0vSvl0vNTah5O29efO9z/u8z/s8z3sBqOLr7sIVr0MDMY8DpZ2kebQw\n",
       "W01SWO196IOeR+4zaHuqRqhc0vvQaG1R04Z31f21RX2uAtVPjVqi+ivZI4FoLVEjZgWq/EwtUTNG\n",
       "JbIHa4m6AhvLvUotbNAEfm+qJSrOFHKbc/XOgi69N2GhpjNGUYnP3lY1VE9ywkwRFbGsYVHeetUE\n",
       "fvNbmDKSoKituHmmaqie5Lh8ERVtsMj8EcH33mi6CvBYB3bqQJKidmGX0KuG6knOl3RRJWRVeX49\n",
       "cBF9cs5SvjyGRyp5ihoymGOXiupJLhx1Uf2pkqldHB2lCVfGPe0jwBN/8v9FUTkV6VdvW3mSqzNd\n",
       "VLnEYbaMOwPa8bqHkTE14tp/2hHgu9HR01WMAF7k6lSK2t+CUC8B3Ekj0053AFEI5Z068IqNugng\n",
       "3SqiUrkE7Uiwx5Hog1DNu+Aj+MOw91VIc7f/NLkeca7/sVFfJB7x8vMp8NN0J3111jhyLfUAHM7z\n",
       "fSWpGPn35DFzMVQqR7xPhbVuLH/opGM8nKwoqhB7GO6FMJImvlD0G5mk0rA70Ws2qmig+XFmNgYR\n",
       "9I3uFT0gRkHJQTfwedhXkrexxezS4QaoRI6iWiDiBks2SsjffnRdsY2gSnAGxSpkAoGopkfRi3zR\n",
       "R6yacbPYlI3qt9B0uiGrQRrNbxO+G0FF5i1D/R0gZ4f4G6ESOYLKxyCgUUnBkmZAyM2xKi6wTOgH\n",
       "ezkPuzrKZfz+NsxFhWQz+TrABoAxcFCl9zFquvm8AQOT/NNrWuuHjKcM0Pi+5i8MfgCF+olfNbnZ\n",
       "gt8a1bLESuR02B7ljJ9xDh+jCSoPgcRc1EASTWfc8dJiJpAKG4WjnOuqrq/C52Tn3YcXSCL2F88O\n",
       "DeagE6NmNH8yFAuoT9xuIpu/dh0RZjQl6TPDmpwImDugJWjyVhkqkdMla1ZB9btuSwKnE/+yt5Ud\n",
       "AQI6ZwRR725qS6t4nip8a2wxykoGgvoqXtRDheHhPARV16qQJVYFmM5AUEdVWxq7Xb1FunhNVLMa\n",
       "/0ketgpTd5SXK0RO5z8cUaABVQNUUnrh7+Hv3XFZi6IGT8iwDs+Odu8oOaeCUowevBNXwUfcdwYf\n",
       "zbhne3v3z0E93hSPt6EW/Rl4HXEXTFyy2pGpjsfXwdZCWxkqkdPBZ72EHPFNWxLqNFhfzFYJOwV0\n",
       "DU7itbeX+oMex5DC4/fcXFLdTJcVgcER8CVAMJlWBby90pIaxaq4K6KK450EHASjePosFoF4ue/n\n",
       "VdhoS8KTADe5n4Z0J1u9TsKoY8BtfXZiPVdA8Uk4VXa8cVGRz4csOxmUoGY0ThdVyUJ8WSE1jWNm\n",
       "xlD0rBGZFE3JOgD96D46C9VnWa8QR6X5BW3ZjmKIzjmoJJWK2rySenXhcsMuZ7XkkTLUcArC1krY\n",
       "ncIp4LRx4dre+sTHU7AnPgEwNMnXHwV5M7QODaFttfY8KC0NHagb5K8t/yONGgtV2nBQBQXvGeJf\n",
       "KAOc8Tnry806qMTkh1j16qrrtzj/i9Ey1D3IyX7QQBrs7VnsCO/lFKCTsEpSAJHEUWKVe2+cDygq\n",
       "2fRjXkqGpRxYMh5ROWTD7QsMxNFdcZNRdJE7tmtLQ+XrTW+oCmpWLjCwqaJbHvlfj4G2+y50hs62\n",
       "VSL7TS1PrHKyAlUlx0btblyWZ1Yn2SfZMZZzhWNMVCEqLgvqemZvF7AOkBfYTwLF1PI8CQyprF7m\n",
       "swv+BBs1YkjLgir9xOr9hbUPP4uxUYMD8f+AWsFvAbtYwWFbnGHsA+S92r8FVBKevXqa5Ma1fwHX\n",
       "DrKqxDrlnQAAAABJRU5ErkJggg==\n",
       "\" style=\"display:inline;vertical-align:middle;\" /></a><br>(see <a class=\"ProveItLink\" href=\"../../../__pv_it/theorems/d7e52c13a61fc401c7530a159c293a15070381160/dependencies.ipynb\">dependencies</a>)<br>"
      ],
      "text/plain": [
       "<IPython.core.display.HTML object>"
      ]
     },
     "metadata": {},
     "output_type": "display_data"
    }
   ],
   "source": [
    "%proving ket_in_QmultCodomain"
   ]
  },
  {
   "cell_type": "code",
   "execution_count": null,
   "metadata": {},
   "outputs": [],
   "source": []
  }
 ],
 "metadata": {
  "kernelspec": {
   "display_name": "Python 3",
   "language": "python",
   "name": "python3"
  }
 },
 "nbformat": 4,
 "nbformat_minor": 0
}