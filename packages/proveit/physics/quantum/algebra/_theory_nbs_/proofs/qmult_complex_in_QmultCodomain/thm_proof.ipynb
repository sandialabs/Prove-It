{
 "cells": [
  {
   "cell_type": "markdown",
   "metadata": {},
   "source": [
    "Proof of <a class=\"ProveItLink\" href=\"../../../../../../_theory_nbs_/theory.ipynb\">proveit</a>.<a class=\"ProveItLink\" href=\"../../../../../_theory_nbs_/theory.ipynb\">physics</a>.<a class=\"ProveItLink\" href=\"../../../../_theory_nbs_/theory.ipynb\">quantum</a>.<a class=\"ProveItLink\" href=\"../../theory.ipynb\">algebra</a>.<a class=\"ProveItLink\" href=\"../../theorems.ipynb#qmult_complex_in_QmultCodomain\">qmult_complex_in_QmultCodomain</a> theorem\n",
    "========"
   ]
  },
  {
   "cell_type": "code",
   "execution_count": 1,
   "metadata": {},
   "outputs": [],
   "source": [
    "import proveit\n",
    "theory = proveit.Theory() # the theorem's theory"
   ]
  },
  {
   "cell_type": "code",
   "execution_count": 2,
   "metadata": {},
   "outputs": [
    {
     "data": {
      "text/html": [
       "With these <a href=\"allowed_presumptions.txt\">allowed</a>/<a href=\"disallowed_presumptions.txt\">disallowed</a> theorem/theory presumptions (e.g., to avoid circular dependencies), we begin our proof of<br><strong id=\"qmult_complex_in_QmultCodomain\">qmult_complex_in_QmultCodomain:</strong> <a class=\"ProveItLink\" href=\"../../../__pv_it/theorems/e440a9750fed5c2b9cd5115e1cfc88cf4ddc14f40/expr.ipynb\"><img src=\"data:image/png;base64,iVBORw0KGgoAAAANSUhEUgAAAJIAAAAmBAMAAADdDt/eAAAAMFBMVEX///8AAAAAAAAAAAAAAAAA\n",
       "AAAAAAAAAAAAAAAAAAAAAAAAAAAAAAAAAAAAAAAAAAAv3aB7AAAAD3RSTlMAq1RmmUTNIjK7EInv\n",
       "3XZ/CtNrAAAACXBIWXMAAA7EAAAOxAGVKw4bAAAC6ElEQVRIx2NgwA+cGIgAXFmE1bAIEGMSQ+8C\n",
       "gkrMiDKIgZmghRyniDOJYRIhBWwbiDRpDSHv6S8g0iSC4XmbSIMY2L8TCKZfxJrEMBu/NOMEIMF3\n",
       "twFOYgMlYNIGv0n8BkCCOwDMhlIYQGMJH4iqV2AAB5UydlX9BXhNUjyfDXTSTiEQm9eBwRVEp2M3\n",
       "yZ4Bn0mRL5rPJzCwur0CR14CQyMo5CdgN0kMn0l8QE1r/zG8Xt0G5n1gYAMmGW4F7CYdxGLSy7t3\n",
       "E8CMnUDM+peBoRDMY/rBwAwMVTYcIf4b06SwV1A5VnAKOQ/0ECTBfGJgOHv37mkcJn2GGbHvcQPE\n",
       "JHZ4+cEDzkj58IIFqNaDgWEWjoT7CWpSrQLLBIhJbAXwjATm58IV/wP5kx050/BNkauDJXGYSbcZ\n",
       "eB5ATYKr2w828whySHAugAUmx8OZAVwTC5hgKZ/1K8Qkll/wcOq5CwTgmJYH8Tl+wE36Agz1BzCL\n",
       "XIAZgnsdA4M1mpt4JsBNWgnX+R7kEU4HZJMYEuxACh8/4APljcWtsNhAmLT+AdwkXrjO9V8Kugts\n",
       "GZDDiWETKD6uchwA26eujhTi0LgDZb8AiEl8D+DlxP0/XqxZqPFcA3QnywSuhmCQgJUVUpXxDxpO\n",
       "Exi4oamAIQkhvYDhCVo8MwKDhweozmzmzJkKHRFI8XgEGne7jV/BUubCqbBitDXYESkDcXyFlR/A\n",
       "OO0G6wOGOBdMOhNLbomeC8ktvP//A9NmD8xcJlihyBbAsIETJMq+pYBhH8wkH3w5uEj+v3B7KozH\n",
       "fQHmTWe7BewzQKzVmVPgpaP9Avzl0/2L8CTPiVIlrJ45E1X5egXCZSZy8YobgBMeN6Qcv4PfpPgC\n",
       "/JX0AaLrlm0E2iBfiTbpEGU2IZUghFzPg1nJ9VljVahAqDWTgFEtC3BiU/iMoKuTMaITa1XMfpyg\n",
       "SWvRI5d3ARc2ZQoETWJHb0GybjbGomwyEZFSQVSLFZRqAUcHuPM8UwMjAAAAAElFTkSuQmCC\n",
       "\" style=\"display:inline;vertical-align:middle;\" /></a><br>(see <a class=\"ProveItLink\" href=\"../../../__pv_it/theorems/2f37741a3c1178d0a47fa42018b4dccaa72d9a270/dependencies.ipynb\">dependencies</a>)<br>"
      ],
      "text/plain": [
       "<IPython.core.display.HTML object>"
      ]
     },
     "metadata": {},
     "output_type": "display_data"
    }
   ],
   "source": [
    "%proving qmult_complex_in_QmultCodomain"
   ]
  },
  {
   "cell_type": "code",
   "execution_count": null,
   "metadata": {},
   "outputs": [],
   "source": []
  }
 ],
 "metadata": {
  "kernelspec": {
   "display_name": "Python 3",
   "language": "python",
   "name": "python3"
  }
 },
 "nbformat": 4,
 "nbformat_minor": 0
}