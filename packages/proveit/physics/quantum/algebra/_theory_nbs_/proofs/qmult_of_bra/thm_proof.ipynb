{
 "cells": [
  {
   "cell_type": "markdown",
   "metadata": {},
   "source": [
    "Proof of <a class=\"ProveItLink\" href=\"../../../../../../_theory_nbs_/theory.ipynb\">proveit</a>.<a class=\"ProveItLink\" href=\"../../../../../_theory_nbs_/theory.ipynb\">physics</a>.<a class=\"ProveItLink\" href=\"../../../../_theory_nbs_/theory.ipynb\">quantum</a>.<a class=\"ProveItLink\" href=\"../../theory.ipynb\">algebra</a>.<a class=\"ProveItLink\" href=\"../../theorems.ipynb#qmult_of_bra\">qmult_of_bra</a> theorem\n",
    "========"
   ]
  },
  {
   "cell_type": "code",
   "execution_count": 1,
   "metadata": {},
   "outputs": [],
   "source": [
    "import proveit\n",
    "theory = proveit.Theory() # the theorem's theory"
   ]
  },
  {
   "cell_type": "code",
   "execution_count": 2,
   "metadata": {},
   "outputs": [
    {
     "data": {
      "text/html": [
       "With these <a href=\"allowed_presumptions.txt\">allowed</a>/<a href=\"disallowed_presumptions.txt\">disallowed</a> theorem/theory presumptions (e.g., to avoid circular dependencies), we begin our proof of<br><strong id=\"qmult_of_bra\">qmult_of_bra:</strong> <a class=\"ProveItLink\" href=\"../../../__pv_it/theorems/614c1e8e9a334fe44bdff5d6334be0126c51917a0/expr.ipynb\"><img src=\"data:image/png;base64,iVBORw0KGgoAAAANSUhEUgAAAXQAAAAfBAMAAAAFCStNAAAAMFBMVEX///8AAAAAAAAAAAAAAAAA\n",
       "AAAAAAAAAAAAAAAAAAAAAAAAAAAAAAAAAAAAAAAAAAAv3aB7AAAAD3RSTlMAq1RmmUTNIjK7EInv\n",
       "3XZ/CtNrAAAACXBIWXMAAA7EAAAOxAGVKw4bAAAFEElEQVRYw92Yf2hbVRTHv0le8n6kecsfwuZk\n",
       "tLih4i8eZhNnXQnUatlQsn/EwdToYOrQ7k38w4J2T5QiWtuglNmB+AQp+s/ybJk6IlLoP8NVjUpB\n",
       "qMXnlKLWlaIbRbtRz733JX1Jk1SzMFovgZd78t65n3vuPd97XoAGti3TJq5Q06e/aai/NK5gS6wF\n",
       "dJliaAFKWb+sFS0m3bBW0M8imqJLd6FPPW4onV+m8O0kwi5Hj7Pe1kah1+Mt6AjSkZro0ZZldPzE\n",
       "0TtY7/FGodfjbRiCNF8TPQYfesRm6C+WLMblotfjrV2gB5M10bf50UNJhs4msLwYl4tej7cxga5a\n",
       "NdHf8qPjc4YeMij+DUvTOrwF0wJ9GLXQtXQJ+gGuMF9MT59pnML8d2+SI9Ap9RQL4cPHK6LrFJNX\n",
       "gAf+sjn6hxy9EzjeOPQyb3z/Sv7OihYxBHqe39i745oiujTNW7yQpUkoB/Y6HP12jn4EMv347FMW\n",
       "Uym+Np9O2R8tWrvwwbz8ti86NPW5T5xV0IW3YuMZq3qd24oafc9p4KaCdLRw9DA9dgNIXdWKUd9L\n",
       "O8tCgHlk6DdzdNWm+0JOtgUxur//6kGocehj6Ic8j9dL1KkTUnwVdO6tCjq/sgFatT+ASc/alOLo\n",
       "El0chGwKUSV0Ut0ocCcLPUMf4OhBl/KqH1kTfRTaTjYER6fwl6D/zrVgNXTurQq6ZIoBFFdbgDJW\n",
       "is42swsdOFERnTJBZzdoLkffLwqBdBvEPO4Wx5RA195h6H1tP9sYnZMPbutoztmP2jC7v53dDXmU\n",
       "ojD7oxltc3G21fAXAtybgd7xEnRukJPeAFDmISVLNwyTkCQeBHZX3OvDbMeGLUgiTW8R6COH2G87\n",
       "2RJqYqip3KkxHGXoA2YwHWmRjP3XO7QmL1zqgLKAGQScJjOalJzH0B52ZNePzryFTXljrx/dM2S8\n",
       "ARDK8N0ptpEr0vQYO5ySeNeqGHXVhGRI0DYJcdwp0J9n0xpempiYR9goRh1ZHnXgwgDCmQGbfUV/\n",
       "s0sLvSElm6qRNeX357FPOX9jSfnFvOm0L6N+dM+w1RtAO3xx4quiiscFOqVtpOuJ7ZOVdZ1JyMGZ\n",
       "l+5LCfQ9Aj3Aj7EFhOhEeXJo6I0y9PG7EokUXelj00oTepOB2XPuIxS88cQO7FtK+dGZNx3PsJ3p\n",
       "R+eG17wBsMFk8iaakhfoTP52LU1VO03prtAPlxzvSJr0Fb3hPAKkm07FqIOla59mUHzyPOoxQ/3t\n",
       "KJsIjWyH0uVFb4Dy6Vo/ume41xsADwFXFaG+E+isfpCMqoXAiKh2BLqc96FT1kRc7zjxoQ+YoYxq\n",
       "aC5NIatYF0i0lb/xK7J2bE51NPdNnKCqKVOOHtoUf9nxowsD2+jivCJB6CpCbRforGprsqqis2r+\n",
       "dAGdTbGITg81uZvRbbEj6Yw9s/hqc/K98+hJzAK5Obn5Y0T3oCOXg/LnrUno7Xd0kRnRz9zg/a3m\n",
       "ileN6y4OloojN+jE083hiOHLgL2cgZz0EJe5augRscgCvdv/ltRDy/y1Ce3U0GDtw76ox7XekkJu\n",
       "ma5zA9N3PgDTpC0bi5VVRpCSqp6rjk4e9HwB/VhdL3je1Gujqy1l6NzwcJXHehBl76J0yj8nSi1L\n",
       "/34FOh2GsiiLf4Fu1oV+ZPFfoMfsMnRu2LyG/xF4esX/MKZ4wxfNbuj/MOP4/7T+1vVKrsTV9Yqu\n",
       "Wut2v8Rsbb2ih0cT64b1H92xg5ANRcTkAAAAAElFTkSuQmCC\n",
       "\" style=\"display:inline;vertical-align:middle;\" /></a><br>(see <a class=\"ProveItLink\" href=\"../../../__pv_it/theorems/27ca468846816656a20f34d709d0eddb155d35350/dependencies.ipynb\">dependencies</a>)<br>"
      ],
      "text/plain": [
       "<IPython.core.display.HTML object>"
      ]
     },
     "metadata": {},
     "output_type": "display_data"
    }
   ],
   "source": [
    "%proving qmult_of_bra"
   ]
  },
  {
   "cell_type": "code",
   "execution_count": null,
   "metadata": {},
   "outputs": [],
   "source": []
  }
 ],
 "metadata": {
  "kernelspec": {
   "display_name": "Python 3",
   "language": "python",
   "name": "python3"
  }
 },
 "nbformat": 4,
 "nbformat_minor": 0
}