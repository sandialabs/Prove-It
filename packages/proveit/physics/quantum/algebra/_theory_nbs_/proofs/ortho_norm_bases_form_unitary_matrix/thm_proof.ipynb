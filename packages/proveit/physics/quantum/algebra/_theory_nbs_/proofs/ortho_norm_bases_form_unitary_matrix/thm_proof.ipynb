{
 "cells": [
  {
   "cell_type": "markdown",
   "metadata": {},
   "source": [
    "Proof of <a class=\"ProveItLink\" href=\"../../../../../../_theory_nbs_/theory.ipynb\">proveit</a>.<a class=\"ProveItLink\" href=\"../../../../../_theory_nbs_/theory.ipynb\">physics</a>.<a class=\"ProveItLink\" href=\"../../../../_theory_nbs_/theory.ipynb\">quantum</a>.<a class=\"ProveItLink\" href=\"../../theory.ipynb\">algebra</a>.<a class=\"ProveItLink\" href=\"../../theorems.ipynb#ortho_norm_bases_form_unitary_matrix\">ortho_norm_bases_form_unitary_matrix</a> theorem\n",
    "========"
   ]
  },
  {
   "cell_type": "code",
   "execution_count": 1,
   "metadata": {},
   "outputs": [],
   "source": [
    "import proveit\n",
    "theory = proveit.Theory() # the theorem's theory"
   ]
  },
  {
   "cell_type": "code",
   "execution_count": 2,
   "metadata": {},
   "outputs": [
    {
     "data": {
      "text/html": [
       "With these <a href=\"allowed_presumptions.txt\">allowed</a>/<a href=\"disallowed_presumptions.txt\">disallowed</a> theorem/theory presumptions (e.g., to avoid circular dependencies), we begin our proof of<br><strong id=\"ortho_norm_bases_form_unitary_matrix\">ortho_norm_bases_form_unitary_matrix:</strong> <a class=\"ProveItLink\" href=\"../../../__pv_it/theorems/9cfbb3f91b1b2fc7feb915bd67d2a23bbe698e0d0/expr.ipynb\"><img src=\"data:image/png;base64,iVBORw0KGgoAAAANSUhEUgAAA2kAAAAzBAMAAAD/W12ZAAAAMFBMVEX///8AAAAAAAAAAAAAAAAA\n",
       "AAAAAAAAAAAAAAAAAAAAAAAAAAAAAAAAAAAAAAAAAAAv3aB7AAAAD3RSTlMAq1RmmUTNIjK7EInv\n",
       "3XZ/CtNrAAAACXBIWXMAAA7EAAAOxAGVKw4bAAAL3ElEQVR42u1cC4xU1Rn+53nv3Nkd1qSJCg0d\n",
       "YwUqDycsSxUsGQu4tFY71tSU1zqpadRNA2NjaxELAwmkjRQuKtG1rbmIQdk1y5RFm0pDlz5CI7Gd\n",
       "ptpQ6pphoRDUENpAoNvg9v/P495z753Z7jBQ2eSe5NzH+f97znf/7zz+c+6ZAfifwejutiAIV0sY\n",
       "JR3Nw8PZwFhXTUgMD5ujYS0XmOqqCpGAtYC1IFx9rIXoEM4EVhtTrEXpHC8EVhtTrOkteFgVGG2M\n",
       "jWudGPcERhtjrLVizAdGG2OsNQ0MvFcKjDbGWIsWIWEFRhtjrGkt8OgVBpTlsPrwMDcj7liFUcXu\n",
       "K989Xup7sXY99eX6yg4r7nFKnBEExaii5oPikvrBCTgMUqNwLmmW/QK8foVZ43g2kcfaL+8Y0LQi\n",
       "pjCz6oO2KEn+7s9linbPadaz97xtGV+5DsD41aF9E3xlt6F1np24RjU8gaCYUG3mhSJTqoJx4DBI\n",
       "9cE5dcfJSpV6UCdrM664M8LxTKKqlne9vekxR6K2oRLiaZaNfrQrB5Ms+DGruXeafK0g1AIh76sb\n",
       "LWBsLYR/Elk4E226lNf3PI8Jf1FmLZa89wkln/rg7LoWPleadd9UkHAujbV4pPJJsdbuMUe0UNNQ\n",
       "JLJZW1DEun0eW1GZRL/4GJLCTJEznqKjOUj2Yn8YPgWoG7dqstbuY6Z9JNYkHAapLjhvViBSmmE2\n",
       "g4RzaawlsZZAR0tSOJKxo7DPp+2I6drIvlawlV82Dnq1vale1uzcHhNimaBlvYayVUkkWUvRAlwI\n",
       "b4x/kah0S1GaKWHC6lk5GMRRq+80ndA4Ozbg03CdhvrJtJs1BagDRb7dY+AHY7+5hEOxLjjGrWj4\n",
       "Qqj4PZBwLo017QCWVxkKix66d5x1g1dZEdN1xIznbOXb4FtedW8qxzOboBFrTm68tisJHuSKhEQx\n",
       "qsvLAXaxFyCGf8fMFC1zMz0472mACXAwVtIq8XS0DU9onMmTSVhOtVkQZrWCQEQYawpQB4p8O193\n",
       "7XpzAYdiXXDC3yHam+HYEhBwHNbYm944OtYAh07tpTKUtBfo7onpkIzNWOhSZmLnOlRJFWzliXDS\n",
       "q85TPazpD+NhI/YlplMYX7XmCV87nvNBNpWCSbQCe4X4B3Afm2fSO55lZoI/y8q9qgKPwzP62Zth\n",
       "C8Sex9NigDlz2IASRhc2xpAQCIoJCXSVpUKhtyMw3iV1KXPDwVgXnMgO6ha3w9SMhOOwxqz40ChZ\n",
       "Y0WU9Nz6I+xyAmxogt3gEzvXTbkU2Mq/h4pPnaV6WFs3Hpm7xqI7uzC9xMWU0G/gIPCUt1NyCibR\n",
       "JMw0vAJmd3V1pUNYyzXeJcHaucJM2jlI7X8fFg/nbm9tzeEJu40ffsPOTyckBIIBSQig+nRLhUJv\n",
       "R2D0kh8MydxwMNYFR99QdMNRWFtHjcKsgzUGhxOB76ExN90j5n4PPbkbIlL5XXy9jE+dpXK3zen3\n",
       "jtIUpYXu7MK498ETCuSMt3sN5RSMIg014EnBrX4BB4YyN1Pk38JM8DH8BV581Yrkt6AGnn4EzBsx\n",
       "xGyJdUkEgmJCAIVmy4HC347A+F0jLnPBoVgfHPRGwFLhOKyRd5JM18Fac/G7zJA9AIc1FG2jS6PE\n",
       "DngiMfN78DpefAA+L5Ufjp2JFEhd6OJBpnK3rZo3IgujEaHHTkjkwDDd+ZhKwabjjfC1nC8UYHkB\n",
       "VgMNB58GrcSctvPGELw/mAUzkTHohE9qewuwX8xrK5Sr4kNy+MSahCLeDsHsUkygylxwWD51wVnd\n",
       "DsmKDcfFWgR7zTjUwVqsL8MMuSkNS1vZMhde6gdhU0E/qP+GiZnfQ9cTW/tyUvneY3PbmDoKSBcP\n",
       "dipz26qxJguDf7A8RMIifI2cOx/TKRhFNmva83xa+yG25Wnw8j8LSEC4n6a11xfheOvGwXvmFmDf\n",
       "6TCeElileh55VvRKeIe5KqxxoMSaDYW/3SKRIkygylxwKNYHx3ijaxHYcNw+5NsDA4fqYY0FMiRv\n",
       "oG+m7EuyNX+C+z1+Za5uC+xU5rbVnK8dEYK0SEhaFT53VfIxnYJds+yerq5RbqCIuQanXSxX33yt\n",
       "2XJD4WBM1QSKzAWHQWoEjou1RbRS5Q+lkVjbfCgNMWbn+PBFEJcUlrAj93uW+JSF+hIbmSXXAcht\n",
       "c1hbDtxRNp3nK0ybJ6wcLkMHuPMxnYI7VNbqCO2eG8xVeuySNf2jPW4oDIxI8YLxwAnnG4PjZu1R\n",
       "WhWutY5bq63Rs9UuVRc4U11ZEURqrI3EqRdfoc7JQhbTdhLGe/JR/CkSbcSqr3+zPjMllfWHSI6j\n",
       "W8GjOiHzQZEpVcE4cDamG4PjZi1hJdU07Z3X4faWUbDGwqxbT2cv54qW6L7XU71Og9OZGy4x2L6V\n",
       "90Eh0mh0+n69hSt5GrJxpVnUAGpDsZWrgbHhaMXLAMdhLVxxnJHN12+DG5JW1Bola0bbb+Fg8MHr\n",
       "k/i+lp9nr1iSy3JjJZuEvQveWZDzs6axuBIdmIH3/jQ8bGm9eRhyZ6mpFVP3nGUmBW+FBG8mTqXV\n",
       "ApqqsbanEy/mbz4OcIzSpty0JllrXBtk8QE2uTKWDlcgVIn1u7McBKXDTYhuwbWzC+U0QneMgGtQ\n",
       "Lj/T6F4JeKrC2pM4iu1YlmkqGGwUnZJ8aWkN1sIlFpNnhYtUhqZiNOvqsEnssCan9Hs8rNHad8qz\n",
       "eLfu2wdK8NOLWVEOn1ySzrGApyqshdDsT5yAcVaM2XEKZE/VYG2niCtFyrWwFprXu1jbCSprcsmj\n",
       "7GGNbdLr9IDZgmCMsiyHh07vt6UgqF9qJsIyiDzS1fU0stYTrzFfmy/i2rfEdxa4F1J9rhznu1nb\n",
       "419FY/JZwKMa1tIEpEWWI3xUApkNiKrB2h9ggc6XrqdAbEaNtZF+EfmaZ9XQ72ZtlWt4c1hrsnik\n",
       "cGpgIO9mzRkqmc5bAVHVWdPOwOEpfI2kja+5V2HNmeF/ppaHQGKVNf6zgJ3gZS2e4RHD/R9425qy\n",
       "isB0HgyIqs5arAU+zMAqbBP6Xwt8C4qftWiJR4DXLtTIkMTISm8fNKfB9ivQn8AUPRs+IllzNi1p\n",
       "nb4ekjLpGL/6VMW71yoInh6ST5p/2bXNr2Sz5jQQ/WKNDEmMrJSm0RfbV6QfggdMCZmxc2AUGGuR\n",
       "PI/qj3Rs1iiT0taKcV7ozA6IGom16sFmjZoPb0Lw6xoeAomTOT19J7Uy+lS1kDdkPX03NFXgIfpg\n",
       "RKyF+3lUvxLZrGEmsdzfQLsgdKYFRDXAWlOOR7L1+eq6JE7mDPgjW8GjWRiwTWKUsqXIpxPEmn6G\n",
       "R4BNAxhMF2uYiWGcg/CQ0NkSEHV5WEvKtvZKNdbI4GLXxFQxV8aUj4DvECHWaEWFr6o4X452mw5r\n",
       "ED7DdqAxnWUBUZenh1wshfvlxY6800NCtAxJ6CAGaB+RgaJoHraCnosd5ayFyzzSl0ObcVTTMyIT\n",
       "pGxcxuI60wOiGmAtUeERHb8jXiX9dFmqICuJFphsVIbkPqLngFL+jkz2jrO4N2LKwp0dEZEL/FMV\n",
       "y6SpBLdYJa5zW0BUA6w57nq86J+plW2VHCTzWoU2KIp9RNhNJs3YAfg6bStkrDmTCHC+Xd5twRdl\n",
       "JmuLcCJS5Dp3BUQ1wJpe5hHgGTFT4L2gwhqJiZU7WnmT4f0fHRfs334Xdn8vcnlzzs53+zZLTho/\n",
       "dU1RZrIcBTOFzrsBUQ2wBodFTAlfZA31gl/qwpARrJFYro3sfhXgs7yRpu0Z4VCRyX8APFJY+rOB\n",
       "vLvEw/YV6WjlgKhGWJNrvveL+07WC6ptjcSStUlRNqKBuks2nM8yuVyHrh6cdWXSiQZ/cdIQa7Qr\n",
       "D6P0RablhXOisJYo2KxtP8m8R0av3dYmMjnROMKGZ3v3H9MJ/iyjMdbosynG5pu7u7sf33BiOEO9\n",
       "oLuHRLGyeiy/fM5T8yMfs+DZmOkOhqnS91zAU0OswRoWvzosgsV6QVdbQ3HKcTBDnjOnssh+RXNy\n",
       "hCLFz2yZTir4N6FLYm1O7b+R3C5tr73xn0pgz/9HMLp7R8Va8K+eV1Ogf/X8LzlVHHYJx7E4AAAA\n",
       "AElFTkSuQmCC\n",
       "\" style=\"display:inline;vertical-align:middle;\" /></a><br>(see <a class=\"ProveItLink\" href=\"../../../__pv_it/theorems/9faec875cf718a5061f0b0eba818b2acb9a78bda0/dependencies.ipynb\">dependencies</a>)<br>"
      ],
      "text/plain": [
       "<IPython.core.display.HTML object>"
      ]
     },
     "metadata": {},
     "output_type": "display_data"
    }
   ],
   "source": [
    "%proving ortho_norm_bases_form_unitary_matrix"
   ]
  },
  {
   "cell_type": "code",
   "execution_count": null,
   "metadata": {},
   "outputs": [],
   "source": []
  }
 ],
 "metadata": {
  "kernelspec": {
   "display_name": "Python 3",
   "language": "python",
   "name": "python3"
  }
 },
 "nbformat": 4,
 "nbformat_minor": 0
}