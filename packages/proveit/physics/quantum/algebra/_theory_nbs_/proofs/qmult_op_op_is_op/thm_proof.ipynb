{
 "cells": [
  {
   "cell_type": "markdown",
   "metadata": {},
   "source": [
    "Proof of <a class=\"ProveItLink\" href=\"../../../../../../_theory_nbs_/theory.ipynb\">proveit</a>.<a class=\"ProveItLink\" href=\"../../../../../_theory_nbs_/theory.ipynb\">physics</a>.<a class=\"ProveItLink\" href=\"../../../../_theory_nbs_/theory.ipynb\">quantum</a>.<a class=\"ProveItLink\" href=\"../../theory.ipynb\">algebra</a>.<a class=\"ProveItLink\" href=\"../../theorems.ipynb#qmult_op_op_is_op\">qmult_op_op_is_op</a> theorem\n",
    "========"
   ]
  },
  {
   "cell_type": "code",
   "execution_count": 1,
   "metadata": {},
   "outputs": [],
   "source": [
    "import proveit\n",
    "theory = proveit.Theory() # the theorem's theory"
   ]
  },
  {
   "cell_type": "code",
   "execution_count": 2,
   "metadata": {},
   "outputs": [
    {
     "data": {
      "text/html": [
       "With these <a href=\"allowed_presumptions.txt\">allowed</a>/<a href=\"disallowed_presumptions.txt\">disallowed</a> theorem/theory presumptions (e.g., to avoid circular dependencies), we begin our proof of<br><strong id=\"qmult_op_op_is_op\">qmult_op_op_is_op:</strong> <a class=\"ProveItLink\" href=\"../../../__pv_it/theorems/b6d463e81a86265a02c2edf159f22c08949bffe50/expr.ipynb\"><img src=\"data:image/png;base64,iVBORw0KGgoAAAANSUhEUgAAAnQAAAAfBAMAAACc601MAAAAMFBMVEX///8AAAAAAAAAAAAAAAAA\n",
       "AAAAAAAAAAAAAAAAAAAAAAAAAAAAAAAAAAAAAAAAAAAv3aB7AAAAD3RSTlMAq1RmmUTNIjK7EInv\n",
       "3XZ/CtNrAAAACXBIWXMAAA7EAAAOxAGVKw4bAAAIl0lEQVRo3u2ZfYxU1RXAz5s3M+/NJ0NirJC0\n",
       "O8WKirZMHNZirLC6GKT4MdW/ACMb/aORbOWRGBOLZYb/tF2dVSHsUHEflpgShR0Ua5Y1MixooqJs\n",
       "Lf1CR0YwbVPaZWj4Xsr2nHPve/vmvVl2Qzrdpt0bzr4799733rm/d865514AGlq+Xjbgf7LEy582\n",
       "+A1t/x0TNaS4inaJW7SxHpX+v0AXTwrB8oSzPVAZ/Z4jo7Q/JAXRJehydePQKXTxpSYU3Q1SsKzk\n",
       "v2r3ialXdgEcrTN4yf4MaVwEeHwlwtFWcOvmw3sM8B34BOI4FRJEdyd1/LBx6PykSHBCI164TQgR\n",
       "GRZN0U6AphwETc9g/x0rsQ9exdpdD1YBFOk4y+n6IsoKKWlYS37d2Th0Opn1kxNqdP6UEKo2iY+Y\n",
       "RVdd3gJqi2fw87CcaLQCrIPgAMAU6TCxM2htZAZzpKQZfCTZwFhHX+iNCUUXlYLl7d05vs7Hy3zE\n",
       "96EMhpvKv5O187CaTLEEvgTb5mxpmPEhgBn8NFNIGlSkGmzkMpGe8NViphR0r8pxYSVNKO1ogI+I\n",
       "5eIx23Gjwg59rHEPBrwrLa+/IFeVYEoIzuvjcvmjRqKLlsufFycU3WIp6K8wW/jfBxj4/4DXHWLZ\n",
       "HQl5xzNiIGu8HH9ctHq6M6v5GkkIQXR3AWxsJDp/DkLmhKJ7BCzzuh/yzEQ/N/glt9wMrlXyc3EJ\n",
       "MuHjaH5nrJ7Z04VBqm1CEN0q0BKNRIdPXyVM3tUnNPnA4C71+dpOn2dNFjlYdIP45R5/rTeZs2uf\n",
       "SqFXZnmucQRyI9G50ZV9aiflokB+vfZAofBSyXblE1KzkhBEFzIjaJePt+c4lwG4/pyh7MEo+s4n\n",
       "AH9bKCb9zmfmr4Zyt8HWqrapdvKDx342Vkq8Ed7i+uscofXuxTu7+LdY1hOySxmh1o6UmkcUieyv\n",
       "QHyf4edOHPbMyb5FzvEzUVE1452BvXq+JwXi6xY08VtDOPXIWazkWSWMWeU/Ct6nJCfy26tPzJgx\n",
       "235K6Ly46lUhiM5XwVVCLfYkISb8fB/46ZNHcOhf8PrctPUQSkC8BM+BVoVnHWAGyBtvHwvdd+RX\n",
       "3S0i9G34RdzosEuRrwK4Y9sAhBMjisBuE+I5CBQlOnWAlMGK/mUBNfbPKmPgqjODZR502zHXGKDK\n",
       "FHy8SlHsQbaMkdwsWHKgI2fN28l8VNpmoCSEl795qDT0GNAhI6W5ix84BKpBiSERZ3TYVoMOm6Lg\n",
       "+PyjoAuq7GuBDuFyV2Ba4EJHXYp8FUSKvpxIpKUitNB9V+ahNEzBfKxKlQVsxn1wHWBi752Bne/a\n",
       "DosWFGM2BEQhA/u2NAGrZFMisrDDUjY83w4cWbnW+QaEELo3WCc03QUS72LxzvtgLsi9CqMLdxO6\n",
       "jnlfmRCZV3ni4QU/GNoVnA6atmneTlN7E7cl8Xe/Bm8OwpFbU050kZn8vHhQhNR+CP/GhY66FGtb\n",
       "lKXRMaci/qqas5JDHBZNwrYUVng7BNp5a/LuGdjZ6stSApRWVJktAsmTbrfwgEEb3d3XmKCjhYbo\n",
       "M0+pEAQrSM/PyCjbKYTQPcVTwof8VhrTWYn5aMYy5tBnfb0lyBK6vIE5z8PQGuhfrZdAO3wwg03x\n",
       "NqUYNWAnLA4m/c1FreJEp+0RYd7PFq9dTN+ec6GjLsXym157l24pol1spsu3JLrs0TlXUWWryBXo\n",
       "Lq2tzgx8VpjaIeUpmgmvmO3I8X3TzlmCFuTAheF/ts5MieyDs+F2+CX0sOLd1t6kKITQKTSTV4f3\n",
       "76+Kvsg+GRffk1/KctgetjqAUxgll+jnAdFhvLnITZoRSoXPwI/zEOg6Oav25OQq1irHLk+RanNL\n",
       "LTruUuSrYC/vwZ2KwEsZu02hYBm+gioPCAujuwKddWYQsELYs0K2Dq8AX/dpnPW04alTH2VcgnV4\n",
       "2lIx8knjlXsukLo6mXEB5cDTv4fYIawsGv6GXHwzQkYOnc5wskJl13HpJ/Rq9dFC4QUXur3q3nQz\n",
       "csN/YfITaoJjf68EUPPvpdOZJcMZ76GTv28HuxZGKu1ULTruUuSrdB71TacisIj/PiPRIbdsBis3\n",
       "FwqFJORpjC9RZwa6hS6WE1LnUE5GuUCvtRGzCuXLlAfddxAfNcvZ8xMpNrrAAE2KP5kpNyMxcju9\n",
       "WN/q6LvopV8oFJaoKZYK/ZXCDgYc3VTbvOgqoLEbYaQKnK1Fx12KfJUfX64zJlsR+AKcDtuPaT4l\n",
       "JyIrovCWI0qeGdgOS5v8Oht9sA8F6pQ5zh81m6FWKTY61DhYgTAO+j5tganSwx9qowtd3sAY+SJs\n",
       "J5OrPj0lg/lu3ox39pixQfg5bEe3PdICnR505I3/gNd4FdhW67CiS5Gvyq6bC+t5mWBF6JbwWRnM\n",
       "USuF1oXwQWLIexTtXGsulKFlwjUDjHh2xN0gxVNGP9EJOVLysPNElE6Z+KTJRhfNQbQyXe8P33MI\n",
       "Np9O6f2gdr/NT89RSvyR+aehnza1bDkJa9LH8Lu+W1k1hMtC0b+srwj5m76CeOvcx6gZ+gZ9995q\n",
       "eNDdnYAtpzMdSXVl384XoAad6FLkq+68YdM53LoZUhHoSMItQ4YAgFqhnw71LUoSOo0y6y339x7u\n",
       "YjCuGThnv1WKp2wY/Yyvs96+RDLlJ9vo1qAyvzbAZ6f09jN6C+vH2G11jP+A3Xm65UiJhSc6XhUo\n",
       "em6hyfhGskisvFYoWEF1mXcGDli04mt1DtPjlziBXTNK+5+leP5vYqmnMo6SHze6gHkpdM6y0HML\n",
       "bRCW1qBzBi3Dq/jCxh4quNGlPJWxi9ZUHC86FcaLLmK6b2lmrUZBB7s8iquZ/yy6f3f50SX+H1b0\n",
       "FMRFfdnV6zmnEg0h6+TENT7sjVYNnVi8vBcmS+OKfrQ4CeHyylronIRweaVrEsHllkNgTkK4vLIs\n",
       "nZqEUK/8C5lVkgwZjEi7AAAAAElFTkSuQmCC\n",
       "\" style=\"display:inline;vertical-align:middle;\" /></a><br>(see <a class=\"ProveItLink\" href=\"../../../__pv_it/theorems/06da73a0fdcbb4b1a9db6dd13e168c094320f63f0/dependencies.ipynb\">dependencies</a>)<br>"
      ],
      "text/plain": [
       "<IPython.core.display.HTML object>"
      ]
     },
     "metadata": {},
     "output_type": "display_data"
    }
   ],
   "source": [
    "%proving qmult_op_op_is_op"
   ]
  },
  {
   "cell_type": "code",
   "execution_count": null,
   "metadata": {},
   "outputs": [],
   "source": []
  }
 ],
 "metadata": {
  "kernelspec": {
   "display_name": "Python 3",
   "language": "python",
   "name": "python3"
  }
 },
 "nbformat": 4,
 "nbformat_minor": 0
}