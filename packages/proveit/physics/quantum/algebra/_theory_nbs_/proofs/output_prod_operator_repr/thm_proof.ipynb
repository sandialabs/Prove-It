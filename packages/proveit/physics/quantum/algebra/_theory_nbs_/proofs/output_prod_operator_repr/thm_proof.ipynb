{
 "cells": [
  {
   "cell_type": "markdown",
   "metadata": {},
   "source": [
    "Proof of <a class=\"ProveItLink\" href=\"../../../../../../_theory_nbs_/theory.ipynb\">proveit</a>.<a class=\"ProveItLink\" href=\"../../../../../_theory_nbs_/theory.ipynb\">physics</a>.<a class=\"ProveItLink\" href=\"../../../../_theory_nbs_/theory.ipynb\">quantum</a>.<a class=\"ProveItLink\" href=\"../../theory.ipynb\">algebra</a>.<a class=\"ProveItLink\" href=\"../../theorems.ipynb#output_prod_operator_repr\">output_prod_operator_repr</a> theorem\n",
    "========"
   ]
  },
  {
   "cell_type": "code",
   "execution_count": 1,
   "metadata": {},
   "outputs": [],
   "source": [
    "import proveit\n",
    "theory = proveit.Theory() # the theorem's theory"
   ]
  },
  {
   "cell_type": "code",
   "execution_count": 2,
   "metadata": {},
   "outputs": [
    {
     "data": {
      "text/html": [
       "With these <a href=\"allowed_presumptions.txt\">allowed</a>/<a href=\"disallowed_presumptions.txt\">disallowed</a> theorem/theory presumptions (e.g., to avoid circular dependencies), we begin our proof of<br><strong id=\"output_prod_operator_repr\">output_prod_operator_repr:</strong> <a class=\"ProveItLink\" href=\"../../../__pv_it/theorems/fd2f60183b17ef83e0f4c482603b92957081c0cf0/expr.ipynb\"><img src=\"data:image/png;base64,iVBORw0KGgoAAAANSUhEUgAAA4oAAABYCAMAAACETflzAAAAPFBMVEX///8AAAAAAAAAAAAAAAAA\n",
       "AAAAAAAAAAAAAAAAAAAAAAAAAAAAAAAAAAAAAAAAAAAAAAAAAAAAAAAAAAAo1xBWAAAAE3RSTlMA\n",
       "q1RmmUTNIjK7EInv3XYgpWxAuOz13gAAAAlwSFlzAAAOxAAADsQBlSsOGwAAEw1JREFUeNrtXYu2\n",
       "q6oOVUFBUM451///1ytPw0vUtrZdhTH22khJiMqEJGBomu9JdFGp/XutvufOarovzfoNJy6Cq2+B\n",
       "Ikdr6v9eq++5s5ruS/L1onZJXARX3wJF8kdbfc+d1XQ3HpfcRXBVoVihWFOFYoWinzazsUO1D1co\n",
       "Vii+DYrY2Y1DnTArFCsU3wdFaqdFMtYuXKFYofhGW3Fg+n/e1S5coVih+EYoImMiDrUHVyhWKL4T\n",
       "is00yzTx2oMrFCsU3wpFTOXfkdUeXKFYofhWKJLW/nlpwn5n4SgqS1XERU5nfje/UI5fO/B04VMW\n",
       "FYoVigfakBMif/leOM9BS6e4zHWWLkeVqlBqKU3J45GHYCHEpqUzPs3rc2F4aqktmDjn7QFFXm0s\n",
       "REbn76aRloePCsUKRdlZxB1OGw8g3bADmrEEq/EqFN1Pnb1fKtpx7FWJnCjpvD0fPKjaG2hblW2L\n",
       "iz5Mk3A93BAFyJ5XKFYoltsYGiQ+CIqYFGCFyVUoWkoLRawN5RUw5sGI2dXlZJFPhQdQLPdls2ui\n",
       "W5QWbOgHVqFYoVhsg3emo/Ri7W08GMCTham0XzEHxZiKYJ8qqkFwEYoZWSylaV+4vX6twSZbnPbL\n",
       "VzDRGIrjqKY6pAAnOm30ciSEu5otupWeSuwzrlCsUCy2QSatUjHRrCN559tRycKkXrZf0YMiclBM\n",
       "UY1eNlFjLEExK4uh7BVc2MZntuie8AbFBs8eFAeExKggJS3GiSi1k0j1fi3EyFwRq/zKSZVYsHe4\n",
       "QrFCsdyG8UwQ1s26D5JtbcMV9p3Ae86djboIRTpQW5ZqE2xMH5MC7O9cH3dksZSDWBvrNzaTRe0C\n",
       "odjMbTgrklFqrWR9jCNaHyfumHyqEt2juertnQ4tkKAfKxQrFE+0IUd72je0m1lUOEn17Qh1EYq0\n",
       "bdlWFrdJuU8VCUB50VbMyGIpu0HIuXlUaZ3TWqdVdhCKZEGhgqr1TsHFLCTAlvUSTfp7bH3l5uJ1\n",
       "ThXuMdIKxQrFM21MvVkDg1A0hcStQRSoEe7Qakp1nGYVVNFuZXGbwC0zJgXY99uMO7IYSjIFiKaL\n",
       "rsCB20b33DGAotI753U+HQWjTOna1AwQ5mp0vb7fDMSqoFYonmpjpg3pN1gw7hU2yu2vClN/bMVO\n",
       "jAoKHT/itgnbtCacZjkmBIAV/D8xTSCLtQ5t+9uAg9QyRq/+6vUHDbx22gqMB5Wsk/NKOAuh8DUq\n",
       "XXU1T+3V7B42gJ8QFYoViifa6LnZHa5hQacOFmrPvyqkE/H/wIojbdja13F3CIpBm2uv7be2/Rpm\n",
       "6QFU8OVI0PiyiN5rn4wUOFeFMC7XTqrCeGmJlVEVmCV+RSIwQnRYwScQl7U4X6Fmr0b7jKFqMZIK\n",
       "xQrFK23YXgTRxJnZwJXyy8OydVqQs9DcoCNQjNocAUuvhhVgTLSZo/FlCZf4GZe24pN3GqWW89mt\n",
       "X4NWKP4ZKFIx6XWwHozrw7Isc1jouh8ok7tN5PTTCpKDol5M8L2qrk0BWMIaVgCvQkIMSOPLYim3\n",
       "3TYvSQlTFpMKxQrFR9pARwvLcXH8aWEQcZn1jjDAcixVSIiRn4AsJR1eu+DOw0Hi5nCXFYpfC8Ve\n",
       "xaqdX9p00DDt4jIzke1QxRXKLcWUhL76ObOTIl9Ig3pnXYXiX4Nivyba1PRFnVS+sgrFvwfF2rW/\n",
       "Mk0VihWKNVUoVijeAcUaqbhCsULxI6BYIxVXKFYofgQUa6TiCsUKxc+wFWuk4grFCsWPgGKNVFyh\n",
       "WKH4EVCskYr/LhS/yCdnOuzNEluYvLLZE1CskYr/LBS/yCdnOuzNEluYvLLZE1C8KVKxBb7flfIB\n",
       "i6PK+AjDUxXeFrhYJnEDFL/IJ/fPv/+od3GvxKbVlzZr2zgAxZsiFdvGvAFjJ2Cx6k6loMVNOW7x\n",
       "ZwQuRpO0ADplB7BRWQP4CVD837+5C331PT45O3fcK7GbsV7Y7JndNvdEKk4BYzdKavjLeBpqxd9v\n",
       "DFw8amrVEFJoPhW8+KLb5nt8crbD3iuxg8kLmz218e2WSMWXoFgMWtyUvxD8jMDFWDbBZqkGMOGP\n",
       "xC+E4vf45FyHvVXiDSava/YUFP1IxQw3bPKpc+XJtF95N2BxRJUMWhzUKsQt3uF+Z+BiManyBViJ\n",
       "Z5Shq1D8Gp+c67C3SrzB5HXNnoKiH6kYrZ1r8EzHXHlaH9uvvBuwOKZKBS0Oa5VP1sjKdF/g4m59\n",
       "8h3tVzFcpMgzseGuQhH45PxjdlLWq2cZc9bwYeF0pZMVFunSmHe8X9K0pvzxDht7EdkFp9hBJ9kG\n",
       "k8edl/wZUPQjFbdyQCcwcrBXfixgsWWyC8UoYHHcdCpocShIYSlo3JHpvsDF8oWsuFwnVtcrzgQv\n",
       "vrzED3xy3jE7KesV2Mpj66Zyqu5wUaZzUojZzSq4fcLcEXoR2ZT6vrYbJuGcYgeGGVyCyXnnJZkx\n",
       "Vx65FoxIj0Jx617cBRb1ohWD8mMBi13M0x0oxgGL46ZTQYtDQQpj8bgj032Bi9mi4u0sHboUvPgy\n",
       "FIFPzj9mJ2W9OlsZQtGIn4WirqRrPgOKoReR23fgxgkpacfmeXOKlYeZtJMMwOSE89IKsr5aGVHF\n",
       "LIU9GYpzrx+6mh8AFEF5OWAxqLyaUGgnSioMWJxuOgxanBLkyHlTGZluDFy8qLCQC96m3jsUVOiT\n",
       "84/ZSVivAqggDopKNzVQnFYbWHU8ZQyTYegw7tuFrx1yUMOq0mhmJNRKrbWg5UAl41tqC9oZ1NkO\n",
       "63sRe2qmv22c0OcVdXRzih0YZpJOMgiTw85LJ0i3EmDX6JOhuGqMsop+XQoPOvivV14KWAwqq0DB\n",
       "8yEPatx0kwhanBIkF7c4QwdkujNw8aSHBDDwnglefB2KzicXHLMTW68wbuQ48zWNk9VNNRRlp5LP\n",
       "ShvDTT9166PQ4yGZl1nDQtUSg7OgG74+CMwdkTGo8x0WSKyGiaENxolVJOZpxweGmbSTDMLENYsw\n",
       "omKdJQTaoufqMuwL0tGuX2+Fy1vEeF7/9c+DYt8KtI5ZmqPCg4lBDMuLAYtB5dUKJcMhKMZNN6mg\n",
       "xbEg2bjFObpNpjsDF2vyFq7OkDugSJzd6x+zE1uvwFaGCioDs6ICdG+M4ZUDazYdaVXb1HKPrWUt\n",
       "aCa7ImEbkTKhdzoskFghSU9xsONwd5E+zeuwkwzCxDkvUT8h7S4QVhBbRjxB1nmZs65/zazoK5r6\n",
       "iYWd4HDAYjNoCQTjmB5bVywGLQaC7MQtTtNtMr0tcHE4Cb0QitYn1wTH7MTWK7CV96C4WsLGGNbX\n",
       "+q8OMg9rWQva9DlLZEzovQ67SdzIkGhKCjhOKOaB66swzGScZB5MnPNSTumNNFEwd75IXeY79zp1\n",
       "4LsYXw1FGzk4jAd8OGCxNao7no0dnghYDJvOBy0GguzELU7TbTK9L3DxARP3aVCERT1kE1qv0P1V\n",
       "nhWdG2ctZcjo7zOcFY0FbbRJR8TcItaBDoul5rEwf5ygm36aPs3rsJMs3ap0tau7mDuvrJ/8AUtC\n",
       "cTWChtfPiub9nfnhiQGL1f2XghY3u3GLPzZwsXPC3wtFe8yOtqFj6xXYymkoyk6FnDFs58OlobRR\n",
       "E51al1NAWacKa0E3I1e1DZE1oQ91WKHtQOqPE9ju428yp3kddpKlW5WrJ3KuW61kCsvWdikURDmO\n",
       "+k48c13R+IevjfnnyBIBi/F/ucrFoMXNgSDAHxe4mCn3AAP5Jsq/BIpW79c2dGy9OltZGcKr+i+X\n",
       "+Fm7Ang1lbH0tiCkt8grY5i0i7aMpR6He+nn0V0PdcrBYSxoU9v+5wzqAx3WKINqNQOcybuMWK5Q\n",
       "KEtiPjjMpJ1kyVaVn0rOguuogw1HVTZTCb5NED2aivboMs1RKF5cnsUPf12F7/o+62MSBctEufxL\n",
       "oJg16Zsn2sqFpa4THRYrR8o6DMg9Uts4IU/RHOdFX4eneeWGmbSTLD0AyFbld4uklTqv4qjKhDJr\n",
       "nCB0HoLPnZ8DRXTNXEIPW1noByN5oLacfyUU+1fu8KTLs6B4ZJyInWLdCSfZsYAa3UMD1lko0unS\n",
       "27lI9lQO35jGrpx/IRRfGatCqq0vgeJBp1hmmEk7yQ61+uDAdRaKw7WNvMPDH5UMPxlTh4EBKJd/\n",
       "pYL6gUr75YBPgVMsPcxknGSHWkXNnVDslkvIv0j2VA7fmaCBnMtXKB4c167X+cAzM+Zrc9P88JQ2\n",
       "/2igOQK3eWTyb4AiFYh/HRQ/vNVzUKTX5qYCWWov3ykOYOPf37MWeTl/OxRltKWxQvGdUGyvPf99\n",
       "stRevlMcwMa//RnG3nO5yvEf6VFyWixwHCAbNJXzt0NxfN/JmxWKOi2hZUoOrTA4smHRoUFkdJBJ\n",
       "HZLL0nv5chx2GRRmbGF66V7cvPibUHCHyQ9GvV6590lp2H3TYigOvYAaalfM3w5FFdSuQvGNUIwr\n",
       "D8upNnp4pjjr+aK26Cf38qU57DDoCyvG7nPIvVAxMZbAHSaB5u2T2oNiuKEqLYbmAD/0mXE5fzcU\n",
       "e44QqlB8IxSjt9YtR94jIOOL14GY/go+tZcvwyHPQG3829Fi3ew2NyegCO8wDbT5IBTDduc9AcDW\n",
       "NgwUj1z+drfN+1KForbYwreP2yMiQrIh+O5FbjkK9vLtc8gy0Bv/sslt+N39Jj7CErzDNNDg7LYL\n",
       "RX8azIhhOKDtVwFeRS5fofhrUJwCrwonfDlgwEMysviL0zKMQbCXb59DloHguyrTdMjlEGLJu8M0\n",
       "0KDNtwtF3zjMiGE5bDfZgUecy1co/hoUg51KRKxD84HvLTwyGPXlcIIcLjHYvjRku46mAEv+HWaA\n",
       "Bg4y2Y8EBk88yYlhOQxoe0NdU8pXKP4cFP15B8uh+YD17tfR0RROQhE9yGDzzWqPCNNzKJW3AD9z\n",
       "CLDk36H60VACBxMIjwVrRLxhRV8MwMwKsJ3OwcDN5/IVij8GxcB/Lj/BpGC+wjNIbZaMTcvZVSmf\n",
       "wwUGYJbR3hKu4s6o5creGJ80hmJwh+pHQ6k/yyGBAwbWiHh7nhpPDMDMCgC+Q4EjTy5fofhbUAxU\n",
       "IqxA0h5ooguu59NCdo8x2CYeZVbKD5FlBO9GheszeuNMIygGdyh/lJSDneG4ifbXhzWSvGHFTYyA\n",
       "mRWgm5LaeS5fofhbUOw956UYMcbtAcOtD4MFBQsSzWkOpxnoMMMbGphGio5iml0YDO9Q/mgoVVQB\n",
       "9wzbRI2YN6zoiQGZWQHAx3zwZnP5CsUfnhVNBNcDE1TsXxjCRhk5x2GIpabHoGgXz9WXHjpetchA\n",
       "MbpD/aP+RkQkbUBQI+YNK3piwFpWALBhoUKxQnEXEaYfzFPRVoyhyMNOxCOzh8GP9iMOPO6FM91l\n",
       "YRVU67lUiqGKkUS1q0WH3oFQjO5Q/6i0TxkrqLc7Zodg5THDG1Z0YoTMnII6V1uxQnHHbbP57Hq3\n",
       "KfSA0yVw9R04joUKcGJhxOHQeS4+i9H2WxO6RCFFfXnFNez0ageAYnyH+kdF2RFz6lTjrReCGjFv\n",
       "b2ERigGZObfNVhfefC5fofhbUGTbOEzsVDGWZWTB8E3mIzuJuznL4RgDn4VbHDBKoowb3UvPZa8m\n",
       "LmYm2g2KiTvUP/JBB5DXp0413i4aUyPN29tuY8WImFmblm/j0Jn94BWKPwFFd4ggG5dF7ZLsZKb4\n",
       "Denkq5NDqEr2qW+jII4CDkOsi4pUaEfIYjvcyGQw5oK12G3R0asdFgnJOzQ/4tZshTYz7RxZemne\n",
       "/q5TK0bAzAow99sb6ptSvkLx16A4XPtc0Scbfb2KWeUMjzahCIoeh4iB0wH3WDhbMvNhxkJCWzFK\n",
       "wY9sYZIn3EyaIde8/V2ngRiGmeVANtFhKJFcvkLx16CIL0Wu9MmCj+3lcbusmwuzIuQQMwA6YJ6F\n",
       "22Cd/k7QBOU8A8UV/bjx42amyQ1vP8BmIIZh5ubVbbjhcNbN5CsUfw2K6Fo8DUjWB3svlRY4ihKO\n",
       "Ng5JBnDPZobFhoRkbO3AgXloVmzl0cTeZtI0uebN0oJ7zCwHz8HTlvMVir8GRbZcitEPyAKPSzcN\n",
       "Tjnb0y43DkkGVgfcY7HFmk0eVGmgfAaKBmeoCEXNWwSDRfq8TOODBS/llAO1QvFHoNiM10I5bWRz\n",
       "x3QihPZiWFR/ssrZ3pSG9xhkgr4Heq87NzOaTobe0ou9nQLJH9tCDce73aX0OAgC3wQp5isUfw+K\n",
       "6Jqx6MjwEiYGlDMIGz4scN3fckgzSManClnsGbMCvyxSy6O8+VDOVyj+HhTZcunIkotkJzgMqPmj\n",
       "CWIrl69Q/D0o5sbiM0N783QOm37595KYyvkKxV+EogrodGVsfzhw5g6HV+qXXzYpVij+DhTrmW73\n",
       "TopDOV+h+JtQvGqVPW7M/V1zMJ8IiHiey1co/ioU2XxJqItkT+XwdYmBoDe5/O9BUaX277WaaaNX\n",
       "pcmtVWS4ZJhdJHsqh29LcLdtLg/UBvXOIijO+g0nLoKrLxmekEr932s10wbrZUp7Ssg1Fwx52HND\n",
       "6G8hkfXlPBxV1TuLhiv9glHiwl39H1K6A5u1k0/oAAAAAElFTkSuQmCC\n",
       "\" style=\"display:inline;vertical-align:middle;\" /></a><br>(see <a class=\"ProveItLink\" href=\"../../../__pv_it/theorems/7d650b732952850db27770884e814396cc9f24d90/dependencies.ipynb\">dependencies</a>)<br>"
      ],
      "text/plain": [
       "<IPython.core.display.HTML object>"
      ]
     },
     "metadata": {},
     "output_type": "display_data"
    }
   ],
   "source": [
    "%proving output_prod_operator_repr"
   ]
  },
  {
   "cell_type": "code",
   "execution_count": null,
   "metadata": {},
   "outputs": [],
   "source": []
  }
 ],
 "metadata": {
  "kernelspec": {
   "display_name": "Python 3",
   "language": "python",
   "name": "python3"
  }
 },
 "nbformat": 4,
 "nbformat_minor": 0
}