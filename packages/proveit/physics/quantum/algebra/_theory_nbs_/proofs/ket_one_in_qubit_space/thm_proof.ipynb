{
 "cells": [
  {
   "cell_type": "markdown",
   "metadata": {},
   "source": [
    "Proof of <a class=\"ProveItLink\" href=\"../../../../../../_theory_nbs_/theory.ipynb\">proveit</a>.<a class=\"ProveItLink\" href=\"../../../../../_theory_nbs_/theory.ipynb\">physics</a>.<a class=\"ProveItLink\" href=\"../../../../_theory_nbs_/theory.ipynb\">quantum</a>.<a class=\"ProveItLink\" href=\"../../theory.ipynb\">algebra</a>.<a class=\"ProveItLink\" href=\"../../theorems.ipynb#ket_one_in_qubit_space\">ket_one_in_qubit_space</a> theorem\n",
    "========"
   ]
  },
  {
   "cell_type": "code",
   "execution_count": 1,
   "metadata": {},
   "outputs": [],
   "source": [
    "import proveit\n",
    "theory = proveit.Theory() # the theorem's theory"
   ]
  },
  {
   "cell_type": "code",
   "execution_count": 2,
   "metadata": {},
   "outputs": [
    {
     "data": {
      "text/html": [
       "With these <a href=\"allowed_presumptions.txt\">allowed</a>/<a href=\"disallowed_presumptions.txt\">disallowed</a> theorem/theory presumptions (e.g., to avoid circular dependencies), we begin our proof of<br><strong id=\"ket_one_in_qubit_space\">ket_one_in_qubit_space:</strong> <a class=\"ProveItLink\" href=\"../../../__pv_it/theorems/b7ff01f12bf3e166bbf80aa351433fd53a1dcd0a0/expr.ipynb\"><img src=\"data:image/png;base64,iVBORw0KGgoAAAANSUhEUgAAAEYAAAAYBAMAAAC1hJYwAAAAMFBMVEX///8AAAAAAAAAAAAAAAAA\n",
       "AAAAAAAAAAAAAAAAAAAAAAAAAAAAAAAAAAAAAAAAAAAv3aB7AAAAD3RSTlMAIolEdjLdEKuZze9m\n",
       "u1Q7ZGlWAAAACXBIWXMAAA7EAAAOxAGVKw4bAAABM0lEQVQoz2NgwA/YlToKCChh4GTgTCCkht+A\n",
       "8SuDAITNikMNTwFQjTKEzRuA4RLdrCWiCgwMTAlgNWEFDHwT0NV47GGo/DsBLKnMwN65Huh0dJdx\n",
       "OgPNODuBgfE6A9gcf6AaPTQ1kbxAQY4JDJIMgnA1slA5lmtpWSC6nRfkpgOMV0Onw9VwQTzIvAQa\n",
       "ZBckwRT3//8f4Gr4FMBiUlAljA1BCHthaqCOXggVZlWwwaJmMpi7ACrMOMEEi5oIsPZtaWlpuWD3\n",
       "CGFR8wgcuBdg4td5saiBuAQelJag8GEwQFHDCDHBBRHODUBiAVyNPjBsmB6AuVwPYIp8VwrUZcLt\n",
       "6ti/4gADGzS2e83h8b4/UwDhHhB4CaWZdSFxgQxgai7iSYxQNewLCKthOYBHjSuE4sCjBABevEMT\n",
       "MzlqqAAAAABJRU5ErkJggg==\n",
       "\" style=\"display:inline;vertical-align:middle;\" /></a><br>(see <a class=\"ProveItLink\" href=\"../../../__pv_it/theorems/bf990d4b50fada4d1ddb58dd27e89c51014b35ea0/dependencies.ipynb\">dependencies</a>)<br>"
      ],
      "text/plain": [
       "<IPython.core.display.HTML object>"
      ]
     },
     "metadata": {},
     "output_type": "display_data"
    }
   ],
   "source": [
    "%proving ket_one_in_qubit_space"
   ]
  },
  {
   "cell_type": "code",
   "execution_count": null,
   "metadata": {},
   "outputs": [],
   "source": []
  }
 ],
 "metadata": {
  "kernelspec": {
   "display_name": "Python 3",
   "language": "python",
   "name": "python3"
  }
 },
 "nbformat": 4,
 "nbformat_minor": 0
}