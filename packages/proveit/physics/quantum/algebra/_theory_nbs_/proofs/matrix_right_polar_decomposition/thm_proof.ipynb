{
 "cells": [
  {
   "cell_type": "markdown",
   "metadata": {},
   "source": [
    "Proof of <a class=\"ProveItLink\" href=\"../../../../../../_theory_nbs_/theory.ipynb\">proveit</a>.<a class=\"ProveItLink\" href=\"../../../../../_theory_nbs_/theory.ipynb\">physics</a>.<a class=\"ProveItLink\" href=\"../../../../_theory_nbs_/theory.ipynb\">quantum</a>.<a class=\"ProveItLink\" href=\"../../theory.ipynb\">algebra</a>.<a class=\"ProveItLink\" href=\"../../theorems.ipynb#matrix_right_polar_decomposition\">matrix_right_polar_decomposition</a> theorem\n",
    "========"
   ]
  },
  {
   "cell_type": "code",
   "execution_count": 1,
   "metadata": {},
   "outputs": [],
   "source": [
    "import proveit\n",
    "theory = proveit.Theory() # the theorem's theory"
   ]
  },
  {
   "cell_type": "code",
   "execution_count": 2,
   "metadata": {},
   "outputs": [
    {
     "data": {
      "text/html": [
       "With these <a href=\"allowed_presumptions.txt\">allowed</a>/<a href=\"disallowed_presumptions.txt\">disallowed</a> theorem/theory presumptions (e.g., to avoid circular dependencies), we begin our proof of<br><strong id=\"matrix_right_polar_decomposition\">matrix_right_polar_decomposition:</strong> <a class=\"ProveItLink\" href=\"../../../__pv_it/theorems/c06ea72feddd35abbfde3e7469fab1f3edeff0800/expr.ipynb\"><img src=\"data:image/png;base64,iVBORw0KGgoAAAANSUhEUgAAAeAAAAAzBAMAAAC9J8aTAAAAMFBMVEX///8AAAAAAAAAAAAAAAAA\n",
       "AAAAAAAAAAAAAAAAAAAAAAAAAAAAAAAAAAAAAAAAAAAv3aB7AAAAD3RSTlMAq1RmmUTNIjK7EInv\n",
       "3XZ/CtNrAAAACXBIWXMAAA7EAAAOxAGVKw4bAAAHdElEQVRo3tVae2xTVRj/+r693bpGY4QorsTX\n",
       "yJQ2EQxGo0WmEFGZLjEoRIrBGCHR6h8myNyqUROCQjGglmh2kYRkW2QVH4SRSNEEUYMWQUKE6kWM\n",
       "OFBec2yMQD2ve3tvb+/duU0I15O057Tfd06/3znf+V69ABytp6cHbDXbEy55E3t6JH65fiv9a295\n",
       "2xMA3q+ZaIJwHe27JdIFS6UMQFfpHNfkn+3+mu0J4IrXSjRrb1Okwi/ssyeD3+9wCuBraiaaNXeB\n",
       "9rc6ErAnWSvRvH1Cu1DEiYDbU7zEhpJVO6XhrGcXYa8TAf/KTfyYX6e/o/0tkvMAe/LcxGb+VRfR\n",
       "zp9wHuC6HDdxHP+qC+hV8A07D/BJiZtY4F/Vz8zVQucB3sNN9CVsOKZR2sckpwEWRriJrlYbwdZF\n",
       "2vfJTgPsynMT6+2s+yHtggWnAa6LcBMfsbPuPdRqeYadBnhVnJt4r511++hUcdBpgE+muIlYOwPV\n",
       "2K4CSJkpxw6nAf5AHb1kRcQWDEP4vYI3kKSAn6ycGixo7rICmGzC9WPKz8Omm+AtFouHOE3qt+ro\n",
       "eSsizgSiyNvkKnj9OII+BhDGGhyYcOEKcP34HOFmofV2LeD7cPfMmPLzsBlOOBzlcx9qtcBdsiAS\n",
       "I41c6sZK3hjC9e6arwAWE5RD6O04tVZDzHi1agC/inclM6b8PGy1AhYuKiNvY8qciNtS9JpRyTsd\n",
       "W+F+9JqinvcDurmrZA1gv0QVZQz5edhqBew+o4y2bE+bE3E7gl75Ct7QshF6h6EOh1QNGFhEpx19\n",
       "CQ1gD1J8/9jy87DVCtijxFIB+WTUlEgaUlp3soK3I4z35Cl8uPgSL0DHKbJrfprl0BGtld5dLH7P\n",
       "IT8HW62Aw8OKRkMsbkokR4bAenMVvAn3IANMihv44D3MWrKSHTl0FfAsgHUc8nOw1Qo4xIJ8eBRW\n",
       "ETQPFXHboyeS45bZMZZ5wRcVzqNurVILOkR2g7adzB8ntYBfgEC1yC5XIb/KJvEBdmO3VBXwzbST\n",
       "1S+8CqYEdBpEUYjEgASRnaqP6nm9EDjNALvR9RbxBxebXGS2vaAFHJRCWncZ2Pc53BXBC+oBK2zi\n",
       "LuXbgelHqdBtIMgmJyzMuRKWHqSfenf3w4PjVHXzltMD5i7Da1oaDY5AIcYiLHWoa9XzDrRMP8cK\n",
       "AwLiJfrdwSYfYoDzWsBuuWyMVo5fCxNDklcyAlbYQmcYX/fVMCk3pa0ZG7TXkUtoa66m0jGkc0hC\n",
       "4XC2FVYTlOuVzDZXiWkTum0FE8DCTXlW36GAVV4R7fUF1M/ESyKeEDZyW6wAQ/JuVX1m4XBKToTA\n",
       "CFhhm/sD4+uXwZObnMGbfidipiMD4PvROxq1YBeCAIdYCMMsrl5rE0w03R1mxEB4hB0jVWmV18tw\n",
       "HQNaiibRVcRKpWEz+mXPjJV/UC8HTTd2hOCzln0trXr5N1MB5YWUT5yG6ClXGke0y5EdoSMD4IME\n",
       "JAn6GGD041OmnUACb1aNFjXEvjiLGvQWjVlpYpmw4EFZx9umCTIxJlzmcKWsjBa0o/3YMD9elxLJ\n",
       "V02hj+ZVO+F2sm1hdGaEz/1iilyqI0+AkLiNjQyAxSFywt2gAkaRvjj1a/gG4AbV81BX247RDBvc\n",
       "0khZeFLfIb5H5Q3gY+5iAInHWgQBtdC3Q5M1lQG7kLq9/Cc0SD5yDk2QGKgG2EUCm7nwN9le8GzA\n",
       "5no9NMdhBQ5LyMiQPLhP4SnkGBhgXwYCm5KAzuFxfWzRXVoM7q6zObPAo1ECL1Y6oaDhFbvOSjCp\n",
       "tISpLqaHVj+sTmaRVkPCmB5eB/PB82w2+w4C3OuvBpi22dsaJcInvKGNAiWT9NCbJP7n9mw2G4Xx\n",
       "GLAb7bZLxuZluRo9DlnFnQoxFmX1nQOmvK9UJh7nWWiZMwLeBS2CkKMn7JtcxQ8zBQPoTFM+ZLRM\n",
       "fXIZcISY0RXkwz8YsIB+ty7tTaTLKi0MWmUWCrEvQjIYliJUbTNMEg9d8sC87yk40ERDqakAh03z\n",
       "eaSbDVHKt2wmhOSxAPsK0EucOFD7+hcxPJ1Q/1oaTlRqXvWmEP15ZuaCZvURQzanJB6xqAGwLwLH\n",
       "47AUaamwP6UGKsYD2wHinKcJH4hfZGeNXfGY+CXJysk/2uK2bWjie7gSF/6UDFjbbwV4f9l6USct\n",
       "mmWphp1Q4nBSJapW4hG3ZtfyVGzM+MxLPL3ZrOLl5imLlOW+1mothSicV06ww4TzqFmU1nhZa1re\n",
       "lL7HFQmr+Fwl7uTPx5UiXkZTJbp8Rbx+2k3VVGKtkKjExo2STTE6qY0JXLy8gEWDJ+MrxMe22hXD\n",
       "sYV4b56H2DdoV4wJ7Co77q8W3xAP0T9qVwzmhhtkpwGGfTzEcNLmqp5RrdlzFGAuMy2mba5az27/\n",
       "HnAcYBuPPNhoDn7kwTNaK9GqrWYBWMR5gGFJzUQLa8c2aoHkQMBvpWolWlxhFrH8BA4EHM7USjRv\n",
       "jn708BI8XOpjXuwxsA94r93nvW1PAH+0VqJZe5NeXYHWHsWeTRn8gPgA19z/5QPirArMMg71AfH/\n",
       "AIWcmtwgxMO0AAAAAElFTkSuQmCC\n",
       "\" style=\"display:inline;vertical-align:middle;\" /></a><br>(see <a class=\"ProveItLink\" href=\"../../../__pv_it/theorems/a99a87535c6a16452c4e0fd626e8c1a722d4c88c0/dependencies.ipynb\">dependencies</a>)<br>"
      ],
      "text/plain": [
       "<IPython.core.display.HTML object>"
      ]
     },
     "metadata": {},
     "output_type": "display_data"
    }
   ],
   "source": [
    "%proving matrix_right_polar_decomposition"
   ]
  },
  {
   "cell_type": "code",
   "execution_count": null,
   "metadata": {},
   "outputs": [],
   "source": []
  }
 ],
 "metadata": {
  "kernelspec": {
   "display_name": "Python 3",
   "language": "python",
   "name": "python3"
  }
 },
 "nbformat": 4,
 "nbformat_minor": 0
}