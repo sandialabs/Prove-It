{
 "cells": [
  {
   "cell_type": "markdown",
   "metadata": {},
   "source": [
    "Proof of <a class=\"ProveItLink\" href=\"../../../../../../_theory_nbs_/theory.ipynb\">proveit</a>.<a class=\"ProveItLink\" href=\"../../../../../_theory_nbs_/theory.ipynb\">physics</a>.<a class=\"ProveItLink\" href=\"../../../../_theory_nbs_/theory.ipynb\">quantum</a>.<a class=\"ProveItLink\" href=\"../../theory.ipynb\">algebra</a>.<a class=\"ProveItLink\" href=\"../../theorems.ipynb#num_bra_is_lin_map\">num_bra_is_lin_map</a> theorem\n",
    "========"
   ]
  },
  {
   "cell_type": "code",
   "execution_count": 1,
   "metadata": {},
   "outputs": [],
   "source": [
    "import proveit\n",
    "theory = proveit.Theory() # the theorem's theory"
   ]
  },
  {
   "cell_type": "code",
   "execution_count": 2,
   "metadata": {},
   "outputs": [
    {
     "data": {
      "text/html": [
       "With these <a href=\"allowed_presumptions.txt\">allowed</a>/<a href=\"disallowed_presumptions.txt\">disallowed</a> theorem/theory presumptions (e.g., to avoid circular dependencies), we begin our proof of<br><strong id=\"num_bra_is_lin_map\">num_bra_is_lin_map:</strong> <a class=\"ProveItLink\" href=\"../../../__pv_it/theorems/0ed1dd2f22b0763d7794dd03e9c886a837002bfb0/expr.ipynb\"><img src=\"data:image/png;base64,iVBORw0KGgoAAAANSUhEUgAAAZIAAAAmBAMAAAAcgAAeAAAAMFBMVEX///8AAAAAAAAAAAAAAAAA\n",
       "AAAAAAAAAAAAAAAAAAAAAAAAAAAAAAAAAAAAAAAAAAAv3aB7AAAAD3RSTlMAq1RmmUTNIjK7EInv\n",
       "3XZ/CtNrAAAACXBIWXMAAA7EAAAOxAGVKw4bAAAGD0lEQVRYw8WZfWgbZRzHf3m53uUuTSKITJGR\n",
       "qRtF0EVhY8O5nlvnhlSXoQij0wUdSvtHvUnFzRUbQYrSvcRpZakOzlYHoxsNWgtDHHUqG9VpkVJE\n",
       "DWQ4J91kG+3KarZZn5d7eS657q7tkT2Q3F3yzfPc53l+b88FwLktnZ4Ab9oaD9ViEzkcUvH7xumi\n",
       "mx4XecQBwZiX6j2EQfiNXg1VlGS5p+oAJX3oFpAIQ96q95P3ULzyJFW5eagD6x4u/fkRYl7iUOVJ\n",
       "lqpzVItf3ab6x2DY3pEeqzzJ73NVByE4DAv4VImCv0oObUqlSYTiXNXRJD8Fw5FlpWv6EXWUXKVJ\n",
       "fBnmIq1Nqyt1QOWnxJj/i1LNKvrtYKVJognGMLT7lJI3V4vHRpt3oDmXLD7Se/ClvzuwXZGwxY9T\n",
       "EuI19zqRuFA5tn2KeS7F4fBpe5LNPyZN9Zlv4dN/ZT0Lai1yd0Lc+AE6qZbJ9QglWYcPLzuRuFA5\n",
       "tlrmvBq9ttmSBNe8kjHUwb/QeqyUge9iJU81IJPCJEEaAx6nJG8xaz0ziQuVY7uDOb8PvcZtSd6D\n",
       "rRlD/XYIrYVPhhZ4nYkFMua6HS/OZfLBJUpSpZK1diBxoXJs3zDnBwC4IkMyls/T+Y0UYZdqqO8K\n",
       "YV9J8AfeeYKJBSpG7UEv/xTNPGlCEkCeVeXo8S5Uju0aU8ei25YGTZJnz+vfhGVWnWmhH05PXzZ/\n",
       "HOJ1jTBOHTBOY9fpfP4H59jlrHJszNYggicm5u9XKQnfZHxzKcmo+ViHTT/bBb1sEWmXfQlKsgGg\n",
       "y0afs5KUqR5JuMpv/UbQocHSdPi+xD2tCUpSZUa1P1i1kHvaps8Ozhj6PxqwC5RkO0K30ctWEqp6\n",
       "tGDcIrIN6bilpsPVkaWLHmxDRt8CQ7IJW/dr8XZFIzHzzBVWzcvP29xZC1ewGmw0R0lCqiWA8CNf\n",
       "wqpYGQlVhbFSOJNNgh/d5WrYbImfqDpiK1bhIkpnfqNY4iZNKQ7q9SsMP9mdR41ErMikRZ3ZZUMS\n",
       "4o0hKHdUpiT+gjkle+/shEWSGlTLSKiqDV/W4VCB7/AURBWwVkeWitVvIWHX5E/0GsX9UJLDZik/\n",
       "aFF3hexI1Iw9CaRWG7O6AWfygixBf91IXdJSrRDVSv4C8VZyh3wRwmxgxtWRpWK1IQms3XsWb76R\n",
       "LY5zUzpJtfGTNty5aJA8g/MJlOQcjuQTrtxP4PMmfQQ8VVCz+E2p3E+ICha+ekShExhI4Wq12ur2\n",
       "qDpiK1ZMwhlLxONA07MlEUbrGFIgUBTHIxpJxDD8+sUqCN/rapTjY0Ymp75IcvwmPbFPmCUaJmmN\n",
       "aSOIZNVqpO4GGxKsgp/iAtBw0p7GJOFCyTMCS8WKSaBZBxPxBL5xDqLoA38OfClxStLzyQv6dF+f\n",
       "vrF2SUJXo4y5TekeYUbow1SRD9eLD8hmOGzT8gn40toINLrVgDxmQ4JV/BVkfsuz2WxcQGEKWVfU\n",
       "kvaN6uhdJMkqlGSJAfsdflsIW/BhGG+/z57XST7ppLw7le4nry8w1agW/nmE9cVq8iSl9+Mb64nB\n",
       "0viwL8lW9XiEQGM2ux+R9FaV5xNqUpnneKDJKhIr83hrdaStCT9oXDbit1NQJ2BbBWtV33AwX7Ij\n",
       "bLRPUPdbBiia+2SDBI9Ac2cNcA/OsD/xFfZIQJyQePJFkhdAzEEvWRJLdVTm8VCPNZfh1xo8+eC0\n",
       "P6m3/zhX4pe4fc3utOgIxDqWoV3BDCQhxbcC3bBOIh0ndy6chN1KWXWE+hy4VmBJatEUcDG4gG24\n",
       "SnUiqbV9fCFaHDMU08pnhoSOsBP5gjCqgO+me8berJYZ3TRG18c4VaDgRNJnW3lH7HahE+W7X/FY\n",
       "ttPl7pcbnjVJiAkioBUxkfRMP7SoZ2hbiZtyV+e3j292R9JuTm1gcDaVsxv1AF3X1PxIBFf7Lp6Z\n",
       "c3FyNiRu1Cfo7iVe8Sd3Ax6rI3TZ/qn8M8hw2lu1VvWdqDxJIOWt+hxdmVTlSeBFT9X8SXJoVW4B\n",
       "yVHFS/VRYlziL+CexLP/GZknDx6o36d5h2RHl/8zetd2eKgWaXnwmX79P/kUufic1HbkAAAAAElF\n",
       "TkSuQmCC\n",
       "\" style=\"display:inline;vertical-align:middle;\" /></a><br>(see <a class=\"ProveItLink\" href=\"../../../__pv_it/theorems/7a234eb0d8fd15556029750a4c12fdbc8ab152840/dependencies.ipynb\">dependencies</a>)<br>"
      ],
      "text/plain": [
       "<IPython.core.display.HTML object>"
      ]
     },
     "metadata": {},
     "output_type": "display_data"
    }
   ],
   "source": [
    "%proving num_bra_is_lin_map"
   ]
  },
  {
   "cell_type": "code",
   "execution_count": null,
   "metadata": {},
   "outputs": [],
   "source": []
  }
 ],
 "metadata": {
  "kernelspec": {
   "display_name": "Python 3",
   "language": "python",
   "name": "python3"
  }
 },
 "nbformat": 4,
 "nbformat_minor": 0
}