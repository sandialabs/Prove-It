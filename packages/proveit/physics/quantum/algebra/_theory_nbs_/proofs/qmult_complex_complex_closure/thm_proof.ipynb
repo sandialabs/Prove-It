{
 "cells": [
  {
   "cell_type": "markdown",
   "metadata": {},
   "source": [
    "Proof of <a class=\"ProveItLink\" href=\"../../../../../../_theory_nbs_/theory.ipynb\">proveit</a>.<a class=\"ProveItLink\" href=\"../../../../../_theory_nbs_/theory.ipynb\">physics</a>.<a class=\"ProveItLink\" href=\"../../../../_theory_nbs_/theory.ipynb\">quantum</a>.<a class=\"ProveItLink\" href=\"../../theory.ipynb\">algebra</a>.<a class=\"ProveItLink\" href=\"../../theorems.ipynb#qmult_complex_complex_closure\">qmult_complex_complex_closure</a> theorem\n",
    "========"
   ]
  },
  {
   "cell_type": "code",
   "execution_count": 1,
   "metadata": {},
   "outputs": [],
   "source": [
    "import proveit\n",
    "theory = proveit.Theory() # the theorem's theory"
   ]
  },
  {
   "cell_type": "code",
   "execution_count": 2,
   "metadata": {},
   "outputs": [
    {
     "data": {
      "text/html": [
       "With these <a href=\"allowed_presumptions.txt\">allowed</a>/<a href=\"disallowed_presumptions.txt\">disallowed</a> theorem/theory presumptions (e.g., to avoid circular dependencies), we begin our proof of<br><strong id=\"qmult_complex_complex_closure\">qmult_complex_complex_closure:</strong> <a class=\"ProveItLink\" href=\"../../../__pv_it/theorems/c1e6ea80f243740f64361616280c80ed2addb5940/expr.ipynb\"><img src=\"data:image/png;base64,iVBORw0KGgoAAAANSUhEUgAAAKAAAAAWBAMAAAC1cop2AAAAMFBMVEX///8AAAAAAAAAAAAAAAAA\n",
       "AAAAAAAAAAAAAAAAAAAAAAAAAAAAAAAAAAAAAAAAAAAv3aB7AAAAD3RSTlMAq1RmmUTNIjK7EInv\n",
       "3XZ/CtNrAAAACXBIWXMAAA7EAAAOxAGVKw4bAAACwUlEQVQ4y61VSWgTURj+mkyWmWbDgwcLZUCw\n",
       "BxdykEIq1IEoCIIGKiJYbLSC1INMwYPiQgQFwUojVDR1YVwuJWBSFdSDIhRBFLFIVBACU0RqPUhP\n",
       "ij2I/1syk4lm6MEPvpm3zff+7b0BlgFT0jPwL0SwLCR0QRf7/lqjPflw5Fg1ZAMp1l3tK7hWUnx5\n",
       "fZbk061r5mZw95eBz8BW1j3kp6flBSXCBj0Ot6xRvlSBjIGwhTPM9aKfoJIWlEgy5ze2rDmrWkCH\n",
       "gSDXRKfuJxiTlBiyWN8SnYV6ndu+SmWu0K6vEKRn2DeEayQlnnK/hcW7v8nB4lHZGAbe1OuvfQW3\n",
       "S0a65imJ2P99BfnEcxlphDKSuiBb08A2YNJXcFhy0FSXyK8fVsVEkDsabtRjtDogW73AKOk3vo2O\n",
       "OLU30X1aNt8JajNQqGICS4jZCDzngk5BG43KXAeoVmfOsaaLqc6VctolM3BNjr0QVBYRp9pQ8khW\n",
       "EV1kM2N1Aq+Q4gm5eJy2tJty8pK4pUAxugds8grGiqjQziQ6pCPELZxyvptUZWOQmO+nR7n/ETPu\n",
       "95zFT8Gdc+7BlC5XbGwWZbjTQmCWzcQdwV2sDkH7rafXfcqV9jH6k0XuU8Lg2/b0uFbfFKzoWBkw\n",
       "kSxQMBHkjiZs96SkeDSQoc5J1jaizAk1HczzfPX1uYLTgqodqCl0HNIqnT2lyqcOOIsWDpq3a7K+\n",
       "OihmsVyCpTpWUFK9pVJJP7/HFbwoqHU/Hv1Kr64sc1bk8dZly7lt3tZYEb2X/Yqp9tFcEjGdlyhL\n",
       "iibn4gXBZpyS77036nnPhTjbOK/m+IBVRtzKgIc38tDEMzlHB56zGVmfi4QjlN3wAGN6dIeNyFU2\n",
       "UB6ZcIy6ItlkSLvr6bi3Ky6dcqmU8wxPeUqOQW33D/DuG7La/ClsQRfz7X4W3o2C+A/4A3d4p2CM\n",
       "Pr49AAAAAElFTkSuQmCC\n",
       "\" style=\"display:inline;vertical-align:middle;\" /></a><br>(see <a class=\"ProveItLink\" href=\"../../../__pv_it/theorems/92245bf383e040911a628739fd0a15aa823e797a0/dependencies.ipynb\">dependencies</a>)<br>"
      ],
      "text/plain": [
       "<IPython.core.display.HTML object>"
      ]
     },
     "metadata": {},
     "output_type": "display_data"
    }
   ],
   "source": [
    "%proving qmult_complex_complex_closure"
   ]
  },
  {
   "cell_type": "code",
   "execution_count": null,
   "metadata": {},
   "outputs": [],
   "source": []
  }
 ],
 "metadata": {
  "kernelspec": {
   "display_name": "Python 3",
   "language": "python",
   "name": "python3"
  }
 },
 "nbformat": 4,
 "nbformat_minor": 0
}