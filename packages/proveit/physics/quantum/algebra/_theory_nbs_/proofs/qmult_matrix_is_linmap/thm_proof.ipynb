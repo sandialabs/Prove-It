{
 "cells": [
  {
   "cell_type": "markdown",
   "metadata": {},
   "source": [
    "Proof of <a class=\"ProveItLink\" href=\"../../../../../../_theory_nbs_/theory.ipynb\">proveit</a>.<a class=\"ProveItLink\" href=\"../../../../../_theory_nbs_/theory.ipynb\">physics</a>.<a class=\"ProveItLink\" href=\"../../../../_theory_nbs_/theory.ipynb\">quantum</a>.<a class=\"ProveItLink\" href=\"../../theory.ipynb\">algebra</a>.<a class=\"ProveItLink\" href=\"../../theorems.ipynb#qmult_matrix_is_linmap\">qmult_matrix_is_linmap</a> theorem\n",
    "========"
   ]
  },
  {
   "cell_type": "code",
   "execution_count": 1,
   "metadata": {},
   "outputs": [],
   "source": [
    "import proveit\n",
    "theory = proveit.Theory() # the theorem's theory"
   ]
  },
  {
   "cell_type": "code",
   "execution_count": 2,
   "metadata": {},
   "outputs": [
    {
     "data": {
      "text/html": [
       "With these <a href=\"allowed_presumptions.txt\">allowed</a>/<a href=\"disallowed_presumptions.txt\">disallowed</a> theorem/theory presumptions (e.g., to avoid circular dependencies), we begin our proof of<br><strong id=\"qmult_matrix_is_linmap\">qmult_matrix_is_linmap:</strong> <a class=\"ProveItLink\" href=\"../../../__pv_it/theorems/86096fe3379319dd31276f3c93d4a8759a85f8560/expr.ipynb\"><img src=\"data:image/png;base64,iVBORw0KGgoAAAANSUhEUgAAAXAAAAAXBAMAAADgsQlaAAAAMFBMVEX///8AAAAAAAAAAAAAAAAA\n",
       "AAAAAAAAAAAAAAAAAAAAAAAAAAAAAAAAAAAAAAAAAAAv3aB7AAAAD3RSTlMAq1RmmUTNIjK7EInv\n",
       "3XZ/CtNrAAAACXBIWXMAAA7EAAAOxAGVKw4bAAAE40lEQVRYw9VXb2gcRRT/3e5ddu8u2R5+siLp\n",
       "idpGqnJtbCW16NImWMiXKwqVGuphhBKRskUtViW5goJgTKO2tFf/sKQihEg5NfehghK1Af8gPeUM\n",
       "9UPIRa1ySjWotRak9c3Mzt7d7l5657cOvJvZN2/e/ubN2ze/A1po586g9WbVL1vGhyYH6taxH+un\n",
       "SLNo9GS5idY6ksL/wG0kPcsaO/keiJ2c2/NU/vhAqt1ylFVNwkggUgYX8pJgszc2C7wVa9HWCqg9\n",
       "l5NsF/9eEwA88vos65Q8sPgp3rpoPv0TVtjOZFWTDZPBDxBSQB+b3d0s8FasRcAyToxXsTgdOB8U\n",
       "8d7VF1n3NhA+S9h6THRiwJmrakbRQXtvs4UUcIBlzXizwFuxFi9OCajaZpN+1y0FAI8mIhz4VuC5\n",
       "KGEKmfgMvbqYrGoqGCGdagopcPjxZLPAW7Hmrd3JanUfhV59Z9wFbrwxPydGv9vaB6yfAa6LskNK\n",
       "aUs40yUmq5pO9IRp/IWQAlQKSVvTH2cr1rytdoCHw4TryZGyBB7ZI5MYp0Sn0M7GnxCTCfyaEtqq\n",
       "Zjf2/kKjQSHk5av5+S+bryotWPPWL4EblCXle7IS+D4Xt3HeSao8tMSL3grp07wrhLxsA44t++58\n",
       "LfArWnvaoAP8ceUCFHuVWw6rH3jHjOjbUtDz93mW+zUbhZCXvbStZd9t1gK/gnUkhbE6xTcO1Dv1\n",
       "PzCBz13gGddixPFPNUMzd3kj7tPcKoS8RO14OvgiKxWwOeEBLqx1VtzCf2Wdwz7UOaxu6e5bS8/d\n",
       "ugm1b717SrMOVBOXUNYuSeA6pdz8d+LbdN7eTv34M14QPs1BIeRFKQd9bWMrD+OGuB22PcAd63W0\n",
       "oe1UIvTFXDr2sqW8plQwy24QdZpsKij6gZ9SLPUfCTxWLamPoQr8WNSLw6cZEMK8ZO4OKL/b2A1Z\n",
       "NuOY7i31pmtua2G9pYjYLRT1Xgpy/ARwF47GMmGqk/qrNHutlvGkip7C0ARCM26quDvT/mS/Nk8V\n",
       "3M+qNmoTwKe5TQjz8t6jVRIjCQ67VdF183Dcm+PcGrh3CeqKLAxWtI4/z4hPUcl3qHRhsIJZNDbI\n",
       "ovGmWGZYuL6M9oQL/Dc3RJ/sBEYJWZRl31myCMtd2/BqGHcQwrw8S1OSxIiRJU6yKz7xoA84s4aW\n",
       "uoAdlGmTTLtmDTv7hJEO/UxVAN00Vt6vrV60rINy2cLBlAu8Td5iD52+XFrPak+cOa48Yk2UJFv4\n",
       "Gx6NrK/9wkuIAu2SGD6yI7z8d8Gs+ICH+LFYD8eSNMdr1aZN9eyk7uklviy0MIhd2L7wtS2Bx1bu\n",
       "FJlyJHbTwsfMp17kXPB0SfJCzNteDbVvhbjEQZIYcIKjDuVyrxDwqTZvHXfOF/0qy4KNuVwu+cID\n",
       "y9THjiyCaW3kpLzyZfNRbMUOKHVFIa5PSWLACY6eFxGP3B5MpcOo7ACVCH6tsY8z1gi4IERN8fE7\n",
       "vIp4A9ImiRvfiENipiAIDr8dNxAbDn7nMAaS+hKr6mzttIWPGob8SNPAo5ZHcSLAaL8j0oskMaNJ\n",
       "QXD20wnrcxZCge805tKTqBBn0Y6yx6mhQ9mGwCebBh7z0uVycBy4+Lwk5R+m3GH/qg99aTiVy6WX\n",
       "JytauX7ZudmGpsNN/BG0hPi8RGxcnU29apD+BxdYhyt/GCJRAAAAAElFTkSuQmCC\n",
       "\" style=\"display:inline;vertical-align:middle;\" /></a><br>(see <a class=\"ProveItLink\" href=\"../../../__pv_it/theorems/50478639689ba45471190d5d9392014023d993070/dependencies.ipynb\">dependencies</a>)<br>"
      ],
      "text/plain": [
       "<IPython.core.display.HTML object>"
      ]
     },
     "metadata": {},
     "output_type": "display_data"
    }
   ],
   "source": [
    "%proving qmult_matrix_is_linmap"
   ]
  },
  {
   "cell_type": "code",
   "execution_count": null,
   "metadata": {},
   "outputs": [],
   "source": []
  }
 ],
 "metadata": {
  "kernelspec": {
   "display_name": "Python 3",
   "language": "python",
   "name": "python3"
  }
 },
 "nbformat": 4,
 "nbformat_minor": 0
}