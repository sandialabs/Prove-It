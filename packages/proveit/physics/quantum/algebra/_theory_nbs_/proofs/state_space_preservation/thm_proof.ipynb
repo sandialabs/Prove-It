{
 "cells": [
  {
   "cell_type": "markdown",
   "metadata": {},
   "source": [
    "Proof of <a class=\"ProveItLink\" href=\"../../../../../../_theory_nbs_/theory.ipynb\">proveit</a>.<a class=\"ProveItLink\" href=\"../../../../../_theory_nbs_/theory.ipynb\">physics</a>.<a class=\"ProveItLink\" href=\"../../../../_theory_nbs_/theory.ipynb\">quantum</a>.<a class=\"ProveItLink\" href=\"../../theory.ipynb\">algebra</a>.<a class=\"ProveItLink\" href=\"../../theorems.ipynb#state_space_preservation\">state_space_preservation</a> theorem\n",
    "========"
   ]
  },
  {
   "cell_type": "code",
   "execution_count": 1,
   "metadata": {},
   "outputs": [],
   "source": [
    "import proveit\n",
    "theory = proveit.Theory() # the theorem's theory"
   ]
  },
  {
   "cell_type": "code",
   "execution_count": 2,
   "metadata": {},
   "outputs": [
    {
     "data": {
      "text/html": [
       "With these <a href=\"allowed_presumptions.txt\">allowed</a>/<a href=\"disallowed_presumptions.txt\">disallowed</a> theorem/theory presumptions (e.g., to avoid circular dependencies), we begin our proof of<br><strong id=\"state_space_preservation\">state_space_preservation:</strong> <a class=\"ProveItLink\" href=\"../../../__pv_it/theorems/9d121a551047c59e6a220bae8f12c8ec45dd496d0/expr.ipynb\"><img src=\"data:image/png;base64,iVBORw0KGgoAAAANSUhEUgAAAYYAAAAZBAMAAADH6ZT0AAAAMFBMVEX///8AAAAAAAAAAAAAAAAA\n",
       "AAAAAAAAAAAAAAAAAAAAAAAAAAAAAAAAAAAAAAAAAAAv3aB7AAAAD3RSTlMAq1RmmUTNIjK7EInv\n",
       "3XZ/CtNrAAAACXBIWXMAAA7EAAAOxAGVKw4bAAAFj0lEQVRYw82Yf4gUVRzAvzs7e7M7czsu0R8n\n",
       "ppxoupCnQ3aHXhEbnZ0l2EoEmVctGIVCMiciXMW1SUFxpKucXXt2Mnh/yYGtP46SohSJoogOUTO6\n",
       "hZEsE+k4iSAOhL7vfd/82tm7naDMB999N/fefN/38+b7/b7vDEDjFqv+ANHbwqoJt6n9Xm0FvXo+\n",
       "ytSmf6S4ALevxQ38Wf3/MphC/Ne8JVGU2e56YM1UjkbvAAa9lcRt484fqSJAwg7dMDby0rUBtf0c\n",
       "fEWjgiHDxpY0YIixTjIiMkRQSe0+LsrCW3dB7PsdLoOOa+Ww/znEfI+hPjmoHCvADI0KhnVs8OUG\n",
       "DHKedWZEhggqeVMLJNqfeHHDew4aygRb0Kq5YeMWNHsQYnbiDI0KhjeZ55UaMCTZ1vZF9aUIKnmT\n",
       "DZKmabx4wmM4hnKC7XIuOD+ZG8bfu6G5KOeKfFQwMByttVE8bBdqIzFEUMlbs5B5jDfjMWSdDftG\n",
       "uNBI9RLP8RabOApvQHpPkY8KBtY1NYzp1dGDtRBFJW/LhLyA4alWPIaK47hb+WVih/CplEIPZhPo\n",
       "J2nUyUvfVavfNmRorlYnK5HzUmOVvG0Q8gVuajxPDOpVAyr6BEhsteN82m4nLHqTAROOewzrAYbr\n",
       "LFAJMMhFSFn17JAo0O0AA6kU3izPyrBVyKQ7axw06Yxq6DMU1B0QyA4DiUBm7PAYekHJ1FkgF2DA\n",
       "Kb0Ab900lBGCUz/7yZLPFqE9ZGjBUcmj2oC4Gxn64KJ+/xLnSdSbzNcFwx55Im4Cph2W3FYED5xd\n",
       "wRNjhceQsrS8b0S5MA4PZWoZcF/RVyVMIE/jxd75ByHF56gCP1HxM5DKknhArE9eKefV/aZ0KL7u\n",
       "fnfqlyTSH9j3Cwar2db44iy57ePZCD2z+iPFQ8CX9nkMku3FHzNusWbJVohhJbNNLnCj5PVMYYb5\n",
       "m+zgb/czkEpmu4IPoRv7LnR5DXPmg9J17iV+Bu0v7D92zulVlgaqTedfD3/ibpZOWYGE3eOrNQoP\n",
       "uwmbGbfEzmlwqutCV97P0BRHvekKjxN+fhJDWlQvvsRbcFSW4PlM3LoMu9CL2Fqjb7MaqEUp1PiS\n",
       "Nu2kVsbwGOwE3aIoaOP/dJkT/HxIOJdtPoYTuIfxR/deFcZl7+3XQvEA2jLU+1GePQfaGGLYDVS9\n",
       "wNIAA1MJJdWe0eEApACOsoHly7lFeruTHA6TSBjBMdNheBw6mb/yM3It/+eUd05vAgYp2lofw+to\n",
       "zWiP0WyScVntyJYwg3IWf1bhLhSBsgMxbAZRvWwOMDCVUFKOTOiwhtVZT7GBzk7mGRnppC85cnkR\n",
       "lBa35usxKyzP8jNyAy3vJYX3u9W2nC81uwwx9NVXf4V5FhmXhdz1MAO00BZgPRbfVi4fgFiJMSwG\n",
       "Ub28G2BgKtGXYvZOnINZvaNcLre+80xN6ntPiLZ/o1e3JhccvoZ/pdnlRUqB859169YPb3W7t1+s\n",
       "rb0XYYiQcVkYawqdD9Qe4bUMnTR4DuEcNJ2ql6Xh2rsE6XynYoBswgAv5fBe1c+QLpIEa+8k33am\n",
       "TxGRkDhNtUawsdEgw9fQlSTjspBYOcv7w3NUEgyLiNSLbLuoepmqxxCz7dd4MPDzUTllwueBt7Bc\n",
       "bV3HGHQeLkOiJpy7YgwwKNNwOUvG4al1ZRYGaQGP+j6+d2OffoLGmaJ6GarHoHYdwkV+QfUf8Du2\n",
       "DQZ2nd80VMugOWV5g0K5r/Y9LpGBGwY3LnnJFIfmrO9x6unyQQiebV4S9zPw44GfE2Plcj5sxlEh\n",
       "wefAPdWoxQu1ofrvoj7jor6LihCTzboMcavuK6Xr0jaJ235zP6Uwjjnfufjov/M+rVGyb4e6DDqv\n",
       "+u+I7xpzfV+yfL+8veJ8XxKd+h9+X5o0QK+e+xv5z3GLyx1zJwAAAABJRU5ErkJggg==\n",
       "\" style=\"display:inline;vertical-align:middle;\" /></a><br>(see <a class=\"ProveItLink\" href=\"../../../__pv_it/theorems/d8c6adfc5739add3ae37d454cb4a84f6ffcc97b40/dependencies.ipynb\">dependencies</a>)<br>"
      ],
      "text/plain": [
       "<IPython.core.display.HTML object>"
      ]
     },
     "metadata": {},
     "output_type": "display_data"
    }
   ],
   "source": [
    "%proving state_space_preservation"
   ]
  },
  {
   "cell_type": "code",
   "execution_count": null,
   "metadata": {},
   "outputs": [],
   "source": []
  }
 ],
 "metadata": {
  "kernelspec": {
   "display_name": "Python 3",
   "language": "python",
   "name": "python3"
  }
 },
 "nbformat": 4,
 "nbformat_minor": 0
}