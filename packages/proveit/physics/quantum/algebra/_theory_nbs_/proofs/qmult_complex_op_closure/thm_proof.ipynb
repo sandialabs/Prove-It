{
 "cells": [
  {
   "cell_type": "markdown",
   "metadata": {},
   "source": [
    "Proof of <a class=\"ProveItLink\" href=\"../../../../../../_theory_nbs_/theory.ipynb\">proveit</a>.<a class=\"ProveItLink\" href=\"../../../../../_theory_nbs_/theory.ipynb\">physics</a>.<a class=\"ProveItLink\" href=\"../../../../_theory_nbs_/theory.ipynb\">quantum</a>.<a class=\"ProveItLink\" href=\"../../theory.ipynb\">algebra</a>.<a class=\"ProveItLink\" href=\"../../theorems.ipynb#qmult_complex_op_closure\">qmult_complex_op_closure</a> theorem\n",
    "========"
   ]
  },
  {
   "cell_type": "code",
   "execution_count": 1,
   "metadata": {},
   "outputs": [],
   "source": [
    "import proveit\n",
    "theory = proveit.Theory() # the theorem's theory"
   ]
  },
  {
   "cell_type": "code",
   "execution_count": 2,
   "metadata": {},
   "outputs": [
    {
     "data": {
      "text/html": [
       "With these <a href=\"allowed_presumptions.txt\">allowed</a>/<a href=\"disallowed_presumptions.txt\">disallowed</a> theorem/theory presumptions (e.g., to avoid circular dependencies), we begin our proof of<br><strong id=\"qmult_complex_op_closure\">qmult_complex_op_closure:</strong> <a class=\"ProveItLink\" href=\"../../../__pv_it/theorems/c2d4710039bd3542fe59fe12903134613003e97c0/expr.ipynb\"><img src=\"data:image/png;base64,iVBORw0KGgoAAAANSUhEUgAAAjQAAAAlBAMAAACnsG4nAAAAMFBMVEX///8AAAAAAAAAAAAAAAAA\n",
       "AAAAAAAAAAAAAAAAAAAAAAAAAAAAAAAAAAAAAAAAAAAv3aB7AAAAD3RSTlMAq1RmmUTNIjK7EInv\n",
       "3XZ/CtNrAAAACXBIWXMAAA7EAAAOxAGVKw4bAAAHYklEQVRo3u2ae2xTVRjAv3Xt7u1t192/TMTE\n",
       "VlhA8bHGIcnQzMZtSljMGvwHGZEBUSMhriREQwRW/tCgTloCyajyuIuGsBBZERNgTUYBiUSBTUBR\n",
       "TKE4H1HIqPKYm2I93znn3t7bu3aBzoBjJ/l2xznnnvPd3/ke55wBkKdUpC/DHVoa0kN52++DO7h8\n",
       "MY5mHM04mnE0YxZNUeL0bczElThx69CU3OYGUzlm0AS46IqQp7sw4jhjBo3Lw0QrrwHYkrn7/5Cr\n",
       "4QUuKhoZH5NyosnXXAiaURz3QS5aaSbSZ+5n23QYH5YowLJmMr+wmDdUpY/Dx38vBJcXqKho6vDx\n",
       "ck40+ZoLQTN640pNTLRiSeMUiqlj7eRBfGwDsM6clyLJQHvJ7QFLG3ku5sLRrEbvC+dEk6+5EDSj\n",
       "N67VyyRT4SYBo9iX3c8u2yiaGoANUNILUKa9FArDMnxO48LRIF6HJyeafM2FoBm9cZ1ctLJnfzAT\n",
       "RV2bE9+w3y4pQhc+42CRwUlWpUIzrJIBiTq4U2HC0RR7c4dFgiZfcyFoRm/cyVy0BJS8hMgXsfjy\n",
       "qvb9n3F3o27USQLOXdorxVfamV5eJmqGOpZIfJknQ+VpLihDjdq49Vyguy9I/Qkq0FN2sWSlkXFd\n",
       "5e4WxZ/z/QD/ZMbomUAfDpmJimYmwPt50ORpLgiNNi5T3sqco43VVMnGF6aYM7b22yIuKz1WGrtm\n",
       "Qwi/fjoYA31pHDTLIN5FzGcgM9p+luuLm5ioaJaCoFfEteHeVXo0rHnZkiDNegAPDAaKDtDlgR3H\n",
       "uhzNe4t7pa2wvFcXBskg/XujI6BRp5WOsCDJThBqTUajyceJun6zAlqYPcHle3DSD/RBC779EG3M\n",
       "ZK4W/kIpetvqnkhkUzyjkJupb4kzUdHYFYefdRDPR/zSuoDlAz0a2lwc7fRAqZ/7rDXA+sI6gIsg\n",
       "JqEFRB2aUjQJqzwCGnVaxx/ZaLBG5jOAdWoCoH0YBRrVwQ4zsQ6pS1vrRusJ0S8ibpv4jkVh/pFO\n",
       "fE76feLEikwOsy5l3iammKhoLEk1HNYSY3DsBHhcj4Y2r4XOALSqkb6L92VoMKgZ0FzELAAjoVGn\n",
       "nXM8Gw3WyHwGiMH9uAkyK6BtXDgaJ98JEP3LUJl51AAz24MloEODzhTKJPyZ4iAL2nEm2kGhqRqX\n",
       "qi9JN4Ifvqk7ZNCDAm3GRajlY9crfNPI0HSkEM2h/lkAu/uFl8rr3DFlgQKB5ScvzII3phFNLpwP\n",
       "OKqTrkm7DQcFNi4kF2SjwRqZzyBQW+g1K5DJ/NyhOvnRwMfDysOgvsny1mUe16hD4W7vSe3Y5QjC\n",
       "OfoPSy8TDc0nuAH8Wox30IA3JfsMRZuhinThFvsn+UH7wuZYbBMIFM0ASaAlHqt33pQoWdyV1+uw\n",
       "6me4Bz4Hh88aXQg1jbDKgIaN64Kns9DQGpnP4MBlF5rMCoBF9YctTHADR5bBhvk3xfqT0q/5zMG5\n",
       "AK2kgx0RlpEfDWhVtO0nwomGseIwEw3NCmK91rAUfA4rZszIRoPNsC199GiKM8YNAu3LrEaiaOJQ\n",
       "5g+BLRxSqN2vdSdp1euwnriCsD0Fz4eeUgxo6Lgwh7mkDg2tkfkMTrQdW9isAK2kZRcTkp7I6sMK\n",
       "HGtAzedktXiv+T3pU48u4gma7vaWwHboROgdBEvZkJrYUTQ0RUHmgdMjkYhnzZxsNEXU5wdoVsPS\n",
       "dUnhfY1onN4nKiv9hEsrGq6YolWu7rMwnyzFocrHbFuvGtCwcetjbsWIhtbIfIYQNlpkswIgqmje\n",
       "4xKr/I18ZnoxWLZei6omJt09l/lTm1R+jiZWGhUjuJdZcxpKzwC83XMExObraIQY51EMlxJlxNfe\n",
       "pUuyUzUzw6WErReKmAU7FKeP9zVbDVWyVfKSb+mlVSdhi9Ki0LD/Dt9qGC4lyPakJWhAw2pkPgOG\n",
       "lyBSyFYg41ClQSZZlzI8ytj2qQcFtXxLBLdPDacI4amGppVcDGhK/BC142IInwag24zG6oOSJEhk\n",
       "NWaBawhTbxaaAeLcdq+UJCbTKQavkk2LOAS/SkNwNmmPSsn1sLOcf74BDXGbMo8BDauR2QzCYE3Q\n",
       "7sdgmq0AuNQbGTxImg+ThgOnoUzT/8O4+6rhYkAj1FQrwka6j3tlQ9CMxhkkG6oJ4kHp2TPQfs0L\n",
       "tO+Oo12u5r3tV6QGn9BXTWaJ9QvuPeCoh7pYDMTLj/jgx8q3kqQaHN3J8r49JjTWAyA1vKhHw2tk\n",
       "NsNHs/ed20gXOVsBsGsJpo2LoSzPuXOw6y4EJcONF94E0NsA8y3fjkjEn+OWjySXoq8CYMnd11TE\n",
       "+I3c8umSNxbZMEPjMAp0GH7ryB6vLff9Tni444YKjYK7mQvQuTdwUBJThaHRe0fArMAzuqM2E8MR\n",
       "K5BbsVW5Gn7hclNovDeAZulfo4YGukwKFPvH6F8UzH+HYjtwO/eDqiwjkMxu8d+BcSUO3To0/4ty\n",
       "02jEvug4muHLagiPoxm+bBx3qFzlDCh3NJo8/5evsdI7psE0pIf+BaBPUMkUiDRNAAAAAElFTkSu\n",
       "QmCC\n",
       "\" style=\"display:inline;vertical-align:middle;\" /></a><br>(see <a class=\"ProveItLink\" href=\"../../../__pv_it/theorems/2c68e1ca8bdfb767d9bf170c0661042e05c4a2600/dependencies.ipynb\">dependencies</a>)<br>"
      ],
      "text/plain": [
       "<IPython.core.display.HTML object>"
      ]
     },
     "metadata": {},
     "output_type": "display_data"
    }
   ],
   "source": [
    "%proving qmult_complex_op_closure"
   ]
  },
  {
   "cell_type": "code",
   "execution_count": null,
   "metadata": {},
   "outputs": [],
   "source": []
  }
 ],
 "metadata": {
  "kernelspec": {
   "display_name": "Python 3",
   "language": "python",
   "name": "python3"
  }
 },
 "nbformat": 4,
 "nbformat_minor": 0
}