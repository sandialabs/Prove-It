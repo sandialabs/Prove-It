{
 "cells": [
  {
   "cell_type": "markdown",
   "metadata": {},
   "source": [
    "Proof of <a class=\"ProveItLink\" href=\"../../../../../../_theory_nbs_/theory.ipynb\">proveit</a>.<a class=\"ProveItLink\" href=\"../../../../../_theory_nbs_/theory.ipynb\">physics</a>.<a class=\"ProveItLink\" href=\"../../../../_theory_nbs_/theory.ipynb\">quantum</a>.<a class=\"ProveItLink\" href=\"../../theory.ipynb\">algebra</a>.<a class=\"ProveItLink\" href=\"../../theorems.ipynb#prepend_num_ket_with_zero_ket\">prepend_num_ket_with_zero_ket</a> theorem\n",
    "========"
   ]
  },
  {
   "cell_type": "code",
   "execution_count": 1,
   "metadata": {},
   "outputs": [],
   "source": [
    "import proveit\n",
    "theory = proveit.Theory() # the theorem's theory"
   ]
  },
  {
   "cell_type": "code",
   "execution_count": 2,
   "metadata": {},
   "outputs": [
    {
     "data": {
      "text/html": [
       "With these <a href=\"allowed_presumptions.txt\">allowed</a>/<a href=\"disallowed_presumptions.txt\">disallowed</a> theorem/theory presumptions (e.g., to avoid circular dependencies), we begin our proof of<br><strong id=\"prepend_num_ket_with_zero_ket\">prepend_num_ket_with_zero_ket:</strong> <a class=\"ProveItLink\" href=\"../../../__pv_it/theorems/061e0f2d54fd750c46c11064e473697c238513900/expr.ipynb\"><img src=\"data:image/png;base64,iVBORw0KGgoAAAANSUhEUgAAAZYAAAAZBAMAAADgRxUcAAAAMFBMVEX///8AAAAAAAAAAAAAAAAA\n",
       "AAAAAAAAAAAAAAAAAAAAAAAAAAAAAAAAAAAAAAAAAAAv3aB7AAAAD3RSTlMAq1RmmUTNIjK7EInv\n",
       "3XZ/CtNrAAAACXBIWXMAAA7EAAAOxAGVKw4bAAAFFUlEQVRYw9WYf2gbVRzAv7lckpdckkYE0YEj\n",
       "Mq3FYgl0DvxBDbTDMVGi+0udLk5BHDgzELFutjcQUaolTEo9ETl1CKNqr8PhZBoqZUwRMYwhQ4xk\n",
       "rXM6UWRDhAqb3+97d5dc7sU7LZT5yrfJvXzvm+/n3vfHewEIHlc3KnDJj2zjeBi1MvwvxuAqsiTw\n",
       "TwwWRr0CFYm230TFllVlWQStJN4l9RAxk4dDEm2/iYdsQZYcvawLYInQi1JYEYpikSOpN+r4this\n",
       "3g/EotXu8Gr7TWQLQpBlI10/FsCi0tOIr6wCvCseapycqAdqp8qcZTu8X/FoS0zssGUQ9lIQVgNY\n",
       "GK3e6MpCbFg40pPH9wcDtdUCsUTroFWFdvbIkbMgNbHelkGIm6iQD8qXHaEc+McxLxzZZoZ6LGkg\n",
       "lmQOlGWuzRDkg5LURNoUMghRfADxwNwfXHEJUMrCkU8gVLj2cpaeIrBzXPsllNSU1ES8IAR9/KrR\n",
       "+DKQJd1ofGetiEW1hCMPQ/9mqgMB407OMoss57l28SOA/ZopM6HlhCDLJoDXJcYsD4uqQ9Js//jW\n",
       "cEVtYnP706MidF65fqFL8qsNPnhlfYSzjFvALpB2tqJVUsWUJTMRLQtBll2QyEkMFz0sqLIL7/je\n",
       "mWIU/TXv052ZW+MtRRvw35xzlclzFuXPexlWzY1+Te847rL8RdrYFA4/BdhAJCaUeSHIkjSd/iMa\n",
       "64lDcFuukwWXjjrXUcI4ZZR49A/BfR30d8H6Lf3u9eSvdtyLDBWJqy7wJrfX88y4pnccFTFmQewC\n",
       "aWu4ajkKFokJ9rsQZFGardSfvGoKrtFM1fSxDPDVwTtgRLcz+XPo8aTwHzCuD1QzrYkbJSyZRzfZ\n",
       "ndAeVUdTxoK5r5wjbRVg92FySmIiNi+E16chN2BJaV2zqMGHIydGSu0s8WgTY6w6ZvEWSyyJZUh7\n",
       "avktyBLRn+7CYsfYbH6bzptzdHjyhw6W9nwRMZasQnSZtFVIWNmSYOk0odSFEMtBbB5ieoms9F03\n",
       "pvnyBbReXKvImRuOHXDyjS1DpqMAfAoZWLrfw/Kgc5Fscpbbzdl8k5rzO1sL6Ur3dXmTs0TnQS2T\n",
       "NstPAJyO5WUmolUhxLIHHwSfTnG7fdrbD/hZEp9RnCyCvoVPvaATS7rp+X72LbwF/QUPS/xse+Us\n",
       "wRUwq1vUnJ/9EXrM7ixznAWX5z2dt/LTWGey/VITVO1JiCWCK8anY9yNPij+7GeBK1HGMVc2GIaR\n",
       "Z5eZFGM93v3CqF21GaoY08JDZacDWueO7IPs3SZQUq2FraAaxhfGqzKWVwTL/hp+L2knqVeukZjA\n",
       "j0tC3D0/TUcfN4x9yDIT9/UXMW6O1SsTYnOa8+d+opjwtnPycI97dbK1YYdrgW4fYd3XJaODs+fn\n",
       "2jCksyWQmngOhLgsNM0ssS6xgS7nl7WsbomWSXXsN7iHNwcLZsSyvPi86WPpbd8Cuo5M85p4sq87\n",
       "S7TYYpnmXzOwaILUxLDYuLosYpr3/5sATnVhmYbL9cRr7u6qxps6OwYv8/X4+uJFz227n6y1s2CU\n",
       "OI7Qhj6Wg18KNgvX7BjTLkuqLDmLtUzQJp9v9B0WMT2KC8u+qYijV7dz5Yxh98pQo8WClcVxJNtW\n",
       "/7odNw64LO3aEhOUSSQdZ+TUx8ZUuDNyrP6vWWAMsvbBNiLfK3l/HWjCT35tiYkztvz38/7OcChs\n",
       "+yX2O8wTkt/HWD6U/WdW8fexhb8BX8t74UIWvZ8AAAAASUVORK5CYII=\n",
       "\" style=\"display:inline;vertical-align:middle;\" /></a><br>(see <a class=\"ProveItLink\" href=\"../../../__pv_it/theorems/3489686e96b32929df961091a92471d6c4bb5fd40/dependencies.ipynb\">dependencies</a>)<br>"
      ],
      "text/plain": [
       "<IPython.core.display.HTML object>"
      ]
     },
     "metadata": {},
     "output_type": "display_data"
    }
   ],
   "source": [
    "%proving prepend_num_ket_with_zero_ket"
   ]
  },
  {
   "cell_type": "code",
   "execution_count": null,
   "metadata": {},
   "outputs": [],
   "source": []
  }
 ],
 "metadata": {
  "kernelspec": {
   "display_name": "Python 3",
   "language": "python",
   "name": "python3"
  }
 },
 "nbformat": 4,
 "nbformat_minor": 0
}