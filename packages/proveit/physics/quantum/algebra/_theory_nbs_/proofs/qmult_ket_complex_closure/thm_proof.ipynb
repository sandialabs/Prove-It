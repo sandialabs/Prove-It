{
 "cells": [
  {
   "cell_type": "markdown",
   "metadata": {},
   "source": [
    "Proof of <a class=\"ProveItLink\" href=\"../../../../../../_theory_nbs_/theory.ipynb\">proveit</a>.<a class=\"ProveItLink\" href=\"../../../../../_theory_nbs_/theory.ipynb\">physics</a>.<a class=\"ProveItLink\" href=\"../../../../_theory_nbs_/theory.ipynb\">quantum</a>.<a class=\"ProveItLink\" href=\"../../theory.ipynb\">algebra</a>.<a class=\"ProveItLink\" href=\"../../theorems.ipynb#qmult_ket_complex_closure\">qmult_ket_complex_closure</a> theorem\n",
    "========"
   ]
  },
  {
   "cell_type": "code",
   "execution_count": 1,
   "metadata": {},
   "outputs": [],
   "source": [
    "import proveit\n",
    "theory = proveit.Theory() # the theorem's theory"
   ]
  },
  {
   "cell_type": "code",
   "execution_count": 2,
   "metadata": {},
   "outputs": [
    {
     "data": {
      "text/html": [
       "With these <a href=\"allowed_presumptions.txt\">allowed</a>/<a href=\"disallowed_presumptions.txt\">disallowed</a> theorem/theory presumptions (e.g., to avoid circular dependencies), we begin our proof of<br><strong id=\"qmult_ket_complex_closure\">qmult_ket_complex_closure:</strong> <a class=\"ProveItLink\" href=\"../../../__pv_it/theorems/7102125f14a7f9369ab102cd64e4ba2dd9312a030/expr.ipynb\"><img src=\"data:image/png;base64,iVBORw0KGgoAAAANSUhEUgAAAaQAAAAlBAMAAAD/+YDPAAAAMFBMVEX///8AAAAAAAAAAAAAAAAA\n",
       "AAAAAAAAAAAAAAAAAAAAAAAAAAAAAAAAAAAAAAAAAAAv3aB7AAAAD3RSTlMAq1RmmUTNIjK7EInv\n",
       "3XZ/CtNrAAAACXBIWXMAAA7EAAAOxAGVKw4bAAAGQElEQVRYw+2Zf2wTVRzAv12vvetddyzG+AuV\n",
       "AQuYqHDJkOAws5ENFf5YE2Oigjg10UgUDkIwBIFigjEKrAgJFAROTYiEhJ0gYbKE1BCj6MAKQdFY\n",
       "cjgUDWSpCpkOcX7f913vx7p2JHbKyN7oHXv3+r7v874/3w2gRJvY+zsMsdbU21Py+WgYgu3zYaRh\n",
       "pGGkIYcUyH4zqCxq9th/jRQedAXVXrVIIrvo+GM3yf+k36Zf3Ug/MCuqhn353yOJ/P9CVrHvzPEg\n",
       "VbHb2GJIAXar0MqFVEqY0ypMvNwJNpKKHTHnWWeBRqf/itfFhqq5SI3s9nwxJCHO1qKXC6mUMKft\n",
       "wI/cnEdS8JNx5zD6DG5Y9SVebwCY6yKtZKjJYkgS29clZTO8UsKcNg0/gpZH2o2fPc6zYMw/NhKD\n",
       "l/CGpegkF4lxK9VFfWmub8Z/i1RKmNPS+IlCHukO/57azq9uzX5tr/AwWiaWqlHDQQpqxR13NB/V\n",
       "XDakUsIcV2LixjlIpt/yn+VhYp5jgPIlzHj4lbDmRrwj2ewXxZGi2ez3ZvkiXglh+SYwcTMJST6j\n",
       "galmeMAApWsKwAc0ZrHrUqGLACMwECpVLtJDAJuLIwkJiBjlQ+LCbIcQ+h+m2crYB0pFWtbUHh4f\n",
       "xGPwMMBk6BNh1Bye61CLwWYXaQGIVd6yYsPtyz1I+GwBC5WfUVxlbdeRA8r8tmBG3g5LMp7Nxa92\n",
       "tZkDIHFhFCA0CDpetejFhK0KgErWe4yQXhUyQZ35FouUlSYcBbiLxriuIN36ZyrVwew17SJFDCVu\n",
       "Pz6disvr9Iot3lS7mdn0VPk3gBN8BKwDOA+SBStA8iBVMhUIVQMgcWGEZPE7mzJotlZDpb2KKLt/\n",
       "QkhG1FJIpyxSNpGxtNBC0X6z33LPu/+6MWMusL6ci1Rh5R22AbO0gkFzqhdpAm6JZMndIKX5CI6E\n",
       "rdWHdJ5C1UBIXBhDEVEZD9pC10KrDquhAAkmGgrIFjeQw/R0NoUETx5Ao5PY64SQR0vQXM98r9Oi\n",
       "BPzeKk8lxZDCQYvvgRADGsGRduYY0qGuGQB7u8TnahpHtRtPG6AvOX5uBiydhMs6d1pX6i117F5f\n",
       "QUTCkjCnKmichEVgT8k2vwEKDA+mw0JQDfId+W96ejddPVuJWTbYzTYr40Haw3LPCSm9k3WMH9+n\n",
       "xlPGMYUHk8wwaARsbW9/G0RC6sZoG64WtNnjTdzkZZcbWddPMBI+BSUmmM/AtFmw3IdEwpKy1aPC\n",
       "WxABe0q4l+yaZ0+2hds40sNQB4/a2RlVEaKB2LrcNSKpkOMrdJFeQWsRknLiEdZRV9cHSfyYaXr+\n",
       "Xx1YeNAIriWZkNIwIt4CoWSLQXazdpRFXS/DejQl8f0cPN7ygOFDYsIgKb6bUWEKKx75lDt6Ozpy\n",
       "9jAWjSlWI9Js3QzG7eyM4a6NR3ecygksLMuG03KCYr+DFEhwA56cSqWqX3+sbyV+E7uM0Fn4pBF+\n",
       "pKh2X21tHHnwn4H2SV3qwVPwFG7codp7Qtsv+pCYMDS8gLUQk6hk2lNCNwVhHqSYVa3hSNLIbWd5\n",
       "6EGuvfVGXpfyzU/kdYrKif6xRqfo4jtc4JLhTfoihge58HDxJMD19ohCLdEKVssabm+Guo7DNmOF\n",
       "QUHoDTuT+A4XzIrrRA0E3Z4ylIGAU72dZBAJXj1IpI4at/C2vSj0ES+IIIILFy6jRy/re14Kx8Gk\n",
       "lCp+qMPBQiT03XlgJ10PUjfadkSTLVRRq5S4iElH6oFf5B44ZUVM2VoPu2uYwxQiBSxrKTkSnxJD\n",
       "T9g5Ck2yy1OGpNLjjW7200oVuz4kcVq9IW6iTPrChkQhEmbaowE+YlfHAXV+2zsX5KaY2FmPFtze\n",
       "JY7aD8pMaGxvx4A6IQZnal+zsBuUg1ZN5/7+kOSGLbi4H1EwCY0mIGrdkrclnVPss48WdNKwW9FD\n",
       "AUWQwlPtrlQq3v+pVsQtvO3GfkYUNJa9BjzVJnlaovxEU2JUDHyVr00p6+y0tUQFjauajcUmp30Y\n",
       "nIO6lLsypKBR/Ni9nG/iz86rJbdaK3oYPTt47x4WXLoyJLb9gTLVw//jGyLnPZ6913K53+MdGn7b\n",
       "Sp7SaV5rSCshea0hbbr2DO87MIY4UsHfamfValc5UFNvzz8m8t+4n2I3jgAAAABJRU5ErkJggg==\n",
       "\" style=\"display:inline;vertical-align:middle;\" /></a><br>(see <a class=\"ProveItLink\" href=\"../../../__pv_it/theorems/0c9ebb52fbc81761de7c2e10aa9b4d1b1d7f29e60/dependencies.ipynb\">dependencies</a>)<br>"
      ],
      "text/plain": [
       "<IPython.core.display.HTML object>"
      ]
     },
     "metadata": {},
     "output_type": "display_data"
    }
   ],
   "source": [
    "%proving qmult_ket_complex_closure"
   ]
  },
  {
   "cell_type": "code",
   "execution_count": null,
   "metadata": {},
   "outputs": [],
   "source": []
  }
 ],
 "metadata": {
  "kernelspec": {
   "display_name": "Python 3",
   "language": "python",
   "name": "python3"
  }
 },
 "nbformat": 4,
 "nbformat_minor": 0
}