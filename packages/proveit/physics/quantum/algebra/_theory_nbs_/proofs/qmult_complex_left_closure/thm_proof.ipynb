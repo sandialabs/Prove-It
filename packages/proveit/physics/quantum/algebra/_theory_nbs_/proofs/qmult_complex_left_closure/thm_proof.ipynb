{
 "cells": [
  {
   "cell_type": "markdown",
   "metadata": {},
   "source": [
    "Proof of <a class=\"ProveItLink\" href=\"../../../../../../_theory_nbs_/theory.ipynb\">proveit</a>.<a class=\"ProveItLink\" href=\"../../../../../_theory_nbs_/theory.ipynb\">physics</a>.<a class=\"ProveItLink\" href=\"../../../../_theory_nbs_/theory.ipynb\">quantum</a>.<a class=\"ProveItLink\" href=\"../../theory.ipynb\">algebra</a>.<a class=\"ProveItLink\" href=\"../../theorems.ipynb#qmult_complex_left_closure\">qmult_complex_left_closure</a> theorem\n",
    "========"
   ]
  },
  {
   "cell_type": "code",
   "execution_count": 1,
   "metadata": {},
   "outputs": [],
   "source": [
    "import proveit\n",
    "theory = proveit.Theory() # the theorem's theory"
   ]
  },
  {
   "cell_type": "code",
   "execution_count": 2,
   "metadata": {},
   "outputs": [
    {
     "data": {
      "text/html": [
       "With these <a href=\"allowed_presumptions.txt\">allowed</a>/<a href=\"disallowed_presumptions.txt\">disallowed</a> theorem/theory presumptions (e.g., to avoid circular dependencies), we begin our proof of<br><strong id=\"qmult_complex_left_closure\">qmult_complex_left_closure:</strong> <a class=\"ProveItLink\" href=\"../../../__pv_it/theorems/23e859cdfcdbfad00f68c7d8a5e663191941c0450/expr.ipynb\"><img src=\"data:image/png;base64,iVBORw0KGgoAAAANSUhEUgAAASsAAAAzBAMAAAA9eDPFAAAAMFBMVEX///8AAAAAAAAAAAAAAAAA\n",
       "AAAAAAAAAAAAAAAAAAAAAAAAAAAAAAAAAAAAAAAAAAAv3aB7AAAAD3RSTlMAq1RmmUTNIjK7EInv\n",
       "3XZ/CtNrAAAACXBIWXMAAA7EAAAOxAGVKw4bAAAFRElEQVRYw+2Zf4gUZRjHn9tfMzu7t7cURP3T\n",
       "7VFoEeTGheRJ9yNNKiUX/OdKiQ2R8KQaQ6LIdCQ05SxPEnSNcigL9PJu1bIOSc8oKKNbOyrQXJww\n",
       "Kku0LM/LOrf3ed7Z3ZmdnbEddu+IbmBndt59f3ze532f7/PMLIDDIe3ercK4H1cdtT6Xax9/rGAu\n",
       "1+OMlYAJObyTWJNY/0mseypt8LY6Dli+aKUtxBPjgDW98iZ31B5LPOpCSWM1xwqkXcSdozXHmuYm\n",
       "nHbUHOtbN41WyzXGEi+7CtPpGmPV8a7lkmLZtsEKAhqsMVZDHM+RmKFISAI8Ylf/lp0RrHJBxyLN\n",
       "u8kWqw6vnnjlWJvILreZfPNXxlmmq6bMMmasgWvw+1c61r14fcwWy4cGC8iVY7WRwydNvsmwoMtS\n",
       "86GfXsgkwT/nZ7yZo2OtQdP12GKJaM1nXSzidRR/TLbpuMROd5ZWjLDB91yBX3rX4d15HSvA5CUU\n",
       "s99bOLt9LrCO4ClsLAk9N4pFXM4ir2W/4cUD7OMfA1jOLapwLC+bUMBhyzeza9IF1l94mmIsWRXB\n",
       "/RwgA/qfyIutn4Qkw5aMb8mY7olfZLOfO2CFs9mTLsII/I6nuWSlc3dRSbsHy0LkY08XQkCYOn8y\n",
       "f9sf17HuA9jugOVTIOgijHBPX4zfhuF+MktMRAt6k2Yfm0Yi9HhBVzQdazkIxsQosuXGVUYs9iNf\n",
       "dYknUXyKW/GswgzblEokrGHsJA1DvKXwG4oNCWZxWxwmL/+4gJXWsYJqSFdN8btUQtose141yel2\n",
       "eI9u3lEoOnAJJ85PAYpYP4yZHin9F/H8CfvM1219ZnbHnzgIqoTIdk72OBU34hjiaAGrXcfyaPkd\n",
       "P5sNHOoDmGnCul2f2uFYCVboAmHhZAAWKt4RZmrVbC3E+kzPWdjqjCEvWksqKtJ5nFmw3YIFyVYc\n",
       "47RGAvzm2rxP5LECXo2mv1ErweocIiycDHiY7dsUz6ENlkWUrkBh9U9izWN4d6yA1f+H3C3fDZa9\n",
       "BftQmr4WB3dh8dSppTExNIVMEAlES7C0RxGLR5N1PAouKjiPQJ74OndJP7ss0P2Nh+FzxU146u8H\n",
       "/F3mUEp1VrLxfD2Sgg2hpaUUSyBhBM2XNGNFMFBEgSZD44djngcL1uJG2ss+zA0/YL3g2u1g29tH\n",
       "ghAwCLgK3xsSrrxuQR1bhTADmJ5KpWLrOy0ZxPW0hkpk0IzVCWcRiyYDuGQNqmFvcd96Ca29v1UF\n",
       "aceICrfmluX7lG54OF9x7YIOQ6KyKWFMbBrYPLppH/flpcCc2PgO7r1sxpp7sFFlWDQZ0vQmk0Is\n",
       "pQ4Ui3I8r3vqgB586nM5Zr+NqjHVLmAFEpAm1RTeleFQGSwNhFETFsuOVisMq5u7ecsbJbnBPIq5\n",
       "1vdQs0oLnmrMXfvikvzdh6Y0UJjVqgrb8Fvv0i2KFcsf5wtVxGKL1xBjWDwE+I6/v8Kc/bRR+VaL\n",
       "+pdJVppOfVlou9manfamUgmb7HReFHaOJAxYviMgzV/CsPhkpPU3a2CKUf20qXdZknX5X4TSypNm\n",
       "g0DgEdUnsyEzJHtNEZ0rpKCVtP/Rmcp/qVpY+uKcybxifusy6OYJIJSsLpb1AfmiG6xwzB0WD0xB\n",
       "fSvP0OwbH3CDdbbmT9VhxfHnl2eWK/2oalji6fLJq9cx1RajwTKlkWTVsNaATSeLHZ/qy9pypVw1\n",
       "rG12P+xxkqh6VSrjJsPVe+12AmxSfaHLSaD2N5cxYbx6WAub7V4FPFOpl7w1Lm+aXR+TWP8DrJaJ\n",
       "+Zuz7ypYE/Y35z/n2l0N4TXx0wAAAABJRU5ErkJggg==\n",
       "\" style=\"display:inline;vertical-align:middle;\" /></a><br>(see <a class=\"ProveItLink\" href=\"../../../__pv_it/theorems/2d03afa47ba31c65a042a6a6b4529795d456e99d0/dependencies.ipynb\">dependencies</a>)<br>"
      ],
      "text/plain": [
       "<IPython.core.display.HTML object>"
      ]
     },
     "metadata": {},
     "output_type": "display_data"
    }
   ],
   "source": [
    "%proving qmult_complex_left_closure"
   ]
  },
  {
   "cell_type": "code",
   "execution_count": null,
   "metadata": {},
   "outputs": [],
   "source": []
  }
 ],
 "metadata": {
  "kernelspec": {
   "display_name": "Python 3",
   "language": "python",
   "name": "python3"
  }
 },
 "nbformat": 4,
 "nbformat_minor": 0
}