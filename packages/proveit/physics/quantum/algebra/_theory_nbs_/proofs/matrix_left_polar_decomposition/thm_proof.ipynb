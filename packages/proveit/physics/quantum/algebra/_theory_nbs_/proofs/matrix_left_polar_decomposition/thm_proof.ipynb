{
 "cells": [
  {
   "cell_type": "markdown",
   "metadata": {},
   "source": [
    "Proof of <a class=\"ProveItLink\" href=\"../../../../../../_theory_nbs_/theory.ipynb\">proveit</a>.<a class=\"ProveItLink\" href=\"../../../../../_theory_nbs_/theory.ipynb\">physics</a>.<a class=\"ProveItLink\" href=\"../../../../_theory_nbs_/theory.ipynb\">quantum</a>.<a class=\"ProveItLink\" href=\"../../theory.ipynb\">algebra</a>.<a class=\"ProveItLink\" href=\"../../theorems.ipynb#matrix_left_polar_decomposition\">matrix_left_polar_decomposition</a> theorem\n",
    "========"
   ]
  },
  {
   "cell_type": "code",
   "execution_count": 1,
   "metadata": {},
   "outputs": [],
   "source": [
    "import proveit\n",
    "theory = proveit.Theory() # the theorem's theory"
   ]
  },
  {
   "cell_type": "code",
   "execution_count": 2,
   "metadata": {},
   "outputs": [
    {
     "data": {
      "text/html": [
       "With these <a href=\"allowed_presumptions.txt\">allowed</a>/<a href=\"disallowed_presumptions.txt\">disallowed</a> theorem/theory presumptions (e.g., to avoid circular dependencies), we begin our proof of<br><strong id=\"matrix_left_polar_decomposition\">matrix_left_polar_decomposition:</strong> <a class=\"ProveItLink\" href=\"../../../__pv_it/theorems/ace8281b826f1468dd4cecea5a2406d82d538d540/expr.ipynb\"><img src=\"data:image/png;base64,iVBORw0KGgoAAAANSUhEUgAAAeAAAAAzBAMAAAC9J8aTAAAAMFBMVEX///8AAAAAAAAAAAAAAAAA\n",
       "AAAAAAAAAAAAAAAAAAAAAAAAAAAAAAAAAAAAAAAAAAAv3aB7AAAAD3RSTlMAq1RmmUTNIjK7EInv\n",
       "3XZ/CtNrAAAACXBIWXMAAA7EAAAOxAGVKw4bAAAHgElEQVRo3tVae2wURRj/7r3d7V0vUQNEtEd8\n",
       "lVRpE4vBaPSQKiRqqJIYFCLFaIzwh4d/mCCVFqMmBKWHAfWIhkUSkraRnvgKkNiiCaIGUwQJESqH\n",
       "GLGoUKilpY2c8/h2b469vX0khGWSdmb2+2Z2fjPffK9bABuls7MTHBXHAy57kTs7VfvrOpb/19n0\n",
       "jgcAvO+aaIJwI687VFZV5PNpgE35C7YG/+z0bY4HgK/eLdGsvM2RSr9gP5Cm/+/2CuDrXRPNir+P\n",
       "13d4EnCg2S3RvHzCKyXuRcAtKefEqny5MghRvAgHvAj4VxfEj61k+nte3656D3Cg1wWx1mrWZ3kV\n",
       "TnoPcGXWBXGi1ayL+FUIjXgP8BnVBbHPatYwqqvF3gO83wUxlLQ0TGO8rlO9BlgadUH0NVk6Wxd5\n",
       "3Z3zGmBfrwti1HreD3lV0ec1wJVxF8THrOe9n2utwIjXALfXuyA+YD1vNx8qD3kN8JmUCyKV00ih\n",
       "e51ISxULx26vAf5Ab71cjlisyyiY31gz0iwCpr2nxcuLd1kDzDbhJsv122ErGhDs7+8/2mSP/Tu9\n",
       "9aIZcdmx/QmYfD6nP1YSxO5wlyQ8SP6d0q0v6cW4LCuD/FGPCPhBWj1vuX47bIYTjiXsxep6tsCf\n",
       "NyX2kM2LCT5XlBjXrWhnCa53138NhR4s4dpqGJVXkwB4FZWCtOX67bC5BSxd1FrB6pQZkZ59UPC5\n",
       "lpO/Wbw5k2rhnRqB9RqKxrbnBMBhlYuHxfrtsLkF7D+ntb7saTMj0tyMT3h+gvxxC62sGBXuMO9V\n",
       "qqJ0dCcFwAEi7mHr9dthcws4oPlSkdyZhAkxRA+rS3hOhNbPEwMrY3RPnsHnvBfml/gsRs5xUUvv\n",
       "6+//wcb6bbC5BRwb0SQa6upNiArFPV242gRskF/ppH9IAMx7mObAlF1VWgQ8B2CjjfXbYHMLWEEn\n",
       "Hx6Hdobh0X5a9ovEKBVfIVwI5LRjDCWkcVJtwJCC9zArtAftcbMIeBlESjlv2UvWr7Op9gD7qVkq\n",
       "Cfg2XhUsTFADnIRWw1KQ2E0Jcd0gQQXRbtEEF4vI2QJg7Pn59e5Hjd4nAq5QFdFcRg5+DvfGi3aT\n",
       "AdbY5L3a04GZJ/mi54GUMzlhae41sPwI73Xt2wmPTIRAk7Y0PTxAcxlb31htMARIpLIe4W+pi2Po\n",
       "UMlmGmiceaGQDsCexEcdhYJ46ID9uYIyWjtpA0xRVKr+LwWssSnnkK9jAkzNNsyrpQrtdWII5tWW\n",
       "Euk6ImVkXdLxTBOsYyg3a/Fs9lLA28ht6zMBTNW3wmyWdGsv5ncYYJnswn+kns2vNvZCveaAofk+\n",
       "XXzmUHcql1TACFhjm/8j8u3MQSA7LU23+h7CzFsGwA+R/6TVSM0NAaygCwO6cyCIdBKXVnSHkdij\n",
       "W6VIbBQPlIl0EHGd0sWG9jApXVKkYTt5c2DW2t+5bYOaW1Yq8Fnjwcam4vVv5wvMLeZ88gxCT/na\n",
       "qPe7msgbbxkAH2EguavHAZOXN8w4TcBt15UWV8ShevQSizXaiJ61mICuyDiGDhU5dp9Eh1TrcXSl\n",
       "lRa0kDuxZWF9ZUpmj2qUjxaUOuEWpjJi5MwYn/+lFLtKJ54CKXkntgyA5WF2wh2gAya+vTz9G/gW\n",
       "4Gbd8nBT20IxjBjM0qiWelymOSV7ML9DbU+EisQmzT/Te2ixdgtRUwGwj0z0yh9QpYbYOdRAcqAU\n",
       "YB9733z4mx0FBLZQdb0ZauthDXVLWMsQPPgH6RC28Qg4lIbItmYggvpksW/RkV8C/k3nsyZeyY5r\n",
       "dcVYrUKQip/UB/Km8ypMzS9F46z3olw80dOqShrDwxthIQReyGTeIYC7wqUA8/LwrmqV8UlviF6g\n",
       "ahIeBpuZ/bkrk8kkYBIF7Ce77ctRpbJa9x6Hy/mdRmJdAvM7h01Hvco3YBxdy6wR8F5olKQsP+HQ\n",
       "tBJ2GAUMoLWN8xGlZWqTC4DjTHGuYZ1/KGCJvLeyLZhsK4i0NFQusjASiU1exRoNpqNmmQcPKPyD\n",
       "cLiGu1LEfztuGs8T2axKcL4Vs0HJWQEO9TEHuILtDNGqfzJ10wrR19rgtM5e9sdkIzHciwqvwixT\n",
       "gnGdFnjUJQyAQ3H4qx6WEymVDqWKopLiA9sN8tznGB/IX2TmWGc8pnxFb3aE/aIt79pFBr5H82+x\n",
       "T1kDy6FygI1Eose41ZHN4lXcCc1JZ1miUikeeUdmg52MjRmfeYqnK5PRrNwCbZLCaieXm8tIlMa1\n",
       "yHylyZiTxR5N9RXNaQVTxTXNSJTzz0sQ99iMzCvTQpboyiXxMDchxHrt5dZfgli9VbW1jFauYyIX\n",
       "ryxg2WDJnCbi63bYW4ZnE/HBXmfE7iF7896AV9lzP7WEhp0Rw2P25kUzXJXzGmA46IwYa7aXKxsT\n",
       "1Z6nADtU03KbrVmjePt5nHn1f/JgWTz8yUNgzC2xXFmHblfce4BhqWtiGW2HG7VI9SDgt1JuiWWu\n",
       "MHosP4EHAcfSbonmxdOfHl6Gj0tDaLueAOeADzj93tvxAAgn3BLNypv86ko89yh3bkvTD8QHbI29\n",
       "Kj8Qxywwxhn6B+L/A3Jgnbt/kAiUAAAAAElFTkSuQmCC\n",
       "\" style=\"display:inline;vertical-align:middle;\" /></a><br>(see <a class=\"ProveItLink\" href=\"../../../__pv_it/theorems/b6bf4240e4fc81ccb6cb48304cc59ad26db8ff540/dependencies.ipynb\">dependencies</a>)<br>"
      ],
      "text/plain": [
       "<IPython.core.display.HTML object>"
      ]
     },
     "metadata": {},
     "output_type": "display_data"
    }
   ],
   "source": [
    "%proving matrix_left_polar_decomposition"
   ]
  },
  {
   "cell_type": "code",
   "execution_count": null,
   "metadata": {},
   "outputs": [],
   "source": []
  }
 ],
 "metadata": {
  "kernelspec": {
   "display_name": "Python 3",
   "language": "python",
   "name": "python3"
  }
 },
 "nbformat": 4,
 "nbformat_minor": 0
}