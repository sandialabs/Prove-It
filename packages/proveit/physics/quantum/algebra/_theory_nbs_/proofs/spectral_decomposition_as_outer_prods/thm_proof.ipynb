{
 "cells": [
  {
   "cell_type": "markdown",
   "metadata": {},
   "source": [
    "Proof of <a class=\"ProveItLink\" href=\"../../../../../../_theory_nbs_/theory.ipynb\">proveit</a>.<a class=\"ProveItLink\" href=\"../../../../../_theory_nbs_/theory.ipynb\">physics</a>.<a class=\"ProveItLink\" href=\"../../../../_theory_nbs_/theory.ipynb\">quantum</a>.<a class=\"ProveItLink\" href=\"../../theory.ipynb\">algebra</a>.<a class=\"ProveItLink\" href=\"../../theorems.ipynb#spectral_decomposition_as_outer_prods\">spectral_decomposition_as_outer_prods</a> theorem\n",
    "========"
   ]
  },
  {
   "cell_type": "code",
   "execution_count": 1,
   "metadata": {},
   "outputs": [],
   "source": [
    "import proveit\n",
    "theory = proveit.Theory() # the theorem's theory"
   ]
  },
  {
   "cell_type": "code",
   "execution_count": 2,
   "metadata": {},
   "outputs": [
    {
     "data": {
      "text/html": [
       "With these <a href=\"allowed_presumptions.txt\">allowed</a>/<a href=\"disallowed_presumptions.txt\">disallowed</a> theorem/theory presumptions (e.g., to avoid circular dependencies), we begin our proof of<br><strong id=\"spectral_decomposition_as_outer_prods\">spectral_decomposition_as_outer_prods:</strong> <a class=\"ProveItLink\" href=\"../../../__pv_it/theorems/672164ea2cf33b83efa7dbf801ab13423c0b76590/expr.ipynb\"><img src=\"data:image/png;base64,iVBORw0KGgoAAAANSUhEUgAAAvAAAACCCAMAAAAXDQyrAAAAQlBMVEX///8AAAAAAAAAAAAAAAAA\n",
       "AAAAAAAAAAAAAAAAAAAAAAAAAAAAAAAAAAAAAAAAAAAAAAAAAAAAAAAAAAAAAAAAAACGKEuzAAAA\n",
       "FXRSTlMAq1RmmUTNIjK7EInv3XZAMGxgr3zKxjj6AAAACXBIWXMAAA7EAAAOxAGVKw4bAAAWrElE\n",
       "QVR42u2diZaDqrJAlUEm4b53z+H/f/XKDIqKGTrpFtbq1iBYxGyhgKIYhjeFMZ4BOPTQw98KVNuQ\n",
       "KB8QDmcT6c+nh08H6Qh9HfACLgFnMQF+wvrT7uHjweAJxxcCv6nGJ+6OAvSn3cOXUP9O4KFX3af+\n",
       "nHu4A/DDLE2YRX/OPdwCeETNf8b7c+7hFsCTMfz7joAupAWbr6M6Lh34Y+Bt5S7cwA1B02wrfFBo\n",
       "OFzMUvBBTFrQAcolgmkzriOPiFVKCfqAosQyqbMQaLT3gDVZbripLDTqvHTgj4EHKnRZoRi4tqM1\n",
       "0r0AVI2MmVNmWwA12zgDmSkSrQMvk6aExieAH4bRZodmIIlWqm4+VgqNe2ekA38M/EI7VINHmdsU\n",
       "dHbQOv2+BN6xtg+8T+T+vwL43dfGTpptCj313kgH/hh4ARIkVDvSLbrJ2CABb7UZD/wMlUImq1hO\n",
       "BjJNACE8arGoP8M0mgvEKD5QCZOKCOjmdZVQIwm5BgWggIfAU82tVM4kBWrkEI44NSWrQm8nFCCC\n",
       "dCln56gDH7qtc6pCIYvKAc/QY1Isgc1Bm3HAm7uBRRuaFsYQHPAMiAgVLZFauirYpFJLKqOMz8u5\n",
       "WNhDIuQyKghRh8AbjcVKJUZ1mZYEwLBOpkqhl2vm9iwEOHCIZ+gk99CBd2AFzYVPWs9LsAJxVu9m\n",
       "Kg3PangTqbGtYDEzNXHSLGwHQKuUaiCLbAOgKQPhg89FNQJ8OAWeO+CXlEz4e2JWKXSKjq8zN2/b\n",
       "oLum04GvBJsATq6z6CpJcAz8DOHsDHTcZw88D7pGSGVVGakG7L9NyIWZ1vhEpSEBeBMZXiIwVgq9\n",
       "XNsYBZkceO4cdeC3AVu9eLQKbz6meF7Dx07sEsth6K7KrIaXSyxTnPi61ueiPLG6A7xgQw34SHZe\n",
       "6K1Ks7xs1Cr4tJPUgd8MfFhqJqdTZ7OvdeDN3Yz+bLDiyqO9XKLUEu7ms6yio9gSvxzl0k01OsmS\n",
       "2ucyfOaQb4EHkufAs6gmyVqhB7UewLS5lu5uB74DvwluBmdWgxljIcwzYqeA+NLz1ILyUaOBo+Xf\n",
       "0teEUNlmQAgzSjNqYQdfkJ0Awqaba2VCYMdIFIKQGixt6pALIAUFqQHvJ57s3ZxU8w/OEzaSTEpS\n",
       "KXSMTa3WaEeG+vqWDvx2vMbVjqO0w4YLckYrwE/KvKg9t9vl+zmmstC82/V34C90Wl8fqH4X8AMi\n",
       "bXE9dOB/LHj14y3AD2Iz1ghx56UD/9Ea/vIbciUxP43ooQPfQw8d+Hp6BbvxYQ+3Ad64NOiDHj3c\n",
       "BnjW52p6uBPwdoqzP/8e7gI8Nm6b+vPv4Tad1h566MD30MNvB37rZPUDYTqcJE1TqEeTqePJROuF\n",
       "hX6Pzdn6AqAHBP7hQOS6K3joNPUngF87Wf35cOzhAKDt2QPAt7uMBY+h6gsQ5XQftTaI9Y976DT1\n",
       "J4D/uKoD5qPxID5tz2pBnQ0qwUZPTfxBX5uhAFEO7K6hTJjhBbDvADyfD4eDGFyfQaZ19E+g9Dwu\n",
       "H9jE0JycFtSSDLJtnDUKrN5k70pWgChH9oHdJeAaYXcGfjysUcm8PRvsEnFX/DGsil2ZT1aSqKaO\n",
       "SiamKmf3SixAlKPGjrt5VqwDXxTgUPlGYntG4BzU7KQMljp8LQlvcl+QxNTl7F6JBYhyePeXYB+W\n",
       "Bh34bITmWGVOr0M6gyRkgnwO1cdUPNV6kpaptOz9q95k90oqQJSzFRj8K9yq7q94In0/8P/R//eV\n",
       "wIPjCp7GSjKdDWhA3uUTJlG1KIGvJkGspWLgxzfZvZIKEOVsBEaPbreyVaJatYL9758HfpLHQx9y\n",
       "e7bgptxzUcuDiz4wcUlkJYlqWGObianfZPdKKkCUsxaYHOfwW/nBZPPPA/+lKk3l5d/p0aYzApd2\n",
       "wZQa8CGp1gXw9SQ4r71lFsZqF7p+k90rqQBRDi6VeDrPUeR8J+LBRou/rQ4/nvTrGNueQbKUenmC\n",
       "fPlLqvVICx27loTqc0Uiidm5ye6VVIAopxSoir1WKLvRXnJ66sD7cYwTtXoat2dmfMQ0DMoMAMQG\n",
       "ovBZUE9C9PmEchKzc5PdK6kAUU4ukM+rjuom4g+HcV3V3BV4qE+qOYm2Z+ZkRnbTm0y1LmZa60l4\n",
       "A/BJzM5Ndq+kAkQ5hUAyFmsmyXSjJZR47b/irsCzs5HqSg1PzUjHxIw6MYz1buhOEpJhu6fDJ4H7\n",
       "cs5KEOWQ8j2BuUx5qzVleu7A2xpQDpeBV8RyZjWJHa1gJ0nLd00C9+WclSDKWQuEqfmY7mWtzVY6\n",
       "zU2Bh6eemtK0dDyz74hyW93o+lTSThLcMPOZBO7LOSvB3ihNNhuLbuY1Sq1+6ZsCP54q1Wkk25+N\n",
       "Upv5S2wcvy/nctwyvJsEtozDzyc3aShBlLMRGCwxb2c6TFfjNDcFfj79eqmOxM8bprTsLPgCMUnO\n",
       "VmB42LczstHlc70n8Ocq/PJO4O3Zo6HJluZ5MUe2NLcNU9mY3xN4oM9b9pq15MPv10VryWfldGvJ\n",
       "7LGWMxnvB55D/nXAowbvwsnHPH12rybYNNHztJgkB3Z7+Ixk1gI2eVmb+I01/KQbZtfTOqPxybl4\n",
       "2fZNnxWT5MjuKCLjbO4qzdxg29K8pvW8jnnzmtaNnL6mtdDzdAdeN+m4QGzPHggXvBY8pcV3rwV7\n",
       "PzZtBD4pggD+KeCJbnud2/zSnHYY2juQTzktiXJQ77EWil6hvx4BnyblnpmO/kLgQcOo5PAlrqJ6\n",
       "qEN84FNp02FTjcDH9Y9PtZFfCLzSU1vJP+8qqoc6nkc+ldZjAcWQ3KEOH9bGCPC3gBeaPVPyHr6E\n",
       "+jbgUdFGHwIf/FY/NXrwhcCPbWpKpYTBtnfu1f6vAV4U7fnxKI1bCTmLPwY80+iZkhulCHTefg/w\n",
       "shl4ZAd0GP9jwE8d+BsBr4qZp2PgyRj+Nb1KvwV42bZvcQf+TwAPi9Gck4knU7mLXX2VSGQuQr/4\n",
       "pl5tfqFfmrkD34FfBe+XBqhql5WqkRlvKGC0njz9TAf6LTX8rFUH/jbAgys1/EJ7xTADIT9ZC5aL\n",
       "KOoyvwh42IHvwFdvJoAfjIcIUqUs09FP4QAowEQZ4AVCSC5/+DcArx8GHoRhyXcCX1YcUMD8iM4y\n",
       "nCZov+6jqXBNeDi+LYDN81YvAB5fAp54/ZxDbLYPmJci8TRrA+ii0gD8UA2/p9v/CPD//801fDEr\n",
       "Fqzkw7E2ZQbBXu5agjOJlWxh9xixHb8gSCmVukRczHanXTR7f2hLxCyEGBt6TW5Om6BptlmtKR16\n",
       "Hvj/FKaC/55ZS/pyE66MLm+yYpgDb9x7sl8H/H9/DfBgKo/sLAe7QPTZZbZTiNiJG5wCQDMDfDTZ\n",
       "XOnVGO3peDq5zUfXkA3cWXtJc38sfhr4VG6zWN5UM3BiNgAHPBehW/trdHitwd8CPvf2d5rgAvAh\n",
       "27oQsRNH/CPKXB8L5wNQrIA/p9Oqw1QZC3aSmrQD16+NwNMC+HZ7eNPOIDTQRZUravgBA69piXsB\n",
       "j83GMmL1pauRVc1yP+Ep8Ju8BJW5DxPsSKwVKGRbFSJ14oLLY56eqFh6iXQLvPUVSwS0WCvgeiQC\n",
       "KhU/yfTc3UvlO5EfAp6YCEkN4mnm1WldxzsK/VXguTIKHii/ezWy2n4fJCzXYE7lkVXzsuL0OEFd\n",
       "Yr1APhuW+THrxEWHmHEjHkM6kgXwE4TKeSw2mvzSDTR6ClFuJwcE/ScSh78hixrN4Vae7wUem0eh\n",
       "7HtJwi4SVDpD+aeAf80ykx8CPjMeIxxI9/uSVAPEyKXZO/TxlXIfA08nWhzNxYrk7NGxaimOny3b\n",
       "K1DINnmHrfaYdeKivz+dAz/IcV3DE2bUAELsXoVUI8B9TY6Z/4T91+aT1vMSPICYfUqlyasnYXT4\n",
       "RoPBM+Bfs8zkh2v4IdRXFA8U5LtE+sjZNPMtuY+Bp6NzLxaO/uJGcqZmsmopqDjV4WsFCtnApNIx\n",
       "68SNMrT/IAeeaLhWaZwDbyWUNH1BppePcHbLDdyn1LjYxx5aNPoNwF8KZ8C/ZpnJJ4A3NsKWgxx4\n",
       "H0lO3W74hItSC1drWYvnEPTFcGRVyVmnlFVLcdxrZXsF8tnCjprumL08YeMFkXVaHT5sBbx1ay+X\n",
       "toEpTrkFmvp30X8KOZzeNIbuA/prwL9mmckngJd0IDhhx0UR6XeisbHlvyIhMIO68uIozUqy16rd\n",
       "fVm1FOywLGynQEFbXxUiM5+FdkAS2/9EJBXVOvP2EX6Uhjj/UFIpCzFzOzHz+Ck8BNdb9U3KoNRv\n",
       "A/7UEdNLlpl8AngsfNEddtROv8ZIP3JnY+lMsn9lwpFm/bVG4FeSB4VTAcoEvhRZglpZijxZgRSu\n",
       "FoJkWwGaiSc/tgOMBoX0SEI5bYSfeLJZFIKQTgviCgqTSoiF5/CJkTQcuPxXg9XiGPkZ4H/SEdMr\n",
       "lpl8AvhU1YeuYxYneJgXr8jKo6QZ5sP8sXF4L5ll9y0ShFKw4bAsRZ6sQHsTT5c6ca3BzzER99hG\n",
       "aV8cfqDn/laV5iXLTD4IPFWz08Zyaiet/UIbvP1eeZSZXwQC7tbw5YjgagjHS8Yqu2+eIJSiSFAp\n",
       "S54nK1DItp1pfUuo9TOO+h6/Fvhry0xizdRAo/qZGj48s9bYk9azrNSCMuuPtRovjODApgSVsuxU\n",
       "oyEb9Vsf0+m93SyxdXh/1Ir8MuAz3T5fZkLHYKyONNo6xAOT2/DFPYrS0MjrlOe2R+gf8kTJuQ1v\n",
       "/N1XUinIj7Ui8YPc2wTnElfZCC2PTT23hx4Sv1TwRkb5P/806Oo/6mqvWGYC/TAWDuZG0VDJoAq4\n",
       "lKHhXRsaDUOj7dFzNbx1AoSGHg5bKfOQ3jzO/GtVmnKZCQKOaMCUH6VKFYsZDrD2O3a6amNo1Gp7\n",
       "9CTw3UVHI5Ad+L34uMzEdlO00y3dnIbKmiCSSi7jXdxLUdw4i6oO7nfgO/CfBZ6kPRgXHctcwMRx\n",
       "WwxLifghjlwXhkaVqOpE3auB7+6ZOvDXgA/LTIxgYozoOPDLSnDex5jjB29StDI0qkRVbY/eVcP3\n",
       "la4d+MvmwchudmRtLmw5kqHSkiMWPFoaFYZGlSjage/AfzvwiuHlklPhcyu/oKnTxHFpaFSJ+hGV\n",
       "pgPfgX8UeGIXEoLQ9cwnYIlmCFJvDiXzd8DNyTg7qBbbow58B/5LgFdywrajqpi3rYmGShxhIJjU\n",
       "7rO3KcoNjZwdVIvtUQe+A/81Ks0m1A2V3IxSaWhk7aBabI868B347wV+J1SsiiqmUXXbo1cD/yPu\n",
       "mfw7xdCoiOrA3w74mqXR9lvUK+NfV8MH6wrOTLsFmOjA3w/4gT+cROumGaIdV1E/D3y0rhDcjdV2\n",
       "4E3492bAPx7eWsNzAZUgm45IJXKny7JJGa0rOPSLrEkH/oY1/HcCzyXZZqxG1nnfpkwdb0DAb9pm\n",
       "7XuAH24O/HPuso+BN9MAzlIzc1cTI8/c1WTZU188FhburQ/uwB8E3IF/NfC58Zh1dmEMH3J3NTHy\n",
       "1F1NTJn9FNG6glJMO/Ad+MtBvqmGH7wxPoN2sU8EPkWeuatJKZN7mMy6wndaB96B78BfCNNTW94c\n",
       "28Mb1xcawwi8NXjIIp1lRMVDzCpl5h4ms64QdmJB9HH4C4yCC7v4/VHg2VObmh0DjxEEzgWnA94a\n",
       "PGSRboSx4iFmnTK5h8ncwHCx6Dfol+g1XwI8vLBP6x8Ffnxqn9bmFU9epSlGhKK7mto4URGXuYd5\n",
       "ixuY2wCvLuzE/UeBRw9vPX8B+Og0hhfKlHdXUzGDKOMq/mo68A8xKorF5LcEXrStp3/NmtZmbzXD\n",
       "r6b7e4FHRXt+S+Chnn4O+PuGLwGeFUMUtwQe67kDfxvgp2Je/ZbAE61/BfDZ3rgd+IcZnTW9O/CD\n",
       "bpJ9DfjHv81ezmxv3OuZqwl3fonTiCiIrISSo1J8CfCF7dhNgZdN9sGXgH/cNNjknPQsg33CbLzU\n",
       "mR8p2xv3MHOzlOjAc6XkrgCvb8Vi83p/wtGtcHRLrL4WeFLqr/cEfmyyLbgCfPDmCllmiqn0PJ4C\n",
       "aXPifHKEY6FdRyvujXuYuSW4hHXg154d6luxuLzeVDlaLIcTBb8VeFyOUNwTeNU083QBeD5lL1Oo\n",
       "7ejY0JD4nKIsEXe7hcW9cY8zD81S6uWRhx8L4IOzzugaMZxUnHh+B/CqnFa/J/C4aVzyAvAoVnAE\n",
       "xi1L4djwEEPOafVymLV82d64x5lbpewAX1bpO9uI+bwQ5Yd0AtGXAj+Wix/uCTxvGqa5AHxSOyCZ\n",
       "wlbCfG74xeekahZ1pLGLzPbGPc7cKmUH+FJpZ/QI+MEXM5Y2nMz8O4GXZR/onsAvT4G8EvhsKxg0\n",
       "IEcXwaTBKDPlhNfdqTfvQBMS7gBf7JC7pyaFvBPMD+lkgl8JPF/NudwUeNHSa20HHokMeOUenVqe\n",
       "4blZY5Zz1FetfmNmMopD3x0hoYWWuzZDgnrf13U/t4kC8GLMD+lEjF8JPFjZTd0UeNxiPtYO/JSp\n",
       "8MsjNtkAHwoVPqyKsmGs5Bz4rC/a/YbM2AzVM9d0c3KQ0EIr7HaSbtf4kFquu6zbRAF476Y2OrAN\n",
       "J3D6SuBXKvxdgR9m/UrgU0UIzQIOs5Z7+WtR4fN6lmp5UTED/k2B9o1ypKoDKQZaCgY0hVo9pE4L\n",
       "bW2/oZYoAA/m/JBOwPyVwK9/6LsCjxpq03bg004IZqzCqCZm3/cWFaXYQ0Fc3DrKZ0b2t5Jio71O\n",
       "aykGWm4db6a90txXjW2OQ7+SKO46p/NDOqH6G4Gn66b8rsDjhkVPjwI/I7unZosKXwI/TBv/HqQh\n",
       "s21J+HbMX6Ia8Eat5cNqS8+kxIcZpE2iALyfCIvzYeEEf2UNr9YeWe4K/DDPLwQ+KibU4DIxo9AM\n",
       "YyFhR4eX5XqodQ2/VVB4piu7zNy2JO4Hw2ocTlSaoPyIPHUapgmDNJtEUaWR+SGdAPmNwE/z0IH3\n",
       "rz5+HfAscKmIJd1+nFuWVbGcaHxOCFVKrjK7bTrHaWlWuKpb3gQpDlpmCra0QSl1PhDvHYxvEsVO\n",
       "KytpDidbvL8AeLppyG8L/HA+TtMOfBySk+5dsvtmNtnr5IN5RLa438hqUp/Z4AwW/QUNhAN5JMVB\n",
       "KybnVTylFtshyk2iALwf4oxDouEEiS8Efty8//cFXmj+MuCpY2KU2gwAYjtJKrUczwGmGaDTWuev\n",
       "KigZ0j4zH5WgZFR03WJspHho0QhhUfMXb0nYXGWVKADvv358ChLvPZbPA8+3tdp9geen3dYLpgXy\n",
       "Yc8ZKScrWwQetAnEQoBrXXkjlmtOD6SsZlpD6tJ6ZmUsGRL5vETmh3RCtk3L54FX21/wvsAvT4O/\n",
       "DHj48LKkmHO1smlRJ+oKSh63EQumAR1IWQEfUpf7Aq3M4UOi0DrA/JBOKnZsnwd+RsMngLdh/Drg\n",
       "tyPXjwNf30uqKficeDVRac1tawpK8RKsxS7aDTmQsq7hXWpeE725pcvr34b4UoST2qKRjwNfq9Iq\n",
       "maQj9GWqA7QBfx/w4KQEV4DnD/+4LueqwwrmKWoTBypNu1iXsG48tl68Aav9AD/CQ8oXLZzUXvhP\n",
       "A89rwwaVTA7QtztJ+TzwC0ovA354fN8lm1MC7gIhFKtJ29+qqqCUak6zWJtQVRX88TRiCHl9+xGb\n",
       "kXBSbVc+DfzI3qq6/ELgBwlfBvyTr55eB15XUIiY9C/xpfpp4PHMvwz4um7/o2WY+fUSSmhq4qGH\n",
       "Q3ViCep9wLeo3ZuK6cW6+qt0+x8NmFwvoX1uqDN93BU3D+l9wDeo3RxfzfQ/PAIfre0r3aEAAAAA\n",
       "SUVORK5CYII=\n",
       "\" style=\"display:inline;vertical-align:middle;\" /></a><br>(see <a class=\"ProveItLink\" href=\"../../../__pv_it/theorems/77557fca43adaa018775a9581436b847376e6f4c0/dependencies.ipynb\">dependencies</a>)<br>"
      ],
      "text/plain": [
       "<IPython.core.display.HTML object>"
      ]
     },
     "metadata": {},
     "output_type": "display_data"
    }
   ],
   "source": [
    "%proving spectral_decomposition_as_outer_prods"
   ]
  },
  {
   "cell_type": "code",
   "execution_count": null,
   "metadata": {},
   "outputs": [],
   "source": []
  }
 ],
 "metadata": {
  "kernelspec": {
   "display_name": "Python 3",
   "language": "python",
   "name": "python3"
  }
 },
 "nbformat": 4,
 "nbformat_minor": 0
}