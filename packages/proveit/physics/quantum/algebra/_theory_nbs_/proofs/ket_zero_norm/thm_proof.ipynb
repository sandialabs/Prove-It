{
 "cells": [
  {
   "cell_type": "markdown",
   "metadata": {},
   "source": [
    "Proof of <a class=\"ProveItLink\" href=\"../../../../../../_theory_nbs_/theory.ipynb\">proveit</a>.<a class=\"ProveItLink\" href=\"../../../../../_theory_nbs_/theory.ipynb\">physics</a>.<a class=\"ProveItLink\" href=\"../../../../_theory_nbs_/theory.ipynb\">quantum</a>.<a class=\"ProveItLink\" href=\"../../theory.ipynb\">algebra</a>.<a class=\"ProveItLink\" href=\"../../theorems.ipynb#ket_zero_norm\">ket_zero_norm</a> theorem\n",
    "========"
   ]
  },
  {
   "cell_type": "code",
   "execution_count": 1,
   "metadata": {},
   "outputs": [],
   "source": [
    "import proveit\n",
    "theory = proveit.Theory() # the theorem's theory"
   ]
  },
  {
   "cell_type": "code",
   "execution_count": 2,
   "metadata": {},
   "outputs": [
    {
     "data": {
      "text/html": [
       "With these <a href=\"allowed_presumptions.txt\">allowed</a>/<a href=\"disallowed_presumptions.txt\">disallowed</a> theorem/theory presumptions (e.g., to avoid circular dependencies), we begin our proof of<br><strong id=\"ket_zero_norm\">ket_zero_norm:</strong> <a class=\"ProveItLink\" href=\"../../../__pv_it/theorems/19d7ba869bba72d1e22b451a86cbf4aec6fc57b10/expr.ipynb\"><img src=\"data:image/png;base64,iVBORw0KGgoAAAANSUhEUgAAAFAAAAAVBAMAAAAjqnRBAAAAMFBMVEX///8AAAAAAAAAAAAAAAAA\n",
       "AAAAAAAAAAAAAAAAAAAAAAAAAAAAAAAAAAAAAAAAAAAv3aB7AAAAD3RSTlMAIkSJMpl2zVQQ3Wa7\n",
       "q++rfD/4AAAACXBIWXMAAA7EAAAOxAGVKw4bAAAA50lEQVQoz2NgZGBkACEwcAARAkCIBSgzuDIw\n",
       "MCtAOEeAmMmAJQCvQuNUAYZWHApZViIUsjdwLmTgwq5wbvhPhMJdDAw2DMwN2E1kQ1J4loGhfwLj\n",
       "AcIKvzIw+DcwFBJUyAlSuIGhmaBCxs9AhQkg38AURq0CgbVYFRowsCoQtBqoUD+BgeUCMZ7pb2Dg\n",
       "MCCo8AwDw/4JDOwChNzIsI+BIZyBQYZwOHI1cD5hYLDArpD5I0IhZ3AuMJEtwKqQ997326jJjCOA\n",
       "iGQGAjwCRCqczkCkwmw8Ct0YhIHed4BwLoBScwKjARZ1ALm6S7bqY0BxAAAAAElFTkSuQmCC\n",
       "\" style=\"display:inline;vertical-align:middle;\" /></a><br>(see <a class=\"ProveItLink\" href=\"../../../__pv_it/theorems/c630cce76df71a222638c89934a07ba31aa9fb040/dependencies.ipynb\">dependencies</a>)<br>"
      ],
      "text/plain": [
       "<IPython.core.display.HTML object>"
      ]
     },
     "metadata": {},
     "output_type": "display_data"
    }
   ],
   "source": [
    "%proving ket_zero_norm"
   ]
  },
  {
   "cell_type": "code",
   "execution_count": null,
   "metadata": {},
   "outputs": [],
   "source": []
  }
 ],
 "metadata": {
  "kernelspec": {
   "display_name": "Python 3",
   "language": "python",
   "name": "python3"
  }
 },
 "nbformat": 4,
 "nbformat_minor": 0
}