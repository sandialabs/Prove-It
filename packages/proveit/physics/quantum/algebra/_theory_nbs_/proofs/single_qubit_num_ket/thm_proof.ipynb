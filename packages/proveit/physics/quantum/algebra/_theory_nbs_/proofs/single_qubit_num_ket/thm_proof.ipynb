{
 "cells": [
  {
   "cell_type": "markdown",
   "metadata": {},
   "source": [
    "Proof of <a class=\"ProveItLink\" href=\"../../../../../../_theory_nbs_/theory.ipynb\">proveit</a>.<a class=\"ProveItLink\" href=\"../../../../../_theory_nbs_/theory.ipynb\">physics</a>.<a class=\"ProveItLink\" href=\"../../../../_theory_nbs_/theory.ipynb\">quantum</a>.<a class=\"ProveItLink\" href=\"../../theory.ipynb\">algebra</a>.<a class=\"ProveItLink\" href=\"../../theorems.ipynb#single_qubit_num_ket\">single_qubit_num_ket</a> theorem\n",
    "========"
   ]
  },
  {
   "cell_type": "code",
   "execution_count": 1,
   "metadata": {},
   "outputs": [],
   "source": [
    "import proveit\n",
    "theory = proveit.Theory() # the theorem's theory"
   ]
  },
  {
   "cell_type": "code",
   "execution_count": 2,
   "metadata": {},
   "outputs": [
    {
     "data": {
      "text/html": [
       "With these <a href=\"allowed_presumptions.txt\">allowed</a>/<a href=\"disallowed_presumptions.txt\">disallowed</a> theorem/theory presumptions (e.g., to avoid circular dependencies), we begin our proof of<br><strong id=\"single_qubit_num_ket\">single_qubit_num_ket:</strong> <a class=\"ProveItLink\" href=\"../../../__pv_it/theorems/8ecd2e8fcf92b5b804ea4655bc9a99d22c1fb0a70/expr.ipynb\"><img src=\"data:image/png;base64,iVBORw0KGgoAAAANSUhEUgAAAJUAAAAVBAMAAAC9PLGkAAAAMFBMVEX///8AAAAAAAAAAAAAAAAA\n",
       "AAAAAAAAAAAAAAAAAAAAAAAAAAAAAAAAAAAAAAAAAAAv3aB7AAAAD3RSTlMAq1RmmUTNIjK7EInv\n",
       "3XZ/CtNrAAAACXBIWXMAAA7EAAAOxAGVKw4bAAACIklEQVQ4y32UP4jUQBTGv5vE3Ww2yQbbawL+\n",
       "aUTYQg5sjoVTEA80aGHnRSwObYyl6EG0lTvsNCKS6uCwMB7YHCiKCIIIh6WwkOMKbRQrCwvxTSaZ\n",
       "ZHUmswyZfb+Pb97MvBmgq8X0K1ui45LG6G5egJdi9EgtaNHL1H3+55Baeoyr7Se7wGGdl6TeGDjN\n",
       "Y6tKpR2VM/cmgKvNS9LrwF369B8olea4VI8CYBjovCQ9Qb6ZVukI9Uqmna1NnQwGTd5Tr+CoUL/S\n",
       "70Kb9sjo03T6Ue21LNRXfhwsj0HtJemQTvEM8FjtdVWc1K/sedzafHNaNh//UINO6ib6PqxrlXJt\n",
       "OTTeVuPPpZr9hlPADGEvKPKSFOwNMMiGNJonYu2lIfN3cLZSvi/VZoRRDsvHxneFl6SwfpJfwbf+\n",
       "A/VTdBfYool8xsvNsRKAUfC4wquhBygvRItk+mcv45ULdu9Skc+skQrofIZeXHvN7ldDGV0AbFPF\n",
       "el+8yRanLNk5Uns9FerEfgfcgjqvhhq8yO7QFIOxEV0UXqZX1+WLUj03HtA12dZ4NdTkKczRNjmJ\n",
       "6S+kaRqwxM6jSrkuTn1+ib67Gq+GumEVHMEJ7ou8cKGogm4iXxU20Xg1dK0OutlJKg6+6hCeXwWN\n",
       "iVQP4i6vki7VQetcgT5/0tZXqyeNt4dSvUn99o3XGq/N/9+aZ2kazgS2pHq/813dr3PraP0C38TI\n",
       "Vwta9CvwF8FFnu2EaIoSAAAAAElFTkSuQmCC\n",
       "\" style=\"display:inline;vertical-align:middle;\" /></a><br>(see <a class=\"ProveItLink\" href=\"../../../__pv_it/theorems/4a70faeeb7984c2ceca3d05744c2e4949204914d0/dependencies.ipynb\">dependencies</a>)<br>"
      ],
      "text/plain": [
       "<IPython.core.display.HTML object>"
      ]
     },
     "metadata": {},
     "output_type": "display_data"
    }
   ],
   "source": [
    "%proving single_qubit_num_ket"
   ]
  },
  {
   "cell_type": "code",
   "execution_count": null,
   "metadata": {},
   "outputs": [],
   "source": []
  }
 ],
 "metadata": {
  "kernelspec": {
   "display_name": "Python 3",
   "language": "python",
   "name": "python3"
  }
 },
 "nbformat": 4,
 "nbformat_minor": 0
}