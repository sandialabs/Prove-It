{
 "cells": [
  {
   "cell_type": "markdown",
   "metadata": {},
   "source": [
    "Proof of <a class=\"ProveItLink\" href=\"../../../../../../_theory_nbs_/theory.ipynb\">proveit</a>.<a class=\"ProveItLink\" href=\"../../../../../_theory_nbs_/theory.ipynb\">physics</a>.<a class=\"ProveItLink\" href=\"../../../../_theory_nbs_/theory.ipynb\">quantum</a>.<a class=\"ProveItLink\" href=\"../../theory.ipynb\">algebra</a>.<a class=\"ProveItLink\" href=\"../../theorems.ipynb#qmult_op_in_QmultCodomain\">qmult_op_in_QmultCodomain</a> theorem\n",
    "========"
   ]
  },
  {
   "cell_type": "code",
   "execution_count": 1,
   "metadata": {},
   "outputs": [],
   "source": [
    "import proveit\n",
    "theory = proveit.Theory() # the theorem's theory"
   ]
  },
  {
   "cell_type": "code",
   "execution_count": 2,
   "metadata": {},
   "outputs": [
    {
     "data": {
      "text/html": [
       "With these <a href=\"allowed_presumptions.txt\">allowed</a>/<a href=\"disallowed_presumptions.txt\">disallowed</a> theorem/theory presumptions (e.g., to avoid circular dependencies), we begin our proof of<br><strong id=\"qmult_op_in_QmultCodomain\">qmult_op_in_QmultCodomain:</strong> <a class=\"ProveItLink\" href=\"../../../__pv_it/theorems/a2a927310db366cd210c8a7237fe9e22506644900/expr.ipynb\"><img src=\"data:image/png;base64,iVBORw0KGgoAAAANSUhEUgAAAYgAAAAmBAMAAAAsDBE/AAAAMFBMVEX///8AAAAAAAAAAAAAAAAA\n",
       "AAAAAAAAAAAAAAAAAAAAAAAAAAAAAAAAAAAAAAAAAAAv3aB7AAAAD3RSTlMAq1RmmUTNIjK7EInv\n",
       "3XZ/CtNrAAAACXBIWXMAAA7EAAAOxAGVKw4bAAAF6UlEQVRYw82ZfWxTVRTAT9vXvtf3usf+8SN+\n",
       "ZDUsQ/0DmhSJJstogAWzYWhQSHQmm5hoXIzrEoMuoiv/GIOTFoeRorC3hBgXhFWIbLYJFJgh0WFq\n",
       "iIlByx6ZIZnoVgbdxhao99731faVtW9bs75s77b369zfveeec+4tQCkeczrtWnDjDUXWY1tJsjU9\n",
       "C6WBqFx4W6rotp8JUvpz+UGsK7qmpbJcIRgDQ/q8XCFs4eLrfieUKcQawfD2KT+IPw3UpafLE4Ix\n",
       "ZC+/Kk8IUxC9+IRf/vrfH/dbBA9+15YnxArsJDkv+bwL/f9wHwF7PSJKOp0SBBG3cukhTCQ17LcD\n",
       "Pg2iLS+E+bGpMNCN+/H4KzwSRD1O3lx6CAoPxOYz2nI9qBDmdD4I65FPaqcAXnoHWzGqRYLYgxUs\n",
       "uPQQDF7iDsMtH9QgqCpfHogxFDSNiHxkEI+fT0oQNkTEOUuwJ3B4dtJwy3MaxMBZvwoxlkiQSQcO\n",
       "z3dzHGiyDcwzEoQFqa2tFBvbjdIWwy3nVAhanHAqEDv+UcqbsRY50AIQRWUmZet0KZH4pRQQjkTi\n",
       "r7DhlrdUCArWuGQIulUtJ0O1JZVo/JYM8TzAoVJAUH6wkxCCzSlcpavOa+Z/UoXYBoGwDKHZB3OK\n",
       "fI8r3+/JEO1Ev9592w9mMnFP3fGZzknO5tilCNc2aImzPdARzwhZkNjxwXABCNRruxSm+dX8ml9R\n",
       "AO3VC/OoDluD8EBnpQKhdsCRQMPhydI+BGEXUBtLuN8JFZJ5HgIKkTPXQl7YD/AvMCJ0ApMBUYGX\n",
       "b96zC3F2h2SFPuuUewPq6QRAbx5hTaoBTSkQ/IFNVUEZoiuBHmJBTaQ8oE7LbRnCLCLQfdDvgy6p\n",
       "YEKIoPcmXJFAoKc/CwJlxQAKQqyW9rW1S5R7gyg8Ccgx6YXZBN1KnEDeOy5D9GmKdxO/D0AuBLTU\n",
       "ETokSSpwNKIueeJrCURfEkNcGG8AODVOv1FdXxUVXhPA13H5RgN8sBYJvHHNx9WJ/MpTWRA2i0jk\n",
       "2irl3mgS3MX1wjQbr0EgjamIyRAV2rk6vZkZsGgTquwJOEn2/nMAv8u0Myr84Wj0a6AJxDTUgM1J\n",
       "uV5dFUaT+OHdepx1HR6Fi8B5qPBO2NgEH2VBcDVkfkXkVvs0G0+36IWBWVFyWrFOVpdkhAgEL2rn\n",
       "6vSQsEPINmYYYjeW+E16eFg2XNwQer0I6kqwBCIGK7wBsAYDAtGEfVUiyXoPupFy0N8m4eXABiEL\n",
       "giaOy+rnY3JvDrwe1qBeGMmUZvqeDLEbJfZpxU/szLjjAN6TY8wwhIno6zRYZNcUmUCDWRcKhZzZ\n",
       "EA5XrdvtRQToTwAmSbL4M1ehGZmcC+5nrD2p7Cj2YWLKot/Pyr0FBKUoRxgwatwzJEH0pVvB3IMi\n",
       "PQmi9wt102xf+0DG6SOVFYpb42CSCDkBW7BP868EWk8EwbrQSOIk6zIcEToxEsBe7aIiIxQXgZ6R\n",
       "e8PbwI/HmytMUyd4Sws7yCOHHU2H5bBjJD2XcZlgns2CoDxgE4FFxrsB+FmQ/VQGxDRSZLuLFdEy\n",
       "9DP+FHID6BA2xs7CVdEeZsVuOFENdj0E1u1JqTf6zka/3Ys3dq6wDKXfkh9CU6An0jef3aWUc/Es\n",
       "CIcfHOIjzHn2hSvQO+UC+iB2dsMRvm2w9za71UOP1iGZ0XG6agC4RqiPRoG5tdoDf7s/FlE2cGfE\n",
       "6tEBPcSWSjg65SW9Hd324whKv9QLA7vqktcL80Ogvh+/+5Dy2V6ZBYEMi+k3H5jVusdCIW+B43Cs\n",
       "+JNdRm9NeYRpjqDfWQhCdw7UHU9fMXKmTy7oeEr59MI2q5/seHdw2hn7p3mH0OzLB2HkONk+t7Az\n",
       "dkQnzKLNvCVmJNA8vWwXBex8OWzKiJzzZXp5dtpAXT5WAIIZDS8LhMNf/GgczgIQeyC4LBCWluJH\n",
       "c73QrfjBZVIneL3o0dAXC0FcAWF5II77ih3NcWchiCa3axEQi/jNLuNWoMBousm7ZL/ZLep5v8h6\n",
       "rOpd/gdN+/QLWEQ/XAAAAABJRU5ErkJggg==\n",
       "\" style=\"display:inline;vertical-align:middle;\" /></a><br>(see <a class=\"ProveItLink\" href=\"../../../__pv_it/theorems/f15bff1765371b514972b0aa88568c48c47705f90/dependencies.ipynb\">dependencies</a>)<br>"
      ],
      "text/plain": [
       "<IPython.core.display.HTML object>"
      ]
     },
     "metadata": {},
     "output_type": "display_data"
    }
   ],
   "source": [
    "%proving qmult_op_in_QmultCodomain"
   ]
  },
  {
   "cell_type": "code",
   "execution_count": null,
   "metadata": {},
   "outputs": [],
   "source": []
  }
 ],
 "metadata": {
  "kernelspec": {
   "display_name": "Python 3",
   "language": "python",
   "name": "python3"
  }
 },
 "nbformat": 4,
 "nbformat_minor": 0
}