{
 "cells": [
  {
   "cell_type": "markdown",
   "metadata": {},
   "source": [
    "Proof of <a class=\"ProveItLink\" href=\"../../../../../../_theory_nbs_/theory.ipynb\">proveit</a>.<a class=\"ProveItLink\" href=\"../../../../../_theory_nbs_/theory.ipynb\">physics</a>.<a class=\"ProveItLink\" href=\"../../../../_theory_nbs_/theory.ipynb\">quantum</a>.<a class=\"ProveItLink\" href=\"../../theory.ipynb\">algebra</a>.<a class=\"ProveItLink\" href=\"../../theorems.ipynb#qmult_of_bra_as_map\">qmult_of_bra_as_map</a> theorem\n",
    "========"
   ]
  },
  {
   "cell_type": "code",
   "execution_count": 1,
   "metadata": {},
   "outputs": [],
   "source": [
    "import proveit\n",
    "theory = proveit.Theory() # the theorem's theory"
   ]
  },
  {
   "cell_type": "code",
   "execution_count": 2,
   "metadata": {},
   "outputs": [
    {
     "data": {
      "text/html": [
       "With these <a href=\"allowed_presumptions.txt\">allowed</a>/<a href=\"disallowed_presumptions.txt\">disallowed</a> theorem/theory presumptions (e.g., to avoid circular dependencies), we begin our proof of<br><strong id=\"qmult_of_bra_as_map\">qmult_of_bra_as_map:</strong> <a class=\"ProveItLink\" href=\"../../../__pv_it/theorems/aacd5278494174c1bfc952016cc311d67ec772df0/expr.ipynb\"><img src=\"data:image/png;base64,iVBORw0KGgoAAAANSUhEUgAAAmwAAAAfCAMAAABtYmFRAAAANlBMVEX///8AAAAAAAAAAAAAAAAA\n",
       "AAAAAAAAAAAAAAAAAAAAAAAAAAAAAAAAAAAAAAAAAAAAAAAAAABHL6OuAAAAEXRSTlMAq1RmmUTN\n",
       "IjK7EInv3Xbz6T5NtFUAAAAJcEhZcwAADsQAAA7EAZUrDhsAAAfLSURBVHja7VuHtuuqERW988L/\n",
       "/2zoRQJJtk8cr0Ssu851GQ2bYTNN8rb96ADGGLY9439kWL+d8GfR0e9Ox5JBeHrHL74/synfJmeE\n",
       "vwRGEtJdd0vdiRC/bYCPQE9N0etF6CFbskw4dapsMRMHgfRdlViNKDCREq9snKVEdkBuqTsROpkb\n",
       "WXJDwbsjqiS2Ixuo30H0a2T7GjaoBnsr+HdkS7aG+AUwTm49kFvqJsiK0FGY6WROCrkjMwX3QTNM\n",
       "Xd4mRuUMk0WNbLhOQtmvke1b2CQd7W22vyObWqpc6miyZrurbobMrJZDXKQRMhsDcqbgNmiMOdEu\n",
       "Z9l0jqlw0JONg3Xs+G+T7VvYMBrsPTvR75JN2qWzvCZbAnJL3QxZETrOnbYfgIWC26BFAEgzXofm\n",
       "mBBuOVshnoI/R7ZvYdOjvWe5yrtkg/zquFi2JFsCckvdDFkRWs0N8ELBchYrfFFpqgeDka1a7KP/\n",
       "TqWWlWylSKDb75HtO9ggHYwj6fZ3ZFOzREDOUqsj2fbRfaVuiawILZKQJdkWsxBq5SQHcWoeRatK\n",
       "ilo1qgNbjVa/WI1+BRtWg3FyRst5MrAT8h2ySRuDswo9gFaDzHIhsyKb7aL7mbqGbMRchXbCjGoQ\n",
       "chStu0B6PcuhACgJYDKKsyuyKdDIhiNCIX+RbF/Blk9eMU7e63jsOUUEqAnZsOkGmJBNbdBHZ+lV\n",
       "2xRfzIpecBesMB3FLtU1ZCPmdYlAwTxnO51l4R+ty1GUrciGaCMbA+XP75HtHBuevpy8PR+ltZ2M\n",
       "Q0CXt8TX4g3PxqHnozcwqylhK633e2+Hw1T6EgXItbo68Q5zE9oJb2JOtvNZprmM949OhKH1tiIb\n",
       "1I1s0XHkLximmh89r1TaKLkp6hQPFfMmhQv5oznhgLVWcfUh2Xpsk2Jo+jIuDM46QrOlBbuSwTuQ\n",
       "lrcgWdbzKtn8hdpmLThvS5X6519mGK52u/zBouU17mCdqusc04C5Ce2EV2Q7nYXrAre3NUQOwDAc\n",
       "XpKNu45s0Ja9Rcrne3GfTBLkFghBKjyr42fBKEEBn5PN1ACIwadka9heIlt7X1ZwWNqKbDlTsvVP\n",
       "bAS8XiDE6ky1RkLH8Z3ZCO3Uclz8nB2i+4m6KrTDvEzaVmQ7nUWKRQuaJUKhJdlI79n8biK7ZRrJ\n",
       "eDHXpWc3wLO61SBLsiWhJPkx2Sq2F8mG2Tas4LC0ZRjNNWA4qCRei+U7OVtMvVjQnEu4LuUZzcZ3\n",
       "ibcAQzF6ra4K7TCvy9El2c5mmXuWXISiY8rWwqjpyaZgW2/yeRj3Z2sgW4ygmWwaWZv2wr/w5QqF\n",
       "GBPglA+5NPamWYi1yKooxBRKocEqC1i+KNyXRAotydawobgxGq3J1kkwvO1WMC5tML0djCNYafQG\n",
       "SQn4e60PLFJIyzfV+56VmTYoDtVoAnKqTo5kGzGvG21rsq1Bb3Z66HMRit22JBsSPdmYbtOmb2Ko\n",
       "6R2nMMoPoUsETWQLdA5dKgrjSomGTGXXwYwzkVpRyMZbnd4n60AyHNsN5SL/KbNLslVshIWMhnG6\n",
       "JNsgIY6uv1vaaBQwGCeHDkot5Qhn8dfJRvxSvSZEjn1pcq/PloGcqJOODhs7Yl7fQhCi/R0UnIBO\n",
       "u3yMotkFBjfEa9ijvbVya6k0TUEVo85pPyJPCdomni3xLHu2yG0SXQYRnleyi1M+Wwq0L0KeCJ4M\n",
       "AqVoxmS7CEO5DqMVm80ZsFqSbZCIt+77FQxLG+OYGU9ifot84m7U+01dDpSw9f7A8j6j4ss7CKaH\n",
       "NVVnjBxvDfWYV52P2GGToY4Edu+GzkBLIIic0tY7Ecd5e/7QDPfZMvcnjxjF2Js6I4jGolbAc7Jp\n",
       "hPw/5E9Dep/+yhK4ilAKn8ZuJBcn+SJPuK4aWxfatmQTZ2RrErEQ7lcwLG2XtPGxCZlPMEYf3kHg\n",
       "cO2/TnTULU5ATtXBkWwD5vVjH9s65p2CJkr0t6taqPdh1ODF7SpWDu+BbMS0Gxl94+Las1UX4T+V\n",
       "5dEl03s2g0J+JJmTXUG8cTllwOETkFgE4ZJsg0SsEIbWS7+0XaMED/YumYrmH5Ktu7sj2BtkS0BO\n",
       "1akdV3rMRejW3B+CPlFZ+H8kW0qfqd12nfs52YKvCJmQD46hWM4+zYXbJtFZhXZsjK1WhM/9C+PT\n",
       "TKGidL4oHh9xTTYEONg4VutqtJfI2VrfLh2WtgsGbLA3HU7D+2Tr+gYv3N1tJX8CcqauPJ9Ro6Db\n",
       "DkL35v4Q9FplLTKOZEsnQ9stFJOsPP8glda+wrShqSuBw5vEoYnHLPKVZtSrQjXq69CwayrsNyah\n",
       "okgdGGhTcYsR4mGzo3T5D2KLFLsmm69EnBbkrPXRSdhSTvH50sYhRxeSmi3WfEq2xmv7wsOfzFXn\n",
       "jeyFOrvjSo+5CN2b+0PQa5XVPR7IlstCYABLJAsZD/loymNf66U+W+/b7FWfrUmIeu+jrGC3tMm6\n",
       "Vf2NQXTjrM/cLQ87qS/JFlTY4yNKL/UbGQawu+6WuizUYwYvzf0p6KPCZK32BNU3foPA3V+RTcAr\n",
       "slUJYrdn/Nj4AtlCbP0jshl5RbYqAeSzuf+HZHt30Bu/G2XTl0Nn/Rm/MawxGj1meMavDO4rxccK\n",
       "z/gK18CsBfaMZ/wHxqe/iX7GM26PUN09ufYzvjKIQuipIZ7xR+Pf189OPpWVOJ0AAAAASUVORK5C\n",
       "YII=\n",
       "\" style=\"display:inline;vertical-align:middle;\" /></a><br>(see <a class=\"ProveItLink\" href=\"../../../__pv_it/theorems/3d634e44d96712527f48a3eaf3a9f2da0841eaf50/dependencies.ipynb\">dependencies</a>)<br>"
      ],
      "text/plain": [
       "<IPython.core.display.HTML object>"
      ]
     },
     "metadata": {},
     "output_type": "display_data"
    }
   ],
   "source": [
    "%proving qmult_of_bra_as_map"
   ]
  },
  {
   "cell_type": "code",
   "execution_count": null,
   "metadata": {},
   "outputs": [],
   "source": []
  }
 ],
 "metadata": {
  "kernelspec": {
   "display_name": "Python 3",
   "language": "python",
   "name": "python3"
  }
 },
 "nbformat": 4,
 "nbformat_minor": 0
}