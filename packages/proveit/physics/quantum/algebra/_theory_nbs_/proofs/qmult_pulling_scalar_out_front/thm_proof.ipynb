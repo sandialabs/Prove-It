{
 "cells": [
  {
   "cell_type": "markdown",
   "metadata": {},
   "source": [
    "Proof of <a class=\"ProveItLink\" href=\"../../../../../../_theory_nbs_/theory.ipynb\">proveit</a>.<a class=\"ProveItLink\" href=\"../../../../../_theory_nbs_/theory.ipynb\">physics</a>.<a class=\"ProveItLink\" href=\"../../../../_theory_nbs_/theory.ipynb\">quantum</a>.<a class=\"ProveItLink\" href=\"../../theory.ipynb\">algebra</a>.<a class=\"ProveItLink\" href=\"../../theorems.ipynb#qmult_pulling_scalar_out_front\">qmult_pulling_scalar_out_front</a> theorem\n",
    "========"
   ]
  },
  {
   "cell_type": "code",
   "execution_count": 1,
   "metadata": {},
   "outputs": [],
   "source": [
    "import proveit\n",
    "theory = proveit.Theory() # the theorem's theory"
   ]
  },
  {
   "cell_type": "code",
   "execution_count": 2,
   "metadata": {},
   "outputs": [
    {
     "data": {
      "text/html": [
       "With these <a href=\"allowed_presumptions.txt\">allowed</a>/<a href=\"disallowed_presumptions.txt\">disallowed</a> theorem/theory presumptions (e.g., to avoid circular dependencies), we begin our proof of<br><strong id=\"qmult_pulling_scalar_out_front\">qmult_pulling_scalar_out_front:</strong> <a class=\"ProveItLink\" href=\"../../../__pv_it/theorems/1a6bc3906d0ef58860fc0e13634d09d6cd29bdf50/expr.ipynb\"><img src=\"data:image/png;base64,iVBORw0KGgoAAAANSUhEUgAAA7oAAAAzBAMAAABLfWnTAAAAMFBMVEX///8AAAAAAAAAAAAAAAAA\n",
       "AAAAAAAAAAAAAAAAAAAAAAAAAAAAAAAAAAAAAAAAAAAv3aB7AAAAD3RSTlMAq1RmmUTNIjK7EInv\n",
       "3XZ/CtNrAAAACXBIWXMAAA7EAAAOxAGVKw4bAAALXUlEQVR42u1cfYxU1RU/M/NmZ/bNxw7VpNbW\n",
       "MqbUYmxhU4VYa8oQoNKiMpV/jEtl7Uea2iaMjaHZQmUklGDKx1JLYInKU/ij7BpYMGq6RD5UipEU\n",
       "NqCN3bBhjKhZS5cVcfkKTO/Xe+9+vPdm57EjDH0nmZl37zn3nLv39+6559539gFUpM7OzstgB/TF\n",
       "k97ZaYwUmGPl05fBvmaosXj1o7qBdbVcbgfYWD43gjbvXhb7mqHr6qCPKw12EWnH398L0B0hhbrF\n",
       "cuEK9sXVdrg3QNcXTRaL6Sz5WSBULvBWEWsdpb487MrZHqDrh2L7xfJt9Ge+UDnfW0fDEFsen2FT\n",
       "TB8Yc13M8glb14xpXujemmOnm92EUs0Buj4oVRLjFzoNw2XBL5a9dUwcMmHO0d8Tn0D4PhOp9EED\n",
       "xh1xbSywH3V1zW8H6Pqgu8WiRjHRxvJLoFhSaeoZdtFE3fqW99DXbNZGfxbF5NoZ13BYYN/hauMX\n",
       "Abo+6IBYTNKfV3fz2ySxpFBi4Vl2NY+Gtr/FP3PN+YxnXXSPq1cX2EnDTW5eIUC3akqfF8u30MW4\n",
       "dDLLLc1CSaUn0qfY1WsUbVJcyup247bxnFtjkd3guvA2ZAJ0q192M2J5FnXFMJEbZrGkUi78Gbt6\n",
       "ZPBL6Hsxia3+xm6Ni8T/uk1+iZ3IuC685wN0q6bV0rD/nHw/AKu5XbBYUiiajV9ga+iwsQ050N18\n",
       "oJa45GlfYkdwUKf1ExKB1i8F6FZNX5PKh+lshMVobDexbSwp6TvHuKyJGsQ+BXh+iMyvJEL2GIun\n",
       "SPsUC5i6tt/o6DvEcCvsuj7DswG6VdNeqbyPLMZ/nT62HeKDdPdKSxpovc4qBqZPPYdwQVBqrdCE\n",
       "ZvkhUm3Q9kmyW9LRLXKfU2OTzSg+5NrTKYUA3Sop/pkTulvR3qbXOv6jpaZ87KzzlgbNVrR4agjW\n",
       "VDfMQ0HSMTILi7R9iuA1Hj6HxU5rr8k2vbz73N3WHKBbbch8xskzowg2tcdCl5Yihgu6GvocRSJ5\n",
       "st2dbbCdboK1p1vZbrjLGV2Tfcedgzhupk2c1l1IZgJ0q6RGea48hydQMz1cpOiaJUg4e+Y5QE4q\n",
       "t+HDjKL+Bo6ZcVTVw9rHcDSUMKztkhwzU7Y+6Q3Yb4Hn3NXeAN0qKSmPJj6tX4TH8oyJrlliT+H0\n",
       "YewlW9kFggffHxsLZKMcam4kExC5+xbDbI92U9EevAj0UQfbKran7NjWVsBbHs09OE8M8eiSifwN\n",
       "b/hCZIVodkW3so46p23yKcNKgC3lRyG8cbibomOVYuwJ+jt4tcyxC9A3Dhtwa/k3ZKOsf3UaEdm8\n",
       "5vq86WZB/9GYGfi3jYbcpKnd3mSHSmTJxf7dhSKf8+gSlb/yRlfDyhoKruhW1lHv292SHOVwi2NY\n",
       "cMWPw+89B1PdLwntY7mY12F1sqjlkOk/egSAl3h0n8Qq273RjePJ2ebumSvrqHOamJVnSM4NnfXL\n",
       "f+ylaajkjW7b8qWGR/PFkFqC0J3mLqGf5tFtQMoS2QoLK37itMOdXVlHndMUJY5dZ+P5ygUOsWS5\n",
       "POSl6X7Fp4rtD5U9HyP+BNIvVZhJn/LoRnCsVylsuh39tLqzK+uoczqpeMstVzSE93Le54SY+Z/9\n",
       "/QcqoZvs7z/a7REzV9RR57Rb8Zax0hXszsdezH8I6M4E2FAJXa0IjYYHupYOXkh3WRh8/1Ea/fmW\n",
       "rMUYFStpD95so37uxH4B3ccglgF9rHhnvvMy3J2x4UMSjwEss9z9wNSPSzy6RAce07c4JS8WHa3b\n",
       "1enrd3ZZw/b+rJ4ehyHnRRppQJOXlAtGVSucYkGbUscFSh9dFLdAY+vIzxwV0G00EnnzcTShVV9Z\n",
       "CzcnDM3g4NsAL7OkT8zd8mW4tZtHl+owH0ib7sw5zrKqo4cBnjFrf5pVD4QkEYbu87JywahihVMs\n",
       "alPqWvB+4v0O9Ie0FCPDCHfjGkA3XMIB0Szb/83ERxOlXIKHbwIOqpJFxu0pQURAl+oAePAgN24r\n",
       "HJcmu/rbaPTGmbuCt9EnpwjzIia6M2TlvFHFCq9Y1KbU4ch/Op7y4W4cJYd3PXUNeGZo/QHDKDJt\n",
       "1XGAD3D9+G8+IaDbEEGjtXrwRsLV78xzGdPkJJLoACg9wrm8BscEAqs6hqfcEnMfh6ZaXJnrgoiJ\n",
       "bq+snDeqWOEUS9qUOrSno6mky9CnqRnm2uHIbjVIvSqz1dWoCnag3ayON2mb5jYnCzqpH594oYWH\n",
       "L3ELunv/axwn3PDvClJURXTgwOSHdn1Jc9xDWdUhfhN/k2NHQ+KBPEGXpnxzygWjipWbXLUpdWiK\n",
       "030OfkSQzIbvt+fuSSWESPO34heds/6wF3OviO6iDH2oDH/4CJqMKLl9x0NugIcvhts8DZMJN7LJ\n",
       "kNFdRKbKg3DC9o3F9B4nx4yrF+ChSfKO+E3nc7ecim60XVLOG1WtvOmqTalDmueQCzyfmwx+3VVP\n",
       "M26zc8595qxDLbLVEZ0W0Q0VzYcOX4e5EPl1R8dfELpdDQJ8N6DPWzCVcON/KsrohkjNrJ1jDfMY\n",
       "XNu5/Tw8cFw+miHVZDeOk08gy8Tx0hlWxJmIgG44Y2ph5/XYaHTCDBcrVDERpdpEUd5CvB0md3R0\n",
       "ZAGnP90snkTKfwbOVjdzzv3mrNciWx317IKILqbUQ0Dgmx6Pd9O5G50gwEfOSOF1ykVRlb3JfJff\n",
       "MS4uxr9DOSWInYU9unwsR6pJNnAIwZQuMPExZI8ui1MREd14u6llSZ9lNEmemzpZoYqJKNUmivIW\n",
       "kGf+M42Q73pBGr/V8mTB2epN5n3nM2e9Jtnq0lMESk1p6ILYELw3nh5LTEL7RAW+PtSGcBfeA4mS\n",
       "iu4c8henDNC7ycPsU1CI78GFLuuLVrcBLu0D+BCY+It5SOeJeBffgIhEZny3W4yqqBbos4zGYAUe\n",
       "AdbQtgJMMRGl2oioJclbSJfYkY3271cfFxFqkp06vnPmmTe4z5z1mmSrQ/iUiq72IazIRjPwn2Zo\n",
       "Q52L/6tAH+oK8C0dBMIF/ZWOmaCwtb2gz/4lhiv+Otybgc3DeWjM48KKQnw//jKrvw/IGmyeNWgA\n",
       "E9en7/oE45dHDCq73xIJD9A4maG7DkzlfbZRWItvW9bQtgKmYnIjUINY1JLkLSBPHltP2iwfVxIP\n",
       "wFJyJISPB16zDiX95azXJFudJQmpuRmsU/rfO9YqR422h5C5Sm4GggutdIxmAlewrmZwy6kinpU7\n",
       "BDewMLPROnRgvoRzhw7zhV9fK4gSCzhg7uroyMNThw4WIsKxekieU/h4gOac+89Zr0m2OoSGHNGN\n",
       "eh0kex9DK+g+ZPbCKNkF+6ova1uTxe1uWFe96UmGja5WcICsx+GUuC/riK6TKLFwjz2WA4eeFvgR\n",
       "6R9NcLY6yzn3nbN+2dnqzkSThBR0IzAq6MZP7AAw79755V67YF/tKljWFPGI0iE9E36Jm7tgnhqv\n",
       "OmDB11C+qHZsl712VhAlFiJ5j1BFPuw8bOWc+85Zr1G2OsnFq8esuRjDojba9YpHBBzts3LOfees\n",
       "B9nqVw3dq6LLcs5956zXKFudHs4F6Dq64A+cF815ecUzs5xz3znrl52t7kzBf4m505PgnLKUkrYq\n",
       "z1k5575z1muTrR4J/sPTndZ7D5pF262c85HlrNMvIWe9NtnqqeC/s92pD1xiXSltbKWZcz7SnHXy\n",
       "JeSs1yZbPXizgge13O5yFDFFRD2lLI7+c9ZHNVt9DQToVk8Noi+M5DzRrSpnfTSz1aPnA3T9BNPS\n",
       "28jWyWGP75z1Uc1WT2UDdP3QgFi8SrPVgzcJ+iPpLaCx0hXsi2u2erS1anSPeL/F+cj/ydu3f1YH\n",
       "fVxG12y9c2s7fvv2wAiaBG/fpu6weNV3UWcZJdbbt/8Hba5/GsphezMAAAAASUVORK5CYII=\n",
       "\" style=\"display:inline;vertical-align:middle;\" /></a><br>(see <a class=\"ProveItLink\" href=\"../../../__pv_it/theorems/9888c58ab7b0a8cff308efd14bc4ea46dbf158380/dependencies.ipynb\">dependencies</a>)<br>"
      ],
      "text/plain": [
       "<IPython.core.display.HTML object>"
      ]
     },
     "metadata": {},
     "output_type": "display_data"
    }
   ],
   "source": [
    "%proving qmult_pulling_scalar_out_front"
   ]
  },
  {
   "cell_type": "code",
   "execution_count": null,
   "metadata": {},
   "outputs": [],
   "source": []
  }
 ],
 "metadata": {
  "kernelspec": {
   "display_name": "Python 3",
   "language": "python",
   "name": "python3"
  }
 },
 "nbformat": 4,
 "nbformat_minor": 0
}