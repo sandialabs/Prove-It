{
 "cells": [
  {
   "cell_type": "markdown",
   "metadata": {},
   "source": [
    "Proof of <a class=\"ProveItLink\" href=\"../../../../../../_theory_nbs_/theory.ipynb\">proveit</a>.<a class=\"ProveItLink\" href=\"../../../../../_theory_nbs_/theory.ipynb\">physics</a>.<a class=\"ProveItLink\" href=\"../../../../_theory_nbs_/theory.ipynb\">quantum</a>.<a class=\"ProveItLink\" href=\"../../theory.ipynb\">algebra</a>.<a class=\"ProveItLink\" href=\"../../theorems.ipynb#op_in_QmultCodomain\">op_in_QmultCodomain</a> theorem\n",
    "========"
   ]
  },
  {
   "cell_type": "code",
   "execution_count": 1,
   "metadata": {},
   "outputs": [],
   "source": [
    "import proveit\n",
    "theory = proveit.Theory() # the theorem's theory"
   ]
  },
  {
   "cell_type": "code",
   "execution_count": 2,
   "metadata": {},
   "outputs": [
    {
     "data": {
      "text/html": [
       "With these <a href=\"allowed_presumptions.txt\">allowed</a>/<a href=\"disallowed_presumptions.txt\">disallowed</a> theorem/theory presumptions (e.g., to avoid circular dependencies), we begin our proof of<br><strong id=\"op_in_QmultCodomain\">op_in_QmultCodomain:</strong> <a class=\"ProveItLink\" href=\"../../../__pv_it/theorems/9a146774fcdce9298f4c7647f4e310380180c8f10/expr.ipynb\"><img src=\"data:image/png;base64,iVBORw0KGgoAAAANSUhEUgAAAXwAAAAmBAMAAAA1qz3cAAAAMFBMVEX///8AAAAAAAAAAAAAAAAA\n",
       "AAAAAAAAAAAAAAAAAAAAAAAAAAAAAAAAAAAAAAAAAAAv3aB7AAAAD3RSTlMAq1RmmUTNIjK7EInv\n",
       "3XZ/CtNrAAAACXBIWXMAAA7EAAAOxAGVKw4bAAAFwUlEQVRYw82Ze2xTVRjAv/V1b2/L3f5RfGY1\n",
       "kPn4g9UMiSZmVNjEbBiu+IiyP6j4h3ExrEvMdDJd+ccQRLoFEikKu4uIWVBWEd1o4yhjiQkOU0VN\n",
       "nJZdM2NCJFsZboUtWM/j3tvHHbu3G83aNOfce17f75zzne98XwtQiI8plXIvuPM6/SZHRZxuSs1A\n",
       "YfDLFt7XYqAvO0Lzc8WHv8ZIo4eLFZ81hGR3FSm+LWSkFXeuSPErRUPNnihS/N+NNWv3FSU+a9AW\n",
       "2kNFiV/SodeC8eDUHC1K/FLlumu52dC7PRKexCTFJ4JW3Hr8EpLnffcGfPJD0xyj3jMdAqa+kxjN\n",
       "nyl+Lc5evfX4FgFbQV++Pdeqboemynp41+PTAM9tJ7bpSYq/E+9Ex63HZ/G2tubd83bFdSjXzPwS\n",
       "MvejEh/u9+K3CYpvQ3NxuAqg+40oP5F3zzNy3nfaTx/4Q/FfyYMDr/HWGDD0XFX6Cb4ZqaetEEe3\n",
       "CuXevHvOyuZFmqBLat2uXGNb8YMzAUC3JeCilud8PP59IfCd8fgfobx7XpV1ByrpqW9RL2ECaUso\n",
       "r71uiv8UwMFC4Fv8YCeyuZzK+zXN+bRRn6T5ZgjQqatGxTRF8GOqhZUofjPRpjde94OJ9Hjwuq/k\n",
       "DFW8Y+fDjqZ+c4zrgtZYWhq6N/jx/pAOPhq1mbx87lfLK35AF46gFeZRL91JRUQ7VXFV/RxJnDrV\n",
       "lqUhim8XHQKYQ70uWCaQiiGwIPVi/wwK0AlwGVgJ2oHNwI/hLZs3qiDX1kH4mrycdsmjgeWhOED3\n",
       "HMIaVOM4Rbdjf005sYYsUu34b+Q6JjUBdSlKPRTfJKGTuxd6fbCHVkyIYZTW4IYEHytaJj6P7mv0\n",
       "1cVfRZfOukeSR4MIPADootEKs4nZq38c4RGBnGrS+Ss43Q+5+OCtJvNCMmiFsx4NxpOTQ/B7Ehj/\n",
       "7HgdOKqllm01z8yG4WURfK0X/qmDHasF4AeW4yp+xVdZ+DazROTayuTRmBl573KFpS23jI/QlkWV\n",
       "nZY9/NQGts+cXkRF9+EEttDwGMAv8jyvoaSHPB6KRD4GhuAnoQK2wXrr4A4WDfzOjVpc9DfcDd/B\n",
       "SajHVQ3wbha+o4KsqWTxyqMRy814tcLApKg0QyyP1a3amHGV94PUkPiCmO0cYfw2LOtoanhYNkqO\n",
       "IZQ8C+rqcwQ/CqUvJuAl5NBifNhbLuEi4U3YxyXhbRZVBdaJWfgMuYKsfqRsdDQnlmjt0AojhXSN\n",
       "/8NpG/aIkzT4St+oHPCeDIdftvtQQvQyCWb5lIcnEMaaYDDoysZ3Vp2tegTlGF8ENoGL3PzARSsi\n",
       "MaMqa9dUtsd5B7HgkS9n5NEColKVIwxYVcXxbHpSjWDqmiamibtzi6JXz6++LdO3EzIdZmsMSujc\n",
       "HCK2Tu/Pvfr4CLPRT/C5jZHVvwCHP0MqjVYfdqd/JMhwmCVgrsmjYXX3Y9JcYWnlgdc0jtop2WkY\n",
       "Tc1mBvIkqFTfLB6wScChGdcBPwPyjZOBn0QKuw+OI2YusQumkFlHenSJm4GL0kfIUqCqlWDX4mM1\n",
       "nqSjMdfX++0CPoy5woCXlPYbbx6m3Je68miLoLx+mxWuOP3glO5iB7mnR6B72g3MAXxtDYf5pv7u\n",
       "f7lNHmasOgSOAal51gcnQ1AbiQB7dZUH/qp6T0LFuGrlWJ8Wf2MZHJkWyGhHNp8aRfmHWmFgV93L\n",
       "tfNE6qZ7byxXXzqz8JHRKPnRBya1+lgwKOiEpVHj0VbGaA1zCOtRn3pd+ThHucHilnyi6sSCgkWL\n",
       "TytsQzoE9xgTbk3OhZ9PcNc8u7BYN6wRZk7vszlqTLjDu1ShOjdfCTdlTILTVZw/U31jrNllnV/Z\n",
       "2LHQkuA7/YY4BnXwd0LHkuCbvUY4eK8O/oElUh54xQhHm08HfwTEpcH/wqfPwf0EOvgNVe5F4C/i\n",
       "vy2mUZ/DTsoK9t/Woj5v6Tf5VHn4Hy0U3EOVtur7AAAAAElFTkSuQmCC\n",
       "\" style=\"display:inline;vertical-align:middle;\" /></a><br>(see <a class=\"ProveItLink\" href=\"../../../__pv_it/theorems/b4d634906d14bd13f7fe822b030bfd172bf5063e0/dependencies.ipynb\">dependencies</a>)<br>"
      ],
      "text/plain": [
       "<IPython.core.display.HTML object>"
      ]
     },
     "metadata": {},
     "output_type": "display_data"
    }
   ],
   "source": [
    "%proving op_in_QmultCodomain"
   ]
  },
  {
   "cell_type": "code",
   "execution_count": null,
   "metadata": {},
   "outputs": [],
   "source": []
  }
 ],
 "metadata": {
  "kernelspec": {
   "display_name": "Python 3",
   "language": "python",
   "name": "python3"
  }
 },
 "nbformat": 4,
 "nbformat_minor": 0
}