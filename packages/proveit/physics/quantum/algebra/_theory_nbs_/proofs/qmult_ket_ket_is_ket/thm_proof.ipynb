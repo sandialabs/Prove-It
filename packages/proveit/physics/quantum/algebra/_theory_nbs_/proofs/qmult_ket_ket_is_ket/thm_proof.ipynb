{
 "cells": [
  {
   "cell_type": "markdown",
   "metadata": {},
   "source": [
    "Proof of <a class=\"ProveItLink\" href=\"../../../../../../_theory_nbs_/theory.ipynb\">proveit</a>.<a class=\"ProveItLink\" href=\"../../../../../_theory_nbs_/theory.ipynb\">physics</a>.<a class=\"ProveItLink\" href=\"../../../../_theory_nbs_/theory.ipynb\">quantum</a>.<a class=\"ProveItLink\" href=\"../../theory.ipynb\">algebra</a>.<a class=\"ProveItLink\" href=\"../../theorems.ipynb#qmult_ket_ket_is_ket\">qmult_ket_ket_is_ket</a> theorem\n",
    "========"
   ]
  },
  {
   "cell_type": "code",
   "execution_count": 1,
   "metadata": {},
   "outputs": [],
   "source": [
    "import proveit\n",
    "theory = proveit.Theory() # the theorem's theory"
   ]
  },
  {
   "cell_type": "code",
   "execution_count": 2,
   "metadata": {},
   "outputs": [
    {
     "data": {
      "text/html": [
       "With these <a href=\"allowed_presumptions.txt\">allowed</a>/<a href=\"disallowed_presumptions.txt\">disallowed</a> theorem/theory presumptions (e.g., to avoid circular dependencies), we begin our proof of<br><strong id=\"qmult_ket_ket_is_ket\">qmult_ket_ket_is_ket:</strong> <a class=\"ProveItLink\" href=\"../../../__pv_it/theorems/2b5a164a156fa3adce90fb148327a4741d410b8e0/expr.ipynb\"><img src=\"data:image/png;base64,iVBORw0KGgoAAAANSUhEUgAAAeEAAAAfBAMAAAAii2jgAAAAMFBMVEX///8AAAAAAAAAAAAAAAAA\n",
       "AAAAAAAAAAAAAAAAAAAAAAAAAAAAAAAAAAAAAAAAAAAv3aB7AAAAD3RSTlMAq1RmmUTNIjK7EInv\n",
       "3XZ/CtNrAAAACXBIWXMAAA7EAAAOxAGVKw4bAAAHcUlEQVRYw+2Ya2wUVRSAT/c1s7PttCRGeSR0\n",
       "EwgxEXB1C0YiZbGoQDWs8kMEIxViFELoVglSQLr4g4hFW0ACi0KHQDQEqcvD8NgECkQRFdIIKCKL\n",
       "AxWNIKUiUCwJeM49M9N9tDyaRas46ensubv38d177jnnXoDb8GTFv4PO+ZyNe29Luy7otI/d10mJ\n",
       "JSGSpYet0lY9lF4tdP32OjPxSSGeoKkvE/+T9RfSaqlsstPT23PqLEScRwW9Mk2cRS9bh+fTFhVi\n",
       "EOJIe6cQk66mNX8fv0oTrbjm9y534/w0AAsSP0blL2ea2EFjc4U62sCHLAYh4uekEAt9ckotpYSn\n",
       "61piYXY1QH4YXBoIQeK5ZOHVmSaWyXTKO9xAEQsTKrjGHm8ysdALUmo5eNEd+TTTaix2mrQKrD0+\n",
       "APYAsPgEuMeb8X1M87+xww3UsTChLWyuSSux0LM13r0r4t/ycvJ3W3ZiBRlxa+nnQ1AZgtRfghAk\n",
       "Juflyrzn8uOrpMPbuISFCT3WvmslFrpLrKlzqmaU9eHJ0M/hAs7HdVaWoJqPMgWViSCEcPfH419l\n",
       "njg7Hj8W7Wh9R5QFCWuLkPis4ZRQl8PgLF3Oukd43ekmMBRzZbgfqQJbANZ48Kt9AKuOYPEGFiIe\n",
       "DrBc/FTLJLEjDG4Ne+cnkOhfEkscbdf3sSBhtC+shnMauyrUscK8AT3YddlLkr3uRPH/GaiKghry\n",
       "hJSAEgX5z8YTonwgCxGXgSTmSvlCVJh/ITaC4z2s27/dU7rVXq/UQHl963hwsI1nKm9AjG2WAbhF\n",
       "gAB4MOHLj0Xrhq+0Wx5ErinevMz0xF4WT1D2PgUP0QYVzh+J7wWMp27WbbTdE/bON8bwKvIoOm6d\n",
       "Rj9VmwH6kvX3ZSFit2Zsl/M8hnpQsSX5RCQICwF+A1mHCpATiOtpAYfeKANZDp8axKrxfrcb7SvY\n",
       "6U0gFm/RFwymzoyIEmTxBBU4gMEJF1Y4f1pzsGumLjdRZdyV8e9Ftc9Eb+8Ny6+mve/Io7jmJgd4\n",
       "GcurWIjYprPjGnOATwHoybGlYbQSC41BfJJIjPOBc551I+L+NPmC9FXsHV2HYzhnPwv0ROInwOgL\n",
       "7kKfmkYMthYcdi3nJKTrNIGG7qQ1VlojqyDG73LraU5mbaX1zkVu+1Usf55FZJklhZzZvMi9eWG9\n",
       "z8hnBPHaJiLe0zgSPIX69AnDnr6y3dUdk9Tyg2dGwqyCIKg77oFNjaD22pRI7LLrROw8AYNywlKA\n",
       "Mx6aMFceE9tBnuKDaVbutBuUg2lWDY4SyQunjWwG9QCMARjJuq2eTS7JqrGnnDoklqIq/boKG8+6\n",
       "iOX9WATxxslse4+LahUNBV0B1orPK2KxD0ASxM3o+ydAkXP3LLkOpB8PBanoZ+gBe2EzFLu8Dt84\n",
       "mJNI7OmjEXFtrqa7vQhoroXuKGHiZ6FsRglZAfclXfUPNfwHuHUWIq62a86gkc2gXoQUq8Ks20WT\n",
       "jRbxSjIhcnpNIHvR0ZxyeuEczkwV9fgwiyCeLSZ9jLGLBoOC9jUarDVWBHEd5I5pgufkFvqIO++q\n",
       "KAq+DouVZphZBc7qqke1RGJpFw0dZvYD3R7GxN3JK+kMq3VMrKO5Rin3Hm36j1WmS6ewIyQIzr0e\n",
       "GGBmM6i7pr5ScNjQHSL8uSznRwFoNvWK3uoUfqdiCJuCXX6uGaGr2CDOElNbHMvXjO1UEYSBkUjE\n",
       "m0yc7d/jH4Bv/FPICVCRT91x3Im7/hG/P+isuZh0duoqiKGn5EU3Ugn2SZHIIhxlbEOLQYzmqoMc\n",
       "NfpC/yGZDZDXICGXOndbY8i0XdIHX/vBtOUcTkK7jTWqvYP2cm0y2GouoceiDKQ7dLvWpcskMSWH\n",
       "WVpPi+gPKsK8nWB8GCrbXmMah1y3OovioVjjg7DyoxZ2hG+LkJd8WkTiw3btNXJQctQ4B0mXmThP\n",
       "BZuXfFql6T+cl816R1hEEHlTZGEBk5iTZ6G/YZwEtxlZZk44wXsWhuWGxANyPUsrMZpWrhcjttQC\n",
       "yiEKWSnEzbgJFkMtLXDTW7lBDLZo4L8qLXBcfx9q3T5F782eOZW4pypFxSYWaQ7Z9nlYR8QPzJWL\n",
       "xSbmvio0WG8lKgUsglicB9whkzg7bOlFqfcbSYlO/5NayimDxCJ27AJl1Evybhh4JTYCrUCiZGDd\n",
       "19vV0q2rLiijAlJDIR5Xd+hlV0KwOeoYF8Ns5o/+AfjJP0/HYog1Qu+GLW0RrxmBLlwl30NDfTIP\n",
       "1lwKLiBXZivdh6WnjL7spbHNi6zxERCKII6ax0cmrrKOk+knvqXtB8xyQ1LvQGzWp3WRSPD6qaRc\n",
       "d+M7EDeHY/FWtkWWmOVEDIVmXE7vi2wCRRCL8N1gEZ8FU3enHb/Xtj/apYakEo+9heRZZDw3QTwo\n",
       "/YLGqRHpIuM2pq1njhDV2ph57GxQn2Hpv6TfZuntjUgNsaQR38o1TdmVmyOmUXRP2XBibY9SnMjc\n",
       "8eWfvcs076vNy0etvVtH5e++rz7mg/8fc5c2RO8w4rlQfYcRL7vjrPpoBi+B/h3POP9/1an9BVG8\n",
       "DhfCMlbZAAAAAElFTkSuQmCC\n",
       "\" style=\"display:inline;vertical-align:middle;\" /></a><br>(see <a class=\"ProveItLink\" href=\"../../../__pv_it/theorems/a0298a33245115c3701328c0a78614303ec09a7d0/dependencies.ipynb\">dependencies</a>)<br>"
      ],
      "text/plain": [
       "<IPython.core.display.HTML object>"
      ]
     },
     "metadata": {},
     "output_type": "display_data"
    }
   ],
   "source": [
    "%proving qmult_ket_ket_is_ket"
   ]
  },
  {
   "cell_type": "code",
   "execution_count": null,
   "metadata": {},
   "outputs": [],
   "source": []
  }
 ],
 "metadata": {
  "kernelspec": {
   "display_name": "Python 3",
   "language": "python",
   "name": "python3"
  }
 },
 "nbformat": 4,
 "nbformat_minor": 0
}