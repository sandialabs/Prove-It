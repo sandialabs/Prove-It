{
 "cells": [
  {
   "cell_type": "markdown",
   "metadata": {},
   "source": [
    "Proof of <a class=\"ProveItLink\" href=\"../../../../../../_theory_nbs_/theory.ipynb\">proveit</a>.<a class=\"ProveItLink\" href=\"../../../../../_theory_nbs_/theory.ipynb\">physics</a>.<a class=\"ProveItLink\" href=\"../../../../_theory_nbs_/theory.ipynb\">quantum</a>.<a class=\"ProveItLink\" href=\"../../theory.ipynb\">algebra</a>.<a class=\"ProveItLink\" href=\"../../theorems.ipynb#qmult_op_is_linmap\">qmult_op_is_linmap</a> theorem\n",
    "========"
   ]
  },
  {
   "cell_type": "code",
   "execution_count": 1,
   "metadata": {},
   "outputs": [],
   "source": [
    "import proveit\n",
    "theory = proveit.Theory() # the theorem's theory"
   ]
  },
  {
   "cell_type": "code",
   "execution_count": 2,
   "metadata": {},
   "outputs": [
    {
     "data": {
      "text/html": [
       "With these <a href=\"allowed_presumptions.txt\">allowed</a>/<a href=\"disallowed_presumptions.txt\">disallowed</a> theorem/theory presumptions (e.g., to avoid circular dependencies), we begin our proof of<br><strong id=\"qmult_op_is_linmap\">qmult_op_is_linmap:</strong> <a class=\"ProveItLink\" href=\"../../../__pv_it/theorems/eb847864f148259ab6892e136d367b205a5f543f0/expr.ipynb\"><img src=\"data:image/png;base64,iVBORw0KGgoAAAANSUhEUgAAAbIAAAAfBAMAAABwqFWrAAAAMFBMVEX///8AAAAAAAAAAAAAAAAA\n",
       "AAAAAAAAAAAAAAAAAAAAAAAAAAAAAAAAAAAAAAAAAAAv3aB7AAAAD3RSTlMAq1RmmUTNIjK7EInv\n",
       "3XZ/CtNrAAAACXBIWXMAAA7EAAAOxAGVKw4bAAAGTklEQVRYw+WYa2wUVRTH//vqTme3234wIqjp\n",
       "Cg0JksjGLURiggu0QCCma/jCQ6VAjBEbuk0IBpGyfDGoBKpAYBXsEA1ICHSDJEJrcKEYSSx0FRQl\n",
       "LKzWR4gGFnmsbcF67mNmdvuAsrbh4U3Ozuy9Z87M79xzz7kzwGA0S+IU7mjzJL4dHMN5uOPNf7eR\n",
       "OcndYcPx4b7V+mghKXcf2c9wBcWzV0I/7VWtj/aiFCIrYocRA0+Wm11rVMfJS/VG5tjypVTDkmq6\n",
       "hXORHBjfdRy7ry+AxwcuRFbO+l8eeLLc7G43cMb0SlY2sl2q2ac9TxqWSn2k2AvrJjoukuLHKjbz\n",
       "dQNPlpvdyQbOxHQvZPlFjnaptgF5caDQpw+tq8MSdiyV4keeRha8A0+Wm92YjuNa/rdB5tma+F4M\n",
       "X9ScjULNWgQ3+W2MZtwyrfIF4NaE+GHzDUKSJoM52bUaaaPW85d+6lhsPP4RUw1ooMX2oHGp7co2\n",
       "cWufEMqNxxKJrwcjN+Zi1x7VcQLWy/rpUgPMc9VUA+bR6D/mta3D+MFVJITIpgHvDwaZYVfrNi+h\n",
       "HupJ4zqfxHF4lU6dzExDBTFTjUKTbKVNI18IK7ZKIURWAychLqkK81wKjGoPWQ6JErnrWKOrer8t\n",
       "rtZjWdy0ESDvXdgfvQWZsAuoR02oKrr7WDinUNdo3lG/CY88BLvx6F6JY4fzkk5mpD+sDJhqWNUa\n",
       "iWyJmfcsFk9ojQkhsnyNDNiiDV4UBGUw28mtyk+RIN4F/oSSxEooGWRxNiH2oluQcbssPGjBYO3Q\n",
       "jfQ7aXcctM6fVqnrO67oDmAqzZDuJXdQ4pwvm9guTxUK68SPIoEETTWMuDR8+JiAGcg1IlSVlBAi\n",
       "sybpOdaiIYQ1egJi+aeMTRsnY4s1k8wT4znsVmTcLrVZx1nx4YxRaxj2oJJU01CEtz0dLk0WoEwy\n",
       "leb2hiRTzdJRlaHGI3GdkfQxTWkXtTwmhO2uKifwekAw8roZmqzjgmxnipE1X5gO14Tk0gVlz3U2\n",
       "Yr6G0LITf0zH8tIgPAeHsCHPiE+zdlfCLpLzgTYRTAyiQPjVLr19hGfxvd2ikYXnGT0aDZ86L8tl\n",
       "y6ORFelnjDXrCuMc/2ONC2Fke7nHxusBAg9VEuzkp1ubmrbAycnSGIkFmOw4vJy5e8WNctb1Gx7G\n",
       "V9iHGWxoLmqzyIRdD6bobj/AMx1b5XV65OMiX9EleiVOCpyZdF6tk10wAu7wHGBNUKihkH4q2Jzy\n",
       "sV8Jk8c02ebCyN5gcbW9q6UlJfFZ1ZgJY85UThZD4awUZisdIpDWFidZV/A1rKfYep1mYfa6SVoW\n",
       "GbeLWWTBIYKmmf3Mpmepvt7SKjU/D8hOM2UH4WR3qA9Jsjy93s9r7Tr55EKpxot0FT5BA8swO4mq\n",
       "sEOvCEwYmYW7Lc1zJWuNF+macZFIxJtN5vY3+8fSkZFpFFGsy+c5eNZBHrHRkKP+ahaZsDujqViz\n",
       "vRKJvAeF3/kx5u4QxkmUPbzzLXkdW82uoFp/TcOorlclmTp0jgjGTWrJOZ61+aKPsBq2+hQKTtP1\n",
       "rUehVN9gXmLBwMR4i3HEYRGh79IoYeGd3ueMGVViH7H0EedzdgIf7ugQ2eht/XEzNx8eWl5hhccJ\n",
       "W1oKh3gBeEB6UWwr9GjED1mbRXnqOKDvrjLUwLa/FSdpEh7PGlohxSCj2+YlodIjTKeExXJ2N7I0\n",
       "rcT12EM4amo1rlKxojk4r3bgbPID7GFDJcjvSUZRXegVJXvlhqewkWcQSlWLqVrSXTWwADGXUmlv\n",
       "ZD1baeafaPc9NReDzB2GOzlMOaw+exrbrvng3MwqdUujp3r/titqRcDZNoFenQ4mazpD2BdFeVMT\n",
       "lMtPBPCL/80kdbOhkrbPepDZD0GteAnLKIbU8tFb28PIpwxGhfq4RVvj/TihqcULpf9FCgn1iyw/\n",
       "Yx+jJrNetuvkK4ZBRmnN8k0IVkNlVyQSvPkWSon1+51aPRDZqId9FE56lkeHAMabgFmy6Kw/ZBk1\n",
       "jsV7N2bO3f1rwZzb2BwqqZy+Fkw1lraRSu3mFNTCZX4HOdOnb2v7GvhdSg8y322Q1XTmRObSgWxG\n",
       "19h76NvVzb43av3o+e/fG5vx/2tKW/Q+JVuFuvuUbPN9G42nB2Fd3x1trt93bwP8CzMt5RHXVnCJ\n",
       "AAAAAElFTkSuQmCC\n",
       "\" style=\"display:inline;vertical-align:middle;\" /></a><br>(see <a class=\"ProveItLink\" href=\"../../../__pv_it/theorems/59612869881afcce60accff69700c76f08800c370/dependencies.ipynb\">dependencies</a>)<br>"
      ],
      "text/plain": [
       "<IPython.core.display.HTML object>"
      ]
     },
     "metadata": {},
     "output_type": "display_data"
    }
   ],
   "source": [
    "%proving qmult_op_is_linmap"
   ]
  },
  {
   "cell_type": "code",
   "execution_count": null,
   "metadata": {},
   "outputs": [],
   "source": []
  }
 ],
 "metadata": {
  "kernelspec": {
   "display_name": "Python 3",
   "language": "python",
   "name": "python3"
  }
 },
 "nbformat": 4,
 "nbformat_minor": 0
}