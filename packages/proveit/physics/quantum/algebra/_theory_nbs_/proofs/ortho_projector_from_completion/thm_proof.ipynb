{
 "cells": [
  {
   "cell_type": "markdown",
   "metadata": {},
   "source": [
    "Proof of <a class=\"ProveItLink\" href=\"../../../../../../_theory_nbs_/theory.ipynb\">proveit</a>.<a class=\"ProveItLink\" href=\"../../../../../_theory_nbs_/theory.ipynb\">physics</a>.<a class=\"ProveItLink\" href=\"../../../../_theory_nbs_/theory.ipynb\">quantum</a>.<a class=\"ProveItLink\" href=\"../../theory.ipynb\">algebra</a>.<a class=\"ProveItLink\" href=\"../../theorems.ipynb#ortho_projector_from_completion\">ortho_projector_from_completion</a> theorem\n",
    "========"
   ]
  },
  {
   "cell_type": "code",
   "execution_count": 1,
   "metadata": {},
   "outputs": [],
   "source": [
    "import proveit\n",
    "theory = proveit.Theory() # the theorem's theory"
   ]
  },
  {
   "cell_type": "code",
   "execution_count": 2,
   "metadata": {},
   "outputs": [
    {
     "data": {
      "text/html": [
       "With these <a href=\"allowed_presumptions.txt\">allowed</a>/<a href=\"disallowed_presumptions.txt\">disallowed</a> theorem/theory presumptions (e.g., to avoid circular dependencies), we begin our proof of<br><strong id=\"ortho_projector_from_completion\">ortho_projector_from_completion:</strong> <a class=\"ProveItLink\" href=\"../../../__pv_it/theorems/a985e6cd5763276eb8ea98dffcc706866f350ccc0/expr.ipynb\"><img src=\"data:image/png;base64,iVBORw0KGgoAAAANSUhEUgAAAvwAAAAzBAMAAAAZV8H0AAAAMFBMVEX///8AAAAAAAAAAAAAAAAA\n",
       "AAAAAAAAAAAAAAAAAAAAAAAAAAAAAAAAAAAAAAAAAAAv3aB7AAAAD3RSTlMAq1RmmUTNIjK7EInv\n",
       "3XZ/CtNrAAAACXBIWXMAAA7EAAAOxAGVKw4bAAANnUlEQVR42u2cD3AU1RnAv9yf7N5e7nJ0rAJV\n",
       "cwpFFIUbA44Wi2dDCtUq0c44g1A4sVNHtGaZYdrBanJ2pk5VJGfVwXOsLMpYCG1yiqISxFhoZSpK\n",
       "rFgcNeMiiEUkBIGCAXr9vvfe/r275BLCBDJ5M2/37Xvv+/b2t2+/971vNwHov9TY2HjqxJTGRg0G\n",
       "QWJXyy+mj7wKpc+yh06dWCibjQ8G/Muy3wIEstmUKPZf+vBUioVqYJCkq2jjTZnFIfxD+IfwnxH4\n",
       "S2jjiQ3hHxj8PtqXqkP4Bwa/HMHNoiHjM1C2fz7ml4bwDxT+SsyJIfwDhb+svf3TzBD+gcLvS0JA\n",
       "G8I/UPilCCzo7SlEuGJyDOLuSl9Or7zHWJZf7uVdv8go6INp2fU0vNLbU6S409RqlFi6nG0D7gq3\n",
       "lNUWjBhHCzv20k5Z/zGseCsJsHpLy4s5BtGLv/jib9WSt5K+wYR/fO9nXg7Sk3AgDbjxB7rBHxDy\n",
       "sGTEk+CZD/J29ujcCcDuyTCAEe6TLqfNJvCp4M8MIvylXr1f8PtUF3OfWhg/tZG8bzoe1OPBPqoN\n",
       "1uuQEfivcZ+0mjb7tXXCWR4s+INj0AaHd9VNMyo6pu3KXQU7Ku34TUkpLvAbXaW4G791Fmoj+Z10\n",
       "cDbm5ij9FM9RE38apDXVEB61BoJTdNq1MT/tes29TjnD8Utv4ebLktQ8cRxWR5RG3d2dlRy/l+G3\n",
       "JFMcv9U15cZvOwu2+dtAYV22EVe6V0G4geM/u3JPFEoyZeosqIN5UIU7iZnI8FHaji6In5muUf2F\n",
       "vy/aihOzRTyHY44F9CQsYq6IF56V4eZdzogoq3ThfzBJJUtyFMdvyY9y42d9eaK2ezQ/i/XR/S/n\n",
       "+EMRMfqlZ0FSA7GGH2lyJ8zEnZ+dNLiJtjML4mcW6o7+wt8XbcWJuQPO5SrIlwlP8AhAq9LpEjji\n",
       "tuLyMI2VTMlHDNtvyD+SY/vLTQNGbWN0753p9B/hPLL/zPiAdNAwPvU1sHef7l922LuxchLuPGxM\n",
       "rdtPZ3qoIP4H6HFO9Rf+vmgrTsyNfzGoENKEQymBSl6lPVHlxJ+Ns4/+cISVTMlpAr8pPy0HP/b1\n",
       "Vl+e4Z2lVpAZ7AZ8JN5gYxtn3JTAX66HYoGvHoYrcPQD7aghqDEjVdj4lOIPCUb7C39ftBUn5sQv\n",
       "ta7FlRBBXA33BRPoWAdqsKhkjA2rHJ8K5Uy9liTacewasOR5hVCw2ujr2UOTKBl9kn+asdsO/u0g\n",
       "ZejlQ0kr/JZ7PmqzFuoYjQofhyba0dR7HYS7yA8oiN+L1qy036bevmgrTsw1+m+c1aExiIujvi82\n",
       "fAUwnYry27BYpQ2vLEn+OtfzMSXDNSD/DTGZ8ryCK1AXR42+w2kSxTYmvyjJl10teNiqzDiHNF7K\n",
       "ll1PQbjqyntG73wVght02i0F5YaPYfl/8dqWFvZ83m1vf6f/PJ8+aCtOLN/LRmZC+EMT1HSjCGZl\n",
       "CHbemt/vJ0m2kjL8fpLnFZYK0bctPEkzl13K6+kni7yuWWZJSRXGP108Uf2D363N1zcxkTLd4pe/\n",
       "Rn/az+1/bbbNKIJZuRzGxWz40XE0wg8kOQcLtxr4SZ5XWCp4XyXiWcM7e3q32rZWcc71nBP/Agpi\n",
       "wcK7k+DhV6us/0Rbeyz5Q1jVKf3JATLc8VqmB45cm2fZUjh3uG1RyWMfAK+n00tB+vFmgHF5xAqF\n",
       "ygqNfu5h5il684cP7nG49iPJf7WvenmFpcI+ZqntwV5OauuMwqRuYj4BLVgD3gyu4ugKKaQRiEC4\n",
       "FZaA1AmP2q6fxqgv0gN+po0tSqY54igs9gGrGMPJyjf2xZZNzJxZt70CV0eKwl9UEqNPjoJtHPIn\n",
       "RHJX5EhNvLIjTm1SspdnVfIrduL36DjpLYFmFb0sHtLg+FHcgf9rdI7FAqkb/EwbPiddQc2Bn8c+\n",
       "2BQk68oRsPmJNjGWaARcENR8Wv/hP5mkTNoIb5/CeH9iCvNlAaaKkAbDrywj/Iun7NJgTYf0y9HV\n",
       "FS3abRqoiz7Yex2LbsDeHWpwig6fT47ZowdcG2xa54wistiHJEwXesa+uDPoIMRAjIBRejwIL0/d\n",
       "NrUmD36pLxct9fBkuDrXojPQ/unWbFaTmhLQ5RaxCyVde34yFazcLf6X5ovSh2KKDnzS8nor1BP+\n",
       "BtWTKI36YrMvyuCzcf+JapCPwG4W3QjGfZl5UOXPSLqdI9cG+5NO/Cz24RHGE89to2mKeauW7BIj\n",
       "YOz364IFbf/nfcFfUGhO3s5zWcBMmZXVoUT3O5d04ajjjcNTArltqkBLOkeontMT/vvIoLyQ3bKl\n",
       "E3hIgxufZjb6AQ43gD/VoFERllToaDXKayi60axKKzthpnzoEgfH+7h5Wh934mexD64elNrjW7a6\n",
       "Qm4k9vzsWJnKR8DY4HOzCuFnHkL4rGttYecHN5nFBZ8dGJZ2fIX1hiaEFtbiSSQj+HtV9j346/F5\n",
       "EM79ZAs7B8Vnv8vboCzpizvMPnoNdvxiSWtfNiJ+UmvkbvGXJHmIxJsAHtJw4t94dWVlzWJaf+MU\n",
       "Inci/rIYRTfmoo6NlZNgZrbGzpFrCzZ1OfGz2IcSMeM1V7jwk9i9u6FcBLXGQnxPIfwv0FBDJ2af\n",
       "YEKPyftWx4YISP+wX26FyoV802d34olM77EiCp6l7mC8eYZacb5z0AyEfmfHrySc+EOOnYGfqZ2f\n",
       "T32+gDP6xCVxEdLIGf1AU/BiJYb02tjop+hGPd0MtOOaN5EbOV4Hmxz4RexDxL1/DnBWvoDz+TBb\n",
       "jICxsLq0kN9fRQEvHPqeo/x4IebHrI71+CuvybgdEBR6AkrRopSbo7EhxURhYg5+doZ/8nIT3ATh\n",
       "NQ5/PubEL4b9aBf+iWDlHvHjVFiqi7WPDX+D6k0FYoqOt6FZTh5G71zugj1A0Y1ARtEfhyZP3PSP\n",
       "LY7otex3eD4i9uF7jR1NZS54Lv7NMFXmI2As+McXWvWSIb6bCr/ix7ty8Te0ua+5FTwRKMNfOsH0\n",
       "AkuP8KexTMvtjHwKfntfBk78wug/5cJPao3cI/6yJJTpI1lIQ1n/jrb72MMV8RWHoK5yL0BLh1Tx\n",
       "KgSvh+qWFpAPjo+z6AZWU3TDc+Nk1c1xRbumVNxu4TdjHzCLll2IGd4r0XLw4zrjo7F8BOBCZUcB\n",
       "/LT29DDLvJ8NZPlQLv657vUpX7A2Z/ibKuEAHFrOb0Msb+cKvQD+MS78PFKuJFz4Sa2Re8Rfh1bx\n",
       "fbWIkIY7sNvDa6tAPrcOL+y8c3LF/BHYG2MjQP63yj9lzoPfhwxLDlJpbuqW98bdccGJYVF4rG4H\n",
       "Kl3RUc3xvxmlFn4c/DTKhVAAdfzPUrl1JGflXsvwzn85WuAyr+f4m3asbIkaUzGfYs0qwk9qjdwj\n",
       "/qKT3HnS+LsXKzACTPxsRH3DjHcrbLroIHv1l46hQyxvh4BO+Js2ArXwY/ZWlg/B/TiybW9h3tTN\n",
       "d5AAN7RTet96HOQTBX7v7Rx/PHy+rw0UVUy6tDGrCD+pNXL/4V9w7CTwj0gz49OzWDf4Q1Eb/nb0\n",
       "xgj/MwAHIZQB+SjUf9JCPj628GMoj3IheGBrOv2M7eGt4DOEx/08h/igfjOe/5f8i+H3qt6ukhgE\n",
       "dfHN+01gqyL8pNbI/Ye/+GFc7Aq1t9941hjGZ0ICbgP+4jtNVqUBsR2Dej4TYgs/ZvhJCEYduPDC\n",
       "CRZT34LD+Z/nshoxNef/JX9n+GXwGcOaffOOZs6qIvzMLezMo/4M/8SWHuwDwnj8wo5/ArZ8a+DH\n",
       "Fn5s4SfD02BNhNNl7tz4W/PjDxp36s/58GM33b4OZIt1o4rwk1ojF41/yeTTHT8zDbVUehfgLoY/\n",
       "Y43+Qwb+u0AcW8aHVlzXmDGYYBI+YweeNpftF8bH/Dxhg1F4PmEZH5zIVUXzk39WKtZ1VhUzPm1W\n",
       "Lha/HAmc7vhpNoX6OA8j3cXGucCPKzv/YRt+fszwM6Fy3MwwA8FfGKszr/sdP+sM0sc5XkcHI/ks\n",
       "w7+q5lxcbzeVa+JvbQKqrYpNvSkrF4s/kDztjQ9z5GS0OPtquOFZi/jvJPzyZijNQAO3v9jCjxl+\n",
       "JkQrrrthJTRTj1XU0mX5mXavnbmKpbko+EB+keGf8PBP4Wa49zJjLY8WyKoi/KTWyMXiD2nK6Y5f\n",
       "ZgzCT1yLl3XT8e+gTfme9sDx4Rcfj8DClu/CgtoDdL2shY45fiaUJl//D9shhOP6oa2bQa49Ec/3\n",
       "JoGf4XEjZDEn4sT/KMO/osNTFeWPArcubbYqwh+y5WLx+9dUnu744aNe6if8TIhc3hnb8BG4xNF+\n",
       "f44EdQ6LibdO0bvgJ+gwp2MCfyhprXqVriR4eM+XbFWE/36w8iDyfPKEyLpL4Xh90i2UyQmwORN1\n",
       "vkWU50vPtTlHvzdu4fck4mT1KS2yVRH+KrDyYMIf6NUf9QZax7iFFEc0J8/XddjZmHgvTYiZ2MJP\n",
       "T5E5+s9Xuc/DPxUzqhA/qTXyoMKv9OojRmnDSLdQ2M3anbBz6JLGxsbf/H53NgbNK53GB1Y5Q247\n",
       "RQRPd4TcSK2RBxV+Cg/2PhUU+jJv5xlZkTQY43ONfkmH/9g6R1x7usFJpvbLvOpPFf4P+vbvgYoT\n",
       "C/1goP6d0nKDoLT2mH7S2hob99C/U2pKiWL/paF/p1REcv47pf8D9fzl9TL2FVAAAAAASUVORK5C\n",
       "YII=\n",
       "\" style=\"display:inline;vertical-align:middle;\" /></a><br>(see <a class=\"ProveItLink\" href=\"../../../__pv_it/theorems/33a68ccd5ed621dc2ac0fb147b42d6a9a58aa2510/dependencies.ipynb\">dependencies</a>)<br>"
      ],
      "text/plain": [
       "<IPython.core.display.HTML object>"
      ]
     },
     "metadata": {},
     "output_type": "display_data"
    }
   ],
   "source": [
    "%proving ortho_projector_from_completion"
   ]
  },
  {
   "cell_type": "code",
   "execution_count": null,
   "metadata": {},
   "outputs": [],
   "source": []
  }
 ],
 "metadata": {
  "kernelspec": {
   "display_name": "Python 3",
   "language": "python",
   "name": "python3"
  }
 },
 "nbformat": 4,
 "nbformat_minor": 0
}