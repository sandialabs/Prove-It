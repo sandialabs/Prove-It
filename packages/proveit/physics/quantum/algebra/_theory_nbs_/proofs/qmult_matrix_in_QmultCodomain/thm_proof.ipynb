{
 "cells": [
  {
   "cell_type": "markdown",
   "metadata": {},
   "source": [
    "Proof of <a class=\"ProveItLink\" href=\"../../../../../../_theory_nbs_/theory.ipynb\">proveit</a>.<a class=\"ProveItLink\" href=\"../../../../../_theory_nbs_/theory.ipynb\">physics</a>.<a class=\"ProveItLink\" href=\"../../../../_theory_nbs_/theory.ipynb\">quantum</a>.<a class=\"ProveItLink\" href=\"../../theory.ipynb\">algebra</a>.<a class=\"ProveItLink\" href=\"../../theorems.ipynb#qmult_matrix_in_QmultCodomain\">qmult_matrix_in_QmultCodomain</a> theorem\n",
    "========"
   ]
  },
  {
   "cell_type": "code",
   "execution_count": 1,
   "metadata": {},
   "outputs": [],
   "source": [
    "import proveit\n",
    "theory = proveit.Theory() # the theorem's theory"
   ]
  },
  {
   "cell_type": "code",
   "execution_count": 2,
   "metadata": {},
   "outputs": [
    {
     "data": {
      "text/html": [
       "With these <a href=\"allowed_presumptions.txt\">allowed</a>/<a href=\"disallowed_presumptions.txt\">disallowed</a> theorem/theory presumptions (e.g., to avoid circular dependencies), we begin our proof of<br><strong id=\"qmult_matrix_in_QmultCodomain\">qmult_matrix_in_QmultCodomain:</strong> <a class=\"ProveItLink\" href=\"../../../__pv_it/theorems/7940343ec28d39a15d2fb113448949ba26ff5cf80/expr.ipynb\"><img src=\"data:image/png;base64,iVBORw0KGgoAAAANSUhEUgAAATUAAAAmBAMAAABXBBG2AAAAMFBMVEX///8AAAAAAAAAAAAAAAAA\n",
       "AAAAAAAAAAAAAAAAAAAAAAAAAAAAAAAAAAAAAAAAAAAv3aB7AAAAD3RSTlMAq1RmmUTNIjK7EInv\n",
       "3XZ/CtNrAAAACXBIWXMAAA7EAAAOxAGVKw4bAAAE60lEQVRYw72Yb2gbZRzHf8nlcpdLcz30jRO3\n",
       "XBFpVXDRssm6qtlsdagvIgOrrLAwUFlFvOoQFGkjcyqstnVrYdlQo/PNiNuCq0Lf6CYTJ6KNMKYv\n",
       "DEtxbKZ70dBVW6ZrfP7cXXK9uzZPYPdA2ue5+z73fPjd8/vzHABL81cqMWigBdT6tVIfmVGpZNjW\n",
       "8CvQUNvCIv6AQjV5w8YlmdSKl2xDbMsc8JLtJTb5Fxnv2PzXGT1H8Y4tkmPTCwvesY0wrgJHvGNb\n",
       "g35yIVW9YBlY2h7yt9M7tmvoF07UXrGOqq3tcxn/G1QpG1ntzvrZmPSkiQs6DffJHB7PnlEd2Fqm\n",
       "kDfvmbyFbNA4ZevGgxfrZ2PS01haNizlW8Ko0YSD3Z77a+9UEvjHZoijJinb29gxRutnY9KT5ksa\n",
       "bK+dxahRh3cqoyceX4Kr2XfJqEzZgmjLhdX62Zj0NMArBtuDL6A/HT9W2UqFAk1nk+jH3wDop8ss\n",
       "UjYOFRZBBl9g0pPWnDPY4k8hm/csmWzPzOgSnkTnKXSX7tA53U9/LhR+YvFTFj1li5lss+h9cYsG\n",
       "m9BnmpZE51fMMumazrYN4PCKz85Z2VbVL28kImAaIbZeg3t8ZYMtqBmS9WT8sjllSWfrB2HlqBW3\n",
       "sq2i52MwvCwtGGycNqJKatOoyWZKviWUZ83xvzpbKOMSCYXzX0GnYmOjejFaRL4+r8d3eWzdALe1\n",
       "vfteNG4X48B1P1C19s6EzhaA5qIMg0WDbaiAGnH5KB6Li+aUeZ3NX3Ta2sNrxqElnAlkbGy6/n7U\n",
       "fRo9WJxOJ6QPNf8Rfwm+9yMibgJpSpC32y0ATfFWeCRlsB0zJbP4TYTiNjZIPuxQpmzD0b8YD8NE\n",
       "1/muhCVnUf3WPEh3IxN04aVOAGyGQ1ISnwvEg+jubULSzrYXgodVuMPMWRFTcnJe2689BLb9Bl8i\n",
       "d+EeHZ6WN+E3hHqXAP4k2e2ugbB9vxE9wONl4JpTIGMnPLoPe3/en4twAO/gKJOXN5ipetDw0yvg\n",
       "+wXgjMkmF820dvG/J/g+awYmbG+hBY/2xpoUGa+Me5pEdkFb+LMdDmxYj3xuAXpG9PfS2oodX5ET\n",
       "visg5qAd9f2nqkYp6jR5kBdArMn8u6pPzsClmp1uxDfwIXO9eRmaUwG8f3Evw5OTXhvESw5sPmJe\n",
       "bZekorvb8eWODuspblleiFOatf/E+CK/9sbtJtun44Zx923fUuOQ4t+WGmkdDEFEpb1e4Han0wcQ\n",
       "WzZoj2/6hoQnOfgYYGM6nVbff3alGBQcda2RdnxEc1akUsnVHHlIEV9lOwclGBRpr0sUc9Ru/H1u\n",
       "9VsASj2AnH4/WeqEzVi1fnV69frt1Wjl1veeN2/na9mEMrLXpgBkce/3Nhr5NwBMu7ENQK8qlnG0\n",
       "w7MnNPjGvUa6Xk9t2XLxVzNNhJRaNl5BNVn/DAypqHc1Bm+gPSVe0MDnwiZfSByDEsqrwiE8zO4e\n",
       "S7l/RJiru+6tzcD2mlyvfqTJ9Hh9NXk2nU6sklDHMI3lvPDHylN2ak5sfOYmnBc6WSd87XiW4W7G\n",
       "WeZkgnHCd96ds8JJNr182sPvIefcbgxvdiziVQ/ZNrqdDpWQ0+XLXn5HCrp87Aw5Bh7hBy/ZpN9c\n",
       "PuJknLLJcbUxtga/977uvA5/qt3h6sHGvvc22oQUg5HNiPM/TlFMAVekab4AAAAASUVORK5CYII=\n",
       "\" style=\"display:inline;vertical-align:middle;\" /></a><br>(see <a class=\"ProveItLink\" href=\"../../../__pv_it/theorems/7c339a5c36621b501a8bb214785266bce0309ea90/dependencies.ipynb\">dependencies</a>)<br>"
      ],
      "text/plain": [
       "<IPython.core.display.HTML object>"
      ]
     },
     "metadata": {},
     "output_type": "display_data"
    }
   ],
   "source": [
    "%proving qmult_matrix_in_QmultCodomain"
   ]
  },
  {
   "cell_type": "code",
   "execution_count": null,
   "metadata": {},
   "outputs": [],
   "source": []
  }
 ],
 "metadata": {
  "kernelspec": {
   "display_name": "Python 3",
   "language": "python",
   "name": "python3"
  }
 },
 "nbformat": 4,
 "nbformat_minor": 0
}