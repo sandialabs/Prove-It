{
 "cells": [
  {
   "cell_type": "markdown",
   "metadata": {},
   "source": [
    "Proof of <a class=\"ProveItLink\" href=\"../../../../../../_theory_nbs_/theory.ipynb\">proveit</a>.<a class=\"ProveItLink\" href=\"../../../../../_theory_nbs_/theory.ipynb\">physics</a>.<a class=\"ProveItLink\" href=\"../../../../_theory_nbs_/theory.ipynb\">quantum</a>.<a class=\"ProveItLink\" href=\"../../theory.ipynb\">algebra</a>.<a class=\"ProveItLink\" href=\"../../theorems.ipynb#bra_is_linmap\">bra_is_linmap</a> theorem\n",
    "========"
   ]
  },
  {
   "cell_type": "code",
   "execution_count": 1,
   "metadata": {},
   "outputs": [],
   "source": [
    "import proveit\n",
    "theory = proveit.Theory() # the theorem's theory"
   ]
  },
  {
   "cell_type": "code",
   "execution_count": 2,
   "metadata": {},
   "outputs": [
    {
     "data": {
      "text/html": [
       "With these <a href=\"allowed_presumptions.txt\">allowed</a>/<a href=\"disallowed_presumptions.txt\">disallowed</a> theorem/theory presumptions (e.g., to avoid circular dependencies), we begin our proof of<br><strong id=\"bra_is_linmap\">bra_is_linmap:</strong> <a class=\"ProveItLink\" href=\"../../../__pv_it/theorems/cee304a979aecef288470c0eca5fdf38a36aca860/expr.ipynb\"><img src=\"data:image/png;base64,iVBORw0KGgoAAAANSUhEUgAAAZcAAAAfBAMAAADZ3J0/AAAAMFBMVEX///8AAAAAAAAAAAAAAAAA\n",
       "AAAAAAAAAAAAAAAAAAAAAAAAAAAAAAAAAAAAAAAAAAAv3aB7AAAAD3RSTlMAq1RmmUTNIjK7EInv\n",
       "3XZ/CtNrAAAACXBIWXMAAA7EAAAOxAGVKw4bAAAF20lEQVRYw92Ya2wUVRTH//ucx7ZD4wdFomFF\n",
       "5YPP1QYionW19RErZolGQzC6AaOR8JgmhFAxsERNiJTuiiGwGHREQtKY0BHQBDGkSkhEaqgG/CBs\n",
       "GJ5RCHWNINLy8Ny5d3fuLn1QXCP0Zs/snTPnzp3fveeec2eACpabcyb+t3IyF63o/ZL4P0sgdlXA\n",
       "sPlMySf9m11aFCFXCYxB/qFkCmdfDGRWUvQtP8+eb4ccgAmDqWHqWysF42N//iEO0Z0kkWj/MFM6\n",
       "E8JMeeIPqsyzuP7gdqw7G8dhqh7mMI8z9euVggmybsNDCwM6m9Bq9AsTfGxORpg1vLubatcL/VEb\n",
       "mBBHmNiYEMxiyHP8b2FUNtHNQ2sVZBN5W/8w7+OVDDfT4phFtT+5/h2NCHxxBOLgEnOZItGKrZkZ\n",
       "9LdxaK2q2GFVOcxvuRxfgkYPFljc7BZgJ3lxD7cYpbH5opH4Hq4QDIsB4coFgNqhx4GxBVeTYV44\n",
       "XmSNe2bQe2kyhG1mrrCYzoWR/JDL7aocTFUut98eWqtGNvz0IEsI4azFYZQZxcu/JzwzhE4DIxwe\n",
       "kmuWCovPuTCYp4DVlYMJpqBZniYuHRHsu9V0sf7jUKdPtjmMFEP2S2Yw8sC9/JpqPyeujOfCYJqI\n",
       "EZg7MwU/H1L9633Wl72ph9GWV9ag5MG6TywdBIbu1SRpMtIRgeLSlHoDfiKZTEshxQJ7RsB4OfGU\n",
       "ZKbedDab7RQX4i+LK3dxYTCaFUkgYLdHUU0T2nrjCmg1MDrQCiWPZdKDdbFhf3SwpLm6JByVwLj/\n",
       "6sFsotibW3aQUIKIAA+yEXObt+SouM2M05KZ/5Hrxowp0GUWiEqaC4PxOzQMrWg30UKeQE4nYGiK\n",
       "SmBIRQHFNxjMPSXrvxTmSZKGlNeb95SU9AzAge5wmLbiHcIdkhlzMVVEZqzWROUlLu52Jlkn8Bp4\n",
       "JuUw+scMpqXuiIVInTNvWsPk3q/Co6Aoa+o2W8omGkpj2w3Y1I1DE2MyTDhA6zMAdWZMhuGKuXyl\n",
       "F3vz/Gc9W1GhFIIiAHg5dBFroAszli8DZ8SV593FSfN7N1xxYTa6kWMCsBe627m2b+uWDixiMGnT\n",
       "n8Q01Ie+XaB2QDmwJ0EqI+mzq0xsRmM4GhxnK44MExlLXbyIpvlJGYYrtOKQu72J8hHr0qSkGIQ+\n",
       "UoRmo3jPZ263oO4QZrhA0BQDYLk7AFrrwaR7MyYuzFssa6+/2NmZRyhWnBm0uzMDnFbzmKL2gGDI\n",
       "4S+4KsXUYvoZvJlGaNWpO0rcTPkGzF9s2DIMV9CmjUcg3psUWVk0eO3Y25MShTwzTVwMnbt4vn5s\n",
       "rGDWw/xOT+l/uXn1VXPtHhG0GwWMz919n0EgicAb2ezyMpjtge2144iEfjrzD6bCiZNOiJ7modra\n",
       "xJSLiZJd80gGo0ThlMC4CtXG+Gw2GxW9ibKMRxcEDpy3i0nzkxU8wDebayedG1kw0+h+VX8vM5Gz\n",
       "3F3z7j0sTO/l4r0ChLrYNke1+54ZqF0E86mPOTNTVce040qP6/qq5T1WsVJjwB+VYbgiaGKp1Jso\n",
       "1SmxBaqXtzNT1+RKdxLMjLwRwfNP0xRJuUzp4uLBBGn36Yj0KcGkzUAGH2ADm5b8khEJSiJpy8i0\n",
       "W9Xd+BAbyNkOxYvByoO5b7HaWBLNuKINIqOK3kT6iYvN6XcDvs8E4tJJpGyjysSDqUqhyhmF5hRL\n",
       "mrusY73vjY6vO4WFtSeo5TanqZcWvB2cutVG+v4jMOofmM3U2Nrtf3aieQmMf87ORAkMVxylIVwl\n",
       "9SbKSrh7eDU/8MvZSqm+Qao3C/FgFtLa+dEkN8yuGGTP0nI5b5p15XmmrnD2WTabKPQmCotwFNCN\n",
       "roFh2qS6Uwa58gpfm9OXA7O8HIYpQk7fzdzYXgOFfwb4tb+7K303N0wuVwKjjLYvA+aXchim8FnX\n",
       "0teZWZd8NzPlzyr6f/vdbH8Mw7m0Thw+LGqNNnxgtNQw8rJqSx8+MKFNtdfw0/8DiArLp0swrmEA\n",
       "AAAASUVORK5CYII=\n",
       "\" style=\"display:inline;vertical-align:middle;\" /></a><br>(see <a class=\"ProveItLink\" href=\"../../../__pv_it/theorems/adc01c719b0a9b2c504c1a9e2300fdaf17c5d0a70/dependencies.ipynb\">dependencies</a>)<br>"
      ],
      "text/plain": [
       "<IPython.core.display.HTML object>"
      ]
     },
     "metadata": {},
     "output_type": "display_data"
    }
   ],
   "source": [
    "%proving bra_is_linmap"
   ]
  },
  {
   "cell_type": "code",
   "execution_count": null,
   "metadata": {},
   "outputs": [],
   "source": []
  }
 ],
 "metadata": {
  "kernelspec": {
   "display_name": "Python 3",
   "language": "python",
   "name": "python3"
  }
 },
 "nbformat": 4,
 "nbformat_minor": 0
}