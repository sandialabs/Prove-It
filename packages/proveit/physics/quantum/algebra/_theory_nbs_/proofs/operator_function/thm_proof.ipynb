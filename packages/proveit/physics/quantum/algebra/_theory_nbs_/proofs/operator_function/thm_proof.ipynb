{
 "cells": [
  {
   "cell_type": "markdown",
   "metadata": {},
   "source": [
    "Proof of <a class=\"ProveItLink\" href=\"../../../../../../_theory_nbs_/theory.ipynb\">proveit</a>.<a class=\"ProveItLink\" href=\"../../../../../_theory_nbs_/theory.ipynb\">physics</a>.<a class=\"ProveItLink\" href=\"../../../../_theory_nbs_/theory.ipynb\">quantum</a>.<a class=\"ProveItLink\" href=\"../../theory.ipynb\">algebra</a>.<a class=\"ProveItLink\" href=\"../../theorems.ipynb#operator_function\">operator_function</a> theorem\n",
    "========"
   ]
  },
  {
   "cell_type": "code",
   "execution_count": 1,
   "metadata": {},
   "outputs": [],
   "source": [
    "import proveit\n",
    "theory = proveit.Theory() # the theorem's theory"
   ]
  },
  {
   "cell_type": "code",
   "execution_count": 2,
   "metadata": {},
   "outputs": [
    {
     "data": {
      "text/html": [
       "With these <a href=\"allowed_presumptions.txt\">allowed</a>/<a href=\"disallowed_presumptions.txt\">disallowed</a> theorem/theory presumptions (e.g., to avoid circular dependencies), we begin our proof of<br><strong id=\"operator_function\">operator_function:</strong> <a class=\"ProveItLink\" href=\"../../../__pv_it/theorems/6d72c5191831fae128d4314d9239da6e81e4d85f0/expr.ipynb\"><img src=\"data:image/png;base64,iVBORw0KGgoAAAANSUhEUgAAA30AAABYCAMAAAB23W6TAAAAOVBMVEX///8AAAAAAAAAAAAAAAAA\n",
       "AAAAAAAAAAAAAAAAAAAAAAAAAAAAAAAAAAAAAAAAAAAAAAAAAAAAAAACXHtMAAAAEnRSTlMAq1Rm\n",
       "mUTNIjK7EInv3XYgpUBs4s2yAAAACXBIWXMAAA7EAAAOxAGVKw4bAAAQs0lEQVR42u1di5asqA5V\n",
       "UXkpM9f//9grLwkYn1XVXfYka52mDwYJabZAgKSq3kJiclRXRERERzR6uLzrdWLSbKaOFEtEdEgW\n",
       "K6x+I/o46ZSI6AoECX1ERIQ+IiJCH6GPiOjx6Evmz4aRpomIfhJ97WL/7GlYJCL6UfSJOPhxSYom\n",
       "IvrZdV+vfKobUjQR0c+ij4XlXk96JiL6YfRVw2hp0KRnIqKfRl8r7E+pSM9ERD+NPl7HH99B7QXe\n",
       "ZtUcQ92F6EHoc8Oe9hsPvO0HNxQ22URU6WHUqtL9pEXFxjlDTtZKOu7BxxijxY35rAS1Dlq3tXsH\n",
       "w+ryx8VzoVvqL0QPQl9jos2F6UpNzvY5ejQKU0tpf5VubDSDy7M93ookcPSNaULb1i+gr6pqV5xZ\n",
       "s6xABjVVI0J3tIAlehD6ZugxUwVcKcchBo8gvybM0ec7/jb6ApP/+Q70bWLYnRRYCd3TCpboQejT\n",
       "TeqxYvKwczhKZ88S+tykM6BvYMa0tqief6l43zdt29WTnmepVV/bB9zOT5nRlotr5k/WGG1qHktV\n",
       "pmGa7aJPTMrVquQoGlMrxuouDbKF0OuNS9YyMctJ/YjoG9HHhzS4MLnM4RTAgRz1THKIk06PPvu2\n",
       "Zp609nOHb1nVDQ3XcQji4zT6wclymZnLLuCG+Xc9A6HVsZSdKXKziz47sXS1cjvD7GeGxgKP94jQ\n",
       "8zP7ehmJVYp1A/M1ExF9HfqqOk4wVT9Nw0yuwg6MSGDmqcDYZzOnzg09nbRjVJoAukXjZBJXxee6\n",
       "LRqsDFxVoZSY2kZVh+hTHn0zp9ThnZ1EhE7Zy7dFWehXE01Iib4SfYAcA+u9tcMPH80++gbGBu+u\n",
       "wv8/oE/FKWHkcjPO0VRdaE0s1clp6g5mnjyiz2ZGRDc1IvT8bHVg1ZboBupHRF+Ovs6tpWq3SILb\n",
       "Bcdj32KFmXMVi/aWEYx945wrjeJhFAqlhErA2UCflhWGvgVmUOj1zHNGvnCLQkE9ieir0ectF71f\n",
       "h4HzLzj67Nvsmsv2cWUCzuZHQji4+U18Nx81cs6f09EYN3WcuUMpCxaIuDX6mlFB9MllNjtiQlem\n",
       "3JtwpUbREPqIvht9ftt6MJW1WHIZOqzb91aVsbvtqp7aSrXzj4obxowbILW2Ns960s6U2bpd787a\n",
       "aVydrHEWR9MyJixGHHcs1bSGaY6hL+y2u7f5Wu0PNvSdrclyckToJTeN5xbDRtPlYaLvRl8wPtaj\n",
       "2xGY+7+dvL3of1BcXHGdv2cYNtZzoRXdUyR6qtXl/SSmT6Gvavm5PCKi/yb6wizxI+ir9GobgTwF\n",
       "ExH6XoDrFWZ1mEFEROgjIiL0XeM3jK4MEBH6fgN91uEZmRCJCH2/gT5JG9REhL5fQp87ZEL6JyL0\n",
       "/QL6Ohvtj/RPROj7BfQRERH6pndFO9lAn3JEiib6z9I2BCz63hPtZAN9Lj41uV4g+u+StBCQW+h7\n",
       "T7STf/79B0UfHc8iImIotP73b/WmaCdbYx+hj4iIbY5974l2chZ9FFOTiNAH0PeWaCdn0UcxNYkI\n",
       "fRB974h2chZ9FFOTiNAH0Xct2ol+bd1HMTWJCH0AfTDaCUJ8bO1DFjzjtq+hj2JqEhH6IPpStJMc\n",
       "USHSSVO7q96tegf6KKYmEaEPom+JdpLREumkmR+2y5TzVfRRTE0iQh9E3xLtBMQFSZFOGtF03Fj0\n",
       "6bZtx/lf9wL6fiCmZv6BiKFUQtoeFThkOP88ZAvt5w0x/RhRzM8noi9GOwFxQYD/vEbMM8+me9PY\n",
       "d7DKfAdlbY1+B2OKKYI1W6UxhqMakWK6zlP4NWptNNDlvzaeqL1+1Q4hBoZ3PqrrE1N1ivn5SPTF\n",
       "aCcgLgiIdGJ9NbfWafR70LexyvwU+po+T+VRCXkBXkeP5YYQKXqon3WIMamv7V2phFPveLs+3KKh\n",
       "mJ8PRV/6S8e4ICDSiUWf0hExL6MPX2X+Lvqgr85Dhgvoi8VKIZY1NQ96MyleqOY2QBPY2QmBdg9v\n",
       "g1HMz6ejb4kLAiKduDgFXRMQo19G37LK7Extvb5nD7E8lHYYD9G3KsvbvPQuw0aNmECxWCFEWlPX\n",
       "4UEYrryCm0ms0SdtHTFOaAwMmoUJPRnzk+hb0QfigiSrpF9OmF1DyRX0LatMY+e4TfZeLA+fZu0w\n",
       "Zm2NYYxYQh9SVma/7jPgNeIChWLdCFOwph4jqoc2oa9qxwx9PWPGhVuLcUJjYNAsTOhOzE+iR6AP\n",
       "xAVZIp2I0R/JfBv60irTRYq1fWeB+pI3j7XtnmkmFd5Hn+hFltqHSMXgzLdEpdg/FC63BIrFeqNS\n",
       "CtbUS3DfCaKvGuty7OM2wlKMExoCg+ZhQk/G/CT63pknHF2uRDq5d8PIfspFVwkXyivPG0Jsr8PC\n",
       "++gTda1gGh6uKgYTbYlKIfThug8TKBZrQhgyl4I1dT3GSUcD0ccnVs48uYuc5uOEhsCgeZjQ0zE/\n",
       "iR6Avkt0D31DF3akAPpCHj+MURQY54UQa/T2zDPOmGMq0YqBVUWiUuybXeSWQKEYHyqQAiSLyQ/J\n",
       "Glhd/F9GFuirrC0mxAkNgUHzMKE7MT+JCH3IY1HxbgGB0lle5cddl5v/yBgbuxUyXrR55hXHlZh/\n",
       "r0SlkLuyyA2B4gqvEAKc9GFur6FzP7lOM/x6SBnB5smXOKExMGgeJvRkzE8iQp//Sutw6NqBQAwN\n",
       "zAtGeZcrBg5+5IzzKpL3F9GXVzx30W6pqmAIUgAGTJasDBDIdKgQHHgTtrvtwVLa2IluO/kQhzJm\n",
       "hN12VyTECV0Cg2ZhQk/G/CQi9BV8HgTQOG5D2lar3GqdNVoLfqcuoa+sWIL3ZgxRClntypKVAQJt\n",
       "7ba/JXro+lvm4UwxPwl9F9AnzOB2pSCE+mma/FSqW28Xwyx7wqPJozdnbc2N/YVBNFZswHshQ5Qi\n",
       "Y0BkgWWAQLHY+qzLR4hifhL67ox9QZyzuQcuYfK2xgVQSDFFRHsoO8WAyLIxwMRiom+y9FNEMT8J\n",
       "fbfR9y4qRBENTDE51U7pNcNxjUUxLvL0c0QxPwl9B+irx3H8hvnQt8hR/E3SJa8/2xn/WhPN3JOa\n",
       "7JfvRd+3OJX4ETn4xXxwyev6S1FGnFkcZiwV8aJW/mLTTzXxmuL4W3RwXQXpvUtQICw6EKHvd+Qw\n",
       "zXZ+P3kvG9bRxmD9jdvdPHDJ6/JLcUb8LmUZQRH3MefKLianIj1TOdbGM03cVdyadkQ6r4MbKkj1\n",
       "Pgp93+BV9wfkgIdwWp2MIi6/m8AhAdXpyd0sSpe8zrz0RO14zyuPwOBXIXzZeCWjTE9UjrfxsIn7\n",
       "isMwxl7XwR0VGPZE9H2DV93Py6HA8KprvzEP8nUeYEb5Q5/LJa8TLz1T+4YfgXH3v1nXW+4IlumJ\n",
       "pqNtPGrikeKwP6Z6WQe3VBDTR6HvG7zqfl6OFvwlhqZbDpjF/H7K9WP3x8Elr+OXnql9o+flX/qN\n",
       "06ChLGsrND3TdKSNh008VBxmyXlVB/dUsKSPWvd9gVfdz8sBJlcdXObEfD4N2SdbmeyS1+FLT9W+\n",
       "0fPyz40Ue12vimKW6YmmI208bOKh4rAi6kUd3FRBSJ+Fvi/wqvtxOeDJFnCJAeSzSb7y0lOMWx6s\n",
       "4FR7a0YXy/YMT89I+WIbccUhzWGv6eCuCkL6MJvn73vV/bgc7fJSVg9j3a7zq3oyt1/Ka224OWR0\n",
       "3Uf5oQZuRkEDhjcerJli1yt9sun6tJSvtXFDcUjTUZEu6OCuCkL6MPT9vlfdj8sBP8ewB4J8NUzi\n",
       "5ks7u2Em/bxM8W1G1320uy/hr9JH5rE0OKyZYtcr3XOwNFC0I6Aaa/oLbdxQHNZ01lcv6eCuCkL6\n",
       "MPT9gFfd5bMm2xoZJU7KMZy8o8Nk+RLwBeWwA8Kvr5jGa42JhZXdsXYeYGwXMduMtvuIpmr7+K2P\n",
       "zMne6xZiGFPses2Ap4dSvtbGDcWhTUdFOq+D2yoI6dN22z/tVTe6zFTSmhIbqU/JodrSrlbvITh7\n",
       "VKJvSK1rJjx/ZZI/tqWEwq1741i0Sk19yWjbptx9v3Tk1Stokdf3QYQp6iXcol+lh1K+1sYNxaFN\n",
       "X0QCKrigg9sqCOnT0Pdhr7qLy0ytHGaYPiWHZJ3IwOswtYng7NEO+qDtoOia/cTv9MxBup5WKnhx\n",
       "kpb1PNuL7Twt+3qkRU/cM14xxa4Xt8bL9CT67rZxQ3Fo05NISQUXdHBbBd0zxz7gVVdpZvTqBXgu\n",
       "RgjncghBseDpiB/LUaXzTwt4HaYwBHcrcO/MPLNZaX4QV5fjguInZmXKrYf8H7BDvT3CWVecp2nI\n",
       "nAx+0d63YlqmXSOebq77irPGZRv3m3igOLzpzfiSDm6rIKSPQ9/iVVeNHHkBnouCb82ZrnQ3vOF7\n",
       "Vhcghw2W5q/bwpNL9QaCvdcI+KjEgEygHgyej3n8Wy/iFDAphMLe/W7dz+3znkRXFGvx3cf14lkT\n",
       "iRludoWl7YppMTlIPN2krInrNu438UBxeNNRkS7o4K4KQvo49EWvus4N0NqBGZ6LTzJXnMllJlNM\n",
       "7aNvkSPpCfpjqDcQ7HngoxJ9yQjOs2kSNI7z8djaKgx0NF+njtXMk6w2ehKtNmr33Uf33udEYtZr\n",
       "y/uKKXa9aLkv003K7P8n2pg18UhxaNNRkS7o4K4KQvq8Ow7Bq653xeedVsrCtaDNPXKsC8qnli0u\n",
       "M4XoxD76Fjmqxf068HdrMYUjWNgFH3xUok+MqO0A5M9CnDLGA3jFwqo2WvDaiNVIUzCG7tPWoV9E\n",
       "5gyx4T8lU+x640a63R/g20+1EX5BDhSHNh0V6YoObqogpI+9YeSCfkimVOZWN+UeOdZNnECe9CUM\n",
       "C7P1NW/M5CNZAV6HKYBgLRNNdsYLwL1afY3xUVvj+bG+pSkbizjYNUexVoDC+ndgLOzKkTk/1lgc\n",
       "tItMoSyPPn+LdG/pJqrNNh428YTiyqZviHRBB/dUENPn3u+zjvmmzo0hHn3OSeaSG13aIt40C07g\n",
       "yDYNolw7z0LanEHfIErwQqtLjmAfdQ88WvUpfwS3qavCn8tyJLi44D1PecJ6o10gzsquuT5P3PRo\n",
       "ZKnAWPS8yJzvYhaHzCNTHDNCjyrTHUpSrtp43MRjxa2aviHSBR3cU0FMn4u+rmVNOHTr0eeulIBc\n",
       "79IW8aZZcAJHtsBlptLzSNaK6gT6VFzDgxlwvYHgsEMPHq2/6O7PO8rVGcLwZ++K/F5tLOKyvNXu\n",
       "/zwTQ7UvOfbd98xqXTXyRl829ssy3be7BJHWbTzRxCPFrQTdFOmCDu6oYKn3T9xtjzPP/JO3RJDH\n",
       "1gvwP8CR7bHLTESOxXYDwFtvIDj66kuPatwyw8zKrZ+32BTWiGboq41FXNY1T7vo9Iz4iYbyOioe\n",
       "UjHYCnne9U8d/glSom08bOKB4rax/ooO7qhgqfcvoS/3mxld2iLeNIu8tWfda+hLM5sE3q1DaOta\n",
       "EM6tU9Auf2yUJ85FZ/ppYst6Y29aVvGzp5Ydo0FtHvUJ4UPZOLCW6ZnK0TaeaOK+4tZy8nfo4LoK\n",
       "Ur1/AH3Ru23uN3NxrItN7Vk+W1h51r2CPtnUoqpOdcvqVI/ep3YqSW0t4pqxeiahbfxbTfxi9DH7\n",
       "2bsw9v0kreTQaMSRj6FvY0hdL+K47if9h4Kh/MUmbqLPAsD8Evrs1678zvVf4kfzpBzy9B0Hihb0\n",
       "HyUzju7aRfoFdB8LgY+jz1FNfwkiokMaPVzeNplgzMdRJSIiOp6nOqr+D9Zawo5LNEADAAAAAElF\n",
       "TkSuQmCC\n",
       "\" style=\"display:inline;vertical-align:middle;\" /></a><br>(see <a class=\"ProveItLink\" href=\"../../../__pv_it/theorems/71ccdd106a1c3d96b35b511c471c5d7b7571fbcd0/dependencies.ipynb\">dependencies</a>)<br>"
      ],
      "text/plain": [
       "<IPython.core.display.HTML object>"
      ]
     },
     "metadata": {},
     "output_type": "display_data"
    }
   ],
   "source": [
    "%proving operator_function"
   ]
  },
  {
   "cell_type": "code",
   "execution_count": null,
   "metadata": {},
   "outputs": [],
   "source": []
  }
 ],
 "metadata": {
  "kernelspec": {
   "display_name": "Python 3",
   "language": "python",
   "name": "python3"
  }
 },
 "nbformat": 4,
 "nbformat_minor": 0
}