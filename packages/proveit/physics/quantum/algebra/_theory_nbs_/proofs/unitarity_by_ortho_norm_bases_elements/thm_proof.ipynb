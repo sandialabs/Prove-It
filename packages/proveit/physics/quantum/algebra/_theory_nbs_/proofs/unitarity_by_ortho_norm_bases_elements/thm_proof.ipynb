{
 "cells": [
  {
   "cell_type": "markdown",
   "metadata": {},
   "source": [
    "Proof of <a class=\"ProveItLink\" href=\"../../../../../../_theory_nbs_/theory.ipynb\">proveit</a>.<a class=\"ProveItLink\" href=\"../../../../../_theory_nbs_/theory.ipynb\">physics</a>.<a class=\"ProveItLink\" href=\"../../../../_theory_nbs_/theory.ipynb\">quantum</a>.<a class=\"ProveItLink\" href=\"../../theory.ipynb\">algebra</a>.<a class=\"ProveItLink\" href=\"../../theorems.ipynb#unitarity_by_ortho_norm_bases_elements\">unitarity_by_ortho_norm_bases_elements</a> theorem\n",
    "========"
   ]
  },
  {
   "cell_type": "code",
   "execution_count": 1,
   "metadata": {},
   "outputs": [],
   "source": [
    "import proveit\n",
    "theory = proveit.Theory() # the theorem's theory"
   ]
  },
  {
   "cell_type": "code",
   "execution_count": 2,
   "metadata": {},
   "outputs": [
    {
     "data": {
      "text/html": [
       "With these <a href=\"allowed_presumptions.txt\">allowed</a>/<a href=\"disallowed_presumptions.txt\">disallowed</a> theorem/theory presumptions (e.g., to avoid circular dependencies), we begin our proof of<br><strong id=\"unitarity_by_ortho_norm_bases_elements\">unitarity_by_ortho_norm_bases_elements:</strong> <a class=\"ProveItLink\" href=\"../../../__pv_it/theorems/aebd7d67719f139444327e42fd48729a624cb0f00/expr.ipynb\"><img src=\"data:image/png;base64,iVBORw0KGgoAAAANSUhEUgAAAsYAAAAzBAMAAABmhtMFAAAAMFBMVEX///8AAAAAAAAAAAAAAAAA\n",
       "AAAAAAAAAAAAAAAAAAAAAAAAAAAAAAAAAAAAAAAAAAAv3aB7AAAAD3RSTlMAq1RmmUTNIjK7EInv\n",
       "3XZ/CtNrAAAACXBIWXMAAA7EAAAOxAGVKw4bAAANJUlEQVR42u2cfWwcxRXA333u3p7vbD4aElrQ\n",
       "RaQmVUhyYBzRUlFDEohSBQ7xDyQUTGjVEiFzVBQRQpMjKpVo0uRooMSohQUqWhzJOTAfAtpwCapo\n",
       "RWlNmpLwYbEuFBRCIlqa4kai7ntvZndn9/Y+7JxNU7zS7p533rzZ/e3sm/fejAzQwNbX1wdj2oy+\n",
       "PhM+65uA0Ci7t0b/OTb1qdHRrs8848ToaBHggdF/NyT9l7GqT+VgagOIFOn45SnGxzrjEB3C2SnG\n",
       "E8g4Sud4forxBDLW2/CwespWTKg9XoX741OMJ5RxB+7dU4wnlHHL0NCbpSnGE8o4WoCEOcV4Qhlr\n",
       "bXDj2KrK+PBcdPgiAxD1F7gXor6KUe/PDUtxyH1ijO/3dOW3dczEIPfBk2OrWhQOSRkPGzEedQvO\n",
       "EgGq+wAZX+gK3qLHcE+22ZduOnSAcwi/fh1+sbMAsO0Pzz1WYcQieNv7z3/PCnyH/7uM5411yBOM\n",
       "w1Sr3QMu4SdZrMqYi9ptNZtm3APhVaDvZXLXATD44wBm+Nt+EODRk+BLpbMvmwMQKx0rjOMRq0mM\n",
       "o3kfyYuqM75IYRxdgj/WYeWDVJJcZ0FJMv6av+3FAM9aECnNK6ak33lMME62o0m8qi0pO0VsGJ6r\n",
       "kHaLAxg7NbQuQdK5cJOfsav8JoXx23RhGu7byYIkwyMO417QBhZD+rQBSJ5n0WkQjHPwzvOhws1N\n",
       "8esnibG2E42gdSQsDWN/qznTL6wUO4wjxHgBgXNrFAVJ50LCz9gVpaJv0CtFalxtD/mR9JKSsEww\n",
       "ntaxPwOhUkt+BayFlbAQT1o3hL9LX0sK3l4OMKtpjPnpTqvLuBGxIMYwHTk/NAgl7T7669a5kIzN\n",
       "W+wR5mIf4x/isKR/h2BRDVht2q0nXBW+XJMUBTsNFX8ff/SYMZbCNw2tgnGqTfZj7X7Q8ons5gtM\n",
       "/UO4Ak+xIkQeNtkuz8FaVzSNMT/vt+sybkQskDGn30p6bv3r/PPzcEcLbIeKYi9j/Th81NtP5g6J\n",
       "NfS59OQbZA+1Veglvz3GEpknwaJwDxkMK3Jdb+9P4BSyyWwrQPvIthXrcnDgoBV74HDkhY5OPOHX\n",
       "pN9RcBTe2TTGt1NPKtZl3IhYVcYtuTSAYPxbsDRyyvzFPJS7/ThN380wg8MakDLtMS7hqojm/Yyx\n",
       "JLL4rJIouo3uuCzfxGZE9xseH3CoK0rGrVYqm3j/R7AA+zHQqchjHkinunm2Io4ak5m6jBsRq8o4\n",
       "VfgeM94GsE/DonvAKOEf9oGKxVAe5FdQDWKMhhVlE44KeBRcHU5JeD+OXFTkjHlsoyJ7IbYXtBJl\n",
       "tENlWCP8ivx2M3VoFtbcAv10wpprLoKk9IQONY1xhExX/TGvEbGqjGMDWWa8MQMrOjjA1nfBxrz+\n",
       "Ih12cbEYyoMYUw1inM5RLXkBVcDfSKHQ8aJbMh1HLipyGK8uiBgEXY5w2bjkJGriDI5BtkJ64Tk9\n",
       "s95+GpI7LDrdi2/yqd4l8q7vbZ5f8fLQ0EsN+BUNiFVlzBvZCvEhPIuWI+xcF7/EUF7NPybGCZaV\n",
       "F0hF0VGolgymO01PDGI803tPg7e9wuPuFJvHeIn8nOowbkCsJuNNL2UgxpYuPvoJwHKnYLkMseZk\n",
       "FcbodLH3JcDpH6CvehXLigukIoafdMx0tYgSoy08wEVunNf45rHw0XzzGN9IiZvKreRjXEWs8X5M\n",
       "bbo/swG/1AiZnIK4pfrAJ7OseyFkqgrVEi7SV5ILmBkblGeV351NzFckzKRKRNvzJHy1zcl/OYxZ\n",
       "TL/kBFj9hrzqZE8uA92qzhjvNTS0t+H7kr1HJzrrQbMftlOO9pr7LfsqauApuoUuFZRMXu1UX3po\n",
       "t0/neFOyXQGMw5Y7llH6ZGbSjJqVjIXYfPw+c0LOzZ5Esj8A1/nyMQ53jWWwDNhIgThU2z5XW0Hd\n",
       "+UQh0NGkpPHqoFi6+zzHBNGQeprVlYRKxkLsQnzjUk7JnpyLwo7z5WP8CBwl40ecQyGoz1YyVgup\n",
       "St2slBDoqPVZ1dg0RTLvbc5l/Pgq/Gvhpndk+mT2F9cm4YlFexblvIxJDN5gL57k1OzJnWhTHefL\n",
       "x3jL0TLeYh+UEMhj3eB9bwW1cKvt0fjBXPj7vNflCWacrm/Q/2pntuSuNOcyvg2t78NXZlvywluZ\n",
       "nXxoRVA/JjHjMPVjllOyJ3pXh+J8+XJCZWY8/sUsrIAPSghEGLVTPjkeQn/qgZ/evYvG5LdeycAX\n",
       "/mV5GXOsNlypNQmXKvZ2uCrjOW4z6nb79TtL8LNP2IrZzkE6K3alOZdxCD+oW9+FVpk+mQ1d+4MY\n",
       "k1gYg87LgeWU7MkGilAc58vLOFpixuNfzMIK+JDyddUkvnA44HgDz+O1dMnXj7nO9srhK+S5xAJB\n",
       "jI1upRl124z0jEHHivG2Su5uc77c5qlwJYj0yWzYFg9izA/cTfNcLKdmTyoGYZdxK8M9isUsrIAP\n",
       "s3yM4/jCYaljj2+g+zN9jLnvxyu/n7THD2WBIMbRrNKMuq2j+qxjoXPtbLm7zfkY/w4W6SJ9Mhti\n",
       "8wL8Y9FmGxiWTLMo2ZMa/vFmU9jjcS9mYQV82Opj3FqUz7mSr9ES1JDfHrMNj1ZGbMY/PCiLXsbO\n",
       "VHqL2gy9mp8PvepjXHZTW6bY3ea8jLUPYd9sEch1VhowhzGGX9tABnxK9qQGY57giR/FYpaD9sHo\n",
       "9jG+Gls3Sjbj2H+Ak06+AZHSselypdoH1O7BAgpj3abUrjaDbfSY/n6sRJLUf2l3m/MyjrXBgSyn\n",
       "T/RX86I7BM6DzNxBHwKnWZTsSQ3G0yTjcS9mmWYfcDwx8B53OxifL4iZZOB0RHLEDlewsH8AUhk5\n",
       "aOHDHanQOnO+2rdZQLUV58rz19VmAG42K2wFjRRXnbxmvyUmwWl3mwuaa6qWPvHPNdVNs7iMeyXj\n",
       "6HgXs/TahxRNxpVhJxh5wfhNkBP0fC+psj2IYGHpDGhpY++YBj19hDUtG6LtFX747tAR0iNdaBbo\n",
       "UITekqPRtWoz6hyFw5g6bukuy/hYzI/RLpuDSZvPu0YylotZfim+Rae/VPHmNrhjzDX24VKMrXHM\n",
       "nUMWihgbf7cN8HT2DRwLmczpmQvZp9onVudqh/361+XDI7al2ycFPGNeu/gKdqvNqMbOYYyfSyz3\n",
       "GmgjlDkVu9vcJDHeIxnLxSw7ZM5e2j28I2NBkILHwKOADotxiG2xYL1tK8If4Y+1YE+QzMfXpVmi\n",
       "0IA/ioSHWJ1rVDCeoXQ2kAIexsb1OTFrozQD+svYxV/zMm7JgYHVw2gfaDaFduPwp9SP/YtZ9OHe\n",
       "HA8Ymw4GKWiv7McUXM43wbIZswF+2onzyGwm87IQHzktsx3YnbURv/qPGIbrfYz4Gd/Miomx24ya\n",
       "Ud5edBlT1BDCJ4mVxa59WrbCv5hlUcEelOc2yJic/WVo/GLDkvGHrk9FjJ1PGgujgxjJGe9kRNyj\n",
       "f+yzx8YIGs4Ye08sxAKqPR6Slne3t5lB108ju5sVtoIAt2ZNCGMx7bK5yWM8w2YsF7PQn/0XiKAz\n",
       "kPHZ5xzqUhnPsA8JpHUXhPP9raawFfh5htzIEbs4nGQzTrTB6RDlmaZAv2IE4hnSA0Kowq+wp/3v\n",
       "9zbjzvBFRmSsmMCe01LC1ktMlPbafsUEMP7AZiwXs3CGtZ0nNeVKFS9jo/MFeFEsQFEUfCC/+qfQ\n",
       "Mt46V/pu3wRtuhKrdcGNBZtxshtNc1+yS8Q9kQr/eAfMZD0ghCI+/1jrVoYFpZm4mzFZZsIF3Bj2\n",
       "mnUFeDdSYDeO9kh5khlfbdp5N7mYBTGaT8BlXEgrVXyMtf5uOCIXoLgK+IB1oydkuXOJfMVdF6s1\n",
       "nznRcgOU8zukXzUoolN/SuhQifVIIRZQ4zw7TfBjbzPGDCftFTvxOBbSB7lDPHiWeGja3eYmiXFL\n",
       "Ts1tJizpdi7o7e3N8EoVv60IWTRuhHs8CvggQ3HjSMGX24Qquc3WvMjtxwM9RNIjhCryFU4GOlXw\n",
       "1ok9I2Npd9vn/Pq+3KvmKyaKscy72cPxr/j0sVjzIzIzPsYthWhXgReg+PNuMqUU7u5qkPFGYcSD\n",
       "8m5CD4XIG2vl3SJ156k4CyS2hXKvmnebKMZ6WWXcHqWUAl4TMZ8y5vFaFPY8IbW+oIx5rEBoEfdu\n",
       "nJpvkPGwzDyeGSiGevRdIjdzZtX8cf01Fom8kn7iFNSZMMmM4XiV8YPv0ToW7L7aVpvxmhs4LuG1\n",
       "KMDhXHpA9StYAR8U568xxtfKmZ3qE7ZhES7vrcr40bqP6jjNBJuB7510xhXzeRk2WNt6ZQwSvCmM\n",
       "3fk8d+hKF2o0Lgvjl5dFlRrzectZqMZ8nmbVfda18vye3APn8yaWMblcKuOY+a2NSqq0PmOezAmP\n",
       "PWcXfUfaxRpTA1kWmoR56frbn8f6P0JSX3H/R0gnMlbWV0TgYjfh01Olvr5S+aPTOYxvW9qIQHro\n",
       "hSYxdpoz+vqL9D9C9jdUbcL+R4ieCb5+C/wfbM7/CPkvjATxiKpv/hUAAAAASUVORK5CYII=\n",
       "\" style=\"display:inline;vertical-align:middle;\" /></a><br>(see <a class=\"ProveItLink\" href=\"../../../__pv_it/theorems/339951f3c1509aee3df1d733f1cbc311a7dbd14f0/dependencies.ipynb\">dependencies</a>)<br>"
      ],
      "text/plain": [
       "<IPython.core.display.HTML object>"
      ]
     },
     "metadata": {},
     "output_type": "display_data"
    }
   ],
   "source": [
    "%proving unitarity_by_ortho_norm_bases_elements"
   ]
  },
  {
   "cell_type": "code",
   "execution_count": null,
   "metadata": {},
   "outputs": [],
   "source": []
  }
 ],
 "metadata": {
  "kernelspec": {
   "display_name": "Python 3",
   "language": "python",
   "name": "python3"
  }
 },
 "nbformat": 4,
 "nbformat_minor": 0
}