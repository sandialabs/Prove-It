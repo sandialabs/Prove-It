{
 "cells": [
  {
   "cell_type": "markdown",
   "metadata": {},
   "source": [
    "Proof of <a class=\"ProveItLink\" href=\"../../../../../../_theory_nbs_/theory.ipynb\">proveit</a>.<a class=\"ProveItLink\" href=\"../../../../../_theory_nbs_/theory.ipynb\">physics</a>.<a class=\"ProveItLink\" href=\"../../../../_theory_nbs_/theory.ipynb\">quantum</a>.<a class=\"ProveItLink\" href=\"../../theory.ipynb\">algebra</a>.<a class=\"ProveItLink\" href=\"../../theorems.ipynb#bra_in_QmultCodomain\">bra_in_QmultCodomain</a> theorem\n",
    "========"
   ]
  },
  {
   "cell_type": "code",
   "execution_count": 1,
   "metadata": {},
   "outputs": [],
   "source": [
    "import proveit\n",
    "theory = proveit.Theory() # the theorem's theory"
   ]
  },
  {
   "cell_type": "code",
   "execution_count": 2,
   "metadata": {},
   "outputs": [
    {
     "data": {
      "text/html": [
       "With these <a href=\"allowed_presumptions.txt\">allowed</a>/<a href=\"disallowed_presumptions.txt\">disallowed</a> theorem/theory presumptions (e.g., to avoid circular dependencies), we begin our proof of<br><strong id=\"bra_in_QmultCodomain\">bra_in_QmultCodomain:</strong> <a class=\"ProveItLink\" href=\"../../../__pv_it/theorems/18b4044dab59b7337111e5684890b8337cbfb7170/expr.ipynb\"><img src=\"data:image/png;base64,iVBORw0KGgoAAAANSUhEUgAAAXAAAAAmBAMAAAAvl91SAAAAMFBMVEX///8AAAAAAAAAAAAAAAAA\n",
       "AAAAAAAAAAAAAAAAAAAAAAAAAAAAAAAAAAAAAAAAAAAv3aB7AAAAD3RSTlMAq1RmmUTNIjK7EInv\n",
       "3XZ/CtNrAAAACXBIWXMAAA7EAAAOxAGVKw4bAAAF/0lEQVRYw82ZbYwTRRjH/+223Zf2evdBBYnk\n",
       "ihJMNIHFqkEPjyoeEM+XkiiGoFIhwUAI7BljuAS5Eg0heFwLegmQoGuiRD5oNxB58dScwgcE1PPt\n",
       "C9iwiiHC4VlejoseWGdm273dsgfdo/G6aWY725md3z7zzH+eZwtU8JiSvzDCno+U23CHSsun8v9U\n",
       "khsTRtrRV1duS+GYcT5cHeD3l990ajWBCy4wxEgVgQe08ttKh6sIfIrqovHDVQR+3E3jNqVqwAVX\n",
       "2iZqVQPuSbNTslhXhmnHx2jJdVcNeK3MsNLF+ifOzbwbYjptd94AZ9J/R6XAPWwE2V23FDNxMDI8\n",
       "uPe2Sxr45k2syU8GeBM9vVQpcF+cqpvirtsMVtZgWHD/O+unXwKeXsHUZ5YBvtY2SzcKLtAJbHXZ\n",
       "7RZWThwe/DSR7xN6+NN9CVr7ywAPqNZZumEfX0ZOu1x2+5KVW0rBT2ezDBRBateFPeCNiGZKkoFz\n",
       "xCEDlVucUXJKuOw2yHbERAn4vDPF+kLqIaFcUW5SEUNVvslmj1QOPJTN/qK57MZi4TAx4HqC+7dq\n",
       "gPPLzN8ZXiBXrGZkA3wOsK1y4L4kRMsG7rOUQMxZns8X12YMwuK5mgE+tMK9/azeY6qnboC3MN95\n",
       "ZXkSXsNU0mfH1T2DyYewM8dvtzGE+/Zp1wEn92qxbnOWErjHZJ11CLi7uHEy8LmEMEnlNF0AN+8R\n",
       "HKBlyHzqWs0AF9VgHJyWiaCGaFnHrZ0Q6xDuRgf4HDYOMdTQybl2xE83oG02UbCDszMdoUEisD8X\n",
       "xY5ZlMhyEHiQmp3doD1LDqZ2HvZ7ytxYa2MGuFcnD9eBjIJ2YtY59P4MnJjeBn4WIBevCz7Ztjbt\n",
       "4D7FGEHQpQEI3TaLnyQTCuiQdAN8p3mP8Dlavo1ScCQa2RMBj7LuBXDpXQre3vi7it19/JKJTfVd\n",
       "6osqlNYfex8Dv5sYqPdXJdio47cG2Qoe4IgLchCWyzZwGesOsGDjpAGbgy9mA99BndGfhK+wOIf2\n",
       "Iyk/W9jL9aDUx7GLrd8H6NxJbG7E4137u9FGwVOKNxGI+OTn7tTIfLx2pQnCAE7Bo4WUYMynLcJM\n",
       "v8brVvDgJLI2n0XLqoQV3K/wY9ZR/zVGAJdmjmk4PFMVUYFP9kEaW5DDsHlXbMwfVOep9tCGgq+m\n",
       "078jf/RoDn7ZtDgyzOJAfwr+dEqlX9FRr5MZro3ziihnFP7DHOYLF++yuQpPtxMdGjQreJg4cJDG\n",
       "RMYI0srLR78zLfov0w7Sfsmp15+IF3V8kSXrQdgiSG0FHYeHuf0AuAS4pVu3bi4BPzA9Go2TM/mo\n",
       "ZIoJeEhG75/6QmK3A9H7MD8ft0WHYyk4H4FuB3+ZuvCbhRFQq1gS5IOsJL7AnbiimRvQe51FIwvP\n",
       "3HuzNSaLW8Nafw88REY1R4uDLtJ2SSZT08MsXiOLZ9roY5C7qlziqrC2LgxvxAruIc9xOzC7MAKe\n",
       "B24ySZaykgYKM61b/oLthS3/RH7QmlCzRM+skaUS0AtbkQU8pXBpUZZ08gAZIdlPZJqkK6eRUWv6\n",
       "RE3S38LH3hjSV4FPXSs021SFG1v3hsYc3NjsiA6sMMEfZyUNzQ45Bln8hPy5aa+a8/q5LZEIJRHS\n",
       "x6E1STegI+qpwQ31sfcvYk20F+jq4+v3ItiMpq4uCBcmxxCeOW0FuYzgF7r3yQblKnDvyq/jdjmc\n",
       "dLmTLDhysZU5JiH81lN0hRnsS8CYQed4fPyVMWZlkw18DfH17xVI+7d2XidB7C4nA2os1XEqkqzG\n",
       "RqBCNN5EyTCvIi3CPdfKgGyhjfvUTciVA765FJy9x3lhmPTXkIw68Mbu+Mc1AfwDIwNvGSwH/Fgp\n",
       "eA11h3HO3bhuNwDBxP+RLPOWksqp88upfjeDhCLV80Joj5vGZ53fZHU0jAJ4KOm4mk46xtBfOYIL\n",
       "deIogHOOyd5aOOXw4YQjuJgclffji50ubnFsulpxBK9RpdEA/8jpTcwxp8Us/QBHcP/u6A2Aj/g/\n",
       "IEtmPHQsiDq8ERPZtUr/BzTyY1W5DT8ofvkPavG1RAxkUygAAAAASUVORK5CYII=\n",
       "\" style=\"display:inline;vertical-align:middle;\" /></a><br>(see <a class=\"ProveItLink\" href=\"../../../__pv_it/theorems/37ea204ba3103587fac3ba7b8514c83dc5db30c90/dependencies.ipynb\">dependencies</a>)<br>"
      ],
      "text/plain": [
       "<IPython.core.display.HTML object>"
      ]
     },
     "metadata": {},
     "output_type": "display_data"
    }
   ],
   "source": [
    "%proving bra_in_QmultCodomain"
   ]
  },
  {
   "cell_type": "code",
   "execution_count": null,
   "metadata": {},
   "outputs": [],
   "source": []
  }
 ],
 "metadata": {
  "kernelspec": {
   "display_name": "Python 3",
   "language": "python",
   "name": "python3"
  }
 },
 "nbformat": 4,
 "nbformat_minor": 0
}