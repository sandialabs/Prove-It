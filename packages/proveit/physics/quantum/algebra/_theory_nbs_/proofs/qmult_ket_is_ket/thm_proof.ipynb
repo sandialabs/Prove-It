{
 "cells": [
  {
   "cell_type": "markdown",
   "metadata": {},
   "source": [
    "Proof of <a class=\"ProveItLink\" href=\"../../../../../../_theory_nbs_/theory.ipynb\">proveit</a>.<a class=\"ProveItLink\" href=\"../../../../../_theory_nbs_/theory.ipynb\">physics</a>.<a class=\"ProveItLink\" href=\"../../../../_theory_nbs_/theory.ipynb\">quantum</a>.<a class=\"ProveItLink\" href=\"../../theory.ipynb\">algebra</a>.<a class=\"ProveItLink\" href=\"../../theorems.ipynb#qmult_ket_is_ket\">qmult_ket_is_ket</a> theorem\n",
    "========"
   ]
  },
  {
   "cell_type": "code",
   "execution_count": 1,
   "metadata": {},
   "outputs": [],
   "source": [
    "import proveit\n",
    "theory = proveit.Theory() # the theorem's theory"
   ]
  },
  {
   "cell_type": "code",
   "execution_count": 2,
   "metadata": {},
   "outputs": [
    {
     "data": {
      "text/html": [
       "With these <a href=\"allowed_presumptions.txt\">allowed</a>/<a href=\"disallowed_presumptions.txt\">disallowed</a> theorem/theory presumptions (e.g., to avoid circular dependencies), we begin our proof of<br><strong id=\"qmult_ket_is_ket\">qmult_ket_is_ket:</strong> <a class=\"ProveItLink\" href=\"../../../__pv_it/theorems/a9eacaa50def26d88f2017db9ab3a9381b5656020/expr.ipynb\"><img src=\"data:image/png;base64,iVBORw0KGgoAAAANSUhEUgAAAUwAAAAfBAMAAAB+LemBAAAAMFBMVEX///8AAAAAAAAAAAAAAAAA\n",
       "AAAAAAAAAAAAAAAAAAAAAAAAAAAAAAAAAAAAAAAAAAAv3aB7AAAAD3RSTlMAq1RmmUTNIjK7EInv\n",
       "3XZ/CtNrAAAACXBIWXMAAA7EAAAOxAGVKw4bAAAE5UlEQVRYw9WXbWgcRRjH/3d7d3u7d9neJ0FF\n",
       "Etqioh+6eCq10XiQRisFeyAKxdCeFRRD1bXkS9G2Fz+JprmlGuqqqaOINAi9tS9qicpB6KdWehbF\n",
       "QDnYarTa2HhCS6FF6zOzL7dNE3OUK00ebm72Zif//OaZeZ6ZAVpot9UMXAfTaidaqlfAdbLsjcE0\n",
       "cHYCgeeTVOj3XF1vGKbWgUPgH9eUIkK/ZtgGFzPDq2WtwmxO7W40MDUgmpsFs/9l0pL7oOkCs4e3\n",
       "Pd8qzKbU1EIIM0WlejVmbE1vHYhQzz6BOUDfstkqzKbUYnoIcx+V/VdjvoMEwS+hnvcKzASjEXW0\n",
       "CrMptTRCmHdS2drA/KNW4ys8mkGaRruC5NKMY0oEnGhZCDWldnsY06aSMPxfT50JepXpzU38pS4i\n",
       "/bta7WjrIr0ZtbU+pjqpw9aqiNoeptzX6LUxD/zLF29GYK4B3msdpquW8xbh7N2e9TFT0YqqaxdF\n",
       "DAnMRGgX+4um/gLVUkFgvgKZePs3F8WgeCB+fZJ9can4EEbr8kho4VPymP7KngfTVRNBpEMKVmlI\n",
       "HjjhY74eq0oGKuAJwsVsaA0ct6wPKnyZVgSmwlJ5SHa5A23k5qGbh6FkoFUwBLmOnY2/a+OuimXm\n",
       "wRRqLqbj1slTVj6QF3bEx2RpJyVcP+BhDtbI3ESx7O+lS1fwWUnWBWbUoTEMoWxgkKcrvisITHLr\n",
       "FZh/go97PkyhJvBkcuWjVK8uNuRnYFIkp6A6fr4HRhtafMJLPLXHXW+i0MWbSyQI/AIfU/2QYw52\n",
       "TTIcmJafW97TPsaeYTDkka6DTD5A0zR1ykh1Ofi5Uw9vlkLNxIaMxCbQD3cX8eVnTDoewRZoTGwI\n",
       "h7wZ841n9of5Uo1WXcz9IrweAH6EKhyunBw7XMEOjlkyooVER0zvvcMmZ2z7h+hKhlaI2GkjlYvZ\n",
       "m9Adt2UnjCnUTNW5qGEXlMBBQt6zPQHmY1iFJ90NQWBqgRSW0OM6/iCZLuZrfCI/vXzsWB1xPfAm\n",
       "ysKbwPkS4maJiTkbandEk2woetmQ99axPnnuriuOHkLNlD+ualiJqI4nxBtX3rPPA8xew5by7obg\n",
       "5s1NgRbP7Juxl9ah7WJG+AEFF3jkSy9Y1q4ZmOMPZrN5qunD+HrmTZg662ykgY5n78P6y/kwplAz\n",
       "EXG2UOZO2rjfsqwOT96znQFm8tY9p725djE/GmZeJ4vK8Td+goi84CAXryKS47KzeVMoD6p6hmc4\n",
       "3tSmK2d2CGgkWeP/Bw8mia+SdcQMvBWS93NGMdiFkiJlLW9slk+P1FyV3VTW/UDQ28LnzVgOCcdL\n",
       "9CHMkiGZiq46xFZOFs/zpFhimllmbdOKrTpvYx+dwsxZMCOO86pYmAoLybsm5QJMjflIc5030R3G\n",
       "TBeRdm7B1iJP70fZb5febM99cg7bs1PA2LTc/iVSa9EzNkYhdM8ktO6VL1EzUt860cc7jVkw1dXv\n",
       "0zr/lcLj3ZC8Z7sDzJR/sJsTU5y3AszttKq+N6Aetobn2REHmzi9m27aFH7+zLLyvrxnow1vivjW\n",
       "/wdTMa7tklFqDlOi6Yw7c3jIwTcT+D1IkfwudGQOzdPXdheS2+2mMLmfImxB3ixf9O/pXqW26p4+\n",
       "jsVpQ52LgTKZURYDprjZL3xrY+piwIwfyC5Irv8AOz6V+B5scTAAAAAASUVORK5CYII=\n",
       "\" style=\"display:inline;vertical-align:middle;\" /></a><br>(see <a class=\"ProveItLink\" href=\"../../../__pv_it/theorems/015ab2523ec099d78f50eb9e6e833343213558e30/dependencies.ipynb\">dependencies</a>)<br>"
      ],
      "text/plain": [
       "<IPython.core.display.HTML object>"
      ]
     },
     "metadata": {},
     "output_type": "display_data"
    }
   ],
   "source": [
    "%proving qmult_ket_is_ket"
   ]
  },
  {
   "cell_type": "code",
   "execution_count": null,
   "metadata": {},
   "outputs": [],
   "source": []
  }
 ],
 "metadata": {
  "kernelspec": {
   "display_name": "Python 3",
   "language": "python",
   "name": "python3"
  }
 },
 "nbformat": 4,
 "nbformat_minor": 0
}