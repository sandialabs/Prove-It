{
 "cells": [
  {
   "cell_type": "markdown",
   "metadata": {},
   "source": [
    "Proof of <a class=\"ProveItLink\" href=\"../../../../../../_theory_nbs_/theory.ipynb\">proveit</a>.<a class=\"ProveItLink\" href=\"../../../../../_theory_nbs_/theory.ipynb\">physics</a>.<a class=\"ProveItLink\" href=\"../../../../_theory_nbs_/theory.ipynb\">quantum</a>.<a class=\"ProveItLink\" href=\"../../theory.ipynb\">algebra</a>.<a class=\"ProveItLink\" href=\"../../theorems.ipynb#complex_in_QmultCodomain\">complex_in_QmultCodomain</a> theorem\n",
    "========"
   ]
  },
  {
   "cell_type": "code",
   "execution_count": 1,
   "metadata": {},
   "outputs": [],
   "source": [
    "import proveit\n",
    "theory = proveit.Theory() # the theorem's theory"
   ]
  },
  {
   "cell_type": "code",
   "execution_count": 2,
   "metadata": {},
   "outputs": [
    {
     "data": {
      "text/html": [
       "With these <a href=\"allowed_presumptions.txt\">allowed</a>/<a href=\"disallowed_presumptions.txt\">disallowed</a> theorem/theory presumptions (e.g., to avoid circular dependencies), we begin our proof of<br><strong id=\"complex_in_QmultCodomain\">complex_in_QmultCodomain:</strong> <a class=\"ProveItLink\" href=\"../../../__pv_it/theorems/6e590a44efcd78b5d40ddceba6ef660e2b482f910/expr.ipynb\"><img src=\"data:image/png;base64,iVBORw0KGgoAAAANSUhEUgAAAIYAAAAmBAMAAADzS/5MAAAAMFBMVEX///8AAAAAAAAAAAAAAAAA\n",
       "AAAAAAAAAAAAAAAAAAAAAAAAAAAAAAAAAAAAAAAAAAAv3aB7AAAAD3RSTlMAq1RmmUTNIjK7EInv\n",
       "3XZ/CtNrAAAACXBIWXMAAA7EAAAOxAGVKw4bAAACw0lEQVRIx2NgwA+c8EtzZTEQBCwCBBT0LiBo\n",
       "hhkhBcyELGHgOEXQlkmEFLBtIGjGGkKe0V9AeYjdJhzq7N8JBMcvwmYwzMYvzTgBvxMcQKQNfjP4\n",
       "DfDJMnU5PABS9QoM4CBRxq6qvwCXdplvGxjYvScqANm8DgyuILF07ErtcRjBOq/D5hsDQ0geKNpY\n",
       "EhgaQR7D4W8xHGa8BGaU+w/4du1IAHL4PjCwAc3iVsCu9iCqzrt3E8AMbpCV8RcY2MHhwPSDgRkY\n",
       "bmw47PuNzAl7BWPFg7zA84GBARxcHJ8YGM7evXsahxmfweS+xw0g/yJyOVg52wdY9geq8mBgmIUj\n",
       "/j+ByFoFFpDb2eBxxPQVbMYFGP8fA0Mh1F9QwDdFrg6WTD9B0jsPKBkg/MsNTt08Dkg+5lzAHQDV\n",
       "83BmANfEAiZY6mUFWcgCTe89d4EAHH+MYHf0N8DM+AJ02gOYFS5AYe51DAzWyO7ggcb7SoRLP4LI\n",
       "KQxIZjAk2IEc+PgBHyhlL24FhgOyGesfQDi8iDL0vzvHdmZ4cIDCg2ETKMSvchwA26SujhSmn6F5\n",
       "BuRXvgeIMvT/kQVhC1BirwYYpCwTuBqCQQJWVkiFNsgGYKRwg72ehCTBwOeAGnuMQCU8QKvMZs6c\n",
       "qdARgRRHR0DEbmNI4lo4FWY1R6iJKFIh8xWWy4Gx3w2OuHUga6AgEyW5RM+FpvX7/38jFddMsIKK\n",
       "LYBhAyfIHvYtBQz7YLp8cKQ9xf8fLcoCYMkFFrrsznYL2GeAWKszp8Bj3h5Xkcwk+1ccxuZEKZRX\n",
       "z5wZgKJ0vQIR5Sn+wo6B04EIM+IL8FeEB4gwYxuBWv0rEWYcoswOcO4h5FaeBuQa6zG22peHULgz\n",
       "JyBxGhmwFd3PCLo0GYk9A2t6O07QjLVIEXeLAUuSW0s4CSGVxAzRxlhS02QiYq6CQOyDEjYAVx+p\n",
       "Ixyjs6AAAAAASUVORK5CYII=\n",
       "\" style=\"display:inline;vertical-align:middle;\" /></a><br>(see <a class=\"ProveItLink\" href=\"../../../__pv_it/theorems/e03b5bab6764c266047208e734426729d21ddd610/dependencies.ipynb\">dependencies</a>)<br>"
      ],
      "text/plain": [
       "<IPython.core.display.HTML object>"
      ]
     },
     "metadata": {},
     "output_type": "display_data"
    }
   ],
   "source": [
    "%proving complex_in_QmultCodomain"
   ]
  },
  {
   "cell_type": "code",
   "execution_count": null,
   "metadata": {},
   "outputs": [],
   "source": []
  }
 ],
 "metadata": {
  "kernelspec": {
   "display_name": "Python 3",
   "language": "python",
   "name": "python3"
  }
 },
 "nbformat": 4,
 "nbformat_minor": 0
}