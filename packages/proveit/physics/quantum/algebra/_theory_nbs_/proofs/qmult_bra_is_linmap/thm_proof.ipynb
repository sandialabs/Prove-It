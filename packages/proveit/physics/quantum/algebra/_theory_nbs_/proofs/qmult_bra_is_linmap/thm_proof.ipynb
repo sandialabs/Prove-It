{
 "cells": [
  {
   "cell_type": "markdown",
   "metadata": {},
   "source": [
    "Proof of <a class=\"ProveItLink\" href=\"../../../../../../_theory_nbs_/theory.ipynb\">proveit</a>.<a class=\"ProveItLink\" href=\"../../../../../_theory_nbs_/theory.ipynb\">physics</a>.<a class=\"ProveItLink\" href=\"../../../../_theory_nbs_/theory.ipynb\">quantum</a>.<a class=\"ProveItLink\" href=\"../../theory.ipynb\">algebra</a>.<a class=\"ProveItLink\" href=\"../../theorems.ipynb#qmult_bra_is_linmap\">qmult_bra_is_linmap</a> theorem\n",
    "========"
   ]
  },
  {
   "cell_type": "code",
   "execution_count": 1,
   "metadata": {},
   "outputs": [],
   "source": [
    "import proveit\n",
    "theory = proveit.Theory() # the theorem's theory"
   ]
  },
  {
   "cell_type": "code",
   "execution_count": 2,
   "metadata": {},
   "outputs": [
    {
     "data": {
      "text/html": [
       "With these <a href=\"allowed_presumptions.txt\">allowed</a>/<a href=\"disallowed_presumptions.txt\">disallowed</a> theorem/theory presumptions (e.g., to avoid circular dependencies), we begin our proof of<br><strong id=\"qmult_bra_is_linmap\">qmult_bra_is_linmap:</strong> <a class=\"ProveItLink\" href=\"../../../__pv_it/theorems/2e4944fb82a8a6ec9b5623b29461e5b25d8459b40/expr.ipynb\"><img src=\"data:image/png;base64,iVBORw0KGgoAAAANSUhEUgAAAaIAAAAfBAMAAABXBtRDAAAAMFBMVEX///8AAAAAAAAAAAAAAAAA\n",
       "AAAAAAAAAAAAAAAAAAAAAAAAAAAAAAAAAAAAAAAAAAAv3aB7AAAAD3RSTlMAq1RmmUTNIjK7EInv\n",
       "3XZ/CtNrAAAACXBIWXMAAA7EAAAOxAGVKw4bAAAGAElEQVRYw92Yf2xTVRTHv137+n70x/qHEUHJ\n",
       "FiBoMEpDh9FMsAkOCCZQ/xNEqJqgEhwPQ4xLZJTEECNzaxQkIxCf0RAMCW0gUXHGVKeJCeimgr9w\n",
       "8QkGopNZBbIg4Dz3R/teO7bK0gjsLqdv7/T0vPe599xzzntAFcfkPhNXd4T7vqqqvySu/ohdC0Qq\n",
       "TW0K0MrORzK+7DClXBtExxFI0KGlcE5nXDGCcdnYu2vVqS1YQf+tEEQRdphaLaKxeKvJCoD9oxIp\n",
       "Oz+Vxli/li6jrpY755aosWQrwlFwIaImpn6iWkRj8bYbAqB3VKL7p5+Xxr6Fy/OARwbE4ocB71aA\n",
       "Aa7mRJtYbKarRTQWb/MEUU18NCI9opyXxlvhJ/jaKNdr8R30eQPQACEx+C1yUV8torF4ywkiPTWc\n",
       "KLyr7xuh+8NS3xfGNREEac5mWlzvsdj8vQkELSExeInVX7XMMAZvNUlBtBvDiJRmq6D7xDEGMrSZ\n",
       "bpRrp8ql9UeFUK77vK/vUPVy3ZV782UF0QkKoRSUtTscomeLQOFzjjGwkr79RyjWaVk5DREhRLQQ\n",
       "2FE9ojJvfAJ97pNhg00sA+jlhptn3+wQOSkmlHOMKQRpsQaFYosi9hO8SSFEtA4qoa1fk+KZkYbx\n",
       "wTHrnQupOXg7r+5yzSXN1MB72QpEwltx8CShy5NZxSo5/zPg9sLN1nMihX52Gyj96w6RU982xh1j\n",
       "bOrp7NwpEdcrtozHnBAi0i36uTebqUeI3LRP3EZ5BeEc2qHm8bJzcyG2AL5IBSLubQQifmQXaDT+\n",
       "Ao5KbTDBiXx0yMJr0cwViDQK4b7vRWJIOMaY+ueUKTPjhX0k51jLCyGiGpu2cjsyJtpYrueZkhHR\n",
       "YpUQ/c6zUiUi7m0EIp8pLqDZxiC0XCkRK482wsC+IpHhlIE1LmMecR0y2HRLGik5IawLSs5lmg4q\n",
       "Ynx7SiLjdUbUNvcXCwcG1FXTmuq6rEctmC1f9y+CeoBKaf/PZmCujeONUXcXxL1Fsbm7hIgrWFo6\n",
       "UZhQX7w06owk22gPAYucqCvWXPUM+7Rk1LHiep/s8hVejxTC7BXCiPbzfuIeFgdiVvRjXQdz2MiI\n",
       "OsyapL/eF11+a5ZWcMOlJmiDOAlPNmgG4r7sY5inZFXbTcS8KaY6YbObSCrShWn3pnmIi1m2RWbY\n",
       "zspnHG+kHKKB4h7+eBnQlhDGqKWPJWwNec/wIH3M5y65MKLnWSTtHjp8OA+ROETUZfgaAec6oKQ7\n",
       "LPYv2utsipbahGrq0Yyp7sljqXZ2RkmnyryFEaA/F5FUTJUXMNZePNxTrD4RQUSZwt/8ZMNRVz3y\n",
       "F2r1yp6hI7Mel8a8uK7BHmTY9cKvLTDuiIu8zoQReXixHmS5z/tUZ+crZUTd98ZiCTq2sWXX8kQU\n",
       "jKL/tL2S5qQ7NhtLhxJuIuYtjGfYjnATccUWeQHUmrir8COtVxBR5sGcoWPuCmtMXCaCbrsx7aeP\n",
       "UtIYnSQ9L36L0A+89955aQEL3oSQ4tOE0gtPHKJcDVsjsAzRZkRpgnr5GoWi+m8bLZFfLG+y/GnC\n",
       "Q3t8iptIKhbIC+AR3orJ8Z0gYs2TL1raBSkHC12Qy5jFJ5YcoYWa4fpig5QiEW1Uvy2ro4uow/Sm\n",
       "9ahhE1lGS52jYqP9jV+RsUIDetawX8U+ajDT5UTemyIvZN1EQsE2kSi/lIOai/fSIIhYgxtMVXo+\n",
       "anCfZEv7XS5FIvIVtCehJcUq7CHr5IWX6uJvnUVrrB/oGlDr3kXgATR1dUE7c2cc4Xl3N5MagQ/t\n",
       "msWN5rAnvukXt5Vmb64I02228HumAvuFp9Di6KYAWM0TbgUi3fUmw7Bdj7Zp2fQXiVopVr40YRzs\n",
       "3DZ6p1OsI6M9w3rtsnrEFawu8Quw7Dh5QvHG0gKA0v7pikSuGiW3qkPKaa/8qZztnYpEen0ZEVes\n",
       "GOFnrQiw9woe4Dlxp6nwjyM+lbdeXn1KyhiI1l34D0Qhq4yIKyZdf++Cnh72vs50v76x/o/3dd0Y\n",
       "96O9cZwBaRF9nBHpqfEWdCHLGGdEyoHY9Y7wL11MvLR9QwLmAAAAAElFTkSuQmCC\n",
       "\" style=\"display:inline;vertical-align:middle;\" /></a><br>(see <a class=\"ProveItLink\" href=\"../../../__pv_it/theorems/9f30505b5d45f44236b102bb8efab9d474c0ac270/dependencies.ipynb\">dependencies</a>)<br>"
      ],
      "text/plain": [
       "<IPython.core.display.HTML object>"
      ]
     },
     "metadata": {},
     "output_type": "display_data"
    }
   ],
   "source": [
    "%proving qmult_bra_is_linmap"
   ]
  },
  {
   "cell_type": "code",
   "execution_count": null,
   "metadata": {},
   "outputs": [],
   "source": []
  }
 ],
 "metadata": {
  "kernelspec": {
   "display_name": "Python 3",
   "language": "python",
   "name": "python3"
  }
 },
 "nbformat": 4,
 "nbformat_minor": 0
}