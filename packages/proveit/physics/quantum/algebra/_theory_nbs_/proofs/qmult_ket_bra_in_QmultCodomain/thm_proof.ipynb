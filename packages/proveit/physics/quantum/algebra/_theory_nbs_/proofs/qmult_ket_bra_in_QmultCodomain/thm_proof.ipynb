{
 "cells": [
  {
   "cell_type": "markdown",
   "metadata": {},
   "source": [
    "Proof of <a class=\"ProveItLink\" href=\"../../../../../../_theory_nbs_/theory.ipynb\">proveit</a>.<a class=\"ProveItLink\" href=\"../../../../../_theory_nbs_/theory.ipynb\">physics</a>.<a class=\"ProveItLink\" href=\"../../../../_theory_nbs_/theory.ipynb\">quantum</a>.<a class=\"ProveItLink\" href=\"../../theory.ipynb\">algebra</a>.<a class=\"ProveItLink\" href=\"../../theorems.ipynb#qmult_ket_bra_in_QmultCodomain\">qmult_ket_bra_in_QmultCodomain</a> theorem\n",
    "========"
   ]
  },
  {
   "cell_type": "code",
   "execution_count": 1,
   "metadata": {},
   "outputs": [],
   "source": [
    "import proveit\n",
    "theory = proveit.Theory() # the theorem's theory"
   ]
  },
  {
   "cell_type": "code",
   "execution_count": 2,
   "metadata": {},
   "outputs": [
    {
     "data": {
      "text/html": [
       "With these <a href=\"allowed_presumptions.txt\">allowed</a>/<a href=\"disallowed_presumptions.txt\">disallowed</a> theorem/theory presumptions (e.g., to avoid circular dependencies), we begin our proof of<br><strong id=\"qmult_ket_bra_in_QmultCodomain\">qmult_ket_bra_in_QmultCodomain:</strong> <a class=\"ProveItLink\" href=\"../../../__pv_it/theorems/44bf8ee4c8ae83b2e7939e5005bd8e77d3406cad0/expr.ipynb\"><img src=\"data:image/png;base64,iVBORw0KGgoAAAANSUhEUgAAAaEAAAAmBAMAAACfRDklAAAAMFBMVEX///8AAAAAAAAAAAAAAAAA\n",
       "AAAAAAAAAAAAAAAAAAAAAAAAAAAAAAAAAAAAAAAAAAAv3aB7AAAAD3RSTlMAq1RmmUTNIjK7EInv\n",
       "3XZ/CtNrAAAACXBIWXMAAA7EAAAOxAGVKw4bAAAGs0lEQVRYw82ZfYwTVRDAp9329qPtXqNGTlQo\n",
       "aghGkSoJCaBYFVE4SY4QNSpq40UNJ8qC/AHGaBFFE74umgsWIy4JITEIVyFHAjHxQIyo6J0m/IM2\n",
       "lICI+MddBAROoM6bt59td69nT+1rurt9Oztvfu9jZt4WwLcEi8UkVFOqFiwv90JtRWljx1CxqPPD\n",
       "IIbGq1RbtWBZCcVrJII1nCKqm4f/mWhSrUAgxOuKSPqmZiJ4t66IGnK1E32i1xPRBL12Ir4U64Xo\n",
       "p9qBQDxXR0TSwDAQwQd1RBRop5OGH5PRvMiYFxqIns8voeOddUTUSHFZTUCXWSMbJGK7WdMF4YLH\n",
       "4+M2q+z0esJBRJbc6GNogM7JwYn8NXmUdTQ2t4BBhPYFU/xOJGETwbHyJ8f0vIBDtPsKdh1LOYju\n",
       "ZzXP+xgaamE+VhucyF+TR7mb8pi0SRTBby+/EwMHUUPZZHrs5IqeNIRnnCJnl3YQLXcNcAVDJdb3\n",
       "y6qYdf6aPMrVZFDSJNqO3x38zk1OIiFV8pyKDW27DL9vXUm/+h1EjN4e4ErLo81uxZfIX5NH2Utr\n",
       "GkyicXbvve8kAiOz+C2fT9PFbvyGLwEs4q2fdxAJ2D8Nvgt+Ip7TVRD5a/Iof7HDWIsoZ81wJe0i\n",
       "aqWrR04ZVWFy+j1geEHpD6ev+y6f/9aXKJrP/5yrxtf5avIop9mhmcxWjichp/ZCkBpTsX/eQYYL\n",
       "OhF9Su6vzXwsSjILrQ3FaSfRgwAbfA0NZUDGrYdRk/IWLNGUcsqHPKI961wagC6IBLuVpDpguIYY\n",
       "PSu1zskREWXotn+awNwVvGjpuewkWgQiWrNkQcbonJsvaIG9GYeheBtnq0x5O8AdljEzDpDbtQW5\n",
       "Jqu0O44gWAss+NF6uK7JDKdE9CMRvRHqFTToBu4056BkhoWOdiK6lYgs3Z8T237X5LWIZD3SAkKu\n",
       "MwExAke5kOYKnBuYTtkIF3Ree00HTFXQmkNOQdLkQURn6WgWBaIpeMCUCZ9lxy+JSI8WIjSmzGky\n",
       "LPw1hVUwonWsbnUeCykczRqSzlttnXESBQuIvhY6NVjN7/bpe9ypwG3MMRDJYiDaEM4vqaCcA6nb\n",
       "KUiavIgYxHQaenUgYkUXPkacCNPwCCgFY+CPUf8VWAUjmsfqPrZ09zG75FRlIkhPA94J041V16y7\n",
       "iRqEAiMKH4UpsYyYMiO41A+hlEuQNCVh5RcuIgGkBUmWgKlG4rHf7jHnrIMZ2GOqbkTpLWzthTMQ\n",
       "4p5hvDvodp7RVml3QeV1BDvIg0y2ppB6viRdi4xlkxO2N+oFOYEmKtxWod2cp6Yg0xTWxBErXUSP\n",
       "wqKlaTbGZhf3ZWzPQL5uIyeaiZPsYTNKyxoG3hAoTdx7TybLrPROOnJxVrjN7TJtoleZMVuKBw/2\n",
       "GwnV/hIikYVBGV4ZDwUhg5lbmPpaWXjxYI9bkGlScfpHXEQFjDI5lhnONWQ/s2eLwjqXXDOaPU/L\n",
       "CS1mlGZu6rkTK2a3cKJmEn/GtkyH4yUu0yYKUJedA8GIaXv6SmYdNBERjBITaOsqEOZns7i1b9Qc\n",
       "bz1IkGlS2dRxE4kJpJJyMCmbzaK1ke2OPRH13hpOJF278Vd7bqEPF45cyhkRls+fTR2maW/Nvcfh\n",
       "haSz5buJcC8EeNdF9GiqwiYBiQ4J+stsiUs83j4JcFW5YACtv8FFFFchmGAeZZXRYw6vC/NpfWS4\n",
       "2VLCkdCxxOs+M2cQjfT1iQ95FhQrFtGI1ab5wYFyIlzjDehYUGwWqAOViUapYo4WEY+j6EheKhcU\n",
       "muJv5lxEty+XmmkRydQaLnXHJHiInklxIpXq1/M7LL07YBKFSnczi0cXr3z7WfNXpLecKJqBaGGk\n",
       "tE+ZfRg2/ZmsSLR55k5sFQd7Gc1TbO77gF4mOPZih9t7Bxd+jc/8gh3Nks/NeV0Z3WrvJkyILmMv\n",
       "YSV0mPhK/SZRhdx/zJEfrLApx8uJXsP5ghJBz62pzMMRnZXd2Q4Q0fFcP6JcUCiUxqNp5q+t2WxL\n",
       "SQOdCSPQdPEAbvt41KP2mkTrq9gJV96VP+5LhBEcnhpsVy4nSonYC0KvfTWPktg7J603D+ZFHETu\n",
       "5k+COsiG82nNkyjpS8SsGjkYUUwvJTrM7PR4oyF0D8e7oF3/5M2JaMWBat+caI4jKF5/LJwdDqJ9\n",
       "9fQGctcwAKnd9UQUzQxFeu3UijoS9UQkpIcgLMXlStUn6uq/CWgdgqxccUDFr+qLaJtWvWxMr+Rh\n",
       "tiWGQvTv/w8rtlUvG945sULte5RcVfk/7H9Rltb4vOLOQ/4Gi7rcUiw4bL4AAAAASUVORK5CYII=\n",
       "\" style=\"display:inline;vertical-align:middle;\" /></a><br>(see <a class=\"ProveItLink\" href=\"../../../__pv_it/theorems/c86eb96bda5ce946947430123198c6230c64d76b0/dependencies.ipynb\">dependencies</a>)<br>"
      ],
      "text/plain": [
       "<IPython.core.display.HTML object>"
      ]
     },
     "metadata": {},
     "output_type": "display_data"
    }
   ],
   "source": [
    "%proving qmult_ket_bra_in_QmultCodomain"
   ]
  },
  {
   "cell_type": "code",
   "execution_count": null,
   "metadata": {},
   "outputs": [],
   "source": []
  }
 ],
 "metadata": {
  "kernelspec": {
   "display_name": "Python 3",
   "language": "python",
   "name": "python3"
  }
 },
 "nbformat": 4,
 "nbformat_minor": 0
}