{
 "cells": [
  {
   "cell_type": "markdown",
   "metadata": {},
   "source": [
    "Proof of <a class=\"ProveItLink\" href=\"../../../../../../_theory_nbs_/theory.ipynb\">proveit</a>.<a class=\"ProveItLink\" href=\"../../../../../_theory_nbs_/theory.ipynb\">physics</a>.<a class=\"ProveItLink\" href=\"../../../../_theory_nbs_/theory.ipynb\">quantum</a>.<a class=\"ProveItLink\" href=\"../../theory.ipynb\">algebra</a>.<a class=\"ProveItLink\" href=\"../../theorems.ipynb#qmult_of_complex\">qmult_of_complex</a> theorem\n",
    "========"
   ]
  },
  {
   "cell_type": "code",
   "execution_count": 1,
   "metadata": {},
   "outputs": [],
   "source": [
    "import proveit\n",
    "theory = proveit.Theory() # the theorem's theory"
   ]
  },
  {
   "cell_type": "code",
   "execution_count": 2,
   "metadata": {},
   "outputs": [
    {
     "data": {
      "text/html": [
       "With these <a href=\"allowed_presumptions.txt\">allowed</a>/<a href=\"disallowed_presumptions.txt\">disallowed</a> theorem/theory presumptions (e.g., to avoid circular dependencies), we begin our proof of<br><strong id=\"qmult_of_complex\">qmult_of_complex:</strong> <a class=\"ProveItLink\" href=\"../../../__pv_it/theorems/c1d599af7d097f9dbd982abf383e93bd611ab0320/expr.ipynb\"><img src=\"data:image/png;base64,iVBORw0KGgoAAAANSUhEUgAAAHsAAAAVBAMAAACUF4xmAAAAMFBMVEX///8AAAAAAAAAAAAAAAAA\n",
       "AAAAAAAAAAAAAAAAAAAAAAAAAAAAAAAAAAAAAAAAAAAv3aB7AAAAD3RSTlMAq1RmmUTNIjK7EInv\n",
       "3XZ/CtNrAAAACXBIWXMAAA7EAAAOxAGVKw4bAAABuklEQVQ4y4WUv0vDQBTHv7ax6Y/0x18gAcEO\n",
       "LgXFoYIIVRBcCi5OUnAQnepupQ6CIEKEgkZBAk6loFV0EksXJxFEEAQNRDoIguDs5LtL0p9HcpDc\n",
       "4/vuk5f37t0BXqOInzc2J8yy0Os9EipubSuWF7hX6EkxY1SMj8MTT2SAeWasCelowRvHBrBDk6wJ\n",
       "cSnjg08CIYOcqhBX4IMrBoIUIiROfcwPDxH7ZJqPYnzRwRut8iBOImJU9wXgRIyv2nhJlTSOSyYf\n",
       "fK+YiCDVdhNyqns3KiPbjvli4+9QrIHoTESgCUQM1xf+1PPRw2Lg1FnywHHpT5A7FxH+BQKWW7k5\n",
       "6szYBTDdgyuaAOcihik6CjPM37JYE+F8l9qg5+cvLRfvyp2LCDzT65qaB6/hZpUp6XQnxBnHk/TV\n",
       "fH90LiLI/mGLPidp0fIS07PZzporO3cNsYGN4yKkOplDlLJC7ild19W95c6aA7vydxPfg23DRMRd\n",
       "NUlnd5+3F5Uu6ojxsk/Xldrtl0c9YrDTc1NEwxGDsz54zjXk3IwhHzOrtl5p3yxH3njfQa3peu+q\n",
       "qjce8bmtZAv39l33IcK/gH/QtHq0ZYF3kQAAAABJRU5ErkJggg==\n",
       "\" style=\"display:inline;vertical-align:middle;\" /></a><br>(see <a class=\"ProveItLink\" href=\"../../../__pv_it/theorems/773c6fc3e045f543345a2cab8c7fd9ff0d4d71740/dependencies.ipynb\">dependencies</a>)<br>"
      ],
      "text/plain": [
       "<IPython.core.display.HTML object>"
      ]
     },
     "metadata": {},
     "output_type": "display_data"
    }
   ],
   "source": [
    "%proving qmult_of_complex"
   ]
  },
  {
   "cell_type": "code",
   "execution_count": null,
   "metadata": {},
   "outputs": [],
   "source": []
  }
 ],
 "metadata": {
  "kernelspec": {
   "display_name": "Python 3",
   "language": "python",
   "name": "python3"
  }
 },
 "nbformat": 4,
 "nbformat_minor": 0
}