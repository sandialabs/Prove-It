{
 "cells": [
  {
   "cell_type": "markdown",
   "metadata": {},
   "source": [
    "Proof of <a class=\"ProveItLink\" href=\"../../../../../../_theory_nbs_/theory.ipynb\">proveit</a>.<a class=\"ProveItLink\" href=\"../../../../../_theory_nbs_/theory.ipynb\">physics</a>.<a class=\"ProveItLink\" href=\"../../../../_theory_nbs_/theory.ipynb\">quantum</a>.<a class=\"ProveItLink\" href=\"../../theory.ipynb\">algebra</a>.<a class=\"ProveItLink\" href=\"../../theorems.ipynb#qmult_complex_ket_closure\">qmult_complex_ket_closure</a> theorem\n",
    "========"
   ]
  },
  {
   "cell_type": "code",
   "execution_count": 1,
   "metadata": {},
   "outputs": [],
   "source": [
    "import proveit\n",
    "theory = proveit.Theory() # the theorem's theory"
   ]
  },
  {
   "cell_type": "code",
   "execution_count": 2,
   "metadata": {},
   "outputs": [
    {
     "data": {
      "text/html": [
       "With these <a href=\"allowed_presumptions.txt\">allowed</a>/<a href=\"disallowed_presumptions.txt\">disallowed</a> theorem/theory presumptions (e.g., to avoid circular dependencies), we begin our proof of<br><strong id=\"qmult_complex_ket_closure\">qmult_complex_ket_closure:</strong> <a class=\"ProveItLink\" href=\"../../../__pv_it/theorems/cd1995cac60ac5ffa64d3ce59a7fdba9efe47d3b0/expr.ipynb\"><img src=\"data:image/png;base64,iVBORw0KGgoAAAANSUhEUgAAAaQAAAAlBAMAAAD/+YDPAAAAMFBMVEX///8AAAAAAAAAAAAAAAAA\n",
       "AAAAAAAAAAAAAAAAAAAAAAAAAAAAAAAAAAAAAAAAAAAv3aB7AAAAD3RSTlMAq1RmmUTNIjK7EInv\n",
       "3XZ/CtNrAAAACXBIWXMAAA7EAAAOxAGVKw4bAAAGQUlEQVRYw+2Zf2wTVRzAv12vvetdORZj/IXK\n",
       "gAVMVLikSGSY2ciGCn/QxJioIE5NNBKFgxAMQaCYYIwCK0IiBYFTEyIhYRU0IE2WGmL8NbRKUPxR\n",
       "cjgUFbJUhUyLOL/f9+6ud+3a8UenjOxld0dfv33f93nfX+8dAFXapL4/YIi12X2Fqt+PgSHYPhlG\n",
       "GkYaRhpySL7c14PKoua+/K+RgoNuoMgliyTSTbc+2E+Q7G/6bfqljfQDeVGD9eFduzcUBwiYlX4z\n",
       "z4VUT49xlZB89KjTaoVUTZnT6lJ4uxk8SCp2R/HZXWbRGb/hfamhakWkVno8WQlJiNFc9FohVVPm\n",
       "tJ14yW1eJAWvLI1hlAi3rPkc71cBzC8irSbURCUkidZ1Wc0cr5oyp03HS9C8SHvw2ouXP+qVDUXh\n",
       "GXzgVnRyEYm4lYaKsTTfGqs2SNWUOS2DVxi8SDfZK2sFv7ot95U1w4/RJ3GrGjYcJL9WOXDHcKm2\n",
       "miFVU+aEEqkbX4KUsv3/cfYxsMBxQPk8Vjz8SVArZrzDudynlZHCudz3qdplvCrK7CaQuln0r87u\n",
       "OCHJJzVIqVmeNt5mMkuLIRU4BzASE6FSX0S6B2BLZSQhDiGjdkhcmRUQQv9immWMFQ1CgpCUuoys\n",
       "qQWeH6ZASYZR83iuQ/v524pIi0Csd28rNt240oWE3y2iVPmRk1d3Hz6oLDzgz8o7YFnWtbj4054D\n",
       "qQGQuDKWIDTwO1G15Ok4NwK2EdRLW5vvIGwS0vNC1q9ThFG+vIXJFENBuv6vZLKL/DVTRAoZSsz6\n",
       "+kQyJm/Q67a6S+0W8uZp8u8AR7kEbAA4A5IJq0ByIY0gEwj1AyBxZQzJ5E8a0p/qaIAR1izC9PwA\n",
       "16hgxZIRNhVmWcqX7Wyi6L+5b3jk3XnF2LFnqS9fRKoz7YBtQddVMF1OcyNNxCWRTLkXpAyX4EjY\n",
       "OjxIZ1iqGgiJKyMUEY1xt6V0PXTosBa8SOGEnR4mGQrIJneTuSwluOoAOp1ErxMCLitBWzPVsm6T\n",
       "FeA317h2UoQU9Jt8DYQoMAmOtCtPSId6ZgLs6xGfaGwdnTYeNUBfduT0TFg+Gad1+oSuNJvquH2e\n",
       "DRFTloB59X7jGCwBa0ha/BbwOl6HaSPNgMWgGjyCbmWdrqXEKuvvpcXKupD2Uu05KmV2UceECSV7\n",
       "PGU8ZQd/ghyDScC2dPo1EBlSL2bbYIOgzZ2QwkVecaGVun6CUfAhKFEh9RhMnwMrPUhMWUI2Cyq8\n",
       "AiGwhoSpzK959SSU7ZjGEDbGkO6FJrjfqtFTmUxPcY7/oIvm+QyLSM+htwgJOX4fdTQ1lSCJ75Ol\n",
       "F/7dhRsPJsGtJDOkDIyMtUMg0W4wv1k/2mRdz8JGdCXxrTw82H6X4UEiZZAQ38iqcDttHvmQO/u6\n",
       "uvKWGGVjytWY7hSWxGGunvLHrBo9iw/lJBaqssGMHGe530HyxbkDT0kmkw0vPlC6E7+GbiN1Sp9M\n",
       "wosU1u6IRGLIg38G+ifrUjuPwyO4cIcitwV2nPMgkTJ0PJ+5GMunlLKGhF6WhHmSIq9ah1c68it3\n",
       "PGnU9lM8Adm2lK99yLYpGif85zqdZRfP4QKnDC+zNcL0IJcfLh4GuNKSKLcSm8FaWcPlzbKuI7Dd\n",
       "WGWwJPSSVUk8hwvy4iZRA0G3hgxkwefs3o7R9OPu3YPEjNJIPmNFUeA9viGCEE5cuIARvaL0vBSM\n",
       "QYqVVPEdHTrLkTB2F4BVdF1IvejbIU020UQdUvwcFh2pAL/IBThuhlKyuRH2NFLAlCP5THM5CyQ+\n",
       "JKaeoHMUmuzZnhKSyoRe9Wxn+9vsepDE6c2GuJlV0qc2xcuRsNJ+5uMSu7sOqgsPvH5Wnh0Vu5vR\n",
       "g9M94uj9oMyC1nQaE+rEKJyMvGBiNyidZmP3/v6Q5JatOLkfUTFTGo5jWb3O9iXdmr+DpIB93qh4\n",
       "KGC5o/xUuzuZjPV/qhVxCW+4uh+JskbVa8BTbYKXJVaf2JCYFX1f2KcyVnV2eazEtjWam7S0sXUY\n",
       "nIO6lL84JL9R+di90lpE1n52XjARVsXD6KnBe/ew6PzFIdHC+2q0H/4f3xA57/GstZZr/R7v0PDb\n",
       "VhYp3anLDWk1JC43pM2Xn+N9C8YQRyr7v9o5Ee0SB5rdV/gXIbPhTYGxoo8AAAAASUVORK5CYII=\n",
       "\" style=\"display:inline;vertical-align:middle;\" /></a><br>(see <a class=\"ProveItLink\" href=\"../../../__pv_it/theorems/8cdf6099688baf6a816ef093f7c55f80b43ab4100/dependencies.ipynb\">dependencies</a>)<br>"
      ],
      "text/plain": [
       "<IPython.core.display.HTML object>"
      ]
     },
     "metadata": {},
     "output_type": "display_data"
    }
   ],
   "source": [
    "%proving qmult_complex_ket_closure"
   ]
  },
  {
   "cell_type": "code",
   "execution_count": null,
   "metadata": {},
   "outputs": [],
   "source": []
  }
 ],
 "metadata": {
  "kernelspec": {
   "display_name": "Python 3",
   "language": "python",
   "name": "python3"
  }
 },
 "nbformat": 4,
 "nbformat_minor": 0
}