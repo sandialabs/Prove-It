{
 "cells": [
  {
   "cell_type": "markdown",
   "metadata": {},
   "source": [
    "Proof of <a class=\"ProveItLink\" href=\"../../../../../../_theory_nbs_/theory.ipynb\">proveit</a>.<a class=\"ProveItLink\" href=\"../../../../../_theory_nbs_/theory.ipynb\">physics</a>.<a class=\"ProveItLink\" href=\"../../../../_theory_nbs_/theory.ipynb\">quantum</a>.<a class=\"ProveItLink\" href=\"../../theory.ipynb\">algebra</a>.<a class=\"ProveItLink\" href=\"../../theorems.ipynb#num_ket_neq\">num_ket_neq</a> theorem\n",
    "========"
   ]
  },
  {
   "cell_type": "code",
   "execution_count": 1,
   "metadata": {},
   "outputs": [],
   "source": [
    "import proveit\n",
    "theory = proveit.Theory() # the theorem's theory"
   ]
  },
  {
   "cell_type": "code",
   "execution_count": 2,
   "metadata": {},
   "outputs": [
    {
     "data": {
      "text/html": [
       "With these <a href=\"allowed_presumptions.txt\">allowed</a>/<a href=\"disallowed_presumptions.txt\">disallowed</a> theorem/theory presumptions (e.g., to avoid circular dependencies), we begin our proof of<br><strong id=\"num_ket_neq\">num_ket_neq:</strong> <a class=\"ProveItLink\" href=\"../../../__pv_it/theorems/e53b9c08c177991d8026b0f199fe8d71cca512360/expr.ipynb\"><img src=\"data:image/png;base64,iVBORw0KGgoAAAANSUhEUgAAAYQAAAAZCAMAAAAG7KnIAAAARVBMVEX///8AAAAAAAAAAAAAAAAA\n",
       "AAAAAAAAAAAAAAAAAAAAAAAAAAAAAAAAAAAAAAAAAAAAAAAAAAAAAAAAAAAAAAAAAAAAAAAeYafp\n",
       "AAAAFnRSTlMAq1RmmUTNIjK7EInv3Xbt5cnn9enzas/lfgAAAAlwSFlzAAAOxAAADsQBlSsOGwAA\n",
       "BO9JREFUaN7tWoly4zYM5X2K3Ha31f9/akmJt0FKidWmOxPOOJPIfDCIh4twEHpmYeecRN/ro8sH\n",
       "u5GnhIlve352UfpNwrhkejVLfULEFV5+k7DIDzE5WN490zdYYKb+PsBBPPcNCbg8JvRNEh4S9aWL\n",
       "2N6KSgfjEnaJUxqNJBi9uSQUwntaSWDl84R8k4SHRH3lMmJwZX88cJfAztkzXGTjg3hhCgkq+6/U\n",
       "76ajh0R95WIUzCf2qoFRGAEk7GSFp6zWhEyIJe+S8JCor1wbnNQvvUpLgAS+myV+M4WEXJzfK62i\n",
       "rfO/bZUmAibhKr9yjAAS7LbGC1q7o83FtdkHuqNHRH1lNrKdFY33uK3X89NLiASBI/Bom0C8xZUE\n",
       "dtQUbe7paVckDKIuOjtqH2yilGX9Cdi8VZ8eNflmtmIQsdFFaUXscDr381f8icfuaKeIEHlKgPBU\n",
       "VBIkzj9uOcuKhEGUy0enzgNmywnY+oWfGWsxXjmIoaJzrJKmu7+cGh0V0ilPEM4dXtbayvj9QEhw\n",
       "sktOkDrfhPBkay5r0XPt9EOkY/FNuuFrEqaittp4e6w1bxIwDbbgekk6c7GX4BQKauW96xM6SEJ7\n",
       "IDzq9KJmcuVoSAO1P0NFGG1ywtlG1aR9Ss/2hgTiwVqazUUwsqZcCdckTETJvdiUqaEKbvHBPi18\n",
       "O49wFSTrSVIgHyQBy0GnGQmJ/sui8FJ1T7gT7WEBPG8jIZiNvoZmkUDCm+woBpYx5sKLz8cWVZTx\n",
       "rHSqVCN55BxPx1ZEHr62TZtaak4SEFZIis+R0KqCuB10mqaj+MC2hqaMhsBjQ0346++zMgw1wYRM\n",
       "xne1wCfFEwmWpA6/2VXNRRTh0ueKvI6EKipsrFbBXhKzyXCTf6lL6iDBLUu0dWdp85SbOQnczUhI\n",
       "qjAd14/woo1OHcb3JMidN42+oTxW2QFTbkdDJNBwsEiEn+KpbkmQKd83uxpzERXSEeH3SMiikDEh\n",
       "cEqYx7FYcAre2FoJVUnY/KrxcWGLOfo9uogEJLwBSehUKc6VdQKaxkIC3dsrrzTHEGPvjQ4Mhg44\n",
       "FjEa1Om8ID41xPl2hU9lml2NuQIJwfRe3yIhi2obvuBQKbdRcTijjsdPPc+ZjvbFHVuO3bPSecmO\n",
       "BCL8rCYUVYpzFZ16unsSsO6HP9iXTL4IhBMeD4k8Ox0DxDvekVCLVt7VmCuSYGw2s70goa2pTdyF\n",
       "XCFjM9+OEfGdwoxkoF2uLqyZBLnNC/MhP6ajP/7UZzoqOkGdbCYhB2j29qgrY138QBX3pT8E8dIh\n",
       "mISyqzFXJAFx4m/cmF/vAcae1AYfs8OVMJUM77tr/wEwtokDpRQzN0hYdEf5StJ0ilUnYKgWrYjJ\n",
       "kdbb0dDRUDlF1DoQXkkA8WlY+EJCs6uai/LGbz9AwoFQse+JOuCjaZbNyLcMaqxvjKxiRVK1+G17\n",
       "XItkZcVu/QUJRfl6qqoTYK5gRRUyZG6W0oD79BXfFSYKziM4OCDv8WWoN5LQ7CrmUu7sgz9MQsrD\n",
       "ZLgAx3TAAaM9Nn0DSMgl4SKcS82IVmS+tOJ+3rs5c4MEEF8Gr6uvNxtz3R7gNX/zlAL4NJNw99+Q\n",
       "UFS5Nd6VkSffR8jC/8Dx2AAH8b7E+r/3HTPLKWbxCcI/yYESBCahqIIIR//D9SAJn/m/I/Xglz9y\n",
       "9Mnf4xtW79xG/wEhsykTmG2aLQAAAABJRU5ErkJggg==\n",
       "\" style=\"display:inline;vertical-align:middle;\" /></a><br>(see <a class=\"ProveItLink\" href=\"../../../__pv_it/theorems/4cf55b4704bf53c261a2741898fba24852e4bd4d0/dependencies.ipynb\">dependencies</a>)<br>"
      ],
      "text/plain": [
       "<IPython.core.display.HTML object>"
      ]
     },
     "metadata": {},
     "output_type": "display_data"
    },
    {
     "name": "stdout",
     "output_type": "stream",
     "text": [
      "num_ket_neq may now be readily provable (assuming required theorems are usable).  Simply execute \"%qed\".\n"
     ]
    }
   ],
   "source": [
    "%proving num_ket_neq"
   ]
  },
  {
   "cell_type": "code",
   "execution_count": null,
   "metadata": {},
   "outputs": [],
   "source": []
  }
 ],
 "metadata": {
  "kernelspec": {
   "display_name": "Python 3",
   "language": "python",
   "name": "python3"
  }
 },
 "nbformat": 4,
 "nbformat_minor": 0
}