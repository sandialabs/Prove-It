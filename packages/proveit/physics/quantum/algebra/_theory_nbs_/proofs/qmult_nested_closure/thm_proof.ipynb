{
 "cells": [
  {
   "cell_type": "markdown",
   "metadata": {},
   "source": [
    "Proof of <a class=\"ProveItLink\" href=\"../../../../../../_theory_nbs_/theory.ipynb\">proveit</a>.<a class=\"ProveItLink\" href=\"../../../../../_theory_nbs_/theory.ipynb\">physics</a>.<a class=\"ProveItLink\" href=\"../../../../_theory_nbs_/theory.ipynb\">quantum</a>.<a class=\"ProveItLink\" href=\"../../theory.ipynb\">algebra</a>.<a class=\"ProveItLink\" href=\"../../theorems.ipynb#qmult_nested_closure\">qmult_nested_closure</a> theorem\n",
    "========"
   ]
  },
  {
   "cell_type": "code",
   "execution_count": 1,
   "metadata": {},
   "outputs": [],
   "source": [
    "import proveit\n",
    "theory = proveit.Theory() # the theorem's theory"
   ]
  },
  {
   "cell_type": "code",
   "execution_count": 2,
   "metadata": {},
   "outputs": [
    {
     "data": {
      "text/html": [
       "With these <a href=\"allowed_presumptions.txt\">allowed</a>/<a href=\"disallowed_presumptions.txt\">disallowed</a> theorem/theory presumptions (e.g., to avoid circular dependencies), we begin our proof of<br><strong id=\"qmult_nested_closure\">qmult_nested_closure:</strong> <a class=\"ProveItLink\" href=\"../../../__pv_it/theorems/e0a2dbec4a7c8a6524202c8bd888f770979cc5350/expr.ipynb\"><img src=\"data:image/png;base64,iVBORw0KGgoAAAANSUhEUgAAAKoAAAAmBAMAAACmKh0SAAAAMFBMVEX///8AAAAAAAAAAAAAAAAA\n",
       "AAAAAAAAAAAAAAAAAAAAAAAAAAAAAAAAAAAAAAAAAAAv3aB7AAAAD3RSTlMAq1RmmUTNIjK7EInv\n",
       "3XZ/CtNrAAAACXBIWXMAAA7EAAAOxAGVKw4bAAADX0lEQVRIx5WXXUgUQRzA/97d3seerlJPPt1J\n",
       "PdSTgtBDn3dQIgUlCGEYeAUSKdEWEkSRJ5ElmYkmpFFu0UuUKIWFRGURJERePfWBhweGpBWZmpql\n",
       "1+zM7exuO+fNDtzszux/fzPz/9wD4GuuIKegWAP8LcwteUnhFnVG+EXzuEWb+TcAbdyStTaUdY93\n",
       "B45FG1QXrwpy+mxQPfOcgpdtqBXgGqdcvtp9/5AaSfFoGrk63G/mpM6oXT85H/IxfxlbbN1tSb3U\n",
       "BwGrds3KUO+8TnVPMakFMeQmdQOrsBVCsEO9Hsrg2FM6tZBJ3fflbCwCQskkdoIINKinal2ZmhXR\n",
       "qeF5BlVCgJ5l+Hq3EY+mwI3M68+QOrLzKNV/akGnTsTjJJIH0E9YAjhGvHsBnEVIVxmMldtHqWek\n",
       "aUrdO5l6LuAgiaFDEzMgkTfx+OtM1CJKDTlmNKqH5rxsvOpRmgyRSClAFx6k9/T6oEYVgt4/GtUt\n",
       "a88L8fgIlV9WdeHBahOHdMz4UsgUWpTqAs9PSqXPn2H+SzpGC/sUIuRH2oCW/A7UV0adc8iUdPNV\n",
       "ZRp1Ynv4t0ZtjqOGvSegjr0LlDqLLJYgi1YMo62UYhsiNW2LOp42WfYqJgCWNOodSvmhHtYXMlIh\n",
       "shXfJg4AjOG7RmKg/V0WqgtdRjRqDqX0zsoX5S1g1Cvcx7aUoAREEg03VLMGHbvpXus1HygnpiZU\n",
       "KUEjevTvTqHGnDZOY2NVwDcQ8NugKjhXMei1N0GonkF06ZY1fz2ocxT4bEiwKiAL57VdjwOK83Bn\n",
       "Zxs2IRSYYgurrF/snlNgfbJWo97s0NY9Vx42BLH3F41kdM6ol6T8wMZbYKrq7lY9D2B3SSEqr5OI\n",
       "zUkm+wwVU69HSGO5wVQ4uD4+qpNNlWiQTaXteCC5+nw1ffxWe+85iHuq4SRWhnhhbcIUac7FDFSk\n",
       "sdF3dCO+/8qhONCJoqApNiw7jfVPnM5ItaYNa5WciLWbJq6o3RNat0ZWplbJfHWLt76R9pBTrrfM\n",
       "DvUFp5w/YgMqDVqq6Rj7K2WIOduyiVmPLPWqAdiFcQOzoOf5WNPjlpmraU7lZjmLj/kJ43llmfqU\n",
       "ps6I71nfdIrImO2xFuzKYrYHwwnGasKDYoZku53Pxyjvvw3VCf8BOLDgai4BiLAAAAAASUVORK5C\n",
       "YII=\n",
       "\" style=\"display:inline;vertical-align:middle;\" /></a><br>(see <a class=\"ProveItLink\" href=\"../../../__pv_it/theorems/b3f1572ec44f67baff97e970bd63a3a44df8139a0/dependencies.ipynb\">dependencies</a>)<br>"
      ],
      "text/plain": [
       "<IPython.core.display.HTML object>"
      ]
     },
     "metadata": {},
     "output_type": "display_data"
    }
   ],
   "source": [
    "%proving qmult_nested_closure"
   ]
  },
  {
   "cell_type": "code",
   "execution_count": null,
   "metadata": {},
   "outputs": [],
   "source": []
  }
 ],
 "metadata": {
  "kernelspec": {
   "display_name": "Python 3",
   "language": "python",
   "name": "python3"
  }
 },
 "nbformat": 4,
 "nbformat_minor": 0
}