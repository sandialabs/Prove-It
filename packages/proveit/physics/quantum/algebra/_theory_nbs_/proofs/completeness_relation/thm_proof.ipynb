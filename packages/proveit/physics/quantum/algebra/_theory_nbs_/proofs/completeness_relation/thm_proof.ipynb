{
 "cells": [
  {
   "cell_type": "markdown",
   "metadata": {},
   "source": [
    "Proof of <a class=\"ProveItLink\" href=\"../../../../../../_theory_nbs_/theory.ipynb\">proveit</a>.<a class=\"ProveItLink\" href=\"../../../../../_theory_nbs_/theory.ipynb\">physics</a>.<a class=\"ProveItLink\" href=\"../../../../_theory_nbs_/theory.ipynb\">quantum</a>.<a class=\"ProveItLink\" href=\"../../theory.ipynb\">algebra</a>.<a class=\"ProveItLink\" href=\"../../theorems.ipynb#completeness_relation\">completeness_relation</a> theorem\n",
    "========"
   ]
  },
  {
   "cell_type": "code",
   "execution_count": 1,
   "metadata": {},
   "outputs": [],
   "source": [
    "import proveit\n",
    "theory = proveit.Theory() # the theorem's theory"
   ]
  },
  {
   "cell_type": "code",
   "execution_count": 2,
   "metadata": {},
   "outputs": [
    {
     "data": {
      "text/html": [
       "With these <a href=\"allowed_presumptions.txt\">allowed</a>/<a href=\"disallowed_presumptions.txt\">disallowed</a> theorem/theory presumptions (e.g., to avoid circular dependencies), we begin our proof of<br><strong id=\"completeness_relation\">completeness_relation:</strong> <a class=\"ProveItLink\" href=\"../../../__pv_it/theorems/1baf5cdad9ff9031ce66c8012d2e6b89711d82e90/expr.ipynb\"><img src=\"data:image/png;base64,iVBORw0KGgoAAAANSUhEUgAAAoYAAAAzBAMAAAD4PNSlAAAAMFBMVEX///8AAAAAAAAAAAAAAAAA\n",
       "AAAAAAAAAAAAAAAAAAAAAAAAAAAAAAAAAAAAAAAAAAAv3aB7AAAAD3RSTlMAq1RmmUTNIjK7EInv\n",
       "3XZ/CtNrAAAACXBIWXMAAA7EAAAOxAGVKw4bAAAKaElEQVR42u2bfYwT1xHA5/xxu2uffY4qJUBV\n",
       "YQlKpCSNLA7StLQXt3A9mgjiplIrei1Y/NEopwo2ElKLSjg3UvtHuGCrEQpGSlhaRJqj4hyupQqX\n",
       "ElP+QGpo6kipiJKcsnwkCEiuJ5UUEpS4M+9jv7y++HT29SD3pLe7nnn7dvfnee/NzNoATSyRoSGj\n",
       "ec1me+GPMTQ01NReY9VqunnNZnvRqtUCwN7qR81lmGlms9lfggXafm2O4RzDzzvDNtoEUnMMp8Ew\n",
       "RPt2fY7hNBiqCdxsnRvL05oP+7EenmM4LYZdWLNzDKfFsGNs7O3SHMNpMQzlQDPmGE6LoZKAR6d6\n",
       "DRElrkhB2isM1bTy+0ytdtw/xaveLvbx2edj74E/T/UaBb6kl+URK0t5AOsVeM/iD57EzQvWxy3j\n",
       "l1kC4aU3Yf/xHMDBU6Mv1MwvwQxs+VkOAiX3lzMrGN499SWF0whkXVw0L0OtPkN2vIQOds7fBYF+\n",
       "UE8z83wEgHwtuAVgvvei+yBYGk7SjffNOobtQbMpDEO6B1xIr8+wVzAMrcbNADb8gKTRARNKguF9\n",
       "3ov2wE4Y1mEQ79iYbQyjS/CW4ue398rpxj60i1voZGhplLRgON57XrcFzrPsXrYIhufow61Yh2l0\n",
       "RwPXLIZFUEZ6IL5oBKLdJu0qKM8DrMJmydnGUDmOmwtthY3is+PQLm4hZxhkDG1NgTOM6/PbkzWG\n",
       "B+62ZK4/wRmQNXmdXCwCHoU1nOGtXReT0Fbq0PtgO2yElbhTshzVv/DLS/swZHPAoqYxbCSP4EA9\n",
       "D2tKM3OwlY0ROgzf3eNuzvQehr/J0ZF95iIOJwjPqvDQ+UzNExUcvdDdtV+CMLtJ+hI7OcNYQtih\n",
       "8iwoupbKf9tQJ2Ad7sJ40QPVU6cmAMIFH4bshh9uGsNG8ghec+3UQf2KIQ87YBhq9B6G6i0GO7LO\n",
       "3CEN7CpAOTIhBK6zrF5URBXYBMFHisXfwpdoTmRjGZT/yLE8kIHLH5jhvR8GT3Qtx10gwXom41f9\n",
       "GP6KhlShaQwbySN4GQ6CDjFDHio0dXv1wZ6lJacdxhPsyDqzVzBUywro5Pj01jC0eqH1ZhtHibMc\n",
       "Gudf2dSMS0lBMOw0Yynt0hNwD9oh0A4V4Qq0peuMZVpoXBPlNOfDBvIIboZK+Qh6XUgiUuKHsAu9\n",
       "NPzENkIYuMjmdfeaYp1Jcxu212BbNIsutJYRAtHLQdmW9/K8WFP2MAynIXwalBJNQm1l+CVfl/Vh\n",
       "Iza+GDt8Cg7RDs8KpaEdnYi46cMwSLNDE9eUBvIIHjtc2zduEAn1b/wQI0AYTKonYVBXT0rhPCVb\n",
       "uy7LMyGeobM1CL177BLAaimgDnAzmJRtWS/vCoZbc9zHHsXuypEHb6Me72I+9m6Ir7x30+Jzf4Ho\n",
       "MZN2T+PCk4MOcwFout+6/I+xsVeayLCBPILf8k0kAvzwKAVU1sgQwkp8ueHvH9KZGmso/MOoYQqB\n",
       "LEnZlvUifezIi8VdDT4Yetbb0U5f05kR1zJcLay6SQzr5BGikzNU38fx/yPud1c/wdnH6oILI4nA\n",
       "iNMOcXaSUR+duZ41FAw3VytCIErYEG1ZL2FTximNF9tl7/Vl+CiF/jIc5KHjW8aR67lvwvMTyjPu\n",
       "WH388o7PYlgnjxBqwI10eERBP6HT8dvkcgEXsIaaV2B35mjbhl+PunGK1nHUDpz9GGpGNGOFgyyG\n",
       "1BIQL2N0o0zAk44nZzb2rc8cpJ48wmMPZILHG2NIZdm94+lJn0ZYhJoEx8zErVbxCmrOYiaC9RdT\n",
       "HWERz97DMGDikiLDQRZDcoZ4govh+zjXiXdxkzJ05BHUM8VMIHEU7m+YYWT5CTh5A+YPs91ghYMs\n",
       "hmQMI3uJ4WD3eQNGxpWfLu5ZOGq0LwBFeab7TwaFk3D5jI4qOLsi5YLjyCOswpUv0B2CUnTVmlU9\n",
       "fgwVVjfjujb29j+rVUM5lIWP3TeqOO0LZMSiOhswM9MbMd9WMTzcDzIc5DGk9tboi2UYIIZ5PZBt\n",
       "T4ZSP769hFaqvPN6BkXxLIWT0XSohKrlJcV0wWF5BDYk4wQ38PgPzVJdOzzL6gbm+0X6qia0meGy\n",
       "+0bPQtRht7vF3uHGo5qWkPWTPu761jLcRqEFDwd5DMnH8jCzQ4AP8xgk5g0WPahnPmUiCieHdcVA\n",
       "1e4rd7jhUB6BD0nmBwRyR79clyGtYlijV0SaroJuWCidc94nqR0MF4v9YRdD+rbitUF6dO9HC2Ty\n",
       "J9VShm3snlk4yGNIN8MT3+jqygxSrEQzap6JKJzcgCeRal0144YzDzmyIfl9zjAUL9RjeEDUzUJy\n",
       "G1p/7HEXwwPgYhgT+4qLIYuO+msfstNu1t/69yk8HOQxZI0dAq0tg5FUGz0DiSicHDDYJKoawWwt\n",
       "HDYk7ykWi8lALlLK1vMPV4o68Hf++RB8D+Ijrvtc6WYowlJn2ErqZcCrp+Rtb39Z6xmKcHCPh2Fe\n",
       "Dxa0VMREcMNqrjODvl/eiBconNRKERNVZ9O282XDYUNyB7dDeMisF6eURQ3W/w1f2c1QpEe0nJth\n",
       "h8Grp/zbPtNH22yGIhykGDLy0ivGe9efWJjefwW2d10GGB1XFmLo+ACE+kZLkF96noWTKCZVYO0K\n",
       "vRYOG5IsXkGvNJ6ow5AitgCz4oX13gmQ2slQpOkOgJthe4pXT9lrH7anWs5QhIMNxJCDjQTCbEgq\n",
       "tIg++bB41+PTLFTiFeCP1+pFWSUGKTK+YAdfRu5kW/TBLBExjCZ49ZT/OkgnWs6w8ZJvPJlwsFjM\n",
       "TNbMth71kzpdkhohheCMuQbgObmoUDJKioghzcl8Xl4zRuU1Psl/6nje7OxhqCwsNe19SizJK5aX\n",
       "60R4pEZIX4X7jC8AHBM/uAujUVkiYhgo8+rxba7ZiYBa7f/RDpv4TqojwyvZ21X/tqRGSDn4jgxQ\n",
       "aEwSSEtEDCnhTNVjxBN2IqBWe9MxjEo7fM6XIcCrDrdceMyv2gwpuAnXWFpnwUoE+GhbxnDnihlk\n",
       "6BjL66TymDz4fdYxliF8FYZgfUK874qQTorYWK7w6p4PN5hWIkBoZ4KhmtBmkKFm8oqz7Js1Wdnx\n",
       "imwSzUR2tZUB/dGPZaD8NNgitqYU5BM5y8s5mQjw07aKoZabybFseyTttdflhsOaZALX9pfDSeV3\n",
       "FRko3wm2iBjaXpKzvGMlAvy0rWIYMyIzyFCt8ArwlExxrk+4GZIa7XCtuXgpN8qKCJttETGMZWqv\n",
       "Hplf/aJMBLTmDx3+DMMjXTPIEN4QNS5WlO00Nr+LYXYxJSewNxxxyvAfZKBsvc1FEakfA15ri3gv\n",
       "XEd746/LVqrgBzK5woar0w5JbTFcEpLvJq1fFaCI1DJ54RPo8ERAHe1NwJCIYJUryl1ZscQ4GKLa\n",
       "YrjvghUo99siVBPSOj/WEIkApXCzMqS8OdbYHUNDQz//9XvVFI1N91hGtTPncE7su105B/Fd+BWR\n",
       "CND0m5UhPSHWB6uiGDQ23XaI6rhj0ZZLjuPdGKov4O7CpNe8ADcKw6839OfuyZrtkw+rHLluwqwu\n",
       "kaFDBfoP+MXmMvx8/gf8f3u4hhDqZRL1AAAAAElFTkSuQmCC\n",
       "\" style=\"display:inline;vertical-align:middle;\" /></a><br>(see <a class=\"ProveItLink\" href=\"../../../__pv_it/theorems/639207f15097cb21d6997149f7fa147f0f21ed050/dependencies.ipynb\">dependencies</a>)<br>"
      ],
      "text/plain": [
       "<IPython.core.display.HTML object>"
      ]
     },
     "metadata": {},
     "output_type": "display_data"
    }
   ],
   "source": [
    "%proving completeness_relation"
   ]
  },
  {
   "cell_type": "code",
   "execution_count": null,
   "metadata": {},
   "outputs": [],
   "source": []
  }
 ],
 "metadata": {
  "kernelspec": {
   "display_name": "Python 3",
   "language": "python",
   "name": "python3"
  }
 },
 "nbformat": 4,
 "nbformat_minor": 0
}