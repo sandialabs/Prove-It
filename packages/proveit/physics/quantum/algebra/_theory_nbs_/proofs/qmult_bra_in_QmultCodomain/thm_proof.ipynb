{
 "cells": [
  {
   "cell_type": "markdown",
   "metadata": {},
   "source": [
    "Proof of <a class=\"ProveItLink\" href=\"../../../../../../_theory_nbs_/theory.ipynb\">proveit</a>.<a class=\"ProveItLink\" href=\"../../../../../_theory_nbs_/theory.ipynb\">physics</a>.<a class=\"ProveItLink\" href=\"../../../../_theory_nbs_/theory.ipynb\">quantum</a>.<a class=\"ProveItLink\" href=\"../../theory.ipynb\">algebra</a>.<a class=\"ProveItLink\" href=\"../../theorems.ipynb#qmult_bra_in_QmultCodomain\">qmult_bra_in_QmultCodomain</a> theorem\n",
    "========"
   ]
  },
  {
   "cell_type": "code",
   "execution_count": 1,
   "metadata": {},
   "outputs": [],
   "source": [
    "import proveit\n",
    "theory = proveit.Theory() # the theorem's theory"
   ]
  },
  {
   "cell_type": "code",
   "execution_count": 2,
   "metadata": {},
   "outputs": [
    {
     "data": {
      "text/html": [
       "With these <a href=\"allowed_presumptions.txt\">allowed</a>/<a href=\"disallowed_presumptions.txt\">disallowed</a> theorem/theory presumptions (e.g., to avoid circular dependencies), we begin our proof of<br><strong id=\"qmult_bra_in_QmultCodomain\">qmult_bra_in_QmultCodomain:</strong> <a class=\"ProveItLink\" href=\"../../../__pv_it/theorems/cc40f40d7824ecc16f731454dedf327ed17b869c0/expr.ipynb\"><img src=\"data:image/png;base64,iVBORw0KGgoAAAANSUhEUgAAAXwAAAAmBAMAAAA1qz3cAAAAMFBMVEX///8AAAAAAAAAAAAAAAAA\n",
       "AAAAAAAAAAAAAAAAAAAAAAAAAAAAAAAAAAAAAAAAAAAv3aB7AAAAD3RSTlMAq1RmmUTNIjK7EInv\n",
       "3XZ/CtNrAAAACXBIWXMAAA7EAAAOxAGVKw4bAAAF3klEQVRYw82Zf2wTVRzAv/15vWt79A8VJJIV\n",
       "IZroHzRUDbo5GueEBH+MREkI6iokGIiZhzFGEmUlGkJwrBVcwjTomRgiCdgL0wHOmOowEpk6/zAx\n",
       "Ls1ORxZhbilsZcoY9b1376533bVbb43rS/Pe+u173/e5977f7/u+G0AFy6rcuMWRj5TVm9tJmqdy\n",
       "1ytJD8utDnQGyut/UFTaH6oD/4Ey+zsC1YTvKRvjUDXhu6VyR5wQqwh/lWjRWaoDf6DsEcxk9eB7\n",
       "LMS/D6oH35ZAFZ+OAcRUkQCjvxVb+Aiu66oHf1EIVd4mRJZQRV+Qj1mxH4jIqGkNKvjEB1ZUDN+K\n",
       "urhA8b3Bkvj2O65JwGx4F/fyRxT8Rty8WDF8K+rWAsX3Qyl814f7664BPN2C45QzquDvBf2mzRvf\n",
       "irrbVPyVJfEvoWRnUOa/PIPJ+YyC7xb1mzZvfCvqvlHxj5jgX0qnyUKDFy9Kcz8wxD7t/yj4DuQ3\n",
       "7sq5rhV1UxSfi87E33RZFTVjm/FlcFTCwfYqjTw/ptMXKhh5LKgbp/g8evT9iPhfUcNndmq9iFZ3\n",
       "Rs2Zxyn+eoD3K4hvVOfU1QAR80B+leL7SRfPto2Shu8WtLCTJd/71e83Kf4uYk2vvhQDu5I5cV8N\n",
       "iN1TsYfheIY5aiDhx85Is+HvosapFFZXA6zWiB87D3Cveuiq+BsRZAxsAIk8vqbJS9IEX8RgcQif\n",
       "FdFIh5QMgh95T/vtHcAGgE9BOzAZOJgn8eOVLX2vwPhEXRF80uIZajmE/KsaELMUHwVdL8BDeAtU\n",
       "/LY0KiSQ2UivuHYuT1B8u4wesR2SArShJV6PZyH4aBsM+H8DpOixVAqfqCuC7xSUGTwyNwmeVOHq\n",
       "D6H9BZCBkzX845om/gqu34NCfIjWk+cCeBSwBorPfYTx2+ovitA1xmxf2VjTI74ggsAcrf9cZLrQ\n",
       "So38IXjrZfizNmRIGoi6EOzrNeATAU5XhhTkDDgjhfjHsIW6YuDMu27+IONy6zynHZrpa7YPp4h3\n",
       "P4h3kyP7xA70nE1BK8aPC/aoO+gMPXu3hPbmzelGfMTzUZvkE7wRp7QVGlwSIxvwsTqXwCzep8en\n",
       "ggSdARwJYqqKI6iRhxXAGXICtyQfOHk5f7/NnRM3icZwhfHfwAZxLNfXlwFXSFt9SJLVB8jGwZWI\n",
       "i/hPaK+RiYgR2FBSYD7NwGbPxD3GlA2r45ERe/X4VLCCzsC9fKPvZ21db1J8HDq2D7/1RJMu7m/V\n",
       "vV8APlIQrjC+jbjDJDii4NjR2XmoAL+3LhxuQi36iHjTsQhGRuVmtIa94fthc67JgI/V8fAKNmM9\n",
       "PhG8Q2eARYLuen5OPXWRaTgGpyX9sfVxh7rgnmfuu1V3R8gaEmZXP9hQzJVMVx+wC7dxoQCeAYv8\n",
       "IfZyK3kY8IiO6IyE2YYc8E49PhWsozPAcwC3aCg7VPxTqG0oSBq2HKVJw2BuSnept1834CNHcsv0\n",
       "xNHhxwVHgg1xMmJOemJZHNPjIp9Iiv4xVuLkw/CZPQKJGfiOJYG3JT2+IsCGr5xpKEq0aPiPq/i7\n",
       "UXu+WMrGLM9dWfOautPefgO+LwY+eSnsjuFj64I4PHWgJvLJBOwJjwD0jDE1p8G7ARp7epDrrr4I\n",
       "fMOaFiQG79ey/claYeZ15a4bHcbASQQ8RiSmiiB/sqlmsVak+G5lQ4vm+8umF2sROWDA34N2/BcB\n",
       "uLOdHbNkBm1zuW055IK4TwT4G5kBB6tlGkoySPFRJ75/ltuW/oZm5bIYnws+GyzAJ4LnzYexOKB4\n",
       "8V03AIxyrP4Fo9+VpGgWrOEzNdIc8P1iAT4RLC3yyi9V/iJ2/y9XdUZX48Br/sI4W/5U31bRa6ru\n",
       "skfwKXP89toFwPfFSrzDGjIzVl/QFN8TYBcAP3/wzSx7weziP2z+hpmNLYTxwLbiPx0xjR/fm+P7\n",
       "RW4h8E8KRX/63czhTwbN8V1d4XngW/7flu5GXli2hEMzhYdJXen/bVkvr5fVm9Ny3P8AmXfOg3Yg\n",
       "dUAAAAAASUVORK5CYII=\n",
       "\" style=\"display:inline;vertical-align:middle;\" /></a><br>(see <a class=\"ProveItLink\" href=\"../../../__pv_it/theorems/5af7b7613e539a925f548617e15f6325189f2d110/dependencies.ipynb\">dependencies</a>)<br>"
      ],
      "text/plain": [
       "<IPython.core.display.HTML object>"
      ]
     },
     "metadata": {},
     "output_type": "display_data"
    }
   ],
   "source": [
    "%proving qmult_bra_in_QmultCodomain"
   ]
  },
  {
   "cell_type": "code",
   "execution_count": null,
   "metadata": {},
   "outputs": [],
   "source": []
  }
 ],
 "metadata": {
  "kernelspec": {
   "display_name": "Python 3",
   "language": "python",
   "name": "python3"
  }
 },
 "nbformat": 4,
 "nbformat_minor": 0
}