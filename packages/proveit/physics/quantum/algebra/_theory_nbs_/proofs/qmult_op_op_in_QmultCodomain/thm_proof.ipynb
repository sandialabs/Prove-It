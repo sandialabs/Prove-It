{
 "cells": [
  {
   "cell_type": "markdown",
   "metadata": {},
   "source": [
    "Proof of <a class=\"ProveItLink\" href=\"../../../../../../_theory_nbs_/theory.ipynb\">proveit</a>.<a class=\"ProveItLink\" href=\"../../../../../_theory_nbs_/theory.ipynb\">physics</a>.<a class=\"ProveItLink\" href=\"../../../../_theory_nbs_/theory.ipynb\">quantum</a>.<a class=\"ProveItLink\" href=\"../../theory.ipynb\">algebra</a>.<a class=\"ProveItLink\" href=\"../../theorems.ipynb#qmult_op_op_in_QmultCodomain\">qmult_op_op_in_QmultCodomain</a> theorem\n",
    "========"
   ]
  },
  {
   "cell_type": "code",
   "execution_count": 1,
   "metadata": {},
   "outputs": [],
   "source": [
    "import proveit\n",
    "theory = proveit.Theory() # the theorem's theory"
   ]
  },
  {
   "cell_type": "code",
   "execution_count": 2,
   "metadata": {},
   "outputs": [
    {
     "data": {
      "text/html": [
       "With these <a href=\"allowed_presumptions.txt\">allowed</a>/<a href=\"disallowed_presumptions.txt\">disallowed</a> theorem/theory presumptions (e.g., to avoid circular dependencies), we begin our proof of<br><strong id=\"qmult_op_op_in_QmultCodomain\">qmult_op_op_in_QmultCodomain:</strong> <a class=\"ProveItLink\" href=\"../../../__pv_it/theorems/891eddebfbe7a26f970d184843eef44efbab1f1f0/expr.ipynb\"><img src=\"data:image/png;base64,iVBORw0KGgoAAAANSUhEUgAAAkwAAAAmBAMAAADEutnlAAAAMFBMVEX///8AAAAAAAAAAAAAAAAA\n",
       "AAAAAAAAAAAAAAAAAAAAAAAAAAAAAAAAAAAAAAAAAAAv3aB7AAAAD3RSTlMAq1RmmUTNIjK7EInv\n",
       "3XZ/CtNrAAAACXBIWXMAAA7EAAAOxAGVKw4bAAAIUklEQVRo3uWaf4wU9RXA3+3P2dm9uSHRKsbm\n",
       "1mjsDzVse0ogobgKinpp2NofQc6EU9M0WgJrYkhsSXf9Ty12jwqBVfGGaE0IkdsWE2DP6nmg8Qea\n",
       "a4O2Jbmw5vpHW+vdYYUTLnX7vu99Z3ZmdoTJNJNidwI7s/Od7/u+95n3fe99v3sAoR6RZjMHF8IR\n",
       "ywbp9YIhPlc3z4asXUSHC+O4KVAv5Tif3+4QTNHBYP2+1VmYthjB+qWyHYXppwH7qW93EqZI4Bh8\n",
       "Uydh6q4F7VkqdhCmihG0Z6rWQZgW8qnY3pI8X4oc6yBM/6JPjdPWJntLvPFFfZJ5+vyEMZEdV4aI\n",
       "KdwB/FWJc3S6hr9tZDcZPrngKzsBpjyUvvx0DSKP54ngMcZ0izj9JERM4Q7gr7icpeQ+KNdPfDMz\n",
       "BNBbhkRb2Io/++iy05Ds30rOdytjekR41lCImMIdwNfRRYBivLqM9XKIKqGzrMtDNO9++u9I9EQD\n",
       "frCBAM4wJkEznQ0RU7gD+DoyNPEz/OXAq2U634inGxtWeNZ2TX5AF2nxStdNaPWDBHdRmTBFkXEi\n",
       "zBAe7gC+jh7K6ldzZG7M8Dvrxf/r0bHu45m2wZx868RFZhaSnH0qWc50705OvhNqpgt1AH+YaLr1\n",
       "85yDRTz53gLY/Wc8/5bTnxWiSNfErFk+jOQY020AT4WKKdQB/JXS5D/sNndChXxLOTP9Id1ZDI4c\n",
       "EzlFmCYsxA3G9KDpXmFhsgZw5ZQYx40d3LTUpcTX3KI0Pr0la0TX85H20lFrFeGE6Y90nYcS9dSw\n",
       "SLhWeMq1dNvaaElT8ZDJOyYsYkoZ6QLAQ+vLECHM3zhT7HoN49bL7wH8cxU/u/fdenrjweiEOgwP\n",
       "T7QUQVnTH/3yfJh4AEwfb9Ktxz4dvZ2CaIqzkNnUMvtqHDlagMjwDrj8UrA0Yc11U4L1fGQ9vvAb\n",
       "PEywTF1H479OdLat7KW0m8LyOv2ZYEi+hZFh8i+kD3lTpWxhyjOmSAMDbLQ2koVukgZHICZeTRpX\n",
       "1X/D868WbgfYioqC0oASKDZMExArn3tfUGCiAYTAT7iImQBtzIVJNOGTyodVVCH2zUkMG/xK6TVJ\n",
       "TQZMTCxBl6rBzS9OgKp7mDDg9CbCtA8NJwt6hKDP8eJuek9WxaKdFJ/bwI0JBpfjgDBShC3cMGPU\n",
       "qec8RHGs2G3iC2ESAc2OCXXNSDvPuVgRA+Cx5j3mkpflng2TaMInV9I7HIWvAxWl2tm0YdOEC0Hd\n",
       "lKBL1dK1SBliBQ8TrMrRNunQ6G56SZWc9Jzr5Bs3d5iaq5QD0ZaRZmyC3z0A7HsrZZXRz+JXwxIw\n",
       "i3nCtGdWYDo8fQeklzc23bvye/P1xGWQTO5a/pKR3I+Gaa9cAvunQbtyvwMTDwCNe1h8Fl7MuTCJ\n",
       "Jh00up08a6l9pA42Tbj40k0JulStJLTt9jLBqtZKJPhZkfdznMWQJIKviIi0lB6Ztrg80Txi/Mhw\n",
       "ZkmBaTPNcnz6fekkn0nhUwXLG3eNjj4DScI0hwXIvbAiPv5zZQySJ44VoFLUBrtqmSK8BP2JbCw3\n",
       "AL9wYOIBNK77Uez1l4ITEzXpsKdV3iUppM6UbZpAJC8xsQRdqnbIWs66TYiYwWmEVmci828W41KQ\n",
       "Xo/M3jCsOiHRKoBV0PKuLCkwdQllXmgePTorY/0RudXyusRvepNKmMagZ80s3KWcFZcYTj4Xnn4q\n",
       "WUzl1Dn4WQXiQ5WbDQcmGgDW8LSF74B6kQsTNenwffYEMWKcELyct2ki7+mmBF2qdlh83OVlQtwM\n",
       "OJy3ngDY03wAMwMubGFhc8GC+wkNk1UXrjXXyT+8/mL7VlXBsZEyB1GZFOszbGVMjBK9v1r9tQtT\n",
       "pu9w3w14xn+qcPUtQtePPm7EUcllfX2F+PApj42U/tFekosWlgpOTNSkw+JqtZrlLTTql94n92ZJ\n",
       "E1BMTCxBZ9UUeuYKLxMUE1OCLrrLnvslMgzFD8nFyonmPHa1wCwy7JjiEyIy0pswZNHQLVxVqXl7\n",
       "kwjlythzXSIsCG/qzqX+IaKKSK+Py5LNgQmrmBLpOY4J2lkQcJMOXFqI8FImC+sg/Zo0aU06lqCz\n",
       "ajG8q8BjXiZYky5GQbt9kWtbENu4XdE8uWRTwfz6e8e2HI6WaICKI9+BGYYuRsiYp9yY5jAGPAn7\n",
       "hCvNPtpTwOqxYmhDI0b3NDwN+3DqNa6SBByYcEb1ZFEsslSPOScdNaH9KfHikmdWlFMFEcJjBmYs\n",
       "myZaA/YKTFKCzqqVti2B7RTCXSZQB7mRwl65wwvTwx7p+av/vsT6stWBKVOGTOMyZVz97nHYfTqn\n",
       "jEN0+ACJESruPVrXNh7c/am6Op+cWl6D9CuNB+cxZNdiA6M1qHz7r6CtWLJB3IbRabhq6kAbpthr\n",
       "oK7+MYpdPD96e9aBiZuE/Tvx+/N3HjqxU5j0/KSh9t4HLU1SmO8FTSlBJ9XUW67ZdaYs2twmUAcZ\n",
       "lLli2+OFaYefjU8LE+amrj8UIWLZZ8X9Q9Xt55G0xf8mb8S+G98qCORs2lutms4+0N5FWJltFd+6\n",
       "XbV4rd0EG5ZtcnOgXUGteG7b4nNee+Fr2y78/G7hH9Pac2Kyh4xiWxesyOOGHZP9WOUxROvessCL\n",
       "0vSgF6Zc28X5j2RvzTemnF9MUHd3wVUeROGLMKWNtiGiVhiGkULgHb3s//qXFf7tJyWDw1LXjFDd\n",
       "j8sb1aL3821b2nYJ6cGgBnCt1yl/Q/Bm0I7jfjEpU7UvP6bFAc3UBv1iegSGvvyYErlgZm4u+sW0\n",
       "8/9h0ql/CmSmyjuefjAd94iO/jFdKH97uckIYmaKlPf1t5cDfReGof/dkSwHMfM35sV/AHrmh37E\n",
       "NeknAAAAAElFTkSuQmCC\n",
       "\" style=\"display:inline;vertical-align:middle;\" /></a><br>(see <a class=\"ProveItLink\" href=\"../../../__pv_it/theorems/33fb6a3bf0c2160f080d92171374724c91a604e60/dependencies.ipynb\">dependencies</a>)<br>"
      ],
      "text/plain": [
       "<IPython.core.display.HTML object>"
      ]
     },
     "metadata": {},
     "output_type": "display_data"
    }
   ],
   "source": [
    "%proving qmult_op_op_in_QmultCodomain"
   ]
  },
  {
   "cell_type": "code",
   "execution_count": null,
   "metadata": {},
   "outputs": [],
   "source": []
  }
 ],
 "metadata": {
  "kernelspec": {
   "display_name": "Python 3",
   "language": "python",
   "name": "python3"
  }
 },
 "nbformat": 4,
 "nbformat_minor": 0
}