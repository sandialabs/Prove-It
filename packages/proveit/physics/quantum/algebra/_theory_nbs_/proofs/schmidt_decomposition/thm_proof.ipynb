{
 "cells": [
  {
   "cell_type": "markdown",
   "metadata": {},
   "source": [
    "Proof of <a class=\"ProveItLink\" href=\"../../../../../../_theory_nbs_/theory.ipynb\">proveit</a>.<a class=\"ProveItLink\" href=\"../../../../../_theory_nbs_/theory.ipynb\">physics</a>.<a class=\"ProveItLink\" href=\"../../../../_theory_nbs_/theory.ipynb\">quantum</a>.<a class=\"ProveItLink\" href=\"../../theory.ipynb\">algebra</a>.<a class=\"ProveItLink\" href=\"../../theorems.ipynb#schmidt_decomposition\">schmidt_decomposition</a> theorem\n",
    "========"
   ]
  },
  {
   "cell_type": "code",
   "execution_count": 1,
   "metadata": {},
   "outputs": [],
   "source": [
    "import proveit\n",
    "theory = proveit.Theory() # the theorem's theory"
   ]
  },
  {
   "cell_type": "code",
   "execution_count": 2,
   "metadata": {},
   "outputs": [
    {
     "data": {
      "text/html": [
       "With these <a href=\"allowed_presumptions.txt\">allowed</a>/<a href=\"disallowed_presumptions.txt\">disallowed</a> theorem/theory presumptions (e.g., to avoid circular dependencies), we begin our proof of<br><strong id=\"schmidt_decomposition\">schmidt_decomposition:</strong> <a class=\"ProveItLink\" href=\"../../../__pv_it/theorems/53fe1aa583290cc0b6d721417fac48bf1561129f0/expr.ipynb\"><img src=\"data:image/png;base64,iVBORw0KGgoAAAANSUhEUgAAAmAAAACKCAMAAAA69QYvAAAAP1BMVEX///8AAAAAAAAAAAAAAAAA\n",
       "AAAAAAAAAAAAAAAAAAAAAAAAAAAAAAAAAAAAAAAAAAAAAAAAAAAAAAAAAAAAAADFBd4eAAAAFHRS\n",
       "TlMAq1RmmUTNIjK7EInv3XZAMCClfKNH1GoAAAAJcEhZcwAADsQAAA7EAZUrDhsAABOeSURBVHja\n",
       "7Z2LloMqsoYVUG7KnJnt+z/r4S4gqDEmO+kUa3VrsFTUTyiQH7ruhYEtNvQdhJ8Ls3v2rz0JWyTW\n",
       "YYDb/XvBPHjcvxwwWsSsmRnC8BD+PmVvB4zE3GykcP8BsNsBYyELoxxuPwB2P2DdKNxSIrj9ANgL\n",
       "AMPe9Rrh7gNgrwCsm2YTJgl3HwB7CWCEmf9cwN0HwF4CGO3DPw1bwR48EQDsacBs5iVda8Vak7Se\n",
       "Ga44/oqTXlG1f55TRhB+BDCkoou/Aqby30z1nGsIBe/1ERCXHSYIYzIgyZyFUFJKt1dqNGAE3t2P\n",
       "A6bpwqoAjLq8i3hzQjxGUlhLLDWW2ngaOs8Pk6tDVxjN8Fx/HDCJQmOYAWxQ2h/Dops1K9R5YSp8\n",
       "RRKYubJUH4azTuiMj1gUhbQsUilzo551FBpAfh0wOoXmfG6Kum4RpoTkKGRpImZsiKJ4AJ0xmdxr\n",
       "tu6atpdU86XpKo0UHqCG+tuAmXwmAkYFmi0w2ETaL+BD/AyOBQ6wCA2l0jmVdua9yyZtaalKIyTh\n",
       "K/qvA7ZWKC1uyrpgMrpWeOQ2oI6xgdWrjcZ2dKg1jSAAYLZYG4wLRnH08tlaD/T+eye2gDFlSklb\n",
       "WDaMIABgPgdTxp1ava+1mZ86Z16WTVzDwGwpSRFrG0EAwCxVhHDvNylfHeSxzBNSl5dkWwRKl8s5\n",
       "qFpGEAAwBxTKf2tijA+229Na6UoBU+DPA2AnAAu1wOGRQk4MCtojALBTgAWuegAGALsVsGIr8AWA\n",
       "3QsYBADsJYCBIPfvhF2B7b8HGAhy/0wmtSew/fcA28ST2YUJqPtDReEHARaCAjkbAAaAQQDAIABg\n",
       "ABgABoBBAMAgAGCH8Sg0U7wcsFzei0MPa7dCDvc4tnhsu9/EJBHp8nUBtb+uqD8M2PtysGzcKDbl\n",
       "K9VBpTJB8LHF0Tkbu8o+X6aBEqXU2tFXyGkWpifd5OUNOmKSUvYnNKGuebshVSZfBth/lv/7cMDQ\n",
       "mK/ww134owQdbeZFUmKSovy4czo/Nq93jYyuN3CM6O1qfzjqmtHFtPXMg7wXsH8AsFOAEXrECqGX\n",
       "AQu7bgCL8mPqb5daNcWSLrbPeAHYcY5hh5hs6pnj8G1fAtjVIlJIrOTGpB5bfU33LI8B2+xOSbH7\n",
       "rkXrnI1UhV1LwNbuur2PEUt8+zQaC9sCxs2JqMQWI4WcX6lPq+Ivw2hTz3x5XMAv88GELgu2JvXY\n",
       "Kl+7lhlgeMxXeH13nq/uWzTO2UyV33WYs+UqP+7mQO9EVsA6MmeAjRgrK17ujCc2UVvcGS9r1JEE\n",
       "+19W997UM+t18lcBSz92ExKcbpqMIxZjB6TI7ifxdf8jwNjI8hXeVU+fDInN60nZHzSb76Uq7Doq\n",
       "kSxX+XEXlfBLClg392UORrkp+qjJmLC+yQQJc6/Nwbj/NZiUNPXMfvufzsHsDdVXbEas6BiaxTZ2\n",
       "MoXFqf2PAGO976UdV3j99IlUk9eTwuQRYM1UhV3RqJLlKj/u+jn4YigFjC64LCLpYstGqWZlYFn0\n",
       "Tzy5nlHuF7LX1ZYqs18ATCz2FRTm4a6ArbF0L3/KLMsxn7aFWXzifoXXT5/48LyelH0vn++lyu9K\n",
       "/TX5ZUIsW5ylTJx89/h4AVhnXP9Z531cCSZswc/8C+B/2T3aUuW/W0RmOZBxVga8PmEh89jOVt5t\n",
       "bO1ftCzrSOec/M3pvT9kj11auKSkFvm/yk5FqoKzVTr5iXeAbQPFMLsRhdb2iX5aI3wtkmqS9Y6z\n",
       "UpYVbkvLTsRfltG2VFmpXwBsIBgp18LunjAz7ftJrKu/21g20fxfZlnUkc4Btjm9FwTbY5cWvikh\n",
       "schTVNspT5VXG28AS+THtqHVa42RKZbJ0tOQXBvhG1rtLopgzEaNlMK20iqlxib84tS9CQ2pMqe/\n",
       "AFgSQhmV1Z6l8B81anXqLK6oIz3cDjaLvC10YxGSwmtnb+2Up6rZ0HpCfvx42G9KFRenx/hWwJia\n",
       "XMNMJrEdl2WZN7HhBoqi2TqtI20ZCm0DYYXXTh8EwfbYmUVISmZRSRDvmqmKauNtS/5Lwq6zSGj3\n",
       "YzlYSOjp2OPBBPKXdFTZSvUNDoJgfM6ikqCdjCHsykaULV8WZLux/rIM5+sBuzMUp2YoXammS+zs\n",
       "3jWqY7vnrOxKWb58YRAXtnwoYGuD3lnwQC/5oWF/ftEWSPTFo9M8moOBXvJjw/78ot9SRMJQAx9O\n",
       "2V8EDBS5ANhbcjDorA+AAWAAGAAGAQADwAAwAAwAA8AgfAJga7M5wp8I2MsVuXUhrl+SA/uj7d3Z\n",
       "7e/W3zblt+puwNbu7SP9RMDSHIyNm6/GlahGWlqGVSFuWPLtnhsZ7t72xvm2iXmz/tZ/LQn623Qm\n",
       "V3IzYCxcCOW3vyYtXeQFvaQrIiu3rj+rFW0ZVvuHoXRO3mLPjQx3Z3vrfNvEvFV/a+W3if42ncl1\n",
       "p8dYE7B/9nSRQWsp7y+DWsBcBmza9jWYznY/aBkeA1bsuZHh7mxvnW+bmLfqb12xtepvs5lc2+Lb\n",
       "hwGzO+Cgmvp8J58tShWzNVSiWmlpGB4CVu5ZynD3treKyG1i3qq/tYim+tt0Jtd2TnOxFjk5J1p+\n",
       "PmBKuxwqf3yVqMb+LcOqEBcngG32LGS4e9sb56sl5o36W5dZJfrbbCbXtrLoImAuC+biMwFLP3Yb\n",
       "gYx59Ike10cdinHjvruABf1tFOTyrnLWQoa7ScKxCLeWmDfqb528Fje667XFtxcBo334dzXIN+Rg\n",
       "wXMhfabH9VGHYtxguAtY0N9GHa7Tm5VnLWW4ZRJOiHAriXmj/tbKb5v6W3Y3YDbzkg/1hqEzMTtg\n",
       "/1KRNwFmkmvbw1bAfNSRGDcaphXySoEWhLhhyWtnzWW42yQcinCriXmj/tYj1NDf3l5E6krqaRc/\n",
       "VJn1O2DEA7418F2A6SeMeRcetdW0xqiggG2pcb1hWiE/6eTnZ93KcDdJOBbhVhLzVv2tO2dDf9sW\n",
       "317+VDR2+JyiN1aZkd6BxLLxXYAx4i/ePmoncw1RPmVNNW4wTCvkJ2uR2Vm3MtwyCSdEuJXEvFV/\n",
       "6/W1df1tW3x7GTCJfNsHJpjpCrSusq6X5eJIXmVGDA26bqIvVhJCZv03vAGwNCuzqUjcwCDGPVLj\n",
       "phXyk+1gxVlbMtwLItwkMW/V3+7Jb3fEt5cBo96XEniYsKuuxFFBQhzNTo2Yvp9oeHMOFstpL4hd\n",
       "MYli3CM1blYh3zJUNBJkNYADGe4FEW6SmDfrb3fcxJ1N13tT+G9ZVChzWcaZJIHxECeyKjMyJp3i\n",
       "/wpgMflnIw+bDRJMVLasvM1HMtxrItx362+b8ts9TdcN3XV65etCM8rihimvMhvAtM867gN257fI\n",
       "l4WGENctK+k5kuFeE+G+XX8rHozfBeyf02O0mgYaky/RpWNZCxLRv5MqswHMNC2+px1ssKLPuYPw\n",
       "6jDaO41eloPRxedYuhJNfL3axs3MILVWmf1o6/3rW/IdYIMODJ7/ywMzN/qFgA2GGNMvjPbmQ4Ub\n",
       "bau3rcI4rTKz2XUeextg8OjfGKbXAbZXv79QZX4dYCDH/RuADc99AX99DgY99b8bsCd76QNgANhr\n",
       "XUYADAADwCAAYAAYAAaAAWB/CLD3TZD7dBAkfvejCikKgH1fDtbXG3z7093A+7uHhUWzHEnvv5j7\n",
       "jn1OEDYCYDe+vI1BgFvx//3ffy8BJuofN8RyNn87b3n4Tvkuv66vHPVfaYXVgwjTY2AS3wvYf/7X\n",
       "2NAa7PfzBgG+6IORer5ATmcX5KaMJXb5VabzIRaxozCdB/3Xma+6kIN9H2C0viM93f2H3tNRaO3y\n",
       "awFTIoxpYv0wl4NRAOwLa5G83iWNn56djpMbrjfp8muKSModcEOfiOfBB/sKwMqP3f1iXRtayIdd\n",
       "9LEqN1iqxaJAp75MyEFnISeWTbr8qo5w6eRFfXxeuhaJoRb5VTlYwIMZiWk+Q+4afazKDZZWiG+V\n",
       "g4Waix15q8TtF7v8miJSDt/ZSgeAlSXTaJTLdjUFLEYfqnLXA6jejpNk+r2JlNXDoa1s5pV0+TWA\n",
       "DYPxvChxYQDAvhQwU0ELdyWZITeNtpLYpiY3sVRG9IzMlKHGKxOcIGwHVnAS6s0MzYk02w1rI1If\n",
       "rJOCQA72/YC5wWSs9imdITeNto0HTU1uYqlMf15sARs0HMPoOvi6gUm2MzQn0mzufEDP3jCqUXaC\n",
       "kBEA+ws+WAzVGXKjJPZwhlxthiWjK2C9nQA5DHC5naF5lWa7/y+ZpRYA+xTA6jPkrpLYoxlyrT7K\n",
       "DhoSACNunfmxA9K5kIWP8dJs3v2ZAIAdhqsz5MoZmXGG8ESo6Ef9N7PBjvvmxjRN50K2o9+s0mwm\n",
       "AbAfAuz2UNE7o20zBQAGgF0N2242Wd6HGAD2NwEjN7RlnjqGeGLrhwSRjB8t2mNJA2ApGzd05CI/\n",
       "M0c4S9qh2SwAsEPA8A3NTHjsfibgvr4OgDWOf0PvvWeOgQ6/XKsPI4yj+joAVg3jDW0Du8eQk+ul\n",
       "0dFplmaQ1KOq5bb8/TA3LHmdROvVAsBCBrI8n4EdHENylwdhbjhkWYYkzvhuw4e1j6UOZ8v5BMB8\n",
       "mG94eAfHkMPkAdsWduf6R4yfVcFMu+62uvECYMH6Bg/s4Biysz0tkDCACb6YfzNDdmA0V14ejJv8\n",
       "ijnGnvPCZH0dANuEOGldZaez7Z5HE99JNw4t7tzsLEvnJ9oYkf/IfTBucjmtwfn+rLRpzQ4PyIqN\n",
       "qRGe6usA2CYsOJZj2/f0JGHxGOMyzaEb9mTHkRQOMKHTxJgDTDjAhJlCw0/pczBucjHzz3khurWs\n",
       "T7+SXVvVJHYaUvmy67KJaLJ1AKxtnN1kP9EPeTCBQzoErBjkYiditNOZEXPMFLDODjOKfIa1O25y\n",
       "PvOP70gmjnW+zrIOWHZt1kTwaa5aBJWTSr5rzaS+DoA1E589B5+NnBsxOLkBciF5FXH2R9OJQjXA\n",
       "Ajm74yZnOIg4t8JyUD3xlo0JpOZtDjaSukWoYiRVjbQPZL0/JADmcomxBliQup7zrfvkBo9L/jit\n",
       "sMg8t3EM/vAKmOHNT/izP25yOvMPWecWnQ4aE/AeYOm1eZOirIsWmORLk6DkZqoFAGsCFqdPzJ5D\n",
       "6NZwbgbyqU+dk7zh0aBKJu3OIGUmATI9oHudy9l/eBoHP6fPwbjJ6cw/U3JB+/xP3R5g6bU5k6Go\n",
       "DK8W4ZrWa0ML62rrAFjpn8saYDFyPFNhy4qqdFq8M6HRhpo/nXT6nSS7nHZPFSxbcywm1+ZM5Nyy\n",
       "GHG+NDcZdbV1AKxVAfSOrrLligyTpqMzrbBL1qmrXx77dFid1afog53YkCRFcrf9LVh6wGgvFVWb\n",
       "KkBiMvZK9ahmIft8acr59aLFggGwBmDpvK+DJctOaIeNYyEKVzjowG3ou1Y1XUzLY/0GaxP+5E8s\n",
       "/Vw54vTMeywHS1/+mQY1nhE5F7XIRTvxIrt5waKchLxzs5XW1gGwwjYDjCGryrbKfD/v7HAifaj4\n",
       "/eB0NeIRg6QZQ9MQ5iGtXXGwdPSYRlsvOQ/m67VZE/dBdVLJ8YIFmvJl4RdUq7MAmIvLbrJwN9je\n",
       "L1djYsffooei4li2VdwbkkkjBFdhfmQVkRs3lpYeYi/efzP15iyv4LjWBgtLOF6w8FMpx2WXzimf\n",
       "rwNgezmYf43l2lJxwgnb+rjjC+d7WwGjoxCbR5s0emaA2fqAyF8FlFdwLH15zTRY+ObeuATALgNm\n",
       "XmNq5f+irGq1fLAtYLK84eI+4GIRycwgdHtNYWkRKaybVDyp9drstdvLIJmXFizQnC/BBzvv5OMC\n",
       "MG6GFNTGw+mGMFpWoobNTnLzBMTVPtahxw+zGZTNcIb6fHXB0gFmHnc/mu6zwTy5NgcY865aPF60\n",
       "8NPVx2VRdYZaZBMwsb58a2VLrvW2M035oniB6XzcAYgpdXHiSt9SEIqymZvCvNpcEdsWBk8b0uUn\n",
       "Wc2Ta7MmZoA7M4LeerxoEVo81jaS46/dAJi7DSQHTPu1kquoXzxFwZSXiOOpVgp0ETDmR0nxmQZa\n",
       "KBX1Y3lLX4vslWS0V6yL5slO3kTaRsD1eNFiHvKluclDV1sHwEp/nBeArdMhd2e7U4xZkchx2cRQ\n",
       "LcKuAlYb/5erPctNS74zT6+tMOFFZxI658su7yRe7zAOgLlMf9rcZLXeLn7KOSepp61yJqkKRQ7h\n",
       "IeCnAMNkW0YLtmNZAubN02vLTcLxokX4vr5+Z88+K8nqpQBgPvGivMlrw4Q454jj5A0eil1G0dWL\n",
       "sMuAbalHY0N25CxLwJx5dm25iT9etAi+flrj4X19HQDbvP1ok4OtudG5GQCSCRgKBx9NY6sIuw6Y\n",
       "KCupom9MLeMsNzmYNc+urcjB3PGiRSA6JfuwEgmAhbsX+21ui5mzowGso5fPSLhAKRvUuNh774qc\n",
       "u4pIW+w+Yqmq5Wd2bVWTYBHoTSkekns81O83AOZTPz2fwngMspRBtIqwJwD7gCDH+joAVinfnh+q\n",
       "8uAYlSKMynGR6nsBS+lpkASA7b+Al1/oXwhqqq8DYNU7ccOwbxP7KcBOZGAA2Jp+GL3p0QxsrK8D\n",
       "YPUw3jAf4Yh/hy+azPVGm/O+fRNgNvTPxg82ulJ5E/PzvWnuOMaXBJF0qk3Xk7fN3unKltk9mvMb\n",
       "mjvcekHYhuHp+MGEmrNEbxi8ho7iRwBLP7byasbN7J2uSQ1cOL+hucO3ZfrsM47xFRnYUF9/afh/\n",
       "4mENKldznWoAAAAASUVORK5CYII=\n",
       "\" style=\"display:inline;vertical-align:middle;\" /></a><br>(see <a class=\"ProveItLink\" href=\"../../../__pv_it/theorems/24965562018e2b77ea1011eae3414144a08e76a60/dependencies.ipynb\">dependencies</a>)<br>"
      ],
      "text/plain": [
       "<IPython.core.display.HTML object>"
      ]
     },
     "metadata": {},
     "output_type": "display_data"
    }
   ],
   "source": [
    "%proving schmidt_decomposition"
   ]
  },
  {
   "cell_type": "code",
   "execution_count": null,
   "metadata": {},
   "outputs": [],
   "source": []
  }
 ],
 "metadata": {
  "kernelspec": {
   "display_name": "Python 3",
   "language": "python",
   "name": "python3"
  }
 },
 "nbformat": 4,
 "nbformat_minor": 0
}