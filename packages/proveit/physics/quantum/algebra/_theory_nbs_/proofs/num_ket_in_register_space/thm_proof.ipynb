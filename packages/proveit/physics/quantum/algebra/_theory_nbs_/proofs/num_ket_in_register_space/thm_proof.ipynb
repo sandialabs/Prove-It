{
 "cells": [
  {
   "cell_type": "markdown",
   "metadata": {},
   "source": [
    "Proof of <a class=\"ProveItLink\" href=\"../../../../../../_theory_nbs_/theory.ipynb\">proveit</a>.<a class=\"ProveItLink\" href=\"../../../../../_theory_nbs_/theory.ipynb\">physics</a>.<a class=\"ProveItLink\" href=\"../../../../_theory_nbs_/theory.ipynb\">quantum</a>.<a class=\"ProveItLink\" href=\"../../theory.ipynb\">algebra</a>.<a class=\"ProveItLink\" href=\"../../theorems.ipynb#num_ket_in_register_space\">num_ket_in_register_space</a> theorem\n",
    "========"
   ]
  },
  {
   "cell_type": "code",
   "execution_count": 1,
   "metadata": {},
   "outputs": [],
   "source": [
    "import proveit\n",
    "theory = proveit.Theory() # the theorem's theory"
   ]
  },
  {
   "cell_type": "code",
   "execution_count": 2,
   "metadata": {},
   "outputs": [
    {
     "data": {
      "text/html": [
       "With these <a href=\"allowed_presumptions.txt\">allowed</a>/<a href=\"disallowed_presumptions.txt\">disallowed</a> theorem/theory presumptions (e.g., to avoid circular dependencies), we begin our proof of<br><strong id=\"num_ket_in_register_space\">num_ket_in_register_space:</strong> <a class=\"ProveItLink\" href=\"../../../__pv_it/theorems/48b26d4e6ffcefffda8de5ef28bf3378ca3eb9de0/expr.ipynb\"><img src=\"data:image/png;base64,iVBORw0KGgoAAAANSUhEUgAAAVAAAAAmBAMAAABgyt6CAAAAMFBMVEX///8AAAAAAAAAAAAAAAAA\n",
       "AAAAAAAAAAAAAAAAAAAAAAAAAAAAAAAAAAAAAAAAAAAv3aB7AAAAD3RSTlMAq1RmmUTNIjK7EInv\n",
       "3XZ/CtNrAAAACXBIWXMAAA7EAAAOxAGVKw4bAAAE9ElEQVRYw8WYW2gcVRiA/53N7pmd2exOX4r2\n",
       "oYzUSyBQg9hitTaDJlCKl2hF0FazakHahzBK0UbFbKGUim1dIsFOVJi2vkgqWWsNBLVEI1Qq2n0I\n",
       "RZSFLdVCLJTQNDSm0PVc5nYyu52Zbdich90zM/8/5zvn/LczAMFNqFY7YEnaY1EVpF307+nqQhhp\n",
       "QVkaTGiJ/qJDJvs/21TQ9dFV4soygIpnG1AaXAbQZDHSWnY/QORPmM0Hvd8M7UPfrTCFaSi5dt1U\n",
       "0L/Cex20lOAOlMNddL3poOJCaNFsD5qHUmYd2YJPmw4aK5AFsqlvbZ8mmpcU4RvS39h00CzJGnIP\n",
       "u0jl61jn+Pm+PdiJ5JJ9Z0BloBRiTRBoCKnA9pHOQKXPMISg1Ra6MAlf/Ke5gR6gVWOg3eTv9SDQ\n",
       "EFKBrROsFU2SoUu1vegfvJobNEDD7q0cA91LDKcQBBpCKrCttEGzZDNP1pTZl8IrGdNgN7xt38rM\n",
       "MNAkfiKrQaAhpALbjzZoL9nWfu7ZdLlMF25VithpBzpyYIsz+jwDjWMTTwY6UwipwHbDBv2epind\n",
       "8+j5f61OYTf9S1erM05Uu2p5/W/l8q/BXh8sFdhmbdBXoH0LCJ58inbZHeVDfxyYtUA3AwzXeG2R\n",
       "B/VJPRKqRBVPOd6Lrlqg0qxw3yTnTc7qisWt/nfctEDfwPOoMYTGgzKpRysOwQQe9DRfZYx8vYq7\n",
       "Po7NTlb4LcSgwvVnRRxAuj2gzmS0l+uYDAZNmXYQZrJT38JGxQfKpNJEUrxg4NEwxCZ4YdHcnoQH\n",
       "t7Y7ZFdIvMzZl4k5C7Rlkgb7va7iwTJuNKYU3vWDXrNAhYrrJYfvHIK7ZLPF9IEyqQFy2UXGIQC/\n",
       "QNbrETAHA/m1hVZXjwN1VrR1x2bSa3cVv3R6w6n6oJDb5MRW8oY1FU2GU11TXT1cCqVSG9BlyFDj\n",
       "xABoAdJcxHoYg8bybwWBjqq9eZo+4o8f/pslH0flORJHoaemjcJJ7HNM5yK51XbP+7LfRqkUrH7z\n",
       "hM6mH8+Raqh1kUf9gMe8+KIXNOH4DLK9vtMcVSskfRzf3pGmW5KpuJlJsXMRHy0I6Hv4GdWRqJm0\n",
       "yce21QAlUvC7KgLzy/15Apqu8D7+JxyF9g4vKPTZbi/dtEBXwmi+SNLHO5cgy56+6kb+HfqxKe6l\n",
       "yI6jEMMbQXUSdIg20KZrgBIpdA3bxnrDMFRxhUm2Pssnq34L6gMsYugM9F5nLj9boIOQecqk270a\n",
       "trNHR4ec6Yyfm9L52c9xZR7Rie80jEEMOpL0x1G234WXELCQnFH8zoQ0xF0TUDThXO4ET5kHdwN5\n",
       "QZdVl277vJyrl24WOFCiIxbZiibW1qlHY5VDMlBzp05yBZ6hi1CEEbagB/aZi0FdZ4InONBP8CRm\n",
       "4I+2wJzBKlMblOnQ3LMOF4V1QFN67CFAR2xQ+TStHMQzcJCu5LlqlVvgsRsVL2in6QGV8P2EApeD\n",
       "81tK8YIynX5sh+J5HWK3rPBHDCvghzoduHKjqgc0E/ojET0YLDqKSOPGUMijSKIUGTRF/DNjHUFi\n",
       "oWuZXv32zkx94YbZ78aF+ERDRdfYbR7uxFBlNPKc4aS5hkB/av4HiLFGlDITzQdN5xtRUpsPGs81\n",
       "oHRpOb6PvhZdBZ1ZDtCv9OgqahTQpfqG7xziwreP6W/Ib/hL1/ZEVZCcGvp/YDtVVMOGxpsAAAAA\n",
       "SUVORK5CYII=\n",
       "\" style=\"display:inline;vertical-align:middle;\" /></a><br>(see <a class=\"ProveItLink\" href=\"../../../__pv_it/theorems/1ef854bc7180cf80859f595d1c2671b4e5b3e77c0/dependencies.ipynb\">dependencies</a>)<br>"
      ],
      "text/plain": [
       "<IPython.core.display.HTML object>"
      ]
     },
     "metadata": {},
     "output_type": "display_data"
    }
   ],
   "source": [
    "%proving num_ket_in_register_space"
   ]
  },
  {
   "cell_type": "code",
   "execution_count": null,
   "metadata": {},
   "outputs": [],
   "source": []
  }
 ],
 "metadata": {
  "kernelspec": {
   "display_name": "Python 3",
   "language": "python",
   "name": "python3"
  }
 },
 "nbformat": 4,
 "nbformat_minor": 0
}