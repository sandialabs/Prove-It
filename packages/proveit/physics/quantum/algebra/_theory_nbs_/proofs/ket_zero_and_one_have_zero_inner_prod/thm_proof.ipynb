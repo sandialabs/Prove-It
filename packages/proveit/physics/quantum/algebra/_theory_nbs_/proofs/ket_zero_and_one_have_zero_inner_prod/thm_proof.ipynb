{
 "cells": [
  {
   "cell_type": "markdown",
   "metadata": {},
   "source": [
    "Proof of <a class=\"ProveItLink\" href=\"../../../../../../_theory_nbs_/theory.ipynb\">proveit</a>.<a class=\"ProveItLink\" href=\"../../../../../_theory_nbs_/theory.ipynb\">physics</a>.<a class=\"ProveItLink\" href=\"../../../../_theory_nbs_/theory.ipynb\">quantum</a>.<a class=\"ProveItLink\" href=\"../../theory.ipynb\">algebra</a>.<a class=\"ProveItLink\" href=\"../../theorems.ipynb#ket_zero_and_one_have_zero_inner_prod\">ket_zero_and_one_have_zero_inner_prod</a> theorem\n",
    "========"
   ]
  },
  {
   "cell_type": "code",
   "execution_count": 1,
   "metadata": {},
   "outputs": [],
   "source": [
    "import proveit\n",
    "theory = proveit.Theory() # the theorem's theory"
   ]
  },
  {
   "cell_type": "code",
   "execution_count": 2,
   "metadata": {},
   "outputs": [
    {
     "data": {
      "text/html": [
       "With these <a href=\"allowed_presumptions.txt\">allowed</a>/<a href=\"disallowed_presumptions.txt\">disallowed</a> theorem/theory presumptions (e.g., to avoid circular dependencies), we begin our proof of<br><strong id=\"ket_zero_and_one_have_zero_inner_prod\">ket_zero_and_one_have_zero_inner_prod:</strong> <a class=\"ProveItLink\" href=\"../../../__pv_it/theorems/0fc9b2aae676c21a911e1bf78a59aca7f3356b0a0/expr.ipynb\"><img src=\"data:image/png;base64,iVBORw0KGgoAAAANSUhEUgAAAG0AAAAVBAMAAAC+p33JAAAAMFBMVEX///8AAAAAAAAAAAAAAAAA\n",
       "AAAAAAAAAAAAAAAAAAAAAAAAAAAAAAAAAAAAAAAAAAAv3aB7AAAAD3RSTlMAMiK7iVTdmRDNdmZE\n",
       "q+96N/emAAAACXBIWXMAAA7EAAAOxAGVKw4bAAABsUlEQVQ4y3WTvUrDUBiG3zSJTVuLuQEx0Auw\n",
       "6iwUtEvpkEFwbBEsLkIREQoOmZQKahHc4+RQhE6O2hsQ6yyI3oJYTHXxfOec/JwQX3jJaZMn+X4B\n",
       "2HDApUEqJ6+2dKZyVTTFSQ+fMcbiuiKdKcMlzmgcwOwmOG0P2IZwSpu3FOAciLvGiYN2zJ33An6L\n",
       "W1XBtXbEC5sotWFUUU98rxjwULhV3QMbIoEm9AnMAJUUx1LnVrUOtDxYA+IWutCmKDgqhytpRd/A\n",
       "koviiLhLxv3CrKW4LemkLOJGPO8mlmvQfhAWJuLiwhx1SPvUty/G+XiKOPb7OMXlx8JKv4mr8UdZ\n",
       "nDXMs+8tpjhtIqzEybhnH0PIupjTKJeIo4TDpJN1abnoc06vohREtYs4KrAocpwf1oBHD7rD+/6O\n",
       "/ID3yktyFWlFD0BPhMHmbBcXNs2GNZOc8ckOdWlFc671AV57xp02XkTJOx7nym+zV9GXdpqzDu9s\n",
       "8T65R3z2TS/eI1qQaEnSqsTcKsWY2D/KXXf+4QpeyNGo4izB9aUzVfJDjkYVfoIbSmdrghtxKIf/\n",
       "FO3wjnCG/gC//nLzd6OYFwAAAABJRU5ErkJggg==\n",
       "\" style=\"display:inline;vertical-align:middle;\" /></a><br>(see <a class=\"ProveItLink\" href=\"../../../__pv_it/theorems/b33281773020aa3caa8605a02b36a7363311af400/dependencies.ipynb\">dependencies</a>)<br>"
      ],
      "text/plain": [
       "<IPython.core.display.HTML object>"
      ]
     },
     "metadata": {},
     "output_type": "display_data"
    }
   ],
   "source": [
    "%proving ket_zero_and_one_have_zero_inner_prod"
   ]
  },
  {
   "cell_type": "code",
   "execution_count": null,
   "metadata": {},
   "outputs": [],
   "source": []
  }
 ],
 "metadata": {
  "kernelspec": {
   "display_name": "Python 3",
   "language": "python",
   "name": "python3"
  }
 },
 "nbformat": 4,
 "nbformat_minor": 0
}