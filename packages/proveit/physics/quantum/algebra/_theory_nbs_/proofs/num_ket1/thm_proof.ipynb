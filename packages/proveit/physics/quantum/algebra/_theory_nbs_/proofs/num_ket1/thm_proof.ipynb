{
 "cells": [
  {
   "cell_type": "markdown",
   "metadata": {},
   "source": [
    "Proof of <a class=\"ProveItLink\" href=\"../../../../../../_theory_nbs_/theory.ipynb\">proveit</a>.<a class=\"ProveItLink\" href=\"../../../../../_theory_nbs_/theory.ipynb\">physics</a>.<a class=\"ProveItLink\" href=\"../../../../_theory_nbs_/theory.ipynb\">quantum</a>.<a class=\"ProveItLink\" href=\"../../theory.ipynb\">algebra</a>.<a class=\"ProveItLink\" href=\"../../theorems.ipynb#num_ket1\">num_ket1</a> theorem\n",
    "========"
   ]
  },
  {
   "cell_type": "code",
   "execution_count": 1,
   "metadata": {},
   "outputs": [],
   "source": [
    "import proveit\n",
    "theory = proveit.Theory() # the theorem's theory"
   ]
  },
  {
   "cell_type": "code",
   "execution_count": 2,
   "metadata": {},
   "outputs": [
    {
     "data": {
      "text/html": [
       "With these <a href=\"allowed_presumptions.txt\">allowed</a>/<a href=\"disallowed_presumptions.txt\">disallowed</a> theorem/theory presumptions (e.g., to avoid circular dependencies), we begin our proof of<br><strong id=\"num_ket1\">num_ket1:</strong> <a class=\"ProveItLink\" href=\"../../../__pv_it/theorems/220c146cbbfcc03835f5a04157527c1a32f773630/expr.ipynb\"><img src=\"data:image/png;base64,iVBORw0KGgoAAAANSUhEUgAAAFEAAAAVBAMAAADMaB9/AAAAMFBMVEX///8AAAAAAAAAAAAAAAAA\n",
       "AAAAAAAAAAAAAAAAAAAAAAAAAAAAAAAAAAAAAAAAAAAv3aB7AAAAD3RSTlMAIolEdjLdEKuZze9m\n",
       "u1Q7ZGlWAAAACXBIWXMAAA7EAAAOxAGVKw4bAAAA+0lEQVQoz2MQYAADVgasgBFKBwCxMoTJG4BV\n",
       "JZMBhL4KVRlWwMA3AadK1nQGhpdgleyd6wsYGBJwqayY9Z2BgQ1qpj9QpR5OM1mAKpkeIFTK4lXJ\n",
       "eAGhkksAn0qGhQiVfAp4VT5CqETy0rQ0EMhAUcmGpHIyA0PNApxmchogVEYwsLok4FTJ2oBQCXQJ\n",
       "H26VQG/AVS6Eq8TmTmDQwFSCQgyPmbIQH+kLQGIBu0qmjwzgKASq7Ni/4gA4ZrGq5Oj+1QMOQ2iq\n",
       "A6cW7GaCACipwVRexKuSVwCukh0Y6IxanxxwqKxCpHmWA3jTvA8Qu0KYHNjzEQs00zQwMAAAy2JB\n",
       "51EjfmYAAAAASUVORK5CYII=\n",
       "\" style=\"display:inline;vertical-align:middle;\" /></a><br>(see <a class=\"ProveItLink\" href=\"../../../__pv_it/theorems/50b2723cf96aadeda90ab083eb6fa29ef89f95fb0/dependencies.ipynb\">dependencies</a>)<br>"
      ],
      "text/plain": [
       "<IPython.core.display.HTML object>"
      ]
     },
     "metadata": {},
     "output_type": "display_data"
    }
   ],
   "source": [
    "%proving num_ket1"
   ]
  },
  {
   "cell_type": "code",
   "execution_count": null,
   "metadata": {},
   "outputs": [],
   "source": []
  }
 ],
 "metadata": {
  "kernelspec": {
   "display_name": "Python 3",
   "language": "python",
   "name": "python3"
  }
 },
 "nbformat": 4,
 "nbformat_minor": 0
}