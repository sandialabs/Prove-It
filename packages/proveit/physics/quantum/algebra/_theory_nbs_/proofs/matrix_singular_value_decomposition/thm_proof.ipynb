{
 "cells": [
  {
   "cell_type": "markdown",
   "metadata": {},
   "source": [
    "Proof of <a class=\"ProveItLink\" href=\"../../../../../../_theory_nbs_/theory.ipynb\">proveit</a>.<a class=\"ProveItLink\" href=\"../../../../../_theory_nbs_/theory.ipynb\">physics</a>.<a class=\"ProveItLink\" href=\"../../../../_theory_nbs_/theory.ipynb\">quantum</a>.<a class=\"ProveItLink\" href=\"../../theory.ipynb\">algebra</a>.<a class=\"ProveItLink\" href=\"../../theorems.ipynb#matrix_singular_value_decomposition\">matrix_singular_value_decomposition</a> theorem\n",
    "========"
   ]
  },
  {
   "cell_type": "code",
   "execution_count": 1,
   "metadata": {},
   "outputs": [],
   "source": [
    "import proveit\n",
    "theory = proveit.Theory() # the theorem's theory"
   ]
  },
  {
   "cell_type": "code",
   "execution_count": 2,
   "metadata": {},
   "outputs": [
    {
     "data": {
      "text/html": [
       "With these <a href=\"allowed_presumptions.txt\">allowed</a>/<a href=\"disallowed_presumptions.txt\">disallowed</a> theorem/theory presumptions (e.g., to avoid circular dependencies), we begin our proof of<br><strong id=\"matrix_singular_value_decomposition\">matrix_singular_value_decomposition:</strong> <a class=\"ProveItLink\" href=\"../../../__pv_it/theorems/926f67a7d0cac9cbf0895787ff063b64bb343fb60/expr.ipynb\"><img src=\"data:image/png;base64,iVBORw0KGgoAAAANSUhEUgAAAgYAAAAZBAMAAAC4Dvv0AAAAMFBMVEX///8AAAAAAAAAAAAAAAAA\n",
       "AAAAAAAAAAAAAAAAAAAAAAAAAAAAAAAAAAAAAAAAAAAv3aB7AAAAD3RSTlMAq1RmmUTNIjK7EInv\n",
       "3XZ/CtNrAAAACXBIWXMAAA7EAAAOxAGVKw4bAAAGaUlEQVRYw92Zb4wTVRDAp9s/u7d7txT1w/EB\n",
       "KFHhjPxphCOKIiUUQQGt8gUEwxlNDBi1xE8n5qhGE43C3SEI1YSrYkzIESz/YuQSQInRKMRqUEmg\n",
       "SQFDuCAIp3eHh4Azb7btto+9bSMR9CWz+7q7s2/mt/PmzW4B3NvwbByqadVd78n+DNehncmGwMz+\n",
       "IKSC1lTl7au7PgDXp3nDuJloyX+Tgep4Ju6qp/5PGBxnj+SxzNCgev4ci51BkE7c6uKTh3ZKuHIG\n",
       "87LZ7JcVM/Dh1UdjVSFQ0qx8TjpzJ6jDL90Enu+ep1/dV9qHtVNknLyyBmDVpQicwB8nShnMpCuf\n",
       "cfHJRwYG4tXFwfGq4sDl8ZW3j3k3QWKg4+hGL3ZO8+8+9LaHjvdREOATD6RYbAxeoYhqc/FJo2hp\n",
       "hhuIwQzeTe8vP+ELW9HxkPipXcbNXOodoDWInn/EkiIDQmKE3HxahrvtNxKDfWJrrLhQfqIWZQg9\n",
       "0yDfli5YQu6+gHKKDn3DYmNA3YCrTxOrSXX/AgOFx2gxe8rPjCafMefpnDBqKCRWUn9kHFRx7CkW\n",
       "+7pwMJv91tWnWkxa6RuIgY+NiSi/l5+Zg7I3gS5yjhUh0UoxsTfGqR22sdgZzAZ47yqjpEt88iWg\n",
       "JnVNGIzhXa46BqxlFpXEGuUPaRcFkaxowfxTPkrH+MJWGmgaOTMtDI3i0GQWO4PloAavMmqkxCe8\n",
       "ZDmnXXnBDcNqicE4NOkLgIV/dD2Y4IOdB7qmpwuPJ28iM1BobQxpj9wMzUcApmJYjt1gaR3cDXPr\n",
       "C1oFo+pCfBP1fLk5WPnq5630h+03Gn4kqS9J81SAsSx2BjUpw740q4d2wX3BcgYYKrtEf0siX4qs\n",
       "HdHinXkX3naiFgHuSXHgzYD6FSbnY8kYDEX6KfggTy4tx8EEPIymGJjvVoCl1S5w5bUWFTKfMLk7\n",
       "Ov3PcgZYlYgJ0sI/O2jzF20+abOwtLLYGSi5YkpcPWwdjDJSvpTEYLzl2d4QG6e3x5X3lW7I4M12\n",
       "4k1ET2Lgwbs8CBAlcMjAF+RyhNoymcEDHO3KAM9EoYUMDChoBVJ2BjrG+aWrMDBoLfiUfxIjr0ga\n",
       "QzI8FWAxS0mt3HR/IdPMppoxFzFgZ/RQNGb3KeAVM9j/do6NM7YC3Av1VKtq7+CJelvVWmRQi8R+\n",
       "BVNMXmSgDRCpSXefjdhW2iKDI8JfUHvBi+UYazGDDHhnrP7FtoiLueCzpn5JPsC5YJwrLI2iPNgi\n",
       "yp+6ASv0xrGUMNiOj4SHoBISGm5vMaR8AMZo8QjMQJCN2/Q6vXpkzMYUvEZ3Ez2JwUo8Ng82g8VA\n",
       "70FSeuN+wPlxm8RA77Wy3mV4EbesJRig1qbF4do4KHmrauiJzLdW/ZK2kQPJEy+WB++ySn7a3MNS\n",
       "wuBlRCaG0AWvBuPDRTID9XNO574mNm4MZWo9qOwALY13ET2ZwVTcfS9stRj420Dd2gRo5EKJgYKP\n",
       "bwF1nxRTYX6RAWq9dBKGpKjDzUCbVaqTOsoLeFr5nga1HgrvE0+wK75e2+o5p4yBB0NbDOEX0dcA\n",
       "kW6ZAYib+hPmPjZuyhR7je70znQLRmM/TE4mkyExF/oVtN2T86P1b0rvTIiXl8x5JoUUaw0jBqQ1\n",
       "guawlmegZUDv6EvBHVeeLWOwigi1P2x9n+k4PzQ5y/pekPfoRxb53ZmG8C5NJtcgg86AVB/kE0bX\n",
       "tgE27o0Flbw770cXc/BWPg6MNnKiNuGLJKS5IDKmLhhMe4y2rHWGGJDW1xDVinMBDjsNXpdw+/CQ\n",
       "YZEZ0BBamuPAP97JpxyoF9g4yom6GwO1H/SNYFVXyGBcinLiSqh7NQFnJQb+DHSKErdVeMpamPxO\n",
       "UU5Uz8HhBjALpdUkx89DEbcSM8wiMeAhRL2IK8gxB59osvSwcerOOOxxY3DyYlcU56u6gWukKPq3\n",
       "HuBRMHeITvk3lFF7wqBhZVUnvBdaoHd1JehifOs9HYaawuyvcXyRX+/CoNkSiQEP0YzDaT/F8zWW\n",
       "5NPcIHzUF2PjOpeuTVT6HakzmYyVVTl6m8N3JGUwrc3FFOT4ur/ZhcF6Sxy+pemfJddV4JPNuKq/\n",
       "pfnipXuJweODac0qHmpxnO+5QRGYcZbr+T1xN+8anb4nhgfR8sbg2rXqGDxX5f8Lg15vJdLiS2ig\n",
       "kv8XdIcXtn/w/8LRMJjZ/SR/A7NU06aiFK/3AAAAAElFTkSuQmCC\n",
       "\" style=\"display:inline;vertical-align:middle;\" /></a><br>(see <a class=\"ProveItLink\" href=\"../../../__pv_it/theorems/e0e799d34ad5d96b902bb76c352b917e4d0a729a0/dependencies.ipynb\">dependencies</a>)<br>"
      ],
      "text/plain": [
       "<IPython.core.display.HTML object>"
      ]
     },
     "metadata": {},
     "output_type": "display_data"
    }
   ],
   "source": [
    "%proving matrix_singular_value_decomposition"
   ]
  },
  {
   "cell_type": "code",
   "execution_count": null,
   "metadata": {},
   "outputs": [],
   "source": []
  }
 ],
 "metadata": {
  "kernelspec": {
   "display_name": "Python 3",
   "language": "python",
   "name": "python3"
  }
 },
 "nbformat": 4,
 "nbformat_minor": 0
}