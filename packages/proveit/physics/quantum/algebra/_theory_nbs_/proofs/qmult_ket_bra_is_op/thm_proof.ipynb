{
 "cells": [
  {
   "cell_type": "markdown",
   "metadata": {},
   "source": [
    "Proof of <a class=\"ProveItLink\" href=\"../../../../../../_theory_nbs_/theory.ipynb\">proveit</a>.<a class=\"ProveItLink\" href=\"../../../../../_theory_nbs_/theory.ipynb\">physics</a>.<a class=\"ProveItLink\" href=\"../../../../_theory_nbs_/theory.ipynb\">quantum</a>.<a class=\"ProveItLink\" href=\"../../theory.ipynb\">algebra</a>.<a class=\"ProveItLink\" href=\"../../theorems.ipynb#qmult_ket_bra_is_op\">qmult_ket_bra_is_op</a> theorem\n",
    "========"
   ]
  },
  {
   "cell_type": "code",
   "execution_count": 1,
   "metadata": {},
   "outputs": [],
   "source": [
    "import proveit\n",
    "theory = proveit.Theory() # the theorem's theory"
   ]
  },
  {
   "cell_type": "code",
   "execution_count": 2,
   "metadata": {},
   "outputs": [
    {
     "data": {
      "text/html": [
       "With these <a href=\"allowed_presumptions.txt\">allowed</a>/<a href=\"disallowed_presumptions.txt\">disallowed</a> theorem/theory presumptions (e.g., to avoid circular dependencies), we begin our proof of<br><strong id=\"qmult_ket_bra_is_op\">qmult_ket_bra_is_op:</strong> <a class=\"ProveItLink\" href=\"../../../__pv_it/theorems/3724fa06f417e0fbec940d7c6b54941dfaf8d39f0/expr.ipynb\"><img src=\"data:image/png;base64,iVBORw0KGgoAAAANSUhEUgAAAcgAAAAZBAMAAABHmqPnAAAAMFBMVEX///8AAAAAAAAAAAAAAAAA\n",
       "AAAAAAAAAAAAAAAAAAAAAAAAAAAAAAAAAAAAAAAAAAAv3aB7AAAAD3RSTlMAq1RmmUTNIjK7EInv\n",
       "3XZ/CtNrAAAACXBIWXMAAA7EAAAOxAGVKw4bAAAGGklEQVRYw81Yb4hUVRQ/8//Nm9nX0odKC5pU\n",
       "pD9GD1vtD5QDbimKMOCXkLAFP1RiOolIUm1j1H7RdBAWHTV6FggRuJOf0k+bWlFZTqFl1uAriUBQ\n",
       "16x0dW0755777rvv7czb3S/phTPvzbm/c979vXvvOeddgMgWa/4IE2kTxf3P7VyzAFbz+3FQ6Ql6\n",
       "S8PN2RI2/jx8g0lmhGTU/4q8GhqgHG3e3u3NQvI3IbmS93+HvG7wFNi1PNq8VUu5LB7JTlJOjxh8\n",
       "NGCSuFCL14VIkjiqGbJjv0bSsseS2P2ZZ554b8Q1T39e4Bl8+iL+rnfgDF7O+CSfos7nIwYfDZgk\n",
       "LtT2skiSOOQO2dHQSMLKMXbdM4c9c4j9CXCfXNLdbx/D39twPA6LJLmRXkA1YvDRgEniQm0+C5M0\n",
       "cSZzPCPxok6yK2yW7UwNe+ZgDENGwrNFeAkvl5BcUQqTJL7SdevBRwMmiQu1QRYmGa+ot5St6CTz\n",
       "jri13m3+wMoLTuagZw6wprxHgu8B+BL9XMXbr1gkSbqkowYfDZgkLrQle1iYZM5f73tBJ5kWmzK1\n",
       "2vGUR3xzbPMWdSq4eQ3XL6lXsHjR9Ztm8+vIqBkJmCQu2JJ1FmSybz6SPAfwgOjAmGFUILVmpyCZ\n",
       "EyTWK47W3745tvxFx49I2HULhdWPWTySCwF2Rg6eAXLZJ8fDKQIBeLG1lc2CTOqz4ANchjLyNIRl\n",
       "35w7BclETzCmdQz65jTZ//oerSGAhygKzWXxSL4MGXxT61ZVRETGSDVcjn1a0QbPALFZbEioXedb\n",
       "BHAqOGi/ALOVXnffUWDJlYzCEngE8siNVm4K/dxLSSkrSMYFqR7l4o2ib07h9brqMe4artWO0t0s\n",
       "Fo9k1kFHifpAATpKcsUny/oMCQCTdPlq/For6RY6rjVJcd0ypT/oPl9iyZVM+BYzCM6eQe+JmNYh\n",
       "4aCCXBpD9EzcDc2fOO6UfHNsC+5Wj43Pu3XatL/obiuLRzLu4gi3wEAZNnux62BgGQqAIJfBV7eA\n",
       "0lElaKHjWpMkXsmFYfc+SQqJddjH+V2kfxcsQAWRTNFMmn52WgU6yWRlq9+FS9W4RDfPsqiyrudJ\n",
       "Sb1b2i52guWaAFRheWfCOQnrwCtBfAsdZ0Pf4QBJoaBMdmaMe3+5QrIH3+BZdESzbPbQLn4GYBEv\n",
       "10agPsgIFo63XD+BjstqvFgHJMS/B1kUyf2iongM4ITcvFdCNakAVE33qgXbaNgfcp9voeFS5czt\n",
       "fTpJqaiqqdDcZ10WIllNOKmSV7Rup0RfhD0VDjzC8rwKaYeWAWwusSlYuNeu0YsRfRiDkkNycCSK\n",
       "5Gu0DfaOHj06JFPTkRBJAahm3m9Y8CjEbVjKucy30HAWZoKcTlIqpkPKHuOecoOQEqS+yMEcVbRi\n",
       "IkmvfqHrBOdJThVpL+Q9d2z0+OwV0tzchTejOK0DFJioDkgPmribFoMQRTImYt1lGakBDl4ILVcB\n",
       "qELMXYv7xqjD3FqtVtAtNJwFa2kz6SSFYhMkXqzVtgXdGw0WYrLxwPmyWpSUSJ4Y/VkWAxzezCnL\n",
       "eLVuN2ecFvEZTY3dIxXoGz2OoFP0OJzz/JV3yrzGToQ/tVINiHFkzjn5YotPqCo+6/GMTSFkU8hC\n",
       "x8UwYkzTSUrFAno7Y9yfZBFR+U2taKXyMGl7Fc/rcogHvLJON1ftfnocxbfri/BNNFiCJJNFSLtg\n",
       "1mmzW1dbkoy57qtiQ2Yd3yKMS9zR+VZdJ8kK2pBcKQTcd7EIkmdBjlIW+vmKR3J+u1IlULnXA7WU\n",
       "zRIkiS7z7lTjkLnkFOz5x25F0uzehfrfcQg7fIsxuJkj/cEUIhQWxRQcdcg9cUIRJOt60bqSM50g\n",
       "2f7TJqsdGpiu3rNBSpBkL66078oQb/vFX+U0KfLlR7VaybMI4xJuKE8KBf0zD9T6Q+5pglEESVcW\n",
       "raJhMjrnkcy2Pf/QcicHAtW2S2l5/LEsiiSWIHyoEHX8kS2ESApFuyOMXiGW+rLqVFsbXuGxV+CP\n",
       "9hV+bxu9VWZpTdKOIkkvK+aMQ7LDCZEUiqk39WmdOk+Va8YcDxc8SPOO05wbdO76iw1W8/B/aeCv\n",
       "UMUb9lkAAAAASUVORK5CYII=\n",
       "\" style=\"display:inline;vertical-align:middle;\" /></a><br>(see <a class=\"ProveItLink\" href=\"../../../__pv_it/theorems/959f07682fbc3c271e0b2189e3699bc4a4da37ff0/dependencies.ipynb\">dependencies</a>)<br>"
      ],
      "text/plain": [
       "<IPython.core.display.HTML object>"
      ]
     },
     "metadata": {},
     "output_type": "display_data"
    }
   ],
   "source": [
    "%proving qmult_ket_bra_is_op"
   ]
  },
  {
   "cell_type": "code",
   "execution_count": null,
   "metadata": {},
   "outputs": [],
   "source": []
  }
 ],
 "metadata": {
  "kernelspec": {
   "display_name": "Python 3",
   "language": "python",
   "name": "python3"
  }
 },
 "nbformat": 4,
 "nbformat_minor": 0
}