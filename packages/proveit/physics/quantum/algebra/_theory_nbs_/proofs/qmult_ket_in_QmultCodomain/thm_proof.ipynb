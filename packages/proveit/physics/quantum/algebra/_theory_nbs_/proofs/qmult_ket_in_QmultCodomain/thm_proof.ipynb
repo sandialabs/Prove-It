{
 "cells": [
  {
   "cell_type": "markdown",
   "metadata": {},
   "source": [
    "Proof of <a class=\"ProveItLink\" href=\"../../../../../../_theory_nbs_/theory.ipynb\">proveit</a>.<a class=\"ProveItLink\" href=\"../../../../../_theory_nbs_/theory.ipynb\">physics</a>.<a class=\"ProveItLink\" href=\"../../../../_theory_nbs_/theory.ipynb\">quantum</a>.<a class=\"ProveItLink\" href=\"../../theory.ipynb\">algebra</a>.<a class=\"ProveItLink\" href=\"../../theorems.ipynb#qmult_ket_in_QmultCodomain\">qmult_ket_in_QmultCodomain</a> theorem\n",
    "========"
   ]
  },
  {
   "cell_type": "code",
   "execution_count": 1,
   "metadata": {},
   "outputs": [],
   "source": [
    "import proveit\n",
    "theory = proveit.Theory() # the theorem's theory"
   ]
  },
  {
   "cell_type": "code",
   "execution_count": 2,
   "metadata": {},
   "outputs": [
    {
     "data": {
      "text/html": [
       "With these <a href=\"allowed_presumptions.txt\">allowed</a>/<a href=\"disallowed_presumptions.txt\">disallowed</a> theorem/theory presumptions (e.g., to avoid circular dependencies), we begin our proof of<br><strong id=\"qmult_ket_in_QmultCodomain\">qmult_ket_in_QmultCodomain:</strong> <a class=\"ProveItLink\" href=\"../../../__pv_it/theorems/6e1aab7c78e71e683499829668076d65ef9d03eb0/expr.ipynb\"><img src=\"data:image/png;base64,iVBORw0KGgoAAAANSUhEUgAAAWAAAAAmBAMAAAAIOVy6AAAAMFBMVEX///8AAAAAAAAAAAAAAAAA\n",
       "AAAAAAAAAAAAAAAAAAAAAAAAAAAAAAAAAAAAAAAAAAAv3aB7AAAAD3RSTlMAq1RmmUTNIjK7EInv\n",
       "3XZ/CtNrAAAACXBIWXMAAA7EAAAOxAGVKw4bAAAFtElEQVRYw8WZf2gbZRjHn/y83CW55h+RDaUZ\n",
       "DgQVPKyb1dZyso0NhhpQB6Nig38oThmnjMFQ1tS/ZMuac1poHNXzB4OhLofVzVqFosJkmxJBsThL\n",
       "b+scrLW129pVWlx83vd+5K5e2lyNzUHu7b3vm+997snzPs/zXgFqeNxdulbt1GDSkzK3izaPluZr\n",
       "yQvrqp/6kEfpQ4renq4TcCDtUTqQqC9wVvGqfbi+wM971v5IqSew3/vaCSbqCRxXPWszc/UEzine\n",
       "xY/UE3gNOU0OM1ZHBoAfyVQyrkjOrfUEpvnlM4imzI5e/JSvFjn8AVHDpjOpA1Nfvq1mwFXJReYc\n",
       "wIiz3h3Yf8t1FZjtrxPWuKgDbyHNszUDrkouMO0AxhUYdwUOvf1a63WAx3cTlw+mdeAu4iRyzYCr\n",
       "kvOl7cAcWjiadAO+jIOjGv/F52Q+P60DhxV9eo2Aq5KLJezA/oz+jCbw5ZERPXFHyYN3FIGh0/1/\n",
       "6cABAe9Su0VXlVyDageOGl5kAO8YN6d1EE+IoWEl6vhXjSjx/cjImRpGiWrkGgQL+PgmBJ4EuNME\n",
       "ZnZZ06hOeNqsMK8ZwNsA3qohsC4nGvnUfZ4eoSiwehe8D38qZNXpwGHJChGz9LpoXt8wgF+kPrLn\n",
       "hQz49YTJfXlOObGQeRCOTTN9tmSOn6mJg8sB63J02QkQsLzZpo+JzgKOJB+G+yCG6ikT2FKL0uAX\n",
       "E83rBQOYVXBmQC0kIY7f6F7TA2wC+CHoBmYaDtnyP6pmli68CTCV04E1vY2cz6csfd05UyYwBz9g\n",
       "VENbRBIGcHYED/p1H7Vwzsp/MwawX8OH6oaCBFlE2kbuSYHR1A7gP4BYwrccMJWjoAzacSu2mzNl\n",
       "/cUWJnWbCseBWF8HPmap8VfI+U1YDAzpNiqCygBjYAJz7xDgbNtFBfqnmGfWb2kcVMJrgWH62j5V\n",
       "mH5MEBPnJRyCCy2CIzVTORmeSgSUYdiD99WHdf1/AQfT+Fzj1HV14Hh5H1faGjkZsFzY8mH4hK7L\n",
       "+wF+Bo7+Fuy5wYEh6CTAOcmfDieDwpO3q2gfZvSnFHbxaZ8ak6JiUMWhDSqjOYCpnMxp8zzuEljL\n",
       "ZFTfXHTlKBGUA0oISfeZi47Xyvu40rfKDsVZgBDgV0hcPlo6e3YaQoJlYShQCwPM5iAkYz2Ype54\n",
       "g3YxEisUJEbBod6ZO5zFD5WTmfeKPDSDX4DH6JCubxwFzQIOnYrCBvKYVhx+2rZXBl4s12xmHAYf\n",
       "des5sjEMPJfPH14E/E1rU1MK2ywRwF+WdMHEpNZBSj4c2llKOYCpnAw+7SX0zogKG/P5fNLQNzOd\n",
       "WE4cXQNTJJAVLeB3e0yjRp649yZbxTTrKC9DRfCJRN/NwkAWX5YTfMTFSFdcYMc7FeqYEaUMUi4v\n",
       "ZQwJDzACBCU4aNM3jrBsy3Sv0pgrllNze5+RmkdLGMkipx3bKgs4KEJYM1KIDTgnBWRW4DSkLEQy\n",
       "DSkMszmFlwtKfIpVOQ2HLogguwH7NO1l6sCsYtM3bjZkA6aZmJVcih9mXelK816zN1p0AMcyENPW\n",
       "wr4MSRxnlEsLBxrFD2Zgf9MEwOAU03gSotsh2D6oQu6ei8Bvat6N3WTI/0iL5AbMbT6CC+J3vG2v\n",
       "Td8oL+dtwPRHPVqhHr7175vNv9mEA3g/Ot+PEnAD+Z7lXilUs+OQ9TBMjf9hPp8y9Y3FdNUGTO0+\n",
       "tsSOw1GArGCLlKsSOICuENLcJ9Js8NUwb2UxtB7/29LAHdLKgJlGtTpgnkSMCrvj1hVUVif+102o\n",
       "ZAZS96OQ8i7+dT13zdG0Z21a3bgAd7esyru175baU4+5OV0s6QocSbCrArxxibEucNvEXnJ/e8lm\n",
       "VuftZVioPNbrutZPuQPHFW5VgLlfKo/9Ci6x5eOkO3Cov+k/AHv4H8feyq8D25tczP8GPdf6fxxe\n",
       "wrk33+OsOPgP+FrN2IpClzUAAAAASUVORK5CYII=\n",
       "\" style=\"display:inline;vertical-align:middle;\" /></a><br>(see <a class=\"ProveItLink\" href=\"../../../__pv_it/theorems/a6631f13d3a38ca7e91a0bc0c2f5fecc2ba15b240/dependencies.ipynb\">dependencies</a>)<br>"
      ],
      "text/plain": [
       "<IPython.core.display.HTML object>"
      ]
     },
     "metadata": {},
     "output_type": "display_data"
    }
   ],
   "source": [
    "%proving qmult_ket_in_QmultCodomain"
   ]
  },
  {
   "cell_type": "code",
   "execution_count": null,
   "metadata": {},
   "outputs": [],
   "source": []
  }
 ],
 "metadata": {
  "kernelspec": {
   "display_name": "Python 3",
   "language": "python",
   "name": "python3"
  }
 },
 "nbformat": 4,
 "nbformat_minor": 0
}