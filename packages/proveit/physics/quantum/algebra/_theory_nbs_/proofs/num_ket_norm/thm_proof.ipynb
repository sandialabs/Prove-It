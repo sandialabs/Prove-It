{
 "cells": [
  {
   "cell_type": "markdown",
   "metadata": {},
   "source": [
    "Proof of <a class=\"ProveItLink\" href=\"../../../../../../_theory_nbs_/theory.ipynb\">proveit</a>.<a class=\"ProveItLink\" href=\"../../../../../_theory_nbs_/theory.ipynb\">physics</a>.<a class=\"ProveItLink\" href=\"../../../../_theory_nbs_/theory.ipynb\">quantum</a>.<a class=\"ProveItLink\" href=\"../../theory.ipynb\">algebra</a>.<a class=\"ProveItLink\" href=\"../../theorems.ipynb#num_ket_norm\">num_ket_norm</a> theorem\n",
    "========"
   ]
  },
  {
   "cell_type": "code",
   "execution_count": 1,
   "metadata": {},
   "outputs": [],
   "source": [
    "import proveit\n",
    "theory = proveit.Theory() # the theorem's theory"
   ]
  },
  {
   "cell_type": "code",
   "execution_count": 2,
   "metadata": {},
   "outputs": [
    {
     "data": {
      "text/html": [
       "With these <a href=\"allowed_presumptions.txt\">allowed</a>/<a href=\"disallowed_presumptions.txt\">disallowed</a> theorem/theory presumptions (e.g., to avoid circular dependencies), we begin our proof of<br><strong id=\"num_ket_norm\">num_ket_norm:</strong> <a class=\"ProveItLink\" href=\"../../../__pv_it/theorems/3cbff9213325d3b5a0c9324812507a6128e97db30/expr.ipynb\"><img src=\"data:image/png;base64,iVBORw0KGgoAAAANSUhEUgAAAUQAAAAZBAMAAAC7o0poAAAAMFBMVEX///8AAAAAAAAAAAAAAAAA\n",
       "AAAAAAAAAAAAAAAAAAAAAAAAAAAAAAAAAAAAAAAAAAAv3aB7AAAAD3RSTlMAq1RmmUTNIjK7EInv\n",
       "3XZ/CtNrAAAACXBIWXMAAA7EAAAOxAGVKw4bAAAD+0lEQVRIx8WXXUgUURSAz+7M7MzO6LpSD9aD\n",
       "WFYslbVUSkLEQgZhPWzPKWw/0M9DrVD0J7pFRJBZBFL2NBQEEdSW9RBCWRJGYS1l5kMbU0l/Usm+\n",
       "JL7UuXPHnTvuzM7Ggl4dLvf3fHvuOeeeC+BePOl3MFslkH5dyDQfzGZZPYOIIkAc/8i/XhLMiOiw\n",
       "YIYRP4GQlCIA94325ezINjhlt0DQKGKQVNUuiB5SecNFEXqTJuKNQexYlBfxnArwmSJuJNVuF0Q+\n",
       "Sqp4UYjXgdHiLvxK8yDKcw8gok/VEU+QQ7/ggigRXR8t7pw3sIgZ/JSqfFr8jXhcREckpOZkJ1vc\n",
       "h9Xd4hD7GERh0qIYJ0R4riNyYVd/8FG3ihVnijEGUemzmJcj4k7q0YPp9AtXxJJ0+n2yKEQ+ySD6\n",
       "gt57KixzRbxDETcBXLHZMmlB5BPgV9lhrqcgsLON2U3CDOLt8MLWsOkvBiKf1kvQRKyjiC0gBm02\n",
       "j1gQcUoLcn3I9nXg1ztm9cLecsuvkOsMPeiltIpBXHmo6nScxom8WlxOEf2qEmVD+tB9WBecjoiK\n",
       "Jo74lDQ753UBLEFgTbBEAh74FLdxVVb9nT9Bn0dLSZRB3LKWdElBN8TzFNGrmd5CpC9QVF7NQVxB\n",
       "vEUcJySbgIouScAfdtOyqDjh/Q6pbEeNI+JwQ4IGcxfEJuMCjK3P6oFIr9YiCtxrGGqIsog+Dm8j\n",
       "7kJbkoZ8IrpdhScW81TFCagQY/aI7EHLGWGC3gVr1v6K5LHFGgPxLgY9bkPnqHHhhBa3KTm2CMoS\n",
       "XOL5unRApoeLdnZehTfWX66kIBWoVVnE5qmGXzMRuUk5EyB3gVzbDwN5tFhvILYi9rWmcEmcSg8p\n",
       "V7flIoqPyWF9goSg39TSHh3x5fR7VQ56eyxa9P2Ywg+aiJ6YPKGQu0C8FYNJe8RH5LrdbCB60C6O\n",
       "fYEylUoPQeR7LiJU4NeOJsTt7e6+CCfm6wedsSZPRvCSurFcooje/caglDIR/VUwiujY49GEPlvE\n",
       "8lfbkeYtm4xVomlS6SG46cuJi7TUC6m4RAc+5roLHITDljZBbM22RmBaMuaNkD34SMIpGQMxxSI+\n",
       "gwaJSg+BsMIhX6yUUkkjzqMbBDRBt+ybIOsLxctnGnMQs+4Ca6Yj+vEo26H0pDMiH2YQMZyMhKj0\n",
       "Wl1FtoiXYE4CjiYMROgd1T2jIy4N6GHl799xdtnxAw9ZRCSyImJ2Blsh0OOY0tLcagoR9TEW1qVL\n",
       "w3GawTpl3fKD7i5WdP5izkNntCJ+dsu6USU5DwMqvaCHQfN/I0IbSJqIJvHNaJvXbicct339xYt6\n",
       "u/i0ggilHTP0ArR7R58saP8jxb+j+/8BIlwrHdMXjccAAAAASUVORK5CYII=\n",
       "\" style=\"display:inline;vertical-align:middle;\" /></a><br>(see <a class=\"ProveItLink\" href=\"../../../__pv_it/theorems/d62575e447104c78fe55fe451d668bbec723c61a0/dependencies.ipynb\">dependencies</a>)<br>"
      ],
      "text/plain": [
       "<IPython.core.display.HTML object>"
      ]
     },
     "metadata": {},
     "output_type": "display_data"
    }
   ],
   "source": [
    "%proving num_ket_norm"
   ]
  },
  {
   "cell_type": "code",
   "execution_count": null,
   "metadata": {},
   "outputs": [],
   "source": []
  }
 ],
 "metadata": {
  "kernelspec": {
   "display_name": "Python 3",
   "language": "python",
   "name": "python3"
  }
 },
 "nbformat": 4,
 "nbformat_minor": 0
}