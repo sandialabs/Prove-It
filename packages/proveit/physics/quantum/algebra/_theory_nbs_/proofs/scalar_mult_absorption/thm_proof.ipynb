{
 "cells": [
  {
   "cell_type": "markdown",
   "metadata": {},
   "source": [
    "Proof of <a class=\"ProveItLink\" href=\"../../../../../../_theory_nbs_/theory.ipynb\">proveit</a>.<a class=\"ProveItLink\" href=\"../../../../../_theory_nbs_/theory.ipynb\">physics</a>.<a class=\"ProveItLink\" href=\"../../../../_theory_nbs_/theory.ipynb\">quantum</a>.<a class=\"ProveItLink\" href=\"../../theory.ipynb\">algebra</a>.<a class=\"ProveItLink\" href=\"../../theorems.ipynb#scalar_mult_absorption\">scalar_mult_absorption</a> theorem\n",
    "========"
   ]
  },
  {
   "cell_type": "code",
   "execution_count": 1,
   "metadata": {},
   "outputs": [],
   "source": [
    "import proveit\n",
    "theory = proveit.Theory() # the theorem's theory"
   ]
  },
  {
   "cell_type": "code",
   "execution_count": 2,
   "metadata": {},
   "outputs": [
    {
     "data": {
      "text/html": [
       "With these <a href=\"allowed_presumptions.txt\">allowed</a>/<a href=\"disallowed_presumptions.txt\">disallowed</a> theorem/theory presumptions (e.g., to avoid circular dependencies), we begin our proof of<br><strong id=\"scalar_mult_absorption\">scalar_mult_absorption:</strong> <a class=\"ProveItLink\" href=\"../../../__pv_it/theorems/fc20f1a5ea1dfb3dd5e64fb136f54c154263cdb10/expr.ipynb\"><img src=\"data:image/png;base64,iVBORw0KGgoAAAANSUhEUgAABAgAAAAzBAMAAADoRSdUAAAAMFBMVEX///8AAAAAAAAAAAAAAAAA\n",
       "AAAAAAAAAAAAAAAAAAAAAAAAAAAAAAAAAAAAAAAAAAAv3aB7AAAAD3RSTlMAq1RmmUTNIjK7EInv\n",
       "3XZ/CtNrAAAACXBIWXMAAA7EAAAOxAGVKw4bAAANQUlEQVR42u1de2wUxxn/7m7Pe947n20FRaQq\n",
       "+KJQQhUeVnmoISkcCqRQJ+GaqBIBt7hpqwqKxKWKqCgJvqA0ApWHSUFg0uCF8EexCZhHGtVOsSEP\n",
       "AqhgpaGiCJSjpKlMUzCEN4LrPHZ2Z2Z3z8dtqgLeT/LdPL+ZnfnNzPd9s98ZwBtpzc06+HQHU3Nz\n",
       "s1cWZblcsk+OXWnmDn8AbR39bspd9QyCVB9dQPfc8U+wjG3hD/sgKI4CrWI87ZFf+hbTCybVNSfY\n",
       "5YPAG40Ro/EE+ZonJM7rZXrqbPXt9COvHQ1nXbO2+yDwtr72ifGH6NdcIXFufh4lPbb6HIWazlXe\n",
       "uxbi1Sxh68rK6gXgHLMRl33Kfe6qfRB4emxxfWl0UQdzwnaby89jRI9cX6BYA0BVBmazveKQDoP+\n",
       "Co4xG/HZJa7aW/CADwIv9KgYVeiaUqr4I1yM2WnCZbm+QPUIZzOTMMqAyRtIG1FYDTFmF/z57JC7\n",
       "9vZTHwRe6KC0aunXOx283ijGbBRdcEWuL9B4VHt8FmJ0IZfgVRvuZCeJELMfNEL2AdcuzEz7ICie\n",
       "4tfE+GAqKGTPcvKdGLPTwvh5qb5IVehvThpK6CbRgXlF2KIWYzYSs3/iLpVU+CDw8NQVYryGbuow\n",
       "gtvWxZidksEvxfrt24WdYz/AhqNowyBNqTfINm8UEGN2qVXM3u6uJF7zQVA8rZDGny62p2EFZz0Q\n",
       "Y3bVLRG5LtR/KaXtU629I3L1zEmcHCIyY/SmcJLczNs7KZtos8oJQiJ4tZs+CIqnr0vxj+nahno0\n",
       "yG8akj6Jae2VLsK5Auo5tNZ7zPqHAFbFrcJxJNcNRVtJkBztZYaUp43hYy3bv+Y4J6LEONT9Od7w\n",
       "QVA87ZHiH5BpWzWxqgEiZ6ghjsYUULqcWXRPnHAVTXEdq68gODwexfN8iSSVosmPItExQmASI58a\n",
       "LP8PH0vCk06sWTbbttyfY3zaB0GxFPnSCQRbAcq7TGssjZWn1CvOWhxSANHRrbSy+tgs8G4bjnxC\n",
       "ksrRphK6yYT8MjKvQwCG8bGLUO8kF5iFKdW6P8i2ah8ERSsHl52OAySNl3WaIKCxkO4CAgX9HTeH\n",
       "D9XfljWkerZ+0fwELjJ2VOlvNUDAYmOdQcCyR337DNYQhrnKBBCr8EFQLJXKGvp6LOlVU0swnTUW\n",
       "g6jzcfAMELPyNrN+OQLBu1yBs2inXoEOi1ADEfixCBfVjRk1Y/BnR+2AZmuj34N9+ee4tMsHQbEU\n",
       "a5ASsBb2Ih7UywwELGZc2JKDflsd+wAVw6gpzQwEqL7SAKGpEYvlHASkD3XzwEDqZriNLWszFjlG\n",
       "d/U6vgWWrW6tg2um/uqsR/RQEJAN4QEvIAgQlbO6D4Fgm2ymWQawOTcbgk2XWikIzJhqvLqBD/qy\n",
       "JPvQmi7p8M3cL9gELcNmgpGnld0mx/tylZWzEtYq06ZUTgITBCw2n2oThKfZgpkdyBKB4oj7g4Qu\n",
       "UhAQZj/3AgIFd7Mk3YdAsCIrjwJ3NAeF/f8F+FU+Tkd0W32JXhKjw4R9P6nmG/ZYRklmQO3KI+He\n",
       "pCB4GTNr8AKCCN5M5vel42BEQl5RSRcQqGsXfy8fp56srb5Ej+UBwfzFr+h5mNdD2aKM4+WUqaNc\n",
       "oCDAN43RhCeZAN927uhLIBhvW7hrrGn/43Vun4jlcj35OD2VkuvLQp64PhfM3c3FDufy3lZ/H+I7\n",
       "e1me5ygIQliM9SYYjkTfdX0JBGdtm/Bmjxxd65d6PmbX5Mu8amgHfzlx4qA3EMROnDje2pdA0GHb\n",
       "hNWsN46u9f/l2aaRF0UfGiCYDLDOGwiUDJRSRYjPcT6tNO9ToBhnb1pi58haL7qZPNM6Vb9b4HzC\n",
       "AMHzoIp2pPiqgQvBvNtQP3kbHhUKCCkYBKj+8ySyhTsrtY8cWzWLRJpqdq2lwZM1bW0snw9zXerX\n",
       "3mIOfCn9Gi23uMVBxDZ7seRC+5SM1IDA1dYBxUr7/IYouFXdNXvacQMEpXrUNPhETjamtJXp4OtA\n",
       "7zaW37ca7o/qijVUcgpRY9fB23Sb5ATM6HnnndQs8h2AL0jghwnLBMeHLQp/DPB7EEGgVcgtdjiI\n",
       "t2YvQl0Q7xQbELnaOhBupeMBMCMTuoQgo9/FIAhmLblwIlos0a0AjwAxVSmTsSEpm4xaW7GcQkAw\n",
       "nMqF4aXcFjrtkFOjXJF+SMom2/oB9GesND7M0VA0/oMkEBDrBN+i0LqtF4EkhHrEBkSu9g7MpuMB\n",
       "wVasDwR3L7mLjwOoG4eXzLhWjb7f/OZvqMcCml7ytvKQbyzEUx56bPlnIKRYICgJkfGPl3DHRvbH\n",
       "jmKKVWQvaOR92Hq0gCPGIubD3PmDl/MiCQRlcotC67ZexBLwVrXQgMTV3oEdxvver6K/8mqotSSn\n",
       "DruwdbvYytRbK84EQ9iB9fyjMDBKFZUHH6T520AjOuqQ6MYZGBu11bG0kGKBIDqYLI2sYimKcXjc\n",
       "Udoyi6g3R04gh/QALnuAY08Dos2LgmCe3CIftvei/tSo/mIDASdLGt+BQYbitp5gKPiUtROctUkf\n",
       "Xp1PvjIK35qasoeB4EW0gpQKGPMDcrUFY8fS/MHkJgzfSye70devP4dyXUixQKASXuFM3DrOpxkH\n",
       "vtRFXGRewjikN5B9930u/33HnsaSDiB4VmpRaJ3vhfoclUC0fmIDMScrHd+BZ+l4AN4xynVeJrAb\n",
       "i7w6nxj0ML4xoMwF7xKtu/IeNY8WXpCviRNdYCAIoFZjKahthTGNjY2JxdNofg2EZjU2voamvIUI\n",
       "DQOhVkoxQQD9ySndvv2aeWFS016lh4dPkrU7XITaP9AhrZLrC3xqB416NPz0Z+LVZAyjOyGB4H6p\n",
       "RRKWa+JeUGsJQkB9SmiMcpX6SPMNhYKOB1w3WrNohHx16tX5xKT9aGDICwiid8kXpyH4pLv5tzBf\n",
       "EyeF/ToDAabyNKzQ4bdEoN5KVe4jeqSVrvvwcPz9EUyMiCkWCAzFWr0Ci44Z+zDUZ2LsulwsEmOH\n",
       "dJg8biUxidB6NNypicMTqBBsHqXGFIktkrBUk/QCOqkEAjMzQmOUq9THSs4+M4iOB1SN3Wj6AVFa\n",
       "Ic+HV+cT84TArxLh1Sl6l2w+iqVRV26F+prYiV0gGfhJQYdGTT7qrjTs1lrx3cY6Qx8/CS2g9sDR\n",
       "IVyKDQT4qEA7JxrfFvLORHlChaWAGLWYH7TIfFKiXoe3kjhxSwriKVzPDKcjnVwl9PEBwD8hNOlb\n",
       "raJgaLXIwrimWZH1Assx6jXQ8F2r2RgYXHEfgTXE8kc9g7f3M4YJTPn7Oy+IE1AuD7RX5xNGoSv0\n",
       "nTLJfWQO7of7W2KF+prYKXieB4E68AHlH6AS603LrFWZyF58tzEfPUXkb2kIwNJEuAL+Xc2l2EDw\n",
       "RAVsupTC47s0oewBberPAFYDYrQ0HdmHP/YaRR7BJUJz23e9Bjhbm7j7NOB5scKlKVSCVkIfCdhU\n",
       "c0aHYDd0cSBAh4rVotk6qgmsItBehDAcxlxvn4IPFLMxRIQr7iOwLrL84Q1lxOhOx0NbPCgrWh7L\n",
       "ZJHOq/OJueehjaxkH0juI9TY8Yq7FZsvnMfXxOEcucyDwKCWxkZjUsnBqP2pcbWRYzwPl2I7Digd\n",
       "485vJWOdsFZoEn/CB7l6ZniyIAOwUH9DnC41bTlWi3xNeat2ePeJq6I4LNdABgn2WBMi47Hk8KF0\n",
       "SJDKArII6tH5JNre39hRGkAbkJHdR+oJ+P/gqmUU6msCjqDL83rZdEms1/PcHcjjaxZui/OMWOhY\n",
       "gmM3navHwlE9y5UwQ13x0TpnNv6uw4zimrYebswLAtxHWxU4NR0U8whQuw//Tty1JS80j84n6hHY\n",
       "kv4lETbWn7kXI0d0H+nIr/Y5+ZoUSPQ9OVcQSCAOQYEgWH4wYRYuyd3gGbHQ7jTHrpqrx8Jzc11c\n",
       "CRbSKoI7+buDqG7VBK6mbYzsF3FcFdJHmTbAQ9X0bsJFnpI3cm/OJ0hPKU2eJgaINATfA9nX5FMK\n",
       "Rzdehfua2Kg+mxcEhdL/4UVTZhT7H9tu9d5sLBx5cz6ZiiBRR3YNfJWBxUnR1+Qw7Y8br8J9TWzk\n",
       "O594oCecQFC088l+tF0dJJjDL/qMz8q+Jp8S4SnjxqtwXxMXA6kPgvx69CnnY31myuE4SBbpfILd\n",
       "QqkCQDybqlKyrwmxEERdeTn5mhRIvkNqAfQyOL+CWyYZCrw5n2AQdDKNLXIJZF8TcnK3ufIq3NfE\n",
       "ZpbwXdMLoLX5R88kb84nUwBG9WANrwSl1hLjpOBrgnXJGbrIqyhfE9vk+T9SUQAdcxMPpbcyvTmf\n",
       "RHeO02vQag/gHyx7jYoMgq/JppX9yD0dx6soXxPbqeb/XE0BNGOki71nvAgOr84nrjTsFnj17msi\n",
       "00rwQeCBSkSB0avzSUEg6I1X774msr3qmg8CT2qD9GOWXp1PXEjwNemNVwG+JtLcJXwQeKJuMbr5\n",
       "tunYmsKL+j9r65GkH7hWs7dJv+KFv+wYrvvKQDC2j/7Ti+fu+Cd4lU5cc3O3ZxD4//TiDiXNeFuq\n",
       "KXf1v6dRc7NYBB+YAAAAAElFTkSuQmCC\n",
       "\" style=\"display:inline;vertical-align:middle;\" /></a><br>(see <a class=\"ProveItLink\" href=\"../../../__pv_it/theorems/c98cfeebe4afbf3d50a0f524b97926461596684c0/dependencies.ipynb\">dependencies</a>)<br>"
      ],
      "text/plain": [
       "<IPython.core.display.HTML object>"
      ]
     },
     "metadata": {},
     "output_type": "display_data"
    }
   ],
   "source": [
    "%proving scalar_mult_absorption"
   ]
  },
  {
   "cell_type": "code",
   "execution_count": null,
   "metadata": {},
   "outputs": [],
   "source": []
  }
 ],
 "metadata": {
  "kernelspec": {
   "display_name": "Python 3",
   "language": "python",
   "name": "python3"
  }
 },
 "nbformat": 4,
 "nbformat_minor": 0
}