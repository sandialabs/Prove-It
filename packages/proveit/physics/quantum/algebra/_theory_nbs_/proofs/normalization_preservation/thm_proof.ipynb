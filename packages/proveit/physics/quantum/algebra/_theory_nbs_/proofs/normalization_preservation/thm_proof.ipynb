{
 "cells": [
  {
   "cell_type": "markdown",
   "metadata": {},
   "source": [
    "Proof of <a class=\"ProveItLink\" href=\"../../../../../../_theory_nbs_/theory.ipynb\">proveit</a>.<a class=\"ProveItLink\" href=\"../../../../../_theory_nbs_/theory.ipynb\">physics</a>.<a class=\"ProveItLink\" href=\"../../../../_theory_nbs_/theory.ipynb\">quantum</a>.<a class=\"ProveItLink\" href=\"../../theory.ipynb\">algebra</a>.<a class=\"ProveItLink\" href=\"../../theorems.ipynb#normalization_preservation\">normalization_preservation</a> theorem\n",
    "========"
   ]
  },
  {
   "cell_type": "code",
   "execution_count": 1,
   "metadata": {},
   "outputs": [],
   "source": [
    "import proveit\n",
    "theory = proveit.Theory() # the theorem's theory"
   ]
  },
  {
   "cell_type": "code",
   "execution_count": 2,
   "metadata": {},
   "outputs": [
    {
     "data": {
      "text/html": [
       "With these <a href=\"allowed_presumptions.txt\">allowed</a>/<a href=\"disallowed_presumptions.txt\">disallowed</a> theorem/theory presumptions (e.g., to avoid circular dependencies), we begin our proof of<br><strong id=\"normalization_preservation\">normalization_preservation:</strong> <a class=\"ProveItLink\" href=\"../../../__pv_it/theorems/717529dfb3b85082b411cdd6ef0e32cccf502c7d0/expr.ipynb\"><img src=\"data:image/png;base64,iVBORw0KGgoAAAANSUhEUgAAAi4AAAAZBAMAAADkhLjQAAAAMFBMVEX///8AAAAAAAAAAAAAAAAA\n",
       "AAAAAAAAAAAAAAAAAAAAAAAAAAAAAAAAAAAAAAAAAAAv3aB7AAAAD3RSTlMAq1RmmUTNIjK7EInv\n",
       "3XZ/CtNrAAAACXBIWXMAAA7EAAAOxAGVKw4bAAAGuElEQVRYw92Zb4gUZRjAn92Z3dmZuZs77EOa\n",
       "eKycyYV5DvkHO0JWWk/NyC0xKK86KJCEYrQQ1LJV7ENIekZiWyRT+kWEczT/0J2kIWEU1iFafnBh\n",
       "TfMviRJBCEHP+7zv7MzszuzOkfnB95i/+9wzz/Ob93ne530HoHmbULYgdkuUf73rkveq/VHO0maU\n",
       "T8cR7x+N7vT/IHnPmmTyDabfd1wsUPAvcEO0DNvV/Og15f7mYmRhGWzy3znknqhF3NX86LVUJcil\n",
       "nd3sbMIlwQ5JM6a3MVRyyVGojdumcNeVCf+MgcTPb1a5GPigXCMucDHIZR67t7wJF7nA/LBicomh\n",
       "kkuOQm3MpvUL1/W/8OqG11903EYacknbAS4bWGwNNOGSYV1gTdzoiKGSS45Cbcwmm8L19C28esrj\n",
       "MojbgYZcpFyAC8OkZ5vllxVCbSwuMVQKyfhqY7YW1/U29l7aPS5d4g1Ec4EfAlzYId00706PnX7T\n",
       "EEelkIyvNmab7Lr+CqZRzfG4OCJiG3B5NTgenSqXf2zKpaVcPu/EHmWaqxSS8dXGbItcLsdw8JEK\n",
       "nIt2yQTHGIGkE85leD8bqWB/kMsCgE9DnuAEuMhFUO0wQ5I8a1YCXCJU1nPhamVxIxeRM8T+SlVQ\n",
       "Fteh75y7fr76j4dATx7XTOMOJV7BRS5To0B7t6CdVDDsZwW5rASlPeQJuQAXFFkJsOm2qXzOge09\n",
       "NQRPjwWY6bfd5RKqUlvEwK7vtnySXK1KaQ/gsarstblXPNKq2B+pCkpZfl3fTgsu2m020RBcNsoj\n",
       "kgXHaaAM6S8/AXxsoG2PBrmotl7w131nDsET7bVc8P1jnCYxyS/FwvFCqQDbCIYm/E85fi41KmHq\n",
       "4blYSSgHLZZp+/2SpFYVBQYdt4zbDnsehEecGUumhHJBQRiI4vKd4JL8k70DwcVuqejk0IYwLjI6\n",
       "1cuG8a1BLsmKlyOZURN1W7bruHRTNPVTxORZOG6jmkB2/V/h99avkkE0dDiC4LRLBe04S/ueJKkl\n",
       "d1ehMuQmYwzCUAUkp3ugNZQLCsL8Zlz0v/HkiFvvTrN10CrVoq9mCEPIR4fwpK9mHtA/p4qOGdVZ\n",
       "yelwMH8mX/BzSUuot9VhecegApVzQdNnzL6Z8422RMRTSRANA3pYXChnlRE455cktSqkLkBPa1HJ\n",
       "8apTm42PthLF1fVcuCC8HeCiz3G0mjjSb7nDNOPSizBZpCwPyy/70IJjrKqYWsPlAL5r6cktl7hR\n",
       "0PXwer0uv4A+GfXuK7D+sgc8LqtBm3kCTgJMCnBhKrm5BBG5XEd9mUU29peTfklSq8Jgm11Rsxge\n",
       "Gis7kqtYDmqFiy/WcRGCKr9eWMJmIukOXejc6cYRZtmE5XJZCD0s/lmtWd9f2pDLUXbyeA2Xd5Da\n",
       "rj6zxSKjoEv/clk9F+Vb3E3DRFKEJT4uL4Ay2A932ImfC1PJzSWIhq7sNCH1AOkK5BdSq8LaqVCR\n",
       "ijinSjGjpF0sQ38BU8w6LkIQ51Ref5HbYdZScb7fHY9eA2Vsdd7YZzlszGa1Zkh+GQBpcYaP8QEu\n",
       "Cezpay9Dm01GYWWYu1bPBdhTeinrzcKXlIVxxGUi/nslhan+gwAXppKbSxAN+TPsCmPY6fpOKyA5\n",
       "ljveoWRR22aQXi+VPsq8X/QbHsgvXDDj+Li0FKDPTfsfulz0bc948+nM+J1XqAeGjkfD06/L3+Dx\n",
       "bNg6QwemHTIKuexN19UvvM2lecZmvrZFXBBHS1HOFWviyDOXIBqG/lyDdQZ096xkv8XSaYYei3kX\n",
       "7HAuXBAztBdHbRZsdaUx94StM2RoVjKp4TwAU18Il+8hn+FGdUGqO2L95SUqrXmB15qFq/QK3oPW\n",
       "jUW4WectN5cgGkZqma3k8/l5UVw6DMWh5EL14Lr5oEfULyTIotPrL+kCHNN8k78QLgaZvKMhF9kM\n",
       "4aLcgnNd3Cis1C5EcEmOZ5lZ+YTKtOFhfDeqBc+C8RV/ZtBbbi5BxHF6KNewv+xeiDoMzAFrWAhp\n",
       "h0sLIuKIBOF3Pxelo1P+zRXeEcpFd9cgGnBZE7Zel2qHGyYZlfnFEoVi5Hrd3lLJHcPdek4bqPOW\n",
       "m0sQn7/s7O5tyIWqEnbUvi5tr5EL1i9MMLquYz0prL9QrzUbctkRvY4ZYlSzdcz5ohNaUauTPoiN\n",
       "uPTg9nK4XJBLj1hzjOCiVGALrPPfuVr9/kCVa/BH3wKodVfXd3We8Wb+l/VdVUw8H4rDhQkm7Egu\n",
       "9/J7wBuNvh/Zvj15G/urUFVSCagKX6nHvV0V1MT1Xf9+dN6kzSif+BfEAuP/iHEZlwAAAABJRU5E\n",
       "rkJggg==\n",
       "\" style=\"display:inline;vertical-align:middle;\" /></a><br>(see <a class=\"ProveItLink\" href=\"../../../__pv_it/theorems/9e6cfb68b88963cc3451ffd142761657a986cbf60/dependencies.ipynb\">dependencies</a>)<br>"
      ],
      "text/plain": [
       "<IPython.core.display.HTML object>"
      ]
     },
     "metadata": {},
     "output_type": "display_data"
    }
   ],
   "source": [
    "%proving normalization_preservation"
   ]
  },
  {
   "cell_type": "code",
   "execution_count": null,
   "metadata": {},
   "outputs": [],
   "source": []
  }
 ],
 "metadata": {
  "kernelspec": {
   "display_name": "Python 3",
   "language": "python",
   "name": "python3"
  }
 },
 "nbformat": 4,
 "nbformat_minor": 0
}