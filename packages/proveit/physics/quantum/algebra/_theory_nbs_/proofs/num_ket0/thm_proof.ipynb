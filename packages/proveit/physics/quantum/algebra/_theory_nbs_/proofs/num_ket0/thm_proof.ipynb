{
 "cells": [
  {
   "cell_type": "markdown",
   "metadata": {},
   "source": [
    "Proof of <a class=\"ProveItLink\" href=\"../../../../../../_theory_nbs_/theory.ipynb\">proveit</a>.<a class=\"ProveItLink\" href=\"../../../../../_theory_nbs_/theory.ipynb\">physics</a>.<a class=\"ProveItLink\" href=\"../../../../_theory_nbs_/theory.ipynb\">quantum</a>.<a class=\"ProveItLink\" href=\"../../theory.ipynb\">algebra</a>.<a class=\"ProveItLink\" href=\"../../theorems.ipynb#num_ket0\">num_ket0</a> theorem\n",
    "========"
   ]
  },
  {
   "cell_type": "code",
   "execution_count": 1,
   "metadata": {},
   "outputs": [],
   "source": [
    "import proveit\n",
    "theory = proveit.Theory() # the theorem's theory"
   ]
  },
  {
   "cell_type": "code",
   "execution_count": 2,
   "metadata": {},
   "outputs": [
    {
     "data": {
      "text/html": [
       "With these <a href=\"allowed_presumptions.txt\">allowed</a>/<a href=\"disallowed_presumptions.txt\">disallowed</a> theorem/theory presumptions (e.g., to avoid circular dependencies), we begin our proof of<br><strong id=\"num_ket0\">num_ket0:</strong> <a class=\"ProveItLink\" href=\"../../../__pv_it/theorems/dfb6eed10ea0bc6787499586fe61b7d1e462ef480/expr.ipynb\"><img src=\"data:image/png;base64,iVBORw0KGgoAAAANSUhEUgAAAFEAAAAVBAMAAADMaB9/AAAAMFBMVEX///8AAAAAAAAAAAAAAAAA\n",
       "AAAAAAAAAAAAAAAAAAAAAAAAAAAAAAAAAAAAAAAAAAAv3aB7AAAAD3RSTlMAIolEdjKZzVQQ3Wa7\n",
       "q+/tGue1AAAACXBIWXMAAA7EAAAOxAGVKw4bAAABUklEQVQoz33Tv0vDQBTA8W9i0yZtxfwBgkEF\n",
       "HRz6H9hBXUTIPyBWHQSnujkGB9d2UlDQuIkgdHbQOrgpdHF38R8oIi0u3ruLv/DSB0cu8OHu3rt3\n",
       "hOjwsIaTfWM1Zsy0GlulWzPfByPd2U38Rq6cXgk5NHKfk5A0T5aS4IKylpUUt8t8nryBBdxEZLWH\n",
       "P2QyTz5Bq+10RU408AaUwhz5DhsJeyLPlfzAj+wyENnhQORUhPfGr5R2rySujXT6StYlJSPV7zac\n",
       "Nv+vqWVEsSa7R4ypNdfxllLL7kou1vF6JiN/gJzET+0ZtRJJQ1WpS2WIZJfJP+fkEe7aUhpV+ReK\n",
       "TaRi1jVvYQcpt7rNS85ifQtWWU6CV+QKlTyafUbfrFUGW2uxrmHWdbpbrFKHtNqXvB8pq+G3DFTR\n",
       "nbl+PUce//R8oTOy51fVWDbTcfs7KmSPpgefRb5Q8GNYTNcAAAAASUVORK5CYII=\n",
       "\" style=\"display:inline;vertical-align:middle;\" /></a><br>(see <a class=\"ProveItLink\" href=\"../../../__pv_it/theorems/6b89daf283089f6ac998d416e69bde99e0ff52ba0/dependencies.ipynb\">dependencies</a>)<br>"
      ],
      "text/plain": [
       "<IPython.core.display.HTML object>"
      ]
     },
     "metadata": {},
     "output_type": "display_data"
    }
   ],
   "source": [
    "%proving num_ket0"
   ]
  },
  {
   "cell_type": "code",
   "execution_count": null,
   "metadata": {},
   "outputs": [],
   "source": []
  }
 ],
 "metadata": {
  "kernelspec": {
   "display_name": "Python 3",
   "language": "python",
   "name": "python3"
  }
 },
 "nbformat": 4,
 "nbformat_minor": 0
}