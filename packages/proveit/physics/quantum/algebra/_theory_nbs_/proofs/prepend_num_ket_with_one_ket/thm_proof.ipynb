{
 "cells": [
  {
   "cell_type": "markdown",
   "metadata": {},
   "source": [
    "Proof of <a class=\"ProveItLink\" href=\"../../../../../../_theory_nbs_/theory.ipynb\">proveit</a>.<a class=\"ProveItLink\" href=\"../../../../../_theory_nbs_/theory.ipynb\">physics</a>.<a class=\"ProveItLink\" href=\"../../../../_theory_nbs_/theory.ipynb\">quantum</a>.<a class=\"ProveItLink\" href=\"../../theory.ipynb\">algebra</a>.<a class=\"ProveItLink\" href=\"../../theorems.ipynb#prepend_num_ket_with_one_ket\">prepend_num_ket_with_one_ket</a> theorem\n",
    "========"
   ]
  },
  {
   "cell_type": "code",
   "execution_count": 1,
   "metadata": {},
   "outputs": [],
   "source": [
    "import proveit\n",
    "theory = proveit.Theory() # the theorem's theory"
   ]
  },
  {
   "cell_type": "code",
   "execution_count": 2,
   "metadata": {},
   "outputs": [
    {
     "data": {
      "text/html": [
       "With these <a href=\"allowed_presumptions.txt\">allowed</a>/<a href=\"disallowed_presumptions.txt\">disallowed</a> theorem/theory presumptions (e.g., to avoid circular dependencies), we begin our proof of<br><strong id=\"prepend_num_ket_with_one_ket\">prepend_num_ket_with_one_ket:</strong> <a class=\"ProveItLink\" href=\"../../../__pv_it/theorems/b7179dd99aab0507cb4ecd34f8393238455ae81d0/expr.ipynb\"><img src=\"data:image/png;base64,iVBORw0KGgoAAAANSUhEUgAAAcYAAAAZBAMAAABZU5NUAAAAMFBMVEX///8AAAAAAAAAAAAAAAAA\n",
       "AAAAAAAAAAAAAAAAAAAAAAAAAAAAAAAAAAAAAAAAAAAv3aB7AAAAD3RSTlMAq1RmmUTNIjK7EInv\n",
       "3XZ/CtNrAAAACXBIWXMAAA7EAAAOxAGVKw4bAAAFxElEQVRYw9WYb2gcRRTA393e3W52765XFKwF\n",
       "29NqOAzGwzRSQcpBLlCrhZN+tJXzD9T2g91CRWPTZNMPorSJQQnp+UEWFaEU6jXtYSWg0VKq2Nqz\n",
       "ltoPnj2T1NoUNQTU0A/GeTOze7O3e93TQDET3l129u2795t58+bNAvi3QOV7WLItXjnfjFoElnTr\n",
       "uIWMMvljbe263zJeGkozZnTy59bmfWA4evRbzTgJWo7+o3aehNNeGi1GE7GXhJKHNu+Dg3bP01wI\n",
       "YwK/1vgwBvArmF4UYrCIjHJ2uyEfycONuruHzqJKxt9MG+MZNJ3aJW7i3tpgpJkQxm683ubDGMIJ\n",
       "iOiLYvwQkLEHtD8gUA1P1N9+Hj/KvlbUPPKot+80ndolbiJW69rBpQMGcKUM+zAqONs9iwvVLsp4\n",
       "B8AZiBqhDA+0zdbtOfwY87USSjOe302uHR8fn+GMaEJL2qpruXRAxHTcaLAedzTlwE3bBGU8Z8Jq\n",
       "vR9i+zhjO78bpsHrP4xRqDGitkIAj+RoHzUhTFfUZNIBUto3qURYbsovbjnmKeNdAKuNJyF+DJyM\n",
       "Gg1e/+XQKjCi9htE1BHax0zUll0kzYT4frZS+dqXMVqp/FBcFGOoCDyvXha7LcZIInjcxLzk0x4X\n",
       "GFE78zHAB5qJfcxEm62qJZgQxg0A73gYKzoYQwa0mOJt6VhTZPs3iqNKGZW/vRg/St/Tm26QdEIV\n",
       "2ugO8JzASLTjuqarGbWIfcxELelIeSaEcRfICQ/DGQcjUdlFnvjR7jtAZPy6M+WNL3cMg/ow+Thq\n",
       "XcWSnDGW8GJ88KXkayTsusFlwdnOi4zduKmd2A1kAyxZJkI5e3VMMCGMLaaWE6uRCyV4NFHPSKYa\n",
       "LZ/Cy6E7R+i6kKphRz4OQagsdT9kB8DQr3z9sAyQ44yP1Z7YVKmcqVS+xX+fWEd7BhxjTC042ymR\n",
       "cQA08rMJDLqSZUKxh1CZZUIYg9VaykH379bMkOlibMeUI88iyga+9qMG/CX+/LKcPB+8JoTbA16M\n",
       "kjNorHm8mDX4Ds/bsGXhJoxtZFxhzwl0tmSZqC1p3IPDEzxfrrdnAt1fU81ocDx7IZsTGSNSlfg3\n",
       "3FeEKSu/9ZvwhWOJmvI8rJDz3oxWrLaBrLsZ1bnwPMuKUtfQdB2juB4dsbqNMMrFeI4ychMk2fJy\n",
       "OFhmgoxjZPNjlqn7qfv6NNd6BK2VGA1cvf+0yuKTrJQ3TfjOOchaGcrxTlNk3GrXolXKqBQhbroZ\n",
       "pRvqXJzubu9vSUf1xvP4rsBItJXkfoArYaxhuYkeuxyWhpkgYy8ZIGqZuZ/S3nvKzSh/jvE2CUaY\n",
       "Vq3KC5TxG6cDg6aaCB5zzGNkRszkOdibzW7yiNVAXp3XaDHy6s+wzGzMeJQzfqaz0uUKCc04rWG5\n",
       "iTGwymHcrVCQMUDCmFpm7qcgc83NCCuI9JOIl7YXCm/BwEoaq3POwxPfg5QCaaPMw+CLVgYoU8bL\n",
       "Cwt/ejC2JGF6hlWbq2ALhAqFrwpvezEOMsbl555h20QL1gArsY+bID/Dy+FYjol9tkLLzP0UHI64\n",
       "9kfWHgmXdYXd+Mmdc2A3vOy4Rg977atLVg3gmXNYw1PDl5BVGs9jzKido+gZY72hTAlnKzyM8HJ4\n",
       "LzCxGdEycz8F4fYG58dVSrnICwaSS+LVME0Dh0GlD8oHX9/oYmwVS2QPxs2Oq1Gauy+lGjNKmRrP\n",
       "KM1W7ZOmwIjzysvhLnYQsBmZZep+J50kT8ZRuM2AHsOqG8enafY4oCv0xBtdWJgVH9uz81ORkfy6\n",
       "B6Pr4ETG7XqaM1ILdW3U5lHzHmdkcoIDVg5jdU4rdIuRWUb3lYs6OxI3eg+gflIYEX33r6H5c8O+\n",
       "jHHhFN7ouHfI5hG1bcYpcUyp1L3rYO439a5j679mhD6I+7zLCHjXks7EVoVf3NpWH9QqjKtc/vv7\n",
       "nEi1KUTl2aXyXs7r/eq+puy/8j94v3ryH3NAo/s0tEuEAAAAAElFTkSuQmCC\n",
       "\" style=\"display:inline;vertical-align:middle;\" /></a><br>(see <a class=\"ProveItLink\" href=\"../../../__pv_it/theorems/f0c0fc6501cb4d480e8d1c0966bc08c9cdd33cd50/dependencies.ipynb\">dependencies</a>)<br>"
      ],
      "text/plain": [
       "<IPython.core.display.HTML object>"
      ]
     },
     "metadata": {},
     "output_type": "display_data"
    }
   ],
   "source": [
    "%proving prepend_num_ket_with_one_ket"
   ]
  },
  {
   "cell_type": "code",
   "execution_count": null,
   "metadata": {},
   "outputs": [],
   "source": []
  }
 ],
 "metadata": {
  "kernelspec": {
   "display_name": "Python 3",
   "language": "python",
   "name": "python3"
  }
 },
 "nbformat": 4,
 "nbformat_minor": 0
}