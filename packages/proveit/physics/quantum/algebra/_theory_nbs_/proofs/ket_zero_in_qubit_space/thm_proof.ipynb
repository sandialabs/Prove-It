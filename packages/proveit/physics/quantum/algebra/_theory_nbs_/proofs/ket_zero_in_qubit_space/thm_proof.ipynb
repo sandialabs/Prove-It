{
 "cells": [
  {
   "cell_type": "markdown",
   "metadata": {},
   "source": [
    "Proof of <a class=\"ProveItLink\" href=\"../../../../../../_theory_nbs_/theory.ipynb\">proveit</a>.<a class=\"ProveItLink\" href=\"../../../../../_theory_nbs_/theory.ipynb\">physics</a>.<a class=\"ProveItLink\" href=\"../../../../_theory_nbs_/theory.ipynb\">quantum</a>.<a class=\"ProveItLink\" href=\"../../theory.ipynb\">algebra</a>.<a class=\"ProveItLink\" href=\"../../theorems.ipynb#ket_zero_in_qubit_space\">ket_zero_in_qubit_space</a> theorem\n",
    "========"
   ]
  },
  {
   "cell_type": "code",
   "execution_count": 1,
   "metadata": {},
   "outputs": [],
   "source": [
    "import proveit\n",
    "theory = proveit.Theory() # the theorem's theory"
   ]
  },
  {
   "cell_type": "code",
   "execution_count": 2,
   "metadata": {},
   "outputs": [
    {
     "data": {
      "text/html": [
       "With these <a href=\"allowed_presumptions.txt\">allowed</a>/<a href=\"disallowed_presumptions.txt\">disallowed</a> theorem/theory presumptions (e.g., to avoid circular dependencies), we begin our proof of<br><strong id=\"ket_zero_in_qubit_space\">ket_zero_in_qubit_space:</strong> <a class=\"ProveItLink\" href=\"../../../__pv_it/theorems/6f688d44b4b89086dda7b01709541e2c1cafe54f0/expr.ipynb\"><img src=\"data:image/png;base64,iVBORw0KGgoAAAANSUhEUgAAAEYAAAAYBAMAAAC1hJYwAAAAMFBMVEX///8AAAAAAAAAAAAAAAAA\n",
       "AAAAAAAAAAAAAAAAAAAAAAAAAAAAAAAAAAAAAAAAAAAv3aB7AAAAD3RSTlMAIolEdjKZzVQQ3Wa7\n",
       "q+/tGue1AAAACXBIWXMAAA7EAAAOxAGVKw4bAAABb0lEQVQoz2NgwA84le5OIKCEgY2BbQEhNfwG\n",
       "jF8ZBCBsVhxquCcA1ShD2DwBGC7RWV4iqsDAwLQApIZJJZGBIwFdje9rhml/gKJRE0BqKhhmCTCg\n",
       "u4zNGWjGngQGxpMMQDXcCxiYDjBooKkJ4wH6mTeBQYxBEKiG5wIDx08GGagcy6lVy0H0TR6QmzYw\n",
       "Hg3NBKrhT2Bg/cHADvEgcwk0yA6IgSm+//8/ANXMB6r5zcChABYThyphvBCEsFeZQV6BgfULA9TR\n",
       "hVBhVgVrdDWfGBiSwdwCqDBjggmymvkKDMxAc2LB2l+tWrVqDdg9QshqgG7m+MHA0AQO3AMw8ZM8\n",
       "yGp4DjBw/4S5BB6UZqDwYTCAquF+wMBWwMAIMcEFEc4XGEDiEDUMKxjmBTAwNYC57A0wRT5lAjOW\n",
       "weximKZylYGBCxrbdyzh8f5+mQBcDRi0QWlmHUhcIAOYmoN4EiNUDWcBYTUsG/CocYVQvHiUAADU\n",
       "Y0yklN+m5QAAAABJRU5ErkJggg==\n",
       "\" style=\"display:inline;vertical-align:middle;\" /></a><br>(see <a class=\"ProveItLink\" href=\"../../../__pv_it/theorems/798f53743fe7689832b683c3156472a568064f6b0/dependencies.ipynb\">dependencies</a>)<br>"
      ],
      "text/plain": [
       "<IPython.core.display.HTML object>"
      ]
     },
     "metadata": {},
     "output_type": "display_data"
    }
   ],
   "source": [
    "%proving ket_zero_in_qubit_space"
   ]
  },
  {
   "cell_type": "code",
   "execution_count": null,
   "metadata": {},
   "outputs": [],
   "source": []
  }
 ],
 "metadata": {
  "kernelspec": {
   "display_name": "Python 3",
   "language": "python",
   "name": "python3"
  }
 },
 "nbformat": 4,
 "nbformat_minor": 0
}