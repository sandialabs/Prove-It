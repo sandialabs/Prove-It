{
 "cells": [
  {
   "cell_type": "markdown",
   "metadata": {},
   "source": [
    "Axioms for the theory of <a class=\"ProveItLink\" href=\"theory.ipynb\">proveit.physics.quantum.algebra</a>\n",
    "========"
   ]
  },
  {
   "cell_type": "code",
   "execution_count": 1,
   "metadata": {},
   "outputs": [],
   "source": [
    "import proveit\n",
    "# Prepare this notebook for defining the axioms of a theory:\n",
    "%axioms_notebook # Keep this at the top following 'import proveit'.\n",
    "\n",
    "from proveit import (Function, Lambda, Conditional, Composition,\n",
    "                     ExprTuple)\n",
    "from proveit import a, b, c, m, n, x, A, B, M, X, Y\n",
    "from proveit.core_expr_types import A_1_to_m\n",
    "from proveit.linear_algebra import (\n",
    "    LinMap, MatrixSpace, MatrixMult, ScalarMult, \n",
    "    InnerProdSpaces, InnerProd)\n",
    "from proveit.logic import (And, Or, Forall, Exists, Equals, \n",
    "                           Set, InSet, InClass)\n",
    "from proveit.numbers import NaturalPos, Complex\n",
    "from proveit.numbers import Mult\n",
    "from proveit.physics.quantum import (\n",
    "    Bra, Ket, Qmult, psi, varphi, ket_psi, ket_varphi, bra_varphi, \n",
    "    var_ket_psi, var_ket_v)\n",
    "from proveit.physics.quantum.algebra import (\n",
    "    HilbertSpaces, Hspace, QmultCodomain)"
   ]
  },
  {
   "cell_type": "code",
   "execution_count": 2,
   "metadata": {},
   "outputs": [
    {
     "name": "stdout",
     "output_type": "stream",
     "text": [
      "Defining axioms for theory 'proveit.physics.quantum.algebra'\n",
      "Subsequent end-of-cell assignments will define axioms\n",
      "%end_axioms will finalize the definitions\n"
     ]
    }
   ],
   "source": [
    "%begin axioms"
   ]
  },
  {
   "cell_type": "markdown",
   "metadata": {},
   "source": [
    "### Define Hilbert spaces\n",
    "\n",
    "A Hilbert space is an inner product space over the complex number field."
   ]
  },
  {
   "cell_type": "code",
   "execution_count": 3,
   "metadata": {},
   "outputs": [
    {
     "data": {
      "text/html": [
       "<strong id=\"hilbert_space_def\">hilbert_space_def:</strong> <a class=\"ProveItLink\" href=\"../__pv_it/axioms/d891ecaaf9c0d7b908f334f3aab7eb3b77b479ae0/axiom_expr.ipynb\"><img src=\"data:image/png;base64,iVBORw0KGgoAAAANSUhEUgAAAU4AAAAVBAMAAADbQxraAAAAMFBMVEX///+qqqqIiIju7u5mZma6\n",
       "urqYmJgyMjJUVFTc3Nx2dnYQEBAiIiJERETMzMwAAAAO8wFwAAAAAXRSTlMAQObYZgAAAAlwSFlz\n",
       "AAAOxAAADsQBlSsOGwAABLtJREFUSMfNl2FMW1UUx//l9VEK7WtdskRlCV1Fp/uymuBmJmbPBSfy\n",
       "YXkuizEDQkMWph/m6lJlosZKlJDFxKcSNyWOZ3RjNCFMEQQWxj5gYGNZO/ngiDE0xswpWbqZDmXY\n",
       "4rm3j9dBW9IPI+Gl7/Zwevp/v557zr0XYO1e1jRjbV4bibB77PAJTXQBN0LD2nG6rf34YwA1Q2nR\n",
       "ZRXPmHMUrg0Ny5n8X47EWxu9S1x5EwqEigqnnF3NpAHd/Sj7V2bEiIbp9kGMAePAUs5CQLgM01iu\n",
       "GWBaGf0BWH9Y5lJQHsEGX3axbYD5YWI9KMPiAToCdJM+mVeBpiWhbYRKv/hArpxMK5v/kLbE5VDw\n",
       "DZC/Aucu4Hc7URXIyJdTnMjAWQpYSN5+Lzij55dzsmeFs4udASbZk61Unb0rckpUC3YKyb8XnHW+\n",
       "5Zy/ULK8WbVEig+36X+8YXAeG+Cc/vpSJ6w7S1Hz3YNv3v9fq9M0f5Liaob2V5Jk/eavqbGCX/EI\n",
       "6RG3L41Hmnje3YzkaOjwZ/Q4uVnmfpYCg26qz5IhhXAmTlW0UCrcQQ+EqqATbW4Zv9VvglmDNfCX\n",
       "LnyatAdaW6fDvImI820VfsyoeT7EHpjFKIVsWfiH5M4qwihMg3gO1m9RHWERTwNsKs2X+BXQ81bU\n",
       "jKiqj4YO+T/pBzOlC7C78JQTPQryFhZeB4r6UC6jWDX70O4Uz0mD2CSEYYPFC0l7Uec8kJr3q/x1\n",
       "hCZIIbxbuESdxTiFl0Oz3F+iEGedavGRKIuo9kBLn1/7GTi8+mjodFwMsqWFTJsGKYGfKZR+/NYP\n",
       "F7ywBGC6TZLiHBopEzYZjvW9tNLYaF7lPbrwhuWcfqqc3bOsTomMc1KZjnD/Dmq6J3rUHQQnsQhb\n",
       "/LEMdWgPw+FKjpKho9c/mVEncEf4m9QU5pm5CYsMgfpA2Dcn3GHrFZFroZ9oSigg/MXiKpaJ80qs\n",
       "oeFVZjFO1kN1CveHUfZeiRql9jOxCKFzQV6R02To6Jx+NilAXEpyUsGLtxkn4hAq75tjbpTsamiI\n",
       "bH83xjknF1ea6oz5vMU+auKcGot0RJL5NPVR1bG0SiziU2xNpNfn3fk0dHTOpmQ+Y3o+mTOh57NY\n",
       "keZYWnmA1SMciljI2MvWTygZ5p1NTYRaX+T6fmg2iupI1mekSEbdiWPU5E4WsQ5oWTGfMHRSnCQh\n",
       "JvAOr88fiegmr88Evoc492cjzVQR4bzgQoGX2i25H+XRlw8a+yZ+Tfa7B0cxo6CL12Yncb4GgVav\n",
       "t1ThIhwytlz7vB+FKoso9mAqfd+0cMLkaOhEkwsYmdI5tnO0K/jIhTEntlE1DqJcQwx5iVfaveiS\n",
       "+lD4cS/saiGboc4mz+OscHbieihO55C4duPs5I35KUyu36PA+n5QrZ2/QlvWUbVArGillB6pf1SB\n",
       "1Lxu+2E8WdXFI/bVb1aWYr4Uiu+eHr42PS7x0dBh+uyYwiTbgh9Q01S5owMI7K0k29LipvH6xoc6\n",
       "XQLF43hVl3jKfRIiW/Ss3SOjKr1fyHWn8a/a6c2S7ch0+a6T6Pk1zLk/ZZq9uaqNrxqnLcuZgEo0\n",
       "dYDNVax2fmqVMMXpYTXzJ0LqLDW5pv/v+GzRyFfxP1s94VPJnv3TAAAAAElFTkSuQmCC\n",
       "\" style=\"display:inline;vertical-align:middle;\" /></a><br>"
      ],
      "text/plain": [
       "hilbert_space_def: HilbertSpaces = InnerProdSpaces(Complex)"
      ]
     },
     "execution_count": 3,
     "metadata": {},
     "output_type": "execute_result"
    }
   ],
   "source": [
    "hilbert_space_def = Equals(HilbertSpaces, InnerProdSpaces(Complex))"
   ]
  },
  {
   "cell_type": "markdown",
   "metadata": {},
   "source": [
    "### Define the bra notation from the corresponding ket\n",
    "\n",
    "A 'bra', such as $\\langle \\psi \\rvert$, defines a linear map from a Hilbert space to a complex scalar via the inner product of the Hilbert space."
   ]
  },
  {
   "cell_type": "code",
   "execution_count": 4,
   "metadata": {},
   "outputs": [
    {
     "data": {
      "text/html": [
       "<strong id=\"bra_def\">bra_def:</strong> <a class=\"ProveItLink\" href=\"../__pv_it/axioms/7a6f4859e61e7eae5e9921a6d6bd5ba4795d7dc50/axiom_expr.ipynb\"><img src=\"data:image/png;base64,iVBORw0KGgoAAAANSUhEUgAAAmEAAAAfCAMAAACYnOrhAAAANlBMVEX///8WFhYNDQ2IiIgiIiIQ\n",
       "EBB2dnbu7u5UVFTMzMzc3NwyMjK6urpmZmaYmJiqqqpEREQAAACBdEgOAAAAAXRSTlMAQObYZgAA\n",
       "AAlwSFlzAAAOxAAADsQBlSsOGwAAB7FJREFUeNrtWwmW4yYQJWFHrPe/bNgFAmTZ7vY4iXhv3B51\n",
       "qeoDn9qkBuBLB0MICXCPf/OAfg/N16LbPmxPHH6OvzlbSD4V488AoFI2Bi9pOxHiz836VdAP10Lr\n",
       "m2F5ZfJZE3b4FZEP7k0CEzH7xG7BzdAGwiVtJ0JnpjWUFzS8OoJKCRuG7Stq9Ncx7GPgDCnrY36E\n",
       "YWmFjboOwFHQQpgYHbWdmJyYFjit4Wa4k481nHk+tTlWjgOdgSoHNjBMVRub+DqGfQocrR4TgR9h\n",
       "GFlqW+nYRdHKKDpFdjA5mpYuckcjIBi9oGE5lOISu5Iuz0FttDKMM7CMD3+cYZ8Cp/TST7zEMAqX\n",
       "HvEhwxKEmdFB25nJiem06Yxd1LAaNgBEGa+D89XQas/DCtuI+T6GfQocPktCXmCY4Q8OBhRLhiUI\n",
       "M6ODtjOTS9NMXdRQsVpfEqLq5U1kqLM5uIvFcmFaGVay/Q18IcM+A05uQ7R8j2FkEtzpaU5VGZYh\n",
       "TI0eU4VTk6u8YskwMjUjN0gnaYUjiyBZVG5630AcKIow+cpa8iPgVFEP07JwntbWxTT2GYZRqGDa\n",
       "LLh1FcQxvUErhmUISWcPpNUGHpo8CosNs5B3YNzEyUeg/V10eiZzrTAGybJchO0MU3Ealn4lwz4C\n",
       "btP9vsdTzjctGekYplAz2IxhBBgfcanXB1NxiBacModQpLZeLOnsgQy8PDc5uJcEeczDTkCvPCFx\n",
       "qyBZlks3QUiw8vGFDDsFpxbfx/+ej9J4lqxJSFj5eMKHCeNZ6JdV1Nxur4bRMbtpT41wuoOQdB6A\n",
       "tNrAY5PqiNvOGXYGep6eeEfobBgYL5MKg5o0J8w1Xxdqw3z0sZRgTCggm/M+xZe7gFoXUsJFYZvu\n",
       "hRASTt5kWAturGoW38PMzKyLM5tbWNd+T+KvNS1EfYJh/h4MswIFumoY/P0X6oarTSkvhMr3srnZ\n",
       "uXRAWm3gsUnOrjHsDDTHBW67vlI7ZvyQji0Zxl3DMANrYk18Dhcl8pQ5ZNbKig7ieC0euvANnfWy\n",
       "wm4q9i7DdnBPMWz/f5nCMLeRYSUHqu3HWMA/lenLEDfIXvvvbEbH6qJtFKiS7mQIDcMgmGkDj00O\n",
       "B2nBsDPQ1C76w6LzvBOGSdyWahvQEGTu0HizwKW31qGDeC8m1gxLUkn0bYZVcE8yTAnQTWGYW2vL\n",
       "dHVcOMgyBSj6ZB4W442ITXl6yGP6teKHDNqyvpqN2g5Ahqzo3OSQQi0Ztga9aL/a7JAcvxYlATH7\n",
       "fJN3I6o9UB3DYoDMDMMaQhVvJZpAX3hsUinJHPFQt7gqwl9EGpIgJYjOQQASyES+yVuJP1YM28Hp\n",
       "uDNYrxnWSAgFDlPo59YtWDFvRem/BhnK+NPdCmVTXDPy2FtC540H1EHIDOuBFG30wI+5ybEhtmbY\n",
       "ErRPdcCsV5GuKrdu7mjbMkxg1mSgNZC0LtIi4ofFJUAmhgWfYLbsBfx6SCwF8cSLSpFDkVBRKtTB\n",
       "oSDCIu+xIvkm6a+KE4ZVcFKEnF80PasjwzoJO3r5Zm79opTp5/CwbXDjWmXB56Kkn6BXouXQKe60\n",
       "yGU/LEPIz146IFkbdVsf4+Ymxya1tfvnFQ2df++S3PwQNdBB8J13W7NcCnYNzdrKpptz2A+XEjow\n",
       "8WGJXNmHxZ6ITM7BF+DJSXBcMiAbyF6lhCeA1TlYCZpv4k4ZStcMq+Bg/keWDOsk4rPydgrd3Pqc\n",
       "CB0cjfZ5OCIvdVw5I1bXlv3qGZ/iy54+6jxBC6RoQ4j2SfXU5NE095Wfpf7TWTik5WvQlFlJp1T1\n",
       "7sJxiZuI2j7vyi/3Td7eialKamboLZak1pwzzAcljbUfMl/IPqzEpSoVgiOCIbFMxvNN0jZl1UmZ\n",
       "HBIpU1LfFcN2iVjGtlPo5nZoV3DQH1+lX+/pc7Nu3a91INBBKNpaIFWboQdkE5PXTF8BLYltnxrt\n",
       "kdxHSaToXKUoZ1XPj7NSdY+u+7Ca+vvLVOccHzVSobFpIfVhljb1LKfTXR+vsEQdY5YM6yRiqt91\n",
       "S9q5Hdx+uVZSEMxfZ1jzlMWK5xmWIBRtLZCqbfCuE5PXTL8H+kRlORkjw9IDlA2CQyt9zrDgFGJK\n",
       "F4OfzmTyv/NHIvql0CtNeZj1l706FFJHS2JhnG6KR8ZeYJhmnAGuyLqWbCVyBtb2Nbu5Hfx+WdWt\n",
       "Jf9rDCNNXL68L3uVniD0XaVeW3kJ4szkRdPvgV6rrMXCyLB0ZjCM9bEoKVDpuCKnOGVOgfjhE3Tt\n",
       "y8Skl3jqCOtUyuRJ6B2G2iCukjYw0AgqrXlMAqJ0/mEI1ERcYJivKRy28qxb0UjAUhfx+dwO1VFd\n",
       "kbh7EL3BsJ3B8PprkxRX16ybJlwLpGrTowcahC6afg/0WmU92APDclHHEBOJWSGJke+Z5Pitfljr\n",
       "xeCjftguYevjiDKFw9wOE9ftfaJNxOGj14pJfDd9IvbMS21CMdOmlLk/wc+0nZi8aPpN0BOFKLSv\n",
       "dV3hj7ynz91PMYzJRwyrEhKCe3zB+ATDQuj8IYYh+ohhVYLRe3f/Lwx7cWwX/l5SLL6DC3+Cdo/f\n",
       "HxAhrO9luMcfHdzXefcq3OP3CMa+7v39e/ynxrt//3uPe5yPUJrdRdk9fm9IYsxdDNzjnfEPq81Z\n",
       "Nnh/G0AAAAAASUVORK5CYII=\n",
       "\" style=\"display:inline;vertical-align:middle;\" /></a><br>"
      ],
      "text/plain": [
       "bra_def: forall_{H in_c HilbertSpaces} [forall_{varphi | |varphi〉 in H} (〈varphi| = [|psi> -> {<|varphi〉, |psi>> if |psi> in H.])]"
      ]
     },
     "execution_count": 4,
     "metadata": {},
     "output_type": "execute_result"
    }
   ],
   "source": [
    "bra_def = Forall(    \n",
    "    Hspace,    \n",
    "        Forall(\n",
    "            varphi, Equals(\n",
    "                bra_varphi, \n",
    "                Lambda(var_ket_psi,\n",
    "                       Conditional(InnerProd(ket_varphi, var_ket_psi),\n",
    "                                   InSet(var_ket_psi, Hspace)))),\n",
    "            condition=InSet(ket_varphi, Hspace)),\n",
    "    domain=HilbertSpaces)"
   ]
  },
  {
   "cell_type": "markdown",
   "metadata": {},
   "source": [
    "### Qmult and QmultCodomain"
   ]
  },
  {
   "cell_type": "markdown",
   "metadata": {},
   "source": [
    "A Qmult Operation can string together a sequences of quantum operators and/or kets.  Properly defined, a ket is a vector in a Hilbert space and a quantum operator acts (under Qmult) as a linear map from a Hilbert space to a Hilbert space or a complex number.  The latter is called a bra.\n",
    "\n",
    "The result of a Qmult Operation, if and only if it is well-formed (in a valid sequence), will be in the QmultCodomain class which includes all vectors in any vector space over complex numbers or linear maps between vectors of vector spaces over complex numbers:"
   ]
  },
  {
   "cell_type": "code",
   "execution_count": 5,
   "metadata": {},
   "outputs": [
    {
     "data": {
      "text/html": [
       "<a class=\"ProveItLink\" href=\"../__pv_it/axioms/843e905c5a55d032436919472e6c3c166c5a7bd70/expr.ipynb\"><img src=\"data:image/png;base64,iVBORw0KGgoAAAANSUhEUgAAAioAAABNBAMAAAB6cFJLAAAAMFBMVEX///+IiIgiIiIQEBB2dnbu\n",
       "7u5UVFTMzMzc3NwyMjK6urpmZmaYmJiqqqpEREQAAACk/Np2AAAAAXRSTlMAQObYZgAAAAlwSFlz\n",
       "AAAOxAAADsQBlSsOGwAADaNJREFUeNrdXAtwVNUZ/vdxc+++NxXpOCCJabXW6rA1ODiKk00N9IHA\n",
       "QhXrQNlU69TOWLI06rRO614ftaU4sNXaaR1ttoWx7dTK+kAUcFiU1qqxbB1rxypm8VEp0s1CQogJ\n",
       "mJ5zn+eePffs4t3gpv/MTf6cy/73nO/853/dfwE4+TQwceykPi8wMZGokyhfdtJEvHrS98FTBRXp\n",
       "TJqxoSecz8VOROOhAgsqGCaFLnA8FVsRDYiKJ08zTPpq3vFUbEU0ICr+UZph0redT8VWRAOiAqsr\n",
       "GAaJY45nYi+iEVHZUKAZlvvIOPdAmamESriVZlghhXO/bC+i3qjIVW9WR0U8RDMMutv5XO1F1BkV\n",
       "V4F39ze1oQJvVzD2yDkwK4d4qATa2to+la0PKq8wR9f1daOg7F0VsxpQGSjQTAU1HXE8V46IV2vZ\n",
       "45pJYNqvwNaNZTQJZCTu1VEJ4x9i3EZMJEMzFZQsOp4sR0R9UQkww6L3wY0QiUQBXtRRCUYxNCm7\n",
       "XTxKMxW0x/mEOSLqi4rH8testja816FuiKBtGZBVRNQThL3LWts4bphmKmjQeY7JEVFfVP5g+eNU\n",
       "U1nRWbkaRwh5HZVF6HraVs5QBUMf1cPOTztHRH1ReRxdS6df2YWlSfea45uRMccW39uto7JW0xeb\n",
       "bUzRDEXBYcdz5YmoLyr3oyvn+kYAr9dHhC5L0DnCSU0wo6PSlAJX1FZOS5xmaMvjPN7niUCohLBn\n",
       "LsC6e1IQUichXDon8eXx1DOwqiy9Zf5bL0Kv+YtxzpPOQwuXXaNN2Oj6zOGbOkqlt2PYxLTqqIjd\n",
       "4LY/1+kMzdAGrOzcBpZr0JVgPJkFN9L0NasPQLgbXDFYA1IZvkvkDQBbIdDNedJFaLkQVlfSi8Bu\n",
       "U53fQyN7927GnxPLRrzyS3jdXk6kTDN0qtTqGBWeCAOVNZCU4XYcXGCfqaCClMaCyikAaLAKKqoL\n",
       "RrSKqO6g07MB648/ZqDyCsLFPm8boxk6zivygwHSqt5bTQTXrqQBFgLMBB0VYRCj0rtrRgIu65R+\n",
       "9cdtPV2JXyRAlu7etTAhXbYNYNp02bs7CjN36xbiAcW0ygJeuJtI95D27ElZThC4Rc6sAodohqKd\n",
       "xjmuXqf8fqKKCC4qswDOAUGZa/jTXYtjsAGjkpZDGV8hkN/4+3gvwG2HERhp2ZVpintkby4QfwB2\n",
       "+OOSjso+pCLZHmyAgDSmScTuVOx+0UDF9RdOkhEcoRmK+nTvEKxeUAgW+SK4qFw10d5eBn/e0BVI\n",
       "KroCMJaGUBFpEmJhzWBUGZLkcD4pS1eW4U1x/B/6bixAinnjY/AnU3HUKDKBE70fo62PGqgIn+Ul\n",
       "bkM0Q1GH7rF7a4jm9vFF8LPDUQx88Nel0n8pVOY929+f7VVQkbHBxEMw7RPRzWgf5vW/AA9P6Nv+\n",
       "W4AVzaEd6i4sP6DPuIQncfOF6NjIZna4iGcLJmiGIuP1yc9rsasyVwS3kuBvhUBOy9gqdAWw1e0V\n",
       "8t049sJDvnz41A0JxamICUON3Rb8N73Vpt7Yj4/x59AsbqstZ0ZTlmnGQpIOVqiW1DlQ5IngoxKI\n",
       "gw8p+LsUKmk5WAznhTyCIikWxkDqxnalmEy4m8NxIXoQVoZyoD82mOPPb0etqMzO0oyFQnq07o7X\n",
       "IEwa5Yngo+JJgSd6LaxPqVHcF8Zv7MktH4db+6cBdDVLg0+C93HY1tWFrO1LM8C147l9aBi8ndFQ\n",
       "525jQ/fzp1esFZW+PM1Yi1sf6FFeTUniOzwRfFRuRUHwWTIIi0sHqjyk1/7WKn5BNlErKj1xmrGQ\n",
       "90ONWV1Fzjrl57M8EfWqUKY52sCNqf4KtaKys5tmrDmM7rCrvCR/boUSJLDeFTSN1BcVaTDnKP+o\n",
       "BZUlRZNR2DesSjeuOW7792ivdiD3tG7x9Yr1YUxYF1E3XXGYldWESsZktqlpkyUj0JYUtM3wHv7k\n",
       "Dzoy4H9KqfEEGKGebwqi0tJqMjfpdppYklYbabKLbF1IO5Ydgq7LlXDfxQDPN3xCqKzZ3QCo7Gk1\n",
       "GR/6gNdqGdzakjyU1dFqogCLcQCGfO+dqhdmlH/dJ4SK2O1rBFRiJhPMW4o1ypK0pDFi9VBGTdSv\n",
       "BHcdSMfUNR1noHLoRFAJpxrhBA2UCeb8trY5lAzN90SwyxOar71BSR/MmqhHQavPSCAYrspz7ERQ\n",
       "cSeERkNlqxZxE1UpbUmKyw3A9OijYKmJqm+QzTemql48iutgbWdZRbAfT/fF+Re9MZmY1NgXt7lM\n",
       "MHfiNMOKinYk0gUlCmqRrwdLTXSJgs/Fxt8MGxI5DlOO0kcIJpzwUtlQ8M8aZng8Bf8Bqibag8dF\n",
       "08YyvLAuYirRyjzBhKK0A4iMEbqiHxAi3WjBuhXO8VCJjHGPTGMQdbIsugKZXehH85MLZeYJwp1i\n",
       "V4ClJpocl2+QnzHLNSy7cvzjDds+ihVOl0lmEXIuLnm1zwhaPNqScIlcONBUhri1JirOHtriN6vY\n",
       "EssHTUFULNYWbkcHIgj7RNNRasvEBeHQ0RUxv4qXWROFBMwgYjBWvHJsqqOixlBHK5fkQaZDeCT6\n",
       "+kvqn2ZN9KcPPUEYaP/Y/yMq6oaXJTOJ0Zbks6ZHRk3UPTGRIyrdQUYd0zcFURmI0czt3ozXDMA1\n",
       "rxOI2Qi7a3Di+u/dZ5jyVkYl4dDUQ4XMg7TT8ULnfHNJw/ZKoK9z9lmGy3IzSlfh4amHCllJYNXi\n",
       "tABEqC1ATebtRUwyKhL3rsz5lFSJCll1YkU3ennx/ZqmNiBzREwuKqfzbtr2x/ij6kWhsrNIM1Zx\n",
       "ein62Zqm9hRPhI4KjvEuqjcoobjNjQfbs0rHqfQU3p31+tpnTcyBZUMPKGCeXoFKT45mrA/TX1sk\n",
       "s7XM7RKeCFJXTq83KlfZhfJP9xWVjtPtN3eA2h2nrbcAof2gVNp8FW9EBqM0Yy2N6a+fvbV087ti\n",
       "PBGTisoOm/F/w+YibjJBuVqbmcjhWL6o1A/x60bllaMFFaNhgN05YL5+nmsZZ1dXPQWuiMlExbof\n",
       "RgHVdQRuTeCOU/TcD7XuOC2MGhUUh3mBdllQMRoGbDoHjNfPz1v2n11dPY0vYhJR8VtU2Wwq9Sh2\n",
       "Qek4FYbVBm094Bxfrvy+X7tIVAQ9gRZsalTG62cfecLY1VXpQr6ISUQlEGcWUKFFefbjejYSIRbR\n",
       "ca3ya4F2kahU7V/p0SMQ4Wwyt2FWV5cV+CImERXcX8wooMI9hj6At2yNHJZEjTPwPIVK8AOaoajF\n",
       "cE1riY+xq6sHq4lQUXkZeeZLkKecq31HIzS4H675lnr78vb53r6twVZhENYTYWW8WlOpu8AsoEpq\n",
       "BHke3vZrPiyV2snNUuW/rF0kKt5hmqHI7DiVqr2TELLVRJC6slsYw41w2uF/Es97eimLfAacAmIU\n",
       "NoBIoJKp1lTqyTILqC41h8fRkX/Pd/b+iwgoA3eq99LaRaISPk4zdH3Reb+tRYSOihgVRkGKaY7C\n",
       "izV7e0rxpLiDFMVHJCrY4/ObSj3KjlQUUH0xAxV8esii2FZRjS43aheJivsIzdCqOeoYFYsI066I\n",
       "ZfBqZ+tinI668qCjsqqMUZnXvAW8u6Nr79v+4PB8wE2la8+dtgXueDELrs7r8C1Xf6e+fGzSKguo\n",
       "SpetoBbJkCIFzcqRNwWzZbsTlIzRDEVe58VniwgTFVdR6cVWLE/K2OG3urrexj3ZSdwG8RrgztGL\n",
       "7hBjalMpGjoNvgkXwkLkVtCtTbgXSFX1KLOA+tg/EfpzlS5GXFIOlJXiIaavAOxR/vHftItEZaCb\n",
       "ZuhAYMR5LDHCQkXoG2rv0AYvxTrzEBi6IiioxCDyO9w5Wsas0lSKh7I/gYPo8P0IDb+ZfvoKHflu\n",
       "VgHVPzRxeMdrBcXz4lpIOCalBMWtrEJPjCjH4xHtIlHpKdAMTe3O3WY7MzuMyHpk6F2K5/d8qVQq\n",
       "WFHx9M/rfwH9xqjgplI8lHd1nuEvq02l/kG9IupvZRVQl8tff3ToOqXjFMLI/HqObpShDd27pWMu\n",
       "+PsOY004W7tIVDoqGJp2On8dToowKwloqttVbr7y8vEGtq5gqyvGVmJT26royv2w72tH1G8q3GhG\n",
       "3J9hFlB1y4YmEEZWJHB4CwoELOGq1KpeJCriCM1U0Oa4Y1RIESYqKOD8GQpQ0I4moCWh9fKRqIyi\n",
       "834QViIohPIPATeVoqFZwhE4I/oOLMW3XoewLu1F3gQsHadea1Cc176hQKDiOk4zlT4v5rz4F2Oh\n",
       "goK4zzclegsrzk8Igyj6lN7TorjZW5ePCz05aeauOO4cXT8uw8K40lQqHvt7Dmb03xJFw/jWKzO/\n",
       "ZIQYMm8GZMfpUsud9dpFouKL0UxldcD516ZIEQYq+CsJV6Mzb9qzy0ulKkUc0X6HhCLvg2THqbWI\n",
       "+q52kaik4zRTSc6dECmCrlCGTuTLniInpLyLW9TN250tWb0sqPQkaKaSljj/kiohgkYleCJy1o/D\n",
       "pJGJijBCMwxKOje3hIgp8ObDNUozLKvg/L8EIERMAVQ8OZph0Rznj5xTCyrizHhDoNKSoBkWDciO\n",
       "H2mK4KByE2QaARWj41HgpoBNRcePNEVwUHmvMU6QMdcq6z7X+TPPrQGVMyHRCKhsrGDY1Ot8toYI\n",
       "Tl/cpr35jw0Toi/uHKAZm1KAc8NSBxEniYw6q8b8D5LcXE0d/NjUAAAAAElFTkSuQmCC\n",
       "\" style=\"display:inline;vertical-align:middle;\" /></a>"
      ],
      "text/plain": [
       "forall_{x} ((x in_c Q*) = ([exists_{H in_c HilbertSpaces} (x in H)] or  \\\\ [exists_{H, X in_c HilbertSpaces} (x in LINMAP(H, X))]))"
      ]
     },
     "execution_count": 5,
     "metadata": {},
     "output_type": "execute_result"
    }
   ],
   "source": [
    "Forall(x, Equals(InClass(x, QmultCodomain),\n",
    "                 Or(Exists(Hspace, InSet(x, Hspace),\n",
    "                           domain=HilbertSpaces),\n",
    "                    Exists((Hspace, X), InSet(x, LinMap(Hspace, X)),\n",
    "                           domain=HilbertSpaces))\n",
    "                .with_wrap_after_operator()))"
   ]
  },
  {
   "cell_type": "markdown",
   "metadata": {},
   "source": [
    "One **important note** is that we assume, here, that the complex numbers are, as a trivial special case, a Hilbert space: $\\mathbb{C} \\underset{{\\scriptscriptstyle c}}{\\in} \\textrm{HilbertSpaces}$."
   ]
  },
  {
   "cell_type": "markdown",
   "metadata": {},
   "source": [
    "When a Qmult has a single ket operand (or complex number, as a special case), it simply represents that ket."
   ]
  },
  {
   "cell_type": "code",
   "execution_count": 6,
   "metadata": {},
   "outputs": [
    {
     "data": {
      "text/html": [
       "<strong id=\"qmult_of_ket\">qmult_of_ket:</strong> <a class=\"ProveItLink\" href=\"../__pv_it/axioms/d33dbf9cbe143bb2aafe36f8bc69b419fe7e7cd70/axiom_expr.ipynb\"><img src=\"data:image/png;base64,iVBORw0KGgoAAAANSUhEUgAAAVgAAAAfBAMAAABQaMgTAAAAMFBMVEX///+IiIgiIiIQEBB2dnbu\n",
       "7u5UVFTMzMzc3NwyMjK6urpmZmaYmJiqqqpEREQAAACk/Np2AAAAAXRSTlMAQObYZgAAAAlwSFlz\n",
       "AAAOxAAADsQBlSsOGwAABJdJREFUWMPVmF2IG1UUx//5mJ1JZpJOdS1ol5qm0hWxEG0fiuzDbI3f\n",
       "dpmCH1TKbh701U5c2zfN9ANRitsFURRaSdUHRcFYKlu2LcxqBdvmIWLfWmRWkEpps0EoLLuCnntn\n",
       "MplsJ7tRprQ5sGRn/pP//O6Zc8+9EyC86Ms+iFsXkeymMO0SuLVRvT2wJu4alLwjg6XNWHJJm0xf\n",
       "uG2wkRqeRbzcPLxCf60jN9rlYw6szT4uhwXbndtFtGBV4NIysK5Mw2Ow0+zUx2HBduUmTPpgNSC6\n",
       "DKwr40MOu5fVhx0WbFdustWCFSh18VpH2KaMCxw2obuHocB25RZDCzZlOKPrANuUEdMZrGKF1nPI\n",
       "piu3r3ywcbduOsA2ZSQs3g0ezWa3hNcNunE70YTd8R3R3MsnXBCsT0a8wGGngD/Cg3XcKm5xBl93\n",
       "pAmr/YpduF9nU8iBPZ5lsdGF9clQJjnsO5CI+tAHBlKaM1kf36I/s2j8gNGG9LtvqNRAVj+lrQDr\n",
       "uPEpZkHxqtdnD2xyYaXacfzMKlguB2XWLyOV4bBpnS5UtLEyonSy+PpVpAuI5FCE1MAbbShTkAsr\n",
       "wHI3B1Z1PsU19bJnz+MxF1bAI9SaKP1iIQjWL0NscNiUSjcpYszEARrEFLshh6UUt8HeDdDJlWC5\n",
       "G4eUKK0n6fOU0bJvh0Vynmh2gOU8qGZ9MpI5Z7mdnGFiCXgOGEATVphjsOMza3U8Pyx98vX07rz+\n",
       "kQ7zvYf7v8fBC+Tdv8aMn1Uj1eG25Za72ThWUPRBHKLSsdCyd+JoE1bO0IieoC+agTXrk5tlgO1s\n",
       "dcA64CEI/PmlH8iP5HCYwZbM1GSiJluff6mNA/v/moY4TxP0VWxFvCJrR3H6C+xrg+VuNrQbEVxH\n",
       "Ghh1NG7vxqwHayt6iigngruBT4ZiO7AH2KPd+c/mzQ0kLS+zGOOZBRZKSNmUGPoXxTlVzGFV+V1c\n",
       "owcrvdzAb6UzL7bBcjdbeiUTodmRsvANlxx7N570ymBrHOfZAINhfTJk1YFN893ZPOsOyqf1+vUl\n",
       "sEM/VqvlcQ5rUp0TbMyKDK/HtzTcoer55NxCGyx3syFr71PBiRrO1ev1mmvvxmfeorB3ZIZt/jId\n",
       "FoWWjKjp2yImM5ArzDwos2ATbVywKGkZntkjmNUP63yK7sG5m7eINk39nyQLsok3ffZuRA1vBXuL\n",
       "r6mVTiuYJ2O/fz8ra0io7vLggy2Zip22BIugx8TaAjVRqtl1wg2sV9OaoF7DrkusMG+G7bPUg7xg\n",
       "07rP3gml4sHew+9ndoL1ZJz2w8YMxNTXMGE4i8K2xT27Ky8tYl+1H8ivluZOIn4C0/k8xL9/qWBt\n",
       "9W2VTiM+rF4ceDoIVjg1S/V/H3WwKz57N/70YPmT3Nlxi+jJfDPjwdKU7ttoQhipX11+TRVzXbwp\n",
       "2E6b5f32hXq93LR3Y9SD5dke6Ajryfz5/PfXGrHRHaxC9kk1+EKq5m2DEcN3dWTDUtg2mRrL/4Kd\n",
       "WOwONsLezfU7+O3W+93AXPqGGsrvBkPo5Sie7R1WsZDoHdi00UNVENWF3oFNbr98B9P9C0zhfAnZ\n",
       "X3DyAAAAAElFTkSuQmCC\n",
       "\" style=\"display:inline;vertical-align:middle;\" /></a><br>"
      ],
      "text/plain": [
       "qmult_of_ket: forall_{H in_c HilbertSpaces} [forall_{|psi> in H} ([|psi>] = |psi>)]"
      ]
     },
     "execution_count": 6,
     "metadata": {},
     "output_type": "execute_result"
    }
   ],
   "source": [
    "qmult_of_ket = Forall(\n",
    "    Hspace, Forall(var_ket_psi, \n",
    "                   Equals(Qmult(var_ket_psi), var_ket_psi),\n",
    "                   domain=Hspace),\n",
    "    domain=HilbertSpaces)"
   ]
  },
  {
   "cell_type": "markdown",
   "metadata": {},
   "source": [
    "When a Qmult has a single quantum operator or bra operand, it represents the corresponding linear mapping of the operand and we format it as the operand wrapped in square brackets."
   ]
  },
  {
   "cell_type": "markdown",
   "metadata": {},
   "source": [
    "The corresponding linear map for the matrix performs the matrix multiplication:"
   ]
  },
  {
   "cell_type": "code",
   "execution_count": 7,
   "metadata": {},
   "outputs": [
    {
     "data": {
      "text/html": [
       "<strong id=\"qmult_of_matrix\">qmult_of_matrix:</strong> <a class=\"ProveItLink\" href=\"../__pv_it/axioms/191313ef2ad393310d92924d578dd0b05281633b0/axiom_expr.ipynb\"><img src=\"data:image/png;base64,iVBORw0KGgoAAAANSUhEUgAAAXwAAAAXCAMAAAA/fQTVAAAANlBMVEX///8WFhYNDQ2IiIgiIiIQ\n",
       "EBB2dnbu7u5UVFTMzMzc3NwyMjK6urpmZmaYmJiqqqpEREQAAACBdEgOAAAAAXRSTlMAQObYZgAA\n",
       "AAlwSFlzAAAOxAAADsQBlSsOGwAABJdJREFUaN7tWdmW4yoM5F52DAL//8+OWIzlhcROxz0vw+nu\n",
       "ExxTJQohCZqxhxoXwrJfae412wVDPrPV3Xyxsrjf0Ef535Ge8fiO7a0pH9laeC81zwlP7+Re6u9E\n",
       "+Lb4T2HTFhWVD9I8d1H4LFN8SvzKO2AcrFPh6YuGvdCJJ/dt8Z/CJk1PO/nMvLiWNbN/zPMb74Bx\n",
       "3yZNeFon96xZIlP6eth5Cpu0AFv5HMjQPoKZnws7oW/lM8Z9g0B4Wqf0+kLEr4v/FDZpcicfuKn5\n",
       "JGiZvic+d6e8A8ajmZrwyHUfQFvD6YGE+xA2yWXTTr7AQtXFebeEgw/F15sQH055B4zHuAOEZyK7\n",
       "VYrcpHqi2nkGm+x+dRCf163PGcz2lviac6Ot6rtUbN4Rp7wDxgOaMsSQ2qm9UEYk/QOhhxP6Ofbr\n",
       "1pyo6+uAxTlHiKhZD8Cr+EGQZva2on6G4zuncsd0xjtgPKDBRAwBUiQ4s/z52P+G4v8Q2+c5Wj5+\n",
       "QcStvuCYzZWfxt8egK95Pg5FH3bMwKn4jFMXEnEN+SeMB7QoiCG103oZ9V7CtyLkAVyaN+JvsH1a\n",
       "YmKYg91PLRjucOeGCBB8VPV7TBo21JgbIR53mPRbffO7mQR/1gB8TfxMmGhy+v8/sWkzqSOlp453\n",
       "YDyg2ZkYUjutF/nllGi5SQkHRcMUyhr0O/E32GDqYnmTtnA6GZd3tsIDYCpT62cYFRpOoiXGK/Gx\n",
       "8ouItgbg6wl3kzDFPrd7NhD/wHhA85Lw1E5Pvwz4tfiyOGzEAaEEexVCEPjrBxOi2KFuOB0T38Ip\n",
       "zavS6C62HGBMG25TiwLG4udjzN+GHZtfnlIOAcxIdi/moyo5eGt9Kr6d9AnvgPGANg47WIY3ZAhg\n",
       "MUszDsauB4T8rPgf72km2ugxSKh3MZ9g5/dc2XDAqot0OB2tXzarqCd3ycqXGHNauSry+wcXTttq\n",
       "slTjRpaH0ty629G4A0vCVOeevz2jL7wDxgMaJJpwEzXLLcPAS6ggvAO1Z3kVyV2NRW+N/oL4bjUJ\n",
       "C4PsDN7VoLfCRReXqenMjUNNmZVVy2EhP4/Hs1qr2hY2US9YytCZ3xI/zlbngt13js0oH055B4wH\n",
       "tMCJIbXTzUrVz53mGSwnll7ILs90qz26+LnATe/FX7BrBYDbFXdoHbfCgYZXxeiL77wgbEbMAmqa\n",
       "ifmz0Xc8P3COaR0GZ/FdgdB4R4wHNOGoi7hzs7AyZVZuaqnyrOQImFJpsYqv1ZJK1bVTYyhrCsum\n",
       "XeGs9Z/ebbdL8V+/Ur53Ge9olHdiwCotK36JwdnSZyiarUFg9XzcU/zWhPK5I3lc9hryCVxLuOz+\n",
       "YWxzZfWL4kP4+PovwDlrSYjZ0zEnqOLb7ZnwWe71mFFTHzd3JuTKDoq9ziVwTgX34f1bcn9F/MZ7\n",
       "0fHpDZ8bnf28aXndGa5zAIrtGVdQxtkl5E313uDGhLjAQjknWT61ux63pgOtMAaFT2KPTn9HfH3j\n",
       "ljzR5NNd7i3rzhW1ykH6kqnqwv8ob8C9cCt4zcaF9F+w9Zz3WohyxBBwV82Kj92I/Wvv1+yfBE+2\n",
       "P2WxNhUadlulAAAAAElFTkSuQmCC\n",
       "\" style=\"display:inline;vertical-align:middle;\" /></a><br>"
      ],
      "text/plain": [
       "qmult_of_matrix: forall_{m, n in NaturalPos} [forall_{M in Complex^{m x n}} ([M] = [x -> (M . x)])]"
      ]
     },
     "execution_count": 7,
     "metadata": {},
     "output_type": "execute_result"
    }
   ],
   "source": [
    "qmult_of_matrix = Forall(\n",
    "    (m, n), Forall(M, Equals(Qmult(M), \n",
    "                             Lambda(x, MatrixMult(M, x))),\n",
    "                   domain=MatrixSpace(Complex, m, n)),\n",
    "    domain=NaturalPos)"
   ]
  },
  {
   "cell_type": "markdown",
   "metadata": {},
   "source": [
    "The corresponding linear map for a linear map is the linear map itself:"
   ]
  },
  {
   "cell_type": "code",
   "execution_count": 8,
   "metadata": {},
   "outputs": [
    {
     "data": {
      "text/html": [
       "<strong id=\"qmult_of_linmap\">qmult_of_linmap:</strong> <a class=\"ProveItLink\" href=\"../__pv_it/axioms/004d0540463c50d5498c24dbb227961f981cd4b40/axiom_expr.ipynb\"><img src=\"data:image/png;base64,iVBORw0KGgoAAAANSUhEUgAAAXQAAAAfBAMAAAAFCStNAAAAMFBMVEX///+IiIgiIiIQEBB2dnbu\n",
       "7u5UVFTMzMzc3NwyMjK6urpmZmaYmJiqqqpEREQAAACk/Np2AAAAAXRSTlMAQObYZgAAAAlwSFlz\n",
       "AAAOxAAADsQBlSsOGwAABTFJREFUWMPdmH9MW1UUx78P+nilLeURjYkRoWOZLkZjN3QawVgiKMmy\n",
       "+Wbm4uICRF3cX1Ki7j/Hm0Mj0QBGtxizSaOL+0dNjWxssMUu4Z8xYqqZJmbKcDq3sNk2cyg/Jnju\n",
       "ve89WvoYXUMT8CZ9fT333tPPPfecc897QC5aQcVq5LZJFfflRnEhct+Glhq6k+wZtCwbnG/QUkS/\n",
       "E46QwOuCeZva2gGXytFH2M+fFx89O71FAZO3MDEPejdfIEPvYz8/XHz07PRutXjPzYNeNMP0awx9\n",
       "J9uckcVHz07vcYv3yLg9urtZBzxhhs4W4IguPnp2ev0mr6PtH3v0+qdY7D7I0D2RHOQyUpiVXpcV\n",
       "m7ulf23RnWo5s8d+nmHWVlQ8kIsMk41ed8DkDRddt0V34xzZBE9w9F7gQi7QLb3anDjT04ar1ryI\n",
       "weuKKteMW3cFb01ixBdopeXhFEd/C04Sv/N+kGUmasPTesE6cRZsrqxzdPd6fHIcHb7Zf6JhUsmT\n",
       "gQXQhV5AfmiWOk6TBuE8RqIzQnAJL7xEpjRaXtTkhfNvW6uH0cm0fs/RvRqN8AQaQ8gTI6vgJsMo\n",
       "t8VC+AO4BYqKTihJ6F3MpO6mBdC5XhZw5LRoeXmUriee9kFuwoA8CdzDB+aHcZRsbJohP2TwlvUf\n",
       "mbZDly73N7O01crRi1T6oxY06tgjusu1err2M8NzdGqNyeiSn2eChdC5XmqH1pARe/kiAkVBuEOK\n",
       "Ko/D6Re6xhzMf/bOQZfJha7aoW8CihnJp6IQ6DoJsY71xvwe8k6JBYNAb0gw9OqSw3AMqO0f9X92\n",
       "rQ77NOjt9956GG2nQ5BqdrAuaagmpRAQeqHuA0r5XSfz+jz6KAk4wmJkVR27bjDnGQ7DPGilna/T\n",
       "rDy/5TDYwNdcZu4hJMqoaOC352trf4OTo4/jJxzAcdcjbQrNfeNqHxPdjhfxMC25h3UdxO4UdKFX\n",
       "wjHI4mjaaJQgkEZM50Q5j6qzxjyvKng/Fwd+mtVdEVEh4FuBvoctaOtMZWVC9DuqICYbVpc5uh/F\n",
       "hxIYJoMxdLTEVSYKvY0rtP1vkni49cQzKehcLw6RBhffQlSzy5fkDt1/VT5mjHw8bAjFXzdxXu5N\n",
       "cT0dnbm0l45ZfCXQvXzh4/B0if66ctrYU7FYLJqKnj9UPTRI3wxdp01noohUs8JFS/ZQlys+mYIu\n",
       "9PbUNmuej2OxP6GMsd8/0qdYZ9mNs27iwl2mVX0MXY5PaBie+SANvWFmLyWlCQrq1UlFL01yC/dz\n",
       "aBT2eNXe6ixcFf82FqM+bvX9+PXZMe69eM3kST5GJXLxoMIzSAGpVTjlJ5QFDDOhKtlhcHeKl9hW\n",
       "jvxM9SWh0zlWqEIOQN5OYc9S2xz0cfKvK9hGvHLidUxS0iZRmTyGFervFPjUdRbedHRyvOKoOJs6\n",
       "Lw9qozxMe4D36NQAtmhgW4wSc/jpzNDdkST0/CDy1e3Ko/LXq9AwEYHzonEk3d+7ZUpuDjtLT1Ip\n",
       "XaN2TOlYH0BfbS2U69+FccfQLpXErOtMaX0aunsd5G8OoIP5Tt/A+ekgvJQM6URaU6C9En1urSbH\n",
       "qRzBJXO8V88IvSP5KYmSQ8FdOoqs3s2xWOjGp73iz/gpSd4YGzU9M0AlFPD8DsCqK+WRpLtM0C/Y\n",
       "POD9cBOFipLI6gHvqFUWWMWNY7bMeReO2WfTlfOge3Qb9MhNoHdMZYVucXos0eBSeiNwo/cwWgaS\n",
       "DN7DVON/2JTSwHJF34mu5Yp+cfk6zKpsgmdptIO/RJY44X+ip4Ph3NC1jgAAAABJRU5ErkJggg==\n",
       "\" style=\"display:inline;vertical-align:middle;\" /></a><br>"
      ],
      "text/plain": [
       "qmult_of_linmap: forall_{H, X in_c HilbertSpaces} [forall_{A in LINMAP(H, X)} ([A] = A)]"
      ]
     },
     "execution_count": 8,
     "metadata": {},
     "output_type": "execute_result"
    }
   ],
   "source": [
    "qmult_of_linmap = Forall(\n",
    "    (Hspace, X), Forall(A, Equals(Qmult(A), A),\n",
    "                        domain=LinMap(Hspace, X)),\n",
    "    domain=HilbertSpaces)"
   ]
  },
  {
   "cell_type": "markdown",
   "metadata": {},
   "source": [
    "A Qmult of a bra or operator applied to a ket is the application of the corresponding mapping (from Hilbert space to a c-number or Hilbert space to Hilbert space):"
   ]
  },
  {
   "cell_type": "code",
   "execution_count": 9,
   "metadata": {},
   "outputs": [
    {
     "data": {
      "text/html": [
       "<strong id=\"qmult_op_ket\">qmult_op_ket:</strong> <a class=\"ProveItLink\" href=\"../__pv_it/axioms/43cae6283a7a03c645785cc60f91082d6b338ff30/axiom_expr.ipynb\"><img src=\"data:image/png;base64,iVBORw0KGgoAAAANSUhEUgAAAlYAAAAfBAMAAADXQ56hAAAAMFBMVEX///+IiIgiIiIQEBB2dnbu\n",
       "7u5UVFTMzMzc3NwyMjK6urpmZmaYmJiqqqpEREQAAACk/Np2AAAAAXRSTlMAQObYZgAAAAlwSFlz\n",
       "AAAOxAAADsQBlSsOGwAAB+9JREFUaN7tmWtsFFUUgM+0M+zskwERNag0ixpDQiyiaBDjoMUn4JgY\n",
       "DNG0GyKJicYuVv1nOuAjMSqsz2giuoJGjSgFG1AgOGiJr0LWB/FFcDEhEB/bxmcBpZ5zz53pzoMs\n",
       "6FaN6U1O5/bOzLlnvnvuuefeBRiWsjBr/0eV/ZUyNlsCJTtlmLQX/hVlthRZdK+W99+QRcnmAzV7\n",
       "6KmYVCCUpBz80/t/YqWUWLDcT3/UontnH8pzoeflfb3gVvHlK92bGaSXMFhcVmW6sav+rOqotwAZ\n",
       "uqSdGs99KgXLs1Us8GO/Ao9imFW8363iy8xKwd668HqKFMlqI917sv6s6qi3AEn6lHiNqKUVWAjr\n",
       "YBULE6CBro8fgdXXLit6mVmpKE3UpcUiWd1JXliuP6s66i1ALIeXZTUeSzosVG23PRYa+pVKPvXh\n",
       "EVitH5BVeplZXYMyl/ypSwqzImxqqf6s6qi3wD4xt8ZjjVKwXH513mORzstBa7QiWan3/Car9DKz\n",
       "+swdmnNZJCu6xIchttdRb4HXoFoh/mUpiMaYWBpi4QaDuBPJaonyh6y+7LEy3Sn/NIu7Dp6dzZ4z\n",
       "HOtg/fSissZsdpJZ47FuKTiZ4GuHWVyzFlmdxCFfzUWy6kr/LqvdgpU2wQBTKUCa+ruUxWW1AWDv\n",
       "cLCqn15UlsxDxqrxmPQBLK9Cp8kszE/gBphoieCeEo65LkvlDI9VohT7WVafFqzUdLPmKL9wcH+f\n",
       "xWV1H+i54WDl6bXkWIuYsp9bdgS6/DycLPmUoar7XB3oCpF9TpFC95fnBAu9tA7eozhEC2m6Kcqv\n",
       "kqD/KqtTBKuHkk0pG5pBrOQfs7isMhY9+MCjefY62H3YHjWd01jtknOsKw7l34bWfv2bqj7wS8Zc\n",
       "ZtZgxXpRyXmc24m/o9yWIVa7cVhTxbABXb5cdC9FEqEjBbDdy8zfPM9LqWCGFFC+29ReFiw0mIqx\n",
       "BxHTQhrrj2J16qb1h2V1hmBlNRqqGA5ayTtZXFZpA0NwymwrQgOvoRdAksLa4lu/hUwOlGZYDHo/\n",
       "3DbUR5wmWDJXg5XQSxb9EWRFLWT7+Ap2mNyZBZgfYcDzPlYfCfzS4cSV7OvRDgJMDrLCFX90E7NI\n",
       "DCAr/J9GIdEcwYoyih99rGCNrYpmGoNVLN4ep7AVO4Y2G+5mFROty8k3N9AHClao0cfqOCAXrcVK\n",
       "6MXy4tQgK2rBtzcJ522hBXpjhAFxq1pZPGVIHQ+BQEn2xQxtAHQXwQop5BMNzcwi2aSXYDYvajwH\n",
       "A/GKpvUkyWoFs1qHXagWr52BOQhzRUKLnnaVzFO6ycqTwWWl9RGrjq0TLJgzS3/qlY3tLdYTFtj6\n",
       "I1uvsvQ5OK3HjbfVHgNO7jGqP4/1gvFEkBW1oGKxhOu/gMyRgwYMJWekTP3CIh2J8bCtIa93Sfto\n",
       "XqnuZN0jJeHwvkWwKqesdJGTpVQ5wq9W84ZIsNrDrLbANvhS5mQ7WDxWdwsPOdVzZuU38iShOHNa\n",
       "y7xmWE6sOu10IV5KOqteMjsAlv6IiDptpTDKbLTVrqS5AjYnTN3HivUq8GaAlWjJQSvbW5a716AB\n",
       "vCHzlOnThQ51tGVkSrjZZPtAKbsT11vfhXdmBuQcPF+FD2QemzTCrIRT9tnM6lJmtco2MX7yWK1l\n",
       "8VjRjhoWDE6bJmOfeoEcHHcOtgm/AjjYCekyDn8HRYs+QzTpdsZps/Xr+mF37NBO37QReuFFmrI+\n",
       "VqIlJ0YUfYj6SZTDBojGqnOGfULHvSvBwFVql7RPe/anaRe5j61kaR18HNJ9B0x2ljvnbbWl4zbY\n",
       "IVZa3wELdg8+xqxWMqvYjd+fCHIPeSZL4ExmQOYfALMn0m7xmUrlhwCrme/09hY7BCubvJ+aYNxY\n",
       "Yw0+PrP3A3htsBg+Ruluabf8rERLDt6vVCol6KSb6VzYAIiVQ8pQR7dewlXqdmkfjLZFCiRKQ57F\n",
       "v87d5fno0iPsB70qvUx5e0zMfjqb0JtY/KwSTZBkp1etRqzEzEi/AorxHZqTo6GipriTOX65Jdbj\n",
       "mJUqhD4PV63leR8rbsnh91K5mU7iCEvQgMAcdFlNTlkPArwh7SNX2OTedTe6fgDHixfJpTbXYkUv\n",
       "EytFDO7+qu24n1XShLgBmgnaIqCklXPuKladdqqccTQHAbXFSgcpO8R4VW6zGsZkTM34Hm7Ajwu7\n",
       "As600SUfK27JcR6uH978QqZIUyRkgGJEsbpF0U0RrPa6+5qHvQ/eL8UHQDBdEHnoEWRFL1/p7iDF\n",
       "6c4yKX5WjXloNBbFLtRePx1aD+CtZXnORS8+dEd71/xDsKR3HC7wY/S+N0Dtho0tLRjbt08AZfO7\n",
       "e7AZ1FlGelaPHfy85HTQ3lpRzUq25ECnCJRcPe+sfcLIkAEZO4rV9VtwAVSKbB8ApqJTR7lRslWK\n",
       "D4AgTotmeI8UYtUq/UpMCEc6zN4QqyX4HWfYkB46OZtX+bbGRqbjWI59q3IGKjiJr61UXGOfjzCg\n",
       "FaJYUXolrsI+WngX3uRl8Q6LN/+94EUu9V74DHnovH1SUSo4obovXEWERJ+37zyWTV/n32NVfUxn\n",
       "hw2YHc1qW+TR+TCXSFbOMSjQ+7rqxWoIjGdAqhjNiubUov8Eq3qVR0I/6fEPUBkZe3cE8kItfHoe\n",
       "oUyv+m3rnyxjJzmgZGfCSKlDWdwzwuAoSywXH4FwlCWTH2FwtKXB0kYgHGVJzN01AsFf/gR2lH9l\n",
       "N2TYUQAAAABJRU5ErkJggg==\n",
       "\" style=\"display:inline;vertical-align:middle;\" /></a><br>"
      ],
      "text/plain": [
       "qmult_op_ket: forall_{H, X in_c HilbertSpaces} [forall_{A | [A] in LINMAP(H, X)} [forall_{|psi> in H} ((A . |psi>) = [A](|psi>))]]"
      ]
     },
     "execution_count": 9,
     "metadata": {},
     "output_type": "execute_result"
    }
   ],
   "source": [
    "qmult_op_ket = Forall(\n",
    "    (Hspace, X), Forall(\n",
    "        A, Forall(var_ket_psi, Equals(Qmult(A, var_ket_psi),\n",
    "                              Function(Qmult(A), var_ket_psi)),\n",
    "                  domain=Hspace),\n",
    "        condition=InSet(Qmult(A),\n",
    "                        LinMap(Hspace, X))),\n",
    "    domain=HilbertSpaces)"
   ]
  },
  {
   "cell_type": "markdown",
   "metadata": {},
   "source": [
    "We define the Qmult of two operators as the composition of the operators:"
   ]
  },
  {
   "cell_type": "code",
   "execution_count": 10,
   "metadata": {},
   "outputs": [
    {
     "data": {
      "text/html": [
       "<strong id=\"qmult_op_op\">qmult_op_op:</strong> <a class=\"ProveItLink\" href=\"../__pv_it/axioms/69a0ead068e08e2daa542ea7faac76c7ad87e5400/axiom_expr.ipynb\"><img src=\"data:image/png;base64,iVBORw0KGgoAAAANSUhEUgAAAoQAAAAfBAMAAACMp8HVAAAAMFBMVEX///+IiIgiIiIQEBB2dnbu\n",
       "7u5UVFTMzMzc3NwyMjK6urpmZmaYmJiqqqpEREQAAACk/Np2AAAAAXRSTlMAQObYZgAAAAlwSFlz\n",
       "AAAOxAAADsQBlSsOGwAACC1JREFUaN7tmn1sFEUUwN/27vb2PrkqYoxVziN+RCVUURMLmEOvhBwK\n",
       "JyKJ0bQXE1BiYs9UTfxD7/wiISaUSEyMETm1akz8qAHFCOKhJEA99fyWoFhUREGvJYFQIBbfmzf7\n",
       "cbsLbYJn/egk7/Z1583OzG9m3rydLUBd062JAvynk5KYXOcaVvwzOlqQYkuau+0p5+u6qQlaOYtm\n",
       "PLL8v0CoVFgwLbPeD8ZcbdNgmKYtOd6iVX0WL88ywj66fFs/hFG6REqjivALKZhWi99w/9DiJXsA\n",
       "znK1TZumdoSyIKrGsJThHcp9sn4IQzR2gVH1iL4VLDSWx/iWB2dORw4CGTfbtGnqmIVckNQngKUM\n",
       "95JP6KsfQn8WL8tHdRKGSiykdvBgduESfr0Hwj1utmnT1IGQC5L6IbCUxUB4K3X0hTRS140qQo8U\n",
       "TLPn8ZbwCV4+QRqXu9mmTVMHQi5IqifDUoYwYg/Uczspj/qu8rIUXG6xiTxbOlBW4ix72s02bZo6\n",
       "EHJBUgMlFuzfpYnEZfVE6EkkJiVHFeFaKbg44Xte0FcBLKSAZZabbdo0ZTWxx0DIBUn1ZlkQ4TqA\n",
       "3fVEGMpBNDOqCJ8Gfbq9Cnkxmv6hxgnizjZGJFJWt02bpkJdBfcVJUJZUGzOK1gQ4VLQsvVEiE9f\n",
       "ypudLY9d+VUFkRX+uTYz4tjDY6Y5hSU2+2+cAZ6hTZZCVXaJviqDAJ/TfPzMXmqyjpBNSfWWeD8n\n",
       "brIgqZE4CyKMZujGYytzEBEjtHOooF6BTvOaSwBOfZsfvGBqq3f1unDc1w/L42Z9aN84/u7hQuvd\n",
       "0qPcIDx5sH/tHLEuOCKFrMxSTXr9+NxesyHeqTFQphVCuvlrR1MbrfY7DyDRorMHxm7bIgWUfes7\n",
       "RK3RZnzsIVTy9ga3SITSlNQA8DolTLKgmJADLIgwEkObcLK9CA0cfk+DEA219yDA6Xi96869ADjm\n",
       "p4I/Bl3gj9dEfTl4aziEn8rdZB578vfpUTaEmKXqVcG78+Pgy5oNgXkZUHIQTErzcByUZrL3T6hi\n",
       "i0NfJtA/ufSg24HweoBxovnj6DH7UXn+eAilqUCY4bCCuMmCpAabWcR2uQkbD+0FeJifMjEzW6y7\n",
       "AxDGhoTW0R8/y363WxFiRzAGUIdDGAiLNRjs5KV4B0YFNoSUpepVeZORHAfksiHQnoStMo4lcxXj\n",
       "uQGyXy+mdQq+BnxBcPbAiJtXSaF52dBMSh4XsXpEX8hWX7hKIpSmYkLGQNMXsixoW8hwnWgbTuk5\n",
       "MjRay3W/B1vwtwkMhG0DhHB645vg3Rxb9tT6Fw+0BhaBpj2+aU5GuxZfc5SZt8O1M0Epz7Qi9G4X\n",
       "z1MC7HJngO9iG0LKUvWqusi6wdqQ0EA4pweXaO6pwPwS2itic9UO0m/cpQdGtLtLSpDCkAHBGOdG\n",
       "ntr2sX3MdzFC3VS4oJ8e/awgEcqCYjvpYyGED4uunQ1woZxch/ja1YSGPu7oD6nUj6AJhIOwHcdq\n",
       "Q7DlEX8zaFMuKkK+oKxQk54C9mBtoBIqdcODVoTaFbwdhMR61vaX38rZEFKWqlc11zgN0Bui7e+l\n",
       "yw5p3tX04W00+ds4WqNSYpbYexDRneEsKTRHo4N0ZyVCupIwv2FHOIsR6qYCYfjXVj2okQVJDcVY\n",
       "CGGUenTTsalTB2QIOY2v0RY5cvos9AmEzTDupQHYiZ4UVfCfvR86AY5ohWjJNwiP5iHSl3/3xpqT\n",
       "GrF7BHOKWEPoyRb21CIUWape1XT6ec3aEPixaNzLkjP13UEIX+EZR6WCfS49COqvrc+xtB17Areq\n",
       "w+hSlxxbvPgZMUcvsCN8TiA0TG2htV6QEDYUWMzDrkER5FBqnSjXDzUh/Ey1+rsNoac8vdyLV5qF\n",
       "tH46qd/jT4kFsQcflMvFYP8R52FXKDVLLDn0ZNqRWoQiS5VV+YXVV9aGwEbx+4A0R35dRbTfVq1W\n",
       "K5Anm0jWpQd+HWFDjsXlwDBuv9NQ+1Z3/MMueAhYDITBOIR4cngzHlYayP37k+6zkLYVf/MtKrkt\n",
       "moWBUvQ0cksUJdzDEWstQvTJYnmhJwseqkUoslRZFSIGv8BlNATOAetCnoEv+hTU3K3vTpAjWo4e\n",
       "GAuZDhOcBwr6oUJtIruRIdwALAbCUBICMfAlwbcIlIOkQLsYuN12hIPog3+DWxClb+D+cUWMm9EX\n",
       "9rVnGhrhJ7gel3NpBx8S1iCkVfoHLBC7xfzahcxZqqyqa19vZi9tJ9wQKuJj5I2kZ2n/8F1EC1m8\n",
       "82hDG16IFmk7sfVA7KQy/SLFkVxOkH4ZIUI63RInXAZCTw48sUX+Gb4150Lb4ZJ/BoT7RVy9PCdD\n",
       "6ynrFh71dfRoTZuS4J0ZW34Ut49kqDuVhPxHZ4KyYcsuug2pRviiabYD4Zos3Hy40llRVqfm/A41\n",
       "CDlLlVW9s/mHIXwlLMiGQGcFPj5a4M6hnoUzDqQ2VgihRj429MrcKXtEx209QF9uvOC0SXEklzfb\n",
       "thEipAEUg2ggxD1UPa8AEeMVwTiDnFvdO8xbXOfID/6tp2qW0BpEeGmpKph0FKENu2KYk/2CalXv\n",
       "VbezBxZoWonFsWrdvqeU4Grz20mLFaH57WRSUUSqW92+nXzpUEaQ8iNGGMmcCKE1ve0o4s2QbkVo\n",
       "dWoFZ8Nb/55DDDvCkkMZPmn9PSNFGIaRIvRm7EV6hX4chCYvo+Hh4ugg/KvT4yf4jsw5Vb6Ed9ly\n",
       "HedjGau5w97n/GLytwBUEtNhLNU/+ZuSYxBOLt37T/mXhH9v2jOG4GTTuZAZg3Byqfu70hiEE6U/\n",
       "AXBXq9zMFbXpAAAAAElFTkSuQmCC\n",
       "\" style=\"display:inline;vertical-align:middle;\" /></a><br>"
      ],
      "text/plain": [
       "qmult_op_op: forall_{H, X, Y in_c HilbertSpaces} [forall_{A, B | [A] in LINMAP(X, Y), [B] in LINMAP(H, X)} ((A . B) = ([A] o [B]))]"
      ]
     },
     "execution_count": 10,
     "metadata": {},
     "output_type": "execute_result"
    }
   ],
   "source": [
    "qmult_op_op = Forall(\n",
    "    (Hspace, X, Y), Forall(\n",
    "        (A, B), Equals(Qmult(A, B),\n",
    "                       Composition(Qmult(A),\n",
    "                                   Qmult(B))),\n",
    "        conditions=[InSet(Qmult(A), LinMap(X, Y)),\n",
    "                    InSet(Qmult(B), LinMap(Hspace, X))]),\n",
    "    domain=HilbertSpaces)"
   ]
  },
  {
   "cell_type": "markdown",
   "metadata": {},
   "source": [
    "We define the Qmult of a ket followed by a bra as the outer product mapping which is consistent with Qmult associativity:"
   ]
  },
  {
   "cell_type": "code",
   "execution_count": 11,
   "metadata": {},
   "outputs": [
    {
     "data": {
      "text/html": [
       "<strong id=\"qmult_ket_bra\">qmult_ket_bra:</strong> <a class=\"ProveItLink\" href=\"../__pv_it/axioms/3cdcd09aec86e483d204ba8bf690755d301502c40/axiom_expr.ipynb\"><img src=\"data:image/png;base64,iVBORw0KGgoAAAANSUhEUgAAAxIAAAAfCAMAAABEbAu6AAAANlBMVEX///8WFhYNDQ2IiIgiIiIQ\n",
       "EBB2dnbu7u5UVFTMzMzc3NwyMjK6urpmZmaYmJiqqqpEREQAAACBdEgOAAAAAXRSTlMAQObYZgAA\n",
       "AAlwSFlzAAAOxAAADsQBlSsOGwAACcZJREFUeNrtXImS5CYMdcJpbv//z4bb3HYfm5pJTNUOM90g\n",
       "PYEeCGHvtv2WQiGE7EcLfMpvLcC6gi7qX1L4jxe4LqyoB0zcZ+2bT9i9Gd67hvsrYIkQI9wThGys\n",
       "iV2MxGvgPrJnPESlUKXq+qHEn1+IdFFj0X1vmilmpmviewlwrcs3bHWYF3wIcE0a3DM8W68qaZpB\n",
       "vWF9dlQgZr3MZ5xoR7OgxGmpVj+fEt9Ey78sb1k0LutqesOsaNnMmJ64EtDvUaJVsAJ7kBb3HE+v\n",
       "KmuaQL22nqEwG1zvx0TJHXuY5AdNjCbr0SwoIbMmzn4+Jb6Jln9Z3jIQ4VVdTW90Olj3gFNX4uQt\n",
       "SowkzvrDFvcKT68qtx1DvbZeHN7fFdwYJbO95dIeKXeBjnRwvBjNghI7ne/UP48S30TLvyxvOTuq\n",
       "qsvpJWC0DI/WwNhLyfcogfXrlEi4V3h6VVnTGOq19VvwU0pX4daVPcYph9GUA1yMZnmWSDTB+hdQ\n",
       "4pto+ZflrQqq63J69T4i5ShSTr0QeYsSc9YDNqMEuoOnU3VqGkK9tj4WKleU6LoAA21J+5r2fDpM\n",
       "DAXZxWiWlEi/8+03UOKLaPmX5S2K4HVdTi8ehW6EL1yJq7coUStYbUmZEgnvGk+vKmsaQr20/h4l\n",
       "mi6Cg55/5MCTuKkdzSrjhBy3IMK/I+P0PbT8y/JWcROuaz8dBEgQnALw6iTrFrwwQfseJvvwh8M0\n",
       "iZjepkTUEZLtpQK4CsszJRLeNZ5e1XkopzN4K+sZR9QFtQgVodPaHttntCGJeDrv46Z2NCtKSG+n\n",
       "Ib+DEt9Dy78sb6VK1XXw2U3buITYj0DI8MDOR/0quXMlKC4mUeUlW8Ki0AElgo4N0W2sIG0TdQwi\n",
       "ebvIL/EMVCXxarq7rKy3f9DxWWJqzyQ9go9Z3NSOZkUJRtOP30CJEm2z38t3BK6tl1PpLylLV6Kp\n",
       "dtPBtPVoOwUsh+xn+kvQItCm6UeaRH2Va8mUcDr4uZ6eCtp9AZRrAjtUg3uNZ6BKrqBeWe+WqDEl\n",
       "5vYMI1+7zxzGFYTm4VuEWF/VueGIDZjkaG82JW0OY5FTRMsjFsEIYbJhfth1VlmxxBzuyDOZriAO\n",
       "AIB3/BElSrTn2ubtUIMj8hh8KbCQN8haDH+dKBsNXoz2RF07fVYtAnFg5Fal09Jc++8USS0Syv24\n",
       "S4moYxO6UbD9/ResypHz/zuFosW9xjNQlTSdUMnBt+2e9XNKzO3ZUbKkmCehDqptEQedUyJCrCmh\n",
       "QT68YgvdN4WlkyAHWsa9ZwfUGJFhA+Q/84uL+w0uHNoHKZJ+RokTbeGloP47Y2zBDwQW8l6hRK9s\n",
       "MngzSrhAlwWniJnIk0kxdMfZNN8iTaJA94/XwkclMZIuqArb8/8Jmcgclie8azwDVUlTARXKbbtn\n",
       "/ZwSc3vIMJ0WA6Zz2xtQIkJsHujgmwJb9GzipbBq1F20h6NTSblXsAE614E5JUKr0PRDSmS0hVey\n",
       "sGrIDmMDfijwlPcSJVpls8HzKnRdh+lwkYNHjkkTDscEj3MiEYIVMgycLs8SXkfO6xTxdj1Ne302\n",
       "NbTBvcYzUJU0TQOnlfUrSszsGV/cmbjSH/uLgdOG9TkkYR/BdaiMZMSd1ouaEj5mipRACgDpG2OF\n",
       "wcY4F1IKemArgfuRZPZDqAB2rRhWcVMGGFAWO1ktvhpT4kTrvFQA6jdz9xQXky3GGvxY4ClPee9A\n",
       "ak6JosVI2XDwXF9Q13F6TQhDtOjy7MZPtrsoc7JIiPrygdDc3yX8JMXkf6kALtKZZ8Yp4V3j6VVl\n",
       "TUOol9YvKDGzx8bk2yAFGz6UxyIVHCE2lGCIFgetwdYPEs3K/clAbItBKWYKlHDrpOZxhbFjKJBg\n",
       "2DLF64EH9AzwrVzyzWUuEItuJHHsJOynbEqJE63xC4bdBWxbo5PbtnsoOPbltpPlCeYO2qzMwTeU\n",
       "qFoMlA0Hr8hF5joEAdZya6lK0VRxOokhAeeA70pGgWkSJbhPCczdutMrqCCK2b1EzqEu8fSqsqYh\n",
       "1Evr7dia8+dMSdOF94c7FZ/Vcj7K9uZU04xm+yRsvpsk/DiQLQ2tMJLpwLINdonAhrhL+DSwCAum\n",
       "NnHh3FGKu41jbm7FrI8ZFSMORmKn/ZCakBklTrTG9RHQx5Y+d+Gf3RNqAn4mMMkD8R+eUqJq0Smb\n",
       "DJ5rBes6TsdOsVH56hgObgqUPfdC3Kxrl295lFd1Eiu1ii3ORPSAEgLewdOrOrux+fo8t343CBli\n",
       "fx4GtL2m9hBqROMziVLo2AVizammGc3Fw+E+Gm7SyZjE3LH9wie1wpI8p4SNLBRStoj4QdwlUnCR\n",
       "W7l4CQJ3agriYydhzgzIIstm4nWSC0n9PPlsVomxAn8l0B0G9Hl4G1PibDFQNhq8MO57VWdn2s+l\n",
       "rb5CTiugVJ0rscvn3ca31/cfhT0f6Ei4V3gWD6mOoV5bv+w17SKwKR7oyOGeC5ygJBN5CeKcEmFd\n",
       "kPX0kJi3iW5wf5fI5237MVFbvmDJrdxdkAHERl6kSIjtZOBYM0rYXdyGpEzlI2+d5S3AXwmkwde1\n",
       "nlKiatErGw1eHGhZ1Xl6i2cQTLWgpjgZ7d0kSvUeJQx7nRL5ub0FnsGrDEnTGOq19bcoYT57drkZ\n",
       "zTklwhU+D5k2HDYksuUrxvKad0wJt1D6E4uPh1T0fvudXRL8yu+uxcJZwtiPrTjoTkYG+2xc6OT5\n",
       "b25SgirrpiG8jIF9gbEGfyFQ0Z1uu8TzjFPZoldWDd5k/kJ9OtPWJJlOdKS7ggi9bjyzO6QEuf8Y\n",
       "15lFPP1uiqdXlTVNoN6w/gYlyIePpTWjOadEWAUQcGm2HemNSASJzymFy32WAu90VQcPuRN6yM3/\n",
       "sKdipUA8Y2Hr68wcMhyfsbvxcQdyP7JKA+f3QCq1+4DRt46VxkB1edMZJYiUJqZ9QEpeJIwN+CuB\n",
       "mh/IiFUStmjRKmsGr01+mLI+18mtuYo4+em/ArDPuZD3KAHuvyNFkO7y/VM8vaqsaQL1hvU3KAHU\n",
       "NyiRIU4pEfM8FFLvkYPrYIJd6Cw+g7Oj1/vw6a0B040D38M4ENhdUHT3EmeLXlkzeM3IqqIG++oG\n",
       "pPiAlQ19L3UjXMDuxeJWxysvhDBJdYN7hmfrzcksmkC9Y/11r89ecAHQX0OeEG++e63/1MNwl48k\n",
       "vEQJFWHeeS15LZCKK0rkFi8qe8oPLzcp8adeR3bR1BcpkZyTkk8FQnJFidyCkseN/oeU+FGF9//t\n",
       "0vrPNwT25P2Wsqf85AIg9E8kpPopT3nKR+cAoPAzCk95SmYE/fmvaT/lKf9i+fQ/WXvKU/5jxd99\n",
       "PcPwlKekIrDWz6H8Kf/d8g9Zw3RI3Zwh+wAAAABJRU5ErkJggg==\n",
       "\" style=\"display:inline;vertical-align:middle;\" /></a><br>"
      ],
      "text/plain": [
       "qmult_ket_bra: forall_{H, X in_c HilbertSpaces} [forall_{|psi> in X} [forall_{varphi | |varphi〉 in H} ((|psi> . 〈varphi|) = [|v> -> {(〈varphi| . |v>) * |psi> if |v> in H.])]]"
      ]
     },
     "execution_count": 11,
     "metadata": {},
     "output_type": "execute_result"
    }
   ],
   "source": [
    "qmult_ket_bra = Forall(\n",
    "    (Hspace, X), Forall(\n",
    "        var_ket_psi, Forall(\n",
    "            varphi, Equals(\n",
    "                Qmult(var_ket_psi, bra_varphi),\n",
    "                Lambda(var_ket_v, Conditional(\n",
    "                    ScalarMult(Qmult(bra_varphi, var_ket_v), \n",
    "                               var_ket_psi),\n",
    "                    InSet(var_ket_v, Hspace)))),\n",
    "            condition=InSet(Ket(varphi), Hspace)),\n",
    "        domain=X),\n",
    "    domain=HilbertSpaces)"
   ]
  },
  {
   "cell_type": "markdown",
   "metadata": {},
   "source": [
    "We define the Qmult of a c-number with anything, with the c-number on either side, as the scalar multiplication of the c number with the other operand:"
   ]
  },
  {
   "cell_type": "code",
   "execution_count": 12,
   "metadata": {},
   "outputs": [
    {
     "data": {
      "text/html": [
       "<strong id=\"qmult_complex_complex\">qmult_complex_complex:</strong> <a class=\"ProveItLink\" href=\"../__pv_it/axioms/42ea1dfa3eee264f794cc3384dd11d8e178ea6be0/axiom_expr.ipynb\"><img src=\"data:image/png;base64,iVBORw0KGgoAAAANSUhEUgAAAMYAAAAWBAMAAABpi/5BAAAAMFBMVEX///+IiIgiIiIQEBB2dnbu\n",
       "7u5UVFTMzMzc3NwyMjK6urpmZmaYmJiqqqpEREQAAACk/Np2AAAAAXRSTlMAQObYZgAAAAlwSFlz\n",
       "AAAOxAAADsQBlSsOGwAAAxlJREFUSMe1VU1oE1EQ/tJkTZpsNhGkCiKEolYoQimKIiLVgwpaWLEI\n",
       "UmwS6NFDQVHx0lWhF0XioSKoJdqDCIWmpSBqi6lYsBTqKh56EKxo/aEQLViwxYIzbzeb3c129eLA\n",
       "95I378ubefMX4O8S4UWza7TVWNWqCP5JNhECul1zbxWWS6JJA7O8eednIt5Cy9vyTvqYclussGzS\n",
       "0WzaJTxhxS0/Gyf55py1rS3Q0uvJcsht5qoC5zhms342RgmxorVN8BumPFkOWSHIBQE2FdL9bDQR\n",
       "gpXtoMp71YvlyMUirzsFZPKw1s9ElMP0sLI/IAJW9GLZJZTi9Y6B5vr6HX42YpzMEY7oyAaqEdxc\n",
       "O0Y3ZLxYV/dfqqQtu5GicxACj4A5PxvCZfanX1Po/dKSmtYgC7eH61m2llnR3fhuxTDdK/0CJiHQ\n",
       "g4jlVLiv/C0wnzV9quFkbafL9yJG748vIpFEPOXyhFnHixi2FO9VLABvIKCoobx10smG6kp56bMW\n",
       "/2Sogny6h6KxiBoKSCyHdAvCP1w2mPVMxWau8yVWPIb0E+iGQDxpS/kuwtMuivcx4IXTRnAW6bxo\n",
       "j0Ed0SYPG/sgLfP3RqM9olS9/TCQG6elffwwP2GhTg1w/E9dpI2ZD47VXbD3r7g9iuyvESt7PnT2\n",
       "W6487zc/vBwrtFLTSg1hrufAlkChgxkzMxZZ4WL6QDZ0fItrSOQpMZDdXUssaQVKzvrdMqcH0zBw\n",
       "hVIeK4SbBFPODTBjYqJS6Bmj/mqTcmMIWFNUqHljSXc7EOsGnhesqXUa87QOmVAo/ol8ICOiGstM\n",
       "lkol/fyDSndxWO7TU7OHetbTx9AYl5F7ujPrxLoL2a6yop3bA9tMiGrWlAkq7YQa1M8KtyjnknnW\n",
       "wHd2Oa+8XNVGDZ7/PCkDRllo3QNoQ406TbXMh0c0tJpnU+Zw852AHlPSHKXWOI2Ovj6KM3p4qAWR\n",
       "L6xo65svu65wXL46/ase1IrXf+N1EzYxxm9bqZS3ayW+sMN5YdXYNVhumYN7UMVV74l1jT13DNqX\n",
       "q7BcImsG7Cr8H/kDraDEnSRkgxkAAAAASUVORK5CYII=\n",
       "\" style=\"display:inline;vertical-align:middle;\" /></a><br>"
      ],
      "text/plain": [
       "qmult_complex_complex: forall_{a, b in Complex} ((a . b) = (a * b))"
      ]
     },
     "execution_count": 12,
     "metadata": {},
     "output_type": "execute_result"
    }
   ],
   "source": [
    "qmult_complex_complex = Forall((a, b), Equals(Qmult(a, b),\n",
    "                      Mult(a, b)),\n",
    "       domain=Complex)"
   ]
  },
  {
   "cell_type": "code",
   "execution_count": 13,
   "metadata": {},
   "outputs": [
    {
     "data": {
      "text/html": [
       "<strong id=\"qmult_complex_left\">qmult_complex_left:</strong> <a class=\"ProveItLink\" href=\"../__pv_it/axioms/bbfc5b667ba834fbab12f6f0191e41455b6e572e0/axiom_expr.ipynb\"><img src=\"data:image/png;base64,iVBORw0KGgoAAAANSUhEUgAAASEAAAAlBAMAAAD/1UKKAAAAMFBMVEX///+IiIgiIiIQEBB2dnbu\n",
       "7u5UVFTMzMzc3NwyMjK6urpmZmaYmJiqqqpEREQAAACk/Np2AAAAAXRSTlMAQObYZgAAAAlwSFlz\n",
       "AAAOxAAADsQBlSsOGwAAA9dJREFUWMPtWF9IFEEY//R2uf/nCeWTqUgRFJZKECTkSVlRWGuIEKEZ\n",
       "Eb3lFVEUZJeCL0X4IvSQdpYQQQ8+BEZKKSQYPnQPET4UndAf6c8WldD/a76dmXV2dm+DKDPyg9/u\n",
       "zXy/2f3NzDffzB6Aiz3OfIU5tWAmo7kSHsCcm2dB0YKiBUX/lCIfg9USDsyE8wMS3PW7FC1hsFqf\n",
       "nZiTcn5AH6cTRWm8P8yqyM1tWjhGwawoswZ2vu9xev19qSxSDTpRdBMd57MqcnObtouBW2sKwtPk\n",
       "3i0T1S65RqR2U0VHMQTSWRW5uU0bZuB2Kg2deJ+w7Vsjco1InaCK/CSUlFRWRW5u08oZuPk/qi2O\n",
       "YeqxNRWpDCEi2589st3c3AJdFKaFvjTS18lDctXWVqQiUFVlaekal7Xm4jbnIkYBSv5mWlO937gp\n",
       "LRLzOl5qFsWFKoGKQEWDAE9dFLm4zZFn/fOVwS1asyNKBwAHLlhqmCHuAkF7KijGpUBFoKJO8Ild\n",
       "yXm597SoiLrDb6Zh3wGTVFA5IDTJTTHEoIKtoBKaFUok7WUES8ETFRfbLBWBiiKakqROb4GeVJ8l\n",
       "wk9ERcztGYAb5Hbo4Aty7Y+HPhHtPG49SYrbvCLY+Zk+8K2kaB3xzdA88MlORaCicJRH7hCZX6Ue\n",
       "4I6oiLlzZhSS5YODPCHei4dr2iRF63m7Qe93GvLldkUeNmUr7VSEsTy7RjGyCqM5uDKaThCtll3E\n",
       "cANU1ZJLofHzOEHeCFzm8eVPGVA/sLISh9UJc9bEOOoB2BMTJVqofNagDnPlCm95M3omJ+V9rY5m\n",
       "3mIygCrt3xSOS2p2jCJRCvKZEMDyVjKExntDcmqdMroCSbPCQkUYijqI/GBajV9Dz9iYrKiDxv0G\n",
       "EssBml++4Rhps3HEV+4QAK7+ZsLMM6IlGJUUbSJ1AzgwzKxUhKEoEscuA9zVdT117IqsKGK0V+pJ\n",
       "w1Cvrr8G+CAdCwIlFEpNPnleW/VaCFx8h/3Ilc8elwg25i/mRYmKMNN8HikcoW8mk+NwGqmFKhJg\n",
       "NAZax5pUyya6nEG2drkiN54tp7UzmIr8SYhFsODbloA6u6JGDYo1niuDq7acsfR+wmlXlXZfmgcH\n",
       "frZZm4p8w6Oa7zn+auh9Gbcp2l2pqW9Iwj1nuNSTi6IgbqKRBIV8srSfGaazHULTjG7dnBt0Pel+\n",
       "hlS36yRDHs5UJELiIsY1qNpfH7GfUJuzKIpojP6Lp1pvUfUrS8VZBquNO4zFiPMTxzl94evov1Dk\n",
       "LYzNM0VHoWueKXo+72ZtGWh/VZH9f8j+RyN/+n/IH1kbKZJPNwH0AAAAAElFTkSuQmCC\n",
       "\" style=\"display:inline;vertical-align:middle;\" /></a><br>"
      ],
      "text/plain": [
       "qmult_complex_left: forall_{c in Complex} [forall_{X in_c Q*} ((c . X) = (c * X))]"
      ]
     },
     "execution_count": 13,
     "metadata": {},
     "output_type": "execute_result"
    }
   ],
   "source": [
    "qmult_complex_left = Forall(\n",
    "    c, Forall(X, Equals(Qmult(c, X), ScalarMult(c, X)),\n",
    "                 domain=QmultCodomain),\n",
    "       domain=Complex)"
   ]
  },
  {
   "cell_type": "code",
   "execution_count": 14,
   "metadata": {},
   "outputs": [
    {
     "data": {
      "text/html": [
       "<strong id=\"qmult_complex_right\">qmult_complex_right:</strong> <a class=\"ProveItLink\" href=\"../__pv_it/axioms/c06b03ef651d3407ddda4cfe78e2296bb979891e0/axiom_expr.ipynb\"><img src=\"data:image/png;base64,iVBORw0KGgoAAAANSUhEUgAAASEAAAAlBAMAAAD/1UKKAAAAMFBMVEX///+IiIgiIiIQEBB2dnbu\n",
       "7u5UVFTMzMzc3NwyMjK6urpmZmaYmJiqqqpEREQAAACk/Np2AAAAAXRSTlMAQObYZgAAAAlwSFlz\n",
       "AAAOxAAADsQBlSsOGwAAA/xJREFUWMPtWEloE1EY/tNkzDJJGkE91YXiAoq2FkHUQyOuKNVRpCBi\n",
       "rYh4s6OIoqCOFXpRJBfBg0tcQAQPPSgV9VDBgtKDcxDx4BJxabE6VaviHt//lsnMm8wI4lKxP3x5\n",
       "mfd9M/O99/63JAAB8bD4Bf5oqMWiFii4A388wkOOhhwNOfqnHMU43GGUURrlH2AI6lc5Gs3hjpNe\n",
       "Ycgs/4CTQk4cFbC85+soiLYjlWUI9Q9klZpZpv/rb0vXY4ozYOXAMSqlcuLoMhJHfB0F0Xas5oBh\n",
       "XwEelAbmsCxUcnJNiwmpXi49zBxtxxQo+DoKou24ygHRbxBrLtV3e/atTrlmbwHahLSbOYqTVIqY\n",
       "vo6CaDtqOQBOGI1BEyfsuTX+QWkWUo4ksR33z+wgWkQix0Di1sVm5+vkLjnnuTf5udGWItBVXXX1\n",
       "jIC5FkDbY5FlwKa+F90yd4QOkWZJeUEwpajfSAuUItBRB8DTAEcBtLMreHdEXvO6VlMtQBI7Tq2m\n",
       "Qc0dFUwplmdYX+UY0FGbKxkh1Ld+n9MRo1P9vbBhky0aVdfuuKXCZMDJ9obXjYdwBlLjJO9TBeOY\n",
       "bEyDUgQ6SmuRPCOjo6y88sxIPXE64nS4HS6RYsvm5+TzjJ78SLyLAQrnGUhcamGl+o4+8JXkaLZg\n",
       "QPnIR7ztEwgpAh2lMiJzr5DxjawAuO50xOnQuwhZZ9QOsSDe0lNz93gcqfpeNiJhWiRqvY7CfMim\n",
       "sKKDLBhCiqDTM3cNE6AqE8JUWLuLeHXtIpQGmLOAfFTRrzsJKjvhtMivuMkAsAgqPtCqdVkxFK48\n",
       "OiYYEREdagx51KAB18rJ0domZO7elfe1BrbyjiUdqLD2PcJOMEt9lM4wABnf5FtaRQwDuZCX1keC\n",
       "EbGE9Da1iFIEdbSf2FcLin4ema4u2dF+lvfzSC4n2IT6iq/USnkkZq7SRy7Yjwm1HZuvZiRHCwXD\n",
       "o4k8tJImFkoR1FFaxyYD3LQsy9xxVnaUpvdHVpAbk8ct6yXAW+lYkBhHEX08oMO54kRaN3/4SDIB\n",
       "5bPHKcGw2FM/ExIn3mCTUYqwl/lKcrGNvZm0tcxpZAHMIQnGcqCla63i2kQnccjRKldU6H5rWiuH\n",
       "7Sieh2waL2JLDWjwOmrUYKwm1kp12uIDrtZ3l9tVxe7r2jPaf7RZ245iV69psR78tup4n+5xtKZO\n",
       "U/rJgnuIUsruERlwbqJpg0E+WXrPDL1+h9ACl7s351WWlQ8+QyrLLLJCbi1ON5LOSYxzUPG+Pu09\n",
       "oTb5OEprXP6Tp9romPoXroqDHO64UaYvOss/8YaQD/06+i8cRauyg8zRdsgNMkc9g27UJoD2Vx15\n",
       "/4c8c7/zd/8P+R0CsC/XYFKlxgAAAABJRU5ErkJggg==\n",
       "\" style=\"display:inline;vertical-align:middle;\" /></a><br>"
      ],
      "text/plain": [
       "qmult_complex_right: forall_{c in Complex} [forall_{X in_c Q*} ((X . c) = (c * X))]"
      ]
     },
     "execution_count": 14,
     "metadata": {},
     "output_type": "execute_result"
    }
   ],
   "source": [
    "qmult_complex_right = Forall(\n",
    "    c, Forall(X, Equals(Qmult(X, c), ScalarMult(c, X)),\n",
    "                 domain=QmultCodomain),\n",
    "       domain=Complex)"
   ]
  },
  {
   "cell_type": "markdown",
   "metadata": {},
   "source": [
    "By the following axiom, we can know that a Qmult only results in an element of its codomain if it is well-formed (the operands are in a  valid sequence of op-ket, ket-bra, op-op, complex-any, or any-complex):"
   ]
  },
  {
   "cell_type": "code",
   "execution_count": 15,
   "metadata": {},
   "outputs": [
    {
     "data": {
      "text/html": [
       "<strong id=\"qmult_in_codomain_only_if_valid\">qmult_in_codomain_only_if_valid:</strong> <a class=\"ProveItLink\" href=\"../__pv_it/axioms/093ab720dc11a5c13fb7dbcb8afa0031ccd67f740/axiom_expr.ipynb\"><img src=\"data:image/png;base64,iVBORw0KGgoAAAANSUhEUgAABD8AAAAmBAMAAAAxcS09AAAAMFBMVEX///+IiIgiIiIQEBB2dnbu\n",
       "7u5UVFTMzMzc3NwyMjK6urpmZmaYmJiqqqpEREQAAACk/Np2AAAAAXRSTlMAQObYZgAAAAlwSFlz\n",
       "AAAOxAAADsQBlSsOGwAADetJREFUeNrtXAtwVNUZ/jfszd7sK0t9P3gYW62iJYqKIpglhli1hgtV\n",
       "HIdKMtL6GB9ZG3Va2zEXy+ADh8RinWqDScXWWhmzanijrJaZoqRkfdFaq66m1PduSMiDBLM973Pu\n",
       "vXtjZGAUZs+M2bPnnO87/zn3O//5z7krAPsthbLZBOTTIZQC2ayxH+lCNfkpPdTSmLxA8ikvkHzK\n",
       "CySf8gLJp7xA8ikvkHzKC+TAJR3/MeE7J7PvnpKYI4drdSdU+yvFimSO1Iclma5fRoSJ5m54c7RM\n",
       "utt8mKO1bvTtcF/6v0Sbg0wg47AUknAJHUojgLeF1YgMSpeAP+KAHvMWxfKkZK3Jif2jkneFjbMX\n",
       "LP7wkaNvI1gXvBuV04BxbvORi532a01LRxjFUiGNqlMevCdKer9jJwcggaTw53/2l0CeKykpmXag\n",
       "9BGKoj9vAhNIUZdNIMHM8LU3fESqHVMa6gWKRenPU1pIVl/fh74tY2vEk+mJapPPS0rs0mY0IH2n\n",
       "ZToxw/jsWTC3Z4V4oAunUdN4e2pQZ0LbfCPB2vHSApVKW9hzPcAbPRHV+NzcApaDnfXL046yhwD+\n",
       "Pt+bywpZR1LVdJjfF6e9/4+rCAlkAy74/f70IOMOlECuwvPYyAXyvl0gMAaJvTaGq4vsntE7kWEB\n",
       "Ai80p0h2451l6Os1vEnhlwDvmRIbWLsS9VCIgL+TGxVhqE1C6GNRtvHtYWKabI/Ts08gxX5GsXa8\n",
       "sMBC5d+DVZ+wGJ+bW8Kc7Lxfmp456tdljbC06qYcVqh12KhjkQ63x2nv5cAASCB3YO+SOigEsgmP\n",
       "I8EFsmbALpAG5B5b47g6GM8lEIzFq6M1hbPhOJSgr7t4E98w6HgEHPsZFCBQMeLcJmgoQ30Kloii\n",
       "cI1/mJgm22OyOF7tN1KsHc8tsFFNRuo8FlTjc3MrMAe76Jd6RcQ0dxf41x/htMJSh9KvwkgZhXHa\n",
       "ezknRwLBivEmDwqBlGKLgQnEu7jfLpAOFKh2REj12WyGPiw5RQpkDCnqhUUGzu4AQLMfGhD0zeY8\n",
       "8nk2H00xWjfvm2qkNoZubgOaDLcmGPoR2DSlPX60Bl5ziyjWhhcW2KgmRCGUlAa4ciswB7vol+4a\n",
       "2DF1Q8Xlv3RaYalDaWcYe4oI7b1cIQ9ipwYHg0D82DM+xQWyyPOlXSC16L/lJqluoogHDdWDPEWG\n",
       "TdYnyWq7VbcNHavpAJp4QXWU7kBFCV5CYBAcmietOl+YJtpjgejMDZA9w4pXLLBQVZeySLJpZG4F\n",
       "5mAX/RIkCbzQProEHKOw1qGU4tFqExcIBmCRnFlSctZBIZAAjlHbuEDiob12gVwAMO9kWl1JSu8z\n",
       "LFtMG1mVBEKy/kHVbcOYPtq8khe0ttAdyCsWeRv9KPuZPBAMCtNEe5SW+KKs4xoHXrHAQhUe1KMW\n",
       "A1y4FZiDXfRLBkTyzeycbLXCWoc+avjRp5ILBAOwQNYi93JQCIQsgSYmEH/St9smEN/w2CN59Stg\n",
       "jb0DjXxlLpeL1Nulum3wsgfwCi+YzXagYCMoqwtXSFUVlcrVOVvuWLf52XrFWBt+uQtVqG++1QAX\n",
       "bgXmYBf9kjCezM5vQVoirbDWocmLrgLZ+2EcgAWyhMZmALbIP8DMxjOoKWfoEQXyOjrmzjhAAinA\n",
       "G/TpTAEB0PtsAvGgCXyDxbCvk1IxJdCQYFh9iHzHWd/C4XR6iuQv7Kafr7Pvd5Sl0534GYXENnQ6\n",
       "O0TIfakhLkwT7fERmd9mYKwVr1hgpYKyGqsBLtwKzMG+VL1FmW2KfcoxCmsdsirOL0pw7w1JBsAC\n",
       "CRt0mrWp9GQ0VPEiuZUM0/av4j8/xiX+TNulHyHfLrWycFJuD6Kvn8oO26HMx7DwOvQAp0TAcz5d\n",
       "rdqFZxkXD8VehgVd+ofKQQMRjr0oOsK1LzZzGhPI+I1rhm0CCaMJ9PbT6nqyKtDuWfID8qxPBYal\n",
       "bptk/R03v/vvPsm/rpay1bPvq/refbcVj8nXxZvQK57AkkEZo7YI00R7EoOwgWCsFa9YYKWCDFui\n",
       "9SNzKzAHu+iXqAgjff0gLZFWWOtwDLIYZO/6J0kKwAIJRWiM6v2SeqKJ4CmVAqHR8mwSXb9MfA86\n",
       "aMOtt3yKJvgi6EBr9AinQLZoyP5TgUVk6wiDAR6kMt+R6RZ0esNd3Ap6F/xc2UHwbheoGZ1ANLRQ\n",
       "um0CKUbY4C4qkJXEdnF619YbDEvdNn08aHvR98pJj9XT9iv5eAaY5/GXWgWyFp2IeVouTRPtxSmG\n",
       "Ya141QILFZzHPleOzK3AHOyiXyIwPJlhvqCtVljr+CmG9+59lAHI0afxJVLx5BnU0aKjcJcUSACb\n",
       "568jjgsdrzvIPU5gLbuPC/bDm0el7ALxRbQB0Kk9nl6vyaLwrfjmJ0aO91SDmkUgh5Fz7AgCKcIq\n",
       "XUEFgve/E20CqUcTWDiobjETldsKhiWzrJEsfEIGwNNFUDBg8fDhRnpyVpwzgXlj5MqCemYiMIOY\n",
       "JtrjGSP3EX77JmC3QKUCfTdYthg3bgXmYBf9kjkfMm8zXwbHFrPCUYfS0/geBFpo7yQy41sMXEbv\n",
       "2CIPU8EmYW5CCqSAPOUi8txmgHYauTQ5nrgsvMPvBf8FhjNIRd7Jy9R5/iwqtK4gGp8nAVwgWgYL\n",
       "pO6l4wz40Uz9kac31FYYDxtg3nfa4ath8TZk6eFHmt4tEU/7TP7AsEo/oAJZRUNwIhCDCWQCGlU9\n",
       "u2jdThBjrRdlGPv8P5F1U0lW24XN4sEXYgjSJ7SdlVSj/jYTp5rijT6g73qgI8rissAMNKq6GDGN\n",
       "t9f4TSqMp1grXrGAU9HKIN9tmAGu3AIm2TXOzvol332Te1b7xQWq1QpLncFvUj0pOnUXcgARyG9q\n",
       "aPC5nkZGx2+7DqRA7iPaIYcAfVf7GmRyKE5dNzF8Ri4PQjoqYIt7AtW9vgsHMwso83crqkqhAQuk\n",
       "3gw1FiUDiZV/idYB3N29AXwDcAz8FM5FCgtEV8CmJ8S1DzmnVZL5Ie4pYxJdaHuYQJBH9p9nUIE8\n",
       "K32OFAjC+nuy3ZveThKaYC+OW/QYIdDw9TT9DfezlBI60LdOuAfNXYT1QmALkPKLEbQaz0lrWXbS\n",
       "P1ZQ03h7UuF9ZJb2dpxiLXjVAk5FK8M8SGAGuHJzmGSn5ZWy3+pG9uSPk1uoZRRqHS29+CHj6j+w\n",
       "qSvnACKQMHmET9KzDQo0tBsVgTyDPVaM7AgoOpmHTPOn6FGqGM9+ry0GoS/rtOaeKWWs9ELmSTpJ\n",
       "rAXCg0A18SAAg/UQSqHIqA7HNpmIrxSKW+6Fz6Ha1K/sgvfqX7iCb6L4IT+OBaJl9hjwXvYh6kFK\n",
       "DCKQG7LXXvtYksWw36cjv+VPqkAQdp559XP4pRimCeMV0r/SxAS+zp4YPJU9CSgWU0IaHyzuPBd5\n",
       "UZP1gmF3lU0Ff3N3DRR8D3VwvfbO5HNMahpvjysAFnd24+ALYy14xQJBRSoLM33sBEINcOWWMMlO\n",
       "+nxc9kttuH/VGvmW22KFtY6U6lVlk0w2deUcoLzub6uoNVig0dAiBbIDS6mispdGJzrygr5U8LF0\n",
       "+gsojtre8Ctfik1+mPfO6aWZF8kZO51OJ20Cmf639vaWOiIQE+1NSCBjEp6ZJ0ArkuT09lf9GRHn\n",
       "45+BFMT4uxhxPxYy7K/7QWf7rb9KvWoviMnZQtkwmoBA92pKoPwiYiIrwW/DNk9CubuB9aIyALyl\n",
       "5E9W26sVd4ML3kJlsUAY8FXcCjspVynJ92wWrc46Q7aVVljq1N7I1JVzgBSIB+kiRgMNaFWOuXfh\n",
       "HQb0fhqd+PvxFkNv6wr3XpG8ysgtEKTRjTQ3i5+1TyD3R7k9COBgtU5LIIKJxIM0wQdGg0EOWrfL\n",
       "i6tt7E2WTSBecAgkkMj1sk55hWd5m+e13v8k7CWbRCMLTD2RbwOXik1ueHcL7Aa4civspFylJO0e\n",
       "yGRv+sWjuUeh1nltvVOBbLIIZBXeM7Qo6L2gTQJLkIp3FHwERk9sLqL2RNjN63P/vXcd5BZIG8CD\n",
       "AJcjh2rABANntH56+rMJpN4MpsIJLYGEUu1LDoJeg2KQ8VovnBAJR7XI5/CTd/iFDF3yeC3ZBDLH\n",
       "KZBl9hMQPbnLd/RqlhDItMxeQt91z7HDNPWHPWEzdwXGuuBdLbAb4MatstPyjx3tdkw+yXQbhayb\n",
       "Y+udhKMEIAQSOAe0zSt8M+CY3RUvJhWBIOuer4H5e5Lgaa649Atasoy4mCtfm6lesaoCmQpwRqFR\n",
       "l5x/pqFlmqAuCduHsDH6R+yirHzo9tr4vCFY1H44QMVYPbMOvG2woaICfHtfi8Nx7XdFUDF4Z0be\n",
       "PP6HYtQpGufaBJJwCsTx7kAj17sLZIGSBau72WkvoapO2GFBC38qd0XYcMW7WmA3wI1bZQ/aKIOO\n",
       "SwIXKxzd49616Rxg/8lhSGWku7jjahOxa1XpT/FB6WjYklMg+K3xNSgQE4cIkbk8nW4Z+ULdV+pe\n",
       "9wDmTkC5+E3qieIeRPlN6jQImg7o0pspVpiYcOnDid2qrtnECKblSFvd8W5UTgMecJuPraO1bvTt\n",
       "cO++yiQH2AXylkMgsM5OMUvkbu0cTuT2ILbQK/Q1fvoqb4Tz6ZtPdoEknALx2poEW77qba7TzwW/\n",
       "hknLhvKP5dsrEEsEpFyzqTsijFog+XRIC+Rrp7xA8gIR0ceWfRVITmQ+HWIC8dUU7aNAciPz6RAT\n",
       "SDi2r1tMbmQ+HWICKTByhaqj+TfKciPz6duZ9vnfKPNftq//r+a+I/Ppm0n/B4p92ge9saSLAAAA\n",
       "AElFTkSuQmCC\n",
       "\" style=\"display:inline;vertical-align:middle;\" /></a><br>"
      ],
      "text/plain": [
       "qmult_in_codomain_only_if_valid: forall_{A, B | (A . B) in_c Q*} [exists_{H, X, Y in_c HilbertSpaces} (([A], [B]) in {(LINMAP(H, X), H), (X, LINMAP(H, Complex)), (LINMAP(X, Y), LINMAP(H, X)), (Complex, Q*), (Q*, Complex)})]"
      ]
     },
     "execution_count": 15,
     "metadata": {},
     "output_type": "execute_result"
    }
   ],
   "source": [
    "qmult_in_codomain_only_if_valid = Forall(\n",
    "        (A, B), Exists(\n",
    "            (Hspace, X, Y),\n",
    "            InSet(ExprTuple(Qmult(A), Qmult(B)),\n",
    "                  Set(ExprTuple(LinMap(Hspace, X), Hspace),\n",
    "                      ExprTuple(X, LinMap(Hspace, Complex)),\n",
    "                      ExprTuple(LinMap(X, Y), LinMap(Hspace, X)),\n",
    "                      ExprTuple(Complex, QmultCodomain),\n",
    "                      ExprTuple(QmultCodomain, Complex))),\n",
    "            domain=HilbertSpaces),\n",
    "        condition=InClass(Qmult(A, B),\n",
    "                          QmultCodomain))"
   ]
  },
  {
   "cell_type": "markdown",
   "metadata": {},
   "source": [
    "A `Qmult` of multiple operands is defined as the binary expansion:"
   ]
  },
  {
   "cell_type": "code",
   "execution_count": 16,
   "metadata": {},
   "outputs": [
    {
     "data": {
      "text/html": [
       "<strong id=\"multi_qmult_def\">multi_qmult_def:</strong> <a class=\"ProveItLink\" href=\"../__pv_it/axioms/90138195c97497f69202a2143c570c541e2951330/axiom_expr.ipynb\"><img src=\"data:image/png;base64,iVBORw0KGgoAAAANSUhEUgAAAakAAAAzBAMAAADfiOr5AAAAMFBMVEX///+IiIgiIiIQEBB2dnbu\n",
       "7u5UVFTMzMzc3NwyMjK6urpmZmaYmJiqqqpEREQAAACk/Np2AAAAAXRSTlMAQObYZgAAAAlwSFlz\n",
       "AAAOxAAADsQBlSsOGwAABoJJREFUaN7Vmm1oHEUYx5+9u73du9u9XC0WBW2OCiJaMUpNS2nKfWiL\n",
       "Ukqu0giCtFeFSlHIacRvkmi14JfmPhgVbO2ZglWweNZYMUnpVUGtLe1R6wdF7FXRCtq8iNb0JZ4z\n",
       "uzubm5fdbjZ0ggu3m5nMs7v/mWefeea3CxBo6+rqgv/JpnZ15QM2vadxZW7Xipevu5zNtph0o1EP\n",
       "aHHnXC/5FF3sC38mT1NtwPnDkKUqnqOKSs06vOJvpJdEtW97tj8tW9VndPGMfdjrb5SYoIonG79u\n",
       "e6tIekSwpQpyVen/0A+0PQhmw9/qLK0KVqMxRyca8DRYKldVhHbAVNU+dPs/Xoem6K6ZBEiioHXc\n",
       "0+CbvFRVn9PFqH14oLPoZxR7iR5hAxUNpCzqGbgTFamqltHF9+y+z7TW/IxeUKbpiIMcMrEC/ape\n",
       "FskpmaqUv+nykO2AcLbqZ1Uxr9IjXAf1MTS6sYKnyZsyVUWY+9ht7Q9Ab87HKFnT/qIqes8t2I67\n",
       "wbBizcEleLudiS95iap6mefnbnssoB+pfbTkFadBv0hVtPaBuQqHzqznhbZkJKp6nCmvtNzy95Hu\n",
       "OmgLvO5x8cihf6mKn9EPxxdtwvNC6axEVe0iVRsBWrLePa+ibv+TqsEjdwrVJts8L2RMyVOlXWUq\n",
       "9tgOCJE2b1Up9LsNTU5fLijc8oR7lu4ysRA+V+pVeapiU0zFORwMqnZK5KXqfTuj+noVGulFlsei\n",
       "s2iXrnHT7fJUpVmXWYd+O/A/plxVKr7fLSWyAx3bjPfpG7Nw2Z4JEqhmH86WUhnvS/3kqLJ0/RBA\n",
       "VbCGoi3K9t0gWgw1BsAcv5Rzx+ouPANUyE4dv5SHHxuvQjyjtVkxM7734rbtF6x5wifP6nRUDePj\n",
       "GwFUBWsojLcVdv5qivQ+cdrqkaJS1yeomeFFn+anyraq5/Bw1wOoCtZQOF2xLmNUAqvqR6Nl1KnZ\n",
       "evRal0KqEmg6jtUCqArWULii4Kx+m0nEH7yS8bN9BxJ9+tbmfNa3Zy23QKoMHIuCRItgDYVuwaXm\n",
       "m+cSe/xYS0vBiYH3LVmyLFAMDNRQtLVyj7deDa/qK79/ttQdVZ8A/BJIldtQ3FneXdiZB1lbtOSo\n",
       "2gm6OLWPMapIQ3W5MMOhapPjQ+vPk8IReaoiWUdVOh9jWN0zQ2Wl3c5ZmlWRhrFpYR9Ms/hlIfm7\n",
       "G+SpanNUmZnmGKAtGiubhbXwMa+KNNx/r+h8TO2TKEjMpyooHW2qHkHxyjyaghyvijTMvCY6H1Pb\n",
       "AepSHw/sgxCkkzHQ/TwQNqDkyhh9epHyRREUHJzM59/N5GIjB0eGaVUbLGalwKeiRTxdq0+eOOTG\n",
       "807u/jHTmz3pZPhmMuMTLWAHigHGvmq0oBTsicQsrv1eNFY7rGCxHz8wu9ju3z/zGFnZQxYedhOI\n",
       "Vm6+OgNhSKfLNx3eeatAFZmvII0u+vIN0FJO5az8H6lKKXWBqrR1d0NruvPaIKsK1zbzoArolz1n\n",
       "YUw5w5BOl2/avDPBe3ZLhVqJbIUeiNTg2NjYWM0sqrmSQJXjatBfhEiedUBUaxw+MXzGVhCtQdKl\n",
       "eWfL7IqwGo50Hqd5p1HhM6YcpWo5LIZ+DZ61xwoOZPj5yl3NtdSwKjUHm+zdJqc2uRhWmui0qNyf\n",
       "h4fca/aymUQ0JOkkfJPwzvs9s1tH/QQarZMxO8kyyqAUPFaNqXZQj+zBqrQO6OnTVqBdT82pPa+W\n",
       "8Huqnpqyd836C7RbsJQzDOkkfJPwzt3iRNpVlSygpdPOG0HHCcHg684a0XstjD3QdEvkxrJmLmo0\n",
       "lUljFo4NhSSdhG8S3rlOnHLyK/xNY2Pla6/wtYWHAb51l0iOY6gFpRy/aabshg52hb87JOk0SjTv\n",
       "PMYZdM+ZW7idbLCLQrbMAGlrxR6GdJIVJuGdpzmD1RLJ2bSAB4YhnYRvEt7Zy83Zk/NMOcOQTsI3\n",
       "Ce/cN5+UEz4SUM4wpNNp5/JOzgPjWYmqPijzlDMM6XRu1+WdJ7nUQubbg0iFp5xhSKfDN13e+SFH\n",
       "SGS+6WGD4GBI0mnzzRneeQd7IRu7z9MbVEw5w5BOhm/qrJncN6iOZ1CUMwzpHOWTZBqqFaSqSuR4\n",
       "yjl70snyzV1cVJL7ZQJKgjnKOXvSyfJNDvh1gFRVcDNPOWdPOhm+abArs3hBsqp4TgJg+g5mqWrp\n",
       "XL96/OP6i3K+pFO7NgZVNeevHtPl667qkZmvHv8DhZURK4UvX9MAAAAASUVORK5CYII=\n",
       "\" style=\"display:inline;vertical-align:middle;\" /></a><br>"
      ],
      "text/plain": [
       "multi_qmult_def: forall_{m in NaturalPos} [forall_{A_{1}, ..A_{_a}.., A_{m}, B} ((A_{1} . ..A_{_a}.. . A_{m} . B) =  \\\\ ((A_{1} . ..A_{_a}.. . A_{m}) . B))]"
      ]
     },
     "execution_count": 16,
     "metadata": {},
     "output_type": "execute_result"
    }
   ],
   "source": [
    "multi_qmult_def = \\\n",
    "    Forall(m, Forall((A_1_to_m, B), \n",
    "                     Equals(Qmult(A_1_to_m, B), \n",
    "                            Qmult(Qmult(A_1_to_m), B))\n",
    "                     .with_wrap_after_operator()),\n",
    "           domain=NaturalPos)"
   ]
  },
  {
   "cell_type": "code",
   "execution_count": 17,
   "metadata": {},
   "outputs": [
    {
     "name": "stdout",
     "output_type": "stream",
     "text": [
      "These axioms may now be imported from the theory package: proveit.physics.quantum.algebra\n"
     ]
    }
   ],
   "source": [
    "%end axioms"
   ]
  }
 ],
 "metadata": {
  "kernelspec": {
   "display_name": "Python 3",
   "language": "python",
   "name": "python3"
  },
  "language_info": {
   "codemirror_mode": {
    "name": "ipython",
    "version": 3
   },
   "file_extension": ".py",
   "mimetype": "text/x-python",
   "name": "python",
   "nbconvert_exporter": "python",
   "pygments_lexer": "ipython3",
   "version": "3.7.4"
  }
 },
 "nbformat": 4,
 "nbformat_minor": 1
}