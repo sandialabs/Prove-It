{
 "cells": [
  {
   "cell_type": "markdown",
   "metadata": {},
   "source": [
    "Axioms for the theory of <a class=\"ProveItLink\" href=\"theory.ipynb\">proveit.physics.quantum.algebra</a>\n",
    "========"
   ]
  },
  {
   "cell_type": "code",
   "execution_count": null,
   "metadata": {},
   "outputs": [],
   "source": [
    "import proveit\n",
    "# Prepare this notebook for defining the axioms of a theory:\n",
    "%axioms_notebook # Keep this at the top following 'import proveit'.\n",
    "\n",
    "from proveit import (Function, Lambda, Conditional, Composition,\n",
    "                     ExprTuple)\n",
    "from proveit import a, b, c, m, n, x, A, B, M, X, Y\n",
    "from proveit.core_expr_types import A_1_to_m\n",
    "from proveit.linear_algebra import (\n",
    "    LinMap, MatrixSpace, MatrixMult, ScalarMult, \n",
    "    InnerProdSpaces, InnerProd)\n",
    "from proveit.logic import (And, Or, Forall, Exists, Equals, \n",
    "                           Set, InSet, InClass)\n",
    "from proveit.numbers import NaturalPos, Complex\n",
    "from proveit.numbers import Mult\n",
    "from proveit.physics.quantum import Bra, Ket, Qmult\n",
    "from proveit.physics.quantum.algebra import (\n",
    "    HilbertSpaces, Hspace, QmultCodomain,\n",
    "    psi, varphi, ket_psi, ket_varphi, bra_varphi, \n",
    "    var_ket_psi, var_ket_v)"
   ]
  },
  {
   "cell_type": "code",
   "execution_count": null,
   "metadata": {},
   "outputs": [],
   "source": [
    "%begin axioms"
   ]
  },
  {
   "cell_type": "markdown",
   "metadata": {},
   "source": [
    "### Define Hilbert spaces\n",
    "\n",
    "A Hilbert space is an inner product space over the complex number field."
   ]
  },
  {
   "cell_type": "code",
   "execution_count": null,
   "metadata": {},
   "outputs": [],
   "source": [
    "hilbert_space_def = Equals(HilbertSpaces, InnerProdSpaces(Complex))"
   ]
  },
  {
   "cell_type": "markdown",
   "metadata": {},
   "source": [
    "### Define the bra notation from the corresponding ket\n",
    "\n",
    "A 'bra', such as $\\langle \\psi \\rvert$, defines a linear map from a Hilbert space to a complex scalar via the inner product of the Hilbert space."
   ]
  },
  {
   "cell_type": "code",
   "execution_count": null,
   "metadata": {},
   "outputs": [],
   "source": [
    "bra_def = Forall(    \n",
    "    Hspace,    \n",
    "        Forall(\n",
    "            varphi, Equals(\n",
    "                bra_varphi, \n",
    "                Lambda(var_ket_psi,\n",
    "                       Conditional(InnerProd(ket_varphi, var_ket_psi),\n",
    "                                   InSet(var_ket_psi, Hspace)))),\n",
    "            condition=InSet(ket_varphi, Hspace)),\n",
    "    domain=HilbertSpaces)"
   ]
  },
  {
   "cell_type": "markdown",
   "metadata": {},
   "source": [
    "### Qmult and QmultCodomain"
   ]
  },
  {
   "cell_type": "markdown",
   "metadata": {},
   "source": [
    "A Qmult Operation can string together a sequences of quantum operators and/or kets.  Properly defined, a ket is a vector in a Hilbert space and a quantum operator acts (under Qmult) as a linear map from a Hilbert space to a Hilbert space or a complex number.  The latter is called a bra.\n",
    "\n",
    "The result of a Qmult Operation, if and only if it is well-formed (in a valid sequence), will be in the QmultCodomain class which includes all vectors in any vector space over complex numbers or linear maps between vectors of vector spaces over complex numbers:"
   ]
  },
  {
   "cell_type": "code",
   "execution_count": null,
   "metadata": {},
   "outputs": [],
   "source": [
    "Forall(x, Equals(InClass(x, QmultCodomain),\n",
    "                 Or(Exists(Hspace, InSet(x, Hspace),\n",
    "                           domain=HilbertSpaces),\n",
    "                    Exists((Hspace, X), InSet(x, LinMap(Hspace, X)),\n",
    "                           domain=HilbertSpaces))\n",
    "                .with_wrap_after_operator()))"
   ]
  },
  {
   "cell_type": "markdown",
   "metadata": {},
   "source": [
    "One **important note** is that we assume, here, that the complex numbers are, as a trivial special case, a Hilbert space: $\\mathbb{C} \\underset{{\\scriptscriptstyle c}}{\\in} \\textrm{HilbertSpaces}$."
   ]
  },
  {
   "cell_type": "markdown",
   "metadata": {},
   "source": [
    "When a Qmult has a single ket operand (or complex number, as a special case), it simply represents that ket."
   ]
  },
  {
   "cell_type": "code",
   "execution_count": null,
   "metadata": {},
   "outputs": [],
   "source": [
    "qmult_of_ket = Forall(\n",
    "    Hspace, Forall(var_ket_psi, \n",
    "                   Equals(Qmult(var_ket_psi), var_ket_psi),\n",
    "                   domain=Hspace),\n",
    "    domain=HilbertSpaces)"
   ]
  },
  {
   "cell_type": "markdown",
   "metadata": {},
   "source": [
    "When a Qmult has a single quantum operator or bra operand, it represents the corresponding linear mapping of the operand and we format it as the operand wrapped in square brackets."
   ]
  },
  {
   "cell_type": "markdown",
   "metadata": {},
   "source": [
    "The corresponding linear map for the matrix performs the matrix multiplication:"
   ]
  },
  {
   "cell_type": "code",
   "execution_count": null,
   "metadata": {},
   "outputs": [],
   "source": [
    "qmult_of_matrix = Forall(\n",
    "    (m, n), Forall(M, Equals(Qmult(M), \n",
    "                             Lambda(x, MatrixMult(M, x))),\n",
    "                   domain=MatrixSpace(Complex, m, n)),\n",
    "    domain=NaturalPos)"
   ]
  },
  {
   "cell_type": "markdown",
   "metadata": {},
   "source": [
    "The corresponding linear map for a linear map is the linear map itself:"
   ]
  },
  {
   "cell_type": "code",
   "execution_count": null,
   "metadata": {},
   "outputs": [],
   "source": [
    "qmult_of_linmap = Forall(\n",
    "    (Hspace, X), Forall(A, Equals(Qmult(A), A),\n",
    "                        domain=LinMap(Hspace, X)),\n",
    "    domain=HilbertSpaces)"
   ]
  },
  {
   "cell_type": "markdown",
   "metadata": {},
   "source": [
    "A Qmult of a bra or operator applied to a ket is the application of the corresponding mapping (from Hilbert space to a c-number or Hilbert space to Hilbert space):"
   ]
  },
  {
   "cell_type": "code",
   "execution_count": null,
   "metadata": {},
   "outputs": [],
   "source": [
    "qmult_op_ket = Forall(\n",
    "    (Hspace, X), Forall(\n",
    "        A, Forall(var_ket_psi, Equals(Qmult(A, var_ket_psi),\n",
    "                              Function(Qmult(A), var_ket_psi)),\n",
    "                  domain=Hspace),\n",
    "        condition=InSet(Qmult(A),\n",
    "                        LinMap(Hspace, X))),\n",
    "    domain=HilbertSpaces)"
   ]
  },
  {
   "cell_type": "markdown",
   "metadata": {},
   "source": [
    "We define the Qmult of two operators as the composition of the operators:"
   ]
  },
  {
   "cell_type": "code",
   "execution_count": null,
   "metadata": {},
   "outputs": [],
   "source": [
    "qmult_op_op = Forall(\n",
    "    (Hspace, X, Y), Forall(\n",
    "        (A, B), Equals(Qmult(A, B),\n",
    "                       Composition(Qmult(A),\n",
    "                                   Qmult(B))),\n",
    "        conditions=[InSet(Qmult(A), LinMap(X, Y)),\n",
    "                    InSet(Qmult(B), LinMap(Hspace, X))]),\n",
    "    domain=HilbertSpaces)"
   ]
  },
  {
   "cell_type": "markdown",
   "metadata": {},
   "source": [
    "We define the Qmult of a ket followed by a bra as the outer product mapping which is consistent with Qmult associativity:"
   ]
  },
  {
   "cell_type": "code",
   "execution_count": null,
   "metadata": {},
   "outputs": [],
   "source": [
    "qmult_ket_bra = Forall(\n",
    "    (Hspace, X), Forall(\n",
    "        var_ket_psi, Forall(\n",
    "            varphi, Equals(\n",
    "                Qmult(var_ket_psi, bra_varphi),\n",
    "                Lambda(var_ket_v, Conditional(\n",
    "                    ScalarMult(Qmult(bra_varphi, var_ket_v), \n",
    "                               var_ket_psi),\n",
    "                    InSet(var_ket_v, Hspace)))),\n",
    "            condition=InSet(Ket(varphi), Hspace)),\n",
    "        domain=X),\n",
    "    domain=HilbertSpaces)"
   ]
  },
  {
   "cell_type": "markdown",
   "metadata": {},
   "source": [
    "We define the Qmult of a c-number with anything, with the c-number on either side, as the scalar multiplication of the c number with the other operand:"
   ]
  },
  {
   "cell_type": "code",
   "execution_count": null,
   "metadata": {},
   "outputs": [],
   "source": [
    "qmult_complex_complex = Forall((a, b), Equals(Qmult(a, b),\n",
    "                      Mult(a, b)),\n",
    "       domain=Complex)"
   ]
  },
  {
   "cell_type": "code",
   "execution_count": null,
   "metadata": {},
   "outputs": [],
   "source": [
    "qmult_complex_left = Forall(\n",
    "    c, Forall(X, Equals(Qmult(c, X), ScalarMult(c, X)),\n",
    "                 domain=QmultCodomain),\n",
    "       domain=Complex)"
   ]
  },
  {
   "cell_type": "code",
   "execution_count": null,
   "metadata": {},
   "outputs": [],
   "source": [
    "qmult_complex_right = Forall(\n",
    "    c, Forall(X, Equals(Qmult(X, c), ScalarMult(c, X)),\n",
    "                 domain=QmultCodomain),\n",
    "       domain=Complex)"
   ]
  },
  {
   "cell_type": "markdown",
   "metadata": {},
   "source": [
    "By the following axiom, we can know that a Qmult only results in an element of its codomain if it is well-formed (the operands are in a  valid sequence of op-ket, ket-bra, op-op, complex-any, or any-complex):"
   ]
  },
  {
   "cell_type": "code",
   "execution_count": null,
   "metadata": {},
   "outputs": [],
   "source": [
    "qmult_in_codomain_only_if_valid = Forall(\n",
    "        (A, B), Exists(\n",
    "            (Hspace, X, Y),\n",
    "            InSet(ExprTuple(Qmult(A), Qmult(B)),\n",
    "                  Set(ExprTuple(LinMap(Hspace, X), Hspace),\n",
    "                      ExprTuple(X, LinMap(Hspace, Complex)),\n",
    "                      ExprTuple(LinMap(X, Y), LinMap(Hspace, X)),\n",
    "                      ExprTuple(Complex, QmultCodomain),\n",
    "                      ExprTuple(QmultCodomain, Complex))),\n",
    "            domain=HilbertSpaces),\n",
    "        condition=InClass(Qmult(A, B),\n",
    "                          QmultCodomain))"
   ]
  },
  {
   "cell_type": "markdown",
   "metadata": {},
   "source": [
    "A `Qmult` of multiple operands is defined as the binary expansion:"
   ]
  },
  {
   "cell_type": "code",
   "execution_count": null,
   "metadata": {},
   "outputs": [],
   "source": [
    "multi_qmult_def = \\\n",
    "    Forall(m, Forall((A_1_to_m, B), \n",
    "                     Equals(Qmult(A_1_to_m, B), \n",
    "                            Qmult(Qmult(A_1_to_m), B))\n",
    "                     .with_wrap_after_operator()),\n",
    "           domain=NaturalPos)"
   ]
  },
  {
   "cell_type": "code",
   "execution_count": null,
   "metadata": {},
   "outputs": [],
   "source": [
    "%end axioms"
   ]
  }
 ],
 "metadata": {
  "kernelspec": {
   "display_name": "Python 3",
   "language": "python",
   "name": "python3"
  }
 },
 "nbformat": 4,
 "nbformat_minor": 0
}
