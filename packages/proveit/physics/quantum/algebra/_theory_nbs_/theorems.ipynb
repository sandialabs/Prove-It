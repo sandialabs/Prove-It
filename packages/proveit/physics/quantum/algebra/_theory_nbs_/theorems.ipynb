{
 "cells": [
  {
   "cell_type": "markdown",
   "metadata": {},
   "source": [
    "Theorems (or conjectures) for the theory of <a class=\"ProveItLink\" href=\"theory.ipynb\">proveit.physics.quantum.algebra</a>\n",
    "========"
   ]
  },
  {
   "cell_type": "code",
   "execution_count": null,
   "metadata": {},
   "outputs": [],
   "source": [
    "import proveit\n",
    "# Prepare this notebook for defining the theorems of a theory:\n",
    "%theorems_notebook # Keep this at the top following 'import proveit'.\n",
    "\n",
    "from proveit import (Function, Lambda, Conditional, Composition,\n",
    "                     ExprTuple, ExprRange, IndexedVar)\n",
    "from proveit import a, b, c, f, i, j, k, l, m, n, x, A, B, M, Q, X, Y\n",
    "from proveit.core_expr_types import (\n",
    "    b_1_to_j, A_1_to_l, A_1_to_m, \n",
    "    B_1_to_i, B_1_to_m, C_1_to_n)\n",
    "from proveit.linear_algebra import (\n",
    "    VecSpaces, LinMap, MatrixSpace, MatrixMult, ScalarMult,\n",
    "    VecAdd, VecSum, InnerProd, InnerProdSpaces, TensorProd)\n",
    "from proveit.linear_algebra.addition import vec_summation_b1toj_fQ\n",
    "from proveit.logic import (Implies, Or, Forall, Exists, Equals, \n",
    "                           Set, InSet, InClass, CartExp)\n",
    "from proveit.numbers import (zero, one, two, Bit, Natural, NaturalPos, \n",
    "                             Complex, Interval)\n",
    "from proveit.numbers import Add, subtract, Mult, Exp\n",
    "from proveit.physics.quantum import (\n",
    "    Qmult, Bra, Ket, NumBra, NumKet, ket0, ket1,\n",
    "    psi, varphi, ket_psi, ket_varphi, bra_varphi, \n",
    "    var_ket_psi, var_ket_v, QubitSpace)\n",
    "from proveit.physics.quantum.algebra import (\n",
    "    HilbertSpaces, Hspace, QmultCodomain)"
   ]
  },
  {
   "cell_type": "code",
   "execution_count": null,
   "metadata": {},
   "outputs": [],
   "source": [
    "%begin theorems"
   ]
  },
  {
   "cell_type": "markdown",
   "metadata": {},
   "source": [
    "### Basis ket membership and reductions"
   ]
  },
  {
   "cell_type": "code",
   "execution_count": null,
   "metadata": {},
   "outputs": [],
   "source": [
    "ket_zero_in_qubit_space = InSet(ket0, QubitSpace)"
   ]
  },
  {
   "cell_type": "code",
   "execution_count": null,
   "metadata": {},
   "outputs": [],
   "source": [
    "ket_one_in_qubit_space = InSet(ket1, QubitSpace)"
   ]
  },
  {
   "cell_type": "code",
   "execution_count": null,
   "metadata": {},
   "outputs": [],
   "source": [
    "single_qubit_num_ket = Forall(\n",
    "    b, Equals(NumKet(b, one), Ket(b)),\n",
    "    domain=Bit)"
   ]
  },
  {
   "cell_type": "code",
   "execution_count": null,
   "metadata": {},
   "outputs": [],
   "source": [
    "num_ket0 = Equals(NumKet(zero, one), ket0)"
   ]
  },
  {
   "cell_type": "code",
   "execution_count": null,
   "metadata": {},
   "outputs": [],
   "source": [
    "num_ket1 = Equals(NumKet(one, one), ket1)"
   ]
  },
  {
   "cell_type": "code",
   "execution_count": null,
   "metadata": {},
   "outputs": [],
   "source": [
    "num_ket_in_register_space = Forall(\n",
    "    n,\n",
    "    Forall(k,\n",
    "           InSet(NumKet(k, n), CartExp(Complex, Exp(two, n))),\n",
    "           domain=Interval(zero, subtract(Exp(two, n), one))),\n",
    "    domain=NaturalPos)"
   ]
  },
  {
   "cell_type": "code",
   "execution_count": null,
   "metadata": {},
   "outputs": [],
   "source": [
    "num_bra_is_lin_map = Forall(\n",
    "    n,\n",
    "    Forall(k,\n",
    "           InSet(NumBra(k, n), \n",
    "                 LinMap(CartExp(Complex, Exp(two, n)),\n",
    "                        Complex)),\n",
    "           domain=Interval(zero, subtract(Exp(two, n), one))),\n",
    "    domain=NaturalPos)"
   ]
  },
  {
   "cell_type": "markdown",
   "metadata": {},
   "source": [
    "### NumKet theorems"
   ]
  },
  {
   "cell_type": "code",
   "execution_count": null,
   "metadata": {},
   "outputs": [],
   "source": [
    "prepend_num_ket_with_zero_ket = Forall(\n",
    "        n,\n",
    "        Forall(k,\n",
    "               Equals(NumKet(k, Add(n, one)),\n",
    "                      TensorProd(ket0, NumKet(k, n))),\n",
    "               domain=Interval(zero, subtract(Exp(two, n), one))),\n",
    "        domain=NaturalPos)"
   ]
  },
  {
   "cell_type": "code",
   "execution_count": null,
   "metadata": {},
   "outputs": [],
   "source": [
    "prepend_num_ket_with_one_ket = Forall(\n",
    "        n, \n",
    "        Forall(k, Equals(NumKet(Add(Exp(two, n), k), Add(n, one)),\n",
    "                         TensorProd(ket1, NumKet(k, n))),\n",
    "               domain=Interval(zero, subtract(Exp(two, n), one))),\n",
    "        domain=NaturalPos)"
   ]
  },
  {
   "cell_type": "code",
   "execution_count": null,
   "metadata": {},
   "outputs": [],
   "source": []
  },
  {
   "cell_type": "markdown",
   "metadata": {},
   "source": [
    "### Theorems about Hilbert spaces"
   ]
  },
  {
   "cell_type": "markdown",
   "metadata": {},
   "source": [
    "Complex vectors form Hilbert spaces"
   ]
  },
  {
   "cell_type": "code",
   "execution_count": null,
   "metadata": {},
   "outputs": [],
   "source": [
    "complex_vec_set_is_hilbert_space = Forall(\n",
    "    n, InClass(CartExp(Complex, n), HilbertSpaces),\n",
    "    domain=NaturalPos)"
   ]
  },
  {
   "cell_type": "markdown",
   "metadata": {},
   "source": [
    "As a special case, the complex number set is also a Hilbert space:"
   ]
  },
  {
   "cell_type": "code",
   "execution_count": null,
   "metadata": {},
   "outputs": [],
   "source": [
    "complex_set_is_hilbert_space = InClass(Complex, HilbertSpaces)"
   ]
  },
  {
   "cell_type": "markdown",
   "metadata": {},
   "source": [
    "Hilbert spaces are inner product spaces and vector spaces"
   ]
  },
  {
   "cell_type": "code",
   "execution_count": null,
   "metadata": {},
   "outputs": [],
   "source": [
    "hilbert_space_is_inner_prod_space = Forall(\n",
    "    Hspace, InClass(Hspace, InnerProdSpaces(Complex)),\n",
    "    domain=HilbertSpaces)"
   ]
  },
  {
   "cell_type": "code",
   "execution_count": null,
   "metadata": {},
   "outputs": [],
   "source": [
    "hilbert_space_is_vec_space = Forall(\n",
    "    Hspace, InClass(Hspace, VecSpaces(Complex)),\n",
    "    domain=HilbertSpaces)"
   ]
  },
  {
   "cell_type": "markdown",
   "metadata": {},
   "source": [
    "### Qmult Associativity"
   ]
  },
  {
   "cell_type": "code",
   "execution_count": null,
   "metadata": {},
   "outputs": [],
   "source": [
    "qmult_association = Forall(\n",
    "    (l,m,n), Forall(\n",
    "        (A_1_to_l,B_1_to_m,C_1_to_n),\n",
    "        Equals(Qmult(A_1_to_l, B_1_to_m, C_1_to_n),\n",
    "               Qmult(A_1_to_l, Qmult(B_1_to_m), \n",
    "                     C_1_to_n)).with_wrapping_at(2),\n",
    "        condition=InClass(Qmult(A_1_to_l, B_1_to_m,\n",
    "                                C_1_to_n),\n",
    "                          QmultCodomain)),\n",
    "    domains=(Natural, NaturalPos, Natural))"
   ]
  },
  {
   "cell_type": "code",
   "execution_count": null,
   "metadata": {},
   "outputs": [],
   "source": [
    "qmult_disassociation = Forall(\n",
    "    (l,m,n), Forall(\n",
    "        (A_1_to_l,B_1_to_m,C_1_to_n),\n",
    "        Equals(Qmult(A_1_to_l, Qmult(B_1_to_m), C_1_to_n),\n",
    "               Qmult(A_1_to_l, B_1_to_m, C_1_to_n)\n",
    "              ).with_wrapping_at(2),\n",
    "        condition=InClass(Qmult(A_1_to_l, B_1_to_m,\n",
    "                                      C_1_to_n),\n",
    "                          QmultCodomain)),\n",
    "    domains=(Natural, NaturalPos, Natural))"
   ]
  },
  {
   "cell_type": "markdown",
   "metadata": {},
   "source": [
    "### Complex number commutivity and associativity"
   ]
  },
  {
   "cell_type": "code",
   "execution_count": null,
   "metadata": {},
   "outputs": [],
   "source": [
    "qmult_pulling_scalar_out_front = Forall(\n",
    "    (l,n), Forall(\n",
    "        b, Forall(\n",
    "            (A_1_to_l, C_1_to_n),\n",
    "            Equals(Qmult(A_1_to_l, b, C_1_to_n),\n",
    "                   Qmult(b, A_1_to_l, C_1_to_n)\n",
    "              ).with_wrapping_at(2),\n",
    "            condition=InClass(Qmult(A_1_to_l, C_1_to_n),\n",
    "                              QmultCodomain)),\n",
    "        domain=Complex),\n",
    "    domain=Natural)"
   ]
  },
  {
   "cell_type": "code",
   "execution_count": null,
   "metadata": {},
   "outputs": [],
   "source": [
    "qmult_pulling_scalars_out_front = Forall(\n",
    "    (j,l,n), Forall(\n",
    "        b_1_to_j, Forall(\n",
    "            (A_1_to_l, C_1_to_n),\n",
    "            Equals(Qmult(A_1_to_l, b_1_to_j, C_1_to_n),\n",
    "                   Qmult(b_1_to_j, A_1_to_l, C_1_to_n)\n",
    "              ).with_wrapping_at(2),\n",
    "            condition=InClass(Qmult(A_1_to_l, C_1_to_n),\n",
    "                              QmultCodomain)),\n",
    "        domain=Complex),\n",
    "    domain=Natural)"
   ]
  },
  {
   "cell_type": "code",
   "execution_count": null,
   "metadata": {},
   "outputs": [],
   "source": [
    "qmult_scalar_association = Forall(\n",
    "    (j,l), Forall(\n",
    "        b_1_to_j, Forall(\n",
    "            A_1_to_l,\n",
    "            Equals(Qmult(b_1_to_j, A_1_to_l),\n",
    "                   Qmult(Mult(b_1_to_j), A_1_to_l)\n",
    "              ).with_wrapping_at(2),\n",
    "            condition=InClass(Qmult(A_1_to_l),\n",
    "                              QmultCodomain)),\n",
    "        domain=Complex),\n",
    "    domains=(NaturalPos, Natural))"
   ]
  },
  {
   "cell_type": "markdown",
   "metadata": {},
   "source": [
    "### Qmult Distributivity"
   ]
  },
  {
   "cell_type": "code",
   "execution_count": null,
   "metadata": {},
   "outputs": [],
   "source": [
    "qmult_distribution_over_add = Forall(\n",
    "    (i, m, n), Forall(\n",
    "        (A_1_to_m, B_1_to_i, C_1_to_n), \n",
    "        Implies(\n",
    "            InClass(Qmult(A_1_to_m, VecAdd(B_1_to_i), C_1_to_n),\n",
    "                          QmultCodomain),\n",
    "            Equals(Qmult(A_1_to_m, VecAdd(B_1_to_i), C_1_to_n),\n",
    "                   VecAdd(ExprRange(\n",
    "                       k, Qmult(A_1_to_m, IndexedVar(B, k), \n",
    "                                C_1_to_n),\n",
    "                       one, i))).with_wrap_after_operator())\n",
    "        .with_wrap_after_operator()),\n",
    "    domains=(NaturalPos, Natural, Natural))"
   ]
  },
  {
   "cell_type": "code",
   "execution_count": null,
   "metadata": {},
   "outputs": [],
   "source": [
    "qmult_distribution_over_summation = Forall(\n",
    "    (j, m, n), Forall(\n",
    "        (A_1_to_m, C_1_to_n, f, Q),\n",
    "        Implies(InClass(Qmult(A_1_to_m, vec_summation_b1toj_fQ,\n",
    "                              C_1_to_n),\n",
    "                        QmultCodomain),\n",
    "                Equals(Qmult(A_1_to_m, vec_summation_b1toj_fQ,\n",
    "                             C_1_to_n),\n",
    "                       VecSum(b_1_to_j,\n",
    "                              Qmult(A_1_to_m, Function(f, b_1_to_j),\n",
    "                                    C_1_to_n),\n",
    "                              condition=Function(Q, b_1_to_j)))\n",
    "                .with_wrap_before_operator())\n",
    "        .with_wrap_after_operator()),\n",
    "    domains=(NaturalPos, Natural, Natural))"
   ]
  },
  {
   "cell_type": "markdown",
   "metadata": {},
   "source": [
    "### Unary Qmult"
   ]
  },
  {
   "cell_type": "code",
   "execution_count": null,
   "metadata": {},
   "outputs": [],
   "source": [
    "qmult_of_complex = Forall(c, Equals(Qmult(c), c),\n",
    "                          domain=Complex)"
   ]
  },
  {
   "cell_type": "code",
   "execution_count": null,
   "metadata": {},
   "outputs": [],
   "source": [
    "qmult_of_bra = Forall(\n",
    "    Hspace, Forall(varphi, Equals(Qmult(Bra(varphi)), Bra(varphi)),\n",
    "                   condition=InSet(Ket(varphi), Hspace)),\n",
    "    domain=HilbertSpaces)"
   ]
  },
  {
   "cell_type": "markdown",
   "metadata": {},
   "source": [
    " ### Qmult as a linear map"
   ]
  },
  {
   "cell_type": "code",
   "execution_count": null,
   "metadata": {},
   "outputs": [],
   "source": [
    "qmult_of_bra_as_map = Forall(\n",
    "    Hspace, Forall(\n",
    "        varphi, Equals(\n",
    "            Qmult(Bra(varphi)), \n",
    "            Lambda(var_ket_psi,\n",
    "                   Conditional(InnerProd(ket_varphi, var_ket_psi),\n",
    "                               InSet(var_ket_psi, Hspace)))),\n",
    "        condition=InSet(Ket(varphi), Hspace)),\n",
    "    domain=HilbertSpaces)"
   ]
  },
  {
   "cell_type": "markdown",
   "metadata": {},
   "source": [
    "### QmultCodomain closure-like theorems"
   ]
  },
  {
   "cell_type": "code",
   "execution_count": null,
   "metadata": {},
   "outputs": [],
   "source": [
    "complex_in_QmultCodomain = Forall(c, InClass(c, QmultCodomain), domain=Complex)"
   ]
  },
  {
   "cell_type": "code",
   "execution_count": null,
   "metadata": {},
   "outputs": [],
   "source": [
    "ket_in_QmultCodomain = Forall(\n",
    "    Hspace, Forall(var_ket_psi, InClass(var_ket_psi, QmultCodomain), domain=Hspace),\n",
    "    domain=HilbertSpaces)"
   ]
  },
  {
   "cell_type": "code",
   "execution_count": null,
   "metadata": {},
   "outputs": [],
   "source": [
    "bra_is_linmap = Forall(\n",
    "    Hspace, Forall(varphi, InSet(Bra(varphi),\n",
    "                                 LinMap(Hspace, Complex)),\n",
    "                   condition=InSet(Ket(varphi), Hspace)),\n",
    "    domain=HilbertSpaces)"
   ]
  },
  {
   "cell_type": "code",
   "execution_count": null,
   "metadata": {},
   "outputs": [],
   "source": [
    "bra_in_QmultCodomain = Forall(\n",
    "    Hspace, Forall(varphi, InClass(Bra(varphi), QmultCodomain), \n",
    "                   condition=InSet(Ket(varphi), Hspace)),\n",
    "    domain=HilbertSpaces)"
   ]
  },
  {
   "cell_type": "code",
   "execution_count": null,
   "metadata": {},
   "outputs": [],
   "source": [
    "op_in_QmultCodomain = Forall(\n",
    "    (Hspace, X), Forall(A, InClass(A, QmultCodomain), \n",
    "                       domain=LinMap(Hspace, X)),\n",
    "    domain=HilbertSpaces)"
   ]
  },
  {
   "cell_type": "code",
   "execution_count": null,
   "metadata": {},
   "outputs": [],
   "source": [
    "qmult_complex_in_QmultCodomain = Forall(\n",
    "    c, InClass(Qmult(c), QmultCodomain),\n",
    "    domain=Complex)"
   ]
  },
  {
   "cell_type": "code",
   "execution_count": null,
   "metadata": {},
   "outputs": [],
   "source": [
    "qmult_ket_is_ket = Forall(\n",
    "    Hspace, Forall(var_ket_psi, InSet(Qmult(var_ket_psi),\n",
    "                                      Hspace),\n",
    "                   domain=Hspace),\n",
    "    domain=HilbertSpaces)"
   ]
  },
  {
   "cell_type": "code",
   "execution_count": null,
   "metadata": {},
   "outputs": [],
   "source": [
    "qmult_ket_in_QmultCodomain = Forall(\n",
    "    Hspace, Forall(var_ket_psi, InClass(Qmult(var_ket_psi), \n",
    "                                        QmultCodomain),\n",
    "                   domain=Hspace),\n",
    "    domain=HilbertSpaces)"
   ]
  },
  {
   "cell_type": "code",
   "execution_count": null,
   "metadata": {},
   "outputs": [],
   "source": [
    "qmult_matrix_is_linmap = Forall(\n",
    "    (m, n), Forall(M, InSet(Qmult(M), LinMap(CartExp(Complex, n),\n",
    "                                             CartExp(Complex, m))),\n",
    "                   domain=MatrixSpace(Complex, m, n)),\n",
    "    domain=NaturalPos)"
   ]
  },
  {
   "cell_type": "code",
   "execution_count": null,
   "metadata": {},
   "outputs": [],
   "source": [
    "qmult_matrix_in_QmultCodomain = Forall(\n",
    "    (m, n), Forall(M, InClass(Qmult(M), QmultCodomain),\n",
    "                   domain=MatrixSpace(Complex, m, n)),\n",
    "    domain=NaturalPos)"
   ]
  },
  {
   "cell_type": "code",
   "execution_count": null,
   "metadata": {},
   "outputs": [],
   "source": [
    "qmult_bra_is_linmap = Forall(\n",
    "    Hspace, Forall(varphi, InSet(Qmult(Bra(varphi)),\n",
    "                                 LinMap(Hspace, Complex)),\n",
    "                   condition=InSet(Ket(varphi), Hspace)),\n",
    "    domain=HilbertSpaces)"
   ]
  },
  {
   "cell_type": "code",
   "execution_count": null,
   "metadata": {},
   "outputs": [],
   "source": [
    "qmult_bra_in_QmultCodomain = Forall(\n",
    "    Hspace, Forall(varphi, InClass(Qmult(Bra(varphi)),\n",
    "                                   QmultCodomain),\n",
    "                   condition=InSet(Ket(varphi), Hspace)),\n",
    "    domain=HilbertSpaces)"
   ]
  },
  {
   "cell_type": "code",
   "execution_count": null,
   "metadata": {},
   "outputs": [],
   "source": [
    "qmult_op_is_linmap = Forall(\n",
    "    (Hspace, X), Forall(A, InSet(Qmult(A), LinMap(Hspace, X)),\n",
    "                        domain=LinMap(Hspace, X)),\n",
    "    domain=HilbertSpaces)"
   ]
  },
  {
   "cell_type": "code",
   "execution_count": null,
   "metadata": {},
   "outputs": [],
   "source": [
    "qmult_op_in_QmultCodomain = Forall(\n",
    "    (Hspace, X), Forall(A, InClass(Qmult(A), QmultCodomain),\n",
    "                        domain=LinMap(Hspace, X)),\n",
    "    domain=HilbertSpaces)"
   ]
  },
  {
   "cell_type": "code",
   "execution_count": null,
   "metadata": {},
   "outputs": [],
   "source": [
    "qmult_nested_closure = Forall(\n",
    "    A, InClass(Qmult(A), QmultCodomain),\n",
    "    domain=QmultCodomain)"
   ]
  },
  {
   "cell_type": "code",
   "execution_count": null,
   "metadata": {},
   "outputs": [],
   "source": [
    "qmult_op_ket_is_ket = Forall(\n",
    "    (Hspace, X), Forall(\n",
    "        A, Forall(var_ket_psi, InSet(Qmult(A, var_ket_psi), X),\n",
    "                  domain=Hspace),\n",
    "        condition=InSet(Qmult(A),\n",
    "                        LinMap(Hspace, X))),\n",
    "    domain=HilbertSpaces)"
   ]
  },
  {
   "cell_type": "code",
   "execution_count": null,
   "metadata": {},
   "outputs": [],
   "source": [
    "qmult_op_ket_in_QmultCodomain = Forall(\n",
    "    (Hspace, X), Forall(\n",
    "        A, Forall(var_ket_psi, InClass(Qmult(A, var_ket_psi),\n",
    "                                       QmultCodomain),\n",
    "                  domain=Hspace),\n",
    "        condition=InSet(Qmult(A),\n",
    "                        LinMap(Hspace, X))),\n",
    "    domain=HilbertSpaces)"
   ]
  },
  {
   "cell_type": "code",
   "execution_count": null,
   "metadata": {},
   "outputs": [],
   "source": [
    "qmult_op_op_is_op = Forall(\n",
    "    (Hspace, X, Y), Forall(\n",
    "        (A, B), InSet(Qmult(A, B), LinMap(Hspace, Y)),\n",
    "        conditions=[InSet(Qmult(A), LinMap(X, Y)),\n",
    "                    InSet(Qmult(B), LinMap(Hspace, X))]),\n",
    "    domain=HilbertSpaces)"
   ]
  },
  {
   "cell_type": "code",
   "execution_count": null,
   "metadata": {},
   "outputs": [],
   "source": [
    "qmult_op_op_in_QmultCodomain = Forall(\n",
    "    (Hspace, X, Y), Forall(\n",
    "        (A, B), InClass(Qmult(A, B), QmultCodomain),\n",
    "        conditions=[InSet(Qmult(A), LinMap(X, Y)),\n",
    "                    InSet(Qmult(B), LinMap(Hspace, X))]),\n",
    "    domain=HilbertSpaces)"
   ]
  },
  {
   "cell_type": "code",
   "execution_count": null,
   "metadata": {},
   "outputs": [],
   "source": [
    "qmult_ket_bra_is_op = Forall(\n",
    "    (Hspace, X), Forall(\n",
    "        var_ket_psi, Forall(\n",
    "            varphi, InSet(Qmult(var_ket_psi, Bra(varphi)),\n",
    "                          LinMap(X, Hspace)),\n",
    "            condition=InSet(Ket(varphi), X)),\n",
    "        domain=Hspace))"
   ]
  },
  {
   "cell_type": "code",
   "execution_count": null,
   "metadata": {},
   "outputs": [],
   "source": [
    "qmult_ket_bra_in_QmultCodomain = Forall(\n",
    "    (Hspace, X), Forall(\n",
    "        var_ket_psi, Forall(\n",
    "            varphi, InClass(Qmult(var_ket_psi, Bra(varphi)),\n",
    "                            QmultCodomain),\n",
    "            condition=InSet(Ket(varphi), X)),\n",
    "        domain=Hspace))"
   ]
  },
  {
   "cell_type": "code",
   "execution_count": null,
   "metadata": {},
   "outputs": [],
   "source": [
    "qmult_complex_complex_closure = Forall(\n",
    "    (a, b), InSet(Qmult(a, b), Complex),\n",
    "    domain=Complex)"
   ]
  },
  {
   "cell_type": "code",
   "execution_count": null,
   "metadata": {},
   "outputs": [],
   "source": [
    "qmult_complex_ket_closure = Forall(\n",
    "    c, Forall(Hspace, Forall(var_ket_psi, InSet(Qmult(c, var_ket_psi), Hspace),\n",
    "                             domain=Hspace),\n",
    "              domain=HilbertSpaces),\n",
    "    domain=Complex)"
   ]
  },
  {
   "cell_type": "code",
   "execution_count": null,
   "metadata": {},
   "outputs": [],
   "source": [
    "qmult_ket_complex_closure = Forall(\n",
    "    c, Forall(Hspace, Forall(var_ket_psi, InSet(Qmult(var_ket_psi, c), Hspace),\n",
    "                             domain=Hspace),\n",
    "              domain=HilbertSpaces),\n",
    "    domain=Complex)"
   ]
  },
  {
   "cell_type": "code",
   "execution_count": null,
   "metadata": {},
   "outputs": [],
   "source": [
    "qmult_complex_op_closure = Forall(\n",
    "    c, Forall(\n",
    "        (Hspace, X), Forall(\n",
    "            A, InSet(Qmult(c, A), LinMap(Hspace, X)),\n",
    "            condition=InSet(Qmult(A), LinMap(Hspace, X))),\n",
    "        domain=HilbertSpaces),\n",
    "    domain=Complex)"
   ]
  },
  {
   "cell_type": "code",
   "execution_count": null,
   "metadata": {},
   "outputs": [],
   "source": [
    "qmult_op_complex_closure = Forall(\n",
    "    c, Forall(\n",
    "        (Hspace, X), Forall(\n",
    "            A, InSet(Qmult(A, c), LinMap(Hspace, X)),\n",
    "            condition=InSet(Qmult(A), LinMap(Hspace, X))),\n",
    "        domain=HilbertSpaces),\n",
    "    domain=Complex)"
   ]
  },
  {
   "cell_type": "code",
   "execution_count": null,
   "metadata": {},
   "outputs": [],
   "source": [
    "qmult_complex_left_closure = Forall(\n",
    "    c, Forall(A, InClass(Qmult(c, A), QmultCodomain),\n",
    "              condition=InClass(Qmult(A), QmultCodomain)),\n",
    "    domain=Complex)"
   ]
  },
  {
   "cell_type": "code",
   "execution_count": null,
   "metadata": {},
   "outputs": [],
   "source": [
    "qmult_complex_right_closure = Forall(\n",
    "    c, Forall(A, InClass(Qmult(A, c), QmultCodomain),\n",
    "              condition=InClass(Qmult(A), QmultCodomain)),\n",
    "    domain=Complex)"
   ]
  },
  {
   "cell_type": "code",
   "execution_count": null,
   "metadata": {},
   "outputs": [],
   "source": [
    "%end theorems"
   ]
  },
  {
   "cell_type": "code",
   "execution_count": null,
   "metadata": {},
   "outputs": [],
   "source": []
  }
 ],
 "metadata": {
  "kernelspec": {
   "display_name": "Python 3",
   "language": "python",
   "name": "python3"
  }
 },
 "nbformat": 4,
 "nbformat_minor": 0
}
