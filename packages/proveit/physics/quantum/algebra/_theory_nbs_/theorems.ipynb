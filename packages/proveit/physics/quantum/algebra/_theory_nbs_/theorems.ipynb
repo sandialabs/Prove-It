{
 "cells": [
  {
   "cell_type": "markdown",
   "metadata": {},
   "source": [
    "Theorems (or conjectures) for the theory of <a class=\"ProveItLink\" href=\"theory.ipynb\">proveit.physics.quantum.algebra</a>\n",
    "========"
   ]
  },
  {
   "cell_type": "code",
   "execution_count": 1,
   "metadata": {
    "scrolled": true
   },
   "outputs": [],
   "source": [
    "import proveit\n",
    "# Prepare this notebook for defining the theorems of a theory:\n",
    "%theorems_notebook # Keep this at the top following 'import proveit'.\n",
    "\n",
    "from proveit import (Function, Lambda, Conditional, Composition,\n",
    "                     ExprTuple, ExprRange, IndexedVar)\n",
    "from proveit import a, b, c, f, i, j, k, l, m, n, x, A, B, M, Q, X, Y\n",
    "from proveit.core_expr_types import (\n",
    "    b_1_to_j, A_1_to_l, A_1_to_m, \n",
    "    B_1_to_i, B_1_to_m, C_1_to_n)\n",
    "from proveit.linear_algebra import (\n",
    "    VecSpaces, LinMap, MatrixSpace, MatrixMult, ScalarMult,\n",
    "    VecAdd, VecSum, InnerProd, InnerProdSpaces)\n",
    "from proveit.linear_algebra.addition import vec_summation_b1toj_fQ\n",
    "from proveit.logic import (Implies, Or, Forall, Exists, Equals, \n",
    "                           Set, InSet, InClass, CartExp)\n",
    "from proveit.numbers import Natural, NaturalPos, Complex, one\n",
    "from proveit.numbers import Mult\n",
    "from proveit.physics.quantum import (\n",
    "    Qmult, Bra, Ket, psi, varphi, ket_psi, ket_varphi, bra_varphi, \n",
    "    var_ket_psi, var_ket_v)\n",
    "from proveit.physics.quantum.algebra import (\n",
    "    HilbertSpaces, Hspace, QmultCodomain)"
   ]
  },
  {
   "cell_type": "code",
   "execution_count": 2,
   "metadata": {},
   "outputs": [
    {
     "name": "stdout",
     "output_type": "stream",
     "text": [
      "Defining theorems for theory 'proveit.physics.quantum.algebra'\n",
      "Subsequent end-of-cell assignments will define theorems\n",
      "'%end theorems' will finalize the definitions\n"
     ]
    }
   ],
   "source": [
    "%begin theorems"
   ]
  },
  {
   "cell_type": "markdown",
   "metadata": {},
   "source": [
    "### Theorems about Hilbert spaces"
   ]
  },
  {
   "cell_type": "markdown",
   "metadata": {},
   "source": [
    "Complex vectors form Hilbert spaces"
   ]
  },
  {
   "cell_type": "code",
   "execution_count": 3,
   "metadata": {},
   "outputs": [
    {
     "data": {
      "text/html": [
       "<strong id=\"complex_vec_set_is_hilbert_space\"><a class=\"ProveItLink\" href=\"proofs/complex_vec_set_is_hilbert_space/thm_proof.ipynb\">complex_vec_set_is_hilbert_space</a> (conjecture without proof):<br></strong> <a class=\"ProveItLink\" href=\"../__pv_it/theorems/ce796c39d806b28d73fce1966edaafb8d4145f6b0/theorem_expr.ipynb\"><img src=\"data:image/png;base64,iVBORw0KGgoAAAANSUhEUgAAAQgAAAAmBAMAAADKCRg+AAAAMFBMVEX///+IiIgiIiIQEBB2dnbu\n",
       "7u5UVFTMzMzc3NwyMjK6urpmZmaYmJiqqqpEREQAAACk/Np2AAAAAXRSTlMAQObYZgAAAAlwSFlz\n",
       "AAAOxAAADsQBlSsOGwAABI9JREFUWMO1mG9oW1UYxp8k9zbJbZqm6oQ6N0Ymg64fKtp2Zc6ZD/3Q\n",
       "7k+5hCGIzkWRgjo1RSkOoYlUO2TMZrKKszgz1y8yxQuWDU2FFP2gMtzVgYUyaaZ2SNGuwz8N3db6\n",
       "npMszb29uR4w99Kmzc2bc37nOc/7vicBhK4JOHTJI8KhtTGnIHBIFY38xjEGBHKCgd425yBwWTDO\n",
       "H3EQYjgpFjejOghRK7gf9zjIAF9ezBJ/OwmBX4WiasoEC0z0ra8yxJdCUfVZLltP07HDkcDprCdZ\n",
       "ZWfq4Ku8ZBuV4LP27MCj/2iv34Z6o00HWnZGhujXtwOH2vFB69qimMnoms3wbg2fs7/v2EJc4Ca+\n",
       "i/L0Ow1P4LSZkdaRSEG5DmwBTBD0pmgcP6Ts0iOFfqa0fZY8zR5eCZIANRq2YdxrkpNq+jCNQK9f\n",
       "AY4brU8S7CYn2UG4FuCn90q6LUQ7e5gNsjFDvgVsnSrc3hgOp8ohYAHh0gp37FZZt4gAuc5v75y/\n",
       "2EPuCP9fieEO7lN8uM6khBVEgiB+oWVm7SrATeC+cLjVHuIG0yD2kqnGjJi24412DjE6uZ50PdKg\n",
       "KZs3dB99YctzmGlNE/zmPZmDtC8NnSrk8U6dRaBvspEZl8Y/R1JbzLzaLnw3GW7kI1M/KSXqcHtv\n",
       "79UcdyVBvJXEKLwdaET9F8NZcj5cKyvvAp7tiGq4mCQbDurKNhYh5+BmA1wDhmiVFhCaQS5y2CkT\n",
       "xBpjXuE/bwOfpGnuet29SWbpBzz25EoW/hjqlghCyeME6jpYxHQbpOJ2B1UpXb5Dzbtwe6wcQlni\n",
       "nnjNCPFimK7cWohRKm5agiaN0LQFCAqmBNAgUxLLY3mZeYxHtFzmctLtutDqovqen8OPklqrrlGi\n",
       "kB1l1+MVlGAQuZmJ8+fjNC2HyPJ1sGfLkM/+lPdeY42ZRex7/3oRAqnJUtk4x6pnSJOwO9OcSRsg\n",
       "zrA6gVXN3DYQWkIvnkLcNBaTa7GoxMW0N88EAYvwqfKFOInDoPaO3OpLd7Mxp6ZflQye8N0oVUzX\n",
       "ar67QhU9kYh76FaaQfgJYisNscA9sYgHoORfPkHys4iPQ6jJFscfpOe8L8l8iilp/5gBgpMC3cfV\n",
       "/aNl+/GeqWxjvpAdKp6CdzukJNsKKSWhSccj5IAORCOkvGvx68EsuljE0TYEk0WlgyQJ70sKLylT\n",
       "0DYaIAi/0EUfai7vnw/PFRpZf8syNbDlyMD9swN//obZ6VO0Z0PjXcrVnSR5bxdiZ84+Q5ocbKDH\n",
       "/g3rukPys51JHrGnYVfJ+OxifSlwcn7+D4LY5zfUCZy0rmFjP4dT4g3bX7GRBkpnJtaXvJGCEsr3\n",
       "xqhPq3FqqAxRu+mW+Xhf4pXzW+BOUyuvxjnXHfvPVwp96U1yh9IUh6kkHND/PwM5pNKB7ICxu8k9\n",
       "83MWUUHN0YPujNBxMXCvoxCfiX1yXnIU4kGxsG4nGVyCOnviVnf7vqoKhEfQ9pbnVG/MXxWIRtHA\n",
       "Y1Y5E6/OR9EO0cioRRa5VbkaEFHhIuSz+GZJ2XupGhC/i4ceduyLM3ZM+he0mGmLOHUo0AAAAABJ\n",
       "RU5ErkJggg==\n",
       "\" style=\"display:inline;vertical-align:middle;\" /></a><br>"
      ],
      "text/plain": [
       "complex_vec_set_is_hilbert_space: forall_{n in NaturalPos} (Complex^{n} in_c HilbertSpaces)"
      ]
     },
     "execution_count": 3,
     "metadata": {},
     "output_type": "execute_result"
    }
   ],
   "source": [
    "complex_vec_set_is_hilbert_space = Forall(\n",
    "    n, InClass(CartExp(Complex, n), HilbertSpaces),\n",
    "    domain=NaturalPos)"
   ]
  },
  {
   "cell_type": "markdown",
   "metadata": {},
   "source": [
    "As a special case, the complex number set is also a Hilbert space:"
   ]
  },
  {
   "cell_type": "code",
   "execution_count": 4,
   "metadata": {},
   "outputs": [
    {
     "data": {
      "text/html": [
       "<strong id=\"complex_set_is_hilbert_space\"><a class=\"ProveItLink\" href=\"proofs/complex_set_is_hilbert_space/thm_proof.ipynb\">complex_set_is_hilbert_space</a> (conjecture without proof):<br></strong> <a class=\"ProveItLink\" href=\"../__pv_it/theorems/321ad27884945f2a71e1f0b38ab3077a9b4579550/theorem_expr.ipynb\"><img src=\"data:image/png;base64,iVBORw0KGgoAAAANSUhEUgAAAKUAAAAcBAMAAADywGJUAAAAMFBMVEX///+qqqq6urpUVFRmZmbu\n",
       "7u6YmJgQEBDMzMyIiIgyMjIiIiJERER2dnbc3NwAAADwZfnPAAAAAXRSTlMAQObYZgAAAAlwSFlz\n",
       "AAAOxAAADsQBlSsOGwAAAqVJREFUSMftlEFoE0EUhv9MHbNNdrfRgwU9tIonobia0ksFt7QUPFQj\n",
       "gohRyKngQYViwUMMAQ/SQ00q9JBSJApSCIiiSMCABlGClNIo2kOhYYtC8VAsMZCoNfHNrkYTm+Bh\n",
       "68kHO8nO/vPNe/++WQCrs4mb47A1lEyAH+uumZJmi3Nqb3EOKwFpRmPJbP0aPjDg0Zswj3QBW5/X\n",
       "zknrdH0B9utwa3DWMunOH8aueGOkpL+gsTZPqJ/oIi4HZA2uGqZKCb6hNJowZV+axg/WzXQqFf+d\n",
       "iQ2YrcS8S7/pJkz1lzH7Juvy3IgZIX3GBwQaM99J1RXqnbra1RnNZA7G+oD3MZ0lJxaXDz88gI4r\n",
       "nQBLLgz0kAmxJR/40JJHKDB2bgoYZ9UNXUaVWfR6D1Gebov5BC5dCmEKbX0fA27Ks7VSuQ04R+DX\n",
       "0W5siWPFwy4LBU/DTduzaJX5xzuSLaYGlidUm8d9n0MwcbK3EhDzjjwxWRkJOEJCsX0UivCzWvu1\n",
       "FEV6AyZRChFiZIliMUm8JuZ5gZqjq8y/CaOF4ulL4+d7N+NMozyJst4xODwcFv8Ek+xieWsevH9b\n",
       "WfpMi0zF2Xu0CzP7kwmSuwmzEPEId7KCqZh9VPqRZ3unVBbpQihUH78Yts4Rps3Oizb0Uyo5qexO\n",
       "wXQR8wE9XjP9LOESWPl6AnAIxe4oWqgIJfGW77Q8ulV/NuW0yXyElqw0AsUQdStxBY89OE3uheDP\n",
       "ooDW0oWVAHJCsTwKWXTPaubrUQt14pnPQvZW6BtSmZMywVPzQUM+vucGNfJQjs0HqT5vDtre/oOU\n",
       "cU+MxqsTk4tR3r1kmIqF2Ou6A9A1m4r//RfNpcP22AwmnTK7g9w18D/+dYydtx0paS7bmXJ4E5rY\n",
       "x+3v4lc77MB8B0U/2tBpZb1eAAAAAElFTkSuQmCC\n",
       "\" style=\"display:inline;vertical-align:middle;\" /></a><br>"
      ],
      "text/plain": [
       "complex_set_is_hilbert_space: Complex in_c HilbertSpaces"
      ]
     },
     "execution_count": 4,
     "metadata": {},
     "output_type": "execute_result"
    }
   ],
   "source": [
    "complex_set_is_hilbert_space = InClass(Complex, HilbertSpaces)"
   ]
  },
  {
   "cell_type": "markdown",
   "metadata": {},
   "source": [
    "Hilbert spaces are inner product spaces and vector spaces"
   ]
  },
  {
   "cell_type": "code",
   "execution_count": 5,
   "metadata": {},
   "outputs": [
    {
     "data": {
      "text/html": [
       "<strong id=\"hilbert_space_is_inner_prod_space\"><a class=\"ProveItLink\" href=\"proofs/hilbert_space_is_inner_prod_space/thm_proof.ipynb\">hilbert_space_is_inner_prod_space</a> (conjecture without proof):<br></strong> <a class=\"ProveItLink\" href=\"../__pv_it/theorems/c8745a31254572771946eed7e5568542077f9a680/theorem_expr.ipynb\"><img src=\"data:image/png;base64,iVBORw0KGgoAAAANSUhEUgAAAYwAAAAmBAMAAAAl57FFAAAAMFBMVEX///+IiIgiIiIQEBB2dnbu\n",
       "7u5UVFTMzMzc3NwyMjK6urpmZmaYmJiqqqpEREQAAACk/Np2AAAAAXRSTlMAQObYZgAAAAlwSFlz\n",
       "AAAOxAAADsQBlSsOGwAABrtJREFUWMPFWQtsU1UY/tb27t4+18HkkU1dJmKQqItDQgZopwWZPLwh\n",
       "BqMQOjGaEAQ6iiQaYy8PQULCiiCBIKQyTDQm7BKnwBixk0VUqpSgJhqRsokg4DY2ZbA55n/Obffo\n",
       "7BbZpWvS09P/9v73fP/j+/9zCuj7qkaqX8K7+uu0lqQcBl6TdVf5depRwBbVW6P4yBDAwDm9FZpd\n",
       "QwGjTNFZ4Vl5KGBY9Y6qMUOBAtJ1nVPj7yGBgd/0VZceTdG6ld6TY/pqzwilBkVaBFhXt3PUSryv\n",
       "5XgE3IC/6KPez4wjHb5G4+ZeyW6pa7n8n1Fd3/n74vd6y4YVAvOPHLX285zvAVN9SPh8CQcEGFRU\n",
       "sc8d+sA4yYYjrz9G46KErLmZJJsI8tpAb1EbhPtgH9dP+0E3HNhHdY9MwzsRawCrmFF0iunF9Hao\n",
       "yKOPqwlmv5aEZEhu+6u3rA0mtd9+wBqCqJ6nyRLgBA+yJpjJ+6aIPjAm0vtHgCxvj3FgWl3euIFg\n",
       "iM2JMFgVdSR/jJGuyszyq2nOgtfeChulpVmn1NPMKtBHeq6WE1vkgb1huZEIw0E9jS35Yz4iGJIa\n",
       "6xsYq4gdwMN5eRN0gvGPtvY24iwnn26Uu5e7YvLqEc7YiE2ZquWeO4sVBsPUwafCgewgfSka2QZ7\n",
       "y1N0z94JJz6jRdZkTaOcd8+GdCAbYk5mAJXAejHW9phYSy3Qgw8C53Wqph2a5ibqSjRC39HT6hOd\n",
       "4vXYKE7CaGQcLQuRXBoe4tMVCvV4wlSYyAp3d94gSAVBYTzsk3AY0lSUe31KWmAhkAuitpWWGLfb\n",
       "OD9QJq6HRIg2bfXCriEUnpggF7d7v8DCJqmue5EmivTMJ/vr/UQOQ3zxZkNDgSYJ9IRRz93FR2LI\n",
       "jIghV4DU7C6ixGRTamT8XkcAEsEQvnyIfrqdzBEkGBWKOYDTynigo1yGCw/Qci2au2HPjUWzQzYF\n",
       "YXN5gjCQBUqXXYKjBGn5KIXUhBU9ulfmuH63RSyaaDy59MzPWiqIFLB5D8ZhNHCr8dEfojQ2ky5J\n",
       "I2KaMhtkuDxOCFyLSKy9C/BQCjz/tOIh64kEbJvh5iigkOVGzJ5iExvbCY+TFlgKj4K1xGUHGWdy\n",
       "GGSTXjCGAyQsGdAbLKAkLUuEaE9v9IBxtjoc9prVbhgq7Cyjon4Og6V3RZDByIhi/tKzColhbw+H\n",
       "jwvFnSqHIcdUW/JjMBCo4RUYmAnkIA5DaGQwfDXZMmYVSTs/rlrulrfLUKR3ambK0iyqmlkjFFOt\n",
       "Ezm1zt4w/qCIbdUkuUlg+COxzUkchkvzhqp5g5Fthlfzhr2QmgPmFK79LSxoxW5aPa8bllhQCaxK\n",
       "zeaV8C7g/pj5HGPcc/JRxmD4FXvAHLGGyj90+YA1zVWs40gLpLuMikm1unaj2uKS4jA0HzCd1iZN\n",
       "kpkEhpGcGuwNA5PJA15zlOUGi+4yLTe8RhUVGzZSkkWoKllOAa/w3R6r4mzNfAfLH7yWBcpznQUF\n",
       "TdDyXwsqD/cG0bgf9ij5iqYobXRykaQ4Qh5FerYJv4rtP8RZlRsFNurWHfmSly8v0qMZ2cNh8FEs\n",
       "hEkxMBNrNYNNfV5sg1SI9Ksw7IZAdLRVEcaQh3D3G29Pod/7gphxWsZFTGeEs3Oa8BPdZXXGw8DB\n",
       "n3idcZdtT0PDnwkwphwLh4M+DkNhGcVEyBrmrKAVTwl/g/2dwbjNJ3MjkH2MreWccYVlH2gRvKjz\n",
       "8pstF75rLtFGrK+cYWl8NCIt6mR7BTaFVDmdFM0vGtlSkm458jLNt9eMCEJ84dQzWzCvcgakJW5l\n",
       "X01WEHuZynX1zYeYAZQubuEPyoVVhVZU+ngDLNV9QqiERTsTmUOOO8pkThOibOui1T38blJsbf40\n",
       "pnZO3rhbrkO7ksgN3u75mngAxNotF8zOWCHsAcOv2KKOkBCitXvESBsrMZQbUY9syHS4BOcVLLCr\n",
       "6OKjT/TdViSDYVMTjvesXVRi9MLofAmbvVr5e7z91eXqvHasDmcB7kyp8RBMlahyuynFv81GWvXx\n",
       "cySm1sFpL6rt2oud1PdEYWyyCxe7GwduQkNXGaBmMX2sAmFOw6UBlPuSX/JE9ESxv+VikisLu2YO\n",
       "bjjPLew6/ckvOdQUHYV0LfureMH93yoak6/Vlj80JyOHdT7cbhsaGFN11lc8JCjS+gZBae1gFBq9\n",
       "id1iTgpOdY19mEUsGdSG1hZIEKxC4PbDGN2Xa7yD07gl4fuFVPDWpL51XhYGpXJuAvXdi9t/xj63\n",
       "b7WyzB7cAaKU8EfcvjO3/zz0ym3QuSHlPCWwBvtfD58cviMniZkAAAAASUVORK5CYII=\n",
       "\" style=\"display:inline;vertical-align:middle;\" /></a><br>"
      ],
      "text/plain": [
       "hilbert_space_is_inner_prod_space: forall_{H in_c HilbertSpaces} (H in_c InnerProdSpaces(Complex))"
      ]
     },
     "execution_count": 5,
     "metadata": {},
     "output_type": "execute_result"
    }
   ],
   "source": [
    "hilbert_space_is_inner_prod_space = Forall(\n",
    "    Hspace, InClass(Hspace, InnerProdSpaces(Complex)),\n",
    "    domain=HilbertSpaces)"
   ]
  },
  {
   "cell_type": "code",
   "execution_count": 6,
   "metadata": {},
   "outputs": [
    {
     "data": {
      "text/html": [
       "<strong id=\"hilbert_space_is_vec_space\"><a class=\"ProveItLink\" href=\"proofs/hilbert_space_is_vec_space/thm_proof.ipynb\">hilbert_space_is_vec_space</a> (conjecture without proof):<br></strong> <a class=\"ProveItLink\" href=\"../__pv_it/theorems/8586c1a9b89d19fec011a5dd880318f3d3cd454a0/theorem_expr.ipynb\"><img src=\"data:image/png;base64,iVBORw0KGgoAAAANSUhEUgAAAVAAAAAmBAMAAABgyt6CAAAAMFBMVEX///+IiIgiIiIQEBB2dnbu\n",
       "7u5UVFTMzMzc3NwyMjK6urpmZmaYmJiqqqpEREQAAACk/Np2AAAAAXRSTlMAQObYZgAAAAlwSFlz\n",
       "AAAOxAAADsQBlSsOGwAABgpJREFUWMO1WG1sU1UYfrr29t5+0uowEpAsE02AKIuALHxo0Wo2GeRm\n",
       "MSREQxcMPxSEziJR//TiCMYQoSgmjihUmYmGqJc4+RqJnZCAWLJG1EQi2QAJiroVoqysjPmec28/\n",
       "1tqSudsm9/bcc27fPud9n+d9zzmAsZ+jMP4jvGu8TUdLBYDiVdlwk99WAiecfUZbFOdWBCjOG23Q\n",
       "5qsM0O2KwQZ75coAdRgd+2mVwQkpZTBF/6kQUPxqrDmrcRFSRjeOGQt0QswoS6YEsPlC+90b8KGm\n",
       "pgS4E34xxnyYTV86fJ3u20bJyjlwrQXSrBvZTqGrK6GWsfQDYLkYE75ewyEDVSqOsO/3jAHaw25d\n",
       "rz1K91UFsr3J/i2afW4O4vtImaJJY/s7aIJ/ALx+OiLYyJxgELeep8utopa+rhbI9gb7t9zzEgJR\n",
       "BqgjBlG9RI01wHecCknYKByWhDFAH6brJ+AW4NLzielC7XTeGCBWnMq9uZOuMt4x04RlNr6J2owv\n",
       "rkE4SQA2gyTwtxY3+rLW8KZ9R4aVvcTIvAXLReovo7xPCaikc9jG3hOHgYdqa+cYBPSmhm6I9O/h\n",
       "zTez6jHXQfRA2j8ZeMa/FL1ziK/2e5u61hIHvH4ZQqc/ga1eFa3dk4BOYIuol2MLm59Apg8Clwyq\n",
       "H8Oa5SQ5UEt/OZFahuGQEVJMEWkR9gZNIyO7CP18NKs4o5BU2hL2eWI9Jgl9qALeBzbYdY9rXCbO\n",
       "b4FEmLe+E4RLm4Pw+By5MR38BiuT0oUcDAtd3uoN5QoTByo+d6u/f7bWE8lXkxWYCQzbIgQNz64a\n",
       "icHWAtcQPdlTaIernnLQhLNz2R89QIDsWlDgqtFZ5ZYtUTh9gShPH63rrsDdAlMdWiEl8VLeyojE\n",
       "GMSBMkBZzOne8+K5s9c15ESr2ge1wT3KKYgUwJ0BPaQhErIKIU2e6UgxXiNM0H2zzlMw5jOO6u+J\n",
       "SXan11wegtCKgII2gnKQZRgOlAyMAnonF6P1th5lYZc0tgp5wu71kfvS8fiJMPNUjE+LgFKKEA6c\n",
       "S4ksnfUejceDT+9Ja0Bl/cf2Oh0oIt28qvDkNgUZoMIAAxrqniyjabHUvu/Ier9sWw1Jert7iSw1\n",
       "UZ2ovkuhIUw57hkN9Hfi1aDWU5OXceZ5tBcCqp6aBnWPnomKKeZYhClLSrLQE8QHhI/nUbseeoFN\n",
       "ZCnP/VOBGboL3NP8y+qwnQENK66ILeGI7f3EFyIrs2ZGqcsUsfrMikV1+GjolE/KANX8yGw6klqP\n",
       "Ny+HX5N5orUTR5GYAUYsxtFBLIA99Uo7ITKTVj7zwBrjK3pWmRgqvg/hptuY/leMzJ6dhKY0LfQB\n",
       "7lFgKAxXH/k7xHw29SrvkhR3LKBIMg1dTv+YyUF82nDSWs9dJwU5r3OVRGK0DUXRIC2ERZmewApi\n",
       "ZD2afRRV0+DJthgaxPmwvDUXbgVPMvG2PyH8TN53eDLBcnObKZYHnLv7+/8qALrwWDweDXGgEmMI\n",
       "60L1HZ4v2OqLhj4fyZbwBXya5AHz4F6en4R1H2eR7mJo1/gVLO9sQMu+Ay/QPNZ66b7xnomNHoGN\n",
       "bOlssDd5nwI+Yj/YfPHaIbZCULI65ZStgUOFlmSLPAomqpAQIyVV8S5bzD1xu8yJLcq5or2b/1ph\n",
       "cf5KN7tML6H/vcUqtYCqCubar2fCpFPIB5tHT/15QMOKs88dE2KELiAmJkQp6xJH+wJyldftEzw0\n",
       "dFrNFe0vx7oXLAXUqRYcaTiysjQHYfasxraglvAfS7+8Xl2exqZ4NeD3SgOHYOmEo8PvQ/j0ZJiO\n",
       "njhP3WzItfh4djXeM8a9XVXJ44rfctzuG/0mLVOs9ysQlvVfuY31UOmhwNhWYfaBR0ptg1dmW24+\n",
       "+cD/2DuESw+5VcO2nVlgJzNFZMwmBkqjcdZVahd62OBjt6FKAV1ksL3GCuE0FYeq9fh4DJqDheuU\n",
       "KYacRpmLVCq2jGtbUrRh24iIEUAnFes2OD6LOwqeLxuTA+qLU7AsjMtkc0EauQ9GnO81F+dn+9Lx\n",
       "HZpIBcftHeeMOOX5swL6fKMCNgW2PPsXg3y+5t5XtvkAAAAASUVORK5CYII=\n",
       "\" style=\"display:inline;vertical-align:middle;\" /></a><br>"
      ],
      "text/plain": [
       "hilbert_space_is_vec_space: forall_{H in_c HilbertSpaces} (H in_c VecSpaces(Complex))"
      ]
     },
     "execution_count": 6,
     "metadata": {},
     "output_type": "execute_result"
    }
   ],
   "source": [
    "hilbert_space_is_vec_space = Forall(\n",
    "    Hspace, InClass(Hspace, VecSpaces(Complex)),\n",
    "    domain=HilbertSpaces)"
   ]
  },
  {
   "cell_type": "markdown",
   "metadata": {},
   "source": [
    "### Qmult Associativity"
   ]
  },
  {
   "cell_type": "code",
   "execution_count": 7,
   "metadata": {},
   "outputs": [
    {
     "data": {
      "text/html": [
       "<strong id=\"qmult_association\"><a class=\"ProveItLink\" href=\"proofs/qmult_association/thm_proof.ipynb\">qmult_association</a> (conjecture without proof):<br></strong> <a class=\"ProveItLink\" href=\"../__pv_it/theorems/77debf2e12d988fc9e5868460c07f7cc400c6e770/theorem_expr.ipynb\"><img src=\"data:image/png;base64,iVBORw0KGgoAAAANSUhEUgAABAsAAAAzBAMAAAADcpxXAAAAMFBMVEX///+IiIgiIiIQEBB2dnbu\n",
       "7u5UVFTMzMzc3NwyMjK6urpmZmaYmJiqqqpEREQAAACk/Np2AAAAAXRSTlMAQObYZgAAAAlwSFlz\n",
       "AAAOxAAADsQBlSsOGwAADHxJREFUeNrtXX2MVFcVP/PxZmZn5u0OpUVFoBviqu1SWRqhaEs7mKVW\n",
       "sTK0LIYg7FDNNohxh2KaqMFdpZoQDbsJoiYiTIFa/xCZxlUjtHRrbBRW2bGlRSqGbZtSg3ZZTClf\n",
       "pev9eu/de9+7d/eRR8OUd5LdnXfPuefe9+7vnXPux5kFCIba2togpJoko62tEJSumaMXr+2H+ZXa\n",
       "6/JKOvr1o6NDQam8+Rp/pRL9tdfn5Bb2IRvCICD6sniZunp6punKcyEMgqVso3g9lf7ZqK+18d3o\n",
       "WjqnZGWKIQwCpZ6ScGnm6d/t+loO+9DoiY5tJTXKTr3Tsfp1oWjxiY7+R9SqOfZUtdSMEAaB0ofE\n",
       "y2UMDaPaSjz7ThRenFWLxtBAdfIwicwqwOEZSnmeXaeeBzxfCGEQpE9oEa+fZEa3s1tXi2OnTiPr\n",
       "rZlr9SDLvqfCTfJeQQOYOaecA/LsbEWptq4SwiBAiuXFa4aKexaVdLU4dhZZguxpteggkhzknHzd\n",
       "bOz1W5TDK7Bnq+OGcyEMAqQbRbub7qWveO7Gqi6E59iJETR2c9WynehnM2daFuGaSeVrLrK3qvX+\n",
       "LIRBgPRhydpT45CB47rVBJ6NfL/xgMZ0oNBh6Uc4BP2PmH5VBYl9t1rv8UIIg+DWYaTgro4O727o\n",
       "ymtq8eyulyes1kAm+c6ESfw7HT+t7Y/EPkBAN51QUZRsz4UwCIwSkpOOUmNfgR701L/Yq6hF2EYn\n",
       "9SrdYN6hlo0gH/48B5Mow51xwFM8KsLyOXXP6xtDGAQXIUrvWKxMxu4/+zqHIDmhUTG0hA1HycWr\n",
       "2KGXlLL1CGdxbmxjZwgIYO113v1hbMvUaKY450IYBEZd/V4wWAzQgIbVVAwtY/eRi7eAzARUsg1F\n",
       "cSIRHcG/j6hedJtNaae658bbIQwCo0XS8kBdlRp9iLaoYcDY5MEl8Wh0lpWyGGeJCzDw5wnFKQ+C\n",
       "tSSQV8HAYiP5iuUUvGMDmBPCIDB6VbbhOPBKo6GrG1HCgLGNEcv3J8+rIYNCB+jqhYN3oGGbxFab\n",
       "IF5QwcBiI3k8CT2k6forIQwCozvlSB2/cxswHs7ZQ9vey34Z58k1Y5skKKxDZmHnFluWiHCysBnB\n",
       "5hOF1OJGuEC9CJpqmguc6M+WbacxJmVjeRwlPKEzZAwGBAjHgoBBQJpqjwx5FTiNRnPl6BYwT53P\n",
       "W0MbrVi/mvGlxSZLDIntb3WsfgMca9AsyMLq0Y6ObcjRJHLJFriFNLm/Yy83CbBlo3TJiLETObKS\n",
       "+FFN3wfLFAZE20+DgEFAmmpw2cA1i+dWepSGng3gYzBuWYiVIkOpkdL45oJEPpMvQUqntCtHYfAw\n",
       "9iVDQcAgIE21R+YluWRg3EPbHvEBgx70fmeH8uOGQQ9Ed5cg069rv0JhgLch49UgYBCQptqjrGuH\n",
       "uN6ZOqQ+czGnW3mazId2eln4BdR1p1Zx+xePbH9CLx/5HMAmnQieimIYZHHEGkiIGJCm2qOIa8PX\n",
       "uJqM4mtaGAyxmcKt06d/PJiZQjCaao/iZ1xFP7yKbFW3NnzoZTD4/Rh4sSk/FgxsTd7HXYwrcI8Z\n",
       "+ucfSv2BncCPaDpxpnYhHG1kMPg+pIrjqlEZCwaWJuM2T5H7rRA3fapv4eseCypy8aS+BQs8xmNN\n",
       "6xJ7cOsp4MuCfh56Vld+fbF1f2mMBgXNrjLu9ifdKjyLxEgNw6CFwaC+EC9bG13wUF85MkeeDzV/\n",
       "FiYW3TCwym0YEE3YSF7yXqmww8c/Akz0EJCKd1TJloo8drfwq3YUBksl/Zy9trqSbYRIi75BUbOr\n",
       "bBe+5UnD6A53lbLnEUAK7ykYmDkc1x2l92gWF8BvebG1XzsJL8YLmYIEA67chgHVBPD4LK8G0+vs\n",
       "KHgNwKCHhFhszkY/bguET1H+U4LBXkm/Q3ZXEhXIjugbFDW7yvBEaB82KPjY8WDJnP/t95RTgN5n\n",
       "gGx04Xs0n8kIMUAG+Xs4lqvEYeG+5n1lj3IOBlQTQO7Hns61zvY988DwOlQrFveglzvpesFT+PVe\n",
       "L8GgUdLvkN2VWBXu69c2KGl2laG5cIRo+AYOsPthpx1Rxd1HQ/2nq6SueAVE3eoQEe7dQoaR3KO5\n",
       "/pc5DANrL2sKFj3y0nfitnPMPrn2g2K5AwOiCQVTf/DqQi5jnalInf7r7zz8uFT8gPc8W1xgITBI\n",
       "9Yr6+bjO6krPlIEH9Q0mGvWtIcu0knx4maCKswYR98ly/+kqU/0OaTrnHwaPumFQtGCwAX0yRug9\n",
       "mqUFL2EYsL0sOv89El+xy4HBzv5Yt1DuwGADeR8f93T86RLyzRv7mZ9e6hFvSsW3e09wKm4YpIcs\n",
       "/S6fgLqS2krDAGONvsFYRd8aauVX5AO2EA0FLjZwLx/5TlchNTySUsT+inwbOMa0jq+m1PM4jh1x\n",
       "WdeGigWDeuwMeuk9mqVMBJVZe1lpMmxHoDLNhsH3rkPPQCh3YFBP3q2+1s4CbJJD7kzr3WfY6hry\n",
       "06kLkJKnqbTYJuzVTZdUDL8DVREGZtHSL0uTrvybhQE9ZalXYoNMsyDCt5YcggPDw8NVeBNdvCgM\n",
       "+gX54fpPVyE1XEkpMioFvp2GMvEGMD/Vr6zFs7fIzPY8cBvNmTy9R7Nk5LFtZXtZ2W3Dw2+g4V5S\n",
       "56wbrIKdYrkDA2uC3VNK7pBhkIPUWYhZfjp9Fr7ZJN8kKbapA/0865JKoCHPFkQYJIcs/ZI06QpN\n",
       "GpgHsEfuldgg1SyK8K0hp/B18qHz2RWG8DjJoRGBfKer0BpyUopMIt9KQ1mJb/ppZUsCe0DmWltL\n",
       "LGB8jN6jWYLdmMH2spJ5+tan/+5UvA36ku5yBwbIqjRUIVoAIw9L7F/YflzCy9tL0N0U4D50C03A\n",
       "8e3igWMDuz+NS+4vQ6TkkjI+CfA+MJ/6W14MEal+LG0Ls66Q3a7UGTCaAffKVic2CEwzEbE18K1F\n",
       "cmhGTEbvY/f8QHzornQj3+kqtIaclCKTxGdpKJtxr9QHzQR2TH47j1d5GLRH6D1m0bMvogdg7WUR\n",
       "I3sQyJEXII8wNQI3H3GVOzDIzAHj6Z/jp5mcB+u6k3Pxr3nwmyIsP1/9E8C6amR760K8ud6ELyh/\n",
       "rlP86FCsfBjXNfbNv8EtBcv7JhTAnMaeNIUBMvtUP4GBJcy6ksWA+MCbrfurDAasUyA0iIhoJiK2\n",
       "Br415NBSxDEb66/PiauTN8lxkO90FVpDTkqRSeJv5ZZGvqVc6RbYdbLvwOeaHBgkJtN73PETgCE0\n",
       "BtZe1iaEv/RNJfa48Yiki3B9v6vcdfoIP03T8YLs717esTcJXt76VF9ahr85xNRLPZgc4mBgB6rQ\n",
       "5GF6y2KvZGIN6kRIaziEXjI8XIaHRmd1Z4WI7Etyk3m20j3udBVaQ0pKcZHEp2koPWQ28wWlIxHY\n",
       "8aIHssRDaOQehVFDyP/88EmhWlVR7gWDF+wr61NTFcwCN2TOhf0pCoehpd+p6y3VGDnIwSDTrYFB\n",
       "dIV+jFmDOhHSmrOunZx2139FYy3V8Z+uQmrISSkyyXyapLBIP3EU2dleN7KUZxFfUAe3Bc2eAt/j\n",
       "iU8BOM/W+jS/G7L2OuTtVefC+bQUJsOqbruGt5RRNO/lYGAPEZZ2WcX3i72SiTWoESGtZcvqR90l\n",
       "teo/XYXUYEkpihwUd9IKPXMykwUYinZmCuGJfK6FHF5VwUBtyrIwPhi8W8SW0owr35KuiZhkav2n\n",
       "q5AaLClFkYPiTlqhaSh3kTezoGqHsS2USwvqYbpKgJRp8YKBn3QVUsNKSlGdLJOTVmj4P5PN8BTt\n",
       "WGwWirZ4LZOGMPBHySmezj4trR/5TlehNVhSihIGctIKlSNLAnFlO4xN9wBcQg1hKutl0MPg7YCb\n",
       "JevtN12F1mBJKUoYyEkrh+w1JRwcKdphbLIH4B7wwTCx/TJIteAvTRV8p6vQGjQpRchB0Sat0OOo\n",
       "5tsAhwvuVBeWusLYZA8AuS9pWkG/mCGEgT9qUhxqk770xm+6Cq1hJaUIOSi6pBWWhrL8xJoyeKS6\n",
       "sNQVxl5FQomouDgVfunNZdGuf3lPorLSwRP/6Sp8DX3ygZ20IqWhjJHjgPcAAL4rea9iCIMg6Ufi\n",
       "pf90lYHxw8Ba6JfSUPTt0D0Aa8/Loj3hF+IFSutEY+s/XYWrMUYOirPQL46zvh26ByAnlc2DEAZB\n",
       "UkScQfhPV7mMBJfX/HezXgxtEsUQBsGS9NXZ/tNVfNfQp6F401/Ey6MQNAxmXOP/VqO+v/b6zL5I\n",
       "32hbHBgMrvl/q3Gy9rq8zPm3Gv8HEegZAUklQ+YAAAAASUVORK5CYII=\n",
       "\" style=\"display:inline;vertical-align:middle;\" /></a><br>"
      ],
      "text/plain": [
       "qmult_association: forall_{l in Natural, m in NaturalPos, n in Natural} [forall_{A_{1}, ..A_{_a}.., A_{l}, B_{1}, ..B_{_a}.., B_{m}, C_{1}, ..C_{_a}.., C_{n} | (A_{1} . ..A_{_a}.. . A_{l} . B_{1} . ..B_{_a}.. . B_{m} . C_{1} . ..C_{_a}.. . C_{n}) in_c Q*} ((A_{1} . ..A_{_a}.. . A_{l} . B_{1} . ..B_{_a}.. . B_{m} . C_{1} . ..C_{_a}.. . C_{n}) =  \\\\ (A_{1} . ..A_{_a}.. . A_{l} . (B_{1} . ..B_{_a}.. . B_{m}) . C_{1} . ..C_{_a}.. . C_{n}))]"
      ]
     },
     "execution_count": 7,
     "metadata": {},
     "output_type": "execute_result"
    }
   ],
   "source": [
    "qmult_association = Forall(\n",
    "    (l,m,n), Forall(\n",
    "        (A_1_to_l,B_1_to_m,C_1_to_n),\n",
    "        Equals(Qmult(A_1_to_l, B_1_to_m, C_1_to_n),\n",
    "               Qmult(A_1_to_l, Qmult(B_1_to_m), \n",
    "                     C_1_to_n)).with_wrapping_at(2),\n",
    "        condition=InClass(Qmult(A_1_to_l, B_1_to_m,\n",
    "                                C_1_to_n),\n",
    "                          QmultCodomain)),\n",
    "    domains=(Natural, NaturalPos, Natural))"
   ]
  },
  {
   "cell_type": "code",
   "execution_count": 8,
   "metadata": {},
   "outputs": [
    {
     "data": {
      "text/html": [
       "<strong id=\"qmult_disassociation\"><a class=\"ProveItLink\" href=\"proofs/qmult_disassociation/thm_proof.ipynb\">qmult_disassociation</a> (conjecture without proof):<br></strong> <a class=\"ProveItLink\" href=\"../__pv_it/theorems/662c8c57cac58c49246d6c8cc941ffca4f23381c0/theorem_expr.ipynb\"><img src=\"data:image/png;base64,iVBORw0KGgoAAAANSUhEUgAABCEAAAAzBAMAAABbDQ9OAAAAMFBMVEX///+IiIgiIiIQEBB2dnbu\n",
       "7u5UVFTMzMzc3NwyMjK6urpmZmaYmJiqqqpEREQAAACk/Np2AAAAAXRSTlMAQObYZgAAAAlwSFlz\n",
       "AAAOxAAADsQBlSsOGwAADHlJREFUeNrtXX+MVEcd/+7tvt293ffultKiIsKFeLYFKkcjFG2hW3OH\n",
       "VawsLWAIAks1RxDjLcU0UYOcUk2ITe+SipqIsAXa+ofIoqdGaOnV2Cig3EqxSMWwrZEatMedKeWA\n",
       "0nN+vR8z783ce+RhOHjfhL198/0xM+/7eTPfmXnfBSAcWrx4MUQ02klbvLgQlq3pw5du7Jv5xVHd\n",
       "+hUUCA3Dw7WwTE65wZ+uZO+obn5qC/uiR4gIib7AX6YDG0hfdQVEnVLO0QgR4ZLexF9/gP7ZrNba\n",
       "7NbwT5lc8GY+JeVkixEiQqWuEndp5Onf7Wqt7byGfvbd9jVvKGDH8y0MaRPbv5TOy8NFmx2rSqWm\n",
       "RYgIlT7IXy5lbh5WKjnZRCOO3NFRkivw/HpzWTD2FjA+Lo9jnOwtUqmXCxEiwpw0Wvjr59hQ3NGp\n",
       "0nKyiUYXmgj2VBQjEcfX2bcVzejjBWlNHPuw1HZ9JUJEiBQXxmwGkPsXlFRaTjbR6EPXfYrwQODP\n",
       "pH+exE/3TqkSx45LtxsyQxEiQqRJ/I3OdNPVQG5SVbVYcLCpRgd2oGJYEfhbyWfiMv78ukyHZ9fL\n",
       "J5cfRYgIkT4kTAd0yMjCKdUuhZNNNeYCLLlVoSHw59GphCxzPiudaTh2oig1fqoQISI0Sp0X5mTq\n",
       "6d2wMa/QcrKJRurdMeO2qqoR+AfJ5wL1KpRn62Qs+vlkTAKMV+YiRIRGSSGwrKOzQQW60CP5uW6J\n",
       "FmFrHbZGDE3lL/eCdlCiwPgW0V2l6SwYkdQznQtljCZpJxqaIkSEF1gKY3G8TBz47/0dNUiNkTiB\n",
       "suGErdGAgJU4D+tukvmM8i3aSD7vJaN9QVYPY5vDzIB8vTQUISI02tjrhYiFAI1N8seSsXtsjUYE\n",
       "LH3Q3lEWyeSbRBcQ08mzX5LVY7JZBNsi7YT2ToSI0GiBsD6or9JZAepa5Ihg7Cm2BgZW8qIcEYx/\n",
       "+PdjihNWW7MG2WpISOthbP25de+3Zg3POAJmRYgIjf4hDu84SMsg/9UPSD3F2NqArTEJOW9jtxwR\n",
       "jH/oHuS8cej6CF1MYNU2aT2Mre/sjXeqHf56hIjQaK64B4Djik3Y0UOWp1Z2sw/tArlmbKPb1ngS\n",
       "4eSjBQsRogbjpxc2wUUy2eylwSIa7Y8VrHqIsKVqsb99EzQioaxiYbKAIYJg4mQYiAjJ0ugjTXxZ\n",
       "KIOcs2J4CxhnL+RNT9VVzI+p+NJks60LrLFmuL19W9WaDUQNi5/MpVrgDlRwG5Vbdnpt2bGMmMqp\n",
       "WuxVJOyoU+x/9ZUpIvbhix+GgYiQLI3C7YhBseRWfws+7KKn3RpHR1jZlGK19EAJ0rxhdT1wF/Sk\n",
       "AL6lio9zFBGPoj/pWhiICMnS6CPjslhy2LenVsbcGiMgoguNEnotD9neAIhID8CU49YRnHdTKhQR\n",
       "+Ew1UQ0DESFZGn2kn3ftHNiDc/qTl1SbisnxLo3Htu9VVvcM1HemVxXgCd7l6noyRbi5V/3A4sUt\n",
       "RoSOY95QIsuQLI0+ig25IovAQ2VwDfhn8JY2qN60bqyxtcadkyd/JJy1RjiWRh8lzrmKHg9sJLCG\n",
       "3hm8pX9QxifdDBG/9ou2/EiIsCx5I1G7Cs7I0j9/ldoPLf0gpmjEuesC2HVNDBHfgXTRl0ZlJESY\n",
       "lrS7PEUesrZSz/bM93id0FU8rqetzcM1a1sXWX5uoI9LmbPvRKHZlJ9daj1QGqFCzrKrzNH9cXdy\n",
       "9yI5cH0gooUhoqGQKJtHcPBITzk2S1xcTf0UjC26EWGWW4gglsB8ScO9A2JFnb8FGOshIBTvqJKz\n",
       "HdGNdzj3CCkilgj2HQO62RS9CWIt6gp5y66yXbjL4/pRD3eV9AsIK4XrFRFGDoeDJ2h3jWIb/NIp\n",
       "tu7LZ+CVRCFbEBDhKLcQQS0BPDvDM9pdb8XCawH6PCT4YmMm+ucel/Abon8TELFPsG+T1ZRkBfQB\n",
       "dYW8ZVcZXkrtx8MMfm26r2Tc943rddaA7heBHMHh7hovZrl4IYtiAziZqyRg/v6p+8se5Q5EUEsA\n",
       "ue97TsT11uQ0B7RpHhJ8cRd65FOuxz6NH/oNAiKaBPs2WU2JV+HBXmWFgmVXGVpYx4iFr+K4vBd2\n",
       "WtFXYsi9/L92HO27KVZkCQ9sIR4l3TU2/CSHEWGer03Aosdf/WbCmkjpIZqz3EYEsYRisN94VZjL\n",
       "mq90pAf/+CuPOV8ofth7/c7vwxBEpLt5+85w0GxK14TDq9UVJpvUtaHxagX58hoBmGOMiLn2I64g\n",
       "g+eqke9Mn3jRRMQm9E0boN01Sm2vYkSw8zW6Sj6eWL7LRgQ+ROPKbURsIk/ps55BQqaE5vHNvWxO\n",
       "X+IRpgrFd3s3u+JGRKZm2ndNGqgp6a00ZNDWqiuMV9S1oVp+Sr7gcaOx4Igj3DtUgTN4jgyfbt8m\n",
       "f3HbI7dn4en23sfkph1sv9lijRUTEQ14tuim3TVK2RgqM8/XMsSDx6Ey0UIEOUTjym1ENJA+9bR2\n",
       "FOAJMWjPts47x3bm0Jyevghpcc1Liy3CEYDhkopjxFd5RBhF074oTZryLxYydJWFVvEVMsuciLO2\n",
       "VA0O9vf3V+EtdPEK5/+L4s0NnsEzFzXnvOL5rQm5PbEZBTg2Tb5WdrDrfa7AV+bBcRqezdPuGiUt\n",
       "jwdfdr6mb+vvfxN5flG9vR+BD9G4chsR5sK9q5TaITYjB+nzEDfn9Mx5+Fqz2GtSbFE7+veSSyqJ\n",
       "vK8XeESkaqZ9QZo0haZCzAHYI7aKr5Ba5kWctaFZ4yvkS8dLyzUuNyr1jnhzA2fwpAfRIKT4vQUx\n",
       "t0d7HR9tD0l3QJ1sveIPEeZJF4szn6bdNUqwGzPY+VoqT8eCzJ9tRXyI5i63EYHGmsYq1BVAy8Mi\n",
       "6wOPKpfxVvwi1L0CPIha2QwOvlV8+OTh3Z/AJQ+VIVZySWkfA3gPGM//Kc9HltQ+lraEWVPIXn76\n",
       "HGhTAbfKMsdXCMwyEbEsOGuL5dgmcPbD93+X97TLlYEzePDEow/KRcXcnnqcvSN/RY5nz/SHiFNV\n",
       "JyJWxmh3deSGIroX5vkaGYUPAXllB8jdpIdoYrmNiOws0F74Mb6xqTmwvjM1G3/MgV8UYdmF6u8A\n",
       "1ldj21vnvwnEe+urlD/bLn6qFi8fw7ra/vtucUvBsp4xBTAmsptOEYHmBWqfIMIUZk3RMTbe91br\n",
       "gSpDBGsUcBUiIpaJiGXBWRua8dJkKtc23Jzj90JvF2OmwBk8eEujfrZcVsztIXsvKenDz7O3+kME\n",
       "fkXLRkRyPO3ujh8A1JA7rPM1hM3M7SV257Fz6CGaWO56hwrfWMOeMdnffc4goJmLCMxvDaWl+Pda\n",
       "DLXU6lTNgQgrvoVmj7G5zLdKJFahSoTUhiPvRf39ZXhkeEanzm3pf16sMs+22H1n8KA4QXtYMaAI\n",
       "uTvp/xJoyhQE9jx/iCCblNxbdaS7nAOR1c/0n+HUqpJyL0T8xboyvzVXwSg4vGdfWN/q4Bi09Nq6\n",
       "3lJNsUMORGQ7FYioW652N6tQJUJqszfUUxPv/Q8/pgs6wTN4Nr42Zo0CPWLuTmJQ6VuBfdAfIua6\n",
       "EAEuB3qExwXFuYazC2OfB7C7aH67rxN0a9fz7qp9YX9bAuNhVael4S2lFY0HHIiwvIWlXbfnvXyr\n",
       "RGIVKkRIbXpZEZMJtQbP4EEjtnGPXFbM3aljAbEk2aeOX7Uc9beTNahAhBytOvhDxP95Q067+jVp\n",
       "I+3tOK8JeoJk8OCzkwUlqayYuxM/R5skSfYx2SZgfXUwyuAJkbItXogIksHzNpC1hExWzN2pG6Br\n",
       "Pcnjb7Ep7fTVCbo/GyEiGKUmeAYGGWGLKnAGD9nR6ChLZcXcHbrVkJchwmQj+YrvWaMxygS+AnoU\n",
       "vCf6qcIgHzSDB8cJqQty9Ii5O2TOTxRkzjbZSB6vaI/46ltf9GsBV0BvKO+mHcziuCJIBk89Gix2\n",
       "bnFn4chyd/C61WgDLtnHTt0x2VgeRxR7ffWNJv1FiAhGzZK39IRfHQqawZPc/nb7Grxp58rCkeTu\n",
       "gHagfZ9jGWHJsqwdxk7myL7lbX66Fv3q0BXRrr97L8N04Z2Z4Bk8fmSt3B2/C8t4KZt3ZfpIqKEY\n",
       "ISJM+h5/GTyDxxcizLMFv4jogrrdJTHTR0J7ol8vDJXWd/IPnH3pM4PHj6x1tmDRCMk+z0Ds0yBk\n",
       "+shoDkSICJNi/BpEq11DbfOVe5EsRogIl4RfSn/82mmZv0yfExA2Iqbd4P/jSkPvqG4++98UtMUL\n",
       "Q0PEDf8/rpwZ1a1fav+PK/8DNcUZl/+KMcoAAAAASUVORK5CYII=\n",
       "\" style=\"display:inline;vertical-align:middle;\" /></a><br>"
      ],
      "text/plain": [
       "qmult_disassociation: forall_{l in Natural, m in NaturalPos, n in Natural} [forall_{A_{1}, ..A_{_a}.., A_{l}, B_{1}, ..B_{_a}.., B_{m}, C_{1}, ..C_{_a}.., C_{n} | (A_{1} . ..A_{_a}.. . A_{l} . B_{1} . ..B_{_a}.. . B_{m} . C_{1} . ..C_{_a}.. . C_{n}) in_c Q*} ((A_{1} . ..A_{_a}.. . A_{l} . (B_{1} . ..B_{_a}.. . B_{m}) . C_{1} . ..C_{_a}.. . C_{n}) =  \\\\ (A_{1} . ..A_{_a}.. . A_{l} . B_{1} . ..B_{_a}.. . B_{m} . C_{1} . ..C_{_a}.. . C_{n}))]"
      ]
     },
     "execution_count": 8,
     "metadata": {},
     "output_type": "execute_result"
    }
   ],
   "source": [
    "qmult_disassociation = Forall(\n",
    "    (l,m,n), Forall(\n",
    "        (A_1_to_l,B_1_to_m,C_1_to_n),\n",
    "        Equals(Qmult(A_1_to_l, Qmult(B_1_to_m), C_1_to_n),\n",
    "               Qmult(A_1_to_l, B_1_to_m, C_1_to_n)\n",
    "              ).with_wrapping_at(2),\n",
    "        condition=InClass(Qmult(A_1_to_l, B_1_to_m,\n",
    "                                      C_1_to_n),\n",
    "                          QmultCodomain)),\n",
    "    domains=(Natural, NaturalPos, Natural))"
   ]
  },
  {
   "cell_type": "markdown",
   "metadata": {},
   "source": [
    "### Complex number commutivity and associativity"
   ]
  },
  {
   "cell_type": "code",
   "execution_count": 9,
   "metadata": {},
   "outputs": [
    {
     "data": {
      "text/html": [
       "<strong id=\"qmult_pulling_scalar_out_front\"><a class=\"ProveItLink\" href=\"proofs/qmult_pulling_scalar_out_front/thm_proof.ipynb\">qmult_pulling_scalar_out_front</a> (conjecture without proof):<br></strong> <a class=\"ProveItLink\" href=\"../__pv_it/theorems/ff59d5872e4c2f5ec13c0d249195fc0a58a6c1cc0/theorem_expr.ipynb\"><img src=\"data:image/png;base64,iVBORw0KGgoAAAANSUhEUgAAAyEAAAAzBAMAAAByNhrNAAAAMFBMVEX///+IiIgiIiIQEBB2dnbu\n",
       "7u5UVFTMzMzc3NwyMjK6urpmZmaYmJiqqqpEREQAAACk/Np2AAAAAXRSTlMAQObYZgAAAAlwSFlz\n",
       "AAAOxAAADsQBlSsOGwAACatJREFUeNrtXH+MVMUd/97uvnu7b39wgFoiipejVyuQeJoqtBSzJJ61\n",
       "RuQRPI2xwqotMcbIXi5pok28NVBTk5a7PzzTBFsvUus/as96AQFb1wTTAE1ZmtNTIXrVogYjoO2p\n",
       "IHCdn+/NzHszu8stYenuJLf73nxnvm/e9/Nmvt/5vs8tQNnS09MzDXGzVFaIGa2eHreCtldOfTMN\n",
       "cd2W++tjGNYh+n106jRAZmpqooI+C6YlrtfSWqyTgTzEZ8U/8EeqcRH5qXwaP8uX0+tPtzcRIXfe\n",
       "Lp9fSu02aO71+Blfz2nTirY2EcFlIC8/qFnylThm7vU0+15zNTtY9dG64kZ9e0F8qbZRpNhEBJVv\n",
       "y6d30K/3zYikp/jRZvrVcpULY4u07UVxQhtEpa9pIoJuvEs+f5UtIF8beyXXF9jRKRonfYDMnNT2\n",
       "kcSpEa3azU1EAKJZ+ZwCFNv4lbHXjSvZWudM0uceP91Ol665LL5Gq/ZPhSYicJm8hjjUoz/acsoY\n",
       "L7VdVqJHMRoXrMSntvbhl8VPafUmRpqIwHeU5YhOmZH0SeOiBe8zJ5y4ey6ydvwLsjbldQDK4hv0\n",
       "7mmyiYitrE4JYmmnZP/X1OsF6GeL3dohC7mH2OfGiyji3QTUDlJysr/5vIlIq7L2R0p0DsS/RPbZ\n",
       "res1AgM5sNbjmMwFZMUIw1XTIyLD/k/9cD5oIhLNKefD+HPezq2nAXpn6WLZT3euR/Z6Bx1uBwvN\n",
       "pihZbSxdDy5mpV8/nH2FhkekvxiCiIW21V8YHuZVADOQRx8l8aqDYoAI2b2M63p4Ylq26Iezttjw\n",
       "iKwsKH6kRBYtgPkGRFBEFOmi93sSkpN8q5HV9eDivX+bOcLVhvoRNmUbGpEPlfMMzjo9z9IkGkSc\n",
       "IsmyWPjJPwGr0Vkce+SYq+vBxXt+CEu4wcNLpr3hEblODYvQQxrH3v5owbPvWrRHsY6zA1Q2YNN9\n",
       "DWl89gB8SpIuRUh3g7YHFcdXtQP2KC8ZorJjIiIEk4Nmk2dI1FzUIlJeR30VS33H5rSDdfS4C+9N\n",
       "PeHZN4KXmoX8ANZMDUH66PEs2brcOZcEZ9Zf1+0QwiilBxe3tpF9+3cNOZ0TIiJE5W/NiCSx40sU\n",
       "tIiU11Fn25HARuLyysJUbO1ng3XmHtF8MpuHeHu58XBEfo5XvAkzIjb2PJv0q1Z5HfVV0oFkyd6K\n",
       "7bu2pVpEBiDyQh6SxXJzliOCs8SxUhlHMYS+VujF5XXUV0kFEooZfwHY+PRLxs3lxYGqMj3+CC03\n",
       "6x9oUr4UEUnhEKKc6/47+hrUi8vrqK/SEkigW2d9hh8yCU9LsdbVHR3fK4dItKNjftYQa5XVUV8l\n",
       "Nhmo+vXZnpYFk/T7EiLbyuCHTZ7MQ8Y1IOLpCG9kVTV4lr5+W9vTrUiN/sU22d7VVemQEHkM4ix/\n",
       "Jjj/hTfB7JxvctTiMYCHvKk9b+ucNhERogMbcHHoBVf7CeuLRru7gw2kWnqV1LDS08d3sUmZV5cU\n",
       "Vql7F8q+4FidITJfQiTjxoZp/oyV3gcPw1sxN+kKJj8EN6EbyTLpmvvgvayICNWBloPwNz4rPa//\n",
       "TAkywXduci1F5Dalp7DmnDIo8+scPlpwfgT7kBe88HxBJN2GnfKoP6W34e1e20hMNPl+7NijeSbt\n",
       "boOUhAjVAfDcVaH5hz4+ofBL/nTgnZtSSxHZIfcUCr9ImDKxboiNFsZIdDX2rYnzZNWCwdeZXVOv\n",
       "9s4FuAQLxt99VEIkkUKm6Z/5MyK1xtGEyEtZFKIDrd1PhoY2Cb4ADqBH3g489kotNVy73FN0EE/q\n",
       "lYl1K9i92IMkN+hc5/mfWJCscO4YdEHPDivQw0TyZ6ktxWiBxoHjsbv+IJo89g66nVnuXCJN/6ag\n",
       "5rWwDmRA2B7qY5M8cr4ndDxKLRkA5bL5PQV8+UXuKaPqAItpSRpxmThHWoIEB5FOdTZ4dAYGHSrX\n",
       "yohsQM8hyZ/9chbMcB2ytxyHkXmiyeO4z79gN5GmfuKqiGwgz/JzMDtsMPmWLnicqF0aOp6lIYg4\n",
       "E7xnYNFCF4k/pVEm1r0I9F5m4DkzKfqR4A4xnfVZcRXz6KA2DDpUvpERyeT5q/+7YQukfn/kyGcI\n",
       "kVsTksk/Rn8/gK1Eaj+cVxHJkJrR69e7sEkNTpPX3zDJNsXYA6QhrkTbtFZGJJ3jPdXW5CKfaJSJ\n",
       "qh5h9zIjy9T59j+hmgQz6Dbzk4p5dLVh0AF5Ialm42n+bDGM2naWzhFnv2RyIM/ZMipFnt3fFCwQ\n",
       "1hMYyNvPuIGNQfwriJLDdejvDXi4U25Aa2VE7AneU2lNLkL4VWHKRFUHgI629WRP6Q5pUHaAcoIZ\n",
       "dF6cWDGPrkYMOiXT6OXPboX4MVgwTrd6e1BgHzB5J2pOpBtfEdJYPiLPkxUi4oKVRdr4B146TuG0\n",
       "DjpePQwtaDYhI3pyr/bAwTHFs9OeuLWnjF2EpDV9Zb5YVDWTb1v//O9fvRKySoily2PFVcGjqxWD\n",
       "jmU+ZURaL4a+kpODC4qwCV3PuSJPX4pIJv/FBUCkYP34yDYIiJPXgvXa7zAi9jLoK9hL8McyeDkH\n",
       "dx4v7QJca+1cjldzZMS+EpUv8Wr3T0RFRNC6RHsSk7PG/CIk9vaV+WJR1SdstHD7/uXK5v8K1dUN\n",
       "eqy4Knh0tWLQsTxb8B0iu451y5HDgTSJPxNVaeAdIkJE8Ar8aIfoKzr9q/m1rflHRES8UA86QxaO\n",
       "YTCJiSocaJHR2lf+Zw7skhrcq+rLclYcVMGjqxWDju1YA4ikTYkrc9orgMib3hk/6iwJtZ3i1Xht\n",
       "BC4ZFhBJFgwmj9xlRISoivn30/vh6aLUYJ9yr5hBR1lx1fDozoBBF16iE6GIpKAmiNiz/wLg3z8/\n",
       "Wl7wj3uXloSr8drbYKwkIALdQuvAzc7xrR0iJqr2GMbcr/TBDDrKiquGR1czBt1AW/iqVRtEpl8K\n",
       "Z5Iwri5DHFVSAZivtZ0FoZXz6JoMutqVZFcQEcqKq4ZHVzMGHc00NAYivbvCcxrKFhEz6Cgrrhoe\n",
       "3Rkw6MJLAzGx7ZzmZbP8voSkvigrrhoeXa0YdKkG+m+FjC4yVYItzKCjrDgtj458yDy6WjHoIrnG\n",
       "QSTiauID5b/enHbGitPz6OiHxKOrFYOukf7rzVlx0LhQeOXyQItqeHTTZNB9BA3k2bXlCfl0b5WI\n",
       "yDy66THoeEKtwRHpK8gOp6DIq+HRTZNBFy01EcEbPfk94blk0K2DJiK4KL9Uc+4YdOnBqhFZZP5J\n",
       "s0Xn5y+eZYp1MhD2a049PfPwL56tqgSR/9NfPDtcH8Owhui394tn/wPeQWpn0SvacAAAAABJRU5E\n",
       "rkJggg==\n",
       "\" style=\"display:inline;vertical-align:middle;\" /></a><br>"
      ],
      "text/plain": [
       "qmult_pulling_scalar_out_front: forall_{l, n in Natural} [forall_{b in Complex} [forall_{A_{1}, ..A_{_a}.., A_{l}, C_{1}, ..C_{_a}.., C_{n} | (A_{1} . ..A_{_a}.. . A_{l} . C_{1} . ..C_{_a}.. . C_{n}) in_c Q*} ((A_{1} . ..A_{_a}.. . A_{l} . b . C_{1} . ..C_{_a}.. . C_{n}) =  \\\\ (b . A_{1} . ..A_{_a}.. . A_{l} . C_{1} . ..C_{_a}.. . C_{n}))]]"
      ]
     },
     "execution_count": 9,
     "metadata": {},
     "output_type": "execute_result"
    }
   ],
   "source": [
    "qmult_pulling_scalar_out_front = Forall(\n",
    "    (l,n), Forall(\n",
    "        b, Forall(\n",
    "            (A_1_to_l, C_1_to_n),\n",
    "            Equals(Qmult(A_1_to_l, b, C_1_to_n),\n",
    "                   Qmult(b, A_1_to_l, C_1_to_n)\n",
    "              ).with_wrapping_at(2),\n",
    "            condition=InClass(Qmult(A_1_to_l, C_1_to_n),\n",
    "                              QmultCodomain)),\n",
    "        domain=Complex),\n",
    "    domain=Natural)"
   ]
  },
  {
   "cell_type": "code",
   "execution_count": 10,
   "metadata": {},
   "outputs": [
    {
     "data": {
      "text/html": [
       "<strong id=\"qmult_pulling_scalars_out_front\"><a class=\"ProveItLink\" href=\"proofs/qmult_pulling_scalars_out_front/thm_proof.ipynb\">qmult_pulling_scalars_out_front</a> (conjecture without proof):<br></strong> <a class=\"ProveItLink\" href=\"../__pv_it/theorems/69dc08261ed225326ea4cf7972e261beac8d9ed20/theorem_expr.ipynb\"><img src=\"data:image/png;base64,iVBORw0KGgoAAAANSUhEUgAAA50AAAAzBAMAAADm/HF6AAAAMFBMVEX///+IiIgiIiIQEBB2dnbu\n",
       "7u5UVFTMzMzc3NwyMjK6urpmZmaYmJiqqqpEREQAAACk/Np2AAAAAXRSTlMAQObYZgAAAAlwSFlz\n",
       "AAAOxAAADsQBlSsOGwAACwRJREFUeNrtXH1sHEcVf3f2es+3d+dzC21RP2I5qoRIo7pVG0Jo0AXF\n",
       "hQLBayUOQqlih4qoEhW5kAqpoDaHEir6B4n/IAVBQ08GUZAScqGu0yYKvUIqlFKRC7gqxVVzbUiJ\n",
       "Wrg4UDdO48TMx37MzO7M7dqX1oZ9kvd29719szu/nZn33v3OAMFE6+szYQbS19cHkVx2IfCEwSg+\n",
       "PV2aSUM3T1+Yj/3TUpwnOJ6in5np6SrdBMVzhg/4sfn5vt83X270AXtEpqr2JsLTOzxz/HHhA76f\n",
       "hFST7ojwrC+/4w9jFfLxSJ1OH7xs95PMSlUjEZ71h8M5/niUfjyuvqp13NpZf6vciNP1vrmxvF1u\n",
       "y6ivlwNTjvCs+7D8dKvRgZeeVl91wsYTfqKwYnSxW0wYvUlqyapbpYFr+vYIz3rye/7QoEPA2KRe\n",
       "Rkcm7b2LCitXp72BQDImpaErq06V6r0gEZ5yuY0/bKIfn+3Jqy5q3m7P0skJxUro6lrxyEp2Sadv\n",
       "Tn271OO+QoSnWmICHr+ii2p2QUV11Xdi9tBr7lCg7up6sDtdOvB49WPyZbsU4VnnWQf442E63cKJ\n",
       "suqqUnrK7uEN10qRd3WJf5NZVTbmBfWd8oxlIsJTLVuFPqZjYy9szalSior+jrXbv0uTropUp+OR\n",
       "elZ5E4L6KHmlOonwr5t2NsJTLfcIx4vp+IOdqCPvliWZBiTeBViLY9wTJpyVGRIdxNEbE7eWW+2o\n",
       "f4fzOdOf5bf7RoSnWpYIx8vIovr2oU1V0Ntla+MNh0YuockPo/gMaO/IDLHOirLIPKnB5it8DW21\n",
       "PWfIb/dYIcJTJfqUH569AG0dTH1NzC6yAGjFM3Ikg0helBkSHe1Rkq6+LBt6jprKz+T321+O8FSu\n",
       "XOLit5tOtxDvkuNpoL+FVjdNgTEhMyS63sNgp5Y5GZ62+o9/aC/Z863v+glNAxGeKsmIKeHrONwp\n",
       "04KeDM89QOqB/Xj/PVhdlhkSXekVHMDiOKbZlOFpq1+4A5aivT8p7rcjwlMlTWKn4FxhG+64SQdP\n",
       "7Tye6AbtDSTwO3CmABgouA/e9hqSHarTzM+T0AiB3u2GOo6RZUnVid4OwCvpfsV8Ms7iSW7+1SB4\n",
       "Zki2Uw6NZ8AW5oz0iyn+EMD66V2QPnM+5wy7RbhPSvZGO3PehNemf0BT1XU4xfQYLgJHRzMg7bcb\n",
       "DzKhq2tELS11S5bUiD4qv9/UeyyexOWPguBp4CHaWgiNZ8AW5k76KX45FWfy0XSH+nHNQIaTAVMR\n",
       "PFvkjVweEgpv+lkWz2/i2aIaBE8dr7s7ws+3AVuYM3JCLO6wxXA1ntp4Noih3hUcz50Q35u3vxLw\n",
       "b/QCiyf+Jqa5Emj93IU+V4XHM2ALc0aOeUpwp90o5a4LWdW1G4pBDGNshLr98f0qj7+A2BfqDKN3\n",
       "WTxTOHALFg+9iD4Hw+MZsIU5Iws8S8r6BrfQWg57xSmV8hIX397a2XlbMDybOjsX5mYQ3wZrYc5I\n",
       "j+e740S5oQ38eEvYK1LKqOUTHJ4HKPp6fTyNPGTMGeB5wH6//C/WQjm01rK/yvwF9KaYNZ81L/ML\n",
       "s/+pxvrr5PB8GBIDVhC3dpyz+8ZwMbaEwRPZPQzwgE9ow5+7YeSaLIun1QJoH/e9ndXOehX72so1\n",
       "Pp151XB3t3NAW0oVZf4cb77OHFcGs5rds4iz2TTfEuaFHJ4Zs9lexNPu6qhfVSumB7rhKbaecAo+\n",
       "5+UyYnHObf76W7D+Xngtx+Jpt9Dsz8PosWOl5GKAk179UIUt2VA810r92d58nbmukjn6jGjvM3AM\n",
       "PfeH/1fwTGedYMVwoTqEXvP0cwbkWDyP43CoKe+XJFkO0NQK3VlIcXjaLTxxi9/dJLfYg/kvaDiN\n",
       "efSY8JQuCXgelPlzvPk5Y13tos9IyHupczB6dfV9m28bLfx8C4PPoQ0pERPQSAE4hiOA9IO/zHJ4\n",
       "tqZQZ21t/6o3BbfOXYdnwZeRaZ6r95EW0Jr1qG/w3mpF7wk83B70JmBowOkVAc8OmT/bm68z1tUq\n",
       "+oyg4zlpCpKfclDs8QYfhQ8YsQQEj4dgFc4rSYmYVJNJAZhE6Ol89984PJtfQQ99hXmtx6N1TsPu\n",
       "0t8vCPEQbQFi8IxvZGJYs3yLfwb+Ff6Q4Emoy77+bG++zlhXY1YWksHjeTk7Phd4JqBYqOz5MtCu\n",
       "k8qkdwmP5zb0RtMSMSn7kwLwHoqnEauyeCbwla/DUdghTEn4HNxLvoSA1N2miOc2MmaegCv9bjUf\n",
       "64JH8IVN/tSoT/rgmaxK/DnefJ2xrn5NnxHaMFYT7PrprSeMgnZSUe4R+NNBadeN4VMjucDjmSH3\n",
       "j0vEpJpMCsBHa7VaJZ3XcoMsnvAPwN/ujuhDAp7LKO0+9dNa7V/6t/IinrSF4ZWbTM+bAMbKOycg\n",
       "g4d0E34JKx4LvEimBTzTAxJ/jjdfZ6yrh+gzQlvOcufW+4piCjTosOj8heNPB6ddN4RPDRbhQfy+\n",
       "DJeISTWZFIDvp+MT9mY5PIG8y8shLrjH514sgU5mZxQPuZmh+31ZDK1fec+bgBLBxDnKcG1BvZoy\n",
       "PRYb0d/zAp56VeLP8ebrjHU1BvfTiXmqr/JlzmqrWD3AxdM21ZTLxdmBadcN4lML9Xj7ZJeW08az\n",
       "Wo4WgEndACV5TqXRxfNGdBHCE1mucTboXOK7g1bZYPvTTLnWxXMP6RTxSjxFX8TlSXS0DOBq8Fis\n",
       "RneRh7FXR4V4yPEHtjG43hhnjJp11W7XRn7z9+89zfVPm9h3+P3YpxggPH86MO26QXxqSF/0wTM2\n",
       "oC+HDUW0IQXgBJ5Zh35odx+L57c/RLoJWW4p6EvxZjk5h3OUHfhRtLtqB8CDp7EEtGd3e658cgDW\n",
       "na8cAdhSgXXD7abXt3ZoBVrbjlebWDxPM/7ANgbXG7jOGDXr6jR9RoAvHV/BF5XiYsCC+dSfVkHE\n",
       "rq3BadcN4lNDbNIHz9YyXVns5WVNrVYU633MkcmuaXQP/6RZ+2LtLW+9r96VNJ2sKC1a8g+xeP6c\n",
       "9SfKQb45T/EDu8KhOHlG/eb/XANHOL04ZHBY8Wj7YXmEw/KnA9OuG8WnhpZxL564RPwS3nlJUb91\n",
       "Z+wrD7OWdC8urd+KeIpXojm8AmlTaRGH64oMnkZBAdiNFSWexFWzq9h88hKHQEr8+cljmANi9kuX\n",
       "RZcjDSFo1zPgU/sL5cfweOISMXmochA8gbcke9ePBcGTvAllj48VBUipLdbCaIXBE7oZa1FWFLjm\n",
       "RCGuXlDEF2IZcTH5UUFbVsJ8ZjjSEIJ23TA+9c6sX3xbR+rywcZygcbnrMXCSpulG7Nefs5lY2AM\n",
       "Qn9OwnxmONJhaNcRn/r9kie9eKL0c19FNkhcjnQY2nXD+NS06hXhiVbOI76n9wnPuhthVMZlegme\n",
       "Lkc6DO16Bnxqf4l+j2QvlAP+NJh4SaxmQltRu0PaqS5HOgztulF86lT0e0FLMnllDzmCcoWWcqbk\n",
       "9LyCIy2jXVuWHO26QXxq69eqEZ4omZFEVQLbaQj18f7DzKQn5UjLadfEkqddN4hPHf3e3skFV0lY\n",
       "+8f46NfhUyuZslwhNjDtGmbNp34TIjzrSCufeznFcFXP8xzpwLRrmC2f2i4eR3gqsFnKH1t8aiXz\n",
       "meNIB6Zdw6z51E2VCM+68hH+MAifOjxHOozI+dQbIcKzrggcxgB86vAc6TAi51M7lMyweD4/s/9n\n",
       "fNP8/H/G/wx7QaM50kHF+n+pWl9vlW6C4vn/9f+MM8X5cZ/aLut+7f9n/F9ROP3obLvrXgAAAABJ\n",
       "RU5ErkJggg==\n",
       "\" style=\"display:inline;vertical-align:middle;\" /></a><br>"
      ],
      "text/plain": [
       "qmult_pulling_scalars_out_front: forall_{j, l, n in Natural} [forall_{b_{1}, ..b_{_a}.., b_{j} in Complex} [forall_{A_{1}, ..A_{_a}.., A_{l}, C_{1}, ..C_{_a}.., C_{n} | (A_{1} . ..A_{_a}.. . A_{l} . C_{1} . ..C_{_a}.. . C_{n}) in_c Q*} ((A_{1} . ..A_{_a}.. . A_{l} . b_{1} . ..b_{_a}.. . b_{j} . C_{1} . ..C_{_a}.. . C_{n}) =  \\\\ (b_{1} . ..b_{_a}.. . b_{j} . A_{1} . ..A_{_a}.. . A_{l} . C_{1} . ..C_{_a}.. . C_{n}))]]"
      ]
     },
     "execution_count": 10,
     "metadata": {},
     "output_type": "execute_result"
    }
   ],
   "source": [
    "qmult_pulling_scalars_out_front = Forall(\n",
    "    (j,l,n), Forall(\n",
    "        b_1_to_j, Forall(\n",
    "            (A_1_to_l, C_1_to_n),\n",
    "            Equals(Qmult(A_1_to_l, b_1_to_j, C_1_to_n),\n",
    "                   Qmult(b_1_to_j, A_1_to_l, C_1_to_n)\n",
    "              ).with_wrapping_at(2),\n",
    "            condition=InClass(Qmult(A_1_to_l, C_1_to_n),\n",
    "                              QmultCodomain)),\n",
    "        domain=Complex),\n",
    "    domain=Natural)"
   ]
  },
  {
   "cell_type": "code",
   "execution_count": 11,
   "metadata": {},
   "outputs": [
    {
     "data": {
      "text/html": [
       "<strong id=\"qmult_scalar_association\"><a class=\"ProveItLink\" href=\"proofs/qmult_scalar_association/thm_proof.ipynb\">qmult_scalar_association</a> (conjecture without proof):<br></strong> <a class=\"ProveItLink\" href=\"../__pv_it/theorems/41b2a5f5484c75f42e5b44d569e9e0b9d174e60b0/theorem_expr.ipynb\"><img src=\"data:image/png;base64,iVBORw0KGgoAAAANSUhEUgAAAtoAAAAzBAMAAABbFLJjAAAAMFBMVEX///+IiIgiIiIQEBB2dnbu\n",
       "7u5UVFTMzMzc3NwyMjK6urpmZmaYmJiqqqpEREQAAACk/Np2AAAAAXRSTlMAQObYZgAAAAlwSFlz\n",
       "AAAOxAAADsQBlSsOGwAACcdJREFUeNrlnHuMG8Udx39ee2/9PiPEo2pLThelVDzEEUGgraiMBGkB\n",
       "hfgUjioCcg6g/oFQc2lQqyKVM1AhIlXEfzQFkSOY9I8UCYqTHOFxIAwkEhBEDAqIUCCmEIoIOJeW\n",
       "g4TkYuY3s6+Z3dnHBQzcjuTHzmO9+5mZ3/zmt18ZIGwaGhqCGSR1aKgEEU3s3mcE7qzO4Zn8otLp\n",
       "1Lt8kz21b5vyXvaZ73RaAPs7R8Of4rSZ/bLS/Vu/8Vsf1H8ypnO2he+vzGLaPUX+uPL1/4TfKXN9\n",
       "kaH9HH8Ya4ZpvNq7OFmlHw/4nWZrVGgnv+CPdwEsmy+vLpTd733y1GSwHlQaEaGt8IZExdG4zqM+\n",
       "V5breJ98D6MNa/1MybkRof08f5jBUTbtUZ8ry6zwNslbD7LPHX5XsS4itM/hD+PklZ6SV+fLfr14\n",
       "xOvcib/oZirut4d4pBIJ2jGB7IMIqc8DoL0sWZjjaZFvjekzIdXwuYxUPRK0lTJ/PI63vvyHUohc\n",
       "WQb2eGKs547ofVT2M9xTkaA9KpiCMfIaXqselNVnZRo7eBhGix7nTje1z3R7TD3Bzf2YfuK6nTwQ\n",
       "CdrXCcdnoidRggNwddXdy8AyUFgf1WENGbSSmjj0k58DXDlp275I038iQXuBcPxz8noC1M+049wB\n",
       "YZlp8/dNrGiBrCbAKRNbjxLSpDO0Sb/r2FmJAG3tiAvtdZCelg1HWqanQYDePvnAVQsA/yMjnBib\n",
       "9IDfhQw3IkA7IRro+8jrCGSmZAxp2eDTuiEBZUBOO0Nec9kdsSoedhvi5QjQzouD7j3y+hKWNGQM\n",
       "aVl9N10EG2xrLqP9ENvZD5sUPS+kLwK04yKGhYAh2H0mQ/UQTvOq/oWVqaXL8OvtCOmgtGYSO3J/\n",
       "BbBnMgXfSTZpp00/3g5HO3QbRjtPHdBGV2gPi48uNpDXVehSGyP2dLyouv5FL6N+4rLOWsjtP1SU\n",
       "1FT3HyrBu52/UQ9eqfhdSPZLO+0n8eOecLRDt2G0Mzi8U5Wu0B4VB51i+N+eThtn7X3cu9PIrv02\n",
       "/+X6gJ32H3ButMLRDt2G0dZwwbirO5Zkj7hpzNYDMNQGgtNWJ0mHPuV7IephO+0U6aFEMxzt0G10\n",
       "u43xyUXdob3TEVX6SA+BXHJYbmtj9o24Z02SltcCDbnP7bSzuACHXCVDt9Fpv0w+q92hPcdhsJYF\n",
       "aOUbZBIdjgAygqOcTzK/v/+csD5J2DY67Xh//9xid2gvdnBI+pO8d1XIX3khQJ2fcbQfA9jr9Fu8\n",
       "abu28aedGdFHg+pep2TfP6DhrMjqskyPif7MTMQrmx79Bvq9n6N9ByTRWmmO7ZIHbdpGW++yzHB5\n",
       "sX3Lb7XTJo3uoAdLXGP16nnmDGUfL0nrskzbVcauO52rsAK+K2kuRztfStQsD+n347XYAvM+rtSD\n",
       "LnquSZu1ud7l3EaedmK7pn5YyX3A7W72wqVsnrsusYlpnrZaltZlmWk0Syt/9zH59ivYSVaEE77z\n",
       "tHOFlI1QrnwxPGpN5SqXa9Jmbc5zObeRN0E6LzEIsI2j/SpbJNOrXG3AxrN52tQ/d61rZBInJ/MY\n",
       "ftlFbugL2HVS65gsyTeSeEsC1WdthHLPZqCYmNg8QXcwGOYyc+07d2yjHTix5PTlWV4Ml6RrbrYZ\n",
       "KEo7laWUYqmy23UV/s7TVqR1jUziTv6I/myVxpXSvzQvaLFzE4U5yXCkQu/Ekn6rJCxCN3jwaUYo\n",
       "9+d/Form2CaI7LkWbWwTmxdzKPuMPOpuvfmmGCdJ7KY4Chk3PzAGT/C0V0vrGpn/BpXeRh478QL7\n",
       "2J7jsPZU+/HjcPDs6pxAep60cyIu4GnfjuOkvpsRyo1c/JZFexi4XIs2tskXstWk4JpgHvRUaJgM\n",
       "tm8XaSfpT6dHYm5h4Y1wPCTHbLT/JatLM1c3sEaa+nW9SHLKbredu5tdeB9FTwWP6ZrPt/eQnoLp\n",
       "eZzdeZinnScXhtGvhxjXTKxl0t4NXK5FG9vEa5nyzfOE0BvJw88X2+12848bHTHA/1L7dNHCKUg6\n",
       "XMjxi1aU9B0fo/2GrC7NzJNpfgtk17fbn0IvGQo5zuLsEUOOVL2zFLwVPEYy61jqnIB6npRoXNkT\n",
       "ITHiOsYI5UbUYtX0t8eBy+Ujrr2leBME2piX3QFwE/UxBm3esi3iWkDVmNhPxJDAmhEYsNG+RVaX\n",
       "ZsapJdHolOs5MtRcyt3nqLiXoeodDGtMB6Bt1rHUOQH1PNm6Z1TKin7dxEYxPFywh7kcuSZtpURa\n",
       "Ew5XgFo03jDvzqX6ljZ5WcUKi1i0cfJPO1riJOpt6oEHc5W06pq1jUwMbx1n7LI2f3Dn43y3i3eN\n",
       "nYN96aXgMa/QrGOpc4Lqec4VCnLTLrS1AUYoWzNDM2oRw1xirkVb21SkHFY1tfNhVQXfmjSPeH1J\n",
       "ajKuWL9vxEl7SxmuOtQUW2YWgPrMfdmijTaxFVZd0CtWjBNsY5Gmu+gv/ObVC/lNpyKurajeSVe9\n",
       "FTwmuj5H4CSwnmdMnLIHXWgTmJTQhrv1hwWE5gU0zCXkCs9ukIN1GezbDQi63a45du6+LZmLbdBO\n",
       "F+11xURcVHRI1MvbH4N21v9Ptlx7alvEtXVcd2i9FDwmY7OOqc4JrOdZKBT0TLrQxk4UCeXou5jL\n",
       "0V75iybkzNmmf+uTxUlE2o6WoFxj37k/7kV7XhMSlqle+f5RjkZWNBhj+k16KXiMZCl5ssYUCazn\n",
       "eVG0YC0nbdfo1+vSOAkfp+e/xd6pB6GN/ZR1nCNxsp22QRPrOtKFFRZHcU+auBiiekdpeit4TP/C\n",
       "VPKYDxQC63leE0rWFJy0XaNfjWC0xWVhHAKN7SBbMp/tt1exm3onXuMUPMMu7GiepeQx1DnB9Tyj\n",
       "Qkkk1DuwRULbpuBRXCYhzbOUPIY6J7ie5x9C0bUwq2iv3Oaa/Yjwe6jeSTW9FTxGspQ8RsXgeh7R\n",
       "kswu1aVWdn9mJw7c9/RwipeCx0iWkkdX54TQ8whEs7NLUZyXbDpEp2Sh7s/ZFTzUCAjaHEyWkkdX\n",
       "5wh6HmrcJXqeTcJtl2cVbaUkeewmPDhF9U66T1DwYBJUPJgsJQ9T54h6Hlpdouf5qWDQKrOKdnqR\n",
       "RLS1k/dY6LOpUw2/KcCGkip5BHWOv54nKdT4EGbXKindEPK7ERou2hGCNlXyPBWGNgY6Mg3XiMus\n",
       "p62dzx9/xCIv1M766HKMWIaozgmg5xGkYPFmRGjDD/hDfCyitkLMjUYwdQ6fhEj8byEqtIV/FaDq\n",
       "nb8Gbk1jGS+E/c1shbc81WOlfcbM/g1G2d71f4P55Fgafy1KHv0fM9ShwRb+G8wp4c/w/fk3mHzX\n",
       "p5O4bOoP2sx/g/kKaxlFs+m6FjQAAAAASUVORK5CYII=\n",
       "\" style=\"display:inline;vertical-align:middle;\" /></a><br>"
      ],
      "text/plain": [
       "qmult_scalar_association: forall_{j in NaturalPos, l in Natural} [forall_{b_{1}, ..b_{_a}.., b_{j} in Complex} [forall_{A_{1}, ..A_{_a}.., A_{l} | (A_{1} . ..A_{_a}.. . A_{l}) in_c Q*} ((b_{1} . ..b_{_a}.. . b_{j} . A_{1} . ..A_{_a}.. . A_{l}) =  \\\\ ((b_{1} * ..b_{_a}.. * b_{j}) . A_{1} . ..A_{_a}.. . A_{l}))]]"
      ]
     },
     "execution_count": 11,
     "metadata": {},
     "output_type": "execute_result"
    }
   ],
   "source": [
    "qmult_scalar_association = Forall(\n",
    "    (j,l), Forall(\n",
    "        b_1_to_j, Forall(\n",
    "            A_1_to_l,\n",
    "            Equals(Qmult(b_1_to_j, A_1_to_l),\n",
    "                   Qmult(Mult(b_1_to_j), A_1_to_l)\n",
    "              ).with_wrapping_at(2),\n",
    "            condition=InClass(Qmult(A_1_to_l),\n",
    "                              QmultCodomain)),\n",
    "        domain=Complex),\n",
    "    domains=(NaturalPos, Natural))"
   ]
  },
  {
   "cell_type": "markdown",
   "metadata": {},
   "source": [
    "### Qmult Distributivity"
   ]
  },
  {
   "cell_type": "code",
   "execution_count": 12,
   "metadata": {},
   "outputs": [
    {
     "data": {
      "text/html": [
       "<strong id=\"qmult_distribution_over_add\"><a class=\"ProveItLink\" href=\"proofs/qmult_distribution_over_add/thm_proof.ipynb\">qmult_distribution_over_add</a> (conjecture without proof):<br></strong> <a class=\"ProveItLink\" href=\"../__pv_it/theorems/d92160f5ebed89e1973057558174932fb68435200/theorem_expr.ipynb\"><img src=\"data:image/png;base64,iVBORw0KGgoAAAANSUhEUgAABEcAAABaCAMAAABt/8jqAAAAQlBMVEX///++vr7Ozs49PT1GRkZa\n",
       "Wlrf39+IiIgiIiIQEBB2dnbu7u5UVFTMzMzc3NwyMjK6urpmZmaYmJiqqqpEREQAAAAwoubaAAAA\n",
       "AXRSTlMAQObYZgAAAAlwSFlzAAAOxAAADsQBlSsOGwAAEtZJREFUeNrtXYu2q6iy9Zy+p5GHCKL/\n",
       "/6s3PlAwYJXxEZahxuhe2QlYgDApioJZFFn+nOgmt0F6wmueGyEZqbpBxA83Qa0AGBG5myTZdR8P\n",
       "JLJc17Ach2uKOMKal6gftjYAmGjqPGTTlKZ9eg3Zum/2Y7URSeKI/O3OaOj2rFbRbD6nKi15eg1p\n",
       "aEndZBxJb5VNAedHzfJ4Tdbuf3znVaEaZhxJTwSwajFdNkcSXpM+fmUj2owjf0CqDvAMldkcyQbJ\n",
       "V2toMo6kL3UNNU82R1KW9vEw35YZR5IXA5kjnll5b0t99b3IP6Knoc+3mEnGkeTNkRJI0DleWOJa\n",
       "mPLYbjCcnZhvNowif0NPyOx/mkFCM478PayPt47xTOj62LsEs1ttTdt1rRCibqvLmiGkIwBjnPSJ\n",
       "mkJ+tpYIZ0fCpRG0sztnUjs/lPr5NrPJOJK2CMj74bwxXvsvtzvWN4DsjjbaTmW9DkhCOt6CRQkl\n",
       "fAC48qNjArHsmKBU1ZKqal5I0r+SiutigSL9/CjBrs44krTwDto2dHaF/UM2WhxqNzD7ok1ONpPq\n",
       "gjOv2j2oAzlCOhpfHW9tjLb+pObx7A1sUJAxCS/7YkrNWrFUgXSP76ZvM0jGkbSkARfXdIlL9lap\n",
       "TLIj5gGcnTqFrKa/wTWY2e1gCOQI6vDjeOv5n+oT1+ZGdl8PacuXeDMws2ivut6dpXRNuGPZhRuy\n",
       "fc4+m+pYxpGUpQU3dZc3qNyuLclrHvzcwQdnd7TZwxQ1lZfhSFBH7dotbClv9YFHYiu7q0e5EDEP\n",
       "o/kr+ionY5w5J/SqSENWD4pQ62jGkaSXNSX4Buc+rt05Qffz4OeXCcDZHW2j64KLsiouw5GgDveM\n",
       "mHSaiu83xDazO3pkyFlCl7YYvdNSeC8x0pDNcyJL2pXNlXEksWUNA/u/Cc6aZjgn/bGdCmdftFVd\n",
       "SwgRdYNHhd04EtbhnnNm3aH92c3sjp460BfdEJ9pm95L5T5al450j9nJIavOknEkKRFQEJprNJfG\n",
       "sydeEPPxrSSI7Is2Mr4fEztOeAaOrHTwsUcYx1orj20WbWZ39NRBDFo6KNVbS8+3B9cPiS2pVjs2\n",
       "GUeSEgq+DrUgDV0wh7RaazHt9fDd15N42WNFm7XZKKTRMetqGydfSoc/KFCL5fB1FIxMPcNtqmXB\n",
       "wffXep191QPnT9TaEm0Q7asQHG2YHbymz7hXZxUlkHEkJZGwe8SxR5YeycdhNuauCCn3qfWywzhi\n",
       "7ZZhKyWg7Qx7xNOxgCh1DYole7W/1qvsK7Ce9fA2aNTPiNeGICOOI7JmD+nbtW85ZxxJSQwYPeLi\n",
       "yGIjT/22pG9mOXpV42SPdBwzl6DxpmVzAY6sdbyvN9ygD/ZBrd+yR9Y1oYfyrtOyqF6Q0IR/jvlH\n",
       "yvoxPVv7/qWMI2m9HNBTKpfNgPnqLRvGZSPbd+KIn73RzWtuFwVphDdPz9om18W8RL4CR3wdiljr\n",
       "pHUbwmZi/INar7KPtbZ2hKOHhCpTlV1HNS9UMPJVxvZr1IM2fhvfm5ZxJC1jEXTDOZOd3Z2U1o5o\n",
       "OxkYUdy6xOYPzqf37I3qfZt9tBvxesq8F1rTyfavOQpHIP0hHPF1MD45MzTxjLdhuJoJRmK1Dul/\n",
       "zz7Veup4rp6IZ7TPRTRkMq4WNQ/qqpUfQZJxJCWhiD2IZYNAleMKvuuG0Wb6DywwsudzY8sBsuXT\n",
       "Orvkg5+hX0548SmTtkLUXSeGA3SmKHD2yKb+UI6VDsmtitLrGFy3QmhVhMsRUOZrdbPbWvN3PVy0\n",
       "6s3qkEo1WkQ8piqy6SaqB3VV7jtaM46kJB3iiqJ6MY4jcWC7/SOr7t57T/vJpvSnVbS2U+LQisCa\n",
       "Sm7W63itrXt1pUexdhUXP1AtjKAUuHO7ibxF+bC+KjOOpCkSc2JXO+dc9BUjilb9RnBfmsJDDrS2\n",
       "U87p+XPfGHG6Tf51vNYvAwyhZ3hT/b0GnWgqGWAa0uUvdNbSs7oyjiQkpkP0QHe2a+X5I0p20+zc\n",
       "tKudjCu04dqlHkoit92Ux2tdqmELWOLcoUaUXSkCbVL+BElZ7XmTM44kJKRDeOK448ULRjdIVnf6\n",
       "85hx1Y+Cfn9SitUBtSu04dbigvQ9YvO87Bm1JmwYGgfP5fLuJzhThbe3mHEkIWEdZiZ0Q5/krV1W\n",
       "fnWANPJv6DG/0X21t/GbcSQpiMdYxM+/R/iPD7DfIE31J72MIwlJizoPyjuVB2vCQs1PVJN5i/CM\n",
       "IwlJjTtXzjJLeMJCfsRcJN6mQMaRpHAEd4EIrfJwzebIl6XJOJKqlEgcabJBcm+HJPibzMivvJvG\n",
       "C4zPOJIUjiA3LmuSB/eN/VGErzMKiaS/0nd9npKMIymZxNjIA17KPLxvkx10X7w0v9Iq7ziy7N+Y\n",
       "JCJoLI6kVq7LpUNHMMk6c4XfZybywJVpEchpfqZV1BuOLEcm07hmxeJIauW6AUfQs5nMrtb7Rgwz\n",
       "yImM/9COfOUdKu1xpLLRTzKNe1b+/d+/87o0pXJdLv/3z3/zqM3yN+Tff/5x/vWf/xULnylLY3E3\n",
       "+0cSK1dK9kiWLKnZI0VjL9ZLpYQTjiRWrsRwROSw1iynCt9zQjGAI8V4uT5NhO5r2a9Jq1xp4YjY\n",
       "XLLf6lD6rvdK/kIlbxp5O9z3IRzRg9cuFR7jBUfey7WniH9uS2MPjohNcCXugw7eCwpmJ99djSny\n",
       "JDXflR13uIRwZKAntRylfAt52a044pVrKNuOkPCttKrtNGMaFxkQT0yE7jmicYAFJ96BI832FYPe\n",
       "a6qPxQhB2a2y/oqwdrhV9bq9pKCOAI5x0qdqCvlRfw3nJr/gvNLiCI4MUz6b1tvMA96q1P0PhI4K\n",
       "UAfJVnn2pnHi0NxyDWXbMWNvph3HIfJMVSSxGoOOWtRDMInxOCI3L4TmngVhukM4AmV3lI3c3oXo\n",
       "LtyUDul4s8YJHa5gMqz8JJ4jlvsnYnbQLRbEkf6i3ZX5WhHRtqq/Pm5g+NAcgSPhPHvTODiyKpeq\n",
       "KNq63E4rtFN7cA0RTGymG34NBltRifE4Um7Os/79olocig+Gsi/KLCWMihxbPuPe1qCO1c2xvC2n\n",
       "TqU/qHk8d6N/AEcM5Qdw5DVYG3/UaT0Bvnn9oOcFzWZTRvLsTePGxfvlIkWNtru20w6nMjkSfIOJ\n",
       "pR30FWLw4xKjcQS4ysj7lUl2xD4AszvXTk8Jm8gxoTPukQ/r8Pt+Pf9TfXCGfyM3/QWDpNZHcISZ\n",
       "yWqbuMvIPGhMZZQk/XhnWuvy9Z+a8dlnXgvlcRLqzTQRHJnLNUID/rKp7bSvaa1pNJJQJJxY7LlW\n",
       "GJcYjSPbO1jKrfericmBsBQwu6NM2DkpclbtDBwJ66ib8Hq22m9BbOWufyHqXSFtuDCOSOunGLnL\n",
       "nCt9TfX6zqiAPbJiXovmccjK4mkiOCId/4mqrJNCgltLS9q4x4OP6xXwYW7iZZVF3aaAnkH1mThC\n",
       "tmluPP4qPTPHfbaqgbI7ykbXBRdRopsTcCSsgwkX9RfM5rsNsc3c7DcugtcHcMQeapy4y5yFaX8V\n",
       "vx4ITVY4smZei+ZxyMqiaWI44h621Iwx0T+lUiWEI3PaLY+H7MsOP8xJ7PZo28cN4hlu4uM4AhAb\n",
       "uNOm6kvXfbzLBmdflFVdS17maXzSPoU/3NNhtxbdC1lYd2SDdjO3o8aj/34WvJiOH8CRZeCSocXa\n",
       "Qcw43jmz87CHVT7zWjSPQ1a2kSaCI95KZd6ogIb+krbR5rUoUYZVbx6PlwmHepiT2Cy00cJyV3PE\n",
       "M9zE5lUiww7gSAX4O9yz63poh1E733//kZsdUjZxexvaRJSdxx8+6Zi3Ft2wh3LVOvtqXW61rfkJ\n",
       "giuOA2IAR0busop5dsNrXpqe7fV/n3ktmschK9tIA+HIZMqMQ20ctpy9/W/44KZVfQGpslEO4+9y\n",
       "aAI+8b0ODws8K5DYDPst4490sE9IVWwW6D2xGUoUxhFUqLsAvId0eQpptdZivNm7ImTvOHCzg8rs\n",
       "lvbgl/WVjbM3pfjZO5LD0+H2GKdATvfmu2u9yr3umL+AI0VbnoAjE3fZst5vxhHgv/1hcKyZ10J5\n",
       "loQjWRnw3DiO6MFRwnU38L+Pw7bqLYWq97vM/xu+8tK+FkZ9iMN0GmX4ndQd6wPLpql0eFjgWaHE\n",
       "wzKrGjdwtGbEUkVFCxRILF542h6wR6jA4ggfUdqu+ffOp6vsgDJrtkxbKe/KTrBHVjrmOYa6FoU/\n",
       "Ve2r9VvumJoHS4PytFbb96FN3GXS+iVUWY/B6f5D+sGxZl4L5VkSjmRlwHO31jXe6+ZRd8P6q3KM\n",
       "uKRFE8syPSw0htff8bJQwbQbBQqViDQqOBka1AsE3Ka1cZclvUL6GY542de7c2tlc7HEaFVdgSO+\n",
       "DjVPQq4uJ+qD7a/1Krez0+g/6cH+ESQhoMLdq8hZ78eI29kGm8fsey4GRypC9fBY8+6VWH/F++0k\n",
       "1dtNMvj7/LDAswLfjYi5/n6rQMESmeBVCCXqBTKoeVriLwXnyPadOOJnX+3OvSmbXBevt1cXV+GI\n",
       "r2PcWhzK5sxGcjZVpiMIu2q9yr3sNK7VPFmoOA9HoDfMz064yx6xpUd9hfu92ZH4lId8iiNgHL7d\n",
       "npQ2YTs1qD+iuCUyev8QyL7enVsrK2o62f41x+EIpD+AI56OaWtxsA7cdNM+tbEnmfbV2svt7DS+\n",
       "qfl1B8k5ONKcnvATHHmY1CgcodCsqIZuwNuuG4a06T+wwNAudfRDKLu/O+crK0TddWI4QGeKAmmP\n",
       "bOoP5HjTMdtC/rXXXLdCLJdy7qn1W+55p/FdzXOFYUDBZN6JZOcBzI4bh0n3ooFgh/Yt/d25D5Sd\n",
       "EYfmt8QUKSa3Dz+XBys97DSCah4kDWbfMPPXJIwjDNM64HCMHSg7NKLWu3P7lZ1xTs/TUE8F0c1V\n",
       "OOLsNEJqHiQVZj7LvJzJisDw+xrEpk4bakDJ6u7ACn+9O3epMpRMW4vb14AfK4iz0/gzt42jTN7M\n",
       "E56w6A7hKG8Qp3f5nV2ef3t83XSPX/s7lEGYfqi98MSMIwkJ6VpMIkTryDtNcPlde7+RT1KTBo4g\n",
       "+qFvPGccSUhMhzgKwrpMpZflWqGIfuhvCmQcSariiMBrnXEky8VSIlzTteenyziSkHDMTaqiy/08\n",
       "y8U4gpjPqOenyziS1LoUUfOMI1kSwBHuHffNOJLW+0MEAOHWNXL193ki/9hzE2kuVPUQ65rVGjzj\n",
       "SEoiEIHxDNM6lmvlVj6se+UiXqqntphtLlSzIfysjb8nkHEkJSGIACCCiB+x163dx4e1TYJ1jJbq\n",
       "Tl6qNFrsShovTLMhDvwyP/Y640haNcdMBCCOWGqqW/mwNkiwjtFS3clLlUaLXUvjhWg2xHTW+mHV\n",
       "GUeSEkTHNbAPxR4EuZMPK06CdYyWagcv1Qnnd1JosatpvGA6L44451X6brqMI0lJCVe9gn0odPV3\n",
       "NESv5cOKk2Ado6XawUt1wnniFFrschovkM4LcU6Pr0KdMo4kJQzhaAWNTktNdSsfVpQE6xgt1R5e\n",
       "quM4kkKLXU/jBdJ5IY6CmtURnIwjSYlCnJAqIR+Kva/sVj6sGAnWMVqqXbxUx3EkgRa7gcYLpPNC\n",
       "HOESK6jJOJKWUNiUhWgngvPO1XxYURKsY7RUaF6qc3Dkiy1mKb1uoPECCX0QoY60KzKOJCwaXpE3\n",
       "UCCavffwTj6sKAnWMVqqXbxUx3Hkey02U3rdQOMFXuwE3tz5GqIi40jaCxsGNw+werWUMnfyYUVJ\n",
       "sI7RUiF5qc7i2fpai0UrfAWNF0TnJWGT6M3zk3Hk7y1ssDxYd/JhRUmwjtFS7eKlOm6PfLHFzmkv\n",
       "VHNB20AIHqyaFhlHkhaCCA8B+oGlprqRDytOgnWMlgrNS3WSf+RbLbZQet1A4wU9UZTwCGUZRxIX\n",
       "eMdGAVBj6Rhu5MOKk2Ado6XaxUt1HEe+1mILpdcNNF4QnRe8rBFvLrqMI6kJ4r6zcjuuYL2/dwMf\n",
       "1gYJFpKW6gReKpBn641oa40j32oxh9LrBhov4Npr0I//UimKjCOJCyIoGXjTEzXVfXxY2yRYSFqq\n",
       "47xUMM/WGoHf4tC+1mIt2dtenzcXQOcFO6oD8SUZRxL0kIAGCd2GGhvZdCsfFlbDceUxXqoT4uK/\n",
       "1WIzpdfJqkPNBdB5KXj0UV1kHElf6FGDBDqRdQkf1i04sslLdcI5vW+12Ezpda7qYHMBdF4twhzh\n",
       "GUf+gBjEvts21Fhqqlv5sFAazlB+JS/Vl1rMUnqdrDrUXECzKYR3pCkyjvwFEXA8Id1sIktNxZ9M\n",
       "AXcJL9VzW8w2F9Bs1HzUOzOOpCjw/TVkO1raUlPJ51LSXsRL9dQWs80FNJuAow6C1w6kiSODiOJn\n",
       "pQKviCgEK7JkOXtJDR/mKdfBS+U4XNOrDG8GUT/8PhU82bZN7vZZTp6/4DsX+duwHEdr7o1/dsGr\n",
       "chtkOXUCP3Tj7f8D+RBiIKUUBAoAAAAASUVORK5CYII=\n",
       "\" style=\"display:inline;vertical-align:middle;\" /></a><br>"
      ],
      "text/plain": [
       "qmult_distribution_over_add: forall_{i in NaturalPos, m in Natural, n in Natural} [forall_{A_{1}, ..A_{_a}.., A_{m}, B_{1}, ..B_{_a}.., B_{i}, C_{1}, ..C_{_a}.., C_{n}} (((A_{1} . ..A_{_a}.. . A_{m} . (B_{1} + ..B_{_a}.. + B_{i}) . C_{1} . ..C_{_a}.. . C_{n}) in_c Q*) =>  \\\\ ((A_{1} . ..A_{_a}.. . A_{m} . (B_{1} + ..B_{_a}.. + B_{i}) . C_{1} . ..C_{_a}.. . C_{n}) =  \\\\ ((A_{1} . ..A_{_a}.. . A_{m} . B_{1} . C_{1} . ..C_{_a}.. . C_{n}) + ..(A_{1} . ..A_{_a}.. . A_{m} . B_{k} . C_{1} . ..C_{_a}.. . C_{n}).. + (A_{1} . ..A_{_a}.. . A_{m} . B_{i} . C_{1} . ..C_{_a}.. . C_{n}))))]"
      ]
     },
     "execution_count": 12,
     "metadata": {},
     "output_type": "execute_result"
    }
   ],
   "source": [
    "qmult_distribution_over_add = Forall(\n",
    "    (i, m, n), Forall(\n",
    "        (A_1_to_m, B_1_to_i, C_1_to_n), \n",
    "        Implies(\n",
    "            InClass(Qmult(A_1_to_m, VecAdd(B_1_to_i), C_1_to_n),\n",
    "                          QmultCodomain),\n",
    "            Equals(Qmult(A_1_to_m, VecAdd(B_1_to_i), C_1_to_n),\n",
    "                   VecAdd(ExprRange(\n",
    "                       k, Qmult(A_1_to_m, IndexedVar(B, k), \n",
    "                                C_1_to_n),\n",
    "                       one, i))).with_wrap_after_operator())\n",
    "        .with_wrap_after_operator()),\n",
    "    domains=(NaturalPos, Natural, Natural))"
   ]
  },
  {
   "cell_type": "code",
   "execution_count": 13,
   "metadata": {},
   "outputs": [
    {
     "data": {
      "text/html": [
       "<strong id=\"qmult_distribution_over_summation\"><a class=\"ProveItLink\" href=\"proofs/qmult_distribution_over_summation/thm_proof.ipynb\">qmult_distribution_over_summation</a> (conjecture without proof):<br></strong> <a class=\"ProveItLink\" href=\"../__pv_it/theorems/4f4a46851262d9aa8a5b165db0d29a28deeb76230/theorem_expr.ipynb\"><img src=\"data:image/png;base64,iVBORw0KGgoAAAANSUhEUgAABDgAAABzCAMAAABKHkIBAAAAUVBMVEX///+Dg4O+vr6urq5RUVGT\n",
       "k5M9PT1GRkbOzs6/v79aWlrf39+IiIgiIiIQEBB2dnbu7u5UVFTMzMzc3NwyMjK6urpmZmaYmJiq\n",
       "qqpEREQAAAAs4OyMAAAAAXRSTlMAQObYZgAAAAlwSFlzAAAOxAAADsQBlSsOGwAAHTdJREFUeNrt\n",
       "nQuXrCBygE2y2WSzPEVe/v8fGlFRQBTEHrVn4Jw7p7svBQrUR1G8mqaGVwUh9778bFD9EGQt//yK\n",
       "MgVGbsiIdORR+a8JbT8G+itfruOJ5kj3vvw0OGhlwemAblHJ9qLmX5BnMBSFk3a+ExxYDoH/ym4q\n",
       "oZ6y2/tSwfFnwdFI/Zg8DpuFUU1JXwoO9lsbmkq0tNb9/xbdaWJWcLwXHI0Gj8mj2PBVVnDcGghK\n",
       "OBE6vPelguMvg4NdVIkL8jwmWsFxb6CJsYdynW2qv9WnVcHxYnA0Qj8mT3UFx+MvlvDbQLz3pYLj\n",
       "b4PjQZOD9aqC49nQdakXJztfKjj+ODgajR+T17CC49GgUgaHZxRSffPT/UZwsB9O9D5wSPSYfNuD\n",
       "Co5HDQ6YiOCtv9osxmLXJmdT4jM4uh7BOSDU37XG6YcCUD+RKgcPgCM2YLhLXqMKjkdfC5x4720h\n",
       "dNcqKyU+g4P3Dt4Ix6gH31bQAuNJn5Uxz4lG8EpqEfmVRxFwEKAppbJhRWODfWkoci1H1Nv5OCbO\n",
       "y0dNZVXB8Vygqb7bq41N1ahrq/WS4naognu/hQn4ZeWMaYvGhk5mG6sT1xLcyi8rMbfgAAiQkVmw\n",
       "ZPn+gbTIMji5Bm0rB3SYJtQS0eBz8jumcFfB8Vggfcpp4U3WbmZuBb1ULEnxxcfRBa4Y+mW1gRTX\n",
       "oz7bjT4XjfyIvBQ74CDaLtEWBbV1KA1ydBVMD0agsROZwJrKU/K7fV5bwfFUkMn2i+jeF9OPMhzW\n",
       "3qluOCm+gIP1vjqQ7xqr8MWwQ+EPVxNsNr6NEBzd8gMvcEYeSquw/oA2jiivf8F6eWZjJ3LRAbIr\n",
       "bx0YJKcIcAXHU0En269XO0FVMTB0GeU9Z4b4Oqsie/3F5Yzt0Ip3wQ9XE3RVXEbBgdcybs+Pj46l\n",
       "W7/+uMOECOLQoNkYE7zub2t36r/NqeweVXA8NlJJtt+jSRVhuozyTe8Z4s50LP0+h+jSoimCdNI6\n",
       "MaO3owCIC6OVmLzd+uWDgzl1TE6bhwlp4tUfi214RWtnM7nCGd2Td4ssw4urA3OlguPGkQpONhy1\n",
       "82XoS9S4abjY2s4Qd8BB0JVR0cNhgd5sFZB+0DFS3qSi8nbfsg8OfAm4KWnvv7vI+7jrhOapf7Yj\n",
       "L6AT+rRxBILGU8FxW6Cp1V++LRkYlmJkSfESrRxxdwFY28NvLWe2MA+qWZ1IqHWngidv01YwBg54\n",
       "ibcpaU93uyh5Vr1B4ljef8VOJdtmV8HxTEDJouYuWrwvDdBCCDq7HsjpYzo88RxwbOZkvyeopZzR\n",
       "VILjNCQxWkOKzjdZ5Y1yt7aJxsCBHDcWOV1TofRG8Z0qaZdVejraN7URCB1UKelQolsLJvMrOO7r\n",
       "CGH6tfcsjnleY0qiBeCkOeCJ54FjGCN/aR2srsxZF8ZVGHwozvMF58t7kEdxi2MtzfZ0TQXSh4pP\n",
       "dHQ8sVShFs0JcLAOp2o7mKOv4LivI9Tl4JhrHCLfTj4zUHHEs8CBP2pxHCSmius6PvjQy2vM9vfo\n",
       "ExRjb65KwOHIO08dHao4qy/w+ZraSIe+FveFYTRGL1jTDhCQMCHv+ThgxzIeDlRwPBFE2rPJXLe3\n",
       "+4VLS/0icPjiUsihJ6QNkLTdBwcPMNd2eTO0O/GCH7EAQEx1bA6ILE08iiO0NPD51CvTVc4HKNmC\n",
       "y1rXYSOt8mSdXLFn8YWzKjZzu+b9TE0F0lNFiXjzaEAMmy3seyRIw2NTLmxvVoXnlL70PWQVHHeF\n",
       "Lr0Iw+sSnC/MWgp6Lhe/ORLrt9p+iIlLbpTALC8DdBcc2yNqaeaMTjye1zT52MExZP4SeiFxjmPq\n",
       "seBwnjI1aydny30uuKMS2/60yotG2WgCxMBhp7zVzI2TNeVLzxXFojboYk/FcAdE0qD1xil5Ookq\n",
       "OJ4IOROcnifcfiG678cORJkPONKPLbuXth+24oyM427TjQq8C45u87Aoc74gHk9HrPzxTCrBryQe\n",
       "6VhX32jDZ0yIxVCwWUPLxUiJrT/NkRZ5QtYBHGRRcAyRNaWCh++aU1OBtK2oJQPfXT4gV/PN6zPO\n",
       "paBxPyffmdajWYVPfO9oBcddIWd3umeJH5jv6tJcKQXGKd8s05URcGgZ9mJtPwxvSE7VRePpiEkw\n",
       "tj14IJROHG/7UPcUedjuFZzKGaxEItkFo8wmlNhWf6mmTEU5S89l2II41sGS8/HmgglF24Ou5U4L\n",
       "ZLkNmFVw3B9YztZWgfa+fBIcptsG2jxS08bBEZi6bGjAYOh+QYa/dCeeO2doWzpG1kwuTlwFQsMr\n",
       "uBa8FHsFlzU0ikSyDXO5J+snwWEqarAKbSXl7FJmUpsLiWTLttf3XNzlDD2DpYLjpqByVlR5fYLc\n",
       "N1EuNUfWz52Z1L5qLODg3XZAYByNZlECS2yJsvGCPbU6Mh7rqPXLFSceuvWgJt6zaxYvuKxte5FI\n",
       "7QxztuT7g+AYKwryZWYWZi7/UxT2MLKjGV474a3zfKsVHDcF0Ge4oIi3dmPPm8pw14vypc3ctB/j\n",
       "nmTU3yVlwRE4RtvRGDZrIoZRQMvhsabM8Q4sDjvrMVbylGdx4uH+LGnnahYHT7zgsvb8RCJZd/IK\n",
       "uENwXKupsaIAlkt7uHY951V56k0LVnDcFHDWhlNv2Y6+ee2mBQdUZAqMcQW66T5ZY/6Mp+MkdNvG\n",
       "k/4wQfuvZbx640k1k+YXJ65SRcQ+exfu7OKQzsru244OVBeV4qq88OZjKzhuCjRrn4l3oOzV02kL\n",
       "wSH6MJBJpaelC5NuE7zzZ47HWDBmcHQZMUlAO+sgbLaJxxKOJw7u3MTb8XZbI/eBQ3TPyvtdXwXH\n",
       "TUFn7f0grgOK9PwJcOxUiQDzZg0yDfbNdluzxsD9o5x4/l5tt80xqgGlZPLmj16IIPFY6vHE9Z3t\n",
       "RABBHgQHUs/KY2+wXcFxV3eVt2kMd3tfHgbHEuxoItYM3d/8xQR6O34no8nhr+FahioqK3Hy/HlD\n",
       "t4EDoGflG+C59ys4bgNH3uJIb4kTat8GjhagaTFUbCGE95s/nRBqOOvpDAnHm7kkHks9ljgmfwcc\n",
       "TxscAyoqOB4IMBMc3j5s2b0NHOujHf4GVOC23JgGHbQWSUz7ZVbikjd/Bhygi2Jc4ivyJ8GBKjie\n",
       "AEemH68De19eBY5EUsFq9sPViaQ08TdcFHUTOBiKlGBL4+f55MqfLPa+r+B4oIHlzqITyHa+fBE4\n",
       "/k64BxwExgYaur0mX8HxBaHPXn7jnUIbPZL2p8Bhpl5lZUF2ELfdj6mj1WK8ROSC/LnAKzieAUc2\n",
       "81m796WGvxnIznZXrJS8IH9WKf0NEW8sqH//379/W93/zz//typADV8c/v3Pfzrf/vP/qsXxNouj\n",
       "hhpeqZTvtzgqOMwC59QI+0Z3RHV/nAu3eT9Ivg+MQXJRKSs4vgAcgl6N8FFw1AmX0+Ge+ZY2nxyY\n",
       "XlTKCo73g0Olmt2L14bVcCM4llOTc55IXlPKCo7Xg4Ok6rhFt65+quB4LTjsWe4ZgV9SqwqOLwAH\n",
       "TdkTHb716Ss43gsOlq8sVF9SygqOt4OjTW2oV/29y60rON4Ljum0+EzGqCtKWcHxdnB0KYMD3mtw\n",
       "VHC8GRwnTA4NryhlBcfLwaFSBkd7s8FRwfFmcDQa5ysWuKCUFRwvB0eX6hfo3QfYzODo+uWOdIT6\n",
       "23Zq/FBH/cOJ3geOE2dMavRBcKytUMlXgeN9D3YLONLdwnYtFrs0O5uUnsHB3bNcCMeoB19bIeBH\n",
       "VvJy8AA4TrguVLmXYwuO9cK67iUd/b/6cWPH+x7sCjj+OzcqTfXjEYOsu2Q5JqXtUAUHByBevOPn\n",
       "gSDwdHCQGk9B1ujaC2wTWHkUAQcBmlIqG1bkotqXhvnn4fdduVK67fI/+uk8kIlc+iW1O2vG+x7s\n",
       "DouDJC9S2I4vVX8FHGnpxcfRBe4X+mVEx3Q89bixx6R3V6+g2CSwrOTcggOg8SIbhWGJAX0gfeIA\n",
       "c9q3xUq58XHYd8XqXeB434PdAQ6ZjLld5SHoFa9QWnoBB+t9fSBfNlZBio+XKdmNPpe3Hm4SWO6T\n",
       "2VxHre1mEVFQWYfSIL/b4D3+HDjkXIpd8zJwvO7B7gCHTnocUTjHgRnuy8/tyJBeZ1Vk/83WH7dl\n",
       "i4LvlxNsNr6NEBzd8gMv8FAeSqsTtd+jz4GjmXzlCL8NHK97sBvAQdKXzIadBgNDn1PcdeZIO9Ox\n",
       "9Isdog2ey9bejovhhxJ0VVxGwYHXMm7Pj4+OpdsTta9Lu5gYOMSYliavA8f2wU49I/lCcMi0LRlO\n",
       "qgjT5xTPO+VIO+AgqP/WQ8kkRZCOamePO+4oAOLKaCWSgN2E6oODOf0BOV2ACekz18KC0rFKDByM\n",
       "2j9TlCP03QqO4MFMsz1R6IeRATUO9sybOQ4iE+EejIEFCO49PgsOmry/LZx94+aOs+Kha5a0uwCs\n",
       "7WHzrcFaS7NVQPqODH/K3UNeAnNjs/uWfXDgS4ZaSvpE4m3pvEp0AZjp0/HSYKGrby0U5n/APLDO\n",
       "s7ICobNx1vlG/8E8k+2UfbdRl+nY57z1MIeRqeRLcfFx2jh6FH02OFCfrkEVmgzmgqOpJZ/ebu9K\n",
       "Z4FjMyf7PYFZY2k+9Hva8mO0jpQdU7AmsKqNgjFwwMBOO5chTFh5Z7qN0gm4KDgU2HogW0C15mOj\n",
       "MV3tfG9mos3Ehc7GWcERPBhvUT5bDyLb4y5UjgocR3b6K9tkYruOcsHB0v05920SoIUQdPJZtgCc\n",
       "NAdc6UxwNN23LuxVVmfQVILjNCYZtO58uTV+Al7jjYEDOVpHTldUIL1tXSdQ3hVeSRxfct41MlAy\n",
       "IWbIqeF/xDJGOX7CHaGzcZwVTv6DgWFQma8Tu5EXY79VOap8EFlRtMwVL/1ZbB1/LjhUetbCtzjm\n",
       "CVHLG3VOAQLpPHDgT1ocB2mpcj7Fe4zFlTmDY1yEwcfiVEXgcBJYuY7iFsf6Wu3pitpIXwCHKBw0\n",
       "xcGBlV0zQSZnD5DrkyrOgNFvPHROcPi3EEsKOaCTDpHp+DoxISeiOIwTB8f6YFNzyF/rchCZnqm0\n",
       "48jOAUzL8gqMysEh0lanD465yUBUBA5POqzOHXBwH21tlzlBG48Y/OY4icwNj8WJRzVJL+vYphIc\n",
       "fYpi1IcycKwJkMVHGh+qOKsv8PmKCqQddZpdLSdYIHv6QXCwxdMgGtV594APiMNE8ZjFIbk5qcqI\n",
       "AiO+K2QjsqM4cXAwxwVinAnTpdssPQO0Ro5Yfu5bpNJC4tjG2kaMGTq54OjS8ZjrQ+d2qUtfAg5f\n",
       "OqjOHXBsDr2luQPsaERP310nEaFXEo81q2YZus6nZhmjfT5sbSm3HG/5EmdNYFIbtysJZ1Vs3rOL\n",
       "/VRFBdKrOkVaRBoA6IPgWK6TI2S0RLn0bCMxjIW34GBkHKiZ0hvnt3aFbERyEGcHHO49dwJjPG7k\n",
       "aHn6xOYl8lEDUhlpuZEjii43EaN7e3PBkTHZ6fYvzDYCPWfqtUeyeNCXT8R1qvvSYXXugKMLHzB7\n",
       "oisa0a1+z0k0GbbFiUcO8V3GknbKlA6Vp4WX9bagDj6sCcxqMz48iIHDTnkrOzXngyOStldTnrSj\n",
       "TjEbNNl8+k+CI9AF2ekxqEm/CbYuSr/7pcAcf9nMbupdoSniOPg7iOO6nMneuHWu/CQ41shSKCkF\n",
       "V3htWXTWgymbRFpuZDWkpfBOezUtiA+RojsRxD/yBuw5O9UX04bovh8VRJkPeNse191Py6f1p620\n",
       "X51xcAS3CRKzmRdQktXyYhF1RLHHVgn3ZXISj2xTWHyjDZ9KiYjNAKOBtjlsS2z9YOM4CSxdiL3u\n",
       "d7PkXGhK12F+YHFE6sfbuuZLL+o0v84pf2df5tsm//iHC+FIIzfpttj3xnAF3AGaqzbGZGC9mcXe\n",
       "FZoiDt1YexQnbnGEZvUE17nmCN78GT+4kbl5QMSn/ZBzvMk5BqZ2OqUVSWobWY1pLdENvlfhwcKW\n",
       "BLSdjNdWVqfAcrqDo3G/urLIwq/OKDiA33OYZadD+YEc51w8ovMunpNo2upfnnhkDsy5UQK2u+Wm\n",
       "MjgVizO3WbY4YI/TuVxRozpZ0J5Z6gjLplWSFsfY5TirNeWkN8God1KVfqbfMK7DO0JrRMgNKlIJ\n",
       "74FDjM4OIvrRsTWDY9zq2JrB3vJn/MmLPAx2zGZIyhcJs2oLA2C7FrKTVCQyHdCn13Rs1zV9Y1QD\n",
       "OnR7FxaAqZzVVQL9THsMqzMCDt5tBgTGX2AWJST9Tjaiv6dWN3En0eSCLU88cOGaV+jWKpBit9xy\n",
       "nCoxv9xcKctywB8Eh6NOU56n0urKVhknwTFpMrO+BQ6nQa0Oy8l05iaq8WcxOipWTGiNCLDMSHjX\n",
       "4vCpSfYdD+FPcDp9ATUyLmHTiml2JC0wAW/6r6UB2ojDmxJZDg6Qs65vv4NhuOtF8RLFsDq34Agc\n",
       "oy3spqnNoS9P+53miPsWh+ckmrIsT7wN2hXUxC1azXbKLWe/byzO3AGuJ0AcguMDFTWp0/Rup+ZJ\n",
       "aNkq4yQ47HJcbFwRB0ZNTBGiQiojzjlwtADNQ8uIzRj+ZLzzgJuulMX+e0krZn7G0lJ4ia6Vnbdc\n",
       "IrKeRtt4JjhwzuZTcvs9tBYcUJEpMDaMMbvxWkjTnJDK8DvZiNLr7p339ZxEk+KXJx4OVaS/FYDs\n",
       "lXNObyz3veSrZXTfCWDknAkhyuZjj8HR8TZzskbllosiBc+Y676Rp2tenvkPeZzOMILZROwgv+Dj\n",
       "oFmVqsUz4BivRPUCGVV6moHc9ztNf+aIjPldv9MNe04i2DRXEgeJ/px98jTKRW3k2nDvA4c65+3E\n",
       "ZScjHINDAEGKVfZixBJwfE3IBIfOWgMo0TPgiFeWANgd8u06i5aIEsfB4TuJxsFEeeL6ziYUU5v7\n",
       "wCHO7bPBZdvc6innbwZHlwUOUrjd4EfAkeV38n6jfAccnpPIX8J1NnHy+HlD94EDnRu5grLtzRUc\n",
       "7wZHluMKd68Dx6Hfyf/Na7ehgq9OIscncT5xTP4MOMBJ+1NWcPw+cMBMjzdq3waOXGcRUL7bcmMZ\n",
       "rE6imPJnJi5582fAcdLgGHQeVXD8PnDkzdHJ7r3gSCQVLGc/qmlSnPgLzn67CxzgbFMoPBK/guPN\n",
       "4EC5M2sd+FJw/JlwEziix0ZVcPw1cPS54CDwziKq4HgrOAg8vaaHV3B8FTh4XrTcdsC6G81xZdZs\n",
       "yAqD3CBuu1dXy4sEqOD4JRbHf2XbqG1V7j8fCD+Pq38Vg6Op4LjfcM0FR/Fq8jqcqCFrgNSWDVV4\n",
       "BccTAeYZA6iCo4YfBgev4Ph94IDlg40KjhoqOH4dOLoKjhq+GhzKWzdWwXFT0Hkru7oKjhp+GByq\n",
       "bOWorOB4Bhw4L1rxwq4KjhqywFG45NzfG1fBcVOgeXfm6OI7YCs4asgDR+HuWH83fgXHTSHz2CVa\n",
       "fi/rDI6uR3AOCPW3LUT6bGC/J1d274NngKPwPA7hnf9TwXFTAHnHLhUe6+aAg7v9CeEY9eD7Csud\n",
       "k2bX9vPli4MfOZCR31D8Th4Z4BBlJ4D5fVoFx01B5WEe9PoiODaXyQv4dWXlDde6a000JS6wvVpt\n",
       "PIZQo0vFFZEPeESAppTKhpWNSePiax4Z4Ci0an33WwXHba+EPsiXQx9HeB05/bLC9I4kLd3LmSuO\n",
       "6XzRhc21u3ie61be21QE0HiAvMKwaPpsT3zJIwMchQ54/3LSCo67tCGv/Zde7OmCg/V+6yFfNlYR\n",
       "nk4IeqkxpMSR4tPB5DbXqyfIb+WdQ92JtkcgipK32hdf8sgAR1f2iv7lpBUcd4W8i/dIef+6zqrI\n",
       "Xn9zSXnoxAz3F047S4nzxXWMwh8K3Q0R+VWZu+UjL+kgDsTt/2SAAxUVKPG97BUcdwWYu6+eXQbH\n",
       "MIoF31tQ3mVx5orJCzZAUhzDIFd80SMUk18uBcXrs7QFI6IjcZtHGhykdHOsx6oKjrsCzV1zzq+D\n",
       "g6C+/dqC8o4WFMtF7WVpHYtLiiAVXq4dBes90iVGQUQe23vwnAkvcr6CDsVtHmlwtKULR7sKjicC\n",
       "yPNlJ/kioBNoHBxDAcKvLSj30m5ubkwpXxOXFl9MM3t/Yd+R4U9x8/PklzuhrTVzzRA8FLd5pMEh\n",
       "y/zv2C/HCo773qn7IF+OLY7tnOw3jemUZzGY+xImnTx/QLMrvtOJt36uajTjjYaSovOgV3mTpr0f\n",
       "FFpr0rcTTmYBj8xIm0caHLgMxNof8lVw3BZyp1W6T4Cj6b62CNE6VgNaCEEnV28LwFkryhXf0/Mg\n",
       "1/FSNDKoVkF2nrxfp3MejnOBnH+jQLyJ50FOEiAfW6SC45meNO+liqdVfHDgj1ocB4mp4qoCKXDM\n",
       "88h22KVOanIgHu19YZDruAqDj6qlSsDhyDsjJmRbwFpq7fk32ojH8kiDAxb5RkngGanguC3gXO8o\n",
       "u+7jaHjQzbZd3gztTrzgRyyAvfvd3HxUmngcR50K/h+iMnB44lLIoYenDZDUUTpNg1zHOhKjahWB\n",
       "Y5Unq4/UpuQsvsAFbxSIT28kzg5VSJlvVAUjvgqO2wLP24aCSycRXHAwGLYfmjmwjcfzFJ53pnam\n",
       "+zwIvZA4j+dlLREu7airCBy+uORo+I6GxwVOOSEQ5GrmtAiSbnZZ/bONtMqLRtlBp9TWo2Kzs6vc\n",
       "T71RID6/EfPzSIJDle2GooEVVcFx4+AdfZAvx+DoNqZs7p2R8XguOJb+0/wo+JXEozc8LJOXaBmU\n",
       "s4iaEesM2n6IiDMy+hOMXjvTvatv1OZKB13Uws0ukvxB1os8IetoUYBFaSck2bstd95o75U8cftG\n",
       "xM8jCQ5aum60qeB4KIi8xRUIXQZHcNmGccT1g51Ocko+Gk83W2Ubmw48EEonjmNtmI9pEt33I1eU\n",
       "+YAj/TMUux9i4nTQrNYUrTNrs/pG51wbIpYRxjIXYq23NflI1nMkR36dV17vziJCUyp4yOAmnUFE\n",
       "3LzRsoLU5pEEByq8jYlWcDw3VsEf5MsBOIDvPGBDAwNDwwYZ/tKdeA44qO0DMbJ71osTV1EhuPP+\n",
       "6tLaFGPtAG3At6yvaAQ9yHXJTuUMViKRbCNmu899/Y0G86n18kiBoy0zaDfrbys4XjhWwdfAwbvt\n",
       "gMAM4c2qAaaPG5aNF+ypdcCBrLJ31PpgixPnUaeqFD+gZqyf+2iprWeSOn7YSK5LdlnVsY3U2toW\n",
       "8kfAMb4R5NMEy5JHChyFC/i7sOlWcNwYQN5y8sKxigVH4BhtoVFVM9s49K8th8cNa453YHFYf+JY\n",
       "R1OexYm38dkYHat9hrtelK+85CZf49VlFExPCbW/f9/Pdc0ua3NxJJJ1wrK9KadPvBHA0s8jBY4O\n",
       "lSkkruB4MOSZiaBsu4oFB1RkCoxxBbrpWkjjQxvPnUjoto0n/Q7YafvG9ceHWOOBEJPmFyceH6o0\n",
       "5JbNvdLOKCdyzZrkikSyLg59w9GNax4JcBSu36ebtR8VHHcGnLf2pmwYOoNjvEDUC2RS6WnCbtJt\n",
       "gnf+zPEYC3pjp59ETBLQzmoBm23isYTjiYOd/pY9cgXuJ3PtuB2pyBuaspNHAhy0cPXXpkVWcNwZ\n",
       "SB7vcVHtHp5y3gowZT3p9njqVWvWALh/lBNP4h1wDLa+BpSS6YTc0b4PEo+lHk9c/85qNvgG4pkz\n",
       "oo/BQUpdo6yC42EvB/kcX86AYwl2NBFzkbm/Ub4Hjnl8Tcb+2V/DtQxVVFbiRDc13AoOUKZYaDuk\n",
       "rOC4uV6zkABKTI4ccLQATcsMYlOM3m++vz/UcNbTGRKOn2BJPJZ6LHFMqqLfCw5UtIMp1hwrOO4N\n",
       "Ku/NEP4ZcKz1fvgbUIHbcmMadNBaJDHtl1mJS171/F5wgEIPR6w+KzjuDTTLPFcFBfDBm9yUCMB1\n",
       "9DSkNPFqb9wMDlK2DSraZCs47g55x+LT88P/egVkDcfgoEU+JR5N8q3gGMOv1IQWZfW056/dqOCo\n",
       "4RAcHBXZeDAcUcJJO9/49kSO4XeOgXmWNdWermVlalNW1fm7QRzfFAyL9IlspCblrC3tq/lSQw3F\n",
       "BLgY/h/1p315jvat5QAAAABJRU5ErkJggg==\n",
       "\" style=\"display:inline;vertical-align:middle;\" /></a><br>"
      ],
      "text/plain": [
       "qmult_distribution_over_summation: forall_{j in NaturalPos, m in Natural, n in Natural} [forall_{A_{1}, ..A_{_a}.., A_{m}, C_{1}, ..C_{_a}.., C_{n}, f, Q} (((A_{1} . ..A_{_a}.. . A_{m} . [Sum_{b_{1}, ..b_{_a}.., b_{j} | Q(b_{1}, ..b_{_a}.., b_{j})} f(b_{1}, ..b_{_a}.., b_{j})] . C_{1} . ..C_{_a}.. . C_{n}) in_c Q*) =>  \\\\ ((A_{1} . ..A_{_a}.. . A_{m} . [Sum_{b_{1}, ..b_{_a}.., b_{j} | Q(b_{1}, ..b_{_a}.., b_{j})} f(b_{1}, ..b_{_a}.., b_{j})] . C_{1} . ..C_{_a}.. . C_{n}) \\\\  = [Sum_{b_{1}, ..b_{_a}.., b_{j} | Q(b_{1}, ..b_{_a}.., b_{j})} (A_{1} . ..A_{_a}.. . A_{m} . f(b_{1}, ..b_{_a}.., b_{j}) . C_{1} . ..C_{_a}.. . C_{n})]))]"
      ]
     },
     "execution_count": 13,
     "metadata": {},
     "output_type": "execute_result"
    }
   ],
   "source": [
    "qmult_distribution_over_summation = Forall(\n",
    "    (j, m, n), Forall(\n",
    "        (A_1_to_m, C_1_to_n, f, Q),\n",
    "        Implies(InClass(Qmult(A_1_to_m, vec_summation_b1toj_fQ,\n",
    "                              C_1_to_n),\n",
    "                        QmultCodomain),\n",
    "                Equals(Qmult(A_1_to_m, vec_summation_b1toj_fQ,\n",
    "                             C_1_to_n),\n",
    "                       VecSum(b_1_to_j,\n",
    "                              Qmult(A_1_to_m, Function(f, b_1_to_j),\n",
    "                                    C_1_to_n),\n",
    "                              condition=Function(Q, b_1_to_j)))\n",
    "                .with_wrap_before_operator())\n",
    "        .with_wrap_after_operator()),\n",
    "    domains=(NaturalPos, Natural, Natural))"
   ]
  },
  {
   "cell_type": "markdown",
   "metadata": {},
   "source": [
    "### Unary Qmult"
   ]
  },
  {
   "cell_type": "code",
   "execution_count": 14,
   "metadata": {},
   "outputs": [
    {
     "data": {
      "text/html": [
       "<strong id=\"qmult_of_complex\"><a class=\"ProveItLink\" href=\"proofs/qmult_of_complex/thm_proof.ipynb\">qmult_of_complex</a> (conjecture without proof):<br></strong> <a class=\"ProveItLink\" href=\"../__pv_it/theorems/1fa6c3ac6778c3b4b6ad016e5846570fc5ec528f0/theorem_expr.ipynb\"><img src=\"data:image/png;base64,iVBORw0KGgoAAAANSUhEUgAAAHsAAAAVBAMAAACUF4xmAAAAMFBMVEX///+IiIgiIiIQEBB2dnbu\n",
       "7u5UVFTMzMzc3NwyMjK6urpmZmaYmJiqqqpEREQAAACk/Np2AAAAAXRSTlMAQObYZgAAAAlwSFlz\n",
       "AAAOxAAADsQBlSsOGwAAAbxJREFUOMuFlL9Lw0AUx79tWpqa9IeiTg4SBUEQijg5VREHpRChq7X+\n",
       "Bx1EwalWcO4iOKhUFxEcOgiCdmjBguLSwaGDQwR/QSG4uPvukvTnkRwkeXzf+9zde3l3gNvIY2SG\n",
       "fX1aTuh1H74G1iwrUBK4L+gxmPEmxl/hitPsuGfGiZAOFt1xHAO79JENIa5UPfAXIKyTsyHEJXjg\n",
       "kg6VlgiLU7/2wsPEzmvaghi/tfGl0dwgTiICWeAO+BTjpxZeaCgGxxWNjyzzMREq1fYIcrb7b7S2\n",
       "D2xzzsKnIcUHVmciIpNAVHd8oXGzFPzKRz7skEWOK3+C3LmI0C8QiTuVe6DODGwAjz24ZAhwLmIo\n",
       "Qa9ijfkn4j6qIzb3aVI75ozjW0kH78qdi3zzSFHzYDaUyDCl2ews8c7xGM1a6l+di1DZHg5pOsUI\n",
       "5m6YXq93Ylat3MsIDPw4LkKJkxmllCXqu2fTNBt7V52YS6vyK8Njg23DRPidIxsjY4e3F5UuaIv+\n",
       "nEfXFdrtV0IyqrPTs55HyhbVsgdecQy5UtPlb2alz1vtm+XHHe87qGnT7I3KuON8uy5DrmLZuuum\n",
       "RPgT8A8pV29u9c/R7gAAAABJRU5ErkJggg==\n",
       "\" style=\"display:inline;vertical-align:middle;\" /></a><br>"
      ],
      "text/plain": [
       "qmult_of_complex: forall_{c in Complex} ([c] = c)"
      ]
     },
     "execution_count": 14,
     "metadata": {},
     "output_type": "execute_result"
    }
   ],
   "source": [
    "qmult_of_complex = Forall(c, Equals(Qmult(c), c),\n",
    "                          domain=Complex)"
   ]
  },
  {
   "cell_type": "code",
   "execution_count": 15,
   "metadata": {},
   "outputs": [
    {
     "data": {
      "text/html": [
       "<strong id=\"qmult_of_bra\"><a class=\"ProveItLink\" href=\"proofs/qmult_of_bra/thm_proof.ipynb\">qmult_of_bra</a> (conjecture without proof):<br></strong> <a class=\"ProveItLink\" href=\"../__pv_it/theorems/5d09dd3212021b87f3f9c52855e0ff4a038dc73a0/theorem_expr.ipynb\"><img src=\"data:image/png;base64,iVBORw0KGgoAAAANSUhEUgAAAXQAAAAfBAMAAAAFCStNAAAAMFBMVEX///+IiIgiIiIQEBB2dnbu\n",
       "7u5UVFTMzMzc3NwyMjK6urpmZmaYmJiqqqpEREQAAACk/Np2AAAAAXRSTlMAQObYZgAAAAlwSFlz\n",
       "AAAOxAAADsQBlSsOGwAABQtJREFUWMPdmH9oG2UYx7/X5nqX3CW7zqoM6whxqAzFaCf7p+BVi6Ku\n",
       "4/xnUthMGJbtL3e1/mAo9OZAESXLlKmD6aKDqQgaZbJZ+8dtVsQtShVFxCpRKErRtmz/lFasz/u+\n",
       "l/SSJunMwmh888flnnvveT/v8z7v8zzvAQ1sO2MOLlOTYjc3VF8al7HlVgO6Sja02aX0vqw5S3/U\n",
       "VYN+LQIZuqQK93THBaXzyxf+3YeQwdG5ZKJR6PVoC5uCtK8memB8CZ0my9BH2N1rjUKvR1s/BGm0\n",
       "JnoLfOhBi6E/UbIYl4pej7ZRgR7O1kT/yY+uZxk6m8DSYlwqej3a4gI9YtdE/92PjtsZuu6S/Ru2\n",
       "TevQFkoL9H7UQpfTJehHeIS5LRbb1LgI89+1aaZA7wQUG6GjkxXRJbLJk8C7/1gc/W6OfhKYbBx6\n",
       "mTbuv5r/ZlkLugI9yjvuPftwEV2L8ZYs7NIslCPHTY7+JUd/Fio9fOFlm0UpvjZ3bbLuXbDP4KFZ\n",
       "9TdfdKKpt99jroAutBUb37ER7+arYoz+ZDPwXSF0jHP0EL32A5BEW0WrH6d9bNMz6sDQv+XoEYv6\n",
       "6WYigxbqP/jIFCJJSHEMQp3Foz7rMJNqyRXQubYq6PzKBhiT54GNnrQ1w9E1upjQLTJ9JfQRbrvP\n",
       "mekZ+jBHDxsENYiEg/20RifZEBydzF+CfgWPBSuhc21V0DVHDKAY8hzUeCk6c2YTEvBARfROjm5A\n",
       "Njj6MVEIpE9DzON+3sNDl2cY+tDpayxs6VEPvzeyp9d6xYLz/E0dH0PdQlbouMoJjBnoHDP8hQDX\n",
       "5mJvdwk6F6hZbwAoswgUPD8oHIaFkCzeBgYq+no/2wkhchnL5zDoO8SerWdLKIuhNvRujeMAQx92\n",
       "wunguOYee8ccAp45PwJlDuvQZrY6gaxmvo7RkKmWoDNtIUfd3e9H9wR5bwBIee6dwo0MsU3/YMkp\n",
       "i212RatHHGiuBnmXCI5fC/T9bFr9i11dswi5Rasjwa0OzA8jnKc1GWKOOmMocazJqE7ETTjqg7P4\n",
       "RVn43vKjM20S/QJ+dE8w4Q0gH73QdUdx+ycFOm3b4MFXz22sHNdZCDm87umPMgL9Q4Eu0tgcdMoo\n",
       "b0xP/1WG3v1ZLpcZ4ugOrTSht7roWGt8QPm4O3cW7y9m/OhMm4QdzGv96FzwmDcA1jgsvHkpKSrQ\n",
       "Wfg7s7ihWjalXvot500vJd3oK3pJgUZx06xodbDtOiS7ZJ8ot3rQjVx5wGIuC8XS0+VFbxvtp5/9\n",
       "6J7glDcA3gI+LULdINBZ/aC5VQuBPlHtCHQ16kOnnBY0vHTiQx929HzElV2aQkIZn6egTb6+Hgmr\n",
       "pT1iysaf2E5VU74cXd+VfMr0owsBc3SRr04AB4tQ5wQ6q9pa7arorJrfXEBnUyyi00utxgBStkhJ\n",
       "dy48vie7bQH7ch1Ab7s6cwqBExjp7YXy9zdZSKNf/EpiBHqMcM+Ys+yo8eOFqdLgyAUS8aQ4HDHc\n",
       "2mYt7UBOeoiHuWroQbHIAj3lPyXto2W+3oG8dXqqdrJX4hdxStKNsrjOBSy+8wFYTNq5u1hZ5QUp\n",
       "RdW11dFJgxQtoE/WdcDzpl4bvS1Ths4Fb1Z57UUE2FmUuj0nQqctXbcMnVSpoiy+GrpTF3pq4SLQ\n",
       "W6wydC4YWMVfBF5a9h3GESf8sjN9Q77DdOP/0wbHmpVcSQabFT1iN62/tFhys6KH+iaahvVfWluN\n",
       "ZPqTMtYAAAAASUVORK5CYII=\n",
       "\" style=\"display:inline;vertical-align:middle;\" /></a><br>"
      ],
      "text/plain": [
       "qmult_of_bra: forall_{H in_c HilbertSpaces} [forall_{varphi | |varphi〉 in H} ([〈varphi|] = 〈varphi|)]"
      ]
     },
     "execution_count": 15,
     "metadata": {},
     "output_type": "execute_result"
    }
   ],
   "source": [
    "qmult_of_bra = Forall(\n",
    "    Hspace, Forall(varphi, Equals(Qmult(Bra(varphi)), Bra(varphi)),\n",
    "                   condition=InSet(Ket(varphi), Hspace)),\n",
    "    domain=HilbertSpaces)"
   ]
  },
  {
   "cell_type": "markdown",
   "metadata": {},
   "source": [
    " ### Qmult as a linear map"
   ]
  },
  {
   "cell_type": "code",
   "execution_count": 16,
   "metadata": {},
   "outputs": [
    {
     "data": {
      "text/html": [
       "<strong id=\"qmult_of_bra_as_map\"><a class=\"ProveItLink\" href=\"proofs/qmult_of_bra_as_map/thm_proof.ipynb\">qmult_of_bra_as_map</a> (conjecture without proof):<br></strong> <a class=\"ProveItLink\" href=\"../__pv_it/theorems/e94521c596895f8bb99e2c7a313c2a4c970be9290/theorem_expr.ipynb\"><img src=\"data:image/png;base64,iVBORw0KGgoAAAANSUhEUgAAAmwAAAAfCAMAAABtYmFRAAAANlBMVEX///8WFhYNDQ2IiIgiIiIQ\n",
       "EBB2dnbu7u5UVFTMzMzc3NwyMjK6urpmZmaYmJiqqqpEREQAAACBdEgOAAAAAXRSTlMAQObYZgAA\n",
       "AAlwSFlzAAAOxAAADsQBlSsOGwAAB9xJREFUeNrtW4my4yoOZYZ9h///2WE32GA7ya281BurunOz\n",
       "yJIQB21OAPhRYgghAR76lxAM22l/1jr5XXUiO4Rvr84+P/Mpn1wN+EvGUKU6tbfEnTDx2w74yOip\n",
       "K3q5xjxgy56Jp460LXYHhvxZ41hRYphwuVc2DkpLO0NuiTthOtFtoLoh4F1KIhXswLb51ZpfA9vX\n",
       "bLNk8Dexfwe27GurXzDGU9AbMlF6FHei88gscHantNyrawGnAVFLz+rJoDOboN3AppsSKX4NbN+y\n",
       "jcrR3wj8HdjIUuRSxsaLVkrRKdh2Og/MyicYGQQEozcErElrrrCvVfbcJkkb2Dhb545/Gmzfsk2b\n",
       "wd+zE/0u2ChcBstrsGVDZkoP4s50HnXn7WfspoAluWggKvZ6OLfJ6K1mq8Aj9ufA9i3b8OjvWa3y\n",
       "LtgsvzouUCzBlg2ZKT2IO9O50s30TQGbrS40laiV0zah1buS/cXCJkwb2GqTIMHvge07tik5OIdK\n",
       "8HdgI7NCgJ7WXw1s++w+uEeswXbQuShClmAjcy1KQjqpQTyZZ9EmUpqtG8URrQiTX+xGv2KbJoNz\n",
       "YPYN59nBPtW9L4ONQg3zvkG59SCzWgitwAb77D6aM4gDVzp3zEJiFmsUjLtEeml0uIxOj2rpMQ5Z\n",
       "tHmLsA1sOi3D0V8E21dsKyevOqfsdTr2XBrFyARsGnXEJmAjwIbsTINomLtLtIKX3SUrLUe2rHQ0\n",
       "5wDRc517PGeLjzXbmdGr+Ej8Ios2bxm5gU2w+vB7YDu3TU+fTl6eUx1tZ+co1tUtrD68GtmEDXgM\n",
       "DhatJNxa6/3ew+EwCV+wXwzJMnfmDOLApc4dM3BzsJ0aPa9lQnz0LhLGYAU2izawpcBRPhBaYn6M\n",
       "vJRgTCgg0odQEzpmQJ2P9eO8N86XQggJJx+Crbdt0gxNn6aF2dlEaLa06Fc1hBC1LcLQitxXwRYu\n",
       "xLBI0WVbGtd//4MG8m3aFbhQfa7VEHMGcwZx4FLnjnkFtlOjOa7m9r5WxjMbSHm2BBv3HdgsrHtr\n",
       "SKj3EktZMofMOdXMgzi9l85ffIbWOEkJULNPwbbZ9hLYttd1BYelrcBWK6U23EyDgNcbBBXzCtkG\n",
       "CR3G0b5B6ccOupZG0OzBBsFUHLjUuT9fC7CdGk3dYgQthng8AZvCHdjCbhoICoxouljgOrMbzIN4\n",
       "60GWYMtMmfNjsDXbXgSbFmBYwWFpvaohjZYeMJ5slXMXfadmSwlJpDsAdF/yjG7ju8LbsaEZzeJ2\n",
       "5hwqqHOd+3JrCbYToxcjXlfClOf30iggdltvjnlE92drAFvKoAVs2ECo014YAkO7IpXWinkSTJXJ\n",
       "KSK8iQwkiUkQk1MDJJCJclHUkv/OwbbZZtLGYLMGW8chNNitYFza4C84OMeJOuiNnJTx90Yf2uW8\n",
       "Z9VhZoXOpxj142xIAdtoThVHd1iZ6zzMy9ZgWxsd6iIwG3zkd7UHS7AZ14NNYNZVqy3V9IHTIRLI\n",
       "4ZpBM9hiqLAyx4bgDoWVIAGCSSbyKEErMaVOOvZRWOTt1qRdFN4Va7A125SIrYLop2A7sA0c7hj6\n",
       "u6WNTmGDc0rqkBJKbnRhfyONhqUGSUYd59KDFLWcsxVDsrjRnCKOejlmwbnOw0zcue3xjoAxAwzF\n",
       "cbmRG5EheEOg7L2lYQ+2bWZOpfc4kM/FH5hEtoyzEtnSgEWlkBE6+Bw6OK7Vkouwr0zBmAAGZ3I2\n",
       "E3S7SFtKl2BrtsHynyzBNnCkW/f9CoaljTUTGk9ieWlC4Y7I+0Ndzogz7f7A8j6j5ss7CGi469Ob\n",
       "U8UhRAfb5zp3unloHR0Nj97BfRg6M5oyp+gUtiGIeB6BWq8b7rOV7yVOvmKU6po8GTEyNbXOnoMN\n",
       "GxP+mXAa8usS2Wriqkw5fSIYitCsu1wElOu6sXWjHYsuW6vkFdg2jtQI9ysYlrabffBxCFlOsDYf\n",
       "3kHgdn2f4ERG2+JsSAsQZnLbwdLdDYCJzlu6bxmtiOtvV22pPqRRpOlcpKiH18xPudZtv25HttYw\n",
       "hHepKa0B6iNbHJ46SEWOvO0iOkXA4R2WUWTtEmwDR+oQhtFLv7RdLtCDv2ulgvmHYOvu7jjxBtiy\n",
       "Ie0WIz/uMSB7rEx03tL9odEnIushOYIt37qREOwm93OwxVgRy7+QHCPAMq7CR+F0pGAVx7G5ZnPx\n",
       "/SAOhTLTkdRal4vS8XHXYDOMM8A1WXejPUep1vpx6bC0XTIQg7/lcBreB1s3N3jh7u7W8mdDaoLz\n",
       "4Ciufj/jTOc93R8avRbZmowj2PLxwTB12KLWS3Woi7zmlHkN0kOo603oNJNcEkAknE/xhMRt1Sp2\n",
       "FMlJxsLc3GpjeCwTEnf9Ywk0RFyDLXQiHjt1NvroOGBtp/h8abueagghZdgC0adg23ANX/jyJ8Ut\n",
       "eJttxDeY08SZY2A6MN3T/aHRa5HtvB/AVtpChpjIIIsVj/pIJccfzdn62Aav5mwbh2v3PuoKdkvb\n",
       "rduk/FV/Y5CuFn3lDnncbnwJtigC8rOJ4DUJzWxfipZhBz8Td6Lznu5PjT4KzN4yzdvf+A0C938F\n",
       "NqauwNY4FAQP/Rh9AWwxt/4R2BC9AlvjYPTZ3P9DsL1L8sbvRsX06eTlQ/80QYSwedzw0K8QD53i\n",
       "44WHvoI19nO/TXjo30qf/ib6oYduU+zunr7uoa+QItY+PcRDf0T/AzmgXDnc/qiDAAAAAElFTkSu\n",
       "QmCC\n",
       "\" style=\"display:inline;vertical-align:middle;\" /></a><br>"
      ],
      "text/plain": [
       "qmult_of_bra_as_map: forall_{H in_c HilbertSpaces} [forall_{varphi | |varphi〉 in H} ([〈varphi|] = [|psi> -> {<|varphi〉, |psi>> if |psi> in H.])]"
      ]
     },
     "execution_count": 16,
     "metadata": {},
     "output_type": "execute_result"
    }
   ],
   "source": [
    "qmult_of_bra_as_map = Forall(\n",
    "    Hspace, Forall(\n",
    "        varphi, Equals(\n",
    "            Qmult(Bra(varphi)), \n",
    "            Lambda(var_ket_psi,\n",
    "                   Conditional(InnerProd(ket_varphi, var_ket_psi),\n",
    "                               InSet(var_ket_psi, Hspace)))),\n",
    "        condition=InSet(Ket(varphi), Hspace)),\n",
    "    domain=HilbertSpaces)"
   ]
  },
  {
   "cell_type": "markdown",
   "metadata": {},
   "source": [
    "### QmultCodomain closure-like theorems"
   ]
  },
  {
   "cell_type": "code",
   "execution_count": 17,
   "metadata": {},
   "outputs": [
    {
     "data": {
      "text/html": [
       "<strong id=\"complex_in_QmultCodomain\"><a class=\"ProveItLink\" href=\"proofs/complex_in_QmultCodomain/thm_proof.ipynb\">complex_in_QmultCodomain</a> (conjecture without proof):<br></strong> <a class=\"ProveItLink\" href=\"../__pv_it/theorems/0c0f91b545c4b15c9d53c7afed7380852a7c9f630/theorem_expr.ipynb\"><img src=\"data:image/png;base64,iVBORw0KGgoAAAANSUhEUgAAAIYAAAAmBAMAAADzS/5MAAAAMFBMVEX///+IiIgiIiIQEBB2dnbu\n",
       "7u5UVFTMzMzc3NwyMjK6urpmZmaYmJiqqqpEREQAAACk/Np2AAAAAXRSTlMAQObYZgAAAAlwSFlz\n",
       "AAAOxAAADsQBlSsOGwAAAsRJREFUSMeNVU1oE0EUfpvdNLvNJkZQQSxSQr14aREVoQgRFBUppKV4\n",
       "01S9qKfgT4teGhUUT00PghdLDgWpCl1Q8K8HSy1SBJtjD5Va0RZMWaJotWlDnDfdSSawuy9zGObn\n",
       "zff+vvcGwH9M+F8HHwA5wn2EwI0kiTFDCZhfKInQAVLLIiVgJEiMoQwhsEB7G6acaaOjrv8jwvGH\n",
       "xoBv/tdN/nbqFs5T/hhb3vmm9bqFIR/KA1c17y416BXzyIW1BOgvllBHwII3ePbQXXTWA6J5cWBq\n",
       "DeDpMKYtnIV+dMzD70seGLtYobTHtGPHsVqUIhgMS8u7yx6s2+2Ox7N8oaHK8VbQeTFF/oLJfDI8\n",
       "9P2WN2PbxWocXVCLADxcoTLAvnh8vwfGBp+PbEujv7Uq5+JGUZQ/k3oJ8N0j/2Wcb+c5nY1qjiIl\n",
       "jtEq9j8B7jp+OUMpnLslaFre5LsaA9lfjbNbtSSPo0kt57zZYeeCS5mIYG8zKgw7fL8aZ4Pnr4nb\n",
       "MZgWGOvMtJhQ8ZYda90A72U7VCfvZ2uWruJcAAkDspNoYEtMQdaducneyhgpp4UEaj208ip0wqyG\n",
       "I8jiAV0Y8b2hDq5pbk6K6YZTM+irEqueX6l0JseSdVJ3+rCTBNPP8GR6WmraqCFsgcZdfyRdgGLV\n",
       "GgRaG2UiKmPqjG3b+YHHUo46cTq6dZNcp38I1fqTj5el4imJKmfZv8YT141qnDFSR5fRrw7X2yvr\n",
       "Urs2RaMycpCIoh79VAa6xKvnHtz7VFn9cD8nGqqIrj4xmdSXcdU7UqhmftarJUfO/7oo1oG6b6zX\n",
       "tnN1oql8A/005dvsIGo1gLHg/8GYHQ1gvCZ+9VIDGIeJ+5M0hELZqqblH6vF7fdVqbibWWnTD1kX\n",
       "kZ2kpcPSetmVb4dIjB4pcXvAhXI9NIWkTgyjn13YtNJA5u4R2Udi/wdldKwZ/awFjAAAAABJRU5E\n",
       "rkJggg==\n",
       "\" style=\"display:inline;vertical-align:middle;\" /></a><br>"
      ],
      "text/plain": [
       "complex_in_QmultCodomain: forall_{c in Complex} (c in_c Q*)"
      ]
     },
     "execution_count": 17,
     "metadata": {},
     "output_type": "execute_result"
    }
   ],
   "source": [
    "complex_in_QmultCodomain = Forall(c, InClass(c, QmultCodomain), domain=Complex)"
   ]
  },
  {
   "cell_type": "code",
   "execution_count": 18,
   "metadata": {},
   "outputs": [
    {
     "data": {
      "text/html": [
       "<strong id=\"ket_in_QmultCodomain\"><a class=\"ProveItLink\" href=\"proofs/ket_in_QmultCodomain/thm_proof.ipynb\">ket_in_QmultCodomain</a> (conjecture without proof):<br></strong> <a class=\"ProveItLink\" href=\"../__pv_it/theorems/6b7fdacd81c250d5a1898d1647fd3eff112219a30/theorem_expr.ipynb\"><img src=\"data:image/png;base64,iVBORw0KGgoAAAANSUhEUgAAAVQAAAAmBAMAAABpIX74AAAAMFBMVEX///+IiIgiIiIQEBB2dnbu\n",
       "7u5UVFTMzMzc3NwyMjK6urpmZmaYmJiqqqpEREQAAACk/Np2AAAAAXRSTlMAQObYZgAAAAlwSFlz\n",
       "AAAOxAAADsQBlSsOGwAABaVJREFUWMPFmV1sFFUUx//TnenO7uxup1pMSBtsGr/iC8ViIBHjVEvQ\n",
       "AM3gAwZD2A2GxPgAW1ZqfDA7iDEhRrqoGH1Ai/IgktiVNFIKiVNbg2Axm/jxIuqU+JFUaFe0WFrI\n",
       "eu+dj91tp3a2rt1Nujdze+Y/vzn33HPuvQuU8fNT7oZXU0n3aCgcYs2nuYlykuI776afeLZ8XjXb\n",
       "+yuEGkp5NzUqi5pQvauOVBb1jRJUu7RKooZLmSOSUUnUKqUEVXGykqhJtRTZnyuJupM6y7mKz+3Q\n",
       "NP0erCQqrRR8t33125x5ak+aRkpXxkRlMXuxbKie5PyTeVQZ+N5t4j11XYHY+ystalVpE7WfNm+V\n",
       "DdWTXCibRyVuq5ptERx5bvA6cPwgDWopZaJ20pAwyobqSa465aAKxKt8ZpZFPfnPcplfu46uALis\n",
       "iRpQXW0XiupJzhdzUMPxgldb1tRkFlye9vQ0Qowxm79N1BCJhkD5ppUnuRrFQeULAubYEtugh467\n",
       "jziTFSr/TSsD3NfUtLKMGcCLXI1uom76mKAuBb4xM9Mhx4ApBLL2OvCGhXoS+KWMqKZc2uxIz1HV\n",
       "Myaq8jW24nbVmlcBzZn+U+y60b7+w0J9mUXEK6/HETbLnfDISvWx6fhn2JYVL+X1yVBxteuU+VBN\n",
       "ORZ9Oi44ufzUKtt5tFiZqGLmBL6Aj0xxFgv5uOFZKfU5L/qXhRpRyfuFlGg3qsgdHTtHEYmBa0YH\n",
       "xCx25zkC1GNSbD5UJmeiyojQhkoOCcRR9zqh2M1QBawguUoiwchUE03kw26sZl5NOlVs2kINywSi\n",
       "A1EN+8j7naRPY6jEvUWotwKkc15UJsdQxQwkzZT0y8IkxOYZXkVwkqBugjWc2xwd7hr9/h0zUZEa\n",
       "YLcD64EG2KjCOEVNDNSr2NAqvn28f1eb+qYKTXxtYL0qbiCpvu42jR+S0UD+CgsrkzNwJBZS76Y1\n",
       "vMEsUFnw6ZmoUiN5nbV2lOYrgZDr8z8ackJVsGMVG9nMW0YHSGD+j9zR1t6MLoqa1MKpQEbS3/9A\n",
       "SQAvXiWESY1LVSs+jU9LymGcCSpiMSqTM6BMcLhCWlMSnMHiy5pWVgaQjJAaJr0HTBNHB7tzD6jH\n",
       "nNWXaGcA7KODuiXX0pJFUHe8iijzKjCVRNggPk/QsBuXWZeoRfSoJj6RxY/+6W/VIlQmZ4hPNnJk\n",
       "zly0JIV3/2x5yCGJylYArOZxnr6d2X24YJ8KLp89nLyKCAvfSbo1C70zNnZlBuqaweHh7gRD1eg4\n",
       "0i7U3SL3kHy/Zvg8Psp1F6EyOQOS8ioJxGctSdRoOJevVmmrBHS2D9Cxt4Z686j90uKHXz5TsCCY\n",
       "KloEBhshpeFXXL0KOr0Sgh6jqrQroEeWdKkUHH41v/vMLwLpcH8u6uizJPEecDqfTAy7Wr3A0qjt\n",
       "wKOXrMK6PEdmkt+GC00UoUoKArJVDApQk1rIiOiCTvii/swUzZkkVo2oWlUbUQT5MraS5xhuqNW6\n",
       "/BILVLO+9AIH87ulZhuVldKINmtJ/VXu2tn99mhJjUWovjh88g4ciJsl4OHpPbvSm6exd7gOaKsV\n",
       "x/vA96K/rY1Mqwv14M6cHSHd4FvlcOuQ5oYqnB7RwdE5w+KLVIAV1Wqhmxgqc/kWt/Xq9qtPOzux\n",
       "WBHqXpJ479IgtI+NzreF97ILMFhaZSWASdIssd15tnDTRmWTvmGeJ0b1BW5Ykh5RQ8SHR+YwpNmd\n",
       "ixcY//tRmLYwVHE87Q2VI82OOQwHS3rkqf91G6gVNbOHtLsU2QcruWPlUyWocs3uqB1Di3Jmtcp9\n",
       "J9vgtsb0ZVxR/bHAoqCec+3thJu3l7qfBEbii3MSGJDdel3PLsTV7qhVqrAoqMI9br13wuUs6/GM\n",
       "O2pw4385aCnht4D9bgdsR3/QZ3deZt/l/i2glPTsNdIEJ6/9A1MOuYUGUvtxAAAAAElFTkSuQmCC\n",
       "\" style=\"display:inline;vertical-align:middle;\" /></a><br>"
      ],
      "text/plain": [
       "ket_in_QmultCodomain: forall_{H in_c HilbertSpaces} [forall_{|psi> in H} (|psi> in_c Q*)]"
      ]
     },
     "execution_count": 18,
     "metadata": {},
     "output_type": "execute_result"
    }
   ],
   "source": [
    "ket_in_QmultCodomain = Forall(\n",
    "    Hspace, Forall(var_ket_psi, InClass(var_ket_psi, QmultCodomain), domain=Hspace),\n",
    "    domain=HilbertSpaces)"
   ]
  },
  {
   "cell_type": "code",
   "execution_count": 19,
   "metadata": {},
   "outputs": [
    {
     "data": {
      "text/html": [
       "<strong id=\"bra_is_linmap\"><a class=\"ProveItLink\" href=\"proofs/bra_is_linmap/thm_proof.ipynb\">bra_is_linmap</a> (conjecture without proof):<br></strong> <a class=\"ProveItLink\" href=\"../__pv_it/theorems/3ba8f378c88afafa67a2414b92b9f03944b5d1df0/theorem_expr.ipynb\"><img src=\"data:image/png;base64,iVBORw0KGgoAAAANSUhEUgAAAZQAAAAfBAMAAAAy6yY8AAAAMFBMVEX///+IiIgiIiIQEBB2dnbu\n",
       "7u5UVFTMzMzc3NwyMjK6urpmZmaYmJiqqqpEREQAAACk/Np2AAAAAXRSTlMAQObYZgAAAAlwSFlz\n",
       "AAAOxAAADsQBlSsOGwAABd9JREFUWMPdmH9sFEUUx7/Xu+vt3d4tBxb+4JfkxF8QY2NRE0Nk0cYE\n",
       "oc2SmCbE0DYqiTFRrh6SqH90CQp/YKCARI0ipxCFYGRVFARMtkg0wIGn8UcwGA+SCpJ4FJAfUkN9\n",
       "b2dub6+0tCVngE7zdvfedObNZ2bee7MLlLE8kTBxjYovcVdZ+2vDNSyZ6wFFkeL+6LWY/bS9LlDG\n",
       "kSwv/Aik+9hB2Z4Q9XeuXKpH4gALo+T4drhcKBrfYvagWsV0utRdAeWDGtL9SIP/8hxDG0JbPxWP\n",
       "n7OceRgnUHbw7c1yoag8kPDgnH8OXyb0jaJ+tS6HIK34zpemcWyR2tE0AwcthImMhVAW8lrlyoUS\n",
       "avZuloGVXbwyVt8of2BLDqoNzUKCfp4S2pc1Gn+lhSi1ZCEUJgpky+Yra7ybZWClmkRL9kQZn0gI\n",
       "1/OdxSIDfuBn4BJBXxD1HbyXFfKSeyEkgyht7HD53D4zaO+PtBU2mRdl08iCwu8s2Ca+BP+mhZBb\n",
       "MbdM1r8jhSzfk0hMKR+KP5G4RR9UI5X/fSwQSiKyrkOiKGvc+psdxVaH+iIwLC7iV/MCWf+IFELZ\n",
       "RotVPhQ1Cc0oaizPFWqvjcK28HqqfXHfUxLFEzlWu3OPQCfwu6gJ6R/J+r1SCGUJEQLLVidFVKRl\n",
       "fHiKMaMruRuNncrRoskAyfCqBf2gUF9LPJqc54qo65Iea6ggbYRG8AvQjMoCSjF9dDk3PpaEnryU\n",
       "z9dItfWe/IcfpBCKZlDrqN6URgX10vLcCWjN8FWjBUonnvfMnjPlX/SXIjvwaF8ozj00Kp92rTm+\n",
       "QHeO4TqiBi2NQEklqDjNfBed/3qA99d3z/7267lCX6/Ih1YphBKL0yBb0GRiMfW5jcOJg0LLU4Jy\n",
       "EziMVPaH8n2J15eibCfZmSxac1F8NqP4gNkSpbE4g9UuCm8u5V94IhiX9VKcgNMu4WY67idRgicZ\n",
       "JdU+xsCs6cpbm3fMrzXC86Aoq9pnGsosyqxVo0yqwtg9cS9KOEo/owittr0oQrFMDNq1JsZKG4wT\n",
       "oIUPgXkSpcJFWcENgljLz39Sz+elfrPjkumSDYY6J1qMByYh6JjWJtbWV2MFo7SasbZwVrXXb9RT\n",
       "tEHvnpwmla+tUvebAUvVqWqfrpSgBA6RiY1Y8mqbF0UoNHe6HWuiaNz8OGdKCw1JieJz+/yMfCh0\n",
       "P44wEGVHlTwfRiHb+6j/gxDCKIs5Q8/prqnpRMR2VwVNzqoAF1sRy9Espnijjz/lqBRTs5tMxaCq\n",
       "Y10/GV4U5T66xOlP96IIBR3ORNwR1mQ4YfN0wgqvfGP/JDevrC1knTPdp3cdyjrhNnqWxlatJIP/\n",
       "cM2M1425b9P9EykZN9NeQLQN0Xfz+b96oEz9OpNJpxwUhXcGq1A1Ir6FGnHVx93pkpPxMUYJZhEv\n",
       "QXEUIR178/l8VlqTg50gN9Tu7onFFNlwQkxQgzn30zNPA+/zQKk3//n1JhKGczKeNpkD8x1S3EM+\n",
       "dahabKu3VQG7fypoV7JNVoVtbeQKw9nyIcMdVNHhm32IZb0oQqGaWOCxJsvtEEcn1fYeXDYcTXjj\n",
       "RwXNt0YjV09/TpHKk7mUCUKKKJRzw3GZLD0orWY0p9lBm8bfFMoOS1PSIF/JNRkVwzU9GKeqA5Yb\n",
       "oIoo3ywMbS2JYELRCJk/pTVR9ssDrT95hfeVqIXSFOcO3JaT4KJQP/74PCxPihT5UNcL862GLizK\n",
       "VAG1w5WT2xHYCnVDrY7WA2Pg2/XtEVJzVWz6HvMylNi6B9MlKEIxmsZ8zGNN+j23XyOSQ9+vXsc9\n",
       "z7M9z8sLR3EXZRGljNtMBOvzJ/o5naQG8hbZ3jOvtBd+PZbPpwvWRHHCJtWPuCJKo+fZ+2rXIeVq\n",
       "XohbB4LyTE8UVkTivTd7jZcGWCrO9Mk+PgD0/moaNYVcDYpy0hoAyq09UVhRadw4X1xWXfYdzPR+\n",
       "LFH+1+9gUzF0S8ueoUISag4PFRQtOWT2V4URHCookbrDN+zY/wMFQcuQL8xw0QAAAABJRU5ErkJg\n",
       "gg==\n",
       "\" style=\"display:inline;vertical-align:middle;\" /></a><br>"
      ],
      "text/plain": [
       "bra_is_linmap: forall_{H in_c HilbertSpaces} [forall_{varphi | |varphi〉 in H} (〈varphi| in LINMAP(H, Complex))]"
      ]
     },
     "execution_count": 19,
     "metadata": {},
     "output_type": "execute_result"
    }
   ],
   "source": [
    "bra_is_linmap = Forall(\n",
    "    Hspace, Forall(varphi, InSet(Bra(varphi),\n",
    "                                 LinMap(Hspace, Complex)),\n",
    "                   condition=InSet(Ket(varphi), Hspace)),\n",
    "    domain=HilbertSpaces)"
   ]
  },
  {
   "cell_type": "code",
   "execution_count": 20,
   "metadata": {},
   "outputs": [
    {
     "data": {
      "text/html": [
       "<strong id=\"bra_in_QmultCodomain\"><a class=\"ProveItLink\" href=\"proofs/bra_in_QmultCodomain/thm_proof.ipynb\">bra_in_QmultCodomain</a> (conjecture without proof):<br></strong> <a class=\"ProveItLink\" href=\"../__pv_it/theorems/18a2dfe0976c778c406303a1d24682ea76cb97bc0/theorem_expr.ipynb\"><img src=\"data:image/png;base64,iVBORw0KGgoAAAANSUhEUgAAAXAAAAAmBAMAAAAvl91SAAAAMFBMVEX///+IiIgiIiIQEBB2dnbu\n",
       "7u5UVFTMzMzc3NwyMjK6urpmZmaYmJiqqqpEREQAAACk/Np2AAAAAXRSTlMAQObYZgAAAAlwSFlz\n",
       "AAAOxAAADsQBlSsOGwAABflJREFUWMPNmW9sE2Ucx79de71re70dMjSEBZcKvPBPqILyAtRDZxBl\n",
       "5OILDEbpgiEgL6RjAjGa7JCIISZbCcFIIlCVEJDENTgDTKKHTIk6oSRqQhQpJEgyFSooGRtYn+e5\n",
       "9npXrtAbjes1e27P9fnzud/z+/c8Bap4ncpdHWHPg5U2XKjS8ovcP9Xkxk8j7RhqrbQlv9m4P1gb\n",
       "4N9U3vRoLYHzLjAkuYbAA0rlbYXBGgI/pbpo/HkNgU9y07hLqxlw3pVvk5SaAfdn2E0r1LVy6p2i\n",
       "pRitGfB6nWFlCvWnnJuJq1JU2MI1A5w1/6Va4BK9hXV33TqYiH3p8uDhF68oEHp+YwPfY4D30tu7\n",
       "1QIPJal309x1O8bKOpQFD55ec/gKsGcj8z4HDPDVtlW6VXCexu5Ol91eYuXP5cEnANxU2ffEHBbv\n",
       "7zTAA6p1lW5Zx+nQLS67PcTKc6XgEyORBPvHR+Xa3QTByGhOxRm4SPQmUD3j7Ce3hMtuf9OCS5SA\n",
       "7x5XqHdTDfFmC+6mI214lQcikenVA/dGIncpLruxXNhDBLiG4P6rGuDCZvN7hhfIFqox3QDfB5yt\n",
       "HngoDskSwEOWEkg5u+drBdtMgX9vp2KAFy08PMTqTab3lA3w9Ux33t4UR9gQFff4dHXucPxLLMoK\n",
       "Z4rj+4hUxsxRbgJOxlpvDXOWEvjeZD0wA/ihEDgZ+E5CGIcfaM2DFydmaZXXfOt6xQCXVF8SohJL\n",
       "oo74sraXByC1whNFG4QsVlpSOLo4N874aQA6a3MKdnB2pzP0cUSKdxecHZNoLxPNV1TsbID2CLmY\n",
       "t/Oz7zviJnjKAA/LBKkNMQ3ryKLuo+MzcCJ6G/hYIErlcRPw4zbbtIOHNGMGXuYGIURtEm9k4DI4\n",
       "2QBfZI7huUzL31EKjsQh9kbA06x7Hpy7QMHbD01QMW+2sGVP74pm9R0V2oZ7Gz6FMI8IqOF2zdcn\n",
       "o7FPtoIHRFIVwW/SbeA6Xp3Fko1GAzYLX8oGvpCaQpAoS944i/GIy+3nnxRNFUcsr+NoYfY7ka4d\n",
       "x9ZGmtQ8P4ouCt6hhROBdEj/cJfSDrxxsRf8IMbDr3g1XyqkbMXBoCLYwH0niG3uwvo3E1bwoCYs\n",
       "I2iZ/AzwZJhiGgrPvIqkIaSHwC3Nu0OPOSpW5maqu4sW35X3KlhHl39hbtq0LIK6KXHEmMSBoQ6E\n",
       "M2Q92ql+XpD5KOqTgibpMU14Notf+eEfVSu4QMOJTD6KFdxDPj6aExkzcNsvTXvUlOhfzHeQ9lvG\n",
       "v743WfDjW4sKx8FjcUgFPw6Jqf0gxATEbefP/1kCPutwf3+ynYFrZIkJuFdHw21yN9GIWf3f4uNc\n",
       "0pYd0ggoc2nIdvAXyB9eyc+Aes2yQZ7JSqIL4tSLihmAFgwUBCJ89N1yi910J61pbbAJIeJGFUeJ\n",
       "gxppO6eTpWliEg/o0rgulWoqeFVMXJfWtnoQTlvB/eQ9TgL78zPgA+Azk2QbK1vM45W8W9pxJh/y\n",
       "p+aGrRvqY6oVPKQgIOdDkQW8QxMzks7p5AVifHqIuGmi4xMRU+vGSAon/4HnwylkrgP/ejXfY/Mq\n",
       "4tLW1xSm4EawI99uNME/YSVNzWY4JlnC0dzlIxvMdd1r20h44/DKS9AZNwLQY8OrVqQWDGNtfwPQ\n",
       "PEa4sB++HvQ2N4O/ejwFz8Ejp8lj+GbL4dl92nXg4e2PJO3u8MSlAWJw5GEnU0xCeL9ftYqQZnt8\n",
       "tlw+vvjiMrMyxQa+ljj6KRq4+ecHbrJBjFayAzpU6sepk2Q1NgN1RItNlBjTKtLC03SjHVDBUq+O\n",
       "bOvGZysBX14K7qcr8H6Z7a/hMjIQjOh4xw0BwoMjA+8crgR8cil4HVWHJWU2k1FX54yJ/2OzLFjK\n",
       "stt3bsjNJN507RwIzXXTeKzzSVZb3yiAe+OO1tTomEM/7AjOtwZGAVx03OytdtwDehKO4FJ8VM7H\n",
       "Nzo9POfYdJ3mCF6ncqMB/oyT2U6GwyEudx8cwYMtt3KoNeLfgCw74+K146TDiZjEnlX7N6CRX29V\n",
       "2vC5wj//Ae0jo94C+DVYAAAAAElFTkSuQmCC\n",
       "\" style=\"display:inline;vertical-align:middle;\" /></a><br>"
      ],
      "text/plain": [
       "bra_in_QmultCodomain: forall_{H in_c HilbertSpaces} [forall_{varphi | |varphi〉 in H} (〈varphi| in_c Q*)]"
      ]
     },
     "execution_count": 20,
     "metadata": {},
     "output_type": "execute_result"
    }
   ],
   "source": [
    "bra_in_QmultCodomain = Forall(\n",
    "    Hspace, Forall(varphi, InClass(Bra(varphi), QmultCodomain), \n",
    "                   condition=InSet(Ket(varphi), Hspace)),\n",
    "    domain=HilbertSpaces)"
   ]
  },
  {
   "cell_type": "code",
   "execution_count": 21,
   "metadata": {},
   "outputs": [
    {
     "data": {
      "text/html": [
       "<strong id=\"op_in_QmultCodomain\"><a class=\"ProveItLink\" href=\"proofs/op_in_QmultCodomain/thm_proof.ipynb\">op_in_QmultCodomain</a> (conjecture without proof):<br></strong> <a class=\"ProveItLink\" href=\"../__pv_it/theorems/c7563b4b1933f5315ce62cc1052f15952c4e09ac0/theorem_expr.ipynb\"><img src=\"data:image/png;base64,iVBORw0KGgoAAAANSUhEUgAAAXwAAAAmBAMAAAA1qz3cAAAAMFBMVEX///+IiIgiIiIQEBB2dnbu\n",
       "7u5UVFTMzMzc3NwyMjK6urpmZmaYmJiqqqpEREQAAACk/Np2AAAAAXRSTlMAQObYZgAAAAlwSFlz\n",
       "AAAOxAAADsQBlSsOGwAABb9JREFUWMPNmX9sE2UYx79He9y1vXZHMCYGwkoVEn9uESXGQdIlrUwJ\n",
       "UBWJKNmISoKauPoD/Et3CqKLydbFYIxR6R9Do2JoZGQ6UEc0McgCJZEoUccPBUwgWyUM9pP6/rhe\n",
       "213hrtuatdnuvXt/PM/nfe55n/d9WqAUH2863T3hwfutu6yN0OsP6QGUBn/9xMd6bIyVtvPy3vLD\n",
       "P2in0+FyxZdsIfnUMsV3Be30kgfLFP9ExFa378sU/xZ73Vq1ssSXbMZCX7As8WeetHT7BL0q1WWJ\n",
       "X5HZ7pqv0UHZlKCGl8c4Ppvtn1OP72Nl0Xtvk6bf7Cgg9emhIOSOs0zo7Ry/ixYfTD2+J06joFbs\n",
       "yCPGscPU5D716o9DwJdtLDZ9y/E30zdxcurxJeo/LUWPfDZzdGg0zXwOIFapzvAydmKo5PguMhdn\n",
       "sgS+T5WsKHrkYr2sWxXlN8LpwK3sxkltvNsPma+rE1GGrxBPcpVi6faQMlb0yEt6eFEruUndbZlt\n",
       "bDe9caQA/lqakjzy3B0I3FMKfEcgcHOw6JGjuu/gBF/1zcYmzCBdqcxjQzfH7wTOlALfE4WP6RbH\n",
       "Nf5u6i5kg/oYL79CE5+6EVS8wwzfb0RYleNvY9707ntReNmI3qvazMXc8VYvCjt3dCp+sR8t/qw2\n",
       "0k2YtSxogU+kbmMPj0aN+l7iG0rcrCxhbLo6fgKt3MUN93OyQ5rD6FkR5Pi+iDMOJdgQx4w4a6iB\n",
       "h7iXdGNfHGeB2ZBUtELKwY/RV3bdrIJtW2fwEHtYldSlwXMsAKwpoKzdCI7D/HWc39fIoqFEXDtw\n",
       "F9uOWUuTYYqKBMf3qmTlvogGDVt4Q2Wkjlz30Y4MnzpaLr5A9mvyZ4l/lJvO/bKqS0MIv4FsNGZl\n",
       "rki+9R8meEyhaIR04TK9nsd4fMQOsHkBy3mDo4MIE9jKYfj1KYq/ZNZeOH9Smz/c9+mlMN6PQGu+\n",
       "44a92HooDqF2I20Semrz8F0KyykE13pdmsyOY36zsmzk1vEJ2gx2qIFhNTH9jVSnZI3YoPs+VrBt\n",
       "YB5wmz7PK+RSz25Ph0J/Q2b4gziOj7Hfff9WiQh+82IXrboJz+A+QtJBm9rxRh6+8zizqeqJ6dJY\n",
       "5JZjZmXwZlxaZpHH3W3EmFkG70vpmsjn2WSgVY882EJ1rU0vWqQHJWcNueyCYX2R4Vej4rMUeqUU\n",
       "vSXe1q/Sqvg7uCAO4i1S3dv03WN5+DLbgtxR4mxcmoNqdJ80K2OV3Mb/0St1LB/Pp1zZHVWEkMg5\n",
       "HOlxHz7ml4NQ9FUeriRzPNjX15fMx3f0LOn5hZQUX4OUolXdQu18NyFRSJO7fzj/xHmORfDQAwO6\n",
       "tKZIpmmcMkiGi9PZ1Ke3w9s/xEKT+MLOzIv54tBzOctrdzz3wOz2w8Pn5ozQ6PRKYevTJSxVr6Pr\n",
       "1s+s/xFOPU5cmlgfm7JfEuQcmFXIV3Rpz5P/KCUdryzrPPjEdFBbqR8aqtIjuYn8kUguvicIlwox\n",
       "CHEDhAHoO04O/iAO4wLWEWYx9RqGSVgnVfPEAcxX/yGRgjT9wQ/J+fjUjce4NPnq/p2+OF2M45VB\n",
       "UDP991w7TTmcvvxzczzz+HVeuuKIwqFukJaKexagfqgb8jl926rqXDMiNibkuQeCcNaqLSMalgfR\n",
       "FQpBGj2awJye11VSTZt+nVtnxt+zHk8OJZk0z66VVaT816wMPi3PqNcKx09d3Gg8LMzDJ0Fj5kIN\n",
       "XqN5dV9f3CItrbafbeVIay+grD4bD20efsXRQsnisWKy6tSEkkWPZlYWzqbgCZunqsFC+MUkdy0j\n",
       "E8t1wyZlSvY9K9U2vwmNTVeqLl6vRhy2p8GRLM+vqR601222xbds0tzgtOA7orY4llrgb55ApjcV\n",
       "+ErMDocQs8A/N03OgzY7HFs0C/wFiEwP/iOaNYd4Jyzw2//qngT+JH7bkrdbc/hYXcl+25rU523r\n",
       "Lk9kbv4HvAGzp0vZDGsAAAAASUVORK5CYII=\n",
       "\" style=\"display:inline;vertical-align:middle;\" /></a><br>"
      ],
      "text/plain": [
       "op_in_QmultCodomain: forall_{H, X in_c HilbertSpaces} [forall_{A in LINMAP(H, X)} (A in_c Q*)]"
      ]
     },
     "execution_count": 21,
     "metadata": {},
     "output_type": "execute_result"
    }
   ],
   "source": [
    "op_in_QmultCodomain = Forall(\n",
    "    (Hspace, X), Forall(A, InClass(A, QmultCodomain), \n",
    "                       domain=LinMap(Hspace, X)),\n",
    "    domain=HilbertSpaces)"
   ]
  },
  {
   "cell_type": "code",
   "execution_count": 22,
   "metadata": {},
   "outputs": [
    {
     "data": {
      "text/html": [
       "<strong id=\"qmult_complex_in_QmultCodomain\"><a class=\"ProveItLink\" href=\"proofs/qmult_complex_in_QmultCodomain/thm_proof.ipynb\">qmult_complex_in_QmultCodomain</a> (conjecture without proof):<br></strong> <a class=\"ProveItLink\" href=\"../__pv_it/theorems/ef615b2e98d29be83de3f4bc9853f194dc2275400/theorem_expr.ipynb\"><img src=\"data:image/png;base64,iVBORw0KGgoAAAANSUhEUgAAAJIAAAAmBAMAAADdDt/eAAAAMFBMVEX///+IiIgiIiIQEBB2dnbu\n",
       "7u5UVFTMzMzc3NwyMjK6urpmZmaYmJiqqqpEREQAAACk/Np2AAAAAXRSTlMAQObYZgAAAAlwSFlz\n",
       "AAAOxAAADsQBlSsOGwAAAutJREFUSMeNll9o00Acx39pU5umXa1gFVFU4vDBlw1REYa0wl5EOuMo\n",
       "voi2PgoDKxv+QzAqKKhgFQciOPsgiDCkICrTPWy6IXtanmQPQqf4B5xEp47J5qh3l9wtbdPcHTS5\n",
       "9H755O77+3MH4N+GQaCF+vk20bwICc7qXJMJIRDEpnkW4Z1iJPjAM4ikBUk3DY5BRRckRXnLaxUE\n",
       "gfKXI9OcKAk++Q+vwHOWtAK7erXr5PrGn7RyBF3kEuk7t4b29rBMJDeBSPXe2+qC4Ut6l7qDptTV\n",
       "g/uBMrzE97vepEnwIz1Zez5VBHUoSZxXhFNY+SY+PO5HksoA3bPQmSWpIv2ECLrLpjdplwdpo6YV\n",
       "SacL/dRfAFfIU8s8xJCqkSaK/2kkPU46YyqJkBRakB0wSwDbNW1HE9I/iti7umCTFFY/giSRHrDC\n",
       "gmxfAHxuErhLDumSGZ22SRGWXxXyfJsZz+J1Ku4iJM0cu0hDnJJaIZhwSMzuAGF2uJWI61TM8Bqr\n",
       "FPpitNDIVxdsUnSO6dSroUY8fQI/h+cZaRGpnqAfeoUSQj4IMFY3p+A0Ix1lb27CC4mX3SQojmLD\n",
       "DQkJ58aRc4hQR8qlGSnA3swtGn3G6+VSjnSCDPbHtnA7+d7UlEtxx3c4/Uo2SUqwOtH2+5naX2t7\n",
       "OY8rVagwiP8ZH4fa72CdyiA7UQD3l4d1WO8qQHj+cSRPEEX5hGVZ5ulHLj92OL7rXJWkkXnoGy2j\n",
       "1wafuxLI9g6uH8infeQ9pHiIDg94ZMvDj3a2BKpVJHcv5cZoUYyUIB3H/yr7DchQ0lO/DL7xo9pz\n",
       "5h4r5JupYMOjuvIV97IDM6w6Tur+9altKwv5QM0Wm7WsWvOcya+Z1HTEd5gEnmzX8S3+pIr/hhdr\n",
       "F95bhjhnkAVh0h7O+D5RkMSbfbBxkzs55mlo8k4zxYZtOe9ZqtdxZ32rwZ2eW7Gym0vqrnduQA95\n",
       "mZlcklJ/glQzXvv1dwGnXBU6seKo/Q+D38NtAq50TwAAAABJRU5ErkJggg==\n",
       "\" style=\"display:inline;vertical-align:middle;\" /></a><br>"
      ],
      "text/plain": [
       "qmult_complex_in_QmultCodomain: forall_{c in Complex} ([c] in_c Q*)"
      ]
     },
     "execution_count": 22,
     "metadata": {},
     "output_type": "execute_result"
    }
   ],
   "source": [
    "qmult_complex_in_QmultCodomain = Forall(\n",
    "    c, InClass(Qmult(c), QmultCodomain),\n",
    "    domain=Complex)"
   ]
  },
  {
   "cell_type": "code",
   "execution_count": 23,
   "metadata": {},
   "outputs": [
    {
     "data": {
      "text/html": [
       "<strong id=\"qmult_ket_is_ket\"><a class=\"ProveItLink\" href=\"proofs/qmult_ket_is_ket/thm_proof.ipynb\">qmult_ket_is_ket</a> (conjecture without proof):<br></strong> <a class=\"ProveItLink\" href=\"../__pv_it/theorems/75d52b88318aa067c0b726dcab4bb2bfacecaa8c0/theorem_expr.ipynb\"><img src=\"data:image/png;base64,iVBORw0KGgoAAAANSUhEUgAAAUwAAAAfBAMAAAB+LemBAAAAMFBMVEX///+IiIgiIiIQEBB2dnbu\n",
       "7u5UVFTMzMzc3NwyMjK6urpmZmaYmJiqqqpEREQAAACk/Np2AAAAAXRSTlMAQObYZgAAAAlwSFlz\n",
       "AAAOxAAADsQBlSsOGwAABOJJREFUWMPVl19oHFUUxr/ZncnO7s5uJzWtYkoJixhQCovtg5RAJzUo\n",
       "tk0dQSpKyS5FX+3G1Tz4stNW9CGkWSoVBatb44PFYhYptKTBTjSlVSPNgyJoq5OWYontZBUqpXmo\n",
       "59752zQxS9nS5JCbmb0z++3vnnvOufcCDbRdGQP3wITMuobqlXGPbOL+YBpY2Q7f8zFq9HmhV+8b\n",
       "pjCJLWB/jqULCH2aY4cdTItdzjcKsz61nxBgCkCqOg9m/yd5QL7MhsQwR1jfB43CrEtNKocwRWpt\n",
       "d2Imjw/VgCZ6cpBj9tF/2WoUZl1qSTOE+Ty17jsx/0KEEFeowA8cM67TiCYbhVmXWhQhzF+o7Q8w\n",
       "12YyLMJTeayg0f5BCRTVGaZCQ4s3LIXqUjsSxtSoxQ3v05FV/ls5erKLPTR5pj+RyWxoXKbXo3bM\n",
       "w5RaVWhCGSnNxZQPBm8NV4C/WfDmOeZx4HLjMB21qhuE87/2kYcpprKSKVznOcQx46FV7Dma+ht0\n",
       "Vcoc8x3IxNv/XoEPiiXiUxv0Z2cL36CnJl8MvkYpKTQ/oy2C6ajxJDKh+FEakgfWeZgDyTbFQBas\n",
       "QDiYgVbfJtu+lGVh2sYx07pYgaLlKoiQm3tfm0Y6DyGLXsg1vB58L85clcwvgsnVHEzVucZW2xVf\n",
       "nttGD1OPqiJ3fZ+LWcyQOYXi6L8XLgyzX4vVOGZKJYBe5AzsY+WKrQock9x6G+YDYONeDJOrcTyZ\n",
       "XHmCricLgfwcTAwbIiTVq/dAT6DFJnyQsgeJrLNYlsdYdwnYCqyBhynNMMziWKuObZ3yh1+M7O7S\n",
       "39dhyAfGturyNpqmltWGOK5iDbXQYsnVLBzOK3o7+ilQTATyjh3yMb/CAESdLwgcMxJgpknsXCGY\n",
       "dHTz9FoLPAaJOzz9SNf2LAYZZslIleOTSXPoc60I7P2H6EqGUG7SooZYTWqHMJrQ5NswuZoF7bqA\n",
       "a0j7DuLyrk35mF/jNH51FgSOKahBPaLbU+xGsRzMfWwiX7q1fn0NCdP3JnLcm8DNElIWOYNu0Tuj\n",
       "8i7ZSJs5Q36xht9jsz/rYUyuZskvtwk4i5SJo/yJI+/a0z7mkKEpFWdB2OI72rFzpHoJ71Icqg4m\n",
       "36DgBst85WPbvjYHs+PbiYlKkWMaLJ5ZF1pWqsM00I6J7/HlrUoYk6tZSGoDVLljGr6zbXvSlXft\n",
       "Ux8z9srVh9y5djB3THtjtqlteutJemiENnKJNiSrTHY+b4KlUlEy86zCsa64mV41qPMkjOnB7/s3\n",
       "FqX1adlE0sAbIXnXIgV/FYrxkvVbsFh+djHjqFyhdupxgt4b3m8mNcRVt9CHMEuGYqVNySS2XGzy\n",
       "JiuKFJtWTo80pzVJvYqdtAuz5sFsMtW3eWCm9ZC8Y0rVxxR0D2mh/SZGw5jRAqLqq9hfcMr75tk3\n",
       "d1d3zGLPRAvQ1SzPnIB4DCNdXZRCP7ZCGD0zRd0QO9VU57gxD6Z0cori/GFKjz9D8q5d8TFFb2O3\n",
       "ICbfb/mYe2hz96gBabs9vciKWKxj9245ZZP7+QXbrnjyrvUE3uT5bf4PJp+NuzhklOrDVEg+oS7g\n",
       "IROb2/GgT8LOQhsX0Dx7d2cheaZaFybzU5O+JE+WB7xzunuRG3VO78DytN7x5UAZy8eXA6azcC55\n",
       "i+jScsBMdJ9fklz/AbvyfnwtIblyAAAAAElFTkSuQmCC\n",
       "\" style=\"display:inline;vertical-align:middle;\" /></a><br>"
      ],
      "text/plain": [
       "qmult_ket_is_ket: forall_{H in_c HilbertSpaces} [forall_{|psi> in H} ([|psi>] in H)]"
      ]
     },
     "execution_count": 23,
     "metadata": {},
     "output_type": "execute_result"
    }
   ],
   "source": [
    "qmult_ket_is_ket = Forall(\n",
    "    Hspace, Forall(var_ket_psi, InSet(Qmult(var_ket_psi),\n",
    "                                      Hspace),\n",
    "                   domain=Hspace),\n",
    "    domain=HilbertSpaces)"
   ]
  },
  {
   "cell_type": "code",
   "execution_count": 24,
   "metadata": {},
   "outputs": [
    {
     "data": {
      "text/html": [
       "<strong id=\"qmult_ket_in_QmultCodomain\"><a class=\"ProveItLink\" href=\"proofs/qmult_ket_in_QmultCodomain/thm_proof.ipynb\">qmult_ket_in_QmultCodomain</a> (conjecture without proof):<br></strong> <a class=\"ProveItLink\" href=\"../__pv_it/theorems/8c601a1595a0d1a1765922fc2da9509d7a8bb6620/theorem_expr.ipynb\"><img src=\"data:image/png;base64,iVBORw0KGgoAAAANSUhEUgAAAWAAAAAmBAMAAAAIOVy6AAAAMFBMVEX///+IiIgiIiIQEBB2dnbu\n",
       "7u5UVFTMzMzc3NwyMjK6urpmZmaYmJiqqqpEREQAAACk/Np2AAAAAXRSTlMAQObYZgAAAAlwSFlz\n",
       "AAAOxAAADsQBlSsOGwAABbZJREFUWMPFmX1oG2Ucx3+X5JInuUt6nd1gttQQXyr6R6ubOFDhNjt8\n",
       "2VZuIoOJLEEZiH9s6bJV/ENyYyKM4RpfBvqHErF/OCf2HMPVTfBqK3Ozk4Av/6jsOtRCdWkmdnbt\n",
       "Rnye517TXdpcjU0gd9zzPPne5373e3meJwB1/FwoX6t1KKd6UmaP0NMX5el68sKPtQ/91KP0i5J+\n",
       "vq9BwHzOozSvNRY4I3nVHm8s8JuetfvlRgJHvccOpzUS2Cd61kYzjQTOSt7Ff20k8C5yWNGBrIY0\n",
       "AJNIVzOuQo4jjQSm9eVxCOTNhgn8ta/mZbR9CvGg/oIOTH3557oB1yQXmqkAFgB+cgeOPntVBHTi\n",
       "d1IWfYoOfIqc3qobcE1yfKkCGNvP5wocGX9h5CrAsdeIy3M5HbiPOIlWN+Ca5II5JzCLLRwouAG3\n",
       "4s5OIbDxETKTYEo6cFjSh9cJuCY5f8oJHE3rz2gCtycSeuEOkAcfjAOiw6P/6MA89o9w/YKuJrkm\n",
       "0QkcMLzIAD660hw2SDzBjw1Li1zoupEl7k0k1tYxS9Qi16RawFs/wcCrAb43gdERaxjVCZfMGeY1\n",
       "A/gkwG91BNblFKOeVpkXFCxg8Tt4Gm6RSNTpwGHZShGz9DpuXl82gF+hPnLojTRE9YLJPrxWemwu\n",
       "/SXsKKGL9l3Im2tu2bsYsC5Hw04F3vJmhz4udBYwKhyHr8GPHy1vAts3pMnPr5jXfxvAMQmP5MVk\n",
       "Hnz4F727JiGWAqYLegGVYI9Ng5W49MITbwJM5XRgQT+HVhXzlr7unHkTmIV7cFbDLyKUMoAzCfyh\n",
       "Pw9SC2et+jdnAEcFjNILSRkOYKST5J4UGJu6AvgmIJYILgZM5SgownYcwufTaVt/voUhMoOBtwKx\n",
       "vg68w1JjrpDjHzAfGHLDVARgE0AbmMDsFAHODLdKsHk9evvYqd3dUngnIPT68CYJbcYFomWVjLug\n",
       "bVSoKM1UToP3UrzUAYfwffXVm65/AzAXx8+1kbquDuyz13HlodCjvOXCrOnDsIXGZTvAXcDSdxG7\n",
       "rbunC/oJcFaO5sIFTn3/AzGDbdZ5dx43Mbmg6JcDCifirnMiqgSmchqI0wxcgphlMqpvBp2dJTiN\n",
       "l6KY9LAZdIylBnvKD0hHrXkdMrMEHCB5eXt5zZoSRFTLwpCkFgaYzUJUw/bJEHdsv0ybkBxTkzKS\n",
       "cNfE3A9SBTCV09BTcQaHU1SFj2iXrm98koLtEusCcI48ppWH33GslYFR7AmImYchRt16hiwM+XeL\n",
       "xUvzgB8cGRvLZygwIm+WNEHLCmGQTPlw18flfAUwldOAE1/F3hkS4WyxWCwY+malU+zC0dczTBJZ\n",
       "3ALeNmkaAH34zfOOicVsxfQyEgdOIfpuFgYSfBlWDRIXI01hNbayX6KOGZJsEHt6qeGU8BVSgZNh\n",
       "r0PfTDiao9K9RHOuYpfmgYtGae4s4zgLmYj8dAUwJ0JYMEqIAzgr81pMZVVMmQwVmvI4zWIf1pKS\n",
       "rzkmsgLuOq+A5gYcVIWXqQPHJIe+cbMuBzCtxDHZZfKDvi1fOXPQbOXiFcD+NPiFnXA4rReODXP7\n",
       "divb5mD/WAtAdzOaGoLACeAGukXInm8F5vMz47iZdEXXj8puwOzpcRwQN+PbTjj0ncYygOlL3V5l\n",
       "PvzMX89Z68BUBfB+nGLvkIHtKU4utqVQy4pD09MwNf6TxWLe1DeC6boDmNq9bYEVhxmp6hKXSNka\n",
       "gXnsChHBfSCtBhs6mLRjPHPrwsAX5KUBoymlNmCGVNcqq+ORJcysPvtfF6HGy0fVXm/eu/hDjVw1\n",
       "B3KetensxgW4d3RZ9tbuX2hN3ea2L+QvuAKHUuFlAT67QF8fuNl/tfvuZSy9PLuXYaF634RrrK9z\n",
       "B/ZJ7LIAs3dW77sdXHLLEwV34MiW/7IJ5OE/joPVtwMHflFvbPyTHuv9H4eXdO7N91grD/4LInrG\n",
       "xZmUtbQAAAAASUVORK5CYII=\n",
       "\" style=\"display:inline;vertical-align:middle;\" /></a><br>"
      ],
      "text/plain": [
       "qmult_ket_in_QmultCodomain: forall_{H in_c HilbertSpaces} [forall_{|psi> in H} ([|psi>] in_c Q*)]"
      ]
     },
     "execution_count": 24,
     "metadata": {},
     "output_type": "execute_result"
    }
   ],
   "source": [
    "qmult_ket_in_QmultCodomain = Forall(\n",
    "    Hspace, Forall(var_ket_psi, InClass(Qmult(var_ket_psi), \n",
    "                                        QmultCodomain),\n",
    "                   domain=Hspace),\n",
    "    domain=HilbertSpaces)"
   ]
  },
  {
   "cell_type": "code",
   "execution_count": 25,
   "metadata": {
    "scrolled": true
   },
   "outputs": [
    {
     "data": {
      "text/html": [
       "<strong id=\"qmult_matrix_is_linmap\"><a class=\"ProveItLink\" href=\"proofs/qmult_matrix_is_linmap/thm_proof.ipynb\">qmult_matrix_is_linmap</a> (conjecture without proof):<br></strong> <a class=\"ProveItLink\" href=\"../__pv_it/theorems/f39d7aab5b28d776e3e71ac5ba5669398ff962bf0/theorem_expr.ipynb\"><img src=\"data:image/png;base64,iVBORw0KGgoAAAANSUhEUgAAAWwAAAAXBAMAAADdI2g8AAAAMFBMVEX///+IiIgiIiIQEBB2dnbu\n",
       "7u5UVFTMzMzc3NwyMjK6urpmZmaYmJiqqqpEREQAAACk/Np2AAAAAXRSTlMAQObYZgAAAAlwSFlz\n",
       "AAAOxAAADsQBlSsOGwAABN1JREFUWMPVVl1oHFUU/ibZyczOzm7XqMHfuORBjVETxB9I1S4+CG5I\n",
       "mGJeRBI29EGf2g2RCvrQCWqlWpoUFQo2YTX+VBQcIVBpGljRBqtp3Epp6g8SxVpp7ZoiaK0/9dx7\n",
       "585mZ2aTXd964OzeOffcc79777nnfkAd0nwT6he7cljVGLpsmAeHr63sIkuLMpfjLnr9ODL/A7VS\n",
       "9A2rFuR6gtTXvvv5tDlVaLTlWjxLVsnCSIIrxVhivd/WCrsebyHHBNCFi0W2ht/OhsA2NnUD8TTQ\n",
       "dy8e/d15rhnrLLerbMnH0nxpXDM4wHr31Aq7Hm8u6ri7v1vYLm29ELbbM1/9CzwCxK4hZAsOhjDl\n",
       "9pQtI2igdUctoRlsZUexVCvserzFxAUBVP/Yod+55RDYiaxBsA8CTycIUZODezCtia6ypRVjZDMd\n",
       "oRkOPlKsFXY93lwa3Ww2d9C2mw8vebCVH9raResGS78S6AJOJtj6kvoyblkUXWXLEBYi1L5LaAYm\n",
       "bUe05itZjzeXd1zYsRjhemEsKWEbu2X6Yj3/plUtvSi6sriiILrKlj3YTmvDXqEU4462tjtrryR1\n",
       "eHOZlrAVyo/kFzkJe4eHWrnAkykNPfuEvyYGLA8KpRj76SxWnTm9Evaa3j7Z68LeGT+PuLXFK4Dl\n",
       "ax3t4r8FaOn3fIODlsNCKcZ2WtSqMzsrYa/hbRQwXGG4zQX6qfYPBnC/B3vc8xjj8alO6M5r/t0O\n",
       "WL4USjESViQfCkHryODyrA+28DZ+pSSN/ZVzj/nM0Kg5O3/gGH3Paw7is0e8E+p2gTo4h6R+TsLW\n",
       "KNnabhc3ks/eSL9Lz/ohBCzbhFKMeDLsjg1vPo3jEStm+WC73nO0nLeoLGgtpbz6kx3/0WhFN3sx\n",
       "zB7yaUVXEPb6uG3+IWGr5SL6EiRsXjcqJGCZEspijH8UUm73s9cw6UTQM9Mxk1/xLgvv2RTU72jH\n",
       "Z2iDIxuBT3BKHW8iP+0X6n1M81BNiGFaAZMDaOrykiTlJcLf7NeKUlV9l1VprDz6gKWcJOh9pUxW\n",
       "JJG5jvksfj0a8ec29wY+XIa5LgeFFaqBpwgWUvF0o0kPBCuRKeUzOeR7MUyxsSmJxqwH+zJvg+6j\n",
       "WUdyiaT7JipyxRb8FsYRhLIYz1AwSVZEyxZnuBgZeCMAm3lDL5zHPsqxQWY9cYKdelbJN11Fdx/z\n",
       "1I73rqxYNKyBctjGtqQHOyrfrPc3XOw4MoEIC/vQy9bAq5IV/AmfhckHQlmMBC3XIyu8ZRm83C/C\n",
       "aQ3ATvAjsSfUIvXx+nToUCULqfh6nQ9r6rwVR3G880ZLwlY3vyn+H1e/6bzbhpHifG9Dh+R+aLP8\n",
       "FpKbhXoEQZIVcCJjTpZKZwl2f9Rft92TxbTJzv9wqVQqPvn2KhWxIYdw4mr0ycddSIBCx60QTp4S\n",
       "6kWUZAWcyGhpsdvG0XCqHEPrPlBZ4I8Yu5JqNdiC+NTAtz/3GyJViJkkZ3wZLlnphyAy/CWke9US\n",
       "PuMoporaMqvibGyPjd6q2/1zjbATts+wMcRpl6syhiQrI0VBZHbR2RrtOSRCZ1Ta84O4mriJfop9\n",
       "9k+eyVWFPVgjbNVPhwshTiddDcRwL7jaVzodHPVAIAH7S6X86qREL1QOa+6u4rhzbYJj2kIDMcLu\n",
       "wSUg5iWC8z+/mGB+mjmVLwAAAABJRU5ErkJggg==\n",
       "\" style=\"display:inline;vertical-align:middle;\" /></a><br>"
      ],
      "text/plain": [
       "qmult_matrix_is_linmap: forall_{m, n in NaturalPos} [forall_{M in Complex^{m x n}} ([M] in LINMAP(Complex^{n}, Complex^{m}))]"
      ]
     },
     "execution_count": 25,
     "metadata": {},
     "output_type": "execute_result"
    }
   ],
   "source": [
    "qmult_matrix_is_linmap = Forall(\n",
    "    (m, n), Forall(M, InSet(Qmult(M), LinMap(CartExp(Complex, n),\n",
    "                                             CartExp(Complex, m))),\n",
    "                   domain=MatrixSpace(Complex, m, n)),\n",
    "    domain=NaturalPos)"
   ]
  },
  {
   "cell_type": "code",
   "execution_count": 26,
   "metadata": {},
   "outputs": [
    {
     "data": {
      "text/html": [
       "<strong id=\"qmult_matrix_in_QmultCodomain\"><a class=\"ProveItLink\" href=\"proofs/qmult_matrix_in_QmultCodomain/thm_proof.ipynb\">qmult_matrix_in_QmultCodomain</a> (conjecture without proof):<br></strong> <a class=\"ProveItLink\" href=\"../__pv_it/theorems/853df47502857493e8d415bb9674c585bb6dfeeb0/theorem_expr.ipynb\"><img src=\"data:image/png;base64,iVBORw0KGgoAAAANSUhEUgAAATUAAAAmBAMAAABXBBG2AAAAMFBMVEX///+IiIgiIiIQEBB2dnbu\n",
       "7u5UVFTMzMzc3NwyMjK6urpmZmaYmJiqqqpEREQAAACk/Np2AAAAAXRSTlMAQObYZgAAAAlwSFlz\n",
       "AAAOxAAADsQBlSsOGwAABOxJREFUWMO9mH9oG2UYx59rflxyuUuD2roxSUMEce6PVREnDtf84V+W\n",
       "1mwE/5Ft2UT8Z6wpHf4c9IpY0A0bxIIKm4EOrTD0wLm51UJ063RS9QRti4iNsjloZ5pUS4tdie+P\n",
       "+5Fb7tq8gd0LF9737vve+8lz7/O8z/sCsBSpUslDAyXE0Ms3THpUKkm2MaQ0NFTOsohfplAed9jE\n",
       "LJO64CZbH9swf7jJ9g6bfEh2j01aYvScgntsTQk2fWDFPbZ+xlHgqntsh9HFxTPmDUvDUo6R34vu\n",
       "sd1ElzdXfcfaMss3z3iJM6iUjcy73+pnY9KTwq9oNOLCGm637VJt2KY6kDcf6z5EJqhC2S7gxrv1\n",
       "szHpaSwt6ZbylzFqT87Gbp/cfbQjC8L5FuKoWcr2AnaMQv1sTHpS/Fmd7fhOjNpj8005ZKk9ZXgi\n",
       "RRYsrkTZgqjhVetnY9LTAJ/W2b59D/1M7DLZovE4Xc660SUsAgzSYZYpm4hShCCDLzDpSWlO6GzK\n",
       "Z8jmo2WD7eMWTSKQ6NyBntIZuqb56UPx+MMsfsqip2x5g60NfS9xWWcLDBumJdH5AyNNuqmxnQO4\n",
       "tu67E1a2DfU1y6OqsQXyszL84i/pbEFZl8yS9ttGl7LGNgiB9aOWYmXbQC/kofeWZUFnE+V+1ad6\n",
       "CgabIXmKUO402v9qbOGkQyTktz0Jd6Zr2KheWIggX1/V4js3f2BAHJ+88DNqT/IKSOPfm9b+NKex\n",
       "haA5wsFQRGfri6NCXL4Ht/llo8uqxiZF7KZ27+E5mPImQ8kaNk1/GVU/RC/mW4s531+ydFWIwmMS\n",
       "IhI7kSYK7bV2C4FHmYEfMzrbPkPShr9EWKlhg+xXNmnKORz9I4oXOse2jeUsaxbVj8fA9zsywRge\n",
       "ajfAJbjuy/qRkr+Bnj7PF2rZjkLwmgrPGmtWkyHZvyofkb82twz6fIMu5C7il72t3GX8hVBtC8A9\n",
       "WDL964C3dr4RPcAXJRCbM8BhJ9z7CkKCmJTwiACv4igT474zfUH3003gfxDgEYONixjTZ/s/nwvD\n",
       "ZpKk+ym8hgYUR/KeNIdHxjXZR/71tHfvKRs2rEc+twKj/dp3mZnBfzbN5fybgE/AJKpLXaZRIhpN\n",
       "DLgV4MvmWn/CfHMStlTNdD2+QRiZ6/U7oDkXwvMX15IC2bNNgxK1YQsT88onfCp6ehrfnpiw7uJu\n",
       "WRcUSnNwMS9FpIOLzxlsT8/pedCbp89WOaTwnyVHOgB90KTS2giIJ4vFvxFbKlgb37QJCWdEvOm4\n",
       "UiwW1Rc/Wi8GBQuOOdKpP+ma1VSpKFVbHnHJwrYDojDE09oZnk9Quwk/OeVvIYiOAnL6I2So3TXG\n",
       "qvar9o3zt+MLlUMvvW/0iFWzBUrIXj94IYVrD0zTyI+mc6sT2wCMqHwJRzvcu1OGLuccaame3HJq\n",
       "+33GMtGUrmYT0ignG2yBPhXV7srDW2hOCVszEHZg47bm9sFmtK4GruNm6uR8xvkQYa3uvFf3nrxt\n",
       "Tq5lP77u4lx9OXmqWMxtsKDOYxrLfuHe9bvMynZsUvI27BcusnY4b7uXEW/HXmZ/jrHD4+7ts7xZ\n",
       "Nj3X7uJ5yA6nB72XbJN41UW2K067w7Rtdr/ZzXOkYMT+ftg28AQedZPNd7/DIU7SbjXZozbG1uB5\n",
       "7xv24whddgcENxo77220BDIMRjYizv8AN28EFMLOAgAAAABJRU5ErkJggg==\n",
       "\" style=\"display:inline;vertical-align:middle;\" /></a><br>"
      ],
      "text/plain": [
       "qmult_matrix_in_QmultCodomain: forall_{m, n in NaturalPos} [forall_{M in Complex^{m x n}} ([M] in_c Q*)]"
      ]
     },
     "execution_count": 26,
     "metadata": {},
     "output_type": "execute_result"
    }
   ],
   "source": [
    "qmult_matrix_in_QmultCodomain = Forall(\n",
    "    (m, n), Forall(M, InClass(Qmult(M), QmultCodomain),\n",
    "                   domain=MatrixSpace(Complex, m, n)),\n",
    "    domain=NaturalPos)"
   ]
  },
  {
   "cell_type": "code",
   "execution_count": 27,
   "metadata": {},
   "outputs": [
    {
     "data": {
      "text/html": [
       "<strong id=\"qmult_bra_is_linmap\"><a class=\"ProveItLink\" href=\"proofs/qmult_bra_is_linmap/thm_proof.ipynb\">qmult_bra_is_linmap</a> (conjecture without proof):<br></strong> <a class=\"ProveItLink\" href=\"../__pv_it/theorems/1fdfbbdd1917c17e57526a1be02081fc290a64500/theorem_expr.ipynb\"><img src=\"data:image/png;base64,iVBORw0KGgoAAAANSUhEUgAAAZ8AAAAfBAMAAADKC93LAAAAMFBMVEX///+IiIgiIiIQEBB2dnbu\n",
       "7u5UVFTMzMzc3NwyMjK6urpmZmaYmJiqqqpEREQAAACk/Np2AAAAAXRSTlMAQObYZgAAAAlwSFlz\n",
       "AAAOxAAADsQBlSsOGwAABfRJREFUWMPdmHtsFEUcx7/Xdrt7ew+uDfoHL5srikDUxqImhMgV0YRX\n",
       "sySGhAhto5IQE3ErSKLGdAmvEJJygESjaE9B1Gh0VXxSkys2GrDgaXwEg3oQK0j0KG+khvqbmb3d\n",
       "ubb0Qc4AnfZ3u/vb385vPjszv9/MAnksD0YtXNFSGk3ltb44rnQJJq8KIAul4wAte6nBFzUvadpb\n",
       "0Ry5SoB8KcykQ2P2uijB/i9l2g2levzGtTE9AjBhQGmmPpgvoDA7hAb5mr4HB5rTN9COygQ31T49\n",
       "y+gNoa2eggfO2hhNp6MF0GdM/Xy+gAKsIf7BhQYlLoDK+gQKfN6U5qa7nprK4o+jHRED9tvwEx8T\n",
       "AlrO+i2dLyC1Th47AyuBJAcK2X0C/YF308w0bCNKlyeE9ukwURTbCNLDXJKcqyiVtzm0RR47AyuF\n",
       "4EBhsyeQ73B0vDN5zmCFwUx/BC4S/XmhbmdjXKPZcwe4EBCLC/78BYW2wceGNwXQfPQA0jcaLrWd\n",
       "NYVymjrFGZ/p9c79rUIYze3R6KT8ARVGo+WxwT21UwCNAlQTelO7B7TO5cENiawp9AvAsIiIcXXL\n",
       "nPv3CWFAH1PH5Q8oYCLsNQO29ItA709tFUBl3ODJvQ97QFKs2uyaoqgD+E3EHTX2tnN/jxAGtIY4\n",
       "gfWbTYTEq1XumWTM6DR3o6ZDOyw5prslw5f1A0R1rZE0aekXQXeqSt6AWziQTo34CahDsQfkjV2t\n",
       "0zVVH7qYyVQ6avsVx+A7IQwobNDTwVhtAgVUS/2SYwjXwVeBemgdeDw3KJv4qL/E2s5DcK9A/Khe\n",
       "n0m43niZzIFYwI8haFA3ZYFUmg3RW0VMuOCa6t88+svPZ7M1rnJOGoQwoFCEYkI9ai2spE6nAegA\n",
       "UVflAJGKgkxxf0Df5sSEXKBPSHaZnjcZyJdkQD5grgukeNnEX+GasuGm/QspyrGyTQhf+sRbHMRZ\n",
       "fGY6QMpxBrS0ZaSBotbIuhd27Th9r38RNG1TyyxDm0352Fe1GLOrMKo1IgP5g3QZhLo5KQMJBYUk\n",
       "XxKeN1Fe4kAsZ9p4HVjkDTk31WIDe0zhpviT6j/n6N/iEzaRM+Qwh+UOjAEmOO8kPHZ6dQU2MKAG\n",
       "KxSnapr1yavUCmi3TUyQyhcvjhVa1KKd/lRgb0zLASo6QC7ewJrVcRlIKOh11ghL7s0ph0RQOAo0\n",
       "E9I80wMqcYE+oOml3sVNFcqpAYoLMLIrBR952Q8uHGgly+7zuyorO6An3R5CLe8h4ILagV9JCAjq\n",
       "mBNcpVnhpHIeqxsQOtL5gyEDaXfST4T+YjKQUNAiT0Ql4U2KuDP5Ms2/8bmvJ0h5yJ+NIvqprpPN\n",
       "B1LcNHiGWlihmco/7M6MZ42FL9LxPSEcSKTo8wjGEXw5k/m7G9CU4JS2vUTDeoiNFabC8NKITi36\n",
       "oq0t8U5XIme1fYQBKSlEcoC4Qo1hTyaTSTnenPKqACqgw+6usXJiVZa8JkzmWQvfP7VYmIapzsJz\n",
       "2yxEDb7anjqRhfCbhXjbB70MAZt57LWHoJYR0IJi5pap/MnwddoZPhVUw2uae1LnQyglAwlFwMIy\n",
       "yZtTCkwOxNZfgWTu0kevzi59PNMwtT9w8kOKZlK+08qEeECBGPwRJ8VKQA1WMI2/sIC6R+l4ZliC\n",
       "kgzNoXStUVCC3zGXBt4+2w1iHtCXy9WdOVFOKGrgZF3Hm5OebA7EVsiFZt/7oaAtXRR1W+Ay8YCo\n",
       "qsLIIjSaIrFO63ziMXteJ1a0DacnqyKNnRQEYoHt02No2DcSvuavDjE1ppeEqlqtHkChprsTOUBC\n",
       "MYKafUTy5pSjYvuwRWSTPjd4R6XzudJ5oyMe0ApKMTdZUKozx/pZ3ywdyI61pXseasle3Z/JJLLe\n",
       "nFIjgMiktD+gGulc3ka2O3I5W/CGgQA90h2IKfRI749pSUwbBxbU14oUbvrKE5c07XUoWkIuB0g7\n",
       "bg8A6MbuQExRbFxrX3029fguZ8mfarT//7tceRJDvdS3Di0etc4/tIDC5hAbcQWGMrSA9DkHr3GC\n",
       "/wDttOHlYwBbcAAAAABJRU5ErkJggg==\n",
       "\" style=\"display:inline;vertical-align:middle;\" /></a><br>"
      ],
      "text/plain": [
       "qmult_bra_is_linmap: forall_{H in_c HilbertSpaces} [forall_{varphi | |varphi〉 in H} ([〈varphi|] in LINMAP(H, Complex))]"
      ]
     },
     "execution_count": 27,
     "metadata": {},
     "output_type": "execute_result"
    }
   ],
   "source": [
    "qmult_bra_is_linmap = Forall(\n",
    "    Hspace, Forall(varphi, InSet(Qmult(Bra(varphi)),\n",
    "                                 LinMap(Hspace, Complex)),\n",
    "                   condition=InSet(Ket(varphi), Hspace)),\n",
    "    domain=HilbertSpaces)"
   ]
  },
  {
   "cell_type": "code",
   "execution_count": 28,
   "metadata": {},
   "outputs": [
    {
     "data": {
      "text/html": [
       "<strong id=\"qmult_bra_in_QmultCodomain\"><a class=\"ProveItLink\" href=\"proofs/qmult_bra_in_QmultCodomain/thm_proof.ipynb\">qmult_bra_in_QmultCodomain</a> (conjecture without proof):<br></strong> <a class=\"ProveItLink\" href=\"../__pv_it/theorems/d9d0aa34c16c70d5f5074d5d12a20a886e556a350/theorem_expr.ipynb\"><img src=\"data:image/png;base64,iVBORw0KGgoAAAANSUhEUgAAAXwAAAAmBAMAAAA1qz3cAAAAMFBMVEX///+IiIgiIiIQEBB2dnbu\n",
       "7u5UVFTMzMzc3NwyMjK6urpmZmaYmJiqqqpEREQAAACk/Np2AAAAAXRSTlMAQObYZgAAAAlwSFlz\n",
       "AAAOxAAADsQBlSsOGwAABdtJREFUWMPNmX9sU1UUx7+v7Wtff/JA0BAWsiyoif9sCoqRGR86g8iP\n",
       "vPAHZonSBkNA/5COCoRosockGGPCigYjieBUQkQS1ugSxlxi52aIOqR/qIkRpBCVZCKrIDi2Yb33\n",
       "vh99r33d6KNxfV3vW0/vPffzzj333HNvgSpe5/ITDlv2VVSb38duX+SvVZMePzptGIxVVn+HrN4f\n",
       "rA38ryusH8rWEr6vYozztYTvlypt0aHUEP45ueLJkq0h/AUVtxBGawff5yD+/Vo7+F7qCVxDHFB0\n",
       "kYJZ95YzfIqWA7WDPyNNCk8nIcvqoqfZn23M3JqiE70jo+KzFmeqhu9EXbui4Xsyk+KHn78hQej+\n",
       "nT6tK6Xi99Lbu1XDd6LuNDR8FybDD5zfPnADOLqXxqlgUsXfBvOg3Ta+E3Uv6Pg/T4o/jyQ7jaLn\n",
       "yWU04+FyKr5fNg/abeM7UfeQjn/RBn9+QwMzNDzUKF31EFh+FP5HxQ8RT/JXb+o6Ufe3hs8nS/GP\n",
       "zNFFXdRn3DktPPluapHngYaGRVWMPA7UTWj4HHn07YT4X9nAF/YZtZhWf07PmSc0/OPAb1XEt6oL\n",
       "mkogZR/Ib2r4LlbF995hycD3GytBeIx9rtc//6Xh72be9ObbcYTVzIl/YpG8fDz+JdblhAuFXjxk\n",
       "vsxcJk2Fv1tzTvWKmErglEF8YjHwvb7o6viHCWQcXiBWwC90z9IEd8ricQQ/IpOWISlKnp7MnraX\n",
       "hhGJgWtCG4QctpjSQmrZyfcVFJ+pK4PP7rSHQZ7Y8j49II5p+L3MRl/RIdDxEw3kYoHMy2q1x3XN\n",
       "4xp+WCRgbYgq2EWG+TjtheGTYbDg3wE0UcNMgc/UlcEPKmoPPpEfhdBUbP06hi+CFw38dYYm7jot\n",
       "/0AxPpL97LmAFaAaNHx+hOIn+ufJWLlU2H+0d3OL/I4MRXirf4UsrCSWmn2n4hkUUUfe5qSBqUtj\n",
       "R7MFnwloulKnIufgSRXjt9JZEiDuU5i6hYWMz/f4ngoZrs/rvo9VbHbPp6PJs3GKLGhZ3YQOit+u\n",
       "hJP+TDD90cdSAnjtSi9d4rmkV3IrnlRQOoC+gCRY8am6gCJsajXja4Ks1gO4LHNVdSLokSeiIJgO\n",
       "gt9YCJycoRtb8kvkI8bGQNAjD3ZRh2jNL1yYQyBtWB9RZn1grB3hLBmbBPXbEZGJBCWSjirCMzn8\n",
       "4hv/QbbgU3UceXnM+JrgjNYD//7VhY9ZDUnwaejYP/fVTztNcf+A6XwBXCF0GXEfETYdRhFKInTw\n",
       "8uU/i/CbB4aGOhMMX6GDTkWYPUvsImtU89A3OJbvtOBTdRyeI28LPhO8rPWAGYppe75EX3WJa4Qa\n",
       "r0jmZWvtsG4c4ZNvXzQlQGOWhDlQjyCJuZKt9UGncIJPx2gPVORPR+Z0yPRh4JNDyZKE2Usm4Fkz\n",
       "vibo0XrAh8DnBspBHX+VceJTSBoOXdCShsb8uGlTH7pmwQ9K8IvaimPCb1dC2UiaTxPmqC8zRmM6\n",
       "8f1sVHbNjEi8eAnPhlPIluCHNsZekcz4qoA6vrqmdQN7DfzPdPw95L64XMomfJe/fvINfaSD9RZ8\n",
       "dxxucQP2xNVl6/HxrZtTa8exc2g20DJTGOmBpxu9LS1k6p6aB67v5HkihmepGF46qJRuV366OmwN\n",
       "nEzAUUTmqgTyfq/uFqdlDd+vDmjZfH/9lU36/66YBX8nGfF7FPCrLw9PkRkkbmW3FRKL4j4T0E+s\n",
       "Bxqs1hso0YyGTypx9VPstvQ2aYebxfZbwfd2FuEzwQf2zSI0oHjoXjcLQV1W78KsRyY/W1Gc4Qsj\n",
       "qVvAd8lF+Eywocz2talyI574X7bqgqk0HSQUHRiPVd7VozV0TLW84hZckz1+2+A04Lvjk5xh1dnl\n",
       "6O6MLb4v5p8G/MLCV3ptg92Xc+1PmCPx6XAe0xJWcl20jR8P2+O7ZH468NcoZb+6GzbHz2sy9viB\n",
       "Vbdz4Ob4ty3Tjrz4OnQ2XSq8xMpq/7bl/Hq9otq8keP+B4HpvaiwyWKEAAAAAElFTkSuQmCC\n",
       "\" style=\"display:inline;vertical-align:middle;\" /></a><br>"
      ],
      "text/plain": [
       "qmult_bra_in_QmultCodomain: forall_{H in_c HilbertSpaces} [forall_{varphi | |varphi〉 in H} ([〈varphi|] in_c Q*)]"
      ]
     },
     "execution_count": 28,
     "metadata": {},
     "output_type": "execute_result"
    }
   ],
   "source": [
    "qmult_bra_in_QmultCodomain = Forall(\n",
    "    Hspace, Forall(varphi, InClass(Qmult(Bra(varphi)),\n",
    "                                   QmultCodomain),\n",
    "                   condition=InSet(Ket(varphi), Hspace)),\n",
    "    domain=HilbertSpaces)"
   ]
  },
  {
   "cell_type": "code",
   "execution_count": 29,
   "metadata": {},
   "outputs": [
    {
     "data": {
      "text/html": [
       "<strong id=\"qmult_op_is_linmap\"><a class=\"ProveItLink\" href=\"proofs/qmult_op_is_linmap/thm_proof.ipynb\">qmult_op_is_linmap</a> (conjecture without proof):<br></strong> <a class=\"ProveItLink\" href=\"../__pv_it/theorems/ab6af72158a47cb706273b8362f8ee7fb4e2a6660/theorem_expr.ipynb\"><img src=\"data:image/png;base64,iVBORw0KGgoAAAANSUhEUgAAAa8AAAAfBAMAAACi+F/zAAAAMFBMVEX///+IiIgiIiIQEBB2dnbu\n",
       "7u5UVFTMzMzc3NwyMjK6urpmZmaYmJiqqqpEREQAAACk/Np2AAAAAXRSTlMAQObYZgAAAAlwSFlz\n",
       "AAAOxAAADsQBlSsOGwAABhtJREFUWMPdmH1sFEUUwN+1t93d27vlipV/+Gquil9RGosYReOBBZWP\n",
       "ukbTxBjbRkNiYoSrp/7hP7cNhsSYwAmaaIJyETASiJzyIQImh5IYTJHTiIrBcmAQxHgtLfSDQut7\n",
       "M7O7ve7VcsgF6Cbvdm/mzbz57bx5b2YBinI9FzLhKl7jQ+ki9RyHq3v5U9ccmAnjbxGPnlBkRKX8\n",
       "lyLkGgTzpGE+HyN24U2MqJT/8gW5EFiGCo5ceTCdboGCX9xPIMDUjrxgH9ckmJLyZTf+W2EI0vau\n",
       "sDT9vjRMxj+TOdguqnjvyoNpNCi10BAixS2wo3nBtK/WZpjS7tcfohhllZddBGhDY6rBBcFeo2nP\n",
       "XHkwuYneaKHttJQFtqM3H9ifsCVDSnoSQvj3jFUuD4BCBv1JISnG500XYY29i7dFhbYrBQHmfaPH\n",
       "BvMcD90mXO4ctBik9DPAAHp6r91wrVnP7vdwQTCKH2oxgkfr5cSQjRZYi+eiBeZ727C5k5YSSGfR\n",
       "ASvthge3N7H7Gi5EdXcoNKMYYKWhUFW40HbbLLBk4IIF9qbNBVMTlhL4zgOMCzpT3c215nEhsC8A\n",
       "ThQDTIuAzoxJw+p+dYdv+2mNAPOl5bMW2JDIttpWAi8Gl6NObPKK5bafC4EtZ8vurdURCLAX3DZg\n",
       "ls3kmVF6eIbxWH/ka2joUI473XtRyiteGQUMe13Onp900mwbjtafcBtLWgp3CjANlG4LzPFnpd9W\n",
       "kp8fyGZrHINlnfz+IxcC0w1s7w83JqCEr9VZoNGbaF5yGvQm8FRDMygd8LLTicqmY8doCfqEiG+P\n",
       "Y2iSJ2Sxc+0QhrL6PMbWW+3uF2BTdu8YEGAyrpXQXXxmz9tKvoMv/f5bt2Nw51LeX4wLgQWCONBm\n",
       "aDRhmXBk41F6Z+iiAgynLgfsBha9ykYD+4G/a18UV8JuNmu18Atg4nQbU41cMAmbdAowyclFarWt\n",
       "RG6oXHDSRCTG1dZxYVuq+F6BukCsw21kZhJYYFI7gUX3TjRg4Wzl/U27ltYa6mJQlFV7FxjKQszw\n",
       "FRNMrIJJ+4JDwVQ/++tRsRO2A1HO0W9lHmN2vvmAg2l4q7Jc0Ql9K1NsyZIS/IWj77FrHoGS3uGu\n",
       "CIso48AUgNvFUu6x35N+U21dNawksJgZiKtpLbXuk3AUxzj9jgQWeeJl4VLTm9TCWPVdWMkB8x5m\n",
       "8xDU4tDA12ZG7AGHG4OAtciOcbDNlJkssHJ7+FtxwuV7mZKEwULD+AHMBi2ms0zley4MbBllgKcH\n",
       "a2o6RGyYRQ6UsmcMGtmMAZyPQSCDLztKnj/lDCtSTD3VaCoGVp3sP2QMBVNmMk+MYA+b+exQn76M\n",
       "2xgrtKP1fFDI5dpNAaZa0+nrGuzcczjNlPw4+3q1EpH6iPJv/Blkxj/jwsB05v+94BfhZ+5U2mx9\n",
       "mM3+MwzsgW9aWxNRBqaQO1ERVIwPbsFGVPXpYCJnd3+SeX/tvHOwP5vNpiFGpgNNbmMgW2AfEZjU\n",
       "3mdA2+A7AkxasoFX1pvPft71AlfSsUVpzzoTQgbIf3RFYOPgNNK5lYtzbPFVgsb9wWtQfpfDeWcM\n",
       "KIhEpRRGjhJWpKb0G1cabNXIhj/uPrYEQekBnhpeRIkQw3BjjiuWRKy9ovAwNrY6a0vlKOkYS7XO\n",
       "7djUyDmQVXJxwLQwqEGQwiAtph2ZSNpDwGKmP6OnpBTSNMrpcQlMUrjGMo1GSbkeloJYdSAJGRcY\n",
       "ufRFnqmVgT0b9ATFApcxj7U4aQPrAnMdj5OQm1RzN9EkDlhpBEqDi+UHpa03Q0MfFq+I8AQ9p//V\n",
       "pcn6fmhprcB4Xa607wTvNtDW14YhdmAiePZ8ewyLqSowe5/pAtvaBM/0pRXySm1z3XS8n8pjTLcb\n",
       "nroEMFKyrydyalYIccBaMDFNMyHgnIzqsqdH2TdFL/0E/VQ2aw1yfR5jDUOfRgdrGPKce5Q9IcT1\n",
       "aeBQIRvC2GV9GtBMt7G5ziJJwRz7m0fVCGDKSAdzv8nFDVbIUV5pT17WN4+5LmP+xHXzlWrVf3xX\n",
       "lC6h5P9+V6wqFti1fDXvG5tccpM6NsH0yBj1xBJDGptgvkVHruvx/wsMmOfT9OpjvQAAAABJRU5E\n",
       "rkJggg==\n",
       "\" style=\"display:inline;vertical-align:middle;\" /></a><br>"
      ],
      "text/plain": [
       "qmult_op_is_linmap: forall_{H, X in_c HilbertSpaces} [forall_{A in LINMAP(H, X)} ([A] in LINMAP(H, X))]"
      ]
     },
     "execution_count": 29,
     "metadata": {},
     "output_type": "execute_result"
    }
   ],
   "source": [
    "qmult_op_is_linmap = Forall(\n",
    "    (Hspace, X), Forall(A, InSet(Qmult(A), LinMap(Hspace, X)),\n",
    "                        domain=LinMap(Hspace, X)),\n",
    "    domain=HilbertSpaces)"
   ]
  },
  {
   "cell_type": "code",
   "execution_count": 30,
   "metadata": {},
   "outputs": [
    {
     "data": {
      "text/html": [
       "<strong id=\"qmult_op_in_QmultCodomain\"><a class=\"ProveItLink\" href=\"proofs/qmult_op_in_QmultCodomain/thm_proof.ipynb\">qmult_op_in_QmultCodomain</a> (conjecture without proof):<br></strong> <a class=\"ProveItLink\" href=\"../__pv_it/theorems/ec7ea31420a13ae760a78f8fea64b10a890dc0f00/theorem_expr.ipynb\"><img src=\"data:image/png;base64,iVBORw0KGgoAAAANSUhEUgAAAYgAAAAmBAMAAAAsDBE/AAAAMFBMVEX///+IiIgiIiIQEBB2dnbu\n",
       "7u5UVFTMzMzc3NwyMjK6urpmZmaYmJiqqqpEREQAAACk/Np2AAAAAXRSTlMAQObYZgAAAAlwSFlz\n",
       "AAAOxAAADsQBlSsOGwAABepJREFUWMPNmXtsU1Ucx79d79297W3LRZGEQKBU0cSYrBElxEHSJZ3M\n",
       "B3JFxBjNuqgkPv5YcYLxH3cVgxITNmIwmog0cSYimDXZyHBgLJmJQRYoiUSJCgMFjJBtEgd7QT3n\n",
       "3FfvWtbesWa9Se/jvH7nc87v/H6/cwqU4vJnMqkpVz5UZDl+J3t8nxlCaSAapl5XKrruW4r2fLD8\n",
       "II4UXdLXV64QgoMunS1XCE+k+LItaplCnFEcLJ++MoW4y0FZcbg8IQRH9vKv8oSopBriCsX1z9vu\n",
       "udkkJOm9pzwhZlEnySXY+zbye/Qm1nVTkhqAlrQGwdbG79MPEWBPx367WbUgdueF8L84EoHYeYE2\n",
       "XZHUILrp45Pph5BoRzyq05rHYUL4M/kgvGff7BkB9u6gVkxq1SA2UwXrm34IgWrUdsc1X7EgpEY1\n",
       "D8R8EjRVyVztKho5uQY1CA8h4tIlWBNUyGrHNZdZEHVr4ibEwlCIDTo4Ot7tQYhs1fmvaRA+olue\n",
       "UizsXvJsdVzzPxNClBelDYg9dxj57VSL3GQCmKIK13XrdH8o9EApINyh0J0RxzXHTQgJZ1I6hLjT\n",
       "zGdd9Qwa0fi4DtEFnC8FhBRHgIUQ/ITMX3OKuyzzf92E+AbNER3Csg/+UfYdNL7/1SG2Mv368KM4\n",
       "/GzgTt9QK5dpzmbd0lpud5cvyA9ge9CSyRGxs1dFCkCQVreyj6fiZvppoi2+RK6wpOmwLYgkWhoM\n",
       "CEs0CzTcSZv2EYiAQur4IrEEKjTzXA2JkAtz+xO4ANwOQUYLhCwID52+SfcuzNmd1xV6TVpvDdLJ\n",
       "ELA+j7A204COGhCuSwcb+3SIphC5mAWtZPnN5rCM6RB+mXRqI2IqtmgZi5Q6cj9ICzIIcsVsECQp\n",
       "DBSEOKGta2+TrLeGKH4BcUy5wjxKzkw8Sbx3UIeotxTvKr1fwkQItB5mdMBjWoa7kzTpYr6WQdQP\n",
       "UogVs/cDj9eIn+7tbowqHytQt903Zz/eO0oEzpmrcj/Irt4aG4THJzO5nga9NZEFd8FcYZaNtyCI\n",
       "xlSEdYgKa1+dOSDU+cwB5Y01gdVs7S8E7tVpr5nw56LRPyEyiGGcgictpb74KtIEvHulmybNw0tY\n",
       "Di4pRXbhUBvesUFwp9j4ysSt1ls2XmzNFQa/oeSiYZ28Kc0IMQiXbFK8nqlW9phbDtGwTthCJT6b\n",
       "WbpUN1xcNbntgzkTPIMIY1aiGf4+MogEAhsHZJb0AS4T5RCfGcTp5u+etkGIzHF5466w3pqbzoe3\n",
       "L1cYS8waWgJBtS0wbPiJXVlnHHAlYbcDFCLA9HUYPt011S4ipEf6+/vTdgh3qqe3N9HEIFQIgyzJ\n",
       "VbMY7cTkrOj9yTswao9iL7LgIfrwkN5as2JkTRAGwYx7qjWI+sxO+AdIpKdBrP/HGHzx66OvZgVS\n",
       "o7ZQ3BuEpBFyCrVgb+SfCTKfBIJPkZ4EWdJnOKu0KAQJ2GQdVGSF4jLEa3prr5FfnPZ3ojBLnfC5\n",
       "FXawSw872s7pYUdVZizrMME3ZIOQIvDI4CPgN8A1BN1PZUEM4xgCKT5FpiEmpEeJGyBJC/khLJYD\n",
       "EV6+jOd/08JvOwTV7etaa+KNQ18GEnRhTxSWpfQd+SEsb3gsc/XHbUa+FLRBuONwyxuElXzHEtSP\n",
       "pCBe1J1dVdf6Mb4xKS44TLxTdLY4cABcJ7qjUQjjJ5KY3/u2TJLB1cg/L6jLhehowHMjadaatO+J\n",
       "KvL8O1cYAqZLPq5MDkHafuHKy8Z7RYMNghiWyrtV+M2y6/r7EwW2w+Hid3ZZrbXlEWY5gli6EET2\n",
       "FUvl256edLKnH5zS9lRSc4XVmm8Bujo4a4/90OTnO2o+CCfbye1jU9tj1+YI81kj7ws7CTS/nbGD\n",
       "An6yFH7UiZyVZXp49oiDsq5wAQhhQWRGINzx4nvjTheA2DyFveV0QPhai+/NvEKn4hdnSJ2wo+je\n",
       "iMsLQSyBMjMQa9Vie7M2XQii7Y/ULUDcwn92WacCBXpzmd1L9p/dLV3vF1mON73L/4nyzJCO9czL\n",
       "AAAAAElFTkSuQmCC\n",
       "\" style=\"display:inline;vertical-align:middle;\" /></a><br>"
      ],
      "text/plain": [
       "qmult_op_in_QmultCodomain: forall_{H, X in_c HilbertSpaces} [forall_{A in LINMAP(H, X)} ([A] in_c Q*)]"
      ]
     },
     "execution_count": 30,
     "metadata": {},
     "output_type": "execute_result"
    }
   ],
   "source": [
    "qmult_op_in_QmultCodomain = Forall(\n",
    "    (Hspace, X), Forall(A, InClass(Qmult(A), QmultCodomain),\n",
    "                        domain=LinMap(Hspace, X)),\n",
    "    domain=HilbertSpaces)"
   ]
  },
  {
   "cell_type": "code",
   "execution_count": 31,
   "metadata": {},
   "outputs": [
    {
     "data": {
      "text/html": [
       "<strong id=\"qmult_nested_closure\"><a class=\"ProveItLink\" href=\"proofs/qmult_nested_closure/thm_proof.ipynb\">qmult_nested_closure</a> (conjecture without proof):<br></strong> <a class=\"ProveItLink\" href=\"../__pv_it/theorems/b1d0a1d6f553f92c6cf938fe2abeff38338c89940/theorem_expr.ipynb\"><img src=\"data:image/png;base64,iVBORw0KGgoAAAANSUhEUgAAAKoAAAAmBAMAAACmKh0SAAAAMFBMVEX///+IiIgiIiIQEBB2dnbu\n",
       "7u5UVFTMzMzc3NwyMjK6urpmZmaYmJiqqqpEREQAAACk/Np2AAAAAXRSTlMAQObYZgAAAAlwSFlz\n",
       "AAAOxAAADsQBlSsOGwAAA2BJREFUSMeVl8trE0EYwL9NsmazSdNFrSKWKik+TvaBWEEkVXqQQutS\n",
       "xIto8geUNrVSFHxEFEErJkgVEaoFC0UomoOmVA/WF+LJnHpSG8Ui1NqXj7a2Nc7OZGc37iSZHcjs\n",
       "zuzHb2a+x3xfAPiad4RTULwB/C3JLXlK5Rb1xflF09yinfwbgE/ckj02lBWLcgqW/LJB9fKqwFFv\n",
       "gyotcAqes6FWgC+ccm1at3pbdiQEInnkunH/kpO6rHWN5HzIx1x9bLE3R1zYXCnAqn1fGOpeMKie\n",
       "GSZ1NIjcpLu5FVshAU+0560ijj1jUMeY1AfrTwfjIA+XYSeIQ5d2qiK+sCpuUJMLDKqQAGiZhYZD\n",
       "OFyFGfCgpytVmOoMU6rr4rxBrQgESCQ3o588B3CJePc8+NBl5ClirNJ6Sj0vrFDq/bLsdxkHSRAd\n",
       "mpgBidQGAjuLUUcoNVGyrFMleuc58ap36WWIRIYAxvEgv6fHUjpVTrl/6lQPjfcxPL5O5Wc1XUhY\n",
       "bWKdgVlXm8gJLUr1gvSbUun3g5i/h47Rwn6VCLmQNqCjbQL1/RHfIjIl3fzDPp1a8TT5V6d2BlDD\n",
       "3tOujd3zlLqELKaQRQdq0FaGsA2Rmt5FSvadtexVVADmdOoxStmkHdafMFMh/hy/KjcBykmOIAa6\n",
       "N26hetGjUqc6KCW0FD0RfWGkLqRXaMK2FGAYxDS9zJ0p015jug8MElMTqqDQiK768Vg2sqCkXRsX\n",
       "sLEGYA3IJJFqCi5VTXoNKYQqVaPHdFT3117DnipsNF0bGsCP77VHDe2q787U1HdsQhjNiS2sskZx\n",
       "elGFj5kenXp4Ql/3ymDSFMTyHxrJ6JwRN7ny218fzc3qnrRxD2B3ySL6P5OIdWQyCVPG9NF8hDRW\n",
       "msqGg3fHge6cjOatZlNpuzqdaT15m4pv1l92gfisF65hZYhn1io5kUYWL0BFGqvaSjfiCP9XzjRP\n",
       "oSg4nqmJ+sz5T1wpSjW3ELt6clcEJ3Mmvmndfpq3KgtTxzgLAt78Rtowp1yozw51L6ecK24DKlRb\n",
       "NFrOrlLqmLMdr5j5yJKvuoC9q7dMo4aZqWmDZeZrnlN5FMakn1nCSLstU1vy5BlxO6umU0XGbIs1\n",
       "Yfd/yFP/X2asJjexap5JO+VjhPffhuaE/wBoUt1+/YUhcwAAAABJRU5ErkJggg==\n",
       "\" style=\"display:inline;vertical-align:middle;\" /></a><br>"
      ],
      "text/plain": [
       "qmult_nested_closure: forall_{A in_c Q*} ([A] in_c Q*)"
      ]
     },
     "execution_count": 31,
     "metadata": {},
     "output_type": "execute_result"
    }
   ],
   "source": [
    "qmult_nested_closure = Forall(\n",
    "    A, InClass(Qmult(A), QmultCodomain),\n",
    "    domain=QmultCodomain)"
   ]
  },
  {
   "cell_type": "code",
   "execution_count": 32,
   "metadata": {},
   "outputs": [
    {
     "data": {
      "text/html": [
       "<strong id=\"qmult_op_ket_is_ket\"><a class=\"ProveItLink\" href=\"proofs/qmult_op_ket_is_ket/thm_proof.ipynb\">qmult_op_ket_is_ket</a> (conjecture without proof):<br></strong> <a class=\"ProveItLink\" href=\"../__pv_it/theorems/ceef5d95ccb9fbf01a92a7211c499d1d0ca3d63e0/theorem_expr.ipynb\"><img src=\"data:image/png;base64,iVBORw0KGgoAAAANSUhEUgAAAhwAAAAfBAMAAABe2wnIAAAAMFBMVEX///+IiIgiIiIQEBB2dnbu\n",
       "7u5UVFTMzMzc3NwyMjK6urpmZmaYmJiqqqpEREQAAACk/Np2AAAAAXRSTlMAQObYZgAAAAlwSFlz\n",
       "AAAOxAAADsQBlSsOGwAABytJREFUaN7tmXtsFEUYwL+92+vtvbYLAokBaXMoMSSEIggqGBctDwXq\n",
       "kpgaImkvJCQmGnu1yn/mFogkRqUnBqIJyAkYJKIeWsOr0auWCFjwfBA1knpgGgnotfLQQgN1vpm5\n",
       "fd0dJ/GaKHaSudnOzn77zW++x+wUYEjK8rD+LxVWpIwMp0EITx4i6fF/rbBiJZgiP103FA6dV14k\n",
       "4ypqv+Eo0o2JQ0izSsoL+CMmcnd+IfXNos/5FRNHBjtOlB9HGeXGQcYmlCox7lteSdliwUEm+yMY\n",
       "oKz4es+rnil3p+EWE8d+vPFa+XGUUW4cAjgxX4mA6omziuQGLThUABe2G/KeqLgC0E2k+jQDx0p0\n",
       "nkz5cZRRbhy8EdKsKzEskGIVL5t0A4eHWIeIlvFF3hPeqyCh5GDSwIFkxHT5cZRRbpyt7OISw9y8\n",
       "krLg4aiBIxTl6+LW2M3x4XAuGm3R62l7p4EDG98QhNIyyo2zkF8qou7klcxeqUobOMSc1/qY5ewc\n",
       "bT7y5UcR2m4yM8sd4fD0ocgs5ZNLhLnD4QlqiWFtvBJfgZ9SDMeS3QTHzSzCinTqkjWEuP9gFjPP\n",
       "xLEHoGcocBhyNa4iff9p1nMsYh//fX7WtAkLREHWuAyAZMF3buIV4F2IqQyH+g0sgyqNxtIgNS9b\n",
       "QBZ/Z+1hE8daGk5efDUKIcq/+6peMSPKYvUD07UHB6KfQkOfdMoihCg7Yr5aAgeTS4TMpD0yi+W5\n",
       "HhNH9wWiSyJfgaRVGBG1lssIAhw1NlD7Zhq5FSbzirhaIxSHlP4ADmFAwdQUqqY4bKnlHGu/NnHI\n",
       "GqEYVBsT4GKJaRYEkGDzU2dAjoBQA80g9cHTphAfLn0gUgIHlYtKXXHiwB7ytHdMlgwIHA8D1BdQ\n",
       "YLttG9YDD3EZAm9Rv07PZYBJfNg9vIJw9kBThuLwwFSSZ4lRYWry9uHNljApuYy3t4m9MWbiCClk\n",
       "es3QqMMaNqZKW4DGvQfnQHGQ9bThuAmgxrq+hXFQuaTsmOrEgT3k6QPUBGvhOyCblHwFfJoVx1eU\n",
       "MP71MlBaqJ9X8fSDVOPEsQSgspo5i7+f4CB/o9356cAGa2qOxhiYbZZNeryDA1rI40sbKjIOcjg8\n",
       "vYijpWOsBovmSK+/s7+pVtuogS6t71ioSYvIfmvUGF3sVGBcp2KdAZMLykYnDuwhgmmgly7ib3UB\n",
       "BcwsjcJ8QQVl+MfAQVdUSnL9cMXFnFdt5hXdzFXDcASqpTTMZRGDOYvLgmM+uPqdzgKLaawdb1id\n",
       "8CfaA8Um31pbVwOtiCOmh+K+dCC17W21BWD1OUIhpgvxCtWti8mAuhna/apkw8HkCrDPgYP2RPgy\n",
       "ifgeKZ6vAISSVmHiDxrKECs1RU6TLwCmHwiZnIcBnOTVjym+j+PIBLVQgm3hgvQRQTFjIAkSF+jV\n",
       "MQuONWj2SwenTevjo2ZxmTlnaaTWAXA5BqEMWcQW9NxehXZJupxq1KVH+6DbO3DcZt9ULuxA37Lh\n",
       "oD0R2MUsAd/jz+QrQDtNYdIMKuP5raAEdfItxPTzbDk/7b7csHm8osvJ/dxZ7hLhCN/CBRTDiFii\n",
       "OEt+BqnKuy04ZOrD/TwRAcytwi38G9nsbw4csz/r6kq0UBw6mil2waiRyvtk+OyuI/DeYMI6Aya3\n",
       "rbZJs+OgPRE4nM1m0xDDm6FIvgLgteGgH6VERpuUJontGa4fVOqYJFnZymrD4AYI9V5S2TZsZV2H\n",
       "zr3RxVJs/Rm2aN6fz0dh5+BEvL7d+YHvr4YAs05Rc5MLr1rQOgBDaosnFcE3YJcvJY9u1WjU9mrB\n",
       "eN43OckDrVEbDtYTIVPC8gSeRuDMnQo4nCVnYZOC2kskI3D9cPoHcnddUVatzgDwnOF4q3n39lNh\n",
       "xwZXqnbiCKjgU8CjgmcFCBeBb6EsOGJ6MCOnPCnCoNGbvow7ARI7Mo2aa4SsepRfYRl5ZyZvBsQl\n",
       "KtM2HKwngtsqosjV9rfkBC5engKCUgjHk4Kk0sDRk9uJvmKcZyVZteOgW3IZDaP9mh9/dhzuKLiV\n",
       "Fd57PR/eBg2XyK11UbYNu3/g2aZk/QCs6hpFsuIIqXcviG2wv7aWhNKjY0Fo//wk6QZxjhKa06k7\n",
       "ZxCYAZ5PNltx8J4ISGj+gV11U0h7uoACsl4Ix2Mfk5QiJJh+AGQXNrUiF7FO82rDQa1o6bU/r9fl\n",
       "nYatIqpO1CFknh7UZc+U2Im3XM8BliXRYiHe9kg2m4s12wso0ACFcOC2g7ZUP0xlyx+3PtHgxEFt\n",
       "DLOyrBXVtqfY4eDx6/kwif0zHFZr1fMVmFsYx8Hi53xSilUjbhmBBA3jUPFTY70YjtR10JB6k+XC\n",
       "Yc7dUCCYKIwDV3vFf+0kfX3ev0bYsbbMffuY4jjYyz/qKyBMspyYl/v/LBNSIIRnw3D5e6W5c5iB\n",
       "5Vg14huGYAl90WEGluLSPMMQzOJffOJ/OOu/ADsmNbmDFuM6AAAAAElFTkSuQmCC\n",
       "\" style=\"display:inline;vertical-align:middle;\" /></a><br>"
      ],
      "text/plain": [
       "qmult_op_ket_is_ket: forall_{H, X in_c HilbertSpaces} [forall_{A | [A] in LINMAP(H, X)} [forall_{|psi> in H} ((A . |psi>) in X)]]"
      ]
     },
     "execution_count": 32,
     "metadata": {},
     "output_type": "execute_result"
    }
   ],
   "source": [
    "qmult_op_ket_is_ket = Forall(\n",
    "    (Hspace, X), Forall(\n",
    "        A, Forall(var_ket_psi, InSet(Qmult(A, var_ket_psi), X),\n",
    "                  domain=Hspace),\n",
    "        condition=InSet(Qmult(A),\n",
    "                        LinMap(Hspace, X))),\n",
    "    domain=HilbertSpaces)"
   ]
  },
  {
   "cell_type": "code",
   "execution_count": 33,
   "metadata": {},
   "outputs": [
    {
     "data": {
      "text/html": [
       "<strong id=\"qmult_op_ket_in_QmultCodomain\"><a class=\"ProveItLink\" href=\"proofs/qmult_op_ket_in_QmultCodomain/thm_proof.ipynb\">qmult_op_ket_in_QmultCodomain</a> (conjecture without proof):<br></strong> <a class=\"ProveItLink\" href=\"../__pv_it/theorems/cb41a6fda79450c2f3409c749e29fbcdc9854acc0/theorem_expr.ipynb\"><img src=\"data:image/png;base64,iVBORw0KGgoAAAANSUhEUgAAAjAAAAAmBAMAAAAoz7zzAAAAMFBMVEX///+IiIgiIiIQEBB2dnbu\n",
       "7u5UVFTMzMzc3NwyMjK6urpmZmaYmJiqqqpEREQAAACk/Np2AAAAAXRSTlMAQObYZgAAAAlwSFlz\n",
       "AAAOxAAADsQBlSsOGwAACDxJREFUaN7dmn+MFNUdwL/DzuzM7c4uQ2qoBgrrqcRaLaf4oylYh3go\n",
       "/sLBWhrFcBeFVBujq6f2P24s1paocKSlqQnKCpj4K94qp+CBuEaIEa+6NrTGogg0ikHcPdGDO35t\n",
       "v+/73s683dnjDpe7CzvJvpl9M9/vvPd53/f9ft/bBRiKI1YoZEZG28Yf/ppbHFa+VegRxZCAaR4h\n",
       "bdEqXqwv5+dLvKKGwLxXzXs+qF0welX9iVs1C6bOruY9Rm/NgvncqepFm2oWzNnVvWipW6Ng9CqD\n",
       "bNyuUTDhnXRypSrvWmdOpH/3kmal2VCjYEZTHqhkeV/bWHmtZw1JgIjVj6D5YJoZi3FUAkOQPz35\n",
       "YOJ0zgyrtlayj20iQnX7YBQUZjbxkwrK7+izwej4knT/TALTyU7/OPlgoinWOHdYtX3ICq1NRCgJ\n",
       "jIqfBNMQiFqRXX94pw/gxWV05w0JzEPMhHaefDA6s/8lw6vtLloVCLt6vdcHMxs/N7Apky4XGYck\n",
       "J1vqjKtpPTBRAsMgqtkh8DHLRWOGUdulrAjxa/WRgz6Yj4tYhU9Vdtf/lD/FTKI9AQZ3Y58nfTAm\n",
       "Aq4bCufbhee24dX2PSue59cPK0d9MHZxIq7g82dZcUq1s4tQdzF6tWalqHRRff3FQwEmVF9/lj28\n",
       "2o6wooNfp2NHOBhtnAW20gYxJn4V3VvsuZqLfTfNjqaMBGYdwBdDASaahDg1QBMtpfJXLtWYX5YJ\n",
       "BP2qVUFbFGRdgWSEbEQYRVb/noNRYw1aRunh3pevvr1YEztEYBJevLckMI/SBHvsr0nOFHYcc8OX\n",
       "Jum5m6fMUFeuMxNaHpYk/Aagj1fGXG0PAAa1Pkpffs2VcQffLGrC/rN51LQVjDcuE5E2lv8K7vid\n",
       "B0HWRlHbBPinx8KTYjkcgbmAb8yAcYCDeSKaMF3A1I3F33/RTW9OquSgQx7n0bYEJu6oKTDtphSM\n",
       "StHdqRDF8dPH5lKA4/oj0C1YCroEpo6Z2XG3hCgl+0JM8Buz5WCwhoG57569WL55UwK0Ztis4eid\n",
       "B6Kh63HM7aC2uEhK6MzEJSmUoPH/JV1P2PD6MQ7GCVkq2RiLv60EEL1H/c8pVSaJ1qQHJi2BiVnY\n",
       "0fugyYVF/O5EZyaWG9jTBIbNvRIwWNUgung8MB/xkYm0WGVgWA2Cia6jQbNjSUxTdEvrBaOBx4we\n",
       "lc2s5UFtBOQJoJFj4rJU0WIIjIbv3C+cb7ur0ndmWKvpppedKGRVX0NFMND2NnCW1/G7oQ50DQpl\n",
       "AwRmXjcDM23MawDXTzeefLHz3kbn7w64i88/7TV45H00s9PGuupmS+maXtKVOpOIKHXNZWBYDYIZ\n",
       "z1e0zA+NYt3qBlXY9NQZIEdnX1scImNhy6gkW9pwcUlKgHmKzySAswSYVxGl6nDPwqeSN8haYb0+\n",
       "0/THvEn2MXADDc0EzyQVlgDMo8vdjY3/A4PA9MInUJeNZlY/Z7cA/HF/J6s6A+bDL7BlUfsp2LgG\n",
       "Hi7pivoJ+V4r2lYGhtWEi+M2i8IEe+3O4lyGiWTb24Pa4qCOdqx4FpUJcUkKDIpDu1jxEn5WCjCb\n",
       "YAv8V2SxfPdyjEfi/sJU53k/HV4qRyVYxN57S2HKFBG11KlCs7AYjcA0wOhUK8R2omW1sAmet6jq\n",
       "L7APZ6Hx227Y0frmb0q6YlC+FUkqDaVgqCYMEZ6hTmPFyzh4K7+bcoUQvzItKsu1xeFPq8BCX/qp\n",
       "EJelQPsWRESm2ZV3OZjVrm2mRBb7CneSfkKrgSKFuJI8htadAL1gCmc9YyIifC+Xy2VLwYQy73R1\n",
       "pVoIjIs2TFXK9DOhHSPFtK6tkfyh0vXwHjLqxqt6SsFQTRjMp3O5b8QWyn/Y/HaLW9nqbKpcGNSG\n",
       "PqbDyKIvfUCIS1IUNvBYhb3N9zmwo/A3Dkafv+90MV3hXE7jnmeLRvbC+7+XfGN7KrDtEElAlKNT\n",
       "HRa+HqhsMWh8CEbLYFMTVLUCdjnoJnCqw4N+E6WNAguMg6VgqCYMOkWdcJptlSzkHdogRob3cHtQ\n",
       "G4I5z3QeB4xaXFySwuNpVoxKymGABUY9W1RnCHcSmSWWBJMLh+Ut9A+dAJioDXUWaDZoC4BlQzw3\n",
       "k8D04vyMZ7QMmkuTnj2EiQVWTdB64EwrbmvWPrhtOw8apV1hFn+0BAyvCYu0cunXW529NJqYsS7D\n",
       "1AlgjgPMZn1PUALmbsWwycHwrJRLiWMtBBaKDIxCfflKWmD6OeEHhQPvLi46KfTTATChJISsBfrl\n",
       "2tpzYF5fBow9IsGbvG7OYe3etDH+bRyixjFGfj2oHdDZ2Aj6kY/SMK5roYXVoE63to2fGezK2maY\n",
       "25eVwfAaBLOEDW3n5t3HMKlFd4CZ2oVhpyU79yJHy68QPQmCmbsJw5GSEuJCSh5wX64IRvV2Iyqs\n",
       "z2O377/T+zIpCAYDSniSCzHvmZtzudQAO6wNJ7TnJiV4bAphU2fl9hbtygYDI+Xt2ETPL/rZRgkY\n",
       "lsbQmcSLUiLakvC8gMVQ+MrAgGsf7Ui/W5v/PoEFkd5dHRj5WO9JerFTdSqD2YKfZ/rZzKZZZMjz\n",
       "5ceyqDnATlest18wJ7IVueTwyQPjUTC9qq1QGQzLwRb0s3XbUN3al2dcw70Zzkcrx0/mrrK7wV/K\n",
       "nArajPK9/7KpcKi6ZoeyNforAVxT3YtoXTgQGH28feqBCSUH6R4rd+7ywYB5qJp9yZECYw6yzZU7\n",
       "p7QNBsyeU3EqScnecY/KnVvkDgbMOeCcgmBucgf1WMXOaXzvbyAwaz7LVNGVkfoPnrF8UI9V7Fyc\n",
       "6ob2P3gjd/z5h4veWvLt/y+6bRV5CH7NAAAAAElFTkSuQmCC\n",
       "\" style=\"display:inline;vertical-align:middle;\" /></a><br>"
      ],
      "text/plain": [
       "qmult_op_ket_in_QmultCodomain: forall_{H, X in_c HilbertSpaces} [forall_{A | [A] in LINMAP(H, X)} [forall_{|psi> in H} ((A . |psi>) in_c Q*)]]"
      ]
     },
     "execution_count": 33,
     "metadata": {},
     "output_type": "execute_result"
    }
   ],
   "source": [
    "qmult_op_ket_in_QmultCodomain = Forall(\n",
    "    (Hspace, X), Forall(\n",
    "        A, Forall(var_ket_psi, InClass(Qmult(A, var_ket_psi),\n",
    "                                       QmultCodomain),\n",
    "                  domain=Hspace),\n",
    "        condition=InSet(Qmult(A),\n",
    "                        LinMap(Hspace, X))),\n",
    "    domain=HilbertSpaces)"
   ]
  },
  {
   "cell_type": "code",
   "execution_count": 34,
   "metadata": {},
   "outputs": [
    {
     "data": {
      "text/html": [
       "<strong id=\"qmult_op_op_is_op\"><a class=\"ProveItLink\" href=\"proofs/qmult_op_op_is_op/thm_proof.ipynb\">qmult_op_op_is_op</a> (conjecture without proof):<br></strong> <a class=\"ProveItLink\" href=\"../__pv_it/theorems/8c7acac02a22bee92c4c3ce7af53ef5e9beed4d50/theorem_expr.ipynb\"><img src=\"data:image/png;base64,iVBORw0KGgoAAAANSUhEUgAAAnIAAAAfBAMAAACR9T0LAAAAMFBMVEX///+IiIgiIiIQEBB2dnbu\n",
       "7u5UVFTMzMzc3NwyMjK6urpmZmaYmJiqqqpEREQAAACk/Np2AAAAAXRSTlMAQObYZgAAAAlwSFlz\n",
       "AAAOxAAADsQBlSsOGwAACOFJREFUaN7tWX1sFNcRn/Xd3p5v945F6YeiumCuShu1qWLiFqJgyqGc\n",
       "00gosFBqNUpqXFISoqjhItr8UanhSGhV1Mp2lSaqKoivxQ2qFIVrMR/BQC4VUlNjwbUKbdMUY6AB\n",
       "SsOdDRj8kdidmfd2b+/OhgN1qyr1yHPv7fvYmfd7M/PmrQE8pUD0dvgwkhL9vMcSqv83FhqUXErJ\n",
       "KWckr/ei3v8P5D4pGZfd7m7/xZQ2lZ28PWQKJuT6qfi7h8h5K6AiCscEk0IDXByZOPPoS4lJAXq5\n",
       "PgXwFmL82hV8arW4sWnRvCSEF80t7EEv7KPiZx4i562AiuhByUgnBHLwJYzBVwFeKBurH+joBxUt\n",
       "s/u7i/BxtWzeQba6BRdkCUbkniYT7vcQOW8FVET7JSPtHhZOO4heNwZwuGzsGdjRD3oGImmI4uOg\n",
       "bK7CeQoao5EWjMgRgP6sh8h5K6AiqpOMimy6yqWBhYGo+IQzwqxoVARAZQg2WuAD+DPAOPr4sB34\n",
       "LgMcp8oXJfeCkfEyjuObvRVQCYXaBSNtVD4Q2RI6bfXdyBl+/PVH7bG+ND/Tj4pgBWplu3pJngxb\n",
       "JOPZelc0+gVPz1ZPBVRCekwwUjr8vgAIY9nqBNpgC/tuIdzNTtFvFwM+CjDDtDvyqU1c3icZkdsD\n",
       "8K6nyHkqoCIlMrZxhbLaZW7acHLm49RisClWF7K358E2LPCjXZ5wek6sYWuEP0hG5H4AwRZPkXME\n",
       "WCWmIHb/HPkCGGdKZv61LMUqDKcll4wPl6eujrlUZQWTyOAVYVqYYzTQtNrirDM4xgVdELRHxnO5\n",
       "eqfHJybCnyQjchHLjxb6o+cTMuXpG08G5pEh15ugLBAKraxv9HfsMWrVPLTWFnTD8crML8eug5wQ\n",
       "gPDM56ZXx+IHE1SJiIhDP19JiFJQH9qFkYJw/hw88hg+3zsX4Ja9kJbDQ/muJWdd48N51KAH86/5\n",
       "nIeBPVF3Fp0SjAdB9+5xbjqNvAy10DhJWR9F4uNfGeXue8g+j37r+N+uOFIiQ6LcIBmRC5sUxmOr\n",
       "UlDFb4cFoDNeyyxQ6OUfy6XwrIZbQDOhDTQXcu3kinrLdZBjAWT9IjgbtaDUlSC3LMsliwL9GKYD\n",
       "TSJa7+WJqPTHATrt4b8jZajy1JPn8ffAilpQW+CQiqv+rB3mcWIoVoqcimZ4kZsIkaN0H2BNmgv6\n",
       "1jnIkacG3y/YnLx8bJNMt6/2N1AHWJWE52SQtO7nclUM3sSiO8FZDipLbW7kCAD8ux5yLABp+1wB\n",
       "VRqMgWLkQutNLlkUxOEvIn9WhvxJecgZSZmA0rAncNVU0fcwrrFwAvSUZqrDEKyTqQVPtON+dVYw\n",
       "W+GnqEUjRNalbG+tcvRty3Ds2Er1f4rkxe6JlXkrPPCCtMIlEt0uEZD0AQNXomTARq55gJBrmLkL\n",
       "/IfMzT/vfvlyI7xoQXLzHR/ZBZsOp0BZvJa6lN7FRcgJAWC+KF6fhRWZYuSU6hYqhagguwWvaEGj\n",
       "eMvr8HuQSSENXwjqHVSpEUuy5NrR8/wiisuJD9iOZgqGV5A7GFpM07QRcgDho05I3Imbps2Hk4Tf\n",
       "IEHghOejwiHhiGRC7jk2mlm2qYMigQ4O9jiWfCoePw1BRm4Y3sY92R+6Z5OGO/zsxX3UdCt8E+5G\n",
       "6LuoqxM2FiEnBCjwmlhpzeHHoBg5U2+nUojy9zsX89kJud81pHY4LYYHB3t3U1xUxcVkKf1sJgH9\n",
       "dryRE9+RSlDqQcwWmU9Kp9xG+6kLzLbamd+liYv7385y2mHgDkbqggl1RGQlcshvJBNyERLz4ER9\n",
       "vbzS+RfIQadTcp+kzamMXB3M2D4AfbjDhBw8lTepKfVDeA/d5fvY3LfhwFeLkGMBsF34O0Yp9Yli\n",
       "5EIJ9PuALcpHlhdiVO6VJhThuMNtAQ6UTWmshEQW28DHDtpIx6X6RVKsmPiqjUcts5ofsaBv4qf4\n",
       "ko4rjz5+gf1UnIBN5+XFPvn1315aC/BLEorifFe3JSFKfU9OfEO87HbJha9MwzK3AWicLdOHg5y/\n",
       "5HK5bDFyvt6G3h4sCbkkOgk1ZZTFc0IIvYFdofzoJF+ZuuLr+L0IW1uqCDk9ft8QlULUBhoVJjP1\n",
       "L5fnmc44ahI5DJTBUawYL+VyF0DjMXhXghlJTrQKE5+xRX9Gcjk9K8vOU1H356cq3OsIgqpf3IW6\n",
       "uLOpYK3gAnK4J7rYYb/lk1s9h36+PbnN0Umh1T1Mx0Mt29wWOPm1IXHMf8degRs5TMfa2PYWAuwo\n",
       "zkpMCF6lUogig0wwSo0grb+Kfcr2VgyUIRqvxeSBAxqDhIbSLfdeTLS9le/1h6f8FjAJGWnXg78o\n",
       "Cc0ILiCHt5NqE9QYqGvo1gsr0fw53kWsEuSGMUC+Bw8jXOrA92AU01xsmqUOwRzzH7Ccut6RoBQh\n",
       "h644I4vvxwNA/VyRt5LXfUCQsKjg+P5fRVJ0QjRZeMyTSrAqIeI41gN8JKwgbxU3k7Z/9Vjn+YTA\n",
       "K9NPWHExEWCmk4slBZd/4p3qG845V325u6NVcgE5XwJ85hptobrzNmgeycD6LBwZI2HBszITvnNP\n",
       "05i6Lh2seSMG/sVmK/YuicG+eBzP+D+m4RO9z5jYTF1v1dxfhpw+D9TXt2oL4dbL8YPZIuR2tsBD\n",
       "I9mAFKW/svTOs6T6Q3dZan4L4BQjv1esH+sBUDriSy6w8bUSoPsOnRpPMC6YCM8NWOuzcqJr+XSW\n",
       "qJOBFLGmQK7ZVc+4O96VXEAOT8PAp/FK4gxxvgutzOVS175iaXUVf00Pu9UuZMKydInqLJ/STHXn\n",
       "6oAVdWnuvB1s0JjRpVevdSnuwurHkkvpzSn/cZGZwo2Tgsv/D3HM0deq/HKqDVSM3LFrIueOJ8my\n",
       "KY1UdyPnpr3livtvYAk3TqXIOVAbN/CS1rGKkctUihw0lk7BmyzWp0LOgamgeA/8N5H7j38rucb/\n",
       "W8V/3yIiGhknS3pVmLQhYn8rKR1fbmBempwSbYBp8oy0mtg0CDdFT0P7NAg3RWenIbhJus3TUPth\n",
       "ps7jmWkQJqF/Awc1gwmVYHaJAAAAAElFTkSuQmCC\n",
       "\" style=\"display:inline;vertical-align:middle;\" /></a><br>"
      ],
      "text/plain": [
       "qmult_op_op_is_op: forall_{H, X, Y in_c HilbertSpaces} [forall_{A, B | [A] in LINMAP(X, Y), [B] in LINMAP(H, X)} ((A . B) in LINMAP(H, Y))]"
      ]
     },
     "execution_count": 34,
     "metadata": {},
     "output_type": "execute_result"
    }
   ],
   "source": [
    "qmult_op_op_is_op = Forall(\n",
    "    (Hspace, X, Y), Forall(\n",
    "        (A, B), InSet(Qmult(A, B), LinMap(Hspace, Y)),\n",
    "        conditions=[InSet(Qmult(A), LinMap(X, Y)),\n",
    "                    InSet(Qmult(B), LinMap(Hspace, X))]),\n",
    "    domain=HilbertSpaces)"
   ]
  },
  {
   "cell_type": "code",
   "execution_count": 35,
   "metadata": {},
   "outputs": [
    {
     "data": {
      "text/html": [
       "<strong id=\"qmult_op_op_in_QmultCodomain\"><a class=\"ProveItLink\" href=\"proofs/qmult_op_op_in_QmultCodomain/thm_proof.ipynb\">qmult_op_op_in_QmultCodomain</a> (conjecture without proof):<br></strong> <a class=\"ProveItLink\" href=\"../__pv_it/theorems/61ef10f84abf18c3f36bbe6dfe0e2ce1dea14dbf0/theorem_expr.ipynb\"><img src=\"data:image/png;base64,iVBORw0KGgoAAAANSUhEUgAAAkwAAAAmBAMAAADEutnlAAAAMFBMVEX///+IiIgiIiIQEBB2dnbu\n",
       "7u5UVFTMzMzc3NwyMjK6urpmZmaYmJiqqqpEREQAAACk/Np2AAAAAXRSTlMAQObYZgAAAAlwSFlz\n",
       "AAAOxAAADsQBlSsOGwAACJlJREFUaN7lmn1sHEcVwN/6dm/3Pr2GUoRqastSS9sI7DTQiHzARbVp\n",
       "pJZwqUqkQmWvWiVtQYoPTMtfcIcCSBFS7kIoQqhtTuASFdrmoC5JmzS5kEhRUpOcoOFDQOoE2kQJ\n",
       "nF1IWidpfbx5bz/vrvHqqhUpt5J353bmzbz5zZs3b2YNEOiVqNXKcCVcsZbUuDst7ntr5wPWLmHA\n",
       "lXH9uiUp9RF+fqJNMMULrckdaS9MY+nW5JJ6W2H6QYty2mw7YUq07IP3tBOmjlSrkvlcG2HKpluV\n",
       "TKbaCNN6fuSaOJ/5lsiBNsL0Ft2lCj02unOi+jt67xLd32ZMU+Lx1wAxBduAvyiR16uX+ddWNpPp\n",
       "uXUPngL4cBOl77uQgvhDJZpvCxjTC+LxowAxBduAv+ByRtyVgrl/4pchHL/RDEQa3Fb0xNf3XwBt\n",
       "4jXa3zzPmB4WljUVIKZgG/B1hQuubV1slF1UHqfb9hLES/Wlr0Gi/Tr8YjMB7GFMgqZcCRBTsA34\n",
       "ukLkIUP8Y+XnMvQ8io+juu2epZN9N1JCFkO6vVceuo02dK9kCFMcGUeCdOHBNuDr6iQv8yR7Zr2H\n",
       "x2wU/7agYT3KM22zNfm2i0RoBjRefbIVXulu7uv7eKArXaAN+MNE022C5xy8wpPvUwBrPoLPz/Dy\n",
       "Z7so0jUyY4UPI2XGtAPg1UAxBdqAv1Ca7IfN5mnIkm2pc11X05tD4FljEhcJU6+NWGdM37XMKyhM\n",
       "dgN1a0qM/cZpzjpSp8Sf6quSXMXFEYe3fKIxdJScIJwwfZTSJciTpIRBwu+FpfyOXtsHLTIFD6GS\n",
       "Z8IipmRaLgJ8b0sGEoT5+FwufAv6rVsXArx/J5e9a9GQvHVHvFeZhk29jiJYvuuqr82HiRvA5WMx\n",
       "vXrm0uAecqJJXoWsLKfbx8/hGl6ExPRpuO9+sDUpWcW5Brt8Yhr1OAza84vN0MgStLu6ndpfQnTO\n",
       "7hqlZTeJ4bX8pmBItoWeoe9j1ABZUzZjYyoxpoSODjaeGilCB9UGSyEmhkbGXfUH8fmV9WcAXkNF\n",
       "QdUhD6oLUwFimcufCwpM1ICo8G0OYnpBGqjDJLKwpHp1FVWIHetDt8FDSsNkajJuFecaDFM1ePHO\n",
       "XlAMOKBgB28CcATHvdZEmFZjx6kHnSgffx0TP6VxsiMW6Q1xPwv1mKCwDxuEkRxs4Iye9EqSPAdx\n",
       "xBXbIX4QJuHQ3JhQ15DZz8tuVkQDeG1byFxKZrjnwiSysOQuGsNB+CNQUCqdl3MuTSgQDNs1GKZq\n",
       "ciqRgVhR1ZVZ0AZYMRa0I0fG9BjPOeigQtmyaTk86exeKbWd6sq408kR0zfBZyk+QNu73YwyJrj6\n",
       "vXAQ791gYxqeEZiWdT0H8gF94493/ezcUGQtaNr3992e1u7AjkkrHoA7VoA0ucKDiRsA/YdcfQXu\n",
       "LNdhElkGSPRaO2+rvXQIXJpQ8BW2azBM1fJC2w4xcWZANucZC9rRWp4qPiHW/TKvYmgMCDIrPBKf\n",
       "43bZXL5aW5p+0nGjeXOlgw00y6+1LBakN80C3UXbGk8ODv4dNMI0C3/GgdkdXfJtdQC0/gVFyOak\n",
       "QjgVyiHniUglVh6Hb3kwcQMSx/1Y7Uv3gxcTZRkw7IR3GrnUnoxLE0iUzOJcg2GqtsrazkpTltsw\n",
       "BRMlt0XQyi8mTJKc9BZk9klB45dUJOIEwApIrsjcipsgKeq8u7Zo0Yzp65eaRy1LTPyWNSmEaQA6\n",
       "t83AcRw7TIJ67eswBnBRyyXLaPXfyUJiKvvi5z2YqAHYxtMWfgPKl+swUZYBT7G1iRajhODWkksT\n",
       "fhe2azBM1ZbRuoC92/qfRZ82m2XBqOVweN36CcBw7RF08LixhQdr69Y9TmhuYDbrn7BOBn7+0pdc\n",
       "boPcv3OQMmt/fRjqYZOLiVbij1er/6rDFJpcNnkYn8KaxGwdE7pe9T49ipz3T04Wo9MXmxykTAyO\n",
       "Ur3Yw3zRi4myDDhUrVYrfIRGcvJq82yWNAHVwsQ1GKyaSmX+IJxtzoyBLEHVwhShREem6XmJ6Yai\n",
       "q8zNSn/tEoraYI6m3ZiivRDjsZPTZtDQIUxVTTW3JuHK1YF7wsItCGuKlJMfEF5FLK8PWeq6MWEU\n",
       "kyc9l+MIeQMCzjKAQwthahnq4RCYdk2aOJOOazBYNfTnoMI32Vp2mQPNgvaki5HTbtzkujbELm5H\n",
       "am8c3Fi0fv7KcywXS0FEByUFylpcKEQCRqgzr9ZjmkWn90+4B3EpM9/oLGL0iL5paiTd0QX/gNU4\n",
       "9cp/MQl4MOGM6qxgtchSWeCddJSFmJJi4LS53U8ki8KFr0njouvSRNIxHQarBoNVy589nD5DLhw3\n",
       "I5sxxLMEhYB1kMJWeboZpk1Nlud7//2A/eN6D6ZQBkL6WnW58ux1MHyhrC6H+DQFLZsyZnjZv2PN\n",
       "JWW0pHXvS4G8Qt90CV12KjY+mILsb68BaffBE+I1DHbBy90rGzDFbgFl72NY7YfODe6peDBxFnZb\n",
       "OyUKPrWq/5To0hdvTivTj4KjSTKHacRk1mCwai8cODmXwTwAjC4XhtNjFVMQ6CU7Ho7Yhpthmmcf\n",
       "pbzlwYRrU/j6HCTs/tnlVlXPzLMjGfN/yJtwn8Y7AYG4sORd1apl7OONIsMi7URphlu1KJop2s69\n",
       "aAXOkuVg4WhRKzc5scvNs9uabXYWfqwh4ee7hX9Mxy6Lye0ycg0iQyLtxuS+dtotOiHPkJ3a3/Km\n",
       "NFZohqnckJj/0qZLvjGV/WJy+miJ4C4P0++ESbboxB1DKTqhdLHlE73K//rLCn/7SZqO9UjdJw6l\n",
       "wUt4ijeUb/wS56pBLrTaAY712uV/CBa3KrjcLya1O/Xex3SoxW5KBb+YHobCex9TRG+tmxtyfjGd\n",
       "+n+YdMoNLXVT4RNPP5iug/S7wHSl/O/lxnQr3UyS8r7+93L8b1dGR9/dpWVa6eYXrMR/AQD7dns8\n",
       "51hPAAAAAElFTkSuQmCC\n",
       "\" style=\"display:inline;vertical-align:middle;\" /></a><br>"
      ],
      "text/plain": [
       "qmult_op_op_in_QmultCodomain: forall_{H, X, Y in_c HilbertSpaces} [forall_{A, B | [A] in LINMAP(X, Y), [B] in LINMAP(H, X)} ((A . B) in_c Q*)]"
      ]
     },
     "execution_count": 35,
     "metadata": {},
     "output_type": "execute_result"
    }
   ],
   "source": [
    "qmult_op_op_in_QmultCodomain = Forall(\n",
    "    (Hspace, X, Y), Forall(\n",
    "        (A, B), InClass(Qmult(A, B), QmultCodomain),\n",
    "        conditions=[InSet(Qmult(A), LinMap(X, Y)),\n",
    "                    InSet(Qmult(B), LinMap(Hspace, X))]),\n",
    "    domain=HilbertSpaces)"
   ]
  },
  {
   "cell_type": "code",
   "execution_count": 36,
   "metadata": {},
   "outputs": [
    {
     "data": {
      "text/html": [
       "<strong id=\"qmult_ket_bra_is_op\"><a class=\"ProveItLink\" href=\"proofs/qmult_ket_bra_is_op/thm_proof.ipynb\">qmult_ket_bra_is_op</a> (conjecture without proof):<br></strong> <a class=\"ProveItLink\" href=\"../__pv_it/theorems/d10c06bcd14e004430debdb6d6026e0e8f128ee40/theorem_expr.ipynb\"><img src=\"data:image/png;base64,iVBORw0KGgoAAAANSUhEUgAAAcQAAAAZBAMAAABdpkNpAAAAMFBMVEX///+IiIgiIiIQEBB2dnbu\n",
       "7u5UVFTMzMzc3NwyMjK6urpmZmaYmJiqqqpEREQAAACk/Np2AAAAAXRSTlMAQObYZgAAAAlwSFlz\n",
       "AAAOxAAADsQBlSsOGwAABkZJREFUWMPNWF1sFFUUPrM7szu7M7uMJmhIVJolIGKUYqWogN0X0GhK\n",
       "hhcT4k83kAZiFJdoavwLYwgkxooljYkm1a4QiTy5hRIFjFkSMSICK4pJrWijIUSMtVCg1WjruT9z\n",
       "Z+7szu6+qNzNmdmZOd+d89177jnnDkDNFsvMh0Zao3r/abs2UwYlc1sdrUSDvSXgamxmCQ9f/s8U\n",
       "dSq6uM7zswPij14THN7p1ULxRipqwb0+x40ccW88AEmrFrhaIwiK4hRpZ9+Hm54mp1SpLsXG9AIt\n",
       "laXCKaJVw+y+WvYoVmOSXHcPAyu/j2e1hXczdf3AFTxut/nACYoHycM3w003yOsTTl2KjekF2hom\n",
       "nCKaHGH3I+CjmLArcIeGphgYYn8D/MDfeuj5NjyuZQginGKX5BeVpsdzZGTqO2pjeoH2MRNGUbPE\n",
       "9A37KZrFICydS04xMMSnQM/xu0XI4OkCQ1BhFAlbzy+qrLE38NTewFpsSC/Qmpkwiqm8GOxzfoqw\n",
       "mP1Vfsrcwv7NtvWZDAzQ7zzEVb8FQOKpSY5YLCiSU6KW6SQi9TRAsSG9wJLqYcIoqmLJaD0SxT6m\n",
       "vEM47FIXjO3k/pxQ1i6h5zZxRJ8XUe/IZO6sZXo0k5mTbYBiQ3pyM7JMkOLqAaQ4C+AbOl9o2rMA\n",
       "e6ZsSnElVX5FMFT+dMHYole8pZrEBzMsjljpUfwQ4Gwt0408pG0w+I1iHT3PfN8xDJYoMUGK2a/h\n",
       "EXRAFmgiFBHv252lFI+CHBITzS6YzP0Frz91DOBHhyOOehS30fX6am+eRmGMT1NOrDXvmY5PtwHL\n",
       "CSbAcZFfDyzhYy7peSHBd/TBpO4jZSZqQS/vhc8hCiww76YLMwaQoxRPUWXPeV8vumASUi+K+/F1\n",
       "U6OjLcARpzyKaRsH0cx2FCBS4J5uOP6Ufpa8h9qq8POmjefhUw29YkGFXghFAZO6jxaYqAUNFmHO\n",
       "wDmngfkgXZhHyFSSLjdT+3FBZW5n0abggrF99JSoG5InnzzzHUmNFLHZo5iy0L5N0OHAFjde3S9V\n",
       "LV+RAaQ2vgbUPAN9O25pk6A3V+iFUHRhcvceRUhOIsXVLJ/DDZSiRdIIobiLhhIvsfWCR9HIb/Ye\n",
       "oJPqfwFH7PIVcD2HOfEH+YsHbYliwrSIrcnr4EgkrxepBWRYx0AtVuiZEO8tSRRL8Nwy8GD+7hNl\n",
       "JkjRaNLLsIIXD2vIIk6iq9o+R20SS4SysBPUUe+DyKSw9hd8/0QVR4V2ktHgJuF2yoRce6pDNrFV\n",
       "nWFb6TIWfHw8lRHXs/1678O2rT1+iklH34AmC5i/+7TFhFAcMe1UgRcPaQeMkgHaepY0TlDla0Qg\n",
       "W45L+ek8ARKkeYnMMZ1ojDzGGHDECR/FLcT910y3tIzxuLRUpqi3Ulu37gTLdLCcTdJZ0vrHW9oq\n",
       "9Sz8Zf0UFfypIGBS92qOCzrqXSp84RYPxFvfmvXi3gKjOCCmnLYP2qZvPf42BWq/4vU0jmwHGVbz\n",
       "Mr6wWc8zxICPYprGt0kw+VJaMVt2VFproMWDehltfQbMd0ZHf8ME5PBoLulZWhksmeKjJEwJmL/7\n",
       "ZBMTkvq7Vh12hDvi0Vx4MctTP9ttaxvfY+cN2vDCVocA4z+P52HP9DwMr3PJy9BPohO7HIaYH9xM\n",
       "IcBgK0u1o8XKTRJavMC0uzGCQZzl3J1Y91bq5RRIlf0UY8j4jA8mdX8zE1rdvETnjz1r5/Urpajz\n",
       "VZhc5RZwHli008y/wbi4nyGIyBSxVkhgCMuC1gnK5aoUn1D0LF1RrFIYBNhRqfdZV3xQiqjm+twL\n",
       "Ppjc/TEmlOJMvgqBl/NLXIpGyA7tmP9CqqsIgohMMZqHqNUZX67tmwuP/VGqRvHhTzAmKiQkUM9G\n",
       "ExbF7KBeqv/egpw0hsbPe7BA94QRCqWYdXdXQHdC8TGXYtj2Je3buWnSvnk7F5niy1gnzHMgFbab\n",
       "T7O0SM/aqtHzoGOnazdU7voPB/MiSSUeTG5kclEoRWokTyyIUZpcimHlpS9TkrrL185yqfph43Qt\n",
       "ilhuwLv1Pmw8HqQYK4TDoJuK4taLMCLOOrt3PZih2+zusK9SDpPqFEu1KJJx7qxHcW6QYsQOh10V\n",
       "X+Dc76N68NNYiF7g81gd2L/8HXVOCZTMsn8ALmG2Kik/xT0AAAAASUVORK5CYII=\n",
       "\" style=\"display:inline;vertical-align:middle;\" /></a><br>"
      ],
      "text/plain": [
       "qmult_ket_bra_is_op: forall_{H, X} [forall_{|psi> in H} [forall_{varphi | |varphi〉 in X} ((|psi> . 〈varphi|) in LINMAP(X, H))]]"
      ]
     },
     "execution_count": 36,
     "metadata": {},
     "output_type": "execute_result"
    }
   ],
   "source": [
    "qmult_ket_bra_is_op = Forall(\n",
    "    (Hspace, X), Forall(\n",
    "        var_ket_psi, Forall(\n",
    "            varphi, InSet(Qmult(var_ket_psi, Bra(varphi)),\n",
    "                          LinMap(X, Hspace)),\n",
    "            condition=InSet(Ket(varphi), X)),\n",
    "        domain=Hspace))"
   ]
  },
  {
   "cell_type": "code",
   "execution_count": 37,
   "metadata": {},
   "outputs": [
    {
     "data": {
      "text/html": [
       "<strong id=\"qmult_ket_bra_in_QmultCodomain\"><a class=\"ProveItLink\" href=\"proofs/qmult_ket_bra_in_QmultCodomain/thm_proof.ipynb\">qmult_ket_bra_in_QmultCodomain</a> (conjecture without proof):<br></strong> <a class=\"ProveItLink\" href=\"../__pv_it/theorems/6ec650f1fe9fde60af1ddc6b66aaeaa49220615e0/theorem_expr.ipynb\"><img src=\"data:image/png;base64,iVBORw0KGgoAAAANSUhEUgAAAaEAAAAmBAMAAACfRDklAAAAMFBMVEX///+IiIgiIiIQEBB2dnbu\n",
       "7u5UVFTMzMzc3NwyMjK6urpmZmaYmJiqqqpEREQAAACk/Np2AAAAAXRSTlMAQObYZgAAAAlwSFlz\n",
       "AAAOxAAADsQBlSsOGwAABrNJREFUWMPNmX2ME0UUwN+2u7d77bbsP4CIcpcqxpAYTlAwIt4mitEz\n",
       "dy6EkBAi16gENERLICiRhDUETOTDKl6iBqGCIZIQrXB+IIYUBQ2JH9UoBkU5jURywXKAF5CvOvNm\n",
       "P2bb7rbYUzuX2/Zm37x5v/l4780cQGCJFYs5qKXULFhePoL6itRDn9Fi0WCPKoYma1Rbs2BZiSbr\n",
       "JIJljCJs2I//mehgvUCg9jUUkXxr3UTwS0MRNev1Ez1vNhLRUaN+omhfIxFdXz8QKOcaiEgeHAIi\n",
       "+K2BiJqYnzLBdBjtL6b7RfFtvwafnzQQ0TCMy0IeOuyaeMpaSn12TQdENJ/mn80R0TXkOSJsdyTA\n",
       "0Dh+5qoTBWvyKStwJr4Fi0ggmrLsjZh3ieDa8paH2l8iU9S1kH4PZTmiD2nNywGGRjPUx5rViYI1\n",
       "+ZSvMI9J20R0xFvZmxBwRM1li+mtkcvb0xDZPRydXZojWuqZ4AqGynQ9ra9h1QVr8imPokE5m2g6\n",
       "+e1kb37kidRsSTuBVMw4BXfPxBRIGOCIKL07wZW2R4/bSyBRsCafMgn3NNhE37uj9ztPBFZmMSaR\n",
       "SOOXLvIbOQ2wmvV+liNSyfg0B274z8lnugaiYE0+5U/62O4Q6c4Kl9Ieoo34bftwqyqCTr8dLC8o\n",
       "X+J93YRE4pZAonAicZ1ei68L1ORTLtJHL5otjdZAF9IQw84EMj5PEobLBhLdg+6vx24WRpnNzoHi\n",
       "Ik/0PsCxQEOjKYiTo4dVk/UXLNGU5eWjPtGeDi5OQAeIsTYpJwxariGEbeWN23Qkwgzd9U9HqbuC\n",
       "Fx09p3ii1aAQa9ZsSFmD8/Nls2lSijOUvCarFZ24CvCFY8zuyeh2XUGmySl93BNUZ4PFTh6Hh+fb\n",
       "4RSJbkKiddFW1YQ2YE5zG5FMQRNAEom+QSJH9wPINsWzeB2iuCFmQNW7MxBCcCIXNT2B8xjVGbfC\n",
       "BX4uerwf9kvnAcbxgqjJhwg/5REFIhDOwge2TOQ8fd6OREZYE3FOqdOkWOSvA7SCEq2gdYsTpKDC\n",
       "J2hH8lmnrws8UUwj6Iug24SV7G2Lca83FfiaOgYkWQdIGyXrS9akc6C08YKoyY+IQuzBqRcGRTfl\n",
       "ueQSwdumCJJmTfw1SKTRCkq0ldbNdXS3ULvi2cpEkN4HbBDut3Zdr+ElalY1ShQZAQdCKSWLvVFr\n",
       "BkDMegRRUw6W3eEhUkHekKMJmGAlHlOmgZfoNUa0k4yYaFhRejbdexGy7gx31blBt/uCucT82L1q\n",
       "8Owj6EQPMsZZQsLZknRNPEwXJ4jDDC2eJyZKzFahz16ntiDVFDGVBbM9RG/C6lVpOsf2ELekXM9w\n",
       "0T6DErP3kkX2gx2l4yYJvFGQ5jPv/SX26KR38vgz70Z6vGpcopXUmNnFiRMHrIRqSgmRQsNgHFZt\n",
       "AY1s3SMQwbGWNp+Z2O4VpJoE8iN6iDTyo9PMcIcle1fWO7jomonZW01dzdhRmrqpV0Yt35lhRO+A\n",
       "PZlWMWA0eKfaJWLJ7jlQrZg2raVk1WH4JmPcq+SJrUtA3VQo/EHSZpO79UBBqkmAB6kD4YmkPGGS\n",
       "dThYKBSIteJ07kyEo7eFEcmPnLjKXVvEh6vjT+tWhL0R62b126Y9t+M9zguhgyk5TURaIcqGTjTC\n",
       "2QqHBEI0TjXW0i0us3hL7NhTLthErP/JQ5QUIJanHmWJNWKc14VNuD9SzGw5zyV0nc5VHnmlWOnr\n",
       "G7+yLChULBIjF9vmq4PlRFEdmolj0UGaB8JgZaKFgqLjJmJxlET6F8oF1fnJp3UP0adL5V7cRHHs\n",
       "bZYB3CLYhW2yjEjA+uPsDU3vJttE0dLTzNqTxYVPvepY31pOFE5BWJsnT5V2jYW5f+UqEs3ZS5yc\n",
       "QCZ7Pa5T0t3NTUaZ4OEz/V7vHdt8J2lzNRlounrnTDCkkxvd04QN0WGdJZyEjiS+8oBNVCH3PzT+\n",
       "BicIhJLlRM+Q9UIkYr5H0zgLR/gpdRX6QSGO56EF5YKqVhqP9tl/zSwUMiUddOetQNPBArjr44ke\n",
       "odUmOhacHXbnfE/l3wUSkQgOr1c7lTdlSokeo/vU51zNoqSSg5F8R1ZLhbn5kaBWOXAeNX2JcoFE\n",
       "1Kp51YhCRinRWMrpc6Ohtg3FXdDuf3JzopTe0FS9OTF5eb/bHOn8UBBNbaQbyPuGAEhoaySicOpK\n",
       "pBftr6gj30hEavoKhOVkxWP/qIb63wQXpauXeMUJVW5rLKIZZu2yIUOqpCF/JUT//v9h3euQ6iXS\n",
       "WenO9gQmQjX+H/a/KM/W2V7y5iF/Az821rBT/NEQAAAAAElFTkSuQmCC\n",
       "\" style=\"display:inline;vertical-align:middle;\" /></a><br>"
      ],
      "text/plain": [
       "qmult_ket_bra_in_QmultCodomain: forall_{H, X} [forall_{|psi> in H} [forall_{varphi | |varphi〉 in X} ((|psi> . 〈varphi|) in_c Q*)]]"
      ]
     },
     "execution_count": 37,
     "metadata": {},
     "output_type": "execute_result"
    }
   ],
   "source": [
    "qmult_ket_bra_in_QmultCodomain = Forall(\n",
    "    (Hspace, X), Forall(\n",
    "        var_ket_psi, Forall(\n",
    "            varphi, InClass(Qmult(var_ket_psi, Bra(varphi)),\n",
    "                            QmultCodomain),\n",
    "            condition=InSet(Ket(varphi), X)),\n",
    "        domain=Hspace))"
   ]
  },
  {
   "cell_type": "code",
   "execution_count": 38,
   "metadata": {},
   "outputs": [
    {
     "data": {
      "text/html": [
       "<strong id=\"qmult_complex_complex_closure\"><a class=\"ProveItLink\" href=\"proofs/qmult_complex_complex_closure/thm_proof.ipynb\">qmult_complex_complex_closure</a> (conjecture without proof):<br></strong> <a class=\"ProveItLink\" href=\"../__pv_it/theorems/5b829d602ac24a9560ae961a3cf6c112b0df81df0/theorem_expr.ipynb\"><img src=\"data:image/png;base64,iVBORw0KGgoAAAANSUhEUgAAAKAAAAAWBAMAAAC1cop2AAAAMFBMVEX///+IiIgiIiIQEBB2dnbu\n",
       "7u5UVFTMzMzc3NwyMjK6urpmZmaYmJiqqqpEREQAAACk/Np2AAAAAXRSTlMAQObYZgAAAAlwSFlz\n",
       "AAAOxAAADsQBlSsOGwAAAr5JREFUOMutVUtrE1EYPUk6JulMJuPCKoJSAqJSBBFFkILBRVW05QrF\n",
       "TWmTgj+gUFHQRccHdSFIBBXBWkYrSLHQKRQEbTEFCxahjuKiCxfxUV+FoIsI7vzuI5NMNUMXHjiZ\n",
       "+91758z3ujfAGmArBib+hQTWhIgnWcO9v6W6dl6/km22gBI334UKvlUU0D62rpbn6GpHzy8XW4An\n",
       "3LwdpqcVJBWSLv3cXLVH35wFFl0kGc5wf0thgnpRUiHNvXu5as95kwHrXBhCE01emGBMUWGScZtJ\n",
       "Y2smI3xfNrlflMF9MOjbydAUjisqHBJxS4/HN6jJ0lU1GAH2ZDJ7QwWnFRPTm8gF3Fo/SzHlRWmr\n",
       "qUzkT6tRB/CYHA4VHFEcs80Klec3y9kwRKDJaj/GsxNqtAAMk3713fio33sr/RfUcJek1g6dOiZV\n",
       "QdpCqlUI+l3oVjvzDWCyJsf35hRXbSk72mc79UnNHZDUK4hSb+gF5LKI/+ArgxmC6JDSZbV5iD5p\n",
       "1dVkP/HpAOXoBPA8KBgrIeeINpz00Lybr/T574kqc4wRC3P00zN3hDv3s4VFeAF7z5Gh9tyVJL9e\n",
       "8TYs4hlTIUd9wUe8D+GIkNFJtdK2xys8c9sirvjs0lLN6/eSOQ/fUjbSDiUThgg0YgVOSoQmF8m4\n",
       "RDXR3TgPwrSMgqjX/HxNsEMyaRltTXQciiadPd3ynZc4eoP13qHnFFehnKWdCC91zNHzC+Vy2Tv7\n",
       "sCZ4X1LrPzy8kR5TszxY2TAnvzP/tjnYxud2KDtnm/O0lmYxT7QoL4qm1qIDkvW4qJ4PPmQKgVus\n",
       "tXpe7aEJdCPKFiHSmzhmo1Ot0YEXrMdMyEUi0Dzz+jgGvfhUFokvfKJ7dMV36qtinSONrqdrQVNe\n",
       "Ot3lshOY7gu0HIfJGggGD3GqwbZEUbKGFw30jOCfjYH/gD+ElqtXh5irEAAAAABJRU5ErkJggg==\n",
       "\" style=\"display:inline;vertical-align:middle;\" /></a><br>"
      ],
      "text/plain": [
       "qmult_complex_complex_closure: forall_{a, b in Complex} ((a . b) in Complex)"
      ]
     },
     "execution_count": 38,
     "metadata": {},
     "output_type": "execute_result"
    }
   ],
   "source": [
    "qmult_complex_complex_closure = Forall(\n",
    "    (a, b), InSet(Qmult(a, b), Complex),\n",
    "    domain=Complex)"
   ]
  },
  {
   "cell_type": "code",
   "execution_count": 39,
   "metadata": {},
   "outputs": [
    {
     "data": {
      "text/html": [
       "<strong id=\"qmult_complex_ket_closure\"><a class=\"ProveItLink\" href=\"proofs/qmult_complex_ket_closure/thm_proof.ipynb\">qmult_complex_ket_closure</a> (conjecture without proof):<br></strong> <a class=\"ProveItLink\" href=\"../__pv_it/theorems/51472ae7fb3064dfe0a83c4cc713b6c6b5ed85140/theorem_expr.ipynb\"><img src=\"data:image/png;base64,iVBORw0KGgoAAAANSUhEUgAAAaQAAAAlBAMAAAD/+YDPAAAAMFBMVEX///+IiIgiIiIQEBB2dnbu\n",
       "7u5UVFTMzMzc3NwyMjK6urpmZmaYmJiqqqpEREQAAACk/Np2AAAAAXRSTlMAQObYZgAAAAlwSFlz\n",
       "AAAOxAAADsQBlSsOGwAABkdJREFUWMPtmWtsFFUUgM+yM51pZ7udhooPKlnWB0p8rNZXTBOnSX1E\n",
       "xIxJ1WCUVsTEP8oiigk/7PAIkWBLicFoArJYjBpNWA2k2KJMY5uAbbQYgjxEFxTQgNsVrTSFUM+5\n",
       "d2Z2Ztvd9sdWW9KbzAy9c/ae+91z7jnnDgA52s+DF2CCtd2DfTnfH4AJ2O6cRJpEmkSacEgF4RvG\n",
       "lMUXvvm/RioccwN1j1skmW6G9Yf9BMl+M2wzxjfS1eRFPdYfD9u9wShAkZrtN1tcSAl6/JgNKUiP\n",
       "YjNfSLmUOa1Yw9t+8CD5sDtu0Xot+sU/eG/U2RJYSK30eCcbkhKjuRj5QsqlzGnz8BKbvEgCXiEa\n",
       "Q88Qblt2H94XAGxIIy0l1EQ2JKmO1iBvjpdLmdN24aWYXqTH8JqLVyDulQ3GIYyPPwG60kjELfRk\n",
       "3UsbrLHyg5RLmdMiePnBi/SDvbLW5vcdD99ozfAi+mQ//kJ3kAJm9o17gEs15Q0plzK7FZG6jzOQ\n",
       "NNv/N3KZ9Y4Din9jxkOfLDTTEe/2cPiO7Ej+cPgaLX8RL4cyuymkbjv9q6osSkjidBU0XxMPGw8w\n",
       "mTXpLVU0AFCCgVCoSyO1AJzIjqREIajnD4krszaEMryYaRljRY+SICShOCKavj4eH/ZCRoQRUniu\n",
       "Q/sFmtJIq0Guc5cVp59d7kLCd6spVN7txNWaivuFzS2BkNgLjSHX0PjT0ge1EZC4MhYgTAg4u2rt\n",
       "W1FuBGxTqJdKm2vBrxJSgxIKGLTDKF5+z2TSW0F67mIyWUGhP5RGCupCzHo9LRkTTxrFv7pT7Qny\n",
       "5g4RzTubS8BJgKkgqbAOpJBnwi2g1I2AxJUxJJU/aciAVhuDKdYs/PS8F23YZ+0l3a8KzLIUL+vZ\n",
       "RNF/w7dwv/vuxaOHKTVJqTRSsWpv2DZ0XQHDZYcbaR8uiaSK/SBHuARHwlbrQZrKQtVISFwZocho\n",
       "jJ2W0sVQa8BK8CL5E3Z42GYIIKrcTZpZSHDlAXQ6mT4nFEVcBVFTO/lNueojJ35mGa+mHKTCgMrX\n",
       "QIgDk+BI81OEVFm6A+CRKvndT1oXVetv62CsualsB6zqwmmVTTOEDtXXXeUpiJiyBGypC+izYC1Y\n",
       "Q9Liz7HFyPE24YppNtLn0ACCzncQdzzXUv6O2+hchuPBXMo9s6XIfOo4eDCjxhMOUXTwJcgxmAQc\n",
       "r67+BWSG1A+HcAqK2fyRtgT389lW6roSFsI9uAKKtgl2bYXlHiSmLAFanw/+oHKLDwkzmF/z7ElL\n",
       "eAzDGMLGGNJX0AmHrRz9LZMpdaYoYpZVUpSEEy6klegtSkKMfkodnZ0ZSPJd9MPNf1Vg4cEkuJVE\n",
       "hhSBklg9FCdwkREJFveqrOsNOIOuJD+Zgp/qv3zcg0TKICE/FfLBHioe+ZDzBisqUnacqeOxWomD\n",
       "wII4NBtaIGbl6M/SlmQtgDsuGJGjoKguJCpx/SizN5lM9rz2YWYlfopuJQaFTybhRfKbX3d3x5Yw\n",
       "JAP9k3X5qmbCNlRX2f1NUe+AB4mUoZUUrQHTp6RZQ0I/C8J8w5NXvY9Xdell3PGkhWeuoFBIb/kp\n",
       "UnzpA9umaBz/uWYDphgZhwucMrzC1gjDgzj0cIEq2iyJoVYCeBmRRBOXN8S6NsIxfZ3OgtCrVibx\n",
       "HC7IiztlExTDGhIxFKd6m0XTj7qrB4kZ5Qj5jLWLih7lBREEceLKWdzRKzLPS4Ux0FhKlecY6Zou\n",
       "jYTZfD1YSdeF1I++HTRFE01UK/UMYNLBrhliH8xUg5qonoGnj/DzSSZSgamuYhuJD4kVQ6FzFOry\n",
       "lKeE5GNCv3nK2eGKXQ+SvKtdl5mL1bx3OjoUCTPtbQVcglLtrS1PnBcXxeXydo0cRO7dCcJ2aK2u\n",
       "BunCvjhM735dxW4QqtT95Q8NhyS2HcPJXYWKmVJ/FNPq87YvGdb8HSQB7PNG1kMBix1DT7U1yWRs\n",
       "+FOtjEu44IVhJIY0KTKKU22CpyWWn9iQGBULrrdPZSzrzPdYiZU1JmQv3bi1x+agLqVGhxTQsx+7\n",
       "36RFtD3scmfS5I9ZD6N7xu7bQ+P50SHRwhfkqR7+H78QOd/xDNeXoHx+x6uc/NrKdkq5dqkhLc3X\n",
       "oX38IJ269BzvOtAnONKQ/6vdetQc50C7B/v+BXYV4XGpjuywAAAAAElFTkSuQmCC\n",
       "\" style=\"display:inline;vertical-align:middle;\" /></a><br>"
      ],
      "text/plain": [
       "qmult_complex_ket_closure: forall_{c in Complex} [forall_{H in_c HilbertSpaces} [forall_{|psi> in H} ((c . |psi>) in H)]]"
      ]
     },
     "execution_count": 39,
     "metadata": {},
     "output_type": "execute_result"
    }
   ],
   "source": [
    "qmult_complex_ket_closure = Forall(\n",
    "    c, Forall(Hspace, Forall(var_ket_psi, InSet(Qmult(c, var_ket_psi), Hspace),\n",
    "                             domain=Hspace),\n",
    "              domain=HilbertSpaces),\n",
    "    domain=Complex)"
   ]
  },
  {
   "cell_type": "code",
   "execution_count": 40,
   "metadata": {},
   "outputs": [
    {
     "data": {
      "text/html": [
       "<strong id=\"qmult_ket_complex_closure\"><a class=\"ProveItLink\" href=\"proofs/qmult_ket_complex_closure/thm_proof.ipynb\">qmult_ket_complex_closure</a> (conjecture without proof):<br></strong> <a class=\"ProveItLink\" href=\"../__pv_it/theorems/995c8fdf3892129be67332fce0618aeace801f9d0/theorem_expr.ipynb\"><img src=\"data:image/png;base64,iVBORw0KGgoAAAANSUhEUgAAAaQAAAAlBAMAAAD/+YDPAAAAMFBMVEX///+IiIgiIiIQEBB2dnbu\n",
       "7u5UVFTMzMzc3NwyMjK6urpmZmaYmJiqqqpEREQAAACk/Np2AAAAAXRSTlMAQObYZgAAAAlwSFlz\n",
       "AAAOxAAADsQBlSsOGwAABkdJREFUWMPtmX1sFFUQwOd6u91t93psA8EPKjnOKEpED+tXDNFtUsGA\n",
       "mDWpGoy2FTHxH+UQxIQ/7PIRIkGgxGA0ATkoRI0mVAMptghLbBOQRoshyIfogQIa8HqilQYIdea9\n",
       "/bz2rkSv2pI+crvwdvbN+72ZNzNvAcjRfuy5DEOs7e7pyvn8EAzBdu8w0jDSMNKQQyqM3jagLIHo\n",
       "xP8aqWjADdQ+aJFkuhj4x2qS/0mfzRjcSDeRF3XANPvf4bj9t2I12zsbPUhJun2fDSlMtxIzX0i5\n",
       "lDmtRMPLQbCQAtjR6KP1W/Tzv/C6SsclcJCa6fZuNiQlQXMx8oWUS5nTZuJPrLeRBPxF3DH0DOGW\n",
       "hQ/jdRbAWhdpAaEmsyFJtbQGeXO8XMqcthN/imkjPYG/Gc6zUKNfNtwIUbz9DrDfRSJuoSPrXlrr\n",
       "G/HfIuVS5rQY/oJgI33nX1Nr8wdORm+3ZngFPbMb39AdpJCZfeMe4lL1eUPKpcwJAaTuIwdJ83v+\n",
       "Oi6zxnFA8U/MeOiZRaYb8e6ORu/JjhSMRm/W8hfxciizm0LqtjEkcYwKWqCeBwwQSqcCTGEyy90t\n",
       "VXwRYAQGQqHWRWoCOJUdSYlDWM8fEldmbQilbzHTMsY0EEpiohno4vFBngi7APZBRoQR0niuQyuG\n",
       "6l2kZSDXesuKs88v8iDhs2UUKu9ncZVaVfkjwoamUETshFURz9D4aulUrR8krowFCBNCzq5a8Xbc\n",
       "MgVAAfVOZEgrlUjIoL1FkbJAg0kA3zIZdytIL1xJpcop9EdcpLAuJKzHo1MJ8bRR8rM31Z4in24V\n",
       "0bwTuAScBhgJkgqrQYr4JtwESm0/SFwZQ1L5nYYMaTUJKLBmEaT7gwxJD6oCsylFyt3MWerYRNF/\n",
       "o3dyv/vm5eNHKTVJaRepRLU3bAtmaQGDZqsX6QAuiaSK3SDHuARHwlbjQxrJQlV/SFwZochojB2W\n",
       "0rlQY8AS6IUEWw0BRJU7yEPsaQMLCZ48gE4n0+eE4pinIKrfQ35TpgbIiZ9b6KmpCKkopPI1EBqB\n",
       "SXCk6jQhTS7dDvBYhfzex81zKvV3dDCW3zFqOyzdj9MaNdoQWtVAe4WvIGLKkrCxNqSPhxVgDUmL\n",
       "P90WI8dbz5E+g5Ug6GzvUGQD2/E8S/krbqMLGY4HMyj3TJBi1dRx+HBGjSccIYMHkuQYTAJOVlb+\n",
       "BDJD6oYjOAXFbPhQmwew+Hwzdd0As+EBXAFFWw87N8MiHxJTlgStKwC/UbnFh4SxzK959qQlPMGR\n",
       "dkEbHLWyM5qiGOBrJlPqTFHELKukKQknPUhL0FuUpBj/hDra2jKQ5PvoxQ1/lGPhwSS4lUSGFIMR\n",
       "iTooSeIiIxLM7VRZ15twDl1JfjoNP9R98aQPiZRBUn4mEoC9VDzyIWf2lJen7ThDElM4UoOhhRJW\n",
       "dm4BwCD+qWtJXk5gPAzH5DgoqgeJCt0gyuxLpVIdr3+QWYmfocsIg8Ink/AjBc0v29sT8xiSgf7J\n",
       "ugIV42Arqpvc/lVx50UfEquqk5h8VmISlTRrSOhmQZhvePKqTRxJmn3uegp2DLWiFP2FnyLFV7bY\n",
       "NkXjBC80GFBgZBwucMown72I4UHsfbjYxFZpft9WAngVkUQTlzfCutbBCX21zoLQa1Ym8R0uyIvb\n",
       "ZBMUwxoSMRSnehtPEHFePUjMHMfcwtvaRcWP84IIwjhx5Tzu6MWZ56WiBGgspcrTDbemc5Ewm68B\n",
       "K+l6kLrRt8OmaKKJaqSOi5h0sGus2AXj1LAmqufg2WP8fJKJVGiqS9lG4kNixVDkHIX2W+UpIQXY\n",
       "41/c0sLMVez6kOSde3SZuVjV+2fjvZEw004q5BKUau9qeuqSOKdRLtuD+bGyVO7cAcI2aK6sBOny\n",
       "gUYY0/6Git3oK+rBskf7QhJbTuDkbkTFTGkwDkH1RduXDE4xzTpasJOG1bIeClgE6X2qrUqlEn2f\n",
       "amVcwlkv9SHRq0mxqzjVJnlaYvmJDYlRsfBWuzZlWafashIraFzTZCvduLUH5qAupa8OKaRnP3a/\n",
       "RYtownXOdN3jUtbD6N6B+/aw6tLVIdHyF+apHv4fvxA53/GM/r73/MPveJOHv7aynVKmXWtIC/J1\n",
       "aB88SGeuPce7BfQhjtTr/2o3HzcHOdDunq6/AZ1a32Q+xQO0AAAAAElFTkSuQmCC\n",
       "\" style=\"display:inline;vertical-align:middle;\" /></a><br>"
      ],
      "text/plain": [
       "qmult_ket_complex_closure: forall_{c in Complex} [forall_{H in_c HilbertSpaces} [forall_{|psi> in H} ((|psi> . c) in H)]]"
      ]
     },
     "execution_count": 40,
     "metadata": {},
     "output_type": "execute_result"
    }
   ],
   "source": [
    "qmult_ket_complex_closure = Forall(\n",
    "    c, Forall(Hspace, Forall(var_ket_psi, InSet(Qmult(var_ket_psi, c), Hspace),\n",
    "                             domain=Hspace),\n",
    "              domain=HilbertSpaces),\n",
    "    domain=Complex)"
   ]
  },
  {
   "cell_type": "code",
   "execution_count": 41,
   "metadata": {},
   "outputs": [
    {
     "data": {
      "text/html": [
       "<strong id=\"qmult_complex_op_closure\"><a class=\"ProveItLink\" href=\"proofs/qmult_complex_op_closure/thm_proof.ipynb\">qmult_complex_op_closure</a> (conjecture without proof):<br></strong> <a class=\"ProveItLink\" href=\"../__pv_it/theorems/a410b7c650f5d0798d3713ec8ca10716f33929a90/theorem_expr.ipynb\"><img src=\"data:image/png;base64,iVBORw0KGgoAAAANSUhEUgAAAjAAAAAlBAMAAACuW85dAAAAMFBMVEX///+IiIgiIiIQEBB2dnbu\n",
       "7u5UVFTMzMzc3NwyMjK6urpmZmaYmJiqqqpEREQAAACk/Np2AAAAAXRSTlMAQObYZgAAAAlwSFlz\n",
       "AAAOxAAADsQBlSsOGwAAB79JREFUaN7tmn1sFEUUwN+1t73r7fW6jWBirLQ0ogY0HBSB8JFeY0Ei\n",
       "gZ6IRAK2p0jkL3ukigmJsHyIEkhbQyDGUHoKsTFBOUNJoYW0JCWRUuU0YCAIlG/S4rWCldJC65uv\n",
       "vd37ItASoHSSt9Ob9+7t7m9m3ryZK0Cccrb3NjyRpa63I67+T3hiy6uDYAbBDIIZBDPgwCRlvfTI\n",
       "EjFlvfLwwCQ/0oOlaaCAsXIJb4ttHbWoXAYOmOe4aGU9gE2JZx21fMtFgGkm1V8xwcRT9wVM//lN\n",
       "cTEJlYro729bNIlZbqjw4Mi5xJuH9Y6DOTfKwRQAKgJMDam+jgkmnrovYPrP73wuIVK95BbuCMPa\n",
       "kz3UUq7e3o4LQKZoLwpAylWsN3PhYJaRedccE0w8dV/A9J/f/Vy0IhdhqLD7w+0cHlsPtWyFBISS\n",
       "qk22lc2wjtRHuHAwBK05EBNMPHVfwPSfXycXrczI94ai57CsrDL2V4bbOpRYpnggFXvkrKo9Tafk\n",
       "IXWimwkHY6+PHQwRTDx1X8D0m19bGZPQsqNkEOBb6Ycfhmrtk4U1QCEGmvc1hb17HnuqeiZiVRqb\n",
       "lTUuzqoUR92nVam//MouJgC5Q7y0Ac7i28F0CmlzKHHrEtYAu3wA/4Rc5CymldnDRICpBrgUB0wc\n",
       "dZ/AaH5ZlJTpNZEEQQnsl8MWHjXChRYhRD/D6oBMY9aPsJK8/WGqDH0x2SmsAfLRZWfIVz5zZi9j\n",
       "IsCsA6tHnxK3vrdKD4apN2zy8jXxTI+aNJ52DczNnmauqLZnSm1QkhnygGamtNdddwEjbitNYKGR\n",
       "7RXI5S0vqxmTNnTUCNZ9aHaMNVyFRR9ykFgSAkzgeUikL+iHUuL4j7CEqdQvrGFZTjB4QReWitjD\n",
       "p2QyEWAcbrOPGVieDvqky2rKRT0Yqra7Cn2Q4ONzVVaZLWDHPgUWBUrBogNTRoaD7LkLGHFb851w\n",
       "MPkBWi/9qAWvB+ZkAsbGBglnwkg2qvywF4OFAJ/oYyJ3iI6tLSIjZyX5UJyFha19GT5hDTv/O316\n",
       "V+j55HVd7PXbmQgwKYrgWosDwfwmQIMeDFUvhUIV1ojoPoPbMjAkmOnBmJx0lbgbGHHbyjFhYGzF\n",
       "CqnlaorNleIF2WdRpE6wsk42dZhVnnHowSTytR+fP5U8zHbyoSB0z02aNZ1GpfWaptrSw8K4k4m2\n",
       "JSg7SJ4gXTER23eXIzbDloCqSQfM5E9ShVGB2jIwBe0EzJS0PWBuUNZ/U/v9v9NgixvU9S8P2QNr\n",
       "j/jAlLuEqExNuYYtAfMLypYwMKZkD6nT2QQgESiBdaeZpyaTp5HrLOErwKSQDyE0SnCKqZQQWqvo\n",
       "6bWbWIIDx/RRr9CYvTBajTaVYBaBP9LipHhPnAjfK1E1DBMjGUw3ta44n5d3AawUTCechHLYb5u0\n",
       "1oKPtfp6DWl6Bj6AiQi0iqh2wCoDGObXBPvCwChyGdYSGwCz+d4HTM1iKkMGfadTIm9TmKRiV6GB\n",
       "jcRinA/wG/WuxWh5Kn6r2EssoRAvdTTKk/IGUqJQ7c1MNDBrcNTLzZJ3J2k4dCgcDFHD/N7s7HZO\n",
       "mCQE1JaNGImCcUJqZTucwY4lYGBpm0KafF/CNZwEn2PzmZUH3jaAoX6hkk3GEBibF+diEn1BLFPI\n",
       "5Sd8h4ob2Tn826/5eaNhkZX9pO/pfHeQFednqi0Xt9yV0zvq13JqCUdxGF6AL6CQJDUF6C2VxidZ\n",
       "YaKBcaC/RBxih4PBYODTynAwDtpBnXQlI2VahpvbGsEkNk1pasSagFFx6JOmelPucBsCtaPK1tZl\n",
       "AMP8VuUVuQ1g5LzpHVjbtwWDf4OlQzxGqsoWYBIFaeMKkeBlMoG8NEzmCno347p1C0cAOwqb18Ky\n",
       "AWmJdGr0eJVZBknusnwiJIxANzkTwFZxnfBKUJkYjh3wvvAxu60YYoZjB3QosyluduOywGwjRwwJ\n",
       "whbnQhJ5M+mI2Qrn3ulgwf4T8Wb6VdSEYcRrAKOA9SbWFjq6k/wk4hEG32G85x3DclgxleBFLmHH\n",
       "Lnw12HE+S58WU0uSLNWNQmLHDV9ZzcUAJtkHLgeBa52panFNBwYzxmQFJBdIi3FZIIttGJhOnNTX\n",
       "YCHSkNo/gy5MUrBpmNQBw5WLuFKg6hR/eQMYnJKpAT0YMoXuEEA0+yttbXS30BBaBfAVZk44BtxA\n",
       "hiykCRdi7xeWENdHXxANlq6ou1EDGOv+g27rFZq1bWv1RoJJ9GL6tNgyVdo9Agpu1QO1JQne6Op5\n",
       "3VKR35p+0AXmXKWkW4WZLqjJywPL7d/98GzTCgWbiepY+owIMPJ4kOrK9WB2e2DBrQCCKSFPUdNw\n",
       "vscLDhzOmN+NSXIXBxaMdUttW3m3s+ikMjGWkhiZgt5SMpxmkb0+3e9HnuDNDQZ9MU7wcEFJekGF\n",
       "lNi2EcXivJcTPF2Cx2ppdrBFzGMX7gxx27cEQNuPS836v6SIA4xY2xi9pd34BG4+Ee7naPP4PWyI\n",
       "LO19AqMve7UNgnb8ZA4dRG3koi92Nda9N8ZS/MLlvsDU3wOYku5+A6NRCPVx48D8lSDydyV2eO9g\n",
       "kcN+LkwbeU7pfnC/K015eGAeg3LfYCzprkEw0coyKBsEE61cGZxK0cuIBxf+HgMwcf4Hb8fp+gGM\n",
       "pa63439g9klD+i/xrwAAAABJRU5ErkJggg==\n",
       "\" style=\"display:inline;vertical-align:middle;\" /></a><br>"
      ],
      "text/plain": [
       "qmult_complex_op_closure: forall_{c in Complex} [forall_{H, X in_c HilbertSpaces} [forall_{A | [A] in LINMAP(H, X)} ((c . A) in LINMAP(H, X))]]"
      ]
     },
     "execution_count": 41,
     "metadata": {},
     "output_type": "execute_result"
    }
   ],
   "source": [
    "qmult_complex_op_closure = Forall(\n",
    "    c, Forall(\n",
    "        (Hspace, X), Forall(\n",
    "            A, InSet(Qmult(c, A), LinMap(Hspace, X)),\n",
    "            condition=InSet(Qmult(A), LinMap(Hspace, X))),\n",
    "        domain=HilbertSpaces),\n",
    "    domain=Complex)"
   ]
  },
  {
   "cell_type": "code",
   "execution_count": 42,
   "metadata": {},
   "outputs": [
    {
     "data": {
      "text/html": [
       "<strong id=\"qmult_op_complex_closure\"><a class=\"ProveItLink\" href=\"proofs/qmult_op_complex_closure/thm_proof.ipynb\">qmult_op_complex_closure</a> (conjecture without proof):<br></strong> <a class=\"ProveItLink\" href=\"../__pv_it/theorems/0010280e8d964b5dc5dd70a158db2ab31c0bf0c50/theorem_expr.ipynb\"><img src=\"data:image/png;base64,iVBORw0KGgoAAAANSUhEUgAAAjAAAAAlBAMAAACuW85dAAAAMFBMVEX///+IiIgiIiIQEBB2dnbu\n",
       "7u5UVFTMzMzc3NwyMjK6urpmZmaYmJiqqqpEREQAAACk/Np2AAAAAXRSTlMAQObYZgAAAAlwSFlz\n",
       "AAAOxAAADsQBlSsOGwAAB79JREFUaN7tmn1sU1UUwE+3vrVru+4tiolxsrEENSChfAgEhitxfEQC\n",
       "PBGJBNyqSOQvV4JiQiI8PkQJZJshEGOYq0IkJigzQAYMXEkgEZhSDRgIAuObAHYTmIwBm+fcj9e+\n",
       "di2BjQBjNznvNvecnvfe795zz723BUhSTrbdhiey1LY1JdX/BU9seaUbTDeYbjDdYLocmLS8lx5Z\n",
       "Ipa8fg8PTPojPVjqugoYu5DYtsTW7RZdSNcB87wQLMtlm0NNZt1u+VaIBFNP1d8JwSRTdwRM5/nN\n",
       "8HKhUpns/R0zh3PLFZU+HDnnRHPPtsEw+VoFWELARILZQdVXCcEkU3cETOf5nSaEGLVFbqHFGdYc\n",
       "bWWWzup1jZgAcmV7SQgyLmK9WogAM4/irj4hmGTqjoDpPL87hWBxluiy1VUVa+f2OVqZ5WVIQSiZ\n",
       "RrAtrIdlVB8QIsAQWmsoIZhk6o6A6Ty/HiFYxk3yxy5EeubllfNPOZq9B1lm+CATe+SkwTC9WfFR\n",
       "napxEWBcwcSTIYJJpu4ImE7z6yjnQiNQzYmgXsuuP/QwGkZIa4BinGjeMxSuW1P5UwW5yKw0MC9v\n",
       "cJKslETdoazUWX6dXi70EU4GqbZmjQUYw1CtjizcWqQ1wKYAwL8RFwWzWGX1cZFgqgHOJQGTRN0h\n",
       "MIZfTbwUG800CSrgOh+TePQ4F8YMIfsZy4+wkN7b3g9+AdjHlJEvpnukNcAkdNkc8TWJO3OVc5Fg\n",
       "loHdF70kvvzuomgwXL1ilV/kxBOtetoQHspTBo22Vla7cpUGKM2NeEAzS9ZY713AyNsqQ/nUyPcK\n",
       "dHnTz2vOpAEd7Qf7djQ7xBsuwswPBEgsKSEuWKqgjFymeGEAwJ8xC6ayKmkN8wrC4TOeiKqEP3xG\n",
       "LhcJxq1ZA9zA9kw4oJzXM85Gg2Fql7c4ACkBEatOndsCduxTYFOhDGxRYMppODh9dwEjb2u9Ewtm\n",
       "UojVcz68hNddk3MB58Y9CkZCHz6qqmAbThYSfGqAC3VpTQnluVo2BhfSZW4eFp77cgLSGjb+d/z4\n",
       "psjzOZe18Ndv5CLBZKiSaw0OBOsbAHuiwTD1HCjWYYmc3ccJWw6GJrNoMBYPyxJ3AyNvu2FADBjH\n",
       "XJVqZzXD5s3wgzNgU5VmsPNOtjRZdbHiMIPBJ8+kx3iVta+jS1HknqsMaxZGZUFDU21r5dO4h4ux\n",
       "JSjfTU+QrVrI9p35iM20JWBq6oDx4km2YI8wWw6mqJHA5GdtBesedfnXNd9fHw1rNNCXv/z0Vlh6\n",
       "IACWUbNJZakbZdoScL+grokBY0n3UZ3NA4B6P4V3p1UsTUaMpusE6SvEhSIJUvC9lOusnYVSSmSL\n",
       "xE6vNWbpxjF90EjsVj/019sLJZhA8PvYPAzvkSOxeyWmhp5yJIPlhtEVpwsLz4CdgWmGo1ABOx3D\n",
       "l9rw4RZf3UFNz8L7MAyBbiHVelhkAsP9WmB7DBjVWY61wgNgotwBWeplKEMOe6djct2mcgEHzcIY\n",
       "CYAIHAC/M+/GHO0cid+a62eWxXipZbM8ldeREotLVz0XA8wSHPXOesW/kRr27o0FQ2qY1jZoUKMg\n",
       "TAsCZstHjMLAeCBzQyOcwI4lMDCnQaWmwBdwBYPgM2w+sXDXWyYwzC9s4MEYAePwYyymsdfEkk+X\n",
       "n/AdKq8NKhDffq1KNJqSLIt0N+WaGgBM1z8zbYW85aaCtr6/VXDLgzgMz8DnUEyLmiL0lsl+E3Cq\n",
       "XAwwbmSZikNsXzgcDn2yIRaMm3VQM8tkVEbnaMLWDCa1Lr9uP9YERsehT01By6heDgTqQpWjocUE\n",
       "hvvdUliimcA4C8c0Ye36Jhz+B2xN8jEydZ6AaRZkjQvkAi+XS1HbasxYN7HvraOy0CU/Cpt6ia8G\n",
       "lNnKsf5DdGYJYVq7zB8GKb3RTcFQcFReZdlM52I6dsD7wkf8tnKImY4d0KGTh7hVw7TAbeNHDE3C\n",
       "Ns8Mmnlz2YhZC6febuKT/cfyzaKzqAWnEb8JjAr2G1jb2OhOq6IZjxh8x0YC6xi+hpWhBC8KiTl2\n",
       "Edlg/Wm5JYhY02Kpti8SO2z6ymIhJjDpAfC6Ca59vG7Ma1FgcMWYroLiBWUWpgVKtjFgmjGor8AM\n",
       "pKE0fgotuEjBpp5KE/RSz2K+QNUx8fImMBiSmaFoMBRCdwgQW/2VXd6vXWJT6BaAL3HlhGNAAxqy\n",
       "kCVdyL1fzII42H5CNFl6292NmsDYd+7W7BfYqu2by/54MKl+SFVn2UYqm3tD0c0gMFta4PWvnnpL\n",
       "KamyZ+/24hhWS2/pMN4LOwoLwXb7jyp4rm6Bis2kOpQ9Lg6McwgotRXRYDb7YPrNEIIppafYsed0\n",
       "qx/cOJxxfTcgTZsbmj5QUxrWim7ns5POxVxKE6wUoi0V02kW7fXZfj/+BG9KOBxIcIKHCSXtBR0y\n",
       "EtvGFZvnXk7wohZ4vFYmhi/JOPbi/hC3fbMBjE2iUh/9SYk7wEi0jYm2dJmfQBOBcD9Hm4fvYUNk\n",
       "a+wQmOiyzdggGMdP1shB1Eoh0cWlJ7r3ykSKX4XcF5jgPYApvdVpYAwKkT7e3zV/JYj/XYkf3rv5\n",
       "zOE6FaONP6fUHtzvSvkPD8xjUO4bjC3b2w2mvTIPyrvBtFcudIdS+6X3g5v+HgMwSf6Dt/54sAtj\n",
       "qW1r+h9YW0c2WAv+cwAAAABJRU5ErkJggg==\n",
       "\" style=\"display:inline;vertical-align:middle;\" /></a><br>"
      ],
      "text/plain": [
       "qmult_op_complex_closure: forall_{c in Complex} [forall_{H, X in_c HilbertSpaces} [forall_{A | [A] in LINMAP(H, X)} ((A . c) in LINMAP(H, X))]]"
      ]
     },
     "execution_count": 42,
     "metadata": {},
     "output_type": "execute_result"
    }
   ],
   "source": [
    "qmult_op_complex_closure = Forall(\n",
    "    c, Forall(\n",
    "        (Hspace, X), Forall(\n",
    "            A, InSet(Qmult(A, c), LinMap(Hspace, X)),\n",
    "            condition=InSet(Qmult(A), LinMap(Hspace, X))),\n",
    "        domain=HilbertSpaces),\n",
    "    domain=Complex)"
   ]
  },
  {
   "cell_type": "code",
   "execution_count": 43,
   "metadata": {},
   "outputs": [
    {
     "data": {
      "text/html": [
       "<strong id=\"qmult_complex_left_closure\"><a class=\"ProveItLink\" href=\"proofs/qmult_complex_left_closure/thm_proof.ipynb\">qmult_complex_left_closure</a> (conjecture without proof):<br></strong> <a class=\"ProveItLink\" href=\"../__pv_it/theorems/8f9f0f3f3fd984b086d80ed9558198d61de9ceac0/theorem_expr.ipynb\"><img src=\"data:image/png;base64,iVBORw0KGgoAAAANSUhEUgAAASsAAAAzBAMAAAA9eDPFAAAAMFBMVEX///+IiIgiIiIQEBB2dnbu\n",
       "7u5UVFTMzMzc3NwyMjK6urpmZmaYmJiqqqpEREQAAACk/Np2AAAAAXRSTlMAQObYZgAAAAlwSFlz\n",
       "AAAOxAAADsQBlSsOGwAABURJREFUWMPtmX+IFGUYx5+53WlmZ3/cHJb9kaisJVSc3kkZFHUrHPaL\n",
       "O+fs/KNEb/szkJzysIx+jBlGGblGFxFpWxlHILWknpiSa3hUFHcTxGFQeUWmYOylaeeZtr3P+87s\n",
       "zru7M8cOu3dEN7AzO+/OO/N5n/d5vs/zzgJ4bOKqVRpM+TbpUxvy+czUY8Xy+VFvrDRMyxaZwZrB\n",
       "+k9iHa62w4PaFGCFk9X2kPqmAOur6rsM1R9LutWHkqp1xwolqu8jX6w71gk/6fSzumNd76fTdqPO\n",
       "WNIFX2k6UWesq9itjZJmw7XDNgrUUmesxizuBdPp0CmAd92u/2J1EC+5YmFRsB9csWJ4jGarx3qO\n",
       "2uU7Ljb/KOG0tpG214mxOtfh95strE/x+KYrVhgNFjKqxxqmhWaKi02CBX1lV3507dNtKVAOXoMn\n",
       "By2sjWi6UVcsCTPIqz4m8RGafzgzD6AqfV16oUAK4JVnob17EyrKPAsrRE6Cprtv4eg6fGAtxV3A\n",
       "2RJ8YRybmJwJv8RvZM2d5KOcA9jKLKozrAgZUMjD5b8hx5QPrPO4+9DZsllAfw5RAyo7bLFVqJC0\n",
       "kSljLmlakbgkHr/FAysQjy/wkUbgMu72USs13U1bMlFsC9K64qVCCgjQm79jn/ZkLawDACc9sMI6\n",
       "xHykERbpb+O3ZpZSFFNCC0ZSfIydoCL0WkFXVAtrK8jOwkg48/BmJxb5kc26yIooNsTTuNdgyLWk\n",
       "kihWM94kAa2sp/wXis184NxiBY3yOwpYCQsrpgUt1ZRm59Lib0b0V05OT8J99OQBnWYHJuGU8zaA\n",
       "ItbsJdySUrmE+9vJ54hl67mHBv7Bh6BKSMRz4oto83p8hjRewMpYWFHV9vhD5MHBLoBjHNa31tBW\n",
       "mCVYwSsUCwcDsFuPTBBTa7y1EOsua61MZucc8mJ6EYuKNA9HFsuUYUHqKD5jjiqgt615itySwwpF\n",
       "aG2mbFBLsPpbKRYOBqLE9sN6dNmzPNZOQnAeCrO/oDCJ8wtYPX8bvcbnxVPbt6ADpekmqWUtNh8/\n",
       "XpoTg99TEwihZAmW+gZi0cHAJpYF3y8Ej0wj8WcWkgo57LHijaXhpqITLv5zv1KU/u12JMIW8rzw\n",
       "qKhjRxgcLMWSqTCCGk7xWAImiiTQwdDnB0yHtcSzuF+OrgFABELGuRsj7h2mRg85BFyD6xyp1NYt\n",
       "iOl4S7IkyOVy5hP9ZRXEKTqHutDCY/XDLMSigwGcskbN4Vsstt5Day9r0kAcm9DgpzxJyQ008sRH\n",
       "P7AvfHnPgKNQ+TjtLGwaycW91I+7bCngC5tw+/ILPNa+9vUawaKDoZo+winELnoDvUw5nrcitdNK\n",
       "Puyt0AZ7PMOaEyuUhgRVTfl+o5gCHVgqyOMclkD8QCdYvSzMB9eIfG2wl+bczORr2lfG8uuefMs+\n",
       "+4QrA+XDRzWZzlb3rjN6OZaSZRNVxCKT12gSLJYCwovu2cZXP3TYcLpM/SsUKyOLFxb6LiyvTrtz\n",
       "ubRLdbo3CasnTAdWeCmIR3YSLDYY8ZmrVeByVA916rVlxbp3IhMv+yuaHQKBW9IazOP5ViPCZXSm\n",
       "kHJpXfuldyqNXqwVliU/c9t+59+6tPh6b5GqLVb5dFzygxUw/WGxYi1mufKQ6t75Xj9Ys+q+qg7o\n",
       "nj8/dqxS6501w5LmVC5eI56ltpSsVKkLqZphbXQr9Xd4ruor2nKLUTOsU24/rPRaXTZoYoUwaa7d\n",
       "a7cbwEUh5T6PXkpHhZV8LFs7rN0/ur0KeLHaKHkIpuDdqf9tBut/gDU4PX9zdk2CNW1/c/4LbLl/\n",
       "mXmfKxcAAAAASUVORK5CYII=\n",
       "\" style=\"display:inline;vertical-align:middle;\" /></a><br>"
      ],
      "text/plain": [
       "qmult_complex_left_closure: forall_{c in Complex} [forall_{A | [A] in_c Q*} ((c . A) in_c Q*)]"
      ]
     },
     "execution_count": 43,
     "metadata": {},
     "output_type": "execute_result"
    }
   ],
   "source": [
    "qmult_complex_left_closure = Forall(\n",
    "    c, Forall(A, InClass(Qmult(c, A), QmultCodomain),\n",
    "              condition=InClass(Qmult(A), QmultCodomain)),\n",
    "    domain=Complex)"
   ]
  },
  {
   "cell_type": "code",
   "execution_count": 44,
   "metadata": {},
   "outputs": [
    {
     "data": {
      "text/html": [
       "<strong id=\"qmult_complex_right_closure\"><a class=\"ProveItLink\" href=\"proofs/qmult_complex_right_closure/thm_proof.ipynb\">qmult_complex_right_closure</a> (conjecture without proof):<br></strong> <a class=\"ProveItLink\" href=\"../__pv_it/theorems/69407c0efad3e0dfaeaa54d01be40c761e0f4c9f0/theorem_expr.ipynb\"><img src=\"data:image/png;base64,iVBORw0KGgoAAAANSUhEUgAAASsAAAAzBAMAAAA9eDPFAAAAMFBMVEX///+IiIgiIiIQEBB2dnbu\n",
       "7u5UVFTMzMzc3NwyMjK6urpmZmaYmJiqqqpEREQAAACk/Np2AAAAAXRSTlMAQObYZgAAAAlwSFlz\n",
       "AAAOxAAADsQBlSsOGwAABUVJREFUWMPtmX+IFFUcwL9zu9PM7uyPEc3+SFTWEirUU8qgiDvhkH5w\n",
       "55ydf5TobX8GklMelpG2ahhl5BpdRKRtZRyB1JJ2YUqd4VFR3E0Qh0F1V2QKxl5a5p15be9935vd\n",
       "ebs7c+ywe0d0A/d23pt5M5/v931/vTkAj0Net86AKT8mfWtDPp+deqxYPj/ijZWBaTkiM1gzWP9J\n",
       "rBPVTnjAmAIsLVntDKV7CrC+rH7KQP2xlNt8RFK97lih5urnqGN1xxr2k04/qTvWDX4m7UvVGUu5\n",
       "5CtNN9cZ6xr26FTJcMp1wl4EaqwzVryPtpLFTDltD7/pdv/n64P0xgmOhWDfu2LF6G+0r3qsp1Ev\n",
       "33Kv/N0e5pzCMdT0MlFW2yZ6fgvH+pj+vuqKpVGFhVLVYw1iocm1NFzAgu6yO9+77qmmNISPXUs7\n",
       "xzjWVqq6EVcshWaQF30s4sOYf7iae8cK41+V3iiRAnjtBWjp2EYjygKOFSKdoOVuW1S6Vh9YK2kT\n",
       "YOfBZy4XxgMsnEk/J25iA23kL3wRYA/Tq8mwIkSgkIfJf01+0z6w/qTNu+x8pzRRDP6owPB+O9iG\n",
       "MZA0kSVjJmlxT1yRSNzqgRVIJBb5SCNwlTZH2Xk2ij1YNceEINYVzxVSQAAf/obd7ezjWB8BnPHA\n",
       "0kyI+UgjzNNfZwqxFNTdLksjq5MWfWwYg9BLhbiic6w9oDoLI+n8QzudWOQiW3WZFVFMxHO0NWDA\n",
       "taRSEGsJn6P+xdJRQIfoQhDMYg16+Z0FrGaOFTOCPGoqc3MZ+ddU9BchnJ6Be7Fzv4nZgYVw5Lwd\n",
       "oIg1d4WwpQxfoe0deD7/eO8/lA6tSKGxQiGWk1iKFzfTdygFl4hnOVZUty3+OHlxsB3glID1DRdt\n",
       "jVWCFZxALCoMwCEzMk5UbYjaQiyZrMtFqmIMQ2GaXuRiRFpAJYtly7AgfZK+Y54uUWvb8CR5pIAV\n",
       "imBtFt6il2D1LEcsKgxEie4HzeiqHSLWAXvdF1FrRuNmi7iwgNX5d6or9Vmxa9sWtNLQdLPSuJEO\n",
       "nz5dmhOD36EKpFCyBEt/hWKhMLCNZcG3C86jou/9RJvD3NNolszwNDyraITL/vgwXAz9+2xPhN3k\n",
       "fdqIbNLp0N9fiqViYARdS4tYEk0USUBh8P0By6Et+QJtV9P5dNVGiWFrWQiaoKHSQ44AbsD1jlRq\n",
       "xy2ImfSRZEuQy+Wsx3vKKoizuIam1Chi9cBsioXCAF2yuOGwLeZbbxG+0XEDfsyTZAwts0jaa0DP\n",
       "kx95x77x+cO9jkLl/YyzsImTm7vQjtvtUCAWNlrL6ksi1tGWzQbBQmEwpg8JEeIgPsAsixy7uKe2\n",
       "8eTDvgptseUZNJxYoQw0Y9RU70sVU6ADSwf1soAlETswCVYXc/P+DbJYGxzBnJudfE/7wmh+0xOv\n",
       "2b0PhDJQPXHSUHG1Og6eN8uxwn1soYpYZPHiFsFiKUBbevdesfpBseFcWfSvUKwMLVtcmLu4vDrt\n",
       "yOUyLtXpkSSsH7ccWNpKkD89QLCYMPL2OToIOaoTjXpjWbHuncjkq/6KZkeAoEeSC/NYfnkqImR0\n",
       "FiHV0rr2C+9UGh2rFRYPP/ObfhO/ujT6+m6Rri1W+XJc8YMVsPxhsWItxk15QHeffI8frNl131UH\n",
       "TM/Lj56qNHpXzbCUeZWL14hnqa0kK1XqUrpmWFvdSv39nrv6irrcnaoZ1lm3C2u9dpcNhlzBTZbU\n",
       "7rPbjeASIdVuj1nh1go7+Vhf7bAO/eD2KeDZar3kQZiCb6f+jxms/wFW//T8m7N9Eqxp+zfnvwF6\n",
       "gaaJ+kOaAAAAAElFTkSuQmCC\n",
       "\" style=\"display:inline;vertical-align:middle;\" /></a><br>"
      ],
      "text/plain": [
       "qmult_complex_right_closure: forall_{c in Complex} [forall_{A | [A] in_c Q*} ((A . c) in_c Q*)]"
      ]
     },
     "execution_count": 44,
     "metadata": {},
     "output_type": "execute_result"
    }
   ],
   "source": [
    "qmult_complex_right_closure = Forall(\n",
    "    c, Forall(A, InClass(Qmult(A, c), QmultCodomain),\n",
    "              condition=InClass(Qmult(A), QmultCodomain)),\n",
    "    domain=Complex)"
   ]
  },
  {
   "cell_type": "code",
   "execution_count": 45,
   "metadata": {},
   "outputs": [
    {
     "name": "stdout",
     "output_type": "stream",
     "text": [
      "These theorems may now be imported from the theory package: proveit.physics.quantum.algebra\n"
     ]
    }
   ],
   "source": [
    "%end theorems"
   ]
  },
  {
   "cell_type": "code",
   "execution_count": null,
   "metadata": {},
   "outputs": [],
   "source": []
  }
 ],
 "metadata": {
  "kernelspec": {
   "display_name": "Python 3",
   "language": "python",
   "name": "python3"
  },
  "language_info": {
   "codemirror_mode": {
    "name": "ipython",
    "version": 3
   },
   "file_extension": ".py",
   "mimetype": "text/x-python",
   "name": "python",
   "nbconvert_exporter": "python",
   "pygments_lexer": "ipython3",
   "version": "3.7.4"
  }
 },
 "nbformat": 4,
 "nbformat_minor": 1
}