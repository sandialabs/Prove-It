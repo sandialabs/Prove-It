{
 "cells": [
  {
   "cell_type": "markdown",
   "metadata": {},
   "source": [
    "Theorems (or conjectures) for the theory of <a class=\"ProveItLink\" href=\"theory.ipynb\">proveit.physics.quantum.algebra</a>\n",
    "========"
   ]
  },
  {
   "cell_type": "code",
   "execution_count": null,
   "metadata": {},
   "outputs": [],
   "source": [
    "import proveit\n",
    "# Prepare this notebook for defining the theorems of a theory:\n",
    "%theorems_notebook # Keep this at the top following 'import proveit'.\n",
    "\n",
    "from proveit import (Function, Lambda, Conditional, Composition,\n",
    "                     ExprTuple, ExprRange, IndexedVar)\n",
    "from proveit import (a, b, c, f, i, j, k, l, m, n, x, A, B, D, M, P, Q, U, V, W, X, Y,\n",
    "                     alpha)\n",
    "from proveit.core_expr_types import (\n",
    "    a_i, a_1_to_m, a_1_to_n, b_i, b_1_to_n, b_1_to_j, \n",
    "    x_i, x_1_to_n, v_i, w_i, w_j, v_1_to_n, v_1_to_m, w_1_to_n, \n",
    "    A_1_to_l, A_1_to_m, B_1_to_i, B_1_to_j, B_1_to_m, C_1_to_n, lambda_i)\n",
    "from proveit.logic import (And, Implies, Iff, Or, Forall, Exists, Equals, NotEquals,\n",
    "                           Set, InSet, SubsetEq, InClass, CartExp, Functions)\n",
    "from proveit.numbers import (zero, one, two, Natural, NaturalPos, \n",
    "                             RealNonNeg, Complex, Interval, Min)\n",
    "from proveit.numbers import Add, subtract, Mult, Exp, sqrd, sqrt\n",
    "from proveit.linear_algebra import (\n",
    "    VecSpaces, HilbertSpaces, Hspace, VecZero, LinMap, Commutator,\n",
    "    MatrixSpace, MatrixMult, Unitary, Diagonal, ScalarMult, TensorProd, Identity,\n",
    "    VecAdd, VecSum, InnerProd, InnerProdSpaces, Norm, OrthoProj, Adj, OrthoNormBases, Dim)\n",
    "from proveit.linear_algebra.addition import vec_summation_b1toj_fQ\n",
    "from proveit.physics.quantum import (\n",
    "    Qmult, Bra, Ket, NumBra, NumKet, ket0, ket1, bra0, bra1, m_ket_domain,\n",
    "    psi, varphi, ket_psi, ket_varphi, bra_varphi, \n",
    "    var_ket_psi, var_ket_varphi, var_ket_v, QubitSpace, QubitRegisterSpace)\n",
    "from proveit.physics.quantum.algebra import (\n",
    "    QmultCodomain, n_bit_interval, a_1_to_m_kets, b_1_to_n_kets,\n",
    "    v_1_to_m_kets, v_1_to_n_kets, w_1_to_n_kets, x_1_to_n_kets)"
   ]
  },
  {
   "cell_type": "code",
   "execution_count": null,
   "metadata": {},
   "outputs": [],
   "source": [
    "%begin theorems"
   ]
  },
  {
   "cell_type": "markdown",
   "metadata": {},
   "source": [
    "### Completeness relation and properties of orthogonal projectors"
   ]
  },
  {
   "cell_type": "code",
   "execution_count": null,
   "metadata": {},
   "outputs": [],
   "source": [
    "completeness_relation = Forall(\n",
    "    Hspace, Forall(n, Forall(x_1_to_n, \n",
    "                             Equals(VecSum(i, Qmult(Ket(x_i), Bra(x_i)),\n",
    "                                           domain=Interval(one, n)),\n",
    "                                    Identity(Hspace)),\n",
    "                             condition=InSet(x_1_to_n_kets, OrthoNormBases(Hspace))).with_wrapping(), \n",
    "                   domain=NaturalPos),\n",
    "    domain=HilbertSpaces)"
   ]
  },
  {
   "cell_type": "code",
   "execution_count": null,
   "metadata": {},
   "outputs": [],
   "source": [
    "ortho_projector_from_completion = Forall(\n",
    "    Hspace, Forall(\n",
    "        X, Forall(\n",
    "            n, Forall(x_1_to_n, \n",
    "                      Equals(OrthoProj(Hspace, X),\n",
    "                             VecSum(i, Qmult(Ket(x_i), Bra(x_i)),\n",
    "                                    domain=Interval(one, n))),\n",
    "                      condition=InSet(x_1_to_n_kets, OrthoNormBases(X))).with_wrapping(),\n",
    "            domain=NaturalPos),\n",
    "        condition=SubsetEq(X, Hspace)),\n",
    "    domain=HilbertSpaces)"
   ]
  },
  {
   "cell_type": "code",
   "execution_count": null,
   "metadata": {},
   "outputs": [],
   "source": [
    " Forall(\n",
    "    Hspace, Forall(\n",
    "        X, Forall(\n",
    "            n, Forall(x_1_to_n, \n",
    "                      Equals(OrthoProj(Hspace, X),\n",
    "                             VecSum(i, Qmult(Ket(x_i), Bra(x_i)),\n",
    "                                    domain=Interval(one, n))),\n",
    "                      condition=InSet(x_1_to_n_kets, OrthoNormBases(Hspace))).with_wrapping(),\n",
    "            domain=NaturalPos),\n",
    "        condition=SubsetEq(X, Hspace)),\n",
    "    domain=HilbertSpaces)"
   ]
  },
  {
   "cell_type": "markdown",
   "metadata": {},
   "source": [
    "### Outer product representations and spectral decomposition"
   ]
  },
  {
   "cell_type": "code",
   "execution_count": null,
   "metadata": {},
   "outputs": [],
   "source": [
    "# Represent a linear operator in an outer product representation\n",
    "output_prod_operator_repr = Forall(\n",
    "    (V, W), Forall(        \n",
    "        A, Forall(\n",
    "            (m, n), Forall(\n",
    "                v_1_to_m, Forall(\n",
    "                    w_1_to_n, \n",
    "                    Equals(A, VecSum(i, VecSum(j, Qmult(Bra(w_j), A, Ket(v_i), Ket(w_j), Bra(v_i)),\n",
    "                                               domain=Interval(one, n)),\n",
    "                                     domain=Interval(one, m))),\n",
    "                    condition=InSet(w_1_to_n_kets, OrthoNormBases(W))).with_wrapping(),\n",
    "                condition=InSet(v_1_to_m_kets, OrthoNormBases(V))).with_wrapping(),\n",
    "            domain=NaturalPos),\n",
    "        domain=LinMap(V, W)),\n",
    "    domain=HilbertSpaces)"
   ]
  },
  {
   "cell_type": "code",
   "execution_count": null,
   "metadata": {},
   "outputs": [],
   "source": [
    "spectral_decomposition_as_outer_prods = Forall(\n",
    "    n, Forall(\n",
    "        Hspace, Forall(\n",
    "            M, \n",
    "            Iff(Equals(Qmult(Adj(M), M), \n",
    "                       Qmult(M, Adj(M))),\n",
    "                Exists(\n",
    "                    v_1_to_n, Exists(\n",
    "                        a_1_to_n,\n",
    "                        Equals(M, VecSum(i, ScalarMult(a_i, Qmult(Ket(v_i), Bra(v_i))),\n",
    "                                         domain=Interval(one, n))),\n",
    "                        domain=Complex).with_wrapping(),\n",
    "                    condition=InSet(Set(v_1_to_n_kets), OrthoNormBases(Hspace))).with_wrapping())\n",
    "            .with_wrap_after_operator(),\n",
    "            domain=LinMap(Hspace, Hspace)),\n",
    "        domain=HilbertSpaces,\n",
    "        condition=Equals(Dim(Hspace), n)).with_wrapping(),\n",
    "    domain=NaturalPos)"
   ]
  },
  {
   "cell_type": "code",
   "execution_count": null,
   "metadata": {},
   "outputs": [],
   "source": [
    "matrix_spectral_decomposition_as_outer_prods = Forall(\n",
    "    n, Forall(\n",
    "        M, \n",
    "        Iff(Equals(Qmult(Adj(M), M), \n",
    "                   Qmult(M, Adj(M))),\n",
    "            Exists(\n",
    "                v_1_to_n, Exists(\n",
    "                    a_1_to_n,\n",
    "                    Equals(M, VecSum(i, ScalarMult(a_i, Qmult(Ket(v_i), Bra(v_i))),\n",
    "                                     domain=Interval(one, n))),\n",
    "                    domain=Complex).with_wrapping(),\n",
    "                condition=InSet(Set(v_1_to_n_kets), \n",
    "                                OrthoNormBases(CartExp(Complex, n)))).with_wrapping())\n",
    "        .with_wrap_after_operator(),\n",
    "        domain=MatrixSpace(Complex, n, n)),\n",
    "    domain=NaturalPos)"
   ]
  },
  {
   "cell_type": "markdown",
   "metadata": {},
   "source": [
    "#### Simultaneous diagonalization"
   ]
  },
  {
   "cell_type": "code",
   "execution_count": null,
   "metadata": {},
   "outputs": [],
   "source": [
    "simultaneous_diagonalization_as_outer_prods = Forall(\n",
    "    n, Forall(\n",
    "        Hspace, Forall(\n",
    "            (A, B), \n",
    "            Iff(Equals(Commutator(A, B), VecZero(LinMap(Hspace, Hspace))),\n",
    "                Exists(\n",
    "                    v_1_to_n, Exists(\n",
    "                        (a_1_to_n, b_1_to_n),\n",
    "                        And(Equals(A, VecSum(i, ScalarMult(a_i, Qmult(Ket(v_i), Bra(v_i))),\n",
    "                                             domain=Interval(one, n))),\n",
    "                            Equals(B, VecSum(i, ScalarMult(b_i, Qmult(Ket(v_i), Bra(v_i))),\n",
    "                                             domain=Interval(one, n)))).with_wrap_after_operator(),\n",
    "                        domain=Complex).with_wrapping(),\n",
    "                    condition=InSet(Set(v_1_to_n), OrthoNormBases(Hspace))).with_wrapping())\n",
    "            .with_wrap_after_operator(),\n",
    "            domain=LinMap(Hspace, Hspace),\n",
    "            conditions=[Equals(Adj(A), A), Equals(Adj(B), B)]\n",
    "        ).with_wrapping(),\n",
    "        domain=HilbertSpaces,\n",
    "        condition=Equals(Dim(Hspace), n)).with_wrapping(),\n",
    "    domain=NaturalPos)"
   ]
  },
  {
   "cell_type": "code",
   "execution_count": null,
   "metadata": {},
   "outputs": [],
   "source": [
    "matrix_simultaneous_diagonalization_as_outer_prods = Forall(\n",
    "    n, Forall(\n",
    "        (A, B), \n",
    "        Iff(Equals(Commutator(A, B), VecZero(MatrixSpace(Complex, n, n))),\n",
    "            Exists(\n",
    "                v_1_to_n, Exists(\n",
    "                    (a_1_to_n, b_1_to_n),\n",
    "                    And(Equals(A, VecSum(i, ScalarMult(a_i, Qmult(Ket(v_i), Bra(v_i))),\n",
    "                                         domain=Interval(one, n))),\n",
    "                        Equals(B, VecSum(i, ScalarMult(b_i, Qmult(Ket(v_i), Bra(v_i))),\n",
    "                                         domain=Interval(one, n)))).with_wrap_after_operator(),\n",
    "                    domain=Complex).with_wrapping(),\n",
    "                condition=InSet(Set(v_1_to_n), \n",
    "                                OrthoNormBases(CartExp(Complex, n)))).with_wrapping())\n",
    "        .with_wrap_after_operator(),\n",
    "        domain=MatrixSpace(Complex, n, n),\n",
    "        conditions=[Equals(Adj(A), A), Equals(Adj(B), B)]).with_wrapping(),\n",
    "    domain=NaturalPos)"
   ]
  },
  {
   "cell_type": "markdown",
   "metadata": {},
   "source": [
    "#### Applying a function on a normal operator (derives from a more general linear algebra result) "
   ]
  },
  {
   "cell_type": "code",
   "execution_count": null,
   "metadata": {},
   "outputs": [],
   "source": [
    "operator_function = Forall(\n",
    "    n, Forall(\n",
    "        Hspace, Forall(\n",
    "            v_1_to_n, Forall(\n",
    "                a_1_to_n, Forall(\n",
    "                    f, Equals(\n",
    "                        Function(f, VecSum(i, ScalarMult(a_i, Qmult(Ket(v_i), Bra(v_i))),\n",
    "                                           domain=Interval(one, n))),\n",
    "                        VecSum(i, ScalarMult(Function(f, a_i), \n",
    "                                             Qmult(Ket(v_i), Bra(v_i))),\n",
    "                               domain=Interval(one, n))),\n",
    "                    domain=Functions(Complex, Complex)),\n",
    "                domain=Complex),\n",
    "            condition=InSet(Set(v_1_to_n_kets), OrthoNormBases(Hspace))).with_wrapping(),\n",
    "        domain=HilbertSpaces,\n",
    "        condition=Equals(Dim(Hspace), n)).with_wrapping(),\n",
    "    domain=NaturalPos)"
   ]
  },
  {
   "cell_type": "markdown",
   "metadata": {},
   "source": [
    "#### Unitary matrices in outer product form"
   ]
  },
  {
   "cell_type": "code",
   "execution_count": null,
   "metadata": {},
   "outputs": [],
   "source": [
    "unitary_matrices_transform_ortho_norm_bases = Forall(\n",
    "    n, Forall(\n",
    "        U, \n",
    "        Exists(\n",
    "            (v_1_to_n, w_1_to_n),\n",
    "            Equals(U, VecSum(i, Qmult(Ket(v_i), Bra(w_i)), domain=Interval(one, n))),\n",
    "            conditions=[InSet(Set(v_1_to_n_kets), \n",
    "                              OrthoNormBases(CartExp(Complex, n))),\n",
    "                        InSet(Set(w_1_to_n_kets), \n",
    "                              OrthoNormBases(CartExp(Complex, n)))]).with_wrapping(),\n",
    "        domain=Unitary(n)),\n",
    "    domain=NaturalPos)"
   ]
  },
  {
   "cell_type": "code",
   "execution_count": null,
   "metadata": {},
   "outputs": [],
   "source": [
    "Forall(\n",
    "    n, Forall(\n",
    "        U, \n",
    "        Forall(\n",
    "            (v_1_to_n, w_1_to_n),\n",
    "            Equals(U, VecSum(i, Qmult(Ket(v_i), Bra(w_i)), domain=Interval(one, n))),\n",
    "            conditions=[InSet(Set(v_1_to_n_kets), \n",
    "                              OrthoNormBases(CartExp(Complex, n))),\n",
    "                        InSet(Set(w_1_to_n_kets), \n",
    "                              OrthoNormBases(CartExp(Complex, n)))]).with_wrapping(),\n",
    "        domain=Unitary(n)),\n",
    "    domain=NaturalPos)"
   ]
  },
  {
   "cell_type": "code",
   "execution_count": null,
   "metadata": {},
   "outputs": [],
   "source": [
    "ortho_norm_bases_form_unitary_matrice = Forall(\n",
    "    n, Forall(\n",
    "        (v_1_to_n, w_1_to_n),\n",
    "        InSet(VecSum(i, Qmult(Ket(v_i), Bra(w_i)), domain=Interval(one, n)), Unitary(n)),\n",
    "        conditions=[InSet(Set(v_1_to_n_kets), OrthoNormBases(CartExp(Complex, n))),\n",
    "                    InSet(Set(w_1_to_n_kets), OrthoNormBases(CartExp(Complex, n)))]).with_wrapping(),\n",
    "    domain=NaturalPos)"
   ]
  },
  {
   "cell_type": "markdown",
   "metadata": {},
   "source": [
    "#### Polar and singular-value decompositions"
   ]
  },
  {
   "cell_type": "code",
   "execution_count": null,
   "metadata": {},
   "outputs": [],
   "source": [
    "matrix_left_polar_decomposition = Forall(\n",
    "    n, Forall(\n",
    "        A, \n",
    "        Exists(\n",
    "            U,\n",
    "            Equals(A, Qmult(U, sqrt(Qmult(Adj(A), A)))),\n",
    "            domain=Unitary(n)),\n",
    "        domain=MatrixSpace(Complex, n, n)\n",
    "    ),\n",
    "    domain=NaturalPos)"
   ]
  },
  {
   "cell_type": "code",
   "execution_count": null,
   "metadata": {},
   "outputs": [],
   "source": [
    "matrix_right_polar_decomposition = Forall(\n",
    "    n, Forall(\n",
    "        A, \n",
    "        Exists(\n",
    "            U,\n",
    "            Equals(A, Qmult(sqrt(Qmult(A, Adj(A))), U)),\n",
    "            domain=Unitary(n)),\n",
    "        domain=MatrixSpace(Complex, n, n)\n",
    "    ),\n",
    "    domain=NaturalPos)"
   ]
  },
  {
   "cell_type": "code",
   "execution_count": null,
   "metadata": {},
   "outputs": [],
   "source": [
    "matrix_singular_value_decomposition = Forall(\n",
    "    n, Forall(\n",
    "        A, \n",
    "        Exists(\n",
    "            D, Exists(\n",
    "                (U, V),\n",
    "                Equals(A, Qmult(U, D, V)),\n",
    "                domain=Unitary(n)),\n",
    "            domain=Diagonal(n)),\n",
    "        domain=MatrixSpace(Complex, n, n)\n",
    "    ),\n",
    "    domain=NaturalPos)"
   ]
  },
  {
   "cell_type": "code",
   "execution_count": null,
   "metadata": {},
   "outputs": [],
   "source": [
    "schmidt_decomposition = Forall(\n",
    "    (m, n), Forall(\n",
    "        var_ket_psi, \n",
    "        Exists(\n",
    "            a_1_to_m, Exists(\n",
    "                b_1_to_n, Exists(\n",
    "                    ExprRange(i, lambda_i, one, Min(m, n)),\n",
    "                    Equals(var_ket_psi, \n",
    "                           VecSum(i, ScalarMult(lambda_i, Qmult(Ket(a_i), Ket(b_i))),\n",
    "                                  domain=Interval(one, Min(m, n)))),\n",
    "                    domain=RealNonNeg).with_wrapping(),\n",
    "                condition=InSet(Set(b_1_to_n_kets), \n",
    "                                OrthoNormBases(CartExp(Complex, n)))).with_wrapping(),\n",
    "            condition=InSet(Set(a_1_to_m_kets), \n",
    "                            OrthoNormBases(CartExp(Complex, m)))).with_wrapping(),\n",
    "        domain=TensorProd(CartExp(Complex, m), CartExp(Complex, n))).with_wrapping(),\n",
    "    domain=NaturalPos)"
   ]
  },
  {
   "cell_type": "markdown",
   "metadata": {},
   "source": [
    "### Basis ket membership and reductions"
   ]
  },
  {
   "cell_type": "code",
   "execution_count": null,
   "metadata": {},
   "outputs": [],
   "source": [
    "ket_zero_in_qubit_space = InSet(ket0, QubitSpace)"
   ]
  },
  {
   "cell_type": "code",
   "execution_count": null,
   "metadata": {},
   "outputs": [],
   "source": [
    "ket_one_in_qubit_space = InSet(ket1, QubitSpace)"
   ]
  },
  {
   "cell_type": "code",
   "execution_count": null,
   "metadata": {},
   "outputs": [],
   "source": [
    "ket_zero_norm = Equals(Norm(ket0), one)"
   ]
  },
  {
   "cell_type": "code",
   "execution_count": null,
   "metadata": {},
   "outputs": [],
   "source": [
    "ket_one_norm = Equals(Norm(ket1), one)"
   ]
  },
  {
   "cell_type": "code",
   "execution_count": null,
   "metadata": {},
   "outputs": [],
   "source": [
    "ket_zero_and_one_are_orthogonal = Equals(Qmult(bra0, ket1), zero)"
   ]
  },
  {
   "cell_type": "code",
   "execution_count": null,
   "metadata": {},
   "outputs": [],
   "source": [
    "single_qubit_num_ket = Forall(\n",
    "    b, Equals(NumKet(b, one), Ket(b)),\n",
    "    domain=Natural)"
   ]
  },
  {
   "cell_type": "code",
   "execution_count": null,
   "metadata": {},
   "outputs": [],
   "source": [
    "num_ket0 = Equals(NumKet(zero, one), ket0)"
   ]
  },
  {
   "cell_type": "code",
   "execution_count": null,
   "metadata": {},
   "outputs": [],
   "source": [
    "num_ket1 = Equals(NumKet(one, one), ket1)"
   ]
  },
  {
   "cell_type": "code",
   "execution_count": null,
   "metadata": {},
   "outputs": [],
   "source": [
    "num_ket_in_register_space = Forall(\n",
    "    n,\n",
    "    Forall(k,\n",
    "           InSet(NumKet(k, n), CartExp(Complex, Exp(two, n))),\n",
    "           domain=n_bit_interval),\n",
    "    domain=NaturalPos)"
   ]
  },
  {
   "cell_type": "code",
   "execution_count": null,
   "metadata": {},
   "outputs": [],
   "source": [
    "num_ket_norm = Forall(n, Forall(k, Equals(Norm(NumKet(k, n)), one),\n",
    "                                domain=n_bit_interval),\n",
    "                      domain=NaturalPos)"
   ]
  },
  {
   "cell_type": "code",
   "execution_count": null,
   "metadata": {},
   "outputs": [],
   "source": [
    "num_bra_is_lin_map = Forall(\n",
    "    n,\n",
    "    Forall(k,\n",
    "           InSet(NumBra(k, n), \n",
    "                 LinMap(CartExp(Complex, Exp(two, n)),\n",
    "                        Complex)),\n",
    "           domain=n_bit_interval),\n",
    "    domain=NaturalPos)"
   ]
  },
  {
   "cell_type": "markdown",
   "metadata": {},
   "source": [
    "### NumKet theorems"
   ]
  },
  {
   "cell_type": "code",
   "execution_count": null,
   "metadata": {},
   "outputs": [],
   "source": [
    "prepend_num_ket_with_zero_ket = Forall(\n",
    "        n,\n",
    "        Forall(k,\n",
    "               Equals(NumKet(k, Add(n, one)),\n",
    "                      TensorProd(ket0, NumKet(k, n))),\n",
    "               domain=n_bit_interval),\n",
    "        domain=NaturalPos)"
   ]
  },
  {
   "cell_type": "code",
   "execution_count": null,
   "metadata": {},
   "outputs": [],
   "source": [
    "prepend_num_ket_with_one_ket = Forall(\n",
    "        n, \n",
    "        Forall(k, Equals(NumKet(Add(Exp(two, n), k), Add(n, one)),\n",
    "                         TensorProd(ket1, NumKet(k, n))),\n",
    "               domain=n_bit_interval),\n",
    "        domain=NaturalPos)"
   ]
  },
  {
   "cell_type": "markdown",
   "metadata": {},
   "source": [
    "`NumKet`s of the same dimension are equal if and only if their contents are equal."
   ]
  },
  {
   "cell_type": "code",
   "execution_count": null,
   "metadata": {},
   "outputs": [],
   "source": [
    "# We don't need the domain because substitution is possible\n",
    "# in any operation.\n",
    "num_ket_eq = Forall(\n",
    "    n, Forall((j, k), Equals(NumKet(j, n), NumKet(k, n)),\n",
    "              condition=Equals(j, k)))"
   ]
  },
  {
   "cell_type": "code",
   "execution_count": null,
   "metadata": {},
   "outputs": [],
   "source": [
    "num_ket_neq = Forall(\n",
    "    n, Forall((j, k), NotEquals(NumKet(j, n), NumKet(k, n)),\n",
    "              domain=n_bit_interval, condition=NotEquals(j, k)),\n",
    "    domain=NaturalPos)"
   ]
  },
  {
   "cell_type": "markdown",
   "metadata": {},
   "source": [
    "### Theorems about Hilbert spaces"
   ]
  },
  {
   "cell_type": "markdown",
   "metadata": {},
   "source": [
    "Complex vectors form Hilbert spaces"
   ]
  },
  {
   "cell_type": "code",
   "execution_count": null,
   "metadata": {},
   "outputs": [],
   "source": [
    "complex_vec_set_is_hilbert_space = Forall(\n",
    "    n, InClass(CartExp(Complex, n), HilbertSpaces),\n",
    "    domain=NaturalPos)"
   ]
  },
  {
   "cell_type": "markdown",
   "metadata": {},
   "source": [
    "As a special case, the complex number set is also a Hilbert space:"
   ]
  },
  {
   "cell_type": "code",
   "execution_count": null,
   "metadata": {},
   "outputs": [],
   "source": [
    "complex_set_is_hilbert_space = InClass(Complex, HilbertSpaces)"
   ]
  },
  {
   "cell_type": "markdown",
   "metadata": {},
   "source": [
    "Hilbert spaces are inner product spaces and vector spaces"
   ]
  },
  {
   "cell_type": "code",
   "execution_count": null,
   "metadata": {},
   "outputs": [],
   "source": [
    "hilbert_space_is_inner_prod_space = Forall(\n",
    "    Hspace, InClass(Hspace, InnerProdSpaces(Complex)),\n",
    "    domain=HilbertSpaces)"
   ]
  },
  {
   "cell_type": "code",
   "execution_count": null,
   "metadata": {},
   "outputs": [],
   "source": [
    "hilbert_space_is_vec_space = Forall(\n",
    "    Hspace, InClass(Hspace, VecSpaces(Complex)),\n",
    "    domain=HilbertSpaces)"
   ]
  },
  {
   "cell_type": "markdown",
   "metadata": {},
   "source": [
    "### Qmult Associativity"
   ]
  },
  {
   "cell_type": "code",
   "execution_count": null,
   "metadata": {},
   "outputs": [],
   "source": [
    "qmult_association = Forall(\n",
    "    (l,m,n), Forall(\n",
    "        (A_1_to_l,B_1_to_m,C_1_to_n),\n",
    "        Equals(Qmult(A_1_to_l, B_1_to_m, C_1_to_n),\n",
    "               Qmult(A_1_to_l, Qmult(B_1_to_m), \n",
    "                     C_1_to_n)).with_wrapping_at(2),\n",
    "        condition=InClass(Qmult(A_1_to_l, B_1_to_m,\n",
    "                                C_1_to_n),\n",
    "                          QmultCodomain)),\n",
    "    domains=(Natural, NaturalPos, Natural))"
   ]
  },
  {
   "cell_type": "code",
   "execution_count": null,
   "metadata": {},
   "outputs": [],
   "source": [
    "qmult_disassociation = Forall(\n",
    "    (l,m,n), Forall(\n",
    "        (A_1_to_l,B_1_to_m,C_1_to_n),\n",
    "        Equals(Qmult(A_1_to_l, Qmult(B_1_to_m), C_1_to_n),\n",
    "               Qmult(A_1_to_l, B_1_to_m, C_1_to_n)\n",
    "              ).with_wrapping_at(2),\n",
    "        condition=InClass(Qmult(A_1_to_l, B_1_to_m,\n",
    "                                      C_1_to_n),\n",
    "                          QmultCodomain)),\n",
    "    domains=(Natural, NaturalPos, Natural))"
   ]
  },
  {
   "cell_type": "code",
   "execution_count": null,
   "metadata": {},
   "outputs": [],
   "source": [
    "scalar_mult_absorption = Forall(\n",
    "    (alpha, l, n), Forall(\n",
    "        (A_1_to_l,B,C_1_to_n),\n",
    "        Equals(Qmult(A_1_to_l, ScalarMult(alpha, B), C_1_to_n),\n",
    "               Qmult(A_1_to_l, alpha, B, C_1_to_n)\n",
    "              ).with_wrapping_at(2),\n",
    "        condition=InClass(Qmult(A_1_to_l, B, C_1_to_n),\n",
    "                          QmultCodomain)),\n",
    "    domains=(Complex, Natural, Natural))"
   ]
  },
  {
   "cell_type": "markdown",
   "metadata": {},
   "source": [
    "### Complex number commutivity and associativity"
   ]
  },
  {
   "cell_type": "code",
   "execution_count": null,
   "metadata": {},
   "outputs": [],
   "source": [
    "qmult_pulling_scalar_out_front = Forall(\n",
    "    (l,n), Forall(\n",
    "        b, Forall(\n",
    "            (A_1_to_l, C_1_to_n),\n",
    "            Equals(Qmult(A_1_to_l, b, C_1_to_n),\n",
    "                   Qmult(b, A_1_to_l, C_1_to_n)\n",
    "              ).with_wrapping_at(2),\n",
    "            condition=InClass(Qmult(A_1_to_l, C_1_to_n),\n",
    "                              QmultCodomain)),\n",
    "        domain=Complex),\n",
    "    domain=Natural)"
   ]
  },
  {
   "cell_type": "code",
   "execution_count": null,
   "metadata": {},
   "outputs": [],
   "source": [
    "qmult_pulling_scalars_out_front = Forall(\n",
    "    (j,l,n), Forall(\n",
    "        b_1_to_j, Forall(\n",
    "            (A_1_to_l, C_1_to_n),\n",
    "            Equals(Qmult(A_1_to_l, b_1_to_j, C_1_to_n),\n",
    "                   Qmult(b_1_to_j, A_1_to_l, C_1_to_n)\n",
    "              ).with_wrapping_at(2),\n",
    "            condition=InClass(Qmult(A_1_to_l, C_1_to_n),\n",
    "                              QmultCodomain)),\n",
    "        domain=Complex),\n",
    "    domain=Natural)"
   ]
  },
  {
   "cell_type": "code",
   "execution_count": null,
   "metadata": {},
   "outputs": [],
   "source": [
    "qmult_scalar_association = Forall(\n",
    "    (j,l), Forall(\n",
    "        b_1_to_j, Forall(\n",
    "            A_1_to_l,\n",
    "            Equals(Qmult(b_1_to_j, A_1_to_l),\n",
    "                   Qmult(Mult(b_1_to_j), A_1_to_l)\n",
    "              ).with_wrapping_at(2),\n",
    "            condition=InClass(Qmult(A_1_to_l),\n",
    "                              QmultCodomain)),\n",
    "        domain=Complex),\n",
    "    domains=(NaturalPos, Natural))"
   ]
  },
  {
   "cell_type": "code",
   "execution_count": null,
   "metadata": {},
   "outputs": [],
   "source": [
    "scalar_mult_factorization = Forall(\n",
    "    j, Forall(\n",
    "        a, Forall(\n",
    "            B_1_to_j,\n",
    "            Equals(Qmult(a, B_1_to_j),\n",
    "                   ScalarMult(a, Qmult(B_1_to_j))\n",
    "              ).with_wrapping_at(2),\n",
    "            condition=InClass(Qmult(B_1_to_j),\n",
    "                              QmultCodomain)),\n",
    "        domain=Complex),\n",
    "    domain=NaturalPos)"
   ]
  },
  {
   "cell_type": "markdown",
   "metadata": {},
   "source": [
    "### Qmult Distributivity"
   ]
  },
  {
   "cell_type": "code",
   "execution_count": null,
   "metadata": {},
   "outputs": [],
   "source": [
    "qmult_distribution_over_add = Forall(\n",
    "    (i, m, n), Forall(\n",
    "        (A_1_to_m, B_1_to_i, C_1_to_n), \n",
    "        Implies(\n",
    "            InClass(Qmult(A_1_to_m, VecAdd(B_1_to_i), C_1_to_n),\n",
    "                          QmultCodomain),\n",
    "            Equals(Qmult(A_1_to_m, VecAdd(B_1_to_i), C_1_to_n),\n",
    "                   VecAdd(ExprRange(\n",
    "                       k, Qmult(A_1_to_m, IndexedVar(B, k), \n",
    "                                C_1_to_n),\n",
    "                       one, i))).with_wrap_after_operator())\n",
    "        .with_wrap_after_operator()),\n",
    "    domains=(NaturalPos, Natural, Natural))"
   ]
  },
  {
   "cell_type": "code",
   "execution_count": null,
   "metadata": {},
   "outputs": [],
   "source": [
    "qmult_distribution_over_summation = Forall(\n",
    "    (j, m, n), Forall(\n",
    "        (A_1_to_m, C_1_to_n, f, Q),\n",
    "        Implies(InClass(Qmult(A_1_to_m, vec_summation_b1toj_fQ,\n",
    "                              C_1_to_n),\n",
    "                        QmultCodomain),\n",
    "                Equals(Qmult(A_1_to_m, vec_summation_b1toj_fQ,\n",
    "                             C_1_to_n),\n",
    "                       VecSum(b_1_to_j,\n",
    "                              Qmult(A_1_to_m, Function(f, b_1_to_j),\n",
    "                                    C_1_to_n),\n",
    "                              condition=Function(Q, b_1_to_j)))\n",
    "                .with_wrap_before_operator())\n",
    "        .with_wrap_after_operator()),\n",
    "    domains=(NaturalPos, Natural, Natural))"
   ]
  },
  {
   "cell_type": "markdown",
   "metadata": {},
   "source": [
    "### Unary Qmult"
   ]
  },
  {
   "cell_type": "code",
   "execution_count": null,
   "metadata": {},
   "outputs": [],
   "source": [
    "qmult_of_complex = Forall(c, Equals(Qmult(c), c),\n",
    "                          domain=Complex)"
   ]
  },
  {
   "cell_type": "code",
   "execution_count": null,
   "metadata": {},
   "outputs": [],
   "source": [
    "qmult_of_bra = Forall(\n",
    "    Hspace, Forall(varphi, Equals(Qmult(Bra(varphi)), Bra(varphi)),\n",
    "                   condition=InSet(Ket(varphi), Hspace)),\n",
    "    domain=HilbertSpaces)"
   ]
  },
  {
   "cell_type": "markdown",
   "metadata": {},
   "source": [
    " ### Qmult as a linear map"
   ]
  },
  {
   "cell_type": "markdown",
   "metadata": {},
   "source": [
    "A 'bra' acts as an operator defined by the inner product.  The order in the inner product is reversed to compensate for the different conventions between Physicists and Mathematicians (whether the inner product is linear versus conjugate-linear on the left or right)."
   ]
  },
  {
   "cell_type": "code",
   "execution_count": null,
   "metadata": {},
   "outputs": [],
   "source": [
    "qmult_of_bra_as_map = Forall(\n",
    "    Hspace, Forall(\n",
    "        varphi, Equals(\n",
    "            Qmult(Bra(varphi)), \n",
    "            Lambda(var_ket_psi,\n",
    "                   Conditional(InnerProd(var_ket_psi, ket_varphi),\n",
    "                               InSet(var_ket_psi, Hspace)))),\n",
    "        condition=InSet(Ket(varphi), Hspace)),\n",
    "    domain=HilbertSpaces)"
   ]
  },
  {
   "cell_type": "markdown",
   "metadata": {},
   "source": [
    "### QmultCodomain closure-like theorems"
   ]
  },
  {
   "cell_type": "code",
   "execution_count": null,
   "metadata": {},
   "outputs": [],
   "source": [
    "complex_in_QmultCodomain = Forall(c, InClass(c, QmultCodomain), domain=Complex)"
   ]
  },
  {
   "cell_type": "code",
   "execution_count": null,
   "metadata": {},
   "outputs": [],
   "source": [
    "ket_in_QmultCodomain = Forall(\n",
    "    Hspace, Forall(var_ket_psi, InClass(var_ket_psi, QmultCodomain), domain=Hspace),\n",
    "    domain=HilbertSpaces)"
   ]
  },
  {
   "cell_type": "code",
   "execution_count": null,
   "metadata": {},
   "outputs": [],
   "source": [
    "bra_is_linmap = Forall(\n",
    "    Hspace, Forall(varphi, InSet(Bra(varphi),\n",
    "                                 LinMap(Hspace, Complex)),\n",
    "                   condition=InSet(Ket(varphi), Hspace)),\n",
    "    domain=HilbertSpaces)"
   ]
  },
  {
   "cell_type": "code",
   "execution_count": null,
   "metadata": {},
   "outputs": [],
   "source": [
    "bra_in_QmultCodomain = Forall(\n",
    "    Hspace, Forall(varphi, InClass(Bra(varphi), QmultCodomain), \n",
    "                   condition=InSet(Ket(varphi), Hspace)),\n",
    "    domain=HilbertSpaces)"
   ]
  },
  {
   "cell_type": "code",
   "execution_count": null,
   "metadata": {},
   "outputs": [],
   "source": [
    "op_in_QmultCodomain = Forall(\n",
    "    (Hspace, X), Forall(A, InClass(A, QmultCodomain), \n",
    "                       domain=LinMap(Hspace, X)),\n",
    "    domain=HilbertSpaces)"
   ]
  },
  {
   "cell_type": "code",
   "execution_count": null,
   "metadata": {},
   "outputs": [],
   "source": [
    "qmult_complex_in_QmultCodomain = Forall(\n",
    "    c, InClass(Qmult(c), QmultCodomain),\n",
    "    domain=Complex)"
   ]
  },
  {
   "cell_type": "code",
   "execution_count": null,
   "metadata": {},
   "outputs": [],
   "source": [
    "qmult_ket_is_ket = Forall(\n",
    "    Hspace, Forall(var_ket_psi, InSet(Qmult(var_ket_psi),\n",
    "                                      Hspace),\n",
    "                   domain=Hspace),\n",
    "    domain=HilbertSpaces)"
   ]
  },
  {
   "cell_type": "code",
   "execution_count": null,
   "metadata": {},
   "outputs": [],
   "source": [
    "qmult_ket_in_QmultCodomain = Forall(\n",
    "    Hspace, Forall(var_ket_psi, InClass(Qmult(var_ket_psi), \n",
    "                                        QmultCodomain),\n",
    "                   domain=Hspace),\n",
    "    domain=HilbertSpaces)"
   ]
  },
  {
   "cell_type": "code",
   "execution_count": null,
   "metadata": {},
   "outputs": [],
   "source": [
    "qmult_matrix_is_linmap = Forall(\n",
    "    (m, n), Forall(M, InSet(Qmult(M), LinMap(CartExp(Complex, n),\n",
    "                                             CartExp(Complex, m))),\n",
    "                   domain=MatrixSpace(Complex, m, n)),\n",
    "    domain=NaturalPos)"
   ]
  },
  {
   "cell_type": "code",
   "execution_count": null,
   "metadata": {},
   "outputs": [],
   "source": [
    "qmult_matrix_in_QmultCodomain = Forall(\n",
    "    (m, n), Forall(M, InClass(Qmult(M), QmultCodomain),\n",
    "                   domain=MatrixSpace(Complex, m, n)),\n",
    "    domain=NaturalPos)"
   ]
  },
  {
   "cell_type": "code",
   "execution_count": null,
   "metadata": {},
   "outputs": [],
   "source": [
    "qmult_bra_is_linmap = Forall(\n",
    "    Hspace, Forall(varphi, InSet(Qmult(Bra(varphi)),\n",
    "                                 LinMap(Hspace, Complex)),\n",
    "                   condition=InSet(Ket(varphi), Hspace)),\n",
    "    domain=HilbertSpaces)"
   ]
  },
  {
   "cell_type": "code",
   "execution_count": null,
   "metadata": {},
   "outputs": [],
   "source": [
    "qmult_bra_in_QmultCodomain = Forall(\n",
    "    Hspace, Forall(varphi, InClass(Qmult(Bra(varphi)),\n",
    "                                   QmultCodomain),\n",
    "                   condition=InSet(Ket(varphi), Hspace)),\n",
    "    domain=HilbertSpaces)"
   ]
  },
  {
   "cell_type": "code",
   "execution_count": null,
   "metadata": {},
   "outputs": [],
   "source": [
    "qmult_op_is_linmap = Forall(\n",
    "    (Hspace, X), Forall(A, InSet(Qmult(A), LinMap(Hspace, X)),\n",
    "                        domain=LinMap(Hspace, X)),\n",
    "    domain=HilbertSpaces)"
   ]
  },
  {
   "cell_type": "code",
   "execution_count": null,
   "metadata": {},
   "outputs": [],
   "source": [
    "qmult_op_in_QmultCodomain = Forall(\n",
    "    (Hspace, X), Forall(A, InClass(Qmult(A), QmultCodomain),\n",
    "                        domain=LinMap(Hspace, X)),\n",
    "    domain=HilbertSpaces)"
   ]
  },
  {
   "cell_type": "code",
   "execution_count": null,
   "metadata": {},
   "outputs": [],
   "source": [
    "qmult_nested_closure = Forall(\n",
    "    A, InClass(Qmult(A), QmultCodomain),\n",
    "    domain=QmultCodomain)"
   ]
  },
  {
   "cell_type": "code",
   "execution_count": null,
   "metadata": {},
   "outputs": [],
   "source": [
    "qmult_ket_ket_is_ket = Forall(\n",
    "    (A, B), Forall(\n",
    "        (var_ket_psi, var_ket_varphi), \n",
    "        InSet(Qmult(var_ket_psi, var_ket_varphi), \n",
    "              TensorProd(A, B)),\n",
    "        domains=(A, B)),\n",
    "    domain=HilbertSpaces)"
   ]
  },
  {
   "cell_type": "code",
   "execution_count": null,
   "metadata": {},
   "outputs": [],
   "source": [
    "qmult_op_ket_is_ket = Forall(\n",
    "    (Hspace, X), Forall(\n",
    "        A, Forall(var_ket_psi, InSet(Qmult(A, var_ket_psi), X),\n",
    "                  domain=Hspace),\n",
    "        condition=InSet(Qmult(A),\n",
    "                        LinMap(Hspace, X))),\n",
    "    domain=HilbertSpaces)"
   ]
  },
  {
   "cell_type": "code",
   "execution_count": null,
   "metadata": {},
   "outputs": [],
   "source": [
    "qmult_op_ket_in_QmultCodomain = Forall(\n",
    "    (Hspace, X), Forall(\n",
    "        A, Forall(var_ket_psi, InClass(Qmult(A, var_ket_psi),\n",
    "                                       QmultCodomain),\n",
    "                  domain=Hspace),\n",
    "        condition=InSet(Qmult(A),\n",
    "                        LinMap(Hspace, X))),\n",
    "    domain=HilbertSpaces)"
   ]
  },
  {
   "cell_type": "code",
   "execution_count": null,
   "metadata": {},
   "outputs": [],
   "source": [
    "qmult_op_op_is_op = Forall(\n",
    "    (Hspace, X, Y), Forall(\n",
    "        (A, B), InSet(Qmult(A, B), LinMap(Hspace, Y)),\n",
    "        conditions=[InSet(Qmult(A), LinMap(X, Y)),\n",
    "                    InSet(Qmult(B), LinMap(Hspace, X))]),\n",
    "    domain=HilbertSpaces)"
   ]
  },
  {
   "cell_type": "code",
   "execution_count": null,
   "metadata": {},
   "outputs": [],
   "source": [
    "qmult_op_op_in_QmultCodomain = Forall(\n",
    "    (Hspace, X, Y), Forall(\n",
    "        (A, B), InClass(Qmult(A, B), QmultCodomain),\n",
    "        conditions=[InSet(Qmult(A), LinMap(X, Y)),\n",
    "                    InSet(Qmult(B), LinMap(Hspace, X))]),\n",
    "    domain=HilbertSpaces)"
   ]
  },
  {
   "cell_type": "code",
   "execution_count": null,
   "metadata": {},
   "outputs": [],
   "source": [
    "qmult_ket_bra_is_op = Forall(\n",
    "    (Hspace, X), Forall(\n",
    "        var_ket_psi, Forall(\n",
    "            varphi, InSet(Qmult(var_ket_psi, Bra(varphi)),\n",
    "                          LinMap(X, Hspace)),\n",
    "            condition=InSet(Ket(varphi), X)),\n",
    "        domain=Hspace))"
   ]
  },
  {
   "cell_type": "code",
   "execution_count": null,
   "metadata": {},
   "outputs": [],
   "source": [
    "qmult_ket_bra_in_QmultCodomain = Forall(\n",
    "    (Hspace, X), Forall(\n",
    "        var_ket_psi, Forall(\n",
    "            varphi, InClass(Qmult(var_ket_psi, Bra(varphi)),\n",
    "                            QmultCodomain),\n",
    "            condition=InSet(Ket(varphi), X)),\n",
    "        domain=Hspace))"
   ]
  },
  {
   "cell_type": "code",
   "execution_count": null,
   "metadata": {},
   "outputs": [],
   "source": [
    "qmult_complex_complex_closure = Forall(\n",
    "    (a, b), InSet(Qmult(a, b), Complex),\n",
    "    domain=Complex)"
   ]
  },
  {
   "cell_type": "code",
   "execution_count": null,
   "metadata": {},
   "outputs": [],
   "source": [
    "qmult_complex_ket_closure = Forall(\n",
    "    c, Forall(Hspace, Forall(var_ket_psi, InSet(Qmult(c, var_ket_psi), Hspace),\n",
    "                             domain=Hspace),\n",
    "              domain=HilbertSpaces),\n",
    "    domain=Complex)"
   ]
  },
  {
   "cell_type": "code",
   "execution_count": null,
   "metadata": {},
   "outputs": [],
   "source": [
    "qmult_ket_complex_closure = Forall(\n",
    "    c, Forall(Hspace, Forall(var_ket_psi, InSet(Qmult(var_ket_psi, c), Hspace),\n",
    "                             domain=Hspace),\n",
    "              domain=HilbertSpaces),\n",
    "    domain=Complex)"
   ]
  },
  {
   "cell_type": "code",
   "execution_count": null,
   "metadata": {},
   "outputs": [],
   "source": [
    "qmult_complex_op_closure = Forall(\n",
    "    c, Forall(\n",
    "        (Hspace, X), Forall(\n",
    "            A, InSet(Qmult(c, A), LinMap(Hspace, X)),\n",
    "            condition=InSet(Qmult(A), LinMap(Hspace, X))),\n",
    "        domain=HilbertSpaces),\n",
    "    domain=Complex)"
   ]
  },
  {
   "cell_type": "code",
   "execution_count": null,
   "metadata": {},
   "outputs": [],
   "source": [
    "qmult_op_complex_closure = Forall(\n",
    "    c, Forall(\n",
    "        (Hspace, X), Forall(\n",
    "            A, InSet(Qmult(A, c), LinMap(Hspace, X)),\n",
    "            condition=InSet(Qmult(A), LinMap(Hspace, X))),\n",
    "        domain=HilbertSpaces),\n",
    "    domain=Complex)"
   ]
  },
  {
   "cell_type": "code",
   "execution_count": null,
   "metadata": {},
   "outputs": [],
   "source": [
    "qmult_complex_left_closure = Forall(\n",
    "    c, Forall(A, InClass(Qmult(c, A), QmultCodomain),\n",
    "              condition=InClass(Qmult(A), QmultCodomain)),\n",
    "    domain=Complex)"
   ]
  },
  {
   "cell_type": "code",
   "execution_count": null,
   "metadata": {},
   "outputs": [],
   "source": [
    "qmult_complex_right_closure = Forall(\n",
    "    c, Forall(A, InClass(Qmult(A, c), QmultCodomain),\n",
    "              condition=InClass(Qmult(A), QmultCodomain)),\n",
    "    domain=Complex)"
   ]
  },
  {
   "cell_type": "markdown",
   "metadata": {},
   "source": [
    "### Unitary transformations"
   ]
  },
  {
   "cell_type": "code",
   "execution_count": null,
   "metadata": {},
   "outputs": [],
   "source": [
    "state_space_preservation = Forall(\n",
    "    n, Forall(\n",
    "        U, Forall(var_ket_psi,\n",
    "                  InSet(Qmult(U, var_ket_psi), CartExp(Complex, n)),\n",
    "                  domain=CartExp(Complex, n)),\n",
    "        domain=Unitary(n)),\n",
    "    domain=NaturalPos)"
   ]
  },
  {
   "cell_type": "code",
   "execution_count": null,
   "metadata": {},
   "outputs": [],
   "source": [
    "normalization_preservation = Forall(\n",
    "    n,  Forall(\n",
    "        U, Forall(\n",
    "            alpha, Forall(\n",
    "                var_ket_psi, Equals(Norm(Qmult(U, var_ket_psi)), alpha),\n",
    "                domain=CartExp(Complex, n),\n",
    "                condition=Equals(Norm(var_ket_psi), alpha)),\n",
    "            domain=RealNonNeg),\n",
    "        domain=Unitary(n)),\n",
    "    domain=NaturalPos)"
   ]
  },
  {
   "cell_type": "code",
   "execution_count": null,
   "metadata": {},
   "outputs": [],
   "source": [
    "%end theorems"
   ]
  },
  {
   "cell_type": "code",
   "execution_count": null,
   "metadata": {},
   "outputs": [],
   "source": []
  }
 ],
 "metadata": {
  "kernelspec": {
   "display_name": "Python 3",
   "language": "python",
   "name": "python3"
  }
 },
 "nbformat": 4,
 "nbformat_minor": 0
}
