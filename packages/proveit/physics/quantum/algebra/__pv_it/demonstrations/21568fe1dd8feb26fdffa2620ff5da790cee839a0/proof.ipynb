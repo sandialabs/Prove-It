{
 "cells": [
  {
   "cell_type": "markdown",
   "metadata": {},
   "source": [
    "Show the Proof\n",
    "========"
   ]
  },
  {
   "cell_type": "code",
   "execution_count": 1,
   "metadata": {},
   "outputs": [
    {
     "data": {
      "text/html": [
       "<table><tr><th>&nbsp;</th><th>step type</th><th>requirements</th><th>statement</th></tr>\n",
       "<tr><td><a name=\"proveit.physics.quantum.algebra.demonstrations.21568fe1dd8feb26fdffa2620ff5da790cee839a0_step0\">0</a></td><td>instantiation</td><td><a href=\"#proveit.physics.quantum.algebra.demonstrations.21568fe1dd8feb26fdffa2620ff5da790cee839a0_step1\">1</a>, <a href=\"#proveit.physics.quantum.algebra.demonstrations.21568fe1dd8feb26fdffa2620ff5da790cee839a0_step2\">2</a></td><td><span style=\"font-size:20px;\"><a class=\"ProveItLink\" href=\"../../../../../../logic/sets/cartesian_products/__pv_it/theorems/79a768603778550c651661670153c27ee0a505870/expr.ipynb\"><img src=\"../../../../../../logic/sets/cartesian_products/__pv_it/theorems/79a768603778550c651661670153c27ee0a505870/expr.png\" style=\"display:inline;vertical-align:middle;\" /></a> <a class=\"ProveItLink\" href=\"proof.ipynb\" style=\"text-decoration: none\">&nbsp;&#x22A2;&nbsp;&nbsp;</a><a class=\"ProveItLink\" href=\"../13bc33f83d04d573ab10322eeb5ce365843c39060/expr.ipynb\"><img src=\"../13bc33f83d04d573ab10322eeb5ce365843c39060/expr.png\" style=\"display:inline;vertical-align:middle;\" /></a></span></td></tr>\n",
       "<tr><td>&nbsp;</td><td colspan=4 style=\"text-align:left\"><span style=\"font-size:20px;\"><a class=\"ProveItLink\" href=\"../../../../../../__pv_it/common/8968bb04eb3f7dfa02353397ce929b025bbd79c20/expr.ipynb\"><img src=\"../../../../../../__pv_it/common/8968bb04eb3f7dfa02353397ce929b025bbd79c20/expr.png\" style=\"display:inline;vertical-align:middle;\" /></a> : <a class=\"ProveItLink\" href=\"../../../../../../__pv_it/common/674a03b9c3ca221b3aabd5636837b31528ff33830/expr.ipynb\"><img src=\"../../../../../../__pv_it/common/674a03b9c3ca221b3aabd5636837b31528ff33830/expr.png\" style=\"display:inline;vertical-align:middle;\" /></a></span></td></tr><tr><td><a name=\"proveit.physics.quantum.algebra.demonstrations.21568fe1dd8feb26fdffa2620ff5da790cee839a0_step1\">1</a></td><td>theorem</td><td></td><td><span style=\"font-size:20px;\"> <a class=\"ProveItLink\" href=\"../../../../../../linear_algebra/inner_products/_theory_nbs_/proofs/complex_vec_set_is_hilbert_space/thm_proof.ipynb\" style=\"text-decoration: none\">&nbsp;&#x22A2;&nbsp;&nbsp;</a><a class=\"ProveItLink\" href=\"../../../../../../linear_algebra/inner_products/__pv_it/theorems/a47e487ed3b1f72295cfc05ffd5b3a5a492ffe9f0/expr.ipynb\"><img src=\"../../../../../../linear_algebra/inner_products/__pv_it/theorems/a47e487ed3b1f72295cfc05ffd5b3a5a492ffe9f0/expr.png\" style=\"display:inline;vertical-align:middle;\" /></a></span></td></tr>\n",
       "<tr><td>&nbsp;</td><td colspan=4 style-\"text-align:left\"><a class=\"ProveItLink\" href=\"../../../../../../linear_algebra/inner_products/_theory_nbs_/proofs/complex_vec_set_is_hilbert_space/thm_proof.ipynb\">proveit.linear_algebra.inner_products.complex_vec_set_is_hilbert_space</a></td></tr><tr><td><a name=\"proveit.physics.quantum.algebra.demonstrations.21568fe1dd8feb26fdffa2620ff5da790cee839a0_step2\">2</a></td><td>assumption</td><td></td><td><span style=\"font-size:20px;\"><a class=\"ProveItLink\" href=\"../../../../../../logic/sets/cartesian_products/__pv_it/theorems/79a768603778550c651661670153c27ee0a505870/expr.ipynb\"><img src=\"../../../../../../logic/sets/cartesian_products/__pv_it/theorems/79a768603778550c651661670153c27ee0a505870/expr.png\" style=\"display:inline;vertical-align:middle;\" /></a> <a class=\"ProveItLink\" href=\"../633d3e816e7e8bf85c373ccd7f400d48eb1948f90/proof.ipynb\" style=\"text-decoration: none\">&nbsp;&#x22A2;&nbsp;&nbsp;</a><a class=\"ProveItLink\" href=\"../../../../../../logic/sets/cartesian_products/__pv_it/theorems/79a768603778550c651661670153c27ee0a505870/expr.ipynb\"><img src=\"../../../../../../logic/sets/cartesian_products/__pv_it/theorems/79a768603778550c651661670153c27ee0a505870/expr.png\" style=\"display:inline;vertical-align:middle;\" /></a></span></td></tr>\n",
       "</table>"
      ],
      "text/plain": [
       "<proveit._core_.proof._ShowProof at 0x7f0c7c1e3080>"
      ]
     },
     "execution_count": 1,
     "metadata": {},
     "output_type": "execute_result"
    }
   ],
   "source": [
    "import proveit\n",
    "# Automation is not needed when only showing a stored proof:\n",
    "proveit.defaults.automation = False # This will speed things up.\n",
    "proveit.defaults.inline_pngs = False # Makes files smaller.\n",
    "%show_proof"
   ]
  },
  {
   "cell_type": "code",
   "execution_count": null,
   "metadata": {},
   "outputs": [],
   "source": []
  }
 ],
 "metadata": {
  "kernelspec": {
   "display_name": "Python 3",
   "language": "python",
   "name": "python3"
  }
 },
 "nbformat": 4,
 "nbformat_minor": 0
}