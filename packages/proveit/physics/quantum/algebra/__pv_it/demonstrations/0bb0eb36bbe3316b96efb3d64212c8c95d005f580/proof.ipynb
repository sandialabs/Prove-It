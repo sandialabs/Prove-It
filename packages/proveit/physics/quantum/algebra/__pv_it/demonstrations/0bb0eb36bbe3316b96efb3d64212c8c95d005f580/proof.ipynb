{
 "cells": [
  {
   "cell_type": "markdown",
   "metadata": {},
   "source": [
    "Show the Proof\n",
    "========"
   ]
  },
  {
   "cell_type": "code",
   "execution_count": 1,
   "metadata": {},
   "outputs": [
    {
     "data": {
      "text/html": [
       "<table><tr><th>&nbsp;</th><th>step type</th><th>requirements</th><th>statement</th></tr>\n",
       "<tr><td><a name=\"proveit.physics.quantum.algebra.demonstrations.0bb0eb36bbe3316b96efb3d64212c8c95d005f580_step0\">0</a></td><td>instantiation</td><td><a href=\"#proveit.physics.quantum.algebra.demonstrations.0bb0eb36bbe3316b96efb3d64212c8c95d005f580_step1\">1</a>, <a href=\"#proveit.physics.quantum.algebra.demonstrations.0bb0eb36bbe3316b96efb3d64212c8c95d005f580_step2\">2</a>, <a href=\"#proveit.physics.quantum.algebra.demonstrations.0bb0eb36bbe3316b96efb3d64212c8c95d005f580_step3\">3</a></td><td><span style=\"font-size:20px;\"><a class=\"ProveItLink\" href=\"../209baac38918ef8b1210d5267967da66f42b39310/expr.ipynb\"><img src=\"../209baac38918ef8b1210d5267967da66f42b39310/expr.png\" style=\"display:inline;vertical-align:middle;\" /></a>, <a class=\"ProveItLink\" href=\"../4827169ff5051c0ad90075d5d60d0692974558df0/expr.ipynb\"><img src=\"../4827169ff5051c0ad90075d5d60d0692974558df0/expr.png\" style=\"display:inline;vertical-align:middle;\" /></a>, <a class=\"ProveItLink\" href=\"../a96adf032fe1e70a10118c41779605949495a8190/expr.ipynb\"><img src=\"../a96adf032fe1e70a10118c41779605949495a8190/expr.png\" style=\"display:inline;vertical-align:middle;\" /></a> <a class=\"ProveItLink\" href=\"proof.ipynb\" style=\"text-decoration: none\">&nbsp;&#x22A2;&nbsp;&nbsp;</a><a class=\"ProveItLink\" href=\"../606f457cef71c6816de824040fa347c5441cbe3a0/expr.ipynb\"><img src=\"../606f457cef71c6816de824040fa347c5441cbe3a0/expr.png\" style=\"display:inline;vertical-align:middle;\" /></a></span></td></tr>\n",
       "<tr><td>&nbsp;</td><td colspan=4 style=\"text-align:left\"><span style=\"font-size:20px;\"><a class=\"ProveItLink\" href=\"../../../../../../__pv_it/common/c06c606ec12678c58933ac85412ecadc2ae28be60/expr.ipynb\"><img src=\"../../../../../../__pv_it/common/c06c606ec12678c58933ac85412ecadc2ae28be60/expr.png\" style=\"display:inline;vertical-align:middle;\" /></a> : <a class=\"ProveItLink\" href=\"../39ea937b48a5bb11d861d706bb79a45238511af10/expr.ipynb\"><img src=\"../39ea937b48a5bb11d861d706bb79a45238511af10/expr.png\" style=\"display:inline;vertical-align:middle;\" /></a>, <a class=\"ProveItLink\" href=\"../../../../../../__pv_it/common/195236b98c6c564a75b5dbada74b173bc52d5c3e0/expr.ipynb\"><img src=\"../../../../../../__pv_it/common/195236b98c6c564a75b5dbada74b173bc52d5c3e0/expr.png\" style=\"display:inline;vertical-align:middle;\" /></a> : <a class=\"ProveItLink\" href=\"../../../../../../__pv_it/common/d3b5a05ce48f7e4b8f946549743adda31d51d0e80/expr.ipynb\"><img src=\"../../../../../../__pv_it/common/d3b5a05ce48f7e4b8f946549743adda31d51d0e80/expr.png\" style=\"display:inline;vertical-align:middle;\" /></a></span></td></tr><tr><td><a name=\"proveit.physics.quantum.algebra.demonstrations.0bb0eb36bbe3316b96efb3d64212c8c95d005f580_step1\">1</a></td><td><i>reference</i></td><td><a href=\"#proveit.physics.quantum.algebra.demonstrations.0bb0eb36bbe3316b96efb3d64212c8c95d005f580_step4\">4</a></td><td><span style=\"font-size:20px;\"> <a class=\"ProveItLink\" href=\"../../../../../../numbers/multiplication/_theory_nbs_/proofs/mult_complex_closure_bin/thm_proof.ipynb\" style=\"text-decoration: none\">&nbsp;&#x22A2;&nbsp;&nbsp;</a><a class=\"ProveItLink\" href=\"../../../../../../numbers/multiplication/__pv_it/theorems/277fe1e8f31ccffe3a0ffaae280d8068889a11190/expr.ipynb\"><img src=\"../../../../../../numbers/multiplication/__pv_it/theorems/277fe1e8f31ccffe3a0ffaae280d8068889a11190/expr.png\" style=\"display:inline;vertical-align:middle;\" /></a></span></td></tr>\n",
       "<tr><td><a name=\"proveit.physics.quantum.algebra.demonstrations.0bb0eb36bbe3316b96efb3d64212c8c95d005f580_step2\">2</a></td><td>instantiation</td><td><a href=\"#proveit.physics.quantum.algebra.demonstrations.0bb0eb36bbe3316b96efb3d64212c8c95d005f580_step4\">4</a>, <a href=\"#proveit.physics.quantum.algebra.demonstrations.0bb0eb36bbe3316b96efb3d64212c8c95d005f580_step5\">5</a>, <a href=\"#proveit.physics.quantum.algebra.demonstrations.0bb0eb36bbe3316b96efb3d64212c8c95d005f580_step6\">6</a></td><td><span style=\"font-size:20px;\"><a class=\"ProveItLink\" href=\"../209baac38918ef8b1210d5267967da66f42b39310/expr.ipynb\"><img src=\"../209baac38918ef8b1210d5267967da66f42b39310/expr.png\" style=\"display:inline;vertical-align:middle;\" /></a>, <a class=\"ProveItLink\" href=\"../4827169ff5051c0ad90075d5d60d0692974558df0/expr.ipynb\"><img src=\"../4827169ff5051c0ad90075d5d60d0692974558df0/expr.png\" style=\"display:inline;vertical-align:middle;\" /></a> <a class=\"ProveItLink\" href=\"../417c970df96da7556b5b1ed502383e402af485110/proof.ipynb\" style=\"text-decoration: none\">&nbsp;&#x22A2;&nbsp;&nbsp;</a><a class=\"ProveItLink\" href=\"../d01131a4a0f8cd2b2c2007d4055c2659aa1048b40/expr.ipynb\"><img src=\"../d01131a4a0f8cd2b2c2007d4055c2659aa1048b40/expr.png\" style=\"display:inline;vertical-align:middle;\" /></a></span></td></tr>\n",
       "<tr><td>&nbsp;</td><td colspan=4 style=\"text-align:left\"><span style=\"font-size:20px;\"><a class=\"ProveItLink\" href=\"../../../../../../__pv_it/common/c06c606ec12678c58933ac85412ecadc2ae28be60/expr.ipynb\"><img src=\"../../../../../../__pv_it/common/c06c606ec12678c58933ac85412ecadc2ae28be60/expr.png\" style=\"display:inline;vertical-align:middle;\" /></a> : <a class=\"ProveItLink\" href=\"../../../../../../__pv_it/common/9705ebf23debd1198c43ec3d0c30ebe152d069440/expr.ipynb\"><img src=\"../../../../../../__pv_it/common/9705ebf23debd1198c43ec3d0c30ebe152d069440/expr.png\" style=\"display:inline;vertical-align:middle;\" /></a>, <a class=\"ProveItLink\" href=\"../../../../../../__pv_it/common/195236b98c6c564a75b5dbada74b173bc52d5c3e0/expr.ipynb\"><img src=\"../../../../../../__pv_it/common/195236b98c6c564a75b5dbada74b173bc52d5c3e0/expr.png\" style=\"display:inline;vertical-align:middle;\" /></a> : <a class=\"ProveItLink\" href=\"../../../../../../__pv_it/common/c713a5db2586f854a5051c95110df24af02bd7260/expr.ipynb\"><img src=\"../../../../../../__pv_it/common/c713a5db2586f854a5051c95110df24af02bd7260/expr.png\" style=\"display:inline;vertical-align:middle;\" /></a></span></td></tr><tr><td><a name=\"proveit.physics.quantum.algebra.demonstrations.0bb0eb36bbe3316b96efb3d64212c8c95d005f580_step3\">3</a></td><td>assumption</td><td></td><td><span style=\"font-size:20px;\"><a class=\"ProveItLink\" href=\"../a96adf032fe1e70a10118c41779605949495a8190/expr.ipynb\"><img src=\"../a96adf032fe1e70a10118c41779605949495a8190/expr.png\" style=\"display:inline;vertical-align:middle;\" /></a> <a class=\"ProveItLink\" href=\"../f87dbfca3e322664c3db0a16f105c08a723c2a510/proof.ipynb\" style=\"text-decoration: none\">&nbsp;&#x22A2;&nbsp;&nbsp;</a><a class=\"ProveItLink\" href=\"../a96adf032fe1e70a10118c41779605949495a8190/expr.ipynb\"><img src=\"../a96adf032fe1e70a10118c41779605949495a8190/expr.png\" style=\"display:inline;vertical-align:middle;\" /></a></span></td></tr>\n",
       "<tr><td><a name=\"proveit.physics.quantum.algebra.demonstrations.0bb0eb36bbe3316b96efb3d64212c8c95d005f580_step4\">4</a></td><td>theorem</td><td></td><td><span style=\"font-size:20px;\"> <a class=\"ProveItLink\" href=\"../../../../../../numbers/multiplication/_theory_nbs_/proofs/mult_complex_closure_bin/thm_proof.ipynb\" style=\"text-decoration: none\">&nbsp;&#x22A2;&nbsp;&nbsp;</a><a class=\"ProveItLink\" href=\"../../../../../../numbers/multiplication/__pv_it/theorems/277fe1e8f31ccffe3a0ffaae280d8068889a11190/expr.ipynb\"><img src=\"../../../../../../numbers/multiplication/__pv_it/theorems/277fe1e8f31ccffe3a0ffaae280d8068889a11190/expr.png\" style=\"display:inline;vertical-align:middle;\" /></a></span></td></tr>\n",
       "<tr><td>&nbsp;</td><td colspan=4 style-\"text-align:left\"><a class=\"ProveItLink\" href=\"../../../../../../numbers/multiplication/_theory_nbs_/proofs/mult_complex_closure_bin/thm_proof.ipynb\">proveit.numbers.multiplication.mult_complex_closure_bin</a></td></tr><tr><td><a name=\"proveit.physics.quantum.algebra.demonstrations.0bb0eb36bbe3316b96efb3d64212c8c95d005f580_step5\">5</a></td><td>assumption</td><td></td><td><span style=\"font-size:20px;\"><a class=\"ProveItLink\" href=\"../209baac38918ef8b1210d5267967da66f42b39310/expr.ipynb\"><img src=\"../209baac38918ef8b1210d5267967da66f42b39310/expr.png\" style=\"display:inline;vertical-align:middle;\" /></a> <a class=\"ProveItLink\" href=\"../ebdbe4c4d7446e085ee1182592b8211581d568350/proof.ipynb\" style=\"text-decoration: none\">&nbsp;&#x22A2;&nbsp;&nbsp;</a><a class=\"ProveItLink\" href=\"../209baac38918ef8b1210d5267967da66f42b39310/expr.ipynb\"><img src=\"../209baac38918ef8b1210d5267967da66f42b39310/expr.png\" style=\"display:inline;vertical-align:middle;\" /></a></span></td></tr>\n",
       "<tr><td><a name=\"proveit.physics.quantum.algebra.demonstrations.0bb0eb36bbe3316b96efb3d64212c8c95d005f580_step6\">6</a></td><td>assumption</td><td></td><td><span style=\"font-size:20px;\"><a class=\"ProveItLink\" href=\"../4827169ff5051c0ad90075d5d60d0692974558df0/expr.ipynb\"><img src=\"../4827169ff5051c0ad90075d5d60d0692974558df0/expr.png\" style=\"display:inline;vertical-align:middle;\" /></a> <a class=\"ProveItLink\" href=\"../3126c03c1e47c8c2f9079896f6548401b96efd6d0/proof.ipynb\" style=\"text-decoration: none\">&nbsp;&#x22A2;&nbsp;&nbsp;</a><a class=\"ProveItLink\" href=\"../4827169ff5051c0ad90075d5d60d0692974558df0/expr.ipynb\"><img src=\"../4827169ff5051c0ad90075d5d60d0692974558df0/expr.png\" style=\"display:inline;vertical-align:middle;\" /></a></span></td></tr>\n",
       "</table>"
      ],
      "text/plain": [
       "<proveit._core_.proof._ShowProof at 0x7f6e71a3dc88>"
      ]
     },
     "execution_count": 1,
     "metadata": {},
     "output_type": "execute_result"
    }
   ],
   "source": [
    "import proveit\n",
    "# Automation is not needed when only showing a stored proof:\n",
    "proveit.defaults.automation = False # This will speed things up.\n",
    "proveit.defaults.inline_pngs = False # Makes files smaller.\n",
    "%show_proof"
   ]
  },
  {
   "cell_type": "code",
   "execution_count": null,
   "metadata": {},
   "outputs": [],
   "source": []
  }
 ],
 "metadata": {
  "kernelspec": {
   "display_name": "Python 3",
   "language": "python",
   "name": "python3"
  }
 },
 "nbformat": 4,
 "nbformat_minor": 0
}