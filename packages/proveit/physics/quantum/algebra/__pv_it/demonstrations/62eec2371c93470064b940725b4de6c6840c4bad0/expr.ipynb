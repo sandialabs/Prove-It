{
 "cells": [
  {
   "cell_type": "markdown",
   "metadata": {},
   "source": [
    "Expression of type <a class=\"ProveItLink\" href=\"../../../../../../../../doc/html/api/proveit.logic.InSet.html\">InSet</a>\n",
    "=======================\n",
    "# from the theory of <a class=\"ProveItLink\" href=\"../../../_theory_nbs_/theory.ipynb\">proveit.physics.quantum.algebra</a>"
   ]
  },
  {
   "cell_type": "code",
   "execution_count": 1,
   "metadata": {},
   "outputs": [],
   "source": [
    "import proveit\n",
    "# Automation is not needed when building an expression:\n",
    "proveit.defaults.automation = False # This will speed things up.\n",
    "proveit.defaults.inline_pngs = False # Makes files smaller.\n",
    "%load_expr # Load the stored expression as 'stored_expr'\n",
    "# import Expression classes needed to build the expression\n",
    "from proveit import D, m\n",
    "from proveit.linear_algebra import VecAdd\n",
    "from proveit.logic import CartExp, InSet\n",
    "from proveit.numbers import Complex\n",
    "from proveit.physics.quantum import Qmult, ket_psi, ket_varphi"
   ]
  },
  {
   "cell_type": "code",
   "execution_count": 2,
   "metadata": {},
   "outputs": [
    {
     "data": {
      "text/html": [
       "<strong id=\"expr\">expr:</strong> <a class=\"ProveItLink\" href=\"expr.ipynb\"><img src=\"expr.png\" style=\"display:inline;vertical-align:middle;\" /></a><br>"
      ],
      "text/plain": [
       "<IPython.core.display.HTML object>"
      ]
     },
     "metadata": {},
     "output_type": "display_data"
    }
   ],
   "source": [
    "# build up the expression from sub-expressions\n",
    "expr = InSet(VecAdd(ket_psi, Qmult(D, ket_varphi)), CartExp(Complex, m))"
   ]
  },
  {
   "cell_type": "code",
   "execution_count": 3,
   "metadata": {},
   "outputs": [
    {
     "name": "stdout",
     "output_type": "stream",
     "text": [
      "Passed sanity check: expr matches stored_expr\n"
     ]
    }
   ],
   "source": [
    "# check that the built expression is the same as the stored expression\n",
    "assert expr == stored_expr\n",
    "assert expr._style_id == stored_expr._style_id\n",
    "print(\"Passed sanity check: expr matches stored_expr\")"
   ]
  },
  {
   "cell_type": "code",
   "execution_count": 4,
   "metadata": {},
   "outputs": [
    {
     "name": "stdout",
     "output_type": "stream",
     "text": [
      "\\left(\\lvert \\psi \\rangle + \\left(D \\thinspace \\lvert \\varphi \\rangle\\right)\\right) \\in \\mathbb{C}^{m}\n"
     ]
    }
   ],
   "source": [
    "# Show the LaTeX representation of the expression for convenience if you need it.\n",
    "print(stored_expr.latex())"
   ]
  },
  {
   "cell_type": "code",
   "execution_count": 5,
   "metadata": {},
   "outputs": [
    {
     "data": {
      "text/html": [
       "<table>\n",
       "<tr><th>name</th><th>description</th><th>default</th><th>current value</th><th>related methods</th></tr><tr><td>operation</td><td>'infix' or 'function' style formatting</td><td>infix</td><td>infix</td><td></td></tr>\n",
       "<tr><td>wrap_positions</td><td>position(s) at which wrapping is to occur; '2 n - 1' is after the nth operand, '2 n' is after the nth operation.</td><td>()</td><td>()</td><td>('with_wrapping_at', 'with_wrap_before_operator', 'with_wrap_after_operator', 'without_wrapping', 'wrap_positions')</td></tr>\n",
       "<tr><td>justification</td><td>if any wrap positions are set, justify to the 'left', 'center', or 'right'</td><td>center</td><td>center</td><td>('with_justification',)</td></tr>\n",
       "<tr><td>direction</td><td>Direction of the relation (normal or reversed)</td><td>normal</td><td>normal</td><td>('with_direction_reversed', 'is_reversed')</td></tr>\n",
       "</table>\n"
      ],
      "text/plain": [
       "style name: operation\n",
       "description: 'infix' or 'function' style formatting\n",
       "default: infix\n",
       "current value: infix\n",
       "related methods: ()\n",
       "style name: wrap_positions\n",
       "description: position(s) at which wrapping is to occur; '2 n - 1' is after the nth operand, '2 n' is after the nth operation.\n",
       "default: ()\n",
       "current value: ()\n",
       "related methods: ('with_wrapping_at', 'with_wrap_before_operator', 'with_wrap_after_operator', 'without_wrapping', 'wrap_positions')\n",
       "style name: justification\n",
       "description: if any wrap positions are set, justify to the 'left', 'center', or 'right'\n",
       "default: center\n",
       "current value: center\n",
       "related methods: ('with_justification',)\n",
       "style name: direction\n",
       "description: Direction of the relation (normal or reversed)\n",
       "default: normal\n",
       "current value: normal\n",
       "related methods: ('with_direction_reversed', 'is_reversed')"
      ]
     },
     "metadata": {},
     "output_type": "display_data"
    }
   ],
   "source": [
    "stored_expr.style_options()"
   ]
  },
  {
   "cell_type": "code",
   "execution_count": 6,
   "metadata": {},
   "outputs": [
    {
     "data": {
      "text/html": [
       "<table><tr><th>&nbsp;</th><th>core type</th><th>sub-expressions</th><th>expression</th></tr>\n",
       "<tr><td>0</td><td>Operation</td><td>operator:&nbsp;1<br>operands:&nbsp;2<br></td><td><a class=\"ProveItLink\" href=\"expr.ipynb\"><img src=\"expr.png\" style=\"display:inline;vertical-align:middle;\" /></a></td></tr>\n",
       "<tr><td>1</td><td>Literal</td><td></td><td><a class=\"ProveItLink\" href=\"../../../../../../logic/sets/membership/__pv_it/common/477487d8796864d23d5810f83761435f25167f690/expr.ipynb\"><img src=\"../../../../../../logic/sets/membership/__pv_it/common/477487d8796864d23d5810f83761435f25167f690/expr.png\" style=\"display:inline;vertical-align:middle;\" /></a></td></tr>\n",
       "<tr><td>2</td><td>ExprTuple</td><td>3, 4</td><td><a class=\"ProveItLink\" href=\"../62bccfdb06389052b75a810541701d23c374d7150/expr.ipynb\"><img src=\"../62bccfdb06389052b75a810541701d23c374d7150/expr.png\" style=\"display:inline;vertical-align:middle;\" /></a></td></tr>\n",
       "<tr><td>3</td><td>Operation</td><td>operator:&nbsp;5<br>operands:&nbsp;6<br></td><td><a class=\"ProveItLink\" href=\"../911db7bc7b9ec7333ab2ec3e438c4d5cae1de7930/expr.ipynb\"><img src=\"../911db7bc7b9ec7333ab2ec3e438c4d5cae1de7930/expr.png\" style=\"display:inline;vertical-align:middle;\" /></a></td></tr>\n",
       "<tr><td>4</td><td>Operation</td><td>operator:&nbsp;7<br>operands:&nbsp;8<br></td><td><a class=\"ProveItLink\" href=\"../836684df7e90f968637307d085c0cd64242462950/expr.ipynb\"><img src=\"../836684df7e90f968637307d085c0cd64242462950/expr.png\" style=\"display:inline;vertical-align:middle;\" /></a></td></tr>\n",
       "<tr><td>5</td><td>Literal</td><td></td><td><a class=\"ProveItLink\" href=\"../../../../../../linear_algebra/addition/__pv_it/common/ac3c140c9094f065c7f7db15c94558731443639c0/expr.ipynb\"><img src=\"../../../../../../linear_algebra/addition/__pv_it/common/ac3c140c9094f065c7f7db15c94558731443639c0/expr.png\" style=\"display:inline;vertical-align:middle;\" /></a></td></tr>\n",
       "<tr><td>6</td><td>ExprTuple</td><td>9, 10</td><td><a class=\"ProveItLink\" href=\"../ef699d4756e85242dd387b697bd63f193c39abe80/expr.ipynb\"><img src=\"../ef699d4756e85242dd387b697bd63f193c39abe80/expr.png\" style=\"display:inline;vertical-align:middle;\" /></a></td></tr>\n",
       "<tr><td>7</td><td>Literal</td><td></td><td><a class=\"ProveItLink\" href=\"../../../../../../logic/sets/cartesian_products/__pv_it/common/7d20d67ddfbd94ad12efc9670c0d16a295b8ec1a0/expr.ipynb\"><img src=\"../../../../../../logic/sets/cartesian_products/__pv_it/common/7d20d67ddfbd94ad12efc9670c0d16a295b8ec1a0/expr.png\" style=\"display:inline;vertical-align:middle;\" /></a></td></tr>\n",
       "<tr><td>8</td><td>ExprTuple</td><td>11, 12</td><td><a class=\"ProveItLink\" href=\"../95cc4b9707abf999b71df7c547d8c6112f914f3e0/expr.ipynb\"><img src=\"../95cc4b9707abf999b71df7c547d8c6112f914f3e0/expr.png\" style=\"display:inline;vertical-align:middle;\" /></a></td></tr>\n",
       "<tr><td>9</td><td>Operation</td><td>operator:&nbsp;19<br>operand:&nbsp;16<br></td><td><a class=\"ProveItLink\" href=\"../../../../__pv_it/common/85db9cb8edfd9bae55ae16b1acc577987cc735250/expr.ipynb\"><img src=\"../../../../__pv_it/common/85db9cb8edfd9bae55ae16b1acc577987cc735250/expr.png\" style=\"display:inline;vertical-align:middle;\" /></a></td></tr>\n",
       "<tr><td>10</td><td>Operation</td><td>operator:&nbsp;14<br>operands:&nbsp;15<br></td><td><a class=\"ProveItLink\" href=\"../c75c7cd76b9273ba522edf6edc20c9261e21a9e40/expr.ipynb\"><img src=\"../c75c7cd76b9273ba522edf6edc20c9261e21a9e40/expr.png\" style=\"display:inline;vertical-align:middle;\" /></a></td></tr>\n",
       "<tr><td>11</td><td>Literal</td><td></td><td><a class=\"ProveItLink\" href=\"../../../../../../numbers/number_sets/complex_numbers/__pv_it/common/d18a028138f659eda00de597c28a3447fe87eb100/expr.ipynb\"><img src=\"../../../../../../numbers/number_sets/complex_numbers/__pv_it/common/d18a028138f659eda00de597c28a3447fe87eb100/expr.png\" style=\"display:inline;vertical-align:middle;\" /></a></td></tr>\n",
       "<tr><td>12</td><td>Variable</td><td></td><td><a class=\"ProveItLink\" href=\"../../../../../../__pv_it/common/674a03b9c3ca221b3aabd5636837b31528ff33830/expr.ipynb\"><img src=\"../../../../../../__pv_it/common/674a03b9c3ca221b3aabd5636837b31528ff33830/expr.png\" style=\"display:inline;vertical-align:middle;\" /></a></td></tr>\n",
       "<tr><td>13</td><td>ExprTuple</td><td>16</td><td><a class=\"ProveItLink\" href=\"../../../../__pv_it/common/4ab26c127597cd6749f1ca81bb942adb957f9daa0/expr.ipynb\"><img src=\"../../../../__pv_it/common/4ab26c127597cd6749f1ca81bb942adb957f9daa0/expr.png\" style=\"display:inline;vertical-align:middle;\" /></a></td></tr>\n",
       "<tr><td>14</td><td>Literal</td><td></td><td><a class=\"ProveItLink\" href=\"../../common/2972e0deb52c96565b39f905d407d7302ae287580/expr.ipynb\"><img src=\"../../common/2972e0deb52c96565b39f905d407d7302ae287580/expr.png\" style=\"display:inline;vertical-align:middle;\" /></a></td></tr>\n",
       "<tr><td>15</td><td>ExprTuple</td><td>17, 18</td><td><a class=\"ProveItLink\" href=\"../0f79b937857dfccd23f6729fe4d4f9d18147c6b10/expr.ipynb\"><img src=\"../0f79b937857dfccd23f6729fe4d4f9d18147c6b10/expr.png\" style=\"display:inline;vertical-align:middle;\" /></a></td></tr>\n",
       "<tr><td>16</td><td>Variable</td><td></td><td><a class=\"ProveItLink\" href=\"../../../../__pv_it/common/0792d8e8646ae7654862bb6a66054cc6abdbdd200/expr.ipynb\"><img src=\"../../../../__pv_it/common/0792d8e8646ae7654862bb6a66054cc6abdbdd200/expr.png\" style=\"display:inline;vertical-align:middle;\" /></a></td></tr>\n",
       "<tr><td>17</td><td>Variable</td><td></td><td><a class=\"ProveItLink\" href=\"../../../../../../__pv_it/common/8d36d28f3636cdaa66f8b7d56eb3bbf0b50f70200/expr.ipynb\"><img src=\"../../../../../../__pv_it/common/8d36d28f3636cdaa66f8b7d56eb3bbf0b50f70200/expr.png\" style=\"display:inline;vertical-align:middle;\" /></a></td></tr>\n",
       "<tr><td>18</td><td>Operation</td><td>operator:&nbsp;19<br>operand:&nbsp;21<br></td><td><a class=\"ProveItLink\" href=\"../../../../__pv_it/common/c9a1043629ff97823c162335c02491b28faa23df0/expr.ipynb\"><img src=\"../../../../__pv_it/common/c9a1043629ff97823c162335c02491b28faa23df0/expr.png\" style=\"display:inline;vertical-align:middle;\" /></a></td></tr>\n",
       "<tr><td>19</td><td>Literal</td><td></td><td><a class=\"ProveItLink\" href=\"../../common/e3872951fe05b26090372918594af92cac779e280/expr.ipynb\"><img src=\"../../common/e3872951fe05b26090372918594af92cac779e280/expr.png\" style=\"display:inline;vertical-align:middle;\" /></a></td></tr>\n",
       "<tr><td>20</td><td>ExprTuple</td><td>21</td><td><a class=\"ProveItLink\" href=\"../../../../__pv_it/common/01a9ba963790206039a68d1305bb5070dd137de10/expr.ipynb\"><img src=\"../../../../__pv_it/common/01a9ba963790206039a68d1305bb5070dd137de10/expr.png\" style=\"display:inline;vertical-align:middle;\" /></a></td></tr>\n",
       "<tr><td>21</td><td>Variable</td><td></td><td><a class=\"ProveItLink\" href=\"../../../../__pv_it/common/eff3454ef41960bf5bb736e8ee0e81bb07107e080/expr.ipynb\"><img src=\"../../../../__pv_it/common/eff3454ef41960bf5bb736e8ee0e81bb07107e080/expr.png\" style=\"display:inline;vertical-align:middle;\" /></a></td></tr>\n",
       "</table>\n"
      ],
      "text/plain": [
       "0. (|psi〉 + (D . |varphi〉)) in Complex^{m}\n",
       "   core type: Operation\n",
       "   operator: 1\n",
       "   operands: 2\n",
       "1. in\n",
       "   core type: Literal\n",
       "   sub-expressions: \n",
       "2. (|psi〉 + (D . |varphi〉), Complex^{m})\n",
       "   core type: ExprTuple\n",
       "   sub-expressions: 3, 4\n",
       "3. |psi〉 + (D . |varphi〉)\n",
       "   core type: Operation\n",
       "   operator: 5\n",
       "   operands: 6\n",
       "4. Complex^{m}\n",
       "   core type: Operation\n",
       "   operator: 7\n",
       "   operands: 8\n",
       "5. +\n",
       "   core type: Literal\n",
       "   sub-expressions: \n",
       "6. (|psi〉, D . |varphi〉)\n",
       "   core type: ExprTuple\n",
       "   sub-expressions: 9, 10\n",
       "7. CartExp\n",
       "   core type: Literal\n",
       "   sub-expressions: \n",
       "8. (Complex, m)\n",
       "   core type: ExprTuple\n",
       "   sub-expressions: 11, 12\n",
       "9. |psi〉\n",
       "   core type: Operation\n",
       "   operator: 19\n",
       "   operand: 16\n",
       "10. D . |varphi〉\n",
       "    core type: Operation\n",
       "    operator: 14\n",
       "    operands: 15\n",
       "11. Complex\n",
       "    core type: Literal\n",
       "    sub-expressions: \n",
       "12. m\n",
       "    core type: Variable\n",
       "    sub-expressions: \n",
       "13. (psi)\n",
       "    core type: ExprTuple\n",
       "    sub-expressions: 16\n",
       "14. .\n",
       "    core type: Literal\n",
       "    sub-expressions: \n",
       "15. (D, |varphi〉)\n",
       "    core type: ExprTuple\n",
       "    sub-expressions: 17, 18\n",
       "16. psi\n",
       "    core type: Variable\n",
       "    sub-expressions: \n",
       "17. D\n",
       "    core type: Variable\n",
       "    sub-expressions: \n",
       "18. |varphi〉\n",
       "    core type: Operation\n",
       "    operator: 19\n",
       "    operand: 21\n",
       "19. KET\n",
       "    core type: Literal\n",
       "    sub-expressions: \n",
       "20. (varphi)\n",
       "    core type: ExprTuple\n",
       "    sub-expressions: 21\n",
       "21. varphi\n",
       "    core type: Variable\n",
       "    sub-expressions: "
      ]
     },
     "metadata": {},
     "output_type": "display_data"
    }
   ],
   "source": [
    "# display the expression information\n",
    "stored_expr.expr_info()"
   ]
  },
  {
   "cell_type": "code",
   "execution_count": null,
   "metadata": {},
   "outputs": [],
   "source": []
  }
 ],
 "metadata": {
  "kernelspec": {
   "display_name": "Python 3",
   "language": "python",
   "name": "python3"
  }
 },
 "nbformat": 4,
 "nbformat_minor": 0
}