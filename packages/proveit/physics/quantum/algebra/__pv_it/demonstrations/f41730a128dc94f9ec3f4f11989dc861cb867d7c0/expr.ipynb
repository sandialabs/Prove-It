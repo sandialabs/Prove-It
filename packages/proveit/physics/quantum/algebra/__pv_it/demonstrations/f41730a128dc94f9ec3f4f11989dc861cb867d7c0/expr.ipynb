{
 "cells": [
  {
   "cell_type": "markdown",
   "metadata": {},
   "source": [
    "Expression of type <a class=\"ProveItLink\" href=\"../../../../../../../../doc/html/api/proveit.logic.Implies.html\">Implies</a>\n",
    "=======================\n",
    "# from the theory of <a class=\"ProveItLink\" href=\"../../../_theory_nbs_/theory.ipynb\">proveit.physics.quantum.algebra</a>"
   ]
  },
  {
   "cell_type": "code",
   "execution_count": 1,
   "metadata": {},
   "outputs": [],
   "source": [
    "import proveit\n",
    "# Automation is not needed when building an expression:\n",
    "proveit.defaults.automation = False # This will speed things up.\n",
    "proveit.defaults.inline_pngs = False # Makes files smaller.\n",
    "%load_expr # Load the stored expression as 'stored_expr'\n",
    "# import Expression classes needed to build the expression\n",
    "from proveit import A, D, alpha, beta\n",
    "from proveit.linear_algebra import VecAdd\n",
    "from proveit.logic import Equals, Implies, InClass\n",
    "from proveit.physics.quantum import Qmult, QmultCodomain, ket_psi, ket_varphi"
   ]
  },
  {
   "cell_type": "code",
   "execution_count": 2,
   "metadata": {},
   "outputs": [
    {
     "data": {
      "text/html": [
       "<strong id=\"expr\">expr:</strong> <a class=\"ProveItLink\" href=\"expr.ipynb\"><img src=\"expr.png\" style=\"display:inline;vertical-align:middle;\" /></a><br>"
      ],
      "text/plain": [
       "<IPython.core.display.HTML object>"
      ]
     },
     "metadata": {},
     "output_type": "display_data"
    }
   ],
   "source": [
    "# build up the expression from sub-expressions\n",
    "sub_expr1 = Qmult(D, ket_varphi)\n",
    "sub_expr2 = Qmult(alpha, A, beta, VecAdd(ket_psi, sub_expr1))\n",
    "expr = Implies(InClass(sub_expr2, QmultCodomain), Equals(sub_expr2, VecAdd(Qmult(alpha, A, beta, ket_psi), Qmult(alpha, A, beta, sub_expr1))).with_wrapping_at(2)).with_wrapping_at(2)"
   ]
  },
  {
   "cell_type": "code",
   "execution_count": 3,
   "metadata": {},
   "outputs": [
    {
     "name": "stdout",
     "output_type": "stream",
     "text": [
      "Passed sanity check: expr matches stored_expr\n"
     ]
    }
   ],
   "source": [
    "# check that the built expression is the same as the stored expression\n",
    "assert expr == stored_expr\n",
    "assert expr._style_id == stored_expr._style_id\n",
    "print(\"Passed sanity check: expr matches stored_expr\")"
   ]
  },
  {
   "cell_type": "code",
   "execution_count": 4,
   "metadata": {},
   "outputs": [
    {
     "name": "stdout",
     "output_type": "stream",
     "text": [
      "\\begin{array}{c} \\begin{array}{l} \\left(\\left(\\alpha \\thinspace A \\thinspace \\beta \\thinspace \\left(\\lvert \\psi \\rangle + \\left(D \\thinspace \\lvert \\varphi \\rangle\\right)\\right)\\right) \\underset{{\\scriptscriptstyle c}}{\\in} \\mathcal{Q^*}\\right) \\Rightarrow  \\\\ \\left(\\begin{array}{c} \\begin{array}{l} \\left(\\alpha \\thinspace A \\thinspace \\beta \\thinspace \\left(\\lvert \\psi \\rangle + \\left(D \\thinspace \\lvert \\varphi \\rangle\\right)\\right)\\right) =  \\\\ \\left(\\left(\\alpha \\thinspace A \\thinspace \\beta \\thinspace \\lvert \\psi \\rangle\\right) + \\left(\\alpha \\thinspace A \\thinspace \\beta \\thinspace \\left(D \\thinspace \\lvert \\varphi \\rangle\\right)\\right)\\right) \\end{array} \\end{array}\\right) \\end{array} \\end{array}\n"
     ]
    }
   ],
   "source": [
    "# Show the LaTeX representation of the expression for convenience if you need it.\n",
    "print(stored_expr.latex())"
   ]
  },
  {
   "cell_type": "code",
   "execution_count": 5,
   "metadata": {},
   "outputs": [
    {
     "data": {
      "text/html": [
       "<table>\n",
       "<tr><th>name</th><th>description</th><th>default</th><th>current value</th><th>related methods</th></tr><tr><td>operation</td><td>'infix' or 'function' style formatting</td><td>infix</td><td>infix</td><td></td></tr>\n",
       "<tr><td>wrap_positions</td><td>position(s) at which wrapping is to occur; '2 n - 1' is after the nth operand, '2 n' is after the nth operation.</td><td>()</td><td>(2)</td><td>('with_wrapping_at', 'with_wrap_before_operator', 'with_wrap_after_operator', 'without_wrapping', 'wrap_positions')</td></tr>\n",
       "<tr><td>justification</td><td>if any wrap positions are set, justify to the 'left', 'center', or 'right'</td><td>center</td><td>center</td><td>('with_justification',)</td></tr>\n",
       "<tr><td>direction</td><td>Direction of the relation (normal or reversed)</td><td>normal</td><td>normal</td><td>('with_direction_reversed', 'is_reversed')</td></tr>\n",
       "</table>\n"
      ],
      "text/plain": [
       "style name: operation\n",
       "description: 'infix' or 'function' style formatting\n",
       "default: infix\n",
       "current value: infix\n",
       "related methods: ()\n",
       "style name: wrap_positions\n",
       "description: position(s) at which wrapping is to occur; '2 n - 1' is after the nth operand, '2 n' is after the nth operation.\n",
       "default: ()\n",
       "current value: (2)\n",
       "related methods: ('with_wrapping_at', 'with_wrap_before_operator', 'with_wrap_after_operator', 'without_wrapping', 'wrap_positions')\n",
       "style name: justification\n",
       "description: if any wrap positions are set, justify to the 'left', 'center', or 'right'\n",
       "default: center\n",
       "current value: center\n",
       "related methods: ('with_justification',)\n",
       "style name: direction\n",
       "description: Direction of the relation (normal or reversed)\n",
       "default: normal\n",
       "current value: normal\n",
       "related methods: ('with_direction_reversed', 'is_reversed')"
      ]
     },
     "metadata": {},
     "output_type": "display_data"
    }
   ],
   "source": [
    "stored_expr.style_options()"
   ]
  },
  {
   "cell_type": "code",
   "execution_count": 6,
   "metadata": {},
   "outputs": [
    {
     "data": {
      "text/html": [
       "<table><tr><th>&nbsp;</th><th>core type</th><th>sub-expressions</th><th>expression</th></tr>\n",
       "<tr><td>0</td><td>Operation</td><td>operator:&nbsp;1<br>operands:&nbsp;2<br></td><td><a class=\"ProveItLink\" href=\"expr.ipynb\"><img src=\"expr.png\" style=\"display:inline;vertical-align:middle;\" /></a></td></tr>\n",
       "<tr><td>1</td><td>Literal</td><td></td><td><a class=\"ProveItLink\" href=\"../../../../../../logic/booleans/implication/__pv_it/common/02bdb382575728da8cdbaed545b9096ea7a1bd5b0/expr.ipynb\"><img src=\"../../../../../../logic/booleans/implication/__pv_it/common/02bdb382575728da8cdbaed545b9096ea7a1bd5b0/expr.png\" style=\"display:inline;vertical-align:middle;\" /></a></td></tr>\n",
       "<tr><td>2</td><td>ExprTuple</td><td>3, 4</td><td><a class=\"ProveItLink\" href=\"../7063b0e797765c2516edecdd2e26356a288a80250/expr.ipynb\"><img src=\"../7063b0e797765c2516edecdd2e26356a288a80250/expr.png\" style=\"display:inline;vertical-align:middle;\" /></a></td></tr>\n",
       "<tr><td>3</td><td>Operation</td><td>operator:&nbsp;5<br>operands:&nbsp;6<br></td><td><a class=\"ProveItLink\" href=\"../87029235392ebc4cd15d0596482db90c96d7226e0/expr.ipynb\"><img src=\"../87029235392ebc4cd15d0596482db90c96d7226e0/expr.png\" style=\"display:inline;vertical-align:middle;\" /></a></td></tr>\n",
       "<tr><td>4</td><td>Operation</td><td>operator:&nbsp;7<br>operands:&nbsp;8<br></td><td><a class=\"ProveItLink\" href=\"../14a8a8b1a7d6ba0311d2aeda0715c17290516a370/expr.ipynb\"><img src=\"../14a8a8b1a7d6ba0311d2aeda0715c17290516a370/expr.png\" style=\"display:inline;vertical-align:middle;\" /></a></td></tr>\n",
       "<tr><td>5</td><td>Literal</td><td></td><td><a class=\"ProveItLink\" href=\"../../../../../../logic/classes/membership/__pv_it/common/e3b437d28fbe17f0a50c9789c7c9b47a1270f1420/expr.ipynb\"><img src=\"../../../../../../logic/classes/membership/__pv_it/common/e3b437d28fbe17f0a50c9789c7c9b47a1270f1420/expr.png\" style=\"display:inline;vertical-align:middle;\" /></a></td></tr>\n",
       "<tr><td>6</td><td>ExprTuple</td><td>10, 9</td><td><a class=\"ProveItLink\" href=\"../ba19ec58fae5237b991d61c84031e31de04684360/expr.ipynb\"><img src=\"../ba19ec58fae5237b991d61c84031e31de04684360/expr.png\" style=\"display:inline;vertical-align:middle;\" /></a></td></tr>\n",
       "<tr><td>7</td><td>Literal</td><td></td><td><a class=\"ProveItLink\" href=\"../../../../../../logic/equality/__pv_it/common/fb96dc12b2aa8801dda64d0132b396c63d1502bb0/expr.ipynb\"><img src=\"../../../../../../logic/equality/__pv_it/common/fb96dc12b2aa8801dda64d0132b396c63d1502bb0/expr.png\" style=\"display:inline;vertical-align:middle;\" /></a></td></tr>\n",
       "<tr><td>8</td><td>ExprTuple</td><td>10, 11</td><td><a class=\"ProveItLink\" href=\"../34679590e587d2e5292b83a0b96e5ccd2890a1800/expr.ipynb\"><img src=\"../34679590e587d2e5292b83a0b96e5ccd2890a1800/expr.png\" style=\"display:inline;vertical-align:middle;\" /></a></td></tr>\n",
       "<tr><td>9</td><td>Literal</td><td></td><td><a class=\"ProveItLink\" href=\"../../common/9eb627883d0de35514f5f025d8d6d9a6894424630/expr.ipynb\"><img src=\"../../common/9eb627883d0de35514f5f025d8d6d9a6894424630/expr.png\" style=\"display:inline;vertical-align:middle;\" /></a></td></tr>\n",
       "<tr><td>10</td><td>Operation</td><td>operator:&nbsp;27<br>operands:&nbsp;12<br></td><td><a class=\"ProveItLink\" href=\"../19f2762fb3a49433095cbe8e1577b9c4cbe0f9300/expr.ipynb\"><img src=\"../19f2762fb3a49433095cbe8e1577b9c4cbe0f9300/expr.png\" style=\"display:inline;vertical-align:middle;\" /></a></td></tr>\n",
       "<tr><td>11</td><td>Operation</td><td>operator:&nbsp;17<br>operands:&nbsp;13<br></td><td><a class=\"ProveItLink\" href=\"../c303e20ce22baaf8091df3e70933a08c467d3a160/expr.ipynb\"><img src=\"../c303e20ce22baaf8091df3e70933a08c467d3a160/expr.png\" style=\"display:inline;vertical-align:middle;\" /></a></td></tr>\n",
       "<tr><td>12</td><td>ExprTuple</td><td>22, 23, 24, 14</td><td><a class=\"ProveItLink\" href=\"../0f0151f22667979322197951668c850a043475c90/expr.ipynb\"><img src=\"../0f0151f22667979322197951668c850a043475c90/expr.png\" style=\"display:inline;vertical-align:middle;\" /></a></td></tr>\n",
       "<tr><td>13</td><td>ExprTuple</td><td>15, 16</td><td><a class=\"ProveItLink\" href=\"../ba87d5a6d9ab698a4e3a8b9a293b299d93a295f30/expr.ipynb\"><img src=\"../ba87d5a6d9ab698a4e3a8b9a293b299d93a295f30/expr.png\" style=\"display:inline;vertical-align:middle;\" /></a></td></tr>\n",
       "<tr><td>14</td><td>Operation</td><td>operator:&nbsp;17<br>operands:&nbsp;18<br></td><td><a class=\"ProveItLink\" href=\"../911db7bc7b9ec7333ab2ec3e438c4d5cae1de7930/expr.ipynb\"><img src=\"../911db7bc7b9ec7333ab2ec3e438c4d5cae1de7930/expr.png\" style=\"display:inline;vertical-align:middle;\" /></a></td></tr>\n",
       "<tr><td>15</td><td>Operation</td><td>operator:&nbsp;27<br>operands:&nbsp;19<br></td><td><a class=\"ProveItLink\" href=\"../6ca48de79ea7332a9ee5e4dfa8c23f72832c41dd0/expr.ipynb\"><img src=\"../6ca48de79ea7332a9ee5e4dfa8c23f72832c41dd0/expr.png\" style=\"display:inline;vertical-align:middle;\" /></a></td></tr>\n",
       "<tr><td>16</td><td>Operation</td><td>operator:&nbsp;27<br>operands:&nbsp;20<br></td><td><a class=\"ProveItLink\" href=\"../825d3f08080587cdd7e0ac3bffc2ffb9fb83d6470/expr.ipynb\"><img src=\"../825d3f08080587cdd7e0ac3bffc2ffb9fb83d6470/expr.png\" style=\"display:inline;vertical-align:middle;\" /></a></td></tr>\n",
       "<tr><td>17</td><td>Literal</td><td></td><td><a class=\"ProveItLink\" href=\"../../../../../../linear_algebra/addition/__pv_it/common/ac3c140c9094f065c7f7db15c94558731443639c0/expr.ipynb\"><img src=\"../../../../../../linear_algebra/addition/__pv_it/common/ac3c140c9094f065c7f7db15c94558731443639c0/expr.png\" style=\"display:inline;vertical-align:middle;\" /></a></td></tr>\n",
       "<tr><td>18</td><td>ExprTuple</td><td>21, 25</td><td><a class=\"ProveItLink\" href=\"../ef699d4756e85242dd387b697bd63f193c39abe80/expr.ipynb\"><img src=\"../ef699d4756e85242dd387b697bd63f193c39abe80/expr.png\" style=\"display:inline;vertical-align:middle;\" /></a></td></tr>\n",
       "<tr><td>19</td><td>ExprTuple</td><td>22, 23, 24, 21</td><td><a class=\"ProveItLink\" href=\"../e8d3ea14cca5ac4dd1adb1e0daca79a10015d2720/expr.ipynb\"><img src=\"../e8d3ea14cca5ac4dd1adb1e0daca79a10015d2720/expr.png\" style=\"display:inline;vertical-align:middle;\" /></a></td></tr>\n",
       "<tr><td>20</td><td>ExprTuple</td><td>22, 23, 24, 25</td><td><a class=\"ProveItLink\" href=\"../9b4d1bfd0e2f5ae9965b699842929495266dd2db0/expr.ipynb\"><img src=\"../9b4d1bfd0e2f5ae9965b699842929495266dd2db0/expr.png\" style=\"display:inline;vertical-align:middle;\" /></a></td></tr>\n",
       "<tr><td>21</td><td>Operation</td><td>operator:&nbsp;32<br>operand:&nbsp;29<br></td><td><a class=\"ProveItLink\" href=\"../../../../__pv_it/common/85db9cb8edfd9bae55ae16b1acc577987cc735250/expr.ipynb\"><img src=\"../../../../__pv_it/common/85db9cb8edfd9bae55ae16b1acc577987cc735250/expr.png\" style=\"display:inline;vertical-align:middle;\" /></a></td></tr>\n",
       "<tr><td>22</td><td>Variable</td><td></td><td><a class=\"ProveItLink\" href=\"../../../../../../__pv_it/common/9705ebf23debd1198c43ec3d0c30ebe152d069440/expr.ipynb\"><img src=\"../../../../../../__pv_it/common/9705ebf23debd1198c43ec3d0c30ebe152d069440/expr.png\" style=\"display:inline;vertical-align:middle;\" /></a></td></tr>\n",
       "<tr><td>23</td><td>Variable</td><td></td><td><a class=\"ProveItLink\" href=\"../../../../../../__pv_it/common/09585084922504426caf1db2ff588a23a0932a960/expr.ipynb\"><img src=\"../../../../../../__pv_it/common/09585084922504426caf1db2ff588a23a0932a960/expr.png\" style=\"display:inline;vertical-align:middle;\" /></a></td></tr>\n",
       "<tr><td>24</td><td>Variable</td><td></td><td><a class=\"ProveItLink\" href=\"../../../../../../__pv_it/common/c713a5db2586f854a5051c95110df24af02bd7260/expr.ipynb\"><img src=\"../../../../../../__pv_it/common/c713a5db2586f854a5051c95110df24af02bd7260/expr.png\" style=\"display:inline;vertical-align:middle;\" /></a></td></tr>\n",
       "<tr><td>25</td><td>Operation</td><td>operator:&nbsp;27<br>operands:&nbsp;28<br></td><td><a class=\"ProveItLink\" href=\"../c75c7cd76b9273ba522edf6edc20c9261e21a9e40/expr.ipynb\"><img src=\"../c75c7cd76b9273ba522edf6edc20c9261e21a9e40/expr.png\" style=\"display:inline;vertical-align:middle;\" /></a></td></tr>\n",
       "<tr><td>26</td><td>ExprTuple</td><td>29</td><td><a class=\"ProveItLink\" href=\"../../../../__pv_it/common/4ab26c127597cd6749f1ca81bb942adb957f9daa0/expr.ipynb\"><img src=\"../../../../__pv_it/common/4ab26c127597cd6749f1ca81bb942adb957f9daa0/expr.png\" style=\"display:inline;vertical-align:middle;\" /></a></td></tr>\n",
       "<tr><td>27</td><td>Literal</td><td></td><td><a class=\"ProveItLink\" href=\"../../common/2972e0deb52c96565b39f905d407d7302ae287580/expr.ipynb\"><img src=\"../../common/2972e0deb52c96565b39f905d407d7302ae287580/expr.png\" style=\"display:inline;vertical-align:middle;\" /></a></td></tr>\n",
       "<tr><td>28</td><td>ExprTuple</td><td>30, 31</td><td><a class=\"ProveItLink\" href=\"../0f79b937857dfccd23f6729fe4d4f9d18147c6b10/expr.ipynb\"><img src=\"../0f79b937857dfccd23f6729fe4d4f9d18147c6b10/expr.png\" style=\"display:inline;vertical-align:middle;\" /></a></td></tr>\n",
       "<tr><td>29</td><td>Variable</td><td></td><td><a class=\"ProveItLink\" href=\"../../../../__pv_it/common/0792d8e8646ae7654862bb6a66054cc6abdbdd200/expr.ipynb\"><img src=\"../../../../__pv_it/common/0792d8e8646ae7654862bb6a66054cc6abdbdd200/expr.png\" style=\"display:inline;vertical-align:middle;\" /></a></td></tr>\n",
       "<tr><td>30</td><td>Variable</td><td></td><td><a class=\"ProveItLink\" href=\"../../../../../../__pv_it/common/8d36d28f3636cdaa66f8b7d56eb3bbf0b50f70200/expr.ipynb\"><img src=\"../../../../../../__pv_it/common/8d36d28f3636cdaa66f8b7d56eb3bbf0b50f70200/expr.png\" style=\"display:inline;vertical-align:middle;\" /></a></td></tr>\n",
       "<tr><td>31</td><td>Operation</td><td>operator:&nbsp;32<br>operand:&nbsp;34<br></td><td><a class=\"ProveItLink\" href=\"../../../../__pv_it/common/c9a1043629ff97823c162335c02491b28faa23df0/expr.ipynb\"><img src=\"../../../../__pv_it/common/c9a1043629ff97823c162335c02491b28faa23df0/expr.png\" style=\"display:inline;vertical-align:middle;\" /></a></td></tr>\n",
       "<tr><td>32</td><td>Literal</td><td></td><td><a class=\"ProveItLink\" href=\"../../common/e3872951fe05b26090372918594af92cac779e280/expr.ipynb\"><img src=\"../../common/e3872951fe05b26090372918594af92cac779e280/expr.png\" style=\"display:inline;vertical-align:middle;\" /></a></td></tr>\n",
       "<tr><td>33</td><td>ExprTuple</td><td>34</td><td><a class=\"ProveItLink\" href=\"../../../../__pv_it/common/01a9ba963790206039a68d1305bb5070dd137de10/expr.ipynb\"><img src=\"../../../../__pv_it/common/01a9ba963790206039a68d1305bb5070dd137de10/expr.png\" style=\"display:inline;vertical-align:middle;\" /></a></td></tr>\n",
       "<tr><td>34</td><td>Variable</td><td></td><td><a class=\"ProveItLink\" href=\"../../../../__pv_it/common/eff3454ef41960bf5bb736e8ee0e81bb07107e080/expr.ipynb\"><img src=\"../../../../__pv_it/common/eff3454ef41960bf5bb736e8ee0e81bb07107e080/expr.png\" style=\"display:inline;vertical-align:middle;\" /></a></td></tr>\n",
       "</table>\n"
      ],
      "text/plain": [
       "0. ((alpha . A . beta . (|psi〉 + (D . |varphi〉))) in_c Q*) =>  \\\\ ((alpha . A . beta . (|psi〉 + (D . |varphi〉))) =  \\\\ ((alpha . A . beta . |psi〉) + (alpha . A . beta . (D . |varphi〉))))\n",
       "   core type: Operation\n",
       "   operator: 1\n",
       "   operands: 2\n",
       "1. =>\n",
       "   core type: Literal\n",
       "   sub-expressions: \n",
       "2. ((alpha . A . beta . (|psi〉 + (D . |varphi〉))) in_c Q*, (alpha . A . beta . (|psi〉 + (D . |varphi〉))) =  \\\\ ((alpha . A . beta . |psi〉) + (alpha . A . beta . (D . |varphi〉))))\n",
       "   core type: ExprTuple\n",
       "   sub-expressions: 3, 4\n",
       "3. (alpha . A . beta . (|psi〉 + (D . |varphi〉))) in_c Q*\n",
       "   core type: Operation\n",
       "   operator: 5\n",
       "   operands: 6\n",
       "4. (alpha . A . beta . (|psi〉 + (D . |varphi〉))) =  \\\\ ((alpha . A . beta . |psi〉) + (alpha . A . beta . (D . |varphi〉)))\n",
       "   core type: Operation\n",
       "   operator: 7\n",
       "   operands: 8\n",
       "5. in_c\n",
       "   core type: Literal\n",
       "   sub-expressions: \n",
       "6. (alpha . A . beta . (|psi〉 + (D . |varphi〉)), Q*)\n",
       "   core type: ExprTuple\n",
       "   sub-expressions: 10, 9\n",
       "7. =\n",
       "   core type: Literal\n",
       "   sub-expressions: \n",
       "8. (alpha . A . beta . (|psi〉 + (D . |varphi〉)), (alpha . A . beta . |psi〉) + (alpha . A . beta . (D . |varphi〉)))\n",
       "   core type: ExprTuple\n",
       "   sub-expressions: 10, 11\n",
       "9. Q*\n",
       "   core type: Literal\n",
       "   sub-expressions: \n",
       "10. alpha . A . beta . (|psi〉 + (D . |varphi〉))\n",
       "    core type: Operation\n",
       "    operator: 27\n",
       "    operands: 12\n",
       "11. (alpha . A . beta . |psi〉) + (alpha . A . beta . (D . |varphi〉))\n",
       "    core type: Operation\n",
       "    operator: 17\n",
       "    operands: 13\n",
       "12. (alpha, A, beta, |psi〉 + (D . |varphi〉))\n",
       "    core type: ExprTuple\n",
       "    sub-expressions: 22, 23, 24, 14\n",
       "13. (alpha . A . beta . |psi〉, alpha . A . beta . (D . |varphi〉))\n",
       "    core type: ExprTuple\n",
       "    sub-expressions: 15, 16\n",
       "14. |psi〉 + (D . |varphi〉)\n",
       "    core type: Operation\n",
       "    operator: 17\n",
       "    operands: 18\n",
       "15. alpha . A . beta . |psi〉\n",
       "    core type: Operation\n",
       "    operator: 27\n",
       "    operands: 19\n",
       "16. alpha . A . beta . (D . |varphi〉)\n",
       "    core type: Operation\n",
       "    operator: 27\n",
       "    operands: 20\n",
       "17. +\n",
       "    core type: Literal\n",
       "    sub-expressions: \n",
       "18. (|psi〉, D . |varphi〉)\n",
       "    core type: ExprTuple\n",
       "    sub-expressions: 21, 25\n",
       "19. (alpha, A, beta, |psi〉)\n",
       "    core type: ExprTuple\n",
       "    sub-expressions: 22, 23, 24, 21\n",
       "20. (alpha, A, beta, D . |varphi〉)\n",
       "    core type: ExprTuple\n",
       "    sub-expressions: 22, 23, 24, 25\n",
       "21. |psi〉\n",
       "    core type: Operation\n",
       "    operator: 32\n",
       "    operand: 29\n",
       "22. alpha\n",
       "    core type: Variable\n",
       "    sub-expressions: \n",
       "23. A\n",
       "    core type: Variable\n",
       "    sub-expressions: \n",
       "24. beta\n",
       "    core type: Variable\n",
       "    sub-expressions: \n",
       "25. D . |varphi〉\n",
       "    core type: Operation\n",
       "    operator: 27\n",
       "    operands: 28\n",
       "26. (psi)\n",
       "    core type: ExprTuple\n",
       "    sub-expressions: 29\n",
       "27. .\n",
       "    core type: Literal\n",
       "    sub-expressions: \n",
       "28. (D, |varphi〉)\n",
       "    core type: ExprTuple\n",
       "    sub-expressions: 30, 31\n",
       "29. psi\n",
       "    core type: Variable\n",
       "    sub-expressions: \n",
       "30. D\n",
       "    core type: Variable\n",
       "    sub-expressions: \n",
       "31. |varphi〉\n",
       "    core type: Operation\n",
       "    operator: 32\n",
       "    operand: 34\n",
       "32. KET\n",
       "    core type: Literal\n",
       "    sub-expressions: \n",
       "33. (varphi)\n",
       "    core type: ExprTuple\n",
       "    sub-expressions: 34\n",
       "34. varphi\n",
       "    core type: Variable\n",
       "    sub-expressions: "
      ]
     },
     "metadata": {},
     "output_type": "display_data"
    }
   ],
   "source": [
    "# display the expression information\n",
    "stored_expr.expr_info()"
   ]
  },
  {
   "cell_type": "code",
   "execution_count": null,
   "metadata": {},
   "outputs": [],
   "source": []
  }
 ],
 "metadata": {
  "kernelspec": {
   "display_name": "Python 3",
   "language": "python",
   "name": "python3"
  }
 },
 "nbformat": 4,
 "nbformat_minor": 0
}