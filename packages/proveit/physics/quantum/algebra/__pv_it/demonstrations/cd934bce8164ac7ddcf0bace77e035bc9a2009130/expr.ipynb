{
 "cells": [
  {
   "cell_type": "markdown",
   "metadata": {},
   "source": [
    "Expression of type <a class=\"ProveItLink\" href=\"../../../../../../../../doc/html/api/proveit.ExprTuple.html\">ExprTuple</a>\n",
    "=======================\n",
    "# from the theory of <a class=\"ProveItLink\" href=\"../../../_theory_nbs_/theory.ipynb\">proveit.physics.quantum.algebra</a>"
   ]
  },
  {
   "cell_type": "code",
   "execution_count": 1,
   "metadata": {},
   "outputs": [],
   "source": [
    "import proveit\n",
    "# Automation is not needed when building an expression:\n",
    "proveit.defaults.automation = False # This will speed things up.\n",
    "proveit.defaults.inline_pngs = False # Makes files smaller.\n",
    "%load_expr # Load the stored expression as 'stored_expr'\n",
    "# import Expression classes needed to build the expression\n",
    "from proveit import ExprRange, ExprTuple, Function, IndexedVar, Q, Variable, alpha, c, delta, f, j\n",
    "from proveit.linear_algebra import VecSum\n",
    "from proveit.numbers import one\n",
    "from proveit.physics.quantum import Qmult, bra_varphi"
   ]
  },
  {
   "cell_type": "code",
   "execution_count": 2,
   "metadata": {},
   "outputs": [
    {
     "data": {
      "text/html": [
       "<strong id=\"expr\">expr:</strong> <a class=\"ProveItLink\" href=\"expr.ipynb\"><img src=\"expr.png\" style=\"display:inline;vertical-align:middle;\" /></a><br>"
      ],
      "text/plain": [
       "<IPython.core.display.HTML object>"
      ]
     },
     "metadata": {},
     "output_type": "display_data"
    }
   ],
   "source": [
    "# build up the expression from sub-expressions\n",
    "sub_expr1 = Variable(\"_a\", latex_format = r\"{_{-}a}\")\n",
    "sub_expr2 = [ExprRange(sub_expr1, IndexedVar(c, sub_expr1), one, j)]\n",
    "sub_expr3 = VecSum(index_or_indices = sub_expr2, summand = Function(f, sub_expr2), condition = Function(Q, sub_expr2))\n",
    "expr = ExprTuple(Qmult(delta, bra_varphi, alpha, sub_expr3), Qmult(Qmult(delta, bra_varphi, alpha), sub_expr3))"
   ]
  },
  {
   "cell_type": "code",
   "execution_count": 3,
   "metadata": {},
   "outputs": [
    {
     "name": "stdout",
     "output_type": "stream",
     "text": [
      "Passed sanity check: expr matches stored_expr\n"
     ]
    }
   ],
   "source": [
    "# check that the built expression is the same as the stored expression\n",
    "assert expr == stored_expr\n",
    "assert expr._style_id == stored_expr._style_id\n",
    "print(\"Passed sanity check: expr matches stored_expr\")"
   ]
  },
  {
   "cell_type": "code",
   "execution_count": 4,
   "metadata": {},
   "outputs": [
    {
     "name": "stdout",
     "output_type": "stream",
     "text": [
      "\\left(\\delta \\thinspace \\langle \\varphi \\rvert \\thinspace \\alpha \\thinspace \\left[\\sum_{c_{1}, c_{2}, \\ldots, c_{j}~|~Q\\left(c_{1}, c_{2}, \\ldots, c_{j}\\right)}~f\\left(c_{1}, c_{2}, \\ldots, c_{j}\\right)\\right], \\left(\\delta \\thinspace \\langle \\varphi \\rvert \\thinspace \\alpha\\right) \\thinspace \\left[\\sum_{c_{1}, c_{2}, \\ldots, c_{j}~|~Q\\left(c_{1}, c_{2}, \\ldots, c_{j}\\right)}~f\\left(c_{1}, c_{2}, \\ldots, c_{j}\\right)\\right]\\right)\n"
     ]
    }
   ],
   "source": [
    "# Show the LaTeX representation of the expression for convenience if you need it.\n",
    "print(stored_expr.latex())"
   ]
  },
  {
   "cell_type": "code",
   "execution_count": 5,
   "metadata": {},
   "outputs": [
    {
     "data": {
      "text/html": [
       "<table>\n",
       "<tr><th>name</th><th>description</th><th>default</th><th>current value</th><th>related methods</th></tr><tr><td>wrap_positions</td><td>position(s) at which wrapping is to occur; 'n' is after the nth comma.</td><td>()</td><td>()</td><td>('with_wrapping_at',)</td></tr>\n",
       "<tr><td>justification</td><td>if any wrap positions are set, justify to the 'left', 'center', or 'right'</td><td>left</td><td>left</td><td>('with_justification',)</td></tr>\n",
       "</table>\n"
      ],
      "text/plain": [
       "style name: wrap_positions\n",
       "description: position(s) at which wrapping is to occur; 'n' is after the nth comma.\n",
       "default: ()\n",
       "current value: ()\n",
       "related methods: ('with_wrapping_at',)\n",
       "style name: justification\n",
       "description: if any wrap positions are set, justify to the 'left', 'center', or 'right'\n",
       "default: left\n",
       "current value: left\n",
       "related methods: ('with_justification',)"
      ]
     },
     "metadata": {},
     "output_type": "display_data"
    }
   ],
   "source": [
    "stored_expr.style_options()"
   ]
  },
  {
   "cell_type": "code",
   "execution_count": 6,
   "metadata": {},
   "outputs": [
    {
     "data": {
      "text/html": [
       "<table><tr><th>&nbsp;</th><th>core type</th><th>sub-expressions</th><th>expression</th></tr>\n",
       "<tr><td>0</td><td>ExprTuple</td><td>1, 2</td><td><a class=\"ProveItLink\" href=\"expr.ipynb\"><img src=\"expr.png\" style=\"display:inline;vertical-align:middle;\" /></a></td></tr>\n",
       "<tr><td>1</td><td>Operation</td><td>operator:&nbsp;7<br>operands:&nbsp;3<br></td><td><a class=\"ProveItLink\" href=\"../bb637afd0d239396715d7e9cf078b30f887381810/expr.ipynb\"><img src=\"../bb637afd0d239396715d7e9cf078b30f887381810/expr.png\" style=\"display:inline;vertical-align:middle;\" /></a></td></tr>\n",
       "<tr><td>2</td><td>Operation</td><td>operator:&nbsp;7<br>operands:&nbsp;4<br></td><td><a class=\"ProveItLink\" href=\"../ec99c5dd407f71cf1e1d9b5672c787a4f70383e60/expr.ipynb\"><img src=\"../ec99c5dd407f71cf1e1d9b5672c787a4f70383e60/expr.png\" style=\"display:inline;vertical-align:middle;\" /></a></td></tr>\n",
       "<tr><td>3</td><td>ExprTuple</td><td>11, 12, 13, 6</td><td><a class=\"ProveItLink\" href=\"../eef589b9c7e486dd4a5cbb03cf908f78eb1a30e90/expr.ipynb\"><img src=\"../eef589b9c7e486dd4a5cbb03cf908f78eb1a30e90/expr.png\" style=\"display:inline;vertical-align:middle;\" /></a></td></tr>\n",
       "<tr><td>4</td><td>ExprTuple</td><td>5, 6</td><td><a class=\"ProveItLink\" href=\"../dbc352e1a9452df19c06acc35e65e7ca80a9224d0/expr.ipynb\"><img src=\"../dbc352e1a9452df19c06acc35e65e7ca80a9224d0/expr.png\" style=\"display:inline;vertical-align:middle;\" /></a></td></tr>\n",
       "<tr><td>5</td><td>Operation</td><td>operator:&nbsp;7<br>operands:&nbsp;8<br></td><td><a class=\"ProveItLink\" href=\"../3c70626149261ba83d8917bcd8baf99265a947100/expr.ipynb\"><img src=\"../3c70626149261ba83d8917bcd8baf99265a947100/expr.png\" style=\"display:inline;vertical-align:middle;\" /></a></td></tr>\n",
       "<tr><td>6</td><td>Operation</td><td>operator:&nbsp;9<br>operand:&nbsp;14<br></td><td><a class=\"ProveItLink\" href=\"../2f62163894bc7629e14cd689dcd422ad1b6c59d20/expr.ipynb\"><img src=\"../2f62163894bc7629e14cd689dcd422ad1b6c59d20/expr.png\" style=\"display:inline;vertical-align:middle;\" /></a></td></tr>\n",
       "<tr><td>7</td><td>Literal</td><td></td><td><a class=\"ProveItLink\" href=\"../../common/2972e0deb52c96565b39f905d407d7302ae287580/expr.ipynb\"><img src=\"../../common/2972e0deb52c96565b39f905d407d7302ae287580/expr.png\" style=\"display:inline;vertical-align:middle;\" /></a></td></tr>\n",
       "<tr><td>8</td><td>ExprTuple</td><td>11, 12, 13</td><td><a class=\"ProveItLink\" href=\"../aabf97b9906ca54e6112cfe11a33fe95846863220/expr.ipynb\"><img src=\"../aabf97b9906ca54e6112cfe11a33fe95846863220/expr.png\" style=\"display:inline;vertical-align:middle;\" /></a></td></tr>\n",
       "<tr><td>9</td><td>Literal</td><td></td><td><a class=\"ProveItLink\" href=\"../../../../../../linear_algebra/addition/__pv_it/common/62f73c830c62efb87627ede5678f282081cd0ce20/expr.ipynb\"><img src=\"../../../../../../linear_algebra/addition/__pv_it/common/62f73c830c62efb87627ede5678f282081cd0ce20/expr.png\" style=\"display:inline;vertical-align:middle;\" /></a></td></tr>\n",
       "<tr><td>10</td><td>ExprTuple</td><td>14</td><td><a class=\"ProveItLink\" href=\"../84d58bfbba2b3d895e77cf3fb137606659fb10fe0/expr.ipynb\"><img src=\"../84d58bfbba2b3d895e77cf3fb137606659fb10fe0/expr.png\" style=\"display:inline;vertical-align:middle;\" /></a></td></tr>\n",
       "<tr><td>11</td><td>Variable</td><td></td><td><a class=\"ProveItLink\" href=\"../../../../../../__pv_it/common/0743d8a4f4ff93fd50a3189c2a5134398a7bd9d60/expr.ipynb\"><img src=\"../../../../../../__pv_it/common/0743d8a4f4ff93fd50a3189c2a5134398a7bd9d60/expr.png\" style=\"display:inline;vertical-align:middle;\" /></a></td></tr>\n",
       "<tr><td>12</td><td>Operation</td><td>operator:&nbsp;15<br>operand:&nbsp;18<br></td><td><a class=\"ProveItLink\" href=\"../../../../__pv_it/common/1c3613f29e51fee59dc4396d8f9530ed1869cf290/expr.ipynb\"><img src=\"../../../../__pv_it/common/1c3613f29e51fee59dc4396d8f9530ed1869cf290/expr.png\" style=\"display:inline;vertical-align:middle;\" /></a></td></tr>\n",
       "<tr><td>13</td><td>Variable</td><td></td><td><a class=\"ProveItLink\" href=\"../../../../../../__pv_it/common/9705ebf23debd1198c43ec3d0c30ebe152d069440/expr.ipynb\"><img src=\"../../../../../../__pv_it/common/9705ebf23debd1198c43ec3d0c30ebe152d069440/expr.png\" style=\"display:inline;vertical-align:middle;\" /></a></td></tr>\n",
       "<tr><td>14</td><td>Lambda</td><td>parameters:&nbsp;23<br>body:&nbsp;17<br></td><td><a class=\"ProveItLink\" href=\"../3918301dcf3d76ad372a7202bbcba7cb78b888ac0/expr.ipynb\"><img src=\"../3918301dcf3d76ad372a7202bbcba7cb78b888ac0/expr.png\" style=\"display:inline;vertical-align:middle;\" /></a></td></tr>\n",
       "<tr><td>15</td><td>Literal</td><td></td><td><a class=\"ProveItLink\" href=\"../../common/3123474674911507d272713eb0a3f543c87b57ba0/expr.ipynb\"><img src=\"../../common/3123474674911507d272713eb0a3f543c87b57ba0/expr.png\" style=\"display:inline;vertical-align:middle;\" /></a></td></tr>\n",
       "<tr><td>16</td><td>ExprTuple</td><td>18</td><td><a class=\"ProveItLink\" href=\"../../../../__pv_it/common/01a9ba963790206039a68d1305bb5070dd137de10/expr.ipynb\"><img src=\"../../../../__pv_it/common/01a9ba963790206039a68d1305bb5070dd137de10/expr.png\" style=\"display:inline;vertical-align:middle;\" /></a></td></tr>\n",
       "<tr><td>17</td><td>Conditional</td><td>value:&nbsp;19<br>condition:&nbsp;20<br></td><td><a class=\"ProveItLink\" href=\"../23df98a5b18fb1e839f6304e8454d38cb137c9e80/expr.ipynb\"><img src=\"../23df98a5b18fb1e839f6304e8454d38cb137c9e80/expr.png\" style=\"display:inline;vertical-align:middle;\" /></a></td></tr>\n",
       "<tr><td>18</td><td>Variable</td><td></td><td><a class=\"ProveItLink\" href=\"../../../../__pv_it/common/eff3454ef41960bf5bb736e8ee0e81bb07107e080/expr.ipynb\"><img src=\"../../../../__pv_it/common/eff3454ef41960bf5bb736e8ee0e81bb07107e080/expr.png\" style=\"display:inline;vertical-align:middle;\" /></a></td></tr>\n",
       "<tr><td>19</td><td>Operation</td><td>operator:&nbsp;21<br>operands:&nbsp;23<br></td><td><a class=\"ProveItLink\" href=\"../52a8d35010573e0666446022d34ac924b68a57af0/expr.ipynb\"><img src=\"../52a8d35010573e0666446022d34ac924b68a57af0/expr.png\" style=\"display:inline;vertical-align:middle;\" /></a></td></tr>\n",
       "<tr><td>20</td><td>Operation</td><td>operator:&nbsp;22<br>operands:&nbsp;23<br></td><td><a class=\"ProveItLink\" href=\"../ba75e0a10e33b28b383c42c2259539aebf0b54450/expr.ipynb\"><img src=\"../ba75e0a10e33b28b383c42c2259539aebf0b54450/expr.png\" style=\"display:inline;vertical-align:middle;\" /></a></td></tr>\n",
       "<tr><td>21</td><td>Variable</td><td></td><td><a class=\"ProveItLink\" href=\"../../../../../../__pv_it/common/01b6dbb444a31fc38af4c2379badef6c75b363710/expr.ipynb\"><img src=\"../../../../../../__pv_it/common/01b6dbb444a31fc38af4c2379badef6c75b363710/expr.png\" style=\"display:inline;vertical-align:middle;\" /></a></td></tr>\n",
       "<tr><td>22</td><td>Variable</td><td></td><td><a class=\"ProveItLink\" href=\"../../../../../../__pv_it/common/d72bb8b07403efe79afab564c36a28e21330e5f90/expr.ipynb\"><img src=\"../../../../../../__pv_it/common/d72bb8b07403efe79afab564c36a28e21330e5f90/expr.png\" style=\"display:inline;vertical-align:middle;\" /></a></td></tr>\n",
       "<tr><td>23</td><td>ExprTuple</td><td>24</td><td><a class=\"ProveItLink\" href=\"../6898b0853ec9b868d760fdbef588d55e27cfb03a0/expr.ipynb\"><img src=\"../6898b0853ec9b868d760fdbef588d55e27cfb03a0/expr.png\" style=\"display:inline;vertical-align:middle;\" /></a></td></tr>\n",
       "<tr><td>24</td><td>ExprRange</td><td>lambda_map:&nbsp;25<br>start_index:&nbsp;26<br>end_index:&nbsp;27<br></td><td><a class=\"ProveItLink\" href=\"../9d079254d5f7515d9dbed8de0f71263d98516c660/expr.ipynb\"><img src=\"../9d079254d5f7515d9dbed8de0f71263d98516c660/expr.png\" style=\"display:inline;vertical-align:middle;\" /></a></td></tr>\n",
       "<tr><td>25</td><td>Lambda</td><td>parameter:&nbsp;31<br>body:&nbsp;28<br></td><td><a class=\"ProveItLink\" href=\"../a82277bbf8737575ef600f8fc76c549adc3c49d40/expr.ipynb\"><img src=\"../a82277bbf8737575ef600f8fc76c549adc3c49d40/expr.png\" style=\"display:inline;vertical-align:middle;\" /></a></td></tr>\n",
       "<tr><td>26</td><td>Literal</td><td></td><td><a class=\"ProveItLink\" href=\"../../../../../../numbers/numerals/__pv_it/common/682157d4892d216d9e5626ed533aff9b56b9506e0/expr.ipynb\"><img src=\"../../../../../../numbers/numerals/__pv_it/common/682157d4892d216d9e5626ed533aff9b56b9506e0/expr.png\" style=\"display:inline;vertical-align:middle;\" /></a></td></tr>\n",
       "<tr><td>27</td><td>Variable</td><td></td><td><a class=\"ProveItLink\" href=\"../../../../../../__pv_it/common/1ed21df18baca2f42b561a7ffbf30a2743d594650/expr.ipynb\"><img src=\"../../../../../../__pv_it/common/1ed21df18baca2f42b561a7ffbf30a2743d594650/expr.png\" style=\"display:inline;vertical-align:middle;\" /></a></td></tr>\n",
       "<tr><td>28</td><td>IndexedVar</td><td>variable:&nbsp;29<br>index:&nbsp;31<br></td><td><a class=\"ProveItLink\" href=\"../c92deb116d7e810bff8c136e4bfe2e5d9daef1640/expr.ipynb\"><img src=\"../c92deb116d7e810bff8c136e4bfe2e5d9daef1640/expr.png\" style=\"display:inline;vertical-align:middle;\" /></a></td></tr>\n",
       "<tr><td>29</td><td>Variable</td><td></td><td><a class=\"ProveItLink\" href=\"../../../../../../__pv_it/common/ceef4280a2f1cc604b455b54e735507244cc62cd0/expr.ipynb\"><img src=\"../../../../../../__pv_it/common/ceef4280a2f1cc604b455b54e735507244cc62cd0/expr.png\" style=\"display:inline;vertical-align:middle;\" /></a></td></tr>\n",
       "<tr><td>30</td><td>ExprTuple</td><td>31</td><td><a class=\"ProveItLink\" href=\"../../../../../../core_expr_types/__pv_it/common/4b0dd6be36d76552eda6a95d5b4a27f5a5b62f900/expr.ipynb\"><img src=\"../../../../../../core_expr_types/__pv_it/common/4b0dd6be36d76552eda6a95d5b4a27f5a5b62f900/expr.png\" style=\"display:inline;vertical-align:middle;\" /></a></td></tr>\n",
       "<tr><td>31</td><td>Variable</td><td></td><td><a class=\"ProveItLink\" href=\"../../../../../../core_expr_types/__pv_it/common/006c465e50948aa2b52285e2de47974f741255cc0/expr.ipynb\"><img src=\"../../../../../../core_expr_types/__pv_it/common/006c465e50948aa2b52285e2de47974f741255cc0/expr.png\" style=\"display:inline;vertical-align:middle;\" /></a></td></tr>\n",
       "</table>\n"
      ],
      "text/plain": [
       "0. (delta . 〈varphi| . alpha . [Sum_{c_{1}, c_{2}, ..., c_{j} | Q(c_{1}, c_{2}, ..., c_{j})} f(c_{1}, c_{2}, ..., c_{j})], (delta . 〈varphi| . alpha) . [Sum_{c_{1}, c_{2}, ..., c_{j} | Q(c_{1}, c_{2}, ..., c_{j})} f(c_{1}, c_{2}, ..., c_{j})])\n",
       "   core type: ExprTuple\n",
       "   sub-expressions: 1, 2\n",
       "1. delta . 〈varphi| . alpha . [Sum_{c_{1}, c_{2}, ..., c_{j} | Q(c_{1}, c_{2}, ..., c_{j})} f(c_{1}, c_{2}, ..., c_{j})]\n",
       "   core type: Operation\n",
       "   operator: 7\n",
       "   operands: 3\n",
       "2. (delta . 〈varphi| . alpha) . [Sum_{c_{1}, c_{2}, ..., c_{j} | Q(c_{1}, c_{2}, ..., c_{j})} f(c_{1}, c_{2}, ..., c_{j})]\n",
       "   core type: Operation\n",
       "   operator: 7\n",
       "   operands: 4\n",
       "3. (delta, 〈varphi|, alpha, Sum_{c_{1}, c_{2}, ..., c_{j} | Q(c_{1}, c_{2}, ..., c_{j})} f(c_{1}, c_{2}, ..., c_{j}))\n",
       "   core type: ExprTuple\n",
       "   sub-expressions: 11, 12, 13, 6\n",
       "4. (delta . 〈varphi| . alpha, Sum_{c_{1}, c_{2}, ..., c_{j} | Q(c_{1}, c_{2}, ..., c_{j})} f(c_{1}, c_{2}, ..., c_{j}))\n",
       "   core type: ExprTuple\n",
       "   sub-expressions: 5, 6\n",
       "5. delta . 〈varphi| . alpha\n",
       "   core type: Operation\n",
       "   operator: 7\n",
       "   operands: 8\n",
       "6. Sum_{c_{1}, c_{2}, ..., c_{j} | Q(c_{1}, c_{2}, ..., c_{j})} f(c_{1}, c_{2}, ..., c_{j})\n",
       "   core type: Operation\n",
       "   operator: 9\n",
       "   operand: 14\n",
       "7. .\n",
       "   core type: Literal\n",
       "   sub-expressions: \n",
       "8. (delta, 〈varphi|, alpha)\n",
       "   core type: ExprTuple\n",
       "   sub-expressions: 11, 12, 13\n",
       "9. Sum\n",
       "   core type: Literal\n",
       "   sub-expressions: \n",
       "10. ((c_{1}, c_{2}, ..., c_{j}) -> {f(c_{1}, c_{2}, ..., c_{j}) if Q(c_{1}, c_{2}, ..., c_{j}).)\n",
       "    core type: ExprTuple\n",
       "    sub-expressions: 14\n",
       "11. delta\n",
       "    core type: Variable\n",
       "    sub-expressions: \n",
       "12. 〈varphi|\n",
       "    core type: Operation\n",
       "    operator: 15\n",
       "    operand: 18\n",
       "13. alpha\n",
       "    core type: Variable\n",
       "    sub-expressions: \n",
       "14. (c_{1}, c_{2}, ..., c_{j}) -> {f(c_{1}, c_{2}, ..., c_{j}) if Q(c_{1}, c_{2}, ..., c_{j}).\n",
       "    core type: Lambda\n",
       "    parameters: 23\\n    body: 17\n",
       "15. BRA\n",
       "    core type: Literal\n",
       "    sub-expressions: \n",
       "16. (varphi)\n",
       "    core type: ExprTuple\n",
       "    sub-expressions: 18\n",
       "17. {f(c_{1}, c_{2}, ..., c_{j}) if Q(c_{1}, c_{2}, ..., c_{j}).\n",
       "    core type: Conditional\n",
       "    value: 19\n",
       "    condition: 20\n",
       "18. varphi\n",
       "    core type: Variable\n",
       "    sub-expressions: \n",
       "19. f(c_{1}, c_{2}, ..., c_{j})\n",
       "    core type: Operation\n",
       "    operator: 21\n",
       "    operands: 23\n",
       "20. Q(c_{1}, c_{2}, ..., c_{j})\n",
       "    core type: Operation\n",
       "    operator: 22\n",
       "    operands: 23\n",
       "21. f\n",
       "    core type: Variable\n",
       "    sub-expressions: \n",
       "22. Q\n",
       "    core type: Variable\n",
       "    sub-expressions: \n",
       "23. (c_{1}, c_{2}, ..., c_{j})\n",
       "    core type: ExprTuple\n",
       "    sub-expressions: 24\n",
       "24. c_{1}, c_{2}, ..., c_{j}\n",
       "    core type: ExprRange\n",
       "    lambda_map: 25\n",
       "    start_index: 26\n",
       "    end_index: 27\n",
       "25. _a -> c_{_a}\n",
       "    core type: Lambda\n",
       "    parameter: 31\n",
       "    body: 28\n",
       "26. 1\n",
       "    core type: Literal\n",
       "    sub-expressions: \n",
       "27. j\n",
       "    core type: Variable\n",
       "    sub-expressions: \n",
       "28. c_{_a}\n",
       "    core type: IndexedVar\n",
       "variable: 29\n",
       "index: 31\n",
       "29. c\n",
       "    core type: Variable\n",
       "    sub-expressions: \n",
       "30. (_a)\n",
       "    core type: ExprTuple\n",
       "    sub-expressions: 31\n",
       "31. _a\n",
       "    core type: Variable\n",
       "    sub-expressions: "
      ]
     },
     "metadata": {},
     "output_type": "display_data"
    }
   ],
   "source": [
    "# display the expression information\n",
    "stored_expr.expr_info()"
   ]
  },
  {
   "cell_type": "code",
   "execution_count": null,
   "metadata": {},
   "outputs": [],
   "source": []
  }
 ],
 "metadata": {
  "kernelspec": {
   "display_name": "Python 3",
   "language": "python",
   "name": "python3"
  }
 },
 "nbformat": 4,
 "nbformat_minor": 0
}