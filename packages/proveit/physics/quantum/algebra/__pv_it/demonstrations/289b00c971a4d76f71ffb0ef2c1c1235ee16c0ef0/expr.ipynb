{
 "cells": [
  {
   "cell_type": "markdown",
   "metadata": {},
   "source": [
    "Expression of type <a class=\"ProveItLink\" href=\"../../../../../../../../doc/html/api/proveit.logic.Equals.html\">Equals</a>\n",
    "=======================\n",
    "# from the theory of <a class=\"ProveItLink\" href=\"../../../_theory_nbs_/theory.ipynb\">proveit.physics.quantum.algebra</a>"
   ]
  },
  {
   "cell_type": "code",
   "execution_count": 1,
   "metadata": {},
   "outputs": [],
   "source": [
    "import proveit\n",
    "# Automation is not needed when building an expression:\n",
    "proveit.defaults.automation = False # This will speed things up.\n",
    "proveit.defaults.inline_pngs = False # Makes files smaller.\n",
    "%load_expr # Load the stored expression as 'stored_expr'\n",
    "# import Expression classes needed to build the expression\n",
    "from proveit import B, D, alpha, beta\n",
    "from proveit.linear_algebra import VecAdd\n",
    "from proveit.logic import Equals\n",
    "from proveit.physics.quantum import Qmult, ket_psi, ket_varphi"
   ]
  },
  {
   "cell_type": "code",
   "execution_count": 2,
   "metadata": {},
   "outputs": [
    {
     "data": {
      "text/html": [
       "<strong id=\"expr\">expr:</strong> <a class=\"ProveItLink\" href=\"expr.ipynb\"><img src=\"expr.png\" style=\"display:inline;vertical-align:middle;\" /></a><br>"
      ],
      "text/plain": [
       "<IPython.core.display.HTML object>"
      ]
     },
     "metadata": {},
     "output_type": "display_data"
    }
   ],
   "source": [
    "# build up the expression from sub-expressions\n",
    "sub_expr1 = Qmult(B, ket_psi)\n",
    "expr = Equals(Qmult(alpha, D, beta, VecAdd(sub_expr1, ket_varphi)), VecAdd(Qmult(alpha, D, beta, sub_expr1), Qmult(alpha, D, beta, ket_varphi))).with_wrapping_at(2)"
   ]
  },
  {
   "cell_type": "code",
   "execution_count": 3,
   "metadata": {},
   "outputs": [
    {
     "name": "stdout",
     "output_type": "stream",
     "text": [
      "Passed sanity check: expr matches stored_expr\n"
     ]
    }
   ],
   "source": [
    "# check that the built expression is the same as the stored expression\n",
    "assert expr == stored_expr\n",
    "assert expr._style_id == stored_expr._style_id\n",
    "print(\"Passed sanity check: expr matches stored_expr\")"
   ]
  },
  {
   "cell_type": "code",
   "execution_count": 4,
   "metadata": {},
   "outputs": [
    {
     "name": "stdout",
     "output_type": "stream",
     "text": [
      "\\begin{array}{c} \\begin{array}{l} \\left(\\alpha \\thinspace D \\thinspace \\beta \\thinspace \\left(\\left(B \\thinspace \\lvert \\psi \\rangle\\right) + \\lvert \\varphi \\rangle\\right)\\right) =  \\\\ \\left(\\left(\\alpha \\thinspace D \\thinspace \\beta \\thinspace \\left(B \\thinspace \\lvert \\psi \\rangle\\right)\\right) + \\left(\\alpha \\thinspace D \\thinspace \\beta \\thinspace \\lvert \\varphi \\rangle\\right)\\right) \\end{array} \\end{array}\n"
     ]
    }
   ],
   "source": [
    "# Show the LaTeX representation of the expression for convenience if you need it.\n",
    "print(stored_expr.latex())"
   ]
  },
  {
   "cell_type": "code",
   "execution_count": 5,
   "metadata": {},
   "outputs": [
    {
     "data": {
      "text/html": [
       "<table>\n",
       "<tr><th>name</th><th>description</th><th>default</th><th>current value</th><th>related methods</th></tr><tr><td>operation</td><td>'infix' or 'function' style formatting</td><td>infix</td><td>infix</td><td></td></tr>\n",
       "<tr><td>wrap_positions</td><td>position(s) at which wrapping is to occur; '2 n - 1' is after the nth operand, '2 n' is after the nth operation.</td><td>()</td><td>(2)</td><td>('with_wrapping_at', 'with_wrap_before_operator', 'with_wrap_after_operator', 'without_wrapping', 'wrap_positions')</td></tr>\n",
       "<tr><td>justification</td><td>if any wrap positions are set, justify to the 'left', 'center', or 'right'</td><td>center</td><td>center</td><td>('with_justification',)</td></tr>\n",
       "<tr><td>direction</td><td>Direction of the relation (normal or reversed)</td><td>normal</td><td>normal</td><td>('with_direction_reversed', 'is_reversed')</td></tr>\n",
       "</table>\n"
      ],
      "text/plain": [
       "style name: operation\n",
       "description: 'infix' or 'function' style formatting\n",
       "default: infix\n",
       "current value: infix\n",
       "related methods: ()\n",
       "style name: wrap_positions\n",
       "description: position(s) at which wrapping is to occur; '2 n - 1' is after the nth operand, '2 n' is after the nth operation.\n",
       "default: ()\n",
       "current value: (2)\n",
       "related methods: ('with_wrapping_at', 'with_wrap_before_operator', 'with_wrap_after_operator', 'without_wrapping', 'wrap_positions')\n",
       "style name: justification\n",
       "description: if any wrap positions are set, justify to the 'left', 'center', or 'right'\n",
       "default: center\n",
       "current value: center\n",
       "related methods: ('with_justification',)\n",
       "style name: direction\n",
       "description: Direction of the relation (normal or reversed)\n",
       "default: normal\n",
       "current value: normal\n",
       "related methods: ('with_direction_reversed', 'is_reversed')"
      ]
     },
     "metadata": {},
     "output_type": "display_data"
    }
   ],
   "source": [
    "stored_expr.style_options()"
   ]
  },
  {
   "cell_type": "code",
   "execution_count": 6,
   "metadata": {},
   "outputs": [
    {
     "data": {
      "text/html": [
       "<table><tr><th>&nbsp;</th><th>core type</th><th>sub-expressions</th><th>expression</th></tr>\n",
       "<tr><td>0</td><td>Operation</td><td>operator:&nbsp;1<br>operands:&nbsp;2<br></td><td><a class=\"ProveItLink\" href=\"expr.ipynb\"><img src=\"expr.png\" style=\"display:inline;vertical-align:middle;\" /></a></td></tr>\n",
       "<tr><td>1</td><td>Literal</td><td></td><td><a class=\"ProveItLink\" href=\"../../../../../../logic/equality/__pv_it/common/fb96dc12b2aa8801dda64d0132b396c63d1502bb0/expr.ipynb\"><img src=\"../../../../../../logic/equality/__pv_it/common/fb96dc12b2aa8801dda64d0132b396c63d1502bb0/expr.png\" style=\"display:inline;vertical-align:middle;\" /></a></td></tr>\n",
       "<tr><td>2</td><td>ExprTuple</td><td>3, 4</td><td><a class=\"ProveItLink\" href=\"../81d330ea22725a31a6483b46ae72203a10b46fe40/expr.ipynb\"><img src=\"../81d330ea22725a31a6483b46ae72203a10b46fe40/expr.png\" style=\"display:inline;vertical-align:middle;\" /></a></td></tr>\n",
       "<tr><td>3</td><td>Operation</td><td>operator:&nbsp;19<br>operands:&nbsp;5<br></td><td><a class=\"ProveItLink\" href=\"../a6b29a5ef6667e470d387498f79515261a5faa5a0/expr.ipynb\"><img src=\"../a6b29a5ef6667e470d387498f79515261a5faa5a0/expr.png\" style=\"display:inline;vertical-align:middle;\" /></a></td></tr>\n",
       "<tr><td>4</td><td>Operation</td><td>operator:&nbsp;10<br>operands:&nbsp;6<br></td><td><a class=\"ProveItLink\" href=\"../2472f03080fca166379b2fb68e4181200f64387c0/expr.ipynb\"><img src=\"../2472f03080fca166379b2fb68e4181200f64387c0/expr.png\" style=\"display:inline;vertical-align:middle;\" /></a></td></tr>\n",
       "<tr><td>5</td><td>ExprTuple</td><td>15, 16, 17, 7</td><td><a class=\"ProveItLink\" href=\"../4b11795869511a46c6eb13de7be6b952846ad28c0/expr.ipynb\"><img src=\"../4b11795869511a46c6eb13de7be6b952846ad28c0/expr.png\" style=\"display:inline;vertical-align:middle;\" /></a></td></tr>\n",
       "<tr><td>6</td><td>ExprTuple</td><td>8, 9</td><td><a class=\"ProveItLink\" href=\"../324c6e172497cb186716e12a325ce8f20167dd890/expr.ipynb\"><img src=\"../324c6e172497cb186716e12a325ce8f20167dd890/expr.png\" style=\"display:inline;vertical-align:middle;\" /></a></td></tr>\n",
       "<tr><td>7</td><td>Operation</td><td>operator:&nbsp;10<br>operands:&nbsp;11<br></td><td><a class=\"ProveItLink\" href=\"../383592a50e4afddca2063500d7bf32e56ba168560/expr.ipynb\"><img src=\"../383592a50e4afddca2063500d7bf32e56ba168560/expr.png\" style=\"display:inline;vertical-align:middle;\" /></a></td></tr>\n",
       "<tr><td>8</td><td>Operation</td><td>operator:&nbsp;19<br>operands:&nbsp;12<br></td><td><a class=\"ProveItLink\" href=\"../4d2b6f9b1c0e7be896f91a713d857fb3519503ce0/expr.ipynb\"><img src=\"../4d2b6f9b1c0e7be896f91a713d857fb3519503ce0/expr.png\" style=\"display:inline;vertical-align:middle;\" /></a></td></tr>\n",
       "<tr><td>9</td><td>Operation</td><td>operator:&nbsp;19<br>operands:&nbsp;13<br></td><td><a class=\"ProveItLink\" href=\"../49a71656fd8c3da9623e433259c32b09b3ae72be0/expr.ipynb\"><img src=\"../49a71656fd8c3da9623e433259c32b09b3ae72be0/expr.png\" style=\"display:inline;vertical-align:middle;\" /></a></td></tr>\n",
       "<tr><td>10</td><td>Literal</td><td></td><td><a class=\"ProveItLink\" href=\"../../../../../../linear_algebra/addition/__pv_it/common/ac3c140c9094f065c7f7db15c94558731443639c0/expr.ipynb\"><img src=\"../../../../../../linear_algebra/addition/__pv_it/common/ac3c140c9094f065c7f7db15c94558731443639c0/expr.png\" style=\"display:inline;vertical-align:middle;\" /></a></td></tr>\n",
       "<tr><td>11</td><td>ExprTuple</td><td>14, 18</td><td><a class=\"ProveItLink\" href=\"../179fd63fdae0fbe5d3c199d4883408eeaa2ebfa60/expr.ipynb\"><img src=\"../179fd63fdae0fbe5d3c199d4883408eeaa2ebfa60/expr.png\" style=\"display:inline;vertical-align:middle;\" /></a></td></tr>\n",
       "<tr><td>12</td><td>ExprTuple</td><td>15, 16, 17, 14</td><td><a class=\"ProveItLink\" href=\"../df3271d1f182968d70478490aa81f7a99903ba140/expr.ipynb\"><img src=\"../df3271d1f182968d70478490aa81f7a99903ba140/expr.png\" style=\"display:inline;vertical-align:middle;\" /></a></td></tr>\n",
       "<tr><td>13</td><td>ExprTuple</td><td>15, 16, 17, 18</td><td><a class=\"ProveItLink\" href=\"../302018aa21c16a954fb07eadad4eafd7ab5220980/expr.ipynb\"><img src=\"../302018aa21c16a954fb07eadad4eafd7ab5220980/expr.png\" style=\"display:inline;vertical-align:middle;\" /></a></td></tr>\n",
       "<tr><td>14</td><td>Operation</td><td>operator:&nbsp;19<br>operands:&nbsp;20<br></td><td><a class=\"ProveItLink\" href=\"../2a53e410c538e005d0d001e962eaacb33208ad710/expr.ipynb\"><img src=\"../2a53e410c538e005d0d001e962eaacb33208ad710/expr.png\" style=\"display:inline;vertical-align:middle;\" /></a></td></tr>\n",
       "<tr><td>15</td><td>Variable</td><td></td><td><a class=\"ProveItLink\" href=\"../../../../../../__pv_it/common/9705ebf23debd1198c43ec3d0c30ebe152d069440/expr.ipynb\"><img src=\"../../../../../../__pv_it/common/9705ebf23debd1198c43ec3d0c30ebe152d069440/expr.png\" style=\"display:inline;vertical-align:middle;\" /></a></td></tr>\n",
       "<tr><td>16</td><td>Variable</td><td></td><td><a class=\"ProveItLink\" href=\"../../../../../../__pv_it/common/8d36d28f3636cdaa66f8b7d56eb3bbf0b50f70200/expr.ipynb\"><img src=\"../../../../../../__pv_it/common/8d36d28f3636cdaa66f8b7d56eb3bbf0b50f70200/expr.png\" style=\"display:inline;vertical-align:middle;\" /></a></td></tr>\n",
       "<tr><td>17</td><td>Variable</td><td></td><td><a class=\"ProveItLink\" href=\"../../../../../../__pv_it/common/c713a5db2586f854a5051c95110df24af02bd7260/expr.ipynb\"><img src=\"../../../../../../__pv_it/common/c713a5db2586f854a5051c95110df24af02bd7260/expr.png\" style=\"display:inline;vertical-align:middle;\" /></a></td></tr>\n",
       "<tr><td>18</td><td>Operation</td><td>operator:&nbsp;25<br>operand:&nbsp;24<br></td><td><a class=\"ProveItLink\" href=\"../../../../__pv_it/common/c9a1043629ff97823c162335c02491b28faa23df0/expr.ipynb\"><img src=\"../../../../__pv_it/common/c9a1043629ff97823c162335c02491b28faa23df0/expr.png\" style=\"display:inline;vertical-align:middle;\" /></a></td></tr>\n",
       "<tr><td>19</td><td>Literal</td><td></td><td><a class=\"ProveItLink\" href=\"../../common/2972e0deb52c96565b39f905d407d7302ae287580/expr.ipynb\"><img src=\"../../common/2972e0deb52c96565b39f905d407d7302ae287580/expr.png\" style=\"display:inline;vertical-align:middle;\" /></a></td></tr>\n",
       "<tr><td>20</td><td>ExprTuple</td><td>22, 23</td><td><a class=\"ProveItLink\" href=\"../c6f9b17efadd94eed519d1607624e650fa0241530/expr.ipynb\"><img src=\"../c6f9b17efadd94eed519d1607624e650fa0241530/expr.png\" style=\"display:inline;vertical-align:middle;\" /></a></td></tr>\n",
       "<tr><td>21</td><td>ExprTuple</td><td>24</td><td><a class=\"ProveItLink\" href=\"../../../../__pv_it/common/01a9ba963790206039a68d1305bb5070dd137de10/expr.ipynb\"><img src=\"../../../../__pv_it/common/01a9ba963790206039a68d1305bb5070dd137de10/expr.png\" style=\"display:inline;vertical-align:middle;\" /></a></td></tr>\n",
       "<tr><td>22</td><td>Variable</td><td></td><td><a class=\"ProveItLink\" href=\"../../../../../../__pv_it/common/a9162d1c3cc0470c02e5daf414500903a7a419230/expr.ipynb\"><img src=\"../../../../../../__pv_it/common/a9162d1c3cc0470c02e5daf414500903a7a419230/expr.png\" style=\"display:inline;vertical-align:middle;\" /></a></td></tr>\n",
       "<tr><td>23</td><td>Operation</td><td>operator:&nbsp;25<br>operand:&nbsp;27<br></td><td><a class=\"ProveItLink\" href=\"../../../../__pv_it/common/85db9cb8edfd9bae55ae16b1acc577987cc735250/expr.ipynb\"><img src=\"../../../../__pv_it/common/85db9cb8edfd9bae55ae16b1acc577987cc735250/expr.png\" style=\"display:inline;vertical-align:middle;\" /></a></td></tr>\n",
       "<tr><td>24</td><td>Variable</td><td></td><td><a class=\"ProveItLink\" href=\"../../../../__pv_it/common/eff3454ef41960bf5bb736e8ee0e81bb07107e080/expr.ipynb\"><img src=\"../../../../__pv_it/common/eff3454ef41960bf5bb736e8ee0e81bb07107e080/expr.png\" style=\"display:inline;vertical-align:middle;\" /></a></td></tr>\n",
       "<tr><td>25</td><td>Literal</td><td></td><td><a class=\"ProveItLink\" href=\"../../common/e3872951fe05b26090372918594af92cac779e280/expr.ipynb\"><img src=\"../../common/e3872951fe05b26090372918594af92cac779e280/expr.png\" style=\"display:inline;vertical-align:middle;\" /></a></td></tr>\n",
       "<tr><td>26</td><td>ExprTuple</td><td>27</td><td><a class=\"ProveItLink\" href=\"../../../../__pv_it/common/4ab26c127597cd6749f1ca81bb942adb957f9daa0/expr.ipynb\"><img src=\"../../../../__pv_it/common/4ab26c127597cd6749f1ca81bb942adb957f9daa0/expr.png\" style=\"display:inline;vertical-align:middle;\" /></a></td></tr>\n",
       "<tr><td>27</td><td>Variable</td><td></td><td><a class=\"ProveItLink\" href=\"../../../../__pv_it/common/0792d8e8646ae7654862bb6a66054cc6abdbdd200/expr.ipynb\"><img src=\"../../../../__pv_it/common/0792d8e8646ae7654862bb6a66054cc6abdbdd200/expr.png\" style=\"display:inline;vertical-align:middle;\" /></a></td></tr>\n",
       "</table>\n"
      ],
      "text/plain": [
       "0. (alpha . D . beta . ((B . |psi〉) + |varphi〉)) =  \\\\ ((alpha . D . beta . (B . |psi〉)) + (alpha . D . beta . |varphi〉))\n",
       "   core type: Operation\n",
       "   operator: 1\n",
       "   operands: 2\n",
       "1. =\n",
       "   core type: Literal\n",
       "   sub-expressions: \n",
       "2. (alpha . D . beta . ((B . |psi〉) + |varphi〉), (alpha . D . beta . (B . |psi〉)) + (alpha . D . beta . |varphi〉))\n",
       "   core type: ExprTuple\n",
       "   sub-expressions: 3, 4\n",
       "3. alpha . D . beta . ((B . |psi〉) + |varphi〉)\n",
       "   core type: Operation\n",
       "   operator: 19\n",
       "   operands: 5\n",
       "4. (alpha . D . beta . (B . |psi〉)) + (alpha . D . beta . |varphi〉)\n",
       "   core type: Operation\n",
       "   operator: 10\n",
       "   operands: 6\n",
       "5. (alpha, D, beta, (B . |psi〉) + |varphi〉)\n",
       "   core type: ExprTuple\n",
       "   sub-expressions: 15, 16, 17, 7\n",
       "6. (alpha . D . beta . (B . |psi〉), alpha . D . beta . |varphi〉)\n",
       "   core type: ExprTuple\n",
       "   sub-expressions: 8, 9\n",
       "7. (B . |psi〉) + |varphi〉\n",
       "   core type: Operation\n",
       "   operator: 10\n",
       "   operands: 11\n",
       "8. alpha . D . beta . (B . |psi〉)\n",
       "   core type: Operation\n",
       "   operator: 19\n",
       "   operands: 12\n",
       "9. alpha . D . beta . |varphi〉\n",
       "   core type: Operation\n",
       "   operator: 19\n",
       "   operands: 13\n",
       "10. +\n",
       "    core type: Literal\n",
       "    sub-expressions: \n",
       "11. (B . |psi〉, |varphi〉)\n",
       "    core type: ExprTuple\n",
       "    sub-expressions: 14, 18\n",
       "12. (alpha, D, beta, B . |psi〉)\n",
       "    core type: ExprTuple\n",
       "    sub-expressions: 15, 16, 17, 14\n",
       "13. (alpha, D, beta, |varphi〉)\n",
       "    core type: ExprTuple\n",
       "    sub-expressions: 15, 16, 17, 18\n",
       "14. B . |psi〉\n",
       "    core type: Operation\n",
       "    operator: 19\n",
       "    operands: 20\n",
       "15. alpha\n",
       "    core type: Variable\n",
       "    sub-expressions: \n",
       "16. D\n",
       "    core type: Variable\n",
       "    sub-expressions: \n",
       "17. beta\n",
       "    core type: Variable\n",
       "    sub-expressions: \n",
       "18. |varphi〉\n",
       "    core type: Operation\n",
       "    operator: 25\n",
       "    operand: 24\n",
       "19. .\n",
       "    core type: Literal\n",
       "    sub-expressions: \n",
       "20. (B, |psi〉)\n",
       "    core type: ExprTuple\n",
       "    sub-expressions: 22, 23\n",
       "21. (varphi)\n",
       "    core type: ExprTuple\n",
       "    sub-expressions: 24\n",
       "22. B\n",
       "    core type: Variable\n",
       "    sub-expressions: \n",
       "23. |psi〉\n",
       "    core type: Operation\n",
       "    operator: 25\n",
       "    operand: 27\n",
       "24. varphi\n",
       "    core type: Variable\n",
       "    sub-expressions: \n",
       "25. KET\n",
       "    core type: Literal\n",
       "    sub-expressions: \n",
       "26. (psi)\n",
       "    core type: ExprTuple\n",
       "    sub-expressions: 27\n",
       "27. psi\n",
       "    core type: Variable\n",
       "    sub-expressions: "
      ]
     },
     "metadata": {},
     "output_type": "display_data"
    }
   ],
   "source": [
    "# display the expression information\n",
    "stored_expr.expr_info()"
   ]
  },
  {
   "cell_type": "code",
   "execution_count": null,
   "metadata": {},
   "outputs": [],
   "source": []
  }
 ],
 "metadata": {
  "kernelspec": {
   "display_name": "Python 3",
   "language": "python",
   "name": "python3"
  }
 },
 "nbformat": 4,
 "nbformat_minor": 0
}