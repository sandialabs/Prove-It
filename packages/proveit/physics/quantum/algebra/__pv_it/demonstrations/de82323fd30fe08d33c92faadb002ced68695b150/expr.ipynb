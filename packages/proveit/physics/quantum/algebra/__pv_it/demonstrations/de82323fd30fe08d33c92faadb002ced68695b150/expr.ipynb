{
 "cells": [
  {
   "cell_type": "markdown",
   "metadata": {},
   "source": [
    "Expression of type <a class=\"ProveItLink\" href=\"../../../../../../../../doc/html/api/proveit.ExprTuple.html\">ExprTuple</a>\n",
    "=======================\n",
    "# from the theory of <a class=\"ProveItLink\" href=\"../../../_theory_nbs_/theory.ipynb\">proveit.physics.quantum.algebra</a>"
   ]
  },
  {
   "cell_type": "code",
   "execution_count": 1,
   "metadata": {},
   "outputs": [],
   "source": [
    "import proveit\n",
    "# Automation is not needed when building an expression:\n",
    "proveit.defaults.automation = False # This will speed things up.\n",
    "proveit.defaults.inline_pngs = False # Makes files smaller.\n",
    "%load_expr # Load the stored expression as 'stored_expr'\n",
    "# import Expression classes needed to build the expression\n",
    "from proveit import ExprRange, ExprTuple, Function, IndexedVar, Q, Variable, c, f, j, m, n\n",
    "from proveit.linear_algebra import MatrixSpace, VecSum\n",
    "from proveit.logic import Forall, InSet\n",
    "from proveit.numbers import Complex, one"
   ]
  },
  {
   "cell_type": "code",
   "execution_count": 2,
   "metadata": {},
   "outputs": [
    {
     "data": {
      "text/html": [
       "<strong id=\"expr\">expr:</strong> <a class=\"ProveItLink\" href=\"expr.ipynb\"><img src=\"expr.png\" style=\"display:inline;vertical-align:middle;\" /></a><br>"
      ],
      "text/plain": [
       "<IPython.core.display.HTML object>"
      ]
     },
     "metadata": {},
     "output_type": "display_data"
    }
   ],
   "source": [
    "# build up the expression from sub-expressions\n",
    "sub_expr1 = Variable(\"_a\", latex_format = r\"{_{-}a}\")\n",
    "sub_expr2 = MatrixSpace(field = Complex, rows = n, columns = m)\n",
    "sub_expr3 = [ExprRange(sub_expr1, IndexedVar(c, sub_expr1), one, j)]\n",
    "sub_expr4 = Function(f, sub_expr3)\n",
    "sub_expr5 = Function(Q, sub_expr3)\n",
    "expr = ExprTuple(Forall(instance_param_or_params = sub_expr3, instance_expr = InSet(sub_expr4, sub_expr2), condition = sub_expr5), InSet(VecSum(index_or_indices = sub_expr3, summand = sub_expr4, condition = sub_expr5), sub_expr2))"
   ]
  },
  {
   "cell_type": "code",
   "execution_count": 3,
   "metadata": {},
   "outputs": [
    {
     "name": "stdout",
     "output_type": "stream",
     "text": [
      "Passed sanity check: expr matches stored_expr\n"
     ]
    }
   ],
   "source": [
    "# check that the built expression is the same as the stored expression\n",
    "assert expr == stored_expr\n",
    "assert expr._style_id == stored_expr._style_id\n",
    "print(\"Passed sanity check: expr matches stored_expr\")"
   ]
  },
  {
   "cell_type": "code",
   "execution_count": 4,
   "metadata": {},
   "outputs": [
    {
     "name": "stdout",
     "output_type": "stream",
     "text": [
      "\\left(\\forall_{c_{1}, c_{2}, \\ldots, c_{j}~|~Q\\left(c_{1}, c_{2}, \\ldots, c_{j}\\right)}~\\left(f\\left(c_{1}, c_{2}, \\ldots, c_{j}\\right) \\in \\mathbb{C}^{n \\times m}\\right), \\left[\\sum_{c_{1}, c_{2}, \\ldots, c_{j}~|~Q\\left(c_{1}, c_{2}, \\ldots, c_{j}\\right)}~f\\left(c_{1}, c_{2}, \\ldots, c_{j}\\right)\\right] \\in \\mathbb{C}^{n \\times m}\\right)\n"
     ]
    }
   ],
   "source": [
    "# Show the LaTeX representation of the expression for convenience if you need it.\n",
    "print(stored_expr.latex())"
   ]
  },
  {
   "cell_type": "code",
   "execution_count": 5,
   "metadata": {},
   "outputs": [
    {
     "data": {
      "text/html": [
       "<table>\n",
       "<tr><th>name</th><th>description</th><th>default</th><th>current value</th><th>related methods</th></tr><tr><td>wrap_positions</td><td>position(s) at which wrapping is to occur; 'n' is after the nth comma.</td><td>()</td><td>()</td><td>('with_wrapping_at',)</td></tr>\n",
       "<tr><td>justification</td><td>if any wrap positions are set, justify to the 'left', 'center', or 'right'</td><td>left</td><td>left</td><td>('with_justification',)</td></tr>\n",
       "</table>\n"
      ],
      "text/plain": [
       "style name: wrap_positions\n",
       "description: position(s) at which wrapping is to occur; 'n' is after the nth comma.\n",
       "default: ()\n",
       "current value: ()\n",
       "related methods: ('with_wrapping_at',)\n",
       "style name: justification\n",
       "description: if any wrap positions are set, justify to the 'left', 'center', or 'right'\n",
       "default: left\n",
       "current value: left\n",
       "related methods: ('with_justification',)"
      ]
     },
     "metadata": {},
     "output_type": "display_data"
    }
   ],
   "source": [
    "stored_expr.style_options()"
   ]
  },
  {
   "cell_type": "code",
   "execution_count": 6,
   "metadata": {},
   "outputs": [
    {
     "data": {
      "text/html": [
       "<table><tr><th>&nbsp;</th><th>core type</th><th>sub-expressions</th><th>expression</th></tr>\n",
       "<tr><td>0</td><td>ExprTuple</td><td>1, 2</td><td><a class=\"ProveItLink\" href=\"expr.ipynb\"><img src=\"expr.png\" style=\"display:inline;vertical-align:middle;\" /></a></td></tr>\n",
       "<tr><td>1</td><td>Operation</td><td>operator:&nbsp;3<br>operand:&nbsp;6<br></td><td><a class=\"ProveItLink\" href=\"../8750d85e6eddf68bea0a5407a3c5a3b34c24d4690/expr.ipynb\"><img src=\"../8750d85e6eddf68bea0a5407a3c5a3b34c24d4690/expr.png\" style=\"display:inline;vertical-align:middle;\" /></a></td></tr>\n",
       "<tr><td>2</td><td>Operation</td><td>operator:&nbsp;13<br>operands:&nbsp;5<br></td><td><a class=\"ProveItLink\" href=\"../2e2fcdd8506a0878b218b2b44dfca24424eb8f640/expr.ipynb\"><img src=\"../2e2fcdd8506a0878b218b2b44dfca24424eb8f640/expr.png\" style=\"display:inline;vertical-align:middle;\" /></a></td></tr>\n",
       "<tr><td>3</td><td>Literal</td><td></td><td><a class=\"ProveItLink\" href=\"../../../../../../logic/booleans/quantification/universality/__pv_it/common/083d2baa0b8ecab1d230f9ec29a15aa1355809fb0/expr.ipynb\"><img src=\"../../../../../../logic/booleans/quantification/universality/__pv_it/common/083d2baa0b8ecab1d230f9ec29a15aa1355809fb0/expr.png\" style=\"display:inline;vertical-align:middle;\" /></a></td></tr>\n",
       "<tr><td>4</td><td>ExprTuple</td><td>6</td><td><a class=\"ProveItLink\" href=\"../90b4deabedfc69c9979d14273808c29202fe50670/expr.ipynb\"><img src=\"../90b4deabedfc69c9979d14273808c29202fe50670/expr.png\" style=\"display:inline;vertical-align:middle;\" /></a></td></tr>\n",
       "<tr><td>5</td><td>ExprTuple</td><td>7, 16</td><td><a class=\"ProveItLink\" href=\"../6809376beaa38f0fe289a53df85302f5b298c4180/expr.ipynb\"><img src=\"../6809376beaa38f0fe289a53df85302f5b298c4180/expr.png\" style=\"display:inline;vertical-align:middle;\" /></a></td></tr>\n",
       "<tr><td>6</td><td>Lambda</td><td>parameters:&nbsp;23<br>body:&nbsp;8<br></td><td><a class=\"ProveItLink\" href=\"../e6b54567a8aaccfb1dcacb8206ea490a0820aae50/expr.ipynb\"><img src=\"../e6b54567a8aaccfb1dcacb8206ea490a0820aae50/expr.png\" style=\"display:inline;vertical-align:middle;\" /></a></td></tr>\n",
       "<tr><td>7</td><td>Operation</td><td>operator:&nbsp;9<br>operand:&nbsp;12<br></td><td><a class=\"ProveItLink\" href=\"../2f62163894bc7629e14cd689dcd422ad1b6c59d20/expr.ipynb\"><img src=\"../2f62163894bc7629e14cd689dcd422ad1b6c59d20/expr.png\" style=\"display:inline;vertical-align:middle;\" /></a></td></tr>\n",
       "<tr><td>8</td><td>Conditional</td><td>value:&nbsp;11<br>condition:&nbsp;18<br></td><td><a class=\"ProveItLink\" href=\"../0fe7e9da007b0ffd860a8b3a88cb007b070585bd0/expr.ipynb\"><img src=\"../0fe7e9da007b0ffd860a8b3a88cb007b070585bd0/expr.png\" style=\"display:inline;vertical-align:middle;\" /></a></td></tr>\n",
       "<tr><td>9</td><td>Literal</td><td></td><td><a class=\"ProveItLink\" href=\"../../../../../../linear_algebra/addition/__pv_it/common/62f73c830c62efb87627ede5678f282081cd0ce20/expr.ipynb\"><img src=\"../../../../../../linear_algebra/addition/__pv_it/common/62f73c830c62efb87627ede5678f282081cd0ce20/expr.png\" style=\"display:inline;vertical-align:middle;\" /></a></td></tr>\n",
       "<tr><td>10</td><td>ExprTuple</td><td>12</td><td><a class=\"ProveItLink\" href=\"../84d58bfbba2b3d895e77cf3fb137606659fb10fe0/expr.ipynb\"><img src=\"../84d58bfbba2b3d895e77cf3fb137606659fb10fe0/expr.png\" style=\"display:inline;vertical-align:middle;\" /></a></td></tr>\n",
       "<tr><td>11</td><td>Operation</td><td>operator:&nbsp;13<br>operands:&nbsp;14<br></td><td><a class=\"ProveItLink\" href=\"../08e367bd957eca5b9ae42173eaf96ed1340dda4b0/expr.ipynb\"><img src=\"../08e367bd957eca5b9ae42173eaf96ed1340dda4b0/expr.png\" style=\"display:inline;vertical-align:middle;\" /></a></td></tr>\n",
       "<tr><td>12</td><td>Lambda</td><td>parameters:&nbsp;23<br>body:&nbsp;15<br></td><td><a class=\"ProveItLink\" href=\"../3918301dcf3d76ad372a7202bbcba7cb78b888ac0/expr.ipynb\"><img src=\"../3918301dcf3d76ad372a7202bbcba7cb78b888ac0/expr.png\" style=\"display:inline;vertical-align:middle;\" /></a></td></tr>\n",
       "<tr><td>13</td><td>Literal</td><td></td><td><a class=\"ProveItLink\" href=\"../../../../../../logic/sets/membership/__pv_it/common/477487d8796864d23d5810f83761435f25167f690/expr.ipynb\"><img src=\"../../../../../../logic/sets/membership/__pv_it/common/477487d8796864d23d5810f83761435f25167f690/expr.png\" style=\"display:inline;vertical-align:middle;\" /></a></td></tr>\n",
       "<tr><td>14</td><td>ExprTuple</td><td>17, 16</td><td><a class=\"ProveItLink\" href=\"../60d475505e931efc67319cb42a6191d20893cdf60/expr.ipynb\"><img src=\"../60d475505e931efc67319cb42a6191d20893cdf60/expr.png\" style=\"display:inline;vertical-align:middle;\" /></a></td></tr>\n",
       "<tr><td>15</td><td>Conditional</td><td>value:&nbsp;17<br>condition:&nbsp;18<br></td><td><a class=\"ProveItLink\" href=\"../23df98a5b18fb1e839f6304e8454d38cb137c9e80/expr.ipynb\"><img src=\"../23df98a5b18fb1e839f6304e8454d38cb137c9e80/expr.png\" style=\"display:inline;vertical-align:middle;\" /></a></td></tr>\n",
       "<tr><td>16</td><td>Operation</td><td>operator:&nbsp;19<br>operands:&nbsp;20<br></td><td><a class=\"ProveItLink\" href=\"../413faea99f991f793ce24d16c8b9a458a63460c10/expr.ipynb\"><img src=\"../413faea99f991f793ce24d16c8b9a458a63460c10/expr.png\" style=\"display:inline;vertical-align:middle;\" /></a></td></tr>\n",
       "<tr><td>17</td><td>Operation</td><td>operator:&nbsp;21<br>operands:&nbsp;23<br></td><td><a class=\"ProveItLink\" href=\"../52a8d35010573e0666446022d34ac924b68a57af0/expr.ipynb\"><img src=\"../52a8d35010573e0666446022d34ac924b68a57af0/expr.png\" style=\"display:inline;vertical-align:middle;\" /></a></td></tr>\n",
       "<tr><td>18</td><td>Operation</td><td>operator:&nbsp;22<br>operands:&nbsp;23<br></td><td><a class=\"ProveItLink\" href=\"../ba75e0a10e33b28b383c42c2259539aebf0b54450/expr.ipynb\"><img src=\"../ba75e0a10e33b28b383c42c2259539aebf0b54450/expr.png\" style=\"display:inline;vertical-align:middle;\" /></a></td></tr>\n",
       "<tr><td>19</td><td>Literal</td><td></td><td><a class=\"ProveItLink\" href=\"../../../../../../linear_algebra/matrices/__pv_it/common/41bfe9284ff6c5a59c371a3fff56a4201f4483c40/expr.ipynb\"><img src=\"../../../../../../linear_algebra/matrices/__pv_it/common/41bfe9284ff6c5a59c371a3fff56a4201f4483c40/expr.png\" style=\"display:inline;vertical-align:middle;\" /></a></td></tr>\n",
       "<tr><td>20</td><td>NamedExprs</td><td>field: 24<br>rows: 25<br>columns: 26<br></td><td><a class=\"ProveItLink\" href=\"../128ba2141ae762e6f08e07dd70375c370434e3880/expr.ipynb\"><img src=\"../128ba2141ae762e6f08e07dd70375c370434e3880/expr.png\" style=\"display:inline;vertical-align:middle;\" /></a></td></tr>\n",
       "<tr><td>21</td><td>Variable</td><td></td><td><a class=\"ProveItLink\" href=\"../../../../../../__pv_it/common/01b6dbb444a31fc38af4c2379badef6c75b363710/expr.ipynb\"><img src=\"../../../../../../__pv_it/common/01b6dbb444a31fc38af4c2379badef6c75b363710/expr.png\" style=\"display:inline;vertical-align:middle;\" /></a></td></tr>\n",
       "<tr><td>22</td><td>Variable</td><td></td><td><a class=\"ProveItLink\" href=\"../../../../../../__pv_it/common/d72bb8b07403efe79afab564c36a28e21330e5f90/expr.ipynb\"><img src=\"../../../../../../__pv_it/common/d72bb8b07403efe79afab564c36a28e21330e5f90/expr.png\" style=\"display:inline;vertical-align:middle;\" /></a></td></tr>\n",
       "<tr><td>23</td><td>ExprTuple</td><td>27</td><td><a class=\"ProveItLink\" href=\"../6898b0853ec9b868d760fdbef588d55e27cfb03a0/expr.ipynb\"><img src=\"../6898b0853ec9b868d760fdbef588d55e27cfb03a0/expr.png\" style=\"display:inline;vertical-align:middle;\" /></a></td></tr>\n",
       "<tr><td>24</td><td>Literal</td><td></td><td><a class=\"ProveItLink\" href=\"../../../../../../numbers/number_sets/complex_numbers/__pv_it/common/d18a028138f659eda00de597c28a3447fe87eb100/expr.ipynb\"><img src=\"../../../../../../numbers/number_sets/complex_numbers/__pv_it/common/d18a028138f659eda00de597c28a3447fe87eb100/expr.png\" style=\"display:inline;vertical-align:middle;\" /></a></td></tr>\n",
       "<tr><td>25</td><td>Variable</td><td></td><td><a class=\"ProveItLink\" href=\"../../../../../../__pv_it/common/8968bb04eb3f7dfa02353397ce929b025bbd79c20/expr.ipynb\"><img src=\"../../../../../../__pv_it/common/8968bb04eb3f7dfa02353397ce929b025bbd79c20/expr.png\" style=\"display:inline;vertical-align:middle;\" /></a></td></tr>\n",
       "<tr><td>26</td><td>Variable</td><td></td><td><a class=\"ProveItLink\" href=\"../../../../../../__pv_it/common/674a03b9c3ca221b3aabd5636837b31528ff33830/expr.ipynb\"><img src=\"../../../../../../__pv_it/common/674a03b9c3ca221b3aabd5636837b31528ff33830/expr.png\" style=\"display:inline;vertical-align:middle;\" /></a></td></tr>\n",
       "<tr><td>27</td><td>ExprRange</td><td>lambda_map:&nbsp;28<br>start_index:&nbsp;29<br>end_index:&nbsp;30<br></td><td><a class=\"ProveItLink\" href=\"../9d079254d5f7515d9dbed8de0f71263d98516c660/expr.ipynb\"><img src=\"../9d079254d5f7515d9dbed8de0f71263d98516c660/expr.png\" style=\"display:inline;vertical-align:middle;\" /></a></td></tr>\n",
       "<tr><td>28</td><td>Lambda</td><td>parameter:&nbsp;34<br>body:&nbsp;31<br></td><td><a class=\"ProveItLink\" href=\"../a82277bbf8737575ef600f8fc76c549adc3c49d40/expr.ipynb\"><img src=\"../a82277bbf8737575ef600f8fc76c549adc3c49d40/expr.png\" style=\"display:inline;vertical-align:middle;\" /></a></td></tr>\n",
       "<tr><td>29</td><td>Literal</td><td></td><td><a class=\"ProveItLink\" href=\"../../../../../../numbers/numerals/__pv_it/common/682157d4892d216d9e5626ed533aff9b56b9506e0/expr.ipynb\"><img src=\"../../../../../../numbers/numerals/__pv_it/common/682157d4892d216d9e5626ed533aff9b56b9506e0/expr.png\" style=\"display:inline;vertical-align:middle;\" /></a></td></tr>\n",
       "<tr><td>30</td><td>Variable</td><td></td><td><a class=\"ProveItLink\" href=\"../../../../../../__pv_it/common/1ed21df18baca2f42b561a7ffbf30a2743d594650/expr.ipynb\"><img src=\"../../../../../../__pv_it/common/1ed21df18baca2f42b561a7ffbf30a2743d594650/expr.png\" style=\"display:inline;vertical-align:middle;\" /></a></td></tr>\n",
       "<tr><td>31</td><td>IndexedVar</td><td>variable:&nbsp;32<br>index:&nbsp;34<br></td><td><a class=\"ProveItLink\" href=\"../c92deb116d7e810bff8c136e4bfe2e5d9daef1640/expr.ipynb\"><img src=\"../c92deb116d7e810bff8c136e4bfe2e5d9daef1640/expr.png\" style=\"display:inline;vertical-align:middle;\" /></a></td></tr>\n",
       "<tr><td>32</td><td>Variable</td><td></td><td><a class=\"ProveItLink\" href=\"../../../../../../__pv_it/common/ceef4280a2f1cc604b455b54e735507244cc62cd0/expr.ipynb\"><img src=\"../../../../../../__pv_it/common/ceef4280a2f1cc604b455b54e735507244cc62cd0/expr.png\" style=\"display:inline;vertical-align:middle;\" /></a></td></tr>\n",
       "<tr><td>33</td><td>ExprTuple</td><td>34</td><td><a class=\"ProveItLink\" href=\"../../../../../../core_expr_types/__pv_it/common/4b0dd6be36d76552eda6a95d5b4a27f5a5b62f900/expr.ipynb\"><img src=\"../../../../../../core_expr_types/__pv_it/common/4b0dd6be36d76552eda6a95d5b4a27f5a5b62f900/expr.png\" style=\"display:inline;vertical-align:middle;\" /></a></td></tr>\n",
       "<tr><td>34</td><td>Variable</td><td></td><td><a class=\"ProveItLink\" href=\"../../../../../../core_expr_types/__pv_it/common/006c465e50948aa2b52285e2de47974f741255cc0/expr.ipynb\"><img src=\"../../../../../../core_expr_types/__pv_it/common/006c465e50948aa2b52285e2de47974f741255cc0/expr.png\" style=\"display:inline;vertical-align:middle;\" /></a></td></tr>\n",
       "</table>\n"
      ],
      "text/plain": [
       "0. (forall_{c_{1}, c_{2}, ..., c_{j} | Q(c_{1}, c_{2}, ..., c_{j})} (f(c_{1}, c_{2}, ..., c_{j}) in Complex^{n x m}), [Sum_{c_{1}, c_{2}, ..., c_{j} | Q(c_{1}, c_{2}, ..., c_{j})} f(c_{1}, c_{2}, ..., c_{j})] in Complex^{n x m})\n",
       "   core type: ExprTuple\n",
       "   sub-expressions: 1, 2\n",
       "1. forall_{c_{1}, c_{2}, ..., c_{j} | Q(c_{1}, c_{2}, ..., c_{j})} (f(c_{1}, c_{2}, ..., c_{j}) in Complex^{n x m})\n",
       "   core type: Operation\n",
       "   operator: 3\n",
       "   operand: 6\n",
       "2. [Sum_{c_{1}, c_{2}, ..., c_{j} | Q(c_{1}, c_{2}, ..., c_{j})} f(c_{1}, c_{2}, ..., c_{j})] in Complex^{n x m}\n",
       "   core type: Operation\n",
       "   operator: 13\n",
       "   operands: 5\n",
       "3. forall\n",
       "   core type: Literal\n",
       "   sub-expressions: \n",
       "4. ((c_{1}, c_{2}, ..., c_{j}) -> {f(c_{1}, c_{2}, ..., c_{j}) in Complex^{n x m} if Q(c_{1}, c_{2}, ..., c_{j}).)\n",
       "   core type: ExprTuple\n",
       "   sub-expressions: 6\n",
       "5. (Sum_{c_{1}, c_{2}, ..., c_{j} | Q(c_{1}, c_{2}, ..., c_{j})} f(c_{1}, c_{2}, ..., c_{j}), Complex^{n x m})\n",
       "   core type: ExprTuple\n",
       "   sub-expressions: 7, 16\n",
       "6. (c_{1}, c_{2}, ..., c_{j}) -> {f(c_{1}, c_{2}, ..., c_{j}) in Complex^{n x m} if Q(c_{1}, c_{2}, ..., c_{j}).\n",
       "   core type: Lambda\n",
       "   parameters: 23\\n   body: 8\n",
       "7. Sum_{c_{1}, c_{2}, ..., c_{j} | Q(c_{1}, c_{2}, ..., c_{j})} f(c_{1}, c_{2}, ..., c_{j})\n",
       "   core type: Operation\n",
       "   operator: 9\n",
       "   operand: 12\n",
       "8. {f(c_{1}, c_{2}, ..., c_{j}) in Complex^{n x m} if Q(c_{1}, c_{2}, ..., c_{j}).\n",
       "   core type: Conditional\n",
       "   value: 11\n",
       "   condition: 18\n",
       "9. Sum\n",
       "   core type: Literal\n",
       "   sub-expressions: \n",
       "10. ((c_{1}, c_{2}, ..., c_{j}) -> {f(c_{1}, c_{2}, ..., c_{j}) if Q(c_{1}, c_{2}, ..., c_{j}).)\n",
       "    core type: ExprTuple\n",
       "    sub-expressions: 12\n",
       "11. f(c_{1}, c_{2}, ..., c_{j}) in Complex^{n x m}\n",
       "    core type: Operation\n",
       "    operator: 13\n",
       "    operands: 14\n",
       "12. (c_{1}, c_{2}, ..., c_{j}) -> {f(c_{1}, c_{2}, ..., c_{j}) if Q(c_{1}, c_{2}, ..., c_{j}).\n",
       "    core type: Lambda\n",
       "    parameters: 23\\n    body: 15\n",
       "13. in\n",
       "    core type: Literal\n",
       "    sub-expressions: \n",
       "14. (f(c_{1}, c_{2}, ..., c_{j}), Complex^{n x m})\n",
       "    core type: ExprTuple\n",
       "    sub-expressions: 17, 16\n",
       "15. {f(c_{1}, c_{2}, ..., c_{j}) if Q(c_{1}, c_{2}, ..., c_{j}).\n",
       "    core type: Conditional\n",
       "    value: 17\n",
       "    condition: 18\n",
       "16. Complex^{n x m}\n",
       "    core type: Operation\n",
       "    operator: 19\n",
       "    operands: 20\n",
       "17. f(c_{1}, c_{2}, ..., c_{j})\n",
       "    core type: Operation\n",
       "    operator: 21\n",
       "    operands: 23\n",
       "18. Q(c_{1}, c_{2}, ..., c_{j})\n",
       "    core type: Operation\n",
       "    operator: 22\n",
       "    operands: 23\n",
       "19. MSpace\n",
       "    core type: Literal\n",
       "    sub-expressions: \n",
       "20. {field:Complex, rows:n, columns:m}\n",
       "    core type: NamedExprs\n",
       "    field: 24\n",
       "    rows: 25\n",
       "    columns: 26\n",
       "21. f\n",
       "    core type: Variable\n",
       "    sub-expressions: \n",
       "22. Q\n",
       "    core type: Variable\n",
       "    sub-expressions: \n",
       "23. (c_{1}, c_{2}, ..., c_{j})\n",
       "    core type: ExprTuple\n",
       "    sub-expressions: 27\n",
       "24. Complex\n",
       "    core type: Literal\n",
       "    sub-expressions: \n",
       "25. n\n",
       "    core type: Variable\n",
       "    sub-expressions: \n",
       "26. m\n",
       "    core type: Variable\n",
       "    sub-expressions: \n",
       "27. c_{1}, c_{2}, ..., c_{j}\n",
       "    core type: ExprRange\n",
       "    lambda_map: 28\n",
       "    start_index: 29\n",
       "    end_index: 30\n",
       "28. _a -> c_{_a}\n",
       "    core type: Lambda\n",
       "    parameter: 34\n",
       "    body: 31\n",
       "29. 1\n",
       "    core type: Literal\n",
       "    sub-expressions: \n",
       "30. j\n",
       "    core type: Variable\n",
       "    sub-expressions: \n",
       "31. c_{_a}\n",
       "    core type: IndexedVar\n",
       "variable: 32\n",
       "index: 34\n",
       "32. c\n",
       "    core type: Variable\n",
       "    sub-expressions: \n",
       "33. (_a)\n",
       "    core type: ExprTuple\n",
       "    sub-expressions: 34\n",
       "34. _a\n",
       "    core type: Variable\n",
       "    sub-expressions: "
      ]
     },
     "metadata": {},
     "output_type": "display_data"
    }
   ],
   "source": [
    "# display the expression information\n",
    "stored_expr.expr_info()"
   ]
  },
  {
   "cell_type": "code",
   "execution_count": null,
   "metadata": {},
   "outputs": [],
   "source": []
  }
 ],
 "metadata": {
  "kernelspec": {
   "display_name": "Python 3",
   "language": "python",
   "name": "python3"
  }
 },
 "nbformat": 4,
 "nbformat_minor": 0
}