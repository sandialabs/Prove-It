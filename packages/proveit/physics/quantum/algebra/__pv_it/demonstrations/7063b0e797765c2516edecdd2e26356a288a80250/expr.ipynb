{
 "cells": [
  {
   "cell_type": "markdown",
   "metadata": {},
   "source": [
    "Expression of type <a class=\"ProveItLink\" href=\"../../../../../../../../doc/html/api/proveit.ExprTuple.html\">ExprTuple</a>\n",
    "=======================\n",
    "# from the theory of <a class=\"ProveItLink\" href=\"../../../_theory_nbs_/theory.ipynb\">proveit.physics.quantum.algebra</a>"
   ]
  },
  {
   "cell_type": "code",
   "execution_count": 1,
   "metadata": {},
   "outputs": [],
   "source": [
    "import proveit\n",
    "# Automation is not needed when building an expression:\n",
    "proveit.defaults.automation = False # This will speed things up.\n",
    "proveit.defaults.inline_pngs = False # Makes files smaller.\n",
    "%load_expr # Load the stored expression as 'stored_expr'\n",
    "# import Expression classes needed to build the expression\n",
    "from proveit import A, D, ExprTuple, alpha, beta\n",
    "from proveit.linear_algebra import VecAdd\n",
    "from proveit.logic import Equals, InClass\n",
    "from proveit.physics.quantum import Qmult, QmultCodomain, ket_psi, ket_varphi"
   ]
  },
  {
   "cell_type": "code",
   "execution_count": 2,
   "metadata": {},
   "outputs": [
    {
     "data": {
      "text/html": [
       "<strong id=\"expr\">expr:</strong> <a class=\"ProveItLink\" href=\"expr.ipynb\"><img src=\"expr.png\" style=\"display:inline;vertical-align:middle;\" /></a><br>"
      ],
      "text/plain": [
       "<IPython.core.display.HTML object>"
      ]
     },
     "metadata": {},
     "output_type": "display_data"
    }
   ],
   "source": [
    "# build up the expression from sub-expressions\n",
    "sub_expr1 = Qmult(D, ket_varphi)\n",
    "sub_expr2 = Qmult(alpha, A, beta, VecAdd(ket_psi, sub_expr1))\n",
    "expr = ExprTuple(InClass(sub_expr2, QmultCodomain), Equals(sub_expr2, VecAdd(Qmult(alpha, A, beta, ket_psi), Qmult(alpha, A, beta, sub_expr1))).with_wrapping_at(2))"
   ]
  },
  {
   "cell_type": "code",
   "execution_count": 3,
   "metadata": {},
   "outputs": [
    {
     "name": "stdout",
     "output_type": "stream",
     "text": [
      "Passed sanity check: expr matches stored_expr\n"
     ]
    }
   ],
   "source": [
    "# check that the built expression is the same as the stored expression\n",
    "assert expr == stored_expr\n",
    "assert expr._style_id == stored_expr._style_id\n",
    "print(\"Passed sanity check: expr matches stored_expr\")"
   ]
  },
  {
   "cell_type": "code",
   "execution_count": 4,
   "metadata": {},
   "outputs": [
    {
     "name": "stdout",
     "output_type": "stream",
     "text": [
      "\\left(\\left(\\alpha \\thinspace A \\thinspace \\beta \\thinspace \\left(\\lvert \\psi \\rangle + \\left(D \\thinspace \\lvert \\varphi \\rangle\\right)\\right)\\right) \\underset{{\\scriptscriptstyle c}}{\\in} \\mathcal{Q^*}, \\begin{array}{c} \\begin{array}{l} \\left(\\alpha \\thinspace A \\thinspace \\beta \\thinspace \\left(\\lvert \\psi \\rangle + \\left(D \\thinspace \\lvert \\varphi \\rangle\\right)\\right)\\right) =  \\\\ \\left(\\left(\\alpha \\thinspace A \\thinspace \\beta \\thinspace \\lvert \\psi \\rangle\\right) + \\left(\\alpha \\thinspace A \\thinspace \\beta \\thinspace \\left(D \\thinspace \\lvert \\varphi \\rangle\\right)\\right)\\right) \\end{array} \\end{array}\\right)\n"
     ]
    }
   ],
   "source": [
    "# Show the LaTeX representation of the expression for convenience if you need it.\n",
    "print(stored_expr.latex())"
   ]
  },
  {
   "cell_type": "code",
   "execution_count": 5,
   "metadata": {},
   "outputs": [
    {
     "data": {
      "text/html": [
       "<table>\n",
       "<tr><th>name</th><th>description</th><th>default</th><th>current value</th><th>related methods</th></tr><tr><td>wrap_positions</td><td>position(s) at which wrapping is to occur; 'n' is after the nth comma.</td><td>()</td><td>()</td><td>('with_wrapping_at',)</td></tr>\n",
       "<tr><td>justification</td><td>if any wrap positions are set, justify to the 'left', 'center', or 'right'</td><td>left</td><td>left</td><td>('with_justification',)</td></tr>\n",
       "</table>\n"
      ],
      "text/plain": [
       "style name: wrap_positions\n",
       "description: position(s) at which wrapping is to occur; 'n' is after the nth comma.\n",
       "default: ()\n",
       "current value: ()\n",
       "related methods: ('with_wrapping_at',)\n",
       "style name: justification\n",
       "description: if any wrap positions are set, justify to the 'left', 'center', or 'right'\n",
       "default: left\n",
       "current value: left\n",
       "related methods: ('with_justification',)"
      ]
     },
     "metadata": {},
     "output_type": "display_data"
    }
   ],
   "source": [
    "stored_expr.style_options()"
   ]
  },
  {
   "cell_type": "code",
   "execution_count": 6,
   "metadata": {},
   "outputs": [
    {
     "data": {
      "text/html": [
       "<table><tr><th>&nbsp;</th><th>core type</th><th>sub-expressions</th><th>expression</th></tr>\n",
       "<tr><td>0</td><td>ExprTuple</td><td>1, 2</td><td><a class=\"ProveItLink\" href=\"expr.ipynb\"><img src=\"expr.png\" style=\"display:inline;vertical-align:middle;\" /></a></td></tr>\n",
       "<tr><td>1</td><td>Operation</td><td>operator:&nbsp;3<br>operands:&nbsp;4<br></td><td><a class=\"ProveItLink\" href=\"../87029235392ebc4cd15d0596482db90c96d7226e0/expr.ipynb\"><img src=\"../87029235392ebc4cd15d0596482db90c96d7226e0/expr.png\" style=\"display:inline;vertical-align:middle;\" /></a></td></tr>\n",
       "<tr><td>2</td><td>Operation</td><td>operator:&nbsp;5<br>operands:&nbsp;6<br></td><td><a class=\"ProveItLink\" href=\"../14a8a8b1a7d6ba0311d2aeda0715c17290516a370/expr.ipynb\"><img src=\"../14a8a8b1a7d6ba0311d2aeda0715c17290516a370/expr.png\" style=\"display:inline;vertical-align:middle;\" /></a></td></tr>\n",
       "<tr><td>3</td><td>Literal</td><td></td><td><a class=\"ProveItLink\" href=\"../../../../../../logic/classes/membership/__pv_it/common/e3b437d28fbe17f0a50c9789c7c9b47a1270f1420/expr.ipynb\"><img src=\"../../../../../../logic/classes/membership/__pv_it/common/e3b437d28fbe17f0a50c9789c7c9b47a1270f1420/expr.png\" style=\"display:inline;vertical-align:middle;\" /></a></td></tr>\n",
       "<tr><td>4</td><td>ExprTuple</td><td>8, 7</td><td><a class=\"ProveItLink\" href=\"../ba19ec58fae5237b991d61c84031e31de04684360/expr.ipynb\"><img src=\"../ba19ec58fae5237b991d61c84031e31de04684360/expr.png\" style=\"display:inline;vertical-align:middle;\" /></a></td></tr>\n",
       "<tr><td>5</td><td>Literal</td><td></td><td><a class=\"ProveItLink\" href=\"../../../../../../logic/equality/__pv_it/common/fb96dc12b2aa8801dda64d0132b396c63d1502bb0/expr.ipynb\"><img src=\"../../../../../../logic/equality/__pv_it/common/fb96dc12b2aa8801dda64d0132b396c63d1502bb0/expr.png\" style=\"display:inline;vertical-align:middle;\" /></a></td></tr>\n",
       "<tr><td>6</td><td>ExprTuple</td><td>8, 9</td><td><a class=\"ProveItLink\" href=\"../34679590e587d2e5292b83a0b96e5ccd2890a1800/expr.ipynb\"><img src=\"../34679590e587d2e5292b83a0b96e5ccd2890a1800/expr.png\" style=\"display:inline;vertical-align:middle;\" /></a></td></tr>\n",
       "<tr><td>7</td><td>Literal</td><td></td><td><a class=\"ProveItLink\" href=\"../../common/9eb627883d0de35514f5f025d8d6d9a6894424630/expr.ipynb\"><img src=\"../../common/9eb627883d0de35514f5f025d8d6d9a6894424630/expr.png\" style=\"display:inline;vertical-align:middle;\" /></a></td></tr>\n",
       "<tr><td>8</td><td>Operation</td><td>operator:&nbsp;25<br>operands:&nbsp;10<br></td><td><a class=\"ProveItLink\" href=\"../19f2762fb3a49433095cbe8e1577b9c4cbe0f9300/expr.ipynb\"><img src=\"../19f2762fb3a49433095cbe8e1577b9c4cbe0f9300/expr.png\" style=\"display:inline;vertical-align:middle;\" /></a></td></tr>\n",
       "<tr><td>9</td><td>Operation</td><td>operator:&nbsp;15<br>operands:&nbsp;11<br></td><td><a class=\"ProveItLink\" href=\"../c303e20ce22baaf8091df3e70933a08c467d3a160/expr.ipynb\"><img src=\"../c303e20ce22baaf8091df3e70933a08c467d3a160/expr.png\" style=\"display:inline;vertical-align:middle;\" /></a></td></tr>\n",
       "<tr><td>10</td><td>ExprTuple</td><td>20, 21, 22, 12</td><td><a class=\"ProveItLink\" href=\"../0f0151f22667979322197951668c850a043475c90/expr.ipynb\"><img src=\"../0f0151f22667979322197951668c850a043475c90/expr.png\" style=\"display:inline;vertical-align:middle;\" /></a></td></tr>\n",
       "<tr><td>11</td><td>ExprTuple</td><td>13, 14</td><td><a class=\"ProveItLink\" href=\"../ba87d5a6d9ab698a4e3a8b9a293b299d93a295f30/expr.ipynb\"><img src=\"../ba87d5a6d9ab698a4e3a8b9a293b299d93a295f30/expr.png\" style=\"display:inline;vertical-align:middle;\" /></a></td></tr>\n",
       "<tr><td>12</td><td>Operation</td><td>operator:&nbsp;15<br>operands:&nbsp;16<br></td><td><a class=\"ProveItLink\" href=\"../911db7bc7b9ec7333ab2ec3e438c4d5cae1de7930/expr.ipynb\"><img src=\"../911db7bc7b9ec7333ab2ec3e438c4d5cae1de7930/expr.png\" style=\"display:inline;vertical-align:middle;\" /></a></td></tr>\n",
       "<tr><td>13</td><td>Operation</td><td>operator:&nbsp;25<br>operands:&nbsp;17<br></td><td><a class=\"ProveItLink\" href=\"../6ca48de79ea7332a9ee5e4dfa8c23f72832c41dd0/expr.ipynb\"><img src=\"../6ca48de79ea7332a9ee5e4dfa8c23f72832c41dd0/expr.png\" style=\"display:inline;vertical-align:middle;\" /></a></td></tr>\n",
       "<tr><td>14</td><td>Operation</td><td>operator:&nbsp;25<br>operands:&nbsp;18<br></td><td><a class=\"ProveItLink\" href=\"../825d3f08080587cdd7e0ac3bffc2ffb9fb83d6470/expr.ipynb\"><img src=\"../825d3f08080587cdd7e0ac3bffc2ffb9fb83d6470/expr.png\" style=\"display:inline;vertical-align:middle;\" /></a></td></tr>\n",
       "<tr><td>15</td><td>Literal</td><td></td><td><a class=\"ProveItLink\" href=\"../../../../../../linear_algebra/addition/__pv_it/common/ac3c140c9094f065c7f7db15c94558731443639c0/expr.ipynb\"><img src=\"../../../../../../linear_algebra/addition/__pv_it/common/ac3c140c9094f065c7f7db15c94558731443639c0/expr.png\" style=\"display:inline;vertical-align:middle;\" /></a></td></tr>\n",
       "<tr><td>16</td><td>ExprTuple</td><td>19, 23</td><td><a class=\"ProveItLink\" href=\"../ef699d4756e85242dd387b697bd63f193c39abe80/expr.ipynb\"><img src=\"../ef699d4756e85242dd387b697bd63f193c39abe80/expr.png\" style=\"display:inline;vertical-align:middle;\" /></a></td></tr>\n",
       "<tr><td>17</td><td>ExprTuple</td><td>20, 21, 22, 19</td><td><a class=\"ProveItLink\" href=\"../e8d3ea14cca5ac4dd1adb1e0daca79a10015d2720/expr.ipynb\"><img src=\"../e8d3ea14cca5ac4dd1adb1e0daca79a10015d2720/expr.png\" style=\"display:inline;vertical-align:middle;\" /></a></td></tr>\n",
       "<tr><td>18</td><td>ExprTuple</td><td>20, 21, 22, 23</td><td><a class=\"ProveItLink\" href=\"../9b4d1bfd0e2f5ae9965b699842929495266dd2db0/expr.ipynb\"><img src=\"../9b4d1bfd0e2f5ae9965b699842929495266dd2db0/expr.png\" style=\"display:inline;vertical-align:middle;\" /></a></td></tr>\n",
       "<tr><td>19</td><td>Operation</td><td>operator:&nbsp;30<br>operand:&nbsp;27<br></td><td><a class=\"ProveItLink\" href=\"../../../../__pv_it/common/85db9cb8edfd9bae55ae16b1acc577987cc735250/expr.ipynb\"><img src=\"../../../../__pv_it/common/85db9cb8edfd9bae55ae16b1acc577987cc735250/expr.png\" style=\"display:inline;vertical-align:middle;\" /></a></td></tr>\n",
       "<tr><td>20</td><td>Variable</td><td></td><td><a class=\"ProveItLink\" href=\"../../../../../../__pv_it/common/9705ebf23debd1198c43ec3d0c30ebe152d069440/expr.ipynb\"><img src=\"../../../../../../__pv_it/common/9705ebf23debd1198c43ec3d0c30ebe152d069440/expr.png\" style=\"display:inline;vertical-align:middle;\" /></a></td></tr>\n",
       "<tr><td>21</td><td>Variable</td><td></td><td><a class=\"ProveItLink\" href=\"../../../../../../__pv_it/common/09585084922504426caf1db2ff588a23a0932a960/expr.ipynb\"><img src=\"../../../../../../__pv_it/common/09585084922504426caf1db2ff588a23a0932a960/expr.png\" style=\"display:inline;vertical-align:middle;\" /></a></td></tr>\n",
       "<tr><td>22</td><td>Variable</td><td></td><td><a class=\"ProveItLink\" href=\"../../../../../../__pv_it/common/c713a5db2586f854a5051c95110df24af02bd7260/expr.ipynb\"><img src=\"../../../../../../__pv_it/common/c713a5db2586f854a5051c95110df24af02bd7260/expr.png\" style=\"display:inline;vertical-align:middle;\" /></a></td></tr>\n",
       "<tr><td>23</td><td>Operation</td><td>operator:&nbsp;25<br>operands:&nbsp;26<br></td><td><a class=\"ProveItLink\" href=\"../c75c7cd76b9273ba522edf6edc20c9261e21a9e40/expr.ipynb\"><img src=\"../c75c7cd76b9273ba522edf6edc20c9261e21a9e40/expr.png\" style=\"display:inline;vertical-align:middle;\" /></a></td></tr>\n",
       "<tr><td>24</td><td>ExprTuple</td><td>27</td><td><a class=\"ProveItLink\" href=\"../../../../__pv_it/common/4ab26c127597cd6749f1ca81bb942adb957f9daa0/expr.ipynb\"><img src=\"../../../../__pv_it/common/4ab26c127597cd6749f1ca81bb942adb957f9daa0/expr.png\" style=\"display:inline;vertical-align:middle;\" /></a></td></tr>\n",
       "<tr><td>25</td><td>Literal</td><td></td><td><a class=\"ProveItLink\" href=\"../../common/2972e0deb52c96565b39f905d407d7302ae287580/expr.ipynb\"><img src=\"../../common/2972e0deb52c96565b39f905d407d7302ae287580/expr.png\" style=\"display:inline;vertical-align:middle;\" /></a></td></tr>\n",
       "<tr><td>26</td><td>ExprTuple</td><td>28, 29</td><td><a class=\"ProveItLink\" href=\"../0f79b937857dfccd23f6729fe4d4f9d18147c6b10/expr.ipynb\"><img src=\"../0f79b937857dfccd23f6729fe4d4f9d18147c6b10/expr.png\" style=\"display:inline;vertical-align:middle;\" /></a></td></tr>\n",
       "<tr><td>27</td><td>Variable</td><td></td><td><a class=\"ProveItLink\" href=\"../../../../__pv_it/common/0792d8e8646ae7654862bb6a66054cc6abdbdd200/expr.ipynb\"><img src=\"../../../../__pv_it/common/0792d8e8646ae7654862bb6a66054cc6abdbdd200/expr.png\" style=\"display:inline;vertical-align:middle;\" /></a></td></tr>\n",
       "<tr><td>28</td><td>Variable</td><td></td><td><a class=\"ProveItLink\" href=\"../../../../../../__pv_it/common/8d36d28f3636cdaa66f8b7d56eb3bbf0b50f70200/expr.ipynb\"><img src=\"../../../../../../__pv_it/common/8d36d28f3636cdaa66f8b7d56eb3bbf0b50f70200/expr.png\" style=\"display:inline;vertical-align:middle;\" /></a></td></tr>\n",
       "<tr><td>29</td><td>Operation</td><td>operator:&nbsp;30<br>operand:&nbsp;32<br></td><td><a class=\"ProveItLink\" href=\"../../../../__pv_it/common/c9a1043629ff97823c162335c02491b28faa23df0/expr.ipynb\"><img src=\"../../../../__pv_it/common/c9a1043629ff97823c162335c02491b28faa23df0/expr.png\" style=\"display:inline;vertical-align:middle;\" /></a></td></tr>\n",
       "<tr><td>30</td><td>Literal</td><td></td><td><a class=\"ProveItLink\" href=\"../../common/e3872951fe05b26090372918594af92cac779e280/expr.ipynb\"><img src=\"../../common/e3872951fe05b26090372918594af92cac779e280/expr.png\" style=\"display:inline;vertical-align:middle;\" /></a></td></tr>\n",
       "<tr><td>31</td><td>ExprTuple</td><td>32</td><td><a class=\"ProveItLink\" href=\"../../../../__pv_it/common/01a9ba963790206039a68d1305bb5070dd137de10/expr.ipynb\"><img src=\"../../../../__pv_it/common/01a9ba963790206039a68d1305bb5070dd137de10/expr.png\" style=\"display:inline;vertical-align:middle;\" /></a></td></tr>\n",
       "<tr><td>32</td><td>Variable</td><td></td><td><a class=\"ProveItLink\" href=\"../../../../__pv_it/common/eff3454ef41960bf5bb736e8ee0e81bb07107e080/expr.ipynb\"><img src=\"../../../../__pv_it/common/eff3454ef41960bf5bb736e8ee0e81bb07107e080/expr.png\" style=\"display:inline;vertical-align:middle;\" /></a></td></tr>\n",
       "</table>\n"
      ],
      "text/plain": [
       "0. ((alpha . A . beta . (|psi〉 + (D . |varphi〉))) in_c Q*, (alpha . A . beta . (|psi〉 + (D . |varphi〉))) =  \\\\ ((alpha . A . beta . |psi〉) + (alpha . A . beta . (D . |varphi〉))))\n",
       "   core type: ExprTuple\n",
       "   sub-expressions: 1, 2\n",
       "1. (alpha . A . beta . (|psi〉 + (D . |varphi〉))) in_c Q*\n",
       "   core type: Operation\n",
       "   operator: 3\n",
       "   operands: 4\n",
       "2. (alpha . A . beta . (|psi〉 + (D . |varphi〉))) =  \\\\ ((alpha . A . beta . |psi〉) + (alpha . A . beta . (D . |varphi〉)))\n",
       "   core type: Operation\n",
       "   operator: 5\n",
       "   operands: 6\n",
       "3. in_c\n",
       "   core type: Literal\n",
       "   sub-expressions: \n",
       "4. (alpha . A . beta . (|psi〉 + (D . |varphi〉)), Q*)\n",
       "   core type: ExprTuple\n",
       "   sub-expressions: 8, 7\n",
       "5. =\n",
       "   core type: Literal\n",
       "   sub-expressions: \n",
       "6. (alpha . A . beta . (|psi〉 + (D . |varphi〉)), (alpha . A . beta . |psi〉) + (alpha . A . beta . (D . |varphi〉)))\n",
       "   core type: ExprTuple\n",
       "   sub-expressions: 8, 9\n",
       "7. Q*\n",
       "   core type: Literal\n",
       "   sub-expressions: \n",
       "8. alpha . A . beta . (|psi〉 + (D . |varphi〉))\n",
       "   core type: Operation\n",
       "   operator: 25\n",
       "   operands: 10\n",
       "9. (alpha . A . beta . |psi〉) + (alpha . A . beta . (D . |varphi〉))\n",
       "   core type: Operation\n",
       "   operator: 15\n",
       "   operands: 11\n",
       "10. (alpha, A, beta, |psi〉 + (D . |varphi〉))\n",
       "    core type: ExprTuple\n",
       "    sub-expressions: 20, 21, 22, 12\n",
       "11. (alpha . A . beta . |psi〉, alpha . A . beta . (D . |varphi〉))\n",
       "    core type: ExprTuple\n",
       "    sub-expressions: 13, 14\n",
       "12. |psi〉 + (D . |varphi〉)\n",
       "    core type: Operation\n",
       "    operator: 15\n",
       "    operands: 16\n",
       "13. alpha . A . beta . |psi〉\n",
       "    core type: Operation\n",
       "    operator: 25\n",
       "    operands: 17\n",
       "14. alpha . A . beta . (D . |varphi〉)\n",
       "    core type: Operation\n",
       "    operator: 25\n",
       "    operands: 18\n",
       "15. +\n",
       "    core type: Literal\n",
       "    sub-expressions: \n",
       "16. (|psi〉, D . |varphi〉)\n",
       "    core type: ExprTuple\n",
       "    sub-expressions: 19, 23\n",
       "17. (alpha, A, beta, |psi〉)\n",
       "    core type: ExprTuple\n",
       "    sub-expressions: 20, 21, 22, 19\n",
       "18. (alpha, A, beta, D . |varphi〉)\n",
       "    core type: ExprTuple\n",
       "    sub-expressions: 20, 21, 22, 23\n",
       "19. |psi〉\n",
       "    core type: Operation\n",
       "    operator: 30\n",
       "    operand: 27\n",
       "20. alpha\n",
       "    core type: Variable\n",
       "    sub-expressions: \n",
       "21. A\n",
       "    core type: Variable\n",
       "    sub-expressions: \n",
       "22. beta\n",
       "    core type: Variable\n",
       "    sub-expressions: \n",
       "23. D . |varphi〉\n",
       "    core type: Operation\n",
       "    operator: 25\n",
       "    operands: 26\n",
       "24. (psi)\n",
       "    core type: ExprTuple\n",
       "    sub-expressions: 27\n",
       "25. .\n",
       "    core type: Literal\n",
       "    sub-expressions: \n",
       "26. (D, |varphi〉)\n",
       "    core type: ExprTuple\n",
       "    sub-expressions: 28, 29\n",
       "27. psi\n",
       "    core type: Variable\n",
       "    sub-expressions: \n",
       "28. D\n",
       "    core type: Variable\n",
       "    sub-expressions: \n",
       "29. |varphi〉\n",
       "    core type: Operation\n",
       "    operator: 30\n",
       "    operand: 32\n",
       "30. KET\n",
       "    core type: Literal\n",
       "    sub-expressions: \n",
       "31. (varphi)\n",
       "    core type: ExprTuple\n",
       "    sub-expressions: 32\n",
       "32. varphi\n",
       "    core type: Variable\n",
       "    sub-expressions: "
      ]
     },
     "metadata": {},
     "output_type": "display_data"
    }
   ],
   "source": [
    "# display the expression information\n",
    "stored_expr.expr_info()"
   ]
  },
  {
   "cell_type": "code",
   "execution_count": null,
   "metadata": {},
   "outputs": [],
   "source": []
  }
 ],
 "metadata": {
  "kernelspec": {
   "display_name": "Python 3",
   "language": "python",
   "name": "python3"
  }
 },
 "nbformat": 4,
 "nbformat_minor": 0
}