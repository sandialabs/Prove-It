{
 "cells": [
  {
   "cell_type": "markdown",
   "metadata": {},
   "source": [
    "Expression of type <a class=\"ProveItLink\" href=\"../../../../../../../../doc/html/api/proveit.Lambda.html\">Lambda</a>\n",
    "=======================\n",
    "# from the theory of <a class=\"ProveItLink\" href=\"../../../_theory_nbs_/theory.ipynb\">proveit.physics.quantum.algebra</a>"
   ]
  },
  {
   "cell_type": "code",
   "execution_count": 1,
   "metadata": {},
   "outputs": [],
   "source": [
    "import proveit\n",
    "# Automation is not needed when building an expression:\n",
    "proveit.defaults.automation = False # This will speed things up.\n",
    "proveit.defaults.inline_pngs = False # Makes files smaller.\n",
    "%load_expr # Load the stored expression as 'stored_expr'\n",
    "# import Expression classes needed to build the expression\n",
    "from proveit import Conditional, ExprRange, IndexedVar, Lambda, Variable, a, k\n",
    "from proveit.core_expr_types import a_1_to_k\n",
    "from proveit.linear_algebra import TensorProd\n",
    "from proveit.logic import Equals, Forall, InSet\n",
    "from proveit.numbers import BinarySequence, Bit, NaturalPos, one\n",
    "from proveit.physics.quantum import Ket, NumKet"
   ]
  },
  {
   "cell_type": "code",
   "execution_count": 2,
   "metadata": {},
   "outputs": [
    {
     "data": {
      "text/html": [
       "<strong id=\"expr\">expr:</strong> <a class=\"ProveItLink\" href=\"expr.ipynb\"><img src=\"expr.png\" style=\"display:inline;vertical-align:middle;\" /></a><br>"
      ],
      "text/plain": [
       "<IPython.core.display.HTML object>"
      ]
     },
     "metadata": {},
     "output_type": "display_data"
    }
   ],
   "source": [
    "# build up the expression from sub-expressions\n",
    "sub_expr1 = Variable(\"_a\", latex_format = r\"{_{-}a}\")\n",
    "expr = Lambda(k, Conditional(Forall(instance_param_or_params = [a_1_to_k], instance_expr = Equals(NumKet(BinarySequence(a_1_to_k), k), TensorProd(ExprRange(sub_expr1, Ket(IndexedVar(a, sub_expr1)), one, k))), domain = Bit), InSet(k, NaturalPos)))"
   ]
  },
  {
   "cell_type": "code",
   "execution_count": 3,
   "metadata": {},
   "outputs": [
    {
     "name": "stdout",
     "output_type": "stream",
     "text": [
      "Passed sanity check: expr matches stored_expr\n"
     ]
    }
   ],
   "source": [
    "# check that the built expression is the same as the stored expression\n",
    "assert expr == stored_expr\n",
    "assert expr._style_id == stored_expr._style_id\n",
    "print(\"Passed sanity check: expr matches stored_expr\")"
   ]
  },
  {
   "cell_type": "code",
   "execution_count": 4,
   "metadata": {},
   "outputs": [
    {
     "name": "stdout",
     "output_type": "stream",
     "text": [
      "k \\mapsto \\left\\{\\forall_{a_{1}, a_{2}, \\ldots, a_{k} \\in \\mathbb{N}^{\\leq 1}}~\\left(\\lvert \\texttt{\\#}\\texttt{b}(a_{1}, a_{2}, \\ldots, a_{k}) \\rangle_{k} = \\left(\\lvert a_{1} \\rangle {\\otimes}  \\lvert a_{2} \\rangle {\\otimes}  \\ldots {\\otimes}  \\lvert a_{k} \\rangle\\right)\\right) \\textrm{ if } k \\in \\mathbb{N}^+\\right..\n"
     ]
    }
   ],
   "source": [
    "# Show the LaTeX representation of the expression for convenience if you need it.\n",
    "print(stored_expr.latex())"
   ]
  },
  {
   "cell_type": "code",
   "execution_count": 5,
   "metadata": {},
   "outputs": [
    {
     "data": {
      "text/html": [
       "no style options"
      ],
      "text/plain": [
       "no style options"
      ]
     },
     "metadata": {},
     "output_type": "display_data"
    }
   ],
   "source": [
    "stored_expr.style_options()"
   ]
  },
  {
   "cell_type": "code",
   "execution_count": 6,
   "metadata": {},
   "outputs": [
    {
     "data": {
      "text/html": [
       "<table><tr><th>&nbsp;</th><th>core type</th><th>sub-expressions</th><th>expression</th></tr>\n",
       "<tr><td>0</td><td>Lambda</td><td>parameter:&nbsp;38<br>body:&nbsp;2<br></td><td><a class=\"ProveItLink\" href=\"expr.ipynb\"><img src=\"expr.png\" style=\"display:inline;vertical-align:middle;\" /></a></td></tr>\n",
       "<tr><td>1</td><td>ExprTuple</td><td>38</td><td><a class=\"ProveItLink\" href=\"../36569ebfbef1eee76da90134ba3a4620a4cb94130/expr.ipynb\"><img src=\"../36569ebfbef1eee76da90134ba3a4620a4cb94130/expr.png\" style=\"display:inline;vertical-align:middle;\" /></a></td></tr>\n",
       "<tr><td>2</td><td>Conditional</td><td>value:&nbsp;3<br>condition:&nbsp;4<br></td><td><a class=\"ProveItLink\" href=\"../45ad147fa215d986c986c58d84bcee66564fcfe40/expr.ipynb\"><img src=\"../45ad147fa215d986c986c58d84bcee66564fcfe40/expr.png\" style=\"display:inline;vertical-align:middle;\" /></a></td></tr>\n",
       "<tr><td>3</td><td>Operation</td><td>operator:&nbsp;5<br>operand:&nbsp;8<br></td><td><a class=\"ProveItLink\" href=\"../cecd89acb195c0a55017a854b073bd3dfa6040bd0/expr.ipynb\"><img src=\"../cecd89acb195c0a55017a854b073bd3dfa6040bd0/expr.png\" style=\"display:inline;vertical-align:middle;\" /></a></td></tr>\n",
       "<tr><td>4</td><td>Operation</td><td>operator:&nbsp;31<br>operands:&nbsp;7<br></td><td><a class=\"ProveItLink\" href=\"../cb2c00423acaa7f56a88065940b327123396a5900/expr.ipynb\"><img src=\"../cb2c00423acaa7f56a88065940b327123396a5900/expr.png\" style=\"display:inline;vertical-align:middle;\" /></a></td></tr>\n",
       "<tr><td>5</td><td>Literal</td><td></td><td><a class=\"ProveItLink\" href=\"../../../../../../logic/booleans/quantification/universality/__pv_it/common/083d2baa0b8ecab1d230f9ec29a15aa1355809fb0/expr.ipynb\"><img src=\"../../../../../../logic/booleans/quantification/universality/__pv_it/common/083d2baa0b8ecab1d230f9ec29a15aa1355809fb0/expr.png\" style=\"display:inline;vertical-align:middle;\" /></a></td></tr>\n",
       "<tr><td>6</td><td>ExprTuple</td><td>8</td><td><a class=\"ProveItLink\" href=\"../f68d75e2c227fc837f2e64a82ae9d71c256f96e30/expr.ipynb\"><img src=\"../f68d75e2c227fc837f2e64a82ae9d71c256f96e30/expr.png\" style=\"display:inline;vertical-align:middle;\" /></a></td></tr>\n",
       "<tr><td>7</td><td>ExprTuple</td><td>38, 9</td><td><a class=\"ProveItLink\" href=\"../f180f8b426d5ece5d1a14a614fa8a345cbdb2fe90/expr.ipynb\"><img src=\"../f180f8b426d5ece5d1a14a614fa8a345cbdb2fe90/expr.png\" style=\"display:inline;vertical-align:middle;\" /></a></td></tr>\n",
       "<tr><td>8</td><td>Lambda</td><td>parameters:&nbsp;29<br>body:&nbsp;10<br></td><td><a class=\"ProveItLink\" href=\"../28d4e6e7891fe4c2df3dc0ffe64f8644322c2b280/expr.ipynb\"><img src=\"../28d4e6e7891fe4c2df3dc0ffe64f8644322c2b280/expr.png\" style=\"display:inline;vertical-align:middle;\" /></a></td></tr>\n",
       "<tr><td>9</td><td>Literal</td><td></td><td><a class=\"ProveItLink\" href=\"../../../../../../numbers/number_sets/natural_numbers/__pv_it/common/6111329435c43892c831c4793de96afbf80bdb3e0/expr.ipynb\"><img src=\"../../../../../../numbers/number_sets/natural_numbers/__pv_it/common/6111329435c43892c831c4793de96afbf80bdb3e0/expr.png\" style=\"display:inline;vertical-align:middle;\" /></a></td></tr>\n",
       "<tr><td>10</td><td>Conditional</td><td>value:&nbsp;11<br>condition:&nbsp;12<br></td><td><a class=\"ProveItLink\" href=\"../7bff12dbba53a38c98ccbce54210f869ef02d8c40/expr.ipynb\"><img src=\"../7bff12dbba53a38c98ccbce54210f869ef02d8c40/expr.png\" style=\"display:inline;vertical-align:middle;\" /></a></td></tr>\n",
       "<tr><td>11</td><td>Operation</td><td>operator:&nbsp;13<br>operands:&nbsp;14<br></td><td><a class=\"ProveItLink\" href=\"../f43f4cd9765eba0d25a0409db00cc987410f948d0/expr.ipynb\"><img src=\"../f43f4cd9765eba0d25a0409db00cc987410f948d0/expr.png\" style=\"display:inline;vertical-align:middle;\" /></a></td></tr>\n",
       "<tr><td>12</td><td>Operation</td><td>operator:&nbsp;15<br>operands:&nbsp;16<br></td><td><a class=\"ProveItLink\" href=\"../9987e354498151fa8c3905222a5ec0ca1e1666200/expr.ipynb\"><img src=\"../9987e354498151fa8c3905222a5ec0ca1e1666200/expr.png\" style=\"display:inline;vertical-align:middle;\" /></a></td></tr>\n",
       "<tr><td>13</td><td>Literal</td><td></td><td><a class=\"ProveItLink\" href=\"../../../../../../logic/equality/__pv_it/common/fb96dc12b2aa8801dda64d0132b396c63d1502bb0/expr.ipynb\"><img src=\"../../../../../../logic/equality/__pv_it/common/fb96dc12b2aa8801dda64d0132b396c63d1502bb0/expr.png\" style=\"display:inline;vertical-align:middle;\" /></a></td></tr>\n",
       "<tr><td>14</td><td>ExprTuple</td><td>17, 18</td><td><a class=\"ProveItLink\" href=\"../dd0357af321f8c4006445f323086275fcf5c808b0/expr.ipynb\"><img src=\"../dd0357af321f8c4006445f323086275fcf5c808b0/expr.png\" style=\"display:inline;vertical-align:middle;\" /></a></td></tr>\n",
       "<tr><td>15</td><td>Literal</td><td></td><td><a class=\"ProveItLink\" href=\"../../../../../../logic/booleans/conjunction/__pv_it/common/42118ff318bd65d98b1393f64ce7c2269feef76e0/expr.ipynb\"><img src=\"../../../../../../logic/booleans/conjunction/__pv_it/common/42118ff318bd65d98b1393f64ce7c2269feef76e0/expr.png\" style=\"display:inline;vertical-align:middle;\" /></a></td></tr>\n",
       "<tr><td>16</td><td>ExprTuple</td><td>19</td><td><a class=\"ProveItLink\" href=\"../0f5373f7a6ecb233b46bf9eb42673fcae04ae00d0/expr.ipynb\"><img src=\"../0f5373f7a6ecb233b46bf9eb42673fcae04ae00d0/expr.png\" style=\"display:inline;vertical-align:middle;\" /></a></td></tr>\n",
       "<tr><td>17</td><td>Operation</td><td>operator:&nbsp;20<br>operands:&nbsp;21<br></td><td><a class=\"ProveItLink\" href=\"../d705525df68130a529a97b27ef3ca4f95649f59c0/expr.ipynb\"><img src=\"../d705525df68130a529a97b27ef3ca4f95649f59c0/expr.png\" style=\"display:inline;vertical-align:middle;\" /></a></td></tr>\n",
       "<tr><td>18</td><td>Operation</td><td>operator:&nbsp;22<br>operands:&nbsp;23<br></td><td><a class=\"ProveItLink\" href=\"../46698bca56b60e7cad5fcc19a1ec4291c4858a830/expr.ipynb\"><img src=\"../46698bca56b60e7cad5fcc19a1ec4291c4858a830/expr.png\" style=\"display:inline;vertical-align:middle;\" /></a></td></tr>\n",
       "<tr><td>19</td><td>ExprRange</td><td>lambda_map:&nbsp;24<br>start_index:&nbsp;37<br>end_index:&nbsp;38<br></td><td><a class=\"ProveItLink\" href=\"../34125cd1f3ea1abf481072593def9617092715ae0/expr.ipynb\"><img src=\"../34125cd1f3ea1abf481072593def9617092715ae0/expr.png\" style=\"display:inline;vertical-align:middle;\" /></a></td></tr>\n",
       "<tr><td>20</td><td>Literal</td><td></td><td><a class=\"ProveItLink\" href=\"../../common/8fae26fc802d6e77100c911db42f2d3784cdc7330/expr.ipynb\"><img src=\"../../common/8fae26fc802d6e77100c911db42f2d3784cdc7330/expr.png\" style=\"display:inline;vertical-align:middle;\" /></a></td></tr>\n",
       "<tr><td>21</td><td>ExprTuple</td><td>25, 38</td><td><a class=\"ProveItLink\" href=\"../56cd61c662b1dd418e16d24681ed2b813c1ebb880/expr.ipynb\"><img src=\"../56cd61c662b1dd418e16d24681ed2b813c1ebb880/expr.png\" style=\"display:inline;vertical-align:middle;\" /></a></td></tr>\n",
       "<tr><td>22</td><td>Literal</td><td></td><td><a class=\"ProveItLink\" href=\"../../../../../../linear_algebra/tensors/__pv_it/common/7fa25b05174babb4710be62d63ebd43f68aa2fec0/expr.ipynb\"><img src=\"../../../../../../linear_algebra/tensors/__pv_it/common/7fa25b05174babb4710be62d63ebd43f68aa2fec0/expr.png\" style=\"display:inline;vertical-align:middle;\" /></a></td></tr>\n",
       "<tr><td>23</td><td>ExprTuple</td><td>26</td><td><a class=\"ProveItLink\" href=\"../ff63eabc11e79a5249a8a3d4fe000675025d303b0/expr.ipynb\"><img src=\"../ff63eabc11e79a5249a8a3d4fe000675025d303b0/expr.png\" style=\"display:inline;vertical-align:middle;\" /></a></td></tr>\n",
       "<tr><td>24</td><td>Lambda</td><td>parameter:&nbsp;44<br>body:&nbsp;27<br></td><td><a class=\"ProveItLink\" href=\"../5e01b82b1f6258edd4decf6bf0f7387854a47d240/expr.ipynb\"><img src=\"../5e01b82b1f6258edd4decf6bf0f7387854a47d240/expr.png\" style=\"display:inline;vertical-align:middle;\" /></a></td></tr>\n",
       "<tr><td>25</td><td>Operation</td><td>operator:&nbsp;28<br>operands:&nbsp;29<br></td><td><a class=\"ProveItLink\" href=\"../78742dd0a07e49b102380b7262f335865f75d0b10/expr.ipynb\"><img src=\"../78742dd0a07e49b102380b7262f335865f75d0b10/expr.png\" style=\"display:inline;vertical-align:middle;\" /></a></td></tr>\n",
       "<tr><td>26</td><td>ExprRange</td><td>lambda_map:&nbsp;30<br>start_index:&nbsp;37<br>end_index:&nbsp;38<br></td><td><a class=\"ProveItLink\" href=\"../7836d5bf3280a22323798086d8231ffd4f38f7360/expr.ipynb\"><img src=\"../7836d5bf3280a22323798086d8231ffd4f38f7360/expr.png\" style=\"display:inline;vertical-align:middle;\" /></a></td></tr>\n",
       "<tr><td>27</td><td>Operation</td><td>operator:&nbsp;31<br>operands:&nbsp;32<br></td><td><a class=\"ProveItLink\" href=\"../1a6141c676f6544fbc4261b700aa45a970d539f00/expr.ipynb\"><img src=\"../1a6141c676f6544fbc4261b700aa45a970d539f00/expr.png\" style=\"display:inline;vertical-align:middle;\" /></a></td></tr>\n",
       "<tr><td>28</td><td>Literal</td><td></td><td><a class=\"ProveItLink\" href=\"../../../../../../numbers/numerals/binaries/__pv_it/common/f43779108193bc8d9e49b83d52a93107c767ebc60/expr.ipynb\"><img src=\"../../../../../../numbers/numerals/binaries/__pv_it/common/f43779108193bc8d9e49b83d52a93107c767ebc60/expr.png\" style=\"display:inline;vertical-align:middle;\" /></a></td></tr>\n",
       "<tr><td>29</td><td>ExprTuple</td><td>33</td><td><a class=\"ProveItLink\" href=\"../4ae6878e3d788b06e76e5a72dbd85f3fee9931a00/expr.ipynb\"><img src=\"../4ae6878e3d788b06e76e5a72dbd85f3fee9931a00/expr.png\" style=\"display:inline;vertical-align:middle;\" /></a></td></tr>\n",
       "<tr><td>30</td><td>Lambda</td><td>parameter:&nbsp;44<br>body:&nbsp;34<br></td><td><a class=\"ProveItLink\" href=\"../1b0084cce6eb1ee9a256bb4b3fbe79689bd23e540/expr.ipynb\"><img src=\"../1b0084cce6eb1ee9a256bb4b3fbe79689bd23e540/expr.png\" style=\"display:inline;vertical-align:middle;\" /></a></td></tr>\n",
       "<tr><td>31</td><td>Literal</td><td></td><td><a class=\"ProveItLink\" href=\"../../../../../../logic/sets/membership/__pv_it/common/477487d8796864d23d5810f83761435f25167f690/expr.ipynb\"><img src=\"../../../../../../logic/sets/membership/__pv_it/common/477487d8796864d23d5810f83761435f25167f690/expr.png\" style=\"display:inline;vertical-align:middle;\" /></a></td></tr>\n",
       "<tr><td>32</td><td>ExprTuple</td><td>41, 35</td><td><a class=\"ProveItLink\" href=\"../c8f341b121433ec5f7d1e48d5d7781e70268ad660/expr.ipynb\"><img src=\"../c8f341b121433ec5f7d1e48d5d7781e70268ad660/expr.png\" style=\"display:inline;vertical-align:middle;\" /></a></td></tr>\n",
       "<tr><td>33</td><td>ExprRange</td><td>lambda_map:&nbsp;36<br>start_index:&nbsp;37<br>end_index:&nbsp;38<br></td><td><a class=\"ProveItLink\" href=\"../../../../../../core_expr_types/__pv_it/common/8800be272717bf52f3296a76bd9290449bbccb6f0/expr.ipynb\"><img src=\"../../../../../../core_expr_types/__pv_it/common/8800be272717bf52f3296a76bd9290449bbccb6f0/expr.png\" style=\"display:inline;vertical-align:middle;\" /></a></td></tr>\n",
       "<tr><td>34</td><td>Operation</td><td>operator:&nbsp;39<br>operand:&nbsp;41<br></td><td><a class=\"ProveItLink\" href=\"../a20e2a198e8f8b1409017823a30b202b99b075510/expr.ipynb\"><img src=\"../a20e2a198e8f8b1409017823a30b202b99b075510/expr.png\" style=\"display:inline;vertical-align:middle;\" /></a></td></tr>\n",
       "<tr><td>35</td><td>Literal</td><td></td><td><a class=\"ProveItLink\" href=\"../../../../../../numbers/numerals/binaries/__pv_it/common/47788047b6d5cd15f0c4150802ba9623a34ef7d30/expr.ipynb\"><img src=\"../../../../../../numbers/numerals/binaries/__pv_it/common/47788047b6d5cd15f0c4150802ba9623a34ef7d30/expr.png\" style=\"display:inline;vertical-align:middle;\" /></a></td></tr>\n",
       "<tr><td>36</td><td>Lambda</td><td>parameter:&nbsp;44<br>body:&nbsp;41<br></td><td><a class=\"ProveItLink\" href=\"../../../../../../core_expr_types/__pv_it/common/1527ad383e12f9c6ed6b371c9a7dd1892d80da1b0/expr.ipynb\"><img src=\"../../../../../../core_expr_types/__pv_it/common/1527ad383e12f9c6ed6b371c9a7dd1892d80da1b0/expr.png\" style=\"display:inline;vertical-align:middle;\" /></a></td></tr>\n",
       "<tr><td>37</td><td>Literal</td><td></td><td><a class=\"ProveItLink\" href=\"../../../../../../numbers/numerals/__pv_it/common/682157d4892d216d9e5626ed533aff9b56b9506e0/expr.ipynb\"><img src=\"../../../../../../numbers/numerals/__pv_it/common/682157d4892d216d9e5626ed533aff9b56b9506e0/expr.png\" style=\"display:inline;vertical-align:middle;\" /></a></td></tr>\n",
       "<tr><td>38</td><td>Variable</td><td></td><td><a class=\"ProveItLink\" href=\"../../../../../../__pv_it/common/63b7c64bf9ec7a04ecc396c7a1670f3f12fb59490/expr.ipynb\"><img src=\"../../../../../../__pv_it/common/63b7c64bf9ec7a04ecc396c7a1670f3f12fb59490/expr.png\" style=\"display:inline;vertical-align:middle;\" /></a></td></tr>\n",
       "<tr><td>39</td><td>Literal</td><td></td><td><a class=\"ProveItLink\" href=\"../../common/e3872951fe05b26090372918594af92cac779e280/expr.ipynb\"><img src=\"../../common/e3872951fe05b26090372918594af92cac779e280/expr.png\" style=\"display:inline;vertical-align:middle;\" /></a></td></tr>\n",
       "<tr><td>40</td><td>ExprTuple</td><td>41</td><td><a class=\"ProveItLink\" href=\"../a3eb177b041ff24c34663b2470f576ebeb9c87390/expr.ipynb\"><img src=\"../a3eb177b041ff24c34663b2470f576ebeb9c87390/expr.png\" style=\"display:inline;vertical-align:middle;\" /></a></td></tr>\n",
       "<tr><td>41</td><td>IndexedVar</td><td>variable:&nbsp;42<br>index:&nbsp;44<br></td><td><a class=\"ProveItLink\" href=\"../../../../../../core_expr_types/__pv_it/common/3a62c13e156d62d52fe585fa37cc2172fcf685260/expr.ipynb\"><img src=\"../../../../../../core_expr_types/__pv_it/common/3a62c13e156d62d52fe585fa37cc2172fcf685260/expr.png\" style=\"display:inline;vertical-align:middle;\" /></a></td></tr>\n",
       "<tr><td>42</td><td>Variable</td><td></td><td><a class=\"ProveItLink\" href=\"../../../../../../__pv_it/common/c06c606ec12678c58933ac85412ecadc2ae28be60/expr.ipynb\"><img src=\"../../../../../../__pv_it/common/c06c606ec12678c58933ac85412ecadc2ae28be60/expr.png\" style=\"display:inline;vertical-align:middle;\" /></a></td></tr>\n",
       "<tr><td>43</td><td>ExprTuple</td><td>44</td><td><a class=\"ProveItLink\" href=\"../../../../../../core_expr_types/__pv_it/common/4b0dd6be36d76552eda6a95d5b4a27f5a5b62f900/expr.ipynb\"><img src=\"../../../../../../core_expr_types/__pv_it/common/4b0dd6be36d76552eda6a95d5b4a27f5a5b62f900/expr.png\" style=\"display:inline;vertical-align:middle;\" /></a></td></tr>\n",
       "<tr><td>44</td><td>Variable</td><td></td><td><a class=\"ProveItLink\" href=\"../../../../../../core_expr_types/__pv_it/common/006c465e50948aa2b52285e2de47974f741255cc0/expr.ipynb\"><img src=\"../../../../../../core_expr_types/__pv_it/common/006c465e50948aa2b52285e2de47974f741255cc0/expr.png\" style=\"display:inline;vertical-align:middle;\" /></a></td></tr>\n",
       "</table>\n"
      ],
      "text/plain": [
       "0. k -> {forall_{a_{1}, a_{2}, ..., a_{k} in Bits} (|#b(a_{1}, a_{2}, ..., a_{k})〉_{k} = (|a_{1}〉 otimes  |a_{2}〉 otimes  ... otimes  |a_{k}〉)) if k in NaturalPos.\n",
       "   core type: Lambda\n",
       "   parameter: 38\n",
       "   body: 2\n",
       "1. (k)\n",
       "   core type: ExprTuple\n",
       "   sub-expressions: 38\n",
       "2. {forall_{a_{1}, a_{2}, ..., a_{k} in Bits} (|#b(a_{1}, a_{2}, ..., a_{k})〉_{k} = (|a_{1}〉 otimes  |a_{2}〉 otimes  ... otimes  |a_{k}〉)) if k in NaturalPos.\n",
       "   core type: Conditional\n",
       "   value: 3\n",
       "   condition: 4\n",
       "3. forall_{a_{1}, a_{2}, ..., a_{k} in Bits} (|#b(a_{1}, a_{2}, ..., a_{k})〉_{k} = (|a_{1}〉 otimes  |a_{2}〉 otimes  ... otimes  |a_{k}〉))\n",
       "   core type: Operation\n",
       "   operator: 5\n",
       "   operand: 8\n",
       "4. k in NaturalPos\n",
       "   core type: Operation\n",
       "   operator: 31\n",
       "   operands: 7\n",
       "5. forall\n",
       "   core type: Literal\n",
       "   sub-expressions: \n",
       "6. ((a_{1}, a_{2}, ..., a_{k}) -> {|#b(a_{1}, a_{2}, ..., a_{k})〉_{k} = (|a_{1}〉 otimes  |a_{2}〉 otimes  ... otimes  |a_{k}〉) if (a_{1} in Bits) and  (a_{2} in Bits) and  ... and  (a_{k} in Bits).)\n",
       "   core type: ExprTuple\n",
       "   sub-expressions: 8\n",
       "7. (k, NaturalPos)\n",
       "   core type: ExprTuple\n",
       "   sub-expressions: 38, 9\n",
       "8. (a_{1}, a_{2}, ..., a_{k}) -> {|#b(a_{1}, a_{2}, ..., a_{k})〉_{k} = (|a_{1}〉 otimes  |a_{2}〉 otimes  ... otimes  |a_{k}〉) if (a_{1} in Bits) and  (a_{2} in Bits) and  ... and  (a_{k} in Bits).\n",
       "   core type: Lambda\n",
       "   parameters: 29\\n   body: 10\n",
       "9. NaturalPos\n",
       "   core type: Literal\n",
       "   sub-expressions: \n",
       "10. {|#b(a_{1}, a_{2}, ..., a_{k})〉_{k} = (|a_{1}〉 otimes  |a_{2}〉 otimes  ... otimes  |a_{k}〉) if (a_{1} in Bits) and  (a_{2} in Bits) and  ... and  (a_{k} in Bits).\n",
       "    core type: Conditional\n",
       "    value: 11\n",
       "    condition: 12\n",
       "11. |#b(a_{1}, a_{2}, ..., a_{k})〉_{k} = (|a_{1}〉 otimes  |a_{2}〉 otimes  ... otimes  |a_{k}〉)\n",
       "    core type: Operation\n",
       "    operator: 13\n",
       "    operands: 14\n",
       "12. (a_{1} in Bits) and  (a_{2} in Bits) and  ... and  (a_{k} in Bits)\n",
       "    core type: Operation\n",
       "    operator: 15\n",
       "    operands: 16\n",
       "13. =\n",
       "    core type: Literal\n",
       "    sub-expressions: \n",
       "14. (|#b(a_{1}, a_{2}, ..., a_{k})〉_{k}, |a_{1}〉 otimes  |a_{2}〉 otimes  ... otimes  |a_{k}〉)\n",
       "    core type: ExprTuple\n",
       "    sub-expressions: 17, 18\n",
       "15. and\n",
       "    core type: Literal\n",
       "    sub-expressions: \n",
       "16. ((a_{1} in Bits), (a_{2} in Bits), ..., (a_{k} in Bits))\n",
       "    core type: ExprTuple\n",
       "    sub-expressions: 19\n",
       "17. |#b(a_{1}, a_{2}, ..., a_{k})〉_{k}\n",
       "    core type: Operation\n",
       "    operator: 20\n",
       "    operands: 21\n",
       "18. |a_{1}〉 otimes  |a_{2}〉 otimes  ... otimes  |a_{k}〉\n",
       "    core type: Operation\n",
       "    operator: 22\n",
       "    operands: 23\n",
       "19. (a_{1} in Bits), (a_{2} in Bits), ..., (a_{k} in Bits)\n",
       "    core type: ExprRange\n",
       "    lambda_map: 24\n",
       "    start_index: 37\n",
       "    end_index: 38\n",
       "20. NUM_KET\n",
       "    core type: Literal\n",
       "    sub-expressions: \n",
       "21. (#b(a_{1}, a_{2}, ..., a_{k}), k)\n",
       "    core type: ExprTuple\n",
       "    sub-expressions: 25, 38\n",
       "22. otimes\n",
       "    core type: Literal\n",
       "    sub-expressions: \n",
       "23. (|a_{1}〉, |a_{2}〉, ..., |a_{k}〉)\n",
       "    core type: ExprTuple\n",
       "    sub-expressions: 26\n",
       "24. _a -> (a_{_a} in Bits)\n",
       "    core type: Lambda\n",
       "    parameter: 44\n",
       "    body: 27\n",
       "25. #b(a_{1}, a_{2}, ..., a_{k})\n",
       "    core type: Operation\n",
       "    operator: 28\n",
       "    operands: 29\n",
       "26. |a_{1}〉, |a_{2}〉, ..., |a_{k}〉\n",
       "    core type: ExprRange\n",
       "    lambda_map: 30\n",
       "    start_index: 37\n",
       "    end_index: 38\n",
       "27. a_{_a} in Bits\n",
       "    core type: Operation\n",
       "    operator: 31\n",
       "    operands: 32\n",
       "28. Binary\n",
       "    core type: Literal\n",
       "    sub-expressions: \n",
       "29. (a_{1}, a_{2}, ..., a_{k})\n",
       "    core type: ExprTuple\n",
       "    sub-expressions: 33\n",
       "30. _a -> |a_{_a}〉\n",
       "    core type: Lambda\n",
       "    parameter: 44\n",
       "    body: 34\n",
       "31. in\n",
       "    core type: Literal\n",
       "    sub-expressions: \n",
       "32. (a_{_a}, Bits)\n",
       "    core type: ExprTuple\n",
       "    sub-expressions: 41, 35\n",
       "33. a_{1}, a_{2}, ..., a_{k}\n",
       "    core type: ExprRange\n",
       "    lambda_map: 36\n",
       "    start_index: 37\n",
       "    end_index: 38\n",
       "34. |a_{_a}〉\n",
       "    core type: Operation\n",
       "    operator: 39\n",
       "    operand: 41\n",
       "35. Bits\n",
       "    core type: Literal\n",
       "    sub-expressions: \n",
       "36. _a -> a_{_a}\n",
       "    core type: Lambda\n",
       "    parameter: 44\n",
       "    body: 41\n",
       "37. 1\n",
       "    core type: Literal\n",
       "    sub-expressions: \n",
       "38. k\n",
       "    core type: Variable\n",
       "    sub-expressions: \n",
       "39. KET\n",
       "    core type: Literal\n",
       "    sub-expressions: \n",
       "40. (a_{_a})\n",
       "    core type: ExprTuple\n",
       "    sub-expressions: 41\n",
       "41. a_{_a}\n",
       "    core type: IndexedVar\n",
       "variable: 42\n",
       "index: 44\n",
       "42. a\n",
       "    core type: Variable\n",
       "    sub-expressions: \n",
       "43. (_a)\n",
       "    core type: ExprTuple\n",
       "    sub-expressions: 44\n",
       "44. _a\n",
       "    core type: Variable\n",
       "    sub-expressions: "
      ]
     },
     "metadata": {},
     "output_type": "display_data"
    }
   ],
   "source": [
    "# display the expression information\n",
    "stored_expr.expr_info()"
   ]
  },
  {
   "cell_type": "code",
   "execution_count": null,
   "metadata": {},
   "outputs": [],
   "source": []
  }
 ],
 "metadata": {
  "kernelspec": {
   "display_name": "Python 3",
   "language": "python",
   "name": "python3"
  }
 },
 "nbformat": 4,
 "nbformat_minor": 0
}