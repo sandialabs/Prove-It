{
 "cells": [
  {
   "cell_type": "markdown",
   "metadata": {},
   "source": [
    "Expression of type <a class=\"ProveItLink\" href=\"../../../../../../../../doc/html/api/proveit.ExprTuple.html\">ExprTuple</a>\n",
    "=======================\n",
    "# from the theory of <a class=\"ProveItLink\" href=\"../../../_theory_nbs_/theory.ipynb\">proveit.physics.quantum.algebra</a>"
   ]
  },
  {
   "cell_type": "code",
   "execution_count": 1,
   "metadata": {},
   "outputs": [],
   "source": [
    "import proveit\n",
    "# Automation is not needed when building an expression:\n",
    "proveit.defaults.automation = False # This will speed things up.\n",
    "proveit.defaults.inline_pngs = False # Makes files smaller.\n",
    "%load_expr # Load the stored expression as 'stored_expr'\n",
    "# import Expression classes needed to build the expression\n",
    "from proveit import Conditional, ExprTuple, Lambda\n",
    "from proveit.linear_algebra import Hspace, ScalarMult\n",
    "from proveit.logic import Equals, InSet\n",
    "from proveit.physics.quantum import Qmult, bra_varphi, ket_varphi, var_ket_psi, var_ket_v, varphi"
   ]
  },
  {
   "cell_type": "code",
   "execution_count": 2,
   "metadata": {},
   "outputs": [
    {
     "data": {
      "text/html": [
       "<strong id=\"expr\">expr:</strong> <a class=\"ProveItLink\" href=\"expr.ipynb\"><img src=\"expr.png\" style=\"display:inline;vertical-align:middle;\" /></a><br>"
      ],
      "text/plain": [
       "<IPython.core.display.HTML object>"
      ]
     },
     "metadata": {},
     "output_type": "display_data"
    }
   ],
   "source": [
    "# build up the expression from sub-expressions\n",
    "expr = ExprTuple(Lambda(varphi, Conditional(Equals(Qmult(var_ket_psi, bra_varphi), Lambda(var_ket_v, Conditional(ScalarMult(Qmult(bra_varphi, var_ket_v), var_ket_psi), InSet(var_ket_v, Hspace)))), InSet(ket_varphi, Hspace))))"
   ]
  },
  {
   "cell_type": "code",
   "execution_count": 3,
   "metadata": {},
   "outputs": [
    {
     "name": "stdout",
     "output_type": "stream",
     "text": [
      "Passed sanity check: expr matches stored_expr\n"
     ]
    }
   ],
   "source": [
    "# check that the built expression is the same as the stored expression\n",
    "assert expr == stored_expr\n",
    "assert expr._style_id == stored_expr._style_id\n",
    "print(\"Passed sanity check: expr matches stored_expr\")"
   ]
  },
  {
   "cell_type": "code",
   "execution_count": 4,
   "metadata": {},
   "outputs": [
    {
     "name": "stdout",
     "output_type": "stream",
     "text": [
      "\\left(\\varphi \\mapsto \\left\\{\\left(\\lvert \\psi \\rangle \\thinspace \\langle \\varphi \\rvert\\right) = \\left[\\lvert v \\rangle \\mapsto \\left\\{\\left(\\langle \\varphi \\rvert \\thinspace \\lvert v \\rangle\\right) \\cdot \\lvert \\psi \\rangle \\textrm{ if } \\lvert v \\rangle \\in \\mathcal{H}\\right..\\right] \\textrm{ if } \\lvert \\varphi \\rangle \\in \\mathcal{H}\\right..\\right)\n"
     ]
    }
   ],
   "source": [
    "# Show the LaTeX representation of the expression for convenience if you need it.\n",
    "print(stored_expr.latex())"
   ]
  },
  {
   "cell_type": "code",
   "execution_count": 5,
   "metadata": {},
   "outputs": [
    {
     "data": {
      "text/html": [
       "no style options"
      ],
      "text/plain": [
       "no style options"
      ]
     },
     "metadata": {},
     "output_type": "display_data"
    }
   ],
   "source": [
    "stored_expr.style_options()"
   ]
  },
  {
   "cell_type": "code",
   "execution_count": 6,
   "metadata": {},
   "outputs": [
    {
     "data": {
      "text/html": [
       "<table><tr><th>&nbsp;</th><th>core type</th><th>sub-expressions</th><th>expression</th></tr>\n",
       "<tr><td>0</td><td>ExprTuple</td><td>1</td><td><a class=\"ProveItLink\" href=\"expr.ipynb\"><img src=\"expr.png\" style=\"display:inline;vertical-align:middle;\" /></a></td></tr>\n",
       "<tr><td>1</td><td>Lambda</td><td>parameter:&nbsp;30<br>body:&nbsp;2<br></td><td><a class=\"ProveItLink\" href=\"../3d935c08fd1b6cb611e137cb29502403299c48940/expr.ipynb\"><img src=\"../3d935c08fd1b6cb611e137cb29502403299c48940/expr.png\" style=\"display:inline;vertical-align:middle;\" /></a></td></tr>\n",
       "<tr><td>2</td><td>Conditional</td><td>value:&nbsp;3<br>condition:&nbsp;4<br></td><td><a class=\"ProveItLink\" href=\"../5f69b7df7297b2708acf668c80cdfb47c11bb50b0/expr.ipynb\"><img src=\"../5f69b7df7297b2708acf668c80cdfb47c11bb50b0/expr.png\" style=\"display:inline;vertical-align:middle;\" /></a></td></tr>\n",
       "<tr><td>3</td><td>Operation</td><td>operator:&nbsp;5<br>operands:&nbsp;6<br></td><td><a class=\"ProveItLink\" href=\"../44ecb1d2da2baeab161e91e652d81c873b3f2b090/expr.ipynb\"><img src=\"../44ecb1d2da2baeab161e91e652d81c873b3f2b090/expr.png\" style=\"display:inline;vertical-align:middle;\" /></a></td></tr>\n",
       "<tr><td>4</td><td>Operation</td><td>operator:&nbsp;19<br>operands:&nbsp;7<br></td><td><a class=\"ProveItLink\" href=\"../61e98d3ee3707ae7b923f38ed21457f5caf7e5220/expr.ipynb\"><img src=\"../61e98d3ee3707ae7b923f38ed21457f5caf7e5220/expr.png\" style=\"display:inline;vertical-align:middle;\" /></a></td></tr>\n",
       "<tr><td>5</td><td>Literal</td><td></td><td><a class=\"ProveItLink\" href=\"../../../../../../logic/equality/__pv_it/common/fb96dc12b2aa8801dda64d0132b396c63d1502bb0/expr.ipynb\"><img src=\"../../../../../../logic/equality/__pv_it/common/fb96dc12b2aa8801dda64d0132b396c63d1502bb0/expr.png\" style=\"display:inline;vertical-align:middle;\" /></a></td></tr>\n",
       "<tr><td>6</td><td>ExprTuple</td><td>8, 9</td><td><a class=\"ProveItLink\" href=\"../ded152f224881432a3fc3f589fb394d50327fc400/expr.ipynb\"><img src=\"../ded152f224881432a3fc3f589fb394d50327fc400/expr.png\" style=\"display:inline;vertical-align:middle;\" /></a></td></tr>\n",
       "<tr><td>7</td><td>ExprTuple</td><td>10, 23</td><td><a class=\"ProveItLink\" href=\"../40a22b116c19bf050f1472721bd918611d5600f50/expr.ipynb\"><img src=\"../40a22b116c19bf050f1472721bd918611d5600f50/expr.png\" style=\"display:inline;vertical-align:middle;\" /></a></td></tr>\n",
       "<tr><td>8</td><td>Operation</td><td>operator:&nbsp;24<br>operands:&nbsp;11<br></td><td><a class=\"ProveItLink\" href=\"../a0653f027822af5f95d3156a10b942703a0880400/expr.ipynb\"><img src=\"../a0653f027822af5f95d3156a10b942703a0880400/expr.png\" style=\"display:inline;vertical-align:middle;\" /></a></td></tr>\n",
       "<tr><td>9</td><td>Lambda</td><td>parameter:&nbsp;27<br>body:&nbsp;13<br></td><td><a class=\"ProveItLink\" href=\"../beaa175dc4a430fefadefadf61527eba4fd37fc30/expr.ipynb\"><img src=\"../beaa175dc4a430fefadefadf61527eba4fd37fc30/expr.png\" style=\"display:inline;vertical-align:middle;\" /></a></td></tr>\n",
       "<tr><td>10</td><td>Operation</td><td>operator:&nbsp;14<br>operand:&nbsp;30<br></td><td><a class=\"ProveItLink\" href=\"../../../../__pv_it/common/c9a1043629ff97823c162335c02491b28faa23df0/expr.ipynb\"><img src=\"../../../../__pv_it/common/c9a1043629ff97823c162335c02491b28faa23df0/expr.png\" style=\"display:inline;vertical-align:middle;\" /></a></td></tr>\n",
       "<tr><td>11</td><td>ExprTuple</td><td>22, 26</td><td><a class=\"ProveItLink\" href=\"../bffbc0a1294ffde1603bbb08dde4234c339ee6a30/expr.ipynb\"><img src=\"../bffbc0a1294ffde1603bbb08dde4234c339ee6a30/expr.png\" style=\"display:inline;vertical-align:middle;\" /></a></td></tr>\n",
       "<tr><td>12</td><td>ExprTuple</td><td>27</td><td><a class=\"ProveItLink\" href=\"../496a6d3536a6d630b2fee5031fda9842b9d5eb190/expr.ipynb\"><img src=\"../496a6d3536a6d630b2fee5031fda9842b9d5eb190/expr.png\" style=\"display:inline;vertical-align:middle;\" /></a></td></tr>\n",
       "<tr><td>13</td><td>Conditional</td><td>value:&nbsp;15<br>condition:&nbsp;16<br></td><td><a class=\"ProveItLink\" href=\"../c369e9b1fa1292bdb7aa7026f0a8ab030a43acf00/expr.ipynb\"><img src=\"../c369e9b1fa1292bdb7aa7026f0a8ab030a43acf00/expr.png\" style=\"display:inline;vertical-align:middle;\" /></a></td></tr>\n",
       "<tr><td>14</td><td>Literal</td><td></td><td><a class=\"ProveItLink\" href=\"../../common/e3872951fe05b26090372918594af92cac779e280/expr.ipynb\"><img src=\"../../common/e3872951fe05b26090372918594af92cac779e280/expr.png\" style=\"display:inline;vertical-align:middle;\" /></a></td></tr>\n",
       "<tr><td>15</td><td>Operation</td><td>operator:&nbsp;17<br>operands:&nbsp;18<br></td><td><a class=\"ProveItLink\" href=\"../8af40cb6da76bbea8be10c90576ce4e6955e39430/expr.ipynb\"><img src=\"../8af40cb6da76bbea8be10c90576ce4e6955e39430/expr.png\" style=\"display:inline;vertical-align:middle;\" /></a></td></tr>\n",
       "<tr><td>16</td><td>Operation</td><td>operator:&nbsp;19<br>operands:&nbsp;20<br></td><td><a class=\"ProveItLink\" href=\"../43164da814fb131dc585b18138579fd9602ea2e00/expr.ipynb\"><img src=\"../43164da814fb131dc585b18138579fd9602ea2e00/expr.png\" style=\"display:inline;vertical-align:middle;\" /></a></td></tr>\n",
       "<tr><td>17</td><td>Literal</td><td></td><td><a class=\"ProveItLink\" href=\"../../../../../../linear_algebra/scalar_multiplication/__pv_it/common/1e364bd471e6a29fcd358dd2d9cd990a1e6fedd40/expr.ipynb\"><img src=\"../../../../../../linear_algebra/scalar_multiplication/__pv_it/common/1e364bd471e6a29fcd358dd2d9cd990a1e6fedd40/expr.png\" style=\"display:inline;vertical-align:middle;\" /></a></td></tr>\n",
       "<tr><td>18</td><td>ExprTuple</td><td>21, 22</td><td><a class=\"ProveItLink\" href=\"../498e8ba75a509c86b8757a2bece0fb381933b0530/expr.ipynb\"><img src=\"../498e8ba75a509c86b8757a2bece0fb381933b0530/expr.png\" style=\"display:inline;vertical-align:middle;\" /></a></td></tr>\n",
       "<tr><td>19</td><td>Literal</td><td></td><td><a class=\"ProveItLink\" href=\"../../../../../../logic/sets/membership/__pv_it/common/477487d8796864d23d5810f83761435f25167f690/expr.ipynb\"><img src=\"../../../../../../logic/sets/membership/__pv_it/common/477487d8796864d23d5810f83761435f25167f690/expr.png\" style=\"display:inline;vertical-align:middle;\" /></a></td></tr>\n",
       "<tr><td>20</td><td>ExprTuple</td><td>27, 23</td><td><a class=\"ProveItLink\" href=\"../a41a2ce29361a67ea17186f5a9415180745ca8bf0/expr.ipynb\"><img src=\"../a41a2ce29361a67ea17186f5a9415180745ca8bf0/expr.png\" style=\"display:inline;vertical-align:middle;\" /></a></td></tr>\n",
       "<tr><td>21</td><td>Operation</td><td>operator:&nbsp;24<br>operands:&nbsp;25<br></td><td><a class=\"ProveItLink\" href=\"../b19fd1d2d73570d219d2c482439a2164523cb1ff0/expr.ipynb\"><img src=\"../b19fd1d2d73570d219d2c482439a2164523cb1ff0/expr.png\" style=\"display:inline;vertical-align:middle;\" /></a></td></tr>\n",
       "<tr><td>22</td><td>Variable</td><td></td><td><a class=\"ProveItLink\" href=\"../../../../__pv_it/common/798a4b85c58eead0b86ebff17277cd7c4a79a3160/expr.ipynb\"><img src=\"../../../../__pv_it/common/798a4b85c58eead0b86ebff17277cd7c4a79a3160/expr.png\" style=\"display:inline;vertical-align:middle;\" /></a></td></tr>\n",
       "<tr><td>23</td><td>Variable</td><td></td><td><a class=\"ProveItLink\" href=\"../../../../../../linear_algebra/inner_products/__pv_it/common/0a298dc12c549b5fdc96454972e9674c7dbf104f0/expr.ipynb\"><img src=\"../../../../../../linear_algebra/inner_products/__pv_it/common/0a298dc12c549b5fdc96454972e9674c7dbf104f0/expr.png\" style=\"display:inline;vertical-align:middle;\" /></a></td></tr>\n",
       "<tr><td>24</td><td>Literal</td><td></td><td><a class=\"ProveItLink\" href=\"../../common/2972e0deb52c96565b39f905d407d7302ae287580/expr.ipynb\"><img src=\"../../common/2972e0deb52c96565b39f905d407d7302ae287580/expr.png\" style=\"display:inline;vertical-align:middle;\" /></a></td></tr>\n",
       "<tr><td>25</td><td>ExprTuple</td><td>26, 27</td><td><a class=\"ProveItLink\" href=\"../27d08f6ba8bf1fd08a68b60c3ab858dc47e4d6610/expr.ipynb\"><img src=\"../27d08f6ba8bf1fd08a68b60c3ab858dc47e4d6610/expr.png\" style=\"display:inline;vertical-align:middle;\" /></a></td></tr>\n",
       "<tr><td>26</td><td>Operation</td><td>operator:&nbsp;28<br>operand:&nbsp;30<br></td><td><a class=\"ProveItLink\" href=\"../../../../__pv_it/common/1c3613f29e51fee59dc4396d8f9530ed1869cf290/expr.ipynb\"><img src=\"../../../../__pv_it/common/1c3613f29e51fee59dc4396d8f9530ed1869cf290/expr.png\" style=\"display:inline;vertical-align:middle;\" /></a></td></tr>\n",
       "<tr><td>27</td><td>Variable</td><td></td><td><a class=\"ProveItLink\" href=\"../../../../__pv_it/common/4a4e4b6201c337502c2aae379d189f8e94b5ef7a0/expr.ipynb\"><img src=\"../../../../__pv_it/common/4a4e4b6201c337502c2aae379d189f8e94b5ef7a0/expr.png\" style=\"display:inline;vertical-align:middle;\" /></a></td></tr>\n",
       "<tr><td>28</td><td>Literal</td><td></td><td><a class=\"ProveItLink\" href=\"../../common/3123474674911507d272713eb0a3f543c87b57ba0/expr.ipynb\"><img src=\"../../common/3123474674911507d272713eb0a3f543c87b57ba0/expr.png\" style=\"display:inline;vertical-align:middle;\" /></a></td></tr>\n",
       "<tr><td>29</td><td>ExprTuple</td><td>30</td><td><a class=\"ProveItLink\" href=\"../../../../__pv_it/common/01a9ba963790206039a68d1305bb5070dd137de10/expr.ipynb\"><img src=\"../../../../__pv_it/common/01a9ba963790206039a68d1305bb5070dd137de10/expr.png\" style=\"display:inline;vertical-align:middle;\" /></a></td></tr>\n",
       "<tr><td>30</td><td>Variable</td><td></td><td><a class=\"ProveItLink\" href=\"../../../../__pv_it/common/eff3454ef41960bf5bb736e8ee0e81bb07107e080/expr.ipynb\"><img src=\"../../../../__pv_it/common/eff3454ef41960bf5bb736e8ee0e81bb07107e080/expr.png\" style=\"display:inline;vertical-align:middle;\" /></a></td></tr>\n",
       "</table>\n"
      ],
      "text/plain": [
       "0. (varphi -> {(|psi> . 〈varphi|) = [|v> -> {(〈varphi| . |v>) * |psi> if |v> in H.] if |varphi〉 in H.)\n",
       "   core type: ExprTuple\n",
       "   sub-expressions: 1\n",
       "1. varphi -> {(|psi> . 〈varphi|) = [|v> -> {(〈varphi| . |v>) * |psi> if |v> in H.] if |varphi〉 in H.\n",
       "   core type: Lambda\n",
       "   parameter: 30\n",
       "   body: 2\n",
       "2. {(|psi> . 〈varphi|) = [|v> -> {(〈varphi| . |v>) * |psi> if |v> in H.] if |varphi〉 in H.\n",
       "   core type: Conditional\n",
       "   value: 3\n",
       "   condition: 4\n",
       "3. (|psi> . 〈varphi|) = [|v> -> {(〈varphi| . |v>) * |psi> if |v> in H.]\n",
       "   core type: Operation\n",
       "   operator: 5\n",
       "   operands: 6\n",
       "4. |varphi〉 in H\n",
       "   core type: Operation\n",
       "   operator: 19\n",
       "   operands: 7\n",
       "5. =\n",
       "   core type: Literal\n",
       "   sub-expressions: \n",
       "6. (|psi> . 〈varphi|, |v> -> {(〈varphi| . |v>) * |psi> if |v> in H.)\n",
       "   core type: ExprTuple\n",
       "   sub-expressions: 8, 9\n",
       "7. (|varphi〉, H)\n",
       "   core type: ExprTuple\n",
       "   sub-expressions: 10, 23\n",
       "8. |psi> . 〈varphi|\n",
       "   core type: Operation\n",
       "   operator: 24\n",
       "   operands: 11\n",
       "9. |v> -> {(〈varphi| . |v>) * |psi> if |v> in H.\n",
       "   core type: Lambda\n",
       "   parameter: 27\n",
       "   body: 13\n",
       "10. |varphi〉\n",
       "    core type: Operation\n",
       "    operator: 14\n",
       "    operand: 30\n",
       "11. (|psi>, 〈varphi|)\n",
       "    core type: ExprTuple\n",
       "    sub-expressions: 22, 26\n",
       "12. (|v>)\n",
       "    core type: ExprTuple\n",
       "    sub-expressions: 27\n",
       "13. {(〈varphi| . |v>) * |psi> if |v> in H.\n",
       "    core type: Conditional\n",
       "    value: 15\n",
       "    condition: 16\n",
       "14. KET\n",
       "    core type: Literal\n",
       "    sub-expressions: \n",
       "15. (〈varphi| . |v>) * |psi>\n",
       "    core type: Operation\n",
       "    operator: 17\n",
       "    operands: 18\n",
       "16. |v> in H\n",
       "    core type: Operation\n",
       "    operator: 19\n",
       "    operands: 20\n",
       "17. *\n",
       "    core type: Literal\n",
       "    sub-expressions: \n",
       "18. (〈varphi| . |v>, |psi>)\n",
       "    core type: ExprTuple\n",
       "    sub-expressions: 21, 22\n",
       "19. in\n",
       "    core type: Literal\n",
       "    sub-expressions: \n",
       "20. (|v>, H)\n",
       "    core type: ExprTuple\n",
       "    sub-expressions: 27, 23\n",
       "21. 〈varphi| . |v>\n",
       "    core type: Operation\n",
       "    operator: 24\n",
       "    operands: 25\n",
       "22. |psi>\n",
       "    core type: Variable\n",
       "    sub-expressions: \n",
       "23. H\n",
       "    core type: Variable\n",
       "    sub-expressions: \n",
       "24. .\n",
       "    core type: Literal\n",
       "    sub-expressions: \n",
       "25. (〈varphi|, |v>)\n",
       "    core type: ExprTuple\n",
       "    sub-expressions: 26, 27\n",
       "26. 〈varphi|\n",
       "    core type: Operation\n",
       "    operator: 28\n",
       "    operand: 30\n",
       "27. |v>\n",
       "    core type: Variable\n",
       "    sub-expressions: \n",
       "28. BRA\n",
       "    core type: Literal\n",
       "    sub-expressions: \n",
       "29. (varphi)\n",
       "    core type: ExprTuple\n",
       "    sub-expressions: 30\n",
       "30. varphi\n",
       "    core type: Variable\n",
       "    sub-expressions: "
      ]
     },
     "metadata": {},
     "output_type": "display_data"
    }
   ],
   "source": [
    "# display the expression information\n",
    "stored_expr.expr_info()"
   ]
  },
  {
   "cell_type": "code",
   "execution_count": null,
   "metadata": {},
   "outputs": [],
   "source": []
  }
 ],
 "metadata": {
  "kernelspec": {
   "display_name": "Python 3",
   "language": "python",
   "name": "python3"
  }
 },
 "nbformat": 4,
 "nbformat_minor": 0
}