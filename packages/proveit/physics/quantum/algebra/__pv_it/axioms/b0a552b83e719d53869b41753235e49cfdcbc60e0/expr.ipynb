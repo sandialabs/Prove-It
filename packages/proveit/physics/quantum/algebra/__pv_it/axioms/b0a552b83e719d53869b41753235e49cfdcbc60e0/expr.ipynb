{
 "cells": [
  {
   "cell_type": "markdown",
   "metadata": {},
   "source": [
    "Expression of type <a class=\"ProveItLink\" href=\"../../../../../../../../doc/html/api/proveit.logic.Forall.html\">Forall</a>\n",
    "=======================\n",
    "# from the theory of <a class=\"ProveItLink\" href=\"../../../_theory_nbs_/theory.ipynb\">proveit.physics.quantum.algebra</a>"
   ]
  },
  {
   "cell_type": "code",
   "execution_count": 1,
   "metadata": {},
   "outputs": [],
   "source": [
    "import proveit\n",
    "# Automation is not needed when building an expression:\n",
    "proveit.defaults.automation = False # This will speed things up.\n",
    "proveit.defaults.inline_pngs = False # Makes files smaller.\n",
    "%load_expr # Load the stored expression as 'stored_expr'\n",
    "# import Expression classes needed to build the expression\n",
    "from proveit import A, B, Composition, X, Y\n",
    "from proveit.linear_algebra import HilbertSpaces, Hspace, LinMap\n",
    "from proveit.logic import Equals, Forall, InSet\n",
    "from proveit.physics.quantum import Qmult"
   ]
  },
  {
   "cell_type": "code",
   "execution_count": 2,
   "metadata": {},
   "outputs": [
    {
     "data": {
      "text/html": [
       "<strong id=\"expr\">expr:</strong> <a class=\"ProveItLink\" href=\"expr.ipynb\"><img src=\"expr.png\" style=\"display:inline;vertical-align:middle;\" /></a><br>"
      ],
      "text/plain": [
       "<IPython.core.display.HTML object>"
      ]
     },
     "metadata": {},
     "output_type": "display_data"
    }
   ],
   "source": [
    "# build up the expression from sub-expressions\n",
    "sub_expr1 = Qmult(A)\n",
    "sub_expr2 = Qmult(B)\n",
    "expr = Forall(instance_param_or_params = [Hspace, X, Y], instance_expr = Forall(instance_param_or_params = [A, B], instance_expr = Equals(Qmult(A, B), Composition(sub_expr1, sub_expr2)), conditions = [InSet(sub_expr1, LinMap(X, Y)), InSet(sub_expr2, LinMap(Hspace, X))]), domain = HilbertSpaces)"
   ]
  },
  {
   "cell_type": "code",
   "execution_count": 3,
   "metadata": {},
   "outputs": [
    {
     "name": "stdout",
     "output_type": "stream",
     "text": [
      "Passed sanity check: expr matches stored_expr\n"
     ]
    }
   ],
   "source": [
    "# check that the built expression is the same as the stored expression\n",
    "assert expr == stored_expr\n",
    "assert expr._style_id == stored_expr._style_id\n",
    "print(\"Passed sanity check: expr matches stored_expr\")"
   ]
  },
  {
   "cell_type": "code",
   "execution_count": 4,
   "metadata": {},
   "outputs": [
    {
     "name": "stdout",
     "output_type": "stream",
     "text": [
      "\\forall_{\\mathcal{H}, X, Y \\underset{{\\scriptscriptstyle c}}{\\in} \\textrm{HilbertSpaces}}~\\left[\\forall_{A, B~|~\\left[A\\right] \\in \\mathcal{L}\\left(X, Y\\right), \\left[B\\right] \\in \\mathcal{L}\\left(\\mathcal{H}, X\\right)}~\\left(\\left(A \\thinspace B\\right) = \\left(\\left[A\\right] \\circ \\left[B\\right]\\right)\\right)\\right]\n"
     ]
    }
   ],
   "source": [
    "# Show the LaTeX representation of the expression for convenience if you need it.\n",
    "print(stored_expr.latex())"
   ]
  },
  {
   "cell_type": "code",
   "execution_count": 5,
   "metadata": {},
   "outputs": [
    {
     "data": {
      "text/html": [
       "<table>\n",
       "<tr><th>name</th><th>description</th><th>default</th><th>current value</th><th>related methods</th></tr><tr><td>with_wrapping</td><td>If 'True', wrap the Expression after the parameters</td><td>None</td><td>None/False</td><td>('with_wrapping',)</td></tr>\n",
       "<tr><td>condition_wrapping</td><td>Wrap 'before' or 'after' the condition (or None).</td><td>None</td><td>None/False</td><td>('with_wrap_after_condition', 'with_wrap_before_condition')</td></tr>\n",
       "<tr><td>wrap_params</td><td>If 'True', wraps every two parameters AND wraps the Expression after the parameters</td><td>None</td><td>None/False</td><td>('with_params',)</td></tr>\n",
       "<tr><td>justification</td><td>justify to the 'left', 'center', or 'right' in the array cells</td><td>center</td><td>center</td><td>('with_justification',)</td></tr>\n",
       "</table>\n"
      ],
      "text/plain": [
       "style name: with_wrapping\n",
       "description: If 'True', wrap the Expression after the parameters\n",
       "default: None\n",
       "current value: None/False\n",
       "related methods: ('with_wrapping',)\n",
       "style name: condition_wrapping\n",
       "description: Wrap 'before' or 'after' the condition (or None).\n",
       "default: None\n",
       "current value: None/False\n",
       "related methods: ('with_wrap_after_condition', 'with_wrap_before_condition')\n",
       "style name: wrap_params\n",
       "description: If 'True', wraps every two parameters AND wraps the Expression after the parameters\n",
       "default: None\n",
       "current value: None/False\n",
       "related methods: ('with_params',)\n",
       "style name: justification\n",
       "description: justify to the 'left', 'center', or 'right' in the array cells\n",
       "default: center\n",
       "current value: center\n",
       "related methods: ('with_justification',)"
      ]
     },
     "metadata": {},
     "output_type": "display_data"
    }
   ],
   "source": [
    "stored_expr.style_options()"
   ]
  },
  {
   "cell_type": "code",
   "execution_count": 6,
   "metadata": {},
   "outputs": [
    {
     "data": {
      "text/html": [
       "<table><tr><th>&nbsp;</th><th>core type</th><th>sub-expressions</th><th>expression</th></tr>\n",
       "<tr><td>0</td><td>Operation</td><td>operator:&nbsp;7<br>operand:&nbsp;2<br></td><td><a class=\"ProveItLink\" href=\"expr.ipynb\"><img src=\"expr.png\" style=\"display:inline;vertical-align:middle;\" /></a></td></tr>\n",
       "<tr><td>1</td><td>ExprTuple</td><td>2</td><td><a class=\"ProveItLink\" href=\"../7a3e093248e96af23ec9b93a5c3078c28d601b1e0/expr.ipynb\"><img src=\"../7a3e093248e96af23ec9b93a5c3078c28d601b1e0/expr.png\" style=\"display:inline;vertical-align:middle;\" /></a></td></tr>\n",
       "<tr><td>2</td><td>Lambda</td><td>parameters:&nbsp;3<br>body:&nbsp;4<br></td><td><a class=\"ProveItLink\" href=\"../60ba7bcabdfff1ccf09472cb8c81821611d34cf60/expr.ipynb\"><img src=\"../60ba7bcabdfff1ccf09472cb8c81821611d34cf60/expr.png\" style=\"display:inline;vertical-align:middle;\" /></a></td></tr>\n",
       "<tr><td>3</td><td>ExprTuple</td><td>49, 50, 47</td><td><a class=\"ProveItLink\" href=\"../8c4d2ee602e49a8c0b4fbe905a062b35d1f3502a0/expr.ipynb\"><img src=\"../8c4d2ee602e49a8c0b4fbe905a062b35d1f3502a0/expr.png\" style=\"display:inline;vertical-align:middle;\" /></a></td></tr>\n",
       "<tr><td>4</td><td>Conditional</td><td>value:&nbsp;5<br>condition:&nbsp;6<br></td><td><a class=\"ProveItLink\" href=\"../2b3c25a2b40ff3351e7d4e2652b4e60dc12874080/expr.ipynb\"><img src=\"../2b3c25a2b40ff3351e7d4e2652b4e60dc12874080/expr.png\" style=\"display:inline;vertical-align:middle;\" /></a></td></tr>\n",
       "<tr><td>5</td><td>Operation</td><td>operator:&nbsp;7<br>operand:&nbsp;10<br></td><td><a class=\"ProveItLink\" href=\"../f6536bc44245e77ed08d5d2032da046c6d8abe9e0/expr.ipynb\"><img src=\"../f6536bc44245e77ed08d5d2032da046c6d8abe9e0/expr.png\" style=\"display:inline;vertical-align:middle;\" /></a></td></tr>\n",
       "<tr><td>6</td><td>Operation</td><td>operator:&nbsp;24<br>operands:&nbsp;9<br></td><td><a class=\"ProveItLink\" href=\"../46de02c03635f13f1504394015b2ac1eb3c529040/expr.ipynb\"><img src=\"../46de02c03635f13f1504394015b2ac1eb3c529040/expr.png\" style=\"display:inline;vertical-align:middle;\" /></a></td></tr>\n",
       "<tr><td>7</td><td>Literal</td><td></td><td><a class=\"ProveItLink\" href=\"../../../../../../logic/booleans/quantification/universality/__pv_it/common/083d2baa0b8ecab1d230f9ec29a15aa1355809fb0/expr.ipynb\"><img src=\"../../../../../../logic/booleans/quantification/universality/__pv_it/common/083d2baa0b8ecab1d230f9ec29a15aa1355809fb0/expr.png\" style=\"display:inline;vertical-align:middle;\" /></a></td></tr>\n",
       "<tr><td>8</td><td>ExprTuple</td><td>10</td><td><a class=\"ProveItLink\" href=\"../85d2001143972fc0809be95ac542583ce61025b90/expr.ipynb\"><img src=\"../85d2001143972fc0809be95ac542583ce61025b90/expr.png\" style=\"display:inline;vertical-align:middle;\" /></a></td></tr>\n",
       "<tr><td>9</td><td>ExprTuple</td><td>11, 12, 13</td><td><a class=\"ProveItLink\" href=\"../59335d6f23ec0429d9ca9a5fc7c252b8ccbd898c0/expr.ipynb\"><img src=\"../59335d6f23ec0429d9ca9a5fc7c252b8ccbd898c0/expr.png\" style=\"display:inline;vertical-align:middle;\" /></a></td></tr>\n",
       "<tr><td>10</td><td>Lambda</td><td>parameters:&nbsp;30<br>body:&nbsp;14<br></td><td><a class=\"ProveItLink\" href=\"../26c22c828547c30af560d8170d7b645b0ec455dc0/expr.ipynb\"><img src=\"../26c22c828547c30af560d8170d7b645b0ec455dc0/expr.png\" style=\"display:inline;vertical-align:middle;\" /></a></td></tr>\n",
       "<tr><td>11</td><td>Operation</td><td>operator:&nbsp;17<br>operands:&nbsp;15<br></td><td><a class=\"ProveItLink\" href=\"../31d4094b2894fdb2d15795fed222b1eb5c7ff5bc0/expr.ipynb\"><img src=\"../31d4094b2894fdb2d15795fed222b1eb5c7ff5bc0/expr.png\" style=\"display:inline;vertical-align:middle;\" /></a></td></tr>\n",
       "<tr><td>12</td><td>Operation</td><td>operator:&nbsp;17<br>operands:&nbsp;16<br></td><td><a class=\"ProveItLink\" href=\"../b43dcc22027be8fd048b25799a7ab0f36727ab830/expr.ipynb\"><img src=\"../b43dcc22027be8fd048b25799a7ab0f36727ab830/expr.png\" style=\"display:inline;vertical-align:middle;\" /></a></td></tr>\n",
       "<tr><td>13</td><td>Operation</td><td>operator:&nbsp;17<br>operands:&nbsp;18<br></td><td><a class=\"ProveItLink\" href=\"../be78a292327980abc3f887f6a68f55553a8fd17b0/expr.ipynb\"><img src=\"../be78a292327980abc3f887f6a68f55553a8fd17b0/expr.png\" style=\"display:inline;vertical-align:middle;\" /></a></td></tr>\n",
       "<tr><td>14</td><td>Conditional</td><td>value:&nbsp;19<br>condition:&nbsp;20<br></td><td><a class=\"ProveItLink\" href=\"../e96c74e41a87690cd69d0af95db74d8a562a21610/expr.ipynb\"><img src=\"../e96c74e41a87690cd69d0af95db74d8a562a21610/expr.png\" style=\"display:inline;vertical-align:middle;\" /></a></td></tr>\n",
       "<tr><td>15</td><td>ExprTuple</td><td>49, 21</td><td><a class=\"ProveItLink\" href=\"../8dd6744fe0111d3e5e6b1ce629b4848eb233fd690/expr.ipynb\"><img src=\"../8dd6744fe0111d3e5e6b1ce629b4848eb233fd690/expr.png\" style=\"display:inline;vertical-align:middle;\" /></a></td></tr>\n",
       "<tr><td>16</td><td>ExprTuple</td><td>50, 21</td><td><a class=\"ProveItLink\" href=\"../e31703fc6f60ac02786a06dda15ce3bf7eac18990/expr.ipynb\"><img src=\"../e31703fc6f60ac02786a06dda15ce3bf7eac18990/expr.png\" style=\"display:inline;vertical-align:middle;\" /></a></td></tr>\n",
       "<tr><td>17</td><td>Literal</td><td></td><td><a class=\"ProveItLink\" href=\"../../../../../../logic/classes/membership/__pv_it/common/e3b437d28fbe17f0a50c9789c7c9b47a1270f1420/expr.ipynb\"><img src=\"../../../../../../logic/classes/membership/__pv_it/common/e3b437d28fbe17f0a50c9789c7c9b47a1270f1420/expr.png\" style=\"display:inline;vertical-align:middle;\" /></a></td></tr>\n",
       "<tr><td>18</td><td>ExprTuple</td><td>47, 21</td><td><a class=\"ProveItLink\" href=\"../26041c6eae4319875c3f6b69d69ebb5bbdec70150/expr.ipynb\"><img src=\"../26041c6eae4319875c3f6b69d69ebb5bbdec70150/expr.png\" style=\"display:inline;vertical-align:middle;\" /></a></td></tr>\n",
       "<tr><td>19</td><td>Operation</td><td>operator:&nbsp;22<br>operands:&nbsp;23<br></td><td><a class=\"ProveItLink\" href=\"../4e82af717f3c648708946804d2e0a363361e71a70/expr.ipynb\"><img src=\"../4e82af717f3c648708946804d2e0a363361e71a70/expr.png\" style=\"display:inline;vertical-align:middle;\" /></a></td></tr>\n",
       "<tr><td>20</td><td>Operation</td><td>operator:&nbsp;24<br>operands:&nbsp;25<br></td><td><a class=\"ProveItLink\" href=\"../964d17e60abcf8f07c2d1a636cf208c2e85155920/expr.ipynb\"><img src=\"../964d17e60abcf8f07c2d1a636cf208c2e85155920/expr.png\" style=\"display:inline;vertical-align:middle;\" /></a></td></tr>\n",
       "<tr><td>21</td><td>Literal</td><td></td><td><a class=\"ProveItLink\" href=\"../../../../../../linear_algebra/inner_products/__pv_it/common/63495bb81132197a40ba1811088142655bc8cabd0/expr.ipynb\"><img src=\"../../../../../../linear_algebra/inner_products/__pv_it/common/63495bb81132197a40ba1811088142655bc8cabd0/expr.png\" style=\"display:inline;vertical-align:middle;\" /></a></td></tr>\n",
       "<tr><td>22</td><td>Literal</td><td></td><td><a class=\"ProveItLink\" href=\"../../../../../../logic/equality/__pv_it/common/fb96dc12b2aa8801dda64d0132b396c63d1502bb0/expr.ipynb\"><img src=\"../../../../../../logic/equality/__pv_it/common/fb96dc12b2aa8801dda64d0132b396c63d1502bb0/expr.png\" style=\"display:inline;vertical-align:middle;\" /></a></td></tr>\n",
       "<tr><td>23</td><td>ExprTuple</td><td>26, 27</td><td><a class=\"ProveItLink\" href=\"../5080396348c4832c461310c40d71459ce08a9f130/expr.ipynb\"><img src=\"../5080396348c4832c461310c40d71459ce08a9f130/expr.png\" style=\"display:inline;vertical-align:middle;\" /></a></td></tr>\n",
       "<tr><td>24</td><td>Literal</td><td></td><td><a class=\"ProveItLink\" href=\"../../../../../../logic/booleans/conjunction/__pv_it/common/42118ff318bd65d98b1393f64ce7c2269feef76e0/expr.ipynb\"><img src=\"../../../../../../logic/booleans/conjunction/__pv_it/common/42118ff318bd65d98b1393f64ce7c2269feef76e0/expr.png\" style=\"display:inline;vertical-align:middle;\" /></a></td></tr>\n",
       "<tr><td>25</td><td>ExprTuple</td><td>28, 29</td><td><a class=\"ProveItLink\" href=\"../db8b46a68037433e0a41090cbf39426f550ac74d0/expr.ipynb\"><img src=\"../db8b46a68037433e0a41090cbf39426f550ac74d0/expr.png\" style=\"display:inline;vertical-align:middle;\" /></a></td></tr>\n",
       "<tr><td>26</td><td>Operation</td><td>operator:&nbsp;42<br>operands:&nbsp;30<br></td><td><a class=\"ProveItLink\" href=\"../1b5106646b3570c7ed6960535775c1f739cf0f090/expr.ipynb\"><img src=\"../1b5106646b3570c7ed6960535775c1f739cf0f090/expr.png\" style=\"display:inline;vertical-align:middle;\" /></a></td></tr>\n",
       "<tr><td>27</td><td>Operation</td><td>operator:&nbsp;31<br>operands:&nbsp;32<br></td><td><a class=\"ProveItLink\" href=\"../7bde6d18d2ff849de63a503ab822884c5eb156210/expr.ipynb\"><img src=\"../7bde6d18d2ff849de63a503ab822884c5eb156210/expr.png\" style=\"display:inline;vertical-align:middle;\" /></a></td></tr>\n",
       "<tr><td>28</td><td>Operation</td><td>operator:&nbsp;34<br>operands:&nbsp;33<br></td><td><a class=\"ProveItLink\" href=\"../e45587e708273f5e17a0ef4db7628b6f3306bb550/expr.ipynb\"><img src=\"../e45587e708273f5e17a0ef4db7628b6f3306bb550/expr.png\" style=\"display:inline;vertical-align:middle;\" /></a></td></tr>\n",
       "<tr><td>29</td><td>Operation</td><td>operator:&nbsp;34<br>operands:&nbsp;35<br></td><td><a class=\"ProveItLink\" href=\"../455800dd61a978d12ed6a9914dd7ed745ca1a8d90/expr.ipynb\"><img src=\"../455800dd61a978d12ed6a9914dd7ed745ca1a8d90/expr.png\" style=\"display:inline;vertical-align:middle;\" /></a></td></tr>\n",
       "<tr><td>30</td><td>ExprTuple</td><td>46, 48</td><td><a class=\"ProveItLink\" href=\"../e791ee87807ed43d7ac6262f8f70c4ffc8f24c940/expr.ipynb\"><img src=\"../e791ee87807ed43d7ac6262f8f70c4ffc8f24c940/expr.png\" style=\"display:inline;vertical-align:middle;\" /></a></td></tr>\n",
       "<tr><td>31</td><td>Literal</td><td></td><td><a class=\"ProveItLink\" href=\"../937c3fce6fae0f7bf212b2afb24ffa2312fdb2b40/expr.ipynb\"><img src=\"../../../../../_core_/expression/lambda_expr/__pv_it/common/937c3fce6fae0f7bf212b2afb24ffa2312fdb2b40/expr.png\" style=\"display:inline;vertical-align:middle;\" /></a></td></tr>\n",
       "<tr><td>32</td><td>ExprTuple</td><td>36, 38</td><td><a class=\"ProveItLink\" href=\"../9e4c24417416f8bf24c626f768792ac25f56ef990/expr.ipynb\"><img src=\"../9e4c24417416f8bf24c626f768792ac25f56ef990/expr.png\" style=\"display:inline;vertical-align:middle;\" /></a></td></tr>\n",
       "<tr><td>33</td><td>ExprTuple</td><td>36, 37</td><td><a class=\"ProveItLink\" href=\"../fb8771c4b8657daf92709b10722ff3f420156b500/expr.ipynb\"><img src=\"../fb8771c4b8657daf92709b10722ff3f420156b500/expr.png\" style=\"display:inline;vertical-align:middle;\" /></a></td></tr>\n",
       "<tr><td>34</td><td>Literal</td><td></td><td><a class=\"ProveItLink\" href=\"../../../../../../logic/sets/membership/__pv_it/common/477487d8796864d23d5810f83761435f25167f690/expr.ipynb\"><img src=\"../../../../../../logic/sets/membership/__pv_it/common/477487d8796864d23d5810f83761435f25167f690/expr.png\" style=\"display:inline;vertical-align:middle;\" /></a></td></tr>\n",
       "<tr><td>35</td><td>ExprTuple</td><td>38, 39</td><td><a class=\"ProveItLink\" href=\"../0508700414f766421d44a14d128fffc6182c98740/expr.ipynb\"><img src=\"../0508700414f766421d44a14d128fffc6182c98740/expr.png\" style=\"display:inline;vertical-align:middle;\" /></a></td></tr>\n",
       "<tr><td>36</td><td>Operation</td><td>operator:&nbsp;42<br>operand:&nbsp;46<br></td><td><a class=\"ProveItLink\" href=\"../fe02f8ed473f63760113f4f1e5a035bfa1e779460/expr.ipynb\"><img src=\"../fe02f8ed473f63760113f4f1e5a035bfa1e779460/expr.png\" style=\"display:inline;vertical-align:middle;\" /></a></td></tr>\n",
       "<tr><td>37</td><td>Operation</td><td>operator:&nbsp;44<br>operands:&nbsp;41<br></td><td><a class=\"ProveItLink\" href=\"../a9ea1bfdd963ab61be97e2eaa2ebf0b4523550b70/expr.ipynb\"><img src=\"../a9ea1bfdd963ab61be97e2eaa2ebf0b4523550b70/expr.png\" style=\"display:inline;vertical-align:middle;\" /></a></td></tr>\n",
       "<tr><td>38</td><td>Operation</td><td>operator:&nbsp;42<br>operand:&nbsp;48<br></td><td><a class=\"ProveItLink\" href=\"../a8fa8fb629c69a59cbe3757fb59d77179b7a425f0/expr.ipynb\"><img src=\"../a8fa8fb629c69a59cbe3757fb59d77179b7a425f0/expr.png\" style=\"display:inline;vertical-align:middle;\" /></a></td></tr>\n",
       "<tr><td>39</td><td>Operation</td><td>operator:&nbsp;44<br>operands:&nbsp;45<br></td><td><a class=\"ProveItLink\" href=\"../7ab5ea9149ebf1472e1d711f62e59f07c5e1fdfa0/expr.ipynb\"><img src=\"../7ab5ea9149ebf1472e1d711f62e59f07c5e1fdfa0/expr.png\" style=\"display:inline;vertical-align:middle;\" /></a></td></tr>\n",
       "<tr><td>40</td><td>ExprTuple</td><td>46</td><td><a class=\"ProveItLink\" href=\"../0dc6c42a8c40e6a1c0a1b3cc41b6e5aa01a661750/expr.ipynb\"><img src=\"../0dc6c42a8c40e6a1c0a1b3cc41b6e5aa01a661750/expr.png\" style=\"display:inline;vertical-align:middle;\" /></a></td></tr>\n",
       "<tr><td>41</td><td>ExprTuple</td><td>50, 47</td><td><a class=\"ProveItLink\" href=\"../806c777cd77049ff469633ac84461542c0f8dd670/expr.ipynb\"><img src=\"../806c777cd77049ff469633ac84461542c0f8dd670/expr.png\" style=\"display:inline;vertical-align:middle;\" /></a></td></tr>\n",
       "<tr><td>42</td><td>Literal</td><td></td><td><a class=\"ProveItLink\" href=\"../../common/2972e0deb52c96565b39f905d407d7302ae287580/expr.ipynb\"><img src=\"../../common/2972e0deb52c96565b39f905d407d7302ae287580/expr.png\" style=\"display:inline;vertical-align:middle;\" /></a></td></tr>\n",
       "<tr><td>43</td><td>ExprTuple</td><td>48</td><td><a class=\"ProveItLink\" href=\"../a7ff2e5307eface0f17839b0263ddd504c2c69e40/expr.ipynb\"><img src=\"../a7ff2e5307eface0f17839b0263ddd504c2c69e40/expr.png\" style=\"display:inline;vertical-align:middle;\" /></a></td></tr>\n",
       "<tr><td>44</td><td>Literal</td><td></td><td><a class=\"ProveItLink\" href=\"../../../../../../linear_algebra/linear_maps/__pv_it/common/d323a251b3f504c3443ff8de393dbf12697838a10/expr.ipynb\"><img src=\"../../../../../../linear_algebra/linear_maps/__pv_it/common/d323a251b3f504c3443ff8de393dbf12697838a10/expr.png\" style=\"display:inline;vertical-align:middle;\" /></a></td></tr>\n",
       "<tr><td>45</td><td>ExprTuple</td><td>49, 50</td><td><a class=\"ProveItLink\" href=\"../8e7e6f28bc2d529b8d61f74929566839b8a3cd1a0/expr.ipynb\"><img src=\"../8e7e6f28bc2d529b8d61f74929566839b8a3cd1a0/expr.png\" style=\"display:inline;vertical-align:middle;\" /></a></td></tr>\n",
       "<tr><td>46</td><td>Variable</td><td></td><td><a class=\"ProveItLink\" href=\"../../../../../../__pv_it/common/09585084922504426caf1db2ff588a23a0932a960/expr.ipynb\"><img src=\"../../../../../../__pv_it/common/09585084922504426caf1db2ff588a23a0932a960/expr.png\" style=\"display:inline;vertical-align:middle;\" /></a></td></tr>\n",
       "<tr><td>47</td><td>Variable</td><td></td><td><a class=\"ProveItLink\" href=\"../../../../../../__pv_it/common/72295dc899ebc16ab63a19612b428270c18ac53b0/expr.ipynb\"><img src=\"../../../../../../__pv_it/common/72295dc899ebc16ab63a19612b428270c18ac53b0/expr.png\" style=\"display:inline;vertical-align:middle;\" /></a></td></tr>\n",
       "<tr><td>48</td><td>Variable</td><td></td><td><a class=\"ProveItLink\" href=\"../../../../../../__pv_it/common/a9162d1c3cc0470c02e5daf414500903a7a419230/expr.ipynb\"><img src=\"../../../../../../__pv_it/common/a9162d1c3cc0470c02e5daf414500903a7a419230/expr.png\" style=\"display:inline;vertical-align:middle;\" /></a></td></tr>\n",
       "<tr><td>49</td><td>Variable</td><td></td><td><a class=\"ProveItLink\" href=\"../../../../../../linear_algebra/inner_products/__pv_it/common/0a298dc12c549b5fdc96454972e9674c7dbf104f0/expr.ipynb\"><img src=\"../../../../../../linear_algebra/inner_products/__pv_it/common/0a298dc12c549b5fdc96454972e9674c7dbf104f0/expr.png\" style=\"display:inline;vertical-align:middle;\" /></a></td></tr>\n",
       "<tr><td>50</td><td>Variable</td><td></td><td><a class=\"ProveItLink\" href=\"../../../../../../__pv_it/common/f1ca094affb79f5011ff4d63eb4e121bfbde7f330/expr.ipynb\"><img src=\"../../../../../../__pv_it/common/f1ca094affb79f5011ff4d63eb4e121bfbde7f330/expr.png\" style=\"display:inline;vertical-align:middle;\" /></a></td></tr>\n",
       "</table>\n"
      ],
      "text/plain": [
       "0. forall_{H, X, Y in_c HilbertSpaces} [forall_{A, B | [A] in LINMAP(X, Y), [B] in LINMAP(H, X)} ((A . B) = ([A] o [B]))]\n",
       "   core type: Operation\n",
       "   operator: 7\n",
       "   operand: 2\n",
       "1. ((H, X, Y) -> {forall_{A, B | [A] in LINMAP(X, Y), [B] in LINMAP(H, X)} ((A . B) = ([A] o [B])) if H in_c HilbertSpaces ,  X in_c HilbertSpaces ,  Y in_c HilbertSpaces.)\n",
       "   core type: ExprTuple\n",
       "   sub-expressions: 2\n",
       "2. (H, X, Y) -> {forall_{A, B | [A] in LINMAP(X, Y), [B] in LINMAP(H, X)} ((A . B) = ([A] o [B])) if H in_c HilbertSpaces ,  X in_c HilbertSpaces ,  Y in_c HilbertSpaces.\n",
       "   core type: Lambda\n",
       "   parameters: 3\\n   body: 4\n",
       "3. (H, X, Y)\n",
       "   core type: ExprTuple\n",
       "   sub-expressions: 49, 50, 47\n",
       "4. {forall_{A, B | [A] in LINMAP(X, Y), [B] in LINMAP(H, X)} ((A . B) = ([A] o [B])) if H in_c HilbertSpaces ,  X in_c HilbertSpaces ,  Y in_c HilbertSpaces.\n",
       "   core type: Conditional\n",
       "   value: 5\n",
       "   condition: 6\n",
       "5. forall_{A, B | [A] in LINMAP(X, Y), [B] in LINMAP(H, X)} ((A . B) = ([A] o [B]))\n",
       "   core type: Operation\n",
       "   operator: 7\n",
       "   operand: 10\n",
       "6. (H in_c HilbertSpaces) and (X in_c HilbertSpaces) and (Y in_c HilbertSpaces)\n",
       "   core type: Operation\n",
       "   operator: 24\n",
       "   operands: 9\n",
       "7. forall\n",
       "   core type: Literal\n",
       "   sub-expressions: \n",
       "8. ((A, B) -> {(A . B) = ([A] o [B]) if [A] in LINMAP(X, Y) ,  [B] in LINMAP(H, X).)\n",
       "   core type: ExprTuple\n",
       "   sub-expressions: 10\n",
       "9. (H in_c HilbertSpaces, X in_c HilbertSpaces, Y in_c HilbertSpaces)\n",
       "   core type: ExprTuple\n",
       "   sub-expressions: 11, 12, 13\n",
       "10. (A, B) -> {(A . B) = ([A] o [B]) if [A] in LINMAP(X, Y) ,  [B] in LINMAP(H, X).\n",
       "    core type: Lambda\n",
       "    parameters: 30\\n    body: 14\n",
       "11. H in_c HilbertSpaces\n",
       "    core type: Operation\n",
       "    operator: 17\n",
       "    operands: 15\n",
       "12. X in_c HilbertSpaces\n",
       "    core type: Operation\n",
       "    operator: 17\n",
       "    operands: 16\n",
       "13. Y in_c HilbertSpaces\n",
       "    core type: Operation\n",
       "    operator: 17\n",
       "    operands: 18\n",
       "14. {(A . B) = ([A] o [B]) if [A] in LINMAP(X, Y) ,  [B] in LINMAP(H, X).\n",
       "    core type: Conditional\n",
       "    value: 19\n",
       "    condition: 20\n",
       "15. (H, HilbertSpaces)\n",
       "    core type: ExprTuple\n",
       "    sub-expressions: 49, 21\n",
       "16. (X, HilbertSpaces)\n",
       "    core type: ExprTuple\n",
       "    sub-expressions: 50, 21\n",
       "17. in_c\n",
       "    core type: Literal\n",
       "    sub-expressions: \n",
       "18. (Y, HilbertSpaces)\n",
       "    core type: ExprTuple\n",
       "    sub-expressions: 47, 21\n",
       "19. (A . B) = ([A] o [B])\n",
       "    core type: Operation\n",
       "    operator: 22\n",
       "    operands: 23\n",
       "20. ([A] in LINMAP(X, Y)) and ([B] in LINMAP(H, X))\n",
       "    core type: Operation\n",
       "    operator: 24\n",
       "    operands: 25\n",
       "21. HilbertSpaces\n",
       "    core type: Literal\n",
       "    sub-expressions: \n",
       "22. =\n",
       "    core type: Literal\n",
       "    sub-expressions: \n",
       "23. (A . B, [A] o [B])\n",
       "    core type: ExprTuple\n",
       "    sub-expressions: 26, 27\n",
       "24. and\n",
       "    core type: Literal\n",
       "    sub-expressions: \n",
       "25. ([A] in LINMAP(X, Y), [B] in LINMAP(H, X))\n",
       "    core type: ExprTuple\n",
       "    sub-expressions: 28, 29\n",
       "26. A . B\n",
       "    core type: Operation\n",
       "    operator: 42\n",
       "    operands: 30\n",
       "27. [A] o [B]\n",
       "    core type: Operation\n",
       "    operator: 31\n",
       "    operands: 32\n",
       "28. [A] in LINMAP(X, Y)\n",
       "    core type: Operation\n",
       "    operator: 34\n",
       "    operands: 33\n",
       "29. [B] in LINMAP(H, X)\n",
       "    core type: Operation\n",
       "    operator: 34\n",
       "    operands: 35\n",
       "30. (A, B)\n",
       "    core type: ExprTuple\n",
       "    sub-expressions: 46, 48\n",
       "31. o\n",
       "    core type: Literal\n",
       "    sub-expressions: \n",
       "32. ([A], [B])\n",
       "    core type: ExprTuple\n",
       "    sub-expressions: 36, 38\n",
       "33. ([A], LINMAP(X, Y))\n",
       "    core type: ExprTuple\n",
       "    sub-expressions: 36, 37\n",
       "34. in\n",
       "    core type: Literal\n",
       "    sub-expressions: \n",
       "35. ([B], LINMAP(H, X))\n",
       "    core type: ExprTuple\n",
       "    sub-expressions: 38, 39\n",
       "36. [A]\n",
       "    core type: Operation\n",
       "    operator: 42\n",
       "    operand: 46\n",
       "37. LINMAP(X, Y)\n",
       "    core type: Operation\n",
       "    operator: 44\n",
       "    operands: 41\n",
       "38. [B]\n",
       "    core type: Operation\n",
       "    operator: 42\n",
       "    operand: 48\n",
       "39. LINMAP(H, X)\n",
       "    core type: Operation\n",
       "    operator: 44\n",
       "    operands: 45\n",
       "40. (A)\n",
       "    core type: ExprTuple\n",
       "    sub-expressions: 46\n",
       "41. (X, Y)\n",
       "    core type: ExprTuple\n",
       "    sub-expressions: 50, 47\n",
       "42. .\n",
       "    core type: Literal\n",
       "    sub-expressions: \n",
       "43. (B)\n",
       "    core type: ExprTuple\n",
       "    sub-expressions: 48\n",
       "44. LINMAP\n",
       "    core type: Literal\n",
       "    sub-expressions: \n",
       "45. (H, X)\n",
       "    core type: ExprTuple\n",
       "    sub-expressions: 49, 50\n",
       "46. A\n",
       "    core type: Variable\n",
       "    sub-expressions: \n",
       "47. Y\n",
       "    core type: Variable\n",
       "    sub-expressions: \n",
       "48. B\n",
       "    core type: Variable\n",
       "    sub-expressions: \n",
       "49. H\n",
       "    core type: Variable\n",
       "    sub-expressions: \n",
       "50. X\n",
       "    core type: Variable\n",
       "    sub-expressions: "
      ]
     },
     "metadata": {},
     "output_type": "display_data"
    }
   ],
   "source": [
    "# display the expression information\n",
    "stored_expr.expr_info()"
   ]
  },
  {
   "cell_type": "code",
   "execution_count": null,
   "metadata": {},
   "outputs": [],
   "source": []
  }
 ],
 "metadata": {
  "kernelspec": {
   "display_name": "Python 3",
   "language": "python",
   "name": "python3"
  }
 },
 "nbformat": 4,
 "nbformat_minor": 0
}