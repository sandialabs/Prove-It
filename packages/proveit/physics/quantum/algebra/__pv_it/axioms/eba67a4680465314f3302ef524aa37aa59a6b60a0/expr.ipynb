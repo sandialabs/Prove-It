{
 "cells": [
  {
   "cell_type": "markdown",
   "metadata": {},
   "source": [
    "Expression of type <a class=\"ProveItLink\" href=\"../../../../../../../../doc/html/api/proveit.ExprTuple.html\">ExprTuple</a>\n",
    "=======================\n",
    "# from the theory of <a class=\"ProveItLink\" href=\"../../../_theory_nbs_/theory.ipynb\">proveit.physics.quantum.algebra</a>"
   ]
  },
  {
   "cell_type": "code",
   "execution_count": 1,
   "metadata": {},
   "outputs": [],
   "source": [
    "import proveit\n",
    "# Automation is not needed when building an expression:\n",
    "proveit.defaults.automation = False # This will speed things up.\n",
    "proveit.defaults.inline_pngs = False # Makes files smaller.\n",
    "%load_expr # Load the stored expression as 'stored_expr'\n",
    "# import Expression classes needed to build the expression\n",
    "from proveit import Conditional, ExprTuple, Lambda, X\n",
    "from proveit.linear_algebra import HilbertSpaces, Hspace, ScalarMult\n",
    "from proveit.logic import And, Equals, Forall, InClass, InSet\n",
    "from proveit.physics.quantum import Qmult, bra_varphi, ket_varphi, var_ket_psi, var_ket_v, varphi"
   ]
  },
  {
   "cell_type": "code",
   "execution_count": 2,
   "metadata": {},
   "outputs": [
    {
     "data": {
      "text/html": [
       "<strong id=\"expr\">expr:</strong> <a class=\"ProveItLink\" href=\"expr.ipynb\"><img src=\"expr.png\" style=\"display:inline;vertical-align:middle;\" /></a><br>"
      ],
      "text/plain": [
       "<IPython.core.display.HTML object>"
      ]
     },
     "metadata": {},
     "output_type": "display_data"
    }
   ],
   "source": [
    "# build up the expression from sub-expressions\n",
    "expr = ExprTuple(Lambda([Hspace, X], Conditional(Forall(instance_param_or_params = [var_ket_psi], instance_expr = Forall(instance_param_or_params = [varphi], instance_expr = Equals(Qmult(var_ket_psi, bra_varphi), Lambda(var_ket_v, Conditional(ScalarMult(Qmult(bra_varphi, var_ket_v), var_ket_psi), InSet(var_ket_v, Hspace)))), condition = InSet(ket_varphi, Hspace)), domain = X), And(InClass(Hspace, HilbertSpaces), InClass(X, HilbertSpaces)))))"
   ]
  },
  {
   "cell_type": "code",
   "execution_count": 3,
   "metadata": {},
   "outputs": [
    {
     "name": "stdout",
     "output_type": "stream",
     "text": [
      "Passed sanity check: expr matches stored_expr\n"
     ]
    }
   ],
   "source": [
    "# check that the built expression is the same as the stored expression\n",
    "assert expr == stored_expr\n",
    "assert expr._style_id == stored_expr._style_id\n",
    "print(\"Passed sanity check: expr matches stored_expr\")"
   ]
  },
  {
   "cell_type": "code",
   "execution_count": 4,
   "metadata": {},
   "outputs": [
    {
     "name": "stdout",
     "output_type": "stream",
     "text": [
      "\\left(\\left(\\mathcal{H}, X\\right) \\mapsto \\left\\{\\forall_{\\lvert \\psi \\rangle \\in X}~\\left[\\forall_{\\varphi~|~\\lvert \\varphi \\rangle \\in \\mathcal{H}}~\\left(\\left(\\lvert \\psi \\rangle \\thinspace \\langle \\varphi \\rvert\\right) = \\left[\\lvert v \\rangle \\mapsto \\left\\{\\left(\\langle \\varphi \\rvert \\thinspace \\lvert v \\rangle\\right) \\cdot \\lvert \\psi \\rangle \\textrm{ if } \\lvert v \\rangle \\in \\mathcal{H}\\right..\\right]\\right)\\right] \\textrm{ if } \\mathcal{H} \\underset{{\\scriptscriptstyle c}}{\\in} \\textrm{HilbertSpaces} ,  X \\underset{{\\scriptscriptstyle c}}{\\in} \\textrm{HilbertSpaces}\\right..\\right)\n"
     ]
    }
   ],
   "source": [
    "# Show the LaTeX representation of the expression for convenience if you need it.\n",
    "print(stored_expr.latex())"
   ]
  },
  {
   "cell_type": "code",
   "execution_count": 5,
   "metadata": {},
   "outputs": [
    {
     "data": {
      "text/html": [
       "no style options"
      ],
      "text/plain": [
       "no style options"
      ]
     },
     "metadata": {},
     "output_type": "display_data"
    }
   ],
   "source": [
    "stored_expr.style_options()"
   ]
  },
  {
   "cell_type": "code",
   "execution_count": 6,
   "metadata": {},
   "outputs": [
    {
     "data": {
      "text/html": [
       "<table><tr><th>&nbsp;</th><th>core type</th><th>sub-expressions</th><th>expression</th></tr>\n",
       "<tr><td>0</td><td>ExprTuple</td><td>1</td><td><a class=\"ProveItLink\" href=\"expr.ipynb\"><img src=\"expr.png\" style=\"display:inline;vertical-align:middle;\" /></a></td></tr>\n",
       "<tr><td>1</td><td>Lambda</td><td>parameters:&nbsp;2<br>body:&nbsp;3<br></td><td><a class=\"ProveItLink\" href=\"../2440017f31a8fedada49628d95bd073c88872ed60/expr.ipynb\"><img src=\"../2440017f31a8fedada49628d95bd073c88872ed60/expr.png\" style=\"display:inline;vertical-align:middle;\" /></a></td></tr>\n",
       "<tr><td>2</td><td>ExprTuple</td><td>46, 24</td><td><a class=\"ProveItLink\" href=\"../8e7e6f28bc2d529b8d61f74929566839b8a3cd1a0/expr.ipynb\"><img src=\"../8e7e6f28bc2d529b8d61f74929566839b8a3cd1a0/expr.png\" style=\"display:inline;vertical-align:middle;\" /></a></td></tr>\n",
       "<tr><td>3</td><td>Conditional</td><td>value:&nbsp;4<br>condition:&nbsp;5<br></td><td><a class=\"ProveItLink\" href=\"../64c85fc36f83558ebb855af51b101fc76fc4374e0/expr.ipynb\"><img src=\"../64c85fc36f83558ebb855af51b101fc76fc4374e0/expr.png\" style=\"display:inline;vertical-align:middle;\" /></a></td></tr>\n",
       "<tr><td>4</td><td>Operation</td><td>operator:&nbsp;20<br>operand:&nbsp;9<br></td><td><a class=\"ProveItLink\" href=\"../7de959f0267aad47d71ea54ba093aac12bb191160/expr.ipynb\"><img src=\"../7de959f0267aad47d71ea54ba093aac12bb191160/expr.png\" style=\"display:inline;vertical-align:middle;\" /></a></td></tr>\n",
       "<tr><td>5</td><td>Operation</td><td>operator:&nbsp;7<br>operands:&nbsp;8<br></td><td><a class=\"ProveItLink\" href=\"../4afa8487d9d5079fc542a110a0bfa712545923ce0/expr.ipynb\"><img src=\"../4afa8487d9d5079fc542a110a0bfa712545923ce0/expr.png\" style=\"display:inline;vertical-align:middle;\" /></a></td></tr>\n",
       "<tr><td>6</td><td>ExprTuple</td><td>9</td><td><a class=\"ProveItLink\" href=\"../441d2a267040303cfea80817dc52df7e9accdc690/expr.ipynb\"><img src=\"../441d2a267040303cfea80817dc52df7e9accdc690/expr.png\" style=\"display:inline;vertical-align:middle;\" /></a></td></tr>\n",
       "<tr><td>7</td><td>Literal</td><td></td><td><a class=\"ProveItLink\" href=\"../../../../../../logic/booleans/conjunction/__pv_it/common/42118ff318bd65d98b1393f64ce7c2269feef76e0/expr.ipynb\"><img src=\"../../../../../../logic/booleans/conjunction/__pv_it/common/42118ff318bd65d98b1393f64ce7c2269feef76e0/expr.png\" style=\"display:inline;vertical-align:middle;\" /></a></td></tr>\n",
       "<tr><td>8</td><td>ExprTuple</td><td>10, 11</td><td><a class=\"ProveItLink\" href=\"../9c696caba049a6bc8331bb142b9d3b9f6f494c3a0/expr.ipynb\"><img src=\"../9c696caba049a6bc8331bb142b9d3b9f6f494c3a0/expr.png\" style=\"display:inline;vertical-align:middle;\" /></a></td></tr>\n",
       "<tr><td>9</td><td>Lambda</td><td>parameter:&nbsp;45<br>body:&nbsp;13<br></td><td><a class=\"ProveItLink\" href=\"../d8d2f5d934ca354d66d458135a737128ec53ce090/expr.ipynb\"><img src=\"../d8d2f5d934ca354d66d458135a737128ec53ce090/expr.png\" style=\"display:inline;vertical-align:middle;\" /></a></td></tr>\n",
       "<tr><td>10</td><td>Operation</td><td>operator:&nbsp;15<br>operands:&nbsp;14<br></td><td><a class=\"ProveItLink\" href=\"../31d4094b2894fdb2d15795fed222b1eb5c7ff5bc0/expr.ipynb\"><img src=\"../31d4094b2894fdb2d15795fed222b1eb5c7ff5bc0/expr.png\" style=\"display:inline;vertical-align:middle;\" /></a></td></tr>\n",
       "<tr><td>11</td><td>Operation</td><td>operator:&nbsp;15<br>operands:&nbsp;16<br></td><td><a class=\"ProveItLink\" href=\"../b43dcc22027be8fd048b25799a7ab0f36727ab830/expr.ipynb\"><img src=\"../b43dcc22027be8fd048b25799a7ab0f36727ab830/expr.png\" style=\"display:inline;vertical-align:middle;\" /></a></td></tr>\n",
       "<tr><td>12</td><td>ExprTuple</td><td>45</td><td><a class=\"ProveItLink\" href=\"../80ed9bf14a6ef50aaa4da94b0dbfb5b44f09ae9c0/expr.ipynb\"><img src=\"../80ed9bf14a6ef50aaa4da94b0dbfb5b44f09ae9c0/expr.png\" style=\"display:inline;vertical-align:middle;\" /></a></td></tr>\n",
       "<tr><td>13</td><td>Conditional</td><td>value:&nbsp;17<br>condition:&nbsp;18<br></td><td><a class=\"ProveItLink\" href=\"../4db813480af3e57c6d310bc656dfb552d8f6c7e50/expr.ipynb\"><img src=\"../4db813480af3e57c6d310bc656dfb552d8f6c7e50/expr.png\" style=\"display:inline;vertical-align:middle;\" /></a></td></tr>\n",
       "<tr><td>14</td><td>ExprTuple</td><td>46, 19</td><td><a class=\"ProveItLink\" href=\"../8dd6744fe0111d3e5e6b1ce629b4848eb233fd690/expr.ipynb\"><img src=\"../8dd6744fe0111d3e5e6b1ce629b4848eb233fd690/expr.png\" style=\"display:inline;vertical-align:middle;\" /></a></td></tr>\n",
       "<tr><td>15</td><td>Literal</td><td></td><td><a class=\"ProveItLink\" href=\"../../../../../../logic/classes/membership/__pv_it/common/e3b437d28fbe17f0a50c9789c7c9b47a1270f1420/expr.ipynb\"><img src=\"../../../../../../logic/classes/membership/__pv_it/common/e3b437d28fbe17f0a50c9789c7c9b47a1270f1420/expr.png\" style=\"display:inline;vertical-align:middle;\" /></a></td></tr>\n",
       "<tr><td>16</td><td>ExprTuple</td><td>24, 19</td><td><a class=\"ProveItLink\" href=\"../e31703fc6f60ac02786a06dda15ce3bf7eac18990/expr.ipynb\"><img src=\"../e31703fc6f60ac02786a06dda15ce3bf7eac18990/expr.png\" style=\"display:inline;vertical-align:middle;\" /></a></td></tr>\n",
       "<tr><td>17</td><td>Operation</td><td>operator:&nbsp;20<br>operand:&nbsp;23<br></td><td><a class=\"ProveItLink\" href=\"../acfb6d2d956a3e278b79faedcd598a14c701ab110/expr.ipynb\"><img src=\"../acfb6d2d956a3e278b79faedcd598a14c701ab110/expr.png\" style=\"display:inline;vertical-align:middle;\" /></a></td></tr>\n",
       "<tr><td>18</td><td>Operation</td><td>operator:&nbsp;42<br>operands:&nbsp;22<br></td><td><a class=\"ProveItLink\" href=\"../afcc8fe08d1aad7c82f0d99971e2cad14d36d77d0/expr.ipynb\"><img src=\"../afcc8fe08d1aad7c82f0d99971e2cad14d36d77d0/expr.png\" style=\"display:inline;vertical-align:middle;\" /></a></td></tr>\n",
       "<tr><td>19</td><td>Literal</td><td></td><td><a class=\"ProveItLink\" href=\"../../../../../../linear_algebra/inner_products/__pv_it/common/63495bb81132197a40ba1811088142655bc8cabd0/expr.ipynb\"><img src=\"../../../../../../linear_algebra/inner_products/__pv_it/common/63495bb81132197a40ba1811088142655bc8cabd0/expr.png\" style=\"display:inline;vertical-align:middle;\" /></a></td></tr>\n",
       "<tr><td>20</td><td>Literal</td><td></td><td><a class=\"ProveItLink\" href=\"../../../../../../logic/booleans/quantification/universality/__pv_it/common/083d2baa0b8ecab1d230f9ec29a15aa1355809fb0/expr.ipynb\"><img src=\"../../../../../../logic/booleans/quantification/universality/__pv_it/common/083d2baa0b8ecab1d230f9ec29a15aa1355809fb0/expr.png\" style=\"display:inline;vertical-align:middle;\" /></a></td></tr>\n",
       "<tr><td>21</td><td>ExprTuple</td><td>23</td><td><a class=\"ProveItLink\" href=\"../99accf7a4174c454108cbb3a9407ff6d7a4e4da10/expr.ipynb\"><img src=\"../99accf7a4174c454108cbb3a9407ff6d7a4e4da10/expr.png\" style=\"display:inline;vertical-align:middle;\" /></a></td></tr>\n",
       "<tr><td>22</td><td>ExprTuple</td><td>45, 24</td><td><a class=\"ProveItLink\" href=\"../19675603d12a798b8751f01c25da9b19d234839f0/expr.ipynb\"><img src=\"../19675603d12a798b8751f01c25da9b19d234839f0/expr.png\" style=\"display:inline;vertical-align:middle;\" /></a></td></tr>\n",
       "<tr><td>23</td><td>Lambda</td><td>parameter:&nbsp;53<br>body:&nbsp;25<br></td><td><a class=\"ProveItLink\" href=\"../3d935c08fd1b6cb611e137cb29502403299c48940/expr.ipynb\"><img src=\"../3d935c08fd1b6cb611e137cb29502403299c48940/expr.png\" style=\"display:inline;vertical-align:middle;\" /></a></td></tr>\n",
       "<tr><td>24</td><td>Variable</td><td></td><td><a class=\"ProveItLink\" href=\"../../../../../../__pv_it/common/f1ca094affb79f5011ff4d63eb4e121bfbde7f330/expr.ipynb\"><img src=\"../../../../../../__pv_it/common/f1ca094affb79f5011ff4d63eb4e121bfbde7f330/expr.png\" style=\"display:inline;vertical-align:middle;\" /></a></td></tr>\n",
       "<tr><td>25</td><td>Conditional</td><td>value:&nbsp;26<br>condition:&nbsp;27<br></td><td><a class=\"ProveItLink\" href=\"../5f69b7df7297b2708acf668c80cdfb47c11bb50b0/expr.ipynb\"><img src=\"../5f69b7df7297b2708acf668c80cdfb47c11bb50b0/expr.png\" style=\"display:inline;vertical-align:middle;\" /></a></td></tr>\n",
       "<tr><td>26</td><td>Operation</td><td>operator:&nbsp;28<br>operands:&nbsp;29<br></td><td><a class=\"ProveItLink\" href=\"../44ecb1d2da2baeab161e91e652d81c873b3f2b090/expr.ipynb\"><img src=\"../44ecb1d2da2baeab161e91e652d81c873b3f2b090/expr.png\" style=\"display:inline;vertical-align:middle;\" /></a></td></tr>\n",
       "<tr><td>27</td><td>Operation</td><td>operator:&nbsp;42<br>operands:&nbsp;30<br></td><td><a class=\"ProveItLink\" href=\"../61e98d3ee3707ae7b923f38ed21457f5caf7e5220/expr.ipynb\"><img src=\"../61e98d3ee3707ae7b923f38ed21457f5caf7e5220/expr.png\" style=\"display:inline;vertical-align:middle;\" /></a></td></tr>\n",
       "<tr><td>28</td><td>Literal</td><td></td><td><a class=\"ProveItLink\" href=\"../../../../../../logic/equality/__pv_it/common/fb96dc12b2aa8801dda64d0132b396c63d1502bb0/expr.ipynb\"><img src=\"../../../../../../logic/equality/__pv_it/common/fb96dc12b2aa8801dda64d0132b396c63d1502bb0/expr.png\" style=\"display:inline;vertical-align:middle;\" /></a></td></tr>\n",
       "<tr><td>29</td><td>ExprTuple</td><td>31, 32</td><td><a class=\"ProveItLink\" href=\"../ded152f224881432a3fc3f589fb394d50327fc400/expr.ipynb\"><img src=\"../ded152f224881432a3fc3f589fb394d50327fc400/expr.png\" style=\"display:inline;vertical-align:middle;\" /></a></td></tr>\n",
       "<tr><td>30</td><td>ExprTuple</td><td>33, 46</td><td><a class=\"ProveItLink\" href=\"../40a22b116c19bf050f1472721bd918611d5600f50/expr.ipynb\"><img src=\"../40a22b116c19bf050f1472721bd918611d5600f50/expr.png\" style=\"display:inline;vertical-align:middle;\" /></a></td></tr>\n",
       "<tr><td>31</td><td>Operation</td><td>operator:&nbsp;47<br>operands:&nbsp;34<br></td><td><a class=\"ProveItLink\" href=\"../a0653f027822af5f95d3156a10b942703a0880400/expr.ipynb\"><img src=\"../a0653f027822af5f95d3156a10b942703a0880400/expr.png\" style=\"display:inline;vertical-align:middle;\" /></a></td></tr>\n",
       "<tr><td>32</td><td>Lambda</td><td>parameter:&nbsp;50<br>body:&nbsp;36<br></td><td><a class=\"ProveItLink\" href=\"../beaa175dc4a430fefadefadf61527eba4fd37fc30/expr.ipynb\"><img src=\"../beaa175dc4a430fefadefadf61527eba4fd37fc30/expr.png\" style=\"display:inline;vertical-align:middle;\" /></a></td></tr>\n",
       "<tr><td>33</td><td>Operation</td><td>operator:&nbsp;37<br>operand:&nbsp;53<br></td><td><a class=\"ProveItLink\" href=\"../../../../__pv_it/common/c9a1043629ff97823c162335c02491b28faa23df0/expr.ipynb\"><img src=\"../../../../__pv_it/common/c9a1043629ff97823c162335c02491b28faa23df0/expr.png\" style=\"display:inline;vertical-align:middle;\" /></a></td></tr>\n",
       "<tr><td>34</td><td>ExprTuple</td><td>45, 49</td><td><a class=\"ProveItLink\" href=\"../bffbc0a1294ffde1603bbb08dde4234c339ee6a30/expr.ipynb\"><img src=\"../bffbc0a1294ffde1603bbb08dde4234c339ee6a30/expr.png\" style=\"display:inline;vertical-align:middle;\" /></a></td></tr>\n",
       "<tr><td>35</td><td>ExprTuple</td><td>50</td><td><a class=\"ProveItLink\" href=\"../496a6d3536a6d630b2fee5031fda9842b9d5eb190/expr.ipynb\"><img src=\"../496a6d3536a6d630b2fee5031fda9842b9d5eb190/expr.png\" style=\"display:inline;vertical-align:middle;\" /></a></td></tr>\n",
       "<tr><td>36</td><td>Conditional</td><td>value:&nbsp;38<br>condition:&nbsp;39<br></td><td><a class=\"ProveItLink\" href=\"../c369e9b1fa1292bdb7aa7026f0a8ab030a43acf00/expr.ipynb\"><img src=\"../c369e9b1fa1292bdb7aa7026f0a8ab030a43acf00/expr.png\" style=\"display:inline;vertical-align:middle;\" /></a></td></tr>\n",
       "<tr><td>37</td><td>Literal</td><td></td><td><a class=\"ProveItLink\" href=\"../../common/e3872951fe05b26090372918594af92cac779e280/expr.ipynb\"><img src=\"../../common/e3872951fe05b26090372918594af92cac779e280/expr.png\" style=\"display:inline;vertical-align:middle;\" /></a></td></tr>\n",
       "<tr><td>38</td><td>Operation</td><td>operator:&nbsp;40<br>operands:&nbsp;41<br></td><td><a class=\"ProveItLink\" href=\"../8af40cb6da76bbea8be10c90576ce4e6955e39430/expr.ipynb\"><img src=\"../8af40cb6da76bbea8be10c90576ce4e6955e39430/expr.png\" style=\"display:inline;vertical-align:middle;\" /></a></td></tr>\n",
       "<tr><td>39</td><td>Operation</td><td>operator:&nbsp;42<br>operands:&nbsp;43<br></td><td><a class=\"ProveItLink\" href=\"../43164da814fb131dc585b18138579fd9602ea2e00/expr.ipynb\"><img src=\"../43164da814fb131dc585b18138579fd9602ea2e00/expr.png\" style=\"display:inline;vertical-align:middle;\" /></a></td></tr>\n",
       "<tr><td>40</td><td>Literal</td><td></td><td><a class=\"ProveItLink\" href=\"../../../../../../linear_algebra/scalar_multiplication/__pv_it/common/1e364bd471e6a29fcd358dd2d9cd990a1e6fedd40/expr.ipynb\"><img src=\"../../../../../../linear_algebra/scalar_multiplication/__pv_it/common/1e364bd471e6a29fcd358dd2d9cd990a1e6fedd40/expr.png\" style=\"display:inline;vertical-align:middle;\" /></a></td></tr>\n",
       "<tr><td>41</td><td>ExprTuple</td><td>44, 45</td><td><a class=\"ProveItLink\" href=\"../498e8ba75a509c86b8757a2bece0fb381933b0530/expr.ipynb\"><img src=\"../498e8ba75a509c86b8757a2bece0fb381933b0530/expr.png\" style=\"display:inline;vertical-align:middle;\" /></a></td></tr>\n",
       "<tr><td>42</td><td>Literal</td><td></td><td><a class=\"ProveItLink\" href=\"../../../../../../logic/sets/membership/__pv_it/common/477487d8796864d23d5810f83761435f25167f690/expr.ipynb\"><img src=\"../../../../../../logic/sets/membership/__pv_it/common/477487d8796864d23d5810f83761435f25167f690/expr.png\" style=\"display:inline;vertical-align:middle;\" /></a></td></tr>\n",
       "<tr><td>43</td><td>ExprTuple</td><td>50, 46</td><td><a class=\"ProveItLink\" href=\"../a41a2ce29361a67ea17186f5a9415180745ca8bf0/expr.ipynb\"><img src=\"../a41a2ce29361a67ea17186f5a9415180745ca8bf0/expr.png\" style=\"display:inline;vertical-align:middle;\" /></a></td></tr>\n",
       "<tr><td>44</td><td>Operation</td><td>operator:&nbsp;47<br>operands:&nbsp;48<br></td><td><a class=\"ProveItLink\" href=\"../b19fd1d2d73570d219d2c482439a2164523cb1ff0/expr.ipynb\"><img src=\"../b19fd1d2d73570d219d2c482439a2164523cb1ff0/expr.png\" style=\"display:inline;vertical-align:middle;\" /></a></td></tr>\n",
       "<tr><td>45</td><td>Variable</td><td></td><td><a class=\"ProveItLink\" href=\"../../../../__pv_it/common/798a4b85c58eead0b86ebff17277cd7c4a79a3160/expr.ipynb\"><img src=\"../../../../__pv_it/common/798a4b85c58eead0b86ebff17277cd7c4a79a3160/expr.png\" style=\"display:inline;vertical-align:middle;\" /></a></td></tr>\n",
       "<tr><td>46</td><td>Variable</td><td></td><td><a class=\"ProveItLink\" href=\"../../../../../../linear_algebra/inner_products/__pv_it/common/0a298dc12c549b5fdc96454972e9674c7dbf104f0/expr.ipynb\"><img src=\"../../../../../../linear_algebra/inner_products/__pv_it/common/0a298dc12c549b5fdc96454972e9674c7dbf104f0/expr.png\" style=\"display:inline;vertical-align:middle;\" /></a></td></tr>\n",
       "<tr><td>47</td><td>Literal</td><td></td><td><a class=\"ProveItLink\" href=\"../../common/2972e0deb52c96565b39f905d407d7302ae287580/expr.ipynb\"><img src=\"../../common/2972e0deb52c96565b39f905d407d7302ae287580/expr.png\" style=\"display:inline;vertical-align:middle;\" /></a></td></tr>\n",
       "<tr><td>48</td><td>ExprTuple</td><td>49, 50</td><td><a class=\"ProveItLink\" href=\"../27d08f6ba8bf1fd08a68b60c3ab858dc47e4d6610/expr.ipynb\"><img src=\"../27d08f6ba8bf1fd08a68b60c3ab858dc47e4d6610/expr.png\" style=\"display:inline;vertical-align:middle;\" /></a></td></tr>\n",
       "<tr><td>49</td><td>Operation</td><td>operator:&nbsp;51<br>operand:&nbsp;53<br></td><td><a class=\"ProveItLink\" href=\"../../../../__pv_it/common/1c3613f29e51fee59dc4396d8f9530ed1869cf290/expr.ipynb\"><img src=\"../../../../__pv_it/common/1c3613f29e51fee59dc4396d8f9530ed1869cf290/expr.png\" style=\"display:inline;vertical-align:middle;\" /></a></td></tr>\n",
       "<tr><td>50</td><td>Variable</td><td></td><td><a class=\"ProveItLink\" href=\"../../../../__pv_it/common/4a4e4b6201c337502c2aae379d189f8e94b5ef7a0/expr.ipynb\"><img src=\"../../../../__pv_it/common/4a4e4b6201c337502c2aae379d189f8e94b5ef7a0/expr.png\" style=\"display:inline;vertical-align:middle;\" /></a></td></tr>\n",
       "<tr><td>51</td><td>Literal</td><td></td><td><a class=\"ProveItLink\" href=\"../../common/3123474674911507d272713eb0a3f543c87b57ba0/expr.ipynb\"><img src=\"../../common/3123474674911507d272713eb0a3f543c87b57ba0/expr.png\" style=\"display:inline;vertical-align:middle;\" /></a></td></tr>\n",
       "<tr><td>52</td><td>ExprTuple</td><td>53</td><td><a class=\"ProveItLink\" href=\"../../../../__pv_it/common/01a9ba963790206039a68d1305bb5070dd137de10/expr.ipynb\"><img src=\"../../../../__pv_it/common/01a9ba963790206039a68d1305bb5070dd137de10/expr.png\" style=\"display:inline;vertical-align:middle;\" /></a></td></tr>\n",
       "<tr><td>53</td><td>Variable</td><td></td><td><a class=\"ProveItLink\" href=\"../../../../__pv_it/common/eff3454ef41960bf5bb736e8ee0e81bb07107e080/expr.ipynb\"><img src=\"../../../../__pv_it/common/eff3454ef41960bf5bb736e8ee0e81bb07107e080/expr.png\" style=\"display:inline;vertical-align:middle;\" /></a></td></tr>\n",
       "</table>\n"
      ],
      "text/plain": [
       "0. ((H, X) -> {forall_{|psi> in X} [forall_{varphi | |varphi〉 in H} ((|psi> . 〈varphi|) = [|v> -> {(〈varphi| . |v>) * |psi> if |v> in H.])] if H in_c HilbertSpaces ,  X in_c HilbertSpaces.)\n",
       "   core type: ExprTuple\n",
       "   sub-expressions: 1\n",
       "1. (H, X) -> {forall_{|psi> in X} [forall_{varphi | |varphi〉 in H} ((|psi> . 〈varphi|) = [|v> -> {(〈varphi| . |v>) * |psi> if |v> in H.])] if H in_c HilbertSpaces ,  X in_c HilbertSpaces.\n",
       "   core type: Lambda\n",
       "   parameters: 2\\n   body: 3\n",
       "2. (H, X)\n",
       "   core type: ExprTuple\n",
       "   sub-expressions: 46, 24\n",
       "3. {forall_{|psi> in X} [forall_{varphi | |varphi〉 in H} ((|psi> . 〈varphi|) = [|v> -> {(〈varphi| . |v>) * |psi> if |v> in H.])] if H in_c HilbertSpaces ,  X in_c HilbertSpaces.\n",
       "   core type: Conditional\n",
       "   value: 4\n",
       "   condition: 5\n",
       "4. forall_{|psi> in X} [forall_{varphi | |varphi〉 in H} ((|psi> . 〈varphi|) = [|v> -> {(〈varphi| . |v>) * |psi> if |v> in H.])]\n",
       "   core type: Operation\n",
       "   operator: 20\n",
       "   operand: 9\n",
       "5. (H in_c HilbertSpaces) and (X in_c HilbertSpaces)\n",
       "   core type: Operation\n",
       "   operator: 7\n",
       "   operands: 8\n",
       "6. (|psi> -> {forall_{varphi | |varphi〉 in H} ((|psi> . 〈varphi|) = [|v> -> {(〈varphi| . |v>) * |psi> if |v> in H.]) if |psi> in X.)\n",
       "   core type: ExprTuple\n",
       "   sub-expressions: 9\n",
       "7. and\n",
       "   core type: Literal\n",
       "   sub-expressions: \n",
       "8. (H in_c HilbertSpaces, X in_c HilbertSpaces)\n",
       "   core type: ExprTuple\n",
       "   sub-expressions: 10, 11\n",
       "9. |psi> -> {forall_{varphi | |varphi〉 in H} ((|psi> . 〈varphi|) = [|v> -> {(〈varphi| . |v>) * |psi> if |v> in H.]) if |psi> in X.\n",
       "   core type: Lambda\n",
       "   parameter: 45\n",
       "   body: 13\n",
       "10. H in_c HilbertSpaces\n",
       "    core type: Operation\n",
       "    operator: 15\n",
       "    operands: 14\n",
       "11. X in_c HilbertSpaces\n",
       "    core type: Operation\n",
       "    operator: 15\n",
       "    operands: 16\n",
       "12. (|psi>)\n",
       "    core type: ExprTuple\n",
       "    sub-expressions: 45\n",
       "13. {forall_{varphi | |varphi〉 in H} ((|psi> . 〈varphi|) = [|v> -> {(〈varphi| . |v>) * |psi> if |v> in H.]) if |psi> in X.\n",
       "    core type: Conditional\n",
       "    value: 17\n",
       "    condition: 18\n",
       "14. (H, HilbertSpaces)\n",
       "    core type: ExprTuple\n",
       "    sub-expressions: 46, 19\n",
       "15. in_c\n",
       "    core type: Literal\n",
       "    sub-expressions: \n",
       "16. (X, HilbertSpaces)\n",
       "    core type: ExprTuple\n",
       "    sub-expressions: 24, 19\n",
       "17. forall_{varphi | |varphi〉 in H} ((|psi> . 〈varphi|) = [|v> -> {(〈varphi| . |v>) * |psi> if |v> in H.])\n",
       "    core type: Operation\n",
       "    operator: 20\n",
       "    operand: 23\n",
       "18. |psi> in X\n",
       "    core type: Operation\n",
       "    operator: 42\n",
       "    operands: 22\n",
       "19. HilbertSpaces\n",
       "    core type: Literal\n",
       "    sub-expressions: \n",
       "20. forall\n",
       "    core type: Literal\n",
       "    sub-expressions: \n",
       "21. (varphi -> {(|psi> . 〈varphi|) = [|v> -> {(〈varphi| . |v>) * |psi> if |v> in H.] if |varphi〉 in H.)\n",
       "    core type: ExprTuple\n",
       "    sub-expressions: 23\n",
       "22. (|psi>, X)\n",
       "    core type: ExprTuple\n",
       "    sub-expressions: 45, 24\n",
       "23. varphi -> {(|psi> . 〈varphi|) = [|v> -> {(〈varphi| . |v>) * |psi> if |v> in H.] if |varphi〉 in H.\n",
       "    core type: Lambda\n",
       "    parameter: 53\n",
       "    body: 25\n",
       "24. X\n",
       "    core type: Variable\n",
       "    sub-expressions: \n",
       "25. {(|psi> . 〈varphi|) = [|v> -> {(〈varphi| . |v>) * |psi> if |v> in H.] if |varphi〉 in H.\n",
       "    core type: Conditional\n",
       "    value: 26\n",
       "    condition: 27\n",
       "26. (|psi> . 〈varphi|) = [|v> -> {(〈varphi| . |v>) * |psi> if |v> in H.]\n",
       "    core type: Operation\n",
       "    operator: 28\n",
       "    operands: 29\n",
       "27. |varphi〉 in H\n",
       "    core type: Operation\n",
       "    operator: 42\n",
       "    operands: 30\n",
       "28. =\n",
       "    core type: Literal\n",
       "    sub-expressions: \n",
       "29. (|psi> . 〈varphi|, |v> -> {(〈varphi| . |v>) * |psi> if |v> in H.)\n",
       "    core type: ExprTuple\n",
       "    sub-expressions: 31, 32\n",
       "30. (|varphi〉, H)\n",
       "    core type: ExprTuple\n",
       "    sub-expressions: 33, 46\n",
       "31. |psi> . 〈varphi|\n",
       "    core type: Operation\n",
       "    operator: 47\n",
       "    operands: 34\n",
       "32. |v> -> {(〈varphi| . |v>) * |psi> if |v> in H.\n",
       "    core type: Lambda\n",
       "    parameter: 50\n",
       "    body: 36\n",
       "33. |varphi〉\n",
       "    core type: Operation\n",
       "    operator: 37\n",
       "    operand: 53\n",
       "34. (|psi>, 〈varphi|)\n",
       "    core type: ExprTuple\n",
       "    sub-expressions: 45, 49\n",
       "35. (|v>)\n",
       "    core type: ExprTuple\n",
       "    sub-expressions: 50\n",
       "36. {(〈varphi| . |v>) * |psi> if |v> in H.\n",
       "    core type: Conditional\n",
       "    value: 38\n",
       "    condition: 39\n",
       "37. KET\n",
       "    core type: Literal\n",
       "    sub-expressions: \n",
       "38. (〈varphi| . |v>) * |psi>\n",
       "    core type: Operation\n",
       "    operator: 40\n",
       "    operands: 41\n",
       "39. |v> in H\n",
       "    core type: Operation\n",
       "    operator: 42\n",
       "    operands: 43\n",
       "40. *\n",
       "    core type: Literal\n",
       "    sub-expressions: \n",
       "41. (〈varphi| . |v>, |psi>)\n",
       "    core type: ExprTuple\n",
       "    sub-expressions: 44, 45\n",
       "42. in\n",
       "    core type: Literal\n",
       "    sub-expressions: \n",
       "43. (|v>, H)\n",
       "    core type: ExprTuple\n",
       "    sub-expressions: 50, 46\n",
       "44. 〈varphi| . |v>\n",
       "    core type: Operation\n",
       "    operator: 47\n",
       "    operands: 48\n",
       "45. |psi>\n",
       "    core type: Variable\n",
       "    sub-expressions: \n",
       "46. H\n",
       "    core type: Variable\n",
       "    sub-expressions: \n",
       "47. .\n",
       "    core type: Literal\n",
       "    sub-expressions: \n",
       "48. (〈varphi|, |v>)\n",
       "    core type: ExprTuple\n",
       "    sub-expressions: 49, 50\n",
       "49. 〈varphi|\n",
       "    core type: Operation\n",
       "    operator: 51\n",
       "    operand: 53\n",
       "50. |v>\n",
       "    core type: Variable\n",
       "    sub-expressions: \n",
       "51. BRA\n",
       "    core type: Literal\n",
       "    sub-expressions: \n",
       "52. (varphi)\n",
       "    core type: ExprTuple\n",
       "    sub-expressions: 53\n",
       "53. varphi\n",
       "    core type: Variable\n",
       "    sub-expressions: "
      ]
     },
     "metadata": {},
     "output_type": "display_data"
    }
   ],
   "source": [
    "# display the expression information\n",
    "stored_expr.expr_info()"
   ]
  },
  {
   "cell_type": "code",
   "execution_count": null,
   "metadata": {},
   "outputs": [],
   "source": []
  }
 ],
 "metadata": {
  "kernelspec": {
   "display_name": "Python 3",
   "language": "python",
   "name": "python3"
  }
 },
 "nbformat": 4,
 "nbformat_minor": 0
}