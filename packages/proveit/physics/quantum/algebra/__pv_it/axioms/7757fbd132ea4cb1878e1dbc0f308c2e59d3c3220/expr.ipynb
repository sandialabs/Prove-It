{
 "cells": [
  {
   "cell_type": "markdown",
   "metadata": {},
   "source": [
    "Expression of type <a class=\"ProveItLink\" href=\"../../../../../../../../doc/html/api/proveit.ExprTuple.html\">ExprTuple</a>\n",
    "=======================\n",
    "# from the theory of <a class=\"ProveItLink\" href=\"../../../_theory_nbs_/theory.ipynb\">proveit.physics.quantum.algebra</a>"
   ]
  },
  {
   "cell_type": "code",
   "execution_count": 1,
   "metadata": {},
   "outputs": [],
   "source": [
    "import proveit\n",
    "# Automation is not needed when building an expression:\n",
    "proveit.defaults.automation = False # This will speed things up.\n",
    "proveit.defaults.inline_pngs = False # Makes files smaller.\n",
    "%load_expr # Load the stored expression as 'stored_expr'\n",
    "# import Expression classes needed to build the expression\n",
    "from proveit import A, B, Conditional, ExprTuple, Lambda, X, Y\n",
    "from proveit.linear_algebra import HilbertSpaces, Hspace, LinMap\n",
    "from proveit.logic import Exists, InClass, InSet, Set\n",
    "from proveit.numbers import Complex\n",
    "from proveit.physics.quantum import Qmult, QmultCodomain"
   ]
  },
  {
   "cell_type": "code",
   "execution_count": 2,
   "metadata": {},
   "outputs": [
    {
     "data": {
      "text/html": [
       "<strong id=\"expr\">expr:</strong> <a class=\"ProveItLink\" href=\"expr.ipynb\"><img src=\"expr.png\" style=\"display:inline;vertical-align:middle;\" /></a><br>"
      ],
      "text/plain": [
       "<IPython.core.display.HTML object>"
      ]
     },
     "metadata": {},
     "output_type": "display_data"
    }
   ],
   "source": [
    "# build up the expression from sub-expressions\n",
    "sub_expr1 = LinMap(Hspace, X)\n",
    "expr = ExprTuple(Lambda([A, B], Conditional(Exists(instance_param_or_params = [Hspace, X, Y], instance_expr = InSet([Qmult(A), Qmult(B)], Set([sub_expr1, Hspace], [X, LinMap(Hspace, Complex)], [LinMap(X, Y), sub_expr1], [Complex, QmultCodomain], [QmultCodomain, Complex])), domain = HilbertSpaces), InClass(Qmult(A, B), QmultCodomain))))"
   ]
  },
  {
   "cell_type": "code",
   "execution_count": 3,
   "metadata": {},
   "outputs": [
    {
     "name": "stdout",
     "output_type": "stream",
     "text": [
      "Passed sanity check: expr matches stored_expr\n"
     ]
    }
   ],
   "source": [
    "# check that the built expression is the same as the stored expression\n",
    "assert expr == stored_expr\n",
    "assert expr._style_id == stored_expr._style_id\n",
    "print(\"Passed sanity check: expr matches stored_expr\")"
   ]
  },
  {
   "cell_type": "code",
   "execution_count": 4,
   "metadata": {},
   "outputs": [
    {
     "name": "stdout",
     "output_type": "stream",
     "text": [
      "\\left(\\left(A, B\\right) \\mapsto \\left\\{\\exists_{\\mathcal{H}, X, Y \\underset{{\\scriptscriptstyle c}}{\\in} \\textrm{HilbertSpaces}}~\\left(\\left(\\left[A\\right], \\left[B\\right]\\right) \\in \\left\\{\\left(\\mathcal{L}\\left(\\mathcal{H}, X\\right), \\mathcal{H}\\right), \\left(X, \\mathcal{L}\\left(\\mathcal{H}, \\mathbb{C}\\right)\\right), \\left(\\mathcal{L}\\left(X, Y\\right), \\mathcal{L}\\left(\\mathcal{H}, X\\right)\\right), \\left(\\mathbb{C}, \\mathcal{Q^*}\\right), \\left(\\mathcal{Q^*}, \\mathbb{C}\\right)\\right\\}\\right) \\textrm{ if } \\left(A \\thinspace B\\right) \\underset{{\\scriptscriptstyle c}}{\\in} \\mathcal{Q^*}\\right..\\right)\n"
     ]
    }
   ],
   "source": [
    "# Show the LaTeX representation of the expression for convenience if you need it.\n",
    "print(stored_expr.latex())"
   ]
  },
  {
   "cell_type": "code",
   "execution_count": 5,
   "metadata": {},
   "outputs": [
    {
     "data": {
      "text/html": [
       "no style options"
      ],
      "text/plain": [
       "no style options"
      ]
     },
     "metadata": {},
     "output_type": "display_data"
    }
   ],
   "source": [
    "stored_expr.style_options()"
   ]
  },
  {
   "cell_type": "code",
   "execution_count": 6,
   "metadata": {},
   "outputs": [
    {
     "data": {
      "text/html": [
       "<table><tr><th>&nbsp;</th><th>core type</th><th>sub-expressions</th><th>expression</th></tr>\n",
       "<tr><td>0</td><td>ExprTuple</td><td>1</td><td><a class=\"ProveItLink\" href=\"expr.ipynb\"><img src=\"expr.png\" style=\"display:inline;vertical-align:middle;\" /></a></td></tr>\n",
       "<tr><td>1</td><td>Lambda</td><td>parameters:&nbsp;12<br>body:&nbsp;2<br></td><td><a class=\"ProveItLink\" href=\"../d0089988fa31848fb910f891f46a89ef059eb0710/expr.ipynb\"><img src=\"../d0089988fa31848fb910f891f46a89ef059eb0710/expr.png\" style=\"display:inline;vertical-align:middle;\" /></a></td></tr>\n",
       "<tr><td>2</td><td>Conditional</td><td>value:&nbsp;3<br>condition:&nbsp;4<br></td><td><a class=\"ProveItLink\" href=\"../d98b554a58dfa10ca6441a54d894e90226fc2a5b0/expr.ipynb\"><img src=\"../d98b554a58dfa10ca6441a54d894e90226fc2a5b0/expr.png\" style=\"display:inline;vertical-align:middle;\" /></a></td></tr>\n",
       "<tr><td>3</td><td>Operation</td><td>operator:&nbsp;5<br>operand:&nbsp;8<br></td><td><a class=\"ProveItLink\" href=\"../0d0ce836fa662f1aa9e7319d7765ed1c3bf1c7d10/expr.ipynb\"><img src=\"../0d0ce836fa662f1aa9e7319d7765ed1c3bf1c7d10/expr.png\" style=\"display:inline;vertical-align:middle;\" /></a></td></tr>\n",
       "<tr><td>4</td><td>Operation</td><td>operator:&nbsp;30<br>operands:&nbsp;7<br></td><td><a class=\"ProveItLink\" href=\"../bfc1d1f2dfc49aebc7dd15cfb76ba5e764ccc9ac0/expr.ipynb\"><img src=\"../bfc1d1f2dfc49aebc7dd15cfb76ba5e764ccc9ac0/expr.png\" style=\"display:inline;vertical-align:middle;\" /></a></td></tr>\n",
       "<tr><td>5</td><td>Literal</td><td></td><td><a class=\"ProveItLink\" href=\"../../../../../../logic/booleans/quantification/existence/__pv_it/common/fedc3809ed9823aab11264c156786a59540352e70/expr.ipynb\"><img src=\"../../../../../../logic/booleans/quantification/existence/__pv_it/common/fedc3809ed9823aab11264c156786a59540352e70/expr.png\" style=\"display:inline;vertical-align:middle;\" /></a></td></tr>\n",
       "<tr><td>6</td><td>ExprTuple</td><td>8</td><td><a class=\"ProveItLink\" href=\"../4fb3696f4f42e66ae17e623f8ad6d6442ccdcd920/expr.ipynb\"><img src=\"../4fb3696f4f42e66ae17e623f8ad6d6442ccdcd920/expr.png\" style=\"display:inline;vertical-align:middle;\" /></a></td></tr>\n",
       "<tr><td>7</td><td>ExprTuple</td><td>9, 46</td><td><a class=\"ProveItLink\" href=\"../02f454b55cebe7156befa6c6c29bd84dfdff8ac20/expr.ipynb\"><img src=\"../02f454b55cebe7156befa6c6c29bd84dfdff8ac20/expr.png\" style=\"display:inline;vertical-align:middle;\" /></a></td></tr>\n",
       "<tr><td>8</td><td>Lambda</td><td>parameters:&nbsp;10<br>body:&nbsp;11<br></td><td><a class=\"ProveItLink\" href=\"../ba0c52adbd1c987fc7d166ef8f683f8cb363c9d80/expr.ipynb\"><img src=\"../ba0c52adbd1c987fc7d166ef8f683f8cb363c9d80/expr.png\" style=\"display:inline;vertical-align:middle;\" /></a></td></tr>\n",
       "<tr><td>9</td><td>Operation</td><td>operator:&nbsp;33<br>operands:&nbsp;12<br></td><td><a class=\"ProveItLink\" href=\"../1b5106646b3570c7ed6960535775c1f739cf0f090/expr.ipynb\"><img src=\"../1b5106646b3570c7ed6960535775c1f739cf0f090/expr.png\" style=\"display:inline;vertical-align:middle;\" /></a></td></tr>\n",
       "<tr><td>10</td><td>ExprTuple</td><td>53, 54, 52</td><td><a class=\"ProveItLink\" href=\"../8c4d2ee602e49a8c0b4fbe905a062b35d1f3502a0/expr.ipynb\"><img src=\"../8c4d2ee602e49a8c0b4fbe905a062b35d1f3502a0/expr.png\" style=\"display:inline;vertical-align:middle;\" /></a></td></tr>\n",
       "<tr><td>11</td><td>Conditional</td><td>value:&nbsp;13<br>condition:&nbsp;14<br></td><td><a class=\"ProveItLink\" href=\"../921d8b7a1aa02a5498ac69f6ef0acf56043c33230/expr.ipynb\"><img src=\"../921d8b7a1aa02a5498ac69f6ef0acf56043c33230/expr.png\" style=\"display:inline;vertical-align:middle;\" /></a></td></tr>\n",
       "<tr><td>12</td><td>ExprTuple</td><td>41, 42</td><td><a class=\"ProveItLink\" href=\"../e791ee87807ed43d7ac6262f8f70c4ffc8f24c940/expr.ipynb\"><img src=\"../e791ee87807ed43d7ac6262f8f70c4ffc8f24c940/expr.png\" style=\"display:inline;vertical-align:middle;\" /></a></td></tr>\n",
       "<tr><td>13</td><td>Operation</td><td>operator:&nbsp;15<br>operands:&nbsp;16<br></td><td><a class=\"ProveItLink\" href=\"../6595924dc57d6baaa2a633aec4e0e628380beeb10/expr.ipynb\"><img src=\"../6595924dc57d6baaa2a633aec4e0e628380beeb10/expr.png\" style=\"display:inline;vertical-align:middle;\" /></a></td></tr>\n",
       "<tr><td>14</td><td>Operation</td><td>operator:&nbsp;17<br>operands:&nbsp;18<br></td><td><a class=\"ProveItLink\" href=\"../46de02c03635f13f1504394015b2ac1eb3c529040/expr.ipynb\"><img src=\"../46de02c03635f13f1504394015b2ac1eb3c529040/expr.png\" style=\"display:inline;vertical-align:middle;\" /></a></td></tr>\n",
       "<tr><td>15</td><td>Literal</td><td></td><td><a class=\"ProveItLink\" href=\"../../../../../../logic/sets/membership/__pv_it/common/477487d8796864d23d5810f83761435f25167f690/expr.ipynb\"><img src=\"../../../../../../logic/sets/membership/__pv_it/common/477487d8796864d23d5810f83761435f25167f690/expr.png\" style=\"display:inline;vertical-align:middle;\" /></a></td></tr>\n",
       "<tr><td>16</td><td>ExprTuple</td><td>19, 20</td><td><a class=\"ProveItLink\" href=\"../be47eb871c38cb8d051699704157d192a926d3740/expr.ipynb\"><img src=\"../be47eb871c38cb8d051699704157d192a926d3740/expr.png\" style=\"display:inline;vertical-align:middle;\" /></a></td></tr>\n",
       "<tr><td>17</td><td>Literal</td><td></td><td><a class=\"ProveItLink\" href=\"../../../../../../logic/booleans/conjunction/__pv_it/common/42118ff318bd65d98b1393f64ce7c2269feef76e0/expr.ipynb\"><img src=\"../../../../../../logic/booleans/conjunction/__pv_it/common/42118ff318bd65d98b1393f64ce7c2269feef76e0/expr.png\" style=\"display:inline;vertical-align:middle;\" /></a></td></tr>\n",
       "<tr><td>18</td><td>ExprTuple</td><td>21, 22, 23</td><td><a class=\"ProveItLink\" href=\"../59335d6f23ec0429d9ca9a5fc7c252b8ccbd898c0/expr.ipynb\"><img src=\"../59335d6f23ec0429d9ca9a5fc7c252b8ccbd898c0/expr.png\" style=\"display:inline;vertical-align:middle;\" /></a></td></tr>\n",
       "<tr><td>19</td><td>ExprTuple</td><td>24, 25</td><td><a class=\"ProveItLink\" href=\"../9e4c24417416f8bf24c626f768792ac25f56ef990/expr.ipynb\"><img src=\"../9e4c24417416f8bf24c626f768792ac25f56ef990/expr.png\" style=\"display:inline;vertical-align:middle;\" /></a></td></tr>\n",
       "<tr><td>20</td><td>Operation</td><td>operator:&nbsp;26<br>operands:&nbsp;27<br></td><td><a class=\"ProveItLink\" href=\"../d4b8b97a9089bacf40c983d6efa7c5cf05adb9e50/expr.ipynb\"><img src=\"../d4b8b97a9089bacf40c983d6efa7c5cf05adb9e50/expr.png\" style=\"display:inline;vertical-align:middle;\" /></a></td></tr>\n",
       "<tr><td>21</td><td>Operation</td><td>operator:&nbsp;30<br>operands:&nbsp;28<br></td><td><a class=\"ProveItLink\" href=\"../31d4094b2894fdb2d15795fed222b1eb5c7ff5bc0/expr.ipynb\"><img src=\"../31d4094b2894fdb2d15795fed222b1eb5c7ff5bc0/expr.png\" style=\"display:inline;vertical-align:middle;\" /></a></td></tr>\n",
       "<tr><td>22</td><td>Operation</td><td>operator:&nbsp;30<br>operands:&nbsp;29<br></td><td><a class=\"ProveItLink\" href=\"../b43dcc22027be8fd048b25799a7ab0f36727ab830/expr.ipynb\"><img src=\"../b43dcc22027be8fd048b25799a7ab0f36727ab830/expr.png\" style=\"display:inline;vertical-align:middle;\" /></a></td></tr>\n",
       "<tr><td>23</td><td>Operation</td><td>operator:&nbsp;30<br>operands:&nbsp;31<br></td><td><a class=\"ProveItLink\" href=\"../be78a292327980abc3f887f6a68f55553a8fd17b0/expr.ipynb\"><img src=\"../be78a292327980abc3f887f6a68f55553a8fd17b0/expr.png\" style=\"display:inline;vertical-align:middle;\" /></a></td></tr>\n",
       "<tr><td>24</td><td>Operation</td><td>operator:&nbsp;33<br>operand:&nbsp;41<br></td><td><a class=\"ProveItLink\" href=\"../fe02f8ed473f63760113f4f1e5a035bfa1e779460/expr.ipynb\"><img src=\"../fe02f8ed473f63760113f4f1e5a035bfa1e779460/expr.png\" style=\"display:inline;vertical-align:middle;\" /></a></td></tr>\n",
       "<tr><td>25</td><td>Operation</td><td>operator:&nbsp;33<br>operand:&nbsp;42<br></td><td><a class=\"ProveItLink\" href=\"../a8fa8fb629c69a59cbe3757fb59d77179b7a425f0/expr.ipynb\"><img src=\"../a8fa8fb629c69a59cbe3757fb59d77179b7a425f0/expr.png\" style=\"display:inline;vertical-align:middle;\" /></a></td></tr>\n",
       "<tr><td>26</td><td>Literal</td><td></td><td><a class=\"ProveItLink\" href=\"../../../../../../logic/sets/enumeration/__pv_it/common/0ead90ccbf4f17bc585a51f8aa904bb77916ae6e0/expr.ipynb\"><img src=\"../../../../../../logic/sets/enumeration/__pv_it/common/0ead90ccbf4f17bc585a51f8aa904bb77916ae6e0/expr.png\" style=\"display:inline;vertical-align:middle;\" /></a></td></tr>\n",
       "<tr><td>27</td><td>ExprTuple</td><td>35, 36, 37, 38, 39</td><td><a class=\"ProveItLink\" href=\"../86e7f260ef2ce23354202c68145904a88c21271f0/expr.ipynb\"><img src=\"../86e7f260ef2ce23354202c68145904a88c21271f0/expr.png\" style=\"display:inline;vertical-align:middle;\" /></a></td></tr>\n",
       "<tr><td>28</td><td>ExprTuple</td><td>53, 40</td><td><a class=\"ProveItLink\" href=\"../8dd6744fe0111d3e5e6b1ce629b4848eb233fd690/expr.ipynb\"><img src=\"../8dd6744fe0111d3e5e6b1ce629b4848eb233fd690/expr.png\" style=\"display:inline;vertical-align:middle;\" /></a></td></tr>\n",
       "<tr><td>29</td><td>ExprTuple</td><td>54, 40</td><td><a class=\"ProveItLink\" href=\"../e31703fc6f60ac02786a06dda15ce3bf7eac18990/expr.ipynb\"><img src=\"../e31703fc6f60ac02786a06dda15ce3bf7eac18990/expr.png\" style=\"display:inline;vertical-align:middle;\" /></a></td></tr>\n",
       "<tr><td>30</td><td>Literal</td><td></td><td><a class=\"ProveItLink\" href=\"../../../../../../logic/classes/membership/__pv_it/common/e3b437d28fbe17f0a50c9789c7c9b47a1270f1420/expr.ipynb\"><img src=\"../../../../../../logic/classes/membership/__pv_it/common/e3b437d28fbe17f0a50c9789c7c9b47a1270f1420/expr.png\" style=\"display:inline;vertical-align:middle;\" /></a></td></tr>\n",
       "<tr><td>31</td><td>ExprTuple</td><td>52, 40</td><td><a class=\"ProveItLink\" href=\"../26041c6eae4319875c3f6b69d69ebb5bbdec70150/expr.ipynb\"><img src=\"../26041c6eae4319875c3f6b69d69ebb5bbdec70150/expr.png\" style=\"display:inline;vertical-align:middle;\" /></a></td></tr>\n",
       "<tr><td>32</td><td>ExprTuple</td><td>41</td><td><a class=\"ProveItLink\" href=\"../0dc6c42a8c40e6a1c0a1b3cc41b6e5aa01a661750/expr.ipynb\"><img src=\"../0dc6c42a8c40e6a1c0a1b3cc41b6e5aa01a661750/expr.png\" style=\"display:inline;vertical-align:middle;\" /></a></td></tr>\n",
       "<tr><td>33</td><td>Literal</td><td></td><td><a class=\"ProveItLink\" href=\"../../common/2972e0deb52c96565b39f905d407d7302ae287580/expr.ipynb\"><img src=\"../../common/2972e0deb52c96565b39f905d407d7302ae287580/expr.png\" style=\"display:inline;vertical-align:middle;\" /></a></td></tr>\n",
       "<tr><td>34</td><td>ExprTuple</td><td>42</td><td><a class=\"ProveItLink\" href=\"../a7ff2e5307eface0f17839b0263ddd504c2c69e40/expr.ipynb\"><img src=\"../a7ff2e5307eface0f17839b0263ddd504c2c69e40/expr.png\" style=\"display:inline;vertical-align:middle;\" /></a></td></tr>\n",
       "<tr><td>35</td><td>ExprTuple</td><td>45, 53</td><td><a class=\"ProveItLink\" href=\"../1e4deee2c704d427d8f4cb1519cfaccd132b61ba0/expr.ipynb\"><img src=\"../1e4deee2c704d427d8f4cb1519cfaccd132b61ba0/expr.png\" style=\"display:inline;vertical-align:middle;\" /></a></td></tr>\n",
       "<tr><td>36</td><td>ExprTuple</td><td>54, 43</td><td><a class=\"ProveItLink\" href=\"../f4bcd509300a273826f29d5dc8dbb1f93ce0b41a0/expr.ipynb\"><img src=\"../f4bcd509300a273826f29d5dc8dbb1f93ce0b41a0/expr.png\" style=\"display:inline;vertical-align:middle;\" /></a></td></tr>\n",
       "<tr><td>37</td><td>ExprTuple</td><td>44, 45</td><td><a class=\"ProveItLink\" href=\"../1ab74ca4c9265d7349ceb55a3dbaa0300b179b9f0/expr.ipynb\"><img src=\"../1ab74ca4c9265d7349ceb55a3dbaa0300b179b9f0/expr.png\" style=\"display:inline;vertical-align:middle;\" /></a></td></tr>\n",
       "<tr><td>38</td><td>ExprTuple</td><td>51, 46</td><td><a class=\"ProveItLink\" href=\"../bcc6a371849bf59e779a99f166381ade78f3fc0d0/expr.ipynb\"><img src=\"../bcc6a371849bf59e779a99f166381ade78f3fc0d0/expr.png\" style=\"display:inline;vertical-align:middle;\" /></a></td></tr>\n",
       "<tr><td>39</td><td>ExprTuple</td><td>46, 51</td><td><a class=\"ProveItLink\" href=\"../19f4c6a0deab14279991705cc7894dfe889284600/expr.ipynb\"><img src=\"../19f4c6a0deab14279991705cc7894dfe889284600/expr.png\" style=\"display:inline;vertical-align:middle;\" /></a></td></tr>\n",
       "<tr><td>40</td><td>Literal</td><td></td><td><a class=\"ProveItLink\" href=\"../../../../../../linear_algebra/inner_products/__pv_it/common/63495bb81132197a40ba1811088142655bc8cabd0/expr.ipynb\"><img src=\"../../../../../../linear_algebra/inner_products/__pv_it/common/63495bb81132197a40ba1811088142655bc8cabd0/expr.png\" style=\"display:inline;vertical-align:middle;\" /></a></td></tr>\n",
       "<tr><td>41</td><td>Variable</td><td></td><td><a class=\"ProveItLink\" href=\"../../../../../../__pv_it/common/09585084922504426caf1db2ff588a23a0932a960/expr.ipynb\"><img src=\"../../../../../../__pv_it/common/09585084922504426caf1db2ff588a23a0932a960/expr.png\" style=\"display:inline;vertical-align:middle;\" /></a></td></tr>\n",
       "<tr><td>42</td><td>Variable</td><td></td><td><a class=\"ProveItLink\" href=\"../../../../../../__pv_it/common/a9162d1c3cc0470c02e5daf414500903a7a419230/expr.ipynb\"><img src=\"../../../../../../__pv_it/common/a9162d1c3cc0470c02e5daf414500903a7a419230/expr.png\" style=\"display:inline;vertical-align:middle;\" /></a></td></tr>\n",
       "<tr><td>43</td><td>Operation</td><td>operator:&nbsp;49<br>operands:&nbsp;47<br></td><td><a class=\"ProveItLink\" href=\"../e1a20ea7e173a9aa0a29c95329b83426af8efa670/expr.ipynb\"><img src=\"../e1a20ea7e173a9aa0a29c95329b83426af8efa670/expr.png\" style=\"display:inline;vertical-align:middle;\" /></a></td></tr>\n",
       "<tr><td>44</td><td>Operation</td><td>operator:&nbsp;49<br>operands:&nbsp;48<br></td><td><a class=\"ProveItLink\" href=\"../a9ea1bfdd963ab61be97e2eaa2ebf0b4523550b70/expr.ipynb\"><img src=\"../a9ea1bfdd963ab61be97e2eaa2ebf0b4523550b70/expr.png\" style=\"display:inline;vertical-align:middle;\" /></a></td></tr>\n",
       "<tr><td>45</td><td>Operation</td><td>operator:&nbsp;49<br>operands:&nbsp;50<br></td><td><a class=\"ProveItLink\" href=\"../7ab5ea9149ebf1472e1d711f62e59f07c5e1fdfa0/expr.ipynb\"><img src=\"../7ab5ea9149ebf1472e1d711f62e59f07c5e1fdfa0/expr.png\" style=\"display:inline;vertical-align:middle;\" /></a></td></tr>\n",
       "<tr><td>46</td><td>Literal</td><td></td><td><a class=\"ProveItLink\" href=\"../../common/9eb627883d0de35514f5f025d8d6d9a6894424630/expr.ipynb\"><img src=\"../../common/9eb627883d0de35514f5f025d8d6d9a6894424630/expr.png\" style=\"display:inline;vertical-align:middle;\" /></a></td></tr>\n",
       "<tr><td>47</td><td>ExprTuple</td><td>53, 51</td><td><a class=\"ProveItLink\" href=\"../ce9b0caa239f627affc5621dbf43af546151231b0/expr.ipynb\"><img src=\"../ce9b0caa239f627affc5621dbf43af546151231b0/expr.png\" style=\"display:inline;vertical-align:middle;\" /></a></td></tr>\n",
       "<tr><td>48</td><td>ExprTuple</td><td>54, 52</td><td><a class=\"ProveItLink\" href=\"../806c777cd77049ff469633ac84461542c0f8dd670/expr.ipynb\"><img src=\"../806c777cd77049ff469633ac84461542c0f8dd670/expr.png\" style=\"display:inline;vertical-align:middle;\" /></a></td></tr>\n",
       "<tr><td>49</td><td>Literal</td><td></td><td><a class=\"ProveItLink\" href=\"../../../../../../linear_algebra/linear_maps/__pv_it/common/d323a251b3f504c3443ff8de393dbf12697838a10/expr.ipynb\"><img src=\"../../../../../../linear_algebra/linear_maps/__pv_it/common/d323a251b3f504c3443ff8de393dbf12697838a10/expr.png\" style=\"display:inline;vertical-align:middle;\" /></a></td></tr>\n",
       "<tr><td>50</td><td>ExprTuple</td><td>53, 54</td><td><a class=\"ProveItLink\" href=\"../8e7e6f28bc2d529b8d61f74929566839b8a3cd1a0/expr.ipynb\"><img src=\"../8e7e6f28bc2d529b8d61f74929566839b8a3cd1a0/expr.png\" style=\"display:inline;vertical-align:middle;\" /></a></td></tr>\n",
       "<tr><td>51</td><td>Literal</td><td></td><td><a class=\"ProveItLink\" href=\"../../../../../../numbers/number_sets/complex_numbers/__pv_it/common/d18a028138f659eda00de597c28a3447fe87eb100/expr.ipynb\"><img src=\"../../../../../../numbers/number_sets/complex_numbers/__pv_it/common/d18a028138f659eda00de597c28a3447fe87eb100/expr.png\" style=\"display:inline;vertical-align:middle;\" /></a></td></tr>\n",
       "<tr><td>52</td><td>Variable</td><td></td><td><a class=\"ProveItLink\" href=\"../../../../../../__pv_it/common/72295dc899ebc16ab63a19612b428270c18ac53b0/expr.ipynb\"><img src=\"../../../../../../__pv_it/common/72295dc899ebc16ab63a19612b428270c18ac53b0/expr.png\" style=\"display:inline;vertical-align:middle;\" /></a></td></tr>\n",
       "<tr><td>53</td><td>Variable</td><td></td><td><a class=\"ProveItLink\" href=\"../../../../../../linear_algebra/inner_products/__pv_it/common/0a298dc12c549b5fdc96454972e9674c7dbf104f0/expr.ipynb\"><img src=\"../../../../../../linear_algebra/inner_products/__pv_it/common/0a298dc12c549b5fdc96454972e9674c7dbf104f0/expr.png\" style=\"display:inline;vertical-align:middle;\" /></a></td></tr>\n",
       "<tr><td>54</td><td>Variable</td><td></td><td><a class=\"ProveItLink\" href=\"../../../../../../__pv_it/common/f1ca094affb79f5011ff4d63eb4e121bfbde7f330/expr.ipynb\"><img src=\"../../../../../../__pv_it/common/f1ca094affb79f5011ff4d63eb4e121bfbde7f330/expr.png\" style=\"display:inline;vertical-align:middle;\" /></a></td></tr>\n",
       "</table>\n"
      ],
      "text/plain": [
       "0. ((A, B) -> {exists_{H, X, Y in_c HilbertSpaces} (([A], [B]) in {(LINMAP(H, X), H), (X, LINMAP(H, Complex)), (LINMAP(X, Y), LINMAP(H, X)), (Complex, Q*), (Q*, Complex)}) if (A . B) in_c Q*.)\n",
       "   core type: ExprTuple\n",
       "   sub-expressions: 1\n",
       "1. (A, B) -> {exists_{H, X, Y in_c HilbertSpaces} (([A], [B]) in {(LINMAP(H, X), H), (X, LINMAP(H, Complex)), (LINMAP(X, Y), LINMAP(H, X)), (Complex, Q*), (Q*, Complex)}) if (A . B) in_c Q*.\n",
       "   core type: Lambda\n",
       "   parameters: 12\\n   body: 2\n",
       "2. {exists_{H, X, Y in_c HilbertSpaces} (([A], [B]) in {(LINMAP(H, X), H), (X, LINMAP(H, Complex)), (LINMAP(X, Y), LINMAP(H, X)), (Complex, Q*), (Q*, Complex)}) if (A . B) in_c Q*.\n",
       "   core type: Conditional\n",
       "   value: 3\n",
       "   condition: 4\n",
       "3. exists_{H, X, Y in_c HilbertSpaces} (([A], [B]) in {(LINMAP(H, X), H), (X, LINMAP(H, Complex)), (LINMAP(X, Y), LINMAP(H, X)), (Complex, Q*), (Q*, Complex)})\n",
       "   core type: Operation\n",
       "   operator: 5\n",
       "   operand: 8\n",
       "4. (A . B) in_c Q*\n",
       "   core type: Operation\n",
       "   operator: 30\n",
       "   operands: 7\n",
       "5. exists\n",
       "   core type: Literal\n",
       "   sub-expressions: \n",
       "6. ((H, X, Y) -> {([A], [B]) in {(LINMAP(H, X), H), (X, LINMAP(H, Complex)), (LINMAP(X, Y), LINMAP(H, X)), (Complex, Q*), (Q*, Complex)} if H in_c HilbertSpaces ,  X in_c HilbertSpaces ,  Y in_c HilbertSpaces.)\n",
       "   core type: ExprTuple\n",
       "   sub-expressions: 8\n",
       "7. (A . B, Q*)\n",
       "   core type: ExprTuple\n",
       "   sub-expressions: 9, 46\n",
       "8. (H, X, Y) -> {([A], [B]) in {(LINMAP(H, X), H), (X, LINMAP(H, Complex)), (LINMAP(X, Y), LINMAP(H, X)), (Complex, Q*), (Q*, Complex)} if H in_c HilbertSpaces ,  X in_c HilbertSpaces ,  Y in_c HilbertSpaces.\n",
       "   core type: Lambda\n",
       "   parameters: 10\\n   body: 11\n",
       "9. A . B\n",
       "   core type: Operation\n",
       "   operator: 33\n",
       "   operands: 12\n",
       "10. (H, X, Y)\n",
       "    core type: ExprTuple\n",
       "    sub-expressions: 53, 54, 52\n",
       "11. {([A], [B]) in {(LINMAP(H, X), H), (X, LINMAP(H, Complex)), (LINMAP(X, Y), LINMAP(H, X)), (Complex, Q*), (Q*, Complex)} if H in_c HilbertSpaces ,  X in_c HilbertSpaces ,  Y in_c HilbertSpaces.\n",
       "    core type: Conditional\n",
       "    value: 13\n",
       "    condition: 14\n",
       "12. (A, B)\n",
       "    core type: ExprTuple\n",
       "    sub-expressions: 41, 42\n",
       "13. ([A], [B]) in {(LINMAP(H, X), H), (X, LINMAP(H, Complex)), (LINMAP(X, Y), LINMAP(H, X)), (Complex, Q*), (Q*, Complex)}\n",
       "    core type: Operation\n",
       "    operator: 15\n",
       "    operands: 16\n",
       "14. (H in_c HilbertSpaces) and (X in_c HilbertSpaces) and (Y in_c HilbertSpaces)\n",
       "    core type: Operation\n",
       "    operator: 17\n",
       "    operands: 18\n",
       "15. in\n",
       "    core type: Literal\n",
       "    sub-expressions: \n",
       "16. (([A], [B]), {(LINMAP(H, X), H), (X, LINMAP(H, Complex)), (LINMAP(X, Y), LINMAP(H, X)), (Complex, Q*), (Q*, Complex)})\n",
       "    core type: ExprTuple\n",
       "    sub-expressions: 19, 20\n",
       "17. and\n",
       "    core type: Literal\n",
       "    sub-expressions: \n",
       "18. (H in_c HilbertSpaces, X in_c HilbertSpaces, Y in_c HilbertSpaces)\n",
       "    core type: ExprTuple\n",
       "    sub-expressions: 21, 22, 23\n",
       "19. ([A], [B])\n",
       "    core type: ExprTuple\n",
       "    sub-expressions: 24, 25\n",
       "20. {(LINMAP(H, X), H), (X, LINMAP(H, Complex)), (LINMAP(X, Y), LINMAP(H, X)), (Complex, Q*), (Q*, Complex)}\n",
       "    core type: Operation\n",
       "    operator: 26\n",
       "    operands: 27\n",
       "21. H in_c HilbertSpaces\n",
       "    core type: Operation\n",
       "    operator: 30\n",
       "    operands: 28\n",
       "22. X in_c HilbertSpaces\n",
       "    core type: Operation\n",
       "    operator: 30\n",
       "    operands: 29\n",
       "23. Y in_c HilbertSpaces\n",
       "    core type: Operation\n",
       "    operator: 30\n",
       "    operands: 31\n",
       "24. [A]\n",
       "    core type: Operation\n",
       "    operator: 33\n",
       "    operand: 41\n",
       "25. [B]\n",
       "    core type: Operation\n",
       "    operator: 33\n",
       "    operand: 42\n",
       "26. Set\n",
       "    core type: Literal\n",
       "    sub-expressions: \n",
       "27. ((LINMAP(H, X), H), (X, LINMAP(H, Complex)), (LINMAP(X, Y), LINMAP(H, X)), (Complex, Q*), (Q*, Complex))\n",
       "    core type: ExprTuple\n",
       "    sub-expressions: 35, 36, 37, 38, 39\n",
       "28. (H, HilbertSpaces)\n",
       "    core type: ExprTuple\n",
       "    sub-expressions: 53, 40\n",
       "29. (X, HilbertSpaces)\n",
       "    core type: ExprTuple\n",
       "    sub-expressions: 54, 40\n",
       "30. in_c\n",
       "    core type: Literal\n",
       "    sub-expressions: \n",
       "31. (Y, HilbertSpaces)\n",
       "    core type: ExprTuple\n",
       "    sub-expressions: 52, 40\n",
       "32. (A)\n",
       "    core type: ExprTuple\n",
       "    sub-expressions: 41\n",
       "33. .\n",
       "    core type: Literal\n",
       "    sub-expressions: \n",
       "34. (B)\n",
       "    core type: ExprTuple\n",
       "    sub-expressions: 42\n",
       "35. (LINMAP(H, X), H)\n",
       "    core type: ExprTuple\n",
       "    sub-expressions: 45, 53\n",
       "36. (X, LINMAP(H, Complex))\n",
       "    core type: ExprTuple\n",
       "    sub-expressions: 54, 43\n",
       "37. (LINMAP(X, Y), LINMAP(H, X))\n",
       "    core type: ExprTuple\n",
       "    sub-expressions: 44, 45\n",
       "38. (Complex, Q*)\n",
       "    core type: ExprTuple\n",
       "    sub-expressions: 51, 46\n",
       "39. (Q*, Complex)\n",
       "    core type: ExprTuple\n",
       "    sub-expressions: 46, 51\n",
       "40. HilbertSpaces\n",
       "    core type: Literal\n",
       "    sub-expressions: \n",
       "41. A\n",
       "    core type: Variable\n",
       "    sub-expressions: \n",
       "42. B\n",
       "    core type: Variable\n",
       "    sub-expressions: \n",
       "43. LINMAP(H, Complex)\n",
       "    core type: Operation\n",
       "    operator: 49\n",
       "    operands: 47\n",
       "44. LINMAP(X, Y)\n",
       "    core type: Operation\n",
       "    operator: 49\n",
       "    operands: 48\n",
       "45. LINMAP(H, X)\n",
       "    core type: Operation\n",
       "    operator: 49\n",
       "    operands: 50\n",
       "46. Q*\n",
       "    core type: Literal\n",
       "    sub-expressions: \n",
       "47. (H, Complex)\n",
       "    core type: ExprTuple\n",
       "    sub-expressions: 53, 51\n",
       "48. (X, Y)\n",
       "    core type: ExprTuple\n",
       "    sub-expressions: 54, 52\n",
       "49. LINMAP\n",
       "    core type: Literal\n",
       "    sub-expressions: \n",
       "50. (H, X)\n",
       "    core type: ExprTuple\n",
       "    sub-expressions: 53, 54\n",
       "51. Complex\n",
       "    core type: Literal\n",
       "    sub-expressions: \n",
       "52. Y\n",
       "    core type: Variable\n",
       "    sub-expressions: \n",
       "53. H\n",
       "    core type: Variable\n",
       "    sub-expressions: \n",
       "54. X\n",
       "    core type: Variable\n",
       "    sub-expressions: "
      ]
     },
     "metadata": {},
     "output_type": "display_data"
    }
   ],
   "source": [
    "# display the expression information\n",
    "stored_expr.expr_info()"
   ]
  },
  {
   "cell_type": "code",
   "execution_count": null,
   "metadata": {},
   "outputs": [],
   "source": []
  }
 ],
 "metadata": {
  "kernelspec": {
   "display_name": "Python 3",
   "language": "python",
   "name": "python3"
  }
 },
 "nbformat": 4,
 "nbformat_minor": 0
}