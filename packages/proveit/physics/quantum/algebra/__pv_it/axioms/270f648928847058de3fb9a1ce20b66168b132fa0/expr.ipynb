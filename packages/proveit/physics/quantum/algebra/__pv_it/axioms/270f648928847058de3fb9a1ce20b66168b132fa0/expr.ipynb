{
 "cells": [
  {
   "cell_type": "markdown",
   "metadata": {},
   "source": [
    "Expression of type <a class=\"ProveItLink\" href=\"../../../../../../../../doc/html/api/proveit.ExprTuple.html\">ExprTuple</a>\n",
    "=======================\n",
    "# from the theory of <a class=\"ProveItLink\" href=\"../../../_theory_nbs_/theory.ipynb\">proveit.physics.quantum.algebra</a>"
   ]
  },
  {
   "cell_type": "code",
   "execution_count": 1,
   "metadata": {},
   "outputs": [],
   "source": [
    "import proveit\n",
    "# Automation is not needed when building an expression:\n",
    "proveit.defaults.automation = False # This will speed things up.\n",
    "proveit.defaults.inline_pngs = False # Makes files smaller.\n",
    "%load_expr # Load the stored expression as 'stored_expr'\n",
    "# import Expression classes needed to build the expression\n",
    "from proveit import Conditional, ExprTuple, Lambda, X, c\n",
    "from proveit.linear_algebra import ScalarMult\n",
    "from proveit.logic import Equals, Forall, InSet\n",
    "from proveit.numbers import Complex\n",
    "from proveit.physics.quantum import Qmult, QmultCodomain"
   ]
  },
  {
   "cell_type": "code",
   "execution_count": 2,
   "metadata": {},
   "outputs": [
    {
     "data": {
      "text/html": [
       "<strong id=\"expr\">expr:</strong> <a class=\"ProveItLink\" href=\"expr.ipynb\"><img src=\"expr.png\" style=\"display:inline;vertical-align:middle;\" /></a><br>"
      ],
      "text/plain": [
       "<IPython.core.display.HTML object>"
      ]
     },
     "metadata": {},
     "output_type": "display_data"
    }
   ],
   "source": [
    "# build up the expression from sub-expressions\n",
    "expr = ExprTuple(Lambda(c, Conditional(Forall(instance_param_or_params = [X], instance_expr = Equals(Qmult(X, c), ScalarMult(c, X)), domain = QmultCodomain), InSet(c, Complex))))"
   ]
  },
  {
   "cell_type": "code",
   "execution_count": 3,
   "metadata": {},
   "outputs": [
    {
     "name": "stdout",
     "output_type": "stream",
     "text": [
      "Passed sanity check: expr matches stored_expr\n"
     ]
    }
   ],
   "source": [
    "# check that the built expression is the same as the stored expression\n",
    "assert expr == stored_expr\n",
    "assert expr._style_id == stored_expr._style_id\n",
    "print(\"Passed sanity check: expr matches stored_expr\")"
   ]
  },
  {
   "cell_type": "code",
   "execution_count": 4,
   "metadata": {},
   "outputs": [
    {
     "name": "stdout",
     "output_type": "stream",
     "text": [
      "\\left(c \\mapsto \\left\\{\\forall_{X \\underset{{\\scriptscriptstyle c}}{\\in} \\mathcal{Q^*}}~\\left(\\left(X \\thinspace c\\right) = \\left(c \\cdot X\\right)\\right) \\textrm{ if } c \\in \\mathbb{C}\\right..\\right)\n"
     ]
    }
   ],
   "source": [
    "# Show the LaTeX representation of the expression for convenience if you need it.\n",
    "print(stored_expr.latex())"
   ]
  },
  {
   "cell_type": "code",
   "execution_count": 5,
   "metadata": {},
   "outputs": [
    {
     "data": {
      "text/html": [
       "no style options"
      ],
      "text/plain": [
       "no style options"
      ]
     },
     "metadata": {},
     "output_type": "display_data"
    }
   ],
   "source": [
    "stored_expr.style_options()"
   ]
  },
  {
   "cell_type": "code",
   "execution_count": 6,
   "metadata": {},
   "outputs": [
    {
     "data": {
      "text/html": [
       "<table><tr><th>&nbsp;</th><th>core type</th><th>sub-expressions</th><th>expression</th></tr>\n",
       "<tr><td>0</td><td>ExprTuple</td><td>1</td><td><a class=\"ProveItLink\" href=\"expr.ipynb\"><img src=\"expr.png\" style=\"display:inline;vertical-align:middle;\" /></a></td></tr>\n",
       "<tr><td>1</td><td>Lambda</td><td>parameter:&nbsp;27<br>body:&nbsp;3<br></td><td><a class=\"ProveItLink\" href=\"../e2cf135b258e117a5d5838e968ba46c36499d4fa0/expr.ipynb\"><img src=\"../e2cf135b258e117a5d5838e968ba46c36499d4fa0/expr.png\" style=\"display:inline;vertical-align:middle;\" /></a></td></tr>\n",
       "<tr><td>2</td><td>ExprTuple</td><td>27</td><td><a class=\"ProveItLink\" href=\"../25c776cc10fb7df90a1cddbf8213d6561f6b7bd20/expr.ipynb\"><img src=\"../25c776cc10fb7df90a1cddbf8213d6561f6b7bd20/expr.png\" style=\"display:inline;vertical-align:middle;\" /></a></td></tr>\n",
       "<tr><td>3</td><td>Conditional</td><td>value:&nbsp;4<br>condition:&nbsp;5<br></td><td><a class=\"ProveItLink\" href=\"../1ae20b583b46939d547b06d14831886a6aee18e40/expr.ipynb\"><img src=\"../1ae20b583b46939d547b06d14831886a6aee18e40/expr.png\" style=\"display:inline;vertical-align:middle;\" /></a></td></tr>\n",
       "<tr><td>4</td><td>Operation</td><td>operator:&nbsp;6<br>operand:&nbsp;10<br></td><td><a class=\"ProveItLink\" href=\"../a01327ecc037e3045617afd0c6b0db2252d629c80/expr.ipynb\"><img src=\"../a01327ecc037e3045617afd0c6b0db2252d629c80/expr.png\" style=\"display:inline;vertical-align:middle;\" /></a></td></tr>\n",
       "<tr><td>5</td><td>Operation</td><td>operator:&nbsp;8<br>operands:&nbsp;9<br></td><td><a class=\"ProveItLink\" href=\"../b66b5547fa9b0b910f79351152926c658c2718190/expr.ipynb\"><img src=\"../b66b5547fa9b0b910f79351152926c658c2718190/expr.png\" style=\"display:inline;vertical-align:middle;\" /></a></td></tr>\n",
       "<tr><td>6</td><td>Literal</td><td></td><td><a class=\"ProveItLink\" href=\"../../../../../../logic/booleans/quantification/universality/__pv_it/common/083d2baa0b8ecab1d230f9ec29a15aa1355809fb0/expr.ipynb\"><img src=\"../../../../../../logic/booleans/quantification/universality/__pv_it/common/083d2baa0b8ecab1d230f9ec29a15aa1355809fb0/expr.png\" style=\"display:inline;vertical-align:middle;\" /></a></td></tr>\n",
       "<tr><td>7</td><td>ExprTuple</td><td>10</td><td><a class=\"ProveItLink\" href=\"../0e8ab6162ed7132fa5d43b490921349c2dc4c9170/expr.ipynb\"><img src=\"../0e8ab6162ed7132fa5d43b490921349c2dc4c9170/expr.png\" style=\"display:inline;vertical-align:middle;\" /></a></td></tr>\n",
       "<tr><td>8</td><td>Literal</td><td></td><td><a class=\"ProveItLink\" href=\"../../../../../../logic/sets/membership/__pv_it/common/477487d8796864d23d5810f83761435f25167f690/expr.ipynb\"><img src=\"../../../../../../logic/sets/membership/__pv_it/common/477487d8796864d23d5810f83761435f25167f690/expr.png\" style=\"display:inline;vertical-align:middle;\" /></a></td></tr>\n",
       "<tr><td>9</td><td>ExprTuple</td><td>27, 11</td><td><a class=\"ProveItLink\" href=\"../1b82c0752df3710a50857c9be29b2bfe48089de70/expr.ipynb\"><img src=\"../1b82c0752df3710a50857c9be29b2bfe48089de70/expr.png\" style=\"display:inline;vertical-align:middle;\" /></a></td></tr>\n",
       "<tr><td>10</td><td>Lambda</td><td>parameter:&nbsp;28<br>body:&nbsp;13<br></td><td><a class=\"ProveItLink\" href=\"../10f843e1ce1b2835fa0fe38c769cdc126301d3d90/expr.ipynb\"><img src=\"../10f843e1ce1b2835fa0fe38c769cdc126301d3d90/expr.png\" style=\"display:inline;vertical-align:middle;\" /></a></td></tr>\n",
       "<tr><td>11</td><td>Literal</td><td></td><td><a class=\"ProveItLink\" href=\"../../../../../../numbers/number_sets/complex_numbers/__pv_it/common/d18a028138f659eda00de597c28a3447fe87eb100/expr.ipynb\"><img src=\"../../../../../../numbers/number_sets/complex_numbers/__pv_it/common/d18a028138f659eda00de597c28a3447fe87eb100/expr.png\" style=\"display:inline;vertical-align:middle;\" /></a></td></tr>\n",
       "<tr><td>12</td><td>ExprTuple</td><td>28</td><td><a class=\"ProveItLink\" href=\"../db9f0ed68786c332572391edc1a73892f9a9c8f90/expr.ipynb\"><img src=\"../db9f0ed68786c332572391edc1a73892f9a9c8f90/expr.png\" style=\"display:inline;vertical-align:middle;\" /></a></td></tr>\n",
       "<tr><td>13</td><td>Conditional</td><td>value:&nbsp;14<br>condition:&nbsp;15<br></td><td><a class=\"ProveItLink\" href=\"../df5f0e3bc45e5ec679df6d1fca2354216c4a99a80/expr.ipynb\"><img src=\"../df5f0e3bc45e5ec679df6d1fca2354216c4a99a80/expr.png\" style=\"display:inline;vertical-align:middle;\" /></a></td></tr>\n",
       "<tr><td>14</td><td>Operation</td><td>operator:&nbsp;16<br>operands:&nbsp;17<br></td><td><a class=\"ProveItLink\" href=\"../08ac38e656d185c9bf202e564eec537b182efa850/expr.ipynb\"><img src=\"../08ac38e656d185c9bf202e564eec537b182efa850/expr.png\" style=\"display:inline;vertical-align:middle;\" /></a></td></tr>\n",
       "<tr><td>15</td><td>Operation</td><td>operator:&nbsp;18<br>operands:&nbsp;19<br></td><td><a class=\"ProveItLink\" href=\"../507011e5080c9c518ee5a5b56f0b2078306e9cac0/expr.ipynb\"><img src=\"../507011e5080c9c518ee5a5b56f0b2078306e9cac0/expr.png\" style=\"display:inline;vertical-align:middle;\" /></a></td></tr>\n",
       "<tr><td>16</td><td>Literal</td><td></td><td><a class=\"ProveItLink\" href=\"../../../../../../logic/equality/__pv_it/common/fb96dc12b2aa8801dda64d0132b396c63d1502bb0/expr.ipynb\"><img src=\"../../../../../../logic/equality/__pv_it/common/fb96dc12b2aa8801dda64d0132b396c63d1502bb0/expr.png\" style=\"display:inline;vertical-align:middle;\" /></a></td></tr>\n",
       "<tr><td>17</td><td>ExprTuple</td><td>20, 21</td><td><a class=\"ProveItLink\" href=\"../2bc85e86e2d5513fb7b33c02f0b6cc017c4e2e9f0/expr.ipynb\"><img src=\"../2bc85e86e2d5513fb7b33c02f0b6cc017c4e2e9f0/expr.png\" style=\"display:inline;vertical-align:middle;\" /></a></td></tr>\n",
       "<tr><td>18</td><td>Literal</td><td></td><td><a class=\"ProveItLink\" href=\"../../../../../../logic/classes/membership/__pv_it/common/e3b437d28fbe17f0a50c9789c7c9b47a1270f1420/expr.ipynb\"><img src=\"../../../../../../logic/classes/membership/__pv_it/common/e3b437d28fbe17f0a50c9789c7c9b47a1270f1420/expr.png\" style=\"display:inline;vertical-align:middle;\" /></a></td></tr>\n",
       "<tr><td>19</td><td>ExprTuple</td><td>28, 22</td><td><a class=\"ProveItLink\" href=\"../a0aaf5f158ef2ac96b9b808bcab5ac2c2e3dc72f0/expr.ipynb\"><img src=\"../a0aaf5f158ef2ac96b9b808bcab5ac2c2e3dc72f0/expr.png\" style=\"display:inline;vertical-align:middle;\" /></a></td></tr>\n",
       "<tr><td>20</td><td>Operation</td><td>operator:&nbsp;23<br>operands:&nbsp;24<br></td><td><a class=\"ProveItLink\" href=\"../7fa4273c767dc197b8bac902d0d772cb38acb0c50/expr.ipynb\"><img src=\"../7fa4273c767dc197b8bac902d0d772cb38acb0c50/expr.png\" style=\"display:inline;vertical-align:middle;\" /></a></td></tr>\n",
       "<tr><td>21</td><td>Operation</td><td>operator:&nbsp;25<br>operands:&nbsp;26<br></td><td><a class=\"ProveItLink\" href=\"../2e983dccdc5f0eee0a0e72f138fffcf341d84b330/expr.ipynb\"><img src=\"../2e983dccdc5f0eee0a0e72f138fffcf341d84b330/expr.png\" style=\"display:inline;vertical-align:middle;\" /></a></td></tr>\n",
       "<tr><td>22</td><td>Literal</td><td></td><td><a class=\"ProveItLink\" href=\"../../common/9eb627883d0de35514f5f025d8d6d9a6894424630/expr.ipynb\"><img src=\"../../common/9eb627883d0de35514f5f025d8d6d9a6894424630/expr.png\" style=\"display:inline;vertical-align:middle;\" /></a></td></tr>\n",
       "<tr><td>23</td><td>Literal</td><td></td><td><a class=\"ProveItLink\" href=\"../../common/2972e0deb52c96565b39f905d407d7302ae287580/expr.ipynb\"><img src=\"../../common/2972e0deb52c96565b39f905d407d7302ae287580/expr.png\" style=\"display:inline;vertical-align:middle;\" /></a></td></tr>\n",
       "<tr><td>24</td><td>ExprTuple</td><td>28, 27</td><td><a class=\"ProveItLink\" href=\"../187904f81b4b90df497db3d9b65a264bd2106b490/expr.ipynb\"><img src=\"../187904f81b4b90df497db3d9b65a264bd2106b490/expr.png\" style=\"display:inline;vertical-align:middle;\" /></a></td></tr>\n",
       "<tr><td>25</td><td>Literal</td><td></td><td><a class=\"ProveItLink\" href=\"../../../../../../linear_algebra/scalar_multiplication/__pv_it/common/1e364bd471e6a29fcd358dd2d9cd990a1e6fedd40/expr.ipynb\"><img src=\"../../../../../../linear_algebra/scalar_multiplication/__pv_it/common/1e364bd471e6a29fcd358dd2d9cd990a1e6fedd40/expr.png\" style=\"display:inline;vertical-align:middle;\" /></a></td></tr>\n",
       "<tr><td>26</td><td>ExprTuple</td><td>27, 28</td><td><a class=\"ProveItLink\" href=\"../d3fdf2426f45bdc70f9ded6221e550d05435919b0/expr.ipynb\"><img src=\"../d3fdf2426f45bdc70f9ded6221e550d05435919b0/expr.png\" style=\"display:inline;vertical-align:middle;\" /></a></td></tr>\n",
       "<tr><td>27</td><td>Variable</td><td></td><td><a class=\"ProveItLink\" href=\"../../../../../../__pv_it/common/ceef4280a2f1cc604b455b54e735507244cc62cd0/expr.ipynb\"><img src=\"../../../../../../__pv_it/common/ceef4280a2f1cc604b455b54e735507244cc62cd0/expr.png\" style=\"display:inline;vertical-align:middle;\" /></a></td></tr>\n",
       "<tr><td>28</td><td>Variable</td><td></td><td><a class=\"ProveItLink\" href=\"../../../../../../__pv_it/common/f1ca094affb79f5011ff4d63eb4e121bfbde7f330/expr.ipynb\"><img src=\"../../../../../../__pv_it/common/f1ca094affb79f5011ff4d63eb4e121bfbde7f330/expr.png\" style=\"display:inline;vertical-align:middle;\" /></a></td></tr>\n",
       "</table>\n"
      ],
      "text/plain": [
       "0. (c -> {forall_{X in_c Q*} ((X . c) = (c * X)) if c in Complex.)\n",
       "   core type: ExprTuple\n",
       "   sub-expressions: 1\n",
       "1. c -> {forall_{X in_c Q*} ((X . c) = (c * X)) if c in Complex.\n",
       "   core type: Lambda\n",
       "   parameter: 27\n",
       "   body: 3\n",
       "2. (c)\n",
       "   core type: ExprTuple\n",
       "   sub-expressions: 27\n",
       "3. {forall_{X in_c Q*} ((X . c) = (c * X)) if c in Complex.\n",
       "   core type: Conditional\n",
       "   value: 4\n",
       "   condition: 5\n",
       "4. forall_{X in_c Q*} ((X . c) = (c * X))\n",
       "   core type: Operation\n",
       "   operator: 6\n",
       "   operand: 10\n",
       "5. c in Complex\n",
       "   core type: Operation\n",
       "   operator: 8\n",
       "   operands: 9\n",
       "6. forall\n",
       "   core type: Literal\n",
       "   sub-expressions: \n",
       "7. (X -> {(X . c) = (c * X) if X in_c Q*.)\n",
       "   core type: ExprTuple\n",
       "   sub-expressions: 10\n",
       "8. in\n",
       "   core type: Literal\n",
       "   sub-expressions: \n",
       "9. (c, Complex)\n",
       "   core type: ExprTuple\n",
       "   sub-expressions: 27, 11\n",
       "10. X -> {(X . c) = (c * X) if X in_c Q*.\n",
       "    core type: Lambda\n",
       "    parameter: 28\n",
       "    body: 13\n",
       "11. Complex\n",
       "    core type: Literal\n",
       "    sub-expressions: \n",
       "12. (X)\n",
       "    core type: ExprTuple\n",
       "    sub-expressions: 28\n",
       "13. {(X . c) = (c * X) if X in_c Q*.\n",
       "    core type: Conditional\n",
       "    value: 14\n",
       "    condition: 15\n",
       "14. (X . c) = (c * X)\n",
       "    core type: Operation\n",
       "    operator: 16\n",
       "    operands: 17\n",
       "15. X in_c Q*\n",
       "    core type: Operation\n",
       "    operator: 18\n",
       "    operands: 19\n",
       "16. =\n",
       "    core type: Literal\n",
       "    sub-expressions: \n",
       "17. (X . c, c * X)\n",
       "    core type: ExprTuple\n",
       "    sub-expressions: 20, 21\n",
       "18. in_c\n",
       "    core type: Literal\n",
       "    sub-expressions: \n",
       "19. (X, Q*)\n",
       "    core type: ExprTuple\n",
       "    sub-expressions: 28, 22\n",
       "20. X . c\n",
       "    core type: Operation\n",
       "    operator: 23\n",
       "    operands: 24\n",
       "21. c * X\n",
       "    core type: Operation\n",
       "    operator: 25\n",
       "    operands: 26\n",
       "22. Q*\n",
       "    core type: Literal\n",
       "    sub-expressions: \n",
       "23. .\n",
       "    core type: Literal\n",
       "    sub-expressions: \n",
       "24. (X, c)\n",
       "    core type: ExprTuple\n",
       "    sub-expressions: 28, 27\n",
       "25. *\n",
       "    core type: Literal\n",
       "    sub-expressions: \n",
       "26. (c, X)\n",
       "    core type: ExprTuple\n",
       "    sub-expressions: 27, 28\n",
       "27. c\n",
       "    core type: Variable\n",
       "    sub-expressions: \n",
       "28. X\n",
       "    core type: Variable\n",
       "    sub-expressions: "
      ]
     },
     "metadata": {},
     "output_type": "display_data"
    }
   ],
   "source": [
    "# display the expression information\n",
    "stored_expr.expr_info()"
   ]
  },
  {
   "cell_type": "code",
   "execution_count": null,
   "metadata": {},
   "outputs": [],
   "source": []
  }
 ],
 "metadata": {
  "kernelspec": {
   "display_name": "Python 3",
   "language": "python",
   "name": "python3"
  }
 },
 "nbformat": 4,
 "nbformat_minor": 0
}