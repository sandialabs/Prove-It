{
 "cells": [
  {
   "cell_type": "markdown",
   "metadata": {},
   "source": [
    "Expression of type <a class=\"ProveItLink\" href=\"../../../../../../../../doc/html/api/proveit.ExprTuple.html\">ExprTuple</a>\n",
    "=======================\n",
    "# from the theory of <a class=\"ProveItLink\" href=\"../../../_theory_nbs_/theory.ipynb\">proveit.physics.quantum.algebra</a>"
   ]
  },
  {
   "cell_type": "code",
   "execution_count": 1,
   "metadata": {},
   "outputs": [],
   "source": [
    "import proveit\n",
    "# Automation is not needed when building an expression:\n",
    "proveit.defaults.automation = False # This will speed things up.\n",
    "proveit.defaults.inline_pngs = False # Makes files smaller.\n",
    "%load_expr # Load the stored expression as 'stored_expr'\n",
    "# import Expression classes needed to build the expression\n",
    "from proveit import A, Conditional, ExprTuple, Function, Lambda\n",
    "from proveit.linear_algebra import Hspace\n",
    "from proveit.logic import Equals, InSet\n",
    "from proveit.physics.quantum import Qmult, var_ket_psi"
   ]
  },
  {
   "cell_type": "code",
   "execution_count": 2,
   "metadata": {},
   "outputs": [
    {
     "data": {
      "text/html": [
       "<strong id=\"expr\">expr:</strong> <a class=\"ProveItLink\" href=\"expr.ipynb\"><img src=\"expr.png\" style=\"display:inline;vertical-align:middle;\" /></a><br>"
      ],
      "text/plain": [
       "<IPython.core.display.HTML object>"
      ]
     },
     "metadata": {},
     "output_type": "display_data"
    }
   ],
   "source": [
    "# build up the expression from sub-expressions\n",
    "expr = ExprTuple(Lambda(var_ket_psi, Conditional(Equals(Qmult(A, var_ket_psi), Function(Qmult(A), [var_ket_psi])), InSet(var_ket_psi, Hspace))))"
   ]
  },
  {
   "cell_type": "code",
   "execution_count": 3,
   "metadata": {},
   "outputs": [
    {
     "name": "stdout",
     "output_type": "stream",
     "text": [
      "Passed sanity check: expr matches stored_expr\n"
     ]
    }
   ],
   "source": [
    "# check that the built expression is the same as the stored expression\n",
    "assert expr == stored_expr\n",
    "assert expr._style_id == stored_expr._style_id\n",
    "print(\"Passed sanity check: expr matches stored_expr\")"
   ]
  },
  {
   "cell_type": "code",
   "execution_count": 4,
   "metadata": {},
   "outputs": [
    {
     "name": "stdout",
     "output_type": "stream",
     "text": [
      "\\left(\\lvert \\psi \\rangle \\mapsto \\left\\{\\left(A \\thinspace \\lvert \\psi \\rangle\\right) = \\left[A\\right]\\left(\\lvert \\psi \\rangle\\right) \\textrm{ if } \\lvert \\psi \\rangle \\in \\mathcal{H}\\right..\\right)\n"
     ]
    }
   ],
   "source": [
    "# Show the LaTeX representation of the expression for convenience if you need it.\n",
    "print(stored_expr.latex())"
   ]
  },
  {
   "cell_type": "code",
   "execution_count": 5,
   "metadata": {},
   "outputs": [
    {
     "data": {
      "text/html": [
       "no style options"
      ],
      "text/plain": [
       "no style options"
      ]
     },
     "metadata": {},
     "output_type": "display_data"
    }
   ],
   "source": [
    "stored_expr.style_options()"
   ]
  },
  {
   "cell_type": "code",
   "execution_count": 6,
   "metadata": {},
   "outputs": [
    {
     "data": {
      "text/html": [
       "<table><tr><th>&nbsp;</th><th>core type</th><th>sub-expressions</th><th>expression</th></tr>\n",
       "<tr><td>0</td><td>ExprTuple</td><td>1</td><td><a class=\"ProveItLink\" href=\"expr.ipynb\"><img src=\"expr.png\" style=\"display:inline;vertical-align:middle;\" /></a></td></tr>\n",
       "<tr><td>1</td><td>Lambda</td><td>parameter:&nbsp;17<br>body:&nbsp;2<br></td><td><a class=\"ProveItLink\" href=\"../54bec1beb9647798eb4b983e0c87cba30ae408740/expr.ipynb\"><img src=\"../54bec1beb9647798eb4b983e0c87cba30ae408740/expr.png\" style=\"display:inline;vertical-align:middle;\" /></a></td></tr>\n",
       "<tr><td>2</td><td>Conditional</td><td>value:&nbsp;3<br>condition:&nbsp;4<br></td><td><a class=\"ProveItLink\" href=\"../c7fd122a5a86f4b97bb44768ef9deafa71381b950/expr.ipynb\"><img src=\"../c7fd122a5a86f4b97bb44768ef9deafa71381b950/expr.png\" style=\"display:inline;vertical-align:middle;\" /></a></td></tr>\n",
       "<tr><td>3</td><td>Operation</td><td>operator:&nbsp;5<br>operands:&nbsp;6<br></td><td><a class=\"ProveItLink\" href=\"../179f959994ccff2237550bb318f98d2cc3f918a10/expr.ipynb\"><img src=\"../179f959994ccff2237550bb318f98d2cc3f918a10/expr.png\" style=\"display:inline;vertical-align:middle;\" /></a></td></tr>\n",
       "<tr><td>4</td><td>Operation</td><td>operator:&nbsp;7<br>operands:&nbsp;8<br></td><td><a class=\"ProveItLink\" href=\"../878f2b4530e2e5304533ce5413156fd1621b70400/expr.ipynb\"><img src=\"../878f2b4530e2e5304533ce5413156fd1621b70400/expr.png\" style=\"display:inline;vertical-align:middle;\" /></a></td></tr>\n",
       "<tr><td>5</td><td>Literal</td><td></td><td><a class=\"ProveItLink\" href=\"../../../../../../logic/equality/__pv_it/common/fb96dc12b2aa8801dda64d0132b396c63d1502bb0/expr.ipynb\"><img src=\"../../../../../../logic/equality/__pv_it/common/fb96dc12b2aa8801dda64d0132b396c63d1502bb0/expr.png\" style=\"display:inline;vertical-align:middle;\" /></a></td></tr>\n",
       "<tr><td>6</td><td>ExprTuple</td><td>9, 10</td><td><a class=\"ProveItLink\" href=\"../1a9929d5fa7169932e4266ba66703a910f2ef5ad0/expr.ipynb\"><img src=\"../1a9929d5fa7169932e4266ba66703a910f2ef5ad0/expr.png\" style=\"display:inline;vertical-align:middle;\" /></a></td></tr>\n",
       "<tr><td>7</td><td>Literal</td><td></td><td><a class=\"ProveItLink\" href=\"../../../../../../logic/sets/membership/__pv_it/common/477487d8796864d23d5810f83761435f25167f690/expr.ipynb\"><img src=\"../../../../../../logic/sets/membership/__pv_it/common/477487d8796864d23d5810f83761435f25167f690/expr.png\" style=\"display:inline;vertical-align:middle;\" /></a></td></tr>\n",
       "<tr><td>8</td><td>ExprTuple</td><td>17, 11</td><td><a class=\"ProveItLink\" href=\"../45d117c0688e7bdf2539e0936dc96443a677d60f0/expr.ipynb\"><img src=\"../45d117c0688e7bdf2539e0936dc96443a677d60f0/expr.png\" style=\"display:inline;vertical-align:middle;\" /></a></td></tr>\n",
       "<tr><td>9</td><td>Operation</td><td>operator:&nbsp;15<br>operands:&nbsp;12<br></td><td><a class=\"ProveItLink\" href=\"../315e7ef4a13478c92dede86abfa278a95715fbc80/expr.ipynb\"><img src=\"../315e7ef4a13478c92dede86abfa278a95715fbc80/expr.png\" style=\"display:inline;vertical-align:middle;\" /></a></td></tr>\n",
       "<tr><td>10</td><td>Operation</td><td>operator:&nbsp;13<br>operand:&nbsp;17<br></td><td><a class=\"ProveItLink\" href=\"../2ade0b9b60a3d5cb1e894a535aa3dd0db663cafe0/expr.ipynb\"><img src=\"../2ade0b9b60a3d5cb1e894a535aa3dd0db663cafe0/expr.png\" style=\"display:inline;vertical-align:middle;\" /></a></td></tr>\n",
       "<tr><td>11</td><td>Variable</td><td></td><td><a class=\"ProveItLink\" href=\"../../../../../../linear_algebra/inner_products/__pv_it/common/0a298dc12c549b5fdc96454972e9674c7dbf104f0/expr.ipynb\"><img src=\"../../../../../../linear_algebra/inner_products/__pv_it/common/0a298dc12c549b5fdc96454972e9674c7dbf104f0/expr.png\" style=\"display:inline;vertical-align:middle;\" /></a></td></tr>\n",
       "<tr><td>12</td><td>ExprTuple</td><td>18, 17</td><td><a class=\"ProveItLink\" href=\"../1a421d5c2e3d2e33e9e6ce0db7e9697ecc7551ae0/expr.ipynb\"><img src=\"../1a421d5c2e3d2e33e9e6ce0db7e9697ecc7551ae0/expr.png\" style=\"display:inline;vertical-align:middle;\" /></a></td></tr>\n",
       "<tr><td>13</td><td>Operation</td><td>operator:&nbsp;15<br>operand:&nbsp;18<br></td><td><a class=\"ProveItLink\" href=\"../fe02f8ed473f63760113f4f1e5a035bfa1e779460/expr.ipynb\"><img src=\"../fe02f8ed473f63760113f4f1e5a035bfa1e779460/expr.png\" style=\"display:inline;vertical-align:middle;\" /></a></td></tr>\n",
       "<tr><td>14</td><td>ExprTuple</td><td>17</td><td><a class=\"ProveItLink\" href=\"../80ed9bf14a6ef50aaa4da94b0dbfb5b44f09ae9c0/expr.ipynb\"><img src=\"../80ed9bf14a6ef50aaa4da94b0dbfb5b44f09ae9c0/expr.png\" style=\"display:inline;vertical-align:middle;\" /></a></td></tr>\n",
       "<tr><td>15</td><td>Literal</td><td></td><td><a class=\"ProveItLink\" href=\"../../common/2972e0deb52c96565b39f905d407d7302ae287580/expr.ipynb\"><img src=\"../../common/2972e0deb52c96565b39f905d407d7302ae287580/expr.png\" style=\"display:inline;vertical-align:middle;\" /></a></td></tr>\n",
       "<tr><td>16</td><td>ExprTuple</td><td>18</td><td><a class=\"ProveItLink\" href=\"../0dc6c42a8c40e6a1c0a1b3cc41b6e5aa01a661750/expr.ipynb\"><img src=\"../0dc6c42a8c40e6a1c0a1b3cc41b6e5aa01a661750/expr.png\" style=\"display:inline;vertical-align:middle;\" /></a></td></tr>\n",
       "<tr><td>17</td><td>Variable</td><td></td><td><a class=\"ProveItLink\" href=\"../../../../__pv_it/common/798a4b85c58eead0b86ebff17277cd7c4a79a3160/expr.ipynb\"><img src=\"../../../../__pv_it/common/798a4b85c58eead0b86ebff17277cd7c4a79a3160/expr.png\" style=\"display:inline;vertical-align:middle;\" /></a></td></tr>\n",
       "<tr><td>18</td><td>Variable</td><td></td><td><a class=\"ProveItLink\" href=\"../../../../../../__pv_it/common/09585084922504426caf1db2ff588a23a0932a960/expr.ipynb\"><img src=\"../../../../../../__pv_it/common/09585084922504426caf1db2ff588a23a0932a960/expr.png\" style=\"display:inline;vertical-align:middle;\" /></a></td></tr>\n",
       "</table>\n"
      ],
      "text/plain": [
       "0. (|psi> -> {(A . |psi>) = [A](|psi>) if |psi> in H.)\n",
       "   core type: ExprTuple\n",
       "   sub-expressions: 1\n",
       "1. |psi> -> {(A . |psi>) = [A](|psi>) if |psi> in H.\n",
       "   core type: Lambda\n",
       "   parameter: 17\n",
       "   body: 2\n",
       "2. {(A . |psi>) = [A](|psi>) if |psi> in H.\n",
       "   core type: Conditional\n",
       "   value: 3\n",
       "   condition: 4\n",
       "3. (A . |psi>) = [A](|psi>)\n",
       "   core type: Operation\n",
       "   operator: 5\n",
       "   operands: 6\n",
       "4. |psi> in H\n",
       "   core type: Operation\n",
       "   operator: 7\n",
       "   operands: 8\n",
       "5. =\n",
       "   core type: Literal\n",
       "   sub-expressions: \n",
       "6. (A . |psi>, [A](|psi>))\n",
       "   core type: ExprTuple\n",
       "   sub-expressions: 9, 10\n",
       "7. in\n",
       "   core type: Literal\n",
       "   sub-expressions: \n",
       "8. (|psi>, H)\n",
       "   core type: ExprTuple\n",
       "   sub-expressions: 17, 11\n",
       "9. A . |psi>\n",
       "   core type: Operation\n",
       "   operator: 15\n",
       "   operands: 12\n",
       "10. [A](|psi>)\n",
       "    core type: Operation\n",
       "    operator: 13\n",
       "    operand: 17\n",
       "11. H\n",
       "    core type: Variable\n",
       "    sub-expressions: \n",
       "12. (A, |psi>)\n",
       "    core type: ExprTuple\n",
       "    sub-expressions: 18, 17\n",
       "13. [A]\n",
       "    core type: Operation\n",
       "    operator: 15\n",
       "    operand: 18\n",
       "14. (|psi>)\n",
       "    core type: ExprTuple\n",
       "    sub-expressions: 17\n",
       "15. .\n",
       "    core type: Literal\n",
       "    sub-expressions: \n",
       "16. (A)\n",
       "    core type: ExprTuple\n",
       "    sub-expressions: 18\n",
       "17. |psi>\n",
       "    core type: Variable\n",
       "    sub-expressions: \n",
       "18. A\n",
       "    core type: Variable\n",
       "    sub-expressions: "
      ]
     },
     "metadata": {},
     "output_type": "display_data"
    }
   ],
   "source": [
    "# display the expression information\n",
    "stored_expr.expr_info()"
   ]
  },
  {
   "cell_type": "code",
   "execution_count": null,
   "metadata": {},
   "outputs": [],
   "source": []
  }
 ],
 "metadata": {
  "kernelspec": {
   "display_name": "Python 3",
   "language": "python",
   "name": "python3"
  }
 },
 "nbformat": 4,
 "nbformat_minor": 0
}