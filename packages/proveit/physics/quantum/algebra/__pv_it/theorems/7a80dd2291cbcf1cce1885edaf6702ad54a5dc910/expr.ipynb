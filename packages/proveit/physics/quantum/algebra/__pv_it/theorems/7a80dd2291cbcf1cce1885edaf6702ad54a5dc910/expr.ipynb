{
 "cells": [
  {
   "cell_type": "markdown",
   "metadata": {},
   "source": [
    "Expression of type <a class=\"ProveItLink\" href=\"../../../../../../../../doc/html/api/proveit.Lambda.html\">Lambda</a>\n",
    "=======================\n",
    "# from the theory of <a class=\"ProveItLink\" href=\"../../../_theory_nbs_/theory.ipynb\">proveit.physics.quantum.algebra</a>"
   ]
  },
  {
   "cell_type": "code",
   "execution_count": 1,
   "metadata": {},
   "outputs": [],
   "source": [
    "import proveit\n",
    "# Automation is not needed when building an expression:\n",
    "proveit.defaults.automation = False # This will speed things up.\n",
    "proveit.defaults.inline_pngs = False # Makes files smaller.\n",
    "%load_expr # Load the stored expression as 'stored_expr'\n",
    "# import Expression classes needed to build the expression\n",
    "from proveit import A, Conditional, Lambda, X, c\n",
    "from proveit.linear_algebra import HilbertSpaces, Hspace, LinMap\n",
    "from proveit.logic import Forall, InSet\n",
    "from proveit.numbers import Complex\n",
    "from proveit.physics.quantum import Qmult"
   ]
  },
  {
   "cell_type": "code",
   "execution_count": 2,
   "metadata": {},
   "outputs": [
    {
     "data": {
      "text/html": [
       "<strong id=\"expr\">expr:</strong> <a class=\"ProveItLink\" href=\"expr.ipynb\"><img src=\"expr.png\" style=\"display:inline;vertical-align:middle;\" /></a><br>"
      ],
      "text/plain": [
       "<IPython.core.display.HTML object>"
      ]
     },
     "metadata": {},
     "output_type": "display_data"
    }
   ],
   "source": [
    "# build up the expression from sub-expressions\n",
    "sub_expr1 = LinMap(Hspace, X)\n",
    "expr = Lambda(c, Conditional(Forall(instance_param_or_params = [Hspace, X], instance_expr = Forall(instance_param_or_params = [A], instance_expr = InSet(Qmult(A, c), sub_expr1), condition = InSet(Qmult(A), sub_expr1)), domain = HilbertSpaces), InSet(c, Complex)))"
   ]
  },
  {
   "cell_type": "code",
   "execution_count": 3,
   "metadata": {},
   "outputs": [
    {
     "name": "stdout",
     "output_type": "stream",
     "text": [
      "Passed sanity check: expr matches stored_expr\n"
     ]
    }
   ],
   "source": [
    "# check that the built expression is the same as the stored expression\n",
    "assert expr == stored_expr\n",
    "assert expr._style_id == stored_expr._style_id\n",
    "print(\"Passed sanity check: expr matches stored_expr\")"
   ]
  },
  {
   "cell_type": "code",
   "execution_count": 4,
   "metadata": {},
   "outputs": [
    {
     "name": "stdout",
     "output_type": "stream",
     "text": [
      "c \\mapsto \\left\\{\\forall_{\\mathcal{H}, X \\underset{{\\scriptscriptstyle c}}{\\in} \\textrm{HilbertSpaces}}~\\left[\\forall_{A~|~\\left[A\\right] \\in \\mathcal{L}\\left(\\mathcal{H}, X\\right)}~\\left(\\left(A \\thinspace c\\right) \\in \\mathcal{L}\\left(\\mathcal{H}, X\\right)\\right)\\right] \\textrm{ if } c \\in \\mathbb{C}\\right..\n"
     ]
    }
   ],
   "source": [
    "# Show the LaTeX representation of the expression for convenience if you need it.\n",
    "print(stored_expr.latex())"
   ]
  },
  {
   "cell_type": "code",
   "execution_count": 5,
   "metadata": {},
   "outputs": [
    {
     "data": {
      "text/html": [
       "no style options"
      ],
      "text/plain": [
       "no style options"
      ]
     },
     "metadata": {},
     "output_type": "display_data"
    }
   ],
   "source": [
    "stored_expr.style_options()"
   ]
  },
  {
   "cell_type": "code",
   "execution_count": 6,
   "metadata": {},
   "outputs": [
    {
     "data": {
      "text/html": [
       "<table><tr><th>&nbsp;</th><th>core type</th><th>sub-expressions</th><th>expression</th></tr>\n",
       "<tr><td>0</td><td>Lambda</td><td>parameter:&nbsp;37<br>body:&nbsp;2<br></td><td><a class=\"ProveItLink\" href=\"expr.ipynb\"><img src=\"expr.png\" style=\"display:inline;vertical-align:middle;\" /></a></td></tr>\n",
       "<tr><td>1</td><td>ExprTuple</td><td>37</td><td><a class=\"ProveItLink\" href=\"../25c776cc10fb7df90a1cddbf8213d6561f6b7bd20/expr.ipynb\"><img src=\"../25c776cc10fb7df90a1cddbf8213d6561f6b7bd20/expr.png\" style=\"display:inline;vertical-align:middle;\" /></a></td></tr>\n",
       "<tr><td>2</td><td>Conditional</td><td>value:&nbsp;3<br>condition:&nbsp;4<br></td><td><a class=\"ProveItLink\" href=\"../754496f29d631481839a9f0347db4b2b38298cf30/expr.ipynb\"><img src=\"../754496f29d631481839a9f0347db4b2b38298cf30/expr.png\" style=\"display:inline;vertical-align:middle;\" /></a></td></tr>\n",
       "<tr><td>3</td><td>Operation</td><td>operator:&nbsp;12<br>operand:&nbsp;7<br></td><td><a class=\"ProveItLink\" href=\"../068bd23e41ddaf8c564d7c82b74515ae02d91c290/expr.ipynb\"><img src=\"../068bd23e41ddaf8c564d7c82b74515ae02d91c290/expr.png\" style=\"display:inline;vertical-align:middle;\" /></a></td></tr>\n",
       "<tr><td>4</td><td>Operation</td><td>operator:&nbsp;27<br>operands:&nbsp;6<br></td><td><a class=\"ProveItLink\" href=\"../b66b5547fa9b0b910f79351152926c658c2718190/expr.ipynb\"><img src=\"../b66b5547fa9b0b910f79351152926c658c2718190/expr.png\" style=\"display:inline;vertical-align:middle;\" /></a></td></tr>\n",
       "<tr><td>5</td><td>ExprTuple</td><td>7</td><td><a class=\"ProveItLink\" href=\"../a2d5b85a98a6832f2fa1d8d90ba924f386e4e5dd0/expr.ipynb\"><img src=\"../a2d5b85a98a6832f2fa1d8d90ba924f386e4e5dd0/expr.png\" style=\"display:inline;vertical-align:middle;\" /></a></td></tr>\n",
       "<tr><td>6</td><td>ExprTuple</td><td>37, 8</td><td><a class=\"ProveItLink\" href=\"../1b82c0752df3710a50857c9be29b2bfe48089de70/expr.ipynb\"><img src=\"../1b82c0752df3710a50857c9be29b2bfe48089de70/expr.png\" style=\"display:inline;vertical-align:middle;\" /></a></td></tr>\n",
       "<tr><td>7</td><td>Lambda</td><td>parameters:&nbsp;36<br>body:&nbsp;9<br></td><td><a class=\"ProveItLink\" href=\"../624c15c90513a508f38515017462113bc3f85eb80/expr.ipynb\"><img src=\"../624c15c90513a508f38515017462113bc3f85eb80/expr.png\" style=\"display:inline;vertical-align:middle;\" /></a></td></tr>\n",
       "<tr><td>8</td><td>Literal</td><td></td><td><a class=\"ProveItLink\" href=\"../../../../../../numbers/number_sets/complex_numbers/__pv_it/common/d18a028138f659eda00de597c28a3447fe87eb100/expr.ipynb\"><img src=\"../../../../../../numbers/number_sets/complex_numbers/__pv_it/common/d18a028138f659eda00de597c28a3447fe87eb100/expr.png\" style=\"display:inline;vertical-align:middle;\" /></a></td></tr>\n",
       "<tr><td>9</td><td>Conditional</td><td>value:&nbsp;10<br>condition:&nbsp;11<br></td><td><a class=\"ProveItLink\" href=\"../1bc29b808e10e4b7de418d49e4fc3dfed36176fc0/expr.ipynb\"><img src=\"../1bc29b808e10e4b7de418d49e4fc3dfed36176fc0/expr.png\" style=\"display:inline;vertical-align:middle;\" /></a></td></tr>\n",
       "<tr><td>10</td><td>Operation</td><td>operator:&nbsp;12<br>operand:&nbsp;16<br></td><td><a class=\"ProveItLink\" href=\"../cd82ea8cb6f97d943d9fe410a4c97563f21446e10/expr.ipynb\"><img src=\"../cd82ea8cb6f97d943d9fe410a4c97563f21446e10/expr.png\" style=\"display:inline;vertical-align:middle;\" /></a></td></tr>\n",
       "<tr><td>11</td><td>Operation</td><td>operator:&nbsp;14<br>operands:&nbsp;15<br></td><td><a class=\"ProveItLink\" href=\"../4afa8487d9d5079fc542a110a0bfa712545923ce0/expr.ipynb\"><img src=\"../4afa8487d9d5079fc542a110a0bfa712545923ce0/expr.png\" style=\"display:inline;vertical-align:middle;\" /></a></td></tr>\n",
       "<tr><td>12</td><td>Literal</td><td></td><td><a class=\"ProveItLink\" href=\"../../../../../../logic/booleans/quantification/universality/__pv_it/common/083d2baa0b8ecab1d230f9ec29a15aa1355809fb0/expr.ipynb\"><img src=\"../../../../../../logic/booleans/quantification/universality/__pv_it/common/083d2baa0b8ecab1d230f9ec29a15aa1355809fb0/expr.png\" style=\"display:inline;vertical-align:middle;\" /></a></td></tr>\n",
       "<tr><td>13</td><td>ExprTuple</td><td>16</td><td><a class=\"ProveItLink\" href=\"../72f9ff0ef841ef31aa1722936c23ab62938d69c40/expr.ipynb\"><img src=\"../72f9ff0ef841ef31aa1722936c23ab62938d69c40/expr.png\" style=\"display:inline;vertical-align:middle;\" /></a></td></tr>\n",
       "<tr><td>14</td><td>Literal</td><td></td><td><a class=\"ProveItLink\" href=\"../../../../../../logic/booleans/conjunction/__pv_it/common/42118ff318bd65d98b1393f64ce7c2269feef76e0/expr.ipynb\"><img src=\"../../../../../../logic/booleans/conjunction/__pv_it/common/42118ff318bd65d98b1393f64ce7c2269feef76e0/expr.png\" style=\"display:inline;vertical-align:middle;\" /></a></td></tr>\n",
       "<tr><td>15</td><td>ExprTuple</td><td>17, 18</td><td><a class=\"ProveItLink\" href=\"../9c696caba049a6bc8331bb142b9d3b9f6f494c3a0/expr.ipynb\"><img src=\"../9c696caba049a6bc8331bb142b9d3b9f6f494c3a0/expr.png\" style=\"display:inline;vertical-align:middle;\" /></a></td></tr>\n",
       "<tr><td>16</td><td>Lambda</td><td>parameter:&nbsp;38<br>body:&nbsp;19<br></td><td><a class=\"ProveItLink\" href=\"../d31c1e234cfbf8cba374c4a3a0b0ae8ff68765d00/expr.ipynb\"><img src=\"../d31c1e234cfbf8cba374c4a3a0b0ae8ff68765d00/expr.png\" style=\"display:inline;vertical-align:middle;\" /></a></td></tr>\n",
       "<tr><td>17</td><td>Operation</td><td>operator:&nbsp;21<br>operands:&nbsp;20<br></td><td><a class=\"ProveItLink\" href=\"../31d4094b2894fdb2d15795fed222b1eb5c7ff5bc0/expr.ipynb\"><img src=\"../31d4094b2894fdb2d15795fed222b1eb5c7ff5bc0/expr.png\" style=\"display:inline;vertical-align:middle;\" /></a></td></tr>\n",
       "<tr><td>18</td><td>Operation</td><td>operator:&nbsp;21<br>operands:&nbsp;22<br></td><td><a class=\"ProveItLink\" href=\"../b43dcc22027be8fd048b25799a7ab0f36727ab830/expr.ipynb\"><img src=\"../b43dcc22027be8fd048b25799a7ab0f36727ab830/expr.png\" style=\"display:inline;vertical-align:middle;\" /></a></td></tr>\n",
       "<tr><td>19</td><td>Conditional</td><td>value:&nbsp;23<br>condition:&nbsp;24<br></td><td><a class=\"ProveItLink\" href=\"../2bf03012d7dd88b77ad47fc8ddd483bc715239f70/expr.ipynb\"><img src=\"../2bf03012d7dd88b77ad47fc8ddd483bc715239f70/expr.png\" style=\"display:inline;vertical-align:middle;\" /></a></td></tr>\n",
       "<tr><td>20</td><td>ExprTuple</td><td>39, 25</td><td><a class=\"ProveItLink\" href=\"../8dd6744fe0111d3e5e6b1ce629b4848eb233fd690/expr.ipynb\"><img src=\"../8dd6744fe0111d3e5e6b1ce629b4848eb233fd690/expr.png\" style=\"display:inline;vertical-align:middle;\" /></a></td></tr>\n",
       "<tr><td>21</td><td>Literal</td><td></td><td><a class=\"ProveItLink\" href=\"../../../../../../logic/classes/membership/__pv_it/common/e3b437d28fbe17f0a50c9789c7c9b47a1270f1420/expr.ipynb\"><img src=\"../../../../../../logic/classes/membership/__pv_it/common/e3b437d28fbe17f0a50c9789c7c9b47a1270f1420/expr.png\" style=\"display:inline;vertical-align:middle;\" /></a></td></tr>\n",
       "<tr><td>22</td><td>ExprTuple</td><td>40, 25</td><td><a class=\"ProveItLink\" href=\"../e31703fc6f60ac02786a06dda15ce3bf7eac18990/expr.ipynb\"><img src=\"../e31703fc6f60ac02786a06dda15ce3bf7eac18990/expr.png\" style=\"display:inline;vertical-align:middle;\" /></a></td></tr>\n",
       "<tr><td>23</td><td>Operation</td><td>operator:&nbsp;27<br>operands:&nbsp;26<br></td><td><a class=\"ProveItLink\" href=\"../b3c626dc59d8ae69e366abf9f89a49ad4e51ca260/expr.ipynb\"><img src=\"../b3c626dc59d8ae69e366abf9f89a49ad4e51ca260/expr.png\" style=\"display:inline;vertical-align:middle;\" /></a></td></tr>\n",
       "<tr><td>24</td><td>Operation</td><td>operator:&nbsp;27<br>operands:&nbsp;28<br></td><td><a class=\"ProveItLink\" href=\"../4da3bc5aac7c042b1d0a26d275750b2a700713e80/expr.ipynb\"><img src=\"../4da3bc5aac7c042b1d0a26d275750b2a700713e80/expr.png\" style=\"display:inline;vertical-align:middle;\" /></a></td></tr>\n",
       "<tr><td>25</td><td>Literal</td><td></td><td><a class=\"ProveItLink\" href=\"../../../../../../linear_algebra/inner_products/__pv_it/common/63495bb81132197a40ba1811088142655bc8cabd0/expr.ipynb\"><img src=\"../../../../../../linear_algebra/inner_products/__pv_it/common/63495bb81132197a40ba1811088142655bc8cabd0/expr.png\" style=\"display:inline;vertical-align:middle;\" /></a></td></tr>\n",
       "<tr><td>26</td><td>ExprTuple</td><td>29, 31</td><td><a class=\"ProveItLink\" href=\"../d66fc374ec9290acf8b084da936f4dc5afe2505f0/expr.ipynb\"><img src=\"../d66fc374ec9290acf8b084da936f4dc5afe2505f0/expr.png\" style=\"display:inline;vertical-align:middle;\" /></a></td></tr>\n",
       "<tr><td>27</td><td>Literal</td><td></td><td><a class=\"ProveItLink\" href=\"../../../../../../logic/sets/membership/__pv_it/common/477487d8796864d23d5810f83761435f25167f690/expr.ipynb\"><img src=\"../../../../../../logic/sets/membership/__pv_it/common/477487d8796864d23d5810f83761435f25167f690/expr.png\" style=\"display:inline;vertical-align:middle;\" /></a></td></tr>\n",
       "<tr><td>28</td><td>ExprTuple</td><td>30, 31</td><td><a class=\"ProveItLink\" href=\"../c5436730d210cdcdfb45ddd315722f1b50cb2e9d0/expr.ipynb\"><img src=\"../c5436730d210cdcdfb45ddd315722f1b50cb2e9d0/expr.png\" style=\"display:inline;vertical-align:middle;\" /></a></td></tr>\n",
       "<tr><td>29</td><td>Operation</td><td>operator:&nbsp;33<br>operands:&nbsp;32<br></td><td><a class=\"ProveItLink\" href=\"../d24c56bb646b54c2d784ba0d1d6735d67ec54f650/expr.ipynb\"><img src=\"../d24c56bb646b54c2d784ba0d1d6735d67ec54f650/expr.png\" style=\"display:inline;vertical-align:middle;\" /></a></td></tr>\n",
       "<tr><td>30</td><td>Operation</td><td>operator:&nbsp;33<br>operand:&nbsp;38<br></td><td><a class=\"ProveItLink\" href=\"../fe02f8ed473f63760113f4f1e5a035bfa1e779460/expr.ipynb\"><img src=\"../fe02f8ed473f63760113f4f1e5a035bfa1e779460/expr.png\" style=\"display:inline;vertical-align:middle;\" /></a></td></tr>\n",
       "<tr><td>31</td><td>Operation</td><td>operator:&nbsp;35<br>operands:&nbsp;36<br></td><td><a class=\"ProveItLink\" href=\"../7ab5ea9149ebf1472e1d711f62e59f07c5e1fdfa0/expr.ipynb\"><img src=\"../7ab5ea9149ebf1472e1d711f62e59f07c5e1fdfa0/expr.png\" style=\"display:inline;vertical-align:middle;\" /></a></td></tr>\n",
       "<tr><td>32</td><td>ExprTuple</td><td>38, 37</td><td><a class=\"ProveItLink\" href=\"../7a68d52b677523dc07d4b991c98857d6acb964b80/expr.ipynb\"><img src=\"../7a68d52b677523dc07d4b991c98857d6acb964b80/expr.png\" style=\"display:inline;vertical-align:middle;\" /></a></td></tr>\n",
       "<tr><td>33</td><td>Literal</td><td></td><td><a class=\"ProveItLink\" href=\"../../common/2972e0deb52c96565b39f905d407d7302ae287580/expr.ipynb\"><img src=\"../../common/2972e0deb52c96565b39f905d407d7302ae287580/expr.png\" style=\"display:inline;vertical-align:middle;\" /></a></td></tr>\n",
       "<tr><td>34</td><td>ExprTuple</td><td>38</td><td><a class=\"ProveItLink\" href=\"../0dc6c42a8c40e6a1c0a1b3cc41b6e5aa01a661750/expr.ipynb\"><img src=\"../0dc6c42a8c40e6a1c0a1b3cc41b6e5aa01a661750/expr.png\" style=\"display:inline;vertical-align:middle;\" /></a></td></tr>\n",
       "<tr><td>35</td><td>Literal</td><td></td><td><a class=\"ProveItLink\" href=\"../../../../../../linear_algebra/linear_maps/__pv_it/common/d323a251b3f504c3443ff8de393dbf12697838a10/expr.ipynb\"><img src=\"../../../../../../linear_algebra/linear_maps/__pv_it/common/d323a251b3f504c3443ff8de393dbf12697838a10/expr.png\" style=\"display:inline;vertical-align:middle;\" /></a></td></tr>\n",
       "<tr><td>36</td><td>ExprTuple</td><td>39, 40</td><td><a class=\"ProveItLink\" href=\"../8e7e6f28bc2d529b8d61f74929566839b8a3cd1a0/expr.ipynb\"><img src=\"../8e7e6f28bc2d529b8d61f74929566839b8a3cd1a0/expr.png\" style=\"display:inline;vertical-align:middle;\" /></a></td></tr>\n",
       "<tr><td>37</td><td>Variable</td><td></td><td><a class=\"ProveItLink\" href=\"../../../../../../__pv_it/common/ceef4280a2f1cc604b455b54e735507244cc62cd0/expr.ipynb\"><img src=\"../../../../../../__pv_it/common/ceef4280a2f1cc604b455b54e735507244cc62cd0/expr.png\" style=\"display:inline;vertical-align:middle;\" /></a></td></tr>\n",
       "<tr><td>38</td><td>Variable</td><td></td><td><a class=\"ProveItLink\" href=\"../../../../../../__pv_it/common/09585084922504426caf1db2ff588a23a0932a960/expr.ipynb\"><img src=\"../../../../../../__pv_it/common/09585084922504426caf1db2ff588a23a0932a960/expr.png\" style=\"display:inline;vertical-align:middle;\" /></a></td></tr>\n",
       "<tr><td>39</td><td>Variable</td><td></td><td><a class=\"ProveItLink\" href=\"../../../../../../linear_algebra/inner_products/__pv_it/common/0a298dc12c549b5fdc96454972e9674c7dbf104f0/expr.ipynb\"><img src=\"../../../../../../linear_algebra/inner_products/__pv_it/common/0a298dc12c549b5fdc96454972e9674c7dbf104f0/expr.png\" style=\"display:inline;vertical-align:middle;\" /></a></td></tr>\n",
       "<tr><td>40</td><td>Variable</td><td></td><td><a class=\"ProveItLink\" href=\"../../../../../../__pv_it/common/f1ca094affb79f5011ff4d63eb4e121bfbde7f330/expr.ipynb\"><img src=\"../../../../../../__pv_it/common/f1ca094affb79f5011ff4d63eb4e121bfbde7f330/expr.png\" style=\"display:inline;vertical-align:middle;\" /></a></td></tr>\n",
       "</table>\n"
      ],
      "text/plain": [
       "0. c -> {forall_{H, X in_c HilbertSpaces} [forall_{A | [A] in LINMAP(H, X)} ((A . c) in LINMAP(H, X))] if c in Complex.\n",
       "   core type: Lambda\n",
       "   parameter: 37\n",
       "   body: 2\n",
       "1. (c)\n",
       "   core type: ExprTuple\n",
       "   sub-expressions: 37\n",
       "2. {forall_{H, X in_c HilbertSpaces} [forall_{A | [A] in LINMAP(H, X)} ((A . c) in LINMAP(H, X))] if c in Complex.\n",
       "   core type: Conditional\n",
       "   value: 3\n",
       "   condition: 4\n",
       "3. forall_{H, X in_c HilbertSpaces} [forall_{A | [A] in LINMAP(H, X)} ((A . c) in LINMAP(H, X))]\n",
       "   core type: Operation\n",
       "   operator: 12\n",
       "   operand: 7\n",
       "4. c in Complex\n",
       "   core type: Operation\n",
       "   operator: 27\n",
       "   operands: 6\n",
       "5. ((H, X) -> {forall_{A | [A] in LINMAP(H, X)} ((A . c) in LINMAP(H, X)) if H in_c HilbertSpaces ,  X in_c HilbertSpaces.)\n",
       "   core type: ExprTuple\n",
       "   sub-expressions: 7\n",
       "6. (c, Complex)\n",
       "   core type: ExprTuple\n",
       "   sub-expressions: 37, 8\n",
       "7. (H, X) -> {forall_{A | [A] in LINMAP(H, X)} ((A . c) in LINMAP(H, X)) if H in_c HilbertSpaces ,  X in_c HilbertSpaces.\n",
       "   core type: Lambda\n",
       "   parameters: 36\\n   body: 9\n",
       "8. Complex\n",
       "   core type: Literal\n",
       "   sub-expressions: \n",
       "9. {forall_{A | [A] in LINMAP(H, X)} ((A . c) in LINMAP(H, X)) if H in_c HilbertSpaces ,  X in_c HilbertSpaces.\n",
       "   core type: Conditional\n",
       "   value: 10\n",
       "   condition: 11\n",
       "10. forall_{A | [A] in LINMAP(H, X)} ((A . c) in LINMAP(H, X))\n",
       "    core type: Operation\n",
       "    operator: 12\n",
       "    operand: 16\n",
       "11. (H in_c HilbertSpaces) and (X in_c HilbertSpaces)\n",
       "    core type: Operation\n",
       "    operator: 14\n",
       "    operands: 15\n",
       "12. forall\n",
       "    core type: Literal\n",
       "    sub-expressions: \n",
       "13. (A -> {(A . c) in LINMAP(H, X) if [A] in LINMAP(H, X).)\n",
       "    core type: ExprTuple\n",
       "    sub-expressions: 16\n",
       "14. and\n",
       "    core type: Literal\n",
       "    sub-expressions: \n",
       "15. (H in_c HilbertSpaces, X in_c HilbertSpaces)\n",
       "    core type: ExprTuple\n",
       "    sub-expressions: 17, 18\n",
       "16. A -> {(A . c) in LINMAP(H, X) if [A] in LINMAP(H, X).\n",
       "    core type: Lambda\n",
       "    parameter: 38\n",
       "    body: 19\n",
       "17. H in_c HilbertSpaces\n",
       "    core type: Operation\n",
       "    operator: 21\n",
       "    operands: 20\n",
       "18. X in_c HilbertSpaces\n",
       "    core type: Operation\n",
       "    operator: 21\n",
       "    operands: 22\n",
       "19. {(A . c) in LINMAP(H, X) if [A] in LINMAP(H, X).\n",
       "    core type: Conditional\n",
       "    value: 23\n",
       "    condition: 24\n",
       "20. (H, HilbertSpaces)\n",
       "    core type: ExprTuple\n",
       "    sub-expressions: 39, 25\n",
       "21. in_c\n",
       "    core type: Literal\n",
       "    sub-expressions: \n",
       "22. (X, HilbertSpaces)\n",
       "    core type: ExprTuple\n",
       "    sub-expressions: 40, 25\n",
       "23. (A . c) in LINMAP(H, X)\n",
       "    core type: Operation\n",
       "    operator: 27\n",
       "    operands: 26\n",
       "24. [A] in LINMAP(H, X)\n",
       "    core type: Operation\n",
       "    operator: 27\n",
       "    operands: 28\n",
       "25. HilbertSpaces\n",
       "    core type: Literal\n",
       "    sub-expressions: \n",
       "26. (A . c, LINMAP(H, X))\n",
       "    core type: ExprTuple\n",
       "    sub-expressions: 29, 31\n",
       "27. in\n",
       "    core type: Literal\n",
       "    sub-expressions: \n",
       "28. ([A], LINMAP(H, X))\n",
       "    core type: ExprTuple\n",
       "    sub-expressions: 30, 31\n",
       "29. A . c\n",
       "    core type: Operation\n",
       "    operator: 33\n",
       "    operands: 32\n",
       "30. [A]\n",
       "    core type: Operation\n",
       "    operator: 33\n",
       "    operand: 38\n",
       "31. LINMAP(H, X)\n",
       "    core type: Operation\n",
       "    operator: 35\n",
       "    operands: 36\n",
       "32. (A, c)\n",
       "    core type: ExprTuple\n",
       "    sub-expressions: 38, 37\n",
       "33. .\n",
       "    core type: Literal\n",
       "    sub-expressions: \n",
       "34. (A)\n",
       "    core type: ExprTuple\n",
       "    sub-expressions: 38\n",
       "35. LINMAP\n",
       "    core type: Literal\n",
       "    sub-expressions: \n",
       "36. (H, X)\n",
       "    core type: ExprTuple\n",
       "    sub-expressions: 39, 40\n",
       "37. c\n",
       "    core type: Variable\n",
       "    sub-expressions: \n",
       "38. A\n",
       "    core type: Variable\n",
       "    sub-expressions: \n",
       "39. H\n",
       "    core type: Variable\n",
       "    sub-expressions: \n",
       "40. X\n",
       "    core type: Variable\n",
       "    sub-expressions: "
      ]
     },
     "metadata": {},
     "output_type": "display_data"
    }
   ],
   "source": [
    "# display the expression information\n",
    "stored_expr.expr_info()"
   ]
  },
  {
   "cell_type": "code",
   "execution_count": null,
   "metadata": {},
   "outputs": [],
   "source": []
  }
 ],
 "metadata": {
  "kernelspec": {
   "display_name": "Python 3",
   "language": "python",
   "name": "python3"
  }
 },
 "nbformat": 4,
 "nbformat_minor": 0
}