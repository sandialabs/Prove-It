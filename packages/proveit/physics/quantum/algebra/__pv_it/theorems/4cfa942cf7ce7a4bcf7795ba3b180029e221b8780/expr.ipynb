{
 "cells": [
  {
   "cell_type": "markdown",
   "metadata": {},
   "source": [
    "Expression of type <a class=\"ProveItLink\" href=\"../../../../../../../../doc/html/api/proveit.Conditional.html\">Conditional</a>\n",
    "=======================\n",
    "# from the theory of <a class=\"ProveItLink\" href=\"../../../_theory_nbs_/theory.ipynb\">proveit.physics.quantum.algebra</a>"
   ]
  },
  {
   "cell_type": "code",
   "execution_count": 1,
   "metadata": {},
   "outputs": [],
   "source": [
    "import proveit\n",
    "# Automation is not needed when building an expression:\n",
    "proveit.defaults.automation = False # This will speed things up.\n",
    "proveit.defaults.inline_pngs = False # Makes files smaller.\n",
    "%load_expr # Load the stored expression as 'stored_expr'\n",
    "# import Expression classes needed to build the expression\n",
    "from proveit import B, Conditional, alpha\n",
    "from proveit.core_expr_types import A_1_to_l, C_1_to_n\n",
    "from proveit.linear_algebra import ScalarMult\n",
    "from proveit.logic import Equals, InClass\n",
    "from proveit.physics.quantum import Qmult, QmultCodomain"
   ]
  },
  {
   "cell_type": "code",
   "execution_count": 2,
   "metadata": {},
   "outputs": [
    {
     "data": {
      "text/html": [
       "<strong id=\"expr\">expr:</strong> <a class=\"ProveItLink\" href=\"expr.ipynb\"><img src=\"expr.png\" style=\"display:inline;vertical-align:middle;\" /></a><br>"
      ],
      "text/plain": [
       "<IPython.core.display.HTML object>"
      ]
     },
     "metadata": {},
     "output_type": "display_data"
    }
   ],
   "source": [
    "# build up the expression from sub-expressions\n",
    "expr = Conditional(Equals(Qmult(A_1_to_l, ScalarMult(alpha, B), C_1_to_n), Qmult(A_1_to_l, alpha, B, C_1_to_n)).with_wrapping_at(2), InClass(Qmult(A_1_to_l, B, C_1_to_n), QmultCodomain))"
   ]
  },
  {
   "cell_type": "code",
   "execution_count": 3,
   "metadata": {},
   "outputs": [
    {
     "name": "stdout",
     "output_type": "stream",
     "text": [
      "Passed sanity check: expr matches stored_expr\n"
     ]
    }
   ],
   "source": [
    "# check that the built expression is the same as the stored expression\n",
    "assert expr == stored_expr\n",
    "assert expr._style_id == stored_expr._style_id\n",
    "print(\"Passed sanity check: expr matches stored_expr\")"
   ]
  },
  {
   "cell_type": "code",
   "execution_count": 4,
   "metadata": {},
   "outputs": [
    {
     "name": "stdout",
     "output_type": "stream",
     "text": [
      "\\left\\{\\begin{array}{c} \\begin{array}{l} \\left(A_{1} \\thinspace  A_{2} \\thinspace  \\ldots \\thinspace  A_{l} \\thinspace \\left(\\alpha \\cdot B\\right)\\thinspace C_{1} \\thinspace  C_{2} \\thinspace  \\ldots \\thinspace  C_{n}\\right) =  \\\\ \\left(A_{1} \\thinspace  A_{2} \\thinspace  \\ldots \\thinspace  A_{l} \\thinspace \\alpha \\thinspace B\\thinspace C_{1} \\thinspace  C_{2} \\thinspace  \\ldots \\thinspace  C_{n}\\right) \\end{array} \\end{array} \\textrm{ if } \\left(A_{1} \\thinspace  A_{2} \\thinspace  \\ldots \\thinspace  A_{l} \\thinspace B\\thinspace C_{1} \\thinspace  C_{2} \\thinspace  \\ldots \\thinspace  C_{n}\\right) \\underset{{\\scriptscriptstyle c}}{\\in} \\mathcal{Q^*}\\right..\n"
     ]
    }
   ],
   "source": [
    "# Show the LaTeX representation of the expression for convenience if you need it.\n",
    "print(stored_expr.latex())"
   ]
  },
  {
   "cell_type": "code",
   "execution_count": 5,
   "metadata": {},
   "outputs": [
    {
     "data": {
      "text/html": [
       "<table>\n",
       "<tr><th>name</th><th>description</th><th>default</th><th>current value</th><th>related methods</th></tr><tr><td>condition_delimiter</td><td>'comma' or 'and'</td><td>comma</td><td>comma</td><td>('with_comma_delimiter', 'with_conjunction_delimiter')</td></tr>\n",
       "</table>\n"
      ],
      "text/plain": [
       "style name: condition_delimiter\n",
       "description: 'comma' or 'and'\n",
       "default: comma\n",
       "current value: comma\n",
       "related methods: ('with_comma_delimiter', 'with_conjunction_delimiter')"
      ]
     },
     "metadata": {},
     "output_type": "display_data"
    }
   ],
   "source": [
    "stored_expr.style_options()"
   ]
  },
  {
   "cell_type": "code",
   "execution_count": 6,
   "metadata": {},
   "outputs": [
    {
     "data": {
      "text/html": [
       "<table><tr><th>&nbsp;</th><th>core type</th><th>sub-expressions</th><th>expression</th></tr>\n",
       "<tr><td>0</td><td>Conditional</td><td>value:&nbsp;1<br>condition:&nbsp;2<br></td><td><a class=\"ProveItLink\" href=\"expr.ipynb\"><img src=\"expr.png\" style=\"display:inline;vertical-align:middle;\" /></a></td></tr>\n",
       "<tr><td>1</td><td>Operation</td><td>operator:&nbsp;3<br>operands:&nbsp;4<br></td><td><a class=\"ProveItLink\" href=\"../febb732bf5089de26f9ac9c51285509e7feffad00/expr.ipynb\"><img src=\"../febb732bf5089de26f9ac9c51285509e7feffad00/expr.png\" style=\"display:inline;vertical-align:middle;\" /></a></td></tr>\n",
       "<tr><td>2</td><td>Operation</td><td>operator:&nbsp;5<br>operands:&nbsp;6<br></td><td><a class=\"ProveItLink\" href=\"../e3bb99d979e966a9d0287007c05e5e8ae9e3a31c0/expr.ipynb\"><img src=\"../e3bb99d979e966a9d0287007c05e5e8ae9e3a31c0/expr.png\" style=\"display:inline;vertical-align:middle;\" /></a></td></tr>\n",
       "<tr><td>3</td><td>Literal</td><td></td><td><a class=\"ProveItLink\" href=\"../../../../../../logic/equality/__pv_it/common/fb96dc12b2aa8801dda64d0132b396c63d1502bb0/expr.ipynb\"><img src=\"../../../../../../logic/equality/__pv_it/common/fb96dc12b2aa8801dda64d0132b396c63d1502bb0/expr.png\" style=\"display:inline;vertical-align:middle;\" /></a></td></tr>\n",
       "<tr><td>4</td><td>ExprTuple</td><td>7, 8</td><td><a class=\"ProveItLink\" href=\"../14d92998947804a11d8de050c38befab4d3fce110/expr.ipynb\"><img src=\"../14d92998947804a11d8de050c38befab4d3fce110/expr.png\" style=\"display:inline;vertical-align:middle;\" /></a></td></tr>\n",
       "<tr><td>5</td><td>Literal</td><td></td><td><a class=\"ProveItLink\" href=\"../../../../../../logic/classes/membership/__pv_it/common/e3b437d28fbe17f0a50c9789c7c9b47a1270f1420/expr.ipynb\"><img src=\"../../../../../../logic/classes/membership/__pv_it/common/e3b437d28fbe17f0a50c9789c7c9b47a1270f1420/expr.png\" style=\"display:inline;vertical-align:middle;\" /></a></td></tr>\n",
       "<tr><td>6</td><td>ExprTuple</td><td>9, 10</td><td><a class=\"ProveItLink\" href=\"../07133a66b182259e3c45ef5da3d7fa5ef9160a820/expr.ipynb\"><img src=\"../07133a66b182259e3c45ef5da3d7fa5ef9160a820/expr.png\" style=\"display:inline;vertical-align:middle;\" /></a></td></tr>\n",
       "<tr><td>7</td><td>Operation</td><td>operator:&nbsp;13<br>operands:&nbsp;11<br></td><td><a class=\"ProveItLink\" href=\"../dfaf790097d1b096932bfec29c10f8c0647828120/expr.ipynb\"><img src=\"../dfaf790097d1b096932bfec29c10f8c0647828120/expr.png\" style=\"display:inline;vertical-align:middle;\" /></a></td></tr>\n",
       "<tr><td>8</td><td>Operation</td><td>operator:&nbsp;13<br>operands:&nbsp;12<br></td><td><a class=\"ProveItLink\" href=\"../79fd955b15010c619d30ba82eef9434e8f85f5ac0/expr.ipynb\"><img src=\"../79fd955b15010c619d30ba82eef9434e8f85f5ac0/expr.png\" style=\"display:inline;vertical-align:middle;\" /></a></td></tr>\n",
       "<tr><td>9</td><td>Operation</td><td>operator:&nbsp;13<br>operands:&nbsp;14<br></td><td><a class=\"ProveItLink\" href=\"../47f5d1074297be77ba145e470550997b81ec3c990/expr.ipynb\"><img src=\"../47f5d1074297be77ba145e470550997b81ec3c990/expr.png\" style=\"display:inline;vertical-align:middle;\" /></a></td></tr>\n",
       "<tr><td>10</td><td>Literal</td><td></td><td><a class=\"ProveItLink\" href=\"../../common/9eb627883d0de35514f5f025d8d6d9a6894424630/expr.ipynb\"><img src=\"../../common/9eb627883d0de35514f5f025d8d6d9a6894424630/expr.png\" style=\"display:inline;vertical-align:middle;\" /></a></td></tr>\n",
       "<tr><td>11</td><td>ExprTuple</td><td>16, 15, 17</td><td><a class=\"ProveItLink\" href=\"../0a4afd8bcd29a7c411c860808e465cd446ae110b0/expr.ipynb\"><img src=\"../0a4afd8bcd29a7c411c860808e465cd446ae110b0/expr.png\" style=\"display:inline;vertical-align:middle;\" /></a></td></tr>\n",
       "<tr><td>12</td><td>ExprTuple</td><td>16, 25, 26, 17</td><td><a class=\"ProveItLink\" href=\"../d8a0e4ac0f4d7cadce569d7e8a63eaece50b9b0b0/expr.ipynb\"><img src=\"../d8a0e4ac0f4d7cadce569d7e8a63eaece50b9b0b0/expr.png\" style=\"display:inline;vertical-align:middle;\" /></a></td></tr>\n",
       "<tr><td>13</td><td>Literal</td><td></td><td><a class=\"ProveItLink\" href=\"../../common/2972e0deb52c96565b39f905d407d7302ae287580/expr.ipynb\"><img src=\"../../common/2972e0deb52c96565b39f905d407d7302ae287580/expr.png\" style=\"display:inline;vertical-align:middle;\" /></a></td></tr>\n",
       "<tr><td>14</td><td>ExprTuple</td><td>16, 26, 17</td><td><a class=\"ProveItLink\" href=\"../bf8f16070dec217e8ee7cb01fefeef6dea3b358c0/expr.ipynb\"><img src=\"../bf8f16070dec217e8ee7cb01fefeef6dea3b358c0/expr.png\" style=\"display:inline;vertical-align:middle;\" /></a></td></tr>\n",
       "<tr><td>15</td><td>Operation</td><td>operator:&nbsp;18<br>operands:&nbsp;19<br></td><td><a class=\"ProveItLink\" href=\"../9d76e850cb997d107928547f3746846eb9db1e340/expr.ipynb\"><img src=\"../9d76e850cb997d107928547f3746846eb9db1e340/expr.png\" style=\"display:inline;vertical-align:middle;\" /></a></td></tr>\n",
       "<tr><td>16</td><td>ExprRange</td><td>lambda_map:&nbsp;20<br>start_index:&nbsp;23<br>end_index:&nbsp;21<br></td><td><a class=\"ProveItLink\" href=\"../../../../../../core_expr_types/__pv_it/common/a661ce209a2c221820bbff00e1d4b098820c37af0/expr.ipynb\"><img src=\"../../../../../../core_expr_types/__pv_it/common/a661ce209a2c221820bbff00e1d4b098820c37af0/expr.png\" style=\"display:inline;vertical-align:middle;\" /></a></td></tr>\n",
       "<tr><td>17</td><td>ExprRange</td><td>lambda_map:&nbsp;22<br>start_index:&nbsp;23<br>end_index:&nbsp;24<br></td><td><a class=\"ProveItLink\" href=\"../../../../../../core_expr_types/__pv_it/common/e7504afc0aea2366fbf28183721351f04720dfad0/expr.ipynb\"><img src=\"../../../../../../core_expr_types/__pv_it/common/e7504afc0aea2366fbf28183721351f04720dfad0/expr.png\" style=\"display:inline;vertical-align:middle;\" /></a></td></tr>\n",
       "<tr><td>18</td><td>Literal</td><td></td><td><a class=\"ProveItLink\" href=\"../../../../../../linear_algebra/scalar_multiplication/__pv_it/common/1e364bd471e6a29fcd358dd2d9cd990a1e6fedd40/expr.ipynb\"><img src=\"../../../../../../linear_algebra/scalar_multiplication/__pv_it/common/1e364bd471e6a29fcd358dd2d9cd990a1e6fedd40/expr.png\" style=\"display:inline;vertical-align:middle;\" /></a></td></tr>\n",
       "<tr><td>19</td><td>ExprTuple</td><td>25, 26</td><td><a class=\"ProveItLink\" href=\"../b25488557608a079e97970acb8bd60355ef8a6e60/expr.ipynb\"><img src=\"../b25488557608a079e97970acb8bd60355ef8a6e60/expr.png\" style=\"display:inline;vertical-align:middle;\" /></a></td></tr>\n",
       "<tr><td>20</td><td>Lambda</td><td>parameter:&nbsp;32<br>body:&nbsp;27<br></td><td><a class=\"ProveItLink\" href=\"../../../../../../core_expr_types/__pv_it/common/9332289e845003c758afc3bcee43498ae784f2d90/expr.ipynb\"><img src=\"../../../../../../core_expr_types/__pv_it/common/9332289e845003c758afc3bcee43498ae784f2d90/expr.png\" style=\"display:inline;vertical-align:middle;\" /></a></td></tr>\n",
       "<tr><td>21</td><td>Variable</td><td></td><td><a class=\"ProveItLink\" href=\"../../../../../../__pv_it/common/27cc275d44b4f4499fb9ccfb3fab1a98165d2fa60/expr.ipynb\"><img src=\"../../../../../../__pv_it/common/27cc275d44b4f4499fb9ccfb3fab1a98165d2fa60/expr.png\" style=\"display:inline;vertical-align:middle;\" /></a></td></tr>\n",
       "<tr><td>22</td><td>Lambda</td><td>parameter:&nbsp;32<br>body:&nbsp;28<br></td><td><a class=\"ProveItLink\" href=\"../../../../../../core_expr_types/__pv_it/common/c9399abb980047fe39e716f375f641a4494b404b0/expr.ipynb\"><img src=\"../../../../../../core_expr_types/__pv_it/common/c9399abb980047fe39e716f375f641a4494b404b0/expr.png\" style=\"display:inline;vertical-align:middle;\" /></a></td></tr>\n",
       "<tr><td>23</td><td>Literal</td><td></td><td><a class=\"ProveItLink\" href=\"../../../../../../numbers/numerals/__pv_it/common/682157d4892d216d9e5626ed533aff9b56b9506e0/expr.ipynb\"><img src=\"../../../../../../numbers/numerals/__pv_it/common/682157d4892d216d9e5626ed533aff9b56b9506e0/expr.png\" style=\"display:inline;vertical-align:middle;\" /></a></td></tr>\n",
       "<tr><td>24</td><td>Variable</td><td></td><td><a class=\"ProveItLink\" href=\"../../../../../../__pv_it/common/8968bb04eb3f7dfa02353397ce929b025bbd79c20/expr.ipynb\"><img src=\"../../../../../../__pv_it/common/8968bb04eb3f7dfa02353397ce929b025bbd79c20/expr.png\" style=\"display:inline;vertical-align:middle;\" /></a></td></tr>\n",
       "<tr><td>25</td><td>Variable</td><td></td><td><a class=\"ProveItLink\" href=\"../../../../../../__pv_it/common/9705ebf23debd1198c43ec3d0c30ebe152d069440/expr.ipynb\"><img src=\"../../../../../../__pv_it/common/9705ebf23debd1198c43ec3d0c30ebe152d069440/expr.png\" style=\"display:inline;vertical-align:middle;\" /></a></td></tr>\n",
       "<tr><td>26</td><td>Variable</td><td></td><td><a class=\"ProveItLink\" href=\"../../../../../../__pv_it/common/a9162d1c3cc0470c02e5daf414500903a7a419230/expr.ipynb\"><img src=\"../../../../../../__pv_it/common/a9162d1c3cc0470c02e5daf414500903a7a419230/expr.png\" style=\"display:inline;vertical-align:middle;\" /></a></td></tr>\n",
       "<tr><td>27</td><td>IndexedVar</td><td>variable:&nbsp;29<br>index:&nbsp;32<br></td><td><a class=\"ProveItLink\" href=\"../../../../../../core_expr_types/__pv_it/common/9fdaaadf1b3d81a308244818dc08833e7f5035730/expr.ipynb\"><img src=\"../../../../../../core_expr_types/__pv_it/common/9fdaaadf1b3d81a308244818dc08833e7f5035730/expr.png\" style=\"display:inline;vertical-align:middle;\" /></a></td></tr>\n",
       "<tr><td>28</td><td>IndexedVar</td><td>variable:&nbsp;30<br>index:&nbsp;32<br></td><td><a class=\"ProveItLink\" href=\"../../../../../../core_expr_types/__pv_it/common/f756bc205d05c1af04e1aeeb7a42469b1e89f9cf0/expr.ipynb\"><img src=\"../../../../../../core_expr_types/__pv_it/common/f756bc205d05c1af04e1aeeb7a42469b1e89f9cf0/expr.png\" style=\"display:inline;vertical-align:middle;\" /></a></td></tr>\n",
       "<tr><td>29</td><td>Variable</td><td></td><td><a class=\"ProveItLink\" href=\"../../../../../../__pv_it/common/09585084922504426caf1db2ff588a23a0932a960/expr.ipynb\"><img src=\"../../../../../../__pv_it/common/09585084922504426caf1db2ff588a23a0932a960/expr.png\" style=\"display:inline;vertical-align:middle;\" /></a></td></tr>\n",
       "<tr><td>30</td><td>Variable</td><td></td><td><a class=\"ProveItLink\" href=\"../../../../../../__pv_it/common/9fba9f29e823606ff4fdf2f1c6d5d08d906e850a0/expr.ipynb\"><img src=\"../../../../../../__pv_it/common/9fba9f29e823606ff4fdf2f1c6d5d08d906e850a0/expr.png\" style=\"display:inline;vertical-align:middle;\" /></a></td></tr>\n",
       "<tr><td>31</td><td>ExprTuple</td><td>32</td><td><a class=\"ProveItLink\" href=\"../../../../../../core_expr_types/__pv_it/common/4b0dd6be36d76552eda6a95d5b4a27f5a5b62f900/expr.ipynb\"><img src=\"../../../../../../core_expr_types/__pv_it/common/4b0dd6be36d76552eda6a95d5b4a27f5a5b62f900/expr.png\" style=\"display:inline;vertical-align:middle;\" /></a></td></tr>\n",
       "<tr><td>32</td><td>Variable</td><td></td><td><a class=\"ProveItLink\" href=\"../../../../../../core_expr_types/__pv_it/common/006c465e50948aa2b52285e2de47974f741255cc0/expr.ipynb\"><img src=\"../../../../../../core_expr_types/__pv_it/common/006c465e50948aa2b52285e2de47974f741255cc0/expr.png\" style=\"display:inline;vertical-align:middle;\" /></a></td></tr>\n",
       "</table>\n"
      ],
      "text/plain": [
       "0. {(A_{1} .  A_{2} .  ... .  A_{l} . (alpha * B). C_{1} .  C_{2} .  ... .  C_{n}) =  \\\\ (A_{1} .  A_{2} .  ... .  A_{l} . alpha . B. C_{1} .  C_{2} .  ... .  C_{n}) if (A_{1} .  A_{2} .  ... .  A_{l} . B. C_{1} .  C_{2} .  ... .  C_{n}) in_c Q*.\n",
       "   core type: Conditional\n",
       "   value: 1\n",
       "   condition: 2\n",
       "1. (A_{1} .  A_{2} .  ... .  A_{l} . (alpha * B). C_{1} .  C_{2} .  ... .  C_{n}) =  \\\\ (A_{1} .  A_{2} .  ... .  A_{l} . alpha . B. C_{1} .  C_{2} .  ... .  C_{n})\n",
       "   core type: Operation\n",
       "   operator: 3\n",
       "   operands: 4\n",
       "2. (A_{1} .  A_{2} .  ... .  A_{l} . B. C_{1} .  C_{2} .  ... .  C_{n}) in_c Q*\n",
       "   core type: Operation\n",
       "   operator: 5\n",
       "   operands: 6\n",
       "3. =\n",
       "   core type: Literal\n",
       "   sub-expressions: \n",
       "4. (A_{1} .  A_{2} .  ... .  A_{l} . (alpha * B). C_{1} .  C_{2} .  ... .  C_{n}, A_{1} .  A_{2} .  ... .  A_{l} . alpha . B. C_{1} .  C_{2} .  ... .  C_{n})\n",
       "   core type: ExprTuple\n",
       "   sub-expressions: 7, 8\n",
       "5. in_c\n",
       "   core type: Literal\n",
       "   sub-expressions: \n",
       "6. (A_{1} .  A_{2} .  ... .  A_{l} . B. C_{1} .  C_{2} .  ... .  C_{n}, Q*)\n",
       "   core type: ExprTuple\n",
       "   sub-expressions: 9, 10\n",
       "7. A_{1} .  A_{2} .  ... .  A_{l} . (alpha * B). C_{1} .  C_{2} .  ... .  C_{n}\n",
       "   core type: Operation\n",
       "   operator: 13\n",
       "   operands: 11\n",
       "8. A_{1} .  A_{2} .  ... .  A_{l} . alpha . B. C_{1} .  C_{2} .  ... .  C_{n}\n",
       "   core type: Operation\n",
       "   operator: 13\n",
       "   operands: 12\n",
       "9. A_{1} .  A_{2} .  ... .  A_{l} . B. C_{1} .  C_{2} .  ... .  C_{n}\n",
       "   core type: Operation\n",
       "   operator: 13\n",
       "   operands: 14\n",
       "10. Q*\n",
       "    core type: Literal\n",
       "    sub-expressions: \n",
       "11. (A_{1}, A_{2}, ..., A_{l}, alpha * B,C_{1}, C_{2}, ..., C_{n})\n",
       "    core type: ExprTuple\n",
       "    sub-expressions: 16, 15, 17\n",
       "12. (A_{1}, A_{2}, ..., A_{l}, alpha, B,C_{1}, C_{2}, ..., C_{n})\n",
       "    core type: ExprTuple\n",
       "    sub-expressions: 16, 25, 26, 17\n",
       "13. .\n",
       "    core type: Literal\n",
       "    sub-expressions: \n",
       "14. (A_{1}, A_{2}, ..., A_{l}, B,C_{1}, C_{2}, ..., C_{n})\n",
       "    core type: ExprTuple\n",
       "    sub-expressions: 16, 26, 17\n",
       "15. alpha * B\n",
       "    core type: Operation\n",
       "    operator: 18\n",
       "    operands: 19\n",
       "16. A_{1}, A_{2}, ..., A_{l}\n",
       "    core type: ExprRange\n",
       "    lambda_map: 20\n",
       "    start_index: 23\n",
       "    end_index: 21\n",
       "17. C_{1}, C_{2}, ..., C_{n}\n",
       "    core type: ExprRange\n",
       "    lambda_map: 22\n",
       "    start_index: 23\n",
       "    end_index: 24\n",
       "18. *\n",
       "    core type: Literal\n",
       "    sub-expressions: \n",
       "19. (alpha, B)\n",
       "    core type: ExprTuple\n",
       "    sub-expressions: 25, 26\n",
       "20. _a -> A_{_a}\n",
       "    core type: Lambda\n",
       "    parameter: 32\n",
       "    body: 27\n",
       "21. l\n",
       "    core type: Variable\n",
       "    sub-expressions: \n",
       "22. _a -> C_{_a}\n",
       "    core type: Lambda\n",
       "    parameter: 32\n",
       "    body: 28\n",
       "23. 1\n",
       "    core type: Literal\n",
       "    sub-expressions: \n",
       "24. n\n",
       "    core type: Variable\n",
       "    sub-expressions: \n",
       "25. alpha\n",
       "    core type: Variable\n",
       "    sub-expressions: \n",
       "26. B\n",
       "    core type: Variable\n",
       "    sub-expressions: \n",
       "27. A_{_a}\n",
       "    core type: IndexedVar\n",
       "variable: 29\n",
       "index: 32\n",
       "28. C_{_a}\n",
       "    core type: IndexedVar\n",
       "variable: 30\n",
       "index: 32\n",
       "29. A\n",
       "    core type: Variable\n",
       "    sub-expressions: \n",
       "30. C\n",
       "    core type: Variable\n",
       "    sub-expressions: \n",
       "31. (_a)\n",
       "    core type: ExprTuple\n",
       "    sub-expressions: 32\n",
       "32. _a\n",
       "    core type: Variable\n",
       "    sub-expressions: "
      ]
     },
     "metadata": {},
     "output_type": "display_data"
    }
   ],
   "source": [
    "# display the expression information\n",
    "stored_expr.expr_info()"
   ]
  },
  {
   "cell_type": "code",
   "execution_count": null,
   "metadata": {},
   "outputs": [],
   "source": []
  }
 ],
 "metadata": {
  "kernelspec": {
   "display_name": "Python 3",
   "language": "python",
   "name": "python3"
  }
 },
 "nbformat": 4,
 "nbformat_minor": 0
}