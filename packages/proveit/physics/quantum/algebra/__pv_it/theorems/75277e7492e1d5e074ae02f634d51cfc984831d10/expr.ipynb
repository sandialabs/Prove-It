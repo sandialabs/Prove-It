{
 "cells": [
  {
   "cell_type": "markdown",
   "metadata": {},
   "source": [
    "Expression of type <a class=\"ProveItLink\" href=\"../../../../../../../../doc/html/api/proveit.ExprTuple.html\">ExprTuple</a>\n",
    "=======================\n",
    "# from the theory of <a class=\"ProveItLink\" href=\"../../../_theory_nbs_/theory.ipynb\">proveit.physics.quantum.algebra</a>"
   ]
  },
  {
   "cell_type": "code",
   "execution_count": 1,
   "metadata": {},
   "outputs": [],
   "source": [
    "import proveit\n",
    "# Automation is not needed when building an expression:\n",
    "proveit.defaults.automation = False # This will speed things up.\n",
    "proveit.defaults.inline_pngs = False # Makes files smaller.\n",
    "%load_expr # Load the stored expression as 'stored_expr'\n",
    "# import Expression classes needed to build the expression\n",
    "from proveit import B, Conditional, ExprTuple, Lambda, alpha, l, n\n",
    "from proveit.core_expr_types import A_1_to_l, C_1_to_n\n",
    "from proveit.linear_algebra import ScalarMult\n",
    "from proveit.logic import And, Equals, Forall, InClass, InSet\n",
    "from proveit.numbers import Complex, Natural\n",
    "from proveit.physics.quantum import Qmult, QmultCodomain"
   ]
  },
  {
   "cell_type": "code",
   "execution_count": 2,
   "metadata": {},
   "outputs": [
    {
     "data": {
      "text/html": [
       "<strong id=\"expr\">expr:</strong> <a class=\"ProveItLink\" href=\"expr.ipynb\"><img src=\"expr.png\" style=\"display:inline;vertical-align:middle;\" /></a><br>"
      ],
      "text/plain": [
       "<IPython.core.display.HTML object>"
      ]
     },
     "metadata": {},
     "output_type": "display_data"
    }
   ],
   "source": [
    "# build up the expression from sub-expressions\n",
    "expr = ExprTuple(Lambda([alpha, l, n], Conditional(Forall(instance_param_or_params = [A_1_to_l, B, C_1_to_n], instance_expr = Equals(Qmult(A_1_to_l, ScalarMult(alpha, B), C_1_to_n), Qmult(A_1_to_l, alpha, B, C_1_to_n)).with_wrapping_at(2), condition = InClass(Qmult(A_1_to_l, B, C_1_to_n), QmultCodomain)), And(InSet(alpha, Complex), InSet(l, Natural), InSet(n, Natural)))))"
   ]
  },
  {
   "cell_type": "code",
   "execution_count": 3,
   "metadata": {},
   "outputs": [
    {
     "name": "stdout",
     "output_type": "stream",
     "text": [
      "Passed sanity check: expr matches stored_expr\n"
     ]
    }
   ],
   "source": [
    "# check that the built expression is the same as the stored expression\n",
    "assert expr == stored_expr\n",
    "assert expr._style_id == stored_expr._style_id\n",
    "print(\"Passed sanity check: expr matches stored_expr\")"
   ]
  },
  {
   "cell_type": "code",
   "execution_count": 4,
   "metadata": {},
   "outputs": [
    {
     "name": "stdout",
     "output_type": "stream",
     "text": [
      "\\left(\\left(\\alpha, l, n\\right) \\mapsto \\left\\{\\forall_{A_{1}, A_{2}, \\ldots, A_{l}, B, C_{1}, C_{2}, \\ldots, C_{n}~|~\\left(A_{1} \\thinspace  A_{2} \\thinspace  \\ldots \\thinspace  A_{l} \\thinspace B\\thinspace C_{1} \\thinspace  C_{2} \\thinspace  \\ldots \\thinspace  C_{n}\\right) \\underset{{\\scriptscriptstyle c}}{\\in} \\mathcal{Q^*}}~\\left(\\begin{array}{c} \\begin{array}{l} \\left(A_{1} \\thinspace  A_{2} \\thinspace  \\ldots \\thinspace  A_{l} \\thinspace \\left(\\alpha \\cdot B\\right)\\thinspace C_{1} \\thinspace  C_{2} \\thinspace  \\ldots \\thinspace  C_{n}\\right) =  \\\\ \\left(A_{1} \\thinspace  A_{2} \\thinspace  \\ldots \\thinspace  A_{l} \\thinspace \\alpha \\thinspace B\\thinspace C_{1} \\thinspace  C_{2} \\thinspace  \\ldots \\thinspace  C_{n}\\right) \\end{array} \\end{array}\\right) \\textrm{ if } \\alpha \\in \\mathbb{C} ,  l \\in \\mathbb{N} ,  n \\in \\mathbb{N}\\right..\\right)\n"
     ]
    }
   ],
   "source": [
    "# Show the LaTeX representation of the expression for convenience if you need it.\n",
    "print(stored_expr.latex())"
   ]
  },
  {
   "cell_type": "code",
   "execution_count": 5,
   "metadata": {},
   "outputs": [
    {
     "data": {
      "text/html": [
       "no style options"
      ],
      "text/plain": [
       "no style options"
      ]
     },
     "metadata": {},
     "output_type": "display_data"
    }
   ],
   "source": [
    "stored_expr.style_options()"
   ]
  },
  {
   "cell_type": "code",
   "execution_count": 6,
   "metadata": {},
   "outputs": [
    {
     "data": {
      "text/html": [
       "<table><tr><th>&nbsp;</th><th>core type</th><th>sub-expressions</th><th>expression</th></tr>\n",
       "<tr><td>0</td><td>ExprTuple</td><td>1</td><td><a class=\"ProveItLink\" href=\"expr.ipynb\"><img src=\"expr.png\" style=\"display:inline;vertical-align:middle;\" /></a></td></tr>\n",
       "<tr><td>1</td><td>Lambda</td><td>parameters:&nbsp;2<br>body:&nbsp;3<br></td><td><a class=\"ProveItLink\" href=\"../529e874fd0b11c27d57a1bf19eb0b6a852f123bc0/expr.ipynb\"><img src=\"../529e874fd0b11c27d57a1bf19eb0b6a852f123bc0/expr.png\" style=\"display:inline;vertical-align:middle;\" /></a></td></tr>\n",
       "<tr><td>2</td><td>ExprTuple</td><td>45, 41, 44</td><td><a class=\"ProveItLink\" href=\"../c8067e8fd7ed3cf0ddf033594baf25e569c79bbd0/expr.ipynb\"><img src=\"../c8067e8fd7ed3cf0ddf033594baf25e569c79bbd0/expr.png\" style=\"display:inline;vertical-align:middle;\" /></a></td></tr>\n",
       "<tr><td>3</td><td>Conditional</td><td>value:&nbsp;4<br>condition:&nbsp;5<br></td><td><a class=\"ProveItLink\" href=\"../e57504cf00dc560c523deeb780fa6438457aa0c70/expr.ipynb\"><img src=\"../e57504cf00dc560c523deeb780fa6438457aa0c70/expr.png\" style=\"display:inline;vertical-align:middle;\" /></a></td></tr>\n",
       "<tr><td>4</td><td>Operation</td><td>operator:&nbsp;6<br>operand:&nbsp;10<br></td><td><a class=\"ProveItLink\" href=\"../be725f2a4bc095cf919b4f45fae5b9f60a88eec30/expr.ipynb\"><img src=\"../be725f2a4bc095cf919b4f45fae5b9f60a88eec30/expr.png\" style=\"display:inline;vertical-align:middle;\" /></a></td></tr>\n",
       "<tr><td>5</td><td>Operation</td><td>operator:&nbsp;8<br>operands:&nbsp;9<br></td><td><a class=\"ProveItLink\" href=\"../6646463cf9b42f4c3f2c5629c346211da62f35a40/expr.ipynb\"><img src=\"../6646463cf9b42f4c3f2c5629c346211da62f35a40/expr.png\" style=\"display:inline;vertical-align:middle;\" /></a></td></tr>\n",
       "<tr><td>6</td><td>Literal</td><td></td><td><a class=\"ProveItLink\" href=\"../../../../../../logic/booleans/quantification/universality/__pv_it/common/083d2baa0b8ecab1d230f9ec29a15aa1355809fb0/expr.ipynb\"><img src=\"../../../../../../logic/booleans/quantification/universality/__pv_it/common/083d2baa0b8ecab1d230f9ec29a15aa1355809fb0/expr.png\" style=\"display:inline;vertical-align:middle;\" /></a></td></tr>\n",
       "<tr><td>7</td><td>ExprTuple</td><td>10</td><td><a class=\"ProveItLink\" href=\"../e7ff2785ba9345ce2ca64dfe4756148b43c5bacd0/expr.ipynb\"><img src=\"../e7ff2785ba9345ce2ca64dfe4756148b43c5bacd0/expr.png\" style=\"display:inline;vertical-align:middle;\" /></a></td></tr>\n",
       "<tr><td>8</td><td>Literal</td><td></td><td><a class=\"ProveItLink\" href=\"../../../../../../logic/booleans/conjunction/__pv_it/common/42118ff318bd65d98b1393f64ce7c2269feef76e0/expr.ipynb\"><img src=\"../../../../../../logic/booleans/conjunction/__pv_it/common/42118ff318bd65d98b1393f64ce7c2269feef76e0/expr.png\" style=\"display:inline;vertical-align:middle;\" /></a></td></tr>\n",
       "<tr><td>9</td><td>ExprTuple</td><td>11, 12, 13</td><td><a class=\"ProveItLink\" href=\"../3f572576c8778041e5d0d1624ca65b17132376700/expr.ipynb\"><img src=\"../3f572576c8778041e5d0d1624ca65b17132376700/expr.png\" style=\"display:inline;vertical-align:middle;\" /></a></td></tr>\n",
       "<tr><td>10</td><td>Lambda</td><td>parameters:&nbsp;34<br>body:&nbsp;14<br></td><td><a class=\"ProveItLink\" href=\"../8d8abdd104dcb15e367204874da62891222879d70/expr.ipynb\"><img src=\"../8d8abdd104dcb15e367204874da62891222879d70/expr.png\" style=\"display:inline;vertical-align:middle;\" /></a></td></tr>\n",
       "<tr><td>11</td><td>Operation</td><td>operator:&nbsp;17<br>operands:&nbsp;15<br></td><td><a class=\"ProveItLink\" href=\"../209baac38918ef8b1210d5267967da66f42b39310/expr.ipynb\"><img src=\"../209baac38918ef8b1210d5267967da66f42b39310/expr.png\" style=\"display:inline;vertical-align:middle;\" /></a></td></tr>\n",
       "<tr><td>12</td><td>Operation</td><td>operator:&nbsp;17<br>operands:&nbsp;16<br></td><td><a class=\"ProveItLink\" href=\"../cedb79d97d652f14b415767917d43a7cf73db4810/expr.ipynb\"><img src=\"../cedb79d97d652f14b415767917d43a7cf73db4810/expr.png\" style=\"display:inline;vertical-align:middle;\" /></a></td></tr>\n",
       "<tr><td>13</td><td>Operation</td><td>operator:&nbsp;17<br>operands:&nbsp;18<br></td><td><a class=\"ProveItLink\" href=\"../a4c62904f3a87ce48a16b43526806be1316ce7cc0/expr.ipynb\"><img src=\"../a4c62904f3a87ce48a16b43526806be1316ce7cc0/expr.png\" style=\"display:inline;vertical-align:middle;\" /></a></td></tr>\n",
       "<tr><td>14</td><td>Conditional</td><td>value:&nbsp;19<br>condition:&nbsp;20<br></td><td><a class=\"ProveItLink\" href=\"../4cfa942cf7ce7a4bcf7795ba3b180029e221b8780/expr.ipynb\"><img src=\"../4cfa942cf7ce7a4bcf7795ba3b180029e221b8780/expr.png\" style=\"display:inline;vertical-align:middle;\" /></a></td></tr>\n",
       "<tr><td>15</td><td>ExprTuple</td><td>45, 21</td><td><a class=\"ProveItLink\" href=\"../cd8f0aad45a1328e4ad1a9fad5e4ab63fc72d4580/expr.ipynb\"><img src=\"../cd8f0aad45a1328e4ad1a9fad5e4ab63fc72d4580/expr.png\" style=\"display:inline;vertical-align:middle;\" /></a></td></tr>\n",
       "<tr><td>16</td><td>ExprTuple</td><td>41, 22</td><td><a class=\"ProveItLink\" href=\"../1c13973f6a4c6f065f3ea440098d8a00dad72f010/expr.ipynb\"><img src=\"../1c13973f6a4c6f065f3ea440098d8a00dad72f010/expr.png\" style=\"display:inline;vertical-align:middle;\" /></a></td></tr>\n",
       "<tr><td>17</td><td>Literal</td><td></td><td><a class=\"ProveItLink\" href=\"../../../../../../logic/sets/membership/__pv_it/common/477487d8796864d23d5810f83761435f25167f690/expr.ipynb\"><img src=\"../../../../../../logic/sets/membership/__pv_it/common/477487d8796864d23d5810f83761435f25167f690/expr.png\" style=\"display:inline;vertical-align:middle;\" /></a></td></tr>\n",
       "<tr><td>18</td><td>ExprTuple</td><td>44, 22</td><td><a class=\"ProveItLink\" href=\"../ecc3c58a9897ba541ec19be82e54ee986957c4200/expr.ipynb\"><img src=\"../ecc3c58a9897ba541ec19be82e54ee986957c4200/expr.png\" style=\"display:inline;vertical-align:middle;\" /></a></td></tr>\n",
       "<tr><td>19</td><td>Operation</td><td>operator:&nbsp;23<br>operands:&nbsp;24<br></td><td><a class=\"ProveItLink\" href=\"../febb732bf5089de26f9ac9c51285509e7feffad00/expr.ipynb\"><img src=\"../febb732bf5089de26f9ac9c51285509e7feffad00/expr.png\" style=\"display:inline;vertical-align:middle;\" /></a></td></tr>\n",
       "<tr><td>20</td><td>Operation</td><td>operator:&nbsp;25<br>operands:&nbsp;26<br></td><td><a class=\"ProveItLink\" href=\"../e3bb99d979e966a9d0287007c05e5e8ae9e3a31c0/expr.ipynb\"><img src=\"../e3bb99d979e966a9d0287007c05e5e8ae9e3a31c0/expr.png\" style=\"display:inline;vertical-align:middle;\" /></a></td></tr>\n",
       "<tr><td>21</td><td>Literal</td><td></td><td><a class=\"ProveItLink\" href=\"../../../../../../numbers/number_sets/complex_numbers/__pv_it/common/d18a028138f659eda00de597c28a3447fe87eb100/expr.ipynb\"><img src=\"../../../../../../numbers/number_sets/complex_numbers/__pv_it/common/d18a028138f659eda00de597c28a3447fe87eb100/expr.png\" style=\"display:inline;vertical-align:middle;\" /></a></td></tr>\n",
       "<tr><td>22</td><td>Literal</td><td></td><td><a class=\"ProveItLink\" href=\"../../../../../../numbers/number_sets/natural_numbers/__pv_it/common/8b7c321957f52ed3b05b36af612eeae4fa4783bc0/expr.ipynb\"><img src=\"../../../../../../numbers/number_sets/natural_numbers/__pv_it/common/8b7c321957f52ed3b05b36af612eeae4fa4783bc0/expr.png\" style=\"display:inline;vertical-align:middle;\" /></a></td></tr>\n",
       "<tr><td>23</td><td>Literal</td><td></td><td><a class=\"ProveItLink\" href=\"../../../../../../logic/equality/__pv_it/common/fb96dc12b2aa8801dda64d0132b396c63d1502bb0/expr.ipynb\"><img src=\"../../../../../../logic/equality/__pv_it/common/fb96dc12b2aa8801dda64d0132b396c63d1502bb0/expr.png\" style=\"display:inline;vertical-align:middle;\" /></a></td></tr>\n",
       "<tr><td>24</td><td>ExprTuple</td><td>27, 28</td><td><a class=\"ProveItLink\" href=\"../14d92998947804a11d8de050c38befab4d3fce110/expr.ipynb\"><img src=\"../14d92998947804a11d8de050c38befab4d3fce110/expr.png\" style=\"display:inline;vertical-align:middle;\" /></a></td></tr>\n",
       "<tr><td>25</td><td>Literal</td><td></td><td><a class=\"ProveItLink\" href=\"../../../../../../logic/classes/membership/__pv_it/common/e3b437d28fbe17f0a50c9789c7c9b47a1270f1420/expr.ipynb\"><img src=\"../../../../../../logic/classes/membership/__pv_it/common/e3b437d28fbe17f0a50c9789c7c9b47a1270f1420/expr.png\" style=\"display:inline;vertical-align:middle;\" /></a></td></tr>\n",
       "<tr><td>26</td><td>ExprTuple</td><td>29, 30</td><td><a class=\"ProveItLink\" href=\"../07133a66b182259e3c45ef5da3d7fa5ef9160a820/expr.ipynb\"><img src=\"../07133a66b182259e3c45ef5da3d7fa5ef9160a820/expr.png\" style=\"display:inline;vertical-align:middle;\" /></a></td></tr>\n",
       "<tr><td>27</td><td>Operation</td><td>operator:&nbsp;33<br>operands:&nbsp;31<br></td><td><a class=\"ProveItLink\" href=\"../dfaf790097d1b096932bfec29c10f8c0647828120/expr.ipynb\"><img src=\"../dfaf790097d1b096932bfec29c10f8c0647828120/expr.png\" style=\"display:inline;vertical-align:middle;\" /></a></td></tr>\n",
       "<tr><td>28</td><td>Operation</td><td>operator:&nbsp;33<br>operands:&nbsp;32<br></td><td><a class=\"ProveItLink\" href=\"../79fd955b15010c619d30ba82eef9434e8f85f5ac0/expr.ipynb\"><img src=\"../79fd955b15010c619d30ba82eef9434e8f85f5ac0/expr.png\" style=\"display:inline;vertical-align:middle;\" /></a></td></tr>\n",
       "<tr><td>29</td><td>Operation</td><td>operator:&nbsp;33<br>operands:&nbsp;34<br></td><td><a class=\"ProveItLink\" href=\"../47f5d1074297be77ba145e470550997b81ec3c990/expr.ipynb\"><img src=\"../47f5d1074297be77ba145e470550997b81ec3c990/expr.png\" style=\"display:inline;vertical-align:middle;\" /></a></td></tr>\n",
       "<tr><td>30</td><td>Literal</td><td></td><td><a class=\"ProveItLink\" href=\"../../common/9eb627883d0de35514f5f025d8d6d9a6894424630/expr.ipynb\"><img src=\"../../common/9eb627883d0de35514f5f025d8d6d9a6894424630/expr.png\" style=\"display:inline;vertical-align:middle;\" /></a></td></tr>\n",
       "<tr><td>31</td><td>ExprTuple</td><td>36, 35, 37</td><td><a class=\"ProveItLink\" href=\"../0a4afd8bcd29a7c411c860808e465cd446ae110b0/expr.ipynb\"><img src=\"../0a4afd8bcd29a7c411c860808e465cd446ae110b0/expr.png\" style=\"display:inline;vertical-align:middle;\" /></a></td></tr>\n",
       "<tr><td>32</td><td>ExprTuple</td><td>36, 45, 46, 37</td><td><a class=\"ProveItLink\" href=\"../d8a0e4ac0f4d7cadce569d7e8a63eaece50b9b0b0/expr.ipynb\"><img src=\"../d8a0e4ac0f4d7cadce569d7e8a63eaece50b9b0b0/expr.png\" style=\"display:inline;vertical-align:middle;\" /></a></td></tr>\n",
       "<tr><td>33</td><td>Literal</td><td></td><td><a class=\"ProveItLink\" href=\"../../common/2972e0deb52c96565b39f905d407d7302ae287580/expr.ipynb\"><img src=\"../../common/2972e0deb52c96565b39f905d407d7302ae287580/expr.png\" style=\"display:inline;vertical-align:middle;\" /></a></td></tr>\n",
       "<tr><td>34</td><td>ExprTuple</td><td>36, 46, 37</td><td><a class=\"ProveItLink\" href=\"../bf8f16070dec217e8ee7cb01fefeef6dea3b358c0/expr.ipynb\"><img src=\"../bf8f16070dec217e8ee7cb01fefeef6dea3b358c0/expr.png\" style=\"display:inline;vertical-align:middle;\" /></a></td></tr>\n",
       "<tr><td>35</td><td>Operation</td><td>operator:&nbsp;38<br>operands:&nbsp;39<br></td><td><a class=\"ProveItLink\" href=\"../9d76e850cb997d107928547f3746846eb9db1e340/expr.ipynb\"><img src=\"../9d76e850cb997d107928547f3746846eb9db1e340/expr.png\" style=\"display:inline;vertical-align:middle;\" /></a></td></tr>\n",
       "<tr><td>36</td><td>ExprRange</td><td>lambda_map:&nbsp;40<br>start_index:&nbsp;43<br>end_index:&nbsp;41<br></td><td><a class=\"ProveItLink\" href=\"../../../../../../core_expr_types/__pv_it/common/a661ce209a2c221820bbff00e1d4b098820c37af0/expr.ipynb\"><img src=\"../../../../../../core_expr_types/__pv_it/common/a661ce209a2c221820bbff00e1d4b098820c37af0/expr.png\" style=\"display:inline;vertical-align:middle;\" /></a></td></tr>\n",
       "<tr><td>37</td><td>ExprRange</td><td>lambda_map:&nbsp;42<br>start_index:&nbsp;43<br>end_index:&nbsp;44<br></td><td><a class=\"ProveItLink\" href=\"../../../../../../core_expr_types/__pv_it/common/e7504afc0aea2366fbf28183721351f04720dfad0/expr.ipynb\"><img src=\"../../../../../../core_expr_types/__pv_it/common/e7504afc0aea2366fbf28183721351f04720dfad0/expr.png\" style=\"display:inline;vertical-align:middle;\" /></a></td></tr>\n",
       "<tr><td>38</td><td>Literal</td><td></td><td><a class=\"ProveItLink\" href=\"../../../../../../linear_algebra/scalar_multiplication/__pv_it/common/1e364bd471e6a29fcd358dd2d9cd990a1e6fedd40/expr.ipynb\"><img src=\"../../../../../../linear_algebra/scalar_multiplication/__pv_it/common/1e364bd471e6a29fcd358dd2d9cd990a1e6fedd40/expr.png\" style=\"display:inline;vertical-align:middle;\" /></a></td></tr>\n",
       "<tr><td>39</td><td>ExprTuple</td><td>45, 46</td><td><a class=\"ProveItLink\" href=\"../b25488557608a079e97970acb8bd60355ef8a6e60/expr.ipynb\"><img src=\"../b25488557608a079e97970acb8bd60355ef8a6e60/expr.png\" style=\"display:inline;vertical-align:middle;\" /></a></td></tr>\n",
       "<tr><td>40</td><td>Lambda</td><td>parameter:&nbsp;52<br>body:&nbsp;47<br></td><td><a class=\"ProveItLink\" href=\"../../../../../../core_expr_types/__pv_it/common/9332289e845003c758afc3bcee43498ae784f2d90/expr.ipynb\"><img src=\"../../../../../../core_expr_types/__pv_it/common/9332289e845003c758afc3bcee43498ae784f2d90/expr.png\" style=\"display:inline;vertical-align:middle;\" /></a></td></tr>\n",
       "<tr><td>41</td><td>Variable</td><td></td><td><a class=\"ProveItLink\" href=\"../../../../../../__pv_it/common/27cc275d44b4f4499fb9ccfb3fab1a98165d2fa60/expr.ipynb\"><img src=\"../../../../../../__pv_it/common/27cc275d44b4f4499fb9ccfb3fab1a98165d2fa60/expr.png\" style=\"display:inline;vertical-align:middle;\" /></a></td></tr>\n",
       "<tr><td>42</td><td>Lambda</td><td>parameter:&nbsp;52<br>body:&nbsp;48<br></td><td><a class=\"ProveItLink\" href=\"../../../../../../core_expr_types/__pv_it/common/c9399abb980047fe39e716f375f641a4494b404b0/expr.ipynb\"><img src=\"../../../../../../core_expr_types/__pv_it/common/c9399abb980047fe39e716f375f641a4494b404b0/expr.png\" style=\"display:inline;vertical-align:middle;\" /></a></td></tr>\n",
       "<tr><td>43</td><td>Literal</td><td></td><td><a class=\"ProveItLink\" href=\"../../../../../../numbers/numerals/__pv_it/common/682157d4892d216d9e5626ed533aff9b56b9506e0/expr.ipynb\"><img src=\"../../../../../../numbers/numerals/__pv_it/common/682157d4892d216d9e5626ed533aff9b56b9506e0/expr.png\" style=\"display:inline;vertical-align:middle;\" /></a></td></tr>\n",
       "<tr><td>44</td><td>Variable</td><td></td><td><a class=\"ProveItLink\" href=\"../../../../../../__pv_it/common/8968bb04eb3f7dfa02353397ce929b025bbd79c20/expr.ipynb\"><img src=\"../../../../../../__pv_it/common/8968bb04eb3f7dfa02353397ce929b025bbd79c20/expr.png\" style=\"display:inline;vertical-align:middle;\" /></a></td></tr>\n",
       "<tr><td>45</td><td>Variable</td><td></td><td><a class=\"ProveItLink\" href=\"../../../../../../__pv_it/common/9705ebf23debd1198c43ec3d0c30ebe152d069440/expr.ipynb\"><img src=\"../../../../../../__pv_it/common/9705ebf23debd1198c43ec3d0c30ebe152d069440/expr.png\" style=\"display:inline;vertical-align:middle;\" /></a></td></tr>\n",
       "<tr><td>46</td><td>Variable</td><td></td><td><a class=\"ProveItLink\" href=\"../../../../../../__pv_it/common/a9162d1c3cc0470c02e5daf414500903a7a419230/expr.ipynb\"><img src=\"../../../../../../__pv_it/common/a9162d1c3cc0470c02e5daf414500903a7a419230/expr.png\" style=\"display:inline;vertical-align:middle;\" /></a></td></tr>\n",
       "<tr><td>47</td><td>IndexedVar</td><td>variable:&nbsp;49<br>index:&nbsp;52<br></td><td><a class=\"ProveItLink\" href=\"../../../../../../core_expr_types/__pv_it/common/9fdaaadf1b3d81a308244818dc08833e7f5035730/expr.ipynb\"><img src=\"../../../../../../core_expr_types/__pv_it/common/9fdaaadf1b3d81a308244818dc08833e7f5035730/expr.png\" style=\"display:inline;vertical-align:middle;\" /></a></td></tr>\n",
       "<tr><td>48</td><td>IndexedVar</td><td>variable:&nbsp;50<br>index:&nbsp;52<br></td><td><a class=\"ProveItLink\" href=\"../../../../../../core_expr_types/__pv_it/common/f756bc205d05c1af04e1aeeb7a42469b1e89f9cf0/expr.ipynb\"><img src=\"../../../../../../core_expr_types/__pv_it/common/f756bc205d05c1af04e1aeeb7a42469b1e89f9cf0/expr.png\" style=\"display:inline;vertical-align:middle;\" /></a></td></tr>\n",
       "<tr><td>49</td><td>Variable</td><td></td><td><a class=\"ProveItLink\" href=\"../../../../../../__pv_it/common/09585084922504426caf1db2ff588a23a0932a960/expr.ipynb\"><img src=\"../../../../../../__pv_it/common/09585084922504426caf1db2ff588a23a0932a960/expr.png\" style=\"display:inline;vertical-align:middle;\" /></a></td></tr>\n",
       "<tr><td>50</td><td>Variable</td><td></td><td><a class=\"ProveItLink\" href=\"../../../../../../__pv_it/common/9fba9f29e823606ff4fdf2f1c6d5d08d906e850a0/expr.ipynb\"><img src=\"../../../../../../__pv_it/common/9fba9f29e823606ff4fdf2f1c6d5d08d906e850a0/expr.png\" style=\"display:inline;vertical-align:middle;\" /></a></td></tr>\n",
       "<tr><td>51</td><td>ExprTuple</td><td>52</td><td><a class=\"ProveItLink\" href=\"../../../../../../core_expr_types/__pv_it/common/4b0dd6be36d76552eda6a95d5b4a27f5a5b62f900/expr.ipynb\"><img src=\"../../../../../../core_expr_types/__pv_it/common/4b0dd6be36d76552eda6a95d5b4a27f5a5b62f900/expr.png\" style=\"display:inline;vertical-align:middle;\" /></a></td></tr>\n",
       "<tr><td>52</td><td>Variable</td><td></td><td><a class=\"ProveItLink\" href=\"../../../../../../core_expr_types/__pv_it/common/006c465e50948aa2b52285e2de47974f741255cc0/expr.ipynb\"><img src=\"../../../../../../core_expr_types/__pv_it/common/006c465e50948aa2b52285e2de47974f741255cc0/expr.png\" style=\"display:inline;vertical-align:middle;\" /></a></td></tr>\n",
       "</table>\n"
      ],
      "text/plain": [
       "0. ((alpha, l, n) -> {forall_{A_{1}, A_{2}, ..., A_{l}, B, C_{1}, C_{2}, ..., C_{n} | (A_{1} .  A_{2} .  ... .  A_{l} . B. C_{1} .  C_{2} .  ... .  C_{n}) in_c Q*} ((A_{1} .  A_{2} .  ... .  A_{l} . (alpha * B). C_{1} .  C_{2} .  ... .  C_{n}) =  \\\\ (A_{1} .  A_{2} .  ... .  A_{l} . alpha . B. C_{1} .  C_{2} .  ... .  C_{n})) if alpha in Complex ,  l in Natural ,  n in Natural.)\n",
       "   core type: ExprTuple\n",
       "   sub-expressions: 1\n",
       "1. (alpha, l, n) -> {forall_{A_{1}, A_{2}, ..., A_{l}, B, C_{1}, C_{2}, ..., C_{n} | (A_{1} .  A_{2} .  ... .  A_{l} . B. C_{1} .  C_{2} .  ... .  C_{n}) in_c Q*} ((A_{1} .  A_{2} .  ... .  A_{l} . (alpha * B). C_{1} .  C_{2} .  ... .  C_{n}) =  \\\\ (A_{1} .  A_{2} .  ... .  A_{l} . alpha . B. C_{1} .  C_{2} .  ... .  C_{n})) if alpha in Complex ,  l in Natural ,  n in Natural.\n",
       "   core type: Lambda\n",
       "   parameters: 2\\n   body: 3\n",
       "2. (alpha, l, n)\n",
       "   core type: ExprTuple\n",
       "   sub-expressions: 45, 41, 44\n",
       "3. {forall_{A_{1}, A_{2}, ..., A_{l}, B, C_{1}, C_{2}, ..., C_{n} | (A_{1} .  A_{2} .  ... .  A_{l} . B. C_{1} .  C_{2} .  ... .  C_{n}) in_c Q*} ((A_{1} .  A_{2} .  ... .  A_{l} . (alpha * B). C_{1} .  C_{2} .  ... .  C_{n}) =  \\\\ (A_{1} .  A_{2} .  ... .  A_{l} . alpha . B. C_{1} .  C_{2} .  ... .  C_{n})) if alpha in Complex ,  l in Natural ,  n in Natural.\n",
       "   core type: Conditional\n",
       "   value: 4\n",
       "   condition: 5\n",
       "4. forall_{A_{1}, A_{2}, ..., A_{l}, B, C_{1}, C_{2}, ..., C_{n} | (A_{1} .  A_{2} .  ... .  A_{l} . B. C_{1} .  C_{2} .  ... .  C_{n}) in_c Q*} ((A_{1} .  A_{2} .  ... .  A_{l} . (alpha * B). C_{1} .  C_{2} .  ... .  C_{n}) =  \\\\ (A_{1} .  A_{2} .  ... .  A_{l} . alpha . B. C_{1} .  C_{2} .  ... .  C_{n}))\n",
       "   core type: Operation\n",
       "   operator: 6\n",
       "   operand: 10\n",
       "5. (alpha in Complex) and (l in Natural) and (n in Natural)\n",
       "   core type: Operation\n",
       "   operator: 8\n",
       "   operands: 9\n",
       "6. forall\n",
       "   core type: Literal\n",
       "   sub-expressions: \n",
       "7. ((A_{1}, A_{2}, ..., A_{l}, B, C_{1}, C_{2}, ..., C_{n}) -> {(A_{1} .  A_{2} .  ... .  A_{l} . (alpha * B). C_{1} .  C_{2} .  ... .  C_{n}) =  \\\\ (A_{1} .  A_{2} .  ... .  A_{l} . alpha . B. C_{1} .  C_{2} .  ... .  C_{n}) if (A_{1} .  A_{2} .  ... .  A_{l} . B. C_{1} .  C_{2} .  ... .  C_{n}) in_c Q*.)\n",
       "   core type: ExprTuple\n",
       "   sub-expressions: 10\n",
       "8. and\n",
       "   core type: Literal\n",
       "   sub-expressions: \n",
       "9. (alpha in Complex, l in Natural, n in Natural)\n",
       "   core type: ExprTuple\n",
       "   sub-expressions: 11, 12, 13\n",
       "10. (A_{1}, A_{2}, ..., A_{l}, B, C_{1}, C_{2}, ..., C_{n}) -> {(A_{1} .  A_{2} .  ... .  A_{l} . (alpha * B). C_{1} .  C_{2} .  ... .  C_{n}) =  \\\\ (A_{1} .  A_{2} .  ... .  A_{l} . alpha . B. C_{1} .  C_{2} .  ... .  C_{n}) if (A_{1} .  A_{2} .  ... .  A_{l} . B. C_{1} .  C_{2} .  ... .  C_{n}) in_c Q*.\n",
       "    core type: Lambda\n",
       "    parameters: 34\\n    body: 14\n",
       "11. alpha in Complex\n",
       "    core type: Operation\n",
       "    operator: 17\n",
       "    operands: 15\n",
       "12. l in Natural\n",
       "    core type: Operation\n",
       "    operator: 17\n",
       "    operands: 16\n",
       "13. n in Natural\n",
       "    core type: Operation\n",
       "    operator: 17\n",
       "    operands: 18\n",
       "14. {(A_{1} .  A_{2} .  ... .  A_{l} . (alpha * B). C_{1} .  C_{2} .  ... .  C_{n}) =  \\\\ (A_{1} .  A_{2} .  ... .  A_{l} . alpha . B. C_{1} .  C_{2} .  ... .  C_{n}) if (A_{1} .  A_{2} .  ... .  A_{l} . B. C_{1} .  C_{2} .  ... .  C_{n}) in_c Q*.\n",
       "    core type: Conditional\n",
       "    value: 19\n",
       "    condition: 20\n",
       "15. (alpha, Complex)\n",
       "    core type: ExprTuple\n",
       "    sub-expressions: 45, 21\n",
       "16. (l, Natural)\n",
       "    core type: ExprTuple\n",
       "    sub-expressions: 41, 22\n",
       "17. in\n",
       "    core type: Literal\n",
       "    sub-expressions: \n",
       "18. (n, Natural)\n",
       "    core type: ExprTuple\n",
       "    sub-expressions: 44, 22\n",
       "19. (A_{1} .  A_{2} .  ... .  A_{l} . (alpha * B). C_{1} .  C_{2} .  ... .  C_{n}) =  \\\\ (A_{1} .  A_{2} .  ... .  A_{l} . alpha . B. C_{1} .  C_{2} .  ... .  C_{n})\n",
       "    core type: Operation\n",
       "    operator: 23\n",
       "    operands: 24\n",
       "20. (A_{1} .  A_{2} .  ... .  A_{l} . B. C_{1} .  C_{2} .  ... .  C_{n}) in_c Q*\n",
       "    core type: Operation\n",
       "    operator: 25\n",
       "    operands: 26\n",
       "21. Complex\n",
       "    core type: Literal\n",
       "    sub-expressions: \n",
       "22. Natural\n",
       "    core type: Literal\n",
       "    sub-expressions: \n",
       "23. =\n",
       "    core type: Literal\n",
       "    sub-expressions: \n",
       "24. (A_{1} .  A_{2} .  ... .  A_{l} . (alpha * B). C_{1} .  C_{2} .  ... .  C_{n}, A_{1} .  A_{2} .  ... .  A_{l} . alpha . B. C_{1} .  C_{2} .  ... .  C_{n})\n",
       "    core type: ExprTuple\n",
       "    sub-expressions: 27, 28\n",
       "25. in_c\n",
       "    core type: Literal\n",
       "    sub-expressions: \n",
       "26. (A_{1} .  A_{2} .  ... .  A_{l} . B. C_{1} .  C_{2} .  ... .  C_{n}, Q*)\n",
       "    core type: ExprTuple\n",
       "    sub-expressions: 29, 30\n",
       "27. A_{1} .  A_{2} .  ... .  A_{l} . (alpha * B). C_{1} .  C_{2} .  ... .  C_{n}\n",
       "    core type: Operation\n",
       "    operator: 33\n",
       "    operands: 31\n",
       "28. A_{1} .  A_{2} .  ... .  A_{l} . alpha . B. C_{1} .  C_{2} .  ... .  C_{n}\n",
       "    core type: Operation\n",
       "    operator: 33\n",
       "    operands: 32\n",
       "29. A_{1} .  A_{2} .  ... .  A_{l} . B. C_{1} .  C_{2} .  ... .  C_{n}\n",
       "    core type: Operation\n",
       "    operator: 33\n",
       "    operands: 34\n",
       "30. Q*\n",
       "    core type: Literal\n",
       "    sub-expressions: \n",
       "31. (A_{1}, A_{2}, ..., A_{l}, alpha * B,C_{1}, C_{2}, ..., C_{n})\n",
       "    core type: ExprTuple\n",
       "    sub-expressions: 36, 35, 37\n",
       "32. (A_{1}, A_{2}, ..., A_{l}, alpha, B,C_{1}, C_{2}, ..., C_{n})\n",
       "    core type: ExprTuple\n",
       "    sub-expressions: 36, 45, 46, 37\n",
       "33. .\n",
       "    core type: Literal\n",
       "    sub-expressions: \n",
       "34. (A_{1}, A_{2}, ..., A_{l}, B,C_{1}, C_{2}, ..., C_{n})\n",
       "    core type: ExprTuple\n",
       "    sub-expressions: 36, 46, 37\n",
       "35. alpha * B\n",
       "    core type: Operation\n",
       "    operator: 38\n",
       "    operands: 39\n",
       "36. A_{1}, A_{2}, ..., A_{l}\n",
       "    core type: ExprRange\n",
       "    lambda_map: 40\n",
       "    start_index: 43\n",
       "    end_index: 41\n",
       "37. C_{1}, C_{2}, ..., C_{n}\n",
       "    core type: ExprRange\n",
       "    lambda_map: 42\n",
       "    start_index: 43\n",
       "    end_index: 44\n",
       "38. *\n",
       "    core type: Literal\n",
       "    sub-expressions: \n",
       "39. (alpha, B)\n",
       "    core type: ExprTuple\n",
       "    sub-expressions: 45, 46\n",
       "40. _a -> A_{_a}\n",
       "    core type: Lambda\n",
       "    parameter: 52\n",
       "    body: 47\n",
       "41. l\n",
       "    core type: Variable\n",
       "    sub-expressions: \n",
       "42. _a -> C_{_a}\n",
       "    core type: Lambda\n",
       "    parameter: 52\n",
       "    body: 48\n",
       "43. 1\n",
       "    core type: Literal\n",
       "    sub-expressions: \n",
       "44. n\n",
       "    core type: Variable\n",
       "    sub-expressions: \n",
       "45. alpha\n",
       "    core type: Variable\n",
       "    sub-expressions: \n",
       "46. B\n",
       "    core type: Variable\n",
       "    sub-expressions: \n",
       "47. A_{_a}\n",
       "    core type: IndexedVar\n",
       "variable: 49\n",
       "index: 52\n",
       "48. C_{_a}\n",
       "    core type: IndexedVar\n",
       "variable: 50\n",
       "index: 52\n",
       "49. A\n",
       "    core type: Variable\n",
       "    sub-expressions: \n",
       "50. C\n",
       "    core type: Variable\n",
       "    sub-expressions: \n",
       "51. (_a)\n",
       "    core type: ExprTuple\n",
       "    sub-expressions: 52\n",
       "52. _a\n",
       "    core type: Variable\n",
       "    sub-expressions: "
      ]
     },
     "metadata": {},
     "output_type": "display_data"
    }
   ],
   "source": [
    "# display the expression information\n",
    "stored_expr.expr_info()"
   ]
  },
  {
   "cell_type": "code",
   "execution_count": null,
   "metadata": {},
   "outputs": [],
   "source": []
  }
 ],
 "metadata": {
  "kernelspec": {
   "display_name": "Python 3",
   "language": "python",
   "name": "python3"
  }
 },
 "nbformat": 4,
 "nbformat_minor": 0
}