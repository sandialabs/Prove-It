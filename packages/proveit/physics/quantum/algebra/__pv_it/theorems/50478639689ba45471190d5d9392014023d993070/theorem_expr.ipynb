{
 "cells": [
  {
   "cell_type": "markdown",
   "metadata": {},
   "source": [
    "Theorem <a class=\"ProveItLink\" href=\"../../../_theorems_.ipynb#qmult_matrix_is_linmap\">qmult_matrix_is_linmap</a> of type <a class=\"ProveItLink\" href=\"../../../../../../../../doc/html/api/proveit.logic.Forall.html\">Forall</a>\n",
    "=======================\n",
    "# from the theory of <a class=\"ProveItLink\" href=\"../../../_theory_nbs_/theory.ipynb\">proveit.physics.quantum.algebra</a>\n",
    "*** see <a class=\"ProveItLink\" href=\"dependencies.ipynb\">dependencies</a> ***"
   ]
  },
  {
   "cell_type": "code",
   "execution_count": 1,
   "metadata": {},
   "outputs": [],
   "source": [
    "import proveit\n",
    "# Automation is not needed when only building an expression:\n",
    "proveit.defaults.automation = False # This will speed things up.\n",
    "proveit.defaults.inline_pngs = False # Makes files smaller.\n",
    "%load_theorem_expr # Load the stored theorem expression as 'stored_expr'\n",
    "# import the special expression\n",
    "from proveit.physics.quantum.algebra import qmult_matrix_is_linmap"
   ]
  },
  {
   "cell_type": "code",
   "execution_count": 2,
   "metadata": {},
   "outputs": [
    {
     "name": "stdout",
     "output_type": "stream",
     "text": [
      "Passed sanity check: qmult_matrix_is_linmap matches stored_expr\n"
     ]
    }
   ],
   "source": [
    "# check that the built expression is the same as the stored expression\n",
    "assert qmult_matrix_is_linmap.expr == stored_expr\n",
    "assert qmult_matrix_is_linmap.expr._style_id == stored_expr._style_id\n",
    "print(\"Passed sanity check: qmult_matrix_is_linmap matches stored_expr\")"
   ]
  },
  {
   "cell_type": "code",
   "execution_count": 3,
   "metadata": {},
   "outputs": [
    {
     "name": "stdout",
     "output_type": "stream",
     "text": [
      "\\forall_{m, n \\in \\mathbb{N}^+}~\\left[\\forall_{M \\in \\mathbb{C}^{m \\times n}}~\\left(\\left[M\\right] \\in \\mathcal{L}\\left(\\mathbb{C}^{n}, \\mathbb{C}^{m}\\right)\\right)\\right]\n"
     ]
    }
   ],
   "source": [
    "# Show the LaTeX representation of the expression for convenience if you need it.\n",
    "print(stored_expr.latex())"
   ]
  },
  {
   "cell_type": "code",
   "execution_count": 4,
   "metadata": {},
   "outputs": [
    {
     "data": {
      "text/html": [
       "<table>\n",
       "<tr><th>name</th><th>description</th><th>default</th><th>current value</th><th>related methods</th></tr><tr><td>with_wrapping</td><td>If 'True', wrap the Expression after the parameters</td><td>None</td><td>None/False</td><td>('with_wrapping',)</td></tr>\n",
       "<tr><td>condition_wrapping</td><td>Wrap 'before' or 'after' the condition (or None).</td><td>None</td><td>None/False</td><td>('with_wrap_after_condition', 'with_wrap_before_condition')</td></tr>\n",
       "<tr><td>wrap_params</td><td>If 'True', wraps every two parameters AND wraps the Expression after the parameters</td><td>None</td><td>None/False</td><td>('with_params',)</td></tr>\n",
       "<tr><td>justification</td><td>justify to the 'left', 'center', or 'right' in the array cells</td><td>center</td><td>center</td><td>('with_justification',)</td></tr>\n",
       "</table>\n"
      ],
      "text/plain": [
       "style name: with_wrapping\n",
       "description: If 'True', wrap the Expression after the parameters\n",
       "default: None\n",
       "current value: None/False\n",
       "related methods: ('with_wrapping',)\n",
       "style name: condition_wrapping\n",
       "description: Wrap 'before' or 'after' the condition (or None).\n",
       "default: None\n",
       "current value: None/False\n",
       "related methods: ('with_wrap_after_condition', 'with_wrap_before_condition')\n",
       "style name: wrap_params\n",
       "description: If 'True', wraps every two parameters AND wraps the Expression after the parameters\n",
       "default: None\n",
       "current value: None/False\n",
       "related methods: ('with_params',)\n",
       "style name: justification\n",
       "description: justify to the 'left', 'center', or 'right' in the array cells\n",
       "default: center\n",
       "current value: center\n",
       "related methods: ('with_justification',)"
      ]
     },
     "metadata": {},
     "output_type": "display_data"
    }
   ],
   "source": [
    "stored_expr.style_options()"
   ]
  },
  {
   "cell_type": "code",
   "execution_count": 5,
   "metadata": {},
   "outputs": [
    {
     "data": {
      "text/html": [
       "<table><tr><th>&nbsp;</th><th>core type</th><th>sub-expressions</th><th>expression</th></tr>\n",
       "<tr><td>0</td><td>Operation</td><td>operator:&nbsp;7<br>operand:&nbsp;2<br></td><td><a class=\"ProveItLink\" href=\"../86096fe3379319dd31276f3c93d4a8759a85f8560/expr.ipynb\"><img src=\"../86096fe3379319dd31276f3c93d4a8759a85f8560/expr.png\" style=\"display:inline;vertical-align:middle;\" /></a></td></tr>\n",
       "<tr><td>1</td><td>ExprTuple</td><td>2</td><td><a class=\"ProveItLink\" href=\"../dceccecaf56bdfd9e1a5a7c19d62373df2319c140/expr.ipynb\"><img src=\"../dceccecaf56bdfd9e1a5a7c19d62373df2319c140/expr.png\" style=\"display:inline;vertical-align:middle;\" /></a></td></tr>\n",
       "<tr><td>2</td><td>Lambda</td><td>parameters:&nbsp;3<br>body:&nbsp;4<br></td><td><a class=\"ProveItLink\" href=\"../163f633c69a36013fc368c01ed0ffbe560b06a720/expr.ipynb\"><img src=\"../163f633c69a36013fc368c01ed0ffbe560b06a720/expr.png\" style=\"display:inline;vertical-align:middle;\" /></a></td></tr>\n",
       "<tr><td>3</td><td>ExprTuple</td><td>40, 38</td><td><a class=\"ProveItLink\" href=\"../05a1ed7149bdab455b0537bd9baa8c6aae03294c0/expr.ipynb\"><img src=\"../05a1ed7149bdab455b0537bd9baa8c6aae03294c0/expr.png\" style=\"display:inline;vertical-align:middle;\" /></a></td></tr>\n",
       "<tr><td>4</td><td>Conditional</td><td>value:&nbsp;5<br>condition:&nbsp;6<br></td><td><a class=\"ProveItLink\" href=\"../986c8bd494705641fa9b455afaeca4994c5673220/expr.ipynb\"><img src=\"../986c8bd494705641fa9b455afaeca4994c5673220/expr.png\" style=\"display:inline;vertical-align:middle;\" /></a></td></tr>\n",
       "<tr><td>5</td><td>Operation</td><td>operator:&nbsp;7<br>operand:&nbsp;11<br></td><td><a class=\"ProveItLink\" href=\"../352ac3ba38d83c856755c665a1c19a19e55a4c5d0/expr.ipynb\"><img src=\"../352ac3ba38d83c856755c665a1c19a19e55a4c5d0/expr.png\" style=\"display:inline;vertical-align:middle;\" /></a></td></tr>\n",
       "<tr><td>6</td><td>Operation</td><td>operator:&nbsp;9<br>operands:&nbsp;10<br></td><td><a class=\"ProveItLink\" href=\"../3ac138a03840d6f0b7448249da5c06efd69f5dbd0/expr.ipynb\"><img src=\"../3ac138a03840d6f0b7448249da5c06efd69f5dbd0/expr.png\" style=\"display:inline;vertical-align:middle;\" /></a></td></tr>\n",
       "<tr><td>7</td><td>Literal</td><td></td><td><a class=\"ProveItLink\" href=\"../../../../../../logic/booleans/quantification/universality/__pv_it/common/083d2baa0b8ecab1d230f9ec29a15aa1355809fb0/expr.ipynb\"><img src=\"../../../../../../logic/booleans/quantification/universality/__pv_it/common/083d2baa0b8ecab1d230f9ec29a15aa1355809fb0/expr.png\" style=\"display:inline;vertical-align:middle;\" /></a></td></tr>\n",
       "<tr><td>8</td><td>ExprTuple</td><td>11</td><td><a class=\"ProveItLink\" href=\"../50b247936cad713e74c07ca1859c1eedeedd9fb50/expr.ipynb\"><img src=\"../50b247936cad713e74c07ca1859c1eedeedd9fb50/expr.png\" style=\"display:inline;vertical-align:middle;\" /></a></td></tr>\n",
       "<tr><td>9</td><td>Literal</td><td></td><td><a class=\"ProveItLink\" href=\"../../../../../../logic/booleans/conjunction/__pv_it/common/42118ff318bd65d98b1393f64ce7c2269feef76e0/expr.ipynb\"><img src=\"../../../../../../logic/booleans/conjunction/__pv_it/common/42118ff318bd65d98b1393f64ce7c2269feef76e0/expr.png\" style=\"display:inline;vertical-align:middle;\" /></a></td></tr>\n",
       "<tr><td>10</td><td>ExprTuple</td><td>12, 13</td><td><a class=\"ProveItLink\" href=\"../59c98b751c09f887990cd686af7f00c4d21137b80/expr.ipynb\"><img src=\"../59c98b751c09f887990cd686af7f00c4d21137b80/expr.png\" style=\"display:inline;vertical-align:middle;\" /></a></td></tr>\n",
       "<tr><td>11</td><td>Lambda</td><td>parameter:&nbsp;32<br>body:&nbsp;14<br></td><td><a class=\"ProveItLink\" href=\"../ec5a814ce724df0c04b2dc5be349c3bf4a2484c30/expr.ipynb\"><img src=\"../ec5a814ce724df0c04b2dc5be349c3bf4a2484c30/expr.png\" style=\"display:inline;vertical-align:middle;\" /></a></td></tr>\n",
       "<tr><td>12</td><td>Operation</td><td>operator:&nbsp;21<br>operands:&nbsp;15<br></td><td><a class=\"ProveItLink\" href=\"../79a768603778550c651661670153c27ee0a505870/expr.ipynb\"><img src=\"../79a768603778550c651661670153c27ee0a505870/expr.png\" style=\"display:inline;vertical-align:middle;\" /></a></td></tr>\n",
       "<tr><td>13</td><td>Operation</td><td>operator:&nbsp;21<br>operands:&nbsp;16<br></td><td><a class=\"ProveItLink\" href=\"../c3c0a0522590e024022c8052cabac138164190560/expr.ipynb\"><img src=\"../c3c0a0522590e024022c8052cabac138164190560/expr.png\" style=\"display:inline;vertical-align:middle;\" /></a></td></tr>\n",
       "<tr><td>14</td><td>Conditional</td><td>value:&nbsp;17<br>condition:&nbsp;18<br></td><td><a class=\"ProveItLink\" href=\"../87e9cac8fda4a99add0482a54ad84c3c29f7d4f30/expr.ipynb\"><img src=\"../87e9cac8fda4a99add0482a54ad84c3c29f7d4f30/expr.png\" style=\"display:inline;vertical-align:middle;\" /></a></td></tr>\n",
       "<tr><td>15</td><td>ExprTuple</td><td>40, 19</td><td><a class=\"ProveItLink\" href=\"../0aafde61e876ad81c8138546f58d9459d893af050/expr.ipynb\"><img src=\"../0aafde61e876ad81c8138546f58d9459d893af050/expr.png\" style=\"display:inline;vertical-align:middle;\" /></a></td></tr>\n",
       "<tr><td>16</td><td>ExprTuple</td><td>38, 19</td><td><a class=\"ProveItLink\" href=\"../4459dda147b56e10026c83203ced1bc32b9704ab0/expr.ipynb\"><img src=\"../4459dda147b56e10026c83203ced1bc32b9704ab0/expr.png\" style=\"display:inline;vertical-align:middle;\" /></a></td></tr>\n",
       "<tr><td>17</td><td>Operation</td><td>operator:&nbsp;21<br>operands:&nbsp;20<br></td><td><a class=\"ProveItLink\" href=\"../5a67c409e1f150d534171f3c65f21ba07c45efe00/expr.ipynb\"><img src=\"../5a67c409e1f150d534171f3c65f21ba07c45efe00/expr.png\" style=\"display:inline;vertical-align:middle;\" /></a></td></tr>\n",
       "<tr><td>18</td><td>Operation</td><td>operator:&nbsp;21<br>operands:&nbsp;22<br></td><td><a class=\"ProveItLink\" href=\"../a57d233a47769cc56d77cb010a9978a24ea1ad500/expr.ipynb\"><img src=\"../a57d233a47769cc56d77cb010a9978a24ea1ad500/expr.png\" style=\"display:inline;vertical-align:middle;\" /></a></td></tr>\n",
       "<tr><td>19</td><td>Literal</td><td></td><td><a class=\"ProveItLink\" href=\"../../../../../../numbers/number_sets/natural_numbers/__pv_it/common/6111329435c43892c831c4793de96afbf80bdb3e0/expr.ipynb\"><img src=\"../../../../../../numbers/number_sets/natural_numbers/__pv_it/common/6111329435c43892c831c4793de96afbf80bdb3e0/expr.png\" style=\"display:inline;vertical-align:middle;\" /></a></td></tr>\n",
       "<tr><td>20</td><td>ExprTuple</td><td>23, 24</td><td><a class=\"ProveItLink\" href=\"../29e830c958baf550329c7161add623d32764f2260/expr.ipynb\"><img src=\"../29e830c958baf550329c7161add623d32764f2260/expr.png\" style=\"display:inline;vertical-align:middle;\" /></a></td></tr>\n",
       "<tr><td>21</td><td>Literal</td><td></td><td><a class=\"ProveItLink\" href=\"../../../../../../logic/sets/membership/__pv_it/common/477487d8796864d23d5810f83761435f25167f690/expr.ipynb\"><img src=\"../../../../../../logic/sets/membership/__pv_it/common/477487d8796864d23d5810f83761435f25167f690/expr.png\" style=\"display:inline;vertical-align:middle;\" /></a></td></tr>\n",
       "<tr><td>22</td><td>ExprTuple</td><td>32, 25</td><td><a class=\"ProveItLink\" href=\"../40d3dde4c8e530f9a62d0f7a9b399ba8aa4451ea0/expr.ipynb\"><img src=\"../40d3dde4c8e530f9a62d0f7a9b399ba8aa4451ea0/expr.png\" style=\"display:inline;vertical-align:middle;\" /></a></td></tr>\n",
       "<tr><td>23</td><td>Operation</td><td>operator:&nbsp;26<br>operand:&nbsp;32<br></td><td><a class=\"ProveItLink\" href=\"../dd8ea66f6e9463276ffc4d5dd8086a8dd302609f0/expr.ipynb\"><img src=\"../dd8ea66f6e9463276ffc4d5dd8086a8dd302609f0/expr.png\" style=\"display:inline;vertical-align:middle;\" /></a></td></tr>\n",
       "<tr><td>24</td><td>Operation</td><td>operator:&nbsp;28<br>operands:&nbsp;29<br></td><td><a class=\"ProveItLink\" href=\"../f632aa2a4403b1baad8a7b6b67b8205bec01980b0/expr.ipynb\"><img src=\"../f632aa2a4403b1baad8a7b6b67b8205bec01980b0/expr.png\" style=\"display:inline;vertical-align:middle;\" /></a></td></tr>\n",
       "<tr><td>25</td><td>Operation</td><td>operator:&nbsp;30<br>operands:&nbsp;31<br></td><td><a class=\"ProveItLink\" href=\"../7148185b9def8bb2bb110483ffb002aa175be3ca0/expr.ipynb\"><img src=\"../7148185b9def8bb2bb110483ffb002aa175be3ca0/expr.png\" style=\"display:inline;vertical-align:middle;\" /></a></td></tr>\n",
       "<tr><td>26</td><td>Literal</td><td></td><td><a class=\"ProveItLink\" href=\"../../common/2972e0deb52c96565b39f905d407d7302ae287580/expr.ipynb\"><img src=\"../../common/2972e0deb52c96565b39f905d407d7302ae287580/expr.png\" style=\"display:inline;vertical-align:middle;\" /></a></td></tr>\n",
       "<tr><td>27</td><td>ExprTuple</td><td>32</td><td><a class=\"ProveItLink\" href=\"../1a8ef8376d45a4ffb2bb24da439240a0ef770da10/expr.ipynb\"><img src=\"../1a8ef8376d45a4ffb2bb24da439240a0ef770da10/expr.png\" style=\"display:inline;vertical-align:middle;\" /></a></td></tr>\n",
       "<tr><td>28</td><td>Literal</td><td></td><td><a class=\"ProveItLink\" href=\"../../../../../../linear_algebra/linear_maps/__pv_it/common/d323a251b3f504c3443ff8de393dbf12697838a10/expr.ipynb\"><img src=\"../../../../../../linear_algebra/linear_maps/__pv_it/common/d323a251b3f504c3443ff8de393dbf12697838a10/expr.png\" style=\"display:inline;vertical-align:middle;\" /></a></td></tr>\n",
       "<tr><td>29</td><td>ExprTuple</td><td>33, 34</td><td><a class=\"ProveItLink\" href=\"../617c63d0cdcf756083df7f5545dfb2f3016af6b30/expr.ipynb\"><img src=\"../617c63d0cdcf756083df7f5545dfb2f3016af6b30/expr.png\" style=\"display:inline;vertical-align:middle;\" /></a></td></tr>\n",
       "<tr><td>30</td><td>Literal</td><td></td><td><a class=\"ProveItLink\" href=\"../../../../../../linear_algebra/matrices/__pv_it/common/41bfe9284ff6c5a59c371a3fff56a4201f4483c40/expr.ipynb\"><img src=\"../../../../../../linear_algebra/matrices/__pv_it/common/41bfe9284ff6c5a59c371a3fff56a4201f4483c40/expr.png\" style=\"display:inline;vertical-align:middle;\" /></a></td></tr>\n",
       "<tr><td>31</td><td>NamedExprs</td><td>field: 39<br>rows: 40<br>columns: 38<br></td><td><a class=\"ProveItLink\" href=\"../a74fc50536c74db41f7fa6a025a1cc3c6e4202c40/expr.ipynb\"><img src=\"../a74fc50536c74db41f7fa6a025a1cc3c6e4202c40/expr.png\" style=\"display:inline;vertical-align:middle;\" /></a></td></tr>\n",
       "<tr><td>32</td><td>Variable</td><td></td><td><a class=\"ProveItLink\" href=\"../../../../../../__pv_it/common/ce50a10c2eddfa57687148849d3b804ff497c1cf0/expr.ipynb\"><img src=\"../../../../../../__pv_it/common/ce50a10c2eddfa57687148849d3b804ff497c1cf0/expr.png\" style=\"display:inline;vertical-align:middle;\" /></a></td></tr>\n",
       "<tr><td>33</td><td>Operation</td><td>operator:&nbsp;36<br>operands:&nbsp;35<br></td><td><a class=\"ProveItLink\" href=\"../b3b1dc9164355afa8ebd60560f26e7668c8607c60/expr.ipynb\"><img src=\"../b3b1dc9164355afa8ebd60560f26e7668c8607c60/expr.png\" style=\"display:inline;vertical-align:middle;\" /></a></td></tr>\n",
       "<tr><td>34</td><td>Operation</td><td>operator:&nbsp;36<br>operands:&nbsp;37<br></td><td><a class=\"ProveItLink\" href=\"../836684df7e90f968637307d085c0cd64242462950/expr.ipynb\"><img src=\"../836684df7e90f968637307d085c0cd64242462950/expr.png\" style=\"display:inline;vertical-align:middle;\" /></a></td></tr>\n",
       "<tr><td>35</td><td>ExprTuple</td><td>39, 38</td><td><a class=\"ProveItLink\" href=\"../4a1d4147e84733db6066067180d99772107b7bda0/expr.ipynb\"><img src=\"../4a1d4147e84733db6066067180d99772107b7bda0/expr.png\" style=\"display:inline;vertical-align:middle;\" /></a></td></tr>\n",
       "<tr><td>36</td><td>Literal</td><td></td><td><a class=\"ProveItLink\" href=\"../../../../../../logic/sets/cartesian_products/__pv_it/common/7d20d67ddfbd94ad12efc9670c0d16a295b8ec1a0/expr.ipynb\"><img src=\"../../../../../../logic/sets/cartesian_products/__pv_it/common/7d20d67ddfbd94ad12efc9670c0d16a295b8ec1a0/expr.png\" style=\"display:inline;vertical-align:middle;\" /></a></td></tr>\n",
       "<tr><td>37</td><td>ExprTuple</td><td>39, 40</td><td><a class=\"ProveItLink\" href=\"../95cc4b9707abf999b71df7c547d8c6112f914f3e0/expr.ipynb\"><img src=\"../95cc4b9707abf999b71df7c547d8c6112f914f3e0/expr.png\" style=\"display:inline;vertical-align:middle;\" /></a></td></tr>\n",
       "<tr><td>38</td><td>Variable</td><td></td><td><a class=\"ProveItLink\" href=\"../../../../../../__pv_it/common/8968bb04eb3f7dfa02353397ce929b025bbd79c20/expr.ipynb\"><img src=\"../../../../../../__pv_it/common/8968bb04eb3f7dfa02353397ce929b025bbd79c20/expr.png\" style=\"display:inline;vertical-align:middle;\" /></a></td></tr>\n",
       "<tr><td>39</td><td>Literal</td><td></td><td><a class=\"ProveItLink\" href=\"../../../../../../numbers/number_sets/complex_numbers/__pv_it/common/d18a028138f659eda00de597c28a3447fe87eb100/expr.ipynb\"><img src=\"../../../../../../numbers/number_sets/complex_numbers/__pv_it/common/d18a028138f659eda00de597c28a3447fe87eb100/expr.png\" style=\"display:inline;vertical-align:middle;\" /></a></td></tr>\n",
       "<tr><td>40</td><td>Variable</td><td></td><td><a class=\"ProveItLink\" href=\"../../../../../../__pv_it/common/674a03b9c3ca221b3aabd5636837b31528ff33830/expr.ipynb\"><img src=\"../../../../../../__pv_it/common/674a03b9c3ca221b3aabd5636837b31528ff33830/expr.png\" style=\"display:inline;vertical-align:middle;\" /></a></td></tr>\n",
       "</table>\n"
      ],
      "text/plain": [
       "0. forall_{m, n in NaturalPos} [forall_{M in Complex^{m x n}} ([M] in LINMAP(Complex^{n}, Complex^{m}))]\n",
       "   core type: Operation\n",
       "   operator: 7\n",
       "   operand: 2\n",
       "1. ((m, n) -> {forall_{M in Complex^{m x n}} ([M] in LINMAP(Complex^{n}, Complex^{m})) if m in NaturalPos ,  n in NaturalPos.)\n",
       "   core type: ExprTuple\n",
       "   sub-expressions: 2\n",
       "2. (m, n) -> {forall_{M in Complex^{m x n}} ([M] in LINMAP(Complex^{n}, Complex^{m})) if m in NaturalPos ,  n in NaturalPos.\n",
       "   core type: Lambda\n",
       "   parameters: 3\\n   body: 4\n",
       "3. (m, n)\n",
       "   core type: ExprTuple\n",
       "   sub-expressions: 40, 38\n",
       "4. {forall_{M in Complex^{m x n}} ([M] in LINMAP(Complex^{n}, Complex^{m})) if m in NaturalPos ,  n in NaturalPos.\n",
       "   core type: Conditional\n",
       "   value: 5\n",
       "   condition: 6\n",
       "5. forall_{M in Complex^{m x n}} ([M] in LINMAP(Complex^{n}, Complex^{m}))\n",
       "   core type: Operation\n",
       "   operator: 7\n",
       "   operand: 11\n",
       "6. (m in NaturalPos) and (n in NaturalPos)\n",
       "   core type: Operation\n",
       "   operator: 9\n",
       "   operands: 10\n",
       "7. forall\n",
       "   core type: Literal\n",
       "   sub-expressions: \n",
       "8. (M -> {[M] in LINMAP(Complex^{n}, Complex^{m}) if M in Complex^{m x n}.)\n",
       "   core type: ExprTuple\n",
       "   sub-expressions: 11\n",
       "9. and\n",
       "   core type: Literal\n",
       "   sub-expressions: \n",
       "10. (m in NaturalPos, n in NaturalPos)\n",
       "    core type: ExprTuple\n",
       "    sub-expressions: 12, 13\n",
       "11. M -> {[M] in LINMAP(Complex^{n}, Complex^{m}) if M in Complex^{m x n}.\n",
       "    core type: Lambda\n",
       "    parameter: 32\n",
       "    body: 14\n",
       "12. m in NaturalPos\n",
       "    core type: Operation\n",
       "    operator: 21\n",
       "    operands: 15\n",
       "13. n in NaturalPos\n",
       "    core type: Operation\n",
       "    operator: 21\n",
       "    operands: 16\n",
       "14. {[M] in LINMAP(Complex^{n}, Complex^{m}) if M in Complex^{m x n}.\n",
       "    core type: Conditional\n",
       "    value: 17\n",
       "    condition: 18\n",
       "15. (m, NaturalPos)\n",
       "    core type: ExprTuple\n",
       "    sub-expressions: 40, 19\n",
       "16. (n, NaturalPos)\n",
       "    core type: ExprTuple\n",
       "    sub-expressions: 38, 19\n",
       "17. [M] in LINMAP(Complex^{n}, Complex^{m})\n",
       "    core type: Operation\n",
       "    operator: 21\n",
       "    operands: 20\n",
       "18. M in Complex^{m x n}\n",
       "    core type: Operation\n",
       "    operator: 21\n",
       "    operands: 22\n",
       "19. NaturalPos\n",
       "    core type: Literal\n",
       "    sub-expressions: \n",
       "20. ([M], LINMAP(Complex^{n}, Complex^{m}))\n",
       "    core type: ExprTuple\n",
       "    sub-expressions: 23, 24\n",
       "21. in\n",
       "    core type: Literal\n",
       "    sub-expressions: \n",
       "22. (M, Complex^{m x n})\n",
       "    core type: ExprTuple\n",
       "    sub-expressions: 32, 25\n",
       "23. [M]\n",
       "    core type: Operation\n",
       "    operator: 26\n",
       "    operand: 32\n",
       "24. LINMAP(Complex^{n}, Complex^{m})\n",
       "    core type: Operation\n",
       "    operator: 28\n",
       "    operands: 29\n",
       "25. Complex^{m x n}\n",
       "    core type: Operation\n",
       "    operator: 30\n",
       "    operands: 31\n",
       "26. .\n",
       "    core type: Literal\n",
       "    sub-expressions: \n",
       "27. (M)\n",
       "    core type: ExprTuple\n",
       "    sub-expressions: 32\n",
       "28. LINMAP\n",
       "    core type: Literal\n",
       "    sub-expressions: \n",
       "29. (Complex^{n}, Complex^{m})\n",
       "    core type: ExprTuple\n",
       "    sub-expressions: 33, 34\n",
       "30. MSpace\n",
       "    core type: Literal\n",
       "    sub-expressions: \n",
       "31. {field:Complex, rows:m, columns:n}\n",
       "    core type: NamedExprs\n",
       "    field: 39\n",
       "    rows: 40\n",
       "    columns: 38\n",
       "32. M\n",
       "    core type: Variable\n",
       "    sub-expressions: \n",
       "33. Complex^{n}\n",
       "    core type: Operation\n",
       "    operator: 36\n",
       "    operands: 35\n",
       "34. Complex^{m}\n",
       "    core type: Operation\n",
       "    operator: 36\n",
       "    operands: 37\n",
       "35. (Complex, n)\n",
       "    core type: ExprTuple\n",
       "    sub-expressions: 39, 38\n",
       "36. CartExp\n",
       "    core type: Literal\n",
       "    sub-expressions: \n",
       "37. (Complex, m)\n",
       "    core type: ExprTuple\n",
       "    sub-expressions: 39, 40\n",
       "38. n\n",
       "    core type: Variable\n",
       "    sub-expressions: \n",
       "39. Complex\n",
       "    core type: Literal\n",
       "    sub-expressions: \n",
       "40. m\n",
       "    core type: Variable\n",
       "    sub-expressions: "
      ]
     },
     "metadata": {},
     "output_type": "display_data"
    }
   ],
   "source": [
    "# display the expression information\n",
    "stored_expr.expr_info()"
   ]
  },
  {
   "cell_type": "code",
   "execution_count": null,
   "metadata": {},
   "outputs": [],
   "source": []
  }
 ],
 "metadata": {
  "kernelspec": {
   "display_name": "Python 3",
   "language": "python",
   "name": "python3"
  }
 },
 "nbformat": 4,
 "nbformat_minor": 0
}