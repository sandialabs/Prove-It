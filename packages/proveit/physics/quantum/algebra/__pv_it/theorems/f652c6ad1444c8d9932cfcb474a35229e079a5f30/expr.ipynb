{
 "cells": [
  {
   "cell_type": "markdown",
   "metadata": {},
   "source": [
    "Expression of type <a class=\"ProveItLink\" href=\"../../../../../../../../doc/html/api/proveit.Conditional.html\">Conditional</a>\n",
    "=======================\n",
    "# from the theory of <a class=\"ProveItLink\" href=\"../../../_theory_nbs_/theory.ipynb\">proveit.physics.quantum.algebra</a>"
   ]
  },
  {
   "cell_type": "code",
   "execution_count": 1,
   "metadata": {},
   "outputs": [],
   "source": [
    "import proveit\n",
    "# Automation is not needed when building an expression:\n",
    "proveit.defaults.automation = False # This will speed things up.\n",
    "proveit.defaults.inline_pngs = False # Makes files smaller.\n",
    "%load_expr # Load the stored expression as 'stored_expr'\n",
    "# import Expression classes needed to build the expression\n",
    "from proveit import Conditional, U, alpha, n\n",
    "from proveit.linear_algebra import Norm, Unitary\n",
    "from proveit.logic import CartExp, Equals, Forall, InSet\n",
    "from proveit.numbers import Complex, NaturalPos, RealNonNeg\n",
    "from proveit.physics.quantum import Qmult, var_ket_psi"
   ]
  },
  {
   "cell_type": "code",
   "execution_count": 2,
   "metadata": {},
   "outputs": [
    {
     "data": {
      "text/html": [
       "<strong id=\"expr\">expr:</strong> <a class=\"ProveItLink\" href=\"expr.ipynb\"><img src=\"expr.png\" style=\"display:inline;vertical-align:middle;\" /></a><br>"
      ],
      "text/plain": [
       "<IPython.core.display.HTML object>"
      ]
     },
     "metadata": {},
     "output_type": "display_data"
    }
   ],
   "source": [
    "# build up the expression from sub-expressions\n",
    "expr = Conditional(Forall(instance_param_or_params = [U], instance_expr = Forall(instance_param_or_params = [alpha], instance_expr = Forall(instance_param_or_params = [var_ket_psi], instance_expr = Equals(Norm(Qmult(U, var_ket_psi)), alpha), domain = CartExp(Complex, n), condition = Equals(Norm(var_ket_psi), alpha)), domain = RealNonNeg), domain = Unitary(n)), InSet(n, NaturalPos))"
   ]
  },
  {
   "cell_type": "code",
   "execution_count": 3,
   "metadata": {},
   "outputs": [
    {
     "name": "stdout",
     "output_type": "stream",
     "text": [
      "Passed sanity check: expr matches stored_expr\n"
     ]
    }
   ],
   "source": [
    "# check that the built expression is the same as the stored expression\n",
    "assert expr == stored_expr\n",
    "assert expr._style_id == stored_expr._style_id\n",
    "print(\"Passed sanity check: expr matches stored_expr\")"
   ]
  },
  {
   "cell_type": "code",
   "execution_count": 4,
   "metadata": {},
   "outputs": [
    {
     "name": "stdout",
     "output_type": "stream",
     "text": [
      "\\left\\{\\forall_{U \\in \\textrm{U}\\left(n\\right)}~\\left[\\forall_{\\alpha \\in \\mathbb{R}^{\\ge 0}}~\\left[\\forall_{\\lvert \\psi \\rangle \\in \\mathbb{C}^{n}~|~\\left \\|\\lvert \\psi \\rangle\\right \\| = \\alpha}~\\left(\\left \\|U \\thinspace \\lvert \\psi \\rangle\\right \\| = \\alpha\\right)\\right]\\right] \\textrm{ if } n \\in \\mathbb{N}^+\\right..\n"
     ]
    }
   ],
   "source": [
    "# Show the LaTeX representation of the expression for convenience if you need it.\n",
    "print(stored_expr.latex())"
   ]
  },
  {
   "cell_type": "code",
   "execution_count": 5,
   "metadata": {},
   "outputs": [
    {
     "data": {
      "text/html": [
       "<table>\n",
       "<tr><th>name</th><th>description</th><th>default</th><th>current value</th><th>related methods</th></tr><tr><td>condition_delimiter</td><td>'comma' or 'and'</td><td>comma</td><td>comma</td><td>('with_comma_delimiter', 'with_conjunction_delimiter')</td></tr>\n",
       "</table>\n"
      ],
      "text/plain": [
       "style name: condition_delimiter\n",
       "description: 'comma' or 'and'\n",
       "default: comma\n",
       "current value: comma\n",
       "related methods: ('with_comma_delimiter', 'with_conjunction_delimiter')"
      ]
     },
     "metadata": {},
     "output_type": "display_data"
    }
   ],
   "source": [
    "stored_expr.style_options()"
   ]
  },
  {
   "cell_type": "code",
   "execution_count": 6,
   "metadata": {},
   "outputs": [
    {
     "data": {
      "text/html": [
       "<table><tr><th>&nbsp;</th><th>core type</th><th>sub-expressions</th><th>expression</th></tr>\n",
       "<tr><td>0</td><td>Conditional</td><td>value:&nbsp;1<br>condition:&nbsp;2<br></td><td><a class=\"ProveItLink\" href=\"expr.ipynb\"><img src=\"expr.png\" style=\"display:inline;vertical-align:middle;\" /></a></td></tr>\n",
       "<tr><td>1</td><td>Operation</td><td>operator:&nbsp;21<br>operand:&nbsp;5<br></td><td><a class=\"ProveItLink\" href=\"../816d7a704b5c21709dc41c3f2df35b2a75b1a5fa0/expr.ipynb\"><img src=\"../816d7a704b5c21709dc41c3f2df35b2a75b1a5fa0/expr.png\" style=\"display:inline;vertical-align:middle;\" /></a></td></tr>\n",
       "<tr><td>2</td><td>Operation</td><td>operator:&nbsp;36<br>operands:&nbsp;4<br></td><td><a class=\"ProveItLink\" href=\"../c3c0a0522590e024022c8052cabac138164190560/expr.ipynb\"><img src=\"../c3c0a0522590e024022c8052cabac138164190560/expr.png\" style=\"display:inline;vertical-align:middle;\" /></a></td></tr>\n",
       "<tr><td>3</td><td>ExprTuple</td><td>5</td><td><a class=\"ProveItLink\" href=\"../6750b7dc4f94e18f0519dd1913a2148012ca94330/expr.ipynb\"><img src=\"../6750b7dc4f94e18f0519dd1913a2148012ca94330/expr.png\" style=\"display:inline;vertical-align:middle;\" /></a></td></tr>\n",
       "<tr><td>4</td><td>ExprTuple</td><td>52, 6</td><td><a class=\"ProveItLink\" href=\"../4459dda147b56e10026c83203ced1bc32b9704ab0/expr.ipynb\"><img src=\"../4459dda147b56e10026c83203ced1bc32b9704ab0/expr.png\" style=\"display:inline;vertical-align:middle;\" /></a></td></tr>\n",
       "<tr><td>5</td><td>Lambda</td><td>parameter:&nbsp;50<br>body:&nbsp;8<br></td><td><a class=\"ProveItLink\" href=\"../f8c607d606b0acb91c4d116f909abf01a4b181730/expr.ipynb\"><img src=\"../f8c607d606b0acb91c4d116f909abf01a4b181730/expr.png\" style=\"display:inline;vertical-align:middle;\" /></a></td></tr>\n",
       "<tr><td>6</td><td>Literal</td><td></td><td><a class=\"ProveItLink\" href=\"../../../../../../numbers/number_sets/natural_numbers/__pv_it/common/6111329435c43892c831c4793de96afbf80bdb3e0/expr.ipynb\"><img src=\"../../../../../../numbers/number_sets/natural_numbers/__pv_it/common/6111329435c43892c831c4793de96afbf80bdb3e0/expr.png\" style=\"display:inline;vertical-align:middle;\" /></a></td></tr>\n",
       "<tr><td>7</td><td>ExprTuple</td><td>50</td><td><a class=\"ProveItLink\" href=\"../784e4161fabed463ea08c5bdcaab880caad8d62f0/expr.ipynb\"><img src=\"../784e4161fabed463ea08c5bdcaab880caad8d62f0/expr.png\" style=\"display:inline;vertical-align:middle;\" /></a></td></tr>\n",
       "<tr><td>8</td><td>Conditional</td><td>value:&nbsp;9<br>condition:&nbsp;10<br></td><td><a class=\"ProveItLink\" href=\"../9df7f83219dd589dd6f02978f6f46b91e74ad72b0/expr.ipynb\"><img src=\"../9df7f83219dd589dd6f02978f6f46b91e74ad72b0/expr.png\" style=\"display:inline;vertical-align:middle;\" /></a></td></tr>\n",
       "<tr><td>9</td><td>Operation</td><td>operator:&nbsp;21<br>operand:&nbsp;13<br></td><td><a class=\"ProveItLink\" href=\"../20d7bca05f1c1e8ba752d55930b45528fd62b2b90/expr.ipynb\"><img src=\"../20d7bca05f1c1e8ba752d55930b45528fd62b2b90/expr.png\" style=\"display:inline;vertical-align:middle;\" /></a></td></tr>\n",
       "<tr><td>10</td><td>Operation</td><td>operator:&nbsp;36<br>operands:&nbsp;12<br></td><td><a class=\"ProveItLink\" href=\"../6f8874369dd332f35be86c889ba6f17462f480c90/expr.ipynb\"><img src=\"../6f8874369dd332f35be86c889ba6f17462f480c90/expr.png\" style=\"display:inline;vertical-align:middle;\" /></a></td></tr>\n",
       "<tr><td>11</td><td>ExprTuple</td><td>13</td><td><a class=\"ProveItLink\" href=\"../5c3031e21e87b28d392398343955455c0ad64c870/expr.ipynb\"><img src=\"../5c3031e21e87b28d392398343955455c0ad64c870/expr.png\" style=\"display:inline;vertical-align:middle;\" /></a></td></tr>\n",
       "<tr><td>12</td><td>ExprTuple</td><td>50, 14</td><td><a class=\"ProveItLink\" href=\"../ac99e23ca1b14a8cf60951890f4efe3fa8824dcd0/expr.ipynb\"><img src=\"../ac99e23ca1b14a8cf60951890f4efe3fa8824dcd0/expr.png\" style=\"display:inline;vertical-align:middle;\" /></a></td></tr>\n",
       "<tr><td>13</td><td>Lambda</td><td>parameter:&nbsp;43<br>body:&nbsp;16<br></td><td><a class=\"ProveItLink\" href=\"../db231f13d76df3efb3a84100f7dca03fa99f584e0/expr.ipynb\"><img src=\"../db231f13d76df3efb3a84100f7dca03fa99f584e0/expr.png\" style=\"display:inline;vertical-align:middle;\" /></a></td></tr>\n",
       "<tr><td>14</td><td>Operation</td><td>operator:&nbsp;17<br>operand:&nbsp;52<br></td><td><a class=\"ProveItLink\" href=\"../a295712b2a9ba13f92ad8da2b3c9bd2fe7e48dce0/expr.ipynb\"><img src=\"../a295712b2a9ba13f92ad8da2b3c9bd2fe7e48dce0/expr.png\" style=\"display:inline;vertical-align:middle;\" /></a></td></tr>\n",
       "<tr><td>15</td><td>ExprTuple</td><td>43</td><td><a class=\"ProveItLink\" href=\"../93ef16ea994de9abf758f475bfa61b197c917ba40/expr.ipynb\"><img src=\"../93ef16ea994de9abf758f475bfa61b197c917ba40/expr.png\" style=\"display:inline;vertical-align:middle;\" /></a></td></tr>\n",
       "<tr><td>16</td><td>Conditional</td><td>value:&nbsp;19<br>condition:&nbsp;20<br></td><td><a class=\"ProveItLink\" href=\"../b69aa0dcc36d00b9115da4a99346604f51b4eb000/expr.ipynb\"><img src=\"../b69aa0dcc36d00b9115da4a99346604f51b4eb000/expr.png\" style=\"display:inline;vertical-align:middle;\" /></a></td></tr>\n",
       "<tr><td>17</td><td>Literal</td><td></td><td><a class=\"ProveItLink\" href=\"../../../../../../linear_algebra/matrices/__pv_it/common/4ef8603cb69b80b124ebf92d970050986c8869e80/expr.ipynb\"><img src=\"../../../../../../linear_algebra/matrices/__pv_it/common/4ef8603cb69b80b124ebf92d970050986c8869e80/expr.png\" style=\"display:inline;vertical-align:middle;\" /></a></td></tr>\n",
       "<tr><td>18</td><td>ExprTuple</td><td>52</td><td><a class=\"ProveItLink\" href=\"../ca565dff2751ea9a3b48fe855133b9e0c2eca83f0/expr.ipynb\"><img src=\"../ca565dff2751ea9a3b48fe855133b9e0c2eca83f0/expr.png\" style=\"display:inline;vertical-align:middle;\" /></a></td></tr>\n",
       "<tr><td>19</td><td>Operation</td><td>operator:&nbsp;21<br>operand:&nbsp;24<br></td><td><a class=\"ProveItLink\" href=\"../415aa27a16a05c37882fb2645b8dc73d76c915c70/expr.ipynb\"><img src=\"../415aa27a16a05c37882fb2645b8dc73d76c915c70/expr.png\" style=\"display:inline;vertical-align:middle;\" /></a></td></tr>\n",
       "<tr><td>20</td><td>Operation</td><td>operator:&nbsp;36<br>operands:&nbsp;23<br></td><td><a class=\"ProveItLink\" href=\"../9256886e8603ee63a4053744f35c1322c722fb190/expr.ipynb\"><img src=\"../9256886e8603ee63a4053744f35c1322c722fb190/expr.png\" style=\"display:inline;vertical-align:middle;\" /></a></td></tr>\n",
       "<tr><td>21</td><td>Literal</td><td></td><td><a class=\"ProveItLink\" href=\"../../../../../../logic/booleans/quantification/universality/__pv_it/common/083d2baa0b8ecab1d230f9ec29a15aa1355809fb0/expr.ipynb\"><img src=\"../../../../../../logic/booleans/quantification/universality/__pv_it/common/083d2baa0b8ecab1d230f9ec29a15aa1355809fb0/expr.png\" style=\"display:inline;vertical-align:middle;\" /></a></td></tr>\n",
       "<tr><td>22</td><td>ExprTuple</td><td>24</td><td><a class=\"ProveItLink\" href=\"../2072a4b117afba19b1517de31d5126986c448b6f0/expr.ipynb\"><img src=\"../2072a4b117afba19b1517de31d5126986c448b6f0/expr.png\" style=\"display:inline;vertical-align:middle;\" /></a></td></tr>\n",
       "<tr><td>23</td><td>ExprTuple</td><td>43, 25</td><td><a class=\"ProveItLink\" href=\"../50b514d92177f81fc47b818780163e355eb36fd90/expr.ipynb\"><img src=\"../50b514d92177f81fc47b818780163e355eb36fd90/expr.png\" style=\"display:inline;vertical-align:middle;\" /></a></td></tr>\n",
       "<tr><td>24</td><td>Lambda</td><td>parameter:&nbsp;53<br>body:&nbsp;26<br></td><td><a class=\"ProveItLink\" href=\"../e1b7f8d827c3aac42a6cc9596011d22a4d2fc7cd0/expr.ipynb\"><img src=\"../e1b7f8d827c3aac42a6cc9596011d22a4d2fc7cd0/expr.png\" style=\"display:inline;vertical-align:middle;\" /></a></td></tr>\n",
       "<tr><td>25</td><td>Literal</td><td></td><td><a class=\"ProveItLink\" href=\"../../../../../../numbers/number_sets/real_numbers/__pv_it/common/e6ce8d0e09d7926fae58282b7d1defa502e2c9ba0/expr.ipynb\"><img src=\"../../../../../../numbers/number_sets/real_numbers/__pv_it/common/e6ce8d0e09d7926fae58282b7d1defa502e2c9ba0/expr.png\" style=\"display:inline;vertical-align:middle;\" /></a></td></tr>\n",
       "<tr><td>26</td><td>Conditional</td><td>value:&nbsp;27<br>condition:&nbsp;28<br></td><td><a class=\"ProveItLink\" href=\"../73c703500a62c34f379e3ac228826165a836f5ad0/expr.ipynb\"><img src=\"../73c703500a62c34f379e3ac228826165a836f5ad0/expr.png\" style=\"display:inline;vertical-align:middle;\" /></a></td></tr>\n",
       "<tr><td>27</td><td>Operation</td><td>operator:&nbsp;38<br>operands:&nbsp;29<br></td><td><a class=\"ProveItLink\" href=\"../a6124e6f886cfc2cf13feaeb40d101e13fea52330/expr.ipynb\"><img src=\"../a6124e6f886cfc2cf13feaeb40d101e13fea52330/expr.png\" style=\"display:inline;vertical-align:middle;\" /></a></td></tr>\n",
       "<tr><td>28</td><td>Operation</td><td>operator:&nbsp;30<br>operands:&nbsp;31<br></td><td><a class=\"ProveItLink\" href=\"../4c3a5c6d8e17da19bced63f5d52fd37bd72417bf0/expr.ipynb\"><img src=\"../4c3a5c6d8e17da19bced63f5d52fd37bd72417bf0/expr.png\" style=\"display:inline;vertical-align:middle;\" /></a></td></tr>\n",
       "<tr><td>29</td><td>ExprTuple</td><td>32, 43</td><td><a class=\"ProveItLink\" href=\"../8ecd145254b9f6a63a300e0ece9537cdc79ceca70/expr.ipynb\"><img src=\"../8ecd145254b9f6a63a300e0ece9537cdc79ceca70/expr.png\" style=\"display:inline;vertical-align:middle;\" /></a></td></tr>\n",
       "<tr><td>30</td><td>Literal</td><td></td><td><a class=\"ProveItLink\" href=\"../../../../../../logic/booleans/conjunction/__pv_it/common/42118ff318bd65d98b1393f64ce7c2269feef76e0/expr.ipynb\"><img src=\"../../../../../../logic/booleans/conjunction/__pv_it/common/42118ff318bd65d98b1393f64ce7c2269feef76e0/expr.png\" style=\"display:inline;vertical-align:middle;\" /></a></td></tr>\n",
       "<tr><td>31</td><td>ExprTuple</td><td>33, 34</td><td><a class=\"ProveItLink\" href=\"../d18f84c9a31dbc9fa1322e5823a516a25e6b68710/expr.ipynb\"><img src=\"../d18f84c9a31dbc9fa1322e5823a516a25e6b68710/expr.png\" style=\"display:inline;vertical-align:middle;\" /></a></td></tr>\n",
       "<tr><td>32</td><td>Operation</td><td>operator:&nbsp;48<br>operand:&nbsp;40<br></td><td><a class=\"ProveItLink\" href=\"../f251c3df68637dd6fc91d5d9d2ee079030c699ab0/expr.ipynb\"><img src=\"../f251c3df68637dd6fc91d5d9d2ee079030c699ab0/expr.png\" style=\"display:inline;vertical-align:middle;\" /></a></td></tr>\n",
       "<tr><td>33</td><td>Operation</td><td>operator:&nbsp;36<br>operands:&nbsp;37<br></td><td><a class=\"ProveItLink\" href=\"../30feffcd23a52ef2c99c3a1f18839c488afd7db90/expr.ipynb\"><img src=\"../30feffcd23a52ef2c99c3a1f18839c488afd7db90/expr.png\" style=\"display:inline;vertical-align:middle;\" /></a></td></tr>\n",
       "<tr><td>34</td><td>Operation</td><td>operator:&nbsp;38<br>operands:&nbsp;39<br></td><td><a class=\"ProveItLink\" href=\"../43cf916e738a0f2338682662753264daeb6909510/expr.ipynb\"><img src=\"../43cf916e738a0f2338682662753264daeb6909510/expr.png\" style=\"display:inline;vertical-align:middle;\" /></a></td></tr>\n",
       "<tr><td>35</td><td>ExprTuple</td><td>40</td><td><a class=\"ProveItLink\" href=\"../0b73248581cb58317abd394db05a652c6464eb3f0/expr.ipynb\"><img src=\"../0b73248581cb58317abd394db05a652c6464eb3f0/expr.png\" style=\"display:inline;vertical-align:middle;\" /></a></td></tr>\n",
       "<tr><td>36</td><td>Literal</td><td></td><td><a class=\"ProveItLink\" href=\"../../../../../../logic/sets/membership/__pv_it/common/477487d8796864d23d5810f83761435f25167f690/expr.ipynb\"><img src=\"../../../../../../logic/sets/membership/__pv_it/common/477487d8796864d23d5810f83761435f25167f690/expr.png\" style=\"display:inline;vertical-align:middle;\" /></a></td></tr>\n",
       "<tr><td>37</td><td>ExprTuple</td><td>53, 41</td><td><a class=\"ProveItLink\" href=\"../103ef832895df8514dc3bbba34cef7349c35110d0/expr.ipynb\"><img src=\"../103ef832895df8514dc3bbba34cef7349c35110d0/expr.png\" style=\"display:inline;vertical-align:middle;\" /></a></td></tr>\n",
       "<tr><td>38</td><td>Literal</td><td></td><td><a class=\"ProveItLink\" href=\"../../../../../../logic/equality/__pv_it/common/fb96dc12b2aa8801dda64d0132b396c63d1502bb0/expr.ipynb\"><img src=\"../../../../../../logic/equality/__pv_it/common/fb96dc12b2aa8801dda64d0132b396c63d1502bb0/expr.png\" style=\"display:inline;vertical-align:middle;\" /></a></td></tr>\n",
       "<tr><td>39</td><td>ExprTuple</td><td>42, 43</td><td><a class=\"ProveItLink\" href=\"../c0be1cb745ec57a3a86f869d0f86f9b18a9fcd280/expr.ipynb\"><img src=\"../c0be1cb745ec57a3a86f869d0f86f9b18a9fcd280/expr.png\" style=\"display:inline;vertical-align:middle;\" /></a></td></tr>\n",
       "<tr><td>40</td><td>Operation</td><td>operator:&nbsp;44<br>operands:&nbsp;45<br></td><td><a class=\"ProveItLink\" href=\"../adb5734a2ef590ee1b77f073c74634461556452f0/expr.ipynb\"><img src=\"../adb5734a2ef590ee1b77f073c74634461556452f0/expr.png\" style=\"display:inline;vertical-align:middle;\" /></a></td></tr>\n",
       "<tr><td>41</td><td>Operation</td><td>operator:&nbsp;46<br>operands:&nbsp;47<br></td><td><a class=\"ProveItLink\" href=\"../b3b1dc9164355afa8ebd60560f26e7668c8607c60/expr.ipynb\"><img src=\"../b3b1dc9164355afa8ebd60560f26e7668c8607c60/expr.png\" style=\"display:inline;vertical-align:middle;\" /></a></td></tr>\n",
       "<tr><td>42</td><td>Operation</td><td>operator:&nbsp;48<br>operand:&nbsp;53<br></td><td><a class=\"ProveItLink\" href=\"../a4e69e1bb7a74edd81304dd32fc1d8df67f7cf650/expr.ipynb\"><img src=\"../a4e69e1bb7a74edd81304dd32fc1d8df67f7cf650/expr.png\" style=\"display:inline;vertical-align:middle;\" /></a></td></tr>\n",
       "<tr><td>43</td><td>Variable</td><td></td><td><a class=\"ProveItLink\" href=\"../../../../../../__pv_it/common/9705ebf23debd1198c43ec3d0c30ebe152d069440/expr.ipynb\"><img src=\"../../../../../../__pv_it/common/9705ebf23debd1198c43ec3d0c30ebe152d069440/expr.png\" style=\"display:inline;vertical-align:middle;\" /></a></td></tr>\n",
       "<tr><td>44</td><td>Literal</td><td></td><td><a class=\"ProveItLink\" href=\"../../common/2972e0deb52c96565b39f905d407d7302ae287580/expr.ipynb\"><img src=\"../../common/2972e0deb52c96565b39f905d407d7302ae287580/expr.png\" style=\"display:inline;vertical-align:middle;\" /></a></td></tr>\n",
       "<tr><td>45</td><td>ExprTuple</td><td>50, 53</td><td><a class=\"ProveItLink\" href=\"../b2f17bb364030f597cd8a48229dc0d1cb4ed86a70/expr.ipynb\"><img src=\"../b2f17bb364030f597cd8a48229dc0d1cb4ed86a70/expr.png\" style=\"display:inline;vertical-align:middle;\" /></a></td></tr>\n",
       "<tr><td>46</td><td>Literal</td><td></td><td><a class=\"ProveItLink\" href=\"../../../../../../logic/sets/cartesian_products/__pv_it/common/7d20d67ddfbd94ad12efc9670c0d16a295b8ec1a0/expr.ipynb\"><img src=\"../../../../../../logic/sets/cartesian_products/__pv_it/common/7d20d67ddfbd94ad12efc9670c0d16a295b8ec1a0/expr.png\" style=\"display:inline;vertical-align:middle;\" /></a></td></tr>\n",
       "<tr><td>47</td><td>ExprTuple</td><td>51, 52</td><td><a class=\"ProveItLink\" href=\"../4a1d4147e84733db6066067180d99772107b7bda0/expr.ipynb\"><img src=\"../4a1d4147e84733db6066067180d99772107b7bda0/expr.png\" style=\"display:inline;vertical-align:middle;\" /></a></td></tr>\n",
       "<tr><td>48</td><td>Literal</td><td></td><td><a class=\"ProveItLink\" href=\"../../../../../../linear_algebra/inner_products/__pv_it/common/2c00dcac538e537d968253ed1ac6a761c803991f0/expr.ipynb\"><img src=\"../../../../../../linear_algebra/inner_products/__pv_it/common/2c00dcac538e537d968253ed1ac6a761c803991f0/expr.png\" style=\"display:inline;vertical-align:middle;\" /></a></td></tr>\n",
       "<tr><td>49</td><td>ExprTuple</td><td>53</td><td><a class=\"ProveItLink\" href=\"../80ed9bf14a6ef50aaa4da94b0dbfb5b44f09ae9c0/expr.ipynb\"><img src=\"../80ed9bf14a6ef50aaa4da94b0dbfb5b44f09ae9c0/expr.png\" style=\"display:inline;vertical-align:middle;\" /></a></td></tr>\n",
       "<tr><td>50</td><td>Variable</td><td></td><td><a class=\"ProveItLink\" href=\"../../../../../../__pv_it/common/2586cdae2fd2785a5bcbf61f99f7aaf8229d775e0/expr.ipynb\"><img src=\"../../../../../../__pv_it/common/2586cdae2fd2785a5bcbf61f99f7aaf8229d775e0/expr.png\" style=\"display:inline;vertical-align:middle;\" /></a></td></tr>\n",
       "<tr><td>51</td><td>Literal</td><td></td><td><a class=\"ProveItLink\" href=\"../../../../../../numbers/number_sets/complex_numbers/__pv_it/common/d18a028138f659eda00de597c28a3447fe87eb100/expr.ipynb\"><img src=\"../../../../../../numbers/number_sets/complex_numbers/__pv_it/common/d18a028138f659eda00de597c28a3447fe87eb100/expr.png\" style=\"display:inline;vertical-align:middle;\" /></a></td></tr>\n",
       "<tr><td>52</td><td>Variable</td><td></td><td><a class=\"ProveItLink\" href=\"../../../../../../__pv_it/common/8968bb04eb3f7dfa02353397ce929b025bbd79c20/expr.ipynb\"><img src=\"../../../../../../__pv_it/common/8968bb04eb3f7dfa02353397ce929b025bbd79c20/expr.png\" style=\"display:inline;vertical-align:middle;\" /></a></td></tr>\n",
       "<tr><td>53</td><td>Variable</td><td></td><td><a class=\"ProveItLink\" href=\"../../../../__pv_it/common/798a4b85c58eead0b86ebff17277cd7c4a79a3160/expr.ipynb\"><img src=\"../../../../__pv_it/common/798a4b85c58eead0b86ebff17277cd7c4a79a3160/expr.png\" style=\"display:inline;vertical-align:middle;\" /></a></td></tr>\n",
       "</table>\n"
      ],
      "text/plain": [
       "0. {forall_{U in U(n)} [forall_{alpha in RealNonNeg} [forall_{|psi> in Complex^{n} | |||psi>|| = alpha} (||U . |psi>|| = alpha)]] if n in NaturalPos.\n",
       "   core type: Conditional\n",
       "   value: 1\n",
       "   condition: 2\n",
       "1. forall_{U in U(n)} [forall_{alpha in RealNonNeg} [forall_{|psi> in Complex^{n} | |||psi>|| = alpha} (||U . |psi>|| = alpha)]]\n",
       "   core type: Operation\n",
       "   operator: 21\n",
       "   operand: 5\n",
       "2. n in NaturalPos\n",
       "   core type: Operation\n",
       "   operator: 36\n",
       "   operands: 4\n",
       "3. (U -> {forall_{alpha in RealNonNeg} [forall_{|psi> in Complex^{n} | |||psi>|| = alpha} (||U . |psi>|| = alpha)] if U in U(n).)\n",
       "   core type: ExprTuple\n",
       "   sub-expressions: 5\n",
       "4. (n, NaturalPos)\n",
       "   core type: ExprTuple\n",
       "   sub-expressions: 52, 6\n",
       "5. U -> {forall_{alpha in RealNonNeg} [forall_{|psi> in Complex^{n} | |||psi>|| = alpha} (||U . |psi>|| = alpha)] if U in U(n).\n",
       "   core type: Lambda\n",
       "   parameter: 50\n",
       "   body: 8\n",
       "6. NaturalPos\n",
       "   core type: Literal\n",
       "   sub-expressions: \n",
       "7. (U)\n",
       "   core type: ExprTuple\n",
       "   sub-expressions: 50\n",
       "8. {forall_{alpha in RealNonNeg} [forall_{|psi> in Complex^{n} | |||psi>|| = alpha} (||U . |psi>|| = alpha)] if U in U(n).\n",
       "   core type: Conditional\n",
       "   value: 9\n",
       "   condition: 10\n",
       "9. forall_{alpha in RealNonNeg} [forall_{|psi> in Complex^{n} | |||psi>|| = alpha} (||U . |psi>|| = alpha)]\n",
       "   core type: Operation\n",
       "   operator: 21\n",
       "   operand: 13\n",
       "10. U in U(n)\n",
       "    core type: Operation\n",
       "    operator: 36\n",
       "    operands: 12\n",
       "11. (alpha -> {forall_{|psi> in Complex^{n} | |||psi>|| = alpha} (||U . |psi>|| = alpha) if alpha in RealNonNeg.)\n",
       "    core type: ExprTuple\n",
       "    sub-expressions: 13\n",
       "12. (U, U(n))\n",
       "    core type: ExprTuple\n",
       "    sub-expressions: 50, 14\n",
       "13. alpha -> {forall_{|psi> in Complex^{n} | |||psi>|| = alpha} (||U . |psi>|| = alpha) if alpha in RealNonNeg.\n",
       "    core type: Lambda\n",
       "    parameter: 43\n",
       "    body: 16\n",
       "14. U(n)\n",
       "    core type: Operation\n",
       "    operator: 17\n",
       "    operand: 52\n",
       "15. (alpha)\n",
       "    core type: ExprTuple\n",
       "    sub-expressions: 43\n",
       "16. {forall_{|psi> in Complex^{n} | |||psi>|| = alpha} (||U . |psi>|| = alpha) if alpha in RealNonNeg.\n",
       "    core type: Conditional\n",
       "    value: 19\n",
       "    condition: 20\n",
       "17. U\n",
       "    core type: Literal\n",
       "    sub-expressions: \n",
       "18. (n)\n",
       "    core type: ExprTuple\n",
       "    sub-expressions: 52\n",
       "19. forall_{|psi> in Complex^{n} | |||psi>|| = alpha} (||U . |psi>|| = alpha)\n",
       "    core type: Operation\n",
       "    operator: 21\n",
       "    operand: 24\n",
       "20. alpha in RealNonNeg\n",
       "    core type: Operation\n",
       "    operator: 36\n",
       "    operands: 23\n",
       "21. forall\n",
       "    core type: Literal\n",
       "    sub-expressions: \n",
       "22. (|psi> -> {||U . |psi>|| = alpha if |psi> in Complex^{n} ,  |||psi>|| = alpha.)\n",
       "    core type: ExprTuple\n",
       "    sub-expressions: 24\n",
       "23. (alpha, RealNonNeg)\n",
       "    core type: ExprTuple\n",
       "    sub-expressions: 43, 25\n",
       "24. |psi> -> {||U . |psi>|| = alpha if |psi> in Complex^{n} ,  |||psi>|| = alpha.\n",
       "    core type: Lambda\n",
       "    parameter: 53\n",
       "    body: 26\n",
       "25. RealNonNeg\n",
       "    core type: Literal\n",
       "    sub-expressions: \n",
       "26. {||U . |psi>|| = alpha if |psi> in Complex^{n} ,  |||psi>|| = alpha.\n",
       "    core type: Conditional\n",
       "    value: 27\n",
       "    condition: 28\n",
       "27. ||U . |psi>|| = alpha\n",
       "    core type: Operation\n",
       "    operator: 38\n",
       "    operands: 29\n",
       "28. (|psi> in Complex^{n}) and (|||psi>|| = alpha)\n",
       "    core type: Operation\n",
       "    operator: 30\n",
       "    operands: 31\n",
       "29. (||U . |psi>||, alpha)\n",
       "    core type: ExprTuple\n",
       "    sub-expressions: 32, 43\n",
       "30. and\n",
       "    core type: Literal\n",
       "    sub-expressions: \n",
       "31. (|psi> in Complex^{n}, |||psi>|| = alpha)\n",
       "    core type: ExprTuple\n",
       "    sub-expressions: 33, 34\n",
       "32. ||U . |psi>||\n",
       "    core type: Operation\n",
       "    operator: 48\n",
       "    operand: 40\n",
       "33. |psi> in Complex^{n}\n",
       "    core type: Operation\n",
       "    operator: 36\n",
       "    operands: 37\n",
       "34. |||psi>|| = alpha\n",
       "    core type: Operation\n",
       "    operator: 38\n",
       "    operands: 39\n",
       "35. (U . |psi>)\n",
       "    core type: ExprTuple\n",
       "    sub-expressions: 40\n",
       "36. in\n",
       "    core type: Literal\n",
       "    sub-expressions: \n",
       "37. (|psi>, Complex^{n})\n",
       "    core type: ExprTuple\n",
       "    sub-expressions: 53, 41\n",
       "38. =\n",
       "    core type: Literal\n",
       "    sub-expressions: \n",
       "39. (|||psi>||, alpha)\n",
       "    core type: ExprTuple\n",
       "    sub-expressions: 42, 43\n",
       "40. U . |psi>\n",
       "    core type: Operation\n",
       "    operator: 44\n",
       "    operands: 45\n",
       "41. Complex^{n}\n",
       "    core type: Operation\n",
       "    operator: 46\n",
       "    operands: 47\n",
       "42. |||psi>||\n",
       "    core type: Operation\n",
       "    operator: 48\n",
       "    operand: 53\n",
       "43. alpha\n",
       "    core type: Variable\n",
       "    sub-expressions: \n",
       "44. .\n",
       "    core type: Literal\n",
       "    sub-expressions: \n",
       "45. (U, |psi>)\n",
       "    core type: ExprTuple\n",
       "    sub-expressions: 50, 53\n",
       "46. CartExp\n",
       "    core type: Literal\n",
       "    sub-expressions: \n",
       "47. (Complex, n)\n",
       "    core type: ExprTuple\n",
       "    sub-expressions: 51, 52\n",
       "48. Abs\n",
       "    core type: Literal\n",
       "    sub-expressions: \n",
       "49. (|psi>)\n",
       "    core type: ExprTuple\n",
       "    sub-expressions: 53\n",
       "50. U\n",
       "    core type: Variable\n",
       "    sub-expressions: \n",
       "51. Complex\n",
       "    core type: Literal\n",
       "    sub-expressions: \n",
       "52. n\n",
       "    core type: Variable\n",
       "    sub-expressions: \n",
       "53. |psi>\n",
       "    core type: Variable\n",
       "    sub-expressions: "
      ]
     },
     "metadata": {},
     "output_type": "display_data"
    }
   ],
   "source": [
    "# display the expression information\n",
    "stored_expr.expr_info()"
   ]
  },
  {
   "cell_type": "code",
   "execution_count": null,
   "metadata": {},
   "outputs": [],
   "source": []
  }
 ],
 "metadata": {
  "kernelspec": {
   "display_name": "Python 3",
   "language": "python",
   "name": "python3"
  }
 },
 "nbformat": 4,
 "nbformat_minor": 0
}