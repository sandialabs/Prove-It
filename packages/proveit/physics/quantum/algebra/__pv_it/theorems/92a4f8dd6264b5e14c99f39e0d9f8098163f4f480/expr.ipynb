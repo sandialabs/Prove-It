{
 "cells": [
  {
   "cell_type": "markdown",
   "metadata": {},
   "source": [
    "Expression of type <a class=\"ProveItLink\" href=\"../../../../../../../../doc/html/api/proveit.ExprTuple.html\">ExprTuple</a>\n",
    "=======================\n",
    "# from the theory of <a class=\"ProveItLink\" href=\"../../../_theory_nbs_/theory.ipynb\">proveit.physics.quantum.algebra</a>"
   ]
  },
  {
   "cell_type": "code",
   "execution_count": 1,
   "metadata": {},
   "outputs": [],
   "source": [
    "import proveit\n",
    "# Automation is not needed when building an expression:\n",
    "proveit.defaults.automation = False # This will speed things up.\n",
    "proveit.defaults.inline_pngs = False # Makes files smaller.\n",
    "%load_expr # Load the stored expression as 'stored_expr'\n",
    "# import Expression classes needed to build the expression\n",
    "from proveit import ExprTuple, n\n",
    "from proveit.linear_algebra import OrthoNormBases\n",
    "from proveit.logic import CartExp, InSet, Set\n",
    "from proveit.numbers import Complex\n",
    "from proveit.physics.quantum.algebra import v_1_to_n_kets, w_1_to_n_kets"
   ]
  },
  {
   "cell_type": "code",
   "execution_count": 2,
   "metadata": {},
   "outputs": [
    {
     "data": {
      "text/html": [
       "<strong id=\"expr\">expr:</strong> <a class=\"ProveItLink\" href=\"expr.ipynb\"><img src=\"expr.png\" style=\"display:inline;vertical-align:middle;\" /></a><br>"
      ],
      "text/plain": [
       "<IPython.core.display.HTML object>"
      ]
     },
     "metadata": {},
     "output_type": "display_data"
    }
   ],
   "source": [
    "# build up the expression from sub-expressions\n",
    "sub_expr1 = OrthoNormBases(CartExp(Complex, n))\n",
    "expr = ExprTuple(InSet(Set(v_1_to_n_kets), sub_expr1), InSet(Set(w_1_to_n_kets), sub_expr1))"
   ]
  },
  {
   "cell_type": "code",
   "execution_count": 3,
   "metadata": {},
   "outputs": [
    {
     "name": "stdout",
     "output_type": "stream",
     "text": [
      "Passed sanity check: expr matches stored_expr\n"
     ]
    }
   ],
   "source": [
    "# check that the built expression is the same as the stored expression\n",
    "assert expr == stored_expr\n",
    "assert expr._style_id == stored_expr._style_id\n",
    "print(\"Passed sanity check: expr matches stored_expr\")"
   ]
  },
  {
   "cell_type": "code",
   "execution_count": 4,
   "metadata": {},
   "outputs": [
    {
     "name": "stdout",
     "output_type": "stream",
     "text": [
      "\\left(\\left\\{\\left\\{\\lvert v_{1} \\rangle, \\lvert v_{2} \\rangle, \\ldots, \\lvert v_{n} \\rangle\\right\\}\\right\\} \\in \\textrm{O.N.Bases}\\left(\\mathbb{C}^{n}\\right), \\left\\{\\left\\{\\lvert w_{1} \\rangle, \\lvert w_{2} \\rangle, \\ldots, \\lvert w_{n} \\rangle\\right\\}\\right\\} \\in \\textrm{O.N.Bases}\\left(\\mathbb{C}^{n}\\right)\\right)\n"
     ]
    }
   ],
   "source": [
    "# Show the LaTeX representation of the expression for convenience if you need it.\n",
    "print(stored_expr.latex())"
   ]
  },
  {
   "cell_type": "code",
   "execution_count": 5,
   "metadata": {},
   "outputs": [
    {
     "data": {
      "text/html": [
       "<table>\n",
       "<tr><th>name</th><th>description</th><th>default</th><th>current value</th><th>related methods</th></tr><tr><td>wrap_positions</td><td>position(s) at which wrapping is to occur; 'n' is after the nth comma.</td><td>()</td><td>()</td><td>('with_wrapping_at',)</td></tr>\n",
       "<tr><td>justification</td><td>if any wrap positions are set, justify to the 'left', 'center', or 'right'</td><td>left</td><td>left</td><td>('with_justification',)</td></tr>\n",
       "</table>\n"
      ],
      "text/plain": [
       "style name: wrap_positions\n",
       "description: position(s) at which wrapping is to occur; 'n' is after the nth comma.\n",
       "default: ()\n",
       "current value: ()\n",
       "related methods: ('with_wrapping_at',)\n",
       "style name: justification\n",
       "description: if any wrap positions are set, justify to the 'left', 'center', or 'right'\n",
       "default: left\n",
       "current value: left\n",
       "related methods: ('with_justification',)"
      ]
     },
     "metadata": {},
     "output_type": "display_data"
    }
   ],
   "source": [
    "stored_expr.style_options()"
   ]
  },
  {
   "cell_type": "code",
   "execution_count": 6,
   "metadata": {},
   "outputs": [
    {
     "data": {
      "text/html": [
       "<table><tr><th>&nbsp;</th><th>core type</th><th>sub-expressions</th><th>expression</th></tr>\n",
       "<tr><td>0</td><td>ExprTuple</td><td>1, 2</td><td><a class=\"ProveItLink\" href=\"expr.ipynb\"><img src=\"expr.png\" style=\"display:inline;vertical-align:middle;\" /></a></td></tr>\n",
       "<tr><td>1</td><td>Operation</td><td>operator:&nbsp;4<br>operands:&nbsp;3<br></td><td><a class=\"ProveItLink\" href=\"../54a4963596c7efff52aefc5eeb8cde420a92f30c0/expr.ipynb\"><img src=\"../54a4963596c7efff52aefc5eeb8cde420a92f30c0/expr.png\" style=\"display:inline;vertical-align:middle;\" /></a></td></tr>\n",
       "<tr><td>2</td><td>Operation</td><td>operator:&nbsp;4<br>operands:&nbsp;5<br></td><td><a class=\"ProveItLink\" href=\"../09816cdbf9a391834dff81367d369eb442d6c6b60/expr.ipynb\"><img src=\"../09816cdbf9a391834dff81367d369eb442d6c6b60/expr.png\" style=\"display:inline;vertical-align:middle;\" /></a></td></tr>\n",
       "<tr><td>3</td><td>ExprTuple</td><td>6, 8</td><td><a class=\"ProveItLink\" href=\"../3710841ba2867f684751ea2e7ae594809f7bd0140/expr.ipynb\"><img src=\"../3710841ba2867f684751ea2e7ae594809f7bd0140/expr.png\" style=\"display:inline;vertical-align:middle;\" /></a></td></tr>\n",
       "<tr><td>4</td><td>Literal</td><td></td><td><a class=\"ProveItLink\" href=\"../../../../../../logic/sets/membership/__pv_it/common/477487d8796864d23d5810f83761435f25167f690/expr.ipynb\"><img src=\"../../../../../../logic/sets/membership/__pv_it/common/477487d8796864d23d5810f83761435f25167f690/expr.png\" style=\"display:inline;vertical-align:middle;\" /></a></td></tr>\n",
       "<tr><td>5</td><td>ExprTuple</td><td>7, 8</td><td><a class=\"ProveItLink\" href=\"../b75dc092720a93a3e08c555313dbbf3834abdb370/expr.ipynb\"><img src=\"../b75dc092720a93a3e08c555313dbbf3834abdb370/expr.png\" style=\"display:inline;vertical-align:middle;\" /></a></td></tr>\n",
       "<tr><td>6</td><td>Operation</td><td>operator:&nbsp;17<br>operand:&nbsp;13<br></td><td><a class=\"ProveItLink\" href=\"../4224d729211f80d17848168e8fdd196b5ba0b8aa0/expr.ipynb\"><img src=\"../4224d729211f80d17848168e8fdd196b5ba0b8aa0/expr.png\" style=\"display:inline;vertical-align:middle;\" /></a></td></tr>\n",
       "<tr><td>7</td><td>Operation</td><td>operator:&nbsp;17<br>operand:&nbsp;14<br></td><td><a class=\"ProveItLink\" href=\"../ed23797adb750d4de35cedd13ce33dd2927201690/expr.ipynb\"><img src=\"../ed23797adb750d4de35cedd13ce33dd2927201690/expr.png\" style=\"display:inline;vertical-align:middle;\" /></a></td></tr>\n",
       "<tr><td>8</td><td>Operation</td><td>operator:&nbsp;11<br>operand:&nbsp;15<br></td><td><a class=\"ProveItLink\" href=\"../6ac4c9f7943ad9241ccb9e83faaba8095ab491110/expr.ipynb\"><img src=\"../6ac4c9f7943ad9241ccb9e83faaba8095ab491110/expr.png\" style=\"display:inline;vertical-align:middle;\" /></a></td></tr>\n",
       "<tr><td>9</td><td>ExprTuple</td><td>13</td><td><a class=\"ProveItLink\" href=\"../6a7ec4c9b4afc61b65d2518be72147ded23752690/expr.ipynb\"><img src=\"../6a7ec4c9b4afc61b65d2518be72147ded23752690/expr.png\" style=\"display:inline;vertical-align:middle;\" /></a></td></tr>\n",
       "<tr><td>10</td><td>ExprTuple</td><td>14</td><td><a class=\"ProveItLink\" href=\"../a185a7d639ddf65cdd336113d92b0c4019bf390d0/expr.ipynb\"><img src=\"../a185a7d639ddf65cdd336113d92b0c4019bf390d0/expr.png\" style=\"display:inline;vertical-align:middle;\" /></a></td></tr>\n",
       "<tr><td>11</td><td>Literal</td><td></td><td><a class=\"ProveItLink\" href=\"../../../../../../linear_algebra/inner_products/__pv_it/common/9943607b90ce14f60b071d81acdf3f7a9e10ead70/expr.ipynb\"><img src=\"../../../../../../linear_algebra/inner_products/__pv_it/common/9943607b90ce14f60b071d81acdf3f7a9e10ead70/expr.png\" style=\"display:inline;vertical-align:middle;\" /></a></td></tr>\n",
       "<tr><td>12</td><td>ExprTuple</td><td>15</td><td><a class=\"ProveItLink\" href=\"../8bbebf53951e9ae2b56f5d1235f81f0b831c88660/expr.ipynb\"><img src=\"../8bbebf53951e9ae2b56f5d1235f81f0b831c88660/expr.png\" style=\"display:inline;vertical-align:middle;\" /></a></td></tr>\n",
       "<tr><td>13</td><td>Operation</td><td>operator:&nbsp;17<br>operands:&nbsp;16<br></td><td><a class=\"ProveItLink\" href=\"../../common/30e3dea8923a3fec57a7d7ed974c3a0dc2f8c4590/expr.ipynb\"><img src=\"../../common/30e3dea8923a3fec57a7d7ed974c3a0dc2f8c4590/expr.png\" style=\"display:inline;vertical-align:middle;\" /></a></td></tr>\n",
       "<tr><td>14</td><td>Operation</td><td>operator:&nbsp;17<br>operands:&nbsp;18<br></td><td><a class=\"ProveItLink\" href=\"../../common/29b22cfc3f206832ad702f7b1d7298661f8c2cc40/expr.ipynb\"><img src=\"../../common/29b22cfc3f206832ad702f7b1d7298661f8c2cc40/expr.png\" style=\"display:inline;vertical-align:middle;\" /></a></td></tr>\n",
       "<tr><td>15</td><td>Operation</td><td>operator:&nbsp;19<br>operands:&nbsp;20<br></td><td><a class=\"ProveItLink\" href=\"../b3b1dc9164355afa8ebd60560f26e7668c8607c60/expr.ipynb\"><img src=\"../b3b1dc9164355afa8ebd60560f26e7668c8607c60/expr.png\" style=\"display:inline;vertical-align:middle;\" /></a></td></tr>\n",
       "<tr><td>16</td><td>ExprTuple</td><td>21</td><td><a class=\"ProveItLink\" href=\"../../common/0e1d159a1899c59deb068206aa147526ca2692f60/expr.ipynb\"><img src=\"../../common/0e1d159a1899c59deb068206aa147526ca2692f60/expr.png\" style=\"display:inline;vertical-align:middle;\" /></a></td></tr>\n",
       "<tr><td>17</td><td>Literal</td><td></td><td><a class=\"ProveItLink\" href=\"../../../../../../logic/sets/enumeration/__pv_it/common/0ead90ccbf4f17bc585a51f8aa904bb77916ae6e0/expr.ipynb\"><img src=\"../../../../../../logic/sets/enumeration/__pv_it/common/0ead90ccbf4f17bc585a51f8aa904bb77916ae6e0/expr.png\" style=\"display:inline;vertical-align:middle;\" /></a></td></tr>\n",
       "<tr><td>18</td><td>ExprTuple</td><td>22</td><td><a class=\"ProveItLink\" href=\"../../common/3840dff57ba5384221a8f978c932b408e353b7ed0/expr.ipynb\"><img src=\"../../common/3840dff57ba5384221a8f978c932b408e353b7ed0/expr.png\" style=\"display:inline;vertical-align:middle;\" /></a></td></tr>\n",
       "<tr><td>19</td><td>Literal</td><td></td><td><a class=\"ProveItLink\" href=\"../../../../../../logic/sets/cartesian_products/__pv_it/common/7d20d67ddfbd94ad12efc9670c0d16a295b8ec1a0/expr.ipynb\"><img src=\"../../../../../../logic/sets/cartesian_products/__pv_it/common/7d20d67ddfbd94ad12efc9670c0d16a295b8ec1a0/expr.png\" style=\"display:inline;vertical-align:middle;\" /></a></td></tr>\n",
       "<tr><td>20</td><td>ExprTuple</td><td>23, 27</td><td><a class=\"ProveItLink\" href=\"../4a1d4147e84733db6066067180d99772107b7bda0/expr.ipynb\"><img src=\"../4a1d4147e84733db6066067180d99772107b7bda0/expr.png\" style=\"display:inline;vertical-align:middle;\" /></a></td></tr>\n",
       "<tr><td>21</td><td>ExprRange</td><td>lambda_map:&nbsp;24<br>start_index:&nbsp;26<br>end_index:&nbsp;27<br></td><td><a class=\"ProveItLink\" href=\"../../common/582d269111d9bc4012f7ed41c58c9063076cfabe0/expr.ipynb\"><img src=\"../../common/582d269111d9bc4012f7ed41c58c9063076cfabe0/expr.png\" style=\"display:inline;vertical-align:middle;\" /></a></td></tr>\n",
       "<tr><td>22</td><td>ExprRange</td><td>lambda_map:&nbsp;25<br>start_index:&nbsp;26<br>end_index:&nbsp;27<br></td><td><a class=\"ProveItLink\" href=\"../../common/409f1b6437ac2f6cb47c15fbfc01adcb553fe2430/expr.ipynb\"><img src=\"../../common/409f1b6437ac2f6cb47c15fbfc01adcb553fe2430/expr.png\" style=\"display:inline;vertical-align:middle;\" /></a></td></tr>\n",
       "<tr><td>23</td><td>Literal</td><td></td><td><a class=\"ProveItLink\" href=\"../../../../../../numbers/number_sets/complex_numbers/__pv_it/common/d18a028138f659eda00de597c28a3447fe87eb100/expr.ipynb\"><img src=\"../../../../../../numbers/number_sets/complex_numbers/__pv_it/common/d18a028138f659eda00de597c28a3447fe87eb100/expr.png\" style=\"display:inline;vertical-align:middle;\" /></a></td></tr>\n",
       "<tr><td>24</td><td>Lambda</td><td>parameter:&nbsp;38<br>body:&nbsp;28<br></td><td><a class=\"ProveItLink\" href=\"../../common/14ccb9fd5c3a27cf3835f9c8829bc6b92306627c0/expr.ipynb\"><img src=\"../../common/14ccb9fd5c3a27cf3835f9c8829bc6b92306627c0/expr.png\" style=\"display:inline;vertical-align:middle;\" /></a></td></tr>\n",
       "<tr><td>25</td><td>Lambda</td><td>parameter:&nbsp;38<br>body:&nbsp;29<br></td><td><a class=\"ProveItLink\" href=\"../../common/47437c51f1d7307d9db263b1c8e4a47bd52923d60/expr.ipynb\"><img src=\"../../common/47437c51f1d7307d9db263b1c8e4a47bd52923d60/expr.png\" style=\"display:inline;vertical-align:middle;\" /></a></td></tr>\n",
       "<tr><td>26</td><td>Literal</td><td></td><td><a class=\"ProveItLink\" href=\"../../../../../../numbers/numerals/__pv_it/common/682157d4892d216d9e5626ed533aff9b56b9506e0/expr.ipynb\"><img src=\"../../../../../../numbers/numerals/__pv_it/common/682157d4892d216d9e5626ed533aff9b56b9506e0/expr.png\" style=\"display:inline;vertical-align:middle;\" /></a></td></tr>\n",
       "<tr><td>27</td><td>Variable</td><td></td><td><a class=\"ProveItLink\" href=\"../../../../../../__pv_it/common/8968bb04eb3f7dfa02353397ce929b025bbd79c20/expr.ipynb\"><img src=\"../../../../../../__pv_it/common/8968bb04eb3f7dfa02353397ce929b025bbd79c20/expr.png\" style=\"display:inline;vertical-align:middle;\" /></a></td></tr>\n",
       "<tr><td>28</td><td>Operation</td><td>operator:&nbsp;31<br>operand:&nbsp;33<br></td><td><a class=\"ProveItLink\" href=\"../../common/bf72feb0fad359145887f5cafa1f74f6c26a8bf70/expr.ipynb\"><img src=\"../../common/bf72feb0fad359145887f5cafa1f74f6c26a8bf70/expr.png\" style=\"display:inline;vertical-align:middle;\" /></a></td></tr>\n",
       "<tr><td>29</td><td>Operation</td><td>operator:&nbsp;31<br>operand:&nbsp;34<br></td><td><a class=\"ProveItLink\" href=\"../../common/608be489d541f758b1fb8e1883ddfbeec546a2cd0/expr.ipynb\"><img src=\"../../common/608be489d541f758b1fb8e1883ddfbeec546a2cd0/expr.png\" style=\"display:inline;vertical-align:middle;\" /></a></td></tr>\n",
       "<tr><td>30</td><td>ExprTuple</td><td>33</td><td><a class=\"ProveItLink\" href=\"../../common/0f7c525b69c8333d426c88c5cddf3cec3207d27d0/expr.ipynb\"><img src=\"../../common/0f7c525b69c8333d426c88c5cddf3cec3207d27d0/expr.png\" style=\"display:inline;vertical-align:middle;\" /></a></td></tr>\n",
       "<tr><td>31</td><td>Literal</td><td></td><td><a class=\"ProveItLink\" href=\"../../common/e3872951fe05b26090372918594af92cac779e280/expr.ipynb\"><img src=\"../../common/e3872951fe05b26090372918594af92cac779e280/expr.png\" style=\"display:inline;vertical-align:middle;\" /></a></td></tr>\n",
       "<tr><td>32</td><td>ExprTuple</td><td>34</td><td><a class=\"ProveItLink\" href=\"../../common/dd64a7697d3d5fd2c41d1bbd0c8d187e4e5659540/expr.ipynb\"><img src=\"../../common/dd64a7697d3d5fd2c41d1bbd0c8d187e4e5659540/expr.png\" style=\"display:inline;vertical-align:middle;\" /></a></td></tr>\n",
       "<tr><td>33</td><td>IndexedVar</td><td>variable:&nbsp;35<br>index:&nbsp;38<br></td><td><a class=\"ProveItLink\" href=\"../../common/4a3d0bd040812cc2e5ba858cb3f17625fdc40e770/expr.ipynb\"><img src=\"../../common/4a3d0bd040812cc2e5ba858cb3f17625fdc40e770/expr.png\" style=\"display:inline;vertical-align:middle;\" /></a></td></tr>\n",
       "<tr><td>34</td><td>IndexedVar</td><td>variable:&nbsp;36<br>index:&nbsp;38<br></td><td><a class=\"ProveItLink\" href=\"../../common/00158502593b364839817ce0521f3194dd1e87b30/expr.ipynb\"><img src=\"../../common/00158502593b364839817ce0521f3194dd1e87b30/expr.png\" style=\"display:inline;vertical-align:middle;\" /></a></td></tr>\n",
       "<tr><td>35</td><td>Variable</td><td></td><td><a class=\"ProveItLink\" href=\"../../../../../../__pv_it/common/a4b9661da9b52dcebf59c5559fec8901f4df10750/expr.ipynb\"><img src=\"../../../../../../__pv_it/common/a4b9661da9b52dcebf59c5559fec8901f4df10750/expr.png\" style=\"display:inline;vertical-align:middle;\" /></a></td></tr>\n",
       "<tr><td>36</td><td>Variable</td><td></td><td><a class=\"ProveItLink\" href=\"../../../../../../__pv_it/common/d365663894822dede40e6e04c77860068334d0820/expr.ipynb\"><img src=\"../../../../../../__pv_it/common/d365663894822dede40e6e04c77860068334d0820/expr.png\" style=\"display:inline;vertical-align:middle;\" /></a></td></tr>\n",
       "<tr><td>37</td><td>ExprTuple</td><td>38</td><td><a class=\"ProveItLink\" href=\"../../common/4b0dd6be36d76552eda6a95d5b4a27f5a5b62f900/expr.ipynb\"><img src=\"../../common/4b0dd6be36d76552eda6a95d5b4a27f5a5b62f900/expr.png\" style=\"display:inline;vertical-align:middle;\" /></a></td></tr>\n",
       "<tr><td>38</td><td>Variable</td><td></td><td><a class=\"ProveItLink\" href=\"../../common/006c465e50948aa2b52285e2de47974f741255cc0/expr.ipynb\"><img src=\"../../common/006c465e50948aa2b52285e2de47974f741255cc0/expr.png\" style=\"display:inline;vertical-align:middle;\" /></a></td></tr>\n",
       "</table>\n"
      ],
      "text/plain": [
       "0. ({{|v_{1}〉, |v_{2}〉, ..., |v_{n}〉}} in O.N.Bases(Complex^{n}), {{|w_{1}〉, |w_{2}〉, ..., |w_{n}〉}} in O.N.Bases(Complex^{n}))\n",
       "   core type: ExprTuple\n",
       "   sub-expressions: 1, 2\n",
       "1. {{|v_{1}〉, |v_{2}〉, ..., |v_{n}〉}} in O.N.Bases(Complex^{n})\n",
       "   core type: Operation\n",
       "   operator: 4\n",
       "   operands: 3\n",
       "2. {{|w_{1}〉, |w_{2}〉, ..., |w_{n}〉}} in O.N.Bases(Complex^{n})\n",
       "   core type: Operation\n",
       "   operator: 4\n",
       "   operands: 5\n",
       "3. ({{|v_{1}〉, |v_{2}〉, ..., |v_{n}〉}}, O.N.Bases(Complex^{n}))\n",
       "   core type: ExprTuple\n",
       "   sub-expressions: 6, 8\n",
       "4. in\n",
       "   core type: Literal\n",
       "   sub-expressions: \n",
       "5. ({{|w_{1}〉, |w_{2}〉, ..., |w_{n}〉}}, O.N.Bases(Complex^{n}))\n",
       "   core type: ExprTuple\n",
       "   sub-expressions: 7, 8\n",
       "6. {{|v_{1}〉, |v_{2}〉, ..., |v_{n}〉}}\n",
       "   core type: Operation\n",
       "   operator: 17\n",
       "   operand: 13\n",
       "7. {{|w_{1}〉, |w_{2}〉, ..., |w_{n}〉}}\n",
       "   core type: Operation\n",
       "   operator: 17\n",
       "   operand: 14\n",
       "8. O.N.Bases(Complex^{n})\n",
       "   core type: Operation\n",
       "   operator: 11\n",
       "   operand: 15\n",
       "9. ({|v_{1}〉, |v_{2}〉, ..., |v_{n}〉})\n",
       "   core type: ExprTuple\n",
       "   sub-expressions: 13\n",
       "10. ({|w_{1}〉, |w_{2}〉, ..., |w_{n}〉})\n",
       "    core type: ExprTuple\n",
       "    sub-expressions: 14\n",
       "11. O.N.Bases\n",
       "    core type: Literal\n",
       "    sub-expressions: \n",
       "12. (Complex^{n})\n",
       "    core type: ExprTuple\n",
       "    sub-expressions: 15\n",
       "13. {|v_{1}〉, |v_{2}〉, ..., |v_{n}〉}\n",
       "    core type: Operation\n",
       "    operator: 17\n",
       "    operands: 16\n",
       "14. {|w_{1}〉, |w_{2}〉, ..., |w_{n}〉}\n",
       "    core type: Operation\n",
       "    operator: 17\n",
       "    operands: 18\n",
       "15. Complex^{n}\n",
       "    core type: Operation\n",
       "    operator: 19\n",
       "    operands: 20\n",
       "16. (|v_{1}〉, |v_{2}〉, ..., |v_{n}〉)\n",
       "    core type: ExprTuple\n",
       "    sub-expressions: 21\n",
       "17. Set\n",
       "    core type: Literal\n",
       "    sub-expressions: \n",
       "18. (|w_{1}〉, |w_{2}〉, ..., |w_{n}〉)\n",
       "    core type: ExprTuple\n",
       "    sub-expressions: 22\n",
       "19. CartExp\n",
       "    core type: Literal\n",
       "    sub-expressions: \n",
       "20. (Complex, n)\n",
       "    core type: ExprTuple\n",
       "    sub-expressions: 23, 27\n",
       "21. |v_{1}〉, |v_{2}〉, ..., |v_{n}〉\n",
       "    core type: ExprRange\n",
       "    lambda_map: 24\n",
       "    start_index: 26\n",
       "    end_index: 27\n",
       "22. |w_{1}〉, |w_{2}〉, ..., |w_{n}〉\n",
       "    core type: ExprRange\n",
       "    lambda_map: 25\n",
       "    start_index: 26\n",
       "    end_index: 27\n",
       "23. Complex\n",
       "    core type: Literal\n",
       "    sub-expressions: \n",
       "24. _a -> |v_{_a}〉\n",
       "    core type: Lambda\n",
       "    parameter: 38\n",
       "    body: 28\n",
       "25. _a -> |w_{_a}〉\n",
       "    core type: Lambda\n",
       "    parameter: 38\n",
       "    body: 29\n",
       "26. 1\n",
       "    core type: Literal\n",
       "    sub-expressions: \n",
       "27. n\n",
       "    core type: Variable\n",
       "    sub-expressions: \n",
       "28. |v_{_a}〉\n",
       "    core type: Operation\n",
       "    operator: 31\n",
       "    operand: 33\n",
       "29. |w_{_a}〉\n",
       "    core type: Operation\n",
       "    operator: 31\n",
       "    operand: 34\n",
       "30. (v_{_a})\n",
       "    core type: ExprTuple\n",
       "    sub-expressions: 33\n",
       "31. KET\n",
       "    core type: Literal\n",
       "    sub-expressions: \n",
       "32. (w_{_a})\n",
       "    core type: ExprTuple\n",
       "    sub-expressions: 34\n",
       "33. v_{_a}\n",
       "    core type: IndexedVar\n",
       "variable: 35\n",
       "index: 38\n",
       "34. w_{_a}\n",
       "    core type: IndexedVar\n",
       "variable: 36\n",
       "index: 38\n",
       "35. v\n",
       "    core type: Variable\n",
       "    sub-expressions: \n",
       "36. w\n",
       "    core type: Variable\n",
       "    sub-expressions: \n",
       "37. (_a)\n",
       "    core type: ExprTuple\n",
       "    sub-expressions: 38\n",
       "38. _a\n",
       "    core type: Variable\n",
       "    sub-expressions: "
      ]
     },
     "metadata": {},
     "output_type": "display_data"
    }
   ],
   "source": [
    "# display the expression information\n",
    "stored_expr.expr_info()"
   ]
  },
  {
   "cell_type": "code",
   "execution_count": null,
   "metadata": {},
   "outputs": [],
   "source": []
  }
 ],
 "metadata": {
  "kernelspec": {
   "display_name": "Python 3",
   "language": "python",
   "name": "python3"
  }
 },
 "nbformat": 4,
 "nbformat_minor": 0
}