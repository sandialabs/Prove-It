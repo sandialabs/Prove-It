{
 "cells": [
  {
   "cell_type": "markdown",
   "metadata": {},
   "source": [
    "Expression of type <a class=\"ProveItLink\" href=\"../../../../../../../../doc/html/api/proveit.Lambda.html\">Lambda</a>\n",
    "=======================\n",
    "# from the theory of <a class=\"ProveItLink\" href=\"../../../_theory_nbs_/theory.ipynb\">proveit.physics.quantum.algebra</a>"
   ]
  },
  {
   "cell_type": "code",
   "execution_count": 1,
   "metadata": {},
   "outputs": [],
   "source": [
    "import proveit\n",
    "# Automation is not needed when building an expression:\n",
    "proveit.defaults.automation = False # This will speed things up.\n",
    "proveit.defaults.inline_pngs = False # Makes files smaller.\n",
    "%load_expr # Load the stored expression as 'stored_expr'\n",
    "# import Expression classes needed to build the expression\n",
    "from proveit import A, Conditional, Lambda, U, n\n",
    "from proveit.linear_algebra import Adj, MatrixSpace, Unitary\n",
    "from proveit.logic import Equals, Exists, InSet\n",
    "from proveit.numbers import Complex, sqrt\n",
    "from proveit.physics.quantum import Qmult"
   ]
  },
  {
   "cell_type": "code",
   "execution_count": 2,
   "metadata": {},
   "outputs": [
    {
     "data": {
      "text/html": [
       "<strong id=\"expr\">expr:</strong> <a class=\"ProveItLink\" href=\"expr.ipynb\"><img src=\"expr.png\" style=\"display:inline;vertical-align:middle;\" /></a><br>"
      ],
      "text/plain": [
       "<IPython.core.display.HTML object>"
      ]
     },
     "metadata": {},
     "output_type": "display_data"
    }
   ],
   "source": [
    "# build up the expression from sub-expressions\n",
    "expr = Lambda(A, Conditional(Exists(instance_param_or_params = [U], instance_expr = Equals(A, Qmult(U, sqrt(Qmult(Adj(A), A)))), domain = Unitary(n)), InSet(A, MatrixSpace(field = Complex, rows = n, columns = n))))"
   ]
  },
  {
   "cell_type": "code",
   "execution_count": 3,
   "metadata": {},
   "outputs": [
    {
     "name": "stdout",
     "output_type": "stream",
     "text": [
      "Passed sanity check: expr matches stored_expr\n"
     ]
    }
   ],
   "source": [
    "# check that the built expression is the same as the stored expression\n",
    "assert expr == stored_expr\n",
    "assert expr._style_id == stored_expr._style_id\n",
    "print(\"Passed sanity check: expr matches stored_expr\")"
   ]
  },
  {
   "cell_type": "code",
   "execution_count": 4,
   "metadata": {},
   "outputs": [
    {
     "name": "stdout",
     "output_type": "stream",
     "text": [
      "A \\mapsto \\left\\{\\exists_{U \\in \\textrm{U}\\left(n\\right)}~\\left(A = \\left(U \\thinspace \\sqrt{\\left(A^{\\dagger} \\thinspace A\\right)}\\right)\\right) \\textrm{ if } A \\in \\mathbb{C}^{n \\times n}\\right..\n"
     ]
    }
   ],
   "source": [
    "# Show the LaTeX representation of the expression for convenience if you need it.\n",
    "print(stored_expr.latex())"
   ]
  },
  {
   "cell_type": "code",
   "execution_count": 5,
   "metadata": {},
   "outputs": [
    {
     "data": {
      "text/html": [
       "no style options"
      ],
      "text/plain": [
       "no style options"
      ]
     },
     "metadata": {},
     "output_type": "display_data"
    }
   ],
   "source": [
    "stored_expr.style_options()"
   ]
  },
  {
   "cell_type": "code",
   "execution_count": 6,
   "metadata": {},
   "outputs": [
    {
     "data": {
      "text/html": [
       "<table><tr><th>&nbsp;</th><th>core type</th><th>sub-expressions</th><th>expression</th></tr>\n",
       "<tr><td>0</td><td>Lambda</td><td>parameter:&nbsp;41<br>body:&nbsp;1<br></td><td><a class=\"ProveItLink\" href=\"expr.ipynb\"><img src=\"expr.png\" style=\"display:inline;vertical-align:middle;\" /></a></td></tr>\n",
       "<tr><td>1</td><td>Conditional</td><td>value:&nbsp;2<br>condition:&nbsp;3<br></td><td><a class=\"ProveItLink\" href=\"../6355e7f1fda0bcc91aca3c4e6eac432409d29e510/expr.ipynb\"><img src=\"../6355e7f1fda0bcc91aca3c4e6eac432409d29e510/expr.png\" style=\"display:inline;vertical-align:middle;\" /></a></td></tr>\n",
       "<tr><td>2</td><td>Operation</td><td>operator:&nbsp;4<br>operand:&nbsp;7<br></td><td><a class=\"ProveItLink\" href=\"../58252519c3a05d9716410a348456c2cc97d6e5330/expr.ipynb\"><img src=\"../58252519c3a05d9716410a348456c2cc97d6e5330/expr.png\" style=\"display:inline;vertical-align:middle;\" /></a></td></tr>\n",
       "<tr><td>3</td><td>Operation</td><td>operator:&nbsp;18<br>operands:&nbsp;6<br></td><td><a class=\"ProveItLink\" href=\"../322fce02588a1fffd58f8abc9e666b88428fdaf40/expr.ipynb\"><img src=\"../322fce02588a1fffd58f8abc9e666b88428fdaf40/expr.png\" style=\"display:inline;vertical-align:middle;\" /></a></td></tr>\n",
       "<tr><td>4</td><td>Literal</td><td></td><td><a class=\"ProveItLink\" href=\"../../../../../../logic/booleans/quantification/existence/__pv_it/common/fedc3809ed9823aab11264c156786a59540352e70/expr.ipynb\"><img src=\"../../../../../../logic/booleans/quantification/existence/__pv_it/common/fedc3809ed9823aab11264c156786a59540352e70/expr.png\" style=\"display:inline;vertical-align:middle;\" /></a></td></tr>\n",
       "<tr><td>5</td><td>ExprTuple</td><td>7</td><td><a class=\"ProveItLink\" href=\"../1a97ead6169bd0d136cb0786d56e561b13de4b4f0/expr.ipynb\"><img src=\"../1a97ead6169bd0d136cb0786d56e561b13de4b4f0/expr.png\" style=\"display:inline;vertical-align:middle;\" /></a></td></tr>\n",
       "<tr><td>6</td><td>ExprTuple</td><td>41, 8</td><td><a class=\"ProveItLink\" href=\"../2c4baa68df6f8f3ac5445b731017dba4e268f1d80/expr.ipynb\"><img src=\"../2c4baa68df6f8f3ac5445b731017dba4e268f1d80/expr.png\" style=\"display:inline;vertical-align:middle;\" /></a></td></tr>\n",
       "<tr><td>7</td><td>Lambda</td><td>parameter:&nbsp;25<br>body:&nbsp;10<br></td><td><a class=\"ProveItLink\" href=\"../401274949eba7ef9dfe46feb1f713ba7389374ad0/expr.ipynb\"><img src=\"../401274949eba7ef9dfe46feb1f713ba7389374ad0/expr.png\" style=\"display:inline;vertical-align:middle;\" /></a></td></tr>\n",
       "<tr><td>8</td><td>Operation</td><td>operator:&nbsp;11<br>operands:&nbsp;12<br></td><td><a class=\"ProveItLink\" href=\"../8d22df76a1df4c9855c56d89686abf2059a6fbe60/expr.ipynb\"><img src=\"../8d22df76a1df4c9855c56d89686abf2059a6fbe60/expr.png\" style=\"display:inline;vertical-align:middle;\" /></a></td></tr>\n",
       "<tr><td>9</td><td>ExprTuple</td><td>25</td><td><a class=\"ProveItLink\" href=\"../784e4161fabed463ea08c5bdcaab880caad8d62f0/expr.ipynb\"><img src=\"../784e4161fabed463ea08c5bdcaab880caad8d62f0/expr.png\" style=\"display:inline;vertical-align:middle;\" /></a></td></tr>\n",
       "<tr><td>10</td><td>Conditional</td><td>value:&nbsp;13<br>condition:&nbsp;14<br></td><td><a class=\"ProveItLink\" href=\"../c701a706da74b4c9d776db199d654f04b36ac6f20/expr.ipynb\"><img src=\"../c701a706da74b4c9d776db199d654f04b36ac6f20/expr.png\" style=\"display:inline;vertical-align:middle;\" /></a></td></tr>\n",
       "<tr><td>11</td><td>Literal</td><td></td><td><a class=\"ProveItLink\" href=\"../../../../../../linear_algebra/matrices/__pv_it/common/41bfe9284ff6c5a59c371a3fff56a4201f4483c40/expr.ipynb\"><img src=\"../../../../../../linear_algebra/matrices/__pv_it/common/41bfe9284ff6c5a59c371a3fff56a4201f4483c40/expr.png\" style=\"display:inline;vertical-align:middle;\" /></a></td></tr>\n",
       "<tr><td>12</td><td>NamedExprs</td><td>field: 15<br>rows: 27<br>columns: 27<br></td><td><a class=\"ProveItLink\" href=\"../d4fa587477d78d25daa0ea1d863a110947e8533a0/expr.ipynb\"><img src=\"../d4fa587477d78d25daa0ea1d863a110947e8533a0/expr.png\" style=\"display:inline;vertical-align:middle;\" /></a></td></tr>\n",
       "<tr><td>13</td><td>Operation</td><td>operator:&nbsp;16<br>operands:&nbsp;17<br></td><td><a class=\"ProveItLink\" href=\"../bb232a6ebc49dbeff5a3b2c7772cbc4bf5009ec40/expr.ipynb\"><img src=\"../bb232a6ebc49dbeff5a3b2c7772cbc4bf5009ec40/expr.png\" style=\"display:inline;vertical-align:middle;\" /></a></td></tr>\n",
       "<tr><td>14</td><td>Operation</td><td>operator:&nbsp;18<br>operands:&nbsp;19<br></td><td><a class=\"ProveItLink\" href=\"../6f8874369dd332f35be86c889ba6f17462f480c90/expr.ipynb\"><img src=\"../6f8874369dd332f35be86c889ba6f17462f480c90/expr.png\" style=\"display:inline;vertical-align:middle;\" /></a></td></tr>\n",
       "<tr><td>15</td><td>Literal</td><td></td><td><a class=\"ProveItLink\" href=\"../../../../../../numbers/number_sets/complex_numbers/__pv_it/common/d18a028138f659eda00de597c28a3447fe87eb100/expr.ipynb\"><img src=\"../../../../../../numbers/number_sets/complex_numbers/__pv_it/common/d18a028138f659eda00de597c28a3447fe87eb100/expr.png\" style=\"display:inline;vertical-align:middle;\" /></a></td></tr>\n",
       "<tr><td>16</td><td>Literal</td><td></td><td><a class=\"ProveItLink\" href=\"../../../../../../logic/equality/__pv_it/common/fb96dc12b2aa8801dda64d0132b396c63d1502bb0/expr.ipynb\"><img src=\"../../../../../../logic/equality/__pv_it/common/fb96dc12b2aa8801dda64d0132b396c63d1502bb0/expr.png\" style=\"display:inline;vertical-align:middle;\" /></a></td></tr>\n",
       "<tr><td>17</td><td>ExprTuple</td><td>41, 20</td><td><a class=\"ProveItLink\" href=\"../dd9c620e73b69613d7ae79b14fc9b7ce00e972a00/expr.ipynb\"><img src=\"../dd9c620e73b69613d7ae79b14fc9b7ce00e972a00/expr.png\" style=\"display:inline;vertical-align:middle;\" /></a></td></tr>\n",
       "<tr><td>18</td><td>Literal</td><td></td><td><a class=\"ProveItLink\" href=\"../../../../../../logic/sets/membership/__pv_it/common/477487d8796864d23d5810f83761435f25167f690/expr.ipynb\"><img src=\"../../../../../../logic/sets/membership/__pv_it/common/477487d8796864d23d5810f83761435f25167f690/expr.png\" style=\"display:inline;vertical-align:middle;\" /></a></td></tr>\n",
       "<tr><td>19</td><td>ExprTuple</td><td>25, 21</td><td><a class=\"ProveItLink\" href=\"../ac99e23ca1b14a8cf60951890f4efe3fa8824dcd0/expr.ipynb\"><img src=\"../ac99e23ca1b14a8cf60951890f4efe3fa8824dcd0/expr.png\" style=\"display:inline;vertical-align:middle;\" /></a></td></tr>\n",
       "<tr><td>20</td><td>Operation</td><td>operator:&nbsp;32<br>operands:&nbsp;22<br></td><td><a class=\"ProveItLink\" href=\"../f7ac5f86db60dc7b8a5615e306f02c3d1b33225f0/expr.ipynb\"><img src=\"../f7ac5f86db60dc7b8a5615e306f02c3d1b33225f0/expr.png\" style=\"display:inline;vertical-align:middle;\" /></a></td></tr>\n",
       "<tr><td>21</td><td>Operation</td><td>operator:&nbsp;23<br>operand:&nbsp;27<br></td><td><a class=\"ProveItLink\" href=\"../a295712b2a9ba13f92ad8da2b3c9bd2fe7e48dce0/expr.ipynb\"><img src=\"../a295712b2a9ba13f92ad8da2b3c9bd2fe7e48dce0/expr.png\" style=\"display:inline;vertical-align:middle;\" /></a></td></tr>\n",
       "<tr><td>22</td><td>ExprTuple</td><td>25, 26</td><td><a class=\"ProveItLink\" href=\"../267137f7ab0b1c035be4482c0e0a8f35569505d80/expr.ipynb\"><img src=\"../267137f7ab0b1c035be4482c0e0a8f35569505d80/expr.png\" style=\"display:inline;vertical-align:middle;\" /></a></td></tr>\n",
       "<tr><td>23</td><td>Literal</td><td></td><td><a class=\"ProveItLink\" href=\"../../../../../../linear_algebra/matrices/__pv_it/common/4ef8603cb69b80b124ebf92d970050986c8869e80/expr.ipynb\"><img src=\"../../../../../../linear_algebra/matrices/__pv_it/common/4ef8603cb69b80b124ebf92d970050986c8869e80/expr.png\" style=\"display:inline;vertical-align:middle;\" /></a></td></tr>\n",
       "<tr><td>24</td><td>ExprTuple</td><td>27</td><td><a class=\"ProveItLink\" href=\"../ca565dff2751ea9a3b48fe855133b9e0c2eca83f0/expr.ipynb\"><img src=\"../ca565dff2751ea9a3b48fe855133b9e0c2eca83f0/expr.png\" style=\"display:inline;vertical-align:middle;\" /></a></td></tr>\n",
       "<tr><td>25</td><td>Variable</td><td></td><td><a class=\"ProveItLink\" href=\"../../../../../../__pv_it/common/2586cdae2fd2785a5bcbf61f99f7aaf8229d775e0/expr.ipynb\"><img src=\"../../../../../../__pv_it/common/2586cdae2fd2785a5bcbf61f99f7aaf8229d775e0/expr.png\" style=\"display:inline;vertical-align:middle;\" /></a></td></tr>\n",
       "<tr><td>26</td><td>Operation</td><td>operator:&nbsp;28<br>operands:&nbsp;29<br></td><td><a class=\"ProveItLink\" href=\"../3131c9f628c77434de79324e10aa585a3760df360/expr.ipynb\"><img src=\"../3131c9f628c77434de79324e10aa585a3760df360/expr.png\" style=\"display:inline;vertical-align:middle;\" /></a></td></tr>\n",
       "<tr><td>27</td><td>Variable</td><td></td><td><a class=\"ProveItLink\" href=\"../../../../../../__pv_it/common/8968bb04eb3f7dfa02353397ce929b025bbd79c20/expr.ipynb\"><img src=\"../../../../../../__pv_it/common/8968bb04eb3f7dfa02353397ce929b025bbd79c20/expr.png\" style=\"display:inline;vertical-align:middle;\" /></a></td></tr>\n",
       "<tr><td>28</td><td>Literal</td><td></td><td><a class=\"ProveItLink\" href=\"../../../../../../numbers/exponentiation/__pv_it/common/0ac37aca1e54c35c5cda09672df32d4f69f1f3020/expr.ipynb\"><img src=\"../../../../../../numbers/exponentiation/__pv_it/common/0ac37aca1e54c35c5cda09672df32d4f69f1f3020/expr.png\" style=\"display:inline;vertical-align:middle;\" /></a></td></tr>\n",
       "<tr><td>29</td><td>ExprTuple</td><td>30, 31</td><td><a class=\"ProveItLink\" href=\"../9296aae883c6b8598c9e10bc9a46722b8ea5ea920/expr.ipynb\"><img src=\"../9296aae883c6b8598c9e10bc9a46722b8ea5ea920/expr.png\" style=\"display:inline;vertical-align:middle;\" /></a></td></tr>\n",
       "<tr><td>30</td><td>Operation</td><td>operator:&nbsp;32<br>operands:&nbsp;33<br></td><td><a class=\"ProveItLink\" href=\"../0ac94716260e5ae3a4a422fdb67342d1ec3132bb0/expr.ipynb\"><img src=\"../0ac94716260e5ae3a4a422fdb67342d1ec3132bb0/expr.png\" style=\"display:inline;vertical-align:middle;\" /></a></td></tr>\n",
       "<tr><td>31</td><td>Operation</td><td>operator:&nbsp;34<br>operands:&nbsp;35<br></td><td><a class=\"ProveItLink\" href=\"../41c7e8d55de04e24c56503fbffe6ac0318a53f990/expr.ipynb\"><img src=\"../41c7e8d55de04e24c56503fbffe6ac0318a53f990/expr.png\" style=\"display:inline;vertical-align:middle;\" /></a></td></tr>\n",
       "<tr><td>32</td><td>Literal</td><td></td><td><a class=\"ProveItLink\" href=\"../../common/2972e0deb52c96565b39f905d407d7302ae287580/expr.ipynb\"><img src=\"../../common/2972e0deb52c96565b39f905d407d7302ae287580/expr.png\" style=\"display:inline;vertical-align:middle;\" /></a></td></tr>\n",
       "<tr><td>33</td><td>ExprTuple</td><td>36, 41</td><td><a class=\"ProveItLink\" href=\"../b2c2043f3f721fb729a4d4c4b3bb05cb33d238f70/expr.ipynb\"><img src=\"../b2c2043f3f721fb729a4d4c4b3bb05cb33d238f70/expr.png\" style=\"display:inline;vertical-align:middle;\" /></a></td></tr>\n",
       "<tr><td>34</td><td>Literal</td><td></td><td><a class=\"ProveItLink\" href=\"../../../../../../numbers/division/__pv_it/common/a2a633e1e3c749fb1f2692466b287b6348c5de840/expr.ipynb\"><img src=\"../../../../../../numbers/division/__pv_it/common/a2a633e1e3c749fb1f2692466b287b6348c5de840/expr.png\" style=\"display:inline;vertical-align:middle;\" /></a></td></tr>\n",
       "<tr><td>35</td><td>ExprTuple</td><td>37, 38</td><td><a class=\"ProveItLink\" href=\"../../../../../../numbers/numerals/decimals/__pv_it/theorems/df23a04353373623cccbfda09b61e0f594aa791a0/expr.ipynb\"><img src=\"../../../../../../numbers/numerals/decimals/__pv_it/theorems/df23a04353373623cccbfda09b61e0f594aa791a0/expr.png\" style=\"display:inline;vertical-align:middle;\" /></a></td></tr>\n",
       "<tr><td>36</td><td>Operation</td><td>operator:&nbsp;39<br>operand:&nbsp;41<br></td><td><a class=\"ProveItLink\" href=\"../0754b012e725cb2d35326bf3278700bd12e1ce910/expr.ipynb\"><img src=\"../0754b012e725cb2d35326bf3278700bd12e1ce910/expr.png\" style=\"display:inline;vertical-align:middle;\" /></a></td></tr>\n",
       "<tr><td>37</td><td>Literal</td><td></td><td><a class=\"ProveItLink\" href=\"../../../../../../numbers/numerals/__pv_it/common/682157d4892d216d9e5626ed533aff9b56b9506e0/expr.ipynb\"><img src=\"../../../../../../numbers/numerals/__pv_it/common/682157d4892d216d9e5626ed533aff9b56b9506e0/expr.png\" style=\"display:inline;vertical-align:middle;\" /></a></td></tr>\n",
       "<tr><td>38</td><td>Literal</td><td></td><td><a class=\"ProveItLink\" href=\"../../../../../../numbers/numerals/__pv_it/common/af4aab8a07465db063742696e006d04670f30cf10/expr.ipynb\"><img src=\"../../../../../../numbers/numerals/__pv_it/common/af4aab8a07465db063742696e006d04670f30cf10/expr.png\" style=\"display:inline;vertical-align:middle;\" /></a></td></tr>\n",
       "<tr><td>39</td><td>Literal</td><td></td><td><a class=\"ProveItLink\" href=\"../../../../../../linear_algebra/inner_products/__pv_it/common/07dd5c9e53f5101e0f4bf0fc1d9831c526034dc50/expr.ipynb\"><img src=\"../../../../../../linear_algebra/inner_products/__pv_it/common/07dd5c9e53f5101e0f4bf0fc1d9831c526034dc50/expr.png\" style=\"display:inline;vertical-align:middle;\" /></a></td></tr>\n",
       "<tr><td>40</td><td>ExprTuple</td><td>41</td><td><a class=\"ProveItLink\" href=\"../0dc6c42a8c40e6a1c0a1b3cc41b6e5aa01a661750/expr.ipynb\"><img src=\"../0dc6c42a8c40e6a1c0a1b3cc41b6e5aa01a661750/expr.png\" style=\"display:inline;vertical-align:middle;\" /></a></td></tr>\n",
       "<tr><td>41</td><td>Variable</td><td></td><td><a class=\"ProveItLink\" href=\"../../../../../../__pv_it/common/09585084922504426caf1db2ff588a23a0932a960/expr.ipynb\"><img src=\"../../../../../../__pv_it/common/09585084922504426caf1db2ff588a23a0932a960/expr.png\" style=\"display:inline;vertical-align:middle;\" /></a></td></tr>\n",
       "</table>\n"
      ],
      "text/plain": [
       "0. A -> {exists_{U in U(n)} (A = (U . sqrt((A* . A)))) if A in Complex^{n x n}.\n",
       "   core type: Lambda\n",
       "   parameter: 41\n",
       "   body: 1\n",
       "1. {exists_{U in U(n)} (A = (U . sqrt((A* . A)))) if A in Complex^{n x n}.\n",
       "   core type: Conditional\n",
       "   value: 2\n",
       "   condition: 3\n",
       "2. exists_{U in U(n)} (A = (U . sqrt((A* . A))))\n",
       "   core type: Operation\n",
       "   operator: 4\n",
       "   operand: 7\n",
       "3. A in Complex^{n x n}\n",
       "   core type: Operation\n",
       "   operator: 18\n",
       "   operands: 6\n",
       "4. exists\n",
       "   core type: Literal\n",
       "   sub-expressions: \n",
       "5. (U -> {A = (U . sqrt((A* . A))) if U in U(n).)\n",
       "   core type: ExprTuple\n",
       "   sub-expressions: 7\n",
       "6. (A, Complex^{n x n})\n",
       "   core type: ExprTuple\n",
       "   sub-expressions: 41, 8\n",
       "7. U -> {A = (U . sqrt((A* . A))) if U in U(n).\n",
       "   core type: Lambda\n",
       "   parameter: 25\n",
       "   body: 10\n",
       "8. Complex^{n x n}\n",
       "   core type: Operation\n",
       "   operator: 11\n",
       "   operands: 12\n",
       "9. (U)\n",
       "   core type: ExprTuple\n",
       "   sub-expressions: 25\n",
       "10. {A = (U . sqrt((A* . A))) if U in U(n).\n",
       "    core type: Conditional\n",
       "    value: 13\n",
       "    condition: 14\n",
       "11. MSpace\n",
       "    core type: Literal\n",
       "    sub-expressions: \n",
       "12. {field:Complex, rows:n, columns:n}\n",
       "    core type: NamedExprs\n",
       "    field: 15\n",
       "    rows: 27\n",
       "    columns: 27\n",
       "13. A = (U . sqrt((A* . A)))\n",
       "    core type: Operation\n",
       "    operator: 16\n",
       "    operands: 17\n",
       "14. U in U(n)\n",
       "    core type: Operation\n",
       "    operator: 18\n",
       "    operands: 19\n",
       "15. Complex\n",
       "    core type: Literal\n",
       "    sub-expressions: \n",
       "16. =\n",
       "    core type: Literal\n",
       "    sub-expressions: \n",
       "17. (A, U . sqrt((A* . A)))\n",
       "    core type: ExprTuple\n",
       "    sub-expressions: 41, 20\n",
       "18. in\n",
       "    core type: Literal\n",
       "    sub-expressions: \n",
       "19. (U, U(n))\n",
       "    core type: ExprTuple\n",
       "    sub-expressions: 25, 21\n",
       "20. U . sqrt((A* . A))\n",
       "    core type: Operation\n",
       "    operator: 32\n",
       "    operands: 22\n",
       "21. U(n)\n",
       "    core type: Operation\n",
       "    operator: 23\n",
       "    operand: 27\n",
       "22. (U, sqrt((A* . A)))\n",
       "    core type: ExprTuple\n",
       "    sub-expressions: 25, 26\n",
       "23. U\n",
       "    core type: Literal\n",
       "    sub-expressions: \n",
       "24. (n)\n",
       "    core type: ExprTuple\n",
       "    sub-expressions: 27\n",
       "25. U\n",
       "    core type: Variable\n",
       "    sub-expressions: \n",
       "26. sqrt((A* . A))\n",
       "    core type: Operation\n",
       "    operator: 28\n",
       "    operands: 29\n",
       "27. n\n",
       "    core type: Variable\n",
       "    sub-expressions: \n",
       "28. Exp\n",
       "    core type: Literal\n",
       "    sub-expressions: \n",
       "29. (A* . A, 1 / 2)\n",
       "    core type: ExprTuple\n",
       "    sub-expressions: 30, 31\n",
       "30. A* . A\n",
       "    core type: Operation\n",
       "    operator: 32\n",
       "    operands: 33\n",
       "31. 1 / 2\n",
       "    core type: Operation\n",
       "    operator: 34\n",
       "    operands: 35\n",
       "32. .\n",
       "    core type: Literal\n",
       "    sub-expressions: \n",
       "33. (A*, A)\n",
       "    core type: ExprTuple\n",
       "    sub-expressions: 36, 41\n",
       "34. /\n",
       "    core type: Literal\n",
       "    sub-expressions: \n",
       "35. (1, 2)\n",
       "    core type: ExprTuple\n",
       "    sub-expressions: 37, 38\n",
       "36. A*\n",
       "    core type: Operation\n",
       "    operator: 39\n",
       "    operand: 41\n",
       "37. 1\n",
       "    core type: Literal\n",
       "    sub-expressions: \n",
       "38. 2\n",
       "    core type: Literal\n",
       "    sub-expressions: \n",
       "39. Adj\n",
       "    core type: Literal\n",
       "    sub-expressions: \n",
       "40. (A)\n",
       "    core type: ExprTuple\n",
       "    sub-expressions: 41\n",
       "41. A\n",
       "    core type: Variable\n",
       "    sub-expressions: "
      ]
     },
     "metadata": {},
     "output_type": "display_data"
    }
   ],
   "source": [
    "# display the expression information\n",
    "stored_expr.expr_info()"
   ]
  },
  {
   "cell_type": "code",
   "execution_count": null,
   "metadata": {},
   "outputs": [],
   "source": []
  }
 ],
 "metadata": {
  "kernelspec": {
   "display_name": "Python 3",
   "language": "python",
   "name": "python3"
  }
 },
 "nbformat": 4,
 "nbformat_minor": 0
}