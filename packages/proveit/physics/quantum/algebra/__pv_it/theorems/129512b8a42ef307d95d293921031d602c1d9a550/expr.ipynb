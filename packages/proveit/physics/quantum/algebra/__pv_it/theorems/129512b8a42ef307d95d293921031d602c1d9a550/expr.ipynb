{
 "cells": [
  {
   "cell_type": "markdown",
   "metadata": {},
   "source": [
    "Expression of type <a class=\"ProveItLink\" href=\"../../../../../../../../doc/html/api/proveit.Conditional.html\">Conditional</a>\n",
    "=======================\n",
    "# from the theory of <a class=\"ProveItLink\" href=\"../../../_theory_nbs_/theory.ipynb\">proveit.physics.quantum.algebra</a>"
   ]
  },
  {
   "cell_type": "code",
   "execution_count": 1,
   "metadata": {},
   "outputs": [],
   "source": [
    "import proveit\n",
    "# Automation is not needed when building an expression:\n",
    "proveit.defaults.automation = False # This will speed things up.\n",
    "proveit.defaults.inline_pngs = False # Makes files smaller.\n",
    "%load_expr # Load the stored expression as 'stored_expr'\n",
    "# import Expression classes needed to build the expression\n",
    "from proveit import Conditional, a, j\n",
    "from proveit.core_expr_types import B_1_to_j\n",
    "from proveit.linear_algebra import ScalarMult\n",
    "from proveit.logic import Equals, Forall, InClass, InSet\n",
    "from proveit.numbers import Complex, NaturalPos\n",
    "from proveit.physics.quantum import Qmult, QmultCodomain"
   ]
  },
  {
   "cell_type": "code",
   "execution_count": 2,
   "metadata": {},
   "outputs": [
    {
     "data": {
      "text/html": [
       "<strong id=\"expr\">expr:</strong> <a class=\"ProveItLink\" href=\"expr.ipynb\"><img src=\"expr.png\" style=\"display:inline;vertical-align:middle;\" /></a><br>"
      ],
      "text/plain": [
       "<IPython.core.display.HTML object>"
      ]
     },
     "metadata": {},
     "output_type": "display_data"
    }
   ],
   "source": [
    "# build up the expression from sub-expressions\n",
    "sub_expr1 = Qmult(B_1_to_j)\n",
    "expr = Conditional(Forall(instance_param_or_params = [a], instance_expr = Forall(instance_param_or_params = [B_1_to_j], instance_expr = Equals(Qmult(a, B_1_to_j), ScalarMult(a, sub_expr1)).with_wrapping_at(2), condition = InClass(sub_expr1, QmultCodomain)), domain = Complex), InSet(j, NaturalPos))"
   ]
  },
  {
   "cell_type": "code",
   "execution_count": 3,
   "metadata": {},
   "outputs": [
    {
     "name": "stdout",
     "output_type": "stream",
     "text": [
      "Passed sanity check: expr matches stored_expr\n"
     ]
    }
   ],
   "source": [
    "# check that the built expression is the same as the stored expression\n",
    "assert expr == stored_expr\n",
    "assert expr._style_id == stored_expr._style_id\n",
    "print(\"Passed sanity check: expr matches stored_expr\")"
   ]
  },
  {
   "cell_type": "code",
   "execution_count": 4,
   "metadata": {},
   "outputs": [
    {
     "name": "stdout",
     "output_type": "stream",
     "text": [
      "\\left\\{\\forall_{a \\in \\mathbb{C}}~\\left[\\forall_{B_{1}, B_{2}, \\ldots, B_{j}~|~\\left(B_{1} \\thinspace  B_{2} \\thinspace  \\ldots \\thinspace  B_{j}\\right) \\underset{{\\scriptscriptstyle c}}{\\in} \\mathcal{Q^*}}~\\left(\\begin{array}{c} \\begin{array}{l} \\left(a\\thinspace B_{1} \\thinspace  B_{2} \\thinspace  \\ldots \\thinspace  B_{j}\\right) =  \\\\ \\left(a \\cdot \\left(B_{1} \\thinspace  B_{2} \\thinspace  \\ldots \\thinspace  B_{j}\\right)\\right) \\end{array} \\end{array}\\right)\\right] \\textrm{ if } j \\in \\mathbb{N}^+\\right..\n"
     ]
    }
   ],
   "source": [
    "# Show the LaTeX representation of the expression for convenience if you need it.\n",
    "print(stored_expr.latex())"
   ]
  },
  {
   "cell_type": "code",
   "execution_count": 5,
   "metadata": {},
   "outputs": [
    {
     "data": {
      "text/html": [
       "<table>\n",
       "<tr><th>name</th><th>description</th><th>default</th><th>current value</th><th>related methods</th></tr><tr><td>condition_delimiter</td><td>'comma' or 'and'</td><td>comma</td><td>comma</td><td>('with_comma_delimiter', 'with_conjunction_delimiter')</td></tr>\n",
       "</table>\n"
      ],
      "text/plain": [
       "style name: condition_delimiter\n",
       "description: 'comma' or 'and'\n",
       "default: comma\n",
       "current value: comma\n",
       "related methods: ('with_comma_delimiter', 'with_conjunction_delimiter')"
      ]
     },
     "metadata": {},
     "output_type": "display_data"
    }
   ],
   "source": [
    "stored_expr.style_options()"
   ]
  },
  {
   "cell_type": "code",
   "execution_count": 6,
   "metadata": {},
   "outputs": [
    {
     "data": {
      "text/html": [
       "<table><tr><th>&nbsp;</th><th>core type</th><th>sub-expressions</th><th>expression</th></tr>\n",
       "<tr><td>0</td><td>Conditional</td><td>value:&nbsp;1<br>condition:&nbsp;2<br></td><td><a class=\"ProveItLink\" href=\"expr.ipynb\"><img src=\"expr.png\" style=\"display:inline;vertical-align:middle;\" /></a></td></tr>\n",
       "<tr><td>1</td><td>Operation</td><td>operator:&nbsp;11<br>operand:&nbsp;5<br></td><td><a class=\"ProveItLink\" href=\"../0cef6ad3442f20dbad62cf89d9aa4c4b7fe8aeba0/expr.ipynb\"><img src=\"../0cef6ad3442f20dbad62cf89d9aa4c4b7fe8aeba0/expr.png\" style=\"display:inline;vertical-align:middle;\" /></a></td></tr>\n",
       "<tr><td>2</td><td>Operation</td><td>operator:&nbsp;13<br>operands:&nbsp;4<br></td><td><a class=\"ProveItLink\" href=\"../649ae346ef247b1d190476e522e54e82e6fe76a10/expr.ipynb\"><img src=\"../649ae346ef247b1d190476e522e54e82e6fe76a10/expr.png\" style=\"display:inline;vertical-align:middle;\" /></a></td></tr>\n",
       "<tr><td>3</td><td>ExprTuple</td><td>5</td><td><a class=\"ProveItLink\" href=\"../9b07c9edec45aa40d446d848ff1da43774b83db40/expr.ipynb\"><img src=\"../9b07c9edec45aa40d446d848ff1da43774b83db40/expr.png\" style=\"display:inline;vertical-align:middle;\" /></a></td></tr>\n",
       "<tr><td>4</td><td>ExprTuple</td><td>37, 6</td><td><a class=\"ProveItLink\" href=\"../fbb106d39245a485d62fb5665749b156e8eb3ca70/expr.ipynb\"><img src=\"../fbb106d39245a485d62fb5665749b156e8eb3ca70/expr.png\" style=\"display:inline;vertical-align:middle;\" /></a></td></tr>\n",
       "<tr><td>5</td><td>Lambda</td><td>parameter:&nbsp;30<br>body:&nbsp;8<br></td><td><a class=\"ProveItLink\" href=\"../ba57d0c5c62d1d3064a9a7956f8ef72c7879466e0/expr.ipynb\"><img src=\"../ba57d0c5c62d1d3064a9a7956f8ef72c7879466e0/expr.png\" style=\"display:inline;vertical-align:middle;\" /></a></td></tr>\n",
       "<tr><td>6</td><td>Literal</td><td></td><td><a class=\"ProveItLink\" href=\"../../../../../../numbers/number_sets/natural_numbers/__pv_it/common/6111329435c43892c831c4793de96afbf80bdb3e0/expr.ipynb\"><img src=\"../../../../../../numbers/number_sets/natural_numbers/__pv_it/common/6111329435c43892c831c4793de96afbf80bdb3e0/expr.png\" style=\"display:inline;vertical-align:middle;\" /></a></td></tr>\n",
       "<tr><td>7</td><td>ExprTuple</td><td>30</td><td><a class=\"ProveItLink\" href=\"../034703c6972b772d60786b3024fb4de33deb9fd00/expr.ipynb\"><img src=\"../034703c6972b772d60786b3024fb4de33deb9fd00/expr.png\" style=\"display:inline;vertical-align:middle;\" /></a></td></tr>\n",
       "<tr><td>8</td><td>Conditional</td><td>value:&nbsp;9<br>condition:&nbsp;10<br></td><td><a class=\"ProveItLink\" href=\"../851e2c9d652a4ac896e0fdc9bb2c0c27279780260/expr.ipynb\"><img src=\"../851e2c9d652a4ac896e0fdc9bb2c0c27279780260/expr.png\" style=\"display:inline;vertical-align:middle;\" /></a></td></tr>\n",
       "<tr><td>9</td><td>Operation</td><td>operator:&nbsp;11<br>operand:&nbsp;15<br></td><td><a class=\"ProveItLink\" href=\"../969db278b9a20d1b4bf3195f6e90a7210b2325470/expr.ipynb\"><img src=\"../969db278b9a20d1b4bf3195f6e90a7210b2325470/expr.png\" style=\"display:inline;vertical-align:middle;\" /></a></td></tr>\n",
       "<tr><td>10</td><td>Operation</td><td>operator:&nbsp;13<br>operands:&nbsp;14<br></td><td><a class=\"ProveItLink\" href=\"../e9f87a0977d5044ea8daf1040d2f219396bb3d5b0/expr.ipynb\"><img src=\"../e9f87a0977d5044ea8daf1040d2f219396bb3d5b0/expr.png\" style=\"display:inline;vertical-align:middle;\" /></a></td></tr>\n",
       "<tr><td>11</td><td>Literal</td><td></td><td><a class=\"ProveItLink\" href=\"../../../../../../logic/booleans/quantification/universality/__pv_it/common/083d2baa0b8ecab1d230f9ec29a15aa1355809fb0/expr.ipynb\"><img src=\"../../../../../../logic/booleans/quantification/universality/__pv_it/common/083d2baa0b8ecab1d230f9ec29a15aa1355809fb0/expr.png\" style=\"display:inline;vertical-align:middle;\" /></a></td></tr>\n",
       "<tr><td>12</td><td>ExprTuple</td><td>15</td><td><a class=\"ProveItLink\" href=\"../febd086d1cfd09ef32793d04da84e85bb5aa415f0/expr.ipynb\"><img src=\"../febd086d1cfd09ef32793d04da84e85bb5aa415f0/expr.png\" style=\"display:inline;vertical-align:middle;\" /></a></td></tr>\n",
       "<tr><td>13</td><td>Literal</td><td></td><td><a class=\"ProveItLink\" href=\"../../../../../../logic/sets/membership/__pv_it/common/477487d8796864d23d5810f83761435f25167f690/expr.ipynb\"><img src=\"../../../../../../logic/sets/membership/__pv_it/common/477487d8796864d23d5810f83761435f25167f690/expr.png\" style=\"display:inline;vertical-align:middle;\" /></a></td></tr>\n",
       "<tr><td>14</td><td>ExprTuple</td><td>30, 16</td><td><a class=\"ProveItLink\" href=\"../f95f1bd17fb8b13a3ef06d06b532b556f249a05f0/expr.ipynb\"><img src=\"../f95f1bd17fb8b13a3ef06d06b532b556f249a05f0/expr.png\" style=\"display:inline;vertical-align:middle;\" /></a></td></tr>\n",
       "<tr><td>15</td><td>Lambda</td><td>parameters:&nbsp;33<br>body:&nbsp;17<br></td><td><a class=\"ProveItLink\" href=\"../87f16828d9ba9532b2eda2aa53cf4e479b15872c0/expr.ipynb\"><img src=\"../87f16828d9ba9532b2eda2aa53cf4e479b15872c0/expr.png\" style=\"display:inline;vertical-align:middle;\" /></a></td></tr>\n",
       "<tr><td>16</td><td>Literal</td><td></td><td><a class=\"ProveItLink\" href=\"../../../../../../numbers/number_sets/complex_numbers/__pv_it/common/d18a028138f659eda00de597c28a3447fe87eb100/expr.ipynb\"><img src=\"../../../../../../numbers/number_sets/complex_numbers/__pv_it/common/d18a028138f659eda00de597c28a3447fe87eb100/expr.png\" style=\"display:inline;vertical-align:middle;\" /></a></td></tr>\n",
       "<tr><td>17</td><td>Conditional</td><td>value:&nbsp;18<br>condition:&nbsp;19<br></td><td><a class=\"ProveItLink\" href=\"../3ed7c80172b4ad03a93affda3d7c86a2620c70640/expr.ipynb\"><img src=\"../3ed7c80172b4ad03a93affda3d7c86a2620c70640/expr.png\" style=\"display:inline;vertical-align:middle;\" /></a></td></tr>\n",
       "<tr><td>18</td><td>Operation</td><td>operator:&nbsp;20<br>operands:&nbsp;21<br></td><td><a class=\"ProveItLink\" href=\"../e3eab91b0ad8c48ccfcf515045f7ca5f546a9c840/expr.ipynb\"><img src=\"../e3eab91b0ad8c48ccfcf515045f7ca5f546a9c840/expr.png\" style=\"display:inline;vertical-align:middle;\" /></a></td></tr>\n",
       "<tr><td>19</td><td>Operation</td><td>operator:&nbsp;22<br>operands:&nbsp;23<br></td><td><a class=\"ProveItLink\" href=\"../b0d036eb00f2333500c6ea78814d531d6dd7eb000/expr.ipynb\"><img src=\"../b0d036eb00f2333500c6ea78814d531d6dd7eb000/expr.png\" style=\"display:inline;vertical-align:middle;\" /></a></td></tr>\n",
       "<tr><td>20</td><td>Literal</td><td></td><td><a class=\"ProveItLink\" href=\"../../../../../../logic/equality/__pv_it/common/fb96dc12b2aa8801dda64d0132b396c63d1502bb0/expr.ipynb\"><img src=\"../../../../../../logic/equality/__pv_it/common/fb96dc12b2aa8801dda64d0132b396c63d1502bb0/expr.png\" style=\"display:inline;vertical-align:middle;\" /></a></td></tr>\n",
       "<tr><td>21</td><td>ExprTuple</td><td>24, 25</td><td><a class=\"ProveItLink\" href=\"../8ea48b9c0a951c7b1eb8f710514f2ac394d28f120/expr.ipynb\"><img src=\"../8ea48b9c0a951c7b1eb8f710514f2ac394d28f120/expr.png\" style=\"display:inline;vertical-align:middle;\" /></a></td></tr>\n",
       "<tr><td>22</td><td>Literal</td><td></td><td><a class=\"ProveItLink\" href=\"../../../../../../logic/classes/membership/__pv_it/common/e3b437d28fbe17f0a50c9789c7c9b47a1270f1420/expr.ipynb\"><img src=\"../../../../../../logic/classes/membership/__pv_it/common/e3b437d28fbe17f0a50c9789c7c9b47a1270f1420/expr.png\" style=\"display:inline;vertical-align:middle;\" /></a></td></tr>\n",
       "<tr><td>23</td><td>ExprTuple</td><td>31, 26</td><td><a class=\"ProveItLink\" href=\"../67ada47cba344809925edc6c2b9ff94740496cb40/expr.ipynb\"><img src=\"../67ada47cba344809925edc6c2b9ff94740496cb40/expr.png\" style=\"display:inline;vertical-align:middle;\" /></a></td></tr>\n",
       "<tr><td>24</td><td>Operation</td><td>operator:&nbsp;32<br>operands:&nbsp;27<br></td><td><a class=\"ProveItLink\" href=\"../72e08f4525c5036bf1745e062bb981858c87c55f0/expr.ipynb\"><img src=\"../72e08f4525c5036bf1745e062bb981858c87c55f0/expr.png\" style=\"display:inline;vertical-align:middle;\" /></a></td></tr>\n",
       "<tr><td>25</td><td>Operation</td><td>operator:&nbsp;28<br>operands:&nbsp;29<br></td><td><a class=\"ProveItLink\" href=\"../9e9a88ed86731662cdf499382243a8affd37eaec0/expr.ipynb\"><img src=\"../9e9a88ed86731662cdf499382243a8affd37eaec0/expr.png\" style=\"display:inline;vertical-align:middle;\" /></a></td></tr>\n",
       "<tr><td>26</td><td>Literal</td><td></td><td><a class=\"ProveItLink\" href=\"../../common/9eb627883d0de35514f5f025d8d6d9a6894424630/expr.ipynb\"><img src=\"../../common/9eb627883d0de35514f5f025d8d6d9a6894424630/expr.png\" style=\"display:inline;vertical-align:middle;\" /></a></td></tr>\n",
       "<tr><td>27</td><td>ExprTuple</td><td>30, 34</td><td><a class=\"ProveItLink\" href=\"../25b58f287ed8a9c8be54c4b3bd1e6ae8ea99d7020/expr.ipynb\"><img src=\"../25b58f287ed8a9c8be54c4b3bd1e6ae8ea99d7020/expr.png\" style=\"display:inline;vertical-align:middle;\" /></a></td></tr>\n",
       "<tr><td>28</td><td>Literal</td><td></td><td><a class=\"ProveItLink\" href=\"../../../../../../linear_algebra/scalar_multiplication/__pv_it/common/1e364bd471e6a29fcd358dd2d9cd990a1e6fedd40/expr.ipynb\"><img src=\"../../../../../../linear_algebra/scalar_multiplication/__pv_it/common/1e364bd471e6a29fcd358dd2d9cd990a1e6fedd40/expr.png\" style=\"display:inline;vertical-align:middle;\" /></a></td></tr>\n",
       "<tr><td>29</td><td>ExprTuple</td><td>30, 31</td><td><a class=\"ProveItLink\" href=\"../ff07146968d599afe4f3a80d44b02c6c31fb877f0/expr.ipynb\"><img src=\"../ff07146968d599afe4f3a80d44b02c6c31fb877f0/expr.png\" style=\"display:inline;vertical-align:middle;\" /></a></td></tr>\n",
       "<tr><td>30</td><td>Variable</td><td></td><td><a class=\"ProveItLink\" href=\"../../../../../../__pv_it/common/c06c606ec12678c58933ac85412ecadc2ae28be60/expr.ipynb\"><img src=\"../../../../../../__pv_it/common/c06c606ec12678c58933ac85412ecadc2ae28be60/expr.png\" style=\"display:inline;vertical-align:middle;\" /></a></td></tr>\n",
       "<tr><td>31</td><td>Operation</td><td>operator:&nbsp;32<br>operands:&nbsp;33<br></td><td><a class=\"ProveItLink\" href=\"../cbf954701fd7db713717d74ff3de63858cd5e6570/expr.ipynb\"><img src=\"../cbf954701fd7db713717d74ff3de63858cd5e6570/expr.png\" style=\"display:inline;vertical-align:middle;\" /></a></td></tr>\n",
       "<tr><td>32</td><td>Literal</td><td></td><td><a class=\"ProveItLink\" href=\"../../common/2972e0deb52c96565b39f905d407d7302ae287580/expr.ipynb\"><img src=\"../../common/2972e0deb52c96565b39f905d407d7302ae287580/expr.png\" style=\"display:inline;vertical-align:middle;\" /></a></td></tr>\n",
       "<tr><td>33</td><td>ExprTuple</td><td>34</td><td><a class=\"ProveItLink\" href=\"../87984a25f7e8cbb6a19d285ae57e26cc4e4a18710/expr.ipynb\"><img src=\"../87984a25f7e8cbb6a19d285ae57e26cc4e4a18710/expr.png\" style=\"display:inline;vertical-align:middle;\" /></a></td></tr>\n",
       "<tr><td>34</td><td>ExprRange</td><td>lambda_map:&nbsp;35<br>start_index:&nbsp;36<br>end_index:&nbsp;37<br></td><td><a class=\"ProveItLink\" href=\"../../../../../../core_expr_types/__pv_it/common/0cd1658eec2aaa52c480be7ee3718bc0d4252e1b0/expr.ipynb\"><img src=\"../../../../../../core_expr_types/__pv_it/common/0cd1658eec2aaa52c480be7ee3718bc0d4252e1b0/expr.png\" style=\"display:inline;vertical-align:middle;\" /></a></td></tr>\n",
       "<tr><td>35</td><td>Lambda</td><td>parameter:&nbsp;41<br>body:&nbsp;38<br></td><td><a class=\"ProveItLink\" href=\"../../../../../../core_expr_types/__pv_it/common/d51b6313a4eb9f8dc367ca4753f290af006fadbb0/expr.ipynb\"><img src=\"../../../../../../core_expr_types/__pv_it/common/d51b6313a4eb9f8dc367ca4753f290af006fadbb0/expr.png\" style=\"display:inline;vertical-align:middle;\" /></a></td></tr>\n",
       "<tr><td>36</td><td>Literal</td><td></td><td><a class=\"ProveItLink\" href=\"../../../../../../numbers/numerals/__pv_it/common/682157d4892d216d9e5626ed533aff9b56b9506e0/expr.ipynb\"><img src=\"../../../../../../numbers/numerals/__pv_it/common/682157d4892d216d9e5626ed533aff9b56b9506e0/expr.png\" style=\"display:inline;vertical-align:middle;\" /></a></td></tr>\n",
       "<tr><td>37</td><td>Variable</td><td></td><td><a class=\"ProveItLink\" href=\"../../../../../../__pv_it/common/1ed21df18baca2f42b561a7ffbf30a2743d594650/expr.ipynb\"><img src=\"../../../../../../__pv_it/common/1ed21df18baca2f42b561a7ffbf30a2743d594650/expr.png\" style=\"display:inline;vertical-align:middle;\" /></a></td></tr>\n",
       "<tr><td>38</td><td>IndexedVar</td><td>variable:&nbsp;39<br>index:&nbsp;41<br></td><td><a class=\"ProveItLink\" href=\"../../../../../../core_expr_types/__pv_it/common/d1b4c772326349c6e4ef6ad6defb9c61a45fc9d80/expr.ipynb\"><img src=\"../../../../../../core_expr_types/__pv_it/common/d1b4c772326349c6e4ef6ad6defb9c61a45fc9d80/expr.png\" style=\"display:inline;vertical-align:middle;\" /></a></td></tr>\n",
       "<tr><td>39</td><td>Variable</td><td></td><td><a class=\"ProveItLink\" href=\"../../../../../../__pv_it/common/a9162d1c3cc0470c02e5daf414500903a7a419230/expr.ipynb\"><img src=\"../../../../../../__pv_it/common/a9162d1c3cc0470c02e5daf414500903a7a419230/expr.png\" style=\"display:inline;vertical-align:middle;\" /></a></td></tr>\n",
       "<tr><td>40</td><td>ExprTuple</td><td>41</td><td><a class=\"ProveItLink\" href=\"../../../../../../core_expr_types/__pv_it/common/4b0dd6be36d76552eda6a95d5b4a27f5a5b62f900/expr.ipynb\"><img src=\"../../../../../../core_expr_types/__pv_it/common/4b0dd6be36d76552eda6a95d5b4a27f5a5b62f900/expr.png\" style=\"display:inline;vertical-align:middle;\" /></a></td></tr>\n",
       "<tr><td>41</td><td>Variable</td><td></td><td><a class=\"ProveItLink\" href=\"../../../../../../core_expr_types/__pv_it/common/006c465e50948aa2b52285e2de47974f741255cc0/expr.ipynb\"><img src=\"../../../../../../core_expr_types/__pv_it/common/006c465e50948aa2b52285e2de47974f741255cc0/expr.png\" style=\"display:inline;vertical-align:middle;\" /></a></td></tr>\n",
       "</table>\n"
      ],
      "text/plain": [
       "0. {forall_{a in Complex} [forall_{B_{1}, B_{2}, ..., B_{j} | (B_{1} .  B_{2} .  ... .  B_{j}) in_c Q*} ((a. B_{1} .  B_{2} .  ... .  B_{j}) =  \\\\ (a * (B_{1} .  B_{2} .  ... .  B_{j})))] if j in NaturalPos.\n",
       "   core type: Conditional\n",
       "   value: 1\n",
       "   condition: 2\n",
       "1. forall_{a in Complex} [forall_{B_{1}, B_{2}, ..., B_{j} | (B_{1} .  B_{2} .  ... .  B_{j}) in_c Q*} ((a. B_{1} .  B_{2} .  ... .  B_{j}) =  \\\\ (a * (B_{1} .  B_{2} .  ... .  B_{j})))]\n",
       "   core type: Operation\n",
       "   operator: 11\n",
       "   operand: 5\n",
       "2. j in NaturalPos\n",
       "   core type: Operation\n",
       "   operator: 13\n",
       "   operands: 4\n",
       "3. (a -> {forall_{B_{1}, B_{2}, ..., B_{j} | (B_{1} .  B_{2} .  ... .  B_{j}) in_c Q*} ((a. B_{1} .  B_{2} .  ... .  B_{j}) =  \\\\ (a * (B_{1} .  B_{2} .  ... .  B_{j}))) if a in Complex.)\n",
       "   core type: ExprTuple\n",
       "   sub-expressions: 5\n",
       "4. (j, NaturalPos)\n",
       "   core type: ExprTuple\n",
       "   sub-expressions: 37, 6\n",
       "5. a -> {forall_{B_{1}, B_{2}, ..., B_{j} | (B_{1} .  B_{2} .  ... .  B_{j}) in_c Q*} ((a. B_{1} .  B_{2} .  ... .  B_{j}) =  \\\\ (a * (B_{1} .  B_{2} .  ... .  B_{j}))) if a in Complex.\n",
       "   core type: Lambda\n",
       "   parameter: 30\n",
       "   body: 8\n",
       "6. NaturalPos\n",
       "   core type: Literal\n",
       "   sub-expressions: \n",
       "7. (a)\n",
       "   core type: ExprTuple\n",
       "   sub-expressions: 30\n",
       "8. {forall_{B_{1}, B_{2}, ..., B_{j} | (B_{1} .  B_{2} .  ... .  B_{j}) in_c Q*} ((a. B_{1} .  B_{2} .  ... .  B_{j}) =  \\\\ (a * (B_{1} .  B_{2} .  ... .  B_{j}))) if a in Complex.\n",
       "   core type: Conditional\n",
       "   value: 9\n",
       "   condition: 10\n",
       "9. forall_{B_{1}, B_{2}, ..., B_{j} | (B_{1} .  B_{2} .  ... .  B_{j}) in_c Q*} ((a. B_{1} .  B_{2} .  ... .  B_{j}) =  \\\\ (a * (B_{1} .  B_{2} .  ... .  B_{j})))\n",
       "   core type: Operation\n",
       "   operator: 11\n",
       "   operand: 15\n",
       "10. a in Complex\n",
       "    core type: Operation\n",
       "    operator: 13\n",
       "    operands: 14\n",
       "11. forall\n",
       "    core type: Literal\n",
       "    sub-expressions: \n",
       "12. ((B_{1}, B_{2}, ..., B_{j}) -> {(a. B_{1} .  B_{2} .  ... .  B_{j}) =  \\\\ (a * (B_{1} .  B_{2} .  ... .  B_{j})) if (B_{1} .  B_{2} .  ... .  B_{j}) in_c Q*.)\n",
       "    core type: ExprTuple\n",
       "    sub-expressions: 15\n",
       "13. in\n",
       "    core type: Literal\n",
       "    sub-expressions: \n",
       "14. (a, Complex)\n",
       "    core type: ExprTuple\n",
       "    sub-expressions: 30, 16\n",
       "15. (B_{1}, B_{2}, ..., B_{j}) -> {(a. B_{1} .  B_{2} .  ... .  B_{j}) =  \\\\ (a * (B_{1} .  B_{2} .  ... .  B_{j})) if (B_{1} .  B_{2} .  ... .  B_{j}) in_c Q*.\n",
       "    core type: Lambda\n",
       "    parameters: 33\\n    body: 17\n",
       "16. Complex\n",
       "    core type: Literal\n",
       "    sub-expressions: \n",
       "17. {(a. B_{1} .  B_{2} .  ... .  B_{j}) =  \\\\ (a * (B_{1} .  B_{2} .  ... .  B_{j})) if (B_{1} .  B_{2} .  ... .  B_{j}) in_c Q*.\n",
       "    core type: Conditional\n",
       "    value: 18\n",
       "    condition: 19\n",
       "18. (a. B_{1} .  B_{2} .  ... .  B_{j}) =  \\\\ (a * (B_{1} .  B_{2} .  ... .  B_{j}))\n",
       "    core type: Operation\n",
       "    operator: 20\n",
       "    operands: 21\n",
       "19. (B_{1} .  B_{2} .  ... .  B_{j}) in_c Q*\n",
       "    core type: Operation\n",
       "    operator: 22\n",
       "    operands: 23\n",
       "20. =\n",
       "    core type: Literal\n",
       "    sub-expressions: \n",
       "21. (a. B_{1} .  B_{2} .  ... .  B_{j}, a * (B_{1} .  B_{2} .  ... .  B_{j}))\n",
       "    core type: ExprTuple\n",
       "    sub-expressions: 24, 25\n",
       "22. in_c\n",
       "    core type: Literal\n",
       "    sub-expressions: \n",
       "23. (B_{1} .  B_{2} .  ... .  B_{j}, Q*)\n",
       "    core type: ExprTuple\n",
       "    sub-expressions: 31, 26\n",
       "24. a. B_{1} .  B_{2} .  ... .  B_{j}\n",
       "    core type: Operation\n",
       "    operator: 32\n",
       "    operands: 27\n",
       "25. a * (B_{1} .  B_{2} .  ... .  B_{j})\n",
       "    core type: Operation\n",
       "    operator: 28\n",
       "    operands: 29\n",
       "26. Q*\n",
       "    core type: Literal\n",
       "    sub-expressions: \n",
       "27. (a,B_{1}, B_{2}, ..., B_{j})\n",
       "    core type: ExprTuple\n",
       "    sub-expressions: 30, 34\n",
       "28. *\n",
       "    core type: Literal\n",
       "    sub-expressions: \n",
       "29. (a, B_{1} .  B_{2} .  ... .  B_{j})\n",
       "    core type: ExprTuple\n",
       "    sub-expressions: 30, 31\n",
       "30. a\n",
       "    core type: Variable\n",
       "    sub-expressions: \n",
       "31. B_{1} .  B_{2} .  ... .  B_{j}\n",
       "    core type: Operation\n",
       "    operator: 32\n",
       "    operands: 33\n",
       "32. .\n",
       "    core type: Literal\n",
       "    sub-expressions: \n",
       "33. (B_{1}, B_{2}, ..., B_{j})\n",
       "    core type: ExprTuple\n",
       "    sub-expressions: 34\n",
       "34. B_{1}, B_{2}, ..., B_{j}\n",
       "    core type: ExprRange\n",
       "    lambda_map: 35\n",
       "    start_index: 36\n",
       "    end_index: 37\n",
       "35. _a -> B_{_a}\n",
       "    core type: Lambda\n",
       "    parameter: 41\n",
       "    body: 38\n",
       "36. 1\n",
       "    core type: Literal\n",
       "    sub-expressions: \n",
       "37. j\n",
       "    core type: Variable\n",
       "    sub-expressions: \n",
       "38. B_{_a}\n",
       "    core type: IndexedVar\n",
       "variable: 39\n",
       "index: 41\n",
       "39. B\n",
       "    core type: Variable\n",
       "    sub-expressions: \n",
       "40. (_a)\n",
       "    core type: ExprTuple\n",
       "    sub-expressions: 41\n",
       "41. _a\n",
       "    core type: Variable\n",
       "    sub-expressions: "
      ]
     },
     "metadata": {},
     "output_type": "display_data"
    }
   ],
   "source": [
    "# display the expression information\n",
    "stored_expr.expr_info()"
   ]
  },
  {
   "cell_type": "code",
   "execution_count": null,
   "metadata": {},
   "outputs": [],
   "source": []
  }
 ],
 "metadata": {
  "kernelspec": {
   "display_name": "Python 3",
   "language": "python",
   "name": "python3"
  }
 },
 "nbformat": 4,
 "nbformat_minor": 0
}