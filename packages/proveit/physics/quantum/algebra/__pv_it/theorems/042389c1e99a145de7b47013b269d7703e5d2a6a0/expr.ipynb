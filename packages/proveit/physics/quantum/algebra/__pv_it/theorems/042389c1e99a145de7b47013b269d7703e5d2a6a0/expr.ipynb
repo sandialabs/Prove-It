{
 "cells": [
  {
   "cell_type": "markdown",
   "metadata": {},
   "source": [
    "Expression of type <a class=\"ProveItLink\" href=\"../../../../../../../../doc/html/api/proveit.ExprTuple.html\">ExprTuple</a>\n",
    "=======================\n",
    "# from the theory of <a class=\"ProveItLink\" href=\"../../../_theory_nbs_/theory.ipynb\">proveit.physics.quantum.algebra</a>"
   ]
  },
  {
   "cell_type": "code",
   "execution_count": 1,
   "metadata": {},
   "outputs": [],
   "source": [
    "import proveit\n",
    "# Automation is not needed when building an expression:\n",
    "proveit.defaults.automation = False # This will speed things up.\n",
    "proveit.defaults.inline_pngs = False # Makes files smaller.\n",
    "%load_expr # Load the stored expression as 'stored_expr'\n",
    "# import Expression classes needed to build the expression\n",
    "from proveit import B, ExprRange, ExprTuple, IndexedVar, Variable, i\n",
    "from proveit.core_expr_types import A_1_to_m, C_1_to_n\n",
    "from proveit.numbers import one\n",
    "from proveit.physics.quantum import Qmult"
   ]
  },
  {
   "cell_type": "code",
   "execution_count": 2,
   "metadata": {},
   "outputs": [
    {
     "data": {
      "text/html": [
       "<strong id=\"expr\">expr:</strong> <a class=\"ProveItLink\" href=\"expr.ipynb\"><img src=\"expr.png\" style=\"display:inline;vertical-align:middle;\" /></a><br>"
      ],
      "text/plain": [
       "<IPython.core.display.HTML object>"
      ]
     },
     "metadata": {},
     "output_type": "display_data"
    }
   ],
   "source": [
    "# build up the expression from sub-expressions\n",
    "sub_expr1 = Variable(\"_b\", latex_format = r\"{_{-}b}\")\n",
    "expr = ExprTuple(ExprRange(sub_expr1, Qmult(A_1_to_m, IndexedVar(B, sub_expr1), C_1_to_n), one, i))"
   ]
  },
  {
   "cell_type": "code",
   "execution_count": 3,
   "metadata": {},
   "outputs": [
    {
     "name": "stdout",
     "output_type": "stream",
     "text": [
      "Passed sanity check: expr matches stored_expr\n"
     ]
    }
   ],
   "source": [
    "# check that the built expression is the same as the stored expression\n",
    "assert expr == stored_expr\n",
    "assert expr._style_id == stored_expr._style_id\n",
    "print(\"Passed sanity check: expr matches stored_expr\")"
   ]
  },
  {
   "cell_type": "code",
   "execution_count": 4,
   "metadata": {},
   "outputs": [
    {
     "name": "stdout",
     "output_type": "stream",
     "text": [
      "\\left(\\left(A_{1} \\thinspace  A_{2} \\thinspace  \\ldots \\thinspace  A_{m} \\thinspace B_{1}\\thinspace C_{1} \\thinspace  C_{2} \\thinspace  \\ldots \\thinspace  C_{n}\\right), \\left(A_{1} \\thinspace  A_{2} \\thinspace  \\ldots \\thinspace  A_{m} \\thinspace B_{2}\\thinspace C_{1} \\thinspace  C_{2} \\thinspace  \\ldots \\thinspace  C_{n}\\right), \\ldots, \\left(A_{1} \\thinspace  A_{2} \\thinspace  \\ldots \\thinspace  A_{m} \\thinspace B_{i}\\thinspace C_{1} \\thinspace  C_{2} \\thinspace  \\ldots \\thinspace  C_{n}\\right)\\right)\n"
     ]
    }
   ],
   "source": [
    "# Show the LaTeX representation of the expression for convenience if you need it.\n",
    "print(stored_expr.latex())"
   ]
  },
  {
   "cell_type": "code",
   "execution_count": 5,
   "metadata": {},
   "outputs": [
    {
     "data": {
      "text/html": [
       "no style options"
      ],
      "text/plain": [
       "no style options"
      ]
     },
     "metadata": {},
     "output_type": "display_data"
    }
   ],
   "source": [
    "stored_expr.style_options()"
   ]
  },
  {
   "cell_type": "code",
   "execution_count": 6,
   "metadata": {},
   "outputs": [
    {
     "data": {
      "text/html": [
       "<table><tr><th>&nbsp;</th><th>core type</th><th>sub-expressions</th><th>expression</th></tr>\n",
       "<tr><td>0</td><td>ExprTuple</td><td>1</td><td><a class=\"ProveItLink\" href=\"expr.ipynb\"><img src=\"expr.png\" style=\"display:inline;vertical-align:middle;\" /></a></td></tr>\n",
       "<tr><td>1</td><td>ExprRange</td><td>lambda_map:&nbsp;2<br>start_index:&nbsp;15<br>end_index:&nbsp;3<br></td><td><a class=\"ProveItLink\" href=\"../b000ec104ab8c0a51594ae9267bab6a7420f1cb70/expr.ipynb\"><img src=\"../b000ec104ab8c0a51594ae9267bab6a7420f1cb70/expr.png\" style=\"display:inline;vertical-align:middle;\" /></a></td></tr>\n",
       "<tr><td>2</td><td>Lambda</td><td>parameter:&nbsp;18<br>body:&nbsp;4<br></td><td><a class=\"ProveItLink\" href=\"../784d86c3df3575c324643003c220eee472afbe110/expr.ipynb\"><img src=\"../784d86c3df3575c324643003c220eee472afbe110/expr.png\" style=\"display:inline;vertical-align:middle;\" /></a></td></tr>\n",
       "<tr><td>3</td><td>Variable</td><td></td><td><a class=\"ProveItLink\" href=\"../../../../../../__pv_it/common/ae955345c83abf786c3aff8681cd5465beae262d0/expr.ipynb\"><img src=\"../../../../../../__pv_it/common/ae955345c83abf786c3aff8681cd5465beae262d0/expr.png\" style=\"display:inline;vertical-align:middle;\" /></a></td></tr>\n",
       "<tr><td>4</td><td>Operation</td><td>operator:&nbsp;5<br>operands:&nbsp;6<br></td><td><a class=\"ProveItLink\" href=\"../d84c574042775810aa58f9d107970a08ef42c9600/expr.ipynb\"><img src=\"../d84c574042775810aa58f9d107970a08ef42c9600/expr.png\" style=\"display:inline;vertical-align:middle;\" /></a></td></tr>\n",
       "<tr><td>5</td><td>Literal</td><td></td><td><a class=\"ProveItLink\" href=\"../../common/2972e0deb52c96565b39f905d407d7302ae287580/expr.ipynb\"><img src=\"../../common/2972e0deb52c96565b39f905d407d7302ae287580/expr.png\" style=\"display:inline;vertical-align:middle;\" /></a></td></tr>\n",
       "<tr><td>6</td><td>ExprTuple</td><td>7, 8, 9</td><td><a class=\"ProveItLink\" href=\"../0ed5e3ca9ce1e52f86c0f6910fca53ec2e59733c0/expr.ipynb\"><img src=\"../0ed5e3ca9ce1e52f86c0f6910fca53ec2e59733c0/expr.png\" style=\"display:inline;vertical-align:middle;\" /></a></td></tr>\n",
       "<tr><td>7</td><td>ExprRange</td><td>lambda_map:&nbsp;10<br>start_index:&nbsp;15<br>end_index:&nbsp;11<br></td><td><a class=\"ProveItLink\" href=\"../../../../../../core_expr_types/__pv_it/common/eaccd55f312202b1e754429bdfeaf22333037c330/expr.ipynb\"><img src=\"../../../../../../core_expr_types/__pv_it/common/eaccd55f312202b1e754429bdfeaf22333037c330/expr.png\" style=\"display:inline;vertical-align:middle;\" /></a></td></tr>\n",
       "<tr><td>8</td><td>IndexedVar</td><td>variable:&nbsp;12<br>index:&nbsp;18<br></td><td><a class=\"ProveItLink\" href=\"../1a516a5cf76fe68c2e6d227aef7bdd22488aad3b0/expr.ipynb\"><img src=\"../1a516a5cf76fe68c2e6d227aef7bdd22488aad3b0/expr.png\" style=\"display:inline;vertical-align:middle;\" /></a></td></tr>\n",
       "<tr><td>9</td><td>ExprRange</td><td>lambda_map:&nbsp;14<br>start_index:&nbsp;15<br>end_index:&nbsp;16<br></td><td><a class=\"ProveItLink\" href=\"../../../../../../core_expr_types/__pv_it/common/e7504afc0aea2366fbf28183721351f04720dfad0/expr.ipynb\"><img src=\"../../../../../../core_expr_types/__pv_it/common/e7504afc0aea2366fbf28183721351f04720dfad0/expr.png\" style=\"display:inline;vertical-align:middle;\" /></a></td></tr>\n",
       "<tr><td>10</td><td>Lambda</td><td>parameter:&nbsp;23<br>body:&nbsp;17<br></td><td><a class=\"ProveItLink\" href=\"../../../../../../core_expr_types/__pv_it/common/9332289e845003c758afc3bcee43498ae784f2d90/expr.ipynb\"><img src=\"../../../../../../core_expr_types/__pv_it/common/9332289e845003c758afc3bcee43498ae784f2d90/expr.png\" style=\"display:inline;vertical-align:middle;\" /></a></td></tr>\n",
       "<tr><td>11</td><td>Variable</td><td></td><td><a class=\"ProveItLink\" href=\"../../../../../../__pv_it/common/674a03b9c3ca221b3aabd5636837b31528ff33830/expr.ipynb\"><img src=\"../../../../../../__pv_it/common/674a03b9c3ca221b3aabd5636837b31528ff33830/expr.png\" style=\"display:inline;vertical-align:middle;\" /></a></td></tr>\n",
       "<tr><td>12</td><td>Variable</td><td></td><td><a class=\"ProveItLink\" href=\"../../../../../../__pv_it/common/a9162d1c3cc0470c02e5daf414500903a7a419230/expr.ipynb\"><img src=\"../../../../../../__pv_it/common/a9162d1c3cc0470c02e5daf414500903a7a419230/expr.png\" style=\"display:inline;vertical-align:middle;\" /></a></td></tr>\n",
       "<tr><td>13</td><td>ExprTuple</td><td>18</td><td><a class=\"ProveItLink\" href=\"../18f7318b68e45ff8356043b6e71619fa8450fb200/expr.ipynb\"><img src=\"../18f7318b68e45ff8356043b6e71619fa8450fb200/expr.png\" style=\"display:inline;vertical-align:middle;\" /></a></td></tr>\n",
       "<tr><td>14</td><td>Lambda</td><td>parameter:&nbsp;23<br>body:&nbsp;19<br></td><td><a class=\"ProveItLink\" href=\"../../../../../../core_expr_types/__pv_it/common/c9399abb980047fe39e716f375f641a4494b404b0/expr.ipynb\"><img src=\"../../../../../../core_expr_types/__pv_it/common/c9399abb980047fe39e716f375f641a4494b404b0/expr.png\" style=\"display:inline;vertical-align:middle;\" /></a></td></tr>\n",
       "<tr><td>15</td><td>Literal</td><td></td><td><a class=\"ProveItLink\" href=\"../../../../../../numbers/numerals/__pv_it/common/682157d4892d216d9e5626ed533aff9b56b9506e0/expr.ipynb\"><img src=\"../../../../../../numbers/numerals/__pv_it/common/682157d4892d216d9e5626ed533aff9b56b9506e0/expr.png\" style=\"display:inline;vertical-align:middle;\" /></a></td></tr>\n",
       "<tr><td>16</td><td>Variable</td><td></td><td><a class=\"ProveItLink\" href=\"../../../../../../__pv_it/common/8968bb04eb3f7dfa02353397ce929b025bbd79c20/expr.ipynb\"><img src=\"../../../../../../__pv_it/common/8968bb04eb3f7dfa02353397ce929b025bbd79c20/expr.png\" style=\"display:inline;vertical-align:middle;\" /></a></td></tr>\n",
       "<tr><td>17</td><td>IndexedVar</td><td>variable:&nbsp;20<br>index:&nbsp;23<br></td><td><a class=\"ProveItLink\" href=\"../../../../../../core_expr_types/__pv_it/common/9fdaaadf1b3d81a308244818dc08833e7f5035730/expr.ipynb\"><img src=\"../../../../../../core_expr_types/__pv_it/common/9fdaaadf1b3d81a308244818dc08833e7f5035730/expr.png\" style=\"display:inline;vertical-align:middle;\" /></a></td></tr>\n",
       "<tr><td>18</td><td>Variable</td><td></td><td><a class=\"ProveItLink\" href=\"../9a18d67b443cf8d92289c655ed91ec78766170a90/expr.ipynb\"><img src=\"../9a18d67b443cf8d92289c655ed91ec78766170a90/expr.png\" style=\"display:inline;vertical-align:middle;\" /></a></td></tr>\n",
       "<tr><td>19</td><td>IndexedVar</td><td>variable:&nbsp;21<br>index:&nbsp;23<br></td><td><a class=\"ProveItLink\" href=\"../../../../../../core_expr_types/__pv_it/common/f756bc205d05c1af04e1aeeb7a42469b1e89f9cf0/expr.ipynb\"><img src=\"../../../../../../core_expr_types/__pv_it/common/f756bc205d05c1af04e1aeeb7a42469b1e89f9cf0/expr.png\" style=\"display:inline;vertical-align:middle;\" /></a></td></tr>\n",
       "<tr><td>20</td><td>Variable</td><td></td><td><a class=\"ProveItLink\" href=\"../../../../../../__pv_it/common/09585084922504426caf1db2ff588a23a0932a960/expr.ipynb\"><img src=\"../../../../../../__pv_it/common/09585084922504426caf1db2ff588a23a0932a960/expr.png\" style=\"display:inline;vertical-align:middle;\" /></a></td></tr>\n",
       "<tr><td>21</td><td>Variable</td><td></td><td><a class=\"ProveItLink\" href=\"../../../../../../__pv_it/common/9fba9f29e823606ff4fdf2f1c6d5d08d906e850a0/expr.ipynb\"><img src=\"../../../../../../__pv_it/common/9fba9f29e823606ff4fdf2f1c6d5d08d906e850a0/expr.png\" style=\"display:inline;vertical-align:middle;\" /></a></td></tr>\n",
       "<tr><td>22</td><td>ExprTuple</td><td>23</td><td><a class=\"ProveItLink\" href=\"../../../../../../core_expr_types/__pv_it/common/4b0dd6be36d76552eda6a95d5b4a27f5a5b62f900/expr.ipynb\"><img src=\"../../../../../../core_expr_types/__pv_it/common/4b0dd6be36d76552eda6a95d5b4a27f5a5b62f900/expr.png\" style=\"display:inline;vertical-align:middle;\" /></a></td></tr>\n",
       "<tr><td>23</td><td>Variable</td><td></td><td><a class=\"ProveItLink\" href=\"../../../../../../core_expr_types/__pv_it/common/006c465e50948aa2b52285e2de47974f741255cc0/expr.ipynb\"><img src=\"../../../../../../core_expr_types/__pv_it/common/006c465e50948aa2b52285e2de47974f741255cc0/expr.png\" style=\"display:inline;vertical-align:middle;\" /></a></td></tr>\n",
       "</table>\n"
      ],
      "text/plain": [
       "0. ((A_{1} .  A_{2} .  ... .  A_{m} . B_{1}. C_{1} .  C_{2} .  ... .  C_{n}), (A_{1} .  A_{2} .  ... .  A_{m} . B_{2}. C_{1} .  C_{2} .  ... .  C_{n}), ..., (A_{1} .  A_{2} .  ... .  A_{m} . B_{i}. C_{1} .  C_{2} .  ... .  C_{n}))\n",
       "   core type: ExprTuple\n",
       "   sub-expressions: 1\n",
       "1. (A_{1} .  A_{2} .  ... .  A_{m} . B_{1}. C_{1} .  C_{2} .  ... .  C_{n}), (A_{1} .  A_{2} .  ... .  A_{m} . B_{2}. C_{1} .  C_{2} .  ... .  C_{n}), ..., (A_{1} .  A_{2} .  ... .  A_{m} . B_{i}. C_{1} .  C_{2} .  ... .  C_{n})\n",
       "   core type: ExprRange\n",
       "   lambda_map: 2\n",
       "   start_index: 15\n",
       "   end_index: 3\n",
       "2. _b -> (A_{1} .  A_{2} .  ... .  A_{m} . B_{_b}. C_{1} .  C_{2} .  ... .  C_{n})\n",
       "   core type: Lambda\n",
       "   parameter: 18\n",
       "   body: 4\n",
       "3. i\n",
       "   core type: Variable\n",
       "   sub-expressions: \n",
       "4. A_{1} .  A_{2} .  ... .  A_{m} . B_{_b}. C_{1} .  C_{2} .  ... .  C_{n}\n",
       "   core type: Operation\n",
       "   operator: 5\n",
       "   operands: 6\n",
       "5. .\n",
       "   core type: Literal\n",
       "   sub-expressions: \n",
       "6. (A_{1}, A_{2}, ..., A_{m}, B_{_b},C_{1}, C_{2}, ..., C_{n})\n",
       "   core type: ExprTuple\n",
       "   sub-expressions: 7, 8, 9\n",
       "7. A_{1}, A_{2}, ..., A_{m}\n",
       "   core type: ExprRange\n",
       "   lambda_map: 10\n",
       "   start_index: 15\n",
       "   end_index: 11\n",
       "8. B_{_b}\n",
       "   core type: IndexedVar\n",
       "variable: 12\n",
       "index: 18\n",
       "9. C_{1}, C_{2}, ..., C_{n}\n",
       "   core type: ExprRange\n",
       "   lambda_map: 14\n",
       "   start_index: 15\n",
       "   end_index: 16\n",
       "10. _a -> A_{_a}\n",
       "    core type: Lambda\n",
       "    parameter: 23\n",
       "    body: 17\n",
       "11. m\n",
       "    core type: Variable\n",
       "    sub-expressions: \n",
       "12. B\n",
       "    core type: Variable\n",
       "    sub-expressions: \n",
       "13. (_b)\n",
       "    core type: ExprTuple\n",
       "    sub-expressions: 18\n",
       "14. _a -> C_{_a}\n",
       "    core type: Lambda\n",
       "    parameter: 23\n",
       "    body: 19\n",
       "15. 1\n",
       "    core type: Literal\n",
       "    sub-expressions: \n",
       "16. n\n",
       "    core type: Variable\n",
       "    sub-expressions: \n",
       "17. A_{_a}\n",
       "    core type: IndexedVar\n",
       "variable: 20\n",
       "index: 23\n",
       "18. _b\n",
       "    core type: Variable\n",
       "    sub-expressions: \n",
       "19. C_{_a}\n",
       "    core type: IndexedVar\n",
       "variable: 21\n",
       "index: 23\n",
       "20. A\n",
       "    core type: Variable\n",
       "    sub-expressions: \n",
       "21. C\n",
       "    core type: Variable\n",
       "    sub-expressions: \n",
       "22. (_a)\n",
       "    core type: ExprTuple\n",
       "    sub-expressions: 23\n",
       "23. _a\n",
       "    core type: Variable\n",
       "    sub-expressions: "
      ]
     },
     "metadata": {},
     "output_type": "display_data"
    }
   ],
   "source": [
    "# display the expression information\n",
    "stored_expr.expr_info()"
   ]
  },
  {
   "cell_type": "code",
   "execution_count": null,
   "metadata": {},
   "outputs": [],
   "source": []
  }
 ],
 "metadata": {
  "kernelspec": {
   "display_name": "Python 3",
   "language": "python",
   "name": "python3"
  }
 },
 "nbformat": 4,
 "nbformat_minor": 0
}