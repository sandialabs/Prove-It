{
 "cells": [
  {
   "cell_type": "markdown",
   "metadata": {},
   "source": [
    "Expression of type <a class=\"ProveItLink\" href=\"../../../../../../../../doc/html/api/proveit.Conditional.html\">Conditional</a>\n",
    "=======================\n",
    "# from the theory of <a class=\"ProveItLink\" href=\"../../../_theory_nbs_/theory.ipynb\">proveit.physics.quantum.algebra</a>"
   ]
  },
  {
   "cell_type": "code",
   "execution_count": 1,
   "metadata": {},
   "outputs": [],
   "source": [
    "import proveit\n",
    "# Automation is not needed when building an expression:\n",
    "proveit.defaults.automation = False # This will speed things up.\n",
    "proveit.defaults.inline_pngs = False # Makes files smaller.\n",
    "%load_expr # Load the stored expression as 'stored_expr'\n",
    "# import Expression classes needed to build the expression\n",
    "from proveit import A, Conditional, D, U, V, n\n",
    "from proveit.linear_algebra import Diagonal, MatrixSpace, Unitary\n",
    "from proveit.logic import Equals, Exists, InSet\n",
    "from proveit.numbers import Complex\n",
    "from proveit.physics.quantum import Qmult"
   ]
  },
  {
   "cell_type": "code",
   "execution_count": 2,
   "metadata": {},
   "outputs": [
    {
     "data": {
      "text/html": [
       "<strong id=\"expr\">expr:</strong> <a class=\"ProveItLink\" href=\"expr.ipynb\"><img src=\"expr.png\" style=\"display:inline;vertical-align:middle;\" /></a><br>"
      ],
      "text/plain": [
       "<IPython.core.display.HTML object>"
      ]
     },
     "metadata": {},
     "output_type": "display_data"
    }
   ],
   "source": [
    "# build up the expression from sub-expressions\n",
    "expr = Conditional(Exists(instance_param_or_params = [D], instance_expr = Exists(instance_param_or_params = [U, V], instance_expr = Equals(A, Qmult(U, D, V)), domain = Unitary(n)), domain = Diagonal(n)), InSet(A, MatrixSpace(field = Complex, rows = n, columns = n)))"
   ]
  },
  {
   "cell_type": "code",
   "execution_count": 3,
   "metadata": {},
   "outputs": [
    {
     "name": "stdout",
     "output_type": "stream",
     "text": [
      "Passed sanity check: expr matches stored_expr\n"
     ]
    }
   ],
   "source": [
    "# check that the built expression is the same as the stored expression\n",
    "assert expr == stored_expr\n",
    "assert expr._style_id == stored_expr._style_id\n",
    "print(\"Passed sanity check: expr matches stored_expr\")"
   ]
  },
  {
   "cell_type": "code",
   "execution_count": 4,
   "metadata": {},
   "outputs": [
    {
     "name": "stdout",
     "output_type": "stream",
     "text": [
      "\\left\\{\\exists_{D \\in \\textrm{D}\\left(n\\right)}~\\left[\\exists_{U, V \\in \\textrm{U}\\left(n\\right)}~\\left(A = \\left(U \\thinspace D \\thinspace V\\right)\\right)\\right] \\textrm{ if } A \\in \\mathbb{C}^{n \\times n}\\right..\n"
     ]
    }
   ],
   "source": [
    "# Show the LaTeX representation of the expression for convenience if you need it.\n",
    "print(stored_expr.latex())"
   ]
  },
  {
   "cell_type": "code",
   "execution_count": 5,
   "metadata": {},
   "outputs": [
    {
     "data": {
      "text/html": [
       "<table>\n",
       "<tr><th>name</th><th>description</th><th>default</th><th>current value</th><th>related methods</th></tr><tr><td>condition_delimiter</td><td>'comma' or 'and'</td><td>comma</td><td>comma</td><td>('with_comma_delimiter', 'with_conjunction_delimiter')</td></tr>\n",
       "</table>\n"
      ],
      "text/plain": [
       "style name: condition_delimiter\n",
       "description: 'comma' or 'and'\n",
       "default: comma\n",
       "current value: comma\n",
       "related methods: ('with_comma_delimiter', 'with_conjunction_delimiter')"
      ]
     },
     "metadata": {},
     "output_type": "display_data"
    }
   ],
   "source": [
    "stored_expr.style_options()"
   ]
  },
  {
   "cell_type": "code",
   "execution_count": 6,
   "metadata": {},
   "outputs": [
    {
     "data": {
      "text/html": [
       "<table><tr><th>&nbsp;</th><th>core type</th><th>sub-expressions</th><th>expression</th></tr>\n",
       "<tr><td>0</td><td>Conditional</td><td>value:&nbsp;1<br>condition:&nbsp;2<br></td><td><a class=\"ProveItLink\" href=\"expr.ipynb\"><img src=\"expr.png\" style=\"display:inline;vertical-align:middle;\" /></a></td></tr>\n",
       "<tr><td>1</td><td>Operation</td><td>operator:&nbsp;14<br>operand:&nbsp;5<br></td><td><a class=\"ProveItLink\" href=\"../c0f6ee377e3de2d982e522993eb4c2930f6a08300/expr.ipynb\"><img src=\"../c0f6ee377e3de2d982e522993eb4c2930f6a08300/expr.png\" style=\"display:inline;vertical-align:middle;\" /></a></td></tr>\n",
       "<tr><td>2</td><td>Operation</td><td>operator:&nbsp;35<br>operands:&nbsp;4<br></td><td><a class=\"ProveItLink\" href=\"../322fce02588a1fffd58f8abc9e666b88428fdaf40/expr.ipynb\"><img src=\"../322fce02588a1fffd58f8abc9e666b88428fdaf40/expr.png\" style=\"display:inline;vertical-align:middle;\" /></a></td></tr>\n",
       "<tr><td>3</td><td>ExprTuple</td><td>5</td><td><a class=\"ProveItLink\" href=\"../31cef10fd8c5d8628dc5d5f35e93feb19669514d0/expr.ipynb\"><img src=\"../31cef10fd8c5d8628dc5d5f35e93feb19669514d0/expr.png\" style=\"display:inline;vertical-align:middle;\" /></a></td></tr>\n",
       "<tr><td>4</td><td>ExprTuple</td><td>28, 6</td><td><a class=\"ProveItLink\" href=\"../2c4baa68df6f8f3ac5445b731017dba4e268f1d80/expr.ipynb\"><img src=\"../2c4baa68df6f8f3ac5445b731017dba4e268f1d80/expr.png\" style=\"display:inline;vertical-align:middle;\" /></a></td></tr>\n",
       "<tr><td>5</td><td>Lambda</td><td>parameter:&nbsp;37<br>body:&nbsp;8<br></td><td><a class=\"ProveItLink\" href=\"../bfd4ed37486b26bbb7ef574ec86c3269f554feb10/expr.ipynb\"><img src=\"../bfd4ed37486b26bbb7ef574ec86c3269f554feb10/expr.png\" style=\"display:inline;vertical-align:middle;\" /></a></td></tr>\n",
       "<tr><td>6</td><td>Operation</td><td>operator:&nbsp;9<br>operands:&nbsp;10<br></td><td><a class=\"ProveItLink\" href=\"../8d22df76a1df4c9855c56d89686abf2059a6fbe60/expr.ipynb\"><img src=\"../8d22df76a1df4c9855c56d89686abf2059a6fbe60/expr.png\" style=\"display:inline;vertical-align:middle;\" /></a></td></tr>\n",
       "<tr><td>7</td><td>ExprTuple</td><td>37</td><td><a class=\"ProveItLink\" href=\"../c92bf9e71677950a95b5eb5b13e14c427ed6612a0/expr.ipynb\"><img src=\"../c92bf9e71677950a95b5eb5b13e14c427ed6612a0/expr.png\" style=\"display:inline;vertical-align:middle;\" /></a></td></tr>\n",
       "<tr><td>8</td><td>Conditional</td><td>value:&nbsp;11<br>condition:&nbsp;12<br></td><td><a class=\"ProveItLink\" href=\"../cbc9bf0eee1168f1cf2595fbb426603d1cf35d5b0/expr.ipynb\"><img src=\"../cbc9bf0eee1168f1cf2595fbb426603d1cf35d5b0/expr.png\" style=\"display:inline;vertical-align:middle;\" /></a></td></tr>\n",
       "<tr><td>9</td><td>Literal</td><td></td><td><a class=\"ProveItLink\" href=\"../../../../../../linear_algebra/matrices/__pv_it/common/41bfe9284ff6c5a59c371a3fff56a4201f4483c40/expr.ipynb\"><img src=\"../../../../../../linear_algebra/matrices/__pv_it/common/41bfe9284ff6c5a59c371a3fff56a4201f4483c40/expr.png\" style=\"display:inline;vertical-align:middle;\" /></a></td></tr>\n",
       "<tr><td>10</td><td>NamedExprs</td><td>field: 13<br>rows: 43<br>columns: 43<br></td><td><a class=\"ProveItLink\" href=\"../d4fa587477d78d25daa0ea1d863a110947e8533a0/expr.ipynb\"><img src=\"../d4fa587477d78d25daa0ea1d863a110947e8533a0/expr.png\" style=\"display:inline;vertical-align:middle;\" /></a></td></tr>\n",
       "<tr><td>11</td><td>Operation</td><td>operator:&nbsp;14<br>operand:&nbsp;17<br></td><td><a class=\"ProveItLink\" href=\"../81f83b4e46c99cfbaac070610b9673062c090d5d0/expr.ipynb\"><img src=\"../81f83b4e46c99cfbaac070610b9673062c090d5d0/expr.png\" style=\"display:inline;vertical-align:middle;\" /></a></td></tr>\n",
       "<tr><td>12</td><td>Operation</td><td>operator:&nbsp;35<br>operands:&nbsp;16<br></td><td><a class=\"ProveItLink\" href=\"../9e510bf04a8ea53859ce6700f0f1505da7f7098c0/expr.ipynb\"><img src=\"../9e510bf04a8ea53859ce6700f0f1505da7f7098c0/expr.png\" style=\"display:inline;vertical-align:middle;\" /></a></td></tr>\n",
       "<tr><td>13</td><td>Literal</td><td></td><td><a class=\"ProveItLink\" href=\"../../../../../../numbers/number_sets/complex_numbers/__pv_it/common/d18a028138f659eda00de597c28a3447fe87eb100/expr.ipynb\"><img src=\"../../../../../../numbers/number_sets/complex_numbers/__pv_it/common/d18a028138f659eda00de597c28a3447fe87eb100/expr.png\" style=\"display:inline;vertical-align:middle;\" /></a></td></tr>\n",
       "<tr><td>14</td><td>Literal</td><td></td><td><a class=\"ProveItLink\" href=\"../../../../../../logic/booleans/quantification/existence/__pv_it/common/fedc3809ed9823aab11264c156786a59540352e70/expr.ipynb\"><img src=\"../../../../../../logic/booleans/quantification/existence/__pv_it/common/fedc3809ed9823aab11264c156786a59540352e70/expr.png\" style=\"display:inline;vertical-align:middle;\" /></a></td></tr>\n",
       "<tr><td>15</td><td>ExprTuple</td><td>17</td><td><a class=\"ProveItLink\" href=\"../952e0bbe468f2f35d7aa81b67b7ac490818818a20/expr.ipynb\"><img src=\"../952e0bbe468f2f35d7aa81b67b7ac490818818a20/expr.png\" style=\"display:inline;vertical-align:middle;\" /></a></td></tr>\n",
       "<tr><td>16</td><td>ExprTuple</td><td>37, 18</td><td><a class=\"ProveItLink\" href=\"../969236582a8bb50f563118681e3d9aa9342e50f60/expr.ipynb\"><img src=\"../969236582a8bb50f563118681e3d9aa9342e50f60/expr.png\" style=\"display:inline;vertical-align:middle;\" /></a></td></tr>\n",
       "<tr><td>17</td><td>Lambda</td><td>parameters:&nbsp;19<br>body:&nbsp;20<br></td><td><a class=\"ProveItLink\" href=\"../1f3b23f231416f5cd9b87c62728db5951de252e40/expr.ipynb\"><img src=\"../1f3b23f231416f5cd9b87c62728db5951de252e40/expr.png\" style=\"display:inline;vertical-align:middle;\" /></a></td></tr>\n",
       "<tr><td>18</td><td>Operation</td><td>operator:&nbsp;21<br>operand:&nbsp;43<br></td><td><a class=\"ProveItLink\" href=\"../89faadf25a28a27d52cb9aa1db3696616cc2caea0/expr.ipynb\"><img src=\"../89faadf25a28a27d52cb9aa1db3696616cc2caea0/expr.png\" style=\"display:inline;vertical-align:middle;\" /></a></td></tr>\n",
       "<tr><td>19</td><td>ExprTuple</td><td>38, 39</td><td><a class=\"ProveItLink\" href=\"../48dc76346d86b49f36cb2d7c6a4d4b5b543910e80/expr.ipynb\"><img src=\"../48dc76346d86b49f36cb2d7c6a4d4b5b543910e80/expr.png\" style=\"display:inline;vertical-align:middle;\" /></a></td></tr>\n",
       "<tr><td>20</td><td>Conditional</td><td>value:&nbsp;22<br>condition:&nbsp;23<br></td><td><a class=\"ProveItLink\" href=\"../0bbad3f7a7b9c99b0484d666a5633665d7c9602c0/expr.ipynb\"><img src=\"../0bbad3f7a7b9c99b0484d666a5633665d7c9602c0/expr.png\" style=\"display:inline;vertical-align:middle;\" /></a></td></tr>\n",
       "<tr><td>21</td><td>Literal</td><td></td><td><a class=\"ProveItLink\" href=\"../../../../../../linear_algebra/matrices/__pv_it/common/141f67e93d0338bac114d8f5006186db535bed320/expr.ipynb\"><img src=\"../../../../../../linear_algebra/matrices/__pv_it/common/141f67e93d0338bac114d8f5006186db535bed320/expr.png\" style=\"display:inline;vertical-align:middle;\" /></a></td></tr>\n",
       "<tr><td>22</td><td>Operation</td><td>operator:&nbsp;24<br>operands:&nbsp;25<br></td><td><a class=\"ProveItLink\" href=\"../1f36ce98d5b69aa439ba93058b774f123d98cf490/expr.ipynb\"><img src=\"../1f36ce98d5b69aa439ba93058b774f123d98cf490/expr.png\" style=\"display:inline;vertical-align:middle;\" /></a></td></tr>\n",
       "<tr><td>23</td><td>Operation</td><td>operator:&nbsp;26<br>operands:&nbsp;27<br></td><td><a class=\"ProveItLink\" href=\"../bff1517ac53dcc26ac35a7c391f4080deb9a86210/expr.ipynb\"><img src=\"../bff1517ac53dcc26ac35a7c391f4080deb9a86210/expr.png\" style=\"display:inline;vertical-align:middle;\" /></a></td></tr>\n",
       "<tr><td>24</td><td>Literal</td><td></td><td><a class=\"ProveItLink\" href=\"../../../../../../logic/equality/__pv_it/common/fb96dc12b2aa8801dda64d0132b396c63d1502bb0/expr.ipynb\"><img src=\"../../../../../../logic/equality/__pv_it/common/fb96dc12b2aa8801dda64d0132b396c63d1502bb0/expr.png\" style=\"display:inline;vertical-align:middle;\" /></a></td></tr>\n",
       "<tr><td>25</td><td>ExprTuple</td><td>28, 29</td><td><a class=\"ProveItLink\" href=\"../9d27bee3159e5f0ee1fb86d5c997ce49ff0bc9f60/expr.ipynb\"><img src=\"../9d27bee3159e5f0ee1fb86d5c997ce49ff0bc9f60/expr.png\" style=\"display:inline;vertical-align:middle;\" /></a></td></tr>\n",
       "<tr><td>26</td><td>Literal</td><td></td><td><a class=\"ProveItLink\" href=\"../../../../../../logic/booleans/conjunction/__pv_it/common/42118ff318bd65d98b1393f64ce7c2269feef76e0/expr.ipynb\"><img src=\"../../../../../../logic/booleans/conjunction/__pv_it/common/42118ff318bd65d98b1393f64ce7c2269feef76e0/expr.png\" style=\"display:inline;vertical-align:middle;\" /></a></td></tr>\n",
       "<tr><td>27</td><td>ExprTuple</td><td>30, 31</td><td><a class=\"ProveItLink\" href=\"../b6935a5ec2c4b638d918bd7e1422fc9586fbe46c0/expr.ipynb\"><img src=\"../b6935a5ec2c4b638d918bd7e1422fc9586fbe46c0/expr.png\" style=\"display:inline;vertical-align:middle;\" /></a></td></tr>\n",
       "<tr><td>28</td><td>Variable</td><td></td><td><a class=\"ProveItLink\" href=\"../../../../../../__pv_it/common/09585084922504426caf1db2ff588a23a0932a960/expr.ipynb\"><img src=\"../../../../../../__pv_it/common/09585084922504426caf1db2ff588a23a0932a960/expr.png\" style=\"display:inline;vertical-align:middle;\" /></a></td></tr>\n",
       "<tr><td>29</td><td>Operation</td><td>operator:&nbsp;32<br>operands:&nbsp;33<br></td><td><a class=\"ProveItLink\" href=\"../009d8996aa8005e7a8b3442fd7f8cf3683d5756d0/expr.ipynb\"><img src=\"../009d8996aa8005e7a8b3442fd7f8cf3683d5756d0/expr.png\" style=\"display:inline;vertical-align:middle;\" /></a></td></tr>\n",
       "<tr><td>30</td><td>Operation</td><td>operator:&nbsp;35<br>operands:&nbsp;34<br></td><td><a class=\"ProveItLink\" href=\"../6f8874369dd332f35be86c889ba6f17462f480c90/expr.ipynb\"><img src=\"../6f8874369dd332f35be86c889ba6f17462f480c90/expr.png\" style=\"display:inline;vertical-align:middle;\" /></a></td></tr>\n",
       "<tr><td>31</td><td>Operation</td><td>operator:&nbsp;35<br>operands:&nbsp;36<br></td><td><a class=\"ProveItLink\" href=\"../dfc415a4a703eb3073920705845a63f1b639151d0/expr.ipynb\"><img src=\"../dfc415a4a703eb3073920705845a63f1b639151d0/expr.png\" style=\"display:inline;vertical-align:middle;\" /></a></td></tr>\n",
       "<tr><td>32</td><td>Literal</td><td></td><td><a class=\"ProveItLink\" href=\"../../common/2972e0deb52c96565b39f905d407d7302ae287580/expr.ipynb\"><img src=\"../../common/2972e0deb52c96565b39f905d407d7302ae287580/expr.png\" style=\"display:inline;vertical-align:middle;\" /></a></td></tr>\n",
       "<tr><td>33</td><td>ExprTuple</td><td>38, 37, 39</td><td><a class=\"ProveItLink\" href=\"../08902da938a78dcefbea34af816d0866d70ccc2e0/expr.ipynb\"><img src=\"../08902da938a78dcefbea34af816d0866d70ccc2e0/expr.png\" style=\"display:inline;vertical-align:middle;\" /></a></td></tr>\n",
       "<tr><td>34</td><td>ExprTuple</td><td>38, 40</td><td><a class=\"ProveItLink\" href=\"../ac99e23ca1b14a8cf60951890f4efe3fa8824dcd0/expr.ipynb\"><img src=\"../ac99e23ca1b14a8cf60951890f4efe3fa8824dcd0/expr.png\" style=\"display:inline;vertical-align:middle;\" /></a></td></tr>\n",
       "<tr><td>35</td><td>Literal</td><td></td><td><a class=\"ProveItLink\" href=\"../../../../../../logic/sets/membership/__pv_it/common/477487d8796864d23d5810f83761435f25167f690/expr.ipynb\"><img src=\"../../../../../../logic/sets/membership/__pv_it/common/477487d8796864d23d5810f83761435f25167f690/expr.png\" style=\"display:inline;vertical-align:middle;\" /></a></td></tr>\n",
       "<tr><td>36</td><td>ExprTuple</td><td>39, 40</td><td><a class=\"ProveItLink\" href=\"../fb284f1a5bd64d8193a769600cf13fc32cf3b7b90/expr.ipynb\"><img src=\"../fb284f1a5bd64d8193a769600cf13fc32cf3b7b90/expr.png\" style=\"display:inline;vertical-align:middle;\" /></a></td></tr>\n",
       "<tr><td>37</td><td>Variable</td><td></td><td><a class=\"ProveItLink\" href=\"../../../../../../__pv_it/common/8d36d28f3636cdaa66f8b7d56eb3bbf0b50f70200/expr.ipynb\"><img src=\"../../../../../../__pv_it/common/8d36d28f3636cdaa66f8b7d56eb3bbf0b50f70200/expr.png\" style=\"display:inline;vertical-align:middle;\" /></a></td></tr>\n",
       "<tr><td>38</td><td>Variable</td><td></td><td><a class=\"ProveItLink\" href=\"../../../../../../__pv_it/common/2586cdae2fd2785a5bcbf61f99f7aaf8229d775e0/expr.ipynb\"><img src=\"../../../../../../__pv_it/common/2586cdae2fd2785a5bcbf61f99f7aaf8229d775e0/expr.png\" style=\"display:inline;vertical-align:middle;\" /></a></td></tr>\n",
       "<tr><td>39</td><td>Variable</td><td></td><td><a class=\"ProveItLink\" href=\"../../../../../../__pv_it/common/6d80eb1398b2335bf9ec427954b851b7094dced50/expr.ipynb\"><img src=\"../../../../../../__pv_it/common/6d80eb1398b2335bf9ec427954b851b7094dced50/expr.png\" style=\"display:inline;vertical-align:middle;\" /></a></td></tr>\n",
       "<tr><td>40</td><td>Operation</td><td>operator:&nbsp;41<br>operand:&nbsp;43<br></td><td><a class=\"ProveItLink\" href=\"../a295712b2a9ba13f92ad8da2b3c9bd2fe7e48dce0/expr.ipynb\"><img src=\"../a295712b2a9ba13f92ad8da2b3c9bd2fe7e48dce0/expr.png\" style=\"display:inline;vertical-align:middle;\" /></a></td></tr>\n",
       "<tr><td>41</td><td>Literal</td><td></td><td><a class=\"ProveItLink\" href=\"../../../../../../linear_algebra/matrices/__pv_it/common/4ef8603cb69b80b124ebf92d970050986c8869e80/expr.ipynb\"><img src=\"../../../../../../linear_algebra/matrices/__pv_it/common/4ef8603cb69b80b124ebf92d970050986c8869e80/expr.png\" style=\"display:inline;vertical-align:middle;\" /></a></td></tr>\n",
       "<tr><td>42</td><td>ExprTuple</td><td>43</td><td><a class=\"ProveItLink\" href=\"../ca565dff2751ea9a3b48fe855133b9e0c2eca83f0/expr.ipynb\"><img src=\"../ca565dff2751ea9a3b48fe855133b9e0c2eca83f0/expr.png\" style=\"display:inline;vertical-align:middle;\" /></a></td></tr>\n",
       "<tr><td>43</td><td>Variable</td><td></td><td><a class=\"ProveItLink\" href=\"../../../../../../__pv_it/common/8968bb04eb3f7dfa02353397ce929b025bbd79c20/expr.ipynb\"><img src=\"../../../../../../__pv_it/common/8968bb04eb3f7dfa02353397ce929b025bbd79c20/expr.png\" style=\"display:inline;vertical-align:middle;\" /></a></td></tr>\n",
       "</table>\n"
      ],
      "text/plain": [
       "0. {exists_{D in D(n)} [exists_{U, V in U(n)} (A = (U . D . V))] if A in Complex^{n x n}.\n",
       "   core type: Conditional\n",
       "   value: 1\n",
       "   condition: 2\n",
       "1. exists_{D in D(n)} [exists_{U, V in U(n)} (A = (U . D . V))]\n",
       "   core type: Operation\n",
       "   operator: 14\n",
       "   operand: 5\n",
       "2. A in Complex^{n x n}\n",
       "   core type: Operation\n",
       "   operator: 35\n",
       "   operands: 4\n",
       "3. (D -> {exists_{U, V in U(n)} (A = (U . D . V)) if D in D(n).)\n",
       "   core type: ExprTuple\n",
       "   sub-expressions: 5\n",
       "4. (A, Complex^{n x n})\n",
       "   core type: ExprTuple\n",
       "   sub-expressions: 28, 6\n",
       "5. D -> {exists_{U, V in U(n)} (A = (U . D . V)) if D in D(n).\n",
       "   core type: Lambda\n",
       "   parameter: 37\n",
       "   body: 8\n",
       "6. Complex^{n x n}\n",
       "   core type: Operation\n",
       "   operator: 9\n",
       "   operands: 10\n",
       "7. (D)\n",
       "   core type: ExprTuple\n",
       "   sub-expressions: 37\n",
       "8. {exists_{U, V in U(n)} (A = (U . D . V)) if D in D(n).\n",
       "   core type: Conditional\n",
       "   value: 11\n",
       "   condition: 12\n",
       "9. MSpace\n",
       "   core type: Literal\n",
       "   sub-expressions: \n",
       "10. {field:Complex, rows:n, columns:n}\n",
       "    core type: NamedExprs\n",
       "    field: 13\n",
       "    rows: 43\n",
       "    columns: 43\n",
       "11. exists_{U, V in U(n)} (A = (U . D . V))\n",
       "    core type: Operation\n",
       "    operator: 14\n",
       "    operand: 17\n",
       "12. D in D(n)\n",
       "    core type: Operation\n",
       "    operator: 35\n",
       "    operands: 16\n",
       "13. Complex\n",
       "    core type: Literal\n",
       "    sub-expressions: \n",
       "14. exists\n",
       "    core type: Literal\n",
       "    sub-expressions: \n",
       "15. ((U, V) -> {A = (U . D . V) if U in U(n) ,  V in U(n).)\n",
       "    core type: ExprTuple\n",
       "    sub-expressions: 17\n",
       "16. (D, D(n))\n",
       "    core type: ExprTuple\n",
       "    sub-expressions: 37, 18\n",
       "17. (U, V) -> {A = (U . D . V) if U in U(n) ,  V in U(n).\n",
       "    core type: Lambda\n",
       "    parameters: 19\\n    body: 20\n",
       "18. D(n)\n",
       "    core type: Operation\n",
       "    operator: 21\n",
       "    operand: 43\n",
       "19. (U, V)\n",
       "    core type: ExprTuple\n",
       "    sub-expressions: 38, 39\n",
       "20. {A = (U . D . V) if U in U(n) ,  V in U(n).\n",
       "    core type: Conditional\n",
       "    value: 22\n",
       "    condition: 23\n",
       "21. D\n",
       "    core type: Literal\n",
       "    sub-expressions: \n",
       "22. A = (U . D . V)\n",
       "    core type: Operation\n",
       "    operator: 24\n",
       "    operands: 25\n",
       "23. (U in U(n)) and (V in U(n))\n",
       "    core type: Operation\n",
       "    operator: 26\n",
       "    operands: 27\n",
       "24. =\n",
       "    core type: Literal\n",
       "    sub-expressions: \n",
       "25. (A, U . D . V)\n",
       "    core type: ExprTuple\n",
       "    sub-expressions: 28, 29\n",
       "26. and\n",
       "    core type: Literal\n",
       "    sub-expressions: \n",
       "27. (U in U(n), V in U(n))\n",
       "    core type: ExprTuple\n",
       "    sub-expressions: 30, 31\n",
       "28. A\n",
       "    core type: Variable\n",
       "    sub-expressions: \n",
       "29. U . D . V\n",
       "    core type: Operation\n",
       "    operator: 32\n",
       "    operands: 33\n",
       "30. U in U(n)\n",
       "    core type: Operation\n",
       "    operator: 35\n",
       "    operands: 34\n",
       "31. V in U(n)\n",
       "    core type: Operation\n",
       "    operator: 35\n",
       "    operands: 36\n",
       "32. .\n",
       "    core type: Literal\n",
       "    sub-expressions: \n",
       "33. (U, D, V)\n",
       "    core type: ExprTuple\n",
       "    sub-expressions: 38, 37, 39\n",
       "34. (U, U(n))\n",
       "    core type: ExprTuple\n",
       "    sub-expressions: 38, 40\n",
       "35. in\n",
       "    core type: Literal\n",
       "    sub-expressions: \n",
       "36. (V, U(n))\n",
       "    core type: ExprTuple\n",
       "    sub-expressions: 39, 40\n",
       "37. D\n",
       "    core type: Variable\n",
       "    sub-expressions: \n",
       "38. U\n",
       "    core type: Variable\n",
       "    sub-expressions: \n",
       "39. V\n",
       "    core type: Variable\n",
       "    sub-expressions: \n",
       "40. U(n)\n",
       "    core type: Operation\n",
       "    operator: 41\n",
       "    operand: 43\n",
       "41. U\n",
       "    core type: Literal\n",
       "    sub-expressions: \n",
       "42. (n)\n",
       "    core type: ExprTuple\n",
       "    sub-expressions: 43\n",
       "43. n\n",
       "    core type: Variable\n",
       "    sub-expressions: "
      ]
     },
     "metadata": {},
     "output_type": "display_data"
    }
   ],
   "source": [
    "# display the expression information\n",
    "stored_expr.expr_info()"
   ]
  },
  {
   "cell_type": "code",
   "execution_count": null,
   "metadata": {},
   "outputs": [],
   "source": []
  }
 ],
 "metadata": {
  "kernelspec": {
   "display_name": "Python 3",
   "language": "python",
   "name": "python3"
  }
 },
 "nbformat": 4,
 "nbformat_minor": 0
}