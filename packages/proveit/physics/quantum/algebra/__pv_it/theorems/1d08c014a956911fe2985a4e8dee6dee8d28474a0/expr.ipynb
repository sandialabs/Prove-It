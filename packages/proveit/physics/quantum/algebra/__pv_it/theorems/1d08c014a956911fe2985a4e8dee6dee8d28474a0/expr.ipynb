{
 "cells": [
  {
   "cell_type": "markdown",
   "metadata": {},
   "source": [
    "Expression of type <a class=\"ProveItLink\" href=\"../../../../../../../../doc/html/api/proveit.Lambda.html\">Lambda</a>\n",
    "=======================\n",
    "# from the theory of <a class=\"ProveItLink\" href=\"../../../_theory_nbs_/theory.ipynb\">proveit.physics.quantum.algebra</a>"
   ]
  },
  {
   "cell_type": "code",
   "execution_count": 1,
   "metadata": {},
   "outputs": [],
   "source": [
    "import proveit\n",
    "# Automation is not needed when building an expression:\n",
    "proveit.defaults.automation = False # This will speed things up.\n",
    "proveit.defaults.inline_pngs = False # Makes files smaller.\n",
    "%load_expr # Load the stored expression as 'stored_expr'\n",
    "# import Expression classes needed to build the expression\n",
    "from proveit import A, Conditional, Lambda, X\n",
    "from proveit.linear_algebra import Hspace, LinMap\n",
    "from proveit.logic import Forall, InClass, InSet\n",
    "from proveit.physics.quantum import Qmult, QmultCodomain, var_ket_psi"
   ]
  },
  {
   "cell_type": "code",
   "execution_count": 2,
   "metadata": {},
   "outputs": [
    {
     "data": {
      "text/html": [
       "<strong id=\"expr\">expr:</strong> <a class=\"ProveItLink\" href=\"expr.ipynb\"><img src=\"expr.png\" style=\"display:inline;vertical-align:middle;\" /></a><br>"
      ],
      "text/plain": [
       "<IPython.core.display.HTML object>"
      ]
     },
     "metadata": {},
     "output_type": "display_data"
    }
   ],
   "source": [
    "# build up the expression from sub-expressions\n",
    "expr = Lambda(A, Conditional(Forall(instance_param_or_params = [var_ket_psi], instance_expr = InClass(Qmult(A, var_ket_psi), QmultCodomain), domain = Hspace), InSet(Qmult(A), LinMap(Hspace, X))))"
   ]
  },
  {
   "cell_type": "code",
   "execution_count": 3,
   "metadata": {},
   "outputs": [
    {
     "name": "stdout",
     "output_type": "stream",
     "text": [
      "Passed sanity check: expr matches stored_expr\n"
     ]
    }
   ],
   "source": [
    "# check that the built expression is the same as the stored expression\n",
    "assert expr == stored_expr\n",
    "assert expr._style_id == stored_expr._style_id\n",
    "print(\"Passed sanity check: expr matches stored_expr\")"
   ]
  },
  {
   "cell_type": "code",
   "execution_count": 4,
   "metadata": {},
   "outputs": [
    {
     "name": "stdout",
     "output_type": "stream",
     "text": [
      "A \\mapsto \\left\\{\\forall_{\\lvert \\psi \\rangle \\in \\mathcal{H}}~\\left(\\left(A \\thinspace \\lvert \\psi \\rangle\\right) \\underset{{\\scriptscriptstyle c}}{\\in} \\mathcal{Q^*}\\right) \\textrm{ if } \\left[A\\right] \\in \\mathcal{L}\\left(\\mathcal{H}, X\\right)\\right..\n"
     ]
    }
   ],
   "source": [
    "# Show the LaTeX representation of the expression for convenience if you need it.\n",
    "print(stored_expr.latex())"
   ]
  },
  {
   "cell_type": "code",
   "execution_count": 5,
   "metadata": {},
   "outputs": [
    {
     "data": {
      "text/html": [
       "no style options"
      ],
      "text/plain": [
       "no style options"
      ]
     },
     "metadata": {},
     "output_type": "display_data"
    }
   ],
   "source": [
    "stored_expr.style_options()"
   ]
  },
  {
   "cell_type": "code",
   "execution_count": 6,
   "metadata": {},
   "outputs": [
    {
     "data": {
      "text/html": [
       "<table><tr><th>&nbsp;</th><th>core type</th><th>sub-expressions</th><th>expression</th></tr>\n",
       "<tr><td>0</td><td>Lambda</td><td>parameter:&nbsp;27<br>body:&nbsp;1<br></td><td><a class=\"ProveItLink\" href=\"expr.ipynb\"><img src=\"expr.png\" style=\"display:inline;vertical-align:middle;\" /></a></td></tr>\n",
       "<tr><td>1</td><td>Conditional</td><td>value:&nbsp;2<br>condition:&nbsp;3<br></td><td><a class=\"ProveItLink\" href=\"../d124526abceee6db56578d8b506ef0dd694d9ea90/expr.ipynb\"><img src=\"../d124526abceee6db56578d8b506ef0dd694d9ea90/expr.png\" style=\"display:inline;vertical-align:middle;\" /></a></td></tr>\n",
       "<tr><td>2</td><td>Operation</td><td>operator:&nbsp;4<br>operand:&nbsp;7<br></td><td><a class=\"ProveItLink\" href=\"../6999a905c160bb4d5c8a1e13af349b4699e0afe80/expr.ipynb\"><img src=\"../6999a905c160bb4d5c8a1e13af349b4699e0afe80/expr.png\" style=\"display:inline;vertical-align:middle;\" /></a></td></tr>\n",
       "<tr><td>3</td><td>Operation</td><td>operator:&nbsp;20<br>operands:&nbsp;6<br></td><td><a class=\"ProveItLink\" href=\"../4da3bc5aac7c042b1d0a26d275750b2a700713e80/expr.ipynb\"><img src=\"../4da3bc5aac7c042b1d0a26d275750b2a700713e80/expr.png\" style=\"display:inline;vertical-align:middle;\" /></a></td></tr>\n",
       "<tr><td>4</td><td>Literal</td><td></td><td><a class=\"ProveItLink\" href=\"../../../../../../logic/booleans/quantification/universality/__pv_it/common/083d2baa0b8ecab1d230f9ec29a15aa1355809fb0/expr.ipynb\"><img src=\"../../../../../../logic/booleans/quantification/universality/__pv_it/common/083d2baa0b8ecab1d230f9ec29a15aa1355809fb0/expr.png\" style=\"display:inline;vertical-align:middle;\" /></a></td></tr>\n",
       "<tr><td>5</td><td>ExprTuple</td><td>7</td><td><a class=\"ProveItLink\" href=\"../0a19cfd57dd2c3f2bed4d484c6ad8aa4fb6955650/expr.ipynb\"><img src=\"../0a19cfd57dd2c3f2bed4d484c6ad8aa4fb6955650/expr.png\" style=\"display:inline;vertical-align:middle;\" /></a></td></tr>\n",
       "<tr><td>6</td><td>ExprTuple</td><td>8, 9</td><td><a class=\"ProveItLink\" href=\"../c5436730d210cdcdfb45ddd315722f1b50cb2e9d0/expr.ipynb\"><img src=\"../c5436730d210cdcdfb45ddd315722f1b50cb2e9d0/expr.png\" style=\"display:inline;vertical-align:middle;\" /></a></td></tr>\n",
       "<tr><td>7</td><td>Lambda</td><td>parameter:&nbsp;28<br>body:&nbsp;11<br></td><td><a class=\"ProveItLink\" href=\"../b3538876a831cf0143a01cab2f8277fe11e49e930/expr.ipynb\"><img src=\"../b3538876a831cf0143a01cab2f8277fe11e49e930/expr.png\" style=\"display:inline;vertical-align:middle;\" /></a></td></tr>\n",
       "<tr><td>8</td><td>Operation</td><td>operator:&nbsp;25<br>operand:&nbsp;27<br></td><td><a class=\"ProveItLink\" href=\"../fe02f8ed473f63760113f4f1e5a035bfa1e779460/expr.ipynb\"><img src=\"../fe02f8ed473f63760113f4f1e5a035bfa1e779460/expr.png\" style=\"display:inline;vertical-align:middle;\" /></a></td></tr>\n",
       "<tr><td>9</td><td>Operation</td><td>operator:&nbsp;13<br>operands:&nbsp;14<br></td><td><a class=\"ProveItLink\" href=\"../7ab5ea9149ebf1472e1d711f62e59f07c5e1fdfa0/expr.ipynb\"><img src=\"../7ab5ea9149ebf1472e1d711f62e59f07c5e1fdfa0/expr.png\" style=\"display:inline;vertical-align:middle;\" /></a></td></tr>\n",
       "<tr><td>10</td><td>ExprTuple</td><td>28</td><td><a class=\"ProveItLink\" href=\"../80ed9bf14a6ef50aaa4da94b0dbfb5b44f09ae9c0/expr.ipynb\"><img src=\"../80ed9bf14a6ef50aaa4da94b0dbfb5b44f09ae9c0/expr.png\" style=\"display:inline;vertical-align:middle;\" /></a></td></tr>\n",
       "<tr><td>11</td><td>Conditional</td><td>value:&nbsp;15<br>condition:&nbsp;16<br></td><td><a class=\"ProveItLink\" href=\"../742b9b8b3f2869aa49a59be4ead4c979a3b80a680/expr.ipynb\"><img src=\"../742b9b8b3f2869aa49a59be4ead4c979a3b80a680/expr.png\" style=\"display:inline;vertical-align:middle;\" /></a></td></tr>\n",
       "<tr><td>12</td><td>ExprTuple</td><td>27</td><td><a class=\"ProveItLink\" href=\"../0dc6c42a8c40e6a1c0a1b3cc41b6e5aa01a661750/expr.ipynb\"><img src=\"../0dc6c42a8c40e6a1c0a1b3cc41b6e5aa01a661750/expr.png\" style=\"display:inline;vertical-align:middle;\" /></a></td></tr>\n",
       "<tr><td>13</td><td>Literal</td><td></td><td><a class=\"ProveItLink\" href=\"../../../../../../linear_algebra/linear_maps/__pv_it/common/d323a251b3f504c3443ff8de393dbf12697838a10/expr.ipynb\"><img src=\"../../../../../../linear_algebra/linear_maps/__pv_it/common/d323a251b3f504c3443ff8de393dbf12697838a10/expr.png\" style=\"display:inline;vertical-align:middle;\" /></a></td></tr>\n",
       "<tr><td>14</td><td>ExprTuple</td><td>24, 17</td><td><a class=\"ProveItLink\" href=\"../8e7e6f28bc2d529b8d61f74929566839b8a3cd1a0/expr.ipynb\"><img src=\"../8e7e6f28bc2d529b8d61f74929566839b8a3cd1a0/expr.png\" style=\"display:inline;vertical-align:middle;\" /></a></td></tr>\n",
       "<tr><td>15</td><td>Operation</td><td>operator:&nbsp;18<br>operands:&nbsp;19<br></td><td><a class=\"ProveItLink\" href=\"../af4fdf40c5a1dce2147846b5787585ac7503d70e0/expr.ipynb\"><img src=\"../af4fdf40c5a1dce2147846b5787585ac7503d70e0/expr.png\" style=\"display:inline;vertical-align:middle;\" /></a></td></tr>\n",
       "<tr><td>16</td><td>Operation</td><td>operator:&nbsp;20<br>operands:&nbsp;21<br></td><td><a class=\"ProveItLink\" href=\"../878f2b4530e2e5304533ce5413156fd1621b70400/expr.ipynb\"><img src=\"../878f2b4530e2e5304533ce5413156fd1621b70400/expr.png\" style=\"display:inline;vertical-align:middle;\" /></a></td></tr>\n",
       "<tr><td>17</td><td>Variable</td><td></td><td><a class=\"ProveItLink\" href=\"../../../../../../__pv_it/common/f1ca094affb79f5011ff4d63eb4e121bfbde7f330/expr.ipynb\"><img src=\"../../../../../../__pv_it/common/f1ca094affb79f5011ff4d63eb4e121bfbde7f330/expr.png\" style=\"display:inline;vertical-align:middle;\" /></a></td></tr>\n",
       "<tr><td>18</td><td>Literal</td><td></td><td><a class=\"ProveItLink\" href=\"../../../../../../logic/classes/membership/__pv_it/common/e3b437d28fbe17f0a50c9789c7c9b47a1270f1420/expr.ipynb\"><img src=\"../../../../../../logic/classes/membership/__pv_it/common/e3b437d28fbe17f0a50c9789c7c9b47a1270f1420/expr.png\" style=\"display:inline;vertical-align:middle;\" /></a></td></tr>\n",
       "<tr><td>19</td><td>ExprTuple</td><td>22, 23</td><td><a class=\"ProveItLink\" href=\"../629aa2fd89ad71abeaca67a71c9259d854e0da890/expr.ipynb\"><img src=\"../629aa2fd89ad71abeaca67a71c9259d854e0da890/expr.png\" style=\"display:inline;vertical-align:middle;\" /></a></td></tr>\n",
       "<tr><td>20</td><td>Literal</td><td></td><td><a class=\"ProveItLink\" href=\"../../../../../../logic/sets/membership/__pv_it/common/477487d8796864d23d5810f83761435f25167f690/expr.ipynb\"><img src=\"../../../../../../logic/sets/membership/__pv_it/common/477487d8796864d23d5810f83761435f25167f690/expr.png\" style=\"display:inline;vertical-align:middle;\" /></a></td></tr>\n",
       "<tr><td>21</td><td>ExprTuple</td><td>28, 24</td><td><a class=\"ProveItLink\" href=\"../45d117c0688e7bdf2539e0936dc96443a677d60f0/expr.ipynb\"><img src=\"../45d117c0688e7bdf2539e0936dc96443a677d60f0/expr.png\" style=\"display:inline;vertical-align:middle;\" /></a></td></tr>\n",
       "<tr><td>22</td><td>Operation</td><td>operator:&nbsp;25<br>operands:&nbsp;26<br></td><td><a class=\"ProveItLink\" href=\"../315e7ef4a13478c92dede86abfa278a95715fbc80/expr.ipynb\"><img src=\"../315e7ef4a13478c92dede86abfa278a95715fbc80/expr.png\" style=\"display:inline;vertical-align:middle;\" /></a></td></tr>\n",
       "<tr><td>23</td><td>Literal</td><td></td><td><a class=\"ProveItLink\" href=\"../../common/9eb627883d0de35514f5f025d8d6d9a6894424630/expr.ipynb\"><img src=\"../../common/9eb627883d0de35514f5f025d8d6d9a6894424630/expr.png\" style=\"display:inline;vertical-align:middle;\" /></a></td></tr>\n",
       "<tr><td>24</td><td>Variable</td><td></td><td><a class=\"ProveItLink\" href=\"../../../../../../linear_algebra/inner_products/__pv_it/common/0a298dc12c549b5fdc96454972e9674c7dbf104f0/expr.ipynb\"><img src=\"../../../../../../linear_algebra/inner_products/__pv_it/common/0a298dc12c549b5fdc96454972e9674c7dbf104f0/expr.png\" style=\"display:inline;vertical-align:middle;\" /></a></td></tr>\n",
       "<tr><td>25</td><td>Literal</td><td></td><td><a class=\"ProveItLink\" href=\"../../common/2972e0deb52c96565b39f905d407d7302ae287580/expr.ipynb\"><img src=\"../../common/2972e0deb52c96565b39f905d407d7302ae287580/expr.png\" style=\"display:inline;vertical-align:middle;\" /></a></td></tr>\n",
       "<tr><td>26</td><td>ExprTuple</td><td>27, 28</td><td><a class=\"ProveItLink\" href=\"../1a421d5c2e3d2e33e9e6ce0db7e9697ecc7551ae0/expr.ipynb\"><img src=\"../1a421d5c2e3d2e33e9e6ce0db7e9697ecc7551ae0/expr.png\" style=\"display:inline;vertical-align:middle;\" /></a></td></tr>\n",
       "<tr><td>27</td><td>Variable</td><td></td><td><a class=\"ProveItLink\" href=\"../../../../../../__pv_it/common/09585084922504426caf1db2ff588a23a0932a960/expr.ipynb\"><img src=\"../../../../../../__pv_it/common/09585084922504426caf1db2ff588a23a0932a960/expr.png\" style=\"display:inline;vertical-align:middle;\" /></a></td></tr>\n",
       "<tr><td>28</td><td>Variable</td><td></td><td><a class=\"ProveItLink\" href=\"../../../../__pv_it/common/798a4b85c58eead0b86ebff17277cd7c4a79a3160/expr.ipynb\"><img src=\"../../../../__pv_it/common/798a4b85c58eead0b86ebff17277cd7c4a79a3160/expr.png\" style=\"display:inline;vertical-align:middle;\" /></a></td></tr>\n",
       "</table>\n"
      ],
      "text/plain": [
       "0. A -> {forall_{|psi> in H} ((A . |psi>) in_c Q*) if [A] in LINMAP(H, X).\n",
       "   core type: Lambda\n",
       "   parameter: 27\n",
       "   body: 1\n",
       "1. {forall_{|psi> in H} ((A . |psi>) in_c Q*) if [A] in LINMAP(H, X).\n",
       "   core type: Conditional\n",
       "   value: 2\n",
       "   condition: 3\n",
       "2. forall_{|psi> in H} ((A . |psi>) in_c Q*)\n",
       "   core type: Operation\n",
       "   operator: 4\n",
       "   operand: 7\n",
       "3. [A] in LINMAP(H, X)\n",
       "   core type: Operation\n",
       "   operator: 20\n",
       "   operands: 6\n",
       "4. forall\n",
       "   core type: Literal\n",
       "   sub-expressions: \n",
       "5. (|psi> -> {(A . |psi>) in_c Q* if |psi> in H.)\n",
       "   core type: ExprTuple\n",
       "   sub-expressions: 7\n",
       "6. ([A], LINMAP(H, X))\n",
       "   core type: ExprTuple\n",
       "   sub-expressions: 8, 9\n",
       "7. |psi> -> {(A . |psi>) in_c Q* if |psi> in H.\n",
       "   core type: Lambda\n",
       "   parameter: 28\n",
       "   body: 11\n",
       "8. [A]\n",
       "   core type: Operation\n",
       "   operator: 25\n",
       "   operand: 27\n",
       "9. LINMAP(H, X)\n",
       "   core type: Operation\n",
       "   operator: 13\n",
       "   operands: 14\n",
       "10. (|psi>)\n",
       "    core type: ExprTuple\n",
       "    sub-expressions: 28\n",
       "11. {(A . |psi>) in_c Q* if |psi> in H.\n",
       "    core type: Conditional\n",
       "    value: 15\n",
       "    condition: 16\n",
       "12. (A)\n",
       "    core type: ExprTuple\n",
       "    sub-expressions: 27\n",
       "13. LINMAP\n",
       "    core type: Literal\n",
       "    sub-expressions: \n",
       "14. (H, X)\n",
       "    core type: ExprTuple\n",
       "    sub-expressions: 24, 17\n",
       "15. (A . |psi>) in_c Q*\n",
       "    core type: Operation\n",
       "    operator: 18\n",
       "    operands: 19\n",
       "16. |psi> in H\n",
       "    core type: Operation\n",
       "    operator: 20\n",
       "    operands: 21\n",
       "17. X\n",
       "    core type: Variable\n",
       "    sub-expressions: \n",
       "18. in_c\n",
       "    core type: Literal\n",
       "    sub-expressions: \n",
       "19. (A . |psi>, Q*)\n",
       "    core type: ExprTuple\n",
       "    sub-expressions: 22, 23\n",
       "20. in\n",
       "    core type: Literal\n",
       "    sub-expressions: \n",
       "21. (|psi>, H)\n",
       "    core type: ExprTuple\n",
       "    sub-expressions: 28, 24\n",
       "22. A . |psi>\n",
       "    core type: Operation\n",
       "    operator: 25\n",
       "    operands: 26\n",
       "23. Q*\n",
       "    core type: Literal\n",
       "    sub-expressions: \n",
       "24. H\n",
       "    core type: Variable\n",
       "    sub-expressions: \n",
       "25. .\n",
       "    core type: Literal\n",
       "    sub-expressions: \n",
       "26. (A, |psi>)\n",
       "    core type: ExprTuple\n",
       "    sub-expressions: 27, 28\n",
       "27. A\n",
       "    core type: Variable\n",
       "    sub-expressions: \n",
       "28. |psi>\n",
       "    core type: Variable\n",
       "    sub-expressions: "
      ]
     },
     "metadata": {},
     "output_type": "display_data"
    }
   ],
   "source": [
    "# display the expression information\n",
    "stored_expr.expr_info()"
   ]
  },
  {
   "cell_type": "code",
   "execution_count": null,
   "metadata": {},
   "outputs": [],
   "source": []
  }
 ],
 "metadata": {
  "kernelspec": {
   "display_name": "Python 3",
   "language": "python",
   "name": "python3"
  }
 },
 "nbformat": 4,
 "nbformat_minor": 0
}