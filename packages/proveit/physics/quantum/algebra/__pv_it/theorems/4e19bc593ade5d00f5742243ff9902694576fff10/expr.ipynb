{
 "cells": [
  {
   "cell_type": "markdown",
   "metadata": {},
   "source": [
    "Expression of type <a class=\"ProveItLink\" href=\"../../../../../../../../doc/html/api/proveit.ExprTuple.html\">ExprTuple</a>\n",
    "=======================\n",
    "# from the theory of <a class=\"ProveItLink\" href=\"../../../_theory_nbs_/theory.ipynb\">proveit.physics.quantum.algebra</a>"
   ]
  },
  {
   "cell_type": "code",
   "execution_count": 1,
   "metadata": {},
   "outputs": [],
   "source": [
    "import proveit\n",
    "# Automation is not needed when building an expression:\n",
    "proveit.defaults.automation = False # This will speed things up.\n",
    "proveit.defaults.inline_pngs = False # Makes files smaller.\n",
    "%load_expr # Load the stored expression as 'stored_expr'\n",
    "# import Expression classes needed to build the expression\n",
    "from proveit import Conditional, ExprTuple, Lambda, M, m, n\n",
    "from proveit.linear_algebra import MatrixSpace\n",
    "from proveit.logic import InClass, InSet\n",
    "from proveit.numbers import Complex\n",
    "from proveit.physics.quantum import Qmult, QmultCodomain"
   ]
  },
  {
   "cell_type": "code",
   "execution_count": 2,
   "metadata": {},
   "outputs": [
    {
     "data": {
      "text/html": [
       "<strong id=\"expr\">expr:</strong> <a class=\"ProveItLink\" href=\"expr.ipynb\"><img src=\"expr.png\" style=\"display:inline;vertical-align:middle;\" /></a><br>"
      ],
      "text/plain": [
       "<IPython.core.display.HTML object>"
      ]
     },
     "metadata": {},
     "output_type": "display_data"
    }
   ],
   "source": [
    "# build up the expression from sub-expressions\n",
    "expr = ExprTuple(Lambda(M, Conditional(InClass(Qmult(M), QmultCodomain), InSet(M, MatrixSpace(field = Complex, rows = m, columns = n)))))"
   ]
  },
  {
   "cell_type": "code",
   "execution_count": 3,
   "metadata": {},
   "outputs": [
    {
     "name": "stdout",
     "output_type": "stream",
     "text": [
      "Passed sanity check: expr matches stored_expr\n"
     ]
    }
   ],
   "source": [
    "# check that the built expression is the same as the stored expression\n",
    "assert expr == stored_expr\n",
    "assert expr._style_id == stored_expr._style_id\n",
    "print(\"Passed sanity check: expr matches stored_expr\")"
   ]
  },
  {
   "cell_type": "code",
   "execution_count": 4,
   "metadata": {},
   "outputs": [
    {
     "name": "stdout",
     "output_type": "stream",
     "text": [
      "\\left(M \\mapsto \\left\\{\\left[M\\right] \\underset{{\\scriptscriptstyle c}}{\\in} \\mathcal{Q^*} \\textrm{ if } M \\in \\mathbb{C}^{m \\times n}\\right..\\right)\n"
     ]
    }
   ],
   "source": [
    "# Show the LaTeX representation of the expression for convenience if you need it.\n",
    "print(stored_expr.latex())"
   ]
  },
  {
   "cell_type": "code",
   "execution_count": 5,
   "metadata": {},
   "outputs": [
    {
     "data": {
      "text/html": [
       "no style options"
      ],
      "text/plain": [
       "no style options"
      ]
     },
     "metadata": {},
     "output_type": "display_data"
    }
   ],
   "source": [
    "stored_expr.style_options()"
   ]
  },
  {
   "cell_type": "code",
   "execution_count": 6,
   "metadata": {},
   "outputs": [
    {
     "data": {
      "text/html": [
       "<table><tr><th>&nbsp;</th><th>core type</th><th>sub-expressions</th><th>expression</th></tr>\n",
       "<tr><td>0</td><td>ExprTuple</td><td>1</td><td><a class=\"ProveItLink\" href=\"expr.ipynb\"><img src=\"expr.png\" style=\"display:inline;vertical-align:middle;\" /></a></td></tr>\n",
       "<tr><td>1</td><td>Lambda</td><td>parameter:&nbsp;16<br>body:&nbsp;2<br></td><td><a class=\"ProveItLink\" href=\"../d926cab7e5a33de14cc3a899c80fdb10d5bd7fb40/expr.ipynb\"><img src=\"../d926cab7e5a33de14cc3a899c80fdb10d5bd7fb40/expr.png\" style=\"display:inline;vertical-align:middle;\" /></a></td></tr>\n",
       "<tr><td>2</td><td>Conditional</td><td>value:&nbsp;3<br>condition:&nbsp;4<br></td><td><a class=\"ProveItLink\" href=\"../e530d6ecd3e0d47e0caba69bc152fd66d2ef52870/expr.ipynb\"><img src=\"../e530d6ecd3e0d47e0caba69bc152fd66d2ef52870/expr.png\" style=\"display:inline;vertical-align:middle;\" /></a></td></tr>\n",
       "<tr><td>3</td><td>Operation</td><td>operator:&nbsp;5<br>operands:&nbsp;6<br></td><td><a class=\"ProveItLink\" href=\"../4d2626acc55be0266a6d87a12661a1d65c2b2bae0/expr.ipynb\"><img src=\"../4d2626acc55be0266a6d87a12661a1d65c2b2bae0/expr.png\" style=\"display:inline;vertical-align:middle;\" /></a></td></tr>\n",
       "<tr><td>4</td><td>Operation</td><td>operator:&nbsp;7<br>operands:&nbsp;8<br></td><td><a class=\"ProveItLink\" href=\"../a57d233a47769cc56d77cb010a9978a24ea1ad500/expr.ipynb\"><img src=\"../a57d233a47769cc56d77cb010a9978a24ea1ad500/expr.png\" style=\"display:inline;vertical-align:middle;\" /></a></td></tr>\n",
       "<tr><td>5</td><td>Literal</td><td></td><td><a class=\"ProveItLink\" href=\"../../../../../../logic/classes/membership/__pv_it/common/e3b437d28fbe17f0a50c9789c7c9b47a1270f1420/expr.ipynb\"><img src=\"../../../../../../logic/classes/membership/__pv_it/common/e3b437d28fbe17f0a50c9789c7c9b47a1270f1420/expr.png\" style=\"display:inline;vertical-align:middle;\" /></a></td></tr>\n",
       "<tr><td>6</td><td>ExprTuple</td><td>9, 10</td><td><a class=\"ProveItLink\" href=\"../12d54eddbd46125330aa494fd0c44b8fdba2bc540/expr.ipynb\"><img src=\"../12d54eddbd46125330aa494fd0c44b8fdba2bc540/expr.png\" style=\"display:inline;vertical-align:middle;\" /></a></td></tr>\n",
       "<tr><td>7</td><td>Literal</td><td></td><td><a class=\"ProveItLink\" href=\"../../../../../../logic/sets/membership/__pv_it/common/477487d8796864d23d5810f83761435f25167f690/expr.ipynb\"><img src=\"../../../../../../logic/sets/membership/__pv_it/common/477487d8796864d23d5810f83761435f25167f690/expr.png\" style=\"display:inline;vertical-align:middle;\" /></a></td></tr>\n",
       "<tr><td>8</td><td>ExprTuple</td><td>16, 11</td><td><a class=\"ProveItLink\" href=\"../40d3dde4c8e530f9a62d0f7a9b399ba8aa4451ea0/expr.ipynb\"><img src=\"../40d3dde4c8e530f9a62d0f7a9b399ba8aa4451ea0/expr.png\" style=\"display:inline;vertical-align:middle;\" /></a></td></tr>\n",
       "<tr><td>9</td><td>Operation</td><td>operator:&nbsp;12<br>operand:&nbsp;16<br></td><td><a class=\"ProveItLink\" href=\"../dd8ea66f6e9463276ffc4d5dd8086a8dd302609f0/expr.ipynb\"><img src=\"../dd8ea66f6e9463276ffc4d5dd8086a8dd302609f0/expr.png\" style=\"display:inline;vertical-align:middle;\" /></a></td></tr>\n",
       "<tr><td>10</td><td>Literal</td><td></td><td><a class=\"ProveItLink\" href=\"../../common/9eb627883d0de35514f5f025d8d6d9a6894424630/expr.ipynb\"><img src=\"../../common/9eb627883d0de35514f5f025d8d6d9a6894424630/expr.png\" style=\"display:inline;vertical-align:middle;\" /></a></td></tr>\n",
       "<tr><td>11</td><td>Operation</td><td>operator:&nbsp;14<br>operands:&nbsp;15<br></td><td><a class=\"ProveItLink\" href=\"../7148185b9def8bb2bb110483ffb002aa175be3ca0/expr.ipynb\"><img src=\"../7148185b9def8bb2bb110483ffb002aa175be3ca0/expr.png\" style=\"display:inline;vertical-align:middle;\" /></a></td></tr>\n",
       "<tr><td>12</td><td>Literal</td><td></td><td><a class=\"ProveItLink\" href=\"../../common/2972e0deb52c96565b39f905d407d7302ae287580/expr.ipynb\"><img src=\"../../common/2972e0deb52c96565b39f905d407d7302ae287580/expr.png\" style=\"display:inline;vertical-align:middle;\" /></a></td></tr>\n",
       "<tr><td>13</td><td>ExprTuple</td><td>16</td><td><a class=\"ProveItLink\" href=\"../1a8ef8376d45a4ffb2bb24da439240a0ef770da10/expr.ipynb\"><img src=\"../1a8ef8376d45a4ffb2bb24da439240a0ef770da10/expr.png\" style=\"display:inline;vertical-align:middle;\" /></a></td></tr>\n",
       "<tr><td>14</td><td>Literal</td><td></td><td><a class=\"ProveItLink\" href=\"../../../../../../linear_algebra/matrices/__pv_it/common/41bfe9284ff6c5a59c371a3fff56a4201f4483c40/expr.ipynb\"><img src=\"../../../../../../linear_algebra/matrices/__pv_it/common/41bfe9284ff6c5a59c371a3fff56a4201f4483c40/expr.png\" style=\"display:inline;vertical-align:middle;\" /></a></td></tr>\n",
       "<tr><td>15</td><td>NamedExprs</td><td>field: 17<br>rows: 18<br>columns: 19<br></td><td><a class=\"ProveItLink\" href=\"../a74fc50536c74db41f7fa6a025a1cc3c6e4202c40/expr.ipynb\"><img src=\"../a74fc50536c74db41f7fa6a025a1cc3c6e4202c40/expr.png\" style=\"display:inline;vertical-align:middle;\" /></a></td></tr>\n",
       "<tr><td>16</td><td>Variable</td><td></td><td><a class=\"ProveItLink\" href=\"../../../../../../__pv_it/common/ce50a10c2eddfa57687148849d3b804ff497c1cf0/expr.ipynb\"><img src=\"../../../../../../__pv_it/common/ce50a10c2eddfa57687148849d3b804ff497c1cf0/expr.png\" style=\"display:inline;vertical-align:middle;\" /></a></td></tr>\n",
       "<tr><td>17</td><td>Literal</td><td></td><td><a class=\"ProveItLink\" href=\"../../../../../../numbers/number_sets/complex_numbers/__pv_it/common/d18a028138f659eda00de597c28a3447fe87eb100/expr.ipynb\"><img src=\"../../../../../../numbers/number_sets/complex_numbers/__pv_it/common/d18a028138f659eda00de597c28a3447fe87eb100/expr.png\" style=\"display:inline;vertical-align:middle;\" /></a></td></tr>\n",
       "<tr><td>18</td><td>Variable</td><td></td><td><a class=\"ProveItLink\" href=\"../../../../../../__pv_it/common/674a03b9c3ca221b3aabd5636837b31528ff33830/expr.ipynb\"><img src=\"../../../../../../__pv_it/common/674a03b9c3ca221b3aabd5636837b31528ff33830/expr.png\" style=\"display:inline;vertical-align:middle;\" /></a></td></tr>\n",
       "<tr><td>19</td><td>Variable</td><td></td><td><a class=\"ProveItLink\" href=\"../../../../../../__pv_it/common/8968bb04eb3f7dfa02353397ce929b025bbd79c20/expr.ipynb\"><img src=\"../../../../../../__pv_it/common/8968bb04eb3f7dfa02353397ce929b025bbd79c20/expr.png\" style=\"display:inline;vertical-align:middle;\" /></a></td></tr>\n",
       "</table>\n"
      ],
      "text/plain": [
       "0. (M -> {[M] in_c Q* if M in Complex^{m x n}.)\n",
       "   core type: ExprTuple\n",
       "   sub-expressions: 1\n",
       "1. M -> {[M] in_c Q* if M in Complex^{m x n}.\n",
       "   core type: Lambda\n",
       "   parameter: 16\n",
       "   body: 2\n",
       "2. {[M] in_c Q* if M in Complex^{m x n}.\n",
       "   core type: Conditional\n",
       "   value: 3\n",
       "   condition: 4\n",
       "3. [M] in_c Q*\n",
       "   core type: Operation\n",
       "   operator: 5\n",
       "   operands: 6\n",
       "4. M in Complex^{m x n}\n",
       "   core type: Operation\n",
       "   operator: 7\n",
       "   operands: 8\n",
       "5. in_c\n",
       "   core type: Literal\n",
       "   sub-expressions: \n",
       "6. ([M], Q*)\n",
       "   core type: ExprTuple\n",
       "   sub-expressions: 9, 10\n",
       "7. in\n",
       "   core type: Literal\n",
       "   sub-expressions: \n",
       "8. (M, Complex^{m x n})\n",
       "   core type: ExprTuple\n",
       "   sub-expressions: 16, 11\n",
       "9. [M]\n",
       "   core type: Operation\n",
       "   operator: 12\n",
       "   operand: 16\n",
       "10. Q*\n",
       "    core type: Literal\n",
       "    sub-expressions: \n",
       "11. Complex^{m x n}\n",
       "    core type: Operation\n",
       "    operator: 14\n",
       "    operands: 15\n",
       "12. .\n",
       "    core type: Literal\n",
       "    sub-expressions: \n",
       "13. (M)\n",
       "    core type: ExprTuple\n",
       "    sub-expressions: 16\n",
       "14. MSpace\n",
       "    core type: Literal\n",
       "    sub-expressions: \n",
       "15. {field:Complex, rows:m, columns:n}\n",
       "    core type: NamedExprs\n",
       "    field: 17\n",
       "    rows: 18\n",
       "    columns: 19\n",
       "16. M\n",
       "    core type: Variable\n",
       "    sub-expressions: \n",
       "17. Complex\n",
       "    core type: Literal\n",
       "    sub-expressions: \n",
       "18. m\n",
       "    core type: Variable\n",
       "    sub-expressions: \n",
       "19. n\n",
       "    core type: Variable\n",
       "    sub-expressions: "
      ]
     },
     "metadata": {},
     "output_type": "display_data"
    }
   ],
   "source": [
    "# display the expression information\n",
    "stored_expr.expr_info()"
   ]
  },
  {
   "cell_type": "code",
   "execution_count": null,
   "metadata": {},
   "outputs": [],
   "source": []
  }
 ],
 "metadata": {
  "kernelspec": {
   "display_name": "Python 3",
   "language": "python",
   "name": "python3"
  }
 },
 "nbformat": 4,
 "nbformat_minor": 0
}