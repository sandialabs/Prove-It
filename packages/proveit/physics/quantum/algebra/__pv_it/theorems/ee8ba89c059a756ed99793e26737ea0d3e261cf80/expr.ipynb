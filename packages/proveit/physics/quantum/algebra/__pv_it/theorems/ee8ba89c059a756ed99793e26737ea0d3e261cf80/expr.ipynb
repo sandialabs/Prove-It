{
 "cells": [
  {
   "cell_type": "markdown",
   "metadata": {},
   "source": [
    "Expression of type <a class=\"ProveItLink\" href=\"../../../../../../../../doc/html/api/proveit.Conditional.html\">Conditional</a>\n",
    "=======================\n",
    "# from the theory of <a class=\"ProveItLink\" href=\"../../../_theory_nbs_/theory.ipynb\">proveit.physics.quantum.algebra</a>"
   ]
  },
  {
   "cell_type": "code",
   "execution_count": 1,
   "metadata": {},
   "outputs": [],
   "source": [
    "import proveit\n",
    "# Automation is not needed when building an expression:\n",
    "proveit.defaults.automation = False # This will speed things up.\n",
    "proveit.defaults.inline_pngs = False # Makes files smaller.\n",
    "%load_expr # Load the stored expression as 'stored_expr'\n",
    "# import Expression classes needed to build the expression\n",
    "from proveit import Conditional, ExprRange, IndexedVar, Variable, i, lambda_, m, n\n",
    "from proveit.core_expr_types import a_i, b_i, lambda_i\n",
    "from proveit.linear_algebra import ScalarMult, VecSum\n",
    "from proveit.logic import And, Equals, InSet\n",
    "from proveit.numbers import Interval, Min, RealNonNeg, one\n",
    "from proveit.physics.quantum import Ket, Qmult, var_ket_psi"
   ]
  },
  {
   "cell_type": "code",
   "execution_count": 2,
   "metadata": {},
   "outputs": [
    {
     "data": {
      "text/html": [
       "<strong id=\"expr\">expr:</strong> <a class=\"ProveItLink\" href=\"expr.ipynb\"><img src=\"expr.png\" style=\"display:inline;vertical-align:middle;\" /></a><br>"
      ],
      "text/plain": [
       "<IPython.core.display.HTML object>"
      ]
     },
     "metadata": {},
     "output_type": "display_data"
    }
   ],
   "source": [
    "# build up the expression from sub-expressions\n",
    "sub_expr1 = Variable(\"_a\", latex_format = r\"{_{-}a}\")\n",
    "sub_expr2 = Min(m, n)\n",
    "expr = Conditional(Equals(var_ket_psi, VecSum(index_or_indices = [i], summand = ScalarMult(lambda_i, Qmult(Ket(a_i), Ket(b_i))), domain = Interval(one, sub_expr2))), And(ExprRange(sub_expr1, InSet(IndexedVar(lambda_, sub_expr1), RealNonNeg), one, sub_expr2)))"
   ]
  },
  {
   "cell_type": "code",
   "execution_count": 3,
   "metadata": {},
   "outputs": [
    {
     "name": "stdout",
     "output_type": "stream",
     "text": [
      "Passed sanity check: expr matches stored_expr\n"
     ]
    }
   ],
   "source": [
    "# check that the built expression is the same as the stored expression\n",
    "assert expr == stored_expr\n",
    "assert expr._style_id == stored_expr._style_id\n",
    "print(\"Passed sanity check: expr matches stored_expr\")"
   ]
  },
  {
   "cell_type": "code",
   "execution_count": 4,
   "metadata": {},
   "outputs": [
    {
     "name": "stdout",
     "output_type": "stream",
     "text": [
      "\\left\\{\\lvert \\psi \\rangle = \\left(\\sum_{i=1}^{{\\rm Min}\\left(m, n\\right)} \\left(\\lambda_{i} \\cdot \\left(\\lvert a_{i} \\rangle \\thinspace \\lvert b_{i} \\rangle\\right)\\right)\\right) \\textrm{ if } \\left(\\lambda_{1} \\in \\mathbb{R}^{\\ge 0}\\right) \\land  \\left(\\lambda_{2} \\in \\mathbb{R}^{\\ge 0}\\right) \\land  \\ldots \\land  \\left(\\lambda_{{\\rm Min}\\left(m, n\\right)} \\in \\mathbb{R}^{\\ge 0}\\right)\\right..\n"
     ]
    }
   ],
   "source": [
    "# Show the LaTeX representation of the expression for convenience if you need it.\n",
    "print(stored_expr.latex())"
   ]
  },
  {
   "cell_type": "code",
   "execution_count": 5,
   "metadata": {},
   "outputs": [
    {
     "data": {
      "text/html": [
       "<table>\n",
       "<tr><th>name</th><th>description</th><th>default</th><th>current value</th><th>related methods</th></tr><tr><td>condition_delimiter</td><td>'comma' or 'and'</td><td>comma</td><td>comma</td><td>('with_comma_delimiter', 'with_conjunction_delimiter')</td></tr>\n",
       "</table>\n"
      ],
      "text/plain": [
       "style name: condition_delimiter\n",
       "description: 'comma' or 'and'\n",
       "default: comma\n",
       "current value: comma\n",
       "related methods: ('with_comma_delimiter', 'with_conjunction_delimiter')"
      ]
     },
     "metadata": {},
     "output_type": "display_data"
    }
   ],
   "source": [
    "stored_expr.style_options()"
   ]
  },
  {
   "cell_type": "code",
   "execution_count": 6,
   "metadata": {},
   "outputs": [
    {
     "data": {
      "text/html": [
       "<table><tr><th>&nbsp;</th><th>core type</th><th>sub-expressions</th><th>expression</th></tr>\n",
       "<tr><td>0</td><td>Conditional</td><td>value:&nbsp;1<br>condition:&nbsp;2<br></td><td><a class=\"ProveItLink\" href=\"expr.ipynb\"><img src=\"expr.png\" style=\"display:inline;vertical-align:middle;\" /></a></td></tr>\n",
       "<tr><td>1</td><td>Operation</td><td>operator:&nbsp;3<br>operands:&nbsp;4<br></td><td><a class=\"ProveItLink\" href=\"../b38430cddd267b61938116817a3b2ddfc40b21b80/expr.ipynb\"><img src=\"../b38430cddd267b61938116817a3b2ddfc40b21b80/expr.png\" style=\"display:inline;vertical-align:middle;\" /></a></td></tr>\n",
       "<tr><td>2</td><td>Operation</td><td>operator:&nbsp;5<br>operands:&nbsp;6<br></td><td><a class=\"ProveItLink\" href=\"../8d4091c2518ecd1a16170a6067919c23ebaeac7e0/expr.ipynb\"><img src=\"../8d4091c2518ecd1a16170a6067919c23ebaeac7e0/expr.png\" style=\"display:inline;vertical-align:middle;\" /></a></td></tr>\n",
       "<tr><td>3</td><td>Literal</td><td></td><td><a class=\"ProveItLink\" href=\"../../../../../../logic/equality/__pv_it/common/fb96dc12b2aa8801dda64d0132b396c63d1502bb0/expr.ipynb\"><img src=\"../../../../../../logic/equality/__pv_it/common/fb96dc12b2aa8801dda64d0132b396c63d1502bb0/expr.png\" style=\"display:inline;vertical-align:middle;\" /></a></td></tr>\n",
       "<tr><td>4</td><td>ExprTuple</td><td>7, 8</td><td><a class=\"ProveItLink\" href=\"../c062dbd013118e342fcd6e3691cd90ac19feaa8e0/expr.ipynb\"><img src=\"../c062dbd013118e342fcd6e3691cd90ac19feaa8e0/expr.png\" style=\"display:inline;vertical-align:middle;\" /></a></td></tr>\n",
       "<tr><td>5</td><td>Literal</td><td></td><td><a class=\"ProveItLink\" href=\"../../../../../../logic/booleans/conjunction/__pv_it/common/42118ff318bd65d98b1393f64ce7c2269feef76e0/expr.ipynb\"><img src=\"../../../../../../logic/booleans/conjunction/__pv_it/common/42118ff318bd65d98b1393f64ce7c2269feef76e0/expr.png\" style=\"display:inline;vertical-align:middle;\" /></a></td></tr>\n",
       "<tr><td>6</td><td>ExprTuple</td><td>9</td><td><a class=\"ProveItLink\" href=\"../fc94637ded4ca82e65444910244eebe2a7574d530/expr.ipynb\"><img src=\"../fc94637ded4ca82e65444910244eebe2a7574d530/expr.png\" style=\"display:inline;vertical-align:middle;\" /></a></td></tr>\n",
       "<tr><td>7</td><td>Variable</td><td></td><td><a class=\"ProveItLink\" href=\"../../../../__pv_it/common/798a4b85c58eead0b86ebff17277cd7c4a79a3160/expr.ipynb\"><img src=\"../../../../__pv_it/common/798a4b85c58eead0b86ebff17277cd7c4a79a3160/expr.png\" style=\"display:inline;vertical-align:middle;\" /></a></td></tr>\n",
       "<tr><td>8</td><td>Operation</td><td>operator:&nbsp;10<br>operand:&nbsp;13<br></td><td><a class=\"ProveItLink\" href=\"../c899c243d2a7a623d2dd7497a12294eeef96afbd0/expr.ipynb\"><img src=\"../c899c243d2a7a623d2dd7497a12294eeef96afbd0/expr.png\" style=\"display:inline;vertical-align:middle;\" /></a></td></tr>\n",
       "<tr><td>9</td><td>ExprRange</td><td>lambda_map:&nbsp;12<br>start_index:&nbsp;37<br>end_index:&nbsp;38<br></td><td><a class=\"ProveItLink\" href=\"../b39ca4aacc444c134cb0a161981f7f08d6f8168f0/expr.ipynb\"><img src=\"../b39ca4aacc444c134cb0a161981f7f08d6f8168f0/expr.png\" style=\"display:inline;vertical-align:middle;\" /></a></td></tr>\n",
       "<tr><td>10</td><td>Literal</td><td></td><td><a class=\"ProveItLink\" href=\"../../../../../../linear_algebra/addition/__pv_it/common/62f73c830c62efb87627ede5678f282081cd0ce20/expr.ipynb\"><img src=\"../../../../../../linear_algebra/addition/__pv_it/common/62f73c830c62efb87627ede5678f282081cd0ce20/expr.png\" style=\"display:inline;vertical-align:middle;\" /></a></td></tr>\n",
       "<tr><td>11</td><td>ExprTuple</td><td>13</td><td><a class=\"ProveItLink\" href=\"../0a7b5baa95f5feabfde0124d9e4ee16609cf07130/expr.ipynb\"><img src=\"../0a7b5baa95f5feabfde0124d9e4ee16609cf07130/expr.png\" style=\"display:inline;vertical-align:middle;\" /></a></td></tr>\n",
       "<tr><td>12</td><td>Lambda</td><td>parameter:&nbsp;29<br>body:&nbsp;14<br></td><td><a class=\"ProveItLink\" href=\"../ead680fc8404c17b2ee0005e53352f90845b8fce0/expr.ipynb\"><img src=\"../ead680fc8404c17b2ee0005e53352f90845b8fce0/expr.png\" style=\"display:inline;vertical-align:middle;\" /></a></td></tr>\n",
       "<tr><td>13</td><td>Lambda</td><td>parameter:&nbsp;51<br>body:&nbsp;15<br></td><td><a class=\"ProveItLink\" href=\"../1c40967e282007b5a417e063018473bc73e727550/expr.ipynb\"><img src=\"../1c40967e282007b5a417e063018473bc73e727550/expr.png\" style=\"display:inline;vertical-align:middle;\" /></a></td></tr>\n",
       "<tr><td>14</td><td>Operation</td><td>operator:&nbsp;23<br>operands:&nbsp;16<br></td><td><a class=\"ProveItLink\" href=\"../f00306e4441fff1362d8897ef7115729a0bb742e0/expr.ipynb\"><img src=\"../f00306e4441fff1362d8897ef7115729a0bb742e0/expr.png\" style=\"display:inline;vertical-align:middle;\" /></a></td></tr>\n",
       "<tr><td>15</td><td>Conditional</td><td>value:&nbsp;17<br>condition:&nbsp;18<br></td><td><a class=\"ProveItLink\" href=\"../79704207309265a70a892fb24799cf44c33cf1eb0/expr.ipynb\"><img src=\"../79704207309265a70a892fb24799cf44c33cf1eb0/expr.png\" style=\"display:inline;vertical-align:middle;\" /></a></td></tr>\n",
       "<tr><td>16</td><td>ExprTuple</td><td>19, 20</td><td><a class=\"ProveItLink\" href=\"../ff7b31829c0d8ee97a578bc7b7012576c684b3f40/expr.ipynb\"><img src=\"../ff7b31829c0d8ee97a578bc7b7012576c684b3f40/expr.png\" style=\"display:inline;vertical-align:middle;\" /></a></td></tr>\n",
       "<tr><td>17</td><td>Operation</td><td>operator:&nbsp;21<br>operands:&nbsp;22<br></td><td><a class=\"ProveItLink\" href=\"../0f3574dcd42572feb2bc343de1fa218fe3a74f0f0/expr.ipynb\"><img src=\"../0f3574dcd42572feb2bc343de1fa218fe3a74f0f0/expr.png\" style=\"display:inline;vertical-align:middle;\" /></a></td></tr>\n",
       "<tr><td>18</td><td>Operation</td><td>operator:&nbsp;23<br>operands:&nbsp;24<br></td><td><a class=\"ProveItLink\" href=\"../e4b4d2cc8b4de995d5b578945d2a83ba5e054f780/expr.ipynb\"><img src=\"../e4b4d2cc8b4de995d5b578945d2a83ba5e054f780/expr.png\" style=\"display:inline;vertical-align:middle;\" /></a></td></tr>\n",
       "<tr><td>19</td><td>IndexedVar</td><td>variable:&nbsp;30<br>index:&nbsp;29<br></td><td><a class=\"ProveItLink\" href=\"../c5b8d14039e3584ca7d1bd337c1cbd7d4ba7f9380/expr.ipynb\"><img src=\"../c5b8d14039e3584ca7d1bd337c1cbd7d4ba7f9380/expr.png\" style=\"display:inline;vertical-align:middle;\" /></a></td></tr>\n",
       "<tr><td>20</td><td>Literal</td><td></td><td><a class=\"ProveItLink\" href=\"../../../../../../numbers/number_sets/real_numbers/__pv_it/common/e6ce8d0e09d7926fae58282b7d1defa502e2c9ba0/expr.ipynb\"><img src=\"../../../../../../numbers/number_sets/real_numbers/__pv_it/common/e6ce8d0e09d7926fae58282b7d1defa502e2c9ba0/expr.png\" style=\"display:inline;vertical-align:middle;\" /></a></td></tr>\n",
       "<tr><td>21</td><td>Literal</td><td></td><td><a class=\"ProveItLink\" href=\"../../../../../../linear_algebra/scalar_multiplication/__pv_it/common/1e364bd471e6a29fcd358dd2d9cd990a1e6fedd40/expr.ipynb\"><img src=\"../../../../../../linear_algebra/scalar_multiplication/__pv_it/common/1e364bd471e6a29fcd358dd2d9cd990a1e6fedd40/expr.png\" style=\"display:inline;vertical-align:middle;\" /></a></td></tr>\n",
       "<tr><td>22</td><td>ExprTuple</td><td>26, 27</td><td><a class=\"ProveItLink\" href=\"../731e114aad877138bdb45a91ed1ad030bd4914d20/expr.ipynb\"><img src=\"../731e114aad877138bdb45a91ed1ad030bd4914d20/expr.png\" style=\"display:inline;vertical-align:middle;\" /></a></td></tr>\n",
       "<tr><td>23</td><td>Literal</td><td></td><td><a class=\"ProveItLink\" href=\"../../../../../../logic/sets/membership/__pv_it/common/477487d8796864d23d5810f83761435f25167f690/expr.ipynb\"><img src=\"../../../../../../logic/sets/membership/__pv_it/common/477487d8796864d23d5810f83761435f25167f690/expr.png\" style=\"display:inline;vertical-align:middle;\" /></a></td></tr>\n",
       "<tr><td>24</td><td>ExprTuple</td><td>51, 28</td><td><a class=\"ProveItLink\" href=\"../56743c89a55798dbadb540deed9996823020e5050/expr.ipynb\"><img src=\"../56743c89a55798dbadb540deed9996823020e5050/expr.png\" style=\"display:inline;vertical-align:middle;\" /></a></td></tr>\n",
       "<tr><td>25</td><td>ExprTuple</td><td>29</td><td><a class=\"ProveItLink\" href=\"../../../../../../core_expr_types/__pv_it/common/4b0dd6be36d76552eda6a95d5b4a27f5a5b62f900/expr.ipynb\"><img src=\"../../../../../../core_expr_types/__pv_it/common/4b0dd6be36d76552eda6a95d5b4a27f5a5b62f900/expr.png\" style=\"display:inline;vertical-align:middle;\" /></a></td></tr>\n",
       "<tr><td>26</td><td>IndexedVar</td><td>variable:&nbsp;30<br>index:&nbsp;51<br></td><td><a class=\"ProveItLink\" href=\"../../../../../../core_expr_types/__pv_it/common/af164319a03645bc46d3202281a9f1f31fcb147f0/expr.ipynb\"><img src=\"../../../../../../core_expr_types/__pv_it/common/af164319a03645bc46d3202281a9f1f31fcb147f0/expr.png\" style=\"display:inline;vertical-align:middle;\" /></a></td></tr>\n",
       "<tr><td>27</td><td>Operation</td><td>operator:&nbsp;31<br>operands:&nbsp;32<br></td><td><a class=\"ProveItLink\" href=\"../b2919d485bb1d80fc2f36b350f1fc7b7f4b461950/expr.ipynb\"><img src=\"../b2919d485bb1d80fc2f36b350f1fc7b7f4b461950/expr.png\" style=\"display:inline;vertical-align:middle;\" /></a></td></tr>\n",
       "<tr><td>28</td><td>Operation</td><td>operator:&nbsp;33<br>operands:&nbsp;34<br></td><td><a class=\"ProveItLink\" href=\"../e23e925f9a70d80293cc643f39a5a04696a298750/expr.ipynb\"><img src=\"../e23e925f9a70d80293cc643f39a5a04696a298750/expr.png\" style=\"display:inline;vertical-align:middle;\" /></a></td></tr>\n",
       "<tr><td>29</td><td>Variable</td><td></td><td><a class=\"ProveItLink\" href=\"../../../../../../core_expr_types/__pv_it/common/006c465e50948aa2b52285e2de47974f741255cc0/expr.ipynb\"><img src=\"../../../../../../core_expr_types/__pv_it/common/006c465e50948aa2b52285e2de47974f741255cc0/expr.png\" style=\"display:inline;vertical-align:middle;\" /></a></td></tr>\n",
       "<tr><td>30</td><td>Variable</td><td></td><td><a class=\"ProveItLink\" href=\"../../../../../../__pv_it/common/32939ecfac671575754b298a0f24751901f187ae0/expr.ipynb\"><img src=\"../../../../../../__pv_it/common/32939ecfac671575754b298a0f24751901f187ae0/expr.png\" style=\"display:inline;vertical-align:middle;\" /></a></td></tr>\n",
       "<tr><td>31</td><td>Literal</td><td></td><td><a class=\"ProveItLink\" href=\"../../common/2972e0deb52c96565b39f905d407d7302ae287580/expr.ipynb\"><img src=\"../../common/2972e0deb52c96565b39f905d407d7302ae287580/expr.png\" style=\"display:inline;vertical-align:middle;\" /></a></td></tr>\n",
       "<tr><td>32</td><td>ExprTuple</td><td>35, 36</td><td><a class=\"ProveItLink\" href=\"../6346606490c3f0bfb42081d41525acb0715273840/expr.ipynb\"><img src=\"../6346606490c3f0bfb42081d41525acb0715273840/expr.png\" style=\"display:inline;vertical-align:middle;\" /></a></td></tr>\n",
       "<tr><td>33</td><td>Literal</td><td></td><td><a class=\"ProveItLink\" href=\"../../../../../../numbers/number_sets/integers/__pv_it/common/92f3a0a77e3c3ea8e4a5c8674edadc54e4f57d550/expr.ipynb\"><img src=\"../../../../../../numbers/number_sets/integers/__pv_it/common/92f3a0a77e3c3ea8e4a5c8674edadc54e4f57d550/expr.png\" style=\"display:inline;vertical-align:middle;\" /></a></td></tr>\n",
       "<tr><td>34</td><td>ExprTuple</td><td>37, 38</td><td><a class=\"ProveItLink\" href=\"../f11e6b2293cf63c01a4df9c4969be99cc9690dd00/expr.ipynb\"><img src=\"../f11e6b2293cf63c01a4df9c4969be99cc9690dd00/expr.png\" style=\"display:inline;vertical-align:middle;\" /></a></td></tr>\n",
       "<tr><td>35</td><td>Operation</td><td>operator:&nbsp;40<br>operand:&nbsp;44<br></td><td><a class=\"ProveItLink\" href=\"../6b166260ab631fee9eb177293c535b16a2a674830/expr.ipynb\"><img src=\"../6b166260ab631fee9eb177293c535b16a2a674830/expr.png\" style=\"display:inline;vertical-align:middle;\" /></a></td></tr>\n",
       "<tr><td>36</td><td>Operation</td><td>operator:&nbsp;40<br>operand:&nbsp;45<br></td><td><a class=\"ProveItLink\" href=\"../e500b711d1386ae25ace5675cc9b2fce23b8d43f0/expr.ipynb\"><img src=\"../e500b711d1386ae25ace5675cc9b2fce23b8d43f0/expr.png\" style=\"display:inline;vertical-align:middle;\" /></a></td></tr>\n",
       "<tr><td>37</td><td>Literal</td><td></td><td><a class=\"ProveItLink\" href=\"../../../../../../numbers/numerals/__pv_it/common/682157d4892d216d9e5626ed533aff9b56b9506e0/expr.ipynb\"><img src=\"../../../../../../numbers/numerals/__pv_it/common/682157d4892d216d9e5626ed533aff9b56b9506e0/expr.png\" style=\"display:inline;vertical-align:middle;\" /></a></td></tr>\n",
       "<tr><td>38</td><td>Operation</td><td>operator:&nbsp;42<br>operands:&nbsp;43<br></td><td><a class=\"ProveItLink\" href=\"../119612a7b1982468c1aecad96a35331df058d4a10/expr.ipynb\"><img src=\"../119612a7b1982468c1aecad96a35331df058d4a10/expr.png\" style=\"display:inline;vertical-align:middle;\" /></a></td></tr>\n",
       "<tr><td>39</td><td>ExprTuple</td><td>44</td><td><a class=\"ProveItLink\" href=\"../b407b5edf90947105410c0e8fcba15a09d37355b0/expr.ipynb\"><img src=\"../b407b5edf90947105410c0e8fcba15a09d37355b0/expr.png\" style=\"display:inline;vertical-align:middle;\" /></a></td></tr>\n",
       "<tr><td>40</td><td>Literal</td><td></td><td><a class=\"ProveItLink\" href=\"../../common/e3872951fe05b26090372918594af92cac779e280/expr.ipynb\"><img src=\"../../common/e3872951fe05b26090372918594af92cac779e280/expr.png\" style=\"display:inline;vertical-align:middle;\" /></a></td></tr>\n",
       "<tr><td>41</td><td>ExprTuple</td><td>45</td><td><a class=\"ProveItLink\" href=\"../fb38d3311dc8af9de7392395fef25c7b6445f7390/expr.ipynb\"><img src=\"../fb38d3311dc8af9de7392395fef25c7b6445f7390/expr.png\" style=\"display:inline;vertical-align:middle;\" /></a></td></tr>\n",
       "<tr><td>42</td><td>Literal</td><td></td><td><a class=\"ProveItLink\" href=\"../../../../../../numbers/ordering/__pv_it/common/02aff561bee7a3f97a38cab9c19dbc1e3070b9670/expr.ipynb\"><img src=\"../../../../../../numbers/ordering/__pv_it/common/02aff561bee7a3f97a38cab9c19dbc1e3070b9670/expr.png\" style=\"display:inline;vertical-align:middle;\" /></a></td></tr>\n",
       "<tr><td>43</td><td>ExprTuple</td><td>46, 47</td><td><a class=\"ProveItLink\" href=\"../05a1ed7149bdab455b0537bd9baa8c6aae03294c0/expr.ipynb\"><img src=\"../05a1ed7149bdab455b0537bd9baa8c6aae03294c0/expr.png\" style=\"display:inline;vertical-align:middle;\" /></a></td></tr>\n",
       "<tr><td>44</td><td>IndexedVar</td><td>variable:&nbsp;48<br>index:&nbsp;51<br></td><td><a class=\"ProveItLink\" href=\"../../../../../../core_expr_types/__pv_it/common/c1fad46b1cc25ea9a3a84c0aa346db8e42543d970/expr.ipynb\"><img src=\"../../../../../../core_expr_types/__pv_it/common/c1fad46b1cc25ea9a3a84c0aa346db8e42543d970/expr.png\" style=\"display:inline;vertical-align:middle;\" /></a></td></tr>\n",
       "<tr><td>45</td><td>IndexedVar</td><td>variable:&nbsp;49<br>index:&nbsp;51<br></td><td><a class=\"ProveItLink\" href=\"../../../../../../core_expr_types/__pv_it/common/370d9bfc44fef1dec86f0a57d14d7ae6e1b924340/expr.ipynb\"><img src=\"../../../../../../core_expr_types/__pv_it/common/370d9bfc44fef1dec86f0a57d14d7ae6e1b924340/expr.png\" style=\"display:inline;vertical-align:middle;\" /></a></td></tr>\n",
       "<tr><td>46</td><td>Variable</td><td></td><td><a class=\"ProveItLink\" href=\"../../../../../../__pv_it/common/674a03b9c3ca221b3aabd5636837b31528ff33830/expr.ipynb\"><img src=\"../../../../../../__pv_it/common/674a03b9c3ca221b3aabd5636837b31528ff33830/expr.png\" style=\"display:inline;vertical-align:middle;\" /></a></td></tr>\n",
       "<tr><td>47</td><td>Variable</td><td></td><td><a class=\"ProveItLink\" href=\"../../../../../../__pv_it/common/8968bb04eb3f7dfa02353397ce929b025bbd79c20/expr.ipynb\"><img src=\"../../../../../../__pv_it/common/8968bb04eb3f7dfa02353397ce929b025bbd79c20/expr.png\" style=\"display:inline;vertical-align:middle;\" /></a></td></tr>\n",
       "<tr><td>48</td><td>Variable</td><td></td><td><a class=\"ProveItLink\" href=\"../../../../../../__pv_it/common/c06c606ec12678c58933ac85412ecadc2ae28be60/expr.ipynb\"><img src=\"../../../../../../__pv_it/common/c06c606ec12678c58933ac85412ecadc2ae28be60/expr.png\" style=\"display:inline;vertical-align:middle;\" /></a></td></tr>\n",
       "<tr><td>49</td><td>Variable</td><td></td><td><a class=\"ProveItLink\" href=\"../../../../../../__pv_it/common/195236b98c6c564a75b5dbada74b173bc52d5c3e0/expr.ipynb\"><img src=\"../../../../../../__pv_it/common/195236b98c6c564a75b5dbada74b173bc52d5c3e0/expr.png\" style=\"display:inline;vertical-align:middle;\" /></a></td></tr>\n",
       "<tr><td>50</td><td>ExprTuple</td><td>51</td><td><a class=\"ProveItLink\" href=\"../../../../../../core_expr_types/__pv_it/common/0fc33550aa9740010879fdf30c320b63ba918eff0/expr.ipynb\"><img src=\"../../../../../../core_expr_types/__pv_it/common/0fc33550aa9740010879fdf30c320b63ba918eff0/expr.png\" style=\"display:inline;vertical-align:middle;\" /></a></td></tr>\n",
       "<tr><td>51</td><td>Variable</td><td></td><td><a class=\"ProveItLink\" href=\"../../../../../../__pv_it/common/ae955345c83abf786c3aff8681cd5465beae262d0/expr.ipynb\"><img src=\"../../../../../../__pv_it/common/ae955345c83abf786c3aff8681cd5465beae262d0/expr.png\" style=\"display:inline;vertical-align:middle;\" /></a></td></tr>\n",
       "</table>\n"
      ],
      "text/plain": [
       "0. {|psi> = (Sum_{i=1}^{Min(m, n)} (lambda_{i} * (|a_{i}〉 . |b_{i}〉))) if (lambda_{1} in RealNonNeg) and  (lambda_{2} in RealNonNeg) and  ... and  (lambda_{Min(m, n)} in RealNonNeg).\n",
       "   core type: Conditional\n",
       "   value: 1\n",
       "   condition: 2\n",
       "1. |psi> = (Sum_{i=1}^{Min(m, n)} (lambda_{i} * (|a_{i}〉 . |b_{i}〉)))\n",
       "   core type: Operation\n",
       "   operator: 3\n",
       "   operands: 4\n",
       "2. (lambda_{1} in RealNonNeg) and  (lambda_{2} in RealNonNeg) and  ... and  (lambda_{Min(m, n)} in RealNonNeg)\n",
       "   core type: Operation\n",
       "   operator: 5\n",
       "   operands: 6\n",
       "3. =\n",
       "   core type: Literal\n",
       "   sub-expressions: \n",
       "4. (|psi>, Sum_{i=1}^{Min(m, n)} (lambda_{i} * (|a_{i}〉 . |b_{i}〉)))\n",
       "   core type: ExprTuple\n",
       "   sub-expressions: 7, 8\n",
       "5. and\n",
       "   core type: Literal\n",
       "   sub-expressions: \n",
       "6. ((lambda_{1} in RealNonNeg), (lambda_{2} in RealNonNeg), ..., (lambda_{Min(m, n)} in RealNonNeg))\n",
       "   core type: ExprTuple\n",
       "   sub-expressions: 9\n",
       "7. |psi>\n",
       "   core type: Variable\n",
       "   sub-expressions: \n",
       "8. Sum_{i=1}^{Min(m, n)} (lambda_{i} * (|a_{i}〉 . |b_{i}〉))\n",
       "   core type: Operation\n",
       "   operator: 10\n",
       "   operand: 13\n",
       "9. (lambda_{1} in RealNonNeg), (lambda_{2} in RealNonNeg), ..., (lambda_{Min(m, n)} in RealNonNeg)\n",
       "   core type: ExprRange\n",
       "   lambda_map: 12\n",
       "   start_index: 37\n",
       "   end_index: 38\n",
       "10. Sum\n",
       "    core type: Literal\n",
       "    sub-expressions: \n",
       "11. (i -> {lambda_{i} * (|a_{i}〉 . |b_{i}〉) if i in {1 .. Min(m, n)}.)\n",
       "    core type: ExprTuple\n",
       "    sub-expressions: 13\n",
       "12. _a -> (lambda_{_a} in RealNonNeg)\n",
       "    core type: Lambda\n",
       "    parameter: 29\n",
       "    body: 14\n",
       "13. i -> {lambda_{i} * (|a_{i}〉 . |b_{i}〉) if i in {1 .. Min(m, n)}.\n",
       "    core type: Lambda\n",
       "    parameter: 51\n",
       "    body: 15\n",
       "14. lambda_{_a} in RealNonNeg\n",
       "    core type: Operation\n",
       "    operator: 23\n",
       "    operands: 16\n",
       "15. {lambda_{i} * (|a_{i}〉 . |b_{i}〉) if i in {1 .. Min(m, n)}.\n",
       "    core type: Conditional\n",
       "    value: 17\n",
       "    condition: 18\n",
       "16. (lambda_{_a}, RealNonNeg)\n",
       "    core type: ExprTuple\n",
       "    sub-expressions: 19, 20\n",
       "17. lambda_{i} * (|a_{i}〉 . |b_{i}〉)\n",
       "    core type: Operation\n",
       "    operator: 21\n",
       "    operands: 22\n",
       "18. i in {1 .. Min(m, n)}\n",
       "    core type: Operation\n",
       "    operator: 23\n",
       "    operands: 24\n",
       "19. lambda_{_a}\n",
       "    core type: IndexedVar\n",
       "variable: 30\n",
       "index: 29\n",
       "20. RealNonNeg\n",
       "    core type: Literal\n",
       "    sub-expressions: \n",
       "21. *\n",
       "    core type: Literal\n",
       "    sub-expressions: \n",
       "22. (lambda_{i}, |a_{i}〉 . |b_{i}〉)\n",
       "    core type: ExprTuple\n",
       "    sub-expressions: 26, 27\n",
       "23. in\n",
       "    core type: Literal\n",
       "    sub-expressions: \n",
       "24. (i, {1 .. Min(m, n)})\n",
       "    core type: ExprTuple\n",
       "    sub-expressions: 51, 28\n",
       "25. (_a)\n",
       "    core type: ExprTuple\n",
       "    sub-expressions: 29\n",
       "26. lambda_{i}\n",
       "    core type: IndexedVar\n",
       "variable: 30\n",
       "index: 51\n",
       "27. |a_{i}〉 . |b_{i}〉\n",
       "    core type: Operation\n",
       "    operator: 31\n",
       "    operands: 32\n",
       "28. {1 .. Min(m, n)}\n",
       "    core type: Operation\n",
       "    operator: 33\n",
       "    operands: 34\n",
       "29. _a\n",
       "    core type: Variable\n",
       "    sub-expressions: \n",
       "30. lambda\n",
       "    core type: Variable\n",
       "    sub-expressions: \n",
       "31. .\n",
       "    core type: Literal\n",
       "    sub-expressions: \n",
       "32. (|a_{i}〉, |b_{i}〉)\n",
       "    core type: ExprTuple\n",
       "    sub-expressions: 35, 36\n",
       "33. Interval\n",
       "    core type: Literal\n",
       "    sub-expressions: \n",
       "34. (1, Min(m, n))\n",
       "    core type: ExprTuple\n",
       "    sub-expressions: 37, 38\n",
       "35. |a_{i}〉\n",
       "    core type: Operation\n",
       "    operator: 40\n",
       "    operand: 44\n",
       "36. |b_{i}〉\n",
       "    core type: Operation\n",
       "    operator: 40\n",
       "    operand: 45\n",
       "37. 1\n",
       "    core type: Literal\n",
       "    sub-expressions: \n",
       "38. Min(m, n)\n",
       "    core type: Operation\n",
       "    operator: 42\n",
       "    operands: 43\n",
       "39. (a_{i})\n",
       "    core type: ExprTuple\n",
       "    sub-expressions: 44\n",
       "40. KET\n",
       "    core type: Literal\n",
       "    sub-expressions: \n",
       "41. (b_{i})\n",
       "    core type: ExprTuple\n",
       "    sub-expressions: 45\n",
       "42. Min\n",
       "    core type: Literal\n",
       "    sub-expressions: \n",
       "43. (m, n)\n",
       "    core type: ExprTuple\n",
       "    sub-expressions: 46, 47\n",
       "44. a_{i}\n",
       "    core type: IndexedVar\n",
       "variable: 48\n",
       "index: 51\n",
       "45. b_{i}\n",
       "    core type: IndexedVar\n",
       "variable: 49\n",
       "index: 51\n",
       "46. m\n",
       "    core type: Variable\n",
       "    sub-expressions: \n",
       "47. n\n",
       "    core type: Variable\n",
       "    sub-expressions: \n",
       "48. a\n",
       "    core type: Variable\n",
       "    sub-expressions: \n",
       "49. b\n",
       "    core type: Variable\n",
       "    sub-expressions: \n",
       "50. (i)\n",
       "    core type: ExprTuple\n",
       "    sub-expressions: 51\n",
       "51. i\n",
       "    core type: Variable\n",
       "    sub-expressions: "
      ]
     },
     "metadata": {},
     "output_type": "display_data"
    }
   ],
   "source": [
    "# display the expression information\n",
    "stored_expr.expr_info()"
   ]
  },
  {
   "cell_type": "code",
   "execution_count": null,
   "metadata": {},
   "outputs": [],
   "source": []
  }
 ],
 "metadata": {
  "kernelspec": {
   "display_name": "Python 3",
   "language": "python",
   "name": "python3"
  }
 },
 "nbformat": 4,
 "nbformat_minor": 0
}