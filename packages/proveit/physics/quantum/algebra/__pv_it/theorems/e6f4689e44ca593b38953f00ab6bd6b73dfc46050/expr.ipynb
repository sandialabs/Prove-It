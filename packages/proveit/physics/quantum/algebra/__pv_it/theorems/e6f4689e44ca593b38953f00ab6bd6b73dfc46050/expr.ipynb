{
 "cells": [
  {
   "cell_type": "markdown",
   "metadata": {},
   "source": [
    "Expression of type <a class=\"ProveItLink\" href=\"../../../../../../../../doc/html/api/proveit.Lambda.html\">Lambda</a>\n",
    "=======================\n",
    "# from the theory of <a class=\"ProveItLink\" href=\"../../../_theory_nbs_/theory.ipynb\">proveit.physics.quantum.algebra</a>"
   ]
  },
  {
   "cell_type": "code",
   "execution_count": 1,
   "metadata": {},
   "outputs": [],
   "source": [
    "import proveit\n",
    "# Automation is not needed when building an expression:\n",
    "proveit.defaults.automation = False # This will speed things up.\n",
    "proveit.defaults.inline_pngs = False # Makes files smaller.\n",
    "%load_expr # Load the stored expression as 'stored_expr'\n",
    "# import Expression classes needed to build the expression\n",
    "from proveit import Lambda, X\n",
    "from proveit.linear_algebra import Hspace\n",
    "from proveit.logic import Forall, InClass, InSet\n",
    "from proveit.physics.quantum import Qmult, QmultCodomain, bra_varphi, ket_varphi, var_ket_psi, varphi"
   ]
  },
  {
   "cell_type": "code",
   "execution_count": 2,
   "metadata": {},
   "outputs": [
    {
     "data": {
      "text/html": [
       "<strong id=\"expr\">expr:</strong> <a class=\"ProveItLink\" href=\"expr.ipynb\"><img src=\"expr.png\" style=\"display:inline;vertical-align:middle;\" /></a><br>"
      ],
      "text/plain": [
       "<IPython.core.display.HTML object>"
      ]
     },
     "metadata": {},
     "output_type": "display_data"
    }
   ],
   "source": [
    "# build up the expression from sub-expressions\n",
    "expr = Lambda([Hspace, X], Forall(instance_param_or_params = [var_ket_psi], instance_expr = Forall(instance_param_or_params = [varphi], instance_expr = InClass(Qmult(var_ket_psi, bra_varphi), QmultCodomain), condition = InSet(ket_varphi, X)), domain = Hspace))"
   ]
  },
  {
   "cell_type": "code",
   "execution_count": 3,
   "metadata": {},
   "outputs": [
    {
     "name": "stdout",
     "output_type": "stream",
     "text": [
      "Passed sanity check: expr matches stored_expr\n"
     ]
    }
   ],
   "source": [
    "# check that the built expression is the same as the stored expression\n",
    "assert expr == stored_expr\n",
    "assert expr._style_id == stored_expr._style_id\n",
    "print(\"Passed sanity check: expr matches stored_expr\")"
   ]
  },
  {
   "cell_type": "code",
   "execution_count": 4,
   "metadata": {},
   "outputs": [
    {
     "name": "stdout",
     "output_type": "stream",
     "text": [
      "\\left(\\mathcal{H}, X\\right) \\mapsto \\left[\\forall_{\\lvert \\psi \\rangle \\in \\mathcal{H}}~\\left[\\forall_{\\varphi~|~\\lvert \\varphi \\rangle \\in X}~\\left(\\left(\\lvert \\psi \\rangle \\thinspace \\langle \\varphi \\rvert\\right) \\underset{{\\scriptscriptstyle c}}{\\in} \\mathcal{Q^*}\\right)\\right]\\right]\n"
     ]
    }
   ],
   "source": [
    "# Show the LaTeX representation of the expression for convenience if you need it.\n",
    "print(stored_expr.latex())"
   ]
  },
  {
   "cell_type": "code",
   "execution_count": 5,
   "metadata": {},
   "outputs": [
    {
     "data": {
      "text/html": [
       "no style options"
      ],
      "text/plain": [
       "no style options"
      ]
     },
     "metadata": {},
     "output_type": "display_data"
    }
   ],
   "source": [
    "stored_expr.style_options()"
   ]
  },
  {
   "cell_type": "code",
   "execution_count": 6,
   "metadata": {},
   "outputs": [
    {
     "data": {
      "text/html": [
       "<table><tr><th>&nbsp;</th><th>core type</th><th>sub-expressions</th><th>expression</th></tr>\n",
       "<tr><td>0</td><td>Lambda</td><td>parameters:&nbsp;1<br>body:&nbsp;2<br></td><td><a class=\"ProveItLink\" href=\"expr.ipynb\"><img src=\"expr.png\" style=\"display:inline;vertical-align:middle;\" /></a></td></tr>\n",
       "<tr><td>1</td><td>ExprTuple</td><td>13, 24</td><td><a class=\"ProveItLink\" href=\"../8e7e6f28bc2d529b8d61f74929566839b8a3cd1a0/expr.ipynb\"><img src=\"../8e7e6f28bc2d529b8d61f74929566839b8a3cd1a0/expr.png\" style=\"display:inline;vertical-align:middle;\" /></a></td></tr>\n",
       "<tr><td>2</td><td>Operation</td><td>operator:&nbsp;9<br>operand:&nbsp;4<br></td><td><a class=\"ProveItLink\" href=\"../bee885987c2f380c99ed62206db14ab873c0b5410/expr.ipynb\"><img src=\"../bee885987c2f380c99ed62206db14ab873c0b5410/expr.png\" style=\"display:inline;vertical-align:middle;\" /></a></td></tr>\n",
       "<tr><td>3</td><td>ExprTuple</td><td>4</td><td><a class=\"ProveItLink\" href=\"../c0d8f8b28d5b8d3467b587daf84f2fcc9c94683a0/expr.ipynb\"><img src=\"../c0d8f8b28d5b8d3467b587daf84f2fcc9c94683a0/expr.png\" style=\"display:inline;vertical-align:middle;\" /></a></td></tr>\n",
       "<tr><td>4</td><td>Lambda</td><td>parameter:&nbsp;28<br>body:&nbsp;6<br></td><td><a class=\"ProveItLink\" href=\"../7ee0ca340c7df47c70791c2593ebaa88eb3c45960/expr.ipynb\"><img src=\"../7ee0ca340c7df47c70791c2593ebaa88eb3c45960/expr.png\" style=\"display:inline;vertical-align:middle;\" /></a></td></tr>\n",
       "<tr><td>5</td><td>ExprTuple</td><td>28</td><td><a class=\"ProveItLink\" href=\"../80ed9bf14a6ef50aaa4da94b0dbfb5b44f09ae9c0/expr.ipynb\"><img src=\"../80ed9bf14a6ef50aaa4da94b0dbfb5b44f09ae9c0/expr.png\" style=\"display:inline;vertical-align:middle;\" /></a></td></tr>\n",
       "<tr><td>6</td><td>Conditional</td><td>value:&nbsp;7<br>condition:&nbsp;8<br></td><td><a class=\"ProveItLink\" href=\"../5b2c47cdfe8cd94eed927d9f496ed110c039a8480/expr.ipynb\"><img src=\"../5b2c47cdfe8cd94eed927d9f496ed110c039a8480/expr.png\" style=\"display:inline;vertical-align:middle;\" /></a></td></tr>\n",
       "<tr><td>7</td><td>Operation</td><td>operator:&nbsp;9<br>operand:&nbsp;12<br></td><td><a class=\"ProveItLink\" href=\"../140554233b182b5c894f7b36573dca15ab6c8db80/expr.ipynb\"><img src=\"../140554233b182b5c894f7b36573dca15ab6c8db80/expr.png\" style=\"display:inline;vertical-align:middle;\" /></a></td></tr>\n",
       "<tr><td>8</td><td>Operation</td><td>operator:&nbsp;19<br>operands:&nbsp;11<br></td><td><a class=\"ProveItLink\" href=\"../878f2b4530e2e5304533ce5413156fd1621b70400/expr.ipynb\"><img src=\"../878f2b4530e2e5304533ce5413156fd1621b70400/expr.png\" style=\"display:inline;vertical-align:middle;\" /></a></td></tr>\n",
       "<tr><td>9</td><td>Literal</td><td></td><td><a class=\"ProveItLink\" href=\"../../../../../../logic/booleans/quantification/universality/__pv_it/common/083d2baa0b8ecab1d230f9ec29a15aa1355809fb0/expr.ipynb\"><img src=\"../../../../../../logic/booleans/quantification/universality/__pv_it/common/083d2baa0b8ecab1d230f9ec29a15aa1355809fb0/expr.png\" style=\"display:inline;vertical-align:middle;\" /></a></td></tr>\n",
       "<tr><td>10</td><td>ExprTuple</td><td>12</td><td><a class=\"ProveItLink\" href=\"../ccf7853db2f168bae49e70d5f3f4470eb37a7a700/expr.ipynb\"><img src=\"../ccf7853db2f168bae49e70d5f3f4470eb37a7a700/expr.png\" style=\"display:inline;vertical-align:middle;\" /></a></td></tr>\n",
       "<tr><td>11</td><td>ExprTuple</td><td>28, 13</td><td><a class=\"ProveItLink\" href=\"../45d117c0688e7bdf2539e0936dc96443a677d60f0/expr.ipynb\"><img src=\"../45d117c0688e7bdf2539e0936dc96443a677d60f0/expr.png\" style=\"display:inline;vertical-align:middle;\" /></a></td></tr>\n",
       "<tr><td>12</td><td>Lambda</td><td>parameter:&nbsp;32<br>body:&nbsp;14<br></td><td><a class=\"ProveItLink\" href=\"../50d58075987630a4b968d32cc2ebe233cc19b0070/expr.ipynb\"><img src=\"../50d58075987630a4b968d32cc2ebe233cc19b0070/expr.png\" style=\"display:inline;vertical-align:middle;\" /></a></td></tr>\n",
       "<tr><td>13</td><td>Variable</td><td></td><td><a class=\"ProveItLink\" href=\"../../../../../../linear_algebra/inner_products/__pv_it/common/0a298dc12c549b5fdc96454972e9674c7dbf104f0/expr.ipynb\"><img src=\"../../../../../../linear_algebra/inner_products/__pv_it/common/0a298dc12c549b5fdc96454972e9674c7dbf104f0/expr.png\" style=\"display:inline;vertical-align:middle;\" /></a></td></tr>\n",
       "<tr><td>14</td><td>Conditional</td><td>value:&nbsp;15<br>condition:&nbsp;16<br></td><td><a class=\"ProveItLink\" href=\"../73ae9b3e1a7cd75716271e0e8f92e18c2c07c47d0/expr.ipynb\"><img src=\"../73ae9b3e1a7cd75716271e0e8f92e18c2c07c47d0/expr.png\" style=\"display:inline;vertical-align:middle;\" /></a></td></tr>\n",
       "<tr><td>15</td><td>Operation</td><td>operator:&nbsp;17<br>operands:&nbsp;18<br></td><td><a class=\"ProveItLink\" href=\"../e896fa1b0aa521d68feae26be534aebd7791520c0/expr.ipynb\"><img src=\"../e896fa1b0aa521d68feae26be534aebd7791520c0/expr.png\" style=\"display:inline;vertical-align:middle;\" /></a></td></tr>\n",
       "<tr><td>16</td><td>Operation</td><td>operator:&nbsp;19<br>operands:&nbsp;20<br></td><td><a class=\"ProveItLink\" href=\"../8c20cf75b49009f332d7cc2aa1ed3e8d307bcc470/expr.ipynb\"><img src=\"../8c20cf75b49009f332d7cc2aa1ed3e8d307bcc470/expr.png\" style=\"display:inline;vertical-align:middle;\" /></a></td></tr>\n",
       "<tr><td>17</td><td>Literal</td><td></td><td><a class=\"ProveItLink\" href=\"../../../../../../logic/classes/membership/__pv_it/common/e3b437d28fbe17f0a50c9789c7c9b47a1270f1420/expr.ipynb\"><img src=\"../../../../../../logic/classes/membership/__pv_it/common/e3b437d28fbe17f0a50c9789c7c9b47a1270f1420/expr.png\" style=\"display:inline;vertical-align:middle;\" /></a></td></tr>\n",
       "<tr><td>18</td><td>ExprTuple</td><td>21, 22</td><td><a class=\"ProveItLink\" href=\"../0010de3c59ebec9be849da587ee8d7241c8cc23b0/expr.ipynb\"><img src=\"../0010de3c59ebec9be849da587ee8d7241c8cc23b0/expr.png\" style=\"display:inline;vertical-align:middle;\" /></a></td></tr>\n",
       "<tr><td>19</td><td>Literal</td><td></td><td><a class=\"ProveItLink\" href=\"../../../../../../logic/sets/membership/__pv_it/common/477487d8796864d23d5810f83761435f25167f690/expr.ipynb\"><img src=\"../../../../../../logic/sets/membership/__pv_it/common/477487d8796864d23d5810f83761435f25167f690/expr.png\" style=\"display:inline;vertical-align:middle;\" /></a></td></tr>\n",
       "<tr><td>20</td><td>ExprTuple</td><td>23, 24</td><td><a class=\"ProveItLink\" href=\"../30f66bbcd8696d29e1cf9eed8877336febfe9c340/expr.ipynb\"><img src=\"../30f66bbcd8696d29e1cf9eed8877336febfe9c340/expr.png\" style=\"display:inline;vertical-align:middle;\" /></a></td></tr>\n",
       "<tr><td>21</td><td>Operation</td><td>operator:&nbsp;25<br>operands:&nbsp;26<br></td><td><a class=\"ProveItLink\" href=\"../a0653f027822af5f95d3156a10b942703a0880400/expr.ipynb\"><img src=\"../a0653f027822af5f95d3156a10b942703a0880400/expr.png\" style=\"display:inline;vertical-align:middle;\" /></a></td></tr>\n",
       "<tr><td>22</td><td>Literal</td><td></td><td><a class=\"ProveItLink\" href=\"../../common/9eb627883d0de35514f5f025d8d6d9a6894424630/expr.ipynb\"><img src=\"../../common/9eb627883d0de35514f5f025d8d6d9a6894424630/expr.png\" style=\"display:inline;vertical-align:middle;\" /></a></td></tr>\n",
       "<tr><td>23</td><td>Operation</td><td>operator:&nbsp;27<br>operand:&nbsp;32<br></td><td><a class=\"ProveItLink\" href=\"../../../../__pv_it/common/c9a1043629ff97823c162335c02491b28faa23df0/expr.ipynb\"><img src=\"../../../../__pv_it/common/c9a1043629ff97823c162335c02491b28faa23df0/expr.png\" style=\"display:inline;vertical-align:middle;\" /></a></td></tr>\n",
       "<tr><td>24</td><td>Variable</td><td></td><td><a class=\"ProveItLink\" href=\"../../../../../../__pv_it/common/f1ca094affb79f5011ff4d63eb4e121bfbde7f330/expr.ipynb\"><img src=\"../../../../../../__pv_it/common/f1ca094affb79f5011ff4d63eb4e121bfbde7f330/expr.png\" style=\"display:inline;vertical-align:middle;\" /></a></td></tr>\n",
       "<tr><td>25</td><td>Literal</td><td></td><td><a class=\"ProveItLink\" href=\"../../common/2972e0deb52c96565b39f905d407d7302ae287580/expr.ipynb\"><img src=\"../../common/2972e0deb52c96565b39f905d407d7302ae287580/expr.png\" style=\"display:inline;vertical-align:middle;\" /></a></td></tr>\n",
       "<tr><td>26</td><td>ExprTuple</td><td>28, 29</td><td><a class=\"ProveItLink\" href=\"../bffbc0a1294ffde1603bbb08dde4234c339ee6a30/expr.ipynb\"><img src=\"../bffbc0a1294ffde1603bbb08dde4234c339ee6a30/expr.png\" style=\"display:inline;vertical-align:middle;\" /></a></td></tr>\n",
       "<tr><td>27</td><td>Literal</td><td></td><td><a class=\"ProveItLink\" href=\"../../common/e3872951fe05b26090372918594af92cac779e280/expr.ipynb\"><img src=\"../../common/e3872951fe05b26090372918594af92cac779e280/expr.png\" style=\"display:inline;vertical-align:middle;\" /></a></td></tr>\n",
       "<tr><td>28</td><td>Variable</td><td></td><td><a class=\"ProveItLink\" href=\"../../../../__pv_it/common/798a4b85c58eead0b86ebff17277cd7c4a79a3160/expr.ipynb\"><img src=\"../../../../__pv_it/common/798a4b85c58eead0b86ebff17277cd7c4a79a3160/expr.png\" style=\"display:inline;vertical-align:middle;\" /></a></td></tr>\n",
       "<tr><td>29</td><td>Operation</td><td>operator:&nbsp;30<br>operand:&nbsp;32<br></td><td><a class=\"ProveItLink\" href=\"../../../../__pv_it/common/1c3613f29e51fee59dc4396d8f9530ed1869cf290/expr.ipynb\"><img src=\"../../../../__pv_it/common/1c3613f29e51fee59dc4396d8f9530ed1869cf290/expr.png\" style=\"display:inline;vertical-align:middle;\" /></a></td></tr>\n",
       "<tr><td>30</td><td>Literal</td><td></td><td><a class=\"ProveItLink\" href=\"../../common/3123474674911507d272713eb0a3f543c87b57ba0/expr.ipynb\"><img src=\"../../common/3123474674911507d272713eb0a3f543c87b57ba0/expr.png\" style=\"display:inline;vertical-align:middle;\" /></a></td></tr>\n",
       "<tr><td>31</td><td>ExprTuple</td><td>32</td><td><a class=\"ProveItLink\" href=\"../../../../__pv_it/common/01a9ba963790206039a68d1305bb5070dd137de10/expr.ipynb\"><img src=\"../../../../__pv_it/common/01a9ba963790206039a68d1305bb5070dd137de10/expr.png\" style=\"display:inline;vertical-align:middle;\" /></a></td></tr>\n",
       "<tr><td>32</td><td>Variable</td><td></td><td><a class=\"ProveItLink\" href=\"../../../../__pv_it/common/eff3454ef41960bf5bb736e8ee0e81bb07107e080/expr.ipynb\"><img src=\"../../../../__pv_it/common/eff3454ef41960bf5bb736e8ee0e81bb07107e080/expr.png\" style=\"display:inline;vertical-align:middle;\" /></a></td></tr>\n",
       "</table>\n"
      ],
      "text/plain": [
       "0. (H, X) -> [forall_{|psi> in H} [forall_{varphi | |varphi〉 in X} ((|psi> . 〈varphi|) in_c Q*)]]\n",
       "   core type: Lambda\n",
       "   parameters: 1\\n   body: 2\n",
       "1. (H, X)\n",
       "   core type: ExprTuple\n",
       "   sub-expressions: 13, 24\n",
       "2. forall_{|psi> in H} [forall_{varphi | |varphi〉 in X} ((|psi> . 〈varphi|) in_c Q*)]\n",
       "   core type: Operation\n",
       "   operator: 9\n",
       "   operand: 4\n",
       "3. (|psi> -> {forall_{varphi | |varphi〉 in X} ((|psi> . 〈varphi|) in_c Q*) if |psi> in H.)\n",
       "   core type: ExprTuple\n",
       "   sub-expressions: 4\n",
       "4. |psi> -> {forall_{varphi | |varphi〉 in X} ((|psi> . 〈varphi|) in_c Q*) if |psi> in H.\n",
       "   core type: Lambda\n",
       "   parameter: 28\n",
       "   body: 6\n",
       "5. (|psi>)\n",
       "   core type: ExprTuple\n",
       "   sub-expressions: 28\n",
       "6. {forall_{varphi | |varphi〉 in X} ((|psi> . 〈varphi|) in_c Q*) if |psi> in H.\n",
       "   core type: Conditional\n",
       "   value: 7\n",
       "   condition: 8\n",
       "7. forall_{varphi | |varphi〉 in X} ((|psi> . 〈varphi|) in_c Q*)\n",
       "   core type: Operation\n",
       "   operator: 9\n",
       "   operand: 12\n",
       "8. |psi> in H\n",
       "   core type: Operation\n",
       "   operator: 19\n",
       "   operands: 11\n",
       "9. forall\n",
       "   core type: Literal\n",
       "   sub-expressions: \n",
       "10. (varphi -> {(|psi> . 〈varphi|) in_c Q* if |varphi〉 in X.)\n",
       "    core type: ExprTuple\n",
       "    sub-expressions: 12\n",
       "11. (|psi>, H)\n",
       "    core type: ExprTuple\n",
       "    sub-expressions: 28, 13\n",
       "12. varphi -> {(|psi> . 〈varphi|) in_c Q* if |varphi〉 in X.\n",
       "    core type: Lambda\n",
       "    parameter: 32\n",
       "    body: 14\n",
       "13. H\n",
       "    core type: Variable\n",
       "    sub-expressions: \n",
       "14. {(|psi> . 〈varphi|) in_c Q* if |varphi〉 in X.\n",
       "    core type: Conditional\n",
       "    value: 15\n",
       "    condition: 16\n",
       "15. (|psi> . 〈varphi|) in_c Q*\n",
       "    core type: Operation\n",
       "    operator: 17\n",
       "    operands: 18\n",
       "16. |varphi〉 in X\n",
       "    core type: Operation\n",
       "    operator: 19\n",
       "    operands: 20\n",
       "17. in_c\n",
       "    core type: Literal\n",
       "    sub-expressions: \n",
       "18. (|psi> . 〈varphi|, Q*)\n",
       "    core type: ExprTuple\n",
       "    sub-expressions: 21, 22\n",
       "19. in\n",
       "    core type: Literal\n",
       "    sub-expressions: \n",
       "20. (|varphi〉, X)\n",
       "    core type: ExprTuple\n",
       "    sub-expressions: 23, 24\n",
       "21. |psi> . 〈varphi|\n",
       "    core type: Operation\n",
       "    operator: 25\n",
       "    operands: 26\n",
       "22. Q*\n",
       "    core type: Literal\n",
       "    sub-expressions: \n",
       "23. |varphi〉\n",
       "    core type: Operation\n",
       "    operator: 27\n",
       "    operand: 32\n",
       "24. X\n",
       "    core type: Variable\n",
       "    sub-expressions: \n",
       "25. .\n",
       "    core type: Literal\n",
       "    sub-expressions: \n",
       "26. (|psi>, 〈varphi|)\n",
       "    core type: ExprTuple\n",
       "    sub-expressions: 28, 29\n",
       "27. KET\n",
       "    core type: Literal\n",
       "    sub-expressions: \n",
       "28. |psi>\n",
       "    core type: Variable\n",
       "    sub-expressions: \n",
       "29. 〈varphi|\n",
       "    core type: Operation\n",
       "    operator: 30\n",
       "    operand: 32\n",
       "30. BRA\n",
       "    core type: Literal\n",
       "    sub-expressions: \n",
       "31. (varphi)\n",
       "    core type: ExprTuple\n",
       "    sub-expressions: 32\n",
       "32. varphi\n",
       "    core type: Variable\n",
       "    sub-expressions: "
      ]
     },
     "metadata": {},
     "output_type": "display_data"
    }
   ],
   "source": [
    "# display the expression information\n",
    "stored_expr.expr_info()"
   ]
  },
  {
   "cell_type": "code",
   "execution_count": null,
   "metadata": {},
   "outputs": [],
   "source": []
  }
 ],
 "metadata": {
  "kernelspec": {
   "display_name": "Python 3",
   "language": "python",
   "name": "python3"
  }
 },
 "nbformat": 4,
 "nbformat_minor": 0
}