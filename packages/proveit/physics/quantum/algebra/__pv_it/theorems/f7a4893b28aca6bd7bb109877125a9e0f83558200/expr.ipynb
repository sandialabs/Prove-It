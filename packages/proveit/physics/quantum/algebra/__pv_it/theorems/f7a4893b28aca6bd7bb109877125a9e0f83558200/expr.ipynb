{
 "cells": [
  {
   "cell_type": "markdown",
   "metadata": {},
   "source": [
    "Expression of type <a class=\"ProveItLink\" href=\"../../../../../../../../doc/html/api/proveit.ExprTuple.html\">ExprTuple</a>\n",
    "=======================\n",
    "# from the theory of <a class=\"ProveItLink\" href=\"../../../_theory_nbs_/theory.ipynb\">proveit.physics.quantum.algebra</a>"
   ]
  },
  {
   "cell_type": "code",
   "execution_count": 1,
   "metadata": {},
   "outputs": [],
   "source": [
    "import proveit\n",
    "# Automation is not needed when building an expression:\n",
    "proveit.defaults.automation = False # This will speed things up.\n",
    "proveit.defaults.inline_pngs = False # Makes files smaller.\n",
    "%load_expr # Load the stored expression as 'stored_expr'\n",
    "# import Expression classes needed to build the expression\n",
    "from proveit import Conditional, ExprTuple, Lambda, X\n",
    "from proveit.linear_algebra import Hspace, LinMap\n",
    "from proveit.logic import InSet\n",
    "from proveit.physics.quantum import Qmult, bra_varphi, ket_varphi, var_ket_psi, varphi"
   ]
  },
  {
   "cell_type": "code",
   "execution_count": 2,
   "metadata": {},
   "outputs": [
    {
     "data": {
      "text/html": [
       "<strong id=\"expr\">expr:</strong> <a class=\"ProveItLink\" href=\"expr.ipynb\"><img src=\"expr.png\" style=\"display:inline;vertical-align:middle;\" /></a><br>"
      ],
      "text/plain": [
       "<IPython.core.display.HTML object>"
      ]
     },
     "metadata": {},
     "output_type": "display_data"
    }
   ],
   "source": [
    "# build up the expression from sub-expressions\n",
    "expr = ExprTuple(Lambda(varphi, Conditional(InSet(Qmult(var_ket_psi, bra_varphi), LinMap(X, Hspace)), InSet(ket_varphi, X))))"
   ]
  },
  {
   "cell_type": "code",
   "execution_count": 3,
   "metadata": {},
   "outputs": [
    {
     "name": "stdout",
     "output_type": "stream",
     "text": [
      "Passed sanity check: expr matches stored_expr\n"
     ]
    }
   ],
   "source": [
    "# check that the built expression is the same as the stored expression\n",
    "assert expr == stored_expr\n",
    "assert expr._style_id == stored_expr._style_id\n",
    "print(\"Passed sanity check: expr matches stored_expr\")"
   ]
  },
  {
   "cell_type": "code",
   "execution_count": 4,
   "metadata": {},
   "outputs": [
    {
     "name": "stdout",
     "output_type": "stream",
     "text": [
      "\\left(\\varphi \\mapsto \\left\\{\\left(\\lvert \\psi \\rangle \\thinspace \\langle \\varphi \\rvert\\right) \\in \\mathcal{L}\\left(X, \\mathcal{H}\\right) \\textrm{ if } \\lvert \\varphi \\rangle \\in X\\right..\\right)\n"
     ]
    }
   ],
   "source": [
    "# Show the LaTeX representation of the expression for convenience if you need it.\n",
    "print(stored_expr.latex())"
   ]
  },
  {
   "cell_type": "code",
   "execution_count": 5,
   "metadata": {},
   "outputs": [
    {
     "data": {
      "text/html": [
       "no style options"
      ],
      "text/plain": [
       "no style options"
      ]
     },
     "metadata": {},
     "output_type": "display_data"
    }
   ],
   "source": [
    "stored_expr.style_options()"
   ]
  },
  {
   "cell_type": "code",
   "execution_count": 6,
   "metadata": {},
   "outputs": [
    {
     "data": {
      "text/html": [
       "<table><tr><th>&nbsp;</th><th>core type</th><th>sub-expressions</th><th>expression</th></tr>\n",
       "<tr><td>0</td><td>ExprTuple</td><td>1</td><td><a class=\"ProveItLink\" href=\"expr.ipynb\"><img src=\"expr.png\" style=\"display:inline;vertical-align:middle;\" /></a></td></tr>\n",
       "<tr><td>1</td><td>Lambda</td><td>parameter:&nbsp;22<br>body:&nbsp;2<br></td><td><a class=\"ProveItLink\" href=\"../340603e1e71ed7089956fb236dfceab3851fd5d70/expr.ipynb\"><img src=\"../340603e1e71ed7089956fb236dfceab3851fd5d70/expr.png\" style=\"display:inline;vertical-align:middle;\" /></a></td></tr>\n",
       "<tr><td>2</td><td>Conditional</td><td>value:&nbsp;3<br>condition:&nbsp;4<br></td><td><a class=\"ProveItLink\" href=\"../03533a1906697e20d049b5cac8c616c17747f5430/expr.ipynb\"><img src=\"../03533a1906697e20d049b5cac8c616c17747f5430/expr.png\" style=\"display:inline;vertical-align:middle;\" /></a></td></tr>\n",
       "<tr><td>3</td><td>Operation</td><td>operator:&nbsp;6<br>operands:&nbsp;5<br></td><td><a class=\"ProveItLink\" href=\"../2a9018511f3b565133185e2abcb0a0d53a7a0f200/expr.ipynb\"><img src=\"../2a9018511f3b565133185e2abcb0a0d53a7a0f200/expr.png\" style=\"display:inline;vertical-align:middle;\" /></a></td></tr>\n",
       "<tr><td>4</td><td>Operation</td><td>operator:&nbsp;6<br>operands:&nbsp;7<br></td><td><a class=\"ProveItLink\" href=\"../8c20cf75b49009f332d7cc2aa1ed3e8d307bcc470/expr.ipynb\"><img src=\"../8c20cf75b49009f332d7cc2aa1ed3e8d307bcc470/expr.png\" style=\"display:inline;vertical-align:middle;\" /></a></td></tr>\n",
       "<tr><td>5</td><td>ExprTuple</td><td>8, 9</td><td><a class=\"ProveItLink\" href=\"../326f59c8881dd1abacc9b93ef51e90d4b709b8d20/expr.ipynb\"><img src=\"../326f59c8881dd1abacc9b93ef51e90d4b709b8d20/expr.png\" style=\"display:inline;vertical-align:middle;\" /></a></td></tr>\n",
       "<tr><td>6</td><td>Literal</td><td></td><td><a class=\"ProveItLink\" href=\"../../../../../../logic/sets/membership/__pv_it/common/477487d8796864d23d5810f83761435f25167f690/expr.ipynb\"><img src=\"../../../../../../logic/sets/membership/__pv_it/common/477487d8796864d23d5810f83761435f25167f690/expr.png\" style=\"display:inline;vertical-align:middle;\" /></a></td></tr>\n",
       "<tr><td>7</td><td>ExprTuple</td><td>10, 18</td><td><a class=\"ProveItLink\" href=\"../30f66bbcd8696d29e1cf9eed8877336febfe9c340/expr.ipynb\"><img src=\"../30f66bbcd8696d29e1cf9eed8877336febfe9c340/expr.png\" style=\"display:inline;vertical-align:middle;\" /></a></td></tr>\n",
       "<tr><td>8</td><td>Operation</td><td>operator:&nbsp;11<br>operands:&nbsp;12<br></td><td><a class=\"ProveItLink\" href=\"../a0653f027822af5f95d3156a10b942703a0880400/expr.ipynb\"><img src=\"../a0653f027822af5f95d3156a10b942703a0880400/expr.png\" style=\"display:inline;vertical-align:middle;\" /></a></td></tr>\n",
       "<tr><td>9</td><td>Operation</td><td>operator:&nbsp;13<br>operands:&nbsp;14<br></td><td><a class=\"ProveItLink\" href=\"../ee56315bd5bcbf3688e13f631ba84f696ff991820/expr.ipynb\"><img src=\"../ee56315bd5bcbf3688e13f631ba84f696ff991820/expr.png\" style=\"display:inline;vertical-align:middle;\" /></a></td></tr>\n",
       "<tr><td>10</td><td>Operation</td><td>operator:&nbsp;15<br>operand:&nbsp;22<br></td><td><a class=\"ProveItLink\" href=\"../../../../__pv_it/common/c9a1043629ff97823c162335c02491b28faa23df0/expr.ipynb\"><img src=\"../../../../__pv_it/common/c9a1043629ff97823c162335c02491b28faa23df0/expr.png\" style=\"display:inline;vertical-align:middle;\" /></a></td></tr>\n",
       "<tr><td>11</td><td>Literal</td><td></td><td><a class=\"ProveItLink\" href=\"../../common/2972e0deb52c96565b39f905d407d7302ae287580/expr.ipynb\"><img src=\"../../common/2972e0deb52c96565b39f905d407d7302ae287580/expr.png\" style=\"display:inline;vertical-align:middle;\" /></a></td></tr>\n",
       "<tr><td>12</td><td>ExprTuple</td><td>16, 17</td><td><a class=\"ProveItLink\" href=\"../bffbc0a1294ffde1603bbb08dde4234c339ee6a30/expr.ipynb\"><img src=\"../bffbc0a1294ffde1603bbb08dde4234c339ee6a30/expr.png\" style=\"display:inline;vertical-align:middle;\" /></a></td></tr>\n",
       "<tr><td>13</td><td>Literal</td><td></td><td><a class=\"ProveItLink\" href=\"../../../../../../linear_algebra/linear_maps/__pv_it/common/d323a251b3f504c3443ff8de393dbf12697838a10/expr.ipynb\"><img src=\"../../../../../../linear_algebra/linear_maps/__pv_it/common/d323a251b3f504c3443ff8de393dbf12697838a10/expr.png\" style=\"display:inline;vertical-align:middle;\" /></a></td></tr>\n",
       "<tr><td>14</td><td>ExprTuple</td><td>18, 19</td><td><a class=\"ProveItLink\" href=\"../6a3b1bb4b4ea8112b910259ddead25832ba19a310/expr.ipynb\"><img src=\"../6a3b1bb4b4ea8112b910259ddead25832ba19a310/expr.png\" style=\"display:inline;vertical-align:middle;\" /></a></td></tr>\n",
       "<tr><td>15</td><td>Literal</td><td></td><td><a class=\"ProveItLink\" href=\"../../common/e3872951fe05b26090372918594af92cac779e280/expr.ipynb\"><img src=\"../../common/e3872951fe05b26090372918594af92cac779e280/expr.png\" style=\"display:inline;vertical-align:middle;\" /></a></td></tr>\n",
       "<tr><td>16</td><td>Variable</td><td></td><td><a class=\"ProveItLink\" href=\"../../../../__pv_it/common/798a4b85c58eead0b86ebff17277cd7c4a79a3160/expr.ipynb\"><img src=\"../../../../__pv_it/common/798a4b85c58eead0b86ebff17277cd7c4a79a3160/expr.png\" style=\"display:inline;vertical-align:middle;\" /></a></td></tr>\n",
       "<tr><td>17</td><td>Operation</td><td>operator:&nbsp;20<br>operand:&nbsp;22<br></td><td><a class=\"ProveItLink\" href=\"../../../../__pv_it/common/1c3613f29e51fee59dc4396d8f9530ed1869cf290/expr.ipynb\"><img src=\"../../../../__pv_it/common/1c3613f29e51fee59dc4396d8f9530ed1869cf290/expr.png\" style=\"display:inline;vertical-align:middle;\" /></a></td></tr>\n",
       "<tr><td>18</td><td>Variable</td><td></td><td><a class=\"ProveItLink\" href=\"../../../../../../__pv_it/common/f1ca094affb79f5011ff4d63eb4e121bfbde7f330/expr.ipynb\"><img src=\"../../../../../../__pv_it/common/f1ca094affb79f5011ff4d63eb4e121bfbde7f330/expr.png\" style=\"display:inline;vertical-align:middle;\" /></a></td></tr>\n",
       "<tr><td>19</td><td>Variable</td><td></td><td><a class=\"ProveItLink\" href=\"../../../../../../linear_algebra/inner_products/__pv_it/common/0a298dc12c549b5fdc96454972e9674c7dbf104f0/expr.ipynb\"><img src=\"../../../../../../linear_algebra/inner_products/__pv_it/common/0a298dc12c549b5fdc96454972e9674c7dbf104f0/expr.png\" style=\"display:inline;vertical-align:middle;\" /></a></td></tr>\n",
       "<tr><td>20</td><td>Literal</td><td></td><td><a class=\"ProveItLink\" href=\"../../common/3123474674911507d272713eb0a3f543c87b57ba0/expr.ipynb\"><img src=\"../../common/3123474674911507d272713eb0a3f543c87b57ba0/expr.png\" style=\"display:inline;vertical-align:middle;\" /></a></td></tr>\n",
       "<tr><td>21</td><td>ExprTuple</td><td>22</td><td><a class=\"ProveItLink\" href=\"../../../../__pv_it/common/01a9ba963790206039a68d1305bb5070dd137de10/expr.ipynb\"><img src=\"../../../../__pv_it/common/01a9ba963790206039a68d1305bb5070dd137de10/expr.png\" style=\"display:inline;vertical-align:middle;\" /></a></td></tr>\n",
       "<tr><td>22</td><td>Variable</td><td></td><td><a class=\"ProveItLink\" href=\"../../../../__pv_it/common/eff3454ef41960bf5bb736e8ee0e81bb07107e080/expr.ipynb\"><img src=\"../../../../__pv_it/common/eff3454ef41960bf5bb736e8ee0e81bb07107e080/expr.png\" style=\"display:inline;vertical-align:middle;\" /></a></td></tr>\n",
       "</table>\n"
      ],
      "text/plain": [
       "0. (varphi -> {(|psi> . 〈varphi|) in LINMAP(X, H) if |varphi〉 in X.)\n",
       "   core type: ExprTuple\n",
       "   sub-expressions: 1\n",
       "1. varphi -> {(|psi> . 〈varphi|) in LINMAP(X, H) if |varphi〉 in X.\n",
       "   core type: Lambda\n",
       "   parameter: 22\n",
       "   body: 2\n",
       "2. {(|psi> . 〈varphi|) in LINMAP(X, H) if |varphi〉 in X.\n",
       "   core type: Conditional\n",
       "   value: 3\n",
       "   condition: 4\n",
       "3. (|psi> . 〈varphi|) in LINMAP(X, H)\n",
       "   core type: Operation\n",
       "   operator: 6\n",
       "   operands: 5\n",
       "4. |varphi〉 in X\n",
       "   core type: Operation\n",
       "   operator: 6\n",
       "   operands: 7\n",
       "5. (|psi> . 〈varphi|, LINMAP(X, H))\n",
       "   core type: ExprTuple\n",
       "   sub-expressions: 8, 9\n",
       "6. in\n",
       "   core type: Literal\n",
       "   sub-expressions: \n",
       "7. (|varphi〉, X)\n",
       "   core type: ExprTuple\n",
       "   sub-expressions: 10, 18\n",
       "8. |psi> . 〈varphi|\n",
       "   core type: Operation\n",
       "   operator: 11\n",
       "   operands: 12\n",
       "9. LINMAP(X, H)\n",
       "   core type: Operation\n",
       "   operator: 13\n",
       "   operands: 14\n",
       "10. |varphi〉\n",
       "    core type: Operation\n",
       "    operator: 15\n",
       "    operand: 22\n",
       "11. .\n",
       "    core type: Literal\n",
       "    sub-expressions: \n",
       "12. (|psi>, 〈varphi|)\n",
       "    core type: ExprTuple\n",
       "    sub-expressions: 16, 17\n",
       "13. LINMAP\n",
       "    core type: Literal\n",
       "    sub-expressions: \n",
       "14. (X, H)\n",
       "    core type: ExprTuple\n",
       "    sub-expressions: 18, 19\n",
       "15. KET\n",
       "    core type: Literal\n",
       "    sub-expressions: \n",
       "16. |psi>\n",
       "    core type: Variable\n",
       "    sub-expressions: \n",
       "17. 〈varphi|\n",
       "    core type: Operation\n",
       "    operator: 20\n",
       "    operand: 22\n",
       "18. X\n",
       "    core type: Variable\n",
       "    sub-expressions: \n",
       "19. H\n",
       "    core type: Variable\n",
       "    sub-expressions: \n",
       "20. BRA\n",
       "    core type: Literal\n",
       "    sub-expressions: \n",
       "21. (varphi)\n",
       "    core type: ExprTuple\n",
       "    sub-expressions: 22\n",
       "22. varphi\n",
       "    core type: Variable\n",
       "    sub-expressions: "
      ]
     },
     "metadata": {},
     "output_type": "display_data"
    }
   ],
   "source": [
    "# display the expression information\n",
    "stored_expr.expr_info()"
   ]
  },
  {
   "cell_type": "code",
   "execution_count": null,
   "metadata": {},
   "outputs": [],
   "source": []
  }
 ],
 "metadata": {
  "kernelspec": {
   "display_name": "Python 3",
   "language": "python",
   "name": "python3"
  }
 },
 "nbformat": 4,
 "nbformat_minor": 0
}