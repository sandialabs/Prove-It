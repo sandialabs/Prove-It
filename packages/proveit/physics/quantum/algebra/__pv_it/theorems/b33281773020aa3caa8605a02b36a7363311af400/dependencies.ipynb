{
 "cells": [
  {
   "cell_type": "markdown",
   "metadata": {},
   "source": [
    "Theorem Dependencies\n",
    "=======================\n",
    "\n",
    "## <a class=\"ProveItLink\" href=\"../../../_theory_nbs_/theory.ipynb\">proveit.physics.quantum.algebra</a>.<a class=\"ProveItLink\" href=\"../../../_theorems_.ipynb#ket_zero_and_one_have_zero_inner_prod\">ket_zero_and_one_have_zero_inner_prod</a> \n",
    "***see <a class=\"ProveItLink\" href=\"../../../_theory_nbs_/proofs/ket_zero_and_one_have_zero_inner_prod/thm_proof.ipynb\">proof</a>***"
   ]
  },
  {
   "cell_type": "code",
   "execution_count": 1,
   "metadata": {},
   "outputs": [],
   "source": [
    "import proveit\n",
    "# Automation is not needed when querying dependencies:\n",
    "proveit.defaults.automation = False # This will speed things up.\n",
    "proveit.defaults.inline_pngs = False # Makes files smaller.\n",
    "from proveit.physics.quantum.algebra import ket_zero_and_one_have_zero_inner_prod"
   ]
  },
  {
   "cell_type": "code",
   "execution_count": 2,
   "metadata": {},
   "outputs": [
    {
     "data": {
      "text/html": [
       "<h3>Unproven conjectures required (directly or indirectly) to prove ket_zero_and_one_have_zero_inner_prod</h3>"
      ],
      "text/plain": [
       "<IPython.core.display.HTML object>"
      ]
     },
     "metadata": {},
     "output_type": "display_data"
    },
    {
     "data": {
      "text/html": [
       "<dl>"
      ],
      "text/plain": [
       "<IPython.core.display.HTML object>"
      ]
     },
     "metadata": {},
     "output_type": "display_data"
    },
    {
     "data": {
      "text/html": [
       "<dt><a class=\"ProveItLink\" href=\"../../../_theory_nbs_/proofs/ket_zero_and_one_have_zero_inner_prod/thm_proof.ipynb\">proveit.physics.quantum.algebra.ket_zero_and_one_have_zero_inner_prod</a></dt><dd><a class=\"ProveItLink\" href=\"../0fc9b2aae676c21a911e1bf78a59aca7f3356b0a0/expr.ipynb\"><img src=\"../0fc9b2aae676c21a911e1bf78a59aca7f3356b0a0/expr.png\" style=\"display:inline;vertical-align:middle;\" /></a></dd>"
      ],
      "text/plain": [
       "<IPython.core.display.HTML object>"
      ]
     },
     "metadata": {},
     "output_type": "display_data"
    },
    {
     "data": {
      "text/html": [
       "</dl>"
      ],
      "text/plain": [
       "<IPython.core.display.HTML object>"
      ]
     },
     "metadata": {},
     "output_type": "display_data"
    },
    {
     "data": {
      "text/html": [
       "<h3>Theorems/conjectures that depend directly on ket_zero_and_one_have_zero_inner_prod</h3>"
      ],
      "text/plain": [
       "<IPython.core.display.HTML object>"
      ]
     },
     "metadata": {},
     "output_type": "display_data"
    },
    {
     "data": {
      "text/html": [
       "<dl>"
      ],
      "text/plain": [
       "<IPython.core.display.HTML object>"
      ]
     },
     "metadata": {},
     "output_type": "display_data"
    },
    {
     "data": {
      "text/html": [
       "<dt><a class=\"ProveItLink\" href=\"../../../../QPE/_theory_nbs_/proofs/_psi_t_ket_is_normalized_vec/thm_proof.ipynb\">proveit.physics.quantum.QPE._psi_t_ket_is_normalized_vec</a></dt><dd><a class=\"ProveItLink\" href=\"../../../../QPE/__pv_it/theorems/69597cdddc096bf354ec5966375a5dcaab3ca1330/expr.ipynb\"><img src=\"../../../../QPE/__pv_it/theorems/69597cdddc096bf354ec5966375a5dcaab3ca1330/expr.png\" style=\"display:inline;vertical-align:middle;\" /></a></dd>"
      ],
      "text/plain": [
       "<IPython.core.display.HTML object>"
      ]
     },
     "metadata": {},
     "output_type": "display_data"
    },
    {
     "data": {
      "text/html": [
       "</dl>"
      ],
      "text/plain": [
       "<IPython.core.display.HTML object>"
      ]
     },
     "metadata": {},
     "output_type": "display_data"
    }
   ],
   "source": [
    "%dependencies ket_zero_and_one_have_zero_inner_prod"
   ]
  }
 ],
 "metadata": {
  "kernelspec": {
   "display_name": "Python 3",
   "language": "python",
   "name": "python3"
  }
 },
 "nbformat": 4,
 "nbformat_minor": 0
}