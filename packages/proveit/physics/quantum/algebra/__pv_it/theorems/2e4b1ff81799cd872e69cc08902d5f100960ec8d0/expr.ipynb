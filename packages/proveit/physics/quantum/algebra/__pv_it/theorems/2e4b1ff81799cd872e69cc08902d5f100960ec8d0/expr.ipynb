{
 "cells": [
  {
   "cell_type": "markdown",
   "metadata": {},
   "source": [
    "Expression of type <a class=\"ProveItLink\" href=\"../../../../../../../../doc/html/api/proveit.Conditional.html\">Conditional</a>\n",
    "=======================\n",
    "# from the theory of <a class=\"ProveItLink\" href=\"../../../_theory_nbs_/theory.ipynb\">proveit.physics.quantum.algebra</a>"
   ]
  },
  {
   "cell_type": "code",
   "execution_count": 1,
   "metadata": {},
   "outputs": [],
   "source": [
    "import proveit\n",
    "# Automation is not needed when building an expression:\n",
    "proveit.defaults.automation = False # This will speed things up.\n",
    "proveit.defaults.inline_pngs = False # Makes files smaller.\n",
    "%load_expr # Load the stored expression as 'stored_expr'\n",
    "# import Expression classes needed to build the expression\n",
    "from proveit import A, Conditional, X\n",
    "from proveit.linear_algebra import HilbertSpaces, Hspace, LinMap\n",
    "from proveit.logic import And, Forall, InClass, InSet\n",
    "from proveit.physics.quantum import Qmult"
   ]
  },
  {
   "cell_type": "code",
   "execution_count": 2,
   "metadata": {},
   "outputs": [
    {
     "data": {
      "text/html": [
       "<strong id=\"expr\">expr:</strong> <a class=\"ProveItLink\" href=\"expr.ipynb\"><img src=\"expr.png\" style=\"display:inline;vertical-align:middle;\" /></a><br>"
      ],
      "text/plain": [
       "<IPython.core.display.HTML object>"
      ]
     },
     "metadata": {},
     "output_type": "display_data"
    }
   ],
   "source": [
    "# build up the expression from sub-expressions\n",
    "sub_expr1 = LinMap(Hspace, X)\n",
    "expr = Conditional(Forall(instance_param_or_params = [A], instance_expr = InSet(Qmult(A), sub_expr1), domain = sub_expr1), And(InClass(Hspace, HilbertSpaces), InClass(X, HilbertSpaces)))"
   ]
  },
  {
   "cell_type": "code",
   "execution_count": 3,
   "metadata": {},
   "outputs": [
    {
     "name": "stdout",
     "output_type": "stream",
     "text": [
      "Passed sanity check: expr matches stored_expr\n"
     ]
    }
   ],
   "source": [
    "# check that the built expression is the same as the stored expression\n",
    "assert expr == stored_expr\n",
    "assert expr._style_id == stored_expr._style_id\n",
    "print(\"Passed sanity check: expr matches stored_expr\")"
   ]
  },
  {
   "cell_type": "code",
   "execution_count": 4,
   "metadata": {},
   "outputs": [
    {
     "name": "stdout",
     "output_type": "stream",
     "text": [
      "\\left\\{\\forall_{A \\in \\mathcal{L}\\left(\\mathcal{H}, X\\right)}~\\left(\\left[A\\right] \\in \\mathcal{L}\\left(\\mathcal{H}, X\\right)\\right) \\textrm{ if } \\mathcal{H} \\underset{{\\scriptscriptstyle c}}{\\in} \\textrm{HilbertSpaces} ,  X \\underset{{\\scriptscriptstyle c}}{\\in} \\textrm{HilbertSpaces}\\right..\n"
     ]
    }
   ],
   "source": [
    "# Show the LaTeX representation of the expression for convenience if you need it.\n",
    "print(stored_expr.latex())"
   ]
  },
  {
   "cell_type": "code",
   "execution_count": 5,
   "metadata": {},
   "outputs": [
    {
     "data": {
      "text/html": [
       "<table>\n",
       "<tr><th>name</th><th>description</th><th>default</th><th>current value</th><th>related methods</th></tr><tr><td>condition_delimiter</td><td>'comma' or 'and'</td><td>comma</td><td>comma</td><td>('with_comma_delimiter', 'with_conjunction_delimiter')</td></tr>\n",
       "</table>\n"
      ],
      "text/plain": [
       "style name: condition_delimiter\n",
       "description: 'comma' or 'and'\n",
       "default: comma\n",
       "current value: comma\n",
       "related methods: ('with_comma_delimiter', 'with_conjunction_delimiter')"
      ]
     },
     "metadata": {},
     "output_type": "display_data"
    }
   ],
   "source": [
    "stored_expr.style_options()"
   ]
  },
  {
   "cell_type": "code",
   "execution_count": 6,
   "metadata": {},
   "outputs": [
    {
     "data": {
      "text/html": [
       "<table><tr><th>&nbsp;</th><th>core type</th><th>sub-expressions</th><th>expression</th></tr>\n",
       "<tr><td>0</td><td>Conditional</td><td>value:&nbsp;1<br>condition:&nbsp;2<br></td><td><a class=\"ProveItLink\" href=\"expr.ipynb\"><img src=\"expr.png\" style=\"display:inline;vertical-align:middle;\" /></a></td></tr>\n",
       "<tr><td>1</td><td>Operation</td><td>operator:&nbsp;3<br>operand:&nbsp;7<br></td><td><a class=\"ProveItLink\" href=\"../8c6758dccc82eed8a6a460463ac2fe7a4fe787400/expr.ipynb\"><img src=\"../8c6758dccc82eed8a6a460463ac2fe7a4fe787400/expr.png\" style=\"display:inline;vertical-align:middle;\" /></a></td></tr>\n",
       "<tr><td>2</td><td>Operation</td><td>operator:&nbsp;5<br>operands:&nbsp;6<br></td><td><a class=\"ProveItLink\" href=\"../4afa8487d9d5079fc542a110a0bfa712545923ce0/expr.ipynb\"><img src=\"../4afa8487d9d5079fc542a110a0bfa712545923ce0/expr.png\" style=\"display:inline;vertical-align:middle;\" /></a></td></tr>\n",
       "<tr><td>3</td><td>Literal</td><td></td><td><a class=\"ProveItLink\" href=\"../../../../../../logic/booleans/quantification/universality/__pv_it/common/083d2baa0b8ecab1d230f9ec29a15aa1355809fb0/expr.ipynb\"><img src=\"../../../../../../logic/booleans/quantification/universality/__pv_it/common/083d2baa0b8ecab1d230f9ec29a15aa1355809fb0/expr.png\" style=\"display:inline;vertical-align:middle;\" /></a></td></tr>\n",
       "<tr><td>4</td><td>ExprTuple</td><td>7</td><td><a class=\"ProveItLink\" href=\"../d43be8394443c7edca0a851a2abeaf38cc41c7110/expr.ipynb\"><img src=\"../d43be8394443c7edca0a851a2abeaf38cc41c7110/expr.png\" style=\"display:inline;vertical-align:middle;\" /></a></td></tr>\n",
       "<tr><td>5</td><td>Literal</td><td></td><td><a class=\"ProveItLink\" href=\"../../../../../../logic/booleans/conjunction/__pv_it/common/42118ff318bd65d98b1393f64ce7c2269feef76e0/expr.ipynb\"><img src=\"../../../../../../logic/booleans/conjunction/__pv_it/common/42118ff318bd65d98b1393f64ce7c2269feef76e0/expr.png\" style=\"display:inline;vertical-align:middle;\" /></a></td></tr>\n",
       "<tr><td>6</td><td>ExprTuple</td><td>8, 9</td><td><a class=\"ProveItLink\" href=\"../9c696caba049a6bc8331bb142b9d3b9f6f494c3a0/expr.ipynb\"><img src=\"../9c696caba049a6bc8331bb142b9d3b9f6f494c3a0/expr.png\" style=\"display:inline;vertical-align:middle;\" /></a></td></tr>\n",
       "<tr><td>7</td><td>Lambda</td><td>parameter:&nbsp;26<br>body:&nbsp;10<br></td><td><a class=\"ProveItLink\" href=\"../5885ed6f3613c67cacb9b583ab9cf963e55dd58e0/expr.ipynb\"><img src=\"../5885ed6f3613c67cacb9b583ab9cf963e55dd58e0/expr.png\" style=\"display:inline;vertical-align:middle;\" /></a></td></tr>\n",
       "<tr><td>8</td><td>Operation</td><td>operator:&nbsp;12<br>operands:&nbsp;11<br></td><td><a class=\"ProveItLink\" href=\"../31d4094b2894fdb2d15795fed222b1eb5c7ff5bc0/expr.ipynb\"><img src=\"../31d4094b2894fdb2d15795fed222b1eb5c7ff5bc0/expr.png\" style=\"display:inline;vertical-align:middle;\" /></a></td></tr>\n",
       "<tr><td>9</td><td>Operation</td><td>operator:&nbsp;12<br>operands:&nbsp;13<br></td><td><a class=\"ProveItLink\" href=\"../b43dcc22027be8fd048b25799a7ab0f36727ab830/expr.ipynb\"><img src=\"../b43dcc22027be8fd048b25799a7ab0f36727ab830/expr.png\" style=\"display:inline;vertical-align:middle;\" /></a></td></tr>\n",
       "<tr><td>10</td><td>Conditional</td><td>value:&nbsp;14<br>condition:&nbsp;15<br></td><td><a class=\"ProveItLink\" href=\"../d4b9e98efd99eef1aa2757c1cd38485c0270a6f20/expr.ipynb\"><img src=\"../d4b9e98efd99eef1aa2757c1cd38485c0270a6f20/expr.png\" style=\"display:inline;vertical-align:middle;\" /></a></td></tr>\n",
       "<tr><td>11</td><td>ExprTuple</td><td>27, 16</td><td><a class=\"ProveItLink\" href=\"../8dd6744fe0111d3e5e6b1ce629b4848eb233fd690/expr.ipynb\"><img src=\"../8dd6744fe0111d3e5e6b1ce629b4848eb233fd690/expr.png\" style=\"display:inline;vertical-align:middle;\" /></a></td></tr>\n",
       "<tr><td>12</td><td>Literal</td><td></td><td><a class=\"ProveItLink\" href=\"../../../../../../logic/classes/membership/__pv_it/common/e3b437d28fbe17f0a50c9789c7c9b47a1270f1420/expr.ipynb\"><img src=\"../../../../../../logic/classes/membership/__pv_it/common/e3b437d28fbe17f0a50c9789c7c9b47a1270f1420/expr.png\" style=\"display:inline;vertical-align:middle;\" /></a></td></tr>\n",
       "<tr><td>13</td><td>ExprTuple</td><td>28, 16</td><td><a class=\"ProveItLink\" href=\"../e31703fc6f60ac02786a06dda15ce3bf7eac18990/expr.ipynb\"><img src=\"../e31703fc6f60ac02786a06dda15ce3bf7eac18990/expr.png\" style=\"display:inline;vertical-align:middle;\" /></a></td></tr>\n",
       "<tr><td>14</td><td>Operation</td><td>operator:&nbsp;18<br>operands:&nbsp;17<br></td><td><a class=\"ProveItLink\" href=\"../4da3bc5aac7c042b1d0a26d275750b2a700713e80/expr.ipynb\"><img src=\"../4da3bc5aac7c042b1d0a26d275750b2a700713e80/expr.png\" style=\"display:inline;vertical-align:middle;\" /></a></td></tr>\n",
       "<tr><td>15</td><td>Operation</td><td>operator:&nbsp;18<br>operands:&nbsp;19<br></td><td><a class=\"ProveItLink\" href=\"../106e639d0d1daeeb85a1c5b5a0197ea36b3c6e890/expr.ipynb\"><img src=\"../106e639d0d1daeeb85a1c5b5a0197ea36b3c6e890/expr.png\" style=\"display:inline;vertical-align:middle;\" /></a></td></tr>\n",
       "<tr><td>16</td><td>Literal</td><td></td><td><a class=\"ProveItLink\" href=\"../../../../../../linear_algebra/inner_products/__pv_it/common/63495bb81132197a40ba1811088142655bc8cabd0/expr.ipynb\"><img src=\"../../../../../../linear_algebra/inner_products/__pv_it/common/63495bb81132197a40ba1811088142655bc8cabd0/expr.png\" style=\"display:inline;vertical-align:middle;\" /></a></td></tr>\n",
       "<tr><td>17</td><td>ExprTuple</td><td>20, 21</td><td><a class=\"ProveItLink\" href=\"../c5436730d210cdcdfb45ddd315722f1b50cb2e9d0/expr.ipynb\"><img src=\"../c5436730d210cdcdfb45ddd315722f1b50cb2e9d0/expr.png\" style=\"display:inline;vertical-align:middle;\" /></a></td></tr>\n",
       "<tr><td>18</td><td>Literal</td><td></td><td><a class=\"ProveItLink\" href=\"../../../../../../logic/sets/membership/__pv_it/common/477487d8796864d23d5810f83761435f25167f690/expr.ipynb\"><img src=\"../../../../../../logic/sets/membership/__pv_it/common/477487d8796864d23d5810f83761435f25167f690/expr.png\" style=\"display:inline;vertical-align:middle;\" /></a></td></tr>\n",
       "<tr><td>19</td><td>ExprTuple</td><td>26, 21</td><td><a class=\"ProveItLink\" href=\"../5cf1666e056940d5a6c3c9e0d6a132d9fefec14e0/expr.ipynb\"><img src=\"../5cf1666e056940d5a6c3c9e0d6a132d9fefec14e0/expr.png\" style=\"display:inline;vertical-align:middle;\" /></a></td></tr>\n",
       "<tr><td>20</td><td>Operation</td><td>operator:&nbsp;22<br>operand:&nbsp;26<br></td><td><a class=\"ProveItLink\" href=\"../fe02f8ed473f63760113f4f1e5a035bfa1e779460/expr.ipynb\"><img src=\"../fe02f8ed473f63760113f4f1e5a035bfa1e779460/expr.png\" style=\"display:inline;vertical-align:middle;\" /></a></td></tr>\n",
       "<tr><td>21</td><td>Operation</td><td>operator:&nbsp;24<br>operands:&nbsp;25<br></td><td><a class=\"ProveItLink\" href=\"../7ab5ea9149ebf1472e1d711f62e59f07c5e1fdfa0/expr.ipynb\"><img src=\"../7ab5ea9149ebf1472e1d711f62e59f07c5e1fdfa0/expr.png\" style=\"display:inline;vertical-align:middle;\" /></a></td></tr>\n",
       "<tr><td>22</td><td>Literal</td><td></td><td><a class=\"ProveItLink\" href=\"../../common/2972e0deb52c96565b39f905d407d7302ae287580/expr.ipynb\"><img src=\"../../common/2972e0deb52c96565b39f905d407d7302ae287580/expr.png\" style=\"display:inline;vertical-align:middle;\" /></a></td></tr>\n",
       "<tr><td>23</td><td>ExprTuple</td><td>26</td><td><a class=\"ProveItLink\" href=\"../0dc6c42a8c40e6a1c0a1b3cc41b6e5aa01a661750/expr.ipynb\"><img src=\"../0dc6c42a8c40e6a1c0a1b3cc41b6e5aa01a661750/expr.png\" style=\"display:inline;vertical-align:middle;\" /></a></td></tr>\n",
       "<tr><td>24</td><td>Literal</td><td></td><td><a class=\"ProveItLink\" href=\"../../../../../../linear_algebra/linear_maps/__pv_it/common/d323a251b3f504c3443ff8de393dbf12697838a10/expr.ipynb\"><img src=\"../../../../../../linear_algebra/linear_maps/__pv_it/common/d323a251b3f504c3443ff8de393dbf12697838a10/expr.png\" style=\"display:inline;vertical-align:middle;\" /></a></td></tr>\n",
       "<tr><td>25</td><td>ExprTuple</td><td>27, 28</td><td><a class=\"ProveItLink\" href=\"../8e7e6f28bc2d529b8d61f74929566839b8a3cd1a0/expr.ipynb\"><img src=\"../8e7e6f28bc2d529b8d61f74929566839b8a3cd1a0/expr.png\" style=\"display:inline;vertical-align:middle;\" /></a></td></tr>\n",
       "<tr><td>26</td><td>Variable</td><td></td><td><a class=\"ProveItLink\" href=\"../../../../../../__pv_it/common/09585084922504426caf1db2ff588a23a0932a960/expr.ipynb\"><img src=\"../../../../../../__pv_it/common/09585084922504426caf1db2ff588a23a0932a960/expr.png\" style=\"display:inline;vertical-align:middle;\" /></a></td></tr>\n",
       "<tr><td>27</td><td>Variable</td><td></td><td><a class=\"ProveItLink\" href=\"../../../../../../linear_algebra/inner_products/__pv_it/common/0a298dc12c549b5fdc96454972e9674c7dbf104f0/expr.ipynb\"><img src=\"../../../../../../linear_algebra/inner_products/__pv_it/common/0a298dc12c549b5fdc96454972e9674c7dbf104f0/expr.png\" style=\"display:inline;vertical-align:middle;\" /></a></td></tr>\n",
       "<tr><td>28</td><td>Variable</td><td></td><td><a class=\"ProveItLink\" href=\"../../../../../../__pv_it/common/f1ca094affb79f5011ff4d63eb4e121bfbde7f330/expr.ipynb\"><img src=\"../../../../../../__pv_it/common/f1ca094affb79f5011ff4d63eb4e121bfbde7f330/expr.png\" style=\"display:inline;vertical-align:middle;\" /></a></td></tr>\n",
       "</table>\n"
      ],
      "text/plain": [
       "0. {forall_{A in LINMAP(H, X)} ([A] in LINMAP(H, X)) if H in_c HilbertSpaces ,  X in_c HilbertSpaces.\n",
       "   core type: Conditional\n",
       "   value: 1\n",
       "   condition: 2\n",
       "1. forall_{A in LINMAP(H, X)} ([A] in LINMAP(H, X))\n",
       "   core type: Operation\n",
       "   operator: 3\n",
       "   operand: 7\n",
       "2. (H in_c HilbertSpaces) and (X in_c HilbertSpaces)\n",
       "   core type: Operation\n",
       "   operator: 5\n",
       "   operands: 6\n",
       "3. forall\n",
       "   core type: Literal\n",
       "   sub-expressions: \n",
       "4. (A -> {[A] in LINMAP(H, X) if A in LINMAP(H, X).)\n",
       "   core type: ExprTuple\n",
       "   sub-expressions: 7\n",
       "5. and\n",
       "   core type: Literal\n",
       "   sub-expressions: \n",
       "6. (H in_c HilbertSpaces, X in_c HilbertSpaces)\n",
       "   core type: ExprTuple\n",
       "   sub-expressions: 8, 9\n",
       "7. A -> {[A] in LINMAP(H, X) if A in LINMAP(H, X).\n",
       "   core type: Lambda\n",
       "   parameter: 26\n",
       "   body: 10\n",
       "8. H in_c HilbertSpaces\n",
       "   core type: Operation\n",
       "   operator: 12\n",
       "   operands: 11\n",
       "9. X in_c HilbertSpaces\n",
       "   core type: Operation\n",
       "   operator: 12\n",
       "   operands: 13\n",
       "10. {[A] in LINMAP(H, X) if A in LINMAP(H, X).\n",
       "    core type: Conditional\n",
       "    value: 14\n",
       "    condition: 15\n",
       "11. (H, HilbertSpaces)\n",
       "    core type: ExprTuple\n",
       "    sub-expressions: 27, 16\n",
       "12. in_c\n",
       "    core type: Literal\n",
       "    sub-expressions: \n",
       "13. (X, HilbertSpaces)\n",
       "    core type: ExprTuple\n",
       "    sub-expressions: 28, 16\n",
       "14. [A] in LINMAP(H, X)\n",
       "    core type: Operation\n",
       "    operator: 18\n",
       "    operands: 17\n",
       "15. A in LINMAP(H, X)\n",
       "    core type: Operation\n",
       "    operator: 18\n",
       "    operands: 19\n",
       "16. HilbertSpaces\n",
       "    core type: Literal\n",
       "    sub-expressions: \n",
       "17. ([A], LINMAP(H, X))\n",
       "    core type: ExprTuple\n",
       "    sub-expressions: 20, 21\n",
       "18. in\n",
       "    core type: Literal\n",
       "    sub-expressions: \n",
       "19. (A, LINMAP(H, X))\n",
       "    core type: ExprTuple\n",
       "    sub-expressions: 26, 21\n",
       "20. [A]\n",
       "    core type: Operation\n",
       "    operator: 22\n",
       "    operand: 26\n",
       "21. LINMAP(H, X)\n",
       "    core type: Operation\n",
       "    operator: 24\n",
       "    operands: 25\n",
       "22. .\n",
       "    core type: Literal\n",
       "    sub-expressions: \n",
       "23. (A)\n",
       "    core type: ExprTuple\n",
       "    sub-expressions: 26\n",
       "24. LINMAP\n",
       "    core type: Literal\n",
       "    sub-expressions: \n",
       "25. (H, X)\n",
       "    core type: ExprTuple\n",
       "    sub-expressions: 27, 28\n",
       "26. A\n",
       "    core type: Variable\n",
       "    sub-expressions: \n",
       "27. H\n",
       "    core type: Variable\n",
       "    sub-expressions: \n",
       "28. X\n",
       "    core type: Variable\n",
       "    sub-expressions: "
      ]
     },
     "metadata": {},
     "output_type": "display_data"
    }
   ],
   "source": [
    "# display the expression information\n",
    "stored_expr.expr_info()"
   ]
  },
  {
   "cell_type": "code",
   "execution_count": null,
   "metadata": {},
   "outputs": [],
   "source": []
  }
 ],
 "metadata": {
  "kernelspec": {
   "display_name": "Python 3",
   "language": "python",
   "name": "python3"
  }
 },
 "nbformat": 4,
 "nbformat_minor": 0
}