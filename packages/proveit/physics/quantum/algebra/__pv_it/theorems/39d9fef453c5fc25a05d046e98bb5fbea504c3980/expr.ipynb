{
 "cells": [
  {
   "cell_type": "markdown",
   "metadata": {},
   "source": [
    "Expression of type <a class=\"ProveItLink\" href=\"../../../../../../../../doc/html/api/proveit.ExprTuple.html\">ExprTuple</a>\n",
    "=======================\n",
    "# from the theory of <a class=\"ProveItLink\" href=\"../../../_theory_nbs_/theory.ipynb\">proveit.physics.quantum.algebra</a>"
   ]
  },
  {
   "cell_type": "code",
   "execution_count": 1,
   "metadata": {},
   "outputs": [],
   "source": [
    "import proveit\n",
    "# Automation is not needed when building an expression:\n",
    "proveit.defaults.automation = False # This will speed things up.\n",
    "proveit.defaults.inline_pngs = False # Makes files smaller.\n",
    "%load_expr # Load the stored expression as 'stored_expr'\n",
    "# import Expression classes needed to build the expression\n",
    "from proveit import ExprTuple, Lambda, X\n",
    "from proveit.linear_algebra import Hspace\n",
    "from proveit.logic import Forall, InClass, InSet\n",
    "from proveit.physics.quantum import Qmult, QmultCodomain, bra_varphi, ket_varphi, var_ket_psi, varphi"
   ]
  },
  {
   "cell_type": "code",
   "execution_count": 2,
   "metadata": {},
   "outputs": [
    {
     "data": {
      "text/html": [
       "<strong id=\"expr\">expr:</strong> <a class=\"ProveItLink\" href=\"expr.ipynb\"><img src=\"expr.png\" style=\"display:inline;vertical-align:middle;\" /></a><br>"
      ],
      "text/plain": [
       "<IPython.core.display.HTML object>"
      ]
     },
     "metadata": {},
     "output_type": "display_data"
    }
   ],
   "source": [
    "# build up the expression from sub-expressions\n",
    "expr = ExprTuple(Lambda([Hspace, X], Forall(instance_param_or_params = [var_ket_psi], instance_expr = Forall(instance_param_or_params = [varphi], instance_expr = InClass(Qmult(var_ket_psi, bra_varphi), QmultCodomain), condition = InSet(ket_varphi, X)), domain = Hspace)))"
   ]
  },
  {
   "cell_type": "code",
   "execution_count": 3,
   "metadata": {},
   "outputs": [
    {
     "name": "stdout",
     "output_type": "stream",
     "text": [
      "Passed sanity check: expr matches stored_expr\n"
     ]
    }
   ],
   "source": [
    "# check that the built expression is the same as the stored expression\n",
    "assert expr == stored_expr\n",
    "assert expr._style_id == stored_expr._style_id\n",
    "print(\"Passed sanity check: expr matches stored_expr\")"
   ]
  },
  {
   "cell_type": "code",
   "execution_count": 4,
   "metadata": {},
   "outputs": [
    {
     "name": "stdout",
     "output_type": "stream",
     "text": [
      "\\left(\\left(\\mathcal{H}, X\\right) \\mapsto \\left[\\forall_{\\lvert \\psi \\rangle \\in \\mathcal{H}}~\\left[\\forall_{\\varphi~|~\\lvert \\varphi \\rangle \\in X}~\\left(\\left(\\lvert \\psi \\rangle \\thinspace \\langle \\varphi \\rvert\\right) \\underset{{\\scriptscriptstyle c}}{\\in} \\mathcal{Q^*}\\right)\\right]\\right]\\right)\n"
     ]
    }
   ],
   "source": [
    "# Show the LaTeX representation of the expression for convenience if you need it.\n",
    "print(stored_expr.latex())"
   ]
  },
  {
   "cell_type": "code",
   "execution_count": 5,
   "metadata": {},
   "outputs": [
    {
     "data": {
      "text/html": [
       "no style options"
      ],
      "text/plain": [
       "no style options"
      ]
     },
     "metadata": {},
     "output_type": "display_data"
    }
   ],
   "source": [
    "stored_expr.style_options()"
   ]
  },
  {
   "cell_type": "code",
   "execution_count": 6,
   "metadata": {},
   "outputs": [
    {
     "data": {
      "text/html": [
       "<table><tr><th>&nbsp;</th><th>core type</th><th>sub-expressions</th><th>expression</th></tr>\n",
       "<tr><td>0</td><td>ExprTuple</td><td>1</td><td><a class=\"ProveItLink\" href=\"expr.ipynb\"><img src=\"expr.png\" style=\"display:inline;vertical-align:middle;\" /></a></td></tr>\n",
       "<tr><td>1</td><td>Lambda</td><td>parameters:&nbsp;2<br>body:&nbsp;3<br></td><td><a class=\"ProveItLink\" href=\"../e6f4689e44ca593b38953f00ab6bd6b73dfc46050/expr.ipynb\"><img src=\"../e6f4689e44ca593b38953f00ab6bd6b73dfc46050/expr.png\" style=\"display:inline;vertical-align:middle;\" /></a></td></tr>\n",
       "<tr><td>2</td><td>ExprTuple</td><td>14, 25</td><td><a class=\"ProveItLink\" href=\"../8e7e6f28bc2d529b8d61f74929566839b8a3cd1a0/expr.ipynb\"><img src=\"../8e7e6f28bc2d529b8d61f74929566839b8a3cd1a0/expr.png\" style=\"display:inline;vertical-align:middle;\" /></a></td></tr>\n",
       "<tr><td>3</td><td>Operation</td><td>operator:&nbsp;10<br>operand:&nbsp;5<br></td><td><a class=\"ProveItLink\" href=\"../bee885987c2f380c99ed62206db14ab873c0b5410/expr.ipynb\"><img src=\"../bee885987c2f380c99ed62206db14ab873c0b5410/expr.png\" style=\"display:inline;vertical-align:middle;\" /></a></td></tr>\n",
       "<tr><td>4</td><td>ExprTuple</td><td>5</td><td><a class=\"ProveItLink\" href=\"../c0d8f8b28d5b8d3467b587daf84f2fcc9c94683a0/expr.ipynb\"><img src=\"../c0d8f8b28d5b8d3467b587daf84f2fcc9c94683a0/expr.png\" style=\"display:inline;vertical-align:middle;\" /></a></td></tr>\n",
       "<tr><td>5</td><td>Lambda</td><td>parameter:&nbsp;29<br>body:&nbsp;7<br></td><td><a class=\"ProveItLink\" href=\"../7ee0ca340c7df47c70791c2593ebaa88eb3c45960/expr.ipynb\"><img src=\"../7ee0ca340c7df47c70791c2593ebaa88eb3c45960/expr.png\" style=\"display:inline;vertical-align:middle;\" /></a></td></tr>\n",
       "<tr><td>6</td><td>ExprTuple</td><td>29</td><td><a class=\"ProveItLink\" href=\"../80ed9bf14a6ef50aaa4da94b0dbfb5b44f09ae9c0/expr.ipynb\"><img src=\"../80ed9bf14a6ef50aaa4da94b0dbfb5b44f09ae9c0/expr.png\" style=\"display:inline;vertical-align:middle;\" /></a></td></tr>\n",
       "<tr><td>7</td><td>Conditional</td><td>value:&nbsp;8<br>condition:&nbsp;9<br></td><td><a class=\"ProveItLink\" href=\"../5b2c47cdfe8cd94eed927d9f496ed110c039a8480/expr.ipynb\"><img src=\"../5b2c47cdfe8cd94eed927d9f496ed110c039a8480/expr.png\" style=\"display:inline;vertical-align:middle;\" /></a></td></tr>\n",
       "<tr><td>8</td><td>Operation</td><td>operator:&nbsp;10<br>operand:&nbsp;13<br></td><td><a class=\"ProveItLink\" href=\"../140554233b182b5c894f7b36573dca15ab6c8db80/expr.ipynb\"><img src=\"../140554233b182b5c894f7b36573dca15ab6c8db80/expr.png\" style=\"display:inline;vertical-align:middle;\" /></a></td></tr>\n",
       "<tr><td>9</td><td>Operation</td><td>operator:&nbsp;20<br>operands:&nbsp;12<br></td><td><a class=\"ProveItLink\" href=\"../878f2b4530e2e5304533ce5413156fd1621b70400/expr.ipynb\"><img src=\"../878f2b4530e2e5304533ce5413156fd1621b70400/expr.png\" style=\"display:inline;vertical-align:middle;\" /></a></td></tr>\n",
       "<tr><td>10</td><td>Literal</td><td></td><td><a class=\"ProveItLink\" href=\"../../../../../../logic/booleans/quantification/universality/__pv_it/common/083d2baa0b8ecab1d230f9ec29a15aa1355809fb0/expr.ipynb\"><img src=\"../../../../../../logic/booleans/quantification/universality/__pv_it/common/083d2baa0b8ecab1d230f9ec29a15aa1355809fb0/expr.png\" style=\"display:inline;vertical-align:middle;\" /></a></td></tr>\n",
       "<tr><td>11</td><td>ExprTuple</td><td>13</td><td><a class=\"ProveItLink\" href=\"../ccf7853db2f168bae49e70d5f3f4470eb37a7a700/expr.ipynb\"><img src=\"../ccf7853db2f168bae49e70d5f3f4470eb37a7a700/expr.png\" style=\"display:inline;vertical-align:middle;\" /></a></td></tr>\n",
       "<tr><td>12</td><td>ExprTuple</td><td>29, 14</td><td><a class=\"ProveItLink\" href=\"../45d117c0688e7bdf2539e0936dc96443a677d60f0/expr.ipynb\"><img src=\"../45d117c0688e7bdf2539e0936dc96443a677d60f0/expr.png\" style=\"display:inline;vertical-align:middle;\" /></a></td></tr>\n",
       "<tr><td>13</td><td>Lambda</td><td>parameter:&nbsp;33<br>body:&nbsp;15<br></td><td><a class=\"ProveItLink\" href=\"../50d58075987630a4b968d32cc2ebe233cc19b0070/expr.ipynb\"><img src=\"../50d58075987630a4b968d32cc2ebe233cc19b0070/expr.png\" style=\"display:inline;vertical-align:middle;\" /></a></td></tr>\n",
       "<tr><td>14</td><td>Variable</td><td></td><td><a class=\"ProveItLink\" href=\"../../../../../../linear_algebra/inner_products/__pv_it/common/0a298dc12c549b5fdc96454972e9674c7dbf104f0/expr.ipynb\"><img src=\"../../../../../../linear_algebra/inner_products/__pv_it/common/0a298dc12c549b5fdc96454972e9674c7dbf104f0/expr.png\" style=\"display:inline;vertical-align:middle;\" /></a></td></tr>\n",
       "<tr><td>15</td><td>Conditional</td><td>value:&nbsp;16<br>condition:&nbsp;17<br></td><td><a class=\"ProveItLink\" href=\"../73ae9b3e1a7cd75716271e0e8f92e18c2c07c47d0/expr.ipynb\"><img src=\"../73ae9b3e1a7cd75716271e0e8f92e18c2c07c47d0/expr.png\" style=\"display:inline;vertical-align:middle;\" /></a></td></tr>\n",
       "<tr><td>16</td><td>Operation</td><td>operator:&nbsp;18<br>operands:&nbsp;19<br></td><td><a class=\"ProveItLink\" href=\"../e896fa1b0aa521d68feae26be534aebd7791520c0/expr.ipynb\"><img src=\"../e896fa1b0aa521d68feae26be534aebd7791520c0/expr.png\" style=\"display:inline;vertical-align:middle;\" /></a></td></tr>\n",
       "<tr><td>17</td><td>Operation</td><td>operator:&nbsp;20<br>operands:&nbsp;21<br></td><td><a class=\"ProveItLink\" href=\"../8c20cf75b49009f332d7cc2aa1ed3e8d307bcc470/expr.ipynb\"><img src=\"../8c20cf75b49009f332d7cc2aa1ed3e8d307bcc470/expr.png\" style=\"display:inline;vertical-align:middle;\" /></a></td></tr>\n",
       "<tr><td>18</td><td>Literal</td><td></td><td><a class=\"ProveItLink\" href=\"../../../../../../logic/classes/membership/__pv_it/common/e3b437d28fbe17f0a50c9789c7c9b47a1270f1420/expr.ipynb\"><img src=\"../../../../../../logic/classes/membership/__pv_it/common/e3b437d28fbe17f0a50c9789c7c9b47a1270f1420/expr.png\" style=\"display:inline;vertical-align:middle;\" /></a></td></tr>\n",
       "<tr><td>19</td><td>ExprTuple</td><td>22, 23</td><td><a class=\"ProveItLink\" href=\"../0010de3c59ebec9be849da587ee8d7241c8cc23b0/expr.ipynb\"><img src=\"../0010de3c59ebec9be849da587ee8d7241c8cc23b0/expr.png\" style=\"display:inline;vertical-align:middle;\" /></a></td></tr>\n",
       "<tr><td>20</td><td>Literal</td><td></td><td><a class=\"ProveItLink\" href=\"../../../../../../logic/sets/membership/__pv_it/common/477487d8796864d23d5810f83761435f25167f690/expr.ipynb\"><img src=\"../../../../../../logic/sets/membership/__pv_it/common/477487d8796864d23d5810f83761435f25167f690/expr.png\" style=\"display:inline;vertical-align:middle;\" /></a></td></tr>\n",
       "<tr><td>21</td><td>ExprTuple</td><td>24, 25</td><td><a class=\"ProveItLink\" href=\"../30f66bbcd8696d29e1cf9eed8877336febfe9c340/expr.ipynb\"><img src=\"../30f66bbcd8696d29e1cf9eed8877336febfe9c340/expr.png\" style=\"display:inline;vertical-align:middle;\" /></a></td></tr>\n",
       "<tr><td>22</td><td>Operation</td><td>operator:&nbsp;26<br>operands:&nbsp;27<br></td><td><a class=\"ProveItLink\" href=\"../a0653f027822af5f95d3156a10b942703a0880400/expr.ipynb\"><img src=\"../a0653f027822af5f95d3156a10b942703a0880400/expr.png\" style=\"display:inline;vertical-align:middle;\" /></a></td></tr>\n",
       "<tr><td>23</td><td>Literal</td><td></td><td><a class=\"ProveItLink\" href=\"../../common/9eb627883d0de35514f5f025d8d6d9a6894424630/expr.ipynb\"><img src=\"../../common/9eb627883d0de35514f5f025d8d6d9a6894424630/expr.png\" style=\"display:inline;vertical-align:middle;\" /></a></td></tr>\n",
       "<tr><td>24</td><td>Operation</td><td>operator:&nbsp;28<br>operand:&nbsp;33<br></td><td><a class=\"ProveItLink\" href=\"../../../../__pv_it/common/c9a1043629ff97823c162335c02491b28faa23df0/expr.ipynb\"><img src=\"../../../../__pv_it/common/c9a1043629ff97823c162335c02491b28faa23df0/expr.png\" style=\"display:inline;vertical-align:middle;\" /></a></td></tr>\n",
       "<tr><td>25</td><td>Variable</td><td></td><td><a class=\"ProveItLink\" href=\"../../../../../../__pv_it/common/f1ca094affb79f5011ff4d63eb4e121bfbde7f330/expr.ipynb\"><img src=\"../../../../../../__pv_it/common/f1ca094affb79f5011ff4d63eb4e121bfbde7f330/expr.png\" style=\"display:inline;vertical-align:middle;\" /></a></td></tr>\n",
       "<tr><td>26</td><td>Literal</td><td></td><td><a class=\"ProveItLink\" href=\"../../common/2972e0deb52c96565b39f905d407d7302ae287580/expr.ipynb\"><img src=\"../../common/2972e0deb52c96565b39f905d407d7302ae287580/expr.png\" style=\"display:inline;vertical-align:middle;\" /></a></td></tr>\n",
       "<tr><td>27</td><td>ExprTuple</td><td>29, 30</td><td><a class=\"ProveItLink\" href=\"../bffbc0a1294ffde1603bbb08dde4234c339ee6a30/expr.ipynb\"><img src=\"../bffbc0a1294ffde1603bbb08dde4234c339ee6a30/expr.png\" style=\"display:inline;vertical-align:middle;\" /></a></td></tr>\n",
       "<tr><td>28</td><td>Literal</td><td></td><td><a class=\"ProveItLink\" href=\"../../common/e3872951fe05b26090372918594af92cac779e280/expr.ipynb\"><img src=\"../../common/e3872951fe05b26090372918594af92cac779e280/expr.png\" style=\"display:inline;vertical-align:middle;\" /></a></td></tr>\n",
       "<tr><td>29</td><td>Variable</td><td></td><td><a class=\"ProveItLink\" href=\"../../../../__pv_it/common/798a4b85c58eead0b86ebff17277cd7c4a79a3160/expr.ipynb\"><img src=\"../../../../__pv_it/common/798a4b85c58eead0b86ebff17277cd7c4a79a3160/expr.png\" style=\"display:inline;vertical-align:middle;\" /></a></td></tr>\n",
       "<tr><td>30</td><td>Operation</td><td>operator:&nbsp;31<br>operand:&nbsp;33<br></td><td><a class=\"ProveItLink\" href=\"../../../../__pv_it/common/1c3613f29e51fee59dc4396d8f9530ed1869cf290/expr.ipynb\"><img src=\"../../../../__pv_it/common/1c3613f29e51fee59dc4396d8f9530ed1869cf290/expr.png\" style=\"display:inline;vertical-align:middle;\" /></a></td></tr>\n",
       "<tr><td>31</td><td>Literal</td><td></td><td><a class=\"ProveItLink\" href=\"../../common/3123474674911507d272713eb0a3f543c87b57ba0/expr.ipynb\"><img src=\"../../common/3123474674911507d272713eb0a3f543c87b57ba0/expr.png\" style=\"display:inline;vertical-align:middle;\" /></a></td></tr>\n",
       "<tr><td>32</td><td>ExprTuple</td><td>33</td><td><a class=\"ProveItLink\" href=\"../../../../__pv_it/common/01a9ba963790206039a68d1305bb5070dd137de10/expr.ipynb\"><img src=\"../../../../__pv_it/common/01a9ba963790206039a68d1305bb5070dd137de10/expr.png\" style=\"display:inline;vertical-align:middle;\" /></a></td></tr>\n",
       "<tr><td>33</td><td>Variable</td><td></td><td><a class=\"ProveItLink\" href=\"../../../../__pv_it/common/eff3454ef41960bf5bb736e8ee0e81bb07107e080/expr.ipynb\"><img src=\"../../../../__pv_it/common/eff3454ef41960bf5bb736e8ee0e81bb07107e080/expr.png\" style=\"display:inline;vertical-align:middle;\" /></a></td></tr>\n",
       "</table>\n"
      ],
      "text/plain": [
       "0. ((H, X) -> [forall_{|psi> in H} [forall_{varphi | |varphi〉 in X} ((|psi> . 〈varphi|) in_c Q*)]])\n",
       "   core type: ExprTuple\n",
       "   sub-expressions: 1\n",
       "1. (H, X) -> [forall_{|psi> in H} [forall_{varphi | |varphi〉 in X} ((|psi> . 〈varphi|) in_c Q*)]]\n",
       "   core type: Lambda\n",
       "   parameters: 2\\n   body: 3\n",
       "2. (H, X)\n",
       "   core type: ExprTuple\n",
       "   sub-expressions: 14, 25\n",
       "3. forall_{|psi> in H} [forall_{varphi | |varphi〉 in X} ((|psi> . 〈varphi|) in_c Q*)]\n",
       "   core type: Operation\n",
       "   operator: 10\n",
       "   operand: 5\n",
       "4. (|psi> -> {forall_{varphi | |varphi〉 in X} ((|psi> . 〈varphi|) in_c Q*) if |psi> in H.)\n",
       "   core type: ExprTuple\n",
       "   sub-expressions: 5\n",
       "5. |psi> -> {forall_{varphi | |varphi〉 in X} ((|psi> . 〈varphi|) in_c Q*) if |psi> in H.\n",
       "   core type: Lambda\n",
       "   parameter: 29\n",
       "   body: 7\n",
       "6. (|psi>)\n",
       "   core type: ExprTuple\n",
       "   sub-expressions: 29\n",
       "7. {forall_{varphi | |varphi〉 in X} ((|psi> . 〈varphi|) in_c Q*) if |psi> in H.\n",
       "   core type: Conditional\n",
       "   value: 8\n",
       "   condition: 9\n",
       "8. forall_{varphi | |varphi〉 in X} ((|psi> . 〈varphi|) in_c Q*)\n",
       "   core type: Operation\n",
       "   operator: 10\n",
       "   operand: 13\n",
       "9. |psi> in H\n",
       "   core type: Operation\n",
       "   operator: 20\n",
       "   operands: 12\n",
       "10. forall\n",
       "    core type: Literal\n",
       "    sub-expressions: \n",
       "11. (varphi -> {(|psi> . 〈varphi|) in_c Q* if |varphi〉 in X.)\n",
       "    core type: ExprTuple\n",
       "    sub-expressions: 13\n",
       "12. (|psi>, H)\n",
       "    core type: ExprTuple\n",
       "    sub-expressions: 29, 14\n",
       "13. varphi -> {(|psi> . 〈varphi|) in_c Q* if |varphi〉 in X.\n",
       "    core type: Lambda\n",
       "    parameter: 33\n",
       "    body: 15\n",
       "14. H\n",
       "    core type: Variable\n",
       "    sub-expressions: \n",
       "15. {(|psi> . 〈varphi|) in_c Q* if |varphi〉 in X.\n",
       "    core type: Conditional\n",
       "    value: 16\n",
       "    condition: 17\n",
       "16. (|psi> . 〈varphi|) in_c Q*\n",
       "    core type: Operation\n",
       "    operator: 18\n",
       "    operands: 19\n",
       "17. |varphi〉 in X\n",
       "    core type: Operation\n",
       "    operator: 20\n",
       "    operands: 21\n",
       "18. in_c\n",
       "    core type: Literal\n",
       "    sub-expressions: \n",
       "19. (|psi> . 〈varphi|, Q*)\n",
       "    core type: ExprTuple\n",
       "    sub-expressions: 22, 23\n",
       "20. in\n",
       "    core type: Literal\n",
       "    sub-expressions: \n",
       "21. (|varphi〉, X)\n",
       "    core type: ExprTuple\n",
       "    sub-expressions: 24, 25\n",
       "22. |psi> . 〈varphi|\n",
       "    core type: Operation\n",
       "    operator: 26\n",
       "    operands: 27\n",
       "23. Q*\n",
       "    core type: Literal\n",
       "    sub-expressions: \n",
       "24. |varphi〉\n",
       "    core type: Operation\n",
       "    operator: 28\n",
       "    operand: 33\n",
       "25. X\n",
       "    core type: Variable\n",
       "    sub-expressions: \n",
       "26. .\n",
       "    core type: Literal\n",
       "    sub-expressions: \n",
       "27. (|psi>, 〈varphi|)\n",
       "    core type: ExprTuple\n",
       "    sub-expressions: 29, 30\n",
       "28. KET\n",
       "    core type: Literal\n",
       "    sub-expressions: \n",
       "29. |psi>\n",
       "    core type: Variable\n",
       "    sub-expressions: \n",
       "30. 〈varphi|\n",
       "    core type: Operation\n",
       "    operator: 31\n",
       "    operand: 33\n",
       "31. BRA\n",
       "    core type: Literal\n",
       "    sub-expressions: \n",
       "32. (varphi)\n",
       "    core type: ExprTuple\n",
       "    sub-expressions: 33\n",
       "33. varphi\n",
       "    core type: Variable\n",
       "    sub-expressions: "
      ]
     },
     "metadata": {},
     "output_type": "display_data"
    }
   ],
   "source": [
    "# display the expression information\n",
    "stored_expr.expr_info()"
   ]
  },
  {
   "cell_type": "code",
   "execution_count": null,
   "metadata": {},
   "outputs": [],
   "source": []
  }
 ],
 "metadata": {
  "kernelspec": {
   "display_name": "Python 3",
   "language": "python",
   "name": "python3"
  }
 },
 "nbformat": 4,
 "nbformat_minor": 0
}