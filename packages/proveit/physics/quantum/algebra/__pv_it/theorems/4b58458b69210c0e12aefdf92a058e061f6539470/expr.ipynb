{
 "cells": [
  {
   "cell_type": "markdown",
   "metadata": {},
   "source": [
    "Expression of type <a class=\"ProveItLink\" href=\"../../../../../../../../doc/html/api/proveit.Lambda.html\">Lambda</a>\n",
    "=======================\n",
    "# from the theory of <a class=\"ProveItLink\" href=\"../../../_theory_nbs_/theory.ipynb\">proveit.physics.quantum.algebra</a>"
   ]
  },
  {
   "cell_type": "code",
   "execution_count": 1,
   "metadata": {},
   "outputs": [],
   "source": [
    "import proveit\n",
    "# Automation is not needed when building an expression:\n",
    "proveit.defaults.automation = False # This will speed things up.\n",
    "proveit.defaults.inline_pngs = False # Makes files smaller.\n",
    "%load_expr # Load the stored expression as 'stored_expr'\n",
    "# import Expression classes needed to build the expression\n",
    "from proveit import Conditional, Lambda, b\n",
    "from proveit.core_expr_types import A_1_to_l, C_1_to_n\n",
    "from proveit.logic import Equals, Forall, InClass, InSet\n",
    "from proveit.numbers import Complex\n",
    "from proveit.physics.quantum import Qmult, QmultCodomain"
   ]
  },
  {
   "cell_type": "code",
   "execution_count": 2,
   "metadata": {},
   "outputs": [
    {
     "data": {
      "text/html": [
       "<strong id=\"expr\">expr:</strong> <a class=\"ProveItLink\" href=\"expr.ipynb\"><img src=\"expr.png\" style=\"display:inline;vertical-align:middle;\" /></a><br>"
      ],
      "text/plain": [
       "<IPython.core.display.HTML object>"
      ]
     },
     "metadata": {},
     "output_type": "display_data"
    }
   ],
   "source": [
    "# build up the expression from sub-expressions\n",
    "expr = Lambda(b, Conditional(Forall(instance_param_or_params = [A_1_to_l, C_1_to_n], instance_expr = Equals(Qmult(A_1_to_l, b, C_1_to_n), Qmult(b, A_1_to_l, C_1_to_n)).with_wrapping_at(2), condition = InClass(Qmult(A_1_to_l, C_1_to_n), QmultCodomain)), InSet(b, Complex)))"
   ]
  },
  {
   "cell_type": "code",
   "execution_count": 3,
   "metadata": {},
   "outputs": [
    {
     "name": "stdout",
     "output_type": "stream",
     "text": [
      "Passed sanity check: expr matches stored_expr\n"
     ]
    }
   ],
   "source": [
    "# check that the built expression is the same as the stored expression\n",
    "assert expr == stored_expr\n",
    "assert expr._style_id == stored_expr._style_id\n",
    "print(\"Passed sanity check: expr matches stored_expr\")"
   ]
  },
  {
   "cell_type": "code",
   "execution_count": 4,
   "metadata": {},
   "outputs": [
    {
     "name": "stdout",
     "output_type": "stream",
     "text": [
      "b \\mapsto \\left\\{\\forall_{A_{1}, A_{2}, \\ldots, A_{l}, C_{1}, C_{2}, \\ldots, C_{n}~|~\\left(A_{1} \\thinspace  A_{2} \\thinspace  \\ldots \\thinspace  A_{l}\\thinspace C_{1} \\thinspace  C_{2} \\thinspace  \\ldots \\thinspace  C_{n}\\right) \\underset{{\\scriptscriptstyle c}}{\\in} \\mathcal{Q^*}}~\\left(\\begin{array}{c} \\begin{array}{l} \\left(A_{1} \\thinspace  A_{2} \\thinspace  \\ldots \\thinspace  A_{l} \\thinspace b\\thinspace C_{1} \\thinspace  C_{2} \\thinspace  \\ldots \\thinspace  C_{n}\\right) =  \\\\ \\left(b\\thinspace A_{1} \\thinspace  A_{2} \\thinspace  \\ldots \\thinspace  A_{l}\\thinspace C_{1} \\thinspace  C_{2} \\thinspace  \\ldots \\thinspace  C_{n}\\right) \\end{array} \\end{array}\\right) \\textrm{ if } b \\in \\mathbb{C}\\right..\n"
     ]
    }
   ],
   "source": [
    "# Show the LaTeX representation of the expression for convenience if you need it.\n",
    "print(stored_expr.latex())"
   ]
  },
  {
   "cell_type": "code",
   "execution_count": 5,
   "metadata": {},
   "outputs": [
    {
     "data": {
      "text/html": [
       "no style options"
      ],
      "text/plain": [
       "no style options"
      ]
     },
     "metadata": {},
     "output_type": "display_data"
    }
   ],
   "source": [
    "stored_expr.style_options()"
   ]
  },
  {
   "cell_type": "code",
   "execution_count": 6,
   "metadata": {},
   "outputs": [
    {
     "data": {
      "text/html": [
       "<table><tr><th>&nbsp;</th><th>core type</th><th>sub-expressions</th><th>expression</th></tr>\n",
       "<tr><td>0</td><td>Lambda</td><td>parameter:&nbsp;26<br>body:&nbsp;2<br></td><td><a class=\"ProveItLink\" href=\"expr.ipynb\"><img src=\"expr.png\" style=\"display:inline;vertical-align:middle;\" /></a></td></tr>\n",
       "<tr><td>1</td><td>ExprTuple</td><td>26</td><td><a class=\"ProveItLink\" href=\"../2172b6b5a562721cf67ce94593b8be1eb7f26c660/expr.ipynb\"><img src=\"../2172b6b5a562721cf67ce94593b8be1eb7f26c660/expr.png\" style=\"display:inline;vertical-align:middle;\" /></a></td></tr>\n",
       "<tr><td>2</td><td>Conditional</td><td>value:&nbsp;3<br>condition:&nbsp;4<br></td><td><a class=\"ProveItLink\" href=\"../76e946e83de01384960dc31de76019f348d53d930/expr.ipynb\"><img src=\"../76e946e83de01384960dc31de76019f348d53d930/expr.png\" style=\"display:inline;vertical-align:middle;\" /></a></td></tr>\n",
       "<tr><td>3</td><td>Operation</td><td>operator:&nbsp;5<br>operand:&nbsp;9<br></td><td><a class=\"ProveItLink\" href=\"../94188358ed78a93e7bd04b48f4a55319979493d50/expr.ipynb\"><img src=\"../94188358ed78a93e7bd04b48f4a55319979493d50/expr.png\" style=\"display:inline;vertical-align:middle;\" /></a></td></tr>\n",
       "<tr><td>4</td><td>Operation</td><td>operator:&nbsp;7<br>operands:&nbsp;8<br></td><td><a class=\"ProveItLink\" href=\"../a259ec76dfb0a5be60b7c83d797520fa82c1dba60/expr.ipynb\"><img src=\"../a259ec76dfb0a5be60b7c83d797520fa82c1dba60/expr.png\" style=\"display:inline;vertical-align:middle;\" /></a></td></tr>\n",
       "<tr><td>5</td><td>Literal</td><td></td><td><a class=\"ProveItLink\" href=\"../../../../../../logic/booleans/quantification/universality/__pv_it/common/083d2baa0b8ecab1d230f9ec29a15aa1355809fb0/expr.ipynb\"><img src=\"../../../../../../logic/booleans/quantification/universality/__pv_it/common/083d2baa0b8ecab1d230f9ec29a15aa1355809fb0/expr.png\" style=\"display:inline;vertical-align:middle;\" /></a></td></tr>\n",
       "<tr><td>6</td><td>ExprTuple</td><td>9</td><td><a class=\"ProveItLink\" href=\"../e91efb13698e86cfd08075ebb2ecfd3ac495849b0/expr.ipynb\"><img src=\"../e91efb13698e86cfd08075ebb2ecfd3ac495849b0/expr.png\" style=\"display:inline;vertical-align:middle;\" /></a></td></tr>\n",
       "<tr><td>7</td><td>Literal</td><td></td><td><a class=\"ProveItLink\" href=\"../../../../../../logic/sets/membership/__pv_it/common/477487d8796864d23d5810f83761435f25167f690/expr.ipynb\"><img src=\"../../../../../../logic/sets/membership/__pv_it/common/477487d8796864d23d5810f83761435f25167f690/expr.png\" style=\"display:inline;vertical-align:middle;\" /></a></td></tr>\n",
       "<tr><td>8</td><td>ExprTuple</td><td>26, 10</td><td><a class=\"ProveItLink\" href=\"../4a72a986c458b001a667c5069838c28cc69c8d280/expr.ipynb\"><img src=\"../4a72a986c458b001a667c5069838c28cc69c8d280/expr.png\" style=\"display:inline;vertical-align:middle;\" /></a></td></tr>\n",
       "<tr><td>9</td><td>Lambda</td><td>parameters:&nbsp;25<br>body:&nbsp;11<br></td><td><a class=\"ProveItLink\" href=\"../6d5d2c0fb192da0f9724c7eaa72fec7e5ed0fa740/expr.ipynb\"><img src=\"../6d5d2c0fb192da0f9724c7eaa72fec7e5ed0fa740/expr.png\" style=\"display:inline;vertical-align:middle;\" /></a></td></tr>\n",
       "<tr><td>10</td><td>Literal</td><td></td><td><a class=\"ProveItLink\" href=\"../../../../../../numbers/number_sets/complex_numbers/__pv_it/common/d18a028138f659eda00de597c28a3447fe87eb100/expr.ipynb\"><img src=\"../../../../../../numbers/number_sets/complex_numbers/__pv_it/common/d18a028138f659eda00de597c28a3447fe87eb100/expr.png\" style=\"display:inline;vertical-align:middle;\" /></a></td></tr>\n",
       "<tr><td>11</td><td>Conditional</td><td>value:&nbsp;12<br>condition:&nbsp;13<br></td><td><a class=\"ProveItLink\" href=\"../df9f2a97d74b869e59054a10ecb46c3cecb0a2240/expr.ipynb\"><img src=\"../df9f2a97d74b869e59054a10ecb46c3cecb0a2240/expr.png\" style=\"display:inline;vertical-align:middle;\" /></a></td></tr>\n",
       "<tr><td>12</td><td>Operation</td><td>operator:&nbsp;14<br>operands:&nbsp;15<br></td><td><a class=\"ProveItLink\" href=\"../bc093971c68506ace335dddc3c242dc515dc19fd0/expr.ipynb\"><img src=\"../bc093971c68506ace335dddc3c242dc515dc19fd0/expr.png\" style=\"display:inline;vertical-align:middle;\" /></a></td></tr>\n",
       "<tr><td>13</td><td>Operation</td><td>operator:&nbsp;16<br>operands:&nbsp;17<br></td><td><a class=\"ProveItLink\" href=\"../321d5e9ea6ebf16772320f5d9aa088bfa532e25d0/expr.ipynb\"><img src=\"../321d5e9ea6ebf16772320f5d9aa088bfa532e25d0/expr.png\" style=\"display:inline;vertical-align:middle;\" /></a></td></tr>\n",
       "<tr><td>14</td><td>Literal</td><td></td><td><a class=\"ProveItLink\" href=\"../../../../../../logic/equality/__pv_it/common/fb96dc12b2aa8801dda64d0132b396c63d1502bb0/expr.ipynb\"><img src=\"../../../../../../logic/equality/__pv_it/common/fb96dc12b2aa8801dda64d0132b396c63d1502bb0/expr.png\" style=\"display:inline;vertical-align:middle;\" /></a></td></tr>\n",
       "<tr><td>15</td><td>ExprTuple</td><td>18, 19</td><td><a class=\"ProveItLink\" href=\"../b6cdfe5120a152f576635ded38299e3e9aebd31e0/expr.ipynb\"><img src=\"../b6cdfe5120a152f576635ded38299e3e9aebd31e0/expr.png\" style=\"display:inline;vertical-align:middle;\" /></a></td></tr>\n",
       "<tr><td>16</td><td>Literal</td><td></td><td><a class=\"ProveItLink\" href=\"../../../../../../logic/classes/membership/__pv_it/common/e3b437d28fbe17f0a50c9789c7c9b47a1270f1420/expr.ipynb\"><img src=\"../../../../../../logic/classes/membership/__pv_it/common/e3b437d28fbe17f0a50c9789c7c9b47a1270f1420/expr.png\" style=\"display:inline;vertical-align:middle;\" /></a></td></tr>\n",
       "<tr><td>17</td><td>ExprTuple</td><td>20, 21</td><td><a class=\"ProveItLink\" href=\"../c947cc05e48efdfb54d5380729415aae06be38bb0/expr.ipynb\"><img src=\"../c947cc05e48efdfb54d5380729415aae06be38bb0/expr.png\" style=\"display:inline;vertical-align:middle;\" /></a></td></tr>\n",
       "<tr><td>18</td><td>Operation</td><td>operator:&nbsp;24<br>operands:&nbsp;22<br></td><td><a class=\"ProveItLink\" href=\"../ac86ef1408c4c3c863d9a1417826dfb5a0dfeedd0/expr.ipynb\"><img src=\"../ac86ef1408c4c3c863d9a1417826dfb5a0dfeedd0/expr.png\" style=\"display:inline;vertical-align:middle;\" /></a></td></tr>\n",
       "<tr><td>19</td><td>Operation</td><td>operator:&nbsp;24<br>operands:&nbsp;23<br></td><td><a class=\"ProveItLink\" href=\"../2857570622b3ba8a384928f54780a16ecee1c7d30/expr.ipynb\"><img src=\"../2857570622b3ba8a384928f54780a16ecee1c7d30/expr.png\" style=\"display:inline;vertical-align:middle;\" /></a></td></tr>\n",
       "<tr><td>20</td><td>Operation</td><td>operator:&nbsp;24<br>operands:&nbsp;25<br></td><td><a class=\"ProveItLink\" href=\"../8c8b89a278e506d1497a744c1ea33883e72395be0/expr.ipynb\"><img src=\"../8c8b89a278e506d1497a744c1ea33883e72395be0/expr.png\" style=\"display:inline;vertical-align:middle;\" /></a></td></tr>\n",
       "<tr><td>21</td><td>Literal</td><td></td><td><a class=\"ProveItLink\" href=\"../../common/9eb627883d0de35514f5f025d8d6d9a6894424630/expr.ipynb\"><img src=\"../../common/9eb627883d0de35514f5f025d8d6d9a6894424630/expr.png\" style=\"display:inline;vertical-align:middle;\" /></a></td></tr>\n",
       "<tr><td>22</td><td>ExprTuple</td><td>27, 26, 28</td><td><a class=\"ProveItLink\" href=\"../2847b3d0869cca0991d61b394257f6d625ae47780/expr.ipynb\"><img src=\"../2847b3d0869cca0991d61b394257f6d625ae47780/expr.png\" style=\"display:inline;vertical-align:middle;\" /></a></td></tr>\n",
       "<tr><td>23</td><td>ExprTuple</td><td>26, 27, 28</td><td><a class=\"ProveItLink\" href=\"../3076a7abccbceab46e78e819676e80242affe74b0/expr.ipynb\"><img src=\"../3076a7abccbceab46e78e819676e80242affe74b0/expr.png\" style=\"display:inline;vertical-align:middle;\" /></a></td></tr>\n",
       "<tr><td>24</td><td>Literal</td><td></td><td><a class=\"ProveItLink\" href=\"../../common/2972e0deb52c96565b39f905d407d7302ae287580/expr.ipynb\"><img src=\"../../common/2972e0deb52c96565b39f905d407d7302ae287580/expr.png\" style=\"display:inline;vertical-align:middle;\" /></a></td></tr>\n",
       "<tr><td>25</td><td>ExprTuple</td><td>27, 28</td><td><a class=\"ProveItLink\" href=\"../5ce4499f62ed7924d2b46860136e18f9faeb15300/expr.ipynb\"><img src=\"../5ce4499f62ed7924d2b46860136e18f9faeb15300/expr.png\" style=\"display:inline;vertical-align:middle;\" /></a></td></tr>\n",
       "<tr><td>26</td><td>Variable</td><td></td><td><a class=\"ProveItLink\" href=\"../../../../../../__pv_it/common/195236b98c6c564a75b5dbada74b173bc52d5c3e0/expr.ipynb\"><img src=\"../../../../../../__pv_it/common/195236b98c6c564a75b5dbada74b173bc52d5c3e0/expr.png\" style=\"display:inline;vertical-align:middle;\" /></a></td></tr>\n",
       "<tr><td>27</td><td>ExprRange</td><td>lambda_map:&nbsp;29<br>start_index:&nbsp;32<br>end_index:&nbsp;30<br></td><td><a class=\"ProveItLink\" href=\"../../../../../../core_expr_types/__pv_it/common/a661ce209a2c221820bbff00e1d4b098820c37af0/expr.ipynb\"><img src=\"../../../../../../core_expr_types/__pv_it/common/a661ce209a2c221820bbff00e1d4b098820c37af0/expr.png\" style=\"display:inline;vertical-align:middle;\" /></a></td></tr>\n",
       "<tr><td>28</td><td>ExprRange</td><td>lambda_map:&nbsp;31<br>start_index:&nbsp;32<br>end_index:&nbsp;33<br></td><td><a class=\"ProveItLink\" href=\"../../../../../../core_expr_types/__pv_it/common/e7504afc0aea2366fbf28183721351f04720dfad0/expr.ipynb\"><img src=\"../../../../../../core_expr_types/__pv_it/common/e7504afc0aea2366fbf28183721351f04720dfad0/expr.png\" style=\"display:inline;vertical-align:middle;\" /></a></td></tr>\n",
       "<tr><td>29</td><td>Lambda</td><td>parameter:&nbsp;39<br>body:&nbsp;34<br></td><td><a class=\"ProveItLink\" href=\"../../../../../../core_expr_types/__pv_it/common/9332289e845003c758afc3bcee43498ae784f2d90/expr.ipynb\"><img src=\"../../../../../../core_expr_types/__pv_it/common/9332289e845003c758afc3bcee43498ae784f2d90/expr.png\" style=\"display:inline;vertical-align:middle;\" /></a></td></tr>\n",
       "<tr><td>30</td><td>Variable</td><td></td><td><a class=\"ProveItLink\" href=\"../../../../../../__pv_it/common/27cc275d44b4f4499fb9ccfb3fab1a98165d2fa60/expr.ipynb\"><img src=\"../../../../../../__pv_it/common/27cc275d44b4f4499fb9ccfb3fab1a98165d2fa60/expr.png\" style=\"display:inline;vertical-align:middle;\" /></a></td></tr>\n",
       "<tr><td>31</td><td>Lambda</td><td>parameter:&nbsp;39<br>body:&nbsp;35<br></td><td><a class=\"ProveItLink\" href=\"../../../../../../core_expr_types/__pv_it/common/c9399abb980047fe39e716f375f641a4494b404b0/expr.ipynb\"><img src=\"../../../../../../core_expr_types/__pv_it/common/c9399abb980047fe39e716f375f641a4494b404b0/expr.png\" style=\"display:inline;vertical-align:middle;\" /></a></td></tr>\n",
       "<tr><td>32</td><td>Literal</td><td></td><td><a class=\"ProveItLink\" href=\"../../../../../../numbers/numerals/__pv_it/common/682157d4892d216d9e5626ed533aff9b56b9506e0/expr.ipynb\"><img src=\"../../../../../../numbers/numerals/__pv_it/common/682157d4892d216d9e5626ed533aff9b56b9506e0/expr.png\" style=\"display:inline;vertical-align:middle;\" /></a></td></tr>\n",
       "<tr><td>33</td><td>Variable</td><td></td><td><a class=\"ProveItLink\" href=\"../../../../../../__pv_it/common/8968bb04eb3f7dfa02353397ce929b025bbd79c20/expr.ipynb\"><img src=\"../../../../../../__pv_it/common/8968bb04eb3f7dfa02353397ce929b025bbd79c20/expr.png\" style=\"display:inline;vertical-align:middle;\" /></a></td></tr>\n",
       "<tr><td>34</td><td>IndexedVar</td><td>variable:&nbsp;36<br>index:&nbsp;39<br></td><td><a class=\"ProveItLink\" href=\"../../../../../../core_expr_types/__pv_it/common/9fdaaadf1b3d81a308244818dc08833e7f5035730/expr.ipynb\"><img src=\"../../../../../../core_expr_types/__pv_it/common/9fdaaadf1b3d81a308244818dc08833e7f5035730/expr.png\" style=\"display:inline;vertical-align:middle;\" /></a></td></tr>\n",
       "<tr><td>35</td><td>IndexedVar</td><td>variable:&nbsp;37<br>index:&nbsp;39<br></td><td><a class=\"ProveItLink\" href=\"../../../../../../core_expr_types/__pv_it/common/f756bc205d05c1af04e1aeeb7a42469b1e89f9cf0/expr.ipynb\"><img src=\"../../../../../../core_expr_types/__pv_it/common/f756bc205d05c1af04e1aeeb7a42469b1e89f9cf0/expr.png\" style=\"display:inline;vertical-align:middle;\" /></a></td></tr>\n",
       "<tr><td>36</td><td>Variable</td><td></td><td><a class=\"ProveItLink\" href=\"../../../../../../__pv_it/common/09585084922504426caf1db2ff588a23a0932a960/expr.ipynb\"><img src=\"../../../../../../__pv_it/common/09585084922504426caf1db2ff588a23a0932a960/expr.png\" style=\"display:inline;vertical-align:middle;\" /></a></td></tr>\n",
       "<tr><td>37</td><td>Variable</td><td></td><td><a class=\"ProveItLink\" href=\"../../../../../../__pv_it/common/9fba9f29e823606ff4fdf2f1c6d5d08d906e850a0/expr.ipynb\"><img src=\"../../../../../../__pv_it/common/9fba9f29e823606ff4fdf2f1c6d5d08d906e850a0/expr.png\" style=\"display:inline;vertical-align:middle;\" /></a></td></tr>\n",
       "<tr><td>38</td><td>ExprTuple</td><td>39</td><td><a class=\"ProveItLink\" href=\"../../../../../../core_expr_types/__pv_it/common/4b0dd6be36d76552eda6a95d5b4a27f5a5b62f900/expr.ipynb\"><img src=\"../../../../../../core_expr_types/__pv_it/common/4b0dd6be36d76552eda6a95d5b4a27f5a5b62f900/expr.png\" style=\"display:inline;vertical-align:middle;\" /></a></td></tr>\n",
       "<tr><td>39</td><td>Variable</td><td></td><td><a class=\"ProveItLink\" href=\"../../../../../../core_expr_types/__pv_it/common/006c465e50948aa2b52285e2de47974f741255cc0/expr.ipynb\"><img src=\"../../../../../../core_expr_types/__pv_it/common/006c465e50948aa2b52285e2de47974f741255cc0/expr.png\" style=\"display:inline;vertical-align:middle;\" /></a></td></tr>\n",
       "</table>\n"
      ],
      "text/plain": [
       "0. b -> {forall_{A_{1}, A_{2}, ..., A_{l}, C_{1}, C_{2}, ..., C_{n} | (A_{1} .  A_{2} .  ... .  A_{l}. C_{1} .  C_{2} .  ... .  C_{n}) in_c Q*} ((A_{1} .  A_{2} .  ... .  A_{l} . b. C_{1} .  C_{2} .  ... .  C_{n}) =  \\\\ (b. A_{1} .  A_{2} .  ... .  A_{l}. C_{1} .  C_{2} .  ... .  C_{n})) if b in Complex.\n",
       "   core type: Lambda\n",
       "   parameter: 26\n",
       "   body: 2\n",
       "1. (b)\n",
       "   core type: ExprTuple\n",
       "   sub-expressions: 26\n",
       "2. {forall_{A_{1}, A_{2}, ..., A_{l}, C_{1}, C_{2}, ..., C_{n} | (A_{1} .  A_{2} .  ... .  A_{l}. C_{1} .  C_{2} .  ... .  C_{n}) in_c Q*} ((A_{1} .  A_{2} .  ... .  A_{l} . b. C_{1} .  C_{2} .  ... .  C_{n}) =  \\\\ (b. A_{1} .  A_{2} .  ... .  A_{l}. C_{1} .  C_{2} .  ... .  C_{n})) if b in Complex.\n",
       "   core type: Conditional\n",
       "   value: 3\n",
       "   condition: 4\n",
       "3. forall_{A_{1}, A_{2}, ..., A_{l}, C_{1}, C_{2}, ..., C_{n} | (A_{1} .  A_{2} .  ... .  A_{l}. C_{1} .  C_{2} .  ... .  C_{n}) in_c Q*} ((A_{1} .  A_{2} .  ... .  A_{l} . b. C_{1} .  C_{2} .  ... .  C_{n}) =  \\\\ (b. A_{1} .  A_{2} .  ... .  A_{l}. C_{1} .  C_{2} .  ... .  C_{n}))\n",
       "   core type: Operation\n",
       "   operator: 5\n",
       "   operand: 9\n",
       "4. b in Complex\n",
       "   core type: Operation\n",
       "   operator: 7\n",
       "   operands: 8\n",
       "5. forall\n",
       "   core type: Literal\n",
       "   sub-expressions: \n",
       "6. ((A_{1}, A_{2}, ..., A_{l}, C_{1}, C_{2}, ..., C_{n}) -> {(A_{1} .  A_{2} .  ... .  A_{l} . b. C_{1} .  C_{2} .  ... .  C_{n}) =  \\\\ (b. A_{1} .  A_{2} .  ... .  A_{l}. C_{1} .  C_{2} .  ... .  C_{n}) if (A_{1} .  A_{2} .  ... .  A_{l}. C_{1} .  C_{2} .  ... .  C_{n}) in_c Q*.)\n",
       "   core type: ExprTuple\n",
       "   sub-expressions: 9\n",
       "7. in\n",
       "   core type: Literal\n",
       "   sub-expressions: \n",
       "8. (b, Complex)\n",
       "   core type: ExprTuple\n",
       "   sub-expressions: 26, 10\n",
       "9. (A_{1}, A_{2}, ..., A_{l}, C_{1}, C_{2}, ..., C_{n}) -> {(A_{1} .  A_{2} .  ... .  A_{l} . b. C_{1} .  C_{2} .  ... .  C_{n}) =  \\\\ (b. A_{1} .  A_{2} .  ... .  A_{l}. C_{1} .  C_{2} .  ... .  C_{n}) if (A_{1} .  A_{2} .  ... .  A_{l}. C_{1} .  C_{2} .  ... .  C_{n}) in_c Q*.\n",
       "   core type: Lambda\n",
       "   parameters: 25\\n   body: 11\n",
       "10. Complex\n",
       "    core type: Literal\n",
       "    sub-expressions: \n",
       "11. {(A_{1} .  A_{2} .  ... .  A_{l} . b. C_{1} .  C_{2} .  ... .  C_{n}) =  \\\\ (b. A_{1} .  A_{2} .  ... .  A_{l}. C_{1} .  C_{2} .  ... .  C_{n}) if (A_{1} .  A_{2} .  ... .  A_{l}. C_{1} .  C_{2} .  ... .  C_{n}) in_c Q*.\n",
       "    core type: Conditional\n",
       "    value: 12\n",
       "    condition: 13\n",
       "12. (A_{1} .  A_{2} .  ... .  A_{l} . b. C_{1} .  C_{2} .  ... .  C_{n}) =  \\\\ (b. A_{1} .  A_{2} .  ... .  A_{l}. C_{1} .  C_{2} .  ... .  C_{n})\n",
       "    core type: Operation\n",
       "    operator: 14\n",
       "    operands: 15\n",
       "13. (A_{1} .  A_{2} .  ... .  A_{l}. C_{1} .  C_{2} .  ... .  C_{n}) in_c Q*\n",
       "    core type: Operation\n",
       "    operator: 16\n",
       "    operands: 17\n",
       "14. =\n",
       "    core type: Literal\n",
       "    sub-expressions: \n",
       "15. (A_{1} .  A_{2} .  ... .  A_{l} . b. C_{1} .  C_{2} .  ... .  C_{n}, b. A_{1} .  A_{2} .  ... .  A_{l}. C_{1} .  C_{2} .  ... .  C_{n})\n",
       "    core type: ExprTuple\n",
       "    sub-expressions: 18, 19\n",
       "16. in_c\n",
       "    core type: Literal\n",
       "    sub-expressions: \n",
       "17. (A_{1} .  A_{2} .  ... .  A_{l}. C_{1} .  C_{2} .  ... .  C_{n}, Q*)\n",
       "    core type: ExprTuple\n",
       "    sub-expressions: 20, 21\n",
       "18. A_{1} .  A_{2} .  ... .  A_{l} . b. C_{1} .  C_{2} .  ... .  C_{n}\n",
       "    core type: Operation\n",
       "    operator: 24\n",
       "    operands: 22\n",
       "19. b. A_{1} .  A_{2} .  ... .  A_{l}. C_{1} .  C_{2} .  ... .  C_{n}\n",
       "    core type: Operation\n",
       "    operator: 24\n",
       "    operands: 23\n",
       "20. A_{1} .  A_{2} .  ... .  A_{l}. C_{1} .  C_{2} .  ... .  C_{n}\n",
       "    core type: Operation\n",
       "    operator: 24\n",
       "    operands: 25\n",
       "21. Q*\n",
       "    core type: Literal\n",
       "    sub-expressions: \n",
       "22. (A_{1}, A_{2}, ..., A_{l}, b,C_{1}, C_{2}, ..., C_{n})\n",
       "    core type: ExprTuple\n",
       "    sub-expressions: 27, 26, 28\n",
       "23. (b,A_{1}, A_{2}, ..., A_{l},C_{1}, C_{2}, ..., C_{n})\n",
       "    core type: ExprTuple\n",
       "    sub-expressions: 26, 27, 28\n",
       "24. .\n",
       "    core type: Literal\n",
       "    sub-expressions: \n",
       "25. (A_{1}, A_{2}, ..., A_{l},C_{1}, C_{2}, ..., C_{n})\n",
       "    core type: ExprTuple\n",
       "    sub-expressions: 27, 28\n",
       "26. b\n",
       "    core type: Variable\n",
       "    sub-expressions: \n",
       "27. A_{1}, A_{2}, ..., A_{l}\n",
       "    core type: ExprRange\n",
       "    lambda_map: 29\n",
       "    start_index: 32\n",
       "    end_index: 30\n",
       "28. C_{1}, C_{2}, ..., C_{n}\n",
       "    core type: ExprRange\n",
       "    lambda_map: 31\n",
       "    start_index: 32\n",
       "    end_index: 33\n",
       "29. _a -> A_{_a}\n",
       "    core type: Lambda\n",
       "    parameter: 39\n",
       "    body: 34\n",
       "30. l\n",
       "    core type: Variable\n",
       "    sub-expressions: \n",
       "31. _a -> C_{_a}\n",
       "    core type: Lambda\n",
       "    parameter: 39\n",
       "    body: 35\n",
       "32. 1\n",
       "    core type: Literal\n",
       "    sub-expressions: \n",
       "33. n\n",
       "    core type: Variable\n",
       "    sub-expressions: \n",
       "34. A_{_a}\n",
       "    core type: IndexedVar\n",
       "variable: 36\n",
       "index: 39\n",
       "35. C_{_a}\n",
       "    core type: IndexedVar\n",
       "variable: 37\n",
       "index: 39\n",
       "36. A\n",
       "    core type: Variable\n",
       "    sub-expressions: \n",
       "37. C\n",
       "    core type: Variable\n",
       "    sub-expressions: \n",
       "38. (_a)\n",
       "    core type: ExprTuple\n",
       "    sub-expressions: 39\n",
       "39. _a\n",
       "    core type: Variable\n",
       "    sub-expressions: "
      ]
     },
     "metadata": {},
     "output_type": "display_data"
    }
   ],
   "source": [
    "# display the expression information\n",
    "stored_expr.expr_info()"
   ]
  },
  {
   "cell_type": "code",
   "execution_count": null,
   "metadata": {},
   "outputs": [],
   "source": []
  }
 ],
 "metadata": {
  "kernelspec": {
   "display_name": "Python 3",
   "language": "python",
   "name": "python3"
  }
 },
 "nbformat": 4,
 "nbformat_minor": 0
}