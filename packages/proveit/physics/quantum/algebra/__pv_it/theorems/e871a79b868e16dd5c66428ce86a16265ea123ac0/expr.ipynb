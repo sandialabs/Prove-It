{
 "cells": [
  {
   "cell_type": "markdown",
   "metadata": {},
   "source": [
    "Expression of type <a class=\"ProveItLink\" href=\"../../../../../../../../doc/html/api/proveit.ExprTuple.html\">ExprTuple</a>\n",
    "=======================\n",
    "# from the theory of <a class=\"ProveItLink\" href=\"../../../_theory_nbs_/theory.ipynb\">proveit.physics.quantum.algebra</a>"
   ]
  },
  {
   "cell_type": "code",
   "execution_count": 1,
   "metadata": {},
   "outputs": [],
   "source": [
    "import proveit\n",
    "# Automation is not needed when building an expression:\n",
    "proveit.defaults.automation = False # This will speed things up.\n",
    "proveit.defaults.inline_pngs = False # Makes files smaller.\n",
    "%load_expr # Load the stored expression as 'stored_expr'\n",
    "# import Expression classes needed to build the expression\n",
    "from proveit import A, ExprTuple, i, j, m, n\n",
    "from proveit.core_expr_types import v_i, w_j\n",
    "from proveit.linear_algebra import VecSum\n",
    "from proveit.numbers import Interval, one\n",
    "from proveit.physics.quantum import Bra, Ket, Qmult"
   ]
  },
  {
   "cell_type": "code",
   "execution_count": 2,
   "metadata": {},
   "outputs": [
    {
     "data": {
      "text/html": [
       "<strong id=\"expr\">expr:</strong> <a class=\"ProveItLink\" href=\"expr.ipynb\"><img src=\"expr.png\" style=\"display:inline;vertical-align:middle;\" /></a><br>"
      ],
      "text/plain": [
       "<IPython.core.display.HTML object>"
      ]
     },
     "metadata": {},
     "output_type": "display_data"
    }
   ],
   "source": [
    "# build up the expression from sub-expressions\n",
    "expr = ExprTuple(A, VecSum(index_or_indices = [i], summand = VecSum(index_or_indices = [j], summand = Qmult(Bra(w_j), A, Ket(v_i), Ket(w_j), Bra(v_i)), domain = Interval(one, n)), domain = Interval(one, m)))"
   ]
  },
  {
   "cell_type": "code",
   "execution_count": 3,
   "metadata": {},
   "outputs": [
    {
     "name": "stdout",
     "output_type": "stream",
     "text": [
      "Passed sanity check: expr matches stored_expr\n"
     ]
    }
   ],
   "source": [
    "# check that the built expression is the same as the stored expression\n",
    "assert expr == stored_expr\n",
    "assert expr._style_id == stored_expr._style_id\n",
    "print(\"Passed sanity check: expr matches stored_expr\")"
   ]
  },
  {
   "cell_type": "code",
   "execution_count": 4,
   "metadata": {},
   "outputs": [
    {
     "name": "stdout",
     "output_type": "stream",
     "text": [
      "\\left(A, \\sum_{i=1}^{m} \\left(\\sum_{j=1}^{n} \\left(\\langle w_{j} \\rvert \\thinspace A \\thinspace \\lvert v_{i} \\rangle \\thinspace \\lvert w_{j} \\rangle \\thinspace \\langle v_{i} \\rvert\\right)\\right)\\right)\n"
     ]
    }
   ],
   "source": [
    "# Show the LaTeX representation of the expression for convenience if you need it.\n",
    "print(stored_expr.latex())"
   ]
  },
  {
   "cell_type": "code",
   "execution_count": 5,
   "metadata": {},
   "outputs": [
    {
     "data": {
      "text/html": [
       "<table>\n",
       "<tr><th>name</th><th>description</th><th>default</th><th>current value</th><th>related methods</th></tr><tr><td>wrap_positions</td><td>position(s) at which wrapping is to occur; 'n' is after the nth comma.</td><td>()</td><td>()</td><td>('with_wrapping_at',)</td></tr>\n",
       "<tr><td>justification</td><td>if any wrap positions are set, justify to the 'left', 'center', or 'right'</td><td>left</td><td>left</td><td>('with_justification',)</td></tr>\n",
       "</table>\n"
      ],
      "text/plain": [
       "style name: wrap_positions\n",
       "description: position(s) at which wrapping is to occur; 'n' is after the nth comma.\n",
       "default: ()\n",
       "current value: ()\n",
       "related methods: ('with_wrapping_at',)\n",
       "style name: justification\n",
       "description: if any wrap positions are set, justify to the 'left', 'center', or 'right'\n",
       "default: left\n",
       "current value: left\n",
       "related methods: ('with_justification',)"
      ]
     },
     "metadata": {},
     "output_type": "display_data"
    }
   ],
   "source": [
    "stored_expr.style_options()"
   ]
  },
  {
   "cell_type": "code",
   "execution_count": 6,
   "metadata": {},
   "outputs": [
    {
     "data": {
      "text/html": [
       "<table><tr><th>&nbsp;</th><th>core type</th><th>sub-expressions</th><th>expression</th></tr>\n",
       "<tr><td>0</td><td>ExprTuple</td><td>22, 1</td><td><a class=\"ProveItLink\" href=\"expr.ipynb\"><img src=\"expr.png\" style=\"display:inline;vertical-align:middle;\" /></a></td></tr>\n",
       "<tr><td>1</td><td>Operation</td><td>operator:&nbsp;7<br>operand:&nbsp;3<br></td><td><a class=\"ProveItLink\" href=\"../f69629fd5c02240001ba63653aa755f96d3f1ab50/expr.ipynb\"><img src=\"../f69629fd5c02240001ba63653aa755f96d3f1ab50/expr.png\" style=\"display:inline;vertical-align:middle;\" /></a></td></tr>\n",
       "<tr><td>2</td><td>ExprTuple</td><td>3</td><td><a class=\"ProveItLink\" href=\"../f1258b5a1bbc81c1db5806a1b75ddb8920f7f1ce0/expr.ipynb\"><img src=\"../f1258b5a1bbc81c1db5806a1b75ddb8920f7f1ce0/expr.png\" style=\"display:inline;vertical-align:middle;\" /></a></td></tr>\n",
       "<tr><td>3</td><td>Lambda</td><td>parameter:&nbsp;42<br>body:&nbsp;4<br></td><td><a class=\"ProveItLink\" href=\"../95d7da7200223c7b2bb09df2ffdaa6e74a4fa1510/expr.ipynb\"><img src=\"../95d7da7200223c7b2bb09df2ffdaa6e74a4fa1510/expr.png\" style=\"display:inline;vertical-align:middle;\" /></a></td></tr>\n",
       "<tr><td>4</td><td>Conditional</td><td>value:&nbsp;5<br>condition:&nbsp;6<br></td><td><a class=\"ProveItLink\" href=\"../816a096f557953af0b9a2986825818bfb3a1e6250/expr.ipynb\"><img src=\"../816a096f557953af0b9a2986825818bfb3a1e6250/expr.png\" style=\"display:inline;vertical-align:middle;\" /></a></td></tr>\n",
       "<tr><td>5</td><td>Operation</td><td>operator:&nbsp;7<br>operand:&nbsp;10<br></td><td><a class=\"ProveItLink\" href=\"../406b0f4b25f745c63fb84471d0017f5720d8c8310/expr.ipynb\"><img src=\"../406b0f4b25f745c63fb84471d0017f5720d8c8310/expr.png\" style=\"display:inline;vertical-align:middle;\" /></a></td></tr>\n",
       "<tr><td>6</td><td>Operation</td><td>operator:&nbsp;19<br>operands:&nbsp;9<br></td><td><a class=\"ProveItLink\" href=\"../85603f1859e85082b90b59b115113cdffa04be610/expr.ipynb\"><img src=\"../85603f1859e85082b90b59b115113cdffa04be610/expr.png\" style=\"display:inline;vertical-align:middle;\" /></a></td></tr>\n",
       "<tr><td>7</td><td>Literal</td><td></td><td><a class=\"ProveItLink\" href=\"../../../../../../linear_algebra/addition/__pv_it/common/62f73c830c62efb87627ede5678f282081cd0ce20/expr.ipynb\"><img src=\"../../../../../../linear_algebra/addition/__pv_it/common/62f73c830c62efb87627ede5678f282081cd0ce20/expr.png\" style=\"display:inline;vertical-align:middle;\" /></a></td></tr>\n",
       "<tr><td>8</td><td>ExprTuple</td><td>10</td><td><a class=\"ProveItLink\" href=\"../265a55bd4bd593807031a6e6b68c57a25c372a790/expr.ipynb\"><img src=\"../265a55bd4bd593807031a6e6b68c57a25c372a790/expr.png\" style=\"display:inline;vertical-align:middle;\" /></a></td></tr>\n",
       "<tr><td>9</td><td>ExprTuple</td><td>42, 11</td><td><a class=\"ProveItLink\" href=\"../05bbe47e6f381feeff7aff984cbdd7457131a2f90/expr.ipynb\"><img src=\"../05bbe47e6f381feeff7aff984cbdd7457131a2f90/expr.png\" style=\"display:inline;vertical-align:middle;\" /></a></td></tr>\n",
       "<tr><td>10</td><td>Lambda</td><td>parameter:&nbsp;41<br>body:&nbsp;12<br></td><td><a class=\"ProveItLink\" href=\"../9639b01d02922aafab1cba7aba5f5d55b76f71e70/expr.ipynb\"><img src=\"../9639b01d02922aafab1cba7aba5f5d55b76f71e70/expr.png\" style=\"display:inline;vertical-align:middle;\" /></a></td></tr>\n",
       "<tr><td>11</td><td>Operation</td><td>operator:&nbsp;31<br>operands:&nbsp;13<br></td><td><a class=\"ProveItLink\" href=\"../706881e668df69cca5d841d8343295e596a7a0c70/expr.ipynb\"><img src=\"../706881e668df69cca5d841d8343295e596a7a0c70/expr.png\" style=\"display:inline;vertical-align:middle;\" /></a></td></tr>\n",
       "<tr><td>12</td><td>Conditional</td><td>value:&nbsp;14<br>condition:&nbsp;15<br></td><td><a class=\"ProveItLink\" href=\"../e46e6ba2604f8dac3a201357095a7a08db69457b0/expr.ipynb\"><img src=\"../e46e6ba2604f8dac3a201357095a7a08db69457b0/expr.png\" style=\"display:inline;vertical-align:middle;\" /></a></td></tr>\n",
       "<tr><td>13</td><td>ExprTuple</td><td>35, 16</td><td><a class=\"ProveItLink\" href=\"../940639d2e54ef77a90c8aa1312af4ae333846c530/expr.ipynb\"><img src=\"../940639d2e54ef77a90c8aa1312af4ae333846c530/expr.png\" style=\"display:inline;vertical-align:middle;\" /></a></td></tr>\n",
       "<tr><td>14</td><td>Operation</td><td>operator:&nbsp;17<br>operands:&nbsp;18<br></td><td><a class=\"ProveItLink\" href=\"../5f6d1a640c5b03bfbe1799899e01affcd292a75d0/expr.ipynb\"><img src=\"../5f6d1a640c5b03bfbe1799899e01affcd292a75d0/expr.png\" style=\"display:inline;vertical-align:middle;\" /></a></td></tr>\n",
       "<tr><td>15</td><td>Operation</td><td>operator:&nbsp;19<br>operands:&nbsp;20<br></td><td><a class=\"ProveItLink\" href=\"../db7a261f70021e4bc1013cbd3576d4670e5c85480/expr.ipynb\"><img src=\"../db7a261f70021e4bc1013cbd3576d4670e5c85480/expr.png\" style=\"display:inline;vertical-align:middle;\" /></a></td></tr>\n",
       "<tr><td>16</td><td>Variable</td><td></td><td><a class=\"ProveItLink\" href=\"../../../../../../__pv_it/common/674a03b9c3ca221b3aabd5636837b31528ff33830/expr.ipynb\"><img src=\"../../../../../../__pv_it/common/674a03b9c3ca221b3aabd5636837b31528ff33830/expr.png\" style=\"display:inline;vertical-align:middle;\" /></a></td></tr>\n",
       "<tr><td>17</td><td>Literal</td><td></td><td><a class=\"ProveItLink\" href=\"../../common/2972e0deb52c96565b39f905d407d7302ae287580/expr.ipynb\"><img src=\"../../common/2972e0deb52c96565b39f905d407d7302ae287580/expr.png\" style=\"display:inline;vertical-align:middle;\" /></a></td></tr>\n",
       "<tr><td>18</td><td>ExprTuple</td><td>21, 22, 23, 24, 25</td><td><a class=\"ProveItLink\" href=\"../1783f55d2673b33309437952d08343477f9dc5b60/expr.ipynb\"><img src=\"../1783f55d2673b33309437952d08343477f9dc5b60/expr.png\" style=\"display:inline;vertical-align:middle;\" /></a></td></tr>\n",
       "<tr><td>19</td><td>Literal</td><td></td><td><a class=\"ProveItLink\" href=\"../../../../../../logic/sets/membership/__pv_it/common/477487d8796864d23d5810f83761435f25167f690/expr.ipynb\"><img src=\"../../../../../../logic/sets/membership/__pv_it/common/477487d8796864d23d5810f83761435f25167f690/expr.png\" style=\"display:inline;vertical-align:middle;\" /></a></td></tr>\n",
       "<tr><td>20</td><td>ExprTuple</td><td>41, 26</td><td><a class=\"ProveItLink\" href=\"../a56e38dfc6ba5c4801319e8a42115e320ee3c5e40/expr.ipynb\"><img src=\"../a56e38dfc6ba5c4801319e8a42115e320ee3c5e40/expr.png\" style=\"display:inline;vertical-align:middle;\" /></a></td></tr>\n",
       "<tr><td>21</td><td>Operation</td><td>operator:&nbsp;29<br>operand:&nbsp;33<br></td><td><a class=\"ProveItLink\" href=\"../a104f10f7e80b469a90e41040d89c3fa83ff70a80/expr.ipynb\"><img src=\"../a104f10f7e80b469a90e41040d89c3fa83ff70a80/expr.png\" style=\"display:inline;vertical-align:middle;\" /></a></td></tr>\n",
       "<tr><td>22</td><td>Variable</td><td></td><td><a class=\"ProveItLink\" href=\"../../../../../../__pv_it/common/09585084922504426caf1db2ff588a23a0932a960/expr.ipynb\"><img src=\"../../../../../../__pv_it/common/09585084922504426caf1db2ff588a23a0932a960/expr.png\" style=\"display:inline;vertical-align:middle;\" /></a></td></tr>\n",
       "<tr><td>23</td><td>Operation</td><td>operator:&nbsp;27<br>operand:&nbsp;34<br></td><td><a class=\"ProveItLink\" href=\"../c6f641fbffe604344d3f7b7a8fdf1d6c864dc6a70/expr.ipynb\"><img src=\"../c6f641fbffe604344d3f7b7a8fdf1d6c864dc6a70/expr.png\" style=\"display:inline;vertical-align:middle;\" /></a></td></tr>\n",
       "<tr><td>24</td><td>Operation</td><td>operator:&nbsp;27<br>operand:&nbsp;33<br></td><td><a class=\"ProveItLink\" href=\"../4499858b8269af16cbf5134cd6dea5efe882941c0/expr.ipynb\"><img src=\"../4499858b8269af16cbf5134cd6dea5efe882941c0/expr.png\" style=\"display:inline;vertical-align:middle;\" /></a></td></tr>\n",
       "<tr><td>25</td><td>Operation</td><td>operator:&nbsp;29<br>operand:&nbsp;34<br></td><td><a class=\"ProveItLink\" href=\"../3b36ddcf9a0f0b54467afbd5457ae77140921e110/expr.ipynb\"><img src=\"../3b36ddcf9a0f0b54467afbd5457ae77140921e110/expr.png\" style=\"display:inline;vertical-align:middle;\" /></a></td></tr>\n",
       "<tr><td>26</td><td>Operation</td><td>operator:&nbsp;31<br>operands:&nbsp;32<br></td><td><a class=\"ProveItLink\" href=\"../38a01905250ba679201a0c40921c7b564aff02400/expr.ipynb\"><img src=\"../38a01905250ba679201a0c40921c7b564aff02400/expr.png\" style=\"display:inline;vertical-align:middle;\" /></a></td></tr>\n",
       "<tr><td>27</td><td>Literal</td><td></td><td><a class=\"ProveItLink\" href=\"../../common/e3872951fe05b26090372918594af92cac779e280/expr.ipynb\"><img src=\"../../common/e3872951fe05b26090372918594af92cac779e280/expr.png\" style=\"display:inline;vertical-align:middle;\" /></a></td></tr>\n",
       "<tr><td>28</td><td>ExprTuple</td><td>33</td><td><a class=\"ProveItLink\" href=\"../c28fc0bee45ac0718ea5e5f45c506599402fbd080/expr.ipynb\"><img src=\"../c28fc0bee45ac0718ea5e5f45c506599402fbd080/expr.png\" style=\"display:inline;vertical-align:middle;\" /></a></td></tr>\n",
       "<tr><td>29</td><td>Literal</td><td></td><td><a class=\"ProveItLink\" href=\"../../common/3123474674911507d272713eb0a3f543c87b57ba0/expr.ipynb\"><img src=\"../../common/3123474674911507d272713eb0a3f543c87b57ba0/expr.png\" style=\"display:inline;vertical-align:middle;\" /></a></td></tr>\n",
       "<tr><td>30</td><td>ExprTuple</td><td>34</td><td><a class=\"ProveItLink\" href=\"../6732facd5a227951cbd63d4438239e88e86e09740/expr.ipynb\"><img src=\"../6732facd5a227951cbd63d4438239e88e86e09740/expr.png\" style=\"display:inline;vertical-align:middle;\" /></a></td></tr>\n",
       "<tr><td>31</td><td>Literal</td><td></td><td><a class=\"ProveItLink\" href=\"../../../../../../numbers/number_sets/integers/__pv_it/common/92f3a0a77e3c3ea8e4a5c8674edadc54e4f57d550/expr.ipynb\"><img src=\"../../../../../../numbers/number_sets/integers/__pv_it/common/92f3a0a77e3c3ea8e4a5c8674edadc54e4f57d550/expr.png\" style=\"display:inline;vertical-align:middle;\" /></a></td></tr>\n",
       "<tr><td>32</td><td>ExprTuple</td><td>35, 36</td><td><a class=\"ProveItLink\" href=\"../4f7d3c072172c3f447b9b177a80380c4a58dfbaa0/expr.ipynb\"><img src=\"../4f7d3c072172c3f447b9b177a80380c4a58dfbaa0/expr.png\" style=\"display:inline;vertical-align:middle;\" /></a></td></tr>\n",
       "<tr><td>33</td><td>IndexedVar</td><td>variable:&nbsp;37<br>index:&nbsp;41<br></td><td><a class=\"ProveItLink\" href=\"../../../../../../core_expr_types/__pv_it/common/3617a402d02c87974fb8ee68c7244cf78c5dab160/expr.ipynb\"><img src=\"../../../../../../core_expr_types/__pv_it/common/3617a402d02c87974fb8ee68c7244cf78c5dab160/expr.png\" style=\"display:inline;vertical-align:middle;\" /></a></td></tr>\n",
       "<tr><td>34</td><td>IndexedVar</td><td>variable:&nbsp;39<br>index:&nbsp;42<br></td><td><a class=\"ProveItLink\" href=\"../../../../../../core_expr_types/__pv_it/common/a254f08dc43e96207439c1710df29672f7d1db3b0/expr.ipynb\"><img src=\"../../../../../../core_expr_types/__pv_it/common/a254f08dc43e96207439c1710df29672f7d1db3b0/expr.png\" style=\"display:inline;vertical-align:middle;\" /></a></td></tr>\n",
       "<tr><td>35</td><td>Literal</td><td></td><td><a class=\"ProveItLink\" href=\"../../../../../../numbers/numerals/__pv_it/common/682157d4892d216d9e5626ed533aff9b56b9506e0/expr.ipynb\"><img src=\"../../../../../../numbers/numerals/__pv_it/common/682157d4892d216d9e5626ed533aff9b56b9506e0/expr.png\" style=\"display:inline;vertical-align:middle;\" /></a></td></tr>\n",
       "<tr><td>36</td><td>Variable</td><td></td><td><a class=\"ProveItLink\" href=\"../../../../../../__pv_it/common/8968bb04eb3f7dfa02353397ce929b025bbd79c20/expr.ipynb\"><img src=\"../../../../../../__pv_it/common/8968bb04eb3f7dfa02353397ce929b025bbd79c20/expr.png\" style=\"display:inline;vertical-align:middle;\" /></a></td></tr>\n",
       "<tr><td>37</td><td>Variable</td><td></td><td><a class=\"ProveItLink\" href=\"../../../../../../__pv_it/common/d365663894822dede40e6e04c77860068334d0820/expr.ipynb\"><img src=\"../../../../../../__pv_it/common/d365663894822dede40e6e04c77860068334d0820/expr.png\" style=\"display:inline;vertical-align:middle;\" /></a></td></tr>\n",
       "<tr><td>38</td><td>ExprTuple</td><td>41</td><td><a class=\"ProveItLink\" href=\"../../../../../../core_expr_types/__pv_it/common/e53e75ee8364373a10f420a7f9184b4cb67637be0/expr.ipynb\"><img src=\"../../../../../../core_expr_types/__pv_it/common/e53e75ee8364373a10f420a7f9184b4cb67637be0/expr.png\" style=\"display:inline;vertical-align:middle;\" /></a></td></tr>\n",
       "<tr><td>39</td><td>Variable</td><td></td><td><a class=\"ProveItLink\" href=\"../../../../../../__pv_it/common/a4b9661da9b52dcebf59c5559fec8901f4df10750/expr.ipynb\"><img src=\"../../../../../../__pv_it/common/a4b9661da9b52dcebf59c5559fec8901f4df10750/expr.png\" style=\"display:inline;vertical-align:middle;\" /></a></td></tr>\n",
       "<tr><td>40</td><td>ExprTuple</td><td>42</td><td><a class=\"ProveItLink\" href=\"../../../../../../core_expr_types/__pv_it/common/0fc33550aa9740010879fdf30c320b63ba918eff0/expr.ipynb\"><img src=\"../../../../../../core_expr_types/__pv_it/common/0fc33550aa9740010879fdf30c320b63ba918eff0/expr.png\" style=\"display:inline;vertical-align:middle;\" /></a></td></tr>\n",
       "<tr><td>41</td><td>Variable</td><td></td><td><a class=\"ProveItLink\" href=\"../../../../../../__pv_it/common/1ed21df18baca2f42b561a7ffbf30a2743d594650/expr.ipynb\"><img src=\"../../../../../../__pv_it/common/1ed21df18baca2f42b561a7ffbf30a2743d594650/expr.png\" style=\"display:inline;vertical-align:middle;\" /></a></td></tr>\n",
       "<tr><td>42</td><td>Variable</td><td></td><td><a class=\"ProveItLink\" href=\"../../../../../../__pv_it/common/ae955345c83abf786c3aff8681cd5465beae262d0/expr.ipynb\"><img src=\"../../../../../../__pv_it/common/ae955345c83abf786c3aff8681cd5465beae262d0/expr.png\" style=\"display:inline;vertical-align:middle;\" /></a></td></tr>\n",
       "</table>\n"
      ],
      "text/plain": [
       "0. (A, Sum_{i=1}^{m} (Sum_{j=1}^{n} (〈w_{j}| . A . |v_{i}〉 . |w_{j}〉 . 〈v_{i}|)))\n",
       "   core type: ExprTuple\n",
       "   sub-expressions: 22, 1\n",
       "1. Sum_{i=1}^{m} (Sum_{j=1}^{n} (〈w_{j}| . A . |v_{i}〉 . |w_{j}〉 . 〈v_{i}|))\n",
       "   core type: Operation\n",
       "   operator: 7\n",
       "   operand: 3\n",
       "2. (i -> {Sum_{j=1}^{n} (〈w_{j}| . A . |v_{i}〉 . |w_{j}〉 . 〈v_{i}|) if i in {1 .. m}.)\n",
       "   core type: ExprTuple\n",
       "   sub-expressions: 3\n",
       "3. i -> {Sum_{j=1}^{n} (〈w_{j}| . A . |v_{i}〉 . |w_{j}〉 . 〈v_{i}|) if i in {1 .. m}.\n",
       "   core type: Lambda\n",
       "   parameter: 42\n",
       "   body: 4\n",
       "4. {Sum_{j=1}^{n} (〈w_{j}| . A . |v_{i}〉 . |w_{j}〉 . 〈v_{i}|) if i in {1 .. m}.\n",
       "   core type: Conditional\n",
       "   value: 5\n",
       "   condition: 6\n",
       "5. Sum_{j=1}^{n} (〈w_{j}| . A . |v_{i}〉 . |w_{j}〉 . 〈v_{i}|)\n",
       "   core type: Operation\n",
       "   operator: 7\n",
       "   operand: 10\n",
       "6. i in {1 .. m}\n",
       "   core type: Operation\n",
       "   operator: 19\n",
       "   operands: 9\n",
       "7. Sum\n",
       "   core type: Literal\n",
       "   sub-expressions: \n",
       "8. (j -> {〈w_{j}| . A . |v_{i}〉 . |w_{j}〉 . 〈v_{i}| if j in {1 .. n}.)\n",
       "   core type: ExprTuple\n",
       "   sub-expressions: 10\n",
       "9. (i, {1 .. m})\n",
       "   core type: ExprTuple\n",
       "   sub-expressions: 42, 11\n",
       "10. j -> {〈w_{j}| . A . |v_{i}〉 . |w_{j}〉 . 〈v_{i}| if j in {1 .. n}.\n",
       "    core type: Lambda\n",
       "    parameter: 41\n",
       "    body: 12\n",
       "11. {1 .. m}\n",
       "    core type: Operation\n",
       "    operator: 31\n",
       "    operands: 13\n",
       "12. {〈w_{j}| . A . |v_{i}〉 . |w_{j}〉 . 〈v_{i}| if j in {1 .. n}.\n",
       "    core type: Conditional\n",
       "    value: 14\n",
       "    condition: 15\n",
       "13. (1, m)\n",
       "    core type: ExprTuple\n",
       "    sub-expressions: 35, 16\n",
       "14. 〈w_{j}| . A . |v_{i}〉 . |w_{j}〉 . 〈v_{i}|\n",
       "    core type: Operation\n",
       "    operator: 17\n",
       "    operands: 18\n",
       "15. j in {1 .. n}\n",
       "    core type: Operation\n",
       "    operator: 19\n",
       "    operands: 20\n",
       "16. m\n",
       "    core type: Variable\n",
       "    sub-expressions: \n",
       "17. .\n",
       "    core type: Literal\n",
       "    sub-expressions: \n",
       "18. (〈w_{j}|, A, |v_{i}〉, |w_{j}〉, 〈v_{i}|)\n",
       "    core type: ExprTuple\n",
       "    sub-expressions: 21, 22, 23, 24, 25\n",
       "19. in\n",
       "    core type: Literal\n",
       "    sub-expressions: \n",
       "20. (j, {1 .. n})\n",
       "    core type: ExprTuple\n",
       "    sub-expressions: 41, 26\n",
       "21. 〈w_{j}|\n",
       "    core type: Operation\n",
       "    operator: 29\n",
       "    operand: 33\n",
       "22. A\n",
       "    core type: Variable\n",
       "    sub-expressions: \n",
       "23. |v_{i}〉\n",
       "    core type: Operation\n",
       "    operator: 27\n",
       "    operand: 34\n",
       "24. |w_{j}〉\n",
       "    core type: Operation\n",
       "    operator: 27\n",
       "    operand: 33\n",
       "25. 〈v_{i}|\n",
       "    core type: Operation\n",
       "    operator: 29\n",
       "    operand: 34\n",
       "26. {1 .. n}\n",
       "    core type: Operation\n",
       "    operator: 31\n",
       "    operands: 32\n",
       "27. KET\n",
       "    core type: Literal\n",
       "    sub-expressions: \n",
       "28. (w_{j})\n",
       "    core type: ExprTuple\n",
       "    sub-expressions: 33\n",
       "29. BRA\n",
       "    core type: Literal\n",
       "    sub-expressions: \n",
       "30. (v_{i})\n",
       "    core type: ExprTuple\n",
       "    sub-expressions: 34\n",
       "31. Interval\n",
       "    core type: Literal\n",
       "    sub-expressions: \n",
       "32. (1, n)\n",
       "    core type: ExprTuple\n",
       "    sub-expressions: 35, 36\n",
       "33. w_{j}\n",
       "    core type: IndexedVar\n",
       "variable: 37\n",
       "index: 41\n",
       "34. v_{i}\n",
       "    core type: IndexedVar\n",
       "variable: 39\n",
       "index: 42\n",
       "35. 1\n",
       "    core type: Literal\n",
       "    sub-expressions: \n",
       "36. n\n",
       "    core type: Variable\n",
       "    sub-expressions: \n",
       "37. w\n",
       "    core type: Variable\n",
       "    sub-expressions: \n",
       "38. (j)\n",
       "    core type: ExprTuple\n",
       "    sub-expressions: 41\n",
       "39. v\n",
       "    core type: Variable\n",
       "    sub-expressions: \n",
       "40. (i)\n",
       "    core type: ExprTuple\n",
       "    sub-expressions: 42\n",
       "41. j\n",
       "    core type: Variable\n",
       "    sub-expressions: \n",
       "42. i\n",
       "    core type: Variable\n",
       "    sub-expressions: "
      ]
     },
     "metadata": {},
     "output_type": "display_data"
    }
   ],
   "source": [
    "# display the expression information\n",
    "stored_expr.expr_info()"
   ]
  },
  {
   "cell_type": "code",
   "execution_count": null,
   "metadata": {},
   "outputs": [],
   "source": []
  }
 ],
 "metadata": {
  "kernelspec": {
   "display_name": "Python 3",
   "language": "python",
   "name": "python3"
  }
 },
 "nbformat": 4,
 "nbformat_minor": 0
}