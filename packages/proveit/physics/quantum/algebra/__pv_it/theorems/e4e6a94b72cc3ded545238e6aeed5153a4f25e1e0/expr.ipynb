{
 "cells": [
  {
   "cell_type": "markdown",
   "metadata": {},
   "source": [
    "Expression of type <a class=\"ProveItLink\" href=\"../../../../../../../../doc/html/api/proveit.Lambda.html\">Lambda</a>\n",
    "=======================\n",
    "# from the theory of <a class=\"ProveItLink\" href=\"../../../_theory_nbs_/theory.ipynb\">proveit.physics.quantum.algebra</a>"
   ]
  },
  {
   "cell_type": "code",
   "execution_count": 1,
   "metadata": {},
   "outputs": [],
   "source": [
    "import proveit\n",
    "# Automation is not needed when building an expression:\n",
    "proveit.defaults.automation = False # This will speed things up.\n",
    "proveit.defaults.inline_pngs = False # Makes files smaller.\n",
    "%load_expr # Load the stored expression as 'stored_expr'\n",
    "# import Expression classes needed to build the expression\n",
    "from proveit import Conditional, Lambda, b, l, n\n",
    "from proveit.core_expr_types import A_1_to_l, C_1_to_n\n",
    "from proveit.logic import And, Equals, Forall, InClass, InSet\n",
    "from proveit.numbers import Complex, Natural\n",
    "from proveit.physics.quantum import Qmult, QmultCodomain"
   ]
  },
  {
   "cell_type": "code",
   "execution_count": 2,
   "metadata": {},
   "outputs": [
    {
     "data": {
      "text/html": [
       "<strong id=\"expr\">expr:</strong> <a class=\"ProveItLink\" href=\"expr.ipynb\"><img src=\"expr.png\" style=\"display:inline;vertical-align:middle;\" /></a><br>"
      ],
      "text/plain": [
       "<IPython.core.display.HTML object>"
      ]
     },
     "metadata": {},
     "output_type": "display_data"
    }
   ],
   "source": [
    "# build up the expression from sub-expressions\n",
    "expr = Lambda([l, n], Conditional(Forall(instance_param_or_params = [b], instance_expr = Forall(instance_param_or_params = [A_1_to_l, C_1_to_n], instance_expr = Equals(Qmult(A_1_to_l, b, C_1_to_n), Qmult(b, A_1_to_l, C_1_to_n)).with_wrapping_at(2), condition = InClass(Qmult(A_1_to_l, C_1_to_n), QmultCodomain)), domain = Complex), And(InSet(l, Natural), InSet(n, Natural))))"
   ]
  },
  {
   "cell_type": "code",
   "execution_count": 3,
   "metadata": {},
   "outputs": [
    {
     "name": "stdout",
     "output_type": "stream",
     "text": [
      "Passed sanity check: expr matches stored_expr\n"
     ]
    }
   ],
   "source": [
    "# check that the built expression is the same as the stored expression\n",
    "assert expr == stored_expr\n",
    "assert expr._style_id == stored_expr._style_id\n",
    "print(\"Passed sanity check: expr matches stored_expr\")"
   ]
  },
  {
   "cell_type": "code",
   "execution_count": 4,
   "metadata": {},
   "outputs": [
    {
     "name": "stdout",
     "output_type": "stream",
     "text": [
      "\\left(l, n\\right) \\mapsto \\left\\{\\forall_{b \\in \\mathbb{C}}~\\left[\\forall_{A_{1}, A_{2}, \\ldots, A_{l}, C_{1}, C_{2}, \\ldots, C_{n}~|~\\left(A_{1} \\thinspace  A_{2} \\thinspace  \\ldots \\thinspace  A_{l}\\thinspace C_{1} \\thinspace  C_{2} \\thinspace  \\ldots \\thinspace  C_{n}\\right) \\underset{{\\scriptscriptstyle c}}{\\in} \\mathcal{Q^*}}~\\left(\\begin{array}{c} \\begin{array}{l} \\left(A_{1} \\thinspace  A_{2} \\thinspace  \\ldots \\thinspace  A_{l} \\thinspace b\\thinspace C_{1} \\thinspace  C_{2} \\thinspace  \\ldots \\thinspace  C_{n}\\right) =  \\\\ \\left(b\\thinspace A_{1} \\thinspace  A_{2} \\thinspace  \\ldots \\thinspace  A_{l}\\thinspace C_{1} \\thinspace  C_{2} \\thinspace  \\ldots \\thinspace  C_{n}\\right) \\end{array} \\end{array}\\right)\\right] \\textrm{ if } l \\in \\mathbb{N} ,  n \\in \\mathbb{N}\\right..\n"
     ]
    }
   ],
   "source": [
    "# Show the LaTeX representation of the expression for convenience if you need it.\n",
    "print(stored_expr.latex())"
   ]
  },
  {
   "cell_type": "code",
   "execution_count": 5,
   "metadata": {},
   "outputs": [
    {
     "data": {
      "text/html": [
       "no style options"
      ],
      "text/plain": [
       "no style options"
      ]
     },
     "metadata": {},
     "output_type": "display_data"
    }
   ],
   "source": [
    "stored_expr.style_options()"
   ]
  },
  {
   "cell_type": "code",
   "execution_count": 6,
   "metadata": {},
   "outputs": [
    {
     "data": {
      "text/html": [
       "<table><tr><th>&nbsp;</th><th>core type</th><th>sub-expressions</th><th>expression</th></tr>\n",
       "<tr><td>0</td><td>Lambda</td><td>parameters:&nbsp;1<br>body:&nbsp;2<br></td><td><a class=\"ProveItLink\" href=\"expr.ipynb\"><img src=\"expr.png\" style=\"display:inline;vertical-align:middle;\" /></a></td></tr>\n",
       "<tr><td>1</td><td>ExprTuple</td><td>43, 46</td><td><a class=\"ProveItLink\" href=\"../8f591fc632fbf60a7b5194806fd60ef6d685e5540/expr.ipynb\"><img src=\"../8f591fc632fbf60a7b5194806fd60ef6d685e5540/expr.png\" style=\"display:inline;vertical-align:middle;\" /></a></td></tr>\n",
       "<tr><td>2</td><td>Conditional</td><td>value:&nbsp;3<br>condition:&nbsp;4<br></td><td><a class=\"ProveItLink\" href=\"../752af040ec9106f0821f1d775ac3ff6463648c670/expr.ipynb\"><img src=\"../752af040ec9106f0821f1d775ac3ff6463648c670/expr.png\" style=\"display:inline;vertical-align:middle;\" /></a></td></tr>\n",
       "<tr><td>3</td><td>Operation</td><td>operator:&nbsp;18<br>operand:&nbsp;8<br></td><td><a class=\"ProveItLink\" href=\"../b53bd760b36df3030ea87783fb23b86ed093fd290/expr.ipynb\"><img src=\"../b53bd760b36df3030ea87783fb23b86ed093fd290/expr.png\" style=\"display:inline;vertical-align:middle;\" /></a></td></tr>\n",
       "<tr><td>4</td><td>Operation</td><td>operator:&nbsp;6<br>operands:&nbsp;7<br></td><td><a class=\"ProveItLink\" href=\"../acdd7cf434d5fc356e923eb487df2336556a39600/expr.ipynb\"><img src=\"../acdd7cf434d5fc356e923eb487df2336556a39600/expr.png\" style=\"display:inline;vertical-align:middle;\" /></a></td></tr>\n",
       "<tr><td>5</td><td>ExprTuple</td><td>8</td><td><a class=\"ProveItLink\" href=\"../1f0a0976ce004b07f403243c3665d04863a55c580/expr.ipynb\"><img src=\"../1f0a0976ce004b07f403243c3665d04863a55c580/expr.png\" style=\"display:inline;vertical-align:middle;\" /></a></td></tr>\n",
       "<tr><td>6</td><td>Literal</td><td></td><td><a class=\"ProveItLink\" href=\"../../../../../../logic/booleans/conjunction/__pv_it/common/42118ff318bd65d98b1393f64ce7c2269feef76e0/expr.ipynb\"><img src=\"../../../../../../logic/booleans/conjunction/__pv_it/common/42118ff318bd65d98b1393f64ce7c2269feef76e0/expr.png\" style=\"display:inline;vertical-align:middle;\" /></a></td></tr>\n",
       "<tr><td>7</td><td>ExprTuple</td><td>9, 10</td><td><a class=\"ProveItLink\" href=\"../afd55e9c343af009d0820fd609aefa232037cadf0/expr.ipynb\"><img src=\"../afd55e9c343af009d0820fd609aefa232037cadf0/expr.png\" style=\"display:inline;vertical-align:middle;\" /></a></td></tr>\n",
       "<tr><td>8</td><td>Lambda</td><td>parameter:&nbsp;39<br>body:&nbsp;12<br></td><td><a class=\"ProveItLink\" href=\"../4b58458b69210c0e12aefdf92a058e061f6539470/expr.ipynb\"><img src=\"../4b58458b69210c0e12aefdf92a058e061f6539470/expr.png\" style=\"display:inline;vertical-align:middle;\" /></a></td></tr>\n",
       "<tr><td>9</td><td>Operation</td><td>operator:&nbsp;20<br>operands:&nbsp;13<br></td><td><a class=\"ProveItLink\" href=\"../cedb79d97d652f14b415767917d43a7cf73db4810/expr.ipynb\"><img src=\"../cedb79d97d652f14b415767917d43a7cf73db4810/expr.png\" style=\"display:inline;vertical-align:middle;\" /></a></td></tr>\n",
       "<tr><td>10</td><td>Operation</td><td>operator:&nbsp;20<br>operands:&nbsp;14<br></td><td><a class=\"ProveItLink\" href=\"../a4c62904f3a87ce48a16b43526806be1316ce7cc0/expr.ipynb\"><img src=\"../a4c62904f3a87ce48a16b43526806be1316ce7cc0/expr.png\" style=\"display:inline;vertical-align:middle;\" /></a></td></tr>\n",
       "<tr><td>11</td><td>ExprTuple</td><td>39</td><td><a class=\"ProveItLink\" href=\"../2172b6b5a562721cf67ce94593b8be1eb7f26c660/expr.ipynb\"><img src=\"../2172b6b5a562721cf67ce94593b8be1eb7f26c660/expr.png\" style=\"display:inline;vertical-align:middle;\" /></a></td></tr>\n",
       "<tr><td>12</td><td>Conditional</td><td>value:&nbsp;15<br>condition:&nbsp;16<br></td><td><a class=\"ProveItLink\" href=\"../76e946e83de01384960dc31de76019f348d53d930/expr.ipynb\"><img src=\"../76e946e83de01384960dc31de76019f348d53d930/expr.png\" style=\"display:inline;vertical-align:middle;\" /></a></td></tr>\n",
       "<tr><td>13</td><td>ExprTuple</td><td>43, 17</td><td><a class=\"ProveItLink\" href=\"../1c13973f6a4c6f065f3ea440098d8a00dad72f010/expr.ipynb\"><img src=\"../1c13973f6a4c6f065f3ea440098d8a00dad72f010/expr.png\" style=\"display:inline;vertical-align:middle;\" /></a></td></tr>\n",
       "<tr><td>14</td><td>ExprTuple</td><td>46, 17</td><td><a class=\"ProveItLink\" href=\"../ecc3c58a9897ba541ec19be82e54ee986957c4200/expr.ipynb\"><img src=\"../ecc3c58a9897ba541ec19be82e54ee986957c4200/expr.png\" style=\"display:inline;vertical-align:middle;\" /></a></td></tr>\n",
       "<tr><td>15</td><td>Operation</td><td>operator:&nbsp;18<br>operand:&nbsp;22<br></td><td><a class=\"ProveItLink\" href=\"../94188358ed78a93e7bd04b48f4a55319979493d50/expr.ipynb\"><img src=\"../94188358ed78a93e7bd04b48f4a55319979493d50/expr.png\" style=\"display:inline;vertical-align:middle;\" /></a></td></tr>\n",
       "<tr><td>16</td><td>Operation</td><td>operator:&nbsp;20<br>operands:&nbsp;21<br></td><td><a class=\"ProveItLink\" href=\"../a259ec76dfb0a5be60b7c83d797520fa82c1dba60/expr.ipynb\"><img src=\"../a259ec76dfb0a5be60b7c83d797520fa82c1dba60/expr.png\" style=\"display:inline;vertical-align:middle;\" /></a></td></tr>\n",
       "<tr><td>17</td><td>Literal</td><td></td><td><a class=\"ProveItLink\" href=\"../../../../../../numbers/number_sets/natural_numbers/__pv_it/common/8b7c321957f52ed3b05b36af612eeae4fa4783bc0/expr.ipynb\"><img src=\"../../../../../../numbers/number_sets/natural_numbers/__pv_it/common/8b7c321957f52ed3b05b36af612eeae4fa4783bc0/expr.png\" style=\"display:inline;vertical-align:middle;\" /></a></td></tr>\n",
       "<tr><td>18</td><td>Literal</td><td></td><td><a class=\"ProveItLink\" href=\"../../../../../../logic/booleans/quantification/universality/__pv_it/common/083d2baa0b8ecab1d230f9ec29a15aa1355809fb0/expr.ipynb\"><img src=\"../../../../../../logic/booleans/quantification/universality/__pv_it/common/083d2baa0b8ecab1d230f9ec29a15aa1355809fb0/expr.png\" style=\"display:inline;vertical-align:middle;\" /></a></td></tr>\n",
       "<tr><td>19</td><td>ExprTuple</td><td>22</td><td><a class=\"ProveItLink\" href=\"../e91efb13698e86cfd08075ebb2ecfd3ac495849b0/expr.ipynb\"><img src=\"../e91efb13698e86cfd08075ebb2ecfd3ac495849b0/expr.png\" style=\"display:inline;vertical-align:middle;\" /></a></td></tr>\n",
       "<tr><td>20</td><td>Literal</td><td></td><td><a class=\"ProveItLink\" href=\"../../../../../../logic/sets/membership/__pv_it/common/477487d8796864d23d5810f83761435f25167f690/expr.ipynb\"><img src=\"../../../../../../logic/sets/membership/__pv_it/common/477487d8796864d23d5810f83761435f25167f690/expr.png\" style=\"display:inline;vertical-align:middle;\" /></a></td></tr>\n",
       "<tr><td>21</td><td>ExprTuple</td><td>39, 23</td><td><a class=\"ProveItLink\" href=\"../4a72a986c458b001a667c5069838c28cc69c8d280/expr.ipynb\"><img src=\"../4a72a986c458b001a667c5069838c28cc69c8d280/expr.png\" style=\"display:inline;vertical-align:middle;\" /></a></td></tr>\n",
       "<tr><td>22</td><td>Lambda</td><td>parameters:&nbsp;38<br>body:&nbsp;24<br></td><td><a class=\"ProveItLink\" href=\"../6d5d2c0fb192da0f9724c7eaa72fec7e5ed0fa740/expr.ipynb\"><img src=\"../6d5d2c0fb192da0f9724c7eaa72fec7e5ed0fa740/expr.png\" style=\"display:inline;vertical-align:middle;\" /></a></td></tr>\n",
       "<tr><td>23</td><td>Literal</td><td></td><td><a class=\"ProveItLink\" href=\"../../../../../../numbers/number_sets/complex_numbers/__pv_it/common/d18a028138f659eda00de597c28a3447fe87eb100/expr.ipynb\"><img src=\"../../../../../../numbers/number_sets/complex_numbers/__pv_it/common/d18a028138f659eda00de597c28a3447fe87eb100/expr.png\" style=\"display:inline;vertical-align:middle;\" /></a></td></tr>\n",
       "<tr><td>24</td><td>Conditional</td><td>value:&nbsp;25<br>condition:&nbsp;26<br></td><td><a class=\"ProveItLink\" href=\"../df9f2a97d74b869e59054a10ecb46c3cecb0a2240/expr.ipynb\"><img src=\"../df9f2a97d74b869e59054a10ecb46c3cecb0a2240/expr.png\" style=\"display:inline;vertical-align:middle;\" /></a></td></tr>\n",
       "<tr><td>25</td><td>Operation</td><td>operator:&nbsp;27<br>operands:&nbsp;28<br></td><td><a class=\"ProveItLink\" href=\"../bc093971c68506ace335dddc3c242dc515dc19fd0/expr.ipynb\"><img src=\"../bc093971c68506ace335dddc3c242dc515dc19fd0/expr.png\" style=\"display:inline;vertical-align:middle;\" /></a></td></tr>\n",
       "<tr><td>26</td><td>Operation</td><td>operator:&nbsp;29<br>operands:&nbsp;30<br></td><td><a class=\"ProveItLink\" href=\"../321d5e9ea6ebf16772320f5d9aa088bfa532e25d0/expr.ipynb\"><img src=\"../321d5e9ea6ebf16772320f5d9aa088bfa532e25d0/expr.png\" style=\"display:inline;vertical-align:middle;\" /></a></td></tr>\n",
       "<tr><td>27</td><td>Literal</td><td></td><td><a class=\"ProveItLink\" href=\"../../../../../../logic/equality/__pv_it/common/fb96dc12b2aa8801dda64d0132b396c63d1502bb0/expr.ipynb\"><img src=\"../../../../../../logic/equality/__pv_it/common/fb96dc12b2aa8801dda64d0132b396c63d1502bb0/expr.png\" style=\"display:inline;vertical-align:middle;\" /></a></td></tr>\n",
       "<tr><td>28</td><td>ExprTuple</td><td>31, 32</td><td><a class=\"ProveItLink\" href=\"../b6cdfe5120a152f576635ded38299e3e9aebd31e0/expr.ipynb\"><img src=\"../b6cdfe5120a152f576635ded38299e3e9aebd31e0/expr.png\" style=\"display:inline;vertical-align:middle;\" /></a></td></tr>\n",
       "<tr><td>29</td><td>Literal</td><td></td><td><a class=\"ProveItLink\" href=\"../../../../../../logic/classes/membership/__pv_it/common/e3b437d28fbe17f0a50c9789c7c9b47a1270f1420/expr.ipynb\"><img src=\"../../../../../../logic/classes/membership/__pv_it/common/e3b437d28fbe17f0a50c9789c7c9b47a1270f1420/expr.png\" style=\"display:inline;vertical-align:middle;\" /></a></td></tr>\n",
       "<tr><td>30</td><td>ExprTuple</td><td>33, 34</td><td><a class=\"ProveItLink\" href=\"../c947cc05e48efdfb54d5380729415aae06be38bb0/expr.ipynb\"><img src=\"../c947cc05e48efdfb54d5380729415aae06be38bb0/expr.png\" style=\"display:inline;vertical-align:middle;\" /></a></td></tr>\n",
       "<tr><td>31</td><td>Operation</td><td>operator:&nbsp;37<br>operands:&nbsp;35<br></td><td><a class=\"ProveItLink\" href=\"../ac86ef1408c4c3c863d9a1417826dfb5a0dfeedd0/expr.ipynb\"><img src=\"../ac86ef1408c4c3c863d9a1417826dfb5a0dfeedd0/expr.png\" style=\"display:inline;vertical-align:middle;\" /></a></td></tr>\n",
       "<tr><td>32</td><td>Operation</td><td>operator:&nbsp;37<br>operands:&nbsp;36<br></td><td><a class=\"ProveItLink\" href=\"../2857570622b3ba8a384928f54780a16ecee1c7d30/expr.ipynb\"><img src=\"../2857570622b3ba8a384928f54780a16ecee1c7d30/expr.png\" style=\"display:inline;vertical-align:middle;\" /></a></td></tr>\n",
       "<tr><td>33</td><td>Operation</td><td>operator:&nbsp;37<br>operands:&nbsp;38<br></td><td><a class=\"ProveItLink\" href=\"../8c8b89a278e506d1497a744c1ea33883e72395be0/expr.ipynb\"><img src=\"../8c8b89a278e506d1497a744c1ea33883e72395be0/expr.png\" style=\"display:inline;vertical-align:middle;\" /></a></td></tr>\n",
       "<tr><td>34</td><td>Literal</td><td></td><td><a class=\"ProveItLink\" href=\"../../common/9eb627883d0de35514f5f025d8d6d9a6894424630/expr.ipynb\"><img src=\"../../common/9eb627883d0de35514f5f025d8d6d9a6894424630/expr.png\" style=\"display:inline;vertical-align:middle;\" /></a></td></tr>\n",
       "<tr><td>35</td><td>ExprTuple</td><td>40, 39, 41</td><td><a class=\"ProveItLink\" href=\"../2847b3d0869cca0991d61b394257f6d625ae47780/expr.ipynb\"><img src=\"../2847b3d0869cca0991d61b394257f6d625ae47780/expr.png\" style=\"display:inline;vertical-align:middle;\" /></a></td></tr>\n",
       "<tr><td>36</td><td>ExprTuple</td><td>39, 40, 41</td><td><a class=\"ProveItLink\" href=\"../3076a7abccbceab46e78e819676e80242affe74b0/expr.ipynb\"><img src=\"../3076a7abccbceab46e78e819676e80242affe74b0/expr.png\" style=\"display:inline;vertical-align:middle;\" /></a></td></tr>\n",
       "<tr><td>37</td><td>Literal</td><td></td><td><a class=\"ProveItLink\" href=\"../../common/2972e0deb52c96565b39f905d407d7302ae287580/expr.ipynb\"><img src=\"../../common/2972e0deb52c96565b39f905d407d7302ae287580/expr.png\" style=\"display:inline;vertical-align:middle;\" /></a></td></tr>\n",
       "<tr><td>38</td><td>ExprTuple</td><td>40, 41</td><td><a class=\"ProveItLink\" href=\"../5ce4499f62ed7924d2b46860136e18f9faeb15300/expr.ipynb\"><img src=\"../5ce4499f62ed7924d2b46860136e18f9faeb15300/expr.png\" style=\"display:inline;vertical-align:middle;\" /></a></td></tr>\n",
       "<tr><td>39</td><td>Variable</td><td></td><td><a class=\"ProveItLink\" href=\"../../../../../../__pv_it/common/195236b98c6c564a75b5dbada74b173bc52d5c3e0/expr.ipynb\"><img src=\"../../../../../../__pv_it/common/195236b98c6c564a75b5dbada74b173bc52d5c3e0/expr.png\" style=\"display:inline;vertical-align:middle;\" /></a></td></tr>\n",
       "<tr><td>40</td><td>ExprRange</td><td>lambda_map:&nbsp;42<br>start_index:&nbsp;45<br>end_index:&nbsp;43<br></td><td><a class=\"ProveItLink\" href=\"../../../../../../core_expr_types/__pv_it/common/a661ce209a2c221820bbff00e1d4b098820c37af0/expr.ipynb\"><img src=\"../../../../../../core_expr_types/__pv_it/common/a661ce209a2c221820bbff00e1d4b098820c37af0/expr.png\" style=\"display:inline;vertical-align:middle;\" /></a></td></tr>\n",
       "<tr><td>41</td><td>ExprRange</td><td>lambda_map:&nbsp;44<br>start_index:&nbsp;45<br>end_index:&nbsp;46<br></td><td><a class=\"ProveItLink\" href=\"../../../../../../core_expr_types/__pv_it/common/e7504afc0aea2366fbf28183721351f04720dfad0/expr.ipynb\"><img src=\"../../../../../../core_expr_types/__pv_it/common/e7504afc0aea2366fbf28183721351f04720dfad0/expr.png\" style=\"display:inline;vertical-align:middle;\" /></a></td></tr>\n",
       "<tr><td>42</td><td>Lambda</td><td>parameter:&nbsp;52<br>body:&nbsp;47<br></td><td><a class=\"ProveItLink\" href=\"../../../../../../core_expr_types/__pv_it/common/9332289e845003c758afc3bcee43498ae784f2d90/expr.ipynb\"><img src=\"../../../../../../core_expr_types/__pv_it/common/9332289e845003c758afc3bcee43498ae784f2d90/expr.png\" style=\"display:inline;vertical-align:middle;\" /></a></td></tr>\n",
       "<tr><td>43</td><td>Variable</td><td></td><td><a class=\"ProveItLink\" href=\"../../../../../../__pv_it/common/27cc275d44b4f4499fb9ccfb3fab1a98165d2fa60/expr.ipynb\"><img src=\"../../../../../../__pv_it/common/27cc275d44b4f4499fb9ccfb3fab1a98165d2fa60/expr.png\" style=\"display:inline;vertical-align:middle;\" /></a></td></tr>\n",
       "<tr><td>44</td><td>Lambda</td><td>parameter:&nbsp;52<br>body:&nbsp;48<br></td><td><a class=\"ProveItLink\" href=\"../../../../../../core_expr_types/__pv_it/common/c9399abb980047fe39e716f375f641a4494b404b0/expr.ipynb\"><img src=\"../../../../../../core_expr_types/__pv_it/common/c9399abb980047fe39e716f375f641a4494b404b0/expr.png\" style=\"display:inline;vertical-align:middle;\" /></a></td></tr>\n",
       "<tr><td>45</td><td>Literal</td><td></td><td><a class=\"ProveItLink\" href=\"../../../../../../numbers/numerals/__pv_it/common/682157d4892d216d9e5626ed533aff9b56b9506e0/expr.ipynb\"><img src=\"../../../../../../numbers/numerals/__pv_it/common/682157d4892d216d9e5626ed533aff9b56b9506e0/expr.png\" style=\"display:inline;vertical-align:middle;\" /></a></td></tr>\n",
       "<tr><td>46</td><td>Variable</td><td></td><td><a class=\"ProveItLink\" href=\"../../../../../../__pv_it/common/8968bb04eb3f7dfa02353397ce929b025bbd79c20/expr.ipynb\"><img src=\"../../../../../../__pv_it/common/8968bb04eb3f7dfa02353397ce929b025bbd79c20/expr.png\" style=\"display:inline;vertical-align:middle;\" /></a></td></tr>\n",
       "<tr><td>47</td><td>IndexedVar</td><td>variable:&nbsp;49<br>index:&nbsp;52<br></td><td><a class=\"ProveItLink\" href=\"../../../../../../core_expr_types/__pv_it/common/9fdaaadf1b3d81a308244818dc08833e7f5035730/expr.ipynb\"><img src=\"../../../../../../core_expr_types/__pv_it/common/9fdaaadf1b3d81a308244818dc08833e7f5035730/expr.png\" style=\"display:inline;vertical-align:middle;\" /></a></td></tr>\n",
       "<tr><td>48</td><td>IndexedVar</td><td>variable:&nbsp;50<br>index:&nbsp;52<br></td><td><a class=\"ProveItLink\" href=\"../../../../../../core_expr_types/__pv_it/common/f756bc205d05c1af04e1aeeb7a42469b1e89f9cf0/expr.ipynb\"><img src=\"../../../../../../core_expr_types/__pv_it/common/f756bc205d05c1af04e1aeeb7a42469b1e89f9cf0/expr.png\" style=\"display:inline;vertical-align:middle;\" /></a></td></tr>\n",
       "<tr><td>49</td><td>Variable</td><td></td><td><a class=\"ProveItLink\" href=\"../../../../../../__pv_it/common/09585084922504426caf1db2ff588a23a0932a960/expr.ipynb\"><img src=\"../../../../../../__pv_it/common/09585084922504426caf1db2ff588a23a0932a960/expr.png\" style=\"display:inline;vertical-align:middle;\" /></a></td></tr>\n",
       "<tr><td>50</td><td>Variable</td><td></td><td><a class=\"ProveItLink\" href=\"../../../../../../__pv_it/common/9fba9f29e823606ff4fdf2f1c6d5d08d906e850a0/expr.ipynb\"><img src=\"../../../../../../__pv_it/common/9fba9f29e823606ff4fdf2f1c6d5d08d906e850a0/expr.png\" style=\"display:inline;vertical-align:middle;\" /></a></td></tr>\n",
       "<tr><td>51</td><td>ExprTuple</td><td>52</td><td><a class=\"ProveItLink\" href=\"../../../../../../core_expr_types/__pv_it/common/4b0dd6be36d76552eda6a95d5b4a27f5a5b62f900/expr.ipynb\"><img src=\"../../../../../../core_expr_types/__pv_it/common/4b0dd6be36d76552eda6a95d5b4a27f5a5b62f900/expr.png\" style=\"display:inline;vertical-align:middle;\" /></a></td></tr>\n",
       "<tr><td>52</td><td>Variable</td><td></td><td><a class=\"ProveItLink\" href=\"../../../../../../core_expr_types/__pv_it/common/006c465e50948aa2b52285e2de47974f741255cc0/expr.ipynb\"><img src=\"../../../../../../core_expr_types/__pv_it/common/006c465e50948aa2b52285e2de47974f741255cc0/expr.png\" style=\"display:inline;vertical-align:middle;\" /></a></td></tr>\n",
       "</table>\n"
      ],
      "text/plain": [
       "0. (l, n) -> {forall_{b in Complex} [forall_{A_{1}, A_{2}, ..., A_{l}, C_{1}, C_{2}, ..., C_{n} | (A_{1} .  A_{2} .  ... .  A_{l}. C_{1} .  C_{2} .  ... .  C_{n}) in_c Q*} ((A_{1} .  A_{2} .  ... .  A_{l} . b. C_{1} .  C_{2} .  ... .  C_{n}) =  \\\\ (b. A_{1} .  A_{2} .  ... .  A_{l}. C_{1} .  C_{2} .  ... .  C_{n}))] if l in Natural ,  n in Natural.\n",
       "   core type: Lambda\n",
       "   parameters: 1\\n   body: 2\n",
       "1. (l, n)\n",
       "   core type: ExprTuple\n",
       "   sub-expressions: 43, 46\n",
       "2. {forall_{b in Complex} [forall_{A_{1}, A_{2}, ..., A_{l}, C_{1}, C_{2}, ..., C_{n} | (A_{1} .  A_{2} .  ... .  A_{l}. C_{1} .  C_{2} .  ... .  C_{n}) in_c Q*} ((A_{1} .  A_{2} .  ... .  A_{l} . b. C_{1} .  C_{2} .  ... .  C_{n}) =  \\\\ (b. A_{1} .  A_{2} .  ... .  A_{l}. C_{1} .  C_{2} .  ... .  C_{n}))] if l in Natural ,  n in Natural.\n",
       "   core type: Conditional\n",
       "   value: 3\n",
       "   condition: 4\n",
       "3. forall_{b in Complex} [forall_{A_{1}, A_{2}, ..., A_{l}, C_{1}, C_{2}, ..., C_{n} | (A_{1} .  A_{2} .  ... .  A_{l}. C_{1} .  C_{2} .  ... .  C_{n}) in_c Q*} ((A_{1} .  A_{2} .  ... .  A_{l} . b. C_{1} .  C_{2} .  ... .  C_{n}) =  \\\\ (b. A_{1} .  A_{2} .  ... .  A_{l}. C_{1} .  C_{2} .  ... .  C_{n}))]\n",
       "   core type: Operation\n",
       "   operator: 18\n",
       "   operand: 8\n",
       "4. (l in Natural) and (n in Natural)\n",
       "   core type: Operation\n",
       "   operator: 6\n",
       "   operands: 7\n",
       "5. (b -> {forall_{A_{1}, A_{2}, ..., A_{l}, C_{1}, C_{2}, ..., C_{n} | (A_{1} .  A_{2} .  ... .  A_{l}. C_{1} .  C_{2} .  ... .  C_{n}) in_c Q*} ((A_{1} .  A_{2} .  ... .  A_{l} . b. C_{1} .  C_{2} .  ... .  C_{n}) =  \\\\ (b. A_{1} .  A_{2} .  ... .  A_{l}. C_{1} .  C_{2} .  ... .  C_{n})) if b in Complex.)\n",
       "   core type: ExprTuple\n",
       "   sub-expressions: 8\n",
       "6. and\n",
       "   core type: Literal\n",
       "   sub-expressions: \n",
       "7. (l in Natural, n in Natural)\n",
       "   core type: ExprTuple\n",
       "   sub-expressions: 9, 10\n",
       "8. b -> {forall_{A_{1}, A_{2}, ..., A_{l}, C_{1}, C_{2}, ..., C_{n} | (A_{1} .  A_{2} .  ... .  A_{l}. C_{1} .  C_{2} .  ... .  C_{n}) in_c Q*} ((A_{1} .  A_{2} .  ... .  A_{l} . b. C_{1} .  C_{2} .  ... .  C_{n}) =  \\\\ (b. A_{1} .  A_{2} .  ... .  A_{l}. C_{1} .  C_{2} .  ... .  C_{n})) if b in Complex.\n",
       "   core type: Lambda\n",
       "   parameter: 39\n",
       "   body: 12\n",
       "9. l in Natural\n",
       "   core type: Operation\n",
       "   operator: 20\n",
       "   operands: 13\n",
       "10. n in Natural\n",
       "    core type: Operation\n",
       "    operator: 20\n",
       "    operands: 14\n",
       "11. (b)\n",
       "    core type: ExprTuple\n",
       "    sub-expressions: 39\n",
       "12. {forall_{A_{1}, A_{2}, ..., A_{l}, C_{1}, C_{2}, ..., C_{n} | (A_{1} .  A_{2} .  ... .  A_{l}. C_{1} .  C_{2} .  ... .  C_{n}) in_c Q*} ((A_{1} .  A_{2} .  ... .  A_{l} . b. C_{1} .  C_{2} .  ... .  C_{n}) =  \\\\ (b. A_{1} .  A_{2} .  ... .  A_{l}. C_{1} .  C_{2} .  ... .  C_{n})) if b in Complex.\n",
       "    core type: Conditional\n",
       "    value: 15\n",
       "    condition: 16\n",
       "13. (l, Natural)\n",
       "    core type: ExprTuple\n",
       "    sub-expressions: 43, 17\n",
       "14. (n, Natural)\n",
       "    core type: ExprTuple\n",
       "    sub-expressions: 46, 17\n",
       "15. forall_{A_{1}, A_{2}, ..., A_{l}, C_{1}, C_{2}, ..., C_{n} | (A_{1} .  A_{2} .  ... .  A_{l}. C_{1} .  C_{2} .  ... .  C_{n}) in_c Q*} ((A_{1} .  A_{2} .  ... .  A_{l} . b. C_{1} .  C_{2} .  ... .  C_{n}) =  \\\\ (b. A_{1} .  A_{2} .  ... .  A_{l}. C_{1} .  C_{2} .  ... .  C_{n}))\n",
       "    core type: Operation\n",
       "    operator: 18\n",
       "    operand: 22\n",
       "16. b in Complex\n",
       "    core type: Operation\n",
       "    operator: 20\n",
       "    operands: 21\n",
       "17. Natural\n",
       "    core type: Literal\n",
       "    sub-expressions: \n",
       "18. forall\n",
       "    core type: Literal\n",
       "    sub-expressions: \n",
       "19. ((A_{1}, A_{2}, ..., A_{l}, C_{1}, C_{2}, ..., C_{n}) -> {(A_{1} .  A_{2} .  ... .  A_{l} . b. C_{1} .  C_{2} .  ... .  C_{n}) =  \\\\ (b. A_{1} .  A_{2} .  ... .  A_{l}. C_{1} .  C_{2} .  ... .  C_{n}) if (A_{1} .  A_{2} .  ... .  A_{l}. C_{1} .  C_{2} .  ... .  C_{n}) in_c Q*.)\n",
       "    core type: ExprTuple\n",
       "    sub-expressions: 22\n",
       "20. in\n",
       "    core type: Literal\n",
       "    sub-expressions: \n",
       "21. (b, Complex)\n",
       "    core type: ExprTuple\n",
       "    sub-expressions: 39, 23\n",
       "22. (A_{1}, A_{2}, ..., A_{l}, C_{1}, C_{2}, ..., C_{n}) -> {(A_{1} .  A_{2} .  ... .  A_{l} . b. C_{1} .  C_{2} .  ... .  C_{n}) =  \\\\ (b. A_{1} .  A_{2} .  ... .  A_{l}. C_{1} .  C_{2} .  ... .  C_{n}) if (A_{1} .  A_{2} .  ... .  A_{l}. C_{1} .  C_{2} .  ... .  C_{n}) in_c Q*.\n",
       "    core type: Lambda\n",
       "    parameters: 38\\n    body: 24\n",
       "23. Complex\n",
       "    core type: Literal\n",
       "    sub-expressions: \n",
       "24. {(A_{1} .  A_{2} .  ... .  A_{l} . b. C_{1} .  C_{2} .  ... .  C_{n}) =  \\\\ (b. A_{1} .  A_{2} .  ... .  A_{l}. C_{1} .  C_{2} .  ... .  C_{n}) if (A_{1} .  A_{2} .  ... .  A_{l}. C_{1} .  C_{2} .  ... .  C_{n}) in_c Q*.\n",
       "    core type: Conditional\n",
       "    value: 25\n",
       "    condition: 26\n",
       "25. (A_{1} .  A_{2} .  ... .  A_{l} . b. C_{1} .  C_{2} .  ... .  C_{n}) =  \\\\ (b. A_{1} .  A_{2} .  ... .  A_{l}. C_{1} .  C_{2} .  ... .  C_{n})\n",
       "    core type: Operation\n",
       "    operator: 27\n",
       "    operands: 28\n",
       "26. (A_{1} .  A_{2} .  ... .  A_{l}. C_{1} .  C_{2} .  ... .  C_{n}) in_c Q*\n",
       "    core type: Operation\n",
       "    operator: 29\n",
       "    operands: 30\n",
       "27. =\n",
       "    core type: Literal\n",
       "    sub-expressions: \n",
       "28. (A_{1} .  A_{2} .  ... .  A_{l} . b. C_{1} .  C_{2} .  ... .  C_{n}, b. A_{1} .  A_{2} .  ... .  A_{l}. C_{1} .  C_{2} .  ... .  C_{n})\n",
       "    core type: ExprTuple\n",
       "    sub-expressions: 31, 32\n",
       "29. in_c\n",
       "    core type: Literal\n",
       "    sub-expressions: \n",
       "30. (A_{1} .  A_{2} .  ... .  A_{l}. C_{1} .  C_{2} .  ... .  C_{n}, Q*)\n",
       "    core type: ExprTuple\n",
       "    sub-expressions: 33, 34\n",
       "31. A_{1} .  A_{2} .  ... .  A_{l} . b. C_{1} .  C_{2} .  ... .  C_{n}\n",
       "    core type: Operation\n",
       "    operator: 37\n",
       "    operands: 35\n",
       "32. b. A_{1} .  A_{2} .  ... .  A_{l}. C_{1} .  C_{2} .  ... .  C_{n}\n",
       "    core type: Operation\n",
       "    operator: 37\n",
       "    operands: 36\n",
       "33. A_{1} .  A_{2} .  ... .  A_{l}. C_{1} .  C_{2} .  ... .  C_{n}\n",
       "    core type: Operation\n",
       "    operator: 37\n",
       "    operands: 38\n",
       "34. Q*\n",
       "    core type: Literal\n",
       "    sub-expressions: \n",
       "35. (A_{1}, A_{2}, ..., A_{l}, b,C_{1}, C_{2}, ..., C_{n})\n",
       "    core type: ExprTuple\n",
       "    sub-expressions: 40, 39, 41\n",
       "36. (b,A_{1}, A_{2}, ..., A_{l},C_{1}, C_{2}, ..., C_{n})\n",
       "    core type: ExprTuple\n",
       "    sub-expressions: 39, 40, 41\n",
       "37. .\n",
       "    core type: Literal\n",
       "    sub-expressions: \n",
       "38. (A_{1}, A_{2}, ..., A_{l},C_{1}, C_{2}, ..., C_{n})\n",
       "    core type: ExprTuple\n",
       "    sub-expressions: 40, 41\n",
       "39. b\n",
       "    core type: Variable\n",
       "    sub-expressions: \n",
       "40. A_{1}, A_{2}, ..., A_{l}\n",
       "    core type: ExprRange\n",
       "    lambda_map: 42\n",
       "    start_index: 45\n",
       "    end_index: 43\n",
       "41. C_{1}, C_{2}, ..., C_{n}\n",
       "    core type: ExprRange\n",
       "    lambda_map: 44\n",
       "    start_index: 45\n",
       "    end_index: 46\n",
       "42. _a -> A_{_a}\n",
       "    core type: Lambda\n",
       "    parameter: 52\n",
       "    body: 47\n",
       "43. l\n",
       "    core type: Variable\n",
       "    sub-expressions: \n",
       "44. _a -> C_{_a}\n",
       "    core type: Lambda\n",
       "    parameter: 52\n",
       "    body: 48\n",
       "45. 1\n",
       "    core type: Literal\n",
       "    sub-expressions: \n",
       "46. n\n",
       "    core type: Variable\n",
       "    sub-expressions: \n",
       "47. A_{_a}\n",
       "    core type: IndexedVar\n",
       "variable: 49\n",
       "index: 52\n",
       "48. C_{_a}\n",
       "    core type: IndexedVar\n",
       "variable: 50\n",
       "index: 52\n",
       "49. A\n",
       "    core type: Variable\n",
       "    sub-expressions: \n",
       "50. C\n",
       "    core type: Variable\n",
       "    sub-expressions: \n",
       "51. (_a)\n",
       "    core type: ExprTuple\n",
       "    sub-expressions: 52\n",
       "52. _a\n",
       "    core type: Variable\n",
       "    sub-expressions: "
      ]
     },
     "metadata": {},
     "output_type": "display_data"
    }
   ],
   "source": [
    "# display the expression information\n",
    "stored_expr.expr_info()"
   ]
  },
  {
   "cell_type": "code",
   "execution_count": null,
   "metadata": {},
   "outputs": [],
   "source": []
  }
 ],
 "metadata": {
  "kernelspec": {
   "display_name": "Python 3",
   "language": "python",
   "name": "python3"
  }
 },
 "nbformat": 4,
 "nbformat_minor": 0
}