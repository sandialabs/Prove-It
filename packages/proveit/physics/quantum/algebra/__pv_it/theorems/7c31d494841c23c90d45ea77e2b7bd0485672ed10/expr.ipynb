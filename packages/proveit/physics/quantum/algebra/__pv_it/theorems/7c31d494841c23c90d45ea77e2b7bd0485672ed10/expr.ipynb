{
 "cells": [
  {
   "cell_type": "markdown",
   "metadata": {},
   "source": [
    "Expression of type <a class=\"ProveItLink\" href=\"../../../../../../../../doc/html/api/proveit.ExprTuple.html\">ExprTuple</a>\n",
    "=======================\n",
    "# from the theory of <a class=\"ProveItLink\" href=\"../../../_theory_nbs_/theory.ipynb\">proveit.physics.quantum.algebra</a>"
   ]
  },
  {
   "cell_type": "code",
   "execution_count": 1,
   "metadata": {},
   "outputs": [],
   "source": [
    "import proveit\n",
    "# Automation is not needed when building an expression:\n",
    "proveit.defaults.automation = False # This will speed things up.\n",
    "proveit.defaults.inline_pngs = False # Makes files smaller.\n",
    "%load_expr # Load the stored expression as 'stored_expr'\n",
    "# import Expression classes needed to build the expression\n",
    "from proveit import Conditional, ExprTuple, Lambda, c\n",
    "from proveit.linear_algebra import HilbertSpaces, Hspace\n",
    "from proveit.logic import Forall, InSet\n",
    "from proveit.numbers import Complex\n",
    "from proveit.physics.quantum import Qmult, var_ket_psi"
   ]
  },
  {
   "cell_type": "code",
   "execution_count": 2,
   "metadata": {},
   "outputs": [
    {
     "data": {
      "text/html": [
       "<strong id=\"expr\">expr:</strong> <a class=\"ProveItLink\" href=\"expr.ipynb\"><img src=\"expr.png\" style=\"display:inline;vertical-align:middle;\" /></a><br>"
      ],
      "text/plain": [
       "<IPython.core.display.HTML object>"
      ]
     },
     "metadata": {},
     "output_type": "display_data"
    }
   ],
   "source": [
    "# build up the expression from sub-expressions\n",
    "expr = ExprTuple(Lambda(c, Conditional(Forall(instance_param_or_params = [Hspace], instance_expr = Forall(instance_param_or_params = [var_ket_psi], instance_expr = InSet(Qmult(c, var_ket_psi), Hspace), domain = Hspace), domain = HilbertSpaces), InSet(c, Complex))))"
   ]
  },
  {
   "cell_type": "code",
   "execution_count": 3,
   "metadata": {},
   "outputs": [
    {
     "name": "stdout",
     "output_type": "stream",
     "text": [
      "Passed sanity check: expr matches stored_expr\n"
     ]
    }
   ],
   "source": [
    "# check that the built expression is the same as the stored expression\n",
    "assert expr == stored_expr\n",
    "assert expr._style_id == stored_expr._style_id\n",
    "print(\"Passed sanity check: expr matches stored_expr\")"
   ]
  },
  {
   "cell_type": "code",
   "execution_count": 4,
   "metadata": {},
   "outputs": [
    {
     "name": "stdout",
     "output_type": "stream",
     "text": [
      "\\left(c \\mapsto \\left\\{\\forall_{\\mathcal{H} \\underset{{\\scriptscriptstyle c}}{\\in} \\textrm{HilbertSpaces}}~\\left[\\forall_{\\lvert \\psi \\rangle \\in \\mathcal{H}}~\\left(\\left(c \\thinspace \\lvert \\psi \\rangle\\right) \\in \\mathcal{H}\\right)\\right] \\textrm{ if } c \\in \\mathbb{C}\\right..\\right)\n"
     ]
    }
   ],
   "source": [
    "# Show the LaTeX representation of the expression for convenience if you need it.\n",
    "print(stored_expr.latex())"
   ]
  },
  {
   "cell_type": "code",
   "execution_count": 5,
   "metadata": {},
   "outputs": [
    {
     "data": {
      "text/html": [
       "no style options"
      ],
      "text/plain": [
       "no style options"
      ]
     },
     "metadata": {},
     "output_type": "display_data"
    }
   ],
   "source": [
    "stored_expr.style_options()"
   ]
  },
  {
   "cell_type": "code",
   "execution_count": 6,
   "metadata": {},
   "outputs": [
    {
     "data": {
      "text/html": [
       "<table><tr><th>&nbsp;</th><th>core type</th><th>sub-expressions</th><th>expression</th></tr>\n",
       "<tr><td>0</td><td>ExprTuple</td><td>1</td><td><a class=\"ProveItLink\" href=\"expr.ipynb\"><img src=\"expr.png\" style=\"display:inline;vertical-align:middle;\" /></a></td></tr>\n",
       "<tr><td>1</td><td>Lambda</td><td>parameter:&nbsp;31<br>body:&nbsp;3<br></td><td><a class=\"ProveItLink\" href=\"../b08500867ab6887eed32b2e400f4f23a0e346e150/expr.ipynb\"><img src=\"../b08500867ab6887eed32b2e400f4f23a0e346e150/expr.png\" style=\"display:inline;vertical-align:middle;\" /></a></td></tr>\n",
       "<tr><td>2</td><td>ExprTuple</td><td>31</td><td><a class=\"ProveItLink\" href=\"../25c776cc10fb7df90a1cddbf8213d6561f6b7bd20/expr.ipynb\"><img src=\"../25c776cc10fb7df90a1cddbf8213d6561f6b7bd20/expr.png\" style=\"display:inline;vertical-align:middle;\" /></a></td></tr>\n",
       "<tr><td>3</td><td>Conditional</td><td>value:&nbsp;4<br>condition:&nbsp;5<br></td><td><a class=\"ProveItLink\" href=\"../59ea561a6e4c040d79c0634173f3863578a31dca0/expr.ipynb\"><img src=\"../59ea561a6e4c040d79c0634173f3863578a31dca0/expr.png\" style=\"display:inline;vertical-align:middle;\" /></a></td></tr>\n",
       "<tr><td>4</td><td>Operation</td><td>operator:&nbsp;14<br>operand:&nbsp;8<br></td><td><a class=\"ProveItLink\" href=\"../0d2e5325ae56cfdc818a3c9f5b06e62f6940620c0/expr.ipynb\"><img src=\"../0d2e5325ae56cfdc818a3c9f5b06e62f6940620c0/expr.png\" style=\"display:inline;vertical-align:middle;\" /></a></td></tr>\n",
       "<tr><td>5</td><td>Operation</td><td>operator:&nbsp;25<br>operands:&nbsp;7<br></td><td><a class=\"ProveItLink\" href=\"../b66b5547fa9b0b910f79351152926c658c2718190/expr.ipynb\"><img src=\"../b66b5547fa9b0b910f79351152926c658c2718190/expr.png\" style=\"display:inline;vertical-align:middle;\" /></a></td></tr>\n",
       "<tr><td>6</td><td>ExprTuple</td><td>8</td><td><a class=\"ProveItLink\" href=\"../1e607003e48afe98d8adf250dbfb527077a597f70/expr.ipynb\"><img src=\"../1e607003e48afe98d8adf250dbfb527077a597f70/expr.png\" style=\"display:inline;vertical-align:middle;\" /></a></td></tr>\n",
       "<tr><td>7</td><td>ExprTuple</td><td>31, 9</td><td><a class=\"ProveItLink\" href=\"../1b82c0752df3710a50857c9be29b2bfe48089de70/expr.ipynb\"><img src=\"../1b82c0752df3710a50857c9be29b2bfe48089de70/expr.png\" style=\"display:inline;vertical-align:middle;\" /></a></td></tr>\n",
       "<tr><td>8</td><td>Lambda</td><td>parameter:&nbsp;28<br>body:&nbsp;11<br></td><td><a class=\"ProveItLink\" href=\"../476e8b40e6c761f5a92f8057c45cd5f0ea3b8c290/expr.ipynb\"><img src=\"../476e8b40e6c761f5a92f8057c45cd5f0ea3b8c290/expr.png\" style=\"display:inline;vertical-align:middle;\" /></a></td></tr>\n",
       "<tr><td>9</td><td>Literal</td><td></td><td><a class=\"ProveItLink\" href=\"../../../../../../numbers/number_sets/complex_numbers/__pv_it/common/d18a028138f659eda00de597c28a3447fe87eb100/expr.ipynb\"><img src=\"../../../../../../numbers/number_sets/complex_numbers/__pv_it/common/d18a028138f659eda00de597c28a3447fe87eb100/expr.png\" style=\"display:inline;vertical-align:middle;\" /></a></td></tr>\n",
       "<tr><td>10</td><td>ExprTuple</td><td>28</td><td><a class=\"ProveItLink\" href=\"../29bb088f4b3e00157082b8a5d27aa81ae4a4c59e0/expr.ipynb\"><img src=\"../29bb088f4b3e00157082b8a5d27aa81ae4a4c59e0/expr.png\" style=\"display:inline;vertical-align:middle;\" /></a></td></tr>\n",
       "<tr><td>11</td><td>Conditional</td><td>value:&nbsp;12<br>condition:&nbsp;13<br></td><td><a class=\"ProveItLink\" href=\"../63fdc186053de1e3468195ac3ccc448c954cc9910/expr.ipynb\"><img src=\"../63fdc186053de1e3468195ac3ccc448c954cc9910/expr.png\" style=\"display:inline;vertical-align:middle;\" /></a></td></tr>\n",
       "<tr><td>12</td><td>Operation</td><td>operator:&nbsp;14<br>operand:&nbsp;18<br></td><td><a class=\"ProveItLink\" href=\"../291a548893926baadc169a916e258f59d18770120/expr.ipynb\"><img src=\"../291a548893926baadc169a916e258f59d18770120/expr.png\" style=\"display:inline;vertical-align:middle;\" /></a></td></tr>\n",
       "<tr><td>13</td><td>Operation</td><td>operator:&nbsp;16<br>operands:&nbsp;17<br></td><td><a class=\"ProveItLink\" href=\"../31d4094b2894fdb2d15795fed222b1eb5c7ff5bc0/expr.ipynb\"><img src=\"../31d4094b2894fdb2d15795fed222b1eb5c7ff5bc0/expr.png\" style=\"display:inline;vertical-align:middle;\" /></a></td></tr>\n",
       "<tr><td>14</td><td>Literal</td><td></td><td><a class=\"ProveItLink\" href=\"../../../../../../logic/booleans/quantification/universality/__pv_it/common/083d2baa0b8ecab1d230f9ec29a15aa1355809fb0/expr.ipynb\"><img src=\"../../../../../../logic/booleans/quantification/universality/__pv_it/common/083d2baa0b8ecab1d230f9ec29a15aa1355809fb0/expr.png\" style=\"display:inline;vertical-align:middle;\" /></a></td></tr>\n",
       "<tr><td>15</td><td>ExprTuple</td><td>18</td><td><a class=\"ProveItLink\" href=\"../66e02ac3dc19cfb80bf6dfa4305b582dfa623a090/expr.ipynb\"><img src=\"../66e02ac3dc19cfb80bf6dfa4305b582dfa623a090/expr.png\" style=\"display:inline;vertical-align:middle;\" /></a></td></tr>\n",
       "<tr><td>16</td><td>Literal</td><td></td><td><a class=\"ProveItLink\" href=\"../../../../../../logic/classes/membership/__pv_it/common/e3b437d28fbe17f0a50c9789c7c9b47a1270f1420/expr.ipynb\"><img src=\"../../../../../../logic/classes/membership/__pv_it/common/e3b437d28fbe17f0a50c9789c7c9b47a1270f1420/expr.png\" style=\"display:inline;vertical-align:middle;\" /></a></td></tr>\n",
       "<tr><td>17</td><td>ExprTuple</td><td>28, 19</td><td><a class=\"ProveItLink\" href=\"../8dd6744fe0111d3e5e6b1ce629b4848eb233fd690/expr.ipynb\"><img src=\"../8dd6744fe0111d3e5e6b1ce629b4848eb233fd690/expr.png\" style=\"display:inline;vertical-align:middle;\" /></a></td></tr>\n",
       "<tr><td>18</td><td>Lambda</td><td>parameter:&nbsp;32<br>body:&nbsp;21<br></td><td><a class=\"ProveItLink\" href=\"../bf0f3008320ac414e9c8d5b6dfc4f7711e8c09020/expr.ipynb\"><img src=\"../bf0f3008320ac414e9c8d5b6dfc4f7711e8c09020/expr.png\" style=\"display:inline;vertical-align:middle;\" /></a></td></tr>\n",
       "<tr><td>19</td><td>Literal</td><td></td><td><a class=\"ProveItLink\" href=\"../../../../../../linear_algebra/inner_products/__pv_it/common/63495bb81132197a40ba1811088142655bc8cabd0/expr.ipynb\"><img src=\"../../../../../../linear_algebra/inner_products/__pv_it/common/63495bb81132197a40ba1811088142655bc8cabd0/expr.png\" style=\"display:inline;vertical-align:middle;\" /></a></td></tr>\n",
       "<tr><td>20</td><td>ExprTuple</td><td>32</td><td><a class=\"ProveItLink\" href=\"../80ed9bf14a6ef50aaa4da94b0dbfb5b44f09ae9c0/expr.ipynb\"><img src=\"../80ed9bf14a6ef50aaa4da94b0dbfb5b44f09ae9c0/expr.png\" style=\"display:inline;vertical-align:middle;\" /></a></td></tr>\n",
       "<tr><td>21</td><td>Conditional</td><td>value:&nbsp;22<br>condition:&nbsp;23<br></td><td><a class=\"ProveItLink\" href=\"../f6d4aa10d043d806930e056db095d5d37837644a0/expr.ipynb\"><img src=\"../f6d4aa10d043d806930e056db095d5d37837644a0/expr.png\" style=\"display:inline;vertical-align:middle;\" /></a></td></tr>\n",
       "<tr><td>22</td><td>Operation</td><td>operator:&nbsp;25<br>operands:&nbsp;24<br></td><td><a class=\"ProveItLink\" href=\"../503d5f419c21198c084108f878a339d462f823080/expr.ipynb\"><img src=\"../503d5f419c21198c084108f878a339d462f823080/expr.png\" style=\"display:inline;vertical-align:middle;\" /></a></td></tr>\n",
       "<tr><td>23</td><td>Operation</td><td>operator:&nbsp;25<br>operands:&nbsp;26<br></td><td><a class=\"ProveItLink\" href=\"../878f2b4530e2e5304533ce5413156fd1621b70400/expr.ipynb\"><img src=\"../878f2b4530e2e5304533ce5413156fd1621b70400/expr.png\" style=\"display:inline;vertical-align:middle;\" /></a></td></tr>\n",
       "<tr><td>24</td><td>ExprTuple</td><td>27, 28</td><td><a class=\"ProveItLink\" href=\"../d70f4e485a6dc85d03604d9a65d30fbfe2e46ab80/expr.ipynb\"><img src=\"../d70f4e485a6dc85d03604d9a65d30fbfe2e46ab80/expr.png\" style=\"display:inline;vertical-align:middle;\" /></a></td></tr>\n",
       "<tr><td>25</td><td>Literal</td><td></td><td><a class=\"ProveItLink\" href=\"../../../../../../logic/sets/membership/__pv_it/common/477487d8796864d23d5810f83761435f25167f690/expr.ipynb\"><img src=\"../../../../../../logic/sets/membership/__pv_it/common/477487d8796864d23d5810f83761435f25167f690/expr.png\" style=\"display:inline;vertical-align:middle;\" /></a></td></tr>\n",
       "<tr><td>26</td><td>ExprTuple</td><td>32, 28</td><td><a class=\"ProveItLink\" href=\"../45d117c0688e7bdf2539e0936dc96443a677d60f0/expr.ipynb\"><img src=\"../45d117c0688e7bdf2539e0936dc96443a677d60f0/expr.png\" style=\"display:inline;vertical-align:middle;\" /></a></td></tr>\n",
       "<tr><td>27</td><td>Operation</td><td>operator:&nbsp;29<br>operands:&nbsp;30<br></td><td><a class=\"ProveItLink\" href=\"../144aab8e689673cb0b8d89c317d0d9a8c610b4f40/expr.ipynb\"><img src=\"../144aab8e689673cb0b8d89c317d0d9a8c610b4f40/expr.png\" style=\"display:inline;vertical-align:middle;\" /></a></td></tr>\n",
       "<tr><td>28</td><td>Variable</td><td></td><td><a class=\"ProveItLink\" href=\"../../../../../../linear_algebra/inner_products/__pv_it/common/0a298dc12c549b5fdc96454972e9674c7dbf104f0/expr.ipynb\"><img src=\"../../../../../../linear_algebra/inner_products/__pv_it/common/0a298dc12c549b5fdc96454972e9674c7dbf104f0/expr.png\" style=\"display:inline;vertical-align:middle;\" /></a></td></tr>\n",
       "<tr><td>29</td><td>Literal</td><td></td><td><a class=\"ProveItLink\" href=\"../../common/2972e0deb52c96565b39f905d407d7302ae287580/expr.ipynb\"><img src=\"../../common/2972e0deb52c96565b39f905d407d7302ae287580/expr.png\" style=\"display:inline;vertical-align:middle;\" /></a></td></tr>\n",
       "<tr><td>30</td><td>ExprTuple</td><td>31, 32</td><td><a class=\"ProveItLink\" href=\"../8851d138f1552966bd6dce7dc4eb2f78cab923ec0/expr.ipynb\"><img src=\"../8851d138f1552966bd6dce7dc4eb2f78cab923ec0/expr.png\" style=\"display:inline;vertical-align:middle;\" /></a></td></tr>\n",
       "<tr><td>31</td><td>Variable</td><td></td><td><a class=\"ProveItLink\" href=\"../../../../../../__pv_it/common/ceef4280a2f1cc604b455b54e735507244cc62cd0/expr.ipynb\"><img src=\"../../../../../../__pv_it/common/ceef4280a2f1cc604b455b54e735507244cc62cd0/expr.png\" style=\"display:inline;vertical-align:middle;\" /></a></td></tr>\n",
       "<tr><td>32</td><td>Variable</td><td></td><td><a class=\"ProveItLink\" href=\"../../../../__pv_it/common/798a4b85c58eead0b86ebff17277cd7c4a79a3160/expr.ipynb\"><img src=\"../../../../__pv_it/common/798a4b85c58eead0b86ebff17277cd7c4a79a3160/expr.png\" style=\"display:inline;vertical-align:middle;\" /></a></td></tr>\n",
       "</table>\n"
      ],
      "text/plain": [
       "0. (c -> {forall_{H in_c HilbertSpaces} [forall_{|psi> in H} ((c . |psi>) in H)] if c in Complex.)\n",
       "   core type: ExprTuple\n",
       "   sub-expressions: 1\n",
       "1. c -> {forall_{H in_c HilbertSpaces} [forall_{|psi> in H} ((c . |psi>) in H)] if c in Complex.\n",
       "   core type: Lambda\n",
       "   parameter: 31\n",
       "   body: 3\n",
       "2. (c)\n",
       "   core type: ExprTuple\n",
       "   sub-expressions: 31\n",
       "3. {forall_{H in_c HilbertSpaces} [forall_{|psi> in H} ((c . |psi>) in H)] if c in Complex.\n",
       "   core type: Conditional\n",
       "   value: 4\n",
       "   condition: 5\n",
       "4. forall_{H in_c HilbertSpaces} [forall_{|psi> in H} ((c . |psi>) in H)]\n",
       "   core type: Operation\n",
       "   operator: 14\n",
       "   operand: 8\n",
       "5. c in Complex\n",
       "   core type: Operation\n",
       "   operator: 25\n",
       "   operands: 7\n",
       "6. (H -> {forall_{|psi> in H} ((c . |psi>) in H) if H in_c HilbertSpaces.)\n",
       "   core type: ExprTuple\n",
       "   sub-expressions: 8\n",
       "7. (c, Complex)\n",
       "   core type: ExprTuple\n",
       "   sub-expressions: 31, 9\n",
       "8. H -> {forall_{|psi> in H} ((c . |psi>) in H) if H in_c HilbertSpaces.\n",
       "   core type: Lambda\n",
       "   parameter: 28\n",
       "   body: 11\n",
       "9. Complex\n",
       "   core type: Literal\n",
       "   sub-expressions: \n",
       "10. (H)\n",
       "    core type: ExprTuple\n",
       "    sub-expressions: 28\n",
       "11. {forall_{|psi> in H} ((c . |psi>) in H) if H in_c HilbertSpaces.\n",
       "    core type: Conditional\n",
       "    value: 12\n",
       "    condition: 13\n",
       "12. forall_{|psi> in H} ((c . |psi>) in H)\n",
       "    core type: Operation\n",
       "    operator: 14\n",
       "    operand: 18\n",
       "13. H in_c HilbertSpaces\n",
       "    core type: Operation\n",
       "    operator: 16\n",
       "    operands: 17\n",
       "14. forall\n",
       "    core type: Literal\n",
       "    sub-expressions: \n",
       "15. (|psi> -> {(c . |psi>) in H if |psi> in H.)\n",
       "    core type: ExprTuple\n",
       "    sub-expressions: 18\n",
       "16. in_c\n",
       "    core type: Literal\n",
       "    sub-expressions: \n",
       "17. (H, HilbertSpaces)\n",
       "    core type: ExprTuple\n",
       "    sub-expressions: 28, 19\n",
       "18. |psi> -> {(c . |psi>) in H if |psi> in H.\n",
       "    core type: Lambda\n",
       "    parameter: 32\n",
       "    body: 21\n",
       "19. HilbertSpaces\n",
       "    core type: Literal\n",
       "    sub-expressions: \n",
       "20. (|psi>)\n",
       "    core type: ExprTuple\n",
       "    sub-expressions: 32\n",
       "21. {(c . |psi>) in H if |psi> in H.\n",
       "    core type: Conditional\n",
       "    value: 22\n",
       "    condition: 23\n",
       "22. (c . |psi>) in H\n",
       "    core type: Operation\n",
       "    operator: 25\n",
       "    operands: 24\n",
       "23. |psi> in H\n",
       "    core type: Operation\n",
       "    operator: 25\n",
       "    operands: 26\n",
       "24. (c . |psi>, H)\n",
       "    core type: ExprTuple\n",
       "    sub-expressions: 27, 28\n",
       "25. in\n",
       "    core type: Literal\n",
       "    sub-expressions: \n",
       "26. (|psi>, H)\n",
       "    core type: ExprTuple\n",
       "    sub-expressions: 32, 28\n",
       "27. c . |psi>\n",
       "    core type: Operation\n",
       "    operator: 29\n",
       "    operands: 30\n",
       "28. H\n",
       "    core type: Variable\n",
       "    sub-expressions: \n",
       "29. .\n",
       "    core type: Literal\n",
       "    sub-expressions: \n",
       "30. (c, |psi>)\n",
       "    core type: ExprTuple\n",
       "    sub-expressions: 31, 32\n",
       "31. c\n",
       "    core type: Variable\n",
       "    sub-expressions: \n",
       "32. |psi>\n",
       "    core type: Variable\n",
       "    sub-expressions: "
      ]
     },
     "metadata": {},
     "output_type": "display_data"
    }
   ],
   "source": [
    "# display the expression information\n",
    "stored_expr.expr_info()"
   ]
  },
  {
   "cell_type": "code",
   "execution_count": null,
   "metadata": {},
   "outputs": [],
   "source": []
  }
 ],
 "metadata": {
  "kernelspec": {
   "display_name": "Python 3",
   "language": "python",
   "name": "python3"
  }
 },
 "nbformat": 4,
 "nbformat_minor": 0
}