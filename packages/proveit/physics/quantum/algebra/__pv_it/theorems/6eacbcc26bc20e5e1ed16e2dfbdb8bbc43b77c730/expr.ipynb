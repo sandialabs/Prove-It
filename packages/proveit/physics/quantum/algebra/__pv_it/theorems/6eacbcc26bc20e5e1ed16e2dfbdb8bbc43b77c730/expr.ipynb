{
 "cells": [
  {
   "cell_type": "markdown",
   "metadata": {},
   "source": [
    "Expression of type <a class=\"ProveItLink\" href=\"../../../../../../../../doc/html/api/proveit.logic.Forall.html\">Forall</a>\n",
    "=======================\n",
    "# from the theory of <a class=\"ProveItLink\" href=\"../../../_theory_nbs_/theory.ipynb\">proveit.physics.quantum.algebra</a>"
   ]
  },
  {
   "cell_type": "code",
   "execution_count": 1,
   "metadata": {},
   "outputs": [],
   "source": [
    "import proveit\n",
    "# Automation is not needed when building an expression:\n",
    "proveit.defaults.automation = False # This will speed things up.\n",
    "proveit.defaults.inline_pngs = False # Makes files smaller.\n",
    "%load_expr # Load the stored expression as 'stored_expr'\n",
    "# import Expression classes needed to build the expression\n",
    "from proveit import B, ExprRange, IndexedVar, Variable, i\n",
    "from proveit.core_expr_types import A_1_to_m, B_1_to_i, C_1_to_n\n",
    "from proveit.linear_algebra import VecAdd\n",
    "from proveit.logic import Equals, Forall, Implies, InClass\n",
    "from proveit.numbers import one\n",
    "from proveit.physics.quantum import Qmult, QmultCodomain"
   ]
  },
  {
   "cell_type": "code",
   "execution_count": 2,
   "metadata": {},
   "outputs": [
    {
     "data": {
      "text/html": [
       "<strong id=\"expr\">expr:</strong> <a class=\"ProveItLink\" href=\"expr.ipynb\"><img src=\"expr.png\" style=\"display:inline;vertical-align:middle;\" /></a><br>"
      ],
      "text/plain": [
       "<IPython.core.display.HTML object>"
      ]
     },
     "metadata": {},
     "output_type": "display_data"
    }
   ],
   "source": [
    "# build up the expression from sub-expressions\n",
    "sub_expr1 = Variable(\"_b\", latex_format = r\"{_{-}b}\")\n",
    "sub_expr2 = Qmult(A_1_to_m, VecAdd(B_1_to_i), C_1_to_n)\n",
    "expr = Forall(instance_param_or_params = [A_1_to_m, B_1_to_i, C_1_to_n], instance_expr = Implies(InClass(sub_expr2, QmultCodomain), Equals(sub_expr2, VecAdd(ExprRange(sub_expr1, Qmult(A_1_to_m, IndexedVar(B, sub_expr1), C_1_to_n), one, i))).with_wrapping_at(2)).with_wrapping_at(2))"
   ]
  },
  {
   "cell_type": "code",
   "execution_count": 3,
   "metadata": {},
   "outputs": [
    {
     "name": "stdout",
     "output_type": "stream",
     "text": [
      "Passed sanity check: expr matches stored_expr\n"
     ]
    }
   ],
   "source": [
    "# check that the built expression is the same as the stored expression\n",
    "assert expr == stored_expr\n",
    "assert expr._style_id == stored_expr._style_id\n",
    "print(\"Passed sanity check: expr matches stored_expr\")"
   ]
  },
  {
   "cell_type": "code",
   "execution_count": 4,
   "metadata": {},
   "outputs": [
    {
     "name": "stdout",
     "output_type": "stream",
     "text": [
      "\\forall_{A_{1}, A_{2}, \\ldots, A_{m}, B_{1}, B_{2}, \\ldots, B_{i}, C_{1}, C_{2}, \\ldots, C_{n}}~\\left(\\begin{array}{c} \\begin{array}{l} \\left(\\left(A_{1} \\thinspace  A_{2} \\thinspace  \\ldots \\thinspace  A_{m} \\thinspace \\left(B_{1} +  B_{2} +  \\ldots +  B_{i}\\right)\\thinspace C_{1} \\thinspace  C_{2} \\thinspace  \\ldots \\thinspace  C_{n}\\right) \\underset{{\\scriptscriptstyle c}}{\\in} \\mathcal{Q^*}\\right) \\Rightarrow  \\\\ \\left(\\begin{array}{c} \\begin{array}{l} \\left(A_{1} \\thinspace  A_{2} \\thinspace  \\ldots \\thinspace  A_{m} \\thinspace \\left(B_{1} +  B_{2} +  \\ldots +  B_{i}\\right)\\thinspace C_{1} \\thinspace  C_{2} \\thinspace  \\ldots \\thinspace  C_{n}\\right) =  \\\\ \\left(\\left(A_{1} \\thinspace  A_{2} \\thinspace  \\ldots \\thinspace  A_{m} \\thinspace B_{1}\\thinspace C_{1} \\thinspace  C_{2} \\thinspace  \\ldots \\thinspace  C_{n}\\right) +  \\left(A_{1} \\thinspace  A_{2} \\thinspace  \\ldots \\thinspace  A_{m} \\thinspace B_{2}\\thinspace C_{1} \\thinspace  C_{2} \\thinspace  \\ldots \\thinspace  C_{n}\\right) +  \\ldots +  \\left(A_{1} \\thinspace  A_{2} \\thinspace  \\ldots \\thinspace  A_{m} \\thinspace B_{i}\\thinspace C_{1} \\thinspace  C_{2} \\thinspace  \\ldots \\thinspace  C_{n}\\right)\\right) \\end{array} \\end{array}\\right) \\end{array} \\end{array}\\right)\n"
     ]
    }
   ],
   "source": [
    "# Show the LaTeX representation of the expression for convenience if you need it.\n",
    "print(stored_expr.latex())"
   ]
  },
  {
   "cell_type": "code",
   "execution_count": 5,
   "metadata": {},
   "outputs": [
    {
     "data": {
      "text/html": [
       "<table>\n",
       "<tr><th>name</th><th>description</th><th>default</th><th>current value</th><th>related methods</th></tr><tr><td>with_wrapping</td><td>If 'True', wrap the Expression after the parameters</td><td>None</td><td>None/False</td><td>('with_wrapping',)</td></tr>\n",
       "<tr><td>condition_wrapping</td><td>Wrap 'before' or 'after' the condition (or None).</td><td>None</td><td>None/False</td><td>('with_wrap_after_condition', 'with_wrap_before_condition')</td></tr>\n",
       "<tr><td>wrap_params</td><td>If 'True', wraps every two parameters AND wraps the Expression after the parameters</td><td>None</td><td>None/False</td><td>('with_params',)</td></tr>\n",
       "<tr><td>justification</td><td>justify to the 'left', 'center', or 'right' in the array cells</td><td>center</td><td>center</td><td>('with_justification',)</td></tr>\n",
       "</table>\n"
      ],
      "text/plain": [
       "style name: with_wrapping\n",
       "description: If 'True', wrap the Expression after the parameters\n",
       "default: None\n",
       "current value: None/False\n",
       "related methods: ('with_wrapping',)\n",
       "style name: condition_wrapping\n",
       "description: Wrap 'before' or 'after' the condition (or None).\n",
       "default: None\n",
       "current value: None/False\n",
       "related methods: ('with_wrap_after_condition', 'with_wrap_before_condition')\n",
       "style name: wrap_params\n",
       "description: If 'True', wraps every two parameters AND wraps the Expression after the parameters\n",
       "default: None\n",
       "current value: None/False\n",
       "related methods: ('with_params',)\n",
       "style name: justification\n",
       "description: justify to the 'left', 'center', or 'right' in the array cells\n",
       "default: center\n",
       "current value: center\n",
       "related methods: ('with_justification',)"
      ]
     },
     "metadata": {},
     "output_type": "display_data"
    }
   ],
   "source": [
    "stored_expr.style_options()"
   ]
  },
  {
   "cell_type": "code",
   "execution_count": 6,
   "metadata": {},
   "outputs": [
    {
     "data": {
      "text/html": [
       "<table><tr><th>&nbsp;</th><th>core type</th><th>sub-expressions</th><th>expression</th></tr>\n",
       "<tr><td>0</td><td>Operation</td><td>operator:&nbsp;1<br>operand:&nbsp;3<br></td><td><a class=\"ProveItLink\" href=\"expr.ipynb\"><img src=\"expr.png\" style=\"display:inline;vertical-align:middle;\" /></a></td></tr>\n",
       "<tr><td>1</td><td>Literal</td><td></td><td><a class=\"ProveItLink\" href=\"../../../../../../logic/booleans/quantification/universality/__pv_it/common/083d2baa0b8ecab1d230f9ec29a15aa1355809fb0/expr.ipynb\"><img src=\"../../../../../../logic/booleans/quantification/universality/__pv_it/common/083d2baa0b8ecab1d230f9ec29a15aa1355809fb0/expr.png\" style=\"display:inline;vertical-align:middle;\" /></a></td></tr>\n",
       "<tr><td>2</td><td>ExprTuple</td><td>3</td><td><a class=\"ProveItLink\" href=\"../cfa6ed3376cff5475e470244b460b3541f1bfa4b0/expr.ipynb\"><img src=\"../cfa6ed3376cff5475e470244b460b3541f1bfa4b0/expr.png\" style=\"display:inline;vertical-align:middle;\" /></a></td></tr>\n",
       "<tr><td>3</td><td>Lambda</td><td>parameters:&nbsp;4<br>body:&nbsp;5<br></td><td><a class=\"ProveItLink\" href=\"../ed3c2be723f802560bdd9303026139cb598a127a0/expr.ipynb\"><img src=\"../ed3c2be723f802560bdd9303026139cb598a127a0/expr.png\" style=\"display:inline;vertical-align:middle;\" /></a></td></tr>\n",
       "<tr><td>4</td><td>ExprTuple</td><td>31, 24, 33</td><td><a class=\"ProveItLink\" href=\"../afce3e02826916205fe89a98a73006616d30a2250/expr.ipynb\"><img src=\"../afce3e02826916205fe89a98a73006616d30a2250/expr.png\" style=\"display:inline;vertical-align:middle;\" /></a></td></tr>\n",
       "<tr><td>5</td><td>Operation</td><td>operator:&nbsp;6<br>operands:&nbsp;7<br></td><td><a class=\"ProveItLink\" href=\"../e9763a01dfe64a10070886530b170a62a1d9c1a10/expr.ipynb\"><img src=\"../e9763a01dfe64a10070886530b170a62a1d9c1a10/expr.png\" style=\"display:inline;vertical-align:middle;\" /></a></td></tr>\n",
       "<tr><td>6</td><td>Literal</td><td></td><td><a class=\"ProveItLink\" href=\"../../../../../../logic/booleans/implication/__pv_it/common/02bdb382575728da8cdbaed545b9096ea7a1bd5b0/expr.ipynb\"><img src=\"../../../../../../logic/booleans/implication/__pv_it/common/02bdb382575728da8cdbaed545b9096ea7a1bd5b0/expr.png\" style=\"display:inline;vertical-align:middle;\" /></a></td></tr>\n",
       "<tr><td>7</td><td>ExprTuple</td><td>8, 9</td><td><a class=\"ProveItLink\" href=\"../311a0ce48575a911489e70633f42f352fbcc06090/expr.ipynb\"><img src=\"../311a0ce48575a911489e70633f42f352fbcc06090/expr.png\" style=\"display:inline;vertical-align:middle;\" /></a></td></tr>\n",
       "<tr><td>8</td><td>Operation</td><td>operator:&nbsp;10<br>operands:&nbsp;11<br></td><td><a class=\"ProveItLink\" href=\"../4a26a446c0fe71b3d3b9686e0fc31f6f628a68800/expr.ipynb\"><img src=\"../4a26a446c0fe71b3d3b9686e0fc31f6f628a68800/expr.png\" style=\"display:inline;vertical-align:middle;\" /></a></td></tr>\n",
       "<tr><td>9</td><td>Operation</td><td>operator:&nbsp;12<br>operands:&nbsp;13<br></td><td><a class=\"ProveItLink\" href=\"../4f119d1e3b87488125168e5db1a0861e8bd17b190/expr.ipynb\"><img src=\"../4f119d1e3b87488125168e5db1a0861e8bd17b190/expr.png\" style=\"display:inline;vertical-align:middle;\" /></a></td></tr>\n",
       "<tr><td>10</td><td>Literal</td><td></td><td><a class=\"ProveItLink\" href=\"../../../../../../logic/classes/membership/__pv_it/common/e3b437d28fbe17f0a50c9789c7c9b47a1270f1420/expr.ipynb\"><img src=\"../../../../../../logic/classes/membership/__pv_it/common/e3b437d28fbe17f0a50c9789c7c9b47a1270f1420/expr.png\" style=\"display:inline;vertical-align:middle;\" /></a></td></tr>\n",
       "<tr><td>11</td><td>ExprTuple</td><td>15, 14</td><td><a class=\"ProveItLink\" href=\"../554f178de13b5cd14d832091f4c613fc564a7dae0/expr.ipynb\"><img src=\"../554f178de13b5cd14d832091f4c613fc564a7dae0/expr.png\" style=\"display:inline;vertical-align:middle;\" /></a></td></tr>\n",
       "<tr><td>12</td><td>Literal</td><td></td><td><a class=\"ProveItLink\" href=\"../../../../../../logic/equality/__pv_it/common/fb96dc12b2aa8801dda64d0132b396c63d1502bb0/expr.ipynb\"><img src=\"../../../../../../logic/equality/__pv_it/common/fb96dc12b2aa8801dda64d0132b396c63d1502bb0/expr.png\" style=\"display:inline;vertical-align:middle;\" /></a></td></tr>\n",
       "<tr><td>13</td><td>ExprTuple</td><td>15, 16</td><td><a class=\"ProveItLink\" href=\"../ccdab344fe5cfeb472839c219c4a6eea79f7c9bc0/expr.ipynb\"><img src=\"../ccdab344fe5cfeb472839c219c4a6eea79f7c9bc0/expr.png\" style=\"display:inline;vertical-align:middle;\" /></a></td></tr>\n",
       "<tr><td>14</td><td>Literal</td><td></td><td><a class=\"ProveItLink\" href=\"../../common/9eb627883d0de35514f5f025d8d6d9a6894424630/expr.ipynb\"><img src=\"../../common/9eb627883d0de35514f5f025d8d6d9a6894424630/expr.png\" style=\"display:inline;vertical-align:middle;\" /></a></td></tr>\n",
       "<tr><td>15</td><td>Operation</td><td>operator:&nbsp;28<br>operands:&nbsp;17<br></td><td><a class=\"ProveItLink\" href=\"../b6e67961c6dd4ffbcb2adbd9d5d3c1e76ed9faf60/expr.ipynb\"><img src=\"../b6e67961c6dd4ffbcb2adbd9d5d3c1e76ed9faf60/expr.png\" style=\"display:inline;vertical-align:middle;\" /></a></td></tr>\n",
       "<tr><td>16</td><td>Operation</td><td>operator:&nbsp;21<br>operands:&nbsp;18<br></td><td><a class=\"ProveItLink\" href=\"../93f9943bd51cfdce50f04636211e6caa83c41da40/expr.ipynb\"><img src=\"../93f9943bd51cfdce50f04636211e6caa83c41da40/expr.png\" style=\"display:inline;vertical-align:middle;\" /></a></td></tr>\n",
       "<tr><td>17</td><td>ExprTuple</td><td>31, 19, 33</td><td><a class=\"ProveItLink\" href=\"../b1a5d839ed690bf7152bbf17a5508a78d1a745f90/expr.ipynb\"><img src=\"../b1a5d839ed690bf7152bbf17a5508a78d1a745f90/expr.png\" style=\"display:inline;vertical-align:middle;\" /></a></td></tr>\n",
       "<tr><td>18</td><td>ExprTuple</td><td>20</td><td><a class=\"ProveItLink\" href=\"../042389c1e99a145de7b47013b269d7703e5d2a6a0/expr.ipynb\"><img src=\"../042389c1e99a145de7b47013b269d7703e5d2a6a0/expr.png\" style=\"display:inline;vertical-align:middle;\" /></a></td></tr>\n",
       "<tr><td>19</td><td>Operation</td><td>operator:&nbsp;21<br>operands:&nbsp;22<br></td><td><a class=\"ProveItLink\" href=\"../ba72361f5609c82e006b4146820f12f9795391da0/expr.ipynb\"><img src=\"../ba72361f5609c82e006b4146820f12f9795391da0/expr.png\" style=\"display:inline;vertical-align:middle;\" /></a></td></tr>\n",
       "<tr><td>20</td><td>ExprRange</td><td>lambda_map:&nbsp;23<br>start_index:&nbsp;39<br>end_index:&nbsp;27<br></td><td><a class=\"ProveItLink\" href=\"../b000ec104ab8c0a51594ae9267bab6a7420f1cb70/expr.ipynb\"><img src=\"../b000ec104ab8c0a51594ae9267bab6a7420f1cb70/expr.png\" style=\"display:inline;vertical-align:middle;\" /></a></td></tr>\n",
       "<tr><td>21</td><td>Literal</td><td></td><td><a class=\"ProveItLink\" href=\"../../../../../../linear_algebra/addition/__pv_it/common/ac3c140c9094f065c7f7db15c94558731443639c0/expr.ipynb\"><img src=\"../../../../../../linear_algebra/addition/__pv_it/common/ac3c140c9094f065c7f7db15c94558731443639c0/expr.png\" style=\"display:inline;vertical-align:middle;\" /></a></td></tr>\n",
       "<tr><td>22</td><td>ExprTuple</td><td>24</td><td><a class=\"ProveItLink\" href=\"../ae803b9d1ede5ee0df053517901acd168be8ae8e0/expr.ipynb\"><img src=\"../ae803b9d1ede5ee0df053517901acd168be8ae8e0/expr.png\" style=\"display:inline;vertical-align:middle;\" /></a></td></tr>\n",
       "<tr><td>23</td><td>Lambda</td><td>parameter:&nbsp;42<br>body:&nbsp;25<br></td><td><a class=\"ProveItLink\" href=\"../784d86c3df3575c324643003c220eee472afbe110/expr.ipynb\"><img src=\"../784d86c3df3575c324643003c220eee472afbe110/expr.png\" style=\"display:inline;vertical-align:middle;\" /></a></td></tr>\n",
       "<tr><td>24</td><td>ExprRange</td><td>lambda_map:&nbsp;26<br>start_index:&nbsp;39<br>end_index:&nbsp;27<br></td><td><a class=\"ProveItLink\" href=\"../../../../../../core_expr_types/__pv_it/common/4a5f6422887d37bd99c62d40c1b5aa88272e1ec00/expr.ipynb\"><img src=\"../../../../../../core_expr_types/__pv_it/common/4a5f6422887d37bd99c62d40c1b5aa88272e1ec00/expr.png\" style=\"display:inline;vertical-align:middle;\" /></a></td></tr>\n",
       "<tr><td>25</td><td>Operation</td><td>operator:&nbsp;28<br>operands:&nbsp;29<br></td><td><a class=\"ProveItLink\" href=\"../d84c574042775810aa58f9d107970a08ef42c9600/expr.ipynb\"><img src=\"../d84c574042775810aa58f9d107970a08ef42c9600/expr.png\" style=\"display:inline;vertical-align:middle;\" /></a></td></tr>\n",
       "<tr><td>26</td><td>Lambda</td><td>parameter:&nbsp;47<br>body:&nbsp;30<br></td><td><a class=\"ProveItLink\" href=\"../../../../../../core_expr_types/__pv_it/common/d51b6313a4eb9f8dc367ca4753f290af006fadbb0/expr.ipynb\"><img src=\"../../../../../../core_expr_types/__pv_it/common/d51b6313a4eb9f8dc367ca4753f290af006fadbb0/expr.png\" style=\"display:inline;vertical-align:middle;\" /></a></td></tr>\n",
       "<tr><td>27</td><td>Variable</td><td></td><td><a class=\"ProveItLink\" href=\"../../../../../../__pv_it/common/ae955345c83abf786c3aff8681cd5465beae262d0/expr.ipynb\"><img src=\"../../../../../../__pv_it/common/ae955345c83abf786c3aff8681cd5465beae262d0/expr.png\" style=\"display:inline;vertical-align:middle;\" /></a></td></tr>\n",
       "<tr><td>28</td><td>Literal</td><td></td><td><a class=\"ProveItLink\" href=\"../../common/2972e0deb52c96565b39f905d407d7302ae287580/expr.ipynb\"><img src=\"../../common/2972e0deb52c96565b39f905d407d7302ae287580/expr.png\" style=\"display:inline;vertical-align:middle;\" /></a></td></tr>\n",
       "<tr><td>29</td><td>ExprTuple</td><td>31, 32, 33</td><td><a class=\"ProveItLink\" href=\"../0ed5e3ca9ce1e52f86c0f6910fca53ec2e59733c0/expr.ipynb\"><img src=\"../0ed5e3ca9ce1e52f86c0f6910fca53ec2e59733c0/expr.png\" style=\"display:inline;vertical-align:middle;\" /></a></td></tr>\n",
       "<tr><td>30</td><td>IndexedVar</td><td>variable:&nbsp;36<br>index:&nbsp;47<br></td><td><a class=\"ProveItLink\" href=\"../../../../../../core_expr_types/__pv_it/common/d1b4c772326349c6e4ef6ad6defb9c61a45fc9d80/expr.ipynb\"><img src=\"../../../../../../core_expr_types/__pv_it/common/d1b4c772326349c6e4ef6ad6defb9c61a45fc9d80/expr.png\" style=\"display:inline;vertical-align:middle;\" /></a></td></tr>\n",
       "<tr><td>31</td><td>ExprRange</td><td>lambda_map:&nbsp;34<br>start_index:&nbsp;39<br>end_index:&nbsp;35<br></td><td><a class=\"ProveItLink\" href=\"../../../../../../core_expr_types/__pv_it/common/eaccd55f312202b1e754429bdfeaf22333037c330/expr.ipynb\"><img src=\"../../../../../../core_expr_types/__pv_it/common/eaccd55f312202b1e754429bdfeaf22333037c330/expr.png\" style=\"display:inline;vertical-align:middle;\" /></a></td></tr>\n",
       "<tr><td>32</td><td>IndexedVar</td><td>variable:&nbsp;36<br>index:&nbsp;42<br></td><td><a class=\"ProveItLink\" href=\"../1a516a5cf76fe68c2e6d227aef7bdd22488aad3b0/expr.ipynb\"><img src=\"../1a516a5cf76fe68c2e6d227aef7bdd22488aad3b0/expr.png\" style=\"display:inline;vertical-align:middle;\" /></a></td></tr>\n",
       "<tr><td>33</td><td>ExprRange</td><td>lambda_map:&nbsp;38<br>start_index:&nbsp;39<br>end_index:&nbsp;40<br></td><td><a class=\"ProveItLink\" href=\"../../../../../../core_expr_types/__pv_it/common/e7504afc0aea2366fbf28183721351f04720dfad0/expr.ipynb\"><img src=\"../../../../../../core_expr_types/__pv_it/common/e7504afc0aea2366fbf28183721351f04720dfad0/expr.png\" style=\"display:inline;vertical-align:middle;\" /></a></td></tr>\n",
       "<tr><td>34</td><td>Lambda</td><td>parameter:&nbsp;47<br>body:&nbsp;41<br></td><td><a class=\"ProveItLink\" href=\"../../../../../../core_expr_types/__pv_it/common/9332289e845003c758afc3bcee43498ae784f2d90/expr.ipynb\"><img src=\"../../../../../../core_expr_types/__pv_it/common/9332289e845003c758afc3bcee43498ae784f2d90/expr.png\" style=\"display:inline;vertical-align:middle;\" /></a></td></tr>\n",
       "<tr><td>35</td><td>Variable</td><td></td><td><a class=\"ProveItLink\" href=\"../../../../../../__pv_it/common/674a03b9c3ca221b3aabd5636837b31528ff33830/expr.ipynb\"><img src=\"../../../../../../__pv_it/common/674a03b9c3ca221b3aabd5636837b31528ff33830/expr.png\" style=\"display:inline;vertical-align:middle;\" /></a></td></tr>\n",
       "<tr><td>36</td><td>Variable</td><td></td><td><a class=\"ProveItLink\" href=\"../../../../../../__pv_it/common/a9162d1c3cc0470c02e5daf414500903a7a419230/expr.ipynb\"><img src=\"../../../../../../__pv_it/common/a9162d1c3cc0470c02e5daf414500903a7a419230/expr.png\" style=\"display:inline;vertical-align:middle;\" /></a></td></tr>\n",
       "<tr><td>37</td><td>ExprTuple</td><td>42</td><td><a class=\"ProveItLink\" href=\"../18f7318b68e45ff8356043b6e71619fa8450fb200/expr.ipynb\"><img src=\"../18f7318b68e45ff8356043b6e71619fa8450fb200/expr.png\" style=\"display:inline;vertical-align:middle;\" /></a></td></tr>\n",
       "<tr><td>38</td><td>Lambda</td><td>parameter:&nbsp;47<br>body:&nbsp;43<br></td><td><a class=\"ProveItLink\" href=\"../../../../../../core_expr_types/__pv_it/common/c9399abb980047fe39e716f375f641a4494b404b0/expr.ipynb\"><img src=\"../../../../../../core_expr_types/__pv_it/common/c9399abb980047fe39e716f375f641a4494b404b0/expr.png\" style=\"display:inline;vertical-align:middle;\" /></a></td></tr>\n",
       "<tr><td>39</td><td>Literal</td><td></td><td><a class=\"ProveItLink\" href=\"../../../../../../numbers/numerals/__pv_it/common/682157d4892d216d9e5626ed533aff9b56b9506e0/expr.ipynb\"><img src=\"../../../../../../numbers/numerals/__pv_it/common/682157d4892d216d9e5626ed533aff9b56b9506e0/expr.png\" style=\"display:inline;vertical-align:middle;\" /></a></td></tr>\n",
       "<tr><td>40</td><td>Variable</td><td></td><td><a class=\"ProveItLink\" href=\"../../../../../../__pv_it/common/8968bb04eb3f7dfa02353397ce929b025bbd79c20/expr.ipynb\"><img src=\"../../../../../../__pv_it/common/8968bb04eb3f7dfa02353397ce929b025bbd79c20/expr.png\" style=\"display:inline;vertical-align:middle;\" /></a></td></tr>\n",
       "<tr><td>41</td><td>IndexedVar</td><td>variable:&nbsp;44<br>index:&nbsp;47<br></td><td><a class=\"ProveItLink\" href=\"../../../../../../core_expr_types/__pv_it/common/9fdaaadf1b3d81a308244818dc08833e7f5035730/expr.ipynb\"><img src=\"../../../../../../core_expr_types/__pv_it/common/9fdaaadf1b3d81a308244818dc08833e7f5035730/expr.png\" style=\"display:inline;vertical-align:middle;\" /></a></td></tr>\n",
       "<tr><td>42</td><td>Variable</td><td></td><td><a class=\"ProveItLink\" href=\"../9a18d67b443cf8d92289c655ed91ec78766170a90/expr.ipynb\"><img src=\"../9a18d67b443cf8d92289c655ed91ec78766170a90/expr.png\" style=\"display:inline;vertical-align:middle;\" /></a></td></tr>\n",
       "<tr><td>43</td><td>IndexedVar</td><td>variable:&nbsp;45<br>index:&nbsp;47<br></td><td><a class=\"ProveItLink\" href=\"../../../../../../core_expr_types/__pv_it/common/f756bc205d05c1af04e1aeeb7a42469b1e89f9cf0/expr.ipynb\"><img src=\"../../../../../../core_expr_types/__pv_it/common/f756bc205d05c1af04e1aeeb7a42469b1e89f9cf0/expr.png\" style=\"display:inline;vertical-align:middle;\" /></a></td></tr>\n",
       "<tr><td>44</td><td>Variable</td><td></td><td><a class=\"ProveItLink\" href=\"../../../../../../__pv_it/common/09585084922504426caf1db2ff588a23a0932a960/expr.ipynb\"><img src=\"../../../../../../__pv_it/common/09585084922504426caf1db2ff588a23a0932a960/expr.png\" style=\"display:inline;vertical-align:middle;\" /></a></td></tr>\n",
       "<tr><td>45</td><td>Variable</td><td></td><td><a class=\"ProveItLink\" href=\"../../../../../../__pv_it/common/9fba9f29e823606ff4fdf2f1c6d5d08d906e850a0/expr.ipynb\"><img src=\"../../../../../../__pv_it/common/9fba9f29e823606ff4fdf2f1c6d5d08d906e850a0/expr.png\" style=\"display:inline;vertical-align:middle;\" /></a></td></tr>\n",
       "<tr><td>46</td><td>ExprTuple</td><td>47</td><td><a class=\"ProveItLink\" href=\"../../../../../../core_expr_types/__pv_it/common/4b0dd6be36d76552eda6a95d5b4a27f5a5b62f900/expr.ipynb\"><img src=\"../../../../../../core_expr_types/__pv_it/common/4b0dd6be36d76552eda6a95d5b4a27f5a5b62f900/expr.png\" style=\"display:inline;vertical-align:middle;\" /></a></td></tr>\n",
       "<tr><td>47</td><td>Variable</td><td></td><td><a class=\"ProveItLink\" href=\"../../../../../../core_expr_types/__pv_it/common/006c465e50948aa2b52285e2de47974f741255cc0/expr.ipynb\"><img src=\"../../../../../../core_expr_types/__pv_it/common/006c465e50948aa2b52285e2de47974f741255cc0/expr.png\" style=\"display:inline;vertical-align:middle;\" /></a></td></tr>\n",
       "</table>\n"
      ],
      "text/plain": [
       "0. forall_{A_{1}, A_{2}, ..., A_{m}, B_{1}, B_{2}, ..., B_{i}, C_{1}, C_{2}, ..., C_{n}} (((A_{1} .  A_{2} .  ... .  A_{m} . (B_{1} +  B_{2} +  ... +  B_{i}). C_{1} .  C_{2} .  ... .  C_{n}) in_c Q*) =>  \\\\ ((A_{1} .  A_{2} .  ... .  A_{m} . (B_{1} +  B_{2} +  ... +  B_{i}). C_{1} .  C_{2} .  ... .  C_{n}) =  \\\\ ((A_{1} .  A_{2} .  ... .  A_{m} . B_{1}. C_{1} .  C_{2} .  ... .  C_{n}) +  (A_{1} .  A_{2} .  ... .  A_{m} . B_{2}. C_{1} .  C_{2} .  ... .  C_{n}) +  ... +  (A_{1} .  A_{2} .  ... .  A_{m} . B_{i}. C_{1} .  C_{2} .  ... .  C_{n}))))\n",
       "   core type: Operation\n",
       "   operator: 1\n",
       "   operand: 3\n",
       "1. forall\n",
       "   core type: Literal\n",
       "   sub-expressions: \n",
       "2. ((A_{1}, A_{2}, ..., A_{m}, B_{1}, B_{2}, ..., B_{i}, C_{1}, C_{2}, ..., C_{n}) -> (((A_{1} .  A_{2} .  ... .  A_{m} . (B_{1} +  B_{2} +  ... +  B_{i}). C_{1} .  C_{2} .  ... .  C_{n}) in_c Q*) =>  \\\\ ((A_{1} .  A_{2} .  ... .  A_{m} . (B_{1} +  B_{2} +  ... +  B_{i}). C_{1} .  C_{2} .  ... .  C_{n}) =  \\\\ ((A_{1} .  A_{2} .  ... .  A_{m} . B_{1}. C_{1} .  C_{2} .  ... .  C_{n}) +  (A_{1} .  A_{2} .  ... .  A_{m} . B_{2}. C_{1} .  C_{2} .  ... .  C_{n}) +  ... +  (A_{1} .  A_{2} .  ... .  A_{m} . B_{i}. C_{1} .  C_{2} .  ... .  C_{n})))))\n",
       "   core type: ExprTuple\n",
       "   sub-expressions: 3\n",
       "3. (A_{1}, A_{2}, ..., A_{m}, B_{1}, B_{2}, ..., B_{i}, C_{1}, C_{2}, ..., C_{n}) -> (((A_{1} .  A_{2} .  ... .  A_{m} . (B_{1} +  B_{2} +  ... +  B_{i}). C_{1} .  C_{2} .  ... .  C_{n}) in_c Q*) =>  \\\\ ((A_{1} .  A_{2} .  ... .  A_{m} . (B_{1} +  B_{2} +  ... +  B_{i}). C_{1} .  C_{2} .  ... .  C_{n}) =  \\\\ ((A_{1} .  A_{2} .  ... .  A_{m} . B_{1}. C_{1} .  C_{2} .  ... .  C_{n}) +  (A_{1} .  A_{2} .  ... .  A_{m} . B_{2}. C_{1} .  C_{2} .  ... .  C_{n}) +  ... +  (A_{1} .  A_{2} .  ... .  A_{m} . B_{i}. C_{1} .  C_{2} .  ... .  C_{n}))))\n",
       "   core type: Lambda\n",
       "   parameters: 4\\n   body: 5\n",
       "4. (A_{1}, A_{2}, ..., A_{m},B_{1}, B_{2}, ..., B_{i},C_{1}, C_{2}, ..., C_{n})\n",
       "   core type: ExprTuple\n",
       "   sub-expressions: 31, 24, 33\n",
       "5. ((A_{1} .  A_{2} .  ... .  A_{m} . (B_{1} +  B_{2} +  ... +  B_{i}). C_{1} .  C_{2} .  ... .  C_{n}) in_c Q*) =>  \\\\ ((A_{1} .  A_{2} .  ... .  A_{m} . (B_{1} +  B_{2} +  ... +  B_{i}). C_{1} .  C_{2} .  ... .  C_{n}) =  \\\\ ((A_{1} .  A_{2} .  ... .  A_{m} . B_{1}. C_{1} .  C_{2} .  ... .  C_{n}) +  (A_{1} .  A_{2} .  ... .  A_{m} . B_{2}. C_{1} .  C_{2} .  ... .  C_{n}) +  ... +  (A_{1} .  A_{2} .  ... .  A_{m} . B_{i}. C_{1} .  C_{2} .  ... .  C_{n})))\n",
       "   core type: Operation\n",
       "   operator: 6\n",
       "   operands: 7\n",
       "6. =>\n",
       "   core type: Literal\n",
       "   sub-expressions: \n",
       "7. ((A_{1} .  A_{2} .  ... .  A_{m} . (B_{1} +  B_{2} +  ... +  B_{i}). C_{1} .  C_{2} .  ... .  C_{n}) in_c Q*, (A_{1} .  A_{2} .  ... .  A_{m} . (B_{1} +  B_{2} +  ... +  B_{i}). C_{1} .  C_{2} .  ... .  C_{n}) =  \\\\ ((A_{1} .  A_{2} .  ... .  A_{m} . B_{1}. C_{1} .  C_{2} .  ... .  C_{n}) +  (A_{1} .  A_{2} .  ... .  A_{m} . B_{2}. C_{1} .  C_{2} .  ... .  C_{n}) +  ... +  (A_{1} .  A_{2} .  ... .  A_{m} . B_{i}. C_{1} .  C_{2} .  ... .  C_{n})))\n",
       "   core type: ExprTuple\n",
       "   sub-expressions: 8, 9\n",
       "8. (A_{1} .  A_{2} .  ... .  A_{m} . (B_{1} +  B_{2} +  ... +  B_{i}). C_{1} .  C_{2} .  ... .  C_{n}) in_c Q*\n",
       "   core type: Operation\n",
       "   operator: 10\n",
       "   operands: 11\n",
       "9. (A_{1} .  A_{2} .  ... .  A_{m} . (B_{1} +  B_{2} +  ... +  B_{i}). C_{1} .  C_{2} .  ... .  C_{n}) =  \\\\ ((A_{1} .  A_{2} .  ... .  A_{m} . B_{1}. C_{1} .  C_{2} .  ... .  C_{n}) +  (A_{1} .  A_{2} .  ... .  A_{m} . B_{2}. C_{1} .  C_{2} .  ... .  C_{n}) +  ... +  (A_{1} .  A_{2} .  ... .  A_{m} . B_{i}. C_{1} .  C_{2} .  ... .  C_{n}))\n",
       "   core type: Operation\n",
       "   operator: 12\n",
       "   operands: 13\n",
       "10. in_c\n",
       "    core type: Literal\n",
       "    sub-expressions: \n",
       "11. (A_{1} .  A_{2} .  ... .  A_{m} . (B_{1} +  B_{2} +  ... +  B_{i}). C_{1} .  C_{2} .  ... .  C_{n}, Q*)\n",
       "    core type: ExprTuple\n",
       "    sub-expressions: 15, 14\n",
       "12. =\n",
       "    core type: Literal\n",
       "    sub-expressions: \n",
       "13. (A_{1} .  A_{2} .  ... .  A_{m} . (B_{1} +  B_{2} +  ... +  B_{i}). C_{1} .  C_{2} .  ... .  C_{n}, (A_{1} .  A_{2} .  ... .  A_{m} . B_{1}. C_{1} .  C_{2} .  ... .  C_{n}) +  (A_{1} .  A_{2} .  ... .  A_{m} . B_{2}. C_{1} .  C_{2} .  ... .  C_{n}) +  ... +  (A_{1} .  A_{2} .  ... .  A_{m} . B_{i}. C_{1} .  C_{2} .  ... .  C_{n}))\n",
       "    core type: ExprTuple\n",
       "    sub-expressions: 15, 16\n",
       "14. Q*\n",
       "    core type: Literal\n",
       "    sub-expressions: \n",
       "15. A_{1} .  A_{2} .  ... .  A_{m} . (B_{1} +  B_{2} +  ... +  B_{i}). C_{1} .  C_{2} .  ... .  C_{n}\n",
       "    core type: Operation\n",
       "    operator: 28\n",
       "    operands: 17\n",
       "16. (A_{1} .  A_{2} .  ... .  A_{m} . B_{1}. C_{1} .  C_{2} .  ... .  C_{n}) +  (A_{1} .  A_{2} .  ... .  A_{m} . B_{2}. C_{1} .  C_{2} .  ... .  C_{n}) +  ... +  (A_{1} .  A_{2} .  ... .  A_{m} . B_{i}. C_{1} .  C_{2} .  ... .  C_{n})\n",
       "    core type: Operation\n",
       "    operator: 21\n",
       "    operands: 18\n",
       "17. (A_{1}, A_{2}, ..., A_{m}, B_{1} +  B_{2} +  ... +  B_{i},C_{1}, C_{2}, ..., C_{n})\n",
       "    core type: ExprTuple\n",
       "    sub-expressions: 31, 19, 33\n",
       "18. ((A_{1} .  A_{2} .  ... .  A_{m} . B_{1}. C_{1} .  C_{2} .  ... .  C_{n}), (A_{1} .  A_{2} .  ... .  A_{m} . B_{2}. C_{1} .  C_{2} .  ... .  C_{n}), ..., (A_{1} .  A_{2} .  ... .  A_{m} . B_{i}. C_{1} .  C_{2} .  ... .  C_{n}))\n",
       "    core type: ExprTuple\n",
       "    sub-expressions: 20\n",
       "19. B_{1} +  B_{2} +  ... +  B_{i}\n",
       "    core type: Operation\n",
       "    operator: 21\n",
       "    operands: 22\n",
       "20. (A_{1} .  A_{2} .  ... .  A_{m} . B_{1}. C_{1} .  C_{2} .  ... .  C_{n}), (A_{1} .  A_{2} .  ... .  A_{m} . B_{2}. C_{1} .  C_{2} .  ... .  C_{n}), ..., (A_{1} .  A_{2} .  ... .  A_{m} . B_{i}. C_{1} .  C_{2} .  ... .  C_{n})\n",
       "    core type: ExprRange\n",
       "    lambda_map: 23\n",
       "    start_index: 39\n",
       "    end_index: 27\n",
       "21. +\n",
       "    core type: Literal\n",
       "    sub-expressions: \n",
       "22. (B_{1}, B_{2}, ..., B_{i})\n",
       "    core type: ExprTuple\n",
       "    sub-expressions: 24\n",
       "23. _b -> (A_{1} .  A_{2} .  ... .  A_{m} . B_{_b}. C_{1} .  C_{2} .  ... .  C_{n})\n",
       "    core type: Lambda\n",
       "    parameter: 42\n",
       "    body: 25\n",
       "24. B_{1}, B_{2}, ..., B_{i}\n",
       "    core type: ExprRange\n",
       "    lambda_map: 26\n",
       "    start_index: 39\n",
       "    end_index: 27\n",
       "25. A_{1} .  A_{2} .  ... .  A_{m} . B_{_b}. C_{1} .  C_{2} .  ... .  C_{n}\n",
       "    core type: Operation\n",
       "    operator: 28\n",
       "    operands: 29\n",
       "26. _a -> B_{_a}\n",
       "    core type: Lambda\n",
       "    parameter: 47\n",
       "    body: 30\n",
       "27. i\n",
       "    core type: Variable\n",
       "    sub-expressions: \n",
       "28. .\n",
       "    core type: Literal\n",
       "    sub-expressions: \n",
       "29. (A_{1}, A_{2}, ..., A_{m}, B_{_b},C_{1}, C_{2}, ..., C_{n})\n",
       "    core type: ExprTuple\n",
       "    sub-expressions: 31, 32, 33\n",
       "30. B_{_a}\n",
       "    core type: IndexedVar\n",
       "variable: 36\n",
       "index: 47\n",
       "31. A_{1}, A_{2}, ..., A_{m}\n",
       "    core type: ExprRange\n",
       "    lambda_map: 34\n",
       "    start_index: 39\n",
       "    end_index: 35\n",
       "32. B_{_b}\n",
       "    core type: IndexedVar\n",
       "variable: 36\n",
       "index: 42\n",
       "33. C_{1}, C_{2}, ..., C_{n}\n",
       "    core type: ExprRange\n",
       "    lambda_map: 38\n",
       "    start_index: 39\n",
       "    end_index: 40\n",
       "34. _a -> A_{_a}\n",
       "    core type: Lambda\n",
       "    parameter: 47\n",
       "    body: 41\n",
       "35. m\n",
       "    core type: Variable\n",
       "    sub-expressions: \n",
       "36. B\n",
       "    core type: Variable\n",
       "    sub-expressions: \n",
       "37. (_b)\n",
       "    core type: ExprTuple\n",
       "    sub-expressions: 42\n",
       "38. _a -> C_{_a}\n",
       "    core type: Lambda\n",
       "    parameter: 47\n",
       "    body: 43\n",
       "39. 1\n",
       "    core type: Literal\n",
       "    sub-expressions: \n",
       "40. n\n",
       "    core type: Variable\n",
       "    sub-expressions: \n",
       "41. A_{_a}\n",
       "    core type: IndexedVar\n",
       "variable: 44\n",
       "index: 47\n",
       "42. _b\n",
       "    core type: Variable\n",
       "    sub-expressions: \n",
       "43. C_{_a}\n",
       "    core type: IndexedVar\n",
       "variable: 45\n",
       "index: 47\n",
       "44. A\n",
       "    core type: Variable\n",
       "    sub-expressions: \n",
       "45. C\n",
       "    core type: Variable\n",
       "    sub-expressions: \n",
       "46. (_a)\n",
       "    core type: ExprTuple\n",
       "    sub-expressions: 47\n",
       "47. _a\n",
       "    core type: Variable\n",
       "    sub-expressions: "
      ]
     },
     "metadata": {},
     "output_type": "display_data"
    }
   ],
   "source": [
    "# display the expression information\n",
    "stored_expr.expr_info()"
   ]
  },
  {
   "cell_type": "code",
   "execution_count": null,
   "metadata": {},
   "outputs": [],
   "source": []
  }
 ],
 "metadata": {
  "kernelspec": {
   "display_name": "Python 3",
   "language": "python",
   "name": "python3"
  }
 },
 "nbformat": 4,
 "nbformat_minor": 0
}