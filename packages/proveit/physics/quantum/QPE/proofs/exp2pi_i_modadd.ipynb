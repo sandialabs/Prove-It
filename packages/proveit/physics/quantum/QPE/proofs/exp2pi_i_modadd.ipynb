{
 "cells": [
  {
   "cell_type": "code",
   "execution_count": null,
   "metadata": {},
   "outputs": [],
   "source": [
    "from proveit.common import a, b, r, x\n",
    "from proveit.basiclogic import In\n",
    "from proveit.numbers import Add\n",
    "from proveit.numbers.common import Integer\n",
    "from proveit.numbers.integer.theorems import in_real\n",
    "from proveit.trigonometry.theorems import exp_2pi_i_x\n",
    "from proveit.physics.quantum.QPE.axioms import mod_add_def, t_in_natural_pos\n",
    "from proveit.physics.quantum.QPE.theorems import exp2pi_i_modadd\n",
    "from proveit.physics.quantum.QPE.phase_est_ops import ModAdd\n",
    "from proveit.physics.quantum.QPE.common import two_pow_t\n",
    "from IPython.display import display"
   ]
  },
  {
   "cell_type": "code",
   "execution_count": null,
   "metadata": {},
   "outputs": [],
   "source": [
    "exp2pi_i_modadd.begin_proof()"
   ]
  },
  {
   "cell_type": "code",
   "execution_count": null,
   "metadata": {},
   "outputs": [],
   "source": [
    "assumptions = {In(a, Integer), In(b, Integer)}\n",
    "display(assumptions)\n",
    "display(Add(a, b).deduce_in_real(assumptions).proven(assumptions))\n",
    "display(two_pow_t.deduce_in_real().proven())"
   ]
  },
  {
   "cell_type": "code",
   "execution_count": null,
   "metadata": {},
   "outputs": [],
   "source": [
    "exp_2pi_i_x_spec = exp_2pi_i_x.instantiate({x:Add(a, b), r:two_pow_t}).proven(assumptions)\n",
    "exp_2pi_i_x_spec"
   ]
  },
  {
   "cell_type": "code",
   "execution_count": null,
   "metadata": {},
   "outputs": [],
   "source": [
    "mod_add_def_spec = mod_add_def.instantiate().proven(assumptions)\n",
    "mod_add_def_spec"
   ]
  },
  {
   "cell_type": "code",
   "execution_count": null,
   "metadata": {},
   "outputs": [],
   "source": [
    "exp2pi_i_modadd_spec = mod_add_def_spec.sub_left_side_into(exp_2pi_i_x_spec).proven(assumptions)\n",
    "exp2pi_i_modadd_spec"
   ]
  },
  {
   "cell_type": "code",
   "execution_count": null,
   "metadata": {},
   "outputs": [],
   "source": [
    "exp2pi_i_modadd = exp2pi_i_modadd_spec.generalize({a, b}, domain=Integer).proven()\n",
    "exp2pi_i_modadd"
   ]
  },
  {
   "cell_type": "code",
   "execution_count": null,
   "metadata": {},
   "outputs": [],
   "source": [
    "exp2pi_i_modadd.qed() "
   ]
  },
  {
   "cell_type": "code",
   "execution_count": null,
   "metadata": {},
   "outputs": [],
   "source": []
  }
 ],
 "metadata": {
  "kernelspec": {
   "display_name": "Python 3",
   "language": "python",
   "name": "python3"
  }
 },
 "nbformat": 4,
 "nbformat_minor": 0
}
