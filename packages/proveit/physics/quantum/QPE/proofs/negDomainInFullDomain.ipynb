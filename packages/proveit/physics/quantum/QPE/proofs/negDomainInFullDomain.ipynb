{
 "cells": [
  {
   "cell_type": "code",
   "execution_count": null,
   "metadata": {},
   "outputs": [],
   "source": [
    "from proveit.basiclogic import In\n",
    "from proveit.numbers import Neg\n",
    "from proveit.numbers.common import one\n",
    "from proveit.common import eps\n",
    "from proveit.physics.quantum.QPE.common import l, full_domain, neg_domain, two_pow_t_minus_one\n",
    "from proveit.physics.quantum.QPE.theorems import neg_domain_in_full_domain, two_pow_t_minus_one_is_nat_pos\n",
    "from proveit.numbers import NaturalPos, deduce_positive, deduce_negative, deduce_in_integer\n",
    "from IPython.display import display"
   ]
  },
  {
   "cell_type": "code",
   "execution_count": null,
   "metadata": {},
   "outputs": [],
   "source": [
    "neg_domain_in_full_domain.begin_proof()"
   ]
  },
  {
   "cell_type": "code",
   "execution_count": null,
   "metadata": {},
   "outputs": [],
   "source": [
    "eps_in_natural_pos = In(eps, NaturalPos)\n",
    "l_in_neg_domain = In(l, neg_domain)\n",
    "assumptions = {eps_in_natural_pos, l_in_neg_domain}\n",
    "display(eps_in_natural_pos)\n",
    "display(l_in_neg_domain)"
   ]
  },
  {
   "cell_type": "code",
   "execution_count": null,
   "metadata": {},
   "outputs": [],
   "source": [
    "full_domain"
   ]
  },
  {
   "cell_type": "code",
   "execution_count": null,
   "metadata": {},
   "outputs": [],
   "source": [
    "neg_domain.deduce_member_lower_bound(l, assumptions).proven(assumptions)"
   ]
  },
  {
   "cell_type": "code",
   "execution_count": null,
   "metadata": {},
   "outputs": [],
   "source": [
    "l_in_ints = neg_domain.deduce_member_in_integer(l, assumptions)\n",
    "display(l_in_ints)\n",
    "l_is_neg = neg_domain.deduce_member_is_negative(l, assumptions)\n",
    "display(l_is_neg)"
   ]
  },
  {
   "cell_type": "code",
   "execution_count": null,
   "metadata": {},
   "outputs": [],
   "source": [
    "deduce_positive(full_domain.upper_bound, assumptions).apply_transitivity(l_is_neg).derive_reversed().derive_relaxed(assumptions).proven(assumptions)"
   ]
  },
  {
   "cell_type": "code",
   "execution_count": null,
   "metadata": {},
   "outputs": [],
   "source": [
    "deduce_in_integer(full_domain.lower_bound, assumptions)\n",
    "deduce_in_integer(full_domain.upper_bound, assumptions)\n",
    "neg_domain.deduce_member_in_integer(l, assumptions).proven(assumptions)\n",
    "In(l, full_domain).conclude_as_folded().generalize(l, domain=neg_domain).generalize(eps, domain=NaturalPos).qed()"
   ]
  },
  {
   "cell_type": "code",
   "execution_count": null,
   "metadata": {},
   "outputs": [],
   "source": []
  }
 ],
 "metadata": {
  "kernelspec": {
   "display_name": "Python 3",
   "language": "python",
   "name": "python3"
  }
 },
 "nbformat": 4,
 "nbformat_minor": 0
}
