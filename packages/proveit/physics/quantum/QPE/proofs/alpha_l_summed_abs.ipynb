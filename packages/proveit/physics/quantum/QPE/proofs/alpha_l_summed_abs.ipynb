{
 "cells": [
  {
   "cell_type": "code",
   "execution_count": null,
   "metadata": {},
   "outputs": [],
   "source": [
    "from proveit.basiclogic import In, auto_substitute\n",
    "from proveit.physics.quantum.QPE.theorems import alpha_l_summed_abs, alpha_l_summed, two_pow_t_is_nat_pos, delta_is_real\n",
    "from proveit.physics.quantum.QPE.common import two_pow_t\n",
    "from proveit.common import l, X\n",
    "from proveit.numbers import Abs, frac, Multiply\n",
    "from proveit.numbers.common import one\n",
    "from proveit.numbers import Integer, deduce_positive"
   ]
  },
  {
   "cell_type": "code",
   "execution_count": null,
   "metadata": {},
   "outputs": [],
   "source": [
    "alpha_l_summed_abs.begin_proof()"
   ]
  },
  {
   "cell_type": "code",
   "execution_count": null,
   "metadata": {},
   "outputs": [],
   "source": [
    "alpha_l_summed"
   ]
  },
  {
   "cell_type": "code",
   "execution_count": null,
   "metadata": {},
   "outputs": [],
   "source": [
    "l_in_ints = In(l, Integer)\n",
    "l_in_ints"
   ]
  },
  {
   "cell_type": "code",
   "execution_count": null,
   "metadata": {},
   "outputs": [],
   "source": [
    "alpha_l_summed0 = alpha_l_summed.instantiate()\n",
    "alpha_l_summed0.proven({l_in_ints})"
   ]
  },
  {
   "cell_type": "code",
   "execution_count": null,
   "metadata": {},
   "outputs": [],
   "source": [
    "new_frac = frac(alpha_l_summed0.rhs.operands[1].numerator, Multiply(two_pow_t, alpha_l_summed0.rhs.operands[1].denominator))\n",
    "new_frac"
   ]
  },
  {
   "cell_type": "code",
   "execution_count": null,
   "metadata": {},
   "outputs": [],
   "source": [
    "alpha_l_summed1 = new_frac.factor(frac(one, two_pow_t), 'left', assumptions={In(l, Integer)}).sub_left_side_into(alpha_l_summed0)\n",
    "alpha_l_summed1.proven({l_in_ints})"
   ]
  },
  {
   "cell_type": "code",
   "execution_count": null,
   "metadata": {},
   "outputs": [],
   "source": [
    "abs_alpha_l_eq0 = alpha_l_summed1.substitution(Abs(X), X)\n",
    "abs_alpha_l_eq0.proven({l_in_ints})"
   ]
  },
  {
   "cell_type": "code",
   "execution_count": null,
   "metadata": {},
   "outputs": [],
   "source": [
    "abs_alpha_l_eq1 = abs_alpha_l_eq0.rhs.distribute(assumptions={l_in_ints}).sub_right_side_into(abs_alpha_l_eq0)\n",
    "abs_alpha_l_eq1.proven({l_in_ints})"
   ]
  },
  {
   "cell_type": "code",
   "execution_count": null,
   "metadata": {},
   "outputs": [],
   "source": [
    "abs_alpha_l_eq2 = auto_substitute(abs_alpha_l_eq1, 'distribute', [], {'assumptions':{l_in_ints}}, super_expr=abs_alpha_l_eq1.rhs.denominator)\n",
    "abs_alpha_l_eq2.proven({l_in_ints})"
   ]
  },
  {
   "cell_type": "code",
   "execution_count": null,
   "metadata": {},
   "outputs": [],
   "source": [
    "deduce_positive(two_pow_t).derive_relaxed()"
   ]
  },
  {
   "cell_type": "code",
   "execution_count": null,
   "metadata": {},
   "outputs": [],
   "source": [
    "abs_alpha_l_eq3 = Abs(two_pow_t).abs_elimination().sub_right_side_into(abs_alpha_l_eq2)\n",
    "abs_alpha_l_eq3.proven({l_in_ints})"
   ]
  },
  {
   "cell_type": "code",
   "execution_count": null,
   "metadata": {},
   "outputs": [],
   "source": [
    "abs_alpha_l_eq3.generalize(l, domain=Integer).qed()"
   ]
  },
  {
   "cell_type": "code",
   "execution_count": null,
   "metadata": {},
   "outputs": [],
   "source": []
  }
 ],
 "metadata": {
  "kernelspec": {
   "display_name": "Python 3",
   "language": "python",
   "name": "python3"
  }
 },
 "nbformat": 4,
 "nbformat_minor": 0
}
