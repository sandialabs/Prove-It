{
 "cells": [
  {
   "cell_type": "code",
   "execution_count": null,
   "metadata": {},
   "outputs": [],
   "source": [
    "from proveit.basiclogic import In, auto_substitute\n",
    "from proveit.physics.quantum.QPE.axioms import t_in_natural_pos\n",
    "from proveit.physics.quantum.QPE.theorems import delta_diff_in_interval, scaled_delta_in_interval, delta_is_real, two_pow_t_is_nat_pos, two_pow_t_minus_one_is_nat_pos\n",
    "from proveit.physics.quantum.QPE.common import full_domain, two_pow_t, t_\n",
    "from proveit.numbers import IntervalCO, Neg, frac, Multiply, Exponentiate\n",
    "from proveit.numbers.common import one, two\n",
    "from proveit.numbers import deduce_in_real, deduce_in_complex\n",
    "from proveit.numbers.complex.theorems import pos_times_neg, cancel_sub_then_add\n",
    "from proveit.common import a, b, l, x, y\n",
    "from IPython.display import display"
   ]
  },
  {
   "cell_type": "code",
   "execution_count": null,
   "metadata": {},
   "outputs": [],
   "source": [
    "delta_diff_in_interval.begin_proof()"
   ]
  },
  {
   "cell_type": "code",
   "execution_count": null,
   "metadata": {},
   "outputs": [],
   "source": [
    "scaled_delta_in_interval"
   ]
  },
  {
   "cell_type": "code",
   "execution_count": null,
   "metadata": {},
   "outputs": [],
   "source": [
    "scaled_delta_lower_bound = scaled_delta_in_interval.domain.deduce_member_lower_bound(scaled_delta_in_interval.element)\n",
    "scaled_delta_lower_bound.proven()"
   ]
  },
  {
   "cell_type": "code",
   "execution_count": null,
   "metadata": {},
   "outputs": [],
   "source": [
    "scaled_delta_upper_bound = scaled_delta_in_interval.domain.deduce_member_upper_bound(scaled_delta_in_interval.element)\n",
    "scaled_delta_upper_bound.proven()"
   ]
  },
  {
   "cell_type": "code",
   "execution_count": null,
   "metadata": {},
   "outputs": [],
   "source": [
    "l_in_domain = In(l, full_domain)\n",
    "display(l_in_domain)\n",
    "display(full_domain.deduce_member_in_integer(l).proven({l_in_domain}))"
   ]
  },
  {
   "cell_type": "code",
   "execution_count": null,
   "metadata": {},
   "outputs": [],
   "source": [
    "l_negated_lower_bound = l_in_domain.domain.deduce_member_lower_bound(l).derive_negated({l_in_domain})\n",
    "l_negated_lower_bound.proven({l_in_domain})"
   ]
  },
  {
   "cell_type": "code",
   "execution_count": null,
   "metadata": {},
   "outputs": [],
   "source": [
    "l_negated_upper_bound = l_in_domain.domain.deduce_member_upper_bound(l).derive_negated({l_in_domain})\n",
    "l_negated_upper_bound.proven({l_in_domain})"
   ]
  },
  {
   "cell_type": "code",
   "execution_count": null,
   "metadata": {},
   "outputs": [],
   "source": [
    "shifted_scaled_lower_bound0 = scaled_delta_lower_bound.derive_added(l_negated_upper_bound, {l_in_domain})\n",
    "shifted_scaled_lower_bound0.proven({l_in_domain})"
   ]
  },
  {
   "cell_type": "code",
   "execution_count": null,
   "metadata": {},
   "outputs": [],
   "source": [
    "shifted_scaled_lower_bound1 = auto_substitute(shifted_scaled_lower_bound0, 'simplification', [], {'assumptions':{l_in_domain}}, super_expr=shifted_scaled_lower_bound0.lhs)\n",
    "shifted_scaled_lower_bound1.proven({l_in_domain})"
   ]
  },
  {
   "cell_type": "code",
   "execution_count": null,
   "metadata": {},
   "outputs": [],
   "source": [
    "shifted_scaled_lower_bound = auto_substitute(shifted_scaled_lower_bound1, 'subtraction_folding', [], {'assumptions':{l_in_domain}}, super_expr=shifted_scaled_lower_bound1.rhs)\n",
    "shifted_scaled_lower_bound.proven({l_in_domain})"
   ]
  },
  {
   "cell_type": "code",
   "execution_count": null,
   "metadata": {},
   "outputs": [],
   "source": [
    "shifted_scaled_upper_bound0 = scaled_delta_upper_bound.derive_added(l_negated_lower_bound, {l_in_domain})\n",
    "shifted_scaled_upper_bound0.proven({l_in_domain})"
   ]
  },
  {
   "cell_type": "code",
   "execution_count": null,
   "metadata": {},
   "outputs": [],
   "source": [
    "shifted_scaled_upper_bound1 = auto_substitute(shifted_scaled_upper_bound0, 'subtraction_folding', [], {'assumptions':{l_in_domain}}, super_expr=shifted_scaled_upper_bound0.lhs)\n",
    "shifted_scaled_upper_bound1.proven({l_in_domain})"
   ]
  },
  {
   "cell_type": "code",
   "execution_count": null,
   "metadata": {},
   "outputs": [],
   "source": [
    "shifted_scaled_upper_bound2 = auto_substitute(shifted_scaled_upper_bound1, 'subtraction_folding', [], {'assumptions':{l_in_domain}}, super_expr=shifted_scaled_upper_bound1.rhs)\n",
    "shifted_scaled_upper_bound2.proven({l_in_domain})"
   ]
  },
  {
   "cell_type": "code",
   "execution_count": null,
   "metadata": {},
   "outputs": [],
   "source": [
    "shifted_scaled_upper_bound = auto_substitute(shifted_scaled_upper_bound2, 'cancel', [], {'assumptions':{l_in_domain}}, super_expr=shifted_scaled_upper_bound2.rhs)\n",
    "shifted_scaled_upper_bound.proven({l_in_domain})"
   ]
  },
  {
   "cell_type": "code",
   "execution_count": null,
   "metadata": {},
   "outputs": [],
   "source": [
    "shifted_scaled = shifted_scaled_upper_bound.lhs\n",
    "two_pow_tMinusOne = shifted_scaled_upper_bound.rhs\n",
    "deduce_in_real(shifted_scaled, {l_in_domain})\n",
    "shifted_scaled_in_domain = In(shifted_scaled, IntervalCO(Neg(two_pow_tMinusOne), two_pow_tMinusOne)).conclude_as_folded()\n",
    "shifted_scaled_in_domain.proven({l_in_domain})"
   ]
  },
  {
   "cell_type": "code",
   "execution_count": null,
   "metadata": {},
   "outputs": [],
   "source": [
    "shifted_rescaled_in_domain = list()"
   ]
  },
  {
   "cell_type": "code",
   "execution_count": null,
   "metadata": {},
   "outputs": [],
   "source": [
    "shifted_rescaled_in_domain.append(shifted_scaled_in_domain.domain.deduce_rescaled_membership(shifted_scaled_in_domain.element, frac(one, two_pow_t), {l_in_domain}))\n",
    "shifted_rescaled_in_domain[-1].proven({l_in_domain})"
   ]
  },
  {
   "cell_type": "code",
   "execution_count": null,
   "metadata": {},
   "outputs": [],
   "source": [
    "shifted_rescaled_in_domain.append(auto_substitute(shifted_rescaled_in_domain[-1], 'distribute', [1], {'assumptions':{l_in_domain}}))\n",
    "shifted_rescaled_in_domain[-1].proven({l_in_domain})"
   ]
  },
  {
   "cell_type": "code",
   "execution_count": null,
   "metadata": {},
   "outputs": [],
   "source": [
    "pos_times_neg"
   ]
  },
  {
   "cell_type": "code",
   "execution_count": null,
   "metadata": {},
   "outputs": [],
   "source": [
    "shifted_rescaled_in_domain.append(pos_times_neg.instantiate({x:frac(one, two_pow_t), y:two_pow_tMinusOne}).sub_right_side_into(shifted_rescaled_in_domain[-1]))\n",
    "shifted_rescaled_in_domain[-1].proven({l_in_domain})"
   ]
  },
  {
   "cell_type": "code",
   "execution_count": null,
   "metadata": {},
   "outputs": [],
   "source": [
    "for k in range(3):\n",
    "    shifted_rescaled_in_domain.append(auto_substitute(shifted_rescaled_in_domain[-1], 'distribute', [0], {'assumptions':{l_in_domain}}, suppress_warnings=True))\n",
    "    display(shifted_rescaled_in_domain[-1].proven({l_in_domain}))"
   ]
  },
  {
   "cell_type": "code",
   "execution_count": null,
   "metadata": {},
   "outputs": [],
   "source": [
    "shifted_in_domain0 = auto_substitute(shifted_rescaled_in_domain[-1], 'cancel', [two_pow_t], {'assumptions':{l_in_domain}}, sub_expr_class=Fraction)\n",
    "shifted_in_domain0.proven({l_in_domain})"
   ]
  },
  {
   "cell_type": "code",
   "execution_count": null,
   "metadata": {},
   "outputs": [],
   "source": [
    "two_powers_eq0 = Multiply(two, two_pow_tMinusOne).combine_exponents()\n",
    "two_powers_eq0.proven()"
   ]
  },
  {
   "cell_type": "code",
   "execution_count": null,
   "metadata": {},
   "outputs": [],
   "source": [
    "two_powers_eq1 = two_powers_eq0.rhs.exponent.commute().sub_right_side_into(two_powers_eq0)\n",
    "two_powers_eq1.proven()"
   ]
  },
  {
   "cell_type": "code",
   "execution_count": null,
   "metadata": {},
   "outputs": [],
   "source": [
    "deduce_in_complex(t_)\n",
    "two_powers_eqn = cancel_sub_then_add.instantiate({a:t_, b:one}).sub_right_side_into(two_powers_eq1).derive_reversed()\n",
    "two_powers_eqn.proven()"
   ]
  },
  {
   "cell_type": "code",
   "execution_count": null,
   "metadata": {},
   "outputs": [],
   "source": [
    "domain_eq0 = two_powers_eqn.substitution(shifted_rescaled_in_domain[-1].domain)\n",
    "domain_eq0"
   ]
  },
  {
   "cell_type": "code",
   "execution_count": null,
   "metadata": {},
   "outputs": [],
   "source": [
    "domain_eq1 = auto_substitute(domain_eq0, 'cancel', [two_pow_tMinusOne], super_expr=domain_eq0.rhs)\n",
    "domain_eq1"
   ]
  },
  {
   "cell_type": "code",
   "execution_count": null,
   "metadata": {},
   "outputs": [],
   "source": [
    "shifted_in_domain = domain_eq1.sub_right_side_into(shifted_in_domain0)\n",
    "shifted_in_domain.proven({l_in_domain})"
   ]
  },
  {
   "cell_type": "code",
   "execution_count": null,
   "metadata": {},
   "outputs": [],
   "source": [
    "shifted_in_domain.generalize(l, domain=full_domain).qed()"
   ]
  },
  {
   "cell_type": "code",
   "execution_count": null,
   "metadata": {},
   "outputs": [],
   "source": []
  }
 ],
 "metadata": {
  "kernelspec": {
   "display_name": "Python 3",
   "language": "python",
   "name": "python3"
  }
 },
 "nbformat": 4,
 "nbformat_minor": 0
}
