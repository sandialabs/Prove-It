{
 "cells": [
  {
   "cell_type": "code",
   "execution_count": null,
   "metadata": {},
   "outputs": [],
   "source": [
    "from proveit.expression import Operation\n",
    "from proveit.basiclogic import Implies, In, Equals, auto_substitute, derive_stmt_eq_true, compose\n",
    "from proveit.physics.quantum.QPE.axioms import t_in_natural_pos, n_in_nat_pos, unitary_u, \\\n",
    "    u_ket_register, psi_kets_in_q_reg_space, first_q_p_e, mid_q_p_e, final_q_p_e, PsiKetInQRegSpace, alpha_def, mod_add_def\n",
    "from proveit.physics.quantum.QPE.theorems import alpha_l_eval, phase_is_real, intermediate_q_p_e, best_is_int\n",
    "from proveit.physics.quantum.QPE.common import n_, u_, U_, psi_1, psi_k, psi_next, psi_t, phase_, U_pow_two_pow_k,\\\n",
    "    Psi_, t_, b_\n",
    "from proveit.physics.quantum.QPE.phase_est_ops import ModAdd\n",
    "from proveit.physics.quantum.QFT.theorems import inv_f_tin_s_u, inv_f_ton_matrix_elem\n",
    "from proveit.physics.quantum.QFT import InverseFourierTransform\n",
    "from proveit.numbers.common import zero, one, two, e, pi, i\n",
    "from proveit.common import a, b, c, d, f, j, k, l, n, u, x, y, z, U, P, X, alpha, x_etc\n",
    "from proveit.numbers import Exponentiate, Summation, frac, Multiply, sqrt, Add, subtract, DiscreteContiguousSet, \\\n",
    "    Neg\n",
    "from proveit.numbers import Natural, NaturalPos, deduce_in_natural, deduce_in_natural_pos, \\\n",
    "    Integer, deduce_in_integer, deduce_in_complex, deduce_in_real, deduce_positive\n",
    "from proveit.physics.quantum import Ket, RegisterKet\n",
    "from proveit.physics.quantum.axioms import ket_zero_in_qubit_space, ket_one_in_qubit_space, single_qubit_register_zero, \\\n",
    "    single_qubit_register_one, expand_register_with_zero_ket, expand_register_with_one_ket, circuit_multi_gate_application\n",
    "from proveit.physics.quantum.theorems import pregated_controlled_ngate_equiv, controlled_ngate_equiv, unitary_hadamard, \\\n",
    "    scaled_qubit_state_in_qubit_space, summed_qubit_state_in_qubit_space, transformed_qubit_state_in_qubit_space, \\\n",
    "    pregated_controlled_ngate_merger, unitary_hadamard, register_bra_over_summed_ket\n",
    "from proveit.physics.quantum.common import QubitSpace, H, ket0, ket1, ket_plus, inv_root2\n",
    "from proveit.linalg import ScalarProd, MatrixProd, TensorProd\n",
    "from proveit.linalg.theorems import int_pow_s_uclosure\n",
    "from proveit.numbers.natural.axioms import zero_add_one, one_add_one\n",
    "from proveit.numbers.natural.theorems import sum_zero_and_one, naturals_pos_induction, two_sub_one\n",
    "from proveit.numbers.integer.theorems import shift_less_than_to_less_than_equals\n",
    "from proveit.numbers.real.theorems import sqrt_times_itself\n",
    "from proveit.numbers.complex.theorems import cancel_sub_then_add, add_twice\n",
    "from IPython.display import display"
   ]
  },
  {
   "cell_type": "code",
   "execution_count": null,
   "metadata": {},
   "outputs": [],
   "source": [
    "alpha_l_eval.begin_proof()"
   ]
  },
  {
   "cell_type": "code",
   "execution_count": null,
   "metadata": {},
   "outputs": [],
   "source": [
    "intermediate_q_p_e"
   ]
  },
  {
   "cell_type": "code",
   "execution_count": null,
   "metadata": {},
   "outputs": [],
   "source": [
    "first_q_p_e"
   ]
  },
  {
   "cell_type": "code",
   "execution_count": null,
   "metadata": {},
   "outputs": [],
   "source": [
    "deduce_in_natural(zero)\n",
    "intermediate_q_p_e0_1 = intermediate_q_p_e.instantiate({k:zero})\n",
    "intermediate_q_p_e0_1.proven()"
   ]
  },
  {
   "cell_type": "code",
   "execution_count": null,
   "metadata": {},
   "outputs": [],
   "source": [
    "intermediate_q_p_e0_2 = Exponentiate(two, zero).simplification().sub_right_side_into(intermediate_q_p_e0_1)\n",
    "intermediate_q_p_e0_2.proven()"
   ]
  },
  {
   "cell_type": "code",
   "execution_count": null,
   "metadata": {},
   "outputs": [],
   "source": [
    "intermediate_q_p_e0_3 = auto_substitute(intermediate_q_p_e0_2, 'simplification', [], suppress_warnings=True)\n",
    "intermediate_q_p_e0_4 = auto_substitute(intermediate_q_p_e0_3, 'simplification', [], suppress_warnings=True)\n",
    "intermediate_q_p_e0_4.proven()"
   ]
  },
  {
   "cell_type": "code",
   "execution_count": null,
   "metadata": {},
   "outputs": [],
   "source": [
    "psi1_val = intermediate_q_p_e0_4.operands[0][(0, 3)].operands[0]\n",
    "deduce_in_complex(psi1_val.terms[0].scalar)\n",
    "deduce_in_complex(psi1_val.terms[1].scalar)\n",
    "scaled_qubit_state_in_qubit_space.instantiate({x:psi1_val.terms[0].scaled}).instantiate({alpha:psi1_val.terms[0].scalar}).proven()\n",
    "scaled_qubit_state_in_qubit_space.instantiate({x:psi1_val.terms[1].scaled}).instantiate({alpha:psi1_val.terms[1].scalar}).proven()\n",
    "summed_qubit_state_in_qubit_space.instantiate({x_etc:psi1_val.terms}).proven()"
   ]
  },
  {
   "cell_type": "code",
   "execution_count": null,
   "metadata": {},
   "outputs": [],
   "source": [
    "psi1_in_q_reg_space = psi_kets_in_q_reg_space.instantiate({k:one}).proven()\n",
    "psi1_in_q_reg_space.domain.simplification().sub_right_side_into(psi1_in_q_reg_space).proven()"
   ]
  },
  {
   "cell_type": "code",
   "execution_count": null,
   "metadata": {},
   "outputs": [],
   "source": [
    "pregated_controlled_ngate_equiv"
   ]
  },
  {
   "cell_type": "code",
   "execution_count": null,
   "metadata": {},
   "outputs": [],
   "source": [
    "pregated_ugate_equiv_psi1 = pregated_controlled_ngate_equiv.instantiate({n:n_}).instantiate({U:U_}).instantiate({u:H}).instantiate({a:ket0, b:Ket(psi_1)}).instantiate({x:Ket(u_), y:Ket(u_)})\n",
    "first_q_p_e_appliedPreGate = pregated_ugate_equiv_psi1.derive_right_via_equality()\n",
    "first_q_p_e_appliedPreGate.proven()"
   ]
  },
  {
   "cell_type": "code",
   "execution_count": null,
   "metadata": {},
   "outputs": [],
   "source": [
    "pregated_ugate_equiv_psi1_eval = pregated_controlled_ngate_equiv.instantiate({n:n_}).instantiate({U:U_}).instantiate({u:H}).instantiate({a:ket0, b:psi1_val}).instantiate({x:Ket(u_), y:Ket(u_)})\n",
    "psi1_eval_circuit_appliedPreGate = pregated_ugate_equiv_psi1_eval.derive_right_via_equality()\n",
    "psi1_eval_circuit_appliedPreGate.proven()"
   ]
  },
  {
   "cell_type": "code",
   "execution_count": null,
   "metadata": {},
   "outputs": [],
   "source": [
    "psi1_CircuitEquiv = derive_stmt_eq_true(psi1_eval_circuit_appliedPreGate).sub_left_side_into(derive_stmt_eq_true(first_q_p_e_appliedPreGate))\n",
    "psi1_CircuitEquiv.proven()"
   ]
  },
  {
   "cell_type": "code",
   "execution_count": null,
   "metadata": {},
   "outputs": [],
   "source": [
    "transformed_qubit_state_in_qubit_space.instantiate({x:ket0}).instantiate({U:H}).proven()"
   ]
  },
  {
   "cell_type": "code",
   "execution_count": null,
   "metadata": {},
   "outputs": [],
   "source": [
    "controlled_ngate_equiv"
   ]
  },
  {
   "cell_type": "code",
   "execution_count": null,
   "metadata": {},
   "outputs": [],
   "source": [
    "controlled_ngate_equiv_psi1 = controlled_ngate_equiv.instantiate({n:n_}).instantiate({U:U_}).instantiate({a:MatrixProd(H, ket0), b:Ket(psi_1), c:psi1_val}).instantiate({x:Ket(u_), y:Ket(u_), z:Ket(u_)})\n",
    "controlled_ngate_equiv_psi1.proven()"
   ]
  },
  {
   "cell_type": "code",
   "execution_count": null,
   "metadata": {},
   "outputs": [],
   "source": [
    "psi1_tensor_prod_equality = controlled_ngate_equiv_psi1.derive_right()\n",
    "psi1_tensor_prod_equality.proven()"
   ]
  },
  {
   "cell_type": "code",
   "execution_count": null,
   "metadata": {},
   "outputs": [],
   "source": [
    "psi1_eq1 = psi1_tensor_prod_equality.lhs.equate_factors(psi1_tensor_prod_equality).derive_right()\n",
    "psi1_eq1.proven()"
   ]
  },
  {
   "cell_type": "code",
   "execution_count": null,
   "metadata": {},
   "outputs": [],
   "source": [
    "# to be proven inductively\n",
    "psi_k_eq = Equals(Ket(psi_k),\n",
    "                  Summation(j, ScalarProd(frac(Exponentiate(e, Multiply(two, pi, i, phase_, j)), \n",
    "                                                   sqrt(Exponentiate(two, k))), RegisterKet(j, k)),\n",
    "                            domain = DiscreteContiguousSet(zero, subtract(Exponentiate(two, k), one))))\n",
    "psi_k_eq"
   ]
  },
  {
   "cell_type": "code",
   "execution_count": null,
   "metadata": {},
   "outputs": [],
   "source": [
    "sum_zero_and_one"
   ]
  },
  {
   "cell_type": "code",
   "execution_count": null,
   "metadata": {},
   "outputs": [],
   "source": [
    "psi_1_sum_eq1 = sum_zero_and_one.instantiate({Operation(f, j):psi_k_eq.rhs.summand.substituted({k:one}), n:j}).proven()\n",
    "psi_1_sum_eq1.proven()"
   ]
  },
  {
   "cell_type": "code",
   "execution_count": null,
   "metadata": {},
   "outputs": [],
   "source": [
    "psi_1_sum_eq2 = single_qubit_register_zero.sub_right_side_into(psi_1_sum_eq1)\n",
    "psi_1_sum_eq3 = single_qubit_register_one.sub_right_side_into(psi_1_sum_eq2)\n",
    "psi_1_sum_eq3.proven()"
   ]
  },
  {
   "cell_type": "code",
   "execution_count": null,
   "metadata": {},
   "outputs": [],
   "source": [
    "psi_1_sum_eq4 = auto_substitute(psi_1_sum_eq3, 'simplification', [], suppress_warnings=True)\n",
    "psi_1_sum_eq5 = auto_substitute(psi_1_sum_eq4, 'simplification', [], suppress_warnings=True)\n",
    "psi_1_sum_eq6 = auto_substitute(psi_1_sum_eq5, 'simplification', [], suppress_warnings=True)\n",
    "psi_1_sum_eq7 = auto_substitute(psi_1_sum_eq6, 'simplification', [], suppress_warnings=True)\n",
    "psi_1_sum_eq7.proven()"
   ]
  },
  {
   "cell_type": "code",
   "execution_count": null,
   "metadata": {},
   "outputs": [],
   "source": [
    "# proves the base case for psi_k_eq\n",
    "psi1_eq2 = psi_1_sum_eq7.sub_left_side_into(psi1_eq1)\n",
    "psi1_eq2.proven()"
   ]
  },
  {
   "cell_type": "code",
   "execution_count": null,
   "metadata": {},
   "outputs": [],
   "source": [
    "mid_q_p_e"
   ]
  },
  {
   "cell_type": "code",
   "execution_count": null,
   "metadata": {},
   "outputs": [],
   "source": [
    "int_pow_s_uclosure"
   ]
  },
  {
   "cell_type": "code",
   "execution_count": null,
   "metadata": {},
   "outputs": [],
   "source": [
    "deduce_in_natural_pos(U_pow_two_pow_k.exponent, {In(k, NaturalPos)})\n",
    "deduce_in_natural_pos(Exponentiate(two, n_))\n",
    "int_pow_s_uclosure.instantiate({n:Exponentiate(two, n_), k:U_pow_two_pow_k.exponent}).instantiate({U:U_}).proven({In(k, NaturalPos)})"
   ]
  },
  {
   "cell_type": "code",
   "execution_count": null,
   "metadata": {},
   "outputs": [],
   "source": [
    "k_in_nats_pos = In(k, NaturalPos)\n",
    "display(k_in_nats_pos)\n",
    "psi_k_inQRegSpace = psi_kets_in_q_reg_space.instantiate()\n",
    "display(psi_k_inQRegSpace.proven({k_in_nats_pos}))\n",
    "deduce_in_natural_pos(Add(k, one), {k_in_nats_pos})\n",
    "psi_next_inQRegSpace = psi_kets_in_q_reg_space.instantiate({k:Add(k, one)})\n",
    "psi_next_inQRegSpace.proven({k_in_nats_pos})"
   ]
  },
  {
   "cell_type": "code",
   "execution_count": null,
   "metadata": {},
   "outputs": [],
   "source": [
    "intermediate_q_p_e_spec = intermediate_q_p_e.instantiate()\n",
    "intermediate_q_p_e_spec.proven({k_in_nats_pos})"
   ]
  },
  {
   "cell_type": "code",
   "execution_count": null,
   "metadata": {},
   "outputs": [],
   "source": [
    "intermediate_output_ket = intermediate_q_p_e_spec.operands[0][(0, 3)].operands[0]\n",
    "intermediate_output_ket"
   ]
  },
  {
   "cell_type": "code",
   "execution_count": null,
   "metadata": {},
   "outputs": [],
   "source": [
    "deduce_in_complex(intermediate_output_ket.terms[0].scalar)\n",
    "deduce_in_complex(intermediate_output_ket.terms[1].scalar, {k_in_nats_pos})\n",
    "scaled_qubit_state_in_qubit_space.instantiate({x:ket1}).instantiate({alpha:intermediate_output_ket.terms[1].scalar})\n",
    "summed_qubit_state_in_qubit_space.instantiate({x_etc:intermediate_output_ket.terms}).proven({k_in_nats_pos})"
   ]
  },
  {
   "cell_type": "code",
   "execution_count": null,
   "metadata": {},
   "outputs": [],
   "source": [
    "pregated_controlled_ngate_merger"
   ]
  },
  {
   "cell_type": "code",
   "execution_count": null,
   "metadata": {},
   "outputs": [],
   "source": [
    "merger1 = pregated_controlled_ngate_merger.instantiate({n:n_}).instantiate({U:U_pow_two_pow_k}).instantiate({u:H}).instantiate({a:ket0, b:intermediate_output_ket}).instantiate({c:Ket(psi_k)}).instantiate({d:Ket(psi_next)}).instantiate({x:Ket(u_), y:Ket(u_)})\n",
    "merger1.proven({k_in_nats_pos})"
   ]
  },
  {
   "cell_type": "code",
   "execution_count": null,
   "metadata": {},
   "outputs": [],
   "source": [
    "merger2 = merger1.derive_conclusion()\n",
    "merger2.proven({k_in_nats_pos})"
   ]
  },
  {
   "cell_type": "code",
   "execution_count": null,
   "metadata": {},
   "outputs": [],
   "source": [
    "mid_q_p_e.instantiate().proven({k_in_nats_pos})"
   ]
  },
  {
   "cell_type": "code",
   "execution_count": null,
   "metadata": {},
   "outputs": [],
   "source": [
    "merger3 = merger2.derive_conclusion()\n",
    "merger3.proven({k_in_nats_pos})"
   ]
  },
  {
   "cell_type": "code",
   "execution_count": null,
   "metadata": {},
   "outputs": [],
   "source": [
    "merger4 = psi_k_eq.sub_right_side_into(merger3)\n",
    "merger4.proven({k_in_nats_pos, psi_k_eq})"
   ]
  },
  {
   "cell_type": "code",
   "execution_count": null,
   "metadata": {},
   "outputs": [],
   "source": [
    "merger5 = merger4.rhs.distribute(1).sub_right_side_into(merger4)\n",
    "merger5.proven({k_in_nats_pos, psi_k_eq})"
   ]
  },
  {
   "cell_type": "code",
   "execution_count": null,
   "metadata": {},
   "outputs": [],
   "source": [
    "merger6 = merger5.rhs.terms[0].distribute(0).sub_right_side_into(merger5)\n",
    "merger6.proven({k_in_nats_pos, psi_k_eq})"
   ]
  },
  {
   "cell_type": "code",
   "execution_count": null,
   "metadata": {},
   "outputs": [],
   "source": [
    "merger7 = merger6.rhs.terms[1].distribute(0).sub_right_side_into(merger6)\n",
    "merger7.proven({k_in_nats_pos, psi_k_eq})"
   ]
  },
  {
   "cell_type": "code",
   "execution_count": null,
   "metadata": {},
   "outputs": [],
   "source": [
    "psi_k_eq"
   ]
  },
  {
   "cell_type": "code",
   "execution_count": null,
   "metadata": {},
   "outputs": [],
   "source": [
    "psi_k_eq.rhs.summand.scalar"
   ]
  },
  {
   "cell_type": "code",
   "execution_count": null,
   "metadata": {},
   "outputs": [],
   "source": [
    "j_in_domain = In(j, merger7.rhs.terms[0].domain)"
   ]
  },
  {
   "cell_type": "code",
   "execution_count": null,
   "metadata": {},
   "outputs": [],
   "source": [
    "first_summand = merger7.rhs.terms[0].summand\n",
    "first_summand"
   ]
  },
  {
   "cell_type": "code",
   "execution_count": null,
   "metadata": {},
   "outputs": [],
   "source": [
    "first_summand_eq1 = first_summand.factor(psi_k_eq.rhs.summand.scalar)\n",
    "first_summand_eq1.proven({j_in_domain})"
   ]
  },
  {
   "cell_type": "code",
   "execution_count": null,
   "metadata": {},
   "outputs": [],
   "source": [
    "first_summand_eq2 = first_summand_eq1.rhs.factor(inv_root2).sub_right_side_into(first_summand_eq1)\n",
    "first_summand_eq2.proven({j_in_domain})"
   ]
  },
  {
   "cell_type": "code",
   "execution_count": null,
   "metadata": {},
   "outputs": [],
   "source": [
    "expand_register_with_zero_ket"
   ]
  },
  {
   "cell_type": "code",
   "execution_count": null,
   "metadata": {},
   "outputs": [],
   "source": [
    "first_summand_eq3 = expand_register_with_zero_ket.instantiate({n:k, k:j}).instantiate().sub_left_side_into(first_summand_eq2)\n",
    "first_summand_eq3.proven({k_in_nats_pos, j_in_domain})"
   ]
  },
  {
   "cell_type": "code",
   "execution_count": null,
   "metadata": {},
   "outputs": [],
   "source": [
    "j_in_domain.domain.deduce_member_in_integer(j, {k_in_nats_pos}).proven({k_in_nats_pos, j_in_domain})\n",
    "first_summand_eq4 = auto_substitute(first_summand_eq3, 'distribute', [], {'assumptions':{k_in_nats_pos, j_in_domain}}, super_expr=first_summand_eq3.rhs.scalar, suppress_warnings=True)\n",
    "first_summand_eq4.proven({k_in_nats_pos, j_in_domain})"
   ]
  },
  {
   "cell_type": "code",
   "execution_count": null,
   "metadata": {},
   "outputs": [],
   "source": [
    "first_summand_eq5 = auto_substitute(first_summand_eq4, 'simplification', [], {'assumptions':{k_in_nats_pos, j_in_domain}}, super_expr=first_summand_eq4.rhs.scalar, suppress_warnings=True)\n",
    "first_summand_eq5.proven({k_in_nats_pos, j_in_domain})"
   ]
  },
  {
   "cell_type": "code",
   "execution_count": null,
   "metadata": {},
   "outputs": [],
   "source": [
    "first_summand_eq6 = auto_substitute(first_summand_eq5, 'combine_exponents', [], {'assumptions':{k_in_nats_pos, j_in_domain}}, super_expr=first_summand_eq5.rhs.scalar, suppress_warnings=True)\n",
    "first_summand_eq6.proven({k_in_nats_pos, j_in_domain})"
   ]
  },
  {
   "cell_type": "code",
   "execution_count": null,
   "metadata": {},
   "outputs": [],
   "source": [
    "first_summand_eq7 = auto_substitute(first_summand_eq6, 'combine_exponents', [], {'assumptions':{k_in_nats_pos, j_in_domain}}, super_expr=first_summand_eq6.rhs.scalar, suppress_warnings=True)\n",
    "first_summand_eq7.proven({k_in_nats_pos, j_in_domain})"
   ]
  },
  {
   "cell_type": "code",
   "execution_count": null,
   "metadata": {},
   "outputs": [],
   "source": [
    "generalized_first_summand_eq = first_summand_eq7.generalize(j, domain=j_in_domain.domain)\n",
    "generalized_first_summand_eq.proven({k_in_nats_pos})"
   ]
  },
  {
   "cell_type": "code",
   "execution_count": null,
   "metadata": {},
   "outputs": [],
   "source": [
    "merger8 = merger7.rhs.terms[0].instance_substitution(generalized_first_summand_eq).sub_right_side_into(merger7)\n",
    "merger8.proven({k_in_nats_pos, psi_k_eq})"
   ]
  },
  {
   "cell_type": "code",
   "execution_count": null,
   "metadata": {},
   "outputs": [],
   "source": [
    "second_summand = merger7.rhs.terms[1].summand\n",
    "second_summand"
   ]
  },
  {
   "cell_type": "code",
   "execution_count": null,
   "metadata": {},
   "outputs": [],
   "source": [
    "second_summand_eq1 = second_summand.factor(psi_k_eq.rhs.summand.scalar)\n",
    "second_summand_eq1.proven({j_in_domain})"
   ]
  },
  {
   "cell_type": "code",
   "execution_count": null,
   "metadata": {},
   "outputs": [],
   "source": [
    "second_summand_eq2 = second_summand_eq1.rhs.factor(second_summand.factors[1].scalar).sub_right_side_into(second_summand_eq1)\n",
    "second_summand_eq2.proven({j_in_domain})"
   ]
  },
  {
   "cell_type": "code",
   "execution_count": null,
   "metadata": {},
   "outputs": [],
   "source": [
    "expand_register_with_one_ket"
   ]
  },
  {
   "cell_type": "code",
   "execution_count": null,
   "metadata": {},
   "outputs": [],
   "source": [
    "second_summand_eq3 = expand_register_with_one_ket.instantiate({n:k, k:j}).instantiate().sub_left_side_into(second_summand_eq2)\n",
    "second_summand_eq3.proven({k_in_nats_pos, j_in_domain})"
   ]
  },
  {
   "cell_type": "code",
   "execution_count": null,
   "metadata": {},
   "outputs": [],
   "source": [
    "second_sum_factor = second_summand_eq3.rhs.scalar\n",
    "second_sum_factor"
   ]
  },
  {
   "cell_type": "code",
   "execution_count": null,
   "metadata": {},
   "outputs": [],
   "source": [
    "second_sum_factor_eq1 = second_sum_factor.distribute(assumptions={k_in_nats_pos, j_in_domain})\n",
    "second_sum_factor_eq1.proven({k_in_nats_pos, j_in_domain})"
   ]
  },
  {
   "cell_type": "code",
   "execution_count": null,
   "metadata": {},
   "outputs": [],
   "source": [
    "second_sum_factor_eq2 = second_sum_factor_eq1.rhs.numerator.combine_exponents(assumptions={k_in_nats_pos, j_in_domain}).sub_right_side_into(second_sum_factor_eq1)\n",
    "second_sum_factor_eq2.proven({k_in_nats_pos, j_in_domain})"
   ]
  },
  {
   "cell_type": "code",
   "execution_count": null,
   "metadata": {},
   "outputs": [],
   "source": [
    "second_sum_factor_eq3 = second_sum_factor_eq2.rhs.denominator.combine_exponents(assumptions={k_in_nats_pos, j_in_domain}).sub_right_side_into(second_sum_factor_eq2)\n",
    "second_sum_factor_eq3.proven({k_in_nats_pos, j_in_domain})"
   ]
  },
  {
   "cell_type": "code",
   "execution_count": null,
   "metadata": {},
   "outputs": [],
   "source": [
    "second_sum_factor_eq4 = auto_substitute(second_sum_factor_eq3, 'factor', [Multiply(two, pi, i, phase_)], {'assumptions':{k_in_nats_pos, j_in_domain}}, super_expr=second_sum_factor_eq3.rhs, suppress_warnings=True)\n",
    "second_sum_factor_eq4.proven({k_in_nats_pos, j_in_domain})"
   ]
  },
  {
   "cell_type": "code",
   "execution_count": null,
   "metadata": {},
   "outputs": [],
   "source": [
    "second_sum_factor_eq5 = auto_substitute(second_sum_factor_eq4, 'combine_exponents', [], {'assumptions':{k_in_nats_pos, j_in_domain}}, super_expr=second_sum_factor_eq4.rhs.denominator, suppress_warnings=True)\n",
    "second_sum_factor_eq5.proven({k_in_nats_pos, j_in_domain})"
   ]
  },
  {
   "cell_type": "code",
   "execution_count": null,
   "metadata": {},
   "outputs": [],
   "source": [
    "second_sum_factor_eq6 = auto_substitute(second_sum_factor_eq5, 'ungroup', [0], {'assumptions':{k_in_nats_pos, j_in_domain}}, super_expr=second_sum_factor_eq5.rhs.numerator, suppress_warnings=True)\n",
    "second_sum_factor_eq6.proven({k_in_nats_pos, j_in_domain})"
   ]
  },
  {
   "cell_type": "code",
   "execution_count": null,
   "metadata": {},
   "outputs": [],
   "source": [
    "second_summand_eq4 = second_sum_factor_eq6.sub_right_side_into(second_summand_eq3)\n",
    "second_summand_eq4.proven({k_in_nats_pos, j_in_domain})"
   ]
  },
  {
   "cell_type": "code",
   "execution_count": null,
   "metadata": {},
   "outputs": [],
   "source": [
    "generalized_second_summand_eq = second_summand_eq4.generalize(j, domain=j_in_domain.domain)\n",
    "generalized_second_summand_eq.proven({k_in_nats_pos})"
   ]
  },
  {
   "cell_type": "code",
   "execution_count": null,
   "metadata": {},
   "outputs": [],
   "source": [
    "merger9 = merger8.rhs.terms[1].instance_substitution(generalized_second_summand_eq).sub_right_side_into(merger8)\n",
    "merger9.proven({k_in_nats_pos, psi_k_eq})"
   ]
  },
  {
   "cell_type": "code",
   "execution_count": null,
   "metadata": {},
   "outputs": [],
   "source": [
    "second_term_eq1 = merger9.rhs.terms[1].shift(Exponentiate(two, k), {k_in_nats_pos})\n",
    "second_term_eq1.proven({k_in_nats_pos})"
   ]
  },
  {
   "cell_type": "code",
   "execution_count": null,
   "metadata": {},
   "outputs": [],
   "source": [
    "second_term_eq2 = auto_substitute(second_term_eq1, 'simplification', [], {'assumptions':{k_in_nats_pos}}, super_expr=second_term_eq1.rhs.domain.lower_bound, suppress_warnings=True)\n",
    "second_term_eq2.proven({k_in_nats_pos})"
   ]
  },
  {
   "cell_type": "code",
   "execution_count": null,
   "metadata": {},
   "outputs": [],
   "source": [
    "cancel_sub_then_add"
   ]
  },
  {
   "cell_type": "code",
   "execution_count": null,
   "metadata": {},
   "outputs": [],
   "source": [
    "second_term_eq2.rhs.domain.deduce_member_in_integer(j, {k_in_nats_pos})\n",
    "deduce_in_complex(j, {k_in_nats_pos, In(j, second_term_eq2.rhs.domain)})\n",
    "deduce_in_complex(Exponentiate(two, k), {k_in_nats_pos})\n",
    "j_cancellation = cancel_sub_then_add.instantiate({a:j, b:Exponentiate(two, k)})\n",
    "j_cancellation.proven({k_in_nats_pos, In(j, second_term_eq2.rhs.domain)})"
   ]
  },
  {
   "cell_type": "code",
   "execution_count": null,
   "metadata": {},
   "outputs": [],
   "source": [
    "summand_cancellation = j_cancellation.substitution(second_term_eq2.rhs.summand).generalize(j, domain=second_term_eq2.rhs.domain)\n",
    "summand_cancellation.proven({k_in_nats_pos, In(j, second_term_eq2.rhs.domain)})"
   ]
  },
  {
   "cell_type": "code",
   "execution_count": null,
   "metadata": {},
   "outputs": [],
   "source": [
    "second_term_eq3 = second_term_eq2.rhs.instance_substitution(summand_cancellation).sub_right_side_into(second_term_eq2)\n",
    "second_term_eq3.proven({k_in_nats_pos})"
   ]
  },
  {
   "cell_type": "code",
   "execution_count": null,
   "metadata": {},
   "outputs": [],
   "source": [
    "merger10 = second_term_eq3.sub_right_side_into(merger9)\n",
    "merger10.proven({k_in_nats_pos, psi_k_eq})"
   ]
  },
  {
   "cell_type": "code",
   "execution_count": null,
   "metadata": {},
   "outputs": [],
   "source": [
    "two_pow_k = Exponentiate(two, k)\n",
    "deduce_in_natural_pos(two_pow_k, {k_in_nats_pos})\n",
    "two_pow_k__geq__one = NaturalPos.deduce_member_lower_bound(merger10.rhs.terms[1].domain.lower_bound).proven({k_in_nats_pos})\n",
    "display(zero_add_one.sub_right_side_into(zero_add_one.lhs.deduce_strict_increase(0)).apply_transitivity(two_pow_k__geq__one).derive_reversed().proven({k_in_nats_pos}))"
   ]
  },
  {
   "cell_type": "code",
   "execution_count": null,
   "metadata": {},
   "outputs": [],
   "source": [
    "merger10.rhs.terms[1].domain.upper_bound.deduce_strict_increase(0, {k_in_nats_pos}).derive_reversed().proven({k_in_nats_pos})\n",
    "deduce_in_integer([merger10.rhs.terms[1].domain.lower_bound, merger10.rhs.terms[1].domain.upper_bound], {k_in_nats_pos})\n",
    "shift_less_than_to_less_than_equals.instantiate({a:two_pow_k, b:merger10.rhs.terms[1].domain.upper_bound}).proven({k_in_nats_pos})"
   ]
  },
  {
   "cell_type": "code",
   "execution_count": null,
   "metadata": {},
   "outputs": [],
   "source": [
    "merger11 = merger10.rhs.join(assumptions={k_in_nats_pos}).sub_right_side_into(merger10)\n",
    "merger11.proven({k_in_nats_pos, psi_k_eq})"
   ]
  },
  {
   "cell_type": "code",
   "execution_count": null,
   "metadata": {},
   "outputs": [],
   "source": [
    "add_twice"
   ]
  },
  {
   "cell_type": "code",
   "execution_count": null,
   "metadata": {},
   "outputs": [],
   "source": [
    "new_upper_bound_eq1 = add_twice.instantiate({a:Exponentiate(two, k)})\n",
    "new_upper_bound_eq1.proven({k_in_nats_pos})"
   ]
  },
  {
   "cell_type": "code",
   "execution_count": null,
   "metadata": {},
   "outputs": [],
   "source": [
    "new_upper_bound_eq2 = new_upper_bound_eq1.rhs.combine_exponents(assumptions={k_in_nats_pos}).sub_right_side_into(new_upper_bound_eq1)\n",
    "new_upper_bound_eq2.proven({k_in_nats_pos})"
   ]
  },
  {
   "cell_type": "code",
   "execution_count": null,
   "metadata": {},
   "outputs": [],
   "source": [
    "new_upper_bound_eq3 = new_upper_bound_eq2.rhs.exponent.commute(assumptions={k_in_nats_pos}).sub_right_side_into(new_upper_bound_eq2)\n",
    "new_upper_bound_eq3.proven({k_in_nats_pos})"
   ]
  },
  {
   "cell_type": "code",
   "execution_count": null,
   "metadata": {},
   "outputs": [],
   "source": [
    "new_upper_bound_eq4 = new_upper_bound_eq3.substitution(subtract(X, one), X)\n",
    "new_upper_bound_eq4.proven({k_in_nats_pos})"
   ]
  },
  {
   "cell_type": "code",
   "execution_count": null,
   "metadata": {},
   "outputs": [],
   "source": [
    "new_upper_bound_eq5 = new_upper_bound_eq4.lhs.convert_to_add({k_in_nats_pos}).sub_right_side_into(new_upper_bound_eq4)\n",
    "new_upper_bound_eq5.proven({k_in_nats_pos})"
   ]
  },
  {
   "cell_type": "code",
   "execution_count": null,
   "metadata": {},
   "outputs": [],
   "source": [
    "new_upper_bound_eq6 = new_upper_bound_eq5.lhs.ungroup(0, {k_in_nats_pos}).sub_right_side_into(new_upper_bound_eq5)\n",
    "new_upper_bound_eq6.proven({k_in_nats_pos})"
   ]
  },
  {
   "cell_type": "code",
   "execution_count": null,
   "metadata": {},
   "outputs": [],
   "source": [
    "new_upper_bound_eq7 = new_upper_bound_eq6.lhs.commute(1, 2, 2, assumptions={k_in_nats_pos}).sub_right_side_into(new_upper_bound_eq6)\n",
    "new_upper_bound_eq7.proven({k_in_nats_pos})"
   ]
  },
  {
   "cell_type": "code",
   "execution_count": null,
   "metadata": {},
   "outputs": [],
   "source": [
    "new_upper_bound_eq8 = new_upper_bound_eq7.lhs.group(0, 2, assumptions={k_in_nats_pos}).sub_right_side_into(new_upper_bound_eq7)\n",
    "new_upper_bound_eq8.proven({k_in_nats_pos})"
   ]
  },
  {
   "cell_type": "code",
   "execution_count": null,
   "metadata": {},
   "outputs": [],
   "source": [
    "new_upper_bound_eq9 = new_upper_bound_eq8.lhs.terms[0].subtraction_folding(assumptions={k_in_nats_pos}).sub_right_side_into(new_upper_bound_eq8)\n",
    "new_upper_bound_eq9.proven({k_in_nats_pos})"
   ]
  },
  {
   "cell_type": "code",
   "execution_count": null,
   "metadata": {},
   "outputs": [],
   "source": [
    "merger12 = new_upper_bound_eq9.sub_right_side_into(merger11)\n",
    "merger12.proven({k_in_nats_pos, psi_k_eq})"
   ]
  },
  {
   "cell_type": "code",
   "execution_count": null,
   "metadata": {},
   "outputs": [],
   "source": [
    "psi_k_eq"
   ]
  },
  {
   "cell_type": "code",
   "execution_count": null,
   "metadata": {},
   "outputs": [],
   "source": [
    "naturals_pos_induction"
   ]
  },
  {
   "cell_type": "code",
   "execution_count": null,
   "metadata": {},
   "outputs": [],
   "source": [
    "psi_k_induction = Implies(psi_k_eq, merger12).generalize(k, domain=NaturalPos)\n",
    "psi_k_induction.proven()"
   ]
  },
  {
   "cell_type": "code",
   "execution_count": null,
   "metadata": {},
   "outputs": [],
   "source": [
    "induction_spec = naturals_pos_induction.instantiate({Operation(P, k):psi_k_eq, n:k})\n",
    "induction_spec.proven()"
   ]
  },
  {
   "cell_type": "code",
   "execution_count": null,
   "metadata": {},
   "outputs": [],
   "source": [
    "psi1_eq2.proven()"
   ]
  },
  {
   "cell_type": "code",
   "execution_count": null,
   "metadata": {},
   "outputs": [],
   "source": [
    "psi1_eq3 = Exponentiate(two, one).simplification().substitution(sqrt(X), X).sub_left_side_into(psi1_eq2)\n",
    "psi1_eq3.proven()"
   ]
  },
  {
   "cell_type": "code",
   "execution_count": null,
   "metadata": {},
   "outputs": [],
   "source": [
    "base_case_upper_bound = subtract(Exponentiate(two, one), one)\n",
    "base_case_upper_bound"
   ]
  },
  {
   "cell_type": "code",
   "execution_count": null,
   "metadata": {},
   "outputs": [],
   "source": [
    "base_case_upper_bound_eq1 = base_case_upper_bound.operands[0].simplification().substitution(base_case_upper_bound)\n",
    "base_case_upper_bound_eq1.proven()"
   ]
  },
  {
   "cell_type": "code",
   "execution_count": null,
   "metadata": {},
   "outputs": [],
   "source": [
    "base_case_upper_bound_eq2 = two_sub_one.sub_right_side_into(base_case_upper_bound_eq1)\n",
    "base_case_upper_bound_eq2"
   ]
  },
  {
   "cell_type": "code",
   "execution_count": null,
   "metadata": {},
   "outputs": [],
   "source": [
    "psi_k_baseCase = base_case_upper_bound_eq2.derive_reversed().substitution(DiscreteContiguousSet(zero, one)).sub_right_side_into(psi1_eq3)\n",
    "psi_k_baseCase.proven()"
   ]
  },
  {
   "cell_type": "code",
   "execution_count": null,
   "metadata": {},
   "outputs": [],
   "source": [
    "compose(psi_k_baseCase, psi_k_induction).proven()"
   ]
  },
  {
   "cell_type": "code",
   "execution_count": null,
   "metadata": {},
   "outputs": [],
   "source": [
    "induced_psi_k = induction_spec.derive_conclusion()\n",
    "induced_psi_k.proven()"
   ]
  },
  {
   "cell_type": "code",
   "execution_count": null,
   "metadata": {},
   "outputs": [],
   "source": [
    "display(psi_kets_in_q_reg_space.instantiate({k:t_}).proven())\n",
    "psi_t_eq = induced_psi_k.instantiate({k:t_, j:k})\n",
    "display(psi_t_eq.proven())"
   ]
  },
  {
   "cell_type": "code",
   "execution_count": null,
   "metadata": {},
   "outputs": [],
   "source": [
    "final_q_p_e"
   ]
  },
  {
   "cell_type": "code",
   "execution_count": null,
   "metadata": {},
   "outputs": [],
   "source": [
    "inv_f_tin_s_u"
   ]
  },
  {
   "cell_type": "code",
   "execution_count": null,
   "metadata": {},
   "outputs": [],
   "source": [
    "inv_f_tin_s_u.instantiate({n:t_})"
   ]
  },
  {
   "cell_type": "code",
   "execution_count": null,
   "metadata": {},
   "outputs": [],
   "source": [
    "circuit_multi_gate_application"
   ]
  },
  {
   "cell_type": "code",
   "execution_count": null,
   "metadata": {},
   "outputs": [],
   "source": [
    "Psi_eq1 = circuit_multi_gate_application.instantiate({n:t_}).instantiate({U:InverseFourierTransform(t_)}).instantiate({x:Ket(psi_t), y:Ket(Psi_)}).derive_right()\n",
    "Psi_eq1.proven()"
   ]
  },
  {
   "cell_type": "code",
   "execution_count": null,
   "metadata": {},
   "outputs": [],
   "source": [
    "alpha_def"
   ]
  },
  {
   "cell_type": "code",
   "execution_count": null,
   "metadata": {},
   "outputs": [],
   "source": [
    "l_in_ints = In(l, Integer)\n",
    "l_in_ints"
   ]
  },
  {
   "cell_type": "code",
   "execution_count": null,
   "metadata": {},
   "outputs": [],
   "source": [
    "mod_add_def"
   ]
  },
  {
   "cell_type": "code",
   "execution_count": null,
   "metadata": {},
   "outputs": [],
   "source": [
    "b_modadd_l_unfolded = mod_add_def.instantiate({a:b_, b:l})\n",
    "b_modadd_l_unfolded.proven({l_in_ints})"
   ]
  },
  {
   "cell_type": "code",
   "execution_count": null,
   "metadata": {},
   "outputs": [],
   "source": [
    "b_modadd_l_unfolded.sub_left_side_into(b_modadd_l_unfolded.rhs.deduce_in_interval({l_in_ints})).proven({l_in_ints})"
   ]
  },
  {
   "cell_type": "code",
   "execution_count": null,
   "metadata": {},
   "outputs": [],
   "source": [
    "alpha_eq1 = alpha_def.instantiate()\n",
    "alpha_eq1.proven({l_in_ints})"
   ]
  },
  {
   "cell_type": "code",
   "execution_count": null,
   "metadata": {},
   "outputs": [],
   "source": [
    "alpha_eq2 = Psi_eq1.sub_right_side_into(alpha_eq1)\n",
    "alpha_eq2.proven({l_in_ints})"
   ]
  },
  {
   "cell_type": "code",
   "execution_count": null,
   "metadata": {},
   "outputs": [],
   "source": [
    "alpha_eq3 = psi_t_eq.sub_right_side_into(alpha_eq2)\n",
    "alpha_eq3.proven({l_in_ints})"
   ]
  },
  {
   "cell_type": "code",
   "execution_count": null,
   "metadata": {},
   "outputs": [],
   "source": [
    "register_bra_over_summed_ket"
   ]
  },
  {
   "cell_type": "code",
   "execution_count": null,
   "metadata": {},
   "outputs": [],
   "source": [
    "psi_t_summand_scalar = psi_t_eq.rhs.summand.scalar\n",
    "psi_t_summand_scalar"
   ]
  },
  {
   "cell_type": "code",
   "execution_count": null,
   "metadata": {},
   "outputs": [],
   "source": [
    "alpha_eq3_rhs_eq = register_bra_over_summed_ket.instantiate({n:t_}).instantiate({U:InverseFourierTransform(t_)}).instantiate({l:ModAdd(b_, l)}).instantiate({Operation(f, k):psi_t_summand_scalar})\n",
    "alpha_eq3_rhs_eq.proven({l_in_ints})"
   ]
  },
  {
   "cell_type": "code",
   "execution_count": null,
   "metadata": {},
   "outputs": [],
   "source": [
    "alpha_eq4 = alpha_eq3.apply_transitivity(alpha_eq3_rhs_eq)\n",
    "alpha_eq4.proven({l_in_ints})"
   ]
  },
  {
   "cell_type": "code",
   "execution_count": null,
   "metadata": {},
   "outputs": [],
   "source": [
    "inv_f_ton_matrix_elem"
   ]
  },
  {
   "cell_type": "code",
   "execution_count": null,
   "metadata": {},
   "outputs": [],
   "source": [
    "k_in_domain = In(k, alpha_eq4.rhs.domain)\n",
    "k_in_domain"
   ]
  },
  {
   "cell_type": "code",
   "execution_count": null,
   "metadata": {},
   "outputs": [],
   "source": [
    "inv_f_ton_matrix_elem_spec = inv_f_ton_matrix_elem.instantiate({n:t_}).instantiate({l:ModAdd(b_, l)})\n",
    "inv_f_ton_matrix_elem_spec.proven({l_in_ints, k_in_domain})"
   ]
  },
  {
   "cell_type": "code",
   "execution_count": null,
   "metadata": {},
   "outputs": [],
   "source": [
    "summand_sub1 = inv_f_ton_matrix_elem_spec.substitution(alpha_eq4.rhs.summand)\n",
    "summand_sub1.proven({l_in_ints, k_in_domain})"
   ]
  },
  {
   "cell_type": "code",
   "execution_count": null,
   "metadata": {},
   "outputs": [],
   "source": [
    "k_in_domain.domain.deduce_member_in_integer(k)\n",
    "summand_sub2 = summand_sub1.rhs.ungroup(1, {l_in_ints, k_in_domain}).sub_right_side_into(summand_sub1)\n",
    "summand_sub2.proven({l_in_ints, k_in_domain})"
   ]
  },
  {
   "cell_type": "code",
   "execution_count": null,
   "metadata": {},
   "outputs": [],
   "source": [
    "k_phase_factor = summand_sub2.rhs.operands[0].numerator\n",
    "k_phase_factor"
   ]
  },
  {
   "cell_type": "code",
   "execution_count": null,
   "metadata": {},
   "outputs": [],
   "source": [
    "root_two_pow_t = sqrt(Exponentiate(two, t_))\n",
    "root_two_pow_t"
   ]
  },
  {
   "cell_type": "code",
   "execution_count": null,
   "metadata": {},
   "outputs": [],
   "source": [
    "k_phase_factor_dist = Multiply(k_phase_factor, frac(one, root_two_pow_t)).distribute(1, assumptions={k_in_domain})\n",
    "k_phase_factor_dist.proven({k_in_domain})"
   ]
  },
  {
   "cell_type": "code",
   "execution_count": null,
   "metadata": {},
   "outputs": [],
   "source": [
    "summand_sub3 = k_phase_factor_dist.derive_reversed().substitution(summand_sub2.rhs).sub_right_side_into(summand_sub2)\n",
    "summand_sub3.proven({l_in_ints, k_in_domain})"
   ]
  },
  {
   "cell_type": "code",
   "execution_count": null,
   "metadata": {},
   "outputs": [],
   "source": [
    "summand_sub4 = summand_sub3.rhs.ungroup(0, assumptions={l_in_ints, k_in_domain}).sub_right_side_into(summand_sub3)\n",
    "summand_sub4.proven({l_in_ints, k_in_domain})"
   ]
  },
  {
   "cell_type": "code",
   "execution_count": null,
   "metadata": {},
   "outputs": [],
   "source": [
    "summand_sub5 = summand_sub4.rhs.commute(0, 1, 4, None, assumptions={l_in_ints, k_in_domain}).sub_right_side_into(summand_sub4)\n",
    "summand_sub5.proven({l_in_ints, k_in_domain})"
   ]
  },
  {
   "cell_type": "code",
   "execution_count": null,
   "metadata": {},
   "outputs": [],
   "source": [
    "summand_sub6 = summand_sub5.rhs.group(0, 2, assumptions={l_in_ints, k_in_domain}).sub_right_side_into(summand_sub5)\n",
    "summand_sub6.proven({l_in_ints, k_in_domain})"
   ]
  },
  {
   "cell_type": "code",
   "execution_count": null,
   "metadata": {},
   "outputs": [],
   "source": [
    "summand_sub7 = frac(one, Multiply(root_two_pow_t, root_two_pow_t)).factor(Fraction(one, root_two_pow_t)).sub_left_side_into(summand_sub6)\n",
    "summand_sub7.proven({l_in_ints, k_in_domain})"
   ]
  },
  {
   "cell_type": "code",
   "execution_count": null,
   "metadata": {},
   "outputs": [],
   "source": [
    "sqrt_times_itself"
   ]
  },
  {
   "cell_type": "code",
   "execution_count": null,
   "metadata": {},
   "outputs": [],
   "source": [
    "deduce_in_real(Exponentiate(two, t_))\n",
    "deduce_positive(Exponentiate(two, t_)).derive_relaxed()\n",
    "summand_sub8 = sqrt_times_itself.instantiate({x:Exponentiate(two, t_)}).sub_right_side_into(summand_sub7)\n",
    "summand_sub8.proven({l_in_ints, k_in_domain})"
   ]
  },
  {
   "cell_type": "code",
   "execution_count": null,
   "metadata": {},
   "outputs": [],
   "source": [
    "generalized_summand_sub = summand_sub8.generalize(k, domain=k_in_domain.domain)\n",
    "generalized_summand_sub.proven({l_in_ints})"
   ]
  },
  {
   "cell_type": "code",
   "execution_count": null,
   "metadata": {},
   "outputs": [],
   "source": [
    "alpha_eq5 = alpha_eq4.apply_transitivity(alpha_eq4.rhs.instance_substitution(generalized_summand_sub))\n",
    "alpha_eq5.proven({l_in_ints})"
   ]
  },
  {
   "cell_type": "code",
   "execution_count": null,
   "metadata": {},
   "outputs": [],
   "source": [
    "alpha_eq6 = alpha_eq5.apply_transitivity(alpha_eq5.rhs.factor(frac(one, Exponentiate(two, t_)), assumptions={l_in_ints}))\n",
    "alpha_eq6.proven({l_in_ints})"
   ]
  },
  {
   "cell_type": "code",
   "execution_count": null,
   "metadata": {},
   "outputs": [],
   "source": [
    "alpha_eq6.generalize(l, domain=Integer).qed()"
   ]
  },
  {
   "cell_type": "code",
   "execution_count": null,
   "metadata": {},
   "outputs": [],
   "source": []
  }
 ],
 "metadata": {
  "kernelspec": {
   "display_name": "Python 3",
   "language": "python",
   "name": "python3"
  }
 },
 "nbformat": 4,
 "nbformat_minor": 0
}
