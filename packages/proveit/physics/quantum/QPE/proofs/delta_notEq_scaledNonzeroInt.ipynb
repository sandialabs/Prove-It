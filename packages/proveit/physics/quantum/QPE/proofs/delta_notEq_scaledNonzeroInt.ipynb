{
 "cells": [
  {
   "cell_type": "code",
   "execution_count": null,
   "metadata": {},
   "outputs": [],
   "source": [
    "from proveit.basiclogic import In, Implies, FALSE, Equals, NotEquals, auto_substitute\n",
    "from proveit.physics.quantum.QPE.theorems import delta_not_eq_scaledNonzeroInt, scaled_delta_not_eq_nonzeroInt, two_pow_t_is_nat_pos\n",
    "from proveit.physics.quantum.QPE.common import two_pow_t, delta_\n",
    "from proveit.numbers.real.theorems import div_ineq_thm1\n",
    "from proveit.numbers import Integer\n",
    "from proveit.numbers.number import zero\n",
    "from proveit.numbers import Multiply, frac\n",
    "from proveit.common import l, X\n",
    "from IPython.display import display"
   ]
  },
  {
   "cell_type": "code",
   "execution_count": null,
   "metadata": {},
   "outputs": [],
   "source": [
    "delta_not_eq_scaledNonzeroInt.begin_proof()"
   ]
  },
  {
   "cell_type": "code",
   "execution_count": null,
   "metadata": {},
   "outputs": [],
   "source": [
    "l_in_ints = In(l, Integer)\n",
    "l_not_zero = NotEquals(l, zero)\n",
    "assumptions = {l_in_ints, l_not_zero}\n",
    "display(l_in_ints)\n",
    "display(l_not_zero)"
   ]
  },
  {
   "cell_type": "code",
   "execution_count": null,
   "metadata": {},
   "outputs": [],
   "source": [
    "scaled_delta_not_eq_nonzeroInt"
   ]
  },
  {
   "cell_type": "code",
   "execution_count": null,
   "metadata": {},
   "outputs": [],
   "source": [
    "contradiction0 = Equals(delta_, frac(l, two_pow_t))\n",
    "contradiction0"
   ]
  },
  {
   "cell_type": "code",
   "execution_count": null,
   "metadata": {},
   "outputs": [],
   "source": [
    "contradiction1 = contradiction0.substitution(Multiply(two_pow_t, X), X)\n",
    "contradiction1.proven({contradiction0})"
   ]
  },
  {
   "cell_type": "code",
   "execution_count": null,
   "metadata": {},
   "outputs": [],
   "source": [
    "contradiction2 = auto_substitute(contradiction1, 'distribute', [1], {'assumptions':assumptions}, super_expr=contradiction1.rhs)\n",
    "contradiction2.proven({contradiction0} | assumptions)"
   ]
  },
  {
   "cell_type": "code",
   "execution_count": null,
   "metadata": {},
   "outputs": [],
   "source": [
    "contradiction3 = auto_substitute(contradiction2, 'cancel', [two_pow_t], {'assumptions':assumptions}, super_expr=contradiction2.rhs)\n",
    "contradiction3.proven({contradiction0} | assumptions)"
   ]
  },
  {
   "cell_type": "code",
   "execution_count": null,
   "metadata": {},
   "outputs": [],
   "source": [
    "scaled_delta_not_eq_nonzeroInt.instantiate().unfold().derive_contradiction().derive_conclusion().proven({contradiction0} | assumptions)"
   ]
  },
  {
   "cell_type": "code",
   "execution_count": null,
   "metadata": {},
   "outputs": [],
   "source": [
    "contradiction0.deduce_in_bool()\n",
    "ineq = Implies(contradiction0, FALSE).derive_via_contradiction().derive_not_equals().proven(assumptions)\n",
    "ineq"
   ]
  },
  {
   "cell_type": "code",
   "execution_count": null,
   "metadata": {},
   "outputs": [],
   "source": [
    "ineq.generalize(l, domain=Integer, conditions=[NotEquals(l, zero)]).qed()"
   ]
  },
  {
   "cell_type": "code",
   "execution_count": null,
   "metadata": {},
   "outputs": [],
   "source": []
  },
  {
   "cell_type": "code",
   "execution_count": null,
   "metadata": {},
   "outputs": [],
   "source": []
  }
 ],
 "metadata": {
  "kernelspec": {
   "display_name": "Python 3",
   "language": "python",
   "name": "python3"
  }
 },
 "nbformat": 4,
 "nbformat_minor": 0
}
