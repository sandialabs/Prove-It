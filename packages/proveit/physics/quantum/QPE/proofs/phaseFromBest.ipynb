{
 "cells": [
  {
   "cell_type": "code",
   "execution_count": null,
   "metadata": {},
   "outputs": [],
   "source": [
    "from proveit.basiclogic import auto_substitute\n",
    "from proveit.physics.quantum.QPE.axioms import delta_def\n",
    "from proveit.physics.quantum.QPE.theorems import phase_from_best, two_pow_t_is_nat_pos, best_is_int, phase_is_real\n",
    "from proveit.physics.quantum.QPE.common import phase_\n",
    "from proveit.common import a, b, X\n",
    "from proveit.numbers import Add\n",
    "from proveit.numbers import deduce_in_complex\n",
    "from proveit.numbers.complex.theorems import cancel_sub_then_add"
   ]
  },
  {
   "cell_type": "code",
   "execution_count": null,
   "metadata": {},
   "outputs": [],
   "source": [
    "phase_from_best.begin_proof()"
   ]
  },
  {
   "cell_type": "code",
   "execution_count": null,
   "metadata": {},
   "outputs": [],
   "source": [
    "delta_def"
   ]
  },
  {
   "cell_type": "code",
   "execution_count": null,
   "metadata": {},
   "outputs": [],
   "source": [
    "b_term = delta_def.rhs.operands[1]\n",
    "b_term"
   ]
  },
  {
   "cell_type": "code",
   "execution_count": null,
   "metadata": {},
   "outputs": [],
   "source": [
    "X0 = delta_def.substitution(Add(b_term, X), X)\n",
    "X0.proven()"
   ]
  },
  {
   "cell_type": "code",
   "execution_count": null,
   "metadata": {},
   "outputs": [],
   "source": [
    "X1 = auto_substitute(X0, 'commute', [], super_expr=X0.rhs)\n",
    "X1.proven()"
   ]
  },
  {
   "cell_type": "code",
   "execution_count": null,
   "metadata": {},
   "outputs": [],
   "source": [
    "cancel_sub_then_add"
   ]
  },
  {
   "cell_type": "code",
   "execution_count": null,
   "metadata": {},
   "outputs": [],
   "source": [
    "deduce_in_complex(phase_)\n",
    "deduce_in_complex(b_term)\n",
    "X2 = cancel_sub_then_add.instantiate({a:phase_, b:b_term})\n",
    "X2.proven()"
   ]
  },
  {
   "cell_type": "code",
   "execution_count": null,
   "metadata": {},
   "outputs": [],
   "source": [
    "X3 = X1.apply_transitivity(X2)\n",
    "X3.proven()"
   ]
  },
  {
   "cell_type": "code",
   "execution_count": null,
   "metadata": {},
   "outputs": [],
   "source": [
    "X3.derive_reversed().qed()"
   ]
  },
  {
   "cell_type": "code",
   "execution_count": null,
   "metadata": {},
   "outputs": [],
   "source": []
  }
 ],
 "metadata": {
  "kernelspec": {
   "display_name": "Python 3",
   "language": "python",
   "name": "python3"
  }
 },
 "nbformat": 4,
 "nbformat_minor": 0
}
