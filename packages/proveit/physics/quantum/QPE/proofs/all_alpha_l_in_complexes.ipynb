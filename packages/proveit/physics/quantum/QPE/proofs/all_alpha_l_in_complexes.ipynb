{
 "cells": [
  {
   "cell_type": "code",
   "execution_count": null,
   "metadata": {},
   "outputs": [],
   "source": [
    "from proveit.basiclogic import In\n",
    "from proveit.physics.quantum.QPE.theorems import all_alpha_l_is_complex, best_is_int\n",
    "from proveit.physics.quantum.QPE.axioms import t_in_natural_pos, alpha_def, mod_add_def, PsiKetInQRegSpace\n",
    "from proveit.physics.quantum.QPE.common import two_pow_t, b_, t_, Psi_\n",
    "from proveit.physics.quantum.QPE.phase_est_ops import ModAdd\n",
    "from proveit.physics.quantum.theorems import register_qubit_complex_amplitude\n",
    "from proveit.common import a, b, k, l, n, Psi\n",
    "from proveit.numbers import Integer"
   ]
  },
  {
   "cell_type": "code",
   "execution_count": null,
   "metadata": {},
   "outputs": [],
   "source": [
    "all_alpha_l_is_complex.begin_proof()"
   ]
  },
  {
   "cell_type": "code",
   "execution_count": null,
   "metadata": {},
   "outputs": [],
   "source": [
    "l_in_ints = In(l, Integer)\n",
    "l_in_ints"
   ]
  },
  {
   "cell_type": "code",
   "execution_count": null,
   "metadata": {},
   "outputs": [],
   "source": [
    "alpha_def"
   ]
  },
  {
   "cell_type": "code",
   "execution_count": null,
   "metadata": {},
   "outputs": [],
   "source": [
    "alpha_def_spec = alpha_def.instantiate()\n",
    "alpha_def_spec.proven({l_in_ints})"
   ]
  },
  {
   "cell_type": "code",
   "execution_count": null,
   "metadata": {},
   "outputs": [],
   "source": [
    "mod_add_def"
   ]
  },
  {
   "cell_type": "code",
   "execution_count": null,
   "metadata": {},
   "outputs": [],
   "source": [
    "mod_add_unfolding = mod_add_def.instantiate({a:b_, b:l})\n",
    "mod_add_unfolding.proven({l_in_ints})"
   ]
  },
  {
   "cell_type": "code",
   "execution_count": null,
   "metadata": {},
   "outputs": [],
   "source": [
    "unfolded_mod_add_in_interval = mod_add_unfolding.rhs.deduce_in_interval({l_in_ints})\n",
    "unfolded_mod_add_in_interval.proven({l_in_ints})"
   ]
  },
  {
   "cell_type": "code",
   "execution_count": null,
   "metadata": {},
   "outputs": [],
   "source": [
    "mod_add_unfolding.sub_left_side_into(unfolded_mod_add_in_interval).proven({l_in_ints})"
   ]
  },
  {
   "cell_type": "code",
   "execution_count": null,
   "metadata": {},
   "outputs": [],
   "source": [
    "register_qubit_complex_amplitude"
   ]
  },
  {
   "cell_type": "code",
   "execution_count": null,
   "metadata": {},
   "outputs": [],
   "source": [
    "bra_ket_in_complex = register_qubit_complex_amplitude.instantiate({n:t_}).instantiate({k:ModAdd(b_, l)}).instantiate({Psi:Psi_})\n",
    "bra_ket_in_complex.proven({l_in_ints})"
   ]
  },
  {
   "cell_type": "code",
   "execution_count": null,
   "metadata": {},
   "outputs": [],
   "source": [
    "alpha_def_spec.sub_left_side_into(bra_ket_in_complex).generalize(l, domain=Integer).qed()"
   ]
  },
  {
   "cell_type": "code",
   "execution_count": null,
   "metadata": {},
   "outputs": [],
   "source": []
  }
 ],
 "metadata": {
  "kernelspec": {
   "display_name": "Python 3",
   "language": "python",
   "name": "python3"
  }
 },
 "nbformat": 4,
 "nbformat_minor": 0
}
