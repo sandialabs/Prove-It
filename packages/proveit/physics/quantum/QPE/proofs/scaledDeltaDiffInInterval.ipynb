{
 "cells": [
  {
   "cell_type": "code",
   "execution_count": null,
   "metadata": {},
   "outputs": [],
   "source": [
    "from proveit.basiclogic import In, auto_substitute\n",
    "from proveit.physics.quantum.QPE.theorems import scaled_delta_diff_in_interval, delta_diff_in_interval\n",
    "from proveit.physics.quantum.QPE.common import full_domain\n",
    "from proveit.common import l, x, y\n",
    "from proveit.numbers import Multiply, frac\n",
    "from proveit.numbers.common import one, two, pi\n",
    "from proveit.numbers import deduce_in_complex\n",
    "from proveit.numbers.complex.theorems import pos_times_neg\n",
    "from IPython.display import display"
   ]
  },
  {
   "cell_type": "code",
   "execution_count": null,
   "metadata": {},
   "outputs": [],
   "source": [
    "scaled_delta_diff_in_interval.begin_proof()"
   ]
  },
  {
   "cell_type": "code",
   "execution_count": null,
   "metadata": {},
   "outputs": [],
   "source": [
    "l_in_domain = In(l, full_domain)\n",
    "display(l_in_domain)"
   ]
  },
  {
   "cell_type": "code",
   "execution_count": null,
   "metadata": {},
   "outputs": [],
   "source": [
    "delta_diff_in_interval"
   ]
  },
  {
   "cell_type": "code",
   "execution_count": null,
   "metadata": {},
   "outputs": [],
   "source": [
    "delta_diff_in_interval_spec = delta_diff_in_interval.instantiate()\n",
    "display(delta_diff_in_interval_spec.proven({l_in_domain}))\n",
    "display(delta_diff_in_interval_spec.domain.deduce_member_in_real(delta_diff_in_interval_spec.element).proven({l_in_domain}))"
   ]
  },
  {
   "cell_type": "code",
   "execution_count": null,
   "metadata": {},
   "outputs": [],
   "source": [
    "scaled_delta_diff_in_domain0 = delta_diff_in_interval_spec.domain.deduce_relaxed_membership(delta_diff_in_interval_spec.element)\n",
    "scaled_delta_diff_in_domain0.proven({l_in_domain})"
   ]
  },
  {
   "cell_type": "code",
   "execution_count": null,
   "metadata": {},
   "outputs": [],
   "source": [
    "two_pi = Multiply(two, pi)\n",
    "scaled_delta_diff_in_domain1 = scaled_delta_diff_in_domain0.domain.deduce_rescaled_membership(scaled_delta_diff_in_domain0.element, two_pi)\n",
    "scaled_delta_diff_in_domain1.proven({l_in_domain})"
   ]
  },
  {
   "cell_type": "code",
   "execution_count": null,
   "metadata": {},
   "outputs": [],
   "source": [
    "scaled_delta_diff_in_domain2 = auto_substitute(scaled_delta_diff_in_domain1, 'ungroup', [0], {'assumptions':{l_in_domain}}, super_expr=scaled_delta_diff_in_domain1.element)\n",
    "scaled_delta_diff_in_domain2.proven({l_in_domain})"
   ]
  },
  {
   "cell_type": "code",
   "execution_count": null,
   "metadata": {},
   "outputs": [],
   "source": [
    "pos_times_neg"
   ]
  },
  {
   "cell_type": "code",
   "execution_count": null,
   "metadata": {},
   "outputs": [],
   "source": [
    "deduce_in_complex(two_pi)\n",
    "deduce_in_complex(frac(one, two))\n",
    "lower_bound_eqn = pos_times_neg.instantiate({x:two_pi, y:frac(one, two)})\n",
    "lower_bound_eqn.proven()"
   ]
  },
  {
   "cell_type": "code",
   "execution_count": null,
   "metadata": {},
   "outputs": [],
   "source": [
    "scaled_delta_diff_in_domain3 = lower_bound_eqn.sub_right_side_into(scaled_delta_diff_in_domain2)\n",
    "scaled_delta_diff_in_domain3.proven({l_in_domain})"
   ]
  },
  {
   "cell_type": "code",
   "execution_count": null,
   "metadata": {},
   "outputs": [],
   "source": [
    "scaled_delta_diff_in_domain4 = auto_substitute(scaled_delta_diff_in_domain3, 'distribute', [1], {'assumptions':{l_in_domain}}, super_expr=scaled_delta_diff_in_domain3.domain.upper_bound)\n",
    "scaled_delta_diff_in_domain4.proven({l_in_domain})"
   ]
  },
  {
   "cell_type": "code",
   "execution_count": null,
   "metadata": {},
   "outputs": [],
   "source": [
    "scaled_delta_diff_in_domain = auto_substitute(scaled_delta_diff_in_domain4, 'cancel', [two], {'assumptions':{l_in_domain}}, super_expr=scaled_delta_diff_in_domain4.domain.upper_bound)\n",
    "scaled_delta_diff_in_domain.proven({l_in_domain})"
   ]
  },
  {
   "cell_type": "code",
   "execution_count": null,
   "metadata": {},
   "outputs": [],
   "source": [
    "scaled_delta_diff_in_domain.generalize(l, domain=full_domain).qed()"
   ]
  },
  {
   "cell_type": "code",
   "execution_count": null,
   "metadata": {},
   "outputs": [],
   "source": []
  }
 ],
 "metadata": {
  "kernelspec": {
   "display_name": "Python 3",
   "language": "python",
   "name": "python3"
  }
 },
 "nbformat": 4,
 "nbformat_minor": 0
}
