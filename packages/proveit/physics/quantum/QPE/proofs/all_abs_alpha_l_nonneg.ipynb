{
 "cells": [
  {
   "cell_type": "code",
   "execution_count": null,
   "metadata": {},
   "outputs": [],
   "source": [
    "from proveit.basiclogic import In, compose\n",
    "from proveit.physics.quantum.QPE.theorems import all_abs_alpha_l_nonneg, all_alpha_l_is_complex\n",
    "from proveit.physics.quantum.QPE.common import l, alpha_l\n",
    "from proveit.common import a\n",
    "from proveit.numbers import Abs, Exponentiate\n",
    "from proveit.numbers.common import two\n",
    "from proveit.numbers.complex.theorems import abs_is_non_neg\n",
    "from proveit.numbers import Integer, Real, deduce_in_real"
   ]
  },
  {
   "cell_type": "code",
   "execution_count": null,
   "metadata": {},
   "outputs": [],
   "source": [
    "all_abs_alpha_l_nonneg.begin_proof()"
   ]
  },
  {
   "cell_type": "code",
   "execution_count": null,
   "metadata": {},
   "outputs": [],
   "source": [
    "l_in_ints = In(l, Integer)"
   ]
  },
  {
   "cell_type": "code",
   "execution_count": null,
   "metadata": {},
   "outputs": [],
   "source": [
    "all_alpha_l_is_complex"
   ]
  },
  {
   "cell_type": "code",
   "execution_count": null,
   "metadata": {},
   "outputs": [],
   "source": [
    "all_alpha_l_is_complex.instantiate().proven({l_in_ints})"
   ]
  },
  {
   "cell_type": "code",
   "execution_count": null,
   "metadata": {},
   "outputs": [],
   "source": [
    "abs_alpha_l_in_reals = deduce_in_real(Abs(alpha_l), {l_in_ints}).proven({l_in_ints})\n",
    "abs_alpha_l_in_reals"
   ]
  },
  {
   "cell_type": "code",
   "execution_count": null,
   "metadata": {},
   "outputs": [],
   "source": [
    "abs_is_non_neg"
   ]
  },
  {
   "cell_type": "code",
   "execution_count": null,
   "metadata": {},
   "outputs": [],
   "source": [
    "abs_alpha_l_in_nonneg = abs_is_non_neg.instantiate({a:alpha_l})\n",
    "abs_alpha_l_in_nonneg"
   ]
  },
  {
   "cell_type": "code",
   "execution_count": null,
   "metadata": {},
   "outputs": [],
   "source": [
    "compose(abs_alpha_l_in_reals, abs_alpha_l_in_nonneg).generalize(l, domain=Integer).qed()"
   ]
  },
  {
   "cell_type": "code",
   "execution_count": null,
   "metadata": {},
   "outputs": [],
   "source": []
  }
 ],
 "metadata": {
  "kernelspec": {
   "display_name": "Python 3",
   "language": "python",
   "name": "python3"
  }
 },
 "nbformat": 4,
 "nbformat_minor": 0
}
