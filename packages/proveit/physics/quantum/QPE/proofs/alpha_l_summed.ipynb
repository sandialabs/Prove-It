{
 "cells": [
  {
   "cell_type": "code",
   "execution_count": null,
   "metadata": {},
   "outputs": [],
   "source": [
    "from proveit.basiclogic import auto_substitute, auto_substitution, In, Equation, extract_sub_expr\n",
    "from proveit.common import a, b, k, l, r, x\n",
    "from proveit.numbers import Exponentiate, Add, subtract, Multiply, Summation\n",
    "from proveit.numbers import deduce_positive, deduce_in_complex\n",
    "from proveit.numbers.common import Complex, Integer, one, two, pi, i, e\n",
    "from proveit.physics.quantum.QPE.axioms import t_in_natural_pos, mod_add_def\n",
    "from proveit.physics.quantum.QPE.theorems import alpha_l_summed, phase_is_real, delta_is_real\n",
    "from proveit.physics.quantum.QPE.theorems import alpha_l_eval, best_is_int, phase_from_best, two_pow_t_less_one_is_nat_pos\n",
    "from proveit.physics.quantum.QPE.common import t_, b_, two_pow_t, phase_, delta_\n",
    "from proveit.physics.quantum.QPE.phase_est_ops import ModAdd\n",
    "from proveit.trigonometry.theorems import exp_neg2pi_i_x"
   ]
  },
  {
   "cell_type": "code",
   "execution_count": null,
   "metadata": {},
   "outputs": [],
   "source": [
    "alpha_l_summed.begin_proof()"
   ]
  },
  {
   "cell_type": "code",
   "execution_count": null,
   "metadata": {},
   "outputs": [],
   "source": [
    "alpha_l_eq1 = alpha_l_eval.instantiate()\n",
    "alpha_l_eq1"
   ]
  },
  {
   "cell_type": "code",
   "execution_count": null,
   "metadata": {},
   "outputs": [],
   "source": [
    "alpha_l_summation = alpha_l_eq1.rhs.operands[1]\n",
    "alpha_l_summation"
   ]
  },
  {
   "cell_type": "code",
   "execution_count": null,
   "metadata": {},
   "outputs": [],
   "source": [
    "k_domain = alpha_l_summation.domain\n",
    "k_domain"
   ]
  },
  {
   "cell_type": "code",
   "execution_count": null,
   "metadata": {},
   "outputs": [],
   "source": [
    "assumptions = {In(k, k_domain), In(l, Integer)}\n",
    "k_domain.deduce_member_in_integer(k, assumptions=assumptions).proven(assumptions)"
   ]
  },
  {
   "cell_type": "code",
   "execution_count": null,
   "metadata": {},
   "outputs": [],
   "source": [
    "equation = Equation()"
   ]
  },
  {
   "cell_type": "code",
   "execution_count": null,
   "metadata": {},
   "outputs": [],
   "source": [
    "equation.update(auto_substitution(alpha_l_summation.instance_expr, 'raise_exp_factor', [k], \n",
    "                                 {'assumptions':assumptions}, sub_expr_class=Exponentiate,\n",
    "                                 suppress_warnings=True)).proven(assumptions)"
   ]
  },
  {
   "cell_type": "code",
   "execution_count": null,
   "metadata": {},
   "outputs": [],
   "source": [
    "equation.update(auto_substitution(equation.eq_expr.rhs, 'raise_exp_factor', [k], {'assumptions':assumptions}, \n",
    "                        sub_expr_class=Exponentiate, suppress_warnings=True)).proven(assumptions)"
   ]
  },
  {
   "cell_type": "code",
   "execution_count": null,
   "metadata": {},
   "outputs": [],
   "source": [
    "mod_add_def_spec = mod_add_def.instantiate({a:b_, b:l})\n",
    "mod_add_def_spec"
   ]
  },
  {
   "cell_type": "code",
   "execution_count": null,
   "metadata": {},
   "outputs": [],
   "source": [
    "equation.update(mod_add_def_spec.substitution(equation.eq_expr.rhs)).proven(assumptions)"
   ]
  },
  {
   "cell_type": "code",
   "execution_count": null,
   "metadata": {},
   "outputs": [],
   "source": [
    "Add(b_, l).deduce_in_real(assumptions)\n",
    "two_pow_t.deduce_in_real()\n",
    "exp_neg2pi_i_x_spec = exp_neg2pi_i_x.instantiate({x:Add(b_, l), r:two_pow_t}).proven(assumptions)\n",
    "exp_neg2pi_i_x_spec"
   ]
  },
  {
   "cell_type": "code",
   "execution_count": null,
   "metadata": {},
   "outputs": [],
   "source": [
    "equation.update(exp_neg2pi_i_x_spec.substitution(equation.eq_expr.rhs)).proven(assumptions)"
   ]
  },
  {
   "cell_type": "code",
   "execution_count": null,
   "metadata": {},
   "outputs": [],
   "source": [
    "assumptions"
   ]
  },
  {
   "cell_type": "code",
   "execution_count": null,
   "metadata": {},
   "outputs": [],
   "source": [
    "equation.eq_expr.rhs"
   ]
  },
  {
   "cell_type": "code",
   "execution_count": null,
   "metadata": {},
   "outputs": [],
   "source": [
    "equation.update(equation.eq_expr.rhs.combine_exponents(assumptions=assumptions)).proven(assumptions)"
   ]
  },
  {
   "cell_type": "code",
   "execution_count": null,
   "metadata": {},
   "outputs": [],
   "source": [
    "equation.update(auto_substitution(equation.eq_expr.rhs, 'commute', [], {'assumptions':assumptions}, sub_expr_class=Multiply)).proven(assumptions)"
   ]
  },
  {
   "cell_type": "code",
   "execution_count": null,
   "metadata": {},
   "outputs": [],
   "source": [
    "equation.update(auto_substitution(equation.eq_expr.rhs, 'combine_exponents', [], {'assumptions':assumptions}, sub_expr_class=Multiply)).proven(assumptions)"
   ]
  },
  {
   "cell_type": "code",
   "execution_count": null,
   "metadata": {},
   "outputs": [],
   "source": [
    "equation.eq_expr.rhs.base.exponent.factor(Multiply(two, pi, i), assumptions=assumptions)"
   ]
  },
  {
   "cell_type": "code",
   "execution_count": null,
   "metadata": {},
   "outputs": [],
   "source": [
    "equation.update(auto_substitution(equation.eq_expr.rhs, 'factor', [Multiply(two, pi, i)], {'assumptions':assumptions}, sub_expr_class=Subtract)).proven(assumptions)"
   ]
  },
  {
   "cell_type": "code",
   "execution_count": null,
   "metadata": {},
   "outputs": [],
   "source": [
    "equivalence_forall_instances = equation.eq_expr.generalize(k, domain=k_domain).proven(assumptions)\n",
    "equivalence_forall_instances"
   ]
  },
  {
   "cell_type": "code",
   "execution_count": null,
   "metadata": {},
   "outputs": [],
   "source": [
    "summation_equivalence = alpha_l_summation.instance_substitution(equivalence_forall_instances).proven(assumptions)\n",
    "summation_equivalence"
   ]
  },
  {
   "cell_type": "code",
   "execution_count": null,
   "metadata": {},
   "outputs": [],
   "source": [
    "alpha_l_eq2 = summation_equivalence.sub_right_side_into(alpha_l_eq1).proven(assumptions)\n",
    "alpha_l_eq2"
   ]
  },
  {
   "cell_type": "code",
   "execution_count": null,
   "metadata": {},
   "outputs": [],
   "source": [
    "alpha_l_eq3 = phase_from_best.sub_right_side_into(alpha_l_eq2).proven(assumptions)\n",
    "alpha_l_eq3"
   ]
  },
  {
   "cell_type": "code",
   "execution_count": null,
   "metadata": {},
   "outputs": [],
   "source": [
    "extract_sub_expr(alpha_l_eq3, sub_expr_class=Summation)"
   ]
  },
  {
   "cell_type": "code",
   "execution_count": null,
   "metadata": {},
   "outputs": [],
   "source": [
    "phase1 = extract_sub_expr(extract_sub_expr(alpha_l_eq3, sub_expr_class=Summation).summand, sub_expr_class=Subtract)\n",
    "phase1"
   ]
  },
  {
   "cell_type": "code",
   "execution_count": null,
   "metadata": {},
   "outputs": [],
   "source": [
    "phase_eq = Equation(phase1.operands[1].distribute(assumptions=assumptions).substitution(phase1))\n",
    "phase_eq.eq_expr.proven(assumptions)"
   ]
  },
  {
   "cell_type": "code",
   "execution_count": null,
   "metadata": {},
   "outputs": [],
   "source": [
    "phase_eq.update(phase_eq.eq_expr.rhs.cancel(assumptions=assumptions)).proven(assumptions)"
   ]
  },
  {
   "cell_type": "code",
   "execution_count": null,
   "metadata": {},
   "outputs": [],
   "source": [
    "alpha_l_eq4 = phase_eq.eq_expr.sub_right_side_into(alpha_l_eq3)\n",
    "alpha_l_eq4.proven(assumptions)"
   ]
  },
  {
   "cell_type": "code",
   "execution_count": null,
   "metadata": {},
   "outputs": [],
   "source": [
    "deduce_positive(subtract(two_pow_t, one)).derive_reversed().proven(assumptions)"
   ]
  },
  {
   "cell_type": "code",
   "execution_count": null,
   "metadata": {},
   "outputs": [],
   "source": [
    "alpha_l_eq5 = auto_substitute(alpha_l_eq4, 'reduce_geom_sum', [], {'assumptions':assumptions}, sub_expr_class=Summation)\n",
    "alpha_l_eq5.proven(assumptions)"
   ]
  },
  {
   "cell_type": "code",
   "execution_count": null,
   "metadata": {},
   "outputs": [],
   "source": [
    "alpha_l_eq6 = auto_substitute(alpha_l_eq5, 'simplification', [], {'assumptions':assumptions}, sub_expr_class=Exponentiate, suppress_warnings=True)\n",
    "alpha_l_eq6.proven(assumptions)"
   ]
  },
  {
   "cell_type": "code",
   "execution_count": null,
   "metadata": {},
   "outputs": [],
   "source": [
    "from proveit.numbers.complex.theorems import cancel_sub_then_add\n",
    "from proveit.numbers.common import a, b\n",
    "deduce_in_complex([two_pow_t, one])\n",
    "exponent_simplification = cancel_sub_then_add.instantiate({a:two_pow_t, b:one}).proven(assumptions)\n",
    "alpha_l_eq7 = exponent_simplification.sub_right_side_into(alpha_l_eq6)\n",
    "alpha_l_eq7"
   ]
  },
  {
   "cell_type": "code",
   "execution_count": null,
   "metadata": {},
   "outputs": [],
   "source": [
    "alpha_l_eq8 = auto_substitute(alpha_l_eq7, 'lower_outer_pow', [], {'assumptions':assumptions}, sub_expr_class=Exponentiate, suppress_warnings=True)\n",
    "alpha_l_eq8.proven(assumptions)"
   ]
  },
  {
   "cell_type": "code",
   "execution_count": null,
   "metadata": {},
   "outputs": [],
   "source": [
    "alpha_l_eq9 = auto_substitute(alpha_l_eq8, 'ungroup', [0], {'assumptions':assumptions}, sub_expr_class=Multiply, suppress_warnings=True)\n",
    "alpha_l_eq9.proven(assumptions)"
   ]
  },
  {
   "cell_type": "code",
   "execution_count": null,
   "metadata": {},
   "outputs": [],
   "source": [
    "alpha_l_eq10 = auto_substitute(alpha_l_eq9, 'group', [3,5], {'assumptions':assumptions}, sub_expr_class=Multiply, suppress_warnings=True)\n",
    "alpha_l_eq10.proven(assumptions)"
   ]
  },
  {
   "cell_type": "code",
   "execution_count": null,
   "metadata": {},
   "outputs": [],
   "source": [
    "alpha_l_eq11 = auto_substitute(alpha_l_eq10, 'commute', [], {'assumptions':assumptions}, sub_expr_class=Multiply, criteria=lambda expr:len(expr.operands)==2, suppress_warnings=True)\n",
    "alpha_l_eq11.proven(assumptions)"
   ]
  },
  {
   "cell_type": "code",
   "execution_count": null,
   "metadata": {},
   "outputs": [],
   "source": [
    "alpha_l_eq12 = auto_substitute(alpha_l_eq11, 'distribute', [1], {'assumptions':assumptions}, super_expr=alpha_l_eq11.rhs.operands[1].numerator, suppress_warnings=True)\n",
    "alpha_l_eq12.proven(assumptions)"
   ]
  },
  {
   "cell_type": "code",
   "execution_count": null,
   "metadata": {},
   "outputs": [],
   "source": [
    "from proveit.numbers.complex.theorems import frac_cancel5\n",
    "from proveit.common import x,y\n",
    "deduce_in_complex([two_pow_t, l], assumptions=assumptions)\n",
    "cancellation = frac_cancel5.instantiate({x:two_pow_t, y:l}).proven(assumptions)\n",
    "alpha_l_eq13 = cancellation.sub_right_side_into(alpha_l_eq12)\n",
    "alpha_l_eq13.proven(assumptions)"
   ]
  },
  {
   "cell_type": "code",
   "execution_count": null,
   "metadata": {},
   "outputs": [],
   "source": [
    "from proveit.numbers.complex.theorems import reverse_fraction_of_subtractions\n",
    "from proveit.common import w,x,y,z\n",
    "frac = alpha_l_eq13.rhs.operands[1]\n",
    "(w_val, x_val), (y_val, z_val) = frac.numerator.operands, frac.denominator.operands\n",
    "deduce_in_complex([w_val, x_val, y_val, z_val], assumptions=assumptions)\n",
    "reversal = reverse_fraction_of_subtractions.instantiate({w:w_val, x:x_val, y:y_val, z:z_val}).proven(assumptions)\n",
    "alpha_l_eq14 = reversal.sub_right_side_into(alpha_l_eq13)\n",
    "alpha_l_eq14.proven(assumptions)"
   ]
  },
  {
   "cell_type": "code",
   "execution_count": null,
   "metadata": {},
   "outputs": [],
   "source": [
    "alpha_l_eq14.generalize(l, domain=Integer).qed()"
   ]
  },
  {
   "cell_type": "code",
   "execution_count": null,
   "metadata": {},
   "outputs": [],
   "source": []
  }
 ],
 "metadata": {
  "kernelspec": {
   "display_name": "Python 3",
   "language": "python",
   "name": "python3"
  }
 },
 "nbformat": 4,
 "nbformat_minor": 0
}
