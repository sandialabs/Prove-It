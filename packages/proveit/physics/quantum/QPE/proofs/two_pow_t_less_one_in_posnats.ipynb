{
 "cells": [
  {
   "cell_type": "code",
   "execution_count": null,
   "metadata": {},
   "outputs": [],
   "source": [
    "from proveit.physics.quantum.QPE.axioms import t_in_natural_pos\n",
    "from proveit.physics.quantum.QPE.theorems import two_pow_t_less_one_is_nat_pos\n",
    "from proveit.physics.quantum.QPE.common import t_, two_pow_t\n",
    "from proveit.numbers.real.theorems import pow_ineq, greater_than_equals_subtract\n",
    "from proveit.numbers.natural.axioms import one_add_one, natural_pos_def\n",
    "from proveit.numbers import deduce_in_real, deduce_in_natural\n",
    "from proveit.numbers import subtract\n",
    "from proveit.common import a, b, c, n, X\n",
    "from proveit.numbers.common import one, two"
   ]
  },
  {
   "cell_type": "code",
   "execution_count": null,
   "metadata": {},
   "outputs": [],
   "source": [
    "two_pow_t_less_one_is_nat_pos.begin_proof()"
   ]
  },
  {
   "cell_type": "code",
   "execution_count": null,
   "metadata": {},
   "outputs": [],
   "source": [
    "t_in_natural_pos"
   ]
  },
  {
   "cell_type": "code",
   "execution_count": null,
   "metadata": {},
   "outputs": [],
   "source": [
    "t_in_natural_pos.domain.deduce_member_lower_bound(t_).proven()"
   ]
  },
  {
   "cell_type": "code",
   "execution_count": null,
   "metadata": {},
   "outputs": [],
   "source": [
    "one_add_one"
   ]
  },
  {
   "cell_type": "code",
   "execution_count": null,
   "metadata": {},
   "outputs": [],
   "source": [
    "one_add_one_more_than_one = one_add_one.lhs.deduce_strict_increase(0)\n",
    "one_add_one_more_than_one.proven()"
   ]
  },
  {
   "cell_type": "code",
   "execution_count": null,
   "metadata": {},
   "outputs": [],
   "source": [
    "one_add_one.sub_right_side_into(one_add_one_more_than_one).derive_relaxed().proven()"
   ]
  },
  {
   "cell_type": "code",
   "execution_count": null,
   "metadata": {},
   "outputs": [],
   "source": [
    "pow_ineq"
   ]
  },
  {
   "cell_type": "code",
   "execution_count": null,
   "metadata": {},
   "outputs": [],
   "source": [
    "deduce_in_real([one, two, t_])\n",
    "two_pow_t_ineq0 = pow_ineq.instantiate({a:two, b:t_, c:one})\n",
    "two_pow_t_ineq0.proven()"
   ]
  },
  {
   "cell_type": "code",
   "execution_count": null,
   "metadata": {},
   "outputs": [],
   "source": [
    "two_pow_t_ineq1 = two_pow_t_ineq0.rhs.simplification().sub_right_side_into(two_pow_t_ineq0)\n",
    "two_pow_t_ineq1.proven()"
   ]
  },
  {
   "cell_type": "code",
   "execution_count": null,
   "metadata": {},
   "outputs": [],
   "source": [
    "greater_than_equals_subtract"
   ]
  },
  {
   "cell_type": "code",
   "execution_count": null,
   "metadata": {},
   "outputs": [],
   "source": [
    "deduce_in_real([one, two, two_pow_t])\n",
    "two_pow_t_less_one_ineq0 = greater_than_equals_subtract.instantiate({a:two_pow_t, b:two, c:one}).proven()\n",
    "two_pow_t_less_one_ineq0"
   ]
  },
  {
   "cell_type": "code",
   "execution_count": null,
   "metadata": {},
   "outputs": [],
   "source": [
    "one_plus_one_minus_one_eq0 = one_add_one.substitution(subtract(X, one), X)\n",
    "one_plus_one_minus_one_eq0.proven()"
   ]
  },
  {
   "cell_type": "code",
   "execution_count": null,
   "metadata": {},
   "outputs": [],
   "source": [
    "one_plus_one_minus_one_eq1 = one_plus_one_minus_one_eq0.lhs.cancel().apply_transitivity(one_plus_one_minus_one_eq0)\n",
    "one_plus_one_minus_one_eq1.proven()"
   ]
  },
  {
   "cell_type": "code",
   "execution_count": null,
   "metadata": {},
   "outputs": [],
   "source": [
    "two_pow_t_less_one_ineq1 = one_plus_one_minus_one_eq1.sub_left_side_into(two_pow_t_less_one_ineq0).proven()\n",
    "two_pow_t_less_one_ineq1.proven()"
   ]
  },
  {
   "cell_type": "code",
   "execution_count": null,
   "metadata": {},
   "outputs": [],
   "source": [
    "deduce_in_natural(two_pow_t_less_one_ineq1.lhs)\n",
    "natural_pos_def.instantiate({n:two_pow_t_less_one_ineq1.lhs}).derive_left().qed()"
   ]
  },
  {
   "cell_type": "code",
   "execution_count": null,
   "metadata": {},
   "outputs": [],
   "source": []
  }
 ],
 "metadata": {
  "kernelspec": {
   "display_name": "Python 3",
   "language": "python",
   "name": "python3"
  }
 },
 "nbformat": 4,
 "nbformat_minor": 0
}
