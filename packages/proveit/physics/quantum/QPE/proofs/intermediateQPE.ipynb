{
 "cells": [
  {
   "cell_type": "code",
   "execution_count": null,
   "metadata": {},
   "outputs": [],
   "source": [
    "from proveit.physics.quantum.QPE.theorems import intermediate_q_p_e, phase_is_real\n",
    "from proveit.physics.quantum.QPE.axioms import n_in_nat_pos, unitary_u, u_ket_register, eigen_uu\n",
    "from proveit.physics.quantum.QPE.common import U_, u_, n_, U_pow_two_pow_k\n",
    "from proveit.physics.quantum import Ket\n",
    "from proveit.physics.quantum.axioms import ket_zero_in_qubit_space, ket_one_in_qubit_space, hadamard_on_zero, \\\n",
    "    zero_controlled_ngate, one_controlled_ngate\n",
    "from proveit.physics.quantum.theorems import unitary_hadamard, ket_plus_distributed, pregated_controlled_ngate_equiv, \\\n",
    "    controlled_ngate_equiv, superposition_controlled_ngate, scaled_qubit_state_in_qubit_space, \\\n",
    "    summed_qubit_state_in_qubit_space, scaled_qubit_register_state_in_qubit_register_space\n",
    "from proveit.physics.quantum.common import ket0, ket1, H, inv_root2, QubitSpace\n",
    "from proveit.basiclogic import In, compose, Equation, Equals\n",
    "from proveit.linalg import ScalarProd, MatrixProd\n",
    "from proveit.linalg.theorems import int_pow_s_uclosure, eigen_pow\n",
    "from proveit.numbers import Natural, deduce_in_natural_pos, deduce_in_complex\n",
    "from proveit.numbers import Add, Exponentiate, frac, sqrt\n",
    "from proveit.numbers.common import zero, one, two\n",
    "from proveit.common import a, b, c, d, k, n, u, x, y, z, A, U, X, alpha, x_etc\n",
    "from IPython.display import display"
   ]
  },
  {
   "cell_type": "code",
   "execution_count": null,
   "metadata": {},
   "outputs": [],
   "source": [
    "intermediate_q_p_e.begin_proof()"
   ]
  },
  {
   "cell_type": "code",
   "execution_count": null,
   "metadata": {},
   "outputs": [],
   "source": [
    "display(U_pow_two_pow_k)\n",
    "k_in_nats = In(k, Natural)\n",
    "display(k_in_nats)"
   ]
  },
  {
   "cell_type": "code",
   "execution_count": null,
   "metadata": {},
   "outputs": [],
   "source": [
    "int_pow_s_uclosure"
   ]
  },
  {
   "cell_type": "code",
   "execution_count": null,
   "metadata": {},
   "outputs": [],
   "source": [
    "deduce_in_natural_pos(Exponentiate(two, k), {k_in_nats}).proven({k_in_nats})\n",
    "deduce_in_natural_pos(Exponentiate(two, n_)).proven()\n",
    "int_pow_s_uclosure.instantiate({n:Exponentiate(two, n_), k:Exponentiate(two, k)}).instantiate({U:U_}).proven({k_in_nats})"
   ]
  },
  {
   "cell_type": "code",
   "execution_count": null,
   "metadata": {},
   "outputs": [],
   "source": [
    "pregated_controlled_ngate_equiv"
   ]
  },
  {
   "cell_type": "code",
   "execution_count": null,
   "metadata": {},
   "outputs": [],
   "source": [
    "b_qubit_state = In(b, QubitSpace)\n",
    "circuit_equiv1 = pregated_controlled_ngate_equiv.instantiate({n:n_}).instantiate({U:U_pow_two_pow_k}).instantiate({u:H}).instantiate({a:ket0}).instantiate({x:Ket(u_), y:Ket(u_)})\n",
    "circuit_equiv1.proven({b_qubit_state, k_in_nats})"
   ]
  },
  {
   "cell_type": "code",
   "execution_count": null,
   "metadata": {},
   "outputs": [],
   "source": [
    "circuit_equiv2 = hadamard_on_zero.sub_right_side_into(circuit_equiv1)\n",
    "circuit_equiv2.proven({b_qubit_state, k_in_nats})"
   ]
  },
  {
   "cell_type": "code",
   "execution_count": null,
   "metadata": {},
   "outputs": [],
   "source": [
    "circuit_equiv3 = ket_plus_distributed.sub_right_side_into(circuit_equiv2)\n",
    "circuit_equiv3.proven({b_qubit_state, k_in_nats})"
   ]
  },
  {
   "cell_type": "code",
   "execution_count": null,
   "metadata": {},
   "outputs": [],
   "source": [
    "zero_controlled_ngate"
   ]
  },
  {
   "cell_type": "code",
   "execution_count": null,
   "metadata": {},
   "outputs": [],
   "source": [
    "deduce_in_complex(inv_root2)\n",
    "zero_controlled_upow_gate = zero_controlled_ngate.instantiate({n:n_}).instantiate({U:U_pow_two_pow_k}).instantiate({x:Ket(u_)}).instantiate({alpha:inv_root2})\n",
    "zero_controlled_upow_gate.proven({k_in_nats})"
   ]
  },
  {
   "cell_type": "code",
   "execution_count": null,
   "metadata": {},
   "outputs": [],
   "source": [
    "one_controlled_ngate"
   ]
  },
  {
   "cell_type": "code",
   "execution_count": null,
   "metadata": {},
   "outputs": [],
   "source": [
    "one_controlled_upow_gate = one_controlled_ngate.instantiate({n:n_}).instantiate({U:U_pow_two_pow_k}).instantiate({x:Ket(u_)}).instantiate({alpha:inv_root2})\n",
    "one_controlled_upow_gate.proven({k_in_nats})"
   ]
  },
  {
   "cell_type": "code",
   "execution_count": null,
   "metadata": {},
   "outputs": [],
   "source": [
    "display(eigen_pow)\n",
    "display(eigen_uu)\n",
    "eigen_value_u = eigen_uu.rhs.scalar\n",
    "display(deduce_in_natural_pos(Exponentiate(two, k), {k_in_nats}).proven({k_in_nats}))\n",
    "display(deduce_in_complex(eigen_value_u).proven())"
   ]
  },
  {
   "cell_type": "code",
   "execution_count": null,
   "metadata": {},
   "outputs": [],
   "source": [
    "eigen_upow_u1 = eigen_pow.instantiate({k:Exponentiate(two, k)}).instantiate({b:eigen_value_u}).instantiate({A:U_, x:Ket(u_)}).derive_conclusion()\n",
    "eigen_upow_u1.proven({k_in_nats})"
   ]
  },
  {
   "cell_type": "code",
   "execution_count": null,
   "metadata": {},
   "outputs": [],
   "source": [
    "eigen_upow_u2 = eigen_upow_u1.rhs.scalar.lower_outer_pow({k_in_nats}).sub_right_side_into(eigen_upow_u1)\n",
    "eigen_upow_u2.proven({k_in_nats})"
   ]
  },
  {
   "cell_type": "code",
   "execution_count": null,
   "metadata": {},
   "outputs": [],
   "source": [
    "eigen_upow_u = eigen_upow_u2.rhs.scalar.exponent.ungroup(0, {k_in_nats}).sub_right_side_into(eigen_upow_u2)\n",
    "eigen_upow_u.proven({k_in_nats})"
   ]
  },
  {
   "cell_type": "code",
   "execution_count": null,
   "metadata": {},
   "outputs": [],
   "source": [
    "phase_factor = eigen_upow_u.rhs.scalar\n",
    "deduce_in_complex(phase_factor, {k_in_nats})\n",
    "scaled_u_inQregSpace = scaled_qubit_register_state_in_qubit_register_space.instantiate({n:n_}).instantiate({x:Ket(u_)}).instantiate({alpha:phase_factor})\n",
    "eigen_upow_u.sub_left_side_into(scaled_u_inQregSpace).proven({k_in_nats})"
   ]
  },
  {
   "cell_type": "code",
   "execution_count": null,
   "metadata": {},
   "outputs": [],
   "source": [
    "display(deduce_in_complex(inv_root2))\n",
    "display(scaled_qubit_state_in_qubit_space.instantiate({x:ket1}).instantiate({alpha:inv_root2}).proven())\n",
    "scaled_phase_factor = frac(phase_factor, sqrt(two))\n",
    "deduce_in_complex(scaled_phase_factor, {k_in_nats})\n",
    "display(scaled_qubit_state_in_qubit_space.instantiate({x:ket1}).instantiate({alpha:scaled_phase_factor}).proven({k_in_nats}))"
   ]
  },
  {
   "cell_type": "code",
   "execution_count": null,
   "metadata": {},
   "outputs": [],
   "source": [
    "controlled_ngate_equiv"
   ]
  },
  {
   "cell_type": "code",
   "execution_count": null,
   "metadata": {},
   "outputs": [],
   "source": [
    "one_controlled_upow_gate_equiv = controlled_ngate_equiv.instantiate({n:n_}).instantiate({U:U_pow_two_pow_k}).instantiate({a:ScalarProd(inv_root2, ket1), b:ScalarProd(inv_root2, ket1), c:ScalarProd(scaled_phase_factor, ket1)}).instantiate({x:Ket(u_), y:MatrixProd(U_pow_two_pow_k, Ket(u_)), z:Ket(u_)})\n",
    "one_controlled_upow_gate_equiv.proven({k_in_nats}) "
   ]
  },
  {
   "cell_type": "code",
   "execution_count": null,
   "metadata": {},
   "outputs": [],
   "source": [
    "tensor_prod_eq = eigen_upow_u.sub_right_side_into(one_controlled_upow_gate_equiv.operands[1])\n",
    "tensor_prod_eq"
   ]
  },
  {
   "cell_type": "code",
   "execution_count": null,
   "metadata": {},
   "outputs": [],
   "source": [
    "tensor_prod_lhs_eq = Equation()\n",
    "tensor_prod_lhs_eq.update(tensor_prod_eq.lhs.factor(phase_factor)).proven()\n",
    "tensor_prod_lhs_eq.update(tensor_prod_lhs_eq.eq_expr.rhs.factor(inv_root2)).proven()"
   ]
  },
  {
   "cell_type": "code",
   "execution_count": null,
   "metadata": {},
   "outputs": [],
   "source": [
    "tensor_prod_lhs_eq.eq_expr.rhs.scalar.distribute(1, {k_in_nats}).sub_right_side_into(tensor_prod_lhs_eq.eq_expr).proven({k_in_nats})"
   ]
  },
  {
   "cell_type": "code",
   "execution_count": null,
   "metadata": {},
   "outputs": [],
   "source": [
    "tensor_prod_rhs_eq = tensor_prod_eq.rhs.factor(scaled_phase_factor)\n",
    "tensor_prod_rhs_eq.proven()"
   ]
  },
  {
   "cell_type": "code",
   "execution_count": null,
   "metadata": {},
   "outputs": [],
   "source": [
    "tensor_prod_eq2 = Equals(tensor_prod_rhs_eq.rhs, tensor_prod_rhs_eq.rhs).conclude_via_reflexivity().proven()\n",
    "tensor_prod_eq3 = tensor_prod_lhs_eq.eq_expr.sub_left_side_into(Equals(X, tensor_prod_rhs_eq.rhs), X).proven({k_in_nats})\n",
    "tensor_prod_rhs_eq.sub_left_side_into(tensor_prod_eq3).proven({k_in_nats}) # tensor_prod_eq now proven"
   ]
  },
  {
   "cell_type": "code",
   "execution_count": null,
   "metadata": {},
   "outputs": [],
   "source": [
    "eigen_upow_u.sub_left_side_into(tensor_prod_eq).proven({k_in_nats})"
   ]
  },
  {
   "cell_type": "code",
   "execution_count": null,
   "metadata": {},
   "outputs": [],
   "source": [
    "one_controlled_upow_gate = one_controlled_upow_gate_equiv.derive_left().derive_right_via_equality()\n",
    "one_controlled_upow_gate.proven({k_in_nats})"
   ]
  },
  {
   "cell_type": "code",
   "execution_count": null,
   "metadata": {},
   "outputs": [],
   "source": [
    "compose(zero_controlled_upow_gate, one_controlled_upow_gate).proven({k_in_nats})"
   ]
  },
  {
   "cell_type": "code",
   "execution_count": null,
   "metadata": {},
   "outputs": [],
   "source": [
    "superposition_controlled_ngate"
   ]
  },
  {
   "cell_type": "code",
   "execution_count": null,
   "metadata": {},
   "outputs": [],
   "source": [
    "scaled_qubit_state_in_qubit_space.instantiate({x:ket0}).instantiate({alpha:inv_root2}).proven()\n",
    "scaled_qubit_state_in_qubit_space.instantiate({x:ket1}).instantiate({alpha:scaled_phase_factor}).proven({k_in_nats})\n",
    "super_position_controlled_upow_gate = superposition_controlled_ngate.instantiate({n:n_}).instantiate({U:U_pow_two_pow_k}).instantiate({a:ScalarProd(inv_root2, ket0), b:ScalarProd(inv_root2, ket1), c:ScalarProd(inv_root2, ket0), d:ScalarProd(scaled_phase_factor, ket1)}).instantiate({x:Ket(u_), y:Ket(u_)}).derive_conclusion()\n",
    "super_position_controlled_upow_gate.proven({k_in_nats})"
   ]
  },
  {
   "cell_type": "code",
   "execution_count": null,
   "metadata": {},
   "outputs": [],
   "source": [
    "summed_qubit_state_in_qubit_space"
   ]
  },
  {
   "cell_type": "code",
   "execution_count": null,
   "metadata": {},
   "outputs": [],
   "source": [
    "top_output_state = Add(ScalarProd(inv_root2, ket0), ScalarProd(scaled_phase_factor, ket1))\n",
    "summed_qubit_state_in_qubit_space.instantiate({x_etc:top_output_state.terms}).proven({k_in_nats})"
   ]
  },
  {
   "cell_type": "code",
   "execution_count": null,
   "metadata": {},
   "outputs": [],
   "source": [
    "intermediate_circuit = circuit_equiv3.generalize(b, domain=QubitSpace).instantiate({b:top_output_state}).derive_left_via_equality()\n",
    "intermediate_circuit.proven({k_in_nats})"
   ]
  },
  {
   "cell_type": "code",
   "execution_count": null,
   "metadata": {},
   "outputs": [],
   "source": [
    "intermediate_circuit.generalize(k, domain=Natural).qed()"
   ]
  },
  {
   "cell_type": "code",
   "execution_count": null,
   "metadata": {},
   "outputs": [],
   "source": []
  }
 ],
 "metadata": {
  "kernelspec": {
   "display_name": "Python 3",
   "language": "python",
   "name": "python3"
  }
 },
 "nbformat": 4,
 "nbformat_minor": 0
}
