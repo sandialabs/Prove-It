{
 "cells": [
  {
   "cell_type": "code",
   "execution_count": null,
   "metadata": {},
   "outputs": [],
   "source": [
    "from proveit.basiclogic import In, NotEquals, auto_substitute\n",
    "from proveit.physics.quantum.QPE.theorems import non_int_delta_diff, two_pow_t_is_nat_pos, two_pow_t_minus_one_is_nat_pos, delta_diff_in_interval, \\\n",
    "    delta_not_eq_scaledNonzeroInt, delta_is_real\n",
    "from proveit.physics.quantum.QPE.common import full_domain, delta_\n",
    "from proveit.numbers.common import a, b, c, l, n, x, y,zero, one, two\n",
    "from proveit.numbers.arithmetic_ops import IntervalOO, LessThan, greaterThan, Neg\n",
    "from proveit.numbers import deduce_in_real, deduce_positive, deduce_in_integer, deduce_in_complex\n",
    "from proveit.numbers.real.theorems import not_int_if_between_successive_ints, not_equals_is_less_than_or_greater_than, div_ineq_thm1strong\n",
    "from proveit.numbers.complex.theorems import add_neg_as_subtract, not_eq_iff_diffNotZero\n",
    "from proveit.numbers.natural.axioms import one_add_one, zero_add_one\n",
    "from IPython.display import display"
   ]
  },
  {
   "cell_type": "code",
   "execution_count": null,
   "metadata": {},
   "outputs": [],
   "source": [
    "non_int_delta_diff.begin_proof()"
   ]
  },
  {
   "cell_type": "code",
   "execution_count": null,
   "metadata": {},
   "outputs": [],
   "source": [
    "l_in_domain = In(l, full_domain)\n",
    "display(l_in_domain)\n",
    "l_not_zero = NotEquals(l, zero)\n",
    "display(l_not_zero)\n",
    "assumptions = {l_in_domain, l_not_zero}"
   ]
  },
  {
   "cell_type": "code",
   "execution_count": null,
   "metadata": {},
   "outputs": [],
   "source": [
    "full_domain.deduce_member_in_integer(l).proven(assumptions)"
   ]
  },
  {
   "cell_type": "code",
   "execution_count": null,
   "metadata": {},
   "outputs": [],
   "source": [
    "delta_diff_in_interval"
   ]
  },
  {
   "cell_type": "code",
   "execution_count": null,
   "metadata": {},
   "outputs": [],
   "source": [
    "delta_diff_in_domain = delta_diff_in_interval.instantiate().proven(assumptions)\n",
    "delta_diff_in_domain"
   ]
  },
  {
   "cell_type": "code",
   "execution_count": null,
   "metadata": {},
   "outputs": [],
   "source": [
    "delta_diff = delta_diff_in_domain.element\n",
    "delta_diff"
   ]
  },
  {
   "cell_type": "code",
   "execution_count": null,
   "metadata": {},
   "outputs": [],
   "source": [
    "delta_diff_in_domain.domain.deduce_member_in_real(delta_diff)"
   ]
  },
  {
   "cell_type": "code",
   "execution_count": null,
   "metadata": {},
   "outputs": [],
   "source": [
    "delta_diff_upper_bound = delta_diff_in_domain.domain.deduce_member_upper_bound(delta_diff)\n",
    "delta_diff_upper_bound.proven(assumptions)"
   ]
  },
  {
   "cell_type": "code",
   "execution_count": null,
   "metadata": {},
   "outputs": [],
   "source": [
    "delta_diff_lower_bound = delta_diff_in_domain.domain.deduce_member_lower_bound(delta_diff)\n",
    "delta_diff_lower_bound.proven(assumptions)"
   ]
  },
  {
   "cell_type": "code",
   "execution_count": null,
   "metadata": {},
   "outputs": [],
   "source": [
    "one_add_one"
   ]
  },
  {
   "cell_type": "code",
   "execution_count": null,
   "metadata": {},
   "outputs": [],
   "source": [
    "num_ineq1 = one_add_one.lhs.deduce_strict_increase(0)\n",
    "num_ineq1.proven()"
   ]
  },
  {
   "cell_type": "code",
   "execution_count": null,
   "metadata": {},
   "outputs": [],
   "source": [
    "num_ineq2 = one_add_one.sub_right_side_into(num_ineq1).derive_reversed()\n",
    "num_ineq2.proven()"
   ]
  },
  {
   "cell_type": "code",
   "execution_count": null,
   "metadata": {},
   "outputs": [],
   "source": [
    "div_ineq_thm1strong"
   ]
  },
  {
   "cell_type": "code",
   "execution_count": null,
   "metadata": {},
   "outputs": [],
   "source": [
    "deduce_in_real(one)\n",
    "deduce_in_real(two)\n",
    "deduce_positive(two)\n",
    "num_ineq3 = div_ineq_thm1strong.instantiate({a:one, b:two, c:two})\n",
    "num_ineq3.proven()"
   ]
  },
  {
   "cell_type": "code",
   "execution_count": null,
   "metadata": {},
   "outputs": [],
   "source": [
    "half_less_than_one = auto_substitute(num_ineq3, 'cancel', [two], super_expr=num_ineq3.rhs)\n",
    "half_less_than_one.proven()"
   ]
  },
  {
   "cell_type": "code",
   "execution_count": null,
   "metadata": {},
   "outputs": [],
   "source": [
    "neg_half_greater_than_neg_one = half_less_than_one.derive_negated()\n",
    "neg_half_greater_than_neg_one.proven()"
   ]
  },
  {
   "cell_type": "code",
   "execution_count": null,
   "metadata": {},
   "outputs": [],
   "source": [
    "delta_diff_less_than_one = delta_diff_upper_bound.apply_transitivity(half_less_than_one)\n",
    "delta_diff_less_than_one"
   ]
  },
  {
   "cell_type": "code",
   "execution_count": null,
   "metadata": {},
   "outputs": [],
   "source": [
    "delta_diff_greater_than_neg_one = delta_diff_lower_bound.apply_transitivity(neg_half_greater_than_neg_one)\n",
    "delta_diff_greater_than_neg_one"
   ]
  },
  {
   "cell_type": "code",
   "execution_count": null,
   "metadata": {},
   "outputs": [],
   "source": [
    "deduce_in_real(zero)\n",
    "greaterThan(delta_diff, zero).derive_reversed()\n",
    "In(delta_diff, IntervalOO(zero, one)).conclude_as_folded().proven(assumptions | {greaterThan(delta_diff, zero)})"
   ]
  },
  {
   "cell_type": "code",
   "execution_count": null,
   "metadata": {},
   "outputs": [],
   "source": [
    "deduce_in_real(Neg(one))\n",
    "In(delta_diff, IntervalOO(Neg(one), zero)).conclude_as_folded().proven(assumptions | {LessThan(delta_diff, zero)})"
   ]
  },
  {
   "cell_type": "code",
   "execution_count": null,
   "metadata": {},
   "outputs": [],
   "source": [
    "not_int_if_between_successive_ints"
   ]
  },
  {
   "cell_type": "code",
   "execution_count": null,
   "metadata": {},
   "outputs": [],
   "source": [
    "deduce_in_integer(zero)\n",
    "not_in_ints_eq1 = not_int_if_between_successive_ints.instantiate({n:zero})\n",
    "not_in_ints_eq1.proven()"
   ]
  },
  {
   "cell_type": "code",
   "execution_count": null,
   "metadata": {},
   "outputs": [],
   "source": [
    "not_in_ints_eq2 = zero_add_one.sub_right_side_into(not_in_ints_eq1).proven()\n",
    "not_in_ints_eq2"
   ]
  },
  {
   "cell_type": "code",
   "execution_count": null,
   "metadata": {},
   "outputs": [],
   "source": [
    "not_in_ints_assuming_positive = not_in_ints_eq2.instantiate({x:delta_diff}).proven(assumptions | {LessThan(zero, delta_diff)})\n",
    "not_in_ints_assuming_positive"
   ]
  },
  {
   "cell_type": "code",
   "execution_count": null,
   "metadata": {},
   "outputs": [],
   "source": [
    "deduce_in_integer(Neg(one))\n",
    "not_in_ints_eq3 = not_int_if_between_successive_ints.instantiate({n:Neg(one)})\n",
    "not_in_ints_eq3"
   ]
  },
  {
   "cell_type": "code",
   "execution_count": null,
   "metadata": {},
   "outputs": [],
   "source": [
    "neg_one_add_one_eq1 = not_in_ints_eq3.domain.upper_bound.commute().proven()\n",
    "neg_one_add_one_eq1.proven()"
   ]
  },
  {
   "cell_type": "code",
   "execution_count": null,
   "metadata": {},
   "outputs": [],
   "source": [
    "add_neg_as_subtract"
   ]
  },
  {
   "cell_type": "code",
   "execution_count": null,
   "metadata": {},
   "outputs": [],
   "source": [
    "deduce_in_complex(one)\n",
    "neg_one_add_one_eq2 = add_neg_as_subtract.instantiate({x:one, y:one}).sub_right_side_into(neg_one_add_one_eq1)\n",
    "neg_one_add_one_eq2.proven()"
   ]
  },
  {
   "cell_type": "code",
   "execution_count": null,
   "metadata": {},
   "outputs": [],
   "source": [
    "neg_one_add_one_eq_zero = neg_one_add_one_eq2.rhs.cancel().sub_right_side_into(neg_one_add_one_eq2)\n",
    "neg_one_add_one_eq_zero"
   ]
  },
  {
   "cell_type": "code",
   "execution_count": null,
   "metadata": {},
   "outputs": [],
   "source": [
    "not_in_ints_eq4 = neg_one_add_one_eq_zero.sub_right_side_into(not_in_ints_eq3)\n",
    "not_in_ints_eq4.proven()"
   ]
  },
  {
   "cell_type": "code",
   "execution_count": null,
   "metadata": {},
   "outputs": [],
   "source": [
    "not_in_ints_assuming_negative = not_in_ints_eq4.instantiate({x:delta_diff})\n",
    "not_in_ints_assuming_negative.proven(assumptions | {LessThan(zero, delta_diff)})"
   ]
  },
  {
   "cell_type": "code",
   "execution_count": null,
   "metadata": {},
   "outputs": [],
   "source": [
    "delta_not_eq_scaledNonzeroInt"
   ]
  },
  {
   "cell_type": "code",
   "execution_count": null,
   "metadata": {},
   "outputs": [],
   "source": [
    "delta_not_eq_scaledNonzeroInt.instantiate().proven(assumptions)"
   ]
  },
  {
   "cell_type": "code",
   "execution_count": null,
   "metadata": {},
   "outputs": [],
   "source": [
    "not_eq_iff_diffNotZero"
   ]
  },
  {
   "cell_type": "code",
   "execution_count": null,
   "metadata": {},
   "outputs": [],
   "source": [
    "deduce_in_complex(delta_)\n",
    "l_frac = delta_diff.operands[1]\n",
    "deduce_in_complex(l_frac, assumptions)\n",
    "not_eq_iff_diffNotZero.instantiate({a:delta_, b:l_frac}).derive_right().proven(assumptions)"
   ]
  },
  {
   "cell_type": "code",
   "execution_count": null,
   "metadata": {},
   "outputs": [],
   "source": [
    "not_equals_is_less_than_or_greater_than"
   ]
  },
  {
   "cell_type": "code",
   "execution_count": null,
   "metadata": {},
   "outputs": [],
   "source": [
    "delta_diff_is_positive_or_negative = not_equals_is_less_than_or_greater_than.instantiate({a:zero, x:delta_diff})\n",
    "delta_diff_is_positive_or_negative.proven(assumptions)"
   ]
  },
  {
   "cell_type": "code",
   "execution_count": null,
   "metadata": {},
   "outputs": [],
   "source": [
    "not_in_ints_assuming_negative"
   ]
  },
  {
   "cell_type": "code",
   "execution_count": null,
   "metadata": {},
   "outputs": [],
   "source": [
    "delta_diff_is_positive_or_negative.operands[0].deduce_in_bool(assumptions)\n",
    "delta_diff_is_positive_or_negative.operands[1].deduce_in_bool(assumptions)\n",
    "not_in_ints_assuming_negative.deduce_in_bool()\n",
    "not_in_ints = delta_diff_is_positive_or_negative.derive_common_conclusion(not_in_ints_assuming_negative)\n",
    "not_in_ints.proven(assumptions)"
   ]
  },
  {
   "cell_type": "code",
   "execution_count": null,
   "metadata": {},
   "outputs": [],
   "source": [
    "not_in_ints.generalize(l, domain=full_domain, conditions=[NotEquals(l, zero)]).qed()"
   ]
  },
  {
   "cell_type": "code",
   "execution_count": null,
   "metadata": {},
   "outputs": [],
   "source": []
  },
  {
   "cell_type": "code",
   "execution_count": null,
   "metadata": {},
   "outputs": [],
   "source": []
  }
 ],
 "metadata": {
  "kernelspec": {
   "display_name": "Python 3",
   "language": "python",
   "name": "python3"
  }
 },
 "nbformat": 4,
 "nbformat_minor": 0
}
