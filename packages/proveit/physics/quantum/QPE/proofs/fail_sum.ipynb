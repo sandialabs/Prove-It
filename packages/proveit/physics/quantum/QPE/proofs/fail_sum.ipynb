{
 "cells": [
  {
   "cell_type": "code",
   "execution_count": null,
   "metadata": {},
   "outputs": [],
   "source": [
    "from proveit.basiclogic import In, Equals, auto_substitute\n",
    "from proveit.physics.quantum.QPE.axioms import fail_def, alpha_def, m_def, t_in_natural_pos, mod_add_def, PsiKetInQRegSpace\n",
    "from proveit.physics.quantum.QPE.theorems import fail_sum, success_sum, best_is_int, \\\n",
    "    two_pow_t_is_nat_pos, two_pow_t_minus_one_is_nat_pos, success_prob_is_real\n",
    "from proveit.physics.quantum.QPE.common import t_, m_, Psi_, two_pow_t, two_pow_t_minus_one, b_, full_domain\n",
    "from proveit.physics.quantum.QPE.phase_est_ops import ModAdd\n",
    "from proveit.physics.quantum.theorems import register_qubit_born_rule, register_qubit_all_probs\n",
    "from proveit.common import a, b, c, k, l, n, x, y, fx, gy, eps, m, N, Psi, R, S\n",
    "from proveit.numbers import Add, Neg, subtract, Exponentiate, DiscreteContiguousSet\n",
    "from proveit.numbers.common import zero, one, two\n",
    "from proveit.numbers.natural.axioms import zero_add_one\n",
    "from proveit.numbers import deduce_in_integer, deduce_in_real, deduce_in_complex, NaturalPos, Real, \\\n",
    "    deduce_negative, deduce_positive\n",
    "from proveit.numbers.integer.theorems import in_natural_pos_if_pos, full_modular_range_equiv_left_shift\n",
    "from proveit.numbers.complex.theorems import equiv_sums, add_twice, outer_cancel, sub_two_add_one\n",
    "from proveit.statistics import Prob\n",
    "from IPython.display import display"
   ]
  },
  {
   "cell_type": "code",
   "execution_count": null,
   "metadata": {},
   "outputs": [],
   "source": [
    "fail_sum.begin_proof()"
   ]
  },
  {
   "cell_type": "code",
   "execution_count": null,
   "metadata": {},
   "outputs": [],
   "source": [
    "eps_in_domain = In(eps, fail_sum.domain)\n",
    "eps_in_domain"
   ]
  },
  {
   "cell_type": "code",
   "execution_count": null,
   "metadata": {},
   "outputs": [],
   "source": [
    "one_more_than_zero = zero_add_one.sub_right_side_into(Add(zero, one).deduce_strict_increase(0)).proven()\n",
    "one_more_than_zero"
   ]
  },
  {
   "cell_type": "code",
   "execution_count": null,
   "metadata": {},
   "outputs": [],
   "source": [
    "eps_in_domain.domain.deduce_member_in_integer(eps).proven({eps_in_domain})\n",
    "eps_in_domain.domain.deduce_member_lower_bound(eps).apply_transitivity(one_more_than_zero).derive_reversed().proven({eps_in_domain})\n",
    "in_natural_pos_if_pos.instantiate({a:eps}).proven({eps_in_domain})"
   ]
  },
  {
   "cell_type": "code",
   "execution_count": null,
   "metadata": {},
   "outputs": [],
   "source": [
    "fail_def"
   ]
  },
  {
   "cell_type": "code",
   "execution_count": null,
   "metadata": {},
   "outputs": [],
   "source": [
    "fail_def_spec = fail_def.instantiate()\n",
    "fail_def_spec.proven({eps_in_domain})"
   ]
  },
  {
   "cell_type": "code",
   "execution_count": null,
   "metadata": {},
   "outputs": [],
   "source": [
    "success_prob_is_real"
   ]
  },
  {
   "cell_type": "code",
   "execution_count": null,
   "metadata": {},
   "outputs": [],
   "source": [
    "success_prob_is_real.instantiate().proven({eps_in_domain})"
   ]
  },
  {
   "cell_type": "code",
   "execution_count": null,
   "metadata": {},
   "outputs": [],
   "source": [
    "success_sum"
   ]
  },
  {
   "cell_type": "code",
   "execution_count": null,
   "metadata": {},
   "outputs": [],
   "source": [
    "success_sum1 = success_sum.instantiate()\n",
    "success_sum1.instantiate().proven({eps_in_domain})"
   ]
  },
  {
   "cell_type": "code",
   "execution_count": null,
   "metadata": {},
   "outputs": [],
   "source": [
    "deduce_in_real(success_sum1.rhs, {eps_in_domain}).proven({eps_in_domain})"
   ]
  },
  {
   "cell_type": "code",
   "execution_count": null,
   "metadata": {},
   "outputs": [],
   "source": [
    "success_sum2 = success_sum1.derive_negated({eps_in_domain})\n",
    "success_sum2.proven({eps_in_domain})"
   ]
  },
  {
   "cell_type": "code",
   "execution_count": null,
   "metadata": {},
   "outputs": [],
   "source": [
    "success_sum3 = success_sum2.derive_shifted(one, addend_side='left', assumptions={eps_in_domain})\n",
    "success_sum3.proven({eps_in_domain})"
   ]
  },
  {
   "cell_type": "code",
   "execution_count": null,
   "metadata": {},
   "outputs": [],
   "source": [
    "success_sum4 = auto_substitute(success_sum3, 'subtraction_folding', [1], {'assumptions':{eps_in_domain}})\n",
    "success_sum4.proven({eps_in_domain})"
   ]
  },
  {
   "cell_type": "code",
   "execution_count": null,
   "metadata": {},
   "outputs": [],
   "source": [
    "success_sum5 = auto_substitute(success_sum4, 'subtraction_folding', [1], {'assumptions':{eps_in_domain}})\n",
    "success_sum5.proven({eps_in_domain})"
   ]
  },
  {
   "cell_type": "code",
   "execution_count": null,
   "metadata": {},
   "outputs": [],
   "source": [
    "fail_sum1 = fail_def_spec.sub_left_side_into(success_sum5)\n",
    "fail_sum1.proven({eps_in_domain})"
   ]
  },
  {
   "cell_type": "code",
   "execution_count": null,
   "metadata": {},
   "outputs": [],
   "source": [
    "register_qubit_all_probs"
   ]
  },
  {
   "cell_type": "code",
   "execution_count": null,
   "metadata": {},
   "outputs": [],
   "source": [
    "all_prob_equals_one = register_qubit_all_probs.instantiate({n:t_}).instantiate({Psi:Psi_, m:m_})\n",
    "all_prob_equals_one.proven({eps_in_domain})"
   ]
  },
  {
   "cell_type": "code",
   "execution_count": null,
   "metadata": {},
   "outputs": [],
   "source": [
    "lower_bound = Add(Neg(two_pow_t_minus_one), one)\n",
    "upper_bound = two_pow_t_minus_one\n",
    "display(deduce_in_integer(two_pow_t).proven())\n",
    "display(deduce_in_integer(lower_bound).proven())\n",
    "display(deduce_in_integer(upper_bound).proven())"
   ]
  },
  {
   "cell_type": "code",
   "execution_count": null,
   "metadata": {},
   "outputs": [],
   "source": [
    "bound_diff_eq1 = subtract(upper_bound, lower_bound).distribute()\n",
    "bound_diff_eq1.proven()"
   ]
  },
  {
   "cell_type": "code",
   "execution_count": null,
   "metadata": {},
   "outputs": [],
   "source": [
    "bound_diff_eq2 = bound_diff_eq1.apply_transitivity(bound_diff_eq1.rhs.group(0, 2))\n",
    "bound_diff_eq2.proven()"
   ]
  },
  {
   "cell_type": "code",
   "execution_count": null,
   "metadata": {},
   "outputs": [],
   "source": [
    "bound_diff_eq3 = bound_diff_eq2.apply_transitivity(bound_diff_eq2.rhs.subtraction_folding())\n",
    "bound_diff_eq3.proven()"
   ]
  },
  {
   "cell_type": "code",
   "execution_count": null,
   "metadata": {},
   "outputs": [],
   "source": [
    "add_twice"
   ]
  },
  {
   "cell_type": "code",
   "execution_count": null,
   "metadata": {},
   "outputs": [],
   "source": [
    "bound_diff_eq4 = add_twice.instantiate({a:two_pow_t_minus_one}).sub_right_side_into(bound_diff_eq3)\n",
    "bound_diff_eq4.proven()"
   ]
  },
  {
   "cell_type": "code",
   "execution_count": null,
   "metadata": {},
   "outputs": [],
   "source": [
    "bound_diff_eq5 = bound_diff_eq4.rhs.operands[0].combine_exponents().sub_right_side_into(bound_diff_eq4)\n",
    "bound_diff_eq5.proven()"
   ]
  },
  {
   "cell_type": "code",
   "execution_count": null,
   "metadata": {},
   "outputs": [],
   "source": [
    "outer_cancel"
   ]
  },
  {
   "cell_type": "code",
   "execution_count": null,
   "metadata": {},
   "outputs": [],
   "source": [
    "deduce_in_complex(one)\n",
    "deduce_in_complex(t_)\n",
    "bound_diff_eq6 = outer_cancel.instantiate({a:one, b:t_}).sub_right_side_into(bound_diff_eq5)\n",
    "bound_diff_eq6.proven()"
   ]
  },
  {
   "cell_type": "code",
   "execution_count": null,
   "metadata": {},
   "outputs": [],
   "source": [
    "full_modular_range_equiv_left_shift"
   ]
  },
  {
   "cell_type": "code",
   "execution_count": null,
   "metadata": {},
   "outputs": [],
   "source": [
    "range_equiv1 = full_modular_range_equiv_left_shift.instantiate({N:two_pow_t, a:lower_bound, b:upper_bound, c:b_, x:l}).proven()\n",
    "range_equiv1"
   ]
  },
  {
   "cell_type": "code",
   "execution_count": null,
   "metadata": {},
   "outputs": [],
   "source": [
    "mod_add_def"
   ]
  },
  {
   "cell_type": "code",
   "execution_count": null,
   "metadata": {},
   "outputs": [],
   "source": [
    "range_equiv1.lhs.domain.deduce_member_in_integer(l)"
   ]
  },
  {
   "cell_type": "code",
   "execution_count": null,
   "metadata": {},
   "outputs": [],
   "source": [
    "b_modadd_l_def = mod_add_def.instantiate({a:b_, b:l})\n",
    "b_modadd_l_def"
   ]
  },
  {
   "cell_type": "code",
   "execution_count": null,
   "metadata": {},
   "outputs": [],
   "source": [
    "set_of_all_mod_add_equiv = range_equiv1.lhs.instance_substitution(b_modadd_l_def.derive_reversed().generalize(l, domain=range_equiv1.lhs.domain))\n",
    "set_of_all_mod_add_equiv"
   ]
  },
  {
   "cell_type": "code",
   "execution_count": null,
   "metadata": {},
   "outputs": [],
   "source": [
    "range_equiv = set_of_all_mod_add_equiv.sub_right_side_into(range_equiv1)\n",
    "range_equiv.proven()"
   ]
  },
  {
   "cell_type": "code",
   "execution_count": null,
   "metadata": {},
   "outputs": [],
   "source": [
    "equiv_sums"
   ]
  },
  {
   "cell_type": "code",
   "execution_count": null,
   "metadata": {},
   "outputs": [],
   "source": [
    "equiv_sums_spec = equiv_sums.instantiate({fx:Prob(Equals(m_, x), m_), gy:ModAdd(b_, y), R:range_equiv.rhs, S:range_equiv.lhs.domain, x:k, y:l})\n",
    "equiv_sums_spec.proven()"
   ]
  },
  {
   "cell_type": "code",
   "execution_count": null,
   "metadata": {},
   "outputs": [],
   "source": [
    "deduce_in_complex(equiv_sums_spec.hypothesis.instance_expr.element).generalize(a, equiv_sums_spec.hypothesis.domain).proven()"
   ]
  },
  {
   "cell_type": "code",
   "execution_count": null,
   "metadata": {},
   "outputs": [],
   "source": [
    "shifted_all_prob_equals_one = equiv_sums_spec.derive_conclusion().sub_right_side_into(all_prob_equals_one).proven()\n",
    "shifted_all_prob_equals_one.proven()"
   ]
  },
  {
   "cell_type": "code",
   "execution_count": null,
   "metadata": {},
   "outputs": [],
   "source": [
    "fail_sum2 = shifted_all_prob_equals_one.sub_left_side_into(fail_sum1)\n",
    "fail_sum2.proven({eps_in_domain})"
   ]
  },
  {
   "cell_type": "code",
   "execution_count": null,
   "metadata": {},
   "outputs": [],
   "source": [
    "eps_upper_bound = eps_in_domain.domain.deduce_member_upper_bound(eps)\n",
    "eps_upper_bound.proven({eps_in_domain})"
   ]
  },
  {
   "cell_type": "code",
   "execution_count": null,
   "metadata": {},
   "outputs": [],
   "source": [
    "relaxed_eps_upper_bound1 = Add(eps_upper_bound.rhs, two).deduce_strict_increase(0).apply_transitivity(eps_upper_bound)\n",
    "relaxed_eps_upper_bound1.proven({eps_in_domain})"
   ]
  },
  {
   "cell_type": "code",
   "execution_count": null,
   "metadata": {},
   "outputs": [],
   "source": [
    "relaxed_eps_upper_bound2 = relaxed_eps_upper_bound1.lhs.commute().sub_right_side_into(relaxed_eps_upper_bound1)\n",
    "relaxed_eps_upper_bound2.proven({eps_in_domain})"
   ]
  },
  {
   "cell_type": "code",
   "execution_count": null,
   "metadata": {},
   "outputs": [],
   "source": [
    "relaxed_eps_upper_bound = outer_cancel.instantiate({a:two, b:two_pow_t_minus_one}).sub_right_side_into(relaxed_eps_upper_bound2).derive_reversed()\n",
    "relaxed_eps_upper_bound.proven({eps_in_domain})"
   ]
  },
  {
   "cell_type": "code",
   "execution_count": null,
   "metadata": {},
   "outputs": [],
   "source": [
    "deduce_negative(Neg(two_pow_t_minus_one))"
   ]
  },
  {
   "cell_type": "code",
   "execution_count": null,
   "metadata": {},
   "outputs": [],
   "source": [
    "lower_bound_less_than_one = Add(Neg(two_pow_t_minus_one), one).deduce_strict_decrease(1)\n",
    "lower_bound_less_than_one"
   ]
  },
  {
   "cell_type": "code",
   "execution_count": null,
   "metadata": {},
   "outputs": [],
   "source": [
    "eps_lower_bound = eps_in_domain.domain.deduce_member_lower_bound(eps)\n",
    "eps_lower_bound.proven({eps_in_domain})"
   ]
  },
  {
   "cell_type": "code",
   "execution_count": null,
   "metadata": {},
   "outputs": [],
   "source": [
    "relaxed_eps_lower_bound = eps_lower_bound.apply_transitivity(lower_bound_less_than_one).derive_relaxed({eps_in_domain})\n",
    "relaxed_eps_lower_bound.proven({eps_in_domain})"
   ]
  },
  {
   "cell_type": "code",
   "execution_count": null,
   "metadata": {},
   "outputs": [],
   "source": [
    "shifted_all_prob = shifted_all_prob_equals_one.lhs\n",
    "shifted_all_prob_split1 = shifted_all_prob.split(eps, side='after', assumptions={eps_in_domain})\n",
    "shifted_all_prob_split1.proven({eps_in_domain})"
   ]
  },
  {
   "cell_type": "code",
   "execution_count": null,
   "metadata": {},
   "outputs": [],
   "source": [
    "neg_eps_less_eq_eps = deduce_negative(Neg(eps), {eps_in_domain}).apply_transitivity(deduce_positive(eps, {eps_in_domain})).derive_relaxed({eps_in_domain})\n",
    "neg_eps_less_eq_eps"
   ]
  },
  {
   "cell_type": "code",
   "execution_count": null,
   "metadata": {},
   "outputs": [],
   "source": [
    "upper_bound_add_one = Add(eps_upper_bound.rhs, one)\n",
    "upper_bound_add_one"
   ]
  },
  {
   "cell_type": "code",
   "execution_count": null,
   "metadata": {},
   "outputs": [],
   "source": [
    "relaxed_neg_eps_lower_bound1 = upper_bound_add_one.deduce_strict_increase(0).apply_transitivity(eps_upper_bound).derive_negated({eps_in_domain})\n",
    "relaxed_neg_eps_lower_bound1.proven({eps_in_domain})"
   ]
  },
  {
   "cell_type": "code",
   "execution_count": null,
   "metadata": {},
   "outputs": [],
   "source": [
    "sub_two_add_one"
   ]
  },
  {
   "cell_type": "code",
   "execution_count": null,
   "metadata": {},
   "outputs": [],
   "source": [
    "relaxed_neg_eps_lower_bound2 = sub_two_add_one.instantiate({a:two_pow_t_minus_one}).sub_right_side_into(relaxed_neg_eps_lower_bound1)\n",
    "relaxed_neg_eps_lower_bound2.proven({eps_in_domain})"
   ]
  },
  {
   "cell_type": "code",
   "execution_count": null,
   "metadata": {},
   "outputs": [],
   "source": [
    "relaxed_neg_eps_lower_bound3 = relaxed_neg_eps_lower_bound2.lhs.distribute().sub_right_side_into(relaxed_neg_eps_lower_bound2)\n",
    "relaxed_neg_eps_lower_bound3.proven({eps_in_domain})"
   ]
  },
  {
   "cell_type": "code",
   "execution_count": null,
   "metadata": {},
   "outputs": [],
   "source": [
    "shifted_all_prob_split2 = shifted_all_prob_split1.rhs.terms[0].split(Neg(eps), side='before', assumptions={eps_in_domain}).sub_right_side_into(shifted_all_prob_split1)\n",
    "shifted_all_prob_split2.proven({eps_in_domain})"
   ]
  },
  {
   "cell_type": "code",
   "execution_count": null,
   "metadata": {},
   "outputs": [],
   "source": [
    "shifted_all_prob_split3 = shifted_all_prob_split2.rhs.ungroup(0).sub_right_side_into(shifted_all_prob_split2)\n",
    "shifted_all_prob_split3.proven({eps_in_domain})"
   ]
  },
  {
   "cell_type": "code",
   "execution_count": null,
   "metadata": {},
   "outputs": [],
   "source": [
    "fail_sum3 = shifted_all_prob_split3.sub_right_side_into(fail_sum2)\n",
    "fail_sum3.proven({eps_in_domain})"
   ]
  },
  {
   "cell_type": "code",
   "execution_count": null,
   "metadata": {},
   "outputs": [],
   "source": [
    "fail_sum4 = fail_sum3.rhs.cancel().sub_right_side_into(fail_sum3)\n",
    "fail_sum4.proven({eps_in_domain})"
   ]
  },
  {
   "cell_type": "code",
   "execution_count": null,
   "metadata": {},
   "outputs": [],
   "source": [
    "register_qubit_born_rule"
   ]
  },
  {
   "cell_type": "code",
   "execution_count": null,
   "metadata": {},
   "outputs": [],
   "source": [
    "l_in_domain = In(l, full_domain)\n",
    "l_in_domain"
   ]
  },
  {
   "cell_type": "code",
   "execution_count": null,
   "metadata": {},
   "outputs": [],
   "source": [
    "b_modadd_l_def.sub_left_side_into(b_modadd_l_def.rhs.deduce_in_interval({l_in_domain})).proven({l_in_domain})"
   ]
  },
  {
   "cell_type": "code",
   "execution_count": null,
   "metadata": {},
   "outputs": [],
   "source": [
    "prob_b_modadd_l_eq1 = register_qubit_born_rule.instantiate({n:t_}).instantiate({k:ModAdd(b_, l)}).instantiate({Psi:Psi_, m:m_}).proven({l_in_domain})\n",
    "prob_b_modadd_l_eq1"
   ]
  },
  {
   "cell_type": "code",
   "execution_count": null,
   "metadata": {},
   "outputs": [],
   "source": [
    "l_in_domain.domain.deduce_member_in_integer(l).proven({l_in_domain})"
   ]
  },
  {
   "cell_type": "code",
   "execution_count": null,
   "metadata": {},
   "outputs": [],
   "source": [
    "alpha_def"
   ]
  },
  {
   "cell_type": "code",
   "execution_count": null,
   "metadata": {},
   "outputs": [],
   "source": [
    "alpha_def_spec = alpha_def.instantiate().proven({l_in_domain})\n",
    "alpha_def_spec"
   ]
  },
  {
   "cell_type": "code",
   "execution_count": null,
   "metadata": {},
   "outputs": [],
   "source": [
    "prob_as_alpha_sqrd = alpha_def_spec.sub_left_side_into(prob_b_modadd_l_eq1)\n",
    "prob_as_alpha_sqrd"
   ]
  },
  {
   "cell_type": "code",
   "execution_count": null,
   "metadata": {},
   "outputs": [],
   "source": [
    "neg_domain = fail_sum4.rhs.terms[0].domain\n",
    "pos_domain = fail_sum4.rhs.terms[1].domain\n",
    "display(neg_domain)\n",
    "display(pos_domain)"
   ]
  },
  {
   "cell_type": "code",
   "execution_count": null,
   "metadata": {},
   "outputs": [],
   "source": [
    "neg_domain.deduce_member_in_integer(l, {eps_in_domain}).proven({In(l, neg_domain), eps_in_domain})\n",
    "pos_domain.deduce_member_in_integer(l, {eps_in_domain}).proven({In(l, pos_domain), eps_in_domain})"
   ]
  },
  {
   "cell_type": "code",
   "execution_count": null,
   "metadata": {},
   "outputs": [],
   "source": [
    "prob_as_alpha_sqrd_over_neg_domain = prob_as_alpha_sqrd.generalize(l, neg_domain)\n",
    "prob_as_alpha_sqrd_over_neg_domain.proven({eps_in_domain})"
   ]
  },
  {
   "cell_type": "code",
   "execution_count": null,
   "metadata": {},
   "outputs": [],
   "source": [
    "prob_as_alpha_sqrd_over_pos_domain = prob_as_alpha_sqrd.generalize(l, fail_sum4.rhs.terms[1].domain)\n",
    "prob_as_alpha_sqrd_over_pos_domain.proven({eps_in_domain})"
   ]
  },
  {
   "cell_type": "code",
   "execution_count": null,
   "metadata": {},
   "outputs": [],
   "source": [
    "neg_domain_sum_eq = fail_sum4.rhs.terms[0].instance_substitution(prob_as_alpha_sqrd_over_neg_domain)\n",
    "neg_domain_sum_eq.proven({eps_in_domain})"
   ]
  },
  {
   "cell_type": "code",
   "execution_count": null,
   "metadata": {},
   "outputs": [],
   "source": [
    "pos_domain_sum_eq = fail_sum4.rhs.terms[1].instance_substitution(prob_as_alpha_sqrd_over_pos_domain)\n",
    "pos_domain_sum_eq.proven({eps_in_domain})"
   ]
  },
  {
   "cell_type": "code",
   "execution_count": null,
   "metadata": {},
   "outputs": [],
   "source": [
    "fail_sum5 = neg_domain_sum_eq.sub_right_side_into(fail_sum4)\n",
    "fail_sum5.proven({eps_in_domain})"
   ]
  },
  {
   "cell_type": "code",
   "execution_count": null,
   "metadata": {},
   "outputs": [],
   "source": [
    "fail_sum6 = pos_domain_sum_eq.sub_right_side_into(fail_sum5)\n",
    "fail_sum6.proven({eps_in_domain})"
   ]
  },
  {
   "cell_type": "code",
   "execution_count": null,
   "metadata": {},
   "outputs": [],
   "source": [
    "clean_neg_upper_bound1 = Neg(Add(eps, one)).distribute({eps_in_domain})\n",
    "clean_neg_upper_bound1.proven({eps_in_domain})"
   ]
  },
  {
   "cell_type": "code",
   "execution_count": null,
   "metadata": {},
   "outputs": [],
   "source": [
    "clean_neg_upper_bound2 = clean_neg_upper_bound1.rhs.subtraction_folding(1, {eps_in_domain}).sub_right_side_into(clean_neg_upper_bound1)\n",
    "clean_neg_upper_bound2.proven({eps_in_domain})"
   ]
  },
  {
   "cell_type": "code",
   "execution_count": null,
   "metadata": {},
   "outputs": [],
   "source": [
    "fail_sum7 = clean_neg_upper_bound2.sub_left_side_into(fail_sum6)\n",
    "fail_sum7.proven({eps_in_domain})"
   ]
  },
  {
   "cell_type": "code",
   "execution_count": null,
   "metadata": {},
   "outputs": [],
   "source": [
    "fail_sum7.generalize(eps, domain=eps_in_domain.domain)#.qed()"
   ]
  },
  {
   "cell_type": "code",
   "execution_count": null,
   "metadata": {},
   "outputs": [],
   "source": []
  }
 ],
 "metadata": {
  "kernelspec": {
   "display_name": "Python 3",
   "language": "python",
   "name": "python3"
  }
 },
 "nbformat": 4,
 "nbformat_minor": 0
}
