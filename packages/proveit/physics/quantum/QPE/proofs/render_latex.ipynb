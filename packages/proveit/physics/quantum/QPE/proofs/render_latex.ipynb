{
 "cells": [
  {
   "cell_type": "code",
   "execution_count": null,
   "metadata": {},
   "outputs": [],
   "source": [
    "import base64\n",
    "from IPython.lib.latextools import latex_to_png, LaTeXTool\n",
    "LaTeXTool.clear_instance()\n",
    "lt = LaTeXTool.instance()\n",
    "lt.use_breqn = False"
   ]
  },
  {
   "cell_type": "markdown",
   "metadata": {},
   "source": [
    "## Render LaTeX expressions in the html"
   ]
  },
  {
   "cell_type": "code",
   "execution_count": null,
   "metadata": {},
   "outputs": [],
   "source": [
    "filename = r'c:\\Users\\wwitzel\\Downloads\\nonintdeltadiff.html'\n",
    "outname = filename[:-5] + '_rendered.html'\n",
    "out = open(outname, 'w')"
   ]
  },
  {
   "cell_type": "code",
   "execution_count": null,
   "metadata": {},
   "outputs": [],
   "source": [
    "for line in open(filename):\n",
    "    pos = line.find('$')\n",
    "    while pos >= 0:\n",
    "        print(line[:pos], end=' ', file=out)\n",
    "        line = line[pos+1:]\n",
    "        pos = line.find('$')\n",
    "        latex_str = line[:pos]\n",
    "        if len(latex_str) > 3:\n",
    "            latex_str = latex_str.replace('&lt;', '<')\n",
    "            latex_str = latex_str.replace('&gt;', '>')\n",
    "            print(latex_str)\n",
    "            png = latex_to_png(latex_str, backend='dvipng', wrap=True)\n",
    "            print('<img src=\"data:image/png;base64,%s\">'%base64.b64encode(png), file=out)\n",
    "        line = line[pos+1:]\n",
    "        pos = line.find('$')\n",
    "    print(line[:-1], file=out)"
   ]
  },
  {
   "cell_type": "code",
   "execution_count": null,
   "metadata": {},
   "outputs": [],
   "source": [
    "out.close()"
   ]
  },
  {
   "cell_type": "code",
   "execution_count": null,
   "metadata": {},
   "outputs": [],
   "source": [
    "png"
   ]
  },
  {
   "cell_type": "code",
   "execution_count": null,
   "metadata": {},
   "outputs": [],
   "source": [
    "latex_to_png(latex_str, backend='dvipng', wrap=True)"
   ]
  },
  {
   "cell_type": "code",
   "execution_count": null,
   "metadata": {},
   "outputs": [],
   "source": [
    "latex_str"
   ]
  },
  {
   "cell_type": "code",
   "execution_count": null,
   "metadata": {},
   "outputs": [],
   "source": [
    "latex_str.replace('&lt;', '<')"
   ]
  },
  {
   "cell_type": "markdown",
   "metadata": {},
   "source": [
    "## Copy images as inline"
   ]
  },
  {
   "cell_type": "code",
   "execution_count": null,
   "metadata": {},
   "outputs": [],
   "source": [
    "filename = r'c:\\Users\\wwitzel\\downloads\\_demonstrations_.html'\n",
    "outname = filename[:-5] + '_inline.html'\n",
    "out = open(outname, 'w')\n",
    "import re\n",
    "import os"
   ]
  },
  {
   "cell_type": "code",
   "execution_count": null,
   "metadata": {},
   "outputs": [],
   "source": [
    "for line in open(filename):\n",
    "    match = re.search(r'<img src=\\\"([^\\\"]*)\\\"([^>]*)>', line)\n",
    "    if match is not None:\n",
    "        src, remaining = match.groups()\n",
    "        png_filename = os.path.join(\"C:/Users/wwitzel/Prove-It/packages/proveit\", src)\n",
    "        #print src\n",
    "        png = open(png_filename, 'rb').read()\n",
    "        print(line[:match.span()[0]] + '<img src=\"data:image/png;base64,%s\"%s>'%(base64.b64encode(png), remaining) + line[match.span()[1]:-1], file=out)\n",
    "    else:\n",
    "        print(line[:-1], file=out)"
   ]
  },
  {
   "cell_type": "code",
   "execution_count": null,
   "metadata": {},
   "outputs": [],
   "source": [
    "out.close()"
   ]
  },
  {
   "cell_type": "code",
   "execution_count": null,
   "metadata": {},
   "outputs": [],
   "source": []
  }
 ],
 "metadata": {
  "kernelspec": {
   "display_name": "Python 3",
   "language": "python",
   "name": "python3"
  }
 },
 "nbformat": 4,
 "nbformat_minor": 0
}
