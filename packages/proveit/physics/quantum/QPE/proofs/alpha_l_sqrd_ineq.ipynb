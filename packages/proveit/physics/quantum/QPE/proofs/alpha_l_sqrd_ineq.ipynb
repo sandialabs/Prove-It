{
 "cells": [
  {
   "cell_type": "code",
   "execution_count": null,
   "metadata": {},
   "outputs": [],
   "source": [
    "from proveit.numbers.arithmetic_ops import *\n",
    "from proveit.numbers.relation import Relation\n",
    "from proveit.numbers.real.theorems import div_ineq_thm1, div_ineq_thm1cor, ineq_thm9, ineq_thm10, ineq_thm10a\n",
    "from proveit.numbers.complex.theorems import abs_prod, one_exp, exp_one, int_pow_of_pow\n",
    "from proveit.numbers.axioms import mult_assoc\n",
    "from proveit.numbers.complex.theorems import mult_one, sum_in_pow, diff_square_comm\n",
    "from proveit.numbers.complex.theorems import frac_cancel2, frac_cancel4, mult_comm, nats_pos_pow_of_prod, square_pos_ineq, \\\n",
    "    abs_is_non_neg\n",
    "from proveit.basiclogic import In, auto_substitute, auto_substitution, NotEquals\n",
    "from proveit.numbers.real.theorems import abs_two_pi, abs_pos, square_pos_eq, relax_greater_than, relax_less_than\n",
    "from proveit.numbers.natural.theorems import two_squared\n",
    "from proveit.numbers import deduce_not_zero\n",
    "from proveit.numbers.common import *\n",
    "from proveit.trigonometry.theorems import exp_2pi_i_nonInt, bounded_unit_modulus_diff\n",
    "from proveit.physics.quantum.QPE.axioms import t_in_natural_pos\n",
    "from proveit.physics.quantum.QPE.theorems import alpha_l_sqrd_ineq, two_pow_t_minus_one_is_nat_pos, phase_is_real\n",
    "from proveit.physics.quantum.QPE.theorems import delta_is_real\n",
    "from proveit.physics.quantum.QPE.theorems import scaled_delta_in_interval, delta_not_eq_scaledNonzeroInt, scaled_delta_not_eq_nonzeroInt\n",
    "from proveit.physics.quantum.QPE.theorems import non_int_delta_diff, scaled_delta_diff_in_interval\n",
    "from proveit.physics.quantum.QPE.theorems import all_alpha_l_is_complex, all_abs_alpha_l_nonneg, alpha_l_summed, alpha_l_summed_abs\n",
    "from proveit.physics.quantum.QPE.common import t_, delta_, alpha_l, two_pow_t, two_pow_t_minus_one\n",
    "from proveit.basiclogic.equality.eq_ops import extract_sub_expr\n",
    "from IPython.display import display"
   ]
  },
  {
   "cell_type": "code",
   "execution_count": null,
   "metadata": {},
   "outputs": [],
   "source": [
    "alpha_l_sqrd_ineq.begin_proof()"
   ]
  },
  {
   "cell_type": "code",
   "execution_count": null,
   "metadata": {},
   "outputs": [],
   "source": [
    "domain = DiscreteContiguousSet(Add(Neg(two_pow_t_minus_one), one), two_pow_t_minus_one)\n",
    "display(In(l, domain))\n",
    "display(NotEquals(l, zero))\n",
    "assumptions = {In(l,domain), NotEquals(l, zero)}"
   ]
  },
  {
   "cell_type": "code",
   "execution_count": null,
   "metadata": {},
   "outputs": [],
   "source": [
    "display(domain.deduce_member_in_integer(l, assumptions=assumptions).proven(assumptions))\n",
    "display(domain.deduce_member_lower_bound(l, assumptions=assumptions).proven(assumptions))\n",
    "display(domain.deduce_member_upper_bound(l, assumptions=assumptions).proven(assumptions))"
   ]
  },
  {
   "cell_type": "code",
   "execution_count": null,
   "metadata": {},
   "outputs": [],
   "source": [
    "abs_alpha_l = alpha_l_summed_abs.instantiate().proven(assumptions)\n",
    "abs_alpha_l"
   ]
  },
  {
   "cell_type": "code",
   "execution_count": null,
   "metadata": {},
   "outputs": [],
   "source": [
    "exp_2pi_i_nonInt"
   ]
  },
  {
   "cell_type": "code",
   "execution_count": null,
   "metadata": {},
   "outputs": [],
   "source": [
    "display(delta_not_eq_scaledNonzeroInt.instantiate().proven(assumptions))\n",
    "display(scaled_delta_not_eq_nonzeroInt.instantiate().proven(assumptions))\n",
    "non_int_delta_diff_spec = non_int_delta_diff.instantiate()\n",
    "display(non_int_delta_diff_spec.proven(assumptions))\n",
    "display(non_int_delta_diff_spec.element.deduce_in_real(assumptions).proven(assumptions))\n",
    "display(scaled_delta_diff_in_interval.instantiate().proven(assumptions))\n",
    "exp_not_one = exp_2pi_i_nonInt.instantiate({x:non_int_delta_diff_spec.element}).proven(assumptions)\n",
    "display(exp_not_one)\n",
    "display(auto_substitute(exp_not_one, 'factor', [i], {'assumptions':assumptions, 'pull':'left'}).proven(assumptions))\n",
    "display(auto_substitute(exp_not_one, 'factor', [i], {'assumptions':assumptions, 'pull':'left', 'group_remainder':'True'}).proven(assumptions))"
   ]
  },
  {
   "cell_type": "code",
   "execution_count": null,
   "metadata": {},
   "outputs": [],
   "source": [
    "display(all_alpha_l_is_complex.instantiate())\n",
    "abs_alpha_l_real_and_nonneg = all_abs_alpha_l_nonneg.instantiate().decompose()\n",
    "display(abs_alpha_l_real_and_nonneg[0])\n",
    "display(abs_alpha_l_real_and_nonneg[1])"
   ]
  },
  {
   "cell_type": "code",
   "execution_count": null,
   "metadata": {},
   "outputs": [],
   "source": [
    "display(deduce_in_real(two))\n",
    "display(deduce_positive(two))\n",
    "display(deduce_in_real(pi))\n",
    "display(deduce_in_real(Multiply(two,pi)))\n",
    "display(deduce_in_complex(Multiply(two,pi)))\n",
    "display(deduce_in_real(two_pow_t,assumptions))\n",
    "display(deduce_positive(two_pow_t,assumptions))\n",
    "display(deduce_in_real(Exponentiate(two, Add(t_, one))))\n",
    "display(deduce_in_complex(Exponentiate(two,Add(t_,one))))\n",
    "display(deduce_in_real(Multiply(two,pi,subtract(Multiply(Exponentiate(two,t_),delta_),l)),assumptions))"
   ]
  },
  {
   "cell_type": "code",
   "execution_count": null,
   "metadata": {},
   "outputs": [],
   "source": [
    "X1 = auto_substitute(abs_alpha_l, 'factor', [i], {'assumptions':assumptions,'pull':'left'}, super_expr=abs_alpha_l.rhs.numerator, suppress_warnings=True).proven(assumptions)\n",
    "X1"
   ]
  },
  {
   "cell_type": "code",
   "execution_count": null,
   "metadata": {},
   "outputs": [],
   "source": [
    "X2 = auto_substitute(X1, 'factor', [i], {'assumptions':assumptions}, super_expr=abs_alpha_l.rhs.denominator, suppress_warnings=True).proven(assumptions)\n",
    "X2"
   ]
  },
  {
   "cell_type": "code",
   "execution_count": null,
   "metadata": {},
   "outputs": [],
   "source": [
    "Y1 = ineq_thm9.instantiate({theta:Multiply(two,pi,subtract(Multiply(Exponentiate(two,t_),delta_),l))}).proven(assumptions)\n",
    "Y1"
   ]
  },
  {
   "cell_type": "code",
   "execution_count": null,
   "metadata": {},
   "outputs": [],
   "source": [
    "#deduce_not_zero(subtract(one,Exponentiate(e,Multiply(i,two,pi,subtract(delta_,frac(l,Exponentiate(two,t_)))))),assumptions)\n",
    "deduce_in_real_pos(X2.rhs.denominator,assumptions)"
   ]
  },
  {
   "cell_type": "code",
   "execution_count": null,
   "metadata": {},
   "outputs": [],
   "source": [
    "div_ineq_thm1"
   ]
  },
  {
   "cell_type": "code",
   "execution_count": null,
   "metadata": {},
   "outputs": [],
   "source": [
    "display(deduce_in_real(X2.rhs.denominator, assumptions).proven(assumptions))\n",
    "display(deduce_positive(X2.rhs.denominator,assumptions).proven(assumptions))\n",
    "display(deduce_in_real(Y1.lhs, assumptions).proven(assumptions))"
   ]
  },
  {
   "cell_type": "code",
   "execution_count": null,
   "metadata": {},
   "outputs": [],
   "source": [
    "Y2 = div_ineq_thm1.instantiate({a:Y1.lhs,b:X2.rhs.denominator,c:Y1.rhs}).proven(assumptions)\n",
    "Y2"
   ]
  },
  {
   "cell_type": "code",
   "execution_count": null,
   "metadata": {},
   "outputs": [],
   "source": [
    "X2a = Multiply(i,two,pi,subtract(Multiply(Exponentiate(two,t_),delta_),l)).group(1,4,assumptions=assumptions).sub_right_side_into(X2).proven(assumptions)\n",
    "X2a"
   ]
  },
  {
   "cell_type": "code",
   "execution_count": null,
   "metadata": {},
   "outputs": [],
   "source": [
    "X5 = Relation(X2a).update(Y2).proven(assumptions)\n",
    "X5"
   ]
  },
  {
   "cell_type": "code",
   "execution_count": null,
   "metadata": {},
   "outputs": [],
   "source": [
    "X5a = mult_assoc.instantiate({x_etc:i,\n",
    "                            y_etc:[two,pi,subtract(delta_,frac(l,Exponentiate(two,t_)))],\n",
    "                            z_etc:[]}).sub_right_side_into(X5).proven(assumptions)\n",
    "X5a"
   ]
  },
  {
   "cell_type": "code",
   "execution_count": null,
   "metadata": {},
   "outputs": [],
   "source": [
    "Y5_0 = bounded_unit_modulus_diff.instantiate(\n",
    "    {theta:Multiply(two,pi, subtract(delta_,frac(l,Exponentiate(two,t_))))}).proven(assumptions).derive_reversed().proven(assumptions)\n",
    "Y5_0"
   ]
  },
  {
   "cell_type": "code",
   "execution_count": null,
   "metadata": {},
   "outputs": [],
   "source": [
    "display(deduce_in_real(Y5_0.lhs,assumptions))\n",
    "display(deduce_in_real(Y5_0.rhs,assumptions))"
   ]
  },
  {
   "cell_type": "code",
   "execution_count": null,
   "metadata": {},
   "outputs": [],
   "source": [
    "Y6 = div_ineq_thm1cor.instantiate({a:Y5_0.lhs,c:Y5_0.rhs,b:Exponentiate(two,t_)}).proven(assumptions).derive_reversed().proven(assumptions)\n",
    "Y6"
   ]
  },
  {
   "cell_type": "code",
   "execution_count": null,
   "metadata": {},
   "outputs": [],
   "source": [
    "Y7 = auto_substitute(Y6, 'group', [0,2], {'assumptions':assumptions}, super_expr=Y6.rhs, suppress_warnings=True).proven(assumptions)\n",
    "Y7"
   ]
  },
  {
   "cell_type": "code",
   "execution_count": null,
   "metadata": {},
   "outputs": [],
   "source": [
    "Y8 = abs_prod.instantiate({x_etc:[Multiply(two,pi),subtract(delta_,frac(l,Exponentiate(two,t_)))]}).proven(assumptions)\n",
    "Y8"
   ]
  },
  {
   "cell_type": "code",
   "execution_count": null,
   "metadata": {},
   "outputs": [],
   "source": [
    "Y9 = Y8.sub_right_side_into(Y7).proven(assumptions)\n",
    "Y9"
   ]
  },
  {
   "cell_type": "code",
   "execution_count": null,
   "metadata": {},
   "outputs": [],
   "source": [
    "Y10 = abs_pos.instantiate({a:Multiply(two,pi)}).sub_right_side_into(Y9).proven(assumptions)\n",
    "Y10"
   ]
  },
  {
   "cell_type": "code",
   "execution_count": null,
   "metadata": {},
   "outputs": [],
   "source": [
    "Y11_0 = Multiply(two,\n",
    "                Multiply(two,pi),\n",
    "                Abs(subtract(delta_,frac(l,Exponentiate(two,t_)))))\n",
    "Y11_0"
   ]
  },
  {
   "cell_type": "code",
   "execution_count": null,
   "metadata": {},
   "outputs": [],
   "source": [
    "Y11 = Y11_0.group(1,3,assumptions).proven(assumptions)\n",
    "Y11"
   ]
  },
  {
   "cell_type": "code",
   "execution_count": null,
   "metadata": {},
   "outputs": [],
   "source": [
    "Y12 = Y11.sub_left_side_into(Y10).proven(assumptions)\n",
    "Y12"
   ]
  },
  {
   "cell_type": "code",
   "execution_count": null,
   "metadata": {},
   "outputs": [],
   "source": [
    "Y13 = mult_assoc.instantiate({x_etc:two, y_etc:[two,pi],\n",
    "                            z_etc:Abs(subtract(delta_,frac(l,Exponentiate(two,t_))))}).proven(assumptions)\n",
    "Y13"
   ]
  },
  {
   "cell_type": "code",
   "execution_count": null,
   "metadata": {},
   "outputs": [],
   "source": [
    "Y14 = Y13.sub_left_side_into(Y12).proven(assumptions)\n",
    "Y14"
   ]
  },
  {
   "cell_type": "code",
   "execution_count": null,
   "metadata": {},
   "outputs": [],
   "source": [
    "display(deduce_in_complex(Multiply(two,two,Abs(subtract(delta_,frac(l,Exponentiate(two,t_))))),assumptions))\n",
    "display(deduce_in_complex(Abs(subtract(delta_,frac(l,Exponentiate(two,t_)))),assumptions))\n"
   ]
  },
  {
   "cell_type": "code",
   "execution_count": null,
   "metadata": {},
   "outputs": [],
   "source": [
    "Y15_0 = Y14.rhs.operands[1].cancel(pi,assumptions=assumptions).proven(assumptions)\n",
    "Y15_0"
   ]
  },
  {
   "cell_type": "code",
   "execution_count": null,
   "metadata": {},
   "outputs": [],
   "source": [
    "Y15 = Y14.rhs.operands[1].cancel(pi,assumptions=assumptions).sub_right_side_into(Y14).proven(assumptions)\n",
    "Y15"
   ]
  },
  {
   "cell_type": "code",
   "execution_count": null,
   "metadata": {},
   "outputs": [],
   "source": [
    "Y18 = deduce_positive(Y15.rhs, assumptions).proven(assumptions)\n",
    "display(Y18)\n",
    "display(deduce_in_real(Y18.lhs,assumptions).proven(assumptions))"
   ]
  },
  {
   "cell_type": "code",
   "execution_count": null,
   "metadata": {},
   "outputs": [],
   "source": [
    "deduce_positive(X5a.rhs.denominator, assumptions).proven(assumptions)"
   ]
  },
  {
   "cell_type": "code",
   "execution_count": null,
   "metadata": {},
   "outputs": [],
   "source": [
    "X19 = ineq_thm10a.instantiate({w:X5.lhs,\n",
    "                      x:X5a.rhs.numerator,\n",
    "                      y:X5a.rhs.denominator,\n",
    "                      z:Y18.lhs}).proven(assumptions)\n",
    "X19"
   ]
  },
  {
   "cell_type": "code",
   "execution_count": null,
   "metadata": {},
   "outputs": [],
   "source": [
    "X20 = X19.rhs.denominator.ungroup(1,assumptions=assumptions).sub_right_side_into(X19).proven(assumptions)\n",
    "X20"
   ]
  },
  {
   "cell_type": "code",
   "execution_count": null,
   "metadata": {},
   "outputs": [],
   "source": [
    "#21 omitted intentionally\n",
    "X22 = X20.rhs.cancel(two,'left',assumptions).sub_right_side_into(X20).proven(assumptions)\n",
    "X22"
   ]
  },
  {
   "cell_type": "code",
   "execution_count": null,
   "metadata": {},
   "outputs": [],
   "source": [
    "deduce_in_complex(Abs(subtract(delta_,frac(l,Exponentiate(two,t_)))), assumptions)"
   ]
  },
  {
   "cell_type": "code",
   "execution_count": null,
   "metadata": {},
   "outputs": [],
   "source": [
    "deduce_in_complex(two)"
   ]
  },
  {
   "cell_type": "code",
   "execution_count": null,
   "metadata": {},
   "outputs": [],
   "source": [
    "deduce_in_complex(t_)"
   ]
  },
  {
   "cell_type": "code",
   "execution_count": null,
   "metadata": {},
   "outputs": [],
   "source": [
    "#23 omitted intentionally\n",
    "X24 = X22.rhs.denominator.combine_exponents(0, 2, assumptions=assumptions).sub_right_side_into(X22).proven(assumptions)\n",
    "X24"
   ]
  },
  {
   "cell_type": "code",
   "execution_count": null,
   "metadata": {},
   "outputs": [],
   "source": [
    "deduce_in_real(X24.rhs,assumptions)"
   ]
  },
  {
   "cell_type": "code",
   "execution_count": null,
   "metadata": {},
   "outputs": [],
   "source": [
    "square_pos_ineq"
   ]
  },
  {
   "cell_type": "code",
   "execution_count": null,
   "metadata": {},
   "outputs": [],
   "source": [
    "X25 = square_pos_ineq.instantiate({a:alpha_l}).instantiate({b:X24.rhs})\n",
    "X25.proven(assumptions)"
   ]
  },
  {
   "cell_type": "code",
   "execution_count": null,
   "metadata": {},
   "outputs": [],
   "source": [
    "X26 = X25.rhs.distribute_exponent(assumptions=assumptions).sub_right_side_into(X25)\n",
    "X26.proven(assumptions)"
   ]
  },
  {
   "cell_type": "code",
   "execution_count": null,
   "metadata": {},
   "outputs": [],
   "source": [
    "deduce_in_complex(Abs(subtract(delta_,frac(l,Exponentiate(two,t_)))), assumptions)"
   ]
  },
  {
   "cell_type": "code",
   "execution_count": null,
   "metadata": {},
   "outputs": [],
   "source": [
    "nats_pos_pow_of_prod"
   ]
  },
  {
   "cell_type": "code",
   "execution_count": null,
   "metadata": {},
   "outputs": [],
   "source": [
    "a_sub = Exponentiate(two,Add(t_,one))\n",
    "b_sub = Abs(subtract(delta_,frac(l,Exponentiate(two,t_))))\n",
    "X27 = nats_pos_pow_of_prod.instantiate({n:two}).instantiate({a:a_sub, b:b_sub}).sub_right_side_into(X26)\n",
    "X27.proven(assumptions)"
   ]
  },
  {
   "cell_type": "code",
   "execution_count": null,
   "metadata": {},
   "outputs": [],
   "source": [
    "X28 = exp_one.instantiate({x:two}).sub_right_side_into(X27)\n",
    "X28.proven(assumptions)"
   ]
  },
  {
   "cell_type": "code",
   "execution_count": null,
   "metadata": {},
   "outputs": [],
   "source": [
    "int_pow_of_pow"
   ]
  },
  {
   "cell_type": "code",
   "execution_count": null,
   "metadata": {},
   "outputs": [],
   "source": [
    "deduce_not_zero(two)\n",
    "deduce_in_integer(two)\n",
    "deduce_in_complex([two, Add(t_,one)])\n",
    "X29 = int_pow_of_pow.instantiate({n:two}).instantiate({a:two,b:Add(t_,one)}).sub_right_side_into(X28)\n",
    "X29.proven(assumptions)"
   ]
  },
  {
   "cell_type": "code",
   "execution_count": null,
   "metadata": {},
   "outputs": [],
   "source": [
    "X30 = X29.rhs.denominator.factors[0].exponent.distribute(0).sub_right_side_into(X29)\n",
    "X30.proven(assumptions)"
   ]
  },
  {
   "cell_type": "code",
   "execution_count": null,
   "metadata": {},
   "outputs": [],
   "source": [
    "X31 = mult_one.instantiate({x:two}).sub_right_side_into(X30)\n",
    "X31.proven(assumptions)"
   ]
  },
  {
   "cell_type": "code",
   "execution_count": null,
   "metadata": {},
   "outputs": [],
   "source": [
    "deduce_in_complex(Multiply(t_,two),assumptions)"
   ]
  },
  {
   "cell_type": "code",
   "execution_count": null,
   "metadata": {},
   "outputs": [],
   "source": [
    "X32 = sum_in_pow.instantiate({a:two,b:Multiply(t_,two),c:two}).sub_right_side_into(X31)\n",
    "X32.proven(assumptions)"
   ]
  },
  {
   "cell_type": "code",
   "execution_count": null,
   "metadata": {},
   "outputs": [],
   "source": [
    "X33 = square_pos_eq.instantiate({a:subtract(delta_,frac(l,Exponentiate(two,t_)))}).sub_right_side_into(X32)\n",
    "X33.proven(assumptions)"
   ]
  },
  {
   "cell_type": "code",
   "execution_count": null,
   "metadata": {},
   "outputs": [],
   "source": [
    "deduce_in_complex(frac(l,Exponentiate(two,t_)),assumptions)\n",
    "deduce_in_complex(delta_,assumptions)"
   ]
  },
  {
   "cell_type": "code",
   "execution_count": null,
   "metadata": {},
   "outputs": [],
   "source": [
    "X34 = diff_square_comm.instantiate({a:delta_,b:frac(l,Exponentiate(two,t_))}).sub_right_side_into(X33) \n",
    "X34.proven(assumptions)"
   ]
  },
  {
   "cell_type": "code",
   "execution_count": null,
   "metadata": {},
   "outputs": [],
   "source": [
    "X35 = int_pow_of_pow.instantiate({n:two}).instantiate({a:two,b:t_}).sub_left_side_into(X34)\n",
    "X35.proven(assumptions)"
   ]
  },
  {
   "cell_type": "code",
   "execution_count": null,
   "metadata": {},
   "outputs": [],
   "source": [
    "deduce_in_complex(X35.rhs, assumptions)"
   ]
  },
  {
   "cell_type": "code",
   "execution_count": null,
   "metadata": {},
   "outputs": [],
   "source": [
    "deduce_in_complex(X35.rhs.denominator.operands[0].operands[0],assumptions)\n",
    "deduce_in_complex(X35.rhs.denominator.operands[0].operands[1],assumptions)\n",
    "deduce_in_complex(X35.rhs.denominator.operands[1],assumptions)"
   ]
  },
  {
   "cell_type": "code",
   "execution_count": null,
   "metadata": {},
   "outputs": [],
   "source": [
    "X36 = mult_assoc.instantiate({x_etc:[],\n",
    "                      y_etc:X35.rhs.denominator.operands[0].operands,\n",
    "                      z_etc:X35.rhs.denominator.operands[1]}).sub_left_side_into(X35).proven(assumptions)\n",
    "X36"
   ]
  },
  {
   "cell_type": "code",
   "execution_count": null,
   "metadata": {},
   "outputs": [],
   "source": [
    "X37 = X36.rhs.denominator.commute(0,1,1,2,assumptions).sub_right_side_into(X36).proven(assumptions)\n",
    "X37"
   ]
  },
  {
   "cell_type": "code",
   "execution_count": null,
   "metadata": {},
   "outputs": [],
   "source": [
    "X38 = X37.rhs.denominator.group(1,assumptions=assumptions).sub_right_side_into(X37).proven(assumptions)\n",
    "X38"
   ]
  },
  {
   "cell_type": "code",
   "execution_count": null,
   "metadata": {},
   "outputs": [],
   "source": [
    "deduce_in_complex(Exponentiate(two,t_))"
   ]
  },
  {
   "cell_type": "code",
   "execution_count": null,
   "metadata": {},
   "outputs": [],
   "source": [
    "deduce_in_complex(subtract(\n",
    "                frac(l,Exponentiate(two,t_))\n",
    "                ,delta_), assumptions)"
   ]
  },
  {
   "cell_type": "code",
   "execution_count": null,
   "metadata": {},
   "outputs": [],
   "source": [
    "X39 = X38.rhs.denominator.factors[1].combine_exponents(assumptions=assumptions).sub_right_side_into(X38).proven(assumptions)"
   ]
  },
  {
   "cell_type": "code",
   "execution_count": null,
   "metadata": {},
   "outputs": [],
   "source": [
    "X40 = X39.rhs.denominator.operands[1].base.commute(assumptions=assumptions).sub_right_side_into(X39).proven(assumptions)\n",
    "X40"
   ]
  },
  {
   "cell_type": "code",
   "execution_count": null,
   "metadata": {},
   "outputs": [],
   "source": [
    "X41 = X40.rhs.denominator.factors[1].base.distribute(0, assumptions=assumptions).sub_right_side_into(X40)\n",
    "X41.proven(assumptions)"
   ]
  },
  {
   "cell_type": "code",
   "execution_count": null,
   "metadata": {},
   "outputs": [],
   "source": [
    "deduce_in_complex(l,assumptions)"
   ]
  },
  {
   "cell_type": "code",
   "execution_count": null,
   "metadata": {},
   "outputs": [],
   "source": [
    "X42 = frac_cancel4.instantiate({x:l,y:Exponentiate(two,t_)}).sub_right_side_into(X41)\n",
    "X42.proven(assumptions)"
   ]
  },
  {
   "cell_type": "code",
   "execution_count": null,
   "metadata": {},
   "outputs": [],
   "source": [
    "X43 = two_squared.instantiate({}).sub_right_side_into(X42)\n",
    "X43.proven(assumptions)"
   ]
  },
  {
   "cell_type": "code",
   "execution_count": null,
   "metadata": {},
   "outputs": [],
   "source": [
    "X44 = X43.rhs.denominator.operands[1].base.operands[1].commute(assumptions=assumptions).sub_right_side_into(X43).proven(assumptions)\n",
    "X44"
   ]
  },
  {
   "cell_type": "code",
   "execution_count": null,
   "metadata": {},
   "outputs": [],
   "source": [
    "X44.generalize(l,domain=domain,conditions=[NotEquals(l, zero)]).qed()"
   ]
  },
  {
   "cell_type": "code",
   "execution_count": null,
   "metadata": {},
   "outputs": [],
   "source": []
  },
  {
   "cell_type": "code",
   "execution_count": null,
   "metadata": {},
   "outputs": [],
   "source": []
  }
 ],
 "metadata": {
  "kernelspec": {
   "display_name": "Python 3",
   "language": "python",
   "name": "python3"
  }
 },
 "nbformat": 4,
 "nbformat_minor": 0
}
