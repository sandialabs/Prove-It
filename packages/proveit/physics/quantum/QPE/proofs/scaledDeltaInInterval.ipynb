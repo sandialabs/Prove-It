{
 "cells": [
  {
   "cell_type": "code",
   "execution_count": null,
   "metadata": {},
   "outputs": [],
   "source": [
    "from proveit.basiclogic import Equation, auto_substitute\n",
    "from proveit.physics.quantum.QPE.axioms import best_def, delta_def, phase_in_interval\n",
    "from proveit.physics.quantum.QPE.common import b_, two_pow_t\n",
    "from proveit.physics.quantum.QPE.theorems import scaled_delta_in_interval, two_pow_t_is_nat_pos, phase_is_real, best_is_int\n",
    "from proveit.numbers import Multiply, frac, Floor\n",
    "from proveit.numbers.real.axioms import floor_def\n",
    "from proveit.numbers import deduce_in_real\n",
    "from proveit.common import x, X"
   ]
  },
  {
   "cell_type": "code",
   "execution_count": null,
   "metadata": {},
   "outputs": [],
   "source": [
    "scaled_delta_in_interval.begin_proof()"
   ]
  },
  {
   "cell_type": "code",
   "execution_count": null,
   "metadata": {},
   "outputs": [],
   "source": [
    "phase_in_interval"
   ]
  },
  {
   "cell_type": "code",
   "execution_count": null,
   "metadata": {},
   "outputs": [],
   "source": [
    "best_def"
   ]
  },
  {
   "cell_type": "code",
   "execution_count": null,
   "metadata": {},
   "outputs": [],
   "source": [
    "delta_def"
   ]
  },
  {
   "cell_type": "code",
   "execution_count": null,
   "metadata": {},
   "outputs": [],
   "source": [
    "X0 = delta_def.substitution(Multiply(two_pow_t, X), X)\n",
    "X0.proven()"
   ]
  },
  {
   "cell_type": "code",
   "execution_count": null,
   "metadata": {},
   "outputs": [],
   "source": [
    "X1 = X0.apply_transitivity(X0.rhs.distribute(1))\n",
    "X1.proven()"
   ]
  },
  {
   "cell_type": "code",
   "execution_count": null,
   "metadata": {},
   "outputs": [],
   "source": [
    "X2 = frac(Multiply(two_pow_t, b_), two_pow_t).factor(two_pow_t).sub_left_side_into(X1)\n",
    "X2.proven()"
   ]
  },
  {
   "cell_type": "code",
   "execution_count": null,
   "metadata": {},
   "outputs": [],
   "source": [
    "X3 = auto_substitute(X2, 'cancel', [two_pow_t], sub_expr_class=Fraction)\n",
    "X3.proven()"
   ]
  },
  {
   "cell_type": "code",
   "execution_count": null,
   "metadata": {},
   "outputs": [],
   "source": [
    "X4 = best_def.sub_right_side_into(X3)\n",
    "X4.proven()"
   ]
  },
  {
   "cell_type": "code",
   "execution_count": null,
   "metadata": {},
   "outputs": [],
   "source": [
    "X5 = auto_substitute(X4, 'commute', [], super_expr=X4.rhs.operands[1])\n",
    "X5"
   ]
  },
  {
   "cell_type": "code",
   "execution_count": null,
   "metadata": {},
   "outputs": [],
   "source": [
    "floor_def"
   ]
  },
  {
   "cell_type": "code",
   "execution_count": null,
   "metadata": {},
   "outputs": [],
   "source": [
    "deduce_in_real(X5.rhs.operands[0])\n",
    "floor_def_property = floor_def.instantiate({x:X5.rhs.operands[0]}).derive_right()\n",
    "floor_def_property.proven()"
   ]
  },
  {
   "cell_type": "code",
   "execution_count": null,
   "metadata": {},
   "outputs": [],
   "source": [
    "X5.sub_left_side_into(floor_def_property).qed()"
   ]
  },
  {
   "cell_type": "code",
   "execution_count": null,
   "metadata": {},
   "outputs": [],
   "source": []
  }
 ],
 "metadata": {
  "kernelspec": {
   "display_name": "Python 3",
   "language": "python",
   "name": "python3"
  }
 },
 "nbformat": 4,
 "nbformat_minor": 0
}
