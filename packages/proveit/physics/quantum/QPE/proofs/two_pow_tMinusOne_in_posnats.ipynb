{
 "cells": [
  {
   "cell_type": "code",
   "execution_count": null,
   "metadata": {},
   "outputs": [],
   "source": [
    "from proveit.physics.quantum.QPE.axioms import t_in_natural_pos\n",
    "from proveit.physics.quantum.QPE.theorems import two_pow_t_minus_one_is_nat_pos\n",
    "from proveit.physics.quantum.QPE.common import t_\n",
    "from proveit.numbers.common import one, two\n",
    "from proveit.numbers import NaturalPos, deduce_in_natural_pos\n",
    "from proveit.basiclogic import In\n",
    "from proveit.numbers import Exponentiate, subtract"
   ]
  },
  {
   "cell_type": "code",
   "execution_count": null,
   "metadata": {},
   "outputs": [],
   "source": [
    "two_pow_t_minus_one_is_nat_pos.begin_proof()"
   ]
  },
  {
   "cell_type": "code",
   "execution_count": null,
   "metadata": {},
   "outputs": [],
   "source": [
    "deduce_in_natural_pos(Exponentiate(two, subtract(t_, one))).qed()"
   ]
  },
  {
   "cell_type": "code",
   "execution_count": null,
   "metadata": {},
   "outputs": [],
   "source": []
  }
 ],
 "metadata": {
  "kernelspec": {
   "display_name": "Python 3",
   "language": "python",
   "name": "python3"
  }
 },
 "nbformat": 4,
 "nbformat_minor": 0
}
