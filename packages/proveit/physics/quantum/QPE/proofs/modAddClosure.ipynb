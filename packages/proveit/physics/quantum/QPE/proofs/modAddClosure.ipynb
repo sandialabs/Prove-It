{
 "cells": [
  {
   "cell_type": "code",
   "execution_count": null,
   "metadata": {},
   "outputs": [],
   "source": [
    "from proveit.basiclogic import In\n",
    "from proveit.physics.quantum.QPE.axioms import mod_add_def\n",
    "from proveit.physics.quantum.QPE.theorems import mod_add_closure, two_pow_t_is_nat_pos\n",
    "from proveit.numbers import Integer, deduce_in_integer\n",
    "from proveit.numbers.common import a, b"
   ]
  },
  {
   "cell_type": "code",
   "execution_count": null,
   "metadata": {},
   "outputs": [],
   "source": [
    "mod_add_closure.begin_proof()"
   ]
  },
  {
   "cell_type": "code",
   "execution_count": null,
   "metadata": {},
   "outputs": [],
   "source": [
    "assumptions = {In(a, Integer), In(b, Integer)}"
   ]
  },
  {
   "cell_type": "code",
   "execution_count": null,
   "metadata": {},
   "outputs": [],
   "source": [
    "mod_add_def_spec = mod_add_def.instantiate()\n",
    "mod_add_def_spec"
   ]
  },
  {
   "cell_type": "code",
   "execution_count": null,
   "metadata": {},
   "outputs": [],
   "source": [
    "modulo_in_integer = deduce_in_integer(mod_add_def_spec.rhs, assumptions)\n",
    "modulo_in_integer.proven(assumptions)"
   ]
  },
  {
   "cell_type": "code",
   "execution_count": null,
   "metadata": {},
   "outputs": [],
   "source": [
    "mod_add_in_integer = mod_add_def_spec.sub_left_side_into(modulo_in_integer).proven(assumptions)\n",
    "mod_add_in_integer"
   ]
  },
  {
   "cell_type": "code",
   "execution_count": null,
   "metadata": {},
   "outputs": [],
   "source": [
    "mod_add_in_integer.generalize((a, b), domain=Integer).qed()"
   ]
  },
  {
   "cell_type": "code",
   "execution_count": null,
   "metadata": {},
   "outputs": [],
   "source": []
  }
 ],
 "metadata": {
  "kernelspec": {
   "display_name": "Python 3",
   "language": "python",
   "name": "python3"
  }
 },
 "nbformat": 4,
 "nbformat_minor": 0
}
