{
 "cells": [
  {
   "cell_type": "code",
   "execution_count": null,
   "metadata": {},
   "outputs": [],
   "source": [
    "from proveit.basiclogic import In\n",
    "from proveit.numbers import Neg\n",
    "from proveit.numbers.common import one\n",
    "from proveit.common import eps\n",
    "from proveit.physics.quantum.QPE.common import l, full_domain, pos_domain, two_pow_t_minus_one\n",
    "from proveit.physics.quantum.QPE.theorems import pos_domain_in_full_domain, two_pow_t_minus_one_is_nat_pos\n",
    "from proveit.numbers import NaturalPos, deduce_positive, deduce_negative, deduce_in_integer\n",
    "from IPython.display import display"
   ]
  },
  {
   "cell_type": "code",
   "execution_count": null,
   "metadata": {},
   "outputs": [],
   "source": [
    "pos_domain_in_full_domain.begin_proof()"
   ]
  },
  {
   "cell_type": "code",
   "execution_count": null,
   "metadata": {},
   "outputs": [],
   "source": [
    "eps_in_natural_pos = In(eps, NaturalPos)\n",
    "l_in_pos_domain = In(l, pos_domain)\n",
    "assumptions = {eps_in_natural_pos, l_in_pos_domain}\n",
    "display(eps_in_natural_pos)\n",
    "display(l_in_pos_domain)"
   ]
  },
  {
   "cell_type": "code",
   "execution_count": null,
   "metadata": {},
   "outputs": [],
   "source": [
    "full_domain"
   ]
  },
  {
   "cell_type": "code",
   "execution_count": null,
   "metadata": {},
   "outputs": [],
   "source": [
    "pos_domain.deduce_member_upper_bound(l, assumptions).proven(assumptions)"
   ]
  },
  {
   "cell_type": "code",
   "execution_count": null,
   "metadata": {},
   "outputs": [],
   "source": [
    "eps_is_pos = deduce_positive(eps, assumptions)\n",
    "display(eps_is_pos.proven(assumptions))\n",
    "lower_bound_ineq = deduce_negative(Neg(two_pow_t_minus_one)).apply_transitivity(eps_is_pos).derive_relaxed(assumptions).derive_shifted(one, assumptions=assumptions)\n",
    "display(lower_bound_ineq.proven(assumptions))"
   ]
  },
  {
   "cell_type": "code",
   "execution_count": null,
   "metadata": {},
   "outputs": [],
   "source": [
    "lower_bound_ineq.apply_transitivity(pos_domain.deduce_member_lower_bound(l, assumptions)).proven(assumptions)"
   ]
  },
  {
   "cell_type": "code",
   "execution_count": null,
   "metadata": {},
   "outputs": [],
   "source": [
    "deduce_in_integer(full_domain.lower_bound, assumptions)\n",
    "deduce_in_integer(full_domain.upper_bound, assumptions)\n",
    "pos_domain.deduce_member_in_integer(l, assumptions).proven(assumptions)\n",
    "In(l, full_domain).conclude_as_folded().generalize(l, domain=pos_domain).generalize(eps, domain=NaturalPos).qed()"
   ]
  },
  {
   "cell_type": "code",
   "execution_count": null,
   "metadata": {},
   "outputs": [],
   "source": []
  },
  {
   "cell_type": "code",
   "execution_count": null,
   "metadata": {},
   "outputs": [],
   "source": []
  }
 ],
 "metadata": {
  "kernelspec": {
   "display_name": "Python 3",
   "language": "python",
   "name": "python3"
  }
 },
 "nbformat": 4,
 "nbformat_minor": 0
}
