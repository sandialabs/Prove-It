{
 "cells": [
  {
   "cell_type": "code",
   "execution_count": null,
   "metadata": {},
   "outputs": [],
   "source": [
    "from proveit.basiclogic import auto_substitute, auto_substitution, In, Equation, And, compose\n",
    "from proveit.numbers.arithmetic_ops import *\n",
    "from proveit.common import a, b, k, l, r, x, eps\n",
    "from proveit.numbers import Exponentiate, Add, subtract, Multiply, Abs\n",
    "from proveit.numbers.common import *\n",
    "from proveit.physics.quantum.QPE.axioms import t_in_natural_pos, mod_add_def\n",
    "from proveit.physics.quantum.QPE.theorems import fail_ineq, pos_domain_in_full_domain, neg_domain_in_full_domain, \\\n",
    "    two_pow_t_minus_one_is_nat_pos, phase_is_real, all_alpha_l_is_complex, all_abs_alpha_l_nonneg, delta_is_real, scaled_delta_in_interval, \\\n",
    "    scaled_delta_not_eq_nonzeroInt, alpha_l_sqrd_ineq, fail_sum\n",
    "from proveit.physics.quantum.QPE.common import alpha_l, alpha_l_sqrd, t_, delta_, two_pow_t_minus_one, \\\n",
    "    full_domain, neg_domain, pos_domain, eps_domain\n",
    "from proveit.physics.quantum.QPE.phase_est_ops import Psuccess, Pfail, ModAdd\n",
    "from proveit.numbers.complex.theorems import cancel_sub_and_add, neg_neg, cancel_add_neg, add_neg_as_subtract, \\\n",
    "    sub_two_add_one, add_twice\n",
    "from proveit.numbers.natural.axioms import one_add_one\n",
    "from proveit.numbers.integer.theorems import sum_ineq1, index_shift, sum_eq, even_func_sum, sum_integrate_ineq1\n",
    "from proveit.numbers.relation import Relation\n",
    "from proveit.numbers.real.theorems import sum_factor_temp, sum_ineq2, ineq_thm5, ineq_thm6a, ineq_thm7a, ineq_thm8a, \\\n",
    "    simplify_quarter_times_two, bounded_inv_sqrd_integral, inverse_sqrd_is_even_func, inverse_sqrd_is_mon_dec_func\n",
    "from proveit.basiclogic.set import Union\n",
    "from IPython.display import display"
   ]
  },
  {
   "cell_type": "code",
   "execution_count": null,
   "metadata": {},
   "outputs": [],
   "source": [
    "fail_ineq.begin_proof()"
   ]
  },
  {
   "cell_type": "code",
   "execution_count": null,
   "metadata": {},
   "outputs": [],
   "source": [
    "def show_expr_tree(expr, indent = ''):\n",
    "    print(indent + str(expr.__class__) + \": \" + str(expr))\n",
    "    for sub_expr in expr._sub_expressions:\n",
    "        show_expr_tree(sub_expr, indent + '  ')"
   ]
  },
  {
   "cell_type": "code",
   "execution_count": null,
   "metadata": {},
   "outputs": [],
   "source": [
    "eps_in_domain = In(eps, eps_domain)\n",
    "display(eps_in_domain)\n",
    "display(eps_domain.deduce_member_in_natural_pos(eps).proven({eps_in_domain}))\n",
    "eps_lower_bound = eps_domain.deduce_member_lower_bound(eps).derive_reversed().proven({eps_in_domain})\n",
    "display(eps_lower_bound)\n",
    "eps_upper_bound = eps_domain.deduce_member_upper_bound(eps).proven({eps_in_domain})\n",
    "display(eps_upper_bound)"
   ]
  },
  {
   "cell_type": "code",
   "execution_count": null,
   "metadata": {},
   "outputs": [],
   "source": [
    "fail_sum_special = fail_sum.instantiate().proven({eps_in_domain})\n",
    "fail_sum_special"
   ]
  },
  {
   "cell_type": "code",
   "execution_count": null,
   "metadata": {},
   "outputs": [],
   "source": [
    "display(neg_domain)\n",
    "display(pos_domain)\n",
    "display(full_domain)"
   ]
  },
  {
   "cell_type": "code",
   "execution_count": null,
   "metadata": {},
   "outputs": [],
   "source": [
    "l_in_domain = In(l, full_domain)\n",
    "l_not_zero = NotEquals(l, zero)\n",
    "display(l_in_domain)\n",
    "display(l_not_zero)\n"
   ]
  },
  {
   "cell_type": "code",
   "execution_count": null,
   "metadata": {},
   "outputs": [],
   "source": [
    "display(neg_domain_in_full_domain.instantiate().instantiate().proven({eps_in_domain, In(l, neg_domain)}))\n",
    "display(pos_domain_in_full_domain.instantiate().instantiate().proven({eps_in_domain, In(l, pos_domain)}))\n",
    "display(neg_domain.deduce_member_in_integer(l, {eps_in_domain}).proven({eps_in_domain, In(l,neg_domain)}))\n",
    "display(pos_domain.deduce_member_in_integer(l, {eps_in_domain}).proven({eps_in_domain, In(l,pos_domain)}))"
   ]
  },
  {
   "cell_type": "code",
   "execution_count": null,
   "metadata": {},
   "outputs": [],
   "source": [
    "l_in_neg_domain_is_neg = neg_domain.deduce_member_is_negative(l, {eps_in_domain})\n",
    "display(l_in_neg_domain_is_neg.proven({eps_in_domain, In(l, neg_domain)}))\n",
    "display(l_in_neg_domain_is_neg.derive_relaxed({eps_in_domain, In(l, neg_domain)}).proven({eps_in_domain, In(l, neg_domain)}))\n",
    "display(pos_domain.deduce_member_is_positive(l, {eps_in_domain}).proven({eps_in_domain, In(l, pos_domain)}))"
   ]
  },
  {
   "cell_type": "code",
   "execution_count": null,
   "metadata": {},
   "outputs": [],
   "source": [
    "eps_plus_one_ineq = Add(eps, one).deduce_strict_increase(1, {eps_in_domain}).proven({eps_in_domain})\n",
    "display(eps_plus_one_ineq)\n",
    "pos_domain_lower_bound = pos_domain.deduce_member_lower_bound(l, {eps_in_domain}).derive_reversed()\n",
    "display(pos_domain_lower_bound)\n",
    "pos_domain_greater_than_one = pos_domain_lower_bound.apply_transitivity(eps_plus_one_ineq).proven({eps_in_domain, In(l, pos_domain)})\n",
    "display(pos_domain_greater_than_one)\n",
    "display(deduce_positive(subtract(l, one), {eps_in_domain, In(l, pos_domain)}).proven({eps_in_domain, In(l, pos_domain)}))\n"
   ]
  },
  {
   "cell_type": "code",
   "execution_count": null,
   "metadata": {},
   "outputs": [],
   "source": [
    "display(deduce_not_zero(l, {eps_in_domain, In(l, neg_domain)}).proven({eps_in_domain, In(l, neg_domain)}))\n",
    "display(deduce_not_zero(l, {eps_in_domain, In(l, pos_domain)}).proven({eps_in_domain, In(l, pos_domain)}))"
   ]
  },
  {
   "cell_type": "code",
   "execution_count": null,
   "metadata": {},
   "outputs": [],
   "source": [
    "Y0 = alpha_l_sqrd_ineq.instantiate().proven({l_in_domain, l_not_zero})\n",
    "Y0"
   ]
  },
  {
   "cell_type": "code",
   "execution_count": null,
   "metadata": {},
   "outputs": [],
   "source": [
    "scaled_delta_not_eq_nonzeroInt"
   ]
  },
  {
   "cell_type": "code",
   "execution_count": null,
   "metadata": {},
   "outputs": [],
   "source": [
    "display(scaled_delta_not_eq_nonzeroInt.instantiate().proven({eps_in_domain, In(l, pos_domain)}))\n",
    "display(scaled_delta_not_eq_nonzeroInt.instantiate().proven({eps_in_domain, In(l, neg_domain)}))"
   ]
  },
  {
   "cell_type": "code",
   "execution_count": null,
   "metadata": {},
   "outputs": [],
   "source": [
    "sum_ineq1"
   ]
  },
  {
   "cell_type": "code",
   "execution_count": null,
   "metadata": {},
   "outputs": [],
   "source": [
    "Y1a = sum_ineq1.instantiate({Operation(a,l):alpha_l_sqrd, Operation(b,l):Y0.rhs}).proven()\n",
    "Y1a"
   ]
  },
  {
   "cell_type": "code",
   "execution_count": null,
   "metadata": {},
   "outputs": [],
   "source": [
    "display(neg_domain.lower_bound.deduce_in_integer().proven())\n",
    "display(neg_domain.upper_bound.deduce_in_integer({eps_in_domain}).proven({eps_in_domain}))"
   ]
  },
  {
   "cell_type": "code",
   "execution_count": null,
   "metadata": {},
   "outputs": [],
   "source": [
    "Y1 = Y1a.instantiate({m:neg_domain.lower_bound, n:neg_domain.upper_bound}).proven({eps_in_domain})\n",
    "Y1"
   ]
  },
  {
   "cell_type": "code",
   "execution_count": null,
   "metadata": {},
   "outputs": [],
   "source": [
    "display(pos_domain.lower_bound.deduce_in_integer({eps_in_domain}).proven({eps_in_domain}))\n",
    "display(pos_domain.upper_bound.deduce_in_integer().proven({eps_in_domain}))"
   ]
  },
  {
   "cell_type": "code",
   "execution_count": null,
   "metadata": {},
   "outputs": [],
   "source": [
    "Y2 = Y1a.instantiate({m:pos_domain.lower_bound, n:pos_domain.upper_bound}).proven({eps_in_domain})\n",
    "Y2"
   ]
  },
  {
   "cell_type": "code",
   "execution_count": null,
   "metadata": {},
   "outputs": [],
   "source": [
    "Y0_neg_domain = Y0.generalize(l, domain=neg_domain).proven({eps_in_domain})\n",
    "Y0_neg_domain.relabel({l:k})"
   ]
  },
  {
   "cell_type": "code",
   "execution_count": null,
   "metadata": {},
   "outputs": [],
   "source": [
    "Y0_pos_domain = Y0.generalize(l, domain=pos_domain).proven({eps_in_domain})\n",
    "Y0_pos_domain.relabel({l:k})"
   ]
  },
  {
   "cell_type": "code",
   "execution_count": null,
   "metadata": {},
   "outputs": [],
   "source": [
    "Y1.conclusion.proven({eps_in_domain})"
   ]
  },
  {
   "cell_type": "code",
   "execution_count": null,
   "metadata": {},
   "outputs": [],
   "source": [
    "Y2.conclusion.proven({eps_in_domain})"
   ]
  },
  {
   "cell_type": "code",
   "execution_count": null,
   "metadata": {},
   "outputs": [],
   "source": [
    "display(Y1.conclusion.rhs.deduce_in_real({eps_in_domain, l_in_domain}).proven({eps_in_domain, l_in_domain}))\n",
    "display(Y2.conclusion.rhs.deduce_in_real({eps_in_domain, l_in_domain}).proven({eps_in_domain, l_in_domain}))"
   ]
  },
  {
   "cell_type": "code",
   "execution_count": null,
   "metadata": {},
   "outputs": [],
   "source": [
    "display(all_alpha_l_is_complex.instantiate())\n",
    "abs_alpha_l_real_and_nonneg = all_abs_alpha_l_nonneg.instantiate().decompose()\n",
    "display(abs_alpha_l_real_and_nonneg[0])\n",
    "display(abs_alpha_l_real_and_nonneg[1])"
   ]
  },
  {
   "cell_type": "code",
   "execution_count": null,
   "metadata": {},
   "outputs": [],
   "source": [
    "fail_sum_special.rhs.operands[0].deduce_in_real({eps_in_domain, l_in_domain}).proven({eps_in_domain, l_in_domain})"
   ]
  },
  {
   "cell_type": "code",
   "execution_count": null,
   "metadata": {},
   "outputs": [],
   "source": [
    "fail_sum_special.rhs.operands[1].deduce_in_real({eps_in_domain, l_in_domain}).proven({eps_in_domain, l_in_domain})"
   ]
  },
  {
   "cell_type": "code",
   "execution_count": null,
   "metadata": {},
   "outputs": [],
   "source": [
    "Y3 = sum_ineq2.instantiate({a:fail_sum_special.rhs.operands[0], b:fail_sum_special.rhs.operands[1], c:Y1.conclusion.rhs, d:Y2.conclusion.rhs}).proven({eps_in_domain})\n",
    "Y3"
   ]
  },
  {
   "cell_type": "code",
   "execution_count": null,
   "metadata": {},
   "outputs": [],
   "source": [
    "Q = Y3.hypothesis.conclude_via_composition().proven({eps_in_domain})\n",
    "display(Q)\n",
    "display(Y3.conclusion.proven({eps_in_domain}))"
   ]
  },
  {
   "cell_type": "code",
   "execution_count": null,
   "metadata": {},
   "outputs": [],
   "source": [
    "X1 = Relation(fail_sum_special).update(Y3.conclusion).proven({eps_in_domain})\n",
    "X1"
   ]
  },
  {
   "cell_type": "code",
   "execution_count": null,
   "metadata": {},
   "outputs": [],
   "source": [
    "X1_summand = X1.rhs.operands[0].summand\n",
    "X1_summand"
   ]
  },
  {
   "cell_type": "code",
   "execution_count": null,
   "metadata": {},
   "outputs": [],
   "source": [
    "Y4 = X1_summand.factor(frac(one,four),'left',assumptions={eps_in_domain, In(l, pos_domain)}).proven({eps_in_domain, In(l, pos_domain)})\n",
    "X1_summand.factor(frac(one,four),'left',assumptions={eps_in_domain, In(l, neg_domain)}).proven({eps_in_domain, In(l, neg_domain)})\n",
    "Y4"
   ]
  },
  {
   "cell_type": "code",
   "execution_count": null,
   "metadata": {},
   "outputs": [],
   "source": [
    "X1.rhs"
   ]
  },
  {
   "cell_type": "code",
   "execution_count": null,
   "metadata": {},
   "outputs": [],
   "source": [
    "Y4_sum1equivForAllInstances = Y4.generalize(l,neg_domain)\n",
    "Y4_sum1equivForAllInstances.proven({eps_in_domain})"
   ]
  },
  {
   "cell_type": "code",
   "execution_count": null,
   "metadata": {},
   "outputs": [],
   "source": [
    "Y4_sum2equivForAllInstances = Y4.generalize(l,pos_domain)\n",
    "Y4_sum2equivForAllInstances.proven({eps_in_domain})"
   ]
  },
  {
   "cell_type": "code",
   "execution_count": null,
   "metadata": {},
   "outputs": [],
   "source": [
    "Y5_sum1 = X1.rhs.operands[0].instance_substitution(Y4_sum1equivForAllInstances)\n",
    "Y5_sum1.proven({eps_in_domain})"
   ]
  },
  {
   "cell_type": "code",
   "execution_count": null,
   "metadata": {},
   "outputs": [],
   "source": [
    "Y5_sum2 = X1.rhs.operands[1].instance_substitution(Y4_sum2equivForAllInstances)\n",
    "Y5_sum2.proven({eps_in_domain})"
   ]
  },
  {
   "cell_type": "code",
   "execution_count": null,
   "metadata": {},
   "outputs": [],
   "source": [
    "X2 = Y5_sum1.sub_right_side_into(X1)\n",
    "X3 = Y5_sum2.sub_right_side_into(X2)\n",
    "X3.proven({eps_in_domain})"
   ]
  },
  {
   "cell_type": "code",
   "execution_count": null,
   "metadata": {},
   "outputs": [],
   "source": [
    "ineq_thm7a"
   ]
  },
  {
   "cell_type": "code",
   "execution_count": null,
   "metadata": {},
   "outputs": [],
   "source": [
    "display(frac(one,four).deduce_in_real().proven())\n",
    "display(deduce_positive(frac(one, four)).derive_relaxed().proven())"
   ]
  },
  {
   "cell_type": "code",
   "execution_count": null,
   "metadata": {},
   "outputs": [],
   "source": [
    "display(scaled_delta_in_interval.domain.deduce_member_lower_bound(scaled_delta_in_interval.element).proven())\n",
    "display(scaled_delta_in_interval.domain.deduce_member_upper_bound(scaled_delta_in_interval.element).derive_relaxed().proven())"
   ]
  },
  {
   "cell_type": "code",
   "execution_count": null,
   "metadata": {},
   "outputs": [],
   "source": [
    "ineq_thm7a"
   ]
  },
  {
   "cell_type": "code",
   "execution_count": null,
   "metadata": {},
   "outputs": [],
   "source": [
    "Y6 = ineq_thm7a.instantiate({x:Multiply(Exponentiate(two,t_), delta_)}).instantiate({a:frac(one,four)})\n",
    "Y6.instantiate().generalize(l, domain=neg_domain).relabel({l:k}).proven({eps_in_domain})"
   ]
  },
  {
   "cell_type": "code",
   "execution_count": null,
   "metadata": {},
   "outputs": [],
   "source": [
    "ineq_thm8a"
   ]
  },
  {
   "cell_type": "code",
   "execution_count": null,
   "metadata": {},
   "outputs": [],
   "source": [
    "Y7 = ineq_thm8a.instantiate({x:Multiply(Exponentiate(two,t_), delta_)}).instantiate({a:frac(one,four)}).proven()\n",
    "Y7.instantiate().generalize(l, domain=pos_domain).relabel({l:k}).proven({eps_in_domain})"
   ]
  },
  {
   "cell_type": "code",
   "execution_count": null,
   "metadata": {},
   "outputs": [],
   "source": [
    "sum_ineq1"
   ]
  },
  {
   "cell_type": "code",
   "execution_count": null,
   "metadata": {},
   "outputs": [],
   "source": [
    "Y8 = sum_ineq1.instantiate({Operation(a,l):Y6.instantiate().lhs, Operation(b,l):Y6.instantiate().rhs}).instantiate({m:neg_domain.lower_bound, n:neg_domain.upper_bound})\n",
    "Y8.proven({eps_in_domain})"
   ]
  },
  {
   "cell_type": "code",
   "execution_count": null,
   "metadata": {},
   "outputs": [],
   "source": [
    "Y9 = sum_ineq1.instantiate({Operation(a,l):Y7.instantiate().lhs, Operation(b,l):Y7.instantiate().rhs}).instantiate({m:pos_domain.lower_bound, n:pos_domain.upper_bound})\n",
    "Y9.proven({eps_in_domain})"
   ]
  },
  {
   "cell_type": "code",
   "execution_count": null,
   "metadata": {},
   "outputs": [],
   "source": [
    "compose(Y8.conclusion, Y9.conclusion).proven({eps_in_domain})"
   ]
  },
  {
   "cell_type": "code",
   "execution_count": null,
   "metadata": {},
   "outputs": [],
   "source": [
    "sum_ineq2"
   ]
  },
  {
   "cell_type": "code",
   "execution_count": null,
   "metadata": {},
   "outputs": [],
   "source": [
    "Y9.conclusion.rhs"
   ]
  },
  {
   "cell_type": "code",
   "execution_count": null,
   "metadata": {},
   "outputs": [],
   "source": [
    "deduce_positive(subtract(l, one), assumptions={eps_in_domain, In(l, pos_domain)})"
   ]
  },
  {
   "cell_type": "code",
   "execution_count": null,
   "metadata": {},
   "outputs": [],
   "source": [
    "display(X3.rhs.operands[0].deduce_in_real({eps_in_domain}))\n",
    "display(X3.rhs.operands[1].deduce_in_real({eps_in_domain}))\n",
    "display(Y8.conclusion.rhs.deduce_in_real({eps_in_domain}))\n",
    "display(Y9.conclusion.rhs.deduce_in_real({eps_in_domain}))"
   ]
  },
  {
   "cell_type": "code",
   "execution_count": null,
   "metadata": {},
   "outputs": [],
   "source": [
    "Y10 = sum_ineq2.instantiate({a:X3.rhs.operands[0], b:X3.rhs.operands[1], c:Y8.conclusion.rhs, d:Y9.conclusion.rhs})\n",
    "Y10.proven({In(Y9.conclusion.rhs,Real), eps_in_domain, l_in_domain})"
   ]
  },
  {
   "cell_type": "code",
   "execution_count": null,
   "metadata": {},
   "outputs": [],
   "source": [
    "Y10.conclusion.proven({eps_in_domain, l_in_domain})"
   ]
  },
  {
   "cell_type": "code",
   "execution_count": null,
   "metadata": {},
   "outputs": [],
   "source": [
    "X4 = Relation(X3).update(Y10.conclusion)\n",
    "eps_in_domain"
   ]
  },
  {
   "cell_type": "code",
   "execution_count": null,
   "metadata": {},
   "outputs": [],
   "source": [
    "deduce_in_complex(X4.rhs, {eps_in_domain}).proven({eps_in_domain})"
   ]
  },
  {
   "cell_type": "code",
   "execution_count": null,
   "metadata": {},
   "outputs": [],
   "source": [
    "X4.rhs.operands[0].factor(frac(one,four),assumptions={eps_in_domain})"
   ]
  },
  {
   "cell_type": "code",
   "execution_count": null,
   "metadata": {},
   "outputs": [],
   "source": [
    "X4.rhs.operands[0].factor(frac(one,four),assumptions={eps_in_domain}).proven({eps_in_domain})"
   ]
  },
  {
   "cell_type": "code",
   "execution_count": null,
   "metadata": {},
   "outputs": [],
   "source": [
    "X5 = X4.rhs.operands[0].factor(frac(one,four),assumptions={eps_in_domain}).sub_right_side_into(X4).proven({eps_in_domain})\n",
    "X6"
   ]
  },
  {
   "cell_type": "code",
   "execution_count": null,
   "metadata": {},
   "outputs": [],
   "source": [
    "X7 = X6.rhs.factor(frac(one, four), pull='left', assumptions={eps_in_domain}).sub_right_side_into(X6)\n",
    "X7.proven({eps_in_domain})"
   ]
  },
  {
   "cell_type": "code",
   "execution_count": null,
   "metadata": {},
   "outputs": [],
   "source": [
    "index_shift"
   ]
  },
  {
   "cell_type": "code",
   "execution_count": null,
   "metadata": {},
   "outputs": [],
   "source": [
    "deduce_in_integer(neg_domain.lower_bound, {eps_in_domain})\n",
    "deduce_in_integer(neg_domain.upper_bound, {eps_in_domain})\n",
    "deduce_in_integer(Neg(one))\n",
    "Y11 = index_shift.instantiate({Operation(f,l):X7.rhs.operands[1].operands[1].summand,x:l}).instantiate({c:Neg(one),a:X7.rhs.operands[1].operands[1].domain.lower_bound, b:X7.rhs.operands[1].operands[1].domain.upper_bound}).sub_right_side_into(X7)\n",
    "Y11.proven({eps_in_domain})"
   ]
  },
  {
   "cell_type": "code",
   "execution_count": null,
   "metadata": {},
   "outputs": [],
   "source": [
    "shifted_domain = Y11.rhs.operands[1].operands[1].domain\n",
    "shifted_domain"
   ]
  },
  {
   "cell_type": "code",
   "execution_count": null,
   "metadata": {},
   "outputs": [],
   "source": [
    "summand_to_simplify = Y11.rhs.operands[1].operands[1].summand\n",
    "summand_to_simplify"
   ]
  },
  {
   "cell_type": "code",
   "execution_count": null,
   "metadata": {},
   "outputs": [],
   "source": [
    "cancel_sub_and_add"
   ]
  },
  {
   "cell_type": "code",
   "execution_count": null,
   "metadata": {},
   "outputs": [],
   "source": [
    "l_shift_cancellation = cancel_sub_and_add.instantiate({a:l,b:one})\n",
    "l_shift_cancellation"
   ]
  },
  {
   "cell_type": "code",
   "execution_count": null,
   "metadata": {},
   "outputs": [],
   "source": [
    "display(shifted_domain.deduce_member_in_integer(l, {eps_in_domain}).proven({eps_in_domain, In(l, shifted_domain)}))\n",
    "display(deduce_in_complex(l_shift_cancellation.lhs, {eps_in_domain, In(l, shifted_domain)}))\n",
    "display(deduce_in_complex(l_shift_cancellation.rhs, {eps_in_domain, In(l, shifted_domain)}))\n",
    "summand_simplification = l_shift_cancellation.substitution(summand_to_simplify)\n",
    "display(summand_simplification)\n",
    "summand_simplification.generalize(l, domain=shifted_domain).relabel({l:k}).proven({eps_in_domain})"
   ]
  },
  {
   "cell_type": "code",
   "execution_count": null,
   "metadata": {},
   "outputs": [],
   "source": [
    "sum_eq"
   ]
  },
  {
   "cell_type": "code",
   "execution_count": null,
   "metadata": {},
   "outputs": [],
   "source": [
    "deduce_in_integer(shifted_domain.lower_bound, {eps_in_domain})\n",
    "deduce_in_integer(shifted_domain.upper_bound, {eps_in_domain})\n",
    "Y12 = sum_eq.instantiate({Operation(f,l):summand_to_simplify, Operation(g,l):summand_simplification.rhs}).instantiate({m:shifted_domain.lower_bound, n:shifted_domain.upper_bound})\n",
    "Y12.conclusion.proven({eps_in_domain})"
   ]
  },
  {
   "cell_type": "code",
   "execution_count": null,
   "metadata": {},
   "outputs": [],
   "source": [
    "X8 = Y12.conclusion.sub_right_side_into(Y11)\n",
    "X8.proven({eps_in_domain})"
   ]
  },
  {
   "cell_type": "code",
   "execution_count": null,
   "metadata": {},
   "outputs": [],
   "source": [
    "even_func_sum"
   ]
  },
  {
   "cell_type": "code",
   "execution_count": null,
   "metadata": {},
   "outputs": [],
   "source": [
    "X9 = even_func_sum.instantiate({Operation(f,l):X8.rhs.operands[1].operands[0].summand, x:l}).instantiate({a:X8.rhs.operands[1].operands[0].domain.lower_bound, b:X8.rhs.operands[1].operands[0].domain.upper_bound}).sub_right_side_into(X8)\n",
    "X9.proven({eps_in_domain})"
   ]
  },
  {
   "cell_type": "code",
   "execution_count": null,
   "metadata": {},
   "outputs": [],
   "source": [
    "clean_limits1a = X9.rhs.operands[1].terms[0].domain.upper_bound.distribute()\n",
    "clean_limits1a.proven()"
   ]
  },
  {
   "cell_type": "code",
   "execution_count": null,
   "metadata": {},
   "outputs": [],
   "source": [
    "clean_limits1 = clean_limits1a.rhs.subtraction_folding(1).sub_right_side_into(clean_limits1a)\n",
    "clean_limits1.proven()"
   ]
  },
  {
   "cell_type": "code",
   "execution_count": null,
   "metadata": {},
   "outputs": [],
   "source": [
    "clean_limits2 = X9.rhs.operands[1].terms[0].domain.lower_bound.simplification({eps_in_domain})\n",
    "clean_limits2.proven({eps_in_domain})"
   ]
  },
  {
   "cell_type": "code",
   "execution_count": null,
   "metadata": {},
   "outputs": [],
   "source": [
    "clean_limits3 = add_neg_as_subtract.instantiate({x:two_pow_t_minus_one, y:one})\n",
    "clean_limits3.proven({eps_in_domain})"
   ]
  },
  {
   "cell_type": "code",
   "execution_count": null,
   "metadata": {},
   "outputs": [],
   "source": [
    "deduce_in_complex(eps, {eps_in_domain})\n",
    "clean_limits4 = cancel_add_neg.instantiate({a:eps, b:one})\n",
    "clean_limits4.proven({eps_in_domain})"
   ]
  },
  {
   "cell_type": "code",
   "execution_count": null,
   "metadata": {},
   "outputs": [],
   "source": [
    "X10 = clean_limits1.sub_right_side_into(X9)\n",
    "X10 = clean_limits2.sub_right_side_into(X10)\n",
    "X10 = clean_limits3.sub_right_side_into(X10)\n",
    "X10 = clean_limits4.sub_right_side_into(X10)\n",
    "X10.proven({eps_in_domain})"
   ]
  },
  {
   "cell_type": "code",
   "execution_count": null,
   "metadata": {},
   "outputs": [],
   "source": [
    "X10second_summation = X10.rhs.operands[1].operands[1]\n",
    "X10second_summation"
   ]
  },
  {
   "cell_type": "code",
   "execution_count": null,
   "metadata": {},
   "outputs": [],
   "source": [
    "X10second_summation.domain.deduce_member_in_integer(l, {eps_in_domain}).proven({eps_in_domain, In(l, X10second_summation.domain)})"
   ]
  },
  {
   "cell_type": "code",
   "execution_count": null,
   "metadata": {},
   "outputs": [],
   "source": [
    "X10second_summationLowerBound = X10second_summation.domain.deduce_member_lower_bound(l, {eps_in_domain})\n",
    "X10second_summationLowerBound.proven({eps_in_domain, In(l, X10second_summation.domain)})"
   ]
  },
  {
   "cell_type": "code",
   "execution_count": null,
   "metadata": {},
   "outputs": [],
   "source": [
    "deduce_positive(eps, {eps_in_domain}).apply_transitivity(X10second_summationLowerBound)"
   ]
  },
  {
   "cell_type": "code",
   "execution_count": null,
   "metadata": {},
   "outputs": [],
   "source": [
    "eps_strict_upper_bound1 = Add(eps_upper_bound.rhs, one).deduce_strict_increase(0, {eps_in_domain}).apply_transitivity(eps_upper_bound)\n",
    "eps_strict_upper_bound1.proven({eps_in_domain})"
   ]
  },
  {
   "cell_type": "code",
   "execution_count": null,
   "metadata": {},
   "outputs": [],
   "source": [
    "eps_strict_upper_bound2 = eps_strict_upper_bound1.apply_transitivity(sub_two_add_one.instantiate({a:two_pow_t_minus_one}))\n",
    "eps_strict_upper_bound2.proven({eps_in_domain})"
   ]
  },
  {
   "cell_type": "code",
   "execution_count": null,
   "metadata": {},
   "outputs": [],
   "source": [
    "eps_strict_upper_bound = eps_strict_upper_bound2.derive_reversed()\n",
    "eps_strict_upper_bound.proven({eps_in_domain})"
   ]
  },
  {
   "cell_type": "code",
   "execution_count": null,
   "metadata": {},
   "outputs": [],
   "source": [
    "Y13 = X10.rhs.operands[1].operands[1].split_off_first({eps_in_domain})\n",
    "Y13.proven({eps_in_domain})"
   ]
  },
  {
   "cell_type": "code",
   "execution_count": null,
   "metadata": {},
   "outputs": [],
   "source": [
    "Y14 = Y13.substitution(subtract(X, frac(one, Exponentiate(eps, two))), X)\n",
    "Y14.proven({eps_in_domain})"
   ]
  },
  {
   "cell_type": "code",
   "execution_count": null,
   "metadata": {},
   "outputs": [],
   "source": [
    "X10firstSummation = X10.rhs.operands[1].operands[0]\n",
    "X10firstSummationLowerBound = X10firstSummation.domain.deduce_member_lower_bound(l, {eps_in_domain})\n",
    "X10firstSummationLowerBound.proven({eps_in_domain, In(l, X10firstSummation.domain)})"
   ]
  },
  {
   "cell_type": "code",
   "execution_count": null,
   "metadata": {},
   "outputs": [],
   "source": [
    "X10firstSummationStrictLowerBound = X10firstSummationLowerBound.lhs.deduce_strict_increase(0, {eps_in_domain}).apply_transitivity(X10firstSummationLowerBound)\n",
    "X10firstSummationStrictLowerBound.proven({eps_in_domain, In(l, X10firstSummation.domain)})"
   ]
  },
  {
   "cell_type": "code",
   "execution_count": null,
   "metadata": {},
   "outputs": [],
   "source": [
    "deduce_positive(eps, {eps_in_domain}).apply_transitivity(X10firstSummationStrictLowerBound).proven({eps_in_domain, In(l, X10firstSummation.domain)})"
   ]
  },
  {
   "cell_type": "code",
   "execution_count": null,
   "metadata": {},
   "outputs": [],
   "source": [
    "Y15 = Y14.rhs.cancel(assumptions={eps_in_domain}).sub_right_side_into(Y14)\n",
    "Y15.proven({eps_in_domain})"
   ]
  },
  {
   "cell_type": "code",
   "execution_count": null,
   "metadata": {},
   "outputs": [],
   "source": [
    "X11 = Y15.sub_left_side_into(X10)\n",
    "X11.proven({eps_in_domain})"
   ]
  },
  {
   "cell_type": "code",
   "execution_count": null,
   "metadata": {},
   "outputs": [],
   "source": [
    "term_to_bound = X11.rhs.operands[1]\n",
    "group_and_ungroup_assumptions = {In(eps,Complex), In(term_to_bound.operands[1],Complex), NotEquals(eps,zero)}\n",
    "term_to_bound"
   ]
  },
  {
   "cell_type": "code",
   "execution_count": null,
   "metadata": {},
   "outputs": [],
   "source": [
    "shifted_pos_domain = term_to_bound.operands[0].operands[0].domain\n",
    "shifted_pos_domain"
   ]
  },
  {
   "cell_type": "code",
   "execution_count": null,
   "metadata": {},
   "outputs": [],
   "source": [
    "display(shifted_pos_domain.deduce_member_in_integer(l, {eps_in_domain, \n",
    "                                                    In(l, shifted_pos_domain)}).proven({eps_in_domain, In(l, shifted_pos_domain)}))\n",
    "l_greater_than_eps = shifted_pos_domain.deduce_member_lower_bound(l, {eps_in_domain}).derive_reversed()\n",
    "display(l_greater_than_eps.apply_transitivity(deduce_positive(eps, {eps_in_domain})).proven({eps_in_domain, In(l, shifted_pos_domain)}))"
   ]
  },
  {
   "cell_type": "code",
   "execution_count": null,
   "metadata": {},
   "outputs": [],
   "source": [
    "Y16 = term_to_bound.commute(assumptions={eps_in_domain})\n",
    "Y16.proven({eps_in_domain})"
   ]
  },
  {
   "cell_type": "code",
   "execution_count": null,
   "metadata": {},
   "outputs": [],
   "source": [
    "deduce_in_complex(term_to_bound.operands[0].operands[0], {eps_in_domain})\n",
    "deduce_in_complex(term_to_bound.operands[0].operands[1], {eps_in_domain})\n",
    "Y17 = add_neg_as_subtract.instantiate({x:term_to_bound.operands[0].operands[0],y:term_to_bound.operands[0].operands[1]})\n",
    "Y17.proven({eps_in_domain})"
   ]
  },
  {
   "cell_type": "code",
   "execution_count": null,
   "metadata": {},
   "outputs": [],
   "source": [
    "eqn = Equation(Y16)\n",
    "Y18 = eqn.update(Y17.derive_reversed().substitution(Y16.rhs)).proven({eps_in_domain})\n",
    "Y18"
   ]
  },
  {
   "cell_type": "code",
   "execution_count": null,
   "metadata": {},
   "outputs": [],
   "source": [
    "Y19 = eqn.update(Y18.rhs.ungroup(1, {eps_in_domain}))\n",
    "Y19.proven({eps_in_domain})"
   ]
  },
  {
   "cell_type": "code",
   "execution_count": null,
   "metadata": {},
   "outputs": [],
   "source": [
    "Y20 = Equation(Y19).update(Y19.rhs.group(0,2, assumptions=group_and_ungroup_assumptions))\n",
    "Y20.proven({eps_in_domain})"
   ]
  },
  {
   "cell_type": "code",
   "execution_count": null,
   "metadata": {},
   "outputs": [],
   "source": [
    "add_twice"
   ]
  },
  {
   "cell_type": "code",
   "execution_count": null,
   "metadata": {},
   "outputs": [],
   "source": [
    "deduce_in_complex(Y19.rhs.operands[0], {eps_in_domain})\n",
    "Y21 = add_twice.instantiate({a:Y19.rhs.operands[0]})\n",
    "Y21.proven({eps_in_domain})"
   ]
  },
  {
   "cell_type": "code",
   "execution_count": null,
   "metadata": {},
   "outputs": [],
   "source": [
    "Y22 = Y21.sub_right_side_into(Y20)\n",
    "Y22.proven({eps_in_domain})"
   ]
  },
  {
   "cell_type": "code",
   "execution_count": null,
   "metadata": {},
   "outputs": [],
   "source": [
    "ineq_thm6a"
   ]
  },
  {
   "cell_type": "code",
   "execution_count": null,
   "metadata": {},
   "outputs": [],
   "source": [
    "deduce_negative(Y22.rhs.operands[1], {eps_in_domain}).derive_relaxed({eps_in_domain})"
   ]
  },
  {
   "cell_type": "code",
   "execution_count": null,
   "metadata": {},
   "outputs": [],
   "source": [
    "deduce_in_real(Y22.rhs.operands[0], {eps_in_domain})\n",
    "deduce_in_real(Y22.rhs.operands[1], {eps_in_domain})\n",
    "Y23 = ineq_thm6a.instantiate({a:Y22.rhs.operands[0], b:Y22.rhs.operands[1]})\n",
    "Y23.proven({eps_in_domain})"
   ]
  },
  {
   "cell_type": "code",
   "execution_count": null,
   "metadata": {},
   "outputs": [],
   "source": [
    "Y24 = Relation(Y22).update(Y23).derive_reversed()\n",
    "Y24.proven({eps_in_domain})"
   ]
  },
  {
   "cell_type": "code",
   "execution_count": null,
   "metadata": {},
   "outputs": [],
   "source": [
    "ineq_thm5"
   ]
  },
  {
   "cell_type": "code",
   "execution_count": null,
   "metadata": {},
   "outputs": [],
   "source": [
    "deduce_in_real(Y24.lhs, {eps_in_domain})\n",
    "deduce_in_real(Y24.rhs, {eps_in_domain})\n",
    "Y25 = ineq_thm5.instantiate({a:Y24.lhs, b:Y24.rhs, c:frac(one,four)})\n",
    "Y25.proven({eps_in_domain})"
   ]
  },
  {
   "cell_type": "code",
   "execution_count": null,
   "metadata": {},
   "outputs": [],
   "source": [
    "X12 = Relation(X11).update(Y25)\n",
    "X12.proven({eps_in_domain})"
   ]
  },
  {
   "cell_type": "code",
   "execution_count": null,
   "metadata": {},
   "outputs": [],
   "source": [
    "X13 = Relation(X12).update(X12.rhs.ungroup(1, assumptions=group_and_ungroup_assumptions))\n",
    "X13.proven({eps_in_domain})"
   ]
  },
  {
   "cell_type": "code",
   "execution_count": null,
   "metadata": {},
   "outputs": [],
   "source": [
    "Y26 = simplify_quarter_times_two.sub_right_side_into(X13.rhs.group(0,2, assumptions=group_and_ungroup_assumptions))\n",
    "Y26.proven({eps_in_domain})"
   ]
  },
  {
   "cell_type": "code",
   "execution_count": null,
   "metadata": {},
   "outputs": [],
   "source": [
    "X14 = Relation(X13).update(Y26)\n",
    "X14.proven({eps_in_domain})"
   ]
  },
  {
   "cell_type": "code",
   "execution_count": null,
   "metadata": {},
   "outputs": [],
   "source": [
    "sum_integrate_ineq1"
   ]
  },
  {
   "cell_type": "code",
   "execution_count": null,
   "metadata": {},
   "outputs": [],
   "source": [
    "inverse_sqrd_is_mon_dec_func"
   ]
  },
  {
   "cell_type": "code",
   "execution_count": null,
   "metadata": {},
   "outputs": [],
   "source": [
    "sum_integrate_ineq1"
   ]
  },
  {
   "cell_type": "code",
   "execution_count": null,
   "metadata": {},
   "outputs": [],
   "source": [
    "eps_strict_upper_bound.derive_relaxed({eps_in_domain})"
   ]
  },
  {
   "cell_type": "code",
   "execution_count": null,
   "metadata": {},
   "outputs": [],
   "source": [
    "deduce_in_integer(shifted_pos_domain.lower_bound, {eps_in_domain})\n",
    "deduce_in_integer(shifted_pos_domain.upper_bound)\n",
    "Y27 = sum_integrate_ineq1.instantiate({Operation(f,l):X14.rhs.operands[1].summand, x:l}).instantiate({a:shifted_pos_domain.lower_bound,b:shifted_pos_domain.upper_bound})\n",
    "Y27.proven({eps_in_domain})"
   ]
  },
  {
   "cell_type": "code",
   "execution_count": null,
   "metadata": {},
   "outputs": [],
   "source": [
    "bounded_inv_sqrd_integral"
   ]
  },
  {
   "cell_type": "code",
   "execution_count": null,
   "metadata": {},
   "outputs": [],
   "source": [
    "deduce_positive(eps, {eps_in_domain}).apply_transitivity(eps_strict_upper_bound).proven({eps_in_domain})\n",
    "deduce_in_real_pos(eps_strict_upper_bound.rhs, {eps_in_domain}).proven({eps_in_domain})"
   ]
  },
  {
   "cell_type": "code",
   "execution_count": null,
   "metadata": {},
   "outputs": [],
   "source": [
    "Y28 = bounded_inv_sqrd_integral.instantiate({a:eps, b:eps_strict_upper_bound.rhs})\n",
    "Y28.proven({eps_in_domain})"
   ]
  },
  {
   "cell_type": "code",
   "execution_count": null,
   "metadata": {},
   "outputs": [],
   "source": [
    "l_lower_bound = Y28.lhs.domain.deduce_member_lower_bound(l, {eps_in_domain})\n",
    "l_lower_bound.derive_reversed().apply_transitivity(deduce_positive(eps, {eps_in_domain})).proven({eps_in_domain, In(l, Y28.lhs.domain)})\n",
    "Y29 = Y28.derive_shifted(frac(one, Exponentiate(eps, two)), assumptions={eps_in_domain})\n",
    "Y29.proven({eps_in_domain})"
   ]
  },
  {
   "cell_type": "code",
   "execution_count": null,
   "metadata": {},
   "outputs": [],
   "source": [
    "Y30 = auto_substitute(Y29, 'commute', [], {'assumptions':{eps_in_domain}}, super_expr=Y29.lhs).apply_transitivity(Y27)\n",
    "Y30.proven({eps_in_domain})"
   ]
  },
  {
   "cell_type": "code",
   "execution_count": null,
   "metadata": {},
   "outputs": [],
   "source": [
    "ineq_thm5"
   ]
  },
  {
   "cell_type": "code",
   "execution_count": null,
   "metadata": {},
   "outputs": [],
   "source": [
    "Y30.derive_reversed().proven({eps_in_domain})\n",
    "deduce_in_real(frac(one,two))\n",
    "deduce_positive(frac(one, two))\n",
    "deduce_in_real(Y30.lhs, {eps_in_domain})\n",
    "deduce_in_real(Y30.rhs, {eps_in_domain})\n",
    "Y31 = ineq_thm5.instantiate({a:Y30.rhs, b:Y30.lhs, c:frac(one,two)})\n",
    "Y31.proven({eps_in_domain})"
   ]
  },
  {
   "cell_type": "code",
   "execution_count": null,
   "metadata": {},
   "outputs": [],
   "source": [
    "X15 = Relation(X14).update(Y31)\n",
    "X15.proven({eps_in_domain})"
   ]
  },
  {
   "cell_type": "code",
   "execution_count": null,
   "metadata": {},
   "outputs": [],
   "source": [
    "X15.generalize(eps, domain=eps_in_domain.domain).qed()"
   ]
  },
  {
   "cell_type": "code",
   "execution_count": null,
   "metadata": {},
   "outputs": [],
   "source": []
  },
  {
   "cell_type": "code",
   "execution_count": null,
   "metadata": {},
   "outputs": [],
   "source": []
  },
  {
   "cell_type": "code",
   "execution_count": null,
   "metadata": {},
   "outputs": [],
   "source": []
  },
  {
   "cell_type": "code",
   "execution_count": null,
   "metadata": {},
   "outputs": [],
   "source": []
  },
  {
   "cell_type": "code",
   "execution_count": null,
   "metadata": {},
   "outputs": [],
   "source": []
  },
  {
   "cell_type": "code",
   "execution_count": null,
   "metadata": {},
   "outputs": [],
   "source": []
  }
 ],
 "metadata": {
  "kernelspec": {
   "display_name": "Python 3",
   "language": "python",
   "name": "python3"
  }
 },
 "nbformat": 4,
 "nbformat_minor": 0
}
