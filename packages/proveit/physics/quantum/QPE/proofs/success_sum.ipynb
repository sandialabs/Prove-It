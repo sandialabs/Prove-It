{
 "cells": [
  {
   "cell_type": "code",
   "execution_count": null,
   "metadata": {},
   "outputs": [],
   "source": [
    "from proveit.expression import Operation\n",
    "from proveit.basiclogic import In, compose\n",
    "from proveit.physics.quantum.QPE.axioms import success_def, mod_add_def\n",
    "from proveit.physics.quantum.QPE.theorems import success_sum, two_pow_t_is_nat_pos, best_is_int\n",
    "from proveit.physics.quantum.QPE.common import b_, m_, two_pow_t\n",
    "from proveit.physics.quantum.QPE.phase_est_ops import ModAdd\n",
    "from proveit.numbers.real.theorems import mod_abs_subtract_cancel, abs_ineq\n",
    "from proveit.numbers import DiscreteContiguousSet, Neg, ModAbs, LessThanEquals, subtract\n",
    "from proveit.numbers import NaturalPos, deduce_in_real, deduce_in_integer, deduce_positive\n",
    "from proveit.common import a, b, c, l, q, x, y, eps, P, Q, S\n",
    "from proveit.statistics.theorems import prob_lower_bound\n",
    "from IPython.display import display"
   ]
  },
  {
   "cell_type": "code",
   "execution_count": null,
   "metadata": {},
   "outputs": [],
   "source": [
    "success_sum.begin_proof()"
   ]
  },
  {
   "cell_type": "code",
   "execution_count": null,
   "metadata": {},
   "outputs": [],
   "source": [
    "success_def"
   ]
  },
  {
   "cell_type": "code",
   "execution_count": null,
   "metadata": {},
   "outputs": [],
   "source": [
    "eps_in_nats_pos = In(eps, NaturalPos)\n",
    "l_domain = DiscreteContiguousSet(Neg(eps), eps)\n",
    "l_in_domain = In(l, l_domain)\n",
    "assumptions = {eps_in_nats_pos, l_in_domain}\n",
    "display(eps_in_nats_pos)\n",
    "display(l_in_domain)"
   ]
  },
  {
   "cell_type": "code",
   "execution_count": null,
   "metadata": {},
   "outputs": [],
   "source": [
    "mod_abs_subtract_cancel"
   ]
  },
  {
   "cell_type": "code",
   "execution_count": null,
   "metadata": {},
   "outputs": [],
   "source": [
    "deduce_in_real(two_pow_t, assumptions)\n",
    "l_domain.deduce_member_in_integer(l, assumptions)\n",
    "deduce_in_real(l, assumptions)\n",
    "deduce_in_real(b_)\n",
    "mod_abs_diff_upper1 = mod_abs_subtract_cancel.instantiate({a:l, b:b_, c:two_pow_t}).proven(assumptions)\n",
    "mod_abs_diff_upper1"
   ]
  },
  {
   "cell_type": "code",
   "execution_count": null,
   "metadata": {},
   "outputs": [],
   "source": [
    "deduce_in_integer(eps, assumptions)\n",
    "l_lower_bound = l_domain.deduce_member_lower_bound(l, assumptions).proven(assumptions)\n",
    "l_lower_bound"
   ]
  },
  {
   "cell_type": "code",
   "execution_count": null,
   "metadata": {},
   "outputs": [],
   "source": [
    "l_upper_bound = l_domain.deduce_member_upper_bound(l, assumptions).proven(assumptions)\n",
    "l_upper_bound"
   ]
  },
  {
   "cell_type": "code",
   "execution_count": null,
   "metadata": {},
   "outputs": [],
   "source": [
    "compose(l_lower_bound, l_upper_bound)"
   ]
  },
  {
   "cell_type": "code",
   "execution_count": null,
   "metadata": {},
   "outputs": [],
   "source": [
    "abs_ineq"
   ]
  },
  {
   "cell_type": "code",
   "execution_count": null,
   "metadata": {},
   "outputs": [],
   "source": [
    "deduce_in_real(eps, assumptions)\n",
    "deduce_positive(eps, assumptions).derive_relaxed(assumptions)\n",
    "abs_l_upper = abs_ineq.instantiate({x:l, y:eps}).derive_left().proven(assumptions)\n",
    "abs_l_upper"
   ]
  },
  {
   "cell_type": "code",
   "execution_count": null,
   "metadata": {},
   "outputs": [],
   "source": [
    "mod_abs_diff_upper2 = mod_abs_diff_upper1.apply_transitivity(abs_l_upper)\n",
    "mod_abs_diff_upper2"
   ]
  },
  {
   "cell_type": "code",
   "execution_count": null,
   "metadata": {},
   "outputs": [],
   "source": [
    "mod_abs_diff_upper3 = mod_add_def.instantiate({a:b_, b:l}).sub_left_side_into(mod_abs_diff_upper2)\n",
    "mod_abs_diff_upper3"
   ]
  },
  {
   "cell_type": "code",
   "execution_count": null,
   "metadata": {},
   "outputs": [],
   "source": [
    "mod_abs_diff_upper3.generalize(l, domain=l_domain).proven({eps_in_nats_pos})"
   ]
  },
  {
   "cell_type": "code",
   "execution_count": null,
   "metadata": {},
   "outputs": [],
   "source": [
    "prob_lower_bound"
   ]
  },
  {
   "cell_type": "code",
   "execution_count": null,
   "metadata": {},
   "outputs": [],
   "source": [
    "prob_lower_bound_spec = \\\n",
    "    prob_lower_bound.instantiate({Operation(P, x):LessThanEquals(ModAbs(subtract(x, b_), two_pow_t), eps),\n",
    "                               Operation(Q, x):ModAdd(b_, x),\n",
    "                               S:DiscreteContiguousSet(Neg(eps), eps), q:m_, x:l, y:l}).proven()\n",
    "prob_lower_bound_spec"
   ]
  },
  {
   "cell_type": "code",
   "execution_count": null,
   "metadata": {},
   "outputs": [],
   "source": [
    "prob_lower_bound_conclusion = prob_lower_bound_spec.derive_conclusion().proven({eps_in_nats_pos})\n",
    "prob_lower_bound_conclusion"
   ]
  },
  {
   "cell_type": "code",
   "execution_count": null,
   "metadata": {},
   "outputs": [],
   "source": [
    "success_sum_instance_expr = success_def.instantiate().sub_left_side_into(prob_lower_bound_conclusion).proven({eps_in_nats_pos})\n",
    "success_sum_instance_expr"
   ]
  },
  {
   "cell_type": "code",
   "execution_count": null,
   "metadata": {},
   "outputs": [],
   "source": [
    "success_sum_instance_expr.generalize(eps, domain=NaturalPos).qed()"
   ]
  },
  {
   "cell_type": "code",
   "execution_count": null,
   "metadata": {},
   "outputs": [],
   "source": []
  }
 ],
 "metadata": {
  "kernelspec": {
   "display_name": "Python 3",
   "language": "python",
   "name": "python3"
  }
 },
 "nbformat": 4,
 "nbformat_minor": 0
}
