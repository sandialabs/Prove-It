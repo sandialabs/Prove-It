{
 "cells": [
  {
   "cell_type": "code",
   "execution_count": null,
   "metadata": {},
   "outputs": [],
   "source": [
    "from proveit.basiclogic import Implies, FALSE, In, Equals, NotEquals, auto_substitute\n",
    "from proveit.physics.quantum.QPE.theorems import scaled_delta_not_eq_nonzeroInt, two_pow_t_is_nat_pos, scaled_delta_in_interval, delta_is_real\n",
    "from proveit.physics.quantum.QPE.common import two_pow_t \n",
    "from proveit.common import a, b, c, l, n, x\n",
    "from proveit.numbers import IntervalOO\n",
    "from proveit.numbers.common import zero, one\n",
    "from proveit.numbers import Integer, deduce_in_real, deduce_in_integer\n",
    "from proveit.numbers.real.theorems import not_int_if_between_successive_ints\n",
    "from proveit.numbers.natural.axioms import zero_add_one\n",
    "from IPython.display import display"
   ]
  },
  {
   "cell_type": "code",
   "execution_count": null,
   "metadata": {},
   "outputs": [],
   "source": [
    "scaled_delta_not_eq_nonzeroInt.begin_proof()"
   ]
  },
  {
   "cell_type": "code",
   "execution_count": null,
   "metadata": {},
   "outputs": [],
   "source": [
    "l_in_ints = In(l, Integer)\n",
    "l_not_zero = NotEquals(l, zero)\n",
    "assumptions = {l_in_ints, l_not_zero}\n",
    "display(l_in_ints)\n",
    "display(l_not_zero)"
   ]
  },
  {
   "cell_type": "code",
   "execution_count": null,
   "metadata": {},
   "outputs": [],
   "source": [
    "scaled_delta = scaled_delta_in_interval.element\n",
    "scaled_delta_in_interval"
   ]
  },
  {
   "cell_type": "code",
   "execution_count": null,
   "metadata": {},
   "outputs": [],
   "source": [
    "contradiction = Equals(scaled_delta, l)\n",
    "contradiction"
   ]
  },
  {
   "cell_type": "code",
   "execution_count": null,
   "metadata": {},
   "outputs": [],
   "source": [
    "l_lower_bound_loose = contradiction.sub_right_side_into(scaled_delta_in_interval.domain.deduce_member_lower_bound(scaled_delta))\n",
    "l_lower_bound_loose.proven({contradiction})"
   ]
  },
  {
   "cell_type": "code",
   "execution_count": null,
   "metadata": {},
   "outputs": [],
   "source": [
    "l_upper_bound = contradiction.sub_right_side_into(scaled_delta_in_interval.domain.deduce_member_upper_bound(scaled_delta))\n",
    "l_upper_bound.proven({contradiction})"
   ]
  },
  {
   "cell_type": "code",
   "execution_count": null,
   "metadata": {},
   "outputs": [],
   "source": [
    "l_not_zero.derive_reversed().unfold().proven(assumptions)"
   ]
  },
  {
   "cell_type": "code",
   "execution_count": null,
   "metadata": {},
   "outputs": [],
   "source": [
    "l_lower_bound_tight = l_lower_bound_loose.unfold(assumptions).derive_left_if_not_right()\n",
    "l_lower_bound_tight.deduce_in_bool(assumptions)\n",
    "l_lower_bound_tight.proven({contradiction} | assumptions)"
   ]
  },
  {
   "cell_type": "code",
   "execution_count": null,
   "metadata": {},
   "outputs": [],
   "source": [
    "deduce_in_real(l, {contradiction} | assumptions)\n",
    "deduce_in_real(zero)\n",
    "deduce_in_real(one)\n",
    "In(l, IntervalOO(zero, one)).conclude_as_folded().proven({contradiction} | assumptions)"
   ]
  },
  {
   "cell_type": "code",
   "execution_count": null,
   "metadata": {},
   "outputs": [],
   "source": [
    "deduce_in_integer(zero)\n",
    "l_not_int = zero_add_one.sub_right_side_into(not_int_if_between_successive_ints.instantiate({n:zero, x:l})).instantiate()\n",
    "l_not_int.proven({contradiction} | assumptions)"
   ]
  },
  {
   "cell_type": "code",
   "execution_count": null,
   "metadata": {},
   "outputs": [],
   "source": [
    "l_not_int.unfold().derive_contradiction().conclusion.proven({contradiction} | assumptions)"
   ]
  },
  {
   "cell_type": "code",
   "execution_count": null,
   "metadata": {},
   "outputs": [],
   "source": [
    "contradiction.deduce_in_bool()\n",
    "ineq = Implies(contradiction, FALSE).derive_via_contradiction().derive_not_equals().proven(assumptions)\n",
    "ineq"
   ]
  },
  {
   "cell_type": "code",
   "execution_count": null,
   "metadata": {},
   "outputs": [],
   "source": [
    "ineq.generalize(l, domain=Integer, conditions=[NotEquals(l, zero)]).qed()"
   ]
  },
  {
   "cell_type": "code",
   "execution_count": null,
   "metadata": {},
   "outputs": [],
   "source": []
  },
  {
   "cell_type": "code",
   "execution_count": null,
   "metadata": {},
   "outputs": [],
   "source": []
  }
 ],
 "metadata": {
  "kernelspec": {
   "display_name": "Python 3",
   "language": "python",
   "name": "python3"
  }
 },
 "nbformat": 4,
 "nbformat_minor": 0
}
