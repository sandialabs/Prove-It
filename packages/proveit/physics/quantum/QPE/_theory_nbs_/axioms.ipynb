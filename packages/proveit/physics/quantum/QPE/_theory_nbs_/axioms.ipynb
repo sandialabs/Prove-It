{
 "cells": [
  {
   "cell_type": "markdown",
   "metadata": {},
   "source": [
    "Axioms for the theory of <a class=\"ProveItLink\" href=\"theory.ipynb\">proveit.physics.quantum.QPE</a>\n",
    "========"
   ]
  },
  {
   "cell_type": "code",
   "execution_count": null,
   "metadata": {},
   "outputs": [],
   "source": [
    "import proveit\n",
    "# Prepare this notebook for defining the axioms of a theory:\n",
    "%axioms_notebook # Keep this at the top following 'import proveit'.\n",
    "from proveit import Literal, ExprArray, ExprRange, ExprTuple\n",
    "from proveit import a, b, c, d, e, eps, k, l, m, n, r, s, t, U\n",
    "# from proveit.linalg import MatrixProd, ScalarProd, TensorExp, TensorProd\n",
    "from proveit.linear_algebra import VecAdd, MatrixMult, ScalarMult, TensorExp, TensorProd\n",
    "from proveit.logic import Equals, Forall, NotEquals, InSet, Set\n",
    "from proveit.numbers import (zero, one, two, three, i, pi, Div, Exp,\n",
    "                             Integer, Interval, IntervalCO, Natural, NaturalPos, Neg)\n",
    "from proveit.numbers import (Add, exp, Ceil, Floor, frac, LessEq, Mod, ModAbs, \n",
    "                             Mult, Prod, subtract, Sum, Log, sqrt)\n",
    "from proveit.physics.quantum import (\n",
    "    Ket, Meas, NumBra, NumKet, RegisterSU, Qmult,\n",
    "    QubitRegisterSpace, ket0, ket1)\n",
    "#from proveit.physics.quantum.circuit import (Circuit, Input, Output, Gate, MultiQubitGate, \n",
    "#                                             IdentityOp, MultiWire, CircuitEquiv)\n",
    "from proveit.physics.quantum.circuits import QcircuitEquiv\n",
    "from proveit.physics.quantum.QPE import (\n",
    "    _eps, _alpha_l, _b, _delta, _n, _s, _t, _phase, _phase_est, _psi_t, _psi__t, _Psi,\n",
    "    _two_pow_t, two_pow_t, _ket_u, _U, _U_pow_two_pow_k,\n",
    "    #p_0, p_k, p_r, p_prime, p_prime_0, p_prime_k, p_prime_r, psi_prime, psi_prime_1, psi_prime_t,\n",
    "    _QPE_U_t, _QPE1_U_t, _QPE_U_t_circuit, QPE1_U_t_circuit, \n",
    "    _psi_t_circuit, _Psi_circuit, _phase_est_circuit, \n",
    "    _Omega, _sample_space, _success_prob_e, _fail_prob_e)\n",
    "from proveit.physics.quantum.QPE.phase_est_ops import ModAdd, Pfail, Psuccess, SubIndexed\n",
    "from proveit.physics.quantum.QFT import InverseFourierTransform\n",
    "from proveit.statistics import Prob"
   ]
  },
  {
   "cell_type": "code",
   "execution_count": null,
   "metadata": {},
   "outputs": [],
   "source": [
    "%begin axioms"
   ]
  },
  {
   "cell_type": "markdown",
   "metadata": {},
   "source": [
    "### Quantum circuit definitions"
   ]
  },
  {
   "cell_type": "code",
   "execution_count": null,
   "metadata": {},
   "outputs": [],
   "source": [
    "QPE1_def = Forall(\n",
    "    (s, t), Forall(\n",
    "        U, QcircuitEquiv(_QPE1_U_t.literals_as_variables(_U, _t, _s), \n",
    "                         QPE1_U_t_circuit),\n",
    "        domain=RegisterSU(s)),\n",
    "    domain=NaturalPos)"
   ]
  },
  {
   "cell_type": "code",
   "execution_count": null,
   "metadata": {},
   "outputs": [],
   "source": [
    "QPE_def = Forall(\n",
    "    (s, t), Forall(\n",
    "        U, QcircuitEquiv(_QPE_U_t.literals_as_variables(_U, _t, _s), \n",
    "                         _QPE_U_t_circuit.literals_as_variables(_U, _t, _s)),\n",
    "        domain=RegisterSU(s)),\n",
    "    domain=NaturalPos)"
   ]
  },
  {
   "cell_type": "markdown",
   "metadata": {},
   "source": [
    "## Local axioms for convenience (for internal use only)"
   ]
  },
  {
   "cell_type": "markdown",
   "metadata": {},
   "source": [
    "Let $U$ be a unitary operator that acts on $s$ qubits, with $\\lvert u\\rangle$ as an eigenstate of $U$ with eigenvalue $e^{2 \\pi i \\varphi}$:"
   ]
  },
  {
   "cell_type": "code",
   "execution_count": null,
   "metadata": {},
   "outputs": [],
   "source": [
    "_m_in_nat_pos = InSet(_s, NaturalPos)"
   ]
  },
  {
   "cell_type": "code",
   "execution_count": null,
   "metadata": {},
   "outputs": [],
   "source": [
    "_unitary_U = InSet(_U, RegisterSU(_s))"
   ]
  },
  {
   "cell_type": "code",
   "execution_count": null,
   "metadata": {},
   "outputs": [],
   "source": [
    "_u_ket_register = InSet(_ket_u, QubitRegisterSpace(_s))"
   ]
  },
  {
   "cell_type": "code",
   "execution_count": null,
   "metadata": {},
   "outputs": [],
   "source": [
    "_phase_in_interval = InSet(_phase, IntervalCO(zero, one))"
   ]
  },
  {
   "cell_type": "code",
   "execution_count": null,
   "metadata": {},
   "outputs": [],
   "source": [
    "_eigen_uu = Equals(MatrixMult(_U, _ket_u), \n",
    "                   ScalarMult(exp(Mult(two, pi, i, _phase)), _ket_u))"
   ]
  },
  {
   "cell_type": "code",
   "execution_count": null,
   "metadata": {},
   "outputs": [],
   "source": [
    "# t (represented by the Literal t_)\n",
    "# denotes the number of Qbits in the input register\n",
    "_t_in_natural_pos = InSet(_t, NaturalPos)"
   ]
  },
  {
   "cell_type": "code",
   "execution_count": null,
   "metadata": {},
   "outputs": [],
   "source": [
    "_psi_t_kets_in_qreg_space = Forall(t, InSet(Ket(_psi_t), \n",
    "                                         QubitRegisterSpace(t)), \n",
    "                                domain=NaturalPos)"
   ]
  },
  {
   "cell_type": "code",
   "execution_count": null,
   "metadata": {},
   "outputs": [],
   "source": [
    "_Psi_ket_in_qreg_space = InSet(Ket(_Psi), QubitRegisterSpace(_t))"
   ]
  },
  {
   "cell_type": "code",
   "execution_count": null,
   "metadata": {},
   "outputs": [],
   "source": [
    "# _psi_t_def = Forall(\n",
    "#     t, Equals(\n",
    "#         Ket(_psi_t),\n",
    "#         ScalarMult(\n",
    "#             frac(one, Exp(two, frac(_t, two))),\n",
    "#             # TEMPORARY FORM FOR TESTING\n",
    "#             TensorProd(ExprRange(r, Add(ket0, Mult(exp(Mult(two, pi, i, _phase, \n",
    "#                                                             Exp(two, r))), ket1)), \n",
    "#                                  subtract(_t, one), zero, order='decreasing')))),\n",
    "#             #TensorProd(ExprRange(r, Add(ket0, Mult(exp(Mult(two, pi, i, _phase, Exp(two, Neg(r)))), ket1)), \n",
    "#             #                     Neg(subtract(_t, one)), zero)))),\n",
    "#     domain=NaturalPos)"
   ]
  },
  {
   "cell_type": "code",
   "execution_count": null,
   "metadata": {},
   "outputs": [],
   "source": [
    "_psi_t_def = Forall(\n",
    "    t, Equals(\n",
    "        Ket(_psi_t),\n",
    "        # TEMPORARY FORM FOR TESTING\n",
    "        TensorProd(ExprRange(r, \n",
    "                             ScalarMult(frac(one, sqrt(two)),\n",
    "                                        VecAdd(ket0, \n",
    "                                               ScalarMult(exp(Mult(two, pi, i, _phase, Exp(two, r))),\n",
    "                                                          ket1))), \n",
    "                             subtract(_t, one), zero, order='decreasing'))),\n",
    "        #TensorProd(ExprRange(r, Add(ket0, Mult(exp(Mult(two, pi, i, _phase, Exp(two, Neg(r)))), ket1)), \n",
    "        #                     Neg(subtract(_t, one)), zero)))),\n",
    "    domain=NaturalPos)"
   ]
  },
  {
   "cell_type": "code",
   "execution_count": null,
   "metadata": {},
   "outputs": [],
   "source": [
    "# TODO: UNCOMMENT AND MAKE AS A PROPER REVERSED EXPR_RANGE\n",
    "# _psi_t_def = Forall(\n",
    "#     t, Equals(\n",
    "#         Ket(_psi_t),\n",
    "#         Mult(\n",
    "#             frac(one, Exp(two, frac(_t, two))),\n",
    "#             TensorProd(ExprRange(r, Add(ket0, Mult(exp(Mult(two, pi, i, _phase, Exp(two, Neg(r)))), ket1)), \n",
    "#                                  Neg(subtract(_t, one)), zero)))),\n",
    "#     domain=NaturalPos)"
   ]
  },
  {
   "cell_type": "code",
   "execution_count": null,
   "metadata": {},
   "outputs": [],
   "source": [
    "_Psi_def = Equals(Ket(_Psi), Qmult(InverseFourierTransform(_t),\n",
    "                                   Ket(_psi__t)))"
   ]
  },
  {
   "cell_type": "code",
   "execution_count": null,
   "metadata": {},
   "outputs": [],
   "source": [
    "# _phase_est_def = Equals(Mult(_two_pow_t, _phase_est), \n",
    "#                              Meas(Ket(_Psi)))"
   ]
  },
  {
   "cell_type": "markdown",
   "metadata": {},
   "source": [
    "Let $\\lvert \\Psi \\rangle$ be the outcome of the $t$-qubit register of ${\\rm QPE}(U, t)$ acting on $\\lvert u \\rangle$, $m$ be a random variable representing the measurement of Psi with the register interpreted as an integer (via binary representation), and $\\varphi_m = 2 \\pi m/2^t$ be the random variable phase outcome of ${\\rm QPE}(U, t)$:"
   ]
  },
  {
   "cell_type": "code",
   "execution_count": null,
   "metadata": {},
   "outputs": [],
   "source": [
    "# _m_def = Equals(_m, Meas(Ket(_Psi)))"
   ]
  },
  {
   "cell_type": "code",
   "execution_count": null,
   "metadata": {},
   "outputs": [],
   "source": [
    "# _m_def = Equals(_m, Mult(_two_pow_t, _phase_est))"
   ]
  },
  {
   "cell_type": "code",
   "execution_count": null,
   "metadata": {},
   "outputs": [],
   "source": [
    "# _phase_m_def = Equals(_phase_m, frac(_m, _two_pow_t))"
   ]
  },
  {
   "cell_type": "markdown",
   "metadata": {},
   "source": [
    "Let $b$ be the value for $m$ that gives the closest $\\varphi_m$ to $\\varphi$ without exceeding it, and let $\\delta$ be this difference:"
   ]
  },
  {
   "cell_type": "code",
   "execution_count": null,
   "metadata": {},
   "outputs": [],
   "source": [
    "_best_def = Equals(_b, Floor(Mult(_phase, _two_pow_t)))"
   ]
  },
  {
   "cell_type": "code",
   "execution_count": null,
   "metadata": {},
   "outputs": [],
   "source": [
    "_delta_def = Equals(_delta, subtract(_phase, frac(_b, _two_pow_t)))"
   ]
  },
  {
   "cell_type": "code",
   "execution_count": null,
   "metadata": {},
   "outputs": [],
   "source": [
    "sample_space_def = Equals(_Omega, _sample_space)"
   ]
  },
  {
   "cell_type": "markdown",
   "metadata": {},
   "source": [
    "The probability of success is defined as $\\theta_m$ being within some epsilon of $\\theta$: "
   ]
  },
  {
   "cell_type": "code",
   "execution_count": null,
   "metadata": {},
   "outputs": [],
   "source": [
    "_success_def = Forall(\n",
    "        e,\n",
    "        Equals(Psuccess(e),\n",
    "               _success_prob_e),\n",
    "        domain=NaturalPos)"
   ]
  },
  {
   "cell_type": "code",
   "execution_count": null,
   "metadata": {},
   "outputs": [],
   "source": [
    "_fail_def = Forall(\n",
    "    e,\n",
    "    Equals(Pfail(e), _fail_prob_e),\n",
    "    domain=NaturalPos)"
   ]
  },
  {
   "cell_type": "markdown",
   "metadata": {},
   "source": [
    "Let $\\alpha_l$ be the amplitude of $\\lvert \\Psi \\rangle$ for the $b \\oplus l$ state, where $\\oplus$ is defined as addition modulo $2^t$:"
   ]
  },
  {
   "cell_type": "code",
   "execution_count": null,
   "metadata": {},
   "outputs": [],
   "source": [
    "_mod_add_def = Forall(\n",
    "    (a, b),\n",
    "    Equals(ModAdd(a, b), Mod(Add(a, b), _two_pow_t)),\n",
    "    domain=Integer)"
   ]
  },
  {
   "cell_type": "code",
   "execution_count": null,
   "metadata": {},
   "outputs": [],
   "source": [
    "_alpha_def = Forall(\n",
    "    l,\n",
    "    Equals(_alpha_l,\n",
    "           Qmult(NumBra(ModAdd(_b, l), _t),\n",
    "                 Ket(_Psi))),\n",
    "    domain=Integer)"
   ]
  },
  {
   "cell_type": "code",
   "execution_count": null,
   "metadata": {},
   "outputs": [],
   "source": [
    "_t_req = Equals(\n",
    "    _t, Add(_n, Ceil(Log(two, Add(two, frac(one, Mult(two, _eps)))))))"
   ]
  },
  {
   "cell_type": "code",
   "execution_count": null,
   "metadata": {},
   "outputs": [],
   "source": [
    "%end axioms"
   ]
  },
  {
   "cell_type": "code",
   "execution_count": null,
   "metadata": {},
   "outputs": [],
   "source": []
  }
 ],
 "metadata": {
  "kernelspec": {
   "display_name": "Python 3",
   "language": "python",
   "name": "python3"
  }
 },
 "nbformat": 4,
 "nbformat_minor": 0
}
