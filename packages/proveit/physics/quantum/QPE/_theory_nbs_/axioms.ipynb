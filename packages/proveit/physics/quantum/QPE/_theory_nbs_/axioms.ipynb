{
 "cells": [
  {
   "cell_type": "markdown",
   "metadata": {},
   "source": [
    "Axioms for the theory of <a class=\"ProveItLink\" href=\"theory.ipynb\">proveit.physics.quantum.QPE</a>\n",
    "========"
   ]
  },
  {
   "cell_type": "code",
   "execution_count": null,
   "metadata": {},
   "outputs": [],
   "source": [
    "import proveit\n",
    "# Prepare this notebook for defining the axioms of a theory:\n",
    "%axioms_notebook # Keep this at the top following 'import proveit'.\n",
    "from proveit import Literal, ExprArray, ExprRange, ExprTuple\n",
    "from proveit import a, b, c, d, e, eps, k, l, m, n, r, s, t, U\n",
    "from proveit.logic import Equals, Forall, NotEquals, InSet, Set\n",
    "from proveit.numbers import (zero, one, two, three, i, pi, Div, Exp, Abs,\n",
    "                             Integer, Interval, IntervalCO, Natural, NaturalPos, Neg)\n",
    "from proveit.numbers import (zero, one, two, three, i, pi, Div, Exp,\n",
    "                             Integer, Interval, IntervalCO, IntervalOC, Natural, NaturalPos, Neg)\n",
    "from proveit.numbers import (Add, exp, Ceil, Floor, frac, greater_eq, LessEq, Mod, ModAbs, \n",
    "                             Mult, Prod, Round, subtract, Sum, Log, sqrt)\n",
    "from proveit.linear_algebra import (\n",
    "    VecAdd, MatrixMult, ScalarMult, TensorExp, TensorProd, Norm)\n",
    "from proveit.physics.quantum import (\n",
    "    Meas, NumBra, NumKet, RegisterU, Qmult,\n",
    "    QubitRegisterSpace, ket0, ket1)\n",
    "#from proveit.physics.quantum.circuit import (Circuit, Input, Output, Gate, MultiQubitGate, \n",
    "#                                             IdentityOp, MultiWire, CircuitEquiv)\n",
    "from proveit.physics.quantum.circuits import QcircuitEquiv\n",
    "from proveit.physics.quantum.QPE import (\n",
    "    _eps, _alpha_l, _b, _b_round, _delta, _delta_b_round, _l_domain,\n",
    "    _n, _s, _t, _phase, _phase_est, _psi_t_ket, _psi__t_ket, _Psi_ket,\n",
    "    _two_pow_t, two_pow_t, _ket_u, _U, _U_pow_two_pow_k,\n",
    "    _QPE_U_t, _QPE1_U_t, _QPE_U_t_circuit, QPE1_U_t_circuit, \n",
    "    _psi_t_circuit, _Psi_circuit, _phase_est_circuit, \n",
    "    _Omega, _sample_space, _e_domain, _success_prob_e, _fail_prob_e)\n",
    "from proveit.physics.quantum.QPE.phase_est_ops import ModAdd, Pfail, Psuccess, SubIndexed\n",
    "from proveit.physics.quantum.QFT import InverseFourierTransform\n",
    "from proveit.statistics import Prob"
   ]
  },
  {
   "cell_type": "code",
   "execution_count": null,
   "metadata": {},
   "outputs": [],
   "source": [
    "%begin axioms"
   ]
  },
  {
   "cell_type": "markdown",
   "metadata": {},
   "source": [
    "### Quantum circuit definitions"
   ]
  },
  {
   "cell_type": "code",
   "execution_count": null,
   "metadata": {},
   "outputs": [],
   "source": [
    "QPE1_def = Forall(\n",
    "    (s, t), Forall(\n",
    "        U, QcircuitEquiv(_QPE1_U_t.literals_as_variables(_U, _t, _s), \n",
    "                         QPE1_U_t_circuit),\n",
    "        domain=RegisterU(s)),\n",
    "    domain=NaturalPos)"
   ]
  },
  {
   "cell_type": "code",
   "execution_count": null,
   "metadata": {},
   "outputs": [],
   "source": [
    "QPE_def = Forall(\n",
    "    (s, t), Forall(\n",
    "        U, QcircuitEquiv(_QPE_U_t.literals_as_variables(_U, _t, _s), \n",
    "                         _QPE_U_t_circuit.literals_as_variables(_U, _t, _s)),\n",
    "        domain=RegisterU(s)),\n",
    "    domain=NaturalPos)"
   ]
  },
  {
   "cell_type": "markdown",
   "metadata": {},
   "source": [
    "## Local axioms for convenience (for internal use only)"
   ]
  },
  {
   "cell_type": "markdown",
   "metadata": {},
   "source": [
    "Let $U$ be a unitary operator that acts on $s$ qubits, with $\\lvert u\\rangle$ as an eigenstate of $U$ with eigenvalue $e^{2 \\pi i \\varphi}$:"
   ]
  },
  {
   "cell_type": "code",
   "execution_count": null,
   "metadata": {},
   "outputs": [],
   "source": [
    "_s_in_nat_pos = InSet(_s, NaturalPos)"
   ]
  },
  {
   "cell_type": "code",
   "execution_count": null,
   "metadata": {},
   "outputs": [],
   "source": [
    "_unitary_U = InSet(_U, RegisterU(_s))"
   ]
  },
  {
   "cell_type": "code",
   "execution_count": null,
   "metadata": {},
   "outputs": [],
   "source": [
    "_u_ket_register = InSet(_ket_u, QubitRegisterSpace(_s))"
   ]
  },
  {
   "cell_type": "code",
   "execution_count": null,
   "metadata": {},
   "outputs": [],
   "source": [
    "_normalized_ket_u = Equals(Norm(_ket_u), one)"
   ]
  },
  {
   "cell_type": "code",
   "execution_count": null,
   "metadata": {},
   "outputs": [],
   "source": [
    "_phase_in_interval = InSet(_phase, IntervalCO(zero, one))"
   ]
  },
  {
   "cell_type": "code",
   "execution_count": null,
   "metadata": {},
   "outputs": [],
   "source": [
    "_eigen_uu = Equals(MatrixMult(_U, _ket_u), \n",
    "                   ScalarMult(exp(Mult(two, pi, i, _phase)), _ket_u))"
   ]
  },
  {
   "cell_type": "code",
   "execution_count": null,
   "metadata": {},
   "outputs": [],
   "source": [
    "# This local axiom is only used for the ideal case (when the phase can be represented exactly with t bits)\n",
    "# _ideal_phase_cond = InSet(Mult(_two_pow_t, _phase), \n",
    "#                           Interval(zero, subtract(_two_pow_t, one)))"
   ]
  },
  {
   "cell_type": "code",
   "execution_count": null,
   "metadata": {},
   "outputs": [],
   "source": [
    "# t (represented by the Literal t_)\n",
    "# denotes the number of Qbits in the input register\n",
    "_t_in_natural_pos = InSet(_t, NaturalPos)"
   ]
  },
  {
   "cell_type": "code",
   "execution_count": null,
   "metadata": {},
   "outputs": [],
   "source": [
    "_psi_t_def = Forall(\n",
    "    t, Equals(\n",
    "        _psi_t_ket,\n",
    "        TensorProd(ExprRange(r, \n",
    "                             ScalarMult(frac(one, sqrt(two)),\n",
    "                                        VecAdd(ket0, \n",
    "                                               ScalarMult(exp(Mult(two, pi, i, Exp(two, r), _phase)),\n",
    "                                                          ket1))), \n",
    "                             subtract(t, one), zero, order='decreasing'))),\n",
    "    domain=NaturalPos)"
   ]
  },
  {
   "cell_type": "code",
   "execution_count": null,
   "metadata": {},
   "outputs": [],
   "source": [
    "_Psi_def = Equals(_Psi_ket, Qmult(InverseFourierTransform(_t),\n",
    "                                  _psi__t_ket))"
   ]
  },
  {
   "cell_type": "markdown",
   "metadata": {},
   "source": [
    "Let $\\lvert \\Psi \\rangle$ be the outcome of the $t$-qubit register of ${\\rm QPE}(U, t)$ acting on $\\lvert u \\rangle$, $m$ be a random variable representing the measurement of Psi with the register interpreted as an integer (via binary representation), and $\\varphi_m = 2 \\pi m/2^t$ be the random variable phase outcome of ${\\rm QPE}(U, t)$:"
   ]
  },
  {
   "cell_type": "markdown",
   "metadata": {},
   "source": [
    "Let $b$ be the value for $m$ that gives the closest $\\varphi_m$ to $\\varphi$ without exceeding it, and let $\\delta$ be this difference:"
   ]
  },
  {
   "cell_type": "code",
   "execution_count": null,
   "metadata": {},
   "outputs": [],
   "source": [
    "_best_def = Equals(_b, Floor(Mult(_two_pow_t, _phase)))"
   ]
  },
  {
   "cell_type": "code",
   "execution_count": null,
   "metadata": {},
   "outputs": [],
   "source": [
    "_delta_def = Equals(_delta, subtract(_phase, frac(_b, _two_pow_t)))"
   ]
  },
  {
   "cell_type": "markdown",
   "metadata": {},
   "source": [
    "As an alternative to the single ''fixed'' $b$ and $\\delta$ above, let $b_{f}$ and $b_{r}$ be the floor and rounding versions, respectively, of the ''best'' value for the measurement $m$ that gives the closest $t$-qubit estimate of $2^t \\varphi$ (whether it be the floored version $b_{f}$ or the rounded version $b_{r}$ or some other version), and then we can let $\\delta_{b}$ be the difference between the actual $\\varphi$ and the $t$-qubit ''best'' estimate $b/2^t$ of $\\varphi$ for whichever ''best'' $b$ we choose to use:"
   ]
  },
  {
   "cell_type": "code",
   "execution_count": null,
   "metadata": {},
   "outputs": [],
   "source": [
    "from proveit.physics.quantum.QPE import _b_floor\n",
    "_best_floor_def = Equals(_b_floor, Floor(Mult(_two_pow_t, _phase)))"
   ]
  },
  {
   "cell_type": "code",
   "execution_count": null,
   "metadata": {},
   "outputs": [],
   "source": [
    "_best_round_def = Equals(_b_round, Round(Mult(_two_pow_t, _phase)))"
   ]
  },
  {
   "cell_type": "code",
   "execution_count": null,
   "metadata": {},
   "outputs": [],
   "source": [
    "# define delta as a function of ANY \"best\" b interpretation of the t-qubit\n",
    "# first-stage binary read-out, still parameterized by the _phase\n",
    "from proveit.physics.quantum.QPE import _b_domain, _delta_b\n",
    "_delta_b_def = Forall(\n",
    "    b, \n",
    "    Equals(_delta_b, subtract(_phase, frac(b, _two_pow_t))),\n",
    "    domain = Integer) # trying Integer domain instead of _b_domain to make things easier"
   ]
  },
  {
   "cell_type": "code",
   "execution_count": null,
   "metadata": {},
   "outputs": [],
   "source": [
    "_sample_space_def = Equals(_Omega, _sample_space)"
   ]
  },
  {
   "cell_type": "markdown",
   "metadata": {},
   "source": [
    "The probability of success is defined as $\\theta_m$ being within some epsilon of $\\theta$: "
   ]
  },
  {
   "cell_type": "code",
   "execution_count": null,
   "metadata": {},
   "outputs": [],
   "source": [
    "_success_def = Forall(\n",
    "        e,\n",
    "        Equals(Psuccess(e),\n",
    "               _success_prob_e),\n",
    "        domain=_e_domain)"
   ]
  },
  {
   "cell_type": "code",
   "execution_count": null,
   "metadata": {},
   "outputs": [],
   "source": [
    "_fail_def = Forall(\n",
    "    e,\n",
    "    Equals(Pfail(e), _fail_prob_e),\n",
    "    domain=_e_domain)"
   ]
  },
  {
   "cell_type": "markdown",
   "metadata": {},
   "source": [
    "Let $\\alpha_l$ be the amplitude of $\\lvert \\Psi \\rangle$ for the $b \\oplus l$ state, where $\\oplus$ is defined as addition modulo $2^t$:"
   ]
  },
  {
   "cell_type": "code",
   "execution_count": null,
   "metadata": {},
   "outputs": [],
   "source": [
    "_mod_add_def = Forall(\n",
    "    (a, b),\n",
    "    Equals(ModAdd(a, b), Mod(Add(a, b), _two_pow_t)),\n",
    "    domain=Integer)"
   ]
  },
  {
   "cell_type": "code",
   "execution_count": null,
   "metadata": {},
   "outputs": [],
   "source": [
    "_alpha_def = Forall(\n",
    "    l,\n",
    "    Equals(_alpha_l,\n",
    "           Qmult(NumBra(ModAdd(_b, l), _t),\n",
    "                 _Psi_ket)),\n",
    "    domain=Integer)"
   ]
  },
  {
   "cell_type": "code",
   "execution_count": null,
   "metadata": {},
   "outputs": [],
   "source": [
    "from proveit.logic import Set\n",
    "from proveit.physics.quantum.QPE import _b_floor, _b_round\n",
    "_alpha_def_with_b = Forall(\n",
    "    (b, l),\n",
    "    Equals(_alpha_l,\n",
    "           Qmult(NumBra(ModAdd(_b, l), _t),\n",
    "                 _Psi_ket)),\n",
    "    domains=[Set(_b_floor, _b_round), Integer])"
   ]
  },
  {
   "cell_type": "code",
   "execution_count": null,
   "metadata": {},
   "outputs": [],
   "source": [
    "# eventually replace this \"base\" case with the _alpha_m_def below\n",
    "# less confusing since we later use ell to index units away from \"best\" b\n",
    "_alpha_l_def = Forall(\n",
    "    l,\n",
    "    Equals(_alpha_l,\n",
    "           Qmult(NumBra(l, _t),\n",
    "                 _Psi_ket)),\n",
    "    domain=_l_domain)"
   ]
  },
  {
   "cell_type": "code",
   "execution_count": null,
   "metadata": {},
   "outputs": [],
   "source": [
    "from proveit.physics.quantum.QPE import _alpha_m, _m_domain\n",
    "_alpha_m_def = Forall(\n",
    "    m,\n",
    "    Equals(_alpha_m,\n",
    "           Qmult(NumBra(m, _t),\n",
    "                 _Psi_ket)),\n",
    "    domain=_m_domain)"
   ]
  },
  {
   "cell_type": "code",
   "execution_count": null,
   "metadata": {},
   "outputs": [],
   "source": [
    "_alpha_def_for_rounded_best = Forall(\n",
    "    l,\n",
    "    Equals(_alpha_l,\n",
    "           Qmult(NumBra(ModAdd(_b_round, l), _t),\n",
    "                 _Psi_ket)),\n",
    "    domain=Integer)"
   ]
  },
  {
   "cell_type": "code",
   "execution_count": null,
   "metadata": {},
   "outputs": [],
   "source": [
    "# n (represented by the Literal _n)\n",
    "# denotes the desired bits of precision (and thus n ≤ t)\n",
    "_n_in_natural_pos = InSet(_n, NaturalPos)"
   ]
  },
  {
   "cell_type": "code",
   "execution_count": null,
   "metadata": {},
   "outputs": [],
   "source": [
    "# n (represented by the Literal _n)\n",
    "# denotes the desired bits of precision (and thus n ≤ t)\n",
    "# n ≥ 2 helps with some details in some of the final steps of\n",
    "# the overall general theorem, but the assumption should be revisited later\n",
    "_n_ge_two = greater_eq(_n, two)"
   ]
  },
  {
   "cell_type": "code",
   "execution_count": null,
   "metadata": {},
   "outputs": [],
   "source": [
    "_eps_in_interval = InSet(_eps, IntervalOC(zero, one))"
   ]
  },
  {
   "cell_type": "code",
   "execution_count": null,
   "metadata": {},
   "outputs": [],
   "source": [
    "_t_req = greater_eq(\n",
    "    _t, Add(_n, Ceil(Log(two, Add(two, frac(one, Mult(two, _eps)))))))"
   ]
  },
  {
   "cell_type": "code",
   "execution_count": null,
   "metadata": {},
   "outputs": [],
   "source": [
    "%end axioms"
   ]
  },
  {
   "cell_type": "code",
   "execution_count": null,
   "metadata": {},
   "outputs": [],
   "source": []
  }
 ],
 "metadata": {
  "kernelspec": {
   "display_name": "Python 3",
   "language": "python",
   "name": "python3"
  }
 },
 "nbformat": 4,
 "nbformat_minor": 0
}
