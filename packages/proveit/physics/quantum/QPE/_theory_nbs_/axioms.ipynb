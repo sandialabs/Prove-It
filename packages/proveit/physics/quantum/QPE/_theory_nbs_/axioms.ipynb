{
 "cells": [
  {
   "cell_type": "markdown",
   "metadata": {},
   "source": [
    "Axioms for the theory of <a class=\"ProveItLink\" href=\"theory.ipynb\">proveit.physics.quantum.QPE</a>\n",
    "========"
   ]
  },
  {
   "cell_type": "code",
   "execution_count": null,
   "metadata": {},
   "outputs": [],
   "source": [
    "import proveit\n",
    "# Prepare this notebook for defining the axioms of a theory:\n",
    "%axioms_notebook # Keep this at the top following 'import proveit'.\n",
    "from proveit import Literal, ExprArray, ExprTuple\n",
    "from proveit import a, b, eps, k, l, n, t\n",
    "from proveit.linalg import MatrixProd, ScalarProd, TensorExp, TensorProd \n",
    "from proveit.logic import Equals, Forall, InSet, Set\n",
    "from proveit.numbers import zero, one, two, three, e, i, pi, Div, Exp, Integer, Interval, IntervalCO, NaturalPos\n",
    "from proveit.numbers import Add, Exp, Floor, frac, LessEq, Mod, ModAbs, Mult, Prod, subtract, Sum\n",
    "from proveit.physics.quantum import (Ket, Meas, RegisterBra, RegisterSU,\n",
    "                                     QubitRegisterSpace, ket0, ket1, Hgate, CONTROL, SPACE)\n",
    "from proveit.physics.quantum.circuit import Circuit, Input, Output, MultiQubitGate, IdentityOp\n",
    "from proveit.physics.quantum.QPE import (alpha_l, b_, delta_, m_, n_, phase_, psi_,\n",
    "                                                  phase_m_, psi_k, psi_1, Psi_, psi_next, t_, two_pow_t,\n",
    "                                                  u_, U_, U_pow_two_pow_k, p_0, p_k )\n",
    "from proveit.physics.quantum.QPE.phase_est_ops import ModAdd, Pfail, Psuccess, SubIndexed\n",
    "from proveit.statistics import Prob"
   ]
  },
  {
   "cell_type": "code",
   "execution_count": null,
   "metadata": {},
   "outputs": [],
   "source": [
    "%begin axioms"
   ]
  },
  {
   "cell_type": "markdown",
   "metadata": {},
   "source": [
    "Let $U$ be a unitary operator that acts on $n$ qubits, with $\\lvert u\\rangle$ as an eigenstate of $U$ with eigenvalue $e^{2 \\pi i \\varphi}$:"
   ]
  },
  {
   "cell_type": "code",
   "execution_count": null,
   "metadata": {},
   "outputs": [],
   "source": [
    "n_in_nat_pos = InSet(n_, NaturalPos)"
   ]
  },
  {
   "cell_type": "code",
   "execution_count": null,
   "metadata": {},
   "outputs": [],
   "source": [
    "unitary_u = InSet(U_, RegisterSU(n_))"
   ]
  },
  {
   "cell_type": "code",
   "execution_count": null,
   "metadata": {},
   "outputs": [],
   "source": [
    "u_ket_register = InSet(Ket(u_), QubitRegisterSpace(n_))"
   ]
  },
  {
   "cell_type": "code",
   "execution_count": null,
   "metadata": {},
   "outputs": [],
   "source": [
    "phase_in_interval = InSet(phase_, IntervalCO(zero, one))"
   ]
  },
  {
   "cell_type": "code",
   "execution_count": null,
   "metadata": {},
   "outputs": [],
   "source": [
    "eigen_uu = Equals(MatrixProd(U_, Ket(u_)), ScalarProd(Exp(e, Mult(two, pi, i, phase_)), Ket(u_)))"
   ]
  },
  {
   "cell_type": "code",
   "execution_count": null,
   "metadata": {},
   "outputs": [],
   "source": [
    "# t (represented by the Literal t_)\n",
    "# denotes the number of Qbits in the input register\n",
    "t_in_natural_pos = InSet(t_, NaturalPos)"
   ]
  },
  {
   "cell_type": "code",
   "execution_count": null,
   "metadata": {},
   "outputs": [],
   "source": [
    "psi_kets_in_q_reg_space = Forall(k, InSet(Ket(psi_k), QubitRegisterSpace(k)), domain=NaturalPos)"
   ]
  },
  {
   "cell_type": "code",
   "execution_count": null,
   "metadata": {},
   "outputs": [],
   "source": [
    "PsiKetInQRegSpace = InSet(Ket(Psi_), QubitRegisterSpace(t_))"
   ]
  },
  {
   "cell_type": "code",
   "execution_count": null,
   "metadata": {},
   "outputs": [],
   "source": [
    "p_k_def = Forall(\n",
    "    k,\n",
    "    Equals(\n",
    "    p_k,\n",
    "    Mult(frac(one, Exp(two, frac(one,two))),\n",
    "         Add(ket0, Mult( Exp(e, Mult(two, pi, i, phase_, Exp(two, k))), ket1)))),\n",
    "    domain=Interval(zero, subtract(t_, one)))"
   ]
  },
  {
   "cell_type": "code",
   "execution_count": null,
   "metadata": {},
   "outputs": [],
   "source": [
    "psi_1_equals_p_0 = Equals(psi_1, p_0)"
   ]
  },
  {
   "cell_type": "code",
   "execution_count": null,
   "metadata": {},
   "outputs": [],
   "source": [
    "psi_k_def = Forall(\n",
    "    k,\n",
    "    Equals(\n",
    "    SubIndexed(psi_, Add(k, one)),\n",
    "    TensorProd(p_k, SubIndexed(psi_, k))),\n",
    "    domain=Interval(one, subtract(t_, one)))"
   ]
  },
  {
   "cell_type": "code",
   "execution_count": null,
   "metadata": {},
   "outputs": [],
   "source": [
    "first_q_p_e = Circuit(ExprArray(ExprTuple(Input(ket0), Hgate, MultiQubitGate(CONTROL, Set(one, two)), Output(Ket(psi_1))),\n",
    "                ExprTuple(Input(Ket(u_)), IdentityOp(), MultiQubitGate(U_, Set(one, two)), Output(Ket(u_)))))"
   ]
  },
  {
   "cell_type": "code",
   "execution_count": null,
   "metadata": {},
   "outputs": [],
   "source": [
    "# mid_q_p_e = Forall(k, \n",
    "#                Circuit([[Input(Ket(psi_k)), MultiWire(k), PASS, WIRE_DN, PASS, PASS],\n",
    "#                 [Input(ket0), Hgate, CTRL_DN, WIRE_LINK, MultiWire(Add(k, one)), Output(Ket(psi_next))],\n",
    "#                 [Input(Ket(u_)), MultiWire(n_), Gate(U_pow_two_pow_k), Output(Ket(u_)), PASS, PASS]]),\n",
    "#        domain=NaturalPos)"
   ]
  },
  {
   "cell_type": "code",
   "execution_count": null,
   "metadata": {},
   "outputs": [],
   "source": [
    "# Working to translate/update to use current Circuit params\n",
    "mid_q_p_e = Forall(k, \n",
    "               Circuit(ExprArray(\n",
    "                   ExprTuple(Input(Ket(psi_k)), IdentityOp(), IdentityOp(), MultiQubitGate(IdentityOp(), Set(one, two)), SPACE, SPACE),\n",
    "                   ExprTuple(Input(ket0), Hgate, MultiQubitGate(CONTROL, Set(two, three)), MultiQubitGate(IdentityOp(), Set(one, two)), IdentityOp(), Output(Ket(psi_next))),\n",
    "                   ExprTuple(Input(Ket(u_)), IdentityOp(), MultiQubitGate(U_pow_two_pow_k, Set(two, three)), Output(Ket(u_)), SPACE, SPACE))),\n",
    "       domain=NaturalPos)"
   ]
  },
  {
   "cell_type": "code",
   "execution_count": null,
   "metadata": {},
   "outputs": [],
   "source": [
    "# final_q_p_e = Circuit([[Input(Ket(psi_t)), MultiWire(t_), Gate(InverseFourierTransform(t_)), Output(Ket(Psi_))]])"
   ]
  },
  {
   "cell_type": "code",
   "execution_count": null,
   "metadata": {},
   "outputs": [],
   "source": [
    "# trying here to define Psi_1 (the result at the end of \"stage 1\")\n",
    "# represented in Nielsen & Chuang's Eq 5.20 (pg 222)\n",
    "Psi_1 = Literal(string_format='Psi_1', latex_format=r'\\Psi_{1}')\n",
    "phi_ = Literal(string_format='phi', latex_format=r'\\varphi')\n",
    "Psi_1_def = Equals(Psi_1,\n",
    "                   Mult(frac(one, Exp(two, frac(t_,two))),\n",
    "                        Sum(k, Mult(Exp(e, Mult(two, pi, i, phase_, k)), Ket(k)), domain=Interval(zero, subtract(Exp(two, t_), one)))))"
   ]
  },
  {
   "cell_type": "code",
   "execution_count": null,
   "metadata": {},
   "outputs": [],
   "source": []
  },
  {
   "cell_type": "markdown",
   "metadata": {},
   "source": [
    "Let $\\lvert \\Psi \\rangle$ be the outcome of the $t$-qubit register of ${\\rm QPE}(U, t)$ acting on $\\lvert u \\rangle$, $m$ be a random variable representing the measurement of Psi with the register interpretted as an integer (via binary representation), and $\\varphi_m = 2 \\pi m/2^t$ be the random variable phase outcome of ${\\rm QPE}(U, t)$:"
   ]
  },
  {
   "cell_type": "code",
   "execution_count": null,
   "metadata": {},
   "outputs": [],
   "source": [
    "m_def = Equals(m_, Meas(Ket(Psi_)))"
   ]
  },
  {
   "cell_type": "code",
   "execution_count": null,
   "metadata": {},
   "outputs": [],
   "source": [
    "phase_m_def = Equals(phase_m_, frac(m_, two_pow_t))"
   ]
  },
  {
   "cell_type": "markdown",
   "metadata": {},
   "source": [
    "Let $b$ be the value for $m$ that gives the closest $\\varphi_m$ to $\\varphi$ without exceeding it, and let $\\delta$ be this difference:"
   ]
  },
  {
   "cell_type": "code",
   "execution_count": null,
   "metadata": {},
   "outputs": [],
   "source": [
    "best_def = Equals(b_, Floor(Mult(phase_, two_pow_t)))"
   ]
  },
  {
   "cell_type": "code",
   "execution_count": null,
   "metadata": {},
   "outputs": [],
   "source": [
    "delta_def = Equals(delta_, subtract(phase_, frac(b_, two_pow_t)))"
   ]
  },
  {
   "cell_type": "markdown",
   "metadata": {},
   "source": [
    "The probability of success is defined as $\\theta_m$ being within some epsilon of $\\theta$: "
   ]
  },
  {
   "cell_type": "code",
   "execution_count": null,
   "metadata": {},
   "outputs": [],
   "source": [
    "success_def = Forall(\n",
    "        eps,\n",
    "        Equals(Psuccess(eps),\n",
    "               Prob(LessEq(ModAbs(subtract(m_, b_), two_pow_t), eps), m_)), \n",
    "        domain=NaturalPos)"
   ]
  },
  {
   "cell_type": "code",
   "execution_count": null,
   "metadata": {},
   "outputs": [],
   "source": [
    "fail_def = Forall(\n",
    "    eps,\n",
    "    Equals(Pfail(eps), subtract(one, Psuccess(eps))),\n",
    "    domain=NaturalPos)"
   ]
  },
  {
   "cell_type": "markdown",
   "metadata": {},
   "source": [
    "Let $\\alpha_l$ be the amplitude of $\\lvert \\Psi \\rangle$ for the $b \\oplus l$ state, where $\\oplus$ is defined as addition modulo $2^t$:"
   ]
  },
  {
   "cell_type": "code",
   "execution_count": null,
   "metadata": {},
   "outputs": [],
   "source": [
    "mod_add_def = Forall(\n",
    "    (a, b),\n",
    "    Equals(ModAdd(a, b), Mod(Add(a, b), two_pow_t)),\n",
    "    domain=Integer)"
   ]
  },
  {
   "cell_type": "code",
   "execution_count": null,
   "metadata": {},
   "outputs": [],
   "source": [
    "alpha_def = Forall(\n",
    "    l,\n",
    "    Equals(alpha_l,\n",
    "           MatrixProd(RegisterBra(ModAdd(b_, l), t_),\n",
    "                      Ket(Psi_))),\n",
    "    domain=Integer)"
   ]
  },
  {
   "cell_type": "code",
   "execution_count": null,
   "metadata": {},
   "outputs": [],
   "source": [
    "%end axioms"
   ]
  }
 ],
 "metadata": {
  "kernelspec": {
   "display_name": "Python 3",
   "language": "python",
   "name": "python3"
  }
 },
 "nbformat": 4,
 "nbformat_minor": 0
}
