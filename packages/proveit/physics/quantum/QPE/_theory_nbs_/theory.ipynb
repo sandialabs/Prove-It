{
 "cells": [
  {
   "cell_type": "markdown",
   "metadata": {},
   "source": [
    "Theory of <a class=\"ProveItLink\" href=\"../../../../_theory_nbs_/theory.ipynb\">proveit</a>.<a class=\"ProveItLink\" href=\"../../../_theory_nbs_/theory.ipynb\">physics</a>.<a class=\"ProveItLink\" href=\"../../_theory_nbs_/theory.ipynb\">quantum</a>.QPE\n",
    "========\n",
    "\n",
    "In this package, we prove outcome bounds for the Quantum Phase Estimation algorithm.  Our proof is based on the proof in pp. 221--225 of Michael A. Nielsen and Isaac L. Chuang, \"Quantum Computation and Quantum Information\", (10th Anniversary Edition). Cambridge University Press, New York, NY, 2010."
   ]
  },
  {
   "cell_type": "code",
   "execution_count": null,
   "metadata": {},
   "outputs": [],
   "source": [
    "import proveit\n",
    "%theory # toggles between interactive and static modes"
   ]
  }
 ],
 "metadata": {
  "kernelspec": {
   "display_name": "Python 3",
   "language": "python",
   "name": "python3"
  }
 },
 "nbformat": 4,
 "nbformat_minor": 0
}
