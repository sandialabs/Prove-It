{
 "cells": [
  {
   "cell_type": "markdown",
   "metadata": {},
   "source": [
    "Proof of <a class=\"ProveItLink\" href=\"../../../../../../_theory_nbs_/theory.ipynb\">proveit</a>.<a class=\"ProveItLink\" href=\"../../../../../_theory_nbs_/theory.ipynb\">physics</a>.<a class=\"ProveItLink\" href=\"../../../../_theory_nbs_/theory.ipynb\">quantum</a>.<a class=\"ProveItLink\" href=\"../../theory.ipynb\">QPE</a>.<a class=\"ProveItLink\" href=\"../../theorems.ipynb#qpe_exact\">qpe_exact</a> theorem\n",
    "========"
   ]
  },
  {
   "cell_type": "code",
   "execution_count": null,
   "metadata": {},
   "outputs": [],
   "source": [
    "import proveit\n",
    "theory = proveit.Theory() # the theorem's theory\n",
    "\n",
    "from proveit import defaults, Lambda\n",
    "from proveit import a, b, l\n",
    "from proveit.logic import And, Iff\n",
    "from proveit.numbers import zero, LessEq\n",
    "from proveit.physics.quantum.algebra import Ket\n",
    "from proveit.physics.quantum.QPE import ModAdd\n",
    "from proveit.physics.quantum.QPE import (\n",
    "    _t, _b, _phase, _t_in_natural_pos, _phase_in_interval, _outcome_prob_vs_best, \n",
    "    _ideal_phase_cond, _eigen_uu, _ideal_alpha_0, \n",
    "    _best_is_int, _psi_t_def, _best_def, _delta_def, _Psi_def, \n",
    "    _sample_space_def, _success_def, _mod_add_def, _alpha_def)"
   ]
  },
  {
   "cell_type": "code",
   "execution_count": null,
   "metadata": {},
   "outputs": [],
   "source": [
    "%proving qpe_exact"
   ]
  },
  {
   "cell_type": "code",
   "execution_count": null,
   "metadata": {},
   "outputs": [],
   "source": [
    "defaults.assumptions = qpe_exact.all_conditions()"
   ]
  },
  {
   "cell_type": "code",
   "execution_count": null,
   "metadata": {},
   "outputs": [],
   "source": []
  },
  {
   "cell_type": "markdown",
   "metadata": {},
   "source": [
    "### First, we'll prove the instance expression in terms of the local QPE literals"
   ]
  },
  {
   "cell_type": "code",
   "execution_count": null,
   "metadata": {},
   "outputs": [],
   "source": [
    "_outcome_prob_vs_best"
   ]
  },
  {
   "cell_type": "code",
   "execution_count": null,
   "metadata": {},
   "outputs": [],
   "source": [
    "alpha0_eq_1 = _ideal_alpha_0"
   ]
  },
  {
   "cell_type": "code",
   "execution_count": null,
   "metadata": {},
   "outputs": [],
   "source": []
  },
  {
   "cell_type": "markdown",
   "metadata": {},
   "source": [
    "### We should try to automate these steps"
   ]
  },
  {
   "cell_type": "code",
   "execution_count": null,
   "metadata": {},
   "outputs": [],
   "source": [
    "l_domain = _outcome_prob_vs_best.domain"
   ]
  },
  {
   "cell_type": "code",
   "execution_count": null,
   "metadata": {},
   "outputs": [],
   "source": [
    "from proveit.numbers import Less, greater, greater_eq, one, NaturalPos\n",
    "from proveit.logic import InSet\n",
    "InSet(l_domain.upper_bound, NaturalPos).prove()"
   ]
  },
  {
   "cell_type": "code",
   "execution_count": null,
   "metadata": {},
   "outputs": [],
   "source": [
    "upper_geq_one = greater_eq(l_domain.upper_bound, one).prove()"
   ]
  },
  {
   "cell_type": "code",
   "execution_count": null,
   "metadata": {},
   "outputs": [],
   "source": [
    "upper_geq_one__negated = upper_geq_one.derive_negated()"
   ]
  },
  {
   "cell_type": "code",
   "execution_count": null,
   "metadata": {},
   "outputs": [],
   "source": [
    "upper_geq_one__negated"
   ]
  },
  {
   "cell_type": "code",
   "execution_count": null,
   "metadata": {},
   "outputs": [],
   "source": [
    "upper_geq_one__negated.right_add_both_sides(one)"
   ]
  },
  {
   "cell_type": "code",
   "execution_count": null,
   "metadata": {},
   "outputs": [],
   "source": [
    "LessEq(zero, l_domain.upper_bound).prove()"
   ]
  },
  {
   "cell_type": "code",
   "execution_count": null,
   "metadata": {},
   "outputs": [],
   "source": []
  },
  {
   "cell_type": "code",
   "execution_count": null,
   "metadata": {},
   "outputs": [],
   "source": [
    "b_modadd_0 = ModAdd(_b, zero).definition(replacements=[_best_def])"
   ]
  },
  {
   "cell_type": "code",
   "execution_count": null,
   "metadata": {},
   "outputs": [],
   "source": [
    "b_modadd_0__commuted = b_modadd_0.inner_expr().rhs.dividend.operand.commute()"
   ]
  },
  {
   "cell_type": "code",
   "execution_count": null,
   "metadata": {},
   "outputs": [],
   "source": [
    "prob_eq_1 = _outcome_prob_vs_best.instantiate(\n",
    "    {l:zero}, replacements=[alpha0_eq_1, b_modadd_0__commuted])"
   ]
  },
  {
   "cell_type": "code",
   "execution_count": null,
   "metadata": {},
   "outputs": [],
   "source": []
  },
  {
   "cell_type": "markdown",
   "metadata": {},
   "source": [
    "### Now we will eliminate local axiom definitions from the proof requiremetns\n",
    "\n",
    "Perform a series of definition eliminations to get rid of local axiom requirements.  These are conservative definations that are used for convenience but are not logically required."
   ]
  },
  {
   "cell_type": "code",
   "execution_count": null,
   "metadata": {},
   "outputs": [],
   "source": [
    "prob_eq_1v2 = prob_eq_1.eliminate_definition(_alpha_def)\n",
    "prob_eq_1v3 = prob_eq_1v2.eliminate_definition(_mod_add_def)\n",
    "prob_eq_1v4 = prob_eq_1v3.eliminate_definition(_Psi_def)\n",
    "prob_eq_1v5 = prob_eq_1v4.eliminate_definition(_best_def)\n",
    "prob_eq_1v6 = prob_eq_1v5.eliminate_definition(_psi_t_def, with_internal_wrapping=True)"
   ]
  },
  {
   "cell_type": "markdown",
   "metadata": {},
   "source": [
    "This `Judgment` is the same as before, but its proof is different.  At has additional **literal generalization** and **instantiation** steps but fewer axiom requirements."
   ]
  },
  {
   "cell_type": "markdown",
   "metadata": {},
   "source": [
    "### Now generalize over the variables we wish to quantify over"
   ]
  },
  {
   "cell_type": "markdown",
   "metadata": {},
   "source": [
    "We must include $\\varphi \\in [0, 1)$ as an extra superfluous condition to eliminate the `_phase_in_interval` axioms, but we will get rid of this later."
   ]
  },
  {
   "cell_type": "code",
   "execution_count": null,
   "metadata": {},
   "outputs": [],
   "source": [
    "qpe_exact_with_extra_cond = (\n",
    "    prob_eq_1v6.generalize(qpe_exact.instance_param_lists(),\n",
    "                           conditions=qpe_exact.all_conditions() + [_phase_in_interval])\n",
    "    .inner_expr().instance_expr.instance_expr.instance_expr.with_wrapping())"
   ]
  },
  {
   "cell_type": "code",
   "execution_count": null,
   "metadata": {},
   "outputs": [],
   "source": []
  },
  {
   "cell_type": "markdown",
   "metadata": {},
   "source": [
    "### Automate this later"
   ]
  },
  {
   "cell_type": "code",
   "execution_count": null,
   "metadata": {},
   "outputs": [],
   "source": [
    "desired_phase_cond = qpe_exact.instance_expr.instance_expr.instance_expr.condition"
   ]
  },
  {
   "cell_type": "code",
   "execution_count": null,
   "metadata": {},
   "outputs": [],
   "source": [
    "defaults.assumptions = qpe_exact.all_conditions()[:-3] + [desired_phase_cond]"
   ]
  },
  {
   "cell_type": "code",
   "execution_count": null,
   "metadata": {},
   "outputs": [],
   "source": [
    "phase_cond = qpe_exact.all_conditions()[-2]"
   ]
  },
  {
   "cell_type": "code",
   "execution_count": null,
   "metadata": {},
   "outputs": [],
   "source": [
    "phase_lower_bound = phase_cond.derive_element_lower_bound()"
   ]
  },
  {
   "cell_type": "code",
   "execution_count": null,
   "metadata": {},
   "outputs": [],
   "source": [
    "phase_upper_bound = phase_cond.derive_element_upper_bound()"
   ]
  },
  {
   "cell_type": "code",
   "execution_count": null,
   "metadata": {},
   "outputs": [],
   "source": [
    "from proveit.numbers import Neg\n",
    "two_pow_t_strong_bound = Less(Neg(one), zero).prove().left_add_both_sides(phase_upper_bound.rhs.terms[0])"
   ]
  },
  {
   "cell_type": "code",
   "execution_count": null,
   "metadata": {},
   "outputs": [],
   "source": [
    "phase_strong_upper_bound = phase_upper_bound.apply_transitivity(two_pow_t_strong_bound)"
   ]
  },
  {
   "cell_type": "code",
   "execution_count": null,
   "metadata": {},
   "outputs": [],
   "source": [
    "phase_upper_bound.add_right(one)"
   ]
  },
  {
   "cell_type": "code",
   "execution_count": null,
   "metadata": {},
   "outputs": [],
   "source": [
    "from proveit.numbers import Exp, two\n",
    "from proveit import t\n",
    "phase_lower_bound.divide_both_sides(Exp(two, t))"
   ]
  },
  {
   "cell_type": "code",
   "execution_count": null,
   "metadata": {},
   "outputs": [],
   "source": [
    "phase_strong_upper_bound.divide_both_sides(Exp(two, t))"
   ]
  },
  {
   "cell_type": "code",
   "execution_count": null,
   "metadata": {},
   "outputs": [],
   "source": [
    "_phase_in_interval.literals_as_variables(_phase, _t).prove()"
   ]
  },
  {
   "cell_type": "code",
   "execution_count": null,
   "metadata": {},
   "outputs": [],
   "source": []
  },
  {
   "cell_type": "markdown",
   "metadata": {},
   "source": [
    "### Now we can replace the $\\varphi$ condition with the right one"
   ]
  },
  {
   "cell_type": "code",
   "execution_count": null,
   "metadata": {},
   "outputs": [],
   "source": [
    "phase_cond = qpe_exact_with_extra_cond.instance_expr.instance_expr.instance_expr.condition.prove()"
   ]
  },
  {
   "cell_type": "code",
   "execution_count": null,
   "metadata": {},
   "outputs": [],
   "source": [
    "qpe_exact_with_extra_cond.instance_expr.instance_expr.instance_expr.operand.body"
   ]
  },
  {
   "cell_type": "code",
   "execution_count": null,
   "metadata": {},
   "outputs": [],
   "source": [
    "conditional = qpe_exact_with_extra_cond.instance_expr.instance_expr.instance_expr.operand.body"
   ]
  },
  {
   "cell_type": "code",
   "execution_count": null,
   "metadata": {},
   "outputs": [],
   "source": [
    "# desired_phase_cond.prove(assumptions=[phase_cond.expr]).as_implication(phase_cond.expr)"
   ]
  },
  {
   "cell_type": "code",
   "execution_count": null,
   "metadata": {},
   "outputs": [],
   "source": [
    "# phase_cond.as_implication(desired_phase_cond)"
   ]
  },
  {
   "cell_type": "code",
   "execution_count": null,
   "metadata": {},
   "outputs": [],
   "source": [
    "cond_equiv = Iff(phase_cond, desired_phase_cond).prove(assumptions=qpe_exact.all_conditions()[:-3])"
   ]
  },
  {
   "cell_type": "code",
   "execution_count": null,
   "metadata": {},
   "outputs": [],
   "source": [
    "defaults.assumptions = []"
   ]
  },
  {
   "cell_type": "code",
   "execution_count": null,
   "metadata": {},
   "outputs": [],
   "source": [
    "qpe_exact_done = (qpe_exact_with_extra_cond.inner_expr().instance_expr.instance_expr\n",
    "                  .instance_expr.operand.body.condition_substitute(cond_equiv, assumptions=[]))"
   ]
  },
  {
   "cell_type": "code",
   "execution_count": null,
   "metadata": {},
   "outputs": [],
   "source": [
    "%qed"
   ]
  }
 ],
 "metadata": {
  "kernelspec": {
   "display_name": "Python 3",
   "language": "python",
   "name": "python3"
  }
 },
 "nbformat": 4,
 "nbformat_minor": 0
}
