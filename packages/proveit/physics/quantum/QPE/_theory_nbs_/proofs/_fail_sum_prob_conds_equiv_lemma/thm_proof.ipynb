{
 "cells": [
  {
   "cell_type": "markdown",
   "metadata": {},
   "source": [
    "Proof of <a class=\"ProveItLink\" href=\"../../../../../../_theory_nbs_/theory.ipynb\">proveit</a>.<a class=\"ProveItLink\" href=\"../../../../../_theory_nbs_/theory.ipynb\">physics</a>.<a class=\"ProveItLink\" href=\"../../../../_theory_nbs_/theory.ipynb\">quantum</a>.<a class=\"ProveItLink\" href=\"../../theory.ipynb\">QPE</a>.<a class=\"ProveItLink\" href=\"../../theorems.ipynb#_fail_sum_prob_conds_equiv_lemma\">_fail_sum_prob_conds_equiv_lemma</a> theorem\n",
    "========"
   ]
  },
  {
   "cell_type": "code",
   "execution_count": null,
   "metadata": {},
   "outputs": [],
   "source": [
    "import proveit\n",
    "theory = proveit.Theory() # the theorem's theory\n",
    "from proveit import a, b, e, l, x, y, defaults\n",
    "from proveit.logic import Iff, InSet, Or, SubsetEq\n",
    "from proveit.numbers import zero, greater_eq, Less, Neg\n",
    "from proveit.numbers.ordering import less_or_greater_eq\n",
    "from proveit.physics.quantum.QPE import (\n",
    "    _full_domain, _modabs_in_full_domain_simp, _neg_domain,\n",
    "    _neg_domain_in_full_domain, _pos_domain,\n",
    "    _pos_domain_in_full_domain, _t_in_natural_pos)\n",
    "from proveit.physics.quantum.QPE import (\n",
    "    _two_pow_t, _two_pow_t__minus_one, _b, _t_in_natural_pos, _two_pow_t_minus_one_is_nat_pos,\n",
    "    _best_is_int, _Omega, _sample_space_def, _alpha_def,\n",
    "    _full_domain, _neg_domain, _pos_domain, \n",
    "    _pos_domain_in_full_domain, _neg_domain_in_full_domain,\n",
    "    ModAdd, _sample_space_bijection, _Omega_is_sample_space, _outcome_prob_vs_best, _fail_def)"
   ]
  },
  {
   "cell_type": "code",
   "execution_count": null,
   "metadata": {},
   "outputs": [],
   "source": [
    "%proving _fail_sum_prob_conds_equiv_lemma"
   ]
  },
  {
   "cell_type": "code",
   "execution_count": null,
   "metadata": {},
   "outputs": [],
   "source": [
    "defaults.assumptions = _fail_sum_prob_conds_equiv_lemma.all_conditions()"
   ]
  },
  {
   "cell_type": "markdown",
   "metadata": {},
   "source": [
    "We want to derive the logical equivalence (if and only if) between the following conditions:"
   ]
  },
  {
   "cell_type": "code",
   "execution_count": null,
   "metadata": {},
   "outputs": [],
   "source": [
    "lhs_condition = _fail_sum_prob_conds_equiv_lemma.instance_expr.instance_expr.lhs"
   ]
  },
  {
   "cell_type": "code",
   "execution_count": null,
   "metadata": {},
   "outputs": [],
   "source": [
    "rhs_condition = _fail_sum_prob_conds_equiv_lemma.instance_expr.instance_expr.rhs"
   ]
  },
  {
   "cell_type": "code",
   "execution_count": null,
   "metadata": {},
   "outputs": [],
   "source": [
    "# interestingly, this allows the SubsetEq(_neg_domain, _full_domain).prove()\n",
    "# further down to go through, which itself is then needed for further steps after that\n",
    "from proveit.logic import Disjoint\n",
    "neg_and_pos_domain_are_disjoint = Disjoint(_neg_domain, _pos_domain).prove()"
   ]
  },
  {
   "cell_type": "code",
   "execution_count": null,
   "metadata": {},
   "outputs": [],
   "source": [
    "_pos_domain_in_full_domain.instantiate().instantiate(assumptions=[InSet(l, _pos_domain)])"
   ]
  },
  {
   "cell_type": "code",
   "execution_count": null,
   "metadata": {},
   "outputs": [],
   "source": [
    "_neg_domain_in_full_domain.instantiate().instantiate(assumptions=[InSet(l, _neg_domain)])"
   ]
  },
  {
   "cell_type": "code",
   "execution_count": null,
   "metadata": {},
   "outputs": [],
   "source": [
    "defaults.assumptions"
   ]
  },
  {
   "cell_type": "code",
   "execution_count": null,
   "metadata": {},
   "outputs": [],
   "source": [
    "SubsetEq(_pos_domain, _full_domain).prove()"
   ]
  },
  {
   "cell_type": "code",
   "execution_count": null,
   "metadata": {},
   "outputs": [],
   "source": [
    "SubsetEq(_neg_domain, _full_domain).prove()"
   ]
  },
  {
   "cell_type": "code",
   "execution_count": null,
   "metadata": {},
   "outputs": [],
   "source": [
    "from proveit.logic import Union\n",
    "SubsetEq(Union(_neg_domain, _pos_domain), _full_domain).prove()"
   ]
  },
  {
   "cell_type": "code",
   "execution_count": null,
   "metadata": {},
   "outputs": [],
   "source": []
  },
  {
   "cell_type": "markdown",
   "metadata": {},
   "source": [
    "(1) $\\text{lhs} \\Rightarrow \\text{rhs}$. This direction is relatively easy (but it requires several of the pieces above to have already been established)."
   ]
  },
  {
   "cell_type": "code",
   "execution_count": null,
   "metadata": {},
   "outputs": [],
   "source": [
    "rhs_condition.prove(assumptions=defaults.assumptions + (lhs_condition,))"
   ]
  },
  {
   "cell_type": "markdown",
   "metadata": {},
   "source": [
    "(2) $\\text{lhs} \\Leftarrow \\text{rhs}$.\n",
    "\n",
    "Going from rhs to lhs requires us to consider the non-negative/negative cases separately."
   ]
  },
  {
   "cell_type": "markdown",
   "metadata": {},
   "source": [
    "2(a): $\\text{lhs} \\Leftarrow \\text{rhs}$. The NON-NEGATIVE case."
   ]
  },
  {
   "cell_type": "code",
   "execution_count": null,
   "metadata": {},
   "outputs": [],
   "source": [
    "defaults.assumptions"
   ]
  },
  {
   "cell_type": "code",
   "execution_count": null,
   "metadata": {},
   "outputs": [],
   "source": [
    "# update our default assumptions\n",
    "defaults.assumptions = _fail_sum_prob_conds_equiv_lemma.all_conditions() + [rhs_condition, greater_eq(l, zero)]"
   ]
  },
  {
   "cell_type": "code",
   "execution_count": null,
   "metadata": {},
   "outputs": [],
   "source": [
    "_modabs_in_full_domain_simp.instantiate().sub_right_side_into(rhs_condition.operands[1])"
   ]
  },
  {
   "cell_type": "code",
   "execution_count": null,
   "metadata": {},
   "outputs": [],
   "source": [
    "from proveit.numbers.number_sets.integers import difference_is_nat_pos\n",
    "difference_is_nat_pos"
   ]
  },
  {
   "cell_type": "code",
   "execution_count": null,
   "metadata": {},
   "outputs": [],
   "source": [
    "lme_in_nat_pos = difference_is_nat_pos.instantiate({a:l, b:e})"
   ]
  },
  {
   "cell_type": "code",
   "execution_count": null,
   "metadata": {},
   "outputs": [],
   "source": [
    "lme_geq_1 = lme_in_nat_pos.derive_element_lower_bound()"
   ]
  },
  {
   "cell_type": "code",
   "execution_count": null,
   "metadata": {},
   "outputs": [],
   "source": [
    "# we might be able to omit this one, but it also might still be useful to SEE it\n",
    "lme_geq_1.left_add_both_sides(e)"
   ]
  },
  {
   "cell_type": "code",
   "execution_count": null,
   "metadata": {},
   "outputs": [],
   "source": [
    "lhs_condition.prove()"
   ]
  },
  {
   "cell_type": "markdown",
   "metadata": {},
   "source": [
    "2(b): $\\text{lhs} \\Leftarrow \\text{rhs}$. The NEGATIVE case."
   ]
  },
  {
   "cell_type": "code",
   "execution_count": null,
   "metadata": {},
   "outputs": [],
   "source": [
    "# update our default assumptions\n",
    "defaults.assumptions = _fail_sum_prob_conds_equiv_lemma.all_conditions() + [rhs_condition, Less(l, zero)]"
   ]
  },
  {
   "cell_type": "code",
   "execution_count": null,
   "metadata": {},
   "outputs": [],
   "source": [
    "_modabs_in_full_domain_simp.instantiate().sub_right_side_into(rhs_condition.operands[1])"
   ]
  },
  {
   "cell_type": "code",
   "execution_count": null,
   "metadata": {},
   "outputs": [],
   "source": [
    "neg_eml_in_nat_pos = difference_is_nat_pos.instantiate({a:Neg(l), b:e})"
   ]
  },
  {
   "cell_type": "code",
   "execution_count": null,
   "metadata": {},
   "outputs": [],
   "source": [
    "neg_eml_geq_1 = neg_eml_in_nat_pos.derive_element_lower_bound()"
   ]
  },
  {
   "cell_type": "code",
   "execution_count": null,
   "metadata": {},
   "outputs": [],
   "source": [
    "# might be able to omit this now, but it can be useful to SEE it anyway\n",
    "eml_leq_1 = neg_eml_geq_1.derive_negated().reversed()"
   ]
  },
  {
   "cell_type": "code",
   "execution_count": null,
   "metadata": {},
   "outputs": [],
   "source": [
    "# might be able to omit this now, but it can be useful to SEE it anyway\n",
    "eml_leq_1.left_add_both_sides(Neg(e))"
   ]
  },
  {
   "cell_type": "code",
   "execution_count": null,
   "metadata": {},
   "outputs": [],
   "source": [
    "lhs_condition.prove()"
   ]
  },
  {
   "cell_type": "markdown",
   "metadata": {},
   "source": [
    "Since either $l \\geq 0$ or $l < 0$ but we can derive `lhs_condition` either way, then `lhs_condition` must be true (under these assumptions)."
   ]
  },
  {
   "cell_type": "code",
   "execution_count": null,
   "metadata": {},
   "outputs": [],
   "source": [
    "# update our default assumptions (removing the specifics about ell being negative or non-negative)\n",
    "defaults.assumptions = _fail_sum_prob_conds_equiv_lemma.all_conditions() + [rhs_condition]"
   ]
  },
  {
   "cell_type": "code",
   "execution_count": null,
   "metadata": {},
   "outputs": [],
   "source": [
    "less_or_greater_eq"
   ]
  },
  {
   "cell_type": "code",
   "execution_count": null,
   "metadata": {},
   "outputs": [],
   "source": [
    "less_or_greater_eq.instantiate({x:l, y:zero})"
   ]
  },
  {
   "cell_type": "code",
   "execution_count": null,
   "metadata": {},
   "outputs": [],
   "source": [
    "Or(Less(l, zero), greater_eq(l, zero)).derive_via_dilemma(lhs_condition)"
   ]
  },
  {
   "cell_type": "markdown",
   "metadata": {},
   "source": [
    "Now we can equate conditions via mutual implication and then use this lemma elsewhere to perform a substitution."
   ]
  },
  {
   "cell_type": "code",
   "execution_count": null,
   "metadata": {},
   "outputs": [],
   "source": [
    "# update the default assumptions --- now back to more general conditions\n",
    "defaults.assumptions = _fail_sum_prob_conds_equiv_lemma.all_conditions()"
   ]
  },
  {
   "cell_type": "code",
   "execution_count": null,
   "metadata": {},
   "outputs": [],
   "source": [
    "conditions_equiv = Iff(lhs_condition, rhs_condition).prove()"
   ]
  },
  {
   "cell_type": "code",
   "execution_count": null,
   "metadata": {},
   "outputs": [],
   "source": [
    "%qed"
   ]
  },
  {
   "cell_type": "code",
   "execution_count": null,
   "metadata": {},
   "outputs": [],
   "source": []
  }
 ],
 "metadata": {
  "kernelspec": {
   "display_name": "Python 3",
   "language": "python",
   "name": "python3"
  }
 },
 "nbformat": 4,
 "nbformat_minor": 0
}
