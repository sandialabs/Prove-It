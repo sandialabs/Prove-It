{
 "cells": [
  {
   "cell_type": "markdown",
   "metadata": {},
   "source": [
    "Proof of <a class=\"ProveItLink\" href=\"../../../../../../_theory_nbs_/theory.ipynb\">proveit</a>.<a class=\"ProveItLink\" href=\"../../../../../_theory_nbs_/theory.ipynb\">physics</a>.<a class=\"ProveItLink\" href=\"../../../../_theory_nbs_/theory.ipynb\">quantum</a>.<a class=\"ProveItLink\" href=\"../../theory.ipynb\">QPE</a>.<a class=\"ProveItLink\" href=\"../../theorems.ipynb#_alpha_m_mod_evaluation\">_alpha_m_mod_evaluation</a> theorem\n",
    "========"
   ]
  },
  {
   "cell_type": "code",
   "execution_count": null,
   "metadata": {},
   "outputs": [],
   "source": [
    "import proveit\n",
    "theory = proveit.Theory() # the theorem's theory\n",
    "from proveit import a, b, c, k, m, r, x, y, defaults\n",
    "from proveit.logic import InSet\n",
    "from proveit.numbers import e, i, pi, Complex, Integer, Mod\n",
    "from proveit.numbers.exponentiation import complex_power_of_complex_power, exp_eq\n",
    "from proveit.numbers.modular import mod_natpos_in_interval\n",
    "from proveit.numbers.number_sets.complex_numbers import exp_neg2pi_i_x\n",
    "from proveit.physics.quantum.QPE import (\n",
    "        _alpha_m_evaluation, _m_domain, _two_pow_t, _two_pow_t_is_nat_pos)"
   ]
  },
  {
   "cell_type": "code",
   "execution_count": null,
   "metadata": {},
   "outputs": [],
   "source": [
    "%proving _alpha_m_mod_evaluation"
   ]
  },
  {
   "cell_type": "code",
   "execution_count": null,
   "metadata": {},
   "outputs": [],
   "source": [
    "defaults.assumptions = _alpha_m_mod_evaluation.all_conditions()"
   ]
  },
  {
   "cell_type": "code",
   "execution_count": null,
   "metadata": {},
   "outputs": [],
   "source": [
    "_alpha_m_evaluation"
   ]
  },
  {
   "cell_type": "code",
   "execution_count": null,
   "metadata": {},
   "outputs": [],
   "source": [
    "mod_natpos_in_interval"
   ]
  },
  {
   "cell_type": "code",
   "execution_count": null,
   "metadata": {},
   "outputs": [],
   "source": [
    "_two_pow_t_is_nat_pos"
   ]
  },
  {
   "cell_type": "code",
   "execution_count": null,
   "metadata": {},
   "outputs": [],
   "source": [
    "mod_natpos_in_interval.instantiate({a: m, b: _two_pow_t})"
   ]
  },
  {
   "cell_type": "code",
   "execution_count": null,
   "metadata": {},
   "outputs": [],
   "source": [
    "_alpha_m_evaluation_inst = _alpha_m_evaluation.instantiate({m : Mod(m, _two_pow_t)})"
   ]
  },
  {
   "cell_type": "code",
   "execution_count": null,
   "metadata": {},
   "outputs": [],
   "source": [
    "exp_neg2pi_i_x"
   ]
  },
  {
   "cell_type": "code",
   "execution_count": null,
   "metadata": {},
   "outputs": [],
   "source": [
    "# doesn't look like there is a way to insert the desired extra k factor\n",
    "# during the instantiation (can the exp_neg2pi_i_x be better generalized?)\n",
    "exp_neg2pi_i_x_inst = exp_neg2pi_i_x.instantiate({r: _two_pow_t, x: m})"
   ]
  },
  {
   "cell_type": "code",
   "execution_count": null,
   "metadata": {},
   "outputs": [],
   "source": [
    "_m_domain"
   ]
  },
  {
   "cell_type": "code",
   "execution_count": null,
   "metadata": {},
   "outputs": [],
   "source": [
    "exp_eq"
   ]
  },
  {
   "cell_type": "code",
   "execution_count": null,
   "metadata": {},
   "outputs": [],
   "source": [
    "exp_eq_inst = exp_eq.instantiate({a: k, x: exp_neg2pi_i_x_inst.lhs, y: exp_neg2pi_i_x_inst.rhs},\n",
    "                  assumptions = [InSet(m, Integer), InSet(k, _m_domain)])"
   ]
  },
  {
   "cell_type": "code",
   "execution_count": null,
   "metadata": {},
   "outputs": [],
   "source": [
    "# double_exponent_reduction will not work, because the exponent itself is not Real\n",
    "# exp_eq_inst.lhs.double_exponent_reduction(assumptions = [InSet(l, Integer), InSet(k, _l_domain)])"
   ]
  },
  {
   "cell_type": "code",
   "execution_count": null,
   "metadata": {},
   "outputs": [],
   "source": [
    "# using this instead of double_exponent_reduction()\n",
    "complex_power_of_complex_power"
   ]
  },
  {
   "cell_type": "code",
   "execution_count": null,
   "metadata": {},
   "outputs": [],
   "source": [
    "lhs_single_exponent = complex_power_of_complex_power.instantiate({a: e, b: exp_eq_inst.lhs.base.exponent, c: k},\n",
    "        assumptions = [InSet(m, Integer), InSet(k, _m_domain)])"
   ]
  },
  {
   "cell_type": "code",
   "execution_count": null,
   "metadata": {},
   "outputs": [],
   "source": [
    "# what we have\n",
    "lhs_single_exponent.rhs.exponent.operand"
   ]
  },
  {
   "cell_type": "code",
   "execution_count": null,
   "metadata": {},
   "outputs": [],
   "source": [
    "# what we want\n",
    "_alpha_m_evaluation_inst.rhs.operands[1].summand.operands[0].exponent.operand"
   ]
  },
  {
   "cell_type": "code",
   "execution_count": null,
   "metadata": {},
   "outputs": [],
   "source": [
    "exp_factored_k_01 = (\n",
    "    _alpha_m_evaluation_inst.rhs.operands[1].summand.operands[0].exponent.inner_expr().\n",
    "    operand.factorization(k, assumptions = [InSet(m, Integer), InSet(k, _m_domain)]))"
   ]
  },
  {
   "cell_type": "code",
   "execution_count": null,
   "metadata": {},
   "outputs": [],
   "source": [
    "exp_factored_k_02 = exp_factored_k_01.inner_expr().rhs.operand.commute(0, 1)"
   ]
  },
  {
   "cell_type": "code",
   "execution_count": null,
   "metadata": {},
   "outputs": [],
   "source": [
    "exp_factored_k_03 = exp_factored_k_02.sub_left_side_into(lhs_single_exponent)"
   ]
  },
  {
   "cell_type": "code",
   "execution_count": null,
   "metadata": {},
   "outputs": [],
   "source": [
    "exp_factored_k_04 = exp_factored_k_03.sub_right_side_into(exp_eq_inst)"
   ]
  },
  {
   "cell_type": "code",
   "execution_count": null,
   "metadata": {},
   "outputs": [],
   "source": [
    "complex_power_of_complex_power"
   ]
  },
  {
   "cell_type": "code",
   "execution_count": null,
   "metadata": {},
   "outputs": [],
   "source": [
    "rhs_single_exponent = complex_power_of_complex_power.instantiate(\n",
    "        {a: e, b: exp_factored_k_04.rhs.base.exponent, c: k},\n",
    "        assumptions = [InSet(m, Integer), InSet(k, _m_domain)])"
   ]
  },
  {
   "cell_type": "code",
   "execution_count": null,
   "metadata": {},
   "outputs": [],
   "source": [
    "exp_factored_k_05 = (\n",
    "    _alpha_m_mod_evaluation.instance_expr.rhs.operands[1].summand.operands[0].exponent.inner_expr().\n",
    "    operand.factorization(k, assumptions = [InSet(m, Integer), InSet(k, _m_domain)]))"
   ]
  },
  {
   "cell_type": "code",
   "execution_count": null,
   "metadata": {},
   "outputs": [],
   "source": [
    "exp_factored_k_06 = exp_factored_k_05.inner_expr().rhs.operand.commute(0,1)"
   ]
  },
  {
   "cell_type": "code",
   "execution_count": null,
   "metadata": {},
   "outputs": [],
   "source": [
    "exp_factored_k_07 = exp_factored_k_06.sub_left_side_into(rhs_single_exponent)"
   ]
  },
  {
   "cell_type": "code",
   "execution_count": null,
   "metadata": {},
   "outputs": [],
   "source": [
    "exp_factored_k_08 = exp_factored_k_07.sub_right_side_into(exp_factored_k_04)"
   ]
  },
  {
   "cell_type": "code",
   "execution_count": null,
   "metadata": {},
   "outputs": [],
   "source": [
    "# recall:\n",
    "_alpha_m_evaluation_inst"
   ]
  },
  {
   "cell_type": "code",
   "execution_count": null,
   "metadata": {},
   "outputs": [],
   "source": [
    "_alpha_m_evaluation_inst.inner_expr().rhs.operands[1].summand.factors[0].substitute(exp_factored_k_08)"
   ]
  },
  {
   "cell_type": "code",
   "execution_count": null,
   "metadata": {},
   "outputs": [],
   "source": [
    "%qed"
   ]
  },
  {
   "cell_type": "code",
   "execution_count": null,
   "metadata": {},
   "outputs": [],
   "source": []
  }
 ],
 "metadata": {
  "kernelspec": {
   "display_name": "Python 3",
   "language": "python",
   "name": "python3"
  }
 },
 "nbformat": 4,
 "nbformat_minor": 0
}
