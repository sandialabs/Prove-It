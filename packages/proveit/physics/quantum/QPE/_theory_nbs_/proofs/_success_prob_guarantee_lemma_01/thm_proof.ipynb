{
 "cells": [
  {
   "cell_type": "markdown",
   "metadata": {},
   "source": [
    "Proof of <a class=\"ProveItLink\" href=\"../../../../../../_theory_nbs_/theory.ipynb\">proveit</a>.<a class=\"ProveItLink\" href=\"../../../../../_theory_nbs_/theory.ipynb\">physics</a>.<a class=\"ProveItLink\" href=\"../../../../_theory_nbs_/theory.ipynb\">quantum</a>.<a class=\"ProveItLink\" href=\"../../theory.ipynb\">QPE</a>.<a class=\"ProveItLink\" href=\"../../theorems.ipynb#_success_prob_guarantee_lemma_01\">_success_prob_guarantee_lemma_01</a> theorem\n",
    "========"
   ]
  },
  {
   "cell_type": "code",
   "execution_count": null,
   "metadata": {},
   "outputs": [],
   "source": [
    "import proveit\n",
    "theory = proveit.Theory() # the theorem's theory\n",
    "from proveit.logic import Equals\n",
    "from proveit.numbers import two, Add, Exp, frac, Mult, Neg\n",
    "from proveit.physics.quantum.QPE import (\n",
    "    _eps, _eps_in_interval, _n, _n_in_natural_pos, _t, _t_in_natural_pos, _t_req, )"
   ]
  },
  {
   "cell_type": "code",
   "execution_count": null,
   "metadata": {},
   "outputs": [],
   "source": [
    "%proving _success_prob_guarantee_lemma_01"
   ]
  },
  {
   "cell_type": "code",
   "execution_count": null,
   "metadata": {},
   "outputs": [],
   "source": [
    "_eps_in_interval"
   ]
  },
  {
   "cell_type": "code",
   "execution_count": null,
   "metadata": {},
   "outputs": [],
   "source": [
    "_t_req"
   ]
  },
  {
   "cell_type": "markdown",
   "metadata": {},
   "source": [
    "We first develop a lower bound on the difference $(t - n)$."
   ]
  },
  {
   "cell_type": "code",
   "execution_count": null,
   "metadata": {},
   "outputs": [],
   "source": [
    "from proveit.numbers import one, greater_eq, subtract\n",
    "_t_minus_n_lb_01 = greater_eq(subtract(_t, _n), _t_req.rhs.operands[1]).prove()"
   ]
  },
  {
   "cell_type": "code",
   "execution_count": null,
   "metadata": {},
   "outputs": [],
   "source": [
    "from proveit.numbers.rounding import ceil_x_ge_x\n",
    "ceil_x_ge_x"
   ]
  },
  {
   "cell_type": "code",
   "execution_count": null,
   "metadata": {},
   "outputs": [],
   "source": [
    "from proveit import x\n",
    "_x_sub = _t_minus_n_lb_01.rhs.operand\n",
    "_t_minus_n_lb_02 = ceil_x_ge_x.instantiate({x: _x_sub})"
   ]
  },
  {
   "cell_type": "code",
   "execution_count": null,
   "metadata": {},
   "outputs": [],
   "source": [
    "_t_minus_n_lb_03 = _t_minus_n_lb_01.apply_transitivity(_t_minus_n_lb_02)"
   ]
  },
  {
   "cell_type": "markdown",
   "metadata": {},
   "source": [
    "We then use our lower bound on $(t - n)$ to put an upper bound on each fractional component of our original expression (we do this in steps because we have a bug in Prove-It that is keeping up from applying the $(t - n)$ lower bound to the entire original expression at one time)."
   ]
  },
  {
   "cell_type": "code",
   "execution_count": null,
   "metadata": {},
   "outputs": [],
   "source": [
    "second_term_ub = (\n",
    "    _success_prob_guarantee_lemma_01.lhs.operands[1].\n",
    "    operand.deduce_bound(_t_minus_n_lb_03))"
   ]
  },
  {
   "cell_type": "code",
   "execution_count": null,
   "metadata": {},
   "outputs": [],
   "source": [
    "third_term_ub = (\n",
    "    _success_prob_guarantee_lemma_01.lhs.operands[2].\n",
    "    operand.deduce_bound(_t_minus_n_lb_03))"
   ]
  },
  {
   "cell_type": "markdown",
   "metadata": {},
   "source": [
    "We can use those individual bounds now, one at a time, to obtain an initial lower bound on our original expression."
   ]
  },
  {
   "cell_type": "code",
   "execution_count": null,
   "metadata": {},
   "outputs": [],
   "source": [
    "bound_01 = _success_prob_guarantee_lemma_01.lhs.deduce_bound(second_term_ub)"
   ]
  },
  {
   "cell_type": "code",
   "execution_count": null,
   "metadata": {},
   "outputs": [],
   "source": [
    "bound_02 = bound_01.rhs.deduce_bound(third_term_ub)"
   ]
  },
  {
   "cell_type": "code",
   "execution_count": null,
   "metadata": {},
   "outputs": [],
   "source": [
    "bound_03 = bound_01.apply_transitivity(bound_02)"
   ]
  },
  {
   "cell_type": "markdown",
   "metadata": {},
   "source": [
    "Now we perform some algebraic manipulation of that lower bound, trying to rewrite the lower bound in the form $1 - \\epsilon(\\frac{f(\\epsilon)}{g(\\epsilon)})$. The steps are labeled as sub-scripts of ``bound_03`` because we're not deriving a new bound, just processing the bound we already have."
   ]
  },
  {
   "cell_type": "code",
   "execution_count": null,
   "metadata": {},
   "outputs": [],
   "source": [
    "bound_03_01 = bound_03.inner_expr().rhs.operands[1].operand.denominator.distribute(1)"
   ]
  },
  {
   "cell_type": "code",
   "execution_count": null,
   "metadata": {},
   "outputs": [],
   "source": [
    "bound_03_02 = (\n",
    "    bound_03_01.inner_expr().rhs.operands[1].operand.denominator.\n",
    "    operands[1].cancel(two))"
   ]
  },
  {
   "cell_type": "code",
   "execution_count": null,
   "metadata": {},
   "outputs": [],
   "source": [
    "bound_03_03 = (\n",
    "    bound_03_02.inner_expr().rhs.operands[2].operand.denominator.\n",
    "    operands[0].substitute(Exp(two, two)))"
   ]
  },
  {
   "cell_type": "code",
   "execution_count": null,
   "metadata": {},
   "outputs": [],
   "source": [
    "bound_03_04 = (\n",
    "    bound_03_03.inner_expr().rhs.operands[2].operand.denominator.\n",
    "    common_power_extract(exp_factor=two))"
   ]
  },
  {
   "cell_type": "code",
   "execution_count": null,
   "metadata": {},
   "outputs": [],
   "source": [
    "bound_03_05 = (\n",
    "    bound_03_04.inner_expr().rhs.operands[2].operand.denominator.\n",
    "    base.distribute(1))"
   ]
  },
  {
   "cell_type": "code",
   "execution_count": null,
   "metadata": {},
   "outputs": [],
   "source": [
    "bound_03_06 = (\n",
    "    bound_03_05.inner_expr().rhs.operands[2].operand.denominator.\n",
    "    base.operands[1].cancel(two))"
   ]
  },
  {
   "cell_type": "markdown",
   "metadata": {},
   "source": [
    "A quick aside, to establish equalities for multiplying top and bottom of the fractional portions by $\\epsilon$ (or by $\\epsilon^{2}$)."
   ]
  },
  {
   "cell_type": "code",
   "execution_count": null,
   "metadata": {},
   "outputs": [],
   "source": [
    "mult_top_bottom_by_eps = (\n",
    "    Equals(frac(_eps, Mult(_eps, Add(two, frac(one, _eps)))),\n",
    "           bound_03_06.rhs.operands[1].operand).prove())"
   ]
  },
  {
   "cell_type": "code",
   "execution_count": null,
   "metadata": {},
   "outputs": [],
   "source": [
    "mult_top_bottom_by_eps_sqrd = (\n",
    "    Equals(frac(Exp(_eps, two), Mult(Exp(_eps, two), Exp(Add(two, frac(one, _eps)), two))),\n",
    "           bound_03_06.rhs.operands[2].operand).prove())"
   ]
  },
  {
   "cell_type": "markdown",
   "metadata": {},
   "source": [
    "Now, back to processing the lower bound:"
   ]
  },
  {
   "cell_type": "code",
   "execution_count": null,
   "metadata": {},
   "outputs": [],
   "source": [
    "bound_03_07 = (\n",
    "    bound_03_06.inner_expr().rhs.operands[1].operand.\n",
    "    substitute(mult_top_bottom_by_eps.lhs))"
   ]
  },
  {
   "cell_type": "code",
   "execution_count": null,
   "metadata": {},
   "outputs": [],
   "source": [
    "bound_03_08 = (\n",
    "    bound_03_07.inner_expr().rhs.operands[2].operand.\n",
    "    substitute(mult_top_bottom_by_eps_sqrd.lhs))"
   ]
  },
  {
   "cell_type": "code",
   "execution_count": null,
   "metadata": {},
   "outputs": [],
   "source": [
    "bound_03_09 = (\n",
    "    bound_03_08.inner_expr().rhs.operands[1].operand.\n",
    "    denominator.distribute(1))"
   ]
  },
  {
   "cell_type": "code",
   "execution_count": null,
   "metadata": {},
   "outputs": [],
   "source": [
    "bound_03_10 = (\n",
    "    bound_03_09.inner_expr().rhs.operands[2].operand.\n",
    "    denominator.common_power_extract(exp_factor=two))"
   ]
  },
  {
   "cell_type": "code",
   "execution_count": null,
   "metadata": {},
   "outputs": [],
   "source": [
    "bound_03_11 = (\n",
    "    bound_03_10.inner_expr().rhs.operands[2].operand.\n",
    "    denominator.base.distribute(1))"
   ]
  },
  {
   "cell_type": "code",
   "execution_count": null,
   "metadata": {},
   "outputs": [],
   "source": [
    "# bound_03_12 = bound_03_11.inner_expr().rhs.substitute(neg_distr_equality)"
   ]
  },
  {
   "cell_type": "code",
   "execution_count": null,
   "metadata": {},
   "outputs": [],
   "source": [
    "bound_03_12 = bound_03_11.inner_expr().rhs.operands[1].operand.substitute(\n",
    "    frac(Mult(_eps, Add(Mult(two, _eps), one)), Mult(Add(Mult(two, _eps), one), Add(Mult(two, _eps), one))))"
   ]
  },
  {
   "cell_type": "code",
   "execution_count": null,
   "metadata": {},
   "outputs": [],
   "source": [
    "# not sure why this didn't happen automatically\n",
    "bound_03_13 = bound_03_12.inner_expr().rhs.operands[1].operand.denominator.simplify()"
   ]
  },
  {
   "cell_type": "code",
   "execution_count": null,
   "metadata": {},
   "outputs": [],
   "source": [
    "bound_03_14 = (bound_03_13.inner_expr().rhs.operands[1].operand.\n",
    "               numerator.distribute(1))"
   ]
  },
  {
   "cell_type": "markdown",
   "metadata": {},
   "source": [
    "A quick aside to generate an equality allowing us to group the fractional components and factor out the negation in front (this seemed difficult to achieve using inner_expr() techniques)."
   ]
  },
  {
   "cell_type": "code",
   "execution_count": null,
   "metadata": {},
   "outputs": [],
   "source": [
    "neg_distr_equality = Equals(\n",
    "    Add(one, bound_03_14.rhs.operands[1], bound_03_14.rhs.operands[2]),\n",
    "    Add(one, Neg(Add(bound_03_14.rhs.operands[1].operand, bound_03_14.rhs.operands[2].operand)))\n",
    "    ).prove()"
   ]
  },
  {
   "cell_type": "code",
   "execution_count": null,
   "metadata": {},
   "outputs": [],
   "source": [
    "bound_03_15 = (bound_03_14.inner_expr().rhs.substitute(neg_distr_equality))"
   ]
  },
  {
   "cell_type": "code",
   "execution_count": null,
   "metadata": {},
   "outputs": [],
   "source": [
    "_combined_fracs = frac(Add(bound_03_15.rhs.operands[1].operand.operands[0].numerator,\n",
    "        bound_03_15.rhs.operands[1].operand.operands[1].numerator),\n",
    "        bound_03_15.rhs.operands[1].operand.operands[0].denominator).distribution().reversed()"
   ]
  },
  {
   "cell_type": "code",
   "execution_count": null,
   "metadata": {},
   "outputs": [],
   "source": [
    "bound_03_16 = bound_03_15.inner_expr().rhs.operands[1].operand.substitute(_combined_fracs.rhs)"
   ]
  },
  {
   "cell_type": "code",
   "execution_count": null,
   "metadata": {},
   "outputs": [],
   "source": [
    "bound_03_17 = bound_03_16.inner_expr().rhs.operands[1].operand.numerator.simplify()"
   ]
  },
  {
   "cell_type": "code",
   "execution_count": null,
   "metadata": {},
   "outputs": [],
   "source": [
    "from proveit.numbers import three\n",
    "_eps_3_eps_equality = Equals(Mult(_eps, three, _eps),\n",
    "      Mult(three, Exp(_eps, two))).prove()"
   ]
  },
  {
   "cell_type": "code",
   "execution_count": null,
   "metadata": {},
   "outputs": [],
   "source": [
    "bound_03_18 = bound_03_17.inner_expr().rhs.operands[1].operand.numerator.operands[0].substitute(_eps_3_eps_equality.lhs)"
   ]
  },
  {
   "cell_type": "code",
   "execution_count": null,
   "metadata": {},
   "outputs": [],
   "source": [
    "# this is a little weird --- having trouble factoring a eps out of the eps^2 term\n",
    "# so trying a work-around\n",
    "bound_03_19 = bound_03_18.inner_expr().rhs.operands[1].operand.factor(_eps)"
   ]
  },
  {
   "cell_type": "markdown",
   "metadata": {},
   "source": [
    "Now we take a different approach, working bottom-up (so to speak) to show that the fraction in the rhs of the bound above is in fact less than 1."
   ]
  },
  {
   "cell_type": "code",
   "execution_count": null,
   "metadata": {},
   "outputs": [],
   "source": [
    "from proveit.numbers import zero, four, greater\n",
    "bound_04 = greater(Add(Mult(four, _eps), one), zero).prove()"
   ]
  },
  {
   "cell_type": "code",
   "execution_count": null,
   "metadata": {},
   "outputs": [],
   "source": [
    "bound_05 = greater(Mult(_eps, Add(Mult(four, _eps), one)), zero).prove()"
   ]
  },
  {
   "cell_type": "code",
   "execution_count": null,
   "metadata": {},
   "outputs": [],
   "source": [
    "bound_05_01 = bound_05.inner_expr().lhs.distribute(1)"
   ]
  },
  {
   "cell_type": "code",
   "execution_count": null,
   "metadata": {},
   "outputs": [],
   "source": [
    "bound_06 = greater(Add(Mult(four, Exp(_eps, two)), Mult(four, _eps), one),\n",
    "        Add(Mult(three, _eps), one)).prove()"
   ]
  },
  {
   "cell_type": "code",
   "execution_count": null,
   "metadata": {},
   "outputs": [],
   "source": [
    "equality_01 = (\n",
    "    Mult(Add(Mult(two, _eps), one), Add(Mult(two, _eps), one)).\n",
    "    simplification().reversed())"
   ]
  },
  {
   "cell_type": "code",
   "execution_count": null,
   "metadata": {},
   "outputs": [],
   "source": [
    "equality_02 = equality_01.inner_expr().rhs.distribute(1)"
   ]
  },
  {
   "cell_type": "code",
   "execution_count": null,
   "metadata": {},
   "outputs": [],
   "source": [
    "equality_03 = equality_02.inner_expr().rhs.operands[0].distribute(1)"
   ]
  },
  {
   "cell_type": "code",
   "execution_count": null,
   "metadata": {},
   "outputs": [],
   "source": [
    "equality_04 = equality_03.inner_expr().rhs.simplify()"
   ]
  },
  {
   "cell_type": "code",
   "execution_count": null,
   "metadata": {},
   "outputs": [],
   "source": [
    "bound_07 = bound_06.inner_expr().lhs.substitute(equality_04.lhs)"
   ]
  },
  {
   "cell_type": "code",
   "execution_count": null,
   "metadata": {},
   "outputs": [],
   "source": [
    "bound_08 = bound_07.divide_both_sides(bound_07.lhs)"
   ]
  },
  {
   "cell_type": "markdown",
   "metadata": {},
   "source": [
    "Now we can feed that bound above into the deduce_bound() method to find a bound on the earlier-derived bound $1 - \\epsilon\\cdot(\\frac{f(\\epsilon)}{g(\\epsilon)})$"
   ]
  },
  {
   "cell_type": "code",
   "execution_count": null,
   "metadata": {},
   "outputs": [],
   "source": [
    "bound_09 = bound_03_19.rhs.deduce_bound(bound_08.reversed())"
   ]
  },
  {
   "cell_type": "code",
   "execution_count": null,
   "metadata": {},
   "outputs": [],
   "source": [
    "bound_03_19.apply_transitivity(bound_09)"
   ]
  },
  {
   "cell_type": "code",
   "execution_count": null,
   "metadata": {},
   "outputs": [],
   "source": [
    "%qed"
   ]
  },
  {
   "cell_type": "code",
   "execution_count": null,
   "metadata": {},
   "outputs": [],
   "source": []
  }
 ],
 "metadata": {
  "kernelspec": {
   "display_name": "Python 3",
   "language": "python",
   "name": "python3"
  }
 },
 "nbformat": 4,
 "nbformat_minor": 0
}
