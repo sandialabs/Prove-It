{
 "cells": [
  {
   "cell_type": "markdown",
   "metadata": {},
   "source": [
    "Proof of <a class=\"ProveItLink\" href=\"../../../../../../_theory_nbs_/theory.ipynb\">proveit</a>.<a class=\"ProveItLink\" href=\"../../../../../_theory_nbs_/theory.ipynb\">physics</a>.<a class=\"ProveItLink\" href=\"../../../../_theory_nbs_/theory.ipynb\">quantum</a>.<a class=\"ProveItLink\" href=\"../../theory.ipynb\">QPE</a>.<a class=\"ProveItLink\" href=\"../../theorems.ipynb#pos_domain_in_full_domain_sans_zero\">pos_domain_in_full_domain_sans_zero</a> theorem\n",
    "========"
   ]
  },
  {
   "cell_type": "code",
   "execution_count": null,
   "metadata": {},
   "outputs": [],
   "source": [
    "import proveit\n",
    "theory = proveit.Theory() # the theorem's theory\n",
    "from proveit import defaults, a, eps, l\n",
    "from proveit.logic import InSet, NotEquals\n",
    "from proveit.numbers import zero, one, two\n",
    "from proveit.numbers import Add, greater, Integer, Less, LessEq, Neg\n",
    "from proveit.numbers.negation import negated_positive_is_negative\n",
    "from proveit.physics.quantum.QPE import (eps_domain, full_domain, full_domain_sans_zero,\n",
    "                                         pos_domain, two_pow_t_minus_one)\n",
    "from proveit.physics.quantum.QPE import two_pow_t_minus_one_is_nat_pos"
   ]
  },
  {
   "cell_type": "code",
   "execution_count": null,
   "metadata": {},
   "outputs": [],
   "source": [
    "%proving pos_domain_in_full_domain_sans_zero"
   ]
  },
  {
   "cell_type": "markdown",
   "metadata": {},
   "source": [
    "The basic approach is to show that<br>\n",
    "$\\ell\\in\\{\\epsilon+1\\ldots 2^{t-1}\\}$ means $\\ell\\in\\{-2^{t-1}+1\\ldots 2^{t-1}\\}$ and $\\ell\\ne 0$<br>\n",
    "More specifically:<br>\n",
    "(1) $\\ell\\in\\{\\epsilon+1\\ldots 2^{t-1}\\}$ means $\\ell \\le 2^{t-1}$ (and $\\ell\\in\\mathbb{Z}$) (both auto side-effect)<br>\n",
    "(2) $\\ell\\in\\{\\epsilon+1\\ldots 2^{t-1}\\}$ means $\\epsilon+1 \\le \\ell$ (auto side-effect)<br>\n",
    "(3) $\\epsilon\\in\\{1\\ldots 2^{t-1}-2\\}$ means $\\epsilon + 1 > 0$<br>\n",
    "(4) Thus $-2^{t-1 + 1} \\le \\ell \\le 2^{t-1}$ and $\\ell>0$.<br/>\n",
    "(5) Thus $-2^{t-1 + 1} \\le \\ell \\le 2^{t-1}$ and $\\ell\\ne 0$.<br/>\n",
    "(6) Thus $\\ell\\in\\{-2^{t-1 + 1}\\ldots 2^{t-1}\\}-\\{0\\}$"
   ]
  },
  {
   "cell_type": "code",
   "execution_count": null,
   "metadata": {},
   "outputs": [],
   "source": [
    "defaults.assumptions = pos_domain_in_full_domain_sans_zero.all_conditions()"
   ]
  },
  {
   "cell_type": "code",
   "execution_count": null,
   "metadata": {},
   "outputs": [],
   "source": [
    "defaults.assumptions = [*defaults.assumptions, InSet(l, pos_domain)]"
   ]
  },
  {
   "cell_type": "code",
   "execution_count": null,
   "metadata": {},
   "outputs": [],
   "source": [
    "two_pow_t_minus_one_is_nat_pos"
   ]
  },
  {
   "cell_type": "code",
   "execution_count": null,
   "metadata": {},
   "outputs": [],
   "source": [
    "# From the default assumptions, we know 1 <= eps, and thus also 0 < eps\n",
    "ineq_01 = Less(zero, eps).prove()"
   ]
  },
  {
   "cell_type": "code",
   "execution_count": null,
   "metadata": {},
   "outputs": [],
   "source": [
    "ineq_02 = ineq_01.derive_shifted(one).inner_expr().lhs.simplify()"
   ]
  },
  {
   "cell_type": "code",
   "execution_count": null,
   "metadata": {},
   "outputs": [],
   "source": [
    "# From the default assumptions, prove 0 < ell. Also then gives us ell != 0\n",
    "# The lower and upper bounds on ell are automatic side-effects\n",
    "Less(zero, l).prove()"
   ]
  },
  {
   "cell_type": "code",
   "execution_count": null,
   "metadata": {},
   "outputs": [],
   "source": [
    "negated_positive_is_negative"
   ]
  },
  {
   "cell_type": "code",
   "execution_count": null,
   "metadata": {},
   "outputs": [],
   "source": [
    "negated_positive_is_negative.instantiate({a:two_pow_t_minus_one})"
   ]
  },
  {
   "cell_type": "code",
   "execution_count": null,
   "metadata": {},
   "outputs": [],
   "source": [
    "ineq_03 = Less(Neg(two_pow_t_minus_one), eps).prove()"
   ]
  },
  {
   "cell_type": "code",
   "execution_count": null,
   "metadata": {},
   "outputs": [],
   "source": [
    "ineq_03.derive_shifted(one)"
   ]
  },
  {
   "cell_type": "code",
   "execution_count": null,
   "metadata": {},
   "outputs": [],
   "source": [
    "%qed"
   ]
  },
  {
   "cell_type": "code",
   "execution_count": null,
   "metadata": {},
   "outputs": [],
   "source": []
  }
 ],
 "metadata": {
  "kernelspec": {
   "display_name": "Python 3",
   "language": "python",
   "name": "python3"
  }
 },
 "nbformat": 4,
 "nbformat_minor": 0
}
