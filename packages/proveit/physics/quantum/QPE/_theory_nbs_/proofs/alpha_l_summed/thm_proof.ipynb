{
 "cells": [
  {
   "cell_type": "markdown",
   "metadata": {},
   "source": [
    "Proof of <a class=\"ProveItLink\" href=\"../../../../../../_theory_nbs_/theory.ipynb\">proveit</a>.<a class=\"ProveItLink\" href=\"../../../../../_theory_nbs_/theory.ipynb\">physics</a>.<a class=\"ProveItLink\" href=\"../../../../_theory_nbs_/theory.ipynb\">quantum</a>.<a class=\"ProveItLink\" href=\"../../theory.ipynb\">QPE</a>.<a class=\"ProveItLink\" href=\"../../theorems.ipynb#alpha_l_summed\">alpha_l_summed</a> theorem\n",
    "========"
   ]
  },
  {
   "cell_type": "code",
   "execution_count": null,
   "metadata": {},
   "outputs": [],
   "source": [
    "import proveit\n",
    "theory = proveit.Theory() # the theorem's theory\n",
    "from proveit import a, b, k, l, r, x, defaults, TransRelUpdater\n",
    "from proveit.logic import Equals, InSet\n",
    "from proveit.numbers import (one, two, e, i, pi, Add, Complex, deduce_in_number_set,\n",
    "                             Exp, frac, Integer, Mult)\n",
    "from proveit.numbers.number_sets.complex_numbers import exp_neg2pi_i_x\n",
    "from proveit.physics.quantum.QPE import (\n",
    "        alpha_l_eval, best_is_int, b_, two_pow_t, two_pow_t_is_nat_pos,\n",
    "        two_pow_t_less_one_is_nat_pos, mod_add_closure, mod_add_def, phase_is_real)"
   ]
  },
  {
   "cell_type": "code",
   "execution_count": null,
   "metadata": {},
   "outputs": [],
   "source": [
    "%proving alpha_l_summed"
   ]
  },
  {
   "cell_type": "code",
   "execution_count": null,
   "metadata": {},
   "outputs": [],
   "source": [
    "defaults.assumptions = alpha_l_summed.all_conditions()"
   ]
  },
  {
   "cell_type": "code",
   "execution_count": null,
   "metadata": {},
   "outputs": [],
   "source": [
    "alpha_l_eval"
   ]
  },
  {
   "cell_type": "code",
   "execution_count": null,
   "metadata": {},
   "outputs": [],
   "source": [
    "alpha_l_eq1 = alpha_l_eval.instantiate()"
   ]
  },
  {
   "cell_type": "code",
   "execution_count": null,
   "metadata": {},
   "outputs": [],
   "source": [
    "alpha_l_summation = alpha_l_eq1.rhs.operands[1]"
   ]
  },
  {
   "cell_type": "code",
   "execution_count": null,
   "metadata": {},
   "outputs": [],
   "source": [
    "k_domain = alpha_l_summation.domain"
   ]
  },
  {
   "cell_type": "code",
   "execution_count": null,
   "metadata": {},
   "outputs": [],
   "source": [
    "k_in_k_domain = InSet(k, k_domain)"
   ]
  },
  {
   "cell_type": "code",
   "execution_count": null,
   "metadata": {},
   "outputs": [],
   "source": [
    "defaults.assumptions = defaults.assumptions + (k_in_k_domain,)"
   ]
  },
  {
   "cell_type": "code",
   "execution_count": null,
   "metadata": {},
   "outputs": [],
   "source": [
    "two_pow_t_less_one_is_nat_pos"
   ]
  },
  {
   "cell_type": "code",
   "execution_count": null,
   "metadata": {},
   "outputs": [],
   "source": [
    "k_in_k_domain.derive_element_in_integer()"
   ]
  },
  {
   "cell_type": "markdown",
   "metadata": {},
   "source": [
    "### Rewriting the summand, step by step, to get $e^{\\frac{-(2 \\pi i k (b\\oplus\\ell)}{2^t}}e^{2\\pi i \\varphi k} = (e^{\\frac{-(2 \\pi i (b+\\ell)}{2^t}}e^{2\\pi i \\varphi})^k$ so we can eventually evaluate as a geometric sum"
   ]
  },
  {
   "cell_type": "code",
   "execution_count": null,
   "metadata": {},
   "outputs": [],
   "source": [
    "the_expr_01 = alpha_l_summation.instance_expr"
   ]
  },
  {
   "cell_type": "code",
   "execution_count": null,
   "metadata": {},
   "outputs": [],
   "source": [
    "eq = TransRelUpdater(the_expr_01)\n",
    "eq.relation"
   ]
  },
  {
   "cell_type": "markdown",
   "metadata": {},
   "source": [
    "Explicitly acknowledge some conditions proven or previously established\n",
    "that we need to rewrite the exponent as desired:"
   ]
  },
  {
   "cell_type": "code",
   "execution_count": null,
   "metadata": {},
   "outputs": [],
   "source": [
    "best_is_int"
   ]
  },
  {
   "cell_type": "code",
   "execution_count": null,
   "metadata": {},
   "outputs": [],
   "source": [
    "two_pow_t_is_nat_pos"
   ]
  },
  {
   "cell_type": "code",
   "execution_count": null,
   "metadata": {},
   "outputs": [],
   "source": [
    "mod_add_closure.instantiate({a: b_, b: l})"
   ]
  },
  {
   "cell_type": "code",
   "execution_count": null,
   "metadata": {},
   "outputs": [],
   "source": [
    "phase_is_real"
   ]
  },
  {
   "cell_type": "markdown",
   "metadata": {},
   "source": [
    "Now we can begin to rewrite:"
   ]
  },
  {
   "cell_type": "code",
   "execution_count": null,
   "metadata": {},
   "outputs": [],
   "source": [
    "the_expr_02 = eq.update(the_expr_01.inner_expr().operands[0].exponent.numerator.factorization(k, pull='right'))\n",
    "eq.relation"
   ]
  },
  {
   "cell_type": "code",
   "execution_count": null,
   "metadata": {},
   "outputs": [],
   "source": [
    "the_expr_03 = eq.update(the_expr_02.inner_expr().operands[0].exponent.factorization(k, pull='right'))\n",
    "eq.relation"
   ]
  },
  {
   "cell_type": "code",
   "execution_count": null,
   "metadata": {},
   "outputs": [],
   "source": [
    "raise_exp_factor_01 = the_expr_03.inner_expr().operands[0].raise_exp_factor(k)"
   ]
  },
  {
   "cell_type": "code",
   "execution_count": null,
   "metadata": {},
   "outputs": [],
   "source": [
    "the_expr_04 = eq.update(raise_exp_factor_01.substitution(the_expr_03))\n",
    "eq.relation"
   ]
  },
  {
   "cell_type": "code",
   "execution_count": null,
   "metadata": {},
   "outputs": [],
   "source": [
    "raise_exp_factor_02 = the_expr_04.inner_expr().operands[1].raise_exp_factor(k)"
   ]
  },
  {
   "cell_type": "code",
   "execution_count": null,
   "metadata": {},
   "outputs": [],
   "source": [
    "raise_exp_factor_03 = raise_exp_factor_02.inner_expr().lhs.exponent.disassociate(0)"
   ]
  },
  {
   "cell_type": "code",
   "execution_count": null,
   "metadata": {},
   "outputs": [],
   "source": [
    "the_expr_05 = eq.update(raise_exp_factor_03.substitution(the_expr_04))\n",
    "eq.relation"
   ]
  },
  {
   "cell_type": "markdown",
   "metadata": {},
   "source": [
    "A few more conditions to establish to we can pull the exponent _k_ all the way out:"
   ]
  },
  {
   "cell_type": "code",
   "execution_count": null,
   "metadata": {},
   "outputs": [],
   "source": [
    "deduce_in_number_set(Exp(e, the_expr_03.operands[0].exponent.operands[0]), Complex)"
   ]
  },
  {
   "cell_type": "code",
   "execution_count": null,
   "metadata": {},
   "outputs": [],
   "source": [
    "deduce_in_number_set(Exp(e, Mult(*the_expr_03.operands[1].exponent.operands.entries[0:4])), Complex)"
   ]
  },
  {
   "cell_type": "code",
   "execution_count": null,
   "metadata": {},
   "outputs": [],
   "source": [
    "temp_desired_expr = Exp(\n",
    "    Mult(\n",
    "        Exp(e, the_expr_03.operands[0].exponent.operands[0]),\n",
    "        Exp(e, Mult(*the_expr_03.operands[1].exponent.operands.entries[0:4]))), k)"
   ]
  },
  {
   "cell_type": "code",
   "execution_count": null,
   "metadata": {},
   "outputs": [],
   "source": [
    "raise_exp_factor_04 = temp_desired_expr.distribution().reversed()"
   ]
  },
  {
   "cell_type": "code",
   "execution_count": null,
   "metadata": {},
   "outputs": [],
   "source": [
    "the_expr_06 = eq.update(raise_exp_factor_04.substitution(the_expr_05))\n",
    "eq.relation"
   ]
  },
  {
   "cell_type": "markdown",
   "metadata": {},
   "source": [
    "Now we simplify that modular addition piece:"
   ]
  },
  {
   "cell_type": "code",
   "execution_count": null,
   "metadata": {},
   "outputs": [],
   "source": [
    "mod_add_def"
   ]
  },
  {
   "cell_type": "code",
   "execution_count": null,
   "metadata": {},
   "outputs": [],
   "source": [
    "mod_add_def_inst = mod_add_def.instantiate({a: b_, b: l})"
   ]
  },
  {
   "cell_type": "code",
   "execution_count": null,
   "metadata": {},
   "outputs": [],
   "source": [
    "the_expr_07 = eq.update(mod_add_def_inst.substitution(the_expr_06))\n",
    "eq.relation"
   ]
  },
  {
   "cell_type": "code",
   "execution_count": null,
   "metadata": {},
   "outputs": [],
   "source": [
    "exp_neg2pi_i_x"
   ]
  },
  {
   "cell_type": "code",
   "execution_count": null,
   "metadata": {},
   "outputs": [],
   "source": [
    "exp_neg2pi_i_x_inst = exp_neg2pi_i_x.instantiate({x: Add(b_, l), r: two_pow_t})"
   ]
  },
  {
   "cell_type": "code",
   "execution_count": null,
   "metadata": {},
   "outputs": [],
   "source": [
    "the_expr_08 = eq.update(exp_neg2pi_i_x_inst.substitution(the_expr_07))\n",
    "eq.relation"
   ]
  },
  {
   "cell_type": "code",
   "execution_count": null,
   "metadata": {},
   "outputs": [],
   "source": [
    "exponent_combo = the_expr_08.inner_expr().base.exponent_combination()"
   ]
  },
  {
   "cell_type": "code",
   "execution_count": null,
   "metadata": {},
   "outputs": [],
   "source": [
    "the_expr_09 = eq.update(exponent_combo.substitution(the_expr_08))\n",
    "eq.relation"
   ]
  },
  {
   "cell_type": "code",
   "execution_count": null,
   "metadata": {},
   "outputs": [],
   "source": [
    "the_expr_10 = eq.update(the_expr_09.inner_expr().base.exponent.commutation())"
   ]
  },
  {
   "cell_type": "code",
   "execution_count": null,
   "metadata": {},
   "outputs": [],
   "source": [
    "# somewhere here need to pull that negative out in front of\n",
    "# the fraction, then change the +(-) to a subtraction"
   ]
  },
  {
   "cell_type": "code",
   "execution_count": null,
   "metadata": {},
   "outputs": [],
   "source": [
    "eq.update(the_expr_10.inner_expr().base.exponent.factorization(Mult(two, pi, i)))\n",
    "eq.relation"
   ]
  },
  {
   "cell_type": "code",
   "execution_count": null,
   "metadata": {},
   "outputs": [],
   "source": []
  }
 ],
 "metadata": {
  "kernelspec": {
   "display_name": "Python 3",
   "language": "python",
   "name": "python3"
  }
 },
 "nbformat": 4,
 "nbformat_minor": 0
}
