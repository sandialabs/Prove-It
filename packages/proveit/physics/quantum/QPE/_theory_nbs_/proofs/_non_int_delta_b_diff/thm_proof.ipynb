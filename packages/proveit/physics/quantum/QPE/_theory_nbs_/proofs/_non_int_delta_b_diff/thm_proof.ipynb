{
 "cells": [
  {
   "cell_type": "markdown",
   "metadata": {},
   "source": [
    "Proof of <a class=\"ProveItLink\" href=\"../../../../../../_theory_nbs_/theory.ipynb\">proveit</a>.<a class=\"ProveItLink\" href=\"../../../../../_theory_nbs_/theory.ipynb\">physics</a>.<a class=\"ProveItLink\" href=\"../../../../_theory_nbs_/theory.ipynb\">quantum</a>.<a class=\"ProveItLink\" href=\"../../theory.ipynb\">QPE</a>.<a class=\"ProveItLink\" href=\"../../theorems.ipynb#_non_int_delta_b_diff\">_non_int_delta_b_diff</a> theorem\n",
    "========"
   ]
  },
  {
   "cell_type": "code",
   "execution_count": null,
   "metadata": {},
   "outputs": [],
   "source": [
    "import proveit\n",
    "theory = proveit.Theory() # the theorem's theory\n",
    "from proveit import b, n, x, defaults\n",
    "from proveit.logic import Forall, InSet, NotEquals, Set\n",
    "from proveit.numbers import (\n",
    "        zero, one, two, Add, IntervalOO, Less, Neg, Real)\n",
    "from proveit.numbers.number_sets.real_numbers import (\n",
    "        not_int_if_not_int_in_interval)\n",
    "from proveit.physics.quantum.QPE import (\n",
    "        _b_floor, _b_round, _best_round_is_int, _delta_b,\n",
    "        _delta_b_in_interval, _delta_b_is_real,\n",
    "        _delta_b_not_eq_scaledNonzeroInt, _t, _t_in_natural_pos,\n",
    "       _two_pow_t, _two_pow_t_is_nat_pos)"
   ]
  },
  {
   "cell_type": "code",
   "execution_count": null,
   "metadata": {},
   "outputs": [],
   "source": [
    "%proving _non_int_delta_b_diff"
   ]
  },
  {
   "cell_type": "code",
   "execution_count": null,
   "metadata": {},
   "outputs": [],
   "source": [
    "defaults.assumptions = _non_int_delta_b_diff.all_conditions()"
   ]
  },
  {
   "cell_type": "code",
   "execution_count": null,
   "metadata": {},
   "outputs": [],
   "source": [
    "_delta_b_in_interval"
   ]
  },
  {
   "cell_type": "code",
   "execution_count": null,
   "metadata": {},
   "outputs": [],
   "source": [
    "_delta_b_in_interval_inst = _delta_b_in_interval.instantiate()"
   ]
  },
  {
   "cell_type": "markdown",
   "metadata": {},
   "source": [
    "#### Some convenient, short-cut labelings:"
   ]
  },
  {
   "cell_type": "code",
   "execution_count": null,
   "metadata": {},
   "outputs": [],
   "source": [
    "delta_diff = _non_int_delta_b_diff.instance_expr.element"
   ]
  },
  {
   "cell_type": "code",
   "execution_count": null,
   "metadata": {},
   "outputs": [],
   "source": [
    "neg_ell_over_two_pow_t = delta_diff.operands[1]"
   ]
  },
  {
   "cell_type": "code",
   "execution_count": null,
   "metadata": {},
   "outputs": [],
   "source": [
    "ell_in_full_domain = defaults.assumptions[1]"
   ]
  },
  {
   "cell_type": "markdown",
   "metadata": {},
   "source": [
    "#### Some Domain Facts"
   ]
  },
  {
   "cell_type": "code",
   "execution_count": null,
   "metadata": {},
   "outputs": [],
   "source": [
    "_t_in_natural_pos"
   ]
  },
  {
   "cell_type": "code",
   "execution_count": null,
   "metadata": {},
   "outputs": [],
   "source": [
    "_two_pow_t_is_nat_pos"
   ]
  },
  {
   "cell_type": "code",
   "execution_count": null,
   "metadata": {},
   "outputs": [],
   "source": [
    "# needed for establishing that the\n",
    "# assumed ell domain consists of integers\n",
    "from proveit.physics.quantum.QPE import _two_pow_t_minus_one_is_nat_pos\n",
    "_two_pow_t_minus_one_is_nat_pos"
   ]
  },
  {
   "cell_type": "code",
   "execution_count": null,
   "metadata": {},
   "outputs": [],
   "source": [
    "from proveit.physics.quantum.QPE import _best_floor_is_int\n",
    "_best_floor_is_int"
   ]
  },
  {
   "cell_type": "code",
   "execution_count": null,
   "metadata": {},
   "outputs": [],
   "source": [
    "_best_round_is_int"
   ]
  },
  {
   "cell_type": "code",
   "execution_count": null,
   "metadata": {},
   "outputs": [],
   "source": [
    "_delta_b_is_real"
   ]
  },
  {
   "cell_type": "code",
   "execution_count": null,
   "metadata": {},
   "outputs": [],
   "source": [
    "_delta_b_is_real.instantiate({b: _b_floor})"
   ]
  },
  {
   "cell_type": "code",
   "execution_count": null,
   "metadata": {},
   "outputs": [],
   "source": [
    "_delta_b_is_real.instantiate({b: _b_round})"
   ]
  },
  {
   "cell_type": "code",
   "execution_count": null,
   "metadata": {},
   "outputs": [],
   "source": [
    "all_delta_b_are_real = Forall(b,\n",
    "       InSet(_delta_b, Real),\n",
    "       domain=Set(_b_floor, _b_round)).prove()"
   ]
  },
  {
   "cell_type": "code",
   "execution_count": null,
   "metadata": {},
   "outputs": [],
   "source": [
    "all_delta_b_are_real.instantiate()"
   ]
  },
  {
   "cell_type": "markdown",
   "metadata": {},
   "source": [
    "#### Upper & Lower Bounds on $\\ell$"
   ]
  },
  {
   "cell_type": "code",
   "execution_count": null,
   "metadata": {},
   "outputs": [],
   "source": [
    "ell_upper_bound = ell_in_full_domain.derive_element_upper_bound()"
   ]
  },
  {
   "cell_type": "code",
   "execution_count": null,
   "metadata": {},
   "outputs": [],
   "source": [
    "ell_lower_bound = ell_in_full_domain.derive_element_lower_bound()"
   ]
  },
  {
   "cell_type": "markdown",
   "metadata": {},
   "source": [
    "#### Upper & Lower Bounds on $\\delta_{b}$"
   ]
  },
  {
   "cell_type": "code",
   "execution_count": null,
   "metadata": {},
   "outputs": [],
   "source": [
    "delta_b_upper_bound = _delta_b_in_interval_inst.derive_element_upper_bound()"
   ]
  },
  {
   "cell_type": "code",
   "execution_count": null,
   "metadata": {},
   "outputs": [],
   "source": [
    "delta_b_lower_bound = _delta_b_in_interval_inst.derive_element_lower_bound()"
   ]
  },
  {
   "cell_type": "markdown",
   "metadata": {},
   "source": [
    "#### Deducing Bounds on $\\delta_{b} - \\frac{\\ell}{2^t}$"
   ]
  },
  {
   "cell_type": "code",
   "execution_count": null,
   "metadata": {},
   "outputs": [],
   "source": [
    "delta_diff_lower_bound = (\n",
    "        delta_diff.deduce_bound(\n",
    "        [ell_upper_bound, delta_b_lower_bound.reversed()]))"
   ]
  },
  {
   "cell_type": "code",
   "execution_count": null,
   "metadata": {},
   "outputs": [],
   "source": [
    "delta_diff_upper_bound_01 = (\n",
    "        delta_diff.deduce_bound(\n",
    "        [ell_lower_bound.reversed(), delta_b_upper_bound]))"
   ]
  },
  {
   "cell_type": "code",
   "execution_count": null,
   "metadata": {},
   "outputs": [],
   "source": [
    "delta_diff_upper_bound_02 = (\n",
    "        delta_diff_upper_bound_01.inner_expr().rhs.operands[1].\n",
    "        operand.distribute())"
   ]
  },
  {
   "cell_type": "code",
   "execution_count": null,
   "metadata": {},
   "outputs": [],
   "source": [
    "Less(delta_diff_upper_bound_02.rhs, one).prove()"
   ]
  },
  {
   "cell_type": "code",
   "execution_count": null,
   "metadata": {},
   "outputs": [],
   "source": [
    "InSet(delta_diff, IntervalOO(Neg(one), one)).prove()"
   ]
  },
  {
   "cell_type": "markdown",
   "metadata": {},
   "source": [
    "#### Now use the QPE theorem `_delta_b_not_eq_scaledNonzeroInt` to deduce that $\\delta_{b}-\\frac{\\ell}{2^t} \\ne 0$:"
   ]
  },
  {
   "cell_type": "code",
   "execution_count": null,
   "metadata": {},
   "outputs": [],
   "source": [
    "_delta_b_not_eq_scaledNonzeroInt"
   ]
  },
  {
   "cell_type": "code",
   "execution_count": null,
   "metadata": {},
   "outputs": [],
   "source": [
    "_delta_b_not_eq_scaledNonzeroInt_inst = _delta_b_not_eq_scaledNonzeroInt.instantiate()"
   ]
  },
  {
   "cell_type": "code",
   "execution_count": null,
   "metadata": {},
   "outputs": [],
   "source": [
    "NotEquals(Add(_delta_b, neg_ell_over_two_pow_t), zero).prove()"
   ]
  },
  {
   "cell_type": "markdown",
   "metadata": {},
   "source": [
    "#### Instantiate one last useful theorem: $\\delta_{b}-\\frac{\\ell}{2^t}\\in(-1, 1)$ cannot be an integer if $\\delta_{b}-\\frac{\\ell}{2^t}\\ne 0$:"
   ]
  },
  {
   "cell_type": "code",
   "execution_count": null,
   "metadata": {},
   "outputs": [],
   "source": [
    "not_int_if_not_int_in_interval"
   ]
  },
  {
   "cell_type": "code",
   "execution_count": null,
   "metadata": {},
   "outputs": [],
   "source": [
    "not_int_if_not_int_in_interval_inst = (\n",
    "        not_int_if_not_int_in_interval.instantiate(\n",
    "                {n: zero, x: delta_diff}))"
   ]
  },
  {
   "cell_type": "code",
   "execution_count": null,
   "metadata": {},
   "outputs": [],
   "source": [
    "%qed"
   ]
  },
  {
   "cell_type": "code",
   "execution_count": null,
   "metadata": {},
   "outputs": [],
   "source": []
  }
 ],
 "metadata": {
  "kernelspec": {
   "display_name": "Python 3",
   "language": "python",
   "name": "python3"
  }
 },
 "nbformat": 4,
 "nbformat_minor": 0
}
