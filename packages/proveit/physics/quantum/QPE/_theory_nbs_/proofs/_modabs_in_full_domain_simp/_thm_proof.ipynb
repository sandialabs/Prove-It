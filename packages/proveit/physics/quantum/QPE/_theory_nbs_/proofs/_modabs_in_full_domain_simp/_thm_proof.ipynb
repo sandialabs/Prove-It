{
 "cells": [
  {
   "cell_type": "markdown",
   "metadata": {},
   "source": [
    "Proof of <a class=\"ProveItLink\" href=\"../../../../../../_theory_nbs_/theory.ipynb\">proveit</a>.<a class=\"ProveItLink\" href=\"../../../../../_theory_nbs_/theory.ipynb\">physics</a>.<a class=\"ProveItLink\" href=\"../../../../_theory_nbs_/theory.ipynb\">quantum</a>.<a class=\"ProveItLink\" href=\"../../theory.ipynb\">QPE</a>.<a class=\"ProveItLink\" href=\"../../theorems.ipynb#_modabs_in_full_domain_simp\">_modabs_in_full_domain_simp</a> theorem\n",
    "========"
   ]
  },
  {
   "cell_type": "code",
   "execution_count": null,
   "metadata": {},
   "outputs": [],
   "source": [
    "import proveit\n",
    "theory = proveit.Theory() # the theorem's theory\n",
    "from proveit import l, x, N, defaults\n",
    "from proveit.numbers import (\n",
    "        zero, one, two, Div, greater_eq, Less, Mult, Neg, subtract)\n",
    "from proveit.numbers.modular import mod_abs_x_reduce_to_abs_x\n",
    "from proveit.physics.quantum.QPE import (\n",
    "        _t_in_natural_pos, _two_pow_t, _two_pow__t_minus_one,\n",
    "        _two_pow_t_is_nat_pos)"
   ]
  },
  {
   "cell_type": "code",
   "execution_count": null,
   "metadata": {},
   "outputs": [],
   "source": [
    "%proving _modabs_in_full_domain_simp"
   ]
  },
  {
   "cell_type": "code",
   "execution_count": null,
   "metadata": {},
   "outputs": [],
   "source": [
    "defaults.assumptions = _modabs_in_full_domain_simp.all_conditions()"
   ]
  },
  {
   "cell_type": "code",
   "execution_count": null,
   "metadata": {},
   "outputs": [],
   "source": [
    "# for convenience\n",
    "l_membership = _modabs_in_full_domain_simp.condition"
   ]
  },
  {
   "cell_type": "markdown",
   "metadata": {},
   "source": [
    "We plan to instantiate the following `mod_abs_x_reduce_to_abs_x` theorem with $x: \\ell$ and $N = 2^t$, the challenging piece of which is to establish that $|\\ell|\\le\\frac{2^t}{2}=2^{t-1}$:"
   ]
  },
  {
   "cell_type": "code",
   "execution_count": null,
   "metadata": {},
   "outputs": [],
   "source": [
    "mod_abs_x_reduce_to_abs_x"
   ]
  },
  {
   "cell_type": "markdown",
   "metadata": {},
   "source": [
    "Establish an upper bound on $|\\ell|$, and along the way establish some properties of the $\\ell$ bounds $2^{t-1}$ and $-2^{t-1}+1$ so their absolute values will eventually be (automatically) simplified and so we can also evaluate a Max() on the values."
   ]
  },
  {
   "cell_type": "code",
   "execution_count": null,
   "metadata": {},
   "outputs": [],
   "source": [
    "from proveit.numbers.absolute_value import weak_upper_bound_asym_interval\n",
    "weak_upper_bound_asym_interval"
   ]
  },
  {
   "cell_type": "code",
   "execution_count": null,
   "metadata": {},
   "outputs": [],
   "source": [
    "temp_bound_01 = _two_pow__t_minus_one.deduce_bound(_t_in_natural_pos.derive_element_lower_bound())"
   ]
  },
  {
   "cell_type": "markdown",
   "metadata": {},
   "source": [
    "From temp_bound_01, we can also automatically derive $-2^{t-1}\\ge -1$ and $-2^{t-1}+1\\ge 0$ as needed (through canonical forms)."
   ]
  },
  {
   "cell_type": "code",
   "execution_count": null,
   "metadata": {},
   "outputs": [],
   "source": [
    "# temp_bound_02 = temp_bound_01.left_mult_both_sides(Neg(one))"
   ]
  },
  {
   "cell_type": "code",
   "execution_count": null,
   "metadata": {},
   "outputs": [],
   "source": [
    "# temp_bound_03 = temp_bound_02.right_add_both_sides(one)"
   ]
  },
  {
   "cell_type": "code",
   "execution_count": null,
   "metadata": {},
   "outputs": [],
   "source": [
    "# Want to explicitly establish this, so the eventual Max() evaluation\n",
    "# will go through in the instantiation of abs_l_max_bound further below\n",
    "Less(subtract(temp_bound_01.lhs, one), temp_bound_01.lhs).prove()"
   ]
  },
  {
   "cell_type": "markdown",
   "metadata": {},
   "source": [
    "Since we know $-2^{t-1}+1 \\le 0$ and $0 < 2^{t-1}-1 < 2^{t-1}$, when we instantiate the `weak_upper_bound_asym_interval` theorem, the absolute values are simplified, and since we have pre-established the relative size of $2^{t-1}-1$ and $2^{t-1}$, the Max() operation can be simplified:"
   ]
  },
  {
   "cell_type": "code",
   "execution_count": null,
   "metadata": {},
   "outputs": [],
   "source": [
    "from proveit import a, b, c\n",
    "_a_sub, _b_sub, _c_sub = (\n",
    "    l,\n",
    "    l_membership.domain.lower_bound,\n",
    "    l_membership.domain.upper_bound)\n",
    "abs_l_max_bound = weak_upper_bound_asym_interval.instantiate(\n",
    "    {a: _a_sub, b: _b_sub, c: _c_sub})"
   ]
  },
  {
   "cell_type": "markdown",
   "metadata": {},
   "source": [
    "Now we're ready to instantiate the mod_abs_x_reduce_to_abs_x theorem"
   ]
  },
  {
   "cell_type": "code",
   "execution_count": null,
   "metadata": {},
   "outputs": [],
   "source": [
    "# here we set auto_simplify=False, else we simply obtain the unhelpful |ell|=|ell|\n",
    "mod_abs_x_reduce_to_abs_x.instantiate({x: l, N: _two_pow_t}, auto_simplify=False)"
   ]
  },
  {
   "cell_type": "code",
   "execution_count": null,
   "metadata": {},
   "outputs": [],
   "source": [
    "%qed"
   ]
  },
  {
   "cell_type": "code",
   "execution_count": null,
   "metadata": {},
   "outputs": [],
   "source": []
  }
 ],
 "metadata": {
  "kernelspec": {
   "display_name": "Python 3",
   "language": "python",
   "name": "python3"
  }
 },
 "nbformat": 4,
 "nbformat_minor": 0
}
