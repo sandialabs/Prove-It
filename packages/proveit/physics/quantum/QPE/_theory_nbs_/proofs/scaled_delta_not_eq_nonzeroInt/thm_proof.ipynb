{
 "cells": [
  {
   "cell_type": "markdown",
   "metadata": {},
   "source": [
    "Proof of <a class=\"ProveItLink\" href=\"../../../../../../_theory_nbs_/theory.ipynb\">proveit</a>.<a class=\"ProveItLink\" href=\"../../../../../_theory_nbs_/theory.ipynb\">physics</a>.<a class=\"ProveItLink\" href=\"../../../../_theory_nbs_/theory.ipynb\">quantum</a>.<a class=\"ProveItLink\" href=\"../../theory.ipynb\">QPE</a>.<a class=\"ProveItLink\" href=\"../../theorems.ipynb#scaled_delta_not_eq_nonzeroInt\">scaled_delta_not_eq_nonzeroInt</a> theorem\n",
    "========"
   ]
  },
  {
   "cell_type": "code",
   "execution_count": null,
   "metadata": {},
   "outputs": [],
   "source": [
    "import proveit\n",
    "theory = proveit.Theory() # the theorem's theory\n",
    "from proveit import defaults, l, n, x\n",
    "from proveit.logic import Equals\n",
    "from proveit.numbers import zero, one, IntervalOO, Mult\n",
    "from proveit.numbers.number_sets.real_numbers import not_int_if_between_successive_int\n",
    "from proveit.physics.quantum.QPE import delta_, scaled_delta_in_interval, two_pow_t"
   ]
  },
  {
   "cell_type": "code",
   "execution_count": null,
   "metadata": {},
   "outputs": [],
   "source": [
    "%proving scaled_delta_not_eq_nonzeroInt"
   ]
  },
  {
   "cell_type": "code",
   "execution_count": null,
   "metadata": {},
   "outputs": [],
   "source": [
    "defaults.assumptions = scaled_delta_not_eq_nonzeroInt.conditions"
   ]
  },
  {
   "cell_type": "code",
   "execution_count": null,
   "metadata": {},
   "outputs": [],
   "source": [
    "scaled_delta = Mult(two_pow_t, delta_)"
   ]
  },
  {
   "cell_type": "code",
   "execution_count": null,
   "metadata": {},
   "outputs": [],
   "source": [
    "# This will include automatic side effects about the lower and upper bounds\n",
    "scaled_delta_in_interval"
   ]
  },
  {
   "cell_type": "code",
   "execution_count": null,
   "metadata": {},
   "outputs": [],
   "source": [
    "# Assume to the contrary that scaled_delta = ell\n",
    "contradictory_assumption = Equals(scaled_delta, l)"
   ]
  },
  {
   "cell_type": "code",
   "execution_count": null,
   "metadata": {},
   "outputs": [],
   "source": [
    "# We apparently need this to be explicitly included! This affects how\n",
    "# the last step (.derive_via_contradiction) performs\n",
    "contradictory_assumption.deduce_in_bool()"
   ]
  },
  {
   "cell_type": "code",
   "execution_count": null,
   "metadata": {},
   "outputs": [],
   "source": [
    "l_lower_bound_loose = (\n",
    "    contradictory_assumption.sub_right_side_into(\n",
    "        scaled_delta_in_interval.domain.deduce_member_lower_bound(scaled_delta),\n",
    "        assumptions=[contradictory_assumption]))"
   ]
  },
  {
   "cell_type": "code",
   "execution_count": null,
   "metadata": {},
   "outputs": [],
   "source": [
    "l_upper_bound = (\n",
    "    contradictory_assumption.sub_right_side_into(\n",
    "        scaled_delta_in_interval.domain.deduce_member_upper_bound(scaled_delta),\n",
    "        assumptions=[contradictory_assumption]))"
   ]
  },
  {
   "cell_type": "code",
   "execution_count": null,
   "metadata": {},
   "outputs": [],
   "source": [
    "temp_01 = l_lower_bound_loose.unfold(defaults.assumptions)"
   ]
  },
  {
   "cell_type": "code",
   "execution_count": null,
   "metadata": {},
   "outputs": [],
   "source": [
    "temp_02 = temp_01.sub_right_side_into(l_lower_bound_loose, assumptions=[contradictory_assumption])"
   ]
  },
  {
   "cell_type": "code",
   "execution_count": null,
   "metadata": {},
   "outputs": [],
   "source": [
    "l_lower_bound_tight = temp_02.derive_left_if_not_right()"
   ]
  },
  {
   "cell_type": "code",
   "execution_count": null,
   "metadata": {},
   "outputs": [],
   "source": [
    "ell_in_o0_o1 = IntervalOO(zero, one).deduce_elem_in_set(l, assumptions=[contradictory_assumption, *defaults.assumptions])"
   ]
  },
  {
   "cell_type": "code",
   "execution_count": null,
   "metadata": {},
   "outputs": [],
   "source": [
    "not_int_if_between_successive_int"
   ]
  },
  {
   "cell_type": "code",
   "execution_count": null,
   "metadata": {},
   "outputs": [],
   "source": [
    "ell_not_int = not_int_if_between_successive_int.instantiate(\n",
    "    {n: zero, x: l}, assumptions=[contradictory_assumption, *defaults.assumptions])"
   ]
  },
  {
   "cell_type": "code",
   "execution_count": null,
   "metadata": {},
   "outputs": [],
   "source": [
    "contradictory_assumption_implies_false = (\n",
    "    ell_not_int.unfold().derive_contradiction().as_implication(\n",
    "        hypothesis=contradictory_assumption))"
   ]
  },
  {
   "cell_type": "code",
   "execution_count": null,
   "metadata": {},
   "outputs": [],
   "source": [
    "contradictory_assumption_implies_false.derive_via_contradiction()"
   ]
  },
  {
   "cell_type": "code",
   "execution_count": null,
   "metadata": {},
   "outputs": [],
   "source": [
    "%qed"
   ]
  },
  {
   "cell_type": "code",
   "execution_count": null,
   "metadata": {},
   "outputs": [],
   "source": []
  }
 ],
 "metadata": {
  "kernelspec": {
   "display_name": "Python 3",
   "language": "python",
   "name": "python3"
  }
 },
 "nbformat": 4,
 "nbformat_minor": 0
}
