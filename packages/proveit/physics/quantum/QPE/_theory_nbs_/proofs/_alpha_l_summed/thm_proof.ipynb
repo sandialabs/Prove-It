{
 "cells": [
  {
   "cell_type": "markdown",
   "metadata": {},
   "source": [
    "Proof of <a class=\"ProveItLink\" href=\"../../../../../../_theory_nbs_/theory.ipynb\">proveit</a>.<a class=\"ProveItLink\" href=\"../../../../../_theory_nbs_/theory.ipynb\">physics</a>.<a class=\"ProveItLink\" href=\"../../../../_theory_nbs_/theory.ipynb\">quantum</a>.<a class=\"ProveItLink\" href=\"../../theory.ipynb\">QPE</a>.<a class=\"ProveItLink\" href=\"../../theorems.ipynb#_alpha_l_summed\">_alpha_l_summed</a> theorem\n",
    "========"
   ]
  },
  {
   "cell_type": "code",
   "execution_count": null,
   "metadata": {},
   "outputs": [],
   "source": [
    "import proveit\n",
    "theory = proveit.Theory() # the theorem's theory\n",
    "from proveit import a, b, c, k, l, n, q, r, x, defaults\n",
    "from proveit.logic import Equals, InSet, NotEquals\n",
    "from proveit.numbers import (\n",
    "        zero, one, two, e, i, pi, Add, Complex, deduce_in_number_set,\n",
    "        Exp, frac, Integer, Mult, Div, Neg, Real, subtract)\n",
    "from proveit.numbers.number_sets.complex_numbers import exp_neg2pi_i_x\n",
    "from proveit.physics.quantum.QPE import (\n",
    "        ModAdd, _alpha_l_eval, _best_is_int, _b, _delta, _delta_diff_exp_not_one, _delta_is_real,\n",
    "        _delta_not_eq_scaledNonzeroInt, _full_domain, _mod_add_closure,\n",
    "        _phase_from_best, _phase_is_real, _t_in_natural_pos,\n",
    "        _two_pow_t, _two_pow_t_is_nat_pos, _two_pow_t_minus_one_is_nat_pos,\n",
    "        _two_pow_t_less_one_is_nat_pos)"
   ]
  },
  {
   "cell_type": "code",
   "execution_count": null,
   "metadata": {},
   "outputs": [],
   "source": [
    "%proving _alpha_l_summed"
   ]
  },
  {
   "cell_type": "code",
   "execution_count": null,
   "metadata": {},
   "outputs": [],
   "source": [
    "defaults.assumptions = _alpha_l_summed.all_conditions()"
   ]
  },
  {
   "cell_type": "code",
   "execution_count": null,
   "metadata": {},
   "outputs": [],
   "source": [
    "_alpha_l_eval"
   ]
  },
  {
   "cell_type": "code",
   "execution_count": null,
   "metadata": {},
   "outputs": [],
   "source": [
    "# Don't combine exponents during auto-simplification for the following steps.\n",
    "Mult.change_simplification_directives(combine_exponents = False)\n",
    "alpha_l_eq1 = _alpha_l_eval.instantiate()"
   ]
  },
  {
   "cell_type": "code",
   "execution_count": null,
   "metadata": {},
   "outputs": [],
   "source": [
    "alpha_l_summation = alpha_l_eq1.rhs.operands[1]"
   ]
  },
  {
   "cell_type": "code",
   "execution_count": null,
   "metadata": {},
   "outputs": [],
   "source": [
    "k_domain = alpha_l_summation.domain"
   ]
  },
  {
   "cell_type": "code",
   "execution_count": null,
   "metadata": {},
   "outputs": [],
   "source": [
    "k_in_k_domain = InSet(k, k_domain)"
   ]
  },
  {
   "cell_type": "code",
   "execution_count": null,
   "metadata": {},
   "outputs": [],
   "source": [
    "defaults.assumptions = defaults.assumptions + (k_in_k_domain,)"
   ]
  },
  {
   "cell_type": "markdown",
   "metadata": {},
   "source": [
    "Rewriting the summand, step by step, to get\n",
    "\n",
    "$e^{\\frac{-(2 \\pi i k (b\\oplus\\ell)}{2^t}}e^{2\\pi i \\varphi k} = (e^{\\frac{-(2 \\pi i (b+\\ell)}{2^t}}e^{2\\pi i \\varphi})^k = (e^{2\\pi i (\\varphi - \\frac{b+\\ell}{2^t})})^k$\n",
    "\n",
    "so we can eventually evaluate as a geometric sum"
   ]
  },
  {
   "cell_type": "code",
   "execution_count": null,
   "metadata": {},
   "outputs": [],
   "source": [
    "the_expr_01 = alpha_l_summation.instance_expr"
   ]
  },
  {
   "cell_type": "markdown",
   "metadata": {},
   "source": [
    "Now we can begin to rewrite, first extracting the common exponent $k$:"
   ]
  },
  {
   "cell_type": "code",
   "execution_count": null,
   "metadata": {},
   "outputs": [],
   "source": [
    "the_expr_02 = the_expr_01.inner_expr().common_power_extraction(exp_factor=k)"
   ]
  },
  {
   "cell_type": "markdown",
   "metadata": {},
   "source": [
    "Now we simplify that modular addition piece:"
   ]
  },
  {
   "cell_type": "code",
   "execution_count": null,
   "metadata": {},
   "outputs": [],
   "source": [
    "b_mod_add_l_def = ModAdd(_b, l).definition()"
   ]
  },
  {
   "cell_type": "code",
   "execution_count": null,
   "metadata": {},
   "outputs": [],
   "source": [
    "the_expr_03 = (the_expr_02.inner_expr().rhs.base.factors[0].exponent.operand\n",
    "               .numerator.factors[3].substitute(b_mod_add_l_def))"
   ]
  },
  {
   "cell_type": "code",
   "execution_count": null,
   "metadata": {},
   "outputs": [],
   "source": [
    "exp_neg2pi_i_x"
   ]
  },
  {
   "cell_type": "code",
   "execution_count": null,
   "metadata": {},
   "outputs": [],
   "source": [
    "exp_neg2pi_i_x_inst = exp_neg2pi_i_x.instantiate({x: Add(_b, l), r: _two_pow_t})"
   ]
  },
  {
   "cell_type": "code",
   "execution_count": null,
   "metadata": {},
   "outputs": [],
   "source": [
    "# Now we can combine exponents.\n",
    "Mult.change_simplification_directives(combine_exponents = True)\n",
    "the_expr_04 = the_expr_03.inner_expr().rhs.base.factors[0].substitute(exp_neg2pi_i_x_inst)"
   ]
  },
  {
   "cell_type": "markdown",
   "metadata": {},
   "source": [
    "Substitute in the following relation:"
   ]
  },
  {
   "cell_type": "code",
   "execution_count": null,
   "metadata": {},
   "outputs": [],
   "source": [
    "_phase_from_best"
   ]
  },
  {
   "cell_type": "code",
   "execution_count": null,
   "metadata": {},
   "outputs": [],
   "source": [
    "the_expr_05 = the_expr_04.inner_expr().rhs.base.exponent.terms[1].factors[3].substitute(_phase_from_best)"
   ]
  },
  {
   "cell_type": "markdown",
   "metadata": {},
   "source": [
    "Factor $2 \\pi i$. While we're at it, distribute over $(b+l)/2^t$, cancel $b/2^t$ terms, and move $\\delta$ to the front."
   ]
  },
  {
   "cell_type": "code",
   "execution_count": null,
   "metadata": {},
   "outputs": [],
   "source": [
    "with Div.temporary_simplification_directives() as div_tmp_directives:\n",
    "    div_tmp_directives.distribute=True\n",
    "    with Add.temporary_simplification_directives() as add_tmp_directives:\n",
    "        add_tmp_directives.order_key_fn = lambda term : 0 if term==_delta else 1\n",
    "        the_expr_06 = the_expr_05.inner_expr().rhs.base.exponent.factor(Mult(two, pi, i))"
   ]
  },
  {
   "cell_type": "markdown",
   "metadata": {},
   "source": [
    "Now we can substitute this into our $\\alpha_l$ equation."
   ]
  },
  {
   "cell_type": "code",
   "execution_count": null,
   "metadata": {},
   "outputs": [],
   "source": [
    "alpha_l_eq1"
   ]
  },
  {
   "cell_type": "code",
   "execution_count": null,
   "metadata": {},
   "outputs": [],
   "source": [
    "alpha_l_eq2 = alpha_l_eq1.inner_expr().rhs.factors[1].summand.substitute(the_expr_06)"
   ]
  },
  {
   "cell_type": "markdown",
   "metadata": {},
   "source": [
    "We want to evaluate the summation as a finite geometric sum, but we need to establish that our exponential base $e^{2\\pi i (\\delta - 1/{2^t})}$ is not equal to 1, which is proven elsewhere as a theorem called `_delta_diff_exp_not_one`:"
   ]
  },
  {
   "cell_type": "code",
   "execution_count": null,
   "metadata": {},
   "outputs": [],
   "source": [
    "_delta_diff_exp_not_one"
   ]
  },
  {
   "cell_type": "code",
   "execution_count": null,
   "metadata": {},
   "outputs": [],
   "source": [
    "_delta_diff_exp_not_one.instantiate(assumptions=_delta_diff_exp_not_one.all_conditions())"
   ]
  },
  {
   "cell_type": "markdown",
   "metadata": {},
   "source": [
    "Now we're ready to evaluate the summation as a finite geometric sum:"
   ]
  },
  {
   "cell_type": "code",
   "execution_count": null,
   "metadata": {},
   "outputs": [],
   "source": [
    "with Mult.temporary_simplification_directives() as tmp_directives:\n",
    "    tmp_directives.combine_exponents = False # Keep the 2 and 2^t from combining \n",
    "    alpha_l_eq3 = alpha_l_eq2.inner_expr().rhs.factors[1].geom_sum_reduce(\n",
    "        assumptions=_delta_diff_exp_not_one.all_conditions())"
   ]
  },
  {
   "cell_type": "code",
   "execution_count": null,
   "metadata": {},
   "outputs": [],
   "source": [
    "alpha_l_eq3.inner_expr().rhs.factors[1].numerator.terms[1].operand.exponent.distribute(\n",
    "    3, left_factors=[4]) # distribute the 2^t factor into (δ - 𝓁/2^t) on the right."
   ]
  },
  {
   "cell_type": "code",
   "execution_count": null,
   "metadata": {},
   "outputs": [],
   "source": [
    "%qed"
   ]
  },
  {
   "cell_type": "code",
   "execution_count": null,
   "metadata": {},
   "outputs": [],
   "source": []
  }
 ],
 "metadata": {
  "kernelspec": {
   "display_name": "Python 3",
   "language": "python",
   "name": "python3"
  }
 },
 "nbformat": 4,
 "nbformat_minor": 0
}
