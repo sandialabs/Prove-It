{
 "cells": [
  {
   "cell_type": "markdown",
   "metadata": {},
   "source": [
    "Proof of <a class=\"ProveItLink\" href=\"../../../../../../_theory_nbs_/theory.ipynb\">proveit</a>.<a class=\"ProveItLink\" href=\"../../../../../_theory_nbs_/theory.ipynb\">physics</a>.<a class=\"ProveItLink\" href=\"../../../../_theory_nbs_/theory.ipynb\">quantum</a>.<a class=\"ProveItLink\" href=\"../../theory.ipynb\">QPE</a>.<a class=\"ProveItLink\" href=\"../../theorems.ipynb#_alpha_l_summed\">_alpha_l_summed</a> theorem\n",
    "========"
   ]
  },
  {
   "cell_type": "code",
   "execution_count": null,
   "metadata": {},
   "outputs": [],
   "source": [
    "import proveit\n",
    "theory = proveit.Theory() # the theorem's theory\n",
    "from proveit import a, b, c, k, l, n, q, r, x, defaults\n",
    "from proveit.logic import Equals, InSet, NotEquals\n",
    "from proveit.numbers import (\n",
    "        zero, one, two, e, i, pi, Add, Complex, deduce_in_number_set,\n",
    "        Exp, frac, Integer, Mult, Neg, Real, subtract)\n",
    "from proveit.numbers.number_sets.complex_numbers import exp_neg2pi_i_x\n",
    "from proveit.physics.quantum.QPE import (\n",
    "        _alpha_l_eval, _best_is_int, _b, _delta_is_real,\n",
    "        _delta_not_eq_scaledNonzeroInt, _full_domain, _mod_add_closure,\n",
    "        _mod_add_def, _phase_from_best, _phase_is_real, _t_in_natural_pos,\n",
    "        _two_pow_t, _two_pow_t_is_nat_pos, _two_pow_t_less_one_is_nat_pos)\n",
    "\n",
    "# _delta_diff_exp_not_1, ??"
   ]
  },
  {
   "cell_type": "code",
   "execution_count": null,
   "metadata": {},
   "outputs": [],
   "source": [
    "%proving _alpha_l_summed"
   ]
  },
  {
   "cell_type": "code",
   "execution_count": null,
   "metadata": {},
   "outputs": [],
   "source": [
    "defaults.assumptions = _alpha_l_summed.all_conditions()"
   ]
  },
  {
   "cell_type": "code",
   "execution_count": null,
   "metadata": {},
   "outputs": [],
   "source": [
    "_t_in_natural_pos"
   ]
  },
  {
   "cell_type": "code",
   "execution_count": null,
   "metadata": {},
   "outputs": [],
   "source": [
    "_two_pow_t_is_nat_pos"
   ]
  },
  {
   "cell_type": "code",
   "execution_count": null,
   "metadata": {},
   "outputs": [],
   "source": [
    "from proveit.physics.quantum.QPE import (\n",
    "        _two_pow_t_minus_one, _two_pow_t_minus_one_is_nat_pos)\n",
    "_two_pow_t_minus_one_is_nat_pos"
   ]
  },
  {
   "cell_type": "code",
   "execution_count": null,
   "metadata": {},
   "outputs": [],
   "source": [
    "InSet(l, Integer).prove(assumptions=[InSet(l, _full_domain)])"
   ]
  },
  {
   "cell_type": "code",
   "execution_count": null,
   "metadata": {},
   "outputs": [],
   "source": [
    "_alpha_l_eval"
   ]
  },
  {
   "cell_type": "code",
   "execution_count": null,
   "metadata": {},
   "outputs": [],
   "source": [
    "# having trouble making this work the first time,\n",
    "# but the goes through the second time\n",
    "from proveit import ProofFailure\n",
    "try:\n",
    "    alpha_l_eq1 = _alpha_l_eval.instantiate()\n",
    "except (ProofFailure, TypeError) as the_error:\n",
    "    alpha_l_eq1 = _alpha_l_eval.instantiate()"
   ]
  },
  {
   "cell_type": "code",
   "execution_count": null,
   "metadata": {},
   "outputs": [],
   "source": [
    "# alpha_l_eq1 = _alpha_l_eval.instantiate({l:l})"
   ]
  },
  {
   "cell_type": "code",
   "execution_count": null,
   "metadata": {},
   "outputs": [],
   "source": [
    "alpha_l_summation = alpha_l_eq1.rhs.operands[1]"
   ]
  },
  {
   "cell_type": "code",
   "execution_count": null,
   "metadata": {},
   "outputs": [],
   "source": [
    "k_domain = alpha_l_summation.domain"
   ]
  },
  {
   "cell_type": "code",
   "execution_count": null,
   "metadata": {},
   "outputs": [],
   "source": [
    "k_in_k_domain = InSet(k, k_domain)"
   ]
  },
  {
   "cell_type": "code",
   "execution_count": null,
   "metadata": {},
   "outputs": [],
   "source": [
    "defaults.assumptions = defaults.assumptions + (k_in_k_domain,)"
   ]
  },
  {
   "cell_type": "markdown",
   "metadata": {},
   "source": [
    "Rewriting the summand, step by step, to get\n",
    "\n",
    "$e^{\\frac{-(2 \\pi i k (b\\oplus\\ell)}{2^t}}e^{2\\pi i \\varphi k} = (e^{\\frac{-(2 \\pi i (b+\\ell)}{2^t}}e^{2\\pi i \\varphi})^k = (e^{2\\pi i (\\varphi - \\frac{b+\\ell}{2^t})})^k$\n",
    "\n",
    "so we can eventually evaluate as a geometric sum"
   ]
  },
  {
   "cell_type": "code",
   "execution_count": null,
   "metadata": {},
   "outputs": [],
   "source": [
    "the_expr_01 = alpha_l_summation.instance_expr"
   ]
  },
  {
   "cell_type": "code",
   "execution_count": null,
   "metadata": {},
   "outputs": [],
   "source": [
    "_mod_add_closure.instantiate({a: _b, b: l})"
   ]
  },
  {
   "cell_type": "markdown",
   "metadata": {},
   "source": [
    "Explicitly acknowledge some conditions proven or previously established\n",
    "that we need to rewrite the exponent as desired:"
   ]
  },
  {
   "cell_type": "code",
   "execution_count": null,
   "metadata": {},
   "outputs": [],
   "source": [
    "_best_is_int"
   ]
  },
  {
   "cell_type": "code",
   "execution_count": null,
   "metadata": {},
   "outputs": [],
   "source": [
    "_two_pow_t_is_nat_pos"
   ]
  },
  {
   "cell_type": "code",
   "execution_count": null,
   "metadata": {},
   "outputs": [],
   "source": [
    "_phase_is_real"
   ]
  },
  {
   "cell_type": "markdown",
   "metadata": {},
   "source": [
    "Now we can begin to rewrite, first extracting the common exponent $k$:"
   ]
  },
  {
   "cell_type": "code",
   "execution_count": null,
   "metadata": {},
   "outputs": [],
   "source": [
    "the_expr_02 = the_expr_01.inner_expr().common_power_extraction(exp_factor=k)"
   ]
  },
  {
   "cell_type": "markdown",
   "metadata": {},
   "source": [
    "Now we simplify that modular addition piece:"
   ]
  },
  {
   "cell_type": "code",
   "execution_count": null,
   "metadata": {},
   "outputs": [],
   "source": [
    "_mod_add_def"
   ]
  },
  {
   "cell_type": "code",
   "execution_count": null,
   "metadata": {},
   "outputs": [],
   "source": [
    "mod_add_def_inst = _mod_add_def.instantiate({a: _b, b: l})"
   ]
  },
  {
   "cell_type": "code",
   "execution_count": null,
   "metadata": {},
   "outputs": [],
   "source": [
    "the_expr_03 = the_expr_02.inner_expr().rhs.base.factors[0].exponent.operand.numerator.factors[3].substitute(mod_add_def_inst)"
   ]
  },
  {
   "cell_type": "code",
   "execution_count": null,
   "metadata": {},
   "outputs": [],
   "source": [
    "exp_neg2pi_i_x"
   ]
  },
  {
   "cell_type": "code",
   "execution_count": null,
   "metadata": {},
   "outputs": [],
   "source": [
    "exp_neg2pi_i_x_inst = exp_neg2pi_i_x.instantiate({x: Add(_b, l), r: _two_pow_t})"
   ]
  },
  {
   "cell_type": "code",
   "execution_count": null,
   "metadata": {},
   "outputs": [],
   "source": [
    "the_expr_04 = the_expr_03.inner_expr().rhs.base.factors[0].substitute(exp_neg2pi_i_x_inst)"
   ]
  },
  {
   "cell_type": "code",
   "execution_count": null,
   "metadata": {},
   "outputs": [],
   "source": [
    "the_expr_05 = the_expr_04.inner_expr().rhs.base.combine_exponents()"
   ]
  },
  {
   "cell_type": "code",
   "execution_count": null,
   "metadata": {},
   "outputs": [],
   "source": [
    "the_expr_06 = the_expr_05.inner_expr().rhs.base.exponent.commute()"
   ]
  },
  {
   "cell_type": "code",
   "execution_count": null,
   "metadata": {},
   "outputs": [],
   "source": [
    "the_expr_07 = the_expr_06.inner_expr().rhs.base.exponent.factor(Mult(two, pi, i))"
   ]
  },
  {
   "cell_type": "code",
   "execution_count": null,
   "metadata": {},
   "outputs": [],
   "source": [
    "# rewrite the +(-) as a simple -\n",
    "the_expr_08 = the_expr_07.inner_expr().rhs.base.exponent.factors[1].with_subtraction_at(1)"
   ]
  },
  {
   "cell_type": "markdown",
   "metadata": {},
   "source": [
    "Now generalize so we can use `instance_substitution`:"
   ]
  },
  {
   "cell_type": "code",
   "execution_count": null,
   "metadata": {},
   "outputs": [],
   "source": [
    "equivalence_for_all_instances = the_expr_08.generalize(k, domain=k_domain)"
   ]
  },
  {
   "cell_type": "code",
   "execution_count": null,
   "metadata": {},
   "outputs": [],
   "source": [
    "summation_equivalence = alpha_l_summation.instance_substitution(equivalence_for_all_instances)"
   ]
  },
  {
   "cell_type": "code",
   "execution_count": null,
   "metadata": {},
   "outputs": [],
   "source": [
    "# Recall our \"starting place\" then perform the substitution:\n",
    "alpha_l_eq1"
   ]
  },
  {
   "cell_type": "code",
   "execution_count": null,
   "metadata": {},
   "outputs": [],
   "source": [
    "alpha_l_eq2 = summation_equivalence.sub_right_side_into(alpha_l_eq1)"
   ]
  },
  {
   "cell_type": "code",
   "execution_count": null,
   "metadata": {},
   "outputs": [],
   "source": [
    "# Recall:\n",
    "phase_from_best"
   ]
  },
  {
   "cell_type": "code",
   "execution_count": null,
   "metadata": {},
   "outputs": [],
   "source": [
    "alpha_l_eq3 = phase_from_best.sub_right_side_into(alpha_l_eq2)"
   ]
  },
  {
   "cell_type": "code",
   "execution_count": null,
   "metadata": {},
   "outputs": [],
   "source": [
    "phase_01 = alpha_l_eq3.rhs.operands[1].summand.base.exponent.operands[3]"
   ]
  },
  {
   "cell_type": "code",
   "execution_count": null,
   "metadata": {},
   "outputs": [],
   "source": [
    "phase_02 = phase_01.inner_expr().operands[1].operand.distribution()"
   ]
  },
  {
   "cell_type": "code",
   "execution_count": null,
   "metadata": {},
   "outputs": [],
   "source": [
    "phase_03 = phase_02.inner_expr().rhs.simplify()"
   ]
  },
  {
   "cell_type": "code",
   "execution_count": null,
   "metadata": {},
   "outputs": [],
   "source": [
    "phase_04 = phase_03.inner_expr().rhs.with_subtraction_at(1)"
   ]
  },
  {
   "cell_type": "code",
   "execution_count": null,
   "metadata": {},
   "outputs": [],
   "source": [
    "alpha_l_eq4 = phase_04.sub_right_side_into(alpha_l_eq3)"
   ]
  },
  {
   "cell_type": "markdown",
   "metadata": {},
   "source": [
    "We want to evaluate the summation as a finite geometric sum, but we need to establish that our exponential base $e^{2\\pi i (\\delta - 1/{2^t})}$ is not equal to 1, which is proven elsewhere as a theorem called `delta_diff_exp_not_1`:"
   ]
  },
  {
   "cell_type": "code",
   "execution_count": null,
   "metadata": {},
   "outputs": [],
   "source": [
    "delta_diff_exp_not_1"
   ]
  },
  {
   "cell_type": "code",
   "execution_count": null,
   "metadata": {},
   "outputs": [],
   "source": [
    "delta_diff_exp_not_1.instantiate()"
   ]
  },
  {
   "cell_type": "markdown",
   "metadata": {},
   "source": [
    "Now we're ready to evaluate the summation as a finite geometric sum:"
   ]
  },
  {
   "cell_type": "code",
   "execution_count": null,
   "metadata": {},
   "outputs": [],
   "source": [
    "alpha_l_eq5 = alpha_l_eq4.inner_expr().rhs.factors[1].geom_sum_reduce()"
   ]
  },
  {
   "cell_type": "code",
   "execution_count": null,
   "metadata": {},
   "outputs": [],
   "source": [
    "exp_to_process = alpha_l_eq5.rhs.factors[1].numerator.operands[1].operand"
   ]
  },
  {
   "cell_type": "code",
   "execution_count": null,
   "metadata": {},
   "outputs": [],
   "source": [
    "exp_to_process_02 = exp_to_process.distribution()"
   ]
  },
  {
   "cell_type": "code",
   "execution_count": null,
   "metadata": {},
   "outputs": [],
   "source": [
    "exp_to_process_03 = exp_to_process_02.inner_expr().rhs.exponent.associate(3, 2)"
   ]
  },
  {
   "cell_type": "code",
   "execution_count": null,
   "metadata": {},
   "outputs": [],
   "source": [
    "exp_to_process_04 = exp_to_process_03.inner_expr().rhs.exponent.factors[3].distribute(idx=0)"
   ]
  },
  {
   "cell_type": "code",
   "execution_count": null,
   "metadata": {},
   "outputs": [],
   "source": [
    "alpha_l_eq6 = alpha_l_eq5.inner_expr().rhs.factors[1].numerator.operands[1].operand.substitute(exp_to_process_04)"
   ]
  },
  {
   "cell_type": "code",
   "execution_count": null,
   "metadata": {},
   "outputs": [],
   "source": [
    "# a final tweak, commuting the factors in $\\delta \\cdot 2^t$\n",
    "alpha_l_eq6.inner_expr().rhs.factors[1].numerator.operands[1].operand.exponent.operands[3].operands[0].commute(0, 1)"
   ]
  },
  {
   "cell_type": "code",
   "execution_count": null,
   "metadata": {},
   "outputs": [],
   "source": [
    "%qed"
   ]
  },
  {
   "cell_type": "code",
   "execution_count": null,
   "metadata": {},
   "outputs": [],
   "source": []
  }
 ],
 "metadata": {
  "kernelspec": {
   "display_name": "Python 3",
   "language": "python",
   "name": "python3"
  }
 },
 "nbformat": 4,
 "nbformat_minor": 0
}
