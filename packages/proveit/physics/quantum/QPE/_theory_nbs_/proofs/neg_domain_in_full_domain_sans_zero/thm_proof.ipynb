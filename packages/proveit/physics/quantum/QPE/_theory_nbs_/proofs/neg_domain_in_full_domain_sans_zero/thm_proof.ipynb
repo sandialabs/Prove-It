{
 "cells": [
  {
   "cell_type": "markdown",
   "metadata": {},
   "source": [
    "Proof of <a class=\"ProveItLink\" href=\"../../../../../../_theory_nbs_/theory.ipynb\">proveit</a>.<a class=\"ProveItLink\" href=\"../../../../../_theory_nbs_/theory.ipynb\">physics</a>.<a class=\"ProveItLink\" href=\"../../../../_theory_nbs_/theory.ipynb\">quantum</a>.<a class=\"ProveItLink\" href=\"../../theory.ipynb\">QPE</a>.<a class=\"ProveItLink\" href=\"../../theorems.ipynb#neg_domain_in_full_domain_sans_zero\">neg_domain_in_full_domain_sans_zero</a> theorem\n",
    "========"
   ]
  },
  {
   "cell_type": "code",
   "execution_count": null,
   "metadata": {},
   "outputs": [],
   "source": [
    "import proveit\n",
    "theory = proveit.Theory() # the theorem's theory\n",
    "from proveit import a, defaults, eps, l\n",
    "from proveit.logic import InSet, NotEquals\n",
    "from proveit.numbers import zero, one, Add, Less, Neg\n",
    "from proveit.numbers import RealNeg\n",
    "from proveit.numbers.negation import negated_positive_is_negative\n",
    "from proveit.physics.quantum.QPE import (eps_domain, full_domain, full_domain_sans_zero,\n",
    "                                         neg_domain, two_pow_t_minus_one)\n",
    "from proveit.physics.quantum.QPE import two_pow_t_minus_one_is_nat_pos"
   ]
  },
  {
   "cell_type": "code",
   "execution_count": null,
   "metadata": {},
   "outputs": [],
   "source": [
    "%proving neg_domain_in_full_domain_sans_zero"
   ]
  },
  {
   "cell_type": "markdown",
   "metadata": {},
   "source": [
    "This theorem is very similar to its companion theorem `pos_domain_in_full_domain_sans_zero` and the approach is essentially the same.<br>\n",
    "The basic approach is to show that<br>\n",
    "$\\ell\\in\\{-2^{t-1}+1 \\ldots -(\\epsilon+1)\\}$ means $\\ell\\in\\{-2^{t-1}+1\\ldots 2^{t-1}\\}$ and $\\ell\\ne 0$<br>\n",
    "More specifically:<br>\n",
    "(1) $\\ell\\in\\{-2^{t-1}+1 \\ldots -(\\epsilon+1)\\}$ means $\\ell \\ge -2^{t-1}+1$ (and $\\ell\\in\\mathbb{Z}$)<br>\n",
    "(2) $\\ell\\in\\{\\epsilon+1\\ldots 2^{t-1}\\}$ means $\\ell \\le -(\\epsilon+1)$<br>\n",
    "(3) $\\epsilon\\in\\{1\\ldots 2^{t-1}-2\\}$ means $-(\\epsilon + 1) < 0$<br>\n",
    "(4) Thus $-2^{t-1 + 1} \\le \\ell \\le 2^{t-1}$ and $\\ell<0$.<br/>\n",
    "(5) Thus $-2^{t-1 + 1} \\le \\ell \\le 2^{t-1}$ and $\\ell\\ne 0$.<br/>\n",
    "(6) Thus $\\ell\\in\\{-2^{t-1 + 1}\\ldots 2^{t-1}\\}-\\{0\\}$"
   ]
  },
  {
   "cell_type": "code",
   "execution_count": null,
   "metadata": {},
   "outputs": [],
   "source": [
    "defaults.assumptions = neg_domain_in_full_domain_sans_zero.all_conditions()"
   ]
  },
  {
   "cell_type": "code",
   "execution_count": null,
   "metadata": {},
   "outputs": [],
   "source": [
    "defaults.assumptions = [*defaults.assumptions, InSet(l, neg_domain)]"
   ]
  },
  {
   "cell_type": "code",
   "execution_count": null,
   "metadata": {},
   "outputs": [],
   "source": [
    "two_pow_t_minus_one_is_nat_pos"
   ]
  },
  {
   "cell_type": "code",
   "execution_count": null,
   "metadata": {},
   "outputs": [],
   "source": [
    "ineq_01 = Less(zero, eps).prove()"
   ]
  },
  {
   "cell_type": "code",
   "execution_count": null,
   "metadata": {},
   "outputs": [],
   "source": [
    "ineq_01.derive_shifted(one).inner_expr().lhs.simplify()"
   ]
  },
  {
   "cell_type": "code",
   "execution_count": null,
   "metadata": {},
   "outputs": [],
   "source": [
    "# Some way to automate related info? \n",
    "negated_positive_is_negative"
   ]
  },
  {
   "cell_type": "code",
   "execution_count": null,
   "metadata": {},
   "outputs": [],
   "source": [
    "neg_domain_upper_bound_ineq = negated_positive_is_negative.instantiate({a: Add(eps, one)})"
   ]
  },
  {
   "cell_type": "code",
   "execution_count": null,
   "metadata": {},
   "outputs": [],
   "source": [
    "# not currently the default … consider?\n",
    "Less(l, zero).conclude_via_transitivity()"
   ]
  },
  {
   "cell_type": "code",
   "execution_count": null,
   "metadata": {},
   "outputs": [],
   "source": [
    "%qed"
   ]
  },
  {
   "cell_type": "code",
   "execution_count": null,
   "metadata": {},
   "outputs": [],
   "source": []
  }
 ],
 "metadata": {
  "kernelspec": {
   "display_name": "Python 3",
   "language": "python",
   "name": "python3"
  }
 },
 "nbformat": 4,
 "nbformat_minor": 0
}
