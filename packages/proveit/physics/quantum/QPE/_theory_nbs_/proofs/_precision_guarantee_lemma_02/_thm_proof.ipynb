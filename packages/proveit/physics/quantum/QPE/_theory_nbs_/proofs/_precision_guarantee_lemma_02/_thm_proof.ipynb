{
 "cells": [
  {
   "cell_type": "markdown",
   "metadata": {},
   "source": [
    "Proof of <a class=\"ProveItLink\" href=\"../../../../../../_theory_nbs_/theory.ipynb\">proveit</a>.<a class=\"ProveItLink\" href=\"../../../../../_theory_nbs_/theory.ipynb\">physics</a>.<a class=\"ProveItLink\" href=\"../../../../_theory_nbs_/theory.ipynb\">quantum</a>.<a class=\"ProveItLink\" href=\"../../theory.ipynb\">QPE</a>.<a class=\"ProveItLink\" href=\"../../theorems.ipynb#_precision_guarantee_lemma_02\">_precision_guarantee_lemma_02</a> theorem\n",
    "========"
   ]
  },
  {
   "cell_type": "code",
   "execution_count": null,
   "metadata": {},
   "outputs": [],
   "source": [
    "import proveit\n",
    "theory = proveit.Theory() # the theorem's theory\n",
    "from proveit import a, b, m, x, N, defaults\n",
    "from proveit.logic import InSet\n",
    "from proveit.numbers import two, Div, Floor, LessEq, ModAbs, Mult, Real, subtract\n",
    "from proveit.numbers.modular import mod_abs_of_difference_bound, mod_abs_scaled\n",
    "from proveit.numbers.rounding import floor_x_le_x\n",
    "from proveit.physics.quantum.QPE import (\n",
    "    _best_floor_def, _n_in_natural_pos, _phase,\n",
    "    _phase_in_interval, _t_in_natural_pos, _two_pow_t,\n",
    "    _two_pow_t__minus_one, _two_pow_t_minus_one_is_nat_pos)"
   ]
  },
  {
   "cell_type": "code",
   "execution_count": null,
   "metadata": {},
   "outputs": [],
   "source": [
    "%proving _precision_guarantee_lemma_02"
   ]
  },
  {
   "cell_type": "code",
   "execution_count": null,
   "metadata": {},
   "outputs": [],
   "source": [
    "defaults.assumptions = _precision_guarantee_lemma_02.conditions"
   ]
  },
  {
   "cell_type": "code",
   "execution_count": null,
   "metadata": {},
   "outputs": [],
   "source": [
    "# for convenience\n",
    "_thm_expr = _precision_guarantee_lemma_02.instance_expr"
   ]
  },
  {
   "cell_type": "markdown",
   "metadata": {},
   "source": [
    "Import some basic local assumptions and local definitions"
   ]
  },
  {
   "cell_type": "code",
   "execution_count": null,
   "metadata": {},
   "outputs": [],
   "source": [
    "# some basic assumptions and definitions\n",
    "display(_t_in_natural_pos)\n",
    "display(_n_in_natural_pos)\n",
    "display(_phase_in_interval)\n",
    "display(_best_floor_def)"
   ]
  },
  {
   "cell_type": "markdown",
   "metadata": {},
   "source": [
    "It is useful generally to establish that $2^{t}\\varphi \\ge \\lfloor 2^{t}\\varphi\\rfloor$ (this is then used implicitly in some auto_simplification further below) (might be nice to convert this to a method of some sort in the Floor class?):"
   ]
  },
  {
   "cell_type": "code",
   "execution_count": null,
   "metadata": {},
   "outputs": [],
   "source": [
    "floor_x_le_x"
   ]
  },
  {
   "cell_type": "code",
   "execution_count": null,
   "metadata": {},
   "outputs": [],
   "source": [
    "_x_sub = Mult(_two_pow_t, _phase)\n",
    "floor_int_phase_bound = floor_x_le_x.instantiate({x: _x_sub}).reversed()"
   ]
  },
  {
   "cell_type": "markdown",
   "metadata": {},
   "source": [
    "We gradually transform the assumed condition $|m-b|_{\\text{mod}\\;2^t} \\le 2^{t-1}-1$ into the desired condition $|\\frac{m}{2^{t}}-1|_{\\text{mod}\\;1} \\le 2^{-n}$:"
   ]
  },
  {
   "cell_type": "code",
   "execution_count": null,
   "metadata": {},
   "outputs": [],
   "source": [
    "condition_01 = _precision_guarantee_lemma_02.condition.operands[1].prove()"
   ]
  },
  {
   "cell_type": "code",
   "execution_count": null,
   "metadata": {},
   "outputs": [],
   "source": [
    "condition_02 = (\n",
    "    condition_01.inner_expr().lhs.value.operands[1].\n",
    "    operand.substitute(_best_floor_def))"
   ]
  },
  {
   "cell_type": "code",
   "execution_count": null,
   "metadata": {},
   "outputs": [],
   "source": [
    "mod_abs_of_difference_bound"
   ]
  },
  {
   "cell_type": "markdown",
   "metadata": {},
   "source": [
    "Then for later auto-simplification to work well, we want to establish that $|\\lfloor 2^{t}\\varphi\\rfloor - 2^{t}\\varphi| \\le 2^{t}/2$"
   ]
  },
  {
   "cell_type": "code",
   "execution_count": null,
   "metadata": {},
   "outputs": [],
   "source": [
    "div_mult_id = Div(_two_pow_t, two).cancelation(two)"
   ]
  },
  {
   "cell_type": "markdown",
   "metadata": {},
   "source": [
    "The `_two_pow_t_minus_one_is_nat_pos` theorem, imported at the top, also lets us know that $\\vdash 2^{t-1}\\in\\mathbb{N}$."
   ]
  },
  {
   "cell_type": "code",
   "execution_count": null,
   "metadata": {},
   "outputs": [],
   "source": [
    "from proveit.numbers.rounding import real_minus_floor_interval\n",
    "real_minus_floor_interval"
   ]
  },
  {
   "cell_type": "code",
   "execution_count": null,
   "metadata": {},
   "outputs": [],
   "source": [
    "from proveit import x\n",
    "from proveit.numbers import two, Exp\n",
    "from proveit.physics.quantum.QPE import _t\n",
    "_x_sub = Mult(Exp(two, _t), _phase)\n",
    "real_minus_floor = real_minus_floor_interval.instantiate({x: _x_sub})"
   ]
  },
  {
   "cell_type": "code",
   "execution_count": null,
   "metadata": {},
   "outputs": [],
   "source": [
    "from proveit.numbers import zero, one, Abs, IntervalCO\n",
    "real_minus_floor_abs = InSet(Abs(real_minus_floor.element), IntervalCO(zero, one)).prove()"
   ]
  },
  {
   "cell_type": "code",
   "execution_count": null,
   "metadata": {},
   "outputs": [],
   "source": [
    "real_minus_floor_abs.inner_expr().element.reverse_difference(auto_simplify=False)"
   ]
  },
  {
   "cell_type": "markdown",
   "metadata": {},
   "source": [
    "Notice in the result of the following instantiation the ModAbs that would have appeared on the lhs with respect to $2^{t}$ has been automatically simplified to a non-modular (and non-absolute-value) expression:"
   ]
  },
  {
   "cell_type": "code",
   "execution_count": null,
   "metadata": {},
   "outputs": [],
   "source": [
    "_a_sub, _b_sub, _N_sub = (\n",
    "    subtract(m, Mult(_two_pow_t, _phase)),\n",
    "    subtract(m, Floor(Mult(_two_pow_t, _phase))),\n",
    "    _two_pow_t)\n",
    "condition_03 = mod_abs_of_difference_bound.instantiate(\n",
    "        {a: _a_sub, b: _b_sub, N: _N_sub}).inner_expr().lhs.dividend.commute(0,1)"
   ]
  },
  {
   "cell_type": "code",
   "execution_count": null,
   "metadata": {},
   "outputs": [],
   "source": [
    "condition_04 = condition_03.inner_expr().lhs.commute(0, 1).with_styles(direction='normal')"
   ]
  },
  {
   "cell_type": "markdown",
   "metadata": {},
   "source": [
    "But we also know from our work above that $2^{t}\\varphi - \\lfloor 2^{t}\\varphi \\rfloor < 1$, so Prove-It can now give us the following:"
   ]
  },
  {
   "cell_type": "code",
   "execution_count": null,
   "metadata": {},
   "outputs": [],
   "source": [
    "condition_05 = LessEq(condition_04.lhs, one).prove()"
   ]
  },
  {
   "cell_type": "markdown",
   "metadata": {},
   "source": [
    "And then we rearrange a bit:"
   ]
  },
  {
   "cell_type": "code",
   "execution_count": null,
   "metadata": {},
   "outputs": [],
   "source": [
    "condition_06 = condition_05.left_add_both_sides(condition_05.lhs.operands[1].operand)"
   ]
  },
  {
   "cell_type": "markdown",
   "metadata": {},
   "source": [
    "From an earlier condition, we can derive a bound on the rhs of `condition_06` above:"
   ]
  },
  {
   "cell_type": "code",
   "execution_count": null,
   "metadata": {},
   "outputs": [],
   "source": [
    "condition_07 = condition_02.right_add_both_sides(one)"
   ]
  },
  {
   "cell_type": "markdown",
   "metadata": {},
   "source": [
    "Then apply transitivity to obtain the following:"
   ]
  },
  {
   "cell_type": "code",
   "execution_count": null,
   "metadata": {},
   "outputs": [],
   "source": [
    "condition_08 = condition_06.apply_transitivity(condition_07)"
   ]
  },
  {
   "cell_type": "markdown",
   "metadata": {},
   "source": [
    "We want to transform the $\\text{mod}\\;2^{t}$ on the lhs to the $\\text{mod}\\;1$ that we want in the eventual desired expression.<br/>\n",
    "We can utilize the following theorem and subsequent instantiation to do that:"
   ]
  },
  {
   "cell_type": "code",
   "execution_count": null,
   "metadata": {},
   "outputs": [],
   "source": [
    "mod_abs_scaled"
   ]
  },
  {
   "cell_type": "code",
   "execution_count": null,
   "metadata": {},
   "outputs": [],
   "source": [
    "from proveit import a, b, c\n",
    "_a_sub, _b_sub, _c_sub = _two_pow_t, _thm_expr.lhs.operands[0], one\n",
    "condition_equality_01 = mod_abs_scaled.instantiate({a: _a_sub, b: _b_sub, c: _c_sub})"
   ]
  },
  {
   "cell_type": "code",
   "execution_count": null,
   "metadata": {},
   "outputs": [],
   "source": [
    "# clean up rhs side by distributing that factor of 2^t\n",
    "condition_equality_02 = condition_equality_01.inner_expr().rhs.operands[0].distribute(1)"
   ]
  },
  {
   "cell_type": "markdown",
   "metadata": {},
   "source": [
    "Now we utilize that result, substituting the lhs for the rhs in our previous result:"
   ]
  },
  {
   "cell_type": "code",
   "execution_count": null,
   "metadata": {},
   "outputs": [],
   "source": [
    "condition_09 = condition_equality_02.sub_left_side_into(condition_08)"
   ]
  },
  {
   "cell_type": "markdown",
   "metadata": {},
   "source": [
    "We can then divide both sides by the factor $2^{t}$ and simplify, and we are done:"
   ]
  },
  {
   "cell_type": "code",
   "execution_count": null,
   "metadata": {},
   "outputs": [],
   "source": [
    "condition_10 = condition_09.divide_both_sides(_two_pow_t)"
   ]
  },
  {
   "cell_type": "code",
   "execution_count": null,
   "metadata": {},
   "outputs": [],
   "source": [
    "%qed"
   ]
  },
  {
   "cell_type": "code",
   "execution_count": null,
   "metadata": {},
   "outputs": [],
   "source": []
  }
 ],
 "metadata": {
  "kernelspec": {
   "display_name": "Python 3",
   "language": "python",
   "name": "python3"
  }
 },
 "nbformat": 4,
 "nbformat_minor": 0
}
