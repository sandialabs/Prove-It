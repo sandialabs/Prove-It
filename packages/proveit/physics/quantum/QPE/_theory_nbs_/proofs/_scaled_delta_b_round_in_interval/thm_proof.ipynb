{
 "cells": [
  {
   "cell_type": "markdown",
   "metadata": {},
   "source": [
    "Proof of <a class=\"ProveItLink\" href=\"../../../../../../_theory_nbs_/theory.ipynb\">proveit</a>.<a class=\"ProveItLink\" href=\"../../../../../_theory_nbs_/theory.ipynb\">physics</a>.<a class=\"ProveItLink\" href=\"../../../../_theory_nbs_/theory.ipynb\">quantum</a>.<a class=\"ProveItLink\" href=\"../../theory.ipynb\">QPE</a>.<a class=\"ProveItLink\" href=\"../../theorems.ipynb#_scaled_delta_b_round_in_interval\">_scaled_delta_b_round_in_interval</a> theorem\n",
    "========"
   ]
  },
  {
   "cell_type": "code",
   "execution_count": null,
   "metadata": {},
   "outputs": [],
   "source": [
    "import proveit\n",
    "theory = proveit.Theory() # the theorem's theory\n",
    "from proveit.physics.quantum.QPE import (\n",
    "    _b_round, _best_round_def, _best_round_is_in_b_domain, _delta_b_def,\n",
    "    _phase_is_real, _t_in_natural_pos, _two_pow_t,\n",
    "    _two_pow_t_is_nat_pos)"
   ]
  },
  {
   "cell_type": "code",
   "execution_count": null,
   "metadata": {},
   "outputs": [],
   "source": [
    "%proving _scaled_delta_b_round_in_interval"
   ]
  },
  {
   "cell_type": "code",
   "execution_count": null,
   "metadata": {},
   "outputs": [],
   "source": [
    "_scaled_delta = _scaled_delta_b_round_in_interval.operands[0]"
   ]
  },
  {
   "cell_type": "code",
   "execution_count": null,
   "metadata": {},
   "outputs": [],
   "source": [
    "# interestingly, just importing this _delta_b_def can raise cascading\n",
    "# side-effect errors and an eventual max recursion error unless\n",
    "# we first import some other seemingly unrelated items in the imports above\n",
    "_delta_b_def"
   ]
  },
  {
   "cell_type": "code",
   "execution_count": null,
   "metadata": {},
   "outputs": [],
   "source": [
    "_best_round_def"
   ]
  },
  {
   "cell_type": "markdown",
   "metadata": {},
   "source": [
    "Elsewhere we have already established that $b_{r} \\in \\{0, \\ldots, 2^t - 1\\}$:"
   ]
  },
  {
   "cell_type": "code",
   "execution_count": null,
   "metadata": {},
   "outputs": [],
   "source": [
    "from proveit.physics.quantum.QPE import _best_round_is_int\n",
    "_best_round_is_int"
   ]
  },
  {
   "cell_type": "code",
   "execution_count": null,
   "metadata": {},
   "outputs": [],
   "source": [
    "# for convenience (consider omitting later)\n",
    "_scaled_phase = _best_round_def.rhs.operand"
   ]
  },
  {
   "cell_type": "markdown",
   "metadata": {},
   "source": [
    "Convert the round() operation to a floor!"
   ]
  },
  {
   "cell_type": "code",
   "execution_count": null,
   "metadata": {},
   "outputs": [],
   "source": [
    "from proveit.numbers.rounding import round_in_terms_of_floor\n",
    "round_in_terms_of_floor"
   ]
  },
  {
   "cell_type": "code",
   "execution_count": null,
   "metadata": {},
   "outputs": [],
   "source": [
    "from proveit import x\n",
    "round_in_terms_of_floor_inst = round_in_terms_of_floor.instantiate({x: _scaled_phase })"
   ]
  },
  {
   "cell_type": "code",
   "execution_count": null,
   "metadata": {},
   "outputs": [],
   "source": [
    "b_round_as_floor = round_in_terms_of_floor_inst.sub_right_side_into(_best_round_def)"
   ]
  },
  {
   "cell_type": "code",
   "execution_count": null,
   "metadata": {},
   "outputs": [],
   "source": [
    "from proveit import b\n",
    "from proveit.physics.quantum.QPE import _b_floor\n",
    "_delta_b_def_inst = _delta_b_def.instantiate({b: _b_round})"
   ]
  },
  {
   "cell_type": "code",
   "execution_count": null,
   "metadata": {},
   "outputs": [],
   "source": [
    "eq_01 = _delta_b_def_inst.substitution(_scaled_delta)"
   ]
  },
  {
   "cell_type": "code",
   "execution_count": null,
   "metadata": {},
   "outputs": [],
   "source": [
    "eq_02 = eq_01.inner_expr().rhs.distribute(1)"
   ]
  },
  {
   "cell_type": "code",
   "execution_count": null,
   "metadata": {},
   "outputs": [],
   "source": [
    "b_round_as_floor_commuted = b_round_as_floor.inner_expr().rhs.operand.operands[0].commute()"
   ]
  },
  {
   "cell_type": "code",
   "execution_count": null,
   "metadata": {},
   "outputs": [],
   "source": [
    "eq_03 = (eq_02.inner_expr().rhs.operands[1].\n",
    "         operand.substitute(b_round_as_floor_commuted.rhs))"
   ]
  },
  {
   "cell_type": "code",
   "execution_count": null,
   "metadata": {},
   "outputs": [],
   "source": [
    "from proveit.numbers import one, two, Add, frac, Neg\n",
    "desired_expr = Add(eq_03.rhs.operands[0], frac(one, two),\n",
    "                   eq_03.rhs.operands[1], Neg(frac(one, two)))"
   ]
  },
  {
   "cell_type": "code",
   "execution_count": null,
   "metadata": {},
   "outputs": [],
   "source": [
    "from proveit.logic import Equals\n",
    "_scaled_delta_expr_manipulated = Equals(desired_expr, eq_03.rhs).prove()"
   ]
  },
  {
   "cell_type": "code",
   "execution_count": null,
   "metadata": {},
   "outputs": [],
   "source": [
    "eq_04 = _scaled_delta_expr_manipulated.sub_left_side_into(eq_03)"
   ]
  },
  {
   "cell_type": "code",
   "execution_count": null,
   "metadata": {},
   "outputs": [],
   "source": [
    "from proveit.numbers.rounding import real_minus_floor_interval\n",
    "real_minus_floor_interval"
   ]
  },
  {
   "cell_type": "code",
   "execution_count": null,
   "metadata": {},
   "outputs": [],
   "source": [
    "from proveit import x\n",
    "diff_domain = real_minus_floor_interval.instantiate(\n",
    "    {x : Add(eq_03.rhs.operands[0], frac(one, two))})"
   ]
  },
  {
   "cell_type": "code",
   "execution_count": null,
   "metadata": {},
   "outputs": [],
   "source": [
    "diff_lower_bound = diff_domain.derive_element_lower_bound()"
   ]
  },
  {
   "cell_type": "code",
   "execution_count": null,
   "metadata": {},
   "outputs": [],
   "source": [
    "diff_upper_bound = diff_domain.derive_element_upper_bound()"
   ]
  },
  {
   "cell_type": "code",
   "execution_count": null,
   "metadata": {},
   "outputs": [],
   "source": [
    "# This works, but the auto_simplify=False is needed to keep the eq_04.rhs expression\n",
    "# from being simplified (by canceling the introduced ±1/2 terms)\n",
    "eq_04.rhs.bound_via_term_bound(diff_upper_bound, auto_simplify=False)"
   ]
  },
  {
   "cell_type": "code",
   "execution_count": null,
   "metadata": {},
   "outputs": [],
   "source": [
    "# This works, but the auto_simplify=False is needed to keep the eq_04.rhs expression\n",
    "# from being simplified (by canceling the introduced ±1/2 terms)\n",
    "eq_04.rhs.bound_via_term_bound(diff_lower_bound, auto_simplify=False)"
   ]
  },
  {
   "cell_type": "code",
   "execution_count": null,
   "metadata": {},
   "outputs": [],
   "source": [
    "%qed"
   ]
  },
  {
   "cell_type": "code",
   "execution_count": null,
   "metadata": {},
   "outputs": [],
   "source": []
  }
 ],
 "metadata": {
  "kernelspec": {
   "display_name": "Python 3",
   "language": "python",
   "name": "python3"
  }
 },
 "nbformat": 4,
 "nbformat_minor": 0
}
