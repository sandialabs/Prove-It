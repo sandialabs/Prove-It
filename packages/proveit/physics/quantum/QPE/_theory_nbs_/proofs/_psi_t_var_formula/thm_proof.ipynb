{
 "cells": [
  {
   "cell_type": "markdown",
   "metadata": {},
   "source": [
    "Proof of <a class=\"ProveItLink\" href=\"../../../../../../_theory_nbs_/theory.ipynb\">proveit</a>.<a class=\"ProveItLink\" href=\"../../../../../_theory_nbs_/theory.ipynb\">physics</a>.<a class=\"ProveItLink\" href=\"../../../../_theory_nbs_/theory.ipynb\">quantum</a>.<a class=\"ProveItLink\" href=\"../../theory.ipynb\">QPE</a>.<a class=\"ProveItLink\" href=\"../../theorems.ipynb#_psi_t_var_formula\">_psi_t_var_formula</a> theorem\n",
    "========"
   ]
  },
  {
   "cell_type": "code",
   "execution_count": null,
   "metadata": {},
   "outputs": [],
   "source": [
    "import proveit\n",
    "theory = proveit.Theory() # the theorem's theory\n",
    "from proveit import a, b, c, k, m, n, t, P, defaults, Function\n",
    "from proveit.logic import Equals, InSet\n",
    "from proveit.numbers import (\n",
    "        zero, one, two, i, e, pi, Add, Exp, Less, LessEq, Mult, Neg, subtract)\n",
    "from proveit.numbers import Complex, Interval, Natural\n",
    "from proveit.numbers.exponentiation import (\n",
    "        add_one_right_in_exp, exp_eq_for_eq_base_and_exp, exponential_monotonocity)\n",
    "from proveit.numbers.number_sets.natural_numbers import fold_forall_natural_pos\n",
    "from proveit.physics.quantum.QPE import _phase, _phase_is_real"
   ]
  },
  {
   "cell_type": "code",
   "execution_count": null,
   "metadata": {},
   "outputs": [],
   "source": [
    "%proving _psi_t_var_formula"
   ]
  },
  {
   "cell_type": "code",
   "execution_count": null,
   "metadata": {},
   "outputs": [],
   "source": [
    "defaults.assumptions = _psi_t_var_formula.all_conditions()"
   ]
  },
  {
   "cell_type": "code",
   "execution_count": null,
   "metadata": {},
   "outputs": [],
   "source": [
    "# the induction theorem for positive naturals\n",
    "fold_forall_natural_pos"
   ]
  },
  {
   "cell_type": "code",
   "execution_count": null,
   "metadata": {},
   "outputs": [],
   "source": [
    "# instantiate the induction theorem\n",
    "induction_inst = fold_forall_natural_pos.instantiate(\n",
    "    {Function(P,t):_psi_t_var_formula.instance_expr, m:t, n:t})"
   ]
  },
  {
   "cell_type": "markdown",
   "metadata": {},
   "source": [
    "### Some Related Properties and Definitions Needed for Later Processing\n",
    "Mainly: some domains and orderings. Notice that throughout this section devoted to the induction proof, $t$ is a _variable_, not a literal."
   ]
  },
  {
   "cell_type": "code",
   "execution_count": null,
   "metadata": {},
   "outputs": [],
   "source": [
    "# used when processing products involving the phase phi\n",
    "_phase_is_real"
   ]
  },
  {
   "cell_type": "code",
   "execution_count": null,
   "metadata": {},
   "outputs": [],
   "source": [
    "two_pow_t_var_less_one = subtract(Exp(two, t), one)"
   ]
  },
  {
   "cell_type": "code",
   "execution_count": null,
   "metadata": {},
   "outputs": [],
   "source": [
    "two_pow_t_var_less_one.deduce_in_number_set(Natural)"
   ]
  },
  {
   "cell_type": "code",
   "execution_count": null,
   "metadata": {},
   "outputs": [],
   "source": [
    "LessEq(zero, two_pow_t_var_less_one).prove()"
   ]
  },
  {
   "cell_type": "code",
   "execution_count": null,
   "metadata": {},
   "outputs": [],
   "source": [
    "Less(t, Add(t, one)).prove()"
   ]
  },
  {
   "cell_type": "code",
   "execution_count": null,
   "metadata": {},
   "outputs": [],
   "source": [
    "exponential_monotonocity"
   ]
  },
  {
   "cell_type": "code",
   "execution_count": null,
   "metadata": {},
   "outputs": [],
   "source": [
    "exponential_monotonocity_inst = exponential_monotonocity.instantiate({a: two, b: t, c: Add(t, one)})"
   ]
  },
  {
   "cell_type": "code",
   "execution_count": null,
   "metadata": {},
   "outputs": [],
   "source": [
    "# Used to allow a splitting of a summation into the sum of two summations\n",
    "exponential_monotonocity_inst.derive_shifted(Neg(one))"
   ]
  },
  {
   "cell_type": "markdown",
   "metadata": {},
   "source": [
    "For later summation index manipulations, we want to establish that $2^{t+1}-2^{t} = 2^{t}$ (and more specifically we will need $2^{t+1}-2^{t}-1 = 2^{t}-1$)."
   ]
  },
  {
   "cell_type": "code",
   "execution_count": null,
   "metadata": {},
   "outputs": [],
   "source": [
    "add_one_right_in_exp"
   ]
  },
  {
   "cell_type": "code",
   "execution_count": null,
   "metadata": {},
   "outputs": [],
   "source": [
    "two_to_quant_t_var_plus_1_factored = add_one_right_in_exp.instantiate(\n",
    "        {a: two, b: t}).derive_reversed()"
   ]
  },
  {
   "cell_type": "code",
   "execution_count": null,
   "metadata": {},
   "outputs": [],
   "source": [
    "index_shift_simplification = two_to_quant_t_var_plus_1_factored.substitution(\n",
    "        subtract(Exp(two, Add(t, one)), Exp(two, t)))"
   ]
  },
  {
   "cell_type": "code",
   "execution_count": null,
   "metadata": {},
   "outputs": [],
   "source": [
    "# index_shift_simplification = index_shift_simplification.inner_expr().rhs.simplify()"
   ]
  },
  {
   "cell_type": "code",
   "execution_count": null,
   "metadata": {},
   "outputs": [],
   "source": [
    "index_shift_simplification = index_shift_simplification.right_add_both_sides(Neg(one))"
   ]
  },
  {
   "cell_type": "code",
   "execution_count": null,
   "metadata": {},
   "outputs": [],
   "source": [
    "index_shift_simplification = index_shift_simplification.inner_expr().lhs.commute(init_idx=1, final_idx=2)"
   ]
  },
  {
   "cell_type": "markdown",
   "metadata": {},
   "source": [
    "### Base Case"
   ]
  },
  {
   "cell_type": "code",
   "execution_count": null,
   "metadata": {},
   "outputs": [],
   "source": [
    "base_case = induction_inst.antecedent.operands[0]"
   ]
  },
  {
   "cell_type": "markdown",
   "metadata": {},
   "source": [
    "We have $|\\psi_{t}\\rangle$ defined as a tensor product (the result of the first phase of the quantum circuit, and the LHS of Nielsen & Chuang's identity 5.20 on pg 222):"
   ]
  },
  {
   "cell_type": "code",
   "execution_count": null,
   "metadata": {},
   "outputs": [],
   "source": [
    "from proveit.physics.quantum.QPE import _psi_t_var_as_tensor_prod\n",
    "_psi_t_var_as_tensor_prod"
   ]
  },
  {
   "cell_type": "markdown",
   "metadata": {},
   "source": [
    "For $\\psi'_{1}$, we prove a useful equality then instantiate the `psi_t_var_as_tensor_prod` with $t=1$:"
   ]
  },
  {
   "cell_type": "code",
   "execution_count": null,
   "metadata": {},
   "outputs": [],
   "source": [
    "psi_1_def = _psi_t_var_as_tensor_prod.instantiate({t:one})"
   ]
  },
  {
   "cell_type": "markdown",
   "metadata": {},
   "source": [
    "Then show that the summation formula also gives the same qbit result"
   ]
  },
  {
   "cell_type": "code",
   "execution_count": null,
   "metadata": {},
   "outputs": [],
   "source": [
    "sum_0_to_1 = base_case.rhs"
   ]
  },
  {
   "cell_type": "code",
   "execution_count": null,
   "metadata": {},
   "outputs": [],
   "source": [
    "sum_0_to_1_processed_01 = sum_0_to_1.inner_expr().operands[1].partitioning_first()"
   ]
  },
  {
   "cell_type": "code",
   "execution_count": null,
   "metadata": {},
   "outputs": [],
   "source": [
    "# finish off the Base Case\n",
    "base_case_jdgmt = sum_0_to_1_processed_01.sub_left_side_into(psi_1_def)"
   ]
  },
  {
   "cell_type": "markdown",
   "metadata": {},
   "source": [
    "### Inductive Step"
   ]
  },
  {
   "cell_type": "code",
   "execution_count": null,
   "metadata": {},
   "outputs": [],
   "source": [
    "inductive_step = induction_inst.antecedent.operands[1]"
   ]
  },
  {
   "cell_type": "code",
   "execution_count": null,
   "metadata": {},
   "outputs": [],
   "source": [
    "defaults.assumptions = defaults.assumptions + inductive_step.conditions.entries"
   ]
  },
  {
   "cell_type": "code",
   "execution_count": null,
   "metadata": {},
   "outputs": [],
   "source": [
    "scalar_coeff = inductive_step.instance_expr.rhs.scalar"
   ]
  },
  {
   "cell_type": "markdown",
   "metadata": {},
   "source": [
    "First, partition the summation:\n",
    "$\\sum_{k=0}^{2^{t+1}-1} e^{2\\pi i \\varphi k} |k\\rangle_{t+1} = \\sum_{k=0}^{2^{t}-1} e^{2\\pi i \\varphi k} |k\\rangle_{t+1} + \\sum_{k=2^{t}}^{2^{t+1}-1} e^{2\\pi i \\varphi k} |k\\rangle_{t+1}$"
   ]
  },
  {
   "cell_type": "code",
   "execution_count": null,
   "metadata": {},
   "outputs": [],
   "source": [
    "summation_partition_01 = (\n",
    "    inductive_step.instance_expr.rhs.operands[1]\n",
    "    .partitioning(two_pow_t_var_less_one))"
   ]
  },
  {
   "cell_type": "markdown",
   "metadata": {},
   "source": [
    "Then shift the second summation of that partition, so that the two summations then have the same index domain:"
   ]
  },
  {
   "cell_type": "code",
   "execution_count": null,
   "metadata": {},
   "outputs": [],
   "source": [
    "summation_partition_02 = summation_partition_01.inner_expr().rhs.operands[1].shift(Neg(Exp(two, t)))"
   ]
  },
  {
   "cell_type": "code",
   "execution_count": null,
   "metadata": {},
   "outputs": [],
   "source": [
    "# recall the following simplification engineered earlier in the nb:\n",
    "index_shift_simplification"
   ]
  },
  {
   "cell_type": "code",
   "execution_count": null,
   "metadata": {},
   "outputs": [],
   "source": [
    "summation_partition_03 = summation_partition_02.inner_expr().rhs.operands[1].domain.upper_bound.substitute(index_shift_simplification)"
   ]
  },
  {
   "cell_type": "markdown",
   "metadata": {},
   "source": [
    "We want to rewrite the summand of that 2nd summation on the rhs now by (1) expanding the exponential term and (2) rewriting the $|k+2^t{\\rangle}_{t+1}$ ket as $|1\\rangle \\otimes |k{\\rangle}_t$. This takes a little work."
   ]
  },
  {
   "cell_type": "code",
   "execution_count": null,
   "metadata": {},
   "outputs": [],
   "source": [
    "rhs_2nd_sum = summation_partition_03.rhs.operands[1]"
   ]
  },
  {
   "cell_type": "code",
   "execution_count": null,
   "metadata": {},
   "outputs": [],
   "source": [
    "summand_processed_01 = rhs_2nd_sum.summand.inner_expr().operands[0].exponent.distribution(\n",
    "    4, assumptions=[*defaults.assumptions,\n",
    "                    InSet(k, Interval(zero, subtract(Exp(two, t), one)))])"
   ]
  },
  {
   "cell_type": "code",
   "execution_count": null,
   "metadata": {},
   "outputs": [],
   "source": [
    "summand_processed_02 = summand_processed_01.inner_expr().rhs.operands[0].exponent_separate(assumptions=[*defaults.assumptions, InSet(k, Interval(zero, subtract(Exp(two, t), one)))])"
   ]
  },
  {
   "cell_type": "code",
   "execution_count": null,
   "metadata": {},
   "outputs": [],
   "source": [
    "# commute the NumKet num operands to format it for replacement later using the prepend_num_ket_with_one_ket thm\n",
    "summand_processed_03 = summand_processed_02.inner_expr().rhs.operands[1].num.commute(\n",
    "    assumptions=[*defaults.assumptions, InSet(k, Interval(zero, subtract(Exp(two, t), one)))])"
   ]
  },
  {
   "cell_type": "code",
   "execution_count": null,
   "metadata": {},
   "outputs": [],
   "source": [
    "from proveit.physics.quantum.algebra import prepend_num_ket_with_one_ket\n",
    "prepend_num_ket_with_one_ket"
   ]
  },
  {
   "cell_type": "code",
   "execution_count": null,
   "metadata": {},
   "outputs": [],
   "source": [
    "prepend_num_ket_with_one_ket_inst = prepend_num_ket_with_one_ket.instantiate(\n",
    "        {n: t, k: k}, assumptions=[*defaults.assumptions, InSet(k, Interval(zero, subtract(Exp(two, t), one)))])"
   ]
  },
  {
   "cell_type": "code",
   "execution_count": null,
   "metadata": {},
   "outputs": [],
   "source": [
    "summand_processed_04 = (\n",
    "    summand_processed_03.inner_expr().rhs.operands[1]\n",
    "    .substitute(prepend_num_ket_with_one_ket_inst))"
   ]
  },
  {
   "cell_type": "code",
   "execution_count": null,
   "metadata": {},
   "outputs": [],
   "source": [
    "summand_processed_05 = summand_processed_04.inner_expr().rhs.operands[0].commute(assumptions=[*defaults.assumptions, InSet(k, Interval(zero, subtract(Exp(two, t), one)))])"
   ]
  },
  {
   "cell_type": "code",
   "execution_count": null,
   "metadata": {},
   "outputs": [],
   "source": [
    "# reminder of summation_partition_03\n",
    "summation_partition_03"
   ]
  },
  {
   "cell_type": "code",
   "execution_count": null,
   "metadata": {},
   "outputs": [],
   "source": [
    "# Now substitute our summand processing into the larger summations expression\n",
    "summation_partition_04 = (\n",
    "    summation_partition_03.inner_expr().rhs.operands[1].summand.substitute(\n",
    "        summand_processed_05))"
   ]
  },
  {
   "cell_type": "markdown",
   "metadata": {},
   "source": [
    "Also process the summand in the 1st sum on the rhs, converting the ket $|k\\rangle_{t+1}$ to the tensor product $|0\\rangle \\otimes |k\\rangle_{t}$:"
   ]
  },
  {
   "cell_type": "code",
   "execution_count": null,
   "metadata": {},
   "outputs": [],
   "source": [
    "# pull up the relevant NumKet theorem\n",
    "from proveit.physics.quantum.algebra import prepend_num_ket_with_zero_ket\n",
    "prepend_num_ket_with_zero_ket"
   ]
  },
  {
   "cell_type": "code",
   "execution_count": null,
   "metadata": {},
   "outputs": [],
   "source": [
    "# instantiate the theorem for our specific case\n",
    "prepend_num_ket_with_zero_ket_inst = prepend_num_ket_with_zero_ket.instantiate(\n",
    "        {n: t, k: k}, assumptions=[*defaults.assumptions, InSet(k, Interval(zero, subtract(Exp(two, t), one)))])"
   ]
  },
  {
   "cell_type": "code",
   "execution_count": null,
   "metadata": {},
   "outputs": [],
   "source": [
    "# use our instantiation to substitute\n",
    "summation_partition_05 = (\n",
    "    summation_partition_04.inner_expr().rhs.operands[0].summand.scaled.substitute(\n",
    "    prepend_num_ket_with_zero_ket_inst))"
   ]
  },
  {
   "cell_type": "markdown",
   "metadata": {},
   "source": [
    "We also then want to:\n",
    "\n",
    "(1) pull the tensor product out of the 2nd summation, and\n",
    "\n",
    "(2) pull the non-$k$-dependent exponential factor out of the 2nd summation."
   ]
  },
  {
   "cell_type": "code",
   "execution_count": null,
   "metadata": {},
   "outputs": [],
   "source": [
    "# for convenience:\n",
    "temp_factors = summation_partition_04.rhs.operands[1].summand.operands[0]"
   ]
  },
  {
   "cell_type": "code",
   "execution_count": null,
   "metadata": {},
   "outputs": [],
   "source": [
    "# for convenience:\n",
    "temp_factor_01 = temp_factors.operands[0]"
   ]
  },
  {
   "cell_type": "code",
   "execution_count": null,
   "metadata": {},
   "outputs": [],
   "source": [
    "# for convenience:\n",
    "temp_factor_02 = temp_factors.operands[1]"
   ]
  },
  {
   "cell_type": "code",
   "execution_count": null,
   "metadata": {},
   "outputs": [],
   "source": [
    "type(temp_factor_02.exponent.operands[2])"
   ]
  },
  {
   "cell_type": "code",
   "execution_count": null,
   "metadata": {},
   "outputs": [],
   "source": [
    "# another convenience: an expr for the current domain of index k\n",
    "k_domain = summation_partition_04.rhs.operands[1].conditions[0]"
   ]
  },
  {
   "cell_type": "code",
   "execution_count": null,
   "metadata": {},
   "outputs": [],
   "source": [
    "from proveit.linear_algebra import VecSpaces\n",
    "from proveit.numbers import Real\n",
    "VecSpaces.default_field=Complex\n",
    "summation_partition_06 = summation_partition_05.inner_expr().rhs.operands[1].factors_extract(\n",
    "    field=None)"
   ]
  },
  {
   "cell_type": "code",
   "execution_count": null,
   "metadata": {},
   "outputs": [],
   "source": [
    "summation_partition_07 = (\n",
    "    summation_partition_06.inner_expr().rhs.operands[0].factors_extract())"
   ]
  },
  {
   "cell_type": "markdown",
   "metadata": {},
   "source": [
    "Now factor out the common vector summation factor in the two terms of the rhs. We do this via the direct application of a manually-instantiated theorem about distribution of tensor product over a vector sum."
   ]
  },
  {
   "cell_type": "code",
   "execution_count": null,
   "metadata": {},
   "outputs": [],
   "source": [
    "from proveit.linear_algebra.tensors import tensor_prod_distribution_over_add\n",
    "tensor_prod_distribution_over_add"
   ]
  },
  {
   "cell_type": "code",
   "execution_count": null,
   "metadata": {},
   "outputs": [],
   "source": [
    "from proveit.linear_algebra import ScalarMult, TensorProd, VecAdd, VecSpaces\n",
    "from proveit.physics.quantum import Ket\n",
    "desired_expr = TensorProd(VecAdd(Ket(zero),  ScalarMult( temp_factor_01, Ket(one))),\n",
    "                         summation_partition_07.rhs.operands[0].operands[1])"
   ]
  },
  {
   "cell_type": "code",
   "execution_count": null,
   "metadata": {},
   "outputs": [],
   "source": [
    "vec_space_membership = desired_expr.deduce_in_vec_space(field=None)"
   ]
  },
  {
   "cell_type": "code",
   "execution_count": null,
   "metadata": {},
   "outputs": [],
   "source": [
    "from proveit import ExprTuple\n",
    "_V_sub, _K_sub, _a_sub, _i_sub, _b_sub, _j_sub, _c_sub, _k_sub  = (\n",
    "    vec_space_membership.domain, VecSpaces.known_field(vec_space_membership.domain),\n",
    "    (), zero,\n",
    "    desired_expr.operands[0].operands, two, \n",
    "    ExprTuple(desired_expr.operands[1]), one)"
   ]
  },
  {
   "cell_type": "code",
   "execution_count": null,
   "metadata": {},
   "outputs": [],
   "source": [
    "from proveit import a, b, c, j, k, K, V, Variable\n",
    "i_var = Variable('i')\n",
    "impl = tensor_prod_distribution_over_add.instantiate(\n",
    "    {V: _V_sub, K: _K_sub, a: _a_sub, b: _b_sub, c: _c_sub,\n",
    "     i_var: _i_sub, j: _j_sub, k: _k_sub})"
   ]
  },
  {
   "cell_type": "code",
   "execution_count": null,
   "metadata": {},
   "outputs": [],
   "source": [
    "factored_sub = impl.derive_consequent().derive_reversed()"
   ]
  },
  {
   "cell_type": "code",
   "execution_count": null,
   "metadata": {},
   "outputs": [],
   "source": [
    "summation_partition_09 = summation_partition_07.inner_expr().rhs.substitute(factored_sub)"
   ]
  },
  {
   "cell_type": "markdown",
   "metadata": {},
   "source": [
    "Reintroduce the scalar coefficient:"
   ]
  },
  {
   "cell_type": "code",
   "execution_count": null,
   "metadata": {},
   "outputs": [],
   "source": [
    "summation_partition_10 = inductive_step.instance_expr.rhs.inner_expr().scaled.substitution(summation_partition_09)"
   ]
  },
  {
   "cell_type": "markdown",
   "metadata": {},
   "source": [
    "Manipulate our scalar coefficient in preparation for distribution a portion of it across the tensor product:"
   ]
  },
  {
   "cell_type": "code",
   "execution_count": null,
   "metadata": {},
   "outputs": [],
   "source": [
    "# recall\n",
    "scalar_coeff"
   ]
  },
  {
   "cell_type": "code",
   "execution_count": null,
   "metadata": {},
   "outputs": [],
   "source": [
    "scalar_coeff_02 = scalar_coeff.inner_expr().denominator.exponent.distribution()"
   ]
  },
  {
   "cell_type": "code",
   "execution_count": null,
   "metadata": {},
   "outputs": [],
   "source": [
    "scalar_coeff_03 = scalar_coeff_02.inner_expr().rhs.denominator.exponent_separate()"
   ]
  },
  {
   "cell_type": "code",
   "execution_count": null,
   "metadata": {},
   "outputs": [],
   "source": [
    "from proveit.numbers import frac\n",
    "scalar_coeff_04 = scalar_coeff_03.inner_expr().rhs.factor(frac(one, Exp(two, frac(one, two))))"
   ]
  },
  {
   "cell_type": "code",
   "execution_count": null,
   "metadata": {},
   "outputs": [],
   "source": [
    "summation_partition_11 = summation_partition_10.inner_expr().rhs.scalar.substitute(scalar_coeff_04)"
   ]
  },
  {
   "cell_type": "code",
   "execution_count": null,
   "metadata": {},
   "outputs": [],
   "source": [
    "# represent the desired (distributed scalar-product) outcome:\n",
    "desired_expr = (\n",
    "    TensorProd(\n",
    "        ScalarMult(frac(one, Exp(two, frac(one, two))), summation_partition_11.rhs.scaled.operands[0]),\n",
    "        ScalarMult(frac(one, Exp(two, frac(t, two))), summation_partition_11.rhs.scaled.operands[1])\n",
    "    ))"
   ]
  },
  {
   "cell_type": "code",
   "execution_count": null,
   "metadata": {},
   "outputs": [],
   "source": [
    "# let Prove-It prove the equality:\n",
    "distrib_equality = Equals(summation_partition_11.rhs, desired_expr).prove()"
   ]
  },
  {
   "cell_type": "code",
   "execution_count": null,
   "metadata": {},
   "outputs": [],
   "source": [
    "# now use that equality in our earlier work:\n",
    "conclusion_01 = distrib_equality.sub_right_side_into(summation_partition_11)"
   ]
  },
  {
   "cell_type": "code",
   "execution_count": null,
   "metadata": {},
   "outputs": [],
   "source": [
    "# Recall our inductive hypothesis:\n",
    "for item in defaults.assumptions:\n",
    "    if isinstance(item, Equals):\n",
    "        inductive_hypothesis = item\n",
    "inductive_hypothesis"
   ]
  },
  {
   "cell_type": "code",
   "execution_count": null,
   "metadata": {},
   "outputs": [],
   "source": [
    "# use the inductive hypothesis:\n",
    "conclusion_02 = inductive_hypothesis.sub_left_side_into(conclusion_01)"
   ]
  },
  {
   "cell_type": "markdown",
   "metadata": {},
   "source": [
    "The RHS of conclusion_02 above should be equal to $|\\psi_{t+1}\\rangle$. Let's see how to get there. Ideally we could use the next three cells to show the rhs of the equality in `conclusion_2` is equal to $|\\psi_{t+1}\\rangle$"
   ]
  },
  {
   "cell_type": "code",
   "execution_count": null,
   "metadata": {},
   "outputs": [],
   "source": [
    "_psi_t_var_as_tensor_prod"
   ]
  },
  {
   "cell_type": "code",
   "execution_count": null,
   "metadata": {},
   "outputs": [],
   "source": [
    "psi_t_as_tensor_prod = _psi_t_var_as_tensor_prod.instantiate()"
   ]
  },
  {
   "cell_type": "code",
   "execution_count": null,
   "metadata": {},
   "outputs": [],
   "source": [
    "psi_t_plus_one_as_tensor_prod = _psi_t_var_as_tensor_prod.instantiate({t:Add(t, one)})"
   ]
  },
  {
   "cell_type": "code",
   "execution_count": null,
   "metadata": {},
   "outputs": [],
   "source": [
    "conclusion_02.inner_expr().rhs.operands[1].substitution(\n",
    "        psi_t_as_tensor_prod)"
   ]
  },
  {
   "cell_type": "markdown",
   "metadata": {},
   "source": [
    "The following three cell/steps needed so that the `substitute` step will be able to perform the desired simplification, pulling the coefficients out to the front:"
   ]
  },
  {
   "cell_type": "code",
   "execution_count": null,
   "metadata": {},
   "outputs": [],
   "source": [
    "from proveit.numbers import greater_eq, NaturalPos\n",
    "t_greater_eq_one = greater_eq(t, one).prove()"
   ]
  },
  {
   "cell_type": "code",
   "execution_count": null,
   "metadata": {},
   "outputs": [],
   "source": [
    "t_minus_one_greater_eq_zero = t_greater_eq_one.right_add_both_sides(Neg(one))"
   ]
  },
  {
   "cell_type": "code",
   "execution_count": null,
   "metadata": {},
   "outputs": [],
   "source": [
    "t_minus_one_greater_eq_zero.derive_negated()"
   ]
  },
  {
   "cell_type": "markdown",
   "metadata": {},
   "source": [
    "Now this `substitute()` step will also manage to pull the scalar coefficients out to the front in the process:"
   ]
  },
  {
   "cell_type": "code",
   "execution_count": null,
   "metadata": {},
   "outputs": [],
   "source": [
    "conclusion_03 = conclusion_02.inner_expr().rhs.operands[1].substitute(\n",
    "        psi_t_as_tensor_prod)"
   ]
  },
  {
   "cell_type": "code",
   "execution_count": null,
   "metadata": {},
   "outputs": [],
   "source": [
    "# conclusion_03.rhs.scaled.deduce_in_vec_space(field=Complex)"
   ]
  },
  {
   "cell_type": "markdown",
   "metadata": {},
   "source": [
    "Now we partition the tensor product expression of $\\psi_{t+1}$, so we can eventually show that it is equal to the rhs of conclusion_03."
   ]
  },
  {
   "cell_type": "code",
   "execution_count": null,
   "metadata": {},
   "outputs": [],
   "source": [
    "# to be used as a replacement in the partition step that follows\n",
    "neg_t_plus_one_sub = Neg(Add(t, Neg(one))).distribution().derive_reversed()"
   ]
  },
  {
   "cell_type": "code",
   "execution_count": null,
   "metadata": {},
   "outputs": [],
   "source": [
    "# we can partition the operands in the psi_{t+1} tensor prod expression\n",
    "expr_range_partitioned = psi_t_plus_one_as_tensor_prod.rhs.scaled.operands[0].partition(\n",
    "        Neg(t), replacements=[neg_t_plus_one_sub])"
   ]
  },
  {
   "cell_type": "code",
   "execution_count": null,
   "metadata": {},
   "outputs": [],
   "source": [
    "# needed explicitly(somewhat oddly) for the next step of substitution\n",
    "Add(t, one).commutation()"
   ]
  },
  {
   "cell_type": "code",
   "execution_count": null,
   "metadata": {},
   "outputs": [],
   "source": [
    "psi_t_plus_one_as_tensor_prod_02 = psi_t_plus_one_as_tensor_prod.inner_expr().rhs.scaled.operands.substitute(\n",
    "        expr_range_partitioned)"
   ]
  },
  {
   "cell_type": "code",
   "execution_count": null,
   "metadata": {},
   "outputs": [],
   "source": [
    "psi_t_plus_one_as_tensor_prod_03 = psi_t_plus_one_as_tensor_prod_02.inner_expr().rhs.scalar.substitute(scalar_coeff_04)"
   ]
  },
  {
   "cell_type": "code",
   "execution_count": null,
   "metadata": {},
   "outputs": [],
   "source": [
    "conclusion_03.inner_expr().rhs.substitute(psi_t_plus_one_as_tensor_prod_03.derive_reversed())"
   ]
  },
  {
   "cell_type": "code",
   "execution_count": null,
   "metadata": {},
   "outputs": [],
   "source": [
    "# recall our earlier instantiation of the induction theorem:\n",
    "induction_inst"
   ]
  },
  {
   "cell_type": "markdown",
   "metadata": {},
   "source": [
    "We have proven both pieces of the antecedent (_i.e._, the base case and inductive case) of the instantiated induction theorem `induction_inst`, so we can now derive the consequent:"
   ]
  },
  {
   "cell_type": "code",
   "execution_count": null,
   "metadata": {},
   "outputs": [],
   "source": [
    "induction_inst.derive_consequent()"
   ]
  },
  {
   "cell_type": "code",
   "execution_count": null,
   "metadata": {},
   "outputs": [],
   "source": [
    "%qed"
   ]
  },
  {
   "cell_type": "code",
   "execution_count": null,
   "metadata": {},
   "outputs": [],
   "source": []
  }
 ],
 "metadata": {
  "kernelspec": {
   "display_name": "Python 3",
   "language": "python",
   "name": "python3"
  }
 },
 "nbformat": 4,
 "nbformat_minor": 0
}
