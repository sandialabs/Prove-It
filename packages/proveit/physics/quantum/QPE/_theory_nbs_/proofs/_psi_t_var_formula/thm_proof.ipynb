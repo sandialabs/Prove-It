{
 "cells": [
  {
   "cell_type": "markdown",
   "metadata": {},
   "source": [
    "Proof of <a class=\"ProveItLink\" href=\"../../../../../../_theory_nbs_/theory.ipynb\">proveit</a>.<a class=\"ProveItLink\" href=\"../../../../../_theory_nbs_/theory.ipynb\">physics</a>.<a class=\"ProveItLink\" href=\"../../../../_theory_nbs_/theory.ipynb\">quantum</a>.<a class=\"ProveItLink\" href=\"../../theory.ipynb\">QPE</a>.<a class=\"ProveItLink\" href=\"../../theorems.ipynb#_psi_t_var_formula\">_psi_t_var_formula</a> theorem\n",
    "========"
   ]
  },
  {
   "cell_type": "code",
   "execution_count": null,
   "metadata": {},
   "outputs": [],
   "source": [
    "import proveit\n",
    "theory = proveit.Theory() # the theorem's theory\n",
    "from proveit import a, b, c, k, m, n, t, P, defaults, Function\n",
    "from proveit.logic import Equals, InSet\n",
    "from proveit.numbers import zero, one, two, i, e, pi, Add, Exp, Less, LessEq, Mult, Neg, subtract\n",
    "from proveit.numbers import Complex, Interval, Natural\n",
    "from proveit.numbers.exponentiation import (\n",
    "        add_one_right_in_exp, exp_eq_for_eq_base_and_exp, exponential_monotonocity)\n",
    "from proveit.numbers.number_sets.natural_numbers import fold_forall_natural_pos\n",
    "from proveit.physics.quantum.QPE import _phase, _phase_is_real"
   ]
  },
  {
   "cell_type": "code",
   "execution_count": null,
   "metadata": {},
   "outputs": [],
   "source": [
    "%proving _psi_t_var_formula"
   ]
  },
  {
   "cell_type": "code",
   "execution_count": null,
   "metadata": {},
   "outputs": [],
   "source": [
    "defaults.assumptions = _psi_t_var_formula.all_conditions()"
   ]
  },
  {
   "cell_type": "code",
   "execution_count": null,
   "metadata": {},
   "outputs": [],
   "source": [
    "# the induction theorem for positive naturals\n",
    "fold_forall_natural_pos"
   ]
  },
  {
   "cell_type": "code",
   "execution_count": null,
   "metadata": {},
   "outputs": [],
   "source": [
    "# instantiate the induction theorem\n",
    "induction_inst = fold_forall_natural_pos.instantiate(\n",
    "    {Function(P,t):_psi_t_var_formula.instance_expr, m:t, n:t})"
   ]
  },
  {
   "cell_type": "markdown",
   "metadata": {},
   "source": [
    "### Some Related Properties and Definitions Needed for Later Processing\n",
    "Mainly: some domains and orderings. Notice that throughout this section devoted to the induction proof, $t$ is a _variable_, not a literal."
   ]
  },
  {
   "cell_type": "code",
   "execution_count": null,
   "metadata": {},
   "outputs": [],
   "source": [
    "# used when processing products involving the phase phi\n",
    "_phase_is_real"
   ]
  },
  {
   "cell_type": "code",
   "execution_count": null,
   "metadata": {},
   "outputs": [],
   "source": [
    "two_pow_t_var_less_one = subtract(Exp(two, t), one)"
   ]
  },
  {
   "cell_type": "code",
   "execution_count": null,
   "metadata": {},
   "outputs": [],
   "source": [
    "# two_pow_t_less_one_is_nat_pos"
   ]
  },
  {
   "cell_type": "code",
   "execution_count": null,
   "metadata": {},
   "outputs": [],
   "source": [
    "two_pow_t_var_less_one.deduce_in_number_set(Natural)"
   ]
  },
  {
   "cell_type": "code",
   "execution_count": null,
   "metadata": {},
   "outputs": [],
   "source": [
    "LessEq(zero, two_pow_t_var_less_one).prove()"
   ]
  },
  {
   "cell_type": "code",
   "execution_count": null,
   "metadata": {},
   "outputs": [],
   "source": [
    "Less(t, Add(t, one)).prove()"
   ]
  },
  {
   "cell_type": "code",
   "execution_count": null,
   "metadata": {},
   "outputs": [],
   "source": [
    "exponential_monotonocity"
   ]
  },
  {
   "cell_type": "code",
   "execution_count": null,
   "metadata": {},
   "outputs": [],
   "source": [
    "exponential_monotonocity_inst = exponential_monotonocity.instantiate({a: two, b: t, c: Add(t, one)})"
   ]
  },
  {
   "cell_type": "code",
   "execution_count": null,
   "metadata": {},
   "outputs": [],
   "source": [
    "# Used to allow a splitting of a summation into the sum of two summations\n",
    "exponential_monotonocity_inst.derive_shifted(Neg(one))"
   ]
  },
  {
   "cell_type": "markdown",
   "metadata": {},
   "source": [
    "For later summation index manipulations, we want to establish that $2^{t+1}-2^{t} = 2^{t}$ (and more specifically we will need $2^{t+1}-2^{t}-1 = 2^{t}-1$)."
   ]
  },
  {
   "cell_type": "code",
   "execution_count": null,
   "metadata": {},
   "outputs": [],
   "source": [
    "add_one_right_in_exp"
   ]
  },
  {
   "cell_type": "code",
   "execution_count": null,
   "metadata": {},
   "outputs": [],
   "source": [
    "two_to_quant_t_var_plus_1_factored = add_one_right_in_exp.instantiate(\n",
    "        {a: two, b: t}).derive_reversed()"
   ]
  },
  {
   "cell_type": "code",
   "execution_count": null,
   "metadata": {},
   "outputs": [],
   "source": [
    "index_shift_simplification = two_to_quant_t_var_plus_1_factored.substitution(\n",
    "        subtract(Exp(two, Add(t, one)), Exp(two, t)))"
   ]
  },
  {
   "cell_type": "code",
   "execution_count": null,
   "metadata": {},
   "outputs": [],
   "source": [
    "# step no longer needed\n",
    "# index_shift_simplification = index_shift_simplification.inner_expr().rhs.factor(\n",
    "#         Exp(two, t))"
   ]
  },
  {
   "cell_type": "code",
   "execution_count": null,
   "metadata": {},
   "outputs": [],
   "source": [
    "index_shift_simplification = index_shift_simplification.inner_expr().rhs.simplify()"
   ]
  },
  {
   "cell_type": "code",
   "execution_count": null,
   "metadata": {},
   "outputs": [],
   "source": [
    "index_shift_simplification = index_shift_simplification.right_add_both_sides(Neg(one))"
   ]
  },
  {
   "cell_type": "code",
   "execution_count": null,
   "metadata": {},
   "outputs": [],
   "source": [
    "index_shift_simplification = index_shift_simplification.inner_expr().lhs.commute(init_idx=1, final_idx=2)"
   ]
  },
  {
   "cell_type": "code",
   "execution_count": null,
   "metadata": {},
   "outputs": [],
   "source": [
    "# index_shift_simplification = index_shift_simplification.inner_expr().rhs.with_subtraction_at(1)"
   ]
  },
  {
   "cell_type": "markdown",
   "metadata": {},
   "source": [
    "### Base Case"
   ]
  },
  {
   "cell_type": "code",
   "execution_count": null,
   "metadata": {},
   "outputs": [],
   "source": [
    "base_case = induction_inst.antecedent.operands[0]"
   ]
  },
  {
   "cell_type": "markdown",
   "metadata": {},
   "source": [
    "We have $|\\psi_{t}\\rangle$ defined as a tensor product (the result of the first phase of the quantum circuit, and the LHS of Nielsen & Chuang's identity 5.20 on pg 222):"
   ]
  },
  {
   "cell_type": "code",
   "execution_count": null,
   "metadata": {},
   "outputs": [],
   "source": [
    "# need psi_t_var_def re-defined with a Ket instead of a NumKet on the left\n",
    "from proveit.physics.quantum.QPE import _psi_t_var_as_tensor_prod\n",
    "_psi_t_var_as_tensor_prod"
   ]
  },
  {
   "cell_type": "markdown",
   "metadata": {},
   "source": [
    "For $\\psi'_{1}$, we prove a useful equality then instantiate the `psi_t_var_as_tensor_prod` with $t=1$:"
   ]
  },
  {
   "cell_type": "code",
   "execution_count": null,
   "metadata": {},
   "outputs": [],
   "source": [
    "psi_1_def = _psi_t_var_as_tensor_prod.instantiate({t:one})"
   ]
  },
  {
   "cell_type": "markdown",
   "metadata": {},
   "source": [
    "Then show that the summation formula also gives the same qbit result"
   ]
  },
  {
   "cell_type": "code",
   "execution_count": null,
   "metadata": {},
   "outputs": [],
   "source": [
    "sum_0_to_1 = base_case.rhs"
   ]
  },
  {
   "cell_type": "code",
   "execution_count": null,
   "metadata": {},
   "outputs": [],
   "source": [
    "sum_0_to_1_processed_01 = sum_0_to_1.inner_expr().operands[1].partitioning_first()"
   ]
  },
  {
   "cell_type": "code",
   "execution_count": null,
   "metadata": {},
   "outputs": [],
   "source": [
    "# finish off the Base Case\n",
    "base_case_jdgmt = sum_0_to_1_processed_01.sub_left_side_into(psi_1_def)"
   ]
  },
  {
   "cell_type": "markdown",
   "metadata": {},
   "source": [
    "### Inductive Step"
   ]
  },
  {
   "cell_type": "code",
   "execution_count": null,
   "metadata": {},
   "outputs": [],
   "source": [
    "inductive_step = induction_inst.antecedent.operands[1]"
   ]
  },
  {
   "cell_type": "code",
   "execution_count": null,
   "metadata": {},
   "outputs": [],
   "source": [
    "defaults.assumptions = defaults.assumptions + inductive_step.conditions.entries"
   ]
  },
  {
   "cell_type": "markdown",
   "metadata": {},
   "source": [
    "First, partition the summation:\n",
    "$\\sum_{k=0}^{2^{t+1}-1} e^{2\\pi i \\varphi k} |k\\rangle_{t+1} = \\sum_{k=0}^{2^{t}-1} e^{2\\pi i \\varphi k} |k\\rangle_{t+1} + \\sum_{k=2^{t}}^{2^{t+1}-1} e^{2\\pi i \\varphi k} |k\\rangle_{t+1}$"
   ]
  },
  {
   "cell_type": "code",
   "execution_count": null,
   "metadata": {},
   "outputs": [],
   "source": [
    "summation_partition_01 = (\n",
    "    inductive_step.instance_expr.rhs.operands[1]\n",
    "    .partitioning(two_pow_t_var_less_one))"
   ]
  },
  {
   "cell_type": "markdown",
   "metadata": {},
   "source": [
    "Then shift the second summation of that partition, so that the two summations then have the same index domain:"
   ]
  },
  {
   "cell_type": "code",
   "execution_count": null,
   "metadata": {},
   "outputs": [],
   "source": [
    "summation_partition_02 = summation_partition_01.inner_expr().rhs.operands[1].shift(Neg(Exp(two, t)))"
   ]
  },
  {
   "cell_type": "code",
   "execution_count": null,
   "metadata": {},
   "outputs": [],
   "source": [
    "# recall the following simplification engineered earlier in the nb:\n",
    "index_shift_simplification"
   ]
  },
  {
   "cell_type": "code",
   "execution_count": null,
   "metadata": {},
   "outputs": [],
   "source": [
    "summation_partition_03 = summation_partition_02.inner_expr().rhs.operands[1].domain.upper_bound.substitute(index_shift_simplification)"
   ]
  },
  {
   "cell_type": "markdown",
   "metadata": {},
   "source": [
    "We want to rewrite the summand of that 2nd summation on the rhs now by (1) expanding the exponential term and (2) rewriting the $|k+2^t{\\rangle}_{t+1}$ ket as $|1\\rangle \\otimes |k{\\rangle}_t$. This takes a little work."
   ]
  },
  {
   "cell_type": "code",
   "execution_count": null,
   "metadata": {},
   "outputs": [],
   "source": [
    "rhs_2nd_sum = summation_partition_03.rhs.operands[1]"
   ]
  },
  {
   "cell_type": "code",
   "execution_count": null,
   "metadata": {},
   "outputs": [],
   "source": [
    "summand_processed_01 = rhs_2nd_sum.summand.inner_expr().operands[0].exponent.distribution(\n",
    "    4, assumptions=[*defaults.assumptions,\n",
    "                    InSet(k, Interval(zero, subtract(Exp(two, t), one)))])"
   ]
  },
  {
   "cell_type": "code",
   "execution_count": null,
   "metadata": {},
   "outputs": [],
   "source": [
    "summand_processed_02 = summand_processed_01.inner_expr().rhs.operands[0].exponent_separate(assumptions=[*defaults.assumptions, InSet(k, Interval(zero, subtract(Exp(two, t), one)))])"
   ]
  },
  {
   "cell_type": "code",
   "execution_count": null,
   "metadata": {},
   "outputs": [],
   "source": [
    "# commute the NumKet num operands to format it for replacement later using the prepend_num_ket_with_one_ket thm\n",
    "summand_processed_03 = summand_processed_02.inner_expr().rhs.operands[1].num.commute(\n",
    "    assumptions=[*defaults.assumptions, InSet(k, Interval(zero, subtract(Exp(two, t), one)))])"
   ]
  },
  {
   "cell_type": "code",
   "execution_count": null,
   "metadata": {},
   "outputs": [],
   "source": [
    "from proveit.physics.quantum.algebra import prepend_num_ket_with_one_ket\n",
    "prepend_num_ket_with_one_ket"
   ]
  },
  {
   "cell_type": "code",
   "execution_count": null,
   "metadata": {},
   "outputs": [],
   "source": [
    "prepend_num_ket_with_one_ket_inst = prepend_num_ket_with_one_ket.instantiate(\n",
    "        {n: t, k: k}, assumptions=[*defaults.assumptions, InSet(k, Interval(zero, subtract(Exp(two, t), one)))])"
   ]
  },
  {
   "cell_type": "code",
   "execution_count": null,
   "metadata": {},
   "outputs": [],
   "source": [
    "# can delete this cell later\n",
    "summand_processed_03"
   ]
  },
  {
   "cell_type": "code",
   "execution_count": null,
   "metadata": {},
   "outputs": [],
   "source": [
    "summand_processed_04 = (\n",
    "    summand_processed_03.inner_expr().rhs.operands[1]\n",
    "    .substitute(prepend_num_ket_with_one_ket_inst))"
   ]
  },
  {
   "cell_type": "code",
   "execution_count": null,
   "metadata": {},
   "outputs": [],
   "source": [
    "# old version\n",
    "# summand_processed_04 = multi_tensor_prod_induct_1_inst.sub_left_side_into(summand_processed_03)"
   ]
  },
  {
   "cell_type": "code",
   "execution_count": null,
   "metadata": {},
   "outputs": [],
   "source": [
    "summand_processed_05 = summand_processed_04.inner_expr().rhs.operands[0].commute(assumptions=[*defaults.assumptions, InSet(k, Interval(zero, subtract(Exp(two, t), one)))])"
   ]
  },
  {
   "cell_type": "code",
   "execution_count": null,
   "metadata": {},
   "outputs": [],
   "source": [
    "# summand_processed_generalized = summand_processed_05.generalize(k, domain=Interval(zero, subtract(Exp(two, t), one)))"
   ]
  },
  {
   "cell_type": "code",
   "execution_count": null,
   "metadata": {},
   "outputs": [],
   "source": [
    "# reminder of summation_partition_03\n",
    "summation_partition_03"
   ]
  },
  {
   "cell_type": "code",
   "execution_count": null,
   "metadata": {},
   "outputs": [],
   "source": [
    "# Now substitute our summand processing into the larger summations expression\n",
    "summation_partition_04 = (\n",
    "    summation_partition_03.inner_expr().rhs.operands[1].summand.substitute(\n",
    "        summand_processed_05))"
   ]
  },
  {
   "cell_type": "markdown",
   "metadata": {},
   "source": [
    "$|0\\rangle \\otimes \\sum (e^{2\\pi i \\varphi k} (|k\\rangle_{t})) + (e^{2\\pi i \\varphi 2^t}|1\\rangle)\\otimes\\sum (e^{2\\pi i \\varphi k} |k\\rangle_t) $"
   ]
  },
  {
   "cell_type": "markdown",
   "metadata": {},
   "source": [
    "$\\left(|0\\rangle \\otimes e^{2\\pi i \\varphi 2^t}|1\\rangle\\right)\\sum (e^{2\\pi i \\varphi k} |k\\rangle_t) $"
   ]
  },
  {
   "cell_type": "code",
   "execution_count": null,
   "metadata": {},
   "outputs": [],
   "source": [
    "# checking some types inside the rhs summand above\n",
    "type(summation_partition_04.rhs.operands[1].summand.scalar)"
   ]
  },
  {
   "cell_type": "markdown",
   "metadata": {},
   "source": [
    "We also then want to:\n",
    "\n",
    "(1) pull the tensor product out of the 2nd summation, and\n",
    "\n",
    "(2) pull the non-$k$-dependent exponential factor out of the 2nd summation.\n",
    "\n",
    "(|0> + c |1>) Sum()"
   ]
  },
  {
   "cell_type": "code",
   "execution_count": null,
   "metadata": {},
   "outputs": [],
   "source": [
    "# for convenience:\n",
    "temp_factors = summation_partition_04.rhs.operands[1].summand.operands[0]"
   ]
  },
  {
   "cell_type": "code",
   "execution_count": null,
   "metadata": {},
   "outputs": [],
   "source": [
    "type(temp_factors)"
   ]
  },
  {
   "cell_type": "code",
   "execution_count": null,
   "metadata": {},
   "outputs": [],
   "source": [
    "# for convenience:\n",
    "temp_factor_01 = temp_factors.operands[0]"
   ]
  },
  {
   "cell_type": "code",
   "execution_count": null,
   "metadata": {},
   "outputs": [],
   "source": [
    "# for convenience:\n",
    "temp_factor_02 = temp_factors.operands[1]"
   ]
  },
  {
   "cell_type": "code",
   "execution_count": null,
   "metadata": {},
   "outputs": [],
   "source": [
    "# another convenience: an expr for the current domain of index k\n",
    "k_domain = summation_partition_04.rhs.operands[1].conditions[0]"
   ]
  },
  {
   "cell_type": "code",
   "execution_count": null,
   "metadata": {},
   "outputs": [],
   "source": [
    "from proveit.linear_algebra import VecSpaces\n",
    "from proveit.numbers import Real\n",
    "VecSpaces.default_field=Complex\n",
    "summation_partition_05 = summation_partition_04.inner_expr().rhs.operands[1].factors_extract(\n",
    "    field=None, assumptions=defaults.assumptions )"
   ]
  },
  {
   "cell_type": "code",
   "execution_count": null,
   "metadata": {},
   "outputs": [],
   "source": [
    "summation_partition_06 = summation_partition_05.inner_expr().rhs.operands[1].scaled.tensor_prod_factor(\n",
    "    1, assumptions=defaults.assumptions+(k_domain,))"
   ]
  },
  {
   "cell_type": "markdown",
   "metadata": {},
   "source": [
    "(|0>*b) + ((e*|1>)*b) = (a + c)*b"
   ]
  },
  {
   "cell_type": "code",
   "execution_count": null,
   "metadata": {},
   "outputs": [],
   "source": [
    "type(summation_partition_06.rhs.operands[1])"
   ]
  },
  {
   "cell_type": "code",
   "execution_count": null,
   "metadata": {},
   "outputs": [],
   "source": [
    "from proveit.linear_algebra.tensors import factor_scalar_from_tensor_prod\n",
    "factor_scalar_from_tensor_prod"
   ]
  },
  {
   "cell_type": "code",
   "execution_count": null,
   "metadata": {},
   "outputs": [],
   "source": [
    "scalar_mult_expr = summation_partition_06.rhs.operands[1]"
   ]
  },
  {
   "cell_type": "code",
   "execution_count": null,
   "metadata": {},
   "outputs": [],
   "source": [
    "from proveit.numbers import num\n",
    "from proveit import V, K, alpha, i, k, a, b, c, ExprTuple\n",
    "_V_sub = VecSpaces.known_vec_space(scalar_mult_expr)\n",
    "_K_sub = VecSpaces.known_field(_V_sub)\n",
    "_alpha_sub = scalar_mult_expr.scalar\n",
    "_a_sub = ()\n",
    "_b_sub = scalar_mult_expr.scaled.operands[0]\n",
    "_c_sub = ExprTuple(scalar_mult_expr.scaled.operands[1])\n",
    "_i_sub = num(len(_a_sub))\n",
    "_k_sub = one\n",
    "impl = factor_scalar_from_tensor_prod.instantiate(\n",
    "        {V: _V_sub, K:_K_sub, alpha:_alpha_sub, i:_i_sub,\n",
    "         k:_k_sub, a:_a_sub, b:_b_sub, c:_c_sub})"
   ]
  },
  {
   "cell_type": "code",
   "execution_count": null,
   "metadata": {},
   "outputs": [],
   "source": [
    "_V_sub = VecSpaces.known_vec_space(scalar_mult_expr)\n",
    "\n",
    "factor_scalar_from_tensor_prod.instantiate(\n",
    "    {})"
   ]
  },
  {
   "cell_type": "code",
   "execution_count": null,
   "metadata": {},
   "outputs": [],
   "source": [
    "# from proveit.linear_algebra import VecSpaces\n",
    "# VecSpaces.default_field=Complex\n",
    "# summation_partition_04.inner_expr().rhs.operands[1].tensor_prod_factor(\n",
    "#     1, field=Complex, assumptions=defaults.assumptions+(k_domain,) )"
   ]
  },
  {
   "cell_type": "code",
   "execution_count": null,
   "metadata": {},
   "outputs": [],
   "source": [
    "tensor_prod_linearity"
   ]
  },
  {
   "cell_type": "code",
   "execution_count": null,
   "metadata": {},
   "outputs": [],
   "source": [
    "tensor_prod_sub = tensor_prod_linearity.instantiate(\n",
    "        {j: k, a: Ket(one), b: RegisterKet(j, t), c: zero,\n",
    "         d: subtract(Exp(two, t), one), t: t, fk: temp_factors},\n",
    "        assumptions=[*defaults.assumptions, InSet(k, Interval(zero, subtract(Exp(two, t), one)))])"
   ]
  },
  {
   "cell_type": "code",
   "execution_count": null,
   "metadata": {},
   "outputs": [],
   "source": [
    "summation_partition_shifted_03 = tensor_prod_sub.sub_right_side_into(summation_partition_shifted_02)"
   ]
  },
  {
   "cell_type": "code",
   "execution_count": null,
   "metadata": {},
   "outputs": [],
   "source": [
    "# old\n",
    "# summation_split_shifted = tensor_prod_sub.sub_right_side_into(summation_split_shifted)"
   ]
  },
  {
   "cell_type": "code",
   "execution_count": null,
   "metadata": {},
   "outputs": [],
   "source": [
    "distributive_summation_spec"
   ]
  },
  {
   "cell_type": "code",
   "execution_count": null,
   "metadata": {},
   "outputs": [],
   "source": [
    "distributive_summation_spec_inst = distributive_summation_spec.instantiate(\n",
    "        {j:k, c:zero, d:subtract(Exp(two, t), one), x:temp_factor_01, gk:temp_factor_02, fk:RegisterKet(k, t)})"
   ]
  },
  {
   "cell_type": "code",
   "execution_count": null,
   "metadata": {},
   "outputs": [],
   "source": [
    "summation_partition_shifted_04 = distributive_summation_spec_inst.sub_right_side_into(summation_partition_shifted_03)"
   ]
  },
  {
   "cell_type": "markdown",
   "metadata": {},
   "source": [
    "Now we want to effect a substitution into the first summation on the rhs, taking $|k{\\rangle}_{t+1}$ to $|0\\rangle{}\\otimes|k{\\rangle}_{t}$. As with the earlier effort inside the 2nd summation, this is somewhat challenging because the replacement involves an expression containing the index $k$ and thus eventually requires an `instance_substitute` step."
   ]
  },
  {
   "cell_type": "code",
   "execution_count": null,
   "metadata": {},
   "outputs": [],
   "source": [
    "# our axiom/theorem to apply (in reverse)\n",
    "multi_tensor_prod_induct_0"
   ]
  },
  {
   "cell_type": "code",
   "execution_count": null,
   "metadata": {},
   "outputs": [],
   "source": [
    "# our axiom/theorem instantiated\n",
    "multi_tensor_prod_induct_0_inst_reversed = multi_tensor_prod_induct_0.instantiate(\n",
    "        {t: t, k: k},\n",
    "        assumptions=[*defaults.assumptions, InSet(k, Interval(zero, subtract(Exp(two, t), one)))]).derive_reversed()"
   ]
  },
  {
   "cell_type": "code",
   "execution_count": null,
   "metadata": {},
   "outputs": [],
   "source": [
    "first_summand = summation_partition_shifted_04.rhs.operands[0].summand"
   ]
  },
  {
   "cell_type": "code",
   "execution_count": null,
   "metadata": {},
   "outputs": [],
   "source": [
    "# old\n",
    "# first_summand = summation_split_shifted.rhs.operands[0].summand"
   ]
  },
  {
   "cell_type": "code",
   "execution_count": null,
   "metadata": {},
   "outputs": [],
   "source": [
    "first_summand_judgment = multi_tensor_prod_induct_0_inst_reversed.substitution(first_summand.inner_expr().operands[1])"
   ]
  },
  {
   "cell_type": "code",
   "execution_count": null,
   "metadata": {},
   "outputs": [],
   "source": [
    "first_summand_judgment_gen = first_summand_judgment.generalize(k, domain=Interval(zero, subtract(Exp(two, t), one)))"
   ]
  },
  {
   "cell_type": "code",
   "execution_count": null,
   "metadata": {},
   "outputs": [],
   "source": [
    "summation_partition_shifted_05 = summation_partition_shifted_04.inner_expr().rhs.operands[0].instance_substitute(first_summand_judgment_gen)"
   ]
  },
  {
   "cell_type": "code",
   "execution_count": null,
   "metadata": {},
   "outputs": [],
   "source": [
    "# old\n",
    "# summation_split_shifted = summation_split_shifted.inner_expr().rhs.operands[0].instance_substitute(first_summand_judgment_gen)"
   ]
  },
  {
   "cell_type": "markdown",
   "metadata": {},
   "source": [
    "Next we want to pull the $|0\\rangle$ out of the first summation, so again we use tensor_prod_linearity:"
   ]
  },
  {
   "cell_type": "code",
   "execution_count": null,
   "metadata": {},
   "outputs": [],
   "source": [
    "tensor_prod_linearity"
   ]
  },
  {
   "cell_type": "code",
   "execution_count": null,
   "metadata": {},
   "outputs": [],
   "source": [
    "tensor_prod_sub = tensor_prod_linearity.instantiate(\n",
    "        {j: k, a: Ket(zero), b: RegisterKet(j, t), c: zero,\n",
    "         d: subtract(Exp(two, t), one), t: t, fk: temp_factor_02},\n",
    "        assumptions=[*defaults.assumptions, InSet(k, Interval(zero, subtract(Exp(two, t), one)))])"
   ]
  },
  {
   "cell_type": "code",
   "execution_count": null,
   "metadata": {},
   "outputs": [],
   "source": [
    "summation_partition_shifted_06 = tensor_prod_sub.sub_right_side_into(summation_partition_shifted_05)"
   ]
  },
  {
   "cell_type": "code",
   "execution_count": null,
   "metadata": {},
   "outputs": [],
   "source": [
    "# old\n",
    "# summation_split_shifted = tensor_prod_sub.sub_right_side_into(summation_split_shifted)"
   ]
  },
  {
   "cell_type": "markdown",
   "metadata": {},
   "source": [
    "We need a few more manipulations of that second term on the rhs: pulling the exponential factor out to the front and reassociating."
   ]
  },
  {
   "cell_type": "code",
   "execution_count": null,
   "metadata": {},
   "outputs": [],
   "source": [
    "factor_complex_scalar_from_tensor_prod"
   ]
  },
  {
   "cell_type": "code",
   "execution_count": null,
   "metadata": {},
   "outputs": [],
   "source": [
    "# for convenience, name that 2nd summation on the rhs\n",
    "the_summation_factor = summation_partition_shifted_06.rhs.operands[1].operands[1].operands[1]"
   ]
  },
  {
   "cell_type": "code",
   "execution_count": null,
   "metadata": {},
   "outputs": [],
   "source": [
    "temp_factored_tensor_prod = factor_complex_scalar_from_tensor_prod.instantiate(\n",
    "        {m: one, n: zero, alpha: temp_factor_01, x: (Ket(one),), y: the_summation_factor,\n",
    "        z:()},\n",
    "        assumptions=[*defaults.assumptions, InSet(k, Interval(zero, subtract(Exp(two, t), one)))])"
   ]
  },
  {
   "cell_type": "code",
   "execution_count": null,
   "metadata": {},
   "outputs": [],
   "source": [
    "summation_partition_shifted_07 = temp_factored_tensor_prod.sub_right_side_into(summation_partition_shifted_06)"
   ]
  },
  {
   "cell_type": "code",
   "execution_count": null,
   "metadata": {},
   "outputs": [],
   "source": [
    "# old\n",
    "# summation_split_shifted = temp_factored_tensor_prod.sub_right_side_into(summation_split_shifted)"
   ]
  },
  {
   "cell_type": "code",
   "execution_count": null,
   "metadata": {},
   "outputs": [],
   "source": [
    "# instead probably use factor_scalar_from_tensor_prod\n",
    "scalar_tensor_associativity"
   ]
  },
  {
   "cell_type": "code",
   "execution_count": null,
   "metadata": {},
   "outputs": [],
   "source": [
    "scalar_tensor_associativity_inst = scalar_tensor_associativity.instantiate(\n",
    "        {alpha: temp_factor_01, x: Ket(one), y: the_summation_factor})"
   ]
  },
  {
   "cell_type": "code",
   "execution_count": null,
   "metadata": {},
   "outputs": [],
   "source": [
    "summation_partition_shifted_08 = scalar_tensor_associativity_inst.sub_right_side_into(summation_partition_shifted_07)"
   ]
  },
  {
   "cell_type": "code",
   "execution_count": null,
   "metadata": {},
   "outputs": [],
   "source": [
    "# old\n",
    "# summation_split_shifted = scalar_tensor_associativity_inst.sub_right_side_into(summation_split_shifted)"
   ]
  },
  {
   "cell_type": "code",
   "execution_count": null,
   "metadata": {},
   "outputs": [],
   "source": [
    "distribute_tensor_prod_over_sum"
   ]
  },
  {
   "cell_type": "code",
   "execution_count": null,
   "metadata": {},
   "outputs": [],
   "source": [
    "from proveit import Variable\n",
    "i_var = Variable('i')"
   ]
  },
  {
   "cell_type": "code",
   "execution_count": null,
   "metadata": {},
   "outputs": [],
   "source": [
    "distribute_tensor_prod_over_sum_inst = distribute_tensor_prod_over_sum.instantiate(\n",
    "        {i_var: zero, j: two, k: one, y: (Ket(zero), Mult(temp_factor_01, Ket(one))), z: (the_summation_factor, )},\n",
    "        assumptions=[*defaults.assumptions, InSet(k, Interval(zero, subtract(Exp(two, t), one)))])"
   ]
  },
  {
   "cell_type": "code",
   "execution_count": null,
   "metadata": {},
   "outputs": [],
   "source": [
    "summation_partition_shifted_09 = distribute_tensor_prod_over_sum_inst.sub_left_side_into(summation_partition_shifted_08)"
   ]
  },
  {
   "cell_type": "code",
   "execution_count": null,
   "metadata": {},
   "outputs": [],
   "source": [
    "# old\n",
    "# summation_split_shifted = distribute_tensor_prod_over_sum_inst.sub_left_side_into(summation_split_shifted)"
   ]
  },
  {
   "cell_type": "code",
   "execution_count": null,
   "metadata": {},
   "outputs": [],
   "source": [
    "p_t_def"
   ]
  },
  {
   "cell_type": "code",
   "execution_count": null,
   "metadata": {},
   "outputs": [],
   "source": [
    "p_t_def.instantiate()"
   ]
  },
  {
   "cell_type": "code",
   "execution_count": null,
   "metadata": {},
   "outputs": [],
   "source": [
    "p_prime_r_def"
   ]
  },
  {
   "cell_type": "code",
   "execution_count": null,
   "metadata": {},
   "outputs": [],
   "source": [
    "p_prime_t = p_prime_r_def.instantiate({r:t})"
   ]
  },
  {
   "cell_type": "code",
   "execution_count": null,
   "metadata": {},
   "outputs": [],
   "source": [
    "summation_partition_shifted_10 = p_prime_t.sub_left_side_into(summation_partition_shifted_09)"
   ]
  },
  {
   "cell_type": "code",
   "execution_count": null,
   "metadata": {},
   "outputs": [],
   "source": [
    "# old\n",
    "# summation_split_shifted = p_prime_t.sub_left_side_into(summation_split_shifted)"
   ]
  },
  {
   "cell_type": "code",
   "execution_count": null,
   "metadata": {},
   "outputs": [],
   "source": [
    "psi_t_var_formula"
   ]
  },
  {
   "cell_type": "markdown",
   "metadata": {},
   "source": [
    "SOME TESTING HERE"
   ]
  },
  {
   "cell_type": "code",
   "execution_count": null,
   "metadata": {},
   "outputs": [],
   "source": [
    "test_frac = frac(one, Exp(two, frac(Add(t, one), two)))"
   ]
  },
  {
   "cell_type": "code",
   "execution_count": null,
   "metadata": {},
   "outputs": [],
   "source": [
    "test_frac_02 = test_frac.inner_expr().denominator.exponent.distribution()"
   ]
  },
  {
   "cell_type": "code",
   "execution_count": null,
   "metadata": {},
   "outputs": [],
   "source": [
    "test_frac_03 = test_frac_02.inner_expr().rhs.denominator.exponent_separate()"
   ]
  },
  {
   "cell_type": "code",
   "execution_count": null,
   "metadata": {},
   "outputs": [],
   "source": [
    "test_frac_04 = test_frac_03.inner_expr().rhs.factor(frac(one, Exp(two, frac(one, two))))"
   ]
  },
  {
   "cell_type": "code",
   "execution_count": null,
   "metadata": {},
   "outputs": [],
   "source": [
    "from proveit.linear_algebra import TensorProd\n",
    "test_tensor = Mult(test_frac, TensorProd(a, b))"
   ]
  },
  {
   "cell_type": "code",
   "execution_count": null,
   "metadata": {},
   "outputs": [],
   "source": [
    "test_tensor_02 = test_tensor.inner_expr().factors[0].substitution(test_frac_04)"
   ]
  },
  {
   "cell_type": "code",
   "execution_count": null,
   "metadata": {},
   "outputs": [],
   "source": [
    "test_tensor_02.inner_expr().rhs.disassociate(0)"
   ]
  },
  {
   "cell_type": "code",
   "execution_count": null,
   "metadata": {},
   "outputs": [],
   "source": [
    "scalar_tensor_associativity"
   ]
  },
  {
   "cell_type": "code",
   "execution_count": null,
   "metadata": {},
   "outputs": [],
   "source": [
    "factor_complex_scalar_from_tensor_prod"
   ]
  },
  {
   "cell_type": "markdown",
   "metadata": {},
   "source": [
    "TESTING ENDS HERE"
   ]
  },
  {
   "cell_type": "code",
   "execution_count": null,
   "metadata": {},
   "outputs": [],
   "source": [
    "# hmmm, now we're in trouble here …\n",
    "# psi_prime_t_formula"
   ]
  },
  {
   "cell_type": "code",
   "execution_count": null,
   "metadata": {},
   "outputs": [],
   "source": [
    "# Recall our inductive hypothesis:\n",
    "for item in defaults.assumptions:\n",
    "    if isinstance(item, Equals):\n",
    "        inductive_hypothesis = item\n",
    "inductive_hypothesis"
   ]
  },
  {
   "cell_type": "code",
   "execution_count": null,
   "metadata": {},
   "outputs": [],
   "source": [
    "summation_split_shifted = inductive_hypothesis.sub_left_side_into(summation_split_shifted)"
   ]
  },
  {
   "cell_type": "code",
   "execution_count": null,
   "metadata": {},
   "outputs": [],
   "source": [
    "psi_prime_expansion_inst = psi_prime_expansion.instantiate({t: t})"
   ]
  },
  {
   "cell_type": "code",
   "execution_count": null,
   "metadata": {},
   "outputs": [],
   "source": [
    "psi_prime_t_plus_1_formula = psi_prime_expansion_inst.sub_left_side_into(summation_split_shifted).derive_reversed()"
   ]
  },
  {
   "cell_type": "code",
   "execution_count": null,
   "metadata": {},
   "outputs": [],
   "source": []
  },
  {
   "cell_type": "code",
   "execution_count": null,
   "metadata": {},
   "outputs": [],
   "source": [
    "assert False"
   ]
  },
  {
   "cell_type": "markdown",
   "metadata": {},
   "source": [
    "OLD below!"
   ]
  },
  {
   "cell_type": "code",
   "execution_count": null,
   "metadata": {},
   "outputs": [],
   "source": [
    "# this is the literal t_ representing the size of the first register\n",
    "t_in_natural_pos"
   ]
  },
  {
   "cell_type": "code",
   "execution_count": null,
   "metadata": {},
   "outputs": [],
   "source": [
    "psi_prime_t_def"
   ]
  },
  {
   "cell_type": "code",
   "execution_count": null,
   "metadata": {},
   "outputs": [],
   "source": [
    "# instantiate the var t to the literal t_ representing the size of the first register\n",
    "psi_prime_t_def_inst = psi_prime_t_def.instantiate({t:t_})"
   ]
  },
  {
   "cell_type": "code",
   "execution_count": null,
   "metadata": {},
   "outputs": [],
   "source": [
    "psi_t_lit_def"
   ]
  },
  {
   "cell_type": "code",
   "execution_count": null,
   "metadata": {},
   "outputs": [],
   "source": [
    "psi_t_in_terms_of_psi_prime = psi_prime_t_def_inst.sub_left_side_into(psi_t_lit_def)"
   ]
  },
  {
   "cell_type": "code",
   "execution_count": null,
   "metadata": {},
   "outputs": [],
   "source": [
    "psi_prime_t_lit_formula"
   ]
  },
  {
   "cell_type": "code",
   "execution_count": null,
   "metadata": {},
   "outputs": [],
   "source": [
    "psi_prime_t_lit_formula.sub_right_side_into(psi_t_in_terms_of_psi_prime)"
   ]
  },
  {
   "cell_type": "code",
   "execution_count": null,
   "metadata": {},
   "outputs": [],
   "source": [
    "# %qed"
   ]
  },
  {
   "cell_type": "code",
   "execution_count": null,
   "metadata": {},
   "outputs": [],
   "source": []
  },
  {
   "cell_type": "code",
   "execution_count": null,
   "metadata": {},
   "outputs": [],
   "source": []
  }
 ],
 "metadata": {
  "kernelspec": {
   "display_name": "Python 3",
   "language": "python",
   "name": "python3"
  }
 },
 "nbformat": 4,
 "nbformat_minor": 0
}
