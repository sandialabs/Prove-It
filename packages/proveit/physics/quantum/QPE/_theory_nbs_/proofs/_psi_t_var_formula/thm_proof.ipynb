{
 "cells": [
  {
   "cell_type": "markdown",
   "metadata": {},
   "source": [
    "Proof of <a class=\"ProveItLink\" href=\"../../../../../../_theory_nbs_/theory.ipynb\">proveit</a>.<a class=\"ProveItLink\" href=\"../../../../../_theory_nbs_/theory.ipynb\">physics</a>.<a class=\"ProveItLink\" href=\"../../../../_theory_nbs_/theory.ipynb\">quantum</a>.<a class=\"ProveItLink\" href=\"../../theory.ipynb\">QPE</a>.<a class=\"ProveItLink\" href=\"../../theorems.ipynb#_psi_t_var_formula\">_psi_t_var_formula</a> theorem\n",
    "========"
   ]
  },
  {
   "cell_type": "code",
   "execution_count": null,
   "metadata": {},
   "outputs": [],
   "source": [
    "import proveit\n",
    "theory = proveit.Theory() # the theorem's theory\n",
    "from proveit import a, b, c, k, m, n, t, P, defaults, Function\n",
    "from proveit.linear_algebra import ScalarMult, TensorProd, VecSpaces\n",
    "from proveit.logic import Equals, InSet\n",
    "from proveit.numbers import (\n",
    "        zero, one, two, i, e, pi, Add, Sum, Exp, Less, LessEq, Mult, frac, Neg, subtract)\n",
    "from proveit.numbers import Complex, Interval, Natural\n",
    "from proveit.numbers.number_sets.natural_numbers import fold_forall_natural_pos\n",
    "from proveit.physics.quantum import Ket, NumKet\n",
    "from proveit.physics.quantum.QPE import _phase, _phase_is_real, _psi_t_def"
   ]
  },
  {
   "cell_type": "code",
   "execution_count": null,
   "metadata": {},
   "outputs": [],
   "source": [
    "%proving _psi_t_var_formula"
   ]
  },
  {
   "cell_type": "code",
   "execution_count": null,
   "metadata": {},
   "outputs": [],
   "source": [
    "VecSpaces.default_field=Complex\n",
    "defaults.assumptions = _psi_t_var_formula.all_conditions()"
   ]
  },
  {
   "cell_type": "markdown",
   "metadata": {},
   "source": [
    "Keep the $2$ in $2 \\pi i$ from combining with powers of $2$:"
   ]
  },
  {
   "cell_type": "code",
   "execution_count": null,
   "metadata": {},
   "outputs": [],
   "source": [
    "Exp.change_simplification_directives(factor_numeric_rational=True)"
   ]
  },
  {
   "cell_type": "code",
   "execution_count": null,
   "metadata": {},
   "outputs": [],
   "source": [
    "# the induction theorem for positive naturals\n",
    "fold_forall_natural_pos"
   ]
  },
  {
   "cell_type": "code",
   "execution_count": null,
   "metadata": {},
   "outputs": [],
   "source": [
    "# instantiate the induction theorem\n",
    "induction_inst = fold_forall_natural_pos.instantiate(\n",
    "    {Function(P,t):_psi_t_var_formula.instance_expr, m:t, n:t})"
   ]
  },
  {
   "cell_type": "markdown",
   "metadata": {},
   "source": [
    "### Base Case"
   ]
  },
  {
   "cell_type": "code",
   "execution_count": null,
   "metadata": {},
   "outputs": [],
   "source": [
    "base_case = induction_inst.antecedent.operands[0]"
   ]
  },
  {
   "cell_type": "markdown",
   "metadata": {},
   "source": [
    "We have $|\\psi_{t}\\rangle$ defined as a tensor product (the result of the first phase of the quantum circuit, and the LHS of Nielsen & Chuang's identity 5.20 on pg 222):"
   ]
  },
  {
   "cell_type": "code",
   "execution_count": null,
   "metadata": {},
   "outputs": [],
   "source": [
    "_psi_t_def"
   ]
  },
  {
   "cell_type": "code",
   "execution_count": null,
   "metadata": {},
   "outputs": [],
   "source": [
    "_psi_t_as_tensor_prod = _psi_t_def.instantiate()"
   ]
  },
  {
   "cell_type": "markdown",
   "metadata": {},
   "source": [
    "For $\\psi'_{1}$, we prove a useful equality then instantiate the `psi_t_def` with $t=1$:"
   ]
  },
  {
   "cell_type": "code",
   "execution_count": null,
   "metadata": {},
   "outputs": [],
   "source": [
    "psi_1_def = _psi_t_def.instantiate({t:one})"
   ]
  },
  {
   "cell_type": "markdown",
   "metadata": {},
   "source": [
    "Then show that the summation formula also gives the same qbit result"
   ]
  },
  {
   "cell_type": "code",
   "execution_count": null,
   "metadata": {},
   "outputs": [],
   "source": [
    "sum_0_to_1 = base_case.rhs"
   ]
  },
  {
   "cell_type": "code",
   "execution_count": null,
   "metadata": {},
   "outputs": [],
   "source": [
    "sum_0_to_1_processed_01 = sum_0_to_1.inner_expr().operands[1].partitioning_first()"
   ]
  },
  {
   "cell_type": "code",
   "execution_count": null,
   "metadata": {},
   "outputs": [],
   "source": [
    "# finish off the Base Case\n",
    "base_case_jdgmt = sum_0_to_1_processed_01.sub_left_side_into(psi_1_def)"
   ]
  },
  {
   "cell_type": "markdown",
   "metadata": {},
   "source": [
    "### Inductive Step"
   ]
  },
  {
   "cell_type": "code",
   "execution_count": null,
   "metadata": {},
   "outputs": [],
   "source": [
    "inductive_step = induction_inst.antecedent.operands[1]"
   ]
  },
  {
   "cell_type": "code",
   "execution_count": null,
   "metadata": {},
   "outputs": [],
   "source": [
    "defaults.assumptions = defaults.assumptions + inductive_step.conditions.entries"
   ]
  },
  {
   "cell_type": "markdown",
   "metadata": {},
   "source": [
    "First, partition the summation:\n",
    "$\\sum_{k=0}^{2^{t+1}-1} e^{2\\pi i \\varphi k} |k\\rangle_{t+1} = \\sum_{k=0}^{2^{t}-1} e^{2\\pi i \\varphi k} |k\\rangle_{t+1} + \\sum_{k=2^{t}}^{2^{t+1}-1} e^{2\\pi i \\varphi k} |k\\rangle_{t+1}$"
   ]
  },
  {
   "cell_type": "code",
   "execution_count": null,
   "metadata": {},
   "outputs": [],
   "source": [
    "desired_domain = _psi_t_var_formula.instance_expr.rhs.scaled.domain"
   ]
  },
  {
   "cell_type": "code",
   "execution_count": null,
   "metadata": {},
   "outputs": [],
   "source": [
    "summation_partition_01 = (\n",
    "    inductive_step.instance_expr.rhs.operands[1]\n",
    "    .partitioning(desired_domain.upper_bound))"
   ]
  },
  {
   "cell_type": "markdown",
   "metadata": {},
   "source": [
    "Then shift the second summation of that partition, so that the two summations then have the same index domain:"
   ]
  },
  {
   "cell_type": "code",
   "execution_count": null,
   "metadata": {},
   "outputs": [],
   "source": [
    "summation_partition_02 = (summation_partition_01.inner_expr().rhs.\n",
    "                          operands[1].shift(Neg(Exp(two, t))))"
   ]
  },
  {
   "cell_type": "markdown",
   "metadata": {},
   "source": [
    "We want to rewrite the summand of that 2nd summation on the rhs now by (1) expanding the exponential term and (2) rewriting the $|k+2^t{\\rangle}_{t+1}$ ket as $|1\\rangle \\otimes |k{\\rangle}_t$. This takes a little work."
   ]
  },
  {
   "cell_type": "code",
   "execution_count": null,
   "metadata": {},
   "outputs": [],
   "source": [
    "rhs_2nd_sum = summation_partition_02.rhs.operands[1]"
   ]
  },
  {
   "cell_type": "code",
   "execution_count": null,
   "metadata": {},
   "outputs": [],
   "source": [
    "summand_processed_01 = rhs_2nd_sum.summand.inner_expr().operands[0].exponent.distribution(\n",
    "    4, assumptions=[*defaults.assumptions,\n",
    "                    rhs_2nd_sum.condition])"
   ]
  },
  {
   "cell_type": "code",
   "execution_count": null,
   "metadata": {},
   "outputs": [],
   "source": [
    "summand_processed_02 = (\n",
    "    summand_processed_01.inner_expr().rhs.operands[0]\n",
    "    .exponent_separate(\n",
    "        assumptions=[*defaults.assumptions,\n",
    "                     InSet(k, Interval(zero, subtract(Exp(two, t), one)))]))"
   ]
  },
  {
   "cell_type": "code",
   "execution_count": null,
   "metadata": {},
   "outputs": [],
   "source": [
    "# Avoid recombining these via auto-simplification\n",
    "defaults.preserved_exprs = set([summand_processed_02.rhs.scalar])"
   ]
  },
  {
   "cell_type": "code",
   "execution_count": null,
   "metadata": {},
   "outputs": [],
   "source": [
    "from proveit.physics.quantum.algebra import prepend_num_ket_with_one_ket\n",
    "prepend_num_ket_with_one_ket"
   ]
  },
  {
   "cell_type": "code",
   "execution_count": null,
   "metadata": {},
   "outputs": [],
   "source": [
    "prepend_num_ket_with_one_ket_inst = prepend_num_ket_with_one_ket.instantiate(\n",
    "        {n: t, k: k},\n",
    "        assumptions=[*defaults.assumptions, InSet(k, Interval(zero, subtract(Exp(two, t), one)))])"
   ]
  },
  {
   "cell_type": "code",
   "execution_count": null,
   "metadata": {},
   "outputs": [],
   "source": [
    "summand_processed_03 = (\n",
    "    summand_processed_02.inner_expr().rhs.operands[1]\n",
    "    .substitute(prepend_num_ket_with_one_ket_inst))"
   ]
  },
  {
   "cell_type": "code",
   "execution_count": null,
   "metadata": {},
   "outputs": [],
   "source": [
    "# reminder of summation_partition_03\n",
    "summation_partition_02"
   ]
  },
  {
   "cell_type": "code",
   "execution_count": null,
   "metadata": {},
   "outputs": [],
   "source": [
    "summation_partition_04 = (\n",
    "    summation_partition_02.inner_expr().rhs.operands[1].summand.substitute(\n",
    "        summand_processed_03))"
   ]
  },
  {
   "cell_type": "markdown",
   "metadata": {},
   "source": [
    "Also process the summand in the 1st sum on the rhs, converting the ket $|k\\rangle_{t+1}$ to the tensor product $|0\\rangle \\otimes |k\\rangle_{t}$:"
   ]
  },
  {
   "cell_type": "code",
   "execution_count": null,
   "metadata": {},
   "outputs": [],
   "source": [
    "# pull up the relevant NumKet theorem\n",
    "from proveit.physics.quantum.algebra import prepend_num_ket_with_zero_ket\n",
    "prepend_num_ket_with_zero_ket"
   ]
  },
  {
   "cell_type": "code",
   "execution_count": null,
   "metadata": {},
   "outputs": [],
   "source": [
    "# instantiate the theorem for our specific case\n",
    "prepend_num_ket_with_zero_ket_inst = prepend_num_ket_with_zero_ket.instantiate(\n",
    "        {n: t, k: k},\n",
    "        assumptions=[*defaults.assumptions, InSet(k, Interval(zero, subtract(Exp(two, t), one)))])"
   ]
  },
  {
   "cell_type": "code",
   "execution_count": null,
   "metadata": {},
   "outputs": [],
   "source": [
    "# use our instantiation to substitute\n",
    "summation_partition_05 = (\n",
    "    summation_partition_04.inner_expr().rhs.operands[0].summand.scaled.substitute(\n",
    "    prepend_num_ket_with_zero_ket_inst))"
   ]
  },
  {
   "cell_type": "code",
   "execution_count": null,
   "metadata": {},
   "outputs": [],
   "source": [
    "summation_partition_06 = inductive_step.instance_expr.rhs.inner_expr().scaled.substitution(summation_partition_05)"
   ]
  },
  {
   "cell_type": "code",
   "execution_count": null,
   "metadata": {},
   "outputs": [],
   "source": [
    "# Recall our inductive hypothesis:\n",
    "inductive_hypothesis = defaults.assumptions[-1]"
   ]
  },
  {
   "cell_type": "code",
   "execution_count": null,
   "metadata": {},
   "outputs": [],
   "source": [
    "conclusion_01 = summation_partition_06.inner_expr().rhs.factor(\n",
    "        inductive_hypothesis.rhs, pull='right', field=Complex)"
   ]
  },
  {
   "cell_type": "code",
   "execution_count": null,
   "metadata": {},
   "outputs": [],
   "source": [
    "# use the inductive hypothesis:\n",
    "conclusion_02 = inductive_hypothesis.sub_left_side_into(conclusion_01)"
   ]
  },
  {
   "cell_type": "markdown",
   "metadata": {},
   "source": [
    "The RHS of conclusion_02 above should be equal to $|\\psi_{t+1}\\rangle$. Let's see how to get there. Ideally we could use the next three cells to show the rhs of the equality in `conclusion_02` is equal to $|\\psi_{t+1}\\rangle$"
   ]
  },
  {
   "cell_type": "code",
   "execution_count": null,
   "metadata": {},
   "outputs": [],
   "source": [
    "# reminder\n",
    "_psi_t_def"
   ]
  },
  {
   "cell_type": "code",
   "execution_count": null,
   "metadata": {},
   "outputs": [],
   "source": [
    "psi_t_plus_one_as_tensor_prod = _psi_t_def.instantiate({t:Add(t, one)})"
   ]
  },
  {
   "cell_type": "markdown",
   "metadata": {},
   "source": [
    "Now this `substitute()` step will also manage to pull the scalar coefficients out to the front in the process:"
   ]
  },
  {
   "cell_type": "code",
   "execution_count": null,
   "metadata": {},
   "outputs": [],
   "source": [
    "conclusion_03 = conclusion_02.inner_expr().rhs.operands[1].substitute(\n",
    "        _psi_t_as_tensor_prod)"
   ]
  },
  {
   "cell_type": "markdown",
   "metadata": {},
   "source": [
    "Now we partition the tensor product expression of $\\psi_{t+1}$, so we can eventually show that it is equal to the rhs of conclusion_03."
   ]
  },
  {
   "cell_type": "code",
   "execution_count": null,
   "metadata": {},
   "outputs": [],
   "source": [
    "psi_t_plus_one_as_tensor_prod.rhs"
   ]
  },
  {
   "cell_type": "code",
   "execution_count": null,
   "metadata": {},
   "outputs": [],
   "source": [
    "# # we can partition the operands in the psi_{t+1} tensor prod expression\n",
    "psi_t_plus_one_as_tensor_prod_02 = (\n",
    "    psi_t_plus_one_as_tensor_prod.inner_expr().rhs.operands[0].split(t))"
   ]
  },
  {
   "cell_type": "code",
   "execution_count": null,
   "metadata": {},
   "outputs": [],
   "source": [
    "conclusion_03.inner_expr().rhs.substitute(psi_t_plus_one_as_tensor_prod_02.derive_reversed())"
   ]
  },
  {
   "cell_type": "code",
   "execution_count": null,
   "metadata": {},
   "outputs": [],
   "source": [
    "# recall our earlier instantiation of the induction theorem:\n",
    "induction_inst"
   ]
  },
  {
   "cell_type": "markdown",
   "metadata": {},
   "source": [
    "We have proven both pieces of the antecedent (_i.e._, the base case and inductive case) of the instantiated induction theorem `induction_inst`, so we can now derive the consequent:"
   ]
  },
  {
   "cell_type": "code",
   "execution_count": null,
   "metadata": {},
   "outputs": [],
   "source": [
    "induction_inst.derive_consequent()"
   ]
  },
  {
   "cell_type": "code",
   "execution_count": null,
   "metadata": {},
   "outputs": [],
   "source": [
    "%qed"
   ]
  }
 ],
 "metadata": {
  "kernelspec": {
   "display_name": "Python 3",
   "language": "python",
   "name": "python3"
  }
 },
 "nbformat": 4,
 "nbformat_minor": 0
}
