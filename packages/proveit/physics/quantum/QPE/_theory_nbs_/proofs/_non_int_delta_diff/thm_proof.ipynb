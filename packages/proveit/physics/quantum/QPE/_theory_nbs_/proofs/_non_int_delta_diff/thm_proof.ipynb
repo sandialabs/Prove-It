{
 "cells": [
  {
   "cell_type": "markdown",
   "metadata": {},
   "source": [
    "Proof of <a class=\"ProveItLink\" href=\"../../../../../../_theory_nbs_/theory.ipynb\">proveit</a>.<a class=\"ProveItLink\" href=\"../../../../../_theory_nbs_/theory.ipynb\">physics</a>.<a class=\"ProveItLink\" href=\"../../../../_theory_nbs_/theory.ipynb\">quantum</a>.<a class=\"ProveItLink\" href=\"../../theory.ipynb\">QPE</a>.<a class=\"ProveItLink\" href=\"../../theorems.ipynb#_non_int_delta_diff\">_non_int_delta_diff</a> theorem\n",
    "========"
   ]
  },
  {
   "cell_type": "code",
   "execution_count": null,
   "metadata": {},
   "outputs": [],
   "source": [
    "import proveit\n",
    "theory = proveit.Theory() # the theorem's theory\n",
    "from proveit import a, defaults, l, n, x\n",
    "from proveit.logic import Equals, Implies, InSet, NotEquals\n",
    "from proveit.numbers import zero, one, two, Add, IntervalOO, Less, Neg\n",
    "from proveit.numbers.number_sets.real_numbers import not_int_if_between_successive_int\n",
    "from proveit.numbers.ordering import not_equals_is_less_than_or_greater_than\n",
    "from proveit.physics.quantum.QPE import (\n",
    "        _delta_not_eq_scaledNonzeroInt, _delta_diff_in_interval,\n",
    "        _two_pow_t_minus_one_is_nat_pos)"
   ]
  },
  {
   "cell_type": "code",
   "execution_count": null,
   "metadata": {},
   "outputs": [],
   "source": [
    "%proving _non_int_delta_diff"
   ]
  },
  {
   "cell_type": "code",
   "execution_count": null,
   "metadata": {},
   "outputs": [],
   "source": [
    "defaults.assumptions = _non_int_delta_diff.all_conditions()"
   ]
  },
  {
   "cell_type": "code",
   "execution_count": null,
   "metadata": {},
   "outputs": [],
   "source": [
    "# define the element\n",
    "delta_diff = _non_int_delta_diff.instance_expr.element"
   ]
  },
  {
   "cell_type": "code",
   "execution_count": null,
   "metadata": {},
   "outputs": [],
   "source": [
    "# previously proven; needed for establishing that\n",
    "# the interval consists of integers\n",
    "_two_pow_t_minus_one_is_nat_pos"
   ]
  },
  {
   "cell_type": "code",
   "execution_count": null,
   "metadata": {},
   "outputs": [],
   "source": [
    "ell_in_interval = _non_int_delta_diff.all_conditions()[0]"
   ]
  },
  {
   "cell_type": "code",
   "execution_count": null,
   "metadata": {},
   "outputs": [],
   "source": [
    "ell_in_interval.derive_element_in_integer()"
   ]
  },
  {
   "cell_type": "code",
   "execution_count": null,
   "metadata": {},
   "outputs": [],
   "source": [
    "# previously proven:\n",
    "_delta_diff_in_interval"
   ]
  },
  {
   "cell_type": "code",
   "execution_count": null,
   "metadata": {},
   "outputs": [],
   "source": [
    "delta_diff_in_interval_inst = _delta_diff_in_interval.instantiate({l: l})"
   ]
  },
  {
   "cell_type": "code",
   "execution_count": null,
   "metadata": {},
   "outputs": [],
   "source": [
    "# explicitly prove that delta_diff is Real\n",
    "_delta_diff_in_interval.instance_expr.derive_element_in_real()"
   ]
  },
  {
   "cell_type": "code",
   "execution_count": null,
   "metadata": {},
   "outputs": [],
   "source": [
    "delta_diff_upper_bound = delta_diff_in_interval_inst.derive_element_upper_bound()"
   ]
  },
  {
   "cell_type": "code",
   "execution_count": null,
   "metadata": {},
   "outputs": [],
   "source": [
    "delta_diff_lower_bound = delta_diff_in_interval_inst.derive_element_lower_bound()"
   ]
  },
  {
   "cell_type": "code",
   "execution_count": null,
   "metadata": {},
   "outputs": [],
   "source": [
    "one_less_than_two = Less(one, two).prove()"
   ]
  },
  {
   "cell_type": "code",
   "execution_count": null,
   "metadata": {},
   "outputs": [],
   "source": [
    "half_less_than_one = one_less_than_two.divide_both_sides(two)"
   ]
  },
  {
   "cell_type": "code",
   "execution_count": null,
   "metadata": {},
   "outputs": [],
   "source": [
    "# Need to explicitly do this for the following step\n",
    "# in which we get (-1) < (-1/2) from 1/2 < 1\n",
    "Less(Neg(one), zero).prove()"
   ]
  },
  {
   "cell_type": "code",
   "execution_count": null,
   "metadata": {},
   "outputs": [],
   "source": [
    "half_less_than_one.left_mult_both_sides(Neg(one))"
   ]
  },
  {
   "cell_type": "code",
   "execution_count": null,
   "metadata": {},
   "outputs": [],
   "source": [
    "delta_diff_ess_than_1 = Less(delta_diff, one).prove()"
   ]
  },
  {
   "cell_type": "code",
   "execution_count": null,
   "metadata": {},
   "outputs": [],
   "source": [
    "delta_diff_ess_than_1 = Less(Neg(one), delta_diff).prove()"
   ]
  },
  {
   "cell_type": "code",
   "execution_count": null,
   "metadata": {},
   "outputs": [],
   "source": [
    "InSet(delta_diff, IntervalOO(zero, one)).conclude(assumptions=defaults.assumptions + (Less(zero, delta_diff),))"
   ]
  },
  {
   "cell_type": "code",
   "execution_count": null,
   "metadata": {},
   "outputs": [],
   "source": [
    "InSet(delta_diff, IntervalOO(Neg(one), zero)).prove(assumptions=defaults.assumptions + (Less(delta_diff, zero),))"
   ]
  },
  {
   "cell_type": "code",
   "execution_count": null,
   "metadata": {},
   "outputs": [],
   "source": [
    "not_int_if_between_successive_int"
   ]
  },
  {
   "cell_type": "code",
   "execution_count": null,
   "metadata": {},
   "outputs": [],
   "source": [
    "zero_plus_one_is_one = Equals(Add(zero, one), one).prove()"
   ]
  },
  {
   "cell_type": "code",
   "execution_count": null,
   "metadata": {},
   "outputs": [],
   "source": [
    "neg_one_plus_one_is_zero = Equals(Add(Neg(one), one), zero).prove()"
   ]
  },
  {
   "cell_type": "code",
   "execution_count": null,
   "metadata": {},
   "outputs": [],
   "source": [
    "not_in_ints_eq_01 = not_int_if_between_successive_int.instantiate({n: zero})"
   ]
  },
  {
   "cell_type": "code",
   "execution_count": null,
   "metadata": {},
   "outputs": [],
   "source": [
    "not_in_ints_eq_02 = not_int_if_between_successive_int.instantiate({n: Neg(one)})"
   ]
  },
  {
   "cell_type": "code",
   "execution_count": null,
   "metadata": {},
   "outputs": [],
   "source": [
    "not_in_ints_assuming_positive = not_in_ints_eq_01.instantiate(\n",
    "    {x: delta_diff}, assumptions=defaults.assumptions + (Less(zero, delta_diff),))"
   ]
  },
  {
   "cell_type": "code",
   "execution_count": null,
   "metadata": {},
   "outputs": [],
   "source": [
    "not_in_ints_assuming_negative = not_in_ints_eq_02.instantiate(\n",
    "    {x: delta_diff}, assumptions=defaults.assumptions + (Less(delta_diff, zero),))"
   ]
  },
  {
   "cell_type": "code",
   "execution_count": null,
   "metadata": {},
   "outputs": [],
   "source": [
    "# previously proven:\n",
    "_delta_not_eq_scaledNonzeroInt"
   ]
  },
  {
   "cell_type": "code",
   "execution_count": null,
   "metadata": {},
   "outputs": [],
   "source": [
    "delta_not_eq_scaledNonzeroInt_inst = _delta_not_eq_scaledNonzeroInt.instantiate({l:l})"
   ]
  },
  {
   "cell_type": "code",
   "execution_count": null,
   "metadata": {},
   "outputs": [],
   "source": [
    "NotEquals(delta_diff, zero).prove()"
   ]
  },
  {
   "cell_type": "code",
   "execution_count": null,
   "metadata": {},
   "outputs": [],
   "source": [
    "not_equals_is_less_than_or_greater_than"
   ]
  },
  {
   "cell_type": "code",
   "execution_count": null,
   "metadata": {},
   "outputs": [],
   "source": [
    "delta_diff_is_positive_or_negative = not_equals_is_less_than_or_greater_than.instantiate({a: zero, x: delta_diff})"
   ]
  },
  {
   "cell_type": "code",
   "execution_count": null,
   "metadata": {},
   "outputs": [],
   "source": [
    "delta_diff_is_positive_or_negative.operands[0].deduce_in_bool()"
   ]
  },
  {
   "cell_type": "code",
   "execution_count": null,
   "metadata": {},
   "outputs": [],
   "source": [
    "delta_diff_is_positive_or_negative.operands[1].deduce_in_bool()"
   ]
  },
  {
   "cell_type": "code",
   "execution_count": null,
   "metadata": {},
   "outputs": [],
   "source": [
    "not_in_ints_assuming_negative.deduce_in_bool()"
   ]
  },
  {
   "cell_type": "code",
   "execution_count": null,
   "metadata": {},
   "outputs": [],
   "source": [
    "left_or, right_or = delta_diff_is_positive_or_negative.operands"
   ]
  },
  {
   "cell_type": "code",
   "execution_count": null,
   "metadata": {},
   "outputs": [],
   "source": [
    "desired_conclusion = not_in_ints_assuming_negative.expr"
   ]
  },
  {
   "cell_type": "code",
   "execution_count": null,
   "metadata": {},
   "outputs": [],
   "source": [
    "left_impl_conclusion = Implies(left_or, desired_conclusion).prove(\n",
    "        assumptions=defaults.assumptions + (left_or,))"
   ]
  },
  {
   "cell_type": "code",
   "execution_count": null,
   "metadata": {},
   "outputs": [],
   "source": [
    "right_impl_conclusion = Implies(right_or, desired_conclusion).prove(\n",
    "        assumptions=defaults.assumptions + (right_or,))"
   ]
  },
  {
   "cell_type": "code",
   "execution_count": null,
   "metadata": {},
   "outputs": [],
   "source": [
    "not_in_ints = delta_diff_is_positive_or_negative.derive_via_dilemma(\n",
    "    not_in_ints_assuming_negative, assumptions=defaults.assumptions)"
   ]
  },
  {
   "cell_type": "code",
   "execution_count": null,
   "metadata": {},
   "outputs": [],
   "source": [
    "%qed"
   ]
  },
  {
   "cell_type": "code",
   "execution_count": null,
   "metadata": {},
   "outputs": [],
   "source": []
  }
 ],
 "metadata": {
  "kernelspec": {
   "display_name": "Python 3",
   "language": "python",
   "name": "python3"
  }
 },
 "nbformat": 4,
 "nbformat_minor": 0
}
