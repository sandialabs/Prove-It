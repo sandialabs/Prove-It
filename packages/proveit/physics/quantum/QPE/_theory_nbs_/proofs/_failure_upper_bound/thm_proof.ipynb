{
 "cells": [
  {
   "cell_type": "markdown",
   "metadata": {},
   "source": [
    "Proof of <a class=\"ProveItLink\" href=\"../../../../../../_theory_nbs_/theory.ipynb\">proveit</a>.<a class=\"ProveItLink\" href=\"../../../../../_theory_nbs_/theory.ipynb\">physics</a>.<a class=\"ProveItLink\" href=\"../../../../_theory_nbs_/theory.ipynb\">quantum</a>.<a class=\"ProveItLink\" href=\"../../theory.ipynb\">QPE</a>.<a class=\"ProveItLink\" href=\"../../theorems.ipynb#_failure_upper_bound\">_failure_upper_bound</a> theorem\n",
    "========"
   ]
  },
  {
   "cell_type": "code",
   "execution_count": null,
   "metadata": {},
   "outputs": [],
   "source": [
    "import proveit\n",
    "theory = proveit.Theory() # the theorem's theory\n",
    "from proveit import a, b, e, f, i, l, x, defaults, Lambda\n",
    "from proveit.logic import Equals, InSet, NotEquals\n",
    "from proveit.numbers import (\n",
    "    zero, one, two, four, Add, Exp, frac, greater, greater_eq,\n",
    "    Less, Mult, NaturalPos, Neg, Real, RealPos, subtract)\n",
    "from proveit.numbers.functions import MonDecFuncs\n",
    "from proveit.physics.quantum.QPE import ( # QPE common expressions\n",
    "    _alpha_l, _alpha_l_sqrd, _delta, _diff_l_scaled_delta_floor,\n",
    "    _full_domain, _neg_domain, _pos_domain, _t, _two_pow_t )\n",
    "from proveit.physics.quantum.QPE import ( # QPE axioms\n",
    "    _t_in_natural_pos, _mod_add_def )\n",
    "from proveit.physics.quantum.QPE import ( # QPE theorems\n",
    "    _b_floor, _best_floor_is_int, _delta_b_is_real, \n",
    "    _neg_domain_in_full_domain_sans_zero, _neg_domain_within_integer,\n",
    "    _phase_is_real, _pos_domain_in_full_domain_sans_zero, _pos_domain_within_integer, \n",
    "    _scaled_delta_b_floor_in_interval, _scaled_delta_b_is_zero_or_non_int,\n",
    "    _two_pow_t_minus_one_is_nat_pos, )\n",
    "from proveit.physics.quantum.QPE.phase_est_ops import Psuccess, Pfail, ModAdd"
   ]
  },
  {
   "cell_type": "code",
   "execution_count": null,
   "metadata": {},
   "outputs": [],
   "source": [
    "%proving _failure_upper_bound"
   ]
  },
  {
   "cell_type": "code",
   "execution_count": null,
   "metadata": {},
   "outputs": [],
   "source": [
    "defaults.assumptions = _failure_upper_bound.conditions"
   ]
  },
  {
   "cell_type": "markdown",
   "metadata": {},
   "source": [
    "### (1) Import & Instantiate the `_failure_upper_bound_lemma`"
   ]
  },
  {
   "cell_type": "code",
   "execution_count": null,
   "metadata": {},
   "outputs": [],
   "source": [
    "from proveit.physics.quantum.QPE import _failure_upper_bound_lemma\n",
    "_failure_upper_bound_lemma"
   ]
  },
  {
   "cell_type": "code",
   "execution_count": null,
   "metadata": {},
   "outputs": [],
   "source": [
    "_failure_upper_bound_lemma_inst = (\n",
    "        _failure_upper_bound_lemma.instantiate(preserve_expr=Neg(Add(e, one))))"
   ]
  },
  {
   "cell_type": "markdown",
   "metadata": {},
   "source": [
    "### (2) Establish some convenient labels for important expressions"
   ]
  },
  {
   "cell_type": "code",
   "execution_count": null,
   "metadata": {},
   "outputs": [],
   "source": [
    "first_sum = _failure_upper_bound_lemma_inst.rhs.operands[1].operands[0]"
   ]
  },
  {
   "cell_type": "code",
   "execution_count": null,
   "metadata": {},
   "outputs": [],
   "source": [
    "second_sum = _failure_upper_bound_lemma_inst.rhs.operands[1].operands[1]"
   ]
  },
  {
   "cell_type": "code",
   "execution_count": null,
   "metadata": {},
   "outputs": [],
   "source": [
    "the_summand = first_sum.summand"
   ]
  },
  {
   "cell_type": "code",
   "execution_count": null,
   "metadata": {},
   "outputs": [],
   "source": [
    "first_sum_conditions = first_sum.conditions[0]"
   ]
  },
  {
   "cell_type": "code",
   "execution_count": null,
   "metadata": {},
   "outputs": [],
   "source": [
    "second_sum_conditions = second_sum.conditions[0]"
   ]
  },
  {
   "cell_type": "code",
   "execution_count": null,
   "metadata": {},
   "outputs": [],
   "source": [
    "e_conditions = _failure_upper_bound.conditions[0]"
   ]
  },
  {
   "cell_type": "markdown",
   "metadata": {},
   "source": [
    "### (3) Some Initial Bounding of the Summand Denominator and variables $\\ell$ and $e$"
   ]
  },
  {
   "cell_type": "code",
   "execution_count": null,
   "metadata": {},
   "outputs": [],
   "source": [
    "_scaled_delta_b_floor_in_interval"
   ]
  },
  {
   "cell_type": "code",
   "execution_count": null,
   "metadata": {},
   "outputs": [],
   "source": [
    "_delta_b_is_real.instantiate({b:_b_floor})"
   ]
  },
  {
   "cell_type": "code",
   "execution_count": null,
   "metadata": {},
   "outputs": [],
   "source": [
    "# Automatic incidental derivation, but want to label the result for later use\n",
    "scaled_delta_lower_bound = _scaled_delta_b_floor_in_interval.derive_element_lower_bound()"
   ]
  },
  {
   "cell_type": "code",
   "execution_count": null,
   "metadata": {},
   "outputs": [],
   "source": [
    "# Automatic incidental derivation, but want to label the result for later use\n",
    "scaled_delta_upper_bound = _scaled_delta_b_floor_in_interval.derive_element_upper_bound()"
   ]
  },
  {
   "cell_type": "code",
   "execution_count": null,
   "metadata": {},
   "outputs": [],
   "source": [
    "neg_scaled_delta_lower_bound = scaled_delta_upper_bound.left_mult_both_sides(Neg(one))"
   ]
  },
  {
   "cell_type": "code",
   "execution_count": null,
   "metadata": {},
   "outputs": [],
   "source": [
    "neg_scaled_delta_upper_bound = scaled_delta_lower_bound.left_mult_both_sides(Neg(one))"
   ]
  },
  {
   "cell_type": "code",
   "execution_count": null,
   "metadata": {},
   "outputs": [],
   "source": [
    "_diff_l_scaled_delta_floor.deduce_bound(neg_scaled_delta_lower_bound,\n",
    "        assumptions=defaults.assumptions + (first_sum_conditions,))"
   ]
  },
  {
   "cell_type": "code",
   "execution_count": null,
   "metadata": {},
   "outputs": [],
   "source": [
    "# For the 1st Summation\n",
    "_diff_l_scaled_delta_upper_bound = _diff_l_scaled_delta_floor.deduce_bound(\n",
    "        neg_scaled_delta_upper_bound.reversed(),\n",
    "        assumptions=defaults.assumptions + (first_sum_conditions,))"
   ]
  },
  {
   "cell_type": "code",
   "execution_count": null,
   "metadata": {},
   "outputs": [],
   "source": [
    "# For the 2nd Summation\n",
    "_diff_l_scaled_delta_upper_bound_2 = _diff_l_scaled_delta_floor.deduce_bound(\n",
    "        neg_scaled_delta_lower_bound,\n",
    "        assumptions=defaults.assumptions + (second_sum_conditions,))"
   ]
  },
  {
   "cell_type": "markdown",
   "metadata": {},
   "source": [
    "Also need to demonstrate that we have:\n",
    "\n",
    "(1) For the 1st Summation: $\\ell < 0$ and $\\ell^2 \\in \\mathbb{R}^{+}$\n",
    "\n",
    "(2) For the 2nd Summation: $\\ell - 1 > 0$ and $\\ell^2 \\in \\mathbb{R}^{+}$"
   ]
  },
  {
   "cell_type": "code",
   "execution_count": null,
   "metadata": {},
   "outputs": [],
   "source": [
    "e_greater_eq_one = greater_eq(e, one).prove()"
   ]
  },
  {
   "cell_type": "code",
   "execution_count": null,
   "metadata": {},
   "outputs": [],
   "source": [
    "e_plus_one_greater_eq_two = e_greater_eq_one.right_add_both_sides(one)"
   ]
  },
  {
   "cell_type": "code",
   "execution_count": null,
   "metadata": {},
   "outputs": [],
   "source": [
    "neg_e_plus_one_less_eq_neg_two = Neg(Add(e, one)).bound_via_operand_bound(e_plus_one_greater_eq_two)"
   ]
  },
  {
   "cell_type": "code",
   "execution_count": null,
   "metadata": {},
   "outputs": [],
   "source": [
    "# For 1st summation\n",
    "ell_upper_bound = first_sum_conditions.derive_element_upper_bound(\n",
    "    assumptions=defaults.assumptions + (first_sum_conditions,))"
   ]
  },
  {
   "cell_type": "code",
   "execution_count": null,
   "metadata": {},
   "outputs": [],
   "source": [
    "# For 2nd Summation\n",
    "ell_lower_bound_02 = second_sum_conditions.derive_element_lower_bound(\n",
    "        assumptions = defaults.assumptions + (second_sum_conditions, ))"
   ]
  },
  {
   "cell_type": "code",
   "execution_count": null,
   "metadata": {},
   "outputs": [],
   "source": [
    "# For 1st Summation\n",
    "ell_upper_bound_neg_two = ell_upper_bound.apply_transitivity(neg_e_plus_one_less_eq_neg_two)"
   ]
  },
  {
   "cell_type": "code",
   "execution_count": null,
   "metadata": {},
   "outputs": [],
   "source": [
    "# For Second Summation\n",
    "ell_lower_bound_two_2 = ell_lower_bound_02.apply_transitivity(e_plus_one_greater_eq_two)"
   ]
  },
  {
   "cell_type": "code",
   "execution_count": null,
   "metadata": {},
   "outputs": [],
   "source": [
    "temp_bound_03 = ell_upper_bound_neg_two.right_add_both_sides(\n",
    "    neg_scaled_delta_lower_bound.lhs)"
   ]
  },
  {
   "cell_type": "code",
   "execution_count": null,
   "metadata": {},
   "outputs": [],
   "source": [
    "ell_lower_bound_two_2.right_add_both_sides(neg_scaled_delta_lower_bound.lhs)"
   ]
  },
  {
   "cell_type": "code",
   "execution_count": null,
   "metadata": {},
   "outputs": [],
   "source": [
    "display(scaled_delta_lower_bound)\n",
    "display(scaled_delta_upper_bound)"
   ]
  },
  {
   "cell_type": "code",
   "execution_count": null,
   "metadata": {},
   "outputs": [],
   "source": [
    "scaled_delta_plus_2_lower_bound = scaled_delta_lower_bound.left_add_both_sides(two)"
   ]
  },
  {
   "cell_type": "code",
   "execution_count": null,
   "metadata": {},
   "outputs": [],
   "source": [
    "temp_bound_06 = scaled_delta_plus_2_lower_bound.left_mult_both_sides(Neg(one)).with_styles(direction='normal')"
   ]
  },
  {
   "cell_type": "code",
   "execution_count": null,
   "metadata": {},
   "outputs": [],
   "source": [
    "temp_bound_07 = temp_bound_03.apply_transitivity(temp_bound_06)"
   ]
  },
  {
   "cell_type": "markdown",
   "metadata": {},
   "source": [
    "### (4) Bound on the First Summand and First Sum\n",
    "We can find an $\\ell$-dependent upper bound on the first summand, then an upper bound on the first summation."
   ]
  },
  {
   "cell_type": "code",
   "execution_count": null,
   "metadata": {},
   "outputs": [],
   "source": [
    "first_summand_bound_02 = the_summand.deduce_bound(scaled_delta_lower_bound.reversed(),\n",
    "        assumptions=defaults.assumptions + (first_sum_conditions,))"
   ]
  },
  {
   "cell_type": "code",
   "execution_count": null,
   "metadata": {},
   "outputs": [],
   "source": [
    "first_summand_bound_generalized = first_summand_bound_02.generalize((l), conditions=[first_sum_conditions])"
   ]
  },
  {
   "cell_type": "code",
   "execution_count": null,
   "metadata": {},
   "outputs": [],
   "source": [
    "first_sum_bound = first_sum.deduce_bound(first_summand_bound_generalized)"
   ]
  },
  {
   "cell_type": "markdown",
   "metadata": {},
   "source": [
    "### (5) Bound on the Second Summand and Second Sum\n",
    "We can find an $\\ell$-dependent upper bound on the second summand, then an upper bound on the second summation."
   ]
  },
  {
   "cell_type": "code",
   "execution_count": null,
   "metadata": {},
   "outputs": [],
   "source": [
    "second_summand_bound_02 = the_summand.deduce_bound(_diff_l_scaled_delta_upper_bound_2,\n",
    "        assumptions=defaults.assumptions + (second_sum_conditions,))"
   ]
  },
  {
   "cell_type": "code",
   "execution_count": null,
   "metadata": {},
   "outputs": [],
   "source": [
    "second_summand_bound_02_relaxed = second_summand_bound_02.derive_relaxed()"
   ]
  },
  {
   "cell_type": "code",
   "execution_count": null,
   "metadata": {},
   "outputs": [],
   "source": [
    "second_summand_bound_generalized = second_summand_bound_02.generalize([l], conditions=[second_sum_conditions])"
   ]
  },
  {
   "cell_type": "code",
   "execution_count": null,
   "metadata": {},
   "outputs": [],
   "source": [
    "second_summand_bound_relaxed_generalized = second_summand_bound_02_relaxed.generalize([l], conditions=[second_sum_conditions])"
   ]
  },
  {
   "cell_type": "code",
   "execution_count": null,
   "metadata": {},
   "outputs": [],
   "source": [
    "second_sum_bound = second_sum.deduce_bound(second_summand_bound_relaxed_generalized)"
   ]
  },
  {
   "cell_type": "markdown",
   "metadata": {},
   "source": [
    "### (6) Bound on the Sum of Summations"
   ]
  },
  {
   "cell_type": "markdown",
   "metadata": {},
   "source": [
    "Now we're ready to invoke our `deduce_bound()` method utilizing the bounds we've established on each separate summation.<br/>\n",
    "The following three steps correspond to the transition from (5.30) to (5.31) in Nielsen & Chuang (pg 224):"
   ]
  },
  {
   "cell_type": "code",
   "execution_count": null,
   "metadata": {},
   "outputs": [],
   "source": [
    "_failure_upper_bound_lemma_inst_bound_01 = _failure_upper_bound_lemma_inst.rhs.deduce_bound(first_sum_bound)"
   ]
  },
  {
   "cell_type": "code",
   "execution_count": null,
   "metadata": {},
   "outputs": [],
   "source": [
    "_failure_upper_bound_lemma_inst_bound_02 = _failure_upper_bound_lemma_inst_bound_01.rhs.deduce_bound(second_sum_bound)"
   ]
  },
  {
   "cell_type": "code",
   "execution_count": null,
   "metadata": {},
   "outputs": [],
   "source": [
    "_failure_upper_bound_lemma_inst_bound_03 = (\n",
    "    _failure_upper_bound_lemma_inst_bound_01.apply_transitivity(_failure_upper_bound_lemma_inst_bound_02))"
   ]
  },
  {
   "cell_type": "markdown",
   "metadata": {},
   "source": [
    "Next, shift the index of the second summation to create identical summands in each of the summations:"
   ]
  },
  {
   "cell_type": "code",
   "execution_count": null,
   "metadata": {},
   "outputs": [],
   "source": [
    "_failure_upper_bound_lemma_inst_bound_04 = (\n",
    "    _failure_upper_bound_lemma_inst_bound_03.inner_expr().rhs.operands[1].\n",
    "    operands[1].shift(Neg(one)))"
   ]
  },
  {
   "cell_type": "markdown",
   "metadata": {},
   "source": [
    "Then negate and flip the order of indices on the first summation (possible because the summand is an even function)."
   ]
  },
  {
   "cell_type": "code",
   "execution_count": null,
   "metadata": {},
   "outputs": [],
   "source": [
    "# ACTUALLY, this theorem is FALSE, so this is quite annoying\n",
    "# This works for something like x^2 or even 1/x^2 (as we have),\n",
    "# but not more generally for something like (x-1)^2.\n",
    "# In other words, we need f(x) \\in EvenFuncs.\n",
    "from proveit.numbers.summation import even_fxn_sum\n",
    "even_fxn_sum"
   ]
  },
  {
   "cell_type": "code",
   "execution_count": null,
   "metadata": {},
   "outputs": [],
   "source": [
    "_a_sub, _b_sub, _x_sub, _f_sub = (\n",
    "    first_sum_conditions.domain.lower_bound,\n",
    "    first_sum_conditions.domain.upper_bound,\n",
    "    l,\n",
    "    Lambda(l, frac(one, l)))"
   ]
  },
  {
   "cell_type": "code",
   "execution_count": null,
   "metadata": {},
   "outputs": [],
   "source": [
    "even_fxn_sum_inst = even_fxn_sum.instantiate({a: _a_sub, b: _b_sub, x: _x_sub, f: _f_sub})"
   ]
  },
  {
   "cell_type": "code",
   "execution_count": null,
   "metadata": {},
   "outputs": [],
   "source": [
    "first_sum_conditions_reversed = even_fxn_sum_inst.rhs.conditions[0]"
   ]
  },
  {
   "cell_type": "code",
   "execution_count": null,
   "metadata": {},
   "outputs": [],
   "source": [
    "fxn_sqrd_eq_one_over_sqr_01 = Exp(frac(one, l), two).distribution(assumptions=defaults.assumptions+(first_sum_conditions,))"
   ]
  },
  {
   "cell_type": "code",
   "execution_count": null,
   "metadata": {},
   "outputs": [],
   "source": [
    "# under the reversed index conditions, need to know that ell is still real?\n",
    "InSet(l, Real).prove(assumptions=defaults.assumptions+(first_sum_conditions_reversed,))"
   ]
  },
  {
   "cell_type": "code",
   "execution_count": null,
   "metadata": {},
   "outputs": [],
   "source": [
    "# and under the reversed index conditions, need to know the substitution works\n",
    "fxn_sqrd_eq_one_over_sqr_02 = Exp(frac(one, l), two).distribution(assumptions=defaults.assumptions+(first_sum_conditions_reversed,))"
   ]
  },
  {
   "cell_type": "code",
   "execution_count": null,
   "metadata": {},
   "outputs": [],
   "source": [
    "even_fxn_sum_inst_sub_lhs = even_fxn_sum_inst.inner_expr().lhs.summand.substitute(\n",
    "    fxn_sqrd_eq_one_over_sqr_01,\n",
    "    assumptions=defaults.assumptions+(first_sum_conditions,))"
   ]
  },
  {
   "cell_type": "code",
   "execution_count": null,
   "metadata": {},
   "outputs": [],
   "source": [
    "even_fxn_sum_inst_sub_lhs_rhs = even_fxn_sum_inst_sub_lhs.inner_expr().rhs.summand.substitute(\n",
    "    fxn_sqrd_eq_one_over_sqr_02,\n",
    "    assumptions=defaults.assumptions+(first_sum_conditions_reversed,))"
   ]
  },
  {
   "cell_type": "code",
   "execution_count": null,
   "metadata": {},
   "outputs": [],
   "source": [
    "# recall the state of our bound thus far\n",
    "_failure_upper_bound_lemma_inst_bound_04"
   ]
  },
  {
   "cell_type": "code",
   "execution_count": null,
   "metadata": {},
   "outputs": [],
   "source": [
    "_failure_upper_bound_lemma_inst_bound_05 = (\n",
    "    _failure_upper_bound_lemma_inst_bound_04.inner_expr().rhs.operands[1].\n",
    "    operands[0].substitute(even_fxn_sum_inst_sub_lhs_rhs))"
   ]
  },
  {
   "cell_type": "markdown",
   "metadata": {},
   "source": [
    "To split the first term off the 2nd summation on the rhs, we need to first explicitly establish that $e \\le 2^{t-1} - 1$ (otherwise there is no “first” term to peel off)."
   ]
  },
  {
   "cell_type": "code",
   "execution_count": null,
   "metadata": {},
   "outputs": [],
   "source": [
    "e_upper_bound = e_conditions.derive_element_upper_bound()"
   ]
  },
  {
   "cell_type": "code",
   "execution_count": null,
   "metadata": {},
   "outputs": [],
   "source": [
    "e_new_upper_bound = e_upper_bound.add_right(one)"
   ]
  },
  {
   "cell_type": "markdown",
   "metadata": {},
   "source": [
    "Now we're ready to split off the first element of the second summation.<br/>\n",
    "Nielsen & Chuang originally split off the first element of the _first_ summation, eventually leading to a bound requiring $e \\ge 2$.<br/>\n",
    "Instead, we split off the first term of the _second_ summation, allowing us to eventually derive a bound valid for $e \\ge 1$.<br/>\n",
    "In doing so, the resulting expression is auto-simplified to combine the two resulting like-summations:"
   ]
  },
  {
   "cell_type": "code",
   "execution_count": null,
   "metadata": {},
   "outputs": [],
   "source": [
    "bound_07 = _failure_upper_bound_lemma_inst_bound_05.inner_expr().rhs.factors[1].operands[1].split_first()"
   ]
  },
  {
   "cell_type": "code",
   "execution_count": null,
   "metadata": {},
   "outputs": [],
   "source": [
    "bound_08 = bound_07.inner_expr().rhs.distribute(1)"
   ]
  },
  {
   "cell_type": "code",
   "execution_count": null,
   "metadata": {},
   "outputs": [],
   "source": [
    "# summation-to-integral bounding theorem consistent with\n",
    "# Nielsen & Chuang's step from 5.32 to 5.33 (pg 224):\n",
    "from proveit.numbers.summation import sum_integrate_ineq_NC\n",
    "sum_integrate_ineq_NC"
   ]
  },
  {
   "cell_type": "code",
   "execution_count": null,
   "metadata": {},
   "outputs": [],
   "source": [
    "from proveit.numbers.functions import one_over_x_sqrd_in_mon_dec_fxns\n",
    "one_over_x_sqrd_in_mon_dec_fxns"
   ]
  },
  {
   "cell_type": "code",
   "execution_count": null,
   "metadata": {},
   "outputs": [],
   "source": [
    "summand_in_mon_dec_funcs = one_over_x_sqrd_in_mon_dec_fxns.instantiate({x:l})"
   ]
  },
  {
   "cell_type": "code",
   "execution_count": null,
   "metadata": {},
   "outputs": [],
   "source": [
    "# instantiate our summation-bounding integral theorem\n",
    "from proveit import S\n",
    "from proveit.numbers import RealPos\n",
    "_S_sub, _f_sub, _a_sub, _b_sub, _x_sub = (\n",
    "    RealPos, summand_in_mon_dec_funcs.element,\n",
    "    bound_08.rhs.operands[0].operands[1].domain.lower_bound,\n",
    "    bound_08.rhs.operands[0].operands[1].domain.upper_bound,\n",
    "    l)\n",
    "sum_integrate_ineq_NC_inst = sum_integrate_ineq_NC.instantiate(\n",
    "    {S: _S_sub, f: _f_sub, a: _a_sub, b: _b_sub, x: _x_sub})"
   ]
  },
  {
   "cell_type": "code",
   "execution_count": null,
   "metadata": {},
   "outputs": [],
   "source": [
    "InSet(l, sum_integrate_ineq_NC_inst.rhs.domain).derive_element_lower_bound(\n",
    "    assumptions=defaults.assumptions + (InSet(l, sum_integrate_ineq_NC_inst.rhs.domain),))"
   ]
  },
  {
   "cell_type": "code",
   "execution_count": null,
   "metadata": {},
   "outputs": [],
   "source": [
    "sum_integrate_ineq_NC_inst.rhs.deduce_in_number_set(\n",
    "    Real, assumptions=defaults.assumptions + (InSet(l, sum_integrate_ineq_NC_inst.rhs.domain),))"
   ]
  },
  {
   "cell_type": "code",
   "execution_count": null,
   "metadata": {},
   "outputs": [],
   "source": [
    "bound_10 = bound_08.rhs.deduce_bound(sum_integrate_ineq_NC_inst,\n",
    "            assumptions=defaults.assumptions + (InSet(l, sum_integrate_ineq_NC_inst.rhs.domain),))"
   ]
  },
  {
   "cell_type": "code",
   "execution_count": null,
   "metadata": {},
   "outputs": [],
   "source": [
    "bound_11 = bound_08.apply_transitivity(bound_10)"
   ]
  },
  {
   "cell_type": "code",
   "execution_count": null,
   "metadata": {},
   "outputs": [],
   "source": [
    "from proveit.numbers.integration import boundedInvSqrdIntegral\n",
    "boundedInvSqrdIntegral"
   ]
  },
  {
   "cell_type": "markdown",
   "metadata": {},
   "source": [
    "Need to establish that $2^{t-1}-1$ is in RealPos."
   ]
  },
  {
   "cell_type": "code",
   "execution_count": null,
   "metadata": {},
   "outputs": [],
   "source": [
    "integral_domain = bound_11.rhs.operands[0].operands[1].domain\n",
    "_a_sub = integral_domain.lower_bound\n",
    "_b_sub = integral_domain.upper_bound\n",
    "integral_bound = boundedInvSqrdIntegral.instantiate({a: _a_sub, b: _b_sub})"
   ]
  },
  {
   "cell_type": "code",
   "execution_count": null,
   "metadata": {},
   "outputs": [],
   "source": [
    "bound_12 = bound_11.rhs.deduce_bound(integral_bound)"
   ]
  },
  {
   "cell_type": "code",
   "execution_count": null,
   "metadata": {},
   "outputs": [],
   "source": [
    "bound_13 = bound_11.apply_transitivity(bound_12)"
   ]
  },
  {
   "cell_type": "code",
   "execution_count": null,
   "metadata": {},
   "outputs": [],
   "source": [
    "# qed fails here, with the following error:\n",
    "# Sum simplification only implemented for a summation over an integer\n",
    "# Interval of one instance variable where the upper and lower bounds are the same.\n",
    "# %qed"
   ]
  },
  {
   "cell_type": "code",
   "execution_count": null,
   "metadata": {},
   "outputs": [],
   "source": [
    "# then we need this before using transitivity futher below\n",
    "from proveit.physics.quantum.QPE import _pfail_in_real\n",
    "_pfail_in_real"
   ]
  },
  {
   "cell_type": "code",
   "execution_count": null,
   "metadata": {},
   "outputs": [],
   "source": [
    "# fail_ineq_lemma_inst\n",
    "_failure_upper_bound_lemma_inst"
   ]
  },
  {
   "cell_type": "code",
   "execution_count": null,
   "metadata": {},
   "outputs": [],
   "source": [
    "# bound_14 = fail_ineq_lemma_inst.apply_transitivity(bound_13)\n",
    "bound_14 = _failure_upper_bound_lemma_inst.apply_transitivity(bound_13)"
   ]
  },
  {
   "cell_type": "code",
   "execution_count": null,
   "metadata": {},
   "outputs": [],
   "source": [
    "%qed"
   ]
  },
  {
   "cell_type": "code",
   "execution_count": null,
   "metadata": {},
   "outputs": [],
   "source": []
  }
 ],
 "metadata": {
  "kernelspec": {
   "display_name": "Python 3",
   "language": "python",
   "name": "python3"
  }
 },
 "nbformat": 4,
 "nbformat_minor": 0
}
