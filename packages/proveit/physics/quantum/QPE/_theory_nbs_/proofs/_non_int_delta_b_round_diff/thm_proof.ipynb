{
 "cells": [
  {
   "cell_type": "markdown",
   "metadata": {},
   "source": [
    "Proof of <a class=\"ProveItLink\" href=\"../../../../../../_theory_nbs_/theory.ipynb\">proveit</a>.<a class=\"ProveItLink\" href=\"../../../../../_theory_nbs_/theory.ipynb\">physics</a>.<a class=\"ProveItLink\" href=\"../../../../_theory_nbs_/theory.ipynb\">quantum</a>.<a class=\"ProveItLink\" href=\"../../theory.ipynb\">QPE</a>.<a class=\"ProveItLink\" href=\"../../theorems.ipynb#_non_int_delta_b_round_diff\">_non_int_delta_b_round_diff</a> theorem\n",
    "========"
   ]
  },
  {
   "cell_type": "code",
   "execution_count": null,
   "metadata": {},
   "outputs": [],
   "source": [
    "import proveit\n",
    "theory = proveit.Theory() # the theorem's theory\n",
    "from proveit import a, b, c, l, n, x, defaults\n",
    "from proveit.logic import Implies, InSet, NotEquals\n",
    "from proveit.numbers import zero, one, two, Add, frac, IntervalOO, Less, NaturalPos, Neg\n",
    "from proveit.numbers.exponentiation import exponential_monotonocity\n",
    "from proveit.numbers.number_sets.real_numbers import not_int_if_between_successive_int\n",
    "from proveit.numbers.ordering import not_equals_is_less_than_or_greater_than\n",
    "from proveit.physics.quantum.QPE import (\n",
    "        _delta_b_is_real, _delta_b_round_diff_in_interval,\n",
    "        _delta_b_round_not_eq_scaledNonzeroInt, _t,\n",
    "        _t_in_natural_pos, _two_pow_t_is_nat_pos,\n",
    "        _two_pow_t_minus_one_is_nat_pos, _two_pow__t_plus_one)"
   ]
  },
  {
   "cell_type": "code",
   "execution_count": null,
   "metadata": {},
   "outputs": [],
   "source": [
    "%proving _non_int_delta_b_round_diff"
   ]
  },
  {
   "cell_type": "code",
   "execution_count": null,
   "metadata": {},
   "outputs": [],
   "source": [
    "defaults.assumptions = _non_int_delta_b_round_diff.all_conditions()"
   ]
  },
  {
   "cell_type": "code",
   "execution_count": null,
   "metadata": {},
   "outputs": [],
   "source": [
    "# for convenience, label the element\n",
    "delta_diff = _non_int_delta_b_round_diff.instance_expr.element"
   ]
  },
  {
   "cell_type": "code",
   "execution_count": null,
   "metadata": {},
   "outputs": [],
   "source": [
    "# previously proven; needed for establishing that the\n",
    "# assumed ell domain consists of integers\n",
    "_two_pow_t_minus_one_is_nat_pos"
   ]
  },
  {
   "cell_type": "code",
   "execution_count": null,
   "metadata": {},
   "outputs": [],
   "source": [
    "ell_in_interval = _non_int_delta_b_round_diff.all_conditions()[0]"
   ]
  },
  {
   "cell_type": "code",
   "execution_count": null,
   "metadata": {},
   "outputs": [],
   "source": [
    "ell_in_interval.derive_element_in_integer()"
   ]
  },
  {
   "cell_type": "code",
   "execution_count": null,
   "metadata": {},
   "outputs": [],
   "source": [
    "# previously proven:\n",
    "_delta_b_round_diff_in_interval"
   ]
  },
  {
   "cell_type": "code",
   "execution_count": null,
   "metadata": {},
   "outputs": [],
   "source": [
    "delta_diff_in_interval_inst = _delta_b_round_diff_in_interval.instantiate()"
   ]
  },
  {
   "cell_type": "markdown",
   "metadata": {},
   "source": [
    "### Upper Bound: $\\delta_{b_r} - \\frac{\\ell}{2^t} < 1$"
   ]
  },
  {
   "cell_type": "code",
   "execution_count": null,
   "metadata": {},
   "outputs": [],
   "source": [
    "_two_pow_t_is_nat_pos"
   ]
  },
  {
   "cell_type": "code",
   "execution_count": null,
   "metadata": {},
   "outputs": [],
   "source": [
    "_t_in_natural_pos"
   ]
  },
  {
   "cell_type": "code",
   "execution_count": null,
   "metadata": {},
   "outputs": [],
   "source": [
    "InSet(_two_pow__t_plus_one, NaturalPos).prove()"
   ]
  },
  {
   "cell_type": "code",
   "execution_count": null,
   "metadata": {},
   "outputs": [],
   "source": [
    "# explicitly prove that delta_diff is Real\n",
    "delta_diff_in_interval_inst.derive_element_in_real()"
   ]
  },
  {
   "cell_type": "code",
   "execution_count": null,
   "metadata": {},
   "outputs": [],
   "source": [
    "delta_diff_upper_bound = delta_diff_in_interval_inst.derive_element_upper_bound()"
   ]
  },
  {
   "cell_type": "code",
   "execution_count": null,
   "metadata": {},
   "outputs": [],
   "source": [
    "delta_diff_lower_bound = delta_diff_in_interval_inst.derive_element_lower_bound()"
   ]
  },
  {
   "cell_type": "code",
   "execution_count": null,
   "metadata": {},
   "outputs": [],
   "source": [
    "Less(delta_diff_upper_bound.rhs, one).prove()"
   ]
  },
  {
   "cell_type": "code",
   "execution_count": null,
   "metadata": {},
   "outputs": [],
   "source": [
    "# might not explicitly need this one?\n",
    "delta_diff_less_than_1 = Less(delta_diff, one).prove()"
   ]
  },
  {
   "cell_type": "markdown",
   "metadata": {},
   "source": [
    "Need to also show that $\\frac{1}{2} - \\frac{1}{2^{t+1}} > 0$, which Prove-It will not automatically prove."
   ]
  },
  {
   "cell_type": "code",
   "execution_count": null,
   "metadata": {},
   "outputs": [],
   "source": [
    "Less(one, Add(_t, one)).prove()"
   ]
  },
  {
   "cell_type": "code",
   "execution_count": null,
   "metadata": {},
   "outputs": [],
   "source": [
    "exponential_monotonocity"
   ]
  },
  {
   "cell_type": "code",
   "execution_count": null,
   "metadata": {},
   "outputs": [],
   "source": [
    "two_less_two_pow__t_plus_one = exponential_monotonocity.instantiate({a: two, b: one, c: Add(_t, one)})"
   ]
  },
  {
   "cell_type": "code",
   "execution_count": null,
   "metadata": {},
   "outputs": [],
   "source": [
    "delta_diff_upper_bound.rhs.operands[1].operand.deduce_bound([two_less_two_pow__t_plus_one.reversed()])"
   ]
  },
  {
   "cell_type": "code",
   "execution_count": null,
   "metadata": {},
   "outputs": [],
   "source": [
    "Less(zero, delta_diff_upper_bound.rhs).prove()"
   ]
  },
  {
   "cell_type": "markdown",
   "metadata": {},
   "source": [
    "### Lower Bound: $\\delta_{b_r} - \\frac{\\ell}{2^t} >= -1$"
   ]
  },
  {
   "cell_type": "code",
   "execution_count": null,
   "metadata": {},
   "outputs": [],
   "source": [
    "# this helps avoid an \"Infinite 'conclude' recursion blocked\" ProofFailure in the next step\n",
    "frac(Neg(one), one).factorization(one)"
   ]
  },
  {
   "cell_type": "code",
   "execution_count": null,
   "metadata": {},
   "outputs": [],
   "source": [
    "Less(Neg(one), delta_diff_lower_bound.lhs).prove()"
   ]
  },
  {
   "cell_type": "markdown",
   "metadata": {},
   "source": [
    "### Now The General Proof"
   ]
  },
  {
   "cell_type": "code",
   "execution_count": null,
   "metadata": {},
   "outputs": [],
   "source": [
    "InSet(delta_diff, IntervalOO(zero, one)).conclude(assumptions=defaults.assumptions + (Less(zero, delta_diff),))"
   ]
  },
  {
   "cell_type": "code",
   "execution_count": null,
   "metadata": {},
   "outputs": [],
   "source": [
    "InSet(delta_diff, IntervalOO(Neg(one), zero)).prove(assumptions=defaults.assumptions + (Less(delta_diff, zero),))"
   ]
  },
  {
   "cell_type": "code",
   "execution_count": null,
   "metadata": {},
   "outputs": [],
   "source": [
    "not_int_if_between_successive_int"
   ]
  },
  {
   "cell_type": "code",
   "execution_count": null,
   "metadata": {},
   "outputs": [],
   "source": [
    "not_in_ints_eq_01 = not_int_if_between_successive_int.instantiate({n: zero})"
   ]
  },
  {
   "cell_type": "code",
   "execution_count": null,
   "metadata": {},
   "outputs": [],
   "source": [
    "not_in_ints_eq_02 = not_int_if_between_successive_int.instantiate({n: Neg(one)})"
   ]
  },
  {
   "cell_type": "code",
   "execution_count": null,
   "metadata": {},
   "outputs": [],
   "source": [
    "not_in_ints_assuming_positive = not_in_ints_eq_01.instantiate(\n",
    "    {x: delta_diff}, assumptions=defaults.assumptions + (Less(zero, delta_diff),))"
   ]
  },
  {
   "cell_type": "code",
   "execution_count": null,
   "metadata": {},
   "outputs": [],
   "source": [
    "not_in_ints_assuming_negative = not_in_ints_eq_02.instantiate(\n",
    "    {x: delta_diff}, assumptions=defaults.assumptions + (Less(delta_diff, zero),))"
   ]
  },
  {
   "cell_type": "code",
   "execution_count": null,
   "metadata": {},
   "outputs": [],
   "source": [
    "# previously proven:\n",
    "_delta_b_round_not_eq_scaledNonzeroInt"
   ]
  },
  {
   "cell_type": "code",
   "execution_count": null,
   "metadata": {},
   "outputs": [],
   "source": [
    "_delta_b_round_not_eq_scaledNonzeroInt_inst = (\n",
    "        _delta_b_round_not_eq_scaledNonzeroInt.instantiate({l:l}))"
   ]
  },
  {
   "cell_type": "code",
   "execution_count": null,
   "metadata": {},
   "outputs": [],
   "source": [
    "NotEquals(delta_diff, zero).prove()"
   ]
  },
  {
   "cell_type": "code",
   "execution_count": null,
   "metadata": {},
   "outputs": [],
   "source": [
    "not_equals_is_less_than_or_greater_than"
   ]
  },
  {
   "cell_type": "code",
   "execution_count": null,
   "metadata": {},
   "outputs": [],
   "source": [
    "delta_diff_is_positive_or_negative = (\n",
    "    not_equals_is_less_than_or_greater_than.instantiate({a: zero, x: delta_diff}))"
   ]
  },
  {
   "cell_type": "code",
   "execution_count": null,
   "metadata": {},
   "outputs": [],
   "source": [
    "left_or, right_or = delta_diff_is_positive_or_negative.operands"
   ]
  },
  {
   "cell_type": "code",
   "execution_count": null,
   "metadata": {},
   "outputs": [],
   "source": [
    "desired_conclusion = not_in_ints_assuming_negative.expr"
   ]
  },
  {
   "cell_type": "code",
   "execution_count": null,
   "metadata": {},
   "outputs": [],
   "source": [
    "left_impl_conclusion = Implies(left_or, desired_conclusion).prove(\n",
    "        assumptions=defaults.assumptions + (left_or,))"
   ]
  },
  {
   "cell_type": "code",
   "execution_count": null,
   "metadata": {},
   "outputs": [],
   "source": [
    "right_impl_conclusion = Implies(right_or, desired_conclusion).prove(\n",
    "        assumptions=defaults.assumptions + (right_or,))"
   ]
  },
  {
   "cell_type": "code",
   "execution_count": null,
   "metadata": {},
   "outputs": [],
   "source": [
    "not_in_ints = delta_diff_is_positive_or_negative.derive_via_dilemma(\n",
    "    not_in_ints_assuming_negative, assumptions=defaults.assumptions)"
   ]
  },
  {
   "cell_type": "code",
   "execution_count": null,
   "metadata": {},
   "outputs": [],
   "source": [
    "%qed"
   ]
  },
  {
   "cell_type": "code",
   "execution_count": null,
   "metadata": {},
   "outputs": [],
   "source": []
  }
 ],
 "metadata": {
  "kernelspec": {
   "display_name": "Python 3",
   "language": "python",
   "name": "python3"
  }
 },
 "nbformat": 4,
 "nbformat_minor": 0
}
