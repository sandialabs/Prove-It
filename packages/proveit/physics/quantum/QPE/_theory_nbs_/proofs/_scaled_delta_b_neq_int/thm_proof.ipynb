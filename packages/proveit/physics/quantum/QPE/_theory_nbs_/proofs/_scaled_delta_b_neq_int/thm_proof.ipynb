{
 "cells": [
  {
   "cell_type": "markdown",
   "metadata": {},
   "source": [
    "Proof of <a class=\"ProveItLink\" href=\"../../../../../../_theory_nbs_/theory.ipynb\">proveit</a>.<a class=\"ProveItLink\" href=\"../../../../../_theory_nbs_/theory.ipynb\">physics</a>.<a class=\"ProveItLink\" href=\"../../../../_theory_nbs_/theory.ipynb\">quantum</a>.<a class=\"ProveItLink\" href=\"../../theory.ipynb\">QPE</a>.<a class=\"ProveItLink\" href=\"../../theorems.ipynb#_scaled_delta_b_neq_int\">_scaled_delta_b_neq_int</a> theorem\n",
    "========"
   ]
  },
  {
   "cell_type": "code",
   "execution_count": null,
   "metadata": {},
   "outputs": [],
   "source": [
    "import proveit\n",
    "theory = proveit.Theory() # the theorem's theory"
   ]
  },
  {
   "cell_type": "code",
   "execution_count": null,
   "metadata": {},
   "outputs": [],
   "source": [
    "%proving _scaled_delta_b_neq_int"
   ]
  },
  {
   "cell_type": "code",
   "execution_count": null,
   "metadata": {},
   "outputs": [],
   "source": [
    "from proveit import defaults\n",
    "defaults.assumptions = _scaled_delta_b_neq_int.conditions"
   ]
  },
  {
   "cell_type": "code",
   "execution_count": null,
   "metadata": {},
   "outputs": [],
   "source": [
    "# for convenience, name the individual assumptions\n",
    "ell_in_integers = defaults.assumptions[1]"
   ]
  },
  {
   "cell_type": "code",
   "execution_count": null,
   "metadata": {},
   "outputs": [],
   "source": [
    "# for convenience, name the individual assumptions\n",
    "delta_b_not_zero = defaults.assumptions[2]"
   ]
  },
  {
   "cell_type": "code",
   "execution_count": null,
   "metadata": {},
   "outputs": [],
   "source": [
    "# for convenience, name the scaled delta expression\n",
    "_scaled_delta = _scaled_delta_b_neq_int.instance_expr.lhs"
   ]
  },
  {
   "cell_type": "code",
   "execution_count": null,
   "metadata": {},
   "outputs": [],
   "source": [
    "from proveit.physics.quantum.QPE import _scaled_delta_b_is_zero_or_non_int\n",
    "_scaled_delta_b_is_zero_or_non_int"
   ]
  },
  {
   "cell_type": "code",
   "execution_count": null,
   "metadata": {},
   "outputs": [],
   "source": [
    "_scaled_delta_b_is_zero_or_non_int_inst = (\n",
    "        _scaled_delta_b_is_zero_or_non_int.instantiate())"
   ]
  },
  {
   "cell_type": "code",
   "execution_count": null,
   "metadata": {},
   "outputs": [],
   "source": [
    "from proveit.physics.quantum.QPE import _two_pow_t_is_nat_pos\n",
    "_two_pow_t_is_nat_pos"
   ]
  },
  {
   "cell_type": "code",
   "execution_count": null,
   "metadata": {},
   "outputs": [],
   "source": [
    "from proveit.physics.quantum.QPE import _best_floor_is_int\n",
    "_best_floor_is_int"
   ]
  },
  {
   "cell_type": "code",
   "execution_count": null,
   "metadata": {},
   "outputs": [],
   "source": [
    "from proveit.physics.quantum.QPE import _best_round_is_int\n",
    "_best_round_is_int"
   ]
  },
  {
   "cell_type": "code",
   "execution_count": null,
   "metadata": {},
   "outputs": [],
   "source": [
    "from proveit.physics.quantum.QPE import _delta_b_is_real\n",
    "_delta_b_is_real"
   ]
  },
  {
   "cell_type": "code",
   "execution_count": null,
   "metadata": {},
   "outputs": [],
   "source": [
    "from proveit import b\n",
    "from proveit.physics.quantum.QPE import _b_floor\n",
    "_delta_b_is_real.instantiate({b: _b_floor})"
   ]
  },
  {
   "cell_type": "code",
   "execution_count": null,
   "metadata": {},
   "outputs": [],
   "source": [
    "from proveit.physics.quantum.QPE import _b_round\n",
    "_delta_b_is_real.instantiate({b: _b_round})"
   ]
  },
  {
   "cell_type": "code",
   "execution_count": null,
   "metadata": {},
   "outputs": [],
   "source": [
    "from proveit.logic import Forall, InSet, Set\n",
    "from proveit.numbers import Real\n",
    "from proveit.physics.quantum.QPE import _delta_b\n",
    "all_delta_b_are_real = Forall(b,\n",
    "       InSet(_delta_b, Real),\n",
    "       domain=Set(_b_floor, _b_round)).prove()"
   ]
  },
  {
   "cell_type": "code",
   "execution_count": null,
   "metadata": {},
   "outputs": [],
   "source": [
    "from proveit.logic import NotEquals\n",
    "from proveit.numbers import zero\n",
    "NotEquals(_scaled_delta, zero).prove()"
   ]
  },
  {
   "cell_type": "code",
   "execution_count": null,
   "metadata": {},
   "outputs": [],
   "source": [
    "scaled_delta_not_in_integers = (\n",
    "    _scaled_delta_b_is_zero_or_non_int_inst.derive_right_if_not_left())"
   ]
  },
  {
   "cell_type": "code",
   "execution_count": null,
   "metadata": {},
   "outputs": [],
   "source": [
    "# Assume to the contrary that _scaled_delta_b = ell\n",
    "from proveit import l\n",
    "from proveit.logic import Equals\n",
    "contradictory_assumption = Equals(_scaled_delta, l)"
   ]
  },
  {
   "cell_type": "code",
   "execution_count": null,
   "metadata": {},
   "outputs": [],
   "source": [
    "contradictory_conclusion = (\n",
    "    scaled_delta_not_in_integers.inner_expr().element.\n",
    "    substitute(contradictory_assumption.rhs,\n",
    "    assumptions=[*defaults.assumptions, contradictory_assumption]).unfold())"
   ]
  },
  {
   "cell_type": "code",
   "execution_count": null,
   "metadata": {},
   "outputs": [],
   "source": [
    "from proveit.logic import And\n",
    "contradictory_and = And(contradictory_conclusion, ell_in_integers).prove(\n",
    "assumptions=[*defaults.assumptions, contradictory_assumption])"
   ]
  },
  {
   "cell_type": "code",
   "execution_count": null,
   "metadata": {},
   "outputs": [],
   "source": [
    "contradictory_and_as_imp = contradictory_and.as_implication(contradictory_assumption)"
   ]
  },
  {
   "cell_type": "code",
   "execution_count": null,
   "metadata": {},
   "outputs": [],
   "source": [
    "contradictory_and_as_imp.deny_antecedent()"
   ]
  },
  {
   "cell_type": "code",
   "execution_count": null,
   "metadata": {},
   "outputs": [],
   "source": [
    "%qed"
   ]
  },
  {
   "cell_type": "code",
   "execution_count": null,
   "metadata": {},
   "outputs": [],
   "source": []
  }
 ],
 "metadata": {
  "kernelspec": {
   "display_name": "Python 3",
   "language": "python",
   "name": "python3"
  }
 },
 "nbformat": 4,
 "nbformat_minor": 0
}
