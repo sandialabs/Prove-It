{
 "cells": [
  {
   "cell_type": "markdown",
   "metadata": {},
   "source": [
    "Proof of <a class=\"ProveItLink\" href=\"../../../../../../_theory_nbs_/theory.ipynb\">proveit</a>.<a class=\"ProveItLink\" href=\"../../../../../_theory_nbs_/theory.ipynb\">physics</a>.<a class=\"ProveItLink\" href=\"../../../../_theory_nbs_/theory.ipynb\">quantum</a>.<a class=\"ProveItLink\" href=\"../../theory.ipynb\">QPE</a>.<a class=\"ProveItLink\" href=\"../../theorems.ipynb#_delta_b_diff_exp_not_one\">_delta_b_diff_exp_not_one</a> theorem\n",
    "========"
   ]
  },
  {
   "cell_type": "code",
   "execution_count": null,
   "metadata": {},
   "outputs": [],
   "source": [
    "import proveit\n",
    "theory = proveit.Theory() # the theorem's theory\n",
    "from proveit import defaults"
   ]
  },
  {
   "cell_type": "code",
   "execution_count": null,
   "metadata": {},
   "outputs": [],
   "source": [
    "%proving _delta_b_diff_exp_not_one"
   ]
  },
  {
   "cell_type": "code",
   "execution_count": null,
   "metadata": {},
   "outputs": [],
   "source": [
    "defaults.assumptions = _delta_b_diff_exp_not_one.all_conditions()"
   ]
  },
  {
   "cell_type": "code",
   "execution_count": null,
   "metadata": {},
   "outputs": [],
   "source": [
    "exp_expr_01 = _delta_b_diff_exp_not_one.instance_expr.lhs"
   ]
  },
  {
   "cell_type": "code",
   "execution_count": null,
   "metadata": {},
   "outputs": [],
   "source": [
    "# for convenience\n",
    "delta_diff = exp_expr_01.exponent.factors[3]"
   ]
  },
  {
   "cell_type": "code",
   "execution_count": null,
   "metadata": {},
   "outputs": [],
   "source": [
    "# this seems to be used only to verify that the left-hand side is REAL\n",
    "# which can be acheived in other way(s)\n",
    "# _delta_diff_in_interval"
   ]
  },
  {
   "cell_type": "code",
   "execution_count": null,
   "metadata": {},
   "outputs": [],
   "source": [
    "from proveit.physics.quantum.QPE import _delta_b_is_real\n",
    "_delta_b_is_real"
   ]
  },
  {
   "cell_type": "code",
   "execution_count": null,
   "metadata": {},
   "outputs": [],
   "source": [
    "from proveit.physics.quantum.QPE import _best_floor_is_int\n",
    "_best_floor_is_int"
   ]
  },
  {
   "cell_type": "code",
   "execution_count": null,
   "metadata": {},
   "outputs": [],
   "source": [
    "from proveit.physics.quantum.QPE import _best_round_is_int\n",
    "_best_round_is_int"
   ]
  },
  {
   "cell_type": "code",
   "execution_count": null,
   "metadata": {},
   "outputs": [],
   "source": [
    "from proveit import b\n",
    "from proveit.logic import Forall, InSet, Set\n",
    "from proveit.numbers import Integer\n",
    "from proveit.physics.quantum.QPE import _b_floor, _b_round\n",
    "all_b_in_best_set_are_int = Forall(b, InSet(b, Integer), domain=Set(_b_floor, _b_round)).prove()"
   ]
  },
  {
   "cell_type": "code",
   "execution_count": null,
   "metadata": {},
   "outputs": [],
   "source": [
    "all_b_in_best_set_are_int_inst = all_b_in_best_set_are_int.instantiate()"
   ]
  },
  {
   "cell_type": "code",
   "execution_count": null,
   "metadata": {},
   "outputs": [],
   "source": [
    "_delta_b_is_real.instantiate({b: b}, assumptions=defaults.assumptions)"
   ]
  },
  {
   "cell_type": "code",
   "execution_count": null,
   "metadata": {},
   "outputs": [],
   "source": [
    "from proveit.logic import InSet\n",
    "from proveit.numbers import two, pi, Real, Mult\n",
    "from proveit.numbers.number_sets.real_numbers import pi_is_real_pos\n",
    "InSet(Mult(two, pi), Real).prove()"
   ]
  },
  {
   "cell_type": "code",
   "execution_count": null,
   "metadata": {},
   "outputs": [],
   "source": [
    "from proveit.physics.quantum.QPE import _two_pow_t_is_nat_pos, _two_pow_t_minus_one_is_nat_pos\n",
    "display(_two_pow_t_is_nat_pos)\n",
    "display(_two_pow_t_minus_one_is_nat_pos)"
   ]
  },
  {
   "cell_type": "code",
   "execution_count": null,
   "metadata": {},
   "outputs": [],
   "source": [
    "_l_conditions = _delta_b_diff_exp_not_one.all_conditions()[1:3]"
   ]
  },
  {
   "cell_type": "code",
   "execution_count": null,
   "metadata": {},
   "outputs": [],
   "source": [
    "_l_conditions[0].derive_element_in_integer()"
   ]
  },
  {
   "cell_type": "code",
   "execution_count": null,
   "metadata": {},
   "outputs": [],
   "source": [
    "# from proveit import l\n",
    "# from proveit.logic import InSet\n",
    "# from proveit.numbers import Integer\n",
    "# InSet(l, Integer).prove()"
   ]
  },
  {
   "cell_type": "code",
   "execution_count": null,
   "metadata": {},
   "outputs": [],
   "source": [
    "from proveit.logic import InSet\n",
    "from proveit.numbers import Real\n",
    "InSet(delta_diff.operands[1].operand, Real).prove()"
   ]
  },
  {
   "cell_type": "code",
   "execution_count": null,
   "metadata": {},
   "outputs": [],
   "source": [
    "from proveit.numbers.number_sets.complex_numbers import i_is_complex\n",
    "exp_expr_02 = exp_expr_01.inner_expr().exponent.commutation(2, 0, auto_simplify=False)"
   ]
  },
  {
   "cell_type": "code",
   "execution_count": null,
   "metadata": {},
   "outputs": [],
   "source": [
    "theta_temp = Mult(*exp_expr_02.rhs.exponent.operands[1:4].entries)"
   ]
  },
  {
   "cell_type": "code",
   "execution_count": null,
   "metadata": {},
   "outputs": [],
   "source": [
    "from proveit.numbers import frac\n",
    "theta_temp_over_2_pi = frac(theta_temp, Mult(two, pi))"
   ]
  },
  {
   "cell_type": "code",
   "execution_count": null,
   "metadata": {},
   "outputs": [],
   "source": [
    "theta_temp_over_2_pi_02 = theta_temp_over_2_pi.inner_expr().cancelation(two)"
   ]
  },
  {
   "cell_type": "code",
   "execution_count": null,
   "metadata": {},
   "outputs": [],
   "source": [
    "from proveit.physics.quantum.QPE import _non_int_delta_diff\n",
    "_non_int_delta_diff"
   ]
  },
  {
   "cell_type": "code",
   "execution_count": null,
   "metadata": {},
   "outputs": [],
   "source": [
    "from proveit.physics.quantum.QPE import _non_int_delta_b_floor_diff\n",
    "_non_int_delta_b_floor_diff"
   ]
  },
  {
   "cell_type": "code",
   "execution_count": null,
   "metadata": {},
   "outputs": [],
   "source": [
    "from proveit.physics.quantum.QPE import _non_int_delta_b_round_diff\n",
    "_non_int_delta_b_round_diff"
   ]
  },
  {
   "cell_type": "code",
   "execution_count": null,
   "metadata": {},
   "outputs": [],
   "source": [
    "_non_int_delta_b_floor_diff_inst = _non_int_delta_b_floor_diff.instantiate()"
   ]
  },
  {
   "cell_type": "code",
   "execution_count": null,
   "metadata": {},
   "outputs": [],
   "source": [
    "_non_int_delta_b_round_diff_inst = _non_int_delta_b_round_diff.instantiate()"
   ]
  },
  {
   "cell_type": "code",
   "execution_count": null,
   "metadata": {},
   "outputs": [],
   "source": [
    "from proveit import b\n",
    "from proveit.logic import Forall, NotInSet, Set\n",
    "from proveit.numbers import Integer\n",
    "from proveit.physics.quantum.QPE import _b_floor, _b_round\n",
    "all_delta_diffs_are_non_int = (\n",
    "    Forall(b, NotInSet(delta_diff, Integer), domain=Set(_b_floor, _b_round)).\n",
    "    prove())"
   ]
  },
  {
   "cell_type": "code",
   "execution_count": null,
   "metadata": {},
   "outputs": [],
   "source": [
    "all_delta_diffs_are_non_int_inst = all_delta_diffs_are_non_int.instantiate()"
   ]
  },
  {
   "cell_type": "code",
   "execution_count": null,
   "metadata": {},
   "outputs": [],
   "source": [
    "# non_int_delta_diff_inst = _non_int_delta_diff.instantiate()"
   ]
  },
  {
   "cell_type": "code",
   "execution_count": null,
   "metadata": {},
   "outputs": [],
   "source": [
    "# _non_int_delta_b_round_diff_inst = _non_int_delta_b_round_diff.instantiate()"
   ]
  },
  {
   "cell_type": "code",
   "execution_count": null,
   "metadata": {},
   "outputs": [],
   "source": [
    "theta_temp_over_2_pi_02"
   ]
  },
  {
   "cell_type": "code",
   "execution_count": null,
   "metadata": {},
   "outputs": [],
   "source": [
    "theta_temp_over_2_pi_02.sub_left_side_into(all_delta_diffs_are_non_int_inst)"
   ]
  },
  {
   "cell_type": "code",
   "execution_count": null,
   "metadata": {},
   "outputs": [],
   "source": [
    "# Our theorem to instantiate:\n",
    "from proveit.numbers.exponentiation import complex_power_not_one\n",
    "complex_power_not_one"
   ]
  },
  {
   "cell_type": "code",
   "execution_count": null,
   "metadata": {},
   "outputs": [],
   "source": [
    "from proveit import theta\n",
    "complex_power_not_one_inst = complex_power_not_one.instantiate(\n",
    "        {theta: theta_temp})"
   ]
  },
  {
   "cell_type": "code",
   "execution_count": null,
   "metadata": {},
   "outputs": [],
   "source": [
    "exp_expr_not_one = complex_power_not_one_inst.derive_left_via_equality()"
   ]
  },
  {
   "cell_type": "code",
   "execution_count": null,
   "metadata": {},
   "outputs": [],
   "source": [
    "exp_expr_not_one.inner_expr().lhs.exponent.commute(1, 2, auto_simplify=False)"
   ]
  },
  {
   "cell_type": "code",
   "execution_count": null,
   "metadata": {},
   "outputs": [],
   "source": [
    "%qed"
   ]
  },
  {
   "cell_type": "code",
   "execution_count": null,
   "metadata": {},
   "outputs": [],
   "source": []
  }
 ],
 "metadata": {
  "kernelspec": {
   "display_name": "Python 3",
   "language": "python",
   "name": "python3"
  }
 },
 "nbformat": 4,
 "nbformat_minor": 0
}
