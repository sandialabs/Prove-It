{
 "cells": [
  {
   "cell_type": "markdown",
   "metadata": {},
   "source": [
    "Proof of <a class=\"ProveItLink\" href=\"../../../../../../_theory_nbs_/theory.ipynb\">proveit</a>.<a class=\"ProveItLink\" href=\"../../../../../_theory_nbs_/theory.ipynb\">physics</a>.<a class=\"ProveItLink\" href=\"../../../../_theory_nbs_/theory.ipynb\">quantum</a>.<a class=\"ProveItLink\" href=\"../../theory.ipynb\">QPE</a>.<a class=\"ProveItLink\" href=\"../../theorems.ipynb#_psi_t_output\">_psi_t_output</a> theorem\n",
    "========"
   ]
  },
  {
   "cell_type": "code",
   "execution_count": null,
   "metadata": {},
   "outputs": [],
   "source": [
    "import proveit\n",
    "from proveit import defaults, ExprTuple, ExprRange\n",
    "from proveit import k, m, s, t, U\n",
    "from proveit.numbers import (\n",
    "    Mult, Exp, zero, one, two, subtract, exp2pi_i)\n",
    "from proveit.linear_algebra import MatrixExp\n",
    "from proveit.physics.quantum import var_ket_u, varphi\n",
    "from proveit.physics.quantum.circuits import (\n",
    "    QcircuitEquiv, phase_kickbacks_on_register)\n",
    "from proveit.physics.quantum.QPE import (\n",
    "    _s, _t, _ket_u, _U, _phase,\n",
    "    _s_in_nat_pos, _u_ket_register, _unitary_U, _phase_in_interval, _eigen_uu,\n",
    "    QPE1_def, _psi_t_def)\n",
    "theory = proveit.Theory() # the theorem's theory"
   ]
  },
  {
   "cell_type": "code",
   "execution_count": null,
   "metadata": {},
   "outputs": [],
   "source": [
    "%proving _psi_t_output"
   ]
  },
  {
   "cell_type": "code",
   "execution_count": null,
   "metadata": {},
   "outputs": [],
   "source": [
    "_psi_t_output"
   ]
  },
  {
   "cell_type": "code",
   "execution_count": null,
   "metadata": {},
   "outputs": [],
   "source": [
    "defaults.assumptions = _psi_t_output.conditions"
   ]
  },
  {
   "cell_type": "code",
   "execution_count": null,
   "metadata": {},
   "outputs": [],
   "source": []
  },
  {
   "cell_type": "markdown",
   "metadata": {},
   "source": [
    "### We should automate the following so it isn't necessary."
   ]
  },
  {
   "cell_type": "code",
   "execution_count": null,
   "metadata": {},
   "outputs": [],
   "source": [
    "_s_in_nat_pos"
   ]
  },
  {
   "cell_type": "code",
   "execution_count": null,
   "metadata": {},
   "outputs": [],
   "source": [
    "from proveit.logic import InSet\n",
    "from proveit.numbers import Natural, greater, greater_eq, zero, Neg"
   ]
  },
  {
   "cell_type": "code",
   "execution_count": null,
   "metadata": {},
   "outputs": [],
   "source": [
    "# greater_eq(_s, one).prove().derive_shifted(Neg(one))"
   ]
  },
  {
   "cell_type": "code",
   "execution_count": null,
   "metadata": {},
   "outputs": [],
   "source": [
    "# InSet(subtract(_s, one), Natural).prove()"
   ]
  },
  {
   "cell_type": "code",
   "execution_count": null,
   "metadata": {},
   "outputs": [],
   "source": [
    "# greater_eq(t, one).prove().derive_shifted(Neg(one))"
   ]
  },
  {
   "cell_type": "code",
   "execution_count": null,
   "metadata": {},
   "outputs": [],
   "source": [
    "tm1_in_N = InSet(subtract(t, one), Natural).prove()"
   ]
  },
  {
   "cell_type": "code",
   "execution_count": null,
   "metadata": {},
   "outputs": [],
   "source": [
    "tm1_in_N.inner_expr().element.commute()"
   ]
  },
  {
   "cell_type": "code",
   "execution_count": null,
   "metadata": {},
   "outputs": [],
   "source": []
  },
  {
   "cell_type": "code",
   "execution_count": null,
   "metadata": {},
   "outputs": [],
   "source": [
    "_psi_t_def"
   ]
  },
  {
   "cell_type": "code",
   "execution_count": null,
   "metadata": {},
   "outputs": [],
   "source": [
    "_psi_t = _psi_t_def.instantiate()"
   ]
  },
  {
   "cell_type": "code",
   "execution_count": null,
   "metadata": {},
   "outputs": [],
   "source": [
    "from proveit.logic import CartExp\n",
    "from proveit.numbers import Complex"
   ]
  },
  {
   "cell_type": "code",
   "execution_count": null,
   "metadata": {},
   "outputs": [],
   "source": [
    "#InSet(_psi_t.rhs, CartExp(Complex, Exp(two, t))).prove()"
   ]
  },
  {
   "cell_type": "code",
   "execution_count": null,
   "metadata": {},
   "outputs": [],
   "source": [
    "from proveit import r\n",
    "from proveit.numbers import NaturalPos\n",
    "InSet(_psi_t.rhs.operands[0].body, CartExp(Complex, two)).prove(assumptions=[InSet(r, NaturalPos)])"
   ]
  },
  {
   "cell_type": "code",
   "execution_count": null,
   "metadata": {},
   "outputs": [],
   "source": [
    "InSet(_psi_t.rhs.operands[0].body, CartExp(Complex, Exp(two, one))).prove(assumptions=[InSet(r, NaturalPos)])"
   ]
  },
  {
   "cell_type": "code",
   "execution_count": null,
   "metadata": {},
   "outputs": [],
   "source": [
    "# InSet(_psi_t.rhs.operands[0].body.scaled, CartExp(Complex, two)).prove(assumptions=[InSet(r, NaturalPos)])"
   ]
  },
  {
   "cell_type": "code",
   "execution_count": null,
   "metadata": {},
   "outputs": [],
   "source": [
    "# from proveit.linear_algebra import TensorProd\n",
    "# InSet(TensorProd(_psi_t.rhs.operands[0].body, _psi_t.rhs.operands[0].body), CartExp(Complex, Exp(two, two))).prove()"
   ]
  },
  {
   "cell_type": "code",
   "execution_count": null,
   "metadata": {},
   "outputs": [],
   "source": []
  },
  {
   "cell_type": "code",
   "execution_count": null,
   "metadata": {},
   "outputs": [],
   "source": [
    "consolidation = _psi_t_output.instance_expr.lhs.operand.output_consolidation(\n",
    "    assumptions=defaults.assumptions + (InSet(_psi_t.rhs, CartExp(Complex, Exp(two, t))),))"
   ]
  },
  {
   "cell_type": "code",
   "execution_count": null,
   "metadata": {},
   "outputs": [],
   "source": []
  },
  {
   "cell_type": "code",
   "execution_count": null,
   "metadata": {},
   "outputs": [],
   "source": [
    "target_circuit = _psi_t_output.instance_expr.lhs.operand"
   ]
  },
  {
   "cell_type": "code",
   "execution_count": null,
   "metadata": {},
   "outputs": [],
   "source": [
    "QPE1_def"
   ]
  },
  {
   "cell_type": "code",
   "execution_count": null,
   "metadata": {},
   "outputs": [],
   "source": [
    "QPE1_inst = QPE1_def.instantiate({s:_s, U:_U})"
   ]
  },
  {
   "cell_type": "code",
   "execution_count": null,
   "metadata": {},
   "outputs": [],
   "source": [
    "phase_kickbacks_on_register"
   ]
  },
  {
   "cell_type": "code",
   "execution_count": null,
   "metadata": {},
   "outputs": [],
   "source": [
    "Uexponentials = ExprTuple(ExprRange(k, MatrixExp(_U, Exp(two, k)), \n",
    "                                    subtract(t, one), zero, order='decreasing'))"
   ]
  },
  {
   "cell_type": "code",
   "execution_count": null,
   "metadata": {},
   "outputs": [],
   "source": []
  },
  {
   "cell_type": "markdown",
   "metadata": {},
   "source": [
    "### We should automate the following so it isn't necessary."
   ]
  },
  {
   "cell_type": "code",
   "execution_count": null,
   "metadata": {},
   "outputs": [],
   "source": [
    "Neg(subtract(t, one)).simplification()"
   ]
  },
  {
   "cell_type": "code",
   "execution_count": null,
   "metadata": {},
   "outputs": [],
   "source": [
    "t_gt_0 = greater(t, zero).prove()"
   ]
  },
  {
   "cell_type": "code",
   "execution_count": null,
   "metadata": {},
   "outputs": [],
   "source": [
    "from proveit.numbers import Less\n",
    "Less(Neg(one), zero).prove()"
   ]
  },
  {
   "cell_type": "code",
   "execution_count": null,
   "metadata": {},
   "outputs": [],
   "source": [
    "nt_lt_0 = t_gt_0.left_mult_both_sides(Neg(one))"
   ]
  },
  {
   "cell_type": "code",
   "execution_count": null,
   "metadata": {},
   "outputs": [],
   "source": [
    "nt_lt_0.derive_shifted(one)"
   ]
  },
  {
   "cell_type": "code",
   "execution_count": null,
   "metadata": {},
   "outputs": [],
   "source": [
    "t_geq_1 = greater_eq(t, one).prove()"
   ]
  },
  {
   "cell_type": "code",
   "execution_count": null,
   "metadata": {},
   "outputs": [],
   "source": [
    "nt_leq_1 = t_geq_1.left_mult_both_sides(Neg(one))"
   ]
  },
  {
   "cell_type": "code",
   "execution_count": null,
   "metadata": {},
   "outputs": [],
   "source": [
    "nt_leq_1.derive_shifted(two)"
   ]
  },
  {
   "cell_type": "code",
   "execution_count": null,
   "metadata": {},
   "outputs": [],
   "source": [
    "nt_lt_0.derive_shifted(one)"
   ]
  },
  {
   "cell_type": "code",
   "execution_count": null,
   "metadata": {},
   "outputs": [],
   "source": [
    "from proveit.numbers import Add\n",
    "Add(t, one).commutation()"
   ]
  },
  {
   "cell_type": "code",
   "execution_count": null,
   "metadata": {},
   "outputs": [],
   "source": [
    "Add(t, two).commutation()"
   ]
  },
  {
   "cell_type": "code",
   "execution_count": null,
   "metadata": {},
   "outputs": [],
   "source": [
    "from proveit.numbers import Interval\n",
    "tmp_assumptions = defaults.assumptions+(InSet(k, Interval(Add(Neg(t), one), zero)),)\n",
    "k_gt_ntp1 = greater_eq(k, Add(Neg(t), one)).prove(\n",
    "    assumptions=tmp_assumptions)"
   ]
  },
  {
   "cell_type": "code",
   "execution_count": null,
   "metadata": {},
   "outputs": [],
   "source": [
    "from proveit.numbers import Integer\n",
    "Add(k, t).deduce_bound(k_gt_ntp1, assumptions=tmp_assumptions)"
   ]
  },
  {
   "cell_type": "code",
   "execution_count": null,
   "metadata": {},
   "outputs": [],
   "source": [
    "greater(Add(k, t), zero).prove(assumptions=tmp_assumptions)"
   ]
  },
  {
   "cell_type": "code",
   "execution_count": null,
   "metadata": {},
   "outputs": [],
   "source": [
    "InSet(Add(k, t), Integer).prove(assumptions=tmp_assumptions)"
   ]
  },
  {
   "cell_type": "code",
   "execution_count": null,
   "metadata": {},
   "outputs": [],
   "source": [
    "InSet(Add(k, t), Natural).prove(assumptions=tmp_assumptions).generalize(\n",
    "    k, conditions=[InSet(k, Interval(Add(Neg(t), one), zero))])"
   ]
  },
  {
   "cell_type": "code",
   "execution_count": null,
   "metadata": {},
   "outputs": [],
   "source": [
    "subtract(one, Add(Neg(t), two)).simplification()"
   ]
  },
  {
   "cell_type": "code",
   "execution_count": null,
   "metadata": {},
   "outputs": [],
   "source": []
  },
  {
   "cell_type": "code",
   "execution_count": null,
   "metadata": {},
   "outputs": [],
   "source": [
    "from proveit.logic import And, InSet\n",
    "And(ExprRange(k, InSet(MatrixExp(_U, Exp(two, k)), _unitary_U.domain), \n",
    "                                    subtract(t, one), zero, order='decreasing')).conclude_over_expr_range()"
   ]
  },
  {
   "cell_type": "code",
   "execution_count": null,
   "metadata": {},
   "outputs": [],
   "source": [
    "phases = ExprTuple(ExprRange(k, Mult(Exp(two, k), _phase), \n",
    "                             subtract(t, one), zero, order='decreasing'))"
   ]
  },
  {
   "cell_type": "code",
   "execution_count": null,
   "metadata": {},
   "outputs": [],
   "source": []
  },
  {
   "cell_type": "code",
   "execution_count": null,
   "metadata": {},
   "outputs": [],
   "source": [
    "kickbacks = phase_kickbacks_on_register.instantiate(\n",
    "    {m:_s, U:Uexponentials, var_ket_u:_ket_u, varphi:phases})"
   ]
  },
  {
   "cell_type": "code",
   "execution_count": null,
   "metadata": {},
   "outputs": [],
   "source": [
    "# from proveit import InnerExpr\n",
    "# inner_expr = kickbacks.inner_expr().lhs.operand\n",
    "# expr_hierarchy = inner_expr.expr_hierarchy\n",
    "# for _k, _expr in enumerate(reversed(expr_hierarchy)):\n",
    "#     circuit_or_lambda_map = None\n",
    "#     if isinstance(_expr, Prob) and isinstance(_expr.operand,\n",
    "#                                               Qcircuit):\n",
    "#         if _k == 2:\n",
    "#             # Just a quantum circuit in a probability\n",
    "#             circuit_or_lambda_map = _expr.operand\n",
    "#         else:\n",
    "#             # A portion of a quantum circuit.\n",
    "#             circuit_or_lambda_map= InnerExpr(\n",
    "#                 _expr.operand, inner_expr.inner_expr_path[-_k+2:])\n",
    "#         prob_relation_lambda = InnerExpr(\n",
    "#             expr_hierarchy[0],\n",
    "#             inner_expr.inner_expr_path[:-_k]).repl_lambda()\n",
    "#         break"
   ]
  },
  {
   "cell_type": "code",
   "execution_count": null,
   "metadata": {},
   "outputs": [],
   "source": [
    "kickbacks_with_QPE1 = QPE1_inst.sub_left_side_into(\n",
    "    kickbacks.inner_expr().lhs.operand)"
   ]
  },
  {
   "cell_type": "code",
   "execution_count": null,
   "metadata": {},
   "outputs": [],
   "source": [
    "# kickbacks_with_QPE1.lhs.operand.output_consolidation()"
   ]
  },
  {
   "cell_type": "code",
   "execution_count": null,
   "metadata": {},
   "outputs": [],
   "source": []
  },
  {
   "cell_type": "code",
   "execution_count": null,
   "metadata": {},
   "outputs": [],
   "source": []
  },
  {
   "cell_type": "code",
   "execution_count": null,
   "metadata": {},
   "outputs": [],
   "source": []
  }
 ],
 "metadata": {
  "kernelspec": {
   "display_name": "Python 3",
   "language": "python",
   "name": "python3"
  }
 },
 "nbformat": 4,
 "nbformat_minor": 0
}
