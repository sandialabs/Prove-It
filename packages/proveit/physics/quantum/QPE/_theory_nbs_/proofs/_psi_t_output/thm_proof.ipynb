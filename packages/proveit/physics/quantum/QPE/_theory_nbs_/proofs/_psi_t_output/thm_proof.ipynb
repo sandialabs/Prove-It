{
 "cells": [
  {
   "cell_type": "markdown",
   "metadata": {},
   "source": [
    "Proof of <a class=\"ProveItLink\" href=\"../../../../../../_theory_nbs_/theory.ipynb\">proveit</a>.<a class=\"ProveItLink\" href=\"../../../../../_theory_nbs_/theory.ipynb\">physics</a>.<a class=\"ProveItLink\" href=\"../../../../_theory_nbs_/theory.ipynb\">quantum</a>.<a class=\"ProveItLink\" href=\"../../theory.ipynb\">QPE</a>.<a class=\"ProveItLink\" href=\"../../theorems.ipynb#_psi_t_output\">_psi_t_output</a> theorem\n",
    "========"
   ]
  },
  {
   "cell_type": "code",
   "execution_count": null,
   "metadata": {},
   "outputs": [],
   "source": [
    "import proveit\n",
    "from proveit import defaults, ExprTuple, ExprRange\n",
    "from proveit import k, m, s, t, U\n",
    "from proveit.numbers import (\n",
    "    Mult, Exp, zero, one, two, subtract, exp2pi_i)\n",
    "from proveit.linear_algebra import MatrixExp, TensorProd\n",
    "from proveit.physics.quantum import var_ket_u, varphi\n",
    "from proveit.physics.quantum.circuits import (\n",
    "    QcircuitEquiv, phase_kickbacks_on_register)\n",
    "from proveit.physics.quantum.QPE import (\n",
    "    _s, _t, _ket_u, _U, _phase, _s_in_nat_pos, _u_ket_register, \n",
    "    _normalized_ket_u, _unitary_U, _phase_in_interval, _eigen_uu,\n",
    "    QPE1_def, _psi_t_def, _psi_t_ket_is_normalized_vec)\n",
    "theory = proveit.Theory() # the theorem's theory"
   ]
  },
  {
   "cell_type": "code",
   "execution_count": null,
   "metadata": {},
   "outputs": [],
   "source": [
    "%proving _psi_t_output"
   ]
  },
  {
   "cell_type": "code",
   "execution_count": null,
   "metadata": {},
   "outputs": [],
   "source": [
    "_psi_t_output"
   ]
  },
  {
   "cell_type": "code",
   "execution_count": null,
   "metadata": {},
   "outputs": [],
   "source": [
    "defaults.assumptions = _psi_t_output.conditions"
   ]
  },
  {
   "cell_type": "code",
   "execution_count": null,
   "metadata": {},
   "outputs": [],
   "source": [
    "_psi_t_def"
   ]
  },
  {
   "cell_type": "code",
   "execution_count": null,
   "metadata": {},
   "outputs": [],
   "source": [
    "_psi_t = _psi_t_def.instantiate()"
   ]
  },
  {
   "cell_type": "code",
   "execution_count": null,
   "metadata": {},
   "outputs": [],
   "source": [
    "_psi_t_ket_is_normalized_vec"
   ]
  },
  {
   "cell_type": "code",
   "execution_count": null,
   "metadata": {},
   "outputs": [],
   "source": [
    "_psi_t_ket_is_normalized_vec.instantiate()"
   ]
  },
  {
   "cell_type": "code",
   "execution_count": null,
   "metadata": {},
   "outputs": [],
   "source": [
    "target_circuit = _psi_t_output.instance_expr.lhs.operand"
   ]
  },
  {
   "cell_type": "code",
   "execution_count": null,
   "metadata": {},
   "outputs": [],
   "source": [
    "QPE1_def"
   ]
  },
  {
   "cell_type": "code",
   "execution_count": null,
   "metadata": {},
   "outputs": [],
   "source": [
    "QPE1_inst = QPE1_def.instantiate({s:_s, U:_U})"
   ]
  },
  {
   "cell_type": "code",
   "execution_count": null,
   "metadata": {},
   "outputs": [],
   "source": [
    "phase_kickbacks_on_register"
   ]
  },
  {
   "cell_type": "code",
   "execution_count": null,
   "metadata": {},
   "outputs": [],
   "source": [
    "Uexponentials = ExprTuple(ExprRange(k, MatrixExp(_U, Exp(two, k)), \n",
    "                                    subtract(t, one), zero, order='decreasing'))"
   ]
  },
  {
   "cell_type": "code",
   "execution_count": null,
   "metadata": {},
   "outputs": [],
   "source": [
    "phases = ExprTuple(ExprRange(k, Mult(Exp(two, k), _phase), \n",
    "                             subtract(t, one), zero, order='decreasing'))"
   ]
  },
  {
   "cell_type": "code",
   "execution_count": null,
   "metadata": {},
   "outputs": [],
   "source": [
    "kickbacks = phase_kickbacks_on_register.instantiate(\n",
    "    {m:_s, U:Uexponentials, var_ket_u:_ket_u, varphi:phases})"
   ]
  },
  {
   "cell_type": "code",
   "execution_count": null,
   "metadata": {},
   "outputs": [],
   "source": [
    "kickbacks_with_QPE1 = QPE1_inst.sub_left_side_into(\n",
    "    kickbacks.inner_expr().lhs.operand)"
   ]
  },
  {
   "cell_type": "markdown",
   "metadata": {},
   "source": [
    "For `psi_t_tensor_u_expansion` to simplify properly, we need to specify this default vector-space field, but we should be able to automate this in the future:"
   ]
  },
  {
   "cell_type": "code",
   "execution_count": null,
   "metadata": {},
   "outputs": [],
   "source": [
    "from proveit.numbers import Complex\n",
    "from proveit.linear_algebra import VecSpaces\n",
    "VecSpaces.default_field = Complex"
   ]
  },
  {
   "cell_type": "code",
   "execution_count": null,
   "metadata": {},
   "outputs": [],
   "source": [
    "psi_t_tensor_u__expansion = _psi_t.substitution(TensorProd(_psi_t.lhs, _ket_u))"
   ]
  },
  {
   "cell_type": "code",
   "execution_count": null,
   "metadata": {},
   "outputs": [],
   "source": [
    "output_consolidation = kickbacks_with_QPE1.lhs.operand.output_consolidation(\n",
    "    replacements=[psi_t_tensor_u__expansion.derive_reversed()])"
   ]
  },
  {
   "cell_type": "code",
   "execution_count": null,
   "metadata": {},
   "outputs": [],
   "source": [
    "output_consolidation_from_desired = _psi_t_output.instance_expr.lhs.operand.output_consolidation()"
   ]
  },
  {
   "cell_type": "code",
   "execution_count": null,
   "metadata": {},
   "outputs": [],
   "source": [
    "equiv = output_consolidation.apply_transitivity(output_consolidation_from_desired)"
   ]
  },
  {
   "cell_type": "code",
   "execution_count": null,
   "metadata": {},
   "outputs": [],
   "source": [
    "equiv.sub_right_side_into(kickbacks_with_QPE1)"
   ]
  },
  {
   "cell_type": "code",
   "execution_count": null,
   "metadata": {},
   "outputs": [],
   "source": [
    "%qed"
   ]
  },
  {
   "cell_type": "code",
   "execution_count": null,
   "metadata": {},
   "outputs": [],
   "source": []
  }
 ],
 "metadata": {
  "kernelspec": {
   "display_name": "Python 3",
   "language": "python",
   "name": "python3"
  }
 },
 "nbformat": 4,
 "nbformat_minor": 0
}
