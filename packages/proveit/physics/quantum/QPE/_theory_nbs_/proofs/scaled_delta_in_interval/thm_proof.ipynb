{
 "cells": [
  {
   "cell_type": "markdown",
   "metadata": {},
   "source": [
    "Proof of <a class=\"ProveItLink\" href=\"../../../../../../_theory_nbs_/theory.ipynb\">proveit</a>.<a class=\"ProveItLink\" href=\"../../../../../_theory_nbs_/theory.ipynb\">physics</a>.<a class=\"ProveItLink\" href=\"../../../../_theory_nbs_/theory.ipynb\">quantum</a>.<a class=\"ProveItLink\" href=\"../../theory.ipynb\">QPE</a>.<a class=\"ProveItLink\" href=\"../../theorems.ipynb#scaled_delta_in_interval\">scaled_delta_in_interval</a> theorem\n",
    "========"
   ]
  },
  {
   "cell_type": "code",
   "execution_count": null,
   "metadata": {},
   "outputs": [],
   "source": [
    "import proveit\n",
    "theory = proveit.Theory() # the theorem's theory\n",
    "from proveit import a, b, c, x, defaults, ExprTuple\n",
    "from proveit.logic import Equals, InSet, NotEquals\n",
    "from proveit.numbers import Add, frac, Mult, Neg\n",
    "from proveit.numbers import zero, Complex, Real\n",
    "from proveit.numbers.rounding import real_minus_floor_interval\n",
    "from proveit.physics.quantum.QPE import best_def, b_, delta_def, delta_is_real, two_pow_t, phase_\n",
    "from proveit.physics.quantum.QPE import best_is_int, phase_in_interval, phase_is_real, two_pow_t_is_nat_pos"
   ]
  },
  {
   "cell_type": "code",
   "execution_count": null,
   "metadata": {},
   "outputs": [],
   "source": [
    "%proving scaled_delta_in_interval"
   ]
  },
  {
   "cell_type": "markdown",
   "metadata": {},
   "source": [
    "The proof utilizes the chain of equalities $2^t\\cdot \\delta = 2^t \\left(\\varphi - \\frac{b}{2^t}\\right) = 2^t \\left(\\varphi - \\frac{\\lfloor\\varphi\\cdot 2^t\\rfloor}{2^t}\\right) = \\varphi \\cdot 2^t - \\lfloor\\varphi\\cdot 2^t\\rfloor$, then calls upon a theorem for the value of an expression of the form $x - \\lfloor x \\rfloor$."
   ]
  },
  {
   "cell_type": "code",
   "execution_count": null,
   "metadata": {},
   "outputs": [],
   "source": [
    "scaled_delta = scaled_delta_in_interval.operands[0]"
   ]
  },
  {
   "cell_type": "code",
   "execution_count": null,
   "metadata": {},
   "outputs": [],
   "source": [
    "delta_def"
   ]
  },
  {
   "cell_type": "code",
   "execution_count": null,
   "metadata": {},
   "outputs": [],
   "source": [
    "eq_01 = delta_def.substitution(scaled_delta)"
   ]
  },
  {
   "cell_type": "code",
   "execution_count": null,
   "metadata": {},
   "outputs": [],
   "source": [
    "scaled_delta_expanded_dist = eq_01.rhs.distribution(1)"
   ]
  },
  {
   "cell_type": "code",
   "execution_count": null,
   "metadata": {},
   "outputs": [],
   "source": [
    "simplification_01 = scaled_delta_expanded_dist.operands[1].operands[1].simplification()"
   ]
  },
  {
   "cell_type": "code",
   "execution_count": null,
   "metadata": {},
   "outputs": [],
   "source": [
    "simplification_02 = simplification_01.substitution(scaled_delta_expanded_dist.rhs)"
   ]
  },
  {
   "cell_type": "code",
   "execution_count": null,
   "metadata": {},
   "outputs": [],
   "source": [
    "best_def"
   ]
  },
  {
   "cell_type": "code",
   "execution_count": null,
   "metadata": {},
   "outputs": [],
   "source": [
    "floor_expr_commuted = best_def.rhs.operands[0].commutation().substitution(best_def.rhs)"
   ]
  },
  {
   "cell_type": "code",
   "execution_count": null,
   "metadata": {},
   "outputs": [],
   "source": [
    "best_def_commuted = best_def.apply_transitivity(floor_expr_commuted)"
   ]
  },
  {
   "cell_type": "code",
   "execution_count": null,
   "metadata": {},
   "outputs": [],
   "source": [
    "simplification_03 = best_def_commuted.substitution(simplification_02.rhs)"
   ]
  },
  {
   "cell_type": "code",
   "execution_count": null,
   "metadata": {},
   "outputs": [],
   "source": [
    "eq_02 = Equals.apply_transitivities([eq_01, scaled_delta_expanded_dist, simplification_02, simplification_03])"
   ]
  },
  {
   "cell_type": "markdown",
   "metadata": {},
   "source": [
    "$(2^t\\cdot\\delta)$ has now been expressed in the form $x - \\lfloor x \\rfloor$, and we have a theorem for the value of such an expression:"
   ]
  },
  {
   "cell_type": "code",
   "execution_count": null,
   "metadata": {},
   "outputs": [],
   "source": [
    "real_minus_floor_interval"
   ]
  },
  {
   "cell_type": "markdown",
   "metadata": {},
   "source": [
    "We need to show that our eventual argument $x = 2^t\\cdot\\delta$ is Real, then instantiate our theorem:"
   ]
  },
  {
   "cell_type": "code",
   "execution_count": null,
   "metadata": {},
   "outputs": [],
   "source": [
    "phase_is_real"
   ]
  },
  {
   "cell_type": "code",
   "execution_count": null,
   "metadata": {},
   "outputs": [],
   "source": [
    "InSet(Mult(two_pow_t, phase_), Real).prove()"
   ]
  },
  {
   "cell_type": "code",
   "execution_count": null,
   "metadata": {},
   "outputs": [],
   "source": [
    "interval_claim = real_minus_floor_interval.instantiate({x:Mult(two_pow_t, phase_)})"
   ]
  },
  {
   "cell_type": "code",
   "execution_count": null,
   "metadata": {},
   "outputs": [],
   "source": [
    "eq_02.sub_left_side_into(interval_claim)"
   ]
  },
  {
   "cell_type": "code",
   "execution_count": null,
   "metadata": {},
   "outputs": [],
   "source": [
    "%qed"
   ]
  },
  {
   "cell_type": "code",
   "execution_count": null,
   "metadata": {},
   "outputs": [],
   "source": []
  }
 ],
 "metadata": {
  "kernelspec": {
   "display_name": "Python 3",
   "language": "python",
   "name": "python3"
  }
 },
 "nbformat": 4,
 "nbformat_minor": 0
}
