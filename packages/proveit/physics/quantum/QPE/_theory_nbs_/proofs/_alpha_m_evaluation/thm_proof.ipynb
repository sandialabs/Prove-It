{
 "cells": [
  {
   "cell_type": "markdown",
   "metadata": {},
   "source": [
    "Proof of <a class=\"ProveItLink\" href=\"../../../../../../_theory_nbs_/theory.ipynb\">proveit</a>.<a class=\"ProveItLink\" href=\"../../../../../_theory_nbs_/theory.ipynb\">physics</a>.<a class=\"ProveItLink\" href=\"../../../../_theory_nbs_/theory.ipynb\">quantum</a>.<a class=\"ProveItLink\" href=\"../../theory.ipynb\">QPE</a>.<a class=\"ProveItLink\" href=\"../../theorems.ipynb#_alpha_m_evaluation\">_alpha_m_evaluation</a> theorem\n",
    "========"
   ]
  },
  {
   "cell_type": "code",
   "execution_count": null,
   "metadata": {},
   "outputs": [],
   "source": [
    "import proveit\n",
    "theory = proveit.Theory() # the theorem's theory\n",
    "from proveit import k, l, m, n, t, defaults\n",
    "from proveit.logic import InSet\n",
    "from proveit.numbers import Mult\n",
    "from proveit.physics.quantum.QPE import ( _m_domain, _t ) # QPE Common Expressions\n",
    "from proveit.physics.quantum.QPE import (                 # QPE Axioms\n",
    "    _alpha_m_def, _Psi_def )\n",
    "from proveit.physics.quantum.QPE import (                 # QPE Theorems\n",
    "    _phase_is_real, _psi_t_var_formula, _t_in_natural_pos )\n",
    "from proveit.physics.quantum.QFT import invFT_on_matrix_elem"
   ]
  },
  {
   "cell_type": "code",
   "execution_count": null,
   "metadata": {},
   "outputs": [],
   "source": [
    "%proving _alpha_m_evaluation"
   ]
  },
  {
   "cell_type": "code",
   "execution_count": null,
   "metadata": {},
   "outputs": [],
   "source": [
    "defaults.assumptions = _alpha_m_evaluation.conditions"
   ]
  },
  {
   "cell_type": "code",
   "execution_count": null,
   "metadata": {},
   "outputs": [],
   "source": [
    "_alpha_m_def"
   ]
  },
  {
   "cell_type": "code",
   "execution_count": null,
   "metadata": {},
   "outputs": [],
   "source": [
    "alpha_m_eq_01 = _alpha_m_def.instantiate()"
   ]
  },
  {
   "cell_type": "code",
   "execution_count": null,
   "metadata": {},
   "outputs": [],
   "source": [
    "_Psi_def"
   ]
  },
  {
   "cell_type": "code",
   "execution_count": null,
   "metadata": {},
   "outputs": [],
   "source": [
    "alpha_m_eq_02 = _Psi_def.sub_right_side_into(alpha_m_eq_01)"
   ]
  },
  {
   "cell_type": "code",
   "execution_count": null,
   "metadata": {},
   "outputs": [],
   "source": [
    "_psi_t_var_formula"
   ]
  },
  {
   "cell_type": "code",
   "execution_count": null,
   "metadata": {},
   "outputs": [],
   "source": [
    "# This instantiation requires we know that _t is in NaturalPos\n",
    "psi_formula = _psi_t_var_formula.instantiate({t:_t})"
   ]
  },
  {
   "cell_type": "code",
   "execution_count": null,
   "metadata": {},
   "outputs": [],
   "source": [
    "# Auto_simplification here pulls the constant coefficient\n",
    "# out to the front of the bra-ket; for that auto-simplification\n",
    "# factoring to work, however, we need the _phase_is_real theorem\n",
    "# and the correct domain assumption for m.\n",
    "alpha_m_eq_03 = psi_formula.sub_right_side_into(alpha_m_eq_02)"
   ]
  },
  {
   "cell_type": "code",
   "execution_count": null,
   "metadata": {},
   "outputs": [],
   "source": [
    "alpha_m_eq_04 = alpha_m_eq_03.inner_expr().rhs.operands[1].distribute(2)"
   ]
  },
  {
   "cell_type": "code",
   "execution_count": null,
   "metadata": {},
   "outputs": [],
   "source": [
    "# for convenience and clarity we name the summation domain\n",
    "k_domain = psi_formula.rhs.operands[1].domain"
   ]
  },
  {
   "cell_type": "code",
   "execution_count": null,
   "metadata": {},
   "outputs": [],
   "source": [
    "invFT_on_matrix_elem"
   ]
  },
  {
   "cell_type": "code",
   "execution_count": null,
   "metadata": {},
   "outputs": [],
   "source": [
    "matrix_elem = invFT_on_matrix_elem.instantiate(\n",
    "    {n:_t, l:m}, assumptions=[InSet(k, k_domain), InSet(m, _m_domain)])"
   ]
  },
  {
   "cell_type": "code",
   "execution_count": null,
   "metadata": {},
   "outputs": [],
   "source": [
    "# We don't want to combine the two different exponentials through auto-simplification.\n",
    "Mult.change_simplification_directives(combine_all_exponents=False)\n",
    "alpha_m_eq_05 = (alpha_m_eq_04.inner_expr().rhs.operands[1]\n",
    "               .summand.operands[1].substitute(matrix_elem))"
   ]
  },
  {
   "cell_type": "code",
   "execution_count": null,
   "metadata": {},
   "outputs": [],
   "source": [
    "const_factor = alpha_m_eq_05.rhs.operands[0]"
   ]
  },
  {
   "cell_type": "code",
   "execution_count": null,
   "metadata": {},
   "outputs": [],
   "source": [
    "alpha_m_eq_06 = alpha_m_eq_05.inner_expr().rhs.operands[1].factor(const_factor)"
   ]
  },
  {
   "cell_type": "code",
   "execution_count": null,
   "metadata": {},
   "outputs": [],
   "source": [
    "%qed"
   ]
  },
  {
   "cell_type": "code",
   "execution_count": null,
   "metadata": {},
   "outputs": [],
   "source": []
  }
 ],
 "metadata": {
  "kernelspec": {
   "display_name": "Python 3",
   "language": "python",
   "name": "python3"
  }
 },
 "nbformat": 4,
 "nbformat_minor": 0
}
