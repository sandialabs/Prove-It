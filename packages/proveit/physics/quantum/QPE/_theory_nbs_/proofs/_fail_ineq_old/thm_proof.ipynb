{
 "cells": [
  {
   "cell_type": "markdown",
   "metadata": {},
   "source": [
    "Proof of <a class=\"ProveItLink\" href=\"../../../../../../_theory_nbs_/theory.ipynb\">proveit</a>.<a class=\"ProveItLink\" href=\"../../../../../_theory_nbs_/theory.ipynb\">physics</a>.<a class=\"ProveItLink\" href=\"../../../../_theory_nbs_/theory.ipynb\">quantum</a>.<a class=\"ProveItLink\" href=\"../../theory.ipynb\">QPE</a>.<a class=\"ProveItLink\" href=\"../../theorems.ipynb#_fail_ineq_old\">_fail_ineq_old</a> theorem\n",
    "========"
   ]
  },
  {
   "cell_type": "code",
   "execution_count": null,
   "metadata": {},
   "outputs": [],
   "source": [
    "import proveit\n",
    "theory = proveit.Theory() # the theorem's theory\n",
    "from proveit import a, b, e, f, i, l, x, defaults, Lambda\n",
    "from proveit.logic import Equals, InSet, NotEquals\n",
    "from proveit.numbers import (zero, one, two, four, Add, Exp, frac, greater,\n",
    "                             greater_eq,Less, Mult, Neg, Real, subtract)\n",
    "# import common expressions\n",
    "from proveit.physics.quantum.QPE import (_alpha_l, _alpha_l_sqrd, _t, _delta,\n",
    "    _two_pow_t, _two_pow_t_minus_one, _full_domain, _neg_domain, _pos_domain,\n",
    "    _diff_l_scaled_delta)\n",
    "# import axioms\n",
    "from proveit.physics.quantum.QPE import _t_in_natural_pos, _mod_add_def\n",
    "# import theorems\n",
    "from proveit.physics.quantum.QPE import (\n",
    "    _pos_domain_in_full_domain_sans_zero_old, _neg_domain_in_full_domain_sans_zero_old,\n",
    "    _pos_domain_within_integer, _neg_domain_within_integer,\n",
    "    _two_pow_t_minus_one_is_nat_pos, _phase_is_real, _all_alpha_l_is_complex, \n",
    "    _all_abs_alpha_l_sqrd_are_real, \n",
    "    _delta_is_real, _scaled_delta_in_interval,\n",
    "    _scaled_delta_not_eq_nonzeroInt, _alpha_l_sqrd_ineq, _fail_ineq_lemma_old)\n",
    "from proveit.physics.quantum.QPE.phase_est_ops import Psuccess, Pfail, ModAdd"
   ]
  },
  {
   "cell_type": "code",
   "execution_count": null,
   "metadata": {},
   "outputs": [],
   "source": [
    "%proving _fail_ineq_old"
   ]
  },
  {
   "cell_type": "code",
   "execution_count": null,
   "metadata": {},
   "outputs": [],
   "source": [
    "defaults.assumptions = _fail_ineq_old.conditions"
   ]
  },
  {
   "cell_type": "code",
   "execution_count": null,
   "metadata": {},
   "outputs": [],
   "source": [
    "# useful to name this sub-expression\n",
    "_scaled_delta = Mult(_two_pow_t, _delta)"
   ]
  },
  {
   "cell_type": "code",
   "execution_count": null,
   "metadata": {},
   "outputs": [],
   "source": [
    "_fail_ineq_lemma_old"
   ]
  },
  {
   "cell_type": "code",
   "execution_count": null,
   "metadata": {},
   "outputs": [],
   "source": [
    "fail_ineq_lemma_inst = _fail_ineq_lemma_old.instantiate()"
   ]
  },
  {
   "cell_type": "markdown",
   "metadata": {},
   "source": [
    "### Upper bound each of the summations in `fail_ineq_lemma_inst` via …"
   ]
  },
  {
   "cell_type": "code",
   "execution_count": null,
   "metadata": {},
   "outputs": [],
   "source": [
    "first_sum = fail_ineq_lemma_inst.rhs.operands[1].operands[0]"
   ]
  },
  {
   "cell_type": "code",
   "execution_count": null,
   "metadata": {},
   "outputs": [],
   "source": [
    "second_sum = fail_ineq_lemma_inst.rhs.operands[1].operands[1]"
   ]
  },
  {
   "cell_type": "code",
   "execution_count": null,
   "metadata": {},
   "outputs": [],
   "source": [
    "the_summand = first_sum.summand"
   ]
  },
  {
   "cell_type": "code",
   "execution_count": null,
   "metadata": {},
   "outputs": [],
   "source": [
    "first_sum_conditions = first_sum.conditions[0]"
   ]
  },
  {
   "cell_type": "code",
   "execution_count": null,
   "metadata": {},
   "outputs": [],
   "source": [
    "second_sum_conditions = second_sum.conditions[0]"
   ]
  },
  {
   "cell_type": "code",
   "execution_count": null,
   "metadata": {},
   "outputs": [],
   "source": [
    "# first_sum_conditions.derive_element_lower_bound(assumptions=defaults.assumptions+(first_sum_conditions,))"
   ]
  },
  {
   "cell_type": "code",
   "execution_count": null,
   "metadata": {},
   "outputs": [],
   "source": [
    "# first_sum_conditions.derive_element_upper_bound(assumptions=defaults.assumptions+(first_sum_conditions,))"
   ]
  },
  {
   "cell_type": "code",
   "execution_count": null,
   "metadata": {},
   "outputs": [],
   "source": [
    "# second_sum_conditions.derive_element_lower_bound(assumptions=defaults.assumptions+(second_sum_conditions,))"
   ]
  },
  {
   "cell_type": "code",
   "execution_count": null,
   "metadata": {},
   "outputs": [],
   "source": [
    "# second_sum_conditions.derive_element_upper_bound(assumptions=defaults.assumptions+(second_sum_conditions,))"
   ]
  },
  {
   "cell_type": "code",
   "execution_count": null,
   "metadata": {},
   "outputs": [],
   "source": [
    "e_conditions = _fail_ineq_old.conditions[0]"
   ]
  },
  {
   "cell_type": "code",
   "execution_count": null,
   "metadata": {},
   "outputs": [],
   "source": [
    "# e_conditions.derive_element_lower_bound()"
   ]
  },
  {
   "cell_type": "code",
   "execution_count": null,
   "metadata": {},
   "outputs": [],
   "source": [
    "# e_conditions.derive_element_upper_bound()"
   ]
  },
  {
   "cell_type": "code",
   "execution_count": null,
   "metadata": {},
   "outputs": [],
   "source": [
    "_scaled_delta_in_interval"
   ]
  },
  {
   "cell_type": "code",
   "execution_count": null,
   "metadata": {},
   "outputs": [],
   "source": [
    "scaled_delta_lower_bound = _scaled_delta_in_interval.derive_element_lower_bound()"
   ]
  },
  {
   "cell_type": "code",
   "execution_count": null,
   "metadata": {},
   "outputs": [],
   "source": [
    "scaled_delta_upper_bound = _scaled_delta_in_interval.derive_element_upper_bound()"
   ]
  },
  {
   "cell_type": "code",
   "execution_count": null,
   "metadata": {},
   "outputs": [],
   "source": [
    "# Need to know -1 < 0 in the next step below.\n",
    "# Can likely be easily, usefully automated; check on this.\n",
    "Less(Neg(one), zero).prove()"
   ]
  },
  {
   "cell_type": "code",
   "execution_count": null,
   "metadata": {},
   "outputs": [],
   "source": [
    "# This step needs to already know that -1 < 0; see step above.\n",
    "neg_scaled_delta_lower_bound = scaled_delta_upper_bound.left_mult_both_sides(Neg(one))"
   ]
  },
  {
   "cell_type": "code",
   "execution_count": null,
   "metadata": {},
   "outputs": [],
   "source": [
    "neg_scaled_delta_upper_bound = scaled_delta_lower_bound.left_mult_both_sides(Neg(one))"
   ]
  },
  {
   "cell_type": "code",
   "execution_count": null,
   "metadata": {},
   "outputs": [],
   "source": [
    "# Actually needed explicitly for a step a few steps below?\n",
    "# InSet(l, Real).prove(assumptions = defaults.assumptions + (first_sum_conditions,))"
   ]
  },
  {
   "cell_type": "code",
   "execution_count": null,
   "metadata": {},
   "outputs": [],
   "source": [
    "_diff_l_scaled_delta.deduce_bound(neg_scaled_delta_lower_bound,\n",
    "        assumptions=defaults.assumptions + (first_sum_conditions,))"
   ]
  },
  {
   "cell_type": "code",
   "execution_count": null,
   "metadata": {},
   "outputs": [],
   "source": [
    "# For the 1st Summation\n",
    "_diff_l_scaled_delta_upper_bound = _diff_l_scaled_delta.deduce_bound(\n",
    "        neg_scaled_delta_upper_bound.reversed(),\n",
    "        assumptions=defaults.assumptions + (first_sum_conditions,))"
   ]
  },
  {
   "cell_type": "code",
   "execution_count": null,
   "metadata": {},
   "outputs": [],
   "source": [
    "# For the 2nd Summation\n",
    "_diff_l_scaled_delta_upper_bound_2 = _diff_l_scaled_delta.deduce_bound(\n",
    "        neg_scaled_delta_lower_bound,\n",
    "        assumptions=defaults.assumptions + (second_sum_conditions,))"
   ]
  },
  {
   "cell_type": "markdown",
   "metadata": {},
   "source": [
    "Also need to demonstrate that we have:\n",
    "\n",
    "(1) For the 1st Summation: $\\ell < 0$ and $\\ell^2 \\in \\mathbb{R}^{+}$\n",
    "\n",
    "(2) For the 2nd Summation: $\\ell - 1 > 0$ and $\\ell^2 \\in \\mathbb{R}^{+}$"
   ]
  },
  {
   "cell_type": "code",
   "execution_count": null,
   "metadata": {},
   "outputs": [],
   "source": [
    "e_greater_eq_one = greater_eq(e, one).prove()"
   ]
  },
  {
   "cell_type": "code",
   "execution_count": null,
   "metadata": {},
   "outputs": [],
   "source": [
    "e_plus_one_greater_eq_two = e_greater_eq_one.right_add_both_sides(one)"
   ]
  },
  {
   "cell_type": "code",
   "execution_count": null,
   "metadata": {},
   "outputs": [],
   "source": [
    "neg_e_plus_one_less_eq_neg_two = Neg(Add(e, one)).bound_via_operand_bound(e_plus_one_greater_eq_two)"
   ]
  },
  {
   "cell_type": "code",
   "execution_count": null,
   "metadata": {},
   "outputs": [],
   "source": [
    "ell_upper_bound = first_sum_conditions.derive_element_upper_bound(assumptions=defaults.assumptions + (first_sum_conditions,))"
   ]
  },
  {
   "cell_type": "code",
   "execution_count": null,
   "metadata": {},
   "outputs": [],
   "source": [
    "# For 2nd Summation\n",
    "ell_lower_bound_02 = second_sum_conditions.derive_element_lower_bound(\n",
    "        assumptions = defaults.assumptions + (second_sum_conditions, ))"
   ]
  },
  {
   "cell_type": "code",
   "execution_count": null,
   "metadata": {},
   "outputs": [],
   "source": [
    "# For 1st Summation\n",
    "ell_upper_bound_neg_two = ell_upper_bound.apply_transitivity(neg_e_plus_one_less_eq_neg_two)"
   ]
  },
  {
   "cell_type": "code",
   "execution_count": null,
   "metadata": {},
   "outputs": [],
   "source": [
    "# For Second Summation\n",
    "ell_lower_bound_two_2 = ell_lower_bound_02.apply_transitivity(e_plus_one_greater_eq_two)"
   ]
  },
  {
   "cell_type": "code",
   "execution_count": null,
   "metadata": {},
   "outputs": [],
   "source": [
    "neg_two_less_zero = Less(Neg(two), zero).prove()"
   ]
  },
  {
   "cell_type": "code",
   "execution_count": null,
   "metadata": {},
   "outputs": [],
   "source": [
    "# For 1st Summation\n",
    "ell_less_zero = ell_upper_bound_neg_two.apply_transitivity(neg_two_less_zero)"
   ]
  },
  {
   "cell_type": "code",
   "execution_count": null,
   "metadata": {},
   "outputs": [],
   "source": [
    "# For 2nd Summation; actually don't need this one, need the next one\n",
    "ell_greater_zero_in_sum_02 = greater(l, zero).prove(\n",
    "        assumptions=defaults.assumptions + (second_sum_conditions, ))"
   ]
  },
  {
   "cell_type": "code",
   "execution_count": null,
   "metadata": {},
   "outputs": [],
   "source": [
    "# For 2nd Summation\n",
    "ell_minus_one_greater_one_in_sum_02 = ell_lower_bound_two_2.right_add_both_sides(Neg(one))"
   ]
  },
  {
   "cell_type": "code",
   "execution_count": null,
   "metadata": {},
   "outputs": [],
   "source": [
    "# For 2nd Summation\n",
    "one_greater_zero = greater(one, zero).prove()"
   ]
  },
  {
   "cell_type": "code",
   "execution_count": null,
   "metadata": {},
   "outputs": [],
   "source": [
    "# For 2nd Summation\n",
    "ell_minus_one_greater_one_in_sum_02.apply_transitivity(one_greater_zero)"
   ]
  },
  {
   "cell_type": "code",
   "execution_count": null,
   "metadata": {},
   "outputs": [],
   "source": [
    "# For 1st Summation\n",
    "# from proveit.numbers import RealPos\n",
    "# InSet(Exp(l, two), RealPos).prove(assumptions=defaults.assumptions + (first_sum_conditions,))"
   ]
  },
  {
   "cell_type": "code",
   "execution_count": null,
   "metadata": {},
   "outputs": [],
   "source": [
    "# For 2nd Summation (actually needed this explicitly for later)\n",
    "from proveit.numbers import RealPos\n",
    "InSet(Exp(subtract(l, one), two), RealPos).prove(assumptions=defaults.assumptions + (second_sum_conditions,))"
   ]
  },
  {
   "cell_type": "code",
   "execution_count": null,
   "metadata": {},
   "outputs": [],
   "source": [
    "temp_bound_03 = ell_upper_bound_neg_two.right_add_both_sides(neg_scaled_delta_lower_bound.lhs)"
   ]
  },
  {
   "cell_type": "code",
   "execution_count": null,
   "metadata": {},
   "outputs": [],
   "source": [
    "ell_lower_bound_two_2.right_add_both_sides(neg_scaled_delta_lower_bound.lhs)"
   ]
  },
  {
   "cell_type": "code",
   "execution_count": null,
   "metadata": {},
   "outputs": [],
   "source": [
    "display(scaled_delta_lower_bound)\n",
    "display(scaled_delta_upper_bound)"
   ]
  },
  {
   "cell_type": "code",
   "execution_count": null,
   "metadata": {},
   "outputs": [],
   "source": [
    "scaled_delta_plus_2_lower_bound = scaled_delta_lower_bound.left_add_both_sides(two)"
   ]
  },
  {
   "cell_type": "code",
   "execution_count": null,
   "metadata": {},
   "outputs": [],
   "source": [
    "temp_bound_06 = scaled_delta_plus_2_lower_bound.left_mult_both_sides(Neg(one)).with_styles(direction='normal')"
   ]
  },
  {
   "cell_type": "code",
   "execution_count": null,
   "metadata": {},
   "outputs": [],
   "source": [
    "temp_bound_07 = temp_bound_03.apply_transitivity(temp_bound_06)"
   ]
  },
  {
   "cell_type": "code",
   "execution_count": null,
   "metadata": {},
   "outputs": [],
   "source": [
    "# For 2nd summation\n",
    "neg_scaled_delta_upper_bound = scaled_delta_upper_bound.left_mult_both_sides(Neg(one))"
   ]
  },
  {
   "cell_type": "code",
   "execution_count": null,
   "metadata": {},
   "outputs": [],
   "source": [
    "# For 2nd summation\n",
    "two_minus_scaled_delta_upper_bound = neg_scaled_delta_upper_bound.left_add_both_sides(two)"
   ]
  },
  {
   "cell_type": "code",
   "execution_count": null,
   "metadata": {},
   "outputs": [],
   "source": [
    "greater(two_minus_scaled_delta_upper_bound.lhs, zero).prove()"
   ]
  },
  {
   "cell_type": "markdown",
   "metadata": {},
   "source": [
    "#### Bound on the First Summand and First Sum\n",
    "For the summand in the first sum, then, we can find both a constant upper bound and an $\\ell$-dependent upper bound. The $\\ell$-dependent upper bound is the one we want, but the constant upper bound is also interesting."
   ]
  },
  {
   "cell_type": "code",
   "execution_count": null,
   "metadata": {},
   "outputs": [],
   "source": [
    "# A (temporary) reminder of the_summand\n",
    "the_summand"
   ]
  },
  {
   "cell_type": "code",
   "execution_count": null,
   "metadata": {},
   "outputs": [],
   "source": [
    "# this seems to be needed/used for doing the more general case a couple cells below\n",
    "first_summand_bound_01 = the_summand.deduce_bound(temp_bound_07,\n",
    "        assumptions=defaults.assumptions + (first_sum_conditions,))"
   ]
  },
  {
   "cell_type": "code",
   "execution_count": null,
   "metadata": {},
   "outputs": [],
   "source": [
    "# new version to replace above\n",
    "# first_summand_bound_01 = the_summand.denominator.deduce_bound(temp_bound_07,\n",
    "#         assumptions=defaults.assumptions + (first_sum_conditions,))"
   ]
  },
  {
   "cell_type": "code",
   "execution_count": null,
   "metadata": {},
   "outputs": [],
   "source": [
    "# given such a result, with a literal int on one side\n",
    "# a side effect should prove that lhs is in RealNeg\n",
    "#\n",
    "temp_bound_07"
   ]
  },
  {
   "cell_type": "code",
   "execution_count": null,
   "metadata": {},
   "outputs": [],
   "source": [
    "the_summand.denominator.base"
   ]
  },
  {
   "cell_type": "code",
   "execution_count": null,
   "metadata": {},
   "outputs": [],
   "source": [
    "Less(Neg(two), zero).proven()"
   ]
  },
  {
   "cell_type": "code",
   "execution_count": null,
   "metadata": {},
   "outputs": [],
   "source": [
    "Less(the_summand.denominator.base, zero).conclude_via_transitivity(assumptions=defaults.assumptions + (first_sum_conditions,))"
   ]
  },
  {
   "cell_type": "code",
   "execution_count": null,
   "metadata": {},
   "outputs": [],
   "source": [
    "# Less(the_summand.denominator.base, zero).prove(assumptions=defaults.assumptions + (first_sum_conditions,))"
   ]
  },
  {
   "cell_type": "code",
   "execution_count": null,
   "metadata": {},
   "outputs": [],
   "source": [
    "NotEquals(the_summand.denominator, zero).prove(assumptions=defaults.assumptions + (first_sum_conditions,))"
   ]
  },
  {
   "cell_type": "code",
   "execution_count": null,
   "metadata": {},
   "outputs": [],
   "source": [
    "greater(the_summand.denominator, zero).prove(\n",
    "    assumptions=defaults.assumptions + (first_sum_conditions,))"
   ]
  },
  {
   "cell_type": "code",
   "execution_count": null,
   "metadata": {},
   "outputs": [],
   "source": [
    "# without the first_summand_bound_01 above, this one will not go through!\n",
    "first_summand_bound_02 = the_summand.deduce_bound(_diff_l_scaled_delta_upper_bound,\n",
    "        assumptions=defaults.assumptions + (first_sum_conditions,))"
   ]
  },
  {
   "cell_type": "code",
   "execution_count": null,
   "metadata": {},
   "outputs": [],
   "source": [
    "scaled_delta_lower_bound"
   ]
  },
  {
   "cell_type": "code",
   "execution_count": null,
   "metadata": {},
   "outputs": [],
   "source": [
    "# see if this can happen on its own without all the step-by-step stuff\n",
    "# above (i.e. let it cascade on its own)\n",
    "# Without the constant bound first_summand_bound_01 above, this gives error:\n",
    "# Prerequisites not met: We must know the sign of the numerator and denominator\n",
    "# of 1 / (l - (2^{t} * delta))^{2} before we can use 'bound_via_denominator_bound'\n",
    "first_summand_bound_02 = the_summand.deduce_bound(scaled_delta_lower_bound.reversed(),\n",
    "        assumptions=defaults.assumptions + (first_sum_conditions,))"
   ]
  },
  {
   "cell_type": "code",
   "execution_count": null,
   "metadata": {},
   "outputs": [],
   "source": [
    "# assert False"
   ]
  },
  {
   "cell_type": "code",
   "execution_count": null,
   "metadata": {},
   "outputs": [],
   "source": [
    "first_summand_bound_generalized = first_summand_bound_02.generalize((l), conditions=[first_sum_conditions])"
   ]
  },
  {
   "cell_type": "code",
   "execution_count": null,
   "metadata": {},
   "outputs": [],
   "source": [
    "first_sum_bound = first_sum.deduce_bound(first_summand_bound_generalized)"
   ]
  },
  {
   "cell_type": "markdown",
   "metadata": {},
   "source": [
    "#### Bound on the Second Summand and Second Sum\n",
    "For the summand in the second sum, then, we can find both a constant upper bound and an $\\ell$-dependent upper bound. The $\\ell$-dependent upper bound is the one we want, but the constant upper bound is also interesting."
   ]
  },
  {
   "cell_type": "code",
   "execution_count": null,
   "metadata": {},
   "outputs": [],
   "source": [
    "# second_summand_bound_01 = the_summand.deduce_bound(temp_bound_07,\n",
    "#         assumptions=defaults.assumptions + (first_sum_conditions,))"
   ]
  },
  {
   "cell_type": "code",
   "execution_count": null,
   "metadata": {},
   "outputs": [],
   "source": [
    "second_summand_bound_02 = the_summand.deduce_bound(_diff_l_scaled_delta_upper_bound_2,\n",
    "        assumptions=defaults.assumptions + (second_sum_conditions,))"
   ]
  },
  {
   "cell_type": "code",
   "execution_count": null,
   "metadata": {},
   "outputs": [],
   "source": [
    "second_summand_bound_02_relaxed = second_summand_bound_02.derive_relaxed()"
   ]
  },
  {
   "cell_type": "code",
   "execution_count": null,
   "metadata": {},
   "outputs": [],
   "source": [
    "second_summand_bound_generalized = second_summand_bound_02.generalize([l], conditions=[second_sum_conditions])"
   ]
  },
  {
   "cell_type": "code",
   "execution_count": null,
   "metadata": {},
   "outputs": [],
   "source": [
    "second_summand_bound_relaxed_generalized = second_summand_bound_02_relaxed.generalize([l], conditions=[second_sum_conditions])"
   ]
  },
  {
   "cell_type": "code",
   "execution_count": null,
   "metadata": {},
   "outputs": [],
   "source": [
    "second_sum_bound = second_sum.deduce_bound(second_summand_bound_relaxed_generalized)"
   ]
  },
  {
   "cell_type": "markdown",
   "metadata": {},
   "source": [
    "For some of the bounding work below, we need to establish that the factor of $\\frac{1}{4}$ is positive, so a couple seemingly-tangential steps:"
   ]
  },
  {
   "cell_type": "code",
   "execution_count": null,
   "metadata": {},
   "outputs": [],
   "source": [
    "# recall from earlier, we have:\n",
    "one_greater_zero"
   ]
  },
  {
   "cell_type": "code",
   "execution_count": null,
   "metadata": {},
   "outputs": [],
   "source": [
    "one_fourth_greater_zero_fourths = one_greater_zero.divide_both_sides(four)"
   ]
  },
  {
   "cell_type": "markdown",
   "metadata": {},
   "source": [
    "Now we're ready to invoke our `deduce_bound()` method utilizing the bound on the first summation and utilizing the bound on the second summation. The following three steps correspond to the transition from (5.30) to (5.31) in Nielsen & Chuang (pg 224):"
   ]
  },
  {
   "cell_type": "code",
   "execution_count": null,
   "metadata": {},
   "outputs": [],
   "source": [
    "fail_ineq_lemma_inst_bound_01 = fail_ineq_lemma_inst.rhs.deduce_bound(first_sum_bound)"
   ]
  },
  {
   "cell_type": "code",
   "execution_count": null,
   "metadata": {},
   "outputs": [],
   "source": [
    "fail_ineq_lemma_inst_bound_02 = fail_ineq_lemma_inst_bound_01.rhs.deduce_bound(second_sum_bound)"
   ]
  },
  {
   "cell_type": "code",
   "execution_count": null,
   "metadata": {},
   "outputs": [],
   "source": [
    "fail_ineq_lemma_inst_bound_03 = fail_ineq_lemma_inst_bound_01.apply_transitivity(fail_ineq_lemma_inst_bound_02)"
   ]
  },
  {
   "cell_type": "markdown",
   "metadata": {},
   "source": [
    "Next, shift the index of the second summation to create identical summands in each of the summations:"
   ]
  },
  {
   "cell_type": "code",
   "execution_count": null,
   "metadata": {},
   "outputs": [],
   "source": [
    "fail_ineq_lemma_inst_bound_04 = fail_ineq_lemma_inst_bound_03.inner_expr().rhs.operands[1].operands[1].shift(Neg(one))"
   ]
  },
  {
   "cell_type": "markdown",
   "metadata": {},
   "source": [
    "Then negate and flip the order of indices on the first summation (possible because the summand is an even function)."
   ]
  },
  {
   "cell_type": "code",
   "execution_count": null,
   "metadata": {},
   "outputs": [],
   "source": [
    "# ACTUALLY, this theorem is FALSE, so this is quite annoying\n",
    "from proveit.numbers.summation import even_fxn_sum\n",
    "even_fxn_sum"
   ]
  },
  {
   "cell_type": "code",
   "execution_count": null,
   "metadata": {},
   "outputs": [],
   "source": [
    "_a_sub, _b_sub, _x_sub, _f_sub = (\n",
    "    first_sum_conditions.domain.lower_bound,\n",
    "    first_sum_conditions.domain.upper_bound,\n",
    "    l,\n",
    "    Lambda(l, frac(one, l)))"
   ]
  },
  {
   "cell_type": "code",
   "execution_count": null,
   "metadata": {},
   "outputs": [],
   "source": [
    "even_fxn_sum_inst = even_fxn_sum.instantiate({a: _a_sub, b: _b_sub, x: _x_sub, f: _f_sub})"
   ]
  },
  {
   "cell_type": "code",
   "execution_count": null,
   "metadata": {},
   "outputs": [],
   "source": [
    "first_sum_conditions_reversed = even_fxn_sum_inst.rhs.conditions[0]"
   ]
  },
  {
   "cell_type": "code",
   "execution_count": null,
   "metadata": {},
   "outputs": [],
   "source": [
    "fxn_sqrd_eq_one_over_sqr_01 = Exp(frac(one, l), two).distribution(assumptions=defaults.assumptions+(first_sum_conditions,))"
   ]
  },
  {
   "cell_type": "code",
   "execution_count": null,
   "metadata": {},
   "outputs": [],
   "source": [
    "# under the reversed index conditions, need to know that ell is still real?\n",
    "InSet(l, Real).prove(assumptions=defaults.assumptions+(first_sum_conditions_reversed,))"
   ]
  },
  {
   "cell_type": "code",
   "execution_count": null,
   "metadata": {},
   "outputs": [],
   "source": [
    "# and under the reversed index conditions, need to know the substitution works\n",
    "fxn_sqrd_eq_one_over_sqr_02 = Exp(frac(one, l), two).distribution(assumptions=defaults.assumptions+(first_sum_conditions_reversed,))"
   ]
  },
  {
   "cell_type": "code",
   "execution_count": null,
   "metadata": {},
   "outputs": [],
   "source": [
    "even_fxn_sum_inst_sub_lhs = even_fxn_sum_inst.inner_expr().lhs.summand.substitute(\n",
    "    fxn_sqrd_eq_one_over_sqr_01,\n",
    "    assumptions=defaults.assumptions+(first_sum_conditions,))"
   ]
  },
  {
   "cell_type": "code",
   "execution_count": null,
   "metadata": {},
   "outputs": [],
   "source": [
    "even_fxn_sum_inst_sub_lhs_rhs = even_fxn_sum_inst_sub_lhs.inner_expr().rhs.summand.substitute(\n",
    "    fxn_sqrd_eq_one_over_sqr_02,\n",
    "    assumptions=defaults.assumptions+(first_sum_conditions_reversed,))"
   ]
  },
  {
   "cell_type": "code",
   "execution_count": null,
   "metadata": {},
   "outputs": [],
   "source": [
    "fail_ineq_lemma_inst_bound_05 = (\n",
    "    fail_ineq_lemma_inst_bound_04.inner_expr().rhs.operands[1].\n",
    "    operands[0].substitute(even_fxn_sum_inst_sub_lhs_rhs))"
   ]
  },
  {
   "cell_type": "code",
   "execution_count": null,
   "metadata": {},
   "outputs": [],
   "source": [
    "# clean up the upper bound on the first summation\n",
    "bound_06 = fail_ineq_lemma_inst_bound_05.inner_expr().rhs.operands[1].operands[0].condition.domain.upper_bound.distribute()"
   ]
  },
  {
   "cell_type": "markdown",
   "metadata": {},
   "source": [
    "To split the first term off the 2nd summation on the rhs, we need to first show that $e < 2^{t-1} - 1$."
   ]
  },
  {
   "cell_type": "code",
   "execution_count": null,
   "metadata": {},
   "outputs": [],
   "source": [
    "e_upper_bound = e_conditions.derive_element_upper_bound()"
   ]
  },
  {
   "cell_type": "code",
   "execution_count": null,
   "metadata": {},
   "outputs": [],
   "source": [
    "e_upper_bound_plus_one = Less(e_upper_bound.rhs, Add(e_upper_bound.rhs, one)).prove()"
   ]
  },
  {
   "cell_type": "code",
   "execution_count": null,
   "metadata": {},
   "outputs": [],
   "source": [
    "e_new_upper_bound = e_upper_bound.apply_transitivity(e_upper_bound_plus_one)"
   ]
  },
  {
   "cell_type": "code",
   "execution_count": null,
   "metadata": {},
   "outputs": [],
   "source": [
    "e_new_upper_bound_simp = e_new_upper_bound.inner_expr().rhs.simplify()"
   ]
  },
  {
   "cell_type": "markdown",
   "metadata": {},
   "source": [
    "Now we're ready to use a partioning of one of the summations:"
   ]
  },
  {
   "cell_type": "code",
   "execution_count": null,
   "metadata": {},
   "outputs": [],
   "source": [
    "temp_split_01 = bound_06.rhs.operands[1].operands[1].partition_first(\n",
    "    assumptions=defaults.assumptions+(second_sum_conditions,))"
   ]
  },
  {
   "cell_type": "code",
   "execution_count": null,
   "metadata": {},
   "outputs": [],
   "source": [
    "temp_split_02 = Equals(subtract(temp_split_01.lhs, temp_split_01.rhs.operands[0]),\n",
    "                      subtract(temp_split_01.lhs, temp_split_01.rhs.operands[0]))"
   ]
  },
  {
   "cell_type": "code",
   "execution_count": null,
   "metadata": {},
   "outputs": [],
   "source": [
    "temp_split_03 = temp_split_02.inner_expr().rhs.operands[0].substitute(temp_split_01).derive_reversed()"
   ]
  },
  {
   "cell_type": "markdown",
   "metadata": {},
   "source": [
    "And use that to substitute into the larger inequality:"
   ]
  },
  {
   "cell_type": "code",
   "execution_count": null,
   "metadata": {},
   "outputs": [],
   "source": [
    "# recall\n",
    "bound_06"
   ]
  },
  {
   "cell_type": "code",
   "execution_count": null,
   "metadata": {},
   "outputs": [],
   "source": [
    "bound_07 = bound_06.inner_expr().rhs.operands[1].operands[0].substitute(temp_split_03)"
   ]
  },
  {
   "cell_type": "code",
   "execution_count": null,
   "metadata": {},
   "outputs": [],
   "source": [
    "e_greater_zero = greater(e, zero).prove()"
   ]
  },
  {
   "cell_type": "code",
   "execution_count": null,
   "metadata": {},
   "outputs": [],
   "source": [
    "from proveit.numbers import NaturalPos\n",
    "InSet(Exp(e, two), RealPos).prove()\n",
    "InSet(frac(one, Exp(e, two)), RealPos).prove()\n",
    "one_over_e_sqrd_greater_zero = greater(frac(one, Exp(e, two)), zero).prove()"
   ]
  },
  {
   "cell_type": "code",
   "execution_count": null,
   "metadata": {},
   "outputs": [],
   "source": [
    "bound_08 = bound_07.rhs.deduce_bound(one_over_e_sqrd_greater_zero)"
   ]
  },
  {
   "cell_type": "code",
   "execution_count": null,
   "metadata": {},
   "outputs": [],
   "source": [
    "bound_09 = bound_07.apply_transitivity(bound_08)"
   ]
  },
  {
   "cell_type": "code",
   "execution_count": null,
   "metadata": {},
   "outputs": [],
   "source": [
    "four_eq_two_times_two = Mult(two, two).simplification().derive_reversed()"
   ]
  },
  {
   "cell_type": "code",
   "execution_count": null,
   "metadata": {},
   "outputs": [],
   "source": [
    "bound10 = bound_09.inner_expr().rhs.operands[1].denominator.substitute(four_eq_two_times_two)"
   ]
  },
  {
   "cell_type": "code",
   "execution_count": null,
   "metadata": {},
   "outputs": [],
   "source": [
    "bound11 = bound10.inner_expr().rhs.cancel(two, auto_simplify=False)"
   ]
  },
  {
   "cell_type": "code",
   "execution_count": null,
   "metadata": {},
   "outputs": [],
   "source": [
    "from proveit.numbers.functions import MonDecFuncs"
   ]
  },
  {
   "cell_type": "code",
   "execution_count": null,
   "metadata": {},
   "outputs": [],
   "source": [
    "from proveit.numbers.summation import sum_integrate_ineq\n",
    "sum_integrate_ineq"
   ]
  },
  {
   "cell_type": "code",
   "execution_count": null,
   "metadata": {},
   "outputs": [],
   "source": [
    "# alternatively, and more in line with Nielsen & Chuang:\n",
    "from proveit.numbers.summation import sum_integrate_ineq_NC\n",
    "sum_integrate_ineq_NC"
   ]
  },
  {
   "cell_type": "code",
   "execution_count": null,
   "metadata": {},
   "outputs": [],
   "source": [
    "from proveit.numbers.functions import one_over_x_sqrd_in_mon_dec_fxns\n",
    "one_over_x_sqrd_in_mon_dec_fxns"
   ]
  },
  {
   "cell_type": "code",
   "execution_count": null,
   "metadata": {},
   "outputs": [],
   "source": [
    "summand_in_mon_dec_funcs = one_over_x_sqrd_in_mon_dec_fxns.instantiate({x:l})"
   ]
  },
  {
   "cell_type": "code",
   "execution_count": null,
   "metadata": {},
   "outputs": [],
   "source": [
    "# instantiation substitutions\n",
    "from proveit import S\n",
    "_S_sub, _f_sub, _a_sub, _b_sub, _x_sub = (\n",
    "    RealPos, summand_in_mon_dec_funcs.element,\n",
    "    bound11.rhs.operands[1].domain.lower_bound,\n",
    "    bound11.rhs.operands[1].domain.upper_bound,\n",
    "    l)\n",
    "sum_integrate_ineq_inst = sum_integrate_ineq.instantiate(\n",
    "    {S: _S_sub, f: _f_sub, a: _a_sub, b: _b_sub, x: _x_sub})"
   ]
  },
  {
   "cell_type": "code",
   "execution_count": null,
   "metadata": {},
   "outputs": [],
   "source": [
    "# ALTERNATIVE instantiation substitutions\n",
    "from proveit import S\n",
    "_S_sub, _f_sub, _a_sub, _b_sub, _x_sub = (\n",
    "    RealPos, summand_in_mon_dec_funcs.element,\n",
    "    bound11.rhs.operands[1].domain.lower_bound,\n",
    "    bound11.rhs.operands[1].domain.upper_bound,\n",
    "    l)\n",
    "sum_integrate_ineq_NC_inst = sum_integrate_ineq_NC.instantiate(\n",
    "    {S: _S_sub, f: _f_sub, a: _a_sub, b: _b_sub, x: _x_sub})"
   ]
  },
  {
   "cell_type": "code",
   "execution_count": null,
   "metadata": {},
   "outputs": [],
   "source": [
    "one_greater_zero.divide_both_sides(two)"
   ]
  },
  {
   "cell_type": "code",
   "execution_count": null,
   "metadata": {},
   "outputs": [],
   "source": [
    "bound11.rhs"
   ]
  },
  {
   "cell_type": "code",
   "execution_count": null,
   "metadata": {},
   "outputs": [],
   "source": [
    "bound12 = bound11.rhs.deduce_bound(sum_integrate_ineq_inst)"
   ]
  },
  {
   "cell_type": "code",
   "execution_count": null,
   "metadata": {},
   "outputs": [],
   "source": [
    "# bound12alt = bound11.rhs.deduce_bound(sum_integrate_ineq_NC_inst)"
   ]
  },
  {
   "cell_type": "code",
   "execution_count": null,
   "metadata": {},
   "outputs": [],
   "source": [
    "bound13 = bound11.apply_transitivity(bound12)"
   ]
  },
  {
   "cell_type": "code",
   "execution_count": null,
   "metadata": {},
   "outputs": [],
   "source": [
    "from proveit.numbers.integration import boundedInvSqrdIntegral\n",
    "boundedInvSqrdIntegral"
   ]
  },
  {
   "cell_type": "markdown",
   "metadata": {},
   "source": [
    "Need to establish that $2^{t-1}-1$ is in RealPos."
   ]
  },
  {
   "cell_type": "code",
   "execution_count": null,
   "metadata": {},
   "outputs": [],
   "source": [
    "# recall from earlier in the notebook:\n",
    "e_new_upper_bound_simp"
   ]
  },
  {
   "cell_type": "code",
   "execution_count": null,
   "metadata": {},
   "outputs": [],
   "source": [
    "greater(e_new_upper_bound_simp.rhs, zero).prove()"
   ]
  },
  {
   "cell_type": "code",
   "execution_count": null,
   "metadata": {},
   "outputs": [],
   "source": [
    "integral_domain = bound13.rhs.operands[1].operands[1].domain\n",
    "_a_sub = integral_domain.lower_bound\n",
    "_b_sub = integral_domain.upper_bound\n",
    "integral_bound = boundedInvSqrdIntegral.instantiate({a: _a_sub, b: _b_sub})"
   ]
  },
  {
   "cell_type": "code",
   "execution_count": null,
   "metadata": {},
   "outputs": [],
   "source": [
    "bound14 = bound13.rhs.deduce_bound(integral_bound)"
   ]
  },
  {
   "cell_type": "code",
   "execution_count": null,
   "metadata": {},
   "outputs": [],
   "source": [
    "bound15 = bound13.apply_transitivity(bound14)"
   ]
  },
  {
   "cell_type": "code",
   "execution_count": null,
   "metadata": {},
   "outputs": [],
   "source": [
    "bound16 = fail_ineq_lemma_inst.apply_transitivity(bound15)"
   ]
  },
  {
   "cell_type": "code",
   "execution_count": null,
   "metadata": {},
   "outputs": [],
   "source": [
    "# one final tweak using commutativity\n",
    "bound16.inner_expr().rhs.operands[1].commute(0, 1)"
   ]
  },
  {
   "cell_type": "code",
   "execution_count": null,
   "metadata": {},
   "outputs": [],
   "source": [
    "%qed"
   ]
  },
  {
   "cell_type": "code",
   "execution_count": null,
   "metadata": {},
   "outputs": [],
   "source": []
  }
 ],
 "metadata": {
  "kernelspec": {
   "display_name": "Python 3",
   "language": "python",
   "name": "python3"
  }
 },
 "nbformat": 4,
 "nbformat_minor": 0
}
