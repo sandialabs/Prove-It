{
 "cells": [
  {
   "cell_type": "markdown",
   "metadata": {},
   "source": [
    "Proof of <a class=\"ProveItLink\" href=\"../../../../../../_theory_nbs_/theory.ipynb\">proveit</a>.<a class=\"ProveItLink\" href=\"../../../../../_theory_nbs_/theory.ipynb\">physics</a>.<a class=\"ProveItLink\" href=\"../../../../_theory_nbs_/theory.ipynb\">quantum</a>.<a class=\"ProveItLink\" href=\"../../theory.ipynb\">QPE</a>.<a class=\"ProveItLink\" href=\"../../theorems.ipynb#_scaled_delta_b_is_zero_or_non_int\">_scaled_delta_b_is_zero_or_non_int</a> theorem\n",
    "========"
   ]
  },
  {
   "cell_type": "code",
   "execution_count": null,
   "metadata": {},
   "outputs": [],
   "source": [
    "import proveit\n",
    "theory = proveit.Theory() # the theorem's theory\n",
    "from proveit import b, n, x, A, defaults\n",
    "from proveit.logic import Equals, Forall, Implies, InSet, Not, NotEquals, Or, Set\n",
    "from proveit.numbers import (\n",
    "        zero, one, two, Add, Exp, frac, IntervalOO, Less, LessEq, Mult, Neg, Real)\n",
    "from proveit.numbers.number_sets.real_numbers import not_int_if_not_int_in_interval\n",
    "from proveit.physics.quantum.QPE import (\n",
    "        _b_floor, _b_round, _delta_b, _t,\n",
    "        _scaled_delta_b_floor_in_interval, _scaled_delta_b_round_in_interval)"
   ]
  },
  {
   "cell_type": "code",
   "execution_count": null,
   "metadata": {},
   "outputs": [],
   "source": [
    "%proving _scaled_delta_b_is_zero_or_non_int"
   ]
  },
  {
   "cell_type": "code",
   "execution_count": null,
   "metadata": {},
   "outputs": [],
   "source": [
    "defaults.assumptions = _scaled_delta_b_is_zero_or_non_int.all_conditions()"
   ]
  },
  {
   "cell_type": "markdown",
   "metadata": {},
   "source": [
    "### Deduce $2^t \\delta_{b_f}$ in expanded interval $(-1, 1)$."
   ]
  },
  {
   "cell_type": "code",
   "execution_count": null,
   "metadata": {},
   "outputs": [],
   "source": [
    "_scaled_delta_b_floor_in_interval"
   ]
  },
  {
   "cell_type": "markdown",
   "metadata": {},
   "source": [
    "Perhaps because of the integer bounds involved, Prove-It has no trouble expanding that interval to the desired open interval $(-1, 1)$:"
   ]
  },
  {
   "cell_type": "code",
   "execution_count": null,
   "metadata": {},
   "outputs": [],
   "source": [
    "InSet(_scaled_delta_b_floor_in_interval.element, IntervalOO(Neg(one), one)).prove()"
   ]
  },
  {
   "cell_type": "markdown",
   "metadata": {},
   "source": [
    "### Deduce $2^t \\delta_{b_r}$ in expanded interval $(-1, 1)$."
   ]
  },
  {
   "cell_type": "markdown",
   "metadata": {},
   "source": [
    "The automation is insufficient when trying to do the analogous thing for $2^t \\delta_{b_r}$, so we have to do a bit more work. We seem to need explicit derivations that $-1 < -\\frac{1}{2}$ and $\\frac{1}{2} < 1$ to allow the domain interval expansion."
   ]
  },
  {
   "cell_type": "code",
   "execution_count": null,
   "metadata": {},
   "outputs": [],
   "source": [
    "_scaled_delta_b_round_in_interval"
   ]
  },
  {
   "cell_type": "code",
   "execution_count": null,
   "metadata": {},
   "outputs": [],
   "source": [
    "# To avoid an error in the next cell (even after re-setting presumptions):\n",
    "# ProofFailure: Unable to prove ((-1) / 1) = (-1) assuming {b in {b_{f}, b_{r}}}:\n",
    "# Infinite 'conclude' recursion blocked.\n",
    "frac(Neg(one), one).factorization(one).inner_expr().rhs.simplify()"
   ]
  },
  {
   "cell_type": "code",
   "execution_count": null,
   "metadata": {},
   "outputs": [],
   "source": [
    "neg_one_less_neg_one_half = Less(Neg(one), Neg(frac(one, two))).prove()"
   ]
  },
  {
   "cell_type": "code",
   "execution_count": null,
   "metadata": {},
   "outputs": [],
   "source": [
    "Less(frac(one, two), one).prove()"
   ]
  },
  {
   "cell_type": "markdown",
   "metadata": {},
   "source": [
    "Now Prove-It can derive the expanded interval membership for $2^t \\delta_{b_r}$:"
   ]
  },
  {
   "cell_type": "code",
   "execution_count": null,
   "metadata": {},
   "outputs": [],
   "source": [
    "InSet(_scaled_delta_b_round_in_interval.element, IntervalOO(Neg(one), one)).prove()"
   ]
  },
  {
   "cell_type": "markdown",
   "metadata": {},
   "source": [
    "### Combine the results for both the $b_f$ and $b_r$ cases:"
   ]
  },
  {
   "cell_type": "code",
   "execution_count": null,
   "metadata": {},
   "outputs": [],
   "source": [
    "all_scaled_deltas_in_interval_neg_one_to_one = Forall(b,\n",
    "       InSet(Mult(Exp(two, _t), _delta_b), IntervalOO(Neg(one), one)),\n",
    "       domain=Set(_b_floor, _b_round)).prove()"
   ]
  },
  {
   "cell_type": "code",
   "execution_count": null,
   "metadata": {},
   "outputs": [],
   "source": [
    "all_scaled_deltas_in_interval_neg_one_to_one_inst = (\n",
    "        all_scaled_deltas_in_interval_neg_one_to_one.instantiate())"
   ]
  },
  {
   "cell_type": "markdown",
   "metadata": {},
   "source": [
    "### Establish that $(2^t \\delta = 0) \\lor (\\lnot[2^t \\delta = 0])$ using a version of the Law of the Excluded Middle"
   ]
  },
  {
   "cell_type": "code",
   "execution_count": null,
   "metadata": {},
   "outputs": [],
   "source": [
    "# for convenience\n",
    "_scaled_delta_b = all_scaled_deltas_in_interval_neg_one_to_one_inst.element"
   ]
  },
  {
   "cell_type": "code",
   "execution_count": null,
   "metadata": {},
   "outputs": [],
   "source": [
    "from proveit.logic.booleans import unfold_is_bool\n",
    "unfold_is_bool"
   ]
  },
  {
   "cell_type": "code",
   "execution_count": null,
   "metadata": {},
   "outputs": [],
   "source": [
    "non_zero_assumption = NotEquals(_scaled_delta_b, zero)"
   ]
  },
  {
   "cell_type": "code",
   "execution_count": null,
   "metadata": {},
   "outputs": [],
   "source": [
    "zero_assumption = Equals(_scaled_delta_b, zero)"
   ]
  },
  {
   "cell_type": "code",
   "execution_count": null,
   "metadata": {},
   "outputs": [],
   "source": [
    "scaled_delta_b_is_zero_or_not = unfold_is_bool.instantiate({A: zero_assumption})"
   ]
  },
  {
   "cell_type": "markdown",
   "metadata": {},
   "source": [
    "### Establish that the assumptions $(2^t \\delta = 0)$ and $(\\lnot[2^t \\delta = 0])$ _each_ imply that $(2^t \\delta = 0) \\lor (2^t \\delta_{b} \\notin \\mathbb{Z})$"
   ]
  },
  {
   "cell_type": "markdown",
   "metadata": {},
   "source": [
    "#### First, assuming that $2^t \\delta_b \\ne 0$"
   ]
  },
  {
   "cell_type": "code",
   "execution_count": null,
   "metadata": {},
   "outputs": [],
   "source": [
    "not_int_if_not_int_in_interval"
   ]
  },
  {
   "cell_type": "code",
   "execution_count": null,
   "metadata": {},
   "outputs": [],
   "source": [
    "not_zero_assumption_gives_not_int = not_int_if_not_int_in_interval.instantiate(\n",
    "    {n: zero, x: _scaled_delta_b},\n",
    "    assumptions=[*defaults.assumptions, non_zero_assumption])"
   ]
  },
  {
   "cell_type": "code",
   "execution_count": null,
   "metadata": {},
   "outputs": [],
   "source": [
    "Or(zero_assumption, not_zero_assumption_gives_not_int.expr).prove(\n",
    "        assumptions=[*defaults.assumptions, non_zero_assumption]).as_implication(hypothesis=non_zero_assumption)"
   ]
  },
  {
   "cell_type": "code",
   "execution_count": null,
   "metadata": {},
   "outputs": [],
   "source": [
    "not_zero_implies_not_eq_zero = non_zero_assumption.conclude_as_folded(\n",
    "        assumptions = [Not(zero_assumption)]).as_implication(hypothesis=Not(zero_assumption))"
   ]
  },
  {
   "cell_type": "code",
   "execution_count": null,
   "metadata": {},
   "outputs": [],
   "source": [
    "Implies(Not(zero_assumption), Or(zero_assumption, not_zero_assumption_gives_not_int.expr)).prove()"
   ]
  },
  {
   "cell_type": "markdown",
   "metadata": {},
   "source": [
    "#### Second, assuming that $2^t \\delta_b = 0$"
   ]
  },
  {
   "cell_type": "code",
   "execution_count": null,
   "metadata": {},
   "outputs": [],
   "source": [
    "zero_assumption_gives_zero = zero_assumption.prove(assumptions=[*defaults.assumptions, zero_assumption])"
   ]
  },
  {
   "cell_type": "code",
   "execution_count": null,
   "metadata": {},
   "outputs": [],
   "source": [
    "Or(zero_assumption_gives_zero.expr, not_zero_assumption_gives_not_int.expr).prove(\n",
    "        assumptions=[*defaults.assumptions, zero_assumption]).as_implication(hypothesis=zero_assumption)"
   ]
  },
  {
   "cell_type": "markdown",
   "metadata": {},
   "source": [
    "### Thus in all cases we have the desired conclusion:"
   ]
  },
  {
   "cell_type": "code",
   "execution_count": null,
   "metadata": {},
   "outputs": [],
   "source": [
    "scaled_delta_b_is_zero_or_not.derive_via_singular_dilemma(_scaled_delta_b_is_zero_or_non_int.instance_expr)"
   ]
  },
  {
   "cell_type": "code",
   "execution_count": null,
   "metadata": {},
   "outputs": [],
   "source": [
    "%qed"
   ]
  },
  {
   "cell_type": "code",
   "execution_count": null,
   "metadata": {},
   "outputs": [],
   "source": []
  }
 ],
 "metadata": {
  "kernelspec": {
   "display_name": "Python 3",
   "language": "python",
   "name": "python3"
  }
 },
 "nbformat": 4,
 "nbformat_minor": 0
}
