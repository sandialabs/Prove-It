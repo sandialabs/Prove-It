{
 "cells": [
  {
   "cell_type": "markdown",
   "metadata": {},
   "source": [
    "Proof of <a class=\"ProveItLink\" href=\"../../../../../../_theory_nbs_/theory.ipynb\">proveit</a>.<a class=\"ProveItLink\" href=\"../../../../../_theory_nbs_/theory.ipynb\">physics</a>.<a class=\"ProveItLink\" href=\"../../../../_theory_nbs_/theory.ipynb\">quantum</a>.<a class=\"ProveItLink\" href=\"../../theory.ipynb\">QPE</a>.<a class=\"ProveItLink\" href=\"../../theorems.ipynb#_delta_diff_in_interval\">_delta_diff_in_interval</a> theorem\n",
    "========"
   ]
  },
  {
   "cell_type": "code",
   "execution_count": null,
   "metadata": {},
   "outputs": [],
   "source": [
    "import proveit\n",
    "theory = proveit.Theory() # the theorem's theory\n",
    "from proveit import a, b, defaults, ExprTuple, l, m, n, x, y, z\n",
    "from proveit.logic import Equals, InSet\n",
    "from proveit.numbers import Add, frac, greater_eq, Less, LessEq, Mult, Neg, subtract\n",
    "from proveit.numbers import zero, one, two, Complex, IntervalCO, Real, RealNeg, RealPos\n",
    "from proveit.numbers.division import mult_frac_right\n",
    "from proveit.numbers.exponentiation import add_one_right_in_exp, quotient_of_posnat_powers\n",
    "from proveit.numbers.number_sets.real_numbers import neg_is_real_neg_if_pos_is_real_pos\n",
    "from proveit.physics.quantum.QPE import _full_domain, _t, _two_pow_t, _two_pow_t_minus_one\n",
    "from proveit.physics.quantum.QPE import (\n",
    "    _delta_is_real, _scaled_delta_in_interval, _t_in_natural_pos, _two_pow_t_is_nat_pos,\n",
    "    _two_pow_t_minus_one_is_nat_pos)"
   ]
  },
  {
   "cell_type": "code",
   "execution_count": null,
   "metadata": {},
   "outputs": [],
   "source": [
    "%proving _delta_diff_in_interval"
   ]
  },
  {
   "cell_type": "markdown",
   "metadata": {},
   "source": [
    "One possibility:<br>\n",
    "We know $2^t \\delta \\in [0, 1)$,\n",
    "so we could look at $2^t \\delta - \\ell$, for $\\ell \\in \\{-2^{t-1}+1, \\ldots, 2^{t-1}\\}$.<br>\n",
    "Then $2^t \\delta - 2^{t-1} \\le 2^t \\delta - \\ell \\le 2^t \\delta + (2^{t-1}-1)$.<br>\n",
    "Then $0 - 2^{t-1} \\le 2^t \\delta - \\ell < 1 + (2^{t-1}-1)$.<br>\n",
    "Then $- 2^{t-1} \\le 2^t \\delta - \\ell < 2^{t-1}$.<br>\n",
    "Dividing everything by $2^{t}$ then gives:<br>\n",
    "$-\\frac{2^{t-1}}{2^t} \\le \\delta - \\frac{\\ell}{2^t} < \\frac{2^{t-1}}{2^t}$,<br>\n",
    "which further simplifies to:<br>\n",
    "$- \\frac{1}{2} \\le \\delta - \\frac{\\ell}{2^t} < \\frac{1}{2}$<br>"
   ]
  },
  {
   "cell_type": "code",
   "execution_count": null,
   "metadata": {},
   "outputs": [],
   "source": [
    "defaults.assumptions = _delta_diff_in_interval.all_conditions()"
   ]
  },
  {
   "cell_type": "code",
   "execution_count": null,
   "metadata": {},
   "outputs": [],
   "source": [
    "# previously proven\n",
    "_two_pow_t_is_nat_pos"
   ]
  },
  {
   "cell_type": "code",
   "execution_count": null,
   "metadata": {},
   "outputs": [],
   "source": [
    "# previously proven\n",
    "_two_pow_t_minus_one_is_nat_pos"
   ]
  },
  {
   "cell_type": "code",
   "execution_count": null,
   "metadata": {},
   "outputs": [],
   "source": [
    "# previously proven\n",
    "_scaled_delta_in_interval"
   ]
  },
  {
   "cell_type": "code",
   "execution_count": null,
   "metadata": {},
   "outputs": [],
   "source": [
    "scaled_delta_less_than_one = _scaled_delta_in_interval.derive_element_upper_bound()"
   ]
  },
  {
   "cell_type": "code",
   "execution_count": null,
   "metadata": {},
   "outputs": [],
   "source": [
    "scaled_delta_greatereq_than_zero = _scaled_delta_in_interval.derive_element_lower_bound()"
   ]
  },
  {
   "cell_type": "code",
   "execution_count": null,
   "metadata": {},
   "outputs": [],
   "source": [
    "# for convenience, name the product 2^t * delta\n",
    "scaled_delta = _scaled_delta_in_interval.element"
   ]
  },
  {
   "cell_type": "code",
   "execution_count": null,
   "metadata": {},
   "outputs": [],
   "source": [
    "# for convenience, name the difference 2^t * delta - ell\n",
    "scaled_delta_minus_ell = subtract(scaled_delta, l)"
   ]
  },
  {
   "cell_type": "code",
   "execution_count": null,
   "metadata": {},
   "outputs": [],
   "source": [
    "# for convenience, name the ell membership obj\n",
    "ell_in_full_domain = defaults.assumptions[0]"
   ]
  },
  {
   "cell_type": "code",
   "execution_count": null,
   "metadata": {},
   "outputs": [],
   "source": [
    "ell_upper_bound = ell_in_full_domain.derive_element_upper_bound()"
   ]
  },
  {
   "cell_type": "code",
   "execution_count": null,
   "metadata": {},
   "outputs": [],
   "source": [
    "ell_lower_bound = ell_in_full_domain.derive_element_lower_bound()"
   ]
  },
  {
   "cell_type": "markdown",
   "metadata": {},
   "source": [
    "#### Preparing to use (-1) multiplier in $\\le$ Relation\n",
    "Further below, we need to multiply both sides of a $\\le$ relation by $-1$, but need to explicitly know that -1 < 0."
   ]
  },
  {
   "cell_type": "code",
   "execution_count": null,
   "metadata": {},
   "outputs": [],
   "source": [
    "Less(Neg(one), zero).prove()"
   ]
  },
  {
   "cell_type": "markdown",
   "metadata": {},
   "source": [
    "#### Upper Bound\n",
    "Working on upper bound, using information about the bounds on the individual pieces …"
   ]
  },
  {
   "cell_type": "code",
   "execution_count": null,
   "metadata": {},
   "outputs": [],
   "source": [
    "# recall\n",
    "ell_lower_bound"
   ]
  },
  {
   "cell_type": "code",
   "execution_count": null,
   "metadata": {},
   "outputs": [],
   "source": [
    "# The deduce_bound() method called on the subtraction or difference is\n",
    "# actually being called on an Add and thus looking for relations involving\n",
    "# negative ell instead of ell; to make this work, we needed to explicitly\n",
    "# prove that our multiplier (-1) is less than zero (see work above)\n",
    "negative_ell_upper_bound = ell_lower_bound.left_mult_both_sides(Neg(one)).simplify()"
   ]
  },
  {
   "cell_type": "code",
   "execution_count": null,
   "metadata": {},
   "outputs": [],
   "source": [
    "# rewrite the bounding inequality so -l is on the left\n",
    "negative_ell_upper_bound = LessEq(Neg(l), Neg(ell_lower_bound.lhs)).prove()"
   ]
  },
  {
   "cell_type": "code",
   "execution_count": null,
   "metadata": {},
   "outputs": [],
   "source": [
    "scaled_delta_minus_ell_upper_bound = (\n",
    "    scaled_delta_minus_ell.deduce_bound(\n",
    "        [scaled_delta_less_than_one, negative_ell_upper_bound]))"
   ]
  },
  {
   "cell_type": "markdown",
   "metadata": {},
   "source": [
    "And now a little simplification of the upper-bound expression:"
   ]
  },
  {
   "cell_type": "code",
   "execution_count": null,
   "metadata": {},
   "outputs": [],
   "source": [
    "scaled_delta_minus_ell_upper_bound = scaled_delta_minus_ell_upper_bound.inner_expr().upper.simplify()"
   ]
  },
  {
   "cell_type": "code",
   "execution_count": null,
   "metadata": {},
   "outputs": [],
   "source": [
    "upper_bound_judgment = scaled_delta_minus_ell_upper_bound.divide_both_sides(_two_pow_t)"
   ]
  },
  {
   "cell_type": "markdown",
   "metadata": {},
   "source": [
    "#### Lower Bound\n",
    "Working on lower bound, using information about the bounds on the individual pieces …"
   ]
  },
  {
   "cell_type": "code",
   "execution_count": null,
   "metadata": {},
   "outputs": [],
   "source": [
    "ell_upper_bound"
   ]
  },
  {
   "cell_type": "code",
   "execution_count": null,
   "metadata": {},
   "outputs": [],
   "source": [
    "Neg(ell_upper_bound.rhs)"
   ]
  },
  {
   "cell_type": "code",
   "execution_count": null,
   "metadata": {},
   "outputs": [],
   "source": [
    "# The deduce_bound() method called on the subtraction or difference is\n",
    "# actually being called on an Add and thus looking for relations involving\n",
    "# negative ell instead of ell; to make this work, we needed to explicitly\n",
    "# prove that our multiplier (-1) is less than zero\n",
    "negative_ell_lower_bound = ell_upper_bound.left_mult_both_sides(Neg(one))"
   ]
  },
  {
   "cell_type": "code",
   "execution_count": null,
   "metadata": {},
   "outputs": [],
   "source": [
    "negative_ell_lower_bound = negative_ell_lower_bound.inner_expr().simplify()"
   ]
  },
  {
   "cell_type": "code",
   "execution_count": null,
   "metadata": {},
   "outputs": [],
   "source": [
    "negative_ell_lower_bound"
   ]
  },
  {
   "cell_type": "code",
   "execution_count": null,
   "metadata": {},
   "outputs": [],
   "source": [
    "scaled_delta_minus_ell"
   ]
  },
  {
   "cell_type": "code",
   "execution_count": null,
   "metadata": {},
   "outputs": [],
   "source": [
    "scaled_delta_greatereq_than_zero.with_styles(direction='reversed')"
   ]
  },
  {
   "cell_type": "code",
   "execution_count": null,
   "metadata": {},
   "outputs": [],
   "source": [
    "# new?\n",
    "scaled_delta_minus_ell_lower_bound = (\n",
    "    scaled_delta_minus_ell.deduce_bound(\n",
    "        [scaled_delta_greatereq_than_zero.with_styles(direction='reversed'),\n",
    "         negative_ell_lower_bound]))"
   ]
  },
  {
   "cell_type": "markdown",
   "metadata": {},
   "source": [
    "#### Divide through by $2^t$ and Simplify"
   ]
  },
  {
   "cell_type": "code",
   "execution_count": null,
   "metadata": {},
   "outputs": [],
   "source": [
    "lower_bound_judgment = scaled_delta_minus_ell_lower_bound.divide_both_sides(_two_pow_t)"
   ]
  },
  {
   "cell_type": "markdown",
   "metadata": {},
   "source": [
    "We need to establish that $\\frac{2^{t-1}}{2^t} = \\frac{1}{2}$."
   ]
  },
  {
   "cell_type": "code",
   "execution_count": null,
   "metadata": {},
   "outputs": [],
   "source": [
    "exp_frac = frac(_two_pow_t_minus_one, _two_pow_t)"
   ]
  },
  {
   "cell_type": "code",
   "execution_count": null,
   "metadata": {},
   "outputs": [],
   "source": [
    "_t_in_natural_pos"
   ]
  },
  {
   "cell_type": "code",
   "execution_count": null,
   "metadata": {},
   "outputs": [],
   "source": [
    "add_one_right_in_exp"
   ]
  },
  {
   "cell_type": "code",
   "execution_count": null,
   "metadata": {},
   "outputs": [],
   "source": [
    "two_pow_t_factored = add_one_right_in_exp.instantiate(\n",
    "        {a: two, b: subtract(_t, one)})"
   ]
  },
  {
   "cell_type": "code",
   "execution_count": null,
   "metadata": {},
   "outputs": [],
   "source": [
    "two_pow_t_factored.reversed()"
   ]
  },
  {
   "cell_type": "code",
   "execution_count": null,
   "metadata": {},
   "outputs": [],
   "source": [
    "exp_frac_judgment = Equals(exp_frac, exp_frac).prove()"
   ]
  },
  {
   "cell_type": "code",
   "execution_count": null,
   "metadata": {},
   "outputs": [],
   "source": [
    "exp_frac_is_one_half = two_pow_t_factored.sub_left_side_into(\n",
    "        exp_frac_judgment.inner_expr().rhs.denominator)"
   ]
  },
  {
   "cell_type": "code",
   "execution_count": null,
   "metadata": {},
   "outputs": [],
   "source": [
    "neg_exp_frac_is_neg_one_half = exp_frac_is_one_half.left_mult_both_sides(Neg(one))"
   ]
  },
  {
   "cell_type": "markdown",
   "metadata": {},
   "source": [
    "We also need to establish that $-\\frac{2^{t-1}}{2^t} = \\frac{-2^{t-1}}{2^t}$."
   ]
  },
  {
   "cell_type": "code",
   "execution_count": null,
   "metadata": {},
   "outputs": [],
   "source": [
    "neg_is_mult_by_neg_one = Equals(Neg(_two_pow_t_minus_one),\n",
    "                                Mult(Neg(one), _two_pow_t_minus_one)).prove()"
   ]
  },
  {
   "cell_type": "code",
   "execution_count": null,
   "metadata": {},
   "outputs": [],
   "source": [
    "neg_numer_is_mult_by_neg_one = neg_is_mult_by_neg_one.substitution(\n",
    "        frac(Neg(_two_pow_t_minus_one), _two_pow_t))"
   ]
  },
  {
   "cell_type": "code",
   "execution_count": null,
   "metadata": {},
   "outputs": [],
   "source": [
    "neg_numer_is_neg_frac = (\n",
    "    neg_numer_is_mult_by_neg_one.inner_expr().rhs.\n",
    "    factorized(Neg(one), auto_simplify=False))"
   ]
  },
  {
   "cell_type": "code",
   "execution_count": null,
   "metadata": {},
   "outputs": [],
   "source": [
    "neg_numer_version_is_neg_one_half = Equals(neg_numer_is_neg_frac.lhs,\n",
    "       neg_exp_frac_is_neg_one_half.rhs).conclude_via_transitivity()"
   ]
  },
  {
   "cell_type": "code",
   "execution_count": null,
   "metadata": {},
   "outputs": [],
   "source": [
    "# apply the reductions we've derived above to get our ±1/2 bounds\n",
    "lower_bound_neg_one_half = neg_numer_version_is_neg_one_half.sub_right_side_into(\n",
    "        lower_bound_judgment)"
   ]
  },
  {
   "cell_type": "code",
   "execution_count": null,
   "metadata": {},
   "outputs": [],
   "source": [
    "upper_bound_one_half = exp_frac_is_one_half.sub_right_side_into(\n",
    "        upper_bound_judgment)"
   ]
  },
  {
   "cell_type": "code",
   "execution_count": null,
   "metadata": {},
   "outputs": [],
   "source": [
    "# recall:\n",
    "lower_bound_judgment"
   ]
  },
  {
   "cell_type": "code",
   "execution_count": null,
   "metadata": {},
   "outputs": [],
   "source": [
    "frac_split = lower_bound_judgment.lhs.distribution()"
   ]
  },
  {
   "cell_type": "code",
   "execution_count": null,
   "metadata": {},
   "outputs": [],
   "source": [
    "lower_bound_neg_one_half = frac_split.sub_right_side_into(\n",
    "        lower_bound_neg_one_half)"
   ]
  },
  {
   "cell_type": "code",
   "execution_count": null,
   "metadata": {},
   "outputs": [],
   "source": [
    "upper_bound_one_half = frac_split.sub_right_side_into(\n",
    "        upper_bound_one_half)"
   ]
  },
  {
   "cell_type": "code",
   "execution_count": null,
   "metadata": {},
   "outputs": [],
   "source": [
    "# Not explicitly needed, but nice to see the final result here:\n",
    "_delta_diff_in_interval.instance_expr.conclude()"
   ]
  },
  {
   "cell_type": "code",
   "execution_count": null,
   "metadata": {},
   "outputs": [],
   "source": [
    "%qed"
   ]
  },
  {
   "cell_type": "code",
   "execution_count": null,
   "metadata": {},
   "outputs": [],
   "source": []
  }
 ],
 "metadata": {
  "kernelspec": {
   "display_name": "Python 3",
   "language": "python",
   "name": "python3"
  }
 },
 "nbformat": 4,
 "nbformat_minor": 0
}
