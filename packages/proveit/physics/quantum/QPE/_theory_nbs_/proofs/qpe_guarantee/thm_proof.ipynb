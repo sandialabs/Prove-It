{
 "cells": [
  {
   "cell_type": "markdown",
   "metadata": {},
   "source": [
    "Proof of <a class=\"ProveItLink\" href=\"../../../../../../_theory_nbs_/theory.ipynb\">proveit</a>.<a class=\"ProveItLink\" href=\"../../../../../_theory_nbs_/theory.ipynb\">physics</a>.<a class=\"ProveItLink\" href=\"../../../../_theory_nbs_/theory.ipynb\">quantum</a>.<a class=\"ProveItLink\" href=\"../../theory.ipynb\">QPE</a>.<a class=\"ProveItLink\" href=\"../../theorems.ipynb#qpe_guarantee\">qpe_guarantee</a> theorem\n",
    "========"
   ]
  },
  {
   "cell_type": "code",
   "execution_count": null,
   "metadata": {},
   "outputs": [],
   "source": [
    "import proveit\n",
    "theory = proveit.Theory() # the theorem's theory\n",
    "\n",
    "from proveit import defaults, Lambda\n",
    "from proveit import a, b, t\n",
    "from proveit.logic import Exists, Equals\n",
    "from proveit.numbers import NaturalPos\n",
    "from proveit.physics.quantum.QPE import (\n",
    "    _t, _b, _n, _phase, _t_in_natural_pos, _mod_add_def, ModAdd, _best_def, _eps,\n",
    "    _psi_t_def, _best_def, _delta_def, _Psi_def, \n",
    "    _sample_space_def, _success_def, _fail_def, _mod_add_def, _alpha_def,\n",
    "    _n_in_natural_pos, _t_req, _success_prob_guarantee)"
   ]
  },
  {
   "cell_type": "code",
   "execution_count": null,
   "metadata": {},
   "outputs": [],
   "source": [
    "%proving qpe_guarantee"
   ]
  },
  {
   "cell_type": "code",
   "execution_count": null,
   "metadata": {},
   "outputs": [],
   "source": [
    "defaults.assumptions = qpe_guarantee.all_conditions()"
   ]
  },
  {
   "cell_type": "code",
   "execution_count": null,
   "metadata": {},
   "outputs": [],
   "source": [
    "_success_prob_guarantee"
   ]
  },
  {
   "cell_type": "markdown",
   "metadata": {},
   "source": [
    "### Now we will eliminate local axiom definitions from the proof requiremetns\n",
    "\n",
    "Perform a series of definition eliminations to get rid of local axiom requirements.  These are conservative definations that are used for convenience but are not logically required."
   ]
  },
  {
   "cell_type": "code",
   "execution_count": null,
   "metadata": {},
   "outputs": [],
   "source": [
    "prob_guarantee2 = _success_prob_guarantee.eliminate_definition(_alpha_def)\n",
    "prob_guarantee3 = prob_guarantee2.eliminate_definition(_mod_add_def)\n",
    "prob_guarantee4 = prob_guarantee3.eliminate_definition(_Psi_def)\n",
    "prob_guarantee5 = prob_guarantee4.eliminate_definition(_fail_def)\n",
    "prob_guarantee6 = prob_guarantee5.eliminate_definition(_success_def)\n",
    "prob_guarantee7 = prob_guarantee6.eliminate_definition(_sample_space_def, with_internal_wrapping=True)\n",
    "prob_guarantee8 = prob_guarantee7.eliminate_definition(_delta_def)\n",
    "prob_guarantee9 = prob_guarantee8.eliminate_definition(_best_def)\n",
    "prob_guarantee10 = prob_guarantee9.eliminate_definition(_psi_t_def, with_internal_wrapping=True)"
   ]
  },
  {
   "cell_type": "markdown",
   "metadata": {},
   "source": [
    "### Generalize over $t$ then convert the universal quantification to an existential one"
   ]
  },
  {
   "cell_type": "code",
   "execution_count": null,
   "metadata": {},
   "outputs": [],
   "source": [
    "prob_guarantee_forall_t = prob_guarantee10.generalize(_t, conditions=[_t_in_natural_pos, _t_req])"
   ]
  },
  {
   "cell_type": "code",
   "execution_count": null,
   "metadata": {},
   "outputs": [],
   "source": []
  },
  {
   "cell_type": "markdown",
   "metadata": {},
   "source": [
    "We need to prove that $n + \\lceil log_2(2 + \\frac{1}{2 \\epsilon})\\rceil \\in \\mathbb{N}^+$.  We should automate and/or clean this up better."
   ]
  },
  {
   "cell_type": "code",
   "execution_count": null,
   "metadata": {},
   "outputs": [],
   "source": [
    "t_lower_bound = _t_req.rhs.literals_as_variables(_t)"
   ]
  },
  {
   "cell_type": "code",
   "execution_count": null,
   "metadata": {},
   "outputs": [],
   "source": [
    "one_over_2eps = t_lower_bound.operands[1].operand.antilog.operands[1]"
   ]
  },
  {
   "cell_type": "code",
   "execution_count": null,
   "metadata": {},
   "outputs": [],
   "source": [
    "from proveit.numbers import deduce_number_set\n",
    "one_over_2eps__membership = deduce_number_set(one_over_2eps)"
   ]
  },
  {
   "cell_type": "code",
   "execution_count": null,
   "metadata": {},
   "outputs": [],
   "source": [
    "one_over_2eps__lb = one_over_2eps__membership.derive_element_lower_bound()"
   ]
  },
  {
   "cell_type": "code",
   "execution_count": null,
   "metadata": {},
   "outputs": [],
   "source": [
    "t_bound__geq__np2 = t_lower_bound.deduce_bound(one_over_2eps__lb)"
   ]
  },
  {
   "cell_type": "code",
   "execution_count": null,
   "metadata": {},
   "outputs": [],
   "source": [
    "t_bound__geq__3 = t_bound__geq__np2.apply_transitivity(\n",
    "    t_bound__geq__np2.rhs.deduce_bound(_n_in_natural_pos.derive_element_lower_bound()))"
   ]
  },
  {
   "cell_type": "code",
   "execution_count": null,
   "metadata": {},
   "outputs": [],
   "source": [
    "from proveit.numbers import greater, zero, three\n",
    "t_bound__geq__3.apply_transitivity(greater(three, zero).prove())"
   ]
  },
  {
   "cell_type": "code",
   "execution_count": null,
   "metadata": {},
   "outputs": [],
   "source": [
    "t_bound__in__nat_pos = deduce_number_set(t_lower_bound)"
   ]
  },
  {
   "cell_type": "code",
   "execution_count": null,
   "metadata": {},
   "outputs": [],
   "source": [
    "from proveit.numbers import LessEq\n",
    "LessEq(t_bound__in__nat_pos.element, t_bound__in__nat_pos.element).prove()"
   ]
  },
  {
   "cell_type": "code",
   "execution_count": null,
   "metadata": {},
   "outputs": [],
   "source": [
    "_t_req.rhs.literals_as_variables(_t)"
   ]
  },
  {
   "cell_type": "code",
   "execution_count": null,
   "metadata": {},
   "outputs": [],
   "source": [
    "_t_example = _t_req.rhs.literals_as_variables(_t)"
   ]
  },
  {
   "cell_type": "code",
   "execution_count": null,
   "metadata": {},
   "outputs": [],
   "source": [
    "prob_guarantee_inst_t = prob_guarantee_forall_t.instantiate({t:_t_example}, auto_simplify=False)"
   ]
  },
  {
   "cell_type": "code",
   "execution_count": null,
   "metadata": {},
   "outputs": [],
   "source": [
    "prob_guarantee_exists_t = Exists(\n",
    "    t, prob_guarantee_forall_t.instance_expr, \n",
    "    domain=NaturalPos,\n",
    "    condition=_t_req.literals_as_variables(_t)).conclude_via_example(_t_example, auto_simplify=False)"
   ]
  },
  {
   "cell_type": "markdown",
   "metadata": {},
   "source": [
    "### Generalize over the other variables we wish to quantify over"
   ]
  },
  {
   "cell_type": "code",
   "execution_count": null,
   "metadata": {},
   "outputs": [],
   "source": [
    "tmp = (prob_guarantee_exists_t.generalize(\n",
    "            qpe_guarantee.instance_param_lists(),\n",
    "            conditions=qpe_guarantee.all_conditions())\n",
    "       .inner_expr().instance_expr.instance_expr.instance_expr.with_wrapping()\n",
    "       .inner_expr().instance_expr.instance_expr.with_wrapping())"
   ]
  },
  {
   "cell_type": "code",
   "execution_count": null,
   "metadata": {},
   "outputs": [],
   "source": [
    "%qed"
   ]
  },
  {
   "cell_type": "code",
   "execution_count": null,
   "metadata": {},
   "outputs": [],
   "source": []
  }
 ],
 "metadata": {
  "kernelspec": {
   "display_name": "Python 3",
   "language": "python",
   "name": "python3"
  }
 },
 "nbformat": 4,
 "nbformat_minor": 0
}
