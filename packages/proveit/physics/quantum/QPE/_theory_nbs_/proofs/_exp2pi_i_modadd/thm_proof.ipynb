{
 "cells": [
  {
   "cell_type": "markdown",
   "metadata": {},
   "source": [
    "Proof of <a class=\"ProveItLink\" href=\"../../../../../../_theory_nbs_/theory.ipynb\">proveit</a>.<a class=\"ProveItLink\" href=\"../../../../../_theory_nbs_/theory.ipynb\">physics</a>.<a class=\"ProveItLink\" href=\"../../../../_theory_nbs_/theory.ipynb\">quantum</a>.<a class=\"ProveItLink\" href=\"../../theory.ipynb\">QPE</a>.<a class=\"ProveItLink\" href=\"../../theorems.ipynb#_exp2pi_i_modadd\">_exp2pi_i_modadd</a> theorem\n",
    "========"
   ]
  },
  {
   "cell_type": "code",
   "execution_count": null,
   "metadata": {},
   "outputs": [],
   "source": [
    "import proveit\n",
    "theory = proveit.Theory() # the theorem's theory\n",
    "from proveit import a, b, r, x, defaults\n",
    "from proveit.logic import InSet\n",
    "from proveit.numbers import Add, Real\n",
    "from proveit.numbers.number_sets.complex_numbers import exp_2pi_i_x\n",
    "from proveit.physics.quantum.QPE import _mod_add_def, _two_pow_t, _two_pow_t_is_nat_pos"
   ]
  },
  {
   "cell_type": "code",
   "execution_count": null,
   "metadata": {},
   "outputs": [],
   "source": [
    "%proving _exp2pi_i_modadd"
   ]
  },
  {
   "cell_type": "code",
   "execution_count": null,
   "metadata": {},
   "outputs": [],
   "source": [
    "defaults.assumptions = _exp2pi_i_modadd.all_conditions()"
   ]
  },
  {
   "cell_type": "code",
   "execution_count": null,
   "metadata": {},
   "outputs": [],
   "source": [
    "# need this for the instantiation to work below\n",
    "_two_pow_t_is_nat_pos"
   ]
  },
  {
   "cell_type": "code",
   "execution_count": null,
   "metadata": {},
   "outputs": [],
   "source": [
    "# from the numbers/number_sets/complex_numbers pkg:\n",
    "exp_2pi_i_x"
   ]
  },
  {
   "cell_type": "code",
   "execution_count": null,
   "metadata": {},
   "outputs": [],
   "source": [
    "exp_2pi_i_x_inst = exp_2pi_i_x.instantiate({x: Add(a, b), r: _two_pow_t})"
   ]
  },
  {
   "cell_type": "code",
   "execution_count": null,
   "metadata": {},
   "outputs": [],
   "source": [
    "_mod_add_def"
   ]
  },
  {
   "cell_type": "code",
   "execution_count": null,
   "metadata": {},
   "outputs": [],
   "source": [
    "mod_add_def_inst = _mod_add_def.instantiate()"
   ]
  },
  {
   "cell_type": "code",
   "execution_count": null,
   "metadata": {},
   "outputs": [],
   "source": [
    "mod_add_def_inst.sub_left_side_into(exp_2pi_i_x_inst)"
   ]
  },
  {
   "cell_type": "code",
   "execution_count": null,
   "metadata": {},
   "outputs": [],
   "source": [
    "%qed"
   ]
  },
  {
   "cell_type": "code",
   "execution_count": null,
   "metadata": {},
   "outputs": [],
   "source": []
  }
 ],
 "metadata": {
  "kernelspec": {
   "display_name": "Python 3",
   "language": "python",
   "name": "python3"
  }
 },
 "nbformat": 4,
 "nbformat_minor": 0
}
