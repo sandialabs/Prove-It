{
 "cells": [
  {
   "cell_type": "markdown",
   "metadata": {},
   "source": [
    "Proof of <a class=\"ProveItLink\" href=\"../../../../../../_theory_nbs_/theory.ipynb\">proveit</a>.<a class=\"ProveItLink\" href=\"../../../../../_theory_nbs_/theory.ipynb\">physics</a>.<a class=\"ProveItLink\" href=\"../../../../_theory_nbs_/theory.ipynb\">quantum</a>.<a class=\"ProveItLink\" href=\"../../theory.ipynb\">QPE</a>.<a class=\"ProveItLink\" href=\"../../theorems.ipynb#qpe_best_guarantee\">qpe_best_guarantee</a> theorem\n",
    "========"
   ]
  },
  {
   "cell_type": "code",
   "execution_count": null,
   "metadata": {},
   "outputs": [],
   "source": [
    "import proveit\n",
    "theory = proveit.Theory() # the theorem's theory\n",
    "\n",
    "from proveit import defaults\n",
    "from proveit import b, m\n",
    "from proveit.logic import Or, Equals, InSet\n",
    "from proveit.numbers import zero, one, Integer, Neg, Abs, Mod, sqrd\n",
    "from proveit.numbers.number_sets.real_numbers import pi_between_3_and_4\n",
    "from proveit.physics.quantum.QPE import (\n",
    "    _outcome_prob, qpe_exact, _best_guarantee, _alpha_ideal_case, \n",
    "    _phase_is_real, _phase_in_interval,\n",
    "    _b_round, _best_round_def, _best_round_is_int, _delta_b_round, _delta_b_def,\n",
    "    _two_pow_t, _t_in_natural_pos, _two_pow_t_is_nat_pos)"
   ]
  },
  {
   "cell_type": "code",
   "execution_count": null,
   "metadata": {},
   "outputs": [],
   "source": [
    "%proving qpe_best_guarantee"
   ]
  },
  {
   "cell_type": "code",
   "execution_count": null,
   "metadata": {},
   "outputs": [],
   "source": [
    "_outcome_prob"
   ]
  },
  {
   "cell_type": "code",
   "execution_count": null,
   "metadata": {},
   "outputs": [],
   "source": [
    "_best_guarantee"
   ]
  },
  {
   "cell_type": "markdown",
   "metadata": {},
   "source": [
    "### Now instantiate `_outcome_prob` for the rounded, 'best' case"
   ]
  },
  {
   "cell_type": "code",
   "execution_count": null,
   "metadata": {},
   "outputs": [],
   "source": [
    "_m = _best_guarantee.lhs.base.operand.index"
   ]
  },
  {
   "cell_type": "code",
   "execution_count": null,
   "metadata": {},
   "outputs": [],
   "source": [
    "outcome_prob_bound = _outcome_prob.instantiate({m:_m}).apply_transitivity(_best_guarantee)"
   ]
  },
  {
   "cell_type": "markdown",
   "metadata": {},
   "source": [
    "### Perform literal generalization, converting literals to quantified variables and their definining axioms into conditions"
   ]
  },
  {
   "cell_type": "code",
   "execution_count": null,
   "metadata": {},
   "outputs": [],
   "source": [
    "(outcome_prob_bound.generalize(\n",
    "            qpe_best_guarantee.instance_param_lists(),\n",
    "            conditions=qpe_best_guarantee.all_conditions())\n",
    "       .inner_expr().instance_expr.instance_expr.instance_expr.with_wrapping()\n",
    "       .inner_expr().instance_expr.instance_expr.with_wrapping())"
   ]
  },
  {
   "cell_type": "code",
   "execution_count": null,
   "metadata": {},
   "outputs": [],
   "source": [
    "%qed"
   ]
  },
  {
   "cell_type": "code",
   "execution_count": null,
   "metadata": {},
   "outputs": [],
   "source": []
  }
 ],
 "metadata": {
  "kernelspec": {
   "display_name": "Python 3",
   "language": "python",
   "name": "python3"
  }
 },
 "nbformat": 4,
 "nbformat_minor": 0
}
