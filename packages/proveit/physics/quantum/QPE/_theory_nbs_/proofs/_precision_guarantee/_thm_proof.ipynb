{
 "cells": [
  {
   "cell_type": "markdown",
   "metadata": {},
   "source": [
    "Proof of <a class=\"ProveItLink\" href=\"../../../../../../_theory_nbs_/theory.ipynb\">proveit</a>.<a class=\"ProveItLink\" href=\"../../../../../_theory_nbs_/theory.ipynb\">physics</a>.<a class=\"ProveItLink\" href=\"../../../../_theory_nbs_/theory.ipynb\">quantum</a>.<a class=\"ProveItLink\" href=\"../../theory.ipynb\">QPE</a>.<a class=\"ProveItLink\" href=\"../../theorems.ipynb#_precision_guarantee\">_precision_guarantee</a> theorem\n",
    "========"
   ]
  },
  {
   "cell_type": "code",
   "execution_count": null,
   "metadata": {},
   "outputs": [],
   "source": [
    "import proveit\n",
    "theory = proveit.Theory() # the theorem's theory\n",
    "from proveit import e, m, X, defaults\n",
    "from proveit.logic import Equals, InSet, NotEquals\n",
    "from proveit.numbers import zero, one, two, Div, greater, NaturalPos, Neg, Real, subtract\n",
    "# import common expressions\n",
    "from proveit.physics.quantum.QPE import _Omega, _e_domain, _e_value, _two_pow_t\n",
    "# import axioms, definitions\n",
    "from proveit.physics.quantum.QPE import _n_ge_two, _success_def, _t_in_natural_pos, _t_req\n",
    "# import theorems\n",
    "from proveit.physics.quantum.QPE import (\n",
    "    _e_value_in_e_domain, _failure_upper_bound, _pfail_in_real, _phase_is_real, \n",
    "    _success_complements_failure, _precision_guarantee_lemma_01, _precision_guarantee_lemma_02, \n",
    "    _sample_space_def, _Omega_is_sample_space, _sample_space_bijection)"
   ]
  },
  {
   "cell_type": "code",
   "execution_count": null,
   "metadata": {},
   "outputs": [],
   "source": [
    "%proving _precision_guarantee"
   ]
  },
  {
   "cell_type": "markdown",
   "metadata": {},
   "source": [
    "We eventually need to show: $\\left(|m - b|_{\\text{mod}\\,2^{t}}\\le e \\right)  \\Rightarrow \\left(|\\frac{m}{2^t}-\\varphi|_{\\text{mod}\\,1} \\le 2^{-n}\\right)$"
   ]
  },
  {
   "cell_type": "code",
   "execution_count": null,
   "metadata": {},
   "outputs": [],
   "source": [
    "_success_def"
   ]
  },
  {
   "cell_type": "code",
   "execution_count": null,
   "metadata": {},
   "outputs": [],
   "source": [
    "_success_def_inst = _success_def.instantiate({e: _e_value})"
   ]
  },
  {
   "cell_type": "code",
   "execution_count": null,
   "metadata": {},
   "outputs": [],
   "source": [
    "# keep this handy for later\n",
    "success_prob = _success_def_inst.rhs"
   ]
  },
  {
   "cell_type": "code",
   "execution_count": null,
   "metadata": {},
   "outputs": [],
   "source": [
    "_success_complements_failure"
   ]
  },
  {
   "cell_type": "code",
   "execution_count": null,
   "metadata": {},
   "outputs": [],
   "source": [
    "_success_complements_failure_inst = _success_complements_failure.instantiate({e: _e_value})"
   ]
  },
  {
   "cell_type": "code",
   "execution_count": null,
   "metadata": {},
   "outputs": [],
   "source": [
    "_failure_upper_bound"
   ]
  },
  {
   "cell_type": "code",
   "execution_count": null,
   "metadata": {},
   "outputs": [],
   "source": [
    "fail_bound = _failure_upper_bound.instantiate({e: _e_value})"
   ]
  },
  {
   "cell_type": "code",
   "execution_count": null,
   "metadata": {},
   "outputs": [],
   "source": [
    "# need this (and its instantiation) for deduce_bound effort further below\n",
    "_pfail_in_real"
   ]
  },
  {
   "cell_type": "code",
   "execution_count": null,
   "metadata": {},
   "outputs": [],
   "source": [
    "_pfail_in_real.instantiate({e: _e_value})"
   ]
  },
  {
   "cell_type": "code",
   "execution_count": null,
   "metadata": {},
   "outputs": [],
   "source": [
    "bound_01 = (\n",
    "    _success_complements_failure_inst.rhs.deduce_bound(\n",
    "        fail_bound, assumptions=[InSet(e, _e_domain)]))"
   ]
  },
  {
   "cell_type": "code",
   "execution_count": null,
   "metadata": {},
   "outputs": [],
   "source": [
    "_precision_guarantee_lemma_01"
   ]
  },
  {
   "cell_type": "code",
   "execution_count": null,
   "metadata": {},
   "outputs": [],
   "source": [
    "greater(success_prob, _precision_guarantee_lemma_01.rhs).prove()"
   ]
  },
  {
   "cell_type": "markdown",
   "metadata": {},
   "source": [
    "#### We prove the `success_prob` above is a lower bound of the desired probability\n",
    "\n",
    "That is because the desired condition, $\\left|\\frac{m}{2^{t}} - \\varphi\\right|_{\\rm{mod}\\thinspace 1} \\leq 2^{-n}$, is a weaker constraint than the $\\left|m - b_{\\textit{f}}\\right|_{\\rm{mod}\\thinspace 2^{t}} \\leq \\left(2^{t - n} - 1\\right)\n",
    "$.\n",
    "`_sample_space_def`, `_Omega_is_sample_space`, and `sample_space_bijection` are needed for this."
   ]
  },
  {
   "cell_type": "code",
   "execution_count": null,
   "metadata": {},
   "outputs": [],
   "source": [
    "_precision_guarantee_lemma_02"
   ]
  },
  {
   "cell_type": "code",
   "execution_count": null,
   "metadata": {},
   "outputs": [],
   "source": [
    "thm_condition = _precision_guarantee_lemma_02.instantiate(\n",
    "    assumptions=_precision_guarantee_lemma_02.conditions)"
   ]
  },
  {
   "cell_type": "code",
   "execution_count": null,
   "metadata": {},
   "outputs": [],
   "source": [
    "success_prob.weaker_condition_bound(thm_condition.expr, _Omega)"
   ]
  },
  {
   "cell_type": "code",
   "execution_count": null,
   "metadata": {},
   "outputs": [],
   "source": [
    "%qed"
   ]
  },
  {
   "cell_type": "code",
   "execution_count": null,
   "metadata": {},
   "outputs": [],
   "source": []
  }
 ],
 "metadata": {
  "kernelspec": {
   "display_name": "Python 3",
   "language": "python",
   "name": "python3"
  }
 },
 "nbformat": 4,
 "nbformat_minor": 0
}
