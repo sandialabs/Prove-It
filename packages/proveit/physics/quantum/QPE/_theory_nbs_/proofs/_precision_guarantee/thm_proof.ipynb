{
 "cells": [
  {
   "cell_type": "markdown",
   "metadata": {},
   "source": [
    "Proof of <a class=\"ProveItLink\" href=\"../../../../../../_theory_nbs_/theory.ipynb\">proveit</a>.<a class=\"ProveItLink\" href=\"../../../../../_theory_nbs_/theory.ipynb\">physics</a>.<a class=\"ProveItLink\" href=\"../../../../_theory_nbs_/theory.ipynb\">quantum</a>.<a class=\"ProveItLink\" href=\"../../theory.ipynb\">QPE</a>.<a class=\"ProveItLink\" href=\"../../theorems.ipynb#_precision_guarantee\">_precision_guarantee</a> theorem\n",
    "========"
   ]
  },
  {
   "cell_type": "code",
   "execution_count": null,
   "metadata": {},
   "outputs": [],
   "source": [
    "import proveit\n",
    "theory = proveit.Theory() # the theorem's theory\n",
    "from proveit import e, m, X, defaults\n",
    "from proveit.logic import Equals, InSet, NotEquals\n",
    "from proveit.numbers import zero, one, two, Div, greater, NaturalPos, Neg, Real, subtract\n",
    "# import common expressions\n",
    "from proveit.physics.quantum.QPE import _e_domain, _e_value, _two_pow_t\n",
    "# import axioms, definitions\n",
    "from proveit.physics.quantum.QPE import _n_ge_two, _success_def, _t_in_natural_pos, _t_req\n",
    "# import theorems\n",
    "from proveit.physics.quantum.QPE import (\n",
    "    _e_value_in_e_domain, _fail_ineq, _pfail_in_real, _phase_is_real, \n",
    "    _success_complements_failure)"
   ]
  },
  {
   "cell_type": "code",
   "execution_count": null,
   "metadata": {},
   "outputs": [],
   "source": [
    "%proving _precision_guarantee"
   ]
  },
  {
   "cell_type": "code",
   "execution_count": null,
   "metadata": {},
   "outputs": [],
   "source": [
    "# for convenience\n",
    "thm_condition = _precision_guarantee.lhs.condition.operands[1]"
   ]
  },
  {
   "cell_type": "code",
   "execution_count": null,
   "metadata": {},
   "outputs": [],
   "source": [
    "# for convenience, and recall that m is our measurement\n",
    "# implemented across the t-qubit first register\n",
    "m_membership = _precision_guarantee.lhs.condition.operands[0]"
   ]
  },
  {
   "cell_type": "markdown",
   "metadata": {},
   "source": [
    "We eventually need to show: $\\left(|m - b|_{\\text{mod}\\,2^{t}}\\le e \\right)  \\Rightarrow \\left(|\\frac{m}{2^t}-\\varphi|_{\\text{mod}\\,1} \\le 2^{-n}\\right)$"
   ]
  },
  {
   "cell_type": "code",
   "execution_count": null,
   "metadata": {},
   "outputs": [],
   "source": [
    "# recall\n",
    "_phase_is_real"
   ]
  },
  {
   "cell_type": "code",
   "execution_count": null,
   "metadata": {},
   "outputs": [],
   "source": [
    "thm_condition.lhs.operands[0].deduce_in_number_set(Real, assumptions=[m_membership])"
   ]
  },
  {
   "cell_type": "code",
   "execution_count": null,
   "metadata": {},
   "outputs": [],
   "source": [
    "from proveit.physics.quantum.QPE import (\n",
    "    _t_in_natural_pos, _n_in_natural_pos, _n_less_eq_t)\n",
    "display(_t_in_natural_pos)\n",
    "display(_n_less_eq_t) # helps with some simplification later\n",
    "display(_n_in_natural_pos)"
   ]
  },
  {
   "cell_type": "code",
   "execution_count": null,
   "metadata": {},
   "outputs": [],
   "source": [
    "_success_def"
   ]
  },
  {
   "cell_type": "code",
   "execution_count": null,
   "metadata": {},
   "outputs": [],
   "source": [
    "_success_def_inst = _success_def.instantiate({e: _e_value})"
   ]
  },
  {
   "cell_type": "code",
   "execution_count": null,
   "metadata": {},
   "outputs": [],
   "source": [
    "_success_complements_failure"
   ]
  },
  {
   "cell_type": "code",
   "execution_count": null,
   "metadata": {},
   "outputs": [],
   "source": [
    "_success_complements_failure_inst = _success_complements_failure.instantiate({e: _e_value})"
   ]
  },
  {
   "cell_type": "code",
   "execution_count": null,
   "metadata": {},
   "outputs": [],
   "source": [
    "_success_def_equality = (\n",
    "    Equals(_success_def_inst.rhs, _success_complements_failure_inst.rhs).\n",
    "    prove(assumptions=[InSet(e, _e_domain)]))"
   ]
  },
  {
   "cell_type": "code",
   "execution_count": null,
   "metadata": {},
   "outputs": [],
   "source": [
    "_fail_ineq"
   ]
  },
  {
   "cell_type": "code",
   "execution_count": null,
   "metadata": {},
   "outputs": [],
   "source": [
    "_fail_ineq_inst = _fail_ineq.instantiate({e: _e_value})"
   ]
  },
  {
   "cell_type": "code",
   "execution_count": null,
   "metadata": {},
   "outputs": [],
   "source": [
    "# need this (and its instantiation) for deduce_bound effort further below\n",
    "_pfail_in_real"
   ]
  },
  {
   "cell_type": "code",
   "execution_count": null,
   "metadata": {},
   "outputs": [],
   "source": [
    "_pfail_in_real.instantiate({e: _e_value})"
   ]
  },
  {
   "cell_type": "code",
   "execution_count": null,
   "metadata": {},
   "outputs": [],
   "source": [
    "bound_01 = (\n",
    "    _success_complements_failure_inst.rhs.deduce_bound(\n",
    "        _fail_ineq_inst, assumptions=[InSet(e, _e_domain)]))"
   ]
  },
  {
   "cell_type": "code",
   "execution_count": null,
   "metadata": {},
   "outputs": [],
   "source": [
    "bound_02 = _success_def_equality.apply_transitivity(bound_01)"
   ]
  },
  {
   "cell_type": "code",
   "execution_count": null,
   "metadata": {},
   "outputs": [],
   "source": [
    "from proveit.physics.quantum.QPE import _success_prob_guarantee_lemma_01\n",
    "_success_prob_guarantee_lemma_01"
   ]
  },
  {
   "cell_type": "code",
   "execution_count": null,
   "metadata": {},
   "outputs": [],
   "source": [
    "bound_03 = bound_02.apply_transitivity(_success_prob_guarantee_lemma_01)"
   ]
  },
  {
   "cell_type": "code",
   "execution_count": null,
   "metadata": {},
   "outputs": [],
   "source": [
    "from proveit.physics.quantum.QPE import _success_prob_guarantee_lemma_02\n",
    "_success_prob_guarantee_lemma_02"
   ]
  },
  {
   "cell_type": "code",
   "execution_count": null,
   "metadata": {},
   "outputs": [],
   "source": [
    "_success_prob_guarantee_lemma_02_inst = _success_prob_guarantee_lemma_02.instantiate(assumptions=_success_prob_guarantee_lemma_02.conditions)"
   ]
  },
  {
   "cell_type": "code",
   "execution_count": null,
   "metadata": {},
   "outputs": [],
   "source": [
    "from proveit.physics.quantum.QPE import _sample_space_def\n",
    "_sample_space_def"
   ]
  },
  {
   "cell_type": "code",
   "execution_count": null,
   "metadata": {},
   "outputs": [],
   "source": [
    "from proveit.physics.quantum.QPE import _Omega_is_sample_space\n",
    "_Omega_is_sample_space"
   ]
  },
  {
   "cell_type": "code",
   "execution_count": null,
   "metadata": {},
   "outputs": [],
   "source": [
    "from proveit.physics.quantum.QPE import _sample_space_bijection\n",
    "_sample_space_bijection"
   ]
  },
  {
   "cell_type": "code",
   "execution_count": null,
   "metadata": {},
   "outputs": [],
   "source": [
    "from proveit.statistics import constrained_event_prob_bound\n",
    "constrained_event_prob_bound"
   ]
  },
  {
   "cell_type": "code",
   "execution_count": null,
   "metadata": {},
   "outputs": [],
   "source": [
    "from proveit import f, m, Q, R, X, Omega, Lambda\n",
    "from proveit.physics.quantum.QPE import _Omega, _phase_est_circuit, _sample_space_def\n",
    "_Omega_sub, _x_sub, _X_sub, _f_sub, _Q_sub, _R_sub = (\n",
    "    _Omega,\n",
    "    m, m_membership.domain, Lambda(m, _phase_est_circuit),\n",
    "    Lambda(m, bound_03.lhs.condition.operands[1]),\n",
    "    Lambda(m, _success_prob_guarantee_lemma_02_inst.expr))"
   ]
  },
  {
   "cell_type": "code",
   "execution_count": null,
   "metadata": {},
   "outputs": [],
   "source": [
    "from proveit import x\n",
    "constrained_event_prob_bound_inst = constrained_event_prob_bound.instantiate(\n",
    "        {Omega: _Omega, X: _X_sub, f: _f_sub, x: m, Q: _Q_sub, R: _R_sub})"
   ]
  },
  {
   "cell_type": "code",
   "execution_count": null,
   "metadata": {},
   "outputs": [],
   "source": [
    "conseq = constrained_event_prob_bound_inst.derive_consequent()"
   ]
  },
  {
   "cell_type": "code",
   "execution_count": null,
   "metadata": {},
   "outputs": [],
   "source": [
    "conseq.apply_transitivity(bound_03).with_styles(direction='reversed')"
   ]
  },
  {
   "cell_type": "code",
   "execution_count": null,
   "metadata": {},
   "outputs": [],
   "source": [
    "%qed"
   ]
  },
  {
   "cell_type": "code",
   "execution_count": null,
   "metadata": {},
   "outputs": [],
   "source": []
  }
 ],
 "metadata": {
  "kernelspec": {
   "display_name": "Python 3",
   "language": "python",
   "name": "python3"
  }
 },
 "nbformat": 4,
 "nbformat_minor": 0
}
