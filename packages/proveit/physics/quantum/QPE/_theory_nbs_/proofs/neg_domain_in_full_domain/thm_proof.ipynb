{
 "cells": [
  {
   "cell_type": "markdown",
   "metadata": {},
   "source": [
    "Proof of <a class=\"ProveItLink\" href=\"../../../../../../_theory_nbs_/theory.ipynb\">proveit</a>.<a class=\"ProveItLink\" href=\"../../../../../_theory_nbs_/theory.ipynb\">physics</a>.<a class=\"ProveItLink\" href=\"../../../../_theory_nbs_/theory.ipynb\">quantum</a>.<a class=\"ProveItLink\" href=\"../../theory.ipynb\">QPE</a>.<a class=\"ProveItLink\" href=\"../../theorems.ipynb#neg_domain_in_full_domain\">neg_domain_in_full_domain</a> theorem\n",
    "========"
   ]
  },
  {
   "cell_type": "code",
   "execution_count": null,
   "metadata": {},
   "outputs": [],
   "source": [
    "import proveit\n",
    "from proveit import a, defaults, eps, l\n",
    "from proveit.logic import InSet\n",
    "from proveit.numbers import Less, NaturalPos\n",
    "from proveit.numbers.negation import negated_positive_is_negative\n",
    "from proveit.physics.quantum.QPE import full_domain, neg_domain, pos_domain\n",
    "from proveit.physics.quantum.QPE import two_pow_t_minus_one_is_nat_pos\n",
    "theory = proveit.Theory() # the theorem's theory"
   ]
  },
  {
   "cell_type": "code",
   "execution_count": null,
   "metadata": {},
   "outputs": [],
   "source": [
    "%proving neg_domain_in_full_domain"
   ]
  },
  {
   "cell_type": "markdown",
   "metadata": {},
   "source": [
    "The basic approach is to show<br>\n",
    "(1) $\\ell\\in\\{2^{t-1}+1\\ldots-(\\epsilon+1)\\}$ means $-2^{t-1}+1 \\le \\ell$ (and $\\ell\\in\\mathbb{Z}$)<br>\n",
    "(2) $\\ell\\in\\{2^{t-1}+1\\ldots-(\\epsilon+1)\\}$ means $\\ell \\le -(\\epsilon+1)$<br>\n",
    "(3) $\\epsilon\\in\\mathbb{N}^{+}$ means $-(\\epsilon+1) < 2^{t-1}$<br>\n",
    "(4) Thus $-2^{t-1 + 1} \\le \\ell \\le 2^{t-1}$ and $\\ell$ is an Integer.<br/>\n",
    "(5) Thus $\\ell\\in\\{-2^{t-1 + 1}\\ldots 2^{t-1}\\}$"
   ]
  },
  {
   "cell_type": "code",
   "execution_count": null,
   "metadata": {},
   "outputs": [],
   "source": [
    "defaults.assumptions = neg_domain_in_full_domain.all_conditions()"
   ]
  },
  {
   "cell_type": "code",
   "execution_count": null,
   "metadata": {},
   "outputs": [],
   "source": [
    "# neg_domain.deduce_member_in_integer(l)"
   ]
  },
  {
   "cell_type": "code",
   "execution_count": null,
   "metadata": {},
   "outputs": [],
   "source": [
    "# neg_domain.deduce_member_upper_bound(l)"
   ]
  },
  {
   "cell_type": "code",
   "execution_count": null,
   "metadata": {},
   "outputs": [],
   "source": [
    "InSet(pos_domain.lower_bound, NaturalPos).prove()"
   ]
  },
  {
   "cell_type": "code",
   "execution_count": null,
   "metadata": {},
   "outputs": [],
   "source": [
    "negated_positive_is_negative"
   ]
  },
  {
   "cell_type": "code",
   "execution_count": null,
   "metadata": {},
   "outputs": [],
   "source": [
    "negated_positive_is_negative.instantiate({a:pos_domain.lower_bound})"
   ]
  },
  {
   "cell_type": "code",
   "execution_count": null,
   "metadata": {},
   "outputs": [],
   "source": [
    "Less(neg_domain.upper_bound, full_domain.upper_bound).prove()"
   ]
  },
  {
   "cell_type": "code",
   "execution_count": null,
   "metadata": {},
   "outputs": [],
   "source": [
    "# full_domain.deduce_elem_in_set(l)"
   ]
  },
  {
   "cell_type": "code",
   "execution_count": null,
   "metadata": {},
   "outputs": [],
   "source": [
    "# %qed"
   ]
  },
  {
   "cell_type": "code",
   "execution_count": null,
   "metadata": {},
   "outputs": [],
   "source": []
  }
 ],
 "metadata": {
  "kernelspec": {
   "display_name": "Python 3",
   "language": "python",
   "name": "python3"
  }
 },
 "nbformat": 4,
 "nbformat_minor": 0
}
