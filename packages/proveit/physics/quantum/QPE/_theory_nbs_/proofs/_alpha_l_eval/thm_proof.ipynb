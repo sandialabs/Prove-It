{
 "cells": [
  {
   "cell_type": "markdown",
   "metadata": {},
   "source": [
    "Proof of <a class=\"ProveItLink\" href=\"../../../../../../_theory_nbs_/theory.ipynb\">proveit</a>.<a class=\"ProveItLink\" href=\"../../../../../_theory_nbs_/theory.ipynb\">physics</a>.<a class=\"ProveItLink\" href=\"../../../../_theory_nbs_/theory.ipynb\">quantum</a>.<a class=\"ProveItLink\" href=\"../../theory.ipynb\">QPE</a>.<a class=\"ProveItLink\" href=\"../../theorems.ipynb#_alpha_l_eval\">_alpha_l_eval</a> theorem\n",
    "========"
   ]
  },
  {
   "cell_type": "code",
   "execution_count": null,
   "metadata": {},
   "outputs": [],
   "source": [
    "import proveit\n",
    "from proveit import defaults\n",
    "from proveit import k, l, n, t\n",
    "from proveit.logic import InSet\n",
    "from proveit.numbers import Mult, Complex, Integer\n",
    "from proveit.numbers import zero, one, two, Interval, subtract, Exp\n",
    "from proveit.physics.quantum import NumKet\n",
    "from proveit.physics.quantum.QPE import _t, _b, ModAdd, _t_in_natural_pos, _mod_add_closure\n",
    "from proveit.physics.quantum.QPE import (\n",
    "    _alpha_def, _psi_t_var_formula, _Psi_def, _best_is_int, _phase_is_real)\n",
    "from proveit.physics.quantum.QFT import invFT_on_matrix_elem\n",
    "theory = proveit.Theory() # the theorem's theory"
   ]
  },
  {
   "cell_type": "code",
   "execution_count": null,
   "metadata": {},
   "outputs": [],
   "source": [
    "%proving _alpha_l_eval"
   ]
  },
  {
   "cell_type": "code",
   "execution_count": null,
   "metadata": {},
   "outputs": [],
   "source": [
    "defaults.assumptions = _alpha_l_eval.conditions"
   ]
  },
  {
   "cell_type": "code",
   "execution_count": null,
   "metadata": {},
   "outputs": [],
   "source": [
    "_alpha_def"
   ]
  },
  {
   "cell_type": "code",
   "execution_count": null,
   "metadata": {},
   "outputs": [],
   "source": [
    "alpha_l_eq1 = _alpha_def.instantiate()"
   ]
  },
  {
   "cell_type": "code",
   "execution_count": null,
   "metadata": {},
   "outputs": [],
   "source": [
    "_Psi_def"
   ]
  },
  {
   "cell_type": "code",
   "execution_count": null,
   "metadata": {},
   "outputs": [],
   "source": [
    "alpha_l_eq2 = _Psi_def.sub_right_side_into(alpha_l_eq1)"
   ]
  },
  {
   "cell_type": "code",
   "execution_count": null,
   "metadata": {},
   "outputs": [],
   "source": [
    "_psi_t_var_formula"
   ]
  },
  {
   "cell_type": "code",
   "execution_count": null,
   "metadata": {},
   "outputs": [],
   "source": [
    "psi_formula = _psi_t_var_formula.instantiate({t:_t})"
   ]
  },
  {
   "cell_type": "code",
   "execution_count": null,
   "metadata": {},
   "outputs": [],
   "source": [
    "# Auto_simplification here pulls the constant coefficient\n",
    "# out to the front of the bra-ket; for that auto-simplification\n",
    "# factoring to work, however, we need the _phase_is_real theorem\n",
    "# and the _mod_add_closure theorem. \n",
    "alpha_l_eq3 = psi_formula.sub_right_side_into(alpha_l_eq2)"
   ]
  },
  {
   "cell_type": "code",
   "execution_count": null,
   "metadata": {},
   "outputs": [],
   "source": [
    "alpha_l_eq4 = alpha_l_eq3.inner_expr().rhs.operands[1].distribute(2)"
   ]
  },
  {
   "cell_type": "code",
   "execution_count": null,
   "metadata": {},
   "outputs": [],
   "source": [
    "k_domain = psi_formula.rhs.operands[1].domain"
   ]
  },
  {
   "cell_type": "code",
   "execution_count": null,
   "metadata": {},
   "outputs": [],
   "source": [
    "b_modadd_l = ModAdd(_b, l)"
   ]
  },
  {
   "cell_type": "code",
   "execution_count": null,
   "metadata": {},
   "outputs": [],
   "source": [
    "b_modadd_l.deduce_in_interval()"
   ]
  },
  {
   "cell_type": "code",
   "execution_count": null,
   "metadata": {},
   "outputs": [],
   "source": [
    "invFT_on_matrix_elem"
   ]
  },
  {
   "cell_type": "code",
   "execution_count": null,
   "metadata": {},
   "outputs": [],
   "source": [
    "matrix_elem = invFT_on_matrix_elem.instantiate(\n",
    "    {n:_t, l:b_modadd_l}, assumptions=[InSet(k, k_domain), InSet(l, Integer)])"
   ]
  },
  {
   "cell_type": "code",
   "execution_count": null,
   "metadata": {},
   "outputs": [],
   "source": [
    "# We don't want to combine the two different exponentials through auto-simplification.\n",
    "# We also preserve the commuted version for later in the nb.\n",
    "# This sometimes works and sometimes not; puzzling non-deterministic behavior.\n",
    "defaults.preserved_exprs = set(\n",
    "    [Mult(alpha_l_eq4.rhs.factors[1].summand.factors[0], \n",
    "          matrix_elem.rhs.factors[1]),\n",
    "     Mult(matrix_elem.rhs.factors[1], \n",
    "          alpha_l_eq4.rhs.factors[1].summand.factors[0])])"
   ]
  },
  {
   "cell_type": "code",
   "execution_count": null,
   "metadata": {},
   "outputs": [],
   "source": [
    "alpha_l_eq5 = (alpha_l_eq4.inner_expr().rhs.operands[1]\n",
    "               .summand.operands[1].substitute(matrix_elem))"
   ]
  },
  {
   "cell_type": "code",
   "execution_count": null,
   "metadata": {},
   "outputs": [],
   "source": [
    "# a kludgy way to deal with a potential problem when the previous cell\n",
    "# fails to preserve the Mult of the two separate exponentials;\n",
    "# eventually this should be completely unnecessary\n",
    "from proveit.numbers import Exp\n",
    "if isinstance (alpha_l_eq5.rhs.factors[1].summand.factors[0], Exp):\n",
    "    alpha_l_eq5 = (alpha_l_eq5.inner_expr().rhs.factors[1].\n",
    "                     summand.factors[0].exponent_separate())\n",
    "alpha_l_eq5"
   ]
  },
  {
   "cell_type": "code",
   "execution_count": null,
   "metadata": {},
   "outputs": [],
   "source": [
    "const_factor = alpha_l_eq5.rhs.operands[0]"
   ]
  },
  {
   "cell_type": "code",
   "execution_count": null,
   "metadata": {},
   "outputs": [],
   "source": [
    "alpha_l_eq6 = alpha_l_eq5.inner_expr().rhs.operands[1].factor(const_factor)"
   ]
  },
  {
   "cell_type": "code",
   "execution_count": null,
   "metadata": {},
   "outputs": [],
   "source": [
    "alpha_l_eq7 = alpha_l_eq6.inner_expr().rhs.operands[0].distribute()"
   ]
  },
  {
   "cell_type": "code",
   "execution_count": null,
   "metadata": {},
   "outputs": [],
   "source": [
    "alpha_l_eq8 = alpha_l_eq7.inner_expr().rhs.operands[1].instance_expr.commute()"
   ]
  },
  {
   "cell_type": "code",
   "execution_count": null,
   "metadata": {},
   "outputs": [],
   "source": [
    "%qed"
   ]
  },
  {
   "cell_type": "code",
   "execution_count": null,
   "metadata": {},
   "outputs": [],
   "source": []
  }
 ],
 "metadata": {
  "kernelspec": {
   "display_name": "Python 3",
   "language": "python",
   "name": "python3"
  }
 },
 "nbformat": 4,
 "nbformat_minor": 0
}
