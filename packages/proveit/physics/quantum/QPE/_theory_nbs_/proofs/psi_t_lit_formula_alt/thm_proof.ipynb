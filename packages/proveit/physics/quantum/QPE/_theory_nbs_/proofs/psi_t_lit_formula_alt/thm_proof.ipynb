{
 "cells": [
  {
   "cell_type": "markdown",
   "metadata": {},
   "source": [
    "Proof of <a class=\"ProveItLink\" href=\"../../../../../../_theory_nbs_/theory.ipynb\">proveit</a>.<a class=\"ProveItLink\" href=\"../../../../../_theory_nbs_/theory.ipynb\">physics</a>.<a class=\"ProveItLink\" href=\"../../../../_theory_nbs_/theory.ipynb\">quantum</a>.<a class=\"ProveItLink\" href=\"../../theory.ipynb\">QPE</a>.<a class=\"ProveItLink\" href=\"../../theorems.ipynb#psi_t_lit_formula_alt\">psi_t_lit_formula_alt</a> theorem\n",
    "========"
   ]
  },
  {
   "cell_type": "code",
   "execution_count": null,
   "metadata": {},
   "outputs": [],
   "source": [
    "import proveit\n",
    "theory = proveit.Theory() # the theorem's theory\n",
    "from proveit import k, m, n, t, P, defaults, Function\n",
    "from proveit.linear_algebra import ScalarMult, VecAdd, VecSum\n",
    "from proveit.logic import Equals, Forall\n",
    "from proveit.numbers import zero, one, two, e, pi, i, Exp, frac, Interval, Mult, subtract, Sum\n",
    "from proveit.numbers import NaturalPos\n",
    "from proveit.numbers.number_sets.natural_numbers import fold_forall_natural_pos\n",
    "from proveit.physics.quantum import ket0, ket1, NumKet\n",
    "from proveit.physics.quantum.QPE import (\n",
    "    p_t_def, phase_, phase_is_real, psi_, psi_expansion,\n",
    "    psi_prime_t_def, psi_prime_t_lit_formula, psi_t, psi_t_lit_def, psi_t_var_def,\n",
    "    t_, t_in_natural_pos)\n",
    "\n",
    "# some to be transferred to above\n",
    "from proveit import a, b, c, d, j, k, m, n, P, r, t, x, y, z, alpha\n",
    "from proveit.core_expr_types import fk, gk\n",
    "# from proveit.linear_algebra import (\n",
    "#     factor_complex_scalar_from_tensor_prod,\n",
    "#     scalar_tensor_associativity, tensor_prod_linearity)\n",
    "from proveit.linear_algebra.tensors import (\n",
    "    factor_scalar_from_tensor_prod, tensor_prod_distribution_over_summation )\n",
    "from proveit.logic import Equals, InSet\n",
    "from proveit.numbers import zero, one, two, Add, Exp, Less, LessEq, Mult, Neg, subtract\n",
    "from proveit.numbers import Interval, Natural, NaturalPos\n",
    "from proveit.numbers.exponentiation import (\n",
    "        add_one_right_in_exp, exp_eq_for_eq_base_and_exp, exponential_monotonocity)\n",
    "from proveit.numbers.number_sets.natural_numbers import fold_forall_natural_pos\n",
    "from proveit.numbers.summation import distributive_summation_spec\n",
    "# from proveit.physics.quantum import Ket, multi_tensor_prod_induct_0, multi_tensor_prod_induct_1, NumKet\n",
    "from proveit.physics.quantum import Ket, NumKet\n",
    "from proveit.physics.quantum.algebra import (\n",
    "        prepend_num_ket_with_zero_ket, prepend_num_ket_with_one_ket)\n",
    "from proveit.physics.quantum.QPE import (\n",
    "    p_prime_r_def, psi_prime_expansion, psi_prime_t_def, two_pow_t,\n",
    "    two_pow_t_minus_one, two_pow_t_is_nat_pos, two_pow_t_less_one_is_nat_pos)"
   ]
  },
  {
   "cell_type": "code",
   "execution_count": null,
   "metadata": {},
   "outputs": [],
   "source": [
    "%proving psi_t_lit_formula_alt"
   ]
  },
  {
   "cell_type": "markdown",
   "metadata": {},
   "source": [
    "### Instantiate the Induction Theorem for an induction proof"
   ]
  },
  {
   "cell_type": "code",
   "execution_count": null,
   "metadata": {},
   "outputs": [],
   "source": [
    "# The GENERAL formula we want to prove (for variable t in positive nats)\n",
    "# (which will later be instantiated with literal t_ representing the size\n",
    "# of the first register).\n",
    "psi_t_var_formula = (\n",
    "    Forall(\n",
    "    t,\n",
    "    Equals(Ket(psi_t),\n",
    "           ScalarMult(frac(one, Exp(two, frac(t, two))),\n",
    "                VecSum(k, ScalarMult(Exp(e, Mult(two, pi, i, phase_, k)), NumKet(k, t)),\n",
    "               domain=Interval(zero, subtract(Exp(two, t), one))))),\n",
    "    domain=NaturalPos))"
   ]
  },
  {
   "cell_type": "code",
   "execution_count": null,
   "metadata": {},
   "outputs": [],
   "source": [
    "defaults.assumptions = psi_t_var_formula.all_conditions()"
   ]
  },
  {
   "cell_type": "code",
   "execution_count": null,
   "metadata": {},
   "outputs": [],
   "source": [
    "# the induction theorem for positive naturals\n",
    "fold_forall_natural_pos"
   ]
  },
  {
   "cell_type": "code",
   "execution_count": null,
   "metadata": {},
   "outputs": [],
   "source": [
    "# instantiate the induction theorem\n",
    "induction_inst = fold_forall_natural_pos.instantiate(\n",
    "    {Function(P,t):psi_t_var_formula.instance_expr, m:t, n:t})"
   ]
  },
  {
   "cell_type": "markdown",
   "metadata": {},
   "source": [
    "### Some Related Properties and Definitions Needed for Later Processing\n",
    "Mainly: some domains and orderings. Notice that throughout this section devoted to the induction proof, $t$ is a _variable_, not a literal."
   ]
  },
  {
   "cell_type": "code",
   "execution_count": null,
   "metadata": {},
   "outputs": [],
   "source": [
    "# used when processing products involving the phase phi\n",
    "phase_is_real"
   ]
  },
  {
   "cell_type": "code",
   "execution_count": null,
   "metadata": {},
   "outputs": [],
   "source": [
    "# need something here for VARIABLE t instead of LITERAL t\n",
    "# two_pow_t_is_nat_pos"
   ]
  },
  {
   "cell_type": "code",
   "execution_count": null,
   "metadata": {},
   "outputs": [],
   "source": [
    "two_pow_t_var_less_one = subtract(Exp(two, t), one)"
   ]
  },
  {
   "cell_type": "code",
   "execution_count": null,
   "metadata": {},
   "outputs": [],
   "source": [
    "# two_pow_t_less_one_is_nat_pos"
   ]
  },
  {
   "cell_type": "code",
   "execution_count": null,
   "metadata": {},
   "outputs": [],
   "source": [
    "two_pow_t_var_less_one.deduce_in_number_set(Natural)"
   ]
  },
  {
   "cell_type": "code",
   "execution_count": null,
   "metadata": {},
   "outputs": [],
   "source": [
    "LessEq(zero, two_pow_t_var_less_one).prove()"
   ]
  },
  {
   "cell_type": "code",
   "execution_count": null,
   "metadata": {},
   "outputs": [],
   "source": [
    "Less(t, Add(t, one)).prove()"
   ]
  },
  {
   "cell_type": "code",
   "execution_count": null,
   "metadata": {},
   "outputs": [],
   "source": [
    "exponential_monotonocity"
   ]
  },
  {
   "cell_type": "code",
   "execution_count": null,
   "metadata": {},
   "outputs": [],
   "source": [
    "exponential_monotonocity_inst = exponential_monotonocity.instantiate({a: two, b: t, c: Add(t, one)})"
   ]
  },
  {
   "cell_type": "code",
   "execution_count": null,
   "metadata": {},
   "outputs": [],
   "source": [
    "# Used to allow a splitting of a summation into the sum of two summations\n",
    "exponential_monotonocity_inst.derive_shifted(Neg(one))"
   ]
  },
  {
   "cell_type": "markdown",
   "metadata": {},
   "source": [
    "For later summation index manipulations, we want to establish that $2^{t+1}-2^{t} = 2^{t}$ (and more specifically we will need $2^{t+1}-2^{t}-1 = 2^{t}-1$)."
   ]
  },
  {
   "cell_type": "code",
   "execution_count": null,
   "metadata": {},
   "outputs": [],
   "source": [
    "add_one_right_in_exp"
   ]
  },
  {
   "cell_type": "code",
   "execution_count": null,
   "metadata": {},
   "outputs": [],
   "source": [
    "two_to_quant_t_var_plus_1_factored = add_one_right_in_exp.instantiate(\n",
    "        {a: two, b: t}).derive_reversed()"
   ]
  },
  {
   "cell_type": "code",
   "execution_count": null,
   "metadata": {},
   "outputs": [],
   "source": [
    "index_shift_simplification = two_to_quant_t_var_plus_1_factored.substitution(\n",
    "        subtract(Exp(two, Add(t, one)), Exp(two, t)))"
   ]
  },
  {
   "cell_type": "code",
   "execution_count": null,
   "metadata": {},
   "outputs": [],
   "source": [
    "index_shift_simplification = index_shift_simplification.inner_expr().rhs.factor(\n",
    "        Exp(two, t))"
   ]
  },
  {
   "cell_type": "code",
   "execution_count": null,
   "metadata": {},
   "outputs": [],
   "source": [
    "index_shift_simplification = index_shift_simplification.inner_expr().rhs.simplify()"
   ]
  },
  {
   "cell_type": "code",
   "execution_count": null,
   "metadata": {},
   "outputs": [],
   "source": [
    "index_shift_simplification = index_shift_simplification.right_add_both_sides(Neg(one))"
   ]
  },
  {
   "cell_type": "code",
   "execution_count": null,
   "metadata": {},
   "outputs": [],
   "source": [
    "index_shift_simplification = index_shift_simplification.inner_expr().lhs.commute(init_idx=1, final_idx=2)"
   ]
  },
  {
   "cell_type": "code",
   "execution_count": null,
   "metadata": {},
   "outputs": [],
   "source": [
    "# index_shift_simplification = index_shift_simplification.inner_expr().lhs.associate(start_idx=0, length=2)"
   ]
  },
  {
   "cell_type": "code",
   "execution_count": null,
   "metadata": {},
   "outputs": [],
   "source": [
    "index_shift_simplification = index_shift_simplification.inner_expr().rhs.with_subtraction_at(1)"
   ]
  },
  {
   "cell_type": "code",
   "execution_count": null,
   "metadata": {},
   "outputs": [],
   "source": []
  },
  {
   "cell_type": "markdown",
   "metadata": {},
   "source": [
    "### Base Case"
   ]
  },
  {
   "cell_type": "code",
   "execution_count": null,
   "metadata": {},
   "outputs": [],
   "source": [
    "base_case = induction_inst.antecedent.operands[0]"
   ]
  },
  {
   "cell_type": "markdown",
   "metadata": {},
   "source": [
    "Axiomatically, $\\psi'_{t}$ is defined as a tensor product:"
   ]
  },
  {
   "cell_type": "code",
   "execution_count": null,
   "metadata": {},
   "outputs": [],
   "source": [
    "# psi_prime_t_def"
   ]
  },
  {
   "cell_type": "code",
   "execution_count": null,
   "metadata": {},
   "outputs": [],
   "source": [
    "# psi_t_var_def"
   ]
  },
  {
   "cell_type": "markdown",
   "metadata": {},
   "source": [
    "We have $|\\psi_{t}\\rangle$ defined as a tensor product (the result of the first phase of the quantum circuit, and the LHS of Nielsen & Chuang's identity 5.20 on pg 222):"
   ]
  },
  {
   "cell_type": "code",
   "execution_count": null,
   "metadata": {},
   "outputs": [],
   "source": [
    "# need psi_t_var_def re-defined with a Ket instead of a NumKet on the left\n",
    "from proveit.physics.quantum.QPE import psi_t_var_as_tensor_prod\n",
    "psi_t_var_as_tensor_prod"
   ]
  },
  {
   "cell_type": "markdown",
   "metadata": {},
   "source": [
    "For $\\psi'_{1}$, we prove a useful equality then instantiate the `psi_t_var_as_tensor_prod` with $t=1$:"
   ]
  },
  {
   "cell_type": "code",
   "execution_count": null,
   "metadata": {},
   "outputs": [],
   "source": [
    "# this helps later with an instantiation and simplification,\n",
    "# pre-establishing that 0 = -(1-1)\n",
    "alt_reduction = Equals(zero, Neg(subtract(one, one))).prove()"
   ]
  },
  {
   "cell_type": "code",
   "execution_count": null,
   "metadata": {},
   "outputs": [],
   "source": [
    "psi_t_var_as_tensor_prod.instantiate({t:one}, auto_simplify=False)"
   ]
  },
  {
   "cell_type": "code",
   "execution_count": null,
   "metadata": {},
   "outputs": [],
   "source": [
    "psi_1_def = psi_t_var_as_tensor_prod.instantiate({t:one})"
   ]
  },
  {
   "cell_type": "code",
   "execution_count": null,
   "metadata": {},
   "outputs": [],
   "source": [
    "psi_1_def_simplified = psi_1_def.inner_expr().rhs.operands[1].operands[1].operands[0].exponent.simplify()"
   ]
  },
  {
   "cell_type": "markdown",
   "metadata": {},
   "source": [
    "An Aside, wondering why the auto_simplify=True is required, and why we can't do part of this manually if need be:"
   ]
  },
  {
   "cell_type": "code",
   "execution_count": null,
   "metadata": {},
   "outputs": [],
   "source": [
    "# old, but interesting issues arise if we set auto_simplify=False\n",
    "# and then afterward try to manually perform the range_expansion()\n",
    "psi_1_def_alt = psi_t_var_as_tensor_prod.instantiate({t:one}, auto_simplify=False)"
   ]
  },
  {
   "cell_type": "code",
   "execution_count": null,
   "metadata": {},
   "outputs": [],
   "source": [
    "# testing to get the right level to apply range_expansion()\n",
    "# notice that we can manually \"expand\" the range to its actual 1-elem entry\n",
    "psi_1_def_alt.rhs.operands[1].operands.range_expansion()"
   ]
  },
  {
   "cell_type": "code",
   "execution_count": null,
   "metadata": {},
   "outputs": [],
   "source": [
    "# not clear why this then creates issues\n",
    "from proveit import ProofFailure\n",
    "try:\n",
    "    psi_1_def_alt.inner_expr().rhs.operands[1].operands.expand_range()\n",
    "except Exception as the_exception:\n",
    "    print(\"Exception: {}\".format(the_exception))"
   ]
  },
  {
   "cell_type": "markdown",
   "metadata": {},
   "source": [
    "END of aside!"
   ]
  },
  {
   "cell_type": "code",
   "execution_count": null,
   "metadata": {},
   "outputs": [],
   "source": [
    "# psi_1_def = psi_t_var_as_tensor_prod.instantiate({t:one}, auto_simplify=False)"
   ]
  },
  {
   "cell_type": "code",
   "execution_count": null,
   "metadata": {},
   "outputs": [],
   "source": [
    "# old\n",
    "# psi_prime_1_def = psi_prime_t_def.instantiate({t:one}, auto_simplify=False)"
   ]
  },
  {
   "cell_type": "code",
   "execution_count": null,
   "metadata": {},
   "outputs": [],
   "source": [
    "# notice that we can \"expand\" the ExprRange just as expected:\n",
    "# expanded_range_temp = psi_1_def.rhs.operands[1].operands.range_expansion()"
   ]
  },
  {
   "cell_type": "code",
   "execution_count": null,
   "metadata": {},
   "outputs": [],
   "source": [
    "# but can't seem to perform the equivalent inner_expr() version:\n",
    "# appears to be calling containing_vec_space() on an ExprTuple instead of a vec?\n",
    "# Also note the odd ProofFailure message ?\n",
    "# psi_1_def.inner_expr().rhs.operands[1].operands.expand_range()"
   ]
  },
  {
   "cell_type": "code",
   "execution_count": null,
   "metadata": {},
   "outputs": [],
   "source": [
    "# expr_range_eq_expr_tuple = psi_1_def.rhs.operands[1].operands.range_expansion()"
   ]
  },
  {
   "cell_type": "code",
   "execution_count": null,
   "metadata": {},
   "outputs": [],
   "source": [
    "# expr_range_eq_expr_tuple = psi_prime_1_def.rhs.operands.range_expansion()"
   ]
  },
  {
   "cell_type": "code",
   "execution_count": null,
   "metadata": {},
   "outputs": [],
   "source": [
    "# psi_1_def_simp = expr_range_eq_expr_tuple.sub_right_side_into(psi_1_def)"
   ]
  },
  {
   "cell_type": "markdown",
   "metadata": {},
   "source": [
    "SOME VECTOR SPACE INFO NEEDED HERE FIRST ?<br />\n",
    "Leaving this here for now, but it appears the following $\\mathbb{C}^2$-related work is not the issue."
   ]
  },
  {
   "cell_type": "code",
   "execution_count": null,
   "metadata": {},
   "outputs": [],
   "source": [
    "# from proveit.physics.quantum.algebra import ket_zero_in_qubit_space\n",
    "# ket_zero_in_qubit_space"
   ]
  },
  {
   "cell_type": "code",
   "execution_count": null,
   "metadata": {},
   "outputs": [],
   "source": [
    "# from proveit.physics.quantum.algebra import ket_one_in_qubit_space\n",
    "# ket_one_in_qubit_space"
   ]
  },
  {
   "cell_type": "code",
   "execution_count": null,
   "metadata": {},
   "outputs": [],
   "source": [
    "# from proveit.numbers import Complex\n",
    "# VecAdd(ket0,  ket1).deduce_in_vec_space(field=Complex)"
   ]
  },
  {
   "cell_type": "code",
   "execution_count": null,
   "metadata": {},
   "outputs": [],
   "source": [
    "# exp_scalar = expr_range_eq_expr_tuple.rhs.entries[0].operands[1].operands[0]"
   ]
  },
  {
   "cell_type": "code",
   "execution_count": null,
   "metadata": {},
   "outputs": [],
   "source": [
    "# ScalarMult(exp_scalar, ket1).deduce_in_vec_space(field=Complex)"
   ]
  },
  {
   "cell_type": "code",
   "execution_count": null,
   "metadata": {},
   "outputs": [],
   "source": [
    "# linear_combo_in_C2 = VecAdd(ket0,  ScalarMult(exp_scalar, ket1)).deduce_in_vec_space(field=Complex)"
   ]
  },
  {
   "cell_type": "code",
   "execution_count": null,
   "metadata": {},
   "outputs": [],
   "source": [
    "# exp_scalar_unsimplified = expr_range_eq_expr_tuple.lhs.entries[0].first().operands[1].operands[0]"
   ]
  },
  {
   "cell_type": "code",
   "execution_count": null,
   "metadata": {},
   "outputs": [],
   "source": [
    "# exp_scalar_equality = exp_scalar_unsimplified.simplification()"
   ]
  },
  {
   "cell_type": "code",
   "execution_count": null,
   "metadata": {},
   "outputs": [],
   "source": [
    "# exp_scalar_equality.sub_left_side_into(linear_combo_in_C2)"
   ]
  },
  {
   "cell_type": "code",
   "execution_count": null,
   "metadata": {},
   "outputs": [],
   "source": [
    "# psi_1_def.inner_expr().rhs.operands[1].operands.substitute(expr_range_eq_expr_tuple)"
   ]
  },
  {
   "cell_type": "code",
   "execution_count": null,
   "metadata": {},
   "outputs": [],
   "source": [
    "# psi_1_def_simp = expr_range_eq_expr_tuple.sub_right_side_into(psi_1_def)"
   ]
  },
  {
   "cell_type": "code",
   "execution_count": null,
   "metadata": {},
   "outputs": [],
   "source": [
    "# psi_1_def_simp = expr_range_eq_expr_tuple.sub_right_side_into(psi_1_def).simplify()"
   ]
  },
  {
   "cell_type": "markdown",
   "metadata": {},
   "source": [
    "Then show that the summation formula also gives the same qbit result"
   ]
  },
  {
   "cell_type": "code",
   "execution_count": null,
   "metadata": {},
   "outputs": [],
   "source": [
    "sum_0_to_1 = base_case.rhs"
   ]
  },
  {
   "cell_type": "code",
   "execution_count": null,
   "metadata": {},
   "outputs": [],
   "source": [
    "sum_0_to_1.inner_expr().operands[1].partitioning_first(auto_simplify=False)"
   ]
  },
  {
   "cell_type": "code",
   "execution_count": null,
   "metadata": {},
   "outputs": [],
   "source": [
    "sum_0_to_1_processed_01 = sum_0_to_1.inner_expr().operands[1].partitioning_first()"
   ]
  },
  {
   "cell_type": "code",
   "execution_count": null,
   "metadata": {},
   "outputs": [],
   "source": [
    "# sum_0_to_1_processed_01.inner_expr().rhs.operands[1].operands[0].scalar_one_eliminate()"
   ]
  },
  {
   "cell_type": "code",
   "execution_count": null,
   "metadata": {},
   "outputs": [],
   "source": [
    "# sum_0_to_1_processed_01.rhs.operands[1].operands[0].simplification()"
   ]
  },
  {
   "cell_type": "code",
   "execution_count": null,
   "metadata": {},
   "outputs": [],
   "source": [
    "# sum_0_to_1_processed_01.rhs.operands[1].operands[0].scalar"
   ]
  },
  {
   "cell_type": "code",
   "execution_count": null,
   "metadata": {},
   "outputs": [],
   "source": [
    "# old\n",
    "# sum_0_to_1_processed_01 = sum_0_to_1.partition_first()"
   ]
  },
  {
   "cell_type": "code",
   "execution_count": null,
   "metadata": {},
   "outputs": [],
   "source": [
    "# could eventually be handled through automation?\n",
    "# from proveit.physics.quantum import scalar_id_for_ket\n",
    "# scalar_id_for_ket"
   ]
  },
  {
   "cell_type": "code",
   "execution_count": null,
   "metadata": {},
   "outputs": [],
   "source": [
    "# scalar_id_for_ket_inst = scalar_id_for_ket.instantiate({k: zero})"
   ]
  },
  {
   "cell_type": "code",
   "execution_count": null,
   "metadata": {},
   "outputs": [],
   "source": [
    "sum_0_to_1_processed_02 = scalar_id_for_ket_inst.sub_right_side_into(sum_0_to_1_processed_01)"
   ]
  },
  {
   "cell_type": "code",
   "execution_count": null,
   "metadata": {},
   "outputs": [],
   "source": [
    "# finish off the Base Case\n",
    "base_case_jdgmt = sum_0_to_1_processed_01.sub_left_side_into(psi_1_def_simplified)"
   ]
  },
  {
   "cell_type": "markdown",
   "metadata": {},
   "source": [
    "### Inductive Step"
   ]
  },
  {
   "cell_type": "code",
   "execution_count": null,
   "metadata": {},
   "outputs": [],
   "source": [
    "inductive_step = induction_inst.antecedent.operands[1]"
   ]
  },
  {
   "cell_type": "code",
   "execution_count": null,
   "metadata": {},
   "outputs": [],
   "source": [
    "defaults.assumptions = defaults.assumptions + inductive_step.conditions.entries"
   ]
  },
  {
   "cell_type": "markdown",
   "metadata": {},
   "source": [
    "First, partition the summation:\n",
    "$\\sum_{k=0}^{2^{t+1}-1} e^{2\\pi i \\varphi k} |k\\rangle_{t+1} = \\sum_{k=0}^{2^{t}-1} e^{2\\pi i \\varphi k} |k\\rangle_{t+1} + \\sum_{k=2^{t}}^{2^{t+1}-1} e^{2\\pi i \\varphi k} |k\\rangle_{t+1}$"
   ]
  },
  {
   "cell_type": "code",
   "execution_count": null,
   "metadata": {},
   "outputs": [],
   "source": [
    "# old\n",
    "# summation_partition = inductive_step.instance_expr.rhs.factors[1].partition(two_pow_t_var_less_one)"
   ]
  },
  {
   "cell_type": "code",
   "execution_count": null,
   "metadata": {},
   "outputs": [],
   "source": [
    "summation_partition = (\n",
    "    inductive_step.instance_expr.rhs.operands[1]\n",
    "    .partitioning(two_pow_t_var_less_one))"
   ]
  },
  {
   "cell_type": "code",
   "execution_count": null,
   "metadata": {},
   "outputs": [],
   "source": [
    "# old\n",
    "# summation_split = inductive_step.instance_expr.rhs.partition(two_pow_t_less_one)"
   ]
  },
  {
   "cell_type": "markdown",
   "metadata": {},
   "source": [
    "Then shift the second summation of that partition, so that the two summations then have the same index domain:"
   ]
  },
  {
   "cell_type": "code",
   "execution_count": null,
   "metadata": {},
   "outputs": [],
   "source": [
    "summation_partition_02 = summation_partition.inner_expr().rhs.operands[1].shift(Neg(Exp(two, t)))"
   ]
  },
  {
   "cell_type": "code",
   "execution_count": null,
   "metadata": {},
   "outputs": [],
   "source": [
    "# grab the second summation of the summation split\n",
    "# summation_partition_rhs_sum = summation_partition.rhs.operands[1]"
   ]
  },
  {
   "cell_type": "code",
   "execution_count": null,
   "metadata": {},
   "outputs": [],
   "source": [
    "# Old\n",
    "# grab the second summation of the summation split\n",
    "# summation_split_rhs_sum = summation_split.rhs.operands[1]"
   ]
  },
  {
   "cell_type": "code",
   "execution_count": null,
   "metadata": {},
   "outputs": [],
   "source": [
    "# recall the following simplification engineered earlier in the nb:\n",
    "index_shift_simplification"
   ]
  },
  {
   "cell_type": "code",
   "execution_count": null,
   "metadata": {},
   "outputs": [],
   "source": [
    "# index_shift_simplification = index_shift_simplification.inner_expr().lhs.disassociate(0)"
   ]
  },
  {
   "cell_type": "code",
   "execution_count": null,
   "metadata": {},
   "outputs": [],
   "source": [
    "summation_partition_shifted = summation_partition_02.inner_expr().rhs.operands[1].domain.upper_bound.substitute(index_shift_simplification)"
   ]
  },
  {
   "cell_type": "code",
   "execution_count": null,
   "metadata": {},
   "outputs": [],
   "source": [
    "# rhs_sum_shifted = summation_partition_rhs_sum.shifting(Neg(Exp(two, t)), replacements=[index_shift_simplification])"
   ]
  },
  {
   "cell_type": "code",
   "execution_count": null,
   "metadata": {},
   "outputs": [],
   "source": []
  },
  {
   "cell_type": "markdown",
   "metadata": {},
   "source": [
    "Substitute that shifted-and-simplified summation back into the partitioned summation expression from earlier:"
   ]
  },
  {
   "cell_type": "code",
   "execution_count": null,
   "metadata": {},
   "outputs": [],
   "source": [
    "# summation_partition_shifted = rhs_sum_shifted.sub_right_side_into(summation_partition)"
   ]
  },
  {
   "cell_type": "code",
   "execution_count": null,
   "metadata": {},
   "outputs": [],
   "source": [
    "# Old\n",
    "# summation_split_shifted = rhs_sum_shifted.sub_right_side_into(summation_split)"
   ]
  },
  {
   "cell_type": "markdown",
   "metadata": {},
   "source": [
    "We want to rewrite the summand of that 2nd summation on the rhs now by (1) expanding the exponential term and (2) rewriting the $|k+2^t{\\rangle}_{t+1}$ ket as $|1\\rangle \\otimes |k{\\rangle}_t$. This takes some work, as these expressions involve the index $k$ and thus we need to eventually use `instance_substitute` on the inner_expr()."
   ]
  },
  {
   "cell_type": "code",
   "execution_count": null,
   "metadata": {},
   "outputs": [],
   "source": [
    "# rhs_sum_shifted.rhs.summand"
   ]
  },
  {
   "cell_type": "code",
   "execution_count": null,
   "metadata": {},
   "outputs": [],
   "source": [
    "rhs_2nd_sum = summation_partition_shifted.rhs.operands[1]"
   ]
  },
  {
   "cell_type": "code",
   "execution_count": null,
   "metadata": {},
   "outputs": [],
   "source": [
    "summand_processed_01 = rhs_2nd_sum.summand.inner_expr().operands[0].exponent.distribution(\n",
    "    4, assumptions=[*defaults.assumptions,\n",
    "                    InSet(k, Interval(zero, subtract(Exp(two, t), one)))])"
   ]
  },
  {
   "cell_type": "code",
   "execution_count": null,
   "metadata": {},
   "outputs": [],
   "source": [
    "# summand_processed_01 = rhs_sum_shifted.rhs.summand.inner_expr().operands[0].exponent.distribution(\n",
    "#     4, assumptions=[*defaults.assumptions,\n",
    "#                     InSet(k, Interval(zero, subtract(Exp(two, t), one)))])"
   ]
  },
  {
   "cell_type": "code",
   "execution_count": null,
   "metadata": {},
   "outputs": [],
   "source": [
    "# Old\n",
    "# summand_processed = rhs_sum_shifted.rhs.summand"
   ]
  },
  {
   "cell_type": "code",
   "execution_count": null,
   "metadata": {},
   "outputs": [],
   "source": [
    "# Old\n",
    "# summand_processed = summand_processed.inner_expr().operands[0].exponent.distribution(4, assumptions=[*defaults.assumptions, InSet(k, Interval(zero, subtract(Exp(two, t), one)))])"
   ]
  },
  {
   "cell_type": "code",
   "execution_count": null,
   "metadata": {},
   "outputs": [],
   "source": [
    "summand_processed_02 = summand_processed_01.inner_expr().rhs.operands[0].exponent_separate(assumptions=[*defaults.assumptions, InSet(k, Interval(zero, subtract(Exp(two, t), one)))])"
   ]
  },
  {
   "cell_type": "code",
   "execution_count": null,
   "metadata": {},
   "outputs": [],
   "source": [
    "# commute the NumKet num operands to format it for replacement\n",
    "summand_processed_03 = summand_processed_02.inner_expr().rhs.operands[1].num.commute(assumptions=[*defaults.assumptions, InSet(k, Interval(zero, subtract(Exp(two, t), one)))])"
   ]
  },
  {
   "cell_type": "code",
   "execution_count": null,
   "metadata": {},
   "outputs": [],
   "source": [
    "from proveit.physics.quantum.algebra import prepend_num_ket_with_one_ket\n",
    "prepend_num_ket_with_one_ket"
   ]
  },
  {
   "cell_type": "code",
   "execution_count": null,
   "metadata": {},
   "outputs": [],
   "source": [
    "prepend_num_ket_with_one_ket_inst = prepend_num_ket_with_one_ket.instantiate(\n",
    "        {n: t, k: k}, assumptions=[*defaults.assumptions, InSet(k, Interval(zero, subtract(Exp(two, t), one)))])"
   ]
  },
  {
   "cell_type": "code",
   "execution_count": null,
   "metadata": {},
   "outputs": [],
   "source": [
    "# old version\n",
    "# multi_tensor_prod_induct_1"
   ]
  },
  {
   "cell_type": "code",
   "execution_count": null,
   "metadata": {},
   "outputs": [],
   "source": [
    "# old version\n",
    "# multi_tensor_prod_induct_1_inst = multi_tensor_prod_induct_1.instantiate({t: t, k: k}, assumptions=[*defaults.assumptions, InSet(k, Interval(zero, subtract(Exp(two, t), one)))] )"
   ]
  },
  {
   "cell_type": "code",
   "execution_count": null,
   "metadata": {},
   "outputs": [],
   "source": [
    "# can delete this cell later\n",
    "summand_processed_03"
   ]
  },
  {
   "cell_type": "code",
   "execution_count": null,
   "metadata": {},
   "outputs": [],
   "source": [
    "summand_processed_04 = (\n",
    "    summand_processed_03.inner_expr().rhs.operands[1]\n",
    "    .substitute(prepend_num_ket_with_one_ket_inst))"
   ]
  },
  {
   "cell_type": "code",
   "execution_count": null,
   "metadata": {},
   "outputs": [],
   "source": [
    "# old version\n",
    "# summand_processed_04 = multi_tensor_prod_induct_1_inst.sub_left_side_into(summand_processed_03)"
   ]
  },
  {
   "cell_type": "code",
   "execution_count": null,
   "metadata": {},
   "outputs": [],
   "source": [
    "summand_processed_05 = summand_processed_04.inner_expr().rhs.operands[0].commute(assumptions=[*defaults.assumptions, InSet(k, Interval(zero, subtract(Exp(two, t), one)))])"
   ]
  },
  {
   "cell_type": "code",
   "execution_count": null,
   "metadata": {},
   "outputs": [],
   "source": [
    "summand_processed_generalized = summand_processed_05.generalize(k, domain=Interval(zero, subtract(Exp(two, t), one)))"
   ]
  },
  {
   "cell_type": "code",
   "execution_count": null,
   "metadata": {},
   "outputs": [],
   "source": [
    "summation_partition_shifted_02 = (\n",
    "    summation_partition_shifted.inner_expr().rhs.operands[1].instance_substitute(\n",
    "        summand_processed_generalized))"
   ]
  },
  {
   "cell_type": "code",
   "execution_count": null,
   "metadata": {},
   "outputs": [],
   "source": [
    "# old\n",
    "# summation_split_shifted = summation_split_shifted.inner_expr().rhs.operands[1].instance_substitute(summand_processed_generalized)"
   ]
  },
  {
   "cell_type": "markdown",
   "metadata": {},
   "source": [
    "We also then want to:\n",
    "\n",
    "(1) pull the tensor product out of the 2nd summation, and\n",
    "\n",
    "(2) pull the non-$k$-dependent exponential factor out of the 2nd summation."
   ]
  },
  {
   "cell_type": "code",
   "execution_count": null,
   "metadata": {},
   "outputs": [],
   "source": [
    "# for convenience:\n",
    "temp_factors = summation_partition_shifted_02.rhs.operands[1].summand.operands[0]"
   ]
  },
  {
   "cell_type": "code",
   "execution_count": null,
   "metadata": {},
   "outputs": [],
   "source": [
    "# old\n",
    "# for convenience:\n",
    "# temp_factors = summation_split_shifted.rhs.operands[1].summand.operands[0]"
   ]
  },
  {
   "cell_type": "code",
   "execution_count": null,
   "metadata": {},
   "outputs": [],
   "source": [
    "# for convenience:\n",
    "temp_factor_01 = temp_factors.operands[0]"
   ]
  },
  {
   "cell_type": "code",
   "execution_count": null,
   "metadata": {},
   "outputs": [],
   "source": [
    "# for convenience:\n",
    "temp_factor_02 = temp_factors.operands[1]"
   ]
  },
  {
   "cell_type": "code",
   "execution_count": null,
   "metadata": {},
   "outputs": [],
   "source": [
    "tensor_prod_linearity"
   ]
  },
  {
   "cell_type": "code",
   "execution_count": null,
   "metadata": {},
   "outputs": [],
   "source": [
    "tensor_prod_sub = tensor_prod_linearity.instantiate(\n",
    "        {j: k, a: Ket(one), b: RegisterKet(j, t), c: zero,\n",
    "         d: subtract(Exp(two, t), one), t: t, fk: temp_factors},\n",
    "        assumptions=[*defaults.assumptions, InSet(k, Interval(zero, subtract(Exp(two, t), one)))])"
   ]
  },
  {
   "cell_type": "code",
   "execution_count": null,
   "metadata": {},
   "outputs": [],
   "source": [
    "summation_partition_shifted_03 = tensor_prod_sub.sub_right_side_into(summation_partition_shifted_02)"
   ]
  },
  {
   "cell_type": "code",
   "execution_count": null,
   "metadata": {},
   "outputs": [],
   "source": [
    "# old\n",
    "# summation_split_shifted = tensor_prod_sub.sub_right_side_into(summation_split_shifted)"
   ]
  },
  {
   "cell_type": "code",
   "execution_count": null,
   "metadata": {},
   "outputs": [],
   "source": [
    "distributive_summation_spec"
   ]
  },
  {
   "cell_type": "code",
   "execution_count": null,
   "metadata": {},
   "outputs": [],
   "source": [
    "distributive_summation_spec_inst = distributive_summation_spec.instantiate(\n",
    "        {j:k, c:zero, d:subtract(Exp(two, t), one), x:temp_factor_01, gk:temp_factor_02, fk:RegisterKet(k, t)})"
   ]
  },
  {
   "cell_type": "code",
   "execution_count": null,
   "metadata": {},
   "outputs": [],
   "source": [
    "summation_partition_shifted_04 = distributive_summation_spec_inst.sub_right_side_into(summation_partition_shifted_03)"
   ]
  },
  {
   "cell_type": "markdown",
   "metadata": {},
   "source": [
    "Now we want to effect a substitution into the first summation on the rhs, taking $|k{\\rangle}_{t+1}$ to $|0\\rangle{}\\otimes|k{\\rangle}_{t}$. As with the earlier effort inside the 2nd summation, this is somewhat challenging because the replacement involves an expression containing the index $k$ and thus eventually requires an `instance_substitute` step."
   ]
  },
  {
   "cell_type": "code",
   "execution_count": null,
   "metadata": {},
   "outputs": [],
   "source": [
    "# our axiom/theorem to apply (in reverse)\n",
    "multi_tensor_prod_induct_0"
   ]
  },
  {
   "cell_type": "code",
   "execution_count": null,
   "metadata": {},
   "outputs": [],
   "source": [
    "# our axiom/theorem instantiated\n",
    "multi_tensor_prod_induct_0_inst_reversed = multi_tensor_prod_induct_0.instantiate(\n",
    "        {t: t, k: k},\n",
    "        assumptions=[*defaults.assumptions, InSet(k, Interval(zero, subtract(Exp(two, t), one)))]).derive_reversed()"
   ]
  },
  {
   "cell_type": "code",
   "execution_count": null,
   "metadata": {},
   "outputs": [],
   "source": [
    "first_summand = summation_partition_shifted_04.rhs.operands[0].summand"
   ]
  },
  {
   "cell_type": "code",
   "execution_count": null,
   "metadata": {},
   "outputs": [],
   "source": [
    "# old\n",
    "# first_summand = summation_split_shifted.rhs.operands[0].summand"
   ]
  },
  {
   "cell_type": "code",
   "execution_count": null,
   "metadata": {},
   "outputs": [],
   "source": [
    "first_summand_judgment = multi_tensor_prod_induct_0_inst_reversed.substitution(first_summand.inner_expr().operands[1])"
   ]
  },
  {
   "cell_type": "code",
   "execution_count": null,
   "metadata": {},
   "outputs": [],
   "source": [
    "first_summand_judgment_gen = first_summand_judgment.generalize(k, domain=Interval(zero, subtract(Exp(two, t), one)))"
   ]
  },
  {
   "cell_type": "code",
   "execution_count": null,
   "metadata": {},
   "outputs": [],
   "source": [
    "summation_partition_shifted_05 = summation_partition_shifted_04.inner_expr().rhs.operands[0].instance_substitute(first_summand_judgment_gen)"
   ]
  },
  {
   "cell_type": "code",
   "execution_count": null,
   "metadata": {},
   "outputs": [],
   "source": [
    "# old\n",
    "# summation_split_shifted = summation_split_shifted.inner_expr().rhs.operands[0].instance_substitute(first_summand_judgment_gen)"
   ]
  },
  {
   "cell_type": "markdown",
   "metadata": {},
   "source": [
    "Next we want to pull the $|0\\rangle$ out of the first summation, so again we use tensor_prod_linearity:"
   ]
  },
  {
   "cell_type": "code",
   "execution_count": null,
   "metadata": {},
   "outputs": [],
   "source": [
    "tensor_prod_linearity"
   ]
  },
  {
   "cell_type": "code",
   "execution_count": null,
   "metadata": {},
   "outputs": [],
   "source": [
    "tensor_prod_sub = tensor_prod_linearity.instantiate(\n",
    "        {j: k, a: Ket(zero), b: RegisterKet(j, t), c: zero,\n",
    "         d: subtract(Exp(two, t), one), t: t, fk: temp_factor_02},\n",
    "        assumptions=[*defaults.assumptions, InSet(k, Interval(zero, subtract(Exp(two, t), one)))])"
   ]
  },
  {
   "cell_type": "code",
   "execution_count": null,
   "metadata": {},
   "outputs": [],
   "source": [
    "summation_partition_shifted_06 = tensor_prod_sub.sub_right_side_into(summation_partition_shifted_05)"
   ]
  },
  {
   "cell_type": "code",
   "execution_count": null,
   "metadata": {},
   "outputs": [],
   "source": [
    "# old\n",
    "# summation_split_shifted = tensor_prod_sub.sub_right_side_into(summation_split_shifted)"
   ]
  },
  {
   "cell_type": "markdown",
   "metadata": {},
   "source": [
    "We need a few more manipulations of that second term on the rhs: pulling the exponential factor out to the front and reassociating."
   ]
  },
  {
   "cell_type": "code",
   "execution_count": null,
   "metadata": {},
   "outputs": [],
   "source": [
    "factor_complex_scalar_from_tensor_prod"
   ]
  },
  {
   "cell_type": "code",
   "execution_count": null,
   "metadata": {},
   "outputs": [],
   "source": [
    "# for convenience, name that 2nd summation on the rhs\n",
    "the_summation_factor = summation_partition_shifted_06.rhs.operands[1].operands[1].operands[1]"
   ]
  },
  {
   "cell_type": "code",
   "execution_count": null,
   "metadata": {},
   "outputs": [],
   "source": [
    "temp_factored_tensor_prod = factor_complex_scalar_from_tensor_prod.instantiate(\n",
    "        {m: one, n: zero, alpha: temp_factor_01, x: (Ket(one),), y: the_summation_factor,\n",
    "        z:()},\n",
    "        assumptions=[*defaults.assumptions, InSet(k, Interval(zero, subtract(Exp(two, t), one)))])"
   ]
  },
  {
   "cell_type": "code",
   "execution_count": null,
   "metadata": {},
   "outputs": [],
   "source": [
    "summation_partition_shifted_07 = temp_factored_tensor_prod.sub_right_side_into(summation_partition_shifted_06)"
   ]
  },
  {
   "cell_type": "code",
   "execution_count": null,
   "metadata": {},
   "outputs": [],
   "source": [
    "# old\n",
    "# summation_split_shifted = temp_factored_tensor_prod.sub_right_side_into(summation_split_shifted)"
   ]
  },
  {
   "cell_type": "code",
   "execution_count": null,
   "metadata": {},
   "outputs": [],
   "source": [
    "scalar_tensor_associativity"
   ]
  },
  {
   "cell_type": "code",
   "execution_count": null,
   "metadata": {},
   "outputs": [],
   "source": [
    "scalar_tensor_associativity_inst = scalar_tensor_associativity.instantiate(\n",
    "        {alpha: temp_factor_01, x: Ket(one), y: the_summation_factor})"
   ]
  },
  {
   "cell_type": "code",
   "execution_count": null,
   "metadata": {},
   "outputs": [],
   "source": [
    "summation_partition_shifted_08 = scalar_tensor_associativity_inst.sub_right_side_into(summation_partition_shifted_07)"
   ]
  },
  {
   "cell_type": "code",
   "execution_count": null,
   "metadata": {},
   "outputs": [],
   "source": [
    "# old\n",
    "# summation_split_shifted = scalar_tensor_associativity_inst.sub_right_side_into(summation_split_shifted)"
   ]
  },
  {
   "cell_type": "code",
   "execution_count": null,
   "metadata": {},
   "outputs": [],
   "source": [
    "distribute_tensor_prod_over_sum"
   ]
  },
  {
   "cell_type": "code",
   "execution_count": null,
   "metadata": {},
   "outputs": [],
   "source": [
    "from proveit import Variable\n",
    "i_var = Variable('i')"
   ]
  },
  {
   "cell_type": "code",
   "execution_count": null,
   "metadata": {},
   "outputs": [],
   "source": [
    "distribute_tensor_prod_over_sum_inst = distribute_tensor_prod_over_sum.instantiate(\n",
    "        {i_var: zero, j: two, k: one, y: (Ket(zero), Mult(temp_factor_01, Ket(one))), z: (the_summation_factor, )},\n",
    "        assumptions=[*defaults.assumptions, InSet(k, Interval(zero, subtract(Exp(two, t), one)))])"
   ]
  },
  {
   "cell_type": "code",
   "execution_count": null,
   "metadata": {},
   "outputs": [],
   "source": [
    "summation_partition_shifted_09 = distribute_tensor_prod_over_sum_inst.sub_left_side_into(summation_partition_shifted_08)"
   ]
  },
  {
   "cell_type": "code",
   "execution_count": null,
   "metadata": {},
   "outputs": [],
   "source": [
    "# old\n",
    "# summation_split_shifted = distribute_tensor_prod_over_sum_inst.sub_left_side_into(summation_split_shifted)"
   ]
  },
  {
   "cell_type": "code",
   "execution_count": null,
   "metadata": {},
   "outputs": [],
   "source": [
    "p_t_def"
   ]
  },
  {
   "cell_type": "code",
   "execution_count": null,
   "metadata": {},
   "outputs": [],
   "source": [
    "p_t_def.instantiate()"
   ]
  },
  {
   "cell_type": "code",
   "execution_count": null,
   "metadata": {},
   "outputs": [],
   "source": [
    "p_prime_r_def"
   ]
  },
  {
   "cell_type": "code",
   "execution_count": null,
   "metadata": {},
   "outputs": [],
   "source": [
    "p_prime_t = p_prime_r_def.instantiate({r:t})"
   ]
  },
  {
   "cell_type": "code",
   "execution_count": null,
   "metadata": {},
   "outputs": [],
   "source": [
    "summation_partition_shifted_10 = p_prime_t.sub_left_side_into(summation_partition_shifted_09)"
   ]
  },
  {
   "cell_type": "code",
   "execution_count": null,
   "metadata": {},
   "outputs": [],
   "source": [
    "# old\n",
    "# summation_split_shifted = p_prime_t.sub_left_side_into(summation_split_shifted)"
   ]
  },
  {
   "cell_type": "code",
   "execution_count": null,
   "metadata": {},
   "outputs": [],
   "source": [
    "psi_t_var_formula"
   ]
  },
  {
   "cell_type": "markdown",
   "metadata": {},
   "source": [
    "SOME TESTING HERE"
   ]
  },
  {
   "cell_type": "code",
   "execution_count": null,
   "metadata": {},
   "outputs": [],
   "source": [
    "test_frac = frac(one, Exp(two, frac(Add(t, one), two)))"
   ]
  },
  {
   "cell_type": "code",
   "execution_count": null,
   "metadata": {},
   "outputs": [],
   "source": [
    "test_frac_02 = test_frac.inner_expr().denominator.exponent.distribution()"
   ]
  },
  {
   "cell_type": "code",
   "execution_count": null,
   "metadata": {},
   "outputs": [],
   "source": [
    "test_frac_03 = test_frac_02.inner_expr().rhs.denominator.exponent_separate()"
   ]
  },
  {
   "cell_type": "code",
   "execution_count": null,
   "metadata": {},
   "outputs": [],
   "source": [
    "test_frac_04 = test_frac_03.inner_expr().rhs.factor(frac(one, Exp(two, frac(one, two))))"
   ]
  },
  {
   "cell_type": "code",
   "execution_count": null,
   "metadata": {},
   "outputs": [],
   "source": [
    "from proveit.linear_algebra import TensorProd\n",
    "test_tensor = Mult(test_frac, TensorProd(a, b))"
   ]
  },
  {
   "cell_type": "code",
   "execution_count": null,
   "metadata": {},
   "outputs": [],
   "source": [
    "test_tensor_02 = test_tensor.inner_expr().factors[0].substitution(test_frac_04)"
   ]
  },
  {
   "cell_type": "code",
   "execution_count": null,
   "metadata": {},
   "outputs": [],
   "source": [
    "test_tensor_02.inner_expr().rhs.disassociate(0)"
   ]
  },
  {
   "cell_type": "code",
   "execution_count": null,
   "metadata": {},
   "outputs": [],
   "source": [
    "scalar_tensor_associativity"
   ]
  },
  {
   "cell_type": "code",
   "execution_count": null,
   "metadata": {},
   "outputs": [],
   "source": [
    "factor_complex_scalar_from_tensor_prod"
   ]
  },
  {
   "cell_type": "markdown",
   "metadata": {},
   "source": [
    "TESTING ENDS HERE"
   ]
  },
  {
   "cell_type": "code",
   "execution_count": null,
   "metadata": {},
   "outputs": [],
   "source": [
    "# hmmm, now we're in trouble here …\n",
    "# psi_prime_t_formula"
   ]
  },
  {
   "cell_type": "code",
   "execution_count": null,
   "metadata": {},
   "outputs": [],
   "source": [
    "# Recall our inductive hypothesis:\n",
    "for item in defaults.assumptions:\n",
    "    if isinstance(item, Equals):\n",
    "        inductive_hypothesis = item\n",
    "inductive_hypothesis"
   ]
  },
  {
   "cell_type": "code",
   "execution_count": null,
   "metadata": {},
   "outputs": [],
   "source": [
    "summation_split_shifted = inductive_hypothesis.sub_left_side_into(summation_split_shifted)"
   ]
  },
  {
   "cell_type": "code",
   "execution_count": null,
   "metadata": {},
   "outputs": [],
   "source": [
    "psi_prime_expansion_inst = psi_prime_expansion.instantiate({t: t})"
   ]
  },
  {
   "cell_type": "code",
   "execution_count": null,
   "metadata": {},
   "outputs": [],
   "source": [
    "psi_prime_t_plus_1_formula = psi_prime_expansion_inst.sub_left_side_into(summation_split_shifted).derive_reversed()"
   ]
  },
  {
   "cell_type": "code",
   "execution_count": null,
   "metadata": {},
   "outputs": [],
   "source": []
  },
  {
   "cell_type": "code",
   "execution_count": null,
   "metadata": {},
   "outputs": [],
   "source": [
    "assert False"
   ]
  },
  {
   "cell_type": "markdown",
   "metadata": {},
   "source": [
    "OLD below!"
   ]
  },
  {
   "cell_type": "code",
   "execution_count": null,
   "metadata": {},
   "outputs": [],
   "source": [
    "# this is the literal t_ representing the size of the first register\n",
    "t_in_natural_pos"
   ]
  },
  {
   "cell_type": "code",
   "execution_count": null,
   "metadata": {},
   "outputs": [],
   "source": [
    "psi_prime_t_def"
   ]
  },
  {
   "cell_type": "code",
   "execution_count": null,
   "metadata": {},
   "outputs": [],
   "source": [
    "# instantiate the var t to the literal t_ representing the size of the first register\n",
    "psi_prime_t_def_inst = psi_prime_t_def.instantiate({t:t_})"
   ]
  },
  {
   "cell_type": "code",
   "execution_count": null,
   "metadata": {},
   "outputs": [],
   "source": [
    "psi_t_lit_def"
   ]
  },
  {
   "cell_type": "code",
   "execution_count": null,
   "metadata": {},
   "outputs": [],
   "source": [
    "psi_t_in_terms_of_psi_prime = psi_prime_t_def_inst.sub_left_side_into(psi_t_lit_def)"
   ]
  },
  {
   "cell_type": "code",
   "execution_count": null,
   "metadata": {},
   "outputs": [],
   "source": [
    "psi_prime_t_lit_formula"
   ]
  },
  {
   "cell_type": "code",
   "execution_count": null,
   "metadata": {},
   "outputs": [],
   "source": [
    "psi_prime_t_lit_formula.sub_right_side_into(psi_t_in_terms_of_psi_prime)"
   ]
  },
  {
   "cell_type": "code",
   "execution_count": null,
   "metadata": {},
   "outputs": [],
   "source": [
    "# %qed"
   ]
  },
  {
   "cell_type": "code",
   "execution_count": null,
   "metadata": {},
   "outputs": [],
   "source": []
  }
 ],
 "metadata": {
  "kernelspec": {
   "display_name": "Python 3",
   "language": "python",
   "name": "python3"
  }
 },
 "nbformat": 4,
 "nbformat_minor": 0
}
