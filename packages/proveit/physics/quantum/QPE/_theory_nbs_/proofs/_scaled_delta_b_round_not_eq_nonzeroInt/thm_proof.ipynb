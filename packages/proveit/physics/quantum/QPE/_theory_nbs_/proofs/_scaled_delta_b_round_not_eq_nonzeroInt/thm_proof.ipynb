{
 "cells": [
  {
   "cell_type": "markdown",
   "metadata": {},
   "source": [
    "Proof of <a class=\"ProveItLink\" href=\"../../../../../../_theory_nbs_/theory.ipynb\">proveit</a>.<a class=\"ProveItLink\" href=\"../../../../../_theory_nbs_/theory.ipynb\">physics</a>.<a class=\"ProveItLink\" href=\"../../../../_theory_nbs_/theory.ipynb\">quantum</a>.<a class=\"ProveItLink\" href=\"../../theory.ipynb\">QPE</a>.<a class=\"ProveItLink\" href=\"../../theorems.ipynb#_scaled_delta_b_round_not_eq_nonzeroInt\">_scaled_delta_b_round_not_eq_nonzeroInt</a> theorem\n",
    "========"
   ]
  },
  {
   "cell_type": "code",
   "execution_count": null,
   "metadata": {},
   "outputs": [],
   "source": [
    "import proveit\n",
    "theory = proveit.Theory() # the theorem's theory\n",
    "from proveit import a, b, l, x, y, defaults\n",
    "from proveit.logic import Equals, Implies, InSet\n",
    "from proveit.numbers import zero, one, two, frac, IntervalOO, Neg\n",
    "from proveit.physics.quantum.QPE import (\n",
    "        _scaled_delta_b_round_in_interval, _two_pow_t)"
   ]
  },
  {
   "cell_type": "code",
   "execution_count": null,
   "metadata": {},
   "outputs": [],
   "source": [
    "%proving _scaled_delta_b_round_not_eq_nonzeroInt"
   ]
  },
  {
   "cell_type": "code",
   "execution_count": null,
   "metadata": {},
   "outputs": [],
   "source": [
    "defaults.assumptions = _scaled_delta_b_round_not_eq_nonzeroInt.conditions"
   ]
  },
  {
   "cell_type": "code",
   "execution_count": null,
   "metadata": {},
   "outputs": [],
   "source": [
    "_scaled_delta = _scaled_delta_b_round_not_eq_nonzeroInt.instance_expr.lhs"
   ]
  },
  {
   "cell_type": "code",
   "execution_count": null,
   "metadata": {},
   "outputs": [],
   "source": [
    "# This will include automatic side effects about the lower and upper bounds\n",
    "_scaled_delta_b_round_in_interval"
   ]
  },
  {
   "cell_type": "code",
   "execution_count": null,
   "metadata": {},
   "outputs": [],
   "source": [
    "# Assume to the contrary that scaled_delta = ell\n",
    "contradictory_assumption = Equals(_scaled_delta, l)"
   ]
  },
  {
   "cell_type": "code",
   "execution_count": null,
   "metadata": {},
   "outputs": [],
   "source": [
    "# We apparently need this to be explicitly included.\n",
    "# Without this, the eventual error message is very unhelpful!\n",
    "contradictory_assumption.deduce_in_bool()"
   ]
  },
  {
   "cell_type": "code",
   "execution_count": null,
   "metadata": {},
   "outputs": [],
   "source": [
    "contradictory_assumption_interval = (\n",
    "        contradictory_assumption.sub_right_side_into(\n",
    "                _scaled_delta_b_round_in_interval,\n",
    "                assumptions=[contradictory_assumption])\n",
    ")"
   ]
  },
  {
   "cell_type": "code",
   "execution_count": null,
   "metadata": {},
   "outputs": [],
   "source": [
    "contradictory_assumption_implies_orig_interval = (\n",
    "        contradictory_assumption_interval.as_implication(\n",
    "                hypothesis=contradictory_assumption)\n",
    ")"
   ]
  },
  {
   "cell_type": "code",
   "execution_count": null,
   "metadata": {},
   "outputs": [],
   "source": [
    "l_lower_bound_loose = (\n",
    "        contradictory_assumption.sub_right_side_into(\n",
    "                _scaled_delta_b_round_in_interval.domain.\n",
    "                       deduce_member_lower_bound(_scaled_delta),\n",
    "                assumptions=[contradictory_assumption]))"
   ]
  },
  {
   "cell_type": "code",
   "execution_count": null,
   "metadata": {},
   "outputs": [],
   "source": [
    "l_lower_bound_loose.add_left(Neg(frac(one, two)), strong=True)"
   ]
  },
  {
   "cell_type": "code",
   "execution_count": null,
   "metadata": {},
   "outputs": [],
   "source": [
    "contradictory_assumption_interval_extended = (\n",
    "        InSet(l, IntervalOO(Neg(one), frac(one, two))).\n",
    "        prove(assumptions=[contradictory_assumption, *defaults.assumptions]))"
   ]
  },
  {
   "cell_type": "code",
   "execution_count": null,
   "metadata": {},
   "outputs": [],
   "source": [
    "contradictory_assumption_implies_extended_interval = (\n",
    "        Implies(contradictory_assumption, contradictory_assumption_interval_extended.expr).\n",
    "        prove(assumptions=[contradictory_assumption, *defaults.assumptions])\n",
    ")"
   ]
  },
  {
   "cell_type": "code",
   "execution_count": null,
   "metadata": {},
   "outputs": [],
   "source": [
    "not_in_extended_interval_implies_not_eq_ell = (\n",
    "        contradictory_assumption_implies_extended_interval.contrapose(\n",
    "        auto_simplify=False, preserve_expr=contradictory_assumption_interval,\n",
    "        assumptions = [contradictory_assumption])\n",
    ")"
   ]
  },
  {
   "cell_type": "code",
   "execution_count": null,
   "metadata": {},
   "outputs": [],
   "source": [
    "from proveit.numbers.number_sets.real_numbers import unique_int_in_interval\n",
    "unique_int_in_interval"
   ]
  },
  {
   "cell_type": "code",
   "execution_count": null,
   "metadata": {},
   "outputs": [],
   "source": [
    "ell_in_interval_implies_ell_is_zero = unique_int_in_interval.instantiate(\n",
    "        {a: one, b: frac(one, two), x: zero, y: l},\n",
    "        assumptions=[contradictory_assumption, *defaults.assumptions])"
   ]
  },
  {
   "cell_type": "code",
   "execution_count": null,
   "metadata": {},
   "outputs": [],
   "source": [
    "not_ell_in_extended_interval = ell_in_interval_implies_ell_is_zero.deny_antecedent()"
   ]
  },
  {
   "cell_type": "code",
   "execution_count": null,
   "metadata": {},
   "outputs": [],
   "source": [
    "not_in_extended_interval_implies_not_eq_ell.derive_consequent()"
   ]
  },
  {
   "cell_type": "code",
   "execution_count": null,
   "metadata": {},
   "outputs": [],
   "source": [
    "%qed"
   ]
  },
  {
   "cell_type": "code",
   "execution_count": null,
   "metadata": {},
   "outputs": [],
   "source": []
  }
 ],
 "metadata": {
  "kernelspec": {
   "display_name": "Python 3",
   "language": "python",
   "name": "python3"
  }
 },
 "nbformat": 4,
 "nbformat_minor": 0
}
