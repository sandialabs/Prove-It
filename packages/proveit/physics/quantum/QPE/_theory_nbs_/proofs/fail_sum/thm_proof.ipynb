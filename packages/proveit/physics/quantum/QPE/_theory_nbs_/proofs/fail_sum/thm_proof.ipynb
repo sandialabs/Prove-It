{
 "cells": [
  {
   "cell_type": "markdown",
   "metadata": {},
   "source": [
    "Proof of <a class=\"ProveItLink\" href=\"../../../../../../_theory_nbs_/theory.ipynb\">proveit</a>.<a class=\"ProveItLink\" href=\"../../../../../_theory_nbs_/theory.ipynb\">physics</a>.<a class=\"ProveItLink\" href=\"../../../../_theory_nbs_/theory.ipynb\">quantum</a>.<a class=\"ProveItLink\" href=\"../../theory.ipynb\">QPE</a>.<a class=\"ProveItLink\" href=\"../../theorems.ipynb#fail_sum\">fail_sum</a> theorem\n",
    "========"
   ]
  },
  {
   "cell_type": "code",
   "execution_count": null,
   "metadata": {},
   "outputs": [],
   "source": [
    "import proveit\n",
    "theory = proveit.Theory() # the theorem's theory\n",
    "from proveit import a, b, c, k, l, m, n, x, y, N, R, S, X, eps, Psi, defaults, fx, gy\n",
    "from proveit.logic import Equals, Forall, InSet, superset_eq\n",
    "from proveit.numbers import (\n",
    "    zero, one, two, Add, Complex, Integer, Less, LessEq, NaturalPos, Neg, Real, subtract)\n",
    "from proveit.numbers.negation import negated_weak_bound\n",
    "from proveit.numbers.modular import full_modular_range_equiv_left_shift\n",
    "from proveit.numbers.summation import equiv_sums\n",
    "from proveit.physics.quantum import register_qubit_all_probs, register_qubit_born_rule\n",
    "from proveit.physics.quantum.QPE import (\n",
    "    alpha_def, b_, best_is_int, fail_def, full_domain, m_, m_def, ModAdd, mod_add_def, neg_domain,\n",
    "    pos_domain, Psi_, PsiKetInQRegSpace,\n",
    "    success_prob_is_real, success_sum, t_, t_in_natural_pos, two_pow_t, two_pow_t_is_nat_pos,\n",
    "    two_pow_t_minus_one, two_pow_t_minus_one_is_nat_pos)\n",
    "from proveit.statistics import Prob, prob_in_real"
   ]
  },
  {
   "cell_type": "code",
   "execution_count": null,
   "metadata": {},
   "outputs": [],
   "source": [
    "%proving fail_sum"
   ]
  },
  {
   "cell_type": "code",
   "execution_count": null,
   "metadata": {},
   "outputs": [],
   "source": [
    "eps_in_domain = fail_sum.all_conditions()[0]"
   ]
  },
  {
   "cell_type": "code",
   "execution_count": null,
   "metadata": {},
   "outputs": [],
   "source": [
    "defaults.assumptions = fail_sum.all_conditions()"
   ]
  },
  {
   "cell_type": "code",
   "execution_count": null,
   "metadata": {},
   "outputs": [],
   "source": [
    "two_pow_t_is_nat_pos"
   ]
  },
  {
   "cell_type": "code",
   "execution_count": null,
   "metadata": {},
   "outputs": [],
   "source": [
    "two_pow_t_minus_one_is_nat_pos"
   ]
  },
  {
   "cell_type": "code",
   "execution_count": null,
   "metadata": {},
   "outputs": [],
   "source": [
    "eps_in_domain.derive_element_in_integer()"
   ]
  },
  {
   "cell_type": "code",
   "execution_count": null,
   "metadata": {},
   "outputs": [],
   "source": [
    "eps_in_domain.derive_element_lower_bound()"
   ]
  },
  {
   "cell_type": "code",
   "execution_count": null,
   "metadata": {},
   "outputs": [],
   "source": [
    "InSet(eps, NaturalPos).prove()"
   ]
  },
  {
   "cell_type": "code",
   "execution_count": null,
   "metadata": {},
   "outputs": [],
   "source": [
    "fail_def"
   ]
  },
  {
   "cell_type": "code",
   "execution_count": null,
   "metadata": {},
   "outputs": [],
   "source": [
    "fail_def_inst = fail_def.instantiate()"
   ]
  },
  {
   "cell_type": "code",
   "execution_count": null,
   "metadata": {},
   "outputs": [],
   "source": [
    "success_prob_is_real"
   ]
  },
  {
   "cell_type": "code",
   "execution_count": null,
   "metadata": {},
   "outputs": [],
   "source": [
    "success_prob_is_real_inst = success_prob_is_real.instantiate()"
   ]
  },
  {
   "cell_type": "code",
   "execution_count": null,
   "metadata": {},
   "outputs": [],
   "source": [
    "success_sum"
   ]
  },
  {
   "cell_type": "code",
   "execution_count": null,
   "metadata": {},
   "outputs": [],
   "source": [
    "success_sum_1 = success_sum.instantiate()"
   ]
  },
  {
   "cell_type": "code",
   "execution_count": null,
   "metadata": {},
   "outputs": [],
   "source": [
    "# probabilities are Real\n",
    "prob_in_real"
   ]
  },
  {
   "cell_type": "code",
   "execution_count": null,
   "metadata": {},
   "outputs": [],
   "source": [
    "# instantiate that for our specific type of probabilities being summed;\n",
    "# then in the next cell we can conclude the summation itself is real\n",
    "prob_in_real_inst = prob_in_real.instantiate(\n",
    "        {x: m_, X: success_sum_1.rhs.summand.operands[0]})"
   ]
  },
  {
   "cell_type": "code",
   "execution_count": null,
   "metadata": {},
   "outputs": [],
   "source": [
    "success_sum_1.rhs.deduce_in_number_set(Real)"
   ]
  },
  {
   "cell_type": "code",
   "execution_count": null,
   "metadata": {},
   "outputs": [],
   "source": [
    "fail_def_inst.rhs"
   ]
  },
  {
   "cell_type": "code",
   "execution_count": null,
   "metadata": {},
   "outputs": [],
   "source": [
    "# fail_def_inst.rhs.deduce_bound([success_sum_1])"
   ]
  },
  {
   "cell_type": "code",
   "execution_count": null,
   "metadata": {},
   "outputs": [],
   "source": []
  },
  {
   "cell_type": "code",
   "execution_count": null,
   "metadata": {},
   "outputs": [],
   "source": [
    "# assert False"
   ]
  },
  {
   "cell_type": "code",
   "execution_count": null,
   "metadata": {},
   "outputs": [],
   "source": [
    "success_sum_2 = success_sum_1.derive_negated().with_direction_reversed()"
   ]
  },
  {
   "cell_type": "code",
   "execution_count": null,
   "metadata": {},
   "outputs": [],
   "source": [
    "success_sum_3 = success_sum_2.derive_shifted(one, addend_side='left')"
   ]
  },
  {
   "cell_type": "code",
   "execution_count": null,
   "metadata": {},
   "outputs": [],
   "source": [
    "success_sum_4 = success_sum_3.inner_expr().lhs.with_subtraction_at(one)"
   ]
  },
  {
   "cell_type": "code",
   "execution_count": null,
   "metadata": {},
   "outputs": [],
   "source": [
    "success_sum_5 = success_sum_4.inner_expr().rhs.with_subtraction_at(one)"
   ]
  },
  {
   "cell_type": "code",
   "execution_count": null,
   "metadata": {},
   "outputs": [],
   "source": [
    "fail_sum_1 = fail_def_inst.sub_left_side_into(success_sum_5)"
   ]
  },
  {
   "cell_type": "code",
   "execution_count": null,
   "metadata": {},
   "outputs": [],
   "source": [
    "register_qubit_all_probs"
   ]
  },
  {
   "cell_type": "code",
   "execution_count": null,
   "metadata": {},
   "outputs": [],
   "source": [
    "# we need to know that t_ is in NaturalPos for the instantiation to work:\n",
    "t_in_natural_pos"
   ]
  },
  {
   "cell_type": "code",
   "execution_count": null,
   "metadata": {},
   "outputs": [],
   "source": [
    "# and we need to know that |Psi> is in the right domain:\n",
    "PsiKetInQRegSpace"
   ]
  },
  {
   "cell_type": "code",
   "execution_count": null,
   "metadata": {},
   "outputs": [],
   "source": [
    "# and need to know that m_ is the measure of ket |Psi>\n",
    "m_def"
   ]
  },
  {
   "cell_type": "code",
   "execution_count": null,
   "metadata": {},
   "outputs": [],
   "source": [
    "register_qubit_all_probs.instantiate({n: t_, Psi: Psi_, m: m_})"
   ]
  },
  {
   "cell_type": "code",
   "execution_count": null,
   "metadata": {},
   "outputs": [],
   "source": [
    "full_modular_range_equiv_left_shift"
   ]
  },
  {
   "cell_type": "code",
   "execution_count": null,
   "metadata": {},
   "outputs": [],
   "source": [
    "lower_bound = Add(Neg(two_pow_t_minus_one), one)"
   ]
  },
  {
   "cell_type": "code",
   "execution_count": null,
   "metadata": {},
   "outputs": [],
   "source": [
    "upper_bound = two_pow_t_minus_one"
   ]
  },
  {
   "cell_type": "markdown",
   "metadata": {},
   "source": [
    "For an instantiation further below, we will need to know that\n",
    "\n",
    "(2^{t - 1} - (-2^{t - 1} + 1)) = (2^{t} - 1)"
   ]
  },
  {
   "cell_type": "code",
   "execution_count": null,
   "metadata": {},
   "outputs": [],
   "source": [
    "bound_diff_eq_1 = subtract(upper_bound, lower_bound).simplification()"
   ]
  },
  {
   "cell_type": "code",
   "execution_count": null,
   "metadata": {},
   "outputs": [],
   "source": [
    "bound_diff_eq_2 = bound_diff_eq_1.inner_expr().rhs.operands[0].combine_exponents()"
   ]
  },
  {
   "cell_type": "code",
   "execution_count": null,
   "metadata": {},
   "outputs": [],
   "source": [
    "bound_diff_eq_3 = bound_diff_eq_2.inner_expr().rhs.with_subtraction_at(one)"
   ]
  },
  {
   "cell_type": "code",
   "execution_count": null,
   "metadata": {},
   "outputs": [],
   "source": [
    "# for the instantiation below, need to know that b_ is an Integer\n",
    "best_is_int"
   ]
  },
  {
   "cell_type": "code",
   "execution_count": null,
   "metadata": {},
   "outputs": [],
   "source": [
    "range_equiv_1 = full_modular_range_equiv_left_shift.instantiate(\n",
    "        {N: two_pow_t, a: lower_bound, b: upper_bound, c: b_, x: l})"
   ]
  },
  {
   "cell_type": "code",
   "execution_count": null,
   "metadata": {},
   "outputs": [],
   "source": [
    "# recall our definition of modular addition\n",
    "# (the t here is t_, the size of the first register)\n",
    "mod_add_def"
   ]
  },
  {
   "cell_type": "code",
   "execution_count": null,
   "metadata": {},
   "outputs": [],
   "source": [
    "# for the instantiation, we need to know that ell is an Integer:\n",
    "l_in_domain = range_equiv_1.lhs.all_conditions()[0]\n",
    "l_in_domain.derive_element_in_integer(assumptions=[l_in_domain])"
   ]
  },
  {
   "cell_type": "code",
   "execution_count": null,
   "metadata": {},
   "outputs": [],
   "source": [
    "b_mod_add_l_def = mod_add_def.instantiate({a:b_, b:l}, assumptions=[l_in_domain])"
   ]
  },
  {
   "cell_type": "code",
   "execution_count": null,
   "metadata": {},
   "outputs": [],
   "source": [
    "temp_for_instance_substitution = b_mod_add_l_def.derive_reversed().generalize(l, domain=l_in_domain.domain)"
   ]
  },
  {
   "cell_type": "code",
   "execution_count": null,
   "metadata": {},
   "outputs": [],
   "source": [
    "set_of_all_mod_add_equiv = range_equiv_1.lhs.instance_substitution(temp_for_instance_substitution)"
   ]
  },
  {
   "cell_type": "code",
   "execution_count": null,
   "metadata": {},
   "outputs": [],
   "source": [
    "range_equiv = set_of_all_mod_add_equiv.sub_right_side_into(range_equiv_1)"
   ]
  },
  {
   "cell_type": "code",
   "execution_count": null,
   "metadata": {},
   "outputs": [],
   "source": [
    "# from the numbers.summation pkg\n",
    "equiv_sums"
   ]
  },
  {
   "cell_type": "code",
   "execution_count": null,
   "metadata": {},
   "outputs": [],
   "source": [
    "equiv_sums_inst = equiv_sums.instantiate(\n",
    "        {fx: Prob(Equals(m_, x), m_),\n",
    "         gy: ModAdd(b_, y),\n",
    "         R: range_equiv.rhs,\n",
    "         S: range_equiv.lhs.domain,\n",
    "         x: k,\n",
    "         y: l})"
   ]
  },
  {
   "cell_type": "code",
   "execution_count": null,
   "metadata": {},
   "outputs": [],
   "source": [
    "# this helps the next step where we want to show Pr_m[m=a] is Complex\n",
    "equiv_sums_inst.antecedent.instance_expr.element.deduce_in_real()"
   ]
  },
  {
   "cell_type": "code",
   "execution_count": null,
   "metadata": {},
   "outputs": [],
   "source": [
    "from proveit import ExprTuple\n",
    "InSet(equiv_sums_inst.antecedent.instance_expr.element, Complex).prove().generalize([[a]], [[equiv_sums_inst.antecedent.domain]])"
   ]
  },
  {
   "cell_type": "code",
   "execution_count": null,
   "metadata": {},
   "outputs": [],
   "source": [
    "# now we can derive the consequent from equiv_sums_inst:\n",
    "shifted_all_prob_equals_one = equiv_sums_inst.derive_consequent().derive_reversed()"
   ]
  },
  {
   "cell_type": "code",
   "execution_count": null,
   "metadata": {},
   "outputs": [],
   "source": [
    "# Recall fail_sum_1 from earlier\n",
    "fail_sum_1"
   ]
  },
  {
   "cell_type": "code",
   "execution_count": null,
   "metadata": {},
   "outputs": [],
   "source": [
    "fail_sum_2 = shifted_all_prob_equals_one.sub_left_side_into(fail_sum_1)"
   ]
  },
  {
   "cell_type": "markdown",
   "metadata": {},
   "source": [
    "Now some work to establish that $-2^{t-1} + 1 \\le \\epsilon \\le 2^{t-1}$, so that we can eventually partition that first summation at index = $\\epsilon$."
   ]
  },
  {
   "cell_type": "code",
   "execution_count": null,
   "metadata": {},
   "outputs": [],
   "source": [
    "eps_upper_bound = eps_in_domain.derive_element_upper_bound()"
   ]
  },
  {
   "cell_type": "code",
   "execution_count": null,
   "metadata": {},
   "outputs": [],
   "source": [
    "Less(eps_upper_bound.rhs, Add(eps_upper_bound.rhs, two)).prove()"
   ]
  },
  {
   "cell_type": "code",
   "execution_count": null,
   "metadata": {},
   "outputs": [],
   "source": [
    "Less(eps_upper_bound.lhs, Add(eps_upper_bound.rhs, two)).prove().simplify()"
   ]
  },
  {
   "cell_type": "code",
   "execution_count": null,
   "metadata": {},
   "outputs": [],
   "source": [
    "Less(Neg(two_pow_t_minus_one), zero).prove()"
   ]
  },
  {
   "cell_type": "code",
   "execution_count": null,
   "metadata": {},
   "outputs": [],
   "source": [
    "Less(Neg(two_pow_t_minus_one), zero).derive_shifted(one)"
   ]
  },
  {
   "cell_type": "code",
   "execution_count": null,
   "metadata": {},
   "outputs": [],
   "source": [
    "eps_in_domain.derive_element_lower_bound()"
   ]
  },
  {
   "cell_type": "code",
   "execution_count": null,
   "metadata": {},
   "outputs": [],
   "source": [
    "Less(Add(Neg(two_pow_t_minus_one), one), eps_upper_bound.lhs).prove()"
   ]
  },
  {
   "cell_type": "markdown",
   "metadata": {},
   "source": [
    "Now, we're ready to partition our summation at the index value $\\epsilon$."
   ]
  },
  {
   "cell_type": "code",
   "execution_count": null,
   "metadata": {},
   "outputs": [],
   "source": [
    "shifted_all_prob_split_1 = shifted_all_prob_equals_one.lhs.partition(eps, side='after')"
   ]
  },
  {
   "cell_type": "markdown",
   "metadata": {},
   "source": [
    "And now we do some more work before being able to split again …"
   ]
  },
  {
   "cell_type": "code",
   "execution_count": null,
   "metadata": {},
   "outputs": [],
   "source": [
    "Less(Neg(eps), zero).prove()"
   ]
  },
  {
   "cell_type": "code",
   "execution_count": null,
   "metadata": {},
   "outputs": [],
   "source": [
    "Less(Neg(eps), eps).prove()"
   ]
  },
  {
   "cell_type": "code",
   "execution_count": null,
   "metadata": {},
   "outputs": [],
   "source": [
    "upper_bound_add_one = Add(eps_upper_bound.rhs, one)"
   ]
  },
  {
   "cell_type": "code",
   "execution_count": null,
   "metadata": {},
   "outputs": [],
   "source": [
    "Less(eps_upper_bound.rhs, upper_bound_add_one).prove()"
   ]
  },
  {
   "cell_type": "code",
   "execution_count": null,
   "metadata": {},
   "outputs": [],
   "source": [
    "Less(eps, upper_bound_add_one).prove()"
   ]
  },
  {
   "cell_type": "code",
   "execution_count": null,
   "metadata": {},
   "outputs": [],
   "source": [
    "Less(Neg(one), zero).prove()\n",
    "Less(eps, upper_bound_add_one).left_mult_both_sides(Neg(one)).inner_expr().rhs.distribute()"
   ]
  },
  {
   "cell_type": "code",
   "execution_count": null,
   "metadata": {},
   "outputs": [],
   "source": [
    "shifted_all_prob_split_1_lhs_sum_split = shifted_all_prob_split_1.rhs.operands[0].partition(Neg(eps), side='before')"
   ]
  },
  {
   "cell_type": "code",
   "execution_count": null,
   "metadata": {},
   "outputs": [],
   "source": [
    "# recall:\n",
    "shifted_all_prob_split_1"
   ]
  },
  {
   "cell_type": "code",
   "execution_count": null,
   "metadata": {},
   "outputs": [],
   "source": [
    "shifted_all_prob_split_2 = shifted_all_prob_split_1_lhs_sum_split.sub_right_side_into(shifted_all_prob_split_1)"
   ]
  },
  {
   "cell_type": "code",
   "execution_count": null,
   "metadata": {},
   "outputs": [],
   "source": [
    "shifted_all_prob_split_3 = shifted_all_prob_split_2.inner_expr().rhs.disassociate(0)"
   ]
  },
  {
   "cell_type": "code",
   "execution_count": null,
   "metadata": {},
   "outputs": [],
   "source": [
    "# recall:\n",
    "fail_sum_2"
   ]
  },
  {
   "cell_type": "code",
   "execution_count": null,
   "metadata": {},
   "outputs": [],
   "source": [
    "fail_sum_3 = shifted_all_prob_split_3.sub_right_side_into(fail_sum_2)"
   ]
  },
  {
   "cell_type": "code",
   "execution_count": null,
   "metadata": {},
   "outputs": [],
   "source": [
    "fail_sum_4 = fail_sum_3.inner_expr().rhs.disassociate(0)"
   ]
  },
  {
   "cell_type": "code",
   "execution_count": null,
   "metadata": {},
   "outputs": [],
   "source": [
    "register_qubit_born_rule"
   ]
  },
  {
   "cell_type": "code",
   "execution_count": null,
   "metadata": {},
   "outputs": [],
   "source": [
    "l_in_domain"
   ]
  },
  {
   "cell_type": "code",
   "execution_count": null,
   "metadata": {},
   "outputs": [],
   "source": [
    "# recall (and recall we have already proven that l is an Integer)\n",
    "l_in_domain"
   ]
  },
  {
   "cell_type": "code",
   "execution_count": null,
   "metadata": {},
   "outputs": [],
   "source": [
    "# recall:\n",
    "b_mod_add_l_def"
   ]
  },
  {
   "cell_type": "code",
   "execution_count": null,
   "metadata": {},
   "outputs": [],
   "source": [
    "InSet(Add(b_, l), Integer).prove(assumptions=[l_in_domain])"
   ]
  },
  {
   "cell_type": "code",
   "execution_count": null,
   "metadata": {},
   "outputs": [],
   "source": [
    "two_pow_t_is_nat_pos"
   ]
  },
  {
   "cell_type": "code",
   "execution_count": null,
   "metadata": {},
   "outputs": [],
   "source": [
    "b_add_l_mod_2t_in_non_neg_domain = b_mod_add_l_def.rhs.deduce_in_interval(assumptions=[l_in_domain])"
   ]
  },
  {
   "cell_type": "code",
   "execution_count": null,
   "metadata": {},
   "outputs": [],
   "source": [
    "b_mod_add_l_def.sub_left_side_into(b_add_l_mod_2t_in_non_neg_domain)"
   ]
  },
  {
   "cell_type": "code",
   "execution_count": null,
   "metadata": {},
   "outputs": [],
   "source": [
    "prob_b_mod_add_l_eq_1 = register_qubit_born_rule.instantiate(\n",
    "        {n: t_,\n",
    "         k: ModAdd(b_, l),\n",
    "         Psi: Psi_,\n",
    "         m: m_},\n",
    "         assumptions=[l_in_domain])"
   ]
  },
  {
   "cell_type": "code",
   "execution_count": null,
   "metadata": {},
   "outputs": [],
   "source": [
    "# recall:\n",
    "alpha_def"
   ]
  },
  {
   "cell_type": "code",
   "execution_count": null,
   "metadata": {},
   "outputs": [],
   "source": [
    "alpha_def_inst = alpha_def.instantiate(assumptions=[l_in_domain])"
   ]
  },
  {
   "cell_type": "code",
   "execution_count": null,
   "metadata": {},
   "outputs": [],
   "source": [
    "prob_as_alpha_sqrd = alpha_def_inst.sub_left_side_into(prob_b_mod_add_l_eq_1)"
   ]
  },
  {
   "cell_type": "markdown",
   "metadata": {},
   "source": [
    "Would like to prove that full_domain $\\supseteq$ neg_domain and full_domain $\\supseteq$ pos_domain, which allows us to later use inclusive_universal_quantification (see about 10 steps below)."
   ]
  },
  {
   "cell_type": "code",
   "execution_count": null,
   "metadata": {},
   "outputs": [],
   "source": [
    "# trivial, but verifying\n",
    "LessEq(Add(Neg(two_pow_t_minus_one), one), Add(Neg(two_pow_t_minus_one), one)).prove()"
   ]
  },
  {
   "cell_type": "code",
   "execution_count": null,
   "metadata": {},
   "outputs": [],
   "source": [
    "# recall:\n",
    "eps_upper_bound"
   ]
  },
  {
   "cell_type": "code",
   "execution_count": null,
   "metadata": {},
   "outputs": [],
   "source": [
    "eps_upper_bound_trans_01 = eps_upper_bound.derive_shifted(one)"
   ]
  },
  {
   "cell_type": "code",
   "execution_count": null,
   "metadata": {},
   "outputs": [],
   "source": [
    "eps_upper_bound_trans_02 = eps_upper_bound_trans_01.derive_negated().inner_expr().lhs.distribute()"
   ]
  },
  {
   "cell_type": "code",
   "execution_count": null,
   "metadata": {},
   "outputs": [],
   "source": [
    "Less(Neg(Add(eps, one)), zero).prove(assumptions=[eps_in_domain])"
   ]
  },
  {
   "cell_type": "code",
   "execution_count": null,
   "metadata": {},
   "outputs": [],
   "source": [
    "LessEq(Neg(Add(eps, one)), two_pow_t_minus_one).prove()"
   ]
  },
  {
   "cell_type": "code",
   "execution_count": null,
   "metadata": {},
   "outputs": [],
   "source": [
    "superset_eq(full_domain, neg_domain).prove(assumptions=[eps_in_domain])"
   ]
  },
  {
   "cell_type": "code",
   "execution_count": null,
   "metadata": {},
   "outputs": [],
   "source": [
    "pos_domain"
   ]
  },
  {
   "cell_type": "code",
   "execution_count": null,
   "metadata": {},
   "outputs": [],
   "source": [
    "LessEq(Add(Neg(two_pow_t_minus_one), one), Add(eps, one)).prove(assumptions=[eps_in_domain])"
   ]
  },
  {
   "cell_type": "code",
   "execution_count": null,
   "metadata": {},
   "outputs": [],
   "source": [
    "eps_upper_bound.derive_shifted(one).add_right(one)"
   ]
  },
  {
   "cell_type": "code",
   "execution_count": null,
   "metadata": {},
   "outputs": [],
   "source": [
    "superset_eq(full_domain, pos_domain).prove(assumptions=[eps_in_domain])"
   ]
  },
  {
   "cell_type": "markdown",
   "metadata": {},
   "source": [
    "Having established that full_domain $\\supseteq$ neg_domain and that full_domain $\\supseteq$ pos_domain, we can proceed to use inclusive_universal_quantification to create some equalities to then be used for instance_substitution:"
   ]
  },
  {
   "cell_type": "code",
   "execution_count": null,
   "metadata": {},
   "outputs": [],
   "source": [
    "forall_over_neg_domain = Forall(l, prob_as_alpha_sqrd.expr, domain=neg_domain)"
   ]
  },
  {
   "cell_type": "code",
   "execution_count": null,
   "metadata": {},
   "outputs": [],
   "source": [
    "# having trouble using the Forall.conclude_via_domain_inclusion because it doesn't instantiate the\n",
    "# theorem variable y to the desired instance_param, so building from scratch using the bare\n",
    "# inclusive_universal_quantification theorem in logic.sets.inclusion\n",
    "from proveit.logic.sets.inclusion import inclusive_universal_quantification\n",
    "from proveit import Function, A, B, P\n",
    "_x_sub = forall_over_neg_domain.instance_param\n",
    "_P_op = Function(P, _x_sub)\n",
    "_P_op_sub = forall_over_neg_domain.instance_expr\n",
    "_A_sub = full_domain\n",
    "_B_sub = neg_domain\n",
    "_y_sub = forall_over_neg_domain.instance_param\n",
    "prob_as_alpha_sqrd_over_neg_domain = inclusive_universal_quantification.instantiate(\n",
    "        {x: _x_sub,\n",
    "         _P_op: _P_op_sub,\n",
    "         A: _A_sub,\n",
    "         B: _B_sub,\n",
    "         y: _y_sub},\n",
    "         assumptions=[eps_in_domain],\n",
    "         auto_simplify=False).derive_consequent()"
   ]
  },
  {
   "cell_type": "code",
   "execution_count": null,
   "metadata": {},
   "outputs": [],
   "source": [
    "forall_over_pos_domain = Forall(l, prob_as_alpha_sqrd.expr, domain=pos_domain)"
   ]
  },
  {
   "cell_type": "code",
   "execution_count": null,
   "metadata": {},
   "outputs": [],
   "source": [
    "# having trouble using the Forall.conclude_via_domain_inclusion because it doesn't instantiate the\n",
    "# theorem variable y to the desired instance_param, so building from scratch using the bare\n",
    "# inclusive_universal_quantification theorem in logic.sets.inclusion\n",
    "from proveit.logic.sets.inclusion import inclusive_universal_quantification\n",
    "from proveit import Function, A, B, P\n",
    "_x_sub = forall_over_pos_domain.instance_param\n",
    "_P_op = Function(P, _x_sub)\n",
    "_P_op_sub = forall_over_pos_domain.instance_expr\n",
    "_A_sub = full_domain\n",
    "_B_sub = pos_domain\n",
    "_y_sub = forall_over_pos_domain.instance_param\n",
    "prob_as_alpha_sqrd_over_pos_domain = inclusive_universal_quantification.instantiate(\n",
    "        {x: _x_sub,\n",
    "         _P_op: _P_op_sub,\n",
    "         A: _A_sub,\n",
    "         B: _B_sub,\n",
    "         y: _y_sub},\n",
    "         assumptions=[eps_in_domain],\n",
    "         auto_simplify=False).derive_consequent()"
   ]
  },
  {
   "cell_type": "code",
   "execution_count": null,
   "metadata": {},
   "outputs": [],
   "source": [
    "# recall:\n",
    "fail_sum_4"
   ]
  },
  {
   "cell_type": "code",
   "execution_count": null,
   "metadata": {},
   "outputs": [],
   "source": [
    "neg_domain_sum_eq = fail_sum_4.rhs.operands[0].instance_substitution(\n",
    "        prob_as_alpha_sqrd_over_neg_domain, assumptions=[eps_in_domain])"
   ]
  },
  {
   "cell_type": "code",
   "execution_count": null,
   "metadata": {},
   "outputs": [],
   "source": [
    "pos_domain_sum_eq = fail_sum_4.rhs.operands[1].instance_substitution(\n",
    "        prob_as_alpha_sqrd_over_pos_domain, assumptions=[eps_in_domain])"
   ]
  },
  {
   "cell_type": "code",
   "execution_count": null,
   "metadata": {},
   "outputs": [],
   "source": [
    "fail_sum_5 = neg_domain_sum_eq.sub_right_side_into(fail_sum_4)"
   ]
  },
  {
   "cell_type": "code",
   "execution_count": null,
   "metadata": {},
   "outputs": [],
   "source": [
    "fail_sum_6 = pos_domain_sum_eq.sub_right_side_into(fail_sum_5)"
   ]
  },
  {
   "cell_type": "code",
   "execution_count": null,
   "metadata": {},
   "outputs": [],
   "source": [
    "%qed"
   ]
  },
  {
   "cell_type": "code",
   "execution_count": null,
   "metadata": {},
   "outputs": [],
   "source": []
  }
 ],
 "metadata": {
  "kernelspec": {
   "display_name": "Python 3",
   "language": "python",
   "name": "python3"
  }
 },
 "nbformat": 4,
 "nbformat_minor": 0
}
