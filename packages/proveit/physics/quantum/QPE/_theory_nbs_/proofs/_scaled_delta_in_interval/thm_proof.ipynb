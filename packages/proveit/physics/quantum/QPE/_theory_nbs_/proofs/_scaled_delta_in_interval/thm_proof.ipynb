{
 "cells": [
  {
   "cell_type": "markdown",
   "metadata": {},
   "source": [
    "Proof of <a class=\"ProveItLink\" href=\"../../../../../../_theory_nbs_/theory.ipynb\">proveit</a>.<a class=\"ProveItLink\" href=\"../../../../../_theory_nbs_/theory.ipynb\">physics</a>.<a class=\"ProveItLink\" href=\"../../../../_theory_nbs_/theory.ipynb\">quantum</a>.<a class=\"ProveItLink\" href=\"../../theory.ipynb\">QPE</a>.<a class=\"ProveItLink\" href=\"../../theorems.ipynb#scaled_delta_in_interval\">scaled_delta_in_interval</a> theorem\n",
    "========"
   ]
  },
  {
   "cell_type": "code",
   "execution_count": null,
   "metadata": {},
   "outputs": [],
   "source": [
    "import proveit\n",
    "theory = proveit.Theory() # the theorem's theory\n",
    "from proveit import a, b, c, x, defaults, ExprTuple\n",
    "from proveit.logic import Equals, InSet, NotEquals\n",
    "from proveit.numbers import Add, frac, Mult, Neg\n",
    "from proveit.numbers import zero, Complex, Real\n",
    "from proveit.numbers.rounding import real_minus_floor_interval\n",
    "from proveit.physics.quantum.QPE import best_def, b_, delta_def, delta_is_real, two_pow_t, phase_\n",
    "from proveit.physics.quantum.QPE import best_is_int, phase_in_interval, phase_is_real, two_pow_t_is_nat_pos"
   ]
  },
  {
   "cell_type": "code",
   "execution_count": null,
   "metadata": {},
   "outputs": [],
   "source": [
    "%proving scaled_delta_in_interval"
   ]
  },
  {
   "cell_type": "markdown",
   "metadata": {},
   "source": [
    "The proof utilizes the chain of equalities $2^t\\cdot \\delta = 2^t \\left(\\varphi - \\frac{b}{2^t}\\right) = 2^t \\left(\\varphi - \\frac{\\lfloor\\varphi\\cdot 2^t\\rfloor}{2^t}\\right) = \\varphi \\cdot 2^t - \\lfloor\\varphi\\cdot 2^t\\rfloor$, then calls upon a theorem for the value of an expression of the form $x - \\lfloor x \\rfloor$."
   ]
  },
  {
   "cell_type": "code",
   "execution_count": null,
   "metadata": {},
   "outputs": [],
   "source": [
    "scaled_delta = scaled_delta_in_interval.operands[0]"
   ]
  },
  {
   "cell_type": "code",
   "execution_count": null,
   "metadata": {},
   "outputs": [],
   "source": [
    "delta_def"
   ]
  },
  {
   "cell_type": "code",
   "execution_count": null,
   "metadata": {},
   "outputs": [],
   "source": [
    "eq_01 = delta_def.substitution(scaled_delta)"
   ]
  },
  {
   "cell_type": "code",
   "execution_count": null,
   "metadata": {},
   "outputs": [],
   "source": [
    "scaled_delta_expanded_dist = eq_01.rhs.distribution(1)"
   ]
  },
  {
   "cell_type": "code",
   "execution_count": null,
   "metadata": {},
   "outputs": [],
   "source": [
    "eq_02 = eq_01.apply_transitivity(scaled_delta_expanded_dist)"
   ]
  },
  {
   "cell_type": "code",
   "execution_count": null,
   "metadata": {},
   "outputs": [],
   "source": [
    "best_def"
   ]
  },
  {
   "cell_type": "code",
   "execution_count": null,
   "metadata": {},
   "outputs": [],
   "source": [
    "best_def_commuted = best_def.inner_expr().rhs.operands[0].commute()"
   ]
  },
  {
   "cell_type": "code",
   "execution_count": null,
   "metadata": {},
   "outputs": [],
   "source": [
    "eq_03 = eq_02.inner_expr().rhs.operands[1].operand.substitute(best_def_commuted.rhs)"
   ]
  },
  {
   "cell_type": "markdown",
   "metadata": {},
   "source": [
    "$(2^t\\cdot\\delta)$ has now been expressed in the form $x - \\lfloor x \\rfloor$, and we have a theorem for the value of such an expression:"
   ]
  },
  {
   "cell_type": "code",
   "execution_count": null,
   "metadata": {},
   "outputs": [],
   "source": [
    "real_minus_floor_interval"
   ]
  },
  {
   "cell_type": "markdown",
   "metadata": {},
   "source": [
    "We need to show that our eventual argument $x = 2^t\\cdot\\delta$ is Real, then instantiate our theorem:"
   ]
  },
  {
   "cell_type": "code",
   "execution_count": null,
   "metadata": {},
   "outputs": [],
   "source": [
    "phase_is_real"
   ]
  },
  {
   "cell_type": "code",
   "execution_count": null,
   "metadata": {},
   "outputs": [],
   "source": [
    "InSet(Mult(two_pow_t, phase_), Real).prove()"
   ]
  },
  {
   "cell_type": "code",
   "execution_count": null,
   "metadata": {},
   "outputs": [],
   "source": [
    "interval_claim = real_minus_floor_interval.instantiate({x:Mult(two_pow_t, phase_)})"
   ]
  },
  {
   "cell_type": "code",
   "execution_count": null,
   "metadata": {},
   "outputs": [],
   "source": [
    "eq_02.sub_left_side_into(interval_claim)"
   ]
  },
  {
   "cell_type": "code",
   "execution_count": null,
   "metadata": {},
   "outputs": [],
   "source": [
    "%qed"
   ]
  },
  {
   "cell_type": "code",
   "execution_count": null,
   "metadata": {},
   "outputs": [],
   "source": []
  }
 ],
 "metadata": {
  "kernelspec": {
   "display_name": "Python 3",
   "language": "python",
   "name": "python3"
  }
 },
 "nbformat": 4,
 "nbformat_minor": 0
}
