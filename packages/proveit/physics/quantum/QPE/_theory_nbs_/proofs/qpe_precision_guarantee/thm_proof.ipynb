{
 "cells": [
  {
   "cell_type": "markdown",
   "metadata": {},
   "source": [
    "Proof of <a class=\"ProveItLink\" href=\"../../../../../../_theory_nbs_/theory.ipynb\">proveit</a>.<a class=\"ProveItLink\" href=\"../../../../../_theory_nbs_/theory.ipynb\">physics</a>.<a class=\"ProveItLink\" href=\"../../../../_theory_nbs_/theory.ipynb\">quantum</a>.<a class=\"ProveItLink\" href=\"../../theory.ipynb\">QPE</a>.<a class=\"ProveItLink\" href=\"../../theorems.ipynb#qpe_precision_guarantee\">qpe_precision_guarantee</a> theorem\n",
    "========"
   ]
  },
  {
   "cell_type": "code",
   "execution_count": null,
   "metadata": {},
   "outputs": [],
   "source": [
    "import proveit\n",
    "theory = proveit.Theory() # the theorem's theory\n",
    "\n",
    "from proveit import defaults, Lambda\n",
    "from proveit import a, b, t\n",
    "from proveit.logic import Exists, Equals\n",
    "from proveit.numbers import NaturalPos\n",
    "from proveit.physics.quantum.QPE import (\n",
    "    _t, _b, _n, _phase, _t_in_natural_pos, _mod_add_def, ModAdd, _best_def, _eps,\n",
    "    _psi_t_def, _best_def, _delta_def, _Psi_def, \n",
    "    _sample_space_def, _success_def, _fail_def, _mod_add_def, _alpha_def,\n",
    "    _n_in_natural_pos, _t_req, _success_prob_guarantee)"
   ]
  },
  {
   "cell_type": "code",
   "execution_count": null,
   "metadata": {},
   "outputs": [],
   "source": [
    "%proving qpe_precision_guarantee"
   ]
  },
  {
   "cell_type": "code",
   "execution_count": null,
   "metadata": {},
   "outputs": [],
   "source": [
    "defaults.assumptions = qpe_guarantee.all_conditions()"
   ]
  },
  {
   "cell_type": "code",
   "execution_count": null,
   "metadata": {},
   "outputs": [],
   "source": [
    "_success_prob_guarantee"
   ]
  },
  {
   "cell_type": "markdown",
   "metadata": {},
   "source": [
    "### Now we will eliminate local axiom definitions from the proof requiremetns\n",
    "\n",
    "Perform a series of definition eliminations to get rid of local axiom requirements.  These are conservative definations that are used for convenience but are not logically required."
   ]
  },
  {
   "cell_type": "code",
   "execution_count": null,
   "metadata": {},
   "outputs": [],
   "source": [
    "prob_guarantee2 = _success_prob_guarantee.eliminate_definition(_alpha_def)\n",
    "prob_guarantee3 = prob_guarantee2.eliminate_definition(_mod_add_def)\n",
    "prob_guarantee4 = prob_guarantee3.eliminate_definition(_Psi_def)\n",
    "prob_guarantee5 = prob_guarantee4.eliminate_definition(_fail_def)\n",
    "prob_guarantee6 = prob_guarantee5.eliminate_definition(_success_def)\n",
    "prob_guarantee7 = prob_guarantee6.eliminate_definition(_sample_space_def, with_internal_wrapping=True)\n",
    "prob_guarantee8 = prob_guarantee7.eliminate_definition(_delta_def)\n",
    "prob_guarantee9 = prob_guarantee8.eliminate_definition(_best_def)\n",
    "prob_guarantee10 = prob_guarantee9.eliminate_definition(_psi_t_def, with_internal_wrapping=True)"
   ]
  },
  {
   "cell_type": "markdown",
   "metadata": {},
   "source": [
    "### Generalize over the other variables we wish to quantify over"
   ]
  },
  {
   "cell_type": "code",
   "execution_count": null,
   "metadata": {},
   "outputs": [],
   "source": [
    "(prob_guarantee10.generalize(\n",
    "            qpe_guarantee.instance_param_lists(),\n",
    "            conditions=qpe_guarantee.all_conditions())\n",
    "       .inner_expr().instance_expr.instance_expr.instance_expr.with_wrapping()\n",
    "       .inner_expr().instance_expr.instance_expr.with_wrapping())"
   ]
  },
  {
   "cell_type": "code",
   "execution_count": null,
   "metadata": {},
   "outputs": [],
   "source": [
    "%qed"
   ]
  },
  {
   "cell_type": "code",
   "execution_count": null,
   "metadata": {},
   "outputs": [],
   "source": []
  }
 ],
 "metadata": {
  "kernelspec": {
   "display_name": "Python 3",
   "language": "python",
   "name": "python3"
  }
 },
 "nbformat": 4,
 "nbformat_minor": 0
}
