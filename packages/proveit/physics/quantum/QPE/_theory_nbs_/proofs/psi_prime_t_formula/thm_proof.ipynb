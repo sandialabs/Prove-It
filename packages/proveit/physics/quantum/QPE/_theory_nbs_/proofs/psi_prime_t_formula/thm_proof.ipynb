{
 "cells": [
  {
   "cell_type": "markdown",
   "metadata": {},
   "source": [
    "Proof of <a class=\"ProveItLink\" href=\"../../../../../../_theory_nbs_/theory.ipynb\">proveit</a>.<a class=\"ProveItLink\" href=\"../../../../../_theory_nbs_/theory.ipynb\">physics</a>.<a class=\"ProveItLink\" href=\"../../../../_theory_nbs_/theory.ipynb\">quantum</a>.<a class=\"ProveItLink\" href=\"../../theory.ipynb\">QPE</a>.<a class=\"ProveItLink\" href=\"../../theorems.ipynb#psi_prime_t_formula\">psi_prime_t_formula</a> theorem\n",
    "========"
   ]
  },
  {
   "cell_type": "code",
   "execution_count": null,
   "metadata": {},
   "outputs": [],
   "source": [
    "import proveit\n",
    "theory = proveit.Theory() # the theorem's theory\n",
    "from proveit import defaults, Function\n",
    "from proveit import a, b, c, d, j, k, m, n, P, r, t, x, y, z, alpha\n",
    "from proveit.core_expr_types import fk, gk\n",
    "from proveit.linear_algebra import (\n",
    "    distribute_tensor_prod_over_sum, factor_complex_scalar_from_tensor_prod,\n",
    "    scalar_tensor_associativity, tensor_prod_linearity)\n",
    "from proveit.logic import Equals, InSet\n",
    "from proveit.numbers import zero, one, two, Add, Exp, Less, LessEq, Mult, Neg, subtract\n",
    "from proveit.numbers import Interval, Natural, NaturalPos\n",
    "from proveit.numbers.exponentiation import (\n",
    "        add_one_right_in_exp, exp_eq_for_eq_base_and_exp, exponential_monotonocity)\n",
    "from proveit.numbers.number_sets.natural_numbers import fold_forall_natural_pos\n",
    "from proveit.numbers.summation import distributive_summation_spec\n",
    "from proveit.physics.quantum import Ket, multi_tensor_prod_induct_0, multi_tensor_prod_induct_1, RegisterKet\n",
    "from proveit.physics.quantum.QPE import (\n",
    "    a17, p_prime_r_def, psi_prime_expansion, phase_is_real, psi_prime_t_def, two_pow_t,\n",
    "    two_pow_t_minus_one, two_pow_t_is_nat_pos, two_pow_t_less_one_is_nat_pos)"
   ]
  },
  {
   "cell_type": "code",
   "execution_count": null,
   "metadata": {},
   "outputs": [],
   "source": [
    "%proving psi_prime_t_formula"
   ]
  },
  {
   "cell_type": "code",
   "execution_count": null,
   "metadata": {},
   "outputs": [],
   "source": [
    "defaults.assumptions = psi_prime_t_formula.all_conditions()"
   ]
  },
  {
   "cell_type": "markdown",
   "metadata": {},
   "source": [
    "### Instantiate the Induction Theorem for an induction proof"
   ]
  },
  {
   "cell_type": "code",
   "execution_count": null,
   "metadata": {},
   "outputs": [],
   "source": [
    "# formula we want to prove\n",
    "psi_prime_t_formula.instance_expr"
   ]
  },
  {
   "cell_type": "code",
   "execution_count": null,
   "metadata": {},
   "outputs": [],
   "source": [
    "# the induction theorem for positive naturals\n",
    "fold_forall_natural_pos"
   ]
  },
  {
   "cell_type": "code",
   "execution_count": null,
   "metadata": {},
   "outputs": [],
   "source": [
    "# instantiate the induction theorem\n",
    "induction_inst = fold_forall_natural_pos.instantiate(\n",
    "    {Function(P,t):psi_prime_t_formula.instance_expr, m:t, n:t})"
   ]
  },
  {
   "cell_type": "markdown",
   "metadata": {},
   "source": [
    "### Some Related Properties and Definitions Needed for Later Processing\n",
    "Mainly: some domains and orderings. Notice that throughout the notebook, $t$ is a _variable_, not a literal."
   ]
  },
  {
   "cell_type": "code",
   "execution_count": null,
   "metadata": {},
   "outputs": [],
   "source": [
    "# used when processing products involving the phase phi\n",
    "phase_is_real"
   ]
  },
  {
   "cell_type": "code",
   "execution_count": null,
   "metadata": {},
   "outputs": [],
   "source": [
    "# need something here for VARIABLE t instead of LITERAL t\n",
    "# two_pow_t_is_nat_pos"
   ]
  },
  {
   "cell_type": "code",
   "execution_count": null,
   "metadata": {},
   "outputs": [],
   "source": [
    "two_pow_t_less_one = subtract(Exp(two, t), one)"
   ]
  },
  {
   "cell_type": "code",
   "execution_count": null,
   "metadata": {},
   "outputs": [],
   "source": [
    "# two_pow_t_less_one_is_nat_pos"
   ]
  },
  {
   "cell_type": "code",
   "execution_count": null,
   "metadata": {},
   "outputs": [],
   "source": [
    "two_pow_t_less_one.deduce_in_number_set(Natural)"
   ]
  },
  {
   "cell_type": "code",
   "execution_count": null,
   "metadata": {},
   "outputs": [],
   "source": [
    "LessEq(zero, two_pow_t_less_one).prove()"
   ]
  },
  {
   "cell_type": "code",
   "execution_count": null,
   "metadata": {},
   "outputs": [],
   "source": [
    "Less(t, Add(t, one)).prove()"
   ]
  },
  {
   "cell_type": "code",
   "execution_count": null,
   "metadata": {},
   "outputs": [],
   "source": [
    "exponential_monotonocity"
   ]
  },
  {
   "cell_type": "code",
   "execution_count": null,
   "metadata": {},
   "outputs": [],
   "source": [
    "exponential_monotonocity_inst = exponential_monotonocity.instantiate({a: two, b: t, c: Add(t, one)})"
   ]
  },
  {
   "cell_type": "code",
   "execution_count": null,
   "metadata": {},
   "outputs": [],
   "source": [
    "# Used to allow a splitting of a summation into the sum of two summations\n",
    "exponential_monotonocity_inst.derive_shifted(Neg(one))"
   ]
  },
  {
   "cell_type": "markdown",
   "metadata": {},
   "source": [
    "For later summation index manipulations, we want to establish that $2^{t+1}-2^{t} = 2^{t}$ (and more specifically we will need $2^{t+1}-2^{t}-1 = 2^{t}-1$)."
   ]
  },
  {
   "cell_type": "code",
   "execution_count": null,
   "metadata": {},
   "outputs": [],
   "source": [
    "add_one_right_in_exp"
   ]
  },
  {
   "cell_type": "code",
   "execution_count": null,
   "metadata": {},
   "outputs": [],
   "source": [
    "two_to_quant_t_plus_1_factored = add_one_right_in_exp.instantiate({a: two, b: t}).derive_reversed()"
   ]
  },
  {
   "cell_type": "code",
   "execution_count": null,
   "metadata": {},
   "outputs": [],
   "source": [
    "subtract(Exp(two, Add(t, one)), Exp(two, t))"
   ]
  },
  {
   "cell_type": "code",
   "execution_count": null,
   "metadata": {},
   "outputs": [],
   "source": [
    "subtract(Exp(two, Add(t, one)), Exp(two, t))"
   ]
  },
  {
   "cell_type": "code",
   "execution_count": null,
   "metadata": {},
   "outputs": [],
   "source": [
    "index_shift_simplification = two_to_quant_t_plus_1_factored.substitution(subtract(Exp(two, Add(t, one)), Exp(two, t)))"
   ]
  },
  {
   "cell_type": "code",
   "execution_count": null,
   "metadata": {},
   "outputs": [],
   "source": [
    "index_shift_simplification = index_shift_simplification.inner_expr().rhs.factor(Exp(two, t))"
   ]
  },
  {
   "cell_type": "code",
   "execution_count": null,
   "metadata": {},
   "outputs": [],
   "source": [
    "index_shift_simplification = index_shift_simplification.inner_expr().rhs.simplify()"
   ]
  },
  {
   "cell_type": "code",
   "execution_count": null,
   "metadata": {},
   "outputs": [],
   "source": [
    "index_shift_simplification = index_shift_simplification.right_add_both_sides(Neg(one))"
   ]
  },
  {
   "cell_type": "markdown",
   "metadata": {},
   "source": [
    "### Base Case"
   ]
  },
  {
   "cell_type": "code",
   "execution_count": null,
   "metadata": {},
   "outputs": [],
   "source": [
    "base_case = induction_inst.antecedent.operands[0]"
   ]
  },
  {
   "cell_type": "markdown",
   "metadata": {},
   "source": [
    "Axiomatically, $\\psi'_{t}$ is defined as a tensor product:"
   ]
  },
  {
   "cell_type": "code",
   "execution_count": null,
   "metadata": {},
   "outputs": [],
   "source": [
    "psi_prime_t_def"
   ]
  },
  {
   "cell_type": "markdown",
   "metadata": {},
   "source": [
    "For $\\psi'_{1}$, we create a reduction rule then instantiate the `psi_prime_t_def` with $t=1$:"
   ]
  },
  {
   "cell_type": "code",
   "execution_count": null,
   "metadata": {},
   "outputs": [],
   "source": [
    "temp_reduction_01 = Equals(subtract(one, one), zero).prove()"
   ]
  },
  {
   "cell_type": "code",
   "execution_count": null,
   "metadata": {},
   "outputs": [],
   "source": [
    "temp_reduction_02 = Equals(Neg(Neg(zero)), zero).prove()"
   ]
  },
  {
   "cell_type": "code",
   "execution_count": null,
   "metadata": {},
   "outputs": [],
   "source": [
    "temp_reduction_03 = Equals(Neg(zero), zero).prove()"
   ]
  },
  {
   "cell_type": "code",
   "execution_count": null,
   "metadata": {},
   "outputs": [],
   "source": [
    "# psi_prime_1_def = psi_prime_t_def.instantiate({t:one}, reductions=[temp_reduction])"
   ]
  },
  {
   "cell_type": "code",
   "execution_count": null,
   "metadata": {},
   "outputs": [],
   "source": [
    "# psi_prime_1_def = psi_prime_t_def.instantiate({t:one}, reductions=[temp_reduction_01, temp_reduction_02, temp_reduction_03])"
   ]
  },
  {
   "cell_type": "code",
   "execution_count": null,
   "metadata": {},
   "outputs": [],
   "source": [
    "psi_prime_1_def = psi_prime_t_def.instantiate({t:one})"
   ]
  },
  {
   "cell_type": "code",
   "execution_count": null,
   "metadata": {},
   "outputs": [],
   "source": [
    "# new — allowed because the start and end index, although equal,\n",
    "# are not identical\n",
    "psi_prime_1_def = psi_prime_t_def.instantiate({t:one}, auto_simplify=False)"
   ]
  },
  {
   "cell_type": "code",
   "execution_count": null,
   "metadata": {},
   "outputs": [],
   "source": [
    "# psi_prime_1_def.rhs.operands[0]._range_reduction()"
   ]
  },
  {
   "cell_type": "code",
   "execution_count": null,
   "metadata": {},
   "outputs": [],
   "source": [
    "# this no longer works, though\n",
    "# psi_prime_1_def = psi_prime_1_def.inner_expr().rhs.simplify()"
   ]
  },
  {
   "cell_type": "code",
   "execution_count": null,
   "metadata": {},
   "outputs": [],
   "source": [
    "sum_0_to_1 = base_case.rhs"
   ]
  },
  {
   "cell_type": "code",
   "execution_count": null,
   "metadata": {},
   "outputs": [],
   "source": [
    "sum_0_to_1_processed_01 = sum_0_to_1.inner_expr().domain.upper_bound.simplification()"
   ]
  },
  {
   "cell_type": "code",
   "execution_count": null,
   "metadata": {},
   "outputs": [],
   "source": [
    "# new step (replacing step below), using partition instead of split\n",
    "sum_0_to_1_processed_02 = sum_0_to_1_processed_01.inner_expr().rhs.first_partitioned()"
   ]
  },
  {
   "cell_type": "code",
   "execution_count": null,
   "metadata": {},
   "outputs": [],
   "source": [
    "# original step\n",
    "# sum_0_to_1_processed_02 = sum_0_to_1_processed_01.inner_expr().rhs.split_off_first()"
   ]
  },
  {
   "cell_type": "code",
   "execution_count": null,
   "metadata": {},
   "outputs": [],
   "source": [
    "# sum_0_to_1_processed_03 = sum_0_to_1_processed_02.inner_expr().rhs.simplify()"
   ]
  },
  {
   "cell_type": "code",
   "execution_count": null,
   "metadata": {},
   "outputs": [],
   "source": [
    "from proveit.physics.quantum import (\n",
    "        scalar_id_for_ket, single_qubit_register_one, single_qubit_register_zero)"
   ]
  },
  {
   "cell_type": "code",
   "execution_count": null,
   "metadata": {},
   "outputs": [],
   "source": [
    "single_qubit_register_zero"
   ]
  },
  {
   "cell_type": "code",
   "execution_count": null,
   "metadata": {},
   "outputs": [],
   "source": [
    "# sum_0_to_1_processed_04 = single_qubit_register_zero.sub_right_side_into(sum_0_to_1_processed_03)"
   ]
  },
  {
   "cell_type": "code",
   "execution_count": null,
   "metadata": {},
   "outputs": [],
   "source": [
    "sum_0_to_1_processed_04 = single_qubit_register_zero.sub_right_side_into(sum_0_to_1_processed_02)"
   ]
  },
  {
   "cell_type": "code",
   "execution_count": null,
   "metadata": {},
   "outputs": [],
   "source": [
    "single_qubit_register_one"
   ]
  },
  {
   "cell_type": "code",
   "execution_count": null,
   "metadata": {},
   "outputs": [],
   "source": [
    "sum_0_to_1_processed_05 = single_qubit_register_one.sub_right_side_into(sum_0_to_1_processed_04)"
   ]
  },
  {
   "cell_type": "code",
   "execution_count": null,
   "metadata": {},
   "outputs": [],
   "source": [
    "scalar_id_for_ket"
   ]
  },
  {
   "cell_type": "code",
   "execution_count": null,
   "metadata": {},
   "outputs": [],
   "source": [
    "scalar_id_for_ket_inst = scalar_id_for_ket.instantiate({k: zero})"
   ]
  },
  {
   "cell_type": "code",
   "execution_count": null,
   "metadata": {},
   "outputs": [],
   "source": [
    "sum_0_to_1_processed_06 = scalar_id_for_ket_inst.sub_right_side_into(sum_0_to_1_processed_05)"
   ]
  },
  {
   "cell_type": "code",
   "execution_count": null,
   "metadata": {},
   "outputs": [],
   "source": [
    "sum_0_to_1_processed_07 = sum_0_to_1_processed_06.sub_left_side_into(psi_prime_1_def)"
   ]
  },
  {
   "cell_type": "code",
   "execution_count": null,
   "metadata": {},
   "outputs": [],
   "source": [
    "sum_0_to_1_processed_01.sub_left_side_into(sum_0_to_1_processed_07)"
   ]
  },
  {
   "cell_type": "markdown",
   "metadata": {},
   "source": [
    "### Inductive Step"
   ]
  },
  {
   "cell_type": "code",
   "execution_count": null,
   "metadata": {},
   "outputs": [],
   "source": [
    "inductive_step = induction_inst.antecedent.operands[1]"
   ]
  },
  {
   "cell_type": "code",
   "execution_count": null,
   "metadata": {},
   "outputs": [],
   "source": [
    "defaults.assumptions = defaults.assumptions + inductive_step.conditions.entries"
   ]
  },
  {
   "cell_type": "markdown",
   "metadata": {},
   "source": [
    "### c_03"
   ]
  },
  {
   "cell_type": "markdown",
   "metadata": {},
   "source": [
    "First, split the summation (c_03):\n",
    "$\\sum_{k=0}^{2^{t^*}-1} e^{2\\pi i \\varphi k} |k\\rangle_{t^*} = \\sum_{k=0}^{2^{t^{\\prime}}-1} e^{2\\pi i \\varphi k} |k\\rangle_{t^*} + \\sum_{k=2^{t^{\\prime}}}^{2^{t^*}-1} e^{2\\pi i \\varphi k} |k\\rangle_{t^*}$"
   ]
  },
  {
   "cell_type": "code",
   "execution_count": null,
   "metadata": {},
   "outputs": [],
   "source": [
    "summation_split = inductive_step.instance_expr.rhs.split(two_pow_t_less_one)"
   ]
  },
  {
   "cell_type": "markdown",
   "metadata": {},
   "source": [
    "Then shift the second summation of that split, so that the two summations then have the same index domain:"
   ]
  },
  {
   "cell_type": "code",
   "execution_count": null,
   "metadata": {},
   "outputs": [],
   "source": [
    "# grab the second summation of the summation split\n",
    "summation_split_rhs_sum = summation_split.rhs.operands[1]"
   ]
  },
  {
   "cell_type": "code",
   "execution_count": null,
   "metadata": {},
   "outputs": [],
   "source": [
    "# shift the index for the rhs sum and use a previously-derived reduction formula\n",
    "# to simplify the resulting upper limit for index k\n",
    "rhs_sum_shifted = summation_split_rhs_sum.shift(Neg(Exp(two, t)), reductions=[index_shift_simplification])"
   ]
  },
  {
   "cell_type": "code",
   "execution_count": null,
   "metadata": {},
   "outputs": [],
   "source": [
    "# then perform some simplifications on pieces of the resulting summand:\n",
    "# the exponent of the exponential factor\n",
    "rhs_sum_shifted = rhs_sum_shifted.inner_expr().rhs.summand.operands[0].exponent.operands[4].operands[1].simplify()"
   ]
  },
  {
   "cell_type": "code",
   "execution_count": null,
   "metadata": {},
   "outputs": [],
   "source": [
    "# then perform some simplifications on pieces of the resulting summand:\n",
    "# the ket factor\n",
    "rhs_sum_shifted = rhs_sum_shifted.inner_expr().rhs.summand.operands[1].operands[0].operands[1].simplify()"
   ]
  },
  {
   "cell_type": "markdown",
   "metadata": {},
   "source": [
    "### c_05\n",
    "Substitute that shifted-and-simplified summation back into the split-summation expression from earlier:"
   ]
  },
  {
   "cell_type": "code",
   "execution_count": null,
   "metadata": {},
   "outputs": [],
   "source": [
    "summation_split_shifted = rhs_sum_shifted.sub_right_side_into(summation_split)"
   ]
  },
  {
   "cell_type": "markdown",
   "metadata": {},
   "source": [
    "### c_06\n",
    "We want to rewrite summand of that 2nd summation now by (1) expanding the exponential term and (2) rewriting the $|k+2^t{\\rangle}_{t+1}$ ket as $|1\\rangle + |k{\\rangle}_t$. This takes some work, as these expressions involve the index $k$ and thus we need to eventually use `instance_substitute` on the inner_expr()."
   ]
  },
  {
   "cell_type": "code",
   "execution_count": null,
   "metadata": {},
   "outputs": [],
   "source": [
    "summand_processed = rhs_sum_shifted.rhs.summand"
   ]
  },
  {
   "cell_type": "code",
   "execution_count": null,
   "metadata": {},
   "outputs": [],
   "source": [
    "summand_processed = summand_processed.inner_expr().operands[0].exponent.distribution(4, assumptions=[*defaults.assumptions, InSet(k, Interval(zero, subtract(Exp(two, t), one)))])"
   ]
  },
  {
   "cell_type": "code",
   "execution_count": null,
   "metadata": {},
   "outputs": [],
   "source": [
    "summand_processed = summand_processed.inner_expr().rhs.operands[0].exponent_separate(assumptions=[*defaults.assumptions, InSet(k, Interval(zero, subtract(Exp(two, t), one)))])"
   ]
  },
  {
   "cell_type": "code",
   "execution_count": null,
   "metadata": {},
   "outputs": [],
   "source": [
    "# commute the ket label on the rhs to format it for replacement\n",
    "summand_processed = summand_processed.inner_expr().rhs.operands[1].label.commute(assumptions=[*defaults.assumptions, InSet(k, Interval(zero, subtract(Exp(two, t), one)))])"
   ]
  },
  {
   "cell_type": "code",
   "execution_count": null,
   "metadata": {},
   "outputs": [],
   "source": [
    "multi_tensor_prod_induct_1"
   ]
  },
  {
   "cell_type": "code",
   "execution_count": null,
   "metadata": {},
   "outputs": [],
   "source": [
    "multi_tensor_prod_induct_1_inst = multi_tensor_prod_induct_1.instantiate({t: t, k: k}, assumptions=[*defaults.assumptions, InSet(k, Interval(zero, subtract(Exp(two, t), one)))] )"
   ]
  },
  {
   "cell_type": "code",
   "execution_count": null,
   "metadata": {},
   "outputs": [],
   "source": [
    "summand_processed = multi_tensor_prod_induct_1_inst.sub_left_side_into(summand_processed)"
   ]
  },
  {
   "cell_type": "code",
   "execution_count": null,
   "metadata": {},
   "outputs": [],
   "source": [
    "summand_processed = summand_processed.inner_expr().rhs.operands[0].commute(assumptions=[*defaults.assumptions, InSet(k, Interval(zero, subtract(Exp(two, t), one)))])"
   ]
  },
  {
   "cell_type": "code",
   "execution_count": null,
   "metadata": {},
   "outputs": [],
   "source": [
    "summand_processed_generalized = summand_processed.generalize(k, domain=Interval(zero, subtract(Exp(two, t), one)))"
   ]
  },
  {
   "cell_type": "code",
   "execution_count": null,
   "metadata": {},
   "outputs": [],
   "source": [
    "summation_split_shifted = summation_split_shifted.inner_expr().rhs.operands[1].instance_substitute(summand_processed_generalized)"
   ]
  },
  {
   "cell_type": "markdown",
   "metadata": {},
   "source": [
    "We also then want to (1) pull the tensor product out of the 2nd summation and (2) pull the non-$k$-dependent exponential factor out of the 2nd summation."
   ]
  },
  {
   "cell_type": "code",
   "execution_count": null,
   "metadata": {},
   "outputs": [],
   "source": [
    "# for convenience:\n",
    "temp_factors = summation_split_shifted.rhs.operands[1].summand.operands[0]"
   ]
  },
  {
   "cell_type": "code",
   "execution_count": null,
   "metadata": {},
   "outputs": [],
   "source": [
    "# for convenience:\n",
    "temp_factor_01 = temp_factors.operands[0]"
   ]
  },
  {
   "cell_type": "code",
   "execution_count": null,
   "metadata": {},
   "outputs": [],
   "source": [
    "# for convenience:\n",
    "temp_factor_02 = temp_factors.operands[1]"
   ]
  },
  {
   "cell_type": "code",
   "execution_count": null,
   "metadata": {},
   "outputs": [],
   "source": []
  },
  {
   "cell_type": "code",
   "execution_count": null,
   "metadata": {},
   "outputs": [],
   "source": [
    "tensor_prod_linearity"
   ]
  },
  {
   "cell_type": "code",
   "execution_count": null,
   "metadata": {},
   "outputs": [],
   "source": [
    "tensor_prod_sub = tensor_prod_linearity.instantiate(\n",
    "        {j: k, a: Ket(one), b: RegisterKet(j, t), c: zero,\n",
    "         d: subtract(Exp(two, t), one), t: t, fk: temp_factors},\n",
    "        assumptions=[*defaults.assumptions, InSet(k, Interval(zero, subtract(Exp(two, t), one)))])"
   ]
  },
  {
   "cell_type": "code",
   "execution_count": null,
   "metadata": {},
   "outputs": [],
   "source": [
    "summation_split_shifted = tensor_prod_sub.sub_right_side_into(summation_split_shifted)"
   ]
  },
  {
   "cell_type": "code",
   "execution_count": null,
   "metadata": {},
   "outputs": [],
   "source": [
    "distributive_summation_spec"
   ]
  },
  {
   "cell_type": "code",
   "execution_count": null,
   "metadata": {},
   "outputs": [],
   "source": [
    "distributive_summation_spec_inst = distributive_summation_spec.instantiate(\n",
    "        {j:k, c:zero, d:subtract(Exp(two, t), one), x:temp_factor_01, gk:temp_factor_02, fk:RegisterKet(k, t)})"
   ]
  },
  {
   "cell_type": "code",
   "execution_count": null,
   "metadata": {},
   "outputs": [],
   "source": [
    "summation_split_shifted = distributive_summation_spec_inst.sub_right_side_into(summation_split_shifted)"
   ]
  },
  {
   "cell_type": "markdown",
   "metadata": {},
   "source": [
    "Now we want to effect a substitution into the first summation on the rhs, taking $|k{\\rangle}_{t+1}$ to $|0\\rangle{}\\otimes|k{\\rangle}_{t}$. As with the earlier effort inside the 2nd summation, this is somewhat challenging because the replacement involves an expression containing the index $k$ and thus eventually requires an `instance_substitute` step."
   ]
  },
  {
   "cell_type": "code",
   "execution_count": null,
   "metadata": {},
   "outputs": [],
   "source": [
    "# our axiom/theorem to apply (in reverse)\n",
    "multi_tensor_prod_induct_0"
   ]
  },
  {
   "cell_type": "code",
   "execution_count": null,
   "metadata": {},
   "outputs": [],
   "source": [
    "# our axiom/theorem instantiated\n",
    "multi_tensor_prod_induct_0_inst_reversed = multi_tensor_prod_induct_0.instantiate(\n",
    "        {t: t, k: k},\n",
    "        assumptions=[*defaults.assumptions, InSet(k, Interval(zero, subtract(Exp(two, t), one)))]).derive_reversed()"
   ]
  },
  {
   "cell_type": "code",
   "execution_count": null,
   "metadata": {},
   "outputs": [],
   "source": [
    "first_summand = summation_split_shifted.rhs.operands[0].summand"
   ]
  },
  {
   "cell_type": "code",
   "execution_count": null,
   "metadata": {},
   "outputs": [],
   "source": [
    "first_summand_judgment = multi_tensor_prod_induct_0_inst_reversed.substitution(first_summand.inner_expr().operands[1])"
   ]
  },
  {
   "cell_type": "code",
   "execution_count": null,
   "metadata": {},
   "outputs": [],
   "source": [
    "first_summand_judgment_gen = first_summand_judgment.generalize(k, domain=Interval(zero, subtract(Exp(two, t), one)))"
   ]
  },
  {
   "cell_type": "code",
   "execution_count": null,
   "metadata": {},
   "outputs": [],
   "source": [
    "summation_split_shifted = summation_split_shifted.inner_expr().rhs.operands[0].instance_substitute(first_summand_judgment_gen)"
   ]
  },
  {
   "cell_type": "markdown",
   "metadata": {},
   "source": [
    "Next we want to pull the $|0\\rangle$ out of the first summation, so again we use tensor_prod_linearity:"
   ]
  },
  {
   "cell_type": "code",
   "execution_count": null,
   "metadata": {},
   "outputs": [],
   "source": [
    "tensor_prod_linearity"
   ]
  },
  {
   "cell_type": "code",
   "execution_count": null,
   "metadata": {},
   "outputs": [],
   "source": [
    "tensor_prod_sub = tensor_prod_linearity.instantiate(\n",
    "        {j: k, a: Ket(zero), b: RegisterKet(j, t), c: zero,\n",
    "         d: subtract(Exp(two, t), one), t: t, fk: temp_factor_02},\n",
    "        assumptions=[*defaults.assumptions, InSet(k, Interval(zero, subtract(Exp(two, t), one)))])"
   ]
  },
  {
   "cell_type": "code",
   "execution_count": null,
   "metadata": {},
   "outputs": [],
   "source": [
    "summation_split_shifted = tensor_prod_sub.sub_right_side_into(summation_split_shifted)"
   ]
  },
  {
   "cell_type": "markdown",
   "metadata": {},
   "source": [
    "We need a few more manipulations of that second term on the rhs: pulling the exponential factor out to the front and reassociating."
   ]
  },
  {
   "cell_type": "code",
   "execution_count": null,
   "metadata": {},
   "outputs": [],
   "source": [
    "factor_complex_scalar_from_tensor_prod"
   ]
  },
  {
   "cell_type": "code",
   "execution_count": null,
   "metadata": {},
   "outputs": [],
   "source": [
    "# for convenience, name that 2nd summation on the rhs\n",
    "the_summation_factor = summation_split_shifted.rhs.operands[1].operands[1].operands[1]"
   ]
  },
  {
   "cell_type": "code",
   "execution_count": null,
   "metadata": {},
   "outputs": [],
   "source": [
    "temp_factored_tensor_prod = factor_complex_scalar_from_tensor_prod.instantiate(\n",
    "        {m: one, n: zero, alpha: temp_factor_01, x: (Ket(one),), y: the_summation_factor},\n",
    "        assumptions=[*defaults.assumptions, InSet(k, Interval(zero, subtract(Exp(two, t), one)))])"
   ]
  },
  {
   "cell_type": "code",
   "execution_count": null,
   "metadata": {},
   "outputs": [],
   "source": [
    "summation_split_shifted = temp_factored_tensor_prod.sub_right_side_into(summation_split_shifted)"
   ]
  },
  {
   "cell_type": "code",
   "execution_count": null,
   "metadata": {},
   "outputs": [],
   "source": [
    "scalar_tensor_associativity"
   ]
  },
  {
   "cell_type": "code",
   "execution_count": null,
   "metadata": {},
   "outputs": [],
   "source": [
    "scalar_tensor_associativity_inst = scalar_tensor_associativity.instantiate(\n",
    "        {alpha: temp_factor_01, x: Ket(one), y: the_summation_factor})"
   ]
  },
  {
   "cell_type": "code",
   "execution_count": null,
   "metadata": {},
   "outputs": [],
   "source": [
    "summation_split_shifted = scalar_tensor_associativity_inst.sub_right_side_into(summation_split_shifted)"
   ]
  },
  {
   "cell_type": "code",
   "execution_count": null,
   "metadata": {},
   "outputs": [],
   "source": [
    "distribute_tensor_prod_over_sum"
   ]
  },
  {
   "cell_type": "code",
   "execution_count": null,
   "metadata": {},
   "outputs": [],
   "source": [
    "from proveit import Variable\n",
    "i_var = Variable('i')"
   ]
  },
  {
   "cell_type": "code",
   "execution_count": null,
   "metadata": {},
   "outputs": [],
   "source": [
    "distribute_tensor_prod_over_sum_inst = distribute_tensor_prod_over_sum.instantiate(\n",
    "        {i_var: zero, j: two, k: one, y: (Ket(zero), Mult(temp_factor_01, Ket(one))), z: (the_summation_factor, )},\n",
    "        assumptions=[*defaults.assumptions, InSet(k, Interval(zero, subtract(Exp(two, t), one)))])"
   ]
  },
  {
   "cell_type": "code",
   "execution_count": null,
   "metadata": {},
   "outputs": [],
   "source": [
    "summation_split_shifted = distribute_tensor_prod_over_sum_inst.sub_left_side_into(summation_split_shifted)"
   ]
  },
  {
   "cell_type": "code",
   "execution_count": null,
   "metadata": {},
   "outputs": [],
   "source": [
    "p_prime_r_def"
   ]
  },
  {
   "cell_type": "code",
   "execution_count": null,
   "metadata": {},
   "outputs": [],
   "source": [
    "p_prime_t = p_prime_r_def.instantiate({r:t})"
   ]
  },
  {
   "cell_type": "code",
   "execution_count": null,
   "metadata": {},
   "outputs": [],
   "source": [
    "summation_split_shifted = p_prime_t.sub_left_side_into(summation_split_shifted)"
   ]
  },
  {
   "cell_type": "code",
   "execution_count": null,
   "metadata": {},
   "outputs": [],
   "source": [
    "psi_prime_t_formula"
   ]
  },
  {
   "cell_type": "code",
   "execution_count": null,
   "metadata": {},
   "outputs": [],
   "source": [
    "# Recall our inductive hypothesis:\n",
    "for item in defaults.assumptions:\n",
    "    if isinstance(item, Equals):\n",
    "        inductive_hypothesis = item\n",
    "inductive_hypothesis"
   ]
  },
  {
   "cell_type": "code",
   "execution_count": null,
   "metadata": {},
   "outputs": [],
   "source": [
    "summation_split_shifted = inductive_hypothesis.sub_left_side_into(summation_split_shifted)"
   ]
  },
  {
   "cell_type": "code",
   "execution_count": null,
   "metadata": {},
   "outputs": [],
   "source": [
    "psi_prime_expansion_inst = psi_prime_expansion.instantiate({t: t})"
   ]
  },
  {
   "cell_type": "code",
   "execution_count": null,
   "metadata": {},
   "outputs": [],
   "source": [
    "psi_prime_t_plus_1_formula = psi_prime_expansion_inst.sub_left_side_into(summation_split_shifted).derive_reversed()"
   ]
  },
  {
   "cell_type": "code",
   "execution_count": null,
   "metadata": {},
   "outputs": [],
   "source": [
    "inductive_step.prove()"
   ]
  },
  {
   "cell_type": "code",
   "execution_count": null,
   "metadata": {},
   "outputs": [],
   "source": [
    "induction_inst.derive_consequent()"
   ]
  },
  {
   "cell_type": "code",
   "execution_count": null,
   "metadata": {},
   "outputs": [],
   "source": [
    "%qed"
   ]
  },
  {
   "cell_type": "code",
   "execution_count": null,
   "metadata": {},
   "outputs": [],
   "source": []
  }
 ],
 "metadata": {
  "kernelspec": {
   "display_name": "Python 3",
   "language": "python",
   "name": "python3"
  }
 },
 "nbformat": 4,
 "nbformat_minor": 0
}
