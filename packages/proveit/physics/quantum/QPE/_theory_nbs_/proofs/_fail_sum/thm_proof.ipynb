{
 "cells": [
  {
   "cell_type": "markdown",
   "metadata": {},
   "source": [
    "Proof of <a class=\"ProveItLink\" href=\"../../../../../../_theory_nbs_/theory.ipynb\">proveit</a>.<a class=\"ProveItLink\" href=\"../../../../../_theory_nbs_/theory.ipynb\">physics</a>.<a class=\"ProveItLink\" href=\"../../../../_theory_nbs_/theory.ipynb\">quantum</a>.<a class=\"ProveItLink\" href=\"../../theory.ipynb\">QPE</a>.<a class=\"ProveItLink\" href=\"../../theorems.ipynb#_fail_sum\">_fail_sum</a> theorem\n",
    "========"
   ]
  },
  {
   "cell_type": "code",
   "execution_count": null,
   "metadata": {},
   "outputs": [],
   "source": [
    "import proveit\n",
    "theory = proveit.Theory() # the theorem's theory\n",
    "\n",
    "from proveit import defaults, Lambda\n",
    "from proveit import a, b, c, e, f, l, m, x, y, A, B, C, N, Q, X, Omega\n",
    "from proveit.logic import Or, Forall, InSet, Union, Disjoint\n",
    "from proveit.logic.sets.functions.injections import subset_injection\n",
    "from proveit.logic.sets.functions.bijections import bijection_transitivity\n",
    "from proveit.numbers import (zero, one, Add, Neg, greater, Less)\n",
    "from proveit.numbers.modular import interval_left_shift_bijection\n",
    "from proveit.statistics import prob_of_disjoint_events_is_prob_sum\n",
    "from proveit.physics.quantum import NumKet\n",
    "from proveit.physics.quantum.QPE import (\n",
    "    _t, _best_floor_is_int, _e_domain_sorting,\n",
    "    _two_pow_t, _two_pow_t__minus_one, _b_floor, _t_in_natural_pos,\n",
    "    _two_pow_t_minus_one_is_nat_pos, _best_floor_def, _Omega,\n",
    "    _alpha_m_def, _full_domain, _neg_domain, _pos_domain,\n",
    "    _modabs_in_full_domain_simp, ModAdd, _sample_space_bijection,\n",
    "    _Omega_is_sample_space, _outcome_prob, _fail_def,\n",
    "    _fail_sum_prob_conds_equiv_lemma)"
   ]
  },
  {
   "cell_type": "code",
   "execution_count": null,
   "metadata": {},
   "outputs": [],
   "source": [
    "%proving _fail_sum"
   ]
  },
  {
   "cell_type": "code",
   "execution_count": null,
   "metadata": {},
   "outputs": [],
   "source": [
    "defaults.assumptions = _fail_sum.all_conditions()"
   ]
  },
  {
   "cell_type": "code",
   "execution_count": null,
   "metadata": {},
   "outputs": [],
   "source": [
    "e_in_domain = defaults.assumptions[0]"
   ]
  },
  {
   "cell_type": "code",
   "execution_count": null,
   "metadata": {},
   "outputs": [],
   "source": [
    "defaults.preserved_exprs = {e_in_domain.domain.upper_bound.operands[0]}"
   ]
  },
  {
   "cell_type": "markdown",
   "metadata": {},
   "source": [
    "## Start with the $P_{\\textrm{fail}}$ definition"
   ]
  },
  {
   "cell_type": "code",
   "execution_count": null,
   "metadata": {},
   "outputs": [],
   "source": [
    "fail_def_inst = _fail_def.instantiate()"
   ]
  },
  {
   "cell_type": "markdown",
   "metadata": {},
   "source": [
    "## We will next translate from $m \\in \\{0~\\ldotp \\ldotp~2^{t} - 1\\}$ to $b_f \\oplus l$ with $l \\in \\{-2^{t-1} + 1 ~\\ldotp \\ldotp~2^{t-1}\\}$"
   ]
  },
  {
   "cell_type": "code",
   "execution_count": null,
   "metadata": {},
   "outputs": [],
   "source": [
    "lower_bound = _neg_domain.lower_bound"
   ]
  },
  {
   "cell_type": "code",
   "execution_count": null,
   "metadata": {},
   "outputs": [],
   "source": [
    "upper_bound = _pos_domain.upper_bound"
   ]
  },
  {
   "cell_type": "code",
   "execution_count": null,
   "metadata": {},
   "outputs": [],
   "source": [
    "interval_left_shift_bijection"
   ]
  },
  {
   "cell_type": "code",
   "execution_count": null,
   "metadata": {},
   "outputs": [],
   "source": [
    "lambda_map_bijection = interval_left_shift_bijection.instantiate(\n",
    "    {a:lower_bound, b:upper_bound, c:_b_floor, N:_two_pow_t, x:l})"
   ]
  },
  {
   "cell_type": "markdown",
   "metadata": {},
   "source": [
    "Use the $\\oplus$ notation within kets (but not otherwise, for simplification purposed):"
   ]
  },
  {
   "cell_type": "code",
   "execution_count": null,
   "metadata": {},
   "outputs": [],
   "source": [
    "b_modadd_l__def = ModAdd(_b_floor, l).definition(assumptions=[InSet(l, _full_domain)])"
   ]
  },
  {
   "cell_type": "code",
   "execution_count": null,
   "metadata": {},
   "outputs": [],
   "source": [
    "defaults.replacements = [b_modadd_l__def.derive_reversed().substitution(NumKet(b_modadd_l__def.rhs, _t))]"
   ]
  },
  {
   "cell_type": "code",
   "execution_count": null,
   "metadata": {},
   "outputs": [],
   "source": [
    "transformed_fail_def = fail_def_inst.inner_expr().rhs.transform(\n",
    "    lambda_map_bijection.element, lambda_map_bijection.domain.domain, _Omega)"
   ]
  },
  {
   "cell_type": "markdown",
   "metadata": {},
   "source": [
    "## Proceed to split the probability of this event into the sum of two disjoint possibilities\n",
    "\n",
    "Our goal will be to apply the following theorem:"
   ]
  },
  {
   "cell_type": "code",
   "execution_count": null,
   "metadata": {},
   "outputs": [],
   "source": [
    "prob_of_disjoint_events_is_prob_sum"
   ]
  },
  {
   "cell_type": "markdown",
   "metadata": {},
   "source": [
    "### Prove the $|l|_{\\textrm{mod}~2^t} > e$ condition for either the positive or negative domain for simplification purposes"
   ]
  },
  {
   "cell_type": "code",
   "execution_count": null,
   "metadata": {},
   "outputs": [],
   "source": [
    "condition = transformed_fail_def.rhs.non_domain_condition()"
   ]
  },
  {
   "cell_type": "code",
   "execution_count": null,
   "metadata": {},
   "outputs": [],
   "source": [
    "neg_domain_assumptions = [InSet(l, _neg_domain), *_fail_sum.all_conditions()]"
   ]
  },
  {
   "cell_type": "code",
   "execution_count": null,
   "metadata": {},
   "outputs": [],
   "source": [
    "pos_domain_assumptions = [InSet(l, _pos_domain), *_fail_sum.all_conditions()]"
   ]
  },
  {
   "cell_type": "code",
   "execution_count": null,
   "metadata": {},
   "outputs": [],
   "source": [
    "_e_domain_sorting"
   ]
  },
  {
   "cell_type": "code",
   "execution_count": null,
   "metadata": {},
   "outputs": [],
   "source": [
    "_e_domain_sorting.instantiate()"
   ]
  },
  {
   "cell_type": "code",
   "execution_count": null,
   "metadata": {},
   "outputs": [],
   "source": [
    "_modabs_in_full_domain_simp"
   ]
  },
  {
   "cell_type": "code",
   "execution_count": null,
   "metadata": {},
   "outputs": [],
   "source": [
    "absmod_posdomain_simp = _modabs_in_full_domain_simp.instantiate(\n",
    "    assumptions=pos_domain_assumptions)"
   ]
  },
  {
   "cell_type": "code",
   "execution_count": null,
   "metadata": {},
   "outputs": [],
   "source": [
    "absmod_negdomain_simp = _modabs_in_full_domain_simp.instantiate(\n",
    "    assumptions=neg_domain_assumptions)"
   ]
  },
  {
   "cell_type": "code",
   "execution_count": null,
   "metadata": {},
   "outputs": [],
   "source": [
    "pos_cond_eval = absmod_posdomain_simp.sub_left_side_into(\n",
    "    greater(l, e), assumptions=pos_domain_assumptions).evaluation()"
   ]
  },
  {
   "cell_type": "code",
   "execution_count": null,
   "metadata": {},
   "outputs": [],
   "source": [
    "neg_cond_eval = absmod_negdomain_simp.sub_left_side_into(\n",
    "    greater(Neg(l), e), assumptions=neg_domain_assumptions).evaluation()"
   ]
  },
  {
   "cell_type": "markdown",
   "metadata": {},
   "source": [
    "### Prove the proper injective mapping condition then apply `prob_of_disjoint_events_is_prob_sum`"
   ]
  },
  {
   "cell_type": "code",
   "execution_count": null,
   "metadata": {},
   "outputs": [],
   "source": [
    "circuit_map = Lambda(l, transformed_fail_def.rhs.instance_expr)"
   ]
  },
  {
   "cell_type": "code",
   "execution_count": null,
   "metadata": {},
   "outputs": [],
   "source": [
    "lambda_map_bijection"
   ]
  },
  {
   "cell_type": "code",
   "execution_count": null,
   "metadata": {},
   "outputs": [],
   "source": [
    "_sample_space_bijection"
   ]
  },
  {
   "cell_type": "code",
   "execution_count": null,
   "metadata": {},
   "outputs": [],
   "source": [
    "trans_bijection = lambda_map_bijection.apply_transitivity(_sample_space_bijection)"
   ]
  },
  {
   "cell_type": "code",
   "execution_count": null,
   "metadata": {},
   "outputs": [],
   "source": [
    "prob_eq_sum1 = prob_of_disjoint_events_is_prob_sum.instantiate(\n",
    "    {Omega:_Omega, A:_neg_domain, B:_pos_domain, C:Union(_neg_domain, _pos_domain), \n",
    "     X:_full_domain, f:circuit_map, Q:Lambda(l, condition), x:l},\n",
    "    replacements=[pos_cond_eval, neg_cond_eval]).with_wrap_after_operator()"
   ]
  },
  {
   "cell_type": "code",
   "execution_count": null,
   "metadata": {},
   "outputs": [],
   "source": []
  },
  {
   "cell_type": "markdown",
   "metadata": {},
   "source": [
    "## Compute the event probabilities in terms of summing outcome probabilities"
   ]
  },
  {
   "cell_type": "code",
   "execution_count": null,
   "metadata": {},
   "outputs": [],
   "source": [
    "outcome_prob_pos = _outcome_prob.instantiate({m:ModAdd(_b_floor, l)}, assumptions=pos_domain_assumptions)"
   ]
  },
  {
   "cell_type": "code",
   "execution_count": null,
   "metadata": {},
   "outputs": [],
   "source": [
    "outcome_prob_neg = _outcome_prob.instantiate({m:ModAdd(_b_floor, l)}, assumptions=neg_domain_assumptions)"
   ]
  },
  {
   "cell_type": "code",
   "execution_count": null,
   "metadata": {},
   "outputs": [],
   "source": [
    "subset_injection"
   ]
  },
  {
   "cell_type": "code",
   "execution_count": null,
   "metadata": {},
   "outputs": [],
   "source": [
    "subset_injection.instantiate({A:_pos_domain, B:_full_domain, C:_Omega, f:trans_bijection.element})"
   ]
  },
  {
   "cell_type": "code",
   "execution_count": null,
   "metadata": {},
   "outputs": [],
   "source": [
    "subset_injection.instantiate({A:_neg_domain, B:_full_domain, C:_Omega, f:trans_bijection.element})"
   ]
  },
  {
   "cell_type": "code",
   "execution_count": null,
   "metadata": {},
   "outputs": [],
   "source": [
    "prob_eq_sum2 = prob_eq_sum1.inner_expr().rhs.operands[0].compute(_Omega, replacements=[outcome_prob_neg])"
   ]
  },
  {
   "cell_type": "code",
   "execution_count": null,
   "metadata": {},
   "outputs": [],
   "source": [
    "prob_eq_sum3 = prob_eq_sum2.inner_expr().rhs.operands[1].compute(_Omega, replacements=[outcome_prob_pos])"
   ]
  },
  {
   "cell_type": "markdown",
   "metadata": {},
   "source": [
    "That logical equivalence of conditions is handled in a separate lemma, ``_fail_sum_prob_conds_equiv_lemma``:"
   ]
  },
  {
   "cell_type": "code",
   "execution_count": null,
   "metadata": {},
   "outputs": [],
   "source": [
    "_fail_sum_prob_conds_equiv_lemma"
   ]
  },
  {
   "cell_type": "code",
   "execution_count": null,
   "metadata": {},
   "outputs": [],
   "source": [
    "# Here we explicitly preserve the -(e+1) expression; otherwise it becomes (-e-1) and\n",
    "# later won't match up with the expression to be substituted for\n",
    "conditions_equiv = (\n",
    "    _fail_sum_prob_conds_equiv_lemma.instantiate(preserve_expr=Neg(Add(e, one)))\n",
    "    .instantiate(preserve_expr=Neg(Add(e, one)), sideeffect_automation=False))"
   ]
  },
  {
   "cell_type": "code",
   "execution_count": null,
   "metadata": {},
   "outputs": [],
   "source": [
    "prob_eq_sum4 = prob_eq_sum3.inner_expr().lhs.operand.body"
   ]
  },
  {
   "cell_type": "code",
   "execution_count": null,
   "metadata": {},
   "outputs": [],
   "source": [
    "prob_eq_sum4 = prob_eq_sum3.inner_expr().lhs.operand.body.substitute_condition(\n",
    "    conditions_equiv, preserve_all=True, sideeffect_automation=False)"
   ]
  },
  {
   "cell_type": "code",
   "execution_count": null,
   "metadata": {},
   "outputs": [],
   "source": [
    "%qed"
   ]
  },
  {
   "cell_type": "code",
   "execution_count": null,
   "metadata": {},
   "outputs": [],
   "source": []
  }
 ],
 "metadata": {
  "kernelspec": {
   "display_name": "Python 3",
   "language": "python",
   "name": "python3"
  }
 },
 "nbformat": 4,
 "nbformat_minor": 0
}
