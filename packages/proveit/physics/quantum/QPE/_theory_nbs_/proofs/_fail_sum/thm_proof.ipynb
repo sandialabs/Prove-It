{
 "cells": [
  {
   "cell_type": "markdown",
   "metadata": {},
   "source": [
    "Proof of <a class=\"ProveItLink\" href=\"../../../../../../_theory_nbs_/theory.ipynb\">proveit</a>.<a class=\"ProveItLink\" href=\"../../../../../_theory_nbs_/theory.ipynb\">physics</a>.<a class=\"ProveItLink\" href=\"../../../../_theory_nbs_/theory.ipynb\">quantum</a>.<a class=\"ProveItLink\" href=\"../../theory.ipynb\">QPE</a>.<a class=\"ProveItLink\" href=\"../../theorems.ipynb#_fail_sum\">_fail_sum</a> theorem\n",
    "========"
   ]
  },
  {
   "cell_type": "code",
   "execution_count": null,
   "metadata": {},
   "outputs": [],
   "source": [
    "import proveit\n",
    "theory = proveit.Theory() # the theorem's theory\n",
    "\n",
    "from proveit import defaults, Lambda\n",
    "from proveit import a, b, c, e, f, l, m, x, y, A, B, C, N, Q, X, Omega\n",
    "from proveit.logic import Or, Forall, InSet, Union, Disjoint\n",
    "from proveit.logic.sets.functions.injections import subset_injection\n",
    "from proveit.logic.sets.functions.bijections import bijection_transitivity\n",
    "from proveit.numbers import (zero, one, Add, Neg, greater, Less)\n",
    "from proveit.numbers.modular import interval_left_shift_bijection\n",
    "from proveit.statistics import prob_of_disjoint_events_is_prob_sum\n",
    "from proveit.physics.quantum.QPE import (\n",
    "    _two_pow_t, _two_pow_t__minus_one, _b, _t_in_natural_pos,\n",
    "    _two_pow_t_minus_one_is_nat_pos, _best_is_int, _Omega,\n",
    "    _sample_space_def, _alpha_def, _full_domain, _neg_domain,\n",
    "    _pos_domain, _pos_domain_in_full_domain, _neg_domain_in_full_domain, \n",
    "    _modabs_in_full_domain_simp, ModAdd, _sample_space_bijection,\n",
    "    _Omega_is_sample_space, _outcome_prob_vs_best, _fail_def)"
   ]
  },
  {
   "cell_type": "code",
   "execution_count": null,
   "metadata": {},
   "outputs": [],
   "source": [
    "%proving _fail_sum"
   ]
  },
  {
   "cell_type": "code",
   "execution_count": null,
   "metadata": {},
   "outputs": [],
   "source": [
    "defaults.assumptions = (_fail_sum.condition, InSet(l, _full_domain))"
   ]
  },
  {
   "cell_type": "code",
   "execution_count": null,
   "metadata": {},
   "outputs": [],
   "source": [
    "_alpha_def"
   ]
  },
  {
   "cell_type": "code",
   "execution_count": null,
   "metadata": {},
   "outputs": [],
   "source": [
    "_sample_space_def"
   ]
  },
  {
   "cell_type": "code",
   "execution_count": null,
   "metadata": {},
   "outputs": [],
   "source": [
    "fail_def_inst = _fail_def.instantiate()"
   ]
  },
  {
   "cell_type": "code",
   "execution_count": null,
   "metadata": {},
   "outputs": [],
   "source": [
    "lower_bound = _neg_domain.lower_bound"
   ]
  },
  {
   "cell_type": "code",
   "execution_count": null,
   "metadata": {},
   "outputs": [],
   "source": [
    "upper_bound = _pos_domain.upper_bound"
   ]
  },
  {
   "cell_type": "code",
   "execution_count": null,
   "metadata": {},
   "outputs": [],
   "source": [
    "interval_left_shift_bijection"
   ]
  },
  {
   "cell_type": "code",
   "execution_count": null,
   "metadata": {},
   "outputs": [],
   "source": [
    "lambda_map_bijection = interval_left_shift_bijection.instantiate(\n",
    "    {a:lower_bound, b:upper_bound, c:_b, N:_two_pow_t, x:l})"
   ]
  },
  {
   "cell_type": "code",
   "execution_count": null,
   "metadata": {},
   "outputs": [],
   "source": [
    "b_modadd_l__def = ModAdd(_b, l).definition()"
   ]
  },
  {
   "cell_type": "code",
   "execution_count": null,
   "metadata": {},
   "outputs": [],
   "source": [
    "defaults.assumptions = [_fail_sum.condition]"
   ]
  },
  {
   "cell_type": "code",
   "execution_count": null,
   "metadata": {},
   "outputs": [],
   "source": [
    "transformed_fail_def1 = fail_def_inst.inner_expr().rhs.transform(\n",
    "    lambda_map_bijection.element, lambda_map_bijection.domain.domain, _Omega)"
   ]
  },
  {
   "cell_type": "code",
   "execution_count": null,
   "metadata": {},
   "outputs": [],
   "source": [
    "transformed_fail_def2 = (\n",
    "    transformed_fail_def1.inner_expr().rhs.\n",
    "    instance_expr.vert_expr_array[3][0].body.element.state.num.substitute(\n",
    "        b_modadd_l__def.derive_reversed()))\n",
    "# Need to fix Lambda.global_repl so this works as well:\n",
    "# transformed_fail_def2 = b_modadd_l__def.sub_left_side_into(transformed_fail_def1)\n",
    "transformed_fail_def2"
   ]
  },
  {
   "cell_type": "code",
   "execution_count": null,
   "metadata": {},
   "outputs": [],
   "source": [
    "neg_and_pos_domain_are_disjoint = Disjoint(_neg_domain, _pos_domain).prove()"
   ]
  },
  {
   "cell_type": "code",
   "execution_count": null,
   "metadata": {},
   "outputs": [],
   "source": [
    "prob_of_disjoint_events_is_prob_sum"
   ]
  },
  {
   "cell_type": "code",
   "execution_count": null,
   "metadata": {},
   "outputs": [],
   "source": [
    "circuit_map = Lambda(l, transformed_fail_def2.rhs.instance_expr)"
   ]
  },
  {
   "cell_type": "code",
   "execution_count": null,
   "metadata": {},
   "outputs": [],
   "source": [
    "condition = transformed_fail_def2.rhs.non_domain_condition()"
   ]
  },
  {
   "cell_type": "code",
   "execution_count": null,
   "metadata": {},
   "outputs": [],
   "source": [
    "neg_domain_assumptions = [InSet(l, _neg_domain), _fail_sum.condition]"
   ]
  },
  {
   "cell_type": "code",
   "execution_count": null,
   "metadata": {},
   "outputs": [],
   "source": [
    "pos_domain_assumptions = [InSet(l, _pos_domain), _fail_sum.condition]"
   ]
  },
  {
   "cell_type": "code",
   "execution_count": null,
   "metadata": {},
   "outputs": [],
   "source": [
    "absmod_posdomain_simp = _modabs_in_full_domain_simp.instantiate(\n",
    "    assumptions=pos_domain_assumptions)"
   ]
  },
  {
   "cell_type": "code",
   "execution_count": null,
   "metadata": {},
   "outputs": [],
   "source": [
    "absmod_negdomain_simp = _modabs_in_full_domain_simp.instantiate(\n",
    "    assumptions=neg_domain_assumptions)"
   ]
  },
  {
   "cell_type": "code",
   "execution_count": null,
   "metadata": {},
   "outputs": [],
   "source": [
    "e_plus_1_le_neg_ell = InSet(l, _neg_domain).derive_element_upper_bound(\n",
    "    assumptions=neg_domain_assumptions).derive_negated(assumptions=neg_domain_assumptions)"
   ]
  },
  {
   "cell_type": "code",
   "execution_count": null,
   "metadata": {},
   "outputs": [],
   "source": [
    "greater(Neg(l), e).prove(assumptions=neg_domain_assumptions)"
   ]
  },
  {
   "cell_type": "code",
   "execution_count": null,
   "metadata": {},
   "outputs": [],
   "source": [
    "InSet(l, _pos_domain).derive_element_lower_bound(\n",
    "    assumptions=pos_domain_assumptions)"
   ]
  },
  {
   "cell_type": "code",
   "execution_count": null,
   "metadata": {},
   "outputs": [],
   "source": [
    "greater(l, e).prove(assumptions=pos_domain_assumptions)"
   ]
  },
  {
   "cell_type": "code",
   "execution_count": null,
   "metadata": {},
   "outputs": [],
   "source": [
    "condition"
   ]
  },
  {
   "cell_type": "code",
   "execution_count": null,
   "metadata": {},
   "outputs": [],
   "source": [
    "pos_cond_eval = absmod_posdomain_simp.substitution(condition).inner_expr().rhs.evaluate()"
   ]
  },
  {
   "cell_type": "code",
   "execution_count": null,
   "metadata": {},
   "outputs": [],
   "source": [
    "neg_cond_eval = absmod_negdomain_simp.substitution(condition).inner_expr().rhs.evaluate()"
   ]
  },
  {
   "cell_type": "code",
   "execution_count": null,
   "metadata": {},
   "outputs": [],
   "source": [
    "lambda_map_bijection"
   ]
  },
  {
   "cell_type": "code",
   "execution_count": null,
   "metadata": {},
   "outputs": [],
   "source": [
    "_sample_space_bijection"
   ]
  },
  {
   "cell_type": "code",
   "execution_count": null,
   "metadata": {},
   "outputs": [],
   "source": [
    "b_modadd_l__def"
   ]
  },
  {
   "cell_type": "code",
   "execution_count": null,
   "metadata": {},
   "outputs": [],
   "source": [
    "trans_bijection = lambda_map_bijection.apply_transitivity(\n",
    "    _sample_space_bijection, replacements=[b_modadd_l__def.derive_reversed()])"
   ]
  },
  {
   "cell_type": "code",
   "execution_count": null,
   "metadata": {},
   "outputs": [],
   "source": [
    "prob_eq_sum1 = prob_of_disjoint_events_is_prob_sum.instantiate(\n",
    "    {Omega:_Omega, A:_neg_domain, B:_pos_domain, C:Union(_neg_domain, _pos_domain), \n",
    "     X:_full_domain, f:circuit_map, Q:Lambda(l, condition), x:l},\n",
    "    replacements=[pos_cond_eval, neg_cond_eval]).with_wrap_after_operator()"
   ]
  },
  {
   "cell_type": "code",
   "execution_count": null,
   "metadata": {},
   "outputs": [],
   "source": [
    "outcome_prob_pos = _outcome_prob_vs_best.instantiate(assumptions=pos_domain_assumptions)"
   ]
  },
  {
   "cell_type": "code",
   "execution_count": null,
   "metadata": {},
   "outputs": [],
   "source": [
    "outcome_prob_neg = _outcome_prob_vs_best.instantiate(assumptions=neg_domain_assumptions)"
   ]
  },
  {
   "cell_type": "code",
   "execution_count": null,
   "metadata": {},
   "outputs": [],
   "source": [
    "subset_injection"
   ]
  },
  {
   "cell_type": "code",
   "execution_count": null,
   "metadata": {},
   "outputs": [],
   "source": [
    "subset_injection.instantiate({A:_pos_domain, B:_full_domain, C:_Omega, f:trans_bijection.element})"
   ]
  },
  {
   "cell_type": "code",
   "execution_count": null,
   "metadata": {},
   "outputs": [],
   "source": [
    "subset_injection.instantiate({A:_neg_domain, B:_full_domain, C:_Omega, f:trans_bijection.element})"
   ]
  },
  {
   "cell_type": "code",
   "execution_count": null,
   "metadata": {},
   "outputs": [],
   "source": [
    "prob_eq_sum2 = prob_eq_sum1.inner_expr().rhs.operands[0].compute(_Omega, replacements=[outcome_prob_neg])"
   ]
  },
  {
   "cell_type": "code",
   "execution_count": null,
   "metadata": {},
   "outputs": [],
   "source": [
    "prob_eq_sum3 = prob_eq_sum2.inner_expr().rhs.operands[1].compute(_Omega, replacements=[outcome_prob_pos])"
   ]
  },
  {
   "cell_type": "markdown",
   "metadata": {},
   "source": [
    "We want to derive the logical equivalence (if and only if) between the following conditions:"
   ]
  },
  {
   "cell_type": "code",
   "execution_count": null,
   "metadata": {},
   "outputs": [],
   "source": [
    "lhs_condition = prob_eq_sum1.lhs.condition"
   ]
  },
  {
   "cell_type": "code",
   "execution_count": null,
   "metadata": {},
   "outputs": [],
   "source": [
    "desired_condition = transformed_fail_def2.rhs.condition"
   ]
  },
  {
   "cell_type": "markdown",
   "metadata": {},
   "source": [
    "That logical equivalence is handled in a separate lemma, ``_fail_sum_prob_conds_equiv_lemma``, which we import and instantiate:"
   ]
  },
  {
   "cell_type": "code",
   "execution_count": null,
   "metadata": {},
   "outputs": [],
   "source": [
    "from proveit.physics.quantum.QPE import _fail_sum_prob_conds_equiv_lemma\n",
    "_fail_sum_prob_conds_equiv_lemma"
   ]
  },
  {
   "cell_type": "code",
   "execution_count": null,
   "metadata": {},
   "outputs": [],
   "source": [
    "# Here we explicitly preserve the -(e+1) expression; otherwise it becomes (-e-1) and\n",
    "# later won't match up with the expression to be substituted for\n",
    "conditions_equiv = (\n",
    "    _fail_sum_prob_conds_equiv_lemma.instantiate(preserve_expr=Neg(Add(e, one)))\n",
    "    .instantiate(preserve_expr=Neg(Add(e, one))))"
   ]
  },
  {
   "cell_type": "code",
   "execution_count": null,
   "metadata": {},
   "outputs": [],
   "source": [
    "prob_eq_sum4 = prob_eq_sum3.inner_expr().lhs.operand.body.condition_substitute(\n",
    "    conditions_equiv)"
   ]
  },
  {
   "cell_type": "code",
   "execution_count": null,
   "metadata": {},
   "outputs": [],
   "source": [
    "transformed_fail_def2.apply_transitivity(prob_eq_sum4)"
   ]
  },
  {
   "cell_type": "code",
   "execution_count": null,
   "metadata": {},
   "outputs": [],
   "source": [
    "%qed"
   ]
  },
  {
   "cell_type": "code",
   "execution_count": null,
   "metadata": {},
   "outputs": [],
   "source": []
  }
 ],
 "metadata": {
  "kernelspec": {
   "display_name": "Python 3",
   "language": "python",
   "name": "python3"
  }
 },
 "nbformat": 4,
 "nbformat_minor": 0
}
