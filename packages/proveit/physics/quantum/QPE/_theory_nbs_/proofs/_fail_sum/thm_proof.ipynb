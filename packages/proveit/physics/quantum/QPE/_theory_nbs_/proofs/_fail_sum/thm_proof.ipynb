{
 "cells": [
  {
   "cell_type": "markdown",
   "metadata": {},
   "source": [
    "Proof of <a class=\"ProveItLink\" href=\"../../../../../../_theory_nbs_/theory.ipynb\">proveit</a>.<a class=\"ProveItLink\" href=\"../../../../../_theory_nbs_/theory.ipynb\">physics</a>.<a class=\"ProveItLink\" href=\"../../../../_theory_nbs_/theory.ipynb\">quantum</a>.<a class=\"ProveItLink\" href=\"../../theory.ipynb\">QPE</a>.<a class=\"ProveItLink\" href=\"../../theorems.ipynb#_fail_sum\">_fail_sum</a> theorem\n",
    "========"
   ]
  },
  {
   "cell_type": "code",
   "execution_count": null,
   "metadata": {},
   "outputs": [],
   "source": [
    "import proveit\n",
    "theory = proveit.Theory() # the theorem's theory\n",
    "from proveit import a, b, c, e, k, l, m, n, x, y, N, R, S, X, Psi, defaults, fx, gy\n",
    "from proveit.logic import Equals, Forall, InSet, superset_eq\n",
    "from proveit.numbers import (\n",
    "    zero, one, two, Add, Complex, Integer, Less, LessEq, NaturalPos, Neg, Real, subtract)\n",
    "from proveit.numbers.negation import negated_weak_bound\n",
    "from proveit.numbers.modular import complete_interval_left_shift_image\n",
    "#from proveit.numbers.modular import full_modular_range_equiv_left_shift\n",
    "from proveit.numbers.summation import equiv_sums\n",
    "from proveit.physics.quantum import register_qubit_all_probs, register_qubit_born_rule\n",
    "from proveit.physics.quantum.QPE import (\n",
    "    _alpha_def, _b, _best_is_int, _fail_def, _full_domain, _m, ModAdd, _mod_add_def, _neg_domain,\n",
    "    _phase_est, _pos_domain, _Psi, _Psi_ket_in_qreg_space,\n",
    "    _success_prob_is_real, _success_sum, _t, _t_in_natural_pos, _two_pow_t, _two_pow_t_is_nat_pos,\n",
    "    _two_pow_t_minus_one, _two_pow_t_minus_one_is_nat_pos, _two_pow_t_less_one_is_nat_pos)\n",
    "from proveit.statistics import Prob, prob_in_real"
   ]
  },
  {
   "cell_type": "code",
   "execution_count": null,
   "metadata": {},
   "outputs": [],
   "source": [
    "%proving _fail_sum"
   ]
  },
  {
   "cell_type": "code",
   "execution_count": null,
   "metadata": {},
   "outputs": [],
   "source": [
    "e_in_domain = _fail_sum.all_conditions()[0]"
   ]
  },
  {
   "cell_type": "code",
   "execution_count": null,
   "metadata": {},
   "outputs": [],
   "source": [
    "defaults.assumptions = _fail_sum.all_conditions()"
   ]
  },
  {
   "cell_type": "code",
   "execution_count": null,
   "metadata": {},
   "outputs": [],
   "source": [
    "_two_pow_t_is_nat_pos"
   ]
  },
  {
   "cell_type": "code",
   "execution_count": null,
   "metadata": {},
   "outputs": [],
   "source": [
    "_two_pow_t_minus_one_is_nat_pos"
   ]
  },
  {
   "cell_type": "code",
   "execution_count": null,
   "metadata": {},
   "outputs": [],
   "source": [
    "_two_pow_t_less_one_is_nat_pos"
   ]
  },
  {
   "cell_type": "code",
   "execution_count": null,
   "metadata": {},
   "outputs": [],
   "source": [
    "e_in_domain.derive_element_in_integer()"
   ]
  },
  {
   "cell_type": "code",
   "execution_count": null,
   "metadata": {},
   "outputs": [],
   "source": [
    "e_in_domain.derive_element_lower_bound()"
   ]
  },
  {
   "cell_type": "code",
   "execution_count": null,
   "metadata": {},
   "outputs": [],
   "source": [
    "InSet(e, NaturalPos).prove()"
   ]
  },
  {
   "cell_type": "code",
   "execution_count": null,
   "metadata": {},
   "outputs": [],
   "source": [
    "_fail_def"
   ]
  },
  {
   "cell_type": "code",
   "execution_count": null,
   "metadata": {},
   "outputs": [],
   "source": [
    "fail_def_inst = _fail_def.instantiate()"
   ]
  },
  {
   "cell_type": "code",
   "execution_count": null,
   "metadata": {},
   "outputs": [],
   "source": [
    "_success_prob_is_real"
   ]
  },
  {
   "cell_type": "code",
   "execution_count": null,
   "metadata": {},
   "outputs": [],
   "source": [
    "success_prob_is_real_inst = _success_prob_is_real.instantiate()"
   ]
  },
  {
   "cell_type": "code",
   "execution_count": null,
   "metadata": {},
   "outputs": [],
   "source": [
    "_success_sum"
   ]
  },
  {
   "cell_type": "code",
   "execution_count": null,
   "metadata": {},
   "outputs": [],
   "source": [
    "success_sum_1 = _success_sum.instantiate()"
   ]
  },
  {
   "cell_type": "code",
   "execution_count": null,
   "metadata": {},
   "outputs": [],
   "source": [
    "# probabilities are Real\n",
    "prob_in_real"
   ]
  },
  {
   "cell_type": "code",
   "execution_count": null,
   "metadata": {},
   "outputs": [],
   "source": [
    "# instantiate that for our specific type of probabilities being summed;\n",
    "# then in the next cell we can conclude the summation itself is real\n",
    "prob_in_real_inst = prob_in_real.instantiate(\n",
    "        {x: _m, X: success_sum_1.rhs.summand.operands[0]})"
   ]
  },
  {
   "cell_type": "code",
   "execution_count": null,
   "metadata": {},
   "outputs": [],
   "source": [
    "success_sum_1.rhs.deduce_in_number_set(Real)"
   ]
  },
  {
   "cell_type": "code",
   "execution_count": null,
   "metadata": {},
   "outputs": [],
   "source": [
    "fail_def_inst.rhs"
   ]
  },
  {
   "cell_type": "code",
   "execution_count": null,
   "metadata": {},
   "outputs": [],
   "source": [
    "success_sum_2 = success_sum_1.derive_negated().with_direction_reversed()"
   ]
  },
  {
   "cell_type": "code",
   "execution_count": null,
   "metadata": {},
   "outputs": [],
   "source": [
    "success_sum_3 = success_sum_2.derive_shifted(one, addend_side='left')"
   ]
  },
  {
   "cell_type": "code",
   "execution_count": null,
   "metadata": {},
   "outputs": [],
   "source": [
    "fail_sum_1 = fail_def_inst.sub_left_side_into(success_sum_3)"
   ]
  },
  {
   "cell_type": "code",
   "execution_count": null,
   "metadata": {},
   "outputs": [],
   "source": [
    "register_qubit_all_probs"
   ]
  },
  {
   "cell_type": "code",
   "execution_count": null,
   "metadata": {},
   "outputs": [],
   "source": [
    "# we need to know that t_ is in NaturalPos for the instantiation to work:\n",
    "_t_in_natural_pos"
   ]
  },
  {
   "cell_type": "code",
   "execution_count": null,
   "metadata": {},
   "outputs": [],
   "source": [
    "# and we need to know that |Psi> is in the right domain:\n",
    "_Psi_ket_in_qreg_space"
   ]
  },
  {
   "cell_type": "code",
   "execution_count": null,
   "metadata": {},
   "outputs": [],
   "source": [
    "from proveit.physics.quantum.QPE import _m_from_meas\n",
    "_m_from_meas"
   ]
  },
  {
   "cell_type": "code",
   "execution_count": null,
   "metadata": {},
   "outputs": [],
   "source": [
    "prob_sum_eq_1 = register_qubit_all_probs.instantiate({n: _t, Psi: _Psi, m: _m})"
   ]
  },
  {
   "cell_type": "code",
   "execution_count": null,
   "metadata": {},
   "outputs": [],
   "source": [
    "lower_bound = Add(Neg(_two_pow_t_minus_one), one)"
   ]
  },
  {
   "cell_type": "code",
   "execution_count": null,
   "metadata": {},
   "outputs": [],
   "source": [
    "upper_bound = _two_pow_t_minus_one"
   ]
  },
  {
   "cell_type": "markdown",
   "metadata": {},
   "source": [
    "For an instantiation further below, we will need to know that\n",
    "\n",
    "(2^{t - 1} - (-2^{t - 1} + 1)) = (2^{t} - 1)"
   ]
  },
  {
   "cell_type": "code",
   "execution_count": null,
   "metadata": {},
   "outputs": [],
   "source": [
    "bound_diff_eq_1 = subtract(upper_bound, lower_bound).simplification()"
   ]
  },
  {
   "cell_type": "code",
   "execution_count": null,
   "metadata": {},
   "outputs": [],
   "source": [
    "# Need to include a preserve_expr option to rein in over-active auto_simplify\n",
    "bound_diff_eq_2 = bound_diff_eq_1.inner_expr().rhs.operands[0].combine_exponents(preserve_expr=bound_diff_eq_1.lhs)"
   ]
  },
  {
   "cell_type": "code",
   "execution_count": null,
   "metadata": {},
   "outputs": [],
   "source": [
    "# for the instantiation below, need to know that _b is an Integer\n",
    "_best_is_int"
   ]
  },
  {
   "cell_type": "code",
   "execution_count": null,
   "metadata": {},
   "outputs": [],
   "source": []
  }
 ],
 "metadata": {
  "kernelspec": {
   "display_name": "Python 3",
   "language": "python",
   "name": "python3"
  }
 },
 "nbformat": 4,
 "nbformat_minor": 0
}
