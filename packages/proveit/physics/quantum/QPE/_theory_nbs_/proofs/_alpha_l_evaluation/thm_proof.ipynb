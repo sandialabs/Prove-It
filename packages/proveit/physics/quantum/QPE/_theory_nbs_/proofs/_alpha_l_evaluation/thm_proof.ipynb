{
 "cells": [
  {
   "cell_type": "markdown",
   "metadata": {},
   "source": [
    "Proof of <a class=\"ProveItLink\" href=\"../../../../../../_theory_nbs_/theory.ipynb\">proveit</a>.<a class=\"ProveItLink\" href=\"../../../../../_theory_nbs_/theory.ipynb\">physics</a>.<a class=\"ProveItLink\" href=\"../../../../_theory_nbs_/theory.ipynb\">quantum</a>.<a class=\"ProveItLink\" href=\"../../theory.ipynb\">QPE</a>.<a class=\"ProveItLink\" href=\"../../theorems.ipynb#_alpha_l_evaluation\">_alpha_l_evaluation</a> theorem\n",
    "========"
   ]
  },
  {
   "cell_type": "code",
   "execution_count": null,
   "metadata": {},
   "outputs": [],
   "source": [
    "import proveit\n",
    "theory = proveit.Theory() # the theorem's theory\n",
    "from proveit import t, defaults\n",
    "from proveit.physics.quantum.QPE import ( _t ) # QPE Common Expressions\n",
    "from proveit.physics.quantum.QPE import (      # QPE Axioms\n",
    "    _alpha_l_def, _Psi_def )\n",
    "from proveit.physics.quantum.QPE import (      # QPE Theorems\n",
    "    _phase_is_real, _psi_t_var_formula, _t_in_natural_pos )\n",
    "from proveit.physics.quantum.QFT import invFT_on_matrix_elem"
   ]
  },
  {
   "cell_type": "code",
   "execution_count": null,
   "metadata": {},
   "outputs": [],
   "source": [
    "%proving _alpha_l_evaluation"
   ]
  },
  {
   "cell_type": "code",
   "execution_count": null,
   "metadata": {},
   "outputs": [],
   "source": [
    "defaults.assumptions = _alpha_l_evaluation.conditions"
   ]
  },
  {
   "cell_type": "code",
   "execution_count": null,
   "metadata": {},
   "outputs": [],
   "source": [
    "_alpha_l_def"
   ]
  },
  {
   "cell_type": "code",
   "execution_count": null,
   "metadata": {},
   "outputs": [],
   "source": [
    "alpha_l_eq_01 = _alpha_l_def.instantiate()"
   ]
  },
  {
   "cell_type": "code",
   "execution_count": null,
   "metadata": {},
   "outputs": [],
   "source": [
    "_Psi_def"
   ]
  },
  {
   "cell_type": "code",
   "execution_count": null,
   "metadata": {},
   "outputs": [],
   "source": [
    "alpha_l_eq_02 = _Psi_def.sub_right_side_into(alpha_l_eq_01)"
   ]
  },
  {
   "cell_type": "code",
   "execution_count": null,
   "metadata": {},
   "outputs": [],
   "source": [
    "_psi_t_var_formula"
   ]
  },
  {
   "cell_type": "code",
   "execution_count": null,
   "metadata": {},
   "outputs": [],
   "source": [
    "# This instantiation requires we know that _t is in NaturalPos\n",
    "psi_formula = _psi_t_var_formula.instantiate({t:_t})"
   ]
  },
  {
   "cell_type": "code",
   "execution_count": null,
   "metadata": {},
   "outputs": [],
   "source": [
    "# Auto_simplification here pulls the constant coefficient\n",
    "# out to the front of the bra-ket; for that auto-simplification\n",
    "# factoring to work, however, we need the _phase_is_real theorem\n",
    "# and the correct domain assumption for ell.\n",
    "alpha_l_eq_03 = psi_formula.sub_right_side_into(alpha_l_eq_02)"
   ]
  },
  {
   "cell_type": "code",
   "execution_count": null,
   "metadata": {},
   "outputs": [],
   "source": [
    "alpha_l_eq_03.rhs.operands[1]"
   ]
  },
  {
   "cell_type": "code",
   "execution_count": null,
   "metadata": {},
   "outputs": [],
   "source": [
    "alpha_l_eq_04 = alpha_l_eq_03.inner_expr().rhs.operands[1].distribute(2)"
   ]
  },
  {
   "cell_type": "code",
   "execution_count": null,
   "metadata": {},
   "outputs": [],
   "source": [
    "# for convenience and clarity we name the summation domain\n",
    "k_domain = psi_formula.rhs.operands[1].domain"
   ]
  },
  {
   "cell_type": "code",
   "execution_count": null,
   "metadata": {},
   "outputs": [],
   "source": [
    "invFT_on_matrix_elem"
   ]
  },
  {
   "cell_type": "code",
   "execution_count": null,
   "metadata": {},
   "outputs": [],
   "source": [
    "from proveit import n, l, k\n",
    "from proveit.logic import InSet\n",
    "from proveit.physics.quantum.QPE import _l_domain\n",
    "matrix_elem = invFT_on_matrix_elem.instantiate(\n",
    "    {n:_t, l:l}, assumptions=[InSet(k, k_domain), InSet(l, _l_domain)])"
   ]
  },
  {
   "cell_type": "code",
   "execution_count": null,
   "metadata": {},
   "outputs": [],
   "source": [
    "# We don't want to combine the two different exponentials through auto-simplification.\n",
    "# We also preserve the commuted version for later in the nb\n",
    "# This sometimes works and sometimes not; puzzling non-deterministic behavior\n",
    "from proveit.numbers import Mult\n",
    "defaults.preserved_exprs = set(\n",
    "    [Mult(alpha_l_eq_04.rhs.factors[1].summand.factors[0], \n",
    "          matrix_elem.rhs.factors[1]),\n",
    "     Mult(matrix_elem.rhs.factors[1], \n",
    "          alpha_l_eq_04.rhs.factors[1].summand.factors[0])])"
   ]
  },
  {
   "cell_type": "code",
   "execution_count": null,
   "metadata": {},
   "outputs": [],
   "source": [
    "alpha_l_eq_05 = (alpha_l_eq_04.inner_expr().rhs.operands[1]\n",
    "               .summand.operands[1].substitute(matrix_elem))"
   ]
  },
  {
   "cell_type": "code",
   "execution_count": null,
   "metadata": {},
   "outputs": [],
   "source": [
    "# a kludgy way to deal with a potential problem when the previous cell\n",
    "# fails to preserve the Mult of the two separate exponentials;\n",
    "# eventually this should be completely unnecessary\n",
    "from proveit.numbers import Exp\n",
    "if isinstance (alpha_l_eq_05.rhs.factors[1].summand.factors[0], Exp):\n",
    "    alpha_l_eq_05 = (alpha_l_eq_05.inner_expr().rhs.factors[1].\n",
    "                     summand.factors[0].exponent_separate())\n",
    "alpha_l_eq_05"
   ]
  },
  {
   "cell_type": "code",
   "execution_count": null,
   "metadata": {},
   "outputs": [],
   "source": [
    "const_factor = alpha_l_eq_05.rhs.operands[0]"
   ]
  },
  {
   "cell_type": "code",
   "execution_count": null,
   "metadata": {},
   "outputs": [],
   "source": [
    "alpha_l_eq_06 = alpha_l_eq_05.inner_expr().rhs.operands[1].factor(const_factor)"
   ]
  },
  {
   "cell_type": "code",
   "execution_count": null,
   "metadata": {},
   "outputs": [],
   "source": [
    "alpha_l_eq_07 = alpha_l_eq_06.inner_expr().rhs.operands[0].distribute()"
   ]
  },
  {
   "cell_type": "code",
   "execution_count": null,
   "metadata": {},
   "outputs": [],
   "source": [
    "# still need to commute factors within the summand\n",
    "# (apparently automation/canonical forms not reaching into a summand)\n",
    "alpha_l_eq_08 = alpha_l_eq_07.inner_expr().rhs.operands[1].instance_expr.commute()"
   ]
  },
  {
   "cell_type": "code",
   "execution_count": null,
   "metadata": {},
   "outputs": [],
   "source": [
    "%qed"
   ]
  },
  {
   "cell_type": "code",
   "execution_count": null,
   "metadata": {},
   "outputs": [],
   "source": []
  }
 ],
 "metadata": {
  "kernelspec": {
   "display_name": "Python 3",
   "language": "python",
   "name": "python3"
  }
 },
 "nbformat": 4,
 "nbformat_minor": 0
}
