{
 "cells": [
  {
   "cell_type": "markdown",
   "metadata": {},
   "source": [
    "Proof of <a class=\"ProveItLink\" href=\"../../../../../../_theory_nbs_/theory.ipynb\">proveit</a>.<a class=\"ProveItLink\" href=\"../../../../../_theory_nbs_/theory.ipynb\">physics</a>.<a class=\"ProveItLink\" href=\"../../../../_theory_nbs_/theory.ipynb\">quantum</a>.<a class=\"ProveItLink\" href=\"../../theory.ipynb\">QPE</a>.<a class=\"ProveItLink\" href=\"../../theorems.ipynb#_fail_sum_old\">_fail_sum_old</a> theorem\n",
    "========"
   ]
  },
  {
   "cell_type": "code",
   "execution_count": null,
   "metadata": {},
   "outputs": [],
   "source": [
    "import proveit\n",
    "theory = proveit.Theory() # the theorem's theory\n",
    "from proveit import a, b, c, e, k, l, m, n, x, y, N, R, S, X, Psi, defaults, fx, gy\n",
    "from proveit.logic import Equals, Forall, InSet, superset_eq\n",
    "from proveit.numbers import (\n",
    "    zero, one, two, Add, Complex, Integer, Less, LessEq, NaturalPos, Neg, Real, subtract)\n",
    "from proveit.numbers.negation import negated_weak_bound\n",
    "from proveit.numbers.modular import complete_interval_left_shift_image\n",
    "# from proveit.numbers.modular import full_modular_range_equiv_left_shift\n",
    "from proveit.numbers.summation import equiv_sums\n",
    "from proveit.physics.quantum import register_qubit_all_probs, register_qubit_born_rule\n",
    "from proveit.physics.quantum.QPE import (\n",
    "    _alpha_def, _b, _best_is_int, _fail_def, _full_domain, _m, ModAdd, _mod_add_def, _neg_domain,\n",
    "    _phase_est, _pos_domain, _Psi, _Psi_ket_in_qreg_space,\n",
    "    _success_prob_is_real, _success_sum, _t, _t_in_natural_pos, _two_pow_t, _two_pow_t_is_nat_pos,\n",
    "    _two_pow_t_minus_one, _two_pow_t_minus_one_is_nat_pos, _two_pow_t_less_one_is_nat_pos)\n",
    "from proveit.statistics import Prob, prob_in_real"
   ]
  },
  {
   "cell_type": "code",
   "execution_count": null,
   "metadata": {},
   "outputs": [],
   "source": [
    "%proving _fail_sum_old"
   ]
  },
  {
   "cell_type": "code",
   "execution_count": null,
   "metadata": {},
   "outputs": [],
   "source": [
    "e_in_domain = _fail_sum_old.all_conditions()[0]"
   ]
  },
  {
   "cell_type": "code",
   "execution_count": null,
   "metadata": {},
   "outputs": [],
   "source": [
    "defaults.assumptions = _fail_sum_old.all_conditions()"
   ]
  },
  {
   "cell_type": "code",
   "execution_count": null,
   "metadata": {},
   "outputs": [],
   "source": [
    "_two_pow_t_is_nat_pos"
   ]
  },
  {
   "cell_type": "code",
   "execution_count": null,
   "metadata": {},
   "outputs": [],
   "source": [
    "_two_pow_t_minus_one_is_nat_pos"
   ]
  },
  {
   "cell_type": "code",
   "execution_count": null,
   "metadata": {},
   "outputs": [],
   "source": [
    "_two_pow_t_less_one_is_nat_pos"
   ]
  },
  {
   "cell_type": "code",
   "execution_count": null,
   "metadata": {},
   "outputs": [],
   "source": [
    "e_in_domain.derive_element_in_integer()"
   ]
  },
  {
   "cell_type": "code",
   "execution_count": null,
   "metadata": {},
   "outputs": [],
   "source": [
    "e_in_domain.derive_element_lower_bound()"
   ]
  },
  {
   "cell_type": "code",
   "execution_count": null,
   "metadata": {},
   "outputs": [],
   "source": [
    "InSet(e, NaturalPos).prove()"
   ]
  },
  {
   "cell_type": "code",
   "execution_count": null,
   "metadata": {},
   "outputs": [],
   "source": [
    "_fail_def"
   ]
  },
  {
   "cell_type": "code",
   "execution_count": null,
   "metadata": {},
   "outputs": [],
   "source": [
    "fail_def_inst = _fail_def.instantiate()"
   ]
  },
  {
   "cell_type": "code",
   "execution_count": null,
   "metadata": {},
   "outputs": [],
   "source": [
    "_success_prob_is_real"
   ]
  },
  {
   "cell_type": "code",
   "execution_count": null,
   "metadata": {},
   "outputs": [],
   "source": [
    "success_prob_is_real_inst = _success_prob_is_real.instantiate()"
   ]
  },
  {
   "cell_type": "code",
   "execution_count": null,
   "metadata": {},
   "outputs": [],
   "source": [
    "_success_sum"
   ]
  },
  {
   "cell_type": "code",
   "execution_count": null,
   "metadata": {},
   "outputs": [],
   "source": [
    "success_sum_1 = _success_sum.instantiate()"
   ]
  },
  {
   "cell_type": "code",
   "execution_count": null,
   "metadata": {},
   "outputs": [],
   "source": [
    "# probabilities are Real\n",
    "prob_in_real"
   ]
  },
  {
   "cell_type": "code",
   "execution_count": null,
   "metadata": {},
   "outputs": [],
   "source": [
    "# instantiate that for our specific type of probabilities being summed;\n",
    "# then in the next cell we can conclude the summation itself is real\n",
    "prob_in_real_inst = prob_in_real.instantiate(\n",
    "        {x: _m, X: success_sum_1.rhs.summand.operands[0]})"
   ]
  },
  {
   "cell_type": "code",
   "execution_count": null,
   "metadata": {},
   "outputs": [],
   "source": [
    "success_sum_1.rhs.deduce_in_number_set(Real)"
   ]
  },
  {
   "cell_type": "code",
   "execution_count": null,
   "metadata": {},
   "outputs": [],
   "source": [
    "fail_def_inst.rhs"
   ]
  },
  {
   "cell_type": "code",
   "execution_count": null,
   "metadata": {},
   "outputs": [],
   "source": [
    "success_sum_2 = success_sum_1.derive_negated().with_direction_reversed()"
   ]
  },
  {
   "cell_type": "code",
   "execution_count": null,
   "metadata": {},
   "outputs": [],
   "source": [
    "success_sum_3 = success_sum_2.derive_shifted(one, addend_side='left')"
   ]
  },
  {
   "cell_type": "code",
   "execution_count": null,
   "metadata": {},
   "outputs": [],
   "source": [
    "fail_sum_1 = fail_def_inst.sub_left_side_into(success_sum_3)"
   ]
  },
  {
   "cell_type": "code",
   "execution_count": null,
   "metadata": {},
   "outputs": [],
   "source": [
    "register_qubit_all_probs"
   ]
  },
  {
   "cell_type": "code",
   "execution_count": null,
   "metadata": {},
   "outputs": [],
   "source": [
    "# we need to know that t_ is in NaturalPos for the instantiation to work:\n",
    "_t_in_natural_pos"
   ]
  },
  {
   "cell_type": "code",
   "execution_count": null,
   "metadata": {},
   "outputs": [],
   "source": [
    "# and we need to know that |Psi> is in the right domain:\n",
    "_Psi_ket_in_qreg_space"
   ]
  },
  {
   "cell_type": "code",
   "execution_count": null,
   "metadata": {},
   "outputs": [],
   "source": [
    "from proveit.physics.quantum.QPE import _m_from_meas\n",
    "_m_from_meas"
   ]
  },
  {
   "cell_type": "code",
   "execution_count": null,
   "metadata": {},
   "outputs": [],
   "source": [
    "prob_sum_eq_1 = register_qubit_all_probs.instantiate({n: _t, Psi: _Psi, m: _m})"
   ]
  },
  {
   "cell_type": "code",
   "execution_count": null,
   "metadata": {},
   "outputs": [],
   "source": [
    "# before a theorem name change? See below for a possible replacement.\n",
    "# full_modular_range_equiv_left_shift"
   ]
  },
  {
   "cell_type": "code",
   "execution_count": null,
   "metadata": {},
   "outputs": [],
   "source": [
    "from proveit.numbers.modular import complete_interval_left_shift_image\n",
    "complete_interval_left_shift_image"
   ]
  },
  {
   "cell_type": "code",
   "execution_count": null,
   "metadata": {},
   "outputs": [],
   "source": [
    "lower_bound = Add(Neg(_two_pow_t_minus_one), one)"
   ]
  },
  {
   "cell_type": "code",
   "execution_count": null,
   "metadata": {},
   "outputs": [],
   "source": [
    "upper_bound = _two_pow_t_minus_one"
   ]
  },
  {
   "cell_type": "markdown",
   "metadata": {},
   "source": [
    "For an instantiation further below, we will need to know that\n",
    "\n",
    "(2^{t - 1} - (-2^{t - 1} + 1)) = (2^{t} - 1)"
   ]
  },
  {
   "cell_type": "code",
   "execution_count": null,
   "metadata": {},
   "outputs": [],
   "source": [
    "bound_diff_eq_1 = subtract(upper_bound, lower_bound).simplification()"
   ]
  },
  {
   "cell_type": "code",
   "execution_count": null,
   "metadata": {},
   "outputs": [],
   "source": [
    "# Need to include a preserve_expr option to rein in over-active auto_simplify\n",
    "bound_diff_eq_2 = bound_diff_eq_1.inner_expr().rhs.operands[0].combine_exponents(preserve_expr=bound_diff_eq_1.lhs)"
   ]
  },
  {
   "cell_type": "code",
   "execution_count": null,
   "metadata": {},
   "outputs": [],
   "source": [
    "# for the instantiation below, need to know that _b is an Integer\n",
    "_best_is_int"
   ]
  },
  {
   "cell_type": "code",
   "execution_count": null,
   "metadata": {},
   "outputs": [],
   "source": [
    "# Old, before WW updated some modular pkg theorems?\n",
    "# See complete_interval_left_shift_image several cells below.\n",
    "# range_equiv_1 = full_modular_range_equiv_left_shift.instantiate(\n",
    "#         {N: _two_pow_t, a: lower_bound, b: upper_bound, c: _b, x: l})"
   ]
  },
  {
   "cell_type": "code",
   "execution_count": null,
   "metadata": {},
   "outputs": [],
   "source": [
    "_two_pow_t_minus_one_is_nat_pos"
   ]
  },
  {
   "cell_type": "code",
   "execution_count": null,
   "metadata": {},
   "outputs": [],
   "source": [
    "from proveit.numbers import greater_eq\n",
    "_two_pow_t_minus_one_greater_eq_one = greater_eq(_two_pow_t_minus_one_is_nat_pos.element, one).prove()"
   ]
  },
  {
   "cell_type": "code",
   "execution_count": null,
   "metadata": {},
   "outputs": [],
   "source": [
    "_full_domain.lower_bound.deduce_bound(_two_pow_t_minus_one_greater_eq_one)"
   ]
  },
  {
   "cell_type": "code",
   "execution_count": null,
   "metadata": {},
   "outputs": [],
   "source": [
    "# Unsatisfied condition: (-2^{t - 1} + 1) <= 2^{t - 1} for cell below\n",
    "LessEq(_full_domain.lower_bound, _full_domain.upper_bound).prove()"
   ]
  },
  {
   "cell_type": "code",
   "execution_count": null,
   "metadata": {},
   "outputs": [],
   "source": [
    "# Unsatisfied condition: |{-2^{t - 1} + 1 .. 2^{t - 1}}| >= 2^{t} for cell below\n",
    "_full_domain.deduce_cardinality()"
   ]
  },
  {
   "cell_type": "code",
   "execution_count": null,
   "metadata": {},
   "outputs": [],
   "source": [
    "range_equiv_1 = complete_interval_left_shift_image.instantiate(\n",
    "        {N: _two_pow_t, a: lower_bound, b: upper_bound, c: _b, x: l})"
   ]
  },
  {
   "cell_type": "code",
   "execution_count": null,
   "metadata": {},
   "outputs": [],
   "source": [
    "# recall our definition of modular addition\n",
    "# (the t here is _t, the size of the first register)\n",
    "_mod_add_def"
   ]
  },
  {
   "cell_type": "code",
   "execution_count": null,
   "metadata": {},
   "outputs": [],
   "source": [
    "# for the instantiation, we need to know that ell is an Integer:\n",
    "l_in_domain = range_equiv_1.lhs.all_conditions()[0]\n",
    "l_in_domain.derive_element_in_integer(assumptions=[l_in_domain])"
   ]
  },
  {
   "cell_type": "code",
   "execution_count": null,
   "metadata": {},
   "outputs": [],
   "source": [
    "b_mod_add_l_def = _mod_add_def.instantiate({a:_b, b:l}, assumptions=[l_in_domain])"
   ]
  },
  {
   "cell_type": "code",
   "execution_count": null,
   "metadata": {},
   "outputs": [],
   "source": [
    "set_of_all_mod_add_equiv = range_equiv_1.lhs.inner_expr().instance_expr.substitution(\n",
    "        b_mod_add_l_def.derive_reversed())"
   ]
  },
  {
   "cell_type": "code",
   "execution_count": null,
   "metadata": {},
   "outputs": [],
   "source": [
    "range_equiv = set_of_all_mod_add_equiv.sub_right_side_into(range_equiv_1)"
   ]
  },
  {
   "cell_type": "code",
   "execution_count": null,
   "metadata": {},
   "outputs": [],
   "source": [
    "# from the numbers.summation pkg\n",
    "equiv_sums"
   ]
  },
  {
   "cell_type": "markdown",
   "metadata": {},
   "source": [
    "To instantiate the `equiv_sums` theorem, we need to establish that the cardinality of the sets $R = \\{0, \\ldots, 2^t - 1\\}$ and $S = \\{-2^{t-1}+1,\\ldots, 2^{t-1}\\}$ are the same. Dealing with $|R|$ is straightforward; $|S|$ requires a bit more work."
   ]
  },
  {
   "cell_type": "code",
   "execution_count": null,
   "metadata": {},
   "outputs": [],
   "source": [
    "# This will correspond to set R\n",
    "range_equiv.rhs"
   ]
  },
  {
   "cell_type": "code",
   "execution_count": null,
   "metadata": {},
   "outputs": [],
   "source": [
    "range_equiv.rhs.deduce_cardinality()"
   ]
  },
  {
   "cell_type": "code",
   "execution_count": null,
   "metadata": {},
   "outputs": [],
   "source": [
    "# This will correspond to set S\n",
    "range_equiv.lhs.domain"
   ]
  },
  {
   "cell_type": "code",
   "execution_count": null,
   "metadata": {},
   "outputs": [],
   "source": [
    "# We can deduce_cardinality (then simplify the result further below)\n",
    "# This also uses the fact established earlier that 2^{t-1} ≥ -2^{t-1}+1.\n",
    "range_equiv_cardinality = range_equiv.lhs.domain.deduce_cardinality()"
   ]
  },
  {
   "cell_type": "code",
   "execution_count": null,
   "metadata": {},
   "outputs": [],
   "source": [
    "range_equiv_cardinality.inner_expr().rhs.combine_exponents()"
   ]
  },
  {
   "cell_type": "code",
   "execution_count": null,
   "metadata": {},
   "outputs": [],
   "source": [
    "# A reminder of our theorem to be instantiated:\n",
    "equiv_sums"
   ]
  },
  {
   "cell_type": "code",
   "execution_count": null,
   "metadata": {},
   "outputs": [],
   "source": [
    "# auto_simplify_with_known_evaluations defaults to False\n",
    "# so we augment with a 'replacements' option to simplify the lhs of the\n",
    "# consequent to 1 using the prob_sum_eq_1 equality established earlier\n",
    "equiv_sums_inst = equiv_sums.instantiate(\n",
    "        {n: _two_pow_t,\n",
    "         fx: Prob(Equals(_m, x), _m),\n",
    "         gy: ModAdd(_b, y),\n",
    "         R: range_equiv.rhs,\n",
    "         S: range_equiv.lhs.domain,\n",
    "         x: k,\n",
    "         y: l},\n",
    "         replacements = [prob_sum_eq_1])"
   ]
  },
  {
   "cell_type": "code",
   "execution_count": null,
   "metadata": {},
   "outputs": [],
   "source": [
    "# this helps the next step where we want to show Pr_m[m=a] is Complex\n",
    "equiv_sums_inst.antecedent.instance_expr.element.deduce_in_real()"
   ]
  },
  {
   "cell_type": "code",
   "execution_count": null,
   "metadata": {},
   "outputs": [],
   "source": [
    "from proveit import ExprTuple\n",
    "InSet(equiv_sums_inst.antecedent.instance_expr.element, Complex).prove().generalize([[a]], [[equiv_sums_inst.antecedent.domain]])"
   ]
  },
  {
   "cell_type": "code",
   "execution_count": null,
   "metadata": {},
   "outputs": [],
   "source": [
    "# now we can derive the consequent from equiv_sums_inst:\n",
    "shifted_all_prob_equals_one = equiv_sums_inst.derive_consequent().derive_reversed()"
   ]
  },
  {
   "cell_type": "code",
   "execution_count": null,
   "metadata": {},
   "outputs": [],
   "source": [
    "# Recall fail_sum_1 from earlier\n",
    "fail_sum_1"
   ]
  },
  {
   "cell_type": "code",
   "execution_count": null,
   "metadata": {},
   "outputs": [],
   "source": [
    "fail_sum_2 = shifted_all_prob_equals_one.sub_left_side_into(fail_sum_1)"
   ]
  },
  {
   "cell_type": "markdown",
   "metadata": {},
   "source": [
    "Now some work to establish that $-2^{t-1} + 1 \\le e \\le 2^{t-1}$, so that we can eventually partition that first summation at index = $e$."
   ]
  },
  {
   "cell_type": "code",
   "execution_count": null,
   "metadata": {},
   "outputs": [],
   "source": [
    "e_upper_bound = e_in_domain.derive_element_upper_bound()"
   ]
  },
  {
   "cell_type": "code",
   "execution_count": null,
   "metadata": {},
   "outputs": [],
   "source": [
    "Less(e_upper_bound.rhs, Add(e_upper_bound.rhs, two)).prove()"
   ]
  },
  {
   "cell_type": "code",
   "execution_count": null,
   "metadata": {},
   "outputs": [],
   "source": [
    "Less(e_upper_bound.lhs, Add(e_upper_bound.rhs, two)).prove().simplify()"
   ]
  },
  {
   "cell_type": "code",
   "execution_count": null,
   "metadata": {},
   "outputs": [],
   "source": [
    "Less(Neg(_two_pow_t_minus_one), zero).prove()"
   ]
  },
  {
   "cell_type": "code",
   "execution_count": null,
   "metadata": {},
   "outputs": [],
   "source": [
    "Less(Neg(_two_pow_t_minus_one), zero).derive_shifted(one)"
   ]
  },
  {
   "cell_type": "code",
   "execution_count": null,
   "metadata": {},
   "outputs": [],
   "source": [
    "e_in_domain.derive_element_lower_bound()"
   ]
  },
  {
   "cell_type": "code",
   "execution_count": null,
   "metadata": {},
   "outputs": [],
   "source": [
    "Less(Add(Neg(_two_pow_t_minus_one), one), e_upper_bound.lhs).prove()"
   ]
  },
  {
   "cell_type": "markdown",
   "metadata": {},
   "source": [
    "Now, we're ready to partition our summation at the index value $e$."
   ]
  },
  {
   "cell_type": "code",
   "execution_count": null,
   "metadata": {},
   "outputs": [],
   "source": [
    "shifted_all_prob_split_1 = shifted_all_prob_equals_one.lhs.partition(e, side='after')"
   ]
  },
  {
   "cell_type": "markdown",
   "metadata": {},
   "source": [
    "And now we do some more work before being able to split again …"
   ]
  },
  {
   "cell_type": "code",
   "execution_count": null,
   "metadata": {},
   "outputs": [],
   "source": [
    "Less(Neg(e), zero).prove()"
   ]
  },
  {
   "cell_type": "code",
   "execution_count": null,
   "metadata": {},
   "outputs": [],
   "source": [
    "Less(Neg(e), e).prove()"
   ]
  },
  {
   "cell_type": "code",
   "execution_count": null,
   "metadata": {},
   "outputs": [],
   "source": [
    "upper_bound_add_one = Add(e_upper_bound.rhs, one)"
   ]
  },
  {
   "cell_type": "code",
   "execution_count": null,
   "metadata": {},
   "outputs": [],
   "source": [
    "Less(e_upper_bound.rhs, upper_bound_add_one).prove()"
   ]
  },
  {
   "cell_type": "code",
   "execution_count": null,
   "metadata": {},
   "outputs": [],
   "source": [
    "Less(e, upper_bound_add_one).prove()"
   ]
  },
  {
   "cell_type": "code",
   "execution_count": null,
   "metadata": {},
   "outputs": [],
   "source": [
    "Less(Neg(one), zero).prove()\n",
    "Less(e, upper_bound_add_one).left_mult_both_sides(Neg(one)).inner_expr().rhs.distribute()"
   ]
  },
  {
   "cell_type": "code",
   "execution_count": null,
   "metadata": {},
   "outputs": [],
   "source": [
    "shifted_all_prob_split_1_lhs_sum_split = shifted_all_prob_split_1.rhs.operands[0].partition(Neg(e), side='before')"
   ]
  },
  {
   "cell_type": "code",
   "execution_count": null,
   "metadata": {},
   "outputs": [],
   "source": [
    "# recall:\n",
    "shifted_all_prob_split_1"
   ]
  },
  {
   "cell_type": "code",
   "execution_count": null,
   "metadata": {},
   "outputs": [],
   "source": [
    "shifted_all_prob_split_2 = shifted_all_prob_split_1_lhs_sum_split.sub_right_side_into(\n",
    "    shifted_all_prob_split_1, auto_simplify=False)"
   ]
  },
  {
   "cell_type": "code",
   "execution_count": null,
   "metadata": {},
   "outputs": [],
   "source": [
    "shifted_all_prob_split_3 = shifted_all_prob_split_2.inner_expr().rhs.disassociate(0, auto_simplify=False)"
   ]
  },
  {
   "cell_type": "code",
   "execution_count": null,
   "metadata": {},
   "outputs": [],
   "source": [
    "# recall:\n",
    "fail_sum_2"
   ]
  },
  {
   "cell_type": "code",
   "execution_count": null,
   "metadata": {},
   "outputs": [],
   "source": [
    "fail_sum_3 = shifted_all_prob_split_3.sub_right_side_into(fail_sum_2)"
   ]
  },
  {
   "cell_type": "code",
   "execution_count": null,
   "metadata": {},
   "outputs": [],
   "source": [
    "register_qubit_born_rule"
   ]
  },
  {
   "cell_type": "code",
   "execution_count": null,
   "metadata": {},
   "outputs": [],
   "source": [
    "# recall (and recall we have already proven that l is an Integer)\n",
    "l_in_domain"
   ]
  },
  {
   "cell_type": "code",
   "execution_count": null,
   "metadata": {},
   "outputs": [],
   "source": [
    "# recall:\n",
    "b_mod_add_l_def"
   ]
  },
  {
   "cell_type": "code",
   "execution_count": null,
   "metadata": {},
   "outputs": [],
   "source": [
    "InSet(Add(_b, l), Integer).prove(assumptions=[l_in_domain])"
   ]
  },
  {
   "cell_type": "code",
   "execution_count": null,
   "metadata": {},
   "outputs": [],
   "source": [
    "_two_pow_t_is_nat_pos"
   ]
  },
  {
   "cell_type": "code",
   "execution_count": null,
   "metadata": {},
   "outputs": [],
   "source": [
    "b_add_l_mod_2t_in_non_neg_domain = b_mod_add_l_def.rhs.deduce_in_interval(assumptions=[l_in_domain])"
   ]
  },
  {
   "cell_type": "code",
   "execution_count": null,
   "metadata": {},
   "outputs": [],
   "source": [
    "b_mod_add_l_def.sub_left_side_into(b_add_l_mod_2t_in_non_neg_domain)"
   ]
  },
  {
   "cell_type": "code",
   "execution_count": null,
   "metadata": {},
   "outputs": [],
   "source": [
    "prob_b_mod_add_l_eq_1 = register_qubit_born_rule.instantiate(\n",
    "        {n: _t,\n",
    "         k: ModAdd(_b, l),\n",
    "         Psi: _Psi,\n",
    "         m: _m},\n",
    "         assumptions=[l_in_domain])"
   ]
  },
  {
   "cell_type": "code",
   "execution_count": null,
   "metadata": {},
   "outputs": [],
   "source": [
    "# recall:\n",
    "_alpha_def"
   ]
  },
  {
   "cell_type": "code",
   "execution_count": null,
   "metadata": {},
   "outputs": [],
   "source": [
    "alpha_def_inst = _alpha_def.instantiate(assumptions=[l_in_domain])"
   ]
  },
  {
   "cell_type": "code",
   "execution_count": null,
   "metadata": {},
   "outputs": [],
   "source": [
    "prob_as_alpha_sqrd = alpha_def_inst.sub_left_side_into(prob_b_mod_add_l_eq_1)"
   ]
  },
  {
   "cell_type": "markdown",
   "metadata": {},
   "source": [
    "Would like to prove that full_domain $\\supseteq$ neg_domain and full_domain $\\supseteq$ pos_domain, which allows us to later use inclusive_universal_quantification (see about 10 steps below)."
   ]
  },
  {
   "cell_type": "code",
   "execution_count": null,
   "metadata": {},
   "outputs": [],
   "source": [
    "# trivial, but verifying\n",
    "LessEq(Add(Neg(_two_pow_t_minus_one), one), Add(Neg(_two_pow_t_minus_one), one)).prove()"
   ]
  },
  {
   "cell_type": "code",
   "execution_count": null,
   "metadata": {},
   "outputs": [],
   "source": [
    "e_upper_bound"
   ]
  },
  {
   "cell_type": "code",
   "execution_count": null,
   "metadata": {},
   "outputs": [],
   "source": [
    "e_upper_bound_trans_01 = e_upper_bound.derive_shifted(one)"
   ]
  },
  {
   "cell_type": "code",
   "execution_count": null,
   "metadata": {},
   "outputs": [],
   "source": [
    "e_upper_bound_trans_02 = e_upper_bound_trans_01.derive_negated().inner_expr().lhs.distribute()"
   ]
  },
  {
   "cell_type": "code",
   "execution_count": null,
   "metadata": {},
   "outputs": [],
   "source": [
    "Less(Neg(Add(e, one)), zero).prove(assumptions=[e_in_domain])"
   ]
  },
  {
   "cell_type": "code",
   "execution_count": null,
   "metadata": {},
   "outputs": [],
   "source": [
    "LessEq(Neg(Add(e, one)), _two_pow_t_minus_one).prove()"
   ]
  },
  {
   "cell_type": "code",
   "execution_count": null,
   "metadata": {},
   "outputs": [],
   "source": [
    "superset_eq(_full_domain, _neg_domain).prove(assumptions=[e_in_domain])"
   ]
  },
  {
   "cell_type": "code",
   "execution_count": null,
   "metadata": {},
   "outputs": [],
   "source": [
    "_pos_domain"
   ]
  },
  {
   "cell_type": "code",
   "execution_count": null,
   "metadata": {},
   "outputs": [],
   "source": [
    "LessEq(Add(Neg(_two_pow_t_minus_one), one), Add(e, one)).prove(assumptions=[e_in_domain])"
   ]
  },
  {
   "cell_type": "code",
   "execution_count": null,
   "metadata": {},
   "outputs": [],
   "source": [
    "e_upper_bound.derive_shifted(one).add_right(one)"
   ]
  },
  {
   "cell_type": "code",
   "execution_count": null,
   "metadata": {},
   "outputs": [],
   "source": [
    "superset_eq(_full_domain, _pos_domain).prove(assumptions=[e_in_domain])"
   ]
  },
  {
   "cell_type": "markdown",
   "metadata": {},
   "source": [
    "Having established that \\_full_domain $\\supseteq$ \\_neg_domain and that \\_full_domain $\\supseteq$ \\_pos_domain, we can proceed to use inclusive_universal_quantification to create some equalities to then be used for instance_substitution:"
   ]
  },
  {
   "cell_type": "code",
   "execution_count": null,
   "metadata": {},
   "outputs": [],
   "source": [
    "forall_over_neg_domain = Forall(l, prob_as_alpha_sqrd.expr, domain=_neg_domain)"
   ]
  },
  {
   "cell_type": "code",
   "execution_count": null,
   "metadata": {},
   "outputs": [],
   "source": [
    "# having trouble using the Forall.conclude_via_domain_inclusion because it doesn't instantiate the\n",
    "# theorem variable y to the desired instance_param, so building from scratch using the bare\n",
    "# inclusive_universal_quantification theorem in logic.sets.inclusion\n",
    "from proveit.logic.sets.inclusion import inclusive_universal_quantification\n",
    "from proveit import Function, A, B, P\n",
    "_x_sub = forall_over_neg_domain.instance_param\n",
    "_P_op = Function(P, _x_sub)\n",
    "_P_op_sub = forall_over_neg_domain.instance_expr\n",
    "_A_sub = _full_domain\n",
    "_B_sub = _neg_domain\n",
    "_y_sub = forall_over_neg_domain.instance_param\n",
    "prob_as_alpha_sqrd_over_neg_domain = inclusive_universal_quantification.instantiate(\n",
    "        {x: _x_sub,\n",
    "         _P_op: _P_op_sub,\n",
    "         A: _A_sub,\n",
    "         B: _B_sub,\n",
    "         y: _y_sub},\n",
    "         assumptions=[e_in_domain],\n",
    "         auto_simplify=False).derive_consequent()"
   ]
  },
  {
   "cell_type": "code",
   "execution_count": null,
   "metadata": {},
   "outputs": [],
   "source": [
    "forall_over_pos_domain = Forall(l, prob_as_alpha_sqrd.expr, domain=_pos_domain)"
   ]
  },
  {
   "cell_type": "code",
   "execution_count": null,
   "metadata": {},
   "outputs": [],
   "source": [
    "# having trouble using the Forall.conclude_via_domain_inclusion because it doesn't instantiate the\n",
    "# theorem variable y to the desired instance_param, so building from scratch using the bare\n",
    "# inclusive_universal_quantification theorem in logic.sets.inclusion\n",
    "from proveit.logic.sets.inclusion import inclusive_universal_quantification\n",
    "from proveit import Function, A, B, P\n",
    "_x_sub = forall_over_pos_domain.instance_param\n",
    "_P_op = Function(P, _x_sub)\n",
    "_P_op_sub = forall_over_pos_domain.instance_expr\n",
    "_A_sub = _full_domain\n",
    "_B_sub = _pos_domain\n",
    "_y_sub = forall_over_pos_domain.instance_param\n",
    "prob_as_alpha_sqrd_over_pos_domain = inclusive_universal_quantification.instantiate(\n",
    "        {x: _x_sub,\n",
    "         _P_op: _P_op_sub,\n",
    "         A: _A_sub,\n",
    "         B: _B_sub,\n",
    "         y: _y_sub},\n",
    "         assumptions=[e_in_domain],\n",
    "         auto_simplify=False).derive_consequent()"
   ]
  },
  {
   "cell_type": "code",
   "execution_count": null,
   "metadata": {},
   "outputs": [],
   "source": [
    "# recall\n",
    "fail_sum_3"
   ]
  },
  {
   "cell_type": "code",
   "execution_count": null,
   "metadata": {},
   "outputs": [],
   "source": [
    "neg_domain_sum_eq = fail_sum_3.rhs.operands[0].instance_substitution(\n",
    "        prob_as_alpha_sqrd_over_neg_domain, assumptions=[e_in_domain])"
   ]
  },
  {
   "cell_type": "code",
   "execution_count": null,
   "metadata": {},
   "outputs": [],
   "source": [
    "pos_domain_sum_eq = fail_sum_3.rhs.operands[1].instance_substitution(\n",
    "        prob_as_alpha_sqrd_over_pos_domain, assumptions=[e_in_domain])"
   ]
  },
  {
   "cell_type": "code",
   "execution_count": null,
   "metadata": {},
   "outputs": [],
   "source": [
    "fail_sum_4 = neg_domain_sum_eq.sub_right_side_into(fail_sum_3)"
   ]
  },
  {
   "cell_type": "code",
   "execution_count": null,
   "metadata": {},
   "outputs": [],
   "source": [
    "fail_sum_5 = pos_domain_sum_eq.sub_right_side_into(fail_sum_4)"
   ]
  },
  {
   "cell_type": "code",
   "execution_count": null,
   "metadata": {},
   "outputs": [],
   "source": [
    "%qed"
   ]
  },
  {
   "cell_type": "code",
   "execution_count": null,
   "metadata": {},
   "outputs": [],
   "source": []
  }
 ],
 "metadata": {
  "kernelspec": {
   "display_name": "Python 3",
   "language": "python",
   "name": "python3"
  }
 },
 "nbformat": 4,
 "nbformat_minor": 0
}
