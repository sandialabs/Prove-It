{
 "cells": [
  {
   "cell_type": "markdown",
   "metadata": {},
   "source": [
    "Proof of <a class=\"ProveItLink\" href=\"../../../../../../_theory_nbs_/theory.ipynb\">proveit</a>.<a class=\"ProveItLink\" href=\"../../../../../_theory_nbs_/theory.ipynb\">physics</a>.<a class=\"ProveItLink\" href=\"../../../../_theory_nbs_/theory.ipynb\">quantum</a>.<a class=\"ProveItLink\" href=\"../../theory.ipynb\">QPE</a>.<a class=\"ProveItLink\" href=\"../../theorems.ipynb#_alpha_b_round_sqrd_ineq\">_alpha_b_round_sqrd_ineq</a> theorem\n",
    "========"
   ]
  },
  {
   "cell_type": "code",
   "execution_count": null,
   "metadata": {},
   "outputs": [],
   "source": [
    "import proveit\n",
    "theory = proveit.Theory() # the theorem's theory\n",
    "from proveit import b, m, theta, defaults\n",
    "from proveit.logic import NotEquals, InSet\n",
    "from proveit.numbers import (\n",
    "        zero, one, two, pi, Abs, Add, Complex, frac, IntervalOC, Less, greater, Mult, Exp)\n",
    "# QPE common exprs\n",
    "from proveit.physics.quantum.QPE import _b_round, _delta_b_round, _t, _two_pow_t\n",
    " # QPE theorems\n",
    "from proveit.physics.quantum.QPE import (\n",
    "        _alpha_m_mod_as_geometric_sum, _alpha_are_complex, _best_round_is_int,\n",
    "        _delta_b_is_real, _delta_b_is_zero_or_non_int,\n",
    "        _phase_from_best_with_delta_b, _scaled_abs_delta_b_bound,\n",
    "        _t_in_natural_pos, _two_pow_t_is_nat_pos)\n",
    "from proveit.trigonometry import Sin"
   ]
  },
  {
   "cell_type": "code",
   "execution_count": null,
   "metadata": {},
   "outputs": [],
   "source": [
    "%proving _alpha_b_round_sqrd_ineq"
   ]
  },
  {
   "cell_type": "code",
   "execution_count": null,
   "metadata": {},
   "outputs": [],
   "source": [
    "defaults.assumptions = [_alpha_b_round_sqrd_ineq.antecedent]"
   ]
  },
  {
   "cell_type": "code",
   "execution_count": null,
   "metadata": {},
   "outputs": [],
   "source": [
    "# It will be best to disable simplification directives as follows:\n",
    "#Exp.change_simplification_directives(reduce_double_exponent=False)\n",
    "Mult.change_simplification_directives(combine_exponents=False)"
   ]
  },
  {
   "cell_type": "code",
   "execution_count": null,
   "metadata": {},
   "outputs": [],
   "source": [
    "alpha_index = _alpha_b_round_sqrd_ineq.consequent.lhs.base.operand.index"
   ]
  },
  {
   "cell_type": "code",
   "execution_count": null,
   "metadata": {},
   "outputs": [],
   "source": [
    "_best_round_is_int"
   ]
  },
  {
   "cell_type": "markdown",
   "metadata": {},
   "source": [
    "## Start from $\\alpha_{m~\\textrm{mod}~2^t}$ expressed as a geometric sum, instantiated with $m:b_r$"
   ]
  },
  {
   "cell_type": "code",
   "execution_count": null,
   "metadata": {},
   "outputs": [],
   "source": [
    "_alpha_m_mod_as_geometric_sum"
   ]
  },
  {
   "cell_type": "code",
   "execution_count": null,
   "metadata": {},
   "outputs": [],
   "source": [
    "_alpha_eq_01 = (\n",
    "        _alpha_m_mod_as_geometric_sum.instantiate({m: _b_round}))"
   ]
  },
  {
   "cell_type": "markdown",
   "metadata": {},
   "source": [
    "### Put this in terms of $\\delta_{b_r}$"
   ]
  },
  {
   "cell_type": "code",
   "execution_count": null,
   "metadata": {},
   "outputs": [],
   "source": [
    "_phase_from_best_with_delta_b"
   ]
  },
  {
   "cell_type": "code",
   "execution_count": null,
   "metadata": {},
   "outputs": [],
   "source": [
    "_phase_from_best_with_delta_b_inst = (\n",
    "        _phase_from_best_with_delta_b.instantiate({b: _b_round}))"
   ]
  },
  {
   "cell_type": "code",
   "execution_count": null,
   "metadata": {},
   "outputs": [],
   "source": [
    "# We want to know that _delta_b_round and 2^t are real so that\n",
    "# auto-simplification will manifest in the substitute() step further below\n",
    "_delta_b_is_real"
   ]
  },
  {
   "cell_type": "code",
   "execution_count": null,
   "metadata": {},
   "outputs": [],
   "source": [
    "_delta_b_is_real.instantiate({b: _b_round})"
   ]
  },
  {
   "cell_type": "code",
   "execution_count": null,
   "metadata": {},
   "outputs": [],
   "source": [
    "with Exp.temporary_simplification_directives() as tmp_directives:\n",
    "    tmp_directives.reduce_double_exponent = False # \n",
    "    _alpha_eq_02 = (\n",
    "        _alpha_eq_01.inner_expr().rhs.factors[1].summand.base.exponent.\n",
    "        factors[3].operands[0].substitute(_phase_from_best_with_delta_b_inst.rhs))"
   ]
  },
  {
   "cell_type": "markdown",
   "metadata": {},
   "source": [
    "## Evaluate the Finite Geometric Sum\n",
    "\n",
    "To evaluate the summation as a finite geometric sum, we need to establish that the constant ratio $e^{2\\pi i \\delta_{b_r}} \\neq 1$ which is automatically proven given $\\delta_{b_r} \\notin \\mathbb{Z}$."
   ]
  },
  {
   "cell_type": "code",
   "execution_count": null,
   "metadata": {},
   "outputs": [],
   "source": [
    "_delta_b_is_zero_or_non_int"
   ]
  },
  {
   "cell_type": "code",
   "execution_count": null,
   "metadata": {},
   "outputs": [],
   "source": [
    "_delta_b_is_zero_or_non_int_inst = _delta_b_is_zero_or_non_int.instantiate({b: _b_round})"
   ]
  },
  {
   "cell_type": "code",
   "execution_count": null,
   "metadata": {},
   "outputs": [],
   "source": [
    "_delta_b_round_non_int = _delta_b_is_zero_or_non_int_inst.derive_right_if_not_left()"
   ]
  },
  {
   "cell_type": "markdown",
   "metadata": {},
   "source": [
    "We can then evaluate the sum using the standard formula for a finite geometric sum:"
   ]
  },
  {
   "cell_type": "code",
   "execution_count": null,
   "metadata": {},
   "outputs": [],
   "source": [
    "# knowing that _t is in positive nats allows a bit of auto-simplification\n",
    "# in the numerator's exponent when we call the geom_sum_reduce()\n",
    "_t_in_natural_pos"
   ]
  },
  {
   "cell_type": "code",
   "execution_count": null,
   "metadata": {},
   "outputs": [],
   "source": [
    "_alpha_eq_03 = _alpha_eq_02.inner_expr().rhs.factors[1].geom_sum_reduce()"
   ]
  },
  {
   "cell_type": "markdown",
   "metadata": {},
   "source": [
    "## Take the Magnitude (Abs) of Both Sides\n",
    "For some of the auto-simplification, we need to establish that the $\\alpha$ expression is in the Complex numbers and that the eventual $\\sin$ function in the denominator is non-zero. For that second constraint, we eventually need to show that $\\pi |\\delta_{b_r}| \\in (0, \\frac{\\pi}{2}]$, and to do that we choose here to use the tighter bound on $\\delta_{b_r}$ (in part to avoid having to use two different bounding theorems, since we want to use that tighter bound later in the proof as well)."
   ]
  },
  {
   "cell_type": "code",
   "execution_count": null,
   "metadata": {},
   "outputs": [],
   "source": [
    "angle = Mult(pi, Abs(_delta_b_round))"
   ]
  },
  {
   "cell_type": "code",
   "execution_count": null,
   "metadata": {},
   "outputs": [],
   "source": [
    "Less(zero, angle).prove()"
   ]
  },
  {
   "cell_type": "code",
   "execution_count": null,
   "metadata": {},
   "outputs": [],
   "source": [
    "_scaled_abs_delta_b_bound"
   ]
  },
  {
   "cell_type": "code",
   "execution_count": null,
   "metadata": {},
   "outputs": [],
   "source": [
    "assert False"
   ]
  },
  {
   "cell_type": "code",
   "execution_count": null,
   "metadata": {},
   "outputs": [],
   "source": [
    "_scaled_abs_delta_b_bound.lhs.deduce_bound(_two_pow_t_is_nat_pos.derive_element_lower_bound())"
   ]
  },
  {
   "cell_type": "code",
   "execution_count": null,
   "metadata": {},
   "outputs": [],
   "source": [
    "Less(angle, frac(pi, two)).prove()"
   ]
  },
  {
   "cell_type": "code",
   "execution_count": null,
   "metadata": {},
   "outputs": [],
   "source": [
    "Less(frac(pi, two), pi).prove()"
   ]
  },
  {
   "cell_type": "code",
   "execution_count": null,
   "metadata": {},
   "outputs": [],
   "source": [
    "Less(angle, pi).prove()"
   ]
  },
  {
   "cell_type": "code",
   "execution_count": null,
   "metadata": {},
   "outputs": [],
   "source": [
    "sin_angle = Sin(angle)"
   ]
  },
  {
   "cell_type": "code",
   "execution_count": null,
   "metadata": {},
   "outputs": [],
   "source": [
    "sin_angle_upper_bound = sin_angle.deduce_linear_upper_bound()"
   ]
  },
  {
   "cell_type": "code",
   "execution_count": null,
   "metadata": {},
   "outputs": [],
   "source": [
    "sin_angle.deduce_in_interval()"
   ]
  },
  {
   "cell_type": "code",
   "execution_count": null,
   "metadata": {},
   "outputs": [],
   "source": [
    "from proveit.numbers import greater\n",
    "sin_angle_lower_bound = greater(sin_angle, zero).prove()"
   ]
  },
  {
   "cell_type": "code",
   "execution_count": null,
   "metadata": {},
   "outputs": [],
   "source": [
    "_alpha_are_complex.instantiate({m:alpha_index})"
   ]
  },
  {
   "cell_type": "code",
   "execution_count": null,
   "metadata": {},
   "outputs": [],
   "source": [
    "with Mult.temporary_simplification_directives() as tmp_directives:\n",
    "    # don't combine 2 with 2^t, and pull the 2^t to the front\n",
    "    tmp_directives.combine_exponents=False\n",
    "    tmp_directives.order_key_fn = lambda factor : 0 if factor==_two_pow_t else 1\n",
    "    _alpha_eq_04 = _alpha_eq_03.abs_both_sides()"
   ]
  },
  {
   "cell_type": "markdown",
   "metadata": {},
   "source": [
    "## Bound the numerator and the denominator of the $|\\alpha_{b_r}|$Expression, <br/>using Bounds on the Sin Functions"
   ]
  },
  {
   "cell_type": "markdown",
   "metadata": {},
   "source": [
    "### Bound the sin function in the _denominator_ utilizing $\\sin{\\theta} < \\theta$ for $\\theta > 0$"
   ]
  },
  {
   "cell_type": "code",
   "execution_count": null,
   "metadata": {},
   "outputs": [],
   "source": [
    "# denominator_sin = _alpha_eq_04.rhs.factors[1].denominator"
   ]
  },
  {
   "cell_type": "code",
   "execution_count": null,
   "metadata": {},
   "outputs": [],
   "source": [
    "# denominator_sin_bound = denominator_sin.deduce_linear_upper_bound()"
   ]
  },
  {
   "cell_type": "markdown",
   "metadata": {},
   "source": [
    "### Bound the sin function in the _numerator_ utilizing $\\sin{\\theta} \\ge \\frac{2}{\\pi}(\\theta)$ for $0 < \\theta \\le \\frac{\\pi}{2}$"
   ]
  },
  {
   "cell_type": "code",
   "execution_count": null,
   "metadata": {},
   "outputs": [],
   "source": [
    "numerator_sin = _alpha_eq_04.rhs.factors[1].numerator"
   ]
  },
  {
   "cell_type": "code",
   "execution_count": null,
   "metadata": {},
   "outputs": [],
   "source": [
    "numerator_sin_bound = numerator_sin.deduce_linear_lower_bound()"
   ]
  },
  {
   "cell_type": "markdown",
   "metadata": {},
   "source": [
    "### Now we use the numerator and denominator bounds to bound the expression for $|\\alpha_{b_r}|$"
   ]
  },
  {
   "cell_type": "code",
   "execution_count": null,
   "metadata": {},
   "outputs": [],
   "source": [
    "# recall from earlier:\n",
    "_alpha_eq_04"
   ]
  },
  {
   "cell_type": "code",
   "execution_count": null,
   "metadata": {},
   "outputs": [],
   "source": [
    "rhs_bound = _alpha_eq_04.rhs.deduce_bound([numerator_sin_bound, sin_angle_upper_bound])"
   ]
  },
  {
   "cell_type": "code",
   "execution_count": null,
   "metadata": {},
   "outputs": [],
   "source": [
    "_alpha_ineq = _alpha_eq_04.apply_transitivity(rhs_bound)"
   ]
  },
  {
   "cell_type": "markdown",
   "metadata": {},
   "source": [
    "### Simplify and square both sides"
   ]
  },
  {
   "cell_type": "code",
   "execution_count": null,
   "metadata": {},
   "outputs": [],
   "source": [
    "_alpha_ineq.square_both_sides()"
   ]
  },
  {
   "cell_type": "code",
   "execution_count": null,
   "metadata": {},
   "outputs": [],
   "source": [
    "%qed"
   ]
  },
  {
   "cell_type": "code",
   "execution_count": null,
   "metadata": {},
   "outputs": [],
   "source": []
  }
 ],
 "metadata": {
  "kernelspec": {
   "display_name": "Python 3",
   "language": "python",
   "name": "python3"
  }
 },
 "nbformat": 4,
 "nbformat_minor": 0
}
