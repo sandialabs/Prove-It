{
 "cells": [
  {
   "cell_type": "markdown",
   "metadata": {},
   "source": [
    "Proof of <a class=\"ProveItLink\" href=\"../../../../../../_theory_nbs_/theory.ipynb\">proveit</a>.<a class=\"ProveItLink\" href=\"../../../../../_theory_nbs_/theory.ipynb\">physics</a>.<a class=\"ProveItLink\" href=\"../../../../_theory_nbs_/theory.ipynb\">quantum</a>.<a class=\"ProveItLink\" href=\"../../theory.ipynb\">QPE</a>.<a class=\"ProveItLink\" href=\"../../theorems.ipynb#_alpha_b_round_sqrd_ineq\">_alpha_b_round_sqrd_ineq</a> theorem\n",
    "========"
   ]
  },
  {
   "cell_type": "code",
   "execution_count": null,
   "metadata": {},
   "outputs": [],
   "source": [
    "import proveit\n",
    "theory = proveit.Theory() # the theorem's theory\n",
    "from proveit import b, l, theta, defaults\n",
    "from proveit.logic import InSet\n",
    "from proveit.numbers import (\n",
    "        zero, one, two, pi, Abs, Add, Complex, frac, IntervalOC, Less, Mult)\n",
    "from proveit.numbers.exponentiation import complex_power_not_one\n",
    "# QPE common exprs\n",
    "from proveit.physics.quantum.QPE import _b_round, _delta_b_round, _t, _two_pow_t\n",
    " # QPE theorems\n",
    "from proveit.physics.quantum.QPE import (\n",
    "        _alpha_l_mod_two_pow_t_evaluation_as_geo_sum, _best_round_is_int,\n",
    "        _delta_b_is_real, _delta_b_is_zero_or_non_int,\n",
    "        _phase_from_best_with_delta_b, _scaled_delta_b_round_in_interval,\n",
    "        _t_in_natural_pos, _two_pow_t_is_nat_pos)\n",
    "from proveit.trigonometry import Sin"
   ]
  },
  {
   "cell_type": "code",
   "execution_count": null,
   "metadata": {},
   "outputs": [],
   "source": [
    "%proving _alpha_b_round_sqrd_ineq"
   ]
  },
  {
   "cell_type": "code",
   "execution_count": null,
   "metadata": {},
   "outputs": [],
   "source": [
    "defaults.assumptions = [_alpha_b_round_sqrd_ineq.antecedent]"
   ]
  },
  {
   "cell_type": "code",
   "execution_count": null,
   "metadata": {},
   "outputs": [],
   "source": [
    "_best_round_is_int"
   ]
  },
  {
   "cell_type": "code",
   "execution_count": null,
   "metadata": {},
   "outputs": [],
   "source": [
    "_alpha_l_mod_two_pow_t_evaluation_as_geo_sum"
   ]
  },
  {
   "cell_type": "code",
   "execution_count": null,
   "metadata": {},
   "outputs": [],
   "source": [
    "_alpha_eq_01 = (\n",
    "        _alpha_l_mod_two_pow_t_evaluation_as_geo_sum.instantiate({l: _b_round}))"
   ]
  },
  {
   "cell_type": "code",
   "execution_count": null,
   "metadata": {},
   "outputs": [],
   "source": [
    "_phase_from_best_with_delta_b"
   ]
  },
  {
   "cell_type": "code",
   "execution_count": null,
   "metadata": {},
   "outputs": [],
   "source": [
    "_phase_from_best_with_delta_b_inst = (\n",
    "        _phase_from_best_with_delta_b.instantiate({b: _b_round}))"
   ]
  },
  {
   "cell_type": "code",
   "execution_count": null,
   "metadata": {},
   "outputs": [],
   "source": [
    "# We want to know that _delta_b_round and 2^t are real so that\n",
    "# auto-simplification will manifest in the substitute() step further below\n",
    "_delta_b_is_real"
   ]
  },
  {
   "cell_type": "code",
   "execution_count": null,
   "metadata": {},
   "outputs": [],
   "source": [
    "_delta_b_is_real.instantiate({b: _b_round})"
   ]
  },
  {
   "cell_type": "code",
   "execution_count": null,
   "metadata": {},
   "outputs": [],
   "source": [
    "_two_pow_t_is_nat_pos"
   ]
  },
  {
   "cell_type": "code",
   "execution_count": null,
   "metadata": {},
   "outputs": [],
   "source": [
    "_alpha_eq_02 = (\n",
    "    _alpha_eq_01.inner_expr().rhs.factors[1].summand.base.exponent.\n",
    "    factors[3].operands[0].substitute(_phase_from_best_with_delta_b_inst.rhs))"
   ]
  },
  {
   "cell_type": "markdown",
   "metadata": {},
   "source": [
    "### Establish that $ e^{2 \\pi i \\delta_{b_r}}\\ne 1$\n",
    "To evaluate the summation as a finite geometric sum, we need to establish that the constant ratio $e^{2\\pi i \\delta_{b_r}}$ is not 1.<br/>This part we may want to eventually separate out as its own lemma."
   ]
  },
  {
   "cell_type": "code",
   "execution_count": null,
   "metadata": {},
   "outputs": [],
   "source": [
    "_delta_b_is_zero_or_non_int"
   ]
  },
  {
   "cell_type": "code",
   "execution_count": null,
   "metadata": {},
   "outputs": [],
   "source": [
    "_delta_b_is_zero_or_non_int_inst = _delta_b_is_zero_or_non_int.instantiate({b: _b_round})"
   ]
  },
  {
   "cell_type": "code",
   "execution_count": null,
   "metadata": {},
   "outputs": [],
   "source": [
    "_delta_b_round_non_int = _delta_b_is_zero_or_non_int_inst.derive_right_if_not_left()"
   ]
  },
  {
   "cell_type": "code",
   "execution_count": null,
   "metadata": {},
   "outputs": [],
   "source": [
    "theta_temp = Mult(two, pi, _delta_b_round)"
   ]
  },
  {
   "cell_type": "code",
   "execution_count": null,
   "metadata": {},
   "outputs": [],
   "source": [
    "theta_temp_over_2_pi = frac(theta_temp, Mult(two, pi))"
   ]
  },
  {
   "cell_type": "code",
   "execution_count": null,
   "metadata": {},
   "outputs": [],
   "source": [
    "theta_temp_over_2_pi_02 = theta_temp_over_2_pi.inner_expr().cancelation(two)"
   ]
  },
  {
   "cell_type": "code",
   "execution_count": null,
   "metadata": {},
   "outputs": [],
   "source": [
    "theta_temp_over_2_pi_02.sub_left_side_into(_delta_b_round_non_int)"
   ]
  },
  {
   "cell_type": "code",
   "execution_count": null,
   "metadata": {},
   "outputs": [],
   "source": [
    "complex_power_not_one"
   ]
  },
  {
   "cell_type": "code",
   "execution_count": null,
   "metadata": {},
   "outputs": [],
   "source": [
    "complex_power_not_one_inst = complex_power_not_one.instantiate(\n",
    "        {theta: theta_temp})"
   ]
  },
  {
   "cell_type": "code",
   "execution_count": null,
   "metadata": {},
   "outputs": [],
   "source": [
    "exp_expr_not_one = complex_power_not_one_inst.derive_left_via_equality()"
   ]
  },
  {
   "cell_type": "code",
   "execution_count": null,
   "metadata": {},
   "outputs": [],
   "source": [
    "# then tweak the exponent a bit by commuting the i and pi:\n",
    "exp_expr_not_one.inner_expr().lhs.exponent.commute(1, 2)"
   ]
  },
  {
   "cell_type": "markdown",
   "metadata": {},
   "source": [
    "### Evaluate the Finite Geometric Sum\n",
    "We can then evaluate the sum using the standard formula for a finite geometric sum:"
   ]
  },
  {
   "cell_type": "code",
   "execution_count": null,
   "metadata": {},
   "outputs": [],
   "source": [
    "# knowing that _t is in positive nats allows a bit of auto-simplification\n",
    "# in the numerator's exponent when we call the geom_sum_reduce()\n",
    "_t_in_natural_pos"
   ]
  },
  {
   "cell_type": "code",
   "execution_count": null,
   "metadata": {},
   "outputs": [],
   "source": [
    "_alpha_eq_03 = _alpha_eq_02.inner_expr().rhs.factors[1].geom_sum_reduce()"
   ]
  },
  {
   "cell_type": "markdown",
   "metadata": {},
   "source": [
    "### Take the Magnitude (Abs) of Both Sides\n",
    "For some of the auto-simplification, we need to establish that the $\\alpha$ expression is in the Complex numbers and that the eventual $\\sin$ function in the denominator is non-zero. For that second constraint, we eventually need to show that $\\pi |\\delta_{b_r}| \\in (0, \\frac{\\pi}{2}]$, and to do that we choose here to use the tighter bound on $\\delta_{b_r}$ (in part to avoid having to use two different bounding theorems, since we want to use that tighter bound later in the proof as well)."
   ]
  },
  {
   "cell_type": "code",
   "execution_count": null,
   "metadata": {},
   "outputs": [],
   "source": [
    "# for the abs_both_sides() a little further down, we need to\n",
    "# know that our alpha is in complex\n",
    "InSet(_alpha_eq_03.rhs, Complex).prove()"
   ]
  },
  {
   "cell_type": "code",
   "execution_count": null,
   "metadata": {},
   "outputs": [],
   "source": [
    "_scaled_delta_b_round_in_interval"
   ]
  },
  {
   "cell_type": "code",
   "execution_count": null,
   "metadata": {},
   "outputs": [],
   "source": [
    "_delta_b_round_in_interval_tight = (\n",
    "    _scaled_delta_b_round_in_interval.derive_rescaled_membership(frac(one, _two_pow_t)).\n",
    "    inner_expr().domain.lower_bound.operand.distribute().\n",
    "    inner_expr().domain.upper_bound.distribute())"
   ]
  },
  {
   "cell_type": "code",
   "execution_count": null,
   "metadata": {},
   "outputs": [],
   "source": [
    "Less(zero, Abs(_delta_b_round)).prove()"
   ]
  },
  {
   "cell_type": "code",
   "execution_count": null,
   "metadata": {},
   "outputs": [],
   "source": [
    "# for convenience\n",
    "_two_pow__one_plus_t = _delta_b_round_in_interval_tight.domain.upper_bound.denominator"
   ]
  },
  {
   "cell_type": "code",
   "execution_count": null,
   "metadata": {},
   "outputs": [],
   "source": [
    "abs_delta_b_round_weak_upper_bound_tight = (\n",
    "    Abs(_delta_b_round).deduce_weak_upper_bound(frac(one, _two_pow__one_plus_t)))"
   ]
  },
  {
   "cell_type": "code",
   "execution_count": null,
   "metadata": {},
   "outputs": [],
   "source": [
    "abs_delta_b_round_in_interval_tight = (\n",
    "    InSet(Abs(_delta_b_round), IntervalOC(zero, frac(one, _two_pow__one_plus_t))).prove())"
   ]
  },
  {
   "cell_type": "code",
   "execution_count": null,
   "metadata": {},
   "outputs": [],
   "source": [
    "pi_abs_delta_in_interval = (\n",
    "        abs_delta_b_round_in_interval_tight.derive_rescaled_membership(pi).\n",
    "        inner_expr().domain.upper_bound.distribute())"
   ]
  },
  {
   "cell_type": "code",
   "execution_count": null,
   "metadata": {},
   "outputs": [],
   "source": [
    "_t_in_natural_pos"
   ]
  },
  {
   "cell_type": "code",
   "execution_count": null,
   "metadata": {},
   "outputs": [],
   "source": [
    "one_less_one_plus_t = Less(one, Add(one, _t)).prove()"
   ]
  },
  {
   "cell_type": "code",
   "execution_count": null,
   "metadata": {},
   "outputs": [],
   "source": [
    "_two_pow__1_plus_t_greater_two = _two_pow__one_plus_t.deduce_bound(one_less_one_plus_t.reversed())"
   ]
  },
  {
   "cell_type": "code",
   "execution_count": null,
   "metadata": {},
   "outputs": [],
   "source": [
    "one_over_two_pow__t_plus_one_less_one_over_two_pow_t = (\n",
    "        frac(one, _two_pow__one_plus_t).deduce_bound(\n",
    "        _two_pow__1_plus_t_greater_two))"
   ]
  },
  {
   "cell_type": "code",
   "execution_count": null,
   "metadata": {},
   "outputs": [],
   "source": [
    "(one_over_two_pow__t_plus_one_less_one_over_two_pow_t.left_mult_both_sides(pi).\n",
    " inner_expr().lhs.distribute().inner_expr().rhs.distribute())"
   ]
  },
  {
   "cell_type": "code",
   "execution_count": null,
   "metadata": {},
   "outputs": [],
   "source": [
    "denom_sin = Sin(Mult(pi, Abs(_delta_b_round)))"
   ]
  },
  {
   "cell_type": "code",
   "execution_count": null,
   "metadata": {},
   "outputs": [],
   "source": [
    "denom_sin_bound = denom_sin.deduce_linear_lower_bound()"
   ]
  },
  {
   "cell_type": "code",
   "execution_count": null,
   "metadata": {},
   "outputs": [],
   "source": [
    "_alpha_eq_04 = _alpha_eq_03.abs_both_sides()"
   ]
  },
  {
   "cell_type": "code",
   "execution_count": null,
   "metadata": {},
   "outputs": [],
   "source": [
    "_alpha_eq_05 =(\n",
    "    _alpha_eq_04.inner_expr().rhs.factors[1].numerator.\n",
    "    operand.numerator.factors[0].factor(two))"
   ]
  },
  {
   "cell_type": "code",
   "execution_count": null,
   "metadata": {},
   "outputs": [],
   "source": [
    "# Here we want to pull out and cancel the 2s in the numerator of the Sin argument,\n",
    "# but because of auto-simplification, the disassociation only works if we also\n",
    "# preserve the desired (unassociated) result, which is then further simplified\n",
    "# with an automatic cancelation.\n",
    "_alpha_eq_06 = (\n",
    "    _alpha_eq_05.inner_expr().rhs.factors[1].numerator.operand.numerator.\n",
    "    disassociate(0, preserve_expr=Mult(two, _two_pow_t, pi, Abs(_delta_b_round))))"
   ]
  },
  {
   "cell_type": "markdown",
   "metadata": {},
   "source": [
    "## Bound the numerator and the denominator of the $|\\alpha_{b_r}|$Expression, <br/>using Bounds on the Sin Functions"
   ]
  },
  {
   "cell_type": "markdown",
   "metadata": {},
   "source": [
    "### Bound the sin function in the _denominator_ utilizing $\\sin{\\theta} < \\theta$ for $\\theta > 0$"
   ]
  },
  {
   "cell_type": "code",
   "execution_count": null,
   "metadata": {},
   "outputs": [],
   "source": [
    "denominator_sin = _alpha_eq_06.rhs.factors[1].denominator"
   ]
  },
  {
   "cell_type": "code",
   "execution_count": null,
   "metadata": {},
   "outputs": [],
   "source": [
    "denominator_sin_bound = denominator_sin.deduce_linear_upper_bound()"
   ]
  },
  {
   "cell_type": "markdown",
   "metadata": {},
   "source": [
    "### Bound the sin function in the _numerator_ utilizing $\\sin{\\theta} \\ge \\frac{2}{\\pi}(\\theta)$ for $0 < \\theta \\le \\frac{\\pi}{2}$"
   ]
  },
  {
   "cell_type": "code",
   "execution_count": null,
   "metadata": {},
   "outputs": [],
   "source": [
    "numerator_sin = _alpha_eq_06.rhs.factors[1].numerator"
   ]
  },
  {
   "cell_type": "code",
   "execution_count": null,
   "metadata": {},
   "outputs": [],
   "source": [
    "# recall from above\n",
    "abs_delta_b_round_in_interval_tight"
   ]
  },
  {
   "cell_type": "code",
   "execution_count": null,
   "metadata": {},
   "outputs": [],
   "source": [
    "numerator_sin_arg_in_interval = (\n",
    "    abs_delta_b_round_in_interval_tight.derive_rescaled_membership(Mult(_two_pow_t, pi)).\n",
    "    inner_expr().domain.upper_bound.associate(1, 2).\n",
    "    inner_expr().domain.upper_bound.factors[1].distribute().\n",
    "    inner_expr().domain.upper_bound.distribute().\n",
    "    inner_expr().domain.upper_bound.denominator.factor(two))"
   ]
  },
  {
   "cell_type": "code",
   "execution_count": null,
   "metadata": {},
   "outputs": [],
   "source": [
    "numerator_sin_bound = numerator_sin.deduce_linear_lower_bound()"
   ]
  },
  {
   "cell_type": "markdown",
   "metadata": {},
   "source": [
    "### Now we use the numerator and denominator bounds to bound the expression for $|\\alpha_{b_r}|$"
   ]
  },
  {
   "cell_type": "code",
   "execution_count": null,
   "metadata": {},
   "outputs": [],
   "source": [
    "# recall from earlier:\n",
    "_alpha_eq_06"
   ]
  },
  {
   "cell_type": "code",
   "execution_count": null,
   "metadata": {},
   "outputs": [],
   "source": [
    "rhs_bound = _alpha_eq_06.rhs.deduce_bound([numerator_sin_bound, denominator_sin_bound])"
   ]
  },
  {
   "cell_type": "code",
   "execution_count": null,
   "metadata": {},
   "outputs": [],
   "source": [
    "_alpha_ineq_01 = _alpha_eq_06.apply_transitivity(rhs_bound)"
   ]
  },
  {
   "cell_type": "markdown",
   "metadata": {},
   "source": [
    "### Simplify and square both sides"
   ]
  },
  {
   "cell_type": "code",
   "execution_count": null,
   "metadata": {},
   "outputs": [],
   "source": [
    "_alpha_ineq_02 = _alpha_ineq_01.inner_expr().rhs.distribute()"
   ]
  },
  {
   "cell_type": "code",
   "execution_count": null,
   "metadata": {},
   "outputs": [],
   "source": [
    "_alpha_ineq_03 = _alpha_ineq_02.inner_expr().rhs.numerator.factor(two)"
   ]
  },
  {
   "cell_type": "code",
   "execution_count": null,
   "metadata": {},
   "outputs": [],
   "source": [
    "_alpha_ineq_04 = _alpha_ineq_03.square_both_sides()"
   ]
  },
  {
   "cell_type": "code",
   "execution_count": null,
   "metadata": {},
   "outputs": [],
   "source": [
    "_alpha_ineq_04.inner_expr().rhs.distribute()"
   ]
  },
  {
   "cell_type": "code",
   "execution_count": null,
   "metadata": {},
   "outputs": [],
   "source": [
    "%qed"
   ]
  },
  {
   "cell_type": "code",
   "execution_count": null,
   "metadata": {},
   "outputs": [],
   "source": []
  }
 ],
 "metadata": {
  "kernelspec": {
   "display_name": "Python 3",
   "language": "python",
   "name": "python3"
  }
 },
 "nbformat": 4,
 "nbformat_minor": 0
}
