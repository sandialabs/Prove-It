{
 "cells": [
  {
   "cell_type": "markdown",
   "metadata": {},
   "source": [
    "Proof of <a class=\"ProveItLink\" href=\"../../../../../../_theory_nbs_/theory.ipynb\">proveit</a>.<a class=\"ProveItLink\" href=\"../../../../../_theory_nbs_/theory.ipynb\">physics</a>.<a class=\"ProveItLink\" href=\"../../../../_theory_nbs_/theory.ipynb\">quantum</a>.<a class=\"ProveItLink\" href=\"../../theory.ipynb\">QPE</a>.<a class=\"ProveItLink\" href=\"../../theorems.ipynb#_alpha_summed\">_alpha_summed</a> theorem\n",
    "========"
   ]
  },
  {
   "cell_type": "code",
   "execution_count": null,
   "metadata": {},
   "outputs": [],
   "source": [
    "import proveit\n",
    "theory = proveit.Theory() # the theorem's theory\n",
    "from proveit import a, b, k, l, m, defaults\n",
    "from proveit.logic import Forall, InSet, Set\n",
    "from proveit.numbers import two, pi, i, Add, Integer, Mult, Exp\n",
    "from proveit.physics.quantum.QPE import ModAdd\n",
    "from proveit.physics.quantum.QPE import (\n",
    "        _alpha_m_mod_as_geometric_sum,\n",
    "        _b_floor, _best_floor_is_int, _non_int_delta_b_diff, _delta_b_is_real,\n",
    "        _phase_from_best_with_delta_b, _phase_is_real, _t_in_natural_pos,\n",
    "        _two_pow_t, _two_pow_t_is_nat_pos, _two_pow_t_minus_one_is_nat_pos) "
   ]
  },
  {
   "cell_type": "code",
   "execution_count": null,
   "metadata": {},
   "outputs": [],
   "source": [
    "%proving _alpha_summed"
   ]
  },
  {
   "cell_type": "code",
   "execution_count": null,
   "metadata": {},
   "outputs": [],
   "source": [
    "defaults.assumptions = _alpha_summed.all_conditions()"
   ]
  },
  {
   "cell_type": "markdown",
   "metadata": {},
   "source": [
    "Disable reducing double exponents for now and keep a factor of $2$ from combining with $2^t$ in the steps below:"
   ]
  },
  {
   "cell_type": "code",
   "execution_count": null,
   "metadata": {},
   "outputs": [],
   "source": [
    "Exp.change_simplification_directives(reduce_double_exponent=False)\n",
    "Exp.change_simplification_directives(factor_numeric_rational=True)"
   ]
  },
  {
   "cell_type": "code",
   "execution_count": null,
   "metadata": {},
   "outputs": [],
   "source": [
    "_t_in_natural_pos"
   ]
  },
  {
   "cell_type": "code",
   "execution_count": null,
   "metadata": {},
   "outputs": [],
   "source": [
    "_two_pow_t_is_nat_pos"
   ]
  },
  {
   "cell_type": "code",
   "execution_count": null,
   "metadata": {},
   "outputs": [],
   "source": [
    "_two_pow_t_minus_one_is_nat_pos"
   ]
  },
  {
   "cell_type": "markdown",
   "metadata": {},
   "source": [
    "To instantiate the `_alpha_m_mod_as_geometric_sum` theorem, we want $\\ell \\mapsto (b_f + \\ell)$, but this requires that we establish that $(b_f+\\ell) \\in \\mathbb{Z}$. This we accomplish by noting that $b_f$ is an integer."
   ]
  },
  {
   "cell_type": "code",
   "execution_count": null,
   "metadata": {},
   "outputs": [],
   "source": [
    "_best_floor_is_int"
   ]
  },
  {
   "cell_type": "code",
   "execution_count": null,
   "metadata": {},
   "outputs": [],
   "source": [
    "_alpha_m_mod_as_geometric_sum"
   ]
  },
  {
   "cell_type": "code",
   "execution_count": null,
   "metadata": {},
   "outputs": [],
   "source": [
    "alpha_l_eq_01_alt = _alpha_m_mod_as_geometric_sum.instantiate({m: Add(_b_floor, l)})"
   ]
  },
  {
   "cell_type": "markdown",
   "metadata": {},
   "source": [
    "$(b+\\ell)\\,\\text{mod}\\,2^t$ is the definition of $b \\oplus \\ell$, so we can clean up the $\\alpha$ subscript/indexing on the lhs:"
   ]
  },
  {
   "cell_type": "code",
   "execution_count": null,
   "metadata": {},
   "outputs": [],
   "source": [
    "b_modadd_l__def = ModAdd(_b_floor, l).definition()"
   ]
  },
  {
   "cell_type": "code",
   "execution_count": null,
   "metadata": {},
   "outputs": [],
   "source": [
    "alpha_l_eq_02_alt = alpha_l_eq_01_alt.inner_expr().lhs.index.substitute(\n",
    "    b_modadd_l__def.derive_reversed())"
   ]
  },
  {
   "cell_type": "markdown",
   "metadata": {},
   "source": [
    "Next we substitute in for the phase $\\varphi$ in terms of $b$ and $\\delta_{b}$."
   ]
  },
  {
   "cell_type": "code",
   "execution_count": null,
   "metadata": {},
   "outputs": [],
   "source": [
    "_phase_from_best_with_delta_b"
   ]
  },
  {
   "cell_type": "code",
   "execution_count": null,
   "metadata": {},
   "outputs": [],
   "source": [
    "_phase_from_best_with_delta_b_inst = _phase_from_best_with_delta_b.instantiate({b:_b_floor})"
   ]
  },
  {
   "cell_type": "code",
   "execution_count": null,
   "metadata": {},
   "outputs": [],
   "source": [
    "# proactively recall _delta_b is real, so auto simplification will work\n",
    "# as expected in the in next major step or two\n",
    "_delta_b_is_real"
   ]
  },
  {
   "cell_type": "code",
   "execution_count": null,
   "metadata": {},
   "outputs": [],
   "source": [
    "_delta_b_is_real.instantiate({b:_b_floor})"
   ]
  },
  {
   "cell_type": "markdown",
   "metadata": {},
   "source": [
    "Now we're ready to substitute back into our summation formula:"
   ]
  },
  {
   "cell_type": "code",
   "execution_count": null,
   "metadata": {},
   "outputs": [],
   "source": [
    "alpha_l_eq_03_alt = (\n",
    "        alpha_l_eq_02_alt.inner_expr().rhs.factors[1].summand.\n",
    "        base.exponent.factors[3].operands[0].\n",
    "        substitute(_phase_from_best_with_delta_b_inst.rhs))"
   ]
  },
  {
   "cell_type": "code",
   "execution_count": null,
   "metadata": {},
   "outputs": [],
   "source": [
    "alpha_l_eq_04_alt = (\n",
    "        alpha_l_eq_03_alt.inner_expr().rhs.factors[1].summand.\n",
    "        base.exponent.factors[3].operands[2].operand.distribute())"
   ]
  },
  {
   "cell_type": "markdown",
   "metadata": {},
   "source": [
    "We want to evaluate the summation as a finite geometric sum, but we need to establish that our exponential base $e^{2\\pi i (\\delta_{b} - \\ell/{2^t})}$ is not equal to 1, which can be proven automatically given $\\delta_{b} - \\ell/{2^t} \\notin \\mathbb{Z}$."
   ]
  },
  {
   "cell_type": "code",
   "execution_count": null,
   "metadata": {},
   "outputs": [],
   "source": [
    "_non_int_delta_b_diff"
   ]
  },
  {
   "cell_type": "code",
   "execution_count": null,
   "metadata": {},
   "outputs": [],
   "source": [
    "_non_int_delta_b_diff.instantiate({b:_b_floor})"
   ]
  },
  {
   "cell_type": "markdown",
   "metadata": {},
   "source": [
    "Now we're ready to evaluate the summation as a finite geometric sum, while we tweak the auto-simplification directives just a bit to keep things from being over-simplified:"
   ]
  },
  {
   "cell_type": "code",
   "execution_count": null,
   "metadata": {},
   "outputs": [],
   "source": [
    "# For this step, we re-enable the reduction of double exponentiation\n",
    "# and disable combining exponents (to keep 2 and 2^t from combining into 2^{t+1}).\n",
    "Exp.change_simplification_directives(reduce_double_exponent=True)\n",
    "alpha_l_eq_05_alt = alpha_l_eq_04_alt.inner_expr().rhs.factors[1].geom_sum_reduce()"
   ]
  },
  {
   "cell_type": "code",
   "execution_count": null,
   "metadata": {},
   "outputs": [],
   "source": [
    "alpha_l_eq_06_alt = (\n",
    "        alpha_l_eq_05_alt.inner_expr().rhs.factors[1].numerator.operands[1].\n",
    "        operand.exponent.distribute(3, right_factors=[_two_pow_t]))"
   ]
  },
  {
   "cell_type": "code",
   "execution_count": null,
   "metadata": {},
   "outputs": [],
   "source": [
    "%qed"
   ]
  },
  {
   "cell_type": "code",
   "execution_count": null,
   "metadata": {},
   "outputs": [],
   "source": []
  }
 ],
 "metadata": {
  "kernelspec": {
   "display_name": "Python 3",
   "language": "python",
   "name": "python3"
  }
 },
 "nbformat": 4,
 "nbformat_minor": 0
}
