{
 "cells": [
  {
   "cell_type": "markdown",
   "metadata": {},
   "source": [
    "Proof of <a class=\"ProveItLink\" href=\"../../../../../../_theory_nbs_/theory.ipynb\">proveit</a>.<a class=\"ProveItLink\" href=\"../../../../../_theory_nbs_/theory.ipynb\">physics</a>.<a class=\"ProveItLink\" href=\"../../../../_theory_nbs_/theory.ipynb\">quantum</a>.<a class=\"ProveItLink\" href=\"../../theory.ipynb\">QPE</a>.<a class=\"ProveItLink\" href=\"../../theorems.ipynb#_alpha_m_mod_as_geometric_sum\">_alpha_m_mod_as_geometric_sum</a> theorem\n",
    "========"
   ]
  },
  {
   "cell_type": "code",
   "execution_count": null,
   "metadata": {},
   "outputs": [],
   "source": [
    "import proveit\n",
    "theory = proveit.Theory() # the theorem's theory\n",
    "from proveit import defaults\n",
    "from proveit.numbers import two, i, pi, Mult, Exp\n",
    "from proveit.physics.quantum.QPE import (\n",
    "        _alpha_m_mod_evaluation, _phase_is_real, _two_pow_t_is_nat_pos)"
   ]
  },
  {
   "cell_type": "code",
   "execution_count": null,
   "metadata": {},
   "outputs": [],
   "source": [
    "%proving _alpha_m_mod_as_geometric_sum"
   ]
  },
  {
   "cell_type": "code",
   "execution_count": null,
   "metadata": {},
   "outputs": [],
   "source": [
    "defaults.assumptions = _alpha_m_mod_as_geometric_sum.all_conditions()"
   ]
  },
  {
   "cell_type": "code",
   "execution_count": null,
   "metadata": {},
   "outputs": [],
   "source": [
    "_alpha_m_mod_evaluation"
   ]
  },
  {
   "cell_type": "code",
   "execution_count": null,
   "metadata": {},
   "outputs": [],
   "source": [
    "# Don't combine exponents during auto-simplification for the following steps.\n",
    "Mult.change_simplification_directives(combine_all_exponents = False)"
   ]
  },
  {
   "cell_type": "code",
   "execution_count": null,
   "metadata": {},
   "outputs": [],
   "source": [
    "_alpha_m_mod_evaluation_inst = _alpha_m_mod_evaluation.instantiate()"
   ]
  },
  {
   "cell_type": "code",
   "execution_count": null,
   "metadata": {},
   "outputs": [],
   "source": [
    "the_summation = _alpha_m_mod_evaluation_inst.rhs.factors[1]"
   ]
  },
  {
   "cell_type": "code",
   "execution_count": null,
   "metadata": {},
   "outputs": [],
   "source": [
    "k_domain = the_summation.domain"
   ]
  },
  {
   "cell_type": "code",
   "execution_count": null,
   "metadata": {},
   "outputs": [],
   "source": [
    "from proveit import k\n",
    "from proveit.logic import InSet\n",
    "k_in_k_domain = InSet(k, k_domain)"
   ]
  },
  {
   "cell_type": "code",
   "execution_count": null,
   "metadata": {},
   "outputs": [],
   "source": [
    "defaults.assumptions = defaults.assumptions + (k_in_k_domain,)"
   ]
  },
  {
   "cell_type": "markdown",
   "metadata": {},
   "source": [
    "Rewriting the summand, step by step, to get\n",
    "\n",
    "$\\exp{(-\\frac{2 \\pi i k \\ell}{2^t})}\\exp{(2\\pi i \\varphi k)} = (\\exp{(-\\frac{2 \\pi i k \\ell}{2^t})}\\exp{(2\\pi i \\varphi k)})^k = (e^{2\\pi i (\\varphi - \\frac{\\ell}{2^t})})^k$\n",
    "\n",
    "(so we can eventually evaluate as a geometric sum under the right circumstances in further theorems)."
   ]
  },
  {
   "cell_type": "code",
   "execution_count": null,
   "metadata": {},
   "outputs": [],
   "source": [
    "the_summand_01 = the_summation.instance_expr"
   ]
  },
  {
   "cell_type": "code",
   "execution_count": null,
   "metadata": {},
   "outputs": [],
   "source": [
    "# need these for the common_power_extraction() to work\n",
    "display(_phase_is_real)\n",
    "display(_two_pow_t_is_nat_pos)"
   ]
  },
  {
   "cell_type": "code",
   "execution_count": null,
   "metadata": {},
   "outputs": [],
   "source": [
    "the_summand_02 = the_summand_01.inner_expr().common_power_extraction(exp_factor=k)"
   ]
  },
  {
   "cell_type": "code",
   "execution_count": null,
   "metadata": {},
   "outputs": [],
   "source": [
    "# # Now we can combine exponents, but let's preserve the left side as an exception.\n",
    "Mult.change_simplification_directives(combine_all_exponents = True)\n",
    "Exp.change_simplification_directives(reduce_double_exponent = False)\n",
    "defaults.preserved_exprs = set([the_summand_02.lhs])"
   ]
  },
  {
   "cell_type": "code",
   "execution_count": null,
   "metadata": {},
   "outputs": [],
   "source": [
    "the_summand_03 = the_summand_02.inner_expr().rhs.base.simplify()"
   ]
  },
  {
   "cell_type": "code",
   "execution_count": null,
   "metadata": {},
   "outputs": [],
   "source": [
    "the_summand_04 = the_summand_03.inner_expr().rhs.base.exponent.commute()"
   ]
  },
  {
   "cell_type": "code",
   "execution_count": null,
   "metadata": {},
   "outputs": [],
   "source": [
    "the_summand_05 = (\n",
    "        the_summand_04.inner_expr().rhs.base.exponent.factor(\n",
    "                Mult(two, pi, i), auto_simplify=False))"
   ]
  },
  {
   "cell_type": "markdown",
   "metadata": {},
   "source": [
    "And a quick tinkering with the grouping in the exponent:"
   ]
  },
  {
   "cell_type": "code",
   "execution_count": null,
   "metadata": {},
   "outputs": [],
   "source": [
    "the_summand_06 = the_summand_05.inner_expr().rhs.base.exponent.disassociate(0)"
   ]
  },
  {
   "cell_type": "markdown",
   "metadata": {},
   "source": [
    "Now we can substitute the modified summand expression back into the original summation:"
   ]
  },
  {
   "cell_type": "code",
   "execution_count": null,
   "metadata": {},
   "outputs": [],
   "source": [
    "(_alpha_m_mod_evaluation_inst.inner_expr().\n",
    "        rhs.factors[1].summand.substitute(the_summand_06.rhs))"
   ]
  },
  {
   "cell_type": "code",
   "execution_count": null,
   "metadata": {},
   "outputs": [],
   "source": [
    "%qed"
   ]
  },
  {
   "cell_type": "code",
   "execution_count": null,
   "metadata": {},
   "outputs": [],
   "source": []
  }
 ],
 "metadata": {
  "kernelspec": {
   "display_name": "Python 3",
   "language": "python",
   "name": "python3"
  }
 },
 "nbformat": 4,
 "nbformat_minor": 0
}
