{
 "cells": [
  {
   "cell_type": "markdown",
   "metadata": {},
   "source": [
    "Proof of <a class=\"ProveItLink\" href=\"../../../../../../_theory_nbs_/theory.ipynb\">proveit</a>.<a class=\"ProveItLink\" href=\"../../../../../_theory_nbs_/theory.ipynb\">physics</a>.<a class=\"ProveItLink\" href=\"../../../../_theory_nbs_/theory.ipynb\">quantum</a>.<a class=\"ProveItLink\" href=\"../../theory.ipynb\">QPE</a>.<a class=\"ProveItLink\" href=\"../../theorems.ipynb#_success_prob_guarantee_lemma_02\">_success_prob_guarantee_lemma_02</a> theorem\n",
    "========"
   ]
  },
  {
   "cell_type": "code",
   "execution_count": null,
   "metadata": {},
   "outputs": [],
   "source": [
    "import proveit\n",
    "theory = proveit.Theory() # the theorem's theory\n",
    "from proveit import m, defaults\n",
    "from proveit.logic import InSet\n",
    "from proveit.numbers import Mult, subtract\n",
    "from proveit.numbers import Real\n",
    "from proveit.physics.quantum.QPE import _two_pow_t, _two_pow_t__minus_one, _phase"
   ]
  },
  {
   "cell_type": "code",
   "execution_count": null,
   "metadata": {},
   "outputs": [],
   "source": [
    "%proving _success_prob_guarantee_lemma_02"
   ]
  },
  {
   "cell_type": "code",
   "execution_count": null,
   "metadata": {},
   "outputs": [],
   "source": [
    "defaults.assumptions = _success_prob_guarantee_lemma_02.conditions"
   ]
  },
  {
   "cell_type": "code",
   "execution_count": null,
   "metadata": {},
   "outputs": [],
   "source": [
    "# for convenience\n",
    "_m_membership = defaults.assumptions[0]"
   ]
  },
  {
   "cell_type": "code",
   "execution_count": null,
   "metadata": {},
   "outputs": [],
   "source": [
    "# for convenience\n",
    "_thm_condition = defaults.assumptions[1]"
   ]
  },
  {
   "cell_type": "code",
   "execution_count": null,
   "metadata": {},
   "outputs": [],
   "source": [
    "# for convenience\n",
    "_thm_expr = _success_prob_guarantee_lemma_02.instance_expr"
   ]
  },
  {
   "cell_type": "code",
   "execution_count": null,
   "metadata": {},
   "outputs": [],
   "source": [
    "# for convenience\n",
    "from proveit.physics.quantum.QPE import _e_value\n",
    "_e_value"
   ]
  },
  {
   "cell_type": "markdown",
   "metadata": {},
   "source": [
    "Import some basic local assumptions and local definitions"
   ]
  },
  {
   "cell_type": "code",
   "execution_count": null,
   "metadata": {},
   "outputs": [],
   "source": [
    "# some basic assumptions and definitions\n",
    "from proveit.physics.quantum.QPE import (\n",
    "        _t_in_natural_pos, _n_in_natural_pos, _phase_in_interval, _best_def)\n",
    "display(_t_in_natural_pos)\n",
    "display(_n_in_natural_pos)\n",
    "display(_phase_in_interval)\n",
    "display(_best_def)"
   ]
  },
  {
   "cell_type": "markdown",
   "metadata": {},
   "source": [
    "We'll generally need to know explicitly that $m$ is Real, and it suffices to explicitly establish that $m$ is an integer:"
   ]
  },
  {
   "cell_type": "code",
   "execution_count": null,
   "metadata": {},
   "outputs": [],
   "source": [
    "# generally need to know that m is Real\n",
    "_m_membership.derive_element_in_integer()"
   ]
  },
  {
   "cell_type": "markdown",
   "metadata": {},
   "source": [
    "We'll also need to know that $2^{t - n} - 1$ is Real (this comes into play when performing some algebraic manipulations of the inequalities). It suffices to explicitly establish that the difference $t-n$ is Real:"
   ]
  },
  {
   "cell_type": "code",
   "execution_count": null,
   "metadata": {},
   "outputs": [],
   "source": [
    "InSet(_e_value.operands[0].exponent, Real).prove()"
   ]
  },
  {
   "cell_type": "markdown",
   "metadata": {},
   "source": [
    "Turns out to be useful generally to establish that $2^t \\varphi \\ge \\lfloor 2^t \\varphi \\rfloor$ (this is then used implicitly to help satisfy some conditions in later instantiation steps):"
   ]
  },
  {
   "cell_type": "code",
   "execution_count": null,
   "metadata": {},
   "outputs": [],
   "source": [
    "from proveit.numbers.rounding import floor_x_le_x\n",
    "floor_x_le_x"
   ]
  },
  {
   "cell_type": "code",
   "execution_count": null,
   "metadata": {},
   "outputs": [],
   "source": [
    "from proveit import x\n",
    "from proveit.numbers import Mult\n",
    "from proveit.physics.quantum.QPE import _phase\n",
    "_x_sub = Mult(_two_pow_t, _phase)\n",
    "floor_int_phase_bound = floor_x_le_x.instantiate({x: _x_sub}).reversed()"
   ]
  },
  {
   "cell_type": "markdown",
   "metadata": {},
   "source": [
    "Need to explicitly establish that $m \\in \\mathbb{R}$ (seems like this should be automated and not have to be explicitly called):"
   ]
  },
  {
   "cell_type": "markdown",
   "metadata": {},
   "source": [
    "We begin gradually transforming the assumed condition $\\left|m-b\\right|_{mod\\,2^t} \\le (2^{t-n}-1)$ into the desired condition $|\\frac{m}{2^t}-1|_{mod\\,1} \\le 2^{-n}$:"
   ]
  },
  {
   "cell_type": "code",
   "execution_count": null,
   "metadata": {},
   "outputs": [],
   "source": [
    "condition_01 = _success_prob_guarantee_lemma_02.condition.operands[1].prove()"
   ]
  },
  {
   "cell_type": "code",
   "execution_count": null,
   "metadata": {},
   "outputs": [],
   "source": [
    "# subtitute for 'b'\n",
    "condition_02 = condition_01.inner_expr().lhs.value.operands[1].operand.substitute(_best_def)"
   ]
  },
  {
   "cell_type": "code",
   "execution_count": null,
   "metadata": {},
   "outputs": [],
   "source": [
    "# commute the phi and 2^t to avoid problems later\n",
    "condition_02 = condition_02.inner_expr().lhs.value.operands[1].operand.operand.commute(0, 1)"
   ]
  },
  {
   "cell_type": "code",
   "execution_count": null,
   "metadata": {},
   "outputs": [],
   "source": [
    "from proveit.numbers.modular import mod_abs_of_difference_bound\n",
    "mod_abs_of_difference_bound"
   ]
  },
  {
   "cell_type": "code",
   "execution_count": null,
   "metadata": {},
   "outputs": [],
   "source": [
    "# need this explicitly for instantiation below\n",
    "InSet(subtract(m, Mult(_two_pow_t, _phase)), Real).prove()"
   ]
  },
  {
   "cell_type": "code",
   "execution_count": null,
   "metadata": {},
   "outputs": [],
   "source": [
    "from proveit import a, b, N\n",
    "from proveit.numbers import Floor, ModAbs\n",
    "_a_sub, _b_sub, _N_sub = (\n",
    "    subtract(m, Mult(_two_pow_t, _phase)),\n",
    "    subtract(m, Floor(Mult(_two_pow_t, _phase))),\n",
    "    _two_pow_t)\n",
    "condition_03 = mod_abs_of_difference_bound.instantiate(\n",
    "        {a: _a_sub, b: _b_sub, N: _N_sub})"
   ]
  },
  {
   "cell_type": "code",
   "execution_count": null,
   "metadata": {},
   "outputs": [],
   "source": [
    "from proveit.numbers.rounding import real_minus_floor_upper_bound\n",
    "real_minus_floor_upper_bound"
   ]
  },
  {
   "cell_type": "code",
   "execution_count": null,
   "metadata": {},
   "outputs": [],
   "source": [
    "condition_04 = condition_03.inner_expr().lhs.value.commute(0, 1)"
   ]
  },
  {
   "cell_type": "code",
   "execution_count": null,
   "metadata": {},
   "outputs": [],
   "source": [
    "from proveit import x\n",
    "_x_sub = condition_04.lhs.value.operands[0].operand\n",
    "condition_05 = real_minus_floor_upper_bound.instantiate({x: _x_sub})"
   ]
  },
  {
   "cell_type": "code",
   "execution_count": null,
   "metadata": {},
   "outputs": [],
   "source": [
    "from proveit.numbers import two, Div\n",
    "div_mult_id = Div(_two_pow_t, two).cancelation(two)"
   ]
  },
  {
   "cell_type": "code",
   "execution_count": null,
   "metadata": {},
   "outputs": [],
   "source": [
    "from proveit.physics.quantum.QPE import _two_pow_t_minus_one_is_nat_pos\n",
    "_two_pow_t_minus_one_is_nat_pos"
   ]
  },
  {
   "cell_type": "code",
   "execution_count": null,
   "metadata": {},
   "outputs": [],
   "source": [
    "from proveit.numbers import one, greater_eq\n",
    "two_pow_t_minus_1_ge_1 = greater_eq(_two_pow_t_minus_one_is_nat_pos.element, one).prove()"
   ]
  },
  {
   "cell_type": "code",
   "execution_count": null,
   "metadata": {},
   "outputs": [],
   "source": [
    "condition_05.apply_transitivity(two_pow_t_minus_1_ge_1).inner_expr().rhs.substitute(div_mult_id.derive_reversed())"
   ]
  },
  {
   "cell_type": "code",
   "execution_count": null,
   "metadata": {},
   "outputs": [],
   "source": [
    "from proveit.numbers.modular import mod_abs_x_reduce_to_abs_x\n",
    "mod_abs_x_reduce_to_abs_x"
   ]
  },
  {
   "cell_type": "code",
   "execution_count": null,
   "metadata": {},
   "outputs": [],
   "source": [
    "_x_sub, _N_sub = (condition_05.lhs, _two_pow_t)\n",
    "floor_diff_equality = mod_abs_x_reduce_to_abs_x.instantiate({x: _x_sub, N: _N_sub})"
   ]
  },
  {
   "cell_type": "code",
   "execution_count": null,
   "metadata": {},
   "outputs": [],
   "source": [
    "floor_diff_equality_abs_reversal = floor_diff_equality.inner_expr().lhs.reverse_difference()"
   ]
  },
  {
   "cell_type": "code",
   "execution_count": null,
   "metadata": {},
   "outputs": [],
   "source": [
    "condition_04 = condition_04.with_styles(direction='normal')"
   ]
  },
  {
   "cell_type": "markdown",
   "metadata": {},
   "source": [
    "Now we can reduce the rhs of `condition_04` so we no longer have the AbsMod to deal with:"
   ]
  },
  {
   "cell_type": "code",
   "execution_count": null,
   "metadata": {},
   "outputs": [],
   "source": [
    "condition_06 = condition_04.inner_expr().rhs.substitute(\n",
    "        floor_diff_equality_abs_reversal)"
   ]
  },
  {
   "cell_type": "markdown",
   "metadata": {},
   "source": [
    "But we also know from our work above that $(2^t\\varphi - \\lfloor 2^t \\varphi\\rfloor) < 1$, so by transitivity we have (relaxing the relation along the way):"
   ]
  },
  {
   "cell_type": "code",
   "execution_count": null,
   "metadata": {},
   "outputs": [],
   "source": [
    "condition_07 = condition_06.apply_transitivity(condition_05).derive_relaxed()"
   ]
  },
  {
   "cell_type": "code",
   "execution_count": null,
   "metadata": {},
   "outputs": [],
   "source": [
    "# thm_condition_08 = thm_condition_07.derive_relaxed()"
   ]
  },
  {
   "cell_type": "markdown",
   "metadata": {},
   "source": [
    "And then we rearrange a bit:"
   ]
  },
  {
   "cell_type": "code",
   "execution_count": null,
   "metadata": {},
   "outputs": [],
   "source": [
    "condition_08 = condition_07.left_add_both_sides(condition_07.lhs.operands[1].operand)"
   ]
  },
  {
   "cell_type": "markdown",
   "metadata": {},
   "source": [
    "From an earlier condition, we can derive a bound on the rhs of `condition_08` above:"
   ]
  },
  {
   "cell_type": "code",
   "execution_count": null,
   "metadata": {},
   "outputs": [],
   "source": [
    "condition_09 = condition_02.right_add_both_sides(one)"
   ]
  },
  {
   "cell_type": "markdown",
   "metadata": {},
   "source": [
    "Then apply transitivity to obtain the following:"
   ]
  },
  {
   "cell_type": "code",
   "execution_count": null,
   "metadata": {},
   "outputs": [],
   "source": [
    "condition_10 = condition_08.apply_transitivity(condition_09)"
   ]
  },
  {
   "cell_type": "markdown",
   "metadata": {},
   "source": [
    "Now we'd like to transform the $(\\text{mod}\\,2^t)$ on the lhs to the $(\\text{mod}\\,1)$ that we want in the eventual desired expression.<br/>\n",
    "We can utilize the following theorem and subsequent instantiation to do that:"
   ]
  },
  {
   "cell_type": "code",
   "execution_count": null,
   "metadata": {},
   "outputs": [],
   "source": [
    "from proveit.numbers.modular import mod_abs_scaled\n",
    "mod_abs_scaled"
   ]
  },
  {
   "cell_type": "code",
   "execution_count": null,
   "metadata": {},
   "outputs": [],
   "source": [
    "from proveit import a, b, c\n",
    "from proveit.physics.quantum.QPE import _two_pow_t\n",
    "_a_sub, _b_sub, _c_sub = _two_pow_t, _thm_expr.lhs.operands[0], one\n",
    "condition_equality_01 = mod_abs_scaled.instantiate({a: _a_sub, b: _b_sub, c: _c_sub})"
   ]
  },
  {
   "cell_type": "code",
   "execution_count": null,
   "metadata": {},
   "outputs": [],
   "source": [
    "# clean up rhs side by distributing that factor of 2^t\n",
    "condition_equality_02 = condition_equality_01.inner_expr().rhs.operands[0].distribute(1)"
   ]
  },
  {
   "cell_type": "markdown",
   "metadata": {},
   "source": [
    "Now we utilize that result, substituting the lhs for the rhs in our previous result:"
   ]
  },
  {
   "cell_type": "code",
   "execution_count": null,
   "metadata": {},
   "outputs": [],
   "source": [
    "condition_11 = condition_equality_02.sub_left_side_into(condition_10)"
   ]
  },
  {
   "cell_type": "markdown",
   "metadata": {},
   "source": [
    "We can then divide both sides by the factor $2^t$ and simplify, and we are done:"
   ]
  },
  {
   "cell_type": "code",
   "execution_count": null,
   "metadata": {},
   "outputs": [],
   "source": [
    "condition_12 = condition_11.divide_both_sides(_two_pow_t)"
   ]
  },
  {
   "cell_type": "code",
   "execution_count": null,
   "metadata": {},
   "outputs": [],
   "source": [
    "condition_14 = condition_12.inner_expr().rhs.cancel(_two_pow_t)"
   ]
  },
  {
   "cell_type": "code",
   "execution_count": null,
   "metadata": {},
   "outputs": [],
   "source": [
    "%qed"
   ]
  },
  {
   "cell_type": "code",
   "execution_count": null,
   "metadata": {},
   "outputs": [],
   "source": []
  }
 ],
 "metadata": {
  "kernelspec": {
   "display_name": "Python 3",
   "language": "python",
   "name": "python3"
  }
 },
 "nbformat": 4,
 "nbformat_minor": 0
}
