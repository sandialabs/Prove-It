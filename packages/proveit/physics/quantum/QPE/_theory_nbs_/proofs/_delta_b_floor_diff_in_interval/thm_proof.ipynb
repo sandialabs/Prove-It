{
 "cells": [
  {
   "cell_type": "markdown",
   "metadata": {},
   "source": [
    "Proof of <a class=\"ProveItLink\" href=\"../../../../../../_theory_nbs_/theory.ipynb\">proveit</a>.<a class=\"ProveItLink\" href=\"../../../../../_theory_nbs_/theory.ipynb\">physics</a>.<a class=\"ProveItLink\" href=\"../../../../_theory_nbs_/theory.ipynb\">quantum</a>.<a class=\"ProveItLink\" href=\"../../theory.ipynb\">QPE</a>.<a class=\"ProveItLink\" href=\"../../theorems.ipynb#_delta_b_floor_diff_in_interval\">_delta_b_floor_diff_in_interval</a> theorem\n",
    "========"
   ]
  },
  {
   "cell_type": "code",
   "execution_count": null,
   "metadata": {},
   "outputs": [],
   "source": [
    "import proveit\n",
    "theory = proveit.Theory() # the theorem's theory\n",
    "from proveit import l, defaults\n",
    "from proveit.numbers import subtract\n",
    "from proveit.physics.quantum.QPE import _full_domain, _t, _two_pow_t, _two_pow__t_minus_one\n",
    "from proveit.physics.quantum.QPE import (\n",
    "    _delta_b_is_real, _scaled_delta_b_floor_in_interval,\n",
    "    _t_in_natural_pos, _two_pow_t_is_nat_pos, _two_pow_t_minus_one_is_nat_pos)"
   ]
  },
  {
   "cell_type": "code",
   "execution_count": null,
   "metadata": {},
   "outputs": [],
   "source": [
    "%proving _delta_b_floor_diff_in_interval"
   ]
  },
  {
   "cell_type": "code",
   "execution_count": null,
   "metadata": {},
   "outputs": [],
   "source": [
    "# interesting issue here: cascading \"side effect failures\" leading to\n",
    "# max recursion error if we haven't already imported at least one of the\n",
    "# following: _full_domain, _t, _two_pow_t, _two_pow__t_minus_one\n",
    "defaults.assumptions = _delta_b_floor_diff_in_interval.all_conditions()"
   ]
  },
  {
   "cell_type": "code",
   "execution_count": null,
   "metadata": {},
   "outputs": [],
   "source": [
    "# previously proven\n",
    "_scaled_delta_b_floor_in_interval"
   ]
  },
  {
   "cell_type": "code",
   "execution_count": null,
   "metadata": {},
   "outputs": [],
   "source": [
    "scaled_delta_less_than_one = (\n",
    "    _scaled_delta_b_floor_in_interval.derive_element_upper_bound())"
   ]
  },
  {
   "cell_type": "code",
   "execution_count": null,
   "metadata": {},
   "outputs": [],
   "source": [
    "scaled_delta_greatereq_than_zero = (\n",
    "    _scaled_delta_b_floor_in_interval.derive_element_lower_bound())"
   ]
  },
  {
   "cell_type": "code",
   "execution_count": null,
   "metadata": {},
   "outputs": [],
   "source": [
    "# for convenience, name the product 2^t * delta\n",
    "scaled_delta = _scaled_delta_b_floor_in_interval.element"
   ]
  },
  {
   "cell_type": "code",
   "execution_count": null,
   "metadata": {},
   "outputs": [],
   "source": [
    "# for convenience, name the difference 2^t * delta - ell\n",
    "scaled_delta_minus_ell = subtract(scaled_delta, l)"
   ]
  },
  {
   "cell_type": "code",
   "execution_count": null,
   "metadata": {},
   "outputs": [],
   "source": [
    "_delta_b_is_real"
   ]
  },
  {
   "cell_type": "code",
   "execution_count": null,
   "metadata": {},
   "outputs": [],
   "source": [
    "# This allows a distribution() method to proceed further below\n",
    "from proveit import b\n",
    "from proveit.physics.quantum.QPE import _b_floor, _best_floor_is_int\n",
    "_delta_b_floor_is_real = _delta_b_is_real.instantiate({b: _b_floor})"
   ]
  },
  {
   "cell_type": "code",
   "execution_count": null,
   "metadata": {},
   "outputs": [],
   "source": [
    "# for convenience, name the ell membership obj\n",
    "ell_in_full_domain = defaults.assumptions[0]"
   ]
  },
  {
   "cell_type": "code",
   "execution_count": null,
   "metadata": {},
   "outputs": [],
   "source": [
    "ell_upper_bound = ell_in_full_domain.derive_element_upper_bound()"
   ]
  },
  {
   "cell_type": "code",
   "execution_count": null,
   "metadata": {},
   "outputs": [],
   "source": [
    "ell_lower_bound = ell_in_full_domain.derive_element_lower_bound()"
   ]
  },
  {
   "cell_type": "markdown",
   "metadata": {},
   "source": [
    "#### Upper Bound\n",
    "Develop upper bound, using information about the bounds on the individual pieces …"
   ]
  },
  {
   "cell_type": "code",
   "execution_count": null,
   "metadata": {},
   "outputs": [],
   "source": [
    "from proveit.numbers import one, Neg\n",
    "negative_ell_upper_bound = ell_lower_bound.left_mult_both_sides(Neg(one)).simplify()"
   ]
  },
  {
   "cell_type": "code",
   "execution_count": null,
   "metadata": {},
   "outputs": [],
   "source": [
    "# rewrite the bounding inequality so -ell is on the left\n",
    "negative_ell_upper_bound = negative_ell_upper_bound.with_styles(direction='normal')"
   ]
  },
  {
   "cell_type": "code",
   "execution_count": null,
   "metadata": {},
   "outputs": [],
   "source": [
    "scaled_delta_minus_ell_upper_bound = (\n",
    "    scaled_delta_minus_ell.deduce_bound(\n",
    "        [scaled_delta_less_than_one, negative_ell_upper_bound]))"
   ]
  },
  {
   "cell_type": "markdown",
   "metadata": {},
   "source": [
    "Divide through by $2^t$ and Simplify"
   ]
  },
  {
   "cell_type": "code",
   "execution_count": null,
   "metadata": {},
   "outputs": [],
   "source": [
    "upper_bound_judgment = scaled_delta_minus_ell_upper_bound.divide_both_sides(_two_pow_t)"
   ]
  },
  {
   "cell_type": "code",
   "execution_count": null,
   "metadata": {},
   "outputs": [],
   "source": [
    "upper_bound_one_half_02 = upper_bound_judgment.inner_expr().lhs.distribute()"
   ]
  },
  {
   "cell_type": "markdown",
   "metadata": {},
   "source": [
    "#### Lower Bound\n",
    "Develop lower bound using information about the bounds on the individual pieces …"
   ]
  },
  {
   "cell_type": "code",
   "execution_count": null,
   "metadata": {},
   "outputs": [],
   "source": [
    "# recall from earlier:\n",
    "ell_upper_bound"
   ]
  },
  {
   "cell_type": "code",
   "execution_count": null,
   "metadata": {},
   "outputs": [],
   "source": [
    "negative_ell_lower_bound = ell_upper_bound.left_mult_both_sides(Neg(one))"
   ]
  },
  {
   "cell_type": "code",
   "execution_count": null,
   "metadata": {},
   "outputs": [],
   "source": [
    "# recall from earlier:\n",
    "scaled_delta_minus_ell"
   ]
  },
  {
   "cell_type": "code",
   "execution_count": null,
   "metadata": {},
   "outputs": [],
   "source": [
    "scaled_delta_minus_ell_lower_bound = (\n",
    "    scaled_delta_minus_ell.deduce_bound(\n",
    "        [scaled_delta_greatereq_than_zero.with_styles(direction='reversed'),\n",
    "         negative_ell_lower_bound]))"
   ]
  },
  {
   "cell_type": "markdown",
   "metadata": {},
   "source": [
    "Divide through by $2^t$ and Simplify"
   ]
  },
  {
   "cell_type": "code",
   "execution_count": null,
   "metadata": {},
   "outputs": [],
   "source": [
    "lower_bound_judgment = scaled_delta_minus_ell_lower_bound.divide_both_sides(_two_pow_t)"
   ]
  },
  {
   "cell_type": "code",
   "execution_count": null,
   "metadata": {},
   "outputs": [],
   "source": [
    "%qed"
   ]
  },
  {
   "cell_type": "code",
   "execution_count": null,
   "metadata": {},
   "outputs": [],
   "source": []
  }
 ],
 "metadata": {
  "kernelspec": {
   "display_name": "Python 3",
   "language": "python",
   "name": "python3"
  }
 },
 "nbformat": 4,
 "nbformat_minor": 0
}
