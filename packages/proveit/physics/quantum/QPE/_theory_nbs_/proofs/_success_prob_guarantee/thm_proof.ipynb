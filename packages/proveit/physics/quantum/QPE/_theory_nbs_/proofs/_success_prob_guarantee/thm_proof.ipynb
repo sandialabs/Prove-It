{
 "cells": [
  {
   "cell_type": "markdown",
   "metadata": {},
   "source": [
    "Proof of <a class=\"ProveItLink\" href=\"../../../../../../_theory_nbs_/theory.ipynb\">proveit</a>.<a class=\"ProveItLink\" href=\"../../../../../_theory_nbs_/theory.ipynb\">physics</a>.<a class=\"ProveItLink\" href=\"../../../../_theory_nbs_/theory.ipynb\">quantum</a>.<a class=\"ProveItLink\" href=\"../../theory.ipynb\">QPE</a>.<a class=\"ProveItLink\" href=\"../../theorems.ipynb#_success_prob_guarantee\">_success_prob_guarantee</a> theorem\n",
    "========"
   ]
  },
  {
   "cell_type": "code",
   "execution_count": null,
   "metadata": {},
   "outputs": [],
   "source": [
    "import proveit\n",
    "theory = proveit.Theory() # the theorem's theory\n",
    "from proveit import e, m, X, defaults\n",
    "from proveit.logic import Equals, InSet, NotEquals\n",
    "from proveit.numbers import zero, one, greater, NaturalPos, Neg, Real, subtract\n",
    "from proveit.statistics import prob_between_zero_and_one\n",
    "# import common expressions\n",
    "from proveit.physics.quantum.QPE import _e_domain, _e_value\n",
    "# import axioms, definitions\n",
    "from proveit.physics.quantum.QPE import _n_ge_two, _success_def, _t_in_natural_pos, _t_req\n",
    "# import theorems\n",
    "from proveit.physics.quantum.QPE import (\n",
    "        _e_value_in_e_domain, _fail_ineq, _pfail_in_real, _phase_is_real, _success_sum_from_fail_sum)"
   ]
  },
  {
   "cell_type": "code",
   "execution_count": null,
   "metadata": {},
   "outputs": [],
   "source": [
    "%proving _success_prob_guarantee"
   ]
  },
  {
   "cell_type": "code",
   "execution_count": null,
   "metadata": {},
   "outputs": [],
   "source": [
    "_success_def"
   ]
  },
  {
   "cell_type": "code",
   "execution_count": null,
   "metadata": {},
   "outputs": [],
   "source": [
    "# for convenience\n",
    "thm_condition = _success_prob_guarantee.lhs.condition.operands[1]"
   ]
  },
  {
   "cell_type": "code",
   "execution_count": null,
   "metadata": {},
   "outputs": [],
   "source": [
    "# for convenience, and recall that m is our measurement\n",
    "# implemented across the t-qubit first register\n",
    "m_membership = _success_prob_guarantee.lhs.condition.operands[0]"
   ]
  },
  {
   "cell_type": "markdown",
   "metadata": {},
   "source": [
    "We eventually need to show: $|\\frac{m}{2^t}-\\varphi|_{\\text{mod}\\,1} = |m - b|_{\\text{mod}\\,2^{t}}$"
   ]
  },
  {
   "cell_type": "code",
   "execution_count": null,
   "metadata": {},
   "outputs": [],
   "source": [
    "from proveit.numbers.modular import mod_abs_scaled\n",
    "mod_abs_scaled"
   ]
  },
  {
   "cell_type": "code",
   "execution_count": null,
   "metadata": {},
   "outputs": [],
   "source": [
    "# recall\n",
    "_phase_is_real"
   ]
  },
  {
   "cell_type": "code",
   "execution_count": null,
   "metadata": {},
   "outputs": [],
   "source": [
    "thm_condition.lhs.operands[0].deduce_in_number_set(Real, assumptions=[m_membership])"
   ]
  },
  {
   "cell_type": "code",
   "execution_count": null,
   "metadata": {},
   "outputs": [],
   "source": [
    "from proveit import a, b, c\n",
    "from proveit.physics.quantum.QPE import _two_pow_t\n",
    "_a_sub, _b_sub, _c_sub = _two_pow_t, thm_condition.lhs.operands[0], one\n",
    "condition_equality_01 = mod_abs_scaled.instantiate({a: _a_sub, b: _b_sub, c: _c_sub}, assumptions=[m_membership])"
   ]
  },
  {
   "cell_type": "code",
   "execution_count": null,
   "metadata": {},
   "outputs": [],
   "source": [
    "condition_equality_02 = condition_equality_01.inner_expr().rhs.operands[0].distribute(1)"
   ]
  },
  {
   "cell_type": "code",
   "execution_count": null,
   "metadata": {},
   "outputs": [],
   "source": [
    "from proveit.numbers.rounding import floor_x_le_x\n",
    "floor_x_le_x"
   ]
  },
  {
   "cell_type": "code",
   "execution_count": null,
   "metadata": {},
   "outputs": [],
   "source": [
    "from proveit import x\n",
    "from proveit.numbers import Mult\n",
    "from proveit.physics.quantum.QPE import _phase\n",
    "_x_sub = Mult(_two_pow_t, _phase)\n",
    "floor_int_phase_bound = floor_x_le_x.instantiate({x: _x_sub}).reversed()"
   ]
  },
  {
   "cell_type": "code",
   "execution_count": null,
   "metadata": {},
   "outputs": [],
   "source": [
    "# condition_equality_02.rhs.deduce_bound(floor_int_phase_bound, assumptions=[m_membership])"
   ]
  },
  {
   "cell_type": "markdown",
   "metadata": {},
   "source": [
    "$m - 2^t \\varphi \\ge m - Floor(2^t \\varphi) = m - b$"
   ]
  },
  {
   "cell_type": "markdown",
   "metadata": {},
   "source": [
    "Exploring Ideas with an Example: Tues 3/01/2022"
   ]
  },
  {
   "cell_type": "markdown",
   "metadata": {},
   "source": [
    "Consider a case in which $t = 9$ and $n = 5$."
   ]
  },
  {
   "cell_type": "markdown",
   "metadata": {},
   "source": [
    "$|\\frac{m}{512} - \\varphi|_{\\text{mod}1} \\le \\frac{1}{32}$"
   ]
  },
  {
   "cell_type": "markdown",
   "metadata": {},
   "source": [
    "Case 1. Now, suppose $512\\varphi$ is an integer! Then $b = \\lfloor 512 \\varphi\\rfloor = 512 \\varphi$. Then we obtain:"
   ]
  },
  {
   "cell_type": "markdown",
   "metadata": {},
   "source": [
    "$\\begin{align}\n",
    "512 |\\frac{m}{512} - \\varphi|_{\\text{mod}1}\n",
    "&\\le 512 (\\frac{1}{32})\\\\\n",
    "|m - 512\\varphi|_{\\text{mod}512}\n",
    "&\\le 16)\\\\\n",
    "|m - b|_{\\text{mod}512}\n",
    "&\\le 16\n",
    "\\\\\n",
    "|m - b|_{\\text{mod}2^t}\n",
    "&\\le 2^{t-n}\n",
    "\\end{align}$"
   ]
  },
  {
   "cell_type": "markdown",
   "metadata": {},
   "source": [
    "Estimate $\\varphi$ to an accuracy {of} $2^{-n} = 2^{-5} = \\frac{1}{32}$.\n",
    "\n",
    "Meaning that\n",
    "\n",
    "$\\begin{align}\n",
    "|\\tilde{\\varphi} - \\varphi| &\\le \\frac{1}{32}\\\\\n",
    "|\\frac{m}{512} - \\varphi| &\\le \\frac{1}{32}\\\\\n",
    "|m - 512\\varphi| &\\le 512(\\frac{1}{32}) = 16\n",
    "\\end{align}$"
   ]
  },
  {
   "cell_type": "markdown",
   "metadata": {},
   "source": [
    "Assume $|m - 512\\varphi| = 16$.\n",
    "\n",
    "Then $b = 267 \\lor b = 235$."
   ]
  },
  {
   "cell_type": "markdown",
   "metadata": {},
   "source": [
    "$P_{succ} = \\text{prob}(|m - 512\\varphi| \\le 512(\\frac{1}{32})) = 2^{t-n}$"
   ]
  },
  {
   "cell_type": "markdown",
   "metadata": {},
   "source": [
    "$P_{fail} = \\text{prob}(|m - 512\\varphi| > 512(\\frac{1}{32})) = 2^{t-n}$"
   ]
  },
  {
   "cell_type": "markdown",
   "metadata": {},
   "source": [
    "What we need to get: $|m - b|_{\\text{mod}2^t} \\le 2^{t-n}-1$"
   ]
  },
  {
   "cell_type": "markdown",
   "metadata": {},
   "source": [
    "$b = \\lfloor 512 \\varphi\\rfloor$"
   ]
  },
  {
   "cell_type": "markdown",
   "metadata": {},
   "source": [
    "$P(A) \\le P(B)$ if $A \\subseteq B$"
   ]
  },
  {
   "cell_type": "markdown",
   "metadata": {},
   "source": [
    "$|m - b|_{2^t} \\le 2^{t-n} - 1$"
   ]
  },
  {
   "cell_type": "markdown",
   "metadata": {},
   "source": [
    "$|m - \\lfloor 2^t \\varphi \\rfloor|_{2^t} \\le 2^{t-n} - 1$"
   ]
  },
  {
   "cell_type": "markdown",
   "metadata": {},
   "source": [
    "$|m - \\lfloor 2^t \\varphi \\rfloor|_{2^t} + 1 \\le 2^{t-n}$"
   ]
  },
  {
   "cell_type": "markdown",
   "metadata": {},
   "source": [
    "$|m - 2^t \\varphi|_{2^t} \\le |m - \\lfloor 2^t \\varphi \\rfloor|_{2^t} + 1$"
   ]
  },
  {
   "cell_type": "markdown",
   "metadata": {},
   "source": [
    "$|m - 2^t \\varphi|_{2^t} - |m - \\lfloor 2^t \\varphi \\rfloor|_{2^t} \\le  + 1$"
   ]
  },
  {
   "cell_type": "markdown",
   "metadata": {},
   "source": [
    "$|m - 2^t \\varphi|_{2^t} - |m - \\lfloor 2^t \\varphi \\rfloor|_{2^t} \\le  |- 2^t \\varphi + \\lfloor 2^t \\varphi \\rfloor|_{2^t} < 1 \\le 1$"
   ]
  },
  {
   "cell_type": "markdown",
   "metadata": {},
   "source": [
    "$|a - b| \\ge |a| - |b|$"
   ]
  },
  {
   "cell_type": "markdown",
   "metadata": {},
   "source": [
    "$|a - b|_{N} \\ge |a|_{N} - |b|_{N}$"
   ]
  },
  {
   "cell_type": "markdown",
   "metadata": {},
   "source": [
    "$|x|_{N} = x$ if $0 \\le x \\le N/2$.\n",
    "\n",
    "$|x|_{N} = |x|$ if $|x| \\le N/2$."
   ]
  },
  {
   "cell_type": "markdown",
   "metadata": {},
   "source": [
    "If $|x - y| \\le a$ and $a < N $ (?)\n",
    "\n",
    "Then $AbsMod(x, N) \\le AbsMod(y, N) + a$"
   ]
  },
  {
   "cell_type": "markdown",
   "metadata": {},
   "source": [
    "$0 \\le |a + b - (a + \\lfloor b \\rfloor)| < 1$\n",
    "\n",
    "$0 \\le |b - \\lfloor b \\rfloor| < 1$"
   ]
  },
  {
   "cell_type": "markdown",
   "metadata": {},
   "source": [
    "$2^t |\\frac{m}{2^t} - \\varphi|_{\\text{mod}1} = |m - 2^t \\varphi|_{\\text{mod}2^t}$"
   ]
  },
  {
   "cell_type": "code",
   "execution_count": null,
   "metadata": {},
   "outputs": [],
   "source": [
    "# assert False"
   ]
  },
  {
   "cell_type": "code",
   "execution_count": null,
   "metadata": {},
   "outputs": [],
   "source": [
    "from proveit.physics.quantum.QPE import (\n",
    "    _e_value_ge_two, _t_in_natural_pos, _n_less_eq_t, _n_ge_two, _n_in_natural_pos)\n",
    "display(_e_value_ge_two)\n",
    "display(_t_in_natural_pos)\n",
    "display(_n_less_eq_t)\n",
    "display(_n_ge_two)\n",
    "display(_n_in_natural_pos)"
   ]
  },
  {
   "cell_type": "code",
   "execution_count": null,
   "metadata": {},
   "outputs": [],
   "source": [
    "_success_def_inst = _success_def.instantiate({e: _e_value})"
   ]
  },
  {
   "cell_type": "code",
   "execution_count": null,
   "metadata": {},
   "outputs": [],
   "source": [
    "_success_sum_from_fail_sum"
   ]
  },
  {
   "cell_type": "code",
   "execution_count": null,
   "metadata": {},
   "outputs": [],
   "source": [
    "_success_sum_from_fail_sum_inst = _success_sum_from_fail_sum.instantiate({e: _e_value})"
   ]
  },
  {
   "cell_type": "code",
   "execution_count": null,
   "metadata": {},
   "outputs": [],
   "source": [
    "_success_def_equality = Equals(_success_def_inst.rhs, _success_sum_from_fail_sum_inst.rhs).prove(assumptions=[InSet(e, _e_domain)])"
   ]
  },
  {
   "cell_type": "code",
   "execution_count": null,
   "metadata": {},
   "outputs": [],
   "source": [
    "_fail_ineq"
   ]
  },
  {
   "cell_type": "code",
   "execution_count": null,
   "metadata": {},
   "outputs": [],
   "source": [
    "_fail_ineq_inst = _fail_ineq.instantiate({e: _e_value})"
   ]
  },
  {
   "cell_type": "code",
   "execution_count": null,
   "metadata": {},
   "outputs": [],
   "source": [
    "p_fail_upper_bound = _fail_ineq_inst.rhs"
   ]
  },
  {
   "cell_type": "code",
   "execution_count": null,
   "metadata": {},
   "outputs": [],
   "source": [
    "p_fail_e = _fail_ineq_inst.lhs"
   ]
  },
  {
   "cell_type": "code",
   "execution_count": null,
   "metadata": {},
   "outputs": [],
   "source": [
    "# Need to explicitly deduce that e != 1 so we can assure that p_fail_upper_bound is Real?\n",
    "InSet(e, _e_domain).derive_element_lower_bound(assumptions=[InSet(e, _e_domain)])"
   ]
  },
  {
   "cell_type": "code",
   "execution_count": null,
   "metadata": {},
   "outputs": [],
   "source": [
    "greater(e, one).prove(assumptions=[InSet(e, _e_domain)])"
   ]
  },
  {
   "cell_type": "code",
   "execution_count": null,
   "metadata": {},
   "outputs": [],
   "source": [
    "_e_value_minus_1_ge_one = _e_value_ge_two.right_add_both_sides(Neg(one))"
   ]
  },
  {
   "cell_type": "code",
   "execution_count": null,
   "metadata": {},
   "outputs": [],
   "source": [
    "from proveit.numbers import RealPos\n",
    "InSet(_e_value_minus_1_ge_one.lhs, RealPos).prove()"
   ]
  },
  {
   "cell_type": "code",
   "execution_count": null,
   "metadata": {},
   "outputs": [],
   "source": [
    "p_fail_upper_bound.deduce_in_number_set(Real, assumptions=[InSet(e, _e_domain)])"
   ]
  },
  {
   "cell_type": "code",
   "execution_count": null,
   "metadata": {},
   "outputs": [],
   "source": [
    "# need this for deduce_bound effort further below\n",
    "_pfail_in_real"
   ]
  },
  {
   "cell_type": "code",
   "execution_count": null,
   "metadata": {},
   "outputs": [],
   "source": [
    "_pfail_in_real.instantiate({e: _e_value})"
   ]
  },
  {
   "cell_type": "code",
   "execution_count": null,
   "metadata": {},
   "outputs": [],
   "source": [
    "_success_sum_from_fail_sum_inst.rhs"
   ]
  },
  {
   "cell_type": "code",
   "execution_count": null,
   "metadata": {},
   "outputs": [],
   "source": [
    "bound_01 = _success_sum_from_fail_sum_inst.rhs.deduce_bound(_fail_ineq_inst, assumptions=[InSet(e, _e_domain)])"
   ]
  },
  {
   "cell_type": "code",
   "execution_count": null,
   "metadata": {},
   "outputs": [],
   "source": [
    "bound_02 = _success_def_equality.apply_transitivity(bound_01)"
   ]
  },
  {
   "cell_type": "code",
   "execution_count": null,
   "metadata": {},
   "outputs": [],
   "source": [
    "bound_01.rhs.deduce_bound(_n_ge_two)"
   ]
  },
  {
   "cell_type": "code",
   "execution_count": null,
   "metadata": {},
   "outputs": [],
   "source": []
  },
  {
   "cell_type": "code",
   "execution_count": null,
   "metadata": {},
   "outputs": [],
   "source": [
    "_t_req"
   ]
  },
  {
   "cell_type": "code",
   "execution_count": null,
   "metadata": {},
   "outputs": [],
   "source": [
    "from proveit.physics.quantum.QPE import _eps_in_interval\n",
    "_eps_in_interval"
   ]
  },
  {
   "cell_type": "code",
   "execution_count": null,
   "metadata": {},
   "outputs": [],
   "source": [
    "from proveit.physics.quantum.QPE import _n\n",
    "bound_03 = t_minus_n_ge_log = _t_req.right_add_both_sides(Neg(_n))"
   ]
  },
  {
   "cell_type": "code",
   "execution_count": null,
   "metadata": {},
   "outputs": [],
   "source": [
    "_t_req.rhs.operands[1].operand.deduce_in_number_set(Real)"
   ]
  },
  {
   "cell_type": "code",
   "execution_count": null,
   "metadata": {},
   "outputs": [],
   "source": [
    "from proveit.numbers import Integer\n",
    "_t_req.rhs.operands[1].deduce_in_number_set(Integer)"
   ]
  },
  {
   "cell_type": "code",
   "execution_count": null,
   "metadata": {},
   "outputs": [],
   "source": [
    "_t_req.rhs.deduce_in_number_set(Real)"
   ]
  },
  {
   "cell_type": "code",
   "execution_count": null,
   "metadata": {},
   "outputs": [],
   "source": [
    "# Unsatisfied condition: (2 * (2^{ceil(log_2(2 + (1 / (2 * eps))))} - 2)) in RealPos\n",
    "# so we need the ceil(log_2(2 + (1 / (2 * eps)))) > 1\n",
    "_eps_le_one = _eps_in_interval.derive_element_upper_bound()"
   ]
  },
  {
   "cell_type": "code",
   "execution_count": null,
   "metadata": {},
   "outputs": [],
   "source": [
    "from proveit.numbers import two, Add, frac\n",
    "bound_04 = greater(Add(two, frac(one, two)), zero).prove()"
   ]
  },
  {
   "cell_type": "code",
   "execution_count": null,
   "metadata": {},
   "outputs": [],
   "source": [
    "bound_05 = bound_03.rhs.deduce_bound(_eps_le_one)"
   ]
  },
  {
   "cell_type": "code",
   "execution_count": null,
   "metadata": {},
   "outputs": [],
   "source": [
    "from proveit.numbers.logarithms import log_base_large_a_greater_one\n",
    "log_base_large_a_greater_one"
   ]
  },
  {
   "cell_type": "code",
   "execution_count": null,
   "metadata": {},
   "outputs": [],
   "source": [
    "from proveit import a, b\n",
    "_a_sub, _b_sub = (\n",
    "    bound_05.rhs.operand.base,\n",
    "    bound_05.rhs.operand.antilog)\n",
    "log_base_2_of_stuff_greater_than_one = log_base_large_a_greater_one.instantiate({a: _a_sub, b: _b_sub})"
   ]
  },
  {
   "cell_type": "code",
   "execution_count": null,
   "metadata": {},
   "outputs": [],
   "source": [
    "bound_06 = bound_05.rhs.deduce_bound(log_base_2_of_stuff_greater_than_one)"
   ]
  },
  {
   "cell_type": "code",
   "execution_count": null,
   "metadata": {},
   "outputs": [],
   "source": [
    "bound_07 = bound_05.apply_transitivity(bound_06)"
   ]
  },
  {
   "cell_type": "code",
   "execution_count": null,
   "metadata": {},
   "outputs": [],
   "source": [
    "from proveit.numbers import Exp\n",
    "bound_08 = Exp(two, bound_07.lhs).deduce_bound(bound_07)"
   ]
  },
  {
   "cell_type": "code",
   "execution_count": null,
   "metadata": {},
   "outputs": [],
   "source": [
    "# # this is still asking too much at once\n",
    "# from proveit.numbers import Mult\n",
    "# Mult(two, subtract(bound_08.lhs, two)).deduce_bound(bound_08)"
   ]
  },
  {
   "cell_type": "code",
   "execution_count": null,
   "metadata": {},
   "outputs": [],
   "source": [
    "bound_09 = bound_08.right_add_both_sides(Neg(two))"
   ]
  },
  {
   "cell_type": "code",
   "execution_count": null,
   "metadata": {},
   "outputs": [],
   "source": [
    "bound_10 = bound_09.left_mult_both_sides(two)"
   ]
  },
  {
   "cell_type": "code",
   "execution_count": null,
   "metadata": {},
   "outputs": [],
   "source": [
    "bound_10.lhs.deduce_in_number_set(RealPos)"
   ]
  },
  {
   "cell_type": "code",
   "execution_count": null,
   "metadata": {},
   "outputs": [],
   "source": [
    "Exp(two, bound_07.lhs.operand).simplification()"
   ]
  },
  {
   "cell_type": "code",
   "execution_count": null,
   "metadata": {},
   "outputs": [],
   "source": [
    "# also need a version of bound_10 without the Ceil function\n",
    "from proveit.numbers import Mult\n",
    "subtract(Exp(two, bound_07.lhs.operand), two).deduce_in_number_set(RealPos)"
   ]
  },
  {
   "cell_type": "code",
   "execution_count": null,
   "metadata": {},
   "outputs": [],
   "source": [
    "# subtract(_e_value, one).deduce_bound(_e_value_ge_two)"
   ]
  },
  {
   "cell_type": "code",
   "execution_count": null,
   "metadata": {},
   "outputs": [],
   "source": [
    "bound_11 = bound_02.rhs.deduce_bound(t_minus_n_ge_log)"
   ]
  },
  {
   "cell_type": "code",
   "execution_count": null,
   "metadata": {},
   "outputs": [],
   "source": [
    "bound_12 = bound_02.apply_transitivity(bound_11)"
   ]
  },
  {
   "cell_type": "code",
   "execution_count": null,
   "metadata": {},
   "outputs": [],
   "source": [
    "from proveit.numbers.rounding import ceil_x_ge_x\n",
    "ceil_x_ge_x"
   ]
  },
  {
   "cell_type": "code",
   "execution_count": null,
   "metadata": {},
   "outputs": [],
   "source": [
    "from proveit import x\n",
    "_x_sub = bound_07.lhs.operand\n",
    "bound_13 = ceil_x_ge_x.instantiate({x: _x_sub})"
   ]
  },
  {
   "cell_type": "code",
   "execution_count": null,
   "metadata": {},
   "outputs": [],
   "source": [
    "bound_14 = bound_11.rhs.deduce_bound(bound_13)"
   ]
  },
  {
   "cell_type": "code",
   "execution_count": null,
   "metadata": {},
   "outputs": [],
   "source": [
    "bound_15 = bound_14.inner_expr().rhs.operands[1].operand.denominator.cancel(two)"
   ]
  },
  {
   "cell_type": "code",
   "execution_count": null,
   "metadata": {},
   "outputs": [],
   "source": [
    "bound_16 = bound_12.apply_transitivity(bound_15)"
   ]
  },
  {
   "cell_type": "code",
   "execution_count": null,
   "metadata": {},
   "outputs": [],
   "source": [
    "thm_condition_01 = bound_16.lhs.condition.operands[1]"
   ]
  },
  {
   "cell_type": "markdown",
   "metadata": {},
   "source": [
    "$|m-b|_{2^{t}} \\le 2^{t-n} - 1$\n",
    "\n",
    "$|m-b|_{2^{t}} + 1 \\le 2^{t-n}$"
   ]
  },
  {
   "cell_type": "code",
   "execution_count": null,
   "metadata": {},
   "outputs": [],
   "source": [
    "# recall our def of the 'best' estimate b\n",
    "from proveit.physics.quantum.QPE import _best_def\n",
    "_best_def"
   ]
  },
  {
   "cell_type": "code",
   "execution_count": null,
   "metadata": {},
   "outputs": [],
   "source": [
    "thm_condition_02 = thm_condition_01.inner_expr().lhs.value.operands[1].operand.substitute(\n",
    "        _best_def, assumptions=defaults.assumptions+(thm_condition_01,))"
   ]
  },
  {
   "cell_type": "code",
   "execution_count": null,
   "metadata": {},
   "outputs": [],
   "source": [
    "# and perform a quick commutation of the phi and 2^t to avoid problems later\n",
    "thm_condition_02 = thm_condition_02.inner_expr().lhs.value.operands[1].operand.operand.commute(0, 1)"
   ]
  },
  {
   "cell_type": "code",
   "execution_count": null,
   "metadata": {},
   "outputs": [],
   "source": [
    "from proveit.numbers.modular import mod_abs_of_difference_bound\n",
    "mod_abs_of_difference_bound"
   ]
  },
  {
   "cell_type": "code",
   "execution_count": null,
   "metadata": {},
   "outputs": [],
   "source": [
    "from proveit import N\n",
    "from proveit.numbers import Floor, ModAbs\n",
    "_a_sub, _b_sub, _N_sub = (\n",
    "    subtract(m, Mult(_two_pow_t, _phase)),\n",
    "    subtract(m, Floor(Mult(_two_pow_t, _phase))),\n",
    "    _two_pow_t)\n",
    "thm_condition_03 = mod_abs_of_difference_bound.instantiate(\n",
    "        {a: _a_sub, b: _b_sub, N: _N_sub}, assumptions=defaults.assumptions + (m_membership,))"
   ]
  },
  {
   "cell_type": "code",
   "execution_count": null,
   "metadata": {},
   "outputs": [],
   "source": [
    "from proveit.numbers.rounding import real_minus_floor_upper_bound\n",
    "real_minus_floor_upper_bound"
   ]
  },
  {
   "cell_type": "code",
   "execution_count": null,
   "metadata": {},
   "outputs": [],
   "source": [
    "thm_condition_04 = thm_condition_03.inner_expr().lhs.value.commute(0, 1)"
   ]
  },
  {
   "cell_type": "code",
   "execution_count": null,
   "metadata": {},
   "outputs": [],
   "source": [
    "_x_sub = thm_condition_04.lhs.value.operands[0].operand\n",
    "thm_condition_05 = real_minus_floor_upper_bound.instantiate({x: _x_sub})"
   ]
  },
  {
   "cell_type": "code",
   "execution_count": null,
   "metadata": {},
   "outputs": [],
   "source": [
    "# and 1 < (2^t)/2\n",
    "from proveit.numbers import Div, Less\n",
    "from proveit.physics.quantum.QPE import _two_pow__t_minus_one\n",
    "substitition_01 = Mult(two, _two_pow__t_minus_one).exponent_combination()"
   ]
  },
  {
   "cell_type": "code",
   "execution_count": null,
   "metadata": {},
   "outputs": [],
   "source": [
    "Div(Mult(two, _two_pow__t_minus_one), two).cancelation(two).inner_expr().lhs.numerator.substitute(substitition_01)"
   ]
  },
  {
   "cell_type": "code",
   "execution_count": null,
   "metadata": {},
   "outputs": [],
   "source": [
    "from proveit.physics.quantum.QPE import _t_ge_4\n",
    "_t_ge_4"
   ]
  },
  {
   "cell_type": "code",
   "execution_count": null,
   "metadata": {},
   "outputs": [],
   "source": [
    "_two_pow__t_minus_one.deduce_bound(_t_ge_4)"
   ]
  },
  {
   "cell_type": "code",
   "execution_count": null,
   "metadata": {},
   "outputs": [],
   "source": [
    "from proveit.numbers.modular import mod_abs_x_reduce_to_abs_x\n",
    "mod_abs_x_reduce_to_abs_x"
   ]
  },
  {
   "cell_type": "code",
   "execution_count": null,
   "metadata": {},
   "outputs": [],
   "source": [
    "thm_condition_05"
   ]
  },
  {
   "cell_type": "code",
   "execution_count": null,
   "metadata": {},
   "outputs": [],
   "source": [
    "_x_sub, _N_sub = (thm_condition_05.lhs, _two_pow_t)\n",
    "floor_diff_equality = mod_abs_x_reduce_to_abs_x.instantiate({x: _x_sub, N: _N_sub})"
   ]
  },
  {
   "cell_type": "code",
   "execution_count": null,
   "metadata": {},
   "outputs": [],
   "source": [
    "floor_diff_equality_abs_reversal = floor_diff_equality.inner_expr().lhs.reverse_difference()"
   ]
  },
  {
   "cell_type": "code",
   "execution_count": null,
   "metadata": {},
   "outputs": [],
   "source": [
    "thm_condition_04 = thm_condition_04.with_styles(direction='normal')"
   ]
  },
  {
   "cell_type": "code",
   "execution_count": null,
   "metadata": {},
   "outputs": [],
   "source": [
    "thm_condition_06 = thm_condition_04.inner_expr().rhs.substitute(floor_diff_equality_abs_reversal)"
   ]
  },
  {
   "cell_type": "code",
   "execution_count": null,
   "metadata": {},
   "outputs": [],
   "source": [
    "thm_condition_07 = thm_condition_06.apply_transitivity(thm_condition_05)"
   ]
  },
  {
   "cell_type": "code",
   "execution_count": null,
   "metadata": {},
   "outputs": [],
   "source": [
    "thm_condition_08 = thm_condition_07.derive_relaxed()"
   ]
  },
  {
   "cell_type": "code",
   "execution_count": null,
   "metadata": {},
   "outputs": [],
   "source": [
    "thm_condition_09 = thm_condition_08.left_add_both_sides(thm_condition_08.lhs.operands[1].operand)"
   ]
  },
  {
   "cell_type": "code",
   "execution_count": null,
   "metadata": {},
   "outputs": [],
   "source": [
    "# recall from earlier\n",
    "thm_condition_02"
   ]
  },
  {
   "cell_type": "code",
   "execution_count": null,
   "metadata": {},
   "outputs": [],
   "source": [
    "thm_condition_10 = thm_condition_02.right_add_both_sides(\n",
    "        one, assumptions=defaults.assumptions+(m_membership,))"
   ]
  },
  {
   "cell_type": "code",
   "execution_count": null,
   "metadata": {},
   "outputs": [],
   "source": [
    "thm_condition_01"
   ]
  },
  {
   "cell_type": "code",
   "execution_count": null,
   "metadata": {},
   "outputs": [],
   "source": [
    "thm_condition_11 = thm_condition_09.apply_transitivity(thm_condition_10,\n",
    "        assumptions=defaults.assumptions+(m_membership,thm_condition_01))"
   ]
  },
  {
   "cell_type": "code",
   "execution_count": null,
   "metadata": {},
   "outputs": [],
   "source": [
    "from proveit.numbers.modular import mod_abs_scaled\n",
    "mod_abs_scaled"
   ]
  },
  {
   "cell_type": "code",
   "execution_count": null,
   "metadata": {},
   "outputs": [],
   "source": [
    "# recall\n",
    "_phase_is_real"
   ]
  },
  {
   "cell_type": "code",
   "execution_count": null,
   "metadata": {},
   "outputs": [],
   "source": [
    "thm_condition.lhs.operands[0].deduce_in_number_set(Real, assumptions=[m_membership])"
   ]
  },
  {
   "cell_type": "code",
   "execution_count": null,
   "metadata": {},
   "outputs": [],
   "source": [
    "from proveit import a, b, c\n",
    "from proveit.physics.quantum.QPE import _two_pow_t\n",
    "_a_sub, _b_sub, _c_sub = _two_pow_t, thm_condition.lhs.operands[0], one\n",
    "condition_equality_01 = mod_abs_scaled.instantiate({a: _a_sub, b: _b_sub, c: _c_sub}, assumptions=[m_membership])"
   ]
  },
  {
   "cell_type": "code",
   "execution_count": null,
   "metadata": {},
   "outputs": [],
   "source": [
    "condition_equality_02 = condition_equality_01.inner_expr().rhs.operands[0].distribute(1)"
   ]
  },
  {
   "cell_type": "code",
   "execution_count": null,
   "metadata": {},
   "outputs": [],
   "source": [
    "thm_condition_11"
   ]
  },
  {
   "cell_type": "code",
   "execution_count": null,
   "metadata": {},
   "outputs": [],
   "source": [
    "thm_condition_12 = condition_equality_02.sub_left_side_into(thm_condition_11,\n",
    "        assumptions=defaults.assumptions+(m_membership,thm_condition_01))"
   ]
  },
  {
   "cell_type": "code",
   "execution_count": null,
   "metadata": {},
   "outputs": [],
   "source": [
    "# thm_condition_12.lhs.operands[1].value.deduce_number_set(\n",
    "#         assumptions=defaults.assumptions+(m_membership,thm_condition_01))"
   ]
  },
  {
   "cell_type": "code",
   "execution_count": null,
   "metadata": {},
   "outputs": [],
   "source": [
    "thm_condition_12.lhs.operands[1].deduce_in_number_set(Real, assumptions=defaults.assumptions+(m_membership,thm_condition_01))"
   ]
  },
  {
   "cell_type": "code",
   "execution_count": null,
   "metadata": {},
   "outputs": [],
   "source": [
    "thm_condition_13 = thm_condition_12.divide_both_sides(_two_pow_t).inner_expr().lhs.simplify()"
   ]
  },
  {
   "cell_type": "code",
   "execution_count": null,
   "metadata": {},
   "outputs": [],
   "source": [
    "two_pow_t_minus_n_factored = Mult(_two_pow_t, Exp(two, Neg(_n))).exponent_combination()"
   ]
  },
  {
   "cell_type": "code",
   "execution_count": null,
   "metadata": {},
   "outputs": [],
   "source": [
    "two_pow_t_minus_n_factored_div = Div(Mult(_two_pow_t, Exp(two, Neg(_n))), _two_pow_t).cancelation(_two_pow_t)"
   ]
  },
  {
   "cell_type": "code",
   "execution_count": null,
   "metadata": {},
   "outputs": [],
   "source": [
    "two_pow_neg_n_sub = two_pow_t_minus_n_factored_div.inner_expr().lhs.numerator.substitute(two_pow_t_minus_n_factored)"
   ]
  },
  {
   "cell_type": "code",
   "execution_count": null,
   "metadata": {},
   "outputs": [],
   "source": [
    "thm_condition_13.inner_expr().rhs.substitute(two_pow_neg_n_sub)"
   ]
  },
  {
   "cell_type": "code",
   "execution_count": null,
   "metadata": {},
   "outputs": [],
   "source": [
    "from proveit.statistics import constrained_event_prob_bound\n",
    "constrained_event_prob_bound"
   ]
  },
  {
   "cell_type": "code",
   "execution_count": null,
   "metadata": {},
   "outputs": [],
   "source": []
  }
 ],
 "metadata": {
  "kernelspec": {
   "display_name": "Python 3",
   "language": "python",
   "name": "python3"
  }
 },
 "nbformat": 4,
 "nbformat_minor": 0
}
