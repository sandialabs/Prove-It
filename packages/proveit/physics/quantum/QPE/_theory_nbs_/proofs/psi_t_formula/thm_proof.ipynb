{
 "cells": [
  {
   "cell_type": "markdown",
   "metadata": {},
   "source": [
    "Proof of <a class=\"ProveItLink\" href=\"../../../../../../_theory_nbs_/theory.ipynb\">proveit</a>.<a class=\"ProveItLink\" href=\"../../../../../_theory_nbs_/theory.ipynb\">physics</a>.<a class=\"ProveItLink\" href=\"../../../../_theory_nbs_/theory.ipynb\">quantum</a>.<a class=\"ProveItLink\" href=\"../../theory.ipynb\">QPE</a>.<a class=\"ProveItLink\" href=\"../../theorems.ipynb#psi_t_formula\">psi_t_formula</a> theorem\n",
    "========"
   ]
  },
  {
   "cell_type": "code",
   "execution_count": null,
   "metadata": {},
   "outputs": [],
   "source": [
    "import proveit\n",
    "theory = proveit.Theory() # the theorem's theory\n",
    "from proveit import defaults, a, b, b_of_j, c, d, f, j, k, m, n, r, t, x, y, z, alpha, fj, gj, fx\n",
    "from proveit import Function, IndexedVar\n",
    "from proveit.core_expr_types import fk, gk\n",
    "from proveit.logic import Equals, InSet, NotEquals\n",
    "from proveit.numbers import Add, Exp, frac, Less, LessEq, Mult, Neg, subtract, Sum\n",
    "from proveit.numbers import zero, one, two, e, i, pi, Complex, Integer, Interval, Natural, NaturalPos, RealPos\n",
    "from proveit.numbers.addition import right_add_eq\n",
    "from proveit.numbers.exponentiation import add_one_right_in_exp, exp_eq_for_eq_base_and_exp, exponential_monotonocity\n",
    "from proveit.numbers.ordering import less_than_successor\n",
    "from proveit.numbers.summation import (distributive_summation, distributive_summation_spec)\n",
    "from proveit.numbers.number_sets.real_numbers import pi_is_real_pos\n",
    "from proveit.linear_algebra import (\n",
    "        TensorProd, tensor_prod_linearity, factor_complex_scalar_from_tensor_prod,\n",
    "        distribute_tensor_prod_over_sum, scalar_tensor_associativity)\n",
    "from proveit.physics.quantum import Ket, RegisterKet, multi_tensor_prod_induct_0, multi_tensor_prod_induct_1\n",
    "from proveit.physics.quantum.QPE import (psi_prime_t_def, psi_t_def,\n",
    "    phase_, psi_t_prime, t_, t_prime, t_star, two_pow_t, phase_is_real,\n",
    "    p_prime, p_prime_r_def, psi_prime_t_def, psi_prime_t_prime,\n",
    "    psi_prime_expansion, psi_prime_t_formula)"
   ]
  },
  {
   "cell_type": "code",
   "execution_count": null,
   "metadata": {},
   "outputs": [],
   "source": [
    "%proving psi_t_formula"
   ]
  },
  {
   "cell_type": "code",
   "execution_count": null,
   "metadata": {},
   "outputs": [],
   "source": [
    "defaults.assumptions = psi_t_formula.all_conditions()"
   ]
  },
  {
   "cell_type": "code",
   "execution_count": null,
   "metadata": {},
   "outputs": [],
   "source": [
    "psi_prime_t_def"
   ]
  },
  {
   "cell_type": "code",
   "execution_count": null,
   "metadata": {},
   "outputs": [],
   "source": [
    "psi_t_def"
   ]
  },
  {
   "cell_type": "code",
   "execution_count": null,
   "metadata": {},
   "outputs": [],
   "source": [
    "psi_prime_def_inst = psi_prime_t_def.instantiate({t: t})"
   ]
  },
  {
   "cell_type": "code",
   "execution_count": null,
   "metadata": {},
   "outputs": [],
   "source": [
    "psi_t_inst = psi_t_def.instantiate({t: t})"
   ]
  },
  {
   "cell_type": "code",
   "execution_count": null,
   "metadata": {},
   "outputs": [],
   "source": [
    "psi_in_terms_of_psi_prime = psi_prime_def_inst.sub_left_side_into(psi_t_inst)"
   ]
  },
  {
   "cell_type": "code",
   "execution_count": null,
   "metadata": {},
   "outputs": [],
   "source": [
    "psi_prime_t_formula"
   ]
  },
  {
   "cell_type": "code",
   "execution_count": null,
   "metadata": {},
   "outputs": [],
   "source": [
    "psi_prime_t_formula_inst = psi_prime_t_formula.instantiate({t: t})"
   ]
  },
  {
   "cell_type": "code",
   "execution_count": null,
   "metadata": {},
   "outputs": [],
   "source": [
    "psi_t_formula_to_be_generalized = psi_prime_t_formula_inst.sub_right_side_into(psi_in_terms_of_psi_prime)"
   ]
  },
  {
   "cell_type": "code",
   "execution_count": null,
   "metadata": {},
   "outputs": [],
   "source": [
    "psi_t_formula_to_be_generalized.generalize([t], [[NaturalPos]])"
   ]
  },
  {
   "cell_type": "markdown",
   "metadata": {},
   "source": [
    "We assume that the formula works for $t^{\\prime}$ and not for $t^{*} = t^{\\prime}+1$. That is, we let $t^{*}$ be the “minimal counter-example” for the formula."
   ]
  },
  {
   "cell_type": "markdown",
   "metadata": {},
   "source": [
    "First, some helpful expressions:"
   ]
  },
  {
   "cell_type": "code",
   "execution_count": null,
   "metadata": {},
   "outputs": [],
   "source": [
    "# f_of_k = Mult(Exp(e, Mult(two, pi, i, phase_, k)), RegisterKet(k, t))"
   ]
  },
  {
   "cell_type": "code",
   "execution_count": null,
   "metadata": {},
   "outputs": [],
   "source": [
    "# f_of_k_t_prime = Mult(Exp(e, Mult(two, pi, i, phase_, k)), RegisterKet(k, t_prime))"
   ]
  },
  {
   "cell_type": "code",
   "execution_count": null,
   "metadata": {},
   "outputs": [],
   "source": [
    "# f_of_k_t_star = Mult(Exp(e, Mult(two, pi, i, phase_, k)), RegisterKet(k, t_star))"
   ]
  },
  {
   "cell_type": "code",
   "execution_count": null,
   "metadata": {},
   "outputs": [],
   "source": [
    "# psi_t_prime_formula = Equals(psi_t_prime,\n",
    "#         Mult(frac(one, Exp(two, frac(t_prime,two))),\n",
    "#              Sum(k, f_of_k_t_prime, domain=Interval(zero, subtract(Exp(two, t_prime), one)))))"
   ]
  },
  {
   "cell_type": "code",
   "execution_count": null,
   "metadata": {},
   "outputs": [],
   "source": [
    "# psi_t_star_formula = NotEquals(psi_t_star,\n",
    "#         Mult(frac(one, Exp(two, frac(t_star,two))),\n",
    "#              Sum(k, f_of_k_t_star, domain=Interval(zero, subtract(Exp(two, t_star), one)))))"
   ]
  },
  {
   "cell_type": "code",
   "execution_count": null,
   "metadata": {},
   "outputs": [],
   "source": [
    "# psi_prime_t_prime_formula = Equals(psi_prime_t_prime,\n",
    "#         Sum(k, f_of_k_t_prime, domain=Interval(zero, subtract(Exp(two, t_prime), one))))"
   ]
  },
  {
   "cell_type": "code",
   "execution_count": null,
   "metadata": {},
   "outputs": [],
   "source": [
    "# psi_prime_t_star_formula = NotEquals(psi_prime_t_star,\n",
    "#         Sum(k, f_of_k_t_star, domain=Interval(zero, subtract(Exp(two, t_star), one))))"
   ]
  },
  {
   "cell_type": "code",
   "execution_count": null,
   "metadata": {},
   "outputs": [],
   "source": [
    "# Establish default assumptions for convenience throughout the proof.\n",
    "# defaults.assumptions = (\n",
    "#     [InSet(t_prime, NaturalPos), Equals(t_star,Add(t_prime, one)),\n",
    "#      psi_prime_t_prime_formula, psi_prime_t_star_formula])"
   ]
  },
  {
   "cell_type": "code",
   "execution_count": null,
   "metadata": {},
   "outputs": [],
   "source": [
    "# Fundamental assumption/axiom relating t* and t'\n",
    "# t_star_eq_t_prime_plus_one = Equals(t_star,Add(t_prime, one)).prove(assumptions=[Equals(t_star,Add(t_prime, one))])"
   ]
  },
  {
   "cell_type": "markdown",
   "metadata": {},
   "source": [
    "### Establish some fundamental identities and relationships for use at various stages in the proof.\n",
    "\n",
    "For example, because $t^* = t' + 1$, we also have:<br>\n",
    "(1) $t' < t^*$ <br>\n",
    "(2) $2^{t^*} = 2^{t' + 1}$<br>\n",
    "(3) $2^{t^*}-2^{t'} = 2^{t'}$"
   ]
  },
  {
   "cell_type": "code",
   "execution_count": null,
   "metadata": {},
   "outputs": [],
   "source": [
    "# less_than_successor"
   ]
  },
  {
   "cell_type": "code",
   "execution_count": null,
   "metadata": {},
   "outputs": [],
   "source": [
    "# temp_inequality = less_than_successor.instantiate({a: t_prime})"
   ]
  },
  {
   "cell_type": "code",
   "execution_count": null,
   "metadata": {},
   "outputs": [],
   "source": [
    "# t_prime_lt_t_\n",
    "# star = t_star_eq_t_prime_plus_one.sub_left_side_into(temp_inequality)"
   ]
  },
  {
   "cell_type": "code",
   "execution_count": null,
   "metadata": {},
   "outputs": [],
   "source": [
    "# exponential_monotonocity"
   ]
  },
  {
   "cell_type": "code",
   "execution_count": null,
   "metadata": {},
   "outputs": [],
   "source": [
    "# exponential_monotonocity_inst = exponential_monotonocity.instantiate({a:two, b:t_prime, c:t_star})"
   ]
  },
  {
   "cell_type": "code",
   "execution_count": null,
   "metadata": {},
   "outputs": [],
   "source": [
    "# exponential_monotonocity_inst.derive_shifted(Neg(one))"
   ]
  },
  {
   "cell_type": "code",
   "execution_count": null,
   "metadata": {},
   "outputs": [],
   "source": [
    "# p_prime_r_def"
   ]
  },
  {
   "cell_type": "code",
   "execution_count": null,
   "metadata": {},
   "outputs": [],
   "source": [
    "# p_prime_r_def.instantiate(\n",
    "#     {t: t_prime, r:r}, assumptions=[*defaults.assumptions, InSet(r, Interval(zero, subtract(t_prime, one)))])"
   ]
  },
  {
   "cell_type": "code",
   "execution_count": null,
   "metadata": {},
   "outputs": [],
   "source": [
    "# useful_reduction = Equals(subtract(subtract(Exp(two, t_star), one), Exp(two, t_prime)), subtract(Exp(two, t_prime), one)).prove(assumptions=[Equals(subtract(subtract(Exp(two, t_star), one), Exp(two, t_prime)), subtract(Exp(two, t_prime), one))])"
   ]
  },
  {
   "cell_type": "code",
   "execution_count": null,
   "metadata": {},
   "outputs": [],
   "source": [
    "# useful_reduction_02 = (\n",
    "#     Equals(Add(Exp(two, t_star), Neg(Exp(two, t_prime)), Neg(one)),\n",
    "#            subtract(Exp(two, t_prime), one)).prove(\n",
    "#     assumptions=[Equals(Add(Exp(two, t_star), Neg(Exp(two, t_prime)), Neg(one)),\n",
    "#            subtract(Exp(two, t_prime), one))]))"
   ]
  },
  {
   "cell_type": "code",
   "execution_count": null,
   "metadata": {},
   "outputs": [],
   "source": [
    "# Our definition/axiom relating t^* and t'\n",
    "# t_star_eq_t_prime_plus_one = Equals(t_star,Add(t_prime, one)).prove(assumptions=[Equals(t_star,Add(t_prime, one))])"
   ]
  },
  {
   "cell_type": "code",
   "execution_count": null,
   "metadata": {},
   "outputs": [],
   "source": [
    "# InSet(Add(t_prime, one), Natural).prove()"
   ]
  },
  {
   "cell_type": "code",
   "execution_count": null,
   "metadata": {},
   "outputs": [],
   "source": [
    "# InSet(t_star, Natural).prove()"
   ]
  },
  {
   "cell_type": "code",
   "execution_count": null,
   "metadata": {},
   "outputs": [],
   "source": [
    "# two_pow_t_prime_minus_one = subtract(Exp(two, t_prime), one)"
   ]
  },
  {
   "cell_type": "code",
   "execution_count": null,
   "metadata": {},
   "outputs": [],
   "source": [
    "# InSet(subtract(Exp(two, t_prime), one), Integer).prove()"
   ]
  },
  {
   "cell_type": "code",
   "execution_count": null,
   "metadata": {},
   "outputs": [],
   "source": [
    "# InSet(Add(t_prime, one), Natural).prove()"
   ]
  },
  {
   "cell_type": "code",
   "execution_count": null,
   "metadata": {},
   "outputs": [],
   "source": [
    "# InSet(Exp(two, t_star), Integer).prove()"
   ]
  },
  {
   "cell_type": "code",
   "execution_count": null,
   "metadata": {},
   "outputs": [],
   "source": [
    "# InSet(Exp(two, t_prime), NaturalPos).prove()"
   ]
  },
  {
   "cell_type": "code",
   "execution_count": null,
   "metadata": {},
   "outputs": [],
   "source": [
    "# subtract(Exp(two, t_prime), one).deduce_in_number_set(Natural)"
   ]
  },
  {
   "cell_type": "code",
   "execution_count": null,
   "metadata": {},
   "outputs": [],
   "source": [
    "# LessEq(zero, subtract(Exp(two, t_prime), one)).prove()"
   ]
  },
  {
   "cell_type": "code",
   "execution_count": null,
   "metadata": {},
   "outputs": [],
   "source": [
    "# assert(1==2)"
   ]
  },
  {
   "cell_type": "markdown",
   "metadata": {},
   "source": [
    "#### For later summation index manipulations, we need to establish that $2^{t^*}-2^{t^{\\prime}} = 2^{t^{\\prime}}$"
   ]
  },
  {
   "cell_type": "code",
   "execution_count": null,
   "metadata": {},
   "outputs": [],
   "source": [
    "# exp_eq_for_eq_base_and_exp"
   ]
  },
  {
   "cell_type": "code",
   "execution_count": null,
   "metadata": {},
   "outputs": [],
   "source": [
    "# two_t_star_eq_two_t_prime_plus_one = exp_eq_for_eq_base_and_exp.instantiate({a: two, x: t_star, y: Add(t_prime, one)})"
   ]
  },
  {
   "cell_type": "code",
   "execution_count": null,
   "metadata": {},
   "outputs": [],
   "source": [
    "# add_one_right_in_exp"
   ]
  },
  {
   "cell_type": "code",
   "execution_count": null,
   "metadata": {},
   "outputs": [],
   "source": [
    "# two_t_prime_times_two = add_one_right_in_exp.instantiate({a: two, b:t_prime})"
   ]
  },
  {
   "cell_type": "code",
   "execution_count": null,
   "metadata": {},
   "outputs": [],
   "source": [
    "# two_t_prime_times_two = two_t_prime_times_two.derive_reversed()"
   ]
  },
  {
   "cell_type": "code",
   "execution_count": null,
   "metadata": {},
   "outputs": [],
   "source": [
    "# two_t_star_minus_two_t_prime = subtract(Exp(two, t_star), Exp(two, t_prime))"
   ]
  },
  {
   "cell_type": "code",
   "execution_count": null,
   "metadata": {},
   "outputs": [],
   "source": [
    "# two_t_prime_plus_one_minus_two_t_prime = subtract(Exp(two, Add(t_prime, one)), Exp(two, t_prime))"
   ]
  },
  {
   "cell_type": "code",
   "execution_count": null,
   "metadata": {},
   "outputs": [],
   "source": [
    "# sub_01 = two_t_star_eq_two_t_prime_plus_one.substitution(two_t_star_minus_two_t_prime)"
   ]
  },
  {
   "cell_type": "code",
   "execution_count": null,
   "metadata": {},
   "outputs": [],
   "source": [
    "# assert(1==2)"
   ]
  },
  {
   "cell_type": "code",
   "execution_count": null,
   "metadata": {},
   "outputs": [],
   "source": [
    "# sub_01.rhs"
   ]
  },
  {
   "cell_type": "code",
   "execution_count": null,
   "metadata": {},
   "outputs": [],
   "source": [
    "# sub_02 = two_t_prime_times_two.substitution(sub_01.rhs)"
   ]
  },
  {
   "cell_type": "code",
   "execution_count": null,
   "metadata": {},
   "outputs": [],
   "source": [
    "# factorization_01 = sub_02.rhs.factorization(Exp(two, t_prime))"
   ]
  },
  {
   "cell_type": "code",
   "execution_count": null,
   "metadata": {},
   "outputs": [],
   "source": [
    "# factorization_01 = factorization_01.inner_expr().rhs.simplify()"
   ]
  },
  {
   "cell_type": "code",
   "execution_count": null,
   "metadata": {},
   "outputs": [],
   "source": [
    "# two_pow_t_diff = Equals(sub_01.lhs, factorization_01.rhs).conclude_via_transitivity()"
   ]
  },
  {
   "cell_type": "markdown",
   "metadata": {},
   "source": [
    "#### Also need more specifically that $2^{t^*} - 2^{t^{\\prime}} - 1 = 2^{t^{\\prime}} - 1$"
   ]
  },
  {
   "cell_type": "code",
   "execution_count": null,
   "metadata": {},
   "outputs": [],
   "source": [
    "# right_add_eq"
   ]
  },
  {
   "cell_type": "code",
   "execution_count": null,
   "metadata": {},
   "outputs": [],
   "source": [
    "# reduction_03 = right_add_eq.instantiate({a: Neg(one), x: two_pow_t_diff.lhs, y:two_pow_t_diff.rhs})"
   ]
  },
  {
   "cell_type": "code",
   "execution_count": null,
   "metadata": {},
   "outputs": [],
   "source": [
    "# reduction_03_simp = reduction_03.inner_expr().lhs.simplification()"
   ]
  },
  {
   "cell_type": "code",
   "execution_count": null,
   "metadata": {},
   "outputs": [],
   "source": [
    "# reduction_03 = reduction_03_simp.sub_right_side_into(reduction_03)"
   ]
  },
  {
   "cell_type": "code",
   "execution_count": null,
   "metadata": {},
   "outputs": [],
   "source": [
    "# assert(1==2)"
   ]
  },
  {
   "cell_type": "markdown",
   "metadata": {},
   "source": [
    "### c_03"
   ]
  },
  {
   "cell_type": "markdown",
   "metadata": {},
   "source": [
    "#### Now ready to begin dealing with summations. First, develop the equality (c_03):\n",
    "$\\sum_{k=0}^{2^{t^*}-1} e^{2\\pi i \\varphi k} |k\\rangle_{t^*} = \\sum_{k=0}^{2^{t^{\\prime}}-1} e^{2\\pi i \\varphi k} |k\\rangle_{t^*} + \\sum_{k=2^{t^{\\prime}}}^{2^{t^*}-1} e^{2\\pi i \\varphi k} |k\\rangle_{t^*}$"
   ]
  },
  {
   "cell_type": "code",
   "execution_count": null,
   "metadata": {},
   "outputs": [],
   "source": [
    "# summation_01 = psi_prime_t_star_formula.rhs"
   ]
  },
  {
   "cell_type": "code",
   "execution_count": null,
   "metadata": {},
   "outputs": [],
   "source": [
    "# c_03 = summation_01.split(two_pow_t_prime_minus_one)"
   ]
  },
  {
   "cell_type": "markdown",
   "metadata": {},
   "source": [
    "### c_04"
   ]
  },
  {
   "cell_type": "code",
   "execution_count": null,
   "metadata": {},
   "outputs": [],
   "source": [
    "# c_03_rhs_sum = c_03.rhs.operands[1]"
   ]
  },
  {
   "cell_type": "code",
   "execution_count": null,
   "metadata": {},
   "outputs": [],
   "source": [
    "# Recall our useful reduction to pass to the Sum.shift() method\n",
    "# Helps simplify the summation index expressions\n",
    "# reduction_03"
   ]
  },
  {
   "cell_type": "code",
   "execution_count": null,
   "metadata": {},
   "outputs": [],
   "source": [
    "# c_04 = c_03_rhs_sum.shift(Neg(Exp(two, t_prime)), reductions=[reduction_03])"
   ]
  },
  {
   "cell_type": "code",
   "execution_count": null,
   "metadata": {},
   "outputs": [],
   "source": [
    "# simplify exponential in rhs sum\n",
    "# c_04 = c_04.inner_expr().rhs.summand.operands[0].exponent.operands[4].operands[1].simplify()"
   ]
  },
  {
   "cell_type": "code",
   "execution_count": null,
   "metadata": {},
   "outputs": [],
   "source": [
    "# simplify ket in rhs sum\n",
    "# c_04 = c_04.inner_expr().rhs.summand.operands[1].operands[0].operands[1].simplify()"
   ]
  },
  {
   "cell_type": "code",
   "execution_count": null,
   "metadata": {},
   "outputs": [],
   "source": [
    "# sub for that t* ket register size on the rhs to allow a future substitution to work\n",
    "# c_04 = t_star_eq_t_prime_plus_one.sub_right_side_into(c_04.inner_expr().rhs.summand.operands[1].size)"
   ]
  },
  {
   "cell_type": "markdown",
   "metadata": {},
   "source": [
    "### c_05"
   ]
  },
  {
   "cell_type": "code",
   "execution_count": null,
   "metadata": {},
   "outputs": [],
   "source": [
    "# c_05 = c_04.sub_right_side_into(c_03)"
   ]
  },
  {
   "cell_type": "markdown",
   "metadata": {},
   "source": [
    "### c_06"
   ]
  },
  {
   "cell_type": "code",
   "execution_count": null,
   "metadata": {},
   "outputs": [],
   "source": [
    "# c_05.rhs.operands[1].summand"
   ]
  },
  {
   "cell_type": "code",
   "execution_count": null,
   "metadata": {},
   "outputs": [],
   "source": [
    "# Equals(c_05.rhs.operands[1].summand,\n",
    "#        Mult(c_05.rhs.operands[1].summand.operands[0], TensorProd(Ket(one), RegisterKet(k, t_prime))))"
   ]
  },
  {
   "cell_type": "code",
   "execution_count": null,
   "metadata": {},
   "outputs": [],
   "source": [
    "# a17"
   ]
  },
  {
   "cell_type": "code",
   "execution_count": null,
   "metadata": {},
   "outputs": [],
   "source": [
    "# a17_inst = a17.instantiate({t:t_prime, k:k}, assumptions=[*defaults.assumptions, InSet(k, Interval(zero, subtract(Exp(two, t_prime), one)))])"
   ]
  },
  {
   "cell_type": "code",
   "execution_count": null,
   "metadata": {},
   "outputs": [],
   "source": [
    "# a17_inst_comm = a17_inst.inner_expr().rhs.label.commute(0, 1, assumptions=[*defaults.assumptions, InSet(k, Interval(zero, subtract(Exp(two, t_prime), one)))])"
   ]
  },
  {
   "cell_type": "code",
   "execution_count": null,
   "metadata": {},
   "outputs": [],
   "source": [
    "# c_05.inner_expr().rhs.operands[1].summand.operands[1]"
   ]
  },
  {
   "cell_type": "code",
   "execution_count": null,
   "metadata": {},
   "outputs": [],
   "source": [
    "# a17_inst_reversed = a17_inst.derive_reversed()"
   ]
  },
  {
   "cell_type": "code",
   "execution_count": null,
   "metadata": {},
   "outputs": [],
   "source": [
    "# eq_01 = a17_inst_reversed.substitution(c_05.rhs.operands[1].summand)"
   ]
  },
  {
   "cell_type": "code",
   "execution_count": null,
   "metadata": {},
   "outputs": [],
   "source": [
    "# eq_02 = eq_01.inner_expr().rhs.operands[0].exponent.distribute(4, assumptions=[*defaults.assumptions, InSet(k, Interval(zero, subtract(Exp(two, t_prime), one)))])"
   ]
  },
  {
   "cell_type": "code",
   "execution_count": null,
   "metadata": {},
   "outputs": [],
   "source": [
    "# eq_03 = eq_02.inner_expr().rhs.operands[0].exponent_separate(assumptions=[*defaults.assumptions, InSet(k, Interval(zero, subtract(Exp(two, t_prime), one)))])"
   ]
  },
  {
   "cell_type": "code",
   "execution_count": null,
   "metadata": {},
   "outputs": [],
   "source": [
    "# eq_04 = eq_03.inner_expr().rhs.operands[1].label.commute(assumptions=[*defaults.assumptions, InSet(k, Interval(zero, subtract(Exp(two, t_prime), one)))])"
   ]
  },
  {
   "cell_type": "code",
   "execution_count": null,
   "metadata": {},
   "outputs": [],
   "source": [
    "# multi_tensor_prod_induct_1"
   ]
  },
  {
   "cell_type": "code",
   "execution_count": null,
   "metadata": {},
   "outputs": [],
   "source": [
    "# multi_tensor_prod_induct_1_inst = multi_tensor_prod_induct_1.instantiate({t: t_prime, k:k}, assumptions=[*defaults.assumptions, InSet(k, Interval(zero, subtract(Exp(two, t_prime), one)))])"
   ]
  },
  {
   "cell_type": "code",
   "execution_count": null,
   "metadata": {},
   "outputs": [],
   "source": [
    "# eq_05 = multi_tensor_prod_induct_1_inst.sub_left_side_into(eq_04)"
   ]
  },
  {
   "cell_type": "code",
   "execution_count": null,
   "metadata": {},
   "outputs": [],
   "source": [
    "# eq_06 = eq_05.inner_expr().rhs.factors[0].commute(assumptions=[*defaults.assumptions, InSet(k, Interval(zero, subtract(Exp(two, t_prime), one)))])"
   ]
  },
  {
   "cell_type": "code",
   "execution_count": null,
   "metadata": {},
   "outputs": [],
   "source": [
    "# eq_06_generalized = eq_06.generalize(k, domain=Interval(zero, subtract(Exp(two, t_prime), one)))"
   ]
  },
  {
   "cell_type": "code",
   "execution_count": null,
   "metadata": {},
   "outputs": [],
   "source": [
    "# temp_sum_01 = c_05.rhs.operands[1]"
   ]
  },
  {
   "cell_type": "markdown",
   "metadata": {},
   "source": [
    "Call c_05.inner_expr().rhs.operands[1].instance_substitute(universal_eq)"
   ]
  },
  {
   "cell_type": "code",
   "execution_count": null,
   "metadata": {},
   "outputs": [],
   "source": [
    "# c_06a = c_05.inner_expr().rhs.operands[1].instance_substitute(eq_06_generalized)"
   ]
  },
  {
   "cell_type": "code",
   "execution_count": null,
   "metadata": {},
   "outputs": [],
   "source": [
    "# exp_to_dist = c_06a.rhs.operands[1].summand.operands[0]"
   ]
  },
  {
   "cell_type": "markdown",
   "metadata": {},
   "source": [
    "Check the details about how the second summand is constructed:"
   ]
  },
  {
   "cell_type": "code",
   "execution_count": null,
   "metadata": {},
   "outputs": [],
   "source": [
    "# temp_factors = c_06a.rhs.operands[1].summand.factors[0]"
   ]
  },
  {
   "cell_type": "code",
   "execution_count": null,
   "metadata": {},
   "outputs": [],
   "source": [
    "# temp_factor_01 = c_06a.rhs.operands[1].summand.factors[0].factors[0]"
   ]
  },
  {
   "cell_type": "code",
   "execution_count": null,
   "metadata": {},
   "outputs": [],
   "source": [
    "# temp_factor_02 = c_06a.rhs.operands[1].summand.factors[0].factors[1]"
   ]
  },
  {
   "cell_type": "code",
   "execution_count": null,
   "metadata": {},
   "outputs": [],
   "source": [
    "# tensor_prod_linearity"
   ]
  },
  {
   "cell_type": "code",
   "execution_count": null,
   "metadata": {},
   "outputs": [],
   "source": [
    "# from proveit.core_expr_types import f_of_j\n",
    "# tensor_prod_sub = tensor_prod_linearity.instantiate(\n",
    "#         {j: k, a: Ket(one), b: RegisterKet(j, t_prime), c: zero,\n",
    "#          d: two_pow_t_prime_minus_one, t: t_prime, fk: temp_factors},\n",
    "#         assumptions=[*defaults.assumptions, InSet(k, Interval(zero, subtract(Exp(two, t_prime), one)))])"
   ]
  },
  {
   "cell_type": "code",
   "execution_count": null,
   "metadata": {},
   "outputs": [],
   "source": [
    "# c_06b = tensor_prod_sub.sub_right_side_into(c_06a, assumptions=[*defaults.assumptions, InSet(k, Interval(zero, subtract(Exp(two, t_prime), one)))])"
   ]
  },
  {
   "cell_type": "code",
   "execution_count": null,
   "metadata": {},
   "outputs": [],
   "source": [
    "# distributive_summation_spec"
   ]
  },
  {
   "cell_type": "code",
   "execution_count": null,
   "metadata": {},
   "outputs": [],
   "source": [
    "# eq_07 = distributive_summation_spec.instantiate(\n",
    "#         {j:k, c:zero, d:two_pow_t_prime_minus_one, x:temp_factor_01, gk:temp_factor_02, fk:RegisterKet(k, t_prime)})"
   ]
  },
  {
   "cell_type": "code",
   "execution_count": null,
   "metadata": {},
   "outputs": [],
   "source": [
    "# c_06c = eq_07.sub_right_side_into(c_06b, assumptions=[*defaults.assumptions, InSet(k, Interval(zero, subtract(Exp(two, t_prime), one)))])"
   ]
  },
  {
   "cell_type": "code",
   "execution_count": null,
   "metadata": {},
   "outputs": [],
   "source": []
  },
  {
   "cell_type": "markdown",
   "metadata": {},
   "source": [
    "### c_07"
   ]
  },
  {
   "cell_type": "code",
   "execution_count": null,
   "metadata": {},
   "outputs": [],
   "source": [
    "# c_05.rhs.operands[0].summand"
   ]
  },
  {
   "cell_type": "code",
   "execution_count": null,
   "metadata": {},
   "outputs": [],
   "source": [
    "# Equals(c_05.rhs.operands[0].summand,\n",
    "#        Mult(c_05.rhs.operands[0].summand.operands[0], TensorProd(Ket(zero), RegisterKet(k, t_prime))))"
   ]
  },
  {
   "cell_type": "code",
   "execution_count": null,
   "metadata": {},
   "outputs": [],
   "source": [
    "# multi_tensor_prod_induct_0"
   ]
  },
  {
   "cell_type": "code",
   "execution_count": null,
   "metadata": {},
   "outputs": [],
   "source": [
    "# multi_tensor_prod_induct_0_inst = multi_tensor_prod_induct_0.instantiate(\n",
    "#         {t:t_prime, k:k}, assumptions=[*defaults.assumptions, InSet(k, Interval(zero, subtract(Exp(two, t_prime), one)))])"
   ]
  },
  {
   "cell_type": "code",
   "execution_count": null,
   "metadata": {},
   "outputs": [],
   "source": [
    "# c_05.inner_expr().rhs.operands[1].summand.operands[1]"
   ]
  },
  {
   "cell_type": "code",
   "execution_count": null,
   "metadata": {},
   "outputs": [],
   "source": [
    "# A reminder of earlier c_03\n",
    "# c_03"
   ]
  },
  {
   "cell_type": "code",
   "execution_count": null,
   "metadata": {},
   "outputs": [],
   "source": [
    "# eq_08 = Equals(c_03.rhs.operands[0].summand, c_03.rhs.operands[0].summand).prove()"
   ]
  },
  {
   "cell_type": "code",
   "execution_count": null,
   "metadata": {},
   "outputs": [],
   "source": [
    "# eq_09 = t_star_eq_t_prime_plus_one.sub_right_side_into(eq_08.inner_expr().rhs.operands[1].size)"
   ]
  },
  {
   "cell_type": "code",
   "execution_count": null,
   "metadata": {},
   "outputs": [],
   "source": [
    "# multi_tensor_prod_induct_0_inst_reversed = multi_tensor_prod_induct_0_inst.derive_reversed()"
   ]
  },
  {
   "cell_type": "code",
   "execution_count": null,
   "metadata": {},
   "outputs": [],
   "source": [
    "# eq_10 = multi_tensor_prod_induct_0_inst_reversed.sub_right_side_into(eq_09)"
   ]
  },
  {
   "cell_type": "code",
   "execution_count": null,
   "metadata": {},
   "outputs": [],
   "source": [
    "# eq_10_generalized = eq_10.generalize(k, domain=Interval(zero, subtract(Exp(two, t_prime), one)))"
   ]
  },
  {
   "cell_type": "code",
   "execution_count": null,
   "metadata": {},
   "outputs": [],
   "source": [
    "# temp_sum_01 = c_05.rhs.operands[1]"
   ]
  },
  {
   "cell_type": "code",
   "execution_count": null,
   "metadata": {},
   "outputs": [],
   "source": [
    "# c_06c"
   ]
  },
  {
   "cell_type": "code",
   "execution_count": null,
   "metadata": {},
   "outputs": [],
   "source": [
    "# c_07a = c_06c.inner_expr().rhs.operands[0].instance_substitute(eq_10_generalized)"
   ]
  },
  {
   "cell_type": "code",
   "execution_count": null,
   "metadata": {},
   "outputs": [],
   "source": [
    "# temp_factor_02"
   ]
  },
  {
   "cell_type": "code",
   "execution_count": null,
   "metadata": {},
   "outputs": [],
   "source": [
    "# tensor_prod_linearity"
   ]
  },
  {
   "cell_type": "code",
   "execution_count": null,
   "metadata": {},
   "outputs": [],
   "source": [
    "# from proveit.core_expr_types import f_of_j\n",
    "# tensor_prod_sub_02 = tensor_prod_linearity.instantiate(\n",
    "#         {j: k, a: Ket(zero), b: RegisterKet(j, t_prime), c: zero,\n",
    "#          d: two_pow_t_prime_minus_one, t: t_prime, fk: temp_factor_02},\n",
    "#         assumptions=[*defaults.assumptions, InSet(k, Interval(zero, subtract(Exp(two, t_prime), one)))])"
   ]
  },
  {
   "cell_type": "code",
   "execution_count": null,
   "metadata": {},
   "outputs": [],
   "source": [
    "# c_08a = tensor_prod_sub_02.sub_right_side_into(c_07a, assumptions=[*defaults.assumptions, InSet(k, Interval(zero, subtract(Exp(two, t_prime), one)))])"
   ]
  },
  {
   "cell_type": "code",
   "execution_count": null,
   "metadata": {},
   "outputs": [],
   "source": [
    "# name that summation!\n",
    "# the_summation_factor = c_08a.rhs.operands[1].operands[1].operands[1]"
   ]
  },
  {
   "cell_type": "markdown",
   "metadata": {},
   "source": [
    "We need something like:<br/>\n",
    "$\\overline{a} \\otimes c\\; \\overline{b} = c\\; (\\overline{a} \\otimes \\overline{b}) = (c\\; \\overline{a} \\otimes \\overline{b})$, where $c \\in \\mathbb{C}$,<br>\n",
    "which we might refer to as tensor_prod_scalar_mult<br/><br/>\n",
    "We then need something along the lines of:<br>\n",
    "$\\overline{a} \\otimes \\overline{b} + \\overline{d} \\otimes \\overline{b} = (\\overline{a} + \\overline{d}) \\otimes \\overline{b}$,<br/>\n",
    "and<br/>\n",
    "$\\overline{b} \\otimes \\overline{a} + \\overline{b} \\otimes \\overline{d} = \\overline{b} \\otimes (\\overline{a} + \\overline{d})$<br/>\n",
    "which we might call tensor_prod_distribution_left (or \\_right)<br/><br/>\n",
    "We also need some sort of associativity of scalar multiplication over a tensor product:<br/>\n",
    "$c\\; (\\overline{a} \\otimes \\overline{b}) = (c\\; \\overline{a}) \\otimes \\overline{b}$, where $c \\in \\mathbb{C}$,<br>"
   ]
  },
  {
   "cell_type": "code",
   "execution_count": null,
   "metadata": {},
   "outputs": [],
   "source": [
    "# factor_complex_scalar_from_tensor_prod"
   ]
  },
  {
   "cell_type": "code",
   "execution_count": null,
   "metadata": {},
   "outputs": [],
   "source": [
    "# temp_factor_01"
   ]
  },
  {
   "cell_type": "code",
   "execution_count": null,
   "metadata": {},
   "outputs": [],
   "source": [
    "# temp_factored_tensor_prod = factor_complex_scalar_from_tensor_prod.instantiate(\n",
    "#         {m: one, n: zero, alpha: temp_factor_01, x: (Ket(one),), y: the_summation_factor},\n",
    "#         assumptions=[*defaults.assumptions, InSet(k, Interval(zero, subtract(Exp(two, t_prime), one)))])"
   ]
  },
  {
   "cell_type": "code",
   "execution_count": null,
   "metadata": {},
   "outputs": [],
   "source": [
    "# c_08b = temp_factored_tensor_prod.sub_right_side_into(c_08a, assumptions=[*defaults.assumptions, InSet(k, Interval(zero, subtract(Exp(two, t_prime), one)))])"
   ]
  },
  {
   "cell_type": "code",
   "execution_count": null,
   "metadata": {},
   "outputs": [],
   "source": [
    "# scalar_tensor_associativity"
   ]
  },
  {
   "cell_type": "code",
   "execution_count": null,
   "metadata": {},
   "outputs": [],
   "source": [
    "# scalar_tensor_associativity_inst = scalar_tensor_associativity.instantiate(\n",
    "#         {alpha: temp_factor_01, x: Ket(one), y: the_summation_factor})"
   ]
  },
  {
   "cell_type": "code",
   "execution_count": null,
   "metadata": {},
   "outputs": [],
   "source": [
    "# c_08c = scalar_tensor_associativity_inst.sub_right_side_into(c_08b)"
   ]
  },
  {
   "cell_type": "code",
   "execution_count": null,
   "metadata": {},
   "outputs": [],
   "source": [
    "# distribute_tensor_prod_over_sum"
   ]
  },
  {
   "cell_type": "code",
   "execution_count": null,
   "metadata": {},
   "outputs": [],
   "source": [
    "# from proveit import Variable\n",
    "# i_var = Variable('i')"
   ]
  },
  {
   "cell_type": "code",
   "execution_count": null,
   "metadata": {},
   "outputs": [],
   "source": [
    "# distribute_tensor_prod_over_sum_inst = distribute_tensor_prod_over_sum.instantiate(\n",
    "#         {i_var: zero, j: two, k: one, y: (Ket(zero), Mult(temp_factor_01, Ket(one))), z: (the_summation_factor, )},\n",
    "#         assumptions=[*defaults.assumptions, InSet(k, Interval(zero, subtract(Exp(two, t_prime), one)))])"
   ]
  },
  {
   "cell_type": "code",
   "execution_count": null,
   "metadata": {},
   "outputs": [],
   "source": [
    "# c_08d = distribute_tensor_prod_over_sum_inst.sub_left_side_into(c_08c)"
   ]
  },
  {
   "cell_type": "code",
   "execution_count": null,
   "metadata": {},
   "outputs": [],
   "source": [
    "# p_prime_r_def"
   ]
  },
  {
   "cell_type": "code",
   "execution_count": null,
   "metadata": {},
   "outputs": [],
   "source": [
    "# p_prime_r_def_inst = p_prime_r_def.instantiate({r:t_prime}, assumptions=[InSet(t_prime, NaturalPos)])"
   ]
  },
  {
   "cell_type": "code",
   "execution_count": null,
   "metadata": {},
   "outputs": [],
   "source": [
    "# c_09a = p_prime_r_def_inst.sub_left_side_into(c_08d)"
   ]
  },
  {
   "cell_type": "code",
   "execution_count": null,
   "metadata": {},
   "outputs": [],
   "source": [
    "# Recall our defined formula for psi_prime_t_prime:\n",
    "# psi_prime_t_prime_formula"
   ]
  },
  {
   "cell_type": "code",
   "execution_count": null,
   "metadata": {},
   "outputs": [],
   "source": [
    "# c_09b = psi_prime_t_prime_formula.sub_left_side_into(c_09a)"
   ]
  },
  {
   "cell_type": "markdown",
   "metadata": {},
   "source": [
    "We want to show that the RHS of c_09b is equal to $\\psi_{t'}^{'}$"
   ]
  },
  {
   "cell_type": "code",
   "execution_count": null,
   "metadata": {},
   "outputs": [],
   "source": [
    "# psi_prime_expansion"
   ]
  },
  {
   "cell_type": "code",
   "execution_count": null,
   "metadata": {},
   "outputs": [],
   "source": [
    "# psi_prime_expansion_inst = psi_prime_expansion.instantiate({t:t_prime})"
   ]
  },
  {
   "cell_type": "code",
   "execution_count": null,
   "metadata": {},
   "outputs": [],
   "source": [
    "# c_10a = psi_prime_expansion_inst.sub_left_side_into(c_09b)"
   ]
  },
  {
   "cell_type": "code",
   "execution_count": null,
   "metadata": {},
   "outputs": [],
   "source": [
    "# t_star_eq_t_prime_plus_one"
   ]
  },
  {
   "cell_type": "code",
   "execution_count": null,
   "metadata": {},
   "outputs": [],
   "source": [
    "# c_10b = t_star_eq_t_prime_plus_one.sub_left_side_into(c_10a)"
   ]
  },
  {
   "cell_type": "code",
   "execution_count": null,
   "metadata": {},
   "outputs": [],
   "source": [
    "# c_10c = c_10b.reversed().prove()"
   ]
  },
  {
   "cell_type": "code",
   "execution_count": null,
   "metadata": {},
   "outputs": [],
   "source": [
    "# psi_prime_t_star_formula.derive_contradiction(assumptions=defaults.assumptions)"
   ]
  },
  {
   "cell_type": "code",
   "execution_count": null,
   "metadata": {},
   "outputs": [],
   "source": [
    "# c_10c.derive_contradiction(assumptions=defaults.assumptions)"
   ]
  },
  {
   "cell_type": "code",
   "execution_count": null,
   "metadata": {},
   "outputs": [],
   "source": [
    "# ALTERNATIVE CONTRADICTION?\n",
    "# defaults.assumptions"
   ]
  },
  {
   "cell_type": "code",
   "execution_count": null,
   "metadata": {},
   "outputs": [],
   "source": [
    "# c_10c"
   ]
  },
  {
   "cell_type": "code",
   "execution_count": null,
   "metadata": {},
   "outputs": [],
   "source": [
    "# psi_prime_t_def"
   ]
  },
  {
   "cell_type": "code",
   "execution_count": null,
   "metadata": {},
   "outputs": [],
   "source": [
    "# psi_prime_t_def_t_prime_plus_1 = psi_prime_t_def.instantiate({t:Add(t_prime, one)})"
   ]
  },
  {
   "cell_type": "code",
   "execution_count": null,
   "metadata": {},
   "outputs": [],
   "source": [
    "# psi_prime_t_def_inst"
   ]
  },
  {
   "cell_type": "code",
   "execution_count": null,
   "metadata": {},
   "outputs": [],
   "source": [
    "# psi_prime_t_prime_def  = psi_prime_t_def.instantiate({t: t_prime})"
   ]
  },
  {
   "cell_type": "code",
   "execution_count": null,
   "metadata": {},
   "outputs": [],
   "source": [
    "# c_09a = psi_prime_t_prime_def.sub_left_side_into(c_08d, assumptions=[*defaults.assumptions, InSet(k, Interval(zero, subtract(Exp(two, t_prime), one))), InSet(t_prime, NaturalPos)])"
   ]
  },
  {
   "cell_type": "code",
   "execution_count": null,
   "metadata": {},
   "outputs": [],
   "source": [
    "# c_09a = psi_prime_t_prime_def.sub_left_side_into(\n",
    "#     c_08d, assumptions=[*defaults.assumptions, InSet(k, Interval(zero, subtract(Exp(two, t_prime), one))), InSet(t_prime, NaturalPos)])"
   ]
  },
  {
   "cell_type": "code",
   "execution_count": null,
   "metadata": {},
   "outputs": [],
   "source": [
    "# assumptions_01 = [t_star_eq_t_prime_plus_one.expr,\n",
    "#                   Less(subtract(Exp(two, t_prime), one), subtract(Exp(two, t_star), one)),\n",
    "#                   InSet(t_prime, Interval(zero, subtract(t_, one))),\n",
    "#                   InSet(t_prime, Interval(one, subtract(t_, one))),\n",
    "#                  InSet(t_prime, NaturalPos)]"
   ]
  },
  {
   "cell_type": "code",
   "execution_count": null,
   "metadata": {},
   "outputs": [],
   "source": [
    "# c_09b = p_prime_t_prime_def.sub_left_side_into(c_09a)"
   ]
  },
  {
   "cell_type": "code",
   "execution_count": null,
   "metadata": {},
   "outputs": [],
   "source": [
    "# psi_prime_k_def"
   ]
  },
  {
   "cell_type": "code",
   "execution_count": null,
   "metadata": {},
   "outputs": [],
   "source": [
    "# temp_assumptions_new = [InSet(t_prime, Interval(one, subtract(t_, one)))]"
   ]
  },
  {
   "cell_type": "code",
   "execution_count": null,
   "metadata": {},
   "outputs": [],
   "source": [
    "# psi_prime_sub_t_prime_plus_one = psi_prime_k_def.instantiate(\n",
    "#     {k: t_prime},\n",
    "#     assumptions=assumptions_01)"
   ]
  },
  {
   "cell_type": "code",
   "execution_count": null,
   "metadata": {},
   "outputs": [],
   "source": [
    "# c_09b"
   ]
  },
  {
   "cell_type": "code",
   "execution_count": null,
   "metadata": {},
   "outputs": [],
   "source": [
    "# psi_prime_sub_t_prime_plus_one"
   ]
  },
  {
   "cell_type": "code",
   "execution_count": null,
   "metadata": {},
   "outputs": [],
   "source": [
    "# c_09b.inner_expr()"
   ]
  },
  {
   "cell_type": "code",
   "execution_count": null,
   "metadata": {},
   "outputs": [],
   "source": [
    "# psi_prime_sub_t_prime_plus_one.sub_right_side_into(c_09b, assumptions=assumptions_01)"
   ]
  },
  {
   "cell_type": "code",
   "execution_count": null,
   "metadata": {},
   "outputs": [],
   "source": [
    "# t_star_eq_t_prime_plus_one = Equals(t_star, Add(t_prime, one)).prove(assumptions=[Equals(t_star, Add(t_prime, one))])"
   ]
  },
  {
   "cell_type": "code",
   "execution_count": null,
   "metadata": {},
   "outputs": [],
   "source": [
    "# psi_prime_sub_t_star = t_star_eq_t_prime_plus_one.sub_left_side_into(psi_prime_sub_t_prime_plus_one, assumptions=temp_assumptions_new)"
   ]
  },
  {
   "cell_type": "code",
   "execution_count": null,
   "metadata": {},
   "outputs": [],
   "source": [
    "# c_09b"
   ]
  },
  {
   "cell_type": "code",
   "execution_count": null,
   "metadata": {},
   "outputs": [],
   "source": [
    "# c_10 = psi_prime_sub_t_star.sub_left_side_into(c_09b, assumptions=assumptions_01)"
   ]
  },
  {
   "cell_type": "code",
   "execution_count": null,
   "metadata": {},
   "outputs": [],
   "source": [
    "%qed"
   ]
  },
  {
   "cell_type": "code",
   "execution_count": null,
   "metadata": {},
   "outputs": [],
   "source": []
  }
 ],
 "metadata": {
  "kernelspec": {
   "display_name": "Python 3",
   "language": "python",
   "name": "python3"
  }
 },
 "nbformat": 4,
 "nbformat_minor": 0
}
