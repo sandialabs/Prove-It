{
 "cells": [
  {
   "cell_type": "markdown",
   "metadata": {},
   "source": [
    "Proof of <a class=\"ProveItLink\" href=\"../../../../../../_theory_nbs_/theory.ipynb\">proveit</a>.<a class=\"ProveItLink\" href=\"../../../../../_theory_nbs_/theory.ipynb\">physics</a>.<a class=\"ProveItLink\" href=\"../../../../_theory_nbs_/theory.ipynb\">quantum</a>.<a class=\"ProveItLink\" href=\"../../theory.ipynb\">QPE</a>.<a class=\"ProveItLink\" href=\"../../theorems.ipynb#psi_t_formula\">psi_t_formula</a> theorem\n",
    "========"
   ]
  },
  {
   "cell_type": "code",
   "execution_count": null,
   "metadata": {},
   "outputs": [],
   "source": [
    "import proveit\n",
    "theory = proveit.Theory() # the theorem's theory\n",
    "from proveit import defaults, a, b, b_of_j, c, d, f, j, k, t, x, y, z, alpha, fj, gj, fx\n",
    "from proveit import Function, IndexedVar\n",
    "from proveit.core_expr_types import fk\n",
    "from proveit.logic import Equals, InSet, NotEquals\n",
    "from proveit.numbers import Add, Exp, frac, Less, LessEq, Mult, Neg, subtract, Sum\n",
    "from proveit.numbers import zero, one, two, e, i, pi, Complex, Integer, Interval, Natural, NaturalPos, RealPos\n",
    "from proveit.numbers.addition import right_add_eq\n",
    "from proveit.numbers.exponentiation import add_one_right_in_exp, exp_eq_for_eq_base_and_exp\n",
    "from proveit.numbers.summation import breakup_sum, index_shift, sum_split_general\n",
    "from proveit.numbers.number_sets.real_numbers import pi_is__real_pos\n",
    "from proveit.linear_algebra import TensorProd, tensor_prod_linearity\n",
    "from proveit.physics.quantum import Ket, RegisterKet\n",
    "from proveit.physics.quantum.QPE import (\n",
    "    phase_, psi_t_prime, psi_t_star, t_, t_prime, t_star, a17, two_pow_t, phase_is_real, exp_split_thm)"
   ]
  },
  {
   "cell_type": "code",
   "execution_count": null,
   "metadata": {},
   "outputs": [],
   "source": [
    "%proving psi_t_formula"
   ]
  },
  {
   "cell_type": "markdown",
   "metadata": {},
   "source": [
    "We assume that the formula works for $t^{\\prime}$ and not for $t^{*} = t^{\\prime}+1$. That is, we let $t^{*}$ be the “minimal counter-example” for the formula."
   ]
  },
  {
   "cell_type": "markdown",
   "metadata": {},
   "source": [
    "First, some helpful expressions:"
   ]
  },
  {
   "cell_type": "code",
   "execution_count": null,
   "metadata": {},
   "outputs": [],
   "source": [
    "f_of_k = Mult(Exp(e, Mult(two, pi, i, phase_, k)), RegisterKet(k, t))"
   ]
  },
  {
   "cell_type": "code",
   "execution_count": null,
   "metadata": {},
   "outputs": [],
   "source": [
    "f_of_k_t_prime = Mult(Exp(e, Mult(two, pi, i, phase_, k)), RegisterKet(k, t_prime))"
   ]
  },
  {
   "cell_type": "code",
   "execution_count": null,
   "metadata": {},
   "outputs": [],
   "source": [
    "f_of_k_t_star = Mult(Exp(e, Mult(two, pi, i, phase_, k)), RegisterKet(k, t_star))"
   ]
  },
  {
   "cell_type": "code",
   "execution_count": null,
   "metadata": {},
   "outputs": [],
   "source": [
    "psi_t_prime_formula = Equals(psi_t_prime,\n",
    "        Mult(frac(one, Exp(two, frac(t_prime,two))),\n",
    "             Sum(k, f_of_k_t_prime, domain=Interval(zero, subtract(Exp(two, t_prime), one)))))"
   ]
  },
  {
   "cell_type": "code",
   "execution_count": null,
   "metadata": {},
   "outputs": [],
   "source": [
    "psi_t_star_formula = NotEquals(psi_t_star,\n",
    "        Mult(frac(one, Exp(two, frac(t_star,two))),\n",
    "             Sum(k, f_of_k_t_star, domain=Interval(zero, subtract(Exp(two, t_star), one)))))"
   ]
  },
  {
   "cell_type": "code",
   "execution_count": null,
   "metadata": {},
   "outputs": [],
   "source": [
    "defaults.assumptions = (\n",
    "    [Less(subtract(Exp(two, t_prime), one), subtract(Exp(two, t_star), one)), InSet(t_prime, NaturalPos), Equals(t_star,Add(t_prime, one)), Equals(subtract(subtract(Exp(two, t_star), one), Exp(two, t_prime)), subtract(Exp(two, t_prime), one)), psi_t_prime_formula, psi_t_star_formula])"
   ]
  },
  {
   "cell_type": "code",
   "execution_count": null,
   "metadata": {},
   "outputs": [],
   "source": [
    "useful_reduction = Equals(subtract(subtract(Exp(two, t_star), one), Exp(two, t_prime)), subtract(Exp(two, t_prime), one)).prove(assumptions=[Equals(subtract(subtract(Exp(two, t_star), one), Exp(two, t_prime)), subtract(Exp(two, t_prime), one))])"
   ]
  },
  {
   "cell_type": "code",
   "execution_count": null,
   "metadata": {},
   "outputs": [],
   "source": [
    "useful_reduction_02 = (\n",
    "    Equals(Add(Exp(two, t_star), Neg(Exp(two, t_prime)), Neg(one)),\n",
    "           subtract(Exp(two, t_prime), one)).prove(\n",
    "    assumptions=[Equals(Add(Exp(two, t_star), Neg(Exp(two, t_prime)), Neg(one)),\n",
    "           subtract(Exp(two, t_prime), one))]))"
   ]
  },
  {
   "cell_type": "code",
   "execution_count": null,
   "metadata": {},
   "outputs": [],
   "source": [
    "# Our definition/axiom relating t^* and t'\n",
    "t_star_eq_t_prime_plus_one = Equals(t_star,Add(t_prime, one)).prove(assumptions=[Equals(t_star,Add(t_prime, one))])"
   ]
  },
  {
   "cell_type": "code",
   "execution_count": null,
   "metadata": {},
   "outputs": [],
   "source": [
    "InSet(Add(t_prime, one), Natural).prove()"
   ]
  },
  {
   "cell_type": "code",
   "execution_count": null,
   "metadata": {},
   "outputs": [],
   "source": [
    "InSet(t_star, Natural).prove()"
   ]
  },
  {
   "cell_type": "code",
   "execution_count": null,
   "metadata": {},
   "outputs": [],
   "source": [
    "InSet(subtract(Exp(two, t_prime), one), Integer).prove()"
   ]
  },
  {
   "cell_type": "code",
   "execution_count": null,
   "metadata": {},
   "outputs": [],
   "source": [
    "InSet(Add(t_prime, one), Natural).prove()"
   ]
  },
  {
   "cell_type": "code",
   "execution_count": null,
   "metadata": {},
   "outputs": [],
   "source": [
    "InSet(Exp(two, t_star), Integer).prove()"
   ]
  },
  {
   "cell_type": "code",
   "execution_count": null,
   "metadata": {},
   "outputs": [],
   "source": [
    "InSet(Exp(two, t_prime), NaturalPos).prove()"
   ]
  },
  {
   "cell_type": "code",
   "execution_count": null,
   "metadata": {},
   "outputs": [],
   "source": [
    "subtract(Exp(two, t_prime), one).deduce_in_number_set(Natural)"
   ]
  },
  {
   "cell_type": "code",
   "execution_count": null,
   "metadata": {},
   "outputs": [],
   "source": [
    "LessEq(zero, subtract(Exp(two, t_prime), one)).prove()"
   ]
  },
  {
   "cell_type": "code",
   "execution_count": null,
   "metadata": {},
   "outputs": [],
   "source": [
    "exp_eq_for_eq_base_and_exp"
   ]
  },
  {
   "cell_type": "code",
   "execution_count": null,
   "metadata": {},
   "outputs": [],
   "source": [
    "two_t_star_eq_two_t_prime_plus_one = exp_eq_for_eq_base_and_exp.instantiate({a: two, x: t_star, y: Add(t_prime, one)})"
   ]
  },
  {
   "cell_type": "code",
   "execution_count": null,
   "metadata": {},
   "outputs": [],
   "source": [
    "add_one_right_in_exp"
   ]
  },
  {
   "cell_type": "code",
   "execution_count": null,
   "metadata": {},
   "outputs": [],
   "source": [
    "two_t_prime_times_two = add_one_right_in_exp.instantiate({a: two, b:t_prime})"
   ]
  },
  {
   "cell_type": "code",
   "execution_count": null,
   "metadata": {},
   "outputs": [],
   "source": [
    "two_t_prime_times_two = two_t_prime_times_two.derive_reversed()"
   ]
  },
  {
   "cell_type": "code",
   "execution_count": null,
   "metadata": {},
   "outputs": [],
   "source": [
    "two_t_star_minus_two_t_prime = subtract(Exp(two, t_star), Exp(two, t_prime))"
   ]
  },
  {
   "cell_type": "code",
   "execution_count": null,
   "metadata": {},
   "outputs": [],
   "source": [
    "two_t_prime_plus_one_minus_two_t_prime = subtract(Exp(two, Add(t_prime, one)), Exp(two, t_prime))"
   ]
  },
  {
   "cell_type": "code",
   "execution_count": null,
   "metadata": {},
   "outputs": [],
   "source": [
    "sub_01 = two_t_star_eq_two_t_prime_plus_one.substitution(two_t_star_minus_two_t_prime)"
   ]
  },
  {
   "cell_type": "code",
   "execution_count": null,
   "metadata": {},
   "outputs": [],
   "source": [
    "sub_01.rhs"
   ]
  },
  {
   "cell_type": "code",
   "execution_count": null,
   "metadata": {},
   "outputs": [],
   "source": [
    "# two_t_prime_times_two.inner_expr()"
   ]
  },
  {
   "cell_type": "code",
   "execution_count": null,
   "metadata": {},
   "outputs": [],
   "source": [
    "sub_02 = two_t_prime_times_two.substitution(sub_01.rhs)"
   ]
  },
  {
   "cell_type": "code",
   "execution_count": null,
   "metadata": {},
   "outputs": [],
   "source": [
    "factorization_01 = sub_02.rhs.factorization(Exp(two, t_prime))"
   ]
  },
  {
   "cell_type": "code",
   "execution_count": null,
   "metadata": {},
   "outputs": [],
   "source": [
    "factorization_01 = factorization_01.inner_expr().rhs.simplify()"
   ]
  },
  {
   "cell_type": "code",
   "execution_count": null,
   "metadata": {},
   "outputs": [],
   "source": [
    "two_pow_t_diff = Equals(sub_01.lhs, factorization_01.rhs).conclude_via_transitivity()"
   ]
  },
  {
   "cell_type": "code",
   "execution_count": null,
   "metadata": {},
   "outputs": [],
   "source": [
    "right_add_eq"
   ]
  },
  {
   "cell_type": "code",
   "execution_count": null,
   "metadata": {},
   "outputs": [],
   "source": [
    "reduction_03 = right_add_eq.instantiate({a: Neg(one), x: two_pow_t_diff.lhs, y:two_pow_t_diff.rhs})"
   ]
  },
  {
   "cell_type": "code",
   "execution_count": null,
   "metadata": {},
   "outputs": [],
   "source": [
    "reduction_03_simp = reduction_03.inner_expr().lhs.simplification()"
   ]
  },
  {
   "cell_type": "code",
   "execution_count": null,
   "metadata": {},
   "outputs": [],
   "source": [
    "reduction_03 = reduction_03_simp.sub_right_side_into(reduction_03)"
   ]
  },
  {
   "cell_type": "code",
   "execution_count": null,
   "metadata": {},
   "outputs": [],
   "source": [
    "# two_pow_t_diff_minus_one = subtract(subtract(Exp(two, t_star), one), Exp(two, t_prime)).simplification()"
   ]
  },
  {
   "cell_type": "code",
   "execution_count": null,
   "metadata": {},
   "outputs": [],
   "source": [
    "# two_pow_t_diff_minus_one.rhs.operands"
   ]
  },
  {
   "cell_type": "code",
   "execution_count": null,
   "metadata": {},
   "outputs": [],
   "source": [
    "# two_pow_t_diff.substitution(two_pow_t_diff_minus_one.rhs)"
   ]
  },
  {
   "cell_type": "code",
   "execution_count": null,
   "metadata": {},
   "outputs": [],
   "source": [
    "breakup_sum"
   ]
  },
  {
   "cell_type": "code",
   "execution_count": null,
   "metadata": {},
   "outputs": [],
   "source": [
    "sum_split_general"
   ]
  },
  {
   "cell_type": "code",
   "execution_count": null,
   "metadata": {},
   "outputs": [],
   "source": [
    "c_03 = sum_split_general.instantiate(\n",
    "    {a: zero, b: subtract(Exp(two, t_prime), one), c: subtract(Exp(two, t_star), one),\n",
    "    x:k, fk: f_of_k_t_star })"
   ]
  },
  {
   "cell_type": "code",
   "execution_count": null,
   "metadata": {},
   "outputs": [],
   "source": [
    "c_03 = c_03.inner_expr().rhs.operands[1].domain.lower_bound.simplify()"
   ]
  },
  {
   "cell_type": "code",
   "execution_count": null,
   "metadata": {},
   "outputs": [],
   "source": [
    "c_03_rhs_sum = c_03.rhs.operands[1]"
   ]
  },
  {
   "cell_type": "code",
   "execution_count": null,
   "metadata": {},
   "outputs": [],
   "source": [
    "# Recall our useful reduction to pass to the Sum.shift() method\n",
    "# Helps simplify the summation index expressions\n",
    "reduction_03"
   ]
  },
  {
   "cell_type": "code",
   "execution_count": null,
   "metadata": {},
   "outputs": [],
   "source": [
    "c_04 = c_03_rhs_sum.shift(Neg(Exp(two, t_prime)), reductions=[reduction_03])"
   ]
  },
  {
   "cell_type": "code",
   "execution_count": null,
   "metadata": {},
   "outputs": [],
   "source": [
    "c_04.rhs.domain.upper_bound"
   ]
  },
  {
   "cell_type": "code",
   "execution_count": null,
   "metadata": {},
   "outputs": [],
   "source": [
    "c_04 = c_04.inner_expr().rhs.summand.operands[0].exponent.operands[4].operands[1].simplify()"
   ]
  },
  {
   "cell_type": "code",
   "execution_count": null,
   "metadata": {},
   "outputs": [],
   "source": [
    "c_04 = c_04.inner_expr().rhs.summand.operands[1].operands[0].operands[1].simplify()"
   ]
  },
  {
   "cell_type": "markdown",
   "metadata": {},
   "source": [
    "Sub for that $t^*$ ket register size on the RHS to allow a future substitution to work:"
   ]
  },
  {
   "cell_type": "code",
   "execution_count": null,
   "metadata": {},
   "outputs": [],
   "source": [
    "c_04 = t_star_eq_t_prime_plus_one.sub_right_side_into(c_04.inner_expr().rhs.summand.operands[1].size)"
   ]
  },
  {
   "cell_type": "code",
   "execution_count": null,
   "metadata": {},
   "outputs": [],
   "source": [
    "c_05 = c_04.sub_right_side_into(c_03)"
   ]
  },
  {
   "cell_type": "code",
   "execution_count": null,
   "metadata": {},
   "outputs": [],
   "source": [
    "c_05.rhs.operands[1].summand"
   ]
  },
  {
   "cell_type": "code",
   "execution_count": null,
   "metadata": {},
   "outputs": [],
   "source": [
    "Equals(c_05.rhs.operands[1].summand,\n",
    "       Mult(c_05.rhs.operands[1].summand.operands[0], TensorProd(Ket(one), RegisterKet(k, t_prime))))"
   ]
  },
  {
   "cell_type": "code",
   "execution_count": null,
   "metadata": {},
   "outputs": [],
   "source": [
    "a17"
   ]
  },
  {
   "cell_type": "code",
   "execution_count": null,
   "metadata": {},
   "outputs": [],
   "source": [
    "a17_inst = a17.instantiate({t:t_prime, k:k}, assumptions=[*defaults.assumptions, InSet(k, Interval(zero, subtract(Exp(two, t_prime), one)))])"
   ]
  },
  {
   "cell_type": "code",
   "execution_count": null,
   "metadata": {},
   "outputs": [],
   "source": [
    "a17_inst_comm = a17_inst.inner_expr().rhs.label.commutation(0, 1, assumptions=[*defaults.assumptions, InSet(k, Interval(zero, subtract(Exp(two, t_prime), one)))])"
   ]
  },
  {
   "cell_type": "code",
   "execution_count": null,
   "metadata": {},
   "outputs": [],
   "source": [
    "a17_inst = a17_inst_comm.sub_right_side_into(a17_inst, assumptions=[*defaults.assumptions, InSet(k, Interval(zero, subtract(Exp(two, t_prime), one)))])"
   ]
  },
  {
   "cell_type": "code",
   "execution_count": null,
   "metadata": {},
   "outputs": [],
   "source": [
    "c_05.inner_expr().rhs.operands[1].summand.operands[1]"
   ]
  },
  {
   "cell_type": "code",
   "execution_count": null,
   "metadata": {},
   "outputs": [],
   "source": [
    "a17_inst_reversed = a17_inst.derive_reversed()"
   ]
  },
  {
   "cell_type": "code",
   "execution_count": null,
   "metadata": {},
   "outputs": [],
   "source": [
    "eq_01 = a17_inst_reversed.substitution(c_05.rhs.operands[1].summand)"
   ]
  },
  {
   "cell_type": "code",
   "execution_count": null,
   "metadata": {},
   "outputs": [],
   "source": [
    "eq_01_generalized = eq_01.generalize(k, domain=Interval(zero, subtract(Exp(two, t_prime), one)))"
   ]
  },
  {
   "cell_type": "code",
   "execution_count": null,
   "metadata": {},
   "outputs": [],
   "source": [
    "temp_sum_01 = c_05.rhs.operands[1]"
   ]
  },
  {
   "cell_type": "markdown",
   "metadata": {},
   "source": [
    "Call c_05.inner_expr().rhs.operands[1].instance_substitute(universal_eq)"
   ]
  },
  {
   "cell_type": "code",
   "execution_count": null,
   "metadata": {},
   "outputs": [],
   "source": [
    "c_06a = c_05.inner_expr().rhs.operands[1].instance_substitute(eq_01_generalized)"
   ]
  },
  {
   "cell_type": "code",
   "execution_count": null,
   "metadata": {},
   "outputs": [],
   "source": [
    "exp_to_dist = c_06a.rhs.operands[1].summand.operands[0]"
   ]
  },
  {
   "cell_type": "code",
   "execution_count": null,
   "metadata": {},
   "outputs": [],
   "source": [
    "# eq_01 = a17_inst_reversed.substitution(c_05.rhs.operands[1].summand)\n",
    "# eq_02 = exp_sub.substitution(exp_to_dist)"
   ]
  },
  {
   "cell_type": "code",
   "execution_count": null,
   "metadata": {},
   "outputs": [],
   "source": [
    "eq_01.inner_expr().rhs.operands[0].exponent.distribution(4, assumptions=[*defaults.assumptions, InSet(i, Complex), InSet(k, Integer)])"
   ]
  },
  {
   "cell_type": "code",
   "execution_count": null,
   "metadata": {},
   "outputs": [],
   "source": [
    "exp_dist = c_06a.inner_expr().rhs.operands[1].summand.operands[0].exponent.distribution(4, assumptions=[*defaults.assumptions, InSet(i, Complex), InSet(k, Integer)])"
   ]
  },
  {
   "cell_type": "code",
   "execution_count": null,
   "metadata": {},
   "outputs": [],
   "source": [
    "c_06a"
   ]
  },
  {
   "cell_type": "markdown",
   "metadata": {},
   "source": [
    "Check the details about how the snd summand is constructed:"
   ]
  },
  {
   "cell_type": "code",
   "execution_count": null,
   "metadata": {},
   "outputs": [],
   "source": [
    "c_06a.rhs.operands[1].summand"
   ]
  },
  {
   "cell_type": "code",
   "execution_count": null,
   "metadata": {},
   "outputs": [],
   "source": [
    "exp_split_thm"
   ]
  },
  {
   "cell_type": "code",
   "execution_count": null,
   "metadata": {},
   "outputs": [],
   "source": [
    "exp_split_thm_inst = exp_split_thm.instantiate({t:t_prime})"
   ]
  },
  {
   "cell_type": "code",
   "execution_count": null,
   "metadata": {},
   "outputs": [],
   "source": []
  },
  {
   "cell_type": "code",
   "execution_count": null,
   "metadata": {},
   "outputs": [],
   "source": [
    "exp_split_thm_inst.instance_expr.lhs"
   ]
  },
  {
   "cell_type": "code",
   "execution_count": null,
   "metadata": {},
   "outputs": [],
   "source": [
    "c_06a.inner_expr().rhs.operands[1].summand"
   ]
  },
  {
   "cell_type": "code",
   "execution_count": null,
   "metadata": {},
   "outputs": [],
   "source": [
    "c_06b = c_06a.inner_expr().rhs.operands[1].instance_substitute(exp_split_thm_inst)"
   ]
  },
  {
   "cell_type": "code",
   "execution_count": null,
   "metadata": {},
   "outputs": [],
   "source": [
    "tensor_prod_linearity"
   ]
  },
  {
   "cell_type": "code",
   "execution_count": null,
   "metadata": {},
   "outputs": [],
   "source": [
    "InSet(c_06b.rhs.operands[1].summand.operands[0], Complex).prove(\n",
    "    assumptions=[InSet(i, Complex), InSet(k, Integer), InSet(e, RealPos)])"
   ]
  },
  {
   "cell_type": "code",
   "execution_count": null,
   "metadata": {},
   "outputs": [],
   "source": [
    "InSet(c_06b.rhs.operands[1].summand.operands[1], Complex).prove(\n",
    "    assumptions=[*defaults.assumptions, InSet(i, Complex), InSet(k, Integer), InSet(e, RealPos)])"
   ]
  },
  {
   "cell_type": "code",
   "execution_count": null,
   "metadata": {},
   "outputs": [],
   "source": [
    "fk_sub = Mult(c_06b.rhs.operands[1].summand.operands[0], c_06b.rhs.operands[1].summand.operands[1])"
   ]
  },
  {
   "cell_type": "code",
   "execution_count": null,
   "metadata": {},
   "outputs": [],
   "source": [
    "a_sub = Ket(one)"
   ]
  },
  {
   "cell_type": "code",
   "execution_count": null,
   "metadata": {},
   "outputs": [],
   "source": [
    "b_sub = RegisterKet(j, t_prime)"
   ]
  },
  {
   "cell_type": "code",
   "execution_count": null,
   "metadata": {},
   "outputs": [],
   "source": [
    "d_sub = c_06b.rhs.operands[1].domain.upper_bound"
   ]
  },
  {
   "cell_type": "code",
   "execution_count": null,
   "metadata": {},
   "outputs": [],
   "source": [
    "temp = tensor_prod_linearity.instantiate({j:k, c: zero, d: d_sub, a: a_sub, b_of_j: b_sub, fk: fk_sub, gj: one })"
   ]
  },
  {
   "cell_type": "code",
   "execution_count": null,
   "metadata": {},
   "outputs": [],
   "source": [
    "# temp.inner_expr().lhs.summand.disassociation(0, assumptions=[*defaults.assumptions, InSet(i, Complex), InSet(k, Integer), InSet(e, RealPos)])"
   ]
  },
  {
   "cell_type": "code",
   "execution_count": null,
   "metadata": {},
   "outputs": [],
   "source": [
    "c_06b.inner_expr().rhs.operands[1]"
   ]
  },
  {
   "cell_type": "code",
   "execution_count": null,
   "metadata": {},
   "outputs": [],
   "source": [
    "# temp.sub_right_side_into(c_06b.inner_expr().rhs.operands[1])"
   ]
  },
  {
   "cell_type": "code",
   "execution_count": null,
   "metadata": {},
   "outputs": [],
   "source": []
  }
 ],
 "metadata": {
  "kernelspec": {
   "display_name": "Python 3",
   "language": "python",
   "name": "python3"
  }
 },
 "nbformat": 4,
 "nbformat_minor": 0
}
