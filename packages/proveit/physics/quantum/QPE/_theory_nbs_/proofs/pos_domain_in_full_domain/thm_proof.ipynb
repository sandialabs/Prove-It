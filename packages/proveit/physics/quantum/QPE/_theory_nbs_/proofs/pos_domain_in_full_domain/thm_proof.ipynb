{
 "cells": [
  {
   "cell_type": "markdown",
   "metadata": {},
   "source": [
    "Proof of <a class=\"ProveItLink\" href=\"../../../../../../_theory_nbs_/theory.ipynb\">proveit</a>.<a class=\"ProveItLink\" href=\"../../../../../_theory_nbs_/theory.ipynb\">physics</a>.<a class=\"ProveItLink\" href=\"../../../../_theory_nbs_/theory.ipynb\">quantum</a>.<a class=\"ProveItLink\" href=\"../../theory.ipynb\">QPE</a>.<a class=\"ProveItLink\" href=\"../../theorems.ipynb#pos_domain_in_full_domain\">pos_domain_in_full_domain</a> theorem\n",
    "========"
   ]
  },
  {
   "cell_type": "code",
   "execution_count": null,
   "metadata": {},
   "outputs": [],
   "source": [
    "import proveit\n",
    "from proveit import a, b, c, l, defaults, eps\n",
    "from proveit.numbers import one, Less, Neg\n",
    "from proveit.numbers.negation import negated_positive_is_negative\n",
    "from proveit.numbers.ordering import less_shift_add_right\n",
    "from proveit.physics.quantum.QPE import pos_domain, full_domain, two_pow_t_minus_one\n",
    "from proveit.physics.quantum.QPE import two_pow_t_minus_one_is_nat_pos\n",
    "theory = proveit.Theory() # the theorem's theory"
   ]
  },
  {
   "cell_type": "code",
   "execution_count": null,
   "metadata": {},
   "outputs": [],
   "source": [
    "%proving pos_domain_in_full_domain"
   ]
  },
  {
   "cell_type": "markdown",
   "metadata": {},
   "source": [
    "The basic approach is to show<br>\n",
    "(1) $\\ell\\in\\{\\epsilon+1\\ldots 2^{t-1}\\}$ means $\\ell \\le 2^{t-1}$ (and $\\ell\\in\\mathbb{Z}$)<br>\n",
    "(2) $\\ell\\in\\{\\epsilon+1\\ldots 2^{t-1}\\}$ means $\\epsilon+1 \\le \\ell$<br>\n",
    "(3) $\\epsilon\\in\\mathbb{N}^{+}$ means $-2^{t-1 + 1} < \\epsilon+1$<br>\n",
    "(4) Thus $-2^{t-1 + 1} \\le \\ell \\le 2^{t-1}$ and $\\ell$ is an Integer.<br/>\n",
    "(5) Thus $\\ell\\in\\{-2^{t-1 + 1}\\ldots 2^{t-1}\\}$"
   ]
  },
  {
   "cell_type": "code",
   "execution_count": null,
   "metadata": {},
   "outputs": [],
   "source": [
    "defaults.assumptions = pos_domain_in_full_domain.all_conditions()"
   ]
  },
  {
   "cell_type": "code",
   "execution_count": null,
   "metadata": {},
   "outputs": [],
   "source": [
    "# pos_domain.deduce_member_upper_bound(l)"
   ]
  },
  {
   "cell_type": "code",
   "execution_count": null,
   "metadata": {},
   "outputs": [],
   "source": [
    "negated_positive_is_negative"
   ]
  },
  {
   "cell_type": "code",
   "execution_count": null,
   "metadata": {},
   "outputs": [],
   "source": [
    "negated_positive_is_negative.instantiate({a:two_pow_t_minus_one})"
   ]
  },
  {
   "cell_type": "code",
   "execution_count": null,
   "metadata": {},
   "outputs": [],
   "source": [
    "ineq_01 = Less(Neg(two_pow_t_minus_one), eps).prove()"
   ]
  },
  {
   "cell_type": "code",
   "execution_count": null,
   "metadata": {},
   "outputs": [],
   "source": [
    "ineq_01.derive_shifted(one)"
   ]
  },
  {
   "cell_type": "code",
   "execution_count": null,
   "metadata": {},
   "outputs": [],
   "source": [
    "# pos_domain.deduce_member_lower_bound(l)"
   ]
  },
  {
   "cell_type": "code",
   "execution_count": null,
   "metadata": {},
   "outputs": [],
   "source": [
    "# Less(full_domain.lower_bound, l).prove()"
   ]
  },
  {
   "cell_type": "code",
   "execution_count": null,
   "metadata": {},
   "outputs": [],
   "source": [
    "# adapt .py to automate this somehow ()\n",
    "# pos_domain.deduce_member_in_integer(l)"
   ]
  },
  {
   "cell_type": "code",
   "execution_count": null,
   "metadata": {},
   "outputs": [],
   "source": [
    "# full_domain.deduce_elem_in_set(l)"
   ]
  },
  {
   "cell_type": "code",
   "execution_count": null,
   "metadata": {},
   "outputs": [],
   "source": [
    "# %qed"
   ]
  },
  {
   "cell_type": "code",
   "execution_count": null,
   "metadata": {},
   "outputs": [],
   "source": []
  }
 ],
 "metadata": {
  "kernelspec": {
   "display_name": "Python 3",
   "language": "python",
   "name": "python3"
  }
 },
 "nbformat": 4,
 "nbformat_minor": 0
}
