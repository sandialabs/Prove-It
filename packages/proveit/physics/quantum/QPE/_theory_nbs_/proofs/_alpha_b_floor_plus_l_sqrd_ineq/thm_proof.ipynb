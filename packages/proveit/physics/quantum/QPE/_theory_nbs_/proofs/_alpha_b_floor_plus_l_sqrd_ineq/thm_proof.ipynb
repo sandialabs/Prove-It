{
 "cells": [
  {
   "cell_type": "markdown",
   "metadata": {},
   "source": [
    "Proof of <a class=\"ProveItLink\" href=\"../../../../../../_theory_nbs_/theory.ipynb\">proveit</a>.<a class=\"ProveItLink\" href=\"../../../../../_theory_nbs_/theory.ipynb\">physics</a>.<a class=\"ProveItLink\" href=\"../../../../_theory_nbs_/theory.ipynb\">quantum</a>.<a class=\"ProveItLink\" href=\"../../theory.ipynb\">QPE</a>.<a class=\"ProveItLink\" href=\"../../theorems.ipynb#_alpha_b_floor_plus_l_sqrd_ineq\">_alpha_b_floor_plus_l_sqrd_ineq</a> theorem\n",
    "========"
   ]
  },
  {
   "cell_type": "code",
   "execution_count": null,
   "metadata": {},
   "outputs": [],
   "source": [
    "import proveit\n",
    "theory = proveit.Theory() # the theorem's theory\n",
    "from proveit import a, b, l, defaults\n",
    "from proveit.logic import InSet\n",
    "from proveit.numbers import Abs, Integer, Real, subtract\n",
    "from proveit.physics.quantum.QPE import (\n",
    "        _all_alpha_l_is_complex, _alpha_b_plus_l_summed,\n",
    "        _b_floor, _best_floor_is_int, _delta_b_floor_diff_in_interval,\n",
    "        _delta_b_is_real, _delta_b_not_eq_scaledNonzeroInt,\n",
    "        _delta_b_diff_exp_not_one, ModAdd, _mod_add_closure,\n",
    "        _scaled_abs_delta_b_floor_diff_interval, _scaled_delta_b_not_eq_nonzeroInt,\n",
    "        _scaled_delta_b_floor_in_interval, _two_pow_t_is_nat_pos,\n",
    "        _two_pow_t_minus_one_is_nat_pos)"
   ]
  },
  {
   "cell_type": "code",
   "execution_count": null,
   "metadata": {},
   "outputs": [],
   "source": [
    "%proving _alpha_b_floor_plus_l_sqrd_ineq"
   ]
  },
  {
   "cell_type": "code",
   "execution_count": null,
   "metadata": {},
   "outputs": [],
   "source": [
    "defaults.assumptions = _alpha_b_floor_plus_l_sqrd_ineq.all_conditions()"
   ]
  },
  {
   "cell_type": "markdown",
   "metadata": {},
   "source": [
    "### (1) Some basic domain information needed throughout the proof"
   ]
  },
  {
   "cell_type": "code",
   "execution_count": null,
   "metadata": {},
   "outputs": [],
   "source": [
    "_two_pow_t_minus_one_is_nat_pos"
   ]
  },
  {
   "cell_type": "code",
   "execution_count": null,
   "metadata": {},
   "outputs": [],
   "source": [
    "InSet(l, Integer).prove()"
   ]
  },
  {
   "cell_type": "code",
   "execution_count": null,
   "metadata": {},
   "outputs": [],
   "source": [
    "_scaled_delta_b_floor_in_interval"
   ]
  },
  {
   "cell_type": "code",
   "execution_count": null,
   "metadata": {},
   "outputs": [],
   "source": [
    "InSet(subtract(_scaled_delta_b_floor_in_interval.element, l), Real).prove()"
   ]
  },
  {
   "cell_type": "code",
   "execution_count": null,
   "metadata": {},
   "outputs": [],
   "source": [
    "_scaled_abs_delta_b_floor_diff_interval.instantiate()"
   ]
  },
  {
   "cell_type": "code",
   "execution_count": null,
   "metadata": {},
   "outputs": [],
   "source": [
    "_delta_b_not_eq_scaledNonzeroInt.instantiate({b: _b_floor})"
   ]
  },
  {
   "cell_type": "code",
   "execution_count": null,
   "metadata": {},
   "outputs": [],
   "source": [
    "_delta_b_floor_diff_in_interval.instantiate()"
   ]
  },
  {
   "cell_type": "code",
   "execution_count": null,
   "metadata": {},
   "outputs": [],
   "source": [
    "_scaled_delta_b_not_eq_nonzeroInt.instantiate({b: _b_floor})"
   ]
  },
  {
   "cell_type": "code",
   "execution_count": null,
   "metadata": {},
   "outputs": [],
   "source": [
    "_best_floor_is_int"
   ]
  },
  {
   "cell_type": "code",
   "execution_count": null,
   "metadata": {},
   "outputs": [],
   "source": [
    "_b_floor_plus_ell_in_interval = _mod_add_closure.instantiate({a: _b_floor, b:l})"
   ]
  },
  {
   "cell_type": "code",
   "execution_count": null,
   "metadata": {},
   "outputs": [],
   "source": [
    "_delta_b_is_real.instantiate({b: _b_floor})"
   ]
  },
  {
   "cell_type": "code",
   "execution_count": null,
   "metadata": {},
   "outputs": [],
   "source": [
    "_two_pow_t_is_nat_pos"
   ]
  },
  {
   "cell_type": "code",
   "execution_count": null,
   "metadata": {},
   "outputs": [],
   "source": [
    "_b_floor_plus_ell_in_interval.derive_element_in_integer()"
   ]
  },
  {
   "cell_type": "code",
   "execution_count": null,
   "metadata": {},
   "outputs": [],
   "source": [
    "_all_alpha_l_is_complex.instantiate({l: ModAdd(_b_floor, l)})"
   ]
  },
  {
   "cell_type": "code",
   "execution_count": null,
   "metadata": {},
   "outputs": [],
   "source": [
    "_delta_b_diff_exp_not_one.instantiate({b: _b_floor})"
   ]
  },
  {
   "cell_type": "markdown",
   "metadata": {},
   "source": [
    "### (2) Starting Point: `_alpha_b_plus_l_summed`"
   ]
  },
  {
   "cell_type": "code",
   "execution_count": null,
   "metadata": {},
   "outputs": [],
   "source": [
    "_alpha_summed_inst = _alpha_b_plus_l_summed.instantiate({b: _b_floor})"
   ]
  },
  {
   "cell_type": "markdown",
   "metadata": {},
   "source": [
    "### (3) Take Abs() of Both Sides & Allow Auto-Simplification of the Denominator"
   ]
  },
  {
   "cell_type": "code",
   "execution_count": null,
   "metadata": {},
   "outputs": [],
   "source": [
    "# We want to temporarily preserve the resulting numerator\n",
    "# so it isn't auto-simplified, so we first give it a convenient label\n",
    "numerator = Abs(_alpha_summed_inst.rhs.factors[1].numerator)"
   ]
  },
  {
   "cell_type": "code",
   "execution_count": null,
   "metadata": {},
   "outputs": [],
   "source": [
    "# In applying the Abs() to both sides, we avoid the auto-simplifying\n",
    "# chord-length simplification in the numerator by using 'preserve_expr':\n",
    "_alpha_summed_inst_abs = _alpha_summed_inst.abs_both_sides(preserve_expr=numerator)"
   ]
  },
  {
   "cell_type": "code",
   "execution_count": null,
   "metadata": {},
   "outputs": [],
   "source": [
    "_alpha_summed_inst_abs_dist_still_grouped = (\n",
    "    _alpha_summed_inst_abs.inner_expr().rhs.distribute(preserve_expr=numerator))"
   ]
  },
  {
   "cell_type": "code",
   "execution_count": null,
   "metadata": {},
   "outputs": [],
   "source": [
    "_alpha_summed_inst_abs_dist = (\n",
    "    _alpha_summed_inst_abs_dist_still_grouped.\n",
    "    inner_expr().rhs.denominator.disassociate(1))"
   ]
  },
  {
   "cell_type": "markdown",
   "metadata": {},
   "source": [
    "### (4) Bound the numerator and the denominator of the fraction."
   ]
  },
  {
   "cell_type": "markdown",
   "metadata": {},
   "source": [
    "### 4(a)  Use a triangle inequality for the numerator."
   ]
  },
  {
   "cell_type": "code",
   "execution_count": null,
   "metadata": {},
   "outputs": [],
   "source": [
    "numer_bound = numerator.deduce_triangle_bound()"
   ]
  },
  {
   "cell_type": "markdown",
   "metadata": {},
   "source": [
    "### 4(b) Bound the $y = \\sin(\\theta)$ in the denominator by the chord $y = (\\frac{2}{\\pi}\\theta)$"
   ]
  },
  {
   "cell_type": "code",
   "execution_count": null,
   "metadata": {},
   "outputs": [],
   "source": [
    "denom_sin = _alpha_summed_inst_abs_dist.rhs.denominator.factors[2]"
   ]
  },
  {
   "cell_type": "code",
   "execution_count": null,
   "metadata": {},
   "outputs": [],
   "source": [
    "denom_sin_bound = denom_sin.deduce_linear_bound()"
   ]
  },
  {
   "cell_type": "code",
   "execution_count": null,
   "metadata": {},
   "outputs": [],
   "source": [
    "sin_bound_is_positive = denom_sin_bound.rhs.deduce_positive()"
   ]
  },
  {
   "cell_type": "code",
   "execution_count": null,
   "metadata": {},
   "outputs": [],
   "source": [
    "denom_sin_is_positive = denom_sin_bound.apply_transitivity(sin_bound_is_positive)"
   ]
  },
  {
   "cell_type": "code",
   "execution_count": null,
   "metadata": {},
   "outputs": [],
   "source": [
    "denominator = _alpha_summed_inst_abs_dist.rhs.denominator"
   ]
  },
  {
   "cell_type": "code",
   "execution_count": null,
   "metadata": {},
   "outputs": [],
   "source": [
    "denom_bound = denominator.deduce_bound(denom_sin_bound)"
   ]
  },
  {
   "cell_type": "code",
   "execution_count": null,
   "metadata": {},
   "outputs": [],
   "source": [
    "# We should try to eliminate having to do this step manually.  It should be managable, sorting w.r.t. zero.\n",
    "denom_is_positive = denominator.deduce_bound(denom_sin_is_positive)"
   ]
  },
  {
   "cell_type": "markdown",
   "metadata": {},
   "source": [
    "### (5) Now we use the numerator and denominator bounds to bound $|\\alpha_{b_{f}\\oplus\\ell}|$"
   ]
  },
  {
   "cell_type": "code",
   "execution_count": null,
   "metadata": {},
   "outputs": [],
   "source": [
    "# recall from earlier:\n",
    "_alpha_summed_inst_abs_dist"
   ]
  },
  {
   "cell_type": "code",
   "execution_count": null,
   "metadata": {},
   "outputs": [],
   "source": [
    "rhs_bound = _alpha_summed_inst_abs_dist.rhs.deduce_bound([numer_bound, denom_bound])"
   ]
  },
  {
   "cell_type": "code",
   "execution_count": null,
   "metadata": {},
   "outputs": [],
   "source": [
    "alpha_upper_bound_01 = (\n",
    "    _alpha_summed_inst_abs_dist.apply_transitivity(rhs_bound).\n",
    "    inner_expr().rhs.denominator.disassociate(1))"
   ]
  },
  {
   "cell_type": "markdown",
   "metadata": {},
   "source": [
    "### (6) Simplify (rearrange) and square both sides"
   ]
  },
  {
   "cell_type": "code",
   "execution_count": null,
   "metadata": {},
   "outputs": [],
   "source": [
    "alpha_upper_bound_02 = alpha_upper_bound_01.inner_expr().rhs.denominator.commute(0, 1)"
   ]
  },
  {
   "cell_type": "code",
   "execution_count": null,
   "metadata": {},
   "outputs": [],
   "source": [
    "from proveit.physics.quantum.QPE import _two_pow_t\n",
    "alpha_upper_bound_03 = alpha_upper_bound_02.inner_expr().rhs.denominator.distribute(2, left_factors=[_two_pow_t])"
   ]
  },
  {
   "cell_type": "code",
   "execution_count": null,
   "metadata": {},
   "outputs": [],
   "source": [
    "alpha_upper_bound_04 = alpha_upper_bound_03.inner_expr().rhs.denominator.operands[1].reverse_difference()"
   ]
  },
  {
   "cell_type": "code",
   "execution_count": null,
   "metadata": {},
   "outputs": [],
   "source": [
    "alpha_sqrd_upper_bound_01 = alpha_upper_bound_04.square_both_sides()"
   ]
  },
  {
   "cell_type": "code",
   "execution_count": null,
   "metadata": {},
   "outputs": [],
   "source": [
    "alpha_sqrd_upper_bound_02 = alpha_sqrd_upper_bound_01.inner_expr().rhs.distribute()"
   ]
  },
  {
   "cell_type": "code",
   "execution_count": null,
   "metadata": {},
   "outputs": [],
   "source": [
    "alpha_sqrd_upper_bound_03 = alpha_sqrd_upper_bound_02.inner_expr().rhs.denominator.distribute()"
   ]
  },
  {
   "cell_type": "code",
   "execution_count": null,
   "metadata": {},
   "outputs": [],
   "source": [
    "%qed"
   ]
  },
  {
   "cell_type": "code",
   "execution_count": null,
   "metadata": {},
   "outputs": [],
   "source": []
  }
 ],
 "metadata": {
  "kernelspec": {
   "display_name": "Python 3",
   "language": "python",
   "name": "python3"
  }
 },
 "nbformat": 4,
 "nbformat_minor": 0
}
