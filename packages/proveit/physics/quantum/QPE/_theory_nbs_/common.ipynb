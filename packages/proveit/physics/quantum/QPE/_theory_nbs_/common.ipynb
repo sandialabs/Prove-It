{
 "cells": [
  {
   "cell_type": "markdown",
   "metadata": {},
   "source": [
    "Common expressions for the theory of <a class=\"ProveItLink\" href=\"theory.ipynb\">proveit.physics.quantum.QPE</a>\n",
    "========"
   ]
  },
  {
   "cell_type": "code",
   "execution_count": null,
   "metadata": {},
   "outputs": [],
   "source": [
    "import proveit\n",
    "%common_expressions_notebook # Keep this at the top following 'import proveit'.\n",
    "from proveit import defaults\n",
    "defaults.automation = True # Hack for ExprRange simplification to go through\n",
    "from proveit import (Literal, Variable, ExprRange, ExprArray, VertExprArray,\n",
    "                     ConditionalSet, Conditional)\n",
    "# from proveit import a, b # for testing; delete later\n",
    "from proveit import a, b, e, i, j, k, l, m, n, r, t, u, U, eps\n",
    "from proveit.logic import (Set, Difference, InSet, Set, CartExp, \n",
    "                           Equals, NotEquals)\n",
    "from proveit.numbers import (\n",
    "    NaturalPos, Interval, Complex,\n",
    "    zero, one, two, subtract, Abs, Add, subtract, frac,\n",
    "    LessEq, greater_eq, ModAbs,\n",
    "    Ceil, Exp, Log, Interval, Neg, Mult)\n",
    "from proveit.statistics import Prob\n",
    "from proveit.physics.quantum import Ket, NumKet, MEAS, I, H, CONTROL\n",
    "from proveit.physics.quantum.circuits import (\n",
    "    Qcircuit, Gate, MultiWire, MultiQuditGate, Ghost, Input, Output)\n",
    "from proveit.physics.quantum.QFT import InverseFourierTransform\n",
    "from proveit.physics.quantum.QPE import QPE, QPE1\n",
    "from proveit.physics.quantum.QPE.phase_est_ops import SubIndexed"
   ]
  },
  {
   "cell_type": "code",
   "execution_count": null,
   "metadata": {},
   "outputs": [],
   "source": [
    "defaults.automation = False # Hack for ExprRange simplification to go through\n",
    "%begin common\n",
    "defaults.automation = True # Hack for ExprRange simplification to go through\n",
    "print(\"We need automation to simplify ExprRanges in Qcircuits\")"
   ]
  },
  {
   "cell_type": "code",
   "execution_count": null,
   "metadata": {},
   "outputs": [],
   "source": [
    "# U: Unitary operator to apply quantum phase estimation.\n",
    "_U = Literal('U')"
   ]
  },
  {
   "cell_type": "code",
   "execution_count": null,
   "metadata": {},
   "outputs": [],
   "source": [
    "# n: Number of qubits which U acts on.\n",
    "_n = Literal('n')"
   ]
  },
  {
   "cell_type": "code",
   "execution_count": null,
   "metadata": {},
   "outputs": [],
   "source": [
    "# u: Eigenvector of U to apply the quantum phase estimation.\n",
    "_u = Literal('u')"
   ]
  },
  {
   "cell_type": "code",
   "execution_count": null,
   "metadata": {},
   "outputs": [],
   "source": [
    "_u_tilde = Literal('~u~', r'\\tilde{u}')"
   ]
  },
  {
   "cell_type": "code",
   "execution_count": null,
   "metadata": {},
   "outputs": [],
   "source": [
    "u_tilde = Variable('~u~', r'\\tilde{u}')"
   ]
  },
  {
   "cell_type": "code",
   "execution_count": null,
   "metadata": {},
   "outputs": [],
   "source": [
    "# phase: Eigenvalue phase of u w.r.t. U.  U u = e^{i \\varphi} u.\n",
    "#        This \\varphi is the phase that is the objective of phase estimation.\n",
    "_phase = Literal('phase', latex_format=r'\\varphi')"
   ]
  },
  {
   "cell_type": "code",
   "execution_count": null,
   "metadata": {},
   "outputs": [],
   "source": [
    "_phase_est = Literal('phase_est', latex_format=r'\\tilde{\\varphi}')"
   ]
  },
  {
   "cell_type": "code",
   "execution_count": null,
   "metadata": {},
   "outputs": [],
   "source": [
    "phase = Variable('phase', latex_format=r'\\varphi')"
   ]
  },
  {
   "cell_type": "code",
   "execution_count": null,
   "metadata": {},
   "outputs": [],
   "source": [
    "phase_est = Variable('phase_est', latex_format=r'\\tilde{\\varphi}')"
   ]
  },
  {
   "cell_type": "code",
   "execution_count": null,
   "metadata": {},
   "outputs": [],
   "source": [
    "# t: Number of qubit registers for the quantum phase estimation.\n",
    "#    We prove that this is the bits of precision of phase estimation.\n",
    "_t = Literal('t')"
   ]
  },
  {
   "cell_type": "code",
   "execution_count": null,
   "metadata": {},
   "outputs": [],
   "source": [
    "# t_prime: is the maximal value of t for which the psi_t lemma\n",
    "# summation formula is correct\n",
    "# t_prime = Literal('t_prime', latex_format = r't^{\\prime}')\n",
    "#t_prime = Literal('t_prime', latex_format = r\"{t'}\")"
   ]
  },
  {
   "cell_type": "code",
   "execution_count": null,
   "metadata": {},
   "outputs": [],
   "source": [
    "# t^*: is the minimal value of t for which the psi_t lemma\n",
    "# summation formula does not work\n",
    "#t_star = Literal('t_star', latex_format = r't^{*}')"
   ]
  },
  {
   "cell_type": "code",
   "execution_count": null,
   "metadata": {},
   "outputs": [],
   "source": [
    "# p_k: denotes the kth quantum bit after Phase 1 --\n",
    "# that is, after the application of H and U^{2^k}\n",
    "#p_ = Literal('p')\n",
    "#p_k = SubIndexed(p_, k)"
   ]
  },
  {
   "cell_type": "code",
   "execution_count": null,
   "metadata": {},
   "outputs": [],
   "source": [
    "#p_r = SubIndexed(p_, r)"
   ]
  },
  {
   "cell_type": "code",
   "execution_count": null,
   "metadata": {},
   "outputs": [],
   "source": [
    "#p_prime = Literal('p_prime', latex_format = r\"p'\")"
   ]
  },
  {
   "cell_type": "code",
   "execution_count": null,
   "metadata": {},
   "outputs": [],
   "source": [
    "#p_prime_k = SubIndexed(p_prime, k)"
   ]
  },
  {
   "cell_type": "code",
   "execution_count": null,
   "metadata": {},
   "outputs": [],
   "source": [
    "#p_prime_r = SubIndexed(p_prime, r)"
   ]
  },
  {
   "cell_type": "code",
   "execution_count": null,
   "metadata": {},
   "outputs": [],
   "source": [
    "#p_prime_t = SubIndexed(p_prime, t)"
   ]
  },
  {
   "cell_type": "code",
   "execution_count": null,
   "metadata": {},
   "outputs": [],
   "source": [
    "#p_0 = SubIndexed(p_, zero)"
   ]
  },
  {
   "cell_type": "code",
   "execution_count": null,
   "metadata": {},
   "outputs": [],
   "source": [
    "#p_prime_0 = SubIndexed(p_prime, zero)"
   ]
  },
  {
   "cell_type": "code",
   "execution_count": null,
   "metadata": {},
   "outputs": [],
   "source": [
    "# Psi: Outcome of register qubits following the quantum phase estimation circuit.\n",
    "_Psi = Literal('Psi', latex_format=r'\\Psi')"
   ]
  },
  {
   "cell_type": "code",
   "execution_count": null,
   "metadata": {},
   "outputs": [],
   "source": [
    "# psi: indexed intermediate output registers inside the quantum phase estimation circuit.\n",
    "_psi = Literal('psi', latex_format=r'\\psi')"
   ]
  },
  {
   "cell_type": "code",
   "execution_count": null,
   "metadata": {},
   "outputs": [],
   "source": [
    "_psi_t = SubIndexed(_psi, t)"
   ]
  },
  {
   "cell_type": "code",
   "execution_count": null,
   "metadata": {},
   "outputs": [],
   "source": [
    "_psi__t = SubIndexed(_psi, _t)"
   ]
  },
  {
   "cell_type": "code",
   "execution_count": null,
   "metadata": {},
   "outputs": [],
   "source": [
    "# psi_t = SubIndexed(psi_, t_)"
   ]
  },
  {
   "cell_type": "code",
   "execution_count": null,
   "metadata": {},
   "outputs": [],
   "source": [
    "#_psi_t = SubIndexed(_psi, t)"
   ]
  },
  {
   "cell_type": "code",
   "execution_count": null,
   "metadata": {},
   "outputs": [],
   "source": [
    "#psi_next = SubIndexed(psi_, Add(k, one))"
   ]
  },
  {
   "cell_type": "code",
   "execution_count": null,
   "metadata": {},
   "outputs": [],
   "source": [
    "_psi_1 = SubIndexed(_psi, one)"
   ]
  },
  {
   "cell_type": "code",
   "execution_count": null,
   "metadata": {},
   "outputs": [],
   "source": [
    "#psi_t_prime = SubIndexed(psi_, t_prime)"
   ]
  },
  {
   "cell_type": "code",
   "execution_count": null,
   "metadata": {},
   "outputs": [],
   "source": [
    "#psi_t_star = SubIndexed(psi_, t_star)"
   ]
  },
  {
   "cell_type": "code",
   "execution_count": null,
   "metadata": {},
   "outputs": [],
   "source": [
    "# psi_prime = Literal('psi_prime', latex_format = r'\\psi^{\\prime}')\n",
    "#psi_prime = Literal('psi_prime', latex_format = r\"\\psi'\")"
   ]
  },
  {
   "cell_type": "code",
   "execution_count": null,
   "metadata": {},
   "outputs": [],
   "source": [
    "#psi_prime_t = SubIndexed(psi_prime, t)"
   ]
  },
  {
   "cell_type": "code",
   "execution_count": null,
   "metadata": {},
   "outputs": [],
   "source": [
    "#psi_prime_t_prime = SubIndexed(psi_prime, t_prime)"
   ]
  },
  {
   "cell_type": "code",
   "execution_count": null,
   "metadata": {},
   "outputs": [],
   "source": [
    "#psi_prime_t_star = SubIndexed(psi_prime, t_star)"
   ]
  },
  {
   "cell_type": "code",
   "execution_count": null,
   "metadata": {},
   "outputs": [],
   "source": [
    "#psi_prime_1 = SubIndexed(psi_prime, one)"
   ]
  },
  {
   "cell_type": "code",
   "execution_count": null,
   "metadata": {},
   "outputs": [],
   "source": [
    "_U_pow_two_pow_k = Exp(_U, Exp(two, k))"
   ]
  },
  {
   "cell_type": "code",
   "execution_count": null,
   "metadata": {},
   "outputs": [],
   "source": [
    "# Used to be\n",
    "# m: Random variable for the measurement of Psi as an\n",
    "#    integer from the register's binary representation.\n",
    "# Now we are using it as the size of the |u> register.\n",
    "_m = Literal('m')"
   ]
  },
  {
   "cell_type": "code",
   "execution_count": null,
   "metadata": {},
   "outputs": [],
   "source": [
    "# phase_m: Random variable for the phase result of the\n",
    "#          quantum phase estimation phase_m = m / 2^t\n",
    "#          (I wish the subscript appeared a bit lower)\n",
    "_phase_m = Literal('phase_m', latex_format=r'\\varphi_m')"
   ]
  },
  {
   "cell_type": "code",
   "execution_count": null,
   "metadata": {},
   "outputs": [],
   "source": [
    "# b: The \"best\" outcome of m such that phase_m is as close as possible to phase.\n",
    "_b = Literal('b')"
   ]
  },
  {
   "cell_type": "code",
   "execution_count": null,
   "metadata": {},
   "outputs": [],
   "source": [
    "two_pow_t = Exp(two, t)"
   ]
  },
  {
   "cell_type": "code",
   "execution_count": null,
   "metadata": {},
   "outputs": [],
   "source": [
    "two_pow_m = Exp(two, m)"
   ]
  },
  {
   "cell_type": "code",
   "execution_count": null,
   "metadata": {},
   "outputs": [],
   "source": [
    "# 2^t\n",
    "_two_pow_t = Exp(two, _t)"
   ]
  },
  {
   "cell_type": "code",
   "execution_count": null,
   "metadata": {},
   "outputs": [],
   "source": [
    "# 2^{t-1}\n",
    "_two_pow_t_minus_one = Exp(two, subtract(_t, one))"
   ]
  },
  {
   "cell_type": "code",
   "execution_count": null,
   "metadata": {},
   "outputs": [],
   "source": [
    "# amplitude of output register as indexed\n",
    "_alpha = Literal('alpha', latex_format= r'\\alpha')"
   ]
  },
  {
   "cell_type": "code",
   "execution_count": null,
   "metadata": {},
   "outputs": [],
   "source": [
    "# These are subscripted with letter l (ell), NOT numeral 1 (one)\n",
    "_alpha_l = SubIndexed(_alpha, l)"
   ]
  },
  {
   "cell_type": "code",
   "execution_count": null,
   "metadata": {},
   "outputs": [],
   "source": [
    "abs_a = Abs(a)"
   ]
  },
  {
   "cell_type": "code",
   "execution_count": null,
   "metadata": {},
   "outputs": [],
   "source": [
    "_abs_alpha_l = Abs(_alpha_l)"
   ]
  },
  {
   "cell_type": "code",
   "execution_count": null,
   "metadata": {},
   "outputs": [],
   "source": [
    "_alpha_l_sqrd = Exp(Abs(_alpha_l), two)"
   ]
  },
  {
   "cell_type": "code",
   "execution_count": null,
   "metadata": {},
   "outputs": [],
   "source": [
    "# delta: difference between the phase and the best phase_m\n",
    "_delta = Literal('delta', latex_format=r'\\delta')"
   ]
  },
  {
   "cell_type": "code",
   "execution_count": null,
   "metadata": {},
   "outputs": [],
   "source": [
    "_full_domain = Interval(Add(Neg(Exp(two, subtract(_t, one))), one),\n",
    "                        Exp(two, subtract(_t, one)))"
   ]
  },
  {
   "cell_type": "code",
   "execution_count": null,
   "metadata": {},
   "outputs": [],
   "source": [
    "_full_domain_sans_zero = Difference(_full_domain, Set(zero))"
   ]
  },
  {
   "cell_type": "code",
   "execution_count": null,
   "metadata": {},
   "outputs": [],
   "source": [
    "_neg_domain = Interval(Add(Neg(_two_pow_t_minus_one), one), \n",
    "                       Neg(Add(e, one)))"
   ]
  },
  {
   "cell_type": "code",
   "execution_count": null,
   "metadata": {},
   "outputs": [],
   "source": [
    "_pos_domain = Interval(Add(e, one), \n",
    "                       _two_pow_t_minus_one)"
   ]
  },
  {
   "cell_type": "code",
   "execution_count": null,
   "metadata": {},
   "outputs": [],
   "source": [
    "_e_domain = Interval(one, subtract(_two_pow_t_minus_one, two))"
   ]
  },
  {
   "cell_type": "code",
   "execution_count": null,
   "metadata": {},
   "outputs": [],
   "source": [
    "_diff_l_scaled_delta = subtract(l, Mult(_two_pow_t, _delta))"
   ]
  },
  {
   "cell_type": "code",
   "execution_count": null,
   "metadata": {},
   "outputs": [],
   "source": [
    "m_ket_domain = CartExp(Complex, Exp(two, m))"
   ]
  },
  {
   "cell_type": "code",
   "execution_count": null,
   "metadata": {},
   "outputs": [],
   "source": [
    "_t_wire = MultiWire(_t)\n",
    "_m_wire = MultiWire(_m)\n",
    "_m_wire_implicit = _m_wire.with_implicit_style()"
   ]
  },
  {
   "cell_type": "code",
   "execution_count": null,
   "metadata": {},
   "outputs": [],
   "source": [
    "_qpe_multigate = [MultiQuditGate(QPE(U, t), [one, two]), Ghost(QPE(U, t))]\n",
    "QPE_U_t = Qcircuit(VertExprArray(_qpe_multigate))"
   ]
  },
  {
   "cell_type": "code",
   "execution_count": null,
   "metadata": {},
   "outputs": [],
   "source": [
    "_qpe1_multigate = [MultiQuditGate(QPE1(U, t), [one, two]), Ghost(QPE1(U, t))]\n",
    "QPE1_U_t = Qcircuit(VertExprArray(_qpe1_multigate))"
   ]
  },
  {
   "cell_type": "code",
   "execution_count": null,
   "metadata": {},
   "outputs": [],
   "source": [
    "QPE_U_t_circuit = Qcircuit(VertExprArray(\n",
    "    _qpe1_multigate, [Gate(InverseFourierTransform(t)), _m_wire]))"
   ]
  },
  {
   "cell_type": "markdown",
   "metadata": {},
   "source": [
    "These assumptions are needed for proper formatting of `QPE1_U_t_circuit`."
   ]
  },
  {
   "cell_type": "code",
   "execution_count": null,
   "metadata": {},
   "outputs": [],
   "source": [
    "from proveit.numbers import greater\n",
    "defaults.assumptions = [InSet(m, NaturalPos), InSet(t, NaturalPos), greater(t, two), greater(subtract(t, one), zero)]"
   ]
  },
  {
   "cell_type": "code",
   "execution_count": null,
   "metadata": {},
   "outputs": [],
   "source": [
    "NotEquals(zero, subtract(t, one)).prove()"
   ]
  },
  {
   "cell_type": "code",
   "execution_count": null,
   "metadata": {},
   "outputs": [],
   "source": [
    "QPE1_U_t_circuit = Qcircuit(VertExprArray(#[MultiWire(t), MultiWire(m)],\n",
    "    [ExprRange(j, Gate(H), zero, subtract(t, one)), MultiWire(m)],\n",
    "    ExprRange(i,\n",
    "        [ExprRange(j, ConditionalSet(\n",
    "                           Conditional(\n",
    "                               MultiQuditGate(CONTROL, Set(j, Add(t, one))), \n",
    "                               Equals(i, subtract(t, j))), \n",
    "                           Conditional(Gate(I), NotEquals(i, subtract(t, j)))),\n",
    "                   one, t).with_simplification(), \n",
    "         Gate(Exp(U, Exp(two, i)))], zero, subtract(t, one)).with_simplification()))"
   ]
  },
  {
   "cell_type": "code",
   "execution_count": null,
   "metadata": {},
   "outputs": [],
   "source": [
    "__qpe1_multigate = [MultiQuditGate(QPE1(_U, _t), [one, two]), Ghost(QPE1(_U, _t))]\n",
    "_psi_t_circuit = Qcircuit(VertExprArray(\n",
    "    [Input(NumKet(zero, _t)), Input(Ket(_u))],\n",
    "    __qpe1_multigate,\n",
    "    [Output(Ket(_psi_t)), Output(Ket(_u_tilde))]))"
   ]
  },
  {
   "cell_type": "code",
   "execution_count": null,
   "metadata": {},
   "outputs": [],
   "source": [
    "_Psi_circuit = Qcircuit(VertExprArray(\n",
    "    [Input(Ket(_psi__t))], [Gate(InverseFourierTransform(_t))], [Output(Ket(_Psi))]))"
   ]
  },
  {
   "cell_type": "code",
   "execution_count": null,
   "metadata": {},
   "outputs": [],
   "source": [
    "__qpe_multigate = [MultiQuditGate(QPE(_U, _t), [one, two]), Ghost(QPE(_U, _t))]\n",
    "_phase_est_circuit = Qcircuit(VertExprArray(\n",
    "    [Input(NumKet(zero, _t)), Input(Ket(_u))],\n",
    "    __qpe_multigate,\n",
    "    [Gate(MEAS), _m_wire],\n",
    "    [Output(Mult(_two_pow_t, _phase_est)), Output(Ket(_u_tilde))]))"
   ]
  },
  {
   "cell_type": "code",
   "execution_count": null,
   "metadata": {},
   "outputs": [],
   "source": [
    "phase_est_circuit = Qcircuit(VertExprArray(\n",
    "    [Input(NumKet(zero, t)), Input(Ket(_u))],\n",
    "    _qpe_multigate,\n",
    "    [Gate(MEAS), _m_wire],\n",
    "    [Output(Mult(two_pow_t, phase_est)), Output(Ket(u_tilde))]))"
   ]
  },
  {
   "cell_type": "code",
   "execution_count": null,
   "metadata": {},
   "outputs": [],
   "source": [
    "_success_prob_e = Prob(LessEq(ModAbs(subtract(Mult(_two_pow_t, _phase_est), _b), one), \n",
    "                              e), _phase_est)"
   ]
  },
  {
   "cell_type": "code",
   "execution_count": null,
   "metadata": {},
   "outputs": [],
   "source": [
    "success_prob = Prob(LessEq(ModAbs(subtract(phase_est, phase), one), \n",
    "                           Exp(two, Neg(n))), phase_est)"
   ]
  },
  {
   "cell_type": "code",
   "execution_count": null,
   "metadata": {},
   "outputs": [],
   "source": [
    "success_prob_guarantee = greater_eq(success_prob, subtract(one, eps))"
   ]
  },
  {
   "cell_type": "code",
   "execution_count": null,
   "metadata": {},
   "outputs": [],
   "source": [
    "t_req = Add(n, Ceil(Log(two, Add(two, frac(one, Mult(two, eps))))))"
   ]
  },
  {
   "cell_type": "code",
   "execution_count": null,
   "metadata": {},
   "outputs": [],
   "source": [
    "%end common"
   ]
  }
 ],
 "metadata": {
  "kernelspec": {
   "display_name": "Python 3",
   "language": "python",
   "name": "python3"
  }
 },
 "nbformat": 4,
 "nbformat_minor": 0
}
