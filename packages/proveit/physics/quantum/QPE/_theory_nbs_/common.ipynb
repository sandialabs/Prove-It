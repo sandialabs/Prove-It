{
 "cells": [
  {
   "cell_type": "markdown",
   "metadata": {},
   "source": [
    "Common expressions for the theory of <a class=\"ProveItLink\" href=\"theory.ipynb\">proveit.physics.quantum.QPE</a>\n",
    "========"
   ]
  },
  {
   "cell_type": "code",
   "execution_count": 1,
   "metadata": {},
   "outputs": [],
   "source": [
    "import proveit\n",
    "%common_expressions_notebook # Keep this at the top following 'import proveit'.\n",
    "from proveit import defaults\n",
    "from proveit import (Literal, Variable, ExprRange, ExprArray, VertExprArray,\n",
    "                     ConditionalSet, Conditional)\n",
    "from proveit import a, b, e, i, j, k, l, m, n, r, s, t, u, U, eps\n",
    "from proveit.logic import (Set, Difference, InSet, Set, CartExp, \n",
    "                           Equals, NotEquals, SetOfAll)\n",
    "from proveit.numbers import (\n",
    "    zero, one, two, Abs, Add, Ceil, Complex, Exp, frac, greater, greater_eq,\n",
    "    Interval, LessEq, Log, ModAbs, NaturalPos, Neg, Mult, Round, subtract, subtract)\n",
    "from proveit.linear_algebra import MatrixExp\n",
    "from proveit.statistics import Prob, ProbOfAll\n",
    "from proveit.physics.quantum import Ket, NumKet, MEAS, I, Z, H, CONTROL, ket_plus\n",
    "from proveit.physics.quantum.circuits import (\n",
    "    Qcircuit, Input, Output, Gate, Measure, control_elem, multi_wire, \n",
    "    multi_input_entries, multi_output_entries, multi_gate_entries,\n",
    "    multi_measure_entries)\n",
    "from proveit.physics.quantum.QFT import InverseFourierTransform\n",
    "from proveit.physics.quantum.QPE import QPE, QPE1\n",
    "from proveit.physics.quantum.QPE.phase_est_ops import ModAdd, SubIndexed\n",
    "from proveit.numbers import Round\n"
   ]
  },
  {
   "cell_type": "code",
   "execution_count": 2,
   "metadata": {},
   "outputs": [
    {
     "name": "stdout",
     "output_type": "stream",
     "text": [
      "Defining common sub-expressions for theory 'proveit.physics.quantum.QPE'\n",
      "Subsequent end-of-cell assignments will define common sub-expressions\n",
      "%end_common will finalize the definitions\n"
     ]
    }
   ],
   "source": [
    "%begin common"
   ]
  },
  {
   "cell_type": "code",
   "execution_count": 3,
   "metadata": {},
   "outputs": [
    {
     "data": {
      "text/html": [
       "<strong id=\"_U\">_U:</strong> <a class=\"ProveItLink\" href=\"../__pv_it/common/977758a9490d187b2ff100fdbc53911d78995da80/common_expr.ipynb\"><img src=\"data:image/png;base64,iVBORw0KGgoAAAANSUhEUgAAAA8AAAAOBAMAAAACpFvcAAAAMFBMVEX///8AAAAAAAAAAAAAAAAA\n",
       "AAAAAAAAAAAAAAAAAAAAAAAAAAAAAAAAAAAAAAAAAAAv3aB7AAAAD3RSTlMAIqvdVO/NdolEmRC7\n",
       "MmaVuGqYAAAACXBIWXMAAA7EAAAOxAGVKw4bAAAAZUlEQVQI12MQsjdyYFD9VsDA0D+BgYG9gYGB\n",
       "IR+IuTYAiT9AzATEnN+BxA4g5vgLJF4CMXMAkFgAxPsVgAQI+z9gYGAEmsLQfwGoTgDEgOpm8Aea\n",
       "pQhisC1gELoAYjD0aIGUMgAALSwTKsmNdREAAAAASUVORK5CYII=\n",
       "\" style=\"display:inline;vertical-align:middle;\" /></a><br>"
      ],
      "text/plain": [
       "<IPython.core.display.HTML object>"
      ]
     },
     "metadata": {},
     "output_type": "display_data"
    }
   ],
   "source": [
    "# U: Unitary operator to apply quantum phase estimation.\n",
    "_U = Literal('U')"
   ]
  },
  {
   "cell_type": "code",
   "execution_count": 4,
   "metadata": {},
   "outputs": [
    {
     "data": {
      "text/html": [
       "<strong id=\"_n\">_n:</strong> <a class=\"ProveItLink\" href=\"../__pv_it/common/2727e03becf585d99b6b7de1f9bd63ac87e235100/common_expr.ipynb\"><img src=\"data:image/png;base64,iVBORw0KGgoAAAANSUhEUgAAAAwAAAAJBAMAAAD0ltBnAAAALVBMVEX///8AAAAAAAAAAAAAAAAA\n",
       "AAAAAAAAAAAAAAAAAAAAAAAAAAAAAAAAAAAAAADAOrOgAAAADnRSTlMARHarECKJu90yVM1m74AT\n",
       "aC0AAAAJcEhZcwAADsQAAA7EAZUrDhsAAABESURBVAjXY2BUdk0qYmBgYzdi8AtgEOQoYIibwODg\n",
       "J8CwzoGBYR0DgzUDGL9hYWC4xsD1hI2B9SUD04aTDIwNDCw2CwBlUgzGkPW4hwAAAABJRU5ErkJg\n",
       "gg==\n",
       "\" style=\"display:inline;vertical-align:middle;\" /></a><br>"
      ],
      "text/plain": [
       "<IPython.core.display.HTML object>"
      ]
     },
     "metadata": {},
     "output_type": "display_data"
    }
   ],
   "source": [
    "# n: Number of qubits which U acts on.\n",
    "_n = Literal('n')"
   ]
  },
  {
   "cell_type": "code",
   "execution_count": 5,
   "metadata": {},
   "outputs": [
    {
     "data": {
      "text/html": [
       "<strong id=\"_ket_u\">_ket_u:</strong> <a class=\"ProveItLink\" href=\"../__pv_it/common/ca39d48f285e5b8b9c4fc5a4225a68cd859974bc0/common_expr.ipynb\"><img src=\"data:image/png;base64,iVBORw0KGgoAAAANSUhEUgAAABYAAAAVBAMAAACwDgOmAAAAMFBMVEX///8AAAAAAAAAAAAAAAAA\n",
       "AAAAAAAAAAAAAAAAAAAAAAAAAAAAAAAAAAAAAAAAAAAv3aB7AAAAD3RSTlMAIolEdjIQmWarVO/d\n",
       "zbuGLT5cAAAACXBIWXMAAA7EAAAOxAGVKw4bAAAAkElEQVQI12MQYIAAViBWhrL5AhBsrgIEm+EA\n",
       "ElsLiS2HxOYVALLZ3BsYOBMYuBSAbCauDQz9YM3KDFHsBxjmAtnFQHYCtwPDFiA7EqTXPoHxK5C9\n",
       "CMSuYWD5AGRfBLFfMvA9aGNgfABiVzJEKygwMC0AsTNVFk4JYOBBsnc5Evshgs12AcFmaWBgcIWy\n",
       "ORkYAIaEGrrYA0k1AAAAAElFTkSuQmCC\n",
       "\" style=\"display:inline;vertical-align:middle;\" /></a><br>"
      ],
      "text/plain": [
       "<IPython.core.display.HTML object>"
      ]
     },
     "metadata": {},
     "output_type": "display_data"
    }
   ],
   "source": [
    "# u: Eigenvector of U to apply the quantum phase estimation.\n",
    "_ket_u = Literal('|u>', r'\\lvert u \\rangle')"
   ]
  },
  {
   "cell_type": "code",
   "execution_count": 6,
   "metadata": {},
   "outputs": [
    {
     "data": {
      "text/html": [
       "<strong id=\"_phase\">_phase:</strong> <a class=\"ProveItLink\" href=\"../__pv_it/common/d5e43a4a06cc3c8384d7262f5d019bed24f240ea0/common_expr.ipynb\"><img src=\"data:image/png;base64,iVBORw0KGgoAAAANSUhEUgAAAAwAAAAOBAMAAADpk+DfAAAAMFBMVEX///8AAAAAAAAAAAAAAAAA\n",
       "AAAAAAAAAAAAAAAAAAAAAAAAAAAAAAAAAAAAAAAAAAAv3aB7AAAAD3RSTlMAMkTNuxCZZquJVHbd\n",
       "7yKDlRhzAAAACXBIWXMAAA7EAAAOxAGVKw4bAAAAV0lEQVQI12NgFGBgsndlYGNgEC7qZFjIwNDA\n",
       "wMIwgYE9ACi0gYGbgSGaIYFBkYEhlSEdyIgQYGC2Niw7xMDAUPP/JJBkYCsAkQy8AmBKHkwy7IFQ\n",
       "D0EEALcGDSMwA/OWAAAAAElFTkSuQmCC\n",
       "\" style=\"display:inline;vertical-align:middle;\" /></a><br>"
      ],
      "text/plain": [
       "<IPython.core.display.HTML object>"
      ]
     },
     "metadata": {},
     "output_type": "display_data"
    }
   ],
   "source": [
    "# phase: Eigenvalue phase of u w.r.t. U.  U u = e^{i \\varphi} u.\n",
    "#        This \\varphi is the phase that is the objective of phase estimation.\n",
    "_phase = Literal('phase', latex_format=r'\\varphi')"
   ]
  },
  {
   "cell_type": "code",
   "execution_count": 7,
   "metadata": {},
   "outputs": [
    {
     "data": {
      "text/html": [
       "<strong id=\"_phase_est\">_phase_est:</strong> <a class=\"ProveItLink\" href=\"../__pv_it/common/c1eca1bb5f9e092eae1669d063ab39221cec252e0/common_expr.ipynb\"><img src=\"data:image/png;base64,iVBORw0KGgoAAAANSUhEUgAAAAwAAAATBAMAAABW2/GaAAAAMFBMVEX///8AAAAAAAAAAAAAAAAA\n",
       "AAAAAAAAAAAAAAAAAAAAAAAAAAAAAAAAAAAAAAAAAAAv3aB7AAAAD3RSTlMAMt3NVBBmRHYiq7uZ\n",
       "ie8A0YqYAAAACXBIWXMAAA7EAAAOxAGVKw4bAAAAY0lEQVQI12NgYBAyCStgYGBtnaXGgB0wCjCw\n",
       "229l4GFgEE5fy+DIwLCAgZvhAgNbAFCogYGDgSGC4QBDIQPDUYZjQEaUAAOzhWGOOlBj0n9dkH6e\n",
       "BLAxfAJgSh5iaBOEmggiACy1D8Nq8/7hAAAAAElFTkSuQmCC\n",
       "\" style=\"display:inline;vertical-align:middle;\" /></a><br>"
      ],
      "text/plain": [
       "<IPython.core.display.HTML object>"
      ]
     },
     "metadata": {},
     "output_type": "display_data"
    }
   ],
   "source": [
    "_phase_est = Literal('phase_est', latex_format=r'\\tilde{\\varphi}')"
   ]
  },
  {
   "cell_type": "code",
   "execution_count": 8,
   "metadata": {},
   "outputs": [
    {
     "data": {
      "text/html": [
       "<strong id=\"phase\">phase:</strong> <a class=\"ProveItLink\" href=\"../__pv_it/common/ffe5f12137de00123ee13681dbf8d1ac898a5a360/common_expr.ipynb\"><img src=\"data:image/png;base64,iVBORw0KGgoAAAANSUhEUgAAAAwAAAAOBAMAAADpk+DfAAAAMFBMVEX///8AAAAAAAAAAAAAAAAA\n",
       "AAAAAAAAAAAAAAAAAAAAAAAAAAAAAAAAAAAAAAAAAAAv3aB7AAAAD3RSTlMAMkTNuxCZZquJVHbd\n",
       "7yKDlRhzAAAACXBIWXMAAA7EAAAOxAGVKw4bAAAAV0lEQVQI12NgFGBgsndlYGNgEC7qZFjIwNDA\n",
       "wMIwgYE9ACi0gYGbgSGaIYFBkYEhlSEdyIgQYGC2Niw7xMDAUPP/JJBkYCsAkQy8AmBKHkwy7IFQ\n",
       "D0EEALcGDSMwA/OWAAAAAElFTkSuQmCC\n",
       "\" style=\"display:inline;vertical-align:middle;\" /></a><br>"
      ],
      "text/plain": [
       "<IPython.core.display.HTML object>"
      ]
     },
     "metadata": {},
     "output_type": "display_data"
    }
   ],
   "source": [
    "phase = Variable('phase', latex_format=r'\\varphi')"
   ]
  },
  {
   "cell_type": "code",
   "execution_count": 9,
   "metadata": {},
   "outputs": [
    {
     "data": {
      "text/html": [
       "<strong id=\"phase_est\">phase_est:</strong> <a class=\"ProveItLink\" href=\"../__pv_it/common/46b2f7094834f53940427c6eaa552affc4a725870/common_expr.ipynb\"><img src=\"data:image/png;base64,iVBORw0KGgoAAAANSUhEUgAAAAwAAAATBAMAAABW2/GaAAAAMFBMVEX///8AAAAAAAAAAAAAAAAA\n",
       "AAAAAAAAAAAAAAAAAAAAAAAAAAAAAAAAAAAAAAAAAAAv3aB7AAAAD3RSTlMAMt3NVBBmRHYiq7uZ\n",
       "ie8A0YqYAAAACXBIWXMAAA7EAAAOxAGVKw4bAAAAY0lEQVQI12NgYBAyCStgYGBtnaXGgB0wCjCw\n",
       "229l4GFgEE5fy+DIwLCAgZvhAgNbAFCogYGDgSGC4QBDIQPDUYZjQEaUAAOzhWGOOlBj0n9dkH6e\n",
       "BLAxfAJgSh5iaBOEmggiACy1D8Nq8/7hAAAAAElFTkSuQmCC\n",
       "\" style=\"display:inline;vertical-align:middle;\" /></a><br>"
      ],
      "text/plain": [
       "<IPython.core.display.HTML object>"
      ]
     },
     "metadata": {},
     "output_type": "display_data"
    }
   ],
   "source": [
    "phase_est = Variable('phase_est', latex_format=r'\\tilde{\\varphi}')"
   ]
  },
  {
   "cell_type": "code",
   "execution_count": 10,
   "metadata": {},
   "outputs": [
    {
     "data": {
      "text/html": [
       "<strong id=\"_t\">_t:</strong> <a class=\"ProveItLink\" href=\"../__pv_it/common/977cc67717328e22c93f8ab84e6a45e8cadce7790/common_expr.ipynb\"><img src=\"data:image/png;base64,iVBORw0KGgoAAAANSUhEUgAAAAcAAAANBAMAAACX52mGAAAALVBMVEX///8AAAAAAAAAAAAAAAAA\n",
       "AAAAAAAAAAAAAAAAAAAAAAAAAAAAAAAAAAAAAADAOrOgAAAADnRSTlMAEN0iVJmJRKu7ds0yZqK7\n",
       "ZTIAAAAJcEhZcwAADsQAAA7EAZUrDhsAAABASURBVAjXY2BgVGZgYGB5CCRYFYAEUwIDQ8W8GQsY\n",
       "GPyAPIZoEKEGxIzPQcoeMAgwsG5gOcDA0SDFwMA89wIDABLQChX+XlxKAAAAAElFTkSuQmCC\n",
       "\" style=\"display:inline;vertical-align:middle;\" /></a><br>"
      ],
      "text/plain": [
       "<IPython.core.display.HTML object>"
      ]
     },
     "metadata": {},
     "output_type": "display_data"
    }
   ],
   "source": [
    "# t: Number of qubit registers for the quantum phase estimation.\n",
    "#    We prove that this is the bits of precision of phase estimation.\n",
    "_t = Literal('t')"
   ]
  },
  {
   "cell_type": "code",
   "execution_count": 11,
   "metadata": {},
   "outputs": [
    {
     "data": {
      "text/html": [
       "<strong id=\"_n\">_n:</strong> <a class=\"ProveItLink\" href=\"../__pv_it/common/2727e03becf585d99b6b7de1f9bd63ac87e235100/common_expr.ipynb\"><img src=\"data:image/png;base64,iVBORw0KGgoAAAANSUhEUgAAAAwAAAAJBAMAAAD0ltBnAAAALVBMVEX///8AAAAAAAAAAAAAAAAA\n",
       "AAAAAAAAAAAAAAAAAAAAAAAAAAAAAAAAAAAAAADAOrOgAAAADnRSTlMARHarECKJu90yVM1m74AT\n",
       "aC0AAAAJcEhZcwAADsQAAA7EAZUrDhsAAABESURBVAjXY2BUdk0qYmBgYzdi8AtgEOQoYIibwODg\n",
       "J8CwzoGBYR0DgzUDGL9hYWC4xsD1hI2B9SUD04aTDIwNDCw2CwBlUgzGkPW4hwAAAABJRU5ErkJg\n",
       "gg==\n",
       "\" style=\"display:inline;vertical-align:middle;\" /></a><br>"
      ],
      "text/plain": [
       "<IPython.core.display.HTML object>"
      ]
     },
     "metadata": {},
     "output_type": "display_data"
    }
   ],
   "source": [
    "_n = Literal('n')"
   ]
  },
  {
   "cell_type": "code",
   "execution_count": 12,
   "metadata": {},
   "outputs": [
    {
     "data": {
      "text/html": [
       "<strong id=\"_eps\">_eps:</strong> <a class=\"ProveItLink\" href=\"../__pv_it/common/485907859be40bef8e8f7cdf5626e806953b47db0/common_expr.ipynb\"><img src=\"data:image/png;base64,iVBORw0KGgoAAAANSUhEUgAAAAgAAAAJBAMAAAD9fXAdAAAAJ1BMVEX///8AAAAAAAAAAAAAAAAA\n",
       "AAAAAAAAAAAAAAAAAAAAAAAAAAAAAAAilU6eAAAADHRSTlMAIpmrZu8yVHaJuxCnVZmVAAAACXBI\n",
       "WXMAAA7EAAAOxAGVKw4bAAAAMUlEQVQI12NgYFQ2YWBwTWBgYDvOwMDAfNi4gYHVAMjimQAkuBSA\n",
       "BFs0w24GhqSWbgCFKAbM5hXqAgAAAABJRU5ErkJggg==\n",
       "\" style=\"display:inline;vertical-align:middle;\" /></a><br>"
      ],
      "text/plain": [
       "<IPython.core.display.HTML object>"
      ]
     },
     "metadata": {},
     "output_type": "display_data"
    }
   ],
   "source": [
    "_eps = Literal('eps', r'\\epsilon')"
   ]
  },
  {
   "cell_type": "code",
   "execution_count": 13,
   "metadata": {},
   "outputs": [
    {
     "data": {
      "text/html": [
       "<strong id=\"_Psi_ket\">_Psi_ket:</strong> <a class=\"ProveItLink\" href=\"../__pv_it/common/420179ba67a51d79c8f2a2e0468e9dec8441a4510/common_expr.ipynb\"><img src=\"data:image/png;base64,iVBORw0KGgoAAAANSUhEUgAAABoAAAAVBAMAAACqMuMoAAAAMFBMVEX///8AAAAAAAAAAAAAAAAA\n",
       "AAAAAAAAAAAAAAAAAAAAAAAAAAAAAAAAAAAAAAAAAAAv3aB7AAAAD3RSTlMAIolEdjJUq7vv3WbN\n",
       "EJlNEWA8AAAACXBIWXMAAA7EAAAOxAGVKw4bAAAAsklEQVQY02MQYIABViBWhvM4AiC89M4ZZQwM\n",
       "bA+gcpwTQOQCEI9NlYFrAYPQBgY1sNxJEG/VBQYJME8/gGsB7z8GBh4BEG9/AtcC1i9AYxRAvPwN\n",
       "XAuYf4ONAfLuP+BawPIVyHsM4nFM4FrAdQDICwfxeM9xLdC6AOQlgW1nqZ/uALL+IMQtQPuAgLEB\n",
       "wuMHu4wpAeLq8z/KQCqQfcSQh8JrRObxHkDmsWxgYHCF89gZGADuGye/2PjLswAAAABJRU5ErkJg\n",
       "gg==\n",
       "\" style=\"display:inline;vertical-align:middle;\" /></a><br>"
      ],
      "text/plain": [
       "<IPython.core.display.HTML object>"
      ]
     },
     "metadata": {},
     "output_type": "display_data"
    }
   ],
   "source": [
    "# Psi: Outcome of register qubits following the quantum phase estimation circuit.\n",
    "_Psi_ket = Literal('|Psi>', latex_format=r'\\lvert \\Psi \\rangle')"
   ]
  },
  {
   "cell_type": "code",
   "execution_count": 14,
   "metadata": {},
   "outputs": [
    {
     "data": {
      "text/html": [
       "<strong id=\"_psi\">_psi:</strong> <a class=\"ProveItLink\" href=\"../__pv_it/common/3cd01098f6477695c5f95f3614ef4302a3a569f40/common_expr.ipynb\"><img src=\"data:image/png;base64,iVBORw0KGgoAAAANSUhEUgAAAA4AAAASBAMAAACZcvICAAAAMFBMVEX///8AAAAAAAAAAAAAAAAA\n",
       "AAAAAAAAAAAAAAAAAAAAAAAAAAAAAAAAAAAAAAAAAAAv3aB7AAAAD3RSTlMAdokQVDKZZt3vIs27\n",
       "RKvEBDhDAAAACXBIWXMAAA7EAAAOxAGVKw4bAAAAaUlEQVQI12NgAAJGBghggtKGUNoVSisAMbNY\n",
       "AYMCYwMDE8sE5gLGzwwhbA3sCxgmMBhwCgC1JTAw+BswMTALMDBkMyxhYDRgYMhhKGa4C9R4c4EC\n",
       "+wUgzfrooBTYNFYHiKkgRci2gl0BANEIDrgRaQNvAAAAAElFTkSuQmCC\n",
       "\" style=\"display:inline;vertical-align:middle;\" /></a><br>"
      ],
      "text/plain": [
       "<IPython.core.display.HTML object>"
      ]
     },
     "metadata": {},
     "output_type": "display_data"
    }
   ],
   "source": [
    "# psi: indexed intermediate output registers inside the quantum phase estimation circuit.\n",
    "_psi = Literal('psi', latex_format=r'\\psi')"
   ]
  },
  {
   "cell_type": "code",
   "execution_count": 15,
   "metadata": {},
   "outputs": [
    {
     "data": {
      "text/html": [
       "<strong id=\"_psi_t_ket\">_psi_t_ket:</strong> <a class=\"ProveItLink\" href=\"../__pv_it/common/b3612284596c95f78b4fe90ba4066e839001e5710/common_expr.ipynb\"><img src=\"data:image/png;base64,iVBORw0KGgoAAAANSUhEUgAAAB8AAAAVBAMAAABMGyhsAAAAMFBMVEX///8AAAAAAAAAAAAAAAAA\n",
       "AAAAAAAAAAAAAAAAAAAAAAAAAAAAAAAAAAAAAAAAAAAv3aB7AAAAD3RSTlMAIolEdjIQVJlm3e/N\n",
       "u6uczJRnAAAACXBIWXMAAA7EAAAOxAGVKw4bAAAA2UlEQVQY02MQYEACAUCsjCxwFS7AAhGogAsw\n",
       "QQS44AIpEAGmAphAKUSA8QJMQAFq6kGQAJvHBAYFlgVggSKQABP7BrYJLN9gpiozhHMs4BRg2MDA\n",
       "A3QjhwFQIIHbAWhrA0M+UAXrA5Ch9QlMDGwODDVAAXYFkEAPgzgDS4LQGlUGkDagQC/DNAZjBobj\n",
       "QBWyYHdYCyhwGjAwgOxRBwuwPrriyMDAvAEosADiUtYCkIcfpDKwN0AEWBKABIeDGgOvAEQA7HnW\n",
       "zgCGHKj3WWAh5gnErshB+ICBAQC90SFkFKZi6AAAAABJRU5ErkJggg==\n",
       "\" style=\"display:inline;vertical-align:middle;\" /></a><br>"
      ],
      "text/plain": [
       "<IPython.core.display.HTML object>"
      ]
     },
     "metadata": {},
     "output_type": "display_data"
    }
   ],
   "source": [
    "# SubIndexed puts in in a ket for display purposes.\n",
    "_psi_t_ket = SubIndexed(_psi, t)"
   ]
  },
  {
   "cell_type": "code",
   "execution_count": 16,
   "metadata": {},
   "outputs": [
    {
     "data": {
      "text/html": [
       "<strong id=\"_psi__t_ket\">_psi__t_ket:</strong> <a class=\"ProveItLink\" href=\"../__pv_it/common/1a76979ea9a7780eeb22b6220b8d2767502e417a0/common_expr.ipynb\"><img src=\"data:image/png;base64,iVBORw0KGgoAAAANSUhEUgAAAB8AAAAVBAMAAABMGyhsAAAAMFBMVEX///8AAAAAAAAAAAAAAAAA\n",
       "AAAAAAAAAAAAAAAAAAAAAAAAAAAAAAAAAAAAAAAAAAAv3aB7AAAAD3RSTlMAIolEdjIQVJlm3e/N\n",
       "u6uczJRnAAAACXBIWXMAAA7EAAAOxAGVKw4bAAAA2UlEQVQY02MQYEACAUCsjCxwFS7AAhGogAsw\n",
       "QQS44AIpEAGmAphAKUSA8QJMQAFq6kGQAJvHBAYFlgVggSKQABP7BrYJLN9gpiozhHMs4BRg2MDA\n",
       "A3QjhwFQIIHbAWhrA0M+UAXrA5Ch9QlMDGwODDVAAXYFkEAPgzgDS4LQGlUGkDagQC/DNAZjBobj\n",
       "QBWyYHdYCyhwGjAwgOxRBwuwPrriyMDAvAEosADiUtYCkIcfpDKwN0AEWBKABIeDGgOvAEQA7HnW\n",
       "zgCGHKj3WWAh5gnErshB+ICBAQC90SFkFKZi6AAAAABJRU5ErkJggg==\n",
       "\" style=\"display:inline;vertical-align:middle;\" /></a><br>"
      ],
      "text/plain": [
       "<IPython.core.display.HTML object>"
      ]
     },
     "metadata": {},
     "output_type": "display_data"
    }
   ],
   "source": [
    "_psi__t_ket = SubIndexed(_psi, _t)"
   ]
  },
  {
   "cell_type": "code",
   "execution_count": 17,
   "metadata": {},
   "outputs": [
    {
     "data": {
      "text/html": [
       "<strong id=\"_psi_1\">_psi_1:</strong> <a class=\"ProveItLink\" href=\"../__pv_it/common/a1b0bcb6cce2c615fb6647e8524b121da49b0b650/common_expr.ipynb\"><img src=\"data:image/png;base64,iVBORw0KGgoAAAANSUhEUgAAACEAAAAVBAMAAAA6IZrnAAAAMFBMVEX///8AAAAAAAAAAAAAAAAA\n",
       "AAAAAAAAAAAAAAAAAAAAAAAAAAAAAAAAAAAAAAAAAAAv3aB7AAAAD3RSTlMAIolEdjIQVJlm3e/N\n",
       "u6uczJRnAAAACXBIWXMAAA7EAAAOxAGVKw4bAAAAy0lEQVQY02MQYEAGAUCsjCJyFS7CAhWpgIsw\n",
       "QUW44CIpUBGmAphIKVSE8QJMRAFm9EGQCJvHBAYFlgUQkSKQCBP7BrYJLN/gRiszhHMs4BRg2MCQ\n",
       "eQAowmEAFEngdgBa3sDqAtLI+gBkcn0CEwObAwM7SIRdASTSwyDOwJIAEeERAIn0MkxjMGaAiMiC\n",
       "3WMtoMBpABVRB4uwPrriyAAVWQBxM2sBA1SEvQEiAjQWKsIrABEBhwWjzicHhhxoaLDAw9ATiF1R\n",
       "QvUBAwMA2xIid/P5w4IAAAAASUVORK5CYII=\n",
       "\" style=\"display:inline;vertical-align:middle;\" /></a><br>"
      ],
      "text/plain": [
       "<IPython.core.display.HTML object>"
      ]
     },
     "metadata": {},
     "output_type": "display_data"
    }
   ],
   "source": [
    "_psi_1 = SubIndexed(_psi, one)"
   ]
  },
  {
   "cell_type": "code",
   "execution_count": 18,
   "metadata": {},
   "outputs": [
    {
     "data": {
      "text/html": [
       "<strong id=\"_U_pow_two_pow_k\">_U_pow_two_pow_k:</strong> <a class=\"ProveItLink\" href=\"../__pv_it/common/ca6bd2a3cef8148f9eca91093ae9225933842c190/common_expr.ipynb\"><img src=\"data:image/png;base64,iVBORw0KGgoAAAANSUhEUgAAAB8AAAAXBAMAAAAB04lnAAAAMFBMVEX///8AAAAAAAAAAAAAAAAA\n",
       "AAAAAAAAAAAAAAAAAAAAAAAAAAAAAAAAAAAAAAAAAAAv3aB7AAAAD3RSTlMAIqvdVO/NdolEmRC7\n",
       "MmaVuGqYAAAACXBIWXMAAA7EAAAOxAGVKw4bAAAAuUlEQVQY02NgQAZrGNCAF7rAOnSBRPECOJu7\n",
       "Q2kDw0fvA3ABLgYuA95PGxCq+Scw/mVvtBaAC/BtYPzLJdDngGQihwGYErI3cmBQ/QY0/TLUgP4J\n",
       "DAzsDQwMjKehKvNBVgAlpRgEIQJ/gJgJqODs3dVgPud3ILGDgYH1//8PELP/AomXSJYxBwCJBUgC\n",
       "+xWAhAKSgP8DoIEFSAL9F4DmCCALQGxF0gJ0kyKyANsCBqELKMHWo4VsJAMA3G4oGeNoXWYAAAAA\n",
       "SUVORK5CYII=\n",
       "\" style=\"display:inline;vertical-align:middle;\" /></a><br>"
      ],
      "text/plain": [
       "<IPython.core.display.HTML object>"
      ]
     },
     "metadata": {},
     "output_type": "display_data"
    }
   ],
   "source": [
    "_U_pow_two_pow_k = Exp(_U, Exp(two, k))"
   ]
  },
  {
   "cell_type": "code",
   "execution_count": 19,
   "metadata": {},
   "outputs": [
    {
     "data": {
      "text/html": [
       "<strong id=\"_s\">_s:</strong> <a class=\"ProveItLink\" href=\"../__pv_it/common/8a1628c4cfc7b78e5c5de183ba3f5cff0b20d4dd0/common_expr.ipynb\"><img src=\"data:image/png;base64,iVBORw0KGgoAAAANSUhEUgAAAAgAAAAJBAMAAAD9fXAdAAAAKlBMVEX///8AAAAAAAAAAAAAAAAA\n",
       "AAAAAAAAAAAAAAAAAAAAAAAAAAAAAAAAAADmU0mKAAAADXRSTlMAiXaZELsyRCJm3c1UhSksHQAA\n",
       "AAlwSFlzAAAOxAAADsQBlSsOGwAAADRJREFUCNdjYGBUMmFgCGMoZuC4wBDJwHF1BgMDg+xdASBZ\n",
       "eoVBioHhCsMmBh4DhqRJmgwAu88JE3/XMLUAAAAASUVORK5CYII=\n",
       "\" style=\"display:inline;vertical-align:middle;\" /></a><br>"
      ],
      "text/plain": [
       "<IPython.core.display.HTML object>"
      ]
     },
     "metadata": {},
     "output_type": "display_data"
    }
   ],
   "source": [
    "_s = Literal('s')"
   ]
  },
  {
   "cell_type": "code",
   "execution_count": 20,
   "metadata": {},
   "outputs": [],
   "source": [
    "# Used to be\n",
    "# m: Random variable for the measurement of Psi as an\n",
    "#    integer from the register's binary representation.\n",
    "# Now we are using it as the size of the |u> register.\n",
    "# As of 10/25 back to using this for the measurement of Psi\n",
    "# Now using s as the size of the |u> register\n",
    "#_m = Literal('m')"
   ]
  },
  {
   "cell_type": "code",
   "execution_count": 21,
   "metadata": {},
   "outputs": [],
   "source": [
    "# phase_m: Random variable for the phase result of the\n",
    "#          quantum phase estimation phase_m = m / 2^t\n",
    "#          (I wish the subscript appeared a bit lower)\n",
    "#_phase_m = Literal('phase_m', latex_format=r'\\varphi_m')"
   ]
  },
  {
   "cell_type": "code",
   "execution_count": 22,
   "metadata": {},
   "outputs": [
    {
     "data": {
      "text/html": [
       "<strong id=\"_b\">_b:</strong> <a class=\"ProveItLink\" href=\"../__pv_it/common/87526152547440e0f166da3fc5e89091dc5afc6b0/common_expr.ipynb\"><img src=\"data:image/png;base64,iVBORw0KGgoAAAANSUhEUgAAAAkAAAAOBAMAAAAPuiubAAAAMFBMVEX///8AAAAAAAAAAAAAAAAA\n",
       "AAAAAAAAAAAAAAAAAAAAAAAAAAAAAAAAAAAAAAAAAAAv3aB7AAAAD3RSTlMAELvv3c2ZVESJq3Yi\n",
       "MmZ3LnoBAAAACXBIWXMAAA7EAAAOxAGVKw4bAAAAT0lEQVQI12NgVHZgAALWBBDJXwAi+wVA5BQQ\n",
       "wRC1ezkDA+NXAfkDDOwfGZg3MLAFMPBPYGCZwNBfAFKeL8DAf4HRjoGB6wET0AjGlXkMDAAVqA7Q\n",
       "GyenWgAAAABJRU5ErkJggg==\n",
       "\" style=\"display:inline;vertical-align:middle;\" /></a><br>"
      ],
      "text/plain": [
       "<IPython.core.display.HTML object>"
      ]
     },
     "metadata": {},
     "output_type": "display_data"
    }
   ],
   "source": [
    "# b: The \"best\" outcome of measurement m, defined in Nielsen & Chuang\n",
    "# such that b is the t-qubit estimate closest to, BUT LESS THAN, phase phi.\n",
    "_b = Literal('b')"
   ]
  },
  {
   "cell_type": "code",
   "execution_count": 23,
   "metadata": {},
   "outputs": [
    {
     "data": {
      "text/html": [
       "<strong id=\"_b_floor\">_b_floor:</strong> <a class=\"ProveItLink\" href=\"../__pv_it/common/d330793052bb239ae69702166b1d364acbd6f04c0/common_expr.ipynb\"><img src=\"data:image/png;base64,iVBORw0KGgoAAAANSUhEUgAAABEAAAAUBAMAAACZjst6AAAAMFBMVEX///8AAAAAAAAAAAAAAAAA\n",
       "AAAAAAAAAAAAAAAAAAAAAAAAAAAAAAAAAAAAAAAAAAAv3aB7AAAAD3RSTlMAELvv3c2ZVESJq3Yi\n",
       "MmZ3LnoBAAAACXBIWXMAAA7EAAAOxAGVKw4bAAAAe0lEQVQI12NgVHZggALWBBiLvwDG6heAsabA\n",
       "GAxRu5dDGIxfBeQPgFnsHxmYNzBwZDEwsAUw8E9gYBY9wMAygaG/gKEVYly+ALfTRCDrAqMdA0ME\n",
       "UIzrARPQOhuQKSvzgMQHmOkcATAW9wIYi+0BjMVyAMoQEYVLzgESAPXIFnoAjStVAAAAAElFTkSu\n",
       "QmCC\n",
       "\" style=\"display:inline;vertical-align:middle;\" /></a><br>"
      ],
      "text/plain": [
       "<IPython.core.display.HTML object>"
      ]
     },
     "metadata": {},
     "output_type": "display_data"
    }
   ],
   "source": [
    "# b_f: The \"best\" outcome of measurement m, defined (in the axioms) as\n",
    "# the best t-qubit under-estimate of the phase phi (i.e. the binary expansion\n",
    "# of phi truncated to t-bits). The 'f' stands for 'floor'.\n",
    "_b_floor = Literal('b_{f}', latex_format=r'b_{\\textit{f}}')"
   ]
  },
  {
   "cell_type": "code",
   "execution_count": 24,
   "metadata": {},
   "outputs": [
    {
     "data": {
      "text/html": [
       "<strong id=\"_b_round\">_b_round:</strong> <a class=\"ProveItLink\" href=\"../__pv_it/common/86e7e654c47d905411cdcd594557bc54ff0937170/common_expr.ipynb\"><img src=\"data:image/png;base64,iVBORw0KGgoAAAANSUhEUgAAABIAAAARBAMAAAAidOHKAAAAMFBMVEX///8AAAAAAAAAAAAAAAAA\n",
       "AAAAAAAAAAAAAAAAAAAAAAAAAAAAAAAAAAAAAAAAAAAv3aB7AAAAD3RSTlMAELvv3c2ZVESJq3Yi\n",
       "MmZ3LnoBAAAACXBIWXMAAA7EAAAOxAGVKw4bAAAAbElEQVQI12NgVHZggALWBBiLvwDG6heAsabA\n",
       "GAxRu5dDGIxfBeQPgFnsHxmYN4BZbAEM/BPALJYJDP0FMOPyBSTXzl7AwH+B0Y5hzyKGAAauB0wJ\n",
       "DA2+IFNW5gGJDzDT2RVgLLYJMBbXBQYGAHjIFdRVzx08AAAAAElFTkSuQmCC\n",
       "\" style=\"display:inline;vertical-align:middle;\" /></a><br>"
      ],
      "text/plain": [
       "<IPython.core.display.HTML object>"
      ]
     },
     "metadata": {},
     "output_type": "display_data"
    }
   ],
   "source": [
    "# b_r: The \"best\" outcome of measurement m, now defined (in the axioms) as\n",
    "# the t-qubit estimate closest to phase phi (i.e. the binary expansion of\n",
    "# phi ROUNDED to t-bits). The 'r' stands for 'round'.\n",
    "_b_round = Literal('b_{r}', latex_format=r'b_{\\textit{r}}')"
   ]
  },
  {
   "cell_type": "code",
   "execution_count": 25,
   "metadata": {},
   "outputs": [
    {
     "data": {
      "text/html": [
       "<strong id=\"two_pow_t\">two_pow_t:</strong> <a class=\"ProveItLink\" href=\"../__pv_it/common/a014d9681ed5f22f1d322e1e6f8f6a29a72641620/common_expr.ipynb\"><img src=\"data:image/png;base64,iVBORw0KGgoAAAANSUhEUgAAAA8AAAATBAMAAAC97EqZAAAAMFBMVEX///8AAAAAAAAAAAAAAAAA\n",
       "AAAAAAAAAAAAAAAAAAAAAAAAAAAAAAAAAAAAAAAAAAAv3aB7AAAAD3RSTlMAIpnNuzKJRKvvEN12\n",
       "ZlQ4bmvwAAAACXBIWXMAAA7EAAAOxAGVKw4bAAAAc0lEQVQI12NgAANDCMXA9QHK4DOA0IzZZgEQ\n",
       "FvMDIE/JJICBfwEDgwgD23eGSqBoIwPDTIYTXAEM8xcw9AvosC1g6GZg6A8IugrWsx9qGusfKIO7\n",
       "AcpQgdK8MIFnDIwCYKUJDDwLQAxpJSVtiCH//38G0QDzxhbahjP2rQAAAABJRU5ErkJggg==\n",
       "\" style=\"display:inline;vertical-align:middle;\" /></a><br>"
      ],
      "text/plain": [
       "<IPython.core.display.HTML object>"
      ]
     },
     "metadata": {},
     "output_type": "display_data"
    }
   ],
   "source": [
    "two_pow_t = Exp(two, t)"
   ]
  },
  {
   "cell_type": "code",
   "execution_count": 26,
   "metadata": {},
   "outputs": [
    {
     "data": {
      "text/html": [
       "<strong id=\"two_pow_s\">two_pow_s:</strong> <a class=\"ProveItLink\" href=\"../__pv_it/common/52731ec84958166fa2101a91be703396f6ec848b0/common_expr.ipynb\"><img src=\"data:image/png;base64,iVBORw0KGgoAAAANSUhEUgAAABAAAAAQBAMAAADt3eJSAAAAMFBMVEX///8AAAAAAAAAAAAAAAAA\n",
       "AAAAAAAAAAAAAAAAAAAAAAAAAAAAAAAAAAAAAAAAAAAv3aB7AAAAD3RSTlMAIpnNuzKJRKvvEN12\n",
       "ZlQ4bmvwAAAACXBIWXMAAA7EAAAOxAGVKw4bAAAAbElEQVQI12NgAIPcexCaKSCCgVHJJICBxXYB\n",
       "gwgD23cG1vkTGRoZGGYySDHuYZi/gKFfYDtDKkM3A0N/wL27D0B69kO0MrD+gTK4G6AMFSjNCxN4\n",
       "xsAoAFaawMCzAMSQVlLSBsvs////M4gGAAacF/I9L52AAAAAAElFTkSuQmCC\n",
       "\" style=\"display:inline;vertical-align:middle;\" /></a><br>"
      ],
      "text/plain": [
       "<IPython.core.display.HTML object>"
      ]
     },
     "metadata": {},
     "output_type": "display_data"
    }
   ],
   "source": [
    "two_pow_s = Exp(two, s)"
   ]
  },
  {
   "cell_type": "code",
   "execution_count": 27,
   "metadata": {},
   "outputs": [
    {
     "data": {
      "text/html": [
       "<strong id=\"_two_pow_t\">_two_pow_t:</strong> <a class=\"ProveItLink\" href=\"../__pv_it/common/18332e4e627d64eadf0d81efed19ae3e9d007d510/common_expr.ipynb\"><img src=\"data:image/png;base64,iVBORw0KGgoAAAANSUhEUgAAAA8AAAATBAMAAAC97EqZAAAAMFBMVEX///8AAAAAAAAAAAAAAAAA\n",
       "AAAAAAAAAAAAAAAAAAAAAAAAAAAAAAAAAAAAAAAAAAAv3aB7AAAAD3RSTlMAIpnNuzKJRKvvEN12\n",
       "ZlQ4bmvwAAAACXBIWXMAAA7EAAAOxAGVKw4bAAAAc0lEQVQI12NgAANDCMXA9QHK4DOA0IzZZgEQ\n",
       "FvMDIE/JJICBfwEDgwgD23eGSqBoIwPDTIYTXAEM8xcw9AvosC1g6GZg6A8IugrWsx9qGusfKIO7\n",
       "AcpQgdK8MIFnDIwCYKUJDDwLQAxpJSVtiCH//38G0QDzxhbahjP2rQAAAABJRU5ErkJggg==\n",
       "\" style=\"display:inline;vertical-align:middle;\" /></a><br>"
      ],
      "text/plain": [
       "<IPython.core.display.HTML object>"
      ]
     },
     "metadata": {},
     "output_type": "display_data"
    }
   ],
   "source": [
    "# 2^t\n",
    "_two_pow_t = Exp(two, _t)"
   ]
  },
  {
   "cell_type": "code",
   "execution_count": 28,
   "metadata": {},
   "outputs": [
    {
     "data": {
      "text/html": [
       "<strong id=\"_two_pow__t_minus_one\">_two_pow__t_minus_one:</strong> <a class=\"ProveItLink\" href=\"../__pv_it/common/c88f421c8948293a287b1527f87038636fb060100/common_expr.ipynb\"><img src=\"data:image/png;base64,iVBORw0KGgoAAAANSUhEUgAAACMAAAATBAMAAADojanHAAAAMFBMVEX///8AAAAAAAAAAAAAAAAA\n",
       "AAAAAAAAAAAAAAAAAAAAAAAAAAAAAAAAAAAAAAAAAAAv3aB7AAAAD3RSTlMAIpnNuzKJRKvvEN12\n",
       "ZlQ4bmvwAAAACXBIWXMAAA7EAAAOxAGVKw4bAAAAk0lEQVQY02NgAANDBihYawBlcH2AMljPbICy\n",
       "+GByDHxQIcZsswA0IQbmB8iqGJVMAhj4FyALiTCwfWeoZGAIcQECAbBQIwPDTIYTXMhmzV/A0C+g\n",
       "w7YASaibgaE/IOgqVIQx+dsBEL2fAR2w/sEQ4m7AEFLBEOHFVPSMgVEAzfAEBp4FqELSSkraaPr2\n",
       "////GVUEAP3AIfiAQTVrAAAAAElFTkSuQmCC\n",
       "\" style=\"display:inline;vertical-align:middle;\" /></a><br>"
      ],
      "text/plain": [
       "<IPython.core.display.HTML object>"
      ]
     },
     "metadata": {},
     "output_type": "display_data"
    }
   ],
   "source": [
    "# 2^{t-1}\n",
    "_two_pow__t_minus_one = Exp(two, subtract(_t, one))"
   ]
  },
  {
   "cell_type": "code",
   "execution_count": 29,
   "metadata": {},
   "outputs": [
    {
     "data": {
      "text/html": [
       "<strong id=\"_two_pow__t_plus_one\">_two_pow__t_plus_one:</strong> <a class=\"ProveItLink\" href=\"../__pv_it/common/57fce5ffcc460ba0440f04c1458ea5d4ce2b460e0/common_expr.ipynb\"><img src=\"data:image/png;base64,iVBORw0KGgoAAAANSUhEUgAAACMAAAATBAMAAADojanHAAAAMFBMVEX///8AAAAAAAAAAAAAAAAA\n",
       "AAAAAAAAAAAAAAAAAAAAAAAAAAAAAAAAAAAAAAAAAAAv3aB7AAAAD3RSTlMAIpnNuzKJRKvvEN12\n",
       "ZlQ4bmvwAAAACXBIWXMAAA7EAAAOxAGVKw4bAAAAn0lEQVQY02NgAANDBihYawBlcH0AEkxAzHpm\n",
       "A1SIDyTHAmZBhRizzQLQhBiYHyCrYlQyCWDgX4AsJMLA9p2hkoFBxcXTxeUCWKiRgWEmwwkuZLPm\n",
       "L2DoF9BhW4Ak1M3A0B8QdBVqFmPytwMgmf0Qa1kY4ID1D4RmQghxNzCgAxUMEV5MRc8YGAVQRVgT\n",
       "GHgWoApJKylpo+nb////Z1QRAKW7IrFG8nU4AAAAAElFTkSuQmCC\n",
       "\" style=\"display:inline;vertical-align:middle;\" /></a><br>"
      ],
      "text/plain": [
       "<IPython.core.display.HTML object>"
      ]
     },
     "metadata": {},
     "output_type": "display_data"
    }
   ],
   "source": [
    "# 2^{t+1}\n",
    "_two_pow__t_plus_one = Exp(two, Add(_t, one))"
   ]
  },
  {
   "cell_type": "code",
   "execution_count": 30,
   "metadata": {},
   "outputs": [
    {
     "data": {
      "text/html": [
       "<strong id=\"_two_pow_t__minus_one\">_two_pow_t__minus_one:</strong> <a class=\"ProveItLink\" href=\"../__pv_it/common/f186bef3123c37aced8bb4cc37639e91545fb7610/common_expr.ipynb\"><img src=\"data:image/png;base64,iVBORw0KGgoAAAANSUhEUgAAADMAAAATBAMAAADPIygvAAAAMFBMVEX///8AAAAAAAAAAAAAAAAA\n",
       "AAAAAAAAAAAAAAAAAAAAAAAAAAAAAAAAAAAAAAAAAAAv3aB7AAAAD3RSTlMAIpnNuzKJRKvvEN12\n",
       "ZlQ4bmvwAAAACXBIWXMAAA7EAAAOxAGVKw4bAAAAmklEQVQoz2NgAANDBlyA6wNOKT4DXDKM2WYB\n",
       "uOSYH2DVoWQSwMC/AF04GigiwsD2naES3VlN9kCpRgaGmQwnuNDtOg+Umr+AoV9Ah20BFqluBob+\n",
       "gKCrDFikgGA/FtdBpFj/4JTibsAppQLjLt4NAlsRUrzYNEGknjEwCmCXYk1g4FmAXUpaSUkbi4H5\n",
       "QJP2////GVOmY77FBQC0ly9Dl2mDigAAAABJRU5ErkJggg==\n",
       "\" style=\"display:inline;vertical-align:middle;\" /></a><br>"
      ],
      "text/plain": [
       "<IPython.core.display.HTML object>"
      ]
     },
     "metadata": {},
     "output_type": "display_data"
    }
   ],
   "source": [
    "_two_pow_t__minus_one = subtract(Exp(two, _t), one)"
   ]
  },
  {
   "cell_type": "code",
   "execution_count": 31,
   "metadata": {},
   "outputs": [
    {
     "data": {
      "text/html": [
       "<strong id=\"_alpha\">_alpha:</strong> <a class=\"ProveItLink\" href=\"../__pv_it/common/91bf0c8711f0cb198093da4362dda6021bfd02790/common_expr.ipynb\"><img src=\"data:image/png;base64,iVBORw0KGgoAAAANSUhEUgAAAA0AAAAJBAMAAAAbVLtZAAAAMFBMVEX///8AAAAAAAAAAAAAAAAA\n",
       "AAAAAAAAAAAAAAAAAAAAAAAAAAAAAAAAAAAAAAAAAAAv3aB7AAAAD3RSTlMAiasyIt1EEO9UdruZ\n",
       "zWZ7xlX5AAAACXBIWXMAAA7EAAAOxAGVKw4bAAAAS0lEQVQI12NgYBAUMmAAAtcE9haWCQwMXQwM\n",
       "e7gKGHg+MDCcZWRg4NjAwCAhzsBQv4CBQR4ozQ+kJYDKeTYw8J1nBjIE3y3nkWIAAKtXDIZRy46v\n",
       "AAAAAElFTkSuQmCC\n",
       "\" style=\"display:inline;vertical-align:middle;\" /></a><br>"
      ],
      "text/plain": [
       "<IPython.core.display.HTML object>"
      ]
     },
     "metadata": {},
     "output_type": "display_data"
    }
   ],
   "source": [
    "# amplitude of output register as indexed\n",
    "_alpha = Literal('alpha', latex_format= r'\\alpha')"
   ]
  },
  {
   "cell_type": "code",
   "execution_count": 32,
   "metadata": {},
   "outputs": [
    {
     "data": {
      "text/html": [
       "<strong id=\"_alpha_l\">_alpha_l:</strong> <a class=\"ProveItLink\" href=\"../__pv_it/common/b9261409913d72b3e2de935c05d1d59eeca41d4f0/common_expr.ipynb\"><img src=\"data:image/png;base64,iVBORw0KGgoAAAANSUhEUgAAABIAAAAMBAMAAACdPPCPAAAAMFBMVEX///8AAAAAAAAAAAAAAAAA\n",
       "AAAAAAAAAAAAAAAAAAAAAAAAAAAAAAAAAAAAAAAAAAAv3aB7AAAAD3RSTlMAiasyIt1EEO9UdruZ\n",
       "zWZ7xlX5AAAACXBIWXMAAA7EAAAOxAGVKw4bAAAAZ0lEQVQI12NgYBAUMmAAA9cE9haWCSBWFwPD\n",
       "Hq6Cog8MPB8YGM4yMnBeYODYwMAgIc7AI8BQv4CBQX4CA2sCAz+QJcHAUM/AwLOBge88M8NcoF7B\n",
       "d8t5pBgOMsBAWAGM9WEBjHUqAQDsthSfiNs+FAAAAABJRU5ErkJggg==\n",
       "\" style=\"display:inline;vertical-align:middle;\" /></a><br>"
      ],
      "text/plain": [
       "<IPython.core.display.HTML object>"
      ]
     },
     "metadata": {},
     "output_type": "display_data"
    }
   ],
   "source": [
    "# These are subscripted with letter l (ell), NOT numeral 1 (one)\n",
    "_alpha_l = SubIndexed(_alpha, l)"
   ]
  },
  {
   "cell_type": "code",
   "execution_count": 33,
   "metadata": {},
   "outputs": [
    {
     "data": {
      "text/html": [
       "<strong id=\"_alpha_m\">_alpha_m:</strong> <a class=\"ProveItLink\" href=\"../__pv_it/common/00ea7f93e4dad993f410182efc6802a4e1b386380/common_expr.ipynb\"><img src=\"data:image/png;base64,iVBORw0KGgoAAAANSUhEUgAAABsAAAAMBAMAAABhKdtFAAAAMFBMVEX///8AAAAAAAAAAAAAAAAA\n",
       "AAAAAAAAAAAAAAAAAAAAAAAAAAAAAAAAAAAAAAAAAAAv3aB7AAAAD3RSTlMAiasyIt1EEO9UdruZ\n",
       "zWZ7xlX5AAAACXBIWXMAAA7EAAAOxAGVKw4bAAAAgUlEQVQI12NgYBAUMmBAANcE9haWCXBuFwPD\n",
       "Hq4CGI/nAwPDWUa4JMcGBgYJcTi3fgEDg/wEhjePVyms28zAwA/kSjCwP+tjaGJYBNS7gYHvPDNL\n",
       "1QWGzwwHgaoF3y3nkWJgWsDcwBCJMNGAawPLB7h7/IHyfBsOwLhJDLwOLFoFAEkEHXGkSGL3AAAA\n",
       "AElFTkSuQmCC\n",
       "\" style=\"display:inline;vertical-align:middle;\" /></a><br>"
      ],
      "text/plain": [
       "<IPython.core.display.HTML object>"
      ]
     },
     "metadata": {},
     "output_type": "display_data"
    }
   ],
   "source": [
    "_alpha_m = SubIndexed(_alpha, m)"
   ]
  },
  {
   "cell_type": "code",
   "execution_count": 34,
   "metadata": {},
   "outputs": [
    {
     "data": {
      "text/html": [
       "<strong id=\"_alpha_l_mod_two_pow_t\">_alpha_l_mod_two_pow_t:</strong> <a class=\"ProveItLink\" href=\"../__pv_it/common/5f206d4b057244f12d24cc9c98dd525d6a50e15d0/common_expr.ipynb\"><img src=\"data:image/png;base64,iVBORw0KGgoAAAANSUhEUgAAAE0AAAAMBAMAAADVIy1KAAAAMFBMVEX///8AAAAAAAAAAAAAAAAA\n",
       "AAAAAAAAAAAAAAAAAAAAAAAAAAAAAAAAAAAAAAAAAAAv3aB7AAAAD3RSTlMAiasyIt1EEO9UdruZ\n",
       "zWZ7xlX5AAAACXBIWXMAAA7EAAAOxAGVKw4bAAABHUlEQVQY02NgYBAUMmAgArgmsLewTMCvxgeI\n",
       "uxgY9nAVFH3AkOTqBJHsgkoFDK8YGHiACs4yMnBewDTlJojgYeAJ4IqZwMCxgYFBQpyBRwBT3U4Q\n",
       "wZ/A8pkhgIGhfgEDg/wEBtYEkB1bLRfVPUpg4HolzsCw6hXYPL4Cls/sQMv4geokgMrBJvhP4N3A\n",
       "GcCwjaEUZEEnxFjGAM4DDxh4NjDwnWdmmAtRV8AtwNzA/IGBe4F/AcR9DAymBSznHIDB9245jxTD\n",
       "QYg6BqYFzA18DQxMB/Kh/mBg2Y7s5rAChDqgebwI83wYXJDUfVgAUccNVAdU4FHA9IAF7D6WzcbH\n",
       "kdSdAvtX/8CLa04fGRhXHWFgkHoVC4pPjv//QVEAAK6mSuqfBfYcAAAAAElFTkSuQmCC\n",
       "\" style=\"display:inline;vertical-align:middle;\" /></a><br>"
      ],
      "text/plain": [
       "<IPython.core.display.HTML object>"
      ]
     },
     "metadata": {},
     "output_type": "display_data"
    }
   ],
   "source": [
    "from proveit.numbers import Mod\n",
    "_alpha_l_mod_two_pow_t = SubIndexed(_alpha, Mod(l, _two_pow_t))"
   ]
  },
  {
   "cell_type": "code",
   "execution_count": 35,
   "metadata": {},
   "outputs": [
    {
     "data": {
      "text/html": [
       "<strong id=\"_alpha_m_mod_two_pow_t\">_alpha_m_mod_two_pow_t:</strong> <a class=\"ProveItLink\" href=\"../__pv_it/common/9de01b9c32eb6c0cd22f8f0897d42e8701bc22100/common_expr.ipynb\"><img src=\"data:image/png;base64,iVBORw0KGgoAAAANSUhEUgAAAFYAAAAMBAMAAAAKbVdVAAAAMFBMVEX///8AAAAAAAAAAAAAAAAA\n",
       "AAAAAAAAAAAAAAAAAAAAAAAAAAAAAAAAAAAAAAAAAAAv3aB7AAAAD3RSTlMAiasyIt1EEO9UdruZ\n",
       "zWZ7xlX5AAAACXBIWXMAAA7EAAAOxAGVKw4bAAABL0lEQVQoz2NgYBAUMmAgErgmsLewTCCsjuUA\n",
       "A0MXA8MergJcKlaATSkUUmfgW8DA84GB4SwjTtN4wWoPMBxlWHqSgWMDA4OEOE613GC13xj8DVgZ\n",
       "GOoXMDDIT2B483iVwrrNIHH2rZaL6h4lMHC9EmfgWrcWrPY5UG0tAwM/UK0EA/uzPoYmhkVgo/wn\n",
       "8G7gDGDYxlDKcJCBA+prUYY5fAw8Gxj4zjOzVF1g+AyUAqst4BZgbmD+wMC95DvUvQzM4Qw+T4DB\n",
       "+245jxQD0wLmBoZIiFowh6+BgenYB5hab+SA4jDg2sDywQChFmguL9xclgMsDgi1IAV8Gw5AmNwg\n",
       "S24yeBToMXiA1Xob2yAZnMTA68CiBRJg1z/w4prTRwbGVUcYGNctvQyS7f//H0gCACOMVAeRWaJU\n",
       "AAAAAElFTkSuQmCC\n",
       "\" style=\"display:inline;vertical-align:middle;\" /></a><br>"
      ],
      "text/plain": [
       "<IPython.core.display.HTML object>"
      ]
     },
     "metadata": {},
     "output_type": "display_data"
    }
   ],
   "source": [
    "from proveit import m\n",
    "from proveit.numbers import Mod\n",
    "_alpha_m_mod_two_pow_t = SubIndexed(_alpha, Mod(m, _two_pow_t))"
   ]
  },
  {
   "cell_type": "code",
   "execution_count": 36,
   "metadata": {},
   "outputs": [
    {
     "data": {
      "text/html": [
       "<strong id=\"_alpha_bl\">_alpha_bl:</strong> <a class=\"ProveItLink\" href=\"../__pv_it/common/5f1392c2610a840b9d6127bd26438c75fee1a9350/common_expr.ipynb\"><img src=\"data:image/png;base64,iVBORw0KGgoAAAANSUhEUgAAACYAAAAOBAMAAACx7HPGAAAAMFBMVEX///8AAAAAAAAAAAAAAAAA\n",
       "AAAAAAAAAAAAAAAAAAAAAAAAAAAAAAAAAAAAAAAAAAAv3aB7AAAAD3RSTlMAiasyIt1EEO9UdruZ\n",
       "zWZ7xlX5AAAACXBIWXMAAA7EAAAOxAGVKw4bAAAAwUlEQVQY012Puw4BURRFl+dwM2FoiEapHT1R\n",
       "+QXa+YSJTmMKGiqJWnILj+RGZGoRCaVE+AgtmU9wMzGC0511dvbZGygUbf6m7Rij5PSXTWAv3KYf\n",
       "7b0AM4BLjLgFhtpJyN7IaEG5REZ71pExG9PC06fqlJaqGRKJRcohr1kZlu5GoNkAD0yf3DXBgUfI\n",
       "BHP9p/BcmxWGnOJK7dSG4ydRwPit67gR6+b8tK3ZjEBGrKGghExKzs53I3FfbP+b01+FXi8s+i/4\n",
       "bt7XUAAAAABJRU5ErkJggg==\n",
       "\" style=\"display:inline;vertical-align:middle;\" /></a><br>"
      ],
      "text/plain": [
       "<IPython.core.display.HTML object>"
      ]
     },
     "metadata": {},
     "output_type": "display_data"
    }
   ],
   "source": [
    "# These are subscripted with letter l (ell), NOT numeral 1 (one)\n",
    "_alpha_bl = SubIndexed(_alpha, ModAdd(_b, l))"
   ]
  },
  {
   "cell_type": "code",
   "execution_count": 37,
   "metadata": {},
   "outputs": [
    {
     "data": {
      "text/html": [
       "<strong id=\"abs_a\">abs_a:</strong> <a class=\"ProveItLink\" href=\"../__pv_it/common/d129d2dbc44e5a06119c12ef1490c422ea3ea3bc0/common_expr.ipynb\"><img src=\"data:image/png;base64,iVBORw0KGgoAAAANSUhEUgAAABMAAAAVBAMAAABWJ8jiAAAAMFBMVEX///8AAAAAAAAAAAAAAAAA\n",
       "AAAAAAAAAAAAAAAAAAAAAAAAAAAAAAAAAAAAAAAAAAAv3aB7AAAAD3RSTlMAIolEdjKr77sQZpnd\n",
       "VM0QaojEAAAACXBIWXMAAA7EAAAOxAGVKw4bAAAAV0lEQVQI12MQYIAARgYGZSiTyYACJmOSowOU\n",
       "aS7A8RPC5Kxi4D4AYXJ/YOBRgDDZGxjmG0CY8x0Y1kNNmH+BIY9XAMzkcOA9zQ01IUVVzJVU57hC\n",
       "mSwBAJV8EpHonlOiAAAAAElFTkSuQmCC\n",
       "\" style=\"display:inline;vertical-align:middle;\" /></a><br>"
      ],
      "text/plain": [
       "<IPython.core.display.HTML object>"
      ]
     },
     "metadata": {},
     "output_type": "display_data"
    }
   ],
   "source": [
    "abs_a = Abs(a)"
   ]
  },
  {
   "cell_type": "code",
   "execution_count": 38,
   "metadata": {},
   "outputs": [
    {
     "data": {
      "text/html": [
       "<strong id=\"_abs_alpha_l\">_abs_alpha_l:</strong> <a class=\"ProveItLink\" href=\"../__pv_it/common/b7e9040ab6971d1002645cf0cf47e91864c028780/common_expr.ipynb\"><img src=\"data:image/png;base64,iVBORw0KGgoAAAANSUhEUgAAABwAAAAVBAMAAACnLJNvAAAAMFBMVEX///8AAAAAAAAAAAAAAAAA\n",
       "AAAAAAAAAAAAAAAAAAAAAAAAAAAAAAAAAAAAAAAAAAAv3aB7AAAAD3RSTlMAIolEdjKr3RDvVLuZ\n",
       "zWYxJBLgAAAACXBIWXMAAA7EAAAOxAGVKw4bAAAAeElEQVQY02MQYEACAgzKyFxlanOV1AKQuOIG\n",
       "HBMZF8C5UxgY9rA0tH2AcHmA9FkmBq4LEC7nBgYGTQ0GHgUIt9+BgUF/AQO7AYTLD+RqMjD0Q43i\n",
       "2cDAd56VYS3MZKV3HjwqDIdQXVXcgML94IDCPWKAxQuuyFxXAA5IGaMFUHaKAAAAAElFTkSuQmCC\n",
       "\" style=\"display:inline;vertical-align:middle;\" /></a><br>"
      ],
      "text/plain": [
       "<IPython.core.display.HTML object>"
      ]
     },
     "metadata": {},
     "output_type": "display_data"
    }
   ],
   "source": [
    "_abs_alpha_l = Abs(_alpha_l)"
   ]
  },
  {
   "cell_type": "code",
   "execution_count": 39,
   "metadata": {},
   "outputs": [
    {
     "data": {
      "text/html": [
       "<strong id=\"_alpha_l_sqrd\">_alpha_l_sqrd:</strong> <a class=\"ProveItLink\" href=\"../__pv_it/common/d571a2e33d9c7c22dc83c0fa578a6839f177997f0/common_expr.ipynb\"><img src=\"data:image/png;base64,iVBORw0KGgoAAAANSUhEUgAAACYAAAAaBAMAAAApqzNLAAAAMFBMVEX///8AAAAAAAAAAAAAAAAA\n",
       "AAAAAAAAAAAAAAAAAAAAAAAAAAAAAAAAAAAAAAAAAAAv3aB7AAAAD3RSTlMAIolEdjKr3RDvVLuZ\n",
       "zWYxJBLgAAAACXBIWXMAAA7EAAAOxAGVKw4bAAAAtUlEQVQoz2NgQAUcSmkNaEIMPAw8Behi/AaM\n",
       "X9HF+BowxRgYmAoYBJD5IE54A4MyshiQw7iDAUNMhkEQXYxxa+gJdDHO//8/YOhFojDElNQC0MXE\n",
       "DTgmMi5AFZvCwLCHpaHtA5IYD5BzlomB6wKSGOcGBgZNDQYeBSSxfgcGBv0FDOwGSGL8QDFNBoZ+\n",
       "ZDt4NjDwnWdlWItir9I7Dx4VhkNY/FHcgCn2wQFT7IgB3jBwRRaDcAAVIiTtbHtgDgAAAABJRU5E\n",
       "rkJggg==\n",
       "\" style=\"display:inline;vertical-align:middle;\" /></a><br>"
      ],
      "text/plain": [
       "<IPython.core.display.HTML object>"
      ]
     },
     "metadata": {},
     "output_type": "display_data"
    }
   ],
   "source": [
    "_alpha_l_sqrd = Exp(Abs(_alpha_l), two)"
   ]
  },
  {
   "cell_type": "code",
   "execution_count": 40,
   "metadata": {},
   "outputs": [
    {
     "data": {
      "text/html": [
       "<strong id=\"_rel_indexed_alpha\">_rel_indexed_alpha:</strong> <a class=\"ProveItLink\" href=\"../__pv_it/common/c1c01d0c1c3f41a0bb6658e5c1bf94153e91678b0/common_expr.ipynb\"><img src=\"data:image/png;base64,iVBORw0KGgoAAAANSUhEUgAAACwAAAAQBAMAAACfEoDkAAAAMFBMVEX///8AAAAAAAAAAAAAAAAA\n",
       "AAAAAAAAAAAAAAAAAAAAAAAAAAAAAAAAAAAAAAAAAAAv3aB7AAAAD3RSTlMAiasyIt1EEO9UdruZ\n",
       "zWZ7xlX5AAAACXBIWXMAAA7EAAAOxAGVKw4bAAAA5ElEQVQY023QsWoCQRDG8b/mzOly6F0aJUUs\n",
       "bS99JFVewbT3CItdIMQiNloJ1soKJsIicrWEYCwF0draNuEewVWjXDRTDb/5dtkdwLvyOa+HwK5b\n",
       "rTNuwoeQ5TBG1QgngnmCpLsDW48VZJakTayQJ72//xaV8HFcamZabHGvS9uwQuGSCsgZLsCbHCJc\n",
       "geEXauCEZBcXfPLN82DHgo456P0MnGtemdIlqfVYD/k6vimiYa3kb7oiD/yYDVly6RtuE6kD32kM\n",
       "k0dZilkQ+5s1AbHuj062kNku5uld/lW7J/mvbmL9BvbPN1RA0UQUAAAAAElFTkSuQmCC\n",
       "\" style=\"display:inline;vertical-align:middle;\" /></a><br>"
      ],
      "text/plain": [
       "<IPython.core.display.HTML object>"
      ]
     },
     "metadata": {},
     "output_type": "display_data"
    }
   ],
   "source": [
    "_rel_indexed_alpha = SubIndexed(_alpha, ModAdd(_b_floor, l))"
   ]
  },
  {
   "cell_type": "code",
   "execution_count": 41,
   "metadata": {},
   "outputs": [
    {
     "data": {
      "text/html": [
       "<strong id=\"_alpha_m_sqrd\">_alpha_m_sqrd:</strong> <a class=\"ProveItLink\" href=\"../__pv_it/common/929653d2036d14c2bea139768c437a3e14c175ab0/common_expr.ipynb\"><img src=\"data:image/png;base64,iVBORw0KGgoAAAANSUhEUgAAAC4AAAAaBAMAAAA6fHO/AAAAMFBMVEX///8AAAAAAAAAAAAAAAAA\n",
       "AAAAAAAAAAAAAAAAAAAAAAAAAAAAAAAAAAAAAAAAAAAv3aB7AAAAD3RSTlMAIolEdjKr3RDvVLuZ\n",
       "zWYxJBLgAAAACXBIWXMAAA7EAAAOxAGVKw4bAAAA1ElEQVQoz2NgwAQcSmkNWIQZeBh4CrCJ8xsw\n",
       "fsUmzteAXZyBgamAQQBdjBGIwxsYlDHUGjAw7mDAKi7DIIhNnHFr6Als4pz//3/Aag4I4BNXUgvA\n",
       "Ji5uwDGRcQGm+BQGhj0sDRjiPB8YGM4yYZrDuYGBQVMDU7zfgYFBfwHDm6cuCX5bkcT5geKaDByP\n",
       "5zFMY3BDNn8DA995VsaWCwxfGQ4hu0fpnQePCgObA+sEhipM/3IGsGxg/BCAIS4P1MG34QCGuBkD\n",
       "rwBjSgOhcHNFF2cBhyEA83Ut6Zo8mG0AAAAASUVORK5CYII=\n",
       "\" style=\"display:inline;vertical-align:middle;\" /></a><br>"
      ],
      "text/plain": [
       "<IPython.core.display.HTML object>"
      ]
     },
     "metadata": {},
     "output_type": "display_data"
    }
   ],
   "source": [
    "_alpha_m_sqrd = Exp(Abs(_alpha_m), two)"
   ]
  },
  {
   "cell_type": "code",
   "execution_count": 42,
   "metadata": {},
   "outputs": [
    {
     "data": {
      "text/html": [
       "<strong id=\"_delta\">_delta:</strong> <a class=\"ProveItLink\" href=\"../__pv_it/common/d6b97444617188a78c398568a10ac4dbe1ffa6590/common_expr.ipynb\"><img src=\"data:image/png;base64,iVBORw0KGgoAAAANSUhEUgAAAAoAAAAPBAMAAAAv0UM9AAAALVBMVEX///8AAAAAAAAAAAAAAAAA\n",
       "AAAAAAAAAAAAAAAAAAAAAAAAAAAAAAAAAAAAAADAOrOgAAAADnRSTlMAIpnN77uJRKsQdlRmMt/D\n",
       "HBYAAAAJcEhZcwAADsQAAA7EAZUrDhsAAABUSURBVAjXY2BgEDIJZGBgSGDvBJIgzMCwAkzO2wAi\n",
       "WV8CCe7up0DyMEPfBAbGhwz7LjBwBDDcu8DAd4DhHlDdBaAMA98FBmsGBrYF3A1AlVnLGBgAEXgT\n",
       "/si7w8sAAAAASUVORK5CYII=\n",
       "\" style=\"display:inline;vertical-align:middle;\" /></a><br>"
      ],
      "text/plain": [
       "<IPython.core.display.HTML object>"
      ]
     },
     "metadata": {},
     "output_type": "display_data"
    }
   ],
   "source": [
    "# _delta: difference between the phase and the best t-qubit\n",
    "# phase phase measurement _b/2^t (defined in axioms)\n",
    "_delta = Literal('delta', latex_format=r'\\delta')"
   ]
  },
  {
   "cell_type": "code",
   "execution_count": 43,
   "metadata": {},
   "outputs": [
    {
     "data": {
      "text/html": [
       "<strong id=\"_delta_b\">_delta_b:</strong> <a class=\"ProveItLink\" href=\"../__pv_it/common/42f4901a9010b37366de0ab62b1d0f64ba12bc880/common_expr.ipynb\"><img src=\"data:image/png;base64,iVBORw0KGgoAAAANSUhEUgAAABAAAAASBAMAAACgFUNZAAAAMFBMVEX///8AAAAAAAAAAAAAAAAA\n",
       "AAAAAAAAAAAAAAAAAAAAAAAAAAAAAAAAAAAAAAAAAAAv3aB7AAAAD3RSTlMAIpnN77uJRKsQdlRm\n",
       "Mt3eazepAAAACXBIWXMAAA7EAAAOxAGVKw4bAAAAeklEQVQI12NgYBAyCWQAgwT2TggDSjEwrIAx\n",
       "5m+AMlh/Qmju7q8QxmGG/gkgmvEjw/4LlwMYGDgCGO5f4EhgYOA/wHCfgeUCUPMFoKr7qzoZ+C8w\n",
       "WDOsm7CIgW0BdwNDDFCUIWsZA4MvgwbErA8M3hDGS54ACOPSKgYAz6cgFxCeHr0AAAAASUVORK5C\n",
       "YII=\n",
       "\" style=\"display:inline;vertical-align:middle;\" /></a><br>"
      ],
      "text/plain": [
       "<IPython.core.display.HTML object>"
      ]
     },
     "metadata": {},
     "output_type": "display_data"
    }
   ],
   "source": [
    "_delta_b = SubIndexed(_delta, b)"
   ]
  },
  {
   "cell_type": "code",
   "execution_count": 44,
   "metadata": {},
   "outputs": [],
   "source": [
    "# _delta__b_floor: difference between the phase and the best\n",
    "# t-qubit phase underestimate measurement _b_round/2^t (defined in axioms)\n",
    "# _delta_b_floor = Literal('delta_{b_f}', latex_format=r'\\delta_{b_f}')"
   ]
  },
  {
   "cell_type": "code",
   "execution_count": 45,
   "metadata": {},
   "outputs": [
    {
     "data": {
      "text/html": [
       "<strong id=\"_delta_b_floor\">_delta_b_floor:</strong> <a class=\"ProveItLink\" href=\"../__pv_it/common/833e157257157d61cc42cb08459d50abb96eeea30/common_expr.ipynb\"><img src=\"data:image/png;base64,iVBORw0KGgoAAAANSUhEUgAAABYAAAAWBAMAAAA2mnEIAAAAMFBMVEX///8AAAAAAAAAAAAAAAAA\n",
       "AAAAAAAAAAAAAAAAAAAAAAAAAAAAAAAAAAAAAAAAAAAv3aB7AAAAD3RSTlMAIpnN77uJRKsQdlRm\n",
       "Mt3eazepAAAACXBIWXMAAA7EAAAOxAGVKw4bAAAAmUlEQVQY02NgYBAyCWSAgQT2TjgbwWJgWIHE\n",
       "nr8BwWb9CWdyd3+Fsw8z9E+AMhk/Muy/cDkAzOYIYLh/gSMBzOY/wHCfgeUCxMQLQB33V4Et5L/A\n",
       "YM2wbsIiBq4EBrYF3A0MMUC5SSsZGLKWMTD4Mmgw7IEa/IHBm9EKastLngAGA6j4pVUMcDbIfgUE\n",
       "mxvhcs5lExDiOQwMAFQeJipoYDcHAAAAAElFTkSuQmCC\n",
       "\" style=\"display:inline;vertical-align:middle;\" /></a><br>"
      ],
      "text/plain": [
       "<IPython.core.display.HTML object>"
      ]
     },
     "metadata": {},
     "output_type": "display_data"
    }
   ],
   "source": [
    "# _delta__b_floor: difference between the phase and the best\n",
    "# t-qubit phase underestimate measurement _b_round/2^t (defined in axioms)\n",
    "_delta_b_floor = SubIndexed(_delta, _b_floor)"
   ]
  },
  {
   "cell_type": "code",
   "execution_count": 46,
   "metadata": {},
   "outputs": [
    {
     "data": {
      "text/html": [
       "<strong id=\"_delta_b_round\">_delta_b_round:</strong> <a class=\"ProveItLink\" href=\"../__pv_it/common/93b4b357c7ea9925c01c6e53d70b20d73fd980210/common_expr.ipynb\"><img src=\"data:image/png;base64,iVBORw0KGgoAAAANSUhEUgAAABYAAAAUBAMAAAB7UtADAAAAMFBMVEX///8AAAAAAAAAAAAAAAAA\n",
       "AAAAAAAAAAAAAAAAAAAAAAAAAAAAAAAAAAAAAAAAAAAv3aB7AAAAD3RSTlMAIpnN77uJRKsQdlRm\n",
       "Mt3eazepAAAACXBIWXMAAA7EAAAOxAGVKw4bAAAAjUlEQVQI12NgYBAyCWSAgQT2TjgbwWJgWIHE\n",
       "nr8BwWb9CWdyd3+Fsw8z9E+AMhk/Muy/cDkAzOYIYLh/gSMBzOY/wHCfgeUCxMQLQB33V4Et5L/A\n",
       "YM2wbsIiEJttAXcDQwxQDgSyljEw+DJowO34wODNo7MNwn7JE8AdyAthX1rFwGCAcCGjAoLNvYEB\n",
       "ADiSInrY6zQ+AAAAAElFTkSuQmCC\n",
       "\" style=\"display:inline;vertical-align:middle;\" /></a><br>"
      ],
      "text/plain": [
       "<IPython.core.display.HTML object>"
      ]
     },
     "metadata": {},
     "output_type": "display_data"
    }
   ],
   "source": [
    "# _delta_round: difference between the phase and the best (rounded)\n",
    "# t-qubit phase phase measurement _b_round/2^t (defined in axioms)\n",
    "_delta_b_round = SubIndexed(_delta, _b_round)"
   ]
  },
  {
   "cell_type": "code",
   "execution_count": 47,
   "metadata": {},
   "outputs": [
    {
     "data": {
      "text/html": [
       "<strong id=\"_diff_l_scaled_delta_floor\">_diff_l_scaled_delta_floor:</strong> <a class=\"ProveItLink\" href=\"../__pv_it/common/9c9bdec0e7b121886b600443d97f4d7b4f29b6a30/common_expr.ipynb\"><img src=\"data:image/png;base64,iVBORw0KGgoAAAANSUhEUgAAAGcAAAAaBAMAAABY01/VAAAAMFBMVEX///8AAAAAAAAAAAAAAAAA\n",
       "AAAAAAAAAAAAAAAAAAAAAAAAAAAAAAAAAAAAAAAAAAAv3aB7AAAAD3RSTlMAid0yZpnNdiKru+8Q\n",
       "RFSc85eqAAAACXBIWXMAAA7EAAAOxAGVKw4bAAAB10lEQVQ4y5VUO0gDQRB9MdG7aD6HCLaireA1\n",
       "sbGIIGhhoRGCxCqCoChIIoiIFkGw0SKHlYiYFBaWgoWFqNdom/QKRtBaQVARJc59kuxtdgUH7naY\n",
       "3bf75s3uAHJbwD8sULaH0KtoslUCenaGSFo0qRaFmJCzWO2c1UXTY0JQ+7AztlWY4PbSieu1mPTr\n",
       "fONAu3RKclFH1GSCWvjQ9RTDSpvPNwHswPeDOzZ42GD/bcnB5/sD7AMXWA8xOa033DmLY8aL8dNO\n",
       "1yYKuWkfw6/USHCGvjynkdID7AEFPTbCqvNddzfom+DYBR26A55g5Oir7j8QgQNecbt6/g9PcBSF\n",
       "Otc4UTvnQG2GXQ3Dcw0+8aIPunchX4b/03Juey3rs5dP1rJ1FLDYBou0f1BzI2Uop6KTAvWD7D2i\n",
       "w4ijw1WMlGs3TAHoEWqOiZV0yiq+5lQ4nqNNNE49ou7XoLB7RXUsY8VchaLZ6kXvueJafLeSySk2\n",
       "5stEDBzTaTebwDixT3A5hamMA9XquyfYnQXOkMIT+SnR07iUvM1XXKnzpnP3miwhAfUHiki7t7zJ\n",
       "hiSg2BosUMAQTQYr0pajUtFacn/0CJFFKrIeQZWVWChryrpRre8JrIseOun3C49kZ6pUDpaSAAAA\n",
       "AElFTkSuQmCC\n",
       "\" style=\"display:inline;vertical-align:middle;\" /></a><br>"
      ],
      "text/plain": [
       "<IPython.core.display.HTML object>"
      ]
     },
     "metadata": {},
     "output_type": "display_data"
    }
   ],
   "source": [
    "_diff_l_scaled_delta_floor = subtract(l, Mult(_two_pow_t, _delta_b_floor))"
   ]
  },
  {
   "cell_type": "code",
   "execution_count": 48,
   "metadata": {},
   "outputs": [
    {
     "data": {
      "text/html": [
       "<strong id=\"_full_domain\">_full_domain:</strong> <a class=\"ProveItLink\" href=\"../__pv_it/common/b8406f20612b43a226bfeda2d7741b729ff432c50/common_expr.ipynb\"><img src=\"data:image/png;base64,iVBORw0KGgoAAAANSUhEUgAAALUAAAAYBAMAAABO/6GqAAAAMFBMVEX///8AAAAAAAAAAAAAAAAA\n",
       "AAAAAAAAAAAAAAAAAAAAAAAAAAAAAAAAAAAAAAAAAAAv3aB7AAAAD3RSTlMAEER2zVSJ3Zki72ar\n",
       "MruaaVGaAAAACXBIWXMAAA7EAAAOxAGVKw4bAAABdklEQVRIx2NgwASeMIa0AwPxgChdjB+gDF7j\n",
       "AuKNJk4XK9xeVhLMxq6LUQlFEWe62wXSzUbTxRkJYZsooipjCSDH3Wi67jwEMz8i2d7hd4GBXwCP\n",
       "2dcFsLgZm643IIINyYB5DGyfGLQYGO69A4IJmGYznvDHYjZWXenoZp9kYFjFYMOIGd7aMIY9FrOx\n",
       "6sIwe70Aw/kJzWwCGGYH4zMbqy4Ms48zMJy/cGMvLBxTvhkQYzZWXRhmA0E91lSA12ysusBmc6Bk\n",
       "Ud7P5JiNRZcViJi1AVmI/QA5ZmPRNR+Y3uc4ARki5SBQC2T1YdHZXl6+qry8Bo/ZWHQxHglg4O1D\n",
       "Vs2N3dkE3I1NFxvIzXzIEmEMnBNINxubrngBtHTCm8DALECy2Vh1ZaGnwekdHe34wyQf4kB5BxiB\n",
       "SxdG+q7///8LXrPPrPcBJyv2BhiBSxe2vEMgLokGxJutTZ7ZzAsYaAFawGXLV1oYzbgaTM04Sn2j\n",
       "OXOAWR4AZUt5Ja8r3+wAAAAASUVORK5CYII=\n",
       "\" style=\"display:inline;vertical-align:middle;\" /></a><br>"
      ],
      "text/plain": [
       "<IPython.core.display.HTML object>"
      ]
     },
     "metadata": {},
     "output_type": "display_data"
    }
   ],
   "source": [
    "_full_domain = Interval(Add(Neg(Exp(two, subtract(_t, one))), one),\n",
    "                     Exp(two, subtract(_t, one)))"
   ]
  },
  {
   "cell_type": "code",
   "execution_count": 49,
   "metadata": {},
   "outputs": [
    {
     "data": {
      "text/html": [
       "<strong id=\"_neg_domain\">_neg_domain:</strong> <a class=\"ProveItLink\" href=\"../__pv_it/common/11daab29f734f33d5a9a3b7497304dd7d5b19a6e0/common_expr.ipynb\"><img src=\"data:image/png;base64,iVBORw0KGgoAAAANSUhEUgAAAOUAAAAYBAMAAAD36yfiAAAAMFBMVEX///8AAAAAAAAAAAAAAAAA\n",
       "AAAAAAAAAAAAAAAAAAAAAAAAAAAAAAAAAAAAAAAAAAAv3aB7AAAAD3RSTlMAEER2zVSJ3Zki72ar\n",
       "MruaaVGaAAAACXBIWXMAAA7EAAAOxAGVKw4bAAACGElEQVRIx2NgwASeMIa0AwOdAOMHKIPXuIBe\n",
       "drLCfcdKMzsZlVC4nOluFyiycwIecc5ICNtEEVWOJYAifzIH4JBQBhF3HoIN/ojkxw6/Cwz8Anjs\n",
       "vC5AyM4wbIK8hUDHbACx3oAINiSD5zGwfWLQYmC49w4IJmDayXjCn5CdjNjSukwLyGOOIGY6up0n\n",
       "GRhWMdgwYsanNoxhT8hOjg3IPJg+ZpCdO7DauV6A4fyEZjYBDDuDibaTC4UXjGwnlwA2O48zMJy/\n",
       "cGMvLHZTvhmQbGcIbjtZNmCzEwjqsZpEvJ1toDhNthDAYifbAZidHCiRzvuZQju9gVj9Am8CFju5\n",
       "QTZZgbizUCKd/QCFdpYC4+Q3A7MCFjtZFwCJ+cDsO8cJyBApB4FaIKsPizHt5eWrystr8NiJ0M+w\n",
       "iIGB77NxEpo+sJ28oIKc8UgAA28fsinc2L1Jgj+BdvIfwJ6GmED+ZAP5ke8ASiHCOYHisOU3wG4n\n",
       "OOvFC6ClW2DUMwtQZudjYJoAJqAAbGnoAZDIQs8r0zs62vGHbT4kGOQdYAQ6yAGnT4kJqPrYfoJy\n",
       "SAK2/Fn///8XvHaeWe8DTubsDTACoxIAYrPdaGUJz6kvp4HqFXCUCQTSEEHAfgGnvukMJNmpTbSd\n",
       "3A049XXD7WReQN1mx0tcEpygJMTQAmZ+pa6dcrgk+EDpinE1mD3jKFXt5DTAIWEJkswBZiIAP+SL\n",
       "N+qkD50AAAAASUVORK5CYII=\n",
       "\" style=\"display:inline;vertical-align:middle;\" /></a><br>"
      ],
      "text/plain": [
       "<IPython.core.display.HTML object>"
      ]
     },
     "metadata": {},
     "output_type": "display_data"
    }
   ],
   "source": [
    "_neg_domain = Interval(Add(Neg(_two_pow__t_minus_one), one), \n",
    "                     Neg(Add(e, one)))"
   ]
  },
  {
   "cell_type": "code",
   "execution_count": 50,
   "metadata": {},
   "outputs": [
    {
     "data": {
      "text/html": [
       "<strong id=\"_pos_domain\">_pos_domain:</strong> <a class=\"ProveItLink\" href=\"../__pv_it/common/4db769ffdec6eafe34439778c44590324f26a8890/common_expr.ipynb\"><img src=\"data:image/png;base64,iVBORw0KGgoAAAANSUhEUgAAAIcAAAAYBAMAAAAi+fOvAAAAMFBMVEX///8AAAAAAAAAAAAAAAAA\n",
       "AAAAAAAAAAAAAAAAAAAAAAAAAAAAAAAAAAAAAAAAAAAv3aB7AAAAD3RSTlMAEER2zVSJ3Zki72ar\n",
       "MruaaVGaAAAACXBIWXMAAA7EAAAOxAGVKw4bAAABb0lEQVQ4y2NgIBl4whjSDgzkAsYPUAavcQHZ\n",
       "hrDC7WdFMoRRiRQzONPdLiAZwhkJYZsokuQSlgAUl9x5CGZ+xKr2ugAWV3T4XWDgF0D1zhsQwYYt\n",
       "eBhP+GMxZB4D2ycGLQaGe++AYALUkHRMQ5g2QBn2WAw5ycCwisGG8QKKS7AYwmqAx5D1AgznJzSz\n",
       "CVBkyHEGhvMXbuyFhVDKNwMUQ8SMG4kwBAjqMUTAhnAAEw9TLcM1ogzh/YwhZAUiZgGDcv4GBiOi\n",
       "DGE/gCE0H5hu5jgBGe+NzRRAjiovr1peXn4AtyF9WFLDkQAG3j6g6j/EBSwDN6ZDGNhAruADSnwm\n",
       "0pAwBs4J6GLxAtDYKQPqJsIQ3gQGZgzhLFgUb2Fg7EQzJB9iJeMXICEPzf3TOzrasUcxyBDm7M1o\n",
       "3jmz3geSASpAcdIATST//3/BbQiWFEs0wJcBSTOEeQEDRaAFnI++UmQG42owNeMoBWZw5gBTPQBI\n",
       "klrsfh/buQAAAABJRU5ErkJggg==\n",
       "\" style=\"display:inline;vertical-align:middle;\" /></a><br>"
      ],
      "text/plain": [
       "<IPython.core.display.HTML object>"
      ]
     },
     "metadata": {},
     "output_type": "display_data"
    }
   ],
   "source": [
    "_pos_domain = Interval(Add(e, one), \n",
    "                      _two_pow__t_minus_one)"
   ]
  },
  {
   "cell_type": "code",
   "execution_count": 51,
   "metadata": {},
   "outputs": [
    {
     "data": {
      "text/html": [
       "<strong id=\"_e_domain\">_e_domain:</strong> <a class=\"ProveItLink\" href=\"../__pv_it/common/d3c7a2162a3845c9bc798f81296d0a2512af924c0/common_expr.ipynb\"><img src=\"data:image/png;base64,iVBORw0KGgoAAAANSUhEUgAAAIcAAAAYBAMAAAAi+fOvAAAAMFBMVEX///8AAAAAAAAAAAAAAAAA\n",
       "AAAAAAAAAAAAAAAAAAAAAAAAAAAAAAAAAAAAAAAAAAAv3aB7AAAAD3RSTlMAEER2zVSJ3Zki72ar\n",
       "MruaaVGaAAAACXBIWXMAAA7EAAAOxAGVKw4bAAABUUlEQVQ4y2NgIABYJkAZjFsYyAbyMMZlc/IN\n",
       "CYGzwvEpY1TCIzmtJBevIZyRENpEEZ8VrgRccuchiGT9CCR4C7HIz2h5y8DwEbchYHmGNyAmWwED\n",
       "g0zLRywufcCQr8C0gIH3HRC8xDQELM/AkA4zhIEZiyE8Exi4FjAfkMXlErA8IUO4PjLw/OQwSMRl\n",
       "CFieoEsKGHj+8nZfgMWTfzIWeUKGAAH7B/yJCCQPNoTDAbch9w3wGwKStwIxZm3AbUgNgeQMkp8f\n",
       "wMAwx4kBpyEcDzDFRMpBoBYhz3gkgIG3TwCnIXsIOAQszwZyBd8BXIawJjDMxGcGRD5eAG/sXGNg\n",
       "MMRnCEQ+Cx7FbD8hGfoLjAAl64qOjgI8ZkDl4emE59SX02CJCjgBTAT///93wJdIIPKIxEYBoJ4h\n",
       "zAsoM6QFHD5fKTKDcTWkgDpKgRmcOcBUDwBiV2aeeR3YZwAAAABJRU5ErkJggg==\n",
       "\" style=\"display:inline;vertical-align:middle;\" /></a><br>"
      ],
      "text/plain": [
       "<IPython.core.display.HTML object>"
      ]
     },
     "metadata": {},
     "output_type": "display_data"
    }
   ],
   "source": [
    "_e_domain = Interval(one, subtract(_two_pow__t_minus_one, two))"
   ]
  },
  {
   "cell_type": "code",
   "execution_count": 52,
   "metadata": {},
   "outputs": [
    {
     "data": {
      "text/html": [
       "<strong id=\"_e_value\">_e_value:</strong> <a class=\"ProveItLink\" href=\"../__pv_it/common/be574d0fa79bd29ed95c42956ecef0235db555080/common_expr.ipynb\"><img src=\"data:image/png;base64,iVBORw0KGgoAAAANSUhEUgAAAEsAAAATBAMAAAAqve1DAAAAMFBMVEX///8AAAAAAAAAAAAAAAAA\n",
       "AAAAAAAAAAAAAAAAAAAAAAAAAAAAAAAAAAAAAAAAAAAv3aB7AAAAD3RSTlMAIpnNuzKJRKvvEN12\n",
       "ZlQ4bmvwAAAACXBIWXMAAA7EAAAOxAGVKw4bAAAAzklEQVQoz2NgAANDBmIA1weilPEZEKOKMdss\n",
       "AMLi1Y05hFsd8wMoY23lBU4BrCYpmQQw8C+A8qQOI9hwEA0UEWFg+85QycAQ4gIEAgw9IDaq95rs\n",
       "gcoaGRhmMpzggrqNYSqDEiu6aeeByuYvYOgX0GGD2sT4gWHrU2zKuhkY+gOCrkJF2BsYjl3ApgwI\n",
       "9hMIL4gy1j9EKeNuIEqZCjapxbtBYCtCGS8hwyDKnjEwChBWxprAwLOAsDJpJSVtApbmA23b////\n",
       "Z/yqOuZbXAAAnz88E2AIXb4AAAAASUVORK5CYII=\n",
       "\" style=\"display:inline;vertical-align:middle;\" /></a><br>"
      ],
      "text/plain": [
       "<IPython.core.display.HTML object>"
      ]
     },
     "metadata": {},
     "output_type": "display_data"
    }
   ],
   "source": [
    "_e_value = subtract(Exp(two, subtract(_t, _n)), one)"
   ]
  },
  {
   "cell_type": "code",
   "execution_count": 53,
   "metadata": {},
   "outputs": [
    {
     "data": {
      "text/html": [
       "<strong id=\"s_ket_domain\">s_ket_domain:</strong> <a class=\"ProveItLink\" href=\"../__pv_it/common/eebd5e7fa2fd775d69cf1fecc5958e68e4dc79b60/common_expr.ipynb\"><img src=\"data:image/png;base64,iVBORw0KGgoAAAANSUhEUgAAAB0AAAAUBAMAAACDsiv0AAAAMFBMVEX///8AAAAAAAAAAAAAAAAA\n",
       "AAAAAAAAAAAAAAAAAAAAAAAAAAAAAAAAAAAAAAAAAAAv3aB7AAAAD3RSTlMAEIm73c12IjKr72aZ\n",
       "RFTgyeMAAAAACXBIWXMAAA7EAAAOxAGVKw4bAAAAp0lEQVQY02NgQAIcuzfA2UKaExl4GBTg/AMM\n",
       "Rxh4zzTA+X8Z6humMybA+RuB/NevwTpNQtObgLQKRIJt1gbG8zZAwx0h/GOXGBi4gfxiAYidBwyB\n",
       "5BwG9gPsBSA+p4ABkJRmKO7oAStgZj8AVrf+/38wXcmhgOxkhibeDSj8Gt4EFD4zO6p6ZrD5CMAL\n",
       "tp8XIXDsJpA4iuCzmR5nfHIASYeQ1ZfjcA4A3QMmCpjYZGUAAAAASUVORK5CYII=\n",
       "\" style=\"display:inline;vertical-align:middle;\" /></a><br>"
      ],
      "text/plain": [
       "<IPython.core.display.HTML object>"
      ]
     },
     "metadata": {},
     "output_type": "display_data"
    }
   ],
   "source": [
    "s_ket_domain = CartExp(Complex, Exp(two, s))"
   ]
  },
  {
   "cell_type": "code",
   "execution_count": 54,
   "metadata": {},
   "outputs": [
    {
     "data": {
      "text/html": [
       "<strong id=\"_s_wire\">_s_wire:</strong> <a class=\"ProveItLink\" href=\"../__pv_it/common/3168b7a9e08a6cf3440f9fee4bbe5179c4ab6bf40/common_expr.ipynb\"><img src=\"data:image/png;base64,iVBORw0KGgoAAAANSUhEUgAAAV0AAAAVBAMAAAAX2iAxAAAAMFBMVEX///8AAAAAAAAAAAAAAAAA\n",
       "AAAAAAAAAAAAAAAAAAAAAAAAAAAAAAAAAAAAAAAAAAAv3aB7AAAAD3RSTlMAEM3dVIl2mSJm70S7\n",
       "qzLMnvg1AAAACXBIWXMAAA7EAAAOxAGVKw4bAAABmElEQVRIx2NgoA1oIFF8gAGbAw6JbYPTva5Y\n",
       "xDhCazYwsE0YjM5lVMAiKM7A8oWBQXEwupcdWyjmOzB+YmCYPhjdy4VNcNcGBqB7uQQGoXudsAuz\n",
       "/GRgYAIHPS+wnOA4MGjcWwoiwtLRg3Iz0K2sF8B5z46BofnBoHGvJhDzPOAuQBV9dhfoQk5IVmx+\n",
       "AHLyYAEmQNzPwIOe60DlA8sCSOFmR2bw/scCPpCk+j+mstUg954E1WWMysYgAHXbegEGPqjhzYSC\n",
       "l580l1EEQO5l/f8VVfAdA8N5BwbuBUS6l97pgYH7PGp++y8Aci+LAWXpAQ8QIFv1MWDwGjDwoxqw\n",
       "FpweOA9gy2+M1KhUP5GsWl4BhBgYYoHlbAKDO6qKmeDylz0AtTyDaJFXoIKDjQVIVc1cAEIMDI8Z\n",
       "GPgy09CKB+5yYHuHgXkDuL4AupUD7EaIFmZDKriXRYBc1cy402YzdmFHKriXlWzVnAU4lVViFw6g\n",
       "gnvFyFd9ApcqHI0GxgQquDeBfNUyuFTxYO8QsQ1wAcyBy68ZFBoMADI9i0i572m9AAAAAElFTkSu\n",
       "QmCC\n",
       "\" style=\"display:inline;vertical-align:middle;\" /></a><br>"
      ],
      "text/plain": [
       "<IPython.core.display.HTML object>"
      ]
     },
     "metadata": {},
     "output_type": "display_data"
    }
   ],
   "source": [
    "_t_wire = multi_wire(_t)\n",
    "_s_wire = multi_wire(_s)"
   ]
  },
  {
   "cell_type": "code",
   "execution_count": 55,
   "metadata": {},
   "outputs": [
    {
     "data": {
      "text/html": [
       "<strong id=\"_QPE_U_t\">_QPE_U_t:</strong> <a class=\"ProveItLink\" href=\"../__pv_it/common/f67892e03d51e15a21694bf8ca4334a80a58121e0/common_expr.ipynb\"><img src=\"data:image/png;base64,iVBORw0KGgoAAAANSUhEUgAAAKUAAAA3BAMAAACfq5ehAAAAMFBMVEX///8AAAAAAAAAAAAAAAAA\n",
       "AAAAAAAAAAAAAAAAAAAAAAAAAAAAAAAAAAAAAAAAAAAv3aB7AAAAD3RSTlMAdquZMt2JIs3vVES7\n",
       "ZhDvy0tZAAAACXBIWXMAAA7EAAAOxAGVKw4bAAAC/ElEQVRYw+2YTYjTQBTHX9p82bQxelMUs9H1\n",
       "AxYs6IoeFnrx4MkiiwiCVhFBERsXFIU99OBFwd29iiiFVdCDtlc9iCc/DkIXEURdKaLirVtxl12p\n",
       "1veStE2bZk3qFDw4kM5kJu+XN29eZv4UgHGRTWBeKm13K+u9lrkmw4S7bcy5nn1rWU5cOHSCMZPX\n",
       "4SprP6NF+MWaKYAyxZo5DZz+iTFzE0S1s2yZag74kRRbZkKz626ZG7a40t83c3v1c3yZr6FX5uk+\n",
       "MNPsmUqSPTOSYs8UIDRT8u1wLGfCM9d2dihau+WEP3P1jgH0YbBuDL0EfvC6YVy5Sd2xDIwdPZCH\n",
       "bYsNFKxvs5Se+DL3ZoAbxe31G8ClHChYqU+p/yte2SIAl7Gf+2yCXHZbink/plTFnw0pkBCWWLAq\n",
       "+EgDI3hN0r7rgAplSCTdlhHf1ZNpUxXSFoyft5lRGqD+mst0GK9bf1oJe6RAU+OqFkxZpEopxiic\n",
       "ObynOXxxHj+I17VgzO0UFd6CgfiDKq5oHTX4LvE7Nt7Zaz5Uw5U8How5SQRpiWDqmhK2DKsH5BKG\n",
       "hObvxDBGj78Jw8RAzp88hi4jetxiCnhT0bGhO0ckxgLuhZi7UgOpZqcBxRPlBaxAcgF9lZzsFCju\n",
       "+wOuEc2N++liqmWpZDOzuEmIjsaqkPcPgzHjU/CIAtdiYp6m7LlnXalUABXgTjCmtBB7rFHOu5gy\n",
       "vUuz0hy2AMEAdsNtgPfBmHBxFUzfsNLJUkDEPEVfHq6NnIQxdLlCy2Oo+JJdAZmwbmAYeGlrfTMh\n",
       "cSsxXpDLPB0MZzbSCglH6DybxZ/DQZloZMa9w6Ot5oPGBprutDR9mZHLr73MV61mpiHjSh796cuM\n",
       "1ateZrzpg6p1nOdu/SnO5rvv83t0L1Ntbrlco/Gsi/7cyeshzo5znR2c6dWf8PwDc/0J+5ZM1vpT\n",
       "Kp/XWOtPoSimWOvPxP23bOPZOEf7oT//dZ38X38yZc70gTnBnrmM/uyZ2U1/1v/y/5Cm/vwNph6e\n",
       "Z/GI8vwAAAAASUVORK5CYII=\n",
       "\" style=\"display:inline;vertical-align:middle;\" /></a><br>"
      ],
      "text/plain": [
       "<IPython.core.display.HTML object>"
      ]
     },
     "metadata": {},
     "output_type": "display_data"
    }
   ],
   "source": [
    "_qpe_multigate = [*multi_gate_entries(\n",
    "    QPE(_U, _t), one, Add(_t, _s), (one, _t), (Add(_t, one), Add(_t, _s)))]\n",
    "_QPE_U_t = Qcircuit(VertExprArray(\n",
    "    _qpe_multigate))"
   ]
  },
  {
   "cell_type": "code",
   "execution_count": 56,
   "metadata": {},
   "outputs": [
    {
     "data": {
      "text/html": [
       "<strong id=\"_QPE1_U_t\">_QPE1_U_t:</strong> <a class=\"ProveItLink\" href=\"../__pv_it/common/c63274fc143c9c204b5c8d49f090bf824063dec30/common_expr.ipynb\"><img src=\"data:image/png;base64,iVBORw0KGgoAAAANSUhEUgAAAK4AAAA3BAMAAABnS2xWAAAAMFBMVEX///8AAAAAAAAAAAAAAAAA\n",
       "AAAAAAAAAAAAAAAAAAAAAAAAAAAAAAAAAAAAAAAAAAAv3aB7AAAAD3RSTlMAdquZMt2JIs3vVES7\n",
       "ZhDvy0tZAAAACXBIWXMAAA7EAAAOxAGVKw4bAAADHklEQVRYw9WYTWgTQRTH//ncdNPGFRFBDy5t\n",
       "wQoeiidFCiF36SraWgTNQUSKmlrQUzXrUcE05KIepAEvgmCiHj0k9CYqRuqpIiYg4kFtrFLEivXN\n",
       "fibrBrfpzsGFnbeZmf3l7dv/vHkJwOOITXHBYqn1w6a1DR02aAr32rgb87FpXeUuHTvFgRuWcZ2H\n",
       "v6EyfvPgRhDP8+DeRUB+z4E7iJB03n9uQkV4JOk/t0/SjKuyuzlsTrN9wCd/Z5wDPnEnOXEVPtz4\n",
       "MB9uMMmHG0FXXMHZMeXgvuqOu93Z8dDBzXXkBgb20pKZPrnc/7yG1EShf+h2zZwjpmngcBG7f0jm\n",
       "7FobV6h24obHgK0U/FEZwi2gIgOf0uacj3RmykTTexLjtoM6N1rsxM2SJ4HvZAn4Lq2ZhGzOGaFz\n",
       "luXuuu4+JfCFNm4QnbjXWHNU544qmoGlSZawf9m3h2gR9NSd+5srV1xh7U5JA1ZUZp7AfDhRJeF/\n",
       "pYsPhqgoHLGaJ27wJ2tHNSAyRWZ2WFNCxIlSjPBG+/jo5byEqOyJG1vVgpxnwMYduioMrdp1DPkW\n",
       "yduBKbF8q66HS4EdO83EmpWFZ9aUCAVkifln+LiPxSa/jjhUqsjqStTia66yHpJYiXwWDPWOMV02\n",
       "vb23b9p7q7Vwv+AyPqsmN0PajuqrN8GeLe7NXzxFvIgJtHCB1+HNihmHjC0zsYk6RMUbN5u+39DW\n",
       "RQtXNe7upecvkV53ka9MHqqYRF/VG1e4Kon7y5rUNMURN5o3uExTsWFMUyiWaDgoN3TteeEiML9F\n",
       "QXJ6dpndkKL0s2euanDDrD07wN5a5AS58ILpruyRS8c4nGnJiOIRu+eBYS866x2hM3fooOLOXbB7\n",
       "0i2pqI0bq3fkltYkd26vtT0kjBlWwrW4KeDcojs3VIA7N2HFJ2BY65ss7gGEkimP+5BwZkX374Jz\n",
       "ZNtf9aSC3ht1/+sScRjhuZv+c6mAuCIc8p9LW+BxcPg9RAXE4tui/9wcnzrK1PP/Uq93Wff9k/uY\n",
       "E3eQE1fhw+2T+HCdydcv7gz4cCdduBv7f0fnmpXyHy6WgKKTcFOfAAAAAElFTkSuQmCC\n",
       "\" style=\"display:inline;vertical-align:middle;\" /></a><br>"
      ],
      "text/plain": [
       "<IPython.core.display.HTML object>"
      ]
     },
     "metadata": {},
     "output_type": "display_data"
    }
   ],
   "source": [
    "_qpe1_multigate = [*multi_gate_entries(\n",
    "    QPE1(_U, _t), one, Add(_t, _s), (one, _t), (Add(_t, one), Add(_t, _s)))]\n",
    "_QPE1_U_t = Qcircuit(VertExprArray(\n",
    "    _qpe1_multigate))"
   ]
  },
  {
   "cell_type": "code",
   "execution_count": 57,
   "metadata": {},
   "outputs": [
    {
     "data": {
      "text/html": [
       "<strong id=\"_QPE_U_t_circuit\">_QPE_U_t_circuit:</strong> <a class=\"ProveItLink\" href=\"../__pv_it/common/438c2682272f3c34ce9e4314855be3ae59eceece0/common_expr.ipynb\"><img src=\"data:image/png;base64,iVBORw0KGgoAAAANSUhEUgAAAPQAAABJBAMAAAD4VRZmAAAAMFBMVEX///8AAAAAAAAAAAAAAAAA\n",
       "AAAAAAAAAAAAAAAAAAAAAAAAAAAAAAAAAAAAAAAAAAAv3aB7AAAAD3RSTlMAdquZMt2JIs3vVES7\n",
       "ZhDvy0tZAAAACXBIWXMAAA7EAAAOxAGVKw4bAAAEW0lEQVRo3u2ZX2gTSRzHf0k22XWTrLEvoojG\n",
       "aNViwYqKigiLcg/3FkXuPAStoKJF21ioKIjkwT8o2vZBEO/QK/TlXjRRn+4ejnIHhyJiSxWhoqwi\n",
       "4os0FS1trcbfzG52J7ubEq8zUcGB3W1nvt3P/ua3v9/8dgrAvxUrtQKIboXPHviO/o7+xtHLvya0\n",
       "kqkRer5rIAPD7PDM4rRaYQr07X9/LR/ohD/K0Lxs9bG6tXxASh7ZvqdGaJevQ3k4J8pqqf5yqvGX\n",
       "q3DqfP32xlN9FsiWhAE+Cpvw6CQeF2ECAh9A7XajeyHaLQwtv8HTkJYkaOiDu+WSxRBIvhCKfib3\n",
       "U3SrC61lIZRoFYiWjYCUp+hHaCYriSdA2qgLRMdpviJogLVlEsVwVzO8yiIL3cGg5/tIhFk9nupi\n",
       "0OWSFvff8p7wUEV0WjRaZdBnWEm0STTabBStFVhJUK8hWs2ykjAIRUuTDFree1pnJANC0dKy8RSl\n",
       "3WoYX6SD0sNKOsVa7bq1wQzIfbVE/8kORHpqia7TGF8H4f+hZXdHphr0yogxZTFcFXquu+NGNejN\n",
       "D6AqdN2qhWhdfTHVeI8WOqmzV2yN2gztu7b2QMNYohQ8/dXUZlAV+odmCGzD8MCccCwLUbxo/9ma\n",
       "V3i05RHYbK75PzuhMn20PIKnBTpNR/FRMys9tzUb8egiJaUZLSoWd4Pc0Aqp18JpypTemeiQrSGD\n",
       "k85bGsI1aIbBC50jUxkYoczoGLlE86rtaszFUTItL61sjGKlnxd6BQl4iTIhMkEugbwtCSEq8hZ/\n",
       "eEx/vXn/nwREkrzQXXlaYxCmNqefVhsOmlgYJpNurbg5UuNl3fed+dk7SCwanfxu3+4euvgdd9Bh\n",
       "7BkmVlqWriNO6J7+dzsz4fjtIJurHvW1nbJm4FPk0HLZiuqfiHMKvNC5JnORddCagZX862wJ3Ybp\n",
       "OGI+i/aePCY3q2Pd8Bfxp4NGd+rSrHRpwtuc2FILYICa5oWWR9W/EySlMGgFLEAMJzqHcbwULSYv\n",
       "fFbVId7HCw1HZ0HvbzS+6Ec4QR8ooUkgKU3QjnM+jB4IJp+ZAccJDfMWrgFJXlZcQsi4iqTuTJbQ\n",
       "EjkfXEResvBOnJJ7JNjy/NB4t0zMPWh5dJvTc926dgBPdPDkwwroQaenmVlR+KHV4kgFdMwuSjQr\n",
       "tO0ijw8a1icroDW7mgxYV/thOKG9Jdn+UdPKw+6R2SAYPZ1N2S+FzlRV1wpBd0LkibfkVww4NCQY\n",
       "LSVhteR5Z2EThPRNgtGhPNx+6u3eALELhmA0fkr/OO71dxqk3y8JRveCbHQkPEmiCU7IWwSjF+Pq\n",
       "EvHsXwR12AF7xKK1LMSvDXm68RtmqOy9F4COJ3ylAzVIKYpRIdhFbVRW04Rb3eKr9O5oCECnoUKw\n",
       "C0d7dyRpu1UDtHdH0gp28eiwvzJdA/SAr9An2PmjO32FPsHOHe2zI0nacZ8Cide/UyvH7xTBzrcF\n",
       "/btLRcsna8Z9pPhrLfQAAAAASUVORK5CYII=\n",
       "\" style=\"display:inline;vertical-align:middle;\" /></a><br>"
      ],
      "text/plain": [
       "<IPython.core.display.HTML object>"
      ]
     },
     "metadata": {},
     "output_type": "display_data"
    }
   ],
   "source": [
    "_inv_FT = [*multi_gate_entries(InverseFourierTransform(_t), one, _t, (one, _t))]\n",
    "_QPE_U_t_circuit = Qcircuit(VertExprArray(\n",
    "    _qpe1_multigate, [*_inv_FT, _s_wire]))"
   ]
  },
  {
   "cell_type": "markdown",
   "metadata": {},
   "source": [
    "These assumptions are needed for proper formatting of `QPE1_U_t_circuit`."
   ]
  },
  {
   "cell_type": "code",
   "execution_count": 58,
   "metadata": {},
   "outputs": [
    {
     "data": {
      "text/html": [
       "<strong id=\"_psi_t_circuit\">_psi_t_circuit:</strong> <a class=\"ProveItLink\" href=\"../__pv_it/common/1f219d19e809845fcf6a07349c7a41ca7580d8fd0/common_expr.ipynb\"><img src=\"data:image/png;base64,iVBORw0KGgoAAAANSUhEUgAAAS8AAAELCAMAAAC/PfDKAAAAOVBMVEX///8AAAAAAAAAAAAAAAAA\n",
       "AAAAAAAAAAAAAAAAAAAAAAAAAAAAAAAAAAAAAAAAAAAAAAAAAAAAAAACXHtMAAAAEnRSTlMAIolE\n",
       "djJmVJnd76u7zRCFpa9QsacGAAAACXBIWXMAAA7EAAAOxAGVKw4bAAAItElEQVR42u2d67qjKgyG\n",
       "EUE5KDPD/V/s9oD13ErBXcWPP2u1j9TkNSQBiRKC1jVTBv5AtvUlTxVXYavAX6D5xpdVBGD2p21b\n",
       "JmE1OYNXKSLw+qUdbZ+cBVvXDi8iU+SVW2ti8sqL8dsyQV7SUhKTV8nGKFClxyuKee3wInWWHC9t\n",
       "a3Iar5Imx0tacR6vcI9/OV7WshN5iRy8dnkJ2Taluj99Ssd1aOL5U16brTjRvoId2AXt60xewQHy\n",
       "WbzCE7Bn8QpP8J/FS5IEef05jVeEBYoL8vobl9dkvl1l4PWR19hMTTAePXixIkleMfw921p61gS8\n",
       "riByAuPxSbxgX+AFXuAFXoiP4AX7Ai/wAi/wQnwEL9gXeIEXeIEXeIHXNyf/94+DF+wLvMALvMAL\n",
       "vE6Zb59Wz5f+frmxRannexCvJOv5TuSVZD1fdF6J1/Odud83xXq+M/f7pljPd+p+8gTr+c6th5Hg\n",
       "5cUrxXq+aLze1vOB1xH7Gh1YOvWPJ8ZH1PP58UI9nx8v1PP58Uqynu88XmnW8503306znu+0+rRE\n",
       "6/lOW/9CPd9uQz3fRRp4gRd4gdfuybGfCfYFXuAFXuAFXmfNt2Ff4AVe4AVe4IX4CPsCL/ACL/AC\n",
       "L8RH8IJ9gRd4gRd4gRd4vT857tfCvv4/XrsbKDl4bfGie/U+FQevT7xmhS0CvD7xmhUvSvDamG9P\n",
       "eZnZi+gi1GInbl/lzGUdLwWS4pm8FrXER0vNTJQXlt6Jl2Gi6Hmxidc6XIttnjYeKSlVo3bRvprb\n",
       "/Njj34AXL4lo2BTt+FOTkRhci51ofGxMSjHnvkTnkFyKr8Fr29+X7TCkQ0pR1p4O7HG8REMoa/Mt\n",
       "ZkhGZU25R4B8Xnwkosm1isbE8u5TXfolYM/Lv3KVtcOx6B28i5G/SfDvka9yTSvG+vGXq19OIO8y\n",
       "f+Qva2KaGP6zBYq7zIfYK1EVjFATpRY7ZV5j7sBFwePUYidtX4vDWAFeG7zY3rKzJuC1wetyDfuZ\n",
       "nmZf2YlHn8kr8z8iBi/ml+bn7CK8Dsi9kjUCr4OLFBmlosojBNalyEwLoXu9Mi2t1VpXVdFNSaRS\n",
       "zSddK1XsyN32kLoFp5Wt11dyKWs4ryENM/KteZt2MlDa7pLWJh4vLrvLxWQfxrntwnamOqny/hMx\n",
       "Fd2Vm1qXMLH5MU6fhazhvIQ7uLRvKbAWlVvYKUQ0Xpllw+/z/nNPqLB08okYvSt3PfyemMvv9FnI\n",
       "Gs5LDad7P/vOVXsZ3UKYMrF41cPpiZRTXtzKKS8iduW21XY+OegzlzV4P9Ow1ErkATdWuitRjxdE\n",
       "u1F8/Gamnf0gHQ2YTQjl3ZXpP7VrduWe3PlgoGYh/6BPXUS1L9H9bK4rW+lPgS+X7ofpeC2z3vG4\n",
       "P768tH2B4BNCrVcqX59Yvit3e6A7cTE9aqIP1VF51S/39elIzrQeZJtM1TtSHrhmItc2Hz2ZehEy\n",
       "rA+IzXdNdLT5G7ml2h6xL32KOiov6S6wOLJa4eJjdzNzCswH1z6v3mNJSumQWXX0sirfl9u8PNzS\n",
       "fQ36zGQN56XylfsytRzbHITqgw6fxzi5i+vT830n4zHvHHdmq1n0HPzXKlN3cg8elWRs230tZN1+\n",
       "vq8/L2M/3LrlHZKq1y9XB3l99vdi9PfFDi/TXKOsaG/P1yu5X+6LzoGO+uQH7OuP93jshvu7LMF2\n",
       "luV4lTLSeCRVq01evhzRFq/OC/HGf073fji5qd0ejqM+M1nDx2PFXsO9fKe00pPxWFSR/H1DhJIy\n",
       "N2zMV7d51UvVndxDlu3SGjN1X70+RRWVlwu3Wi820y1bUUy8haCR8ommY81Ye+vFjS8+uzXMB15U\n",
       "LXkNaUItulkkd6Nw6D3qI2hUXly6dLP40CkXQgyRSo7Obkgxsvo7Xo3jahKlLhnnjd51M99+eWo3\n",
       "+9aV6q1uyosP/9NKCzZOEgxZ6CPzuPMh6b9NOgu6cbmZ6LWT448zhJkr2pa7NO9lDef1xeRZFNF5\n",
       "6ZoX0ovXttz0g6wR1qO9b0MGPgLfbmfC1jIvXptyr3zwUtYI64XGV/3A+7zbEy+hPt+vmvPakpt9\n",
       "kjXGenTmt8DMAhfwv12PzmhtKfOTeyUr7qeFnxy8wOtcXrhfC/sCL/ACL/ACL/AKOzmeP/Fr+3pS\n",
       "fUeE9qj6oSjAMB7hv8AL823YF+IjeCH/wngEL8RH2Bd4gRd4gRd4IT7CvsALvMALvMALvC7MC/dr\n",
       "YV/gBV7gBV7ghfk27Au8wAu8wAu8EB9hX+AFXuAFXuCF+Hgf+9p8agIHr722+V7SGO8kfRKvGK/8\n",
       "SNR/bb/3VibJ629cXvlorxFeWZQ+r3J8UE3gs5me4b8mvA6/kxS83P8UvHx4hXv8h/EKfidpyrxE\n",
       "90xkpbo/7sn0ejzPd+2nvEKfh+xtX8EO7GHjsc7S48XO4xWegF2Ol7TiPF7hCf7leOko5cM7vCRJ\n",
       "jldurTmLV4QFisvxagYki8prMt+O8E7S6/HKrTIxeY0txjtJr8eLUKvP4RXjnaQX5NW4/GA/s/le\n",
       "Uk3S5EWY1eSi7ZK8SFaC19VODl7gBV7gBV7gBV7gBV7gBV7gBV7gBV7gBV7gBV7gBV7gBV7gBV7g\n",
       "BV7gBV6ntNXWJf4UXt9pvtqhU/GH8PpO81WvUjyV1yHN1zvA5FN5HdJ83YuWT+V1RPN1rwjVjzfl\n",
       "dUTzjR2Z4dWPN+V1RPOul2Gi27Oqux3E4dWP9+HlrXnXi5JSNX8KG83j34WXt+ZtL14S0R6p3Uby\n",
       "4OrH2/Dy17zt1diiaosflKuACK9+vGL941K095q/93p5W1yTWZfgRnBgt/H3vpr3vTqjZDZegLwN\n",
       "L1/N+15Va4dVRQoTKQG7DS9fzR3lphdXlNBYCf597MtT876X0ZSVme7LYyR5EC9fzddZbpQFilvm\n",
       "90c0X/eKUP14U15HNF/1MjV5KK9Dmq96sSjPkbQ/bd/xOqT5qgLysiWCsdu+5v8BRO6gkOVxr2YA\n",
       "AAAASUVORK5CYII=\n",
       "\" style=\"display:inline;vertical-align:middle;\" /></a><br>"
      ],
      "text/plain": [
       "<IPython.core.display.HTML object>"
      ]
     },
     "metadata": {},
     "output_type": "display_data"
    }
   ],
   "source": [
    "_qpe_inputs = [ExprRange(i, Input(ket_plus), one, _t),\n",
    "               *multi_input_entries(_ket_u, Add(_t, one), Add(_t, _s), (one, _s))]\n",
    "_u_outputs = [*multi_output_entries(_ket_u, Add(_t, one), Add(_t, _s), \n",
    "                                          (one, _s))]\n",
    "_psi_t_circuit = Qcircuit(VertExprArray(\n",
    "    _qpe_inputs, _qpe1_multigate,\n",
    "    [*multi_output_entries(_psi_t_ket, one, _t, (one, _t)), \n",
    "     *_u_outputs]))"
   ]
  },
  {
   "cell_type": "code",
   "execution_count": 59,
   "metadata": {},
   "outputs": [
    {
     "data": {
      "text/html": [
       "<strong id=\"_Psi_circuit\">_Psi_circuit:</strong> <a class=\"ProveItLink\" href=\"../__pv_it/common/72940ef27560b69941894a201bb6405efb8392680/common_expr.ipynb\"><img src=\"data:image/png;base64,iVBORw0KGgoAAAANSUhEUgAAASEAAAELCAMAAACh9MB5AAAAOVBMVEX///8AAAAAAAAAAAAAAAAA\n",
       "AAAAAAAAAAAAAAAAAAAAAAAAAAAAAAAAAAAAAAAAAAAAAAAAAAAAAAACXHtMAAAAEnRSTlMAIolE\n",
       "djJmVJnd76u7zRCFpa9QsacGAAAACXBIWXMAAA7EAAAOxAGVKw4bAAAIU0lEQVR42u2d2aKrKgyG\n",
       "EVAmZe/N+z/sccA61qHgqcXfm652lZp8hiQgEUKefVjxedts7cM8MUCFKz9vTNnKh2UERO4bx7oo\n",
       "0hkSmZCQEQh9wVbWz8lDLOgNIaISIsScs5EIsWL4VKRDSDlKIhESfPDfZTKEQk3oDSFSZakQMq4i\n",
       "VxASNBVCyslLCIX76rsQco5fQ0gyEBoRkqo5tG5fuuwqN6Gp3zcIrR7FNTYU7IjuY0MXEQoOZqkT\n",
       "Ck+IUicUnlSnTkiRdAj9uYJQhMH9fQj9jUZoNHItMxDanP2wFUEv2yTEi5QIBSrD1yZcDQGh70j7\n",
       "k73sAYRgQyAEQiAEQohlsCEQAiEQAiEQQiyDDYEQCIEQCIEQCH1+zn//chCCDYEQCIEQCD175HpZ\n",
       "9VSKK6yGI0r1VNKEUqqeuoZQStVTMQmlWT110UrPhKqnLlrpmVD11FWrhdOpnrqsakGB0A6hhKqn\n",
       "YhDarJ4CoXUbGhzRz9eXXRPLUD21RwjVU3uEUD21Ryil6qlLCCVVPXXJyDWp6qkraoPSqp66Yn4I\n",
       "1VNjGKie+tYBQiAEQk8hhNUxsCEQAiEQAqHHj1xhQyAEQiAEQiCEWAYbAiEQAiEQAiHEMtgQCIEQ\n",
       "CIEQCIHQxjlxRxE2FJXQrXb8uyWhy2pWkyMkTKl1abol0TFqVlO0Ia1ff6qnE/ozIyRo061UwyWj\n",
       "Db4INauJ2VCle0JKNfvjHS/RUPIZhKjLO0LW7/52tMzHuuoZhAonOkK539vscM2qfUgvE81HDSHW\n",
       "/0/BD00ItZ2rIcSdT4WCa1bTimV1jqg7Qqp3K7mBDU0I2Uo2hKjq/Up48XxyGSM3TpuhWuxgMHtM\n",
       "LOuc88g7H06InpIPdZ/r0cdfSapvPnKtnOtHrt8amN05ls2OLw3uf2d+KEbNatqEbEVAaJMQL0Bo\n",
       "gHFVzWoyhG51YHVMijZ0LqZ9/ek62fkvBBLi51Jrxr9LaF/cpYRhhA4O8DNKZckiBMG5tNxI6UfT\n",
       "mVHOGWPKsjlFbpTW9TtTaV1MxW2+qNqxgdGu4rthOohQnxZZtWm9tknAhWuvX2XjEcpVe4G46sJt\n",
       "7toQm+lWKta9I7akc3Gp8xkMn1xgr8VcwiBC0n9PuE29eQPHT4MUMhqhzE+Z9/OemWdSODp6R6yZ\n",
       "i1v1PyMnYnst5hIGEerH+nJ7HMt0c838RJG2sQhVejot0zPJnRoTInIuritX07pei5mEIatjRD/2\n",
       "UAfckfDYq4G+8X3z+M03N/lBOhgpHzFh7bXo3rH62oiZuKy3PTsVu9eiKqLZkGx/kpnSlWYvSDHl\n",
       "f5MOFy7rHIh/OUvIuFdgykdMGjcjXu84m4vr7/21/Wn0z5EW1EQjVL3c0N43c25ML9Zo0NuyOQFo\n",
       "Im3l2OCR9IuJ5V3wqj+rI5ljS3GVnne/qRZFFY2Q8hdRHhnp+1hGhCYTRGcAvSfUeR5FKe1TnpZX\n",
       "VrKFuPbloGZuqNdiImEYIc0WbshWajimqusuVOTTeKTeAtp7pueol7HW92aunES63g/1ebIXt3eI\n",
       "JOOrbmgm4Ztnep4iZN3OzcW8hVB2GjF9kNC+p5aDpy7eELL1VcmKibgvN0QnSdygBTtiQ3/O9LK2\n",
       "A2/FcNdajyckVKRe1t7kJEy8PMsaodav5BNxqVvtZIMWQkXrZSV/dWCxpaY2o15WlJE8dc2AEsEs\n",
       "HzLGdULVVNw+vfW5hh25oU6LooxGyIdFY+oAsvW9ohh1f0kjRfu6YcV5c1PBd598cvMy7wlRPRWX\n",
       "VLIdneW+c/lGgxaSRiOUK5/wFTvfZ1LKPqqowWn1CUBWfUaodkB1CtOmwnmtclWPXF/e1o9jTalf\n",
       "lpX3vYeWRvIhH7czLRSLN+pQ55fEZkE32lYTr2bAWX4urrDbEgYR+mAYKovohEyVF+pzcemOhGGz\n",
       "sKdvmwU+otqt56LO8Y/FnbvQhYRhM2j2rMKBdyLXhzdSm8/F5XsSBs7CZuemVXngRHXoLOy+uEsJ\n",
       "cTfok3OCEAiFE8IdRdgQCIEQCIEQCKVNCPX2/6sNpb8mP/B4QF1HMCL0MvghEMLIFTaEWIZ8CL0M\n",
       "hBDLYEMgBEIgBEIghFgGGwIhEAIhEAIhEPp/z4k7irAhEAIhEAIhjFxhQyAEQiAEQiCEWAYbAiEQ\n",
       "AiEQAiHEslvb0GX75iVD6LJ989ImFOPR+sn4ofVn66uUCP2NRogN5hhhi48UCYnhSRuBz41J1Q+N\n",
       "CB3eN++5hMK3q0qdULivTp5Q8L55aRGS7ZNPtW5f/JOjzXCKz45vEAp46ulpGwp2RMn3sipLhhC/\n",
       "hFB4QnQXQsrJSwiFJ9V3IWRCKy/fEFIkFULMOXsBoQiD+7sQqrsZj0VoNHKNsG/ebQgxF7SrxnX7\n",
       "5t2GEKHORCcUY9+8+xCqnXWI07hs37wbESLcfWsnwF8hRDIBQl87JwiBEAiBEAiBEAiBEAiBEAiB\n",
       "EAiBEAiBEAiBEAiBEAiBEAiBEAiBEAg9nNBiIUyeMqFPtF2s/ijzhAl9ou2ijZBPInRA2+UKIvUk\n",
       "Qge0Xbah4kmE9rVdtolQXfZDhPa1XVmnF15d9kOE9rVt21gu27WLpl02Gl5ddm9CJ7Vt21AidP1S\n",
       "uGi++s6ETmrbtMkFkc33jF8mHFxddmtCZ7Vt2tTWppuV69ovXw+vLrtRfdlEnG1tt3wXa6ofMucT\n",
       "zAiO6Nae+py2XZvW7LiLF8xuTeictl2bsrG0siSFjZQQ3ZrQOW091bpNrimhsZLqe9vQKW27NtZQ\n",
       "LjLTFTEokjihc9ous8wog/ufyan3tV22iVBd9kOE9rVdtLEVeRChA9ou2vAoD59z3zjIJdouKszu\n",
       "WIsV7Xin7X83357J5mUQvQAAAABJRU5ErkJggg==\n",
       "\" style=\"display:inline;vertical-align:middle;\" /></a><br>"
      ],
      "text/plain": [
       "<IPython.core.display.HTML object>"
      ]
     },
     "metadata": {},
     "output_type": "display_data"
    }
   ],
   "source": [
    "_Psi_circuit = Qcircuit(VertExprArray(\n",
    "    _qpe_inputs, _qpe_multigate,\n",
    "    [*multi_output_entries(_Psi_ket, one, _t, (one, _t)), *_u_outputs]))"
   ]
  },
  {
   "cell_type": "code",
   "execution_count": 60,
   "metadata": {},
   "outputs": [
    {
     "data": {
      "text/html": [
       "<strong id=\"_phase_circuit\">_phase_circuit:</strong> <a class=\"ProveItLink\" href=\"../__pv_it/common/7d2b100a7896c8a304fe9af1607aa09bce3cae0a0/common_expr.ipynb\"><img src=\"data:image/png;base64,iVBORw0KGgoAAAANSUhEUgAAAc0AAAEPCAMAAAAXu2+QAAAAdVBMVEX///8AAAAAAAAAAAAAAAAA\n",
       "AAAAAAAAAAAAAAAAAAAAAAAAAAAAAAAAAAAAAAAAAAAAAAAAAAAAAAAAAAAAAAAAAAAAAAAAAAAA\n",
       "AAAAAAAAAAAAAAAAAAAAAAAAAAAAAAAAAAAAAAAAAAAAAAAAAAAAAAAAAAA268pkAAAAJnRSTlMA\n",
       "IolEdjJmVJnd76u7zRDhMNfb4yDnhVBepa9AwenR1dnlcGChk0RtkDgAAAAJcEhZcwAADsQAAA7E\n",
       "AZUrDhsAAA1GSURBVHja7Z3ruqsoEoYRQUGE3Xs/3asP03PsGe7/Eiee4iHGGEWQ+NWP3p2sBIp6\n",
       "U1CUWBICWRS7SmCnSGg6+xAENCGgCXkflEnc0DT54cNI5t7koDmQkjuhmdny8GHQdEn/w6NEx3IE\n",
       "zVQ5mWmFVSQMzVx4WolCrH7vflMnLobEPHjmE5pEguZ9gqQuhpRaa/zSTLP+3Rw0W/n2k4shSUuJ\n",
       "X5o562OjEjRb+3znDpr35JpPaA4Wi2vTND+Ui+aV1SQgzZyCZo3hR+KieWlFSJr746CPoMm/UzfN\n",
       "WxaUpkhBk5CffzHx0RSykqKo/2kWCq72pgFC0HSUd+jf/nKVEMmC+ubuhTNW3xyi/bUYgd7jm2Fp\n",
       "7g5q46Q59tLit9Fb0dLcv+GMkeZkwv36docRN839yaAIaU7X+j4N1PwlWpqSXI/mFCbNhjh20vwK\n",
       "SNPBRZToaE6/bPSrT7xD83ffNAdZ9zK5HM2H76rUYfP+aT79WV4ye8BLl837n2l7YRlomsQpTT9R\n",
       "EJs7NKIIaLpt3hPNE1r2I2l+gSZ8EzRB8/I0Dz7gCZpx9AmaoAmaUdNETAvfBE3QBE3QBE3QBE3Q\n",
       "REwLmvBN0ARN0ARN0ARN0ARN0ARNN/LHHxw04ZugCZpXp4mTJB9F8+gfC2iCJmiek6afrPthFU0/\n",
       "h6aD+rQB7sbtxUlF04+h6aA+bVCaqGg6EBf1aYPSREXTgbioTxuAJiqazomT+rRhq1igouldnNSn\n",
       "DVvFAhVN7/ZxUp82cIUZVDRtdydu6tOGrsyGiqa1OKpPG5omKppW8jfpqj6tR5qLFU2vTPPPvxvy\n",
       "Cb7ZL5zXq0+75v13JWhMe9WKpqPytOQf/xy9RkXTuGiOnTH7Vzp6ExVNo6I5WR7+/ecdRtw0r1jR\n",
       "dPp1+p9k8e/R0LxkRdPJt8elI62NN+t+xYqm0y9PKpraaGtgoqKp84qmAa9voqIpKpp+YC4oNpon\n",
       "tCxogiZogiZogubbgjv+/NLEXUUfRPNoxUATNEETNEETNEHzDZqoswffBE3QBE3QBE3QBE3QREwL\n",
       "mvBN0ARN0ARN0ARN0ATNm5hMaWndipTl6zuXEdM67zPXmnHjvleTUqkS+KbPPrkW5rieuVYGNL31\n",
       "yRzcWrMoqUxB01OfShzeudEZaHrp8/tfPrr/bwmaHvpUuZ/+KQXNw/tk1JcC5ZOfDU5HO+vTSG8K\n",
       "POtq2Td1Apqr+xS5Pw2e3Pm6SNNY+ObqPl3cKL5e5GuaU0/MVyjIQbORzGsAMp/lG9Ec386eUKnp\n",
       "S1glB83GEManCqlYSTMRQjeM9IqVIBeg2cQYfnWQ8zS/JjTrYmnUVv9rzdZmr0czUX510Ot8s0nT\n",
       "F8XNm4tVW9m3QzkpPpBmunGzudUYsxP7I82i9khlE8IUMa9XxbcLHxqrP5CmZdt2jluNIew636yn\n",
       "TmU5EYzQFXPt25tSQz6R5sZRbTVGso5mOwHcPsxFNuuavH431bbx9pySgHIamqdQYp4mX5o46pme\n",
       "6yxVNHwcBJqLMW0DaCFCy2vXrD9QDneyYdKAoPnSN0W5sFrXDpmZu5e2lfYDpQFB8xXNTC1F0uz+\n",
       "H9NMx83Cma8Nzj40pt0YBG02xlqaNZ0kWVo203q2bc8zVVPsujTgB+83t+qx2RgrafLa1djT0Flk\n",
       "DVGj+HDDqXNCTmJZzLR3mokUlSwEqlozzTPRHR5rk0HWgOb5Ytr2kPbSdJ7dPtM/K6nhvi4NCJoh\n",
       "9psvRAy+1F5EWZcGBM0T0iwG3NrjwCvTgKB5Opp80FJ3gOJZGhA0z06TDUIkFvgEJ2g+o8lWelcy\n",
       "+JwioHnOmDZGAc1nvulGkgM/fYAVk/c/8AbN44zhhyZ7LyeUsrA0X6v7qOF6mgcawwvNldeuE0pF\n",
       "mToIo6aDYkoI1RglUdJapVRZVl1wJYvi9krposjG6lYflPUtQaqw+sGiDxqupnmkMXzQ7DYsRi7O\n",
       "GqZKOeS2/uVq444mb1JUTPJ2K1UHaUlRa5U2r4gp6VTd5owimd4Z1I5iquFamocawwfNLkuUL6dt\n",
       "WaV7ezUoE85oJt2RCWZ587rhl1k6eEWMmqqru2bGt7m3o5hquJbmocbwQbPL1orl4yVpUZ/XbX67\n",
       "hXFFU9+TxVIOaXIrhzSJmKpry9kNVzeKiYZraR5qjLkOHd/xd79kLVesGHn7Sxrc+t3V3Fh/rNOO\n",
       "GqT9750N+KW1qZpX6c10+UTdtPNpM1a7G8Xk5vSVNI81hgffFLXeqSptqV7FZ6lsu6a9QyTNgtf+\n",
       "8y5NZe8hJB/wq5bF/P6KpVN1q7+3/WWDPw5GQdUWmscawwNNfV8pXn2SM6U6Ew6uvtWqvwFzNCht\n",
       "034FLe78DGuC2Nt7t4jWpo/qymI6BY9HkektNI81hgeasnUOsea0SxvGkXx4afSm/Dswn9NsVkpJ\n",
       "Ke02fTXbpEwf1DX3BXWybHajyIstNI81hgeaRfqwUhgtexlr1twkMbokU43gKcxXD90azLRpHdck\n",
       "thxFvN262SVdWnW7NYskbHbZnGhIVj78a8YYC9ZwYoxDaBr74mpMc1y+bKw/PrawMIDXUVB/sLAe\n",
       "1xxNczNako3UvS+bdLQv7EeRbvLNY43hIeveTi71SrFcQsz0A8ilo5mWlJUp0vy+Es7RrBcnPlKX\n",
       "2tmJth9FLnfMtAcZw8NMW7L7SpEvISnUYHLJSkdR0I0XJXlqWJ89mKepx+p2u/t2S2AGy2Yziqzc\n",
       "QvNYY3ig2cbXSnUnp59IXSSgW64EdbRDuX1RM1YdVWonOT46rMY7mrQYq0u0qLO1vJ0Z2y/1oxB0\n",
       "C81jjeGBJpftfvdVTYdUCNFFl4M6gF2cnuhtNKuyhYrVuRd+w6OtVfdIps3Bq7K4eyzvpjVaKsH6\n",
       "PJKZjGJSqXAlzWON4SOzJ99PLSW77jGb3ctVWe5yu7q5WdZwbWbvUGP4oLkhhS4y5zSV5pncri59\n",
       "oeFamocaw8tJkrfrs759p/0Kmvlt58U2qztd5R40XH1980hjeLlabcqj8a+wIhGF2q4ue6XhappH\n",
       "GsPPSZLkvaMhbOfBIHu4uo8arj9JcqAxPJ3y8is4sweaoAmaEdDE6Wj4JmiCJmiCJmiCJmiCJmiC\n",
       "5llo4nko8M19glpeLoxxEpqos+fEGGfxzc+sHe3bGIiCsG6CZkw0kXV3Y0jPhcwS+OaBfebMrw6C\n",
       "I6Y9rs+NT7fZbIzXT7fBfnN7n1ufPLXVGK+fPIWZdkef53gqHGi66fMcT2xETOumT3a2p6mC5o4+\n",
       "T/ekY9Dc0+fZn0IOmu/06dE5zZNbpkDTXZ/M28MOyxw0D++z9DTX0mc/G8S0Lvv8518+uv/f0zvP\n",
       "4JtO+1THT7amfJ4RBk23fdLy4KeQpnKh+hBoOu4z1eLApBAv1dKvBTSd95lrzY5wUMOpVssNg+YB\n",
       "fZpMaWndipT6dXoCNCPpc5XgdPQn0YRvgiZogiZogiZoguZVaSLrDt8ETdAETdAETdAETdBETAua\n",
       "8E3QBM3Iaa67lgmakdA8+scCmqAJmuekiZj2JDRNEo1vzp4146A5kJJHQ5OmS/qDZvW0chI3zVyA\n",
       "5l10Es+6OUuTSNDsJKNOoqDffdNM+9mA5qDZyref4qQ5qHq18/l+H0STfucR7TfnaQ4Wi2vTND8U\n",
       "iZ9mTkGzEvUj+QCa++Ogj6DJv1PyCTRFCpqE/PyLiY+mkJUURf1Ps1Dwfs+8UULQ3C5P2vly1Hxg\n",
       "39y9cMbqm0O2v45BxzvT7g5q46Q59tLit9Fbe2iykDT3bzhjpDmZcb++jRFvb15aEZLm/mRQhDSn\n",
       "a32fBmr+sr15ZXVImpJcj+YUJs2GU+Wu5lPr52EB8zQdXESJjuYU5rjYYvXXHUOSfhbO+ay7g1JJ\n",
       "sdF8+K5KHQ4ptYXxS/PZz/Ka2QNeOh0StSoUTRfFs2OnaRK3Q1I+wlo2d2hEEdB0PiTmxTtPZ9kP\n",
       "pUmSHDQ/h2bMApqgCZqg6YDmWS/ygSYENCGgCZqgCZqgCZoQ0ISAJmiCJmiCJmhCQBMCmqAJmqAJ\n",
       "mqAJAU3QBE3QBE3QhNlBEwKa55SHu2c4aD6p2xsBhYe7xEoOmkRXt1vSLPN174grCg/t5AI063JJ\n",
       "gg/KJvmmuZHC4x2cEjTrUmalzgwJRXMjhcd2aH55mrUpeWGLJBjNbRQe23FQnTZymvU0lxiSSBaM\n",
       "5jYKM/fK6+TiNFUVgsibYSgPRnMbhbodw0Rd60DVC8X+6rRx02yqeGS5v5DWGYW6HUryohqAdRYH\n",
       "xUwzY95Vd0WhaofnRFTfVXoQ0l2XpjZBaLqgULVz076ofo8FG2y3GgPZa9SnDSXrKLy7/qZVIbjE\n",
       "tou+g4UzYt+kAYqHuKLQtFO7OLPugtqIaUoSiuZ+Ck07ZeXVZUnq7IeLDWe8NFMRjOZ+Cu2vQlW5\n",
       "D0qoq6kmXpqKh/PN3RSadoyiLE9UU6hNkivTDDHROqPwmIVwchElWpoBNpsOKTy2UyZXphlgs+mQ\n",
       "wkM7RpML03RyySEchYd2mJNndwTdi0e22XRI4aFCbcRlVF1EtGG6fYfC/wF1CfUP5d5HVQAAAABJ\n",
       "RU5ErkJggg==\n",
       "\" style=\"display:inline;vertical-align:middle;\" /></a><br>"
      ],
      "text/plain": [
       "<IPython.core.display.HTML object>"
      ]
     },
     "metadata": {},
     "output_type": "display_data"
    }
   ],
   "source": [
    "_phase_circuit = Qcircuit(VertExprArray(\n",
    "    _qpe_inputs, _qpe_multigate,\n",
    "    [ExprRange(i, Measure(Z), one, _t), _s_wire],\n",
    "    [*multi_output_entries(NumKet(Mult(_two_pow_t, _phase), _t), \n",
    "                           one, _t, (one, _t)),\n",
    "     *_u_outputs]))"
   ]
  },
  {
   "cell_type": "code",
   "execution_count": 61,
   "metadata": {},
   "outputs": [
    {
     "data": {
      "text/html": [
       "<strong id=\"_phase_est_circuit_b_r\">_phase_est_circuit_b_r:</strong> <a class=\"ProveItLink\" href=\"../__pv_it/common/bd0a33decfb7054bfd8231a49729dba468e763b10/common_expr.ipynb\"><img src=\"data:image/png;base64,iVBORw0KGgoAAAANSUhEUgAAAmIAAAEOCAMAAAAdVotoAAAAh1BMVEX///8AAAAAAAAAAAAAAAAA\n",
       "AAAAAAAAAAAAAAAAAAAAAAAAAAAAAAAAAAAAAAAAAAAAAAAAAAAAAAAAAAAAAAAAAAAAAAAAAAAA\n",
       "AAAAAAAAAAAAAAAAAAAAAAAAAAAAAAAAAAAAAAAAAAAAAAAAAAAAAAAAAAAAAAAAAAAAAAAAAAAA\n",
       "AAAAAACPpJ+zAAAALHRSTlMAIolEdjJmVJnd76u7zRDhMNfb40DB6dHV2eVwhaWv96mRfPmXXmCh\n",
       "kyDnUIwo+IEAAAAJcEhZcwAADsQAAA7EAZUrDhsAABCXSURBVHja7Z17u6O2EYeFkEBCSJtNkzZt\n",
       "Nk2ep0160/f/fEXiYsDggy3BMeg3f5xdYxsN0uvRjG5DCOSh2E2CeoK8jli0D0EgQAwCxK4l2dJF\n",
       "DsRGYrI4iJkyTcRovnCxjsCY/QzZBbGhNsIQK2wNxAYpxUFdz2d0d89+M1dRHklYRYDYTSQQG0Rn\n",
       "MR6JpWrDJojlxe1qCcT6/o3GeKTcWgPESMluQUANxDr58l2MR5KWEiA2RmzUOySOGP3KI9w+ZSO2\n",
       "hlhJgZgfaPhexbi9spoAsSli4Q7/NRBT32cxbi+tAGJzxEQOxAj5QdI4t7csccSEdFJV/p+2Z+AK\n",
       "iBHy458NENvLit2cscNH2gMQizMvsPZGyLxDAcTmiAWHlGe1YmOq/vITGVMWYsWA2Byx8IGxcyI2\n",
       "sVrFX/MJdEAsJmLhw/tnRGzWu//txyl4QCwmYpIkiNiMMPpzNmIkELFvQGyKWISlFqdDbB6gGD2F\n",
       "JAyxX4AYmUyD11mCiM0uqfyjTwCxZxFb+wGnFVH2wuuYtwdiM2EFEDNZVMQS9sXY0hpqRYBY3Nun\n",
       "HFG+YXMDMQgQe1b+/ncOIoAYrBgQA2KQMyO28zZNIJY8YnsrBsSAGBADYidH7BuIAGKwYkAMiEGA\n",
       "GBADYkAMiAExCBBDRAnEYMWAGBCDADEgBsSAGBADYkAMiCGiBGKwYhAgBsSAWLxvYtUrEMPCaiAG\n",
       "KwYBYkAMiJ0RsaS36u6Wj/I6iEXIR4lTEucSJR/lZRCLkI8SiM0F+ShHEiMfJRC7E+SjvEmMfJRA\n",
       "rPu5Ih/lgvwsEFFGQwz5KJfk1x+iIIYTq2eIIR9lL7/pKLeHFbtDDPkouwGLXzMgtg9iyEfZWfPf\n",
       "CBDbCTHko3Tywz8MEIuC2MN8lOklCxxuRf70z0i3hxW7t2LBzth5rdiA3Bw+RJRREUs1H+WEqer3\n",
       "yQV0lDERQz7KRr59mV4EYjERQz7KRr58NzVtQCwmYinmo5z7/LQYMwLE4iKGfJR36ewsEAtHDPko\n",
       "JxI3HyUiyoc/4MQGLVqJnI8SVmwqyEcZPR9lwoghH+X2bwKx9xIgBsSAGBADYhdCDIc/ATFYMSC2\n",
       "MwM4NgWIvWmZQAyIATEgBsQgQAyIAbE3Ryzpw5+AGKwYEANiECAGxIAYEANiQAwCxIIQwzQ4EIMV\n",
       "A2JADALEgBgQA2JA7IgybVwBYkDsJqZQWuq4ZWZS1h+e94eIMg3ESq0ZNzsUa3IqVQYrljpiXAuz\n",
       "Y9FcKwPEkkaMRTim47HkMgdiCSOmxP6lG10AsWQR+/rHIeX/qwZiiSKmyoMUoBQRZZKIMXqYBnUJ\n",
       "K5YgYkYep8FKWbsjprNDK/rg4t4eMVEeqMLy0WwTxKI0z/Qmxj75hcAfUlscB2J9oHeoDvJDxGge\n",
       "geTpz6b8+BlzFu8Zu+JqDsS8FMe6QYuTSTEQ47oaRl7a3C6ZENo1c0alph829wtHXzJZjXS9K64U\n",
       "QKz9rZlDdcjFblbMlhPD7NNvUOvuprf4Avr5isjsTdeF4iQQa2v2YCWW6n2yVfdVxHLbMyI8sO20\n",
       "aFW5B99CT/GC0RkhtlAcLYGY+/Gpg5XQe1kxOsBbtX99SyubkbzadIPKhCC2UNzzaYykuCBi+YuD\n",
       "Yi9XxlLHHAUxLabetvLIKcsJU8RscL11EYLYUnHPDl4Yqy+IWPmaIq9XhuVbEOO0bvznLgcOZcwl\n",
       "kjCs6wGNCwCVySirWWeKKeODKybGvxrZPJ9ghC6Azb0mubYd9VTdxQ8Zc0XkzV/PkhGM9fEKbbTi\n",
       "dv5zmBb3dEpJQy6ImHlRERNTiXvEKKkbUqjrcjK3RCNrOiBKSve6sO37ijntnZ3Iq+ZvPThcY2vE\n",
       "bfMpLoolIyZakIpctSQU81+NdDNr3BZN+YUrmUtXmsfaVOXg3ZP14j7V4X8bd9++gRJ3iGUF0bKz\n",
       "R9JbKkl5SYRrMtWQkOdE1j6k46653bfFAIgsx5Ssj155Dvz7rc9Uzl222l+wtWeHOx1I/99azyPK\n",
       "xeJEDsTeBbFvU8S4IT11ov1C5brHytHm/pjGfuW+mzf9J+TQKY0Gq0S93sP7zxdmsGcNO3PE/Lct\n",
       "7bjqu+LmgrGsvdkUobviuvzenzOhBMQeu/vDEERVt/aCddey1plrfUhn0dpPjFr7hlihHsQpbPhj\n",
       "Wo/uLvDsEGMdYmVXRGPW+CJi98W1zpixsGJviJiQvdXxjUmd0+WvsfYGHi5n6kz7ieJ236Gj9A2c\n",
       "rVkQh1ruce2WlJfyMWKDFRPLVmyhuNZ8lVtDo2tGlOTwiHIbYkO/175VuZe1atvd9W7+gusnqfEt\n",
       "3yBXdq3bhZlNVOrt1Fpg4sJTh5lRnXNe1I8RI+0MVe640vWdL7ZQnB8Y2zZ/deFxsVcVebkytiF2\n",
       "azzhuRL9f3nDFu27S6ZJE7w5pMpGn16jbvAhk8LJelCnNdO8EMOeAjEfYtBjxJyHWLlCtTdWvjdW\n",
       "I72XiuuG9/XnjPKjo3yIWH5rKkr7sSijKCsz5bLrte8bVZTuL6O8vdyaE9kNUXl5YG2L5iO3KIHM\n",
       "9q9wZSvFy7r5S6j2H8wEpV2qVyP8uNgthFwqrnsIa4DY20WUYSK3rqIR4/H8LPogVrfUYuP8FRA7\n",
       "2N0Pkc0T2hVf4y2KdBsHN85fAbETIbY1d/tkIOz5OesPQ6Ku01yZvwJiZ0bMbMOFyeexfEL6RY4r\n",
       "81dA7NMQYxHaI9u0TDoblcTiD8Ar8rkCxNYQgwCxnSNKCBCDFXu5/97x0zu0bPb8B55BbLfaSBgx\n",
       "9twof+i+O7u7uvcaPoHYfrWRLmIb18BmlIp2kS0roiLGlBCqXyYsrVVK1bUrgitZVc0rpauqmKrr\n",
       "PuhXZhJVWc3WguYXENuxNpJFrB8mM/KhzTdu3LhsF3VoEw8x3k6VsW7qg1sf8GaV1ypvXxFT07m6\n",
       "w8re6dEn3VPMNdyM2J61kSxi/exB+XjKkrn67BayFCIaYpll/f15+7qFqvArLvtXxKi5urq/zfQU\n",
       "ze4p5hpuRmzP2kg2ouxnKsXjudDcr+HoptMrEwsxPUyUSjlGjFs5RmxYrjKoa/th7OkwX/8UMw03\n",
       "I7ZnbaRqxYZ1iXKDE1J2FTLa6dIfyLx9ostObkhvhoGNoMp987Wv8qY5y5m6eW/9zFTt/ilmOwO3\n",
       "IhZYG48rI1XE2tVouaptrT4KjnLZ1cdo313WOlHZ5mUkk5pWwxbAxm7pEWLUv9G+YvlcXfd+v2Bz\n",
       "9OboKWY7A7ciFlgbjysjVcT04Hx89EnO1LAQd7T8zNfnE4RNalrf1udmthqgMqwNIZtrTTw5XsPb\n",
       "qyureQ86fYrZzsCtiIXWxsPKSBWxfkeB2LIivYuhpvvumhp9hrB1xFrvS1JK+7EpD1xW53fqmsFJ\n",
       "m7li/VPMdgZuRSy4Nh5VRqqI9fuixs6H0fImk/pqT8iY7bvL5CphH+UGGnWUuW13oNaTeLP3xfpR\n",
       "9E7d3g2aLywYnmK2M3BrkqKF2livjMXaeLYy0kHM2A/WKrXHINQtEtMFsw9q9WN3X9zc/WIFMWP8\n",
       "JumxuoMrRifDV7enyF+zYuG18QixhWuTw5+u3VF65+NR8G39L7ar1Mm+u5COst3ZnpeDd7WEmPd3\n",
       "+ERdahf7ydtTzHYGPtlRvl4b6Cjvpdt655yP8hEnlRp1DeN9d0HufgMRJWVu2G3odRkxPVW3Hxnt\n",
       "RgnMyBVrn2K2M3ArYqG1AXd/QbqIW6l+8/mK+INRexdotO8ubNCi+aJmbjOg6LooPtkrxXvEaDVV\n",
       "tz1SK+tiumH37O0pZjsDtyIWWBsYtFj0KmQ3WPjR4bq5EKKP7Ub77vrIPdOvIebyXCnmB9N5w4y2\n",
       "Vg0uezcprupqsG2875RorcRAgZRm9hSznYFbEQusjceVkewcpXze3wzbd7fY3G7WuX5d3dI81nDz\n",
       "BNKetZEsYi/MaYftu1tsbqV5IV9Xl36g4WbE9qyNdBdWP73HKXDf3fIyLWste1ndueN0p+H29WI7\n",
       "1ka6SxJNvTeTG1qWiEq9ri77SMPtiO1YGwkvrM6eWykduu/O7q7uvYZPLKzerzawye0owQ4kIAbE\n",
       "gBgQuxBi2KoLxGDFgBgQgwAxIAbEgBgQA2IQIIaIEojBigExIJasIHtIjMoAYuuCHEhRKgOIPapW\n",
       "dJQRKgOIwReDLwbErodYClt100XMwIoBsX3LLNnBSggOxNKKKHN6cGXUBoityiXHxTJ1cGVodJSp\n",
       "ufv66B8qEEsNsfrYVIm5WEQM0+AXRowda0BEDiuWGmLm2J5y8TwFIHZpxIgoD1Rh2WYCsWsjdqQZ\n",
       "M8uHwgCxayM2y5+0q9QlEEsRsbWGjy90BWZElFdHjPz0xyHl/3vtvB9YscsjRtQBfaWpV6dDgdj1\n",
       "ESO0znYuPJfrp/gDsQQQI7kWew7z81o9YBiIpYCYSxGo2S6mzHCq1cM7A7E0EGtYKJSW2sYVKfWH\n",
       "g7uIKFNB7PMqA1YMiAExIAbEIEAMiAExIAbErosYIkogBisGxIAYBIgBMSAGxIAYEIMAMSAGxN5Q\n",
       "cPgTEIMVA2JADHJuxLYtDQNiQGzfbwIxIAbEgFi6iGEaHIiti8lgxUJkceMMB2IjqTkQCxGaP6pU\n",
       "IEZIrtBRxkesFEBsEJ3FQOwXIDYVCcR6KSgBYrEQy2/+Ai2BWCdfvgNi0RAb5dnIaiDW1c9XHgUx\n",
       "uPszxEYOSNqIme8VAWK7IFZSIOZEfZ8BsX0QC3f4L4EY/0oJENsJMZEDMUL+818DxKIgJqSTqvL/\n",
       "tM4Hvw04viifgdjrsnabSLeHFbu3YsHO2Fmt2Jir/1VkTFmIFWNAbI5YcEh5TsSmdqv6vb0WfHtp\n",
       "BRCbIRY+MHZKxKYd47cvZHL59dsrq4HYDLHw4f0TIjb3H28D++07r98+t9YAsSlikqSH2JwwWky8\n",
       "qaBHkgk7Y8uIRVhqcTrE5l+eZecKQyy3lQFi42nwCHkQTj8upvKYj0StAmLrP+AkEeN13EdSyQaV\n",
       "i4jFyHV8dsRMFvmRWKp2jC2toVYEiMV/pKwkkPdo7qsiBgFiQAyIATHIeRF718UjkKsgBgFiQAwC\n",
       "xCBADALEgBgEiEGAGASIATEIEIMAMSAGAWIQIAYBYkAMAsQgQAwCxIAYBIhBgBgQA2JADALEIEAM\n",
       "iEGAGGRF7s5u4ECMrGRRTLlBA+Tu4JSaAzFC9GnPA9upQWNqVAog1h0KT4uiPD9ipXg3jWKkCjw9\n",
       "Yj61heCj/APnRSxOg0bViJZAzLdKrYsTdpc7NWhUjSKkCjw7Ym3fwitbZRdALEqDRtUoQqrAsyOm\n",
       "nIecGZJJdgHEojRoqEaGCX/4pvIdQ3iqwJMj1h52K5uaofyciMVv0FCNKCmr5p/CRvMPT41Y4W1X\n",
       "UZ4xoNyrQQM14iURTgulR/FUwojpMx+Sv1ODBmrU1GjlfrhV53lECNXPjNhnu8dv2aDB3mHukvRk\n",
       "tvM8bn13nAyPRyGWtGxr0M9DzJtVZuNFIGe2YpKc3Yrt0KDBGtXOktY18WONMTqKEyOWiwsgFr1B\n",
       "w6FXbqSREm9QY4wGnxgxxS+AWPQGDdbIKMrKTLXJRCRJGrFz95N7NWiwRmOJMjN/XsQKdgXEojdo\n",
       "VI3qLGnEtLkaYnX2ZhoZTVJG7NyDYvs1aEyNYqQKPDFitLwaYnEaNEDu0gVGGgj+zNHHoHjy5ITt\n",
       "1qCP5f/Zf2QOuhQ+1QAAAABJRU5ErkJggg==\n",
       "\" style=\"display:inline;vertical-align:middle;\" /></a><br>"
      ],
      "text/plain": [
       "<IPython.core.display.HTML object>"
      ]
     },
     "metadata": {},
     "output_type": "display_data"
    }
   ],
   "source": [
    "_phase_est_circuit_b_r = Qcircuit(VertExprArray(\n",
    "    _qpe_inputs, _qpe_multigate,\n",
    "    [ExprRange(i, Measure(Z), one, _t), _s_wire],\n",
    "    [*multi_output_entries(NumKet(Mod(Round(Mult(_two_pow_t, _phase)), _two_pow_t), _t), \n",
    "                           one, _t, (one, _t)),\n",
    "     *_u_outputs]))"
   ]
  },
  {
   "cell_type": "code",
   "execution_count": 62,
   "metadata": {},
   "outputs": [
    {
     "data": {
      "text/html": [
       "<strong id=\"_phase_est_circuit\">_phase_est_circuit:</strong> <a class=\"ProveItLink\" href=\"../__pv_it/common/4e7be78c8d2f008c633aedbe48a9cdda9c5f06b10/common_expr.ipynb\"><img src=\"data:image/png;base64,iVBORw0KGgoAAAANSUhEUgAAAbAAAAEPCAMAAAAUDGG4AAAAdVBMVEX///8AAAAAAAAAAAAAAAAA\n",
       "AAAAAAAAAAAAAAAAAAAAAAAAAAAAAAAAAAAAAAAAAAAAAAAAAAAAAAAAAAAAAAAAAAAAAAAAAAAA\n",
       "AAAAAAAAAAAAAAAAAAAAAAAAAAAAAAAAAAAAAAAAAAAAAAAAAAAAAAAAAAA268pkAAAAJnRSTlMA\n",
       "IolEdjJmVJnd76u7zRDhMNfb4yDnhVBepa9AwenR1dnlcGChk0RtkDgAAAAJcEhZcwAADsQAAA7E\n",
       "AZUrDhsAAAzISURBVHja7Z1rm7MoEoaRg4oo7/R7zfQcd2d2Z5f//xMnnuIhJlEsbEwevvSVdJCi\n",
       "bqsoEErGUB4Wt6pAT/EAI/sRCoChANhLA7MJDTCbUUiaLH2pAGxUSkUCLHUlhaRcPBIxeNxFXEIA\n",
       "E4bEJebOsGDAsvygUeErRqKtNauEokuSxr7uAGMawK6ejFN0SThnyYGJdPg2A7CufPuBokvacUYO\n",
       "LJNDKFICWKefD0VweToDuwNs5LjfG5j9bigub1zFwgLLOIA1mv6eUFxeuzwwsP1hx0sAUx+c5vJO\n",
       "hgaWCwBj7MefbJTAcl2Xomj+tE5bmb0z4K8ARjTlHr7+pFoLSENb2O5B7KwWNqb3czFhucfCggPb\n",
       "HSaeE9jU1opfJl/FDGz/ROyMwGae8fPbVd/RA9u/1HFCYPNxd1jkaP8TMzDN3g/YnBdPxxrfCewz\n",
       "LDCC5frTAZtXttWzX2wB9msAYKPF3zJ5O2A3dY0gvHwQYHdvrrecOKuS8vJBXOJQZApgNiEFRhZ0\n",
       "yKXdAIYBGO3l6YBFqLyXBPYJYLAwAAOw8wALvIsOwKJpE8AADMAiAIYoERYGYAAGYAAGYAAGYACG\n",
       "KBEWBmAABmAABmAABmAABmAvB+y33xSAwcIADMBO0ya2CGATDoABGIAdB4xs8TdY+r3XAUaQLzHM\n",
       "gb6hkKTfexlgBPkSQwND+r1RociXGBoY0u+NCkW+xDDAkH5vqZDkSwx+KB3p966FJF9i8EPpSL93\n",
       "1Q9JvsTwaR+Qfq8L6WnyJR6Qugjp95pClC/xAGBIv1eX3zVVvkRaYA/T770zsD/+ZdlJLGwYxN4v\n",
       "X+Ka77eW0FHiu6bfm6RLZP/+c/IZ6feiAzY1qfQvMfkS6fdiAzbz4//546rv6IG9Y/q9eXX+3+Th\n",
       "/2MC9pbp92a1pxnSnIt68fcd0+/NK8/S77mYs7kh/R55+r2wz8OQfg/p98650hEhsAiVB2AABmAA\n",
       "BmCvDAzHjehNAIch3qRNAAMwAAMwAAOwFweGXFOwMAADMAADMAADMAADMESJsDAAAzAAAzAAAzAA\n",
       "OxEwm5pKO9qidfn88COiRJ82s6qSytK3agXXJoGFEbepqtyGa1lVxgIYZZuS4LjAwyK0ADC6Nk0e\n",
       "vHFbpQBG1ebH30c0/78SwGjaNNkx7XMOYBRtSn6UAOWdOwMbSbe0afVhAtxrCha2pc08O06COyfr\n",
       "JsDuhKsKwPro7UgR9HNgyzlFSfL2vgSw9FBvtLxMtQZYlgNYe+faI0UQuS8wpgGsKdWxMuhlYJ/P\n",
       "gfEMwOoh3hwrQ+VtYdvTRen8BYEJz0mYrzIWPfAqYJsTsllXvSAwJ/1mVL7KyN0qYEIam3BZSqY4\n",
       "L1uEm/P2WvaKwDx75auMZB0wzkoj6/sivXzKigjCjmiARSHEHJgQTJcN3toBpG4yJ6gSAPtyYLMo\n",
       "0V5sq6aTNQ4g79xvm7fXOlhYdBZWo2JXVEU3eLWDWFYBWITATIOlydotXNIOmbUvTLiu+LpVqheN\n",
       "Ej1jDm9lrATWWFXrFy/sknSYiFWrJ9AvOQ/zlcNbGeuAJU5do42SMz5a6nCWsUiUB5c4zMOaEF42\n",
       "d4XIZTJE9aJAWB9flLhUuuV6aZhVABZd0HFbuo14uWTcAlj8wPoHrSpPv+RRJoBtBCa/eNsHgN0D\n",
       "JpcNyDAAixNYpAXA7kWJAPaqFpYE/HUARSXbf7ABWDhlkAGT2/Z4CPm1wJ6LeyvhemABlUEFbOXz\n",
       "54TzvH1ivTPMnMstTZ6btt+J0c4ZY8qybkIZXRSXT6YqinQqbv1D3ZxkMIWr5NNAeDWwkMogAtZP\n",
       "y6x+aN62Xh7JXHP/VZYOmGrf/il1G9Iq1wSxSdFIJdpPzJZ8Li533aRleqCh68VcwrXAgiqDCFje\n",
       "1cgerwXLWrzu0UKakwFL+q0wslmkvnxuEaWOjz4xa+biVv1lpuddu17MJVwLLKgyiID1S8D5440e\n",
       "oqjv6O5ZUGGpgFXXFWitx8CU02NgLJ+L68rFaWXfi5mEa4EFVcZSg9uPG10fO+sV3jvr7ofRGdD+\n",
       "lPz6zY5uckE+3LVyhEg02mg/iXr70Exc0VumnYrd92J2SnUlsLDKoLGwvBFNmNKV5lnEI3R3dT7c\n",
       "1kk7+HR/tgIz7hqUqRGieojKrp+kmItb/79rLx39c9QLbnyAhVUGDbDq6rWf/VJJY3otjZ6SN9Jt\n",
       "4DWRu3JiGM2KKyIr27Dw8t0lRnTiVlxdzH3ltBdp5QMsrDJogOnuFs/X7FToAqPr/sZeyC287gNr\n",
       "Ry3NOe8nQw2+pBQ34trr4DYbwvpeZIUPsLDKoAFWiBuvbSs9lGnjRRs9qWmkp+/yevaikpFLFK7d\n",
       "P1lOYsh+DOuXFDpx+/GDJXJxCJtJyFa+MGVBGQ+0QaIMX2DWPUmLpBoxylbB090FD2R8HnTkQ9CR\n",
       "3gFmL3pJ0om41yGMT+ZLQy+El4WFVQbN4m/nBRqv/TjHjh1kzDSRS2Rl3VuRXUelJWDNQKEm4nK3\n",
       "6BGHXmR6h0sMpAwal1jKq9fOHmm9MCMvkJZEQccFCWeZsHKYOC8Dq6bi9hPbLo62oyGs7UVa+gAL\n",
       "qwwaYF1QaswlNHv0u+ZAcD905JworL9UrKSs9wV13khNtmmqHhgvpuKyKm9WFFXnwrpKQy9y7gMs\n",
       "rDJogCndTfWeHdEWeZ738doo3VUf3CaVH7A6O5eRzcqCuhConDPXwKFbCjZlcbU71fsfXppcDqsk\n",
       "dtYLLXyAhVUG0dKU3r4TJ9l1XGlxjlMvtpb+4mb2sYRrl6aCKoMImMdKbp6SAzOVSrW/uPyJhGuB\n",
       "BVUG1RaBzfkCt5+Rfg4su8xIpLe48xHnRsLVz8NCKoPqAaYtQxNeoSiWF8ZfXPlMwtXAQiqDbItA\n",
       "su2Zv9y5qWPvFoHn4t5KuH6LQEBlYJvbTl1FIQSAARiABQWGjaSwMAADMAADMAADMAADMAA7OTDk\n",
       "rYeF1QWZcCiUcRww5JoiUcaBFvaaGUmPVgaCDoxhAHY8MCz+rtbVwXmbEljYvjYzeawMuUKUuKtN\n",
       "zxcNeCvj+YsGMA972Kbvqzx8lfH8VR5wiY/bjONlOQC2us04XkeFKHF1mzK2F74B2OM2o3ulIoA9\n",
       "aTO2l5YC2JM2DzQxvBaYpM2vf/E2gG1rs/z6V9sjStzU5p9/H9H8/++eiYGFbW3ThPeKtry/aglg\n",
       "m9vkZeDX3gn9IOsHgG1vU1R5wCUPVZpHNwSA+bSZVZUMYWZW8co8vjCA+bVpU1NpR1u0rp7PzAEs\n",
       "njZXFWwkPRkwWBiAARiAARiAARiAHQQMi7+wMAADMAADMAADMAADMESJsDAAA7AzA1v37AvA4gEW\n",
       "+n4AMAADsJDAECUeB8wmMVnY4m4fBWCjUqqYgHHxSEQAq19uyqIHluUAdi1VEtUYtgiMaQDrS8pJ\n",
       "go5fAwATg9nyDMC68u2HaIGNcsbsfLPRCwHjHyquedgysJHjfm9g9rthpwCWcQCri/menAPY/rDj\n",
       "JYCpD85OAiwXAMbYjz/ZKIHlzQvdi6L50zptNUwXPctXAPMvd67zSXT58Ba2exA7q4WN8f08ZRm1\n",
       "S9wdJp4T2NTWil8mX+0BJgMD2z8ROyOwmWv8/Dal6H957fLAwPYvdZwQ2HzcHRY52v/4X97QJXu9\n",
       "A0yz9wM258XTsU/bdXnhyHJFLwMjWK4/HbA5r2lOsfq/O7qkyQax5cVfgiwkZwN2U9cIwi4JV1hy\n",
       "YPdurvecOKuStEvcmYDAKLKunh2YTWi7ZIgCRbm0G8AwACPvkqSyseiU96LAWJIB2KmARV4ADMAA\n",
       "DMCGeXGkT4wADAXAAAzAAAwFwAAMwAAMBcAADMAADAXAAAzAAAzAAAzAAAzAAAzAAAzAAAzAAAzA\n",
       "AAzA3h7YzaZ/BWB38kjGofeb8yulAjBW1ce5eJqG2w/vrfebilkOYE2aklyN0pWEB7ZW77cnxDSA\n",
       "NYmAyioN+HJ1b73fVuTZ2wNrdKcKVyQHAlup99uKBNkSTw6s8U6JZYmWBwJbqfeFQ7NV8ubATD3+\n",
       "64tiuDoQ2Eq9NxWtzJtzzaZx2vuzJZ4bWHsoP81CBon+em8qcpYVtYyOLOw4M7BUHiCst97riipj\n",
       "ef1jU42CpPcFVtmDgHnpva54EbCo76pCjqYhrQ7ce+RLPK6s0/vTwU/UyZAS142xBIPYiS2MH3Lc\n",
       "31vvbcXGMqWjCxNPDEyz44B56L2tWNbGWJasmdtTTMTOC0zkBwLz0HtH2tQze844lU84LzCjjrSw\n",
       "7XpvK1rDZZaYNpORZu8M7BiP6K/32xk3yXL9aYEdMgnbo/fbimXyzsAOmYTt0ftNRVuxNwZGsvId\n",
       "VO83FSVJjvUvnZRGPwnbo/ebjIlxp/ULXQ7r/UO9/wMCVu9p/PRuZQAAAABJRU5ErkJggg==\n",
       "\" style=\"display:inline;vertical-align:middle;\" /></a><br>"
      ],
      "text/plain": [
       "<IPython.core.display.HTML object>"
      ]
     },
     "metadata": {},
     "output_type": "display_data"
    }
   ],
   "source": [
    "_phase_est_circuit = Qcircuit(VertExprArray(\n",
    "    _qpe_inputs, _qpe_multigate,\n",
    "    [ExprRange(i, Measure(Z), one, _t), _s_wire],\n",
    "    [*multi_output_entries(NumKet(m, _t), \n",
    "                           one, _t, (one, _t)),\n",
    "     *_u_outputs]))"
   ]
  },
  {
   "cell_type": "code",
   "execution_count": 63,
   "metadata": {},
   "outputs": [
    {
     "data": {
      "text/html": [
       "<strong id=\"s_wire\">s_wire:</strong> <a class=\"ProveItLink\" href=\"../__pv_it/common/a40db81a3eba97000e072e6ebf5224afbb6b1d070/common_expr.ipynb\"><img src=\"data:image/png;base64,iVBORw0KGgoAAAANSUhEUgAAAV0AAAAVBAMAAAAX2iAxAAAAMFBMVEX///8AAAAAAAAAAAAAAAAA\n",
       "AAAAAAAAAAAAAAAAAAAAAAAAAAAAAAAAAAAAAAAAAAAv3aB7AAAAD3RSTlMAEM3dVIl2mSJm70S7\n",
       "qzLMnvg1AAAACXBIWXMAAA7EAAAOxAGVKw4bAAABmElEQVRIx2NgoA1oIFF8gAGbAw6JbYPTva5Y\n",
       "xDhCazYwsE0YjM5lVMAiKM7A8oWBQXEwupcdWyjmOzB+YmCYPhjdy4VNcNcGBqB7uQQGoXudsAuz\n",
       "/GRgYAIHPS+wnOA4MGjcWwoiwtLRg3Iz0K2sF8B5z46BofnBoHGvJhDzPOAuQBV9dhfoQk5IVmx+\n",
       "AHLyYAEmQNzPwIOe60DlA8sCSOFmR2bw/scCPpCk+j+mstUg954E1WWMysYgAHXbegEGPqjhzYSC\n",
       "l580l1EEQO5l/f8VVfAdA8N5BwbuBUS6l97pgYH7PGp++y8Aci+LAWXpAQ8QIFv1MWDwGjDwoxqw\n",
       "FpweOA9gy2+M1KhUP5GsWl4BhBgYYoHlbAKDO6qKmeDylz0AtTyDaJFXoIKDjQVIVc1cAEIMDI8Z\n",
       "GPgy09CKB+5yYHuHgXkDuL4AupUD7EaIFmZDKriXRYBc1cy402YzdmFHKriXlWzVnAU4lVViFw6g\n",
       "gnvFyFd9ApcqHI0GxgQquDeBfNUyuFTxYO8QsQ1wAcyBy68ZFBoMADI9i0i572m9AAAAAElFTkSu\n",
       "QmCC\n",
       "\" style=\"display:inline;vertical-align:middle;\" /></a><br>"
      ],
      "text/plain": [
       "<IPython.core.display.HTML object>"
      ]
     },
     "metadata": {},
     "output_type": "display_data"
    }
   ],
   "source": [
    "t_wire = multi_wire(t)\n",
    "s_wire = multi_wire(s)"
   ]
  },
  {
   "cell_type": "code",
   "execution_count": 64,
   "metadata": {},
   "outputs": [
    {
     "data": {
      "text/html": [
       "<strong id=\"QPE1_U_t_circuit\">QPE1_U_t_circuit:</strong> <a class=\"ProveItLink\" href=\"../__pv_it/common/d6efc5c2146ec0834c53d31e223a97f6ceb22adc0/common_expr.ipynb\"><img src=\"data:image/png;base64,iVBORw0KGgoAAAANSUhEUgAAAUEAAADJBAMAAABPtJ0DAAAAMFBMVEX///8AAAAAAAAAAAAAAAAA\n",
       "AAAAAAAAAAAAAAAAAAAAAAAAAAAAAAAAAAAAAAAAAAAv3aB7AAAAD3RSTlMAmd3vuyIyic0Qq1R2\n",
       "RGZOcM1YAAAACXBIWXMAAA7EAAAOxAGVKw4bAAAEXUlEQVR42u3czWsTQRgH4DfRbZraZtMeCiJK\n",
       "giDopTnowZNeLHpLRS+lYFToWUQQ7KG9eure9NaKKOip9Sw16j+QuxcvHoofLFpKBSXOJrut2czO\n",
       "vLtJmmn6W2g+Nu/MPJnZmZ2dbUvU082ut21k1mYz9kAIIYQ9FU6cL5stTNfr22YLF+v1n2YI673d\n",
       "RAkrS0TZHfIf7Jipo7dlEeB0pQ7TefFQJP9hEFv54PYUmtiqmD5iuwQhhBBCuB9XUm4X8+rNxBVC\n",
       "CCGEEEIIIYQQsy/MsSGE8MAKFSveZghV63hmCFVroWYIVevJnie0jh3b0fuV9tA6dtdW2geplc3v\n",
       "KaoVb1NGbJcghBBCCPssNORajxHZ5+tlCCGEEEIIIYSwh0KbPRPRRHLmNrufxFlss9lfXRPJmR+6\n",
       "8RsNQgghhBBCCCGEEEIIIeyFkHcnUxPJFXr3T+PXYZFdh8WOhY37pxFC9W1Tm32D1Y78uFHFiqs/\n",
       "N5qyX8dhEX0ZQoyHvPFwrz8bOx4Wk4+HOA4hPGTCRoc1WtjosJgf9mN+iJ4CIYSDLDT+vl7Mr4S7\n",
       "txBCCCGEEEII4eH4fWz81j2EEEJolDB1+orhwql6vdJHof5vbzPiVFOIzOMw/O1t5608LDC/jT4O\n",
       "1a2MnsIbbaamTR+xk43jEEIIoWnXev0TcgkQQgghhBBCCOFBE7rs927MlN0S6hYA3ASRSgI/NbOt\n",
       "3ASRSqEb1wEhhMmEyuuUjoVW3n9xw9EJZ/znT+9rIaGqMsPZzL0tt+4ua4S5avN56I1W+M1/LmXd\n",
       "DoSPaal192PK/FhTCD+c8F+kdcLRop9PeaiUXJgt0cWW3UOrNCl+5AmePHpFaeIIsw9fO1QI3h1N\n",
       "2sqiQKtAZ1p2p2p0dTOqlfM0QU/F8TU+Pl5TC1OUKmSXyBKRJ4kmKaFQFCjq8ELLblFFd3+VI4R/\n",
       "6VZlPcepQ7tmbR/Lf26+yTjVhEKvwKXQcbhOlnO9GiHcFAlmvviHw8cFhTDnWNvWKf+bLjeXoxMI\n",
       "vQLnNlr78ktK1zKVkHB26twaPd8R8Pua8XAvMlNQjIc6oaTAILU4dnIbX9vyXRSH+ug9UXFndSN2\n",
       "EEl3nA6EkgLd0GgXSrDsHfzO7iitEAaR1jVSCyPvSUUUGKQedsKTtMYnW+JnxDufWOXo6dz/keJ8\n",
       "clMx8SPFPamIAqNX8rwEY3+8sUl8o/nbjroOg0hrev54B60sKTBIvSBtm4z3n12/E12SrES60sgj\n",
       "kklxDKGkwCB1QSpIlxqjJ2Nuw4vUCiXZ+KnH8tJ8V7zT4CpHyIvUCiXZ+KlHKtJ834mTg1XlCHmR\n",
       "WqEkG3f3nCfLd1HAM2WOkBepFUqycVtndGGhP4QwhKxIvbA9GzeYHMpbWXT5FywhL1Lfyu3ZNFNb\n",
       "l+X5DudptsIS8iK1Qkk2zdSZtYh8HzyrMq+kWJH683J7Ns3UIwNxrdfV6+UYYRBCaLbQZq9b2vFX\n",
       "OGMsqYZS/wPWaYvW9N8m+wAAAABJRU5ErkJggg==\n",
       "\" style=\"display:inline;vertical-align:middle;\" /></a><br>"
      ],
      "text/plain": [
       "<IPython.core.display.HTML object>"
      ]
     },
     "metadata": {},
     "output_type": "display_data"
    }
   ],
   "source": [
    "QPE1_U_t_circuit = Qcircuit(VertExprArray(\n",
    "    ExprRange(i,\n",
    "        [ExprRange(j, ConditionalSet(\n",
    "                           Conditional(\n",
    "                               control_elem(Add(t, one)),\n",
    "                               Equals(Add(Neg(i), t), j)), \n",
    "                           Conditional(Gate(I), NotEquals(Add(Neg(i), t), j))),\n",
    "                   one, t).with_case_simplification(), \n",
    "         *multi_gate_entries(MatrixExp(U, Exp(two, i)), \n",
    "                             Add(t, one), Add(t, s), (one, s))], \n",
    "              subtract(t, one), zero, order='decreasing').with_case_simplification()))"
   ]
  },
  {
   "cell_type": "code",
   "execution_count": 65,
   "metadata": {},
   "outputs": [],
   "source": [
    "# This is incorrect (mod should be 2^t)\n",
    "# _success_prob_e = Prob(LessEq(ModAbs(subtract(Mult(_two_pow_t, _phase_est), _b), one), \n",
    "#                               e), _phase_est)"
   ]
  },
  {
   "cell_type": "code",
   "execution_count": 66,
   "metadata": {},
   "outputs": [
    {
     "data": {
      "text/html": [
       "<strong id=\"_ideal_phase_cond\">_ideal_phase_cond:</strong> <a class=\"ProveItLink\" href=\"../__pv_it/common/fbdfe876e08a0cba83da0cf438e9fc744a30683c0/common_expr.ipynb\"><img src=\"data:image/png;base64,iVBORw0KGgoAAAANSUhEUgAAAMsAAAAaBAMAAADrt7WKAAAAMFBMVEX///8AAAAAAAAAAAAAAAAA\n",
       "AAAAAAAAAAAAAAAAAAAAAAAAAAAAAAAAAAAAAAAAAAAv3aB7AAAAD3RSTlMAZkRUmRDNuyLviTJ2\n",
       "3asqG0tJAAAACXBIWXMAAA7EAAAOxAGVKw4bAAAC1klEQVRIx62WTWgTQRTH//nYZpPNF8GbWHLx\n",
       "IB7sSUQPtpBGDyqLiCB+ROpB0dLGQ/EgSg5iRZGkRw/SvYiIjd1D8SBocvFQsDVoraLEBpRUlFqt\n",
       "VIoV4uzMNtnNzAZSO7A7zHvz3m/mzZu3C6y1jgz+u51roYuxLsUputulSD+cdR7T205OM9wuxnPa\n",
       "WXeUdTdnHzZrXEV+9uG4syc5f14XSHfR7qI5PMPPeMNJgn1qi910dImkz4YMWA64lrwMLPMTpjnJ\n",
       "XkIJjO0XrDlxVkeEW8NTQ3KVPF4NchrjcXeOt01xZnm67ZMZwTkGlrCtOSU+D6qmUSSOcAb+XLBy\n",
       "nA9CVIBxlRBIc1O/AHcwLTWfzcs1TEGFfxnhFW/xHmfrNd0Fr5Rn6xhfBR4+wKMqFjMHAqoTZgoI\n",
       "lxBeVXr4LAmyQLr7VctuIt1QfnFTF4BFfWIznDBVOgzZLpaiwz1I8sPNVn1dtQYtRTA/RRk1J5DV\n",
       "MZfosGC7Il7gcewrwa02l5AkkNWg/BV4FAopZpI8A3T40abcA1TgI1m6RIeNuy2PMMwfgcdQxQmT\n",
       "JddpxnrWJCSGTw0u1diSRDHK3XK5/JZSqqQGpDS4RQvfVy8rZaN9aGCkahfbTWdjTUaFKyIInCBu\n",
       "adCkRvpODNEU8PApAJdoMwwT6GNB82i4YS/N24Feso8VOiw1NORC+9JwCSrGbsgZB4xROuZJ/wR4\n",
       "blX2ENApvZ5pL+zXMwcvX4kVDUHVAfOApYE8k0iUbLe//8KmV6AemyqikZuvcUyvH2PKJN5OJA4K\n",
       "gjaeMY12qAjVajX7+rbU3tPMYPGW5rdaMUfGvjWOMWR+reZqtd885fvoQJQZ+UUfEG/UVtPc9y3F\n",
       "pv2WZxWab369RYVeF0YRfABQYF0np5hcDyZpvD4JFFOse8cpsl3tU6QRy7+Ard1y+heQD7XNkR9R\n",
       "E4/mNGEYG9liTorejWP8AwqYwB8kqrEBAAAAAElFTkSuQmCC\n",
       "\" style=\"display:inline;vertical-align:middle;\" /></a><br>"
      ],
      "text/plain": [
       "<IPython.core.display.HTML object>"
      ]
     },
     "metadata": {},
     "output_type": "display_data"
    }
   ],
   "source": [
    "# the _ideal_phase_cond captures the case where the phase _phi can be\n",
    "# represented exactly with the t bits (or fewer) available in the first register\n",
    "_ideal_phase_cond = InSet(Mult(_two_pow_t, _phase), \n",
    "                          Interval(zero, subtract(_two_pow_t, one)))"
   ]
  },
  {
   "cell_type": "code",
   "execution_count": 67,
   "metadata": {},
   "outputs": [
    {
     "data": {
      "text/html": [
       "<strong id=\"_m_domain\">_m_domain:</strong> <a class=\"ProveItLink\" href=\"../__pv_it/common/0107914a254b4cba063b4849ea3d536e6979ec8c0/common_expr.ipynb\"><img src=\"data:image/png;base64,iVBORw0KGgoAAAANSUhEUgAAAHIAAAAYBAMAAADUnLRyAAAAMFBMVEX///8AAAAAAAAAAAAAAAAA\n",
       "AAAAAAAAAAAAAAAAAAAAAAAAAAAAAAAAAAAAAAAAAAAv3aB7AAAAD3RSTlMAEER2zVSJ3Zki72ar\n",
       "MruaaVGaAAAACXBIWXMAAA7EAAAOxAGVKw4bAAABYElEQVQ4y2NgIABYJjCQCeTJ1cgQgkeOUQmP\n",
       "5LSSXCyiUyFeMFHEZ6crNkHecwJAkvUjkEizwBIQM1reMjB8xNBVCCT4DgAJtgJgAAYwVmJo5HzA\n",
       "kK/AtABNVKblI1QTmNjOwJCHoZNnAgPXAuYDsmjCzCg63zAwxAug6+T6yMDzk8MgEa/OHwwM9wMw\n",
       "7Cxg4PnL230Bn05GkM4NWMKQ/QOmGEInhwMD5zegTgMsOrEJgnUygwJu1gaIzgQsOmsYcOjk/MrA\n",
       "MMcJmIqAOvWxGM/xAMYSKQeBWrhOBhlXBt4+AXAIxQdg6tzDgMtOhhQFSHJ4x8CwHyNWGFgTGGbi\n",
       "0MkKC6ZdDAwtmGquMTAY4grbBVCd7AGMayG50QHo6y/Q1FfR0VGAqZPtJ3JKYGyzgUQ4ewOQqIBG\n",
       "5v///x0w0+SpL6eRdJIMKNTJvIAMnRwO0ORAMpACp/IZR0nWOA2oBQAOT1/hjoVQGwAAAABJRU5E\n",
       "rkJggg==\n",
       "\" style=\"display:inline;vertical-align:middle;\" /></a><br>"
      ],
      "text/plain": [
       "<IPython.core.display.HTML object>"
      ]
     },
     "metadata": {},
     "output_type": "display_data"
    }
   ],
   "source": [
    "_m_domain = Interval(zero, _two_pow_t__minus_one)"
   ]
  },
  {
   "cell_type": "code",
   "execution_count": 68,
   "metadata": {},
   "outputs": [
    {
     "data": {
      "text/html": [
       "<strong id=\"_success_cond\">_success_cond:</strong> <a class=\"ProveItLink\" href=\"../__pv_it/common/bcbd6b9d4ad35855001dc2b200dcea87f75c697e0/common_expr.ipynb\"><img src=\"data:image/png;base64,iVBORw0KGgoAAAANSUhEUgAAALEAAAAoCAMAAACGnut8AAAAOVBMVEX///8AAAAAAAAAAAAAAAAA\n",
       "AAAAAAAAAAAAAAAAAAAAAAAAAAAAAAAAAAAAAAAAAAAAAAAAAAAAAAACXHtMAAAAEnRSTlMAme8y\n",
       "+fOvRHarECKJu2ZU3c2ZroxJAAAACXBIWXMAAA7EAAAOxAGVKw4bAAAChUlEQVRYw9WY2XbrIAxF\n",
       "GXovQgIM/P/HFimxM9W1E+PG4SHOoqtiR2g4stKqw+piZO0yhzHy5GEOPFKACMqGEN0HEAcVPSiF\n",
       "NTXawRyf2DmVY3tSbdgq1eMTY/Muh8JQkROpfEBUNFY1sZrwCcReWDOzukoKj08sfj2FRoOndHhi\n",
       "qnZKuRhUOFxUJJ0sgL6qx5k/ZUc5DXQ0YkzOtHs3dMSeR1qXaO83ETjRuJR99Thks5GhTLdK3BcC\n",
       "J5SN4+I/coNz7Jp/PYg3GklZX2qTF3bzcG2muV1rZQ8QFZDDdS010sR8vUsl4qKQ7fB2YgwZbne8\n",
       "1ABf7yLZef5xIb16mBV7rtSIW4hR55nCn2tn90gVtCU5H143gr4Mcx6p0Jd4EBd7aTcbfDxPnP1S\n",
       "CNbHNTqi5MsaY0scm3Dy9qtRQTNRoWPvpIHpA6F35rEvfPc0Z8c6cbjG3tWtxRxfIVFf4nSiRm97\n",
       "dOmbDtIGTfkd+ARxWdZBpUCxSWfXSVcMZSq/lDWv/ERUYF3lllpz2EMJ5VPizw9u/x8U01DWBsaD\n",
       "kT9V9KNiopBLsCv+z755BrlSTLNl/bYpbW+cmH8o9auJrxRTxVUl6d1z3kUxuVXHk337LD0pJvAK\n",
       "7RYjP1yIGcZprfQlFsWkQQXsSzymRhuGc19iUUy2jdm9FX0ck3noS/yrYlo0grHNNOAxJS+dEBLI\n",
       "XUH7UvYh/l0xLRuh2rhKPGPxO2hsXzQ3RrML8YJiWkOM8j5JWTPW6wiyqXbx8ZJiWkN8fqvAxEm2\n",
       "vHZV7US8qJieJD75uOzhY7tSMS0bEeJ4JhZIMqh84mdP4m4LfdUtGIojXznCAoAmeSbIJ/lLodQA\n",
       "G8/5BvJdGmu0rsHXAAAAAElFTkSuQmCC\n",
       "\" style=\"display:inline;vertical-align:middle;\" /></a><br>"
      ],
      "text/plain": [
       "<IPython.core.display.HTML object>"
      ]
     },
     "metadata": {},
     "output_type": "display_data"
    }
   ],
   "source": [
    "_success_cond = LessEq(ModAbs(subtract(frac(m, _two_pow_t), _phase), one), \n",
    "                       Exp(two, Neg(_n)))"
   ]
  },
  {
   "cell_type": "code",
   "execution_count": 69,
   "metadata": {},
   "outputs": [
    {
     "data": {
      "text/html": [
       "<strong id=\"_Omega\">_Omega:</strong> <a class=\"ProveItLink\" href=\"../__pv_it/common/cd5a47365483b766cf71e2cfb0eaff1126aa163c0/common_expr.ipynb\"><img src=\"data:image/png;base64,iVBORw0KGgoAAAANSUhEUgAAAA8AAAAOBAMAAAACpFvcAAAAMFBMVEX///8AAAAAAAAAAAAAAAAA\n",
       "AAAAAAAAAAAAAAAAAAAAAAAAAAAAAAAAAAAAAAAAAAAv3aB7AAAAD3RSTlMAVJl2q0QizbsQ3e9m\n",
       "iTL5N35BAAAACXBIWXMAAA7EAAAOxAGVKw4bAAAAcklEQVQI12NgYBAyNglgAIL0TgbO8glAxmog\n",
       "Mb+AgYH5E5DD8oeBgQOIGZi/MDCwgxk/GBh4/wIZTJ8ZGNi+AxlcP4HEfaCufAMQ7wADgzmQ5uQD\n",
       "mrGMDaiYwZOBTYEXaNbBewysFw8BRf5/ZOD5/5kBACXTGwIkfCtaAAAAAElFTkSuQmCC\n",
       "\" style=\"display:inline;vertical-align:middle;\" /></a><br>"
      ],
      "text/plain": [
       "<IPython.core.display.HTML object>"
      ]
     },
     "metadata": {},
     "output_type": "display_data"
    }
   ],
   "source": [
    "_Omega = Literal('Omega', r'\\Omega')"
   ]
  },
  {
   "cell_type": "code",
   "execution_count": 70,
   "metadata": {},
   "outputs": [
    {
     "data": {
      "text/html": [
       "<strong id=\"_sample_space\">_sample_space:</strong> <a class=\"ProveItLink\" href=\"../__pv_it/common/2bbb029ebf178dd4600b2d3bad0365be1e748ac60/common_expr.ipynb\"><img src=\"data:image/png;base64,iVBORw0KGgoAAAANSUhEUgAAAnMAAAEaCAMAAABNfSEzAAAAh1BMVEX///8AAAAAAAAAAAAAAAAA\n",
       "AAAAAAAAAAAAAAAAAAAAAAAAAAAAAAAAAAAAAAAAAAAAAAAAAAAAAAAAAAAAAAAAAAAAAAAAAAAA\n",
       "AAAAAAAAAAAAAAAAAAAAAAAAAAAAAAAAAAAAAAAAAAAAAAAAAAAAAAAAAAAAAAAAAAAAAAAAAAAA\n",
       "AAAAAACPpJ+zAAAALHRSTlMAEFRmu5mrdkTdic0yha8i7+PhUF4wjef3WqmRfKXl2dHVwXDLTtvX\n",
       "YKGTTHBK3cIAAAAJcEhZcwAADsQAAA7EAZUrDhsAABFgSURBVHja7Z1pt6u2FYYRoBGdiAyrSduk\n",
       "adZqk7TV//99ZTbY2MhGEtO7P9y7jo8PSJuHPWjaSTIISRPIKrFOsoOGGrEPhWU2BzUrmfP2pcAi\n",
       "bE520AxqGaC5CnMVdNJs3ggOK3cl5mrotm+CXWFsZ18ZDebGQowX5rwF3dv7NWnVir9WcyFp7gM6\n",
       "u4GEYW5Qxyrm/AXdxNptrcI6MzfPXEpjeasNHOTbfyqYjy75NE75xoaO2SLxzVwiwdxNCuPh+l6D\n",
       "7mydnfHgWqkn5kR2+zQFc8MDVh6uL7xSIjZ2rtZyT8yltwuZHMz1wdO3xMP11wXdMwFdejrmRv7k\n",
       "6sx99+Xh+sKzM7Q225a5LABzqQJzjXxf+rj+yqD7Gsx5yCLOwVz5g4/rrwy6L8IcFWCukr/86OX6\n",
       "KwOgMzJHZS1l2fzXDv1oBuYq+emvYC6anRsFdPEnBT7XhZcpjKe9WHH5DMwtMrc+cT2onRtzRn4y\n",
       "yRg7uxdGTsmchwG6QzI3NWzF37oPwdzd7b8CMOdhIuKIzE1dqf6JDEreG3Nf52NOJhdk7j4E/fvP\n",
       "Iy2vZO7rXMwF8K0+FpYcjrl75Egx1fMq5n5BPDfH3GiOPzfXY+4h0WbigUow55m5Z2/4tfLWWzSX\n",
       "+7s+mFtkjmdg7rYi3QtzX2DuhtfcQiyWgDmv1z/ZWMk33+x0xwyYC8fIxg99Y+TB3BaMHNu3gjn4\n",
       "VjAH5sDcRZgLulQGzIG5oz+kY8/xg7ljMvd1pu6AuQMYBvhWMId4DsyBOTAH5sAcmANzyFvBHPJW\n",
       "MIe8FczBzoE5MAfmwByYA3NgDnkrmEPeCjuHvBW+FczBt4I5MAfmzsoc1qaDuejMYW068lbYOeSt\n",
       "YA6+FcwdiDnsqR5LuPqt52Fuff1W2LmxBKzfehrm1tdvBXOLzKF+61g81G8Fc4vMoX7rWDzUb8VZ\n",
       "YE+YQ/3W2WDuZw/1W3EW2BPmUL91Npj7B/HBHOb4l5hD/dbB+P+aJT6YQzy3yBzqt3byz98SMBeH\n",
       "OdRvbSX7VYC5WMyhfmsjP/4rAXO+w1OH+q2Xq6V5u5T69d+ero85/mU7tz6gO6yduzH4UNgVeWtI\n",
       "5q5cv3X4kP1uJh/At4Zk7rr1W0ef6T/U9EMwF5K5a9ZvvQvryLf7rd96QuZQv7XWzXg42II5r3nr\n",
       "A3PXrN9695HX+q3IW2eZQ/3WqXit34q8dZa5Z2/41cZK+gzCa/1WxHMLzKF+a+K7fiuYG+GF+q3u\n",
       "fwrmdnF7MIe8FcxdgznsqQZzyFvBHHwrmNs9czgjB8wd5JZgDsyBOTAH5k7I3Mbba8HcFowce081\n",
       "mDuiYYBvBXOI58AcmANzYA7MgTkwt+r2mOO/IHOY4wdzcRmBbwVziOfAHJgDc2AOzIE5MIe8NeIt\n",
       "rV9B3grmXgnJWCELr/c0UuaLB0Qib70qc2lRcE3835YIJZlBPAfm7kUXlIS7tS4YAXNgbiLcxxks\n",
       "r0RIAebA3EgYDX53UmTIW8HcIH/8GeP+/8mRt4K53sqlcRqgFPJWMNfGcipWC/IU8RyYqwMtGa0F\n",
       "T24F5q7GHE3jNWH+6L7pQ3qSQGswdxrmSBGzDXL5Ic3XaX6nIj2Y2zlzWVQFzc6DOTH3xsHh2FO9\n",
       "c+ZyErMNgn7K3BsFErCneufMFXEbIRcZecaceyEY+NZ9M2dY3EYUH9s594JXJ2JO0hMyJ1RcZcy5\n",
       "cjfm3Av7nYc5YosTMmd5XGVQ68Sc4IwYxXOeaKXylkLnAqYnsnMkOSNzJK4yjBtzKskZr9HOqp/S\n",
       "8r0sAnP8O2duB614ZE6IROYNobUZzrq/6QZaFn0s5vjB3DJzX3fMkcrC1YCljRmmnR9vK9ITu/OH\n",
       "DuYOaedq2pKBtrIL5NqALi3AHJgLwRxryJI1ZcKaNnysnapRslAaeesFmftcGY7MNbatdbAVfqb+\n",
       "QjdAV6Q7NzQYnwtk5z5WhhtzxuohechV0jjVbiJiOdNG3grf+gFzohkX4Q3YgnJzGyoR5d4fOuK5\n",
       "Q+atc9ItLOEsIZeJ58BczBziUbrdkJQnioA5MBeBuX5tqaaZTsAcmIvA3BsV6cEcmHuPOT5vxlgC\n",
       "5sBcIOYO/9DB3OHyVjAH5mDnwt3+vYOJzNbMmbe/8A5z4ZQRhTm+IXLEWtedG/y9rcWCb8vccnMf\n",
       "WvgGcwGVEYU5tSFz2lrHbWeOC5+NUrRdKs0zr8xxRilrH51h0lrGWJ7Xt9BMlmX1EyvKMps2t/6i\n",
       "bA64YaUt+NLogjtzIZURgTlp2YbMZdbRnvQjjkS+9BOknn9JW9tZEH/M6WbRTsKl7l6VRmmmbFol\n",
       "OhWSXN03V9luMGt6zk3Xi7sWOjMXVBkRmKO22JA55ko87Xqdvl61wGsNd+t4MuqNOdMHILw1y6Zr\n",
       "dtY4if6nhLD75hb9ZaYHs3a9uGuhM3NBlREhb628G9kMuSqcE27f7Bcr0Nf7PERZX697jUrii7li\n",
       "WCsh5Zg5beWYuYTeN9f2ez6nr1bfi2kLnZkLqowIdq5yrtslEcrVzA3rnaVDJJN2KhodVtqfC/7G\n",
       "vt/JBdXNdvARZaJ5oO1Pot4Adddc0euWTJvd92J6nKorc2GVEYM5YeVWyBnr+vbRRruC5TZnS6+I\n",
       "kJ2G1A1o0wZi3X/vMsduybUeUVa/M+nwExf3za1/390vG/1y1AvFPmEurDJiMFcpZqPMlcjSdeCo\n",
       "GCKYxViBM9Y/6FGk2ij4DeQmqi9uEUD1mgyUEd4mqtVnVdY6jhL65sry3ulOe5EVnzAXVhlRmKte\n",
       "Y7ENcu5HDsnO0FCXhKdL1Yatvr2e30HuOXNtBCeVUv0gWUOgycVDc8kQOtyFc30vJi10Zi6sMuIw\n",
       "1yY4G4yTuCNQiocIhhTyJtMrlW1apKe5p3yK3FIhrJFvFbbdSpxPQoQ+nusH/Lvm9rFUYvhsOHfX\n",
       "QteCXBsoI8BcVb7JeIly70qnZrJkkXWjybxlZLoy/4Wal3MIens9syfMkerRmmzS3CGcU2aarYsh\n",
       "s/zEzoVVxswNA5wXVzVgm+ES6gxd506aCOZVW9uBn07NqfTkW5O8fmAiHSK0OeYa060nzVV21rXe\n",
       "ejFp4bu+NZAyovhWU5ZbjdBJ10gy50MEk74Cp2Qjd5LlnnKIiiqVpILw25jwPHPFtLn9mG03OEFG\n",
       "4Vzbiyz/hLmwyojCnNwmhWijo9Lti12mz1iVLL6MEbNRGEWVp7GS6g8LzuudTZ1b05PJG90zp8pp\n",
       "c5Oi9smmSx2Hbc63XlD1CXNhlRGDObXl5Ffp2BvdegaTL53oLCilfQY5qprWjxiY4jPm6iJvjDfj\n",
       "/rqCqLCWDXlAN+PP8nKwfrp3ZCpndOCiD2FuvZjWdXNlLqwyIjDnPv0UJqJzhEC+H8WaVWPdswDU\n",
       "c+r5581NycsWOs99BVVGBOYyV/cWyLk6zvZ+MGFPM+/MsUJn8vPmqtctdGYuqDIizPHnNt+QOe1s\n",
       "Zd+uX2rW9Wt+3Zp1XeI619z76Ou+he7r50IqI4KdKzdds0mcu0PeRWhlkd35eSVass+byxda6M5c\n",
       "SGWcfm36G90x77WTr9wQsXZt+nJzH1r4xtr0gMrAHpztGraTW2LfF5gDc2AOzMVgDnuqwRzsHJgD\n",
       "c2AOzIE5MAfmdsQczrC+IHM4wxrMIW8Fc/CtYA7MgblZQR0cH8oAc28I6n15UQaYe0vP8K0elHF+\n",
       "5gJsnQRze4/nNn7oyCEOwJxvRpC37py5yHuPDeK5yzOXRl7GTTWYu3reKlRcZcydlQXmnsopx+cM\n",
       "i6uMIrkAc5jjf33LyKcsyCjMYY5/18zlUZMIQSMwghxi58zxqAqi4gq+Fcy9viWJ6lxlAubAXEIj\n",
       "Hrw7b1TB3NWYi2joiEwuwRzy1qVb8mgnyuRpJOaQt+6cuWcoeBel4jAC37p/5pLf/oxx///mkR4S\n",
       "mDsAcwkL715JzhMwB+ZGbi83YW8upEjAHJibMFHQgBMSOmcmuQ5zyFsdb5kWBQ9h7IhWBTMxGUHe\n",
       "ehTmKjoyVkjrV6QsFgedkbdel7mzPCQwB+bAHJgDc2AOzCFvBXNHZw55K5hD3grm4FvBHJgDc2AO\n",
       "zIE5MAfmwByYeyI4C+yCzOEsMDAXmxH4VjCHeA7MgTkwt/9buq2VA3NgziNzQa+POX4wd3zmMMcP\n",
       "5uIyAt96duaIgW/1efvZ7UoazI0l12DO5+2VeKVkMFeJYPCt4ZlLKZi7SWE8MPcL8tbXzM0fFnlR\n",
       "5jKV7JC5I+etI+bE7UIqBXN9AvEt2SNzJ/Gto4IxJgdznXz3lfhgDjnEEnOjGObizH1fJmAuDnOp\n",
       "AnONlD+AuUjMecgiTsHc13cJmAuYt06YowLMVfLt/3bK3OHzViprKcvmv3YEVLPRHT6TLXTxuTy7\n",
       "jqfrw7cu27n1Ad1R7dyIM/I7m2C3ws5xMLfI3PrE9ZjMTQwb+91MIPz4+tJSMLfEnIcBuiMyN3Wl\n",
       "+g81BfHj6zNbgLkl5jxMRByQubsYdDQF0f7m4+sLawmYW2BOJtdj7iHrUdlYzauuL/0GdMfeUz3P\n",
       "nI+FJUdj7gG5u9J0ds31hS3Jfh76fuzcaI7fR/2Ow4/PMeHx+soy+NZH5p6+4ddkTudeu8R8pq4n\n",
       "ZM5LNfGjM0eM3y5xj5bu2MzxucCAJWDOf5dMCub2C8A5mTtTPIc91RdkDnuqwdzF7ByY88HcTpfK\n",
       "gLnzMncsAXNgDsyBOTCHvBXMIW8Fc7BzYA7MgTkwB+bAHJgDc2AOeSuYQ94KOwfm4FvBHJgDc2AO\n",
       "zIE5MAfmwBzyVjCHvBV2DnYOzIE5MAfmwByYA3NgDsyBOTAH5nb90NcfC/VwLocGc0+KjHqVFXo/\n",
       "9llgycwxObkGc0lBQrd2hd4P71sf+u6llObBmWtrFagsS+Mx56738zHnpZTmwZlrarJQPa6TEZw5\n",
       "d72fkDkfpTQPzlzz+PMiC+hhV+j9hMz5KKV5bOZaN6dLW5qIzDnr/fBz/DNHbRbm4syxOpw3JDGS\n",
       "R2TOWe+Hn+Nv+k44ba7DGmfioZTmoZlrD1SWlWKUDsvcZ3o/h29VSVpXx82styziyMxljXXL0pBp\n",
       "6xq9n4I5nSa07i8rRmnbdZkLPzi3Tu+nYK7ScVm/22UXvngYIjgwc15yqJB6P0neKuqKVMZ24cst\n",
       "sPBTETWWLo4gbnq/AnONiefWX+J6YDsnk1h27kO9n4S5vLbqeZ40o6A+nMtxmRM0InMf6f0sdo7V\n",
       "Y6AqaYy7j4mI4zLHdETmPtL7SZgjTPHUsLYujkyuzFwc17pG75szx730fSxeFpYclrmMx2TuE70T\n",
       "a9MtmVtf6v2x7z5KaR6XuSiDc6v0bqzddM3m+lLvD333UkrzsMzFGZxbpffMudR6pt5xwua5+dKK\n",
       "3m65vtT7Q9+9lNI8LHMq3Yo5Z70z17KcuuxupfiLgT+iFGvme+eiCpJ1b4JiY+e6Mv54KKfpZ5ni\n",
       "lsOtqxxHrDfkY71X4dzLKTLNWZ4330iLIUIVz813bd3qYUIuafp4Ld4lNunICnsu9Q7ZvSyYOUoH\n",
       "mDtOyvoD+zRYrAluZkJm0+Z0hjnPpd4hexdhJ2xkNKuMEas8c7uHZ+yhW05ME32VT2OGrJt9m48n\n",
       "Z5nzW+odsnvkJmuXSSbKirKysju8tj1k7EPbWEw3zMmX0aKSzVBN9pw5MbWCHJbuQsjlk1DKEF6D\n",
       "VbtGWucJYoSNLvSNufJV2K9lbetoZp4zlxR8euMUD+Mi8vioGe8SVJk2pi1vJK0XRrWrj1vf+moY\n",
       "2Yw51nkvZsJcWnCoHzJkCDyv0apPAtDjQRHOXHKIZlzOPPt1z5wpoWpIx4LtbF2WN6MeY5PVxf28\n",
       "HisZwi+i+n8GK6e1pmSBubSAriFdgFfDVK+7M4y366H0PXP1mPCNKV3nIHqUiJQvxjaNKqziYA7y\n",
       "UoiqYzHhmxMwB3GygRLMQSKLv1RTFxgbgbih4okU0waJ/wdEgv9LHbVnKQAAAABJRU5ErkJggg==\n",
       "\" style=\"display:inline;vertical-align:middle;\" /></a><br>"
      ],
      "text/plain": [
       "<IPython.core.display.HTML object>"
      ]
     },
     "metadata": {},
     "output_type": "display_data"
    }
   ],
   "source": [
    "_sample_space = SetOfAll(m, _phase_est_circuit, domain=_m_domain)"
   ]
  },
  {
   "cell_type": "code",
   "execution_count": 71,
   "metadata": {},
   "outputs": [
    {
     "data": {
      "text/html": [
       "<strong id=\"_success_prob_e\">_success_prob_e:</strong> <a class=\"ProveItLink\" href=\"../__pv_it/common/6227b2ed464e36c4f8d59ad05517eab7c0a8f2650/common_expr.ipynb\"><img src=\"data:image/png;base64,iVBORw0KGgoAAAANSUhEUgAAAgIAAAEsCAMAAACG1SslAAAAkFBMVEX///8AAAAAAAAAAAAAAAAA\n",
       "AAAAAAAAAAAAAAAAAAAAAAAAAAAAAAAAAAAAAAAAAAAAAAAAAAAAAAAAAAAAAAAAAAAAAAAAAAAA\n",
       "AAAAAAAAAAAAAAAAAAAAAAAAAAAAAAAAAAAAAAAAAAAAAAAAAAAAAAAAAAAAAAAAAAAAAAAAAAAA\n",
       "AAAAAAAAAAAAAAAAAAA9Qh/bAAAAL3RSTlMAIqvdu2Yy782JRFQQdpm5wzBsr3D3QKmRfPnjl16F\n",
       "4aXX2yDnUGCh1ZPB6dHZ5aRycqQAAAAJcEhZcwAADsQAAA7EAZUrDhsAABNxSURBVHja7Z3ptoO4\n",
       "kYC1IbRPdzrpnDNLd7ozk8lkFr3/2w1iMYvBBiQwWKUf9/ravkhUfZSqShvChHpPCGGsQHNFiVIi\n",
       "KN9duCfhFy7F/OeAwNcX3CCACj+vawEI5IIA9xQQyBsB5QUgkDcC0uvg/FktBUbIOGudqhFwRfVS\n",
       "g6C+HQFjyzokKJ3GvkCcVhggZgMC9UvhQFJfjACVUtr2MaeVQ2CqX7JxD3ilfNJ0E+rNdQpZbKp2\n",
       "mSkunRn+7RZevy2A7VoE2LDnJ43uGyJCkNA+//6NPHnZ/K5oeuU8GCkJCQou7MyHReuOSDJ8my28\n",
       "nm2GYOu/vFQ0wzkjUGtat898+KhDYFae3BLG6u/qRntBs4q9fjBdZWksfXYvuLVtUKLFXgQQkbEI\n",
       "aGbztgJyZAXcayvgHH8IrtFaGd7wyw9RYAuH/mU2AtXxCJQ8DoGCFQgBAsErfDgAXddQibZwRfWk\n",
       "EmQLVgvaDqTVaA37YOTL5fihMA0CRuxHYNqMkSXx1SdmNwKW6UGfVdg8cOCjfAB1bc/OOx6EMK19\n",
       "NYUKYUNZMWHrKGIo4qYb5zUC9LXkZKVo7VCxjICiLxCYNmOsQ2qQDfcQPJKtCPAhu4ZWIiA52AAi\n",
       "vH/0n4r4kujGYa/8trqTZ0YrZcNLbGzQc7AHLvyHKoZuGO8RKF92ppwGS+AKvIwAEtYsIjBtxqgE\n",
       "Mx5oNK66wmoEuvBEM/molxCEZX6dwltfy7auP9X1g8/qUr3mjZvfdgT+VSIJs4F2OesKHiGghX3h\n",
       "C4ybMbpGsF6uenZ1saUj6MMT9YCgdIU2oPI5X8uGB9EjHuL3oQUmq9zB+oHDS593CODypTs4bsbY\n",
       "3WxcEVybkWUEdGlGvccgPOHE1c3zGPQ95zm2j2DB6uhu+Dy3HpwNQSEZuFTdj4cN4Jw78waB1+7g\n",
       "tBnDUnUyRfiOeOMO1g4OUrrJgtNJ5xhMWu0YwvjIpNS6DSMImNR9NR545J3WpLQDDfMStz86O+JD\n",
       "WSBMCi/tewSmzRg5Gs7WV1iHQGVsTNWYp/AktLfyJgoLPcG7YmTogtWz1iJLRF5g6N+F8IG5oiBK\n",
       "B8eOW20Ds1zqoukIcONTzIcnULZaCHolBLR+mAxR23Qsmmc9PP206TDaC6ql8ATK1iLSpVW50FEI\n",
       "GNu49V2vwepUVJ23rjTOxaMjqKKHoT85iU+gbFZcqjkFmD/3zHOvXySfiseXlesQMN3TP7ACFSoW\n",
       "NPfl3gqhXFGHZBUpqsq/U60v0GRBReWaUhASFChQ0hWf7EsfdOoU6DEGgVXl063E9EW+wxFQYwZW\n",
       "QC6reZw6h/K1HUG5lAozJSTJro+ASRB8q6VBMLI/yTt7RQ4IDFWHkyBQeJagoWT+Itzv9wXl3L+y\n",
       "BAz4T5RDEHhIIwoB55O4a3h+ToeIGOmZRUC7Y5+rj5rzrf/ZD6HH3JJNYgMCkHMpMR1hBOYRQBQQ\n",
       "6B8wnOCWlPeJHHbuZzLjIkZhAwQGUwqlBgTa8keX4paoTzaJhZXrsNiDgO6vgxkg0JY//Zzg8umM\n",
       "QDD6T88nibr6PAID65c5An8WKS5PfMKJOU/XMnF+xgICWgICtXT/hFNcnvqEK2WJ59NwUx+AQLxD\n",
       "+B0IiD+nubxPOLtBTf0KFtfLLCHgFCCA0M//bK6HAPLlpB+Ie15rBBwNpSzrX+0ORiQ2x/MJBJIl\n",
       "ldo3/+VfE13ep8zgs3FPUERGG0tWINoZuK0VGBAxgSPGCqREwI51Trw6BIHokOCmCIx0Xv7b6I2r\n",
       "IDBeUIzKSFEvIBCfGLglAuMO4Zdfx+9eBQE0yjLEugJLCMSnB2+IwNQj+PXHXuaXQkAMTb+OHX1Y\n",
       "QICi/BCYEjBcoV5/FoPALynv0w0DDBebe55HIMFQ4e0QmBIwXrAYPo1B4C8p73M09UB4nQyBwTBR\n",
       "glU5d0PgKS4k6gmSqyDAh5mB0vNkCCw9AHmmhjhLefm0HYEZhaqxI1CzCKTYrenuCBicFIG0kzt9\n",
       "/+Tj6CScnbMiBAECaS+fGAHa9//6uivrAIHjOoLKBXy47jblODQgcBsrQPpAUKaalAgI3AqBwXRk\n",
       "4gkgkCECsrf+zDtAII2Ojl2mkBwB2rsFgMCH6/wIArbPDSWcmwwI3AiBordIJSBwCwR++okfh4AF\n",
       "BDK0AnqIQAEI5I2ABwSyREANEdCAQIYI8H548J9++BEQyBCBv/7wA1iBuyHwy1FWABDIviMABAAB\n",
       "QAAQAAQAAUAAEAAEICIABMAKAAKAACAQW+fNZg0BAgcgcDRhByLwB0AgQwR+BitwPwQgIrgzAgk2\n",
       "o7+0L3DYeQTfg0CCzegvjcBx5xF8CwIpNqO/HwJwHsGgpNiM/n4IwHkEfSkkygcBOI9grvTbjn1r\n",
       "RADnEbz+T/kbz8gKwHkEMwHh7wRligCcR9AU8jvOFQE4j6AR9W8SZYsAnEcQyl//3VwdAfcTToEA\n",
       "nEfgF67zS6LLJ0bA/PQTOtwKZHsewRCI/xjTsf/yqReXn9IRZHoewdgehPMIBm/l5QvkeR6BXzqP\n",
       "wGeIAJxHgC58HsEpCMB5BInPI7gdAnAeQerzCG43TJTjeQTTt4hKePmbDBMtPQB5poYSn0dwt/kC\n",
       "cB7Bxc8jSIoAnEew/j9hKQkgcE0EYClJjgjAUpIbIgBLScAKAAJXRwBWFueOwNENAwQAAUAAEAAE\n",
       "ckcAIgKwAoAAIAAIAAKAACAACAACRyAQv5QEELgjAkmXkgACZ5RLLyUBBMAXAAQAAUAAEAAEAIFs\n",
       "EDAFEdSnLZSy93sxAALXqFMLYblJX6tRkhL8BgEYJvp8nVw4c1zNXBADVuDaCFh2cBJNUQUIXBkB\n",
       "4g6v3IgCELguAr/97Yzq/5N9BAFYSrKiTnLSgyLlSQjAUpKNdVp5VgOYhojgiggYeloDlqoCX+Cz\n",
       "dboTZbSwLB8Q+GidKfbLWF/oewQWolMOCBxVZ1Gc2YT5ZPEIgflTQDadBgQIbKqTmTOboNxeBLZs\n",
       "8QUIbKpTnNsG+jYiWEBgy0Z/gMCWOjE5tw1irxXYst3nYQhQ94UIKHmuMGb7nVUIbNj09ygEjBdf\n",
       "iMBoc+0ThOH4XgQ2bP19mBUw6AsR8OZcYWC/CgFlicHSMou4lKyBYv0BADBGsAmBSzTiCQGJGLHB\n",
       "2BTVX7rc6BDCGMENEZhEBEohymqbEfqpwo+SCu87BIgI7m8FTPX8B33rWpWu9Tua04DM+yYDAl/Q\n",
       "EVTKRw/ll60T0DgDWnwMge+MCPzZwliJAKmvT4PSlceN9xl6ACypkPxTVuAr8wL+bGGsRKB+8pve\n",
       "oKIBF31iQOiPWQHoCE7sCLDnDz+QSVT3AG16cEUYCwh8AQKqDgBtbWqUs7iPCVWJAIHvQ2C0uHwp\n",
       "O9gOFVqCDAcEMogInku70sFZJA0gkCMC3ewm7oq3k0cAga9EYMtpQIDAvRGw8w/5lnkNsN3UvRFI\n",
       "UGC7qRsicI2lJNsMBv5uBI4TxhlWYCcCdpvBUPbDCODtX1iPwIHCuC4CK6ekYCldM4kl8rzKWATe\n",
       "K+lZL6sROFIYl0WgizoNffl0mZCh0s1VhUmJgCXOkUZpmFDvCSGMBcFwQsuy+ouIsizGSgpfpPWy\n",
       "YFJ6Yd+GUWsROFQYl0XAtW3QrwchbLhgO1BauHQI8HpUFFnK21uoQyBc1hWp5i9kmJwqSfo2iB6v\n",
       "Dm51N9XLWgQOFcZlEejGHtzr+WmqDCJvx8pLkwqBZn5ULVXe/N0ovfBy8BcyZKok0V1mvFFQq7up\n",
       "XtYicKgwrhoRPGai0BW9oG6ZHeyc0u2otX6u+0gS4jH6RekQAe7pEAHkpkrybDZx0uluopeVCBwr\n",
       "jKtaAVffrCLMM/LOu1W0ba/s5Y4bC97+2oqA9rI3rnagdFU/Ys1fKkylnShJddbDjJXV6W6yvc9K\n",
       "BI4VxlUREI/e7+3VLSHtrRWDuVP1/W4gYCQJ0jeTD5Qeunr9+MuqqZLC511TBh8OdCfJHgSOFcZV\n",
       "EaDt99yaGXGtE/yY3t7d9hYCRpIQXvVeQflQurFNCFC9V8UDXj0riZbTHmKsu0LsQeBYYZyOwMql\n",
       "JKV66v2MoH0Z307ZVMDHLh3dQsAyAk3vT6WUXehfA4GZelKSeTgJE1eg050u9yAwI4wX0tgqjDMQ\n",
       "2LOUpL1r499sl8vrG2PNZcdTmF7d9ZsDfgcdgfLNCgo2ihc6X6DL+LXN7VwxhO2sKzDRC1p50PAH\n",
       "hHGBiKB9rGoL+nqnVNPftaaJOgLtXe8OFgsImKpmXIyU9HAF5CiF0+tO7bICxwrjqr4Asw8Lql/p\n",
       "sSQD21ewRO4gYkFVSj969zkE6hr5SEnSz/YDve403YPAscK4KgKt60xI5YO9+l69MU9nf51MFBRW\n",
       "SpZIq6rqR2poHgExVlKXvWsDcTNwBRrdFWwPAscK46oIcNomM95tvqScc51jNthYuQuNsNiFQPV/\n",
       "1oY5sq2F56O1OrxDQJZjJSEROhDcVv5Y4NPrzsk9CBwrjMsmiOn2I7Jw1JaNT8NEVShfJ/V4pVPh\n",
       "PXm4dO2gEWHlwzbwrmrJiLN9ZtFMdDfZ/XttgvhQYVwWgR1jPq5IiUAj+8qis/3EavNaL2sROFQY\n",
       "150vsHk//g1b36xGgAhe0P3Eyjd6WT1f4EhhvF1K8jEEzFaNRp7hMD9Vo4qQ7e7ap87bk15WI3Ck\n",
       "MC48cQxvmwlmIycPLuwHXJL9xNp3elk/cexAYVwYgZNL7MSx90p61ks2k8hhKckm6X85ArCUJE8E\n",
       "YCnJDRGAU0nACgACgAAgAAgAAoAAIAAIAAIQEQACYAWujgDsPppCGHdGAPYgTiKMW1uB7zyV5Gxh\n",
       "XHUpCfgCX+ULwKkkEBEAAhARAAIbpG/ObQOGiOBqCFzvnELIC5yMwPVOK4WO4OQ6r3dmMSBwdp3X\n",
       "OLkcEPhgnexUf1DN9h/XWEqSLQK2OLMJToEVuBwC5tSeYH65HCDw2TrdiTJaMDmAwGfrPNEMmIU1\n",
       "s7CU5MN1WnlWA5g+BwFYSrK1TnaSlOQSazBM9PE6//63M6r/r8Ul6+ALfL5OcnxfYNjyaAQgcIE6\n",
       "JTvYa1L0xUaWgMAV6lTCHZgm5Iy8QgwQuEadWgh7hCkwXAry+sKAwFXqNAUR1KctlIr3uSeICL65\n",
       "znUNAysACAACgAAgAAgchgAsJckRAVhKckMEICIAKwAIAAKAACAACAACgAAgAAhARAAIgBUABAAB\n",
       "QAAQAAQuWue6uQGAwDcjcDRhsJQEEEh6o7CU5HYIXHpx+awV4YDA8JHDV+4I4hGQc7PfGQcEZqSR\n",
       "EwLaAQKPokgKX+CXmyGAKCDwKAKnQOAvt0BA9cZKakCgLYVE+SAw2KQx8tTyb0Lg1x/zRGBg/TJH\n",
       "QP7GL5gXOAMBLQGBOiD8naBMEYh3CL8DAfI7zhYBpwABhH6mEl0egT+kQMDRUMqy/tVYPt5HwzvL\n",
       "JxDYX+YuhdA//tukufyVl5IsWYFoZ+C+VqBj4omNzDqC6JDgpgiMlP4/fx+9EYOAvR0C8YmBWyIw\n",
       "fuqL/1WjN/dfnnp3OwTi04N3RGDiEvzfPx5ijrw88eJ2CFCUIQKTf5d/xC8/31CUT3tE0gkIJBgq\n",
       "vB0C06hgvHVx7R/ubxlN6wycMEyUYJO+uyHwFBcS9QQJijADpbkBAksPQJ6pIc6S3pL05FYIpDjI\n",
       "4+4IGJz2lkjKoCApAnZujhhBgEDyW7IJ7QCsI7glAghrQCBzBI7xBWApSZ4IwFISsALQEaRH4Krj\n",
       "34DA9esEBAABQAAQAAQAAUAAEAAEAAFAABAABAABQAAQAAQAgY8hoAABsAKAACAACOSIQPeyTLxW\n",
       "DRC4R1GAACDwuFUKCOSOgEi8YhUQuEfRvuxeMi8BgQwRKPxj0SdJvGgZELhHsf1KZZd0mRIgcJci\n",
       "PZt5CQhkhIDrrX+ReOsCQOAehfVhgOo9w93laTEKBwQWzmlIWmLkLvqsME4wt/1pbTHjgAASIQcv\n",
       "i+K4BHyM3Es/2BbX4+RN0Q4QqLdddHyw/eLxCGyQ+3DfGho/Wvy8wwAFBOrNV5koDDoPgfVyx8P+\n",
       "n8RniJ+bInX2CNTa4KUv8YkIrJa7GkYBNj439NwUzHJHoLbJ2CBM7YkIrJa7HSaFVXxUOLPVjMCZ\n",
       "I0CCt0UrwUh+IgKr5U6G00RMfEhQN8VYV/copO78tMwbgWa7rUIfGRDEyJ2OdjGk0SFB3RSJdPAw\n",
       "Cp/MIbwzAsUZ46/75W7G2SAZ7Q+GpnCNXKieiIFDnC8CwpyEwD656/HIkIoeKApNqW65DOSXdhAW\n",
       "txFoHucRnFfWyX21K1AnipK4JSp0L7hLOiVwBm5sBeQpc3L3y32qcud5iqbU9sj6dCHBjRGg6DwE\n",
       "dsidTw2/ip041DSFhcsyhup8WIrEwH0RUO5EBHbI3T6tHCjLJDSSkA2TSKayhPdFgPAzrcB2uYvy\n",
       "GQqVoCmGSKsxafajpShnBM7pB3bLnc+Y/ciY4DlLlWSo8LYIFPZMBLbLncycbiHjTrx4bgrDOSNw\n",
       "SlJgv9zN3BNv4hzCp6YYgTJGAJ81G3On3O1sOthGmYGnptgiZwSk/hQC6+RezvcWNMYMPJ1IkGai\n",
       "zCcTb1HxwFm87pP70uOu/WU3JIeStJjFISHHQDpZFLKsaFqAeDIo6sU5Z7w0IKDvL/RVFlCBN5CB\n",
       "JzAk4P8B6dFLFrP0WqQAAAAASUVORK5CYII=\n",
       "\" style=\"display:inline;vertical-align:middle;\" /></a><br>"
      ],
      "text/plain": [
       "<IPython.core.display.HTML object>"
      ]
     },
     "metadata": {},
     "output_type": "display_data"
    }
   ],
   "source": [
    "_success_prob_e = ProbOfAll(m, _phase_est_circuit,\n",
    "                            domain=_m_domain,\n",
    "                            condition=LessEq(ModAbs(subtract(m, _b_floor), _two_pow_t), e)).with_wrapping()"
   ]
  },
  {
   "cell_type": "code",
   "execution_count": 72,
   "metadata": {},
   "outputs": [
    {
     "data": {
      "text/html": [
       "<strong id=\"_fail_prob_e\">_fail_prob_e:</strong> <a class=\"ProveItLink\" href=\"../__pv_it/common/6573752a88a4150d71f6acd5038fdd5679b52cbe0/common_expr.ipynb\"><img src=\"data:image/png;base64,iVBORw0KGgoAAAANSUhEUgAAAgIAAAEsCAMAAACG1SslAAAAkFBMVEX///8AAAAAAAAAAAAAAAAA\n",
       "AAAAAAAAAAAAAAAAAAAAAAAAAAAAAAAAAAAAAAAAAAAAAAAAAAAAAAAAAAAAAAAAAAAAAAAAAAAA\n",
       "AAAAAAAAAAAAAAAAAAAAAAAAAAAAAAAAAAAAAAAAAAAAAAAAAAAAAAAAAAAAAAAAAAAAAAAAAAAA\n",
       "AAAAAAAAAAAAAAAAAAA9Qh/bAAAAL3RSTlMAIqvdu2Yy782JRFQQdpm5wzBsr3D3QKmRfPnjl16F\n",
       "4aXX2yDnUGCh1ZPB6dHZ5aRycqQAAAAJcEhZcwAADsQAAA7EAZUrDhsAABNpSURBVHja7Z3ptoO4\n",
       "kYC1IbRPdzrpnDNLd7ozk8lkFr3/2w1iMYvBBiQwWKUf9/ravkhUfZSqShvChHpPCGGsQHNFiVIi\n",
       "KN9duCfhFy7F/OeAwNcX3CCACj+vawEI5IIA9xQQyBsB5QUgkDcC0uvg/FktBUbIOGudqhFwRfVS\n",
       "g6C+HQFjyzokKJ3GvkCcVhggZgMC9UvhQFJfjACVUtr2MaeVQ2CqX7JxD3ilfNJ0E+rNdQpZbKp2\n",
       "mSkunRn+7RZevy2A7VoE2LDnJ43uGyJCkNA+//6NPHnZ/K5oeuU8GCkJCQou7MyHReuOSDJ8my28\n",
       "nm2GYOu/DGUWgVrTun3mw0cdArPy5JYwVn9XN9oLmlXs9YPpKktj6bN7wa1tgxIt9iKAiNyPgDGA\n",
       "QOf/P6yAe20FnOPdy1ZrZXjD48XaAls49C+zEaiOR6Dk+xHAzGFAoA0BS/dwALquoRJt4YrqSSXI\n",
       "FqwWtB30/o3WsA8PUrkcPxSmQcCI/QhMmzGyJL76xOzuCDghuO+zCltkgQAf5QOoa3t23vEghGnt\n",
       "qylUCBvKiglbRxFDETfdOK8RoK8lJytFa4eKZQQUfYHAtBmjYqlBNtxD8Ej2+ALYkYYrQ6vfJAcb\n",
       "QIT3j/5TEV8S3Uii8tvqTp4ZrZQNL7GxQc/BHrjwH6oYumG8R6C0L5mjwRK4Ai8jgIQ1iwhMmzEq\n",
       "YbQr0GhcdQW2Xu9Dj8DV3g0hCMs8rMCWQmzr+lNdP/isLro2oKbvCLx+2eEOtMtZV/AIAS3sC19g\n",
       "3IzRNYL1ctWzq4stHcEkPCnKcCVXaAMqn/O1bHgQPeIhfh9aYLLKHawfOLz0eYcALl+6g+NmjN3N\n",
       "xhXBtRlZRkCXZtR7DMMTXWfEXt5EzvFj+wgWrI7uhs9z68HZEBSSQRqg+/GwAZxzZ94g8NodnDZj\n",
       "WKpOpgjfEW/cwdrBQUo3WXA69Gla4x+MG4LxkUmpdRtGEDCp+2o88Mg7rUlpBxrmwaTWPzo74kNZ\n",
       "IEwKL+17BKbNGDkaztZXWIdAZWxM1Zg+PLFM9y6BLSz0BG9zKTJ0wepZa5ElIi8w9O9C+MBcURCl\n",
       "g2PHrbaBWS510XQEuPEpuvCEMxgNi7EQ9EoIaP0wGaK26Vg0z3p4+mnTYbQXVEvhCZStRdh0qQqh\n",
       "oxAwVpphr8HqVFSdt640zsWjI6iiBw6aS5hjSmVF8UQteOH1i+RT8fiych0Cpnv6B1agQsWC5r7c\n",
       "WyGUK+qQrCJFVfl3qvUFmiyoqFxTCkKCAgVKuuKTfemDTp0CPcYgsKp8upWYvsh3OAJqzMAKyGU1\n",
       "j1PnUL62IyiXhkBNCYOj10fAJAi+1dIgGNmf5J29IgcEhqrDSRAofIpZsWT+Itzv9wXl3L+yBAz4\n",
       "T5RDEHhIIwoB55O4a3h+ToeIGOmZRUC7Y5+rj5rzrf/ZD6HH3JL1iWbGs7mUmI4wAvMIIAoI9A8Y\n",
       "TnBLyvtEDjv3M5lxEaOwAQKDKYVSAwJt+aNLcUvUJ5vEwsp1WOxBQPfXwQwQaMuffk5w+XRGIBj9\n",
       "p+eTRF19HoGB9cscgT+LFJcnPuHEnKdrmTg/YwEBLQGBWrp/wikuT33ClbLE82m4qQ9AIN4h/A4E\n",
       "xJ/TXN4nnN2gpn4Fi+tllhBwChBA6Od/NtdDAPly0g/EPa81Ao6GUpb1r3YHIxKb4/kEAsmSSu2b\n",
       "//KviS7vU2bw2bgnKCKjjSUrEO0M3NYKDIiYwBFjBVIiYMc6J14dgkB0SHBTBEY6L/9t9MZVEBgv\n",
       "KEZlpKgXEIhPDNwSgXGH8Muv43evggAaZRliXYElBOLTgzdEYOoR/PpjL/NLISCGpl/Hjj4sIEBR\n",
       "fghMCRiuUK8/i0Hgl5T36YYBhovNPc8jkGCo8HYITAkY76cSPo1B4C8p73M09UB4nQyBwTARw9kh\n",
       "8BQXEvUEyVUQ4MPMQOl5MgSWHoA8U0Ocpbx82o7AjELV2BGoWQRS7NZ0dwQMTopA2smdvn/ycXQS\n",
       "zs5ZEYIAgbSXT4wA7ft/fd2VdYDAcR1B5QI+XHebchwaELiNFSB9ICg9AwQyRGAwHZl4AghkiIDs\n",
       "rT/zDhBIo6NjlykkR4D2bgEg8OE6P4KA7XNDCecmAwI3QqDoLVIJCNwCgZ9+4schYAGBDK2AHiJQ\n",
       "AAJ5I+ABgSwRUEMENCCQIQK8Hx78px9+BAQyROCvP/wAVuBuCPxylBUABLLvCAABQAAQAAQAAUAA\n",
       "EAAEAAGICAABsAKAACAACMTWebNZQ4DAAQgcTdiBCPwBEMgQgZ/BCtwPAYgI7oxAgs3oL+0LHHYe\n",
       "wfcgkGAz+ksjcNx5BN+CQIrN6O+HAJxHMCgpNqO/HwJwHkFfConyQQDOI5gr/bZj3xoRwHkEr/9T\n",
       "/sYzsgJwHsFMQPg7QZkiAOcRNIX8jnNFAM4jaET9m0TZIgDnEYTy1383V0fA/YRTIADnEfiF6/yS\n",
       "6PKJETA//YQOtwLZnkcwBOI/xnTsv3zqxeWndASZnkcwtgfhPILBW3n5AnmeR+CXziPwGSIA5xGg\n",
       "C59HcAoCcB5B4vMIbocAnEeQ+jyC2w0T5XgewfQtohJe/ibDREsPQJ6pocTnEdxtvgCcR3Dx8wiS\n",
       "IgDnEaz/T1hKAghcEwFYSpIjArCU5IYIwFISsAKAwNURgJXFuSNwdMMAAUAAEAAEAIHcEYCIAKwA\n",
       "IAAIAAKAACAACAACgMARCMQvJQEE7ohA0qUkgMAZ5dJLSQAB8AUAAUAAEAAEAAFAIBsETEEE9WkL\n",
       "pez9XgyAwDXq1EJYbtLXapSkBL9BAIaJPl8nF84cVzMXxIAVuDYClh2cRFNUAQJXRoC4wys3ogAE\n",
       "rovAb387o/r/ZB9BAJaSrKiTnPSgSHkSArCUZGOdVp7VAKYhIrgiAoae1oClqsAX+Gyd7kQZLSzL\n",
       "BwQ+WmeK/TLWF/oegYXolAMCR9VZFGc2YT5ZPEJg/hSQTacBAQKb6mTmzCYotxeBLVt8AQKb6hTn\n",
       "toG+jQgWENiy0R8gsKVOTM5tg9hrBbZs93kYAtR9IQJKniuM2X5nFQIbNv09CgHjxRciMNpc+wRh\n",
       "OL4XgQ1bfx9mBQz6QgS8OVcY2K9CQFlisLTMIi4la6BYfwAAjBFsQuASjXhCQCJGbDA2RfWXLjc6\n",
       "hDBGcEMEJhGBUoiy2maEfqrwo6TC+w4BIoL7WwFTPf9B37pWpWv9juY0IPO+yYDAF3QElfLRQ/ll\n",
       "6wQ0zoAWH0PgOyMCf7YwViJA6uvToHTlceN9hh4ASyok/5QV+Mq8gD9bGCsRqJ/8pjeoaMBFnxgQ\n",
       "+mNWADqCEzsC7PnDD2QS1T1Amx5cEcYCAl+AgKoDQFubGuUs7mNCVSJA4PsQGC0uX8oOtkOFliDD\n",
       "AYEMIoLn0q50cBZJAwjkiEA3u4m74u3kEUDgKxHYchoQIHBvBOz8Q75lXgNsN3VvBBIU2G7qhghc\n",
       "YynJNoOBvxuB44RxhhXYiYDdZjCU/TACePsX1iNwoDCui8DKKSlYStdMYok8rzIWgfdKetbLagSO\n",
       "FMZlEeiiTkNfPl0mZKh0c1VhUiJgiXOkURom1HtCCGNBMJzQsqz+IqIsi7GSwhdpvSyYlF7Yt2HU\n",
       "WgQOFcZlEXBtG/TrQQgbLtgOlBYuHQK8HhVFlvL2FuoQCJd1Rar5Cxkmp0qSvg2ix6uDW91N9bIW\n",
       "gUOFcVkEurEH93p+miqDyNux8tKkQqCZH1VLlTd/N0ovvBz8hQyZKkl0lxlvFNTqbqqXtQgcKoyr\n",
       "RgSPmSh0RS+oW2YHO6d0O2qtn+s+koR4jH5ROkSAezpEALmpkjybTZx0upvoZSUCxwrjqlbA1Ter\n",
       "CPOMvPNuFW3bK3u548aCt7+2IqC97I2rHShd1Y9Y85cKU2knSlKd9TBjZXW6m2zvsxKBY4VxVQTE\n",
       "o/d7e3VLSHtrxWDuVH2/GwgYSYL0zeQDpYeuXj/+smqqpPB515TBhwPdSbIHgWOFcVUEaPs9t2ZG\n",
       "XOsEP6a3d7e9hYCRJIRXvVdQPpRubBMCVO9V8YBXz0qi5bSHGOuuEHsQOFYYpyOwcilJqZ56PyNo\n",
       "X8a3UzYV8LFLR7cQsIxA0/tTKWUX+tdAYKaelGQeTsLEFeh0p8s9CMwI44U0tgrjDAT2LCVp79r4\n",
       "N9vl8vrGWHPZ8RSmV3f95oDfQUegfLOCgo3ihc4X6DJ+bXM7VwxhO+sKTPSCVh40/AFhXCAiaB+r\n",
       "2oK+3inV9HetaaKOQHvXu4PFAgKmqhkXIyU9XAE5SuH0ulO7rMCxwriqL8Dsw4LqV3osycD2FSyR\n",
       "O4hYUJXSj959DoG6Rj5SkvSz/UCvO033IHCsMK6KQOs6E1L5YK++V2/M09lfJxMFhZWSJdKqqvqR\n",
       "GppHQIyV1GXv2kDcDFyBRncF24PAscK4KgKctsmMd5svKedc55gNNlbuQiMsdiFQ/Z+1YY5sa+H5\n",
       "aK0O7xCQ5VhJSIQOBLeVPxb49Lpzcg8Cxwrjsgliuv2ILBy1ZePTMFEVytdJPV7pVHhPHi5dO2hE\n",
       "WPmwDbyrWjLibJ9ZNBPdTXb/XpsgPlQYl0Vgx5iPK1Ii0Mi+suhsP7HavNbLWgQOFcZ15wts3o9/\n",
       "w9Y3qxEgghd0P7HyjV5Wzxc4Uhhvl5J8DAGzVaORZzjMT9WoImS7u/ap8/akl9UIHCmMC08cw9tm\n",
       "gtnIyYML+wGXZD+x9p1e1k8cO1AYF0bg5BI7cey9kp71ks0kclhKskn6X44ALCXJEwFYSnJDBOBU\n",
       "ErACgAAgAAgAAoAAIAAIAAKAAEQEgABYgasjALuPphDGnRGAPYiTCOPWVuA7TyU5WxhXXUoCvsBX\n",
       "+QJwKglEBIAARASAwAbpm3PbgCEiuBoC1zunEPICJyNwvdNKoSM4uc7rnVkMCJxd5zVOLgcEPlgn\n",
       "O9UfVLP9xzWWkmSLgC3ObIJTYAUuh4A5tSeYXy4HCHy2TneijBZMDiDw2TpPNANmYc0sLCX5cJ1W\n",
       "ntUAps9BAJaSbK2TnSQlucQaDBN9vM6//+2M6v9rcck6+AKfr5Mc3xcYtjwaAQhcoE7JDvaaFH2x\n",
       "kSUgcIU6lXAHpgk5I68QAwSuUacWwh5hCgyXgry+MCBwlTpNQQT1aQul4n3uCSKCb65zXcPACgAC\n",
       "gAAgAAgAAochAEtJckQAlpLcEAGICMAKAAKAACAACAACgAAgAAgAAhARAAJgBQABQAAQAAQAgYvW\n",
       "uW5uACDwzQgcTRgsJQEEkt4oLCW5HQKXXlw+a0U4IDB85PCVO4J4BOTc7HfGAYEZaeSEgHaAwKMo\n",
       "ksIX+OVmCCAKCDyKwCkQ+MstEFC9sZIaEGhLIVE+CAw2aYw8tfybEPj1xzwRGFi/zBGQv/EL5gXO\n",
       "QEBLQKAOCH8nKFME4h3C70CA/I6zRcApQAChn6lEl0fgDykQcDSUsqx/NZaP99HwzvIJBPaXuUsh\n",
       "9I//Nmkuf+WlJEtWINoZuK8V6Jh4YiOzjiA6JLgpAiOl/8/fR2/EIGBvh0B8YuCWCIyf+uJ/1ejN\n",
       "/Zen3t0Ogfj04B0RmLgE//ePh5gjL0+8uB0CFGWIwOTf5R/xy883FOXTHpF0AgIJhgpvh8A0Khhv\n",
       "XVz7h/tbRtM6AycMEyXYpO9uCDzFhUQ9QYIizEBpboDA0gOQZ2qIs6S3JD25FQIpDvK4OwIGp70l\n",
       "kjIoSIqAnZsjRhAgkPyWbEI7AOsIbokAwhoQyByBY3wBWEqSJwKwlASsAHQE6RG46vg3IHD9OgEB\n",
       "QAAQAAQAAUAAEAAEAAFAABAABAABQAAQAAQAAUDgYwgoQACsACAACAACOSLQvSwTr1UDBO5RFCAA\n",
       "CDxulQICuSMgEq9YBQTuUbQvu5fMS0AgQwQK/1j0SRIvWgYE7lFsv1LZJV2mBAjcpUjPZl4CAhkh\n",
       "4HrrXyTeugAQuEdhfRiges9wd3lajMIBgYVzGpKWGLmLPiuME8xtf1pbzDgggETIwcuiOC4BHyP3\n",
       "0g+2xfU4eVO0AwTqbRcdH2y/eDwCG+Q+3LeGxo8WP+8wQAGBevNVJgqDzkNgvdzxsP8n8Rni56ZI\n",
       "nT0CtTZ46Ut8IgKr5a6GUYCNzw09NwWz3BGobTI2CFN7IgKr5W6HSWEVHxXObDUjcOYIkOBt0Uow\n",
       "kp+IwGq5k+E0ERMfEtRNMdbVPQqpOz8t80ag2W6r0EcGBDFyp6NdDGl0SFA3RSIdPIzCJ3MI74xA\n",
       "ccb46365m3E2SEb7g6EpXCMXqidi4BDni4AwJyGwT+56PDKkogeKQlOqWy4D+aUdhMVtBJrHeQTn\n",
       "lXVyX+0K1ImiJG6JCt0L7pJOCZyBG1sBecqc3P1yn6rceZ6iKbU9sj5dSHBjBCg6D4EdcudTw69i\n",
       "Jw41TWHhsoyhOh+WIjFwXwSUOxGBHXK3TysHyjIJjSRkwySSqSzhfREg/EwrsF3uonyGQiVoiiHS\n",
       "akya/WgpyhmBc/qB3XLnM2Y/MiZ4zlIlGSq8LQKFPROB7XInM6dbyLgTL56bwnDOCJySFNgvdzP3\n",
       "xJs4h/CpKUagjBHAZ83G3Cl3O5sOtlFm4KkptsgZAak/hcA6uZfzvQWNMQNPJxKkmSjzycRbVDxw\n",
       "Fq/75L70uGt/2Q3JoSQtZnFIyDGQThaFLCuaFiCeDIp6cc4ZLw0I6PsLfZUFVOANZOAJDAn4f/l/\n",
       "Su8jFlMmAAAAAElFTkSuQmCC\n",
       "\" style=\"display:inline;vertical-align:middle;\" /></a><br>"
      ],
      "text/plain": [
       "<IPython.core.display.HTML object>"
      ]
     },
     "metadata": {},
     "output_type": "display_data"
    }
   ],
   "source": [
    "# Corrected mod and switched back to m instead of phi\n",
    "_fail_prob_e = ProbOfAll(m, _phase_est_circuit,\n",
    "                         domain=_m_domain,\n",
    "                         condition=greater(ModAbs(subtract(m, _b_floor), _two_pow_t), e)).with_wrapping()"
   ]
  },
  {
   "cell_type": "code",
   "execution_count": 73,
   "metadata": {},
   "outputs": [
    {
     "data": {
      "text/html": [
       "<strong id=\"_Psi_register_meas\">_Psi_register_meas:</strong> <a class=\"ProveItLink\" href=\"../__pv_it/common/8a4f9ec24c58f0c0e50ce5b0c54e00ff538a80bc0/common_expr.ipynb\"><img src=\"data:image/png;base64,iVBORw0KGgoAAAANSUhEUgAAAPAAAADbCAMAAABk4OxVAAAAeFBMVEX///8AAAAAAAAAAAAAAAAA\n",
       "AAAAAAAAAAAAAAAAAAAAAAAAAAAAAAAAAAAAAAAAAAAAAAAAAAAAAAAAAAAAAAAAAAAAAAAAAAAA\n",
       "AAAAAAAAAAAAAAAAAAAAAAAAAAAAAAAAAAAAAAAAAAAAAAAAAAAAAAAAAAAAAAC2Ur7sAAAAJ3RS\n",
       "TlMAIolEdjJUq7vv3WbNEJmFr6XhMNfb4yDnUF5w90CpkXz5l2Ch1ZMkutYrAAAACXBIWXMAAA7E\n",
       "AAAOxAGVKw4bAAAHeklEQVR42u2d65ajKBCAuSmIYmZ7uncuOzPn7JX3f8ONt0SMJkYLA1r8mdPd\n",
       "DOFLFUVRlgUhnpud1ch+mgXrhMAIDNIo9wdsKAywSQGBuVXGF7BKQIBzqwgosaZ+gLkEUenSSlil\n",
       "PhP7AS4oBLCAle/qr3CaJWcQRotba6CBjbWJB+C3zxDA2jJ4S61WiHiShb0nAMA+BFyZweWjTrGY\n",
       "DwmxD0tbeNiL+QqdnmKRHxQCWNvSA/B5EafAwMk7A/G0rBV+jjw5MPCXryZs4OVtahyo8fNgJdyn\n",
       "/JaRPrN9xcw8A7sizb47v9shsIt0enO/ht0BD2M4Vyer+cvegIe8LB922BXwTYjOFMOvJEDgE+A+\n",
       "LDlciGfFzDYDThSJABjQ0zIUFDgPHnhpJwRG4FCtNCxwcEbL78O08FTac0NgBEbgF9rCcGeGKo3A\n",
       "CIzAaKXRSqNK43k4CuCjHQ8xxBMF8KdPSaDAK2b2AgkD5FrGpdIAuZZRAUPkWkYFDJFrGRPwH2XI\n",
       "25KHQPyPnyDAp1gk/Ks4luNhftBjARe/juVa/vzThA0Mk3p4GYr8/hfU+CFb6csXMPwqdmmlHcIq\n",
       "9bD3iz2mHjpMXeqhtXsFHizlS+qhPV7qod1f6uENr5t6aHeXenizMw1SD+3efWng1MPwPS1MPURg\n",
       "BN5HxAMI+IQSfjEw5lrGMDMERuCdAXt6KBnuzFClERiBETgyYMy1RJU+IrCFbSEDm1wWGrgMENVa\n",
       "lTxI4LQoROKhyhMxnGlJQ7PSSVEaj6s0KaQJykoLRT0bJq55QCotS+K9mSIPBvj97012n39UIMAy\n",
       "Jds0xoIAFoxs1VQagJU2ejPeqc/a1kqX6XbAROQvV2lTkC2bhgEe3USTWcPm254oRt1MZ2YTDoFL\n",
       "w8aGUckcYGU2BeblI2A27qC4NF2nVKosU+02k5ZzgLfV6HGdngPs0vQ6ZdnU2KPAVG4MXCwEdmnq\n",
       "TimrpK6rP9A6iYq59nc03M0XbsJ6qTM6toScmU0BOzRNpyLrgLWuhqXqsYQX1gw1i8vnjhXInSVh\n",
       "h6bpxKrBKmDTFrct6GPghTYLtJDxLGCHpumUV9V2K+CklVvKHgNvvIRnAnMhDWVCCZIwpvgNTQOc\n",
       "Vv+vAubdADpWYEaUFJWq5uef0uyGpgGuNbkCFt1Ccbb5iIA5J7pasrRW1dw6NJVqt3qvsgb4EolL\n",
       "5CMXPRDgkwtszsKrN57axJRFn8bY60I3RVkBM92ZFGcRQ0p4hZWeZ7TSul+DmrE+TVr0LZuQNpNi\n",
       "1LDBqvTifXgmsKxRdYXILW02hYqGMl2c/Y2eKdd6YuuKymg1Um30+sxO8ytNkbp7l80mnJOogGlt\n",
       "dhtrpRhhPZp6WV8PD4W16hKj0iRWYF5PXZTNAUvQKw3Ppr2TwXEpIit9h0ZIYpKJToPgelRreJKm\n",
       "FISZ8U7D4E3cwB1NUubJRKdhwCxuYJdGjCV2SRIlsBhPUlsQqIgEGPCjnrHSTz1MpKuBtwvETwCL\n",
       "p6LzXAQq4dnA6axIF2WsbA7nIo8buNsCzN2r9ExZn2pqXShM1MBl2zG9G/ESFWt7TszLqIG780d5\n",
       "98Eizyp1bg/GmQkReKaVTjsXTT9eymk7114+Q5exQ1UsVrqsOblUVskH9pfrdkx2dQyoTnr/xKDS\n",
       "xWUJPxgxEVK2VHnPca9RJ3iDBNbtJlzOiFu1VvoSSu2Ip3i3BZ6ZC5nxmyVsCn1tDkrWWPLEGYjq\n",
       "KV7y6jvT7gA3EaU7Cl0zqUbEPJsLHK5K10v4bsKguQKnOjyVHn1cOvb5SlyWcHrnhaJM9lQ6VyuM\n",
       "1pbvLY19frvFSEnMvV2pzg7p9uGSRbwtJbp1HB4kvPCybA8P52VwXe/dTkWLaFxL/bSG0dnZbUEC\n",
       "508/RynzqIHJs9nTdP4N4GGGeMyTV5g/8QUFGuKhT+W6iCcUIkyV9tgQGIEReAMrvTnwCSWMwAiM\n",
       "wAgMaaWBE9OCt9IeUw8DVWmDaxiBETgMYLNf4NFwd7r1azxlMnNmniQcxItaW6p0eK/ieQYO72VL\n",
       "38DBvU7rG1iE9sK058NDIK/EY9EDj8BbiniyrAUWLvEJPDUN+BZIaRpC/t2m+NB/mxcfmrSFcgOt\n",
       "NkosmJkfCZ+V7WAFxM7z8VwiTt2rive6IoBexGwSVryoCOCsMo/AdS21Lh66Nli51LuVfjkwFuNF\n",
       "YARGYATGmzyCaXiTBwIjMALDDhvrnWl4DWAwwHizZcDAl3tqjwJ8KQt8EKPFZcBG6zcPwNc6g/YV\n",
       "M9tcpXN2MKP19vlYwOw9ORSw+ZDH2oflBz0UcPLOjuVpfflqwgaGuept6g9rxvcBbKxN10u4z/gt\n",
       "c35cI2HhAZham6wFdkWdfXd+txxYWx83euXWrnwzYxDTOL25X8NyYGl95IpJuzxT2I7wOk6WXQXM\n",
       "rYfE/PMS5quAhzwsf9DhKZ0WQQn4zHITohtkLNpVwNxm0CLmds1NYSMsksOFeKpLSCQ0b0ZBgRNF\n",
       "IIHPCljC8q5LfL9lMRQWmAhQGdOV6aOeo5Ygc4T1SjcADqoh8O6B/T5Me7r9Dxh9YOj+snYXAAAA\n",
       "AElFTkSuQmCC\n",
       "\" style=\"display:inline;vertical-align:middle;\" /></a><br>"
      ],
      "text/plain": [
       "<IPython.core.display.HTML object>"
      ]
     },
     "metadata": {},
     "output_type": "display_data"
    }
   ],
   "source": [
    "_Psi_register_meas = Qcircuit(VertExprArray(\n",
    "    [*multi_input_entries(_Psi_ket, one, _t, (one, _t))], \n",
    "    [ExprRange(k, Measure(Z), one, _t)],\n",
    "    [*multi_output_entries(NumKet(m, _t), one, _t, (one, _t))]))"
   ]
  },
  {
   "cell_type": "code",
   "execution_count": 74,
   "metadata": {},
   "outputs": [],
   "source": [
    "# _success_prob_guarantee = greater_eq(_success_prob, subtract(one, _eps))"
   ]
  },
  {
   "cell_type": "code",
   "execution_count": 75,
   "metadata": {},
   "outputs": [
    {
     "name": "stdout",
     "output_type": "stream",
     "text": [
      "These common expressions may now be imported from the theory package: proveit.physics.quantum.QPE\n"
     ]
    }
   ],
   "source": [
    "%end common"
   ]
  },
  {
   "cell_type": "code",
   "execution_count": null,
   "metadata": {},
   "outputs": [],
   "source": []
  }
 ],
 "metadata": {
  "kernelspec": {
   "display_name": "Python 3",
   "language": "python",
   "name": "python3"
  }
 },
 "nbformat": 4,
 "nbformat_minor": 0
}