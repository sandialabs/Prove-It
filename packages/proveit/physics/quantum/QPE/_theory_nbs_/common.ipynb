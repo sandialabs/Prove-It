{
 "cells": [
  {
   "cell_type": "markdown",
   "metadata": {},
   "source": [
    "Common expressions for the theory of <a class=\"ProveItLink\" href=\"theory.ipynb\">proveit.physics.quantum.QPE</a>\n",
    "========"
   ]
  },
  {
   "cell_type": "code",
   "execution_count": null,
   "metadata": {},
   "outputs": [],
   "source": [
    "import proveit\n",
    "%common_expressions_notebook # Keep this at the top following 'import proveit'.\n",
    "from proveit import defaults\n",
    "from proveit import (Literal, Variable, ExprRange, ExprArray, VertExprArray,\n",
    "                     ConditionalSet, Conditional)\n",
    "from proveit import a, b, e, i, j, k, l, m, n, r, s, t, u, U, eps\n",
    "from proveit.logic import (Set, Difference, InSet, Set, CartExp, \n",
    "                           Equals, NotEquals, SetOfAll)\n",
    "from proveit.numbers import (\n",
    "    zero, one, two, Abs, Add, Ceil, Complex, Exp, frac, greater, greater_eq,\n",
    "    Interval, LessEq, Log, ModAbs, NaturalPos, Neg, Mult, Round, subtract, subtract)\n",
    "from proveit.linear_algebra import MatrixExp\n",
    "from proveit.statistics import Prob, ProbOfAll\n",
    "from proveit.physics.quantum import Ket, NumKet, MEAS, I, Z, H, CONTROL, ket_plus\n",
    "from proveit.physics.quantum.circuits import (\n",
    "    Qcircuit, Input, Output, Gate, Measure, control_elem, multi_wire, \n",
    "    multi_input_entries, multi_output_entries, multi_gate_entries,\n",
    "    multi_measure_entries)\n",
    "from proveit.physics.quantum.QFT import InverseFourierTransform\n",
    "from proveit.physics.quantum.QPE import QPE, QPE1\n",
    "from proveit.physics.quantum.QPE.phase_est_ops import ModAdd, SubIndexed\n",
    "from proveit.numbers import Round\n"
   ]
  },
  {
   "cell_type": "code",
   "execution_count": null,
   "metadata": {},
   "outputs": [],
   "source": [
    "%begin common"
   ]
  },
  {
   "cell_type": "code",
   "execution_count": null,
   "metadata": {},
   "outputs": [],
   "source": [
    "# U: Unitary operator to apply quantum phase estimation.\n",
    "_U = Literal('U')"
   ]
  },
  {
   "cell_type": "code",
   "execution_count": null,
   "metadata": {},
   "outputs": [],
   "source": [
    "# n: Number of qubits which U acts on.\n",
    "_n = Literal('n')"
   ]
  },
  {
   "cell_type": "code",
   "execution_count": null,
   "metadata": {},
   "outputs": [],
   "source": [
    "# u: Eigenvector of U to apply the quantum phase estimation.\n",
    "_ket_u = Literal('|u>', r'\\lvert u \\rangle')"
   ]
  },
  {
   "cell_type": "code",
   "execution_count": null,
   "metadata": {},
   "outputs": [],
   "source": [
    "# phase: Eigenvalue phase of u w.r.t. U.  U u = e^{i \\varphi} u.\n",
    "#        This \\varphi is the phase that is the objective of phase estimation.\n",
    "_phase = Literal('phase', latex_format=r'\\varphi')"
   ]
  },
  {
   "cell_type": "code",
   "execution_count": null,
   "metadata": {},
   "outputs": [],
   "source": [
    "_phase_est = Literal('phase_est', latex_format=r'\\tilde{\\varphi}')"
   ]
  },
  {
   "cell_type": "code",
   "execution_count": null,
   "metadata": {},
   "outputs": [],
   "source": [
    "phase = Variable('phase', latex_format=r'\\varphi')"
   ]
  },
  {
   "cell_type": "code",
   "execution_count": null,
   "metadata": {},
   "outputs": [],
   "source": [
    "phase_est = Variable('phase_est', latex_format=r'\\tilde{\\varphi}')"
   ]
  },
  {
   "cell_type": "code",
   "execution_count": null,
   "metadata": {},
   "outputs": [],
   "source": [
    "# t: Number of qubit registers for the quantum phase estimation.\n",
    "#    We prove that this is the bits of precision of phase estimation.\n",
    "_t = Literal('t')"
   ]
  },
  {
   "cell_type": "code",
   "execution_count": null,
   "metadata": {},
   "outputs": [],
   "source": [
    "_n = Literal('n')"
   ]
  },
  {
   "cell_type": "code",
   "execution_count": null,
   "metadata": {},
   "outputs": [],
   "source": [
    "_eps = Literal('eps', r'\\epsilon')"
   ]
  },
  {
   "cell_type": "code",
   "execution_count": null,
   "metadata": {},
   "outputs": [],
   "source": [
    "# Psi: Outcome of register qubits following the quantum phase estimation circuit.\n",
    "_Psi_ket = Literal('|Psi>', latex_format=r'\\lvert \\Psi \\rangle')"
   ]
  },
  {
   "cell_type": "code",
   "execution_count": null,
   "metadata": {},
   "outputs": [],
   "source": [
    "# psi: indexed intermediate output registers inside the quantum phase estimation circuit.\n",
    "_psi = Literal('psi', latex_format=r'\\psi')"
   ]
  },
  {
   "cell_type": "code",
   "execution_count": null,
   "metadata": {},
   "outputs": [],
   "source": [
    "# SubIndexed puts in in a ket for display purposes.\n",
    "_psi_t_ket = SubIndexed(_psi, t)"
   ]
  },
  {
   "cell_type": "code",
   "execution_count": null,
   "metadata": {},
   "outputs": [],
   "source": [
    "_psi__t_ket = SubIndexed(_psi, _t)"
   ]
  },
  {
   "cell_type": "code",
   "execution_count": null,
   "metadata": {},
   "outputs": [],
   "source": [
    "_psi_1 = SubIndexed(_psi, one)"
   ]
  },
  {
   "cell_type": "code",
   "execution_count": null,
   "metadata": {},
   "outputs": [],
   "source": [
    "_U_pow_two_pow_k = Exp(_U, Exp(two, k))"
   ]
  },
  {
   "cell_type": "code",
   "execution_count": null,
   "metadata": {},
   "outputs": [],
   "source": [
    "_s = Literal('s')"
   ]
  },
  {
   "cell_type": "code",
   "execution_count": null,
   "metadata": {},
   "outputs": [],
   "source": [
    "# Used to be\n",
    "# m: Random variable for the measurement of Psi as an\n",
    "#    integer from the register's binary representation.\n",
    "# Now we are using it as the size of the |u> register.\n",
    "# As of 10/25 back to using this for the measurement of Psi\n",
    "# Now using s as the size of the |u> register\n",
    "#_m = Literal('m')"
   ]
  },
  {
   "cell_type": "code",
   "execution_count": null,
   "metadata": {},
   "outputs": [],
   "source": [
    "# phase_m: Random variable for the phase result of the\n",
    "#          quantum phase estimation phase_m = m / 2^t\n",
    "#          (I wish the subscript appeared a bit lower)\n",
    "#_phase_m = Literal('phase_m', latex_format=r'\\varphi_m')"
   ]
  },
  {
   "cell_type": "code",
   "execution_count": null,
   "metadata": {},
   "outputs": [],
   "source": [
    "# b: The \"best\" outcome of measurement m, defined in Nielsen & Chuang\n",
    "# such that b is the t-qubit estimate closest to, BUT LESS THAN, phase phi.\n",
    "_b = Literal('b')"
   ]
  },
  {
   "cell_type": "code",
   "execution_count": null,
   "metadata": {},
   "outputs": [],
   "source": [
    "# b_f: The \"best\" outcome of measurement m, defined (in the axioms) as\n",
    "# the best t-qubit under-estimate of the phase phi (i.e. the binary expansion\n",
    "# of phi truncated to t-bits). The 'f' stands for 'floor'.\n",
    "_b_floor = Literal('b_{f}', latex_format=r'b_{\\textit{f}}')"
   ]
  },
  {
   "cell_type": "code",
   "execution_count": null,
   "metadata": {},
   "outputs": [],
   "source": [
    "# b_r: The \"best\" outcome of measurement m, now defined (in the axioms) as\n",
    "# the t-qubit estimate closest to phase phi (i.e. the binary expansion of\n",
    "# phi ROUNDED to t-bits). The 'r' stands for 'round'.\n",
    "_b_round = Literal('b_{r}', latex_format=r'b_{\\textit{r}}')"
   ]
  },
  {
   "cell_type": "code",
   "execution_count": null,
   "metadata": {},
   "outputs": [],
   "source": [
    "two_pow_t = Exp(two, t)"
   ]
  },
  {
   "cell_type": "code",
   "execution_count": null,
   "metadata": {},
   "outputs": [],
   "source": [
    "two_pow_s = Exp(two, s)"
   ]
  },
  {
   "cell_type": "code",
   "execution_count": null,
   "metadata": {},
   "outputs": [],
   "source": [
    "# 2^t\n",
    "_two_pow_t = Exp(two, _t)"
   ]
  },
  {
   "cell_type": "code",
   "execution_count": null,
   "metadata": {},
   "outputs": [],
   "source": [
    "# 2^{t-1}\n",
    "_two_pow__t_minus_one = Exp(two, subtract(_t, one))"
   ]
  },
  {
   "cell_type": "code",
   "execution_count": null,
   "metadata": {},
   "outputs": [],
   "source": [
    "# 2^{t+1}\n",
    "_two_pow__t_plus_one = Exp(two, Add(_t, one))"
   ]
  },
  {
   "cell_type": "code",
   "execution_count": null,
   "metadata": {},
   "outputs": [],
   "source": [
    "_two_pow_t__minus_one = subtract(Exp(two, _t), one)"
   ]
  },
  {
   "cell_type": "code",
   "execution_count": null,
   "metadata": {},
   "outputs": [],
   "source": [
    "# amplitude of output register as indexed\n",
    "_alpha = Literal('alpha', latex_format= r'\\alpha')"
   ]
  },
  {
   "cell_type": "code",
   "execution_count": null,
   "metadata": {},
   "outputs": [],
   "source": [
    "# These are subscripted with letter l (ell), NOT numeral 1 (one)\n",
    "_alpha_l = SubIndexed(_alpha, l)"
   ]
  },
  {
   "cell_type": "code",
   "execution_count": null,
   "metadata": {},
   "outputs": [],
   "source": [
    "_alpha_m = SubIndexed(_alpha, m)"
   ]
  },
  {
   "cell_type": "code",
   "execution_count": null,
   "metadata": {},
   "outputs": [],
   "source": [
    "from proveit.numbers import Mod\n",
    "_alpha_l_mod_two_pow_t = SubIndexed(_alpha, Mod(l, _two_pow_t))"
   ]
  },
  {
   "cell_type": "code",
   "execution_count": null,
   "metadata": {},
   "outputs": [],
   "source": [
    "from proveit import m\n",
    "from proveit.numbers import Mod\n",
    "_alpha_m_mod_two_pow_t = SubIndexed(_alpha, Mod(m, _two_pow_t))"
   ]
  },
  {
   "cell_type": "code",
   "execution_count": null,
   "metadata": {},
   "outputs": [],
   "source": [
    "# These are subscripted with letter l (ell), NOT numeral 1 (one)\n",
    "_alpha_bl = SubIndexed(_alpha, ModAdd(_b, l))"
   ]
  },
  {
   "cell_type": "code",
   "execution_count": null,
   "metadata": {},
   "outputs": [],
   "source": [
    "abs_a = Abs(a)"
   ]
  },
  {
   "cell_type": "code",
   "execution_count": null,
   "metadata": {},
   "outputs": [],
   "source": [
    "_abs_alpha_l = Abs(_alpha_l)"
   ]
  },
  {
   "cell_type": "code",
   "execution_count": null,
   "metadata": {},
   "outputs": [],
   "source": [
    "_alpha_l_sqrd = Exp(Abs(_alpha_l), two)"
   ]
  },
  {
   "cell_type": "code",
   "execution_count": null,
   "metadata": {},
   "outputs": [],
   "source": [
    "_rel_indexed_alpha = SubIndexed(_alpha, ModAdd(_b_floor, l))"
   ]
  },
  {
   "cell_type": "code",
   "execution_count": null,
   "metadata": {},
   "outputs": [],
   "source": [
    "_alpha_m_sqrd = Exp(Abs(_alpha_m), two)"
   ]
  },
  {
   "cell_type": "code",
   "execution_count": null,
   "metadata": {},
   "outputs": [],
   "source": [
    "# _delta: difference between the phase and the best t-qubit\n",
    "# phase phase measurement _b/2^t (defined in axioms)\n",
    "_delta = Literal('delta', latex_format=r'\\delta')"
   ]
  },
  {
   "cell_type": "code",
   "execution_count": null,
   "metadata": {},
   "outputs": [],
   "source": [
    "_delta_b = SubIndexed(_delta, b)"
   ]
  },
  {
   "cell_type": "code",
   "execution_count": null,
   "metadata": {},
   "outputs": [],
   "source": [
    "# _delta__b_floor: difference between the phase and the best\n",
    "# t-qubit phase underestimate measurement _b_round/2^t (defined in axioms)\n",
    "# _delta_b_floor = Literal('delta_{b_f}', latex_format=r'\\delta_{b_f}')"
   ]
  },
  {
   "cell_type": "code",
   "execution_count": null,
   "metadata": {},
   "outputs": [],
   "source": [
    "# _delta__b_floor: difference between the phase and the best\n",
    "# t-qubit phase underestimate measurement _b_round/2^t (defined in axioms)\n",
    "_delta_b_floor = SubIndexed(_delta, _b_floor)"
   ]
  },
  {
   "cell_type": "code",
   "execution_count": null,
   "metadata": {},
   "outputs": [],
   "source": [
    "# _delta_round: difference between the phase and the best (rounded)\n",
    "# t-qubit phase phase measurement _b_round/2^t (defined in axioms)\n",
    "_delta_b_round = SubIndexed(_delta, _b_round)"
   ]
  },
  {
   "cell_type": "code",
   "execution_count": null,
   "metadata": {},
   "outputs": [],
   "source": [
    "_diff_l_scaled_delta_floor = subtract(l, Mult(_two_pow_t, _delta_b_floor))"
   ]
  },
  {
   "cell_type": "code",
   "execution_count": null,
   "metadata": {},
   "outputs": [],
   "source": [
    "_full_domain = Interval(Add(Neg(Exp(two, subtract(_t, one))), one),\n",
    "                     Exp(two, subtract(_t, one)))"
   ]
  },
  {
   "cell_type": "code",
   "execution_count": null,
   "metadata": {},
   "outputs": [],
   "source": [
    "_neg_domain = Interval(Add(Neg(_two_pow__t_minus_one), one), \n",
    "                     Neg(Add(e, one)))"
   ]
  },
  {
   "cell_type": "code",
   "execution_count": null,
   "metadata": {},
   "outputs": [],
   "source": [
    "_pos_domain = Interval(Add(e, one), \n",
    "                      _two_pow__t_minus_one)"
   ]
  },
  {
   "cell_type": "code",
   "execution_count": null,
   "metadata": {},
   "outputs": [],
   "source": [
    "_e_domain = Interval(one, subtract(_two_pow__t_minus_one, two))"
   ]
  },
  {
   "cell_type": "code",
   "execution_count": null,
   "metadata": {},
   "outputs": [],
   "source": [
    "_e_value = subtract(Exp(two, subtract(_t, _n)), one)"
   ]
  },
  {
   "cell_type": "code",
   "execution_count": null,
   "metadata": {},
   "outputs": [],
   "source": [
    "s_ket_domain = CartExp(Complex, Exp(two, s))"
   ]
  },
  {
   "cell_type": "code",
   "execution_count": null,
   "metadata": {},
   "outputs": [],
   "source": [
    "_t_wire = multi_wire(_t)\n",
    "_s_wire = multi_wire(_s)"
   ]
  },
  {
   "cell_type": "code",
   "execution_count": null,
   "metadata": {},
   "outputs": [],
   "source": [
    "_qpe_multigate = [*multi_gate_entries(\n",
    "    QPE(_U, _t), one, Add(_t, _s), (one, _t), (Add(_t, one), Add(_t, _s)))]\n",
    "_QPE_U_t = Qcircuit(VertExprArray(\n",
    "    _qpe_multigate))"
   ]
  },
  {
   "cell_type": "code",
   "execution_count": null,
   "metadata": {},
   "outputs": [],
   "source": [
    "_qpe1_multigate = [*multi_gate_entries(\n",
    "    QPE1(_U, _t), one, Add(_t, _s), (one, _t), (Add(_t, one), Add(_t, _s)))]\n",
    "_QPE1_U_t = Qcircuit(VertExprArray(\n",
    "    _qpe1_multigate))"
   ]
  },
  {
   "cell_type": "code",
   "execution_count": null,
   "metadata": {},
   "outputs": [],
   "source": [
    "_inv_FT = [*multi_gate_entries(InverseFourierTransform(_t), one, _t, (one, _t))]\n",
    "_QPE_U_t_circuit = Qcircuit(VertExprArray(\n",
    "    _qpe1_multigate, [*_inv_FT, _s_wire]))"
   ]
  },
  {
   "cell_type": "markdown",
   "metadata": {},
   "source": [
    "These assumptions are needed for proper formatting of `QPE1_U_t_circuit`."
   ]
  },
  {
   "cell_type": "code",
   "execution_count": null,
   "metadata": {},
   "outputs": [],
   "source": [
    "_qpe_inputs = [ExprRange(i, Input(ket_plus), one, _t),\n",
    "               *multi_input_entries(_ket_u, Add(_t, one), Add(_t, _s), (one, _s))]\n",
    "_u_outputs = [*multi_output_entries(_ket_u, Add(_t, one), Add(_t, _s), \n",
    "                                          (one, _s))]\n",
    "_psi_t_circuit = Qcircuit(VertExprArray(\n",
    "    _qpe_inputs, _qpe1_multigate,\n",
    "    [*multi_output_entries(_psi_t_ket, one, _t, (one, _t)), \n",
    "     *_u_outputs]))"
   ]
  },
  {
   "cell_type": "code",
   "execution_count": null,
   "metadata": {},
   "outputs": [],
   "source": [
    "_Psi_circuit = Qcircuit(VertExprArray(\n",
    "    _qpe_inputs, _qpe_multigate,\n",
    "    [*multi_output_entries(_Psi_ket, one, _t, (one, _t)), *_u_outputs]))"
   ]
  },
  {
   "cell_type": "code",
   "execution_count": null,
   "metadata": {},
   "outputs": [],
   "source": [
    "_phase_circuit = Qcircuit(VertExprArray(\n",
    "    _qpe_inputs, _qpe_multigate,\n",
    "    [ExprRange(i, Measure(Z), one, _t), _s_wire],\n",
    "    [*multi_output_entries(NumKet(Mult(_two_pow_t, _phase), _t), \n",
    "                           one, _t, (one, _t)),\n",
    "     *_u_outputs]))"
   ]
  },
  {
   "cell_type": "code",
   "execution_count": null,
   "metadata": {},
   "outputs": [],
   "source": [
    "_phase_est_circuit_b_r = Qcircuit(VertExprArray(\n",
    "    _qpe_inputs, _qpe_multigate,\n",
    "    [ExprRange(i, Measure(Z), one, _t), _s_wire],\n",
    "    [*multi_output_entries(NumKet(Mod(Round(Mult(_two_pow_t, _phase)), _two_pow_t), _t), \n",
    "                           one, _t, (one, _t)),\n",
    "     *_u_outputs]))"
   ]
  },
  {
   "cell_type": "code",
   "execution_count": null,
   "metadata": {},
   "outputs": [],
   "source": [
    "_phase_est_circuit = Qcircuit(VertExprArray(\n",
    "    _qpe_inputs, _qpe_multigate,\n",
    "    [ExprRange(i, Measure(Z), one, _t), _s_wire],\n",
    "    [*multi_output_entries(NumKet(m, _t), \n",
    "                           one, _t, (one, _t)),\n",
    "     *_u_outputs]))"
   ]
  },
  {
   "cell_type": "code",
   "execution_count": null,
   "metadata": {},
   "outputs": [],
   "source": [
    "t_wire = multi_wire(t)\n",
    "s_wire = multi_wire(s)"
   ]
  },
  {
   "cell_type": "code",
   "execution_count": null,
   "metadata": {},
   "outputs": [],
   "source": [
    "QPE1_U_t_circuit = Qcircuit(VertExprArray(\n",
    "    ExprRange(i,\n",
    "        [ExprRange(j, ConditionalSet(\n",
    "                           Conditional(\n",
    "                               control_elem(Add(t, one)),\n",
    "                               Equals(Add(Neg(i), t), j)), \n",
    "                           Conditional(Gate(I), NotEquals(Add(Neg(i), t), j))),\n",
    "                   one, t).with_case_simplification(), \n",
    "         *multi_gate_entries(MatrixExp(U, Exp(two, i)), \n",
    "                             Add(t, one), Add(t, s), (one, s))], \n",
    "              subtract(t, one), zero, order='decreasing').with_case_simplification()))"
   ]
  },
  {
   "cell_type": "code",
   "execution_count": null,
   "metadata": {},
   "outputs": [],
   "source": [
    "# This is incorrect (mod should be 2^t)\n",
    "# _success_prob_e = Prob(LessEq(ModAbs(subtract(Mult(_two_pow_t, _phase_est), _b), one), \n",
    "#                               e), _phase_est)"
   ]
  },
  {
   "cell_type": "code",
   "execution_count": null,
   "metadata": {},
   "outputs": [],
   "source": [
    "# the _ideal_phase_cond captures the case where the phase _phi can be\n",
    "# represented exactly with the t bits (or fewer) available in the first register\n",
    "_ideal_phase_cond = InSet(Mult(_two_pow_t, _phase), \n",
    "                          Interval(zero, subtract(_two_pow_t, one)))"
   ]
  },
  {
   "cell_type": "code",
   "execution_count": null,
   "metadata": {},
   "outputs": [],
   "source": [
    "_m_domain = Interval(zero, _two_pow_t__minus_one)"
   ]
  },
  {
   "cell_type": "code",
   "execution_count": null,
   "metadata": {},
   "outputs": [],
   "source": [
    "_success_cond = LessEq(ModAbs(subtract(frac(m, _two_pow_t), _phase), one), \n",
    "                       Exp(two, Neg(_n)))"
   ]
  },
  {
   "cell_type": "code",
   "execution_count": null,
   "metadata": {},
   "outputs": [],
   "source": [
    "_Omega = Literal('Omega', r'\\Omega')"
   ]
  },
  {
   "cell_type": "code",
   "execution_count": null,
   "metadata": {},
   "outputs": [],
   "source": [
    "_sample_space = SetOfAll(m, _phase_est_circuit, domain=_m_domain)"
   ]
  },
  {
   "cell_type": "code",
   "execution_count": null,
   "metadata": {},
   "outputs": [],
   "source": [
    "_success_prob_e = ProbOfAll(m, _phase_est_circuit,\n",
    "                            domain=_m_domain,\n",
    "                            condition=LessEq(ModAbs(subtract(m, _b_floor), _two_pow_t), e)).with_wrapping()"
   ]
  },
  {
   "cell_type": "code",
   "execution_count": null,
   "metadata": {},
   "outputs": [],
   "source": [
    "# Corrected mod and switched back to m instead of phi\n",
    "_fail_prob_e = ProbOfAll(m, _phase_est_circuit,\n",
    "                         domain=_m_domain,\n",
    "                         condition=greater(ModAbs(subtract(m, _b_floor), _two_pow_t), e)).with_wrapping()"
   ]
  },
  {
   "cell_type": "code",
   "execution_count": null,
   "metadata": {},
   "outputs": [],
   "source": [
    "_Psi_register_meas = Qcircuit(VertExprArray(\n",
    "    [*multi_input_entries(_Psi_ket, one, _t, (one, _t))], \n",
    "    [ExprRange(k, Measure(Z), one, _t)],\n",
    "    [*multi_output_entries(NumKet(m, _t), one, _t, (one, _t))]))"
   ]
  },
  {
   "cell_type": "code",
   "execution_count": null,
   "metadata": {},
   "outputs": [],
   "source": [
    "# _success_prob_guarantee = greater_eq(_success_prob, subtract(one, _eps))"
   ]
  },
  {
   "cell_type": "code",
   "execution_count": null,
   "metadata": {},
   "outputs": [],
   "source": [
    "%end common"
   ]
  },
  {
   "cell_type": "code",
   "execution_count": null,
   "metadata": {},
   "outputs": [],
   "source": []
  }
 ],
 "metadata": {
  "kernelspec": {
   "display_name": "Python 3",
   "language": "python",
   "name": "python3"
  }
 },
 "nbformat": 4,
 "nbformat_minor": 0
}
