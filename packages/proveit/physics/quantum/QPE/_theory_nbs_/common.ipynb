{
 "cells": [
  {
   "cell_type": "markdown",
   "metadata": {},
   "source": [
    "Common expressions for the theory of <a class=\"ProveItLink\" href=\"theory.ipynb\">proveit.physics.quantum.QPE</a>\n",
    "========"
   ]
  },
  {
   "cell_type": "code",
   "execution_count": null,
   "metadata": {},
   "outputs": [],
   "source": [
    "import proveit\n",
    "# Automation is not needed when building common expressions:\n",
    "%common_expressions_notebook # Keep this at the top following 'import proveit'.\n",
    "from proveit import defaults\n",
    "from proveit import (Literal, Variable, ExprRange, ExprArray, \n",
    "                     ConditionalSet, Conditional)\n",
    "# from proveit import a, b # for testing; delete later\n",
    "from proveit import a, b, e, i, j, k, l, m, n, r, t, u, U, eps\n",
    "from proveit.logic import (Set, Difference, InSet, Set, CartExp, \n",
    "                           Equals, NotEquals)\n",
    "from proveit.numbers import (\n",
    "    NaturalPos, Interval, Complex,\n",
    "    zero, one, two, subtract, Abs, Add, subtract, frac,\n",
    "    LessEq, greater_eq, ModAbs,\n",
    "    Ceil, Exp, Log, Interval, Neg, Mult)\n",
    "from proveit.statistics import Prob\n",
    "from proveit.physics.quantum import Ket, NumKet, MEAS, I, H, CONTROL\n",
    "from proveit.physics.quantum.circuit import (\n",
    "    Circuit, Gate, MultiWire, MultiQubitGate, Input, Output)\n",
    "from proveit.physics.quantum.QFT import InverseFourierTransform\n",
    "from proveit.physics.quantum.QPE import QPE, QPE1\n",
    "from proveit.physics.quantum.QPE.phase_est_ops import SubIndexed"
   ]
  },
  {
   "cell_type": "code",
   "execution_count": null,
   "metadata": {},
   "outputs": [],
   "source": [
    "%begin common"
   ]
  },
  {
   "cell_type": "code",
   "execution_count": null,
   "metadata": {},
   "outputs": [],
   "source": [
    "# U: Unitary operator to apply quantum phase estimation.\n",
    "_U = Literal('U')"
   ]
  },
  {
   "cell_type": "code",
   "execution_count": null,
   "metadata": {},
   "outputs": [],
   "source": [
    "# n: Number of qubits which U acts on.\n",
    "_n = Literal('n')"
   ]
  },
  {
   "cell_type": "code",
   "execution_count": null,
   "metadata": {},
   "outputs": [],
   "source": [
    "# u: Eigenvector of U to apply the quantum phase estimation.\n",
    "_u = Literal('u')"
   ]
  },
  {
   "cell_type": "code",
   "execution_count": null,
   "metadata": {},
   "outputs": [],
   "source": [
    "_u_tilde = Literal('~u~', r'\\tilde{u}')"
   ]
  },
  {
   "cell_type": "code",
   "execution_count": null,
   "metadata": {},
   "outputs": [],
   "source": [
    "u_tilde = Variable('~u~', r'\\tilde{u}')"
   ]
  },
  {
   "cell_type": "code",
   "execution_count": null,
   "metadata": {},
   "outputs": [],
   "source": [
    "# phase: Eigenvalue phase of u w.r.t. U.  U u = e^{i \\varphi} u.\n",
    "#        This \\varphi is the phase that is the objective of phase estimation.\n",
    "_phase = Literal('phase', latex_format=r'\\varphi')"
   ]
  },
  {
   "cell_type": "code",
   "execution_count": null,
   "metadata": {},
   "outputs": [],
   "source": [
    "_phase_est = Literal('phase_est', latex_format=r'\\tilde{\\varphi}')"
   ]
  },
  {
   "cell_type": "code",
   "execution_count": null,
   "metadata": {},
   "outputs": [],
   "source": [
    "phase = Variable('phase', latex_format=r'\\varphi')"
   ]
  },
  {
   "cell_type": "code",
   "execution_count": null,
   "metadata": {},
   "outputs": [],
   "source": [
    "phase_est = Variable('phase_est', latex_format=r'\\tilde{\\varphi}')"
   ]
  },
  {
   "cell_type": "code",
   "execution_count": null,
   "metadata": {},
   "outputs": [],
   "source": [
    "# t: Number of qubit registers for the quantum phase estimation.\n",
    "#    We prove that this is the bits of precision of phase estimation.\n",
    "_t = Literal('t')"
   ]
  },
  {
   "cell_type": "code",
   "execution_count": null,
   "metadata": {},
   "outputs": [],
   "source": [
    "# t_prime: is the maximal value of t for which the psi_t lemma\n",
    "# summation formula is correct\n",
    "# t_prime = Literal('t_prime', latex_format = r't^{\\prime}')\n",
    "#t_prime = Literal('t_prime', latex_format = r\"{t'}\")"
   ]
  },
  {
   "cell_type": "code",
   "execution_count": null,
   "metadata": {},
   "outputs": [],
   "source": [
    "# t^*: is the minimal value of t for which the psi_t lemma\n",
    "# summation formula does not work\n",
    "#t_star = Literal('t_star', latex_format = r't^{*}')"
   ]
  },
  {
   "cell_type": "code",
   "execution_count": null,
   "metadata": {},
   "outputs": [],
   "source": [
    "# p_k: denotes the kth quantum bit after Phase 1 --\n",
    "# that is, after the application of H and U^{2^k}\n",
    "#p_ = Literal('p')\n",
    "#p_k = SubIndexed(p_, k)"
   ]
  },
  {
   "cell_type": "code",
   "execution_count": null,
   "metadata": {},
   "outputs": [],
   "source": [
    "#p_r = SubIndexed(p_, r)"
   ]
  },
  {
   "cell_type": "code",
   "execution_count": null,
   "metadata": {},
   "outputs": [],
   "source": [
    "#p_prime = Literal('p_prime', latex_format = r\"p'\")"
   ]
  },
  {
   "cell_type": "code",
   "execution_count": null,
   "metadata": {},
   "outputs": [],
   "source": [
    "#p_prime_k = SubIndexed(p_prime, k)"
   ]
  },
  {
   "cell_type": "code",
   "execution_count": null,
   "metadata": {},
   "outputs": [],
   "source": [
    "#p_prime_r = SubIndexed(p_prime, r)"
   ]
  },
  {
   "cell_type": "code",
   "execution_count": null,
   "metadata": {},
   "outputs": [],
   "source": [
    "#p_prime_t = SubIndexed(p_prime, t)"
   ]
  },
  {
   "cell_type": "code",
   "execution_count": null,
   "metadata": {},
   "outputs": [],
   "source": [
    "#p_0 = SubIndexed(p_, zero)"
   ]
  },
  {
   "cell_type": "code",
   "execution_count": null,
   "metadata": {},
   "outputs": [],
   "source": [
    "#p_prime_0 = SubIndexed(p_prime, zero)"
   ]
  },
  {
   "cell_type": "code",
   "execution_count": null,
   "metadata": {},
   "outputs": [],
   "source": [
    "# Psi: Outcome of register qubits following the quantum phase estimation circuit.\n",
    "_Psi = Literal('Psi', latex_format=r'\\Psi')"
   ]
  },
  {
   "cell_type": "code",
   "execution_count": null,
   "metadata": {},
   "outputs": [],
   "source": [
    "# psi: indexed intermediate output registers inside the quantum phase estimation circuit.\n",
    "_psi = Literal('psi', latex_format=r'\\psi')"
   ]
  },
  {
   "cell_type": "code",
   "execution_count": null,
   "metadata": {},
   "outputs": [],
   "source": [
    "_psi_t = SubIndexed(_psi, t)"
   ]
  },
  {
   "cell_type": "code",
   "execution_count": null,
   "metadata": {},
   "outputs": [],
   "source": [
    "_psi__t = SubIndexed(_psi, _t)"
   ]
  },
  {
   "cell_type": "code",
   "execution_count": null,
   "metadata": {},
   "outputs": [],
   "source": [
    "# psi_t = SubIndexed(psi_, t_)"
   ]
  },
  {
   "cell_type": "code",
   "execution_count": null,
   "metadata": {},
   "outputs": [],
   "source": [
    "#_psi_t = SubIndexed(_psi, t)"
   ]
  },
  {
   "cell_type": "code",
   "execution_count": null,
   "metadata": {},
   "outputs": [],
   "source": [
    "#psi_next = SubIndexed(psi_, Add(k, one))"
   ]
  },
  {
   "cell_type": "code",
   "execution_count": null,
   "metadata": {},
   "outputs": [],
   "source": [
    "_psi_1 = SubIndexed(_psi, one)"
   ]
  },
  {
   "cell_type": "code",
   "execution_count": null,
   "metadata": {},
   "outputs": [],
   "source": [
    "#psi_t_prime = SubIndexed(psi_, t_prime)"
   ]
  },
  {
   "cell_type": "code",
   "execution_count": null,
   "metadata": {},
   "outputs": [],
   "source": [
    "#psi_t_star = SubIndexed(psi_, t_star)"
   ]
  },
  {
   "cell_type": "code",
   "execution_count": null,
   "metadata": {},
   "outputs": [],
   "source": [
    "# psi_prime = Literal('psi_prime', latex_format = r'\\psi^{\\prime}')\n",
    "#psi_prime = Literal('psi_prime', latex_format = r\"\\psi'\")"
   ]
  },
  {
   "cell_type": "code",
   "execution_count": null,
   "metadata": {},
   "outputs": [],
   "source": [
    "#psi_prime_t = SubIndexed(psi_prime, t)"
   ]
  },
  {
   "cell_type": "code",
   "execution_count": null,
   "metadata": {},
   "outputs": [],
   "source": [
    "#psi_prime_t_prime = SubIndexed(psi_prime, t_prime)"
   ]
  },
  {
   "cell_type": "code",
   "execution_count": null,
   "metadata": {},
   "outputs": [],
   "source": [
    "#psi_prime_t_star = SubIndexed(psi_prime, t_star)"
   ]
  },
  {
   "cell_type": "code",
   "execution_count": null,
   "metadata": {},
   "outputs": [],
   "source": [
    "#psi_prime_1 = SubIndexed(psi_prime, one)"
   ]
  },
  {
   "cell_type": "code",
   "execution_count": null,
   "metadata": {},
   "outputs": [],
   "source": [
    "_U_pow_two_pow_k = Exp(_U, Exp(two, k))"
   ]
  },
  {
   "cell_type": "code",
   "execution_count": null,
   "metadata": {},
   "outputs": [],
   "source": [
    "# Used to be\n",
    "# m: Random variable for the measurement of Psi as an\n",
    "#    integer from the register's binary representation.\n",
    "# Now we are using it as the size of the |u> register.\n",
    "# As of 10/25 back to using this for the measurement of Psi\n",
    "# Now using s as the size of the |u> register\n",
    "_m = Literal('m')"
   ]
  },
  {
   "cell_type": "code",
   "execution_count": null,
   "metadata": {},
   "outputs": [],
   "source": [
    "# phase_m: Random variable for the phase result of the\n",
    "#          quantum phase estimation phase_m = m / 2^t\n",
    "#          (I wish the subscript appeared a bit lower)\n",
    "_phase_m = Literal('phase_m', latex_format=r'\\varphi_m')"
   ]
  },
  {
   "cell_type": "code",
   "execution_count": null,
   "metadata": {},
   "outputs": [],
   "source": [
    "# b: The \"best\" outcome of m such that phase_m is as close as possible to phase.\n",
    "_b = Literal('b')"
   ]
  },
  {
   "cell_type": "code",
   "execution_count": null,
   "metadata": {},
   "outputs": [],
   "source": [
    "two_pow_t = Exp(two, t)"
   ]
  },
  {
   "cell_type": "code",
   "execution_count": null,
   "metadata": {},
   "outputs": [],
   "source": [
    "two_pow_m = Exp(two, m)"
   ]
  },
  {
   "cell_type": "code",
   "execution_count": null,
   "metadata": {},
   "outputs": [],
   "source": [
    "# 2^t\n",
    "_two_pow_t = Exp(two, _t)"
   ]
  },
  {
   "cell_type": "code",
   "execution_count": null,
   "metadata": {},
   "outputs": [],
   "source": [
    "# 2^{t-1}\n",
    "_two_pow_t_minus_one = Exp(two, subtract(_t, one))"
   ]
  },
  {
   "cell_type": "code",
   "execution_count": null,
   "metadata": {},
   "outputs": [],
   "source": [
    "# amplitude of output register as indexed\n",
    "_alpha = Literal('alpha', latex_format= r'\\alpha')"
   ]
  },
  {
   "cell_type": "code",
   "execution_count": null,
   "metadata": {},
   "outputs": [],
   "source": [
    "# These are subscripted with letter l (ell), NOT numeral 1 (one)\n",
    "_alpha_l = SubIndexed(_alpha, l)"
   ]
  },
  {
   "cell_type": "code",
   "execution_count": null,
   "metadata": {},
   "outputs": [],
   "source": [
    "abs_a = Abs(a)"
   ]
  },
  {
   "cell_type": "code",
   "execution_count": null,
   "metadata": {},
   "outputs": [],
   "source": [
    "_abs_alpha_l = Abs(_alpha_l)"
   ]
  },
  {
   "cell_type": "code",
   "execution_count": null,
   "metadata": {},
   "outputs": [],
   "source": [
    "_alpha_l_sqrd = Exp(Abs(_alpha_l), two)"
   ]
  },
  {
   "cell_type": "code",
   "execution_count": null,
   "metadata": {},
   "outputs": [],
   "source": [
    "# delta: difference between the phase and the best phase_m\n",
    "_delta = Literal('delta', latex_format=r'\\delta')"
   ]
  },
  {
   "cell_type": "code",
   "execution_count": null,
   "metadata": {},
   "outputs": [],
   "source": [
    "_full_domain = Interval(Add(Neg(Exp(two, subtract(_t, one))), one),\n",
    "                        Exp(two, subtract(_t, one)))"
   ]
  },
  {
   "cell_type": "code",
   "execution_count": null,
   "metadata": {},
   "outputs": [],
   "source": [
    "_full_domain_sans_zero = Difference(_full_domain, Set(zero))"
   ]
  },
  {
   "cell_type": "code",
   "execution_count": null,
   "metadata": {},
   "outputs": [],
   "source": [
    "_neg_domain = Interval(Add(Neg(_two_pow_t_minus_one), one), \n",
    "                       Neg(Add(e, one)))"
   ]
  },
  {
   "cell_type": "code",
   "execution_count": null,
   "metadata": {},
   "outputs": [],
   "source": [
    "_pos_domain = Interval(Add(e, one), \n",
    "                       _two_pow_t_minus_one)"
   ]
  },
  {
   "cell_type": "code",
   "execution_count": null,
   "metadata": {},
   "outputs": [],
   "source": [
    "_e_domain = Interval(one, subtract(_two_pow_t_minus_one, two))"
   ]
  },
  {
   "cell_type": "code",
   "execution_count": null,
   "metadata": {},
   "outputs": [],
   "source": [
    "_diff_l_scaled_delta = subtract(l, Mult(_two_pow_t, _delta))"
   ]
  },
  {
   "cell_type": "markdown",
   "metadata": {},
   "source": [
    "Using these assumptions will enable proper formatting below; well have to turn on automation however."
   ]
  },
  {
   "cell_type": "code",
   "execution_count": null,
   "metadata": {},
   "outputs": [],
   "source": [
    "# Allow simplifications in the formatting below.\n",
    "defaults.automation=True\n",
    "defaults.assumptions = [InSet(m, NaturalPos), InSet(t, NaturalPos),\n",
    "                        InSet(_m, NaturalPos), InSet(_t, NaturalPos)]"
   ]
  },
  {
   "cell_type": "code",
   "execution_count": null,
   "metadata": {},
   "outputs": [],
   "source": [
    "m_ket_domain = CartExp(Complex, Exp(two, m))"
   ]
  },
  {
   "cell_type": "code",
   "execution_count": null,
   "metadata": {},
   "outputs": [],
   "source": [
    "_t_wire = MultiWire(_t)\n",
    "_m_wire = MultiWire(_m)\n",
    "_m_wire_implicit = _m_wire.with_implicit_style()"
   ]
  },
  {
   "cell_type": "code",
   "execution_count": null,
   "metadata": {},
   "outputs": [],
   "source": [
    "_qpe_gate = MultiQubitGate(QPE(U, t), \n",
    "                           Set(one, two)).with_styles(representation='block')\n",
    "_row1 = [_qpe_gate]\n",
    "_row2 = [_qpe_gate]\n",
    "QPE_U_t = Circuit(ExprArray(_row1, _row2))"
   ]
  },
  {
   "cell_type": "code",
   "execution_count": null,
   "metadata": {},
   "outputs": [],
   "source": [
    "_qpe1_gate = MultiQubitGate(QPE1(U, t), \n",
    "                            Set(one, two)).with_styles(representation='block')\n",
    "_row1 = [_qpe1_gate]\n",
    "_row2 = [_qpe1_gate]\n",
    "QPE1_U_t = Circuit(ExprArray(_row1, _row2))"
   ]
  },
  {
   "cell_type": "code",
   "execution_count": null,
   "metadata": {},
   "outputs": [],
   "source": [
    "_row1 = [_qpe1_gate, Gate(InverseFourierTransform(t))]\n",
    "_row2 = [_qpe1_gate, _m_wire]\n",
    "QPE_U_t_circuit = Circuit(ExprArray(_row1, _row2))"
   ]
  },
  {
   "cell_type": "code",
   "execution_count": null,
   "metadata": {},
   "outputs": [],
   "source": [
    "t_minus_jp1 = subtract(t, Add(j, one))"
   ]
  },
  {
   "cell_type": "code",
   "execution_count": null,
   "metadata": {},
   "outputs": [],
   "source": [
    "# For now, don't do the simplifications\n",
    "QPE1_U_t_circuit = ( #Circuit(ExprArray(\n",
    "    [MultiWire(t), \n",
    "     ExprRange(i, [Gate(H), \n",
    "                   ExprRange(\n",
    "                       j, \n",
    "                       ConditionalSet(\n",
    "                           Conditional(\n",
    "                               MultiQubitGate(\n",
    "                                   CONTROL, Set(t_minus_jp1, t)), \n",
    "                               Equals(i, t_minus_jp1)), \n",
    "                           Conditional(I, NotEquals(i, t_minus_jp1))), \n",
    "                       zero, subtract(t, one))\n",
    "                   #.with_expansion(3).with_simplification()\n",
    "                  ],\n",
    "               zero, subtract(t, one)),\n",
    "     MultiWire(t)\n",
    "     #.with_expansion(3).with_simplification()\n",
    "    ],\n",
    "    [MultiWire(m), \n",
    "     ExprRange(i, MultiQubitGate(Exp(U, Exp(two, i)), \n",
    "                                 Set(one, Add(i, two))), \n",
    "               zero, subtract(t, one)),\n",
    "     MultiWire(m)\n",
    "     #.with_expansion(3).with_simplification()\n",
    "    ])"
   ]
  },
  {
   "cell_type": "code",
   "execution_count": null,
   "metadata": {},
   "outputs": [],
   "source": [
    "__qpe1_gate = MultiQubitGate(QPE1(_U, _t), \n",
    "                             Set(one, two)).with_styles(representation='block')\n",
    "_row1 = [Input(NumKet(zero, _t)), __qpe1_gate, Output(Ket(_psi_t))]\n",
    "_row2 = [Input(Ket(_u)), __qpe1_gate, Output(Ket(_u_tilde))]\n",
    "_psi_t_circuit = Circuit(ExprArray(_row1, _row2))"
   ]
  },
  {
   "cell_type": "code",
   "execution_count": null,
   "metadata": {},
   "outputs": [],
   "source": [
    "_row1 = [Input(Ket(_psi__t)), Gate(InverseFourierTransform(_t)), \n",
    "         Output(Ket(_Psi))]\n",
    "_Psi_circuit = Circuit(ExprArray(_row1))"
   ]
  },
  {
   "cell_type": "code",
   "execution_count": null,
   "metadata": {},
   "outputs": [],
   "source": [
    "__qpe_gate = MultiQubitGate(QPE(_U, _t), \n",
    "                            Set(one, two)).with_styles(representation='block')\n",
    "_row1 = [Input(NumKet(zero, _t)), __qpe_gate, MEAS, \n",
    "         Output(Mult(_two_pow_t, _phase_est))]\n",
    "_row2 = [Input(Ket(_u)), __qpe_gate, _m_wire, Output(Ket(_u_tilde))]\n",
    "_phase_est_circuit = Circuit(ExprArray(_row1, _row2))"
   ]
  },
  {
   "cell_type": "code",
   "execution_count": null,
   "metadata": {},
   "outputs": [],
   "source": [
    "_row1 = [Input(NumKet(zero, _t)), _qpe_gate, MEAS, \n",
    "         Output(Mult(two_pow_t, phase_est))]\n",
    "_row2 = [Input(Ket(u)), _qpe_gate, _m_wire, Output(Ket(u_tilde))]\n",
    "phase_est_circuit = Circuit(ExprArray(_row1, _row2))"
   ]
  },
  {
   "cell_type": "code",
   "execution_count": null,
   "metadata": {},
   "outputs": [],
   "source": [
    "# This is incorrect (mod should be 2^t)\n",
    "# _success_prob_e = Prob(LessEq(ModAbs(subtract(Mult(_two_pow_t, _phase_est), _b), one), \n",
    "#                               e), _phase_est)"
   ]
  },
  {
   "cell_type": "code",
   "execution_count": null,
   "metadata": {},
   "outputs": [],
   "source": [
    "# Corrected mod and switched back to m instead of phi\n",
    "_success_prob_e = Prob(LessEq(ModAbs(subtract(_m, _b), _two_pow_t), \n",
    "                              e), _m)"
   ]
  },
  {
   "cell_type": "code",
   "execution_count": null,
   "metadata": {},
   "outputs": [],
   "source": [
    "success_prob = Prob(LessEq(ModAbs(subtract(phase_est, phase), one), \n",
    "                           Exp(two, Neg(n))), phase_est)"
   ]
  },
  {
   "cell_type": "code",
   "execution_count": null,
   "metadata": {},
   "outputs": [],
   "source": [
    "success_prob_guarantee = greater_eq(success_prob, subtract(one, eps))"
   ]
  },
  {
   "cell_type": "code",
   "execution_count": null,
   "metadata": {},
   "outputs": [],
   "source": [
    "t_req = Add(n, Ceil(Log(two, Add(two, frac(one, Mult(two, eps))))))"
   ]
  },
  {
   "cell_type": "code",
   "execution_count": null,
   "metadata": {},
   "outputs": [],
   "source": [
    "%end common"
   ]
  }
 ],
 "metadata": {
  "kernelspec": {
   "display_name": "Python 3",
   "language": "python",
   "name": "python3"
  }
 },
 "nbformat": 4,
 "nbformat_minor": 0
}
