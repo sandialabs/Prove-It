{
 "cells": [
  {
   "cell_type": "markdown",
   "metadata": {},
   "source": [
    "Common expressions for the theory of <a class=\"ProveItLink\" href=\"theory.ipynb\">proveit.physics.quantum.QPE</a>\n",
    "========"
   ]
  },
  {
   "cell_type": "code",
   "execution_count": null,
   "metadata": {},
   "outputs": [],
   "source": [
    "import proveit\n",
    "# Automation is not needed when building common expressions:\n",
    "%common_expressions_notebook # Keep this at the top following 'import proveit'.\n",
    "from proveit import Literal, Variable\n",
    "from proveit import a, b # for testing; delete later\n",
    "from proveit import a, b, k, l # lower-case letters\n",
    "from proveit import eps        # greek letters\n",
    "from proveit.logic import Set, Difference\n",
    "from proveit.numbers import zero, one, two, subtract, Abs, Add, Exp, Interval, Neg, Mult\n",
    "from proveit.physics.quantum.QPE.phase_est_ops import SubIndexed"
   ]
  },
  {
   "cell_type": "code",
   "execution_count": null,
   "metadata": {},
   "outputs": [],
   "source": [
    "%begin common"
   ]
  },
  {
   "cell_type": "code",
   "execution_count": null,
   "metadata": {},
   "outputs": [],
   "source": [
    "# U: Unitary operator to apply quantum phase estimation.\n",
    "U_ = Literal('U')"
   ]
  },
  {
   "cell_type": "code",
   "execution_count": null,
   "metadata": {},
   "outputs": [],
   "source": [
    "# n: Number of qubits which U acts on.\n",
    "n_ = Literal('n')"
   ]
  },
  {
   "cell_type": "code",
   "execution_count": null,
   "metadata": {},
   "outputs": [],
   "source": [
    "# u: Eigenvector of U to apply the quantum phase estimation.\n",
    "u_ = Literal('u')"
   ]
  },
  {
   "cell_type": "code",
   "execution_count": null,
   "metadata": {},
   "outputs": [],
   "source": [
    "# phase: Eigenvalue phase of u w.r.t. U.  U u = e^{i \\varphi} u.\n",
    "#        This \\varphi is the phase that is the objective of phase estimation.\n",
    "phase_ = Literal('phase', latex_format=r'\\varphi')"
   ]
  },
  {
   "cell_type": "code",
   "execution_count": null,
   "metadata": {},
   "outputs": [],
   "source": [
    "# t: Number of qubit registers for the quantum phase estimation.\n",
    "#    We prove that this is the bits of precision of phase estimation.\n",
    "t_ = Literal('t')"
   ]
  },
  {
   "cell_type": "code",
   "execution_count": null,
   "metadata": {},
   "outputs": [],
   "source": [
    "# Psi: Outcome of register qubits following the quantum phase estimation circuit.\n",
    "Psi_ = Literal('Psi', latex_format=r'\\Psi')"
   ]
  },
  {
   "cell_type": "code",
   "execution_count": null,
   "metadata": {},
   "outputs": [],
   "source": [
    "# psi: indexed intermediate output registers inside the quantum phase estimation circuit.\n",
    "psi_ = Literal('psi', latex_format=r'\\psi')"
   ]
  },
  {
   "cell_type": "code",
   "execution_count": null,
   "metadata": {},
   "outputs": [],
   "source": [
    "psi_k = SubIndexed(psi_, k)"
   ]
  },
  {
   "cell_type": "code",
   "execution_count": null,
   "metadata": {},
   "outputs": [],
   "source": [
    "psi_t = SubIndexed(psi_, t_)"
   ]
  },
  {
   "cell_type": "code",
   "execution_count": null,
   "metadata": {},
   "outputs": [],
   "source": [
    "psi_next = SubIndexed(psi_, Add(k, one))"
   ]
  },
  {
   "cell_type": "code",
   "execution_count": null,
   "metadata": {},
   "outputs": [],
   "source": [
    "psi_1 = SubIndexed(psi_, one)"
   ]
  },
  {
   "cell_type": "code",
   "execution_count": null,
   "metadata": {},
   "outputs": [],
   "source": [
    "U_pow_two_pow_k = Exp(U_, Exp(two, k))"
   ]
  },
  {
   "cell_type": "code",
   "execution_count": null,
   "metadata": {},
   "outputs": [],
   "source": [
    "# m: Random variable for the measurement of Psi as an\n",
    "#    integer from the register's binary representation.\n",
    "m_ = Literal('m')"
   ]
  },
  {
   "cell_type": "code",
   "execution_count": null,
   "metadata": {},
   "outputs": [],
   "source": [
    "# phase_m: Random variable for the phase result of the\n",
    "#          quantum phase estimation phase_m = m / 2^t\n",
    "#          (I wish the subscript appeared a bit lower)\n",
    "phase_m_ = Literal('phase_m', latex_format=r'\\varphi_m')"
   ]
  },
  {
   "cell_type": "code",
   "execution_count": null,
   "metadata": {},
   "outputs": [],
   "source": [
    "# b: The \"best\" outcome of m such that phase_m is as close as possible to phase.\n",
    "b_ = Literal('b')"
   ]
  },
  {
   "cell_type": "code",
   "execution_count": null,
   "metadata": {},
   "outputs": [],
   "source": [
    "# 2^t\n",
    "two_pow_t = Exp(two, t_)"
   ]
  },
  {
   "cell_type": "code",
   "execution_count": null,
   "metadata": {},
   "outputs": [],
   "source": [
    "# 2^{t-1}\n",
    "two_pow_t_minus_one = Exp(two, subtract(t_, one))"
   ]
  },
  {
   "cell_type": "code",
   "execution_count": null,
   "metadata": {},
   "outputs": [],
   "source": [
    "# amplitude of output register as indexed\n",
    "alpha_ = Literal('alpha', latex_format= r'\\alpha')"
   ]
  },
  {
   "cell_type": "code",
   "execution_count": null,
   "metadata": {},
   "outputs": [],
   "source": [
    "# These are subscripted with letter l (ell), NOT numeral 1 (one)\n",
    "alpha_l = SubIndexed(alpha_, l)"
   ]
  },
  {
   "cell_type": "code",
   "execution_count": null,
   "metadata": {},
   "outputs": [],
   "source": [
    "abs_a = Abs(a)"
   ]
  },
  {
   "cell_type": "code",
   "execution_count": null,
   "metadata": {},
   "outputs": [],
   "source": [
    "abs_alpha_l = Abs(alpha_l)"
   ]
  },
  {
   "cell_type": "code",
   "execution_count": null,
   "metadata": {},
   "outputs": [],
   "source": [
    "alpha_l_sqrd = Exp(Abs(alpha_l), two)"
   ]
  },
  {
   "cell_type": "code",
   "execution_count": null,
   "metadata": {},
   "outputs": [],
   "source": [
    "# delta: difference between the phase and the best phase_m\n",
    "delta_ = Literal('delta', latex_format=r'\\delta')"
   ]
  },
  {
   "cell_type": "code",
   "execution_count": null,
   "metadata": {},
   "outputs": [],
   "source": [
    "full_domain = Interval(Add(Neg(Exp(two, subtract(t_, one))), one),\n",
    "                      Exp(two, subtract(t_, one)))"
   ]
  },
  {
   "cell_type": "code",
   "execution_count": null,
   "metadata": {},
   "outputs": [],
   "source": [
    "full_domain_sans_zero = Difference(full_domain, Set(zero))"
   ]
  },
  {
   "cell_type": "code",
   "execution_count": null,
   "metadata": {},
   "outputs": [],
   "source": [
    "neg_domain = Interval(Add(Neg(two_pow_t_minus_one), one), Neg(Add(eps, one)))"
   ]
  },
  {
   "cell_type": "code",
   "execution_count": null,
   "metadata": {},
   "outputs": [],
   "source": [
    "pos_domain = Interval(Add(eps, one), two_pow_t_minus_one)"
   ]
  },
  {
   "cell_type": "code",
   "execution_count": null,
   "metadata": {},
   "outputs": [],
   "source": [
    "eps_domain = Interval(one, subtract(two_pow_t_minus_one, two))"
   ]
  },
  {
   "cell_type": "code",
   "execution_count": null,
   "metadata": {},
   "outputs": [],
   "source": [
    "diff_l_scaled_delta = subtract(l, Mult(two_pow_t, delta_))"
   ]
  },
  {
   "cell_type": "code",
   "execution_count": null,
   "metadata": {},
   "outputs": [],
   "source": [
    "%end common"
   ]
  }
 ],
 "metadata": {
  "kernelspec": {
   "display_name": "Python 3",
   "language": "python",
   "name": "python3"
  }
 },
 "nbformat": 4,
 "nbformat_minor": 0
}
