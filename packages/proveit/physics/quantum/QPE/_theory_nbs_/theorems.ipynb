{
 "cells": [
  {
   "cell_type": "markdown",
   "metadata": {},
   "source": [
    "Theorems (or conjectures) for the theory of <a class=\"ProveItLink\" href=\"theory.ipynb\">proveit.physics.quantum.QPE</a>\n",
    "========"
   ]
  },
  {
   "cell_type": "code",
   "execution_count": null,
   "metadata": {},
   "outputs": [],
   "source": [
    "import proveit\n",
    "# 72 cols ==============================================================\n",
    "# Prepare this notebook for defining the theorems of a theory:\n",
    "%theorems_notebook # Keep this at the top following 'import proveit'.\n",
    "from proveit import a, b, k, l, t, eps\n",
    "from proveit._core_.expression import Lambda\n",
    "from proveit.logic import And, Equals, Forall, InSet, NotEquals, NotInSet, SubsetEq, Difference\n",
    "from proveit.numbers import Abs, Add, Exp, frac, Mult, Neg, sqrt, sqrd, subtract, Sum\n",
    "from proveit.numbers import greater, greater_eq, Less, LessEq, Mod\n",
    "from proveit.statistics import Prob\n",
    "from proveit.numbers import zero, one, two, three, four\n",
    "from proveit.numbers import Interval, IntervalCC, IntervalCO, IntervalOO\n",
    "from proveit.numbers import Integer, IntegerNeg, Natural, NaturalPos, Complex, Real, RealNonNeg\n",
    "from proveit.numbers import i, e, pi\n",
    "from proveit.physics.quantum import Bra, Ket\n",
    "from proveit.physics.quantum import ket0, ket1, CTRL_DN, inv_root2\n",
    "from proveit.physics.quantum.QPE import (u_, n_, t_, phase_, m_,\n",
    "        b_, delta_, two_pow_t, two_pow_t_minus_one, alpha_l, alpha_l_sqrd, diff_l_scaled_delta,\n",
    "        full_domain, full_domain_sans_zero, neg_domain, pos_domain, eps_domain, U_pow_two_pow_k, psi_t)\n",
    "from proveit.physics.quantum.QPE.phase_est_ops import Psuccess, Pfail, ModAdd\n",
    "from IPython.display import display"
   ]
  },
  {
   "cell_type": "code",
   "execution_count": null,
   "metadata": {},
   "outputs": [],
   "source": [
    "%begin theorems"
   ]
  },
  {
   "cell_type": "markdown",
   "metadata": {},
   "source": [
    "#### Some convenience methods for building expressions:"
   ]
  },
  {
   "cell_type": "code",
   "execution_count": null,
   "metadata": {},
   "outputs": [],
   "source": [
    "def exp2pi_i(*exp_factors):\n",
    "    return Exp(e, Mult(*((two, pi, i) + exp_factors)))\n",
    "\n",
    "def exp2pi_i_on_two_pow_t(*exp_factors):\n",
    "    return Exp(e, frac(Mult(*((two, pi, i) + exp_factors)), two_pow_t))\n",
    "\n",
    "def exp_neg2pi_i_on_two_pow_t(*exp_factors):\n",
    "    return Exp(e, frac(Neg(Mult(*((two, pi, i) + exp_factors))), two_pow_t))\n",
    "\n",
    "display(exp2pi_i(a, b))\n",
    "display(exp2pi_i_on_two_pow_t(a, b))\n",
    "display(exp_neg2pi_i_on_two_pow_t(a, b))"
   ]
  },
  {
   "cell_type": "markdown",
   "metadata": {},
   "source": [
    "#### Take care of number domain issues:"
   ]
  },
  {
   "cell_type": "code",
   "execution_count": null,
   "metadata": {},
   "outputs": [],
   "source": [
    "# t (represented by the Literal t_) denotes\n",
    "# the number of Qbits in the input register\n",
    "# Thus, 2^t is a positive natural number\n",
    "two_pow_t_is_nat_pos = InSet(two_pow_t, NaturalPos)"
   ]
  },
  {
   "cell_type": "code",
   "execution_count": null,
   "metadata": {},
   "outputs": [],
   "source": [
    "# t (represented by the Literal t_) denotes\n",
    "# the number of Qbits in the input register\n",
    "two_pow_t_minus_one_is_nat_pos = InSet(Exp(two, subtract(t_, one)), NaturalPos)"
   ]
  },
  {
   "cell_type": "code",
   "execution_count": null,
   "metadata": {},
   "outputs": [],
   "source": [
    "# t (represented by the Literal t_) denotes\n",
    "# the number of Qbits in the input register\n",
    "two_pow_t_less_one_is_nat_pos = InSet(subtract(two_pow_t, one), NaturalPos)"
   ]
  },
  {
   "cell_type": "code",
   "execution_count": null,
   "metadata": {},
   "outputs": [],
   "source": [
    "# t (represented by the Literal t_) denotes\n",
    "# the number of Qbits in the input register\n",
    "two_pow_t_not_zero = NotEquals(two_pow_t, zero)"
   ]
  },
  {
   "cell_type": "code",
   "execution_count": null,
   "metadata": {},
   "outputs": [],
   "source": [
    "# The o-plus addition denotes addition modulo 2^t, resulting in an integer\n",
    "mod_add_closure = Forall((a, b), InSet(ModAdd(a, b), Integer), domain=Integer)"
   ]
  },
  {
   "cell_type": "code",
   "execution_count": null,
   "metadata": {},
   "outputs": [],
   "source": [
    "# The phase phi is in the real interval [0, 1)\n",
    "phase_is_real = InSet(phase_, Real)"
   ]
  },
  {
   "cell_type": "code",
   "execution_count": null,
   "metadata": {},
   "outputs": [],
   "source": [
    "psi_t_formula = (\n",
    "    Forall(\n",
    "        t,\n",
    "        Equals(psi_t,\n",
    "        Mult(frac(one, Exp(two, frac(t_,two))),\n",
    "             Sum(k, Mult(Exp(e, Mult(two, pi, i, phase_, k)), Ket(k)), domain=Interval(zero, subtract(Exp(two, t_), one))))),\n",
    "        domain = NaturalPos))"
   ]
  },
  {
   "cell_type": "code",
   "execution_count": null,
   "metadata": {},
   "outputs": [],
   "source": [
    "best_is_int = InSet(b_, Integer)"
   ]
  },
  {
   "cell_type": "code",
   "execution_count": null,
   "metadata": {},
   "outputs": [],
   "source": [
    "pos_domain_in_full_domain = Forall(\n",
    "        eps, Forall(l, InSet(l, full_domain), domain=pos_domain),\n",
    "        domain=NaturalPos)"
   ]
  },
  {
   "cell_type": "code",
   "execution_count": null,
   "metadata": {},
   "outputs": [],
   "source": [
    "pos_domain_in_full_domain_sans_zero = Forall(\n",
    "        eps, SubsetEq(pos_domain, full_domain_sans_zero),\n",
    "        domain=eps_domain)"
   ]
  },
  {
   "cell_type": "code",
   "execution_count": null,
   "metadata": {},
   "outputs": [],
   "source": [
    "neg_domain_in_full_domain = Forall(\n",
    "        eps, Forall(l, InSet(l, full_domain), domain=neg_domain),\n",
    "        domain=NaturalPos)"
   ]
  },
  {
   "cell_type": "code",
   "execution_count": null,
   "metadata": {},
   "outputs": [],
   "source": [
    "neg_domain_in_full_domain_alt = Forall(\n",
    "        eps, SubsetEq(neg_domain, full_domain),\n",
    "        domain=NaturalPos)"
   ]
  },
  {
   "cell_type": "code",
   "execution_count": null,
   "metadata": {},
   "outputs": [],
   "source": [
    "neg_domain_in_full_domain_sans_zero = Forall(\n",
    "        eps, SubsetEq(neg_domain, full_domain_sans_zero),\n",
    "        domain=eps_domain)"
   ]
  },
  {
   "cell_type": "code",
   "execution_count": null,
   "metadata": {},
   "outputs": [],
   "source": [
    "pos_domain_within_integer = Forall(\n",
    "        eps, SubsetEq(pos_domain, Integer),\n",
    "        domain=eps_domain)"
   ]
  },
  {
   "cell_type": "code",
   "execution_count": null,
   "metadata": {},
   "outputs": [],
   "source": [
    "neg_domain_within_integer = Forall(\n",
    "        eps, SubsetEq(neg_domain, Integer),\n",
    "        domain=eps_domain)"
   ]
  },
  {
   "cell_type": "code",
   "execution_count": null,
   "metadata": {},
   "outputs": [],
   "source": [
    "delta_is_real = InSet(delta_, Real)"
   ]
  },
  {
   "cell_type": "markdown",
   "metadata": {},
   "source": [
    "#### This derives from $\\delta$ being the difference between $\\delta$ and its best $t$-bit estimate (without going over):"
   ]
  },
  {
   "cell_type": "code",
   "execution_count": null,
   "metadata": {},
   "outputs": [],
   "source": [
    "scaled_delta_in_interval = InSet(Mult(two_pow_t, delta_), IntervalCO(zero, one))"
   ]
  },
  {
   "cell_type": "code",
   "execution_count": null,
   "metadata": {},
   "outputs": [],
   "source": [
    "success_prob_is_real = Forall(eps, InSet(Psuccess(eps), Real), domain=NaturalPos)"
   ]
  },
  {
   "cell_type": "code",
   "execution_count": null,
   "metadata": {},
   "outputs": [],
   "source": [
    "all_alpha_l_is_complex = Forall(l, InSet(alpha_l, Complex), domain=Integer)"
   ]
  },
  {
   "cell_type": "code",
   "execution_count": null,
   "metadata": {},
   "outputs": [],
   "source": [
    "all_abs_alpha_l_are_nonneg = Forall(\n",
    "    l, InSet(Abs(alpha_l), RealNonNeg),\n",
    "    domain=Integer)"
   ]
  },
  {
   "cell_type": "code",
   "execution_count": null,
   "metadata": {},
   "outputs": [],
   "source": [
    "all_abs_alpha_l_sqrd_are_real = Forall(\n",
    "    l, InSet(Exp(Abs(alpha_l), two), Real),\n",
    "    domain=Integer)"
   ]
  },
  {
   "cell_type": "markdown",
   "metadata": {},
   "source": [
    "#### Follows from scaled_delta_in_interval:"
   ]
  },
  {
   "cell_type": "code",
   "execution_count": null,
   "metadata": {},
   "outputs": [],
   "source": [
    "scaled_delta_not_eq_nonzeroInt = Forall(\n",
    "        l, NotEquals(Mult(two_pow_t, delta_), l),\n",
    "        domain=Integer, conditions = [NotEquals(l, zero)])"
   ]
  },
  {
   "cell_type": "code",
   "execution_count": null,
   "metadata": {},
   "outputs": [],
   "source": [
    "delta_not_eq_scaledNonzeroInt = Forall(\n",
    "        l, NotEquals(delta_, frac(l, two_pow_t)),\n",
    "        domain=Integer, conditions = [NotEquals(l, zero)])"
   ]
  },
  {
   "cell_type": "code",
   "execution_count": null,
   "metadata": {},
   "outputs": [],
   "source": [
    "delta_diff_in_interval = Forall(\n",
    "        l,\n",
    "        InSet(subtract(delta_, frac(l, two_pow_t)),\n",
    "              IntervalCO(Neg(frac(one, two)), frac(one, two))),\n",
    "        domain=full_domain)"
   ]
  },
  {
   "cell_type": "code",
   "execution_count": null,
   "metadata": {},
   "outputs": [],
   "source": [
    "scaled_delta_diff_in_interval = Forall(\n",
    "        l,\n",
    "        InSet(Mult(two, pi, subtract(delta_, frac(l, two_pow_t))),\n",
    "              IntervalCC(Neg(pi), pi)),\n",
    "        domain=full_domain)"
   ]
  },
  {
   "cell_type": "code",
   "execution_count": null,
   "metadata": {},
   "outputs": [],
   "source": [
    "non_int_delta_diff = Forall(\n",
    "        l,\n",
    "        NotInSet(subtract(delta_, frac(l, two_pow_t)),\n",
    "                Integer), \n",
    "        domain=full_domain,\n",
    "        conditions = [NotEquals(l, zero)])"
   ]
  },
  {
   "cell_type": "markdown",
   "metadata": {},
   "source": [
    "#### *Success probability as sum of individual success event probabilities:*"
   ]
  },
  {
   "cell_type": "code",
   "execution_count": null,
   "metadata": {},
   "outputs": [],
   "source": [
    "success_sum = Forall(\n",
    "        eps,\n",
    "        greater_eq(Psuccess(eps),\n",
    "                  Sum(l, Prob(Equals(m_, ModAdd(b_, l)), m_), \n",
    "                      domain=Interval(Neg(eps), eps))),\n",
    "        domain=NaturalPos)"
   ]
  },
  {
   "cell_type": "markdown",
   "metadata": {},
   "source": [
    "#### *Failure probability as sum of individual failure event probabilities in terms of $\\alpha_l$, amplitude of $\\lvert \\Psi \\rangle$ for a state specified relative to $b$ (the best outcome state):*"
   ]
  },
  {
   "cell_type": "code",
   "execution_count": null,
   "metadata": {},
   "outputs": [],
   "source": [
    "fail_sum = Forall(\n",
    "        eps,\n",
    "        LessEq(Pfail(eps),\n",
    "               Add(Sum(l, alpha_l_sqrd, domain=neg_domain),\n",
    "                   Sum(l, alpha_l_sqrd, domain=pos_domain))),\n",
    "        domain=eps_domain)"
   ]
  },
  {
   "cell_type": "markdown",
   "metadata": {},
   "source": [
    "#### *Modulo addition may be converted to regular addition within $2 \\pi i$ exponentiation:*"
   ]
  },
  {
   "cell_type": "code",
   "execution_count": null,
   "metadata": {},
   "outputs": [],
   "source": [
    "exp2pi_i_modadd = Forall(\n",
    "        (a, b),\n",
    "        Equals(exp2pi_i_on_two_pow_t(ModAdd(a, b)), \n",
    "               exp2pi_i_on_two_pow_t(Add(a, b))),\n",
    "        domain=Integer)"
   ]
  },
  {
   "cell_type": "markdown",
   "metadata": {},
   "source": [
    "#### *Direct evaluation of $\\alpha_l$ (via an intermediate step first):*"
   ]
  },
  {
   "cell_type": "code",
   "execution_count": null,
   "metadata": {},
   "outputs": [],
   "source": [
    "# REQUIRES a Gate class — still needing updated\n",
    "# from proveit.expression import LATEX\n",
    "# intermediate_q_p_e = Forall(\n",
    "#     k, \n",
    "#     Circuit([[Input(ket0), Hgate, CTRL_DN, \n",
    "#               Output(Add(ScalarProd(inv_root2, ket0), \n",
    "#                          ScalarProd(frac(exp2pi_i(phase_, Exponentiate(two, k)), \n",
    "#                                          sqrt(two)), \n",
    "#                                     ket1)))],\n",
    "#              [Input(Ket(u_)), MultiWire(n_), Gate(U_pow_two_pow_k), Output(Ket(u_))]]),\n",
    "#     domain=Natural)\n",
    "# print(intermediate_q_p_e.formatted(LATEX))"
   ]
  },
  {
   "cell_type": "code",
   "execution_count": null,
   "metadata": {},
   "outputs": [],
   "source": [
    "alpha_l_eval = Forall(\n",
    "        l,\n",
    "        Equals(alpha_l,\n",
    "               Mult(frac(one, two_pow_t),\n",
    "                   Sum(k, Mult(exp_neg2pi_i_on_two_pow_t(k, ModAdd(b_, l)),\n",
    "                               exp2pi_i(phase_, k)),\n",
    "                       domain=Interval(zero, subtract(two_pow_t, one))))),\n",
    "        domain=Integer)"
   ]
  },
  {
   "cell_type": "markdown",
   "metadata": {},
   "source": [
    "#### *Evaluation of $\\alpha_l$ after performing the geometric series summation in terms of $\\delta$:*"
   ]
  },
  {
   "cell_type": "code",
   "execution_count": null,
   "metadata": {},
   "outputs": [],
   "source": [
    "phase_from_best = Equals(phase_, Add(frac(b_, two_pow_t), delta_))"
   ]
  },
  {
   "cell_type": "code",
   "execution_count": null,
   "metadata": {},
   "outputs": [],
   "source": [
    "alpha_l_summed = Forall(\n",
    "    l,\n",
    "    Equals(alpha_l,\n",
    "           Mult(frac(one, two_pow_t),\n",
    "                    frac(subtract(one, exp2pi_i(subtract(Mult(two_pow_t, delta_), l))),\n",
    "                         subtract(one, exp2pi_i(subtract(delta_, frac(l, two_pow_t))))))),\n",
    "    domain=Integer)"
   ]
  },
  {
   "cell_type": "code",
   "execution_count": null,
   "metadata": {},
   "outputs": [],
   "source": [
    "alpha_l_summed_abs = Forall(\n",
    "    l,\n",
    "    Equals(Abs(alpha_l),\n",
    "           frac(Abs(subtract(one,\n",
    "                             Exp(e, Mult(two,pi,i,\n",
    "                                         subtract(Mult(Exp(two,t_),delta_),l)))\n",
    "                            )),\n",
    "                Mult(Exp(two,t_),\n",
    "                     Abs(subtract(one, Exp(e, Mult(two,\n",
    "                                                   pi,\n",
    "                                                   i,\n",
    "                                                   subtract(delta_,\n",
    "                                                            frac(l,Exp(two,t_)))\n",
    "                                                  )\n",
    "                                          )\n",
    "                                 )\n",
    "                        )\n",
    "                    )\n",
    "               )\n",
    "          ),\n",
    "    domain=Integer)"
   ]
  },
  {
   "cell_type": "markdown",
   "metadata": {},
   "source": [
    "#### *$| \\alpha_l |^2$ inequality to bound the failure probability:*"
   ]
  },
  {
   "cell_type": "code",
   "execution_count": null,
   "metadata": {},
   "outputs": [],
   "source": [
    "alpha_l_sqrd_ineq = Forall(\n",
    "    l,\n",
    "    LessEq(alpha_l_sqrd,\n",
    "           frac(one,\n",
    "                Mult(four, Exp(diff_l_scaled_delta, two)))),\n",
    "    domain=full_domain_sans_zero)"
   ]
  },
  {
   "cell_type": "markdown",
   "metadata": {},
   "source": [
    "#### *A bound on the failure probability:*"
   ]
  },
  {
   "cell_type": "code",
   "execution_count": null,
   "metadata": {},
   "outputs": [],
   "source": [
    "pos_domain_within_natpos = Forall(eps, SubsetEq(pos_domain, NaturalPos), domain=eps_domain)"
   ]
  },
  {
   "cell_type": "code",
   "execution_count": null,
   "metadata": {},
   "outputs": [],
   "source": [
    "neg_domain_within_negint = Forall(eps, SubsetEq(neg_domain, IntegerNeg), domain=eps_domain)"
   ]
  },
  {
   "cell_type": "code",
   "execution_count": null,
   "metadata": {},
   "outputs": [],
   "source": [
    "fail_ineq_lemma = Forall(\n",
    "    eps,\n",
    "    LessEq(Pfail(eps), \n",
    "           Mult(frac(one, four), \n",
    "                Add(Sum(l, frac(one, sqrd(diff_l_scaled_delta)), domain=neg_domain),\n",
    "                    Sum(l, frac(one, sqrd(diff_l_scaled_delta)), domain=pos_domain)))), \n",
    "    domain=eps_domain)"
   ]
  },
  {
   "cell_type": "code",
   "execution_count": null,
   "metadata": {},
   "outputs": [],
   "source": [
    "fail_ineq = Forall(\n",
    "    eps,\n",
    "    LessEq(Pfail(eps), Mult(frac(one,two), Add(frac(one,eps),\n",
    "                                               frac(one, Exp(eps, two))))), \n",
    "    domain=eps_domain)"
   ]
  },
  {
   "cell_type": "code",
   "execution_count": null,
   "metadata": {},
   "outputs": [],
   "source": [
    "%end theorems"
   ]
  },
  {
   "cell_type": "code",
   "execution_count": null,
   "metadata": {},
   "outputs": [],
   "source": []
  }
 ],
 "metadata": {
  "kernelspec": {
   "display_name": "Python 3",
   "language": "python",
   "name": "python3"
  }
 },
 "nbformat": 4,
 "nbformat_minor": 0
}
