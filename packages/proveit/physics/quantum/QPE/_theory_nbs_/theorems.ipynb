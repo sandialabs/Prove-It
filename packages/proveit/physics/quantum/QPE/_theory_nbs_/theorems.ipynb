{
 "cells": [
  {
   "cell_type": "markdown",
   "metadata": {},
   "source": [
    "Theorems (or conjectures) for the theory of <a class=\"ProveItLink\" href=\"theory.ipynb\">proveit.physics.quantum.QPE</a>\n",
    "========"
   ]
  },
  {
   "cell_type": "code",
   "execution_count": null,
   "metadata": {},
   "outputs": [],
   "source": [
    "import proveit\n",
    "# 72 cols ==============================================================\n",
    "# Prepare this notebook for defining the theorems of a theory:\n",
    "%theorems_notebook # Keep this at the top following 'import proveit'.\n",
    "from proveit import a, b, e, k, l, m, n, r, s, t, u, U, eps\n",
    "from proveit import IndexedVar, ExprRange,  Lambda\n",
    "from proveit.logic import (Implies, And, Equals, Forall, Exists, InSet, InClass, \n",
    "                           NotEquals, NotInSet, SubsetEq, Difference, SetOfAll, Disjoint,\n",
    "                           Bijections)\n",
    "from proveit.numbers import (\n",
    "    zero, one, two, three, four, Interval, IntervalCC, IntervalCO, IntervalOO, IntervalOC,\n",
    "    Integer, IntegerNonZero, IntegerNeg, Natural, NaturalPos, Complex, Real, RealNonNeg,\n",
    "    Abs, Add, Neg, subtract, ModAbs, Exp, exp, frac, Mult, Div, sqrt, sqrd, Sum,\n",
    "    greater, greater_eq, Less, LessEq, Mod, i, pi, exp2pi_i)\n",
    "from proveit.linear_algebra import (\n",
    "    MatrixMult, ScalarMult, Unitary, TensorProd, VecAdd, VecSum, Norm)\n",
    "from proveit.statistics import Prob, ProbOfAll, SampleSpaces\n",
    "from proveit.physics.quantum import Bra, Meas, NumBra, NumKet, Qmult, QubitRegisterSpace\n",
    "from proveit.physics.quantum import ket0, ket1, var_ket_u, inv_root2, normalized_var_ket_u\n",
    "from proveit.physics.quantum.QPE import (\n",
    "    _U, _ket_u, _n, _t, phase, _phase, _phase_est, phase_est, _phase_in_interval,\n",
    "    _eps, _s, _b, _delta,    \n",
    "    two_pow_t, _two_pow_t, _alpha, _alpha_l, _alpha_l_sqrd,\n",
    "    _s_in_nat_pos, _t_in_natural_pos, _ideal_phase_cond,\n",
    "    _diff_l_scaled_delta, _full_domain, _full_domain_sans_zero, _neg_domain,\n",
    "    _pos_domain, _e_domain, _U_pow_two_pow_k,\n",
    "    _Psi_ket, _psi, _psi_t_ket, s_ket_domain, two_pow_s,\n",
    "    _psi_t_circuit, _Psi_circuit, _phase_circuit, _phase_est_circuit, _n_ge_two, _t_req,\n",
    "    m_domain, _Omega, _sample_space, _success_cond)\n",
    "#    _success_prob_guarantee, _t_req)\n",
    "from proveit.physics.quantum.QPE.phase_est_ops import (\n",
    "    Psuccess, Pfail, ModAdd, SubIndexed, exp2pi_i_on_two_pow_t, exp_neg_2pi_i_on_two_pow_t)\n",
    "from proveit.physics.quantum.QFT import InverseFourierTransform\n",
    "from proveit.trigonometry import Sin\n",
    "from IPython.display import display"
   ]
  },
  {
   "cell_type": "code",
   "execution_count": null,
   "metadata": {},
   "outputs": [],
   "source": [
    "%begin theorems"
   ]
  },
  {
   "cell_type": "markdown",
   "metadata": {},
   "source": [
    "## The main theorems: QPE circuit output\n",
    "\n",
    "These main theorems are proven using the \"local theorems\" below via \"literal generalization\" in which we convert literals to variables and eliminate extraneous theorem/axiom dependencies.  That is, local definitions (e.g., definitions for $t$, $U$, $\\oplus$, $P_{\\textrm fail}$, etc. in the axioms notebook) are used for convenience to prove local theorems but are formally eliminated to prove these statements that quantify over $t$, $U$, etc. and become logically independent of the local definitions."
   ]
  },
  {
   "cell_type": "code",
   "execution_count": null,
   "metadata": {},
   "outputs": [],
   "source": [
    "qpe_exact = Forall(\n",
    "    (s, t), Forall(\n",
    "        U, Forall(\n",
    "            var_ket_u, Forall(\n",
    "                phase,\n",
    "                Equals(Prob(_phase_circuit.literals_as_variables(_s, _t, _U, _ket_u, _phase)), one),\n",
    "                domain=Real,\n",
    "                conditions=[_ideal_phase_cond.literals_as_variables(_t, _phase), \n",
    "                            Equals(MatrixMult(U, var_ket_u),\n",
    "                                   ScalarMult(exp2pi_i(phase), var_ket_u))]).with_wrapping(),\n",
    "            domain=s_ket_domain, condition=normalized_var_ket_u),\n",
    "        domain=Unitary(two_pow_s)),\n",
    "    domain=NaturalPos)"
   ]
  },
  {
   "cell_type": "code",
   "execution_count": null,
   "metadata": {},
   "outputs": [],
   "source": [
    "qpe_guarantee = Forall(\n",
    "    eps, Forall(\n",
    "        (s, n), Forall(\n",
    "            (U, var_ket_u, phase), \n",
    "            Exists(\n",
    "                t, greater_eq(\n",
    "                    ProbOfAll(m, _phase_est_circuit.literals_as_variables(_s, _t, _U, _ket_u, _phase),\n",
    "                              domain=m_domain.literals_as_variables(_t), \n",
    "                              condition=_success_cond.literals_as_variables(_t, _n, _phase))\n",
    "                    .with_wrapping(), \n",
    "                    subtract(one, _eps.as_variable())),\n",
    "                domain=NaturalPos,\n",
    "                condition=_t_req.literals_as_variables(_t, _n, _eps)).with_wrapping(),\n",
    "            domains=(Unitary(two_pow_s), s_ket_domain, Real),\n",
    "            conditions=[_phase_in_interval.literals_as_variables(_phase),\n",
    "                        normalized_var_ket_u,\n",
    "                        Equals(MatrixMult(U, var_ket_u),\n",
    "                               ScalarMult(exp2pi_i(phase), var_ket_u))]).with_wrapping(),\n",
    "        domain=NaturalPos, condition=_n_ge_two.literals_as_variables(_n)),\n",
    "    domain=IntervalOC(zero, one))"
   ]
  },
  {
   "cell_type": "markdown",
   "metadata": {},
   "source": [
    "## Local theorems (for convenience - used only internally)"
   ]
  },
  {
   "cell_type": "markdown",
   "metadata": {},
   "source": [
    "### Let's match quantum circuit outputs with definitions for $|\\psi_t \\rangle$ and $|\\Psi\\rangle$."
   ]
  },
  {
   "cell_type": "code",
   "execution_count": null,
   "metadata": {},
   "outputs": [],
   "source": [
    "_psi_t_output = Forall(t, Equals(Prob(_psi_t_circuit.literals_as_variables(_t)), one), \n",
    "                       domain=NaturalPos)"
   ]
  },
  {
   "cell_type": "code",
   "execution_count": null,
   "metadata": {},
   "outputs": [],
   "source": [
    "_Psi_output = Equals(Prob(_Psi_circuit), one)"
   ]
  },
  {
   "cell_type": "markdown",
   "metadata": {},
   "source": [
    "### Establish the probabilistic sample space of measurement outcomes."
   ]
  },
  {
   "cell_type": "code",
   "execution_count": null,
   "metadata": {},
   "outputs": [],
   "source": [
    "_sample_space_bijection = (\n",
    "    InSet(Lambda(_sample_space.instance_param, _sample_space.instance_expr), \n",
    "          Bijections(_sample_space.domain, _Omega)))"
   ]
  },
  {
   "cell_type": "code",
   "execution_count": null,
   "metadata": {},
   "outputs": [],
   "source": [
    "_outcome_prob = Forall(\n",
    "    m, Equals(Prob(_phase_est_circuit), sqrd(Abs(Qmult(NumBra(m, _t), _Psi_ket)))),\n",
    "    domain=m_domain)"
   ]
  },
  {
   "cell_type": "code",
   "execution_count": null,
   "metadata": {},
   "outputs": [],
   "source": [
    "_Omega_is_sample_space = InClass(_Omega, SampleSpaces)"
   ]
  },
  {
   "cell_type": "code",
   "execution_count": null,
   "metadata": {},
   "outputs": [],
   "source": [
    "_outcome_prob_vs_best = Forall(\n",
    "    l, Equals(Prob(_phase_est_circuit.basic_replaced({m:ModAdd(_b, l)})), _alpha_l_sqrd),\n",
    "           domain=_full_domain)"
   ]
  },
  {
   "cell_type": "markdown",
   "metadata": {},
   "source": [
    "### Simplify  $|\\psi_t \\rangle$ and evaluate $\\alpha_l \\equiv \\lvert b \\oplus l \\rangle$ as the amplitudes of $\\lvert \\Psi \\rangle$ relative to the $t$-bit estimate of $2^t \\varphi$, $b$."
   ]
  },
  {
   "cell_type": "markdown",
   "metadata": {},
   "source": [
    "This theorem captures Nielsen & Chuang's formula 5.20 (pg 222)."
   ]
  },
  {
   "cell_type": "code",
   "execution_count": null,
   "metadata": {},
   "outputs": [],
   "source": [
    "# Notice we're using a ScalarMults instead of QMults on the rhs\n",
    "# at least until QMults are automatically simplified to do that instead\n",
    "_psi_t_var_formula = Forall(\n",
    "    t, Equals(_psi_t_ket,\n",
    "              ScalarMult(frac(one, Exp(two, frac(t, two))),\n",
    "                    VecSum(k, ScalarMult(exp(Mult(two, pi, i, _phase, k)), NumKet(k, t)),\n",
    "                           domain=Interval(zero, subtract(Exp(two, t), one))))),\n",
    "    domain=NaturalPos)"
   ]
  },
  {
   "cell_type": "markdown",
   "metadata": {},
   "source": [
    "This theorem is related to Nielsen & Chuang's formula 5.23 and 5.24 (pg 223).  It is the implicit step in between these."
   ]
  },
  {
   "cell_type": "code",
   "execution_count": null,
   "metadata": {},
   "outputs": [],
   "source": [
    "_alpha_l_eval = Forall(\n",
    "        l,\n",
    "        Equals(_alpha_l,\n",
    "               Mult(frac(one, _two_pow_t),\n",
    "                   Sum(k, Mult(exp_neg_2pi_i_on_two_pow_t(k, ModAdd(_b, l)),\n",
    "                               exp2pi_i(_phase, k)),\n",
    "                       domain=Interval(zero, subtract(_two_pow_t, one))))),\n",
    "        domain=Integer)"
   ]
  },
  {
   "cell_type": "code",
   "execution_count": null,
   "metadata": {},
   "outputs": [],
   "source": [
    "# Depends upon the _ideal_phase_cond axiom that is only applicable in the ideal case\n",
    "# when the phase is exactly represented in t bits.\n",
    "_ideal_alpha_0 = Equals(SubIndexed(_alpha, zero), one)"
   ]
  },
  {
   "cell_type": "markdown",
   "metadata": {},
   "source": [
    "#### *Evaluation of $\\alpha_l$ after performing the geometric series summation in terms of $\\delta$:*"
   ]
  },
  {
   "cell_type": "markdown",
   "metadata": {},
   "source": [
    "This theorem is Nielsen & Chuang's formula 5.26 (pg 224)."
   ]
  },
  {
   "cell_type": "code",
   "execution_count": null,
   "metadata": {},
   "outputs": [],
   "source": [
    "_alpha_l_summed = Forall(\n",
    "    l,\n",
    "    Equals(_alpha_l,\n",
    "           Mult(frac(one, _two_pow_t),\n",
    "                    frac(subtract(one, exp2pi_i(subtract(Mult(_two_pow_t, _delta), l))),\n",
    "                         subtract(one, exp2pi_i(subtract(_delta, frac(l, _two_pow_t))))))),\n",
    "    domain=_full_domain,\n",
    "    conditions = [NotEquals(l, zero)])"
   ]
  },
  {
   "cell_type": "markdown",
   "metadata": {},
   "source": [
    "### Compute the probability of failure with a measurement beyond $e$ units away from $b$."
   ]
  },
  {
   "cell_type": "markdown",
   "metadata": {},
   "source": [
    "This theorem is represents Nielsen & Chuang's formula 5.27 (pg 224)."
   ]
  },
  {
   "cell_type": "code",
   "execution_count": null,
   "metadata": {},
   "outputs": [],
   "source": [
    "_fail_sum = (\n",
    "    Forall(\n",
    "        e,\n",
    "        Equals(Pfail(e),#LessEq(Pfail(e),\n",
    "               Add(Sum(l, _alpha_l_sqrd, domain=_neg_domain),\n",
    "                   Sum(l, _alpha_l_sqrd, domain=_pos_domain))),\n",
    "        domain=_e_domain))"
   ]
  },
  {
   "cell_type": "markdown",
   "metadata": {},
   "source": [
    "This theorem is related to Nielsen & Chuang's formula 5.29 (pg 224)."
   ]
  },
  {
   "cell_type": "code",
   "execution_count": null,
   "metadata": {},
   "outputs": [],
   "source": [
    "_alpha_l_sqrd_ineq = Forall(\n",
    "    l,\n",
    "    LessEq(_alpha_l_sqrd,\n",
    "           frac(one,\n",
    "                Mult(four, Exp(_diff_l_scaled_delta, two)))),\n",
    "    domain=_full_domain_sans_zero)"
   ]
  },
  {
   "cell_type": "markdown",
   "metadata": {},
   "source": [
    "#### Obtain a bound on the failure probability:"
   ]
  },
  {
   "cell_type": "markdown",
   "metadata": {},
   "source": [
    "This theorem represents Nielsen & Chuang's formula 5.30 (pg 224)."
   ]
  },
  {
   "cell_type": "code",
   "execution_count": null,
   "metadata": {},
   "outputs": [],
   "source": [
    "_fail_ineq_lemma = Forall(\n",
    "    e,\n",
    "    LessEq(Pfail(e), \n",
    "           Mult(frac(one, four), \n",
    "                Add(Sum(l, frac(one, sqrd(_diff_l_scaled_delta)), domain=_neg_domain),\n",
    "                    Sum(l, frac(one, sqrd(_diff_l_scaled_delta)), domain=_pos_domain)))), \n",
    "    domain=_e_domain)"
   ]
  },
  {
   "cell_type": "markdown",
   "metadata": {},
   "source": [
    "This theorem represents Nielsen & Chuang's formula 5.34 (pg 224)."
   ]
  },
  {
   "cell_type": "code",
   "execution_count": null,
   "metadata": {},
   "outputs": [],
   "source": [
    "_fail_ineq = Forall(\n",
    "    e,\n",
    "    LessEq(Pfail(e), frac(one, Mult(two, subtract(e, one)))),\n",
    "    domain=_e_domain)"
   ]
  },
  {
   "cell_type": "markdown",
   "metadata": {},
   "source": [
    "### Evaluate the success probability as the complement of failure and establish our success guarantee."
   ]
  },
  {
   "cell_type": "code",
   "execution_count": null,
   "metadata": {},
   "outputs": [],
   "source": [
    "_success_complements_failure  = Forall(\n",
    "        e, Equals(Psuccess(e), subtract(one, Pfail(e))),\n",
    "        domain=_e_domain)"
   ]
  },
  {
   "cell_type": "markdown",
   "metadata": {},
   "source": [
    "Taking Nielsen & Chuang's formula 5.35 (pg 224) as an axiom for the number of qubits in the top register, $t = \\left(n + \\left\\lceil \\textrm{log}_2\\left(2 + \\frac{1}{2 \\cdot \\epsilon}\\right)\\right\\rceil\\right)$, we derive a success probability greater than $1 - \\epsilon$.  That is, rather then deriving the number of qubits needed for a certain precision and success probability as done by Nielsen & Chuang, we derive that a given number of qubits is sufficient."
   ]
  },
  {
   "cell_type": "code",
   "execution_count": null,
   "metadata": {},
   "outputs": [],
   "source": [
    "_success_prob_guarantee = greater_eq(\n",
    "    ProbOfAll(m, _phase_est_circuit,\n",
    "              domain=m_domain, condition=_success_cond).with_wrapping(), \n",
    "    subtract(one, _eps))"
   ]
  },
  {
   "cell_type": "markdown",
   "metadata": {},
   "source": [
    "### Minor theorems used through-out"
   ]
  },
  {
   "cell_type": "code",
   "execution_count": null,
   "metadata": {},
   "outputs": [],
   "source": [
    "_psi_t_ket_is_normalized_vec = Forall(\n",
    "    t, And(InSet(_psi_t_ket, QubitRegisterSpace(t)),\n",
    "           Equals(Norm(_psi_t_ket), one)),\n",
    "    domain=NaturalPos)"
   ]
  },
  {
   "cell_type": "code",
   "execution_count": null,
   "metadata": {},
   "outputs": [],
   "source": [
    "_Psi_ket_is_normalized_vec = And(InSet(_Psi_ket, QubitRegisterSpace(_t)),\n",
    "                                  Equals(Norm(_Psi_ket), one))"
   ]
  },
  {
   "cell_type": "markdown",
   "metadata": {},
   "source": [
    "#### Take care of number domain issues:"
   ]
  },
  {
   "cell_type": "code",
   "execution_count": null,
   "metadata": {},
   "outputs": [],
   "source": [
    "_best_is_int = InSet(_b, Integer)"
   ]
  },
  {
   "cell_type": "code",
   "execution_count": null,
   "metadata": {},
   "outputs": [],
   "source": [
    "# t (represented by the Literal _t) denotes\n",
    "# the number of Qbits in the input register\n",
    "# Thus, 2^t is a positive natural number\n",
    "_two_pow_t_is_nat_pos = InSet(_two_pow_t, NaturalPos)"
   ]
  },
  {
   "cell_type": "code",
   "execution_count": null,
   "metadata": {},
   "outputs": [],
   "source": [
    "# t (represented by the Literal _t) denotes\n",
    "# the number of Qbits in the input register\n",
    "_two_pow_t_minus_one_is_nat_pos = InSet(Exp(two, subtract(_t, one)), NaturalPos)"
   ]
  },
  {
   "cell_type": "code",
   "execution_count": null,
   "metadata": {},
   "outputs": [],
   "source": [
    "# t (represented by the Literal _t) denotes\n",
    "# the number of Qbits in the input register\n",
    "_two_pow_t_less_one_is_nat_pos = InSet(subtract(_two_pow_t, one), NaturalPos)"
   ]
  },
  {
   "cell_type": "code",
   "execution_count": null,
   "metadata": {},
   "outputs": [],
   "source": [
    "# t (represented by the Literal _t) denotes\n",
    "# the number of Qbits in the input register\n",
    "_two_pow_t_not_zero = NotEquals(_two_pow_t, zero)"
   ]
  },
  {
   "cell_type": "code",
   "execution_count": null,
   "metadata": {},
   "outputs": [],
   "source": [
    "# n (represented by the Literal _n) denotes the desired number\n",
    "# of bits of precision, and thus n ≤ t)\n",
    "_n_less_eq_t = LessEq(_n, _t)"
   ]
  },
  {
   "cell_type": "code",
   "execution_count": null,
   "metadata": {},
   "outputs": [],
   "source": [
    "# t (represented by the Literal _t) denotes the number of Qbits in the input register\n",
    "# n (represented by the Literal _n) denotes the desired number of bits of precision\n",
    "# In Nielsen & Chuang, e = 2^{t-n} - 1 is the max desired error\n",
    "_e_value_ge_two = greater_eq(subtract(Exp(two, subtract(_t, _n)), one), two)"
   ]
  },
  {
   "cell_type": "code",
   "execution_count": null,
   "metadata": {},
   "outputs": [],
   "source": [
    "_e_value_in_e_domain = InSet(subtract(Exp(two, subtract(_t, _n)), one), _e_domain)"
   ]
  },
  {
   "cell_type": "code",
   "execution_count": null,
   "metadata": {},
   "outputs": [],
   "source": [
    "# The o-plus addition denotes addition modulo 2^t, resulting in an integer\n",
    "_mod_add_closure = Forall((a, b), InSet(ModAdd(a, b), \n",
    "                                        Interval(zero, subtract(Exp(two, _t), one))), \n",
    "                         domain=Integer)"
   ]
  },
  {
   "cell_type": "code",
   "execution_count": null,
   "metadata": {},
   "outputs": [],
   "source": [
    "# The phase phi is in the real interval [0, 1)\n",
    "_phase_is_real = InSet(_phase, Real)"
   ]
  },
  {
   "cell_type": "code",
   "execution_count": null,
   "metadata": {},
   "outputs": [],
   "source": [
    "_pos_domain_in_full_domain = Forall(\n",
    "        e, Forall(l, InSet(l, _full_domain), domain=_pos_domain),\n",
    "        domain=NaturalPos)"
   ]
  },
  {
   "cell_type": "code",
   "execution_count": null,
   "metadata": {},
   "outputs": [],
   "source": [
    "_pos_domain_in_full_domain_sans_zero = Forall(\n",
    "        e, SubsetEq(_pos_domain, _full_domain_sans_zero),\n",
    "        domain=_e_domain)"
   ]
  },
  {
   "cell_type": "code",
   "execution_count": null,
   "metadata": {},
   "outputs": [],
   "source": [
    "_neg_domain_in_full_domain = Forall(\n",
    "        e, Forall(l, InSet(l, _full_domain), domain=_neg_domain),\n",
    "        domain=NaturalPos)"
   ]
  },
  {
   "cell_type": "code",
   "execution_count": null,
   "metadata": {},
   "outputs": [],
   "source": [
    "_neg_domain_in_full_domain_sans_zero = Forall(\n",
    "        e, SubsetEq(_neg_domain, _full_domain_sans_zero),\n",
    "        domain=_e_domain)"
   ]
  },
  {
   "cell_type": "code",
   "execution_count": null,
   "metadata": {},
   "outputs": [],
   "source": [
    "_pos_domain_within_integer = Forall(\n",
    "        e, SubsetEq(_pos_domain, Integer),\n",
    "        domain=_e_domain)"
   ]
  },
  {
   "cell_type": "code",
   "execution_count": null,
   "metadata": {},
   "outputs": [],
   "source": [
    "_neg_domain_within_integer = Forall(\n",
    "        e, SubsetEq(_neg_domain, Integer),\n",
    "        domain=_e_domain)"
   ]
  },
  {
   "cell_type": "code",
   "execution_count": null,
   "metadata": {},
   "outputs": [],
   "source": [
    "_delta_is_real = InSet(_delta, Real)"
   ]
  },
  {
   "cell_type": "markdown",
   "metadata": {},
   "source": [
    "#### This derives from $\\delta$ being the difference between $\\delta$ and its best $t$-bit estimate (without going over):"
   ]
  },
  {
   "cell_type": "code",
   "execution_count": null,
   "metadata": {},
   "outputs": [],
   "source": [
    "_scaled_delta_in_interval = InSet(Mult(_two_pow_t, _delta), IntervalCO(zero, one))"
   ]
  },
  {
   "cell_type": "code",
   "execution_count": null,
   "metadata": {},
   "outputs": [],
   "source": [
    "_all_alpha_l_is_complex = Forall(l, InSet(_alpha_l, Complex), domain=Integer)"
   ]
  },
  {
   "cell_type": "markdown",
   "metadata": {},
   "source": [
    "#### Follows from scaled_delta_in_interval:"
   ]
  },
  {
   "cell_type": "code",
   "execution_count": null,
   "metadata": {},
   "outputs": [],
   "source": [
    "_scaled_delta_not_eq_nonzeroInt = Forall(\n",
    "        l, NotEquals(Mult(_two_pow_t, _delta), l),\n",
    "        domain=Integer, conditions = [NotEquals(l, zero)])"
   ]
  },
  {
   "cell_type": "code",
   "execution_count": null,
   "metadata": {},
   "outputs": [],
   "source": [
    "_delta_not_eq_scaledNonzeroInt = Forall(\n",
    "        l, NotEquals(_delta, frac(l, _two_pow_t)),\n",
    "        domain=Integer, conditions = [NotEquals(l, zero)])"
   ]
  },
  {
   "cell_type": "code",
   "execution_count": null,
   "metadata": {},
   "outputs": [],
   "source": [
    "_delta_diff_in_interval = Forall(\n",
    "        l,\n",
    "        InSet(subtract(_delta, frac(l, _two_pow_t)),\n",
    "              IntervalCO(Neg(frac(one, two)), frac(one, two))),\n",
    "        domain=_full_domain)"
   ]
  },
  {
   "cell_type": "code",
   "execution_count": null,
   "metadata": {},
   "outputs": [],
   "source": [
    "_scaled_delta_diff_in_interval = Forall(\n",
    "        l,\n",
    "        InSet(Mult(two, pi, subtract(_delta, frac(l, _two_pow_t))),\n",
    "              IntervalCC(Neg(pi), pi)),\n",
    "        domain=_full_domain)"
   ]
  },
  {
   "cell_type": "code",
   "execution_count": null,
   "metadata": {},
   "outputs": [],
   "source": [
    "_non_int_delta_diff = Forall(\n",
    "        l,\n",
    "        NotInSet(subtract(_delta, frac(l, _two_pow_t)),\n",
    "                Integer), \n",
    "        domain=_full_domain,\n",
    "        conditions = [NotEquals(l, zero)])"
   ]
  },
  {
   "cell_type": "code",
   "execution_count": null,
   "metadata": {},
   "outputs": [],
   "source": [
    "# use alternative below instead of this one?\n",
    "# Notice the condition in the alternate that l ≠ 0\n",
    "_scaled_abs_delta_diff_interval = Forall(\n",
    "        l,\n",
    "        InSet(Mult(pi, Abs(subtract(_delta, frac(l, _two_pow_t)))),\n",
    "              IntervalOC(zero, Div(pi, two))),\n",
    "        domain=_full_domain,\n",
    "        conditions = [NotEquals(l, zero)])"
   ]
  },
  {
   "cell_type": "code",
   "execution_count": null,
   "metadata": {},
   "outputs": [],
   "source": [
    "_pfail_in_real = Forall(e, InSet(Pfail(e), Real), domain=_e_domain)"
   ]
  },
  {
   "cell_type": "markdown",
   "metadata": {},
   "source": [
    "#### *Modulo addition may be converted to regular addition within $2 \\pi i$ exponentiation:*"
   ]
  },
  {
   "cell_type": "code",
   "execution_count": null,
   "metadata": {},
   "outputs": [],
   "source": [
    "_exp2pi_i_modadd = Forall(\n",
    "        (a, b),\n",
    "        Equals(exp2pi_i_on_two_pow_t(ModAdd(a, b)), \n",
    "               exp2pi_i_on_two_pow_t(Add(a, b))),\n",
    "        domain=Integer)"
   ]
  },
  {
   "cell_type": "code",
   "execution_count": null,
   "metadata": {},
   "outputs": [],
   "source": [
    "_phase_from_best = Equals(_phase, Add(frac(_b, _two_pow_t), _delta))"
   ]
  },
  {
   "cell_type": "code",
   "execution_count": null,
   "metadata": {},
   "outputs": [],
   "source": [
    "_scaled_delta_minus_l__in__real = Forall(l, InSet(subtract(Mult(_two_pow_t, _delta), l), Real),\n",
    "                                         domain = Integer)"
   ]
  },
  {
   "cell_type": "code",
   "execution_count": null,
   "metadata": {},
   "outputs": [],
   "source": [
    "_delta_diff_exp_not_one = Forall(\n",
    "    l,\n",
    "    NotEquals(exp2pi_i(subtract(_delta, frac(l, _two_pow_t))),\n",
    "          one),\n",
    "    domain=_full_domain,\n",
    "    conditions = [NotEquals(l, zero)])"
   ]
  },
  {
   "cell_type": "code",
   "execution_count": null,
   "metadata": {},
   "outputs": [],
   "source": [
    "_modabs_in_full_domain_simp = Forall(l, Equals(ModAbs(l, _two_pow_t), Abs(l)),\n",
    "                                     domain=_full_domain)"
   ]
  },
  {
   "cell_type": "code",
   "execution_count": null,
   "metadata": {},
   "outputs": [],
   "source": [
    "_pos_domain_within_natpos = Forall(e, SubsetEq(_pos_domain, NaturalPos), domain=_e_domain)"
   ]
  },
  {
   "cell_type": "code",
   "execution_count": null,
   "metadata": {},
   "outputs": [],
   "source": [
    "_neg_domain_within_negint = Forall(e, SubsetEq(_neg_domain, IntegerNeg), domain=_e_domain)"
   ]
  },
  {
   "cell_type": "code",
   "execution_count": null,
   "metadata": {},
   "outputs": [],
   "source": [
    "%end theorems"
   ]
  },
  {
   "cell_type": "code",
   "execution_count": null,
   "metadata": {},
   "outputs": [],
   "source": []
  }
 ],
 "metadata": {
  "kernelspec": {
   "display_name": "Python 3",
   "language": "python",
   "name": "python3"
  }
 },
 "nbformat": 4,
 "nbformat_minor": 0
}
