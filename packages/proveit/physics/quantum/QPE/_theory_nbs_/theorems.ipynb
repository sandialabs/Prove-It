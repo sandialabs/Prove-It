{
 "cells": [
  {
   "cell_type": "markdown",
   "metadata": {},
   "source": [
    "Theorems (or conjectures) for the theory of <a class=\"ProveItLink\" href=\"theory.ipynb\">proveit.physics.quantum.QPE</a>\n",
    "========"
   ]
  },
  {
   "cell_type": "code",
   "execution_count": 1,
   "metadata": {},
   "outputs": [],
   "source": [
    "import proveit\n",
    "# Prepare this notebook for defining the theorems of a theory:\n",
    "%theorems_notebook # Keep this at the top following 'import proveit'.\n",
    "from proveit import a, b, e, k, l, m, n, r, s, t, u, U, eps\n",
    "from proveit import IndexedVar, ExprRange,  Lambda\n",
    "from proveit.logic import (\n",
    "    Implies, And, Or, Equals, Forall, Exists, Set, InSet, InClass, NotEquals, NotInSet,\n",
    "    SubsetEq, Difference, Set, SetOfAll, Disjoint, Bijections)\n",
    "from proveit.numbers import (\n",
    "    zero, one, two, three, four, pi, i,\n",
    "    Abs, Add, Complex, Div, Exp, exp, exp2pi_i, sqrd, frac, greater, greater_eq,\n",
    "    Integer, IntegerNonZero, IntegerNeg, Interval, IntervalCC, IntervalCO,\n",
    "    number_ordering,\n",
    "    IntervalOC, IntervalOO, Less, LessEq, Mod, ModAbs, Round, Mult, Natural,\n",
    "    NaturalPos, Neg, Real, RealNonNeg, sqrd, sqrt, subtract, Sum)\n",
    "from proveit.linear_algebra import (\n",
    "    MatrixMult, Norm, ScalarMult, TensorProd, Unitary, VecAdd, VecSum)\n",
    "from proveit.statistics import Prob, ProbOfAll, SampleSpaces\n",
    "from proveit.physics.quantum import Bra, Meas, NumBra, NumKet, Qmult, QubitRegisterSpace\n",
    "from proveit.physics.quantum import inv_root2, ket0, ket1, normalized_var_ket_u, var_ket_u \n",
    "from proveit.physics.quantum.QPE import (\n",
    "    _alpha, _alpha_l, _alpha_bl, _alpha_l_sqrd, _alpha_m, _alpha_m_sqrd, _rel_indexed_alpha,\n",
    "    _b, _b_floor, _b_round, _delta, _delta_b, _delta_b_floor, _delta_b_round,\n",
    "    _diff_l_scaled_delta_floor, _e_domain, _eps, _full_domain,\n",
    "    _ideal_phase_cond, _ket_u, _m_domain, _n, _n_ge_two,\n",
    "    _neg_domain, _Omega, phase, _phase, _phase_est, phase_est, _phase_in_interval,\n",
    "    _phase_circuit, _phase_est_circuit, _phase_est_circuit_b_r, _pos_domain, _Psi_ket, _psi,\n",
    "    _Psi_register_meas, _psi_t_circuit, _Psi_circuit, _psi_t_ket, _s,\n",
    "    _s_in_nat_pos, s_ket_domain, _sample_space, _success_cond, _t,\n",
    "    _t_in_natural_pos, _t_req, two_pow_s, two_pow_t, _two_pow_t, _U, _U_pow_two_pow_k\n",
    "    )\n",
    "from proveit.physics.quantum.QPE.phase_est_ops import (\n",
    "    exp2pi_i_on_two_pow_t, exp_neg_2pi_i_on_two_pow_t, ModAdd, Psuccess, Pfail, SubIndexed )\n",
    "from proveit.physics.quantum.QFT import InverseFourierTransform\n",
    "from proveit.trigonometry import Sin\n",
    "from IPython.display import display"
   ]
  },
  {
   "cell_type": "code",
   "execution_count": 2,
   "metadata": {},
   "outputs": [
    {
     "name": "stdout",
     "output_type": "stream",
     "text": [
      "Defining theorems for theory 'proveit.physics.quantum.QPE'\n",
      "Subsequent end-of-cell assignments will define theorems\n",
      "'%end theorems' will finalize the definitions\n"
     ]
    }
   ],
   "source": [
    "%begin theorems"
   ]
  },
  {
   "cell_type": "markdown",
   "metadata": {},
   "source": [
    "## The main theorems: QPE circuit output\n",
    "\n",
    "These main theorems are proven using the \"local theorems\" below via \"literal generalization\" in which we convert literals to variables and eliminate extraneous theorem/axiom dependencies.  That is, local definitions (e.g., definitions for $t$, $U$, $\\oplus$, $P_{\\textrm fail}$, etc. in the axioms notebook) are used for convenience to prove local theorems but are formally eliminated to prove these statements that quantify over $t$, $U$, etc. and become logically independent of the local definitions."
   ]
  },
  {
   "cell_type": "code",
   "execution_count": 3,
   "metadata": {},
   "outputs": [
    {
     "data": {
      "text/html": [
       "<strong id=\"qpe_exact\"><a class=\"ProveItLink\" href=\"proofs/qpe_exact/thm_proof.ipynb\">qpe_exact</a> (conjecture with conjecture-based proof):<br></strong> <a class=\"ProveItLink\" href=\"../__pv_it/theorems/3e46361d981f1362dc814a0029179927514b92b70/theorem_expr.ipynb\"><img src=\"data:image/png;base64,iVBORw0KGgoAAAANSUhEUgAAAxMAAAF2CAMAAAAiIjWiAAAAgVBMVEX///8AAAAAAAAAAAAAAAAA\n",
       "AAAAAAAAAAAAAAAAAAAAAAAAAAAAAAAAAAAAAAAAAAAAAAAAAAAAAAAAAAAAAAAAAAAAAAAAAAAA\n",
       "AAAAAAAAAAAAAAAAAAAAAAAAAAAAAAAAAAAAAAAAAAAAAAAAAAAAAAAAAAAAAAAAAAAAAAAAAACB\n",
       "rqoyAAAAKnRSTlMAq1RmmUTNIjK7EInv3XZAMCClucNsr+PhhVBe59dgodWTfOXZ0cFw6Y0Jbk8v\n",
       "AAAACXBIWXMAAA7EAAAOxAGVKw4bAAAfD0lEQVR42u2dDdutqHWGRUEQlJmkyeScJE3Tadqr9f//\n",
       "wPq5Rbe4RdEt+jxzzTnn9RVE4Ja1AJcRiXrFSQRBUERZ/6+UozYgKIpEP1DwDJUBQc3wINu/VYy6\n",
       "gKBaSedGpKgKCGqVF7VyhZqAoM7LFvWfmURNQFDnXJP+DydhXIHuq3qIUGzO/R7NzvKC1mcleYsP\n",
       "RcVBt1Ws5z1sWbZ/C02yrKIhJpGq8KESTEB3Vxoleo6VFhTaOhz1QreuSeiMJjAB3Vgq7hcpIpUk\n",
       "3ToFV0WqKhr0a8tHLGLGdc2EopQW1f8MdQfd1MvOew+7GhJeC9tRWtMhh+XtWFS2U8wwTkAPEBG9\n",
       "u50mw5xsWf+TJSYTFQk6AxPQgyTyMu8nm1he/5mkWaO4ZUKq3h0HE9AjjCgZ8aJ3tzWJZGVKqdE4\n",
       "EbG4+z3WJ6AnqKicZtWOBtVAoJup12GBO2EdKhD0GCVxO+0k8upPQZN6YOBZ52yIol3DAxPQI2Vs\n",
       "HJeq9icw7Qo9Www7AiFobEShCiAIgiAIgiAIWilRNsI0K/RcFS0EAxMqqWRMuCIWGvQw1QQkxGBi\n",
       "GvAMsdCgR4KxwARioUFgYiLEQoPAxNS66thAPUFgohVioUFgYuJlIxYaBCZGco+FFs/MUGlUM3Qb\n",
       "JoxYaIKWJKmnoIqRJSVVXjQRn/Lmhe5meUMqRYg5tuAdVeg+TBix0OL2TNYtWvRR0KLMiAkoSf9P\n",
       "WtTnJK2XzuCQQLdhwoiFRlPTEHpFQeuZaLp9u8pXVn/ysonw0b2yncIjgW7DxBALrbOZ2j+HKGgj\n",
       "Joo2T9kxwXpysMAB3YeJVyw0WbJhnDCioJlM8GEhQ1V4EB7JdliJ4VFAt2HiFQutdyeaH40oaCYT\n",
       "7IWKKGS9c7DfO8iwOQS6DxO9Ru6EEQUtItmLiXjYIDV2IASYgG7IRNPfO1vIiIIW6eLFRN/1eWUq\n",
       "cTM32E7QDZlgddeXPQvmOFDUo4UWg4/NMyEENUcKjWU76H5MVIaRGmabXlHQGlAqtT9mTRb56F2l\n",
       "4TgE3YuJseajoFkW5yTcCej+TNi8Dr7+KAQ9gYkm5PLbNRBUE3owE5FcdQiCnsMEBIEJCHoYE4iF\n",
       "Bt1Ok9hm7kwgFhp0t6FgHNvMnQnEQoPubSPtZwKx0CAwMRFioUFgYmqNdWygXiEw0Qqx0CAwMfGy\n",
       "d8VC68N5QNB9mDBjoY1fF1p6eYjFupmyeoXzmElT/Vtze7avX0PQtZgwYqFF47mnZMbt1hklmuso\n",
       "ryMdREY4jz6z8b8Vt2f7+rUhmcCvgb7PhBELbTIfO4Qp6IKiyYxUGcSZiqq/RG6G81jPRP/jDBNC\n",
       "d2+/QpBnJn4pf13PhBELbdJ5+3clXmOBagFIGnOphmQI5+HARJft3DgRxWAC8sjE7xuZGGKh1Z2X\n",
       "6dq3aPwL3pr+r9dUZSJaG4u/fPM3Q8zGxHu2YAI6kQkn22mIhVZ302okKGVjF/U9fHjbNOZDqHEl\n",
       "Z2OM25h4z7b7Nc16JWACuog/McRCq7spl3W31G23bQyjIShaIpN+yjYty7JwYOI9W4wT0IWZGPdo\n",
       "otv/oy720xAUTQgmPpTN7k9MswUTUDBM5JXPkAvx8oaNoGidj73wBqqdiWm2sJ2gcJjgESubzt95\n",
       "EsMaN1dNd1Z6CxNv2WKcgAJhIqY6JrqeYNLdLNMQFE2qypCiYovt9JbtDBNcpaVCnEHoaky8/zgf\n",
       "FM2RibdzZscJCLoyE2zDE3sFE0yDCShQJog8hAkiwQQUDBPj327ZPs7H/5YL2XJEUIOuzwQE3ZWJ\n",
       "Yb0ZTEBPZoInW8cJxEKDLq+Vsc182U7vsdAQDA262lCwLraZPybejiMYGhSk33AgEwiGBoGJiRAM\n",
       "DQITU/OtYwMNAYGJVgiGBoGJiZe9KxgaBN2PCTMY2m5xelAlHZbxkvqIb+8VCUvz1kyYwdBWatw/\n",
       "YyPTZHaP7ezBRLksiCT2zbtCUWkt0HyR6UK5jOR9xLetNbN4GejCTBjB0Ga7SKFSSlKzYUfTtvUS\n",
       "oFSK1PtgdUHjz12lLUsb2yNSSi+4MosZv6IJKjItUCRoSZJ6hrlQ70V+xSicG3yMJU0+FDNiaV79\n",
       "1yV4TVzLuI4Nl83XzOJloGOYsMV3cov7ZARDG5/dRQXUdahYxdU8E5J0jU7r10ktr5QyNcmz6knp\n",
       "6/nPssXnri3jIZpgnE4LVB1ra4mxuc7a/8jecZRjK7IpbF1rrKoF1ZPSMFEfTerw0hGP55lYuAy0\n",
       "iYnfN8d3cmRiCIY26o79u6e6HvwTMzam2fKNwV1Wf/BSRNI23nQXMKLOdv04rw/YtywuZxzPMdF5\n",
       "ADQd2S2W0IfvNz52IJry8qIdstpM6p9qJpqjusWCRa6Xgbwy4dt2MoKhJY3/mNd/vaICtkxoSeeZ\n",
       "aPpLvT+37roxjQYnwcisWxHUhgfR9mNe1r0lt64Xzma8zER3rLOZlFHk9xiFMyuVbf8neVrTYEZ8\n",
       "q1yu4vVOSF8DSsjEjHiy+jLQpf2JIRgaq80CwutZlSEqYGM78czszwYT/NUdVf38pMnrCkZmdeSC\n",
       "aJRnHU6qLVHdzYpFb3ua8TsTrHgrkCzZdJyYiVHYlGsUZqdNnqomz1HEt9pzeGOicnSKbDyC2i4D\n",
       "BcWEOT+k2v+HqIDVUZqpLJr3sV++gCik4RmPM+tOM/KsBhAxMJEvzcyYGVuYiFItJwXq3YnF0Icz\n",
       "rkxb0Nx4UHwQMe959WWggJho3EVtRgVsbCfF4nkmYtI/OaU5p8RHmVVHsmiUpyDt69qt7VQumBbj\n",
       "jF+PdD5iIh6mxboCTdwJS4zCtlwjzOrkuqyX9tdNTxfmPa++DBQKE6TtRHE8igpYM8GYkrNMdK1d\n",
       "G86c2zLrjAdhTr9ossbHnsv4fZzg+VuBaJO9HDPxFqPw3XZqksebl+QWLgMFyURCBIkEba0AafoT\n",
       "lbe55GPzTAgxWTkzM4u0Huf56nf1LxgZGV1SmaPEe8ZWH7tNWAwuhlSTzjqNUdiV6+25X+j5lb+V\n",
       "TKy4DBQIE1XnKvNsEhWQpbpyOSWl6SwTjRWTz70uaGTWnmVGGnw9i5XSQ59vDJDWCmmVL7yHOEQT\n",
       "7PISzfxV1j2aiXqbFniLUdifPL0fSfJ8S4if9ZeBQmHCXLxbiApoMrGwHjVk1j8vjTxjj1uGXnnF\n",
       "1gLNL6bJdzt/3/ra6stAwTCRxc4tT/nnzGbOYYV/Jpi0Fmg+RuHcqZR7Y2LpMlAoTBTSveWV/JRZ\n",
       "MjfapN5sbJF28CX2As3GKJwtl/1+nGtm8TJQIEys0ySXj33IEoXK0+IuFyuuNxujULoUd0PNyN35\n",
       "gQnX47aYZ4iFFoBKj2c9hgmefDp+wDiROozzKWyCPUys05VvgRfyoHRXsp2ow/t2FPEEnz5OKHJQ\n",
       "uiutT+TrwXc5F7qp7ZQnx6S7DhPS4RZljliaxzEhuRcm5NF71NlGD/VTugvtd3JYRyOb19xmyyDA\n",
       "hKnXgv8uJpLy8MVCkh2S7jJMiHK90+xy7tSYZEud4AS31asOYWLYAbaHCXpCBHlexkekuwwTqcOj\n",
       "P92+NWOWCS87R79gfB/DxBDPesct6fKMLSVZcUS6qzAROzz64+3DhCVuTgEmhhZWHvJnZXnGJIgo\n",
       "9QHprsJE6tAt0x1d2GDCePPOxyvLN2FC/kV6yL8oz4kWkuUHpLsIEy7Ab304TJmIh2x8xPq/CRM/\n",
       "fnrI/6RhojYZYv/pLsIEcahDsqe+55nw8U2YezDx19xH/qQ8K37n1gstpft6zLN2wHbwyOQu783C\n",
       "RKzARKP8bz7yL8qz3nclpfCezn/MM9vxP/zxDwulWD8EJmXsnwkPXvYtmPj5w0v+ZXnW+65so+Oy\n",
       "lO6XP17BdsoczKFsl6lqY4IyMFGNwX//NTAmojL3nu4S/oQs1z+mXc61MUHbL8G0H4Rpl5bEsFB1\n",
       "+gLa9v7gbbmvO2g62PvyP23vTbbReFpIdwkmEocBMNk3y2cbJ/Y7FMGOEwMhf53QsmOcOI0JvbE/\n",
       "LKS7BBPEYRGOlOwIJvZPPIXJxIiBxsE2joTAhNg487SQ7hJM5A6Vn+/rexYmPCxQhMjE2IbqHezX\n",
       "0RCYiLYuhdjTXYGJE90JGxMeFrIDZGLiVfz4degv4TCRbjQc7OmuwETssOIQ79xbZmGiiB7IxASJ\n",
       "0efMmt/tYOLnaZVAN85x2dNdgQnq4CbRnRtp5pnwsTE2NCamU0+TL8/Uv97BxB9Pq4St72nY012B\n",
       "idRhFS4tY19MGHsAfYSPDI6J6eQF85f/mUyIjSsU9nRXYCJ3mGLOS+GLCesj8jk+ttk8WeSTifNs\n",
       "J7lxZcie7gpMuMwc7N1wOcuETsCE5F6ZOPF9+XLjY9Ka7ryYZ7a9gRF3AJ3vXS7Wc/VAIjDhNf9T\n",
       "mSg2mtPWdL9/P+ZZ7DC9GpdFdFGBie/YTpWLqf2mu4DtpB1WIvVpG/PBRCjjBNk4FWlNdwEmlMNk\n",
       "miozMAEmRtoaIcSa7gJMEId7IiUBE2Bi8pxM/aa7ABOZw0tZWUnBhI9LHrv9/WQmCr/pLsBE6tDP\n",
       "UzDx3UtekAm9cdHOmu4CTLjEPTkrRgqY2MnEifNOycbxzJruAkzkDv08BxMYJx7BhHZgQoMJMDFS\n",
       "vJGJ+NJMJA5MJGACTNyeCZcKLMEEmJiIbWSC+WfCNeaZdb9T6bBfpSxjMAEmJg/bbftCrel+Py3m\n",
       "mXWc+Lc//br6PlzOBRPPYOIPf/qT33SXsJ0wTtyMid9+O/HTT97HCTABJmA7gQkwASbABJgAE2AC\n",
       "TIAJMAEmwASYABPXZeInmAATYALjBJgAE2ACTNyHifJG79mBCTDhhYlj838qE64xz2zHqwr8s0Nl\n",
       "/xlMgImRftnIhDXd59hmtuMYJ8CEvZkw7wQm7sTEK3QsbKdHMDFbBgEmTGUCTDyJidm44pkAE4MY\n",
       "gY8NJnx8pug+TAyfgAUTz2XCx+fsbsNEoiIw8VQmjG93efjs6V2YkH+RPpjAvFOQTBjfePTweey7\n",
       "MPHjZ+SDCYwToTNh2NAPZ+KveQQmwETzbwUmGuV/AxNgwpeXfQsmfv6IwMTTYp7ZmKAMTFQO9t9/\n",
       "BRNXiHlGf1tvzLuca2eCFrXyvPmrXaESw0LVVn2BiR2y5OMr/xOZkL/95jcdbCdfDkWo44RBQuVg\n",
       "j7DYnD9int2Bif0TT2EyMRoZWgd7OAR/4slMeFigCJGJsa30crD7w2DiyUx4WMgOkImJ+/Dj12g8\n",
       "fICJJzNRRM9jYjoroJJRRYOJZzPhY2NsaExMkZDppKbBxPOYMPYAZvyBTEwOEeYvf+wBDJQJ6yPy\n",
       "OT622TxZ5JMJjBOBM6ETMCE5mHgoE3puMYlEYMJr/tjvNJbtOOJ2gImwmfC/3wkxz8DEITot5hni\n",
       "O4EJzDuBiScxgRjKYAJMnFowMAEmwASYABNgAkyACTABJsAEmNjMBOadwASYwDgBJsAEmAATYAJM\n",
       "gAkwASZcjrt+y3Eh5hn2O4GJ7fK+38m21w/feAQTe5jAvBOYABOwncAEmAATYAJMgAkwASbABJgA\n",
       "E2ACTNyYCZmQtEhLvyqK7OPHOsAEmLgkE3GaaiEPuKxkqiCLUeIQax9MXJAJkVJ5ZEdMicQ4ASZC\n",
       "YkL7CPe5KFYwMAEmwmGC0OOvLtMETIyPI+bZdZn493+ccv3/yB7FxIkxz079xuMjmCBnPTiUugAT\n",
       "3r/xiJhn92NCq9NKkMWWZsIeQDBxISZkcV4JLNf6ME6kHEyAiTMvSc+sovnPFCwzIf1WFZgAEx8u\n",
       "6eUDM+tVfGZi2u7x5xIKMAEm/F0ySU4tw+w+jzET4+/gcFWk6lOfzwSYABPeLpnJU8vA6EomOKVp\n",
       "29XTz23o8tFNMAEmPlwyPbkQxWwz/Zwyweu1DFXW/1zThQswASZ8XZKTkwuRrhsn2k2DeV6NLPmK\n",
       "XFUMJr7BREFvyARTJ9fGnK02w0TedEBSdQJNIvnRXeAZmPgCE7JMb8hErE+uDSrWjRONNURKEVEd\n",
       "qc+deP0aBpjwOE7I6IZMbJ7831obvFznY7eDUXWyoMncMCGagywt24EnVgEygZhn1/SxywuUwsaE\n",
       "KO2jWGO6iTRhRLl52Yh5Bh87CCZ+zjJR2CcA4maYaH7fuhLdwsdnGwq2E5gId5ygmd2LaQaH1sRo\n",
       "nX1BVpqCYAJMBMtEMjNKvGa79OsP2dpXrUOxZh8ImPDnYt9y3mlrObbXxlommk7O+YI7wRr7qXuP\n",
       "vDaaVu0DARNYnzhonNhcGyuZEM1zX9u6L01aLiRpGegWKFbsAwETsJ3CtJ14QWvZZ5PSVKcioX3k\n",
       "g24he0V3BxNgIkwmijZi2oKBllSnFK9ViRaeNftAwASYCICJccwzxdZlRA2Quo2xa/aBgAkwEeY4\n",
       "sUK50fu78FRr9oGACTBxVyaEkVH/sqBlHwiYABOPYEIb/rdOPPTt85lAzDMwsY4Jve5FUm6cRqIL\n",
       "MoGYZ2DCFxMHCzHPME4EwQRinl2TCbchhX+ZCe5+hgsTx1XGt8cJMLH+XO02pDD9VSZWlPathA5M\n",
       "HFgZYOJYJjgpypIQkmXJXiZWvqjFlaIZc53r+Nw1NKGU6JmbEqTI8+onkuZ5Mi5tfWLRBEAmeZm+\n",
       "d8tpCdczcWRlBMOEKGSY44QomzkHnqf7mOhnuGWxaAfIer00bnNNpTcmRLtJQRdi5qZY+1MkMzUt\n",
       "bRvsJXqLg9zdxaSEq5k4tDLCYEISmpaBMsG7DpOUahcT/UaBeLnCdJ1ht086ob6Y4P07lroU7zfV\n",
       "/1S107S0aZ/L5MNb3V1MSriaiUMrI5hxQofOhCiLXUz0m8fo8nu9LG+icLXP0Vx6YiJ9bV0riveb\n",
       "ejER0Wlpy/5NtMkEfX8X4xKuZuLQyghm3il4JliZ7mHi9X5WscKSjrvHmvExqv67nuvjDJVmfmpo\n",
       "B/12U+1PrOp/8aS0rB9f5KTU/V2MP5e1loljKwPjxFlMqOooS3MdK/Mt9dVM0Kb1GcnKjHyaQ2FF\n",
       "14JqeDrz1hPo/nJkggylFAYF7U31P2k2LW39++5yibkdwrgLRbYwcWxlgIlzmJC6nZPJaczN+l3N\n",
       "RPqyoD9WqSak74nG0NR0AAckzK6Rlmy4nfztpqpjhBjnDKUt8qlRNbmLJN3CxLGVcTUmaGGI3IOJ\n",
       "QinVT6fX5rjcYjsV3Xl0zVvG3VRLFJtvsFRdwAUJKxPF2001hPCMvZVWvhyNqTvR38WohKuZOLYy\n",
       "ME4cHfOMl6bRmpKlc5dcbPZmQcvUeH6M27cNZjrarVz3AxckLLYTa25nfFODP9GvF3el7U35iOt5\n",
       "d2JSwrVMHFsZ32bil41MhBPzbMIE3ehjd91Alh/2KbcRGbM22/GbjvZuUM7KfNTSoR0SCxNSDrXZ\n",
       "lfblTqhxVQ13MS7hp3KcUhnzpcC803FMqI1MdOZCY0Ev1VhbL103iAs/tlOU1f2JxS8PYY6JpjbF\n",
       "qLSqnDedhrsYldDVdjqoMuBPBMJEpl8WdLzUsXNimAtJ5sfHrm5CRTGTelizm2ciHZe2X1Lr5j6l\n",
       "6U60d5FkW5g4tjLgTxy/t8N0BIuttlM3k0hIH1bOoubrb70dT5WfudgqXap1/aJ9Z7WMb0r0TKh8\n",
       "XNrWVOTdzM8QhWy4C6q2MHFsZQTDhBr3wHD2AKZlSfrWYKTMSbyJCdGO/Dz79MlDRintp4CKwd7u\n",
       "ZyR5uomJ6qGUEd0sG4vJTYluRyDJ8tfoIXo7RWWEvrpt0e9ZG+6iYFuYOLYyAmGC1PsqSRLiOPGh\n",
       "460+12nOqH8c7mmauQqrt9xl20sby+USrt7bcWhlYK94KExs2NBHE99MkFQkxfbSqg8lXM3EoZWB\n",
       "9+yCeacoc31xzuETamv7YlyWpd5c2jfjf1rC9e9PHFkZGCeCYUK6dvGMe2ciojnZXlr9qYTrmTiy\n",
       "MsBEOO+ecreXSfXOF7J3vnu6orRvJXR49/TAygATiNtxDBPeLvm4WDaIeQYmwMSXmEDMMzARCBOI\n",
       "eYZxIgAmxrH24U+ACTABHxtMgAkwASbABJgAE2ACTIAJMAEmwASY8MUE9gCCCTCBceIOTBQUTHio\n",
       "DTBxHyZkmYIJD7UBJm40TsgITHioDTBxdMyzT0z8Obqo4E98iYlfNjIRTswz+Ni3YALzTmACTMB2\n",
       "AhMXZUKeXQ4OJjDvdG0mYn1ybVABJu4zTtxyfYKpk2sjk2ACttOlmeDk5ELMf2INTICJ6/jY6cmF\n",
       "mP8UJ+adwMR1mMjkqWVgFOMEmLg4Ezo5tQyUgQkwcXEm5LnGUxGBCTBxcSYiemYVzY9KiHk2lutx\n",
       "MOH5kmcOFLKI7sfE76fFPLOOE4h55vmSWp1Wgiz+PhPeY57BdrofE7ae6l/KQh9inoGJizER/fMf\n",
       "p1z/PzNrM8HHBhPXYiIiJ5hPMtMRmAAToTARqexox4sVLAITYCIcJiKW0iMXtEVGeAQmwERITERR\n",
       "nKb6kMFCCpUSvtxMYAJMXJCJ+tV4khZp6VdFkX5cFcQeQDBxUSa+VxcYJ8AEmAATYAJMgAkwASbA\n",
       "xIfjrjHPrN94RMwzMLFH3mOefY5tZjuOcQJM2JsJ805gAkzAdgITYAJMgAkwASbABJgAE2ACTIAJ\n",
       "MAEmjmAC805gAkxgnAATYAJMgIkbMVEemz+YABPhMbFOYMLtuMeYZ9jvhHFiu077xuOJMc8wToAJ\n",
       "2E5g4uZMIOZZSEzMlkGACVOSY5x4EhNqLihRJsDEXHWAiecyEVMwMYgRD/4E1rEDZ2L+wyJPZSLl\n",
       "Hpj4I5gIkQk2jO8qBhO9M/G7isDEU5kwvq7OMzDROxP/JcEEmBjZCw9ngv0riXwwAR87eCZiBSYa\n",
       "/fc/IzABJjx52bdgIvkXAxPn7Xe6NhOUgYnKwf7f/4nARHLafidrzLNTv/HYMEGLWnne/NXOxoth\n",
       "Un6rvsDEDs1lFf34P+4p/5C/8WiLbfY022m/QxHsODEgMoUF48Sjmdg/8RQmEyMK8r+1RzwwocFE\n",
       "6Ex4WKAIkonRsPDzx+Tg5vyLkoKJ0JnwsJAdIBMTr+LHr9EYlc35kzIFE6EzUUQPZGKChEpGFb0n\n",
       "f7axm4KJ6zDhY2NscExMUsv00xlOxpMGEwEyYewB9PEx6dCYmCYm7OMpLgNFLsFEeExYH5EP8rGN\n",
       "5sm83pIqCZgImQmdgAnJ/d4SOW3qCUzsZELPvWZKIjDh/Zb0WSMFmEDcjkCYiHj8OCZcv+WImGcP\n",
       "Y+IsnRbzDN94BBOBMAHbCUyACTABJg645FW3v4MJMBHaJcEEmAATYAJMgAkwASbABJgAE2ACTIAJ\n",
       "MAEmwASYABNgAkyACTABJqCQmbCKi2POBRNPgUKck+7UcWJ9XEqXc8EExgnYTmACTIAJMAGJjXsV\n",
       "rekuwETuEFw0PzMQKZgIQmwjEwxMgAkwEQwThUM/L8AEmHgAE6lDzLj0zIDVYCIIxWXuN90FmMjK\n",
       "9d9+cDkXTDxDSVn4TXcBJlyiY5Ezg7iDiSCkNwYxt6a7ABPUITgWPS/kIpgIRKrM/Ka7ABMu97T1\n",
       "/sHEfUU32g7WdBdgInEY+5IzP/YBJoJQtnHexZruAkwwh3kDtnGOwdBbKQSYmKuWg+WvGdKNexus\n",
       "6S7ABHeYX+b7Yw69RRbPBJioeki990clyVl7Z/w1Q14Kv+kuwERUOuwuL0vuuzFiCiba74NTYXwn\n",
       "/GwmNjfD1u+EWdNdgYnCYQN4sXuz+PsXKAowEdG6VrI0Oe3rQt6agW80p+3prsAEcdiwQXZv7nhv\n",
       "DBWDiaZDirzM+deY2NgMbOO0iz3dFZjQDpNpevei3Xtj8OzxTDSGC5cRL/TXmNjYDHrj1gZ7uisw\n",
       "4UI62z0ZO/P1rpQ/nQlSu5tFVTNKfI2Jjc1ANk472dNdgQnpMJkkd088NY0hNW1sMNLYz7F6OBPt\n",
       "Ry6T+LxpJ3/NUGx0se3prsBEVTzucCvcQ2OoKM6NuykezkRy/m5jX80gN7rYC+kuwYRycJzVXie7\n",
       "bgwRR7RuAJIasy4PZiKVX2HCRzPEG3fALaS7BBPM4b7Y3l2AdWNUXSCvH41593wcZuXL7foCEwFq\n",
       "XTN80524BhNR7tCh8nI/EzVasp6i7jxKHw5FwOOE+kLgB1/NsLU7LKS7BhPUYXmelsJDYzRjti49\n",
       "TjwFzEQRfYuJ3c0gNpoNS+muwQRzmGNmO1+1axsjq6sky6Jm4dbLAkW4TDD6NSZ2N4PeaDotpbsG\n",
       "E1HuMHmQ5x4ag5J62VZFypvtEC4TRHyNid3NkG7sDEvpLsKEdtjGpPdteWobQxKlY0608GY7hMvE\n",
       "N0wnT80gNhoNi+kuwkTkYhbum3l6X0D1szE2WCYS/T0m9jYD2bhgt5juKkwoh5tTpfTaGBl/NBNf\n",
       "WJzw1Qxy4+NxOd1VmJAOg6Dc5WW/NYZMoyczwb/zhruXZtAbNzUsp7sKE1UxpcMtSY+Nof2EFvzm\n",
       "Atiuzhlfg4ktzZBvtHqX012GiahwePgXOwYKPZ1luWx0nHP0pdv30Qxbn40f0l2HidhhHIxLHkFP\n",
       "l9y49e1TuuswEVEHw5Zm6BKPF8mOSbeHiUbkve/bjn96thcO2BcJ+sTDxXJ5TLqZvl9Y/LfJcZk0\n",
       "eptSsx23sWKc4XCTIpfoFc9Wwfyns/X9tk8nq4+vteIsrJgEO3gJDB7Fw70JdkC6rX38/wEiLmoq\n",
       "mkLcSgAAAABJRU5ErkJggg==\n",
       "\" style=\"display:inline;vertical-align:middle;\" /></a><br>"
      ],
      "text/plain": [
       "<IPython.core.display.HTML object>"
      ]
     },
     "metadata": {},
     "output_type": "display_data"
    }
   ],
   "source": [
    "qpe_exact = (\n",
    "    Forall((s, t),\n",
    "    Forall(U,\n",
    "    Forall(var_ket_u,\n",
    "    Forall(phase,\n",
    "           Equals(Prob(_phase_circuit.literals_as_variables(_s, _t, _U, _ket_u, _phase)), one),\n",
    "           domain=Real,\n",
    "           conditions=[_ideal_phase_cond.literals_as_variables(_t, _phase), \n",
    "                       Equals(MatrixMult(U, var_ket_u),\n",
    "                       ScalarMult(exp2pi_i(phase), var_ket_u))]).with_wrapping(),\n",
    "    domain=s_ket_domain, condition=normalized_var_ket_u).with_wrapping(),\n",
    "    domain=Unitary(two_pow_s)).with_wrapping(),\n",
    "    domain=NaturalPos).with_wrapping())"
   ]
  },
  {
   "cell_type": "code",
   "execution_count": 4,
   "metadata": {},
   "outputs": [
    {
     "data": {
      "text/html": [
       "<strong id=\"qpe_best_guarantee\"><a class=\"ProveItLink\" href=\"proofs/qpe_best_guarantee/thm_proof.ipynb\">qpe_best_guarantee</a> (conjecture with conjecture-based proof):<br></strong> <a class=\"ProveItLink\" href=\"../__pv_it/theorems/baa1f2a1f8fb727c7d1151f5498342416cb2209a0/theorem_expr.ipynb\"><img src=\"data:image/png;base64,iVBORw0KGgoAAAANSUhEUgAAA7YAAAF2CAMAAABtU/Q3AAAAgVBMVEX///8AAAAAAAAAAAAAAAAA\n",
       "AAAAAAAAAAAAAAAAAAAAAAAAAAAAAAAAAAAAAAAAAAAAAAAAAAAAAAAAAAAAAAAAAAAAAAAAAAAA\n",
       "AAAAAAAAAAAAAAAAAAAAAAAAAAAAAAAAAAAAAAAAAAAAAAAAAAAAAAAAAAAAAAAAAAAAAAAAAACB\n",
       "rqoyAAAAKnRSTlMAq1RmmUTNIjK7EInv3XZAMCClucNsr+PhhVBe59dgodWTfOXZ0cFw6Y0Jbk8v\n",
       "AAAACXBIWXMAAA7EAAAOxAGVKw4bAAAgAElEQVR42u2dDberuHWGJZAQSEiZTJObO0maptO0q+X/\n",
       "/8DyjcBgIyNhYd531px7Dra3hODx3vpgi1AyKEkJBEFXEOPDb5lAa0DQJZQP7lYUaAwIuogy2f2r\n",
       "ErQFBF1Ead+lzdAUEHQZlbpRqdASEHQZsbz5WUi0BARdRoIOP5wE7wxBH1TjaBVfeWE+JSQ0a96V\n",
       "lh3hDA0HQZ9TYtYHpGTV/ZsbWhQ1sAklqiacSWALQR9XRlKzhnPHMus6v80yKtPA2kfHwBaCPimV\n",
       "DJO3RKVpP38rlM5UDawZ1zwmecKFabBVjDFd/8/RdhD0IYlyGJCqHeu4bIpkDcByWjyV5HWQnHB4\n",
       "WwiKQbQPg0mRpdNEUNX8ylMb2xpWUwBbCIpJeVmVw/AxL5ufaVa0SjpspRpGr4AtBMURLUsi9DA6\n",
       "ZSiRdcysZt6W8KR/HfO2EBSFNK9x7Hxq7U5NO98zLZ9KeU8zBEHxKE26geS8rH/mLG3cqyj6jm+u\n",
       "u+UXwBaC4pT1FJ9UTd8Wcz0QFLk4HiyAoMtFy2gCCIIgCIIgCIIg6GLKq1aY24GgiKU7TidsVVrL\n",
       "muVB2nMIik0NpCm1sF3mNkfacwiKk90n2CLtOQRdDlukPYeg62GLtOcQdDlskfYcgq6HLdKeQ9Dl\n",
       "sHVPe56sjDkbNDMEnYetlfY8ZxVNm0FlPQuZpSp1mzm5bJNRtdO+UilKbQ+N5DUQdCK2VtrzpHsn\n",
       "7ydzh4TnpLB2KJB0+JXp5j1pN6jF0TmGoPOwtdKes8yOeMeE5wO2LZndAo2q/imqNsdjn24qQ+8Y\n",
       "gs7Ddkp73gfH3c8p4fkMW93ZlD22fIAbE78QdCK2Y9pzWfHJ21oJz21sxTTBq2qCqSCyc84JercQ\n",
       "dB62Y9rzoWvb/mklPLex5SPNuZbNAwjDIwgcqyMh6ERsB826tlbCc0KLEdtkWsQ878zmwBaCPoFt\n",
       "i2Qf9FoJz4nRI7YDnaKOiYVtDUEyBH0CW97QKQdcbW+qG59r2uBZ9742z3Nm+1uDFRcQ9AFs6whY\n",
       "TePHY8LzluVa3Z9Fa6KcPX4/HYcg6GRs51pPeL6xrkKiawtBEWC71QMW+49CEBQFtu1OXw9lYBcS\n",
       "CIoZWyJ3HYIgKCJsIQgCthAEOWOLtOcQdLoWWczfwBZpzyHobH86z2L+BrZIew5Bn42FPWCLtOcQ\n",
       "dDlskfYcgq6HLdKeQ9DlsEXacwi6HrbH0p4PCR0hCDoRWzvt+fwJ+GfPw/PEtIPQY0LHlc/Uvxux\n",
       "bXZ8GYKArSO2VtpzMh9NTldGqUzBqBGGlE0iOWIldByMzX9XYtvs+LIlmaKPDQHbHdhaac8Xk0BT\n",
       "Frg+/7ksaG0gKRSp/8lLO6HjfmyHP1ewzU2fFgeC7oftH6pf9mNrpT1f8DU8Wzt6VNUxmrZxccPx\n",
       "lNDRAdve7Jq3JQmwhe6F7e9vYjulPW/44qbp57Z9XdF1Q8f8NTLNu2C6sTIPjl9i+2gW2ELA1sbW\n",
       "KUie0p43JNX+tJJtADxAOKWhScS0CZ+Sq7vvbWH7aLZ/mRWDUmALoW+7G9sx7XlDkpANOaYjq42A\n",
       "p/znqUyHeaKsqirtgO2jWXhbCNgewXYOHTXd/6TPoTzlP89znr+o3HbfdmkW2ELA1h+2Zd1/LfOW\n",
       "z3bwyMp/3g9JPUlNs43t0iyCZAjYesRWEF61fPa92mkFlVAtccq8g+2DWXhbCNj6wjZhJqGmGTI2\n",
       "/bjxlP9cqjpiZvk7QfKD2RVshcoqhV0PIGDrjO3jn+v5zx2xfXjPqreFIGB7CFv+ht/bgS03wBYC\n",
       "tqGwpTIItlQCWwjY+sN2/uo7z/KJ+e/yiVmBZOkQsPWALQRBH8N2Ws0EbCEoamxF+q63RdpzCDqs\n",
       "p2nMAwTJj2nPkfccglwd6rM05kGwfTiOvOcQ5DEYPgdb5D2HoMthi7znEHQ9bJH3HIIuhy3ynkPQ\n",
       "9bA9lvccgoDtB7C1855fV0Me9odTRvAPfSO2dt7znWIv31EW6zVYPGyUiFfG2ernHj8+5GF/8xye\n",
       "FgNB8WFr5T1fZUOrjNHMvqNfzxU1zlspM3WYh30IZrS0Cz9yVtG0mYDSasX4sLfB2jeFvW6kz8Pe\n",
       "ed6srP/rPjHOa8mkSdhebJzDs2IgyCu2W3mS3fInW3nP5+/u9ygwzfY/Sqgd2A4fabBtbPJifKHf\n",
       "h4BbZmQXmSfd+XC+arz/kz8OmclFYN8W3JwgryusepZbbJuDabP/GBHJxjlsFwNBDnj+/n6eZEds\n",
       "p7zns7hxSEpjmtgxtTcT2cJ22iiINnng6n+nAofsUVZRfWeUZbMAdWPLhMcqLvqybdmiLUWq1krz\n",
       "R4Nte9B05HLiWgwE+cDWd5Bs5T1P20Gcsvln3KOgw9ZIto7t6kdqbEXVAFAmS2ytZR39kT44Vpbx\n",
       "x70NVpaD6N7nllkDrJ2Hve6p6x6/MUhWuUzt7JS7i4GgGPu2U95z3kSVVDSjr9MeBW2QLAqLSRvb\n",
       "9Y/UKOQttjpdYpuM+IvOy8qKL73tyt4G7edmWVv7j2eKcL3Iw950Y5fYEqN1MY8YtoqBoCtgOwHa\n",
       "OT1l71FQH2WFKsj6kNT6R0ZsS7PEduzuDr8NXdunWybYn5t9nJfW187rYbI+hHYoBoLix7YdszH2\n",
       "HgVtkKx4sontykfGILl6CJLzaashuta13djbwPrc7OOmatZ47Zq+GpxxXgqHYiAocmxpR0+SzPYo\n",
       "aLDlXMlVbNc/8mRIaopCe0JYi5+cY/uwt8FjkNx9PHl3OcWTYiDoStimNK+jW9YFkdLu2xK1MSS1\n",
       "/pGW5mYCiA4x6YitMWOc2k8J6fGAxdNyb4PucyveU5v1VRv7sN1RDATFjW3tu6qyWOxRwDOTKSIZ\n",
       "y9awXf3IuNyCySYmTex9CNrlU+0x0q+kSqh6GO962NuAPC676o5IWpZvp4zdUwwERY6tve7iyR4F\n",
       "xcuPzFZC2N3iwas1x9bXNqyvg5CPfc5jSyN2FwNBsWNbJM63/OpHbGy57Qv7LmR3jImXPA17G6y9\n",
       "lQlv2D4rBoIix1ZL51t+9SM2tnZquWEZcX9MyVc89fFvuur1lfSF7dNiIChubPfptZVio48oX/xN\n",
       "NvY22OBT+joHedgeBGx3YruV3hxpzy+gyuO7oGiwFVt5i4+kN3+JbeYQJmYIKY9gu09oKNcwSssz\n",
       "rEQVJDOHLBcMuxvA20YoRc+wEtW8bbn/m8rlvRCwPU9leoKViLCVDicsS2w+Eg5bKbxgK2/5GCL3\n",
       "MoTzwkpMa5IdFvjSt3OrrdYhB7a2xvVmh7BNq3uuHqFFeCvxYJtX+8eYXN677DXwZ/fpIRI+oCDY\n",
       "cuojSGZ33VtRVElwK/Fgmzk40Oz9RKar2Hp58uYDHcEw2E7bqB04JVPddqVmoYNbiQbbxMGBJu87\n",
       "243krhrYTldYebDPq+q2Y4Z5ZUJbiQbbzIGc7ABlFrZWQgwfSZy+BFv5F+nBvq5unIWyKENbiQVb\n",
       "l2+oQ99mFrbJZMbHRp1fgu3P3zzYv7OzbaLBJLCVWLClDpeZHrkl1rH1sS32d2D719KHfVrdehsV\n",
       "P2f/xMrn05t3kZnDAIY8NNixgW2igG2r8m8+7Ovq1ul1aJWHtRIgvfnW8T/++scn3x77w4r0UAiy\n",
       "ga2HQamvwPa3n17sV9Wt0+twLz37J1b+8GsUQXLhEPcWh7pNW9gyDmzrSObvvwBbHxemDGsljr6t\n",
       "rPY7O5f3bmHLus2wuz2xu1UB+bTG4PS1D+9fV28rNfqD9njUMfv3XnxaeImSt63EgW3qEFSkxwKQ\n",
       "LW97vHN7WW87QfzXBdAHvO29sTVeouRtK3FgSx3WT9CKh8D2+FDyNbGdYdqOR1lHgO2byr2MJW9b\n",
       "iQPb0uH+KI/hsYGth4nbK2I7D5aH8ajxKLB9vwFkSCtRYHti13YLWw/LpC6I7aKH+/OX6X4BtoeU\n",
       "VTyklSiwTRxmYpODS9Q3sNXkhtguqFXpDLxj2P52b2yZl6H0TStRYMscOvDsYGd/HVsfjwBdDdvl\n",
       "YLLMFuQdwvbXe2Pr52HjTStRYJs5LKDIDq73XH+UwMcuHpfDdnGIcn/2b49t7mXmdtNKFNiWDrNc\n",
       "5cEZsdUH92RG7oft8vIUxCe2Nw+SpZdp/E0rUWDrMux2dIhuFVuTAlspvGJ791xfVZUHtHJievOt\n",
       "RwyIcPhmEke/xcxaO1ACbL3aB7bay8N7W1Z+jyC9eeIwp5NUOtYLBWwRJE/KvAwlb1mJIUg2DktK\n",
       "TLwPcgJbeFsrgPOyvHHLSgzYKofBchVvZjFgC2wn+UlcuWUlBmypwxnSeNN4Altga/uXLKCVGLAt\n",
       "HFIhFPGmTbgUtiTss4jAVnkZhNmyEgO2mQOKGbD9bJHAdp+Ml/UWW1ZiwNYlOWfEiTyBrY3t3UeS\n",
       "Uy/rLbasxIBt6YBiCWzhbYFtHNgaB2wNsAW28Svxgm0SNbapA7YpsAW2wPbz2Lpc4wrYAtsriHvB\n",
       "lvvH1jW9+eaa5Mph+WZVJcAW2Mav3Etami0rv5+X3nzT2/7bn37ZfR4u7wW2wPZj+uOf/hTQShxB\n",
       "Mrztl2H740d+c2zDeltgC2zhbYEtsAW2wBbYAltgC2yBLbAFtsAW2AJbYAtsge03YPsbsAW2wBbe\n",
       "FtgCW2ALbIEtsL1aUhpktwC2wJYglxSwvQS2runNt47X1/jPDvfDn4EtsI1ff/CC7ZaVrTTmZ6Y3\n",
       "h7f9QmwxkowgGdieiu24HRC8LbCNA9vVOuTA1laRA1tgGxW2qzvuFTmwncQp+rbA9gLY+thM/nuw\n",
       "zQSwBbYXwJZoYDtdYUWALbCNFls+3VoqAba95F+kD2wxkgxsw2CbTCmXRQFse/38jfjAFt4W2AbH\n",
       "1urP3Rzbv5YE2ALbi2CbKGDbqvwbsAW2V8HWw6DUV2D7208CbL8a22umN9/ClnFgS4j8+y/A9gLY\n",
       "xpDenP3Y37F0ee82tkw3Ksv2n25xQT6tMXhXH8D2gDbs+LJ/d2zljx8BrSBI9ta5vaq3tWD9a0lm\n",
       "5L5tH+nN0bc9BdvjQ8nXxHbmX7vxqOkQgmRgGzW2HiZur4jtPCgex6OGw8AW2EaNrYdlUhfEdtGV\n",
       "/fkLmTthYAtso8ZWk/thuxxEU+msoYEtsI0cWx+PAF0N2yW1Mlu0NLAFtnE/SlCIG2K7OES5P/t4\n",
       "lADYhsJ209Hcpm87uzwF8YktvC2wDY2tSYGtFMAW2MaKrVlbB0AJsPVqH9h+zZpkZG4EtsA2LLYB\n",
       "1iQjvTmwvY8+k94ceZKBLUaS0bcFtnFhi627gC2wJdgoE9gCW2ALbIEtsAW2wBbYAltgC2yBLbD9\n",
       "LmwxkgxsgS28LbAFtsAW2AJbYAtsgS2wBbbAFtgGwXZrjfHW8SfpzbEmGdh+mcKuSd56ZGBrrbL1\n",
       "ArwtsN2+TBhJRpAMbOFtgS2wBbbAFtgCW2ALbIEtsAW2wBbYAltgC2yB7SWwlSnNdFb5ldbFy82A\n",
       "gS2wBbbvFZlkmcllgGIlV5o+TQiPjTKBLbB9p8g8YzLkbZlRCW8LbIGt1yKNj/1RnoprDmyBLbD1\n",
       "WCRl4UuXWQpsL4ct0pvHi+2//+OU8v+jALZRYXtmenP2Y3885/Le+2JLz/puUwrYboQiP34EtIL0\n",
       "5l+IrVGn1aBINi4THiVA3xbYuhQp9YlORX/G22YnB13O5QFbYOtWJDuzidb3GA2NrTy5sd3LA7bA\n",
       "1qlIL3ts75d+ja0Pzzi3kWSunzimrrwc2ALbUEWm544GrS50nGOr+OFSjH3ZhdKZeskQN75OcSiv\n",
       "yIEtsA1UZCFPrQNngbDNs3I0nbSDbIKxrEMn23MXGOfvL6NLu6rL8hIGbIFtoCKzkyuhVy/Tbx68\n",
       "7Xitu7hfNLPEqmqM7UMicwZHVFZVH8vTwBbYhilS0JMrkYUKkvl4y7LWWvf0QlnWr5S7DKTuS8Vs\n",
       "bB/LUwmw/Ty2mn0htlyd3BprQbkXbNXo3DpqyvYWpvVtZCiRe/qZpTyC7WN5ogC2H8dWVtkXYpuY\n",
       "k1uD5YGwzYbvkX7cmLYY0yonzBC1B4osPYLtSnn7p2+BbTBvK8kXYvv2lOa7rSGqXdjmqiCCqfa4\n",
       "MobWx6Tpo1/ZjPtSKZQpTB/pK5OPl5rZAYSui8tZuups8/Yoz6o+AlCzDkMzxiVMUwSvf7Z8SmbM\n",
       "MBSu6lrl1cM3zKy8RF0eW6Q3j3NIqoqgFivYKlLU+Kk63hXNE3+i/hJXJCmHW6p+mZrmS6f5budl\n",
       "/bMY71jbaebVk2iCdXSmnHZ4pYsAQjeLtfMqrctPm5Jz3ZTWflXIMhkHoObgzMrbPSiF9OYYkrog\n",
       "tsuR5Pq+yXTnOHULglZ5QliDAa3h4pzoonXdeYNQc5OxkTmd2ORtVyRpXWL7hq4TmiyGror276po\n",
       "78a8qQMZfi26weoHbBfl9a75dbCMIBnYfoG3zSXpj7Hu/WUTGpcNwc0PWfvZhoikuU27d+gxILUm\n",
       "U1nxpE/efqCL9Vh/yy2wbT9dqZ7VIQyvD8jOqcoltsvycrqzIwJsge03BMnjfE5ZdH7N9IdaB9sA\n",
       "S3rP273DImjCNl3xtdMIuBl/yC6yXU4U9diaHtukL6J2v/k6tg/ldZ3bHWsrgW0obL9zJPnderzf\n",
       "GjuxZbovpwVENXdDe8h0n2+BbTyy7N5h3YFjkNxCI8Szri1vvwP6NFqJfort6G3Zhrd9LK+Jjnet\n",
       "rQS2wbztV87bvl2Pt1tjJ7ZD0Nu9VDZ/FbRjqQls2wNNjKxke41rjJP+humHl0neWjCbODTj0s1J\n",
       "SNpDlRZPsSXd6knesJoVj33bx/L6idsdayuBLYLkbwiSRyJYyyobfs1rXtUQKpuMpHmLaVJ/iwzf\n",
       "I/08jtCs0ZPB3CwzWZ6yMTcdW8zXZDa2TYe7bArNWp/aRuLUrvdKef0yqR1EAltg+w3Y8vH2V2qY\n",
       "K5VUmURQkw8vS5omzU+j8u5wd+d0H9VdevVnsXxav2cayiLz3JI5rUqaJ0X9k6isfZ9gStG+Lqyd\n",
       "t7VGjlfK06tdZmALbL8C23l688MP7undT8yx2XO+vtN89I8A7VlbCWyB7Td42yPa/0xAmW8x7EN9\n",
       "7uk9ayuBLbC9O7Zkb6722UStw8L/fRryhmytrQS2wBbY2sDsJNDoN1jfLZfn7pHeHNheHFtzfB8v\n",
       "se+5JmGVZLwnd6QkdmyR3hzYesP2jnJPb545WEF6c2AbBFukN3f0tqZC37b/TnKLwz6MrXB/hwu2\n",
       "4RoD3tYDtjwBtv33l5tjPpqg8yC2O2r7UEMHbAM2BrA9jq008srYCqqrilJaFOlRbHdmIhBKsS7V\n",
       "gUl9YmsoY9SsnFROdVnWf9GsLNN5bZs3to9yE1pW2SM5yxruxzZkYwDb49gaIq/tbfOqHbATZXYM\n",
       "22GSTeqnAZ9sZvKTzmomvWGbd0vsTL++Z35SvPuLyEItazumV1hsv9WfxaKGu7EN2hjA9jC2ibg6\n",
       "tqK/p9NKHcJ2WCKTPG8+0xjsH1pLmS9sxZDKxHQPk85PaviLSLqsbTZYYfNa92exqOFubIM2BrA9\n",
       "im0zMPwl2OaVPoTtsNybPV+YytsnP/r14qX0hG02LjbX+vGkRmzHZ1zG2lbDuoLFHOFwFvMa7sY2\n",
       "aGNgJHkHcPJZFslc1Z2TaiUL8/Ww5VV2BNsxAYHe0atLeudgNS3tK7t/hVxl21OTAzMPJ9X9xWtE\n",
       "kkVt+eCl5aLWw1nML/5ebMM2BrztHj8plX46zCfWAL0etqo+yrPSJMrOt7Ub2+5RS06LqqCvRkW5\n",
       "7m8yK0Gn6HqlYv/DJ1aL0amWuQVqd1LDX4Yva9u8Pjzgba8HtM5inkJ0L7ZhGwPY7gxvjd5+AiGl\n",
       "Fbu+t5WmG2UtWSLsW2A3ttnYm3vZwIaO2RAsB9/eow7U2ndvNiVJEFX5cFL1MUozO5HCUFtdLqPn\n",
       "xVnMU4juxTZsYwDb3b3SVDN53Eqc2Oo60h+mGZuuoXwnSB7yD7E9GZL6wdN5gs76LnWhdhNb/XBS\n",
       "LcSi4A+1lWOnd9m1Hc5inkJ0L7ZhGwPYOgCXZEx8FNtA6c1FZXegMvrsvc9GpPhDb05metL8Fuy2\n",
       "e1kk6BTahdqNIJlXxcNJTX3bYTVSX9uhW/mwcn48i3kN92IbtjGA7erdvjWSzDMqj1qJL735Alv2\n",
       "5pBUf6fK6sVDY93+E0Vndp5tZPtOrVZlO6wpCWh7A69hK+XUmn1tx66tmjfVdBbzGr6qxymNsV4L\n",
       "jCRvY2tvdvb8+l0pSJ5hq97Eto8L297csy+3rl36O3WWoPNAkNylv+fJ2Ftdw7ZtzXxWW1Wtx8jT\n",
       "WcxTiDoGyYEaA97WKUimW0EyT8b9iG6LbZ+ks+nNJc/YK6kVF9oJOo8MSdUnoUjCpZmWW6xjm81r\n",
       "O6yG6K+stLu23VnMU4juxTZsYwBblyGp7Z5t+bjm4kqLG2ep8t4NkvvpC0qHDPVb55NafUorQeeh\n",
       "CaD6c5lpsoayPjydn1Q+YKvKeW27PoHox3KnhOPTWcxTiO7FNmxjANud2D6bAOrGOfLymtgKmlUV\n",
       "HW4Y3qTITN7Ctk/SKYr0xQ3EGWPDoK6VoHOYBhHZW9jW16igpl2UlC9OKu8fLKBFOfrgfAhIVUHZ\n",
       "SJbW/TWbzmKeQnQvtmEbA9juwVYa/fqpquKyQfILNna/V7tnQjmWoHOtxZqV+8X7tU3k8xruXtwY\n",
       "tDGA7Q5spd7RIg87fN8P2zeeCziWoHOtxWiWp/r92qoXNdyNbdDGwJpkhyGpla/Hbvy4hqMOoc3d\n",
       "sXVP3HcwQedaiyX19TBv1/ahI7qs4f7nbUM2BrztAWwlkyLtvp/rntTy8ZkbYitdKTyYoHO1xVhJ\n",
       "36+teVXD/diGbAxgewTbJsWkVI5WvjkpjXDLMnM0QefBpDQ7avtQQ4ekNAEbA9geCZKbwY+cAdtP\n",
       "CZkbge072NbdEU7PwxbpzYEtsD2OLTPbW/ghvTmwBbYnan968yZpl5ZuVpDeHNgGqMV8o0x4W99W\n",
       "0LcFtvC2wBbYAltgC2yBLbAFtsAW2AJbYAtsgS2wBbbA9huwxaMEwBbYwtsCW2DbSTNg66E1gC2w\n",
       "PRFbWWXA1kNrAFtge6a3lQTYemgNYHslbAOlN3+F7Z9jvVDo2wJb+273ge110puf6G2BbThsMZKM\n",
       "IBnYwtsCW2D7xdjKs+shgC2wPRHb7xxJTszJrcFyYAtsT/S2Xzlvy9XJrVFIYAtsESQfK1LQkyuR\n",
       "EWALbIHtwSKzkyuhVy8TRpKBLbB1KLKQp9aBM3hbYAtsjxZpziWGcWALbIHt0SLluVGyJsAW2ALb\n",
       "w0WyM5to3bcD22ixdU1v/mRNMrD1WeSZ7lZqAmzPx/b389Kbb3pbpDf3XKRRp9WgSIDt+vfZ7vTm\n",
       "71hBkPyF2G7B5F9q4wsC6c3RtwW2zkX+8x+nlP+fxeZlQpAMbIGta5H0hDhZFoYAW2ALbP0VqYrQ\n",
       "gwBccwJsgS2w9Vkkz1jI5VJ5QQUBtsAW2HouMskyE8TlylxlVDy/TMAW2ALb94qUKc10VvmV1tnL\n",
       "BR14lADYAtuIitx7meBtgS2wBbbAFtgCW2ALbIEtsAW218DWNb351nGkNwe236ew6c230pgjvTmw\n",
       "PYQtRpIRJANbeFtgC2yBLbAFtsAW2AJbYAtsgS2wBbbAFtgCW2ALbJ9fJowkA1tgC28LbIEtsAW2\n",
       "wBbYXg3bKqx9YAtsgW0AbPcJ2H4dth7Tm2NNMrztlynsmuQY0pvD2wJbeFsEycD209givTmw9Yrt\n",
       "ah1yYGtLCnhbYBsVtmotuW+RA9u15gC2wDZibBMGbCdx6qFvi1VSwDY0tut7K98V20x4wPZXYAts\n",
       "g2DLp0BOJcB26Nj+rgiwBbbRYptMO0+JAtgOHdv/ksAW2F4CWyswvDm2/F8p8YEthqSAbXhsEwVs\n",
       "W/33PwmwBbYXwdbDoNRXYJv+iwPbr8bWde1x3NgyDmwJkf/7PwTYXhfbAGuSN9Obsx/7O5Yu793G\n",
       "lulGZdn+081S5tNk5bv6ALYHtGaK/Pw/4cn+3bGVP34EtLKVxvx2QfLxzu1lve1E8ZJneFv0bePG\n",
       "9vhQ8jWxnYFa/q074gFbA2yBbXBsPUzcXhLbmXP97efi4Nv2dcWALbANjq2HZVIXxHbRw/35C5nT\n",
       "/LZ9WmXAFtgGx1aTG2K7oFals4Y+Yp97uWmBLbB9iq2PR4Auh+3i0zJ79Q6nKNkAW2AbAlvrUYJC\n",
       "3A/b5Ycpf/kWF3dbSmALbANgu+lobtO3nV2ewuspqYoCW2AbFFuTAlsp/J4SvfdgMrD1iq1Zyz9D\n",
       "CbD1fkrm1v4W2HrFNkaGvhNbIhJgGx+2W2uMt44jvfnNsL21PpPefGutsvUCvC2whRAkA1tgC2yB\n",
       "LbB91pBxPosIbIEtsIWALbAFthCwBbbAFtgCW2ALAVtgC2whYAtsgS2wBbbAFgK2wBbYQsAW2AJb\n",
       "YHtlbDcl8jDvBbbQB7nNP2DlXG+7fyMPl/cCWwjeFkEysIWALbAFtt+MbUArMWBbOmwYU8a7uQyw\n",
       "hSZxL9hyYAtsIWDrD1vtgKIGtsAW2MaAbeaQwT6LN9s9sIUmJVUZ0EoM2BbV/r1lXd4LbKGPKa10\n",
       "QCsxYOuSCDvipNnAFppkvOw5uGUlBmyZQx5sFm/ObGALTVJVEdBKDNi6nKGf1gC2UGAxL2HhlpUY\n",
       "sE0d4ok03v2OgS00qfAydrplJQZsucOgGz8+QPdQixzYrjXLZRTqgh5S5mU535aVGLAVDlNc4vh0\n",
       "2MOee0UObOs7pFn8qtL0ehv3hLqgh1RWeUArMWBLKodH/apK+L7KCQO2JG+G+lje/XtxbJMIZhu8\n",
       "PEmwaSUKbLXD03j68JN7jzvcamBLWNMqRZZecA/4UBf0UODuZbXFppUosKUOKxbp4dWNj1dZJcC2\n",
       "vdPzsirFF2CrPh7pcy9Dp5tWosDWOAyWm8MD649XWRS3x7aNK4UkQpsvwFZ8fJbQeFnNt2klCmxd\n",
       "vpqOf409XmWSibtjS28iCgsAAAKBSURBVJuhD123jMq/AFs/F/RQe3oZSN60EgW20mF4WB4eSm6v\n",
       "sjSsDbZp25dL1M2xle13YZpccSA52AU91OfwMiK1aSUKbOvqCYdTER6usiJJaZ2Nvjm26fVC4/AX\n",
       "9MjXoJcRqW0rcWCrHMaZ1NExqeYq5wlhzZWlfcTN+L2xzeTFsQ1xQY8MFXhZOr9tJQ5sucNZ8qMt\n",
       "0lzl+i4tGwdT9l5mmq2s3tcHsL23dl3Qb+zaRoItKR3u+bI6jm1Dv2zmxfoBGB99oQt7W3XBHm34\n",
       "C3pAZRXWSiTYMoelYOzgsrHuKrchlRlOxsfI44Wx1eT62Pq/oO8r9xIjP7ESCbbcYZqLH5wS665y\n",
       "0TRJUZB2WZCXeb7rYsvZF2Dr/4K+L+MlRn5iJRJsSekw8laWHq4yo82iIEWUtyDxutjS/Auw9X9B\n",
       "31dWBrYSC7bGYamxObYsubvKkiqTCGpyb0HidbG9dowc7IIeiG5VYCuxYEtcegPHeg6Pi2r8PDFy\n",
       "WWwvPWkb8IK+H714WWvxzEo02CqHU1WHmuXxKhfi1theetI24AV9V9LLgNRTK9FgKx0CC3koCHm4\n",
       "yjIjd8ZWFOTLsJWfTVxkKhHaSjTY1tWUDqckPV5l42ejgw8uODh21yffhq357M4VJQtuJR5siXZw\n",
       "ofqAuzXLcVNKbq3Ln35kF9R46dk+txIRtolDbJFUgkBQhJJedql6YSUibAlz6GSxAjcIFGXwUpxg\n",
       "5RC2regjnlvHX3lI7fA9pVPcIVB84qU8wcoKnnprtGPxgkxbPYy+bx3fwtl6h8Mp56XEPQJFJ80D\n",
       "W9nCs6NuxZltvrAzXN/A2f6SceixcvRuofh6tjy0lbcp/H9ODJHomx+tLQAAAABJRU5ErkJggg==\n",
       "\" style=\"display:inline;vertical-align:middle;\" /></a><br>"
      ],
      "text/plain": [
       "<IPython.core.display.HTML object>"
      ]
     },
     "metadata": {},
     "output_type": "display_data"
    }
   ],
   "source": [
    "from proveit.physics.quantum.QPE import _phase_est_circuit_b_r\n",
    "qpe_best_guarantee = (\n",
    "    Forall((s, t), Forall(U, Forall(var_ket_u, Forall(phase,\n",
    "        greater(Prob(_phase_est_circuit_b_r.literals_as_variables(_s, _t, _U, _ket_u, _phase)),\n",
    "                frac(four, Exp(pi, two))),\n",
    "        domain=Real,\n",
    "        conditions=[_phase_in_interval.literals_as_variables(_phase),\n",
    "                    Equals(MatrixMult(U, var_ket_u),\n",
    "                    ScalarMult(exp2pi_i(phase), var_ket_u))]).with_wrapping(),\n",
    "    domain=s_ket_domain, condition=normalized_var_ket_u).with_wrapping(),\n",
    "    domain=Unitary(two_pow_s)).with_wrapping(),\n",
    "    domain=NaturalPos).with_wrapping())"
   ]
  },
  {
   "cell_type": "code",
   "execution_count": 5,
   "metadata": {},
   "outputs": [
    {
     "data": {
      "text/html": [
       "<strong id=\"qpe_precision_guarantee\"><a class=\"ProveItLink\" href=\"proofs/qpe_precision_guarantee/thm_proof.ipynb\">qpe_precision_guarantee</a> (conjecture with conjecture-based proof):<br></strong> <a class=\"ProveItLink\" href=\"../__pv_it/theorems/7cd839844dbc9b50890ce7aafd151c32364b396e0/theorem_expr.ipynb\"><img src=\"data:image/png;base64,iVBORw0KGgoAAAANSUhEUgAAA0AAAAGfCAMAAABBSkKjAAAAe1BMVEX///8AAAAAAAAAAAAAAAAA\n",
       "AAAAAAAAAAAAAAAAAAAAAAAAAAAAAAAAAAAAAAAAAAAAAAAAAAAAAAAAAAAAAAAAAAAAAAAAAAAA\n",
       "AAAAAAAAAAAAAAAAAAAAAAAAAAAAAAAAAAAAAAAAAAAAAAAAAAAAAAAAAAAAAAAAAACgmkOOAAAA\n",
       "KHRSTlMAq1RmmUTNIjK7EInv3XZAMGxgr+HX2+Mg51BehaXB6dHV2eVwoZN8co8PnAAAAAlwSFlz\n",
       "AAAOxAAADsQBlSsOGwAAIABJREFUeNrtnYu2rCiShkVBEZTu6eqq1TNdPTM9t/L9n3AE7woqKen2\n",
       "8ketOufs3Iok+hlBAD8RiTqLkwgGg/kZZd2/0gytAYN5Gu9cUJajMWAwb0tF87eM0RYwmLclbdcn\n",
       "RVPAYB9YUWorJFoCBvvAKNd/5gItAYN9YBnp/rBbbM/OJTlB28FgjfORzNlH0r+RUg0hnkia/hIA\n",
       "gsG0i1HLFAJXJM81OkJjktRHsLz/lSoBEAzWW2oImfSLmo5R1A60Fvqnqg/lYgAEgw0m424wKKNU\n",
       "h2pqmNWjWckq/esiBkAwmC2NUJDuH8bLiGFSQqZjO24AKhMABIPZjLQBW15KWf+TDQ7I9HwagAoF\n",
       "gGCwNauaXFyS5sbqmC0mfQhXIYSDwVataDwRH1LWPI+QRIDBdmYT2ihtNC3BsKJ0GrvmRUgABIOt\n",
       "EWQGTLO8y2JHufE7UipaQ8V1Ji6TaWVIA0AwmN2E1H0g3SNi00mm4zUPAAgG2zQ6ngrHBACCwfzC\n",
       "uhE0E9kEAASD7YnnrJ8muULTwGAwGAwGg8FgsHsar4yN0gIQXITB3FY2xAwAyaS20bJUCC7CYG7T\n",
       "uCRkBNCcEgguwmBbFK0ABMFFGOwIQBBchMEOAATBRRjsCEAQXITBDgC0Jbi4YnOvRdHWsNcBtCG4\n",
       "OIWtpPrIpFUnmQNjTeTxfFS2kJIQODvYkwCyCS4uKGgFGGNiZm1TsR8gvegoHvsoWuKWwB4EkEVw\n",
       "cdFP6gQY4/pI2sdu+wCqTeVtrk/LmWQVxz2BPQigQXAxkknSeYuEJlwpw8ggwBjzmGVKAyQppWX9\n",
       "P7MDNDq7+blZFZEIAAR7GkC94KLOyHVTE0TCipobLcE4EmCMeR3CxWzTA43O7mvR/SARwsEeBVAv\n",
       "uBjladL5okwo3THSUnEjAcYaoBoblW8BNDq77wi1voqXSCLAngXQkCsoqsFpEC1yVURTAUZuRK/S\n",
       "7T5Qf7bhifaMZhhxgj0VoExEWdnnE7TMIqURHwswaoAiFrfHyBWA+rP1IFOPT41S/T/mfcMeCVBZ\n",
       "R1mSt8KKmT6r5BqZwWk0KyGUY9h1BNBwtiAjwZ8s55xT+CDYIwFK4iYJZ4QVtURppGQSjQQYedms\n",
       "GtoGaDhbjHEpJsuTYLBn9YGGUG364yDAuGpYUgQDQMZ/fBZkASAYADJnROEA4nlnyB3A3hLCfWYg\n",
       "BAaAYDAYAILBABAMdguAILgIe7XN9BM/AAiCi7A3+5ipfuIHAEFwEYZILSBAEFyEAaAjAEFwEQaA\n",
       "DgAEwUUYADoC0CUEF3mSIAkIuyVA/oKLsaXwidzPdAXrmgwji5XJA9Llqr1t29Z3LFzz8ubVVZmz\n",
       "2t1vfVvEWpraOL1rj+WdS3c1wuplYF8BaCS4yGlFEp2QKydPs5BFaVTiCrPi1GTBF8qJ4xs5Tegl\n",
       "lvSEyilRmYqKuiRda9YLajmf0VKmlKTKeRmbmdeClGr4OiJJbdWVmbPa3W8n1hXTHsosjWcvzQb9\n",
       "aFiha4/9tv8ysC8BNBJcjJsSWKcL0sosRvlIoVSQ7p9GObELvph0Ptn9j115Iid1PeJc6mmpvH5o\n",
       "6h+F663ZndSIbGVyB0B9vXVVtRYey/vfqEYraFZdC0DdjzaA+mKioUXmjWcvjS0drRh5/7Y9mkPT\n",
       "ov6vRaEfZRBasSLPN9qaoUt7HkAjwUWajiOAwSu0AJm70oQYvXJiH3ylwnVTu6XefXmyoSUxJxoh\n",
       "1MQ5D6I/SelqJWPO8q1TDEBatCEavnfcPvnT6toAaqtt9UB9MUOLzBrP1QjporM5i9kM+fpgVjes\n",
       "7LAyAOlPE/3OirI48r0MzAOgP1V/9gBoEFxso4/mz0FmcQJQ8+T0yol98DUaSNI3lRlBBXNeRqfl\n",
       "iYSz7sGIbKFbYoJ+LTg3qoQBSAlqB8h6ir58ZiS3inj+5E+r2wO0rPY2QKWl8VylWcbbysYNFSnv\n",
       "czpZ85lsvqL+SQNkPlUNQyzyvQxsE6A/PgSoF1wUFRteoiOZxTFA2RD8a+XEIfiK6fiJrD+sn9w2\n",
       "HMmn5cXZ0Guu+1aL2I3pNy7JdL95VAkdwmX5iI6JNIP1FP1McQNQmcyf/Gl1O4CW1e5+S/v1gskM\n",
       "oLZFJo3nLM1cd1JWc3oqI1bO2qPumPbaen0IJ7lIxvpJK5eBfQyQXwjXCy52Ubz5kSVWgNjQo9F3\n",
       "dwi+2CQuz4R+xFplRnPIUF4ielnHtKqq0pYik83/o0qo+rmTuaP/bD9lAKhQc4Cm1e0AWlZ72wO1\n",
       "JU0az1na+Lqj042yXn0bJu2hezsLgCJVlo18spA+l4F9rw80BNDjKH4ksxiRvAcoHibPTcNsPuvY\n",
       "asVF0hRlXphDeZyz1ZRbfZKJ8dWkEjqEkyx2AmQ5ZQjhqkUIx3N7H2he7W2A2haZdYEcpY2vOzpd\n",
       "VXo0e9/eM90N4EXmcRnYGQCZeyMmd6J96/UAdXdmoZw4jYnqlz7THXje92xH5bVJhEg4nxD9+zie\n",
       "nKQBYkwKK0D2U9aSCPYQblnt7RCubZFJ4zlLW4Zw5vTYYyZVuUy72S8DOxsgE4WLvhc8elZL83rn\n",
       "w/1bKicqNQ4rjOA8q8zz1PZKhvIyaW6zXGauzfkJ4STiVE5PatLYjiSC/RQDkK6XVq9rv1f35E+r\n",
       "OwJoUe0VDyRGaZVp47lKa667BEILxcafLCjZfRnY9wGqwwk59NJ7mUXzYNTW/NgM7i+VE83nRqqx\n",
       "uakxVTFROipRbF6ekHWcZcu/NefHaVXks5NYquqOtqA0tWbhbKcMA6madFN0JtOq4XZa3QGgRbVt\n",
       "AHXFtOdny8ZzlRYt50aYTwQpio+29Nt9GdgJAM3dgU1m0TFG17364sg5kLpLttF0VkYbga2cNLmM\n",
       "9RSyLNpeXc+B1GmZ9haxlyaWfZNjg567LwM7HSBXTylb+dRINU7vHvOJJhqpxzz2fnasp5Bl0fbq\n",
       "WgDqqr0KUFOmtUXspdkOpVkwgNYuA7sIQJG0hBrdfK5keVO9IpMmBtq3tdDkMtZTyLJoe3UtAHXV\n",
       "XgUocbeItbSE7W3QzwBavQzsIgDZsmeTj7Kto8PY9ndxqqTOqyvc1c72fAOxVTux2hYiVCOILzc5\n",
       "AIJrhwEgAASDfROgYa4MAILBdgKUJZ96oKXgIgx2Y1sVUPxCCLcUXIRkKezOTmZNQPErAC0+h2Qp\n",
       "7KGh2jkAQbIUBoAOAATJUhgAOgIQJEthAOgAQJAshQGgIwB9VbJ0LTHBNLjqaCnuw2NdfvLB+TAA\n",
       "5PG5v2TpflNrHavdKr/Ks3s2mhfO6OwDGAAKDNBIsjS0xatx4V6A4u3ocibcMCx4YzOpLRgACg7Q\n",
       "SLJ03eYP8tZ6fLFe6k6AxHbdeDxb5dDrDbYAQYAQANl+4dKF89OLG0mWzkZTs5Jq15QUxArMZORI\n",
       "n8mnS0ppsgMgkW+IRDelLES6pzYDKKEzgBKIb7wOoD8+14XzBGiQLO0UzzvV6ZiYVWCtqsgaQM2Z\n",
       "Qo5XjBZWHuYeKNsAqOhPo6XT9c3X2RViClD/AQwAhQ7hBsnSTnapV52Oa9c0bEmyBlAv2KTyZP6R\n",
       "46QWoI1tCtpSepHuheuzApQmM4BS9IIQwn0LoE6yNJNlqjV5hi53zGOWNUJTlNKy/p9ZWejObOrX\n",
       "KGpGjfpUHT0lXCm6AZBKlPZ1gioq4zEgXSnCCyBJZgBJTEEHQF8DaHhxx9FE6iXmdQgXsx0eKB2n\n",
       "mhMjptm89EXCtBZ8ka0CZHZDKRvNkErYfEnUiHRbAeKqmM1E6vb16QFKMNMCAH0fIPPsjlSnY7Ox\n",
       "SSvHvArQ6KmvO0LGTxmVxigTKh3/3goQN1+p9lxa9nZaybIng5cicnmgReBXzACKCzxpAOjbABnt\n",
       "87HqtAZIyC7JvQIQ65/PjHYa9kUb7mk1Z/N7I3Vb9LK5I4ASczqhUUJEPMWjK6Ud65mWUS2t+6Yz\n",
       "gHiFJw0AfRsgRSLBx6rTGiC9oWcbQrkBas7UMxoInz/6WrWa0ohveqBURSprlvsNm4h2pYxFurc9\n",
       "EJt7IAYPBIC+DhBVJms9DOs3T7NydMDz+ZmCjJX+2uDLpKlLHq8BZLpQWSH6fbiGTUS7UsYi3UMZ\n",
       "rt16+91N6OwDGAD6HkCcJjwaqU7zshlY3QaoOVNMuv9tMo4Z6XeZOPpAglb6IZdKafhYHYQVdLyJ\n",
       "aFvKRKR7KMO1W2+Sz5MIWC8IgL6fRBjSANvq1puRlD1zvPBAYzP9nIz0m6o6Shnlz0e79UYJ7SeN\n",
       "tsnvASCK5RoA6DSAdtoGQNwaNdE1gIy3anYlptxdyiSb0e/Wm4xQ6zax6gEqoYILgC4PEO93lDLX\n",
       "Kfn6F7dMDoipVMaPDJuIbpQy7NabStVn7DrqOoAydIEA0PIXLmHFkwQXtwrbmMG5Nht7tInoeimj\n",
       "3XqH/N8wjbUDiGImz+sAylz3/Iiw4rlrM9e3f9q7HmitlPFuvUImSrRdqWgKECSH4IEuGMJtJyPy\n",
       "EAD57yI1INcChI3cANAdAYqytbXUcRyiFIup4Vs2g8IK/ACgkwBKWXcoZLRh67aqTB3uJby1Ddul\n",
       "AKKkP3Qhow2DzWLwFWXqcLa1EuVKAMX9wk3skAI7FEAFtCK5C0CiSCIABLsYQGz9WbwQQCRdOTQj\n",
       "dcxLCMlz+wuBpVA3BUBfMZLfAyBesdVDeZNTyArH6k4ABIC+k0eo4lsAlKbrh2ZtUi6p7KSkAAgA\n",
       "fcXy8g4AxSMHtAoQr0oABDsRIF6prwDkK6zo+rx9/stoH0CsSgEQ7ESAonxlQfEf4YUVfQUXLZSv\n",
       "ASTrkJSlhYqlXm8nqGpXhaY0qf+JjboAUHCLV3pBf1wkhCMTOSk3QEI1ye6CxlmVRLzUB5p1o6n5\n",
       "Z3oRFd3s6yfATgMoqtKr94FElUebAJVSym6zkbKO+GrkStkczmt0SBPgXWP6gveGExLTLq4LEKn4\n",
       "xQFKpk7SDtBESpE0xzWn6cRc63sqCoAAUGBjlbw4QPlUEHQHQLQJTpvHTv+qAygHQAAoeAxXXBsg\n",
       "MUtN7wBITjwQ3e+BEum1PjRzl8clnWBPLTwkNE4SymLJAdCNAcqdMdw1AJoPju4FKCpo3/HpgrqN\n",
       "J7WT0am7U2t5735HoMQyBiA6revpVN3cwkOslYkLtr3RnT9AsV6ot7FzEQAKY8oZw10DIDLr+tun\n",
       "8oxTISVtceAdTanZZojYv2i35VC/YYnmgq1Ee92OQKpcZsa5Uq3DnO6hYgMoyrnZ5W4zv+4LUNxI\n",
       "1k12LuqcHktiCYBCGnfm4a4BUFFtHZqRtKp6OhipCtKox9P6FWyevVzEjCn7Y9hvOdQ/8wa8lU5Z\n",
       "vyOQddpDvB+gstlmtYySkAAl3Zzayc5FI6dXAqCwnaBKXBigeRfo6HKGZlMgEqmkUTkd7/LbPPOZ\n",
       "aY/C7Ra6HYHse6TuB0jUQZ6mmlgXdut68dSMbPkApIad+Lp6ZrQxXQqpf0wBUFBLXcMjlwAonqfO\n",
       "jgHUbQpEWmHtiS5I033hBqBy3SvoHYFianMdvfh1uemB1oxl2rVmPPUCiM+5l7PXj448EyYAUECj\n",
       "rvlwlwCIzrtoxwDqNgXirabuaMuh+n3PB4CKVb0QsyNQRpPMDVCUKnEAIKPh2P2/3wPFuRTzeo7f\n",
       "H0RHje+QojsNoMQ1PHKisKLrc+0f46AhnNkUyKTbzO4Koy2HeJuyakK41YUeWT6q7kz1tAcoTtUq\n",
       "QIvdgyYF1edmcQeSTx+IjRCa1BNZuK9lERwjQS4BxVOFFYt57vkoQDpFoLvSWaU3BuJj/9bulrKV\n",
       "RJjsCOT0QFmxN4SzDieRhh2jsOWZhePdXi6r9QRAoUxUnp7m1BBukeI4CJDZFEh7oSQ3ed7xO7rt\n",
       "9yvVick37SO7P/r3+mhHoANJhL7ZbNFiQjiJeLN1g/c4UGac6Xo9AVAwqxwDjFcAKFvQfRAgQ0Zq\n",
       "euimj9JvOTR65qVUo+eOF1n7R+8U3aJjmUwrqbwAsg0nmfOrottIxX8mQrZRTwAU0EpHvH8FgOLF\n",
       "GtPQqjyjLYfikAnebYC6Tewc4zKDY3IDNKh9wX4OoNSRhrsCQGoxzPtFWStWngpQu4mdcGA7DOis\n",
       "eKBUIF3w4wARx2SeKwAkFynCb+rCpSpYUTyNtwBqN7GzDyfVjknsB4jHzdGzjCAAOsWoQ2j6CgCR\n",
       "Rd2+KqzIQy37zviyT2LhQYeO9uGkaHaCyGmSEGYGcbiKlckgxkkfwpXwQD8GkHTMhrsCQPliCcL9\n",
       "lUkHgCjffwJLTVSXpU3MV7uecswNAPpJgMrLApQ+ECDVYTPaxG77BJ0+bKZvm5niOePpqA8EgH4Q\n",
       "IOUYSb0CQOWif/YcbezxJnY7Mhy0A0i0rgce6CIAJY7BgisAVDwYIC8TpOSspJEs4oipRM/i1n2g\n",
       "bu2TKiRUux4EUDBhxWKRYsfuDLCLARQ7ADpRWHHFAyUA6FyrdhkA2gboCiFc9QFAKTQ4DgEU7KBv\n",
       "2ub+iicCxC4N0L/sjfY6o9g+9QUAbe6v6A6UgtufHIu6rwHQXzwBwvSwdwC0tb8iAGoBiv1COFEk\n",
       "YOBrAIksDEAiQMpwY3/FE0M4/iSAyOczqq3l8iDP5A/YVwDq134ceziTIBqx6/srAqCPAOIHBOSt\n",
       "czbzAAT9RLzzFYCGZYaHvpJr8qXvC2912T0A+gig9MCSHitAMQVAQ+tmIb6SCqVRvrq/IgD6BKD4\n",
       "yA4m9lUDJQDq768M8ZWYU4jQ/8FVACgsQOmRx30E0EjtKsAUmacA9Nc/h/hKZRVMW3htf0UA9AFA\n",
       "668kD4DioZwsB0Bt+/zKAxQfzgGt7694b4BcgzVfBogcujd2gEaB/7sBEr+REMWTKqDyxFpZNwRo\n",
       "ey6ct7CiF0DiWO/UAdDx3QyeARD5LQtRfBlyn8CV/RUvAJC3sOJPh3BJFX8BoONphEcAxH+VYYqv\n",
       "wglPrO2viD6QP0D5sejaBRBlACiK/vav4noAreyvCICah/eXbG+0t9wJ5ROAaKmtKMxfTdDPh+HD\n",
       "s2cFHHiywsxh2PO5r4Wca+XeX9EdKAU38csv0VUB8vFAycH8qMsDHe4E3dYDjaj5t2L80yEPFPLB\n",
       "Vv57ZCOEy5w9SvYVgA6n4e4J0NTnFH+ffHQVgNz7KwIgb4CKgy3mAOj4QNAtAZoW8Ptf+xtyKYDc\n",
       "+ysCIF+AjnaBXAAdn4pwQ4Dm/bZhEkLzm8sA5NxfEQD5AhQfnaPoAKiM3gfQnJ/JpnbVQYB+D/k9\n",
       "nfsrAiBfgOjROVZ2gAJMx74dQPOTZ/r31TGA/hHye7qXFgEgT4DSKg4G0GgyaQCZ9rsBtDiXsIDF\n",
       "hwXIub8iAPIFqKh4MICcL9/3JBHGTZ6HLD5sCOfcX/HeALlGO72FFT0AOjzL1wqQSgCQyIICFHaA\n",
       "07W/4gUA8hZW/MImw/sByg4P+CvbnSARAApbfGCAXPsrIoTzBCiuyuiiBoC+F8I591cEQG1z7xVW\n",
       "VCHXmQCg23gg1/6K0IXz9EAylFQFALoVQE6JH3ggP4BIRQBQmCf8u7JzgQFy7a8IgDwBykOudHwz\n",
       "QN+uWHCASgAUAqAUAL0SINf+igDIE6CAakkA6KsAhc3CubaHA0CeABUA6JUeCAAFA0gBoBcCFAOg\n",
       "UAAlAAgAPQQg3zlvAQCqANArAWL3A+gLmwwHEFZczlkAQG8AyDUN4MLCitcM4ZabQQKgawL0+1sA\n",
       "ulcfqKpiAPRCD8QBUBREWBEAAaBdAVR4e4awIgACQPBAAAgAASAABIAAEAACQAAIAAGgq9kvv3AA\n",
       "BIAAEDwQAAJAAAgAAaDA17zZku5nAuS7mXAAYUUAFAqgb/P5GoBck0adQ7w/Kqy4nLMAgN4AkGsa\n",
       "AEI4eKCHAvT7KU8vAGqbe6+w4nGArFXgAGj8us/uE8JBWPFsD2QVl885ALK0BvpACOH2ARRgf63n\n",
       "AMQIkggAyA+gADs8PgegYb9yAASA1gAa7VB3fI/hxwCUyAgAAaA9AI32SD2+y/1jABq26kYWDgDt\n",
       "BWgUt7wcIPkrhwcCQN4AxRIAaRO/kQgAASBvgI6nEZ4BEPktA0BnAfQjworfAogyAFTfulJGACgI\n",
       "QE8VVjQA0VJbUZi/mpiFEwAURf/+H+KSAEFY8fIeaOgEVR/aTwD0uTmLCVM8snBvA+hwGu6mHmjC\n",
       "zH/+c/IzQribAHSmsKIDoOMDQbcEaOpxkv9ikw9vABCEFS/igY5PRbgjQLO487//vW9meCCEcF4A\n",
       "ldELAZrxI/8nGzU0AAJA+wEKMB37dgDN0x4inbY0AAJA6wCNJpPm2esAWqQNCVsgdgAgZOHetJxh\n",
       "+vJ9URJh3OR5yOLhgV4FkEoAkMgAEADaNmVbvU0iABS2eAAEVR4ABIC+CxCEFQEQAIKwIgC6PkAQ\n",
       "VkQI9yqAsL3JY4UVAVDbkM8Ql4ewIjzQza6JPhAAAkAACAABIAAEgAAQAAJAAAgALe4TJpMCIAAE\n",
       "DwSAABAAAkAACABBWBEAAaAXAfRUYUUAdEeAIKwID/QygJCFA0AACCHcPQA6U1gRAD0KIAgrwgMB\n",
       "IHggAASAABAAAkAACAABoHFXkqRlWoW1ssw3dyNDFg4A3R+gOE0VF9/oTzNZkgweCAA9GSCeUvHN\n",
       "5yklAgABoMcCpPJv6xexkgEgAPRQgAj9/tVFmgAgCCs+EqBf/3LK9f83B0AQVnwgQOSs14yU5wAE\n",
       "YUWEcCdeU8nTapDb7weEFSGseF+ARHleDRzXgrAiPNB9AaJntpF9a6UJQI67zkMABA8EgEJfM8R2\n",
       "ex5WbgIk7enunAMgAHRBgJLk1DpYp/XsAchnY2cABIBOu2YuTq0Dox8CFJUACABdEKD05EqU1vv0\n",
       "+zZAMgZAAOhyAGXk5Eqkn3qgLAdA9waopA8EiMmTG8MWMu4CKEozAHRngESVPhCgSp3cGBXfAxBT\n",
       "RGRS5SriUuYNUrF8N0C+woqXmwsnoicCJE5ujGpXCCejnCjNaVL/FBeeaYQAAHnOAcv2VuGP84QV\n",
       "g3ggCCtuPbuXqMQcIMaiUnd5MuMgu8e+TYFvh3LHhRWV55uXKYRwAOgHAZpl4UTtezQtsXkKaRsu\n",
       "ctJEj9/3QF20yMu9nnY+xQIAAaAf9EAanahHp5DjxzpOwwHkWKPUzM4QhKb7I9xU3AYgCCu+ACBi\n",
       "nuFSI8PqB0F0sVsmy1TyTwFarLoRsrRkUWh3mNoPUDJNS0JYMWDi6YEAHcjC7QPIeJ0mjqtZMg9+\n",
       "OxCUbt9TrxBOlXJ+cBH5AxQVAiHcuj1yHKg6uzH2AZSZbHfz8OQyMrFbOxVhxzPt2QdKZggNQaIP\n",
       "QNNoEAAhhPvJEI6ZlLUylDKqzO1tstisiEIDpJGhoyeISg+AMkqIqb0kAAgA/RRAO+bCtdOxFYkE\n",
       "Dw1QzeVId2vwJdsAJUVXmSQFQADoMkmEpbXCW1RFUnwDoGGOURnvBogPT1hcACAAdF2AuoV/nCab\n",
       "S+s+COHG0qkFswEk0nKwrgqkIoSo9qIACABdFyDlsfDPO4kwVWW1A2S1Yuj4MHggAHQFgJTdwfgs\n",
       "uziYxvYI4aphgmtcfhkgX2FFbDL8ToAC2P65cNaB1FztBigfsvlJvgcgl4DiNYUV4YHuAtAPbW9i\n",
       "n8ozJKRltTFxlevhU2EuRiVCOAD0DA90cDIpb4MxQooqJetV41QlylxsKp7/QmFFvxUg2U8DlPkf\n",
       "4ANQ9q3G+FGAdgorlh8IpWblrijyuR7IcwUIUz8L0HZ1lzX0AMivNXwa4wYeaD4xdJfRZFcVHgvQ\n",
       "zvXCmZS0WWGskqAAKUJpO6CQkbLSwwt5ri/BSVkU9U8kLYpkWl19YGmU4XWssXiIFzXcD9C+1vio\n",
       "MS4FkCgtYztRP2jr44Dy6NUAdcN0olxtOqFfTXFTairCAcTNvP1ItTeRV6YbmxWmVqz5KRK5nFdX\n",
       "Vm3gPRWIb7/FvIa7AdrXGp81xh08UN3UvpecI/c2gDoHHK/nLZUusJ3Kn9BgAGWdtIdqJDeyFpnE\n",
       "DDN0P0WCzKubdsVMRwLbbzGv4W6A9rXGZ41xC4CizDNCV1n0boC6UWS6LlzBzCB1uxamEKEASvtB\n",
       "7LIcA8SrcgxQROfVrbo35XSYsfsWsxruBmhfa3zWGLYLYnuTuwPUrwApdwT/cfu+HI0hdDOp9ov/\n",
       "VZMCR/Pn1QgZZp7O5iem5Wlm1WWd5xLTanffYjbKsRcgn9bwbox7eCAA5AdQMwjGSF7lZMt5s7K9\n",
       "26MFIFnTecn25z/H7UWGavIRMrqLE/c/KTavrv59e71k9MvRt5guUdkNkEdr+DcGAHoiQGkf9G82\n",
       "jCKke2pHC0DM0+LBz+Q5Sis29IaKHhmhmrRb/Rkho2OG6pbFPLabfovpEpXdAO1ujU8aAwB9CtCV\n",
       "hRW76YN0z0r/NvE0XQBSPy8+/LgBano9pZSyG4sxOGU5W1RX9J2jWReo+xbTJSq7AfJpDe/GeDlA\n",
       "9xJW3L3JcDeBfRT0W5d/tEc3bTNdAJKVTn4qm9lDOFY1eoL5JEfX9YG6If+2ul3/Y54z6r/FtIab\n",
       "9fioNYI0BjYZvnkI1z4yomIbzWIei7wpdroAZOWZ2U4i0CGJkDgA0jMWu5m5bXX7LpCcfP3hW7DP\n",
       "PNDO1visMS41mfStAAWfC9cGLSboX8vHNq3SPjOTBSBHQrgo108fi/tejQ0g05h8Ul1ZWSO44VtM\n",
       "l6j4hnBbrfFZY9xhLlwAe9lcuHYFiA764zUKmgWIbdQyXgByKIlQIyKjmAk1DKTaAUqn1e3GOdu8\n",
       "sRh1gZpvMV2ishugna3xWWMgifBEgNokLCGRWM3bmg1Fu67HaAHIsTR2fWKqlNadaYMnPpEt5B1A\n",
       "sphWN0p16Je1ibBe63D4FtMlKrsB2tkanzUGAHoiQO0KkCzf2nKXUUq7fNhoAUiXzM3SzwCqOz85\n",
       "UWbgn9dEpFVF+kRAO7WU5EXvl7oFK5HMCe2f8bJVQh++xXSJym6A9rbGR40BgJ4I0CcrQLLySANb\n",
       "20vP3cymsjmJAAAJJUlEQVQ/r24s1mu4eyqPf2vsbwwA9EiAPpgZSpPgAJGUJ+Xn1ZUbNdwNkH9r\n",
       "7G8MZOEeCZD/CpAsj4IDFFfVzi0XbdWdd1gWNdy/Hsi3NTwaAx7omQB5rwDJs/AARbQgn1dXbdVw\n",
       "P0C+reHRGADomQD5rgBRB0URjt7J7eoua+ixpNuvNXwaAwB9CpDvnDeo8pxxTajyXAOgL8yFg7Ai\n",
       "APrQ/nRdgFwCitCFA0BHAEIWDgABIIRw9wAImwwDoA8BypKzviY2GQZA8EAI4QAQAAJAAAgAASAA\n",
       "BIAAEAACQN+oBIQVARAAggcCQOtWUgB0vDEA0FsBElUKgI43BgD6FCDfzYTPFFbc99AghAvQGBBW\n",
       "tNo1NxneLayIPtCj+kAQVkQS4WUAYTLp/TcZfilA4hIAQVgRHuieAMXq5EpQjiTCOwF6ZhaOyZMb\n",
       "IxcA6KUe6JHjQBk5uTHSCAAhhHsOQFF6ciVKAASAngRQfm4WgVHrfUIWDgDdFCCVnFoHyuCBANCT\n",
       "ABLnxnBlBIAA0JMAiuiZbWT3dwAIwor3BehMFyTKCABZDcKKtwUoUvK0GuTxKQBBWBEe6Mxr5me1\n",
       "kpSuO4osHAC6L0DRP/9yyvX/z7XnA0I4CCveGqCInBDFidw57Q7CivBA9wYokvm3V06xkkU/DhA8\n",
       "EAD60jVZSr85JYHnZIVQAASA7g5QFMVpqr7ihgSXKVktGQABoPsDpLuSJC3TKqyVZbo5VIssHAB6\n",
       "AkA/1xjwQAAIAAEgAASAABAAAkAACMKKFxRWBEAA6HAVIKwIgK4PEIQVEcK9CiBsbwJhRQB0hxAO\n",
       "worwQAAIHggAASAABIAAEAACQAAIAAEgAHR3gDCZFAABIHggAASAABAAAkChr7lv6Q8A+ipAEFa8\n",
       "MUDf5hPCihBWBECXAQjCivBALwMIWTgA9FaARIYQ7l4AnSmsaK0CB0Ajy/l9AIKw4tkeSLK1RwYA\n",
       "RREjCOEQwvkBFFMA1FuahQDoHwDoRQDZt1l7J0CJjAAQANoDEBviZxkDoNb++mcABIB2ARQPmwtk\n",
       "OQBq2+dXHgQgZOFeBdAo8H83QOI3EgEgAOQNUCwBkDbyWwaAAJA/QMfTCI8AiP8qIwB0FkC3FFZ0\n",
       "AUQZAIqiv/2rAEB+VXibsKIBiJbaisL81QT9fBg+/NB+AqDPzVHO74GKh7Di20K4w52g23qgEU7/\n",
       "NmXriAdSCOHOBOg8YUUXQIfTcPcEaOqLir9PPvq8+LKi5wAEYcWLeKDjA0G3BGgayv3+1ylVnxdP\n",
       "qhQe6FUAHZ+KcEOA5v22YRJC85vPi2euBx4APRSgMnofQHN+ZDI/4POalWE7QQDo4gAFmI59O4Dm\n",
       "J4t06wgvF1QIAPRwgEaTSfPsdQAtziUs5FeSFQFADwfI+fJ9TxJh3OR52K9EQibiANC1AVIJABJZ\n",
       "4K+kAvogAHQZgJRt9TaJAFD4r5TFAGj1FxBWBEA//PRCWNEbIAgrvhEgCCvCAwEghHAACAABoAsC\n",
       "dKawIgBqG/KiKzQ8AYKwIjzQza4JDwSAABAAAkAACAABIAAEgAAQAAJAAAgAASAABIAAEAACQAAI\n",
       "AL0ZIHcVABAAegtATvthD8QAEABCCAcPBIAAEAACQOc9vREAWgGI7Ty0qBIA9EKAGAAK44EAEAAC\n",
       "QAcAKgEQAPoxgKKrArT0K65D08Cq/wDoHhZXxU8DxB4BUF5JAPRCgJKqBEBugMrdAJHA22YAoHuY\n",
       "cu32AIDsgZlzh7qggrEA6C4mq/ynAXJFkVcAaBmYuQ51NiQAerRRV+RxHkCuKPIKAC0DM9ehSeCN\n",
       "mwDQPSx3JY/OA8gVRV5ClWcRmLkOZa5sDAB6tKWuGSjnAeQKfq4A0LJurkOzAFJLi5I5ALK0SnA7\n",
       "0u5FxX8aIFcUeQWAloHZypjr4Tu92J8h5wAoSvUwu0yS7801PNLuzh0jzwPIFUVeAaBlYLaS8WbB\n",
       "b2RMARDXQTTlzd8nAbS/3TNn5H4eQK4o8goALQOzlXxDEvxGBtgg9fYAUd0oeZqI6DyA9rc7c+aO\n",
       "zgPIFUVeAaBlYOY8VB0fSV3eSBm/HiDzLPOiKrITAdrd7so5AeU8gHxXJJ0K0CIwW4n20vA3Msvf\n",
       "DpCJpjIRZaU6EaDd7U6cy8BOAyjznY13KkCLwMx5qDiehrNs8phmLweI6PCkrBtG8hMB2t3upSuH\n",
       "cB5AzHcy0akALQKzNWeVhbiRQlHDLDF3JpbvBqjZZDmJv5mEO9Duwj36dxpAzijyEgAt8HYfKg9n\n",
       "EcyNlFFcjL5M+W6AkjMWiXze7rF7BuRpABHfodxTAVoEZmuskQA3kscR1TePtOBS9mqAUnESQJ+1\n",
       "u7sLdB5Ape9I1KkALQKzlUOLKsCNrBuj0G/don31DsMf1cf2EwDdwfa1+5qt3PKzABLeI1HnAjQP\n",
       "zFYOpRU/DpD2ZEKnVtqyAnSCbuyB5ClSRx+3O18JOs4CyB1FXgOgeWC2eqgMcSNNJKEqz3TQMwEq\n",
       "o/MA+qDd1YqW2VkA+SfSzwVo7qVXDy1C3MhcE5vnkRl7DzEQdF+AGD0RoA/aPV254WcB5I4iLwLQ\n",
       "LDBbO1QdnA7XvgmJHnmXkQwVw9wXIMJPBMi/3flayHESQNw/D3gyQLPAbFW3/mAerrmRgkgVZ0Tx\n",
       "UDHMfQE6J4L7uN1JJX4cIOWfBzwZoFlgtnqorMTxGznpIdI3A5SoMwHybnex+r48CaCVKPIqAE0D\n",
       "s9VDxbE0wvJG5tmbATplEOjzdlerU0/OAWgtirwKQNPAbP1QdcgFLW6kSKMXA5SdJdPyYbsXq27q\n",
       "HIDWosjLADQJzDb27iplyBupgsgF/+gg5ZHmiH8KoF3tvvGyPAWg1SjyMgBNArMNgOIjM0rVPOl0\n",
       "Wam5U+y0b/9Ru4uNqY+nALQaRV4GoMm7Zmv3SJpHsFfgvXGjTwFoNYo8BJAxEgigcWC2uf1qmeDh\n",
       "eoGxQvw8QOtRpA9A5TTwFokxtgTFBZb9c0tgtgkQLwQer+dbuTVmfgJA7iiydHREXZ9HDTCb734X\n",
       "WK7PLYHZ9gbgLMPj9XgTm3NOTgDIHUW6eNjJyTdeOMlugGCwUwBid4p1+sBsK9qDwcpzlmGV7E6N\n",
       "0gVmm9EeDM7nlEBJfOMZ/H804jeyKN0AhgAAAABJRU5ErkJggg==\n",
       "\" style=\"display:inline;vertical-align:middle;\" /></a><br>"
      ],
      "text/plain": [
       "<IPython.core.display.HTML object>"
      ]
     },
     "metadata": {},
     "output_type": "display_data"
    }
   ],
   "source": [
    "qpe_precision_guarantee = Forall(\n",
    "    eps, Forall(\n",
    "        (s, n), Forall(\n",
    "            (U, var_ket_u, phase), \n",
    "            Forall(\n",
    "                t, greater_eq(\n",
    "                    ProbOfAll(m, _phase_est_circuit.literals_as_variables(_s, _t, _U, _ket_u, _phase),\n",
    "                              domain=_m_domain.literals_as_variables(_t), \n",
    "                              condition=_success_cond.literals_as_variables(_t, _n, _phase))\n",
    "                    .with_wrapping(), \n",
    "                    subtract(one, _eps.as_variable())),\n",
    "                domain=NaturalPos,\n",
    "                condition=_t_req.literals_as_variables(_t, _n, _eps)).with_wrapping(),\n",
    "            domains=(Unitary(two_pow_s), s_ket_domain, Real),\n",
    "            conditions=[_phase_in_interval.literals_as_variables(_phase),\n",
    "                        normalized_var_ket_u,\n",
    "                        Equals(MatrixMult(U, var_ket_u),\n",
    "                               ScalarMult(exp2pi_i(phase), var_ket_u))]).with_wrapping(),\n",
    "        domain=NaturalPos, condition=_n_ge_two.literals_as_variables(_n)).with_wrapping(),\n",
    "    domain=IntervalOC(zero, one)).with_wrapping()"
   ]
  },
  {
   "cell_type": "code",
   "execution_count": 6,
   "metadata": {},
   "outputs": [
    {
     "data": {
      "text/html": [
       "<strong id=\"main_theorems_combined\"><a class=\"ProveItLink\" href=\"proofs/main_theorems_combined/thm_proof.ipynb\">main_theorems_combined</a> (conjecture with conjecture-based proof):<br></strong> <a class=\"ProveItLink\" href=\"../__pv_it/theorems/2ed06912f047aa92cec35a96c1195b26af68d5e90/theorem_expr.ipynb\"><img src=\"data:image/png;base64,iVBORw0KGgoAAAANSUhEUgAAA/YAAASVCAMAAAAxAbUcAAAAmVBMVEX///8AAAAAAAAAAAAAAAAA\n",
       "AAAAAAAAAAAAAAAAAAAAAAAAAAAAAAAAAAAAAAAAAAAAAAAAAAAAAAAAAAAAAAAAAAAAAAAAAAAA\n",
       "AAAAAAAAAAAAAAAAAAAAAAAAAAAAAAAAAAAAAAAAAAAAAAAAAAAAAAAAAAAAAAAAAAAAAAAAAAAA\n",
       "AAAAAAAAAAAAAAAAAAAAAAAAAAAAAAC+sJjuAAAAMnRSTlMAMquJZkQiEEAwVJnNu+/ddiClbGCv\n",
       "4+GFUF5M29eN5/daqZF8odWTucPB6dHZ5XD5lw7F0RoAAAAJcEhZcwAADsQAAA7EAZUrDhsAACAA\n",
       "SURBVHja7L0JG6Q4dq6JJCRVIUDqcldXdt/usa8nbY89d5nL//9xw76LQCAIlu+rpzIzIkAIoZdz\n",
       "tJ4gOFYkK0UDCILWSVfQ3PgOSMbCXLz7pnsDRCGeMARNVBAT0ntjL0bfqPYVEAs8YQiysP8s7Elj\n",
       "7kWCZwtB78A+iGX1N4vwbCHoJdiHdZM+xqOFoLdgH6S6UMrwaCHoNdgrUvyZSMek8JqAgP19sRe0\n",
       "+cNJClUBAva3xb409IzPHD0c0hNaFUeFKQX2ELC/O/aRme/Qk/WdEkOTJAc+ogHL3xBKAnsI2N8d\n",
       "+5z50Mx8HVXvAlU1/otpfKaAPW/UM6WUzv/nqA4QsL8p9ixqBu8DFob1+L1gOmY58KadsxuRiAvT\n",
       "9OXB2kPA/s7Yi7Tp0MsNezttL4iLF4DsJu9FJHfyIw7sIWD/AOwDWrvxQRKH3UBeVvyTh33sc9hN\n",
       "AuwhYP8A7Lvf0yxtjuBpebtxUiqqsJes6f3DuD0E7B+BvZCB0E3vnqGBzH1+NrD2AY8M6gAE7B+E\n",
       "vea5Fa9seu7Fm3K8rpu+Vy3TN9ijAwL2T8I+jKqOfJLmfxIVFuZdJHXDn+hq+g6wh4D9o9r2nUPf\n",
       "/VOyom2PIXoI2D8cey7xoCHoZdhjWz0Iep+TD0EQsIcgYP8w7LF/PvR6Le6H/1Dsx/vnQ9DbDPrS\n",
       "fvgPxX78PcJmQHDmX4c9wmZAwP512CNsBgTsX4c9wmZAwP592CNsBgTsX4c9wmZAwP592LuHzYhm\n",
       "EsfqfAjY3wj7XtgMojIaFr17emD7JUt1uYV2Wu7KVQ77S8Yo7b8qsPkWBOzvg30/bEZU3TSvR/Wa\n",
       "nfODpBcqQ9Lmn0oXx4RV7wBHKwEC9vfBvhc2Q8V9j73dOb/BviS7GunP8j9FVm62WW+3F2MRLwTs\n",
       "v6lfsl8dXgdd2Izaua/+7HbOH2Cvq+KRNfa8eTlgBBC6P/Y/34N9GzZDZryz9r2d8/vYi26kj+Vv\n",
       "ACoCWb0zIrTuIWB/Gye/C5vRNO1L893bOb+PPW/fBkTLYiZ/M5efY5ofBCf/Pti3YTMGTfvezvkB\n",
       "TVrso24277AxT4A9BOxvhH0jVSJdO+29nfMDo1vsG7pF7tOLfmpw8iFgf0fseUG3bHDvW3Nd2HxT\n",
       "OgW6tvWEENW39wYzdiBgf0Pscw+edf337c755bsgV/UxKZNIJzuUJFi4CwH7O2I/1PzO+ZZ5ORJN\n",
       "ewjYPwB7Ww+AWP8tBAH7R2BfhsybFBf254OA/ZOxD+SqryAI2D8IewgC9sAegoD91yVD6fg6QNgM\n",
       "6GHaFAZD3HnbeFdrPxM2AxvoQzc36FvCYLzKyZ/5HhvoQy905t+OPTbQh4D967DHBvoQsH8f9thA\n",
       "HwL2r8MeG+hDwP592LtvoA9BwP7m2Pc20N+ShTDEwB8E7O+GfX8D/eHOOUv76PDIlGN/7Uba01Py\n",
       "fxthT7X9GYKA/enY9zbQHw7ihTOd+yZR1AgTpMUGvEFvI+1pAvm/mbCn2v7clwzRtQgB+xOw722g\n",
       "Pxq773bPrePmyITmKUQJC/K/SNrfSHs19s3HOeyJqbfzgyBgb5Ftn/w//fYnF+zbDfTHgDZ7arQW\n",
       "nVWMh6VfX7wHuo2012Nfpzpr7YMI2EP+sP/lt/nvf8Ladxvol4ByU3wqvxFVO7zdd0+GpOoDKJIZ\n",
       "OPcfsZ+mCuwhWPsvYt9uoF+gmNvzTJYOfENxt31eJLrg10zORb22YT9NtflZJY1CYA8B+/Ow75Mq\n",
       "ZEGeqdAsPfgubk7YrfSNsyzT67GfpgprDwH7y2Cf235T/R/UsTO6uDmEcLIigdm2/ThVYA8B+wth\n",
       "n+bt95SUfJe9b724OXWXnn1LPTv241Th5EPA/krYi4BnJd91q76buCtYiSwzG7CfpAprDwH7y2Af\n",
       "KRNRU3TZm7rfvoubI1nu8SuywcmfpDqHvWBxxhBtCwL2p2M//TgfN8cN+8kx89YegoD9V7Hn7nZ3\n",
       "BfbcAHsI2F8WeyqPwJ5KYA8B+wthP/x5wxJ8Mfy3XEhVIMYOBOw3yDYn3/Y9wmZA78L+p+P377T2\n",
       "EARr/xrsES4Huro2Rb8B9svYj8PlIFoOdDGD7jP6DbCf/wHRcqAHO/PAfv4HRMuBgP3rsEe0HAjY\n",
       "vw97RMuBgP3rsEe0HAjYvw97RMuBgP3rsN8QLWcYByPqpSlmQ23MLvUJmcuIobDH8CBMSWuG5rOs\n",
       "FvLVP70JDjK5ZLyqZBYvAwH7L2Lfj5YzS4FmsaKxbZf8oJgFIBmj5dKb0KygocpKtc1mwJhZaF8s\n",
       "JtzG2GB0nKGAqIyGxfiEZtMst6E75t4l/VkNTXCQ1Vp/GQjYfxX7XrSc4cF1rAxThMFigs1Xbknr\n",
       "eq2KvTO1mh0Q4GyUZn7V6pIFzjxZ9CtsCXcxNqJ4nKH8u+qBcz7HY/ORT984sv8KEd3rKeBxmv9X\n",
       "EdyOdsqoiCKSWLBfuAwE7D+p28h23fe2sBmW90E8a0vbWBmm8FLDflCcfuUuneAs/0Nk+fG2rbLq\n",
       "YcJeRK0a1bT4wr6EYDnhaA772itX8cDBtgQEiScFOHbqy5dUcTTP336sfheU2BdfhkVQ0EBEgetl\n",
       "oE3Y28JgiNDte1j7frScsGy3psVfbayMCnsj1Tz2JXnF66egU/b56yVWzwowvYdQoSqy4sqpdc7A\n",
       "bMLL2Nff1c4962V5GrpjZraCrm1+GlfbgBZ/Cl01OMpUig8F9uWXpiKfB66XgWDtv4x9Gy2HF4aM\n",
       "iqLDqouVUTr5Iukj28NetMQxXWykF7SH9RIrfxikWWzPXWWowF4vvpPHCU+x53qSIZnxsbWfCd1R\n",
       "5muwp299esyqRPvBQRgPdP16bJ18RmTY33J44TIQsL8U9m20HFObR9aPlZF/qxKWWDqu2nY5KZAQ\n",
       "KhSVXRwkVh/WSzN3A0iHfbrU191P2IJ9EBs5ylDTtO/FAZoJ3THtVqi+4GlVKoPgIEUzfox9YLRO\n",
       "TNDc8+rLQMD+69h3gFfNVNOPlVE6+YxH89hHtAGh13wlqRgkln+TBIM0SdU/Xzv52YIPPEy4Ncxi\n",
       "gH3UDTTUGRo17S2hO6p8Dd4k5ekmK6YwrdlLtF3CWN7z6stAwP4y2NOKkygaxMoosOecyVns6wpd\n",
       "NGKFsCVWe7mk36Ft6JouvbmEp9ZepJMMqTJ5OcR+Erpj6uRXp0frpyoP+xoXLgMB+2tiH1JCA6Iq\n",
       "d1X22/Z5I3epS08khJDRpJl+YoExwzRbsoofeDdmVrrKkvVs/TRha5dedZ7umvuSjXgch+6o8zXF\n",
       "WJv5WT+ftPoyELC/CvY5P1majGJl8NjELJBKxbPYl+52OrchSi+x6qh+/I3WoDJmeliXrnLlL1fO\n",
       "wMJOK12MjTotUo4IJLWBpWzSCzkJ3dEcPL6foic/3bCh8PrLQMD+Mtj3B/AXYmX0sV+YitIl1li9\n",
       "XpqRxyV/bVqRNUPz82jktM29b2rN6stAwP462CeRc+VW4nNiM8dw7R97Lq0Zmg/dMXeoEt6wX7oM\n",
       "BOwvg72W7pWbyU+JhXM+Q+ytvUvi+v0S2jM0G7pjNl/2+3EumcXLQMD+Ktiv0yiRj5jMH0A8TV0T\n",
       "ZMX1ZkN3SJfsbigZuTs9YP9i7F3DY9i+xwb60L2x/4nwGN+z9pAHZesE7OHkH4997NAOjdFm3YO9\n",
       "x6O+JKHlQecB+1OxVw677CgE13k59qP9TTyeB+zPxD5K17++XY6Fnol9kIbHnAfsT8ReOjxFmSJ4\n",
       "1nHYS+EFe3n0On++sbPo03nA/kTsqcPMObp5lt1sFogXkr6gY7BvZzHvqrZhdvj0QJocch6wPw97\n",
       "knGHLG3uz5vdrjPxwf0XnvEx2HeLk/bckjohtLHIoiPOA/bnYR87GPB4+5T6Wey9LE19DPZdGNId\n",
       "t2SyM5YCJPqI84D9adhHDgY82m7sLZtza2DfVVbmIX2eZfKUumkOOA/Yn4Z97EBevIPSHva9bbZ8\n",
       "7DL5EOzlX6SH9HV2zjbdSXrAecD+LOxdXttbX/Fj7KMuGR+Bth+C/R8/PKR/krEvHL/I/3nA/izs\n",
       "qUM1oXuq1Dz2vfbsy7H/a+ojfZqdFcN464WWzgP2gXt4DNv39jU6xQ7T682t3NVZZME+YsC+VPo3\n",
       "H+nr7Kz9+2hGvJ9nW0LjGgYD4TE+YB86+GphFvnH3kOn3iOw//GHl/Sz7Kz9+/jGToSl837C2p/j\n",
       "5CcOfnuyq9low15xYJ/rL//tZtgHWer9PDj552Avs/XG1uVYG/aq2Ihep2n5VzWrhNBenT15ytz2\n",
       "Ku9pgt+a7x11mn+bbPTyF84D9udgHzp4auG+oSGbtd/fuL+rte+hLv9OB+TvsPanYW821oeF84D9\n",
       "OdhTh/k3NONHYL+/K/+e2A/MO/27GLwH7oA92diXv3AesD8H+9ShfNJ9ZWnB3sPA/R2xH/r05B9s\n",
       "+PUdsA+2ThGwnwfsT8H+xKa9DXsP0/RuiP2oP6I3Qa/65RbYxxvdP/t5wP4U7COHkfho5xIPC/Y6\n",
       "eB/2k05IFvbB3Yf9j9MKQW0cNbCfB+xPwV459MqonZO957H3sQTvbthPqJfxkNxd2P92WiFsXddv\n",
       "Pw/Yn4J97DABJ84iX9j3luL4CBN3+3F7yr2lfyb2ZOPIvf08YH8K9qnD0GuaEV/Y2+zcS7EnSeAR\n",
       "+/OcfLlxxoT9PGAfnBEew6Uvdu/SrlnsTQjsux30vGB/4nT0bKMlsJ6H8Bg+rb1tjY5weF2LvZPh\n",
       "zNyjpgGw95r+qdjrje0+63m2JTRw8n06+ZHDmFyU6auWE7D/jpMfxBu78q3nwck/A3vjMM/KnLaQ\n",
       "G9jfxdrTjYM71vOA/RnYM4cRGHbKzozA/k7Yb92j13oesD8De+rw2GhGgb0P7I9dVHgq9myjB2g9\n",
       "D9ifgX3isBVLctq2Lc/G/uiMnYu99nsesD8D+9gB5RjYA/uRzMb5OtbzgP0Z2LtsrnzWRszAfif2\n",
       "J/bkhxsbI9bzgP0Z2KcOKKfAHtYe2D8De+OAvQH2wH6gaCP2EbD/LvahA/YhsAf2wP7+2LvUkQzY\n",
       "A/uR+EbsObBf0OHhMbLsnxzq0z8Be2A/qlfblmdZz0N4jHOs/Z8d6tOfgf0dsP9xY+xh7c/BPnKo\n",
       "TxGwh7Uf1att2BNgD+yBPbAH9sAe2AN7YA/sgT2wB/bAHtgDe2AP7IF9+5h+AHtgD+xh7YE9sAf2\n",
       "wB7YA3tgD+yBPbAH9kde8kmbagH7I3R4eAxg/wXsj03/mdgjPEbgMTyG+n19BDqXY4H9O7CXv//u\n",
       "9zyEx4CTD+w36PffyZkVFE4+sF/WbBYIsB+YQQEnH9g/CvvZ0JcJAfZzxQHsgf2DsY8UsO/EaQDs\n",
       "gf3zsQ80sO8UC2AP7B+LPe+qJouAfVtZWQDsgf1jsY+6vbdFAuxryb9IH9hjKQ6wvzz2Pcf27dj/\n",
       "8SPwgT2sPbC/PvYRA/al/poGwB7YvwR7D516z8A+/RuwB/avwV5xYJ/r//rnANgD++Bp4TFK7JUu\n",
       "lKblX9UoNaHAPte//Pf7YY/wGLD2W619r3GfbdQXsN8hazJ+0kdPPpz8G2C/vyv/pta+D7r8FzH4\n",
       "DCcf2D8aew8D97fEfmjd43+tvwT2wP4N2HuYpndH7IctE/IvMhh8D+yB/aOx18ELsR93R/zfP3vl\n",
       "DOyB/dOx97EE73bYj6mX8eQIYA/sn4Z9bylOIt6H/eRkyj8esv4xoScf2F8Te5ude1HbfvB4En/p\n",
       "w9oD++tjb0Jg322lBeyB/dOwN3P7Z9EA2HtNH9gD+0thf0UGgT2wv5y8hcewz8kH9sD+Qtj/RHiM\n",
       "E6w9wmMA+z3yHh4D1h5OPrDfIITHAPbA/oLYI/QlsAf2b8P+6IwBe2AP7IE9sAf2wB7YA3tgD+yB\n",
       "PbAH9sD+5thjKQ6wB/aw9sAe2AN7YA/sgT2wB/bAHtgDe2AP7L8ob+ExbD+cGh4D2D8Oe+/hMXyF\n",
       "wUB4DFj7l2GPnnw4+cAe1h7YA3tgD+yBPbAH9sAe2AN7YA/sgT2wB/bAHtgDe2D/8ZIypLGOM7/S\n",
       "OlH842NCTz6wB/bfuGQUx4bIAy4rOdNUwNoDe2B/NexJrOSRtSKmEtgDe2B/qUua5OgthrnmwB7Y\n",
       "A/sLXZKq468u4xDYPxb7E8JjYE6+50v+48+nXP/fkitg731OPsJjwNrfEXt6ViExBmsPJx/YX+KS\n",
       "hp2Wg2T+cSA8BrAH9udeUurzcmC51gdrHwtgD+yBvddLqjOLyITu2MssAPbAHtj7vKSMT82D/oz9\n",
       "+LFHn3NIgD2wB/YOlwzP3dNldqLuEHs2OEQwHbNPWCcE2AN7YL/+kok8NQ9crcReKBVXNMefn2Gk\n",
       "gD2wB/brLxmfnAk9+5h+jLEXxRg/y4p/rqFUA3tgD+xXX1LQkzMRr7P21dqdNM39g3RFqiwC9sD+\n",
       "EOy1eiD2nJ1cGnONihns05IxmtcBQwP5sekuEmAP7I/AXmbxA7GPspNLQ2XrrH3pttOMBMoE7DOn\n",
       "68f2gf0R8jYn/3LWXgYPxH7zoPjW0hDrsK9divxgosI5Y0/KL3mcVe5DxC6HPebkb7H2tvAY6vf1\n",
       "k7Zcjn1n2/78fDhgTzJjf7TlAXHIaQX86k49+fvv295ztvNsYS3g5Afo0gP2S9j/mMVe2/sbo9LY\n",
       "l79Xzfp6QsBnZx9OPrAH9he29iqx9yiUJr7yB6u+RUJXtlmAPbAH9tfFPpyx9e34gWn/kFVDoGrc\n",
       "r5nIC+yBvUPb7pE9+cHZPfmrsS85FmKhac9LR7/eA7Dw7ldN5AX2wN5Fjxy335yPzaWxEntSWm9j\n",
       "I1SFFfqSVpjXA/crJvICe2APJ/+iTr7QqpC9fz6OTUxC1WzMWU/TW0E0sAf2wP6iPfm6Cq6x0JII\n",
       "80N0O1pfvR/WTOQF9sAe2F953H5ZqndSvQRvzUReYA/sgf19sU97gNfb/K+ZyAvsgT2wvy32pJdQ\n",
       "s0WQZSIvsAf2wP4Z2Jted58JPeAL7HfINpXe9XuEx3gr9mbdDlmid5jLpgGnhcewzdV3/R7WHtb+\n",
       "odgj0DWcfGD/amsP7IH9idi7rdEVX8ZeuB/hgv1xhQHsgf2FsDdujgE3X8V+RW4nOXTA/sDCAPbA\n",
       "fif2guoso5QmSbgX+5XbswjGVFJ2NZvQK/aGKkXNzF0RqtM0/0TjNA0HuS2O02XcSppm8ZS8cQ7X\n",
       "Y39kYdwGe6IlsL+otSdZ2Ysr0ngf9s3Ir9SLDqssZoNFVaqx9Ic9qaaZGk1m7opXnwKZsFFuqx2l\n",
       "g0n4yvouRjlcjf2hhXEP7CVVcQbsr4q9qJEIM7YL+2amZ7RcJ0yRYL3oNFTesBfN7lEmI9O7aj7l\n",
       "dXGU27hJRQ1zXd/FKIersT+0MG5j7Q2wvzz2JNO7sG/WcKjlPdl4WgZsqKxhKn1hH7dLSLSe3lWL\n",
       "faBGuc2a/WdGA9fNXQxzuBr7Qwtj5oLXDHQN7K+PPc/iPdi3u7LoFa3aqDZOcWejaJ3X9fu1Z4ME\n",
       "WVfXzOSuqk88Zywa5pY3ToIc5bq5izjcgv2xhQFrD+y9Yc/yb3mcmoj1N1Fcjb0qKzinSZbQT73S\n",
       "XNeVlHU2VlSN8vovV+xpl03SA726q+aT4aPcFj/Xlwv781l7d8HoFuyPLQxgD+w9YS9N1cmdqkj0\n",
       "q9Bq7OO2Nfvx/gylDWw9B6Os4w7UD2p/nPHuftLJXeXfUdo7ps2tTkfOfzC6izDegv2xhXE17JXu\n",
       "iQL7bTo5PIbINGOsGWYuWsZyi5Ov6+PUmh3i6s7rIOpv6pDXchfq7djryV2VLwGR8HFuZdvmHzft\n",
       "m7sY5HA19scWxmusPcJjBIeFxxBZvwEZ06Vjl3r0+KQ1K+OeFRhW4SpA22DpZ1HVrRV9VvNOPi/v\n",
       "Z3hXXdu+ng5X57ZpVgfCzDftRzn8mI8zCmM+Fydivzo8xgh7hMe4lJM/wF5t7NKra7rMPiz6rEIw\n",
       "JVWywy2cFmr65y491dW10IK9lG0Nq3PbNu3ZsKS6u+CbrP2xhXGbpThw8m+DPduIfe3Xlq3ZpUpR\n",
       "Pfq6pkfak5MfJAUzPGqb63PYlzWD9HPLsnkfv7uLQQ5dnfyDCgNte2B/FewT07ZmoyV2U9rza8PE\n",
       "U5defhcsiLg03XSdeezjQW6b2TTNgJnsNe2ruwiTLdgfWxjoyQf2Hibn9vud9FYnvx5+orQJsmJR\n",
       "GPba1IoNK/rmAbz8xNiYYiPI2r8e3hVpsGfpILdVm0Y0feltxIruLhTbgv2xhXEb7NmwAgL7y2Av\n",
       "aJxltKlwnGYpjTZhTyoXVSThhwrIlVJNn7ru2r4NeiLehn1uWxJqyllxZHRXpF6YQ5O08QFI41Cz\n",
       "hKqOTF2vHenuQvMt2B9bGDfBnhbLm2gI7C9p7T+wtfpY7T49VOg95TT7jIulL8n23EZyMYerJ+ce\n",
       "WhhYeAvsL4P9hnU1KvSOPY1JqLfnli3ncDX2hxYGNtUC9tfZZiNx3S5n/fT79dhHWZaZzbkdt8TH\n",
       "OVy/3v7IwoC1B/bXwV66UpwI/9gHKqXbc2s+5HA99kcWBrAH9hfaVEu47ZJldm6mt/MZr8jtJIcO\n",
       "m2odWBjAHthj59xvXxI75wJ7D0J4DGB/aewRHgPWHtgjPAasPbAH9nDygT2wB/bAHtgDe2AP7IE9\n",
       "sAf2wB7YA3tgD+yBPbAH9sAe2AN7YD/QNcNjAHtgD+xh7YH9G7HXCth7KA1gD+xvhL3MYmDvoTSA\n",
       "PcJj7A6PcaK1lwGw91Aar8Ee4TGCw8JjLMvlWLTt39G2Xx0eY+15CI8RoEsP2G/BHktxgD2wP++S\n",
       "8ux8CLTtgT2w//IlI3NyJhQB9sAePfnfxZ6zk0sjkcAe2GPc/rvYC3pyacQBsAf2cPK/fMn45Exo\n",
       "YA/sgf23L5nIU/PA1exjQk8+sAf2J17SnLtxo+Kw9sAe2H/7kvJcL18HwB7YA/uvX1KdWUTzvgWw\n",
       "B/bA/txLnmnupQ6APcJjBAiP8f1LGnZaDpLo+9gjPAasPbC3w+hfjNkeE3ry4eQD+5Mv+e9/PuX6\n",
       "/5FYHxOcfGAP7M++JD3Bz5eJCYA9sAf217kkS47emIBrHgB7YA/sr3RJHqsjp+uRhIoA2AN7YH+x\n",
       "S0ZxbA4x+ZKwmIrlxwTsgT2w/84lZUhjHWd+pXX8cUIQevKBPbB/0CXXPiZYe2AP7IE9sAf2wB7Y\n",
       "A3tgD+yBPbC/kp4bHgPYA3sXXBEeI0B4DGB/EewRHgNOPrC/ghDoGtgDe1h7YA/sgT2wB/bAHtgD\n",
       "e2AP7IE9sAf2wB7YA3tgD+yB/bWxx1IcYA/sYe2BPbAH9sAe2AN7YH/uJVeurQf2wB7YPwj7Y9MH\n",
       "9rfHHuExgP2lsUd4DFh7YH8N7NGTDycf2N8Keyng5AP7R2E/mwUC7PtKCLAH9o/CnvGleg7sc3EK\n",
       "Jx/YvwD7SAH7TrHwgP1vwB7YXxz7QAP7rrKyANgD+8diz7v2J4uAfS35Fwnsgf1zsY+6gK0iAfa1\n",
       "/vgR+MAeXXrA/vLY99qzL8f+r2kA7IH9S7CPGLAvlf4N2AP7t2DvoVPvEdj/+CMA9sA+8Bgewz4n\n",
       "/wLYKw7sc/3lvwF7b2EwEB5j6YdTw2OU2CtdKE3Lv6rJKYT26uw2fQH7HbIkRDylf+fwGLD2r3Hy\n",
       "9zfu72rte+8A+ffhC2GHtTdw8oH99bHf35V/T+wHmNO/i/Kr3enrTAF7YH957D0M3N8R+6GzT/7B\n",
       "mq93pk+zGNgD+8tj72Ga3g2xH7XwexP0ql82p883kgjsgf2Z2OvgfdhPOiFZ2C/oXenrExv3wB7Y\n",
       "b8PexxK8u2E/oV7Gw5Lekz7PUgnsgX1w6aU4iXgh9pMGOfd4SyyjwB7YB1deeCvj4H3YTx5P4vWW\n",
       "6Gmd+cAe2G/C3oTAvttBz9MtmbPsPbAH9h8r49z+WTQA9v5vSUTAHthj59yXYY+2PcJjLPyA8BjA\n",
       "fo+8h8fwFQYD4TFg7YE9rD2wB/bAHtgDe2B/6iWvupYY2AN7YP8EawzsgT2wB/bAHtgDe2AP7IE9\n",
       "sAf2wB7YA3tgD+yBPbAH9sAe2AN7YA/sgT2wB/bAHtgDe2AP7C+GPXfAngN7YA/sYe2BPbAH9sAe\n",
       "2L8Ne7/nAfszsE8dAqalWQjsgf1AfCP2HNgDe2AP7IH9idhrB5Q1sAf2wP4J2McOEVTiM0OpAvtb\n",
       "KMpSv+cB+zOwT7L1QaZdjgX271CYab/nAfszsHcJpEDPjKAM7G8hszG8rvU8YH8G9sohjoI6L8YS\n",
       "sL+JWJb4PQ/Yn4G9y2Pb+oiB/XOlNnqA1vOA/RnYhw5OWpjFwB7YD5Rs7Oa1ngfsz8CeO/TE8o29\n",
       "tj1NMkGA/VyxHCx/jyHeOHPTeh6wPwN74TDuKvZv4jwJfpkQYJ9DIM/Nu7/HkGbE73nA/gzsgyxb\n",
       "b2pcjl1Z3yIF7ANSdpWyMIy+hf3mx7BxJY79PGB/CvbaYTWt3r3ydhrqWgP7QBWlokiN/zew3/oY\n",
       "xMZ2n/08YH8K9tRhxi3dPTt3Wt9YBOxL5pI4PM3V9/YY+MZeXvt5wP4U7I3DCIzZPV9nWt9E8nrs\n",
       "Kw+bpFkqvob9xsdgNk7ctJ8H7E/B3uV9zXeP4E3rWxCLt2NPi94tIQOhzdew3/gY6MaOfPt5wP4U\n",
       "7KVD97zc3ZVf1jdpVNlYoKVTG7GXYy/Ld6nOS4aRM7H38Rj0xh49+3nA/hTs8ycgHJ6W8FDfWBCl\n",
       "vQejX459WNr4MDqvI9/bY5Abe/QWzgP252DPHPrp2N4+vaK+kShQRR2jdYtB8Xdjf/agvcfHEG1c\n",
       "pbFwHrA/B3vu8Oj43sU4RX3La3laGLi0bsn6GLa6MfbiCwsdfD0G/017YH8S9kHqUEBptr++FW8P\n",
       "WQzd1i3ZrlWZbdcXsL+h1j2G46vDwnnA/iTslcP8SpURD9iXzqVpnouPrvwbW3v9hWrl6TGQjc7f\n",
       "0nnA/iTsucPYK9+5wU5V35LiqSdJUM5P8eLk3hd7rr6G/e7HYDb6+EvnAfuTaeCKfgAAIABJREFU\n",
       "sA9Sh+7YNPVQ3xQtZqewoHyFeJmmd1/sKfka9rsfQ7yxMiydB+zPwt44TLU3+6blV/VNUmYiQQ3x\n",
       "5uTeF/tv+PieHgPZ6Potngfsz8I+cGmi7evLn04P87ME77bYh+Z72O99DHTjXJ3F84D9adgzh+fH\n",
       "Mum1viXi1dh/YdDe12OQGy3A8nnA/jTspYO3Jnd16k3qm4yDN2MvvrM7oZfHYDZO2Vw+D9ifhn3+\n",
       "JKTDU5Me65sJX409i66B/ZbHkG5sni2fB+zPwz7QDiZc7zD3Ztxv7WljiW/OfdmjL+1A7uMxbH39\n",
       "fzgP2J+IfeTgsEWZCKC3S25cnvHpPGB/IvaBcmhkqgS1/vWiyTHnAfszsQ+0w8tbh6j2LxdP5THn\n",
       "AfuS1lJ07/f2H9oDHJ4jSSUq/ruluf/ztKXPxNf3N2pBhaX43u/tP3TvYYcWO0fr/uUte37AeVUV\n",
       "DQ/7HoIgCIIgCIIgCIIgaFEf+80hCLqdPowRkIyN+827V0CEPkYIuqPKEQK6gP1khKvbjzjG6BcE\n",
       "3Zd9F+zb/YgFprZC0EuwbzdU+NJaSwiCzse+mTYUo+Ag6C3YB6kulDIUHAS9BntV7m2QYBULBL0H\n",
       "e0GbP5wE7wCC7ot9aejZ3BKk4ZCe0Ko4KkyrN4RCQUPQfbGPzHyHnqzTIYYmSQ58RAOWvyGUBPYQ\n",
       "dHfsc+ZnoyFE1btAqSb2aH6Uar17YA9Bd8aeRW00BBaG9fi9YDpmpL9ncUQiLkyBPVNK6fx/jsKG\n",
       "oJtiL9KmQy837O20vSAuXgCym7wXkdzJjzisPQQ9APsuvGkSh91AXrlxOA/72OewmwTYQ9ADsO8O\n",
       "SLO0OYSXYX/DOCkVVdhL1vT+AXsIegT2QgZCN717hgYy9/nZwNoHPKp/x7g9BD0C+2LbYFbZ9Nyc\n",
       "m3K8rpu+V63TN9ikA4KehH0YVR35JM3/JCoszLtI6oY/0dX0HWAPQY9q23cOffdPyYq2PcbqIOjh\n",
       "2HMszIGgt2GPbfUg6H1OPgRBwB6CIGAPQdC9sUfcDAi6vBbDYGzCfhw3A2EzIOhqBn0pDMYm7Mc/\n",
       "IGwGBN3JmfeCPcJmQNDrsEfYDAh6H/YImwFBr8MeYTMg6H3YI2wGBL0Oe/ewGdE0EYPHBEE3wr4X\n",
       "NoOojIZFp77uu/ySpbrcOD+t9uIrhv0lY5T2HQTsvQVBd8K+FzYjqpLk1WB+Ey8jSPoBciSt/6l0\n",
       "cUxY9Qly9A1A0I2w74XNUHHPZW/jZTTYV2SXE3yy/A+RlVvs1l/H6ByAoG9i/6ff/uSCfRc2o3bu\n",
       "yz+7eBlD7HV5bVljz5uXA8b9IegE7H/5zZO1b8NmyIy31r4XL2OAvWgH+Fn+AqAikJVvEKF1D0E3\n",
       "cvLbsBlN077cMTucx543rwOiZbF+p1nBwzG5F4LuhH2jftO+Fy8joEmHfVR7BmI00k+APQTdEvsS\n",
       "6cpr78XLCIzusK/xFrlPL/qJwcmHoFtizwu8Zc1735rrwuabqimgK1tPCFF9e28wYweC7oh97sGz\n",
       "tgO/jZdRvgpy1R+TIol0sv1HguX6EHRL7AeyxMuYn5gj0bSHoAdgb+0BEGu/hCDoIdiXkTLHeUEQ\n",
       "LQh6NPaBXPENBEGPwh6CoMth/0v2K7CHoCdi/9OftUfYDAg6XZvCYIQ+sUfYDAg626BvCYPhFXuE\n",
       "zYCgO7ThD8UeYTMg6HXYI2wGBL0Pe4TNgKDXYY+wGRD0Puz3hc1odtSFIOhG2LuHzRi8NJodNyEI\n",
       "ug/2vbAZo+AXS/vo8MiUY3+82257ck7+byOsqTa/QhCwPx/7XtiM4SBeONO5bxJFjTBBWuy/299R\n",
       "N5imkP+bCWuqza8DyRBdixCwPwH7XtiM0dh9+7GJmyOTnPMgSliQ/0XS/o66q7FvPs5hT0y9nR8E\n",
       "AXuLZGjpiLPFzfgUNmMEaLOnRuvIs8q0h2VzPplbe78C+zrVWWsfRMAeehX2tjAYIjzY2rdhM0pA\n",
       "uSk+ld+Iqh3ebrsnQ1KhXrbYSeCA/TRVYA8B+y86+W3YjALF3J5nsnTgG4i77fMi0cW+ZnI26rUF\n",
       "+2mqza8qaRQCewjYn4d9H1QhC/JMhWbZcO/i5oRdqyLOskyvx36aKqw9BOwvg31u+031f1DHzuji\n",
       "5hDCyYebs7btx6kCewjYXwj7NG+/p6Tku+x968XNqbv0FrbUs2I/ThVOPgTsr4S9CHgme9Fwu4m7\n",
       "gpXIMrMB+0mqsPYQsL8M9pEyETVFl72p++27uDmS5R6/Ihuc/Emqc9gLFmcM0bYgYH869tOPlrg5\n",
       "TthPDpm39hAE7L+KPd9gdz9jzw2wh4D9ZbGn8gjsqQT2ELC/EPbDX7cswRfDf0t7qgIxdiBg7zM8\n",
       "hu0HhM2AoGth//OM8BgImwFBB8lrGIzwDOzHYTMgCHI16D7DYJyC/fh7RMuBoG+24b+CPaLlQNDr\n",
       "sEe0HAh6HfaIlgNB78Me0XIg6HXYI1oOBL0P+33RciAI2N8Q+w3RctTHI9LEkuPRqp9IfEpdzZ43\n",
       "Ob0J4zG95XjVTSxeBoKehn0/Ws4sWprFisZ9ID53+pdvEcZM13RoAmIMaCsmDhGV0bAYSdBsLvUm\n",
       "ysbcq6Y376gO4+Gg9ZeBoOdh34uWMzy4jpVhiuh3TLAV2DenlNgXsTh40v5SB8TgvXRk+XaIqvvm\n",
       "fD71+iOfdj7InotSh/GoDo3T/L8a4HZgUkZFwI/EdhP2y0DQV7C3hsew/eAWNqOLljNwe5vNdUzh\n",
       "+ob9WFg27Ls4eQWQafGhu2CzjVbcZblyy1U89K8tsTviya2OvPryfVMczPP3FGteBiX2xbdhEbY3\n",
       "EJHzZSDIAVfXMBiHh8f4HC0nLBvDafFXGyujwt5INY/97CkF9iIrEk2jMfa9CQLVN7Vzz/qpT6Ns\n",
       "zEws0JXJT+Nqw87iT1F9x6osFp8K7MtvTUU+d74MBD3Qye+i5fDCOlJR9IJ1sTJKJ18kPab72M+f\n",
       "UpBESux1OMY+at8fojTzMuMTaz8TZaM8b7D9bnV6zAJepNwP48F4oNvl/k2uGJFhf3fghctA0POx\n",
       "b6PlmNrosn6sjPxblbDE0hs2f0qHfWrG2LfN/fpfTdOe9FKfibLRO69/Ok+r/A/CeBSt+An2gdE6\n",
       "MbUz4HAZCHom9j2Gy7av6cfKKJ18xiMr9jOndE5+NnHySRdzi8417S1RNnrn9U83WTHZaN1K4qYH\n",
       "kKTC4TIQ9GzsaUVfFA1iZRTYc87kLPbzpyx16XVedEWYKmmUI+wnUTamTn55euQwqXi4Nf/CZSDo\n",
       "RdiHlNCAqMoHlv22fd50nu/Smz+lxN4UA3i08alb7I1p/ezym7JlLsfDg5MoG9V5U4y1mZ/081Gr\n",
       "LwNBj8Y+t51ZmoxiZfDYxCyQSsVz2M+e0k3XUbLwqaN+QIxy/l75XfXP3Fln/f5CS5SNYDrvr/xG\n",
       "0jTdsvXv+stA0LOx7w/gL8TKSD6eMpzr2+8XaKxq8d383Jj5eTRy2ubeN7Vm9WUg6OHYJ5EzMbOn\n",
       "DLDnfWNcN6Gr75T4yGMTZWPuUCW8Yb90GQh6NvZaOhMze8oA+74H30yjr79j8hOPtQM/v+0nk76w\n",
       "X7wMBD0a+3X6nEhiayLLD58DS5QNuS65zTchd6cHAXu/2DuHx0DYDAj6DvY/rxge4xP2sYOXG8Mj\n",
       "3qNslVBOzm6clmck8iQnXzlst6EQXGcf9t4OggZi9IxEnjRun65/UbocCwH7E5WGJyTyHOylQ3nJ\n",
       "FFF0gP01xX10YX1K5EFz8h0muNPtO2zP5oEA+/5LVfjBXr5z9wCaHJ/IY7An2fo+OpdjJ82muVMT\n",
       "D9xn39Ah2LelsQ/7MHvnpEORRYcn8hjsYwcDHu8IpzGLvY+Vb9/wiA/BnlMvt6ReG9I80Ycn8hTs\n",
       "IwcDHu0w9pZtejWw716qwsctmey1CwxIZo5O5CnYxw7gxXsg7WHf25HHwyZ2T8E+ZD5uiWfZe8da\n",
       "kvToRB6CvcsLct/LtId91KXjIeTuU7D/41cft6SzF2/+Hflo3S8m8hDsqYNtoLvsyDz2Pc/25diz\n",
       "fxAPyb/a2OcFFx+cyDOwlw4NQbmv0WjBPmLAvizdv1MfydPs1UGMaUaOTeSC4TFcw2aUV1/vFYX7\n",
       "PCgL9vs79Z6BPf278JG8zl69KyD30cRZSsRXGIyvhceoui8cXMJkn/tow15xYJ9XJ838JJ+9e1fA\n",
       "LD02kUc4+TJbb2tdjrVir4qNrnWaln9VXi2hwD4I/uv/lcDegxIfXv5CIo/APnTwicKd/pPN2neN\n",
       "+9NnzO3A3sv8vpU/uOndiyaMDy9/IZFHYE8d5t/QjB+C/e6u/Jta+wHp/+Pfyy98WPt3Y098dGku\n",
       "JPII7FOH+pXuxMuC/f6B+1tiP7Tu4f/kgy+B/Y4CkEcm8gTsz2za27DfP03vjtiPWib/67/a+gbs\n",
       "9ynO+JGJPAH7yGEkPto71duCvQ5eiP2Ieva/RY/bndj/eDf2ykefpj2RJ2CvHPo/1N6+knnsPSzB\n",
       "ux32405IGQ/B3Yf9b+/G3suqY3siT8A+dpiAE++d7jy/FMdDFKq7YT8ZeqB88mIA9ltFfIzc2xN5\n",
       "AvapwyBnundAdHbhrYyD12E/eTyJz+Tfjr30MaBrT+QJ2Lv0eu7uIZ3F3oTAXgqv2L+8bZ+XADkw\n",
       "kRuFx7B9LxxejGL3S9TMFSQNgL3f5N/ekx9oH4tvrYn8vH94jMhhTC7K9FWfM7AH9j3FPrryrYk8\n",
       "wMk3DjOazHUXdAL7nn7/nbwce+pjeq41kQdgzxzGOth1d2gD9rD2PXnZQdSayAOwpw4FRK+7HSuw\n",
       "B/YDAxUfmMgDsE8ctmRIrrt9w82wP3gbfmDvoxfKmsgDsI8dUI6B/bevCexXyfiYr2NN5AHYu2yy\n",
       "euENWYE9sB8AlR2YyAOwTx1QToH9TbD/AeyB/TL2xgF7A+xh7W+gyAf20aOxDx2wD4E9sAf298fe\n",
       "pYpkwB7Y30LcB/b8e9h7m5Nvxz5yqE4RsAf2NxDxsa2WNZHwPnPybWEz/p///HV1ObgcC+yB/ff0\n",
       "p//8zwMTsYW1uJWTD2v/POzf3pP/HWsP7IE9rD2wB/bAHtgDe2AP7IE9sAf2wB7YA3tgD+yBPbAH\n",
       "9sB+7XNCTz6wB/aw9sAe2AN7YA/sgT2wP/ea2FQL2AP792GPTbWA/RL2tqn01h9s39uW6GTZPzlU\n",
       "p38C9rD2N9AvPrC3JmJbQmObq+/6Paw9sN+EPXry4eQDe1h7YA/sv4f9bB4IsO+30gSwB/bPwn42\n",
       "4m1CgP1MaQB7YP9k7CMF7FtxCicf2L8B+0AD+1axAPbA/rnY865qsgjY1/rfKgD2wP652Efdnvsi\n",
       "Afa1/uUXD8kj0DWwvwH2Pc/25dj/a+wleVh7YH8D7CMG7AvJfxHAHti/Bfv9nXrPwD7+1wDYA/vH\n",
       "hcewYa84sM+f3f8ngf2Nsb9ReAz1+/p2tcuxC9grXShNy7+qYWrSjVZv1Dew3675hP7yfzwl/3rs\n",
       "5e+/H5gIwmN4sva7G/f3tfbdW2D0QsBSHLTtH4797q78m2I/4Dz92+ALOPnA/tnY7x+4vyX2Q2f/\n",
       "xx/Db4E9sH829vun6d0R+1ET/49fu3IG9sD++djr4H3Yj/v1WNgvaGAP7J+OvYcleLfDfky9jIcl\n",
       "DeyB/ROx7y3FScTrsJ+MOFI+eTHswB49+cD+mtjbDN172vaDx5P4TB7WHthfHnsTAnspgD2wfyr2\n",
       "Zm5FKA2Avd/kgT2wvxL2F0QQ2AP7y2GP8BjAHtg7C+ExYO1fiD168uHkA3tYe2AP7IH9t7FH6Etg\n",
       "D+zfhv3RGQP298J+siYF2AN7YP9w7KWOgT2wB/bvwt6Eo6nZwB7YA/unY68nc7OBPbB3FsJj3Ar7\n",
       "Yke50fZSwB7Yw9o/G/sC+dHac2AP7IH9o7Gvdo3WEtgDe2D/Guxp2SIz/R1lnxYeA9gD++divyk8\n",
       "Rr3bhNSHWPtrhMcA9sD+DN0oPEYzVUdFcPKB/T7ssRTnNk5+Y+VFDOyBPaz9O7AP2zZ9QoA9sAf2\n",
       "r8CetpcgBtgDe2D/DiffiVZgD+yBPbAH9he9ZuZXwB7YA/srYy9DGuvY7zWF1oniH58TevKBPbD/\n",
       "xjWjODZEHnBZyZmmAtYe2AP7q2FPYiWPrNYxlcAe2AP7S13TJEfPZ+SaA3tgD+wvdE2qjr+6jENg\n",
       "/1TsER7jhtj/48+nXP/fEmBvEcJjwNqffU16VikxZntO6MmHkw/sT72mYaflIIlg7YE9sL/ANYcL\n",
       "pw9u3+vvYB+fuwDb/XLAHtife011ZhmZ8CP2XggdJiIzxxN2vtyqyxFgD+yvir2MT82D/og94x7e\n",
       "LsPnHn2+R2783WN9uYQAe2B/UezDc5vVsxN1fWBP4rQdhYzK3gqhVFygJ5iO2UcEjXs5GJ328jq5\n",
       "XKSAPbC/KPaJPDUPXM0+px8erH37sCsHRhTDhSwrUovXVIPYvSBE1uV15nIa2AP7i2Ifn5wJfZST\n",
       "z9s6r8rUqmUAaVqkvwapcMOUpR72M5djEbAH9pfEXtCTMxEfhT1rXyhp9WfJAM2rEU9XJZDKPdjP\n",
       "XE4kwP7+2Gv1QOw5O7kw5hoVXrCPmxzVPWq0fA3QjASGBnJF91oc7sF+7nLrB/KA/VWxl1n8QOyj\n",
       "7OTCyMga7AlLAqFY9TUzpoiwKk3tvcui451KwUxiapeFGdI+a9V/k+n8/pQJ2AwPpMwJj7P6TcQG\n",
       "jk/RRShMcQWe/1niLZUxbZcky3NFsvErani5iL0F+weHx5DBA7GX2cmFka1y8lmQ5PSywl0WxdI9\n",
       "kdcGFkRpU/fy36kpcl9UEp7mfyZtle9bbZLlRxEVzhl7VdEdclrRGY7eZLqYtEyyML98WFyY6OJi\n",
       "1ZtGpkXNYtkk3vPwcvra2P/09D3CY9wN+9Mzsgp7EQaxru22LjnTjESBKjCiOZ2cB7poOIvCd5Bp\n",
       "cbZqodVRH11rRqKSzfL3qg0ejboAkvJzlpSVlBRZCJp/Bkk1WDDGfny52jf47OzfKDzG29r2wP6o\n",
       "TAwCXRfYExk0bwJVnZAWrn1avAGKP2Ru53nZRJHNEbp1qHuD6Sqxt07K4yvbouoaN8K+PDljNetN\n",
       "K6L4QmaVzR9hP7lcFSVyhUeFtj2wh7XvDcelSWVXTf2dqDoHqj6JwvJXR/QI7LAPZ2x92xdp2j9k\n",
       "1UMw7vCvsTc19lF9hcL8k1nsp5erGvcrJgkCe2AP7IPKnw9au8qK2lB+Z6oESuALl0BWR/RqZOvk\n",
       "l9AJm4Nd4M/LV0i9nVikF7Fvrb2yWPuZyxXe/apJgsD+qtg/syc/OL0nfx32rc9e/ZQWHxNawVh4\n",
       "5uUXhY/PZPmQ89dAVFeYuns/IGUSxoZTMSxQoC9pzWSYLGIfVJN/eTURL5m07WcuVw/cr5gkCOwv\n",
       "a+0fOW6/NSObC2Md9h1QqmRdNf8kOe+scfVNHISkxDzK89PkqB6IE1oVsnemx7GJSajaPf7UaLgt\n",
       "7mNfdDikxTXjar5/2ZKgvXzPXa6epreCaGAPJx9OfsA7fBhrBsslZSYS1JDmd0nDqPjTMFJ9XdWc\n",
       "6lxdhedY8ErC/JCuJzAY7vFJaJZSEiX5nwGLy+OEYozWB0lVjtt3Xfdzl9OzfQbAHtgD+8DXUpyO\n",
       "trUrXlV/YEt4326kXoK3ZpIgsAf2sPb7tHpRTUps7wAvqjcht0wSBPbAHth7xD5Yuen/YKDeYd3M\n",
       "SjUbmFgmCQJ7YA/sfWIv1yFstPurwkEuG3cAe2D/buwN2X8RsWqLLNG7kvE/jZsG78Ee4TGA/T7s\n",
       "XymEx4C1fyH2CI/hiH0MJx/Yw9q/DHuTAXs/2Ls17sS3sRfuB7hgL44qDGDvAXseAXs/2Bs3x2Dv\n",
       "vup7sf+c3WkOHbB3Kw2XwgD2+7GXRr4Ze0F1llFKkyTci/3K/Y8EY6raYcmEXrE3VClqZu6KUJ2m\n",
       "+Scap2k4zG5xYLkFTEDTLJ6gN8nheuzXlcamwgD2+7E3gXy3tSdZOUwi0ngf9s3UCqkXHVZZzP+K\n",
       "qlRj6Q97Uk0NN/W00uFd8epTIBM2zm67q9MwfGV9F+McrsZ+XWlsKwxgvxv7SLwde1EjEWZsF/bN\n",
       "zMxoufRNkWC96DRU3rAXmWnSJ9O7aj4Fko6zGzfJqEG267sY53A19utKY1thoCd/L/bFMBqwr4/W\n",
       "u7BvFkmp5fUYvFxvWS+zSqUv7ON2jZbW07tqsW+XlrbZzZrpaMOpIc1djHK4Gvt1pbGtMGDt12Av\n",
       "F3bvJixvXGUzsTfehz3P4j3Yt9se6RWN2qiupL0nQ+u8rp/YnQ0SZJ0FNZO7qj7xnLFolF3eeAly\n",
       "mO3mLkZ1Zy32LqXhXBjAfpW1l0wv9ZOKOcDfhz3Lv+VxaiLW36V0NfbVDgucJllCP/VKc13X0d6+\n",
       "6qJqlIvVSz4HtZ922SQ90Ku7aj4ZPs5u8XuzMUzvx95dDHd+X429Q2m4FwawX+vkG21duBfSTMHa\n",
       "S1N1cqcqEv0atBr7uG3Mfnw+hrabMPUcjLKOO1A/qP1xtzeTyNLJXeXfURr3929qsqvTsfc/vIvR\n",
       "zu9rsV9dGlsKA9ivb9uHWsndiQS3Co9hn5M/xF7nLZ1mlLloGcstTn6z66Jas0Nc3Xk93Fc9r+Uu\n",
       "1Nux15O7Kl8CIuGT7Mq20T9q2jd3Mdr5fS32LqXhXBjA3oXYKFZiP/Y/7xMew/b9MOSFyPoNyJgu\n",
       "HbvUo8cnjVkZ607DKlxFORztqy60lfpsTvNOPs+SyV11bftmOlyd3aZdPV5w1t7FaOf37FNGtpSG\n",
       "l8J4Pfb28Bg8pnKp8NYk8kAnf4C92tilV1d0mX1Y612FTUuqZId7pC3U9M9deqrr0gst2EvZrYCq\n",
       "s9s27dmgqLq74Nus/crS2FYYH8NjwNqPsE/k3kSejj3biH3t1paN2aVCrsq1rumDfdX3OPlV2CUe\n",
       "ta31OezLYieD7LJs1sfv7mK087ujk/+pNLYVBpx8NyefWnjiUReGE9hvw77eWr1ozEZL7Ka059f2\n",
       "91Xf1aWX3wULIi5NN11nHvt4mN1mNk1dM2SvaV/dxWjn97XYryyNbYUB7J269Kyt1HQ6Z+dNk3P7\n",
       "3U56q5NfDz9R2gRGsigMe03q3r7q+wbw8hNjU2z2rmr3enhXpMGepcPsVo0aUXemtxErursY7fy+\n",
       "FvuVpbGtMID9WuwXBvCqbh6SvhN7QeMso02F48XO5tEm7Out1UUSfqh/XCnV9Kn39lVvhrFEvA37\n",
       "/Bkn1JST4sjorki9MIcmaesDkMajZglVLZlay9FdDHd+X4392tLYVBjAfhX20uiPyxqT1zr5H9ha\n",
       "fax271Pat6/6bAEWK1+S7dmN5HIOV0/OdS+N9YUB7NdgL3VoKeeq/75gQ5EA2O87dsO6mn37qs8W\n",
       "II1JqLdnl33I4Wrs3UtjfWFgKc76tv1EUkkR1s85bwEYYL/zWOf9knfuqz6/zD1/j5vN2R03xCc5\n",
       "XL/e3rU0HAoD1n4P9sUWv9UCjLwhOF5+Buydj5WuFO/cV32+AFVKt2fXfMrheuxdS8OhMID9DuyL\n",
       "og6Ick0E2NsNltsuWXv3Vd+7qdbn7E5z6LCplltpuBQGsN+Ffe5XcQrsvWF/srBzLrDfgr0y9gi6\n",
       "TwiPYfse4TGA/fO0OjxGsXuZlo6J+AqDgfAYwN4r9ujJRww8YA9rD+yBPbAH9sAe2AN7YA/sgT2w\n",
       "B/bAHtgDe2AP7IE9sEdPPrAH9sAe1h7YA/tP0grY7y8MYA/s74S9zGJgv78wgD2wv5W1lwGw318Y\n",
       "wP6J2J8QHgNz8tG2f5p+8YH9Lw8Oj4EuvSdij558OPnAHtYe2AN7YH/YNSWwB/bA3q5n9uRH5uTC\n",
       "UATYA3uM238Xe85OLoy5iG7AHtjDyT/zmoKenIkYTj6wB/bfvmZ8ciY0sAf2wP7b10zkqXngc40D\n",
       "BLoG9sD+1Guacw3tODgzrD2wB/bnX1Oe6+XrANgDe2D/9WuqM8to3rcA9piTD+zPveaZ5l7qANhf\n",
       "B/sLzsm3hcdQv6+PvORy7GuxDww7LQdJBOzna/vvvx+YiC2sBZz8F2Nvg9G/GLM9JyzFQdse2J98\n",
       "zX//8ynX/4/E+pzg5AN7YH/2NekJfr5MTADsgT2wv841WXJ0LwjXPAD2wB7YX+maPFZHTtcjCRUB\n",
       "sAf2wP5i14zi2Bxi8iVhMRXLzwnYA3tg/51rypDGOs78Suv444Qg9OQDe2D/pGuufE6w9sAe2AN7\n",
       "YA/sgT2wB/bAHtgDe2B/IextU+mtP9i+R3gMYP8efSc8hm2uvuv3sPbAfhP26MmHkw/sYe2BPbAH\n",
       "9sAe2AN7YA/sgT2wB/bAHtgDe2AP7IE9sAf2wB7YA3tgfxkhPAawB/aw9sAe2AN7YA/sgT2wP/ua\n",
       "65bWA/vXYo/wGI/E/ui3CrBHeIxSCI8B7N8jhMeAtX8h9liKg7b9hbCfzQMB9n0bI2Dtgf2zsGdz\n",
       "m7snBNjPlAawB/ZPxj5SwL4Vp3Dygf0bsA80sG8VCx/Y/wbsgf0lseedI8oiYN/UBBYAe2D/XOyj\n",
       "LnKjSIB9rT9+BfbA/h3Y9zzbl2PP/kG8YI8uPWB/fewjBuwLyb/TANgD+5dgv79T7xnY078LYA/s\n",
       "X4O94sA+f0b/YAGwB/aPC49RYq90oTQt/6q8WkKBfRD86Z8lsPcihMe4hbXvGvdbA0B/A/vtsibj\n",
       "J3lYezj5d8B+d1f+Xa19n/S/poOPe6y9AfbA/vLY7x+4vyf2Q7Of/m3w3fbkdaaAPbC/PPb7p+nd\n",
       "EftRy+THH8OXwfbkaRYDe2B/eex18ELsx/0R/Ql62a7kuY9KD+yB/bHYe1iCdz/sx2ez8MMBTl6+\n",
       "AfbAPrj2UpxEvA77ydCDjMdp77glnqUS2AP7Sy+8lXHwOuyn7XHu85ZYRoE9sL809iYE9iTxe0v0\n",
       "3Z35wP5S2Ju5/bNoAOyl8HxL5tX2HthfCvsLIngRJ9/7LYkI2N8We4TOp8iFAAAgAElEQVTHAPbQ\n",
       "TbBHeAxgD+y/KITHgLUH9rD2aNsD++9jf9VFhcAe2AN7mGNgD+yBPbAH9sAe2EPAHtgDewjYA3tg\n",
       "DwF7YA/sIWAP7IE9BOyBPbCHgD2wB/bQy7D3WBDAHtgD+yOxP55Wj9aeO2DPgT2wB/Zw8oE9BOyB\n",
       "PbCHroD9gYk8APvUIV5aet3YasAe6on7wJ4De2AP7IH9c7DXDihrYA/sgf0TsI8dAqjE1w22Auyh\n",
       "nqIsPTCRB2CfZGx1ObgcC+yh7ynM9IGJPAB7lzgKF465AOyhnoyPmL/WRB6AvXIIo6CuG3IB2EM9\n",
       "sSw5MJEHYO9SQF4KE9hDh0v58EutiTwA+9DBHQp9uE7AHjpciY/OZ2siD8CeO/R5cg/9o5NcEGA/\n",
       "Uyr30UEPdJ9iH/NJrYk8AHvhMMIpPIyGTmLeJgTYB/F9w9Ef9ED3Kc3IgYk8APsgy9abGpdj19aS\n",
       "SAF7UnaVsjCMHoB9dIHhHh8rceyJPAF77bCaVu9feTuNcK+BvSoKRZEa/5tj7+eB7mt4+JitY0/k\n",
       "CdhThxm3dP/s3GktYdHrsS9BSeLwjq7+QQ90l7iPvmd7Ik/A3jiMdZj94yLTWiKSt2NfucUkzVLx\n",
       "BOzF14d5jY/ppPZEnoC9y5vRw1t0WkuCWLwce1p0HQkZCG2egL2XB7qvQH105NsTeQL20qF7Xu7v\n",
       "yi9riTSqbC3Q0quN2Luxl+W7VOcFw8hNsff/QPc1mnz06NkTeQL2+e0Jh6IQPmoJC6K0d9v63diH\n",
       "pY0Po1t25B/1QHe9R3306C0k8gjsmUM/Hdvdp1fUEhIFqqgZtG4yKP5q7G88aH/cA93VV+Jj7chC\n",
       "Io/AnjsUEt9doEUtyat5Wli4tG7KduNW2WZ9A/tXa90DfWLT/hnYB6kDM2nmAfvi9SGLgdG6Keuh\n",
       "LXhja8/u6Nof/kD3KM2OTeQZ2CuHmYxq76zHqpaULqFp7tpDz++NsdfBA7D3/kB3iPjw8ZcSeQb2\n",
       "3GGUk+8dEa1qSVKUaZIE5QQVH+O898Weqydg7/2B7pDx4eMvJfIM7IPUoeMzTX3UEkWL6SksYL68\n",
       "3PtiT8kTsPf+QHcoTg9O5CHYG4ep9mbntPyqlkjKTCSoIb683Ptif3Mf/6gHusc9Zwcn8hDsA5fG\n",
       "0M6G03RSl5cVW7fFPjSPwN77A93hPvmYq7OYyFOwZw4lxfaV6rSWJOLN2N970P64B7pZ0keH3nIi\n",
       "T8FeOvhFcp8PNaklMg5ejL1IgqdhL7+785rJxNGJPAX7/DalQ5FIn7XEhG/G/uaD9sc90M1K1eGJ\n",
       "PAb7QDuYcL3H3Jtxx7WnCV3fnKi2pw15d+oPe6Cb7bQ8PJHnYB85uEZRJgIIuqKkjzCNnxJ5DvaB\n",
       "cmhkqgT1C7qkaHJCIg/CPtAOr0kdooJBFxRP5QmJnIF9Kbr6B9fvuwMcSoykElUMup40PzgRbenV\n",
       "8fV908wIS/HVP7h+33vJObTYOVr30AVb9vzoRCqKwsO+hyAIgiAIgiAIgiAIgiDoZZoO2XX/jNCH\n",
       "CEE7pb+2e+si9mw0ZNftYxxjAA6Cdqocg6OXw37MdruPscDsWgjyw/7lsW/3dLj/ck8IAvYrsW+m\n",
       "BcV4WhD0FuyDVBdKGZ4WBL0Ge1XuiZBgIQ0EvQd7QZs/5hVZevjDhOIBQ9A9sS8NPbMuMapG+xgz\n",
       "XStAhlVHALCHoLtiH5lphx4xNEkK4GXJdrFzO0/a34wG9hB0a+xz5scBGZRqNkGspvOkxcfu3AjY\n",
       "Q9DNsWdRM3gvlCp8+d7+xiXgotw1NI2APQQ9BXuR0uYf5c+ym7An4uq0AvtutzxgD0F3x76NsJpo\n",
       "xvJ/8s7YVw36CvvUAHsIegz2jerItWGclMqd+oh2Tn4GJx+Cnod9Wll90o3VkaT7AV16EPRA7Fnt\n",
       "xvem7FWAm2IAL6dcMmAPQc/CPue+nJUjkjaIWR2hmDGjZLEZfu7oCxZn5QsC2EPQA7BvJFnRti9a\n",
       "+ny0RKe/PBfYQ9CDsO9JDc7gEthD0OOxD1if9MF+e8Aegh6KfWBZkhsmBg8Ygh6KPQRBwB6CIGAP\n",
       "QdD9sJ+JdI+4GRBk1WIYjPtgPw6bgbgZELRg0JfCYNwH+8n3iJsBQduc+Rtjj7gZEPQ+7BE3A4Je\n",
       "hz3iZkDQ+7BH3AwIeh32n+JmLGjsIShUEQjY3wL7D3Ezhq8IrYojw3ozzjHmc4MBJOklLRmjFH4F\n",
       "BOy/jv1c3IzJmXUcjYiWS/WUXI19sag/6rsDSqMiQcD+29jPxM2YtP+bOBpRfqRqvftV2OcyST1c\n",
       "UGzeKTKCmgQBe+/6JfvVBfsubkbAwrAxzaEKiTEl2V0cjYhEXJgCe6aU0vn/fBb73snV52r5biiB\n",
       "PfQU7H/eG/s2bkbRq99M25MhT3Pai0gavTgaEcmd/Ih/sva9k9uyaz4wOPkQsP++k9/GzQiSOGzs\n",
       "vpCmaPAXW+f34mjk2Oewm+QD9r2T2wZ+7RYQjS49CE7+BbDvDkizzkLTYvvsNBjG0SDldtrxx7Z9\n",
       "e3L5FlDti0VgggAE7C+FvZCB0G3vXhEsQ6mA9ONoFNgHPKqPYXbs25OLOQEt9PkLIP8fS/0gYH8d\n",
       "7HXuiDNSh8cQxU1pUoDeWehq0a6xTO7pxdJsT5a0tymvSAghCvYeAvbXwT6Mqo78MjxGER4nMCwM\n",
       "enE0iK5W5X/EvjtZ9iFPFzYtgCBg/5W2fefMDz92cTQWhSX7ELC/L/Z8mx8O7CFgf1/sN26rNz8n\n",
       "vxF68iBgf2knf5sANgTsX4c9BAF7YA9BwP4syVACewg6FntxscgSztZ+GjcDYTOgF2lTGIzbO/nT\n",
       "uBkImwG9yaBvCYPxAOzHPyBsBgRn/nXYI2wGBOzfhz3CZkDA/nXYI2wGBOzfh/0VwmaQMMQ4AgTs\n",
       "z8PePWxGNE1ksCPvcDOepVgaPDLlUIKabuWxQh+jdKS29QHj7Bphz3f7s1uJzKdmPpzeFMj0ycVr\n",
       "ymDxKhCw76kLm0FURsOiU1/3IZQs1eWm+Wm1e04x/jeJf9GvfsMxgXCmr9AkihphgjRPqShT3u7U\n",
       "bQVLs1jReFChP449lO8yxkx3NzKM57LLhD3f7c99NenUh/KZsptPbe5V1RtQbQpktdZfBQL2A6K6\n",
       "sBlRdYO8qodNrIwg6QfHkTToxb9o3HPOrDi2H5v0ZELzbEQJK9b0kLym5x+lzUI1J1W7dwu2Avs2\n",
       "30VOi9AAPGl/MdV+vqPszmHffJzDvk2nK5FR2dlS41OvRvY8rbpAqkPjNP+vJrgdX5XFTodJErhe\n",
       "BQL2Q3VhM1TccxI7C1xjX9Wl0glt41+07nksbTg2m2216bGK8bA8sYzBE1qnCLYnmSJX4eDtkHw4\n",
       "pcS+2Owv6G47qnEdZncW+zrfs9a+TactkWHZ2UshnnSijLz68oVVHMzzkmXNy6DEvvg2LF61gYhc\n",
       "rwI9BnvbPvm27y3Yd2Ezage1/LOLlTHEvqzvbfyL1j3vjfsXVZGX+/CV54nKYLXpyZDwpjYHc859\n",
       "WLZliw34e5kosTfS0piYPaW4vCg3806jMa7D7HbYT/P9GXs9KTt7ajPzI3Rl8tO4LIqyQET1Hatu\n",
       "sfhUYF9+ayryuetVoI8Y/7z5PvmO2LdhM2TGW4vVi5UxwF60jdoi/kXnnkeqz1H+Zc5b7a+WKXXp\n",
       "RaLrwmJy2v/EC+NGRdGJ1ctE4eSLxISz2M+fUpBASux1OMZ1mN0W+2m+m59Vu41IOMK+KpF+2dlL\n",
       "obrwIK3q9JgFXI8KhPGgDTbQOvmMyLC3x/HCVSBP2D/UyW/DZjTN03K37HAe+66dXFTJzj3nSZ8j\n",
       "IQsu6vAa5SFdemG3cDDOsmwSPMfUl2KDTJgcFpZYurPmT+mwT80Y+2F2W+yn+f5s7auk+mVnL4XB\n",
       "hXunl6EG8scwKJCiFT/BPjBalxHHJHO5CoS2vU395mkvVkZAkw77iDb1cNh8JMkQxyJuBq1oK21T\n",
       "lx4hfLHbPj+pbLqaQSYKJ5/xyIr9zCmdk59NnHySWNr243x/xr4qkXHT3pJa/8K9001WzJlaF4W8\n",
       "fgCkDHCy9ioQsLdiX9aoymvvxcoI6m5r1qtQk/gXQ685N7C86E4jbT9TL726Sy+Q1mpd/B5Fg5MK\n",
       "7Dlnchb7+VOWuvQsTv4035+d/KpE+mVnL4UZJ788PXKYG60nr775q0DAfhX2ZetSNuPOPcJ0aUpJ\n",
       "V+um8S/MwPEsw2HyTPZ6Cbr0BCsrJ5uO2ZXnh5TQgCg2PKkawLN06c2fUmJf5KvYzb++rQbXYXb7\n",
       "2E/yvWDtqwT0pOzsqVUXnmJcBCmKNix9Xn0VCNjbFFHWdpq1sTLK6pyr/ljOfJvGvyi/LuNtVFUx\n",
       "UiaipnBbDR+nJ1nuic/14VfnR3GWJqOTeGxiFkil4jnsZ0/ppusU76cyacHirHrbDLPbw36S7zns\n",
       "m3TqBMS47OypBdOJg+U3kqYplRuxX3MVCNivkiVWxvxUkMbMRIF1us6q2BtlIzw0nzIxxn7+FDpN\n",
       "ej67rtN1honOl8h8anLa6N41t2b1VSBgv0tK2L8s420M6xx38TereB1J5FzlZ0+h06TnszuHfZPv\n",
       "ReyrRGdLZD61uUOV8IX90lUgYL9LbOqMNtPKw2lVdHJdKy9ZS+cqP3sKnSY9n9057Jt8L2IfWktk\n",
       "PrWQryzQbdgvXgUC9rskl78RHw72pY/3Yo3QM86uXMi3WHML8lPu5GJhSE9lII8ucmD/YuwhCNgD\n",
       "ewgC9mfJFh7D9j2whyDnMBgPCI9hO2EcNgOCbiyvYTAe6+RPw2YgWg50Z4PuMwzGg7Eff49oORDa\n",
       "8K/DHtFyIGD/OuwRLQcC9u/DHtFyIGD/OuwRLQcC9u/D/tBoOUvdhLx43Zi9qdgPj4r0ww3nQ8D+\n",
       "8di7R8tZL7PUYbA6LpZx7HborQXkavQFBOyBfWPo2SFruaLFlsNa7KPP7Y/Rhn/dNhh8tIk3BOyB\n",
       "fYWVWdmhN8bv0z5ucjnVldjLz3kj0Wg9bhs1osYeYSSA/f2wdw6PYfvhU7Sc0ZwdoVXhBoQpncV8\n",
       "MNJfnEmG2+OocA32Mlku7SqVSTC+oUbYh2qEfYitJt+H/c+HhsewWns37LtoOU04xia6XETLrSHq\n",
       "PTSXsK/OlKy/+006S/HE2ovl0k7b05S2uhnj3TdSOcS+/QIC9nDyK+6aaDnNfs5tdLkodwO64NRL\n",
       "2Lc7QZskHH9lOanBfjn0a51KG4xv4mbMYh+HI+xjtO7h5AP7gepoOYLpuNg3t+sAi0jERbWFtVJK\n",
       "5//zWYKbM6vSS+qQmqz2r0NijPqEvQlN4VhIZRSLelw3qUgn7BkdYc+w6hDYA/t5xVEw2I41IrmT\n",
       "H/EV1j7uD7KFZSCXysDKkBeRKlOxjH0ZGFtXW2RmcsZuB1UwvlnsiUlHc4ubsPQt9iFmIQJ7YD+v\n",
       "ErhedLmoDHFdh11bxL6Hat7AL32CMtZGIKSJ+7/PY0/KEs/dhCJQ1CCTuuWZaBnYrP2kaZCOsI9S\n",
       "4AHsgf2cysCM/ehyBfaSNcN7C9jzliqhmgCbad0gKKK2lb+XsaHSNs5UH/uwPJ+qIKQyGlDdpFKP\n",
       "zY/SyKaqb3SEPcmAB7AH9nMyNJCkH10uKmPiRvXwHrNjX51ZzPajZAxsEZ1OqYB8tvaxCYyoNgHJ\n",
       "L1r1IzSp9IPxfbb2fGztOaw9sAf2s1KmHK/rprxVCBpLd1gyPlPSfryG2j0vx+c0iRaxL/sGRCqD\n",
       "Zgwhbbr6mlT6wfj6bkbzehg5+Xrs5GvgAeyB/ezPKiRBL7oc0dX0nc/YV2fKQX963aHPy8CULLS1\n",
       "7aXKCjaZMcU7g+dueqrK1TMk7aUyCMbXu3A6PwAYJiPsQ+wiAuyB/aJWRbH76GvPj5lNrX1fZQNe\n",
       "0CpCLbel0rtw+3ooU1TNbMN62K/DXmFhMbAH9j70AXsy61erRexL1yAIC0Zrd38ulWHfYvl6KO4r\n",
       "7N4Qmo+w14gbBeyB/SHYk6RReRlNlp/W3MS5SDFT2mwmg8p0f0ilej2I4uUQsyb+s2jeFQ32Ak17\n",
       "YH837J3DY9h+8Iv9p7Q+rH9ZXIEX5y15vSaV9vXQTjYMeouAGuwV5ua+D3vXMBgPDo9x6kYzidiM\n",
       "/dpUutdD0SURGln1EARD7LEtMKw9nPzTvJTEB/bSmdnuRVFjn2BbLWAP7M+SWNrNKop8pDIj091k\n",
       "NfXIgHpgD+yXnGbeHIloedCyFgPQ+TMdWgL7g7FXtD1yHC0PgsattIUAdP70cc00sN+JfdRuQoNQ\n",
       "2dAuD9uj0hDYH4m97AoY2ENXwZ5/qIvAfh/2NF44UtC8LUcpTZL5ly+PEVkH2B8imgD747AnGV88\n",
       "klQ9fCK17FQD7IH9IRJZBOwPwz6Ol48Udcd+mM3zHQN7YH+IEg3sj8I+6hn7RexJpoE9dCIrJDMv\n",
       "xP7g8BgNtTpYhz3PYmAPnclKkm7IwuvCY9h++NNvf1r5Rl3CnuVNLR6nJmLFLhxSmXqDm1iF+T8j\n",
       "oADsfStaat3/8huc/M1OPh3sU23HXppqmC9VkcjCgOjiwHIPnLj8Z3yVuFPi4OOhE1nJYrTtj8Be\n",
       "ZknwEXvNGGvCTuu8TZC/KDSrDic58LRqAlxkap9rFF+GKYnXxZ5mBNgfgH04dKPmsR8ExKDVcdVp\n",
       "Red+beczBeyBvWfxjAH7A7BPBj7+GuxV1eiqYCl+arBPgD2w9+7lp8DeP/ZyNCi3Ans2sPbKwdqH\n",
       "zGUfE2FPjzA1XJ6lZjAOVRSGikeMAPv7Yp/YvXxgvxn78RSctdgHqWob9I3bTz7dTv3iZswsDPm1\n",
       "Ee3DmTFb2cS0Gy3PSmYwjopgXikPIuYb+6jYvqPNJ7A/Usbu5QP7zdjTUUfc/OTcfneqVjXDpHkH\n",
       "xHFR+6nl8RBD602469jVBc7c3iBoItobPR0TJMbUzskomvYc9kFCApkf9mlo0RX7qNrCv8lnv/4o\n",
       "HkYM2PtlIAb23rFPs09HChpnWcs0p1lKq9iWKjd3JTGJjDg3FniUap2AGtXyfWHvbGgj2s9OCYwc\n",
       "sM8PLSDUQegR+7BZkdTms5e5wr/QwN5v4z6TwN4z9uOm/e6Ft1VUexqYsAqxY3rIVaiK8jGmVhPc\n",
       "RLSX8U7sZd4OKF5GdG5vrSJbJC5nIrhgb5JonE+hKhWp0PxjDOy9KrYODAP7rSdE4+73ndg3Ue1p\n",
       "HUFvsA1m1S4nJfZ60QIXEe0jNWel2yB3+rO1XxAXhRsjSOyEPRm/rNjopVm0TUIugb1HKeu8fGC/\n",
       "9QQ17jDZiX0T1Z7UYah4j1wSkw77dGmNRRnRXqhQ2LEPYiN3YF8G4mj+X2/to4TJcT77Lz1aNCve\n",
       "sTX/aayE1oFhhMf48IN17U48nvO8e3edIqp92WVfhqwN4ypaTv5vUvd7V07+0lxrkfTuYhRxp8U+\n",
       "is0i9tlA44Tyc0XU4O/Stuc98Af5fJtOY4VYR+5/IjzGxhPS8ajbbuyLDruiZ0tkRWR70ncm6sDZ\n",
       "H7r0BhHtrdZepGud/Nnhf1oRX+7d7diTT5qo3ov5BPbebJ91j144+VtPmHST7sW+jGpfWPwwKYe4\n",
       "+gax7oYzpgl1WT5V1vzR2tBeRHsr9mt68uuHOtecCCmhAanC4TqP24vSb1nOJ7D3psw2IQTYbzxB\n",
       "TN6ke7EveY7LDrOy8S0SMsa+mK7T4UJSUf/ROiD2TdgFizNmnLCfG/4vz8/SOqT3hll64kM+gb1H\n",
       "aVuDENhvPCGa7JfjfedcyYrmNJ9BdZc+Y8+jajsAyzh65wQsYN9tJA59jZXY1pUP7DeeYCZToI7c\n",
       "MJvrM7FPi2ZhYBn+z8+IVmAfxLJueAD/r7FCbdNzgf3GE9hkcOTQffJj461k4ugT9qIaUZgf/s+d\n",
       "ALkeexJVR49GFYD9KVK20GzAfuMJdFKix4bHIJ523hJkprE9xbhoW8wP/wej42WiwpDyctCdmMgU\n",
       "6RMWhY2Tr2Htv8YKs83KB/YbT0gmi2UfEBWnxV6R9cfzuPT7RVy1Cgorr3u4A/tvYq+BvVfs4ydi\n",
       "b2ramQzM6uOLEYhqxV65ODD3E0jcte2B/RdZMbb5OsB+4wl60lvynBh4cZZl6/sQuWqwl42Vh7W/\n",
       "BvZhlgF7r9inD8beSZJqwrUKWBoF3ITlKuKibV9tLkBMyrAfOLA/Sd7CY9i+TydDooh4C10M+yg7\n",
       "OAzGz/dZ+xDYn6tsnYD9Z+zh5G88IduAfYwdJ3dh7/GoAyU+9WacxwoH9t6x/6e17YdGigLdF2A/\n",
       "3qP0i57xL7ZttYD9Zuz/7Ig9Zqm/BPsgDYH9Y7GP3Jx8mYYg9zjspfCCvfQx7MCXa8J5rBBg/23s\n",
       "6fZFdLPpEmDfV7tKeVdFDP3EJ6IJsAf21a/b+/NmV7wkPrjPvqBDsO82H9lTEa1LV1zf00sbnwH7\n",
       "F2Ef71gxP4t95CNc5hee2jHYx8LDLRlvsQgTDeyBfRfv0h/2XoJJPAX7kHlIn9vDSbhXPwPsgX0Q\n",
       "74G0h31vG20fk14fgr38i/SQvs78ReNKUmAP7Bff/i7YR106IgH2tf744SF9j8a+8O4iYH++nOfk\n",
       "H4s93VWj5rHvtWdfjv1fUx/p08xnMK6FxG6I/WPn5LvG03DCXu7rK7Jg7yFC7DOwT//mI32dKY+3\n",
       "Sd2Dy5+IvWu4Czj5W7APs+gA7D106j0C+x9/eEk/y4zH2+TuweXh5D8M+2Rfq9GGveLAPnel/vnX\n",
       "C2IfWANRAfsbY69+FyubAzMxsbdgr3ShNC3/qmaVkG6OyulzZ7bj4Gmmj+0mdiTvdfZ0YvXyzwsc\n",
       "J3//PQD237L24c6RIZu139+4v6u178H+13RI/g5r7xVHY33osPbvwJ5m/BDs93fl3xL7oX2v+vO6\n",
       "766CPbH25QP7d2Cf7iwcC/YeBu7viP3QqW/785qvr4J9YJ0GAOxfgf3epr0New/T9G6I/ej8P37t\n",
       "PZJLYR/bfDxg/wrso70rPCzY6+B92I87IVk4eCb7sP/h9UaVa9xJYP8o7NXeud7z2PtYgnc37MfU\n",
       "j6JzFj/vwP43rzdqXbsP7F+BfZxF3rDvLcXxEUTydtiPvqLcX/q+sSeuIWmA/aOwTzPiDXuroXtN\n",
       "235Q5EngE3u/Tr7MMmB/slyn2Duv3XHAfvfKrlnsTQjspfCKvedpNJnldX8B7F2X1rjO4Ye1D8Tu\n",
       "uXBmrvrQANh7Td879trSuIO1fwP2UaaDqwrYH+fkB7GlKx/Y3xn7teExjNd13MD+NtaeWkZwsE/+\n",
       "G6w987YxI7C/Ffa2fXhh7d+APc0osPeC/bGLCr1jzyxuHrB/A/aJ111bXoz90Rnzj70G9q/FPgb2\n",
       "78TeWObrAPs3YO9zH2ZgfyT2nnvyQ0uDA9i/AfsU2L/T2gP7d2NvgP0bsY+A/auxD4E9sAf2J8g5\n",
       "PIbth/3YZ8D+ndjz+2H/823hMWw/7A+PMZ3PB+xfgb1tjtyFw2PAyfdo7f8M7G+B/Y/XYI+2/QnY\n",
       "R8D+jdaeAPvHYb8+PAawB/arPGz/QngMWHtgD2sP7IE9sAf2wB7YA3tgD+yBPbAH9sAe2D8Z+99/\n",
       "J8Ae2AN7WHtgD+yBPbAH9sAe2J96ybttqgXsT5dzeAzbD/vDYwB7X9gfm/6bsPcVBgPhMRzm8wH7\n",
       "V2BvmyMHaw8nH9hfB/sf50AH7O+M/drwGPuxn80BAfYD0ypu4+QjPAas/RrNhr5MCLCfKw607WHt\n",
       "H4x9pIB9J04DYA/sn499oIF9p1gAe2D/WOx5VzVZBOzb6scCYA/sH4t91G2+LRJgX0v+RfrAHj35\n",
       "wP7y2Pcc27dj/8ePwAf2sPbA/vrYRwzYl/prGgB7YP8S7D106j0D+/RvwP6V2E+6ty4VHuMo7BUH\n",
       "9nnD/v/8EQB7P9jfKzyG1PFR1v4K4TFK7JUulKblX9UoNaHAPgiSf/71mtgjPMbBMiHlL3Tyu8Z9\n",
       "tlVfwH6HbMl4Sh89+ffCXgckeSH2+7vyb2rt+6j/j38vP8PJfx32hdUbIfCo8BgW7D0M3N8S+4F1\n",
       "D/8nH355fewRHsOPCuRHU9TfYO09TNO7Ifajhsn/+q9g+DaAtX+Jta96trR8G/Y6eCH2I+rZ/xbB\n",
       "kHtg/xLsabnm0piXYe9jCd7tsB9RL+NhSQP712BfP3qp34B9bylOIt6H/fjk8QBOhjn5b8G+aeKq\n",
       "6AXY2wzde9r2gyJPPKYPa38r7BsrL+JXYW9CYC8FsH8p9mHb2u1vM/Uo7M3c/lk0APZe0wf2d8Ke\n",
       "tjdGzEOxvyKDwB7YIzwGsAf2N8Ie4TEOt/YIj/FS7BEe483Yw9rfA3sEugb2K2A+LzwGsK8L8hmh\n",
       "LxEeA9Ye2F+mLNClB+yBPbAH9sAe2AN7YA/sgT2wB/bAHtjfHHssxQH2wB7WHtgDe2AP7IE9sAf2\n",
       "wB7YX0qPCo8B7IH9OdjfKzzGgdb+CuExgP0tsUd4DDj5wP762KMnH9gDe1h7YA/shzozPAawfxT2\n",
       "CI8Baw/sYe1h7YE9sAf2wB7YA3tgD+yB/bOxlyGNdZz5ldaJ4h+xR08+sAf237hkFMeGyAMuKznT\n",
       "VMDaA3tgfzXsSazkkZUiphLYA3tgf6lLmuToPYa55sAe2AP7C12SquOvLuMQ2CM8xscfEB7jrEv+\n",
       "48+nXP/fEmCP8BjHW3uEx1h1SXrWy5Gxk7BHeAw4+cB++ZKGnZaDZP55IDwGsF8BM8JjeLyk1Cc2\n",
       "APV3nXyEx4C1B/ZVS+jMMjLhZ+xt1QTWHtgDe0+XlPGpedCfsWfzI30JAfbAHtj7uWR4bo/w7ETd\n",
       "VdhHCtgDe2Dv55KJPDUPXG3FPtDAHtgDez+XjE/OhJ59Tj9WYM8iYA/sgb2PSwp6cibizdZeJMAe\n",
       "2J+OvVYPxJ6zk0tjrlGxDvsgFsAe2J+MvcziB2IfZSeXhspWYc8NlYKZxASEsaR6EUQM2F8W+8eG\n",
       "x5DBA7GX2cmlIdZhz4KEmiJ7Yf4pSu39Akdh7zitW+zFHuExmlm0D64AAA/eSURBVIqF8BgnXDK7\n",
       "QC6m2HMe6KR8SZgeKvXo32dnf394DONoMLhZiT3CY9ysbQ/sj8N+3JMvczvPyzZIAY+qGxSErnRQ\n",
       "dlv7pj1B9FqvZjT/EG17YA/sXa190+lQAZ+yPoxR7A172x4A1dRFSVWcrW7MxBLYH4k9wmO8AXta\n",
       "kqcL0HleEWTj3QumY0Y2Yj/xsCXTZq6KNceZ9diHg6ENhMd4iLV/Zk9+cHZP/lrsSwtfefr5G6Dk\n",
       "tR64j6MVdXC9k280mxybBu7YB6mEtX+gk//IcfvN+dhcGuuwFxlp63bCgtK7r6fprSDRrW0fjsHv\n",
       "mhEu2A8aDMAebXs4+c7Y83KwzpTvFq5M+Xyr8TueBp6xLzhX/RqkmAP2QlFaZp9RYA/sgb0D9mvm\n",
       "5NdL8AwNJPGMff4y6e/o3dntz9iHaZOZMAb2wB7Y72rbT1Xv6a1MwOQB2PdmDetoNfakq2JRCuyB\n",
       "PbD3i32zHwhRIQk8Yx/Fg7A9KZ/DXsa6U5MFmlFKTX1RYA/sgb1f7E3oUgfduvRGEYHmsZ9V2jXo\n",
       "Oaw9sAf2W7E388acBsdgPzOA5+DkZ93yoEi/GftLhcfAnPz7Ye9Bq+fkz0/XScxq7JNuHDNM1mCP\n",
       "8Biw9sC+fk5fCnRtmZzbDcWx7MOyH1JM0pHlxRSDkw/sgf33rP3OpTikdtcpTbOYLueNKBOa8mKD\n",
       "2J7A3j/2x4THcFthLb6MvXA/wgX74wrjm9ivXaSuN0TpEXpNMwPYX8zaO66w5uar2K/I7SSHDtgf\n",
       "WBg3sPajZTXrpMI1OQD218J+5Y5NgjFV7fFkQp/YG6pUPf4rqM6K0eAkKa5AqE7T/BON0zQc5rY4\n",
       "UJdxKwtndEreOIfrsT+yMK6EvdQzQ/GFEmdnbrTBJ7C/BfbNZBCpFx+4LMxAVCUbS2/Yk3KBaWDq\n",
       "qkeysk9JpGWmePUpkAkb55ZldXtyFL6yvotRDldjf2hh3MHa52XtesnRiwLY3wL7xkWLlkdsTJFi\n",
       "veg0VL6wr7aOKpMn1WdaP1rW+xRIOs5t3KQymm9S38Uoh6uxP7QwboF9IBzbcEYEwP5+2DczrNTy\n",
       "No28nMBVrzVPpSfs43Z+l9Z97Emm+9gHapzbrDFKo7kszV0Mc7ga+0MLY+aCCHQN7L+CfbvCWq9o\n",
       "1Ua1ceoGfZsZ3Q4RHLJ+er2FnqYHOi+Rqj7xYgfZUW554yXIUa6buxgOS6/FfmdhfCiNe1h7YP8G\n",
       "7KupFpwmWUI/uXdc15W0m9Uhqka5cBj46T012mWT9EAvmu5R+8nwcW6L3+vrhf0h495dDJaAr8Z+\n",
       "Z2F8KA1gD+yvgn3ctmY/3p6htIEtHtZ0F+r7tT/OeNfKT1vQpam67vPvKO0d0+VWp2Pvf3QXgyXg\n",
       "q7HfWxjLpQHsH4m9t/AYPubkr8W+WXyh1uwQV3deDxZY55XciXor9lVrXjPGmrHz8iUgEj7JrWwb\n",
       "/eOmfXMXgyXgq7HfXRiLpfFy7H8iPMbR1n66x65NzVLLXmt2dnl1fXT1SAcLrIW2Up/NatbJ51kV\n",
       "FKLfKu7a9s1suDq3TbN60u3c3sUghx/z4a8wnEvDM/a2fWth7eHkz9R0mfEPN1dW5qRKl6frKvrn\n",
       "Lj3VdemFFuyL5R7Nqqs6t23Tng1vv7sLvsna7y+MReznntOXluIA+zth739Ofu3Xlq3ZpZGo6mHW\n",
       "Nb2/wHqPkx8kBTI8alvrc9iXj5oMcsuyeR+/u4vBEnBXJ397YVzWyT/PM8ac/DtY+3qFddGajZbg\n",
       "rTZTqf3a3gLrXV16OdgsiLg03XSdeezjYW6b2TT1gJnsN+2ruxgsAV+N/d7CQJcerP09sK+HnygN\n",
       "5OKQVRj22tTdAut9A3j5ibExxdawtXtNsuEmrDX2LB3mNoiLxoGo+9K7gBXdXQyWgK/GfmdhYAAP\n",
       "2N8E+3qFtUjCDxWQK6WaTvVugXUziiXibdjnjfqEmnJSHMk5jrOMtr1y9cIcmqStD9CsBw9YQlVL\n",
       "pm7CNHZ3MVgCvhr7nYXxoTSAPbC/CvZbVlgLvaeY5p5asfIl2Z7bSC7ncPXk3EMLA9gD+8tgv2Fd\n",
       "jQp9Y09jEurtuWUfcrga+0MLAz35wP4y2LuvsBZJ4Bv7KMsyszm3k4b4OIfr19sfWRiw9sD+Otg7\n",
       "r7BOhHfsA5XS7bk1n3K4HvsjCwPYA/vrYO+6wtrs3Exv51NbkdtJDh021TqwMID9I7F3npOPnXO/\n",
       "eUnsnHtt7B87J981ngbCYwD7j6bnsti7hruAkw9r/1js0ZOPtj2wh7UH9sB+qOly2vXNAWD/auzP\n",
       "CxxnW/oL7GHtgT2sPbAH9sAe2AN7YA/sgT2wB/bAHtgDe2D/BOwRHgPYA3tYe2AP7K+CvVbA3kNp\n",
       "AHtgfyPsZRYDew+lAewfib3rFPtLhMdYdWNw8n2UBsJjOH3vOocf1t4hPAba9o9q2yM8Bpx8YH99\n",
       "7LEUB9h/hNl/eIzXYi/PzodAeAxgD2v/5UtG5uRMKPLutj2wvxf2z+zJ5+zk0kgksAf2Acbtv4q9\n",
       "oCeXRhwAe2APJ//Ll4xPzoQG9sAe2H/7kok8NQ9czT4n9OQDe2B/4iXNudM+FIe1B/bA/tuXlOd6\n",
       "+ToA9sAe2H/9kurMMpr3LYD9C8Nj2H4A9qdc8kxzL3UA7OdP+Pm28Bi2HxAe45xLGnZaDpLoHOxv\n",
       "GB4DTj6s/bmXTM4qJWZ5waAnH9gD+9Mv+e9/PuX6/2GLowsnH9h//B7hMbxfkp7g58vEOv0f4TGA\n",
       "Paz9Fy7JkqN3JuCaB1/HHtYe2AP7PpWxOnK6HknownsF2AN7YP+dS0ZxbA4x+ZKwmC6mDOyBPbD/\n",
       "1iVlSGMdZ36ldfxxQhCwB/bA/kGXXCeExwD2wP512MPaA3tgD+yBPbAH9sAe2F8de+fwGLYfrhYe\n",
       "A9gD+/3Y+wqDgfAYCI8B7EeWBOEx4OQD+8tjj6U4wP4jzAiPAWu/CTqEx4C1B/Zo28PaA3tgD+yB\n",
       "PbAH9sAe2AN7YA/sgT2wB/Z+sEdPPrAH9rD2wB7YA3tgD+yBPbA/95LZsekDe4THAPYXxH6dgP12\n",
       "7BEeoxbCY8DabzY9CI8BJx/YXx179OQDe2B/K+ylQNse2D8qPMZsDgiw7ysht8Ee4TFg7deI8aV6\n",
       "DuxzcRrcBntYe2C/GftIAftOsUDbHti/APtAA/uu+rHAA/a/AXtgf0nseeeIsgjYN23Yv0hgD+yf\n",
       "i33UBWwVCbCv9cePwAf2aNsD+8tj32vPvhz7v6YBsAf2L8E+YsC+VPo3YA/s34K9h069R2D/448A\n",
       "2AP7Qo8Kj2HDXnFgnz+5f/4V2Dtij/AYh1v7/eExSuyVLpSm5V/V5BTSzVHZqi9gv0PzCf3wlT7C\n",
       "Y8DJv4GTv79xf1dr33sH/DUdvhBg7YH9kdifFx7Dhv3+rvx7Yj/AvOzP632zA3tzDnQIjwFrvwN7\n",
       "DwP3d8R+6Ou3/XnN15vT15k6B3tYe2C/A3sP0/RuiP3o/D9+7RX0rvRpFgN7YH957HXwQuxHp7Pw\n",
       "wwHrxW2MAHtgfx3sfSzBuxv246EHGY+Kek/62nPjHtgDe0/Y95biJOKF2I8dc+4xfZ6lEtgD+wti\n",
       "bzV0r2nbD4o88XpLLKPAHthfGnsTAnsp/N4S9dqZD+yB/R6Zuf2zaADsvd+S8Wnvgf3pQngMYL9F\n",
       "Ino19giP0fiRCI/xJuz9mh6Ex4CTD+xfhj2cfGAP7IE9sL899meGxwD2TUlecy2xI3QIjwFrD+wf\n",
       "K1h7YA/sgT2wB/bAHtgDe2AP7IE9sAf2wB7YA3tgD+yBPbAH9sAe2AN7YA/sgT2wd8DeNSFgD+yf\n",
       "h71NsPYbsOfAHtjD2sPJB/bAHtgDe2D/SOwDYP807PnKI9MsBPZvxJ4D+xdbe2AP7IH967DXwB7Y\n",
       "fw37ANj7xH5qw21Hxr5DKgL7eyjK0i+zwoH917BPMgbs34h9mGlg/zDs9Wrsqe9IqsD+HjKWWJrA\n",
       "/r7YT1136/ZbfmOtAPu7iGXJl1mxNTOA/dYTpq677Ujb0wf2D5eyuHnnsWJrZgD7rSdMXXfbkaHv\n",
       "uOnA/h5KLH2557Fia2YA+60nTF1325Hc5mkB+2crtkzPPI8Vq6MJ7DeeMC1R25HCwx7Ok5QJsJ8r\n",
       "Ft/aVe5pRr7Miq2ZAey3njB13a1JZ9nu6jmJeZsQYJ/b02IOGgvDwxY97Cp3X6te/TczgP3WE6au\n",
       "uzVpvX/l7aT6RQrYB6RoZylS/X0O9g7lLly70c9rZgD7rSdMXXdr0nT/7NxphHsN7ANVlEoSW6IR\n",
       "HYK9Q7lz1/40/7I1M4D95hMmrrv1SLN/vs60+rEI2JcIkjRLxXnYry93Y5udeR4rtmYGsN98wsR1\n",
       "tx7J94/gTaufSF6PfelwCxkIbc7Dfn25U1cP27uszQxgv/mEietuPfL/b++MllwFYTCMIDKDFXgW\n",
       "3//httLunFWHKITGY0kundJpY77wJwIafCt/H37iMbSOvVwUrH96RnV02J/3u8+daqtber5h7EsH\n",
       "7KR7+nROj27lx/AzYYyZRsZwsqpx7E2M6d5+sJGP8bvJnmqrW7LMYOyLB+xSaRp7he7pxfBTwro/\n",
       "rvaNY98T7GdG+N0mt2KQsZIsMxj74gE76Z7GXqM34yzh11kxLiEn3+lm1G1j/zA02Bf6PZ+56pYs\n",
       "Mxj74gE76Q4cwe/mCuH3vIVumeDce5b797R6LrcLsL+DnfM7aOl7TsVKusxg7Mux30p3APtx7vDY\n",
       "L6rBLO3Z93fVKO5vPNsrivOIy/3epRUeFSs2/ycw9tnSHcBeYw/YeYVf1Jrh19M1Wvk3xt4LMuxL\n",
       "/B7Sx6RTsSLzfwJjny3dofdsOVcj/KYlz0yTiMvSqjy4vy/2eqTDvsTvj/Qdp2IFKC0Z+3LsN9Id\n",
       "wj4gl+W/Zx25LEpTQlUTuffFXnZ02Bf4vQP0HRErQJnB2COw30h38K2ayF7+K/yMVMEOMnTVRO59\n",
       "sSfR+OV+l7O5GnugzGDsEdhvpDuIvZoNPvxW/Zqxaez7QIh9vt8NlOaJWAHKDMYeg/1auoPYG1xT\n",
       "bx9+09A09hQP7RF+D1As0LAClRmMPQb7tXQHP/kMBFMz/MxDtIz9QHQqaanfHaQJaFiBygzGHoX9\n",
       "SrrD2AuvaoZfqPOCrSuXwqBwtBdhf87vcI4nYQUsMxh7FPYr6X6AvcXsxwnbvvX/e/Q+iVH9/TK/\n",
       "G3gPBgkrYJnB2KOwX6X1A+zFOAm2NpISfKdJWAHLjC/GPpo8e70Q+7/S/Qh74XsmogXTzlyO/UEr\n",
       "KQNjnyjN/FWbOkCd1UfTZ6/n54mddD/EvnOGmWjA/MHSLALsgTIjF+MXMP3p6/ey7Dyxk+6H2As9\n",
       "MBPfb+ZoQSYB9kCZ8d0Y0+X2/jT2bGwk2GvWlR/vIvy6+KAcYGOjKoi9Zld/PLUO58oBNjYaJW1u\n",
       "EoM/RHXeV2GqZ68AAAAASUVORK5CYII=\n",
       "\" style=\"display:inline;vertical-align:middle;\" /></a><br>"
      ],
      "text/plain": [
       "<IPython.core.display.HTML object>"
      ]
     },
     "metadata": {},
     "output_type": "display_data"
    }
   ],
   "source": [
    "main_theorems_combined = And(qpe_exact, qpe_best_guarantee, qpe_precision_guarantee).with_wrapping_at(1, 3)"
   ]
  },
  {
   "cell_type": "markdown",
   "metadata": {},
   "source": [
    "## Local theorems (for convenience - used only internally)"
   ]
  },
  {
   "cell_type": "markdown",
   "metadata": {},
   "source": [
    "### Match quantum circuit outputs with definitions for $|\\psi_t \\rangle$ and $|\\Psi\\rangle$."
   ]
  },
  {
   "cell_type": "markdown",
   "metadata": {},
   "source": [
    "For the `_psi_t_output` theorem below, the initial-stage circuit output $\\lvert \\psi_{t} \\rangle$ is defined in the QPE axioms as\n",
    "\n",
    "$\\lvert \\psi_{t} \\rangle = (\\frac{1}{\\sqrt{2}}(\\lvert 0 \\rangle + e^{2\\pi i 2^{t-1}}\\lvert 1 \\rangle)) \\otimes (\\frac{1}{\\sqrt{2}}(\\lvert 0 \\rangle + e^{2\\pi i 2^{t-2}}\\lvert 1 \\rangle)) \\otimes \\cdots \\otimes (\\frac{1}{\\sqrt{2}}(\\lvert 0 \\rangle + e^{2\\pi i 2^{0}}\\lvert 1 \\rangle))$"
   ]
  },
  {
   "cell_type": "code",
   "execution_count": 7,
   "metadata": {},
   "outputs": [
    {
     "data": {
      "text/html": [
       "<strong id=\"_psi_t_output\"><a class=\"ProveItLink\" href=\"proofs/_psi_t_output/thm_proof.ipynb\">_psi_t_output</a> (conjecture with conjecture-based proof):<br></strong> <a class=\"ProveItLink\" href=\"../__pv_it/theorems/2c5eaa93259c6328caaf266f7a37706922d23b3b0/theorem_expr.ipynb\"><img src=\"data:image/png;base64,iVBORw0KGgoAAAANSUhEUgAAAiQAAAESCAMAAAD65j5vAAAAQlBMVEX///8AAAAAAAAAAAAAAAAA\n",
       "AAAAAAAAAAAAAAAAAAAAAAAAAAAAAAAAAAAAAAAAAAAAAAAAAAAAAAAAAAAAAAAAAACGKEuzAAAA\n",
       "FXRSTlMAq1RmmUTNIjK7EInv3XZsYK+FpUCc6vXSAAAACXBIWXMAAA7EAAAOxAGVKw4bAAAPgUlE\n",
       "QVR42u2di7ajqBKGBcELCHO6Z3j/Vz1eo4maCJTG6F9rzXTv3WAo+CyqCghJQiqZ3KcsJFByow6t\n",
       "t0EE26csJFg0O7beR+GV2qUsJEKq9Nh6H0R5PFft1IbrieJx9aXLD633QVi2T9nX6XLpl8VVGUld\n",
       "GTss5bH13krh5C5lZ7PlUtWSgBL3VVnx3Fy0b5A7fmi999FKtk/ZTZBwQQDJNy3G8odbR/A6l+bY\n",
       "eu88UQ/jwCMMyTIkibkiJNI5Ave+cPbQeu+Mg9mn7DtI5Oj9an5BSIzTFM8uq2PrkWAXh+gEEj4+\n",
       "Jy+vBwmNIWkMNz+03rov7KEPi9J9GZIkyy8HCXMZ0cOzY+utRfMeHpaK88ZWIOH6cpAYJ6je4OLQ\n",
       "eqvhPN+l7HZI4l3X00HiqDxHGejbSBqf6OHjeMwgZdxMuwaJkIBk9enVsfVWZhCzS9lVSIRppKra\n",
       "P7p8U8HGzqXMZx0EyaKkZO9wcWi9lRlE71LWx5JEOyUntCRUkNjAPreU8w3zyI4xJ3eBJDq8uTAk\n",
       "RWCcUlDGN5Xbp6wHJPGJkgtDkoRmXIgyNUe7JGuQxKdcrwxJFmi+M0e2f5B7ZD547JrVCiQmuSAk\n",
       "f6keLwIDJUG3fiM8/BsR6wstQ0KwDHxCSP6liyzKQ+stGiW+S9lPkEwW+MockLz1QKtD6y36osUu\n",
       "ZT9BMvF0suSKkJBNNyowC6Toskc+PnC0v7wIiU0vCQndRmAX+G46qnRa7oFbHo2mXWo1SwDJWzGB\n",
       "s7yh2i7APaJa7kxyUrnydFO7gvbQevN32yMvZ4n3KFwbEjpLwgKDSkaVmNcecZJ2JSD5AiSh2+4J\n",
       "tusPtLFdygISOkh0oAXXVJa/9NhBVVLttgIknoNtDq234NyIXcoCEjpIbGBWzFJl03x2/hvaHXGI\n",
       "bjZKGph6SKmyaZXHwFeA5CuW5ASQ2F3KAhI6SHjgYHM6SNJdygKSC0Hio4wDJF+BRAYOtqSD5J9d\n",
       "ygISOkj+C1xY/Y9qA6Nz/9ulLCD5eyVI+C5lAQmdJSkCB7sAJIAEkAASQAJIAAkgASSABJAAkugP\n",
       "//OnACSABJYEkAASQAJIAAkgoYRE/Ml3KQtI6CBRf/4cWg+W5DBI6Bb4bjbd7HaVCaab60Cy31Um\n",
       "gOTakFzyKhNAQgvJJa8yASQUkFz8KhNAQgHJxa8yQXRDDMkVrzKBJaGG5IJXmQASakgueZUJICGG\n",
       "5IpXmVwKkiMPZ32+ygSQzOVm524+X2VynftuEN0QQ4KrTADJJ0hwlQkg+QgJrjIBJB8hueRVJoCE\n",
       "FJJrXmUCSOIhufxVJohu4iEZ5aJXmcCSUEKCq0wAyRMPuMoEkJxqnAAJIAEkh0GCw1nnhwSHsy4K\n",
       "Cb56ApDAJwEkgASQABJAAkgACSABJFeBBAt8gASWBJAAEkACSAAJICGGBDdnnR0SXIqE6AbTDSwJ\n",
       "IAEkgASQABJAAkgACSABJIhuAAksCSABJIAEkAASQAJIAAkgeQgOZ50fEhzOuigkOJwFSOCTABJq\n",
       "SFan6QKQAJJe9NrXom+6Wg6Q3A+Sp6/CFoAEkCxA8nRviwEkd4bk7wokampJNn3PMSC5nSXhT27I\n",
       "lm9MvzEkRtwTkpdbwjbcvXBfSJTLbgaJsiLtILETT2TD1XI3tiQquRkkOuFVrXb9ezsdPPMLkOBw\n",
       "1jGQFDwRNRBpM71Uk4nm89VyOJx1m+imHq/K9i6JaOfb/n1nP2BJAMlRjitvxkwPUTDPtjolgORG\n",
       "kIgai7zpQquSXJtMF9vCG0Q3d4KkrF2Sethk+1PGtyZKkCe5ESSyypvZJu081X4AN6RcMd3cCJLa\n",
       "R9Wltd30IqutETAguU90043bowctS1SxbRkYkNzJkrQuay/CJlptu1oOkNwLkjHcLURabLxaDpDc\n",
       "zJK8FNt0tRwguQUkdm2XIkt+AxKs3ewPSZxg7eYW0U2cYLqBJbkxJH4nQvPTQJL7lwAkgWWtn9GR\n",
       "9iSQbGj3rK2nhmR0jXlKAknOjHOMsbJMIyHZsCmv/UCtRSk3x4LbIbFMCGYXlCqYqar6J5ZVVbrS\n",
       "7qaGYY2urHLZHN/Xtp4GksKoWb1xT1OWE1mSwrXk5VUWBcmQI1LmbcNUk5Pm3VMzRQdJYVpGrSkW\n",
       "lJLdT4kq9Wq7teu71j6X6fV5aes5IFFMZG4OyWNP05Z9+dsgyfseTJ2OgUT0PcTfa2ebB/Z7BlJB\n",
       "Bknu7PD8Yq7U8FPdq6vtzobnief29/q8tPU0lsQuQPIgWnNqSApnYiCphj5+v8Ypq+aF7TeWVIoK\n",
       "kmz4+MSYuVIPSBKx2m43vHUvHA36PLf1NF89sQhJOoCfUEMil7YEbYZk2JmXmA2uCe/fuWx89Vju\n",
       "ayHd0wP12Gt2plT3U7Pxh6+1Ww6mSL20f9AnS3/HkiSVaaTS5JDo+tcyqyzXE3dnMySibZBkpSvZ\n",
       "p7BFmr439fjW5p0z0f/hCwkbm1lMsOiUGn6ycrXdTcH+g9NpqYk+mv0QJKJVplTEkCjbef6V4PlE\n",
       "2c2QZA+X5KP+lrFhQCa2q8XDg5GnccqcHNWpZkrVv6tjGyfftNtUyxPSQ580+yYkwkyEfYQkZ8P/\n",
       "PoneConRWg/JgmZKVwHTjenLiS3zYB/dtCeXppT4MLIOiZkp1SKTl3K93erhtby6JIM+T209uyVp\n",
       "jciwDv0cB+dGNP+QVmzFSev1fv6yvNxN3YCMvSv7xm+Vc5dEZRP8n4a/6lQpniMUs8qIW5Ll6Ua2\n",
       "6jwrNfoks9xp3+7BS0pyu+ySvLR1sUHf+GK9F0iGetw+3NbHYR/LyuY94azd+tQHcWKrJXmCRIQ5\n",
       "rn1nK/fhcFrRzZbdY2W1EZLPjqsYey1dgUTV3ZI3/6gmU0ff7odLop8pGvWRGyzJ39NYkpqQ1D65\n",
       "5kIUQxbWNmjoJAISHQZJb7bbKVy9dYjUCAk3RNNNUjZDKPnDuViCpPUsiuaVmpze7tut3fJsM+rz\n",
       "1Naz+yRNiqRLlgyHfcaUMS+4rO1lPc5aCGHq/+RRkJT2MYXzdyPdTYX9dJOWRI5rrYROuFR2TKYt\n",
       "Q9K9VZMB79s9pACHSFxNXJJOn7T8JZ8kyauHys0IqrH1tTpacelnSYqn/IgJnG76CJGxl6/1eZU2\n",
       "zzN4AEIThcB1xczaZiN6P308K1UMkOjqFZIhsm2n2XwIux7HyEZ9hD4lJNrly/UGVbrDPjKdQlKj\n",
       "YUsPSPI6NHRMP/ICdbDIQyApTJ8LSz/0lKzt2xBnmNHQDTrlWRgk9TtVMtumR4sXpYp+uY+VVW9f\n",
       "JpAUw191ycSIt+nXzUZ9jDwhJKxZjmTpu3qdL5VmZSu8g0Tpwa3daEl8cirvnBL/nHRuYvpxMSHT\n",
       "rMZ9ztlO/YuVdnP1tq2/s5+kO+xT6CdLUrtv1itPQgRJwGqdSMkhYVmRGi9IVtqt37f1d7YvDod9\n",
       "Hr/uUsqWUQ28V9nSd+9CxEL2KiTcOWe9IFlu96tj9drW37Ek3WGfWoFimF+75Np3IFG+Y17m9JAk\n",
       "otqQjH6CZLHd9kNbf2/7otKNTyJ3GHivsrnffkQbuck1ePtirjOnrVe7Z23FHtfAsgcLdsvvCwkO\n",
       "Z50dEhzOuiwkOJwFSOCTABJAAkgACSABJIAEkAASQAJIbgEJ7gUGJLAkx0Byp2+EBiRhcqvvlgck\n",
       "oZRguvkVSDYfuPIsC5/kC4eziOrBcT0MEizwARL4JIAEkCC6ASS/YUmQJwEkmG4ACSBBdANIYEkA\n",
       "CSABJIAEkACSgyHB4ayzQ4LDWYhuMN3AkgASQAJIAAkgASSABJAAEkACSADJL0OCw1mABJYEkAAS\n",
       "QAJIAAkgIYYEh7PODwkOZ10WEizwARL4JIAEkAASQAJIAAkgASSABNENIIElASSABJAAEkACSADJ\n",
       "gjI4nHV2SHA4C9ENphtYEkDiKYtbDQpAAkgmopfuKy4LQAJIPkDCxSUhgU9CCUliLgnJv4AkGhI5\n",
       "mmPNAQkgWYKE29GdLeGTAJIPkCRZDkgAyQdIuAYkgOQDJPGuKyC5PiRCApITQ3Ls4awWEmEaqar2\n",
       "D9apw8bODZOvQrIoOJxFbEminRJYkutPN9HhzQkhsYCEFJL4RMnpIDFOABJSSOJTrqeDhBFeDAZI\n",
       "SCLg80EiqQYIkPR/FdeDpJ5vLCCJhWSywFfmF4REukoBkkhIJuF8llwQkkQ7BkjIILHpJSGpfVcB\n",
       "SALELu1UZMk1IUkskS3Bbvl9x+m7H57zq0CCw1ln/3AczgIkmG4ACSABJIAEkAASQAJIAAkgASSA\n",
       "BJAAEkACSAAJIAEkgASQABJAMhl4uUtZQAJLAkgACSA5GSSH1ptJ5XEcsSI8ughItosMHGwJSADJ\n",
       "YZAYj4E3gOSekGQeZ4gywkPQgGS7cFcdWm8mpdO7lAUkdJI6c2i9mfgcDmGEJ+UByXaxgYfPLdWh\n",
       "deFxNkSQnUkDJD6iXXlovagHkX0oIPF8kcWh9RbmrWyXsoCETsrAgKGkCjSkhwcsqbxlQOIZgfJD\n",
       "680k94ilc4K4e/YtE8VdIAnXvHJhnRRab0FDl+9Sds2veV1ILoubQBKueeg6Hd2XLRmP9X8Tv1dg\n",
       "1lVc3BWSrZrngbN8TucdMI9cO4vPy8+/ocTcFZKtmsvAeEHSxRnWI06y8THVvKs0vyskGzW3gYlu\n",
       "S5cg9+GNgM15V+XlXSHZqDkLDFIY3fYf5RGyqPjwZuELseJvu/lRSDZqbgL9T0P3JaH1s/Jdyr7p\n",
       "KmVF69ywVguu7wNJgOYq0P9UlFkt7eGN6mjPte0qnfBGgdSRua6/AkmA5jxwxYxTrrRJj4fJ6A9u\n",
       "uqrgiWi6h/UejpB3gSRE8xO4JEmTmNun7GpX1aa2alYVqn5pIf62mzPed/PatPea03d5RdonwiN7\n",
       "K2IzvZ37JhufKh+eReCU/Izj6q15EWi8C9p9HdIjnpaxsXfXVa3NtY4uvPkZSLw1t4GzhiU+/1JV\n",
       "+5Rd76qyobwsk1QRJUp+BhJvzbPADs+IV+ytx5KMjVy+6d+nuquKSietWaJIuf6OJfHUvAg03QX5\n",
       "fmSf6Styquu6SjFtec66bxE3yY0g8dWcBWbEGGEmbUh/qF3KrnbVUzwv7gSJp+Yq8J1U9NuRlYdt\n",
       "UnF2bN5VBLfd/Cgk5Ra3Nax3rMvJ1bQe5sFGmZJZV6ksuSkkWzSvAs1stcfhF6P3Kfu5qyzJ0VH3\n",
       "VdlN89AX0pJ7JO306GGeeIwpm914c9qjPOTW2l9zFbhUpnY6tC3KfcpCIoSVx9b7PImk+5SFBIsM\n",
       "vOpRVmqnFhUeTy52awVk+i7KY+tt4S/fpywkNDEhCer9H/rmkZHQy+xTAAAAAElFTkSuQmCC\n",
       "\" style=\"display:inline;vertical-align:middle;\" /></a><br>"
      ],
      "text/plain": [
       "<IPython.core.display.HTML object>"
      ]
     },
     "metadata": {},
     "output_type": "display_data"
    }
   ],
   "source": [
    "_psi_t_output = Forall(t, Equals(Prob(_psi_t_circuit.literals_as_variables(_t)), one), \n",
    "                       domain=NaturalPos)"
   ]
  },
  {
   "cell_type": "markdown",
   "metadata": {},
   "source": [
    "For the `_Psi_output` theorem below, the circuit output $\\lvert \\Psi \\rangle$ is defined in the QPE axioms as the result of the inverse quantum Fourier transform applied to the initial-stage output $\\lvert \\psi \\rangle$:\n",
    "\n",
    "$\\lvert \\Psi \\rangle = \\text{FT}^{\\dagger} \\lvert \\psi \\rangle$"
   ]
  },
  {
   "cell_type": "code",
   "execution_count": 8,
   "metadata": {},
   "outputs": [
    {
     "data": {
      "text/html": [
       "<strong id=\"_Psi_output\"><a class=\"ProveItLink\" href=\"proofs/_Psi_output/thm_proof.ipynb\">_Psi_output</a> (conjecture with conjecture-based proof):<br></strong> <a class=\"ProveItLink\" href=\"../__pv_it/theorems/b0e817c48c3002c03c27ced9a1b1585da2d97f640/theorem_expr.ipynb\"><img src=\"data:image/png;base64,iVBORw0KGgoAAAANSUhEUgAAAbgAAAESCAMAAAC4kzAJAAAAQlBMVEX///8AAAAAAAAAAAAAAAAA\n",
       "AAAAAAAAAAAAAAAAAAAAAAAAAAAAAAAAAAAAAAAAAAAAAAAAAAAAAAAAAAAAAAAAAACGKEuzAAAA\n",
       "FXRSTlMAIqvdu2Yy782JRFQQdplsYK+FpUBhKRSJAAAACXBIWXMAAA7EAAAOxAGVKw4bAAAL+UlE\n",
       "QVR42u2d62KruA6FwQaMr3PaGb//q55wK4GQBLAgjln+053uFCQ+ZMmyEFm2etQqw6AfOTfHnsAx\n",
       "XORDhjz2wmphcI2PGaI88ODm0KMnMIze/afK58fJxer9k/jSL6vEuJW+CLi4xWFyVX5/ZCKX/rQg\n",
       "IOc/MZ4EAD7EUeVeHwWu3m9wy+C0IwD3ActaPqf1YTZT8KMikwCDWwaX8YTAKe/DIrfK24MMLuQy\n",
       "34FTY4QjdTrguJeBhy3EQR7O0oDT43HyIhlwwQbXTGmHeDkWJNgyuKzOUwHHfB1+3PoAYU2Y630C\n",
       "TstUwHHvCGzjgAVSGWbHT8CFhyexgPMEoYUKdpNLnjNsCn8GzimAuzsIfXhifJhttOAcb4YQ7Y9u\n",
       "sVqx0JX0J8AtjpLCOsjnyjLQip9ZXLCTi8fiCMBZ+rmSeXUIuOCwMilwFX1cKQIv0BNw4Qu5pMBl\n",
       "4YtBYhf3DFx46iQtcLUnrjDQgQnUZ+B4lg64X4IjO+p8pQv1msvgCLYH4gH3L0kMSLwrV4em0ZaT\n",
       "zEUOcLPohHglJ0IXGIvbOqbOEgJHMVUa6nVpcLSzCM6WKYEraS406RI8D74R7JI8LAO42eC0Wzva\n",
       "8yzSkdZUeQsmSMNKe8hOUWLgSCyO0Sa9pC8A7hRwYZViC/cBA7hTwEnaua0g2N4FuHXgSKOJGuBO\n",
       "AmdpV+D8iD11RJULo6RdgQuAO8niyMFZgDsFnKYGVwLcN4LzAHcSOEUN7h+AOwXcf7TFC97/D+BO\n",
       "iSrJwWmAO8XiKoADOIADOIADOIADOIC7MrifnwrgYHEAB3AAB3AAdxo495MD3CngzM9PBos7F9xv\n",
       "hBYXDu6wtoeYKo8Fd1zbQ4A7H1xKbQ8vBS6ltocXAJdm28MLgEuz7WGqUWXybQ+vZXEJtT28GLiU\n",
       "2h5eC1xCbQ/jBPcPBbiXbQ8Brhn/fYvFjU7u6/tVXiqqRNvDLwWHtodfCg5tD78UXEptD68ELqm2\n",
       "h1dKMifV9jD5qHIcabU9vNB+HNoexg8ObQ+/FNypFxHgAO7LwaEg9ixwKIg9+5x4zApTJcABHMAB\n",
       "HMABHMABHAW4X4CDxQEcwAEcwAHcieDQIfYccGg0iqgS4ODjAA7gAA7gAA7gAA5RJcDB4gAO4AAO\n",
       "4AAO4BIEh4LYs8ChIPbsc6IgFlMlwH0M3P5GxgD3UXD7GxkDXBTgNCuEKFh38VZ1KgC4WCxOiL9/\n",
       "coCLEtzvDJyWzdzIG1y5bKiu6cYDcBFYXC0GcJw3NNb0v4oaHHfXACd91YEzvtN4Rce5mMEZX18D\n",
       "XNlctQZc5btmSisaGUdtcSa7Bjjd/KoBp4b/4+eDQ0HsdnDtDNmAs75fwr1vZIyC2M9Hlbclt+jA\n",
       "8cE3vG9kjKgyhnWcqV0DTvKBxXsnB3BxLMAt84KNbR7fh5WIKmPJnPC7gGTFQg7ruFjAeXH3a/3d\n",
       "4K4zVWpWez8kmVclKwEuhqhyNtZsDwBcLFPl3VjTyBjg4gO3qpExwMUHblUjY4D7KLj9jYyRq/wo\n",
       "uP0DucqPRpX7B6bKL7W4T4LbVq3+8deQ5du/kCY4u804lf0suPfiPkoYD7icce8ZY0VRhoJb+Z7h\n",
       "XEpXqNVR8npwljnX5+OnWlWMC3H7xGohyqm4zRd5m5hiwtf2bRwfA7iq3yuqfBut5qIOAzesMg1/\n",
       "OQWZJvuju6PWhg5cxdv7xvJqQSvVfcpMIefiSt+vvOzkvuu1mEv4cXCGubr/Xt4rVXoZBM714uvX\n",
       "57fNAfv9ndKRgcv7qpyhWGCq1fDppvdc3Ho4jJuI3WsxlzAGi7MzcJXnQeCGTQz3OhOuRHOH9xtz\n",
       "wlCBq//2ULptsKlWf+AyNxfXF4ur5EGLmYQxPGY1B6cWdzlXg9PDX/MVrk73N2k93qusn2DXvzvV\n",
       "Tw4oR73sg1bdJ3W7ZfRMXDVYqpmKPWhRl9FbnLwhUrWwWt5vs68G51pNFSt8wd6Fi4r3qsrxNs87\n",
       "59T/2AqOjWJWd6g6rYZPVs3F7UtX20nx7j/vtJAscnDGdgGXcDq/F2Q1uPrPxb2V0DI2XK07I2+R\n",
       "beA2uYi1V6O3Ew9a3X53iym9ehSXi/kcOtWirD8FrnvnfT/YIjgupRwWNW3d9J6pkvffc2u2MPqo\n",
       "MtMim5Dbwu05OP6gVYsxL9SDuObP+c1c3KDFRMLYLO7eq9SzTPbqh/eFenBxpr67Z6ZERHfyahoZ\n",
       "8qfcFl94vzxVqlafqVajjxuyIb24g7PNcrvo4mYSLstx8sP7T8C5ncFJfyWMf1OyW7Vsiu6wSqwE\n",
       "9z44caNe5RNw5qZwXk7E/XNxcnJ/jlqoNRb3G4PFyZ3g+rmndQ7mZQ7NjOA0J5oq29LhTOk/r7UE\n",
       "rvVZ1URc6RdnylELzSP2cSTgCvvnHPSrqy/Y3VRZFkTByU0LmWll7LgAXwZXT8UdsgX9YsTcubhO\n",
       "i7KI1sdVk/Ub3ztV9nEzY7dQ7tX3yvLOtThJtBy4/WFtbVNO1c+BU62qAZwUU3E715D3Ue5fwe6o\n",
       "hZPRgZM+b2WuvWfybwFzi5v1LnAV79fP5Rs1lHNuiO/46BCHFUJe7wN3uxNvS6824VHNtKr6lDMr\n",
       "xJ8dVsMUKAvm7Jh1MTMtuIoMHGuy4ez9GdenvPj2xE/OQzRdXDA2ueFiv7javJYwxf24HRljV5KD\n",
       "Y3VV8v3iyjcSJlm6UGzd0l6fllwPTt+WVXa3uHP3/CBhkjvgZiuHIqcHlznB9otr30mYZulCvq0W\n",
       "wQYWnYSWLrwX91FCNGGjEC2Sc+JtVtcGh4LY88GhIBZTJcABHMABHMABHMABHMBdFBzeOwCLixZc\n",
       "+p2F0gR3gV5eiVpc+h1iowGHt1mdBQ5vszofHJLMmCoBDuAQVQIc1nGYKgEO4BBVwuIADuAADuAA\n",
       "DgWxAPc4UBCLqBLg4OMADuAADuAADuAADuAA7qRzoiAWFgdwAAdwAAdwZ4JDQexZ4FAQez44JJkx\n",
       "VQIcwAEcwAEcwAEcwCGqhMUBHMABHMABHApiAe5xoCAWUSXAXdrHLW4LVQAXPTi59CbAogK4rwSn\n",
       "XUrgfq8DLuMpgfs3dXBqnFOkBrjvAafHt9kEvskKPu5T4LI6B7ivBKclwH0luPDwBOA+A84pgDsQ\n",
       "XHhBbAuuexu5EHdvI6/YqPm+8QlwiyPNgthnFhfs5GBxnwEXHFbGA85eCVz4Qi4WcNy7K4ELT53E\n",
       "Ao7R9L39FnA8SwWcorniXwKOYHsgFnC3udImDu4uyVzk6YBTXpi0wd0tWuosHXCZ9Owq4GyZErhb\n",
       "fOLSA2eXqhRYlhS4zIbbHKq8PnLOXEcHDgWx55wTBbFfek5MlQAHcAAHcAAHcAAHcAAHcAAHcAAH\n",
       "cAAHcAAHcK/BKYCDxQEcwKUIjvJwgqa+GuDeDgVwAJc1NYMA95XgaponGgDu7dBeUB6u8BLgTjln\n",
       "6Tnl4RjNoygA93ZYmmdHhuEoinQBbsWQvoj4cAD3wkRI57aS1oAB7kU0QRoGKtpYB+BexO+kOaqc\n",
       "YHXx8ERVlTK4vdoKX9GK6oOfZHt4XqeoEga3V1vaHHOTOlHk4LS7Erh12ubUPomF57wen5DjVwK3\n",
       "TltFHQXa8Cj1URWprwRulbaWOkVFcCc8qpIXVwK3SltGvfFpwsPKhYeJ6/xC4FZpy4ljk+aIJG3Y\n",
       "jHWts2StfFqmDW6ztoZ+vSyDo5NWFZnpRrTSk4UnMYPbrK2mzwmr4EM2qlQ6c434rPeYTqUMbru2\n",
       "7IDaHuEJwN2mDNHk4kSfkAvvVhlRv8qJOK+1PewiLwwXmovp3LVqvG8+HIvAyUUdnGzUtjpi90yF\n",
       "rjA6Vdq5w3q6sDJqcBu1tYdUQQpBAa5o7qmiyEpDtJCLGtxGbetD9mBsYLqyvwdvqlRCZpIqdRK3\n",
       "xW3StjqosidwAu5UMUxanbOuQxTPEge3TVtGvvoelnImHNxk1eJSB7dJW3NUYY8Js+RHVQi6VX4R\n",
       "uOJ9aJIfJK8NMrkHVUydXQjce23FcSWQXFKCsyRl7f4T4wht7UEerp2mQ4z5oWNltKWaJLPTVm3N\n",
       "oY9nuCLDOGawYy8tL3GJDxlKmEOPXx18/MsOfvRD9irHRT5iqbWP2/8BS/Yp/5PWfhAAAAAASUVO\n",
       "RK5CYII=\n",
       "\" style=\"display:inline;vertical-align:middle;\" /></a><br>"
      ],
      "text/plain": [
       "<IPython.core.display.HTML object>"
      ]
     },
     "metadata": {},
     "output_type": "display_data"
    }
   ],
   "source": [
    "_Psi_output = Equals(Prob(_Psi_circuit), one)"
   ]
  },
  {
   "cell_type": "markdown",
   "metadata": {},
   "source": [
    "### Establish the probabilistic sample space $\\Omega$ of measurement outcomes."
   ]
  },
  {
   "cell_type": "code",
   "execution_count": 9,
   "metadata": {},
   "outputs": [
    {
     "data": {
      "text/html": [
       "<strong id=\"_sample_space_bijection\"><a class=\"ProveItLink\" href=\"proofs/_sample_space_bijection/thm_proof.ipynb\">_sample_space_bijection</a> (conjecture with conjecture-based proof):<br></strong> <a class=\"ProveItLink\" href=\"../__pv_it/theorems/1900faf19841c8766862ab6669f1447534c4b2720/theorem_expr.ipynb\"><img src=\"data:image/png;base64,iVBORw0KGgoAAAANSUhEUgAAA0AAAAETCAMAAAAoOJYAAAAAllBMVEX///8AAAAAAAAAAAAAAAAA\n",
       "AAAAAAAAAAAAAAAAAAAAAAAAAAAAAAAAAAAAAAAAAAAAAAAAAAAAAAAAAAAAAAAAAAAAAAAAAAAA\n",
       "AAAAAAAAAAAAAAAAAAAAAAAAAAAAAAAAAAAAAAAAAAAAAAAAAAAAAAAAAAAAAAAAAAAAAAAAAAAA\n",
       "AAAAAAAAAAAAAAAAAAAAAAAAAAA2JatpAAAAMXRSTlMAMquJZkQiECClQDB2u1Tv3ZnN8+m5w2yv\n",
       "4dfb48HR1dnlcIX3qZF8+ZdeYKGT51D7uV90iwAAAAlwSFlzAAAOxAAADsQBlSsOGwAAFnJJREFU\n",
       "eNrt3Xu/46h5B3AJBOzOggQk3c7sNk2TST7dXNpG7//N1brZQpJtDFjW5cc/s+esj4we+IqLEMry\n",
       "uk0ki06WZUjhqfZKn84l12LyG72NjH0s5TUtLim+8hsCBFGAkn3orYlOi7mpPQU5MyCe5DhlJYDg\n",
       "BICyqlj4ZQFAkUksxhXpeIDYUoUBoNhEbHi3ejFbADS+PPE0gESZoqgVACUHlNfhgyi69KcqgaD6\n",
       "E+ktgK7RiKunRa1SzCPUJQClBmTDG6BlQKVZqVP0iY7Yq3/JSJJTMnWaeR6lASgxoDKiAVoGlGkA\n",
       "ul2eeIpTkknan7bKSABKC8jGVPcRIHabiaAlAA21k6Y4JVbXqeZJVQVASQEtXJLCAJW343AFQH36\n",
       "9lOKU9I1TXWS5WwUBEBRiURd25YBjfotJwdEf8kTHD5hA3TJhgWghIBEXOf6DqCSAlAb3V9JisOT\n",
       "2qY7S1LnAJQOUFGXbwAUP41wDEDkV57i8Lo26c6STbuDABQ1pozrHNwDZBgAZdkXTdMcPmqcOjta\n",
       "BUDJAIk6rq1oARndpKpq/+n6LDkBoCz7w+/FBgGpSR8OgKJ6cDQe0EILdBsErb4qIAJQmjUM9/5H\n",
       "zBqJlIsV5aTMAShqRMneAih6Gm6nLZBj5j//6Pwc0wIVSWuNBaBUgKrI4N0BFH8jaJeA3Ban+C/m\n",
       "/HIrgLLJpDgAfW4IdA9Q/FKEPQKa9Dv/9Idrhd0WIOt2OwAoPJWxS6zuANLZCQFN/NA/85GASEDf\n",
       "U56nceckACgmlPQdgBIsx94doOm0h7AugThAP6Y8z8mTEQAU05iXyQCNFpMqfjpAs2lDwmbEtgIo\n",
       "d+8EAVDMHEKeDNC9i++JJhHGRaNSHj4tIOFqB6CIKhO7SHERkCwASPCkgL6nPVHnuglAwYlH36+U\n",
       "Sy0YyQAo7eHTzsJl2um5A1BwKmu91VMDoDcCss40HACFtx8pl8kD0NsO//Vr2o2OiDP5CkDhI5hU\n",
       "T9oD0K5aIHeHEgCKuBIRADohIOr0PAAoOKmUD2qdGtCbt51LDkgDUApAFoA+/Z0fASSdO6kAFJwS\n",
       "bvYCQDsCVLirxgEoNFUAtBNA3wFom4AkAJ2wBSoBKBWgAoAACIC2UjAAtA9ADIBSASoB6ISAcmcR\n",
       "8YkB/fDjD1F//28//wRAJwT0w88/j3768uNpAaEFOgug74nrDVogAEILBEAABEAABEAABEAABEAA\n",
       "BEAABEAABEAANC0nzMIBEAChBQIgAAIgAAKg1N+5s0e6AQiANgZoX490A1CfvtQ/RQL6dwA6YQv0\n",
       "xQH032iB0AIBEFogAAKgOyn1xooAtBlAi9+fA9AoXbeZRwsEQLO0+HYGlQPQQjQACID8ACV4Qd1x\n",
       "ADGCMRAAvQYowStSjwPIcgACIB9Ao1c8xr+k+zCA/mwyAAIgH0CjlwxzBUB9+suXJICwmPRUgEb9\n",
       "lpMD+qtNcni0QCcDVFIAapL4CwcgAHodUPw0wjEA2b9mAARAAYAMA6As+/KbAKAtJ1HEvaXefOUp\n",
       "ABndpKpq/+lue+S3ux+B6ROAwtPikbL/+FuiwycGJL5+Hf3Ei9MC2m4LFD0I2m8LdAU1pYVZOADy\n",
       "BhQ9DbdTQI6Y6u/OL9CFAyBfQPE3gnYJyO3Kff/m/haAAMgXUPxShD0CmgyFvv3kNksABEC+gHR2\n",
       "PkDTmQRajAMNQADkDyjBcuzdAZr6EdaNNAAB0GNAo8Wkip8O0Gwmm7AZsYhywizc8QHdu/ieaBJh\n",
       "XDQq5eHRAp0KkCwASHAAAqDnSS49vU0yAEp7eAA6KqANVmYAAiDfhI0VASis3mBjRbRApwKEWTgA\n",
       "AiB04QAIgO4EEpvLAxAAbTYYAARAAARAAARAAARAAARAAARAJwKE15sAEAChBQIgAAIgAAIgAAIg\n",
       "AAIgAIpOn99YEYD2CAgbK6IFOhkgLCYFIABCFw6AAAiAAAiAAAiAAAiAAAiAdgeoTpsACIBOA0gU\n",
       "xGqb9Cu51ur5y8gwCwdA+wdUWitzkf5bBaOacLRAAHRoQLk14o0FaYkAIAA6LiCp3rxmg2kGQAB0\n",
       "VEDEvP3LhS0AaO2EjRXX+c5f/rHG1/9TrQUIGyuiBVrzO8lKUaL0bjlhFg6AdgtI0rUyoEp04QDo\n",
       "aICEXi0D974KgABov4DMijG682YlB9CdIs8BCIC2CEjYNbOgnwOiy/PdKgcgANogoGLV5zWXl/X4\n",
       "AHrlxc4ABECrfacSa2aBmVBAmQYgANogILtuHhYZOBsr3gNESwACoM0B4mTdPNjgFogrANo3IG0O\n",
       "CIjRdYOx2GP0ApRZDkB7BiRqe0BAtVw3GKb2AsQkEZxKJbOcUtWRKikA7boFEtkRAYl1g8H9ANFM\n",
       "Edk4LS4/ldWL0wgANJQSNlZ8O6BNZGIKiLFMq5abHAno58Cfd+WwsSImEU4G6LsLSFzankZL2bYk\n",
       "pu8u5qTrPaIFAiAAejKJULaf6+hU/eCnGwSVFoAACICeACItE92QYZdaIIa+G6fa0hyAdgjooLNw\n",
       "awfDE1Db6nT9uIuldhjT3wiypUe9AaANtkCHvA9Urx0MP0C8zq9VX9Gs7bv1SxE85g0BCF24k3fh\n",
       "WDtlLVulzMi2GnSz2KzKAAiAAMgtp+/TLtw89cuxJcnEW8ZAZbOR6lFmvE1zMgKAzjuJME/9xltG\n",
       "ZlS8BRDJjpUqAAKg0bTFcDPIFE8frdszIFGMp2fM008AEAB5AZIv9K52DCiXcrxiST/9BAABkAtI\n",
       "Ljcwr1TvXXfhyhEPWT37xGNA2FjxhIASpKCNFVMBsjwZIEZq2gz4ZCHH474SLRAATcppAxsrJgIk\n",
       "YiM65pG3LVDzOMd4RzAAAqD3tkCfBFTa1IDy7nay3Dqg176KfxoQf/0DLwB6XzD2AEgwFloqPkv1\n",
       "hs+W/C4gVdc17QEVbTNETP+7rQKSrzVWTH4W0PPsznPoD+iNwdgBIGlZ+HNo9oW9T8jSA+6TFkgU\n",
       "XQtkN94CeT4vzCk13RPGskgKSBJjSBcjTnRdE0KUKtoo66q6/ERsVRVudpsP6nZneFLVdlaJZzn0\n",
       "BvTOYGwfUDn8MaXSeFZAbozttn70Waqnh88o8hjQZUCV561JXomngEojpSTsI4CG23RCP/xGYdoA\n",
       "t0e1Ih2gvF23n0md9xWgDSyv2lyx7qdMKDrNLq37cLkbxPdnMc2hL6DrZqWPoxEWjO0DovrWljyp\n",
       "D1c/aiiMp0v1BDH2mjuq5xclW9PbtZCapmCpHEmefOL2l7Ztz4QdymJVQKaYXH3udJyaA/ZL+QuT\n",
       "DBAftvaQ7SLky8+kL3o6+ukS+2l27XAY9/2M/VlMc+gLaDj6k2iEBWP7s3B9rS7af6jXZlrdO2Cr\n",
       "ym+pnnwAKDzpvo26PmnyMiDJwwEN1w3z+IxY1Vzx+xxWIhUge71saT0GlNd6DOi2sGP4fD0Ur9sV\n",
       "GM5ikkNfQFXmFY2wYGyjBZJKX5J9BKjrXpVeu65U7afIpbr6LNVLBMit77Ieagfpo+kDyL3ummBA\n",
       "17lH7dH7L/sMjt5ZOLyF2n/zv9o5IL2FQY7IsLZ2dj81E0PlJLtsaLmEm+3hLCZvVfQEdJuI9YjG\n",
       "y8HYAiBmpXjaAnUVMveqQkR3NTf3WqqXCJBb39U1hrKvPWNAS9uEtSXs1ptgQG1PM2NE1Yo8m1Fi\n",
       "us8pvV32eTd46f95FRC5ZTMfkWl61eX1J8mm2W3+f/99xeh/js6CkhBA/dG9ovF6MDYAiC+O2CaA\n",
       "xADIP2vac2o1VRfO+WM7AqRmgBa3CZuRKVUoIHsdAj0tG0nIUGtHPYC2trzgx6lHtma30VB1JSNk\n",
       "N+12+R0ho8/csqurad/OPYvJsl1PQLbIPKMREowNAFpebHMF1O1kwrtuQe6/86T3R2+AZBVzmk59\n",
       "p9dujOnzMQK0vE3YvM2Rk3l1b0C6HMfuaa+l+3Q5PvtLfXnFz31A3ahHU0qHmzEtJz5qd4fsiuvg\n",
       "aDIEGs6irEIADcHwisbLwdgCoIeTCHy4bPWAvPdD1b5LGW6AeNxSmXF959ddKnR/+AugYWPF5W3C\n",
       "Lul3v9dOqmvnFrL3xooVm3X6hR0dN18YMvZLLG6V5q6feiktd+FY3V0olDNHN4yBhlv+fXaH8UfG\n",
       "5eIQaJLDp/mYBMMvGkmCkRjQ440V82o4ETUHxIll/dWJOsPM58OA2ZDvXtBugDJBbjdeu49/++1f\n",
       "TfpT+9+/XP/822/Nb373r9v/nNZ32h/1OqXrTCIsbRM2b4GYZWEtUDUE7ckSjjzvxmtlNwvlWWee\n",
       "TyKYW2yLO4CEuFWFPrvXIRB1rhO3s2BBLdAA6Fk0woKxlAnn9SZvb4GEetQC5aa/rHeFUvpWocJ/\n",
       "Kd0IELUs4jzd+t4PR+XQvjiAlrYJmwHKZ3cOX+zCtUwfTUJ2BdPXGeeGcEwXLlNN7WPldVSzBKgt\n",
       "pNzJLq0Xe3C3s5jcsn6xC/csGmHB2EAXTj/swg3LA5Tq/thvfr5bGsJfBFTWMbdCnPp+0dLJ0bzv\n",
       "qDiAFrYJm4diNjj0BtQvdW1auPKRgoqMei2FSjSJ0Pa3Sybk7UbqMiDrZncIfz9vLEZDl+4sChUC\n",
       "aFj3+ywaYcHYACAps+ezcP0aTuO3uDrvVpKIFwHRqEkEp75fMkCaw3KTdbuAOYCWtglr2zAnAuH3\n",
       "gfpJWEIy8bDL275QdBh6GJpoGruZWG0KtTR97yl3ti3MB0DXcA9zxta0vfa873H1f3Q7C0NDAA1H\n",
       "fxaNsGBs4T7Q4oLP2VKepiUWVT7uG9vJf9xO2TTJc1KaXtuFhPeBSFG2y8AZLftlIc59oIVtwub5\n",
       "yoMB5d2JcPXslbvsEqZhPkzf+A6TudyGAWomVIhsCyBvxrF1Ta4TAf3SUqKqa7uUD3GniphrHdf9\n",
       "GsXbWWgWAmg4+tNoBAVjC4AEUfP11jNAwlBJnDp13U1yuq2k7qZCvEqfNCt/SREPyK3vtO5qe3H5\n",
       "V867cGHJfymPfn0Uy6Nugi3eYmlWLqrw7JbicQ59l/K8NRjbWMrDqHq2lGeN9NavWhVQwMpQUyQH\n",
       "RGxe6PDs0ic59AX01mDsZjEpAL30PJB69ZteeOetN6Dy2vyGZHc6YJnl0Pt5oHcGY/uPM8QtD3jt\n",
       "uuPd5TdbByRe9aB4ekCZqUh4duWzHHoDemcwtg+Ir7aThqi8z1tvHdD0bv6zJCM3RYh9pPt5dhee\n",
       "7vDOxxuDsYNHurkhaxDi1P9rQlpF7MqzxndiV545oA2kbic4oXReSnJ3g7ingLCxIgCFpI9urJgi\n",
       "DTvBtb3J5q7V8gZxaIEAqC+n42ysmCb/LRd5ASS6lSHLG8QBEAChC7eQhp3gLoCaf+VkgzgAAiAA\n",
       "et4CWekAWtggDoAACICW0rATXAtIyXsbxAEQAAHQYup2ghOkNpeOW/PUz8IGcQAEQJsChHekAtBu\n",
       "AW1gFu6ICYDQAgEQAAEQAAHQ/CmqUwMKDgYAnRWQqC0AxQcDgE7bAokMgOKDAUArpmFjxdDkvbEi\n",
       "xkCHGgM93lgRLRAmEQ4GaN2NFQEIgBICEuvmgaMLB0BHAlTKdfNgcgA6KaBjzsIxum4wlt5LDUDn\n",
       "aIEOeR+Ik3WDsbzZIgChC7dTQJldNw8agADoUIDUqrMIzCyXExaTAtBOAclV75IYhhYIgA4FSKza\n",
       "h9MZAAHQoQBlZsUY3WnuAAiA9gtoxSbo3p5mAPSmhI0V1/hOSdfKgCrXARS0sSJaILRAgd+pVooS\n",
       "pXfLCbNwALRfQNkf/7HG1/+Pul9O6MIB0I4BZeT9vTjxYEtaAAKgfQPKqHrzk1NMswyAAOiogDJm\n",
       "zRuXJOSK8AyAAOi4gLKstFa+oxkSObWEPyknAAKgvQNqnqAntn9he7KktX1+pxazcAB0BECfCwZa\n",
       "IAACIAACIAACIAACIAACoDZhLRwAhdUbrIVDC3QqQJiFAyAAQhcOgAAIgAAIgAAIgAAIgAAIgAAI\n",
       "gAAIgAAIgABosxUJrzcBIABCCwRAAARAAARA6b/T79kfAAIgAAr/SwDaXMJLhgEoqN7gJcNogc4F\n",
       "CItJAeisgARHFw6A7qXF788BaJRUDkAAdC9R9qjKAFCWMYIuHAC9Bqg0AHRNlqcA9CMAnQjQnfes\n",
       "nRJQQTMAAiAfQOzWT6clAPXp208ABEBegMrb2wW4AqA+Pr/kSQBhEuFUgEYd/3MDEr+SDIAA6GVA\n",
       "JQWgJpFfOQAB0OuA4qcRDgEo/4VmALTh9PmNFe8BMgyAsuyH/xWbBISNFbfVAhndpKpq/+k6/fnt\n",
       "9mFg+gSg8HTvMIkOjxbobF246EHQXlugsZr/q7KxoZgWSALQuQBFT8PtE5Db5FR/d34XfnhdGwA6\n",
       "FaD4G0F7BDTpd37/5rIKPzypLQCdClD8UoQdApqO226LELr/E3545lR4ADo+IJ2dD9DUDy2mHwjP\n",
       "mU47CAKgjQNKsBx7b4Bm04bCTo8dcUqsrgQAHRzQaDGp4qcDNB+3sJSnRGsCQAcHdPfie0pAuUp7\n",
       "SiTlRBwAbRuQLABI8MSnJBO2QQC0GUBy6eltkgFQ+lPiJQAdD9AGK/NRAWEMlD5hY0UACqo32FgR\n",
       "LRAAoQUCoMMA2uoCcwACoGN/JwABEAABEAABEAABEAABEAABEAABEAABEAABEAABEAABEAABEAAB\n",
       "EAABEAAB0KEAMQACIABCCwRAAARAALQeoAyAEgCq6gKATgiIARAAARAAfRyQBiAAAqDwZBPv+g9A\n",
       "+0hlXQFQCkCqpgB0QkBFrQEoBSCS+LUZALSPJJ23PQBQcDJJN4wFoL0kWisASgHIDSQAnaXeGKfn\n",
       "AUARfWELQCcEpJzJIwAKTsyZjQlLsxzkALQQleQpJu7WWYECQOGFkGCvstn28ioHoMyKd2c2Ju5V\n",
       "nQNQCkBZXfPkBVkaAMrbyRlaFOV6gF6Iu/vGSAAKTzr+eYb5C040AJkmKCbvIa0DyD/u3O25A1B4\n",
       "IvFreeYFScvTA2rrsrLFGztyEXFn7twRAIUnGX8ndV6QXJ0dUNebyqu64isC8o67dBegAFB4YvHz\n",
       "2AvvqLP85IBIM0bnIuNargjIO+7EfQwMgMKTiJ+GawtSSNP2BUnbZynpuQF174jVl8DQ/L2AwuKu\n",
       "nTkEAIqbReApCpJmZTUqCn1uQEXb7hTlOyfhIuIuJnf/ACimGKJnEZqCzMvMNIVH+g6hYacG9P6b\n",
       "QFFxLycrIAEoahBEEhTkpcJUzVW36rv8CWZvdwyIr7LAMDzukyEQAEWlqk5QkA1E0dxf6Lv8t854\n",
       "HZw+AWgPyS/urxQ5AMUkU+cpALU9CVm/OB10zBZIr5LZ4Ljn004HAMX14WiKglRNoSiVtbcOU/Rh\n",
       "9guImRUBBcRdTvcyA6C4PlyVoiANaW4c0qzVmGIpwn4BkXxFQAFxt9MCB6CoJCOXw3UFKQiVJScy\n",
       "T9WH2S+gdXpwwXHPZ10OAIqsNiRBQY5TkuXYuwVUyDUBvR53UgsASgqI1iJtQSp+ZkCr3AQKj7uY\n",
       "Xy8BKC6JuGmEWUEKm50YEF9rl4nAuMt5lQGg6FGQSFmQsjgzIFp+CpBf3Kt5Pw+Aooe9MU2QnE46\n",
       "JXqG7JM3KSPSavuEhcV96WIJQLGprHmGdIYklpY+AlB0Mgp16xSJLBU0ACXoxBWoXCdIrBIA5AJq\n",
       "U3y/O68Eqtfxk55OPOiPLdzdSJe2aFOCNwUzjIJOUF1mFaWrP6ftfvw/RpQCxoMqVuoAAAAASUVO\n",
       "RK5CYII=\n",
       "\" style=\"display:inline;vertical-align:middle;\" /></a><br>"
      ],
      "text/plain": [
       "<IPython.core.display.HTML object>"
      ]
     },
     "metadata": {},
     "output_type": "display_data"
    }
   ],
   "source": [
    "_sample_space_bijection = (\n",
    "    InSet(Lambda(_sample_space.instance_param, _sample_space.instance_expr), \n",
    "          Bijections(_sample_space.domain, _Omega)))"
   ]
  },
  {
   "cell_type": "code",
   "execution_count": 10,
   "metadata": {},
   "outputs": [
    {
     "data": {
      "text/html": [
       "<strong id=\"_outcome_prob\"><a class=\"ProveItLink\" href=\"proofs/_outcome_prob/thm_proof.ipynb\">_outcome_prob</a> (conjecture with conjecture-based proof):<br></strong> <a class=\"ProveItLink\" href=\"../__pv_it/theorems/376fdc6ac9d1978765fc836219a68ad6724d9fff0/theorem_expr.ipynb\"><img src=\"data:image/png;base64,iVBORw0KGgoAAAANSUhEUgAAAxEAAAETCAMAAAB+7nt2AAAAhFBMVEX///8AAAAAAAAAAAAAAAAA\n",
       "AAAAAAAAAAAAAAAAAAAAAAAAAAAAAAAAAAAAAAAAAAAAAAAAAAAAAAAAAAAAAAAAAAAAAAAAAAAA\n",
       "AAAAAAAAAAAAAAAAAAAAAAAAAAAAAAAAAAAAAAAAAAAAAAAAAAAAAAAAAAAAAAAAAAAAAAAAAAAA\n",
       "AAC9KDLhAAAAK3RSTlMAq1RmmUTNIjK7EInv3Xa5wzBsr+PhhVBel+fR1dnlwXClfOmN12ChkyBA\n",
       "d55lIAAAAAlwSFlzAAAOxAAADsQBlSsOGwAAFhdJREFUeNrtnY3W46p1hoUEAoGgZzqZyWlyTtK0\n",
       "SdqG+7+/Wn+fJVm2kQQySO9eK5l8Dsaw4dH+AUGWRSglC1EU8ijWTT7dTK5lwtXvF0pCFIUsEeGx\n",
       "VEhRJOXq90peywBFISkTkdVFytXvE+neOhl1R0CER2GWJ1z9PiFliKIPruPShwJETB443AsRMvcy\n",
       "Laqws66KdoyEZQGKPnqOS1+tfCBhPyBhiPhSxy4iCutlsnGbh5x2gavfI2UZoqgbETk9zBH5gO+z\n",
       "9puM+OgStZ6i1koH1WHg6neE1e7P/XyHiVgmItMgYvTA4R66ZKwvd0RYE9Y3MXESUeoQRV8Swe7h\n",
       "ucpBxJe3ozzUz6z1lg2s6rBGoo4SiBWk7oN6RER+r4dXIGKIh/8gPdSvrfLoPgR19fM4Iwni/kgh\n",
       "u54+y0SMPIWrE/Hjp4f6fZqIWzPKsFosIwRCunudcp+D+oSIXIGIVv5Y+6ifeJ1lxAZNjweufpsU\n",
       "7par2GfknhDhIbY+BxH1rz7q15Z67Cbz6IIdX/3G6MbdyFb77PEzIigDETcD/B8/vNRv/SZwbNjg\n",
       "18YXW0urAxR9TgTVjdR1+0+XNhcERNweN3/6FiMRVVi/porPbSrc7Vax08Q9sxH3QOL4BeTt89rP\n",
       "cvfTXuyo3uvGMxPWrzHxuU3Efc2NWBaEiP3JpkRtxJiCP//W/u3DRnglQoRNB4n4sk21DVF0DREe\n",
       "FiSSJGJiE4rf2fTDWIjIvCZzD68+6jDiGREeFq0TJGLm6f3lr9kUlGiIKG3QVyYDV79ecvclhnzv\n",
       "dpknROjsgkTMgFD/ybMpEjuI+Om1ozTs5iMa294m6h7Z0L1B0DIRPja/JkfEDAhZTuf0PiL+5jn1\n",
       "EvQ1hsDVbzFaeYCib4kY7fSr+PWImH+ZsLdFPkaECLtkIGJbkajd88H13tTx4m5wWWbXI2I+KyqP\n",
       "9fsmQobNbUtr4yJiRai/OyuwSIQpQITkXon46XuKiLAzMKo1Ou5OKN8Ns1nqOslAhNf6feeaMh12\n",
       "y7aOa0d47p5RzW2s7wCCiKBElGGzQWVcySbjvmRootzLDiLm8v27Zy+EhN1oQeLax6Hcc1/KViDi\n",
       "ijbC2zkGH6l+PaAkQFEQcSYiVFjnQMXle1Tur5dUXt9EuTIRYbfzBiBChyUiqvi0dJ/mJYj48E9+\n",
       "iAgTdg3NxLVEt+LcBh3jC4AgIjwRRdg1tCKuJbrafZrXICIRIn6CiD1EmABFQcSZbEQedsrmsRFR\n",
       "BCgKIkBEqkSsUJ8FEdckgoWdsiw2IvIARUHEmYgQYV/8FHG9V/pvv3wLUBREnImI//vll5DtDVw9\n",
       "bASI8J1rupaNABGwESACRIAIEAEiQASIABEgAkSACBABIkAEiJiME3JNIAJEwEaACBABIkDEKYhI\n",
       "7a1SEAEiAhOR2FulVyPi3wMUBRFnshH/Cjtl/wUbASLgNcFrAhGHEeH9BDMQEYyIxWPxBYgYy9eh\n",
       "yLARFyBi8WzwSoCIJXWAiKsS4eOKofMQwQjiiKsT4eMauvMQcb/IGERci4jRrVserio9CxHyv1QG\n",
       "Iq5JxOhmRg/XWZ+FiOov0gcR2OmXNhEjT+HiRLDfi8wHEbARiRORKxDRyp9/y0AEiPASW5+CiOJ3\n",
       "BiJARCOUgYhbWP3ff81AxMeFfucBir4igupG6rr9p8u+i3sSfqt84llifbW2++zH37mn+j0TIb9/\n",
       "D6nIwNUnaSP2BxLJ2og7IHNUkGu6MBH7k01pEjFBoP51+gm8pusS4WFBIkkiJibh54/ZhyDiukR4\n",
       "WLROkIhZNPHjWzYFBURclwidXZCIGRCqeCgAIq5KhI/Nr8kRMfu2LN+VABEnJ2K006/i1yNi/mXC\n",
       "3hZZMaTINSVIxNPH44Ui69GkqDzWDxuROBGmABGSg4hLEmGWXiAlGYjwWj+ISIeIGKcniAARM/Xh\n",
       "BDMQ8VpwghlsROJEINcEIkAEvCYQkSwRGU5CBhEg4sghBREgAkSACBABIkAEiAARIAJEgIh1gtPy\n",
       "QQSIgI0AESACRIAIEAEiQASIABGHyqEnmIGIJInACWawEYkTgZ1+IAJEwGsCESACRIAIEAEiQASI\n",
       "ABEg4jREWL8CIkBEskTIgpS69PubXOvq7fUzyDWBiAiJyMvSiBADLZnShMNGgIikiBAlDTqHSiJB\n",
       "BIhIhwhThV7dZ5qBCBCRChGEhv91WRYgIhAROMHM80/+45+H/P7/VEcRgRPMYCP2/CQ5SktKPRsn\n",
       "5JpARDxEGHVYC6ocXhOIiJ0IqY9rwZPfAhEgIiIi6JE6Wr56Y0rEk6yXABEg4oiflOWhbdDviVDL\n",
       "adpKgAgQccBPFsWhbVjc0eFExJrrMEEEiNj8k9WxY8voViLWXJkMIkDE5p8sD27E0ryenmD2jAiV\n",
       "gwgQEfwnOTm4EeVmG8ErEBEXEZqekAimDtbGkpfmRkRWchARExHSlickIrcHa4NaJyKYIZIrU5lM\n",
       "KFV1jOQKRERlI2R2QiKkPVgb3I0IlVXENM0rbn/l9crYGieY7S962cjaRtCKRyIYy3TV8nPDIiv6\n",
       "7/Sp2/feE04wQ2SdOBE/Z0TIm3VgrVPXPIxp76EJ4mjW4DWBiJPZiCHA6Vio+wCiCyTyEkSAiOsR\n",
       "Qdp5rxsGmOVd2NK4S1zpUgkQEQER58w1ZUfnmlyJaO1C5zrd4OBNgX5Bosw/PWVBRJ/poCDCgzbc\n",
       "iOBWfIXUlcpad6lftHaYjSACXtPZvCbWZlpNix2jps0udclXVmcgAkScnYifD17To/SbXw3JJOII\n",
       "EHG5yPpR+gN0qMmUBBEg4vJEDK82CVqIDESAiMsTYYpPTVmpFJkcSQgiQMSRRJhlE7Bm27rfKdvE\n",
       "L1THTAROMDs1ER7E7xFjzaJIlw0OUj1sBIh4HKeoTzAr5IwIeE0gIjEb4X/Kqqi9pkBErNs5zj9M\n",
       "BF9fYg0R4ZQRERHuOhT6gpG1WWdPmPkoEQ6tfWjhCiICKiMiIhRzLMGn78K21d8j/byIhwhOtLWE\n",
       "kKoq9hLh+MoiV4p2LzmawicRhlBKzEKnBNF1ffuLlHVdTFvbFNTtMcaktuXjpJy30J2IkMpIkAhO\n",
       "b//hs+rvJ0+VPB4imsa1rPK63EfEsP4j9cvuySYTl3fVltIbEaLd9ZwZLRY6xbq/MlmpeWuV7Ydl\n",
       "dppx34tZC52JCKqM9IjglRBifAVTW70YjMSKM0KOIIL306WwahcRtB+T/LUqTVNjvxO6oL6I6N6d\n",
       "bKsXj50a/sokmbe2HGqZXZnV92LWQmcigiojolyTIxH1/NLVrvrhIaDyKIkQVu8iYthQSV+/3c7q\n",
       "RkX9uwG19ERE+bWdU+vHTn0RkdF5a+3weJotXw29mLbQmYigykgxjlisfjgftMyiJIItvcHiTsTX\n",
       "m4rawYPO+wG8XyM1XMW5woDacX3q/tg1D53q/mLNmRSz1rLBtshZq4deTC+6ciVipzLeaOM0RGS1\n",
       "bqRWcRKhbp+ysja5GsU57kTQtluMVLYi7/ImTPfjp76ezLwLAPp/1hJB7s0UIwa6Tg1/GTZvbfP/\n",
       "979XjAdu1AtFthCxUxlvtBEfEUopIjYQQdsv+T44l1MfREjT5WFqmvORdt2JKL8857fKNmRQX1FO\n",
       "J8EaIMYTo7Ts3p36oVO3zwgZlbm3Vtdzd2rWi6LcQsReZbzWxieIoHokZBY3N5eoyppnPF9JRHtC\n",
       "qMMxoYVa073i+UNIqMUrludE6BviQ/q8ccPlFq9J9wWpi1PYp1e+DtbqJ8EqIJ4SoR861fLBK/bQ\n",
       "WvkVYMzDiKEXeb2FiN3KeKmN2GxE3c7AimZGriSiNQ/vPS/Ra+Y2oi8crGGDrdELV9zI4Xmjlvib\n",
       "HkvG7dhZLcmLoi8Da/bgOcty9FyZjm7dKURM8kX6KRB2URa9Jmarh07d44hhCbVv7eDCZ9wshxHT\n",
       "Fr5thz9lrNaGZyIcjxhrZnN/6uaNfuXsNQ3V5+Z5XH0zn1X3FOvDsubZz57HmV8bbPVSXUbPQrxX\n",
       "NmJCBN0YWfeTQNo3xIvOdezqZbXbHHgfWdN7ZF08IUI2282KSWu/wgg1Bf/eC7bJRuxXxksiHj+a\n",
       "npZ/rI2oO1WrevHFvNc24obDMx+HUjFLVNTNB/bpI3rYYLt851O+mQi1kYjeUWg9Z/kyiJH3SZBr\n",
       "P15TVjWzieVfkcESEe1jRkxaq+yy03TvRa53eE3blRGd1/Q8jpB9uq5LYhS0uD2PSWaK/o6vN0So\n",
       "vF+UmH9xvIbfzWLepaeeTshhg21OsyIGIirz5Tnnr+Z1TUaOQlH5iaxvnVBZzqS5r9AtE1FOWzss\n",
       "oPXZTjkOI7peFNUWIvYqI77I+oWNGIioW3edNcmMpl+GuBDB6347weyLcqz3LgYQ7Vf0y442G2w5\n",
       "LfhzIph+S4SYrEPorV5TH7EQksmX+cZ2VWbw36nyk329fbE0pjlsovdXpp0SAxGqnra2cxJ5n+25\n",
       "nyl27wVVW4jYqYy0sq+06p7xNhMZl6bRYfNY6rvzhois1/38i2zUH1GKOxH1K4VON9guEpGVC/H/\n",
       "dKdfaS0ZxoIRW5N8ExGi+0VevbuokFFKh7SP/lLXkILk5TYibo+Wipg2sBKzTol+3x+p6i/LIQb9\n",
       "qIrQLx3rQaH3Xmi2hYidynijjdhyTUoVxW2aUdUosll/aXNDg2PKHKuffrEoq1byZvy6V7Q7r+nV\n",
       "hJxssBXVIHxCRL6wozPMbnC9Prbju65GX5qezca6antrc/m6hc67OIIqI+o16yb8NVV7y4VYRcT0\n",
       "i2Jsm3sH7E1k/bDBdtFG8HrfNF9RdMO2PVr4JoKUotDbW6vetNCZiKDKiHmnX3vdS/O4v0VFdA0R\n",
       "8y+OH/d9NNz4xewrqm/33Yw33zxssN0aWfsiYjgfa8VTcd8m4OUrsKw1m1v74PTPW+j+fkRIZcRs\n",
       "I9oZ255ATjp/3ZWI+Rf56D76YRYrZe4zXtS8/6/ByDxZHGq1q0rbOnWHEiHXTvCKeyciozXZ3lrz\n",
       "roXuRIRUxnl2+r0cINXEAOzpLN4oRxLxsPD7RszOF6d2vlXq0NqHFq54qzSgMiIiwohtJda9Z810\n",
       "okQcLDiL4/NEHFR9abz98OLdGTjBDES8k8BHjK2tXnh6MHOx98EPG5EKEVGfYHZ09as1CiJgI0AE\n",
       "iAARIAJEgAgQASJABIgAESACRIAIEDEeJ+SaQASIgI0AESACRJyJCE1BhAdtgIizECFtCSI8aANE\n",
       "nMZGyAxEeNAGiPAt7seSrSmKOOJMcYTjCWaRVo/I+vJEfOoEM3hNIGIhHji4ERxeE4iImYjcHNwI\n",
       "KkDESYg4Z66JqYO1sXTdAohI00accj2Ck4O1sfyiMIiA1xRLZH30LWoaRICIqImojh1bRhfHCTv9\n",
       "QEQsRJji0DZQBhsBIqImQh7rNukMRICIqInI6JE6WrZIIAJERETEkUZC6gxEBCACJ5h5/Ulz3BXl\n",
       "VX4MEZGdYAYbkRYRz+apf1Hq2Tgh1wQiIiIi++2fh/z+/1ZPxwleE4iIiYiMHOA4ycpkIAJEpEFE\n",
       "pqrQb5IwzTIQASJSISJjJQ06hyrCMxABItIhormsozRBDIUUqiT89TiBCBBh4/tJWZBSl9avaF2+\n",
       "XQNErglEREnEB4cUNgJEgAgQASJABIgAESACRARXH/Y1gYjXgn1NsBGJE4FcE4gAEfCaQASIABEg\n",
       "AkSACBABIkAEiAARIAJEgAgQASJAhH/BafkgAkTARoAIEAEiQMRJiHB8FwJEgIirEBG2fhCxS3Az\n",
       "I4h4J7iZETYicSKw0w9EnIcIyeE1XYeIRa9LgIixVAJEXIcIxV5NARBxE0bgNV2diJyCiLuU3AMR\n",
       "fwMRKROxfFHORYkoVAYirkkEu/u6KgcRQ1j9BwkiLkpEfj/amlcgopcfPzMfRCCyTpuIke98cSL+\n",
       "WGcgAkTc/rcCEa3Uv4IIEOEntj4FET9/ZCAiAiIOPMHsGRGUgYhbWP2nb3ESgRPMwtoIqhup6/af\n",
       "bj1K3JeltsonNGe9tPZZJ3ZUDxuRute0P5BI1EaMMbiF1RMqdtgIAyISJ2J/silJIqZWoQur759t\n",
       "rl9bCiLSJsLDgkSKREy9pK+wevh4c/3EliAibSI8LFonSMTs+z++jRS9q37me4aBiKOJ0Nn1iJjn\n",
       "AlQx0fSu+rXnQAJEHEyEj82vqRExB0KWM1XvqZ/ZWoKI1IgY7fTzcR166usRhPnskrIERKRGxNPH\n",
       "4yWJEJXfLhGv6SYQcSwRpgARknvukvFpJUBEMCLM0gukJAMR/rvEcxCRABExTs+TEoE4YqvgBDMQ\n",
       "8U5wghlsBIiA1wQiDiQi1u28IAJEpPWTIAJEgAgQASJABIgAESACRIAIEAEiQASIABEgAkSACBAB\n",
       "IkAEiAARIAJEgAgQcToiWICiIAJEwEaACBABIkDERYhIuPq1UrsfElr7Pk8URKQhLOyUZSACRICI\n",
       "eInQ7tNcgwgQcX4iSvfz30rfZ06DiDQkt3XC1a+VyqoARUHEmaSwOuHq18qKs66I71PYQUQaYnwf\n",
       "Nn5o9WuFuh91Rf2enQgiUhFlq4SrD9icyFoOIo57atKEq1/vxJUBioKIM0kVNqVSxZWxYe6BPvOQ\n",
       "E3g4A02AiCW1+JZdei/DblYo49oLwd2TwdxD3vjhLORKgIjbpAi9sWeX3msrQrYtcPXrB9byAEWd\n",
       "RyanIKK/vVgVRX4YEWv0HngnXlwb/ZqVaBagqPPIZBpEdDfcUzG61zs4ESv0zsOuoPG4FuiaVYYi\n",
       "QFH3kVE5iGhnZ1UW4Z6Ve/TOwmZUWGwJG+Oe+zL702SPI8OryxPReTCitjU/jgh3vZuwexVMbFsh\n",
       "ViDqgeaFW4ZKfnUiSBNZcplxbY4jwl3vJGwuiMT22o10zyDJ/cmmdmSkoa37RVovIVcXJ6K7iE/f\n",
       "NKNEUCI26l2HjXx1ZIF10yIeoOirkVFZ3gRThfUXW6dMRNFahiIPmGrao3cZNvKVsQXWzeaMIkDR\n",
       "FyMj8ow2o0F6H4yyaxNRHvCM3KH3POx2tjy+3XLMvUlsd+ubkblNgLp5LNa91+wj55gwEfyI3WI7\n",
       "9H61MKLRkA1R9FWExxrXkQ9LlXeH1m6XDxCRgrjpPeyYf7T6TULdV9Hp3gX3bmRa422sx2RTwjbi\n",
       "kNdltutdhPVqRIyvGDD3hDDbmzvuRqZqtFBVWbsk5cVrSJcIRo8jYoveTVivxkR55FFdhyj66llF\n",
       "mgUplbV4eVm0TpcIIo4jYovey7CpoLKOEIgbpyxA0RcjI4kyOSdGePMa0iXimHeMN+tdhF1RFpG+\n",
       "u7/Cl9vp9j2unfrZ/JosEYU5kIgNeidh189IdMtzvb7c26X2deFxZCp+aSJK+SEi3PQuwwa+MtZX\n",
       "96W77ZL7zNzDyMgyuzIR/KBX17fq3digr/cFrn5Xy2SAoi4jY4pLE6HyDxHhqPc6bCasjve8I61C\n",
       "FF3gaZ5Z8WQ1P7n6tcuPPuqRt03vJqybbyKNIto4y9185dFaOoh3b7pIuPqdQqsQRSFJC6lSrn63\n",
       "31SEKApJWFgtE65+twj39onIuwLx9JBkKVfvAVkeoigk3SiCHVf9/wNuh7ZvRiGATQAAAABJRU5E\n",
       "rkJggg==\n",
       "\" style=\"display:inline;vertical-align:middle;\" /></a><br>"
      ],
      "text/plain": [
       "<IPython.core.display.HTML object>"
      ]
     },
     "metadata": {},
     "output_type": "display_data"
    }
   ],
   "source": [
    "_outcome_prob = Forall(\n",
    "    m, Equals(Prob(_phase_est_circuit), sqrd(Abs(SubIndexed(_alpha, m)))),\n",
    "    domain=_m_domain)"
   ]
  },
  {
   "cell_type": "code",
   "execution_count": 11,
   "metadata": {},
   "outputs": [
    {
     "data": {
      "text/html": [
       "<strong id=\"_Omega_is_sample_space\"><a class=\"ProveItLink\" href=\"proofs/_Omega_is_sample_space/thm_proof.ipynb\">_Omega_is_sample_space</a> (conjecture with conjecture-based proof):<br></strong> <a class=\"ProveItLink\" href=\"../__pv_it/theorems/f7ca653c733b8986939cb7a139971f2ce5a7ff020/theorem_expr.ipynb\"><img src=\"data:image/png;base64,iVBORw0KGgoAAAANSUhEUgAAAKYAAAAbBAMAAAAE8unvAAAAMFBMVEX///8AAAAAAAAAAAAAAAAA\n",
       "AAAAAAAAAAAAAAAAAAAAAAAAAAAAAAAAAAAAAAAAAAAv3aB7AAAAD3RSTlMAVJl2q0QizbsQ3e9m\n",
       "iTL5N35BAAAACXBIWXMAAA7EAAAOxAGVKw4bAAACoklEQVRIx+2US2gTURSG/zSZSSYmk2A3QheN\n",
       "qeBKCKTULgwd8YFi0AEFkSIZECxubKxFhSh0JT42ISBIQVpqUYkoKmkWPqi2gpsoqeCTaiMKLlyU\n",
       "pJZGkybexySSmqSLRlceyGS455vvnjn3MABWe9tVVEbEvbYJVUIOKfUBPXrOQzoZrliSbsNwvSps\n",
       "VpYBeNwkvqFgxZLdBTyrCluUZQAWxgy5mPL8/kKU7W5OkqfrOWsDnKI643d6KxzXW2CJA7Z6ztoA\n",
       "35I5s6yzpa4aiq/o36TvHb7eO9Tp2dupCqFpt585xbaXOrD/0cS6xxxD5MMUy8ibvEHYF0m2aY46\n",
       "TpQ36iouqDDEsR4Ydcp51XYHq8Yw6KLOb5oxyAE8UKURjol30Z2imcvAMMQF4rD+oKbfByU9Hc9T\n",
       "OKDhIpCFXKAnbpinzhEgzQH0A60qw8xBtGg00x2GB5ghb9zrocN3PxqN3ihN4ji5XJrRcA5YZE4X\n",
       "pAxxysR1Rgf6yMS4GDZEDo1lrNkOWiNpyUZW3ECpTNr+gIrI5lbmnNOdpGCLYsgkEi90gDgdAwyb\n",
       "JUWxjPS+SDaXyStfE6lquHy65OdIGcYwW+HkdabLAK+TYbRcljkCWwF27IToslOVt+S0kv73wuFC\n",
       "4KhWdpJ+Fmg/Y2ToOMD6mWJYDynMSTPNgB+mJx8hTE2wsXKWnMcgnabOrk/aKeachzmOwSQ7dxWv\n",
       "OYCQJt3i2OGHsGs00xLGWdiLadiKbJakHQe40yRs2KpC3tJ85eqX3O41OeXNz6TZ790GeVdME90+\n",
       "jQPon2zXMUTaOkAzB72+yg+S8DZa88tAz2hp9GFl8TecVuXPtdGVKYU9MW3p2r7cdvyPfx2fnzdc\n",
       "KSuWhjstqca/ujUsNdwpTCcaofkFk6TbCEjXCIIAAAAASUVORK5CYII=\n",
       "\" style=\"display:inline;vertical-align:middle;\" /></a><br>"
      ],
      "text/plain": [
       "<IPython.core.display.HTML object>"
      ]
     },
     "metadata": {},
     "output_type": "display_data"
    }
   ],
   "source": [
    "_Omega_is_sample_space = InClass(_Omega, SampleSpaces)"
   ]
  },
  {
   "cell_type": "markdown",
   "metadata": {},
   "source": [
    "### Simplify  $|\\psi_t \\rangle$ and evaluate $\\alpha_l \\equiv \\lvert b \\oplus l \\rangle$ as the amplitudes of $\\lvert \\Psi \\rangle$ relative to the $t$-bit estimate of $2^t \\varphi$, $b$."
   ]
  },
  {
   "cell_type": "markdown",
   "metadata": {},
   "source": [
    "This `_psi_t_formula` theorem corresponds to Nielsen & Chuang's (2010) formula 5.20 (pg 222)."
   ]
  },
  {
   "cell_type": "code",
   "execution_count": 12,
   "metadata": {},
   "outputs": [
    {
     "data": {
      "text/html": [
       "<strong id=\"_psi_t_formula\"><a class=\"ProveItLink\" href=\"proofs/_psi_t_formula/thm_proof.ipynb\">_psi_t_formula</a> (conjecture with conjecture-based proof):<br></strong> <a class=\"ProveItLink\" href=\"../__pv_it/theorems/20171921f3332d2b2005abf236e939e383cee3be0/theorem_expr.ipynb\"><img src=\"data:image/png;base64,iVBORw0KGgoAAAANSUhEUgAAAcMAAABLCAMAAAA7zBztAAAANlBMVEX///8AAAAAAAAAAAAAAAAA\n",
       "AAAAAAAAAAAAAAAAAAAAAAAAAAAAAAAAAAAAAAAAAAAAAAAAAABHL6OuAAAAEXRSTlMAq1RmmUTN\n",
       "IjK7EInv3XZQQBRtQDMAAAAJcEhZcwAADsQAAA7EAZUrDhsAAAo/SURBVHja3V2LtqsoDBVEQF4z\n",
       "/P/PjopaMUGscFo6rDVz79nnJo0J5AXYrqs6+NA1xLC6NJ8YwqosgkG1BiMtMawuzWeGJnkEg+oM\n",
       "alRDDKtL86lh+jyCQTWGqs23iOGZWLBfseHgRRbBoBqD8JYYnol79zMLkYx5BIPKh/RDQwzPxM4y\n",
       "+jNpjadZBIMqpJC8JYYbsdKakDkwWszf9rxJI442j2BQcf5RexkWMdyJ5yjIpqdViLWkc7ZJG0rv\n",
       "sggGFa8a2xLDnXi2pfCyo6xDEiTapg270eQRDKo9db7J8EXcq2BDwXrxOzakINhBBIMKcymvGmIY\n",
       "E+ukpVq1Yed5HsGgolLOV051ixjGxDLdmGrWhmRyHTkEg0pGX3tdFzGMiMV4MKEctyGatuHgdRbB\n",
       "oKIgXNuVFjE8Es/9GSF+bR123uQRDCpxXpWVkWAob/Xrj8RilFIy9XM2HIGfhAgGlTgvXfcRMIaK\n",
       "MH5rdR6JjZ9Hoh+iudeNtuAcUABEMKgkBFcu8BMM3S0bVpfmK2U+zyIY9HwYX/kREgzv2bC6NF8J\n",
       "iOBRIYJBrYfDezasLs1XBgfOBCIY9LytULk6TDG8ZcPq0nxlMNCngggGPf88XfsB9HMbVpfmK6MH\n",
       "MxEiGPR83dPajoQ+tyH39H9gQwmKP4hg0PMMRNZ9gBTDWzasLs1XhgIVEUQwqF4O9UcMb9nwTMx9\n",
       "YhTEkv7vp4kHUxEiGPRsCF85mU8yvGNDQEz96UmVGByZiv9rP7SfAEDXejLk9rZSmmFBSIAIBj3N\n",
       "Iisn80mGd2wIiYnH+PXw+ftjpr6dAHg7DjxL9xkM6y6LYNCz4aJ2QfrMnHzG8DD0jRN5CLH1HjtT\n",
       "y05JHY30uJ0AeNuHJPCMMsQIZp7OIhj0bOgow9XJeTjKRwxfAk8OkJP+fWI5eVOMjEWKPR252U4A\n",
       "BA3bEEI3Ar6zm/8i+eswaz92wiGKPasFKON8eJKBeQeRAL1Q+vhALol4R8K69Dy/zbBImm1tenQF\n",
       "R488QgVsJwAUU6LvDpbZbThMbAURcrc/cYIqIxI2VKOxKWWc9mQ08CcQCRDbNc4fHxwePUvZMJ6Q\n",
       "9hHDIml2MBuzBUxxlq0uNT3D9IcTSq+5zmrD5S9ufUi9/twZR9GosamFs5QyHDmZxwKD2Q6DJEn5\n",
       "43cq8pQNVewfNH3CsEiaTZApDc3wZMABhhMAMiyqsZOBwfLzbMPlL9MDChpsufwsPGNoyNjUsidS\n",
       "QBkqTtgcyJshskJcvadfNAvWCRtSeR23bzEskmYbw+RNr58QtI+jEwCT6ANBfCkJS5HSVzgcLJbX\n",
       "rWoZdkNBZfA+7qN50FnzHQr1K2HBTpRJ2vCszZv+2pTYMEGsp3pQXfa21t8qYizrzicAmOsGg6i7\n",
       "J5Mnk681TNzkgbt0TqNNWhlxnvyGDTtj52GKtObOwirH+mDD6Cg11Q8YFkkTtWuu5ukmpzKW9oac\n",
       "TwDM7uqQdLyWDOXejK9pO5+1In06HnIya2GZGkAZzpxaE6Dy9R0OBfc9qhKt9WdhdUfNfJ/hXJYf\n",
       "DMrsYZALhkXSxCHxYgpt96SIXYq8++q4eaFqzUsn4SgVoRSxwN+rhzYUZPtfVoxkZ+9sQ0mXFsdy\n",
       "tNoc/Qa71cTwJTZMEoOeW5y5ro4sUI/3BRjpGzakXgx0qifFQRm7T5WReAOwGER2aF6Ce+Yb+Whh\n",
       "2fyLxbVg7aBda/QkrJpz7NXobJl+m5jknhneSbBU7CPTxOwqJHKytwPmcT+0XB21O4gWNMzMwc8G\n",
       "Zey6mVb/EDcmFGhVqA6HqNszmo2fdGScnTwlnZ7+zRrZ0zb8B5lwKthwKS8ofysgxgxT2w4vLbI0\n",
       "8bnnlnR8KxPpqZhHpY2Yl2hBLZYfSo+gjF03k/aPNvwXWAwiL4jvPn3lt38OnX7Bdid6fx1O/5Zv\n",
       "hZPqhLZcy/M6v4iHvqQbf0EsLgr9dR12/o8OK4ZUb5Jt2D3mrIyDbk7d2bfW4VQahiJx4+deSZek\n",
       "g3CzDTVjzE7/DXdtOIaO47D8xOlbBeK1DTM36y+InRFZG7LgbsWf2LCfND7b0R2UwenLICI2DzRY\n",
       "l4KE2ZbBwk+NxxpdKzpk1iGSl07FlJhNv+7m+PcaCdd5aSYRTBMPV7sQ2/12ZU0/OOv+xIZz8qsm\n",
       "KfRBGa+1Feelb+U0E+vt2RYmQx/1WVjnxvdtOAVsPToXJtZeHd9smF7aMHezPkksL1f3qzhj1nP3\n",
       "N750yWEdc+qljEPnoDfdcxvuyMKk5+FmEA02VHrLeFgyVeixPo2kh26umqfJ3Y0Le7kO7TNiZS4N\n",
       "M/i/fZ0N2JJblbHppju/FOmhDQM/qeN+50DddX3IYZ+mC9nMq1E1p7fdeDPKXO5OK/6MmGcmkBk+\n",
       "a8NVGZtuQL+Ugg43RBBo5ffq2YRw5jJF3Yj3S1+gZEtVpO72ZMer8gy/WZ8lHnPpFNMfteGmjFU3\n",
       "Hdi36EESDREEWvmJbY9Z2lALZGxI8L0nsBzc3eYHOe0TCcb4vu+N36xPE29BDnOVxwApzUdtCJXR\n",
       "x2qGZ0qQUybJUytTCJzj4W3fEp8RcMnkjzxjGJJwffdqAcMOAfRoVdFHSQ7506PFZ7VAIW0sIjxT\n",
       "gpwy0bUOeuvaFxxODMnycMY8lwavKqh5K9D+8YDnaViXQzDo4adXfkHDmaFZAgVZKmDQaLsjDfpe\n",
       "LAWen37zngZof4wgN4MIBj0bg68cSk4Ml+2g22+BgNIgVYWgBNnF6L949xTcN4fXRpCLJNXulnzm\n",
       "nLcN2FTpXG9gQWLu+XFYG7Z3G7+mCK+NIBdJ6t0t8bVfpokw3F79ZI67NbeIWWrjo2/ahh++CGxr\n",
       "X4BHGG5bGyJbBdj/wXX82Z2YLIJBTwepPaUhw+N5oUzVQxpfYHdzAp5FMOhx7eMrv2gZMDzWv0x+\n",
       "WJqvjE+/3GSoXVycGS5Z/3rWU6vOfVaarwwCMk6IYNDToWonpieGoQsfeug8m1BWl+Yrw4JsBSIY\n",
       "VPCBovYTHBiK+QABu38X8CwNfq1Ta9fwuxcUrHJh/qJqFua6dhoRMVzvjfHH0mDbSnNra2j3JSgU\n",
       "dH0hgkEl8avy954UMTwTo9c6zZwZ/c2XRPxiOOw+97KvR8TYtc5wkts0+xYU+PyIRupqndV+n0gR\n",
       "wxPxdq2T7S+g7dcrMrbVSlICPwQRDCrzfZXzgyKGJ2LsWmewoWn1y2cc8JIQwaCytV97F7yIYUSM\n",
       "XusMvrTZN0pxk0cwqHDiDA0xjIj3a51HX9p2TiOBF4IIBhWO2plpGcMjMX6t0821RavfkAi/GAL5\n",
       "qojqX0cxFWWqIYZH4sS1zqnGZ41+Q6IC8xciGFT+ubohhuqn33/pgI+HCAZV+GDVEEPn1e/a0LA8\n",
       "gkHlw+qWGFr9w8tQ5Wfk30xSWntxFzGk7fbRsnGgzyIYVKe3MrbEkP3qW72/91Wyi//qW2Jof/NI\n",
       "xgDeGQARDKpVmtbmXMRQ/uaXq9shj2BQtTkkWmI4/GJEVEMeiaH/AJUlbsDEJF4hAAAAAElFTkSu\n",
       "QmCC\n",
       "\" style=\"display:inline;vertical-align:middle;\" /></a><br>"
      ],
      "text/plain": [
       "<IPython.core.display.HTML object>"
      ]
     },
     "metadata": {},
     "output_type": "display_data"
    }
   ],
   "source": [
    "# Notice we're using a ScalarMults instead of QMults on the rhs\n",
    "# at least until QMults are automatically simplified to do that instead\n",
    "_psi_t_formula = Forall(\n",
    "    t, Equals(_psi_t_ket,\n",
    "              ScalarMult(frac(one, Exp(two, frac(t, two))),\n",
    "                    VecSum(k, ScalarMult(exp(Mult(two, pi, i, _phase, k)), NumKet(k, t)),\n",
    "                           domain=Interval(zero, subtract(Exp(two, t), one))))),\n",
    "    domain=NaturalPos)"
   ]
  },
  {
   "cell_type": "markdown",
   "metadata": {},
   "source": [
    "The following `_alpha_m_evaluation` theorem gives an evaluation formula for the amplitude of the possible measurement outcome $\\lvert m \\rangle$. This is a step _between_ Nielsen & Chuang's formulas 5.23 and 5.24 (pg 223), from which we are then able to derive a formula analogous to their formula 5.24. We don't explicitly derive a separate theorem analogous to Nielsen & Chuang's formula 5.23; instead we prove the `_alpha_m_evaluation` theorem via the application of the inverse quantum Fourier transform to the result in the `_psi_t_formula` theorem."
   ]
  },
  {
   "cell_type": "code",
   "execution_count": 13,
   "metadata": {},
   "outputs": [
    {
     "data": {
      "text/html": [
       "<strong id=\"_alpha_m_evaluation\"><a class=\"ProveItLink\" href=\"proofs/_alpha_m_evaluation/thm_proof.ipynb\">_alpha_m_evaluation</a> (conjecture with conjecture-based proof):<br></strong> <a class=\"ProveItLink\" href=\"../__pv_it/theorems/caf49173b3711e4a248a8274f0b087173d02bcf60/theorem_expr.ipynb\"><img src=\"data:image/png;base64,iVBORw0KGgoAAAANSUhEUgAAAjsAAABMBAMAAAB5QGs4AAAAMFBMVEX///8AAAAAAAAAAAAAAAAA\n",
       "AAAAAAAAAAAAAAAAAAAAAAAAAAAAAAAAAAAAAAAAAAAv3aB7AAAAD3RSTlMAq1RmmUTNIjK7EInv\n",
       "3XZ/CtNrAAAACXBIWXMAAA7EAAAOxAGVKw4bAAALXElEQVR42sVcf2wb1R3/+s72ne/ssyekTUWl\n",
       "8TS0P4At2boxysqSQWEUVhK0P9CkjvgPBhoU4jK0rmxZjFQhphVibSBaxtSbuoFQy+xOG39QaLJ1\n",
       "qGxjJINOk9hK3G2iAkTTJE1SkpDbe+d7z+fnO9+L8855f8Sf+Hv37u7zvu/7670zgLj2bZ6D4n2t\n",
       "ycJsylssgEFT9EWiGZ6jvtqiLNR2pAHoGdHXuIKHcOkvrcnCbckuFsBxwZfQuDo83NWaLNwWm2cB\n",
       "9OfFXiKS4znq48Eypaf9/KxrAJGi2CsM89hVdTZYJlfaT89QlgXKtNgr3Mnlt3LBsg+ubT89iXEW\n",
       "wC+EXkCa5Tmqs6+57NCRiyFVM2dXtosedZkFMCxUiePjPEfdGyDrgW3wDP3msQ/apj5PN4DEqFDT\n",
       "U1nJIPnJZmGocKlMv/tM2+jpzLJAEmp8OniinshCgOxqRM8DX1oDetI5FsCcyKjnQ56jSsVA2cvu\n",
       "79pHT+QCC6CjIK57mUsVu7NBMvWttaEntsgC6C8L9IwLPEcdMINku+2/6n7UnmwnPbDUANICbXOJ\n",
       "x3FpHwXJlB4lvybaAwcKLEhcENd7N48mylRx6+dQTbb7kT3m2tAzWWaBsSjQcfGkFBESOv7yhgVv\n",
       "2Zhlub77wcCxttEznGOBKtB1jXHVDc4RZCz4y9ampRdYAJYpqvNmVsXLQDXSw2W8QmzxWRbAgLDi\n",
       "pcQV9nQW/enpbFpAiGbDIUW7m15hmQXQKyzrinKZsd6yPz29TW17QJk12nJx5lEygeQPWQDdwko+\n",
       "ca6ocCDrT89AM/2Q6+sgsc9eX0vVsEjqaTmcJTVldYkFMCws8ElyxQhjBX96xpqF8HvrjWQSSoz2\n",
       "tF6G/SmZZhYLoCTMW6S5guaaK2ikx5HFLVejc/+e+mMV2It1aMeOOxDGMyC+6yzWhGs3Xn/5ShOl\n",
       "w+SerAIL0sLiwiEeopVaTNNAD5FJlnNPz96+3iLKLTWQ+QSiKKbrAHlETx7S9z+HvpDehVekpiZM\n",
       "biSPLj9NZFmQElbS6ORxy9JH/vRQWUftoGvI7aXYZ44WYBDgUAKUcaWojMPwxYC/2KflWBenHf2Y\n",
       "a2Im3R3Jb9vjQtYmBiosiC8LC8lzHAcZc/70UFnKqi3AbSU2ko3PXjTw39+nTGdyvT/4LP5iXCqn\n",
       "ZIZIiPqO3Cv235+TcSmzICIsqxjh8YF6LTjS5/1kqjVTezYnPV3H+knLVrGsROj5mv55rCkZoy9y\n",
       "hjGKfYqfBVGqBmEziSwyLIhOCUu5eNZcI/RykfVzF/nJJq1azu44pJlV1KFMm55BZOhRt3HcoQzq\n",
       "Dvuz+COsJ2TpZoRMAAp0pNH2c31q1eUAnsAjcZ5HlrDY2aDOr+bWdNSddtN3dVvtMC23wc7vYwYi\n",
       "Zy47gWezc+sj5LIU6EhH7QDrrtXSM8BDT/w8j0wbYw+TiVskVTKrWTvXEBdrZQ3OHEKmHNGjlaEC\n",
       "ZSijz+R/ADuyqKMsk8RPUmCgAPEhcObvqtoET7kntcgl67cY7xO0PN101Vl5ClSkJMU9KLjMx7sQ\n",
       "rihZqKDPoS22mzccPrsJrxTIKNiII/OmrzrhG+OhJ7nIJdMtZqdGMsCwNV11fgB22QpwK51cGQMk\n",
       "/MCbYuPYykkXmtEjozPiqy/38CS3yWU+2QBTh0pj7rX1J/3O9Vt1xqco+x65Cc+gynZKz+ceUm/G\n",
       "/2xQx3HHqhNddRJWKJBwqPq3U6f+unp6HB9z9EiToD45wyc7bNXrYhp3fviNzV5KhLPTlF++gE5J\n",
       "Vo1R3MQxUpUeaeDPdiHnSbgI36w205SeGwGeWjU9VpWewT7thOKeqdtO4fZ35zGb0OOW0cSCZCy4\n",
       "x0tA8crrcHb6jE+fPqfAV+r/dfS2n7BCQQzTsxOUhmH5cpfPPHa729+5YlnHmr4O8LjhW4JMN8lh\n",
       "6mS9S3V9DGersc/PvCwvyk4vlb379DmFJulOc6zeMKGSAhWnyQlTZ4uGKnJt+rFyQ+5So/1grn77\n",
       "3Ub7eaKI9xt0fxN6dZUJtwvW5upkJLGoM2X9ffhWLcvbsj8BrlVncrdz0OQUZpXEiSMOEpWgQNuI\n",
       "Vbnitszq6f19IOWwBn6TzV2Mk2TeqGdR6CS5/K1lM5xEAcJLL/priNcel5MeMqW+co21R53etetB\n",
       "z0Khp7E7CU1OAU96fLQHcu65aMcC+MFfhXSezV1q4azE0mMTV0KDPpKFL1x1NvPffR62h3dyGSca\n",
       "6AE/r1fNTj0bZ8K93Jye396NdPu6x04bmwpg2IqFHhwZtWSWyV20XAA9aUTPS6B98Tj8AU6vwvb0\n",
       "12vEEL6pr5vIznhE25b/GonPKR4mymaFWGQKVLsG9UNkQw5u70pmjAw8R0q76gKkupjcRerpctMT\n",
       "G2cde7QIcq+q/CYHF+DmIMd+l69MZWjESgnPH7/97RW6U75TyCZCH88FETRWD74D6UK0DN+wv3+4\n",
       "gOlJVpjcRbku76YH7jPZuOfoxveixyBSQbb9jQB6tHP+cQ8TYybtpGHbXGWF9PCdQnZ8+tFjtw3I\n",
       "QaaycCXK+bIqclJocqWzTO6C249xVpiv0vPp2sUn3JqWLBhF5VyjyUw5FChbvlOom5ouGW53sBNI\n",
       "8B5apk65wEHPq/AuDKnwk6ppzDSYZid3cWuPMurKA9zDNIT0Ry425omkOLkb9Fnl5XsKXjJc0WDZ\n",
       "iI6GSY/u2IhOchUKpCVX5WwDbIqiIMgxzXAW7CTuEGh2/OPkLn6m+YA7SLoV4nllQ2N0mHCikE8A\n",
       "vAbxrKcMT4namdVj5IUw6Uk44Vs3MaUUyNTqxzLIVO58D7FA6NGP2XTszau2l03WFVKUFxYrdfR0\n",
       "8NR7Ik6EMWZCRz5tesrQTdW8ulylR5sOk560YxdouZwCo3GLxqH9TljIMWldR/XyFFNJ7fYSvG9v\n",
       "u7eszqtf4Xw+HiY95OUJWi6nQPfZOBAbXyk9Ky3FT8BpreApc23W/xXRqM1h0vMCGeEeFkT9qpv3\n",
       "8fT7sMt6dPPom0yVVV2GW3TTU0a9uvJJmriXwnwN7o/EfFZYkPALu1WO8qHiHv1+HucSo54glYE9\n",
       "V3nLBu60273/RgklrYnnwmPHIHdO90BQEBdm81a4iLzVVxZ1V9W7amFHaI2mTnQPBAVJYWvsaa61\n",
       "FrKCJWf8ZZ4txFdP3qE3YLIgLSygSHG9jzPh2JDLQcn7yTxbPLT3BBUSRihLLIAhYeFohGshs6P6\n",
       "lGoZGkuKHc0Y0P4ZFj3Pk7kVm2MB9AszecZ5nqMmqy5zcMuWbX4yn/Y9MyR6aLWV7mKubWeeFPbW\n",
       "QIxrD7AzHBOWNecn43GTAptGp3RkmgXQkRV2GYvnqGa70UprvK85tcACmBCnshM87zWn5oNl19Ry\n",
       "/6Pvt5Ge0igLtCVxvY/w+BZ9JliWpOouV2LF9tHTmWGBNCWu936enDQ2FSwbqgVsBZhvHz3U0FAQ\n",
       "EVgo4HslYixYtkkhU2rIpPlQG9pYAxD5lkeUKwDvLQTKNtx/OL8VV2y7hk14s23sqFMsgGGBvzIS\n",
       "49qm2Oz9Q0f2elYlt2fiRek2NWOaBTCZFdj/a1xTcDRIppy/EWqTa7pt9MRHWQA7RPY/yVOTMWaD\n",
       "ZHLxWwpUJ1dbTfNwmQXqosj+01wzdSpIFqk8SvYwGJVYpm300NfwKYgIXQDQuXobMQNkiXyE1smO\n",
       "/s9sFzvaFAugJHRsNC5dLJVbk4VumedZAJNif99okmeojYXWZGG3ZA8L4E+Cczquwf9Xi7KQGx1b\n",
       "CkQPlsTlZjrzrclCNj0zLICS6ALlVq7outiaLNxGfyis9oth64RXTLj4frNFWahtu8mCmPAfCVS5\n",
       "etxrtiYLtf2jAaTErzzexpWc5VuThWp6+lgAv65+/B9e9N18Pe3xOAAAAABJRU5ErkJggg==\n",
       "\" style=\"display:inline;vertical-align:middle;\" /></a><br>"
      ],
      "text/plain": [
       "<IPython.core.display.HTML object>"
      ]
     },
     "metadata": {},
     "output_type": "display_data"
    }
   ],
   "source": [
    "_alpha_m_evaluation = Forall(\n",
    "        m,\n",
    "        Equals(_alpha_m,\n",
    "               Mult(frac(one, _two_pow_t),\n",
    "                   Sum(k, Mult(exp_neg_2pi_i_on_two_pow_t(k, m),\n",
    "                               exp2pi_i(_phase, k)),\n",
    "                       domain=Interval(zero, subtract(_two_pow_t, one))))),\n",
    "        domain=_m_domain)"
   ]
  },
  {
   "cell_type": "markdown",
   "metadata": {},
   "source": [
    "The `_alpha_ideal_case` theorem:<br/>\n",
    "When the scaled phase $2^{t} \\varphi$ can be represented in $t$ (or fewer) bits (what Nielsen & Chuang called \"the ideal case\"),<br/> the probability amplitude $\\alpha_{m}$ of measurement $m = 2^{t}\\varphi$ is $1$."
   ]
  },
  {
   "cell_type": "code",
   "execution_count": 14,
   "metadata": {},
   "outputs": [
    {
     "data": {
      "text/html": [
       "<strong id=\"_alpha_ideal_case\"><a class=\"ProveItLink\" href=\"proofs/_alpha_ideal_case/thm_proof.ipynb\">_alpha_ideal_case</a> (conjecture with conjecture-based proof):<br></strong> <a class=\"ProveItLink\" href=\"../__pv_it/theorems/c9d0edba0e46c2b60cff1bc7234a883ce5d1d01c0/theorem_expr.ipynb\"><img src=\"data:image/png;base64,iVBORw0KGgoAAAANSUhEUgAAAWAAAAAaBAMAAAB7gZtsAAAAMFBMVEX///8AAAAAAAAAAAAAAAAA\n",
       "AAAAAAAAAAAAAAAAAAAAAAAAAAAAAAAAAAAAAAAAAAAv3aB7AAAAD3RSTlMAZkRUmRDNuyLviTJ2\n",
       "3asqG0tJAAAACXBIWXMAAA7EAAAOxAGVKw4bAAAEgElEQVRYw61YXYgTVxT+spnZTDKTGIpaLGqX\n",
       "Qn/sQ81DESwUd0FXWLCdp4oIbrZi6T7400qxIEpAqT8tGgrFUh+6fWgtW9D4qKKJtKv0oRpkLQtl\n",
       "15WViggi6trFtaTn3JlMZubeWRObCzPJ3nvOl++ee/7uAoHRWcD/HW2AeMZ4gZ5Yl/O9P7yotQzX\n",
       "H7nS3R6+ccZ52/1jRXjV2NEq3orIlQPtIfwBPXre+X74z1/Cy4tlDf2VOeAUEDT2sZ/EKkoNo3mu\n",
       "QvQTehJZd2azJJO2palLr84Fulk1ad5mmOtKhV+bJ9xBWzaK9OUQPft7dwPTkow1KfkQCw3/pogt\n",
       "NYTJPBMMc0XpkkNNsj1Pe75IUcXyfcJZT3V1FOXzlwikqpQKcvoYFP6ugNjUO+0qod+OcMkmhn5r\n",
       "O2l32pjH+eEBkCkgWbQmN0qSAyrCS4ATkmQEhOUR7swqmPQ06w9XiXCsG2X6MAkyOY3MjFb5UZJb\n",
       "635eHh/Pe4T3Aqskc0VANAhrvpSTqKsXWyGMb/AHQxJaporMrNlTkuR+dz5eG/Fb+BFQzkkWVkM0\n",
       "CFs+cqZLPp5vifAA/uZfcpTS9/3r54jkPySzXJjC2OJ3CZ0Jq843CBEm3OGPh5fcysQxlBq+2yTh\n",
       "k9jFx+PstlwJ1iVz4C1CK5dCBVfLw3gSlnaHalIQFsY1Z8XEunEeN5zCx35tXMOGwj4n0QR1HdGJ\n",
       "BuGF2MZKTuqaCGSbEjIA7eSoqNqdjZVDWYewKh1NIIKw8ZBfDwIlUfhUmt7JChLdI/rwPVtVpwIW\n",
       "XolRVhKb9UJCf8ynBCwQ5b9fED7DOxUCRz4kCSK8XGHMBsRWYZqSRxibqKDoAcL6ICMn6fU+H9uQ\n",
       "Bq1qjebmJlz2WXipt8SbsIAKdCJ1VPzq+ka0rLVF0K1SQC9FlIXxExEzZv3zX/wMl/Axss939rwu\n",
       "Wq8+w8LLGoSp4hwMtGkdJWgkUxbem/YlJJImz3/ZVhWtgxGERXk0Z3yOOf4xXJfQnxLhh4jZxqzb\n",
       "1MRgDmaVPvwubnOW4JM8C4z4CWc16By7TpawKoHCsQjolamFIAJZohjOEq+72yfgp+56qhrvFjzf\n",
       "wJEv80oLvyjSLIewMbp6deA8Prp0eh072aJwT8OE0zn9uOfu4gUFhCs/U09rMV8eNlxCqUlRm+bf\n",
       "L3G3YPQUoA+RMw5BiulTBdFEsAF55+larRbYVOzGv0LnPbcl+NT2Edb7rpQ8d3deCginnNx5fLNe\n",
       "6XyNVMKtLyYtpH5YbPdVYHzmzHyLipFDOKbvfb+NrH9NOD2+RnSRr/cSb+7xleaWh9RLeF3wX41m\n",
       "z4uASQtxZbowql63Jo/jc3Rrz0dY2a3N98jsPremnm0umEpKFFkw2a/OqHpup8rGpH7YKj4HYS0f\n",
       "lfUS9RqarNXqhT2+/VhX5C1riv1MYX/LMWRaatRF0Wp1bGBvGFM2uqpbY1TB+zx0pwvwKkWp7p9q\n",
       "me/hqeg73VeKuZ1qGKtQv6K8E3nt24G2jRZuzdeb/b+E7Ht2+wivaQfIf3pEUDGIl6QHAAAAAElF\n",
       "TkSuQmCC\n",
       "\" style=\"display:inline;vertical-align:middle;\" /></a><br>"
      ],
      "text/plain": [
       "<IPython.core.display.HTML object>"
      ]
     },
     "metadata": {},
     "output_type": "display_data"
    }
   ],
   "source": [
    "_alpha_ideal_case = (\n",
    "    Implies(_ideal_phase_cond, Equals(SubIndexed(_alpha, Mult(_two_pow_t, _phase)), one)))"
   ]
  },
  {
   "cell_type": "code",
   "execution_count": 15,
   "metadata": {},
   "outputs": [
    {
     "data": {
      "text/html": [
       "<strong id=\"_alpha_m_mod_evaluation\"><a class=\"ProveItLink\" href=\"proofs/_alpha_m_mod_evaluation/thm_proof.ipynb\">_alpha_m_mod_evaluation</a> (conjecture with conjecture-based proof):<br></strong> <a class=\"ProveItLink\" href=\"../__pv_it/theorems/9655086fe34c117c4c1c04e5eac5f7819b5d5ea60/theorem_expr.ipynb\"><img src=\"data:image/png;base64,iVBORw0KGgoAAAANSUhEUgAAAiwAAABLCAMAAABkxywQAAAANlBMVEX///8AAAAAAAAAAAAAAAAA\n",
       "AAAAAAAAAAAAAAAAAAAAAAAAAAAAAAAAAAAAAAAAAAAAAAAAAABHL6OuAAAAEXRSTlMAq1RmmUTN\n",
       "IjK7EInv3XZQQBRtQDMAAAAJcEhZcwAADsQAAA7EAZUrDhsAAArcSURBVHja5V2LoquoDuUlb5jL\n",
       "///sFa0vQMXY01I3M2emzdnRJS5CEgIbofc13qEWGhRGI/A/14TTAMl7GsNNdAEURiPwP9kMhkje\n",
       "0YjVLXQAFEYj8D/bLIVI7jf9Ly76ORiJnmB/gixdEADJ/YZ5E48PhZHoUf83TAtWEMndJkMT7iEU\n",
       "RqLnHSN/w8cNBCC5HYK0YVigMF562hiMo+/iSjMV5c9ji3IQyU23sg3DAoUx6UVPhfVdowu0kN67\n",
       "55FFBg+Q3BzRbfQjFMakFzkjgkSEoYKfTB5IFqQsRPJefjYyTC7qUT2SRTAq/ghZSOaR1EhuOdWh\n",
       "iSQFFMZGz+xS4pFkQYFDJDeSG0G18NhQGBs9uZ/ffiZZcG9Jr0vgjYYmAk0ojLWeUCuuSDU18Vyy\n",
       "dMEAJDecpDZmISiMlV7M3ArxpywLChYigZv/JnqxBENWLJqu9ISSUjL9t8iisjmmRgI3/6aFh85g\n",
       "aMx4hbFZ6dkQW/nHhOHBPHEVwGevr0YCd5GayMiVYPgKsjQC/4sJBw6QQJsNTTx0CUYNWRqB/0Wn\n",
       "JeukGsnjXJYastyC/2vrjZoX+oNnprVGAmukjSxLEUYFWe7A/73qupLHz7LEd40E2GNt+LdFGBVk\n",
       "uQH/9jI0+/wwo7jg4SuABNZ4Gym5IowKssDhy+NKzI54VrTdcuYY+UJBniK5h2sBEqhjKVsgSxFG\n",
       "BVng8PmxSbLRHzqxLF8oRdUZxXWWLaiRvMuZbsSnryNLosfDTvO5s3N8bRFtz2RluO3/edkRMVt0\n",
       "LoSfFrwZoZR1xNwZebRGOXe0QjZeaiSQJkIToWcZxjlZUj0Skm7RovPYhtwMu3NfR3UjaVCHDDIT\n",
       "hQayDGsKQRCtxs/E9x9sh8jJVedivqIx21Wmzi9PnK5nuGwmrpHAopAmIucyjHOyZHo4lK5Es86S\n",
       "Fb5zZJ1w4ztGgz2J3yJZBqkMw2sff0LJoUDvLBifivkuz9KL+6RM5rZ5gATSfGiiNLUMw5zuY8j1\n",
       "XAi4InI5L3o3Gs0dbDo0B63zNOSNcHoC2BMgWhWHjv2YqZjvsuFdET81kjgLCGskkGbaSLOUYOB+\n",
       "+uCYXtST/URU0mFb3oUz5zR6P7MJ6O0FycjSX9HQlyXRPUF9TwTsj+k9FfONV3KjPzWp8BkTHaKu\n",
       "ZTMUVUh4MxGHpNkDjKoki5DAXHMcmshMQWEU9Pyq+zfvaUsp8b2B8eKgZlpQtBrxM1m66BphsQTp\n",
       "PQeJti/IjqUDhqMqyZIK4LCnV6GJ3XtQGCU9Fc79MJr500mpVIC3s/xOnNB6Jwj1//NCm5fj+yLL\n",
       "8CFOf2b8M/699b01mSYvxlMiOFQlkTg1jpeTYU2QBQqjpKf74Ofsand3YMI3yI7FfHI0EwrJ8ULD\n",
       "90iW4UNPFkFG0gzfRWBMrkxnakotqpNMS0sGGBq5NrL9UBhFva4f3ifdYW9OvuANsptivn6Ed7gw\n",
       "DeHRuBCyuCydQ2KOAGViJUNmN8sS+roBdKTYNsgChVHWMyGcnKqwqGls3WUzcXmD7HSXbTEf86iz\n",
       "BbJQ3M8YkpnFZeknr9m7kclIqCcLsi42a8BvaTtGjDFYfoMs/p16fShzPHrmYEhbR2i9nZlWjC6m\n",
       "Sua7bIv54rSwWkdeoiHCg1Wr1EpvVPCc39VJJEcyauxKxslMafBbWt9ZuC4+mRinzHc35lYNH8CA\n",
       "wt+4LeYwbzE9H3bD19rue60Y6YuG/OJdTqa5ZIBcIIvA03+OwFplWP9v4cab3rYDDMWQf9OCUa0j\n",
       "GIBk2dPL0v5pMoZsTIyqvftrxai8QfbMkKl6HUWq5tDJRcudth1JNCpmpxBKeqyiOXMiZiRLDNi4\n",
       "gixMsRlgVvN2udK8BFLrCIbatQu9nV929dih29JNlWPyFe5eeN7Yn+UNsrtYr9/lcFtDEuvJbBF2\n",
       "X0L8rns7B1wxJiOCFt/SfyvDMsbfxhqIYeHLe5uWQKodwQ2MUpZj6UZ2oLeJkw7coNmy9B9EbPXP\n",
       "yy54dBPW63c57qwtWf6XUeNAwqfxSxmV3mPkqRqeyK/ZwRA7G9L61b0GtkS5Mp3zEoir9FkCcFV0\n",
       "X08cZeZW09BFx3q9YnQB5ls3oSRXu2JZkCFjskXTLq4mRKfbx1eh13k6Kog87e2JLLZEvZFPykni\n",
       "saYUdyMf/WCFfP9hZVmmJZBqR/D9ZPFWHDm40zhi42RVm/7erBhdcO2v3aXKA1oTIRsLuxLxivyE\n",
       "9vHdxAE9hOjd6pra77ghm3BiXJqlvesiM+qt4wiuXhv84vyt3et+dvve4hJItSP45mgoeiXy0JuY\n",
       "Bqd2lnbe/ePtZ2+9S7qSeMXB7WMduSRvxvIuFy9H+bjWET+baD+R1ie9bQylvRvMjM+oNyPVY0lF\n",
       "vI8cECg/BoV88wzDEkidI3hClqNVrz09eWKpLFtNjoH/+62Kb7xLevLeNbIsXdC/2ViyJaJpQNKs\n",
       "ckmSjhNu7gfuvqUt9WayrP5mLK3ArAsoJYu4lvk5gHFYCev28iwnL4Y3UZgBa2lBKIws84ukavBm\n",
       "l/dlhu+dK03Cu926pV6JLKNl4QXLcnieAaqAIRjjo69E+BW9l/gsvcPs75IlPa+IZMuGNZJhUYoP\n",
       "tRBDSkVMninFGHujeCF1p3aD/5R6K6mabE7kh+idt1iiJOz6nJSj8wzQOYxhEd309lYYxw+qoMvw\n",
       "1andoOF3T+RWOH0Wh65Lcmtsos9yuHMR767mp9Qbrxh/nlreibFQz3g/lKCZPhpyXC6uREVhxxEM\n",
       "PFglazNXqAY+K6a0yHZu+92TctOZNy8trZGAHK82KuVSGHYY+TjWsx3agBJ8Wgya6ZYd6mdPbM8O\n",
       "WM9LS2skoAmwzRrcYeVtOAytsxfhl4NmYlNG/azLwrMBwwASSKNtVPeXYbgwJHm0vKBXPH5cZ52l\n",
       "f/ZYF0syv80DJDCj1sQQK8IYDrhlHhldr1cImgXBhTVo86Ons3ubR4QEIIG0lnckDutHkh3t6sz0\n",
       "eODr5tzoaxeCASufYVgK271rJDDf+oubIo5hVJ1okeixvZL7PHf3m7/4wfNCF3zs6CfXxuSdw6D4\n",
       "H8Pn9Pe4IvJIT2QzeI0E1nBoos8yGMMW8/Mk8A342olf44p2pOC2cYAEaNfa2DiUwhgXts6rO+/A\n",
       "F/zX0rilwsxPnm3atRE7JzCEY7G5fwtf/JiPq7uibSUACRBAG+FQAuO1ZZz/CvyvensaIAHfTLTx\n",
       "zOIderRYYWSMNw/lis581xoJtJk2PFwojFTPFkx1rFHu1DPJQrLVsRoJ3FtoYikRCiPRE6VZaci/\n",
       "BfFIsnzSZUFNn8d+XW997M1CoDhj22f++t6822ok4MbaONwUCmOrNx17w+bjVujr/DhHn8gVmRnk\n",
       "GsmdCaAJ5w8KY6u3OfZm7qzBsjzy18j7bIapkdyxZG3UdkBhrPW2x95spqHwyGmIW4jkFju7NgZJ\n",
       "d1tvPvZmPQ092MGVmTmukdxqbcRDYBgrve2xNzOdPNocsfSkWEgDJDdzHE0skkBhrPS2x94sP2E8\n",
       "0w/kis7GV43k7j1NG49ufhn+V2ZuAZDcvqlu49n1L8P/QkzAIJK7zbUxNqEw3N80LfkgqZHcbqSN\n",
       "WAEKgzw0l382/VKA5A2NtbHOBoXB1B8kS/7LKmokb5kB2siGQ2E8M5l/2Lrs0LwayVuatE04iVAY\n",
       "jcD/6LjqIJI3EbWNaR8Ko/trXkteY3ki+T+MfHvMFJGmvgAAAABJRU5ErkJggg==\n",
       "\" style=\"display:inline;vertical-align:middle;\" /></a><br>"
      ],
      "text/plain": [
       "<IPython.core.display.HTML object>"
      ]
     },
     "metadata": {},
     "output_type": "display_data"
    }
   ],
   "source": [
    "from proveit.physics.quantum.QPE import _alpha_m_mod_two_pow_t\n",
    "_alpha_m_mod_evaluation = (\n",
    "    Forall(\n",
    "        m,\n",
    "        Equals(_alpha_m_mod_two_pow_t,\n",
    "               Mult(frac(one, _two_pow_t),\n",
    "                   Sum(k, Mult(exp_neg_2pi_i_on_two_pow_t(k, m),\n",
    "                               exp2pi_i(_phase, k)),\n",
    "                       domain=Interval(zero, subtract(_two_pow_t, one))))),\n",
    "        domain=Integer))"
   ]
  },
  {
   "cell_type": "code",
   "execution_count": 16,
   "metadata": {},
   "outputs": [
    {
     "data": {
      "text/html": [
       "<strong id=\"_alpha_m_mod_as_geometric_sum\"><a class=\"ProveItLink\" href=\"proofs/_alpha_m_mod_as_geometric_sum/thm_proof.ipynb\">_alpha_m_mod_as_geometric_sum</a> (conjecture with conjecture-based proof):<br></strong> <a class=\"ProveItLink\" href=\"../__pv_it/theorems/3414a4b887c7c46d9fae6c2a56c87a2250e9d5650/theorem_expr.ipynb\"><img src=\"data:image/png;base64,iVBORw0KGgoAAAANSUhEUgAAAeYAAABLCAMAAACSuNR5AAAANlBMVEX///8AAAAAAAAAAAAAAAAA\n",
       "AAAAAAAAAAAAAAAAAAAAAAAAAAAAAAAAAAAAAAAAAAAAAAAAAABHL6OuAAAAEXRSTlMAq1RmmUTN\n",
       "IjK7EInv3XZQQBRtQDMAAAAJcEhZcwAADsQAAA7EAZUrDhsAAAoLSURBVHja3V2JmqwqDhbZ1xne\n",
       "/2VHRC0VKDF6+6Ym3zm9pDv6S0hIQrCH4T0SfMBAUBhI4PeQ9AbAeYcYQTEEUBhI4PeRJRDOGzQ6\n",
       "g2EAoDCQwO8lRyGc52T+iYv+HYyTnGTI1cyjBHCeExEoHh8K4yRHA3ZzJhrCeUoqoghgoDBOcsGz\n",
       "EXsUFkcA53F4i8OYoTAWOWMtIWmN9jW/TgUmPWsP4TwMfHAYMxTGKpdWZDYNjakoVIXgMalZxQDg\n",
       "PLQiHCMAhbHKJW3LqIaRDZVIbkSl5kE7COfdmYVkgt+UoyarWTIq0at5LFbeHs6jsC+iSDqhMA5y\n",
       "tqlMZGoeooBwHiSrUWN4bCiMg5xq1wixqZlMfuc+B040okg/oDD2clLvtKz0ShKjmnm0AM6DYACH\n",
       "z4bC2Mml6peUP2LNQ3QQDtxZonj+GgzVsU2zk5NaKcXMr6hZFx65hwN3lhbDQxcwDGGiw8B3ci4m\n",
       "qv+atCJaXDXQUAx8DwceCqCojdRghA41I4EPSgQFgAMlF1E8dA1Gj5qRwActzsXj9XD+75bmHjUj\n",
       "gQ8iUTiiHg6MRhxZcxVGh5r/Er58+bdZUfbr4cCI4YjAqjA61PyH8MO9vJ5f6ocWU7SHA/UcKIoj\n",
       "VRgdav47+OPd+RSuOmFUkRX3cKChj8Kg5iqMDjX/s/Dp5+LmfsgrzFVcEQGct8I9JFFnn5pPciI2\n",
       "qOlBt16E6iT6WDC7sk3KRkoZH636cC7BKwAHFFZEFAlJHca1ms9yYzwNi5E8EBfbrm/tRbh0G5dO\n",
       "PUyrqON7535qN6X+NNl8seL0cGARLoqEpA7jWs2FHIm1K9H2YK29CFc3uvbZWs2efdeHJk4ewPFz\n",
       "YBGG+xxQ+BhRtEjVYdjLHtZSzsdYa2RnupHrrL0I+Qc+u3hZ6IktNpoYSlT7jH0O0/yndSW31MuP\n",
       "6xnOc9ICOBCyONLmGgwyOVtB6E05NWmpJsNkOzNaexEMM5IOu2H9qHn5ik9XkUSqyqQ0k07DZK4k\n",
       "bHfKXYZbZkX1IIM9ZIOkyA+rnA9zhDWyk4jiVAoURkUu7Kzx4LibmdG8EWYm7vQpSGOX0GxRbv7e\n",
       "56mRNGaX/x1LkTtkVtMEGI2T+0kqimlb5bDN2wtYj76OKE4oQGHU5HT8Gm8UmVHuRVB5/PWg8hXn\n",
       "75Oa8w+WZXVSsxzz52PXwjGu3zzLIbNyyY2ogwp9odQqR5ENK7QsgULNUBg1OTMF1l+uds6MDr0I\n",
       "0zByUnPai5pJNuixHf3uD/Zwt8+sZGRMnRyPK1xRnbOm4BYYdnsctU4ojKocn+xp7M2Mjr0ILGy6\n",
       "Oap5cdqUTIal2Bew+4M9WyfDnFlNSzP3x/CvSCNbHLoAgcbLDoeaoTDqcnbKk81FZmSI82w49yIk\n",
       "q9m1rHzUrMMqHp3+sml0ONhD9f46JExRwGFV71fz4HwiZ8Hje0zLrLVE/RtqDm/KidjMExdLNM6P\n",
       "1PXHfdtx49YxPD6GOVDy5b0W6bSGE6qOxZyiDtDgZHevDXh890uV9DyNgMxxxtvE/I7IFxhQ+Ifl\n",
       "uTHxFwMlfl4tu4dNrerTY3MtMPEU4Hl+yKwqxZ1uNUuyfviWdzht2fSvUgQ6jJObp6pmQ3ip0N17\n",
       "0jgC1dySK4qew2mRzXK6/65+uVyrC1GmmHw4HOyR/pRZVYKIbk4yZNtYLVQgOq0kfgJhTU13h2CF\n",
       "5SsyMQDWgOA+V9r2A3pPGsfOyq05OeOmHGstzzlkVkvm0/+c9HrCppHeH+z5xPSqvnGgig2bNmcM\n",
       "zQBsC+BT+jdKWh3f/+yGIIcM1lmIMYvPiK/7Ad0njQ8wzlnoPkby7JvcsegZvql5lIluPKe+Kkyc\n",
       "sqV9jsvr1vzfQqlfOGK1GcqoCoEMgWq1r74sI8+uzMgsA2NhmyK7VWvbD/Cda3ME7sO05WSjRrI6\n",
       "7dshn7moTEymEVrzotEjfseap5Q5J8+G8lRST+FjIGdcVI7qcpxWNbvapFme1asxEEMp4Xkmhdny\n",
       "w/TFzprX/YDuvfj31Rxc3fqWzIhll36ndCjD90LNqfgWdtemuqXmfo5c8gJpQhrVZERzJM93xmxC\n",
       "Y7k9hKp5G4dOS7QqJs1mJNO4Cr1M0LQaGb/czx1HPO0H1E8a90fMcDne2ltcMiPjHeXB/1GDfqOe\n",
       "cicEm+Lo9YlIyOFe9kxU5JJr+tomnzIYczFO1lI6BWrMhmLSbGqerqFtvk+OLHTIiYkYjxmIGRon\n",
       "jW+q+Vu1viWnmla+ZUbMR/FXxzA8f0HNn4eedJJ6GGQyx0HZXe6uaF4+ykilOb7HSbOpefcTOnt3\n",
       "wngczmqW9zL5LzBMvC9nXLjMjP6QpB9eVPOmgmkpYIeaiZ2/5762pDQH5DhpamrO1iwq1vz1bOLQ\n",
       "AUMyJnJM8LVvowFfsEeZ0es+uzGHx2Kjoocz762IeeN7TpHlGjtRQkiwWlSKKLqZOp4nzY6rVztP\n",
       "mpVTMJM2/6XbnzP+djZxuIYxJyN2Ctil9cKqbrmFqx9lRq8bcwsOLbKBHk7pu2xam7+eziDNPbvz\n",
       "pMlXTL9PneAyN6/YEOa2DDtF2l6oz5LZPpvYBYPMqnCuWPJ74LNqpWrszYxep+a8Klucejggf4Kj\n",
       "e+QMw83LAEltIF/rzjX4tJpK0bEzM3qdQtN7lC1OPRwIIe0Fm3cW5ldvcHcTfj2VGt2Aj1jhi3o4\n",
       "EKI4OjvrMHyck3ajbshVX4FoWMT4tlZdBJA9HAjxiGKaV2HML/xiYfhSYS/kKqmUHEmMOI4QFXnC\n",
       "COCAokDEpy7murdiVN2QE1HsyfscDeI8BV0eAOvhgChGieGJKzCYvi/HWmeoKEY1/+HrCjyOd3eU\n",
       "MCj5IfhAF+YAHBgRHBO9gDE3zV8X0ghOO+0MSASAA8zqcMSgZxi5IH/dqxQi+1k1/+UboziOjOoE\n",
       "Q3qWyP8KfKAHGwEcGBkcofYJxnIyUfwKfGA8YgAc8M0kjmeWb8jRaqeAtcGi07IpoqseDpQsjiAG\n",
       "CuMs5yqRd+qV4xqbmseiHt/Dga+KKDYvoDBOcrLmw9PO+YDDaf1LS/OA+m2O9+WKo+LDerjCYfuj\n",
       "ReUD93DAxHDUe6EwjnLrUXG2nT6mg5rV7JEl2KpwXz2cJ+4SRXgChXGUK46Kz4M1WzOyPzUXCn/c\n",
       "w3niPXDsxUJh7OXKo+Kb047InLZwEM6jecVxTG/+WG47Kr532ihDMFU4rx7OI8IRa4Nh7OTKo+Lz\n",
       "RAjD4V0TOOJsA+A8zFlRvNARCmMnVx4VX8sjDNcfeDbFnO7hPL2nxfHo9pfh31xpJIDz+KYGx7Ob\n",
       "X4Z/K25kEM5T8jjsAQrD258zZgPgPKYRRxwKhTGiq2ReLTMUwHmBGI7KPhQG0z+lZqIhnFf8JY5a\n",
       "IBSG/6VeIV68FqWH80667lCEMVAYSOB3zkkO4bw0xXAsb1AY/HdWZ8Nvcv4Ht69xYBe/I9wAAAAA\n",
       "SUVORK5CYII=\n",
       "\" style=\"display:inline;vertical-align:middle;\" /></a><br>"
      ],
      "text/plain": [
       "<IPython.core.display.HTML object>"
      ]
     },
     "metadata": {},
     "output_type": "display_data"
    }
   ],
   "source": [
    "from proveit.physics.quantum.QPE import _alpha_m_mod_two_pow_t\n",
    "_alpha_m_mod_as_geometric_sum = (\n",
    "    Forall(\n",
    "        m,\n",
    "        Equals(_alpha_m_mod_two_pow_t,\n",
    "               Mult(frac(one, _two_pow_t),\n",
    "                   Sum(k, Exp(exp2pi_i(subtract(_phase, frac(m, _two_pow_t))), k),\n",
    "                       domain=Interval(zero, subtract(_two_pow_t, one))))),\n",
    "        domain=Integer))"
   ]
  },
  {
   "cell_type": "code",
   "execution_count": 17,
   "metadata": {},
   "outputs": [
    {
     "data": {
      "text/html": [
       "<strong id=\"_best_guarantee_delta_nonzero\"><a class=\"ProveItLink\" href=\"proofs/_best_guarantee_delta_nonzero/thm_proof.ipynb\">_best_guarantee_delta_nonzero</a> (conjecture with conjecture-based proof):<br></strong> <a class=\"ProveItLink\" href=\"../__pv_it/theorems/7785f1810b740f72aebec97b7896dcb3efcf0e8a0/theorem_expr.ipynb\"><img src=\"data:image/png;base64,iVBORw0KGgoAAAANSUhEUgAAASsAAAAyCAMAAAAz1A1hAAAAPFBMVEX///8AAAAAAAAAAAAAAAAA\n",
       "AAAAAAAAAAAAAAAAAAAAAAAAAAAAAAAAAAAAAAAAAAAAAAAAAAAAAAAAAAAo1xBWAAAAE3RSTlMA\n",
       "InZUiRDNmWbv3US7qzLn9enz+YF6hwAAAAlwSFlzAAAOxAAADsQBlSsOGwAABQtJREFUaN7VW+m6\n",
       "oyoQZN9h7h3e/12HRXNEUDHJCcQfZ8mXCBTd1dWFAWDYZRz4gosaOn4SVoCvuJwaDpYl86LDi3+x\n",
       "GjwfweaNJGXL/4kdOh0o4bRQoT1WQA2lC4XmzUDB9lhhOZCyhJw3AwmosAKMj5uPnJfYEWxgpf0w\n",
       "ykCezgoVDNRUY9V6aVCh+V0xSYi1tD8Dm8DgUbvr/CcVe6Qa3iuRBGxjRf2gYmQ/yuxeh8zq3B2I\n",
       "jhLODBKk8qPJL2g/VtrGy8u6qRBj2N35j0s7ol7dS7pO+mXIbt0AbbbodzcLPtf+enMMIML5zpxJ\n",
       "czl53hpW32E+s6Eron81nPLd4S1bhRvvLTogLEwe5VJfFldXYE4I4glddCOtpPksVjBUQvhyABMf\n",
       "M3Ht+LtESGHQsRCQVKVpsO6to55/FCtonHP8ZXkkYj3la0igjvLktu8RKSxJChPR3TG5rVT5AFbS\n",
       "x+sNFSlMW/5sOL4Oq20sG7uRtO1WvMEUeDvMR/iqDGv2XBWO6YB/TDdzKeR1EXo5mVxee3sKzjSC\n",
       "2Y3EKvQ8zxlC3gK+yi5scbNYFi0krIlnkUsH5qEgZ5LhsRoSmjb3GaziFBS5z18BnDUeoqlrjwKL\n",
       "q3T9+S/+XEGBnmz4Z2MKL+/Ol+dVQaFVpVLhF5UQQPwWjCC/ilqhbrO9ZEAt4iruNg7p4ZjpC6sf\n",
       "rNIvfNTkYVYCwGusZELbcIDo6fitEJG4dhQEus5wzPg9HaEUkPl+1qwGwPEBi+Y7tkvv1Dmu3GGp\n",
       "oUxu52z9Pkt4foWz5IjcPODZ7MTqKCDFcQcbarZRSb55FVjJFatEOmm90vWF1crtS13TR3EFGSk+\n",
       "V2O1iFMiE4vIe7xlcO0oqK7KodktPR+wyjlIU3GKnBPoB1WqNDHQ/38zAz1I3GRllXNqc4pW8JXa\n",
       "I1zl4OoNkQR6Y3xqlMPhRSGszk0CytyMwl+buFodhYe6Ps9BezsHTZ5owiqOi0KfiZrCspLm+YSB\n",
       "55mJNs1oUzcL+zq4YiVzjarHhxHFyGNpQ0zEN/6RSrjElaOAORDX3A7vc/tS6wmKqiHORBwcdOIa\n",
       "wBiTdMkZTtoJ2LAZ9vqKL8rfA9ceH8ZQNGEAJ1diDFucXgVl5UiOAuQCvqYZWr6ztOHuy6wRSquN\n",
       "S+e2J6zCLTlBqyxS+rJ9PNSihAgRSiCPG9YaH0Z4Yu8fscrRbHkoKmCP1c5RaGtRdK1FW75zZGdV\n",
       "LsfnuBZc4CJS8Hl5gqrX2MJen62mNX6BVY4r1oqrvaPQ7HF6DpEbvnOq+ruuNwRxpB4cOj93EVbF\n",
       "TnR3WYUtWq+mNX7CyixYJXRgbD/jkzZww1eVo/B0B9XwnbPkLv09x1E26K96lTJ+bgjIc0+mMT61\n",
       "4SNCMg1tknSBLjIzk1AHFXssqXIUXuo2d75zlkbUnLQJm+3u9h+uii/rWA18x6n4K1jtfeeljYUN\n",
       "rsO7zuxcIKI7BXh75IWO7ovf0Rmi59vxyne2Hgy4xJwn9EQujQ0HLd9ZmhGTch7PCBXRmDiBnGtV\n",
       "icD0Yw6epZ0PKocTkyxZW/vOg85SAZ/06Stzcj5jB53Ra69nhCqeuxwiMurZD6D4jFhFOe2nq0dT\n",
       "VkIaJ3UU8Wocxc74DCSK+efJAWuMe2x6xsBKBuuBgW1GVm4278O1zbAaubVu4u8CNNhqrHhG5nug\n",
       "IqO1s/2aLNTjvzrE8HdA5dgEdehLvmv5A9U/OUkrqpXoWYgAAAAASUVORK5CYII=\n",
       "\" style=\"display:inline;vertical-align:middle;\" /></a><br>"
      ],
      "text/plain": [
       "<IPython.core.display.HTML object>"
      ]
     },
     "metadata": {},
     "output_type": "display_data"
    }
   ],
   "source": [
    "# Lower bound on the probability of obtaining the rounding-based best estimate b_r,\n",
    "# assuming delta ≠ 0 (i.e. assuming the non-exact case)\n",
    "_best_guarantee_delta_nonzero = (\n",
    "        Implies(NotEquals(_delta_b_round, zero),\n",
    "                greater(sqrd(Abs(SubIndexed(_alpha, Mod(_b_round, _two_pow_t)))),\n",
    "                           frac(four, Exp(pi, two)))))"
   ]
  },
  {
   "cell_type": "code",
   "execution_count": 18,
   "metadata": {},
   "outputs": [
    {
     "data": {
      "text/html": [
       "<strong id=\"_best_guarantee\"><a class=\"ProveItLink\" href=\"proofs/_best_guarantee/thm_proof.ipynb\">_best_guarantee</a> (conjecture with conjecture-based proof):<br></strong> <a class=\"ProveItLink\" href=\"../__pv_it/theorems/cb2ea2c54bb7fb469c9881c12363a8ad55c21fa60/theorem_expr.ipynb\"><img src=\"data:image/png;base64,iVBORw0KGgoAAAANSUhEUgAAAOwAAAAqCAMAAACHvEePAAAANlBMVEX///8AAAAAAAAAAAAAAAAA\n",
       "AAAAAAAAAAAAAAAAAAAAAAAAAAAAAAAAAAAAAAAAAAAAAAAAAABHL6OuAAAAEXRSTlMAme8y+fOJ\n",
       "qyLdRBBUdrvNZlf9A+gAAAAJcEhZcwAADsQAAA7EAZUrDhsAAAN7SURBVGje5VmJcqMwDPXR+pLl\n",
       "4/9/diVDCARCTem0w+KZJBxG+Ol+jhD//dBS3Gd4ex+seCOwuuT7gDXiPmDRXRksGGMt9M52RVwZ\n",
       "LNcR6fud+NJgayB7Vd03ubhrgy3QD9ahWIKV1/LgwTk73ThYHlVZM15Q1wH7WKr2cOgxu5JwHbAu\n",
       "wbEoT9cF68ibnev3/VSrxYuCdUlrLeFcIFwFrKo8xD3A/rGEPwULudzIsmA8HpZgqMHW13Rj9AaO\n",
       "SHCeWk5QTrh4xZgtvi8/DxJUc4UkBR5P6nFe9Nxm+4lnME4i9yIuZtlRez9a5R1yuczCHNkEaP14\n",
       "CXOWWXC/rd1n2ipuENdJ5Md+I5xnNLduDvHZdDZ0VEaZI4Z1rCKwc5aJXm7GQehTYo5r4voU+fkF\n",
       "2K/bSPYNqDia6lDEIqtIhgXLfMdHcpcWU9wgrl50ubF1nTH7ANtOoowFWwQYNGSRgGw8/hRZNKIc\n",
       "nKxg5qf8gmVCnqcNZihZtUJoJhiQvI5ooRTb9IQFmz8hHcwtuxa5m6Bcd4KSzY0Lha7mIKT18Wsz\n",
       "LSYVQFFBaJoH7Y6gnC3AO6FZ7e6JjllmlGIq8oHmOet0HjQ4836WTW+MrKjEZYAOJDu6evGspchv\n",
       "l54p/NVYZUuhRCwNCu0KLY9wSDamsQ54UeyyDpAXTtCFpLVrDtkw8afGMp1sOyFgxhRsxs9sHoGl\n",
       "iYmusgKbEJGwXVzE7IvIt00Fft1UTPtWGxJGRtTUzIvi8+Eafwd+QoUxZOODGS9Ypmbr09xWtduT\n",
       "Oi3zGktisKW938pQxQrsK3HdbBd9R7s4hf+GBBWGKeyubQqdK81lRulmVA18LyHABGKDZdoBZ4wr\n",
       "N56BHSybtyy7Evntznbat1LbFYVTD91tuzdkplABxzuUXjRfopBlIV68Y5nFaiu0HIoO4lJ+GsE2\n",
       "fE6BsIV/49yuryJPtfFm2421fWgWzWgVjBYDb2Dxsg0tK8gS24FI7i3LjLmqFMaiMpkIbKWUo3Jw\n",
       "traQxkfqL+jzsz1fizwDdti3Ost69tqFZzsF6W/57Bj+pyneToV79gjS/TZYo8YeUc7C/zyffV/k\n",
       "pi3PEn57p8KYEI0u2PLqFP4/wGHhB2Z0xd2BqbH9gYdanN63usagNGFB3GNwUfE3wSokFcZ6E6zA\n",
       "LVkN9wCL7MLV3ANsq/F2CfYfesYgtB/RqFwAAAAASUVORK5CYII=\n",
       "\" style=\"display:inline;vertical-align:middle;\" /></a><br>"
      ],
      "text/plain": [
       "<IPython.core.display.HTML object>"
      ]
     },
     "metadata": {},
     "output_type": "display_data"
    }
   ],
   "source": [
    "_best_guarantee = (\n",
    "        greater(sqrd(Abs(SubIndexed(_alpha, Mod(Round(Mult(_two_pow_t, _phase)), _two_pow_t)))),\n",
    "                frac(four, Exp(pi, two))))"
   ]
  },
  {
   "cell_type": "markdown",
   "metadata": {},
   "source": [
    "#### *Evaluation of $\\alpha_l$ after performing the geometric series summation in terms of $\\delta$:*"
   ]
  },
  {
   "cell_type": "markdown",
   "metadata": {},
   "source": [
    "The `_alpha_summed` theorem corresponds to Nielsen & Chuang's formula 5.26 (pg 224)."
   ]
  },
  {
   "cell_type": "code",
   "execution_count": 19,
   "metadata": {},
   "outputs": [
    {
     "data": {
      "text/html": [
       "<strong id=\"_alpha_summed\"><a class=\"ProveItLink\" href=\"proofs/_alpha_summed/thm_proof.ipynb\">_alpha_summed</a> (conjecture with conjecture-based proof):<br></strong> <a class=\"ProveItLink\" href=\"../__pv_it/theorems/f5cc78d0aaf2d33e5b98ee1332b9681e7992c3bf0/theorem_expr.ipynb\"><img src=\"data:image/png;base64,iVBORw0KGgoAAAANSUhEUgAAAkEAAABBCAMAAADhRYC2AAAAOVBMVEX///8AAAAAAAAAAAAAAAAA\n",
       "AAAAAAAAAAAAAAAAAAAAAAAAAAAAAAAAAAAAAAAAAAAAAAAAAAAAAAACXHtMAAAAEnRSTlMAq1Rm\n",
       "mUTNIjK7EInv3Xbt5cmRiLwgAAAACXBIWXMAAA7EAAAOxAGVKw4bAAAKDElEQVR42u1diZarIBJV\n",
       "QEC2meH/P3YEJLIqJpqXhOacbrtBKwrX2qiqDMNf+5lGkuOJS84N/bXfbArER4cDtHvNpJ4Z6rsh\n",
       "9V10mxvg8dE1eHBbCh4PMczikayjqxcVfxfd5sZwfFxvSyKwf90OGB5Dak6fdu4WQJMmX0X3oEG6\n",
       "8UAYH9cmYz6lMjzBupjbhmaeDGUdvTQm4FfRtbQ5H8cKoxDbQoro6C+KORJkU05JZD1s1MkQEyB9\n",
       "YNCpEoS/i66lbX7koRaEo6O/CKAhwDYqMUoMq8S2IZDiDIguVSGq6VfRtU1Pi0V1+AGIR0d/EUEw\n",
       "QM0kC8vOxyqxYEimwk6iHhGEx++iu4qeAEFEattIyiT8X+sxumgz7UVBA4Y5/5RTNgRSRQ/oDh1G\n",
       "dz30/ZPJVynGECNw4AUJJEF8DC7aOhQ1vGmSNJZHmR6kC0M4BR/u0B6T83fR3aSkkT5sAc5yUIRx\n",
       "pyuvCHL/ipVt+ON60UMbNyb4wikxD5RuL4JralA0BFKOBu4U3Z+qBYF30aWStYCisZHZnEuF5XTz\n",
       "QK0GYv81CHL9GYLcRf7TzDmCOg2HxGJrMoCis29kU4Pc0MNmSxUf0Z0mNOr30GUjwnoXH8dnRABa\n",
       "Voo89rzmYRobpFh00Sab5smwGMUt+1AWKUDmatB6b9EQSqcP6c4AxDR6G111iA/VjCAyU0qRPxup\n",
       "kDNsCJpVdIwvWoFBHPtB0ODQKFXKnAAzGayHlVg0NOnE7M86fr3Bm+R2ie6VCBLW+HpgZrlsE4Ab\n",
       "grzhvR7jizxbUpw5EpOBBoCR6R4wFzUNhSGRGm0C94WgWb+P7hUIYqM44XOhMj7u+R4WwWvcRdiy\n",
       "oIfpXjIRplhqkVSM9WXQ6/l9dC9AEBMSQNHuaPImujzktJNyu2N49TDV5WeyqZZKLdCXGJs0fx/d\n",
       "CxA0muUj7fq23waFzXxr3f+ooyAZIjrBc9bx2w3p6X10L0CQe7/n9rd8JvGxxcQbnE5dU+FTvUcc\n",
       "dfx0O2E+v073HIIYlluj3snkWjvjZHN8PGoAHOAtG5rTp5p1T9urWr6R7us8iGpATDuxRETFx328\n",
       "ObtM1QGUD6nUdap0RzEe5CZFukz3Cil2c9QsP68Fg9TzBXRHbum7HrZM9wIEIReA80n2Mk3fFqo7\n",
       "2l1VN73TZbr80FNyeAaTAk5KflLCBEslNrtLNfhMUwy8je44Co3HPSlxfIYhLTX+rIyb1MttOzaL\n",
       "Hvy0e2i+aU9j7inGQaai13SghzcD/7SLGt/kgcc9efazhzUd1DMh8ttKkbjJdSF6conMqffUdvi0\n",
       "Mv7bpr3W30X3I9uYKn22A/oQ7eEPQX8IegZBg7DOdMG7QhDnfKR/CDpteMJSB7IzOT8hzrO6EGR+\n",
       "QSm4llrmyghXmpjAFybIQFpFNwp2ruRYo9spgsjof5Ua3PF+p3UhKJAvrHmVGuVxuGbVucz2EBQF\n",
       "jduPmtGg2EBrWSusJa46pvvrjafu07XDvOp8Kk8aLUyQz8ku1IUoIYjBXRWrhVqcVjlXVtk9A+eK\n",
       "H6z0GiKOsM28GsPTmVKzWqcJ4NMI0lnbTsQ7Z31ya0AQUA89ep00qsZ5nmqz+Ejkzl3aAYI8p6BK\n",
       "7bq+W6jFdxHyjGDEsVHDyaZ5f6XXzE0u7Pa0CPQhuqBpIeBSGRC/kgf9QpZwDUELfLwEcZOGEB2G\n",
       "+nvoc7JdXQiCXJsSBG2rCHYR1EKtjqBglUfr7bJ4KHj5gneJrY/NrSFBtVK+oAUzA+bHUg2jhGt6\n",
       "0J8mvbqCvFPITlpY1qqEIJ+THdeFGJ5EUAu1OoK2VZ7sqruw0EJpknClPYIs+1DLpyjDHxbhZ/uV\n",
       "lbxB7u9X2mLkjquqCCI+oNtOWhTjVtNhTE52XBfCCiyx+SVbEdRCbZI1PcjcMLK5lv9ZfuDCUQyC\n",
       "JNxdaWQpwEUdoi6O1DylyZ56IMj8AvhFBP3LbSLV7h8meDv3oHZixR9k/qDBuz4F009x2WnSkLN7\n",
       "AkHH1NbElAxB2yqvjNMhSOQTISKNkEO4UERcrbnAo9tYHpWymrQyTAk1eciErqtI/w5A4Ix3L4xm\n",
       "VfA5BEVaBcQugXoZo754VpRWfeipsUxBzJYpNCCowe8DwjCHuaAGecbppFgh4kLW9q+0k3o2eyri\n",
       "QY/c330FOaG7KHJ4pq2m3JUtqIjnK5eBJlYU2QK7NTazQISsw04aDfGrxorvj5CreFADNSIqUsze\n",
       "sAHsf/+3AramSVejMBb+Z5N7LfulK4IADXJ/9x8zpmv3p/liHRAuMb868GOvIF5YEQ/5IkLTePwW\n",
       "xFvqu8lCMp3YrMNNWsgSSi9SKSe7GUG2Dgnj56hVNWm/yo8Ig8E4c6axpARWkn0ocv4f+xHGvFdr\n",
       "rPoj9/dAuYzOWg1Cg3h8/VZ1W0G8B1dBTYoYjCXeXnW7TGRnHW7SyEx3EVTKya4jiHCsuQpclORR\n",
       "yKSZWhVBfpUD0HOuUDH/Bh5yQqsHEEXUiVi7hK4L9hjNq3lD2EdbQbzHdE1NWwQoflHwzsNnzq+a\n",
       "N4xxIxKm14T5leFGdWvey/vjN+0g8wqsHIMBNZ1Z+oSuzTRdEETj2jtXqTo7BfGCpffaYbHoXUGM\n",
       "R8yS1/NQSRoWTRripKenQ6nRGxHUAPNpN0N3zZ56ohXpSm01SHZHAGytIF5eU3EtendIME4M29mD\n",
       "yp51akl7/oRYbxqrFBmCQMM8hftSpWl8Nki8RJcalyVSA78hfLFUEC+tiOeqUPmid5M8BWQgdvit\n",
       "Ougo3/I/j10kyQw856iTN7lnCnTttgdF8AYWVCyIV66I54vehdZ64pUpbaFSvWM10IOOn253FbvJ\n",
       "6aL5CbbSCKB6QbxAilkEPYreEdxG10umOg/C+qjjpxu8qdhNRheeKolyqqTiXkG8rKaiL3qXlE0s\n",
       "P4Rq8d5lenNPCYfGbkBvoWs3FMgZfndNQbyspqIvepeUTSzeQRCbBasclKbmLNV9fT+LkO+g6zz6\n",
       "it2CoFZzLeKCSdnE2JgCyrqDgkeobweqVOtRnVWU5jdldkV0ibThTafAenVJxaSWYlI2MUa/05fC\n",
       "bwCql1WcxVHHz4sxdT/d1cuHL0XQ2ZKKcS3FuGxiZtaaOOYgNqteVpGlzh/WVxE8M4X4M+leXlKx\n",
       "vD1auUtrrm2xWfWyilnVY9jd1yLAm+z5V+leX1KxVNuu8pW9iCbWXv1FkUcdP9/YTabDq3SvL6lY\n",
       "qqUIip5hzuIYlnpZRZJ6LUhvJe3N+yY+ku4NJRWzWoqVjT+8ADPkJDtlFbk+6uiCCalPpPuWkooc\n",
       "XvyMTPf4ffRKfCLdryipmDkokBx6bHeVJXyJ7jeUVCRpnAi5qcD7p7cP/Lr57yipOI5HHb00jr+L\n",
       "7qc4QtLoadjnl4Vbc1V9F92PaETQg46e7DFJv4ruR7Qs+h7Dod9G6HfR/YS3btrp+D/t3HBRh4ey\n",
       "OQAAAABJRU5ErkJggg==\n",
       "\" style=\"display:inline;vertical-align:middle;\" /></a><br>"
      ],
      "text/plain": [
       "<IPython.core.display.HTML object>"
      ]
     },
     "metadata": {},
     "output_type": "display_data"
    }
   ],
   "source": [
    "_alpha_summed = Forall(\n",
    "    l,\n",
    "    Equals(SubIndexed(_alpha, ModAdd(_b_floor, l)),\n",
    "           Mult(frac(one, _two_pow_t),\n",
    "                    frac(subtract(one, exp2pi_i(subtract(Mult(_two_pow_t, _delta_b_floor), l))),\n",
    "                         subtract(one, exp2pi_i(subtract(_delta_b_floor, frac(l, _two_pow_t))))))),\n",
    "    domain=_full_domain,\n",
    "    condition=NotEquals(l, zero))"
   ]
  },
  {
   "cell_type": "markdown",
   "metadata": {},
   "source": [
    "### Compute the probability of failure with a measurement beyond $e$ units away from $b$."
   ]
  },
  {
   "cell_type": "markdown",
   "metadata": {},
   "source": [
    "The `_fail_sum` theorem corresponds to Nielsen & Chuang's formula 5.27 (pg 224). We also abstract out a section of its proof into a smaller lemma to prove the logical equivalence of two similar conditions."
   ]
  },
  {
   "cell_type": "code",
   "execution_count": 20,
   "metadata": {},
   "outputs": [
    {
     "data": {
      "text/html": [
       "<strong id=\"_fail_sum_prob_conds_equiv_lemma\"><a class=\"ProveItLink\" href=\"proofs/_fail_sum_prob_conds_equiv_lemma/thm_proof.ipynb\">_fail_sum_prob_conds_equiv_lemma</a> (conjecture with conjecture-based proof):<br></strong> <a class=\"ProveItLink\" href=\"../__pv_it/theorems/45738230b1bc45199f5c2fa68a9007b22fe5ef080/theorem_expr.ipynb\"><img src=\"data:image/png;base64,iVBORw0KGgoAAAANSUhEUgAAAuQAAABhCAMAAACpmEQVAAAAOVBMVEX///8AAAAAAAAAAAAAAAAA\n",
       "AAAAAAAAAAAAAAAAAAAAAAAAAAAAAAAAAAAAAAAAAAAAAAAAAAAAAAACXHtMAAAAEnRSTlMAq1Rm\n",
       "mUTNIjK7EInv3XZAMHwHbARKAAAACXBIWXMAAA7EAAAOxAGVKw4bAAAM8klEQVR42u1d26KkIA4U\n",
       "UUQUdtf//9j1wk1FgnrstpnUwxlmRg8QSkwClAUpDEpaIBA5oqpNiTVoDUSW4GYqb1o0BiJTMLH8\n",
       "2ZVoC0SmoNoVZ2gKRLbo5YS+Q0sg8g09+fSzFWgJRLZoiPlRCDKgPRA5YprEuyWTWKJnjsgSpbJh\n",
       "Z4WeOSJPsIKqpSRrtAYiS3SlTpYLdMkRuYaevV72RJcckS0IR5cc8Y9A1pgtR2SOoVBoBETeqBRm\n",
       "VxAIBAKBQCAQCAQCgUAgLoAPMwhaApEP5MJqR/KOjsAEIiIjTJSmxCM56lEg8mR6hOQoOoTInuQo\n",
       "OoTInuQoOoTInuQoOoTIn+QoOoTInuQoOoTIn+QoOoTInuSe6NDB7d2Z5GJTbf8h9vzwrsKnC/E4\n",
       "yX3RoSAP++VPQWNuu+g6Qia+0s2hI15KEbm86HCPAeJ5knuiQx43FWnbmfn6aD9XSkbqmObvarxA\n",
       "yWqbpgmR3FyOygGIj5DcEx1yJKy4fQYMC8sYyYfxgWiG8ab9RSGS28uR5IiPkNyKDo1eBFWTA648\n",
       "LzyN5FQsrBVsccwX1EckN5cjyRGfIbkVHRKSz7tZhL/6SZNIPj8s4wVlVdCEmdxcXhS1xAFCPE9y\n",
       "KzpESNFMqZTa4ylnPJHkfGJzU9Fm49z34cVUrsnPFOZXEM+T3KCvaDlnSFg7o5z2thCRRvIGSLXz\n",
       "1qBZXV4yFIFBfI7k5n+5v/ypSBLJp/x4k76R0V7e9DhAiA+SfJq6i4ng/qQcDjxFZ36YeZxznr6w\n",
       "4y7HwBPxUZKLStHZQx45uCV507Ghc44F7xv9Q3s6q2N2INzlSHLER0nuT9ST81x/gIVIcsSXSO7h\n",
       "4RwfkhzxfZIXj2Y/OMPDGojvk7zgCw+dkkWypgV4YcNxeD6DKlB6bxsfJHkbo1xZ7UuQK5Le6v0x\n",
       "6viuR8RJ27kzvO89zRtvmYguxKSSnMT2jQu2L0HRq7tQ1PE5ff+pLmDX4x9b9+L1TZl0J9T7e4jZ\n",
       "zmug24RHVVoPmzsmumTPeMu4FLdJTqIn4Fq6LwFwFyoGfMAlFH6WHyO5OhsX1GYwOEk4UgX2/u9D\n",
       "d2s7r4GOIlIkWWR1yKB78jm19oy3LMaINJLHvQO3MKlLnRwAf9rdUg7htjdVxSYXqekk6/glknN5\n",
       "nz9l+vlWU53bptmChz6Oen+vP8m2sw20S9deKWqRhdd6oB8lubUn0LLICZskkjd99IXkPhhnShRa\n",
       "+nG3dPLYBeumreVFKMcCk1yQig23SZ7ufnnVmc3Jq745l1J40UiX/EY60Z9029nqhf3VYlvJZgud\n",
       "tojm9TLQz5K8sF+YjXdf0lskl3FHbai3pQrihrvlYJjJ3Jh+mvBDfQuQvN71Ud0neXVouEh1tAr0\n",
       "zRX9M7MRkl/vT7rtXPWM7ksLtSQLWUTzehnoh0lu7MnivnDZixskp/F9Utxa0pY2T4VqJ2ULFrrl\n",
       "aJj7+Qoytqmea9/sUwyQvFQPkPy457HqjLVvkfx6f9Jt56qv2n1JOwukDlhE83oZ6FskFwyM47Q9\n",
       "KyD1w6obJAd0V1ymw8btK5e83u8KVxIaZjL/Mxl/0eiKiRSf/AmSR5ZcY9WZYfsSydNt56pX/b6k\n",
       "283bgEUWXuuBvjeTiw7wFIw9FbAptT5icALJIdsSti2tXPKGicgtca9UDtM3F4tOfInkNnQQnVLr\n",
       "fZSx6kwMdILk5ypIQYrtXANr+7vrVS1TmOnn2o1FFl7rgb7trii5b6ZnEW3PGuo/I5dJLoF4u223\n",
       "JeI/+yFFXHdL1H3nwzjQvKLbyWiz6/E5kpspuZ7O/q120kerM8kof+oJk9z0/mQFKamYFNu5BnL7\n",
       "8uWr1/A0ev66nX1J1d5A/4FPTuVmL7ZvEW1PDuXsjnJVMMnBX+2eH1Pq/fFh0VuaPuKRyTO6K0+Q\n",
       "XJba/ZpPcNep1ZW9cdvKOMlN789WkNL0FNu5BjY2FeBKhRE29lKX2iKa13qg/yTwLFnV+C3zLKLt\n",
       "uWpZ0PEZ1EWSE+h4jqw2pdVv4oue4oh2f0tDWG3CD+nAi6RAw06Hi2LjUhG5RopQ/eMgLq1rB6WU\n",
       "HUm4Oj7YvJ/N4QVI7np/toIEm6TZzjZQWAIJn0rLCV/luKMtsvDaDPQfZVdqZo9Tri2i7Skgkhet\n",
       "BEj+n+G/4bATmhJ2M/kqQBBt7BZeHa8K0nP6WU/M5HpIQ18Li1VXGwN0rN7P5Fb23fX+bAXw2z/R\n",
       "draBLlfgZw10UlzIMMnVOtWSjKY6ILkjw8oidR/IZ4TZHJyo/wfN5HygZ0nejjF9yBkNRgiHq4Lz\n",
       "ytqJk6EPuiuht2DUXZF7H7ENbBSxvT9bAWiLRNuV3sunCfDALAQ55bOVu2IGGiC56vXb4kguULsr\n",
       "xGvwyiLanvA+WREmK+iuKPA3uzBTl8aavBBKqdgth9mVJeY4IUnxBMnb5XfKpTtlcuCpu9d5r7S6\n",
       "DWWbdO/PVgAFnam2cw0MZ1ekbfPGIguvzUBDM7l2iSJygVPgueLZyiLanjXc/7DbAZK8BU/M71Ks\n",
       "Qy3UvovhWw6X9eUss3ViH9aeFN2qR2Jgm0LC25y46F6sRyFWnc2zydVMNdlBUOm/c/UVZytYd2Pb\n",
       "oXTbuQa6BT9v6c/NuHajtc2O1t5AQyRv9QvxUC5wn0JcWUTbk8LiDWGnHCR5D0Ywu0mAVt06uGm3\n",
       "O+1qcMVTf2SUXSc5If3A/B3CNkCWyVvZuW6c6uj2FRurTtahvjUdk2yzMNZdqyAc8J+3nbfiSfal\n",
       "wsWBXG0sMvPaDPT4F9FKXioiqF4gVVQtvFVjSU9za7lAxw8VWgzyLaLtWcGBRjdcIbkYYEb09b60\n",
       "5nTXrpf1vQu7v9o0Wz5xEk/yC9U1Mrlvp1Y8/x4Je1cOLLLbajtnI1mrHejpnPscrs6PQV+ualzL\n",
       "BQoJBX3GnvD6/0jn+gLJ+QDber8L8cQtf0by+olvjdLqQnV2V9ctktf0gySP7EIMWyRA8vG+tls0\n",
       "65ec3+i/z//qOaxhuUCILDSpZcd0hUheDvChAd7vS8m3qHerZLXnT724g1rgZsxv99420KUcweTj\n",
       "YpEAySf/Ri1Du3jPpBr90lVU1lz5Mo+xZ0paNOx4QCSnQ8JxYlLuS6m3NMOrj+SL9vpzIXpwMv5u\n",
       "710DpR172SRZJE7yZSZn25n8pFzgxp4y5c7QigNIcpVyhv/WGc+mIm+meXPWNVaNiTNT+vXF3nsN\n",
       "PHXGc7aI8ue+6S8zyVtN8pnWzbRDdoqUG+2Tn5QL3NiTJg3E0F4geZeUm3WHxJKPi5X43cT3PMj3\n",
       "T+sLMjoKtGd1Q4ZpZKcthItfo6iSi8T3SbnAozbGkyDsAsmrtAWIJ3RXEB9zzcW+9N42xpM/8gLJ\n",
       "yXC3dZbM+bK6wqa9BbL/BsntZuTy7+z9QbWhk+I8L/ZEkOR33RU4wBTpLHyR2tBpcZ4Y34r3afLk\n",
       "R/Ir7ko33BsKKyKULDv0KrWh8+I8x916pSZPbrgUeKrhluymFREyBVh36AVqQ3fEeQ679VJNntxI\n",
       "fiVPTu+R3C7f2wKoO/R9taFb4jz2v35FkycvXFrxLIdbI2HvtgVwqfv7akP3xHk0qX9GkycriKG7\n",
       "QHL4YNBsR+Ok7u4Wm8JGd2gnO/QGtaF74jzGWfgZTZ6ccG2DVpGw1dZJXG5FzG3OwxZW5/Tq0Mdo\n",
       "v682dE+cRz/Lv6PJkxPC+wlBkks49eeGU2yEhKyIkC34LnlIdug9akNXxXlsmPkzmjwZQR0ElgDJ\n",
       "QUWKgvdWdUL2a95aESFb8HWHWLDCl6gNXRbnsV37GU2ejEAunQwaLwCIoVZ7hHnrvy/sqXxb8HWH\n",
       "gmx+i9rQZXEeF5z8iiZPRggf1qSwJEV0K6jYJiZX/7A7VulXEpIdeo3a0HVxnnlC+S1NnmzQhM+x\n",
       "wQpagLhQs/7SSsO62EzuB0HB8wgvURu6Ic5T/J4mTzagR94IRPIKcsqplCGJtSDJV7pD4QjzDWpD\n",
       "d8R5it/T5MnHJYdk4o5sUYNvO++07yaWJNt4c6U7pILvlheoDd0S5yl+UJMnF1wW/EyQKbHrHlW9\n",
       "nYw2hbXuUPCLy99XG7onzvOLmjzZeCtXpZvh/IrdRrvbvGwnEVNY6w4FZIfeoDZ0T5znFzV5MoG8\n",
       "LsIPfU6lcJuXd4y1IkLJskMvVxs6Ijm0yP5uTZ48cOdzKglT+XEmbrcL8QRx7vaZfo7k4Fa/d2vy\n",
       "5IHDlEXSJw7Z5ZP1VkQoWXbop7ZaBMR5DkfgzZo8mUzkdz5xOA7A5SSUlfZIlhd5udrQyi0OiPMc\n",
       "XvtqTZ4sPPKyuEPyQl3erXnhjOfL1YZcO0PiPJHL36zJkwHufnZ8NPplh8WKCGWsJnT9SPxbNHky\n",
       "cFYik6hP8hkHzwO7PLn+C7orApv2ZXAW7qhOB9tJhc44YmL77+zXRPwcxAHHi4XUtPg/xaSc3pO/\n",
       "5gEAAAAASUVORK5CYII=\n",
       "\" style=\"display:inline;vertical-align:middle;\" /></a><br>"
      ],
      "text/plain": [
       "<IPython.core.display.HTML object>"
      ]
     },
     "metadata": {},
     "output_type": "display_data"
    }
   ],
   "source": [
    "from proveit.logic import Iff, Union\n",
    "_fail_sum_prob_conds_equiv_lemma = (\n",
    "    Forall(l,\n",
    "        Forall(\n",
    "            e,\n",
    "            Iff(And(InSet(l, Union(_neg_domain, _pos_domain)), greater(ModAbs(l, _two_pow_t), e)),\n",
    "                And(InSet(l, _full_domain), greater(ModAbs(l, _two_pow_t), e)) ).with_wrap_before_operator(),\n",
    "            domain=_e_domain).with_wrapping()).with_wrapping())"
   ]
  },
  {
   "cell_type": "code",
   "execution_count": 21,
   "metadata": {},
   "outputs": [
    {
     "data": {
      "text/html": [
       "<strong id=\"_fail_sum\"><a class=\"ProveItLink\" href=\"proofs/_fail_sum/thm_proof.ipynb\">_fail_sum</a> (conjecture with conjecture-based proof):<br></strong> <a class=\"ProveItLink\" href=\"../__pv_it/theorems/69cd837c58f56837baaebb176d7a51c87961ddee0/theorem_expr.ipynb\"><img src=\"data:image/png;base64,iVBORw0KGgoAAAANSUhEUgAAArQAAABMCAMAAACrvtS1AAAAM1BMVEX///8AAAAAAAAAAAAAAAAA\n",
       "AAAAAAAAAAAAAAAAAAAAAAAAAAAAAAAAAAAAAAAAAAAAAADxgEwMAAAAEHRSTlMAq1RmmUTNIjK7\n",
       "EInv3XavTnTj9wAAAAlwSFlzAAAOxAAADsQBlSsOGwAADBRJREFUeNrtXQuTqyoMroCKvJb//2uP\n",
       "aH0V0IClxJmTmbt3NsduvsQAAZL09UJPXYtJdk00AOq1eJydfcwQDmpiDSbZNdGASDbPs7OPGcJB\n",
       "TEQJRLJrogGSoo+zcwAzhIOWREWsvmzxAMu1tn+YnUOYIRy01HSYZIPQkCvjmsKwh6/ZuWefjEH8\n",
       "CDOEg5S4bRHJBqGh8WcEnV2Dld3XWPItO9OP8cVJof2QjxnCwXpy0GGSDUEj/A3D4qPcGD2vdLIo\n",
       "8EF/yc5Gs08/KbWJ9zFDODh3YRUnWl82CA3zn9mWNfI2e1d008OtuaerkLJpHETfS0o5rY8ZwsE5\n",
       "0WpMskFo9PLeqaFRp5VlF7pB3dPVLQ1sZIluDmxnaks6bQAzhIMyojWIZIPQ9PM6KzQfdw5RpyVl\n",
       "o1qSGP19aubm3d5yB5P+aKYNYIZwMB4dWIFINghNO3to07x6GZ9p28IbYdvd0pWK2Wl7Ro8nIdyo\n",
       "YouEjxnCQUfCDohkR9HwYaHxDZN5elWMEucIzLGV+0H3TsuH0iOO37Wz1D+fJXgGBx3RiquBLxuG\n",
       "5u2Oh4Pwn4cHr9bKm3bmP7/r9zFDOOhoqBgd+LKBaGa3HJwbyKjTmtKxulX37FzqEiENM4SDLjrQ\n",
       "iGRD0QzTHCuYoUZ8OG0vOyvN9lDRMcfv2NndhPX9z+cJnsFBFx1IRLKhaAIXB17EKIrH6ibBdr5m\n",
       "/cA5Z7+ea33MEA66s4MWkWwwGubNUOz6kW8TT9hn+5op6+jXNvcxQzjISFlMsuFo5NUURX8wGC18\n",
       "P1DTzheYIZz/Ie3tkHZ69ua/f4M68DJV085XmCEcVEQqntL6smuiySEGvkzEo5mPGcJBZnaJSDbD\n",
       "f0L4sbsaHmDnK8wQDirqKl4t+LI75Nfea2LWumNR6O18jRnCQbYP44hkK+QHhEti1hapWvR2vsYM\n",
       "4aCimvvE/F1rZyNUOBRbErN2gPkNO/9EDQBmCAcR9RWHlC8bjIbYD6uKvjWNssBVLScnYfrMkpi1\n",
       "kgau+mHNUtQoiRnCQXV4oBHJhqNpbOhRCrR1TsC2fuaQmNUBJ8WIZglqlMQM4SAiU/Huw5edgEZb\n",
       "G+orwYbSTntMzGqAhwIxzeBqlMQM4SAieTjbMFrDQpmPBw/3pX2e7DAnSnxcWUM9BEB3tzcc4CMx\n",
       "i9kmU9dUNUpihnAQUXMAJ+H3IPtHzWExa02W7DDnbO6ywb4StKjTfiZmSeDaENUMrEZJzBHOBpmg\n",
       "6p4yWBbwRDNYOzTN0MVzkHZOSz5WEkNzZIc5px/PjsezHcBLzJLQVMqoZlA1SmKOcLaS5w5V25ku\n",
       "6LRrmdAQbT21PSr8xgUiQ3aYc0Ji3GWzHzutl5hlgOcVcc2gapTEHOHwZartcd2P6UPAvXriUjhK\n",
       "opvIzWmZN7FSliE7zDmjdnwX5LdO66/ioaOslgJ0TVWjJOYYZ5l9JK7zLxV2WvM+14tnA29OG7AM\n",
       "rDWg8v64StuzSmvzmhAWdlpiALqmqlHDael79CHLrlWHqXT1xMEu/+dXTksCGnU0XXaYc7Xo5p3Y\n",
       "fc8BCNhpzU01SmKOcpR2pCQ2p6UhT3wf0Jw0zlgfZYtGQhrzjvdhrXmVd9ijbNou1cWD8sbLlFI2\n",
       "/EdOS2+qURJzlMMmSQOyjHAbdNrZWXupyfWR1zKrtu7kls+2p9vEwfSOmhPZYc4FefegSUdBunUO\n",
       "0796ku0ALdBpzzWDqFESc5TTN8uPCFGZ8sbSeppyGTm8Ou4B1iMv24wDeqpXaSVbXwF1jafekcPq\n",
       "tG/H7qe3YmYuUbABQy45V8SywtoZnppLdtnLiBfvIhtk0dgzB+ChRJig05KbapTEHOc4pzo5vedv\n",
       "CYKexTdrciSsp+mWSxlZsSkVAacdtoFnRb/OAXyafz+cVrXvjxhjtpka4jpH2WEO4Agi45b8b3aU\n",
       "2V+6qXNCs1+fhTHD0jRhidn/wu+DHmaaeV1RyltXrjS7VqMY5lOOG3+eP3LTDEO7E7R2V40Mydec\n",
       "HAnsabrlUpIuMtu1Aafd9gXCG6wi7LSHG58WONO2l5zrFSfnhmE+v5znKammEknF9+vS1Edc8n3M\n",
       "fnembW+qURLzCafzpscXY6vc1avIGfw1ORLW03TLpYw6bSA84Ou2gDM7Bi29pO5yZI4MRDg8OEwU\n",
       "OxVOY9r74cHLqD7PacUbsZxkjlG8WdL7hfsH999kBd3+IDwAqFES8wlHkuWwdmmrur/whDntkhwJ\n",
       "7Gm65VKmOK3ZpoXJRd0y5Izah5x2mO2oZz+f/xodYDPtfadts5KV1W6YyekXM1rPuHXJyPnLGsy0\n",
       "Rq7qnjjA6wtOC1CjJOYTTq/eM83SVvXQAoWCnHaCrF8pPU3nXMpWw4+8OnsMBly2xbAY49Np38Hy\n",
       "BF+8k5MY6Bzq/pHXaNusu5rpZc7pf3QME/msnlNBMCNWB3A/1sF+7/TgXDOIGiUxn3GW87Wlrer+\n",
       "uo93HOi0U3IkvKfpkkvZGQFzWuayZcwhgjXSaBNxWr50e5N0jX50+xunFSovVVm9Tzyp6wTGXOMv\n",
       "Fx6676Vz6UzNuKV0mxrjprF1/BV0WpAaJTFDOEtbVdrNDVeJy01YCyYvnPaq096hj+vucdKZ4K41\n",
       "eLlwnGk1dVGACDvty0/B7WF7I+29SJ3otN3XEmacUoq8eje0D7OWbsU3nPZUs45VxgzhLAmUfL+K\n",
       "mgbktImd9tbH+7ACXfga9+C0wsXk2piI0/rpMQzmereLPIbc5CMV2sVOgbhbWFv+dgDCnWeYMwcg\n",
       "oSyvQMLMmWbDUBszhLO2Vd1PmsGNmJDLj3WeTeq0tz0e2YgN4YSZ3TH1GKYaRikfx/P4yxhAzYl0\n",
       "u0c/O2pCE9kG7+5ySLqUZcEoPu+miLP5jHOykjtPGn/rHYeZ0504BefTyptqlMQM4axtVUef+nTa\n",
       "rbvqhMtt2vnuOCSx0972eMRpm0g+7SXtHv1sqQltC9t4eaRNSoIsDZ4S0fzrzdd6z2hob/qPXPbw\n",
       "Zwy4coHdVKMk5rRqPSFd8NmeeNW3KPLnj7VAEl4jpnb+3R+WPgMNXu5VJoVPiWAXyNGHyNtXBDGt\n",
       "gHwGWtUW1QysRknM2dV6ra7htLJi06ZbhY3Bb8NcYpdMpxXmpH+oijgjy9Q1VY2SmCGcyL6kZKU5\n",
       "70gkvqmX4OvLhqMJnBL1pIHmfMVmrbOUJRWJVU2mrqlqlMQM4cQcq1xRQ8+ji2y9TmO+7Dahn1u3\n",
       "J63n6B24Lcq5ReMRHCRT11Q1SmJ+WCfAh7ZFYrEmWL8udYb2lQtrVkcNSN8/3J0Aw1X3tWTXRJOp\n",
       "gsBv50vMT+tfrys2Kvdla9xt0wMTqHqAna8wQzioqLEUkeyaaPLC8u4Bdr7CDOGgImMZItk10eRp\n",
       "IB9g5yvMj/sisZpj6nEjPDB/kgfY+QozhIOKajYqf1zb9ECkKh5g5yvMEA42u/eIZGegSatL/vKo\n",
       "U1m6ruWyV3+fdj/ADOEgI1lxh+DL3nEu3mxqXXKB9/8iCbkSB13PE02WUXhR5PotzBAOuqC2QSR7\n",
       "z7l+s9d1yUXff1Lod9D1vB5pS1Mg+geYHxfSvhB/Oe75m4XVJRd9/2mm2z/s1yMtta7FQUO+j1ih\n",
       "31mwijd2vuwd57zSDFaXXPT986RFaqfZVP3B1rooutW6FgftY4ZwEMYHEpHsjeO/WT9OvKxLLuq0\n",
       "JmkV3enqBz5LrWtx0D5mCAdhfKAwyV4511nxgLrkok7bqUxd/cBnqXWdBqlaB+n3QfuYIRx8ZCpe\n",
       "i/uyV47/ZmOFxpHluPT754lL1KbrVC57WEQOJ30FR5qPGcLBSDVDGF/2wvHf7JFAdcklZ9om9QR+\n",
       "1XUtl91wLrWuhUH7mCEcjCQrovRlLxz/zR59FlSXXPD9i+Sxvuq6lstuf2ypdd2DPha5lsEM4aAk\n",
       "UXE98GUvHP/NfhzLQOqSy73/cbXvC9m5XNmejxnCwRrVCkSyv4mmYNmmYqXszH6IGcJBSlpikv1F\n",
       "NAzXQNd1tziQCcI8IqKdAr6KS4IvmzxggRJZKRt1NfMxQzh4iQ2YZLMBvcGa4XF2DmCGcDAHCBST\n",
       "bI19uLdKPM7OPmYIBzPximh92Ry77XT7PDv7mCEc3HNHj0l2izuqFe3z7OxjvuD8A+xJnt5EkHRk\n",
       "AAAAAElFTkSuQmCC\n",
       "\" style=\"display:inline;vertical-align:middle;\" /></a><br>"
      ],
      "text/plain": [
       "<IPython.core.display.HTML object>"
      ]
     },
     "metadata": {},
     "output_type": "display_data"
    }
   ],
   "source": [
    "_fail_sum = (\n",
    "    Forall(\n",
    "        e,\n",
    "        Equals(Pfail(e),\n",
    "               Add(Sum(l, Exp(Abs(_rel_indexed_alpha), two), domain=_neg_domain),\n",
    "                   Sum(l, Exp(Abs(_rel_indexed_alpha), two), domain=_pos_domain))),\n",
    "        domain=_e_domain))"
   ]
  },
  {
   "cell_type": "markdown",
   "metadata": {},
   "source": [
    "The `_alpha_sqrd_upper_bound` theorem is derived from `_alpha_summed`, and Nielsen & Chuang's formula 5.29 (pg 224) appears as a step in the interactive proof notebook steps:"
   ]
  },
  {
   "cell_type": "code",
   "execution_count": 22,
   "metadata": {},
   "outputs": [
    {
     "data": {
      "text/html": [
       "<strong id=\"_alpha_sqrd_upper_bound\"><a class=\"ProveItLink\" href=\"proofs/_alpha_sqrd_upper_bound/thm_proof.ipynb\">_alpha_sqrd_upper_bound</a> (conjecture with conjecture-based proof):<br></strong> <a class=\"ProveItLink\" href=\"../__pv_it/theorems/60d3f3806b4691fb6784e09d3336d20953a8460c0/theorem_expr.ipynb\"><img src=\"data:image/png;base64,iVBORw0KGgoAAAANSUhEUgAAAgMAAAA/CAMAAABKIjuaAAAAP1BMVEX///8AAAAAAAAAAAAAAAAA\n",
       "AAAAAAAAAAAAAAAAAAAAAAAAAAAAAAAAAAAAAAAAAAAAAAAAAAAAAAAAAAAAAADFBd4eAAAAFHRS\n",
       "TlMAq1RmmUTNIjK7EInv3Xbt5cn58/dAoSAAAAAJcEhZcwAADsQAAA7EAZUrDhsAAAfiSURBVHja\n",
       "7V2JlqMqEBUB2ett/P+3PtkUFaKdNk4i4ZxOOzYyAS5Vtxaw6xorBLpv6To5yGb7DsN3/sNAiFZ7\n",
       "Ti37Tn8oQjUqATX+Tv40Fn2T/SZfTTCXXrdICbjl36mfiyENdnpA34nPBUGD5Kj/EsLVmmjPNjAf\n",
       "2mVu5KsWRWu6kdtPJMISkcG+irzp1hgBsh/6xeFlGCC2LQhIS74YWBVq2/KX4I9Vfq/DQKfbcpiI\n",
       "j5V7L8QAactUsmdYBVIphOR9MNA3pQyoPSNG4igFMffBALMtuc2IpWcIE+rGjd8GA53WDWHgHCMb\n",
       "y5thQNiGAkfWrGX6E2rAF3UjXTC23U4EmS0p4RMSMD3yMs/tH8FAb9txFa76+jwGmLhceKoXGnDc\n",
       "thM3AgunYICNUGKX2tQIaTugV5lw0unI2Tbo72wqkqXeexYDTHDOyZ1olLXj4Ewm03Bnl5FYkvln\n",
       "MaCtK0Vl86HDZ0aywZMgYLdWDMNSp/6CE5ZtRvOpwsEPTNpsoG5tJOgltz4XA2DUx6oH4dxeONKA\n",
       "e0eQVgL8RAxIZT556xLyREkbV7RqEQNKKcR/gwFJzGdT6YAB4gdByPYwwAx1ey1Yx/rnMCDR8Oka\n",
       "lPjIIUPpo8h2VB3nbO1j+pUDpdYaVyu+VfVsyQdmcAkD2gtxQToYuXEtyVbGHLSiHLgLBrwIUDTv\n",
       "71y4LmnAGETHK0XI+5IfVeKHVONAa2oJULGZn1iNBvEOqoCBZT/+Dd0PozB07gGUPyUBBECy+uZH\n",
       "CsAt6QL75iUftOA862FihLG/HJAQNLuxWYcuiA6GrFdBhoG0WjnAwyDLgdZWX0LkVnk2HR4pDklU\n",
       "7GHgP7+yQzWlPavXGS/gIx7GdpS/RdT8yP04YcTACIC0BkN/CeGlQZ5QnoLo27nNMDDPQ/8QAwda\n",
       "q2OAZIsXeQ+An8qNg32NAe3vQRwFhz1uAVKGkHR/cD++dUPvbBsmDKg+OQl8fwGXF9pEEWIQXQ5B\n",
       "GoZCn8TAgdbqGDBzYgj1E8a8H2C7pbbEB1LvdZhH2YGTSaMm8ffBqzEHldv4iEqZcJEPdEyjtFzc\n",
       "Ry5Ja7rcBdF70uHfy4EDrVFT4wN+fohw5a/xB4/L2T2z1dElDBDfEB5pwSg7xmd9ZyUBOWHAfSQA\n",
       "7rgU+uH905ZLmXAJA12ykX1/aTaAvNIzH0RnBC9lLgc9ext/gIHd1gaQRQxkAiIKr4ABDYdsQ6Uw\n",
       "HlsmCoIOIShEzhCA54TgBENSNzdIuiplwqF1EonvLx78uhLj33gSHVykwg7YgH5hauEX5gEM7FuU\n",
       "/QBFDMx0IAmvoAu2yTF6z09ogwphDm4LOWCovAsGSplwGwz4/vLcSAJUseR3g+iH5cB+a0xXWg7z\n",
       "4yD39z8RcmVO6MNjDzEwiiIsumAgUR4x0HMHDrgLBpLaXQzmOjsy9DdfliVOeCyIXsGAVOnjeGtV\n",
       "TpjmZ45+ds6qp1vg7saOOQn+AP9fOZo//ou5OwTqdoE0WfkBH8D0/Jol5b/1qW0y4cx6vYT+jrPy\n",
       "EAP1IHppppgarILM6cTix/HWqhhI85PDVikoIGqVWq53nJWAGTDAhx75eenJ+TULK3V7VVC72tZs\n",
       "CCdYqz6iY+XEdIS6bZgq7HppwB6b0D5qR9kDld1rMCCHp2v+JFFl9rtOVwW1a/f7Rc3vZdHrMbA/\n",
       "qHi5zajScQl1Z895GBD42ZrSVsXXoAWrGurxqqB2mT0wwcOfd4TyVWBmg4F+X2nS5aaq2oQ+CJD9\n",
       "HAOcPGS4yuxtVmEpj5UMQT1XpbJyJGgN35nPx6uC2qWHNpvxPx0ZY+uReiZxT9rF8D3hz/n5I6Y8\n",
       "vJNBi/c4Vajp1bka+QxTZlDlr1HcBysnW0hWdyhg29DZvebyredQwcDETndPSww1YxzEyYRqpLpo\n",
       "wncD3l5tuHJDRxJdvtOe4/JReHxak3vxxlgzpEIi9/2ry1kWt4wRsb1aw6Sl02jw1TvtVeU4xCmS\n",
       "vrt3NdZE/hcaa9M6JynuHQW9vVqLGtMQBtjFG+uAVTCAhqN0AA0rXTZKfFnETY/60p4xOgGDViQI\n",
       "t02dXK0vRTzDtWNRRZostOdBESKfLPDvXijari7eiQqzPJ/NWzulF9o6oVBdutPeLa8yBqa7eo+R\n",
       "5897fskJ5kURx8J5k+ucSDbRT1Y5gUO0dASFG4YLrSAfBp/nMLdM00nRfCapciiGHbIzpYl4YOx6\n",
       "geJXOlKrOnRztarQ2AnOw3W7aBis1nE2neku7C7B+XlcmKq5Sc92uQ9+8xXs+WP+iVs7rBZfZx1S\n",
       "5IrVSNVnVqBOHsRA75qphteln0jHCfKcyKWo4eW+D6YtCIxjdTEH1mW7QEyrd+f7pJohoQOqiPEY\n",
       "cO6jPCfyiF3AbHOvdSEXE6DyER9JB1gqdwgKpN1QPsu2vmRdZL53eMtzIr3kmzqMdZkmtwaBKZn8\n",
       "IsQJaxHUjXZM9sRSrGnCvpAHbEZBWPh5TqT/CpMgIuiPj8ebFHgLS0jT82tG0dLNOZFe3T+OFxDT\n",
       "NVjeYkcQUefXjN3LciK73bghO+XUzo8rb/F6Q67Prxnr5zmRuUVZsi071OjbndQ7nLSB+vNrLhZ4\n",
       "9ByYCfCmAH2sW33brXgDbfCLfMJDJeZEFvIJc6DoZt/zJ80bdL1X59ecexhzIot5xXMZGn7jK3sH\n",
       "+L90f0HMiZxzR0ubN2TW7v+igFJpHZtAuQAAAABJRU5ErkJggg==\n",
       "\" style=\"display:inline;vertical-align:middle;\" /></a><br>"
      ],
      "text/plain": [
       "<IPython.core.display.HTML object>"
      ]
     },
     "metadata": {},
     "output_type": "display_data"
    }
   ],
   "source": [
    "from proveit.physics.quantum.QPE import _delta_b_floor\n",
    "_alpha_sqrd_upper_bound = Forall(\n",
    "    l,\n",
    "    LessEq(Exp(Abs(SubIndexed(_alpha, ModAdd(_b_floor, l))), two),\n",
    "           frac(one,\n",
    "                Mult(four, Exp(subtract(l, Mult(_two_pow_t, _delta_b_floor)), two)))),\n",
    "    domain=_full_domain,\n",
    "    condition=NotEquals(l, zero))"
   ]
  },
  {
   "cell_type": "markdown",
   "metadata": {},
   "source": [
    "#### Obtain a bound on the failure probability:"
   ]
  },
  {
   "cell_type": "markdown",
   "metadata": {},
   "source": [
    "The `_failure_upper_bound_lemma` theorem corresponds to Nielsen & Chuang's formula 5.30 (pg 224), establishing an initial expression for the probability of failing to obtain a sufficiently accurate estimate:"
   ]
  },
  {
   "cell_type": "code",
   "execution_count": 23,
   "metadata": {},
   "outputs": [
    {
     "data": {
      "text/html": [
       "<strong id=\"_failure_upper_bound_lemma\"><a class=\"ProveItLink\" href=\"proofs/_failure_upper_bound_lemma/thm_proof.ipynb\">_failure_upper_bound_lemma</a> (conjecture with conjecture-based proof):<br></strong> <a class=\"ProveItLink\" href=\"../__pv_it/theorems/0b09553e40c08192b100c5b6e6793b3c9a7ca60e0/theorem_expr.ipynb\"><img src=\"data:image/png;base64,iVBORw0KGgoAAAANSUhEUgAAA4MAAABMBAMAAAAl7381AAAAMFBMVEX///8AAAAAAAAAAAAAAAAA\n",
       "AAAAAAAAAAAAAAAAAAAAAAAAAAAAAAAAAAAAAAAAAAAv3aB7AAAAD3RSTlMAq1RmmUTNIjK7EInv\n",
       "3XZ/CtNrAAAACXBIWXMAAA7EAAAOxAGVKw4bAAAP/UlEQVR42s1dfWwcxRV/93239+XQCikB1aZF\n",
       "rdRCc3w0VRFNTJMGQkRi1D+QQBCnLV8V4GubtqBAfbQRoiLFLqgFVxRv1DQtCuCDqFULSuIWEB+l\n",
       "tRG0jUKdOAVUKZA4X04cO8l2Z3dvZnb3zfjOnjn3Sdk8v/Ob37v57cy8mZ1ZA6iVZIcOb2a/GZou\n",
       "95myT29uFrpEUStXaPGm9nhL8ynMyjC1B0TRJYpSib6hw5vZLzCbTyG8JPlMf0Av1aGolKdLOryp\n",
       "3XhpDhiENWXhR00IiKJLFJVythZvao90hj77TODngvovFekVf8QCSrV7yj2mHnSJolDS4zq8mb0n\n",
       "lO7EfJZf2zXarvxbpY4IP+ICio160V5o6kGXKCrz0U4d3sx+S+izTTSvILV3cBjgBvVf61fCT7iA\n",
       "DnzFU/KmJnSJok4WdujwpvZouJl+taZknF+wKUyqTzB6RkX5lxfQ1ucWQB40UUjRJYo6uVOLN7Un\n",
       "h0Of2RZj23s8hdk25V8rMyjqN7yA2uEa2AKwbtmyZR3KKaToEkXdUHhGhzezh2+6lN3HPlOJ8BRG\n",
       "1Q+G0SPTNJBx6K6cH9PUCim6RFGXPE3q8Gb21lDlJOycbF5qG09hQkOadlxgrwV0mU3hui96d9xH\n",
       "z+tClyiqZKBXhze1Gyc560/6bClHWwBevtiEFX1P9PWVHArTGihsreCzQhbQdo0zQ4ouUVTJkjYd\n",
       "3tQeC3cbhK8T/nRGQ0cKa6qomQWU3q1zcl+dXlEl/aYOb2rPID2tzdkjkOUpLKjP0qCIpw0sIMXT\n",
       "eQG6RFEkxmkd3sw+EE5I4TGAze/t9yhM/WFqFDIaVp0yE3gXP0xXZlJlfRRSdImiSGJTSrx/agpK\n",
       "XYL0Gjf45oVEnmooC66vAyzg34wGdM+DG2bSDBtFlyiqEtJxBd7Gx7tMQamtyNQ/XuZWZxy5sgHM\n",
       "Tcvry6HTeOZHAxqyrBl844bRJYoiyR1S4j1mCkodwtxeCDbmhhaICnVOgyy0kQ3NssIaRpcoiuYU\n",
       "w0q8AxRSOz5YGtP8rKYSuzqUj/0zQZcoamRhrxLvAIXUHj2pPlOotxJXY2nurANqGF2iqJHVVSXe\n",
       "AQqpPT41dxQuwe7OWQfUMLpEUSNdbUq8AxRSe/LI3FHYg82/Zh1Qw+gSRY0MVZR4Byik9tzE3FE4\n",
       "gGVqsw6oYXSJokZmlx1R7wCF1F5EvnCXxeSMxkosYmyxgJJcGNaoPnSJokRSlhpvP4XM3o3ccAst\n",
       "t40a39s3dEojhXmsz2QBRS2vJn9707nWoD50iaJEoqfVePspZPaFyJwlYlFjbG+bPgqTWBPnAmpl\n",
       "3/3LR/ShSxQ148pxNd5+Cjl7J+K29zBLEHv1URjBkk8uoLzFtuWu0IcuUZRI1p0mFUaQrObALrdX\n",
       "dH8qi71t2VkW2DGKeiy29/TKGcR8or7fix9GjFxAaeso+92yNnSJokQibmlZdL3g9871P+4PN4m9\n",
       "AeYNrS1hdmjF9p8XLFYNscZDPvf4x+qrbKyH4QMasxhxJW3ouOKE8SkVFGaOUQoL/Sfn/eLqEIVR\n",
       "b5ZeKAm9Jfb+duzz/tPQBMliKHxAGWu4Cei44uziu1UFUJJRCEV7mHjCDFK4pfbTt7h05Vaft6hU\n",
       "MoFAKXzaam8ChQUs3eUDMoaONQEdV+4nQ5SSVZr8FKOQbO1aOBqkcGntp0tZ5/eO6fMWlUoyF3T9\n",
       "LmEdaQKFMTZh+hqgAa2x2vSj4wrZOatm62WOo3DMTmnGqkEK6YwpV2ughXdNv7eoVLJMgy/B7jxl\n",
       "NpXCzwMaUNZ6Y64ojNnjUlIJUO4Mo7Cf/KsEKIzSJDzpDYZb9wS9RaWSGsOXPZJWp34KoyiFvoC6\n",
       "jutHFyh/Gxn5qxoKjzIKTwZ39hIK4+Su3Xrwanq4cfPbIW9RqaTG8EzPGJqaKwpL/kG5OlcUXgXw\n",
       "SyVARUahTV9qe1uQQtL2ErvgIbvpOw1n09fD3qJSbbEEyXptkU2nJDAK/QHRRTaN6ALl25DyTbhi\n",
       "29BiBMfnHmJTh+IRNqk4/OK2DrhhlbPgBE8dcinM26R2l+AD++s6o2LER6EgK2F2Ub4Q1zgKsam7\n",
       "iVDoD2i1tkGZoguUjOmfjG8E95weJ+TgDnJ8jpjhOcb9ZZTCjLMAPHk3uT4MKY/CnP1J/8EPSSt1\n",
       "F4jXcR2p5w3OYj/5eKDTZwe4RFRDe4XrhEVr9uL21pe4BV4zMvLmyMhbaED54DMK5egiJTpKs5mH\n",
       "5/8c4NPeOT1OyMEd5PgcMZNfr0U8Tikk00IwagmowVHorrUkBkPpTDG4/S3fHrBbom0i3cNz1Ar9\n",
       "AaVOwxy1QuhcXOuRriJXwknUXynk4A5yfI6YeQpZR9pDRvYNU6X1l3YY/ZRC0pG6DYaWzyYVM+9I\n",
       "4aPy/0VHWnh1zih8nqyVbF1cgvdAQCE5uIMcn7tMSOFYh9v4zoFXoZtSmLE7mnftwu3esTc0tZ85\n",
       "hQltaYTx4jxaUzAthWsq2tFFyr12NmPsghbDrddFYQrJwR30+Nx2gBuxSUWX13/+AB6FAUohmUos\n",
       "AuNKb3rhJXK3zXJSAT3alkXiEB+WZKT+gNJH9KOLlIh990Ra1pcSTkTp2xAK07sBOz5HNpQn94cp\n",
       "XGE96VJY2LGHozBNDq1sI912vkNCVaPzwr9r6z6LHamJuil8elQ/ukSB3NLPQuz2vr5H4P4FCIWB\n",
       "gztpcrbvMdccvYsOktzU3muFb8OTJqMQdtV+9T5kLZRRuAG378UpTLbrW9gypRT6A/pmE9BlFBbt\n",
       "jCDt9m77whQKDu445ntZXZ4JUmhMwp5RjkK6ur0UYYLNDN7C7V34bd6nM43JehURZU8q2DK3L6BM\n",
       "bxPQJQpk2qDqLdKwdMaowla3EeIHdxwzS2cyU34KNx0rv3/JA/tb2zcf8yisnRvznow8M0Jkl8+b\n",
       "ZHY+Cpm9H13AirPTQVG0Hr5Qt5FNlmoXesoqhj4v5AO6htVQ2zRA8mMf7UDP+ITQJQoYqxabcE/F\n",
       "o9A5p2c3y1dho1PpgoM7jplRGDnmpxCCC2zgJUzoEcAIfd7247W4vRXtMS9nZV2Mri+212tktya9\n",
       "pGpLj+i+ID6gGJtRxNqmATofpkN37/EwukTxePxT3895TuoS9uveNo4sunfmFee/H7o//RdrTXSD\n",
       "RXUtbl/dIp9RRAex+LbIjEl0RuksRDmXdXZO7X4p7PgEHxA3o7hgGnSjc3p0Z6oeRpcovNw4Uwqz\n",
       "szolQr0L5bWoHd/+1E1veWM12rQelRkH+JF9+eu1Kt3tXVKPP+gtAcexZ/JcQNyrtDYfmwY9U0LQ\n",
       "193xGHDoZOaGoEsUX/7QUHKcZkvVsVk9MKPe34W1qB2WdMpmFN9pRR9YpOymmd1bCRvXLX/c3+Nk\n",
       "4dracLbPu+Tc1VpS7dgyLBcQnVGkzuMfWBCg7cGVB5IAhtCriQXAoRdaUHSJ4pMfNVLzd3N92qnZ\n",
       "UEi9q34KWalrkI4yefwWR0bscRldonQWEZaEjfZos7Nj/T//yA26LB8ZMGsXioPN27mAutww7vy3\n",
       "ZfH7oAh6LLgJfSUg6AvAh274dphSdImiRNRsyI+V/RTKN+Sv5hb1j+LzY/uyPGyMlCE3CPzTrgIb\n",
       "2ZxNBUl+1oeegGEBxfmHCyU/ejzYeYwDgr4P/OjfAAxdoqgRq6zA28541uKlFk/MoNQe0pb2hI25\n",
       "SYicAP5eN9j97OwL920Ox47k1BEQQc8HBqa0XVQYfaDNj+7bEk7RJYoa2duhwPvaefNOnYOWmp/J\n",
       "2xgOkIY8ETZGhiEykfB1zey9N4XB2oU2OCzbnT4ggt4dGIgLwxg6904dB/gjwNAlihppLanx/jNu\n",
       "jxydQankhcKh0ch9y3D+UKHld8x4HjtnnpisXeiwh6RSdQR0NjIQey8S9qNHz2LpvAO8xsTQJYoa\n",
       "GWtX430StxdmstmWLL+F3n/srsn1jMZH2fsyYp3sdX3pidqFBoGtDE0fEAGaH5xT9CLoi7hXBDrA\n",
       "PRUMXaKokdndEdR7hfUJ1J6YyaSFjKu5UcRIlmLTS1lFdZejE+nbvRRqvHahXUEblkQfrwc9+CAl\n",
       "2RJGT52AhZUHejn07g4MXaKokdkdGhZ5U7sxk4z3HXJHk4TIuNNZka3UjCxdMRwm5pO73xuEjfHa\n",
       "hQ7IJrbMYtWBnnZyni1sOdjdUOJHt/uJnkqkyqEPdGDoEkWN5E/o8Gb2vaKMV/Jy+rXB1IC2wot8\n",
       "NMNRsifrNa+8iUASZOBTXicgoxUhdxEFKgyirdCPXixBD+QqHDqfBFF0iaJIskd1eDP7zhJSY4Ld\n",
       "dVwlws8MhMJotbYC6f7+hD0aps/scwpwWk6au6Wi+Ck+J6DgojK5nR4+QIEyLSZCYQB9oGKPhj0H\n",
       "3fm9A9xTRtAliiJJHNbhzexrWtAaC+2u4yuRJBNHs4EiifEhgP28bQKSbYXdhXb4EMlII/gaiBvQ\n",
       "Sr/R6SEvpEDFUiDhcJKrAHqxYs/zD5jvQ6GKZKQUXaKokiEt3tTuvo1tZXCtI7S7jq9E0omOPxso\n",
       "0Tam3lm2zPdcewecB5lSrNNYZUKMdH4xrgcUvF3ONf+DdgiLS2H04vWBZIr0rEH07Gi0BR61W+Lm\n",
       "/R7w5YCgSxRVsrqiw5va4xO+GnMF2V3HVyK5my8NJt62MW9Z/uM02YNVezSKt0RL3t/S4v+gVg/+\n",
       "B66cgIxDsIJsRCmRLWRh9NjKYK8yCWH0HXbbfw2ucM7qOsD8HyCj6BJF2ayiqsOb2hNTfI3Rz0O7\n",
       "6/hKzGErRjnBMlIRcm3f34+skY7hqbsTED2vRbaQ1YP+iuD7H4K/pO4ykTVSii5RVEluUIc3s7/J\n",
       "1xidCYd21/GVGMfui7jgZsmbX3IO6oWeVNwhCPlNvjCyhSze1/d636Ny9JWCwnbHeqETkCcVd9Sh\n",
       "qJLCuA5vZic7jGmt8NvoeHr8lZjG7ou04GZJrxp1KLzIn/ZDWnT8jQSUv97rForlUDqDAm0UFLbh\n",
       "IDgUEuBYC4IuUdTJYS3e1F5s4WqMzglDu+v4SoSzsBLPEgexzv73L6hdvC5S9DiABFSs/a02ZwtZ\n",
       "HegRcefnTHAJcL6MoEsUdbLT1OFN7dlJrsZqs/nw7jpfJUr3ziDySX7vTG3aJkoaSEDxD2pTS7KF\n",
       "zEVf37VDDGSI1yGjbfzemSC6RFG4xFbV4U3txhRXY7UpR3h3na8So1ihUWGcz77A72Cr9ZeiZSED\n",
       "6ch6pwX6nAjc+NDkd7AF0SWKwsFwUoc3s4/V1cr9DyYa20eatTtoZ9MR/9acl4VQSEDt0wKJ95Fu\n",
       "84DjJoYuURTKu1q8qT1fVytvb96Nmdd2vj6MLlFUysKyDm9qj56AOZAB8aPsJgRE0SWKSon36vBm\n",
       "9hVzQeF8yWcrmocuUZTK21q8qT1faj6DCdnbGLQHRNElilrZaOrwpvb0G82nMC/b1aU9IIouURTf\n",
       "NGUd3sx+XfMp/I300+uahS5U/gdOivt0oJDGBQAAAABJRU5ErkJggg==\n",
       "\" style=\"display:inline;vertical-align:middle;\" /></a><br>"
      ],
      "text/plain": [
       "<IPython.core.display.HTML object>"
      ]
     },
     "metadata": {},
     "output_type": "display_data"
    }
   ],
   "source": [
    "_failure_upper_bound_lemma = Forall(\n",
    "    e,\n",
    "    LessEq(Pfail(e), \n",
    "           Mult(frac(one, four), \n",
    "                Add(Sum(l, frac(one, sqrd(_diff_l_scaled_delta_floor)), domain=_neg_domain),\n",
    "                    Sum(l, frac(one, sqrd(_diff_l_scaled_delta_floor)), domain=_pos_domain)))), \n",
    "    domain=_e_domain)"
   ]
  },
  {
   "cell_type": "markdown",
   "metadata": {},
   "source": [
    "And then `_failure_upper_bound` corresponds to Nielsen & Chuang's formula 5.34 (pg 224), but derived in a slightly different way to allow two distinctions from Nielsen & Chuang's result: (1) the bound now works for $e = 1$; (2) the bound is now somewhat tighter."
   ]
  },
  {
   "cell_type": "code",
   "execution_count": 24,
   "metadata": {},
   "outputs": [
    {
     "data": {
      "text/html": [
       "<strong id=\"_failure_upper_bound\"><a class=\"ProveItLink\" href=\"proofs/_failure_upper_bound/thm_proof.ipynb\">_failure_upper_bound</a> (conjecture with conjecture-based proof):<br></strong> <a class=\"ProveItLink\" href=\"../__pv_it/theorems/dab15506ed44e496fef5b23b955f66655119a6710/theorem_expr.ipynb\"><img src=\"data:image/png;base64,iVBORw0KGgoAAAANSUhEUgAAAacAAAAyBAMAAAAKHQnvAAAAMFBMVEX///8AAAAAAAAAAAAAAAAA\n",
       "AAAAAAAAAAAAAAAAAAAAAAAAAAAAAAAAAAAAAAAAAAAv3aB7AAAAD3RSTlMAq1RmmUTNIjK7EInv\n",
       "3XZ/CtNrAAAACXBIWXMAAA7EAAAOxAGVKw4bAAAGrElEQVRo3sWaa2gcRRzA/7nL3W72cnsJfhD7\n",
       "MAGlH9SaQEsF0eSwUdti60nBL6KNRbCtoCcGNPSRq5ZSsbZRUZpSmw2GQgmSa2MFKW3TD1q0lSYm\n",
       "SGi99tSKaG3SR/pIIjlndh77TC65mcOB3Oxudnbnt/N/7wLIbWUpgcF7Ch6p7SX9QQOK0O4SGFtS\n",
       "W/jYDwmNeq4ITCVpgcFzrc0ZTM55SqCP9AuLALVEYGywkW92PDWe72z3KYdIF6mQzqScEhi8KWlt\n",
       "63mh3KdEqewOSIeKZgUGXwARqMAPpH9Iuql4TET6eoWg4BXSheOyoU4LjC1Pi0GtIdIbui2ZaQZT\n",
       "mbqNGGJQYWoiXpatUiKmpx/EoAJ0v0ayUu0WCCfUO4JQ2iTpu7NyoeaJuO1eQSj4nAZqfXKhTorY\n",
       "iQpRqHpiKYJyLYV6Q0R0a0WhuskVtBtSoXTzGekZH826MkQiDrKX9DN+joOR/I/bcwpb65NSocpM\n",
       "tYgk/P53xPz9jey85HPCPoeCzbuVL9z3nsKUCemWiXefFKjyVgalt49VfrbCAxWg/lX3yTG+F759\n",
       "5CrpTwA8iftXpUB1x/lKxVDEvc9wQx1gexts7oXcWxsVvn3wJjUYCdiKRb1VjpvKcii8WZN1Qy1l\n",
       "e4utmQzS7G5y+muvnoGdmuTTCKOLRqqlQNVUc6gRZCxG0m4o7orK2SLq5+lW4Pr01354Bin9KBeY\n",
       "IJLvsBxDUZ/iUO34L+WCCvAsMEyVqounG8E7wlBwjXQxZCZ+zGROy4EiVtmEGnMLFIYqxUvXNbyC\n",
       "56edAy53IAY1RqGQMi0D2CsH6oTBoBCQcqzaDYXXJzQEH7DMvWOtzXSNi0N9R2UbXfxNUBwRSrDH\n",
       "P1NnyVezIwpWv7J2n+VQ+rWjPQl4YRXefxwOXiVQUYTZUgt/IEE0tavEBlUqASpDcwXkr8oMp7vc\n",
       "if6+aHSc3XVoDgSpLVMXcgrtaKVhr3RUAYMqM13G+Dv4dxcoFKoc/ad9+DJeSeJSmizxKyFHYjl3\n",
       "w8dXZjJnMhkzN8n5NjL4FwqFnlggy+3Erns+BViA7jnsjHTjsBKuPMGSJg5VCqV9Nu23QWE3BRoz\n",
       "dpoNiihzqNdtKCiU0ErZoKCxjk1yGf5dYKui0XYTWlJR8EDFEsodO5QlfruxSdg2UbtxcUJr51BY\n",
       "/CYdVTrLpEsWPziM/XtXXS38DlNAPYqgUDTQ1NDQkLBBBQ0n1Alu/UYSZIHmwilo4VBlSILPo4uj\n",
       "ka1u5xu5LdVQwCakFdoQVGjkTku8UADH4P6gZ6XQVPogZJ06wv3UG1Tq3oZPoJtDYfVbAtrT1LhT\n",
       "r7uOLFnBfgorvCM8N6P1EjSXkoqNtSHTI6rrfKDUc9D0CN3857B1HFewXzc8znd5bj+B0o9fsEGp\n",
       "6Kp6Dxb2qCeSL9z5YoUnjUYUMWany5c+AMH1bW0fw9Y5PlDNrmLG+22oJUHBDm4BD/FqEo7UA7EM\n",
       "wH7DgoIhduZmz9QCNBpVGtan8kBtA4/Ck/tN0DCJiUEMqYNKdn71QilxxS+vgyYkX0qvK3m1QWnj\n",
       "cCFrg+Jx7NIps+ZmiNzME9D2g0fh3QEtTbCqIU0DC8tQaGnoInfasc2v7qTs2bHCbihicQdUx2jy\n",
       "0qLtf1fFO0cpVBl9NDQr+DKD25BDdu4GOJMnv+4Hj8I7YuIaFspoq+oMaE5RKOXrCUyrnoKd5jTO\n",
       "5nK+SSH2ejaoaGOezJeaIg5nbz+T7qwBVclpod5zVyvZOx0WPjoLA9o3bcT5zqbZoEiVK+Jbo/jW\n",
       "7LaQvT+nLq/NRz58+uph2g3FFJ757yqfQS8WDBUUqTrXcwG/aD3l45c8Yq8nbVA45OcKX946dWEg\n",
       "PLsK53YrGFevi6TN1a4EFj/flOp5M/mWrVhuhvxc4VvIxBXfHPrd2cxFSckuZloFeeUG6B4FTdug\n",
       "zJCfK3xxipnwjMDYUuYalpuCdwvbk8nhIx4nnSRQ3VjqScjP2nyqWpLLzmsShY8NUfcUJAs1SPNy\n",
       "d9tC39VE41b+ThsVu1hWLlQ0LjB4kHQPAnf0ftN7rrLy37kuDKeZqjfkQkkwf8gy6GxWUWQlfOpc\n",
       "luaSkN+li/0guYm/Ht3c0LCSP6NG6ExOWV8BFvIz2S/S61GhpSfLfDGXu8UPXV7kI4DLc/dyn9VT\n",
       "Zx3/iEYr0j+kCIt88PKa0K1DVPTXGLKhVJGPQ3YmhYwU1b6fQHr7S2CsLlTRL95nPNI+uJq99NEQ\n",
       "9HkoQlsropHVhY/dTlRJ3VAMqP/rI0YKc8Bk+w/jIB7SeQt3uwAAAABJRU5ErkJggg==\n",
       "\" style=\"display:inline;vertical-align:middle;\" /></a><br>"
      ],
      "text/plain": [
       "<IPython.core.display.HTML object>"
      ]
     },
     "metadata": {},
     "output_type": "display_data"
    }
   ],
   "source": [
    "_failure_upper_bound = Forall(\n",
    "    e,\n",
    "    LessEq(Pfail(e), Add(frac(one, Mult(two, e)), frac(one, Mult(four, Exp(e, two))) )),\n",
    "    domain=_e_domain)"
   ]
  },
  {
   "cell_type": "markdown",
   "metadata": {},
   "source": [
    "### Evaluate the success probability as the complement of failure and establish our precision guarantee."
   ]
  },
  {
   "cell_type": "code",
   "execution_count": 25,
   "metadata": {},
   "outputs": [
    {
     "data": {
      "text/html": [
       "<strong id=\"_success_complements_failure\"><a class=\"ProveItLink\" href=\"proofs/_success_complements_failure/thm_proof.ipynb\">_success_complements_failure</a> (conjecture with conjecture-based proof):<br></strong> <a class=\"ProveItLink\" href=\"../__pv_it/theorems/be7651547633d37d255e872dfba33544dcca2cf20/theorem_expr.ipynb\"><img src=\"data:image/png;base64,iVBORw0KGgoAAAANSUhEUgAAAacAAAAYBAMAAACsKi+/AAAAMFBMVEX///8AAAAAAAAAAAAAAAAA\n",
       "AAAAAAAAAAAAAAAAAAAAAAAAAAAAAAAAAAAAAAAAAAAv3aB7AAAAD3RSTlMAq1RmmUTNIjK7EInv\n",
       "3XZ/CtNrAAAACXBIWXMAAA7EAAAOxAGVKw4bAAAE3ElEQVRYw9WYW2gcVRjH/9nbzM4mu1sQxPrg\n",
       "QksfWosjKRVbDUsboVoM+yo1utoHLw9mhIKtrWYrRUTbJig1RCUZsRRixG4aV5GSmJdQUKQSEYKY\n",
       "MrUFoZckYoo0hcZzm/vZS3Qf6oEvu+ebb/7n/PZ85xagicXA9dl6Mem5koilRZHLVH3LV+zGXClD\n",
       "/vZ/KekcKvWjUgURS0vckspUeSlYKghIPQNuWepY1xSoTayZ9PDNNR8+UQ9qk6hdksrgmBl+KSxc\n",
       "QUAqrXN7jNZfaAaTVuTNZMjnJ2ZtKBrLSsKUyGh39UigwsIVBKVeBrPDNB37mwEV03kzfSQPHrBq\n",
       "Q9FYVqJ5mQwWZFAh4QqCUlvAjPKlcs2AahXNLJA5vVCuDdXqVL+XycihQsIVBKVaTWZRAppoypTa\n",
       "IJoZplaqDbXBqe6VycihQsIVBKUSOrcf5+Z+aArUbtHMTUC9XWehoLHa5GXS9TGZjBwqJFxBUCqV\n",
       "5bYL+KiBLit28h+otgbs5c2QdpWJXB0oGttdUkkubWXzYo6VrDN0MqiwcAVBqWiR26tQst7I6Li0\n",
       "L1ExQ9XNvvbec9fYGd5M+s+z44V6+xSJVf5Cmny9P/h8phoUF97TReuPYmRRQPmkIlPckqZ/ZztK\n",
       "7LOiT3J0bC2u7xCVNtPr9qTPNIdKLjaw+ZLY5O15tlYGn0+7UKfY+M2Kl7jw8n769zgUG8onpS5y\n",
       "i1jOOnH8nhNs4qnzP/nayeNJtCEERd2eeSqgMsXGoDI8P56uAeV/iQlrU/Z25oFypeJT3FDssHeI\n",
       "XfZqEvFD3UBv6RSwr7Ozs+CBom4PlEi/PrropteNa8O4ZuHqRSM9eTfG56kLv2/XnfTL8HzeHJxT\n",
       "VdOPCR+5pR/cUiDamif9XCnacdb5M3QbHu3QxZFFArWN9H59NDRS2/xQQxxqgXZ6D95EL5JWKh8r\n",
       "f4XdiVxMJ654WbE4FIltI30k0/7h4EgNVYNiwoTlXpwj2g6UTyrazw2HyA+kzSKr8XPF1jAUMIF9\n",
       "D4mF4toZrxvdTmWMQ/XQ7307TNJwi3XaUD7/G6/3Id5PXOrSRpF+Y2yROmmIFdxb2CT9zghD9Yis\n",
       "ew0f4LQL5ZOKlbmhhexnLdmDepydN9QXJVDqr9LpQd2JK3btGIN6fIX+1PHhGwzqWfKVtP5Ie3uB\n",
       "up5aKXAoGnu1nWbNL0FR+mjN+ef0IBQXJizpyQteKJ9UW4EbP5vs3IjoS4OD7+PwWglUYG9SB0kZ\n",
       "4O7IK84KUoJz9XiXDDhNv14TyjJf4ohLNclvyqDa7IOBEswJ95H06kFYfsaQ6YHySb0BbqxkyOip\n",
       "/Fh1MQyl5BVDuh8T9yF3J8u7UOuRRMb8opwsa9bH+DKpaxZxRfLo5/1zzrExPbQh5mtDacu4YHmg\n",
       "fFI7wY2VZA5lcbBwFwqtjFE+UO8ckR0jmNtdKDDggbr0DdnFH5zB2XmkJi36QVyRru2G6N+ArRGW\n",
       "HagF9emScbn97Sv35U8u2a15pOh1w71yaF0dJg6UBJTy9S2ao+o5HGUjdH5lRTalmNsDNYLGb74j\n",
       "1QlGsLqbr0cqaXDzXs++HTzh62WjZ3M7HS1M1P8fxW8FEctqkrRWJHexlPR/FNMISP0BbqHS/a+h\n",
       "7uCSsFYTrT7/v4DCW6sJ3n8nEvwDxaG7jq9YxqUAAAAASUVORK5CYII=\n",
       "\" style=\"display:inline;vertical-align:middle;\" /></a><br>"
      ],
      "text/plain": [
       "<IPython.core.display.HTML object>"
      ]
     },
     "metadata": {},
     "output_type": "display_data"
    }
   ],
   "source": [
    "_success_complements_failure  = Forall(\n",
    "        e, Equals(Psuccess(e), subtract(one, Pfail(e))),\n",
    "        domain=_e_domain)"
   ]
  },
  {
   "cell_type": "markdown",
   "metadata": {},
   "source": [
    "Taking Nielsen & Chuang's formula 5.35 (pg 224) as an axiom for the number of qubits in the top register, $t = \\left(n + \\left\\lceil \\textrm{log}_2\\left(2 + \\frac{1}{2 \\cdot \\epsilon}\\right)\\right\\rceil\\right)$, we derive a precision guarantee probability greater than $1 - \\epsilon$.  That is, rather then deriving the number of qubits needed for a certain precision and success probability as done by Nielsen & Chuang, we derive that a given number of qubits is sufficient."
   ]
  },
  {
   "cell_type": "markdown",
   "metadata": {},
   "source": [
    "The `_precision_guarantee_lemma_01` and `…_lemma_02` theorems below are both used in the proof the the `_precision_guarantee` theorem."
   ]
  },
  {
   "cell_type": "code",
   "execution_count": 26,
   "metadata": {},
   "outputs": [
    {
     "data": {
      "text/html": [
       "<strong id=\"_precision_guarantee_lemma_01\"><a class=\"ProveItLink\" href=\"proofs/_precision_guarantee_lemma_01/thm_proof.ipynb\">_precision_guarantee_lemma_01</a> (conjecture with conjecture-based proof):<br></strong> <a class=\"ProveItLink\" href=\"../__pv_it/theorems/a26ef88b80e4e142c014854a0860563dc2899a060/theorem_expr.ipynb\"><img src=\"data:image/png;base64,iVBORw0KGgoAAAANSUhEUgAAAa8AAAA/BAMAAAClVFrFAAAAMFBMVEX///8AAAAAAAAAAAAAAAAA\n",
       "AAAAAAAAAAAAAAAAAAAAAAAAAAAAAAAAAAAAAAAAAAAv3aB7AAAAD3RSTlMAmXbNRCIQ72Yyq1Td\n",
       "u4mXa1p+AAAACXBIWXMAAA7EAAAOxAGVKw4bAAAF6klEQVRo3tWaX2gcRRzHf3t3u7f3J5dcSiUP\n",
       "NVkV/6DRBsQSqrVHfQj4YhS0CI05zIuKmgO1tvUhp1WhovTqi4jVnAWrBCGFPBRB2iuKkFZILFTx\n",
       "QXogiIZATptEk2rP/XOzO9mbuZ2Zbo7dgSbN3c5v5zMz399vfr9dAKN1Q6CbskOwY2Qg2GBwt2C/\n",
       "R4YDDtZRFVvpAwHnAuU1oW5S0HciwOm8SK/JUuDB0l0ivXYGngtSK+3q1O62S2SZ5/n7HM/7OGgW\n",
       "Y2cF5DJ5ittJfbrbPzA2Y3EBkU0LjGa7nyvGYkyq8c/Yn2EAi/3DbVZdCwMYvMR/XKmFAqyP+9jX\n",
       "OR8KsLNF7hNwNRRgo2Ves325UIDFC7xmhUJS+8E6VnnN/guhAItc5bQq/xcOsBRvuE2JxGdY8jPn\n",
       "ZjKWIC2ATLnYMBj5S2AoUxM7i75xsRlTSJK5i3LxHuMQdnUTzuub0eqE3aZHqsR3JEHqM9Wx5vt5\n",
       "fXPaXPMAxwCe20L0ljsAoiub4A42o+1uVmKPsThEsNf1wLcaErDL1kFiDNNjgQoWz0NnLSRg01Y+\n",
       "rCxqtsQGqGDRYujAAPp/Q8lnlQj26FQRMuXwgPXZe/DdG+xlIYCpB40fAzAePjCY2Wr+Sp8igZkl\n",
       "nFQBxgs42Nj3Rps187S6eDO08IBpqnSdloxmTf2S5gz+oZOmh8jZYNjdpqdO6NGt5gILcNsA9qML\n",
       "DGuHzBJJIZRgM5+12IrXTIdZCbrzeHHhZLPz2NpI0TQS2A+mB5m3wTyP2I3vox7Xyf6CdcE2N5jt\n",
       "7jNGtSDjLtB/kFfyRiRogHkesSONMDLuMZKY5ivYMoyWNgbofvsGiQpA8vMrX7jym+438pDOQZxa\n",
       "fZOzu7CC+Rk98m35Wd/frYZhpAh3+Ar2thvseWz+Z6nd9ukKpNYSRiCz7KRDAyDPw1LuqW/+QOfM\n",
       "Ize76ulWihD1WayL6KxYIh11Ka0HpS2kprueV+0/pCIkh41S0f2I4s0D8AopyVc9Hx8gld7Hcp2d\n",
       "b801i7uDpnd9DUBaptmdyMO03TNu5gHJFUALLD89AKvE6sV+r7JMQ62KVwl6j7lv0AaYIGTVtFqv\n",
       "QRyhVvu/1Pe1vfy6tJIVSK7pkS/xi94uQVKLFYhgg6SKRdcGtZryTbV69G0slJEHy11yY3L/Jlz1\n",
       "GKX3rYbHv9Yqa7X/12uFxFqk/Cxaw5LUVSKBLRAMpcu4Wk35yosPNrqrPe/f5LreSoz1PHjkw2PW\n",
       "ksm8ZcLYeotpcwo91jJMapKGosgopD8igh0mWOov42q15BtFecgzQ8W4Wy1m3NWdw0S97j1OcvXn\n",
       "Cv07bJ4vmD/PQ6IHwTwMkd+JW/E0YYYOO5biSL6dSD1P3AKdeRJYHPtU5a6mzdG/utEhf9mcbJJY\n",
       "sYO1BTbZfE0m6oDNIPkOAXxsyHUYTsAQkMCiWMySuB/j0R88qdZoztlg73jZMsGGCGLGwHrRfN6p\n",
       "oMU/CNkECSxTxpJ97sd4R6lHqTMgD+NbMVWFxxnAvm4OK0UMbBDJtzvT2GlyDWa/IoGpmN/srPCC\n",
       "jdICaqIKEXuTX9T/fQJwGwPYe807EaJuteryPXYE+a8y3FMkgaWweDJZ5QWL06ZiXza7zf5D9+Hy\n",
       "uWzWY9rMFKG36eO3LDBMrZZ8W6jVBEtg228794seGdphca5edzzmcX2S9Sy99etkVorwbdNO1Bor\n",
       "5qhVLXsdT1atPNhuP3EfMmUmP5pmnjC5aVVjU1PTh6obtiIuXzpYyjGlrHODwb0sF6nMb8ZIJGcU\n",
       "d1boolu+dDDVCS8iL20cZXrWdYnV3AjpQ+zVhAW3fMkCWUEV0Ya3r/CDjTP5mxdYzZFmQLq8rmFq\n",
       "3ShfUrMS43TO8d1FfjCJ6Xm8zJjyR4Z9U6uRB9v+ViBFVUSeaYo3drWaj4muZ4y3t7eixqxW2RGm\n",
       "VBG5U1prKxizWrHMfzQncqdYe9+dZVWrmQej0C92q18h4E3dL9avQws42F7BF+iV2YCDDYp2fDLY\n",
       "XIqA6/gf/4kUoGjjxTYAAAAASUVORK5CYII=\n",
       "\" style=\"display:inline;vertical-align:middle;\" /></a><br>"
      ],
      "text/plain": [
       "<IPython.core.display.HTML object>"
      ]
     },
     "metadata": {},
     "output_type": "display_data"
    }
   ],
   "source": [
    "_precision_guarantee_lemma_01 = (\n",
    "    greater(Add(one,\n",
    "         Neg(frac(one, Mult(two, subtract(Exp(two, subtract(_t, _n)), one)))),\n",
    "         Neg(frac(one, Mult(four, Exp(subtract(Exp(two, subtract(_t, _n)), one), two))))),\n",
    "     subtract(one, _eps)))"
   ]
  },
  {
   "cell_type": "code",
   "execution_count": 27,
   "metadata": {},
   "outputs": [
    {
     "data": {
      "text/html": [
       "<strong id=\"_precision_guarantee_lemma_02\"><a class=\"ProveItLink\" href=\"proofs/_precision_guarantee_lemma_02/thm_proof.ipynb\">_precision_guarantee_lemma_02</a> (conjecture with conjecture-based proof):<br></strong> <a class=\"ProveItLink\" href=\"../__pv_it/theorems/64150ffec76dd24e798462b3cc77387f3e2cd62e0/theorem_expr.ipynb\"><img src=\"data:image/png;base64,iVBORw0KGgoAAAANSUhEUgAAAhQAAAAoCAMAAACRg5MoAAAAOVBMVEX///8AAAAAAAAAAAAAAAAA\n",
       "AAAAAAAAAAAAAAAAAAAAAAAAAAAAAAAAAAAAAAAAAAAAAAAAAAAAAAACXHtMAAAAEnRSTlMAq1Rm\n",
       "mUTNIjK7EInv3Xb5868y7sY2AAAACXBIWXMAAA7EAAAOxAGVKw4bAAAHD0lEQVR42u1b6brbKAxl\n",
       "32Gmfv+HHQTGxht2YnJvOp/1I3XTlAh0kI6WIPTIZ4R9zSKPfAMcCLy6Hku5n9TbCPMY71OYwLU9\n",
       "ecBG2qADUtZq/s2gQMo/qPiMULGwp0Uah3gLBxoBQdxXgwJR/NjvI7fNmdqenCOv459yCHDow3eD\n",
       "AmnyWPADIuzCnib6CIgZZACsMPHloDDuCSD9JRu/tidJ3iHDwdkvB0UhRI/0FG/X9sRiep8PEpnv\n",
       "BoWMKj7SmVFMjmKyZ/IOOYZEfEj63aBA2j5W7CxYr+0pBzUxzHjgLx75D4CCMqpCmKpk1D1W7CwD\n",
       "XduTe3jNh85ZkN8GCkO5i0o7OcWPmIDMxILQx6i3o4fsa8+uoJCMCa3Wb5oApGcOez7il01FNvFQ\n",
       "jNuuuKpD/NNjwduLkNmqEkKbBXKjdBH4R6it8Rl9kCcpXP+fR+5RiqoO8W+PBW8uQj2bsx2c4OE2\n",
       "zsdF58EYKi4kALBLF8Q+xaz73h539vy3Fgne1gmwSyECr3NOCSDwiqiprhKf6EglxGPT+zzTfg0o\n",
       "jPVh5cYS5cXDilVwAHKwdOZF4B2cB3FPfto1+XjTniqZjItBmzugMMwfpA3+rP1i0iZY0kP3LXrL\n",
       "v208pIfCKZ27B4qkhRKUY/v+IgYLcpgfhVNkwyckLi8nrMW+kLPSxncry8zmIHaer53gHWourym8\n",
       "G7B3T/wuKHJkT7bQNzzFMSj8uZ1zDAQnYU/HP1RW0NpgW5HMYmyA4zCyVygZiYtdqKYPnne1EPr6\n",
       "hw+PPqViCCYcDhWmjFNi0fEmdhDJB74GxbCVso7ws5Q4n76Qmml997bf2w8f7MKRDembSTimmSpg\n",
       "neeFiCgXiuvm3WVAaPzuWsGX7PldUCBs74KC6DA62ZbCJOjdXUyb4PYDniJMLyb0Jpro4hBNBkVE\n",
       "xJHzZEzNZZCS1KLjThpcFaj2m32QkfugcOoeKKguVyiV7ZYKS5Ylda8UkqK1ie1E431QgD142iEz\n",
       "90CxTUmj5oBjeVajHFmHJeMGc3MEo0BzOTTQujaWqBR80B2WNMDzwRkThujboFhrsSJKAZu3QRGq\n",
       "0SLfVtjD9rk53sS2sCNvZx+MZmAYrHrktYviVeRy6QjOMopxE3IsupTmSPxbgHdMfeoplObWsG8y\n",
       "TuvhylHZAAX3DVCstVih3+TuEjCbV0GhajTPbmBXYQguxDaRzbbZXGiC4kIjQYggFGWedyp2EDHd\n",
       "K+mTF/RXU6gRl6U5AnXPNBRCa4anJlC4FlNvjQSX80SixusKFGstFgLOH+BpWFzhMihKvkn07FAn\n",
       "ZvTqDPOE7O3XO9YChRkuXe5h2E7q9BCfee5ZkVIN65wDmiMpzfAkOYfcNiHQIklOO4ePoVERl4uC\n",
       "x7L1MoOCiNDgFEstFmukQj0eW7qXQTFTJj7BguA9hXePaX8Tavv1dWr0ZwJk6U2SS0VjVnunPz9f\n",
       "sJkHCmsaB7RbDtAgUfVFza78hGimO3lMZcp5StckmkstlgEvUxqZXM0xKMhiAHWRbyrMZGXTtsLo\n",
       "pfCBmNt4iqk3Ka0XVp0vXzPpX5i8SsF0FU/Ge0p14jv1Jco4D2GslpfEp7yUI1BKMXN6nk2iudZi\n",
       "4QMNvDum0A1PkZkzJyFlEst9yuz1/AWFW5sIOylfdctGe1a9SXGl5agWMebNiqbfKYFcFb3mccnc\n",
       "QIckTkFfVvR/NKS1oTpDBRM7ahrbQa4uz2y8iBWDDeegWGuxODOWbXENFC4H8k2CnPRNwaCpcHsT\n",
       "Wu6wBrK2Z9WbHK5gL3j0u55iOK1bGwuhlF+PiFc58dt1ipo5QqqiGaWYpzxBBRISG7aE5vAhMzfZ\n",
       "T5D5vRag2VNVs42nmHqT/JKFpfpdUPCXxrm5/yJQEDK5FZF+1xQTzOQPwEP4HGbGBflhgsxujZrt\n",
       "/u9q7NUtmX8iZeZVX34CilBy7KmBcJ9SvLaQCL0woZbR9WVQmJBTiBJrdKpIphQxYkCJqtzI1HEa\n",
       "geyNzjDdbRaZOZ9zy5JbVCW8/oVnnmI8yLmBcFvci7NWqtNsllQ7EX7nuQFnOn2YswIKUzxE5Smi\n",
       "FVpQvgEKc3bRanum3qRiVKHOoJgKtKQTKML/YcLfYK+4Z8hGhPNAAx85hU/BXUQS6X9WoSmjrE6X\n",
       "vT3+CkxZe0UCNkCdktno6CdDfBK9QeGeocwPyBTcZ1Dc+IG/Q2PdGcpiyfDAkZJPTNVe1xkU4RnK\n",
       "/IgIugLFtd5kCxQm/5oPEqlcxtBhrC139hTSPT/z+ExA83IBiou9yRYo0Fz5z+kNZjF1RN1BYfwT\n",
       "PD4kUtSjEBd7k1dBkT2F+Iyn0M9vBD+HisQ1ValQXOpNHiV8BRS69AgBBhJKc5jCQ09QGP7Y7q/J\n",
       "rwYWo4bgEqeRWhtCrpvZmH34PC4x1967yH/LzDv2efjImwAAAABJRU5ErkJggg==\n",
       "\" style=\"display:inline;vertical-align:middle;\" /></a><br>"
      ],
      "text/plain": [
       "<IPython.core.display.HTML object>"
      ]
     },
     "metadata": {},
     "output_type": "display_data"
    }
   ],
   "source": [
    "_precision_guarantee_lemma_02 = (\n",
    "        Forall(m,\n",
    "           _success_cond,\n",
    "           domain = _m_domain,\n",
    "           condition = LessEq(ModAbs(subtract(m, _b_floor), _two_pow_t),\n",
    "                              subtract(Exp(two, subtract(_t, _n)), one)))\n",
    "        )"
   ]
  },
  {
   "cell_type": "code",
   "execution_count": 28,
   "metadata": {},
   "outputs": [
    {
     "data": {
      "text/html": [
       "<strong id=\"_precision_guarantee\"><a class=\"ProveItLink\" href=\"proofs/_precision_guarantee/thm_proof.ipynb\">_precision_guarantee</a> (conjecture with conjecture-based proof):<br></strong> <a class=\"ProveItLink\" href=\"../__pv_it/theorems/8d4174a4bdee6af57734b2dc7f720861fc14cc0c0/theorem_expr.ipynb\"><img src=\"data:image/png;base64,iVBORw0KGgoAAAANSUhEUgAAAocAAAE4CAMAAAAevqntAAAAkFBMVEX///8AAAAAAAAAAAAAAAAA\n",
       "AAAAAAAAAAAAAAAAAAAAAAAAAAAAAAAAAAAAAAAAAAAAAAAAAAAAAAAAAAAAAAAAAAAAAAAAAAAA\n",
       "AAAAAAAAAAAAAAAAAAAAAAAAAAAAAAAAAAAAAAAAAAAAAAAAAAAAAAAAAAAAAAAAAAAAAAAAAAAA\n",
       "AAAAAAAAAAAAAAAAAAA9Qh/bAAAAL3RSTlMAMquJZkQiECClQDDdu+/NVHaZucNsr3D3qZF8+eOX\n",
       "XoXh19vnUGCh1ZPB6dHZ5aJgHd4AAAAJcEhZcwAADsQAAA7EAZUrDhsAABcNSURBVHja7d2LtqS2\n",
       "lQZgJCHJbgskMXY7WZ5J2vaMJ5NJovd/u3CtgiruCFTAr7US97kUxdl8tXVBQhFxZaERCspAUZWR\n",
       "Xd+DOBbnhSPaKEOlABLTvR0KBBplBkY4RIFDFJQwDgXN26WU0iSJe1/BdcpwWeBw/3xIqu6zSHX/\n",
       "a+AQDo9wKOphnNj1g9NwCIcHOiROwSFKcIfcaThECe6QOVP0SqxhOv8lmVmblePdOovzfxpcGzg8\n",
       "wKG0adlhTjMjXBwRVfxiYguH5T919hkBEru/ACWUQ8UYs3XCU3kjUeb/YdWvk1wgrWrtz7gZyPje\n",
       "L0AJ5TBptwZp9XsVy6ILXWdCl8EhHB7nsORm6uxX/KhxmEydOosX1ZfDrgnLZPvrDA7v55B18mE2\n",
       "Ox+StL7uzI51sCVjlBbKYtvzw7jusrPOzLSkh1WcmTjOuGHEu0OTiNZ5wmFAh3l35dEobGrq3gtO\n",
       "LE2S8kqbilDBi4+kzuK4Wd4Gteq9C06srYcwjZ5yaGz+3ZRHhnl2aMrO2eM829cm47FhcLiTQ9IZ\n",
       "N1RZnd1Ig1LrIi3Q3guQZQ+dNZ3ydSOzKQrZojDdO2huZjuMEhLJ/LcmB5SWOYyb2+yP82ydXEFf\n",
       "weEuDgXVzj2QcepSaqrmW14xlZcwkYZzy6uMEOc5i0Y2TsorZFstwoqOcAXadBhHLKvrK/VGh/lv\n",
       "FslJRX2t0uJ7RJcjUUsc2sS8nqfIqlIcheZfajjcKR/OLzLmxaVN84ralmOObSBV046UDtV4j4UV\n",
       "hrI+QI1DrqYcyuIk8n9T2/MXcVF8wATRixyS148Pe0l+RXMi5hIOAzsU0hZXtqitsiKD8pYkosnT\n",
       "YWpHT0IVuSaLxbDDSFs5kQ9H81rxi83/5udDkzD5ep7tjyEtUnAcwWFgh0X2qTvGypQpMClL/m9S\n",
       "dy6retmNNdpE0rq8JGmK6Dg02o45dJ3ydqD8tcI0Hpe0D3lLYuc80V/+KIdFL6RorQsXkWKcr52D\n",
       "6Kx+SjluKIZ+3jgU6WT78Hm0no9LRdCY5f1lQjMxfZ5wGNShcHVOjJNyYKOdMequhS3GbZ6jf5I1\n",
       "//fIMoSQTE44nNFPiR7DRD1RpIRGpGw7LB8/FGVqHz9POAzqsASmy05A2X4TCXl1WIxjty4fSUX9\n",
       "f01GHVkcK5h2zC5x2DcKWb3epdWw5pr7KWLiPOEwdL381oNmRYuMv9PZWCYdclPNShsaznvmyWGH\n",
       "Jr1xA/BaDtu5Uh3pMG8/yjxUcgj/cyBwJB9qiR7J5RxG2vo7TW0mHIqq394/ClnkSTnfITHVb7/0\n",
       "3eHwnA7z6+npQIK8t9feWRXNgf5RyE4pXiCTLI4pLwf/iDW27Oub+FEvK+TDCzk8pDwcZmTBC7gu\n",
       "q2qhq5o8T4SqzQ8O4XClQyYju8AhbSZGlHOBEk50q30Ih3C4tNgqDWrnnJr/Ap41DmWdCJEP4fDw\n",
       "IqkiXGURS03EbVzMjyjah80cN5syLEeEQxQ4RPFbnLdfurlDjWVFmxzOKqHPUkw2iEM7zPDo7Dvk\n",
       "Q0bDOvzu++9Gf45brjepl9OJ6bxfvg+ZD2Uag9LHO5QeOvd8omIMWy/T9XNmeo9L4LDtR3hxGE8+\n",
       "0WBOocnnOiQbnmHTO50g8QDRhSi7OHxEY9M1zvzsfiNG126Edag3TCHsdWiyfTNM0Np16Sufs9S3\n",
       "/EnWSzYsPhXqUx2aLY/06p9epeDw+SkXHv4k7pz0RcF+qEO9RU3LYWs5qYf7ZVdx+HPm409SztuD\n",
       "TZL0Mx2Of0AWODTP44gEDuvypy8eDu8vHRbVn/lIh3TTn9jvsFUZ3dzhn7WPw1PncRXQ2LHCOZTb\n",
       "GsADDrc/H+saDuWfhI/DK59PQ6WOfKDD2JkdHG7vqVzDof6zn8M7f4uA8kqefaDDZFvLY8hhxuEw\n",
       "ir78p/w8h5FLQzn84n4YrJa3Za7SYaaKkqblf+rdgZ6jZkePKW+4QN5GwOtv/tdfPB3e+bzxmgxX\n",
       "zL+EyofxxgGBoXy4uYF42nzYYvkidEs+9OnQDl/zYPUy3bgvxZDDzR3mkzrswEv/2vnGpzgkwz3m\n",
       "YA7TjW884HD7AOIpHXbr52+/dr/7KQ6j4dHIUA63Ng+HHG6/oXJCh6+txF9/eF74j3KoByvBUA7N\n",
       "1tvnAw5VdD+Hrwzbj5Atf7bF4Teff2c22P0O5TDbet+y36GHCTenc/jKsPssqOKnWxx6nSc9PJUx\n",
       "lEPtjDeHrXkOHp5YdDaHb0M3lL9J/RSHZHAEMZTD1BFvDodSwa36y8+QJz4P77deloOjs6Ecbp7H\n",
       "0evQxnAohVeHfhcQuaH0E8ih2Hzbwvb9QTSCQ7+H9+xQDTXHAjk07mP364LD/erlvFtgP8qhdRoO\n",
       "b5gP6dAwyc4OZdzfDGS+Vt/A4akcDi7+E/suZB/Kh9RROLyhQzZUDwaqlxOf83xv7XDn5dHeHaqP\n",
       "cqjhMPR7BnFohwayAzn0uBwRDk/kMB7KzYEcpnB4Codfv5KLO7RweMN8aD7OYQyHcBjcoYPDWzrk\n",
       "H+fQwOENHZKh+S2BHP7Hjz/A4Q0dfvfjj8iHcLjC4bdL5MOhdfRwiHq5U35BPoTD+7YP4RAO4RAO\n",
       "4RAO4RAO4fCe/WU4RD6EQziEQzg85D1Pti4ADq/q8FzrAj7P4U9weMN8+AX5EA7RX4bDEA497Ht7\n",
       "lXp5aB39doe77b98HYce9r09zGGgdfTbHe63//JVHPrY9xb95VUOsf9yq/jY9xYOVznE/sutK8si\n",
       "ODzUIfZf7ivPTQPQXz7GIfZf7ovPbwT5MJhD7L/cDFT8TiM4DOcQ+y9Xhf4u4DCgQ+y/XMX9NxbB\n",
       "YUiH2H+5KN/9t4TDGQ6zr8KHQ+y/7AaO883T4T07lF+/RvfIh/fef7n+5//42n/Z93PnrreOHvsv\n",
       "d17ZzYzF/sutb52gXv7lYvnwnvsvu5Psv3yffgr2X44+eP/l+zjE/sue91+GwzUOsf+y7/2X4XC2\n",
       "w5vvv/z6Lco9Hh7zHOY7HEoFd+ovt0Lud/9l5MMVDrH/8ofvv3w9h9h/ef4r4RDr9eDwsx1iHf0d\n",
       "HWIdPRyivwyHyIdhHe63jh4O60Be4zlLp11HD4eHnBj6y3AIh3AIh3AIhx/kEP1lOEQ+hEM4hEM4\n",
       "hEM4hEM4hEM4PNLh9nX0cHhGh9dbRw+HRxSso4fDW9XL2I8eDtFPgUM4hEM4hEM4XPKeMqZaOb9F\n",
       "qWT6WZFwCIePYrS2RPp/V8mZomLC4Tc4hMMyhDqTO14gTSXyIRxOvqdNdh7x54rDIRxOvCfNdn9z\n",
       "qWM4hMPR9/ztjyPe/n+T+zrEOvoZ70kP+rQydpBDrKM/o0PLjjqBxKC/DIcD7ynVYScw9FZYRw+H\n",
       "UXZgjAae2Id19HDo46Gi84uadjgwgER8OES9/LEO4/jIU+i/x9dx2L/1epQQOLyyw0QeeQo8W+tw\n",
       "ybPx4fB8DvWx56Am+8sDDpfsFQKHp3Mo6LHnoNfmwyV7J13bocou6JCzY4PR2wyY5XDBXnKXdiid\n",
       "vqDDzu6VBwQjI2sdLthb89r5UEYXdOjkscEQbpZDbqkUzCY2Iowllcz5ew17cLhw+pGYcIj7y1MO\n",
       "P+Ik3hyyKKG2SLtx/pVJF/ZUtt9ftgsTGLfop1zB4Ut/mfNIJWX2tC099eDjdP28OR82qZeouXm/\n",
       "vFMEhxfLhzLPhAU6U3rK6rYooVXT1Fu9PDQnsrrHJGmm5zdbtMQ6+uvVy7nA6CEwZe0sZfR6h6/r\n",
       "6CVTff20rDkdO99hnKG/fLzD9cGY6ZCWx1eFPJ5fXdlUyIIpzchahz31slXs7XfTaLnDKJUYPzw+\n",
       "H64OxkyHZQ6sKuecZDlPph5A1NPXdFn7MH6V+My4SxzmdTzah1erl4UjDzYJi8oKub6hMoPG0n6K\n",
       "0VkbUMYWOBQZpeXZMwqHl3PIyzEaWyZdnlnxHLbhaeTdYX7U9sLWZ+9l2mGcNo2EWMPhyR12njs3\n",
       "dD+lnnBjaSTJDg5bNxyVme2QPIWZFA6v119+L/UK68xGTHp2aHTngRMp73MotXqW5pNAHaXU1m8K\n",
       "hzdw2MwbJ1k8OSN2aT/l5VEW/Q77O8nP6Uoc+fAODu2CeeMbx20W1Mvuec/bKDi8kkPbn+6WzJOc\n",
       "7bB/HDuxsx0mz+GrOMFz2q/k0EOZ+5z2gft67GGeuQlAJM2hSlmP9iAfnt3hN6/vsXGeA6kn9lCa\n",
       "Ok3HPyIks7Et30xxP/eXl6VOcW2H+wXjiHy49TntasX2BUL5ub+8cMYZt4EdiuW/MN/hjsEI6nDm\n",
       "vK94xU3LYm6EB4czJ/sKxrJqerCNgzqclvKOY7bDPYPxSQ6l6hkSLLsfi6u78ub3dofN6JRUo2cg\n",
       "iw+KqY6qpU+HlmZZPSAqqHLF8GiSlHMrqUrT/Cuq0zTuSil+UZUP6yoaMnZypGOuw8cjHsajsS4Y\n",
       "Z8iHkUyWvmUpd7vDZsaZGe+o2+KA9ZynOPPnkJQTnCJbfyiJK3tsIi3fiFdf5cFhr1KYqwfbus/s\n",
       "qv284pjr8DH9bjwa64JxCoeRWNjsqu6Ab3fY3DzPxtdA8HKovZ57l0pfDqvp7+WlJdXXtA4ba30V\n",
       "SfoqRTeH6d4RqP284pjr8DGTYDwa64Jxgv7yhvfd6PAx40zNaBmZ+tPbGnxqbk/OX2PbCYh+XHml\n",
       "2g6JU22HUfYqxTXv1x3lbfy84Jjp8Dn9bkY0FgfjHPkwkMNqxhmniUvoVEbmqg7ac7gz77ST1n+W\n",
       "OjSuNeHNtuTxMtlUX/Fi4dqLFN7kUdkF0/h5Gaad6bCefjcrGsuDAYcjRT+ah5NvZSmt4xvrqBv7\n",
       "BQw7l4M+T5O05BXNP/P4yvI3KfnPm1Np/bDlh9E1DvWzebhDMOBwpDR3trM5qy7qLuJjWW0T+yUM\n",
       "O5dDO/5sKaYPedJWHeT8e3lv2fF3KSp9rbC7fmK9xuHjNv+caCwOxj0dzlxH38z0aTWIeqeb1b9d\n",
       "/ZWk29dQi0bhBx1WLULFGGuGCEuVIuFvUuSj4fjSPGz8mHSNw8e0p1nRWBqMIxye9jntdeilm9gK\n",
       "jpTRTarDdmeoj4W+r/TXy9xVy8eTTm+6aR8290jq0236CK+jDA8/XRyT5/HicCoaHoOB/nInwZQV\n",
       "2vgGXPIZeqM81cvGZc9+SjzgsJjU0TzeuZbyaB6yzp//9MNX5cOmXp6KxrpgXLle3vyc9nrGWVGh\n",
       "mTFM1fTbuiqKE0/9lCgpvHDzaPH1OSzfkXSkMNdbLT/9GLXGYTP9bioa64IR1OGnP6e97lhSmncO\n",
       "xn6vfJh0Ux0+lxduHLfJpbHI8PytH+PY/Q51V0pzu6MesJPRq584WeOw6WVPRWNdMNBfHjtAlThE\n",
       "MvXUcp5lWdNjaO1c2IxeCL3KYf46a4sVaXWFSzpPSyCNQ5a+SNFFfS7qN388YuHpJ2NrHDbT7yaj\n",
       "sSoYcDjaQFw+40xs2v/mbZ5DQm15G4TksLRz9NHXqGc90CR9ZMlGSsQSmj1SlqofTvX087LH59z7\n",
       "ersGAw5HK9zlkxay2KfDCkD+ZyTrPzZGjuOY63DXYMDheE9l6YwzkUTeHVJNYrX+Y8MmcMyef7hn\n",
       "MCbX0d/b4eIZZxs3zu6ff+qcs6vf/bVT8YZjtsM9g4F8OPGRXjbjzG5coDKw111K139s7BSO+esC\n",
       "dgwGHH5U2RqQaSnvOG6zbhQOD3PojQAc7u8Q6+jv6XDuOnrkQzjsXqdvl8iHeE478uEsh78gH8Ih\n",
       "+ilwCIdwCIdwCIdwCIdweK/+MhwiH97HIfaT8hEMONxYsL+el2DA4WaIqJc9BAPr6NE+vEv78Av6\n",
       "KXCI/jIcIh8Gdbh5Hf2NHcpjz0FgHT36yz3fM/bYYGQE/eWN5ZLjh5wdG4xEwiHq5Z6aih57Dv3P\n",
       "eIDDuzuM9LHnoOAQDmdXlLsV3ludYx09HNr4yFPIOPIhHPb2fA+tmFUEh3DYn6IOjNFA8oVDODwy\n",
       "IcqBh0hhHT0cvu7Nt2dJzDEOsY7+jA4HefgubAg81tHDYVH+9scRb/9/g0+zwzp6OCwL3b9qlsnw\n",
       "nWz0U+CwrjKTnVvSXI1sCgSHcNg40dmON1ZIQsecwyEcPorR2u6RFCVhmo4fGA7hsC0mplo5v0Up\n",
       "PT1QjnUBcPgRwUA+hEM4hEM4hEM4hMPDHGId/R0dYh09HK5ziP4yHKJe9lWwjh4OZzm8wjp6OEQ+\n",
       "hEM4hEM4hEM4RH8ZDuEQ+RAO4RAO4RAO4fDT3nPeXEM4hMOdHe7NHOvo4fB6DrGOHg7XlKs8d26/\n",
       "dfS9vgkctpOPOE+9fNp19Kxv1W1C4LAnGmgfHuzQZHD4KJz6aB9+g8PlDgeeJnlPh1r4cPg9HM51\n",
       "yJ91BzNw2FxZFsHhoQ5bO96IBA7r8usPcBjMYasyurlD9hvx4hD9lFUODYPDosjfaQSH4Rxu76lc\n",
       "wyH9XcBhSIcZh8Mo+qJYBIdzHP7kw2GmipKm5X+qiog8R81WlhAO15eeY+X/9/f/l34Oj3X0K/Ph\n",
       "5gbiefNhA/MNKPLh8Q43d5hP6rAj7x9/63xji0N7CYf7raMfcLh9APGUDrv5L/4n73xz/eGVy45x\n",
       "eNp19AMOt99QOaPDl2biv/7ebituOTx1+hiHV6uXVXRDhy8vZz+L0Z8vKHzIDRyOOvQw4eZ0Dl/7\n",
       "zN1t+cqOy/ozU34biHeZ5+Bhs5GzOXwbuqH8Ter6M+MulXA4z+FQKrhVf/kZ8sTrn8QchcOlDn1s\n",
       "4X52h1L4/ZOozy7z9RzaviUANIJD73+S9ZgRsX4ZDlcXYeAQDsM7vHD7EOvo7+kQ6+jh8M75EPvR\n",
       "7+3wU6eyLXSI/ejP7fBkBf0UOIRDOIRDOIRDOIRDOIRDOIRDOIRDOIRDOIRDOIRDOITDJQ45HMIh\n",
       "8iEcwiEc3tlh9EkOUxfD4Q0dcjiEQzh8KwoO4fADHGrPz5GCw3MU49KPcpg4Boc3dBg79VEOqefn\n",
       "mcHhOYoden5YqPV6Xp9WAYdnKcwlH+Vw8Hzg8NIlG6oHAzmMPT/fEQ7PUZKh/mkgh3yo37SgvB2Z\n",
       "wOHAvtRey5a466H7aIEcCg9rat+e+JUQOIx0cf+WxfF+9023xD115KMcRs4J7/EwGRyW28dkpLWN\n",
       "zP4OF8R98DHHoRyq7RO/3p+AqOCw3E4r0bGMjnM4P+5isDkWyiHdfmPvPR7M3N5hSYKkLhUHOpwd\n",
       "dz7YPQ3l0G4fyH6Ph0ju7rCsIoWMhLIHOpwddzt4Gy2UQ7594KbnycRa3NwhLboBKg8MIwc6nB13\n",
       "OjjtNJRDub3DXMZD2qys4GnZIDLs3g6r59THZs/u8pa4q8HdWEI5zE9J+IgHi0za+jPUvR3GR8xi\n",
       "Wh93OTxqHMwh29xRKeJBTJQVMaC61V28r0MtD3K4Lu5meFZBMId880yHIh553NMiB6R1Iti++/LZ\n",
       "9l8+rsyL+7rmYTiHUeo8OCw8y2Jcqm6We2ggnjgfskMWn62P+8glD+cwc8RHPMrqwTp/HeYTO1TR\n",
       "cQ5XxJ2MVIHhHPKtU7KreCTF35YkUXkHwccA4nkd8uxAhyvibkcWC4dzGKWpl88lLe4fsIj5qpjO\n",
       "65CSAx2uiLseueABHdqNt5ireEjKrBG02uZMRXd2eEy1vDruZKwCDOgw2thjfh/X9zLh5rQOY3uk\n",
       "w+Vxp2Nbiod0yLbtdf4ej0Tc2eEhg4fr4y5H005Ih3JbT+UtHlJHN3YojlrxszLudvQGWkiH+alJ\n",
       "n/Gw8Z0dMhPK4by4p6OVd1CHkdqSEN92YPYzBTnkrYpNveWjPjTr4j6Rc8I6NO5jtx1F8VrkxHSC\n",
       "sA6jLMElukWhExc6sMNIxbhGNyg8lZ/tkKQSV+n6RU3dsgjtMOJoId6gdTh552x3h2WhuBQog7ny\n",
       "gGmfMi4LR7RRBlNhVfZ8i38DNpzsJ4cIq/wAAAAASUVORK5CYII=\n",
       "\" style=\"display:inline;vertical-align:middle;\" /></a><br>"
      ],
      "text/plain": [
       "<IPython.core.display.HTML object>"
      ]
     },
     "metadata": {},
     "output_type": "display_data"
    }
   ],
   "source": [
    "_precision_guarantee = greater_eq(\n",
    "    ProbOfAll(m, _phase_est_circuit,\n",
    "              domain=_m_domain, condition=_success_cond).with_wrapping(), \n",
    "    subtract(one, _eps))"
   ]
  },
  {
   "cell_type": "markdown",
   "metadata": {},
   "source": [
    "### Minor theorems used through-out"
   ]
  },
  {
   "cell_type": "code",
   "execution_count": 29,
   "metadata": {},
   "outputs": [
    {
     "data": {
      "text/html": [
       "<strong id=\"_two_pow_t_is_nat_pos\"><a class=\"ProveItLink\" href=\"proofs/_two_pow_t_is_nat_pos/thm_proof.ipynb\">_two_pow_t_is_nat_pos</a> (conjecture with conjecture-based proof):<br></strong> <a class=\"ProveItLink\" href=\"../__pv_it/theorems/d225453a2a7ffa51abafc0081cf891887ab899f10/theorem_expr.ipynb\"><img src=\"data:image/png;base64,iVBORw0KGgoAAAANSUhEUgAAAEUAAAAUBAMAAAApce1IAAAAMFBMVEX///8AAAAAAAAAAAAAAAAA\n",
       "AAAAAAAAAAAAAAAAAAAAAAAAAAAAAAAAAAAAAAAAAAAv3aB7AAAAD3RSTlMAIpnNuzKJRKvvEN12\n",
       "ZlQ4bmvwAAAACXBIWXMAAA7EAAAOxAGVKw4bAAABH0lEQVQoz2NgAANDBoKA6wMuGSY4i88AlxoW\n",
       "GIMx2yyAkBoG5geoMqu/OC9gyPxZAFXDqGQSwMC/AE27H3sDxJFgNSIMbN8ZKtGt6BbIZWCYwKDi\n",
       "4unicoGhkYFhJsMJLjT39DkwCzBsgJkzfwFDv4AOG8QyHu/dm8GMxjuMBgg13QwM/QFBV8Ey7DYw\n",
       "dzVyBBxDqAGC/TAbhOFOb2RwYClAUsP6ByaDiJFGhiCuXRsQ4czdAJMxQFLD++DJBIQfVGAM1tm7\n",
       "d+/eAlXD0MWBUMMLN4bLAckchhVcG+DcZwyMAlDmBmQ1rAfgWlgTGHhg3jkDV+MKxEfhaqSVlLQx\n",
       "o9YO5CW4F/b///8Z7qCWKggj+CfQDC7siYo9BRoXKAAAO4pDRXkqRM0AAAAASUVORK5CYII=\n",
       "\" style=\"display:inline;vertical-align:middle;\" /></a><br>"
      ],
      "text/plain": [
       "<IPython.core.display.HTML object>"
      ]
     },
     "metadata": {},
     "output_type": "display_data"
    }
   ],
   "source": [
    "# t (represented by the Literal _t) denotes\n",
    "# the number of Qbits in the input register\n",
    "# Thus, 2^t is a positive natural number\n",
    "_two_pow_t_is_nat_pos = InSet(_two_pow_t, NaturalPos)"
   ]
  },
  {
   "cell_type": "code",
   "execution_count": 30,
   "metadata": {},
   "outputs": [
    {
     "data": {
      "text/html": [
       "<strong id=\"_two_pow_t_minus_one_is_nat_pos\"><a class=\"ProveItLink\" href=\"proofs/_two_pow_t_minus_one_is_nat_pos/thm_proof.ipynb\">_two_pow_t_minus_one_is_nat_pos</a> (conjecture with conjecture-based proof):<br></strong> <a class=\"ProveItLink\" href=\"../__pv_it/theorems/2ce5873ca249ee269a4dc170b72835640434f1e50/theorem_expr.ipynb\"><img src=\"data:image/png;base64,iVBORw0KGgoAAAANSUhEUgAAAFoAAAAUBAMAAAD/1DctAAAAMFBMVEX///8AAAAAAAAAAAAAAAAA\n",
       "AAAAAAAAAAAAAAAAAAAAAAAAAAAAAAAAAAAAAAAAAAAv3aB7AAAAD3RSTlMAIpnNuzKJRKvvEN12\n",
       "ZlQ4bmvwAAAACXBIWXMAAA7EAAAOxAGVKw4bAAABPUlEQVQoz2NgAANDBihYa8BAEHB9gDJYz2zA\n",
       "qUgBxuCDm8iHW7UDlGbMNgsgXjUD8wNcZnPtd7FiYJs/HaqaUckkgIF/AU6XsDyoYGBYDzNbhIHt\n",
       "O0MlA0OICxAIYKrm2Mh2gYGTgcnFZYqLL0MjA8NMhhNcON3N8QQYvNwws+cvYOgX0GFbgK6ax3v3\n",
       "ZrBq2QPCCNXdDAz9AUFXYaGT/O0AmMFuA9XPIdDKk8CNFCb7sQSXMMwyDgEWBnck1ax/sKiGJwUO\n",
       "AVaF1asRccndgEW1AUI1wz0+T4SEChbFrLN37969BaqaY0EnXIIXm9FcDkhmczWshks8Y2AUwFS+\n",
       "AUk1QwwL3M4EBp4FmKrPwGMeGG88ITCetJKSNhanwNMZmKEME97///9nbA5vqYJYbT8FSC4mlJ3Y\n",
       "UyAxjwIAWJRFqNLVibsAAAAASUVORK5CYII=\n",
       "\" style=\"display:inline;vertical-align:middle;\" /></a><br>"
      ],
      "text/plain": [
       "<IPython.core.display.HTML object>"
      ]
     },
     "metadata": {},
     "output_type": "display_data"
    }
   ],
   "source": [
    "# t (represented by the Literal _t) denotes\n",
    "# the number of Qbits in the input register\n",
    "_two_pow_t_minus_one_is_nat_pos = InSet(Exp(two, subtract(_t, one)), NaturalPos)"
   ]
  },
  {
   "cell_type": "code",
   "execution_count": 31,
   "metadata": {},
   "outputs": [
    {
     "data": {
      "text/html": [
       "<strong id=\"_psi_t_ket_is_normalized_vec\"><a class=\"ProveItLink\" href=\"proofs/_psi_t_ket_is_normalized_vec/thm_proof.ipynb\">_psi_t_ket_is_normalized_vec</a> (conjecture with conjecture-based proof):<br></strong> <a class=\"ProveItLink\" href=\"../__pv_it/theorems/6da986179fe7649ea6ec2f7e6fd17a8f5a1c0bbe0/theorem_expr.ipynb\"><img src=\"data:image/png;base64,iVBORw0KGgoAAAANSUhEUgAAAUwAAAAmBAMAAABdWL/kAAAAMFBMVEX///8AAAAAAAAAAAAAAAAA\n",
       "AAAAAAAAAAAAAAAAAAAAAAAAAAAAAAAAAAAAAAAAAAAv3aB7AAAAD3RSTlMAq1RmmUTNIjK7EInv\n",
       "3XZ/CtNrAAAACXBIWXMAAA7EAAAOxAGVKw4bAAAF10lEQVRYw7WYe4gbRRjAvySb7Gb3bo2IYqt/\n",
       "RNRSUDSC1gelRq+W+qgEfPxzpYarUGpBohRtafXScn8oai9Wj/Yqlm3VYtHrrcWKVQrxRaWixnKc\n",
       "oARSTq1XtD2u1p4ntM58M5N9ZLPZLevA7iSTL7O/+eZ7zQIEaHfjXcpCmLbHgEia+kRAQSmD3V3h\n",
       "pld+igYTXgm43gV4TxRDTL2WXDdFhJnIBFPLEexeDrOJi8iVzkbEuTWQVMrEbk2IifUxgqgeiQjz\n",
       "/UAKuhGl4rNBTf7Tiw2oXYAxd/KNDu1nvHebQScFqaaiHfeXosGUzwYxTabGwaCmeVFBnonnc9Q4\n",
       "zYjU+UYAmVgFuzl0WQ78do5pyDNyD1VkotryY4nMIdPO1srsB0/Vs8GFQbSTw+40ubSCbTxdbrHK\n",
       "g+NPriMa1Gp8s6ZbXCsLvTAAcMA+uJ1cSVPJez18Bd77s4DmebUP5iCuSDlrYTbwHm+Z99gX8PY/\n",
       "eVs8HnNLXAd2TJ0NXtMGk+YHHXXUnYd7aL/KB/NOtpVTFiY3uZrbd34lP9yeB3mHGFnCe41HUOpZ\n",
       "NkyNjXZ7Y+5aQp0CM6VUhE10dyo+mJcxCy02MVWmTdjvEhxIEy3G8iQDPctHTvF+hCcwKefA3Gct\n",
       "wkubOsW8GT9NQcqwVuvZPsN7V6aJGedGuZ4LTNbriDE3TdeQk7e/cJ+IuFxy4lLWd4EDcz434YoP\n",
       "Zhc1oPgMJMgKU34u9C9zJLOJqYnsxNzw0RP8e2UtYzl/fkqYNV9+7UXWz3Niini1ygczRY1TIb74\n",
       "bb3+jR/macvfCea+HoL5J/MhfIws6iw585L7r6M5LshXdL+Fqf6SA1OvCcdqi6nRXVQJw1KAHS1s\n",
       "VmDmUaU/yzDN6+EtOGVYPpQS8U4xH2qJZQ2udh4VVlqYWryq5vRZ4UMCc1mdth8sTFaXnQN4iuih\n",
       "BdNamjJt7Z9WULLL4FZqYzQ2YJBoGoycX9GCyVZLvJTVnkctzM1SLVGCKq5SKrTXZrzKDS9tUJPj\n",
       "SpHHDsDCjB0zeQa7xwqIqcJ3RNMSqFPs8aS+o8vHSFHZ0ILJprkc4CR++MrCNLoaGn3MKNVEpj2m\n",
       "gnb+F+FtUIVQ8S1zhuAqzZCM9tqkhZJJIkm8yGwKYG9TckfaG5NGyxE3Jqm7NBra5jEjb4uZrHJM\n",
       "KC5iTigtpfmokdfgw8VjiwvemFJRzsIJ+dCaMk8K3c1pH6ZxEwottknDHTtH2TadhP6nQTc2jH+M\n",
       "O9nWNuM1bpuwn/gqFZ/AWHbt85rDNmXm6f3c06VKwkgWIJUVSUFvWFkogwnDXQ7Qhcg4vNOGeS/c\n",
       "AY8A9LEA3FabiYqINhupB/WBigPztd29Dkz1HIstDYaZPKzBLQTASgp9TdHJx0u7HWkcwwMeOLC+\n",
       "gA9smMtLZoJofpalMy9MjZYRkimiTYzmillI5lhmyE86MOFLFrTzPLxvOniSeNtya7t3DRnNCun7\n",
       "MUc5NogWMJfetuAZ0YapXLHzODe9midm7Mq/LyEPoVMoZ4Q/VyGxenh4K8F8L+WIm7Caxb6KyEKb\n",
       "sRhSy1jZ0Nb7Zr3odzyxWnfZloUUqmo98y6WWu0KOXjOccAh4orJtJm8wSn4ADO8qsDE3PigZsC2\n",
       "jqXqIXfFnLdh6nQNUuMTSJd8MHtw+0UxRsUxFxG7O+Yq5FAliVmBiasZuA3Uzuf2V90D22yYWBoo\n",
       "PWXY41MWMzdNi/xDxdeTLVHGSxBzJWb0A3VaYArPZhUrdC4HbG2vXZticMIHM12yHSCEBwwPeUmy\n",
       "/79OZ7afK2IdKZMtJ0K5QXyJJKvf7YNUVUpD9jzfHWcpMMARlR+8ghyb3BGlCNG0j4K8HmDRYLQQ\n",
       "evauqN7OfB58LRegmj8iotSrgZTCLPLr/0cJke0Kf2O4ILQSojLN34KJrWR5KBdy9o1RvUI6HExu\n",
       "BJ+n/hjyZfTRiJQ5EtAT+ansmXAv09O5iDBfCyq4jtGWQ83+TkSUKo2E/wEUcpKMpHHEjQAAAABJ\n",
       "RU5ErkJggg==\n",
       "\" style=\"display:inline;vertical-align:middle;\" /></a><br>"
      ],
      "text/plain": [
       "<IPython.core.display.HTML object>"
      ]
     },
     "metadata": {},
     "output_type": "display_data"
    }
   ],
   "source": [
    "_psi_t_ket_is_normalized_vec = Forall(\n",
    "    t, And(InSet(_psi_t_ket, QubitRegisterSpace(t)),\n",
    "           Equals(Norm(_psi_t_ket), one)),\n",
    "    domain=NaturalPos)"
   ]
  },
  {
   "cell_type": "code",
   "execution_count": 32,
   "metadata": {},
   "outputs": [
    {
     "data": {
      "text/html": [
       "<strong id=\"_Psi_ket_is_normalized_vec\"><a class=\"ProveItLink\" href=\"proofs/_Psi_ket_is_normalized_vec/thm_proof.ipynb\">_Psi_ket_is_normalized_vec</a> (conjecture with conjecture-based proof):<br></strong> <a class=\"ProveItLink\" href=\"../__pv_it/theorems/45589a12a203a1c1fc25338e69651f49399dc8240/theorem_expr.ipynb\"><img src=\"data:image/png;base64,iVBORw0KGgoAAAANSUhEUgAAAOoAAAAmBAMAAAA4kBqyAAAAMFBMVEX///8AAAAAAAAAAAAAAAAA\n",
       "AAAAAAAAAAAAAAAAAAAAAAAAAAAAAAAAAAAAAAAAAAAv3aB7AAAAD3RSTlMAmVSrZs0y7xCJ3bsi\n",
       "RHYwvcNTAAAACXBIWXMAAA7EAAAOxAGVKw4bAAAECElEQVRYw62YTWgTQRSA36ZJs9ndpgsq6EGI\n",
       "9CD10tiiCKKuSPFQ0FQFFYpWBEUFE1RU8GBUeqlIQhVBRboVKmVRiAi2iEJ6UCmKjaCIFw22qFC0\n",
       "tYRWUKzzl/3N3+IO2Sz75u18M++9eW8SAAAuArW3niR40xa5Ua4f8gbqj9WsOoquLd5QD9dus23o\n",
       "EiOeUPfWrBkeQET+rBdQ36+a1PgbbUlQXYdBuSaka1LjgFN5EgHjWQ+o8drc2piT5nyygh2b9oC6\n",
       "Hl2S8dhdLtKT0py0GC/Tn7D3SfiDvgwj1FOxVGokIiygK5TTZY+cHr01uO85Wl9IZW/N2jU+A3yA\n",
       "AwC3dYmIJ09kztaQR7P6w6i+9WceohBd4dCaOAUXfssAR4uuGLDHY9pEbRo+14pEchkqHmQS2WtG\n",
       "X+sZElyOMPqOBu2QQRopSpawe4jt3B4wrzVIHKCWpPKr9yNqIAl1MUpt7gYNpGv6UHo7ICLFOhnl\n",
       "pVdMMs3uvSypLTaovusgqDCmQF+ZtU6jwfwyBKOUGkggqjAEUob1T2kaGXWdiCepSI8OLWU9LSzi\n",
       "JjfQe8K01t2YqiXhZQUqnIXGNKWG5hA1hdzRRbvffWN6mVFyCy4szBT3GjOHeoy6NWai9ncLKv8T\n",
       "WTFbgboLGhVK9c8iahyFVzMN1D3FOI8esb+ZUlgQBchW4dIm6vaIoNb/NUVYKepVGI9Qqq+AqJ+U\n",
       "YjgFinuvPv3WkTDyTIVEKgQUE7VFEdSGAg0nRuU00qIGtZ2aC1GRWTSYRh7jSDwH9D0tf3RQaXI6\n",
       "CEBqrRAxUVOyoIbnkGB5hbWuhE85tnOGEXUQL45M6jCeHgmszJiDSpYIawF+EI/nTFQxIahCjM6p\n",
       "LDWurxV6ZC00xPY8wGVdb0QsTcWloNdB5TsF9SYeubkC9b1BhYn5jYZHjWTxBu9XyDn8ijc2OXFZ\n",
       "LAzhTSdJd1cFv66CcUXPTRqRv6QFPG/kJqTPmU85JOzJvCQsFvOW3CSQdI23fdm1dkAqr1PnibyP\n",
       "du/QFac6sxctqZeEPTnNkFoRilqojYmiJUpR+7Ell0FQLmb/NQs4+wOrLJeeJvWac37AUsjjZI7r\n",
       "8NdxHH6qmdq0/3crs0QJatv5nchQ9yGQsVY6ugfxO4+1MofHFts54C44Kh0pXWUqHUgqcAkrVax+\n",
       "Prlpe95cgvqkApVTwP/LSu2pfvp4aHsWsw4qH6tARfHKz1qpk9WpBXvVzDioYaUCFdvhAVYyTkvR\n",
       "qtCGP3bJaxxWKIV90SV1NNTGSp6qsQ+3uj3ehWLw/y2Vc/lC0IufHK6n/tWT3zmnXeqf8ITa7k49\n",
       "HPOEGlBcqb/IekLl77nSvuPRPwTP3PzVICoeUaVuF8pXvCD+A8JQOMQn9evmAAAAAElFTkSuQmCC\n",
       "\" style=\"display:inline;vertical-align:middle;\" /></a><br>"
      ],
      "text/plain": [
       "<IPython.core.display.HTML object>"
      ]
     },
     "metadata": {},
     "output_type": "display_data"
    }
   ],
   "source": [
    "_Psi_ket_is_normalized_vec = And(InSet(_Psi_ket, QubitRegisterSpace(_t)),\n",
    "                                  Equals(Norm(_Psi_ket), one))"
   ]
  },
  {
   "cell_type": "code",
   "execution_count": 33,
   "metadata": {},
   "outputs": [
    {
     "data": {
      "text/html": [
       "<strong id=\"_best_floor_is_int\"><a class=\"ProveItLink\" href=\"proofs/_best_floor_is_int/thm_proof.ipynb\">_best_floor_is_int</a> (conjecture with conjecture-based proof):<br></strong> <a class=\"ProveItLink\" href=\"../__pv_it/theorems/0bd19e511da6f60d1d8f8c18a24b89ea4a8fcb3a0/theorem_expr.ipynb\"><img src=\"data:image/png;base64,iVBORw0KGgoAAAANSUhEUgAAADcAAAAVBAMAAAAQkWtIAAAAMFBMVEX///8AAAAAAAAAAAAAAAAA\n",
       "AAAAAAAAAAAAAAAAAAAAAAAAAAAAAAAAAAAAAAAAAAAv3aB7AAAAD3RSTlMAELvv3c2ZVESJq3Yi\n",
       "MmZ3LnoBAAAACXBIWXMAAA7EAAAOxAGVKw4bAAABFElEQVQoz2NgwAZK7U1VnOwYGBiVHTAlN61l\n",
       "YGUIADJYEzAl0xgY9nEWABn8BZiSaxgYFYRAjH4BhCC3iosriBZgYLuwFsSYgpDjiIYrvMULti1q\n",
       "93KYyFGEIYpMIDbjVwH5A1CRGLgc+4TXYOojA/MGBo4sEDsALgnxCANbAAP/BAZmUaBuXhMXFxcn\n",
       "sOR2zgYGRgYGlgkM/QUMrSARRgWYRkaFQwwMXAdA3swX4HaaCBKDhxXXhTUMDPLAMLjACAzECLDY\n",
       "bpjkNQ6gR5YAFT1gAjJsIM6ABZYiqwDDoSKg8SvzgMQHiFWLGiGBYRSspPxZExY0UE9wTIIEHwrg\n",
       "XsCAG7A9wCPJcgC3nIgoPlPnYBcHAMmjMrvV7qNpAAAAAElFTkSuQmCC\n",
       "\" style=\"display:inline;vertical-align:middle;\" /></a><br>"
      ],
      "text/plain": [
       "<IPython.core.display.HTML object>"
      ]
     },
     "metadata": {},
     "output_type": "display_data"
    }
   ],
   "source": [
    "_best_floor_is_int = InSet(_b_floor, Integer)"
   ]
  },
  {
   "cell_type": "code",
   "execution_count": 34,
   "metadata": {},
   "outputs": [
    {
     "data": {
      "text/html": [
       "<strong id=\"_best_floor_is_in_m_domain\"><a class=\"ProveItLink\" href=\"proofs/_best_floor_is_in_m_domain/thm_proof.ipynb\">_best_floor_is_in_m_domain</a> (conjecture with conjecture-based proof):<br></strong> <a class=\"ProveItLink\" href=\"../__pv_it/theorems/2038736f63fcc563688f1a1529f91166cbd483e20/theorem_expr.ipynb\"><img src=\"data:image/png;base64,iVBORw0KGgoAAAANSUhEUgAAAJwAAAAZBAMAAAA261oVAAAAMFBMVEX///8AAAAAAAAAAAAAAAAA\n",
       "AAAAAAAAAAAAAAAAAAAAAAAAAAAAAAAAAAAAAAAAAAAv3aB7AAAAD3RSTlMAELvv3c2ZVESJq3Yi\n",
       "MmZ3LnoBAAAACXBIWXMAAA7EAAAOxAGVKw4bAAACAUlEQVQ4y2NgIAewHmCgJpCnqmkMpaRqYOzA\n",
       "I3nSdS4W0eN4QmBrIz7LwrEJ8i4SADpD2QGLFPtHIDFzGxb7jqXqMjB8xDDKEUgwLQDFUgIW4ziB\n",
       "drAWMPpgSPAoMMxv4DBAE5VK/QjVxMBfgMO4JwwMkzAkuA4wMBtwL5BFE+aGG9cvgBDd5OISADdO\n",
       "i4GhXgDdOOaPDFx/2DZMxGncFIRg60Zk131jYLiP4XIuBwauv7x5F3AaF7V7OSxcApE9ywgy7gGW\n",
       "gGD5gCkGN47xq4D8AYyswxbAwPMTaNwGLMZhEwQbx20AThLMGxg4skDGIaQPP4AYNwGLcV4MOIzj\n",
       "+Q52B/8EBmZRoMsuuwCBAkj2VATQ2UDj+rE4hE0BlnFCQOpdLsCNY5AKZ2CZwNBfwNAK4gkhUmWS\n",
       "ADgq6rEkolcMuFzHMLUBlOzyBbidQDHPgpAGJXAlBob3Apj5ZQLDGRzGgbIS/wVGOwaGCLDYBpRk\n",
       "/JiBIRVT400Gho24YhYYFVwPmIC5zAYtZ4OMYylgtAWH0VcYAQput7Q0LJmc8w8soazMAxKQpCSl\n",
       "IYBkHGPmLkhqdYMTQDv+//8fgJn1Fn9dB03GIMABVdGpgpTJSAZwTdwLcMmQZRwbembiNiDDODZY\n",
       "KLCgl5OgBE4yEIY6SkQUs9BdTrJpJ2Fa2OZQq4oDAJTDfgwC7mQPAAAAAElFTkSuQmCC\n",
       "\" style=\"display:inline;vertical-align:middle;\" /></a><br>"
      ],
      "text/plain": [
       "<IPython.core.display.HTML object>"
      ]
     },
     "metadata": {},
     "output_type": "display_data"
    }
   ],
   "source": [
    "_best_floor_is_in_m_domain = InSet(_b_floor, _m_domain)"
   ]
  },
  {
   "cell_type": "code",
   "execution_count": 35,
   "metadata": {},
   "outputs": [
    {
     "data": {
      "text/html": [
       "<strong id=\"_best_round_is_int\"><a class=\"ProveItLink\" href=\"proofs/_best_round_is_int/thm_proof.ipynb\">_best_round_is_int</a> (conjecture with conjecture-based proof):<br></strong> <a class=\"ProveItLink\" href=\"../__pv_it/theorems/da6d29f420c18f1153bb6e0cdf0b1ce4715a17960/theorem_expr.ipynb\"><img src=\"data:image/png;base64,iVBORw0KGgoAAAANSUhEUgAAADkAAAASBAMAAAATXWtDAAAAMFBMVEX///8AAAAAAAAAAAAAAAAA\n",
       "AAAAAAAAAAAAAAAAAAAAAAAAAAAAAAAAAAAAAAAAAAAv3aB7AAAAD3RSTlMAELvv3c2ZVESJq3Yi\n",
       "MmZ3LnoBAAAACXBIWXMAAA7EAAAOxAGVKw4bAAABBElEQVQoz2NgwApK7U1VnOwYGBiVHbDIblrL\n",
       "wMoQAGSwJmCRTWNg2MdZAGTwF2CRXcPAqCAEYvQLIJvo4gIyj0GAge3CWhBjCpJk60Y48xYv2Mao\n",
       "3cthIjyBCIWKTCAzGb8KyB+AirAegEuyT3gNpj4yMG+AySK0QvzDwBbAwD8BKnTZBQgUwMztnA0M\n",
       "jAwMLBMY+mF+EoJrZVQ4xMDAdQDk3XwBybWzFwDFWOCyXBfWMDDIAwPjAqMdw55FYGu4YQ5guMYB\n",
       "9M8SoKoHTAkMDb4QwXC4f1gFGA4VAW1YmQckPkAEpTQgAcdhFKyk/FkT5jsFKKNTBRKSKIBtAgMe\n",
       "wHUBuzgAroAy50zI1n0AAAAASUVORK5CYII=\n",
       "\" style=\"display:inline;vertical-align:middle;\" /></a><br>"
      ],
      "text/plain": [
       "<IPython.core.display.HTML object>"
      ]
     },
     "metadata": {},
     "output_type": "display_data"
    }
   ],
   "source": [
    "_best_round_is_int = InSet(_b_round, Integer)"
   ]
  },
  {
   "cell_type": "code",
   "execution_count": 36,
   "metadata": {},
   "outputs": [
    {
     "data": {
      "text/html": [
       "<strong id=\"_e_value_ge_two\"><a class=\"ProveItLink\" href=\"proofs/_e_value_ge_two/thm_proof.ipynb\">_e_value_ge_two</a> (conjecture with conjecture-based proof):<br></strong> <a class=\"ProveItLink\" href=\"../__pv_it/theorems/1fd0a868af1d044898374bdb1a59bd4de9072ebc0/theorem_expr.ipynb\"><img src=\"data:image/png;base64,iVBORw0KGgoAAAANSUhEUgAAAIIAAAAaBAMAAACJGJngAAAAMFBMVEX///8AAAAAAAAAAAAAAAAA\n",
       "AAAAAAAAAAAAAAAAAAAAAAAAAAAAAAAAAAAAAAAAAAAv3aB7AAAAD3RSTlMAZkRUmRDNuyLviTJ2\n",
       "3asqG0tJAAAACXBIWXMAAA7EAAAOxAGVKw4bAAABvUlEQVQ4y2NggAG2BgZygRCEiiekzgGXBDNU\n",
       "xoyQCe24JMIgVNe11VABEekzWK1jPIDDhEIonQylWYUmMszAqvIqdgM4JjAwtLhVMzB8hQnEJMDZ\n",
       "cMAN0n0OQzNYI8sCBo4ChvUKTBMYuMuBoIKB7wCQjQri3EBmxgeA3ZiIsB2kkYFfgYGvgYFzAs+D\n",
       "aKg45wYWhw1oRvCATGATALOj7sBEwRoZ9gcwcH5l4PvBcmApVLyfgXczVhNYCqCcWwFQu0AaGc4C\n",
       "jbrAwPeb2xGmS4+BZyEDNhN4YJ5jhBoB1sjwDMzm/YA/LYBNYIIHMHMKLAEDNZaDGfsPEGEC9284\n",
       "nykP6hGgxjww4x4DESZwfEKYkA41AajxCgNSGKEA1ty7ILABbgIr3ATmPKgvQBrBbpBjIMoNMF8w\n",
       "XoG6AKwRZALzAoYOYsLhB1psQjQ+BzJ2MTAcJT4uECkKovEk0HVXXFwu4DeBC2Q94wT0VA3WqB/A\n",
       "wPv///8EvAbwvfz2EBhsD9CEIRo5FYguzKD5Ah0A8yaxID4AqzD3BKJNgMQ5611EMoGAx0SbcAN/\n",
       "OUkY4CwnmYkNiHZC9QVB4IpdGABZ9IHUcvunZAAAAABJRU5ErkJggg==\n",
       "\" style=\"display:inline;vertical-align:middle;\" /></a><br>"
      ],
      "text/plain": [
       "<IPython.core.display.HTML object>"
      ]
     },
     "metadata": {},
     "output_type": "display_data"
    }
   ],
   "source": [
    "# t (represented by the Literal _t) denotes the number of Qbits in the first register\n",
    "# n (represented by the Literal _n) denotes the desired number of bits of precision\n",
    "# In Nielsen & Chuang, e = 2^{t-n} - 1 is the max desired error\n",
    "_e_value_ge_two = greater_eq(subtract(Exp(two, subtract(_t, _n)), one), two)"
   ]
  },
  {
   "cell_type": "code",
   "execution_count": 37,
   "metadata": {},
   "outputs": [
    {
     "data": {
      "text/html": [
       "<strong id=\"_e_value_in_e_domain\"><a class=\"ProveItLink\" href=\"proofs/_e_value_in_e_domain/thm_proof.ipynb\">_e_value_in_e_domain</a> (conjecture with conjecture-based proof):<br></strong> <a class=\"ProveItLink\" href=\"../__pv_it/theorems/c0aefc43fdc0354c9d823be56f34e93f9629a9eb0/theorem_expr.ipynb\"><img src=\"data:image/png;base64,iVBORw0KGgoAAAANSUhEUgAAAP8AAAAaBAMAAACKr5fIAAAAMFBMVEX///8AAAAAAAAAAAAAAAAA\n",
       "AAAAAAAAAAAAAAAAAAAAAAAAAAAAAAAAAAAAAAAAAAAv3aB7AAAAD3RSTlMAZkRUmRDNuyLviTJ2\n",
       "3asqG0tJAAAACXBIWXMAAA7EAAAOxAGVKw4bAAACxUlEQVRIx2NggIMMBmoDuImBCfiUCUEo1g8E\n",
       "jHMg1X64idxnLuBRxgw1mDmBgHntpDoAYSIzPgeEQSiOtVkbICxGxz1HsClkPIApFqSA22CEiTgc\n",
       "wGEBpgqhXDYDWIRpCnA2YNNwFUOEJykAj9fgJuIKgX2lIGdMAGKX9A0M/DCzWo8h2DDADbL8HIYJ\n",
       "9iB1e7E4AtVELA5ocasGknVAzLIAFLtcnxg0GRi2lwNBA8MbEBsFxLl9BZLxGDatBaa0J/kB2NIL\n",
       "iokYDuAoYFivANbPwA+kXzAwzGQ4xwqLsdkMLtzoYQ1yAJsAFgcwMJzH4gA0EzEcwNfAwDkBon8/\n",
       "UPv8AIb3DT5cUIM4PjDctsbmAJYCKO/43bsJ+B2AaiKmAzi/MvD9gOg/C8RvGRjeb9giDZVkesBw\n",
       "SgCbA3gmQDhqRwmGAKqJHMt+oeUgvgsMfL8h+p9BRO7jz9JgBzB9hRiXSjgKCJvIwPsBor8cksr/\n",
       "EOEA7t+Q3IXIo264HUDIRIb9wEA5CaTzIM55QIQDOD5BHIBIyxNxO4CQiQz3gLgfWFJcAfPcsRXl\n",
       "uXdBYAPcAawQB+wEiYLSI8czBdwOwGZiGNjA22A2OEWzPjOAhAAjIedCQgASBeFw0S2lOB1A0EQ5\n",
       "EMGVBI0CKwaOBiLSwA9I4CKE63A6gJCJzAsYOiAl6XOQyQsYeAKIzgU8BwjnAoIm7mJgAGbmlQyQ\n",
       "hNjr4uKLP8C4QJ5nhJYDyagOWA/xKus3UGkNrYEJmchxxcXlAkS/PtCh9////4bXfr6X3x4C0w00\n",
       "XuOKApAc8G5+HqTYAiVnXmjjgpCJvP///0+A6OdUILqBAa8LtGqRi2IKwFpobUgkwFobUuwA7glE\n",
       "K5fDEDlJoQPAJeljopXfwBDpN6DIftaJSG1CwgBLm5DDjxIXcKwzgBYJxIF2BhoBISLVudLEdgBO\n",
       "oN1ipDvhRwAAAABJRU5ErkJggg==\n",
       "\" style=\"display:inline;vertical-align:middle;\" /></a><br>"
      ],
      "text/plain": [
       "<IPython.core.display.HTML object>"
      ]
     },
     "metadata": {},
     "output_type": "display_data"
    }
   ],
   "source": [
    "_e_value_in_e_domain = InSet(subtract(Exp(two, subtract(_t, _n)), one), _e_domain)"
   ]
  },
  {
   "cell_type": "code",
   "execution_count": 38,
   "metadata": {},
   "outputs": [
    {
     "data": {
      "text/html": [
       "<strong id=\"_mod_add_closure\"><a class=\"ProveItLink\" href=\"proofs/_mod_add_closure/thm_proof.ipynb\">_mod_add_closure</a> (conjecture with conjecture-based proof):<br></strong> <a class=\"ProveItLink\" href=\"../__pv_it/theorems/b1e4882942c1b04ee2dec01062cf0d29fc5321870/theorem_expr.ipynb\"><img src=\"data:image/png;base64,iVBORw0KGgoAAAANSUhEUgAAARwAAAAaBAMAAACX9P56AAAAMFBMVEX///8AAAAAAAAAAAAAAAAA\n",
       "AAAAAAAAAAAAAAAAAAAAAAAAAAAAAAAAAAAAAAAAAAAv3aB7AAAAD3RSTlMAq1RmmUTNIjK7EInv\n",
       "3XZ/CtNrAAAACXBIWXMAAA7EAAAOxAGVKw4bAAAERUlEQVRIx72XXYgTVxTH/9lMdiaTZFxXEJYV\n",
       "GSiWQqumDxXsh6a4LlVBBsQXEdx+UeqDZK20iD7YvtrqSktrFGV8kWrEpHZpNYE2UAq2xRLLVlsl\n",
       "kLSlLf1CxLrLFro9587HTjIfZO3ihRlmzr1z7u+ce865d4D73Xrz/1fDY/OJUwrtyXWnoCc3nzgP\n",
       "hvbs7U7Bab6FuVj2i9StEcr2XbsYIN3N6uPNrnDepkvTQzoTfh0/b4vS9lyQUBkw6X4D6OO3B6K+\n",
       "l2t0ezio58wVuv3oW9tpulV/CnDnnuGjwLQPhSiQZI4WsJ4lL0XhSGXy/0hg1wucKWaHMFUnoa5e\n",
       "99s1hk+NRK1Demp42v4IJROvW+Mi2gKDkLIegfb0wor1dJtXPBeA8xRwyacolke6pvW93yHWXJze\n",
       "rDAupUfhHKYRaa9zK4pRNETcCMd/aWs90bjm4hwBVnZ6DelpxCalZiUURxpDnOzujYzkPzuy8xAU\n",
       "A8uciYHnrZDeZXq8c4es8NkYqyM2paw7EIqj0UJeaTS+isRZTNcmXtLBX0QWlRknxZP3Lm3RnB+I\n",
       "Ua+ansVSGScboCtzyy+bxWFvPwMci8Qp2B7Ynk/yh1qecdQyh95OdRJYhfZskEYg/0M4QVUkSChw\n",
       "2DFQpoBRyH1uWLzs+PWL8eNOiD5L1zeUXJ9BYhNiYBxR0Sk8vgYeEaNmU29/1sIpB+BcRQiOzFkh\n",
       "/00Zb6YMt2uQmVoFI5NPnXe8P0HX52T0LWR4hmS1Oj5YrXIyDgM8rzCE1rzxPT+NvkjoJN4R4AjJ\n",
       "TeHTDW7fuTg4ReVRJZyepieSL9M1RLEWxxuvwOMdwkmPocTc0qx3biJBRm0XG4M7kbLBFKG8MiBd\n",
       "H0WYd/AR6ZSn2M1r6FZc8zGr+rdlalYI5nJoX6xSE2vRjnMbEqlaLkbVXfVcYCne1pr+vbiM10Jw\n",
       "RClXKBJxYScZd108aje03BkxJr7bzccBuk4Sjo7FPVT5FZ1xEmz7FM4R+2ox6q+2MvikWMnOdhD4\n",
       "LSyzak4d20/WSDmF35PZ+MgWMeZ8yh3+B0QyJ5s9ExK/VxinyE+L8I5dBHhb8OJkdPWydbqhEFfv\n",
       "2pvExNBQ3Y+TmnQSPc4MMfJD2tA4vdIHpL5VhUJBR7mCs/bwHeT1t0jp0oujv4rVyiuGvFGE3zgv\n",
       "7LfWqWJgmwdH3dSyvJvJ2cnAzzMzM/69L7bk7iKnKjspXsonH6dZFyCtHxQ19qEsnGKepkjJeEvp\n",
       "E1uXfeLZGG2DE5c8m8Scm7Nn2VPmD28xi8iYqynxuVdCou7Z0dv2SXXFD54wlbJBmu8Jp+SoTaxb\n",
       "8SHe1JXNTchHOSMX/v6u4zkRVe91f6TUaveAI43464AVjcVCwWgT9/NJK1SRD1QU2Lk2TlG0H5ES\n",
       "ZvhZWQ47x2r+U9+e/jnT7Ov3n5XjYX8S5fvzB9bln8T8/meFNyoe/wEhSR6HbbuDGwAAAABJRU5E\n",
       "rkJggg==\n",
       "\" style=\"display:inline;vertical-align:middle;\" /></a><br>"
      ],
      "text/plain": [
       "<IPython.core.display.HTML object>"
      ]
     },
     "metadata": {},
     "output_type": "display_data"
    }
   ],
   "source": [
    "# The o-plus addition denotes addition modulo 2^t, resulting in an integer\n",
    "_mod_add_closure = Forall((a, b), InSet(ModAdd(a, b), \n",
    "                                        Interval(zero, subtract(Exp(two, _t), one))), \n",
    "                         domain=Integer)"
   ]
  },
  {
   "cell_type": "code",
   "execution_count": 39,
   "metadata": {},
   "outputs": [
    {
     "data": {
      "text/html": [
       "<strong id=\"_phase_is_real\"><a class=\"ProveItLink\" href=\"proofs/_phase_is_real/thm_proof.ipynb\">_phase_is_real</a> (conjecture with conjecture-based proof):<br></strong> <a class=\"ProveItLink\" href=\"../__pv_it/theorems/eb10bb1c4e919d952f82009c6c8c95a953f0b22b0/theorem_expr.ipynb\"><img src=\"data:image/png;base64,iVBORw0KGgoAAAANSUhEUgAAADUAAAAUBAMAAADfOGjQAAAAMFBMVEX///8AAAAAAAAAAAAAAAAA\n",
       "AAAAAAAAAAAAAAAAAAAAAAAAAAAAAAAAAAAAAAAAAAAv3aB7AAAAD3RSTlMAMkTNuxCZZquJVHbd\n",
       "7yKDlRhzAAAACXBIWXMAAA7EAAAOxAGVKw4bAAAA6UlEQVQoz2NgwATFV/xtrhQwYAcOLxg0SgJw\n",
       "yL1kYGFswCnH9sAARYjb58xhhJwDshSTdQBCH0co0ExGAQYme1eQyOMAJDNFFj9gYGBjYBAu6gSJ\n",
       "2CHse2vzZyuQXsjA0MDAAhIxQHJLeTCInsDAHgDSzMB458yZM0egcizhIL9vYOBmYIgGMlgdkPQx\n",
       "JoCckMCgyMCQChI5gOy/xCdAOh0oGyEAEtmNLBfCDTSU2dqw7BBYhHkBXO4ZA3uBE5BR8/8kRIS1\n",
       "RRUeD34MLvZApWzw2GCaAg0zOOAVYMAJ5HFLMezBI/cQpwwA07o8urboFVYAAAAASUVORK5CYII=\n",
       "\" style=\"display:inline;vertical-align:middle;\" /></a><br>"
      ],
      "text/plain": [
       "<IPython.core.display.HTML object>"
      ]
     },
     "metadata": {},
     "output_type": "display_data"
    }
   ],
   "source": [
    "# The phase phi is in the real interval [0, 1)\n",
    "_phase_is_real = InSet(_phase, Real)"
   ]
  },
  {
   "cell_type": "code",
   "execution_count": 40,
   "metadata": {},
   "outputs": [
    {
     "data": {
      "text/html": [
       "<strong id=\"_delta_b_is_real\"><a class=\"ProveItLink\" href=\"proofs/_delta_b_is_real/thm_proof.ipynb\">_delta_b_is_real</a> (conjecture with conjecture-based proof):<br></strong> <a class=\"ProveItLink\" href=\"../__pv_it/theorems/2fca217ab274374863326de79c58ca63972c3c250/theorem_expr.ipynb\"><img src=\"data:image/png;base64,iVBORw0KGgoAAAANSUhEUgAAAHsAAAAVBAMAAACUF4xmAAAAMFBMVEX///8AAAAAAAAAAAAAAAAA\n",
       "AAAAAAAAAAAAAAAAAAAAAAAAAAAAAAAAAAAAAAAAAAAv3aB7AAAAD3RSTlMAq1RmmUTNIjK7EInv\n",
       "3XZ/CtNrAAAACXBIWXMAAA7EAAAOxAGVKw4bAAACL0lEQVQ4y4VUTWjUUBD+0uxmk81uXI/iJaUg\n",
       "3lyxFHqRBX/oSbYIXgoSvIiFYqpexKrb3ko95FI1ijSlUGiFsoinHorHLkXoUYTA1ouoIKKXRVCc\n",
       "efmVPuPAC2/mm2/e/LwXoEAqKBS3GMYHinCxd8hrrLcy02sCV2nfYMOIlD3UBUxMBocAbxaT4wEs\n",
       "CnGB9etS+jotJZAA3j0YOp07DcxzjZ6Ufo6W1ZDTS64DjAIahTdtKf0Nrer3nOFTGDopnY6sBVCp\n",
       "AE1eunBdybK/8jk7XdmktDTivg3DPSm9RJ3D8Km0sMp0LvnFEzQQk0JMAM+kdI6tOsrPVE8n6M3N\n",
       "/OJMVMpvFpUG9BsxovReP29F2zp15KE7NEgwLde6M+uiPOqOEZht4Dhp+oHfrrvmVlxtjczHoA8E\n",
       "RvIoJPEiurHWZMI3CtHnsLu0zncoHyzcRkb/wS67kb6RO11vccFlno1zluL8Pgj4EpG04tw5+eqA\n",
       "6mNM6Pm5T9zl5Pfp84o6ar23WlF09VYndjL6wACazRjrVj9H3+DDVC5ljtpvNFXnsoC2zMSJx7KD\n",
       "YYEJw7WUfoeuy3I8WoWOq3VKjTHf9210t7EZOemUmvm1KzBhWF0Okhf3BP5NG/V2HO8IavYSb8on\n",
       "m9iOje8yLNpNvYgubSL3k009GKcJcsYllPdj42iG4Z9vKkr0Uh+Vp7Q5ffTL4+SRGW6KyX9Gfz/U\n",
       "l77fzutVr/hnZPznb/WgGP4I/AEiH4ttsXbq5QAAAABJRU5ErkJggg==\n",
       "\" style=\"display:inline;vertical-align:middle;\" /></a><br>"
      ],
      "text/plain": [
       "<IPython.core.display.HTML object>"
      ]
     },
     "metadata": {},
     "output_type": "display_data"
    }
   ],
   "source": [
    "_delta_b_is_real = Forall(b, InSet(_delta_b, Real), domain=Integer)"
   ]
  },
  {
   "cell_type": "markdown",
   "metadata": {},
   "source": [
    "#### This derives from $\\delta$ being the difference between $\\delta$ and its best $t$-bit estimate (without going over):"
   ]
  },
  {
   "cell_type": "code",
   "execution_count": 41,
   "metadata": {},
   "outputs": [
    {
     "data": {
      "text/html": [
       "<strong id=\"_scaled_delta_b_floor_in_interval\"><a class=\"ProveItLink\" href=\"proofs/_scaled_delta_b_floor_in_interval/thm_proof.ipynb\">_scaled_delta_b_floor_in_interval</a> (conjecture with conjecture-based proof):<br></strong> <a class=\"ProveItLink\" href=\"../__pv_it/theorems/4eda169214babd86924789b4470963c58ecb08c40/theorem_expr.ipynb\"><img src=\"data:image/png;base64,iVBORw0KGgoAAAANSUhEUgAAAIoAAAAaBAMAAACaz9kUAAAAMFBMVEX///8AAAAAAAAAAAAAAAAA\n",
       "AAAAAAAAAAAAAAAAAAAAAAAAAAAAAAAAAAAAAAAAAAAv3aB7AAAAD3RSTlMAZkRUmRDNuyLviTJ2\n",
       "3asqG0tJAAAACXBIWXMAAA7EAAAOxAGVKw4bAAACh0lEQVQ4y6WVPWgUQRTH/5u9vY/dvdxhYRAt\n",
       "Ugmx0ICVgvGKQ0VO2UIUIZoLQSIW8bQxTXALMZXkGhGxyDZ2p15hYyF3FkEUjcGP8siBoqJoEkNS\n",
       "eIH4dmZ3Z/ZuDw4c2J19M29/+583894CQbuM/2k7eKetRk3GeoSoOa8vRs0mS71Rznruj65Uo6b3\n",
       "tA+YjTa/pHu75hnxYWni2D3be0xbbRR9sG2gr04vlOnKT1aRkdx17Pcts9lJ0SsnfOs5+b2g8DnA\n",
       "LPQ/GJI8+wVR2+ikTOACl6p9uUqecQsZEvgduI9FTaxXFjDeQVGWoPtBf0cUJYcadfMWVuyCLglY\n",
       "F28d9/qXjUaRUxJNqBsSBXfxlu6/gJXq093SB28K4ive7V0ItGRyMNZlyji+cms5pHrkqDgmBxgw\n",
       "eUmsaIwoazLlMW4ww9iSIUqxX8S0xsIVtwVlzhH+jLITU/xUhPZzzlZbxqRvsPMRR5jyV6YcwsdQ\n",
       "CDHmRvAbjBZ++COM8qxBreStyEFfSEuNa1ECKWk3q9ZgrOKBr4Wt6JykhaKrhqI7xCmHkbTFgrQW\n",
       "RcbYWuT7VGMzaYmSKEEJ7fQRUk+xdWDK6dKipDI/mTm8DvbIrEunroxYEZagDLDjcCefPyVHt4IR\n",
       "JLJKUSuQzy4+NiFlwAecr2qbzHriKj3JPrW8vb0ZOuRvHKSqsaaaJeM0H7t43QooZyo/gYZr/56f\n",
       "Ip/3SA1Gl50MUsO3F6Q82jfjZ4BX1YIYJJdYTke1tDXADklUTnvVI6iqWRjlaIpRqDOK0uxCGQ1G\n",
       "Zun63L2Y3nI12V0owaZhWtTdqHYwqu7q7XXXdL+jOt0gow97/wf4/6POptMmxqxeEP8A5yig4bLS\n",
       "F2kAAAAASUVORK5CYII=\n",
       "\" style=\"display:inline;vertical-align:middle;\" /></a><br>"
      ],
      "text/plain": [
       "<IPython.core.display.HTML object>"
      ]
     },
     "metadata": {},
     "output_type": "display_data"
    }
   ],
   "source": [
    "_scaled_delta_b_floor_in_interval = InSet(Mult(_two_pow_t, _delta_b_floor), IntervalCO(zero, one))"
   ]
  },
  {
   "cell_type": "code",
   "execution_count": 42,
   "metadata": {},
   "outputs": [
    {
     "data": {
      "text/html": [
       "<strong id=\"_scaled_delta_b_round_in_interval\"><a class=\"ProveItLink\" href=\"proofs/_scaled_delta_b_round_in_interval/thm_proof.ipynb\">_scaled_delta_b_round_in_interval</a> (conjecture with conjecture-based proof):<br></strong> <a class=\"ProveItLink\" href=\"../__pv_it/theorems/1d352e4987d73278be7cc00b5086124af0938ae70/theorem_expr.ipynb\"><img src=\"data:image/png;base64,iVBORw0KGgoAAAANSUhEUgAAALAAAAAzBAMAAADFvZ8bAAAAMFBMVEX///8AAAAAAAAAAAAAAAAA\n",
       "AAAAAAAAAAAAAAAAAAAAAAAAAAAAAAAAAAAAAAAAAAAv3aB7AAAAD3RSTlMAZkRUmRDNuyLviTJ2\n",
       "3asqG0tJAAAACXBIWXMAAA7EAAAOxAGVKw4bAAADG0lEQVRYw7WYPWzTQBTHn+M4jePEifgQA1Lb\n",
       "hYGFRmJAYigZQlmK5KWdkJoBVIRQCQNiQAUPFbCgZgGEEDQbC9AMiAEJNQsDUgkZWj6ETJFABCGV\n",
       "htBCRSLCne3EF9txYut8g++f8/l3L+/uvfMZwH3hJiYk8KPEms2U07gXPIOHne8/l+iASY6q2TIN\n",
       "MPflnGTWj+lY/Foy61jCJzB70ycwnPQLPCL7BA598gnMbvkE5hpkh9P0wDCLLzv01V21paQ8gYfQ\n",
       "7LH6o2zGFnzNE3gKhcikJsOPzhTswEyxF3hRtmoeLYvzelsoadwPj91u917tAf6xMJOw6IEyhHOI\n",
       "k54uQJz4RxE40P5Vcp02MaAKwTz2Y6QG+4l2kRhkSvIAZmoQR72+AdyBEmf4OEpETijhASw0YAkZ\n",
       "tCDBhjweMUzjfhl9gll9sFnlTd9gbhNeoWodYKPwZC9x44oxSDSnVoGzkguL4R981cRaR/PokWxb\n",
       "B7S4vyq5cQX8gYstn5Cuz4hGFhHq5oDvB3wLZrS+HXluXmbrwnRrTdfUKuMOrMCKWh9rLy4MqGAz\n",
       "v7fmQQUL9xRFeWuAJxVcPgA0cdHTDKHfaxYzbYNjOHP8BKEKd1sWq67gsu4s1sGHIUwEPFdHXhYa\n",
       "JW26hG21Krt1RQU/m4coGV91lDiiq9EUuSqWncGSZfJeouuNdPo42foQRmEgwWjzxeTMOcoGzP02\n",
       "NdyHETTWWrPZcSOynAe+ENQcr1dcZZ+TxYrJ5E3guzgsDnxy1868kSsCD+xDem7sEt4mJENjM/6q\n",
       "2c12Y5P2wCG50DO7hbOwOIwTraG1gBNyXfLTeBFCWAw652NRBh4hThAa/wGUxT53XzNz+PLOGcxv\n",
       "gYgWZJHQOHNtt/c8u3Kwjz1PLINYt2gRxR+bd1zpvXdpiFUtms8a7xVdytHe4KWiRc8XaZxBPlr1\n",
       "kEwBHMxa9TqNl8JBG92gAEaTf92sGRqvsc8AXph1jMKLd3glnS6bNY2jAjr/NjNmfdmfI29rb6AP\n",
       "jiV9AlM68lo9kfEK3u38IeSp588KPT6EnMLX/281/DpxEPpEAAAAAElFTkSuQmCC\n",
       "\" style=\"display:inline;vertical-align:middle;\" /></a><br>"
      ],
      "text/plain": [
       "<IPython.core.display.HTML object>"
      ]
     },
     "metadata": {},
     "output_type": "display_data"
    }
   ],
   "source": [
    "_scaled_delta_b_round_in_interval = (\n",
    "    InSet(Mult(_two_pow_t, _delta_b_round), IntervalCO(Neg(frac(one, two)), frac(one, two))))"
   ]
  },
  {
   "cell_type": "code",
   "execution_count": 43,
   "metadata": {},
   "outputs": [
    {
     "data": {
      "text/html": [
       "<strong id=\"_delta_b_in_interval\"><a class=\"ProveItLink\" href=\"proofs/_delta_b_in_interval/thm_proof.ipynb\">_delta_b_in_interval</a> (conjecture with conjecture-based proof):<br></strong> <a class=\"ProveItLink\" href=\"../__pv_it/theorems/7119762d22d99984fb22678c0e6336095f3218700/theorem_expr.ipynb\"><img src=\"data:image/png;base64,iVBORw0KGgoAAAANSUhEUgAAAPEAAAAzBAMAAAC0xfOFAAAAMFBMVEX///8AAAAAAAAAAAAAAAAA\n",
       "AAAAAAAAAAAAAAAAAAAAAAAAAAAAAAAAAAAAAAAAAAAv3aB7AAAAD3RSTlMAq1RmmUTNIjK7EInv\n",
       "3XZ/CtNrAAAACXBIWXMAAA7EAAAOxAGVKw4bAAAEo0lEQVRYw72YTWgTQRTHX5Im2Xw0qSiIWmlU\n",
       "EESlVUQQxSrEouJHRPAgiNGLqKARxA+oWEG8qLTgpRHFFUSwgq568mLVixYVWxXRQmwLXqzYhtZq\n",
       "yKFxZnZ3dna7HWen6B6S3Znd+c3He//3ZgD+5xXt6FCn8n07rzLSwqusVNoA7sjSfQ282un8jwOI\n",
       "rPRKkudwu6UxDzbEZdUkw1I5cCDLq13J3N9sKlsrPOOoRY7VSJGbc5zK8Av2KVFmHoYtMryXIn/h\n",
       "VVb3C5GXyNhY4Cmvdg0IkUPrJMhxjVf7Sowc/C1BHuZNlA3FIcM+CXIPd5lrBMn13hdaKfFqW1sE\n",
       "yff7vQsY18BqQZAc6fZuYFwReCZKDng3sVaeaCujouToqHfT5ilYwjGSGPvcmWPIztkRuK4ZKtnU\n",
       "5dKFiN0IfLW/rMg17e2+BoZ8HYCs2wJhcpcxGtjh4hfxtr9LoPFKJ8AG/H9AOKn4aQzH1R/vrxMm\n",
       "N2bgHJ67NmF3HjdW1NXEW/uFyejVEOp9LCVK9o8YYx9h7Op64aN+V58SJqPpCaB1D4lHKlPCbtDp\n",
       "Dh6ht40twuQkmrQ3hcIrYbLpN/Pq6QKdUMVczkFG/xsBrgqTY2UjI/JRkWCss1MVJsdRTnUMwjZz\n",
       "WT1BpS5uprdVOvBszl9SDupFTFq2XZxcjYQ7osYyYDaDrBepwQWj2ix9YIlDkfzNwjFLz0EVtFqF\n",
       "z3ptHfm9XcDXJ0hW8GV8SO6LDBlh/P0hI5VVBvIZ8GeZ1NVIcBc6yaOgFOGlbuWMR9aB+Jix3GXX\n",
       "oh/cTBqbJibHTRt96STrsx0toZVWxgfI5HZLzzY8PIQVYkBNkAXG5Nah2YZu6I0vdMaAEoRSid4E\n",
       "kawhZ1BwXupkFgbNyMBwM3doIv9D/QoJTS/FZXssr9L9+QnMg0iDnvOHLPkYdvPn6C9XMrZqH3of\n",
       "N7OTFF1AT1fQVuHWIFiNDzqUJDakoSWpIj4RnbWbryQF1c2fTYnHzazM5/MpZZqKl3c9CV9m4/4j\n",
       "VD3HaBtJiOujDT6m6pmxbzjSB4nlEPLxpnabempMMxdpLCjC8zDWRFy6YrkGzW5ZR7W66i8Jy2mI\n",
       "jZGIqgelzow9YljNRFTTwnpRfRbuktJFuRbGwuCn1YltEyJT0h4lZwK8Rn/3iDvmIP6UIdPggpsJ\n",
       "t5vk80NYmi6lcGnIZtvwkZtu27eZb1WoQ9ZOOhgvg+83Q7ZL/N28oSR4dlD3SbeO28m1HlLiuUhb\n",
       "TJvzdYOvxJBdRCeoK4M/BUEy+/Pt5EaeWATKzpI+dkaKDLnL5XNix9HvKgToiu5njIgX/JWRSVIY\n",
       "y6gMcnjc7XPS9iOm5JRspm/fZ/VMLdOv4u5utjieN7FftjFkn/fdTXCMV7vXLiUBdsjLWA1Let/R\n",
       "wQeuW9kdejGEqfP4NThpkRsljis8GLeiQYK+jRRy0CL3/NvTijPp9Faq4R/S6e6pnVZM9NlJZ6Sv\n",
       "UqERsholQ1lKjkgdiB3mVYY0oZxkr9TJ5yVeUq28ECK/kzqJS3A3Yd9EyJKnjx5OXCcj75IDs4mX\n",
       "y7WfuwnuuIdPmQ9Jkqd8sn6b2NcfpkpoN6CuFNUAAAAASUVORK5CYII=\n",
       "\" style=\"display:inline;vertical-align:middle;\" /></a><br>"
      ],
      "text/plain": [
       "<IPython.core.display.HTML object>"
      ]
     },
     "metadata": {},
     "output_type": "display_data"
    }
   ],
   "source": [
    "# This provides a more general interval for _delta_b\n",
    "# to cover both cases: _delta_b_floor & _delta_b_round\n",
    "_delta_b_in_interval = (\n",
    "    Forall(\n",
    "    b,\n",
    "    InSet(_delta_b, IntervalOC(Neg(frac(one, two)), frac(one, two))),\n",
    "    domain=Set(_b_floor, _b_round)))"
   ]
  },
  {
   "cell_type": "code",
   "execution_count": 44,
   "metadata": {},
   "outputs": [
    {
     "data": {
      "text/html": [
       "<strong id=\"_alpha_are_complex\"><a class=\"ProveItLink\" href=\"proofs/_alpha_are_complex/thm_proof.ipynb\">_alpha_are_complex</a> (conjecture with conjecture-based proof):<br></strong> <a class=\"ProveItLink\" href=\"../__pv_it/theorems/36527a47e8fcbdc1bc4babe0104999d7b4a385620/theorem_expr.ipynb\"><img src=\"data:image/png;base64,iVBORw0KGgoAAAANSUhEUgAAANoAAAAXBAMAAACfRUyCAAAAMFBMVEX///8AAAAAAAAAAAAAAAAA\n",
       "AAAAAAAAAAAAAAAAAAAAAAAAAAAAAAAAAAAAAAAAAAAv3aB7AAAAD3RSTlMAq1RmmUTNIjK7EInv\n",
       "3XZ/CtNrAAAACXBIWXMAAA7EAAAOxAGVKw4bAAAC/klEQVRIx61WXUgUURT+dEbv7N/s9tqDLAS+\n",
       "VCBU0hLIghVRD60UQSSxVBD0ICsI9osbhBRp7UOhKxRT9iJCrRFBKWZIKEW1iPW2MIsU6IPso9mD\n",
       "nfm/s23rxnhhds85997znf8ZYEtWqoYzDFu05GjVbf+b712Xcw0qENHYHR7RdlbfLs7i2a84loBD\n",
       "GnvRG5g/WXVb/JEDYnE0KripRTTjDU1sqbp9y6cAdXEIOiACUW9owcri5UJBd3q7T/OfLPoIgX4b\n",
       "PaatuaL01IpJZHpM4jzwuVD45BHtmPYzOZF2F/wli4jcNakJ4AgwUn79QOVE9PCM9EqBYzNuJPxz\n",
       "jM9Io9WDUu6ESbUC3QReplWaoVxO51xlN7lNQZvNjlJCAva1BXq+AA9khUeznYyfNaldgE8JJDig\n",
       "YjaBetLVhtOusoOYlxct26XVPPRTxvpA+yXgcIC/MVCgpRd75popuk+XVL5IDmrB1/TMI8yPo3CC\n",
       "rSFvs/XlaEHSO/WWRxuzqRGfSXTSk6QACe33inIsDVlPGOlh6wjyWRAUtsY1sRuNIvmCxtK7KPbu\n",
       "X40sDevCkH34pNZvoADupr+XVDyjnS3BiBwxDRKSkNYRcpdKIF8fb+HRGmxXH5PvhDYF/75ZvEfR\n",
       "mJ2qM0sowyLZFiPmOtFXfyKcFnMwqqc/raEFVRfaoMLaUzwauhSnssUMhOMSe57EmtEQwDmnzS+k\n",
       "ni6anVKnpaoJAwhF0ZrNZqMSlR9FMuyaMMxokzt0IJsy0Jotcwa1dtuzIk6jTqV6XjCkTx4q9jvg\n",
       "66Jm6DdL2TyW0SfB6EMKaXmVUK/1cpyGxmYsLmT3dTAtZ1jJZM88KrjGNbNCz0rkXUyEnk89/6vo\n",
       "0Mhx+PW+Y8O3j5ahOVVC49ZcfeSdkIlvMrwbIvTW6V4hpRZaYFrXPpCS5nSjNzZKnJWvf6scGoYs\n",
       "ooNGCGtSKqNd+UsynjW7e/PFnRqraZwOVRY7tV0jGlNr+Zz418dLVy1o/R7fis60rEERS/+/3j/+\n",
       "i8CvjnmMZwAAAABJRU5ErkJggg==\n",
       "\" style=\"display:inline;vertical-align:middle;\" /></a><br>"
      ],
      "text/plain": [
       "<IPython.core.display.HTML object>"
      ]
     },
     "metadata": {},
     "output_type": "display_data"
    }
   ],
   "source": [
    "_alpha_are_complex = Forall(m, InSet(_alpha_m, Complex), domain=_m_domain)"
   ]
  },
  {
   "cell_type": "code",
   "execution_count": 45,
   "metadata": {},
   "outputs": [
    {
     "data": {
      "text/html": [
       "<strong id=\"_delta_b_is_zero_or_non_int\"><a class=\"ProveItLink\" href=\"proofs/_delta_b_is_zero_or_non_int/thm_proof.ipynb\">_delta_b_is_zero_or_non_int</a> (conjecture with conjecture-based proof):<br></strong> <a class=\"ProveItLink\" href=\"../__pv_it/theorems/9d7ee87ad003bc18eba01192c396bc9b4be62b780/theorem_expr.ipynb\"><img src=\"data:image/png;base64,iVBORw0KGgoAAAANSUhEUgAAAQ8AAAAYCAMAAADTVYibAAAAP1BMVEX///8AAAAAAAAAAAAAAAAA\n",
       "AAAAAAAAAAAAAAAAAAAAAAAAAAAAAAAAAAAAAAAAAAAAAAAAAAAAAAAAAAAAAADFBd4eAAAAFHRS\n",
       "TlMAq1RmmUTNIjK7EInv3Xbp8+P3nXbhrUQAAAAJcEhZcwAADsQAAA7EAZUrDhsAAAPXSURBVFjD\n",
       "5ViHDtsgEGWZDV3+/28t03BgbKd1paq1olwC5h23DxD6s48Y6G9A/Kl3Xtji48cTQAXjVn3Kd/NP\n",
       "2VzDc11/EW53y5VzytKGnyk+3if0dXUQA2kgG9YPFxvjWRLO04dsLuFlk9QrLKOC0qfhJ8q2Q3+v\n",
       "O4zmkKLHuojbCTbXTkDLdgjSj2yu4ZugiLEiviHAcyI91CbU6+7BKKTI48drqUsWT5uirA0fWlBy\n",
       "ZHMN79pPHLWsVfygHj/RqpyiqzcfO1Ck98dMVJKN7Gl3Vk9iCT6xWcN75b58dceKhMYkwlWlFT9S\n",
       "WrTL388eHNIo5f40YvZkM5kl5C2DVLMxMrJZwm/c6yZ7SyfycLuKn6h18bHm/XAxkCKCyf4wKnXV\n",
       "R9qpaYFQ/cJNbFbwIkaAHs2tdPxUJeOOMlnmV5Fs7guPNGxeD7QegcKe8GxB5rrnyGa7yfrwdeUR\n",
       "/Gm73k9sFvC5TlA/laRuqOInKnD9QpLP+pU5PKepYcDMucwRQMUuYkKQp1wmo1Z9JELsWDedHtks\n",
       "4flQoupgp+OKn2l0DZOrETZHNcNKbX144jGg4ACZ84/dAMUqCShPoM7iJb2zZf+Q+2BvwiY2K3gZ\n",
       "88G37+FLgQYuS5zVVPEzJf5QlpW1QstRUCtHceVn+kipIHGcoJb5lOR8utmh++p7pRv4VFSH4hnG\n",
       "SnuRSu+BXyivsRTC1cempu8Ii6B1qukdDpzoA8aLjqZLETqsPM0fSOXOI+cD4mAnIdXEZgmfMq8b\n",
       "XFsWRejsGBW/UENKePkQlp4dfUqfa8pU53JwYHNzC+EBTRuOXecEdZrFk6lYZk5BRvAUbzObJXxI\n",
       "vRvkFgptGcEO4BcqbDGLokn+jfZpU/ZTAd4gOFDD2o+pHVSxQHwsiScrF/1k7NeL6zOQEbTjJ2zW\n",
       "8JwMzUdImMkBhCLqtDOo70f2DAc0lR4Ss3lxvTKFNPNwoAXMeA6VDlLjsy7HlYuMyoyv+3IbrNDk\n",
       "jM0SXuPvW2+rzapwDlYqHHKVAfgDH5SyEQndRO+duJ9qp+AyQBlNx0thT0wsIYUrP7gBcdeedAdP\n",
       "f5hwuHf8Dn/iEyIvhVDfnJVEWaZEDAtt2gBRAsnzfArPSTOXj8+Fq1RzB8/1h+fOlmhy3yfa4fGo\n",
       "L2WKp5JO4MBCH6hezsBLmrrysXvcKe8G/m59nb94T5uYP7YTQfO/5o6CXeijFir9W3cJtzdqN/B3\n",
       "J/dzqy2v60BQZfG79ETIhT6Q8JD+0p3j/Tav4fEzfP/wPgzUjSz+HM+Sv3998rc+8hBVe3OemoRE\n",
       "/+Vj6D8u4E/3OyLeSHQRdAAAAABJRU5ErkJggg==\n",
       "\" style=\"display:inline;vertical-align:middle;\" /></a><br>"
      ],
      "text/plain": [
       "<IPython.core.display.HTML object>"
      ]
     },
     "metadata": {},
     "output_type": "display_data"
    }
   ],
   "source": [
    "_delta_b_is_zero_or_non_int = (\n",
    "        Forall(\n",
    "            b,\n",
    "            Or( Equals(_delta_b, zero),\n",
    "                NotInSet(_delta_b, Integer)),\n",
    "            domain=Set(_b_floor, _b_round)\n",
    "            ))"
   ]
  },
  {
   "cell_type": "code",
   "execution_count": 46,
   "metadata": {},
   "outputs": [
    {
     "data": {
      "text/html": [
       "<strong id=\"_scaled_delta_b_is_zero_or_non_int\"><a class=\"ProveItLink\" href=\"proofs/_scaled_delta_b_is_zero_or_non_int/thm_proof.ipynb\">_scaled_delta_b_is_zero_or_non_int</a> (conjecture with conjecture-based proof):<br></strong> <a class=\"ProveItLink\" href=\"../__pv_it/theorems/3875ffe0dba065cb8bfad9a7c3b5e9fc48c1a7f30/theorem_expr.ipynb\"><img src=\"data:image/png;base64,iVBORw0KGgoAAAANSUhEUgAAAX8AAAAbCAMAAACjiH+tAAAAP1BMVEX///8AAAAAAAAAAAAAAAAA\n",
       "AAAAAAAAAAAAAAAAAAAAAAAAAAAAAAAAAAAAAAAAAAAAAAAAAAAAAAAAAAAAAADFBd4eAAAAFHRS\n",
       "TlMAq1RmmUTNIjK7EInv3Xbp8+P3nXbhrUQAAAAJcEhZcwAADsQAAA7EAZUrDhsAAAUvSURBVGje\n",
       "5VqJ0uMmDDaHuWHbrd//WWuucAiMnU22O1Mm80c/lqwPISRZzrb994Px7c8bfySoNwbZAVWmwlDH\n",
       "rRvRZ3rp2/C+CKoWoL/F/JgCCneaMbt1Jy4fKb7HPoD3TVC1wGPRd4ZigFLtyri2TItbruqeHTz3\n",
       "FrwPgeJrgYfreWtIAqgylSMtniyBMiPrdVj1SPcN9gG8BSiAaqKFqXKSzGGYtFYa0goECpUjRz5u\n",
       "fm4AlQlOKZPBxY6JnfS27ai+5tANlVo7ym+yA3hrUADVWIsos04if0cWPo1AoOj+xYxPNaASEaKf\n",
       "Pk7lu5kIo94E6lh7tPdbZTlgLzcTbgrvBiiAagyqWHWjIbE4smncCQTqtVPfyAfHDqhEoGAiY4IX\n",
       "qGGohZ7FlieU2OCjErCXYCvFFN4NUBDVEJStNszfVEn/6QUClSOVxh83v3ht9YvKhAnf6OAbdZse\n",
       "+rU6ekR06SIyWAdHJQ17tghnc3g3QEFUAJST9sdftmT2wCQ2JIBAoEjaDvZ593cWUJlA4RsdYhOU\n",
       "TCoN2R9tZ5YHjkZzYsCe3YviObw7oACqDtTOnCq2LulAUCgQKWP9MPrz9kcMUKjZZnvxlIMRPjrX\n",
       "2lcJQGX7E8Ce/d5ewluBGqBqQXEfTlTvy1L5DxCIFBWJZRZT9bowEpoO5KUElJRNfJqXwIR5T1Rd\n",
       "PCt+RW01Xjns0NV9a/Yt+aRzl/AWoEaoWi2hiOkre6zrqSIQKY7yn00wGGFFPC7gUjehB3UYQ4Bi\n",
       "NZudV4j8DMJnHBeNGn7si4Iy219D9lho1OX6AN41qCGqVgtri//XJNsGq0iUd32dyhL9qtKQlHv9\n",
       "JI76ANVOjB7YLQWUpVfpVB2vOCWzf1Rq1Mr+Khp+jy7csXvXbLoMA3jDHH+NqtEifDD/++f5p7qN\n",
       "w8m8qhNIFHav/TEiF62iN6zpE1I7MbL/tf8TdLFjIYKLo1XDj1VPIMZ/HPNvx35GgfYZZ+T/I1DX\n",
       "qBotocjsKslzLtX2sb4tApliOTydsc/5BwxHgGHzpTpO1hOP7e/NsXE+c2SRom2tRhz8Ov6nQE5i\n",
       "hK7ZY+oVcgHvEtQYVavFtik+JR7Eq55qEciUxiliuTM8OloeFXLKKZfq4rKZ2O2g/pGAehEiHGA3\n",
       "y/phpf5htlazrH82EpIVZUN2R9B+DW8Baoiq1XLm973tpJ6FZ5qJ5S2of3z3A5Uu1GnvndRpVtSX\n",
       "Tg16ayeyD0HYfaVbEdxSP+y0jeN8rdepIcv6f7O+/5CCQ8+uLLuGtwI1RNVpYbgr/s/sGrybSyw7\n",
       "gReVRTxwis47yzCwrxrSMUuXNkVdO1ECEKjb4E6/CHuEwS6WGje6VkPXDThFtcurAewUX8Nbghqh\n",
       "6rQo9HOvHXE3kpnTluYwUncCAGDILDgdw7bhkS6VLmmaIJTEoDnyTbMDyuwPW0hJ773+z7N20QDe\n",
       "c1S9FvKPlmdKYjdgAYBnVCOyexhLiTVd4j7MKF0msOSbmOTfi/7nky4+kff7n4/apQN4j1EBLUzd\n",
       "hQUBChqfD3nVJMz1T7rEQpWL24mZ/YUBlDDPVprVzGrDi1y8ZB/Ae4yq17JsIxN0A6DSPv7vA8PG\n",
       "/0og5fTC/hvCgEJv91kt/zT7AN6vglq2kYvAvfW0hWU0d5VhML6y//r97wN//n3vf39BC7otcHc9\n",
       "TV0TzQ0Tm5i8MMUaUPi9Tut3fv8A4X0T1Hu/fxAv0yo3eSvBp42B9e9/bg6qvsE++/3Pd0DVAo9F\n",
       "Q3T7/Dv6//f4F55tNQIujFnrAAAAAElFTkSuQmCC\n",
       "\" style=\"display:inline;vertical-align:middle;\" /></a><br>"
      ],
      "text/plain": [
       "<IPython.core.display.HTML object>"
      ]
     },
     "metadata": {},
     "output_type": "display_data"
    }
   ],
   "source": [
    "_scaled_delta_b_is_zero_or_non_int = (\n",
    "        Forall(\n",
    "            b,\n",
    "            Or( Equals(Mult(_two_pow_t, _delta_b), zero),\n",
    "                NotInSet(Mult(_two_pow_t, _delta_b), Integer)),\n",
    "            domain=Set(_b_floor, _b_round)\n",
    "            ))"
   ]
  },
  {
   "cell_type": "markdown",
   "metadata": {},
   "source": [
    "#### Follows from scaled_delta_in_interval:"
   ]
  },
  {
   "cell_type": "code",
   "execution_count": 47,
   "metadata": {},
   "outputs": [
    {
     "data": {
      "text/html": [
       "<strong id=\"_scaled_delta_b_not_eq_nonzeroInt\"><a class=\"ProveItLink\" href=\"proofs/_scaled_delta_b_not_eq_nonzeroInt/thm_proof.ipynb\">_scaled_delta_b_not_eq_nonzeroInt</a> (conjecture with conjecture-based proof):<br></strong> <a class=\"ProveItLink\" href=\"../__pv_it/theorems/94b4326cc9015d9b3e49b1a56a9592a5fa18a4400/theorem_expr.ipynb\"><img src=\"data:image/png;base64,iVBORw0KGgoAAAANSUhEUgAAAR0AAAAbCAMAAAB2mqvgAAAARVBMVEX///8AAAAAAAAAAAAAAAAA\n",
       "AAAAAAAAAAAAAAAAAAAAAAAAAAAAAAAAAAAAAAAAAAAAAAAAAAAAAAAAAAAAAAAAAAAAAAAeYafp\n",
       "AAAAFnRSTlMAq1RmmUTNIjK7EInv3Xbt5cnn9enzas/lfgAAAAlwSFlzAAAOxAAADsQBlSsOGwAA\n",
       "BDRJREFUWMPtWQey4yAMpXeznfsfdWk2oiXOlpn8nWV+UUDGIJ4ekoLQv9CERP8b5bOUmgm3Hmcv\n",
       "vIp9OOMQNkvlo7j1vNT33/WK7ls0I2Ypb8Qewqpb2PMv4NR/LOtoOkuVdsgOAUw4DTjpMDtHmgey\n",
       "Lm74pG9tHOkGSTImdMZM2G3aIsQxGPR4raegH9kjqFOX8Q9C/Mz2UmYGG+Lyuds9gwezmY0ddeeY\n",
       "NFy6Cn8QHgq8l3A+TOfyKZs170xYEUv/UL0aE01XVHNa8tbGUdexV8nlfzhIxDyya0yYMGyKLSGg\n",
       "e685fNOl1ZzivaHjj0HC+R+OHKEY3V1ZenAlv3JC3kNHBgV03ZGas+9tHSxmKZ3zo0CQYBJ6sPAV\n",
       "8QyESwPUZdlU2mxvfvv8MlOWmT8SiW5n0XqWkpc9CEuoSNgyvX8ClLEMi+Prt/S34QdrqCvx+Qcp\n",
       "MfulcsuRscO26Q0eDhQ7bVn8aVtFG2WbCddaPyFZ4FmK0MEPQoBISYgkz2tLlYE/TdKc73QTbMqy\n",
       "ED5XpTzWmoMwHY/rHTpgNH/K5yRHfL813qys0z1YziiFqXw8poPN0oJkTRAdBjIA2lLNbB3ORvqX\n",
       "nS7xFye7CjzG1LB6NxLf0AE3WUOTa5LomYpI4J96Gcdct3R6LMjn2KEL5DTbBZr32i1VBvUMOhdx\n",
       "n7rizCqiG/sUQXk6bvscgR7fdUDrHNnocJLINPCIoHWOdpq8hHmZKhx5ah2S1OUuhjV5c4l7wFIV\n",
       "NHrmne8/Cvtc02uMel1LatDjY3LhGTJ64LZrBN6wfQc/hoJCP4kkam2dosx0ap/iL63xzDFcBVhP\n",
       "rJlt6bc8nq2TUjCw1PnOEmNHhJztdKXDLb2L1uAUsq8CI/FVtlMFr7nWWWAEJzEedSyll5irYCvW\n",
       "cX4D+FOSB0vt2LKy9elO75dK3bYq0iJx43tdrBqXMBynykepSQqyCybrCDKsGuHsANv0HZOASaJp\n",
       "UjBrzMI6jXZOsBXPGqPcdupVOkJuD4JY68tRgqUy/Aw6iJ4rmnRDcXhlp1yljrREvnZQRontU+jI\n",
       "JOYCftkPUekxu7JOUU6e9fmLzp61ZmXk+CzdzNAajY15FnkQA085WXRQqofQsEC/jsjkP8a2DhJz\n",
       "FNXU8lBAvo8vbaZkwEwaLt2PqaD3U3S/yNHvt3NXixxd7GPYOZ9XzPuSr6vxzqojIseHpO8AammI\n",
       "ed5NQjHG3moQxUHP8hUJ4ERiNDiH3srN0s0Eti51DgHoAzvTfaBpbEI5n4u25QMB1beBXclykjEt\n",
       "WORETyuVmMzSi+2Qi/rfTd1140dXisxdbVJCeuvwW+nWwjrPSwS7uvJv1IrV79eVBdArxlhkparW\n",
       "du9VX2frkBtM2yiU/FJB4e98J6HIFbZsqkxIqtfW+Ytnv/k+625lwPwd3Ysu37sw/8fbT8ZpJIn1\n",
       "VpY8AAAAAElFTkSuQmCC\n",
       "\" style=\"display:inline;vertical-align:middle;\" /></a><br>"
      ],
      "text/plain": [
       "<IPython.core.display.HTML object>"
      ]
     },
     "metadata": {},
     "output_type": "display_data"
    }
   ],
   "source": [
    "_scaled_delta_b_not_eq_nonzeroInt = Forall(\n",
    "        (b, l), NotEquals(Mult(_two_pow_t, _delta_b), l),\n",
    "        domains=[Set(_b_floor, _b_round), Integer], conditions = [NotEquals(l, zero)])"
   ]
  },
  {
   "cell_type": "code",
   "execution_count": 48,
   "metadata": {},
   "outputs": [
    {
     "data": {
      "text/html": [
       "<strong id=\"_delta_b_not_eq_scaledNonzeroInt\"><a class=\"ProveItLink\" href=\"proofs/_delta_b_not_eq_scaledNonzeroInt/thm_proof.ipynb\">_delta_b_not_eq_scaledNonzeroInt</a> (conjecture with conjecture-based proof):<br></strong> <a class=\"ProveItLink\" href=\"../__pv_it/theorems/79da62ee40fb435190bdf7f6258f0c73120966d10/theorem_expr.ipynb\"><img src=\"data:image/png;base64,iVBORw0KGgoAAAANSUhEUgAAAQMAAAAyCAMAAABvXk5FAAAARVBMVEX///8AAAAAAAAAAAAAAAAA\n",
       "AAAAAAAAAAAAAAAAAAAAAAAAAAAAAAAAAAAAAAAAAAAAAAAAAAAAAAAAAAAAAAAAAAAAAAAeYafp\n",
       "AAAAFnRSTlMAq1RmmUTNIjK7EInv3Xbt5cnn9enzas/lfgAAAAlwSFlzAAAOxAAADsQBlSsOGwAA\n",
       "BLRJREFUaN7VW4eW2yoQFb2T5BX+/1NDk0STLFs6ieHs+uxSBnS5M8wM8rJMVwR/QooUcpm2APSM\n",
       "HG6mBQGoz8cq4woOQTMpBIjeGu0qSMCUEDDN7gzHNYIGzYiBsU8Oh3pCk4D0PRa55kiheD4MtFqe\n",
       "Mwe+EMdmg8C6e9wFoq2h05lFc3PFurMm0E1mEbjjN8d3zJfOzoUB0DdVaTBeTOYo6ZuqIMAiezPJ\n",
       "5lKFmy6NH696ZZjKT7J3t8wRaR8n1x+OmSt1ZphqcQIK7g0+wmpsEHYY4JezQlenu38cAo4PNi6u\n",
       "xpLeb8Jk8xe+2zpIVzm24Pxgv5xoQY4sfCUCE99NA14f5fZUjzl4SyzNgCr43RhAB2tanK1XsLfo\n",
       "hbIZoN8NgSdtTW9x4uaSN4y9C321CeVmSPanj0YIoDtW3ndMWxSDI75fn2ZV5b6HlBroiYDjdpp/\n",
       "/g2fF7mggwIwsH4ckFC9PjS5wm9heJi7OJaCi0dmgRPQKwen4iYNFmNWCqh4RI5Ecj1uaWqKBKUE\n",
       "rg12hML+p1Dmg85pGUrZXjPLfjEREMPIUZqZtAi7rpQYxOeDdrOIm0hugRBxQZDWLftCqhpI+79X\n",
       "Icbvi5JWjjCoBiY2Ir8eIs4wiE4+DxWa36RBxsADgPLZu4rEmDdr7Cera8pHyT7pJsSvmENWapTo\n",
       "OqfnZJvgLjgodEHGIyLYBH+628Jbivbgv/+TVQDv6IJ3DbKTsIq0qH24ZrK+psTARAKVQrwBqAgq\n",
       "2s6JxCope5CqYWcTd1QiBtT3sEYutqE+fc+667RwtgZPWaQsiZhuNbbJNk1tpiemcDviZyWEQT7G\n",
       "IHXGIpQf/hd5cMNDdLl/W/gHyobTMchB3bULfJErbjVlfXaQxWeRBJWmjxcti8SrWrfT003fEyVK\n",
       "IT5mrc2JGPEnEydh0OX+Kh9J2bQXQW0weIcGss0tO9yruBeJaNwWAYPjnfi+TrYHl+30kNpKwwsh\n",
       "HgDlpUg5wGA3Bytxki50rjB0ZODgdFoDh74ew5imMArSFhM1FMlVF5zkFrbvdq5BGMVpmS40XEaX\n",
       "YdcTyAN0aoRB6hx04ecvEXXhwCYO00heH5F4TYMYDyoPIlOGKn4Siu0iS6cxAbe2xH+k2mugD0/4\n",
       "1i22uMXWnqeKBrGwGAUGuXMZ6lk79PjdQNE5trZx6EY0yOeNzpb0JBTbRbIi/M7nQm5J/wT6VTVb\n",
       "t9CCLamEIACAVaK8zyh0wWaKF7h7H2ngdporUd34pQId1QsEbrUO9nGGTqrAS9IpEMt7Afsa2raU\n",
       "QrrYtg+NXyb6L6XWx6kTYJKXxReiT1yv4zi0zMDD9IhEtjUrBuTa4dxj8HqT0d07IeOidZP8OEN3\n",
       "eKDa/YjLZq23Tjzr2cWcZDcxJBcyPveyPNH6YVua5nAIXbto4tvchxEke/MW7KPU5c00eHSeOUa8\n",
       "JtdcN8/41l0bFseWYp5CHPl8MBqTaLY718V8/tpI8uPY43b2L6RVP11xclqtHNqIucqniV9mcCim\n",
       "167p3sX5mAgmZdA6H0TM+IYiffQGgLgZX9fl+knyGrjMWOyDt6KTvqt7753tRhPoMmuhDxGY04m/\n",
       "wPDQdzh2CH4DePYofi4rp6EAAAAASUVORK5CYII=\n",
       "\" style=\"display:inline;vertical-align:middle;\" /></a><br>"
      ],
      "text/plain": [
       "<IPython.core.display.HTML object>"
      ]
     },
     "metadata": {},
     "output_type": "display_data"
    }
   ],
   "source": [
    "_delta_b_not_eq_scaledNonzeroInt = Forall(\n",
    "        (b, l), NotEquals(_delta_b, frac(l, _two_pow_t)),\n",
    "        domains=[Set(_b_floor, _b_round), Integer],\n",
    "        conditions = [NotEquals(l, zero)])"
   ]
  },
  {
   "cell_type": "code",
   "execution_count": 49,
   "metadata": {},
   "outputs": [
    {
     "data": {
      "text/html": [
       "<strong id=\"_delta_b_floor_diff_in_interval\"><a class=\"ProveItLink\" href=\"proofs/_delta_b_floor_diff_in_interval/thm_proof.ipynb\">_delta_b_floor_diff_in_interval</a> (conjecture with conjecture-based proof):<br></strong> <a class=\"ProveItLink\" href=\"../__pv_it/theorems/0b50b41ebcf119dc609e2e26048768a6d7b0bd350/theorem_expr.ipynb\"><img src=\"data:image/png;base64,iVBORw0KGgoAAAANSUhEUgAAAaAAAAAzBAMAAAAjncEzAAAAMFBMVEX///8AAAAAAAAAAAAAAAAA\n",
       "AAAAAAAAAAAAAAAAAAAAAAAAAAAAAAAAAAAAAAAAAAAv3aB7AAAAD3RSTlMAq1RmmUTNIjK7EInv\n",
       "3XZ/CtNrAAAACXBIWXMAAA7EAAAOxAGVKw4bAAAGTUlEQVRo3s1aXWgcVRQ++5PdzezObkRB+kdS\n",
       "lTyoJRHEnyJukDW0amt86YNasi2FmhR1haAGItlKEaHRJELRlRZHhEJbaLYVCgo19sXaVknUKhKM\n",
       "2SA+NNY2No2JKWSd2XvuzNyZ2bmzU27oech3ZnN29n73nnt+7gzArS/S0aPKLTScjwjU5z3YHnEc\n",
       "uFwut7nx/ZhFwRJoJXi7F+PYhCOhDvdvvaewKFbWIK+iq1V8iizgBg+EzOOu6MFxckFRqISyBB/i\n",
       "2KWRWAOPkHTHq4pVP4HXJ1aAUF+uAtGzHLt2xJ/4K3RVseoyujVFkfI7/lTJmx3cr/ggFDyPPnde\n",
       "vMd9TfAxjl10EZVImw9CsAsvdwknlMBYcIFHfBaVugU/hDqJY+soTvAHk0u84D5EtR1+CEUwlkQa\n",
       "RBP6AYfE+6GEvsdaFB+EgjhhwSXBfGK4NQZ5ZcKg7isjJR+EpGVgUFyZgDFhLc/wsq7Vj/sgBIeA\n",
       "RWExAV3tDM9wWNLDw4IfQukci6JkkGS62BzPcC6uZ/85P4RGWlkUFuTIhCUXeIbzx3X1DI/QaM6u\n",
       "U1dICA5zB3FfkK0UbT9XzSMeNGrXQxxCt43taLXpdOepWKF0tyBC53DeSJaJw3MeCvzRmtsH7daz\n",
       "Oj6p4W5BreZ19GxSzwQ89SvpDh+EQvM67tV8YUhQGsK0MEhyS9KTgw+WfBCiv6RiRJ22eJMYQsFr\n",
       "mP3J/aVrXr40QsvTS5OTWa+EqC+oGFJ3VURUrY2FQhoLhU+8+FwK13HbTA0rBP8Y+P3k5AVBhGi4\n",
       "xui9vsWLa6eIUbS7FpeD/wzcBCDquCSOteKoQrrxgJfaMUH8LJKridA3Br4GUdNmDX3O9F3Un3td\n",
       "nYUx2/+U/nkYCTxb+XZ/LrgY6+IOTSYpJVJTUIBJA+uVeAdIjfjBgG5y7MRqCGHEiW0wCH2WZe5k\n",
       "NzOOKgKYHcjNV2nF9xq6i1+e1ETbXKkyCrGWSRYe0P49pBM6XDH/FcBkadZ/w/uqGCxpk9EM8P6q\n",
       "AxVEaYMt8PcTdJIqhMLaoK+w5bDdrLkKoTmIzcK3/BUihI7UtkImQpB9XP3zNIQ3ATOaeejPy8AQ\n",
       "qnc4/bKbNTu7nLSo7qLY8rTizeVk3y4HJ7V48jP8ASyhjepIDwP0ZDKZDhdCdjPjFvEFcwm5CJGm\n",
       "5ESyDf7yEhSSJVdCUvWgAH1qTJBmpSHbgeBpuCfEXSG72XYjbGMeulrJQ1/BeqhvDWWlrY6LtNvS\n",
       "Q+10JTTC7mS9RtcwoP5cMFtXKVtjL5nKiQnoeRjVyyerErKZRWacE2v8ShES+XBD0LFnkei5TwpD\n",
       "5qcHFBdCsuUU/LoFw8VQV6HwAexdrQ6roMqH9lC9uXCwUGi1EbJF9OAruoYlY4s+ohQkml6fsUb9\n",
       "TFdenVI697STeOGQY+nT0155nnGvSVen4waLID8fI/eZNiWXqLV7cVohu1mfsXhzTONa8clH7YVW\n",
       "L8Tno6f35D0Vp2ohPapdF006U5zizCWxXDB2dO+7+5TqhKQiHKti1mxzhJR+HBrbWrITuhPgOzVg\n",
       "AFPJViMUyEFCDexSydBNZTBFCP8JvXl2NGPlMjgQip66od0rdhYGcs5mJkK/4IiYHdxjve2YAo25\n",
       "lMK27dUIJZYgoAbPpEk3VY3mZl/6osAkVgep91TBmW6xlj3NInKX9Qvr1NSbf5FeNbp3rIFxCCza\n",
       "dJrCKRqy3W2o4VoJpcm0h8xF6fEvHb4zBdNSnmnbXRo8edamY5OvoyGR0k23qTtN3SfZDzFzZxdv\n",
       "dWw4t8YJ+egyl5A5bKDejx/124f/9s0SetPHQaPcAPse8XrQSA/MzfpKHTSGcfM8w7HbzOwRDqHw\n",
       "kF1fByyKkjrMrJ3u5WXI1JClSjxCDzjoyxYUJhdxSG2uVveBkZzTCodQsAhvWHUadUKiH6c4hjl7\n",
       "SChCUnHaII6E9gPMWHX6/EkW/sDL0yPJtzKZLbqT8h5JRi9mMuNWfeUeSdKlSbu1dVPl8r967m7g\n",
       "EJLVrjtr1Yfxg2EQLnswvRU92ncqPJdzij1LLIoUUvBppZ83+RF8EJKbWBQpSUwUlzye5DX4IbSS\n",
       "r8Z4fHmJyjbwQaguy6JYoX3OTk91YLcjoY3uLwC+o7AoWGp5AfCw45B4LwB2m/F/vhwMu1KRrj0A\n",
       "AAAASUVORK5CYII=\n",
       "\" style=\"display:inline;vertical-align:middle;\" /></a><br>"
      ],
      "text/plain": [
       "<IPython.core.display.HTML object>"
      ]
     },
     "metadata": {},
     "output_type": "display_data"
    }
   ],
   "source": [
    "from proveit.physics.quantum.QPE import _delta_b_floor\n",
    "_delta_b_floor_diff_in_interval = Forall(\n",
    "        l,\n",
    "        InSet(subtract(_delta_b_floor, frac(l, _two_pow_t)),\n",
    "              IntervalCO(Neg(frac(one, two)), frac(one, two))),\n",
    "        domain=_full_domain)"
   ]
  },
  {
   "cell_type": "code",
   "execution_count": 50,
   "metadata": {},
   "outputs": [
    {
     "data": {
      "text/html": [
       "<strong id=\"_non_int_delta_b_diff\"><a class=\"ProveItLink\" href=\"proofs/_non_int_delta_b_diff/thm_proof.ipynb\">_non_int_delta_b_diff</a> (conjecture with conjecture-based proof):<br></strong> <a class=\"ProveItLink\" href=\"../__pv_it/theorems/2728c0b5175ee019897a735be401add4189d4a000/theorem_expr.ipynb\"><img src=\"data:image/png;base64,iVBORw0KGgoAAAANSUhEUgAAAcsAAAAyCAMAAAAENgAQAAAASFBMVEX///8AAAAAAAAAAAAAAAAA\n",
       "AAAAAAAAAAAAAAAAAAAAAAAAAAAAAAAAAAAAAAAAAAAAAAAAAAAAAAAAAAAAAAAAAAAAAAAAAACC\n",
       "gUnDAAAAF3RSTlMAq1RmmUTNIjK7EInv3Xbt5cnp8+P3nRjLMsUAAAAJcEhZcwAADsQAAA7EAZUr\n",
       "DhsAAAakSURBVHja7RyJkqwoTLnvPd/y/3+6gheXKNivX20tqZmpCnbS0dwBZ5oGdABndbwHBBdf\n",
       "oxpwwAzreB8wLb5GNWBXnazjj0FqGzo00D1M+qgGeICkjrewsrFu5y6LmIdOOoEqWsVbACVmoLuC\n",
       "tYZDK32gTR1/wwuonuTXRzVggqqON7m4Tetfgnr49FENULKOv0iXC2DbE7D7qP73YKyo4m0FMc9d\n",
       "rKuQIaP86clwcx1v8/E81YIu2wB2ZMz2zjzJcMyyN8zy0ChsTynVR/V/HxOoOt4Wr0vEvKv152Ng\n",
       "0B4V5zrepoB5EoV6qKeOgaP6aY+KsIq3wUIsC+Gyh6WwY17QXMXSKt6oSyzMvevvvWhbwBhwGxVV\n",
       "DaeIKN6gXIjk89RHjnAMiLKKcK25ghHVqU4wvPQ+XfIavmgGz6+bA2mL0f1UlOGzK56J/wmpED4U\n",
       "P7LnfVZCNXz+SJMHLS6snnqakP9SsyRbEFMd+qZ86Oq+9DE13Mw/40u2mURgMs7pBHc/CdUeh0Ml\n",
       "DygDsKCGCwt+gvO7oKr//EsfAdUrDLFpZikV3NIkGap6EP5YFecfGaXZ2L0xMSLW25o+GcqplHbw\n",
       "Ztw/WpLVS2dgP5GoYibUBU6RehoXU3Joy1Mhtl0ccF9iimvcHRWZP+GYKlKcL0lhumctsyVPRef9\n",
       "z0VgkffNCpOofhM1JjTND/SNYV1xy0S83L+9/nKUqCrEqfNRsARdRl46p44aTBI3l8ciKVK5e5W+\n",
       "5C2JwdZ2OLuULIQHiMRsy0ziRybl7Kv41MIYKB0TFPUjUg+4JWec+IXA66OQ0uRZJ72vEPd7kX7b\n",
       "JDyWJ4g+4ch5NoNIKyp6cgvh3z+WP4G8BmxSipQKmEPLhxjMzJzjdcqQXDqEjxYAyZGcSeoXaDEm\n",
       "o1Fa/gW6RIdAproV8IBbIgQvS79GKGcRmLfo0g9EmVtQLw8+R7r0jUfSYyxrWwc505SKHMa8i4EQ\n",
       "S28zkzBeiB7UOpsqMImSNd4OvOQ6CnR5Ps/6OdAH3Cq6DIZp6+PxN5cNWysxVviS1sWOpdMzr6YG\n",
       "cYzVU3ZPS1G7SilsRiXBFo93MQzMfSyVMFmIHpTGU5FJnELF+vTXGo2iFXCnLh9wq+hSH1MVLNfk\n",
       "52gUyGofeol7XRLgIoOYzJvDVHHtY8yEY25LM7KtzDqjovuQfRMjGihsaeqQcE8jichYh33rHhwS\n",
       "JnlhuFABNMH3fvmAG9aX+dIJjLiD35ZfuBiqo8nOnZqknwxxaVxX4vjCtuPP2ew02fIgIGkul/rG\n",
       "+x7lgOdU+4c3MTAMSxwWXpoEMiJaOL7SiMgLS0yyuso9ZopgfDfMqDNBNOjyllsgYqzL02O3YLLq\n",
       "MjuOU50VSLOauQvP6Pk0T2Sj9HToO//AodxYcaIWi1NWcXlJtYsBiTdRDtx8YYuju4THbkoqMiAm\n",
       "yj4lJozvQB/0Ht5RnNQcPtHlfScTiBjr8kiXezBZY2w2kgPJ2BuUxuC2FJ3zzgmR9eWwLP0Im1SZ\n",
       "8B/JlzqW3JiELIrBZD4w3i7Rw7a3BYggkD5Oh9lHTEUmeSdI7zZnHvvlPTeqrmKsF9iZzu9/bKZT\n",
       "rn0eHStYogO86zB9GSoXS6BSE5keB0vCAXlSSGVUuxihhW92s18ivpc7F8DiYuz8mL9kJ1NmktwP\n",
       "YwyJPl367xGyidt17bMKHG4SGteT5AaYBjJbqHEYMreH4rZiWW3lUuLsINf7LaRUhxg0eDd0r2O3\n",
       "S8T3ryBeCD7mLiGDy0zigJ41yTVdUkmsNEELTbc/z7ld63IVODI/KU3BMtJApzt3JJSP4bNz/Gzq\n",
       "lw59n21gXZ9WEdLFmkKbv03IQDYyOz4G7pm0wAd3VSs9yfaBe3/60JHKtZmYl9IJq9uBxDOO9sGH\n",
       "4koeeFUFdRUA8YPC4p5JC6Av6vLe4GDiRfDVLF1bX0mIOF+qLvN9RhUUf8JIL3ue8dke9uEtk18F\n",
       "LMlM2c0D/KDCAFW8TSBXriAzycgeaNcR9KdU7JT3areDsgYmvwYyEbuON33yrLN/FYUhmPas46zz\n",
       "dwCpOt7CildSaV8CHtACOJkOYIs7OcELj+57y2e8G9QTGFEdf1yI+QELva2unobYcSzk/VPrfIrr\n",
       "VMyIchLtS70DmqufT7zjTrXfktOFGD7ecf+POaZeT4bkDS3vcjA+3LIPiKzj70or8TWqAfEUuIS/\n",
       "qqzA96gGuIqF1/F+GP9D7evwsf9tmMZK8j2qAXuKBHW8M3gT8TWqAWfh+DP+F3CXUgKqfwGKEUBi\n",
       "QDAgmQAAAABJRU5ErkJggg==\n",
       "\" style=\"display:inline;vertical-align:middle;\" /></a><br>"
      ],
      "text/plain": [
       "<IPython.core.display.HTML object>"
      ]
     },
     "metadata": {},
     "output_type": "display_data"
    }
   ],
   "source": [
    "_non_int_delta_b_diff = Forall(\n",
    "        (b, l),\n",
    "        NotInSet(subtract(_delta_b, frac(l, _two_pow_t)),\n",
    "                Integer), \n",
    "        domains=[Set(_b_floor, _b_round), _full_domain],\n",
    "        conditions = [NotEquals(l, zero)])"
   ]
  },
  {
   "cell_type": "code",
   "execution_count": 51,
   "metadata": {},
   "outputs": [
    {
     "data": {
      "text/html": [
       "<strong id=\"_scaled_abs_delta_b_floor_diff_interval\"><a class=\"ProveItLink\" href=\"proofs/_scaled_abs_delta_b_floor_diff_interval/thm_proof.ipynb\">_scaled_abs_delta_b_floor_diff_interval</a> (conjecture with conjecture-based proof):<br></strong> <a class=\"ProveItLink\" href=\"../__pv_it/theorems/61ad1d5541ccb1a1c83bc906a637218e0e19f3970/theorem_expr.ipynb\"><img src=\"data:image/png;base64,iVBORw0KGgoAAAANSUhEUgAAAd8AAAAzCAMAAADhL/InAAAAQlBMVEX///8AAAAAAAAAAAAAAAAA\n",
       "AAAAAAAAAAAAAAAAAAAAAAAAAAAAAAAAAAAAAAAAAAAAAAAAAAAAAAAAAAAAAAAAAACGKEuzAAAA\n",
       "FXRSTlMAq1RmmUTNIjK7EInv3Xbt5cn586+v8jGdAAAACXBIWXMAAA7EAAAOxAGVKw4bAAAHnUlE\n",
       "QVR42u1ciZKjNhBFQuiWkmzC//9qkACjmwYbdspsV+1sacbuBj313dB1f6hF5Mcy+0MlEry1zEl/\n",
       "UrhjJoW8/CbvkPEzCfWt5R34dtxcv/l3yPiR8KrW8vP4KjPyjBk219/oHTJ+HvW0tbxCf/uxwEyh\n",
       "62/1Dhk/jZhmjeUl+BJaYmb662/2Dhk/jIxtLS/BN5axMsP6evd4h4wfZp11a3kJvixyvxszeihT\n",
       "Ihj4uXEieU7GF5BWreUl+Mbud2M2jOwAvA1XqvQ40wrmprWHZHwB2VE2ltfgi0SFGYWHP60oUKkB\n",
       "K95b/jITgVWmzwqxDGotr8FX2wozPEK9I2/4UT4Zbss6GziB4NNwGd9APHaFyfIafHliIjdmcrRA\n",
       "HnTHjUwWAskivnAZX1Ha0K1llX695RJ0lZkAFiD2lJBPZihkFWq7eFKRQ6PWskr/viNToE5WmPXA\n",
       "6MfsqC+Z0tyxgm//oAiLj31jeZF9noSoCjMJuwC+o77S/X0cyvjK8Tk1DhufZQs92u/hO0hbYwYz\n",
       "IEkAnt+WM8GjKuMLNlJfQEK3lvv4MkK1OGrueqKqhwXmHPc0ULjSB6rh62RsEONv1mYtWst9fKct\n",
       "HNC7+UaIrxqPBeBKWQKpl8tEBnkZb/rF3liOpLEEQII+kUuG+Pah16wagNchoJOiSsOO4etk8FWB\n",
       "mfhi9eVxLsjBqeEKiUUfxhd0CWitXfXemitxDF8vgy6/UfiL8cUjbiwBkMgRfxbf3IRYYSaixSxO\n",
       "IEgynOLrZfSL26VfDO9kqXhjCYFEfKDaFwV1Y2wRBmpzAa/IeD4MfP+QxdVML0O7Y2Ng7ZSvTI+y\n",
       "JkwOCUZ4FB/GN+LHqGyEz3LFtz+Ir5NB/Fn+7pE7FWtftMybMBkkroeD3lfgCF8dGcxicMtWfWWz\n",
       "IgN8doyvl8HQ+qNo2VT9zLD0wLM3TkmVGVck4loPfevCSQxOuCw0YVJImFN3PNl0TsXH8DVRAkzL\n",
       "UWGKrzqG7yzD7aPy0bpEaVbGC4UAqRTy+UKfHCeOS3OZsjnHBmEWD4sFWxxf73wPU6KY70JyX+lt\n",
       "xk0YOW4X/N+riuQ7TtnEpaRmo9cRGTPamL32Poqm9cojPEDDmkPJGdgh0d9cQoqvl4Ht6/zg+X9u\n",
       "kRBD8IsuVSBiXHEsmxwJ8F3VjFvbKtVAmMUXEe5A+JfZBLljMohj+KZNGENilfNuj7vvaP45/Y2i\n",
       "adHU3yW+wkfjq0UGfSnPXFAjhHfFrV2EDctkUY5bgO92xc1hXAizOr5hARB5F+YRyKrLDfvc5U2Y\n",
       "BBLpo21nhSYHaN+odDTss2njK8Qc9ssz9nlKfdfozTiltX1ZQV4uWc6QSDr7zZmGc/hCmNXxNVsR\n",
       "aFCzp3Jf0jiLr1h9mTVhUkg8vq6CZKdLsk6VrHob3zi+srYYX61IzMOAftpWHo2v3CQwWu80tRU1\n",
       "36kmzDDp+rf1F8JsMDX/67WOCEd/Tf/6paGWDf/aOOGNl1kTJoVEWZchOdH9vCOSWLgWb6GxLtYu\n",
       "tgJkFpts/ta4+qSzTWFwsI/vIgPxQFGGYHM4LTsc/4ALI31sB7nVWxUMju8+syj3F0XrshidGV9t\n",
       "j9Q3siZMpnLKzgrrNtiNMx5pxcixkv/GeYBEYsjOjH59RhJlZ5RM89miJP9Ncg3vznrq9cHdNUeL\n",
       "t+FiJQbIg7xCaeEVah9fQFKFqS3iu7nf1ejM9jmLQ3BsfjGkuJ9D4p30ZPsZ3VXfydHQ+eHE4AzG\n",
       "9cn0QA1KpPXJYjqGZVFOsT6ZyDDuCPHwl8W6uktV2V4vA6q/AGZMV+yzv15/nP7+ZzlO5fjq7PhG\n",
       "gu+kOr2A1HJ9s0ZNp4gpQxUvMAP1F0ipTa1Kcor4ZjLGzialrFJ8xQTnnMhz+Eq1/oAzq8ZX8/Uu\n",
       "Gc4WqAz5oUws1eH+4CKGzHHQLr5LLK9jx6ojEwJoWJQC5mgkJJBTwDeTQewwb3kTXx3k0/v4MkVH\n",
       "ZYNMni0/4Myq+M7XGx9J1wjPdyW2e+kSim+t1FbYIunT7Ok2A4h0vSJe8935IbAVOQV8azKkcsau\n",
       "Wt+A0QfbyfX8aP3Arq07OR5bxhfvqh4ycxmFd4MuM0MjaBMJVE4JX4CM4fQMLbkRX3rU0vXQZkGp\n",
       "PGsV8Mtm9AGMLPlf2IQQ7CE4M5btM0QG/f1D8DzODfOLxvvRcNI65dB2fWm+XQGDMx/eENu9jsOv\n",
       "sHQB2lcJCfTDMCrEFyaD/+65Dpak4OfGxH7DfLt/xImTnheYQWfPFQXKKeD7pPn2NNUgQAf8xvwz\n",
       "EQ1mCOr39jsakZwQX/Sk51OG2NINwArHeXx71GIGHvDbfUlILCfE91HPl4VNv8Ly4/hil+Kz2vOD\n",
       "PXwYhPZH5AT49o96PvRkBH0W37kImJQxddFl7oVYzannVE6Ar3nYK3TufD8DM77NaSrMDr07oTx6\n",
       "V5ATv3/jae9nOKfAJ/E188wMrTATh1SL8YNyTsj4BkoehafqOnzbzIYbPOMwPu4VhTx+oRm/4f1m\n",
       "ZWbmhpKCwd3jyIrW8jZ8/7yf8Cq6+/2iRWbDDU8CDbR7JCVTThTfjy+nN7wfmD71BdBH3+/NP7rt\n",
       "Lp29YesDGf8DBuZK65/2puQAAAAASUVORK5CYII=\n",
       "\" style=\"display:inline;vertical-align:middle;\" /></a><br>"
      ],
      "text/plain": [
       "<IPython.core.display.HTML object>"
      ]
     },
     "metadata": {},
     "output_type": "display_data"
    }
   ],
   "source": [
    "_scaled_abs_delta_b_floor_diff_interval = Forall(\n",
    "        l,\n",
    "        InSet(Mult(pi, Abs(subtract(_delta_b_floor, frac(l, _two_pow_t)))),\n",
    "              IntervalOC(zero, Div(pi, two))),\n",
    "        domain=_full_domain,\n",
    "        conditions = [NotEquals(l, zero)])"
   ]
  },
  {
   "cell_type": "code",
   "execution_count": 52,
   "metadata": {},
   "outputs": [
    {
     "data": {
      "text/html": [
       "<strong id=\"_pfail_in_real\"><a class=\"ProveItLink\" href=\"proofs/_pfail_in_real/thm_proof.ipynb\">_pfail_in_real</a> (conjecture with conjecture-based proof):<br></strong> <a class=\"ProveItLink\" href=\"../__pv_it/theorems/802775b22ba64573e9fee34e8a3039f930d115430/theorem_expr.ipynb\"><img src=\"data:image/png;base64,iVBORw0KGgoAAAANSUhEUgAAARYAAAAYBAMAAADNHs+4AAAAMFBMVEX///8AAAAAAAAAAAAAAAAA\n",
       "AAAAAAAAAAAAAAAAAAAAAAAAAAAAAAAAAAAAAAAAAAAv3aB7AAAAD3RSTlMAq1RmmUTNIjK7EInv\n",
       "3XZ/CtNrAAAACXBIWXMAAA7EAAAOxAGVKw4bAAADuUlEQVRIx7WWW0gUURjHP13duZi7Gz1lDy0U\n",
       "PXShhRUjIVnSyIpkn3oxYbGHLkRtIKQouYZUkOmiqKyUjiSB+NCqFEQovphQRFIEEq1t5UuWl8oC\n",
       "FbRzncvOGBrTgZnZ858zc377ff/znQGwrwngSkTM8swEvYbZoLUetrV9gqyglf6InF1ecslMGm86\n",
       "LsZ+v2+hugcLO+xASY8TFlfX4ua242aWPaz3OeUxSfBkbukg+hHcP2sHywOgcXGHAO4qqSxyiPWc\n",
       "SipLHKJ1RK/DuYrawVLIWJpQtPcnU1kyfDwpATPLUSfRMWaW1w6WEcYyh/w7F09l2aR2n9PLl0Qi\n",
       "pLJIRHcgXqctdgkxli58RFJZdqndM+R8aloXl5xuqr9MJF7YwZIRZyyLAOKKybsnsGeGp1AW+skS\n",
       "vqDLkdiMDYv0YoCO9RQPnuYqxXqA00dZEIcw5DWx4GiURUQEnEdGhzWWZx8m8TuRfgUEj2HBD1pO\n",
       "5WBuFPcZWG6rqzfbS1lc358OBqG0BGuHoHeesbxGf+cnuNCAvYRF593BfGIcpEuKsUI1oON+yMDR\n",
       "158DM4f5nIpephEn5gxSFmke95Yq8bkRBM4yiu6szOKfTWSWBGpRlqMOP1A9PakyNm5tJSYTZ8cN\n",
       "LAE4CdlgYsGy5knOgssLyCNMlXUsbhr/0/jUq1/T9ZLC9FABd18xN3y6keUX1EZQJasoKioK6liw\n",
       "rLHwHDXh5Vy/7KvODcpdGgvKkZumeR8ZrWfJuBll+gC2dF+Bj1VnC5Z8NOlOhyku+QYWKUlZ5oI0\n",
       "HNtgDGo1lk70JKJEwAfJ7pTUschRPDXWa1Do5AnwyLT65plZAIag4gDz7rcBvQxl/HeWh7JcZqm5\n",
       "Ci3wUGNBvnKEoCdMVzdAucYSAL8UpHoaqktpnmpfJqnS4jkLFvGd5drCspPXLHGcsBxb7aQsruFJ\n",
       "PcsddHz142i8JcO7WxW+Ty+GpbYfXEfGK9wNjvOxWDPU5ViwpNQUMYZaO5XTL3F1ArRvBoTwBjoV\n",
       "HUs2r8QCe3fpvYRhtXId3Ch2It1DPppZhIAQtix/SK5Ru7kGFnkJJpM6FnVLVDfJ1LrNdckLcVZ+\n",
       "Ne/KceijYblVb1VsiaztM1JYY+leCE/5b0xvD/Qs8O+Xdv7UGoVd1eWSAgWqIoxFeLyMEyuOQQOJ\n",
       "x6vVVauniayxIO//7buOV5T2NViMuvwk1qp/+bqabvg1yLL83h2lGaWr2BW2fo+lXvbPLPY3Z3Ij\n",
       "o8Xy/8kC1zcyuNLGif8AycgcJR6IOOgAAAAASUVORK5CYII=\n",
       "\" style=\"display:inline;vertical-align:middle;\" /></a><br>"
      ],
      "text/plain": [
       "<IPython.core.display.HTML object>"
      ]
     },
     "metadata": {},
     "output_type": "display_data"
    }
   ],
   "source": [
    "_pfail_in_real = Forall(e, InSet(Pfail(e), Real), domain=_e_domain)"
   ]
  },
  {
   "cell_type": "markdown",
   "metadata": {},
   "source": [
    "#### *Modulo addition may be converted to regular addition within $2 \\pi i$ exponentiation:*"
   ]
  },
  {
   "cell_type": "code",
   "execution_count": 53,
   "metadata": {},
   "outputs": [
    {
     "data": {
      "text/html": [
       "<strong id=\"_phase_from_best_with_delta_b\"><a class=\"ProveItLink\" href=\"proofs/_phase_from_best_with_delta_b/thm_proof.ipynb\">_phase_from_best_with_delta_b</a> (conjecture with conjecture-based proof):<br></strong> <a class=\"ProveItLink\" href=\"../__pv_it/theorems/63cd2e9348e2b2664a0817e737c9c2dcee0a42810/theorem_expr.ipynb\"><img src=\"data:image/png;base64,iVBORw0KGgoAAAANSUhEUgAAANcAAAAyBAMAAAA92lO3AAAAMFBMVEX///8AAAAAAAAAAAAAAAAA\n",
       "AAAAAAAAAAAAAAAAAAAAAAAAAAAAAAAAAAAAAAAAAAAv3aB7AAAAD3RSTlMAq1RmmUTNIjK7EInv\n",
       "3XZ/CtNrAAAACXBIWXMAAA7EAAAOxAGVKw4bAAAEdElEQVRYw61YTWgTQRR+m90km2z+1JOo2CKI\n",
       "B6UVVBDUBlqLiLQRQbw1LYJ/oPEHFCw0euhFpfUiplaMF/EH2igepKBtEay1CK1/B7USjypqbdXG\n",
       "CK2zOzMbs9m8WakDZWhm531v3vvem/cGQDAuImu+pGi3v4vON9LgYEjVyOIC8f5zFEV97QRsEaZI\n",
       "xlC+exT5xsUWVznAkuPI4jo6eaKYhNt00iJisNZE+TXvEJ3DFZiEIPPDczHYO0xMls5NqPNdT+i8\n",
       "UkgReQBZ3MDm+7iM3U6MrY9ABlkcYXPzl/mYjCbqCfe0COwrcvZQnoXSz3Qv4lnwMGo0i8DGMJcx\n",
       "Ia48BLKY05hSVQKnqTlksYOlDyUOYcza/hk692YF6QPjx2J+wgw0oeS/zHLbqIAfWCQOghlmjaiF\n",
       "aqhHZQFDOpDEqE5xsKT/ISqll0rxTwnIiLAsNG2mal/UkX0GcbBu7Hrh/vQvqrXLZfXDXFPuLOI7\n",
       "A3aZvcBhTN9OVE8NtnNHahN07gfYrM977En7HfMEbjupwBn5ByNKDE7pZ7bXUp3ByGMbNm5OqVCk\n",
       "RAzZ4SEqaPZx4ppEwKps97i4Cv7JEgMRW8hEF0+ZnI8lkJokCgZXCnb8xmKEHPbp+PgIym41Ce5D\n",
       "Xc7CwgSrrCq45hcDI79sAegqwyiaQhWA9rV6LaKMG4N6oz+NgclxKW/++Ijxl5QYh8EbAXUfZ9Hw\n",
       "3UucZwr9foUeHz6r2EYUrC3hypkyx1kSJfHmS2sxWkWp71OxYELr4WIkGiAZkNP68YrHUjrN8kFP\n",
       "/vYpPflC/cbgldlbBjagK6Pz4zH5qyM+l+H0USgGy0IIoKcMWJmTTYE6Yci0gEF8kx4L79MhGiNR\n",
       "M1qZGaOwC2Cr1WeoGf054jVdptWMcGc/Id7rUPQGde0Rk9MaZWMtgbtaQvR+lI058FToMq0EgVai\n",
       "qq9aju8wfurRCtSnceY5uHfNy9Ib4W94T8IC9gAqDZl/p3sj+0tkWyCpRNalUqkKyPTBTUtQb5x9\n",
       "IwjqXuvJtC8ZQ6bxD8sgYe6fMAQqzhjJbUU19PGdLIMqdndoVYzOx+pJn7O8NINQmYYDfzONeKUS\n",
       "TK8nMaCrpIB71HIZB5Llb3GSw/tjJ1/dsyZiJtOSiJnchix49VZs9bxPF8yEzc7fYUcFZhQpAYEB\n",
       "aLG9NBqyRfm8OHXfSqViRZ+/otNn27KROj+QB2ka8tjVxgsIrMgoVGsnkDJPGgUp5x5A79EJLA0U\n",
       "GIeUaLJ5muBEKHLdQQExLCjlkOJTnSzc2Uq2D5HSRl3nnfkPRSppCNTa5NyLVAXzxTb+UaegO1kC\n",
       "3LvocP/A+i7G3NWiVoiZLyxoLOAF1jLRQHNl4DjevebFbHNKR5LkPqIyeB83Nvc21/uirg53huM2\n",
       "V86Ljh0kFUEclXGeVfzih5ADWLOccfJE5M47ecAwxlkkn6lDTsCCLDE8E38awoLogxOwf3hOcvBQ\n",
       "JrAic+hOJ4p5sN68Rby/nT0B7ncCNtfHTQZyzcD8AxUvOqQUCoELAAAAAElFTkSuQmCC\n",
       "\" style=\"display:inline;vertical-align:middle;\" /></a><br>"
      ],
      "text/plain": [
       "<IPython.core.display.HTML object>"
      ]
     },
     "metadata": {},
     "output_type": "display_data"
    }
   ],
   "source": [
    "_phase_from_best_with_delta_b = Forall(\n",
    "    b,\n",
    "    Equals(_phase, Add(frac(b, _two_pow_t), _delta_b)),\n",
    "    domain=Integer)"
   ]
  },
  {
   "cell_type": "code",
   "execution_count": 54,
   "metadata": {},
   "outputs": [
    {
     "data": {
      "text/html": [
       "<strong id=\"_modabs_in_full_domain_simp\"><a class=\"ProveItLink\" href=\"proofs/_modabs_in_full_domain_simp/thm_proof.ipynb\">_modabs_in_full_domain_simp</a> (conjecture with conjecture-based proof):<br></strong> <a class=\"ProveItLink\" href=\"../__pv_it/theorems/4e60ddab0f5da45bc9c316d8a0584d5c28887fa00/theorem_expr.ipynb\"><img src=\"data:image/png;base64,iVBORw0KGgoAAAANSUhEUgAAATUAAAAYBAMAAABpdHdrAAAAMFBMVEX///8AAAAAAAAAAAAAAAAA\n",
       "AAAAAAAAAAAAAAAAAAAAAAAAAAAAAAAAAAAAAAAAAAAv3aB7AAAAD3RSTlMAq1RmmUTNIjK7EInv\n",
       "3XZ/CtNrAAAACXBIWXMAAA7EAAAOxAGVKw4bAAADY0lEQVRIx7WXXWjTUBTHT5sun13s8M2XFZQ+\n",
       "VxgKKltx3dTJoOCboJSBKD6MDgY6qK4Okcn8qA+CGQqBwUCG0gn6oAh982GIFRRksNk5dCLbKMhg\n",
       "uId67k3SJE1aG2ZuILnJ/Sfn13PPOfcWwM/G4aFdW3+DtgwePrdvIKXIVTu30nTlSziP5wjp7vcH\n",
       "LVggtqSvOU9sqEc2OQ7QR55c9IdtVvNDj0e/9RC/wWWAG2SS8/6w9Wq2+j2y9VO2LgBWxQdRf9iK\n",
       "mq1lj2zLlC2sAoPzyvoUbmlqi9v2xoZ6wsYi2PulpQV/2EIFaoupeGNDPWGTMEtPAkw3lI4aZWe6\n",
       "6RfdZeSXo61A/l9sg0ukfdTZUE/YGPT6CHARi+5o3PpWt36dWGz6catsasB42h6ltsJlb35DPWEL\n",
       "YrQKKt6LnfoYXzRU4psOVf5kZInJNpO2fcwpmzeGwilq637GGxvqCRuPUxssk1SI4c2KkqLxq0cL\n",
       "hEpQAitbiMBvluxB5ZDF6tjWG68LXMKFbZ2uC9BGvJQmM3IaIJnTc0tre1LctpgGLplM9ulsAs0+\n",
       "O5tTFqub0weig20dR+bm9wFTdok31NM5JXZeYAWGz3SRsLIxKrcdTMStfnNjc8pqbEKZ2votOdhY\n",
       "ZEvAIGwcd/Eb6mkukAUhi6kgVuCpZsoSTVKJ69W3A/cWog3YnLJztYEItbX13MEmoGwLxnPtbvGG\n",
       "esJGKhAEctRdZ+jYrZypu6vWvejOVi9jfxl5VaK2usiKLz6ZWJk5mAK5+zXIqz+Q7QiyzbqxoZ6w\n",
       "tafMMnlIUZQo34GGbmNPyThq2inlsaLEHWyO0hccNnpfwNwjjUfZPL76EJ5hbIdpXr+FA0zDPRJc\n",
       "q4XtWZiiHTliKahXWvGbQ5at9bqsbKpQ4ItYGIS1PzTegF+E0cON2Xpr2SZjnbPnAvdocqAJ2xyI\n",
       "BXdZzNRnLGwQKPNFpgiBvorGNqY221uae6PQdzRiZwtXqxUXNu7VDk38Oxn+nbvMZBPz9WzoN1b3\n",
       "G5fgMk3YBNvgnGKrvS5NaKm0m2xwHWSaW3gex5KCi84QZNW9kEW2scmbLo7T9PAT1pxjbaVmGwuv\n",
       "bJalrTNx7MLIDkibJ0Ba3bgE8KFa9bqxGd7tzogf8u2vEb/bPfDV/4byF+FgAvwK4q5IAAAAAElF\n",
       "TkSuQmCC\n",
       "\" style=\"display:inline;vertical-align:middle;\" /></a><br>"
      ],
      "text/plain": [
       "<IPython.core.display.HTML object>"
      ]
     },
     "metadata": {},
     "output_type": "display_data"
    }
   ],
   "source": [
    "_modabs_in_full_domain_simp = Forall(l, Equals(ModAbs(l, _two_pow_t), Abs(l)),\n",
    "                                     domain=_full_domain)"
   ]
  },
  {
   "cell_type": "code",
   "execution_count": 55,
   "metadata": {},
   "outputs": [
    {
     "name": "stdout",
     "output_type": "stream",
     "text": [
      "Unable to remove /home/wwitzel/Prove-It/packages/proveit/physics/quantum/QPE/__pv_it/theorems/name_to_hash.txt~.\n",
      "  Skipping clean step (don't worry, it's not critical)\n"
     ]
    },
    {
     "name": "stdout",
     "output_type": "stream",
     "text": [
      "These theorems may now be imported from the theory package: proveit.physics.quantum.QPE\n"
     ]
    }
   ],
   "source": [
    "%end theorems"
   ]
  },
  {
   "cell_type": "code",
   "execution_count": null,
   "metadata": {},
   "outputs": [],
   "source": []
  }
 ],
 "metadata": {
  "kernelspec": {
   "display_name": "Python 3",
   "language": "python",
   "name": "python3"
  }
 },
 "nbformat": 4,
 "nbformat_minor": 0
}