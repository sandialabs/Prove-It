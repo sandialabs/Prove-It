{
 "cells": [
  {
   "cell_type": "markdown",
   "metadata": {},
   "source": [
    "Theorems (or conjectures) for the theory of <a class=\"ProveItLink\" href=\"theory.ipynb\">proveit.physics.quantum.QPE</a>\n",
    "========"
   ]
  },
  {
   "cell_type": "code",
   "execution_count": null,
   "metadata": {},
   "outputs": [],
   "source": [
    "import proveit\n",
    "# 72 cols ==============================================================\n",
    "# Prepare this notebook for defining the theorems of a theory:\n",
    "%theorems_notebook # Keep this at the top following 'import proveit'.\n",
    "from proveit import a, b, e, k, l, m, n, r, t, u, U, eps\n",
    "from proveit import IndexedVar, ExprRange,  Lambda\n",
    "from proveit.linear_algebra import MatrixMult, ScalarMult, SU, TensorProd, VecAdd, VecSum\n",
    "from proveit.logic import Implies, And, Equals, Forall, InSet, NotEquals, NotInSet, SubsetEq, Difference\n",
    "from proveit.numbers import Abs, Add, Neg, subtract, Exp, exp, frac, Mult, Div, sqrt, sqrd, Sum\n",
    "from proveit.numbers import greater, greater_eq, Less, LessEq, Mod\n",
    "from proveit.statistics import Prob\n",
    "from proveit.numbers import zero, one, two, three, four\n",
    "from proveit.numbers import Interval, IntervalCC, IntervalCO, IntervalOO, IntervalOC\n",
    "from proveit.numbers import Integer, IntegerNonZero, IntegerNeg, Natural, NaturalPos, Complex, Real, RealNonNeg\n",
    "from proveit.numbers import i, pi\n",
    "from proveit.physics.quantum import Bra, Ket, Meas, NumKet, Qmult\n",
    "from proveit.physics.quantum import ket0, ket1, inv_root2\n",
    "from proveit.physics.quantum.QPE import (\n",
    "    _u, u_tilde, _n, _t, phase, _phase, _phase_est, phase_est, _m,\n",
    "    _b, _delta, two_pow_t, _two_pow_t, _two_pow_t_minus_one, _alpha_l, _alpha_l_sqrd,\n",
    "    _diff_l_scaled_delta, _full_domain, _full_domain_sans_zero, _neg_domain,\n",
    "    _pos_domain, _e_domain, _U_pow_two_pow_k,\n",
    "    _Psi, _psi, _psi_t, _psi__t, m_ket_domain, two_pow_m,\n",
    "    phase_est_circuit, success_prob_guarantee, t_req)\n",
    "from proveit.physics.quantum.QPE.phase_est_ops import Psuccess, Pfail, ModAdd\n",
    "from proveit.physics.quantum.QPE.phase_est_ops import SubIndexed\n",
    "from proveit.physics.quantum.QFT import InverseFourierTransform\n",
    "from proveit.trigonometry import Sin\n",
    "from IPython.display import display"
   ]
  },
  {
   "cell_type": "code",
   "execution_count": null,
   "metadata": {},
   "outputs": [],
   "source": [
    "%begin theorems"
   ]
  },
  {
   "cell_type": "markdown",
   "metadata": {},
   "source": [
    "#### Some convenience methods for building expressions:"
   ]
  },
  {
   "cell_type": "code",
   "execution_count": null,
   "metadata": {},
   "outputs": [],
   "source": [
    "def exp2pi_i(*exp_factors):\n",
    "    return exp(Mult(*((two, pi, i) + exp_factors)))\n",
    "\n",
    "def exp2pi_i_on_two_pow_t(*exp_factors):\n",
    "    return exp(frac(Mult(*((two, pi, i) + exp_factors)), _two_pow_t))\n",
    "\n",
    "def exp_neg_2pi_i_on_two_pow_t(*exp_factors):\n",
    "    return exp(Neg(frac(Mult(*((two, pi, i) + exp_factors)), _two_pow_t)))\n",
    "\n",
    "display(exp2pi_i(a, b))\n",
    "display(exp2pi_i_on_two_pow_t(a, b))\n",
    "display(exp_neg_2pi_i_on_two_pow_t(a, b))"
   ]
  },
  {
   "cell_type": "markdown",
   "metadata": {},
   "source": [
    "## Local theorems (for convenience - used only internally)"
   ]
  },
  {
   "cell_type": "markdown",
   "metadata": {},
   "source": [
    "#### Take care of number domain issues:"
   ]
  },
  {
   "cell_type": "code",
   "execution_count": null,
   "metadata": {},
   "outputs": [],
   "source": [
    "# t (represented by the Literal _t) denotes\n",
    "# the number of Qbits in the input register\n",
    "# Thus, 2^t is a positive natural number\n",
    "_two_pow_t_is_nat_pos = InSet(_two_pow_t, NaturalPos)"
   ]
  },
  {
   "cell_type": "code",
   "execution_count": null,
   "metadata": {},
   "outputs": [],
   "source": [
    "# t (represented by the Literal _t) denotes\n",
    "# the number of Qbits in the input register\n",
    "_two_pow_t_minus_one_is_nat_pos = InSet(Exp(two, subtract(_t, one)), NaturalPos)"
   ]
  },
  {
   "cell_type": "code",
   "execution_count": null,
   "metadata": {},
   "outputs": [],
   "source": [
    "# t (represented by the Literal _t) denotes\n",
    "# the number of Qbits in the input register\n",
    "_two_pow_t_less_one_is_nat_pos = InSet(subtract(_two_pow_t, one), NaturalPos)"
   ]
  },
  {
   "cell_type": "code",
   "execution_count": null,
   "metadata": {},
   "outputs": [],
   "source": [
    "# t (represented by the Literal _t) denotes\n",
    "# the number of Qbits in the input register\n",
    "_two_pow_t_not_zero = NotEquals(_two_pow_t, zero)"
   ]
  },
  {
   "cell_type": "code",
   "execution_count": null,
   "metadata": {},
   "outputs": [],
   "source": [
    "# The o-plus addition denotes addition modulo 2^t, resulting in an integer\n",
    "_mod_add_closure = Forall((a, b), InSet(ModAdd(a, b), \n",
    "                                        Interval(zero, subtract(Exp(two, _t), one))), \n",
    "                         domain=Integer)"
   ]
  },
  {
   "cell_type": "code",
   "execution_count": null,
   "metadata": {},
   "outputs": [],
   "source": [
    "# The phase phi is in the real interval [0, 1)\n",
    "_phase_is_real = InSet(_phase, Real)"
   ]
  },
  {
   "cell_type": "code",
   "execution_count": null,
   "metadata": {},
   "outputs": [],
   "source": [
    "# the subscripts here should be inside the Kets!\n",
    "_psi_t_expansion = Forall(\n",
    "    t,\n",
    "    Equals(NumKet(_psi, Add(t, one)),\n",
    "           TensorProd(Add(Ket(zero), ScalarMult(Exp(e, Mult(two, pi, _phase, i, Exp(two, t) )) ,Ket(one) )), NumKet(_psi, t))),\n",
    "    domain=NaturalPos)"
   ]
  },
  {
   "cell_type": "code",
   "execution_count": null,
   "metadata": {},
   "outputs": [],
   "source": [
    "psi_prime_expansion = Forall(\n",
    "    t,\n",
    "    Equals(NumKet(_psi, Add(t, one)),\n",
    "           TensorProd(Ket(p_prime_t), NumKet(psi_prime, t))),\n",
    "    domain=NaturalPos)"
   ]
  },
  {
   "cell_type": "code",
   "execution_count": null,
   "metadata": {},
   "outputs": [],
   "source": [
    "# Need variable t instead of literal t\n",
    "# also need linear algebra terms ScalarMult and VecAdd in several places\n",
    "_psi_t_as_tensor_prod = Forall(\n",
    "    t, Equals(\n",
    "        Ket(_psi_t),\n",
    "        Mult(\n",
    "            frac(one, Exp(two, frac(_t, two))),\n",
    "            TensorProd(ExprRange(r, Add(ket0, Mult(exp(Mult(two, pi, i, _phase, Exp(two, Neg(r)))), ket1)), \n",
    "                                 Neg(subtract(_t, one)), zero)))),\n",
    "    domain=NaturalPos)"
   ]
  },
  {
   "cell_type": "code",
   "execution_count": null,
   "metadata": {},
   "outputs": [],
   "source": [
    "# Notice we're using a ScalarMults instead of QMults on the rhs\n",
    "# at least until QMults are automatically simplified to do that instead\n",
    "# -------------------------------------------------------------------------- #\n",
    "# This theorem is meant to capture Nielsen & Chuang's formula 5.20 (pg 222). #\n",
    "# -------------------------------------------------------------------------- #\n",
    "_psi_t_var_formula = Forall(\n",
    "    t, Equals(Ket(_psi_t),\n",
    "              ScalarMult(frac(one, Exp(two, frac(t, two))),\n",
    "                    VecSum(k, ScalarMult(exp(Mult(two, pi, i, _phase, k)), NumKet(k, t)),\n",
    "                           domain=Interval(zero, subtract(Exp(two, t), one))))),\n",
    "    domain=NaturalPos)"
   ]
  },
  {
   "cell_type": "code",
   "execution_count": null,
   "metadata": {},
   "outputs": [],
   "source": [
    "# psi_t_lit_formula with _t (literal _t) instead of variable t\n",
    "# _psi_t_formula = Forall(\n",
    "#     t, Equals(Ket(_psi_t),\n",
    "#               Qmult(frac(one, Exp(two, frac(_t, two))),\n",
    "#                     VecSum(k, Qmult(exp(Mult(two, pi, i, _phase, k)), NumKet(k, _t)),\n",
    "#                            domain=Interval(zero, subtract(Exp(two, _t), one))))),\n",
    "#     domain=NaturalPos)"
   ]
  },
  {
   "cell_type": "code",
   "execution_count": null,
   "metadata": {},
   "outputs": [],
   "source": [
    "# apply an axiomatic definition here (see QPE axioms)\n",
    "_Psi_via_psi = Equals(Ket(_Psi), Qmult(InverseFourierTransform(_t),\n",
    "                                       Ket(_psi__t)))"
   ]
  },
  {
   "cell_type": "code",
   "execution_count": null,
   "metadata": {},
   "outputs": [],
   "source": [
    "_best_is_int = InSet(_b, Integer)"
   ]
  },
  {
   "cell_type": "code",
   "execution_count": null,
   "metadata": {},
   "outputs": [],
   "source": [
    "_pos_domain_in_full_domain = Forall(\n",
    "        e, Forall(l, InSet(l, _full_domain), domain=_pos_domain),\n",
    "        domain=NaturalPos)"
   ]
  },
  {
   "cell_type": "code",
   "execution_count": null,
   "metadata": {},
   "outputs": [],
   "source": [
    "_pos_domain_in_full_domain_sans_zero = Forall(\n",
    "        e, SubsetEq(_pos_domain, _full_domain_sans_zero),\n",
    "        domain=_e_domain)"
   ]
  },
  {
   "cell_type": "code",
   "execution_count": null,
   "metadata": {},
   "outputs": [],
   "source": [
    "_neg_domain_in_full_domain = Forall(\n",
    "        e, Forall(l, InSet(l, _full_domain), domain=_neg_domain),\n",
    "        domain=NaturalPos)"
   ]
  },
  {
   "cell_type": "code",
   "execution_count": null,
   "metadata": {},
   "outputs": [],
   "source": [
    "_neg_domain_in_full_domain_alt = Forall(\n",
    "        e, SubsetEq(_neg_domain, _full_domain),\n",
    "        domain=NaturalPos)"
   ]
  },
  {
   "cell_type": "code",
   "execution_count": null,
   "metadata": {},
   "outputs": [],
   "source": [
    "_neg_domain_in_full_domain_sans_zero = Forall(\n",
    "        e, SubsetEq(_neg_domain, _full_domain_sans_zero),\n",
    "        domain=_e_domain)"
   ]
  },
  {
   "cell_type": "code",
   "execution_count": null,
   "metadata": {},
   "outputs": [],
   "source": [
    "_pos_domain_within_integer = Forall(\n",
    "        e, SubsetEq(_pos_domain, Integer),\n",
    "        domain=_e_domain)"
   ]
  },
  {
   "cell_type": "code",
   "execution_count": null,
   "metadata": {},
   "outputs": [],
   "source": [
    "_neg_domain_within_integer = Forall(\n",
    "        e, SubsetEq(_neg_domain, Integer),\n",
    "        domain=_e_domain)"
   ]
  },
  {
   "cell_type": "code",
   "execution_count": null,
   "metadata": {},
   "outputs": [],
   "source": [
    "_delta_is_real = InSet(_delta, Real)"
   ]
  },
  {
   "cell_type": "markdown",
   "metadata": {},
   "source": [
    "#### This derives from $\\delta$ being the difference between $\\delta$ and its best $t$-bit estimate (without going over):"
   ]
  },
  {
   "cell_type": "code",
   "execution_count": null,
   "metadata": {},
   "outputs": [],
   "source": [
    "_scaled_delta_in_interval = InSet(Mult(_two_pow_t, _delta), IntervalCO(zero, one))"
   ]
  },
  {
   "cell_type": "code",
   "execution_count": null,
   "metadata": {},
   "outputs": [],
   "source": [
    "_success_prob_is_real = Forall(e, InSet(Psuccess(e), Real), domain=NaturalPos)"
   ]
  },
  {
   "cell_type": "code",
   "execution_count": null,
   "metadata": {},
   "outputs": [],
   "source": [
    "_all_alpha_l_is_complex = Forall(l, InSet(_alpha_l, Complex), domain=Integer)"
   ]
  },
  {
   "cell_type": "code",
   "execution_count": null,
   "metadata": {},
   "outputs": [],
   "source": [
    "_all_abs_alpha_l_are_nonneg = Forall(\n",
    "    l, InSet(Abs(_alpha_l), RealNonNeg),\n",
    "    domain=Integer)"
   ]
  },
  {
   "cell_type": "code",
   "execution_count": null,
   "metadata": {},
   "outputs": [],
   "source": [
    "_all_abs_alpha_l_sqrd_are_real = Forall(\n",
    "    l, InSet(Exp(Abs(_alpha_l), two), Real),\n",
    "    domain=Integer)"
   ]
  },
  {
   "cell_type": "markdown",
   "metadata": {},
   "source": [
    "#### Follows from scaled_delta_in_interval:"
   ]
  },
  {
   "cell_type": "code",
   "execution_count": null,
   "metadata": {},
   "outputs": [],
   "source": [
    "_scaled_delta_not_eq_nonzeroInt = Forall(\n",
    "        l, NotEquals(Mult(_two_pow_t, _delta), l),\n",
    "        domain=Integer, conditions = [NotEquals(l, zero)])"
   ]
  },
  {
   "cell_type": "code",
   "execution_count": null,
   "metadata": {},
   "outputs": [],
   "source": [
    "_delta_not_eq_scaledNonzeroInt = Forall(\n",
    "        l, NotEquals(_delta, frac(l, _two_pow_t)),\n",
    "        domain=Integer, conditions = [NotEquals(l, zero)])"
   ]
  },
  {
   "cell_type": "code",
   "execution_count": null,
   "metadata": {},
   "outputs": [],
   "source": [
    "_delta_diff_in_interval = Forall(\n",
    "        l,\n",
    "        InSet(subtract(_delta, frac(l, _two_pow_t)),\n",
    "              IntervalCO(Neg(frac(one, two)), frac(one, two))),\n",
    "        domain=_full_domain)"
   ]
  },
  {
   "cell_type": "code",
   "execution_count": null,
   "metadata": {},
   "outputs": [],
   "source": [
    "_scaled_delta_diff_in_interval = Forall(\n",
    "        l,\n",
    "        InSet(Mult(two, pi, subtract(_delta, frac(l, _two_pow_t))),\n",
    "              IntervalCC(Neg(pi), pi)),\n",
    "        domain=_full_domain)"
   ]
  },
  {
   "cell_type": "code",
   "execution_count": null,
   "metadata": {},
   "outputs": [],
   "source": [
    "_non_int_delta_diff = Forall(\n",
    "        l,\n",
    "        NotInSet(subtract(_delta, frac(l, _two_pow_t)),\n",
    "                Integer), \n",
    "        domain=_full_domain,\n",
    "        conditions = [NotEquals(l, zero)])"
   ]
  },
  {
   "cell_type": "code",
   "execution_count": null,
   "metadata": {},
   "outputs": [],
   "source": [
    "# use alternative below instead of this one?\n",
    "# Notice the condition in the alternate that l ≠ 0\n",
    "_scaled_abs_delta_diff_interval = Forall(\n",
    "        l,\n",
    "        InSet(Mult(pi, Abs(subtract(_delta, frac(l, _two_pow_t)))),\n",
    "              IntervalOC(zero, Div(pi, two))),\n",
    "        domain=_full_domain)"
   ]
  },
  {
   "cell_type": "code",
   "execution_count": null,
   "metadata": {},
   "outputs": [],
   "source": [
    "_scaled_abs_delta_diff_interval_alt = Forall(\n",
    "        l,\n",
    "        InSet(Mult(pi, Abs(subtract(_delta, frac(l, _two_pow_t)))),\n",
    "              IntervalOC(zero, Div(pi, two))),\n",
    "        domain=_full_domain,\n",
    "        conditions = [NotEquals(l, zero)])"
   ]
  },
  {
   "cell_type": "markdown",
   "metadata": {},
   "source": [
    "#### *Success probability as sum of individual success event probabilities:*"
   ]
  },
  {
   "cell_type": "code",
   "execution_count": null,
   "metadata": {},
   "outputs": [],
   "source": [
    "_m_from_meas = Equals(_m, Meas(Ket(_Psi)))"
   ]
  },
  {
   "cell_type": "code",
   "execution_count": null,
   "metadata": {},
   "outputs": [],
   "source": [
    "_phase_est_from_meas = Equals(Mult(_two_pow_t, _phase_est), \n",
    "                              Meas(Ket(_Psi)))"
   ]
  },
  {
   "cell_type": "code",
   "execution_count": null,
   "metadata": {},
   "outputs": [],
   "source": [
    "# don't yet know what's happening here — steps are all working but something still missing\n",
    "# What is now missing? Appears to be an issue with m vs. 2^t phi — HC\n",
    "# _success_sum = Forall(\n",
    "#         e,\n",
    "#         greater_eq(Psuccess(e),\n",
    "#                   Sum(l, Prob(Equals(Mult(_two_pow_t, _phase_est), ModAdd(_b, l)), \n",
    "#                               _phase_est), \n",
    "#                       domain=Interval(Neg(e), e))),\n",
    "#         domain=NaturalPos)"
   ]
  },
  {
   "cell_type": "code",
   "execution_count": null,
   "metadata": {},
   "outputs": [],
   "source": [
    "# REWRITING: Now modifying to put back the m instead of 2^t phi\n",
    "_success_sum = Forall(\n",
    "        e,\n",
    "        greater_eq(Psuccess(e),\n",
    "                  Sum(l, Prob(Equals(_m, ModAdd(_b, l)), \n",
    "                              _m), \n",
    "                      domain=Interval(Neg(e), e))),\n",
    "        domain=NaturalPos)"
   ]
  },
  {
   "cell_type": "markdown",
   "metadata": {},
   "source": [
    "#### *Failure probability as sum of individual failure event probabilities in terms of $\\alpha_l$, amplitude of $\\lvert \\Psi \\rangle$ for a state specified relative to $b$ (the best outcome state):*"
   ]
  },
  {
   "cell_type": "code",
   "execution_count": null,
   "metadata": {},
   "outputs": [],
   "source": [
    "_fail_sum = Forall(\n",
    "        e,\n",
    "        LessEq(Pfail(e),\n",
    "               Add(Sum(l, _alpha_l_sqrd, domain=_neg_domain),\n",
    "                   Sum(l, _alpha_l_sqrd, domain=_pos_domain))),\n",
    "        domain=_e_domain)"
   ]
  },
  {
   "cell_type": "markdown",
   "metadata": {},
   "source": [
    "#### *Modulo addition may be converted to regular addition within $2 \\pi i$ exponentiation:*"
   ]
  },
  {
   "cell_type": "code",
   "execution_count": null,
   "metadata": {},
   "outputs": [],
   "source": [
    "_exp2pi_i_modadd = Forall(\n",
    "        (a, b),\n",
    "        Equals(exp2pi_i_on_two_pow_t(ModAdd(a, b)), \n",
    "               exp2pi_i_on_two_pow_t(Add(a, b))),\n",
    "        domain=Integer)"
   ]
  },
  {
   "cell_type": "markdown",
   "metadata": {},
   "source": [
    "#### *Direct evaluation of $\\alpha_l$ (via an intermediate step first):*"
   ]
  },
  {
   "cell_type": "code",
   "execution_count": null,
   "metadata": {},
   "outputs": [],
   "source": [
    "_alpha_l_eval = Forall(\n",
    "        l,\n",
    "        Equals(_alpha_l,\n",
    "               Mult(frac(one, _two_pow_t),\n",
    "                   Sum(k, Mult(exp_neg_2pi_i_on_two_pow_t(k, ModAdd(_b, l)),\n",
    "                               exp2pi_i(_phase, k)),\n",
    "                       domain=Interval(zero, subtract(_two_pow_t, one))))),\n",
    "        domain=Integer)"
   ]
  },
  {
   "cell_type": "markdown",
   "metadata": {},
   "source": [
    "#### *Evaluation of $\\alpha_l$ after performing the geometric series summation in terms of $\\delta$:*"
   ]
  },
  {
   "cell_type": "code",
   "execution_count": null,
   "metadata": {},
   "outputs": [],
   "source": [
    "_phase_from_best = Equals(_phase, Add(frac(_b, _two_pow_t), _delta))"
   ]
  },
  {
   "cell_type": "code",
   "execution_count": null,
   "metadata": {},
   "outputs": [],
   "source": [
    "_scaled_delta_minus_l__in__real = Forall(l, InSet(subtract(Mult(_two_pow_t, _delta), l), Real),\n",
    "                                         domain = Integer)"
   ]
  },
  {
   "cell_type": "code",
   "execution_count": null,
   "metadata": {},
   "outputs": [],
   "source": [
    "_delta_diff_exp_not_one = Forall(\n",
    "    l,\n",
    "    NotEquals(exp2pi_i(subtract(_delta, frac(l, _two_pow_t))),\n",
    "          one),\n",
    "    domain=_full_domain,\n",
    "    conditions = [NotEquals(l, zero)])"
   ]
  },
  {
   "cell_type": "code",
   "execution_count": null,
   "metadata": {},
   "outputs": [],
   "source": [
    "_alpha_l_summed = Forall(\n",
    "    l,\n",
    "    Equals(_alpha_l,\n",
    "           Mult(frac(one, _two_pow_t),\n",
    "                    frac(subtract(one, exp2pi_i(subtract(Mult(_two_pow_t, _delta), l))),\n",
    "                         subtract(one, exp2pi_i(subtract(_delta, frac(l, _two_pow_t))))))),\n",
    "    domain=_full_domain,\n",
    "    conditions = [NotEquals(l, zero)])"
   ]
  },
  {
   "cell_type": "code",
   "execution_count": null,
   "metadata": {},
   "outputs": [],
   "source": [
    "_alpha_l_summed_abs = Forall(\n",
    "    l,\n",
    "    Equals(Abs(_alpha_l),\n",
    "           frac(Abs(subtract(one,\n",
    "                             exp(Mult(two,pi,i,\n",
    "                                      subtract(Mult(_two_pow_t,_delta),l))))),\n",
    "                Mult(_two_pow_t,\n",
    "                     two,\n",
    "                     Sin(Mult(pi, Abs(subtract(_delta, frac(l, _two_pow_t)))))))),\n",
    "    domain=_full_domain,\n",
    "    conditions = [NotEquals(l, zero)])"
   ]
  },
  {
   "cell_type": "markdown",
   "metadata": {},
   "source": [
    "#### *$| \\alpha_l |^2$ inequality to bound the failure probability:*"
   ]
  },
  {
   "cell_type": "code",
   "execution_count": null,
   "metadata": {},
   "outputs": [],
   "source": [
    "_l_non_zero = Forall(l, InSet(l, IntegerNonZero), domain=_full_domain_sans_zero)"
   ]
  },
  {
   "cell_type": "code",
   "execution_count": null,
   "metadata": {},
   "outputs": [],
   "source": [
    "_alpha_l_sqrd_ineq = Forall(\n",
    "    l,\n",
    "    LessEq(_alpha_l_sqrd,\n",
    "           frac(one,\n",
    "                Mult(four, Exp(_diff_l_scaled_delta, two)))),\n",
    "    domain=_full_domain_sans_zero)"
   ]
  },
  {
   "cell_type": "markdown",
   "metadata": {},
   "source": [
    "#### *A bound on the failure probability:*"
   ]
  },
  {
   "cell_type": "code",
   "execution_count": null,
   "metadata": {},
   "outputs": [],
   "source": [
    "_pos_domain_within_natpos = Forall(e, SubsetEq(_pos_domain, NaturalPos), domain=_e_domain)"
   ]
  },
  {
   "cell_type": "code",
   "execution_count": null,
   "metadata": {},
   "outputs": [],
   "source": [
    "_neg_domain_within_negint = Forall(e, SubsetEq(_neg_domain, IntegerNeg), domain=_e_domain)"
   ]
  },
  {
   "cell_type": "code",
   "execution_count": null,
   "metadata": {},
   "outputs": [],
   "source": [
    "_fail_ineq_lemma = Forall(\n",
    "    e,\n",
    "    LessEq(Pfail(e), \n",
    "           Mult(frac(one, four), \n",
    "                Add(Sum(l, frac(one, sqrd(_diff_l_scaled_delta)), domain=_neg_domain),\n",
    "                    Sum(l, frac(one, sqrd(_diff_l_scaled_delta)), domain=_pos_domain)))), \n",
    "    domain=_e_domain)"
   ]
  },
  {
   "cell_type": "code",
   "execution_count": null,
   "metadata": {},
   "outputs": [],
   "source": [
    "_fail_ineq = Forall(\n",
    "    e,\n",
    "    LessEq(Pfail(e), Mult(frac(one,two), Add(frac(one,e),\n",
    "                                             frac(one, Exp(e, two))))), \n",
    "    domain=_e_domain)"
   ]
  },
  {
   "cell_type": "markdown",
   "metadata": {},
   "source": [
    "### The externally usable theorems (as opposed to local theorems)"
   ]
  },
  {
   "cell_type": "code",
   "execution_count": null,
   "metadata": {},
   "outputs": [],
   "source": [
    "qpe_quarantee = Forall(\n",
    "    eps, Forall(\n",
    "        (m, n, t), Forall(\n",
    "            U, Forall(\n",
    "                (u, u_tilde), Forall(\n",
    "                    (phase, phase_est),\n",
    "                    Implies(phase_est_circuit,\n",
    "                            success_prob_guarantee)\n",
    "                    .with_wrap_before_operator(),\n",
    "                    domain=Real,\n",
    "                    condition=Equals(Qmult(U, Ket(u)),\n",
    "                                     exp2pi_i(phase))),\n",
    "                domain=m_ket_domain),\n",
    "            domain=SU(two_pow_m)),\n",
    "        domain=NaturalPos,\n",
    "        condition=Equals(t, t_req)),\n",
    "    domain=IntervalOO(zero, one))"
   ]
  },
  {
   "cell_type": "code",
   "execution_count": null,
   "metadata": {},
   "outputs": [],
   "source": [
    "qpe_eigenvec = Forall(\n",
    "    [m, t], Forall(\n",
    "        U, Forall(\n",
    "            [u, u_tilde], Forall(\n",
    "                (phase, phase_est),\n",
    "                Implies(phase_est_circuit,\n",
    "                        Equals(Ket(u), Ket(u_tilde)))\n",
    "                .with_wrap_before_operator(),\n",
    "                domain=Real,\n",
    "                condition=Equals(Qmult(U, Ket(u)),\n",
    "                                 exp2pi_i(phase))),\n",
    "            domain=m_ket_domain),\n",
    "        domain=SU(two_pow_m)),\n",
    "    domain=NaturalPos)"
   ]
  },
  {
   "cell_type": "code",
   "execution_count": null,
   "metadata": {},
   "outputs": [],
   "source": [
    "%end theorems"
   ]
  }
 ],
 "metadata": {
  "kernelspec": {
   "display_name": "Python 3",
   "language": "python",
   "name": "python3"
  }
 },
 "nbformat": 4,
 "nbformat_minor": 0
}
