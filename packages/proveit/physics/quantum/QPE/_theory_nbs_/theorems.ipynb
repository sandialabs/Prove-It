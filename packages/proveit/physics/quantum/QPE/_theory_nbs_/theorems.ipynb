{
 "cells": [
  {
   "cell_type": "markdown",
   "metadata": {},
   "source": [
    "Theorems (or conjectures) for the theory of <a class=\"ProveItLink\" href=\"theory.ipynb\">proveit.physics.quantum.QPE</a>\n",
    "========"
   ]
  },
  {
   "cell_type": "code",
   "execution_count": null,
   "metadata": {},
   "outputs": [],
   "source": [
    "import proveit\n",
    "# Prepare this notebook for defining the theorems of a theory:\n",
    "%theorems_notebook # Keep this at the top following 'import proveit'.\n",
    "from proveit import a, b, e, k, l, m, n, r, s, t, u, U, eps\n",
    "from proveit import IndexedVar, ExprRange,  Lambda\n",
    "from proveit.logic import (\n",
    "    Implies, And, Or, Equals, Forall, Exists, Set, InSet, InClass, NotEquals, NotInSet,\n",
    "    SubsetEq, Difference, Set, SetOfAll, Disjoint, Bijections)\n",
    "from proveit.numbers import (\n",
    "    zero, one, two, three, four, pi, i,\n",
    "    Abs, Add, Complex, Div, Exp, exp, exp2pi_i, sqrd, frac, greater, greater_eq,\n",
    "    Integer, IntegerNonZero, IntegerNeg, Interval, IntervalCC, IntervalCO,\n",
    "    number_ordering,\n",
    "    IntervalOC, IntervalOO, Less, LessEq, Mod, ModAbs, Round, Mult, Natural,\n",
    "    NaturalPos, Neg, Real, RealNonNeg, sqrd, sqrt, subtract, Sum)\n",
    "from proveit.linear_algebra import (\n",
    "    MatrixMult, Norm, ScalarMult, TensorProd, Unitary, VecAdd, VecSum)\n",
    "from proveit.statistics import Prob, ProbOfAll, SampleSpaces\n",
    "from proveit.physics.quantum import Bra, Meas, NumBra, NumKet, Qmult, QubitRegisterSpace\n",
    "from proveit.physics.quantum import inv_root2, ket0, ket1, normalized_var_ket_u, var_ket_u \n",
    "from proveit.physics.quantum.QPE import (\n",
    "    _alpha, _alpha_l, _alpha_bl, _alpha_l_sqrd, _alpha_m, _alpha_m_sqrd, _rel_indexed_alpha,\n",
    "    _b, _b_floor, _b_round, _delta, _delta_b, _delta_b_floor, _delta_b_round,\n",
    "    _diff_l_scaled_delta_floor, _e_domain, _eps, _full_domain,\n",
    "    _ideal_phase_cond, _ket_u, _m_domain, _n, _n_ge_two,\n",
    "    _neg_domain, _Omega, phase, _phase, _phase_est, phase_est, _phase_in_interval,\n",
    "    _phase_circuit, _phase_est_circuit, _phase_est_circuit_b_r, _pos_domain, _Psi_ket, _psi,\n",
    "    _Psi_register_meas, _psi_t_circuit, _Psi_circuit, _psi_t_ket, _s,\n",
    "    _s_in_nat_pos, s_ket_domain, _sample_space, _success_cond, _t,\n",
    "    _t_in_natural_pos, _t_req, two_pow_s, two_pow_t, _two_pow_t, _U, _U_pow_two_pow_k\n",
    "    )\n",
    "from proveit.physics.quantum.QPE.phase_est_ops import (\n",
    "    exp2pi_i_on_two_pow_t, exp_neg_2pi_i_on_two_pow_t, ModAdd, Psuccess, Pfail, SubIndexed )\n",
    "from proveit.physics.quantum.QFT import InverseFourierTransform\n",
    "from proveit.trigonometry import Sin\n",
    "from IPython.display import display"
   ]
  },
  {
   "cell_type": "code",
   "execution_count": null,
   "metadata": {},
   "outputs": [],
   "source": [
    "%begin theorems"
   ]
  },
  {
   "cell_type": "markdown",
   "metadata": {},
   "source": [
    "## The main theorems: QPE circuit output\n",
    "\n",
    "These main theorems are proven using the \"local theorems\" below via \"literal generalization\" in which we convert literals to variables and eliminate extraneous theorem/axiom dependencies.  That is, local definitions (e.g., definitions for $t$, $U$, $\\oplus$, $P_{\\textrm fail}$, etc. in the axioms notebook) are used for convenience to prove local theorems but are formally eliminated to prove these statements that quantify over $t$, $U$, etc. and become logically independent of the local definitions."
   ]
  },
  {
   "cell_type": "code",
   "execution_count": null,
   "metadata": {},
   "outputs": [],
   "source": [
    "qpe_exact = Forall(\n",
    "    (s, t), Forall(\n",
    "        U, Forall(\n",
    "            var_ket_u, Forall(\n",
    "                phase,\n",
    "                Equals(Prob(_phase_circuit.literals_as_variables(_s, _t, _U, _ket_u, _phase)), one),\n",
    "                domain=Real,\n",
    "                conditions=[_ideal_phase_cond.literals_as_variables(_t, _phase), \n",
    "                            Equals(MatrixMult(U, var_ket_u),\n",
    "                                   ScalarMult(exp2pi_i(phase), var_ket_u))]).with_wrapping(),\n",
    "            domain=s_ket_domain, condition=normalized_var_ket_u),\n",
    "        domain=Unitary(two_pow_s)),\n",
    "    domain=NaturalPos)"
   ]
  },
  {
   "cell_type": "code",
   "execution_count": null,
   "metadata": {},
   "outputs": [],
   "source": [
    "from proveit.physics.quantum.QPE import _phase_est_circuit_b_r\n",
    "qpe_best_guarantee = Forall(\n",
    "    (s, t), Forall(\n",
    "        U, Forall(\n",
    "            var_ket_u, Forall(\n",
    "                phase,\n",
    "                greater(Prob(_phase_est_circuit_b_r.literals_as_variables(_s, _t, _U, _ket_u, _phase)),\n",
    "                           frac(four, Exp(pi, two))),\n",
    "                domain=Real,\n",
    "                conditions=[_phase_in_interval.literals_as_variables(_phase),\n",
    "                            Equals(MatrixMult(U, var_ket_u),\n",
    "                                   ScalarMult(exp2pi_i(phase), var_ket_u))]).with_wrapping(),\n",
    "            domain=s_ket_domain, condition=normalized_var_ket_u),\n",
    "        domain=Unitary(two_pow_s)),\n",
    "    domain=NaturalPos)"
   ]
  },
  {
   "cell_type": "code",
   "execution_count": null,
   "metadata": {},
   "outputs": [],
   "source": [
    "qpe_precision_guarantee = Forall(\n",
    "    eps, Forall(\n",
    "        (s, n), Forall(\n",
    "            (U, var_ket_u, phase), \n",
    "            Forall(\n",
    "                t, greater_eq(\n",
    "                    ProbOfAll(m, _phase_est_circuit.literals_as_variables(_s, _t, _U, _ket_u, _phase),\n",
    "                              domain=_m_domain.literals_as_variables(_t), \n",
    "                              condition=_success_cond.literals_as_variables(_t, _n, _phase))\n",
    "                    .with_wrapping(), \n",
    "                    subtract(one, _eps.as_variable())),\n",
    "                domain=NaturalPos,\n",
    "                condition=_t_req.literals_as_variables(_t, _n, _eps)).with_wrapping(),\n",
    "            domains=(Unitary(two_pow_s), s_ket_domain, Real),\n",
    "            conditions=[_phase_in_interval.literals_as_variables(_phase),\n",
    "                        normalized_var_ket_u,\n",
    "                        Equals(MatrixMult(U, var_ket_u),\n",
    "                               ScalarMult(exp2pi_i(phase), var_ket_u))]).with_wrapping(),\n",
    "        domain=NaturalPos, condition=_n_ge_two.literals_as_variables(_n)),\n",
    "    domain=IntervalOC(zero, one))"
   ]
  },
  {
   "cell_type": "code",
   "execution_count": null,
   "metadata": {},
   "outputs": [],
   "source": [
    "main_theorems_combined = And(qpe_exact, qpe_best_guarantee, qpe_precision_guarantee).with_wrapping_at(1, 3)"
   ]
  },
  {
   "cell_type": "markdown",
   "metadata": {},
   "source": [
    "## Local theorems (for convenience - used only internally)"
   ]
  },
  {
   "cell_type": "markdown",
   "metadata": {},
   "source": [
    "### Match quantum circuit outputs with definitions for $|\\psi_t \\rangle$ and $|\\Psi\\rangle$."
   ]
  },
  {
   "cell_type": "markdown",
   "metadata": {},
   "source": [
    "For the `_psi_t_output` theorem below, the initial-stage circuit output $\\lvert \\psi_{t} \\rangle$ is defined in the QPE axioms as\n",
    "\n",
    "$\\lvert \\psi_{t} \\rangle = (\\frac{1}{\\sqrt{2}}(\\lvert 0 \\rangle + e^{2\\pi i 2^{t-1}}\\lvert 1 \\rangle)) \\otimes (\\frac{1}{\\sqrt{2}}(\\lvert 0 \\rangle + e^{2\\pi i 2^{t-2}}\\lvert 1 \\rangle)) \\otimes \\cdots \\otimes (\\frac{1}{\\sqrt{2}}(\\lvert 0 \\rangle + e^{2\\pi i 2^{0}}\\lvert 1 \\rangle))$"
   ]
  },
  {
   "cell_type": "code",
   "execution_count": null,
   "metadata": {},
   "outputs": [],
   "source": [
    "_psi_t_output = Forall(t, Equals(Prob(_psi_t_circuit.literals_as_variables(_t)), one), \n",
    "                       domain=NaturalPos)"
   ]
  },
  {
   "cell_type": "markdown",
   "metadata": {},
   "source": [
    "For the `_Psi_output` theorem below, the circuit output $\\lvert \\Psi \\rangle$ is defined in the QPE axioms as the result of the inverse quantum Fourier transform applied to the initial-stage output $\\lvert \\psi \\rangle$:\n",
    "\n",
    "$\\lvert \\Psi \\rangle = \\text{FT}^{\\dagger} \\lvert \\psi \\rangle$"
   ]
  },
  {
   "cell_type": "code",
   "execution_count": null,
   "metadata": {},
   "outputs": [],
   "source": [
    "_Psi_output = Equals(Prob(_Psi_circuit), one)"
   ]
  },
  {
   "cell_type": "markdown",
   "metadata": {},
   "source": [
    "### Establish the probabilistic sample space $\\Omega$ of measurement outcomes."
   ]
  },
  {
   "cell_type": "code",
   "execution_count": null,
   "metadata": {},
   "outputs": [],
   "source": [
    "_sample_space_bijection = (\n",
    "    InSet(Lambda(_sample_space.instance_param, _sample_space.instance_expr), \n",
    "          Bijections(_sample_space.domain, _Omega)))"
   ]
  },
  {
   "cell_type": "code",
   "execution_count": null,
   "metadata": {},
   "outputs": [],
   "source": [
    "_outcome_prob = Forall(\n",
    "    m, Equals(Prob(_phase_est_circuit), sqrd(Abs(SubIndexed(_alpha, m)))),\n",
    "    domain=_m_domain)"
   ]
  },
  {
   "cell_type": "code",
   "execution_count": null,
   "metadata": {},
   "outputs": [],
   "source": [
    "_Omega_is_sample_space = InClass(_Omega, SampleSpaces)"
   ]
  },
  {
   "cell_type": "markdown",
   "metadata": {},
   "source": [
    "### Simplify  $|\\psi_t \\rangle$ and evaluate $\\alpha_l \\equiv \\lvert b \\oplus l \\rangle$ as the amplitudes of $\\lvert \\Psi \\rangle$ relative to the $t$-bit estimate of $2^t \\varphi$, $b$."
   ]
  },
  {
   "cell_type": "markdown",
   "metadata": {},
   "source": [
    "This `_psi_t_var_formula` theorem corresponds to Nielsen & Chuang's (2010) formula 5.20 (pg 222)."
   ]
  },
  {
   "cell_type": "code",
   "execution_count": null,
   "metadata": {},
   "outputs": [],
   "source": [
    "# Notice we're using a ScalarMults instead of QMults on the rhs\n",
    "# at least until QMults are automatically simplified to do that instead\n",
    "_psi_t_var_formula = Forall(\n",
    "    t, Equals(_psi_t_ket,\n",
    "              ScalarMult(frac(one, Exp(two, frac(t, two))),\n",
    "                    VecSum(k, ScalarMult(exp(Mult(two, pi, i, _phase, k)), NumKet(k, t)),\n",
    "                           domain=Interval(zero, subtract(Exp(two, t), one))))),\n",
    "    domain=NaturalPos)"
   ]
  },
  {
   "cell_type": "markdown",
   "metadata": {},
   "source": [
    "The following `_alpha_m_evaluation` theorem gives an evaluation formula for the amplitude of the possible measurement outcome $\\lvert m \\rangle$. This is a step _between_ Nielsen & Chuang's formulas 5.23 and 5.24 (pg 223), from which we are then able to derive a formula analogous to their formula 5.24. We don't explicitly derive a separate theorem analogous to Nielsen & Chuang's formula 5.23; instead we prove the `_alpha_m_evaluation` theorem via the application of the inverse quantum Fourier transform to the result in the `_psi_t_var_formula` theorem."
   ]
  },
  {
   "cell_type": "code",
   "execution_count": null,
   "metadata": {},
   "outputs": [],
   "source": [
    "_alpha_m_evaluation = Forall(\n",
    "        m,\n",
    "        Equals(_alpha_m,\n",
    "               Mult(frac(one, _two_pow_t),\n",
    "                   Sum(k, Mult(exp_neg_2pi_i_on_two_pow_t(k, m),\n",
    "                               exp2pi_i(_phase, k)),\n",
    "                       domain=Interval(zero, subtract(_two_pow_t, one))))),\n",
    "        domain=_m_domain)"
   ]
  },
  {
   "cell_type": "markdown",
   "metadata": {},
   "source": [
    "The `_alpha_ideal_case` theorem:<br/>\n",
    "When the scaled phase $2^{t} \\varphi$ can be represented in $t$ (or fewer) bits (what Nielsen & Chuang called \"the ideal case\"),<br/> the probability amplitude $\\alpha_{m}$ of measurement $m = 2^{t}\\varphi$ is $1$."
   ]
  },
  {
   "cell_type": "code",
   "execution_count": null,
   "metadata": {},
   "outputs": [],
   "source": [
    "_alpha_ideal_case = (\n",
    "    Implies(_ideal_phase_cond, Equals(SubIndexed(_alpha, Mult(_two_pow_t, _phase)), one)))"
   ]
  },
  {
   "cell_type": "code",
   "execution_count": null,
   "metadata": {},
   "outputs": [],
   "source": [
    "from proveit.physics.quantum.QPE import _alpha_m_mod_two_pow_t\n",
    "_alpha_m_mod_evaluation = (\n",
    "    Forall(\n",
    "        m,\n",
    "        Equals(_alpha_m_mod_two_pow_t,\n",
    "               Mult(frac(one, _two_pow_t),\n",
    "                   Sum(k, Mult(exp_neg_2pi_i_on_two_pow_t(k, m),\n",
    "                               exp2pi_i(_phase, k)),\n",
    "                       domain=Interval(zero, subtract(_two_pow_t, one))))),\n",
    "        domain=Integer))"
   ]
  },
  {
   "cell_type": "code",
   "execution_count": null,
   "metadata": {},
   "outputs": [],
   "source": [
    "from proveit.physics.quantum.QPE import _alpha_m_mod_two_pow_t\n",
    "_alpha_m_mod_as_geometric_sum = (\n",
    "    Forall(\n",
    "        m,\n",
    "        Equals(_alpha_m_mod_two_pow_t,\n",
    "               Mult(frac(one, _two_pow_t),\n",
    "                   Sum(k, Exp(exp2pi_i(subtract(_phase, frac(m, _two_pow_t))), k),\n",
    "                       domain=Interval(zero, subtract(_two_pow_t, one))))),\n",
    "        domain=Integer))"
   ]
  },
  {
   "cell_type": "code",
   "execution_count": null,
   "metadata": {},
   "outputs": [],
   "source": [
    "# Lower bound on the probability of obtaining the rounding-based best estimate b_r,\n",
    "# assuming delta ≠ 0 (i.e. assuming the non-exact case)\n",
    "_best_guarantee_delta_nonzero = (\n",
    "        Implies(NotEquals(_delta_b_round, zero),\n",
    "                greater(sqrd(Abs(SubIndexed(_alpha, Mod(_b_round, _two_pow_t)))),\n",
    "                           frac(four, Exp(pi, two)))))"
   ]
  },
  {
   "cell_type": "code",
   "execution_count": null,
   "metadata": {},
   "outputs": [],
   "source": [
    "_best_guarantee = (\n",
    "        greater(sqrd(Abs(SubIndexed(_alpha, Mod(Round(Mult(_two_pow_t, _phase)), _two_pow_t)))),\n",
    "                frac(four, Exp(pi, two))))"
   ]
  },
  {
   "cell_type": "markdown",
   "metadata": {},
   "source": [
    "#### *Evaluation of $\\alpha_l$ after performing the geometric series summation in terms of $\\delta$:*"
   ]
  },
  {
   "cell_type": "markdown",
   "metadata": {},
   "source": [
    "The `_alpha_summed` theorem corresponds to Nielsen & Chuang's formula 5.26 (pg 224)."
   ]
  },
  {
   "cell_type": "code",
   "execution_count": null,
   "metadata": {},
   "outputs": [],
   "source": [
    "_alpha_summed = Forall(\n",
    "    (b, l),\n",
    "    Equals(SubIndexed(_alpha, ModAdd(b, l)),\n",
    "           Mult(frac(one, _two_pow_t),\n",
    "                    frac(subtract(one, exp2pi_i(subtract(Mult(_two_pow_t, _delta_b), l))),\n",
    "                         subtract(one, exp2pi_i(subtract(_delta_b, frac(l, _two_pow_t))))))),\n",
    "    domains=[Set(_b_floor, _b_round), _full_domain],\n",
    "    conditions = [NotEquals(l, zero)])"
   ]
  },
  {
   "cell_type": "markdown",
   "metadata": {},
   "source": [
    "### Compute the probability of failure with a measurement beyond $e$ units away from $b$."
   ]
  },
  {
   "cell_type": "markdown",
   "metadata": {},
   "source": [
    "The `_fail_sum` theorem corresponds to Nielsen & Chuang's formula 5.27 (pg 224). We also abstract out a section of its proof into a smaller lemma to prove the logical equivalence of two similar conditions."
   ]
  },
  {
   "cell_type": "code",
   "execution_count": null,
   "metadata": {},
   "outputs": [],
   "source": [
    "from proveit.logic import Iff, Union\n",
    "_fail_sum_prob_conds_equiv_lemma = (\n",
    "    Forall(l,\n",
    "        Forall(\n",
    "            e,\n",
    "            Iff(And(InSet(l, Union(_neg_domain, _pos_domain)), greater(ModAbs(l, _two_pow_t), e)),\n",
    "                And(InSet(l, _full_domain), greater(ModAbs(l, _two_pow_t), e)) ).with_wrap_before_operator(),\n",
    "            domain=_e_domain)))"
   ]
  },
  {
   "cell_type": "code",
   "execution_count": null,
   "metadata": {},
   "outputs": [],
   "source": [
    "_fail_sum = (\n",
    "    Forall(\n",
    "        e,\n",
    "        Equals(Pfail(e),\n",
    "               Add(Sum(l, Exp(Abs(_rel_indexed_alpha), two), domain=_neg_domain),\n",
    "                   Sum(l, Exp(Abs(_rel_indexed_alpha), two), domain=_pos_domain))),\n",
    "        domain=_e_domain))"
   ]
  },
  {
   "cell_type": "markdown",
   "metadata": {},
   "source": [
    "The `_alpha_sqrd_upper_bound` theorem is derived from `_alpha_summed`, and Nielsen & Chuang's formula 5.29 (pg 224) appears as a step in the interactive proof notebook steps:"
   ]
  },
  {
   "cell_type": "code",
   "execution_count": null,
   "metadata": {},
   "outputs": [],
   "source": [
    "from proveit.physics.quantum.QPE import _delta_b_floor\n",
    "_alpha_sqrd_upper_bound = Forall(\n",
    "    l,\n",
    "    LessEq(Exp(Abs(SubIndexed(_alpha, ModAdd(_b_floor, l))), two),\n",
    "           frac(one,\n",
    "                Mult(four, Exp(subtract(l, Mult(_two_pow_t, _delta_b_floor)), two)))),\n",
    "    domain=_full_domain,\n",
    "    condition=NotEquals(l, zero))"
   ]
  },
  {
   "cell_type": "markdown",
   "metadata": {},
   "source": [
    "#### Obtain a bound on the failure probability:"
   ]
  },
  {
   "cell_type": "markdown",
   "metadata": {},
   "source": [
    "The `_failure_upper_bound_lemma` theorem corresponds to Nielsen & Chuang's formula 5.30 (pg 224), establishing an initial expression for the probability of failing to obtain a sufficiently accurate estimate:"
   ]
  },
  {
   "cell_type": "code",
   "execution_count": null,
   "metadata": {},
   "outputs": [],
   "source": [
    "_failure_upper_bound_lemma = Forall(\n",
    "    e,\n",
    "    LessEq(Pfail(e), \n",
    "           Mult(frac(one, four), \n",
    "                Add(Sum(l, frac(one, sqrd(_diff_l_scaled_delta_floor)), domain=_neg_domain),\n",
    "                    Sum(l, frac(one, sqrd(_diff_l_scaled_delta_floor)), domain=_pos_domain)))), \n",
    "    domain=_e_domain)"
   ]
  },
  {
   "cell_type": "markdown",
   "metadata": {},
   "source": [
    "And then `_failure_upper_bound` corresponds to Nielsen & Chuang's formula 5.34 (pg 224), but derived in a slightly different way to allow two distinctions from Nielsen & Chuang's result: (1) the bound now works for $e = 1$; (2) the bound is now somewhat tighter."
   ]
  },
  {
   "cell_type": "code",
   "execution_count": null,
   "metadata": {},
   "outputs": [],
   "source": [
    "_failure_upper_bound = Forall(\n",
    "    e,\n",
    "    LessEq(Pfail(e), Add(frac(one, Mult(two, e)), frac(one, Mult(four, Exp(e, two))) )),\n",
    "    domain=_e_domain)"
   ]
  },
  {
   "cell_type": "markdown",
   "metadata": {},
   "source": [
    "### Evaluate the success probability as the complement of failure and establish our precision guarantee."
   ]
  },
  {
   "cell_type": "code",
   "execution_count": null,
   "metadata": {},
   "outputs": [],
   "source": [
    "_success_complements_failure  = Forall(\n",
    "        e, Equals(Psuccess(e), subtract(one, Pfail(e))),\n",
    "        domain=_e_domain)"
   ]
  },
  {
   "cell_type": "markdown",
   "metadata": {},
   "source": [
    "Taking Nielsen & Chuang's formula 5.35 (pg 224) as an axiom for the number of qubits in the top register, $t = \\left(n + \\left\\lceil \\textrm{log}_2\\left(2 + \\frac{1}{2 \\cdot \\epsilon}\\right)\\right\\rceil\\right)$, we derive a precision guarantee probability greater than $1 - \\epsilon$.  That is, rather then deriving the number of qubits needed for a certain precision and success probability as done by Nielsen & Chuang, we derive that a given number of qubits is sufficient."
   ]
  },
  {
   "cell_type": "markdown",
   "metadata": {},
   "source": [
    "The `_precision_guarantee_lemma_01` and `…_lemma_02` theorems below are both used in the proof the the `_precision_guarantee` theorem."
   ]
  },
  {
   "cell_type": "code",
   "execution_count": null,
   "metadata": {},
   "outputs": [],
   "source": [
    "_precision_guarantee_lemma_01 = (\n",
    "    greater(Add(one,\n",
    "         Neg(frac(one, Mult(two, subtract(Exp(two, subtract(_t, _n)), one)))),\n",
    "         Neg(frac(one, Mult(four, Exp(subtract(Exp(two, subtract(_t, _n)), one), two))))),\n",
    "     subtract(one, _eps)))"
   ]
  },
  {
   "cell_type": "code",
   "execution_count": null,
   "metadata": {},
   "outputs": [],
   "source": [
    "_precision_guarantee_lemma_02 = (\n",
    "        Forall(m,\n",
    "           _success_cond,\n",
    "           domain = _m_domain,\n",
    "           condition = LessEq(ModAbs(subtract(m, _b_floor), _two_pow_t),\n",
    "                              subtract(Exp(two, subtract(_t, _n)), one)))\n",
    "        )"
   ]
  },
  {
   "cell_type": "code",
   "execution_count": null,
   "metadata": {},
   "outputs": [],
   "source": [
    "_precision_guarantee = greater_eq(\n",
    "    ProbOfAll(m, _phase_est_circuit,\n",
    "              domain=_m_domain, condition=_success_cond).with_wrapping(), \n",
    "    subtract(one, _eps))"
   ]
  },
  {
   "cell_type": "markdown",
   "metadata": {},
   "source": [
    "### Minor theorems used through-out"
   ]
  },
  {
   "cell_type": "code",
   "execution_count": null,
   "metadata": {},
   "outputs": [],
   "source": [
    "# t (represented by the Literal _t) denotes\n",
    "# the number of Qbits in the input register\n",
    "# Thus, 2^t is a positive natural number\n",
    "_two_pow_t_is_nat_pos = InSet(_two_pow_t, NaturalPos)"
   ]
  },
  {
   "cell_type": "code",
   "execution_count": null,
   "metadata": {},
   "outputs": [],
   "source": [
    "# t (represented by the Literal _t) denotes\n",
    "# the number of Qbits in the input register\n",
    "_two_pow_t_minus_one_is_nat_pos = InSet(Exp(two, subtract(_t, one)), NaturalPos)"
   ]
  },
  {
   "cell_type": "code",
   "execution_count": null,
   "metadata": {},
   "outputs": [],
   "source": [
    "# t (represented by the Literal _t) denotes\n",
    "# the number of Qbits in the input register\n",
    "_two_pow_t_less_one_is_nat_pos = InSet(subtract(_two_pow_t, one), NaturalPos)"
   ]
  },
  {
   "cell_type": "code",
   "execution_count": null,
   "metadata": {},
   "outputs": [],
   "source": [
    "_psi_t_ket_is_normalized_vec = Forall(\n",
    "    t, And(InSet(_psi_t_ket, QubitRegisterSpace(t)),\n",
    "           Equals(Norm(_psi_t_ket), one)),\n",
    "    domain=NaturalPos)"
   ]
  },
  {
   "cell_type": "code",
   "execution_count": null,
   "metadata": {},
   "outputs": [],
   "source": [
    "_Psi_ket_is_normalized_vec = And(InSet(_Psi_ket, QubitRegisterSpace(_t)),\n",
    "                                  Equals(Norm(_Psi_ket), one))"
   ]
  },
  {
   "cell_type": "code",
   "execution_count": null,
   "metadata": {},
   "outputs": [],
   "source": [
    "_best_floor_is_int = InSet(_b_floor, Integer)"
   ]
  },
  {
   "cell_type": "code",
   "execution_count": null,
   "metadata": {},
   "outputs": [],
   "source": [
    "_best_floor_is_in_m_domain = InSet(_b_floor, _m_domain)"
   ]
  },
  {
   "cell_type": "code",
   "execution_count": null,
   "metadata": {},
   "outputs": [],
   "source": [
    "_best_round_is_int = InSet(_b_round, Integer)"
   ]
  },
  {
   "cell_type": "code",
   "execution_count": null,
   "metadata": {},
   "outputs": [],
   "source": [
    "# t (represented by the Literal _t) denotes the number of Qbits in the first register\n",
    "# n (represented by the Literal _n) denotes the desired number of bits of precision\n",
    "# In Nielsen & Chuang, e = 2^{t-n} - 1 is the max desired error\n",
    "_e_value_ge_two = greater_eq(subtract(Exp(two, subtract(_t, _n)), one), two)"
   ]
  },
  {
   "cell_type": "code",
   "execution_count": null,
   "metadata": {},
   "outputs": [],
   "source": [
    "_e_value_in_e_domain = InSet(subtract(Exp(two, subtract(_t, _n)), one), _e_domain)"
   ]
  },
  {
   "cell_type": "code",
   "execution_count": null,
   "metadata": {},
   "outputs": [],
   "source": [
    "# The o-plus addition denotes addition modulo 2^t, resulting in an integer\n",
    "_mod_add_closure = Forall((a, b), InSet(ModAdd(a, b), \n",
    "                                        Interval(zero, subtract(Exp(two, _t), one))), \n",
    "                         domain=Integer)"
   ]
  },
  {
   "cell_type": "code",
   "execution_count": null,
   "metadata": {},
   "outputs": [],
   "source": [
    "# The phase phi is in the real interval [0, 1)\n",
    "_phase_is_real = InSet(_phase, Real)"
   ]
  },
  {
   "cell_type": "code",
   "execution_count": null,
   "metadata": {},
   "outputs": [],
   "source": [
    "_delta_b_is_real = Forall(b, InSet(_delta_b, Real), domain=Integer)"
   ]
  },
  {
   "cell_type": "markdown",
   "metadata": {},
   "source": [
    "#### This derives from $\\delta$ being the difference between $\\delta$ and its best $t$-bit estimate (without going over):"
   ]
  },
  {
   "cell_type": "code",
   "execution_count": null,
   "metadata": {},
   "outputs": [],
   "source": [
    "_scaled_delta_b_floor_in_interval = InSet(Mult(_two_pow_t, _delta_b_floor), IntervalCO(zero, one))"
   ]
  },
  {
   "cell_type": "code",
   "execution_count": null,
   "metadata": {},
   "outputs": [],
   "source": [
    "_scaled_delta_b_round_in_interval = (\n",
    "    InSet(Mult(_two_pow_t, _delta_b_round), IntervalCO(Neg(frac(one, two)), frac(one, two))))"
   ]
  },
  {
   "cell_type": "code",
   "execution_count": null,
   "metadata": {},
   "outputs": [],
   "source": [
    "# This provides a more general interval for _delta_b\n",
    "# to cover both cases: _delta_b_floor & _delta_b_round\n",
    "_delta_b_in_interval = (\n",
    "    Forall(\n",
    "    b,\n",
    "    InSet(_delta_b, IntervalOC(Neg(frac(one, two)), frac(one, two))),\n",
    "    domain=Set(_b_floor, _b_round)))"
   ]
  },
  {
   "cell_type": "code",
   "execution_count": null,
   "metadata": {},
   "outputs": [],
   "source": [
    "_alpha_are_complex = Forall(m, InSet(_alpha_m, Complex), domain=_m_domain)"
   ]
  },
  {
   "cell_type": "code",
   "execution_count": null,
   "metadata": {},
   "outputs": [],
   "source": [
    "_delta_b_is_zero_or_non_int = (\n",
    "        Forall(\n",
    "            b,\n",
    "            Or( Equals(_delta_b, zero),\n",
    "                NotInSet(_delta_b, Integer)),\n",
    "            domain=Set(_b_floor, _b_round)\n",
    "            ))"
   ]
  },
  {
   "cell_type": "code",
   "execution_count": null,
   "metadata": {},
   "outputs": [],
   "source": [
    "_scaled_delta_b_is_zero_or_non_int = (\n",
    "        Forall(\n",
    "            b,\n",
    "            Or( Equals(Mult(_two_pow_t, _delta_b), zero),\n",
    "                NotInSet(Mult(_two_pow_t, _delta_b), Integer)),\n",
    "            domain=Set(_b_floor, _b_round)\n",
    "            ))"
   ]
  },
  {
   "cell_type": "markdown",
   "metadata": {},
   "source": [
    "#### Follows from scaled_delta_in_interval:"
   ]
  },
  {
   "cell_type": "code",
   "execution_count": null,
   "metadata": {},
   "outputs": [],
   "source": [
    "_scaled_delta_b_not_eq_nonzeroInt = Forall(\n",
    "        (b, l), NotEquals(Mult(_two_pow_t, _delta_b), l),\n",
    "        domains=[Set(_b_floor, _b_round), Integer], conditions = [NotEquals(l, zero)])"
   ]
  },
  {
   "cell_type": "code",
   "execution_count": null,
   "metadata": {},
   "outputs": [],
   "source": [
    "_delta_b_not_eq_scaledNonzeroInt = Forall(\n",
    "        (b, l), NotEquals(_delta_b, frac(l, _two_pow_t)),\n",
    "        domains=[Set(_b_floor, _b_round), Integer],\n",
    "        conditions = [NotEquals(l, zero)])"
   ]
  },
  {
   "cell_type": "code",
   "execution_count": null,
   "metadata": {},
   "outputs": [],
   "source": [
    "from proveit.physics.quantum.QPE import _delta_b_floor\n",
    "_delta_b_floor_diff_in_interval = Forall(\n",
    "        l,\n",
    "        InSet(subtract(_delta_b_floor, frac(l, _two_pow_t)),\n",
    "              IntervalCO(Neg(frac(one, two)), frac(one, two))),\n",
    "        domain=_full_domain)"
   ]
  },
  {
   "cell_type": "code",
   "execution_count": null,
   "metadata": {},
   "outputs": [],
   "source": [
    "_non_int_delta_b_diff = Forall(\n",
    "        (b, l),\n",
    "        NotInSet(subtract(_delta_b, frac(l, _two_pow_t)),\n",
    "                Integer), \n",
    "        domains=[Set(_b_floor, _b_round), _full_domain],\n",
    "        conditions = [NotEquals(l, zero)])"
   ]
  },
  {
   "cell_type": "code",
   "execution_count": null,
   "metadata": {},
   "outputs": [],
   "source": [
    "_scaled_abs_delta_b_floor_diff_interval = Forall(\n",
    "        l,\n",
    "        InSet(Mult(pi, Abs(subtract(_delta_b_floor, frac(l, _two_pow_t)))),\n",
    "              IntervalOC(zero, Div(pi, two))),\n",
    "        domain=_full_domain,\n",
    "        conditions = [NotEquals(l, zero)])"
   ]
  },
  {
   "cell_type": "code",
   "execution_count": null,
   "metadata": {},
   "outputs": [],
   "source": [
    "_pfail_in_real = Forall(e, InSet(Pfail(e), Real), domain=_e_domain)"
   ]
  },
  {
   "cell_type": "markdown",
   "metadata": {},
   "source": [
    "#### *Modulo addition may be converted to regular addition within $2 \\pi i$ exponentiation:*"
   ]
  },
  {
   "cell_type": "code",
   "execution_count": null,
   "metadata": {},
   "outputs": [],
   "source": [
    "_phase_from_best_with_delta_b = Forall(\n",
    "    b,\n",
    "    Equals(_phase, Add(frac(b, _two_pow_t), _delta_b)),\n",
    "    domain=Integer)"
   ]
  },
  {
   "cell_type": "code",
   "execution_count": null,
   "metadata": {},
   "outputs": [],
   "source": [
    "_modabs_in_full_domain_simp = Forall(l, Equals(ModAbs(l, _two_pow_t), Abs(l)),\n",
    "                                     domain=_full_domain)"
   ]
  },
  {
   "cell_type": "code",
   "execution_count": null,
   "metadata": {},
   "outputs": [],
   "source": [
    "%end theorems"
   ]
  },
  {
   "cell_type": "code",
   "execution_count": null,
   "metadata": {},
   "outputs": [],
   "source": []
  }
 ],
 "metadata": {
  "kernelspec": {
   "display_name": "Python 3",
   "language": "python",
   "name": "python3"
  }
 },
 "nbformat": 4,
 "nbformat_minor": 0
}
