{
 "cells": [
  {
   "cell_type": "code",
   "execution_count": null,
   "metadata": {},
   "outputs": [],
   "source": [
    "from proveit.numbers.arithmetic_ops import *\n",
    "from proveit.numbers.variables import a,b,c,m,n,r, t,eps,phi,U,SUm,C2m,H,Hm,u,e,i,pi,k,l,r,x,y,z,zero,one,two,infinity\n",
    "from proveit.numbers.variables import minus_one, minus_two,Z,Zp,R,zero_to_one,t_func,t_func_n_eps,QPE,QPEfunc\n",
    "from proveit.basiclogic.booleans.quantifiers import Forall, Exists\n",
    "from proveit.basiclogic.set.set_ops import In\n",
    "from proveit.basiclogic.equality.eq_ops import Equals\n",
    "\n",
    "#from proveit.numbers.theorems import *"
   ]
  },
  {
   "cell_type": "code",
   "execution_count": null,
   "metadata": {},
   "outputs": [],
   "source": [
    "#zz = Summation([x,z],Exponentiate(y,x),[In(x,DiscreteContiguousSet(zero,infinity)),In(z,DiscreteContiguousSet(zero,one))])\n",
    "zz = Summation(x,Exponentiate(y,x),DiscreteContiguousSet(zero,infinity))"
   ]
  },
  {
   "cell_type": "code",
   "execution_count": null,
   "metadata": {},
   "outputs": [],
   "source": [
    "print(zz.formatted(LATEX))"
   ]
  },
  {
   "cell_type": "code",
   "execution_count": null,
   "metadata": {},
   "outputs": [],
   "source": [
    "%%latex\n",
    "$$\n",
    "\\sum_{x \\in \\{0\\ldots \\infty\\}} y^{x}\n",
    "$$"
   ]
  },
  {
   "cell_type": "code",
   "execution_count": null,
   "metadata": {},
   "outputs": [],
   "source": [
    "zz.reduce_geom_sum()"
   ]
  },
  {
   "cell_type": "code",
   "execution_count": null,
   "metadata": {},
   "outputs": [],
   "source": [
    "print(zz.reduce_geom_sum().formatted(LATEX))"
   ]
  },
  {
   "cell_type": "code",
   "execution_count": null,
   "metadata": {},
   "outputs": [],
   "source": [
    "%%latex\n",
    "$$\n",
    "[\\sum_{x \\in \\{0\\ldots \\infty\\}} y^{x}] = \\frac{1}{\\left(1 - y\\right)}\n",
    "$$"
   ]
  },
  {
   "cell_type": "code",
   "execution_count": null,
   "metadata": {},
   "outputs": [],
   "source": [
    "zz2 = Summation(x,Exponentiate(y,x),DiscreteContiguousSet(a,b))"
   ]
  },
  {
   "cell_type": "code",
   "execution_count": null,
   "metadata": {},
   "outputs": [],
   "source": [
    "print(zz2.reduce_geom_sum().formatted(LATEX,fence=False))"
   ]
  },
  {
   "cell_type": "code",
   "execution_count": null,
   "metadata": {},
   "outputs": [],
   "source": [
    "%%latex\n",
    "$$\n",
    "[\\sum_{x \\in \\{a\\ldots b\\}} y^{x}] = \\frac{(y^{(b + 1)} - y^{a})}{(y - 1)}\n",
    "$$"
   ]
  },
  {
   "cell_type": "code",
   "execution_count": null,
   "metadata": {},
   "outputs": [],
   "source": [
    "print(Forall(r,Equals(Summation(m,Exponentiate(r,m),DiscreteContiguousSet(zero,infinity)), \n",
    "             frac(one,subtract(one,r))),\n",
    "              In(r,R),\n",
    "              ).formatted(LATEX))"
   ]
  },
  {
   "cell_type": "code",
   "execution_count": null,
   "metadata": {},
   "outputs": [],
   "source": [
    "%%latex\n",
    "$$\n",
    "\\forall_{r | r \\in \\mathbb{R}} [\\sum_{m \\in \\{0\\ldots \\infty\\}} r^{m}] = \\frac{1}{(1 - r)}\n",
    "$$"
   ]
  },
  {
   "cell_type": "code",
   "execution_count": null,
   "metadata": {},
   "outputs": [],
   "source": [
    "print(zz.reduce_geom_sum().prove({In(y,R)}).formatted(LATEX))"
   ]
  },
  {
   "cell_type": "code",
   "execution_count": null,
   "metadata": {},
   "outputs": [],
   "source": [
    "%%latex\n",
    "$$\n",
    "[\\sum_{x \\in \\{0\\ldots \\infty\\}} y^{x}] = \\frac{1}{(1 - y)}\n",
    "$$"
   ]
  },
  {
   "cell_type": "code",
   "execution_count": null,
   "metadata": {},
   "outputs": [],
   "source": [
    "print(Forall([r,k,l],Equals(Summation(m,Exponentiate(r,m),DiscreteContiguousSet(k,l)), \n",
    "         frac(subtract(Exponentiate(r,Add(l,one)),Exponentiate(r,k)),subtract(r,one))),\n",
    "         [In(k,Z),\n",
    "          In(l,Z),\n",
    "          In(r,R),\n",
    "          LessThan(k,l)]).formatted(LATEX))"
   ]
  },
  {
   "cell_type": "code",
   "execution_count": null,
   "metadata": {},
   "outputs": [],
   "source": [
    "%%latex\n",
    "$$\n",
    "\\forall_{r, k, l | k \\in \\mathbb{Z}, l \\in \\mathbb{Z}, r \\in \\mathbb{R}, k < l} [\\sum_{m \\in \\{k\\ldots l\\}} r^{m}] = \\frac{(r^{(l + 1)} - r^{k})}{(r - 1)}\n",
    "$$"
   ]
  },
  {
   "cell_type": "code",
   "execution_count": null,
   "metadata": {},
   "outputs": [],
   "source": [
    "print(zz2.formatted(LATEX))"
   ]
  },
  {
   "cell_type": "code",
   "execution_count": null,
   "metadata": {},
   "outputs": [],
   "source": [
    "print(zz2.reduce_geom_sum().prove({In(y,R),LessThan(a,b),In(a,Z),In(b,Z)}).formatted(LATEX))"
   ]
  },
  {
   "cell_type": "code",
   "execution_count": null,
   "metadata": {},
   "outputs": [],
   "source": [
    "print(zz2.reduce_geom_sum().prove({In(y,R),LessThan(a,b),In(a,Z),In(b,Z)}).formatted(LATEX))"
   ]
  },
  {
   "cell_type": "code",
   "execution_count": null,
   "metadata": {},
   "outputs": [],
   "source": []
  }
 ],
 "metadata": {
  "kernelspec": {
   "display_name": "Python 3",
   "language": "python",
   "name": "python3"
  }
 },
 "nbformat": 4,
 "nbformat_minor": 0
}
