{
 "cells": [
  {
   "cell_type": "code",
   "execution_count": null,
   "metadata": {},
   "outputs": [],
   "source": [
    "from proveit import special_statement_magic # for %begin_theorems and %end_theorems\n",
    "from proveit.expression import Lambda\n",
    "from proveit.basiclogic import In, NotIn, Forall, Equals, NotEquals, And\n",
    "from proveit.numbers import Summation, DiscreteContiguousSet, Abs, Neg, Add, subtract, Multiply, frac, \\\n",
    "    Exponentiate, sqrt\n",
    "from proveit.numbers import greaterThan, greaterThanEquals, LessThan, LessThanEquals, DiscreteContiguousSet, Mod\n",
    "from proveit.numbers.arithmetic_ops import Integrate, IntervalCC, IntervalCO, IntervalOO\n",
    "from proveit.statistics import Prob\n",
    "from proveit.common import a, b, l, t, eps, k\n",
    "from proveit.numbers.common import zero, one, two, three, four, five, eight, e, pi, i, Real, Natural, NaturalPos, Integer, Complex, EvenFuncs, MonDecFuncs\n",
    "from proveit.linalg import MatrixProd, ScalarProd\n",
    "from proveit.physics.quantum import Bra, Ket, Circuit, Gate, Input, Output, MultiWire\n",
    "from proveit.physics.quantum.common import ket0, ket1, Hgate, CTRL_DN, inv_root2\n",
    "from proveit.physics.quantum.QPE.common import u_, n_, t_, phase_, m_, b_, delta_, two_pow_t, two_pow_t_minus_one, \\\n",
    "  alpha_l, alpha_l_sqrd, full_domain, neg_domain, pos_domain, eps_domain, U_pow_two_pow_k \n",
    "from proveit.physics.quantum.QPE.phase_est_ops import Psuccess, Pfail, ModAdd\n",
    "from IPython.display import display\n"
   ]
  },
  {
   "cell_type": "markdown",
   "metadata": {},
   "source": [
    "Convenience methods for building expressions:"
   ]
  },
  {
   "cell_type": "code",
   "execution_count": null,
   "metadata": {},
   "outputs": [],
   "source": [
    "# transferred\n",
    "def exp2pi_i(*exp_factors):\n",
    "    return Exponentiate(e, Multiply(*((two, pi, i) + exp_factors)))\n",
    "\n",
    "# transferred\n",
    "def exp2pi_i_on_two_pow_t(*exp_factors):\n",
    "    return Exponentiate(e, frac(Multiply(*((two, pi, i) + exp_factors)), two_pow_t))\n",
    "\n",
    "# transferred\n",
    "def exp_neg2pi_i_on_two_pow_t(*exp_factors):\n",
    "    return Exponentiate(e, frac(Neg(Multiply(*((two, pi, i) + exp_factors))), two_pow_t))\n",
    "\n",
    "display(exp2pi_i(a, b))\n",
    "display(exp2pi_i_on_two_pow_t(a, b))\n",
    "display(exp_neg2pi_i_on_two_pow_t(a, b))"
   ]
  },
  {
   "cell_type": "code",
   "execution_count": null,
   "metadata": {},
   "outputs": [],
   "source": [
    "%begin_theorems"
   ]
  },
  {
   "cell_type": "markdown",
   "metadata": {},
   "source": [
    "Take care of number domain issues:"
   ]
  },
  {
   "cell_type": "code",
   "execution_count": null,
   "metadata": {},
   "outputs": [],
   "source": [
    "# transferred\n",
    "two_pow_t_is_nat_pos = In(two_pow_t, NaturalPos)\n",
    "two_pow_t_is_nat_pos"
   ]
  },
  {
   "cell_type": "code",
   "execution_count": null,
   "metadata": {},
   "outputs": [],
   "source": [
    "# transferred\n",
    "two_pow_t_minus_one_is_nat_pos = In(Exponentiate(two, subtract(t_, one)), NaturalPos)\n",
    "two_pow_t_minus_one_is_nat_pos"
   ]
  },
  {
   "cell_type": "code",
   "execution_count": null,
   "metadata": {},
   "outputs": [],
   "source": [
    "# transferred\n",
    "two_pow_t_less_one_is_nat_pos = In(subtract(two_pow_t, one), NaturalPos)\n",
    "two_pow_t_less_one_is_nat_pos"
   ]
  },
  {
   "cell_type": "code",
   "execution_count": null,
   "metadata": {},
   "outputs": [],
   "source": [
    "# transferred\n",
    "two_pow_t_not_zero = NotEquals(two_pow_t, zero)\n",
    "two_pow_t_not_zero"
   ]
  },
  {
   "cell_type": "code",
   "execution_count": null,
   "metadata": {},
   "outputs": [],
   "source": [
    "# transferred\n",
    "mod_add_closure = Forall((a, b), In(ModAdd(a, b), Integer), domain=Integer)\n",
    "mod_add_closure"
   ]
  },
  {
   "cell_type": "code",
   "execution_count": null,
   "metadata": {},
   "outputs": [],
   "source": [
    "# transferred\n",
    "phase_is_real = In(phase_, Real)\n",
    "phase_is_real"
   ]
  },
  {
   "cell_type": "code",
   "execution_count": null,
   "metadata": {},
   "outputs": [],
   "source": [
    "# transferred\n",
    "best_is_int = In(b_, Integer)\n",
    "best_is_int"
   ]
  },
  {
   "cell_type": "code",
   "execution_count": null,
   "metadata": {},
   "outputs": [],
   "source": [
    "# transferred\n",
    "pos_domain_in_full_domain = Forall(eps, Forall(l, In(l, full_domain), domain=pos_domain), domain=NaturalPos)\n",
    "pos_domain_in_full_domain"
   ]
  },
  {
   "cell_type": "code",
   "execution_count": null,
   "metadata": {},
   "outputs": [],
   "source": [
    "# transferred\n",
    "neg_domain_in_full_domain = Forall(eps, Forall(l, In(l, full_domain), domain=neg_domain), domain=NaturalPos)\n",
    "neg_domain_in_full_domain"
   ]
  },
  {
   "cell_type": "markdown",
   "metadata": {},
   "source": [
    "This derives from $\\delta$ being the difference between $\\delta$ and its best $t$-bit estimate (without going over):"
   ]
  },
  {
   "cell_type": "code",
   "execution_count": null,
   "metadata": {},
   "outputs": [],
   "source": [
    "# transferred\n",
    "scaled_delta_in_interval = In(Multiply(two_pow_t, delta_), IntervalCO(zero, one))\n",
    "scaled_delta_in_interval"
   ]
  },
  {
   "cell_type": "code",
   "execution_count": null,
   "metadata": {},
   "outputs": [],
   "source": [
    "# transferred\n",
    "delta_is_real = In(delta_, Real)\n",
    "delta_is_real"
   ]
  },
  {
   "cell_type": "code",
   "execution_count": null,
   "metadata": {},
   "outputs": [],
   "source": [
    "# transferred\n",
    "success_prob_is_real = Forall(eps, In(Psuccess(eps), Real), domain=NaturalPos)\n",
    "success_prob_is_real"
   ]
  },
  {
   "cell_type": "code",
   "execution_count": null,
   "metadata": {},
   "outputs": [],
   "source": [
    "# transferred\n",
    "all_alpha_l_is_complex = Forall(l, In(alpha_l, Complex), Integer)\n",
    "all_alpha_l_is_complex"
   ]
  },
  {
   "cell_type": "code",
   "execution_count": null,
   "metadata": {},
   "outputs": [],
   "source": [
    "# transferred\n",
    "all_abs_alpha_l_nonneg = Forall(l, And(In(Abs(alpha_l), Real), greaterThanEquals(Abs(alpha_l), zero)), Integer)\n",
    "all_abs_alpha_l_nonneg"
   ]
  },
  {
   "cell_type": "markdown",
   "metadata": {},
   "source": [
    "Follows from scaled_delta_in_interval:"
   ]
  },
  {
   "cell_type": "code",
   "execution_count": null,
   "metadata": {},
   "outputs": [],
   "source": [
    "# transferred\n",
    "scaled_delta_not_eq_nonzeroInt = Forall(l, NotEquals(Multiply(two_pow_t, delta_), l), domain=Integer, conditions = NotEquals(l, zero))\n",
    "scaled_delta_not_eq_nonzeroInt"
   ]
  },
  {
   "cell_type": "code",
   "execution_count": null,
   "metadata": {},
   "outputs": [],
   "source": [
    "# transferred\n",
    "delta_not_eq_scaledNonzeroInt = Forall(l, NotEquals(delta_, frac(l, two_pow_t)), domain=Integer, conditions = NotEquals(l, zero))\n",
    "delta_not_eq_scaledNonzeroInt"
   ]
  },
  {
   "cell_type": "code",
   "execution_count": null,
   "metadata": {},
   "outputs": [],
   "source": [
    "# transferred\n",
    "delta_diff_in_interval = Forall(l, In(subtract(delta_, frac(l, two_pow_t)), IntervalCO(Neg(Fraction(one, two)), frac(one, two))), domain=full_domain)\n",
    "delta_diff_in_interval"
   ]
  },
  {
   "cell_type": "code",
   "execution_count": null,
   "metadata": {},
   "outputs": [],
   "source": [
    "# transferred\n",
    "scaled_delta_diff_in_interval = Forall(l, In(Multiply(two, pi, subtract(delta_, frac(l, two_pow_t))), IntervalCC(Neg(pi), pi)), domain=full_domain)\n",
    "scaled_delta_diff_in_interval"
   ]
  },
  {
   "cell_type": "code",
   "execution_count": null,
   "metadata": {},
   "outputs": [],
   "source": [
    "# transferred\n",
    "non_int_delta_diff = Forall(l, NotIn(subtract(delta_, frac(l, two_pow_t)), Integer), \n",
    "                         domain=full_domain,\n",
    "                         conditions = [NotEquals(l, zero)])\n",
    "non_int_delta_diff"
   ]
  },
  {
   "cell_type": "markdown",
   "metadata": {},
   "source": [
    "Success probability as sum of individual success event probabilities:"
   ]
  },
  {
   "cell_type": "code",
   "execution_count": null,
   "metadata": {},
   "outputs": [],
   "source": [
    "# transferred\n",
    "success_sum = Forall(eps, greaterThanEquals(Psuccess(eps), Summation(l, Prob(Equals(m_, ModAdd(b_, l)), m_), \n",
    "                                                          DiscreteContiguousSet(Neg(eps), eps))),\n",
    "                    domain=NaturalPos)\n",
    "success_sum"
   ]
  },
  {
   "cell_type": "markdown",
   "metadata": {},
   "source": [
    "Failure probability as sum of individual failure event probabilities in terms of $\\alpha_l$, amplitude of $\\lvert \\Psi \\rangle$ for a state specified relative to $b$ (the best outcome state):"
   ]
  },
  {
   "cell_type": "code",
   "execution_count": null,
   "metadata": {},
   "outputs": [],
   "source": [
    "# transferred\n",
    "fail_sum = Forall(eps, LessThanEquals(Pfail(eps), Add(Summation(l, alpha_l_sqrd, \n",
    "                                                            neg_domain),\n",
    "                                                  Summation(l, alpha_l_sqrd, \n",
    "                                                            pos_domain))),\n",
    "                 domain=eps_domain)\n",
    "fail_sum"
   ]
  },
  {
   "cell_type": "markdown",
   "metadata": {},
   "source": [
    "Modulo addition may be converted to regular addition within $2 \\pi i$ exponentiation:"
   ]
  },
  {
   "cell_type": "code",
   "execution_count": null,
   "metadata": {},
   "outputs": [],
   "source": [
    "# transferred\n",
    "exp2pi_i_modadd = Forall((a, b), Equals(exp2pi_i_on_two_pow_t(ModAdd(a, b)), \n",
    "                                       exp2pi_i_on_two_pow_t(Add(a, b))), domain=Integer)\n",
    "exp2pi_i_modadd"
   ]
  },
  {
   "cell_type": "markdown",
   "metadata": {},
   "source": [
    "Direct evaluation of $\\alpha_l$ (via an intermediate step first):"
   ]
  },
  {
   "cell_type": "code",
   "execution_count": null,
   "metadata": {},
   "outputs": [],
   "source": [
    "# transferred but NOT updated\n",
    "# Circuit() class still broken as of this writing (2/18/2020)\n",
    "from proveit.expression import LATEX\n",
    "intermediate_q_p_e = Forall(k, \n",
    "                         Circuit([[Input(ket0), Hgate, CTRL_DN, \n",
    "                                   Output(Add(ScalarProd(inv_root2, ket0), \n",
    "                                              ScalarProd(frac(exp2pi_i(phase_, Exponentiate(two, k)), \n",
    "                                                                  sqrt(two)), \n",
    "                                                         ket1)))],\n",
    "                                  [Input(Ket(u_)), MultiWire(n_), Gate(U_pow_two_pow_k), Output(Ket(u_))]]),\n",
    "                         domain=Natural)\n",
    "print(intermediate_q_p_e.formatted(LATEX))"
   ]
  },
  {
   "cell_type": "code",
   "execution_count": null,
   "metadata": {},
   "outputs": [],
   "source": [
    "# transferred\n",
    "alpha_l_eval = Forall(l, Equals(alpha_l, \n",
    "                                Multiply(frac(one, two_pow_t),\n",
    "                                         Summation(k, Multiply(exp_neg2pi_i_on_two_pow_t(k, ModAdd(b_, l)), \n",
    "                                                          exp2pi_i(phase_, k)),\n",
    "                                                   DiscreteContiguousSet(zero, subtract(two_pow_t, one))))),\n",
    "                     domain=Integer)\n",
    "alpha_l_eval"
   ]
  },
  {
   "cell_type": "markdown",
   "metadata": {},
   "source": [
    "Evaluation of $\\alpha_l$ after performing the geometric series summation in terms of $\\delta$:"
   ]
  },
  {
   "cell_type": "code",
   "execution_count": null,
   "metadata": {},
   "outputs": [],
   "source": [
    "# transferred\n",
    "phase_from_best = Equals(phase_, Add(frac(b_, two_pow_t), delta_))\n",
    "phase_from_best"
   ]
  },
  {
   "cell_type": "code",
   "execution_count": null,
   "metadata": {},
   "outputs": [],
   "source": [
    "# transferred\n",
    "alpha_l_summed = Forall(l, Equals(alpha_l, Multiply(frac(one, two_pow_t), \n",
    "                                                    frac(subtract(one, exp2pi_i(subtract(Multiply(two_pow_t, delta_), l))),\n",
    "                                                             subtract(one, exp2pi_i(subtract(delta_, frac(l, two_pow_t))))))),\n",
    "                       domain=Integer)\n",
    "alpha_l_summed"
   ]
  },
  {
   "cell_type": "code",
   "execution_count": null,
   "metadata": {},
   "outputs": [],
   "source": [
    "# transferred\n",
    "alpha_l_summed_abs = Forall(l,\n",
    "                           Equals(Abs(alpha_l),\n",
    "                        frac(\n",
    "                                Abs(subtract(one,\n",
    "                                            Exponentiate(e,\n",
    "                                                        Multiply(two,pi,i,\n",
    "                                                                subtract(\n",
    "                                                                        Multiply(\n",
    "                                                                                Exponentiate(two,t_),delta_),\n",
    "                                                                        l)\n",
    "                )))\n",
    "    ),\n",
    "                            Multiply(Exponentiate(two,t_),    \n",
    "                            Abs(subtract(one,\n",
    "                                            Exponentiate(e,\n",
    "                                                        Multiply(two,pi,i,\n",
    "                                                                subtract(\n",
    "                                                                        delta_,\n",
    "                                                                        frac(l,Exponentiate(two,t_))\n",
    "                                \n",
    "\n",
    ")\n",
    "                                                                 )\n",
    "                    )\n",
    "                                             )\n",
    "                                    ))\n",
    "        )\n",
    "    ),\n",
    "                           domain=Integer)\n",
    "alpha_l_summed_abs"
   ]
  },
  {
   "cell_type": "markdown",
   "metadata": {},
   "source": [
    "$| \\alpha_l |^2$ inequality to bound the failure probability:"
   ]
  },
  {
   "cell_type": "code",
   "execution_count": null,
   "metadata": {},
   "outputs": [],
   "source": [
    "# transferred\n",
    "alpha_l_sqrd_ineq = Forall(l, LessThanEquals(alpha_l_sqrd, \n",
    "                                             frac(one, \n",
    "                                                      Multiply(four, \n",
    "                                                               Exponentiate(subtract(l, \n",
    "                                                                                     Multiply(two_pow_t, \n",
    "                                                                                              delta_)), \n",
    "                                                                            two)))),\n",
    "                           domain=full_domain,\n",
    "                           conditions=NotEquals(l, zero))\n",
    "alpha_l_sqrd_ineq"
   ]
  },
  {
   "cell_type": "markdown",
   "metadata": {},
   "source": [
    "A bound on the failure probability:"
   ]
  },
  {
   "cell_type": "code",
   "execution_count": null,
   "metadata": {},
   "outputs": [],
   "source": [
    "# transferred\n",
    "fail_ineq = Forall(eps, LessThanEquals(Pfail(eps), Multiply(frac(one,two), \n",
    "                                                            Add(frac(one,eps), \n",
    "                                                                frac(one, Exponentiate(eps, two))))), \n",
    "                   domain=eps_domain)\n",
    "fail_ineq"
   ]
  },
  {
   "cell_type": "code",
   "execution_count": null,
   "metadata": {},
   "outputs": [],
   "source": [
    "%end_theorems"
   ]
  },
  {
   "cell_type": "code",
   "execution_count": null,
   "metadata": {},
   "outputs": [],
   "source": []
  },
  {
   "cell_type": "code",
   "execution_count": null,
   "metadata": {},
   "outputs": [],
   "source": []
  }
 ],
 "metadata": {
  "kernelspec": {
   "display_name": "Python 3",
   "language": "python",
   "name": "python3"
  }
 },
 "nbformat": 4,
 "nbformat_minor": 0
}
