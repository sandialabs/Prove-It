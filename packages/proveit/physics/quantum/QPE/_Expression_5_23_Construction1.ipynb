{
 "cells": [
  {
   "cell_type": "code",
   "execution_count": null,
   "metadata": {},
   "outputs": [],
   "source": [
    "from qpe_scratch import *"
   ]
  },
  {
   "cell_type": "code",
   "execution_count": null,
   "metadata": {},
   "outputs": [],
   "source": [
    "print(Fraction(one,Exponentiate(two,t)).formatted(LATEX))"
   ]
  },
  {
   "cell_type": "code",
   "execution_count": null,
   "metadata": {},
   "outputs": [],
   "source": [
    "prefactor = Fraction(one,Exponentiate(two,t))"
   ]
  },
  {
   "cell_type": "code",
   "execution_count": null,
   "metadata": {},
   "outputs": [],
   "source": [
    "exp1_arg = Fraction(Multiply(minus_two,pi,i,k,l),Exponentiate(two,t))"
   ]
  },
  {
   "cell_type": "code",
   "execution_count": null,
   "metadata": {},
   "outputs": [],
   "source": [
    "exp1_arg.formatted(LATEX)"
   ]
  },
  {
   "cell_type": "markdown",
   "metadata": {},
   "source": [
    "$$\\mathcal{H}$$"
   ]
  },
  {
   "cell_type": "code",
   "execution_count": null,
   "metadata": {},
   "outputs": [],
   "source": [
    "exp2_arg = Multiply(two,pi,i,phi,k)"
   ]
  },
  {
   "cell_type": "code",
   "execution_count": null,
   "metadata": {},
   "outputs": [],
   "source": [
    "summand = Multiply(Exponentiate(e,exp1_arg),Exponentiate(e,exp2_arg),Ket(l))"
   ]
  },
  {
   "cell_type": "code",
   "execution_count": null,
   "metadata": {},
   "outputs": [],
   "source": [
    "In(k,DiscreteContiguousSet(zero,Subtract(Exponentiate(two,t),one)))"
   ]
  },
  {
   "cell_type": "code",
   "execution_count": null,
   "metadata": {},
   "outputs": [],
   "source": [
    "Forall([m,n,t],t_func_n_eps,[In(m,Zp),In(n,Zp),In(t,Zp)]).formatted(LATEX)"
   ]
  },
  {
   "cell_type": "code",
   "execution_count": null,
   "metadata": {},
   "outputs": [],
   "source": [
    "full_exp = Multiply(prefactor,Summation(\n",
    "        [k,l],summand,\n",
    "        [In(k,DiscreteContiguousSet(zero,Subtract(Exponentiate(two,t),one))),\n",
    "         In(l,DiscreteContiguousSet(zero,Subtract(Exponentiate(two,t),one)))]))"
   ]
  },
  {
   "cell_type": "code",
   "execution_count": null,
   "metadata": {},
   "outputs": [],
   "source": [
    "print(full_exp.formatted(LATEX))"
   ]
  },
  {
   "cell_type": "markdown",
   "metadata": {},
   "source": [
    "$$\n",
    "\\frac{1}{2^{t}} \\cdot [\\sum_{k \\in \\{0\\ldots(2^{t} - 1)\\}, l \\in \\{0\\ldots(2^{t} - 1)\\}} e^{\\frac{(-2 \\cdot \\pi \\cdot i \\cdot k \\cdot l)}{2^{t}}} \\cdot e^{(2 \\cdot \\pi \\cdot i \\cdot \\phi \\cdot k)} \\cdot |l\\rangle]\n",
    "$$"
   ]
  },
  {
   "cell_type": "code",
   "execution_count": null,
   "metadata": {},
   "outputs": [],
   "source": [
    "DiscreteContiguousSet(zero,two).formatted(LATEX)"
   ]
  },
  {
   "cell_type": "code",
   "execution_count": null,
   "metadata": {},
   "outputs": [],
   "source": [
    "print('\\l')"
   ]
  },
  {
   "cell_type": "code",
   "execution_count": null,
   "metadata": {},
   "outputs": [],
   "source": [
    "literals"
   ]
  },
  {
   "cell_type": "code",
   "execution_count": null,
   "metadata": {},
   "outputs": [],
   "source": []
  }
 ],
 "metadata": {
  "kernelspec": {
   "display_name": "Python 3",
   "language": "python",
   "name": "python3"
  }
 },
 "nbformat": 4,
 "nbformat_minor": 0
}
