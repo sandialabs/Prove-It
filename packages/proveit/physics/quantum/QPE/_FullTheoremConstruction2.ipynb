{
 "cells": [
  {
   "cell_type": "code",
   "execution_count": null,
   "metadata": {},
   "outputs": [],
   "source": [
    "from qpe_scratch import *"
   ]
  },
  {
   "cell_type": "code",
   "execution_count": null,
   "metadata": {},
   "outputs": [],
   "source": [
    "def wrap1(arg1):\n",
    "    return Forall([m,n,t,eps],\n",
    "             arg1,\n",
    "             [In(m,Zp),In(n,Zp),In(t,Zp),In(eps,zero_to_one),Equals(t,t_func_n_eps)])"
   ]
  },
  {
   "cell_type": "code",
   "execution_count": null,
   "metadata": {},
   "outputs": [],
   "source": [
    "def wrap2(arg2):\n",
    "    return Forall([U,u,phi],\n",
    "       arg2,[In(U,SUm),\n",
    "          In(u,Hm),\n",
    "          In(phi,zero_to_one),\n",
    "            Equals(\n",
    "                Multiply(U,u),\n",
    "                Multiply(\n",
    "                    Exponentiate(\n",
    "                        e,\n",
    "                        Multiply(two,pi,i,phi)\n",
    "                        ),\n",
    "                    u)\n",
    "                )\n",
    "             ]\n",
    "            )"
   ]
  },
  {
   "cell_type": "code",
   "execution_count": null,
   "metadata": {},
   "outputs": [],
   "source": [
    "PrArg = LessThanEquals(\n",
    "    Abs(\n",
    "        subtract(\n",
    "            QPEfunc,\n",
    "            phi)\n",
    "    ),\n",
    "    Exponentiate(\n",
    "        two,\n",
    "    Multiply(minus_one,\n",
    "             n)\n",
    "        ))"
   ]
  },
  {
   "cell_type": "code",
   "execution_count": null,
   "metadata": {},
   "outputs": [],
   "source": [
    "print(Pr(PrArg))"
   ]
  },
  {
   "cell_type": "code",
   "execution_count": null,
   "metadata": {},
   "outputs": [],
   "source": [
    "print(wrap1(wrap2( greaterThanEquals(Pr(PrArg),subtract(one,eps)))).formatted(LATEX))"
   ]
  },
  {
   "cell_type": "code",
   "execution_count": null,
   "metadata": {},
   "outputs": [],
   "source": [
    "#Full theorem is below"
   ]
  },
  {
   "cell_type": "markdown",
   "metadata": {},
   "source": [
    "$$\n",
    "\\forall_{m \\in \\mathbb{Z}^+, n \\in \\mathbb{Z}^+, t \\in \\mathbb{Z}^+, \\varepsilon \\in [0,1], t = t_func(n,\\varepsilon)} \\forall_{U \\in SU(m), |u\\rangle \\in \\mathcal{H}(m), \\phi \\in [0,1], (U \\cdot |u\\rangle) = (e^{(2 \\cdot \\pi \\cdot i \\cdot \\phi)} \\cdot |u\\rangle)} Pr[(|(QPE(U,|u\\rangle,t) - \\phi)| \\leq 2^{(-1 \\cdot n)})] \\geq (1 - \\varepsilon)\n",
    "$$"
   ]
  },
  {
   "cell_type": "code",
   "execution_count": null,
   "metadata": {},
   "outputs": [],
   "source": []
  }
 ],
 "metadata": {
  "kernelspec": {
   "display_name": "Python 3",
   "language": "python",
   "name": "python3"
  }
 },
 "nbformat": 4,
 "nbformat_minor": 0
}
