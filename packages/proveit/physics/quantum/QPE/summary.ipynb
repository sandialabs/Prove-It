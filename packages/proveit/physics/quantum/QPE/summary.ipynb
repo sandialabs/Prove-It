{
 "cells": [
  {
   "cell_type": "markdown",
   "id": "ebf06eaf",
   "metadata": {},
   "source": [
    "## A Summary Outline (and Explanation) of the Proof of the QPE Algorithm"
   ]
  },
  {
   "cell_type": "code",
   "execution_count": null,
   "id": "dcb7cf35",
   "metadata": {},
   "outputs": [],
   "source": [
    "import proveit\n",
    "# QPE-related axioms\n",
    "from proveit.physics.quantum.QPE import (\n",
    "    _fail_def, _m_def, _success_def, _eigen_uu)\n",
    "# QPE-related theorems\n",
    "from proveit.physics.quantum.QPE import (\n",
    "    _alpha_l_eval, _alpha_l_sqrd_ineq, _fail_ineq,\n",
    "    _fail_ineq_lemma, _fail_sum, _u_ket_register, _unitary_u)"
   ]
  },
  {
   "cell_type": "markdown",
   "id": "4e36261f",
   "metadata": {},
   "source": [
    "Let $U$ be any unitary operator with known eigenvector $|u\\rangle$ and associated eigenvalue $e^{2\\pi i \\varphi}$ with unknown value $\\varphi$. That is, axiomatically:"
   ]
  },
  {
   "cell_type": "code",
   "execution_count": null,
   "id": "a605c5fa",
   "metadata": {},
   "outputs": [],
   "source": [
    "_eigen_uu"
   ]
  },
  {
   "cell_type": "markdown",
   "id": "b954aac5",
   "metadata": {},
   "source": [
    "where:"
   ]
  },
  {
   "cell_type": "code",
   "execution_count": null,
   "id": "3c16e670",
   "metadata": {},
   "outputs": [],
   "source": [
    "display(_unitary_u)\n",
    "display(_u_ket_register)"
   ]
  },
  {
   "cell_type": "markdown",
   "id": "56f742c5",
   "metadata": {},
   "source": [
    "Let $b$ be the integer in the range $0$ to $2^t −1$ such that $b/2^t = 0.b_1 b_2 \\ldots b_t$ is the best $t$-bit approximation to $\\varphi$ which is less than $\\varphi$. That is, $\\frac{b}{2^t}$ is the best possible hoped-for estimate of $\\varphi$ that we could ever obtain with our $t$-bit first register, and the difference between $\\varphi - \\frac{b}{2^t} \\leq \\frac{1}{2^{t}}$. "
   ]
  },
  {
   "cell_type": "markdown",
   "id": "4f2aa417",
   "metadata": {},
   "source": [
    "<div style=\"background:lightgreen; padding:10px\">\n",
    "$b = \\max\\left\\{b'\\in\\{0, \\ldots, 2^t-1\\} \\;|\\;  \\varphi - \\frac{b'}{2^t} \\ge 0 \\right\\}$.\n",
    "</div>"
   ]
  },
  {
   "cell_type": "markdown",
   "id": "b28d44c7",
   "metadata": {},
   "source": [
    "For example, suppose that $\\varphi = (0.1111)_2 = \\frac{1}{2} + \\frac{1}{4} + \\frac{1}{8} + \\frac{1}{16} = \\frac{15}{16}$ and suppose we only have $t=3$ bits in our first register. Then $\\frac{b}{2^t} = 0.111 = \\frac{14}{16}$.\n",
    "\n",
    "For example, suppose that $\\varphi = (0.1101)_2 = \\frac{1}{2} + \\frac{1}{4} + \\frac{1}{16} = \\frac{13}{16}$ and suppose we only have $t=3$ bits in our first register. Then $\\frac{b}{2^t} = 0.110 = \\frac{12}{16}$.\n",
    "\n",
    "Of course, $\\varphi$ need not be rational. But in any case, $b$ corresponds to the $t$-bit truncation of $\\varphi$, which gives our inequality from above: $\\varphi - \\frac{b}{2^t} \\leq \\frac{1}{2^t}$."
   ]
  },
  {
   "cell_type": "markdown",
   "id": "07be7abb",
   "metadata": {},
   "source": [
    "<div style=\"background:lightgreen; padding:10px\">\n",
    "    \n",
    "$b \\in \\mathbb{N}$ and $0 \\leq b \\leq (2^t - 1)$ and $0 \\leq \\varphi - \\frac{b}{2^t} < \\frac{1}{2^t}$.\n",
    "\n",
    "\n",
    "<p style=\"font-weight:bold\">STATEMENT of the QPE Theorem</p>\n",
    "\n",
    "Suppose the outcome of the final measurement $\\tilde{\\varphi}$ (a discrete random variable with a specific probability distribution). And suppose we wish to approximate $\\varphi$ to an accuracy of $2^{−n}$.\n",
    "    \n",
    "No matter how small $\\epsilon$ is, and no matter how large $n$ is, there is a large enough $t$, given by:\n",
    "\n",
    "<p style=\"text-align: center;\">$t = n + \\log{(2 + \\frac{1}{2\\epsilon})}$<p>\n",
    "\n",
    "such that $|\\tilde{\\varphi} - b| \\leq \\frac{2^t}{2^{n}}$ with probability $P_{\\text{succ}} \\geq 1-\\epsilon$.\n",
    "</div>"
   ]
  },
  {
   "cell_type": "markdown",
   "id": "79694188",
   "metadata": {},
   "source": [
    "$0 \\leq \\varphi - \\frac{b}{2^t} < \\frac{1}{2^t}$\n",
    "\n",
    "Nielsen & Chuang writes this as $0 \\leq \\delta < \\frac{1}{2^t}$"
   ]
  },
  {
   "cell_type": "markdown",
   "id": "3f6e62c8",
   "metadata": {},
   "source": [
    "As a concrete example, suppose we desire an accuracy of $\\frac{1}{2^3} = \\frac{1}{8}$, i.e., $n = 3$ in measuring $\\varphi$ with a probability of success of $1 - \\epsilon = 0.95$, giving $\\epsilon = 0.05$. Then we would choose:\n",
    "\n",
    "$\\begin{align}\n",
    " t &= 3 + \\log{(2 + \\frac{1}{0.1})}\\\\\n",
    " &= 3 + \\log{(2 + 10)}\\\\\n",
    " &= 3 + \\log{(12)}\\\\\n",
    " &= 3 + \\log{(12)}\\\\\n",
    " &= 6.58 \\approx 7\n",
    " \\end{align}\n",
    " $"
   ]
  },
  {
   "cell_type": "markdown",
   "id": "eca68d9d",
   "metadata": {},
   "source": [
    "$\\begin{align}\n",
    "t &= n + \\log{(2 + \\frac{1}{2\\epsilon})}\\\\\n",
    "2^t &= 2^{n + \\log{(2 + \\frac{1}{2\\epsilon})}}\\\\\n",
    "2^t &= 2^n 2^{\\log{(2 + \\frac{1}{2\\epsilon})}}\\\\\n",
    "2^t &= 2^n (2 + \\frac{1}{2\\epsilon})\\\\\n",
    "\\frac{2^t}{2^n} &= (2 + \\frac{1}{2\\epsilon})\\\\\n",
    "\\end{align}$"
   ]
  },
  {
   "cell_type": "markdown",
   "id": "29866fd1",
   "metadata": {},
   "source": [
    "No matter how small $\\epsilon \\in (0, 1)$ is, there is a large enough $t \\in\\mathbb{N}^{+}$ such that $P_{succ}(QPE, t) = 1- \\epsilon$"
   ]
  },
  {
   "cell_type": "markdown",
   "id": "1615f67e",
   "metadata": {},
   "source": [
    "The goal of the quantum phase estimation (QPE) algorithm is to estimate $\\varphi$."
   ]
  },
  {
   "cell_type": "markdown",
   "id": "4919e969",
   "metadata": {},
   "source": [
    "One way to conceptualize the so-called “QPE Algorithm” or “QPE Theorem” is as a specification of an upper bound on the probability of obtaining a poor estimate (i.e. a poor measure) of the phase $\\varphi$, where the probability of such a poor result (_i.e._ the probability of a ”failure“) is defined by:"
   ]
  },
  {
   "cell_type": "code",
   "execution_count": null,
   "id": "242216b3",
   "metadata": {},
   "outputs": [],
   "source": [
    "_fail_def"
   ]
  },
  {
   "cell_type": "markdown",
   "id": "33cebd7e",
   "metadata": {},
   "source": [
    "and the probability of a _good_ estimate (_i.e._ the probability of a success) is defined as:"
   ]
  },
  {
   "cell_type": "code",
   "execution_count": null,
   "id": "3fae4e19",
   "metadata": {},
   "outputs": [],
   "source": [
    "_success_def"
   ]
  },
  {
   "cell_type": "markdown",
   "id": "ef62a8a9",
   "metadata": {},
   "source": [
    "Thus clearly $P_{\\text{success}}(\\text{QPE}) + P_{\\text{fail}}(\\text{QPE}) = 1$, where the axioms above use the short-hand:\n",
    "\n",
    "$P_{\\text{success}} \\equiv P_{\\text{success}}(\\text{QPE})$ and $P_{\\text{fail}} \\equiv P_{\\text{fail}}(\\text{QPE})$"
   ]
  },
  {
   "cell_type": "markdown",
   "id": "79d0d79b",
   "metadata": {},
   "source": [
    "$m(\\text{QPE})$ equals the outcome of the final measurement in the QPE algorithm."
   ]
  },
  {
   "cell_type": "code",
   "execution_count": null,
   "id": "fe38147b",
   "metadata": {},
   "outputs": [],
   "source": [
    "_m_def"
   ]
  },
  {
   "cell_type": "code",
   "execution_count": null,
   "id": "af7a5f48",
   "metadata": {},
   "outputs": [],
   "source": []
  },
  {
   "cell_type": "code",
   "execution_count": null,
   "id": "2bf33ba9",
   "metadata": {},
   "outputs": [],
   "source": [
    "_fail_sum"
   ]
  },
  {
   "cell_type": "code",
   "execution_count": null,
   "id": "c7fb189b",
   "metadata": {},
   "outputs": [],
   "source": []
  },
  {
   "cell_type": "code",
   "execution_count": null,
   "id": "1a31fe34",
   "metadata": {},
   "outputs": [],
   "source": []
  },
  {
   "cell_type": "code",
   "execution_count": null,
   "id": "dc731013",
   "metadata": {},
   "outputs": [],
   "source": []
  },
  {
   "cell_type": "code",
   "execution_count": null,
   "id": "011336bb",
   "metadata": {},
   "outputs": [],
   "source": [
    "_alpha_l_eval"
   ]
  },
  {
   "cell_type": "code",
   "execution_count": null,
   "id": "bfce5c7c",
   "metadata": {},
   "outputs": [],
   "source": [
    "_alpha_l_sqrd_ineq"
   ]
  },
  {
   "cell_type": "code",
   "execution_count": null,
   "id": "ba0a0838",
   "metadata": {},
   "outputs": [],
   "source": [
    "_fail_ineq_lemma"
   ]
  },
  {
   "cell_type": "code",
   "execution_count": null,
   "id": "e4a277c2",
   "metadata": {},
   "outputs": [],
   "source": [
    "_fail_ineq"
   ]
  },
  {
   "cell_type": "code",
   "execution_count": null,
   "id": "b15429ee",
   "metadata": {},
   "outputs": [],
   "source": []
  }
 ],
 "metadata": {
  "kernelspec": {
   "display_name": "Python 3",
   "language": "python",
   "name": "python3"
  }
 },
 "nbformat": 4,
 "nbformat_minor": 0
}
