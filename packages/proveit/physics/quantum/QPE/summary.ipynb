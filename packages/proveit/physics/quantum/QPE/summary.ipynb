{
 "cells": [
  {
   "cell_type": "markdown",
   "id": "c47ad0d3",
   "metadata": {},
   "source": [
    "## A Summary Outline (and Explanation) of the Proof of the QPE Algorithm"
   ]
  },
  {
   "cell_type": "code",
   "execution_count": null,
   "id": "ec5cd0c4",
   "metadata": {},
   "outputs": [],
   "source": [
    "import proveit\n",
    "# QPE-related axioms\n",
    "from proveit.physics.quantum.QPE import (\n",
    "    _fail_def, _m_def, _success_def, _eigen_uu)\n",
    "# QPE-related theorems\n",
    "from proveit.physics.quantum.QPE import (\n",
    "    _alpha_l_eval, _alpha_l_sqrd_ineq, _fail_ineq,\n",
    "    _fail_ineq_lemma, _fail_sum)"
   ]
  },
  {
   "cell_type": "markdown",
   "id": "c9da4eef",
   "metadata": {},
   "source": [
    "Let $U$ be any unitary operator with known eigenvector $|u\\rangle$ and associated eigenvalue $e^{2\\pi i \\varphi}$ with unknown value $\\varphi$. That is, axiomatically:"
   ]
  },
  {
   "cell_type": "code",
   "execution_count": null,
   "id": "b862f619",
   "metadata": {},
   "outputs": [],
   "source": [
    "_eigen_uu"
   ]
  },
  {
   "cell_type": "markdown",
   "id": "2bef7f80",
   "metadata": {},
   "source": [
    "No matter how small $\\epsilon \\in (0, 1)$ is, there is a large enough $t \\in\\mathbb{N}^{+}$ such that $P_{succ}(QPE, t) = 1- \\epsilon$"
   ]
  },
  {
   "cell_type": "markdown",
   "id": "9472a490",
   "metadata": {},
   "source": [
    "The goal of the quantum phase estimation (QPE) algorithm is to estimate $\\varphi$."
   ]
  },
  {
   "cell_type": "markdown",
   "id": "0fc3a7ea",
   "metadata": {},
   "source": [
    "One way to conceptualize the so-called “QPE Algorithm” or “QPE Theorem” is as a specification of an upper bound on the probability of obtaining a poor estimate (i.e. a poor measure) of the phase $\\varphi$, where the probability of such a poor result (_i.e._ the probability of a ”failure“) is defined by:"
   ]
  },
  {
   "cell_type": "code",
   "execution_count": null,
   "id": "484ef956",
   "metadata": {},
   "outputs": [],
   "source": [
    "_fail_def"
   ]
  },
  {
   "cell_type": "markdown",
   "id": "17b0c88c",
   "metadata": {},
   "source": [
    "and the probability of a _good_ estimate (_i.e._ the probability of a success) is defined as:"
   ]
  },
  {
   "cell_type": "code",
   "execution_count": null,
   "id": "7c67203d",
   "metadata": {},
   "outputs": [],
   "source": [
    "_success_def"
   ]
  },
  {
   "cell_type": "markdown",
   "id": "0fd08a8d",
   "metadata": {},
   "source": [
    "Thus clearly $P_{\\text{success}}(\\text{QPE}) + P_{\\text{fail}}(\\text{QPE}) = 1$, where the axioms above use the short-hand:\n",
    "\n",
    "$P_{\\text{success}} \\equiv P_{\\text{success}}(\\text{QPE})$ and $P_{\\text{fail}} \\equiv P_{\\text{fail}}(\\text{QPE})$"
   ]
  },
  {
   "cell_type": "markdown",
   "id": "e633c27e",
   "metadata": {},
   "source": [
    "$m(\\text{QPE})$ equals the outcome of the final measurement in the QPE algorithm."
   ]
  },
  {
   "cell_type": "code",
   "execution_count": null,
   "id": "4a5c853c",
   "metadata": {},
   "outputs": [],
   "source": [
    "_m_def"
   ]
  },
  {
   "cell_type": "code",
   "execution_count": null,
   "id": "01395170",
   "metadata": {},
   "outputs": [],
   "source": []
  },
  {
   "cell_type": "code",
   "execution_count": null,
   "id": "c862544c",
   "metadata": {},
   "outputs": [],
   "source": [
    "_fail_sum"
   ]
  },
  {
   "cell_type": "code",
   "execution_count": null,
   "id": "2189a086",
   "metadata": {},
   "outputs": [],
   "source": []
  },
  {
   "cell_type": "code",
   "execution_count": null,
   "id": "b1e90921",
   "metadata": {},
   "outputs": [],
   "source": []
  },
  {
   "cell_type": "code",
   "execution_count": null,
   "id": "db4c0360",
   "metadata": {},
   "outputs": [],
   "source": []
  },
  {
   "cell_type": "code",
   "execution_count": null,
   "id": "1cbf4053",
   "metadata": {},
   "outputs": [],
   "source": [
    "_alpha_l_eval"
   ]
  },
  {
   "cell_type": "code",
   "execution_count": null,
   "id": "0c84e6f8",
   "metadata": {},
   "outputs": [],
   "source": [
    "_alpha_l_sqrd_ineq"
   ]
  },
  {
   "cell_type": "code",
   "execution_count": null,
   "id": "bdbc8c44",
   "metadata": {},
   "outputs": [],
   "source": [
    "_fail_ineq_lemma"
   ]
  },
  {
   "cell_type": "code",
   "execution_count": null,
   "id": "8d95443a",
   "metadata": {},
   "outputs": [],
   "source": [
    "_fail_ineq"
   ]
  },
  {
   "cell_type": "code",
   "execution_count": null,
   "id": "2ec4ec3c",
   "metadata": {},
   "outputs": [],
   "source": []
  }
 ],
 "metadata": {
  "kernelspec": {
   "display_name": "Python 3",
   "language": "python",
   "name": "python3"
  }
 },
 "nbformat": 4,
 "nbformat_minor": 0
}
