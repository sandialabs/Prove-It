{
 "cells": [
  {
   "cell_type": "markdown",
   "metadata": {},
   "source": [
    "Expression of type <a class=\"ProveItLink\" href=\"../../../../../../../../doc/html/api/proveit.ExprRange.html\">ExprRange</a>\n",
    "=======================\n",
    "# from the theory of <a class=\"ProveItLink\" href=\"../../../_theory_nbs_/theory.ipynb\">proveit.physics.quantum.QPE</a>"
   ]
  },
  {
   "cell_type": "code",
   "execution_count": 1,
   "metadata": {},
   "outputs": [],
   "source": [
    "import proveit\n",
    "# Automation is not needed when building an expression:\n",
    "proveit.defaults.automation = False # This will speed things up.\n",
    "proveit.defaults.inline_pngs = False # Makes files smaller.\n",
    "%load_expr # Load the stored expression as 'stored_expr'\n",
    "# import Expression classes needed to build the expression\n",
    "from proveit import ExprRange, Variable, t\n",
    "from proveit.numbers import Add, Interval, one\n",
    "from proveit.physics.quantum.QPE import QPE1, _U, _s\n",
    "from proveit.physics.quantum.circuits import Gate, MultiQubitElem"
   ]
  },
  {
   "cell_type": "code",
   "execution_count": 2,
   "metadata": {},
   "outputs": [
    {
     "data": {
      "text/html": [
       "<strong id=\"expr\">expr:</strong> <a class=\"ProveItLink\" href=\"expr.ipynb\"><img src=\"expr.png\" style=\"display:inline;vertical-align:middle;\" /></a><br>"
      ],
      "text/plain": [
       "<IPython.core.display.HTML object>"
      ]
     },
     "metadata": {},
     "output_type": "display_data"
    }
   ],
   "source": [
    "# build up the expression from sub-expressions\n",
    "sub_expr1 = Variable(\"_a\", latex_format = r\"{_{-}a}\")\n",
    "sub_expr2 = Add(t, _s)\n",
    "expr = ExprRange(sub_expr1, MultiQubitElem(element = Gate(operation = QPE1(_U, t), part = sub_expr1), targets = Interval(one, sub_expr2)), Add(t, one), sub_expr2)"
   ]
  },
  {
   "cell_type": "code",
   "execution_count": 3,
   "metadata": {},
   "outputs": [
    {
     "name": "stdout",
     "output_type": "stream",
     "text": [
      "Passed sanity check: expr matches stored_expr\n"
     ]
    }
   ],
   "source": [
    "# check that the built expression is the same as the stored expression\n",
    "assert expr == stored_expr\n",
    "assert expr._style_id == stored_expr._style_id\n",
    "print(\"Passed sanity check: expr matches stored_expr\")"
   ]
  },
  {
   "cell_type": "code",
   "execution_count": 4,
   "metadata": {},
   "outputs": [
    {
     "name": "stdout",
     "output_type": "stream",
     "text": [
      "\\begin{array}{c} \\Qcircuit@C=1em @R=.7em{\n",
      "& & \\gate{\\textrm{QPE}_1\\left(U, t\\right)~\\mbox{part}~t + 1~\\mbox{on}~\\{1~\\ldotp \\ldotp~t + s\\}} & \\qw \n",
      "} \\end{array}, \\begin{array}{c} \\Qcircuit@C=1em @R=.7em{\n",
      "& & \\gate{\\textrm{QPE}_1\\left(U, t\\right)~\\mbox{part}~t + 2~\\mbox{on}~\\{1~\\ldotp \\ldotp~t + s\\}} & \\qw \n",
      "} \\end{array}, \\ldots, \\begin{array}{c} \\Qcircuit@C=1em @R=.7em{\n",
      "& & \\gate{\\textrm{QPE}_1\\left(U, t\\right)~\\mbox{part}~t + s~\\mbox{on}~\\{1~\\ldotp \\ldotp~t + s\\}} & \\qw \n",
      "} \\end{array}\n"
     ]
    }
   ],
   "source": [
    "# Show the LaTeX representation of the expression for convenience if you need it.\n",
    "print(stored_expr.latex())"
   ]
  },
  {
   "cell_type": "code",
   "execution_count": 5,
   "metadata": {},
   "outputs": [
    {
     "data": {
      "text/html": [
       "<table>\n",
       "<tr><th>name</th><th>description</th><th>default</th><th>current value</th><th>related methods</th></tr><tr><td>parameterization</td><td>'implicit' (default for LaTeX formatting) hides the parameter the ExprRange so the parameterization may be ambiguous (e.g., x_{1+1}, ..., x_{n+1}); 'explicit' (default for string formatting) reveals the parameterization (e.g. x_{1+1}, ..x_{k+1}.., x_{n+1}).</td><td>None</td><td>None/False</td><td>('with_explicit_parameterization', 'with_implicit_parameterization', 'with_default_parameterization_style')</td></tr>\n",
       "<tr><td>front_expansion</td><td>The number of instances to display at the front of the range (e.g., before the ellipsis). Default is 2.</td><td>2</td><td>2</td><td>('with_front_expansion', 'get_front_expansion')</td></tr>\n",
       "<tr><td>back_expansion</td><td>The number of instances to display at the back of the range (e.g., after the ellipsis). Default is 1.</td><td>1</td><td>1</td><td>('with_back_expansion', 'get_back_expansion')</td></tr>\n",
       "<tr><td>order</td><td>The default order is 'increasing' (a_1 ... a_3) but to represent a 'decreasing' ExprRange (a_6 ... a_2) the order must be set to 'decreasing'</td><td>increasing</td><td>increasing</td><td>('with_decreasing_order', 'with_increasing_order')</td></tr>\n",
       "<tr><td>wrap_positions</td><td>position(s) at which wrapping is to occur; 'n' is after the nth comma.</td><td>()</td><td>()</td><td>('with_wrapping_at',)</td></tr>\n",
       "<tr><td>case_simplify</td><td>If 'True', simplify formatted instances that are ConditionalSets under proper index assumptions</td><td>False</td><td>False</td><td>('with_case_simplification',)</td></tr>\n",
       "</table>\n"
      ],
      "text/plain": [
       "style name: parameterization\n",
       "description: 'implicit' (default for LaTeX formatting) hides the parameter the ExprRange so the parameterization may be ambiguous (e.g., x_{1+1}, ..., x_{n+1}); 'explicit' (default for string formatting) reveals the parameterization (e.g. x_{1+1}, ..x_{k+1}.., x_{n+1}).\n",
       "default: None\n",
       "current value: None/False\n",
       "related methods: ('with_explicit_parameterization', 'with_implicit_parameterization', 'with_default_parameterization_style')\n",
       "style name: front_expansion\n",
       "description: The number of instances to display at the front of the range (e.g., before the ellipsis). Default is 2.\n",
       "default: 2\n",
       "current value: 2\n",
       "related methods: ('with_front_expansion', 'get_front_expansion')\n",
       "style name: back_expansion\n",
       "description: The number of instances to display at the back of the range (e.g., after the ellipsis). Default is 1.\n",
       "default: 1\n",
       "current value: 1\n",
       "related methods: ('with_back_expansion', 'get_back_expansion')\n",
       "style name: order\n",
       "description: The default order is 'increasing' (a_1 ... a_3) but to represent a 'decreasing' ExprRange (a_6 ... a_2) the order must be set to 'decreasing'\n",
       "default: increasing\n",
       "current value: increasing\n",
       "related methods: ('with_decreasing_order', 'with_increasing_order')\n",
       "style name: wrap_positions\n",
       "description: position(s) at which wrapping is to occur; 'n' is after the nth comma.\n",
       "default: ()\n",
       "current value: ()\n",
       "related methods: ('with_wrapping_at',)\n",
       "style name: case_simplify\n",
       "description: If 'True', simplify formatted instances that are ConditionalSets under proper index assumptions\n",
       "default: False\n",
       "current value: False\n",
       "related methods: ('with_case_simplification',)"
      ]
     },
     "metadata": {},
     "output_type": "display_data"
    }
   ],
   "source": [
    "stored_expr.style_options()"
   ]
  },
  {
   "cell_type": "code",
   "execution_count": 6,
   "metadata": {},
   "outputs": [
    {
     "data": {
      "text/html": [
       "<table><tr><th>&nbsp;</th><th>core type</th><th>sub-expressions</th><th>expression</th></tr>\n",
       "<tr><td>0</td><td>ExprRange</td><td>lambda_map:&nbsp;1<br>start_index:&nbsp;2<br>end_index:&nbsp;17<br></td><td><a class=\"ProveItLink\" href=\"expr.ipynb\"><img src=\"expr.png\" style=\"display:inline;vertical-align:middle;\" /></a></td></tr>\n",
       "<tr><td>1</td><td>Lambda</td><td>parameter:&nbsp;15<br>body:&nbsp;4<br></td><td><a class=\"ProveItLink\" href=\"../c309fd00d35957aaaaf3a9cb436a6bdf0eb6dbcc0/expr.ipynb\"><img src=\"../c309fd00d35957aaaaf3a9cb436a6bdf0eb6dbcc0/expr.png\" style=\"display:inline;vertical-align:middle;\" /></a></td></tr>\n",
       "<tr><td>2</td><td>Operation</td><td>operator:&nbsp;20<br>operands:&nbsp;5<br></td><td><a class=\"ProveItLink\" href=\"../da3a9b7cb1fc73dc54679e3aad35b8e91b8d8f820/expr.ipynb\"><img src=\"../da3a9b7cb1fc73dc54679e3aad35b8e91b8d8f820/expr.png\" style=\"display:inline;vertical-align:middle;\" /></a></td></tr>\n",
       "<tr><td>3</td><td>ExprTuple</td><td>15</td><td><a class=\"ProveItLink\" href=\"../../common/4b0dd6be36d76552eda6a95d5b4a27f5a5b62f900/expr.ipynb\"><img src=\"../../common/4b0dd6be36d76552eda6a95d5b4a27f5a5b62f900/expr.png\" style=\"display:inline;vertical-align:middle;\" /></a></td></tr>\n",
       "<tr><td>4</td><td>Operation</td><td>operator:&nbsp;6<br>operands:&nbsp;7<br></td><td><a class=\"ProveItLink\" href=\"../7b3830146f81b5ed201b854163e3319a9353d0580/expr.ipynb\"><img src=\"../7b3830146f81b5ed201b854163e3319a9353d0580/expr.png\" style=\"display:inline;vertical-align:middle;\" /></a></td></tr>\n",
       "<tr><td>5</td><td>ExprTuple</td><td>23, 16</td><td><a class=\"ProveItLink\" href=\"../163d7569c6c27dcd1ee82c5775d619290779899c0/expr.ipynb\"><img src=\"../163d7569c6c27dcd1ee82c5775d619290779899c0/expr.png\" style=\"display:inline;vertical-align:middle;\" /></a></td></tr>\n",
       "<tr><td>6</td><td>Literal</td><td></td><td><a class=\"ProveItLink\" href=\"../../../../circuits/__pv_it/common/5eaa43008f05c06941080a12337ff182ea14996e0/expr.ipynb\"><img src=\"../../../../circuits/__pv_it/common/5eaa43008f05c06941080a12337ff182ea14996e0/expr.png\" style=\"display:inline;vertical-align:middle;\" /></a></td></tr>\n",
       "<tr><td>7</td><td>NamedExprs</td><td>element: 8<br>targets: 9<br></td><td><a class=\"ProveItLink\" href=\"../9361771f33b7614672edfacdf8de91d5412051fd0/expr.ipynb\"><img src=\"../9361771f33b7614672edfacdf8de91d5412051fd0/expr.png\" style=\"display:inline;vertical-align:middle;\" /></a></td></tr>\n",
       "<tr><td>8</td><td>Operation</td><td>operator:&nbsp;10<br>operands:&nbsp;11<br></td><td><a class=\"ProveItLink\" href=\"../6202e23a040c30bda41af2e8b35d98ddf43c0d510/expr.ipynb\"><img src=\"../6202e23a040c30bda41af2e8b35d98ddf43c0d510/expr.png\" style=\"display:inline;vertical-align:middle;\" /></a></td></tr>\n",
       "<tr><td>9</td><td>Operation</td><td>operator:&nbsp;12<br>operands:&nbsp;13<br></td><td><a class=\"ProveItLink\" href=\"../8b1bca84bb9ee4c20163dea5f85ded4dcaf247080/expr.ipynb\"><img src=\"../8b1bca84bb9ee4c20163dea5f85ded4dcaf247080/expr.png\" style=\"display:inline;vertical-align:middle;\" /></a></td></tr>\n",
       "<tr><td>10</td><td>Literal</td><td></td><td><a class=\"ProveItLink\" href=\"../../../../circuits/__pv_it/common/ead8f6f18d2b8c24f1ed8db33df594edd77c9bcc0/expr.ipynb\"><img src=\"../../../../circuits/__pv_it/common/ead8f6f18d2b8c24f1ed8db33df594edd77c9bcc0/expr.png\" style=\"display:inline;vertical-align:middle;\" /></a></td></tr>\n",
       "<tr><td>11</td><td>NamedExprs</td><td>operation: 14<br>part: 15<br></td><td><a class=\"ProveItLink\" href=\"../82b897aa38c516d999eccfee0f30e9768b099e670/expr.ipynb\"><img src=\"../82b897aa38c516d999eccfee0f30e9768b099e670/expr.png\" style=\"display:inline;vertical-align:middle;\" /></a></td></tr>\n",
       "<tr><td>12</td><td>Literal</td><td></td><td><a class=\"ProveItLink\" href=\"../../../../../../numbers/number_sets/integers/__pv_it/common/92f3a0a77e3c3ea8e4a5c8674edadc54e4f57d550/expr.ipynb\"><img src=\"../../../../../../numbers/number_sets/integers/__pv_it/common/92f3a0a77e3c3ea8e4a5c8674edadc54e4f57d550/expr.png\" style=\"display:inline;vertical-align:middle;\" /></a></td></tr>\n",
       "<tr><td>13</td><td>ExprTuple</td><td>16, 17</td><td><a class=\"ProveItLink\" href=\"../3f423dad95fd45dde4f32a2a3edac43eb31fdbb40/expr.ipynb\"><img src=\"../3f423dad95fd45dde4f32a2a3edac43eb31fdbb40/expr.png\" style=\"display:inline;vertical-align:middle;\" /></a></td></tr>\n",
       "<tr><td>14</td><td>Operation</td><td>operator:&nbsp;18<br>operands:&nbsp;19<br></td><td><a class=\"ProveItLink\" href=\"../e24efe70740667b32f84ad9906aff00c9a55307c0/expr.ipynb\"><img src=\"../e24efe70740667b32f84ad9906aff00c9a55307c0/expr.png\" style=\"display:inline;vertical-align:middle;\" /></a></td></tr>\n",
       "<tr><td>15</td><td>Variable</td><td></td><td><a class=\"ProveItLink\" href=\"../../common/006c465e50948aa2b52285e2de47974f741255cc0/expr.ipynb\"><img src=\"../../common/006c465e50948aa2b52285e2de47974f741255cc0/expr.png\" style=\"display:inline;vertical-align:middle;\" /></a></td></tr>\n",
       "<tr><td>16</td><td>Literal</td><td></td><td><a class=\"ProveItLink\" href=\"../../../../../../numbers/numerals/__pv_it/common/682157d4892d216d9e5626ed533aff9b56b9506e0/expr.ipynb\"><img src=\"../../../../../../numbers/numerals/__pv_it/common/682157d4892d216d9e5626ed533aff9b56b9506e0/expr.png\" style=\"display:inline;vertical-align:middle;\" /></a></td></tr>\n",
       "<tr><td>17</td><td>Operation</td><td>operator:&nbsp;20<br>operands:&nbsp;21<br></td><td><a class=\"ProveItLink\" href=\"../d2d49f53ed6c0d9ac7dc8d27b9cf718603e9bc9d0/expr.ipynb\"><img src=\"../d2d49f53ed6c0d9ac7dc8d27b9cf718603e9bc9d0/expr.png\" style=\"display:inline;vertical-align:middle;\" /></a></td></tr>\n",
       "<tr><td>18</td><td>Literal</td><td></td><td><a class=\"ProveItLink\" href=\"../../common/beb2fed25dfc66601332874f08798031de9b45210/expr.ipynb\"><img src=\"../../common/beb2fed25dfc66601332874f08798031de9b45210/expr.png\" style=\"display:inline;vertical-align:middle;\" /></a></td></tr>\n",
       "<tr><td>19</td><td>ExprTuple</td><td>22, 23</td><td><a class=\"ProveItLink\" href=\"../72c7fb5cbc8273c0a73b3b004fd7d9e994fa86070/expr.ipynb\"><img src=\"../72c7fb5cbc8273c0a73b3b004fd7d9e994fa86070/expr.png\" style=\"display:inline;vertical-align:middle;\" /></a></td></tr>\n",
       "<tr><td>20</td><td>Literal</td><td></td><td><a class=\"ProveItLink\" href=\"../../../../../../numbers/addition/__pv_it/common/4b7effaab3619a1c2c38fe2dee8601df8ec714590/expr.ipynb\"><img src=\"../../../../../../numbers/addition/__pv_it/common/4b7effaab3619a1c2c38fe2dee8601df8ec714590/expr.png\" style=\"display:inline;vertical-align:middle;\" /></a></td></tr>\n",
       "<tr><td>21</td><td>ExprTuple</td><td>23, 24</td><td><a class=\"ProveItLink\" href=\"../f3cff4586a5d1e7c2858f11ee1a5ac76adcdcc010/expr.ipynb\"><img src=\"../f3cff4586a5d1e7c2858f11ee1a5ac76adcdcc010/expr.png\" style=\"display:inline;vertical-align:middle;\" /></a></td></tr>\n",
       "<tr><td>22</td><td>Literal</td><td></td><td><a class=\"ProveItLink\" href=\"../../common/977758a9490d187b2ff100fdbc53911d78995da80/expr.ipynb\"><img src=\"../../common/977758a9490d187b2ff100fdbc53911d78995da80/expr.png\" style=\"display:inline;vertical-align:middle;\" /></a></td></tr>\n",
       "<tr><td>23</td><td>Variable</td><td></td><td><a class=\"ProveItLink\" href=\"../../../../../../__pv_it/common/36861eae73a44b53d5b3b017ac6a3a9dae53bfba0/expr.ipynb\"><img src=\"../../../../../../__pv_it/common/36861eae73a44b53d5b3b017ac6a3a9dae53bfba0/expr.png\" style=\"display:inline;vertical-align:middle;\" /></a></td></tr>\n",
       "<tr><td>24</td><td>Literal</td><td></td><td><a class=\"ProveItLink\" href=\"../../common/8a1628c4cfc7b78e5c5de183ba3f5cff0b20d4dd0/expr.ipynb\"><img src=\"../../common/8a1628c4cfc7b78e5c5de183ba3f5cff0b20d4dd0/expr.png\" style=\"display:inline;vertical-align:middle;\" /></a></td></tr>\n",
       "</table>\n"
      ],
      "text/plain": [
       "0. [MULTI_QUBIT_ELEM]{element:[GATE]{operation:QPE1(U, t), part:(t + 1)}, targets:{1 .. t + s}}, [MULTI_QUBIT_ELEM]{element:[GATE]{operation:QPE1(U, t), part:(t + 2)}, targets:{1 .. t + s}}, ..., [MULTI_QUBIT_ELEM]{element:[GATE]{operation:QPE1(U, t), part:(t + s)}, targets:{1 .. t + s}}\n",
       "   core type: ExprRange\n",
       "   lambda_map: 1\n",
       "   start_index: 2\n",
       "   end_index: 17\n",
       "1. _a -> [MULTI_QUBIT_ELEM]{element:[GATE]{operation:QPE1(U, t), part:_a}, targets:{1 .. t + s}}\n",
       "   core type: Lambda\n",
       "   parameter: 15\n",
       "   body: 4\n",
       "2. t + 1\n",
       "   core type: Operation\n",
       "   operator: 20\n",
       "   operands: 5\n",
       "3. (_a)\n",
       "   core type: ExprTuple\n",
       "   sub-expressions: 15\n",
       "4. [MULTI_QUBIT_ELEM]{element:[GATE]{operation:QPE1(U, t), part:_a}, targets:{1 .. t + s}}\n",
       "   core type: Operation\n",
       "   operator: 6\n",
       "   operands: 7\n",
       "5. (t, 1)\n",
       "   core type: ExprTuple\n",
       "   sub-expressions: 23, 16\n",
       "6. MULTI_QUBIT_ELEM\n",
       "   core type: Literal\n",
       "   sub-expressions: \n",
       "7. {element:[GATE]{operation:QPE1(U, t), part:_a}, targets:{1 .. t + s}}\n",
       "   core type: NamedExprs\n",
       "   element: 8\n",
       "   targets: 9\n",
       "8. [GATE]{operation:QPE1(U, t), part:_a}\n",
       "   core type: Operation\n",
       "   operator: 10\n",
       "   operands: 11\n",
       "9. {1 .. t + s}\n",
       "   core type: Operation\n",
       "   operator: 12\n",
       "   operands: 13\n",
       "10. GATE\n",
       "    core type: Literal\n",
       "    sub-expressions: \n",
       "11. {operation:QPE1(U, t), part:_a}\n",
       "    core type: NamedExprs\n",
       "    operation: 14\n",
       "    part: 15\n",
       "12. Interval\n",
       "    core type: Literal\n",
       "    sub-expressions: \n",
       "13. (1, t + s)\n",
       "    core type: ExprTuple\n",
       "    sub-expressions: 16, 17\n",
       "14. QPE1(U, t)\n",
       "    core type: Operation\n",
       "    operator: 18\n",
       "    operands: 19\n",
       "15. _a\n",
       "    core type: Variable\n",
       "    sub-expressions: \n",
       "16. 1\n",
       "    core type: Literal\n",
       "    sub-expressions: \n",
       "17. t + s\n",
       "    core type: Operation\n",
       "    operator: 20\n",
       "    operands: 21\n",
       "18. QPE1\n",
       "    core type: Literal\n",
       "    sub-expressions: \n",
       "19. (U, t)\n",
       "    core type: ExprTuple\n",
       "    sub-expressions: 22, 23\n",
       "20. +\n",
       "    core type: Literal\n",
       "    sub-expressions: \n",
       "21. (t, s)\n",
       "    core type: ExprTuple\n",
       "    sub-expressions: 23, 24\n",
       "22. U\n",
       "    core type: Literal\n",
       "    sub-expressions: \n",
       "23. t\n",
       "    core type: Variable\n",
       "    sub-expressions: \n",
       "24. s\n",
       "    core type: Literal\n",
       "    sub-expressions: "
      ]
     },
     "metadata": {},
     "output_type": "display_data"
    }
   ],
   "source": [
    "# display the expression information\n",
    "stored_expr.expr_info()"
   ]
  },
  {
   "cell_type": "code",
   "execution_count": null,
   "metadata": {},
   "outputs": [],
   "source": []
  }
 ],
 "metadata": {
  "kernelspec": {
   "display_name": "Python 3",
   "language": "python",
   "name": "python3"
  }
 },
 "nbformat": 4,
 "nbformat_minor": 0
}