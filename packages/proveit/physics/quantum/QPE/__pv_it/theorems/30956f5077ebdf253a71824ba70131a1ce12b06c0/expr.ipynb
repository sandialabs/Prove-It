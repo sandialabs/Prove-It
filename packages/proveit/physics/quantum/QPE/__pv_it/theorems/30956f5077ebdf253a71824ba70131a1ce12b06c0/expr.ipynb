{
 "cells": [
  {
   "cell_type": "markdown",
   "metadata": {},
   "source": [
    "Expression of type <a class=\"ProveItLink\" href=\"../../../../../../../../doc/html/api/proveit.physics.quantum.QPE.SubIndexed.html\">SubIndexed</a>\n",
    "=======================\n",
    "# from the theory of <a class=\"ProveItLink\" href=\"../../../_theory_nbs_/theory.ipynb\">proveit.physics.quantum.QPE</a>"
   ]
  },
  {
   "cell_type": "code",
   "execution_count": 1,
   "metadata": {},
   "outputs": [],
   "source": [
    "import proveit\n",
    "# Automation is not needed when building an expression:\n",
    "proveit.defaults.automation = False # This will speed things up.\n",
    "proveit.defaults.inline_pngs = False # Makes files smaller.\n",
    "%load_expr # Load the stored expression as 'stored_expr'\n",
    "# import Expression classes needed to build the expression\n",
    "from proveit.numbers import Mod, Mult, Round\n",
    "from proveit.physics.quantum.QPE import SubIndexed, _alpha, _phase, _two_pow_t"
   ]
  },
  {
   "cell_type": "code",
   "execution_count": 2,
   "metadata": {},
   "outputs": [
    {
     "data": {
      "text/html": [
       "<strong id=\"expr\">expr:</strong> <a class=\"ProveItLink\" href=\"expr.ipynb\"><img src=\"expr.png\" style=\"display:inline;vertical-align:middle;\" /></a><br>"
      ],
      "text/plain": [
       "<IPython.core.display.HTML object>"
      ]
     },
     "metadata": {},
     "output_type": "display_data"
    }
   ],
   "source": [
    "# build up the expression from sub-expressions\n",
    "expr = SubIndexed(_alpha, [Mod(Round(Mult(_two_pow_t, _phase)), _two_pow_t)])"
   ]
  },
  {
   "cell_type": "code",
   "execution_count": 3,
   "metadata": {},
   "outputs": [
    {
     "name": "stdout",
     "output_type": "stream",
     "text": [
      "Passed sanity check: expr matches stored_expr\n"
     ]
    }
   ],
   "source": [
    "# check that the built expression is the same as the stored expression\n",
    "assert expr == stored_expr\n",
    "assert expr._style_id == stored_expr._style_id\n",
    "print(\"Passed sanity check: expr matches stored_expr\")"
   ]
  },
  {
   "cell_type": "code",
   "execution_count": 4,
   "metadata": {},
   "outputs": [
    {
     "name": "stdout",
     "output_type": "stream",
     "text": [
      "\\alpha_{round\\left(2^{t} \\cdot \\varphi\\right) ~\\textup{mod}~ 2^{t}}\n"
     ]
    }
   ],
   "source": [
    "# Show the LaTeX representation of the expression for convenience if you need it.\n",
    "print(stored_expr.latex())"
   ]
  },
  {
   "cell_type": "code",
   "execution_count": 5,
   "metadata": {},
   "outputs": [
    {
     "data": {
      "text/html": [
       "<table>\n",
       "<tr><th>name</th><th>description</th><th>default</th><th>current value</th><th>related methods</th></tr><tr><td>operation</td><td>'infix' or 'function' style formatting</td><td>infix</td><td>infix</td><td></td></tr>\n",
       "</table>\n"
      ],
      "text/plain": [
       "style name: operation\n",
       "description: 'infix' or 'function' style formatting\n",
       "default: infix\n",
       "current value: infix\n",
       "related methods: ()"
      ]
     },
     "metadata": {},
     "output_type": "display_data"
    }
   ],
   "source": [
    "stored_expr.style_options()"
   ]
  },
  {
   "cell_type": "code",
   "execution_count": 6,
   "metadata": {},
   "outputs": [
    {
     "data": {
      "text/html": [
       "<table><tr><th>&nbsp;</th><th>core type</th><th>sub-expressions</th><th>expression</th></tr>\n",
       "<tr><td>0</td><td>Operation</td><td>operator:&nbsp;1<br>operand:&nbsp;3<br></td><td><a class=\"ProveItLink\" href=\"expr.ipynb\"><img src=\"expr.png\" style=\"display:inline;vertical-align:middle;\" /></a></td></tr>\n",
       "<tr><td>1</td><td>Literal</td><td></td><td><a class=\"ProveItLink\" href=\"../../common/91bf0c8711f0cb198093da4362dda6021bfd02790/expr.ipynb\"><img src=\"../../common/91bf0c8711f0cb198093da4362dda6021bfd02790/expr.png\" style=\"display:inline;vertical-align:middle;\" /></a></td></tr>\n",
       "<tr><td>2</td><td>ExprTuple</td><td>3</td><td><a class=\"ProveItLink\" href=\"../b2a32e787599da15fb43284eddd761ab35425b010/expr.ipynb\"><img src=\"../b2a32e787599da15fb43284eddd761ab35425b010/expr.png\" style=\"display:inline;vertical-align:middle;\" /></a></td></tr>\n",
       "<tr><td>3</td><td>Operation</td><td>operator:&nbsp;4<br>operands:&nbsp;5<br></td><td><a class=\"ProveItLink\" href=\"../../common/75e3a2004f27656426e1a74e2e27e4e544097f2f0/expr.ipynb\"><img src=\"../../common/75e3a2004f27656426e1a74e2e27e4e544097f2f0/expr.png\" style=\"display:inline;vertical-align:middle;\" /></a></td></tr>\n",
       "<tr><td>4</td><td>Literal</td><td></td><td><a class=\"ProveItLink\" href=\"../../../../../../numbers/modular/__pv_it/common/f61fe43eeba657b57e4fe7773885cfa81fe3dfc20/expr.ipynb\"><img src=\"../../../../../../numbers/modular/__pv_it/common/f61fe43eeba657b57e4fe7773885cfa81fe3dfc20/expr.png\" style=\"display:inline;vertical-align:middle;\" /></a></td></tr>\n",
       "<tr><td>5</td><td>ExprTuple</td><td>6, 12</td><td><a class=\"ProveItLink\" href=\"../../common/9057c11b5a9699e99b32e15b1bb60b0df21893e80/expr.ipynb\"><img src=\"../../common/9057c11b5a9699e99b32e15b1bb60b0df21893e80/expr.png\" style=\"display:inline;vertical-align:middle;\" /></a></td></tr>\n",
       "<tr><td>6</td><td>Operation</td><td>operator:&nbsp;7<br>operand:&nbsp;9<br></td><td><a class=\"ProveItLink\" href=\"../../common/04819fee0f856a1a9670c863628ed98ed9366f8e0/expr.ipynb\"><img src=\"../../common/04819fee0f856a1a9670c863628ed98ed9366f8e0/expr.png\" style=\"display:inline;vertical-align:middle;\" /></a></td></tr>\n",
       "<tr><td>7</td><td>Literal</td><td></td><td><a class=\"ProveItLink\" href=\"../../../../../../numbers/rounding/__pv_it/common/b04dbfb1eba88085219dbc24881f1f93367318c40/expr.ipynb\"><img src=\"../../../../../../numbers/rounding/__pv_it/common/b04dbfb1eba88085219dbc24881f1f93367318c40/expr.png\" style=\"display:inline;vertical-align:middle;\" /></a></td></tr>\n",
       "<tr><td>8</td><td>ExprTuple</td><td>9</td><td><a class=\"ProveItLink\" href=\"../../common/2185b1b9c1fc8ab1eb67fe8fa44afba6f73600c30/expr.ipynb\"><img src=\"../../common/2185b1b9c1fc8ab1eb67fe8fa44afba6f73600c30/expr.png\" style=\"display:inline;vertical-align:middle;\" /></a></td></tr>\n",
       "<tr><td>9</td><td>Operation</td><td>operator:&nbsp;10<br>operands:&nbsp;11<br></td><td><a class=\"ProveItLink\" href=\"../../common/1c68973a596c55e546d23e04abe144dd1f873b790/expr.ipynb\"><img src=\"../../common/1c68973a596c55e546d23e04abe144dd1f873b790/expr.png\" style=\"display:inline;vertical-align:middle;\" /></a></td></tr>\n",
       "<tr><td>10</td><td>Literal</td><td></td><td><a class=\"ProveItLink\" href=\"../../../../../../numbers/multiplication/__pv_it/common/ed719cef37831779c16481533a4d380a2f95ab270/expr.ipynb\"><img src=\"../../../../../../numbers/multiplication/__pv_it/common/ed719cef37831779c16481533a4d380a2f95ab270/expr.png\" style=\"display:inline;vertical-align:middle;\" /></a></td></tr>\n",
       "<tr><td>11</td><td>ExprTuple</td><td>12, 13</td><td><a class=\"ProveItLink\" href=\"../../common/9b9d7de0f5a63e0fc16bcb55a863620cadfc23270/expr.ipynb\"><img src=\"../../common/9b9d7de0f5a63e0fc16bcb55a863620cadfc23270/expr.png\" style=\"display:inline;vertical-align:middle;\" /></a></td></tr>\n",
       "<tr><td>12</td><td>Operation</td><td>operator:&nbsp;14<br>operands:&nbsp;15<br></td><td><a class=\"ProveItLink\" href=\"../../common/18332e4e627d64eadf0d81efed19ae3e9d007d510/expr.ipynb\"><img src=\"../../common/18332e4e627d64eadf0d81efed19ae3e9d007d510/expr.png\" style=\"display:inline;vertical-align:middle;\" /></a></td></tr>\n",
       "<tr><td>13</td><td>Literal</td><td></td><td><a class=\"ProveItLink\" href=\"../../common/d5e43a4a06cc3c8384d7262f5d019bed24f240ea0/expr.ipynb\"><img src=\"../../common/d5e43a4a06cc3c8384d7262f5d019bed24f240ea0/expr.png\" style=\"display:inline;vertical-align:middle;\" /></a></td></tr>\n",
       "<tr><td>14</td><td>Literal</td><td></td><td><a class=\"ProveItLink\" href=\"../../../../../../numbers/exponentiation/__pv_it/common/0ac37aca1e54c35c5cda09672df32d4f69f1f3020/expr.ipynb\"><img src=\"../../../../../../numbers/exponentiation/__pv_it/common/0ac37aca1e54c35c5cda09672df32d4f69f1f3020/expr.png\" style=\"display:inline;vertical-align:middle;\" /></a></td></tr>\n",
       "<tr><td>15</td><td>ExprTuple</td><td>16, 17</td><td><a class=\"ProveItLink\" href=\"../../common/e32fd834a589b0231aa39da242e9381ec87261b00/expr.ipynb\"><img src=\"../../common/e32fd834a589b0231aa39da242e9381ec87261b00/expr.png\" style=\"display:inline;vertical-align:middle;\" /></a></td></tr>\n",
       "<tr><td>16</td><td>Literal</td><td></td><td><a class=\"ProveItLink\" href=\"../../../../../../numbers/numerals/__pv_it/common/af4aab8a07465db063742696e006d04670f30cf10/expr.ipynb\"><img src=\"../../../../../../numbers/numerals/__pv_it/common/af4aab8a07465db063742696e006d04670f30cf10/expr.png\" style=\"display:inline;vertical-align:middle;\" /></a></td></tr>\n",
       "<tr><td>17</td><td>Literal</td><td></td><td><a class=\"ProveItLink\" href=\"../../common/977cc67717328e22c93f8ab84e6a45e8cadce7790/expr.ipynb\"><img src=\"../../common/977cc67717328e22c93f8ab84e6a45e8cadce7790/expr.png\" style=\"display:inline;vertical-align:middle;\" /></a></td></tr>\n",
       "</table>\n"
      ],
      "text/plain": [
       "0. alpha_{round(2^{t} * phase) mod 2^{t}}\n",
       "   core type: Operation\n",
       "   operator: 1\n",
       "   operand: 3\n",
       "1. alpha\n",
       "   core type: Literal\n",
       "   sub-expressions: \n",
       "2. (round(2^{t} * phase) mod 2^{t})\n",
       "   core type: ExprTuple\n",
       "   sub-expressions: 3\n",
       "3. round(2^{t} * phase) mod 2^{t}\n",
       "   core type: Operation\n",
       "   operator: 4\n",
       "   operands: 5\n",
       "4. mod\n",
       "   core type: Literal\n",
       "   sub-expressions: \n",
       "5. (round(2^{t} * phase), 2^{t})\n",
       "   core type: ExprTuple\n",
       "   sub-expressions: 6, 12\n",
       "6. round(2^{t} * phase)\n",
       "   core type: Operation\n",
       "   operator: 7\n",
       "   operand: 9\n",
       "7. round\n",
       "   core type: Literal\n",
       "   sub-expressions: \n",
       "8. (2^{t} * phase)\n",
       "   core type: ExprTuple\n",
       "   sub-expressions: 9\n",
       "9. 2^{t} * phase\n",
       "   core type: Operation\n",
       "   operator: 10\n",
       "   operands: 11\n",
       "10. *\n",
       "    core type: Literal\n",
       "    sub-expressions: \n",
       "11. (2^{t}, phase)\n",
       "    core type: ExprTuple\n",
       "    sub-expressions: 12, 13\n",
       "12. 2^{t}\n",
       "    core type: Operation\n",
       "    operator: 14\n",
       "    operands: 15\n",
       "13. phase\n",
       "    core type: Literal\n",
       "    sub-expressions: \n",
       "14. Exp\n",
       "    core type: Literal\n",
       "    sub-expressions: \n",
       "15. (2, t)\n",
       "    core type: ExprTuple\n",
       "    sub-expressions: 16, 17\n",
       "16. 2\n",
       "    core type: Literal\n",
       "    sub-expressions: \n",
       "17. t\n",
       "    core type: Literal\n",
       "    sub-expressions: "
      ]
     },
     "metadata": {},
     "output_type": "display_data"
    }
   ],
   "source": [
    "# display the expression information\n",
    "stored_expr.expr_info()"
   ]
  },
  {
   "cell_type": "code",
   "execution_count": null,
   "metadata": {},
   "outputs": [],
   "source": []
  }
 ],
 "metadata": {
  "kernelspec": {
   "display_name": "Python 3",
   "language": "python",
   "name": "python3"
  }
 },
 "nbformat": 4,
 "nbformat_minor": 0
}