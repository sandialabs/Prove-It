{
 "cells": [
  {
   "cell_type": "markdown",
   "metadata": {},
   "source": [
    "Theorem Dependencies\n",
    "=======================\n",
    "\n",
    "## <a class=\"ProveItLink\" href=\"../../../_theory_nbs_/theory.ipynb\">proveit.physics.quantum.QPE</a>.<a class=\"ProveItLink\" href=\"../../../_theorems_.ipynb#_failure_upper_bound\">_failure_upper_bound</a> \n",
    "***see <a class=\"ProveItLink\" href=\"../../../_theory_nbs_/proofs/_failure_upper_bound/thm_proof.ipynb\">proof</a>***"
   ]
  },
  {
   "cell_type": "code",
   "execution_count": 1,
   "metadata": {},
   "outputs": [],
   "source": [
    "import proveit\n",
    "# Automation is not needed when querying dependencies:\n",
    "proveit.defaults.automation = False # This will speed things up.\n",
    "proveit.defaults.inline_pngs = False # Makes files smaller.\n",
    "from proveit.physics.quantum.QPE import _failure_upper_bound"
   ]
  },
  {
   "cell_type": "code",
   "execution_count": 2,
   "metadata": {},
   "outputs": [
    {
     "data": {
      "text/html": [
       "<h3>Unproven conjectures required (directly or indirectly) to prove _failure_upper_bound</h3>"
      ],
      "text/plain": [
       "<IPython.core.display.HTML object>"
      ]
     },
     "metadata": {},
     "output_type": "display_data"
    },
    {
     "data": {
      "text/html": [
       "<dl>"
      ],
      "text/plain": [
       "<IPython.core.display.HTML object>"
      ]
     },
     "metadata": {},
     "output_type": "display_data"
    },
    {
     "data": {
      "text/html": [
       "<dt><a class=\"ProveItLink\" href=\"../../../../../../core_expr_types/conditionals/_theory_nbs_/proofs/condition_substitution/thm_proof.ipynb\">proveit.core_expr_types.conditionals.condition_substitution</a></dt><dd><a class=\"ProveItLink\" href=\"../../../../../../core_expr_types/conditionals/__pv_it/theorems/a5543f9eac21318ec358905e55447824a2249ca80/expr.ipynb\"><img src=\"../../../../../../core_expr_types/conditionals/__pv_it/theorems/a5543f9eac21318ec358905e55447824a2249ca80/expr.png\" style=\"display:inline;vertical-align:middle;\" /></a></dd>"
      ],
      "text/plain": [
       "<IPython.core.display.HTML object>"
      ]
     },
     "metadata": {},
     "output_type": "display_data"
    },
    {
     "data": {
      "text/html": [
       "<dt><a class=\"ProveItLink\" href=\"../../../../../../core_expr_types/conditionals/_theory_nbs_/proofs/dissatisfied_condition_reduction/thm_proof.ipynb\">proveit.core_expr_types.conditionals.dissatisfied_condition_reduction</a></dt><dd><a class=\"ProveItLink\" href=\"../../../../../../core_expr_types/conditionals/__pv_it/theorems/a149ec43b7ef5d374bb47943807533d24c1266170/expr.ipynb\"><img src=\"../../../../../../core_expr_types/conditionals/__pv_it/theorems/a149ec43b7ef5d374bb47943807533d24c1266170/expr.png\" style=\"display:inline;vertical-align:middle;\" /></a></dd>"
      ],
      "text/plain": [
       "<IPython.core.display.HTML object>"
      ]
     },
     "metadata": {},
     "output_type": "display_data"
    },
    {
     "data": {
      "text/html": [
       "<dt><a class=\"ProveItLink\" href=\"../../../../../../core_expr_types/conditionals/_theory_nbs_/proofs/satisfied_condition_reduction/thm_proof.ipynb\">proveit.core_expr_types.conditionals.satisfied_condition_reduction</a></dt><dd><a class=\"ProveItLink\" href=\"../../../../../../core_expr_types/conditionals/__pv_it/theorems/c8bf62b9a20e5b889420ce1caaf8f665d9f49fdc0/expr.ipynb\"><img src=\"../../../../../../core_expr_types/conditionals/__pv_it/theorems/c8bf62b9a20e5b889420ce1caaf8f665d9f49fdc0/expr.png\" style=\"display:inline;vertical-align:middle;\" /></a></dd>"
      ],
      "text/plain": [
       "<IPython.core.display.HTML object>"
      ]
     },
     "metadata": {},
     "output_type": "display_data"
    },
    {
     "data": {
      "text/html": [
       "<dt><a class=\"ProveItLink\" href=\"../../../../../../core_expr_types/conditionals/_theory_nbs_/proofs/true_condition_elimination/thm_proof.ipynb\">proveit.core_expr_types.conditionals.true_condition_elimination</a></dt><dd><a class=\"ProveItLink\" href=\"../../../../../../core_expr_types/conditionals/__pv_it/theorems/dfdfde917b38e9d3835ee0574a0f576076b03f5b0/expr.ipynb\"><img src=\"../../../../../../core_expr_types/conditionals/__pv_it/theorems/dfdfde917b38e9d3835ee0574a0f576076b03f5b0/expr.png\" style=\"display:inline;vertical-align:middle;\" /></a></dd>"
      ],
      "text/plain": [
       "<IPython.core.display.HTML object>"
      ]
     },
     "metadata": {},
     "output_type": "display_data"
    },
    {
     "data": {
      "text/html": [
       "<dt><a class=\"ProveItLink\" href=\"../../../../../../core_expr_types/expr_arrays/_theory_nbs_/proofs/varray_eq_via_elem_eq/thm_proof.ipynb\">proveit.core_expr_types.expr_arrays.varray_eq_via_elem_eq</a></dt><dd><a class=\"ProveItLink\" href=\"../../../../../../core_expr_types/expr_arrays/__pv_it/theorems/254f53b01df4d87c6c07ac0cf6ef7b7478f7d9db0/expr.ipynb\"><img src=\"../../../../../../core_expr_types/expr_arrays/__pv_it/theorems/254f53b01df4d87c6c07ac0cf6ef7b7478f7d9db0/expr.png\" style=\"display:inline;vertical-align:middle;\" /></a></dd>"
      ],
      "text/plain": [
       "<IPython.core.display.HTML object>"
      ]
     },
     "metadata": {},
     "output_type": "display_data"
    },
    {
     "data": {
      "text/html": [
       "<dt><a class=\"ProveItLink\" href=\"../../../../../../core_expr_types/expr_arrays/_theory_nbs_/proofs/varray_neq_via_any_elem_neq/thm_proof.ipynb\">proveit.core_expr_types.expr_arrays.varray_neq_via_any_elem_neq</a></dt><dd><a class=\"ProveItLink\" href=\"../../../../../../core_expr_types/expr_arrays/__pv_it/theorems/2d8a252e24a5a7c37b6692155a0472d3a302c5ff0/expr.ipynb\"><img src=\"../../../../../../core_expr_types/expr_arrays/__pv_it/theorems/2d8a252e24a5a7c37b6692155a0472d3a302c5ff0/expr.png\" style=\"display:inline;vertical-align:middle;\" /></a></dd>"
      ],
      "text/plain": [
       "<IPython.core.display.HTML object>"
      ]
     },
     "metadata": {},
     "output_type": "display_data"
    },
    {
     "data": {
      "text/html": [
       "<dt><a class=\"ProveItLink\" href=\"../../../../../../core_expr_types/lambda_maps/_theory_nbs_/proofs/general_lambda_substitution/thm_proof.ipynb\">proveit.core_expr_types.lambda_maps.general_lambda_substitution</a></dt><dd><a class=\"ProveItLink\" href=\"../../../../../../core_expr_types/lambda_maps/__pv_it/theorems/6679331be9e478407e6eaf1170f20046992098510/expr.ipynb\"><img src=\"../../../../../../core_expr_types/lambda_maps/__pv_it/theorems/6679331be9e478407e6eaf1170f20046992098510/expr.png\" style=\"display:inline;vertical-align:middle;\" /></a></dd>"
      ],
      "text/plain": [
       "<IPython.core.display.HTML object>"
      ]
     },
     "metadata": {},
     "output_type": "display_data"
    },
    {
     "data": {
      "text/html": [
       "<dt><a class=\"ProveItLink\" href=\"../../../../../../core_expr_types/operations/_theory_nbs_/proofs/operands_substitution_via_tuple/thm_proof.ipynb\">proveit.core_expr_types.operations.operands_substitution_via_tuple</a></dt><dd><a class=\"ProveItLink\" href=\"../../../../../../core_expr_types/operations/__pv_it/theorems/a38f7127ecc98315f5637e431c15969b146bed7e0/expr.ipynb\"><img src=\"../../../../../../core_expr_types/operations/__pv_it/theorems/a38f7127ecc98315f5637e431c15969b146bed7e0/expr.png\" style=\"display:inline;vertical-align:middle;\" /></a></dd>"
      ],
      "text/plain": [
       "<IPython.core.display.HTML object>"
      ]
     },
     "metadata": {},
     "output_type": "display_data"
    },
    {
     "data": {
      "text/html": [
       "<dt><a class=\"ProveItLink\" href=\"../../../../../../core_expr_types/tuples/_theory_nbs_/proofs/extended_range_from1_len_typical_eq/thm_proof.ipynb\">proveit.core_expr_types.tuples.extended_range_from1_len_typical_eq</a></dt><dd><a class=\"ProveItLink\" href=\"../../../../../../core_expr_types/tuples/__pv_it/theorems/90ab609bd7731cc068b829ecfecc5a4e2b0668ac0/expr.ipynb\"><img src=\"../../../../../../core_expr_types/tuples/__pv_it/theorems/90ab609bd7731cc068b829ecfecc5a4e2b0668ac0/expr.png\" style=\"display:inline;vertical-align:middle;\" /></a></dd>"
      ],
      "text/plain": [
       "<IPython.core.display.HTML object>"
      ]
     },
     "metadata": {},
     "output_type": "display_data"
    },
    {
     "data": {
      "text/html": [
       "<dt><a class=\"ProveItLink\" href=\"../../../../../../core_expr_types/tuples/_theory_nbs_/proofs/extended_range_len/thm_proof.ipynb\">proveit.core_expr_types.tuples.extended_range_len</a></dt><dd><a class=\"ProveItLink\" href=\"../../../../../../core_expr_types/tuples/__pv_it/theorems/bcb7dbd341c11e73d035dc265f116982ab398adb0/expr.ipynb\"><img src=\"../../../../../../core_expr_types/tuples/__pv_it/theorems/bcb7dbd341c11e73d035dc265f116982ab398adb0/expr.png\" style=\"display:inline;vertical-align:middle;\" /></a></dd>"
      ],
      "text/plain": [
       "<IPython.core.display.HTML object>"
      ]
     },
     "metadata": {},
     "output_type": "display_data"
    },
    {
     "data": {
      "text/html": [
       "<dt><a class=\"ProveItLink\" href=\"../../../../../../core_expr_types/tuples/_theory_nbs_/proofs/general_len/thm_proof.ipynb\">proveit.core_expr_types.tuples.general_len</a></dt><dd><a class=\"ProveItLink\" href=\"../../../../../../core_expr_types/tuples/__pv_it/theorems/dc2298794346de7b9bfbbbf8e77f1aab0809c1a80/expr.ipynb\"><img src=\"../../../../../../core_expr_types/tuples/__pv_it/theorems/dc2298794346de7b9bfbbbf8e77f1aab0809c1a80/expr.png\" style=\"display:inline;vertical-align:middle;\" /></a></dd>"
      ],
      "text/plain": [
       "<IPython.core.display.HTML object>"
      ]
     },
     "metadata": {},
     "output_type": "display_data"
    },
    {
     "data": {
      "text/html": [
       "<dt><a class=\"ProveItLink\" href=\"../../../../../../core_expr_types/tuples/_theory_nbs_/proofs/len_of_ranges_with_repeated_indices_from_1/thm_proof.ipynb\">proveit.core_expr_types.tuples.len_of_ranges_with_repeated_indices_from_1</a></dt><dd><a class=\"ProveItLink\" href=\"../../../../../../core_expr_types/tuples/__pv_it/theorems/877402e64ca6a15d3488dfee4e7dcddd6d015bdb0/expr.ipynb\"><img src=\"../../../../../../core_expr_types/tuples/__pv_it/theorems/877402e64ca6a15d3488dfee4e7dcddd6d015bdb0/expr.png\" style=\"display:inline;vertical-align:middle;\" /></a></dd>"
      ],
      "text/plain": [
       "<IPython.core.display.HTML object>"
      ]
     },
     "metadata": {},
     "output_type": "display_data"
    },
    {
     "data": {
      "text/html": [
       "<dt><a class=\"ProveItLink\" href=\"../../../../../../core_expr_types/tuples/_theory_nbs_/proofs/merge/thm_proof.ipynb\">proveit.core_expr_types.tuples.merge</a></dt><dd><a class=\"ProveItLink\" href=\"../../../../../../core_expr_types/tuples/__pv_it/theorems/99361a95474cb60bed5da3ea5b60b92aab8511c30/expr.ipynb\"><img src=\"../../../../../../core_expr_types/tuples/__pv_it/theorems/99361a95474cb60bed5da3ea5b60b92aab8511c30/expr.png\" style=\"display:inline;vertical-align:middle;\" /></a></dd>"
      ],
      "text/plain": [
       "<IPython.core.display.HTML object>"
      ]
     },
     "metadata": {},
     "output_type": "display_data"
    },
    {
     "data": {
      "text/html": [
       "<dt><a class=\"ProveItLink\" href=\"../../../../../../core_expr_types/tuples/_theory_nbs_/proofs/merge_extension/thm_proof.ipynb\">proveit.core_expr_types.tuples.merge_extension</a></dt><dd><a class=\"ProveItLink\" href=\"../../../../../../core_expr_types/tuples/__pv_it/theorems/899754fe217bdad070ac21d68cb975ad70415c200/expr.ipynb\"><img src=\"../../../../../../core_expr_types/tuples/__pv_it/theorems/899754fe217bdad070ac21d68cb975ad70415c200/expr.png\" style=\"display:inline;vertical-align:middle;\" /></a></dd>"
      ],
      "text/plain": [
       "<IPython.core.display.HTML object>"
      ]
     },
     "metadata": {},
     "output_type": "display_data"
    },
    {
     "data": {
      "text/html": [
       "<dt><a class=\"ProveItLink\" href=\"../../../../../../core_expr_types/tuples/_theory_nbs_/proofs/merge_front/thm_proof.ipynb\">proveit.core_expr_types.tuples.merge_front</a></dt><dd><a class=\"ProveItLink\" href=\"../../../../../../core_expr_types/tuples/__pv_it/theorems/17ad03cca49b251dc7d1ab8241f58f920d51a2730/expr.ipynb\"><img src=\"../../../../../../core_expr_types/tuples/__pv_it/theorems/17ad03cca49b251dc7d1ab8241f58f920d51a2730/expr.png\" style=\"display:inline;vertical-align:middle;\" /></a></dd>"
      ],
      "text/plain": [
       "<IPython.core.display.HTML object>"
      ]
     },
     "metadata": {},
     "output_type": "display_data"
    },
    {
     "data": {
      "text/html": [
       "<dt><a class=\"ProveItLink\" href=\"../../../../../../core_expr_types/tuples/_theory_nbs_/proofs/partition_back/thm_proof.ipynb\">proveit.core_expr_types.tuples.partition_back</a></dt><dd><a class=\"ProveItLink\" href=\"../../../../../../core_expr_types/tuples/__pv_it/theorems/0bfb98d0ff3589ab2cf2aa780ed7a04c0b3b38460/expr.ipynb\"><img src=\"../../../../../../core_expr_types/tuples/__pv_it/theorems/0bfb98d0ff3589ab2cf2aa780ed7a04c0b3b38460/expr.png\" style=\"display:inline;vertical-align:middle;\" /></a></dd>"
      ],
      "text/plain": [
       "<IPython.core.display.HTML object>"
      ]
     },
     "metadata": {},
     "output_type": "display_data"
    },
    {
     "data": {
      "text/html": [
       "<dt><a class=\"ProveItLink\" href=\"../../../../../../core_expr_types/tuples/_theory_nbs_/proofs/partition_front/thm_proof.ipynb\">proveit.core_expr_types.tuples.partition_front</a></dt><dd><a class=\"ProveItLink\" href=\"../../../../../../core_expr_types/tuples/__pv_it/theorems/6e66518df6e74f54a19abc00913f1c8c0239e6150/expr.ipynb\"><img src=\"../../../../../../core_expr_types/tuples/__pv_it/theorems/6e66518df6e74f54a19abc00913f1c8c0239e6150/expr.png\" style=\"display:inline;vertical-align:middle;\" /></a></dd>"
      ],
      "text/plain": [
       "<IPython.core.display.HTML object>"
      ]
     },
     "metadata": {},
     "output_type": "display_data"
    },
    {
     "data": {
      "text/html": [
       "<dt><a class=\"ProveItLink\" href=\"../../../../../../core_expr_types/tuples/_theory_nbs_/proofs/range_fn_transformation/thm_proof.ipynb\">proveit.core_expr_types.tuples.range_fn_transformation</a></dt><dd><a class=\"ProveItLink\" href=\"../../../../../../core_expr_types/tuples/__pv_it/theorems/dd2419e6a0d714866e34c00ec6c2f4d968e262380/expr.ipynb\"><img src=\"../../../../../../core_expr_types/tuples/__pv_it/theorems/dd2419e6a0d714866e34c00ec6c2f4d968e262380/expr.png\" style=\"display:inline;vertical-align:middle;\" /></a></dd>"
      ],
      "text/plain": [
       "<IPython.core.display.HTML object>"
      ]
     },
     "metadata": {},
     "output_type": "display_data"
    },
    {
     "data": {
      "text/html": [
       "<dt><a class=\"ProveItLink\" href=\"../../../../../../core_expr_types/tuples/_theory_nbs_/proofs/range_from1_len/thm_proof.ipynb\">proveit.core_expr_types.tuples.range_from1_len</a></dt><dd><a class=\"ProveItLink\" href=\"../../../../../../core_expr_types/tuples/__pv_it/theorems/a025a1a9c58e5a8b62077c9de4d5a46060912f0b0/expr.ipynb\"><img src=\"../../../../../../core_expr_types/tuples/__pv_it/theorems/a025a1a9c58e5a8b62077c9de4d5a46060912f0b0/expr.png\" style=\"display:inline;vertical-align:middle;\" /></a></dd>"
      ],
      "text/plain": [
       "<IPython.core.display.HTML object>"
      ]
     },
     "metadata": {},
     "output_type": "display_data"
    },
    {
     "data": {
      "text/html": [
       "<dt><a class=\"ProveItLink\" href=\"../../../../../../core_expr_types/tuples/_theory_nbs_/proofs/range_from1_len_is_nat/thm_proof.ipynb\">proveit.core_expr_types.tuples.range_from1_len_is_nat</a></dt><dd><a class=\"ProveItLink\" href=\"../../../../../../core_expr_types/tuples/__pv_it/theorems/7d57dd0a8f5945d8292cad2d9189a5ba14dac7d10/expr.ipynb\"><img src=\"../../../../../../core_expr_types/tuples/__pv_it/theorems/7d57dd0a8f5945d8292cad2d9189a5ba14dac7d10/expr.png\" style=\"display:inline;vertical-align:middle;\" /></a></dd>"
      ],
      "text/plain": [
       "<IPython.core.display.HTML object>"
      ]
     },
     "metadata": {},
     "output_type": "display_data"
    },
    {
     "data": {
      "text/html": [
       "<dt><a class=\"ProveItLink\" href=\"../../../../../../core_expr_types/tuples/_theory_nbs_/proofs/range_from1_len_typical_eq/thm_proof.ipynb\">proveit.core_expr_types.tuples.range_from1_len_typical_eq</a></dt><dd><a class=\"ProveItLink\" href=\"../../../../../../core_expr_types/tuples/__pv_it/theorems/4ee1636269563b5a7d15684d9f87efdd4d8324700/expr.ipynb\"><img src=\"../../../../../../core_expr_types/tuples/__pv_it/theorems/4ee1636269563b5a7d15684d9f87efdd4d8324700/expr.png\" style=\"display:inline;vertical-align:middle;\" /></a></dd>"
      ],
      "text/plain": [
       "<IPython.core.display.HTML object>"
      ]
     },
     "metadata": {},
     "output_type": "display_data"
    },
    {
     "data": {
      "text/html": [
       "<dt><a class=\"ProveItLink\" href=\"../../../../../../core_expr_types/tuples/_theory_nbs_/proofs/range_len/thm_proof.ipynb\">proveit.core_expr_types.tuples.range_len</a></dt><dd><a class=\"ProveItLink\" href=\"../../../../../../core_expr_types/tuples/__pv_it/theorems/ace0878051e8cca7f19f26dfaed8f7bbe4b7aab30/expr.ipynb\"><img src=\"../../../../../../core_expr_types/tuples/__pv_it/theorems/ace0878051e8cca7f19f26dfaed8f7bbe4b7aab30/expr.png\" style=\"display:inline;vertical-align:middle;\" /></a></dd>"
      ],
      "text/plain": [
       "<IPython.core.display.HTML object>"
      ]
     },
     "metadata": {},
     "output_type": "display_data"
    },
    {
     "data": {
      "text/html": [
       "<dt><a class=\"ProveItLink\" href=\"../../../../../../core_expr_types/tuples/_theory_nbs_/proofs/range_len_is_nat/thm_proof.ipynb\">proveit.core_expr_types.tuples.range_len_is_nat</a></dt><dd><a class=\"ProveItLink\" href=\"../../../../../../core_expr_types/tuples/__pv_it/theorems/48da807b161dcd552a455a5609fa3190f33868160/expr.ipynb\"><img src=\"../../../../../../core_expr_types/tuples/__pv_it/theorems/48da807b161dcd552a455a5609fa3190f33868160/expr.png\" style=\"display:inline;vertical-align:middle;\" /></a></dd>"
      ],
      "text/plain": [
       "<IPython.core.display.HTML object>"
      ]
     },
     "metadata": {},
     "output_type": "display_data"
    },
    {
     "data": {
      "text/html": [
       "<dt><a class=\"ProveItLink\" href=\"../../../../../../core_expr_types/tuples/_theory_nbs_/proofs/shift_equivalence/thm_proof.ipynb\">proveit.core_expr_types.tuples.shift_equivalence</a></dt><dd><a class=\"ProveItLink\" href=\"../../../../../../core_expr_types/tuples/__pv_it/theorems/1eb3f7380a5a4d7c73863f06cf05b5ba55458b4e0/expr.ipynb\"><img src=\"../../../../../../core_expr_types/tuples/__pv_it/theorems/1eb3f7380a5a4d7c73863f06cf05b5ba55458b4e0/expr.png\" style=\"display:inline;vertical-align:middle;\" /></a></dd>"
      ],
      "text/plain": [
       "<IPython.core.display.HTML object>"
      ]
     },
     "metadata": {},
     "output_type": "display_data"
    },
    {
     "data": {
      "text/html": [
       "<dt><a class=\"ProveItLink\" href=\"../../../../../../core_expr_types/tuples/_theory_nbs_/proofs/tuple_len_0_typical_eq/thm_proof.ipynb\">proveit.core_expr_types.tuples.tuple_len_0_typical_eq</a></dt><dd><a class=\"ProveItLink\" href=\"../../../../../../core_expr_types/tuples/__pv_it/theorems/e4227b9c4c4eee791197a50fb372df0303979ecf0/expr.ipynb\"><img src=\"../../../../../../core_expr_types/tuples/__pv_it/theorems/e4227b9c4c4eee791197a50fb372df0303979ecf0/expr.png\" style=\"display:inline;vertical-align:middle;\" /></a></dd>"
      ],
      "text/plain": [
       "<IPython.core.display.HTML object>"
      ]
     },
     "metadata": {},
     "output_type": "display_data"
    },
    {
     "data": {
      "text/html": [
       "<dt><a class=\"ProveItLink\" href=\"../../../../../../core_expr_types/tuples/_theory_nbs_/proofs/tuple_neq_via_any_elem_neq/thm_proof.ipynb\">proveit.core_expr_types.tuples.tuple_neq_via_any_elem_neq</a></dt><dd><a class=\"ProveItLink\" href=\"../../../../../../core_expr_types/tuples/__pv_it/theorems/18388f93bc8d8a8dd901c2d386713a2301408ece0/expr.ipynb\"><img src=\"../../../../../../core_expr_types/tuples/__pv_it/theorems/18388f93bc8d8a8dd901c2d386713a2301408ece0/expr.png\" style=\"display:inline;vertical-align:middle;\" /></a></dd>"
      ],
      "text/plain": [
       "<IPython.core.display.HTML object>"
      ]
     },
     "metadata": {},
     "output_type": "display_data"
    },
    {
     "data": {
      "text/html": [
       "<dt><a class=\"ProveItLink\" href=\"../../../../../../core_expr_types/tuples/_theory_nbs_/proofs/tuple_portion_substitution/thm_proof.ipynb\">proveit.core_expr_types.tuples.tuple_portion_substitution</a></dt><dd><a class=\"ProveItLink\" href=\"../../../../../../core_expr_types/tuples/__pv_it/theorems/410ebfa119355c29c123e8f69b521e45064d1c200/expr.ipynb\"><img src=\"../../../../../../core_expr_types/tuples/__pv_it/theorems/410ebfa119355c29c123e8f69b521e45064d1c200/expr.png\" style=\"display:inline;vertical-align:middle;\" /></a></dd>"
      ],
      "text/plain": [
       "<IPython.core.display.HTML object>"
      ]
     },
     "metadata": {},
     "output_type": "display_data"
    },
    {
     "data": {
      "text/html": [
       "<dt><a class=\"ProveItLink\" href=\"../../../../../../linear_algebra/addition/_theory_nbs_/proofs/binary_closure/thm_proof.ipynb\">proveit.linear_algebra.addition.binary_closure</a></dt><dd><a class=\"ProveItLink\" href=\"../../../../../../linear_algebra/addition/__pv_it/theorems/57c99c8a20d6d6428bab240424f0fde6bdb43d320/expr.ipynb\"><img src=\"../../../../../../linear_algebra/addition/__pv_it/theorems/57c99c8a20d6d6428bab240424f0fde6bdb43d320/expr.png\" style=\"display:inline;vertical-align:middle;\" /></a></dd>"
      ],
      "text/plain": [
       "<IPython.core.display.HTML object>"
      ]
     },
     "metadata": {},
     "output_type": "display_data"
    },
    {
     "data": {
      "text/html": [
       "<dt><a class=\"ProveItLink\" href=\"../../../../../../linear_algebra/addition/_theory_nbs_/proofs/norm_of_sum_of_orthogonal_pair/thm_proof.ipynb\">proveit.linear_algebra.addition.norm_of_sum_of_orthogonal_pair</a></dt><dd><a class=\"ProveItLink\" href=\"../../../../../../linear_algebra/addition/__pv_it/theorems/3cba4c5666f6dbe2e96411c4930cd784e03bb3db0/expr.ipynb\"><img src=\"../../../../../../linear_algebra/addition/__pv_it/theorems/3cba4c5666f6dbe2e96411c4930cd784e03bb3db0/expr.png\" style=\"display:inline;vertical-align:middle;\" /></a></dd>"
      ],
      "text/plain": [
       "<IPython.core.display.HTML object>"
      ]
     },
     "metadata": {},
     "output_type": "display_data"
    },
    {
     "data": {
      "text/html": [
       "<dt><a class=\"ProveItLink\" href=\"../../../../../../linear_algebra/addition/_theory_nbs_/proofs/summation_closure/thm_proof.ipynb\">proveit.linear_algebra.addition.summation_closure</a></dt><dd><a class=\"ProveItLink\" href=\"../../../../../../linear_algebra/addition/__pv_it/theorems/aa917d30e826625bdbb2c8bf3c6866469ccf89c80/expr.ipynb\"><img src=\"../../../../../../linear_algebra/addition/__pv_it/theorems/aa917d30e826625bdbb2c8bf3c6866469ccf89c80/expr.png\" style=\"display:inline;vertical-align:middle;\" /></a></dd>"
      ],
      "text/plain": [
       "<IPython.core.display.HTML object>"
      ]
     },
     "metadata": {},
     "output_type": "display_data"
    },
    {
     "data": {
      "text/html": [
       "<dt><a class=\"ProveItLink\" href=\"../../../../../../linear_algebra/addition/_theory_nbs_/proofs/vec_sum_index_shift/thm_proof.ipynb\">proveit.linear_algebra.addition.vec_sum_index_shift</a></dt><dd><a class=\"ProveItLink\" href=\"../../../../../../linear_algebra/addition/__pv_it/theorems/5a9c7c11e96ce5a9e6bb82720e0dd1b76897029c0/expr.ipynb\"><img src=\"../../../../../../linear_algebra/addition/__pv_it/theorems/5a9c7c11e96ce5a9e6bb82720e0dd1b76897029c0/expr.png\" style=\"display:inline;vertical-align:middle;\" /></a></dd>"
      ],
      "text/plain": [
       "<IPython.core.display.HTML object>"
      ]
     },
     "metadata": {},
     "output_type": "display_data"
    },
    {
     "data": {
      "text/html": [
       "<dt><a class=\"ProveItLink\" href=\"../../../../../../linear_algebra/addition/_theory_nbs_/proofs/vec_sum_split_after/thm_proof.ipynb\">proveit.linear_algebra.addition.vec_sum_split_after</a></dt><dd><a class=\"ProveItLink\" href=\"../../../../../../linear_algebra/addition/__pv_it/theorems/eaa88052d2fbddda8b140664a9bc616213f949410/expr.ipynb\"><img src=\"../../../../../../linear_algebra/addition/__pv_it/theorems/eaa88052d2fbddda8b140664a9bc616213f949410/expr.png\" style=\"display:inline;vertical-align:middle;\" /></a></dd>"
      ],
      "text/plain": [
       "<IPython.core.display.HTML object>"
      ]
     },
     "metadata": {},
     "output_type": "display_data"
    },
    {
     "data": {
      "text/html": [
       "<dt><a class=\"ProveItLink\" href=\"../../../../../../linear_algebra/addition/_theory_nbs_/proofs/vec_sum_split_first/thm_proof.ipynb\">proveit.linear_algebra.addition.vec_sum_split_first</a></dt><dd><a class=\"ProveItLink\" href=\"../../../../../../linear_algebra/addition/__pv_it/theorems/400c32e645780e8bf81c2517ecc17707ce17720c0/expr.ipynb\"><img src=\"../../../../../../linear_algebra/addition/__pv_it/theorems/400c32e645780e8bf81c2517ecc17707ce17720c0/expr.png\" style=\"display:inline;vertical-align:middle;\" /></a></dd>"
      ],
      "text/plain": [
       "<IPython.core.display.HTML object>"
      ]
     },
     "metadata": {},
     "output_type": "display_data"
    },
    {
     "data": {
      "text/html": [
       "<dt><a class=\"ProveItLink\" href=\"../../../../../../linear_algebra/_theory_nbs_/proofs/complex_vec_set_is_vec_space/thm_proof.ipynb\">proveit.linear_algebra.complex_vec_set_is_vec_space</a></dt><dd><a class=\"ProveItLink\" href=\"../../../../../../linear_algebra/__pv_it/theorems/82ebcc85ff9dc41b93c53ecac825ad5c4650a2530/expr.ipynb\"><img src=\"../../../../../../linear_algebra/__pv_it/theorems/82ebcc85ff9dc41b93c53ecac825ad5c4650a2530/expr.png\" style=\"display:inline;vertical-align:middle;\" /></a></dd>"
      ],
      "text/plain": [
       "<IPython.core.display.HTML object>"
      ]
     },
     "metadata": {},
     "output_type": "display_data"
    },
    {
     "data": {
      "text/html": [
       "<dt><a class=\"ProveItLink\" href=\"../../../../../../linear_algebra/inner_products/_theory_nbs_/proofs/complex_set_is_hilbert_space/thm_proof.ipynb\">proveit.linear_algebra.inner_products.complex_set_is_hilbert_space</a></dt><dd><a class=\"ProveItLink\" href=\"../../../../../../linear_algebra/inner_products/__pv_it/theorems/ef6502ad15d8abdf6e08fa7e79a80dd1eb94640c0/expr.ipynb\"><img src=\"../../../../../../linear_algebra/inner_products/__pv_it/theorems/ef6502ad15d8abdf6e08fa7e79a80dd1eb94640c0/expr.png\" style=\"display:inline;vertical-align:middle;\" /></a></dd>"
      ],
      "text/plain": [
       "<IPython.core.display.HTML object>"
      ]
     },
     "metadata": {},
     "output_type": "display_data"
    },
    {
     "data": {
      "text/html": [
       "<dt><a class=\"ProveItLink\" href=\"../../../../../../linear_algebra/inner_products/_theory_nbs_/proofs/complex_vec_set_is_hilbert_space/thm_proof.ipynb\">proveit.linear_algebra.inner_products.complex_vec_set_is_hilbert_space</a></dt><dd><a class=\"ProveItLink\" href=\"../../../../../../linear_algebra/inner_products/__pv_it/theorems/a47e487ed3b1f72295cfc05ffd5b3a5a492ffe9f0/expr.ipynb\"><img src=\"../../../../../../linear_algebra/inner_products/__pv_it/theorems/a47e487ed3b1f72295cfc05ffd5b3a5a492ffe9f0/expr.png\" style=\"display:inline;vertical-align:middle;\" /></a></dd>"
      ],
      "text/plain": [
       "<IPython.core.display.HTML object>"
      ]
     },
     "metadata": {},
     "output_type": "display_data"
    },
    {
     "data": {
      "text/html": [
       "<dt><a class=\"ProveItLink\" href=\"../../../../../../linear_algebra/inner_products/_theory_nbs_/proofs/complex_vec_set_is_inner_prod_space/thm_proof.ipynb\">proveit.linear_algebra.inner_products.complex_vec_set_is_inner_prod_space</a></dt><dd><a class=\"ProveItLink\" href=\"../../../../../../linear_algebra/inner_products/__pv_it/theorems/598d70d31b851b986c666bf7fc5b7cde721fbee40/expr.ipynb\"><img src=\"../../../../../../linear_algebra/inner_products/__pv_it/theorems/598d70d31b851b986c666bf7fc5b7cde721fbee40/expr.png\" style=\"display:inline;vertical-align:middle;\" /></a></dd>"
      ],
      "text/plain": [
       "<IPython.core.display.HTML object>"
      ]
     },
     "metadata": {},
     "output_type": "display_data"
    },
    {
     "data": {
      "text/html": [
       "<dt><a class=\"ProveItLink\" href=\"../../../../../../linear_algebra/inner_products/_theory_nbs_/proofs/inner_prod_scalar_mult_right/thm_proof.ipynb\">proveit.linear_algebra.inner_products.inner_prod_scalar_mult_right</a></dt><dd><a class=\"ProveItLink\" href=\"../../../../../../linear_algebra/inner_products/__pv_it/theorems/4e819d02741087c5c7abe82ff6dd2ab3deb4f32d0/expr.ipynb\"><img src=\"../../../../../../linear_algebra/inner_products/__pv_it/theorems/4e819d02741087c5c7abe82ff6dd2ab3deb4f32d0/expr.png\" style=\"display:inline;vertical-align:middle;\" /></a></dd>"
      ],
      "text/plain": [
       "<IPython.core.display.HTML object>"
      ]
     },
     "metadata": {},
     "output_type": "display_data"
    },
    {
     "data": {
      "text/html": [
       "<dt><a class=\"ProveItLink\" href=\"../../../../../../linear_algebra/inner_products/_theory_nbs_/proofs/scaled_norm/thm_proof.ipynb\">proveit.linear_algebra.inner_products.scaled_norm</a></dt><dd><a class=\"ProveItLink\" href=\"../../../../../../linear_algebra/inner_products/__pv_it/theorems/c77d56b977fdf2927dbcabad9b000672de1716110/expr.ipynb\"><img src=\"../../../../../../linear_algebra/inner_products/__pv_it/theorems/c77d56b977fdf2927dbcabad9b000672de1716110/expr.png\" style=\"display:inline;vertical-align:middle;\" /></a></dd>"
      ],
      "text/plain": [
       "<IPython.core.display.HTML object>"
      ]
     },
     "metadata": {},
     "output_type": "display_data"
    },
    {
     "data": {
      "text/html": [
       "<dt><a class=\"ProveItLink\" href=\"../../../../../../linear_algebra/matrices/exponentiation/_theory_nbs_/proofs/U_closure/thm_proof.ipynb\">proveit.linear_algebra.matrices.exponentiation.U_closure</a></dt><dd><a class=\"ProveItLink\" href=\"../../../../../../linear_algebra/matrices/exponentiation/__pv_it/theorems/a2387de5902ba1861fef381cf28ad3ff9a5c8a6d0/expr.ipynb\"><img src=\"../../../../../../linear_algebra/matrices/exponentiation/__pv_it/theorems/a2387de5902ba1861fef381cf28ad3ff9a5c8a6d0/expr.png\" style=\"display:inline;vertical-align:middle;\" /></a></dd>"
      ],
      "text/plain": [
       "<IPython.core.display.HTML object>"
      ]
     },
     "metadata": {},
     "output_type": "display_data"
    },
    {
     "data": {
      "text/html": [
       "<dt><a class=\"ProveItLink\" href=\"../../../../../../linear_algebra/matrices/exponentiation/_theory_nbs_/proofs/unital2pi_eigen_exp_application/thm_proof.ipynb\">proveit.linear_algebra.matrices.exponentiation.unital2pi_eigen_exp_application</a></dt><dd><a class=\"ProveItLink\" href=\"../../../../../../linear_algebra/matrices/exponentiation/__pv_it/theorems/f26599426647e321e4847468d7f54446fc0f36730/expr.ipynb\"><img src=\"../../../../../../linear_algebra/matrices/exponentiation/__pv_it/theorems/f26599426647e321e4847468d7f54446fc0f36730/expr.png\" style=\"display:inline;vertical-align:middle;\" /></a></dd>"
      ],
      "text/plain": [
       "<IPython.core.display.HTML object>"
      ]
     },
     "metadata": {},
     "output_type": "display_data"
    },
    {
     "data": {
      "text/html": [
       "<dt><a class=\"ProveItLink\" href=\"../../../../../../linear_algebra/matrices/_theory_nbs_/proofs/unitaries_are_matrices/thm_proof.ipynb\">proveit.linear_algebra.matrices.unitaries_are_matrices</a></dt><dd><a class=\"ProveItLink\" href=\"../../../../../../linear_algebra/matrices/__pv_it/theorems/c143ed1df1a08ca14d6bbdb90e8ff717df5774080/expr.ipynb\"><img src=\"../../../../../../linear_algebra/matrices/__pv_it/theorems/c143ed1df1a08ca14d6bbdb90e8ff717df5774080/expr.png\" style=\"display:inline;vertical-align:middle;\" /></a></dd>"
      ],
      "text/plain": [
       "<IPython.core.display.HTML object>"
      ]
     },
     "metadata": {},
     "output_type": "display_data"
    },
    {
     "data": {
      "text/html": [
       "<dt><a class=\"ProveItLink\" href=\"../../../../../../linear_algebra/scalar_multiplication/_theory_nbs_/proofs/distribution_over_vec_sum_with_scalar_mult/thm_proof.ipynb\">proveit.linear_algebra.scalar_multiplication.distribution_over_vec_sum_with_scalar_mult</a></dt><dd><a class=\"ProveItLink\" href=\"../../../../../../linear_algebra/scalar_multiplication/__pv_it/theorems/b38f46d3fc9681da9da98a72ae45a0fc4e6b5f9f0/expr.ipynb\"><img src=\"../../../../../../linear_algebra/scalar_multiplication/__pv_it/theorems/b38f46d3fc9681da9da98a72ae45a0fc4e6b5f9f0/expr.png\" style=\"display:inline;vertical-align:middle;\" /></a></dd>"
      ],
      "text/plain": [
       "<IPython.core.display.HTML object>"
      ]
     },
     "metadata": {},
     "output_type": "display_data"
    },
    {
     "data": {
      "text/html": [
       "<dt><a class=\"ProveItLink\" href=\"../../../../../../linear_algebra/scalar_multiplication/_theory_nbs_/proofs/doubly_scaled_as_singly_scaled/thm_proof.ipynb\">proveit.linear_algebra.scalar_multiplication.doubly_scaled_as_singly_scaled</a></dt><dd><a class=\"ProveItLink\" href=\"../../../../../../linear_algebra/scalar_multiplication/__pv_it/theorems/f07684d9a68e6616c3b52b9026165688bc1911c90/expr.ipynb\"><img src=\"../../../../../../linear_algebra/scalar_multiplication/__pv_it/theorems/f07684d9a68e6616c3b52b9026165688bc1911c90/expr.png\" style=\"display:inline;vertical-align:middle;\" /></a></dd>"
      ],
      "text/plain": [
       "<IPython.core.display.HTML object>"
      ]
     },
     "metadata": {},
     "output_type": "display_data"
    },
    {
     "data": {
      "text/html": [
       "<dt><a class=\"ProveItLink\" href=\"../../../../../../linear_algebra/scalar_multiplication/_theory_nbs_/proofs/one_as_scalar_mult_id/thm_proof.ipynb\">proveit.linear_algebra.scalar_multiplication.one_as_scalar_mult_id</a></dt><dd><a class=\"ProveItLink\" href=\"../../../../../../linear_algebra/scalar_multiplication/__pv_it/theorems/2aa43bfb34c5ce3d8ce9d12e8e96f7e1ad69da910/expr.ipynb\"><img src=\"../../../../../../linear_algebra/scalar_multiplication/__pv_it/theorems/2aa43bfb34c5ce3d8ce9d12e8e96f7e1ad69da910/expr.png\" style=\"display:inline;vertical-align:middle;\" /></a></dd>"
      ],
      "text/plain": [
       "<IPython.core.display.HTML object>"
      ]
     },
     "metadata": {},
     "output_type": "display_data"
    },
    {
     "data": {
      "text/html": [
       "<dt><a class=\"ProveItLink\" href=\"../../../../../../linear_algebra/scalar_multiplication/_theory_nbs_/proofs/scalar_mult_closure/thm_proof.ipynb\">proveit.linear_algebra.scalar_multiplication.scalar_mult_closure</a></dt><dd><a class=\"ProveItLink\" href=\"../../../../../../linear_algebra/scalar_multiplication/__pv_it/theorems/94ae2d0bfeb4459a12af4268d0b733786881d4240/expr.ipynb\"><img src=\"../../../../../../linear_algebra/scalar_multiplication/__pv_it/theorems/94ae2d0bfeb4459a12af4268d0b733786881d4240/expr.png\" style=\"display:inline;vertical-align:middle;\" /></a></dd>"
      ],
      "text/plain": [
       "<IPython.core.display.HTML object>"
      ]
     },
     "metadata": {},
     "output_type": "display_data"
    },
    {
     "data": {
      "text/html": [
       "<dt><a class=\"ProveItLink\" href=\"../../../../../../linear_algebra/tensors/_theory_nbs_/proofs/factor_scalar_from_tensor_prod/thm_proof.ipynb\">proveit.linear_algebra.tensors.factor_scalar_from_tensor_prod</a></dt><dd><a class=\"ProveItLink\" href=\"../../../../../../linear_algebra/tensors/__pv_it/theorems/6b664d668b0e4e09be1e1e0696a5839f098fbf860/expr.ipynb\"><img src=\"../../../../../../linear_algebra/tensors/__pv_it/theorems/6b664d668b0e4e09be1e1e0696a5839f098fbf860/expr.png\" style=\"display:inline;vertical-align:middle;\" /></a></dd>"
      ],
      "text/plain": [
       "<IPython.core.display.HTML object>"
      ]
     },
     "metadata": {},
     "output_type": "display_data"
    },
    {
     "data": {
      "text/html": [
       "<dt><a class=\"ProveItLink\" href=\"../../../../../../linear_algebra/tensors/_theory_nbs_/proofs/norm_preserving_tensor_prod/thm_proof.ipynb\">proveit.linear_algebra.tensors.norm_preserving_tensor_prod</a></dt><dd><a class=\"ProveItLink\" href=\"../../../../../../linear_algebra/tensors/__pv_it/theorems/90ce77bd839fc719076842258f63a66eedddf71e0/expr.ipynb\"><img src=\"../../../../../../linear_algebra/tensors/__pv_it/theorems/90ce77bd839fc719076842258f63a66eedddf71e0/expr.png\" style=\"display:inline;vertical-align:middle;\" /></a></dd>"
      ],
      "text/plain": [
       "<IPython.core.display.HTML object>"
      ]
     },
     "metadata": {},
     "output_type": "display_data"
    },
    {
     "data": {
      "text/html": [
       "<dt><a class=\"ProveItLink\" href=\"../../../../../../linear_algebra/tensors/_theory_nbs_/proofs/tensor_prod_disassociation/thm_proof.ipynb\">proveit.linear_algebra.tensors.tensor_prod_disassociation</a></dt><dd><a class=\"ProveItLink\" href=\"../../../../../../linear_algebra/tensors/__pv_it/theorems/567bedf111562781968da9a58a5b64adbee398540/expr.ipynb\"><img src=\"../../../../../../linear_algebra/tensors/__pv_it/theorems/567bedf111562781968da9a58a5b64adbee398540/expr.png\" style=\"display:inline;vertical-align:middle;\" /></a></dd>"
      ],
      "text/plain": [
       "<IPython.core.display.HTML object>"
      ]
     },
     "metadata": {},
     "output_type": "display_data"
    },
    {
     "data": {
      "text/html": [
       "<dt><a class=\"ProveItLink\" href=\"../../../../../../linear_algebra/tensors/_theory_nbs_/proofs/tensor_prod_distribution_over_summation_with_scalar_mult/thm_proof.ipynb\">proveit.linear_algebra.tensors.tensor_prod_distribution_over_summation_with_scalar_mult</a></dt><dd><a class=\"ProveItLink\" href=\"../../../../../../linear_algebra/tensors/__pv_it/theorems/9cd4971dee37570dc7a596e112e7ea19f5b839580/expr.ipynb\"><img src=\"../../../../../../linear_algebra/tensors/__pv_it/theorems/9cd4971dee37570dc7a596e112e7ea19f5b839580/expr.png\" style=\"display:inline;vertical-align:middle;\" /></a></dd>"
      ],
      "text/plain": [
       "<IPython.core.display.HTML object>"
      ]
     },
     "metadata": {},
     "output_type": "display_data"
    },
    {
     "data": {
      "text/html": [
       "<dt><a class=\"ProveItLink\" href=\"../../../../../../linear_algebra/tensors/_theory_nbs_/proofs/tensor_prod_factorization_from_add/thm_proof.ipynb\">proveit.linear_algebra.tensors.tensor_prod_factorization_from_add</a></dt><dd><a class=\"ProveItLink\" href=\"../../../../../../linear_algebra/tensors/__pv_it/theorems/f6080e34107f0c2a79c58826bb007f56893864cc0/expr.ipynb\"><img src=\"../../../../../../linear_algebra/tensors/__pv_it/theorems/f6080e34107f0c2a79c58826bb007f56893864cc0/expr.png\" style=\"display:inline;vertical-align:middle;\" /></a></dd>"
      ],
      "text/plain": [
       "<IPython.core.display.HTML object>"
      ]
     },
     "metadata": {},
     "output_type": "display_data"
    },
    {
     "data": {
      "text/html": [
       "<dt><a class=\"ProveItLink\" href=\"../../../../../../linear_algebra/tensors/_theory_nbs_/proofs/tensor_prod_is_in_tensor_prod_space/thm_proof.ipynb\">proveit.linear_algebra.tensors.tensor_prod_is_in_tensor_prod_space</a></dt><dd><a class=\"ProveItLink\" href=\"../../../../../../linear_algebra/tensors/__pv_it/theorems/104a7a78f66fda1096b7f612d7bb745b3452652b0/expr.ipynb\"><img src=\"../../../../../../linear_algebra/tensors/__pv_it/theorems/104a7a78f66fda1096b7f612d7bb745b3452652b0/expr.png\" style=\"display:inline;vertical-align:middle;\" /></a></dd>"
      ],
      "text/plain": [
       "<IPython.core.display.HTML object>"
      ]
     },
     "metadata": {},
     "output_type": "display_data"
    },
    {
     "data": {
      "text/html": [
       "<dt><a class=\"ProveItLink\" href=\"../../../../../../linear_algebra/tensors/_theory_nbs_/proofs/tensor_prod_of_cart_exps_within_cart_exp/thm_proof.ipynb\">proveit.linear_algebra.tensors.tensor_prod_of_cart_exps_within_cart_exp</a></dt><dd><a class=\"ProveItLink\" href=\"../../../../../../linear_algebra/tensors/__pv_it/theorems/4cea82059ca670e69592054c45093717ba936c5b0/expr.ipynb\"><img src=\"../../../../../../linear_algebra/tensors/__pv_it/theorems/4cea82059ca670e69592054c45093717ba936c5b0/expr.png\" style=\"display:inline;vertical-align:middle;\" /></a></dd>"
      ],
      "text/plain": [
       "<IPython.core.display.HTML object>"
      ]
     },
     "metadata": {},
     "output_type": "display_data"
    },
    {
     "data": {
      "text/html": [
       "<dt><a class=\"ProveItLink\" href=\"../../../../../../linear_algebra/tensors/_theory_nbs_/proofs/tensor_prod_of_vec_spaces_is_vec_space/thm_proof.ipynb\">proveit.linear_algebra.tensors.tensor_prod_of_vec_spaces_is_vec_space</a></dt><dd><a class=\"ProveItLink\" href=\"../../../../../../linear_algebra/tensors/__pv_it/theorems/23a92ae41f1fc7fb5a43cc7295ea5dcab34d08590/expr.ipynb\"><img src=\"../../../../../../linear_algebra/tensors/__pv_it/theorems/23a92ae41f1fc7fb5a43cc7295ea5dcab34d08590/expr.png\" style=\"display:inline;vertical-align:middle;\" /></a></dd>"
      ],
      "text/plain": [
       "<IPython.core.display.HTML object>"
      ]
     },
     "metadata": {},
     "output_type": "display_data"
    },
    {
     "data": {
      "text/html": [
       "<dt><a class=\"ProveItLink\" href=\"../../../../../../logic/booleans/conjunction/_theory_nbs_/proofs/and_if_all/thm_proof.ipynb\">proveit.logic.booleans.conjunction.and_if_all</a></dt><dd><a class=\"ProveItLink\" href=\"../../../../../../logic/booleans/conjunction/__pv_it/theorems/6971ee196a845829b87753d61a094b77a1280c7a0/expr.ipynb\"><img src=\"../../../../../../logic/booleans/conjunction/__pv_it/theorems/6971ee196a845829b87753d61a094b77a1280c7a0/expr.png\" style=\"display:inline;vertical-align:middle;\" /></a></dd>"
      ],
      "text/plain": [
       "<IPython.core.display.HTML object>"
      ]
     },
     "metadata": {},
     "output_type": "display_data"
    },
    {
     "data": {
      "text/html": [
       "<dt><a class=\"ProveItLink\" href=\"../../../../../../logic/booleans/conjunction/_theory_nbs_/proofs/any_from_and/thm_proof.ipynb\">proveit.logic.booleans.conjunction.any_from_and</a></dt><dd><a class=\"ProveItLink\" href=\"../../../../../../logic/booleans/conjunction/__pv_it/theorems/17a71de2e133672ce62dcfb215d7c146322da5ed0/expr.ipynb\"><img src=\"../../../../../../logic/booleans/conjunction/__pv_it/theorems/17a71de2e133672ce62dcfb215d7c146322da5ed0/expr.png\" style=\"display:inline;vertical-align:middle;\" /></a></dd>"
      ],
      "text/plain": [
       "<IPython.core.display.HTML object>"
      ]
     },
     "metadata": {},
     "output_type": "display_data"
    },
    {
     "data": {
      "text/html": [
       "<dt><a class=\"ProveItLink\" href=\"../../../../../../logic/booleans/conjunction/_theory_nbs_/proofs/conjunction_from_quantification/thm_proof.ipynb\">proveit.logic.booleans.conjunction.conjunction_from_quantification</a></dt><dd><a class=\"ProveItLink\" href=\"../../../../../../logic/booleans/conjunction/__pv_it/theorems/54731e77934516c4ba604eb6bb7671e4e5da4bf90/expr.ipynb\"><img src=\"../../../../../../logic/booleans/conjunction/__pv_it/theorems/54731e77934516c4ba604eb6bb7671e4e5da4bf90/expr.png\" style=\"display:inline;vertical-align:middle;\" /></a></dd>"
      ],
      "text/plain": [
       "<IPython.core.display.HTML object>"
      ]
     },
     "metadata": {},
     "output_type": "display_data"
    },
    {
     "data": {
      "text/html": [
       "<dt><a class=\"ProveItLink\" href=\"../../../../../../logic/booleans/conjunction/_theory_nbs_/proofs/disassociate/thm_proof.ipynb\">proveit.logic.booleans.conjunction.disassociate</a></dt><dd><a class=\"ProveItLink\" href=\"../../../../../../logic/booleans/conjunction/__pv_it/theorems/e85cd9ea0d60eb8d3628c65a1613e35cf5a50b9f0/expr.ipynb\"><img src=\"../../../../../../logic/booleans/conjunction/__pv_it/theorems/e85cd9ea0d60eb8d3628c65a1613e35cf5a50b9f0/expr.png\" style=\"display:inline;vertical-align:middle;\" /></a></dd>"
      ],
      "text/plain": [
       "<IPython.core.display.HTML object>"
      ]
     },
     "metadata": {},
     "output_type": "display_data"
    },
    {
     "data": {
      "text/html": [
       "<dt><a class=\"ProveItLink\" href=\"../../../../../../logic/booleans/conjunction/_theory_nbs_/proofs/redundant_conjunction_general/thm_proof.ipynb\">proveit.logic.booleans.conjunction.redundant_conjunction_general</a></dt><dd><a class=\"ProveItLink\" href=\"../../../../../../logic/booleans/conjunction/__pv_it/theorems/f95b4702e801d9c04f9c78a0c8f6f8b100ac1add0/expr.ipynb\"><img src=\"../../../../../../logic/booleans/conjunction/__pv_it/theorems/f95b4702e801d9c04f9c78a0c8f6f8b100ac1add0/expr.png\" style=\"display:inline;vertical-align:middle;\" /></a></dd>"
      ],
      "text/plain": [
       "<IPython.core.display.HTML object>"
      ]
     },
     "metadata": {},
     "output_type": "display_data"
    },
    {
     "data": {
      "text/html": [
       "<dt><a class=\"ProveItLink\" href=\"../../../../../../logic/booleans/conjunction/_theory_nbs_/proofs/some_from_and/thm_proof.ipynb\">proveit.logic.booleans.conjunction.some_from_and</a></dt><dd><a class=\"ProveItLink\" href=\"../../../../../../logic/booleans/conjunction/__pv_it/theorems/806002bd3449a68f3c695a4071348370d5b1f87b0/expr.ipynb\"><img src=\"../../../../../../logic/booleans/conjunction/__pv_it/theorems/806002bd3449a68f3c695a4071348370d5b1f87b0/expr.png\" style=\"display:inline;vertical-align:middle;\" /></a></dd>"
      ],
      "text/plain": [
       "<IPython.core.display.HTML object>"
      ]
     },
     "metadata": {},
     "output_type": "display_data"
    },
    {
     "data": {
      "text/html": [
       "<dt><a class=\"ProveItLink\" href=\"../../../../../../logic/booleans/disjunction/_theory_nbs_/proofs/any_if_all/thm_proof.ipynb\">proveit.logic.booleans.disjunction.any_if_all</a></dt><dd><a class=\"ProveItLink\" href=\"../../../../../../logic/booleans/disjunction/__pv_it/theorems/5693c04ccb181d75f58de3b9cebaeb1a4831fd370/expr.ipynb\"><img src=\"../../../../../../logic/booleans/disjunction/__pv_it/theorems/5693c04ccb181d75f58de3b9cebaeb1a4831fd370/expr.png\" style=\"display:inline;vertical-align:middle;\" /></a></dd>"
      ],
      "text/plain": [
       "<IPython.core.display.HTML object>"
      ]
     },
     "metadata": {},
     "output_type": "display_data"
    },
    {
     "data": {
      "text/html": [
       "<dt><a class=\"ProveItLink\" href=\"../../../../../../logic/booleans/disjunction/_theory_nbs_/proofs/disassociate/thm_proof.ipynb\">proveit.logic.booleans.disjunction.disassociate</a></dt><dd><a class=\"ProveItLink\" href=\"../../../../../../logic/booleans/disjunction/__pv_it/theorems/de7b11873ea8f4c70f2c7929c8eaf6a611431a420/expr.ipynb\"><img src=\"../../../../../../logic/booleans/disjunction/__pv_it/theorems/de7b11873ea8f4c70f2c7929c8eaf6a611431a420/expr.png\" style=\"display:inline;vertical-align:middle;\" /></a></dd>"
      ],
      "text/plain": [
       "<IPython.core.display.HTML object>"
      ]
     },
     "metadata": {},
     "output_type": "display_data"
    },
    {
     "data": {
      "text/html": [
       "<dt><a class=\"ProveItLink\" href=\"../../../../../../logic/booleans/disjunction/_theory_nbs_/proofs/or_if_any/thm_proof.ipynb\">proveit.logic.booleans.disjunction.or_if_any</a></dt><dd><a class=\"ProveItLink\" href=\"../../../../../../logic/booleans/disjunction/__pv_it/theorems/fd3da9898ba64653da239a2e75a4d4c56fe499ff0/expr.ipynb\"><img src=\"../../../../../../logic/booleans/disjunction/__pv_it/theorems/fd3da9898ba64653da239a2e75a4d4c56fe499ff0/expr.png\" style=\"display:inline;vertical-align:middle;\" /></a></dd>"
      ],
      "text/plain": [
       "<IPython.core.display.HTML object>"
      ]
     },
     "metadata": {},
     "output_type": "display_data"
    },
    {
     "data": {
      "text/html": [
       "<dt><a class=\"ProveItLink\" href=\"../../../../../../logic/booleans/quantification/universality/_theory_nbs_/proofs/bundle/thm_proof.ipynb\">proveit.logic.booleans.quantification.universality.bundle</a></dt><dd><a class=\"ProveItLink\" href=\"../../../../../../logic/booleans/quantification/universality/__pv_it/theorems/ac370961257c7dceed45943f76d40bee953aab800/expr.ipynb\"><img src=\"../../../../../../logic/booleans/quantification/universality/__pv_it/theorems/ac370961257c7dceed45943f76d40bee953aab800/expr.png\" style=\"display:inline;vertical-align:middle;\" /></a></dd>"
      ],
      "text/plain": [
       "<IPython.core.display.HTML object>"
      ]
     },
     "metadata": {},
     "output_type": "display_data"
    },
    {
     "data": {
      "text/html": [
       "<dt><a class=\"ProveItLink\" href=\"../../../../../../logic/equality/_theory_nbs_/proofs/four_chain_transitivity/thm_proof.ipynb\">proveit.logic.equality.four_chain_transitivity</a></dt><dd><a class=\"ProveItLink\" href=\"../../../../../../logic/equality/__pv_it/theorems/4f18e19905a24df92da67b023810639a52efaa780/expr.ipynb\"><img src=\"../../../../../../logic/equality/__pv_it/theorems/4f18e19905a24df92da67b023810639a52efaa780/expr.png\" style=\"display:inline;vertical-align:middle;\" /></a></dd>"
      ],
      "text/plain": [
       "<IPython.core.display.HTML object>"
      ]
     },
     "metadata": {},
     "output_type": "display_data"
    },
    {
     "data": {
      "text/html": [
       "<dt><a class=\"ProveItLink\" href=\"../../../../../../logic/sets/enumeration/_theory_nbs_/proofs/fold_singleton/thm_proof.ipynb\">proveit.logic.sets.enumeration.fold_singleton</a></dt><dd><a class=\"ProveItLink\" href=\"../../../../../../logic/sets/enumeration/__pv_it/theorems/273ba9c70c83bafc8e1de760d1e65d4bea4f283a0/expr.ipynb\"><img src=\"../../../../../../logic/sets/enumeration/__pv_it/theorems/273ba9c70c83bafc8e1de760d1e65d4bea4f283a0/expr.png\" style=\"display:inline;vertical-align:middle;\" /></a></dd>"
      ],
      "text/plain": [
       "<IPython.core.display.HTML object>"
      ]
     },
     "metadata": {},
     "output_type": "display_data"
    },
    {
     "data": {
      "text/html": [
       "<dt><a class=\"ProveItLink\" href=\"../../../../../../logic/sets/enumeration/_theory_nbs_/proofs/in_enumerated_set/thm_proof.ipynb\">proveit.logic.sets.enumeration.in_enumerated_set</a></dt><dd><a class=\"ProveItLink\" href=\"../../../../../../logic/sets/enumeration/__pv_it/theorems/ed19137bc36ddbb43af52f63034b20fd15e11a410/expr.ipynb\"><img src=\"../../../../../../logic/sets/enumeration/__pv_it/theorems/ed19137bc36ddbb43af52f63034b20fd15e11a410/expr.png\" style=\"display:inline;vertical-align:middle;\" /></a></dd>"
      ],
      "text/plain": [
       "<IPython.core.display.HTML object>"
      ]
     },
     "metadata": {},
     "output_type": "display_data"
    },
    {
     "data": {
      "text/html": [
       "<dt><a class=\"ProveItLink\" href=\"../../../../../../logic/sets/enumeration/_theory_nbs_/proofs/true_for_each_then_true_for_all/thm_proof.ipynb\">proveit.logic.sets.enumeration.true_for_each_then_true_for_all</a></dt><dd><a class=\"ProveItLink\" href=\"../../../../../../logic/sets/enumeration/__pv_it/theorems/2a3d660a558dc497f469ec93205d50605fbedf0e0/expr.ipynb\"><img src=\"../../../../../../logic/sets/enumeration/__pv_it/theorems/2a3d660a558dc497f469ec93205d50605fbedf0e0/expr.png\" style=\"display:inline;vertical-align:middle;\" /></a></dd>"
      ],
      "text/plain": [
       "<IPython.core.display.HTML object>"
      ]
     },
     "metadata": {},
     "output_type": "display_data"
    },
    {
     "data": {
      "text/html": [
       "<dt><a class=\"ProveItLink\" href=\"../../../../../../logic/sets/enumeration/_theory_nbs_/proofs/unfold/thm_proof.ipynb\">proveit.logic.sets.enumeration.unfold</a></dt><dd><a class=\"ProveItLink\" href=\"../../../../../../logic/sets/enumeration/__pv_it/theorems/93064732f43675fe7136dce1d05dc46f6c9d68960/expr.ipynb\"><img src=\"../../../../../../logic/sets/enumeration/__pv_it/theorems/93064732f43675fe7136dce1d05dc46f6c9d68960/expr.png\" style=\"display:inline;vertical-align:middle;\" /></a></dd>"
      ],
      "text/plain": [
       "<IPython.core.display.HTML object>"
      ]
     },
     "metadata": {},
     "output_type": "display_data"
    },
    {
     "data": {
      "text/html": [
       "<dt><a class=\"ProveItLink\" href=\"../../../../../../logic/sets/functions/bijections/_theory_nbs_/proofs/bijection_transitivity/thm_proof.ipynb\">proveit.logic.sets.functions.bijections.bijection_transitivity</a></dt><dd><a class=\"ProveItLink\" href=\"../../../../../../logic/sets/functions/bijections/__pv_it/theorems/b1665f3fa3cdffd5f9b5efc09924056f9bef6e640/expr.ipynb\"><img src=\"../../../../../../logic/sets/functions/bijections/__pv_it/theorems/b1665f3fa3cdffd5f9b5efc09924056f9bef6e640/expr.png\" style=\"display:inline;vertical-align:middle;\" /></a></dd>"
      ],
      "text/plain": [
       "<IPython.core.display.HTML object>"
      ]
     },
     "metadata": {},
     "output_type": "display_data"
    },
    {
     "data": {
      "text/html": [
       "<dt><a class=\"ProveItLink\" href=\"../../../../../../logic/sets/functions/bijections/_theory_nbs_/proofs/bijective_by_uniqueness/thm_proof.ipynb\">proveit.logic.sets.functions.bijections.bijective_by_uniqueness</a></dt><dd><a class=\"ProveItLink\" href=\"../../../../../../logic/sets/functions/bijections/__pv_it/theorems/75ace9e778082f7622baa877b58ff6643fc51c260/expr.ipynb\"><img src=\"../../../../../../logic/sets/functions/bijections/__pv_it/theorems/75ace9e778082f7622baa877b58ff6643fc51c260/expr.png\" style=\"display:inline;vertical-align:middle;\" /></a></dd>"
      ],
      "text/plain": [
       "<IPython.core.display.HTML object>"
      ]
     },
     "metadata": {},
     "output_type": "display_data"
    },
    {
     "data": {
      "text/html": [
       "<dt><a class=\"ProveItLink\" href=\"../../../../../../logic/sets/functions/bijections/_theory_nbs_/proofs/elim_domain_condition/thm_proof.ipynb\">proveit.logic.sets.functions.bijections.elim_domain_condition</a></dt><dd><a class=\"ProveItLink\" href=\"../../../../../../logic/sets/functions/bijections/__pv_it/theorems/3c4d8efcac98dc0f3aa0ea6d0eb80bc1b87dce540/expr.ipynb\"><img src=\"../../../../../../logic/sets/functions/bijections/__pv_it/theorems/3c4d8efcac98dc0f3aa0ea6d0eb80bc1b87dce540/expr.png\" style=\"display:inline;vertical-align:middle;\" /></a></dd>"
      ],
      "text/plain": [
       "<IPython.core.display.HTML object>"
      ]
     },
     "metadata": {},
     "output_type": "display_data"
    },
    {
     "data": {
      "text/html": [
       "<dt><a class=\"ProveItLink\" href=\"../../../../../../logic/sets/functions/bijections/_theory_nbs_/proofs/membership_unfolding/thm_proof.ipynb\">proveit.logic.sets.functions.bijections.membership_unfolding</a></dt><dd><a class=\"ProveItLink\" href=\"../../../../../../logic/sets/functions/bijections/__pv_it/theorems/9f71333ecb584b673da531a84e2d67ce5bb524fc0/expr.ipynb\"><img src=\"../../../../../../logic/sets/functions/bijections/__pv_it/theorems/9f71333ecb584b673da531a84e2d67ce5bb524fc0/expr.png\" style=\"display:inline;vertical-align:middle;\" /></a></dd>"
      ],
      "text/plain": [
       "<IPython.core.display.HTML object>"
      ]
     },
     "metadata": {},
     "output_type": "display_data"
    },
    {
     "data": {
      "text/html": [
       "<dt><a class=\"ProveItLink\" href=\"../../../../../../logic/sets/functions/injections/_theory_nbs_/proofs/subset_injection/thm_proof.ipynb\">proveit.logic.sets.functions.injections.subset_injection</a></dt><dd><a class=\"ProveItLink\" href=\"../../../../../../logic/sets/functions/injections/__pv_it/theorems/abb99c910b306db3003e7b7932ea4b3fb115982e0/expr.ipynb\"><img src=\"../../../../../../logic/sets/functions/injections/__pv_it/theorems/abb99c910b306db3003e7b7932ea4b3fb115982e0/expr.png\" style=\"display:inline;vertical-align:middle;\" /></a></dd>"
      ],
      "text/plain": [
       "<IPython.core.display.HTML object>"
      ]
     },
     "metadata": {},
     "output_type": "display_data"
    },
    {
     "data": {
      "text/html": [
       "<dt><a class=\"ProveItLink\" href=\"../../../../../../logic/sets/membership/_theory_nbs_/proofs/double_negated_membership/thm_proof.ipynb\">proveit.logic.sets.membership.double_negated_membership</a></dt><dd><a class=\"ProveItLink\" href=\"../../../../../../logic/sets/membership/__pv_it/theorems/84d1e146e6fabc5123bad27baefa6ca8ff139c720/expr.ipynb\"><img src=\"../../../../../../logic/sets/membership/__pv_it/theorems/84d1e146e6fabc5123bad27baefa6ca8ff139c720/expr.png\" style=\"display:inline;vertical-align:middle;\" /></a></dd>"
      ],
      "text/plain": [
       "<IPython.core.display.HTML object>"
      ]
     },
     "metadata": {},
     "output_type": "display_data"
    },
    {
     "data": {
      "text/html": [
       "<dt><a class=\"ProveItLink\" href=\"../../../../../../logic/sets/unification/_theory_nbs_/proofs/membership_folding/thm_proof.ipynb\">proveit.logic.sets.unification.membership_folding</a></dt><dd><a class=\"ProveItLink\" href=\"../../../../../../logic/sets/unification/__pv_it/theorems/6460444c944301e8d93de90530238f64da1979a90/expr.ipynb\"><img src=\"../../../../../../logic/sets/unification/__pv_it/theorems/6460444c944301e8d93de90530238f64da1979a90/expr.png\" style=\"display:inline;vertical-align:middle;\" /></a></dd>"
      ],
      "text/plain": [
       "<IPython.core.display.HTML object>"
      ]
     },
     "metadata": {},
     "output_type": "display_data"
    },
    {
     "data": {
      "text/html": [
       "<dt><a class=\"ProveItLink\" href=\"../../../../../../logic/sets/unification/_theory_nbs_/proofs/union_inclusion/thm_proof.ipynb\">proveit.logic.sets.unification.union_inclusion</a></dt><dd><a class=\"ProveItLink\" href=\"../../../../../../logic/sets/unification/__pv_it/theorems/c888117fa14c825d0c1d1d8d1fd070198a0ab2b20/expr.ipynb\"><img src=\"../../../../../../logic/sets/unification/__pv_it/theorems/c888117fa14c825d0c1d1d8d1fd070198a0ab2b20/expr.png\" style=\"display:inline;vertical-align:middle;\" /></a></dd>"
      ],
      "text/plain": [
       "<IPython.core.display.HTML object>"
      ]
     },
     "metadata": {},
     "output_type": "display_data"
    },
    {
     "data": {
      "text/html": [
       "<dt><a class=\"ProveItLink\" href=\"../../../../../../numbers/absolute_value/_theory_nbs_/proofs/abs_complex_closure/thm_proof.ipynb\">proveit.numbers.absolute_value.abs_complex_closure</a></dt><dd><a class=\"ProveItLink\" href=\"../../../../../../numbers/absolute_value/__pv_it/theorems/7766d7e541c55b09fa681415edf67c262db36e2c0/expr.ipynb\"><img src=\"../../../../../../numbers/absolute_value/__pv_it/theorems/7766d7e541c55b09fa681415edf67c262db36e2c0/expr.png\" style=\"display:inline;vertical-align:middle;\" /></a></dd>"
      ],
      "text/plain": [
       "<IPython.core.display.HTML object>"
      ]
     },
     "metadata": {},
     "output_type": "display_data"
    },
    {
     "data": {
      "text/html": [
       "<dt><a class=\"ProveItLink\" href=\"../../../../../../numbers/absolute_value/_theory_nbs_/proofs/abs_eq/thm_proof.ipynb\">proveit.numbers.absolute_value.abs_eq</a></dt><dd><a class=\"ProveItLink\" href=\"../../../../../../numbers/absolute_value/__pv_it/theorems/ddf4164bdcf6f16109fa7644b07c22a0ad9bc49f0/expr.ipynb\"><img src=\"../../../../../../numbers/absolute_value/__pv_it/theorems/ddf4164bdcf6f16109fa7644b07c22a0ad9bc49f0/expr.png\" style=\"display:inline;vertical-align:middle;\" /></a></dd>"
      ],
      "text/plain": [
       "<IPython.core.display.HTML object>"
      ]
     },
     "metadata": {},
     "output_type": "display_data"
    },
    {
     "data": {
      "text/html": [
       "<dt><a class=\"ProveItLink\" href=\"../../../../../../numbers/absolute_value/_theory_nbs_/proofs/abs_even/thm_proof.ipynb\">proveit.numbers.absolute_value.abs_even</a></dt><dd><a class=\"ProveItLink\" href=\"../../../../../../numbers/absolute_value/__pv_it/theorems/1eab668427e31220f2aae39f9c3765d474b1fbf50/expr.ipynb\"><img src=\"../../../../../../numbers/absolute_value/__pv_it/theorems/1eab668427e31220f2aae39f9c3765d474b1fbf50/expr.png\" style=\"display:inline;vertical-align:middle;\" /></a></dd>"
      ],
      "text/plain": [
       "<IPython.core.display.HTML object>"
      ]
     },
     "metadata": {},
     "output_type": "display_data"
    },
    {
     "data": {
      "text/html": [
       "<dt><a class=\"ProveItLink\" href=\"../../../../../../numbers/absolute_value/_theory_nbs_/proofs/abs_frac/thm_proof.ipynb\">proveit.numbers.absolute_value.abs_frac</a></dt><dd><a class=\"ProveItLink\" href=\"../../../../../../numbers/absolute_value/__pv_it/theorems/edc9a6817eb5ddeb72b8f9cd8b6f918df4fe39b40/expr.ipynb\"><img src=\"../../../../../../numbers/absolute_value/__pv_it/theorems/edc9a6817eb5ddeb72b8f9cd8b6f918df4fe39b40/expr.png\" style=\"display:inline;vertical-align:middle;\" /></a></dd>"
      ],
      "text/plain": [
       "<IPython.core.display.HTML object>"
      ]
     },
     "metadata": {},
     "output_type": "display_data"
    },
    {
     "data": {
      "text/html": [
       "<dt><a class=\"ProveItLink\" href=\"../../../../../../numbers/absolute_value/_theory_nbs_/proofs/abs_neg_elim/thm_proof.ipynb\">proveit.numbers.absolute_value.abs_neg_elim</a></dt><dd><a class=\"ProveItLink\" href=\"../../../../../../numbers/absolute_value/__pv_it/theorems/4bffb1d84cbc185670c9b7e9b55e42908c32082b0/expr.ipynb\"><img src=\"../../../../../../numbers/absolute_value/__pv_it/theorems/4bffb1d84cbc185670c9b7e9b55e42908c32082b0/expr.png\" style=\"display:inline;vertical-align:middle;\" /></a></dd>"
      ],
      "text/plain": [
       "<IPython.core.display.HTML object>"
      ]
     },
     "metadata": {},
     "output_type": "display_data"
    },
    {
     "data": {
      "text/html": [
       "<dt><a class=\"ProveItLink\" href=\"../../../../../../numbers/absolute_value/_theory_nbs_/proofs/abs_non_neg_elim/thm_proof.ipynb\">proveit.numbers.absolute_value.abs_non_neg_elim</a></dt><dd><a class=\"ProveItLink\" href=\"../../../../../../numbers/absolute_value/__pv_it/theorems/de7f1f85b50f0f14614c489704dd5bd66a903a2a0/expr.ipynb\"><img src=\"../../../../../../numbers/absolute_value/__pv_it/theorems/de7f1f85b50f0f14614c489704dd5bd66a903a2a0/expr.png\" style=\"display:inline;vertical-align:middle;\" /></a></dd>"
      ],
      "text/plain": [
       "<IPython.core.display.HTML object>"
      ]
     },
     "metadata": {},
     "output_type": "display_data"
    },
    {
     "data": {
      "text/html": [
       "<dt><a class=\"ProveItLink\" href=\"../../../../../../numbers/absolute_value/_theory_nbs_/proofs/abs_nonzero_closure/thm_proof.ipynb\">proveit.numbers.absolute_value.abs_nonzero_closure</a></dt><dd><a class=\"ProveItLink\" href=\"../../../../../../numbers/absolute_value/__pv_it/theorems/e2f72d79765d2822d85519c954bcb277c2f5ed420/expr.ipynb\"><img src=\"../../../../../../numbers/absolute_value/__pv_it/theorems/e2f72d79765d2822d85519c954bcb277c2f5ed420/expr.png\" style=\"display:inline;vertical-align:middle;\" /></a></dd>"
      ],
      "text/plain": [
       "<IPython.core.display.HTML object>"
      ]
     },
     "metadata": {},
     "output_type": "display_data"
    },
    {
     "data": {
      "text/html": [
       "<dt><a class=\"ProveItLink\" href=\"../../../../../../numbers/absolute_value/_theory_nbs_/proofs/abs_prod/thm_proof.ipynb\">proveit.numbers.absolute_value.abs_prod</a></dt><dd><a class=\"ProveItLink\" href=\"../../../../../../numbers/absolute_value/__pv_it/theorems/dbfe1699d1745a98e5f950133ac5d138f8c576410/expr.ipynb\"><img src=\"../../../../../../numbers/absolute_value/__pv_it/theorems/dbfe1699d1745a98e5f950133ac5d138f8c576410/expr.png\" style=\"display:inline;vertical-align:middle;\" /></a></dd>"
      ],
      "text/plain": [
       "<IPython.core.display.HTML object>"
      ]
     },
     "metadata": {},
     "output_type": "display_data"
    },
    {
     "data": {
      "text/html": [
       "<dt><a class=\"ProveItLink\" href=\"../../../../../../numbers/absolute_value/_theory_nbs_/proofs/complex_unit_length/thm_proof.ipynb\">proveit.numbers.absolute_value.complex_unit_length</a></dt><dd><a class=\"ProveItLink\" href=\"../../../../../../numbers/absolute_value/__pv_it/theorems/3d92b76efa45b0f87fe7800bafcd8a3b2a24d1c10/expr.ipynb\"><img src=\"../../../../../../numbers/absolute_value/__pv_it/theorems/3d92b76efa45b0f87fe7800bafcd8a3b2a24d1c10/expr.png\" style=\"display:inline;vertical-align:middle;\" /></a></dd>"
      ],
      "text/plain": [
       "<IPython.core.display.HTML object>"
      ]
     },
     "metadata": {},
     "output_type": "display_data"
    },
    {
     "data": {
      "text/html": [
       "<dt><a class=\"ProveItLink\" href=\"../../../../../../numbers/absolute_value/_theory_nbs_/proofs/triangle_inequality/thm_proof.ipynb\">proveit.numbers.absolute_value.triangle_inequality</a></dt><dd><a class=\"ProveItLink\" href=\"../../../../../../numbers/absolute_value/__pv_it/theorems/a55ee7f3e37c8c1ffc774ff2cdbc814bb081535a0/expr.ipynb\"><img src=\"../../../../../../numbers/absolute_value/__pv_it/theorems/a55ee7f3e37c8c1ffc774ff2cdbc814bb081535a0/expr.png\" style=\"display:inline;vertical-align:middle;\" /></a></dd>"
      ],
      "text/plain": [
       "<IPython.core.display.HTML object>"
      ]
     },
     "metadata": {},
     "output_type": "display_data"
    },
    {
     "data": {
      "text/html": [
       "<dt><a class=\"ProveItLink\" href=\"../../../../../../numbers/absolute_value/_theory_nbs_/proofs/weak_upper_bound/thm_proof.ipynb\">proveit.numbers.absolute_value.weak_upper_bound</a></dt><dd><a class=\"ProveItLink\" href=\"../../../../../../numbers/absolute_value/__pv_it/theorems/ba34cd027028c0cd9c3bd0fdef5f71e090d109370/expr.ipynb\"><img src=\"../../../../../../numbers/absolute_value/__pv_it/theorems/ba34cd027028c0cd9c3bd0fdef5f71e090d109370/expr.png\" style=\"display:inline;vertical-align:middle;\" /></a></dd>"
      ],
      "text/plain": [
       "<IPython.core.display.HTML object>"
      ]
     },
     "metadata": {},
     "output_type": "display_data"
    },
    {
     "data": {
      "text/html": [
       "<dt><a class=\"ProveItLink\" href=\"../../../../../../numbers/absolute_value/_theory_nbs_/proofs/weak_upper_bound_asym_interval/thm_proof.ipynb\">proveit.numbers.absolute_value.weak_upper_bound_asym_interval</a></dt><dd><a class=\"ProveItLink\" href=\"../../../../../../numbers/absolute_value/__pv_it/theorems/2d3781f778f0d5f2e9a519046404b15050c548f80/expr.ipynb\"><img src=\"../../../../../../numbers/absolute_value/__pv_it/theorems/2d3781f778f0d5f2e9a519046404b15050c548f80/expr.png\" style=\"display:inline;vertical-align:middle;\" /></a></dd>"
      ],
      "text/plain": [
       "<IPython.core.display.HTML object>"
      ]
     },
     "metadata": {},
     "output_type": "display_data"
    },
    {
     "data": {
      "text/html": [
       "<dt><a class=\"ProveItLink\" href=\"../../../../../../numbers/addition/_theory_nbs_/proofs/add_complex_closure/thm_proof.ipynb\">proveit.numbers.addition.add_complex_closure</a></dt><dd><a class=\"ProveItLink\" href=\"../../../../../../numbers/addition/__pv_it/theorems/2b0e4d9bb036ec8dea616e4327156d2a2172252a0/expr.ipynb\"><img src=\"../../../../../../numbers/addition/__pv_it/theorems/2b0e4d9bb036ec8dea616e4327156d2a2172252a0/expr.png\" style=\"display:inline;vertical-align:middle;\" /></a></dd>"
      ],
      "text/plain": [
       "<IPython.core.display.HTML object>"
      ]
     },
     "metadata": {},
     "output_type": "display_data"
    },
    {
     "data": {
      "text/html": [
       "<dt><a class=\"ProveItLink\" href=\"../../../../../../numbers/addition/_theory_nbs_/proofs/add_complex_closure_bin/thm_proof.ipynb\">proveit.numbers.addition.add_complex_closure_bin</a></dt><dd><a class=\"ProveItLink\" href=\"../../../../../../numbers/addition/__pv_it/theorems/d1ebd80831b2ec29c1e710770e38a609f5fb38630/expr.ipynb\"><img src=\"../../../../../../numbers/addition/__pv_it/theorems/d1ebd80831b2ec29c1e710770e38a609f5fb38630/expr.png\" style=\"display:inline;vertical-align:middle;\" /></a></dd>"
      ],
      "text/plain": [
       "<IPython.core.display.HTML object>"
      ]
     },
     "metadata": {},
     "output_type": "display_data"
    },
    {
     "data": {
      "text/html": [
       "<dt><a class=\"ProveItLink\" href=\"../../../../../../numbers/addition/_theory_nbs_/proofs/add_int_closure_bin/thm_proof.ipynb\">proveit.numbers.addition.add_int_closure_bin</a></dt><dd><a class=\"ProveItLink\" href=\"../../../../../../numbers/addition/__pv_it/theorems/2b35ce06cdfeb875e0f6937e01d6820de71b5a1f0/expr.ipynb\"><img src=\"../../../../../../numbers/addition/__pv_it/theorems/2b35ce06cdfeb875e0f6937e01d6820de71b5a1f0/expr.png\" style=\"display:inline;vertical-align:middle;\" /></a></dd>"
      ],
      "text/plain": [
       "<IPython.core.display.HTML object>"
      ]
     },
     "metadata": {},
     "output_type": "display_data"
    },
    {
     "data": {
      "text/html": [
       "<dt><a class=\"ProveItLink\" href=\"../../../../../../numbers/addition/_theory_nbs_/proofs/add_nat_closure/thm_proof.ipynb\">proveit.numbers.addition.add_nat_closure</a></dt><dd><a class=\"ProveItLink\" href=\"../../../../../../numbers/addition/__pv_it/theorems/77293f6040d7f18782ee965619dfb81ca95eaea00/expr.ipynb\"><img src=\"../../../../../../numbers/addition/__pv_it/theorems/77293f6040d7f18782ee965619dfb81ca95eaea00/expr.png\" style=\"display:inline;vertical-align:middle;\" /></a></dd>"
      ],
      "text/plain": [
       "<IPython.core.display.HTML object>"
      ]
     },
     "metadata": {},
     "output_type": "display_data"
    },
    {
     "data": {
      "text/html": [
       "<dt><a class=\"ProveItLink\" href=\"../../../../../../numbers/addition/_theory_nbs_/proofs/add_nat_closure_bin/thm_proof.ipynb\">proveit.numbers.addition.add_nat_closure_bin</a></dt><dd><a class=\"ProveItLink\" href=\"../../../../../../numbers/addition/__pv_it/theorems/2d9e0bc6f35dbf06196c004cd25d14fec97e8b7b0/expr.ipynb\"><img src=\"../../../../../../numbers/addition/__pv_it/theorems/2d9e0bc6f35dbf06196c004cd25d14fec97e8b7b0/expr.png\" style=\"display:inline;vertical-align:middle;\" /></a></dd>"
      ],
      "text/plain": [
       "<IPython.core.display.HTML object>"
      ]
     },
     "metadata": {},
     "output_type": "display_data"
    },
    {
     "data": {
      "text/html": [
       "<dt><a class=\"ProveItLink\" href=\"../../../../../../numbers/addition/_theory_nbs_/proofs/add_nat_pos_closure_bin/thm_proof.ipynb\">proveit.numbers.addition.add_nat_pos_closure_bin</a></dt><dd><a class=\"ProveItLink\" href=\"../../../../../../numbers/addition/__pv_it/theorems/f6598110e2bbbc721ab41e7dcf0c53894ddd14b00/expr.ipynb\"><img src=\"../../../../../../numbers/addition/__pv_it/theorems/f6598110e2bbbc721ab41e7dcf0c53894ddd14b00/expr.png\" style=\"display:inline;vertical-align:middle;\" /></a></dd>"
      ],
      "text/plain": [
       "<IPython.core.display.HTML object>"
      ]
     },
     "metadata": {},
     "output_type": "display_data"
    },
    {
     "data": {
      "text/html": [
       "<dt><a class=\"ProveItLink\" href=\"../../../../../../numbers/addition/_theory_nbs_/proofs/add_nat_pos_from_nonneg/thm_proof.ipynb\">proveit.numbers.addition.add_nat_pos_from_nonneg</a></dt><dd><a class=\"ProveItLink\" href=\"../../../../../../numbers/addition/__pv_it/theorems/2dd73f7a76083dc2c62bb8360dbc2d770b74bba90/expr.ipynb\"><img src=\"../../../../../../numbers/addition/__pv_it/theorems/2dd73f7a76083dc2c62bb8360dbc2d770b74bba90/expr.png\" style=\"display:inline;vertical-align:middle;\" /></a></dd>"
      ],
      "text/plain": [
       "<IPython.core.display.HTML object>"
      ]
     },
     "metadata": {},
     "output_type": "display_data"
    },
    {
     "data": {
      "text/html": [
       "<dt><a class=\"ProveItLink\" href=\"../../../../../../numbers/addition/_theory_nbs_/proofs/add_rational_closure_bin/thm_proof.ipynb\">proveit.numbers.addition.add_rational_closure_bin</a></dt><dd><a class=\"ProveItLink\" href=\"../../../../../../numbers/addition/__pv_it/theorems/e54687e9a0238c6aca9e97085a634d9a06d597f70/expr.ipynb\"><img src=\"../../../../../../numbers/addition/__pv_it/theorems/e54687e9a0238c6aca9e97085a634d9a06d597f70/expr.png\" style=\"display:inline;vertical-align:middle;\" /></a></dd>"
      ],
      "text/plain": [
       "<IPython.core.display.HTML object>"
      ]
     },
     "metadata": {},
     "output_type": "display_data"
    },
    {
     "data": {
      "text/html": [
       "<dt><a class=\"ProveItLink\" href=\"../../../../../../numbers/addition/_theory_nbs_/proofs/add_real_closure/thm_proof.ipynb\">proveit.numbers.addition.add_real_closure</a></dt><dd><a class=\"ProveItLink\" href=\"../../../../../../numbers/addition/__pv_it/theorems/78d9a0ea1b07b4e99430e26e4811276179c449c80/expr.ipynb\"><img src=\"../../../../../../numbers/addition/__pv_it/theorems/78d9a0ea1b07b4e99430e26e4811276179c449c80/expr.png\" style=\"display:inline;vertical-align:middle;\" /></a></dd>"
      ],
      "text/plain": [
       "<IPython.core.display.HTML object>"
      ]
     },
     "metadata": {},
     "output_type": "display_data"
    },
    {
     "data": {
      "text/html": [
       "<dt><a class=\"ProveItLink\" href=\"../../../../../../numbers/addition/_theory_nbs_/proofs/add_real_closure_bin/thm_proof.ipynb\">proveit.numbers.addition.add_real_closure_bin</a></dt><dd><a class=\"ProveItLink\" href=\"../../../../../../numbers/addition/__pv_it/theorems/df039533242651384cdd443c6e1baef1165f6d710/expr.ipynb\"><img src=\"../../../../../../numbers/addition/__pv_it/theorems/df039533242651384cdd443c6e1baef1165f6d710/expr.png\" style=\"display:inline;vertical-align:middle;\" /></a></dd>"
      ],
      "text/plain": [
       "<IPython.core.display.HTML object>"
      ]
     },
     "metadata": {},
     "output_type": "display_data"
    },
    {
     "data": {
      "text/html": [
       "<dt><a class=\"ProveItLink\" href=\"../../../../../../numbers/addition/_theory_nbs_/proofs/association/thm_proof.ipynb\">proveit.numbers.addition.association</a></dt><dd><a class=\"ProveItLink\" href=\"../../../../../../numbers/addition/__pv_it/theorems/cdfdb58510fb54706748e460b816f681097ef76e0/expr.ipynb\"><img src=\"../../../../../../numbers/addition/__pv_it/theorems/cdfdb58510fb54706748e460b816f681097ef76e0/expr.png\" style=\"display:inline;vertical-align:middle;\" /></a></dd>"
      ],
      "text/plain": [
       "<IPython.core.display.HTML object>"
      ]
     },
     "metadata": {},
     "output_type": "display_data"
    },
    {
     "data": {
      "text/html": [
       "<dt><a class=\"ProveItLink\" href=\"../../../../../../numbers/addition/_theory_nbs_/proofs/commutation/thm_proof.ipynb\">proveit.numbers.addition.commutation</a></dt><dd><a class=\"ProveItLink\" href=\"../../../../../../numbers/addition/__pv_it/theorems/0530bd5996625fe7e23368b80795a751706d3cca0/expr.ipynb\"><img src=\"../../../../../../numbers/addition/__pv_it/theorems/0530bd5996625fe7e23368b80795a751706d3cca0/expr.png\" style=\"display:inline;vertical-align:middle;\" /></a></dd>"
      ],
      "text/plain": [
       "<IPython.core.display.HTML object>"
      ]
     },
     "metadata": {},
     "output_type": "display_data"
    },
    {
     "data": {
      "text/html": [
       "<dt><a class=\"ProveItLink\" href=\"../../../../../../numbers/addition/_theory_nbs_/proofs/disassociation/thm_proof.ipynb\">proveit.numbers.addition.disassociation</a></dt><dd><a class=\"ProveItLink\" href=\"../../../../../../numbers/addition/__pv_it/theorems/72db209c8fe099279cc023e5e34493f46d4b9b510/expr.ipynb\"><img src=\"../../../../../../numbers/addition/__pv_it/theorems/72db209c8fe099279cc023e5e34493f46d4b9b510/expr.png\" style=\"display:inline;vertical-align:middle;\" /></a></dd>"
      ],
      "text/plain": [
       "<IPython.core.display.HTML object>"
      ]
     },
     "metadata": {},
     "output_type": "display_data"
    },
    {
     "data": {
      "text/html": [
       "<dt><a class=\"ProveItLink\" href=\"../../../../../../numbers/addition/_theory_nbs_/proofs/elim_zero_any/thm_proof.ipynb\">proveit.numbers.addition.elim_zero_any</a></dt><dd><a class=\"ProveItLink\" href=\"../../../../../../numbers/addition/__pv_it/theorems/a95de93ea9552cbb36999b67a726ab78d2cf374a0/expr.ipynb\"><img src=\"../../../../../../numbers/addition/__pv_it/theorems/a95de93ea9552cbb36999b67a726ab78d2cf374a0/expr.png\" style=\"display:inline;vertical-align:middle;\" /></a></dd>"
      ],
      "text/plain": [
       "<IPython.core.display.HTML object>"
      ]
     },
     "metadata": {},
     "output_type": "display_data"
    },
    {
     "data": {
      "text/html": [
       "<dt><a class=\"ProveItLink\" href=\"../../../../../../numbers/addition/_theory_nbs_/proofs/elim_zero_left/thm_proof.ipynb\">proveit.numbers.addition.elim_zero_left</a></dt><dd><a class=\"ProveItLink\" href=\"../../../../../../numbers/addition/__pv_it/theorems/7be1cd9043852fe4dd5d37d9b73126dace2b9a7f0/expr.ipynb\"><img src=\"../../../../../../numbers/addition/__pv_it/theorems/7be1cd9043852fe4dd5d37d9b73126dace2b9a7f0/expr.png\" style=\"display:inline;vertical-align:middle;\" /></a></dd>"
      ],
      "text/plain": [
       "<IPython.core.display.HTML object>"
      ]
     },
     "metadata": {},
     "output_type": "display_data"
    },
    {
     "data": {
      "text/html": [
       "<dt><a class=\"ProveItLink\" href=\"../../../../../../numbers/addition/_theory_nbs_/proofs/elim_zero_right/thm_proof.ipynb\">proveit.numbers.addition.elim_zero_right</a></dt><dd><a class=\"ProveItLink\" href=\"../../../../../../numbers/addition/__pv_it/theorems/4719abd3480fde2fd7d0a3999c43fe5d37b4f4580/expr.ipynb\"><img src=\"../../../../../../numbers/addition/__pv_it/theorems/4719abd3480fde2fd7d0a3999c43fe5d37b4f4580/expr.png\" style=\"display:inline;vertical-align:middle;\" /></a></dd>"
      ],
      "text/plain": [
       "<IPython.core.display.HTML object>"
      ]
     },
     "metadata": {},
     "output_type": "display_data"
    },
    {
     "data": {
      "text/html": [
       "<dt><a class=\"ProveItLink\" href=\"../../../../../../numbers/addition/_theory_nbs_/proofs/leftward_commutation/thm_proof.ipynb\">proveit.numbers.addition.leftward_commutation</a></dt><dd><a class=\"ProveItLink\" href=\"../../../../../../numbers/addition/__pv_it/theorems/ce884f4ddc455e8aa5ab1ea3923b843a3059b1340/expr.ipynb\"><img src=\"../../../../../../numbers/addition/__pv_it/theorems/ce884f4ddc455e8aa5ab1ea3923b843a3059b1340/expr.png\" style=\"display:inline;vertical-align:middle;\" /></a></dd>"
      ],
      "text/plain": [
       "<IPython.core.display.HTML object>"
      ]
     },
     "metadata": {},
     "output_type": "display_data"
    },
    {
     "data": {
      "text/html": [
       "<dt><a class=\"ProveItLink\" href=\"../../../../../../numbers/addition/_theory_nbs_/proofs/rational_pair_addition/thm_proof.ipynb\">proveit.numbers.addition.rational_pair_addition</a></dt><dd><a class=\"ProveItLink\" href=\"../../../../../../numbers/addition/__pv_it/theorems/97377aebde80b14bafb68422eb4f69e7c74eb0c20/expr.ipynb\"><img src=\"../../../../../../numbers/addition/__pv_it/theorems/97377aebde80b14bafb68422eb4f69e7c74eb0c20/expr.png\" style=\"display:inline;vertical-align:middle;\" /></a></dd>"
      ],
      "text/plain": [
       "<IPython.core.display.HTML object>"
      ]
     },
     "metadata": {},
     "output_type": "display_data"
    },
    {
     "data": {
      "text/html": [
       "<dt><a class=\"ProveItLink\" href=\"../../../../../../numbers/addition/_theory_nbs_/proofs/strong_bound_via_left_term_bound/thm_proof.ipynb\">proveit.numbers.addition.strong_bound_via_left_term_bound</a></dt><dd><a class=\"ProveItLink\" href=\"../../../../../../numbers/addition/__pv_it/theorems/5b832fc2ff9f945d2807a753c90e3c22309ad14f0/expr.ipynb\"><img src=\"../../../../../../numbers/addition/__pv_it/theorems/5b832fc2ff9f945d2807a753c90e3c22309ad14f0/expr.png\" style=\"display:inline;vertical-align:middle;\" /></a></dd>"
      ],
      "text/plain": [
       "<IPython.core.display.HTML object>"
      ]
     },
     "metadata": {},
     "output_type": "display_data"
    },
    {
     "data": {
      "text/html": [
       "<dt><a class=\"ProveItLink\" href=\"../../../../../../numbers/addition/_theory_nbs_/proofs/strong_bound_via_right_term_bound/thm_proof.ipynb\">proveit.numbers.addition.strong_bound_via_right_term_bound</a></dt><dd><a class=\"ProveItLink\" href=\"../../../../../../numbers/addition/__pv_it/theorems/0900a04983c40a833485baafaa8c7e8f6f9e89660/expr.ipynb\"><img src=\"../../../../../../numbers/addition/__pv_it/theorems/0900a04983c40a833485baafaa8c7e8f6f9e89660/expr.png\" style=\"display:inline;vertical-align:middle;\" /></a></dd>"
      ],
      "text/plain": [
       "<IPython.core.display.HTML object>"
      ]
     },
     "metadata": {},
     "output_type": "display_data"
    },
    {
     "data": {
      "text/html": [
       "<dt><a class=\"ProveItLink\" href=\"../../../../../../numbers/addition/subtraction/_theory_nbs_/proofs/add_cancel_basic/thm_proof.ipynb\">proveit.numbers.addition.subtraction.add_cancel_basic</a></dt><dd><a class=\"ProveItLink\" href=\"../../../../../../numbers/addition/subtraction/__pv_it/theorems/f60319029817bb17ea3c8ee92525e3faaa4438d00/expr.ipynb\"><img src=\"../../../../../../numbers/addition/subtraction/__pv_it/theorems/f60319029817bb17ea3c8ee92525e3faaa4438d00/expr.png\" style=\"display:inline;vertical-align:middle;\" /></a></dd>"
      ],
      "text/plain": [
       "<IPython.core.display.HTML object>"
      ]
     },
     "metadata": {},
     "output_type": "display_data"
    },
    {
     "data": {
      "text/html": [
       "<dt><a class=\"ProveItLink\" href=\"../../../../../../numbers/addition/subtraction/_theory_nbs_/proofs/add_cancel_general/thm_proof.ipynb\">proveit.numbers.addition.subtraction.add_cancel_general</a></dt><dd><a class=\"ProveItLink\" href=\"../../../../../../numbers/addition/subtraction/__pv_it/theorems/fffb326e3ddaed8504adf87551d44ceb731818300/expr.ipynb\"><img src=\"../../../../../../numbers/addition/subtraction/__pv_it/theorems/fffb326e3ddaed8504adf87551d44ceb731818300/expr.png\" style=\"display:inline;vertical-align:middle;\" /></a></dd>"
      ],
      "text/plain": [
       "<IPython.core.display.HTML object>"
      ]
     },
     "metadata": {},
     "output_type": "display_data"
    },
    {
     "data": {
      "text/html": [
       "<dt><a class=\"ProveItLink\" href=\"../../../../../../numbers/addition/subtraction/_theory_nbs_/proofs/add_cancel_general_rev/thm_proof.ipynb\">proveit.numbers.addition.subtraction.add_cancel_general_rev</a></dt><dd><a class=\"ProveItLink\" href=\"../../../../../../numbers/addition/subtraction/__pv_it/theorems/3da8565b960a20fe59d6d12ed7730c72c9525a030/expr.ipynb\"><img src=\"../../../../../../numbers/addition/subtraction/__pv_it/theorems/3da8565b960a20fe59d6d12ed7730c72c9525a030/expr.png\" style=\"display:inline;vertical-align:middle;\" /></a></dd>"
      ],
      "text/plain": [
       "<IPython.core.display.HTML object>"
      ]
     },
     "metadata": {},
     "output_type": "display_data"
    },
    {
     "data": {
      "text/html": [
       "<dt><a class=\"ProveItLink\" href=\"../../../../../../numbers/addition/subtraction/_theory_nbs_/proofs/add_cancel_reverse/thm_proof.ipynb\">proveit.numbers.addition.subtraction.add_cancel_reverse</a></dt><dd><a class=\"ProveItLink\" href=\"../../../../../../numbers/addition/subtraction/__pv_it/theorems/2fc2736fa0daeb499534d5a87befd8e5b31ffaad0/expr.ipynb\"><img src=\"../../../../../../numbers/addition/subtraction/__pv_it/theorems/2fc2736fa0daeb499534d5a87befd8e5b31ffaad0/expr.png\" style=\"display:inline;vertical-align:middle;\" /></a></dd>"
      ],
      "text/plain": [
       "<IPython.core.display.HTML object>"
      ]
     },
     "metadata": {},
     "output_type": "display_data"
    },
    {
     "data": {
      "text/html": [
       "<dt><a class=\"ProveItLink\" href=\"../../../../../../numbers/addition/subtraction/_theory_nbs_/proofs/add_cancel_triple_12/thm_proof.ipynb\">proveit.numbers.addition.subtraction.add_cancel_triple_12</a></dt><dd><a class=\"ProveItLink\" href=\"../../../../../../numbers/addition/subtraction/__pv_it/theorems/b828bbd3a60667822b2732182befe69254d0a15f0/expr.ipynb\"><img src=\"../../../../../../numbers/addition/subtraction/__pv_it/theorems/b828bbd3a60667822b2732182befe69254d0a15f0/expr.png\" style=\"display:inline;vertical-align:middle;\" /></a></dd>"
      ],
      "text/plain": [
       "<IPython.core.display.HTML object>"
      ]
     },
     "metadata": {},
     "output_type": "display_data"
    },
    {
     "data": {
      "text/html": [
       "<dt><a class=\"ProveItLink\" href=\"../../../../../../numbers/addition/subtraction/_theory_nbs_/proofs/add_cancel_triple_13/thm_proof.ipynb\">proveit.numbers.addition.subtraction.add_cancel_triple_13</a></dt><dd><a class=\"ProveItLink\" href=\"../../../../../../numbers/addition/subtraction/__pv_it/theorems/1058431cfab30cd32a771d7d44b66013db90a5900/expr.ipynb\"><img src=\"../../../../../../numbers/addition/subtraction/__pv_it/theorems/1058431cfab30cd32a771d7d44b66013db90a5900/expr.png\" style=\"display:inline;vertical-align:middle;\" /></a></dd>"
      ],
      "text/plain": [
       "<IPython.core.display.HTML object>"
      ]
     },
     "metadata": {},
     "output_type": "display_data"
    },
    {
     "data": {
      "text/html": [
       "<dt><a class=\"ProveItLink\" href=\"../../../../../../numbers/addition/subtraction/_theory_nbs_/proofs/add_cancel_triple_21/thm_proof.ipynb\">proveit.numbers.addition.subtraction.add_cancel_triple_21</a></dt><dd><a class=\"ProveItLink\" href=\"../../../../../../numbers/addition/subtraction/__pv_it/theorems/130ac6cf75cbe37bf0bb9bee3f567c29eb1d042f0/expr.ipynb\"><img src=\"../../../../../../numbers/addition/subtraction/__pv_it/theorems/130ac6cf75cbe37bf0bb9bee3f567c29eb1d042f0/expr.png\" style=\"display:inline;vertical-align:middle;\" /></a></dd>"
      ],
      "text/plain": [
       "<IPython.core.display.HTML object>"
      ]
     },
     "metadata": {},
     "output_type": "display_data"
    },
    {
     "data": {
      "text/html": [
       "<dt><a class=\"ProveItLink\" href=\"../../../../../../numbers/addition/subtraction/_theory_nbs_/proofs/add_cancel_triple_23/thm_proof.ipynb\">proveit.numbers.addition.subtraction.add_cancel_triple_23</a></dt><dd><a class=\"ProveItLink\" href=\"../../../../../../numbers/addition/subtraction/__pv_it/theorems/5f5bddfb6cb684123565d64a269d2e76fef0945a0/expr.ipynb\"><img src=\"../../../../../../numbers/addition/subtraction/__pv_it/theorems/5f5bddfb6cb684123565d64a269d2e76fef0945a0/expr.png\" style=\"display:inline;vertical-align:middle;\" /></a></dd>"
      ],
      "text/plain": [
       "<IPython.core.display.HTML object>"
      ]
     },
     "metadata": {},
     "output_type": "display_data"
    },
    {
     "data": {
      "text/html": [
       "<dt><a class=\"ProveItLink\" href=\"../../../../../../numbers/addition/subtraction/_theory_nbs_/proofs/add_cancel_triple_31/thm_proof.ipynb\">proveit.numbers.addition.subtraction.add_cancel_triple_31</a></dt><dd><a class=\"ProveItLink\" href=\"../../../../../../numbers/addition/subtraction/__pv_it/theorems/dbcd716013a329086b5b9ded114175fe017fc8380/expr.ipynb\"><img src=\"../../../../../../numbers/addition/subtraction/__pv_it/theorems/dbcd716013a329086b5b9ded114175fe017fc8380/expr.png\" style=\"display:inline;vertical-align:middle;\" /></a></dd>"
      ],
      "text/plain": [
       "<IPython.core.display.HTML object>"
      ]
     },
     "metadata": {},
     "output_type": "display_data"
    },
    {
     "data": {
      "text/html": [
       "<dt><a class=\"ProveItLink\" href=\"../../../../../../numbers/addition/subtraction/_theory_nbs_/proofs/add_cancel_triple_32/thm_proof.ipynb\">proveit.numbers.addition.subtraction.add_cancel_triple_32</a></dt><dd><a class=\"ProveItLink\" href=\"../../../../../../numbers/addition/subtraction/__pv_it/theorems/472ee563168ee5edcce15d2fa250588e5630af3a0/expr.ipynb\"><img src=\"../../../../../../numbers/addition/subtraction/__pv_it/theorems/472ee563168ee5edcce15d2fa250588e5630af3a0/expr.png\" style=\"display:inline;vertical-align:middle;\" /></a></dd>"
      ],
      "text/plain": [
       "<IPython.core.display.HTML object>"
      ]
     },
     "metadata": {},
     "output_type": "display_data"
    },
    {
     "data": {
      "text/html": [
       "<dt><a class=\"ProveItLink\" href=\"../../../../../../numbers/addition/subtraction/_theory_nbs_/proofs/neg_difference/thm_proof.ipynb\">proveit.numbers.addition.subtraction.neg_difference</a></dt><dd><a class=\"ProveItLink\" href=\"../../../../../../numbers/addition/subtraction/__pv_it/theorems/7dd8a3d603e97667d7713206f3c59ff82551b7980/expr.ipynb\"><img src=\"../../../../../../numbers/addition/subtraction/__pv_it/theorems/7dd8a3d603e97667d7713206f3c59ff82551b7980/expr.png\" style=\"display:inline;vertical-align:middle;\" /></a></dd>"
      ],
      "text/plain": [
       "<IPython.core.display.HTML object>"
      ]
     },
     "metadata": {},
     "output_type": "display_data"
    },
    {
     "data": {
      "text/html": [
       "<dt><a class=\"ProveItLink\" href=\"../../../../../../numbers/addition/subtraction/_theory_nbs_/proofs/negated_add/thm_proof.ipynb\">proveit.numbers.addition.subtraction.negated_add</a></dt><dd><a class=\"ProveItLink\" href=\"../../../../../../numbers/addition/subtraction/__pv_it/theorems/7c5f5dd8b40e9ae03cd8d8cd56eb0cf79f0dba2e0/expr.ipynb\"><img src=\"../../../../../../numbers/addition/subtraction/__pv_it/theorems/7c5f5dd8b40e9ae03cd8d8cd56eb0cf79f0dba2e0/expr.png\" style=\"display:inline;vertical-align:middle;\" /></a></dd>"
      ],
      "text/plain": [
       "<IPython.core.display.HTML object>"
      ]
     },
     "metadata": {},
     "output_type": "display_data"
    },
    {
     "data": {
      "text/html": [
       "<dt><a class=\"ProveItLink\" href=\"../../../../../../numbers/addition/subtraction/_theory_nbs_/proofs/nonneg_difference/thm_proof.ipynb\">proveit.numbers.addition.subtraction.nonneg_difference</a></dt><dd><a class=\"ProveItLink\" href=\"../../../../../../numbers/addition/subtraction/__pv_it/theorems/e407a03f6d7daa8554d9f3327dae28760dc62e630/expr.ipynb\"><img src=\"../../../../../../numbers/addition/subtraction/__pv_it/theorems/e407a03f6d7daa8554d9f3327dae28760dc62e630/expr.png\" style=\"display:inline;vertical-align:middle;\" /></a></dd>"
      ],
      "text/plain": [
       "<IPython.core.display.HTML object>"
      ]
     },
     "metadata": {},
     "output_type": "display_data"
    },
    {
     "data": {
      "text/html": [
       "<dt><a class=\"ProveItLink\" href=\"../../../../../../numbers/addition/subtraction/_theory_nbs_/proofs/nonzero_difference_if_different/thm_proof.ipynb\">proveit.numbers.addition.subtraction.nonzero_difference_if_different</a></dt><dd><a class=\"ProveItLink\" href=\"../../../../../../numbers/addition/subtraction/__pv_it/theorems/d91a595d24b679dc3b9579b507540553ad7f19bd0/expr.ipynb\"><img src=\"../../../../../../numbers/addition/subtraction/__pv_it/theorems/d91a595d24b679dc3b9579b507540553ad7f19bd0/expr.png\" style=\"display:inline;vertical-align:middle;\" /></a></dd>"
      ],
      "text/plain": [
       "<IPython.core.display.HTML object>"
      ]
     },
     "metadata": {},
     "output_type": "display_data"
    },
    {
     "data": {
      "text/html": [
       "<dt><a class=\"ProveItLink\" href=\"../../../../../../numbers/addition/subtraction/_theory_nbs_/proofs/pos_difference/thm_proof.ipynb\">proveit.numbers.addition.subtraction.pos_difference</a></dt><dd><a class=\"ProveItLink\" href=\"../../../../../../numbers/addition/subtraction/__pv_it/theorems/37535272f463f19c95750d03b784a771929770f80/expr.ipynb\"><img src=\"../../../../../../numbers/addition/subtraction/__pv_it/theorems/37535272f463f19c95750d03b784a771929770f80/expr.png\" style=\"display:inline;vertical-align:middle;\" /></a></dd>"
      ],
      "text/plain": [
       "<IPython.core.display.HTML object>"
      ]
     },
     "metadata": {},
     "output_type": "display_data"
    },
    {
     "data": {
      "text/html": [
       "<dt><a class=\"ProveItLink\" href=\"../../../../../../numbers/addition/subtraction/_theory_nbs_/proofs/subtract_from_add/thm_proof.ipynb\">proveit.numbers.addition.subtraction.subtract_from_add</a></dt><dd><a class=\"ProveItLink\" href=\"../../../../../../numbers/addition/subtraction/__pv_it/theorems/d67d37b2c3e223df2f734da33f82d5efbc38107e0/expr.ipynb\"><img src=\"../../../../../../numbers/addition/subtraction/__pv_it/theorems/d67d37b2c3e223df2f734da33f82d5efbc38107e0/expr.png\" style=\"display:inline;vertical-align:middle;\" /></a></dd>"
      ],
      "text/plain": [
       "<IPython.core.display.HTML object>"
      ]
     },
     "metadata": {},
     "output_type": "display_data"
    },
    {
     "data": {
      "text/html": [
       "<dt><a class=\"ProveItLink\" href=\"../../../../../../numbers/addition/subtraction/_theory_nbs_/proofs/subtract_from_add_reversed/thm_proof.ipynb\">proveit.numbers.addition.subtraction.subtract_from_add_reversed</a></dt><dd><a class=\"ProveItLink\" href=\"../../../../../../numbers/addition/subtraction/__pv_it/theorems/57adf60a84b5d8dc8ea598e58dc0c707fbcff5aa0/expr.ipynb\"><img src=\"../../../../../../numbers/addition/subtraction/__pv_it/theorems/57adf60a84b5d8dc8ea598e58dc0c707fbcff5aa0/expr.png\" style=\"display:inline;vertical-align:middle;\" /></a></dd>"
      ],
      "text/plain": [
       "<IPython.core.display.HTML object>"
      ]
     },
     "metadata": {},
     "output_type": "display_data"
    },
    {
     "data": {
      "text/html": [
       "<dt><a class=\"ProveItLink\" href=\"../../../../../../numbers/addition/_theory_nbs_/proofs/term_as_strong_upper_bound/thm_proof.ipynb\">proveit.numbers.addition.term_as_strong_upper_bound</a></dt><dd><a class=\"ProveItLink\" href=\"../../../../../../numbers/addition/__pv_it/theorems/62f1c9d4229db65314c776330cd2e7f9aaf944540/expr.ipynb\"><img src=\"../../../../../../numbers/addition/__pv_it/theorems/62f1c9d4229db65314c776330cd2e7f9aaf944540/expr.png\" style=\"display:inline;vertical-align:middle;\" /></a></dd>"
      ],
      "text/plain": [
       "<IPython.core.display.HTML object>"
      ]
     },
     "metadata": {},
     "output_type": "display_data"
    },
    {
     "data": {
      "text/html": [
       "<dt><a class=\"ProveItLink\" href=\"../../../../../../numbers/addition/_theory_nbs_/proofs/weak_bound_via_left_term_bound/thm_proof.ipynb\">proveit.numbers.addition.weak_bound_via_left_term_bound</a></dt><dd><a class=\"ProveItLink\" href=\"../../../../../../numbers/addition/__pv_it/theorems/f0177d627769a4a40fd8d9d2f5bb658a7907a3ca0/expr.ipynb\"><img src=\"../../../../../../numbers/addition/__pv_it/theorems/f0177d627769a4a40fd8d9d2f5bb658a7907a3ca0/expr.png\" style=\"display:inline;vertical-align:middle;\" /></a></dd>"
      ],
      "text/plain": [
       "<IPython.core.display.HTML object>"
      ]
     },
     "metadata": {},
     "output_type": "display_data"
    },
    {
     "data": {
      "text/html": [
       "<dt><a class=\"ProveItLink\" href=\"../../../../../../numbers/addition/_theory_nbs_/proofs/weak_bound_via_right_term_bound/thm_proof.ipynb\">proveit.numbers.addition.weak_bound_via_right_term_bound</a></dt><dd><a class=\"ProveItLink\" href=\"../../../../../../numbers/addition/__pv_it/theorems/fe33c36912103fd5b37c7bc6790ced94e624436e0/expr.ipynb\"><img src=\"../../../../../../numbers/addition/__pv_it/theorems/fe33c36912103fd5b37c7bc6790ced94e624436e0/expr.png\" style=\"display:inline;vertical-align:middle;\" /></a></dd>"
      ],
      "text/plain": [
       "<IPython.core.display.HTML object>"
      ]
     },
     "metadata": {},
     "output_type": "display_data"
    },
    {
     "data": {
      "text/html": [
       "<dt><a class=\"ProveItLink\" href=\"../../../../../../numbers/division/_theory_nbs_/proofs/distribute_frac_through_subtract/thm_proof.ipynb\">proveit.numbers.division.distribute_frac_through_subtract</a></dt><dd><a class=\"ProveItLink\" href=\"../../../../../../numbers/division/__pv_it/theorems/ac974d29a788c8154f209f3be076705b0ecbc5630/expr.ipynb\"><img src=\"../../../../../../numbers/division/__pv_it/theorems/ac974d29a788c8154f209f3be076705b0ecbc5630/expr.png\" style=\"display:inline;vertical-align:middle;\" /></a></dd>"
      ],
      "text/plain": [
       "<IPython.core.display.HTML object>"
      ]
     },
     "metadata": {},
     "output_type": "display_data"
    },
    {
     "data": {
      "text/html": [
       "<dt><a class=\"ProveItLink\" href=\"../../../../../../numbers/division/_theory_nbs_/proofs/distribute_frac_through_sum/thm_proof.ipynb\">proveit.numbers.division.distribute_frac_through_sum</a></dt><dd><a class=\"ProveItLink\" href=\"../../../../../../numbers/division/__pv_it/theorems/61396e76a9ca9fb57978c7dee906814db2ab79a90/expr.ipynb\"><img src=\"../../../../../../numbers/division/__pv_it/theorems/61396e76a9ca9fb57978c7dee906814db2ab79a90/expr.png\" style=\"display:inline;vertical-align:middle;\" /></a></dd>"
      ],
      "text/plain": [
       "<IPython.core.display.HTML object>"
      ]
     },
     "metadata": {},
     "output_type": "display_data"
    },
    {
     "data": {
      "text/html": [
       "<dt><a class=\"ProveItLink\" href=\"../../../../../../numbers/division/_theory_nbs_/proofs/div_as_mult/thm_proof.ipynb\">proveit.numbers.division.div_as_mult</a></dt><dd><a class=\"ProveItLink\" href=\"../../../../../../numbers/division/__pv_it/theorems/abefb2e9cae66b7b5660367da428da42f3bca1990/expr.ipynb\"><img src=\"../../../../../../numbers/division/__pv_it/theorems/abefb2e9cae66b7b5660367da428da42f3bca1990/expr.png\" style=\"display:inline;vertical-align:middle;\" /></a></dd>"
      ],
      "text/plain": [
       "<IPython.core.display.HTML object>"
      ]
     },
     "metadata": {},
     "output_type": "display_data"
    },
    {
     "data": {
      "text/html": [
       "<dt><a class=\"ProveItLink\" href=\"../../../../../../numbers/division/_theory_nbs_/proofs/div_complex_closure/thm_proof.ipynb\">proveit.numbers.division.div_complex_closure</a></dt><dd><a class=\"ProveItLink\" href=\"../../../../../../numbers/division/__pv_it/theorems/0a001803abdc7edf90c0692227a968e53b84b0680/expr.ipynb\"><img src=\"../../../../../../numbers/division/__pv_it/theorems/0a001803abdc7edf90c0692227a968e53b84b0680/expr.png\" style=\"display:inline;vertical-align:middle;\" /></a></dd>"
      ],
      "text/plain": [
       "<IPython.core.display.HTML object>"
      ]
     },
     "metadata": {},
     "output_type": "display_data"
    },
    {
     "data": {
      "text/html": [
       "<dt><a class=\"ProveItLink\" href=\"../../../../../../numbers/division/_theory_nbs_/proofs/div_neq_real/thm_proof.ipynb\">proveit.numbers.division.div_neq_real</a></dt><dd><a class=\"ProveItLink\" href=\"../../../../../../numbers/division/__pv_it/theorems/0fed3ce84a40178bc5dd9042cb46ab7424df86900/expr.ipynb\"><img src=\"../../../../../../numbers/division/__pv_it/theorems/0fed3ce84a40178bc5dd9042cb46ab7424df86900/expr.png\" style=\"display:inline;vertical-align:middle;\" /></a></dd>"
      ],
      "text/plain": [
       "<IPython.core.display.HTML object>"
      ]
     },
     "metadata": {},
     "output_type": "display_data"
    },
    {
     "data": {
      "text/html": [
       "<dt><a class=\"ProveItLink\" href=\"../../../../../../numbers/division/_theory_nbs_/proofs/div_rational_closure/thm_proof.ipynb\">proveit.numbers.division.div_rational_closure</a></dt><dd><a class=\"ProveItLink\" href=\"../../../../../../numbers/division/__pv_it/theorems/a6006a51b2c391bdf33859c4600473657031ec6c0/expr.ipynb\"><img src=\"../../../../../../numbers/division/__pv_it/theorems/a6006a51b2c391bdf33859c4600473657031ec6c0/expr.png\" style=\"display:inline;vertical-align:middle;\" /></a></dd>"
      ],
      "text/plain": [
       "<IPython.core.display.HTML object>"
      ]
     },
     "metadata": {},
     "output_type": "display_data"
    },
    {
     "data": {
      "text/html": [
       "<dt><a class=\"ProveItLink\" href=\"../../../../../../numbers/division/_theory_nbs_/proofs/div_rational_nonzero_closure/thm_proof.ipynb\">proveit.numbers.division.div_rational_nonzero_closure</a></dt><dd><a class=\"ProveItLink\" href=\"../../../../../../numbers/division/__pv_it/theorems/8fb7a6f8a63b9a388dfcab155c5ddcc368f583540/expr.ipynb\"><img src=\"../../../../../../numbers/division/__pv_it/theorems/8fb7a6f8a63b9a388dfcab155c5ddcc368f583540/expr.png\" style=\"display:inline;vertical-align:middle;\" /></a></dd>"
      ],
      "text/plain": [
       "<IPython.core.display.HTML object>"
      ]
     },
     "metadata": {},
     "output_type": "display_data"
    },
    {
     "data": {
      "text/html": [
       "<dt><a class=\"ProveItLink\" href=\"../../../../../../numbers/division/_theory_nbs_/proofs/div_rational_pos_closure/thm_proof.ipynb\">proveit.numbers.division.div_rational_pos_closure</a></dt><dd><a class=\"ProveItLink\" href=\"../../../../../../numbers/division/__pv_it/theorems/3873e9a828d8fd60cf3cb2f045e4a73ff102eee60/expr.ipynb\"><img src=\"../../../../../../numbers/division/__pv_it/theorems/3873e9a828d8fd60cf3cb2f045e4a73ff102eee60/expr.png\" style=\"display:inline;vertical-align:middle;\" /></a></dd>"
      ],
      "text/plain": [
       "<IPython.core.display.HTML object>"
      ]
     },
     "metadata": {},
     "output_type": "display_data"
    },
    {
     "data": {
      "text/html": [
       "<dt><a class=\"ProveItLink\" href=\"../../../../../../numbers/division/_theory_nbs_/proofs/div_real_closure/thm_proof.ipynb\">proveit.numbers.division.div_real_closure</a></dt><dd><a class=\"ProveItLink\" href=\"../../../../../../numbers/division/__pv_it/theorems/c427bc0d4958ad51bb8674ffef2fe75dcd5121960/expr.ipynb\"><img src=\"../../../../../../numbers/division/__pv_it/theorems/c427bc0d4958ad51bb8674ffef2fe75dcd5121960/expr.png\" style=\"display:inline;vertical-align:middle;\" /></a></dd>"
      ],
      "text/plain": [
       "<IPython.core.display.HTML object>"
      ]
     },
     "metadata": {},
     "output_type": "display_data"
    },
    {
     "data": {
      "text/html": [
       "<dt><a class=\"ProveItLink\" href=\"../../../../../../numbers/division/_theory_nbs_/proofs/div_real_pos_closure/thm_proof.ipynb\">proveit.numbers.division.div_real_pos_closure</a></dt><dd><a class=\"ProveItLink\" href=\"../../../../../../numbers/division/__pv_it/theorems/f4144635836b33c7ce15fa0e6bee5deb8ffcb5440/expr.ipynb\"><img src=\"../../../../../../numbers/division/__pv_it/theorems/f4144635836b33c7ce15fa0e6bee5deb8ffcb5440/expr.png\" style=\"display:inline;vertical-align:middle;\" /></a></dd>"
      ],
      "text/plain": [
       "<IPython.core.display.HTML object>"
      ]
     },
     "metadata": {},
     "output_type": "display_data"
    },
    {
     "data": {
      "text/html": [
       "<dt><a class=\"ProveItLink\" href=\"../../../../../../numbers/division/_theory_nbs_/proofs/frac_cancel_complete/thm_proof.ipynb\">proveit.numbers.division.frac_cancel_complete</a></dt><dd><a class=\"ProveItLink\" href=\"../../../../../../numbers/division/__pv_it/theorems/f41c3c3f684e39b51123e3450ed7effdf2423e1d0/expr.ipynb\"><img src=\"../../../../../../numbers/division/__pv_it/theorems/f41c3c3f684e39b51123e3450ed7effdf2423e1d0/expr.png\" style=\"display:inline;vertical-align:middle;\" /></a></dd>"
      ],
      "text/plain": [
       "<IPython.core.display.HTML object>"
      ]
     },
     "metadata": {},
     "output_type": "display_data"
    },
    {
     "data": {
      "text/html": [
       "<dt><a class=\"ProveItLink\" href=\"../../../../../../numbers/division/_theory_nbs_/proofs/frac_cancel_left/thm_proof.ipynb\">proveit.numbers.division.frac_cancel_left</a></dt><dd><a class=\"ProveItLink\" href=\"../../../../../../numbers/division/__pv_it/theorems/abe087c1f6db10e358eccd628b01da34e490c1220/expr.ipynb\"><img src=\"../../../../../../numbers/division/__pv_it/theorems/abe087c1f6db10e358eccd628b01da34e490c1220/expr.png\" style=\"display:inline;vertical-align:middle;\" /></a></dd>"
      ],
      "text/plain": [
       "<IPython.core.display.HTML object>"
      ]
     },
     "metadata": {},
     "output_type": "display_data"
    },
    {
     "data": {
      "text/html": [
       "<dt><a class=\"ProveItLink\" href=\"../../../../../../numbers/division/_theory_nbs_/proofs/frac_one_denom/thm_proof.ipynb\">proveit.numbers.division.frac_one_denom</a></dt><dd><a class=\"ProveItLink\" href=\"../../../../../../numbers/division/__pv_it/theorems/fa046ea1cf1f5f530c92039971f3aecc11c525b30/expr.ipynb\"><img src=\"../../../../../../numbers/division/__pv_it/theorems/fa046ea1cf1f5f530c92039971f3aecc11c525b30/expr.png\" style=\"display:inline;vertical-align:middle;\" /></a></dd>"
      ],
      "text/plain": [
       "<IPython.core.display.HTML object>"
      ]
     },
     "metadata": {},
     "output_type": "display_data"
    },
    {
     "data": {
      "text/html": [
       "<dt><a class=\"ProveItLink\" href=\"../../../../../../numbers/division/_theory_nbs_/proofs/mult_frac_cancel_denom_left/thm_proof.ipynb\">proveit.numbers.division.mult_frac_cancel_denom_left</a></dt><dd><a class=\"ProveItLink\" href=\"../../../../../../numbers/division/__pv_it/theorems/376ef381a19fb5442b8ec26eb7ac8c8d5c7d299e0/expr.ipynb\"><img src=\"../../../../../../numbers/division/__pv_it/theorems/376ef381a19fb5442b8ec26eb7ac8c8d5c7d299e0/expr.png\" style=\"display:inline;vertical-align:middle;\" /></a></dd>"
      ],
      "text/plain": [
       "<IPython.core.display.HTML object>"
      ]
     },
     "metadata": {},
     "output_type": "display_data"
    },
    {
     "data": {
      "text/html": [
       "<dt><a class=\"ProveItLink\" href=\"../../../../../../numbers/division/_theory_nbs_/proofs/mult_frac_cancel_numer_left/thm_proof.ipynb\">proveit.numbers.division.mult_frac_cancel_numer_left</a></dt><dd><a class=\"ProveItLink\" href=\"../../../../../../numbers/division/__pv_it/theorems/40e8c013eef8715776fbb4db26403c6e86ee47170/expr.ipynb\"><img src=\"../../../../../../numbers/division/__pv_it/theorems/40e8c013eef8715776fbb4db26403c6e86ee47170/expr.png\" style=\"display:inline;vertical-align:middle;\" /></a></dd>"
      ],
      "text/plain": [
       "<IPython.core.display.HTML object>"
      ]
     },
     "metadata": {},
     "output_type": "display_data"
    },
    {
     "data": {
      "text/html": [
       "<dt><a class=\"ProveItLink\" href=\"../../../../../../numbers/division/_theory_nbs_/proofs/mult_frac_left/thm_proof.ipynb\">proveit.numbers.division.mult_frac_left</a></dt><dd><a class=\"ProveItLink\" href=\"../../../../../../numbers/division/__pv_it/theorems/d13d4983e56e474ba44d0fe469ade39eddc1fee60/expr.ipynb\"><img src=\"../../../../../../numbers/division/__pv_it/theorems/d13d4983e56e474ba44d0fe469ade39eddc1fee60/expr.png\" style=\"display:inline;vertical-align:middle;\" /></a></dd>"
      ],
      "text/plain": [
       "<IPython.core.display.HTML object>"
      ]
     },
     "metadata": {},
     "output_type": "display_data"
    },
    {
     "data": {
      "text/html": [
       "<dt><a class=\"ProveItLink\" href=\"../../../../../../numbers/division/_theory_nbs_/proofs/neg_frac_neg_numerator/thm_proof.ipynb\">proveit.numbers.division.neg_frac_neg_numerator</a></dt><dd><a class=\"ProveItLink\" href=\"../../../../../../numbers/division/__pv_it/theorems/47c291dbcf0549ef466d8dea5b01c96650b2546b0/expr.ipynb\"><img src=\"../../../../../../numbers/division/__pv_it/theorems/47c291dbcf0549ef466d8dea5b01c96650b2546b0/expr.png\" style=\"display:inline;vertical-align:middle;\" /></a></dd>"
      ],
      "text/plain": [
       "<IPython.core.display.HTML object>"
      ]
     },
     "metadata": {},
     "output_type": "display_data"
    },
    {
     "data": {
      "text/html": [
       "<dt><a class=\"ProveItLink\" href=\"../../../../../../numbers/division/_theory_nbs_/proofs/prod_of_fracs/thm_proof.ipynb\">proveit.numbers.division.prod_of_fracs</a></dt><dd><a class=\"ProveItLink\" href=\"../../../../../../numbers/division/__pv_it/theorems/ddd757e1f650db7c8c8492b2f044bc90ab7a949a0/expr.ipynb\"><img src=\"../../../../../../numbers/division/__pv_it/theorems/ddd757e1f650db7c8c8492b2f044bc90ab7a949a0/expr.png\" style=\"display:inline;vertical-align:middle;\" /></a></dd>"
      ],
      "text/plain": [
       "<IPython.core.display.HTML object>"
      ]
     },
     "metadata": {},
     "output_type": "display_data"
    },
    {
     "data": {
      "text/html": [
       "<dt><a class=\"ProveItLink\" href=\"../../../../../../numbers/division/_theory_nbs_/proofs/strong_div_from_denom_bound__all_pos/thm_proof.ipynb\">proveit.numbers.division.strong_div_from_denom_bound__all_pos</a></dt><dd><a class=\"ProveItLink\" href=\"../../../../../../numbers/division/__pv_it/theorems/2985f6b9618dbd4ac1644eeee6fafc5e988f5cfa0/expr.ipynb\"><img src=\"../../../../../../numbers/division/__pv_it/theorems/2985f6b9618dbd4ac1644eeee6fafc5e988f5cfa0/expr.png\" style=\"display:inline;vertical-align:middle;\" /></a></dd>"
      ],
      "text/plain": [
       "<IPython.core.display.HTML object>"
      ]
     },
     "metadata": {},
     "output_type": "display_data"
    },
    {
     "data": {
      "text/html": [
       "<dt><a class=\"ProveItLink\" href=\"../../../../../../numbers/division/_theory_nbs_/proofs/strong_div_from_numer_bound__pos_denom/thm_proof.ipynb\">proveit.numbers.division.strong_div_from_numer_bound__pos_denom</a></dt><dd><a class=\"ProveItLink\" href=\"../../../../../../numbers/division/__pv_it/theorems/420b17a41369b7fea765113b2dc032d115b060a80/expr.ipynb\"><img src=\"../../../../../../numbers/division/__pv_it/theorems/420b17a41369b7fea765113b2dc032d115b060a80/expr.png\" style=\"display:inline;vertical-align:middle;\" /></a></dd>"
      ],
      "text/plain": [
       "<IPython.core.display.HTML object>"
      ]
     },
     "metadata": {},
     "output_type": "display_data"
    },
    {
     "data": {
      "text/html": [
       "<dt><a class=\"ProveItLink\" href=\"../../../../../../numbers/division/_theory_nbs_/proofs/weak_div_from_denom_bound__all_pos/thm_proof.ipynb\">proveit.numbers.division.weak_div_from_denom_bound__all_pos</a></dt><dd><a class=\"ProveItLink\" href=\"../../../../../../numbers/division/__pv_it/theorems/31fa40c4a9667652e6853853dd25ac54eb9893fa0/expr.ipynb\"><img src=\"../../../../../../numbers/division/__pv_it/theorems/31fa40c4a9667652e6853853dd25ac54eb9893fa0/expr.png\" style=\"display:inline;vertical-align:middle;\" /></a></dd>"
      ],
      "text/plain": [
       "<IPython.core.display.HTML object>"
      ]
     },
     "metadata": {},
     "output_type": "display_data"
    },
    {
     "data": {
      "text/html": [
       "<dt><a class=\"ProveItLink\" href=\"../../../../../../numbers/division/_theory_nbs_/proofs/weak_div_from_numer_bound__pos_denom/thm_proof.ipynb\">proveit.numbers.division.weak_div_from_numer_bound__pos_denom</a></dt><dd><a class=\"ProveItLink\" href=\"../../../../../../numbers/division/__pv_it/theorems/cafed8b01992e73966a12c559cfeabcd58d0d34c0/expr.ipynb\"><img src=\"../../../../../../numbers/division/__pv_it/theorems/cafed8b01992e73966a12c559cfeabcd58d0d34c0/expr.png\" style=\"display:inline;vertical-align:middle;\" /></a></dd>"
      ],
      "text/plain": [
       "<IPython.core.display.HTML object>"
      ]
     },
     "metadata": {},
     "output_type": "display_data"
    },
    {
     "data": {
      "text/html": [
       "<dt><a class=\"ProveItLink\" href=\"../../../../../../numbers/exponentiation/_theory_nbs_/proofs/complex_power_of_complex_power/thm_proof.ipynb\">proveit.numbers.exponentiation.complex_power_of_complex_power</a></dt><dd><a class=\"ProveItLink\" href=\"../../../../../../numbers/exponentiation/__pv_it/theorems/6f0a1d4ede9b8f7b46635d1463876f19fbcbb66f0/expr.ipynb\"><img src=\"../../../../../../numbers/exponentiation/__pv_it/theorems/6f0a1d4ede9b8f7b46635d1463876f19fbcbb66f0/expr.png\" style=\"display:inline;vertical-align:middle;\" /></a></dd>"
      ],
      "text/plain": [
       "<IPython.core.display.HTML object>"
      ]
     },
     "metadata": {},
     "output_type": "display_data"
    },
    {
     "data": {
      "text/html": [
       "<dt><a class=\"ProveItLink\" href=\"../../../../../../numbers/exponentiation/_theory_nbs_/proofs/complex_x_to_first_power_is_x/thm_proof.ipynb\">proveit.numbers.exponentiation.complex_x_to_first_power_is_x</a></dt><dd><a class=\"ProveItLink\" href=\"../../../../../../numbers/exponentiation/__pv_it/theorems/0745069ee9c9256bc3bd81a115a89dec186eecf40/expr.ipynb\"><img src=\"../../../../../../numbers/exponentiation/__pv_it/theorems/0745069ee9c9256bc3bd81a115a89dec186eecf40/expr.png\" style=\"display:inline;vertical-align:middle;\" /></a></dd>"
      ],
      "text/plain": [
       "<IPython.core.display.HTML object>"
      ]
     },
     "metadata": {},
     "output_type": "display_data"
    },
    {
     "data": {
      "text/html": [
       "<dt><a class=\"ProveItLink\" href=\"../../../../../../numbers/exponentiation/_theory_nbs_/proofs/even_pow_is_even_fn/thm_proof.ipynb\">proveit.numbers.exponentiation.even_pow_is_even_fn</a></dt><dd><a class=\"ProveItLink\" href=\"../../../../../../numbers/exponentiation/__pv_it/theorems/d35602df5ebe719148e93b4d62ccc27626f0b38f0/expr.ipynb\"><img src=\"../../../../../../numbers/exponentiation/__pv_it/theorems/d35602df5ebe719148e93b4d62ccc27626f0b38f0/expr.png\" style=\"display:inline;vertical-align:middle;\" /></a></dd>"
      ],
      "text/plain": [
       "<IPython.core.display.HTML object>"
      ]
     },
     "metadata": {},
     "output_type": "display_data"
    },
    {
     "data": {
      "text/html": [
       "<dt><a class=\"ProveItLink\" href=\"../../../../../../numbers/exponentiation/_theory_nbs_/proofs/even_pow_is_even_fn_rev/thm_proof.ipynb\">proveit.numbers.exponentiation.even_pow_is_even_fn_rev</a></dt><dd><a class=\"ProveItLink\" href=\"../../../../../../numbers/exponentiation/__pv_it/theorems/5814a86c60e2953b156301519c523a94cd1ae6520/expr.ipynb\"><img src=\"../../../../../../numbers/exponentiation/__pv_it/theorems/5814a86c60e2953b156301519c523a94cd1ae6520/expr.png\" style=\"display:inline;vertical-align:middle;\" /></a></dd>"
      ],
      "text/plain": [
       "<IPython.core.display.HTML object>"
      ]
     },
     "metadata": {},
     "output_type": "display_data"
    },
    {
     "data": {
      "text/html": [
       "<dt><a class=\"ProveItLink\" href=\"../../../../../../numbers/exponentiation/_theory_nbs_/proofs/exp_complex_closure/thm_proof.ipynb\">proveit.numbers.exponentiation.exp_complex_closure</a></dt><dd><a class=\"ProveItLink\" href=\"../../../../../../numbers/exponentiation/__pv_it/theorems/0d66d8cd09fbd10bfb7aa3243e32d3923ab2f7310/expr.ipynb\"><img src=\"../../../../../../numbers/exponentiation/__pv_it/theorems/0d66d8cd09fbd10bfb7aa3243e32d3923ab2f7310/expr.png\" style=\"display:inline;vertical-align:middle;\" /></a></dd>"
      ],
      "text/plain": [
       "<IPython.core.display.HTML object>"
      ]
     },
     "metadata": {},
     "output_type": "display_data"
    },
    {
     "data": {
      "text/html": [
       "<dt><a class=\"ProveItLink\" href=\"../../../../../../numbers/exponentiation/_theory_nbs_/proofs/exp_complex_nonzero_closure/thm_proof.ipynb\">proveit.numbers.exponentiation.exp_complex_nonzero_closure</a></dt><dd><a class=\"ProveItLink\" href=\"../../../../../../numbers/exponentiation/__pv_it/theorems/8daf0244df418a4f26737ea341ffadf65827b3ea0/expr.ipynb\"><img src=\"../../../../../../numbers/exponentiation/__pv_it/theorems/8daf0244df418a4f26737ea341ffadf65827b3ea0/expr.png\" style=\"display:inline;vertical-align:middle;\" /></a></dd>"
      ],
      "text/plain": [
       "<IPython.core.display.HTML object>"
      ]
     },
     "metadata": {},
     "output_type": "display_data"
    },
    {
     "data": {
      "text/html": [
       "<dt><a class=\"ProveItLink\" href=\"../../../../../../numbers/exponentiation/_theory_nbs_/proofs/exp_even_neg_base_lesseq/thm_proof.ipynb\">proveit.numbers.exponentiation.exp_even_neg_base_lesseq</a></dt><dd><a class=\"ProveItLink\" href=\"../../../../../../numbers/exponentiation/__pv_it/theorems/b52158f92464e9205729a13d577a53f92f8436590/expr.ipynb\"><img src=\"../../../../../../numbers/exponentiation/__pv_it/theorems/b52158f92464e9205729a13d577a53f92f8436590/expr.png\" style=\"display:inline;vertical-align:middle;\" /></a></dd>"
      ],
      "text/plain": [
       "<IPython.core.display.HTML object>"
      ]
     },
     "metadata": {},
     "output_type": "display_data"
    },
    {
     "data": {
      "text/html": [
       "<dt><a class=\"ProveItLink\" href=\"../../../../../../numbers/exponentiation/_theory_nbs_/proofs/exp_int_closure/thm_proof.ipynb\">proveit.numbers.exponentiation.exp_int_closure</a></dt><dd><a class=\"ProveItLink\" href=\"../../../../../../numbers/exponentiation/__pv_it/theorems/396682dd8de2485b9019e5a2c0c12dbb7cb4f7080/expr.ipynb\"><img src=\"../../../../../../numbers/exponentiation/__pv_it/theorems/396682dd8de2485b9019e5a2c0c12dbb7cb4f7080/expr.png\" style=\"display:inline;vertical-align:middle;\" /></a></dd>"
      ],
      "text/plain": [
       "<IPython.core.display.HTML object>"
      ]
     },
     "metadata": {},
     "output_type": "display_data"
    },
    {
     "data": {
      "text/html": [
       "<dt><a class=\"ProveItLink\" href=\"../../../../../../numbers/exponentiation/_theory_nbs_/proofs/exp_monotonicity_large_base_less_eq/thm_proof.ipynb\">proveit.numbers.exponentiation.exp_monotonicity_large_base_less_eq</a></dt><dd><a class=\"ProveItLink\" href=\"../../../../../../numbers/exponentiation/__pv_it/theorems/307da27098e6db97152d3012d4eb0161c179ddc50/expr.ipynb\"><img src=\"../../../../../../numbers/exponentiation/__pv_it/theorems/307da27098e6db97152d3012d4eb0161c179ddc50/expr.png\" style=\"display:inline;vertical-align:middle;\" /></a></dd>"
      ],
      "text/plain": [
       "<IPython.core.display.HTML object>"
      ]
     },
     "metadata": {},
     "output_type": "display_data"
    },
    {
     "data": {
      "text/html": [
       "<dt><a class=\"ProveItLink\" href=\"../../../../../../numbers/exponentiation/_theory_nbs_/proofs/exp_nat_pos_expansion/thm_proof.ipynb\">proveit.numbers.exponentiation.exp_nat_pos_expansion</a></dt><dd><a class=\"ProveItLink\" href=\"../../../../../../numbers/exponentiation/__pv_it/theorems/8f46a1458d2d60fdc0e0899ac95af0e1258dd1cb0/expr.ipynb\"><img src=\"../../../../../../numbers/exponentiation/__pv_it/theorems/8f46a1458d2d60fdc0e0899ac95af0e1258dd1cb0/expr.png\" style=\"display:inline;vertical-align:middle;\" /></a></dd>"
      ],
      "text/plain": [
       "<IPython.core.display.HTML object>"
      ]
     },
     "metadata": {},
     "output_type": "display_data"
    },
    {
     "data": {
      "text/html": [
       "<dt><a class=\"ProveItLink\" href=\"../../../../../../numbers/exponentiation/_theory_nbs_/proofs/exp_nat_pos_rev/thm_proof.ipynb\">proveit.numbers.exponentiation.exp_nat_pos_rev</a></dt><dd><a class=\"ProveItLink\" href=\"../../../../../../numbers/exponentiation/__pv_it/theorems/92950fd027bdd8ae98bc314d147fd412d63531310/expr.ipynb\"><img src=\"../../../../../../numbers/exponentiation/__pv_it/theorems/92950fd027bdd8ae98bc314d147fd412d63531310/expr.png\" style=\"display:inline;vertical-align:middle;\" /></a></dd>"
      ],
      "text/plain": [
       "<IPython.core.display.HTML object>"
      ]
     },
     "metadata": {},
     "output_type": "display_data"
    },
    {
     "data": {
      "text/html": [
       "<dt><a class=\"ProveItLink\" href=\"../../../../../../numbers/exponentiation/_theory_nbs_/proofs/exp_natpos_closure/thm_proof.ipynb\">proveit.numbers.exponentiation.exp_natpos_closure</a></dt><dd><a class=\"ProveItLink\" href=\"../../../../../../numbers/exponentiation/__pv_it/theorems/c6b2906656deb094c57a1a1d1d504dc08d415e850/expr.ipynb\"><img src=\"../../../../../../numbers/exponentiation/__pv_it/theorems/c6b2906656deb094c57a1a1d1d504dc08d415e850/expr.png\" style=\"display:inline;vertical-align:middle;\" /></a></dd>"
      ],
      "text/plain": [
       "<IPython.core.display.HTML object>"
      ]
     },
     "metadata": {},
     "output_type": "display_data"
    },
    {
     "data": {
      "text/html": [
       "<dt><a class=\"ProveItLink\" href=\"../../../../../../numbers/exponentiation/_theory_nbs_/proofs/exp_not_eq_zero/thm_proof.ipynb\">proveit.numbers.exponentiation.exp_not_eq_zero</a></dt><dd><a class=\"ProveItLink\" href=\"../../../../../../numbers/exponentiation/__pv_it/theorems/c20e36f272a15f64ec49b10798933c85648f6cfe0/expr.ipynb\"><img src=\"../../../../../../numbers/exponentiation/__pv_it/theorems/c20e36f272a15f64ec49b10798933c85648f6cfe0/expr.png\" style=\"display:inline;vertical-align:middle;\" /></a></dd>"
      ],
      "text/plain": [
       "<IPython.core.display.HTML object>"
      ]
     },
     "metadata": {},
     "output_type": "display_data"
    },
    {
     "data": {
      "text/html": [
       "<dt><a class=\"ProveItLink\" href=\"../../../../../../numbers/exponentiation/_theory_nbs_/proofs/exp_pos_less/thm_proof.ipynb\">proveit.numbers.exponentiation.exp_pos_less</a></dt><dd><a class=\"ProveItLink\" href=\"../../../../../../numbers/exponentiation/__pv_it/theorems/086dfe8255ebd78a1e04e33af5b7f381beaa23b40/expr.ipynb\"><img src=\"../../../../../../numbers/exponentiation/__pv_it/theorems/086dfe8255ebd78a1e04e33af5b7f381beaa23b40/expr.png\" style=\"display:inline;vertical-align:middle;\" /></a></dd>"
      ],
      "text/plain": [
       "<IPython.core.display.HTML object>"
      ]
     },
     "metadata": {},
     "output_type": "display_data"
    },
    {
     "data": {
      "text/html": [
       "<dt><a class=\"ProveItLink\" href=\"../../../../../../numbers/exponentiation/_theory_nbs_/proofs/exp_pos_lesseq/thm_proof.ipynb\">proveit.numbers.exponentiation.exp_pos_lesseq</a></dt><dd><a class=\"ProveItLink\" href=\"../../../../../../numbers/exponentiation/__pv_it/theorems/51972a92b218fa32750f1ea029e37d18038689820/expr.ipynb\"><img src=\"../../../../../../numbers/exponentiation/__pv_it/theorems/51972a92b218fa32750f1ea029e37d18038689820/expr.png\" style=\"display:inline;vertical-align:middle;\" /></a></dd>"
      ],
      "text/plain": [
       "<IPython.core.display.HTML object>"
      ]
     },
     "metadata": {},
     "output_type": "display_data"
    },
    {
     "data": {
      "text/html": [
       "<dt><a class=\"ProveItLink\" href=\"../../../../../../numbers/exponentiation/_theory_nbs_/proofs/exp_rational_non_zero__not_zero/thm_proof.ipynb\">proveit.numbers.exponentiation.exp_rational_non_zero__not_zero</a></dt><dd><a class=\"ProveItLink\" href=\"../../../../../../numbers/exponentiation/__pv_it/theorems/6b0de578405529b6935b739e720417f186c7d9120/expr.ipynb\"><img src=\"../../../../../../numbers/exponentiation/__pv_it/theorems/6b0de578405529b6935b739e720417f186c7d9120/expr.png\" style=\"display:inline;vertical-align:middle;\" /></a></dd>"
      ],
      "text/plain": [
       "<IPython.core.display.HTML object>"
      ]
     },
     "metadata": {},
     "output_type": "display_data"
    },
    {
     "data": {
      "text/html": [
       "<dt><a class=\"ProveItLink\" href=\"../../../../../../numbers/exponentiation/_theory_nbs_/proofs/exp_rational_nonzero_closure/thm_proof.ipynb\">proveit.numbers.exponentiation.exp_rational_nonzero_closure</a></dt><dd><a class=\"ProveItLink\" href=\"../../../../../../numbers/exponentiation/__pv_it/theorems/8d8f2adc958de03f0d5ef9813a1926b1496b14a40/expr.ipynb\"><img src=\"../../../../../../numbers/exponentiation/__pv_it/theorems/8d8f2adc958de03f0d5ef9813a1926b1496b14a40/expr.png\" style=\"display:inline;vertical-align:middle;\" /></a></dd>"
      ],
      "text/plain": [
       "<IPython.core.display.HTML object>"
      ]
     },
     "metadata": {},
     "output_type": "display_data"
    },
    {
     "data": {
      "text/html": [
       "<dt><a class=\"ProveItLink\" href=\"../../../../../../numbers/exponentiation/_theory_nbs_/proofs/exp_real_closure_nat_power/thm_proof.ipynb\">proveit.numbers.exponentiation.exp_real_closure_nat_power</a></dt><dd><a class=\"ProveItLink\" href=\"../../../../../../numbers/exponentiation/__pv_it/theorems/9a848a43107b1241505a0b44a5c2231d54417a8a0/expr.ipynb\"><img src=\"../../../../../../numbers/exponentiation/__pv_it/theorems/9a848a43107b1241505a0b44a5c2231d54417a8a0/expr.png\" style=\"display:inline;vertical-align:middle;\" /></a></dd>"
      ],
      "text/plain": [
       "<IPython.core.display.HTML object>"
      ]
     },
     "metadata": {},
     "output_type": "display_data"
    },
    {
     "data": {
      "text/html": [
       "<dt><a class=\"ProveItLink\" href=\"../../../../../../numbers/exponentiation/_theory_nbs_/proofs/exp_zero_eq_one/thm_proof.ipynb\">proveit.numbers.exponentiation.exp_zero_eq_one</a></dt><dd><a class=\"ProveItLink\" href=\"../../../../../../numbers/exponentiation/__pv_it/theorems/f6c00027f1edc0c343ee2d34eb76237795c286a10/expr.ipynb\"><img src=\"../../../../../../numbers/exponentiation/__pv_it/theorems/f6c00027f1edc0c343ee2d34eb76237795c286a10/expr.png\" style=\"display:inline;vertical-align:middle;\" /></a></dd>"
      ],
      "text/plain": [
       "<IPython.core.display.HTML object>"
      ]
     },
     "metadata": {},
     "output_type": "display_data"
    },
    {
     "data": {
      "text/html": [
       "<dt><a class=\"ProveItLink\" href=\"../../../../../../numbers/exponentiation/_theory_nbs_/proofs/exponentiated_one/thm_proof.ipynb\">proveit.numbers.exponentiation.exponentiated_one</a></dt><dd><a class=\"ProveItLink\" href=\"../../../../../../numbers/exponentiation/__pv_it/theorems/1d113665a1e68efa32fde6e9a606feb7c6630fac0/expr.ipynb\"><img src=\"../../../../../../numbers/exponentiation/__pv_it/theorems/1d113665a1e68efa32fde6e9a606feb7c6630fac0/expr.png\" style=\"display:inline;vertical-align:middle;\" /></a></dd>"
      ],
      "text/plain": [
       "<IPython.core.display.HTML object>"
      ]
     },
     "metadata": {},
     "output_type": "display_data"
    },
    {
     "data": {
      "text/html": [
       "<dt><a class=\"ProveItLink\" href=\"../../../../../../numbers/exponentiation/_theory_nbs_/proofs/int_exp_of_exp/thm_proof.ipynb\">proveit.numbers.exponentiation.int_exp_of_exp</a></dt><dd><a class=\"ProveItLink\" href=\"../../../../../../numbers/exponentiation/__pv_it/theorems/a60bbe5681944be9834cf62c9ce1c811600feca10/expr.ipynb\"><img src=\"../../../../../../numbers/exponentiation/__pv_it/theorems/a60bbe5681944be9834cf62c9ce1c811600feca10/expr.png\" style=\"display:inline;vertical-align:middle;\" /></a></dd>"
      ],
      "text/plain": [
       "<IPython.core.display.HTML object>"
      ]
     },
     "metadata": {},
     "output_type": "display_data"
    },
    {
     "data": {
      "text/html": [
       "<dt><a class=\"ProveItLink\" href=\"../../../../../../numbers/exponentiation/_theory_nbs_/proofs/int_exp_of_neg_exp/thm_proof.ipynb\">proveit.numbers.exponentiation.int_exp_of_neg_exp</a></dt><dd><a class=\"ProveItLink\" href=\"../../../../../../numbers/exponentiation/__pv_it/theorems/15f2f7952059d976f1ed649ef7a8fe160a30f47b0/expr.ipynb\"><img src=\"../../../../../../numbers/exponentiation/__pv_it/theorems/15f2f7952059d976f1ed649ef7a8fe160a30f47b0/expr.png\" style=\"display:inline;vertical-align:middle;\" /></a></dd>"
      ],
      "text/plain": [
       "<IPython.core.display.HTML object>"
      ]
     },
     "metadata": {},
     "output_type": "display_data"
    },
    {
     "data": {
      "text/html": [
       "<dt><a class=\"ProveItLink\" href=\"../../../../../../numbers/exponentiation/_theory_nbs_/proofs/neg_power_as_div/thm_proof.ipynb\">proveit.numbers.exponentiation.neg_power_as_div</a></dt><dd><a class=\"ProveItLink\" href=\"../../../../../../numbers/exponentiation/__pv_it/theorems/d9dcdcf55542c88480ce1550faaee0f6fc70fb9f0/expr.ipynb\"><img src=\"../../../../../../numbers/exponentiation/__pv_it/theorems/d9dcdcf55542c88480ce1550faaee0f6fc70fb9f0/expr.png\" style=\"display:inline;vertical-align:middle;\" /></a></dd>"
      ],
      "text/plain": [
       "<IPython.core.display.HTML object>"
      ]
     },
     "metadata": {},
     "output_type": "display_data"
    },
    {
     "data": {
      "text/html": [
       "<dt><a class=\"ProveItLink\" href=\"../../../../../../numbers/exponentiation/_theory_nbs_/proofs/posnat_power_of_product/thm_proof.ipynb\">proveit.numbers.exponentiation.posnat_power_of_product</a></dt><dd><a class=\"ProveItLink\" href=\"../../../../../../numbers/exponentiation/__pv_it/theorems/7a30a082bb6036650adc7b34880723666f0bd7a40/expr.ipynb\"><img src=\"../../../../../../numbers/exponentiation/__pv_it/theorems/7a30a082bb6036650adc7b34880723666f0bd7a40/expr.png\" style=\"display:inline;vertical-align:middle;\" /></a></dd>"
      ],
      "text/plain": [
       "<IPython.core.display.HTML object>"
      ]
     },
     "metadata": {},
     "output_type": "display_data"
    },
    {
     "data": {
      "text/html": [
       "<dt><a class=\"ProveItLink\" href=\"../../../../../../numbers/exponentiation/_theory_nbs_/proofs/posnat_power_of_quotient/thm_proof.ipynb\">proveit.numbers.exponentiation.posnat_power_of_quotient</a></dt><dd><a class=\"ProveItLink\" href=\"../../../../../../numbers/exponentiation/__pv_it/theorems/d4b8a061d7a6598f9a7ed560ff95aa2f53bb2e040/expr.ipynb\"><img src=\"../../../../../../numbers/exponentiation/__pv_it/theorems/d4b8a061d7a6598f9a7ed560ff95aa2f53bb2e040/expr.png\" style=\"display:inline;vertical-align:middle;\" /></a></dd>"
      ],
      "text/plain": [
       "<IPython.core.display.HTML object>"
      ]
     },
     "metadata": {},
     "output_type": "display_data"
    },
    {
     "data": {
      "text/html": [
       "<dt><a class=\"ProveItLink\" href=\"../../../../../../numbers/exponentiation/_theory_nbs_/proofs/product_of_complex_powers/thm_proof.ipynb\">proveit.numbers.exponentiation.product_of_complex_powers</a></dt><dd><a class=\"ProveItLink\" href=\"../../../../../../numbers/exponentiation/__pv_it/theorems/f4e1820ce22932b18beaf01b519a4489b01e0c7e0/expr.ipynb\"><img src=\"../../../../../../numbers/exponentiation/__pv_it/theorems/f4e1820ce22932b18beaf01b519a4489b01e0c7e0/expr.png\" style=\"display:inline;vertical-align:middle;\" /></a></dd>"
      ],
      "text/plain": [
       "<IPython.core.display.HTML object>"
      ]
     },
     "metadata": {},
     "output_type": "display_data"
    },
    {
     "data": {
      "text/html": [
       "<dt><a class=\"ProveItLink\" href=\"../../../../../../numbers/exponentiation/_theory_nbs_/proofs/product_of_pos_powers/thm_proof.ipynb\">proveit.numbers.exponentiation.product_of_pos_powers</a></dt><dd><a class=\"ProveItLink\" href=\"../../../../../../numbers/exponentiation/__pv_it/theorems/225dda149a90231e714675179d821d36945e40cb0/expr.ipynb\"><img src=\"../../../../../../numbers/exponentiation/__pv_it/theorems/225dda149a90231e714675179d821d36945e40cb0/expr.png\" style=\"display:inline;vertical-align:middle;\" /></a></dd>"
      ],
      "text/plain": [
       "<IPython.core.display.HTML object>"
      ]
     },
     "metadata": {},
     "output_type": "display_data"
    },
    {
     "data": {
      "text/html": [
       "<dt><a class=\"ProveItLink\" href=\"../../../../../../numbers/exponentiation/_theory_nbs_/proofs/product_of_posnat_powers/thm_proof.ipynb\">proveit.numbers.exponentiation.product_of_posnat_powers</a></dt><dd><a class=\"ProveItLink\" href=\"../../../../../../numbers/exponentiation/__pv_it/theorems/e5ad4a5a745b7485b38ed7a44191f067f46f83ad0/expr.ipynb\"><img src=\"../../../../../../numbers/exponentiation/__pv_it/theorems/e5ad4a5a745b7485b38ed7a44191f067f46f83ad0/expr.png\" style=\"display:inline;vertical-align:middle;\" /></a></dd>"
      ],
      "text/plain": [
       "<IPython.core.display.HTML object>"
      ]
     },
     "metadata": {},
     "output_type": "display_data"
    },
    {
     "data": {
      "text/html": [
       "<dt><a class=\"ProveItLink\" href=\"../../../../../../numbers/exponentiation/_theory_nbs_/proofs/product_of_real_powers/thm_proof.ipynb\">proveit.numbers.exponentiation.product_of_real_powers</a></dt><dd><a class=\"ProveItLink\" href=\"../../../../../../numbers/exponentiation/__pv_it/theorems/581833f351e28cae246c3c281615446e7a00496d0/expr.ipynb\"><img src=\"../../../../../../numbers/exponentiation/__pv_it/theorems/581833f351e28cae246c3c281615446e7a00496d0/expr.png\" style=\"display:inline;vertical-align:middle;\" /></a></dd>"
      ],
      "text/plain": [
       "<IPython.core.display.HTML object>"
      ]
     },
     "metadata": {},
     "output_type": "display_data"
    },
    {
     "data": {
      "text/html": [
       "<dt><a class=\"ProveItLink\" href=\"../../../../../../numbers/exponentiation/_theory_nbs_/proofs/real_power_of_product/thm_proof.ipynb\">proveit.numbers.exponentiation.real_power_of_product</a></dt><dd><a class=\"ProveItLink\" href=\"../../../../../../numbers/exponentiation/__pv_it/theorems/4412a6ae1b593a062a9a3bb3d4da0041bab67f4f0/expr.ipynb\"><img src=\"../../../../../../numbers/exponentiation/__pv_it/theorems/4412a6ae1b593a062a9a3bb3d4da0041bab67f4f0/expr.png\" style=\"display:inline;vertical-align:middle;\" /></a></dd>"
      ],
      "text/plain": [
       "<IPython.core.display.HTML object>"
      ]
     },
     "metadata": {},
     "output_type": "display_data"
    },
    {
     "data": {
      "text/html": [
       "<dt><a class=\"ProveItLink\" href=\"../../../../../../numbers/exponentiation/_theory_nbs_/proofs/real_power_of_products/thm_proof.ipynb\">proveit.numbers.exponentiation.real_power_of_products</a></dt><dd><a class=\"ProveItLink\" href=\"../../../../../../numbers/exponentiation/__pv_it/theorems/84ceb047be7ca20dec248f6c7d57b4c486b83aba0/expr.ipynb\"><img src=\"../../../../../../numbers/exponentiation/__pv_it/theorems/84ceb047be7ca20dec248f6c7d57b4c486b83aba0/expr.png\" style=\"display:inline;vertical-align:middle;\" /></a></dd>"
      ],
      "text/plain": [
       "<IPython.core.display.HTML object>"
      ]
     },
     "metadata": {},
     "output_type": "display_data"
    },
    {
     "data": {
      "text/html": [
       "<dt><a class=\"ProveItLink\" href=\"../../../../../../numbers/exponentiation/_theory_nbs_/proofs/real_power_of_real_power/thm_proof.ipynb\">proveit.numbers.exponentiation.real_power_of_real_power</a></dt><dd><a class=\"ProveItLink\" href=\"../../../../../../numbers/exponentiation/__pv_it/theorems/5197b470a1fc943903d7e9ab79fd5cabcac12c190/expr.ipynb\"><img src=\"../../../../../../numbers/exponentiation/__pv_it/theorems/5197b470a1fc943903d7e9ab79fd5cabcac12c190/expr.png\" style=\"display:inline;vertical-align:middle;\" /></a></dd>"
      ],
      "text/plain": [
       "<IPython.core.display.HTML object>"
      ]
     },
     "metadata": {},
     "output_type": "display_data"
    },
    {
     "data": {
      "text/html": [
       "<dt><a class=\"ProveItLink\" href=\"../../../../../../numbers/exponentiation/_theory_nbs_/proofs/sqrd_pos_closure/thm_proof.ipynb\">proveit.numbers.exponentiation.sqrd_pos_closure</a></dt><dd><a class=\"ProveItLink\" href=\"../../../../../../numbers/exponentiation/__pv_it/theorems/e2f9573186316e9cee3f1ae89ff424e8036145d90/expr.ipynb\"><img src=\"../../../../../../numbers/exponentiation/__pv_it/theorems/e2f9573186316e9cee3f1ae89ff424e8036145d90/expr.png\" style=\"display:inline;vertical-align:middle;\" /></a></dd>"
      ],
      "text/plain": [
       "<IPython.core.display.HTML object>"
      ]
     },
     "metadata": {},
     "output_type": "display_data"
    },
    {
     "data": {
      "text/html": [
       "<dt><a class=\"ProveItLink\" href=\"../../../../../../numbers/exponentiation/_theory_nbs_/proofs/sqrt_complex_closure/thm_proof.ipynb\">proveit.numbers.exponentiation.sqrt_complex_closure</a></dt><dd><a class=\"ProveItLink\" href=\"../../../../../../numbers/exponentiation/__pv_it/theorems/c43a27cd38873f8f36ba1d34a36c2896699592aa0/expr.ipynb\"><img src=\"../../../../../../numbers/exponentiation/__pv_it/theorems/c43a27cd38873f8f36ba1d34a36c2896699592aa0/expr.png\" style=\"display:inline;vertical-align:middle;\" /></a></dd>"
      ],
      "text/plain": [
       "<IPython.core.display.HTML object>"
      ]
     },
     "metadata": {},
     "output_type": "display_data"
    },
    {
     "data": {
      "text/html": [
       "<dt><a class=\"ProveItLink\" href=\"../../../../../../numbers/exponentiation/_theory_nbs_/proofs/sqrt_real_pos_closure/thm_proof.ipynb\">proveit.numbers.exponentiation.sqrt_real_pos_closure</a></dt><dd><a class=\"ProveItLink\" href=\"../../../../../../numbers/exponentiation/__pv_it/theorems/36f56bd2ed3a2ee963cc90641cb0e0c965d4cb2e0/expr.ipynb\"><img src=\"../../../../../../numbers/exponentiation/__pv_it/theorems/36f56bd2ed3a2ee963cc90641cb0e0c965d4cb2e0/expr.png\" style=\"display:inline;vertical-align:middle;\" /></a></dd>"
      ],
      "text/plain": [
       "<IPython.core.display.HTML object>"
      ]
     },
     "metadata": {},
     "output_type": "display_data"
    },
    {
     "data": {
      "text/html": [
       "<dt><a class=\"ProveItLink\" href=\"../../../../../../numbers/exponentiation/_theory_nbs_/proofs/square_abs_real_simp/thm_proof.ipynb\">proveit.numbers.exponentiation.square_abs_real_simp</a></dt><dd><a class=\"ProveItLink\" href=\"../../../../../../numbers/exponentiation/__pv_it/theorems/ab67408b1339d16d432ea46a27fff650158c146e0/expr.ipynb\"><img src=\"../../../../../../numbers/exponentiation/__pv_it/theorems/ab67408b1339d16d432ea46a27fff650158c146e0/expr.png\" style=\"display:inline;vertical-align:middle;\" /></a></dd>"
      ],
      "text/plain": [
       "<IPython.core.display.HTML object>"
      ]
     },
     "metadata": {},
     "output_type": "display_data"
    },
    {
     "data": {
      "text/html": [
       "<dt><a class=\"ProveItLink\" href=\"../../../../../../numbers/exponentiation/_theory_nbs_/proofs/unit_complex_polar_num_neq_one/thm_proof.ipynb\">proveit.numbers.exponentiation.unit_complex_polar_num_neq_one</a></dt><dd><a class=\"ProveItLink\" href=\"../../../../../../numbers/exponentiation/__pv_it/theorems/41bfc6d6f3531194d2cf6a20e5465521eb6ef8640/expr.ipynb\"><img src=\"../../../../../../numbers/exponentiation/__pv_it/theorems/41bfc6d6f3531194d2cf6a20e5465521eb6ef8640/expr.png\" style=\"display:inline;vertical-align:middle;\" /></a></dd>"
      ],
      "text/plain": [
       "<IPython.core.display.HTML object>"
      ]
     },
     "metadata": {},
     "output_type": "display_data"
    },
    {
     "data": {
      "text/html": [
       "<dt><a class=\"ProveItLink\" href=\"../../../../../../numbers/functions/_theory_nbs_/proofs/one_over_x_sqrd_in_mon_dec_fxns/thm_proof.ipynb\">proveit.numbers.functions.one_over_x_sqrd_in_mon_dec_fxns</a></dt><dd><a class=\"ProveItLink\" href=\"../../../../../../numbers/functions/__pv_it/theorems/f00f005e38c25b9d2f61273269f4a9eb1ac9a1930/expr.ipynb\"><img src=\"../../../../../../numbers/functions/__pv_it/theorems/f00f005e38c25b9d2f61273269f4a9eb1ac9a1930/expr.png\" style=\"display:inline;vertical-align:middle;\" /></a></dd>"
      ],
      "text/plain": [
       "<IPython.core.display.HTML object>"
      ]
     },
     "metadata": {},
     "output_type": "display_data"
    },
    {
     "data": {
      "text/html": [
       "<dt><a class=\"ProveItLink\" href=\"../../../../../../numbers/integration/_theory_nbs_/proofs/boundedInvSqrdIntegral/thm_proof.ipynb\">proveit.numbers.integration.boundedInvSqrdIntegral</a></dt><dd><a class=\"ProveItLink\" href=\"../../../../../../numbers/integration/__pv_it/theorems/ee730de5cf003ff24e502158228c94877e00ce120/expr.ipynb\"><img src=\"../../../../../../numbers/integration/__pv_it/theorems/ee730de5cf003ff24e502158228c94877e00ce120/expr.png\" style=\"display:inline;vertical-align:middle;\" /></a></dd>"
      ],
      "text/plain": [
       "<IPython.core.display.HTML object>"
      ]
     },
     "metadata": {},
     "output_type": "display_data"
    },
    {
     "data": {
      "text/html": [
       "<dt><a class=\"ProveItLink\" href=\"../../../../../../numbers/modular/_theory_nbs_/proofs/interval_left_shift_bijection/thm_proof.ipynb\">proveit.numbers.modular.interval_left_shift_bijection</a></dt><dd><a class=\"ProveItLink\" href=\"../../../../../../numbers/modular/__pv_it/theorems/2de63ab0cc590bc6a4e504c4745613cef76a67bf0/expr.ipynb\"><img src=\"../../../../../../numbers/modular/__pv_it/theorems/2de63ab0cc590bc6a4e504c4745613cef76a67bf0/expr.png\" style=\"display:inline;vertical-align:middle;\" /></a></dd>"
      ],
      "text/plain": [
       "<IPython.core.display.HTML object>"
      ]
     },
     "metadata": {},
     "output_type": "display_data"
    },
    {
     "data": {
      "text/html": [
       "<dt><a class=\"ProveItLink\" href=\"../../../../../../numbers/modular/_theory_nbs_/proofs/mod_abs_x_reduce_to_abs_x/thm_proof.ipynb\">proveit.numbers.modular.mod_abs_x_reduce_to_abs_x</a></dt><dd><a class=\"ProveItLink\" href=\"../../../../../../numbers/modular/__pv_it/theorems/2daafb76db005d142d599124aeffac2033a2465b0/expr.ipynb\"><img src=\"../../../../../../numbers/modular/__pv_it/theorems/2daafb76db005d142d599124aeffac2033a2465b0/expr.png\" style=\"display:inline;vertical-align:middle;\" /></a></dd>"
      ],
      "text/plain": [
       "<IPython.core.display.HTML object>"
      ]
     },
     "metadata": {},
     "output_type": "display_data"
    },
    {
     "data": {
      "text/html": [
       "<dt><a class=\"ProveItLink\" href=\"../../../../../../numbers/modular/_theory_nbs_/proofs/mod_natpos_in_interval/thm_proof.ipynb\">proveit.numbers.modular.mod_natpos_in_interval</a></dt><dd><a class=\"ProveItLink\" href=\"../../../../../../numbers/modular/__pv_it/theorems/d7344fa6d9a26ffb302a69dffba8327819dd13850/expr.ipynb\"><img src=\"../../../../../../numbers/modular/__pv_it/theorems/d7344fa6d9a26ffb302a69dffba8327819dd13850/expr.png\" style=\"display:inline;vertical-align:middle;\" /></a></dd>"
      ],
      "text/plain": [
       "<IPython.core.display.HTML object>"
      ]
     },
     "metadata": {},
     "output_type": "display_data"
    },
    {
     "data": {
      "text/html": [
       "<dt><a class=\"ProveItLink\" href=\"../../../../../../numbers/modular/_theory_nbs_/proofs/redundant_mod_elimination_in_sum_in_modabs/thm_proof.ipynb\">proveit.numbers.modular.redundant_mod_elimination_in_sum_in_modabs</a></dt><dd><a class=\"ProveItLink\" href=\"../../../../../../numbers/modular/__pv_it/theorems/1af8d48a669bc92439efa4affafadfbcffd82d8a0/expr.ipynb\"><img src=\"../../../../../../numbers/modular/__pv_it/theorems/1af8d48a669bc92439efa4affafadfbcffd82d8a0/expr.png\" style=\"display:inline;vertical-align:middle;\" /></a></dd>"
      ],
      "text/plain": [
       "<IPython.core.display.HTML object>"
      ]
     },
     "metadata": {},
     "output_type": "display_data"
    },
    {
     "data": {
      "text/html": [
       "<dt><a class=\"ProveItLink\" href=\"../../../../../../numbers/multiplication/_theory_nbs_/proofs/association/thm_proof.ipynb\">proveit.numbers.multiplication.association</a></dt><dd><a class=\"ProveItLink\" href=\"../../../../../../numbers/multiplication/__pv_it/theorems/181afd61fce84100a093f5d08665cb25a7b79a360/expr.ipynb\"><img src=\"../../../../../../numbers/multiplication/__pv_it/theorems/181afd61fce84100a093f5d08665cb25a7b79a360/expr.png\" style=\"display:inline;vertical-align:middle;\" /></a></dd>"
      ],
      "text/plain": [
       "<IPython.core.display.HTML object>"
      ]
     },
     "metadata": {},
     "output_type": "display_data"
    },
    {
     "data": {
      "text/html": [
       "<dt><a class=\"ProveItLink\" href=\"../../../../../../numbers/multiplication/_theory_nbs_/proofs/commutation/thm_proof.ipynb\">proveit.numbers.multiplication.commutation</a></dt><dd><a class=\"ProveItLink\" href=\"../../../../../../numbers/multiplication/__pv_it/theorems/0a0123d3fbec63701d64ff1653dd57fc1f98f5750/expr.ipynb\"><img src=\"../../../../../../numbers/multiplication/__pv_it/theorems/0a0123d3fbec63701d64ff1653dd57fc1f98f5750/expr.png\" style=\"display:inline;vertical-align:middle;\" /></a></dd>"
      ],
      "text/plain": [
       "<IPython.core.display.HTML object>"
      ]
     },
     "metadata": {},
     "output_type": "display_data"
    },
    {
     "data": {
      "text/html": [
       "<dt><a class=\"ProveItLink\" href=\"../../../../../../numbers/multiplication/_theory_nbs_/proofs/disassociation/thm_proof.ipynb\">proveit.numbers.multiplication.disassociation</a></dt><dd><a class=\"ProveItLink\" href=\"../../../../../../numbers/multiplication/__pv_it/theorems/86c8ed0ed769064cb33932d16e9baa884d8cfa5e0/expr.ipynb\"><img src=\"../../../../../../numbers/multiplication/__pv_it/theorems/86c8ed0ed769064cb33932d16e9baa884d8cfa5e0/expr.png\" style=\"display:inline;vertical-align:middle;\" /></a></dd>"
      ],
      "text/plain": [
       "<IPython.core.display.HTML object>"
      ]
     },
     "metadata": {},
     "output_type": "display_data"
    },
    {
     "data": {
      "text/html": [
       "<dt><a class=\"ProveItLink\" href=\"../../../../../../numbers/multiplication/_theory_nbs_/proofs/distribute_through_abs_sum/thm_proof.ipynb\">proveit.numbers.multiplication.distribute_through_abs_sum</a></dt><dd><a class=\"ProveItLink\" href=\"../../../../../../numbers/multiplication/__pv_it/theorems/0fd6722d60c38dd1d59fd89da4ce48524e2f46af0/expr.ipynb\"><img src=\"../../../../../../numbers/multiplication/__pv_it/theorems/0fd6722d60c38dd1d59fd89da4ce48524e2f46af0/expr.png\" style=\"display:inline;vertical-align:middle;\" /></a></dd>"
      ],
      "text/plain": [
       "<IPython.core.display.HTML object>"
      ]
     },
     "metadata": {},
     "output_type": "display_data"
    },
    {
     "data": {
      "text/html": [
       "<dt><a class=\"ProveItLink\" href=\"../../../../../../numbers/multiplication/_theory_nbs_/proofs/distribute_through_subtract/thm_proof.ipynb\">proveit.numbers.multiplication.distribute_through_subtract</a></dt><dd><a class=\"ProveItLink\" href=\"../../../../../../numbers/multiplication/__pv_it/theorems/f54775d75e29b865004be2f92ced83822dedbe490/expr.ipynb\"><img src=\"../../../../../../numbers/multiplication/__pv_it/theorems/f54775d75e29b865004be2f92ced83822dedbe490/expr.png\" style=\"display:inline;vertical-align:middle;\" /></a></dd>"
      ],
      "text/plain": [
       "<IPython.core.display.HTML object>"
      ]
     },
     "metadata": {},
     "output_type": "display_data"
    },
    {
     "data": {
      "text/html": [
       "<dt><a class=\"ProveItLink\" href=\"../../../../../../numbers/multiplication/_theory_nbs_/proofs/distribute_through_sum/thm_proof.ipynb\">proveit.numbers.multiplication.distribute_through_sum</a></dt><dd><a class=\"ProveItLink\" href=\"../../../../../../numbers/multiplication/__pv_it/theorems/0e4731362cd0ed815f791fd5d38f69730f96e7810/expr.ipynb\"><img src=\"../../../../../../numbers/multiplication/__pv_it/theorems/0e4731362cd0ed815f791fd5d38f69730f96e7810/expr.png\" style=\"display:inline;vertical-align:middle;\" /></a></dd>"
      ],
      "text/plain": [
       "<IPython.core.display.HTML object>"
      ]
     },
     "metadata": {},
     "output_type": "display_data"
    },
    {
     "data": {
      "text/html": [
       "<dt><a class=\"ProveItLink\" href=\"../../../../../../numbers/multiplication/_theory_nbs_/proofs/distribute_through_summation/thm_proof.ipynb\">proveit.numbers.multiplication.distribute_through_summation</a></dt><dd><a class=\"ProveItLink\" href=\"../../../../../../numbers/multiplication/__pv_it/theorems/294c137fc9d0134b0d31124bb8636fd54cc6b1990/expr.ipynb\"><img src=\"../../../../../../numbers/multiplication/__pv_it/theorems/294c137fc9d0134b0d31124bb8636fd54cc6b1990/expr.png\" style=\"display:inline;vertical-align:middle;\" /></a></dd>"
      ],
      "text/plain": [
       "<IPython.core.display.HTML object>"
      ]
     },
     "metadata": {},
     "output_type": "display_data"
    },
    {
     "data": {
      "text/html": [
       "<dt><a class=\"ProveItLink\" href=\"../../../../../../numbers/multiplication/_theory_nbs_/proofs/elim_one_any/thm_proof.ipynb\">proveit.numbers.multiplication.elim_one_any</a></dt><dd><a class=\"ProveItLink\" href=\"../../../../../../numbers/multiplication/__pv_it/theorems/84d2d3b8ef25ec48277259f742623fca8e1ac5e60/expr.ipynb\"><img src=\"../../../../../../numbers/multiplication/__pv_it/theorems/84d2d3b8ef25ec48277259f742623fca8e1ac5e60/expr.png\" style=\"display:inline;vertical-align:middle;\" /></a></dd>"
      ],
      "text/plain": [
       "<IPython.core.display.HTML object>"
      ]
     },
     "metadata": {},
     "output_type": "display_data"
    },
    {
     "data": {
      "text/html": [
       "<dt><a class=\"ProveItLink\" href=\"../../../../../../numbers/multiplication/_theory_nbs_/proofs/elim_one_left/thm_proof.ipynb\">proveit.numbers.multiplication.elim_one_left</a></dt><dd><a class=\"ProveItLink\" href=\"../../../../../../numbers/multiplication/__pv_it/theorems/a1303cd3cbbc06c5e6e7c6763d03ac850a7c066e0/expr.ipynb\"><img src=\"../../../../../../numbers/multiplication/__pv_it/theorems/a1303cd3cbbc06c5e6e7c6763d03ac850a7c066e0/expr.png\" style=\"display:inline;vertical-align:middle;\" /></a></dd>"
      ],
      "text/plain": [
       "<IPython.core.display.HTML object>"
      ]
     },
     "metadata": {},
     "output_type": "display_data"
    },
    {
     "data": {
      "text/html": [
       "<dt><a class=\"ProveItLink\" href=\"../../../../../../numbers/multiplication/_theory_nbs_/proofs/elim_one_right/thm_proof.ipynb\">proveit.numbers.multiplication.elim_one_right</a></dt><dd><a class=\"ProveItLink\" href=\"../../../../../../numbers/multiplication/__pv_it/theorems/a04649efb1625eca15432cfef667ddaa683ef23b0/expr.ipynb\"><img src=\"../../../../../../numbers/multiplication/__pv_it/theorems/a04649efb1625eca15432cfef667ddaa683ef23b0/expr.png\" style=\"display:inline;vertical-align:middle;\" /></a></dd>"
      ],
      "text/plain": [
       "<IPython.core.display.HTML object>"
      ]
     },
     "metadata": {},
     "output_type": "display_data"
    },
    {
     "data": {
      "text/html": [
       "<dt><a class=\"ProveItLink\" href=\"../../../../../../numbers/multiplication/_theory_nbs_/proofs/leftward_commutation/thm_proof.ipynb\">proveit.numbers.multiplication.leftward_commutation</a></dt><dd><a class=\"ProveItLink\" href=\"../../../../../../numbers/multiplication/__pv_it/theorems/904672c7b3b81838d4690c6670180b5a9380b4cc0/expr.ipynb\"><img src=\"../../../../../../numbers/multiplication/__pv_it/theorems/904672c7b3b81838d4690c6670180b5a9380b4cc0/expr.png\" style=\"display:inline;vertical-align:middle;\" /></a></dd>"
      ],
      "text/plain": [
       "<IPython.core.display.HTML object>"
      ]
     },
     "metadata": {},
     "output_type": "display_data"
    },
    {
     "data": {
      "text/html": [
       "<dt><a class=\"ProveItLink\" href=\"../../../../../../numbers/multiplication/_theory_nbs_/proofs/mult_complex_closure_bin/thm_proof.ipynb\">proveit.numbers.multiplication.mult_complex_closure_bin</a></dt><dd><a class=\"ProveItLink\" href=\"../../../../../../numbers/multiplication/__pv_it/theorems/277fe1e8f31ccffe3a0ffaae280d8068889a11190/expr.ipynb\"><img src=\"../../../../../../numbers/multiplication/__pv_it/theorems/277fe1e8f31ccffe3a0ffaae280d8068889a11190/expr.png\" style=\"display:inline;vertical-align:middle;\" /></a></dd>"
      ],
      "text/plain": [
       "<IPython.core.display.HTML object>"
      ]
     },
     "metadata": {},
     "output_type": "display_data"
    },
    {
     "data": {
      "text/html": [
       "<dt><a class=\"ProveItLink\" href=\"../../../../../../numbers/multiplication/_theory_nbs_/proofs/mult_complex_nonzero_closure_bin/thm_proof.ipynb\">proveit.numbers.multiplication.mult_complex_nonzero_closure_bin</a></dt><dd><a class=\"ProveItLink\" href=\"../../../../../../numbers/multiplication/__pv_it/theorems/825cd77db6a2d869eab1d7a1a46c9145c9c598370/expr.ipynb\"><img src=\"../../../../../../numbers/multiplication/__pv_it/theorems/825cd77db6a2d869eab1d7a1a46c9145c9c598370/expr.png\" style=\"display:inline;vertical-align:middle;\" /></a></dd>"
      ],
      "text/plain": [
       "<IPython.core.display.HTML object>"
      ]
     },
     "metadata": {},
     "output_type": "display_data"
    },
    {
     "data": {
      "text/html": [
       "<dt><a class=\"ProveItLink\" href=\"../../../../../../numbers/multiplication/_theory_nbs_/proofs/mult_int_closure_bin/thm_proof.ipynb\">proveit.numbers.multiplication.mult_int_closure_bin</a></dt><dd><a class=\"ProveItLink\" href=\"../../../../../../numbers/multiplication/__pv_it/theorems/9eeae2d464b9d169dcd94b8265b407c3cb28791a0/expr.ipynb\"><img src=\"../../../../../../numbers/multiplication/__pv_it/theorems/9eeae2d464b9d169dcd94b8265b407c3cb28791a0/expr.png\" style=\"display:inline;vertical-align:middle;\" /></a></dd>"
      ],
      "text/plain": [
       "<IPython.core.display.HTML object>"
      ]
     },
     "metadata": {},
     "output_type": "display_data"
    },
    {
     "data": {
      "text/html": [
       "<dt><a class=\"ProveItLink\" href=\"../../../../../../numbers/multiplication/_theory_nbs_/proofs/mult_nat_closure_bin/thm_proof.ipynb\">proveit.numbers.multiplication.mult_nat_closure_bin</a></dt><dd><a class=\"ProveItLink\" href=\"../../../../../../numbers/multiplication/__pv_it/theorems/8119f3d392468ec70cf55690e7c63b7872dc8e7d0/expr.ipynb\"><img src=\"../../../../../../numbers/multiplication/__pv_it/theorems/8119f3d392468ec70cf55690e7c63b7872dc8e7d0/expr.png\" style=\"display:inline;vertical-align:middle;\" /></a></dd>"
      ],
      "text/plain": [
       "<IPython.core.display.HTML object>"
      ]
     },
     "metadata": {},
     "output_type": "display_data"
    },
    {
     "data": {
      "text/html": [
       "<dt><a class=\"ProveItLink\" href=\"../../../../../../numbers/multiplication/_theory_nbs_/proofs/mult_nat_pos_closure_bin/thm_proof.ipynb\">proveit.numbers.multiplication.mult_nat_pos_closure_bin</a></dt><dd><a class=\"ProveItLink\" href=\"../../../../../../numbers/multiplication/__pv_it/theorems/95d7527ffb92844bca71b90be3c406640075d8fd0/expr.ipynb\"><img src=\"../../../../../../numbers/multiplication/__pv_it/theorems/95d7527ffb92844bca71b90be3c406640075d8fd0/expr.png\" style=\"display:inline;vertical-align:middle;\" /></a></dd>"
      ],
      "text/plain": [
       "<IPython.core.display.HTML object>"
      ]
     },
     "metadata": {},
     "output_type": "display_data"
    },
    {
     "data": {
      "text/html": [
       "<dt><a class=\"ProveItLink\" href=\"../../../../../../numbers/multiplication/_theory_nbs_/proofs/mult_neg_any/thm_proof.ipynb\">proveit.numbers.multiplication.mult_neg_any</a></dt><dd><a class=\"ProveItLink\" href=\"../../../../../../numbers/multiplication/__pv_it/theorems/b9ae0bbc18dd378e06790681641326fa593e958c0/expr.ipynb\"><img src=\"../../../../../../numbers/multiplication/__pv_it/theorems/b9ae0bbc18dd378e06790681641326fa593e958c0/expr.png\" style=\"display:inline;vertical-align:middle;\" /></a></dd>"
      ],
      "text/plain": [
       "<IPython.core.display.HTML object>"
      ]
     },
     "metadata": {},
     "output_type": "display_data"
    },
    {
     "data": {
      "text/html": [
       "<dt><a class=\"ProveItLink\" href=\"../../../../../../numbers/multiplication/_theory_nbs_/proofs/mult_neg_left/thm_proof.ipynb\">proveit.numbers.multiplication.mult_neg_left</a></dt><dd><a class=\"ProveItLink\" href=\"../../../../../../numbers/multiplication/__pv_it/theorems/4c49e90845c2c010933e8618f4f4822f1ab47c440/expr.ipynb\"><img src=\"../../../../../../numbers/multiplication/__pv_it/theorems/4c49e90845c2c010933e8618f4f4822f1ab47c440/expr.png\" style=\"display:inline;vertical-align:middle;\" /></a></dd>"
      ],
      "text/plain": [
       "<IPython.core.display.HTML object>"
      ]
     },
     "metadata": {},
     "output_type": "display_data"
    },
    {
     "data": {
      "text/html": [
       "<dt><a class=\"ProveItLink\" href=\"../../../../../../numbers/multiplication/_theory_nbs_/proofs/mult_neg_right/thm_proof.ipynb\">proveit.numbers.multiplication.mult_neg_right</a></dt><dd><a class=\"ProveItLink\" href=\"../../../../../../numbers/multiplication/__pv_it/theorems/7dd98e00bab205d8c7af0c76507183d8fcb3ac520/expr.ipynb\"><img src=\"../../../../../../numbers/multiplication/__pv_it/theorems/7dd98e00bab205d8c7af0c76507183d8fcb3ac520/expr.png\" style=\"display:inline;vertical-align:middle;\" /></a></dd>"
      ],
      "text/plain": [
       "<IPython.core.display.HTML object>"
      ]
     },
     "metadata": {},
     "output_type": "display_data"
    },
    {
     "data": {
      "text/html": [
       "<dt><a class=\"ProveItLink\" href=\"../../../../../../numbers/multiplication/_theory_nbs_/proofs/mult_not_eq_zero/thm_proof.ipynb\">proveit.numbers.multiplication.mult_not_eq_zero</a></dt><dd><a class=\"ProveItLink\" href=\"../../../../../../numbers/multiplication/__pv_it/theorems/a12666991bde2183d002141acdce93ca4c0d92cf0/expr.ipynb\"><img src=\"../../../../../../numbers/multiplication/__pv_it/theorems/a12666991bde2183d002141acdce93ca4c0d92cf0/expr.png\" style=\"display:inline;vertical-align:middle;\" /></a></dd>"
      ],
      "text/plain": [
       "<IPython.core.display.HTML object>"
      ]
     },
     "metadata": {},
     "output_type": "display_data"
    },
    {
     "data": {
      "text/html": [
       "<dt><a class=\"ProveItLink\" href=\"../../../../../../numbers/multiplication/_theory_nbs_/proofs/mult_rational_closure_bin/thm_proof.ipynb\">proveit.numbers.multiplication.mult_rational_closure_bin</a></dt><dd><a class=\"ProveItLink\" href=\"../../../../../../numbers/multiplication/__pv_it/theorems/d5012511c3e4d46c637001649e3b6374eb45cd7c0/expr.ipynb\"><img src=\"../../../../../../numbers/multiplication/__pv_it/theorems/d5012511c3e4d46c637001649e3b6374eb45cd7c0/expr.png\" style=\"display:inline;vertical-align:middle;\" /></a></dd>"
      ],
      "text/plain": [
       "<IPython.core.display.HTML object>"
      ]
     },
     "metadata": {},
     "output_type": "display_data"
    },
    {
     "data": {
      "text/html": [
       "<dt><a class=\"ProveItLink\" href=\"../../../../../../numbers/multiplication/_theory_nbs_/proofs/mult_rational_pos_closure_bin/thm_proof.ipynb\">proveit.numbers.multiplication.mult_rational_pos_closure_bin</a></dt><dd><a class=\"ProveItLink\" href=\"../../../../../../numbers/multiplication/__pv_it/theorems/698f475ffa584052908af9a694b5220b2a7833ec0/expr.ipynb\"><img src=\"../../../../../../numbers/multiplication/__pv_it/theorems/698f475ffa584052908af9a694b5220b2a7833ec0/expr.png\" style=\"display:inline;vertical-align:middle;\" /></a></dd>"
      ],
      "text/plain": [
       "<IPython.core.display.HTML object>"
      ]
     },
     "metadata": {},
     "output_type": "display_data"
    },
    {
     "data": {
      "text/html": [
       "<dt><a class=\"ProveItLink\" href=\"../../../../../../numbers/multiplication/_theory_nbs_/proofs/mult_real_closure_bin/thm_proof.ipynb\">proveit.numbers.multiplication.mult_real_closure_bin</a></dt><dd><a class=\"ProveItLink\" href=\"../../../../../../numbers/multiplication/__pv_it/theorems/c5c8e4da0aaa10651cc639bde9d639263507f9a90/expr.ipynb\"><img src=\"../../../../../../numbers/multiplication/__pv_it/theorems/c5c8e4da0aaa10651cc639bde9d639263507f9a90/expr.png\" style=\"display:inline;vertical-align:middle;\" /></a></dd>"
      ],
      "text/plain": [
       "<IPython.core.display.HTML object>"
      ]
     },
     "metadata": {},
     "output_type": "display_data"
    },
    {
     "data": {
      "text/html": [
       "<dt><a class=\"ProveItLink\" href=\"../../../../../../numbers/multiplication/_theory_nbs_/proofs/mult_real_pos_closure/thm_proof.ipynb\">proveit.numbers.multiplication.mult_real_pos_closure</a></dt><dd><a class=\"ProveItLink\" href=\"../../../../../../numbers/multiplication/__pv_it/theorems/3c89d183306358003df1bead1965f6c2cd3f77d30/expr.ipynb\"><img src=\"../../../../../../numbers/multiplication/__pv_it/theorems/3c89d183306358003df1bead1965f6c2cd3f77d30/expr.png\" style=\"display:inline;vertical-align:middle;\" /></a></dd>"
      ],
      "text/plain": [
       "<IPython.core.display.HTML object>"
      ]
     },
     "metadata": {},
     "output_type": "display_data"
    },
    {
     "data": {
      "text/html": [
       "<dt><a class=\"ProveItLink\" href=\"../../../../../../numbers/multiplication/_theory_nbs_/proofs/mult_real_pos_closure_bin/thm_proof.ipynb\">proveit.numbers.multiplication.mult_real_pos_closure_bin</a></dt><dd><a class=\"ProveItLink\" href=\"../../../../../../numbers/multiplication/__pv_it/theorems/e91b565e6085f8633840c36744beeb8c666856df0/expr.ipynb\"><img src=\"../../../../../../numbers/multiplication/__pv_it/theorems/e91b565e6085f8633840c36744beeb8c666856df0/expr.png\" style=\"display:inline;vertical-align:middle;\" /></a></dd>"
      ],
      "text/plain": [
       "<IPython.core.display.HTML object>"
      ]
     },
     "metadata": {},
     "output_type": "display_data"
    },
    {
     "data": {
      "text/html": [
       "<dt><a class=\"ProveItLink\" href=\"../../../../../../numbers/multiplication/_theory_nbs_/proofs/mult_zero_any/thm_proof.ipynb\">proveit.numbers.multiplication.mult_zero_any</a></dt><dd><a class=\"ProveItLink\" href=\"../../../../../../numbers/multiplication/__pv_it/theorems/39fe99ddbce8654b434e13f1981d29be88dab0010/expr.ipynb\"><img src=\"../../../../../../numbers/multiplication/__pv_it/theorems/39fe99ddbce8654b434e13f1981d29be88dab0010/expr.png\" style=\"display:inline;vertical-align:middle;\" /></a></dd>"
      ],
      "text/plain": [
       "<IPython.core.display.HTML object>"
      ]
     },
     "metadata": {},
     "output_type": "display_data"
    },
    {
     "data": {
      "text/html": [
       "<dt><a class=\"ProveItLink\" href=\"../../../../../../numbers/multiplication/_theory_nbs_/proofs/mult_zero_right/thm_proof.ipynb\">proveit.numbers.multiplication.mult_zero_right</a></dt><dd><a class=\"ProveItLink\" href=\"../../../../../../numbers/multiplication/__pv_it/theorems/3076c43b4aca00fc912d70999ee6ef99a5f4e75e0/expr.ipynb\"><img src=\"../../../../../../numbers/multiplication/__pv_it/theorems/3076c43b4aca00fc912d70999ee6ef99a5f4e75e0/expr.png\" style=\"display:inline;vertical-align:middle;\" /></a></dd>"
      ],
      "text/plain": [
       "<IPython.core.display.HTML object>"
      ]
     },
     "metadata": {},
     "output_type": "display_data"
    },
    {
     "data": {
      "text/html": [
       "<dt><a class=\"ProveItLink\" href=\"../../../../../../numbers/multiplication/_theory_nbs_/proofs/reversed_strong_bound_via_right_factor_bound/thm_proof.ipynb\">proveit.numbers.multiplication.reversed_strong_bound_via_right_factor_bound</a></dt><dd><a class=\"ProveItLink\" href=\"../../../../../../numbers/multiplication/__pv_it/theorems/12fe08a4ee29e66f855b7d59a7f17885477420ad0/expr.ipynb\"><img src=\"../../../../../../numbers/multiplication/__pv_it/theorems/12fe08a4ee29e66f855b7d59a7f17885477420ad0/expr.png\" style=\"display:inline;vertical-align:middle;\" /></a></dd>"
      ],
      "text/plain": [
       "<IPython.core.display.HTML object>"
      ]
     },
     "metadata": {},
     "output_type": "display_data"
    },
    {
     "data": {
      "text/html": [
       "<dt><a class=\"ProveItLink\" href=\"../../../../../../numbers/multiplication/_theory_nbs_/proofs/reversed_weak_bound_via_right_factor_bound/thm_proof.ipynb\">proveit.numbers.multiplication.reversed_weak_bound_via_right_factor_bound</a></dt><dd><a class=\"ProveItLink\" href=\"../../../../../../numbers/multiplication/__pv_it/theorems/7f1ebae5192fa9b6dfed9764487b1117533d5cb30/expr.ipynb\"><img src=\"../../../../../../numbers/multiplication/__pv_it/theorems/7f1ebae5192fa9b6dfed9764487b1117533d5cb30/expr.png\" style=\"display:inline;vertical-align:middle;\" /></a></dd>"
      ],
      "text/plain": [
       "<IPython.core.display.HTML object>"
      ]
     },
     "metadata": {},
     "output_type": "display_data"
    },
    {
     "data": {
      "text/html": [
       "<dt><a class=\"ProveItLink\" href=\"../../../../../../numbers/multiplication/_theory_nbs_/proofs/rightward_commutation/thm_proof.ipynb\">proveit.numbers.multiplication.rightward_commutation</a></dt><dd><a class=\"ProveItLink\" href=\"../../../../../../numbers/multiplication/__pv_it/theorems/fa694e1e8b769b7c48af37cf88e65f6a8838e8a60/expr.ipynb\"><img src=\"../../../../../../numbers/multiplication/__pv_it/theorems/fa694e1e8b769b7c48af37cf88e65f6a8838e8a60/expr.png\" style=\"display:inline;vertical-align:middle;\" /></a></dd>"
      ],
      "text/plain": [
       "<IPython.core.display.HTML object>"
      ]
     },
     "metadata": {},
     "output_type": "display_data"
    },
    {
     "data": {
      "text/html": [
       "<dt><a class=\"ProveItLink\" href=\"../../../../../../numbers/multiplication/_theory_nbs_/proofs/strong_bound_via_factor_bound/thm_proof.ipynb\">proveit.numbers.multiplication.strong_bound_via_factor_bound</a></dt><dd><a class=\"ProveItLink\" href=\"../../../../../../numbers/multiplication/__pv_it/theorems/7c1c4fc6602a5886185b727d7e6af66bd54d73d80/expr.ipynb\"><img src=\"../../../../../../numbers/multiplication/__pv_it/theorems/7c1c4fc6602a5886185b727d7e6af66bd54d73d80/expr.png\" style=\"display:inline;vertical-align:middle;\" /></a></dd>"
      ],
      "text/plain": [
       "<IPython.core.display.HTML object>"
      ]
     },
     "metadata": {},
     "output_type": "display_data"
    },
    {
     "data": {
      "text/html": [
       "<dt><a class=\"ProveItLink\" href=\"../../../../../../numbers/multiplication/_theory_nbs_/proofs/strong_bound_via_right_factor_bound/thm_proof.ipynb\">proveit.numbers.multiplication.strong_bound_via_right_factor_bound</a></dt><dd><a class=\"ProveItLink\" href=\"../../../../../../numbers/multiplication/__pv_it/theorems/365a7f35034250a285e270e94403be9898e5c71a0/expr.ipynb\"><img src=\"../../../../../../numbers/multiplication/__pv_it/theorems/365a7f35034250a285e270e94403be9898e5c71a0/expr.png\" style=\"display:inline;vertical-align:middle;\" /></a></dd>"
      ],
      "text/plain": [
       "<IPython.core.display.HTML object>"
      ]
     },
     "metadata": {},
     "output_type": "display_data"
    },
    {
     "data": {
      "text/html": [
       "<dt><a class=\"ProveItLink\" href=\"../../../../../../numbers/multiplication/_theory_nbs_/proofs/weak_bound_via_factor_bound/thm_proof.ipynb\">proveit.numbers.multiplication.weak_bound_via_factor_bound</a></dt><dd><a class=\"ProveItLink\" href=\"../../../../../../numbers/multiplication/__pv_it/theorems/e4ac89bc2c826f4774c179df3608d14e66a121860/expr.ipynb\"><img src=\"../../../../../../numbers/multiplication/__pv_it/theorems/e4ac89bc2c826f4774c179df3608d14e66a121860/expr.png\" style=\"display:inline;vertical-align:middle;\" /></a></dd>"
      ],
      "text/plain": [
       "<IPython.core.display.HTML object>"
      ]
     },
     "metadata": {},
     "output_type": "display_data"
    },
    {
     "data": {
      "text/html": [
       "<dt><a class=\"ProveItLink\" href=\"../../../../../../numbers/multiplication/_theory_nbs_/proofs/weak_bound_via_right_factor_bound/thm_proof.ipynb\">proveit.numbers.multiplication.weak_bound_via_right_factor_bound</a></dt><dd><a class=\"ProveItLink\" href=\"../../../../../../numbers/multiplication/__pv_it/theorems/9151ce3bd7980622b76372ebfe3e87b021a6f0ea0/expr.ipynb\"><img src=\"../../../../../../numbers/multiplication/__pv_it/theorems/9151ce3bd7980622b76372ebfe3e87b021a6f0ea0/expr.png\" style=\"display:inline;vertical-align:middle;\" /></a></dd>"
      ],
      "text/plain": [
       "<IPython.core.display.HTML object>"
      ]
     },
     "metadata": {},
     "output_type": "display_data"
    },
    {
     "data": {
      "text/html": [
       "<dt><a class=\"ProveItLink\" href=\"../../../../../../numbers/negation/_theory_nbs_/proofs/complex_closure/thm_proof.ipynb\">proveit.numbers.negation.complex_closure</a></dt><dd><a class=\"ProveItLink\" href=\"../../../../../../numbers/negation/__pv_it/theorems/f55ab67ea395b96b204bff677b514c0a676902520/expr.ipynb\"><img src=\"../../../../../../numbers/negation/__pv_it/theorems/f55ab67ea395b96b204bff677b514c0a676902520/expr.png\" style=\"display:inline;vertical-align:middle;\" /></a></dd>"
      ],
      "text/plain": [
       "<IPython.core.display.HTML object>"
      ]
     },
     "metadata": {},
     "output_type": "display_data"
    },
    {
     "data": {
      "text/html": [
       "<dt><a class=\"ProveItLink\" href=\"../../../../../../numbers/negation/_theory_nbs_/proofs/distribute_neg_through_binary_sum/thm_proof.ipynb\">proveit.numbers.negation.distribute_neg_through_binary_sum</a></dt><dd><a class=\"ProveItLink\" href=\"../../../../../../numbers/negation/__pv_it/theorems/bee5ab177771a764075593f0eff663e71b2ab5950/expr.ipynb\"><img src=\"../../../../../../numbers/negation/__pv_it/theorems/bee5ab177771a764075593f0eff663e71b2ab5950/expr.png\" style=\"display:inline;vertical-align:middle;\" /></a></dd>"
      ],
      "text/plain": [
       "<IPython.core.display.HTML object>"
      ]
     },
     "metadata": {},
     "output_type": "display_data"
    },
    {
     "data": {
      "text/html": [
       "<dt><a class=\"ProveItLink\" href=\"../../../../../../numbers/negation/_theory_nbs_/proofs/distribute_neg_through_subtract/thm_proof.ipynb\">proveit.numbers.negation.distribute_neg_through_subtract</a></dt><dd><a class=\"ProveItLink\" href=\"../../../../../../numbers/negation/__pv_it/theorems/4a2d007f8a09269ab0a5451ea0e0d7a580835f170/expr.ipynb\"><img src=\"../../../../../../numbers/negation/__pv_it/theorems/4a2d007f8a09269ab0a5451ea0e0d7a580835f170/expr.png\" style=\"display:inline;vertical-align:middle;\" /></a></dd>"
      ],
      "text/plain": [
       "<IPython.core.display.HTML object>"
      ]
     },
     "metadata": {},
     "output_type": "display_data"
    },
    {
     "data": {
      "text/html": [
       "<dt><a class=\"ProveItLink\" href=\"../../../../../../numbers/negation/_theory_nbs_/proofs/double_negation/thm_proof.ipynb\">proveit.numbers.negation.double_negation</a></dt><dd><a class=\"ProveItLink\" href=\"../../../../../../numbers/negation/__pv_it/theorems/5a107d0fb2babc68296f0afac692ea8467920d9a0/expr.ipynb\"><img src=\"../../../../../../numbers/negation/__pv_it/theorems/5a107d0fb2babc68296f0afac692ea8467920d9a0/expr.png\" style=\"display:inline;vertical-align:middle;\" /></a></dd>"
      ],
      "text/plain": [
       "<IPython.core.display.HTML object>"
      ]
     },
     "metadata": {},
     "output_type": "display_data"
    },
    {
     "data": {
      "text/html": [
       "<dt><a class=\"ProveItLink\" href=\"../../../../../../numbers/negation/_theory_nbs_/proofs/int_closure/thm_proof.ipynb\">proveit.numbers.negation.int_closure</a></dt><dd><a class=\"ProveItLink\" href=\"../../../../../../numbers/negation/__pv_it/theorems/c23b2df331c376ad0aa7a5313525039cbf38a1730/expr.ipynb\"><img src=\"../../../../../../numbers/negation/__pv_it/theorems/c23b2df331c376ad0aa7a5313525039cbf38a1730/expr.png\" style=\"display:inline;vertical-align:middle;\" /></a></dd>"
      ],
      "text/plain": [
       "<IPython.core.display.HTML object>"
      ]
     },
     "metadata": {},
     "output_type": "display_data"
    },
    {
     "data": {
      "text/html": [
       "<dt><a class=\"ProveItLink\" href=\"../../../../../../numbers/negation/_theory_nbs_/proofs/int_neg_closure/thm_proof.ipynb\">proveit.numbers.negation.int_neg_closure</a></dt><dd><a class=\"ProveItLink\" href=\"../../../../../../numbers/negation/__pv_it/theorems/81a66481d95df728bfd7f9a921d0f78572fa197c0/expr.ipynb\"><img src=\"../../../../../../numbers/negation/__pv_it/theorems/81a66481d95df728bfd7f9a921d0f78572fa197c0/expr.png\" style=\"display:inline;vertical-align:middle;\" /></a></dd>"
      ],
      "text/plain": [
       "<IPython.core.display.HTML object>"
      ]
     },
     "metadata": {},
     "output_type": "display_data"
    },
    {
     "data": {
      "text/html": [
       "<dt><a class=\"ProveItLink\" href=\"../../../../../../numbers/negation/_theory_nbs_/proofs/mult_neg_one_left/thm_proof.ipynb\">proveit.numbers.negation.mult_neg_one_left</a></dt><dd><a class=\"ProveItLink\" href=\"../../../../../../numbers/negation/__pv_it/theorems/afc028a8a063abe91fad507c214fc0a7fbb669800/expr.ipynb\"><img src=\"../../../../../../numbers/negation/__pv_it/theorems/afc028a8a063abe91fad507c214fc0a7fbb669800/expr.png\" style=\"display:inline;vertical-align:middle;\" /></a></dd>"
      ],
      "text/plain": [
       "<IPython.core.display.HTML object>"
      ]
     },
     "metadata": {},
     "output_type": "display_data"
    },
    {
     "data": {
      "text/html": [
       "<dt><a class=\"ProveItLink\" href=\"../../../../../../numbers/negation/_theory_nbs_/proofs/nat_closure/thm_proof.ipynb\">proveit.numbers.negation.nat_closure</a></dt><dd><a class=\"ProveItLink\" href=\"../../../../../../numbers/negation/__pv_it/theorems/546eb56c9c2b2989a0dce35824e26adb6d095ce10/expr.ipynb\"><img src=\"../../../../../../numbers/negation/__pv_it/theorems/546eb56c9c2b2989a0dce35824e26adb6d095ce10/expr.png\" style=\"display:inline;vertical-align:middle;\" /></a></dd>"
      ],
      "text/plain": [
       "<IPython.core.display.HTML object>"
      ]
     },
     "metadata": {},
     "output_type": "display_data"
    },
    {
     "data": {
      "text/html": [
       "<dt><a class=\"ProveItLink\" href=\"../../../../../../numbers/negation/_theory_nbs_/proofs/nat_pos_closure/thm_proof.ipynb\">proveit.numbers.negation.nat_pos_closure</a></dt><dd><a class=\"ProveItLink\" href=\"../../../../../../numbers/negation/__pv_it/theorems/d7d06fae710c36d03aa91624cd76c3b0d9b350bb0/expr.ipynb\"><img src=\"../../../../../../numbers/negation/__pv_it/theorems/d7d06fae710c36d03aa91624cd76c3b0d9b350bb0/expr.png\" style=\"display:inline;vertical-align:middle;\" /></a></dd>"
      ],
      "text/plain": [
       "<IPython.core.display.HTML object>"
      ]
     },
     "metadata": {},
     "output_type": "display_data"
    },
    {
     "data": {
      "text/html": [
       "<dt><a class=\"ProveItLink\" href=\"../../../../../../numbers/negation/_theory_nbs_/proofs/negated_weak_bound/thm_proof.ipynb\">proveit.numbers.negation.negated_weak_bound</a></dt><dd><a class=\"ProveItLink\" href=\"../../../../../../numbers/negation/__pv_it/theorems/b47243842bf23f0da552904ab260207d543e4e480/expr.ipynb\"><img src=\"../../../../../../numbers/negation/__pv_it/theorems/b47243842bf23f0da552904ab260207d543e4e480/expr.png\" style=\"display:inline;vertical-align:middle;\" /></a></dd>"
      ],
      "text/plain": [
       "<IPython.core.display.HTML object>"
      ]
     },
     "metadata": {},
     "output_type": "display_data"
    },
    {
     "data": {
      "text/html": [
       "<dt><a class=\"ProveItLink\" href=\"../../../../../../numbers/negation/_theory_nbs_/proofs/negated_zero/thm_proof.ipynb\">proveit.numbers.negation.negated_zero</a></dt><dd><a class=\"ProveItLink\" href=\"../../../../../../numbers/negation/__pv_it/theorems/b764e010d04406db41ba982f7044088f93933a1f0/expr.ipynb\"><img src=\"../../../../../../numbers/negation/__pv_it/theorems/b764e010d04406db41ba982f7044088f93933a1f0/expr.png\" style=\"display:inline;vertical-align:middle;\" /></a></dd>"
      ],
      "text/plain": [
       "<IPython.core.display.HTML object>"
      ]
     },
     "metadata": {},
     "output_type": "display_data"
    },
    {
     "data": {
      "text/html": [
       "<dt><a class=\"ProveItLink\" href=\"../../../../../../numbers/negation/_theory_nbs_/proofs/pos_times_neg/thm_proof.ipynb\">proveit.numbers.negation.pos_times_neg</a></dt><dd><a class=\"ProveItLink\" href=\"../../../../../../numbers/multiplication/__pv_it/theorems/7dd98e00bab205d8c7af0c76507183d8fcb3ac520/expr.ipynb\"><img src=\"../../../../../../numbers/multiplication/__pv_it/theorems/7dd98e00bab205d8c7af0c76507183d8fcb3ac520/expr.png\" style=\"display:inline;vertical-align:middle;\" /></a></dd>"
      ],
      "text/plain": [
       "<IPython.core.display.HTML object>"
      ]
     },
     "metadata": {},
     "output_type": "display_data"
    },
    {
     "data": {
      "text/html": [
       "<dt><a class=\"ProveItLink\" href=\"../../../../../../numbers/negation/_theory_nbs_/proofs/rational_nonzero_closure/thm_proof.ipynb\">proveit.numbers.negation.rational_nonzero_closure</a></dt><dd><a class=\"ProveItLink\" href=\"../../../../../../numbers/negation/__pv_it/theorems/d363ac84fc4fddb5f63b7b704dc8ea25bcc8fe120/expr.ipynb\"><img src=\"../../../../../../numbers/negation/__pv_it/theorems/d363ac84fc4fddb5f63b7b704dc8ea25bcc8fe120/expr.png\" style=\"display:inline;vertical-align:middle;\" /></a></dd>"
      ],
      "text/plain": [
       "<IPython.core.display.HTML object>"
      ]
     },
     "metadata": {},
     "output_type": "display_data"
    },
    {
     "data": {
      "text/html": [
       "<dt><a class=\"ProveItLink\" href=\"../../../../../../numbers/negation/_theory_nbs_/proofs/real_closure/thm_proof.ipynb\">proveit.numbers.negation.real_closure</a></dt><dd><a class=\"ProveItLink\" href=\"../../../../../../numbers/negation/__pv_it/theorems/f5ed45ea54034a957d388614e2bc572cbbddc5e00/expr.ipynb\"><img src=\"../../../../../../numbers/negation/__pv_it/theorems/f5ed45ea54034a957d388614e2bc572cbbddc5e00/expr.png\" style=\"display:inline;vertical-align:middle;\" /></a></dd>"
      ],
      "text/plain": [
       "<IPython.core.display.HTML object>"
      ]
     },
     "metadata": {},
     "output_type": "display_data"
    },
    {
     "data": {
      "text/html": [
       "<dt><a class=\"ProveItLink\" href=\"../../../../../../numbers/negation/_theory_nbs_/proofs/real_neg_closure/thm_proof.ipynb\">proveit.numbers.negation.real_neg_closure</a></dt><dd><a class=\"ProveItLink\" href=\"../../../../../../numbers/negation/__pv_it/theorems/5b658722724daacc7bd1a29842cebae82c79d6e50/expr.ipynb\"><img src=\"../../../../../../numbers/negation/__pv_it/theorems/5b658722724daacc7bd1a29842cebae82c79d6e50/expr.png\" style=\"display:inline;vertical-align:middle;\" /></a></dd>"
      ],
      "text/plain": [
       "<IPython.core.display.HTML object>"
      ]
     },
     "metadata": {},
     "output_type": "display_data"
    },
    {
     "data": {
      "text/html": [
       "<dt><a class=\"ProveItLink\" href=\"../../../../../../numbers/number_sets/complex_numbers/_theory_nbs_/proofs/exp_neg2pi_i_x/thm_proof.ipynb\">proveit.numbers.number_sets.complex_numbers.exp_neg2pi_i_x</a></dt><dd><a class=\"ProveItLink\" href=\"../../../../../../numbers/number_sets/complex_numbers/__pv_it/theorems/32c089106da811a8da7d9143cdea53407bf97a620/expr.ipynb\"><img src=\"../../../../../../numbers/number_sets/complex_numbers/__pv_it/theorems/32c089106da811a8da7d9143cdea53407bf97a620/expr.png\" style=\"display:inline;vertical-align:middle;\" /></a></dd>"
      ],
      "text/plain": [
       "<IPython.core.display.HTML object>"
      ]
     },
     "metadata": {},
     "output_type": "display_data"
    },
    {
     "data": {
      "text/html": [
       "<dt><a class=\"ProveItLink\" href=\"../../../../../../numbers/number_sets/complex_numbers/_theory_nbs_/proofs/i_is_complex/thm_proof.ipynb\">proveit.numbers.number_sets.complex_numbers.i_is_complex</a></dt><dd><a class=\"ProveItLink\" href=\"../../../../../../numbers/number_sets/complex_numbers/__pv_it/theorems/fba238e4245ed8384cdd86b074176b738d139bd60/expr.ipynb\"><img src=\"../../../../../../numbers/number_sets/complex_numbers/__pv_it/theorems/fba238e4245ed8384cdd86b074176b738d139bd60/expr.png\" style=\"display:inline;vertical-align:middle;\" /></a></dd>"
      ],
      "text/plain": [
       "<IPython.core.display.HTML object>"
      ]
     },
     "metadata": {},
     "output_type": "display_data"
    },
    {
     "data": {
      "text/html": [
       "<dt><a class=\"ProveItLink\" href=\"../../../../../../numbers/number_sets/complex_numbers/_theory_nbs_/proofs/int_within_complex/thm_proof.ipynb\">proveit.numbers.number_sets.complex_numbers.int_within_complex</a></dt><dd><a class=\"ProveItLink\" href=\"../../../../../../numbers/number_sets/complex_numbers/__pv_it/theorems/4cd3b37bb0dbbaae663e63c87bd1b602b3de3ebb0/expr.ipynb\"><img src=\"../../../../../../numbers/number_sets/complex_numbers/__pv_it/theorems/4cd3b37bb0dbbaae663e63c87bd1b602b3de3ebb0/expr.png\" style=\"display:inline;vertical-align:middle;\" /></a></dd>"
      ],
      "text/plain": [
       "<IPython.core.display.HTML object>"
      ]
     },
     "metadata": {},
     "output_type": "display_data"
    },
    {
     "data": {
      "text/html": [
       "<dt><a class=\"ProveItLink\" href=\"../../../../../../numbers/number_sets/complex_numbers/_theory_nbs_/proofs/nonzero_complex_is_complex_nonzero/thm_proof.ipynb\">proveit.numbers.number_sets.complex_numbers.nonzero_complex_is_complex_nonzero</a></dt><dd><a class=\"ProveItLink\" href=\"../../../../../../numbers/number_sets/complex_numbers/__pv_it/theorems/5efbd795750b399e2e69db952ed29be820a8ea3b0/expr.ipynb\"><img src=\"../../../../../../numbers/number_sets/complex_numbers/__pv_it/theorems/5efbd795750b399e2e69db952ed29be820a8ea3b0/expr.png\" style=\"display:inline;vertical-align:middle;\" /></a></dd>"
      ],
      "text/plain": [
       "<IPython.core.display.HTML object>"
      ]
     },
     "metadata": {},
     "output_type": "display_data"
    },
    {
     "data": {
      "text/html": [
       "<dt><a class=\"ProveItLink\" href=\"../../../../../../numbers/number_sets/complex_numbers/_theory_nbs_/proofs/nonzero_if_in_complex_nonzero/thm_proof.ipynb\">proveit.numbers.number_sets.complex_numbers.nonzero_if_in_complex_nonzero</a></dt><dd><a class=\"ProveItLink\" href=\"../../../../../../numbers/number_sets/complex_numbers/__pv_it/theorems/a7b5518cd0853c6606994b7537ce3e8375560a760/expr.ipynb\"><img src=\"../../../../../../numbers/number_sets/complex_numbers/__pv_it/theorems/a7b5518cd0853c6606994b7537ce3e8375560a760/expr.png\" style=\"display:inline;vertical-align:middle;\" /></a></dd>"
      ],
      "text/plain": [
       "<IPython.core.display.HTML object>"
      ]
     },
     "metadata": {},
     "output_type": "display_data"
    },
    {
     "data": {
      "text/html": [
       "<dt><a class=\"ProveItLink\" href=\"../../../../../../numbers/number_sets/complex_numbers/_theory_nbs_/proofs/real_nonzero_within_complex_nonzero/thm_proof.ipynb\">proveit.numbers.number_sets.complex_numbers.real_nonzero_within_complex_nonzero</a></dt><dd><a class=\"ProveItLink\" href=\"../../../../../../numbers/number_sets/complex_numbers/__pv_it/theorems/545af16c626c3ce29b719aef905f3fc56d16ff4d0/expr.ipynb\"><img src=\"../../../../../../numbers/number_sets/complex_numbers/__pv_it/theorems/545af16c626c3ce29b719aef905f3fc56d16ff4d0/expr.png\" style=\"display:inline;vertical-align:middle;\" /></a></dd>"
      ],
      "text/plain": [
       "<IPython.core.display.HTML object>"
      ]
     },
     "metadata": {},
     "output_type": "display_data"
    },
    {
     "data": {
      "text/html": [
       "<dt><a class=\"ProveItLink\" href=\"../../../../../../numbers/number_sets/complex_numbers/_theory_nbs_/proofs/real_within_complex/thm_proof.ipynb\">proveit.numbers.number_sets.complex_numbers.real_within_complex</a></dt><dd><a class=\"ProveItLink\" href=\"../../../../../../numbers/number_sets/complex_numbers/__pv_it/theorems/38989098df56675752c00127b89e7c6d9bdcbcf90/expr.ipynb\"><img src=\"../../../../../../numbers/number_sets/complex_numbers/__pv_it/theorems/38989098df56675752c00127b89e7c6d9bdcbcf90/expr.png\" style=\"display:inline;vertical-align:middle;\" /></a></dd>"
      ],
      "text/plain": [
       "<IPython.core.display.HTML object>"
      ]
     },
     "metadata": {},
     "output_type": "display_data"
    },
    {
     "data": {
      "text/html": [
       "<dt><a class=\"ProveItLink\" href=\"../../../../../../numbers/number_sets/complex_numbers/_theory_nbs_/proofs/zero_is_complex/thm_proof.ipynb\">proveit.numbers.number_sets.complex_numbers.zero_is_complex</a></dt><dd><a class=\"ProveItLink\" href=\"../../../../../../numbers/number_sets/complex_numbers/__pv_it/theorems/08ec05cd49db5957858391946a170157af54f1a30/expr.ipynb\"><img src=\"../../../../../../numbers/number_sets/complex_numbers/__pv_it/theorems/08ec05cd49db5957858391946a170157af54f1a30/expr.png\" style=\"display:inline;vertical-align:middle;\" /></a></dd>"
      ],
      "text/plain": [
       "<IPython.core.display.HTML object>"
      ]
     },
     "metadata": {},
     "output_type": "display_data"
    },
    {
     "data": {
      "text/html": [
       "<dt><a class=\"ProveItLink\" href=\"../../../../../../numbers/number_sets/integers/_theory_nbs_/proofs/disjoint_intervals/thm_proof.ipynb\">proveit.numbers.number_sets.integers.disjoint_intervals</a></dt><dd><a class=\"ProveItLink\" href=\"../../../../../../numbers/number_sets/integers/__pv_it/theorems/693cc92bf4c56b62f4750b7cde6d69ce67f3f8180/expr.ipynb\"><img src=\"../../../../../../numbers/number_sets/integers/__pv_it/theorems/693cc92bf4c56b62f4750b7cde6d69ce67f3f8180/expr.png\" style=\"display:inline;vertical-align:middle;\" /></a></dd>"
      ],
      "text/plain": [
       "<IPython.core.display.HTML object>"
      ]
     },
     "metadata": {},
     "output_type": "display_data"
    },
    {
     "data": {
      "text/html": [
       "<dt><a class=\"ProveItLink\" href=\"../../../../../../numbers/number_sets/integers/_theory_nbs_/proofs/in_interval/thm_proof.ipynb\">proveit.numbers.number_sets.integers.in_interval</a></dt><dd><a class=\"ProveItLink\" href=\"../../../../../../numbers/number_sets/integers/__pv_it/theorems/39cb10c66a369ce3aef9e007763282c233e578f20/expr.ipynb\"><img src=\"../../../../../../numbers/number_sets/integers/__pv_it/theorems/39cb10c66a369ce3aef9e007763282c233e578f20/expr.png\" style=\"display:inline;vertical-align:middle;\" /></a></dd>"
      ],
      "text/plain": [
       "<IPython.core.display.HTML object>"
      ]
     },
     "metadata": {},
     "output_type": "display_data"
    },
    {
     "data": {
      "text/html": [
       "<dt><a class=\"ProveItLink\" href=\"../../../../../../numbers/number_sets/integers/_theory_nbs_/proofs/int_interval_within_int/thm_proof.ipynb\">proveit.numbers.number_sets.integers.int_interval_within_int</a></dt><dd><a class=\"ProveItLink\" href=\"../../../../../../numbers/number_sets/integers/__pv_it/theorems/673538a27ac778b35a8fffac94ede61aae34577c0/expr.ipynb\"><img src=\"../../../../../../numbers/number_sets/integers/__pv_it/theorems/673538a27ac778b35a8fffac94ede61aae34577c0/expr.png\" style=\"display:inline;vertical-align:middle;\" /></a></dd>"
      ],
      "text/plain": [
       "<IPython.core.display.HTML object>"
      ]
     },
     "metadata": {},
     "output_type": "display_data"
    },
    {
     "data": {
      "text/html": [
       "<dt><a class=\"ProveItLink\" href=\"../../../../../../numbers/number_sets/integers/_theory_nbs_/proofs/int_not_in_interval/thm_proof.ipynb\">proveit.numbers.number_sets.integers.int_not_in_interval</a></dt><dd><a class=\"ProveItLink\" href=\"../../../../../../numbers/number_sets/integers/__pv_it/theorems/871ffd1339b2ee98bef64c94b4168cfc1b5ee9c60/expr.ipynb\"><img src=\"../../../../../../numbers/number_sets/integers/__pv_it/theorems/871ffd1339b2ee98bef64c94b4168cfc1b5ee9c60/expr.png\" style=\"display:inline;vertical-align:middle;\" /></a></dd>"
      ],
      "text/plain": [
       "<IPython.core.display.HTML object>"
      ]
     },
     "metadata": {},
     "output_type": "display_data"
    },
    {
     "data": {
      "text/html": [
       "<dt><a class=\"ProveItLink\" href=\"../../../../../../numbers/number_sets/integers/_theory_nbs_/proofs/interval_lower_bound/thm_proof.ipynb\">proveit.numbers.number_sets.integers.interval_lower_bound</a></dt><dd><a class=\"ProveItLink\" href=\"../../../../../../numbers/number_sets/integers/__pv_it/theorems/43ac003b3e56bf75634c34aa8b8fd634ed9c093e0/expr.ipynb\"><img src=\"../../../../../../numbers/number_sets/integers/__pv_it/theorems/43ac003b3e56bf75634c34aa8b8fd634ed9c093e0/expr.png\" style=\"display:inline;vertical-align:middle;\" /></a></dd>"
      ],
      "text/plain": [
       "<IPython.core.display.HTML object>"
      ]
     },
     "metadata": {},
     "output_type": "display_data"
    },
    {
     "data": {
      "text/html": [
       "<dt><a class=\"ProveItLink\" href=\"../../../../../../numbers/number_sets/integers/_theory_nbs_/proofs/interval_subset_eq/thm_proof.ipynb\">proveit.numbers.number_sets.integers.interval_subset_eq</a></dt><dd><a class=\"ProveItLink\" href=\"../../../../../../numbers/number_sets/integers/__pv_it/theorems/5a144d3ccea86fcdf11bdffeb6a21a6ace4e15830/expr.ipynb\"><img src=\"../../../../../../numbers/number_sets/integers/__pv_it/theorems/5a144d3ccea86fcdf11bdffeb6a21a6ace4e15830/expr.png\" style=\"display:inline;vertical-align:middle;\" /></a></dd>"
      ],
      "text/plain": [
       "<IPython.core.display.HTML object>"
      ]
     },
     "metadata": {},
     "output_type": "display_data"
    },
    {
     "data": {
      "text/html": [
       "<dt><a class=\"ProveItLink\" href=\"../../../../../../numbers/number_sets/integers/_theory_nbs_/proofs/interval_upper_bound/thm_proof.ipynb\">proveit.numbers.number_sets.integers.interval_upper_bound</a></dt><dd><a class=\"ProveItLink\" href=\"../../../../../../numbers/number_sets/integers/__pv_it/theorems/f4b311062af2673f942dc0003ba6eefe60d319580/expr.ipynb\"><img src=\"../../../../../../numbers/number_sets/integers/__pv_it/theorems/f4b311062af2673f942dc0003ba6eefe60d319580/expr.png\" style=\"display:inline;vertical-align:middle;\" /></a></dd>"
      ],
      "text/plain": [
       "<IPython.core.display.HTML object>"
      ]
     },
     "metadata": {},
     "output_type": "display_data"
    },
    {
     "data": {
      "text/html": [
       "<dt><a class=\"ProveItLink\" href=\"../../../../../../numbers/number_sets/integers/_theory_nbs_/proofs/nat_pos_within_int/thm_proof.ipynb\">proveit.numbers.number_sets.integers.nat_pos_within_int</a></dt><dd><a class=\"ProveItLink\" href=\"../../../../../../numbers/number_sets/integers/__pv_it/theorems/eac6d1dbf684bfc5657625c397ae88d8a727c9d60/expr.ipynb\"><img src=\"../../../../../../numbers/number_sets/integers/__pv_it/theorems/eac6d1dbf684bfc5657625c397ae88d8a727c9d60/expr.png\" style=\"display:inline;vertical-align:middle;\" /></a></dd>"
      ],
      "text/plain": [
       "<IPython.core.display.HTML object>"
      ]
     },
     "metadata": {},
     "output_type": "display_data"
    },
    {
     "data": {
      "text/html": [
       "<dt><a class=\"ProveItLink\" href=\"../../../../../../numbers/number_sets/integers/_theory_nbs_/proofs/nat_pos_within_nonzero_int/thm_proof.ipynb\">proveit.numbers.number_sets.integers.nat_pos_within_nonzero_int</a></dt><dd><a class=\"ProveItLink\" href=\"../../../../../../numbers/number_sets/integers/__pv_it/theorems/eab35bbe45f92eae1b4b3190b0cd4a5644de84d40/expr.ipynb\"><img src=\"../../../../../../numbers/number_sets/integers/__pv_it/theorems/eab35bbe45f92eae1b4b3190b0cd4a5644de84d40/expr.png\" style=\"display:inline;vertical-align:middle;\" /></a></dd>"
      ],
      "text/plain": [
       "<IPython.core.display.HTML object>"
      ]
     },
     "metadata": {},
     "output_type": "display_data"
    },
    {
     "data": {
      "text/html": [
       "<dt><a class=\"ProveItLink\" href=\"../../../../../../numbers/number_sets/integers/_theory_nbs_/proofs/nat_within_int/thm_proof.ipynb\">proveit.numbers.number_sets.integers.nat_within_int</a></dt><dd><a class=\"ProveItLink\" href=\"../../../../../../numbers/number_sets/integers/__pv_it/theorems/1cd0ce5701331e1608ae0251ff814274d551a8fa0/expr.ipynb\"><img src=\"../../../../../../numbers/number_sets/integers/__pv_it/theorems/1cd0ce5701331e1608ae0251ff814274d551a8fa0/expr.png\" style=\"display:inline;vertical-align:middle;\" /></a></dd>"
      ],
      "text/plain": [
       "<IPython.core.display.HTML object>"
      ]
     },
     "metadata": {},
     "output_type": "display_data"
    },
    {
     "data": {
      "text/html": [
       "<dt><a class=\"ProveItLink\" href=\"../../../../../../numbers/number_sets/integers/_theory_nbs_/proofs/neg_int_is_int_neg/thm_proof.ipynb\">proveit.numbers.number_sets.integers.neg_int_is_int_neg</a></dt><dd><a class=\"ProveItLink\" href=\"../../../../../../numbers/number_sets/integers/__pv_it/theorems/f3cab05abeeb0ec5939602f2ad9c98802afd2b4a0/expr.ipynb\"><img src=\"../../../../../../numbers/number_sets/integers/__pv_it/theorems/f3cab05abeeb0ec5939602f2ad9c98802afd2b4a0/expr.png\" style=\"display:inline;vertical-align:middle;\" /></a></dd>"
      ],
      "text/plain": [
       "<IPython.core.display.HTML object>"
      ]
     },
     "metadata": {},
     "output_type": "display_data"
    },
    {
     "data": {
      "text/html": [
       "<dt><a class=\"ProveItLink\" href=\"../../../../../../numbers/number_sets/integers/_theory_nbs_/proofs/neg_int_within_int/thm_proof.ipynb\">proveit.numbers.number_sets.integers.neg_int_within_int</a></dt><dd><a class=\"ProveItLink\" href=\"../../../../../../numbers/number_sets/integers/__pv_it/theorems/d7781bf7cfdb231c0f78f603439cc10460714b080/expr.ipynb\"><img src=\"../../../../../../numbers/number_sets/integers/__pv_it/theorems/d7781bf7cfdb231c0f78f603439cc10460714b080/expr.png\" style=\"display:inline;vertical-align:middle;\" /></a></dd>"
      ],
      "text/plain": [
       "<IPython.core.display.HTML object>"
      ]
     },
     "metadata": {},
     "output_type": "display_data"
    },
    {
     "data": {
      "text/html": [
       "<dt><a class=\"ProveItLink\" href=\"../../../../../../numbers/number_sets/integers/_theory_nbs_/proofs/negative_if_in_neg_int/thm_proof.ipynb\">proveit.numbers.number_sets.integers.negative_if_in_neg_int</a></dt><dd><a class=\"ProveItLink\" href=\"../../../../../../numbers/number_sets/integers/__pv_it/theorems/e7839487bbdf9f34332d862a1c1ce83d8adc4e3d0/expr.ipynb\"><img src=\"../../../../../../numbers/number_sets/integers/__pv_it/theorems/e7839487bbdf9f34332d862a1c1ce83d8adc4e3d0/expr.png\" style=\"display:inline;vertical-align:middle;\" /></a></dd>"
      ],
      "text/plain": [
       "<IPython.core.display.HTML object>"
      ]
     },
     "metadata": {},
     "output_type": "display_data"
    },
    {
     "data": {
      "text/html": [
       "<dt><a class=\"ProveItLink\" href=\"../../../../../../numbers/number_sets/integers/_theory_nbs_/proofs/nonneg_int_is_natural/thm_proof.ipynb\">proveit.numbers.number_sets.integers.nonneg_int_is_natural</a></dt><dd><a class=\"ProveItLink\" href=\"../../../../../../numbers/number_sets/integers/__pv_it/theorems/3454b051e9012236ad2cdcb2f83e7d2fa3b722990/expr.ipynb\"><img src=\"../../../../../../numbers/number_sets/integers/__pv_it/theorems/3454b051e9012236ad2cdcb2f83e7d2fa3b722990/expr.png\" style=\"display:inline;vertical-align:middle;\" /></a></dd>"
      ],
      "text/plain": [
       "<IPython.core.display.HTML object>"
      ]
     },
     "metadata": {},
     "output_type": "display_data"
    },
    {
     "data": {
      "text/html": [
       "<dt><a class=\"ProveItLink\" href=\"../../../../../../numbers/number_sets/integers/_theory_nbs_/proofs/nonpos_int_is_int_nonpos/thm_proof.ipynb\">proveit.numbers.number_sets.integers.nonpos_int_is_int_nonpos</a></dt><dd><a class=\"ProveItLink\" href=\"../../../../../../numbers/number_sets/integers/__pv_it/theorems/4a82a1b7dac5a655ec0e0c0c29e2504aa04de26f0/expr.ipynb\"><img src=\"../../../../../../numbers/number_sets/integers/__pv_it/theorems/4a82a1b7dac5a655ec0e0c0c29e2504aa04de26f0/expr.png\" style=\"display:inline;vertical-align:middle;\" /></a></dd>"
      ],
      "text/plain": [
       "<IPython.core.display.HTML object>"
      ]
     },
     "metadata": {},
     "output_type": "display_data"
    },
    {
     "data": {
      "text/html": [
       "<dt><a class=\"ProveItLink\" href=\"../../../../../../numbers/number_sets/integers/_theory_nbs_/proofs/pos_int_is_natural_pos/thm_proof.ipynb\">proveit.numbers.number_sets.integers.pos_int_is_natural_pos</a></dt><dd><a class=\"ProveItLink\" href=\"../../../../../../numbers/number_sets/integers/__pv_it/theorems/669644ece014c75803395e733e607c46ec6ad5880/expr.ipynb\"><img src=\"../../../../../../numbers/number_sets/integers/__pv_it/theorems/669644ece014c75803395e733e607c46ec6ad5880/expr.png\" style=\"display:inline;vertical-align:middle;\" /></a></dd>"
      ],
      "text/plain": [
       "<IPython.core.display.HTML object>"
      ]
     },
     "metadata": {},
     "output_type": "display_data"
    },
    {
     "data": {
      "text/html": [
       "<dt><a class=\"ProveItLink\" href=\"../../../../../../numbers/number_sets/integers/_theory_nbs_/proofs/zero_set_within_int/thm_proof.ipynb\">proveit.numbers.number_sets.integers.zero_set_within_int</a></dt><dd><a class=\"ProveItLink\" href=\"../../../../../../numbers/number_sets/integers/__pv_it/theorems/4e4509de4a1dc6a8621376d2f9f81639c1a3dcf10/expr.ipynb\"><img src=\"../../../../../../numbers/number_sets/integers/__pv_it/theorems/4e4509de4a1dc6a8621376d2f9f81639c1a3dcf10/expr.png\" style=\"display:inline;vertical-align:middle;\" /></a></dd>"
      ],
      "text/plain": [
       "<IPython.core.display.HTML object>"
      ]
     },
     "metadata": {},
     "output_type": "display_data"
    },
    {
     "data": {
      "text/html": [
       "<dt><a class=\"ProveItLink\" href=\"../../../../../../numbers/number_sets/natural_numbers/_theory_nbs_/proofs/fold_forall_natural_pos/thm_proof.ipynb\">proveit.numbers.number_sets.natural_numbers.fold_forall_natural_pos</a></dt><dd><a class=\"ProveItLink\" href=\"../../../../../../numbers/number_sets/natural_numbers/__pv_it/theorems/e6f44021025793e42989a647168c70ce5480d4c80/expr.ipynb\"><img src=\"../../../../../../numbers/number_sets/natural_numbers/__pv_it/theorems/e6f44021025793e42989a647168c70ce5480d4c80/expr.png\" style=\"display:inline;vertical-align:middle;\" /></a></dd>"
      ],
      "text/plain": [
       "<IPython.core.display.HTML object>"
      ]
     },
     "metadata": {},
     "output_type": "display_data"
    },
    {
     "data": {
      "text/html": [
       "<dt><a class=\"ProveItLink\" href=\"../../../../../../numbers/number_sets/natural_numbers/_theory_nbs_/proofs/nat_pos_within_nat/thm_proof.ipynb\">proveit.numbers.number_sets.natural_numbers.nat_pos_within_nat</a></dt><dd><a class=\"ProveItLink\" href=\"../../../../../../numbers/number_sets/natural_numbers/__pv_it/theorems/39501c3279d7a7bd5d06ac28f4efc5811af704550/expr.ipynb\"><img src=\"../../../../../../numbers/number_sets/natural_numbers/__pv_it/theorems/39501c3279d7a7bd5d06ac28f4efc5811af704550/expr.png\" style=\"display:inline;vertical-align:middle;\" /></a></dd>"
      ],
      "text/plain": [
       "<IPython.core.display.HTML object>"
      ]
     },
     "metadata": {},
     "output_type": "display_data"
    },
    {
     "data": {
      "text/html": [
       "<dt><a class=\"ProveItLink\" href=\"../../../../../../numbers/number_sets/natural_numbers/_theory_nbs_/proofs/natural_lower_bound/thm_proof.ipynb\">proveit.numbers.number_sets.natural_numbers.natural_lower_bound</a></dt><dd><a class=\"ProveItLink\" href=\"../../../../../../numbers/number_sets/natural_numbers/__pv_it/theorems/dea4217c9479332f21d71d3991759de7b1f2749c0/expr.ipynb\"><img src=\"../../../../../../numbers/number_sets/natural_numbers/__pv_it/theorems/dea4217c9479332f21d71d3991759de7b1f2749c0/expr.png\" style=\"display:inline;vertical-align:middle;\" /></a></dd>"
      ],
      "text/plain": [
       "<IPython.core.display.HTML object>"
      ]
     },
     "metadata": {},
     "output_type": "display_data"
    },
    {
     "data": {
      "text/html": [
       "<dt><a class=\"ProveItLink\" href=\"../../../../../../numbers/number_sets/natural_numbers/_theory_nbs_/proofs/natural_pos_is_pos/thm_proof.ipynb\">proveit.numbers.number_sets.natural_numbers.natural_pos_is_pos</a></dt><dd><a class=\"ProveItLink\" href=\"../../../../../../numbers/number_sets/natural_numbers/__pv_it/theorems/b18717fc9d11afe0480a095623b244f8f91437c00/expr.ipynb\"><img src=\"../../../../../../numbers/number_sets/natural_numbers/__pv_it/theorems/b18717fc9d11afe0480a095623b244f8f91437c00/expr.png\" style=\"display:inline;vertical-align:middle;\" /></a></dd>"
      ],
      "text/plain": [
       "<IPython.core.display.HTML object>"
      ]
     },
     "metadata": {},
     "output_type": "display_data"
    },
    {
     "data": {
      "text/html": [
       "<dt><a class=\"ProveItLink\" href=\"../../../../../../numbers/number_sets/natural_numbers/_theory_nbs_/proofs/natural_pos_lower_bound/thm_proof.ipynb\">proveit.numbers.number_sets.natural_numbers.natural_pos_lower_bound</a></dt><dd><a class=\"ProveItLink\" href=\"../../../../../../numbers/number_sets/natural_numbers/__pv_it/theorems/7a5429516a99664f3ae7e764e76fd137d10c9cd50/expr.ipynb\"><img src=\"../../../../../../numbers/number_sets/natural_numbers/__pv_it/theorems/7a5429516a99664f3ae7e764e76fd137d10c9cd50/expr.png\" style=\"display:inline;vertical-align:middle;\" /></a></dd>"
      ],
      "text/plain": [
       "<IPython.core.display.HTML object>"
      ]
     },
     "metadata": {},
     "output_type": "display_data"
    },
    {
     "data": {
      "text/html": [
       "<dt><a class=\"ProveItLink\" href=\"../../../../../../numbers/number_sets/natural_numbers/_theory_nbs_/proofs/zero_set_within_nat/thm_proof.ipynb\">proveit.numbers.number_sets.natural_numbers.zero_set_within_nat</a></dt><dd><a class=\"ProveItLink\" href=\"../../../../../../numbers/number_sets/natural_numbers/__pv_it/theorems/bd435af675ce47764e8480a5119327b08ac0a25a0/expr.ipynb\"><img src=\"../../../../../../numbers/number_sets/natural_numbers/__pv_it/theorems/bd435af675ce47764e8480a5119327b08ac0a25a0/expr.png\" style=\"display:inline;vertical-align:middle;\" /></a></dd>"
      ],
      "text/plain": [
       "<IPython.core.display.HTML object>"
      ]
     },
     "metadata": {},
     "output_type": "display_data"
    },
    {
     "data": {
      "text/html": [
       "<dt><a class=\"ProveItLink\" href=\"../../../../../../numbers/number_sets/rational_numbers/_theory_nbs_/proofs/int_within_rational/thm_proof.ipynb\">proveit.numbers.number_sets.rational_numbers.int_within_rational</a></dt><dd><a class=\"ProveItLink\" href=\"../../../../../../numbers/number_sets/rational_numbers/__pv_it/theorems/f82654afbc103bcf8089d3e3a9860276c55562410/expr.ipynb\"><img src=\"../../../../../../numbers/number_sets/rational_numbers/__pv_it/theorems/f82654afbc103bcf8089d3e3a9860276c55562410/expr.png\" style=\"display:inline;vertical-align:middle;\" /></a></dd>"
      ],
      "text/plain": [
       "<IPython.core.display.HTML object>"
      ]
     },
     "metadata": {},
     "output_type": "display_data"
    },
    {
     "data": {
      "text/html": [
       "<dt><a class=\"ProveItLink\" href=\"../../../../../../numbers/number_sets/rational_numbers/_theory_nbs_/proofs/nat_pos_within_rational_pos/thm_proof.ipynb\">proveit.numbers.number_sets.rational_numbers.nat_pos_within_rational_pos</a></dt><dd><a class=\"ProveItLink\" href=\"../../../../../../numbers/number_sets/rational_numbers/__pv_it/theorems/d32995d6b8eb0274cbee19bb0883e355f64b2e990/expr.ipynb\"><img src=\"../../../../../../numbers/number_sets/rational_numbers/__pv_it/theorems/d32995d6b8eb0274cbee19bb0883e355f64b2e990/expr.png\" style=\"display:inline;vertical-align:middle;\" /></a></dd>"
      ],
      "text/plain": [
       "<IPython.core.display.HTML object>"
      ]
     },
     "metadata": {},
     "output_type": "display_data"
    },
    {
     "data": {
      "text/html": [
       "<dt><a class=\"ProveItLink\" href=\"../../../../../../numbers/number_sets/rational_numbers/_theory_nbs_/proofs/nat_within_rational_nonneg/thm_proof.ipynb\">proveit.numbers.number_sets.rational_numbers.nat_within_rational_nonneg</a></dt><dd><a class=\"ProveItLink\" href=\"../../../../../../numbers/number_sets/rational_numbers/__pv_it/theorems/a3659ec80481500ab6a2d1882e94ddccfa3943e10/expr.ipynb\"><img src=\"../../../../../../numbers/number_sets/rational_numbers/__pv_it/theorems/a3659ec80481500ab6a2d1882e94ddccfa3943e10/expr.png\" style=\"display:inline;vertical-align:middle;\" /></a></dd>"
      ],
      "text/plain": [
       "<IPython.core.display.HTML object>"
      ]
     },
     "metadata": {},
     "output_type": "display_data"
    },
    {
     "data": {
      "text/html": [
       "<dt><a class=\"ProveItLink\" href=\"../../../../../../numbers/number_sets/rational_numbers/_theory_nbs_/proofs/neg_int_within_rational_neg/thm_proof.ipynb\">proveit.numbers.number_sets.rational_numbers.neg_int_within_rational_neg</a></dt><dd><a class=\"ProveItLink\" href=\"../../../../../../numbers/number_sets/rational_numbers/__pv_it/theorems/6939d74003e4cfcc5bb3b13b0177655d29c4ce220/expr.ipynb\"><img src=\"../../../../../../numbers/number_sets/rational_numbers/__pv_it/theorems/6939d74003e4cfcc5bb3b13b0177655d29c4ce220/expr.png\" style=\"display:inline;vertical-align:middle;\" /></a></dd>"
      ],
      "text/plain": [
       "<IPython.core.display.HTML object>"
      ]
     },
     "metadata": {},
     "output_type": "display_data"
    },
    {
     "data": {
      "text/html": [
       "<dt><a class=\"ProveItLink\" href=\"../../../../../../numbers/number_sets/rational_numbers/_theory_nbs_/proofs/nonzero_int_within_rational_nonzero/thm_proof.ipynb\">proveit.numbers.number_sets.rational_numbers.nonzero_int_within_rational_nonzero</a></dt><dd><a class=\"ProveItLink\" href=\"../../../../../../numbers/number_sets/rational_numbers/__pv_it/theorems/4a33a44dc60827d8c0d211d8b91dcd71c1e457d50/expr.ipynb\"><img src=\"../../../../../../numbers/number_sets/rational_numbers/__pv_it/theorems/4a33a44dc60827d8c0d211d8b91dcd71c1e457d50/expr.png\" style=\"display:inline;vertical-align:middle;\" /></a></dd>"
      ],
      "text/plain": [
       "<IPython.core.display.HTML object>"
      ]
     },
     "metadata": {},
     "output_type": "display_data"
    },
    {
     "data": {
      "text/html": [
       "<dt><a class=\"ProveItLink\" href=\"../../../../../../numbers/number_sets/rational_numbers/_theory_nbs_/proofs/nonzero_rational_is_rational_nonzero/thm_proof.ipynb\">proveit.numbers.number_sets.rational_numbers.nonzero_rational_is_rational_nonzero</a></dt><dd><a class=\"ProveItLink\" href=\"../../../../../../numbers/number_sets/rational_numbers/__pv_it/theorems/0926aa8e6edcb52ceff3f47f4b3793699b79bc980/expr.ipynb\"><img src=\"../../../../../../numbers/number_sets/rational_numbers/__pv_it/theorems/0926aa8e6edcb52ceff3f47f4b3793699b79bc980/expr.png\" style=\"display:inline;vertical-align:middle;\" /></a></dd>"
      ],
      "text/plain": [
       "<IPython.core.display.HTML object>"
      ]
     },
     "metadata": {},
     "output_type": "display_data"
    },
    {
     "data": {
      "text/html": [
       "<dt><a class=\"ProveItLink\" href=\"../../../../../../numbers/number_sets/rational_numbers/_theory_nbs_/proofs/positive_if_in_rational_pos/thm_proof.ipynb\">proveit.numbers.number_sets.rational_numbers.positive_if_in_rational_pos</a></dt><dd><a class=\"ProveItLink\" href=\"../../../../../../numbers/number_sets/rational_numbers/__pv_it/theorems/755cfecdf07f6174b68a4e41dc54a7d68dede1040/expr.ipynb\"><img src=\"../../../../../../numbers/number_sets/rational_numbers/__pv_it/theorems/755cfecdf07f6174b68a4e41dc54a7d68dede1040/expr.png\" style=\"display:inline;vertical-align:middle;\" /></a></dd>"
      ],
      "text/plain": [
       "<IPython.core.display.HTML object>"
      ]
     },
     "metadata": {},
     "output_type": "display_data"
    },
    {
     "data": {
      "text/html": [
       "<dt><a class=\"ProveItLink\" href=\"../../../../../../numbers/number_sets/rational_numbers/_theory_nbs_/proofs/rational_nonzero_within_rational/thm_proof.ipynb\">proveit.numbers.number_sets.rational_numbers.rational_nonzero_within_rational</a></dt><dd><a class=\"ProveItLink\" href=\"../../../../../../numbers/number_sets/rational_numbers/__pv_it/theorems/67cbac24ebe231bd30cc8103aa1b7444e2bced3c0/expr.ipynb\"><img src=\"../../../../../../numbers/number_sets/rational_numbers/__pv_it/theorems/67cbac24ebe231bd30cc8103aa1b7444e2bced3c0/expr.png\" style=\"display:inline;vertical-align:middle;\" /></a></dd>"
      ],
      "text/plain": [
       "<IPython.core.display.HTML object>"
      ]
     },
     "metadata": {},
     "output_type": "display_data"
    },
    {
     "data": {
      "text/html": [
       "<dt><a class=\"ProveItLink\" href=\"../../../../../../numbers/number_sets/rational_numbers/_theory_nbs_/proofs/rational_pos_within_rational/thm_proof.ipynb\">proveit.numbers.number_sets.rational_numbers.rational_pos_within_rational</a></dt><dd><a class=\"ProveItLink\" href=\"../../../../../../numbers/number_sets/rational_numbers/__pv_it/theorems/072c9013fa541c652f14072983fa20c0574a295c0/expr.ipynb\"><img src=\"../../../../../../numbers/number_sets/rational_numbers/__pv_it/theorems/072c9013fa541c652f14072983fa20c0574a295c0/expr.png\" style=\"display:inline;vertical-align:middle;\" /></a></dd>"
      ],
      "text/plain": [
       "<IPython.core.display.HTML object>"
      ]
     },
     "metadata": {},
     "output_type": "display_data"
    },
    {
     "data": {
      "text/html": [
       "<dt><a class=\"ProveItLink\" href=\"../../../../../../numbers/number_sets/rational_numbers/_theory_nbs_/proofs/rational_pos_within_rational_nonzero/thm_proof.ipynb\">proveit.numbers.number_sets.rational_numbers.rational_pos_within_rational_nonzero</a></dt><dd><a class=\"ProveItLink\" href=\"../../../../../../numbers/number_sets/rational_numbers/__pv_it/theorems/ccd174367402776e231e9e04abd539dea95068640/expr.ipynb\"><img src=\"../../../../../../numbers/number_sets/rational_numbers/__pv_it/theorems/ccd174367402776e231e9e04abd539dea95068640/expr.png\" style=\"display:inline;vertical-align:middle;\" /></a></dd>"
      ],
      "text/plain": [
       "<IPython.core.display.HTML object>"
      ]
     },
     "metadata": {},
     "output_type": "display_data"
    },
    {
     "data": {
      "text/html": [
       "<dt><a class=\"ProveItLink\" href=\"../../../../../../numbers/number_sets/real_numbers/_theory_nbs_/proofs/all_in_interval_cc__is__real/thm_proof.ipynb\">proveit.numbers.number_sets.real_numbers.all_in_interval_cc__is__real</a></dt><dd><a class=\"ProveItLink\" href=\"../../../../../../numbers/number_sets/real_numbers/__pv_it/theorems/d88a193344a7c10b29a3e8277112493448a3a9e10/expr.ipynb\"><img src=\"../../../../../../numbers/number_sets/real_numbers/__pv_it/theorems/d88a193344a7c10b29a3e8277112493448a3a9e10/expr.png\" style=\"display:inline;vertical-align:middle;\" /></a></dd>"
      ],
      "text/plain": [
       "<IPython.core.display.HTML object>"
      ]
     },
     "metadata": {},
     "output_type": "display_data"
    },
    {
     "data": {
      "text/html": [
       "<dt><a class=\"ProveItLink\" href=\"../../../../../../numbers/number_sets/real_numbers/_theory_nbs_/proofs/all_in_interval_co__is__real/thm_proof.ipynb\">proveit.numbers.number_sets.real_numbers.all_in_interval_co__is__real</a></dt><dd><a class=\"ProveItLink\" href=\"../../../../../../numbers/number_sets/real_numbers/__pv_it/theorems/fc1148ea51eaca7fd374f001138032aa36663c7d0/expr.ipynb\"><img src=\"../../../../../../numbers/number_sets/real_numbers/__pv_it/theorems/fc1148ea51eaca7fd374f001138032aa36663c7d0/expr.png\" style=\"display:inline;vertical-align:middle;\" /></a></dd>"
      ],
      "text/plain": [
       "<IPython.core.display.HTML object>"
      ]
     },
     "metadata": {},
     "output_type": "display_data"
    },
    {
     "data": {
      "text/html": [
       "<dt><a class=\"ProveItLink\" href=\"../../../../../../numbers/number_sets/real_numbers/_theory_nbs_/proofs/all_in_interval_oc__is__real/thm_proof.ipynb\">proveit.numbers.number_sets.real_numbers.all_in_interval_oc__is__real</a></dt><dd><a class=\"ProveItLink\" href=\"../../../../../../numbers/number_sets/real_numbers/__pv_it/theorems/bf08d3b6ab929156f8775b96e47baa732453bb0b0/expr.ipynb\"><img src=\"../../../../../../numbers/number_sets/real_numbers/__pv_it/theorems/bf08d3b6ab929156f8775b96e47baa732453bb0b0/expr.png\" style=\"display:inline;vertical-align:middle;\" /></a></dd>"
      ],
      "text/plain": [
       "<IPython.core.display.HTML object>"
      ]
     },
     "metadata": {},
     "output_type": "display_data"
    },
    {
     "data": {
      "text/html": [
       "<dt><a class=\"ProveItLink\" href=\"../../../../../../numbers/number_sets/real_numbers/_theory_nbs_/proofs/all_in_interval_oo__is__real/thm_proof.ipynb\">proveit.numbers.number_sets.real_numbers.all_in_interval_oo__is__real</a></dt><dd><a class=\"ProveItLink\" href=\"../../../../../../numbers/number_sets/real_numbers/__pv_it/theorems/f295534bd0687270f7b3e4f32a2fdf8095ca77d20/expr.ipynb\"><img src=\"../../../../../../numbers/number_sets/real_numbers/__pv_it/theorems/f295534bd0687270f7b3e4f32a2fdf8095ca77d20/expr.png\" style=\"display:inline;vertical-align:middle;\" /></a></dd>"
      ],
      "text/plain": [
       "<IPython.core.display.HTML object>"
      ]
     },
     "metadata": {},
     "output_type": "display_data"
    },
    {
     "data": {
      "text/html": [
       "<dt><a class=\"ProveItLink\" href=\"../../../../../../numbers/number_sets/real_numbers/_theory_nbs_/proofs/e_is_real_pos/thm_proof.ipynb\">proveit.numbers.number_sets.real_numbers.e_is_real_pos</a></dt><dd><a class=\"ProveItLink\" href=\"../../../../../../numbers/number_sets/real_numbers/__pv_it/theorems/7afcc24359c2398da237adc3ba003c7be4e9ae440/expr.ipynb\"><img src=\"../../../../../../numbers/number_sets/real_numbers/__pv_it/theorems/7afcc24359c2398da237adc3ba003c7be4e9ae440/expr.png\" style=\"display:inline;vertical-align:middle;\" /></a></dd>"
      ],
      "text/plain": [
       "<IPython.core.display.HTML object>"
      ]
     },
     "metadata": {},
     "output_type": "display_data"
    },
    {
     "data": {
      "text/html": [
       "<dt><a class=\"ProveItLink\" href=\"../../../../../../numbers/number_sets/real_numbers/_theory_nbs_/proofs/in_IntervalCO/thm_proof.ipynb\">proveit.numbers.number_sets.real_numbers.in_IntervalCO</a></dt><dd><a class=\"ProveItLink\" href=\"../../../../../../numbers/number_sets/real_numbers/__pv_it/theorems/ea3c4b3431458c468f948a97f5a7c052c9106b080/expr.ipynb\"><img src=\"../../../../../../numbers/number_sets/real_numbers/__pv_it/theorems/ea3c4b3431458c468f948a97f5a7c052c9106b080/expr.png\" style=\"display:inline;vertical-align:middle;\" /></a></dd>"
      ],
      "text/plain": [
       "<IPython.core.display.HTML object>"
      ]
     },
     "metadata": {},
     "output_type": "display_data"
    },
    {
     "data": {
      "text/html": [
       "<dt><a class=\"ProveItLink\" href=\"../../../../../../numbers/number_sets/real_numbers/_theory_nbs_/proofs/in_IntervalOC/thm_proof.ipynb\">proveit.numbers.number_sets.real_numbers.in_IntervalOC</a></dt><dd><a class=\"ProveItLink\" href=\"../../../../../../numbers/number_sets/real_numbers/__pv_it/theorems/b72e9bedd237cdc384af365d7e3943e19337e7110/expr.ipynb\"><img src=\"../../../../../../numbers/number_sets/real_numbers/__pv_it/theorems/b72e9bedd237cdc384af365d7e3943e19337e7110/expr.png\" style=\"display:inline;vertical-align:middle;\" /></a></dd>"
      ],
      "text/plain": [
       "<IPython.core.display.HTML object>"
      ]
     },
     "metadata": {},
     "output_type": "display_data"
    },
    {
     "data": {
      "text/html": [
       "<dt><a class=\"ProveItLink\" href=\"../../../../../../numbers/number_sets/real_numbers/_theory_nbs_/proofs/in_IntervalOO/thm_proof.ipynb\">proveit.numbers.number_sets.real_numbers.in_IntervalOO</a></dt><dd><a class=\"ProveItLink\" href=\"../../../../../../numbers/number_sets/real_numbers/__pv_it/theorems/1efb7df28568e2c28487045b91d1ffaa1bbc081e0/expr.ipynb\"><img src=\"../../../../../../numbers/number_sets/real_numbers/__pv_it/theorems/1efb7df28568e2c28487045b91d1ffaa1bbc081e0/expr.png\" style=\"display:inline;vertical-align:middle;\" /></a></dd>"
      ],
      "text/plain": [
       "<IPython.core.display.HTML object>"
      ]
     },
     "metadata": {},
     "output_type": "display_data"
    },
    {
     "data": {
      "text/html": [
       "<dt><a class=\"ProveItLink\" href=\"../../../../../../numbers/number_sets/real_numbers/_theory_nbs_/proofs/interval_cc_lower_bound/thm_proof.ipynb\">proveit.numbers.number_sets.real_numbers.interval_cc_lower_bound</a></dt><dd><a class=\"ProveItLink\" href=\"../../../../../../numbers/number_sets/real_numbers/__pv_it/theorems/088bb39806b5057c1d34d4f7260da90c752fd9610/expr.ipynb\"><img src=\"../../../../../../numbers/number_sets/real_numbers/__pv_it/theorems/088bb39806b5057c1d34d4f7260da90c752fd9610/expr.png\" style=\"display:inline;vertical-align:middle;\" /></a></dd>"
      ],
      "text/plain": [
       "<IPython.core.display.HTML object>"
      ]
     },
     "metadata": {},
     "output_type": "display_data"
    },
    {
     "data": {
      "text/html": [
       "<dt><a class=\"ProveItLink\" href=\"../../../../../../numbers/number_sets/real_numbers/_theory_nbs_/proofs/interval_co_lower_bound/thm_proof.ipynb\">proveit.numbers.number_sets.real_numbers.interval_co_lower_bound</a></dt><dd><a class=\"ProveItLink\" href=\"../../../../../../numbers/number_sets/real_numbers/__pv_it/theorems/091fe70d53e55195cb7cfc2939f5a43cbcc519340/expr.ipynb\"><img src=\"../../../../../../numbers/number_sets/real_numbers/__pv_it/theorems/091fe70d53e55195cb7cfc2939f5a43cbcc519340/expr.png\" style=\"display:inline;vertical-align:middle;\" /></a></dd>"
      ],
      "text/plain": [
       "<IPython.core.display.HTML object>"
      ]
     },
     "metadata": {},
     "output_type": "display_data"
    },
    {
     "data": {
      "text/html": [
       "<dt><a class=\"ProveItLink\" href=\"../../../../../../numbers/number_sets/real_numbers/_theory_nbs_/proofs/interval_co_upper_bound/thm_proof.ipynb\">proveit.numbers.number_sets.real_numbers.interval_co_upper_bound</a></dt><dd><a class=\"ProveItLink\" href=\"../../../../../../numbers/number_sets/real_numbers/__pv_it/theorems/f1186e2590ba8238c5d52579e22456e26a54d8150/expr.ipynb\"><img src=\"../../../../../../numbers/number_sets/real_numbers/__pv_it/theorems/f1186e2590ba8238c5d52579e22456e26a54d8150/expr.png\" style=\"display:inline;vertical-align:middle;\" /></a></dd>"
      ],
      "text/plain": [
       "<IPython.core.display.HTML object>"
      ]
     },
     "metadata": {},
     "output_type": "display_data"
    },
    {
     "data": {
      "text/html": [
       "<dt><a class=\"ProveItLink\" href=\"../../../../../../numbers/number_sets/real_numbers/_theory_nbs_/proofs/interval_oc_lower_bound/thm_proof.ipynb\">proveit.numbers.number_sets.real_numbers.interval_oc_lower_bound</a></dt><dd><a class=\"ProveItLink\" href=\"../../../../../../numbers/number_sets/real_numbers/__pv_it/theorems/87e5955f885af0e388d9dec4d8ee1da626f383800/expr.ipynb\"><img src=\"../../../../../../numbers/number_sets/real_numbers/__pv_it/theorems/87e5955f885af0e388d9dec4d8ee1da626f383800/expr.png\" style=\"display:inline;vertical-align:middle;\" /></a></dd>"
      ],
      "text/plain": [
       "<IPython.core.display.HTML object>"
      ]
     },
     "metadata": {},
     "output_type": "display_data"
    },
    {
     "data": {
      "text/html": [
       "<dt><a class=\"ProveItLink\" href=\"../../../../../../numbers/number_sets/real_numbers/_theory_nbs_/proofs/interval_oc_upper_bound/thm_proof.ipynb\">proveit.numbers.number_sets.real_numbers.interval_oc_upper_bound</a></dt><dd><a class=\"ProveItLink\" href=\"../../../../../../numbers/number_sets/real_numbers/__pv_it/theorems/2b846b045b05992bb4caa740ae9f9e585baf60880/expr.ipynb\"><img src=\"../../../../../../numbers/number_sets/real_numbers/__pv_it/theorems/2b846b045b05992bb4caa740ae9f9e585baf60880/expr.png\" style=\"display:inline;vertical-align:middle;\" /></a></dd>"
      ],
      "text/plain": [
       "<IPython.core.display.HTML object>"
      ]
     },
     "metadata": {},
     "output_type": "display_data"
    },
    {
     "data": {
      "text/html": [
       "<dt><a class=\"ProveItLink\" href=\"../../../../../../numbers/number_sets/real_numbers/_theory_nbs_/proofs/interval_oo_lower_bound/thm_proof.ipynb\">proveit.numbers.number_sets.real_numbers.interval_oo_lower_bound</a></dt><dd><a class=\"ProveItLink\" href=\"../../../../../../numbers/number_sets/real_numbers/__pv_it/theorems/13d9e58ac5a27653c5ea29311c594267ee929a550/expr.ipynb\"><img src=\"../../../../../../numbers/number_sets/real_numbers/__pv_it/theorems/13d9e58ac5a27653c5ea29311c594267ee929a550/expr.png\" style=\"display:inline;vertical-align:middle;\" /></a></dd>"
      ],
      "text/plain": [
       "<IPython.core.display.HTML object>"
      ]
     },
     "metadata": {},
     "output_type": "display_data"
    },
    {
     "data": {
      "text/html": [
       "<dt><a class=\"ProveItLink\" href=\"../../../../../../numbers/number_sets/real_numbers/_theory_nbs_/proofs/interval_oo_upper_bound/thm_proof.ipynb\">proveit.numbers.number_sets.real_numbers.interval_oo_upper_bound</a></dt><dd><a class=\"ProveItLink\" href=\"../../../../../../numbers/number_sets/real_numbers/__pv_it/theorems/9d97e0343b690f31bfec58e1a21f3139a25f4db70/expr.ipynb\"><img src=\"../../../../../../numbers/number_sets/real_numbers/__pv_it/theorems/9d97e0343b690f31bfec58e1a21f3139a25f4db70/expr.png\" style=\"display:inline;vertical-align:middle;\" /></a></dd>"
      ],
      "text/plain": [
       "<IPython.core.display.HTML object>"
      ]
     },
     "metadata": {},
     "output_type": "display_data"
    },
    {
     "data": {
      "text/html": [
       "<dt><a class=\"ProveItLink\" href=\"../../../../../../numbers/number_sets/real_numbers/_theory_nbs_/proofs/nat_pos_within_real/thm_proof.ipynb\">proveit.numbers.number_sets.real_numbers.nat_pos_within_real</a></dt><dd><a class=\"ProveItLink\" href=\"../../../../../../numbers/number_sets/real_numbers/__pv_it/theorems/cadda3c3d26446c0177fea32c74c6999415960080/expr.ipynb\"><img src=\"../../../../../../numbers/number_sets/real_numbers/__pv_it/theorems/cadda3c3d26446c0177fea32c74c6999415960080/expr.png\" style=\"display:inline;vertical-align:middle;\" /></a></dd>"
      ],
      "text/plain": [
       "<IPython.core.display.HTML object>"
      ]
     },
     "metadata": {},
     "output_type": "display_data"
    },
    {
     "data": {
      "text/html": [
       "<dt><a class=\"ProveItLink\" href=\"../../../../../../numbers/number_sets/real_numbers/_theory_nbs_/proofs/nonneg_if_in_real_nonneg/thm_proof.ipynb\">proveit.numbers.number_sets.real_numbers.nonneg_if_in_real_nonneg</a></dt><dd><a class=\"ProveItLink\" href=\"../../../../../../numbers/number_sets/real_numbers/__pv_it/theorems/8a8ee12215b64bb91067eb674a5aa946111060970/expr.ipynb\"><img src=\"../../../../../../numbers/number_sets/real_numbers/__pv_it/theorems/8a8ee12215b64bb91067eb674a5aa946111060970/expr.png\" style=\"display:inline;vertical-align:middle;\" /></a></dd>"
      ],
      "text/plain": [
       "<IPython.core.display.HTML object>"
      ]
     },
     "metadata": {},
     "output_type": "display_data"
    },
    {
     "data": {
      "text/html": [
       "<dt><a class=\"ProveItLink\" href=\"../../../../../../numbers/number_sets/real_numbers/_theory_nbs_/proofs/nonneg_real_is_real_nonneg/thm_proof.ipynb\">proveit.numbers.number_sets.real_numbers.nonneg_real_is_real_nonneg</a></dt><dd><a class=\"ProveItLink\" href=\"../../../../../../numbers/number_sets/real_numbers/__pv_it/theorems/7be434bfc78100962a6c4f3f600a9aad8877d3410/expr.ipynb\"><img src=\"../../../../../../numbers/number_sets/real_numbers/__pv_it/theorems/7be434bfc78100962a6c4f3f600a9aad8877d3410/expr.png\" style=\"display:inline;vertical-align:middle;\" /></a></dd>"
      ],
      "text/plain": [
       "<IPython.core.display.HTML object>"
      ]
     },
     "metadata": {},
     "output_type": "display_data"
    },
    {
     "data": {
      "text/html": [
       "<dt><a class=\"ProveItLink\" href=\"../../../../../../numbers/number_sets/real_numbers/_theory_nbs_/proofs/nonzero_if_in_real_nonzero/thm_proof.ipynb\">proveit.numbers.number_sets.real_numbers.nonzero_if_in_real_nonzero</a></dt><dd><a class=\"ProveItLink\" href=\"../../../../../../numbers/number_sets/real_numbers/__pv_it/theorems/1a2b5e2421184ca044796d0e3c9d6495246f69ea0/expr.ipynb\"><img src=\"../../../../../../numbers/number_sets/real_numbers/__pv_it/theorems/1a2b5e2421184ca044796d0e3c9d6495246f69ea0/expr.png\" style=\"display:inline;vertical-align:middle;\" /></a></dd>"
      ],
      "text/plain": [
       "<IPython.core.display.HTML object>"
      ]
     },
     "metadata": {},
     "output_type": "display_data"
    },
    {
     "data": {
      "text/html": [
       "<dt><a class=\"ProveItLink\" href=\"../../../../../../numbers/number_sets/real_numbers/_theory_nbs_/proofs/not_int_if_not_int_in_interval/thm_proof.ipynb\">proveit.numbers.number_sets.real_numbers.not_int_if_not_int_in_interval</a></dt><dd><a class=\"ProveItLink\" href=\"../../../../../../numbers/number_sets/real_numbers/__pv_it/theorems/a449ea9c32c8f3abd674e31a1bac11ba7856f2350/expr.ipynb\"><img src=\"../../../../../../numbers/number_sets/real_numbers/__pv_it/theorems/a449ea9c32c8f3abd674e31a1bac11ba7856f2350/expr.png\" style=\"display:inline;vertical-align:middle;\" /></a></dd>"
      ],
      "text/plain": [
       "<IPython.core.display.HTML object>"
      ]
     },
     "metadata": {},
     "output_type": "display_data"
    },
    {
     "data": {
      "text/html": [
       "<dt><a class=\"ProveItLink\" href=\"../../../../../../numbers/number_sets/real_numbers/_theory_nbs_/proofs/pi_is_real_pos/thm_proof.ipynb\">proveit.numbers.number_sets.real_numbers.pi_is_real_pos</a></dt><dd><a class=\"ProveItLink\" href=\"../../../../../../numbers/number_sets/real_numbers/__pv_it/theorems/adbf0748b19a64bccd8ce23fcb48fca46d762db70/expr.ipynb\"><img src=\"../../../../../../numbers/number_sets/real_numbers/__pv_it/theorems/adbf0748b19a64bccd8ce23fcb48fca46d762db70/expr.png\" style=\"display:inline;vertical-align:middle;\" /></a></dd>"
      ],
      "text/plain": [
       "<IPython.core.display.HTML object>"
      ]
     },
     "metadata": {},
     "output_type": "display_data"
    },
    {
     "data": {
      "text/html": [
       "<dt><a class=\"ProveItLink\" href=\"../../../../../../numbers/number_sets/real_numbers/_theory_nbs_/proofs/pos_real_is_real_pos/thm_proof.ipynb\">proveit.numbers.number_sets.real_numbers.pos_real_is_real_pos</a></dt><dd><a class=\"ProveItLink\" href=\"../../../../../../numbers/number_sets/real_numbers/__pv_it/theorems/5342eeb9c659859a6b9a5682d3cbd234e0ed89430/expr.ipynb\"><img src=\"../../../../../../numbers/number_sets/real_numbers/__pv_it/theorems/5342eeb9c659859a6b9a5682d3cbd234e0ed89430/expr.png\" style=\"display:inline;vertical-align:middle;\" /></a></dd>"
      ],
      "text/plain": [
       "<IPython.core.display.HTML object>"
      ]
     },
     "metadata": {},
     "output_type": "display_data"
    },
    {
     "data": {
      "text/html": [
       "<dt><a class=\"ProveItLink\" href=\"../../../../../../numbers/number_sets/real_numbers/_theory_nbs_/proofs/positive_if_in_real_pos/thm_proof.ipynb\">proveit.numbers.number_sets.real_numbers.positive_if_in_real_pos</a></dt><dd><a class=\"ProveItLink\" href=\"../../../../../../numbers/number_sets/real_numbers/__pv_it/theorems/fa0861a4dbbaf1c4d7fc59487e892e46cb79ff190/expr.ipynb\"><img src=\"../../../../../../numbers/number_sets/real_numbers/__pv_it/theorems/fa0861a4dbbaf1c4d7fc59487e892e46cb79ff190/expr.png\" style=\"display:inline;vertical-align:middle;\" /></a></dd>"
      ],
      "text/plain": [
       "<IPython.core.display.HTML object>"
      ]
     },
     "metadata": {},
     "output_type": "display_data"
    },
    {
     "data": {
      "text/html": [
       "<dt><a class=\"ProveItLink\" href=\"../../../../../../numbers/number_sets/real_numbers/_theory_nbs_/proofs/rational_neg_within_real_neg/thm_proof.ipynb\">proveit.numbers.number_sets.real_numbers.rational_neg_within_real_neg</a></dt><dd><a class=\"ProveItLink\" href=\"../../../../../../numbers/number_sets/real_numbers/__pv_it/theorems/166d7560fcdc666cc771ac2f94f98641d0caf3420/expr.ipynb\"><img src=\"../../../../../../numbers/number_sets/real_numbers/__pv_it/theorems/166d7560fcdc666cc771ac2f94f98641d0caf3420/expr.png\" style=\"display:inline;vertical-align:middle;\" /></a></dd>"
      ],
      "text/plain": [
       "<IPython.core.display.HTML object>"
      ]
     },
     "metadata": {},
     "output_type": "display_data"
    },
    {
     "data": {
      "text/html": [
       "<dt><a class=\"ProveItLink\" href=\"../../../../../../numbers/number_sets/real_numbers/_theory_nbs_/proofs/rational_nonneg_within_real_nonneg/thm_proof.ipynb\">proveit.numbers.number_sets.real_numbers.rational_nonneg_within_real_nonneg</a></dt><dd><a class=\"ProveItLink\" href=\"../../../../../../numbers/number_sets/real_numbers/__pv_it/theorems/417637f9e31922975ac5f07fecb3d03548ded7ce0/expr.ipynb\"><img src=\"../../../../../../numbers/number_sets/real_numbers/__pv_it/theorems/417637f9e31922975ac5f07fecb3d03548ded7ce0/expr.png\" style=\"display:inline;vertical-align:middle;\" /></a></dd>"
      ],
      "text/plain": [
       "<IPython.core.display.HTML object>"
      ]
     },
     "metadata": {},
     "output_type": "display_data"
    },
    {
     "data": {
      "text/html": [
       "<dt><a class=\"ProveItLink\" href=\"../../../../../../numbers/number_sets/real_numbers/_theory_nbs_/proofs/rational_nonzero_within_real_nonzero/thm_proof.ipynb\">proveit.numbers.number_sets.real_numbers.rational_nonzero_within_real_nonzero</a></dt><dd><a class=\"ProveItLink\" href=\"../../../../../../numbers/number_sets/real_numbers/__pv_it/theorems/bb284ca01b44c7663f418b54954256ec3636dfce0/expr.ipynb\"><img src=\"../../../../../../numbers/number_sets/real_numbers/__pv_it/theorems/bb284ca01b44c7663f418b54954256ec3636dfce0/expr.png\" style=\"display:inline;vertical-align:middle;\" /></a></dd>"
      ],
      "text/plain": [
       "<IPython.core.display.HTML object>"
      ]
     },
     "metadata": {},
     "output_type": "display_data"
    },
    {
     "data": {
      "text/html": [
       "<dt><a class=\"ProveItLink\" href=\"../../../../../../numbers/number_sets/real_numbers/_theory_nbs_/proofs/rational_pos_within_real_pos/thm_proof.ipynb\">proveit.numbers.number_sets.real_numbers.rational_pos_within_real_pos</a></dt><dd><a class=\"ProveItLink\" href=\"../../../../../../numbers/number_sets/real_numbers/__pv_it/theorems/c5efea99790203f286dfb04b2f4d0726afb5dda10/expr.ipynb\"><img src=\"../../../../../../numbers/number_sets/real_numbers/__pv_it/theorems/c5efea99790203f286dfb04b2f4d0726afb5dda10/expr.png\" style=\"display:inline;vertical-align:middle;\" /></a></dd>"
      ],
      "text/plain": [
       "<IPython.core.display.HTML object>"
      ]
     },
     "metadata": {},
     "output_type": "display_data"
    },
    {
     "data": {
      "text/html": [
       "<dt><a class=\"ProveItLink\" href=\"../../../../../../numbers/number_sets/real_numbers/_theory_nbs_/proofs/rational_within_real/thm_proof.ipynb\">proveit.numbers.number_sets.real_numbers.rational_within_real</a></dt><dd><a class=\"ProveItLink\" href=\"../../../../../../numbers/number_sets/real_numbers/__pv_it/theorems/e682cd49905f8b52fcd025dd4d0c53b5fa6a75840/expr.ipynb\"><img src=\"../../../../../../numbers/number_sets/real_numbers/__pv_it/theorems/e682cd49905f8b52fcd025dd4d0c53b5fa6a75840/expr.png\" style=\"display:inline;vertical-align:middle;\" /></a></dd>"
      ],
      "text/plain": [
       "<IPython.core.display.HTML object>"
      ]
     },
     "metadata": {},
     "output_type": "display_data"
    },
    {
     "data": {
      "text/html": [
       "<dt><a class=\"ProveItLink\" href=\"../../../../../../numbers/number_sets/real_numbers/_theory_nbs_/proofs/real_neg_within_real/thm_proof.ipynb\">proveit.numbers.number_sets.real_numbers.real_neg_within_real</a></dt><dd><a class=\"ProveItLink\" href=\"../../../../../../numbers/number_sets/real_numbers/__pv_it/theorems/60b0a65eec5d1057a84ba2045c9a2537540b1c380/expr.ipynb\"><img src=\"../../../../../../numbers/number_sets/real_numbers/__pv_it/theorems/60b0a65eec5d1057a84ba2045c9a2537540b1c380/expr.png\" style=\"display:inline;vertical-align:middle;\" /></a></dd>"
      ],
      "text/plain": [
       "<IPython.core.display.HTML object>"
      ]
     },
     "metadata": {},
     "output_type": "display_data"
    },
    {
     "data": {
      "text/html": [
       "<dt><a class=\"ProveItLink\" href=\"../../../../../../numbers/number_sets/real_numbers/_theory_nbs_/proofs/real_nonneg_within_real/thm_proof.ipynb\">proveit.numbers.number_sets.real_numbers.real_nonneg_within_real</a></dt><dd><a class=\"ProveItLink\" href=\"../../../../../../numbers/number_sets/real_numbers/__pv_it/theorems/2c5554d3cc74fc3c7588490932727e5cf6a37cf20/expr.ipynb\"><img src=\"../../../../../../numbers/number_sets/real_numbers/__pv_it/theorems/2c5554d3cc74fc3c7588490932727e5cf6a37cf20/expr.png\" style=\"display:inline;vertical-align:middle;\" /></a></dd>"
      ],
      "text/plain": [
       "<IPython.core.display.HTML object>"
      ]
     },
     "metadata": {},
     "output_type": "display_data"
    },
    {
     "data": {
      "text/html": [
       "<dt><a class=\"ProveItLink\" href=\"../../../../../../numbers/number_sets/real_numbers/_theory_nbs_/proofs/real_pos_within_real/thm_proof.ipynb\">proveit.numbers.number_sets.real_numbers.real_pos_within_real</a></dt><dd><a class=\"ProveItLink\" href=\"../../../../../../numbers/number_sets/real_numbers/__pv_it/theorems/d0c7a1c9e90d22c65f82916658888d722f5679650/expr.ipynb\"><img src=\"../../../../../../numbers/number_sets/real_numbers/__pv_it/theorems/d0c7a1c9e90d22c65f82916658888d722f5679650/expr.png\" style=\"display:inline;vertical-align:middle;\" /></a></dd>"
      ],
      "text/plain": [
       "<IPython.core.display.HTML object>"
      ]
     },
     "metadata": {},
     "output_type": "display_data"
    },
    {
     "data": {
      "text/html": [
       "<dt><a class=\"ProveItLink\" href=\"../../../../../../numbers/number_sets/real_numbers/_theory_nbs_/proofs/real_pos_within_real_nonneg/thm_proof.ipynb\">proveit.numbers.number_sets.real_numbers.real_pos_within_real_nonneg</a></dt><dd><a class=\"ProveItLink\" href=\"../../../../../../numbers/number_sets/real_numbers/__pv_it/theorems/0692ca38afebcac3ae98f4963ae75378fb42705f0/expr.ipynb\"><img src=\"../../../../../../numbers/number_sets/real_numbers/__pv_it/theorems/0692ca38afebcac3ae98f4963ae75378fb42705f0/expr.png\" style=\"display:inline;vertical-align:middle;\" /></a></dd>"
      ],
      "text/plain": [
       "<IPython.core.display.HTML object>"
      ]
     },
     "metadata": {},
     "output_type": "display_data"
    },
    {
     "data": {
      "text/html": [
       "<dt><a class=\"ProveItLink\" href=\"../../../../../../numbers/number_sets/real_numbers/_theory_nbs_/proofs/real_pos_within_real_nonzero/thm_proof.ipynb\">proveit.numbers.number_sets.real_numbers.real_pos_within_real_nonzero</a></dt><dd><a class=\"ProveItLink\" href=\"../../../../../../numbers/number_sets/real_numbers/__pv_it/theorems/f89b9f632c0f84dd23d279eec72be9d881ac30700/expr.ipynb\"><img src=\"../../../../../../numbers/number_sets/real_numbers/__pv_it/theorems/f89b9f632c0f84dd23d279eec72be9d881ac30700/expr.png\" style=\"display:inline;vertical-align:middle;\" /></a></dd>"
      ],
      "text/plain": [
       "<IPython.core.display.HTML object>"
      ]
     },
     "metadata": {},
     "output_type": "display_data"
    },
    {
     "data": {
      "text/html": [
       "<dt><a class=\"ProveItLink\" href=\"../../../../../../numbers/number_sets/real_numbers/_theory_nbs_/proofs/relax_IntervalCO/thm_proof.ipynb\">proveit.numbers.number_sets.real_numbers.relax_IntervalCO</a></dt><dd><a class=\"ProveItLink\" href=\"../../../../../../numbers/number_sets/real_numbers/__pv_it/theorems/d786628b7ab890b74dea0a4de1bf505b88418ae90/expr.ipynb\"><img src=\"../../../../../../numbers/number_sets/real_numbers/__pv_it/theorems/d786628b7ab890b74dea0a4de1bf505b88418ae90/expr.png\" style=\"display:inline;vertical-align:middle;\" /></a></dd>"
      ],
      "text/plain": [
       "<IPython.core.display.HTML object>"
      ]
     },
     "metadata": {},
     "output_type": "display_data"
    },
    {
     "data": {
      "text/html": [
       "<dt><a class=\"ProveItLink\" href=\"../../../../../../numbers/number_sets/real_numbers/_theory_nbs_/proofs/rescale_interval_co_membership/thm_proof.ipynb\">proveit.numbers.number_sets.real_numbers.rescale_interval_co_membership</a></dt><dd><a class=\"ProveItLink\" href=\"../../../../../../numbers/number_sets/real_numbers/__pv_it/theorems/4433f1f33ae0594d6531362e979b1fdd107d88ce0/expr.ipynb\"><img src=\"../../../../../../numbers/number_sets/real_numbers/__pv_it/theorems/4433f1f33ae0594d6531362e979b1fdd107d88ce0/expr.png\" style=\"display:inline;vertical-align:middle;\" /></a></dd>"
      ],
      "text/plain": [
       "<IPython.core.display.HTML object>"
      ]
     },
     "metadata": {},
     "output_type": "display_data"
    },
    {
     "data": {
      "text/html": [
       "<dt><a class=\"ProveItLink\" href=\"../../../../../../numbers/number_sets/real_numbers/_theory_nbs_/proofs/zero_is_real/thm_proof.ipynb\">proveit.numbers.number_sets.real_numbers.zero_is_real</a></dt><dd><a class=\"ProveItLink\" href=\"../../../../../../numbers/number_sets/real_numbers/__pv_it/theorems/d20232590464c9f18a8a98a1a535965bd7c0b5f60/expr.ipynb\"><img src=\"../../../../../../numbers/number_sets/real_numbers/__pv_it/theorems/d20232590464c9f18a8a98a1a535965bd7c0b5f60/expr.png\" style=\"display:inline;vertical-align:middle;\" /></a></dd>"
      ],
      "text/plain": [
       "<IPython.core.display.HTML object>"
      ]
     },
     "metadata": {},
     "output_type": "display_data"
    },
    {
     "data": {
      "text/html": [
       "<dt><a class=\"ProveItLink\" href=\"../../../../../../numbers/numerals/decimals/_theory_nbs_/proofs/add_1_1/thm_proof.ipynb\">proveit.numbers.numerals.decimals.add_1_1</a></dt><dd><a class=\"ProveItLink\" href=\"../../../../../../numbers/numerals/decimals/__pv_it/theorems/e4f155feff3a69c50e056f9ebb70a709bdfc1a520/expr.ipynb\"><img src=\"../../../../../../numbers/numerals/decimals/__pv_it/theorems/e4f155feff3a69c50e056f9ebb70a709bdfc1a520/expr.png\" style=\"display:inline;vertical-align:middle;\" /></a></dd>"
      ],
      "text/plain": [
       "<IPython.core.display.HTML object>"
      ]
     },
     "metadata": {},
     "output_type": "display_data"
    },
    {
     "data": {
      "text/html": [
       "<dt><a class=\"ProveItLink\" href=\"../../../../../../numbers/numerals/decimals/_theory_nbs_/proofs/add_2_1/thm_proof.ipynb\">proveit.numbers.numerals.decimals.add_2_1</a></dt><dd><a class=\"ProveItLink\" href=\"../../../../../../numbers/numerals/decimals/__pv_it/theorems/3cf257bc8770a5704f6e15f77739460894a274650/expr.ipynb\"><img src=\"../../../../../../numbers/numerals/decimals/__pv_it/theorems/3cf257bc8770a5704f6e15f77739460894a274650/expr.png\" style=\"display:inline;vertical-align:middle;\" /></a></dd>"
      ],
      "text/plain": [
       "<IPython.core.display.HTML object>"
      ]
     },
     "metadata": {},
     "output_type": "display_data"
    },
    {
     "data": {
      "text/html": [
       "<dt><a class=\"ProveItLink\" href=\"../../../../../../numbers/numerals/decimals/_theory_nbs_/proofs/add_2_2/thm_proof.ipynb\">proveit.numbers.numerals.decimals.add_2_2</a></dt><dd><a class=\"ProveItLink\" href=\"../../../../../../numbers/numerals/decimals/__pv_it/theorems/ff86710a6f3c2bd365ba9cb0ef11a02baf1358980/expr.ipynb\"><img src=\"../../../../../../numbers/numerals/decimals/__pv_it/theorems/ff86710a6f3c2bd365ba9cb0ef11a02baf1358980/expr.png\" style=\"display:inline;vertical-align:middle;\" /></a></dd>"
      ],
      "text/plain": [
       "<IPython.core.display.HTML object>"
      ]
     },
     "metadata": {},
     "output_type": "display_data"
    },
    {
     "data": {
      "text/html": [
       "<dt><a class=\"ProveItLink\" href=\"../../../../../../numbers/numerals/decimals/_theory_nbs_/proofs/add_3_1/thm_proof.ipynb\">proveit.numbers.numerals.decimals.add_3_1</a></dt><dd><a class=\"ProveItLink\" href=\"../../../../../../numbers/numerals/decimals/__pv_it/theorems/e527e70e7c6b3b4f50652871d571f5b978836f3d0/expr.ipynb\"><img src=\"../../../../../../numbers/numerals/decimals/__pv_it/theorems/e527e70e7c6b3b4f50652871d571f5b978836f3d0/expr.png\" style=\"display:inline;vertical-align:middle;\" /></a></dd>"
      ],
      "text/plain": [
       "<IPython.core.display.HTML object>"
      ]
     },
     "metadata": {},
     "output_type": "display_data"
    },
    {
     "data": {
      "text/html": [
       "<dt><a class=\"ProveItLink\" href=\"../../../../../../numbers/numerals/decimals/_theory_nbs_/proofs/add_4_4/thm_proof.ipynb\">proveit.numbers.numerals.decimals.add_4_4</a></dt><dd><a class=\"ProveItLink\" href=\"../../../../../../numbers/numerals/decimals/__pv_it/theorems/0c5b9c331fa94ee00263a241ea6d426381438db20/expr.ipynb\"><img src=\"../../../../../../numbers/numerals/decimals/__pv_it/theorems/0c5b9c331fa94ee00263a241ea6d426381438db20/expr.png\" style=\"display:inline;vertical-align:middle;\" /></a></dd>"
      ],
      "text/plain": [
       "<IPython.core.display.HTML object>"
      ]
     },
     "metadata": {},
     "output_type": "display_data"
    },
    {
     "data": {
      "text/html": [
       "<dt><a class=\"ProveItLink\" href=\"../../../../../../numbers/numerals/decimals/_theory_nbs_/proofs/less_0_1/thm_proof.ipynb\">proveit.numbers.numerals.decimals.less_0_1</a></dt><dd><a class=\"ProveItLink\" href=\"../../../../../../numbers/numerals/decimals/__pv_it/theorems/f31616e7086e927022af06d4950ace2fbb2976240/expr.ipynb\"><img src=\"../../../../../../numbers/numerals/decimals/__pv_it/theorems/f31616e7086e927022af06d4950ace2fbb2976240/expr.png\" style=\"display:inline;vertical-align:middle;\" /></a></dd>"
      ],
      "text/plain": [
       "<IPython.core.display.HTML object>"
      ]
     },
     "metadata": {},
     "output_type": "display_data"
    },
    {
     "data": {
      "text/html": [
       "<dt><a class=\"ProveItLink\" href=\"../../../../../../numbers/numerals/decimals/_theory_nbs_/proofs/less_1_2/thm_proof.ipynb\">proveit.numbers.numerals.decimals.less_1_2</a></dt><dd><a class=\"ProveItLink\" href=\"../../../../../../numbers/numerals/decimals/__pv_it/theorems/87469a9c68ae71903426a57864d5192167a8a75c0/expr.ipynb\"><img src=\"../../../../../../numbers/numerals/decimals/__pv_it/theorems/87469a9c68ae71903426a57864d5192167a8a75c0/expr.png\" style=\"display:inline;vertical-align:middle;\" /></a></dd>"
      ],
      "text/plain": [
       "<IPython.core.display.HTML object>"
      ]
     },
     "metadata": {},
     "output_type": "display_data"
    },
    {
     "data": {
      "text/html": [
       "<dt><a class=\"ProveItLink\" href=\"../../../../../../numbers/numerals/decimals/_theory_nbs_/proofs/mult_2_2/thm_proof.ipynb\">proveit.numbers.numerals.decimals.mult_2_2</a></dt><dd><a class=\"ProveItLink\" href=\"../../../../../../numbers/numerals/decimals/__pv_it/theorems/8e0e97e09a85c56a96da765fc0f05e51646050d20/expr.ipynb\"><img src=\"../../../../../../numbers/numerals/decimals/__pv_it/theorems/8e0e97e09a85c56a96da765fc0f05e51646050d20/expr.png\" style=\"display:inline;vertical-align:middle;\" /></a></dd>"
      ],
      "text/plain": [
       "<IPython.core.display.HTML object>"
      ]
     },
     "metadata": {},
     "output_type": "display_data"
    },
    {
     "data": {
      "text/html": [
       "<dt><a class=\"ProveItLink\" href=\"../../../../../../numbers/numerals/decimals/_theory_nbs_/proofs/mult_4_4/thm_proof.ipynb\">proveit.numbers.numerals.decimals.mult_4_4</a></dt><dd><a class=\"ProveItLink\" href=\"../../../../../../numbers/numerals/decimals/__pv_it/theorems/daa2027ca3b53bed4698a60c670db976b9933a4c0/expr.ipynb\"><img src=\"../../../../../../numbers/numerals/decimals/__pv_it/theorems/daa2027ca3b53bed4698a60c670db976b9933a4c0/expr.png\" style=\"display:inline;vertical-align:middle;\" /></a></dd>"
      ],
      "text/plain": [
       "<IPython.core.display.HTML object>"
      ]
     },
     "metadata": {},
     "output_type": "display_data"
    },
    {
     "data": {
      "text/html": [
       "<dt><a class=\"ProveItLink\" href=\"../../../../../../numbers/numerals/decimals/_theory_nbs_/proofs/mult_8_2/thm_proof.ipynb\">proveit.numbers.numerals.decimals.mult_8_2</a></dt><dd><a class=\"ProveItLink\" href=\"../../../../../../numbers/numerals/decimals/__pv_it/theorems/ef56d598f3e79836e9305766ec76f0567c653e160/expr.ipynb\"><img src=\"../../../../../../numbers/numerals/decimals/__pv_it/theorems/ef56d598f3e79836e9305766ec76f0567c653e160/expr.png\" style=\"display:inline;vertical-align:middle;\" /></a></dd>"
      ],
      "text/plain": [
       "<IPython.core.display.HTML object>"
      ]
     },
     "metadata": {},
     "output_type": "display_data"
    },
    {
     "data": {
      "text/html": [
       "<dt><a class=\"ProveItLink\" href=\"../../../../../../numbers/numerals/decimals/_theory_nbs_/proofs/nat3/thm_proof.ipynb\">proveit.numbers.numerals.decimals.nat3</a></dt><dd><a class=\"ProveItLink\" href=\"../../../../../../numbers/numerals/decimals/__pv_it/theorems/460c23cdbd64b08ccacdbdc6b3661919426e237f0/expr.ipynb\"><img src=\"../../../../../../numbers/numerals/decimals/__pv_it/theorems/460c23cdbd64b08ccacdbdc6b3661919426e237f0/expr.png\" style=\"display:inline;vertical-align:middle;\" /></a></dd>"
      ],
      "text/plain": [
       "<IPython.core.display.HTML object>"
      ]
     },
     "metadata": {},
     "output_type": "display_data"
    },
    {
     "data": {
      "text/html": [
       "<dt><a class=\"ProveItLink\" href=\"../../../../../../numbers/numerals/decimals/_theory_nbs_/proofs/nat4/thm_proof.ipynb\">proveit.numbers.numerals.decimals.nat4</a></dt><dd><a class=\"ProveItLink\" href=\"../../../../../../numbers/numerals/decimals/__pv_it/theorems/5cf9097f623478f61147fb5f5c8bbd61d83cfe3a0/expr.ipynb\"><img src=\"../../../../../../numbers/numerals/decimals/__pv_it/theorems/5cf9097f623478f61147fb5f5c8bbd61d83cfe3a0/expr.png\" style=\"display:inline;vertical-align:middle;\" /></a></dd>"
      ],
      "text/plain": [
       "<IPython.core.display.HTML object>"
      ]
     },
     "metadata": {},
     "output_type": "display_data"
    },
    {
     "data": {
      "text/html": [
       "<dt><a class=\"ProveItLink\" href=\"../../../../../../numbers/numerals/decimals/_theory_nbs_/proofs/nat5/thm_proof.ipynb\">proveit.numbers.numerals.decimals.nat5</a></dt><dd><a class=\"ProveItLink\" href=\"../../../../../../numbers/numerals/decimals/__pv_it/theorems/508b27c60c15225368b6f1207f71166a39da216d0/expr.ipynb\"><img src=\"../../../../../../numbers/numerals/decimals/__pv_it/theorems/508b27c60c15225368b6f1207f71166a39da216d0/expr.png\" style=\"display:inline;vertical-align:middle;\" /></a></dd>"
      ],
      "text/plain": [
       "<IPython.core.display.HTML object>"
      ]
     },
     "metadata": {},
     "output_type": "display_data"
    },
    {
     "data": {
      "text/html": [
       "<dt><a class=\"ProveItLink\" href=\"../../../../../../numbers/numerals/decimals/_theory_nbs_/proofs/nat6/thm_proof.ipynb\">proveit.numbers.numerals.decimals.nat6</a></dt><dd><a class=\"ProveItLink\" href=\"../../../../../../numbers/numerals/decimals/__pv_it/theorems/e8c4ac0b8d6c7ee7c2032b056029bbdf8777001e0/expr.ipynb\"><img src=\"../../../../../../numbers/numerals/decimals/__pv_it/theorems/e8c4ac0b8d6c7ee7c2032b056029bbdf8777001e0/expr.png\" style=\"display:inline;vertical-align:middle;\" /></a></dd>"
      ],
      "text/plain": [
       "<IPython.core.display.HTML object>"
      ]
     },
     "metadata": {},
     "output_type": "display_data"
    },
    {
     "data": {
      "text/html": [
       "<dt><a class=\"ProveItLink\" href=\"../../../../../../numbers/numerals/decimals/_theory_nbs_/proofs/nat8/thm_proof.ipynb\">proveit.numbers.numerals.decimals.nat8</a></dt><dd><a class=\"ProveItLink\" href=\"../../../../../../numbers/numerals/decimals/__pv_it/theorems/924e8f1feb291384296994134aa906fc57a582220/expr.ipynb\"><img src=\"../../../../../../numbers/numerals/decimals/__pv_it/theorems/924e8f1feb291384296994134aa906fc57a582220/expr.png\" style=\"display:inline;vertical-align:middle;\" /></a></dd>"
      ],
      "text/plain": [
       "<IPython.core.display.HTML object>"
      ]
     },
     "metadata": {},
     "output_type": "display_data"
    },
    {
     "data": {
      "text/html": [
       "<dt><a class=\"ProveItLink\" href=\"../../../../../../numbers/numerals/decimals/_theory_nbs_/proofs/posnat1/thm_proof.ipynb\">proveit.numbers.numerals.decimals.posnat1</a></dt><dd><a class=\"ProveItLink\" href=\"../../../../../../numbers/numerals/decimals/__pv_it/theorems/bc756b88629195b95a8093862c53b2b7873d42670/expr.ipynb\"><img src=\"../../../../../../numbers/numerals/decimals/__pv_it/theorems/bc756b88629195b95a8093862c53b2b7873d42670/expr.png\" style=\"display:inline;vertical-align:middle;\" /></a></dd>"
      ],
      "text/plain": [
       "<IPython.core.display.HTML object>"
      ]
     },
     "metadata": {},
     "output_type": "display_data"
    },
    {
     "data": {
      "text/html": [
       "<dt><a class=\"ProveItLink\" href=\"../../../../../../numbers/numerals/decimals/_theory_nbs_/proofs/posnat2/thm_proof.ipynb\">proveit.numbers.numerals.decimals.posnat2</a></dt><dd><a class=\"ProveItLink\" href=\"../../../../../../numbers/numerals/decimals/__pv_it/theorems/aa5f8ea7aa8d661558ddef72abb6b4f0fac781ac0/expr.ipynb\"><img src=\"../../../../../../numbers/numerals/decimals/__pv_it/theorems/aa5f8ea7aa8d661558ddef72abb6b4f0fac781ac0/expr.png\" style=\"display:inline;vertical-align:middle;\" /></a></dd>"
      ],
      "text/plain": [
       "<IPython.core.display.HTML object>"
      ]
     },
     "metadata": {},
     "output_type": "display_data"
    },
    {
     "data": {
      "text/html": [
       "<dt><a class=\"ProveItLink\" href=\"../../../../../../numbers/numerals/decimals/_theory_nbs_/proofs/posnat3/thm_proof.ipynb\">proveit.numbers.numerals.decimals.posnat3</a></dt><dd><a class=\"ProveItLink\" href=\"../../../../../../numbers/numerals/decimals/__pv_it/theorems/7a4601a478f57bc7cfab499ee985add193b1e1cf0/expr.ipynb\"><img src=\"../../../../../../numbers/numerals/decimals/__pv_it/theorems/7a4601a478f57bc7cfab499ee985add193b1e1cf0/expr.png\" style=\"display:inline;vertical-align:middle;\" /></a></dd>"
      ],
      "text/plain": [
       "<IPython.core.display.HTML object>"
      ]
     },
     "metadata": {},
     "output_type": "display_data"
    },
    {
     "data": {
      "text/html": [
       "<dt><a class=\"ProveItLink\" href=\"../../../../../../numbers/numerals/decimals/_theory_nbs_/proofs/posnat4/thm_proof.ipynb\">proveit.numbers.numerals.decimals.posnat4</a></dt><dd><a class=\"ProveItLink\" href=\"../../../../../../numbers/numerals/decimals/__pv_it/theorems/9fb878ebb9df9f48a7070cb3927b54e8dbf9fcc20/expr.ipynb\"><img src=\"../../../../../../numbers/numerals/decimals/__pv_it/theorems/9fb878ebb9df9f48a7070cb3927b54e8dbf9fcc20/expr.png\" style=\"display:inline;vertical-align:middle;\" /></a></dd>"
      ],
      "text/plain": [
       "<IPython.core.display.HTML object>"
      ]
     },
     "metadata": {},
     "output_type": "display_data"
    },
    {
     "data": {
      "text/html": [
       "<dt><a class=\"ProveItLink\" href=\"../../../../../../numbers/numerals/decimals/_theory_nbs_/proofs/posnat5/thm_proof.ipynb\">proveit.numbers.numerals.decimals.posnat5</a></dt><dd><a class=\"ProveItLink\" href=\"../../../../../../numbers/numerals/decimals/__pv_it/theorems/64bea1f24fa8c7c62f765c3514b0a88ce35c9cd50/expr.ipynb\"><img src=\"../../../../../../numbers/numerals/decimals/__pv_it/theorems/64bea1f24fa8c7c62f765c3514b0a88ce35c9cd50/expr.png\" style=\"display:inline;vertical-align:middle;\" /></a></dd>"
      ],
      "text/plain": [
       "<IPython.core.display.HTML object>"
      ]
     },
     "metadata": {},
     "output_type": "display_data"
    },
    {
     "data": {
      "text/html": [
       "<dt><a class=\"ProveItLink\" href=\"../../../../../../numbers/numerals/decimals/_theory_nbs_/proofs/posnat6/thm_proof.ipynb\">proveit.numbers.numerals.decimals.posnat6</a></dt><dd><a class=\"ProveItLink\" href=\"../../../../../../numbers/numerals/decimals/__pv_it/theorems/bed4e9364b1ffbea8aaa747774445a8b7917b6d20/expr.ipynb\"><img src=\"../../../../../../numbers/numerals/decimals/__pv_it/theorems/bed4e9364b1ffbea8aaa747774445a8b7917b6d20/expr.png\" style=\"display:inline;vertical-align:middle;\" /></a></dd>"
      ],
      "text/plain": [
       "<IPython.core.display.HTML object>"
      ]
     },
     "metadata": {},
     "output_type": "display_data"
    },
    {
     "data": {
      "text/html": [
       "<dt><a class=\"ProveItLink\" href=\"../../../../../../numbers/numerals/decimals/_theory_nbs_/proofs/posnat8/thm_proof.ipynb\">proveit.numbers.numerals.decimals.posnat8</a></dt><dd><a class=\"ProveItLink\" href=\"../../../../../../numbers/numerals/decimals/__pv_it/theorems/9e155f4532f574d3b3497f6fadbb97dee07e9ae00/expr.ipynb\"><img src=\"../../../../../../numbers/numerals/decimals/__pv_it/theorems/9e155f4532f574d3b3497f6fadbb97dee07e9ae00/expr.png\" style=\"display:inline;vertical-align:middle;\" /></a></dd>"
      ],
      "text/plain": [
       "<IPython.core.display.HTML object>"
      ]
     },
     "metadata": {},
     "output_type": "display_data"
    },
    {
     "data": {
      "text/html": [
       "<dt><a class=\"ProveItLink\" href=\"../../../../../../numbers/numerals/decimals/_theory_nbs_/proofs/reduce_2_repeats/thm_proof.ipynb\">proveit.numbers.numerals.decimals.reduce_2_repeats</a></dt><dd><a class=\"ProveItLink\" href=\"../../../../../../numbers/numerals/decimals/__pv_it/theorems/f2a860a39af9def322efc5d337ffe2341a3d17e70/expr.ipynb\"><img src=\"../../../../../../numbers/numerals/decimals/__pv_it/theorems/f2a860a39af9def322efc5d337ffe2341a3d17e70/expr.png\" style=\"display:inline;vertical-align:middle;\" /></a></dd>"
      ],
      "text/plain": [
       "<IPython.core.display.HTML object>"
      ]
     },
     "metadata": {},
     "output_type": "display_data"
    },
    {
     "data": {
      "text/html": [
       "<dt><a class=\"ProveItLink\" href=\"../../../../../../numbers/numerals/decimals/_theory_nbs_/proofs/tuple_len_2_typical_eq/thm_proof.ipynb\">proveit.numbers.numerals.decimals.tuple_len_2_typical_eq</a></dt><dd><a class=\"ProveItLink\" href=\"../../../../../../numbers/numerals/decimals/__pv_it/theorems/10b037baccf1e1ebd13cf393d16f9c41951216fd0/expr.ipynb\"><img src=\"../../../../../../numbers/numerals/decimals/__pv_it/theorems/10b037baccf1e1ebd13cf393d16f9c41951216fd0/expr.png\" style=\"display:inline;vertical-align:middle;\" /></a></dd>"
      ],
      "text/plain": [
       "<IPython.core.display.HTML object>"
      ]
     },
     "metadata": {},
     "output_type": "display_data"
    },
    {
     "data": {
      "text/html": [
       "<dt><a class=\"ProveItLink\" href=\"../../../../../../numbers/numerals/decimals/_theory_nbs_/proofs/tuple_len_3_typical_eq/thm_proof.ipynb\">proveit.numbers.numerals.decimals.tuple_len_3_typical_eq</a></dt><dd><a class=\"ProveItLink\" href=\"../../../../../../numbers/numerals/decimals/__pv_it/theorems/864de063a1f6f21e5cb5a312c6a6ae9e6abea9a90/expr.ipynb\"><img src=\"../../../../../../numbers/numerals/decimals/__pv_it/theorems/864de063a1f6f21e5cb5a312c6a6ae9e6abea9a90/expr.png\" style=\"display:inline;vertical-align:middle;\" /></a></dd>"
      ],
      "text/plain": [
       "<IPython.core.display.HTML object>"
      ]
     },
     "metadata": {},
     "output_type": "display_data"
    },
    {
     "data": {
      "text/html": [
       "<dt><a class=\"ProveItLink\" href=\"../../../../../../numbers/numerals/decimals/_theory_nbs_/proofs/tuple_len_4_typical_eq/thm_proof.ipynb\">proveit.numbers.numerals.decimals.tuple_len_4_typical_eq</a></dt><dd><a class=\"ProveItLink\" href=\"../../../../../../numbers/numerals/decimals/__pv_it/theorems/1e5f5f56d23c5d2fa392d75922cfebe52e53ebbd0/expr.ipynb\"><img src=\"../../../../../../numbers/numerals/decimals/__pv_it/theorems/1e5f5f56d23c5d2fa392d75922cfebe52e53ebbd0/expr.png\" style=\"display:inline;vertical-align:middle;\" /></a></dd>"
      ],
      "text/plain": [
       "<IPython.core.display.HTML object>"
      ]
     },
     "metadata": {},
     "output_type": "display_data"
    },
    {
     "data": {
      "text/html": [
       "<dt><a class=\"ProveItLink\" href=\"../../../../../../numbers/numerals/decimals/_theory_nbs_/proofs/tuple_len_5_typical_eq/thm_proof.ipynb\">proveit.numbers.numerals.decimals.tuple_len_5_typical_eq</a></dt><dd><a class=\"ProveItLink\" href=\"../../../../../../numbers/numerals/decimals/__pv_it/theorems/339998d4e03211b77c8a5fbbc9b3d3593022789a0/expr.ipynb\"><img src=\"../../../../../../numbers/numerals/decimals/__pv_it/theorems/339998d4e03211b77c8a5fbbc9b3d3593022789a0/expr.png\" style=\"display:inline;vertical-align:middle;\" /></a></dd>"
      ],
      "text/plain": [
       "<IPython.core.display.HTML object>"
      ]
     },
     "metadata": {},
     "output_type": "display_data"
    },
    {
     "data": {
      "text/html": [
       "<dt><a class=\"ProveItLink\" href=\"../../../../../../numbers/numerals/decimals/_theory_nbs_/proofs/tuple_len_6_typical_eq/thm_proof.ipynb\">proveit.numbers.numerals.decimals.tuple_len_6_typical_eq</a></dt><dd><a class=\"ProveItLink\" href=\"../../../../../../numbers/numerals/decimals/__pv_it/theorems/995b6f3b19b4482310051f0f61a84b78d01252bc0/expr.ipynb\"><img src=\"../../../../../../numbers/numerals/decimals/__pv_it/theorems/995b6f3b19b4482310051f0f61a84b78d01252bc0/expr.png\" style=\"display:inline;vertical-align:middle;\" /></a></dd>"
      ],
      "text/plain": [
       "<IPython.core.display.HTML object>"
      ]
     },
     "metadata": {},
     "output_type": "display_data"
    },
    {
     "data": {
      "text/html": [
       "<dt><a class=\"ProveItLink\" href=\"../../../../../../numbers/numerals/decimals/_theory_nbs_/proofs/tuple_len_8_typical_eq/thm_proof.ipynb\">proveit.numbers.numerals.decimals.tuple_len_8_typical_eq</a></dt><dd><a class=\"ProveItLink\" href=\"../../../../../../numbers/numerals/decimals/__pv_it/theorems/fcd88b33312384b9375a64bc084837bf9122570e0/expr.ipynb\"><img src=\"../../../../../../numbers/numerals/decimals/__pv_it/theorems/fcd88b33312384b9375a64bc084837bf9122570e0/expr.png\" style=\"display:inline;vertical-align:middle;\" /></a></dd>"
      ],
      "text/plain": [
       "<IPython.core.display.HTML object>"
      ]
     },
     "metadata": {},
     "output_type": "display_data"
    },
    {
     "data": {
      "text/html": [
       "<dt><a class=\"ProveItLink\" href=\"../../../../../../numbers/ordering/_theory_nbs_/proofs/less_add_right/thm_proof.ipynb\">proveit.numbers.ordering.less_add_right</a></dt><dd><a class=\"ProveItLink\" href=\"../../../../../../numbers/ordering/__pv_it/theorems/208a54c3caa532bf1b82d4efd1dc268bd18df5c20/expr.ipynb\"><img src=\"../../../../../../numbers/ordering/__pv_it/theorems/208a54c3caa532bf1b82d4efd1dc268bd18df5c20/expr.png\" style=\"display:inline;vertical-align:middle;\" /></a></dd>"
      ],
      "text/plain": [
       "<IPython.core.display.HTML object>"
      ]
     },
     "metadata": {},
     "output_type": "display_data"
    },
    {
     "data": {
      "text/html": [
       "<dt><a class=\"ProveItLink\" href=\"../../../../../../numbers/ordering/_theory_nbs_/proofs/less_add_right_weak_int/thm_proof.ipynb\">proveit.numbers.ordering.less_add_right_weak_int</a></dt><dd><a class=\"ProveItLink\" href=\"../../../../../../numbers/ordering/__pv_it/theorems/7a8da3b38796f7ac537d3ff5dc89224ed4e87da40/expr.ipynb\"><img src=\"../../../../../../numbers/ordering/__pv_it/theorems/7a8da3b38796f7ac537d3ff5dc89224ed4e87da40/expr.png\" style=\"display:inline;vertical-align:middle;\" /></a></dd>"
      ],
      "text/plain": [
       "<IPython.core.display.HTML object>"
      ]
     },
     "metadata": {},
     "output_type": "display_data"
    },
    {
     "data": {
      "text/html": [
       "<dt><a class=\"ProveItLink\" href=\"../../../../../../numbers/ordering/_theory_nbs_/proofs/less_eq_add_right/thm_proof.ipynb\">proveit.numbers.ordering.less_eq_add_right</a></dt><dd><a class=\"ProveItLink\" href=\"../../../../../../numbers/ordering/__pv_it/theorems/d155003283bcaa3e9d4b7f81f4ee0f4f39c700690/expr.ipynb\"><img src=\"../../../../../../numbers/ordering/__pv_it/theorems/d155003283bcaa3e9d4b7f81f4ee0f4f39c700690/expr.png\" style=\"display:inline;vertical-align:middle;\" /></a></dd>"
      ],
      "text/plain": [
       "<IPython.core.display.HTML object>"
      ]
     },
     "metadata": {},
     "output_type": "display_data"
    },
    {
     "data": {
      "text/html": [
       "<dt><a class=\"ProveItLink\" href=\"../../../../../../numbers/ordering/_theory_nbs_/proofs/less_eq_add_right_strong/thm_proof.ipynb\">proveit.numbers.ordering.less_eq_add_right_strong</a></dt><dd><a class=\"ProveItLink\" href=\"../../../../../../numbers/ordering/__pv_it/theorems/c52c745173fcd07ea600439e51b4b6ab61146eca0/expr.ipynb\"><img src=\"../../../../../../numbers/ordering/__pv_it/theorems/c52c745173fcd07ea600439e51b4b6ab61146eca0/expr.png\" style=\"display:inline;vertical-align:middle;\" /></a></dd>"
      ],
      "text/plain": [
       "<IPython.core.display.HTML object>"
      ]
     },
     "metadata": {},
     "output_type": "display_data"
    },
    {
     "data": {
      "text/html": [
       "<dt><a class=\"ProveItLink\" href=\"../../../../../../numbers/ordering/_theory_nbs_/proofs/less_is_not_eq/thm_proof.ipynb\">proveit.numbers.ordering.less_is_not_eq</a></dt><dd><a class=\"ProveItLink\" href=\"../../../../../../numbers/ordering/__pv_it/theorems/69b5550628a93ed4e5cd8e25409c482182111a630/expr.ipynb\"><img src=\"../../../../../../numbers/ordering/__pv_it/theorems/69b5550628a93ed4e5cd8e25409c482182111a630/expr.png\" style=\"display:inline;vertical-align:middle;\" /></a></dd>"
      ],
      "text/plain": [
       "<IPython.core.display.HTML object>"
      ]
     },
     "metadata": {},
     "output_type": "display_data"
    },
    {
     "data": {
      "text/html": [
       "<dt><a class=\"ProveItLink\" href=\"../../../../../../numbers/ordering/_theory_nbs_/proofs/less_is_not_eq_int/thm_proof.ipynb\">proveit.numbers.ordering.less_is_not_eq_int</a></dt><dd><a class=\"ProveItLink\" href=\"../../../../../../numbers/ordering/__pv_it/theorems/a0acfddee888fa518129dfde97b7fd2758de070b0/expr.ipynb\"><img src=\"../../../../../../numbers/ordering/__pv_it/theorems/a0acfddee888fa518129dfde97b7fd2758de070b0/expr.png\" style=\"display:inline;vertical-align:middle;\" /></a></dd>"
      ],
      "text/plain": [
       "<IPython.core.display.HTML object>"
      ]
     },
     "metadata": {},
     "output_type": "display_data"
    },
    {
     "data": {
      "text/html": [
       "<dt><a class=\"ProveItLink\" href=\"../../../../../../numbers/ordering/_theory_nbs_/proofs/less_is_not_eq_nat/thm_proof.ipynb\">proveit.numbers.ordering.less_is_not_eq_nat</a></dt><dd><a class=\"ProveItLink\" href=\"../../../../../../numbers/ordering/__pv_it/theorems/25e75496c071b11af4ee9c174d64f8cbe1acb4a60/expr.ipynb\"><img src=\"../../../../../../numbers/ordering/__pv_it/theorems/25e75496c071b11af4ee9c174d64f8cbe1acb4a60/expr.png\" style=\"display:inline;vertical-align:middle;\" /></a></dd>"
      ],
      "text/plain": [
       "<IPython.core.display.HTML object>"
      ]
     },
     "metadata": {},
     "output_type": "display_data"
    },
    {
     "data": {
      "text/html": [
       "<dt><a class=\"ProveItLink\" href=\"../../../../../../numbers/ordering/_theory_nbs_/proofs/less_or_greater_eq/thm_proof.ipynb\">proveit.numbers.ordering.less_or_greater_eq</a></dt><dd><a class=\"ProveItLink\" href=\"../../../../../../numbers/ordering/__pv_it/theorems/81e5c635f0cab6dfc9972d8195ca833be52c1a5e0/expr.ipynb\"><img src=\"../../../../../../numbers/ordering/__pv_it/theorems/81e5c635f0cab6dfc9972d8195ca833be52c1a5e0/expr.png\" style=\"display:inline;vertical-align:middle;\" /></a></dd>"
      ],
      "text/plain": [
       "<IPython.core.display.HTML object>"
      ]
     },
     "metadata": {},
     "output_type": "display_data"
    },
    {
     "data": {
      "text/html": [
       "<dt><a class=\"ProveItLink\" href=\"../../../../../../numbers/ordering/_theory_nbs_/proofs/not_less_eq_from_less/thm_proof.ipynb\">proveit.numbers.ordering.not_less_eq_from_less</a></dt><dd><a class=\"ProveItLink\" href=\"../../../../../../numbers/ordering/__pv_it/theorems/204076f4276d106430b6496917459e6b4d30cd7c0/expr.ipynb\"><img src=\"../../../../../../numbers/ordering/__pv_it/theorems/204076f4276d106430b6496917459e6b4d30cd7c0/expr.png\" style=\"display:inline;vertical-align:middle;\" /></a></dd>"
      ],
      "text/plain": [
       "<IPython.core.display.HTML object>"
      ]
     },
     "metadata": {},
     "output_type": "display_data"
    },
    {
     "data": {
      "text/html": [
       "<dt><a class=\"ProveItLink\" href=\"../../../../../../numbers/ordering/_theory_nbs_/proofs/not_less_from_less_eq/thm_proof.ipynb\">proveit.numbers.ordering.not_less_from_less_eq</a></dt><dd><a class=\"ProveItLink\" href=\"../../../../../../numbers/ordering/__pv_it/theorems/ddf70a51afcb1b004d345436ba446cbdef87b07e0/expr.ipynb\"><img src=\"../../../../../../numbers/ordering/__pv_it/theorems/ddf70a51afcb1b004d345436ba446cbdef87b07e0/expr.png\" style=\"display:inline;vertical-align:middle;\" /></a></dd>"
      ],
      "text/plain": [
       "<IPython.core.display.HTML object>"
      ]
     },
     "metadata": {},
     "output_type": "display_data"
    },
    {
     "data": {
      "text/html": [
       "<dt><a class=\"ProveItLink\" href=\"../../../../../../numbers/ordering/_theory_nbs_/proofs/relax_equal_to_less_eq/thm_proof.ipynb\">proveit.numbers.ordering.relax_equal_to_less_eq</a></dt><dd><a class=\"ProveItLink\" href=\"../../../../../../numbers/ordering/__pv_it/theorems/20ed4dab1729db797b19f1f03ee36c379c4038d80/expr.ipynb\"><img src=\"../../../../../../numbers/ordering/__pv_it/theorems/20ed4dab1729db797b19f1f03ee36c379c4038d80/expr.png\" style=\"display:inline;vertical-align:middle;\" /></a></dd>"
      ],
      "text/plain": [
       "<IPython.core.display.HTML object>"
      ]
     },
     "metadata": {},
     "output_type": "display_data"
    },
    {
     "data": {
      "text/html": [
       "<dt><a class=\"ProveItLink\" href=\"../../../../../../numbers/ordering/_theory_nbs_/proofs/relax_less/thm_proof.ipynb\">proveit.numbers.ordering.relax_less</a></dt><dd><a class=\"ProveItLink\" href=\"../../../../../../numbers/ordering/__pv_it/theorems/e31e463cf2805f510e0c2c78f9eb78535b1640d20/expr.ipynb\"><img src=\"../../../../../../numbers/ordering/__pv_it/theorems/e31e463cf2805f510e0c2c78f9eb78535b1640d20/expr.png\" style=\"display:inline;vertical-align:middle;\" /></a></dd>"
      ],
      "text/plain": [
       "<IPython.core.display.HTML object>"
      ]
     },
     "metadata": {},
     "output_type": "display_data"
    },
    {
     "data": {
      "text/html": [
       "<dt><a class=\"ProveItLink\" href=\"../../../../../../numbers/rounding/_theory_nbs_/proofs/floor_increasing_less_eq/thm_proof.ipynb\">proveit.numbers.rounding.floor_increasing_less_eq</a></dt><dd><a class=\"ProveItLink\" href=\"../../../../../../numbers/rounding/__pv_it/theorems/25b6b073756f68c05280489d06302913c29705450/expr.ipynb\"><img src=\"../../../../../../numbers/rounding/__pv_it/theorems/25b6b073756f68c05280489d06302913c29705450/expr.png\" style=\"display:inline;vertical-align:middle;\" /></a></dd>"
      ],
      "text/plain": [
       "<IPython.core.display.HTML object>"
      ]
     },
     "metadata": {},
     "output_type": "display_data"
    },
    {
     "data": {
      "text/html": [
       "<dt><a class=\"ProveItLink\" href=\"../../../../../../numbers/rounding/_theory_nbs_/proofs/floor_of_integer/thm_proof.ipynb\">proveit.numbers.rounding.floor_of_integer</a></dt><dd><a class=\"ProveItLink\" href=\"../../../../../../numbers/rounding/__pv_it/theorems/6332518142a6de46cccd2f9a539da44b695a1eb50/expr.ipynb\"><img src=\"../../../../../../numbers/rounding/__pv_it/theorems/6332518142a6de46cccd2f9a539da44b695a1eb50/expr.png\" style=\"display:inline;vertical-align:middle;\" /></a></dd>"
      ],
      "text/plain": [
       "<IPython.core.display.HTML object>"
      ]
     },
     "metadata": {},
     "output_type": "display_data"
    },
    {
     "data": {
      "text/html": [
       "<dt><a class=\"ProveItLink\" href=\"../../../../../../numbers/rounding/_theory_nbs_/proofs/floor_of_real_below_int/thm_proof.ipynb\">proveit.numbers.rounding.floor_of_real_below_int</a></dt><dd><a class=\"ProveItLink\" href=\"../../../../../../numbers/rounding/__pv_it/theorems/0e8c202293c27c6534c8c51f528a8552ce3c03f80/expr.ipynb\"><img src=\"../../../../../../numbers/rounding/__pv_it/theorems/0e8c202293c27c6534c8c51f528a8552ce3c03f80/expr.png\" style=\"display:inline;vertical-align:middle;\" /></a></dd>"
      ],
      "text/plain": [
       "<IPython.core.display.HTML object>"
      ]
     },
     "metadata": {},
     "output_type": "display_data"
    },
    {
     "data": {
      "text/html": [
       "<dt><a class=\"ProveItLink\" href=\"../../../../../../numbers/rounding/_theory_nbs_/proofs/real_minus_floor_upper_bound/thm_proof.ipynb\">proveit.numbers.rounding.real_minus_floor_upper_bound</a></dt><dd><a class=\"ProveItLink\" href=\"../../../../../../numbers/rounding/__pv_it/theorems/1da937839768f43ff773ebbf125bd8f76a3dd31c0/expr.ipynb\"><img src=\"../../../../../../numbers/rounding/__pv_it/theorems/1da937839768f43ff773ebbf125bd8f76a3dd31c0/expr.png\" style=\"display:inline;vertical-align:middle;\" /></a></dd>"
      ],
      "text/plain": [
       "<IPython.core.display.HTML object>"
      ]
     },
     "metadata": {},
     "output_type": "display_data"
    },
    {
     "data": {
      "text/html": [
       "<dt><a class=\"ProveItLink\" href=\"../../../../../../numbers/rounding/_theory_nbs_/proofs/round_in_terms_of_floor/thm_proof.ipynb\">proveit.numbers.rounding.round_in_terms_of_floor</a></dt><dd><a class=\"ProveItLink\" href=\"../../../../../../numbers/rounding/__pv_it/theorems/a7d245b4591f9119e1c2f3b2474c46c59cc356c20/expr.ipynb\"><img src=\"../../../../../../numbers/rounding/__pv_it/theorems/a7d245b4591f9119e1c2f3b2474c46c59cc356c20/expr.png\" style=\"display:inline;vertical-align:middle;\" /></a></dd>"
      ],
      "text/plain": [
       "<IPython.core.display.HTML object>"
      ]
     },
     "metadata": {},
     "output_type": "display_data"
    },
    {
     "data": {
      "text/html": [
       "<dt><a class=\"ProveItLink\" href=\"../../../../../../numbers/summation/_theory_nbs_/proofs/gen_finite_geom_sum/thm_proof.ipynb\">proveit.numbers.summation.gen_finite_geom_sum</a></dt><dd><a class=\"ProveItLink\" href=\"../../../../../../numbers/summation/__pv_it/theorems/63e74e2a5778c90cca7c19090c85e6da1fe406ad0/expr.ipynb\"><img src=\"../../../../../../numbers/summation/__pv_it/theorems/63e74e2a5778c90cca7c19090c85e6da1fe406ad0/expr.png\" style=\"display:inline;vertical-align:middle;\" /></a></dd>"
      ],
      "text/plain": [
       "<IPython.core.display.HTML object>"
      ]
     },
     "metadata": {},
     "output_type": "display_data"
    },
    {
     "data": {
      "text/html": [
       "<dt><a class=\"ProveItLink\" href=\"../../../../../../numbers/summation/_theory_nbs_/proofs/index_negate/thm_proof.ipynb\">proveit.numbers.summation.index_negate</a></dt><dd><a class=\"ProveItLink\" href=\"../../../../../../numbers/summation/__pv_it/theorems/9a2a97d60adc8649195311cf60dea354760544e30/expr.ipynb\"><img src=\"../../../../../../numbers/summation/__pv_it/theorems/9a2a97d60adc8649195311cf60dea354760544e30/expr.png\" style=\"display:inline;vertical-align:middle;\" /></a></dd>"
      ],
      "text/plain": [
       "<IPython.core.display.HTML object>"
      ]
     },
     "metadata": {},
     "output_type": "display_data"
    },
    {
     "data": {
      "text/html": [
       "<dt><a class=\"ProveItLink\" href=\"../../../../../../numbers/summation/_theory_nbs_/proofs/index_shift/thm_proof.ipynb\">proveit.numbers.summation.index_shift</a></dt><dd><a class=\"ProveItLink\" href=\"../../../../../../numbers/summation/__pv_it/theorems/b562c3404b22b3852eacfa4aa9f7e0915cd10c720/expr.ipynb\"><img src=\"../../../../../../numbers/summation/__pv_it/theorems/b562c3404b22b3852eacfa4aa9f7e0915cd10c720/expr.png\" style=\"display:inline;vertical-align:middle;\" /></a></dd>"
      ],
      "text/plain": [
       "<IPython.core.display.HTML object>"
      ]
     },
     "metadata": {},
     "output_type": "display_data"
    },
    {
     "data": {
      "text/html": [
       "<dt><a class=\"ProveItLink\" href=\"../../../../../../numbers/summation/_theory_nbs_/proofs/integral_upper_bound_of_sum/thm_proof.ipynb\">proveit.numbers.summation.integral_upper_bound_of_sum</a></dt><dd><a class=\"ProveItLink\" href=\"../../../../../../numbers/summation/__pv_it/theorems/86c49e7e3568cf9e166abab7fce64997a207a22d0/expr.ipynb\"><img src=\"../../../../../../numbers/summation/__pv_it/theorems/86c49e7e3568cf9e166abab7fce64997a207a22d0/expr.png\" style=\"display:inline;vertical-align:middle;\" /></a></dd>"
      ],
      "text/plain": [
       "<IPython.core.display.HTML object>"
      ]
     },
     "metadata": {},
     "output_type": "display_data"
    },
    {
     "data": {
      "text/html": [
       "<dt><a class=\"ProveItLink\" href=\"../../../../../../numbers/summation/_theory_nbs_/proofs/sum_split_first/thm_proof.ipynb\">proveit.numbers.summation.sum_split_first</a></dt><dd><a class=\"ProveItLink\" href=\"../../../../../../numbers/summation/__pv_it/theorems/596d89d50aa4ecf295585731e4ee618bd0a084960/expr.ipynb\"><img src=\"../../../../../../numbers/summation/__pv_it/theorems/596d89d50aa4ecf295585731e4ee618bd0a084960/expr.png\" style=\"display:inline;vertical-align:middle;\" /></a></dd>"
      ],
      "text/plain": [
       "<IPython.core.display.HTML object>"
      ]
     },
     "metadata": {},
     "output_type": "display_data"
    },
    {
     "data": {
      "text/html": [
       "<dt><a class=\"ProveItLink\" href=\"../../../../../../numbers/summation/_theory_nbs_/proofs/summation_complex_closure/thm_proof.ipynb\">proveit.numbers.summation.summation_complex_closure</a></dt><dd><a class=\"ProveItLink\" href=\"../../../../../../numbers/summation/__pv_it/theorems/d78a11c2288adad9435a5b684948abe467f5e1ad0/expr.ipynb\"><img src=\"../../../../../../numbers/summation/__pv_it/theorems/d78a11c2288adad9435a5b684948abe467f5e1ad0/expr.png\" style=\"display:inline;vertical-align:middle;\" /></a></dd>"
      ],
      "text/plain": [
       "<IPython.core.display.HTML object>"
      ]
     },
     "metadata": {},
     "output_type": "display_data"
    },
    {
     "data": {
      "text/html": [
       "<dt><a class=\"ProveItLink\" href=\"../../../../../../numbers/summation/_theory_nbs_/proofs/summation_real_closure/thm_proof.ipynb\">proveit.numbers.summation.summation_real_closure</a></dt><dd><a class=\"ProveItLink\" href=\"../../../../../../numbers/summation/__pv_it/theorems/ba9ae26d743af2c488d9a9dcf0847c7928ab40ef0/expr.ipynb\"><img src=\"../../../../../../numbers/summation/__pv_it/theorems/ba9ae26d743af2c488d9a9dcf0847c7928ab40ef0/expr.png\" style=\"display:inline;vertical-align:middle;\" /></a></dd>"
      ],
      "text/plain": [
       "<IPython.core.display.HTML object>"
      ]
     },
     "metadata": {},
     "output_type": "display_data"
    },
    {
     "data": {
      "text/html": [
       "<dt><a class=\"ProveItLink\" href=\"../../../../../../numbers/summation/_theory_nbs_/proofs/weak_summation_from_summands_bound/thm_proof.ipynb\">proveit.numbers.summation.weak_summation_from_summands_bound</a></dt><dd><a class=\"ProveItLink\" href=\"../../../../../../numbers/summation/__pv_it/theorems/60ea157c525ecba7de199e94b98a02bb5aa9d45e0/expr.ipynb\"><img src=\"../../../../../../numbers/summation/__pv_it/theorems/60ea157c525ecba7de199e94b98a02bb5aa9d45e0/expr.png\" style=\"display:inline;vertical-align:middle;\" /></a></dd>"
      ],
      "text/plain": [
       "<IPython.core.display.HTML object>"
      ]
     },
     "metadata": {},
     "output_type": "display_data"
    },
    {
     "data": {
      "text/html": [
       "<dt><a class=\"ProveItLink\" href=\"../../../../QFT/_theory_nbs_/proofs/invFT_is_unitary/thm_proof.ipynb\">proveit.physics.quantum.QFT.invFT_is_unitary</a></dt><dd><a class=\"ProveItLink\" href=\"../../../../QFT/__pv_it/theorems/08eaf4c7318014f2dd5700d22649b88853783f700/expr.ipynb\"><img src=\"../../../../QFT/__pv_it/theorems/08eaf4c7318014f2dd5700d22649b88853783f700/expr.png\" style=\"display:inline;vertical-align:middle;\" /></a></dd>"
      ],
      "text/plain": [
       "<IPython.core.display.HTML object>"
      ]
     },
     "metadata": {},
     "output_type": "display_data"
    },
    {
     "data": {
      "text/html": [
       "<dt><a class=\"ProveItLink\" href=\"../../../../QFT/_theory_nbs_/proofs/invFT_on_matrix_elem/thm_proof.ipynb\">proveit.physics.quantum.QFT.invFT_on_matrix_elem</a></dt><dd><a class=\"ProveItLink\" href=\"../../../../QFT/__pv_it/theorems/93755fac1e3bce96cd040f096bb42ec154dee51c0/expr.ipynb\"><img src=\"../../../../QFT/__pv_it/theorems/93755fac1e3bce96cd040f096bb42ec154dee51c0/expr.png\" style=\"display:inline;vertical-align:middle;\" /></a></dd>"
      ],
      "text/plain": [
       "<IPython.core.display.HTML object>"
      ]
     },
     "metadata": {},
     "output_type": "display_data"
    },
    {
     "data": {
      "text/html": [
       "<dt><a class=\"ProveItLink\" href=\"../../../../algebra/_theory_nbs_/proofs/ket_one_in_qubit_space/thm_proof.ipynb\">proveit.physics.quantum.algebra.ket_one_in_qubit_space</a></dt><dd><a class=\"ProveItLink\" href=\"../../../../algebra/__pv_it/theorems/b7ff01f12bf3e166bbf80aa351433fd53a1dcd0a0/expr.ipynb\"><img src=\"../../../../algebra/__pv_it/theorems/b7ff01f12bf3e166bbf80aa351433fd53a1dcd0a0/expr.png\" style=\"display:inline;vertical-align:middle;\" /></a></dd>"
      ],
      "text/plain": [
       "<IPython.core.display.HTML object>"
      ]
     },
     "metadata": {},
     "output_type": "display_data"
    },
    {
     "data": {
      "text/html": [
       "<dt><a class=\"ProveItLink\" href=\"../../../../algebra/_theory_nbs_/proofs/ket_one_norm/thm_proof.ipynb\">proveit.physics.quantum.algebra.ket_one_norm</a></dt><dd><a class=\"ProveItLink\" href=\"../../../../algebra/__pv_it/theorems/654b57cda018a745a2a46fb19ea8e1e8f3d463ec0/expr.ipynb\"><img src=\"../../../../algebra/__pv_it/theorems/654b57cda018a745a2a46fb19ea8e1e8f3d463ec0/expr.png\" style=\"display:inline;vertical-align:middle;\" /></a></dd>"
      ],
      "text/plain": [
       "<IPython.core.display.HTML object>"
      ]
     },
     "metadata": {},
     "output_type": "display_data"
    },
    {
     "data": {
      "text/html": [
       "<dt><a class=\"ProveItLink\" href=\"../../../../algebra/_theory_nbs_/proofs/ket_zero_and_one_have_zero_inner_prod/thm_proof.ipynb\">proveit.physics.quantum.algebra.ket_zero_and_one_have_zero_inner_prod</a></dt><dd><a class=\"ProveItLink\" href=\"../../../../algebra/__pv_it/theorems/0fc9b2aae676c21a911e1bf78a59aca7f3356b0a0/expr.ipynb\"><img src=\"../../../../algebra/__pv_it/theorems/0fc9b2aae676c21a911e1bf78a59aca7f3356b0a0/expr.png\" style=\"display:inline;vertical-align:middle;\" /></a></dd>"
      ],
      "text/plain": [
       "<IPython.core.display.HTML object>"
      ]
     },
     "metadata": {},
     "output_type": "display_data"
    },
    {
     "data": {
      "text/html": [
       "<dt><a class=\"ProveItLink\" href=\"../../../../algebra/_theory_nbs_/proofs/ket_zero_in_qubit_space/thm_proof.ipynb\">proveit.physics.quantum.algebra.ket_zero_in_qubit_space</a></dt><dd><a class=\"ProveItLink\" href=\"../../../../algebra/__pv_it/theorems/6f688d44b4b89086dda7b01709541e2c1cafe54f0/expr.ipynb\"><img src=\"../../../../algebra/__pv_it/theorems/6f688d44b4b89086dda7b01709541e2c1cafe54f0/expr.png\" style=\"display:inline;vertical-align:middle;\" /></a></dd>"
      ],
      "text/plain": [
       "<IPython.core.display.HTML object>"
      ]
     },
     "metadata": {},
     "output_type": "display_data"
    },
    {
     "data": {
      "text/html": [
       "<dt><a class=\"ProveItLink\" href=\"../../../../algebra/_theory_nbs_/proofs/ket_zero_norm/thm_proof.ipynb\">proveit.physics.quantum.algebra.ket_zero_norm</a></dt><dd><a class=\"ProveItLink\" href=\"../../../../algebra/__pv_it/theorems/19d7ba869bba72d1e22b451a86cbf4aec6fc57b10/expr.ipynb\"><img src=\"../../../../algebra/__pv_it/theorems/19d7ba869bba72d1e22b451a86cbf4aec6fc57b10/expr.png\" style=\"display:inline;vertical-align:middle;\" /></a></dd>"
      ],
      "text/plain": [
       "<IPython.core.display.HTML object>"
      ]
     },
     "metadata": {},
     "output_type": "display_data"
    },
    {
     "data": {
      "text/html": [
       "<dt><a class=\"ProveItLink\" href=\"../../../../algebra/_theory_nbs_/proofs/normalization_preservation/thm_proof.ipynb\">proveit.physics.quantum.algebra.normalization_preservation</a></dt><dd><a class=\"ProveItLink\" href=\"../../../../algebra/__pv_it/theorems/717529dfb3b85082b411cdd6ef0e32cccf502c7d0/expr.ipynb\"><img src=\"../../../../algebra/__pv_it/theorems/717529dfb3b85082b411cdd6ef0e32cccf502c7d0/expr.png\" style=\"display:inline;vertical-align:middle;\" /></a></dd>"
      ],
      "text/plain": [
       "<IPython.core.display.HTML object>"
      ]
     },
     "metadata": {},
     "output_type": "display_data"
    },
    {
     "data": {
      "text/html": [
       "<dt><a class=\"ProveItLink\" href=\"../../../../algebra/_theory_nbs_/proofs/num_bra_is_lin_map/thm_proof.ipynb\">proveit.physics.quantum.algebra.num_bra_is_lin_map</a></dt><dd><a class=\"ProveItLink\" href=\"../../../../algebra/__pv_it/theorems/0ed1dd2f22b0763d7794dd03e9c886a837002bfb0/expr.ipynb\"><img src=\"../../../../algebra/__pv_it/theorems/0ed1dd2f22b0763d7794dd03e9c886a837002bfb0/expr.png\" style=\"display:inline;vertical-align:middle;\" /></a></dd>"
      ],
      "text/plain": [
       "<IPython.core.display.HTML object>"
      ]
     },
     "metadata": {},
     "output_type": "display_data"
    },
    {
     "data": {
      "text/html": [
       "<dt><a class=\"ProveItLink\" href=\"../../../../algebra/_theory_nbs_/proofs/num_ket_in_register_space/thm_proof.ipynb\">proveit.physics.quantum.algebra.num_ket_in_register_space</a></dt><dd><a class=\"ProveItLink\" href=\"../../../../algebra/__pv_it/theorems/48b26d4e6ffcefffda8de5ef28bf3378ca3eb9de0/expr.ipynb\"><img src=\"../../../../algebra/__pv_it/theorems/48b26d4e6ffcefffda8de5ef28bf3378ca3eb9de0/expr.png\" style=\"display:inline;vertical-align:middle;\" /></a></dd>"
      ],
      "text/plain": [
       "<IPython.core.display.HTML object>"
      ]
     },
     "metadata": {},
     "output_type": "display_data"
    },
    {
     "data": {
      "text/html": [
       "<dt><a class=\"ProveItLink\" href=\"../../../../algebra/_theory_nbs_/proofs/num_ket_neq/thm_proof.ipynb\">proveit.physics.quantum.algebra.num_ket_neq</a></dt><dd><a class=\"ProveItLink\" href=\"../../../../algebra/__pv_it/theorems/e53b9c08c177991d8026b0f199fe8d71cca512360/expr.ipynb\"><img src=\"../../../../algebra/__pv_it/theorems/e53b9c08c177991d8026b0f199fe8d71cca512360/expr.png\" style=\"display:inline;vertical-align:middle;\" /></a></dd>"
      ],
      "text/plain": [
       "<IPython.core.display.HTML object>"
      ]
     },
     "metadata": {},
     "output_type": "display_data"
    },
    {
     "data": {
      "text/html": [
       "<dt><a class=\"ProveItLink\" href=\"../../../../algebra/_theory_nbs_/proofs/prepend_num_ket_with_one_ket/thm_proof.ipynb\">proveit.physics.quantum.algebra.prepend_num_ket_with_one_ket</a></dt><dd><a class=\"ProveItLink\" href=\"../../../../algebra/__pv_it/theorems/b7179dd99aab0507cb4ecd34f8393238455ae81d0/expr.ipynb\"><img src=\"../../../../algebra/__pv_it/theorems/b7179dd99aab0507cb4ecd34f8393238455ae81d0/expr.png\" style=\"display:inline;vertical-align:middle;\" /></a></dd>"
      ],
      "text/plain": [
       "<IPython.core.display.HTML object>"
      ]
     },
     "metadata": {},
     "output_type": "display_data"
    },
    {
     "data": {
      "text/html": [
       "<dt><a class=\"ProveItLink\" href=\"../../../../algebra/_theory_nbs_/proofs/prepend_num_ket_with_zero_ket/thm_proof.ipynb\">proveit.physics.quantum.algebra.prepend_num_ket_with_zero_ket</a></dt><dd><a class=\"ProveItLink\" href=\"../../../../algebra/__pv_it/theorems/061e0f2d54fd750c46c11064e473697c238513900/expr.ipynb\"><img src=\"../../../../algebra/__pv_it/theorems/061e0f2d54fd750c46c11064e473697c238513900/expr.png\" style=\"display:inline;vertical-align:middle;\" /></a></dd>"
      ],
      "text/plain": [
       "<IPython.core.display.HTML object>"
      ]
     },
     "metadata": {},
     "output_type": "display_data"
    },
    {
     "data": {
      "text/html": [
       "<dt><a class=\"ProveItLink\" href=\"../../../../algebra/_theory_nbs_/proofs/qmult_disassociation/thm_proof.ipynb\">proveit.physics.quantum.algebra.qmult_disassociation</a></dt><dd><a class=\"ProveItLink\" href=\"../../../../algebra/__pv_it/theorems/65cdb794b61298921b988a8165db0ec85f592c260/expr.ipynb\"><img src=\"../../../../algebra/__pv_it/theorems/65cdb794b61298921b988a8165db0ec85f592c260/expr.png\" style=\"display:inline;vertical-align:middle;\" /></a></dd>"
      ],
      "text/plain": [
       "<IPython.core.display.HTML object>"
      ]
     },
     "metadata": {},
     "output_type": "display_data"
    },
    {
     "data": {
      "text/html": [
       "<dt><a class=\"ProveItLink\" href=\"../../../../algebra/_theory_nbs_/proofs/qmult_distribution_over_summation/thm_proof.ipynb\">proveit.physics.quantum.algebra.qmult_distribution_over_summation</a></dt><dd><a class=\"ProveItLink\" href=\"../../../../algebra/__pv_it/theorems/b2aa2a5b66568d0d0ecbb82d908c2189ab36804a0/expr.ipynb\"><img src=\"../../../../algebra/__pv_it/theorems/b2aa2a5b66568d0d0ecbb82d908c2189ab36804a0/expr.png\" style=\"display:inline;vertical-align:middle;\" /></a></dd>"
      ],
      "text/plain": [
       "<IPython.core.display.HTML object>"
      ]
     },
     "metadata": {},
     "output_type": "display_data"
    },
    {
     "data": {
      "text/html": [
       "<dt><a class=\"ProveItLink\" href=\"../../../../algebra/_theory_nbs_/proofs/qmult_matrix_is_linmap/thm_proof.ipynb\">proveit.physics.quantum.algebra.qmult_matrix_is_linmap</a></dt><dd><a class=\"ProveItLink\" href=\"../../../../algebra/__pv_it/theorems/86096fe3379319dd31276f3c93d4a8759a85f8560/expr.ipynb\"><img src=\"../../../../algebra/__pv_it/theorems/86096fe3379319dd31276f3c93d4a8759a85f8560/expr.png\" style=\"display:inline;vertical-align:middle;\" /></a></dd>"
      ],
      "text/plain": [
       "<IPython.core.display.HTML object>"
      ]
     },
     "metadata": {},
     "output_type": "display_data"
    },
    {
     "data": {
      "text/html": [
       "<dt><a class=\"ProveItLink\" href=\"../../../../algebra/_theory_nbs_/proofs/qmult_op_complex_closure/thm_proof.ipynb\">proveit.physics.quantum.algebra.qmult_op_complex_closure</a></dt><dd><a class=\"ProveItLink\" href=\"../../../../algebra/__pv_it/theorems/c03ba3bbafee0642ccd57396a31f07451696edf20/expr.ipynb\"><img src=\"../../../../algebra/__pv_it/theorems/c03ba3bbafee0642ccd57396a31f07451696edf20/expr.png\" style=\"display:inline;vertical-align:middle;\" /></a></dd>"
      ],
      "text/plain": [
       "<IPython.core.display.HTML object>"
      ]
     },
     "metadata": {},
     "output_type": "display_data"
    },
    {
     "data": {
      "text/html": [
       "<dt><a class=\"ProveItLink\" href=\"../../../../algebra/_theory_nbs_/proofs/qmult_op_is_linmap/thm_proof.ipynb\">proveit.physics.quantum.algebra.qmult_op_is_linmap</a></dt><dd><a class=\"ProveItLink\" href=\"../../../../algebra/__pv_it/theorems/eb847864f148259ab6892e136d367b205a5f543f0/expr.ipynb\"><img src=\"../../../../algebra/__pv_it/theorems/eb847864f148259ab6892e136d367b205a5f543f0/expr.png\" style=\"display:inline;vertical-align:middle;\" /></a></dd>"
      ],
      "text/plain": [
       "<IPython.core.display.HTML object>"
      ]
     },
     "metadata": {},
     "output_type": "display_data"
    },
    {
     "data": {
      "text/html": [
       "<dt><a class=\"ProveItLink\" href=\"../../../../algebra/_theory_nbs_/proofs/qmult_op_ket_in_QmultCodomain/thm_proof.ipynb\">proveit.physics.quantum.algebra.qmult_op_ket_in_QmultCodomain</a></dt><dd><a class=\"ProveItLink\" href=\"../../../../algebra/__pv_it/theorems/f08c1b74197241012993cad887e6921c3abc99fe0/expr.ipynb\"><img src=\"../../../../algebra/__pv_it/theorems/f08c1b74197241012993cad887e6921c3abc99fe0/expr.png\" style=\"display:inline;vertical-align:middle;\" /></a></dd>"
      ],
      "text/plain": [
       "<IPython.core.display.HTML object>"
      ]
     },
     "metadata": {},
     "output_type": "display_data"
    },
    {
     "data": {
      "text/html": [
       "<dt><a class=\"ProveItLink\" href=\"../../../../algebra/_theory_nbs_/proofs/qmult_op_ket_is_ket/thm_proof.ipynb\">proveit.physics.quantum.algebra.qmult_op_ket_is_ket</a></dt><dd><a class=\"ProveItLink\" href=\"../../../../algebra/__pv_it/theorems/807ad73925abf245b646127924692856ef6149e10/expr.ipynb\"><img src=\"../../../../algebra/__pv_it/theorems/807ad73925abf245b646127924692856ef6149e10/expr.png\" style=\"display:inline;vertical-align:middle;\" /></a></dd>"
      ],
      "text/plain": [
       "<IPython.core.display.HTML object>"
      ]
     },
     "metadata": {},
     "output_type": "display_data"
    },
    {
     "data": {
      "text/html": [
       "<dt><a class=\"ProveItLink\" href=\"../../../../algebra/_theory_nbs_/proofs/qmult_op_op_is_op/thm_proof.ipynb\">proveit.physics.quantum.algebra.qmult_op_op_is_op</a></dt><dd><a class=\"ProveItLink\" href=\"../../../../algebra/__pv_it/theorems/b6d463e81a86265a02c2edf159f22c08949bffe50/expr.ipynb\"><img src=\"../../../../algebra/__pv_it/theorems/b6d463e81a86265a02c2edf159f22c08949bffe50/expr.png\" style=\"display:inline;vertical-align:middle;\" /></a></dd>"
      ],
      "text/plain": [
       "<IPython.core.display.HTML object>"
      ]
     },
     "metadata": {},
     "output_type": "display_data"
    },
    {
     "data": {
      "text/html": [
       "<dt><a class=\"ProveItLink\" href=\"../../../../algebra/_theory_nbs_/proofs/qmult_pulling_scalar_out_front/thm_proof.ipynb\">proveit.physics.quantum.algebra.qmult_pulling_scalar_out_front</a></dt><dd><a class=\"ProveItLink\" href=\"../../../../algebra/__pv_it/theorems/1a6bc3906d0ef58860fc0e13634d09d6cd29bdf50/expr.ipynb\"><img src=\"../../../../algebra/__pv_it/theorems/1a6bc3906d0ef58860fc0e13634d09d6cd29bdf50/expr.png\" style=\"display:inline;vertical-align:middle;\" /></a></dd>"
      ],
      "text/plain": [
       "<IPython.core.display.HTML object>"
      ]
     },
     "metadata": {},
     "output_type": "display_data"
    },
    {
     "data": {
      "text/html": [
       "<dt><a class=\"ProveItLink\" href=\"../../../../algebra/_theory_nbs_/proofs/scalar_mult_absorption/thm_proof.ipynb\">proveit.physics.quantum.algebra.scalar_mult_absorption</a></dt><dd><a class=\"ProveItLink\" href=\"../../../../algebra/__pv_it/theorems/fc20f1a5ea1dfb3dd5e64fb136f54c154263cdb10/expr.ipynb\"><img src=\"../../../../algebra/__pv_it/theorems/fc20f1a5ea1dfb3dd5e64fb136f54c154263cdb10/expr.png\" style=\"display:inline;vertical-align:middle;\" /></a></dd>"
      ],
      "text/plain": [
       "<IPython.core.display.HTML object>"
      ]
     },
     "metadata": {},
     "output_type": "display_data"
    },
    {
     "data": {
      "text/html": [
       "<dt><a class=\"ProveItLink\" href=\"../../../../algebra/_theory_nbs_/proofs/scalar_mult_factorization/thm_proof.ipynb\">proveit.physics.quantum.algebra.scalar_mult_factorization</a></dt><dd><a class=\"ProveItLink\" href=\"../../../../algebra/__pv_it/theorems/30cb59f4f94c9959d56f3eb025847853ba4425140/expr.ipynb\"><img src=\"../../../../algebra/__pv_it/theorems/30cb59f4f94c9959d56f3eb025847853ba4425140/expr.png\" style=\"display:inline;vertical-align:middle;\" /></a></dd>"
      ],
      "text/plain": [
       "<IPython.core.display.HTML object>"
      ]
     },
     "metadata": {},
     "output_type": "display_data"
    },
    {
     "data": {
      "text/html": [
       "<dt><a class=\"ProveItLink\" href=\"../../../../algebra/_theory_nbs_/proofs/single_qubit_num_ket/thm_proof.ipynb\">proveit.physics.quantum.algebra.single_qubit_num_ket</a></dt><dd><a class=\"ProveItLink\" href=\"../../../../algebra/__pv_it/theorems/8ecd2e8fcf92b5b804ea4655bc9a99d22c1fb0a70/expr.ipynb\"><img src=\"../../../../algebra/__pv_it/theorems/8ecd2e8fcf92b5b804ea4655bc9a99d22c1fb0a70/expr.png\" style=\"display:inline;vertical-align:middle;\" /></a></dd>"
      ],
      "text/plain": [
       "<IPython.core.display.HTML object>"
      ]
     },
     "metadata": {},
     "output_type": "display_data"
    },
    {
     "data": {
      "text/html": [
       "<dt><a class=\"ProveItLink\" href=\"../../../../algebra/_theory_nbs_/proofs/state_space_preservation/thm_proof.ipynb\">proveit.physics.quantum.algebra.state_space_preservation</a></dt><dd><a class=\"ProveItLink\" href=\"../../../../algebra/__pv_it/theorems/9d121a551047c59e6a220bae8f12c8ec45dd496d0/expr.ipynb\"><img src=\"../../../../algebra/__pv_it/theorems/9d121a551047c59e6a220bae8f12c8ec45dd496d0/expr.png\" style=\"display:inline;vertical-align:middle;\" /></a></dd>"
      ],
      "text/plain": [
       "<IPython.core.display.HTML object>"
      ]
     },
     "metadata": {},
     "output_type": "display_data"
    },
    {
     "data": {
      "text/html": [
       "<dt><a class=\"ProveItLink\" href=\"../../../../circuits/_theory_nbs_/proofs/born_rule_on_register/thm_proof.ipynb\">proveit.physics.quantum.circuits.born_rule_on_register</a></dt><dd><a class=\"ProveItLink\" href=\"../../../../circuits/__pv_it/theorems/449a98be445beaea7389efb9606bff7ba89800f20/expr.ipynb\"><img src=\"../../../../circuits/__pv_it/theorems/449a98be445beaea7389efb9606bff7ba89800f20/expr.png\" style=\"display:inline;vertical-align:middle;\" /></a></dd>"
      ],
      "text/plain": [
       "<IPython.core.display.HTML object>"
      ]
     },
     "metadata": {},
     "output_type": "display_data"
    },
    {
     "data": {
      "text/html": [
       "<dt><a class=\"ProveItLink\" href=\"../../../../circuits/_theory_nbs_/proofs/circuit_equiv_temporal_sub/thm_proof.ipynb\">proveit.physics.quantum.circuits.circuit_equiv_temporal_sub</a></dt><dd><a class=\"ProveItLink\" href=\"../../../../circuits/__pv_it/theorems/c11ccb3b69ae77c8296c421a1d86cb7d0891bc350/expr.ipynb\"><img src=\"../../../../circuits/__pv_it/theorems/c11ccb3b69ae77c8296c421a1d86cb7d0891bc350/expr.png\" style=\"display:inline;vertical-align:middle;\" /></a></dd>"
      ],
      "text/plain": [
       "<IPython.core.display.HTML object>"
      ]
     },
     "metadata": {},
     "output_type": "display_data"
    },
    {
     "data": {
      "text/html": [
       "<dt><a class=\"ProveItLink\" href=\"../../../../circuits/_theory_nbs_/proofs/concat_onto_ideal_expt/thm_proof.ipynb\">proveit.physics.quantum.circuits.concat_onto_ideal_expt</a></dt><dd><a class=\"ProveItLink\" href=\"../../../../circuits/__pv_it/theorems/9f00af89f48aaf929e2c45b472766025a16394500/expr.ipynb\"><img src=\"../../../../circuits/__pv_it/theorems/9f00af89f48aaf929e2c45b472766025a16394500/expr.png\" style=\"display:inline;vertical-align:middle;\" /></a></dd>"
      ],
      "text/plain": [
       "<IPython.core.display.HTML object>"
      ]
     },
     "metadata": {},
     "output_type": "display_data"
    },
    {
     "data": {
      "text/html": [
       "<dt><a class=\"ProveItLink\" href=\"../../../../circuits/_theory_nbs_/proofs/equiv_reversal/thm_proof.ipynb\">proveit.physics.quantum.circuits.equiv_reversal</a></dt><dd><a class=\"ProveItLink\" href=\"../../../../circuits/__pv_it/theorems/34ee42807e9c2f89e4d2876690363722d118b5f50/expr.ipynb\"><img src=\"../../../../circuits/__pv_it/theorems/34ee42807e9c2f89e4d2876690363722d118b5f50/expr.png\" style=\"display:inline;vertical-align:middle;\" /></a></dd>"
      ],
      "text/plain": [
       "<IPython.core.display.HTML object>"
      ]
     },
     "metadata": {},
     "output_type": "display_data"
    },
    {
     "data": {
      "text/html": [
       "<dt><a class=\"ProveItLink\" href=\"../../../../circuits/_theory_nbs_/proofs/equiv_transitivity/thm_proof.ipynb\">proveit.physics.quantum.circuits.equiv_transitivity</a></dt><dd><a class=\"ProveItLink\" href=\"../../../../circuits/__pv_it/theorems/bdb7e4055a06e4cd7f35a1042286b9e95797b1c60/expr.ipynb\"><img src=\"../../../../circuits/__pv_it/theorems/bdb7e4055a06e4cd7f35a1042286b9e95797b1c60/expr.png\" style=\"display:inline;vertical-align:middle;\" /></a></dd>"
      ],
      "text/plain": [
       "<IPython.core.display.HTML object>"
      ]
     },
     "metadata": {},
     "output_type": "display_data"
    },
    {
     "data": {
      "text/html": [
       "<dt><a class=\"ProveItLink\" href=\"../../../../circuits/_theory_nbs_/proofs/input_consolidation/thm_proof.ipynb\">proveit.physics.quantum.circuits.input_consolidation</a></dt><dd><a class=\"ProveItLink\" href=\"../../../../circuits/__pv_it/theorems/988da03d062a958d2fb1d545f5f7e704b94374590/expr.ipynb\"><img src=\"../../../../circuits/__pv_it/theorems/988da03d062a958d2fb1d545f5f7e704b94374590/expr.png\" style=\"display:inline;vertical-align:middle;\" /></a></dd>"
      ],
      "text/plain": [
       "<IPython.core.display.HTML object>"
      ]
     },
     "metadata": {},
     "output_type": "display_data"
    },
    {
     "data": {
      "text/html": [
       "<dt><a class=\"ProveItLink\" href=\"../../../../circuits/_theory_nbs_/proofs/output_consolidation/thm_proof.ipynb\">proveit.physics.quantum.circuits.output_consolidation</a></dt><dd><a class=\"ProveItLink\" href=\"../../../../circuits/__pv_it/theorems/75acdfb151ea4d78bbe6597aefe2f4c48c46a5470/expr.ipynb\"><img src=\"../../../../circuits/__pv_it/theorems/75acdfb151ea4d78bbe6597aefe2f4c48c46a5470/expr.png\" style=\"display:inline;vertical-align:middle;\" /></a></dd>"
      ],
      "text/plain": [
       "<IPython.core.display.HTML object>"
      ]
     },
     "metadata": {},
     "output_type": "display_data"
    },
    {
     "data": {
      "text/html": [
       "<dt><a class=\"ProveItLink\" href=\"../../../../circuits/_theory_nbs_/proofs/phase_kickbacks_on_register/thm_proof.ipynb\">proveit.physics.quantum.circuits.phase_kickbacks_on_register</a></dt><dd><a class=\"ProveItLink\" href=\"../../../../circuits/__pv_it/theorems/ca5bc54fd600a448a4c54ad45845ad1b2933af430/expr.ipynb\"><img src=\"../../../../circuits/__pv_it/theorems/ca5bc54fd600a448a4c54ad45845ad1b2933af430/expr.png\" style=\"display:inline;vertical-align:middle;\" /></a></dd>"
      ],
      "text/plain": [
       "<IPython.core.display.HTML object>"
      ]
     },
     "metadata": {},
     "output_type": "display_data"
    },
    {
     "data": {
      "text/html": [
       "<dt><a class=\"ProveItLink\" href=\"../../../../circuits/_theory_nbs_/proofs/prob_eq_via_equiv/thm_proof.ipynb\">proveit.physics.quantum.circuits.prob_eq_via_equiv</a></dt><dd><a class=\"ProveItLink\" href=\"../../../../circuits/__pv_it/theorems/44671c7334019a1984822ff4fe422f0ccbdc4a2b0/expr.ipynb\"><img src=\"../../../../circuits/__pv_it/theorems/44671c7334019a1984822ff4fe422f0ccbdc4a2b0/expr.png\" style=\"display:inline;vertical-align:middle;\" /></a></dd>"
      ],
      "text/plain": [
       "<IPython.core.display.HTML object>"
      ]
     },
     "metadata": {},
     "output_type": "display_data"
    },
    {
     "data": {
      "text/html": [
       "<dt><a class=\"ProveItLink\" href=\"../../../../circuits/_theory_nbs_/proofs/qcircuit_eq/thm_proof.ipynb\">proveit.physics.quantum.circuits.qcircuit_eq</a></dt><dd><a class=\"ProveItLink\" href=\"../../../../circuits/__pv_it/theorems/b2c47fe0145de986df41705e14fbcb1a8c1a87230/expr.ipynb\"><img src=\"../../../../circuits/__pv_it/theorems/b2c47fe0145de986df41705e14fbcb1a8c1a87230/expr.png\" style=\"display:inline;vertical-align:middle;\" /></a></dd>"
      ],
      "text/plain": [
       "<IPython.core.display.HTML object>"
      ]
     },
     "metadata": {},
     "output_type": "display_data"
    },
    {
     "data": {
      "text/html": [
       "<dt><a class=\"ProveItLink\" href=\"../../../../circuits/_theory_nbs_/proofs/qcircuit_neq/thm_proof.ipynb\">proveit.physics.quantum.circuits.qcircuit_neq</a></dt><dd><a class=\"ProveItLink\" href=\"../../../../circuits/__pv_it/theorems/c5ce9578a7f83290126b0b2191337d960b7211600/expr.ipynb\"><img src=\"../../../../circuits/__pv_it/theorems/c5ce9578a7f83290126b0b2191337d960b7211600/expr.png\" style=\"display:inline;vertical-align:middle;\" /></a></dd>"
      ],
      "text/plain": [
       "<IPython.core.display.HTML object>"
      ]
     },
     "metadata": {},
     "output_type": "display_data"
    },
    {
     "data": {
      "text/html": [
       "<dt><a class=\"ProveItLink\" href=\"../../../../circuits/_theory_nbs_/proofs/qcircuit_output_part_neq/thm_proof.ipynb\">proveit.physics.quantum.circuits.qcircuit_output_part_neq</a></dt><dd><a class=\"ProveItLink\" href=\"../../../../circuits/__pv_it/theorems/ef266fb7a3e103e6b2b42696d24dd48f9f06bc510/expr.ipynb\"><img src=\"../../../../circuits/__pv_it/theorems/ef266fb7a3e103e6b2b42696d24dd48f9f06bc510/expr.png\" style=\"display:inline;vertical-align:middle;\" /></a></dd>"
      ],
      "text/plain": [
       "<IPython.core.display.HTML object>"
      ]
     },
     "metadata": {},
     "output_type": "display_data"
    },
    {
     "data": {
      "text/html": [
       "<dt><a class=\"ProveItLink\" href=\"../../../../circuits/_theory_nbs_/proofs/register_meas_bijection/thm_proof.ipynb\">proveit.physics.quantum.circuits.register_meas_bijection</a></dt><dd><a class=\"ProveItLink\" href=\"../../../../circuits/__pv_it/theorems/6c1752e89c6640b5327e76c38299fa58bb1dfb550/expr.ipynb\"><img src=\"../../../../circuits/__pv_it/theorems/6c1752e89c6640b5327e76c38299fa58bb1dfb550/expr.png\" style=\"display:inline;vertical-align:middle;\" /></a></dd>"
      ],
      "text/plain": [
       "<IPython.core.display.HTML object>"
      ]
     },
     "metadata": {},
     "output_type": "display_data"
    },
    {
     "data": {
      "text/html": [
       "<dt><a class=\"ProveItLink\" href=\"../../../../circuits/_theory_nbs_/proofs/register_meas_sample_space/thm_proof.ipynb\">proveit.physics.quantum.circuits.register_meas_sample_space</a></dt><dd><a class=\"ProveItLink\" href=\"../../../../circuits/__pv_it/theorems/f227c456a9c4f1d62f600dea086e01acc408b4540/expr.ipynb\"><img src=\"../../../../circuits/__pv_it/theorems/f227c456a9c4f1d62f600dea086e01acc408b4540/expr.png\" style=\"display:inline;vertical-align:middle;\" /></a></dd>"
      ],
      "text/plain": [
       "<IPython.core.display.HTML object>"
      ]
     },
     "metadata": {},
     "output_type": "display_data"
    },
    {
     "data": {
      "text/html": [
       "<dt><a class=\"ProveItLink\" href=\"../../../../circuits/_theory_nbs_/proofs/rhs_prob_via_equiv/thm_proof.ipynb\">proveit.physics.quantum.circuits.rhs_prob_via_equiv</a></dt><dd><a class=\"ProveItLink\" href=\"../../../../circuits/__pv_it/theorems/cc90ca6a07e0ca714e1d1ffb28c8d07938967fc30/expr.ipynb\"><img src=\"../../../../circuits/__pv_it/theorems/cc90ca6a07e0ca714e1d1ffb28c8d07938967fc30/expr.png\" style=\"display:inline;vertical-align:middle;\" /></a></dd>"
      ],
      "text/plain": [
       "<IPython.core.display.HTML object>"
      ]
     },
     "metadata": {},
     "output_type": "display_data"
    },
    {
     "data": {
      "text/html": [
       "<dt><a class=\"ProveItLink\" href=\"../../../../circuits/_theory_nbs_/proofs/trivial_expansion_below/thm_proof.ipynb\">proveit.physics.quantum.circuits.trivial_expansion_below</a></dt><dd><a class=\"ProveItLink\" href=\"../../../../circuits/__pv_it/theorems/35f56a36213b99527d445696ef9c53bcc11ceaea0/expr.ipynb\"><img src=\"../../../../circuits/__pv_it/theorems/35f56a36213b99527d445696ef9c53bcc11ceaea0/expr.png\" style=\"display:inline;vertical-align:middle;\" /></a></dd>"
      ],
      "text/plain": [
       "<IPython.core.display.HTML object>"
      ]
     },
     "metadata": {},
     "output_type": "display_data"
    },
    {
     "data": {
      "text/html": [
       "<dt><a class=\"ProveItLink\" href=\"../../../../circuits/_theory_nbs_/proofs/unary_multi_output_reduction/thm_proof.ipynb\">proveit.physics.quantum.circuits.unary_multi_output_reduction</a></dt><dd><a class=\"ProveItLink\" href=\"../../../../circuits/__pv_it/theorems/8f7c3cf5bd07e228cce81f7f58238cc216f9db360/expr.ipynb\"><img src=\"../../../../circuits/__pv_it/theorems/8f7c3cf5bd07e228cce81f7f58238cc216f9db360/expr.png\" style=\"display:inline;vertical-align:middle;\" /></a></dd>"
      ],
      "text/plain": [
       "<IPython.core.display.HTML object>"
      ]
     },
     "metadata": {},
     "output_type": "display_data"
    },
    {
     "data": {
      "text/html": [
       "<dt><a class=\"ProveItLink\" href=\"../../../../circuits/_theory_nbs_/proofs/unitary_gate_operation/thm_proof.ipynb\">proveit.physics.quantum.circuits.unitary_gate_operation</a></dt><dd><a class=\"ProveItLink\" href=\"../../../../circuits/__pv_it/theorems/331c374f66175a5b20978f1d97bd38b42d2827bf0/expr.ipynb\"><img src=\"../../../../circuits/__pv_it/theorems/331c374f66175a5b20978f1d97bd38b42d2827bf0/expr.png\" style=\"display:inline;vertical-align:middle;\" /></a></dd>"
      ],
      "text/plain": [
       "<IPython.core.display.HTML object>"
      ]
     },
     "metadata": {},
     "output_type": "display_data"
    },
    {
     "data": {
      "text/html": [
       "<dt><a class=\"ProveItLink\" href=\"../../../../../../statistics/_theory_nbs_/proofs/prob_of_all_as_sum/thm_proof.ipynb\">proveit.statistics.prob_of_all_as_sum</a></dt><dd><a class=\"ProveItLink\" href=\"../../../../../../statistics/__pv_it/theorems/b97c341894e606e60c3b60e38a3ae6e938b6ab2d0/expr.ipynb\"><img src=\"../../../../../../statistics/__pv_it/theorems/b97c341894e606e60c3b60e38a3ae6e938b6ab2d0/expr.png\" style=\"display:inline;vertical-align:middle;\" /></a></dd>"
      ],
      "text/plain": [
       "<IPython.core.display.HTML object>"
      ]
     },
     "metadata": {},
     "output_type": "display_data"
    },
    {
     "data": {
      "text/html": [
       "<dt><a class=\"ProveItLink\" href=\"../../../../../../statistics/_theory_nbs_/proofs/prob_of_all_events_transformation/thm_proof.ipynb\">proveit.statistics.prob_of_all_events_transformation</a></dt><dd><a class=\"ProveItLink\" href=\"../../../../../../statistics/__pv_it/theorems/51bd2abba7ee4d0edea91b5805520d8439169f280/expr.ipynb\"><img src=\"../../../../../../statistics/__pv_it/theorems/51bd2abba7ee4d0edea91b5805520d8439169f280/expr.png\" style=\"display:inline;vertical-align:middle;\" /></a></dd>"
      ],
      "text/plain": [
       "<IPython.core.display.HTML object>"
      ]
     },
     "metadata": {},
     "output_type": "display_data"
    },
    {
     "data": {
      "text/html": [
       "<dt><a class=\"ProveItLink\" href=\"../../../../../../statistics/_theory_nbs_/proofs/prob_of_disjoint_events_is_prob_sum/thm_proof.ipynb\">proveit.statistics.prob_of_disjoint_events_is_prob_sum</a></dt><dd><a class=\"ProveItLink\" href=\"../../../../../../statistics/__pv_it/theorems/3767ea7456af8ca47f564bcd79686a17eacae3530/expr.ipynb\"><img src=\"../../../../../../statistics/__pv_it/theorems/3767ea7456af8ca47f564bcd79686a17eacae3530/expr.png\" style=\"display:inline;vertical-align:middle;\" /></a></dd>"
      ],
      "text/plain": [
       "<IPython.core.display.HTML object>"
      ]
     },
     "metadata": {},
     "output_type": "display_data"
    },
    {
     "data": {
      "text/html": [
       "<dt><a class=\"ProveItLink\" href=\"../../../../../../statistics/_theory_nbs_/proofs/sample_space_via_bijections/thm_proof.ipynb\">proveit.statistics.sample_space_via_bijections</a></dt><dd><a class=\"ProveItLink\" href=\"../../../../../../statistics/__pv_it/theorems/a8069b7b0334e754bf20c976f2415f7fed98abc20/expr.ipynb\"><img src=\"../../../../../../statistics/__pv_it/theorems/a8069b7b0334e754bf20c976f2415f7fed98abc20/expr.png\" style=\"display:inline;vertical-align:middle;\" /></a></dd>"
      ],
      "text/plain": [
       "<IPython.core.display.HTML object>"
      ]
     },
     "metadata": {},
     "output_type": "display_data"
    },
    {
     "data": {
      "text/html": [
       "<dt><a class=\"ProveItLink\" href=\"../../../../../../trigonometry/_theory_nbs_/proofs/complex_unit_circle_chord_length/thm_proof.ipynb\">proveit.trigonometry.complex_unit_circle_chord_length</a></dt><dd><a class=\"ProveItLink\" href=\"../../../../../../trigonometry/__pv_it/theorems/f393f69d6a4acf4860c2188ba3a7c50e0fbaeab20/expr.ipynb\"><img src=\"../../../../../../trigonometry/__pv_it/theorems/f393f69d6a4acf4860c2188ba3a7c50e0fbaeab20/expr.png\" style=\"display:inline;vertical-align:middle;\" /></a></dd>"
      ],
      "text/plain": [
       "<IPython.core.display.HTML object>"
      ]
     },
     "metadata": {},
     "output_type": "display_data"
    },
    {
     "data": {
      "text/html": [
       "<dt><a class=\"ProveItLink\" href=\"../../../../../../trigonometry/_theory_nbs_/proofs/sine_linear_bound_nonneg/thm_proof.ipynb\">proveit.trigonometry.sine_linear_bound_nonneg</a></dt><dd><a class=\"ProveItLink\" href=\"../../../../../../trigonometry/__pv_it/theorems/e459b601ff75bf9068c935690c8f272d94e11bd70/expr.ipynb\"><img src=\"../../../../../../trigonometry/__pv_it/theorems/e459b601ff75bf9068c935690c8f272d94e11bd70/expr.png\" style=\"display:inline;vertical-align:middle;\" /></a></dd>"
      ],
      "text/plain": [
       "<IPython.core.display.HTML object>"
      ]
     },
     "metadata": {},
     "output_type": "display_data"
    },
    {
     "data": {
      "text/html": [
       "<dt><a class=\"ProveItLink\" href=\"../../../../../../trigonometry/_theory_nbs_/proofs/sine_pos_interval/thm_proof.ipynb\">proveit.trigonometry.sine_pos_interval</a></dt><dd><a class=\"ProveItLink\" href=\"../../../../../../trigonometry/__pv_it/theorems/1729b42b1b912ffb8d62809442355dd74384adc20/expr.ipynb\"><img src=\"../../../../../../trigonometry/__pv_it/theorems/1729b42b1b912ffb8d62809442355dd74384adc20/expr.png\" style=\"display:inline;vertical-align:middle;\" /></a></dd>"
      ],
      "text/plain": [
       "<IPython.core.display.HTML object>"
      ]
     },
     "metadata": {},
     "output_type": "display_data"
    },
    {
     "data": {
      "text/html": [
       "</dl>"
      ],
      "text/plain": [
       "<IPython.core.display.HTML object>"
      ]
     },
     "metadata": {},
     "output_type": "display_data"
    },
    {
     "data": {
      "text/html": [
       "<h3>Axioms required (directly or indirectly) to prove _failure_upper_bound</h3>"
      ],
      "text/plain": [
       "<IPython.core.display.HTML object>"
      ]
     },
     "metadata": {},
     "output_type": "display_data"
    },
    {
     "data": {
      "text/html": [
       "<dl>"
      ],
      "text/plain": [
       "<IPython.core.display.HTML object>"
      ]
     },
     "metadata": {},
     "output_type": "display_data"
    },
    {
     "data": {
      "text/html": [
       "<dt><a class=\"ProveItLink\" href=\"../../../../../../core_expr_types/conditionals/_theory_nbs_/axioms.ipynb#condition_replacement\">proveit.core_expr_types.conditionals.condition_replacement</a></dt><dd><a class=\"ProveItLink\" href=\"../../../../../../core_expr_types/conditionals/__pv_it/axioms/477fa00338386b957e051df9105be19ef197cd130/expr.ipynb\"><img src=\"../../../../../../core_expr_types/conditionals/__pv_it/axioms/477fa00338386b957e051df9105be19ef197cd130/expr.png\" style=\"display:inline;vertical-align:middle;\" /></a></dd>"
      ],
      "text/plain": [
       "<IPython.core.display.HTML object>"
      ]
     },
     "metadata": {},
     "output_type": "display_data"
    },
    {
     "data": {
      "text/html": [
       "<dt><a class=\"ProveItLink\" href=\"../../../../../../core_expr_types/conditionals/_theory_nbs_/axioms.ipynb#conditional_substitution\">proveit.core_expr_types.conditionals.conditional_substitution</a></dt><dd><a class=\"ProveItLink\" href=\"../../../../../../core_expr_types/conditionals/__pv_it/axioms/63e5e0c1276cb1bb5fa7a2b0d0bc38d036151d290/expr.ipynb\"><img src=\"../../../../../../core_expr_types/conditionals/__pv_it/axioms/63e5e0c1276cb1bb5fa7a2b0d0bc38d036151d290/expr.png\" style=\"display:inline;vertical-align:middle;\" /></a></dd>"
      ],
      "text/plain": [
       "<IPython.core.display.HTML object>"
      ]
     },
     "metadata": {},
     "output_type": "display_data"
    },
    {
     "data": {
      "text/html": [
       "<dt><a class=\"ProveItLink\" href=\"../../../../../../core_expr_types/conditionals/_theory_nbs_/axioms.ipynb#true_case_reduction\">proveit.core_expr_types.conditionals.true_case_reduction</a></dt><dd><a class=\"ProveItLink\" href=\"../../../../../../core_expr_types/conditionals/__pv_it/axioms/9151abb9e4e0cba92a2ae162c7e73f15a663ee9e0/expr.ipynb\"><img src=\"../../../../../../core_expr_types/conditionals/__pv_it/axioms/9151abb9e4e0cba92a2ae162c7e73f15a663ee9e0/expr.png\" style=\"display:inline;vertical-align:middle;\" /></a></dd>"
      ],
      "text/plain": [
       "<IPython.core.display.HTML object>"
      ]
     },
     "metadata": {},
     "output_type": "display_data"
    },
    {
     "data": {
      "text/html": [
       "<dt><a class=\"ProveItLink\" href=\"../../../../../../core_expr_types/lambda_maps/_theory_nbs_/axioms.ipynb#lambda_substitution\">proveit.core_expr_types.lambda_maps.lambda_substitution</a></dt><dd><a class=\"ProveItLink\" href=\"../../../../../../core_expr_types/lambda_maps/__pv_it/axioms/bff143def57912affde18c7a27272cb1e41a7d8d0/expr.ipynb\"><img src=\"../../../../../../core_expr_types/lambda_maps/__pv_it/axioms/bff143def57912affde18c7a27272cb1e41a7d8d0/expr.png\" style=\"display:inline;vertical-align:middle;\" /></a></dd>"
      ],
      "text/plain": [
       "<IPython.core.display.HTML object>"
      ]
     },
     "metadata": {},
     "output_type": "display_data"
    },
    {
     "data": {
      "text/html": [
       "<dt><a class=\"ProveItLink\" href=\"../../../../../../core_expr_types/operations/_theory_nbs_/axioms.ipynb#operands_substitution\">proveit.core_expr_types.operations.operands_substitution</a></dt><dd><a class=\"ProveItLink\" href=\"../../../../../../core_expr_types/operations/__pv_it/axioms/e9a2fec83f7f76487e4e1ae47c47050c1e84bf510/expr.ipynb\"><img src=\"../../../../../../core_expr_types/operations/__pv_it/axioms/e9a2fec83f7f76487e4e1ae47c47050c1e84bf510/expr.png\" style=\"display:inline;vertical-align:middle;\" /></a></dd>"
      ],
      "text/plain": [
       "<IPython.core.display.HTML object>"
      ]
     },
     "metadata": {},
     "output_type": "display_data"
    },
    {
     "data": {
      "text/html": [
       "<dt><a class=\"ProveItLink\" href=\"../../../../../../core_expr_types/tuples/_theory_nbs_/axioms.ipynb#empty_range_def\">proveit.core_expr_types.tuples.empty_range_def</a></dt><dd><a class=\"ProveItLink\" href=\"../../../../../../core_expr_types/tuples/__pv_it/axioms/a96de2387feb1b6e6d0957c14e9b9fd9aee93d570/expr.ipynb\"><img src=\"../../../../../../core_expr_types/tuples/__pv_it/axioms/a96de2387feb1b6e6d0957c14e9b9fd9aee93d570/expr.png\" style=\"display:inline;vertical-align:middle;\" /></a></dd>"
      ],
      "text/plain": [
       "<IPython.core.display.HTML object>"
      ]
     },
     "metadata": {},
     "output_type": "display_data"
    },
    {
     "data": {
      "text/html": [
       "<dt><a class=\"ProveItLink\" href=\"../../../../../../core_expr_types/tuples/_theory_nbs_/axioms.ipynb#range_extension_def\">proveit.core_expr_types.tuples.range_extension_def</a></dt><dd><a class=\"ProveItLink\" href=\"../../../../../../core_expr_types/tuples/__pv_it/axioms/37dc76e7aec5f45735897544f11e03818c2b7d1a0/expr.ipynb\"><img src=\"../../../../../../core_expr_types/tuples/__pv_it/axioms/37dc76e7aec5f45735897544f11e03818c2b7d1a0/expr.png\" style=\"display:inline;vertical-align:middle;\" /></a></dd>"
      ],
      "text/plain": [
       "<IPython.core.display.HTML object>"
      ]
     },
     "metadata": {},
     "output_type": "display_data"
    },
    {
     "data": {
      "text/html": [
       "<dt><a class=\"ProveItLink\" href=\"../../../../../../core_expr_types/tuples/_theory_nbs_/axioms.ipynb#tuple_eq_def\">proveit.core_expr_types.tuples.tuple_eq_def</a></dt><dd><a class=\"ProveItLink\" href=\"../../../../../../core_expr_types/tuples/__pv_it/axioms/1eb3a9f2b67de7239ba27a19d778534a9eece6400/expr.ipynb\"><img src=\"../../../../../../core_expr_types/tuples/__pv_it/axioms/1eb3a9f2b67de7239ba27a19d778534a9eece6400/expr.png\" style=\"display:inline;vertical-align:middle;\" /></a></dd>"
      ],
      "text/plain": [
       "<IPython.core.display.HTML object>"
      ]
     },
     "metadata": {},
     "output_type": "display_data"
    },
    {
     "data": {
      "text/html": [
       "<dt><a class=\"ProveItLink\" href=\"../../../../../../core_expr_types/tuples/_theory_nbs_/axioms.ipynb#tuple_len_incr\">proveit.core_expr_types.tuples.tuple_len_incr</a></dt><dd><a class=\"ProveItLink\" href=\"../../../../../../core_expr_types/tuples/__pv_it/axioms/31e6c515c8bcc36197a8784e24d8800658bd23ba0/expr.ipynb\"><img src=\"../../../../../../core_expr_types/tuples/__pv_it/axioms/31e6c515c8bcc36197a8784e24d8800658bd23ba0/expr.png\" style=\"display:inline;vertical-align:middle;\" /></a></dd>"
      ],
      "text/plain": [
       "<IPython.core.display.HTML object>"
      ]
     },
     "metadata": {},
     "output_type": "display_data"
    },
    {
     "data": {
      "text/html": [
       "<dt><a class=\"ProveItLink\" href=\"../../../../../../linear_algebra/addition/_theory_nbs_/axioms.ipynb#scalar_sum_extends_number_sum\">proveit.linear_algebra.addition.scalar_sum_extends_number_sum</a></dt><dd><a class=\"ProveItLink\" href=\"../../../../../../linear_algebra/addition/__pv_it/axioms/f6fd452f8a6415db9ddf6bb2de753ad8c24156970/expr.ipynb\"><img src=\"../../../../../../linear_algebra/addition/__pv_it/axioms/f6fd452f8a6415db9ddf6bb2de753ad8c24156970/expr.png\" style=\"display:inline;vertical-align:middle;\" /></a></dd>"
      ],
      "text/plain": [
       "<IPython.core.display.HTML object>"
      ]
     },
     "metadata": {},
     "output_type": "display_data"
    },
    {
     "data": {
      "text/html": [
       "<dt><a class=\"ProveItLink\" href=\"../../../../../../linear_algebra/addition/_theory_nbs_/axioms.ipynb#vec_sum_single\">proveit.linear_algebra.addition.vec_sum_single</a></dt><dd><a class=\"ProveItLink\" href=\"../../../../../../linear_algebra/addition/__pv_it/axioms/c597457ddc11a8c1f529715454e18f71ef3d31de0/expr.ipynb\"><img src=\"../../../../../../linear_algebra/addition/__pv_it/axioms/c597457ddc11a8c1f529715454e18f71ef3d31de0/expr.png\" style=\"display:inline;vertical-align:middle;\" /></a></dd>"
      ],
      "text/plain": [
       "<IPython.core.display.HTML object>"
      ]
     },
     "metadata": {},
     "output_type": "display_data"
    },
    {
     "data": {
      "text/html": [
       "<dt><a class=\"ProveItLink\" href=\"../../../../../../linear_algebra/scalar_multiplication/_theory_nbs_/axioms.ipynb#scalar_mult_extends_number_mult\">proveit.linear_algebra.scalar_multiplication.scalar_mult_extends_number_mult</a></dt><dd><a class=\"ProveItLink\" href=\"../../../../../../linear_algebra/scalar_multiplication/__pv_it/axioms/c3e448c268301a38379b968d4d15c77dd1c82ca00/expr.ipynb\"><img src=\"../../../../../../linear_algebra/scalar_multiplication/__pv_it/axioms/c3e448c268301a38379b968d4d15c77dd1c82ca00/expr.png\" style=\"display:inline;vertical-align:middle;\" /></a></dd>"
      ],
      "text/plain": [
       "<IPython.core.display.HTML object>"
      ]
     },
     "metadata": {},
     "output_type": "display_data"
    },
    {
     "data": {
      "text/html": [
       "<dt><a class=\"ProveItLink\" href=\"../../../../../../linear_algebra/tensors/_theory_nbs_/axioms.ipynb#unary_tensor_prod_def\">proveit.linear_algebra.tensors.unary_tensor_prod_def</a></dt><dd><a class=\"ProveItLink\" href=\"../../../../../../linear_algebra/tensors/__pv_it/axioms/026244e3c85720162558aa90459257f16b6155d50/expr.ipynb\"><img src=\"../../../../../../linear_algebra/tensors/__pv_it/axioms/026244e3c85720162558aa90459257f16b6155d50/expr.png\" style=\"display:inline;vertical-align:middle;\" /></a></dd>"
      ],
      "text/plain": [
       "<IPython.core.display.HTML object>"
      ]
     },
     "metadata": {},
     "output_type": "display_data"
    },
    {
     "data": {
      "text/html": [
       "<dt><a class=\"ProveItLink\" href=\"../../../../../../logic/booleans/_theory_nbs_/axioms.ipynb#bools_def\">proveit.logic.booleans.bools_def</a></dt><dd><a class=\"ProveItLink\" href=\"../../../../../../logic/booleans/__pv_it/axioms/0ed31a4273b0db746a43c9d8e01361d0476217f00/expr.ipynb\"><img src=\"../../../../../../logic/booleans/__pv_it/axioms/0ed31a4273b0db746a43c9d8e01361d0476217f00/expr.png\" style=\"display:inline;vertical-align:middle;\" /></a></dd>"
      ],
      "text/plain": [
       "<IPython.core.display.HTML object>"
      ]
     },
     "metadata": {},
     "output_type": "display_data"
    },
    {
     "data": {
      "text/html": [
       "<dt><a class=\"ProveItLink\" href=\"../../../../../../logic/booleans/conjunction/_theory_nbs_/axioms.ipynb#and_t_t\">proveit.logic.booleans.conjunction.and_t_t</a></dt><dd><a class=\"ProveItLink\" href=\"../../../../../../logic/booleans/conjunction/__pv_it/axioms/2e06e480834dffc99779e341f5b63756ff25f98e0/expr.ipynb\"><img src=\"../../../../../../logic/booleans/conjunction/__pv_it/axioms/2e06e480834dffc99779e341f5b63756ff25f98e0/expr.png\" style=\"display:inline;vertical-align:middle;\" /></a></dd>"
      ],
      "text/plain": [
       "<IPython.core.display.HTML object>"
      ]
     },
     "metadata": {},
     "output_type": "display_data"
    },
    {
     "data": {
      "text/html": [
       "<dt><a class=\"ProveItLink\" href=\"../../../../../../logic/booleans/disjunction/_theory_nbs_/axioms.ipynb#empty_disjunction\">proveit.logic.booleans.disjunction.empty_disjunction</a></dt><dd><a class=\"ProveItLink\" href=\"../../../../../../logic/booleans/disjunction/__pv_it/axioms/7c8a5fceb27af0b8c336880a32aa294256f5ebef0/expr.ipynb\"><img src=\"../../../../../../logic/booleans/disjunction/__pv_it/axioms/7c8a5fceb27af0b8c336880a32aa294256f5ebef0/expr.png\" style=\"display:inline;vertical-align:middle;\" /></a></dd>"
      ],
      "text/plain": [
       "<IPython.core.display.HTML object>"
      ]
     },
     "metadata": {},
     "output_type": "display_data"
    },
    {
     "data": {
      "text/html": [
       "<dt><a class=\"ProveItLink\" href=\"../../../../../../logic/booleans/disjunction/_theory_nbs_/axioms.ipynb#left_in_bool\">proveit.logic.booleans.disjunction.left_in_bool</a></dt><dd><a class=\"ProveItLink\" href=\"../../../../../../logic/booleans/disjunction/__pv_it/axioms/31cf087cfdbabf741dc6de93d74bdfb1386ee4500/expr.ipynb\"><img src=\"../../../../../../logic/booleans/disjunction/__pv_it/axioms/31cf087cfdbabf741dc6de93d74bdfb1386ee4500/expr.png\" style=\"display:inline;vertical-align:middle;\" /></a></dd>"
      ],
      "text/plain": [
       "<IPython.core.display.HTML object>"
      ]
     },
     "metadata": {},
     "output_type": "display_data"
    },
    {
     "data": {
      "text/html": [
       "<dt><a class=\"ProveItLink\" href=\"../../../../../../logic/booleans/disjunction/_theory_nbs_/axioms.ipynb#multi_disjunction_def\">proveit.logic.booleans.disjunction.multi_disjunction_def</a></dt><dd><a class=\"ProveItLink\" href=\"../../../../../../logic/booleans/disjunction/__pv_it/axioms/3a12f2e98e109c481cfba1ef0427fed927129dd10/expr.ipynb\"><img src=\"../../../../../../logic/booleans/disjunction/__pv_it/axioms/3a12f2e98e109c481cfba1ef0427fed927129dd10/expr.png\" style=\"display:inline;vertical-align:middle;\" /></a></dd>"
      ],
      "text/plain": [
       "<IPython.core.display.HTML object>"
      ]
     },
     "metadata": {},
     "output_type": "display_data"
    },
    {
     "data": {
      "text/html": [
       "<dt><a class=\"ProveItLink\" href=\"../../../../../../logic/booleans/disjunction/_theory_nbs_/axioms.ipynb#or_f_f\">proveit.logic.booleans.disjunction.or_f_f</a></dt><dd><a class=\"ProveItLink\" href=\"../../../../../../logic/booleans/disjunction/__pv_it/axioms/4e6ae09189e7fdfa4842751d2c37d9938b19ca550/expr.ipynb\"><img src=\"../../../../../../logic/booleans/disjunction/__pv_it/axioms/4e6ae09189e7fdfa4842751d2c37d9938b19ca550/expr.png\" style=\"display:inline;vertical-align:middle;\" /></a></dd>"
      ],
      "text/plain": [
       "<IPython.core.display.HTML object>"
      ]
     },
     "metadata": {},
     "output_type": "display_data"
    },
    {
     "data": {
      "text/html": [
       "<dt><a class=\"ProveItLink\" href=\"../../../../../../logic/booleans/disjunction/_theory_nbs_/axioms.ipynb#or_f_t\">proveit.logic.booleans.disjunction.or_f_t</a></dt><dd><a class=\"ProveItLink\" href=\"../../../../../../logic/booleans/disjunction/__pv_it/axioms/9e9f256c794c8500531ff9573d3ae5b5b63b68f90/expr.ipynb\"><img src=\"../../../../../../logic/booleans/disjunction/__pv_it/axioms/9e9f256c794c8500531ff9573d3ae5b5b63b68f90/expr.png\" style=\"display:inline;vertical-align:middle;\" /></a></dd>"
      ],
      "text/plain": [
       "<IPython.core.display.HTML object>"
      ]
     },
     "metadata": {},
     "output_type": "display_data"
    },
    {
     "data": {
      "text/html": [
       "<dt><a class=\"ProveItLink\" href=\"../../../../../../logic/booleans/disjunction/_theory_nbs_/axioms.ipynb#or_t_f\">proveit.logic.booleans.disjunction.or_t_f</a></dt><dd><a class=\"ProveItLink\" href=\"../../../../../../logic/booleans/disjunction/__pv_it/axioms/60330ee6db5efb06d1adf8b0bcef3a1d453390260/expr.ipynb\"><img src=\"../../../../../../logic/booleans/disjunction/__pv_it/axioms/60330ee6db5efb06d1adf8b0bcef3a1d453390260/expr.png\" style=\"display:inline;vertical-align:middle;\" /></a></dd>"
      ],
      "text/plain": [
       "<IPython.core.display.HTML object>"
      ]
     },
     "metadata": {},
     "output_type": "display_data"
    },
    {
     "data": {
      "text/html": [
       "<dt><a class=\"ProveItLink\" href=\"../../../../../../logic/booleans/disjunction/_theory_nbs_/axioms.ipynb#or_t_t\">proveit.logic.booleans.disjunction.or_t_t</a></dt><dd><a class=\"ProveItLink\" href=\"../../../../../../logic/booleans/disjunction/__pv_it/axioms/51ce2bda98b4bba5508f7e5f97f3c050ced5ef980/expr.ipynb\"><img src=\"../../../../../../logic/booleans/disjunction/__pv_it/axioms/51ce2bda98b4bba5508f7e5f97f3c050ced5ef980/expr.png\" style=\"display:inline;vertical-align:middle;\" /></a></dd>"
      ],
      "text/plain": [
       "<IPython.core.display.HTML object>"
      ]
     },
     "metadata": {},
     "output_type": "display_data"
    },
    {
     "data": {
      "text/html": [
       "<dt><a class=\"ProveItLink\" href=\"../../../../../../logic/booleans/disjunction/_theory_nbs_/axioms.ipynb#right_in_bool\">proveit.logic.booleans.disjunction.right_in_bool</a></dt><dd><a class=\"ProveItLink\" href=\"../../../../../../logic/booleans/disjunction/__pv_it/axioms/75538c610162aedd9326f6bb1421f121a3b110aa0/expr.ipynb\"><img src=\"../../../../../../logic/booleans/disjunction/__pv_it/axioms/75538c610162aedd9326f6bb1421f121a3b110aa0/expr.png\" style=\"display:inline;vertical-align:middle;\" /></a></dd>"
      ],
      "text/plain": [
       "<IPython.core.display.HTML object>"
      ]
     },
     "metadata": {},
     "output_type": "display_data"
    },
    {
     "data": {
      "text/html": [
       "<dt><a class=\"ProveItLink\" href=\"../../../../../../logic/booleans/_theory_nbs_/axioms.ipynb#eq_true_elim\">proveit.logic.booleans.eq_true_elim</a></dt><dd><a class=\"ProveItLink\" href=\"../../../../../../logic/booleans/__pv_it/axioms/e109ec75dbf9febf42e2a6841bae9d9b810afe380/expr.ipynb\"><img src=\"../../../../../../logic/booleans/__pv_it/axioms/e109ec75dbf9febf42e2a6841bae9d9b810afe380/expr.png\" style=\"display:inline;vertical-align:middle;\" /></a></dd>"
      ],
      "text/plain": [
       "<IPython.core.display.HTML object>"
      ]
     },
     "metadata": {},
     "output_type": "display_data"
    },
    {
     "data": {
      "text/html": [
       "<dt><a class=\"ProveItLink\" href=\"../../../../../../logic/booleans/_theory_nbs_/axioms.ipynb#eq_true_intro\">proveit.logic.booleans.eq_true_intro</a></dt><dd><a class=\"ProveItLink\" href=\"../../../../../../logic/booleans/__pv_it/axioms/af7fcd0228bc2f434dd8febb9d8c4f56a07241be0/expr.ipynb\"><img src=\"../../../../../../logic/booleans/__pv_it/axioms/af7fcd0228bc2f434dd8febb9d8c4f56a07241be0/expr.png\" style=\"display:inline;vertical-align:middle;\" /></a></dd>"
      ],
      "text/plain": [
       "<IPython.core.display.HTML object>"
      ]
     },
     "metadata": {},
     "output_type": "display_data"
    },
    {
     "data": {
      "text/html": [
       "<dt><a class=\"ProveItLink\" href=\"../../../../../../logic/booleans/_theory_nbs_/axioms.ipynb#false_not_true\">proveit.logic.booleans.false_not_true</a></dt><dd><a class=\"ProveItLink\" href=\"../../../../../../logic/booleans/__pv_it/axioms/eb8cfde2511c6ba3e5c8a65a4e82d309baeb3e560/expr.ipynb\"><img src=\"../../../../../../logic/booleans/__pv_it/axioms/eb8cfde2511c6ba3e5c8a65a4e82d309baeb3e560/expr.png\" style=\"display:inline;vertical-align:middle;\" /></a></dd>"
      ],
      "text/plain": [
       "<IPython.core.display.HTML object>"
      ]
     },
     "metadata": {},
     "output_type": "display_data"
    },
    {
     "data": {
      "text/html": [
       "<dt><a class=\"ProveItLink\" href=\"../../../../../../logic/booleans/implication/_theory_nbs_/axioms.ipynb#affirmation_via_contradiction\">proveit.logic.booleans.implication.affirmation_via_contradiction</a></dt><dd><a class=\"ProveItLink\" href=\"../../../../../../logic/booleans/implication/__pv_it/axioms/e370e39221e2813384746423b62d6484d70717460/expr.ipynb\"><img src=\"../../../../../../logic/booleans/implication/__pv_it/axioms/e370e39221e2813384746423b62d6484d70717460/expr.png\" style=\"display:inline;vertical-align:middle;\" /></a></dd>"
      ],
      "text/plain": [
       "<IPython.core.display.HTML object>"
      ]
     },
     "metadata": {},
     "output_type": "display_data"
    },
    {
     "data": {
      "text/html": [
       "<dt><a class=\"ProveItLink\" href=\"../../../../../../logic/booleans/implication/_theory_nbs_/axioms.ipynb#denial_via_contradiction\">proveit.logic.booleans.implication.denial_via_contradiction</a></dt><dd><a class=\"ProveItLink\" href=\"../../../../../../logic/booleans/implication/__pv_it/axioms/15e245c22c3eb4d9b40c738cddd8abe5669ddc9a0/expr.ipynb\"><img src=\"../../../../../../logic/booleans/implication/__pv_it/axioms/15e245c22c3eb4d9b40c738cddd8abe5669ddc9a0/expr.png\" style=\"display:inline;vertical-align:middle;\" /></a></dd>"
      ],
      "text/plain": [
       "<IPython.core.display.HTML object>"
      ]
     },
     "metadata": {},
     "output_type": "display_data"
    },
    {
     "data": {
      "text/html": [
       "<dt><a class=\"ProveItLink\" href=\"../../../../../../logic/booleans/implication/_theory_nbs_/axioms.ipynb#iff_def\">proveit.logic.booleans.implication.iff_def</a></dt><dd><a class=\"ProveItLink\" href=\"../../../../../../logic/booleans/implication/__pv_it/axioms/58a59ea31f5a83ad01737244ae60b8d4dd112afb0/expr.ipynb\"><img src=\"../../../../../../logic/booleans/implication/__pv_it/axioms/58a59ea31f5a83ad01737244ae60b8d4dd112afb0/expr.png\" style=\"display:inline;vertical-align:middle;\" /></a></dd>"
      ],
      "text/plain": [
       "<IPython.core.display.HTML object>"
      ]
     },
     "metadata": {},
     "output_type": "display_data"
    },
    {
     "data": {
      "text/html": [
       "<dt><a class=\"ProveItLink\" href=\"../../../../../../logic/booleans/negation/_theory_nbs_/axioms.ipynb#negation_elim\">proveit.logic.booleans.negation.negation_elim</a></dt><dd><a class=\"ProveItLink\" href=\"../../../../../../logic/booleans/negation/__pv_it/axioms/0fd3f403bc4d76bb1a3bc88358aa217c1bfc7dc50/expr.ipynb\"><img src=\"../../../../../../logic/booleans/negation/__pv_it/axioms/0fd3f403bc4d76bb1a3bc88358aa217c1bfc7dc50/expr.png\" style=\"display:inline;vertical-align:middle;\" /></a></dd>"
      ],
      "text/plain": [
       "<IPython.core.display.HTML object>"
      ]
     },
     "metadata": {},
     "output_type": "display_data"
    },
    {
     "data": {
      "text/html": [
       "<dt><a class=\"ProveItLink\" href=\"../../../../../../logic/booleans/negation/_theory_nbs_/axioms.ipynb#not_f\">proveit.logic.booleans.negation.not_f</a></dt><dd><a class=\"ProveItLink\" href=\"../../../../../../logic/booleans/negation/__pv_it/axioms/b9bd74a578c6b2e794e4ce82c543ff5c79f215890/expr.ipynb\"><img src=\"../../../../../../logic/booleans/negation/__pv_it/axioms/b9bd74a578c6b2e794e4ce82c543ff5c79f215890/expr.png\" style=\"display:inline;vertical-align:middle;\" /></a></dd>"
      ],
      "text/plain": [
       "<IPython.core.display.HTML object>"
      ]
     },
     "metadata": {},
     "output_type": "display_data"
    },
    {
     "data": {
      "text/html": [
       "<dt><a class=\"ProveItLink\" href=\"../../../../../../logic/booleans/negation/_theory_nbs_/axioms.ipynb#not_t\">proveit.logic.booleans.negation.not_t</a></dt><dd><a class=\"ProveItLink\" href=\"../../../../../../logic/booleans/negation/__pv_it/axioms/fa3556271013b3b54b7b75b637f6a18a1772897d0/expr.ipynb\"><img src=\"../../../../../../logic/booleans/negation/__pv_it/axioms/fa3556271013b3b54b7b75b637f6a18a1772897d0/expr.png\" style=\"display:inline;vertical-align:middle;\" /></a></dd>"
      ],
      "text/plain": [
       "<IPython.core.display.HTML object>"
      ]
     },
     "metadata": {},
     "output_type": "display_data"
    },
    {
     "data": {
      "text/html": [
       "<dt><a class=\"ProveItLink\" href=\"../../../../../../logic/booleans/negation/_theory_nbs_/axioms.ipynb#operand_is_bool\">proveit.logic.booleans.negation.operand_is_bool</a></dt><dd><a class=\"ProveItLink\" href=\"../../../../../../logic/booleans/negation/__pv_it/axioms/9b3df63ea9b96f801a3dadc45f3be22470f1b8ac0/expr.ipynb\"><img src=\"../../../../../../logic/booleans/negation/__pv_it/axioms/9b3df63ea9b96f801a3dadc45f3be22470f1b8ac0/expr.png\" style=\"display:inline;vertical-align:middle;\" /></a></dd>"
      ],
      "text/plain": [
       "<IPython.core.display.HTML object>"
      ]
     },
     "metadata": {},
     "output_type": "display_data"
    },
    {
     "data": {
      "text/html": [
       "<dt><a class=\"ProveItLink\" href=\"../../../../../../logic/booleans/_theory_nbs_/axioms.ipynb#true_axiom\">proveit.logic.booleans.true_axiom</a></dt><dd><a class=\"ProveItLink\" href=\"../../../../../../logic/booleans/__pv_it/common/95025295868b9266d37330b4427adf122f6061770/expr.ipynb\"><img src=\"../../../../../../logic/booleans/__pv_it/common/95025295868b9266d37330b4427adf122f6061770/expr.png\" style=\"display:inline;vertical-align:middle;\" /></a></dd>"
      ],
      "text/plain": [
       "<IPython.core.display.HTML object>"
      ]
     },
     "metadata": {},
     "output_type": "display_data"
    },
    {
     "data": {
      "text/html": [
       "<dt><a class=\"ProveItLink\" href=\"../../../../../../logic/equality/_theory_nbs_/axioms.ipynb#equality_in_bool\">proveit.logic.equality.equality_in_bool</a></dt><dd><a class=\"ProveItLink\" href=\"../../../../../../logic/equality/__pv_it/axioms/80c61ed0a9ea703286def3ed4e81641a1e239b430/expr.ipynb\"><img src=\"../../../../../../logic/equality/__pv_it/axioms/80c61ed0a9ea703286def3ed4e81641a1e239b430/expr.png\" style=\"display:inline;vertical-align:middle;\" /></a></dd>"
      ],
      "text/plain": [
       "<IPython.core.display.HTML object>"
      ]
     },
     "metadata": {},
     "output_type": "display_data"
    },
    {
     "data": {
      "text/html": [
       "<dt><a class=\"ProveItLink\" href=\"../../../../../../logic/equality/_theory_nbs_/axioms.ipynb#equals_reflexivity\">proveit.logic.equality.equals_reflexivity</a></dt><dd><a class=\"ProveItLink\" href=\"../../../../../../logic/equality/__pv_it/axioms/864f59d0e02493d4a93bdd8b5654226c327952290/expr.ipynb\"><img src=\"../../../../../../logic/equality/__pv_it/axioms/864f59d0e02493d4a93bdd8b5654226c327952290/expr.png\" style=\"display:inline;vertical-align:middle;\" /></a></dd>"
      ],
      "text/plain": [
       "<IPython.core.display.HTML object>"
      ]
     },
     "metadata": {},
     "output_type": "display_data"
    },
    {
     "data": {
      "text/html": [
       "<dt><a class=\"ProveItLink\" href=\"../../../../../../logic/equality/_theory_nbs_/axioms.ipynb#equals_symmetry\">proveit.logic.equality.equals_symmetry</a></dt><dd><a class=\"ProveItLink\" href=\"../../../../../../logic/equality/__pv_it/axioms/789c834568adff331f7b46a8f81cd1f96d48c8060/expr.ipynb\"><img src=\"../../../../../../logic/equality/__pv_it/axioms/789c834568adff331f7b46a8f81cd1f96d48c8060/expr.png\" style=\"display:inline;vertical-align:middle;\" /></a></dd>"
      ],
      "text/plain": [
       "<IPython.core.display.HTML object>"
      ]
     },
     "metadata": {},
     "output_type": "display_data"
    },
    {
     "data": {
      "text/html": [
       "<dt><a class=\"ProveItLink\" href=\"../../../../../../logic/equality/_theory_nbs_/axioms.ipynb#equals_transitivity\">proveit.logic.equality.equals_transitivity</a></dt><dd><a class=\"ProveItLink\" href=\"../../../../../../logic/equality/__pv_it/axioms/b5b3cf1e74e7e4fc2d5f197f08b661e6992950090/expr.ipynb\"><img src=\"../../../../../../logic/equality/__pv_it/axioms/b5b3cf1e74e7e4fc2d5f197f08b661e6992950090/expr.png\" style=\"display:inline;vertical-align:middle;\" /></a></dd>"
      ],
      "text/plain": [
       "<IPython.core.display.HTML object>"
      ]
     },
     "metadata": {},
     "output_type": "display_data"
    },
    {
     "data": {
      "text/html": [
       "<dt><a class=\"ProveItLink\" href=\"../../../../../../logic/equality/_theory_nbs_/axioms.ipynb#not_equals_def\">proveit.logic.equality.not_equals_def</a></dt><dd><a class=\"ProveItLink\" href=\"../../../../../../logic/equality/__pv_it/axioms/460c0757688de5036b09e198e4b33898716c95990/expr.ipynb\"><img src=\"../../../../../../logic/equality/__pv_it/axioms/460c0757688de5036b09e198e4b33898716c95990/expr.png\" style=\"display:inline;vertical-align:middle;\" /></a></dd>"
      ],
      "text/plain": [
       "<IPython.core.display.HTML object>"
      ]
     },
     "metadata": {},
     "output_type": "display_data"
    },
    {
     "data": {
      "text/html": [
       "<dt><a class=\"ProveItLink\" href=\"../../../../../../logic/equality/_theory_nbs_/axioms.ipynb#substitution\">proveit.logic.equality.substitution</a></dt><dd><a class=\"ProveItLink\" href=\"../../../../../../logic/equality/__pv_it/axioms/b3647e5bced6c805148d96be1aa0946871a946d20/expr.ipynb\"><img src=\"../../../../../../logic/equality/__pv_it/axioms/b3647e5bced6c805148d96be1aa0946871a946d20/expr.png\" style=\"display:inline;vertical-align:middle;\" /></a></dd>"
      ],
      "text/plain": [
       "<IPython.core.display.HTML object>"
      ]
     },
     "metadata": {},
     "output_type": "display_data"
    },
    {
     "data": {
      "text/html": [
       "<dt><a class=\"ProveItLink\" href=\"../../../../../../logic/sets/enumeration/_theory_nbs_/axioms.ipynb#enum_set_def\">proveit.logic.sets.enumeration.enum_set_def</a></dt><dd><a class=\"ProveItLink\" href=\"../../../../../../logic/sets/enumeration/__pv_it/axioms/6fb4ff7ba9c954a5bc3bf9289224108e230746630/expr.ipynb\"><img src=\"../../../../../../logic/sets/enumeration/__pv_it/axioms/6fb4ff7ba9c954a5bc3bf9289224108e230746630/expr.png\" style=\"display:inline;vertical-align:middle;\" /></a></dd>"
      ],
      "text/plain": [
       "<IPython.core.display.HTML object>"
      ]
     },
     "metadata": {},
     "output_type": "display_data"
    },
    {
     "data": {
      "text/html": [
       "<dt><a class=\"ProveItLink\" href=\"../../../../../../logic/sets/functions/images/_theory_nbs_/axioms.ipynb#set_image_def\">proveit.logic.sets.functions.images.set_image_def</a></dt><dd><a class=\"ProveItLink\" href=\"../../../../../../logic/sets/functions/images/__pv_it/axioms/b0847d02082266150472c17f24c0e55906adbc420/expr.ipynb\"><img src=\"../../../../../../logic/sets/functions/images/__pv_it/axioms/b0847d02082266150472c17f24c0e55906adbc420/expr.png\" style=\"display:inline;vertical-align:middle;\" /></a></dd>"
      ],
      "text/plain": [
       "<IPython.core.display.HTML object>"
      ]
     },
     "metadata": {},
     "output_type": "display_data"
    },
    {
     "data": {
      "text/html": [
       "<dt><a class=\"ProveItLink\" href=\"../../../../../../logic/sets/inclusion/_theory_nbs_/axioms.ipynb#proper_subset_def\">proveit.logic.sets.inclusion.proper_subset_def</a></dt><dd><a class=\"ProveItLink\" href=\"../../../../../../logic/sets/inclusion/__pv_it/axioms/62d68349fdc6e5e10115b34eb80d97b83bd304d20/expr.ipynb\"><img src=\"../../../../../../logic/sets/inclusion/__pv_it/axioms/62d68349fdc6e5e10115b34eb80d97b83bd304d20/expr.png\" style=\"display:inline;vertical-align:middle;\" /></a></dd>"
      ],
      "text/plain": [
       "<IPython.core.display.HTML object>"
      ]
     },
     "metadata": {},
     "output_type": "display_data"
    },
    {
     "data": {
      "text/html": [
       "<dt><a class=\"ProveItLink\" href=\"../../../../../../logic/sets/inclusion/_theory_nbs_/axioms.ipynb#subset_eq_def\">proveit.logic.sets.inclusion.subset_eq_def</a></dt><dd><a class=\"ProveItLink\" href=\"../../../../../../logic/sets/inclusion/__pv_it/axioms/0a73f44893619de306ad70c8de110c34b161d8b90/expr.ipynb\"><img src=\"../../../../../../logic/sets/inclusion/__pv_it/axioms/0a73f44893619de306ad70c8de110c34b161d8b90/expr.png\" style=\"display:inline;vertical-align:middle;\" /></a></dd>"
      ],
      "text/plain": [
       "<IPython.core.display.HTML object>"
      ]
     },
     "metadata": {},
     "output_type": "display_data"
    },
    {
     "data": {
      "text/html": [
       "<dt><a class=\"ProveItLink\" href=\"../../../../../../logic/sets/membership/_theory_nbs_/axioms.ipynb#not_in_set_def\">proveit.logic.sets.membership.not_in_set_def</a></dt><dd><a class=\"ProveItLink\" href=\"../../../../../../logic/sets/membership/__pv_it/axioms/0592f2e31092a6f12b70ad6e1b04d96f0a4266170/expr.ipynb\"><img src=\"../../../../../../logic/sets/membership/__pv_it/axioms/0592f2e31092a6f12b70ad6e1b04d96f0a4266170/expr.png\" style=\"display:inline;vertical-align:middle;\" /></a></dd>"
      ],
      "text/plain": [
       "<IPython.core.display.HTML object>"
      ]
     },
     "metadata": {},
     "output_type": "display_data"
    },
    {
     "data": {
      "text/html": [
       "<dt><a class=\"ProveItLink\" href=\"../../../../../../numbers/number_sets/natural_numbers/_theory_nbs_/axioms.ipynb#successor_in_nats\">proveit.numbers.number_sets.natural_numbers.successor_in_nats</a></dt><dd><a class=\"ProveItLink\" href=\"../../../../../../numbers/number_sets/natural_numbers/__pv_it/axioms/a3ae0a8e821daec9b64e4404a6b570bcd10c30650/expr.ipynb\"><img src=\"../../../../../../numbers/number_sets/natural_numbers/__pv_it/axioms/a3ae0a8e821daec9b64e4404a6b570bcd10c30650/expr.png\" style=\"display:inline;vertical-align:middle;\" /></a></dd>"
      ],
      "text/plain": [
       "<IPython.core.display.HTML object>"
      ]
     },
     "metadata": {},
     "output_type": "display_data"
    },
    {
     "data": {
      "text/html": [
       "<dt><a class=\"ProveItLink\" href=\"../../../../../../numbers/number_sets/natural_numbers/_theory_nbs_/axioms.ipynb#zero_in_nats\">proveit.numbers.number_sets.natural_numbers.zero_in_nats</a></dt><dd><a class=\"ProveItLink\" href=\"../../../../../../numbers/number_sets/natural_numbers/__pv_it/axioms/6bc27fa16ea1c04bf3d4c776d5c721085150bfa20/expr.ipynb\"><img src=\"../../../../../../numbers/number_sets/natural_numbers/__pv_it/axioms/6bc27fa16ea1c04bf3d4c776d5c721085150bfa20/expr.png\" style=\"display:inline;vertical-align:middle;\" /></a></dd>"
      ],
      "text/plain": [
       "<IPython.core.display.HTML object>"
      ]
     },
     "metadata": {},
     "output_type": "display_data"
    },
    {
     "data": {
      "text/html": [
       "<dt><a class=\"ProveItLink\" href=\"../../../../../../numbers/numerals/decimals/_theory_nbs_/axioms.ipynb#one_def\">proveit.numbers.numerals.decimals.one_def</a></dt><dd><a class=\"ProveItLink\" href=\"../../../../../../numbers/numerals/decimals/__pv_it/axioms/2ccccb8b1272c6c33b2e567a94aa7d476677c2ba0/expr.ipynb\"><img src=\"../../../../../../numbers/numerals/decimals/__pv_it/axioms/2ccccb8b1272c6c33b2e567a94aa7d476677c2ba0/expr.png\" style=\"display:inline;vertical-align:middle;\" /></a></dd>"
      ],
      "text/plain": [
       "<IPython.core.display.HTML object>"
      ]
     },
     "metadata": {},
     "output_type": "display_data"
    },
    {
     "data": {
      "text/html": [
       "<dt><a class=\"ProveItLink\" href=\"../../../../../../numbers/ordering/_theory_nbs_/axioms.ipynb#less_eq_def\">proveit.numbers.ordering.less_eq_def</a></dt><dd><a class=\"ProveItLink\" href=\"../../../../../../numbers/ordering/__pv_it/axioms/77d6ff7c532a194c5fae4b1c6707b9c6decf64260/expr.ipynb\"><img src=\"../../../../../../numbers/ordering/__pv_it/axioms/77d6ff7c532a194c5fae4b1c6707b9c6decf64260/expr.png\" style=\"display:inline;vertical-align:middle;\" /></a></dd>"
      ],
      "text/plain": [
       "<IPython.core.display.HTML object>"
      ]
     },
     "metadata": {},
     "output_type": "display_data"
    },
    {
     "data": {
      "text/html": [
       "<dt><a class=\"ProveItLink\" href=\"../../../../../../numbers/ordering/_theory_nbs_/axioms.ipynb#max_def_bin\">proveit.numbers.ordering.max_def_bin</a></dt><dd><a class=\"ProveItLink\" href=\"../../../../../../numbers/ordering/__pv_it/axioms/112a9c7f7c68b65c22eb9c549f5045dd5acb93350/expr.ipynb\"><img src=\"../../../../../../numbers/ordering/__pv_it/axioms/112a9c7f7c68b65c22eb9c549f5045dd5acb93350/expr.png\" style=\"display:inline;vertical-align:middle;\" /></a></dd>"
      ],
      "text/plain": [
       "<IPython.core.display.HTML object>"
      ]
     },
     "metadata": {},
     "output_type": "display_data"
    },
    {
     "data": {
      "text/html": [
       "<dt><a class=\"ProveItLink\" href=\"../../../../../../numbers/ordering/_theory_nbs_/axioms.ipynb#transitivity_less_less\">proveit.numbers.ordering.transitivity_less_less</a></dt><dd><a class=\"ProveItLink\" href=\"../../../../../../numbers/ordering/__pv_it/axioms/5b78a7ab6ba3fa1d1e3ffb772b8741309cc27b2a0/expr.ipynb\"><img src=\"../../../../../../numbers/ordering/__pv_it/axioms/5b78a7ab6ba3fa1d1e3ffb772b8741309cc27b2a0/expr.png\" style=\"display:inline;vertical-align:middle;\" /></a></dd>"
      ],
      "text/plain": [
       "<IPython.core.display.HTML object>"
      ]
     },
     "metadata": {},
     "output_type": "display_data"
    },
    {
     "data": {
      "text/html": [
       "<dt><a class=\"ProveItLink\" href=\"../../../../../../numbers/rounding/_theory_nbs_/axioms.ipynb#floor_is_an_int\">proveit.numbers.rounding.floor_is_an_int</a></dt><dd><a class=\"ProveItLink\" href=\"../../../../../../numbers/rounding/__pv_it/axioms/ef4a67e9ee571b0eb9e3e2cb5f0ed83035f4ae030/expr.ipynb\"><img src=\"../../../../../../numbers/rounding/__pv_it/axioms/ef4a67e9ee571b0eb9e3e2cb5f0ed83035f4ae030/expr.png\" style=\"display:inline;vertical-align:middle;\" /></a></dd>"
      ],
      "text/plain": [
       "<IPython.core.display.HTML object>"
      ]
     },
     "metadata": {},
     "output_type": "display_data"
    },
    {
     "data": {
      "text/html": [
       "<dt><a class=\"ProveItLink\" href=\"../../../../../../numbers/rounding/_theory_nbs_/axioms.ipynb#floor_of_x_less_eq_x\">proveit.numbers.rounding.floor_of_x_less_eq_x</a></dt><dd><a class=\"ProveItLink\" href=\"../../../../../../numbers/rounding/__pv_it/axioms/c68b5cfacaa00a4f0a64b832bc3c745ba71851820/expr.ipynb\"><img src=\"../../../../../../numbers/rounding/__pv_it/axioms/c68b5cfacaa00a4f0a64b832bc3c745ba71851820/expr.png\" style=\"display:inline;vertical-align:middle;\" /></a></dd>"
      ],
      "text/plain": [
       "<IPython.core.display.HTML object>"
      ]
     },
     "metadata": {},
     "output_type": "display_data"
    },
    {
     "data": {
      "text/html": [
       "<dt><a class=\"ProveItLink\" href=\"../../../../../../numbers/rounding/_theory_nbs_/axioms.ipynb#round_is_an_int\">proveit.numbers.rounding.round_is_an_int</a></dt><dd><a class=\"ProveItLink\" href=\"../../../../../../numbers/rounding/__pv_it/axioms/7e9ffadf6c95626d0d18d18d4e0a54f55a70f30d0/expr.ipynb\"><img src=\"../../../../../../numbers/rounding/__pv_it/axioms/7e9ffadf6c95626d0d18d18d4e0a54f55a70f30d0/expr.png\" style=\"display:inline;vertical-align:middle;\" /></a></dd>"
      ],
      "text/plain": [
       "<IPython.core.display.HTML object>"
      ]
     },
     "metadata": {},
     "output_type": "display_data"
    },
    {
     "data": {
      "text/html": [
       "<dt><a class=\"ProveItLink\" href=\"../../../_theory_nbs_/axioms.ipynb#QPE1_def\">proveit.physics.quantum.QPE.QPE1_def</a></dt><dd><a class=\"ProveItLink\" href=\"../../axioms/2fef25ec0f6b2da2091797dca4ed88ac63be8aa10/expr.ipynb\"><img src=\"../../axioms/2fef25ec0f6b2da2091797dca4ed88ac63be8aa10/expr.png\" style=\"display:inline;vertical-align:middle;\" /></a></dd>"
      ],
      "text/plain": [
       "<IPython.core.display.HTML object>"
      ]
     },
     "metadata": {},
     "output_type": "display_data"
    },
    {
     "data": {
      "text/html": [
       "<dt><a class=\"ProveItLink\" href=\"../../../_theory_nbs_/axioms.ipynb#QPE_def\">proveit.physics.quantum.QPE.QPE_def</a></dt><dd><a class=\"ProveItLink\" href=\"../../axioms/0c004e18e55f3b78cf9ef6920a995efb3d5ead9d0/expr.ipynb\"><img src=\"../../axioms/0c004e18e55f3b78cf9ef6920a995efb3d5ead9d0/expr.png\" style=\"display:inline;vertical-align:middle;\" /></a></dd>"
      ],
      "text/plain": [
       "<IPython.core.display.HTML object>"
      ]
     },
     "metadata": {},
     "output_type": "display_data"
    },
    {
     "data": {
      "text/html": [
       "<dt><a class=\"ProveItLink\" href=\"../../../_theory_nbs_/axioms.ipynb#_eigen_uu\">proveit.physics.quantum.QPE._eigen_uu</a></dt><dd><a class=\"ProveItLink\" href=\"../../axioms/049acc055a4608bf7d7f32f3fcf67cb8662731950/expr.ipynb\"><img src=\"../../axioms/049acc055a4608bf7d7f32f3fcf67cb8662731950/expr.png\" style=\"display:inline;vertical-align:middle;\" /></a></dd>"
      ],
      "text/plain": [
       "<IPython.core.display.HTML object>"
      ]
     },
     "metadata": {},
     "output_type": "display_data"
    },
    {
     "data": {
      "text/html": [
       "<dt><a class=\"ProveItLink\" href=\"../../../_theory_nbs_/axioms.ipynb#_normalized_ket_u\">proveit.physics.quantum.QPE._normalized_ket_u</a></dt><dd><a class=\"ProveItLink\" href=\"../../axioms/9dd0f917afb835233a1de3ba51a6f0768bbcc8fd0/expr.ipynb\"><img src=\"../../axioms/9dd0f917afb835233a1de3ba51a6f0768bbcc8fd0/expr.png\" style=\"display:inline;vertical-align:middle;\" /></a></dd>"
      ],
      "text/plain": [
       "<IPython.core.display.HTML object>"
      ]
     },
     "metadata": {},
     "output_type": "display_data"
    },
    {
     "data": {
      "text/html": [
       "<dt><a class=\"ProveItLink\" href=\"../../../_theory_nbs_/axioms.ipynb#_phase_in_interval\">proveit.physics.quantum.QPE._phase_in_interval</a></dt><dd><a class=\"ProveItLink\" href=\"../../axioms/90ad83733d1e3e414be95a70e25c2d5e068a872e0/expr.ipynb\"><img src=\"../../axioms/90ad83733d1e3e414be95a70e25c2d5e068a872e0/expr.png\" style=\"display:inline;vertical-align:middle;\" /></a></dd>"
      ],
      "text/plain": [
       "<IPython.core.display.HTML object>"
      ]
     },
     "metadata": {},
     "output_type": "display_data"
    },
    {
     "data": {
      "text/html": [
       "<dt><a class=\"ProveItLink\" href=\"../../../_theory_nbs_/axioms.ipynb#_s_in_nat_pos\">proveit.physics.quantum.QPE._s_in_nat_pos</a></dt><dd><a class=\"ProveItLink\" href=\"../../axioms/89b9f03344b95013be5c8b0bea35b6e272ad9bde0/expr.ipynb\"><img src=\"../../axioms/89b9f03344b95013be5c8b0bea35b6e272ad9bde0/expr.png\" style=\"display:inline;vertical-align:middle;\" /></a></dd>"
      ],
      "text/plain": [
       "<IPython.core.display.HTML object>"
      ]
     },
     "metadata": {},
     "output_type": "display_data"
    },
    {
     "data": {
      "text/html": [
       "<dt><a class=\"ProveItLink\" href=\"../../../_theory_nbs_/axioms.ipynb#_t_in_natural_pos\">proveit.physics.quantum.QPE._t_in_natural_pos</a></dt><dd><a class=\"ProveItLink\" href=\"../../axioms/43c5ca85739dab0e5d869af8d9f6b96cb94286c70/expr.ipynb\"><img src=\"../../axioms/43c5ca85739dab0e5d869af8d9f6b96cb94286c70/expr.png\" style=\"display:inline;vertical-align:middle;\" /></a></dd>"
      ],
      "text/plain": [
       "<IPython.core.display.HTML object>"
      ]
     },
     "metadata": {},
     "output_type": "display_data"
    },
    {
     "data": {
      "text/html": [
       "<dt><a class=\"ProveItLink\" href=\"../../../_theory_nbs_/axioms.ipynb#_u_ket_register\">proveit.physics.quantum.QPE._u_ket_register</a></dt><dd><a class=\"ProveItLink\" href=\"../../axioms/8fdf4d4869eca944a64f0cf8f9d26f26ffcd6c600/expr.ipynb\"><img src=\"../../axioms/8fdf4d4869eca944a64f0cf8f9d26f26ffcd6c600/expr.png\" style=\"display:inline;vertical-align:middle;\" /></a></dd>"
      ],
      "text/plain": [
       "<IPython.core.display.HTML object>"
      ]
     },
     "metadata": {},
     "output_type": "display_data"
    },
    {
     "data": {
      "text/html": [
       "<dt><a class=\"ProveItLink\" href=\"../../../_theory_nbs_/axioms.ipynb#_unitary_U\">proveit.physics.quantum.QPE._unitary_U</a></dt><dd><a class=\"ProveItLink\" href=\"../../axioms/b97223f2d5084937c84c5cb577d63bf6e3b794440/expr.ipynb\"><img src=\"../../axioms/b97223f2d5084937c84c5cb577d63bf6e3b794440/expr.png\" style=\"display:inline;vertical-align:middle;\" /></a></dd>"
      ],
      "text/plain": [
       "<IPython.core.display.HTML object>"
      ]
     },
     "metadata": {},
     "output_type": "display_data"
    },
    {
     "data": {
      "text/html": [
       "<dt><a class=\"ProveItLink\" href=\"../../../../algebra/_theory_nbs_/axioms.ipynb#multi_qmult_def\">proveit.physics.quantum.algebra.multi_qmult_def</a></dt><dd><a class=\"ProveItLink\" href=\"../../../../algebra/__pv_it/axioms/4a0b7fff5eca7af9b84edc9ad19d4f4a1cdfe02b0/expr.ipynb\"><img src=\"../../../../algebra/__pv_it/axioms/4a0b7fff5eca7af9b84edc9ad19d4f4a1cdfe02b0/expr.png\" style=\"display:inline;vertical-align:middle;\" /></a></dd>"
      ],
      "text/plain": [
       "<IPython.core.display.HTML object>"
      ]
     },
     "metadata": {},
     "output_type": "display_data"
    },
    {
     "data": {
      "text/html": [
       "</dl>"
      ],
      "text/plain": [
       "<IPython.core.display.HTML object>"
      ]
     },
     "metadata": {},
     "output_type": "display_data"
    },
    {
     "data": {
      "text/html": [
       "<h3>Conservative definitions used (but not logically required) to prove _failure_upper_bound</h3>"
      ],
      "text/plain": [
       "<IPython.core.display.HTML object>"
      ]
     },
     "metadata": {},
     "output_type": "display_data"
    },
    {
     "data": {
      "text/html": [
       "<dl>"
      ],
      "text/plain": [
       "<IPython.core.display.HTML object>"
      ]
     },
     "metadata": {},
     "output_type": "display_data"
    },
    {
     "data": {
      "text/html": [
       "<dt><a class=\"ProveItLink\" href=\"../../../_theory_nbs_/axioms.ipynb#_psi_t_def\">proveit.physics.quantum.QPE._psi_t_def</a></dt><dd><a class=\"ProveItLink\" href=\"../../axioms/76de7e7071b91f042f672b1eff2dcdb49c12091a0/expr.ipynb\"><img src=\"../../axioms/76de7e7071b91f042f672b1eff2dcdb49c12091a0/expr.png\" style=\"display:inline;vertical-align:middle;\" /></a></dd>"
      ],
      "text/plain": [
       "<IPython.core.display.HTML object>"
      ]
     },
     "metadata": {},
     "output_type": "display_data"
    },
    {
     "data": {
      "text/html": [
       "<dt><a class=\"ProveItLink\" href=\"../../../_theory_nbs_/axioms.ipynb#_Psi_def\">proveit.physics.quantum.QPE._Psi_def</a></dt><dd><a class=\"ProveItLink\" href=\"../../axioms/49753eae3adcb021158e8a9c66de5119b10ecbde0/expr.ipynb\"><img src=\"../../axioms/49753eae3adcb021158e8a9c66de5119b10ecbde0/expr.png\" style=\"display:inline;vertical-align:middle;\" /></a></dd>"
      ],
      "text/plain": [
       "<IPython.core.display.HTML object>"
      ]
     },
     "metadata": {},
     "output_type": "display_data"
    },
    {
     "data": {
      "text/html": [
       "<dt><a class=\"ProveItLink\" href=\"../../../_theory_nbs_/axioms.ipynb#_alpha_m_def\">proveit.physics.quantum.QPE._alpha_m_def</a></dt><dd><a class=\"ProveItLink\" href=\"../../axioms/c1601e95111031655bd293b12854febe6ac18c180/expr.ipynb\"><img src=\"../../axioms/c1601e95111031655bd293b12854febe6ac18c180/expr.png\" style=\"display:inline;vertical-align:middle;\" /></a></dd>"
      ],
      "text/plain": [
       "<IPython.core.display.HTML object>"
      ]
     },
     "metadata": {},
     "output_type": "display_data"
    },
    {
     "data": {
      "text/html": [
       "<dt><a class=\"ProveItLink\" href=\"../../../_theory_nbs_/axioms.ipynb#_best_floor_def\">proveit.physics.quantum.QPE._best_floor_def</a></dt><dd><a class=\"ProveItLink\" href=\"../../axioms/0e82dd42d26199effba99054b273dc7d693606b30/expr.ipynb\"><img src=\"../../axioms/0e82dd42d26199effba99054b273dc7d693606b30/expr.png\" style=\"display:inline;vertical-align:middle;\" /></a></dd>"
      ],
      "text/plain": [
       "<IPython.core.display.HTML object>"
      ]
     },
     "metadata": {},
     "output_type": "display_data"
    },
    {
     "data": {
      "text/html": [
       "<dt><a class=\"ProveItLink\" href=\"../../../_theory_nbs_/axioms.ipynb#_best_round_def\">proveit.physics.quantum.QPE._best_round_def</a></dt><dd><a class=\"ProveItLink\" href=\"../../axioms/f4e6a6731694d0ecfec6206c9173d43fddce15d70/expr.ipynb\"><img src=\"../../axioms/f4e6a6731694d0ecfec6206c9173d43fddce15d70/expr.png\" style=\"display:inline;vertical-align:middle;\" /></a></dd>"
      ],
      "text/plain": [
       "<IPython.core.display.HTML object>"
      ]
     },
     "metadata": {},
     "output_type": "display_data"
    },
    {
     "data": {
      "text/html": [
       "<dt><a class=\"ProveItLink\" href=\"../../../_theory_nbs_/axioms.ipynb#_delta_b_def\">proveit.physics.quantum.QPE._delta_b_def</a></dt><dd><a class=\"ProveItLink\" href=\"../../axioms/9c6dd005645132e987ea00ed0bf076438075b1060/expr.ipynb\"><img src=\"../../axioms/9c6dd005645132e987ea00ed0bf076438075b1060/expr.png\" style=\"display:inline;vertical-align:middle;\" /></a></dd>"
      ],
      "text/plain": [
       "<IPython.core.display.HTML object>"
      ]
     },
     "metadata": {},
     "output_type": "display_data"
    },
    {
     "data": {
      "text/html": [
       "<dt><a class=\"ProveItLink\" href=\"../../../_theory_nbs_/axioms.ipynb#_fail_def\">proveit.physics.quantum.QPE._fail_def</a></dt><dd><a class=\"ProveItLink\" href=\"../../axioms/7940ea8d65f7c3ff7e61ac174ebc74dee593006a0/expr.ipynb\"><img src=\"../../axioms/7940ea8d65f7c3ff7e61ac174ebc74dee593006a0/expr.png\" style=\"display:inline;vertical-align:middle;\" /></a></dd>"
      ],
      "text/plain": [
       "<IPython.core.display.HTML object>"
      ]
     },
     "metadata": {},
     "output_type": "display_data"
    },
    {
     "data": {
      "text/html": [
       "<dt><a class=\"ProveItLink\" href=\"../../../_theory_nbs_/axioms.ipynb#_mod_add_def\">proveit.physics.quantum.QPE._mod_add_def</a></dt><dd><a class=\"ProveItLink\" href=\"../../axioms/dca063a26f7d32fc4e98aed9b851b536a2d568920/expr.ipynb\"><img src=\"../../axioms/dca063a26f7d32fc4e98aed9b851b536a2d568920/expr.png\" style=\"display:inline;vertical-align:middle;\" /></a></dd>"
      ],
      "text/plain": [
       "<IPython.core.display.HTML object>"
      ]
     },
     "metadata": {},
     "output_type": "display_data"
    },
    {
     "data": {
      "text/html": [
       "<dt><a class=\"ProveItLink\" href=\"../../../_theory_nbs_/axioms.ipynb#_sample_space_def\">proveit.physics.quantum.QPE._sample_space_def</a></dt><dd><a class=\"ProveItLink\" href=\"../../axioms/5625eefcfb050ef65b8087a6c51183ba94f224dc0/expr.ipynb\"><img src=\"../../axioms/5625eefcfb050ef65b8087a6c51183ba94f224dc0/expr.png\" style=\"display:inline;vertical-align:middle;\" /></a></dd>"
      ],
      "text/plain": [
       "<IPython.core.display.HTML object>"
      ]
     },
     "metadata": {},
     "output_type": "display_data"
    },
    {
     "data": {
      "text/html": [
       "</dl>"
      ],
      "text/plain": [
       "<IPython.core.display.HTML object>"
      ]
     },
     "metadata": {},
     "output_type": "display_data"
    },
    {
     "data": {
      "text/html": [
       "<h3>Theorems/conjectures that depend directly on _failure_upper_bound</h3>"
      ],
      "text/plain": [
       "<IPython.core.display.HTML object>"
      ]
     },
     "metadata": {},
     "output_type": "display_data"
    },
    {
     "data": {
      "text/html": [
       "<dl>"
      ],
      "text/plain": [
       "<IPython.core.display.HTML object>"
      ]
     },
     "metadata": {},
     "output_type": "display_data"
    },
    {
     "data": {
      "text/html": [
       "<dt><a class=\"ProveItLink\" href=\"../../../_theory_nbs_/proofs/_precision_guarantee/thm_proof.ipynb\">proveit.physics.quantum.QPE._precision_guarantee</a></dt><dd><a class=\"ProveItLink\" href=\"../faf28ac0959c329529068cc213adcda8cf3356a80/expr.ipynb\"><img src=\"../faf28ac0959c329529068cc213adcda8cf3356a80/expr.png\" style=\"display:inline;vertical-align:middle;\" /></a></dd>"
      ],
      "text/plain": [
       "<IPython.core.display.HTML object>"
      ]
     },
     "metadata": {},
     "output_type": "display_data"
    },
    {
     "data": {
      "text/html": [
       "</dl>"
      ],
      "text/plain": [
       "<IPython.core.display.HTML object>"
      ]
     },
     "metadata": {},
     "output_type": "display_data"
    }
   ],
   "source": [
    "%dependencies _failure_upper_bound"
   ]
  }
 ],
 "metadata": {
  "kernelspec": {
   "display_name": "Python 3",
   "language": "python",
   "name": "python3"
  }
 },
 "nbformat": 4,
 "nbformat_minor": 0
}