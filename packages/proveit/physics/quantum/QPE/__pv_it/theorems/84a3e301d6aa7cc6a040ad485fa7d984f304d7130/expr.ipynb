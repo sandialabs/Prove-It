{
 "cells": [
  {
   "cell_type": "markdown",
   "metadata": {},
   "source": [
    "Expression of type <a class=\"ProveItLink\" href=\"../../../../../../../../doc/html/api/proveit.logic.And.html\">And</a>\n",
    "=======================\n",
    "# from the theory of <a class=\"ProveItLink\" href=\"../../../_theory_nbs_/theory.ipynb\">proveit.physics.quantum.QPE</a>"
   ]
  },
  {
   "cell_type": "code",
   "execution_count": 1,
   "metadata": {},
   "outputs": [],
   "source": [
    "import proveit\n",
    "# Automation is not needed when building an expression:\n",
    "proveit.defaults.automation = False # This will speed things up.\n",
    "proveit.defaults.inline_pngs = False # Makes files smaller.\n",
    "%load_expr # Load the stored expression as 'stored_expr'\n",
    "# import Expression classes needed to build the expression\n",
    "from proveit import U\n",
    "from proveit.linear_algebra import MatrixMult, ScalarMult, Unitary\n",
    "from proveit.logic import And, Equals, InSet\n",
    "from proveit.numbers import Exp, IntervalCO, Mult, Real, e, i, one, pi, two, zero\n",
    "from proveit.physics.quantum import normalized_var_ket_u, var_ket_u\n",
    "from proveit.physics.quantum.QPE import phase, s_ket_domain, two_pow_s"
   ]
  },
  {
   "cell_type": "code",
   "execution_count": 2,
   "metadata": {},
   "outputs": [
    {
     "data": {
      "text/html": [
       "<strong id=\"expr\">expr:</strong> <a class=\"ProveItLink\" href=\"expr.ipynb\"><img src=\"expr.png\" style=\"display:inline;vertical-align:middle;\" /></a><br>"
      ],
      "text/plain": [
       "<IPython.core.display.HTML object>"
      ]
     },
     "metadata": {},
     "output_type": "display_data"
    }
   ],
   "source": [
    "# build up the expression from sub-expressions\n",
    "expr = And(InSet(U, Unitary(two_pow_s)), InSet(var_ket_u, s_ket_domain), InSet(phase, Real), InSet(phase, IntervalCO(zero, one)), normalized_var_ket_u, Equals(MatrixMult(U, var_ket_u), ScalarMult(Exp(e, Mult(two, pi, i, phase)), var_ket_u)))"
   ]
  },
  {
   "cell_type": "code",
   "execution_count": 3,
   "metadata": {},
   "outputs": [
    {
     "name": "stdout",
     "output_type": "stream",
     "text": [
      "Passed sanity check: expr matches stored_expr\n"
     ]
    }
   ],
   "source": [
    "# check that the built expression is the same as the stored expression\n",
    "assert expr == stored_expr\n",
    "assert expr._style_id == stored_expr._style_id\n",
    "print(\"Passed sanity check: expr matches stored_expr\")"
   ]
  },
  {
   "cell_type": "code",
   "execution_count": 4,
   "metadata": {},
   "outputs": [
    {
     "name": "stdout",
     "output_type": "stream",
     "text": [
      "\\left(U \\in \\textrm{U}\\left(2^{s}\\right)\\right) \\land \\left(\\lvert u \\rangle \\in \\mathbb{C}^{2^{s}}\\right) \\land \\left(\\varphi \\in \\mathbb{R}\\right) \\land \\left(\\varphi \\in \\left[0,1\\right)\\right) \\land \\left(\\left \\|\\lvert u \\rangle\\right \\| = 1\\right) \\land \\left(\\left(U \\thinspace \\lvert u \\rangle\\right) = \\left(\\mathsf{e}^{2 \\cdot \\pi \\cdot \\mathsf{i} \\cdot \\varphi} \\cdot \\lvert u \\rangle\\right)\\right)\n"
     ]
    }
   ],
   "source": [
    "# Show the LaTeX representation of the expression for convenience if you need it.\n",
    "print(stored_expr.latex())"
   ]
  },
  {
   "cell_type": "code",
   "execution_count": 5,
   "metadata": {},
   "outputs": [
    {
     "data": {
      "text/html": [
       "<table>\n",
       "<tr><th>name</th><th>description</th><th>default</th><th>current value</th><th>related methods</th></tr><tr><td>operation</td><td>'infix' or 'function' style formatting</td><td>infix</td><td>infix</td><td></td></tr>\n",
       "<tr><td>wrap_positions</td><td>position(s) at which wrapping is to occur; '2 n - 1' is after the nth operand, '2 n' is after the nth operation.</td><td>()</td><td>()</td><td>('with_wrapping_at', 'with_wrap_before_operator', 'with_wrap_after_operator', 'without_wrapping', 'wrap_positions')</td></tr>\n",
       "<tr><td>justification</td><td>if any wrap positions are set, justify to the 'left', 'center', or 'right'</td><td>center</td><td>center</td><td>('with_justification',)</td></tr>\n",
       "</table>\n"
      ],
      "text/plain": [
       "style name: operation\n",
       "description: 'infix' or 'function' style formatting\n",
       "default: infix\n",
       "current value: infix\n",
       "related methods: ()\n",
       "style name: wrap_positions\n",
       "description: position(s) at which wrapping is to occur; '2 n - 1' is after the nth operand, '2 n' is after the nth operation.\n",
       "default: ()\n",
       "current value: ()\n",
       "related methods: ('with_wrapping_at', 'with_wrap_before_operator', 'with_wrap_after_operator', 'without_wrapping', 'wrap_positions')\n",
       "style name: justification\n",
       "description: if any wrap positions are set, justify to the 'left', 'center', or 'right'\n",
       "default: center\n",
       "current value: center\n",
       "related methods: ('with_justification',)"
      ]
     },
     "metadata": {},
     "output_type": "display_data"
    }
   ],
   "source": [
    "stored_expr.style_options()"
   ]
  },
  {
   "cell_type": "code",
   "execution_count": 6,
   "metadata": {},
   "outputs": [
    {
     "data": {
      "text/html": [
       "<table><tr><th>&nbsp;</th><th>core type</th><th>sub-expressions</th><th>expression</th></tr>\n",
       "<tr><td>0</td><td>Operation</td><td>operator:&nbsp;1<br>operands:&nbsp;2<br></td><td><a class=\"ProveItLink\" href=\"expr.ipynb\"><img src=\"expr.png\" style=\"display:inline;vertical-align:middle;\" /></a></td></tr>\n",
       "<tr><td>1</td><td>Literal</td><td></td><td><a class=\"ProveItLink\" href=\"../../../../../../logic/booleans/conjunction/__pv_it/common/42118ff318bd65d98b1393f64ce7c2269feef76e0/expr.ipynb\"><img src=\"../../../../../../logic/booleans/conjunction/__pv_it/common/42118ff318bd65d98b1393f64ce7c2269feef76e0/expr.png\" style=\"display:inline;vertical-align:middle;\" /></a></td></tr>\n",
       "<tr><td>2</td><td>ExprTuple</td><td>3, 4, 5, 6, 7, 8</td><td><a class=\"ProveItLink\" href=\"../9645beef99799330736149eac43131331e11959f0/expr.ipynb\"><img src=\"../9645beef99799330736149eac43131331e11959f0/expr.png\" style=\"display:inline;vertical-align:middle;\" /></a></td></tr>\n",
       "<tr><td>3</td><td>Operation</td><td>operator:&nbsp;12<br>operands:&nbsp;9<br></td><td><a class=\"ProveItLink\" href=\"../5f7a569d70572e3b64c2f56fae89791740f59c640/expr.ipynb\"><img src=\"../5f7a569d70572e3b64c2f56fae89791740f59c640/expr.png\" style=\"display:inline;vertical-align:middle;\" /></a></td></tr>\n",
       "<tr><td>4</td><td>Operation</td><td>operator:&nbsp;12<br>operands:&nbsp;10<br></td><td><a class=\"ProveItLink\" href=\"../649a3094deb99b5a699825300454f3116171661f0/expr.ipynb\"><img src=\"../649a3094deb99b5a699825300454f3116171661f0/expr.png\" style=\"display:inline;vertical-align:middle;\" /></a></td></tr>\n",
       "<tr><td>5</td><td>Operation</td><td>operator:&nbsp;12<br>operands:&nbsp;11<br></td><td><a class=\"ProveItLink\" href=\"../e06805ebabfd5249b2bd1b045ccd8ac884bd0a5c0/expr.ipynb\"><img src=\"../e06805ebabfd5249b2bd1b045ccd8ac884bd0a5c0/expr.png\" style=\"display:inline;vertical-align:middle;\" /></a></td></tr>\n",
       "<tr><td>6</td><td>Operation</td><td>operator:&nbsp;12<br>operands:&nbsp;13<br></td><td><a class=\"ProveItLink\" href=\"../82054397443ab8e0d9dc8ad443e405cfd3f2aea60/expr.ipynb\"><img src=\"../82054397443ab8e0d9dc8ad443e405cfd3f2aea60/expr.png\" style=\"display:inline;vertical-align:middle;\" /></a></td></tr>\n",
       "<tr><td>7</td><td>Operation</td><td>operator:&nbsp;15<br>operands:&nbsp;14<br></td><td><a class=\"ProveItLink\" href=\"../../../../__pv_it/common/2bb25afe386e5968b6733397d5e6c04559a758e20/expr.ipynb\"><img src=\"../../../../__pv_it/common/2bb25afe386e5968b6733397d5e6c04559a758e20/expr.png\" style=\"display:inline;vertical-align:middle;\" /></a></td></tr>\n",
       "<tr><td>8</td><td>Operation</td><td>operator:&nbsp;15<br>operands:&nbsp;16<br></td><td><a class=\"ProveItLink\" href=\"../69bb03028fcdcdb5f0b304a33b900000a9baec180/expr.ipynb\"><img src=\"../69bb03028fcdcdb5f0b304a33b900000a9baec180/expr.png\" style=\"display:inline;vertical-align:middle;\" /></a></td></tr>\n",
       "<tr><td>9</td><td>ExprTuple</td><td>40, 17</td><td><a class=\"ProveItLink\" href=\"../1ef787787c0717f4449c3be0068aae95b6827bc60/expr.ipynb\"><img src=\"../1ef787787c0717f4449c3be0068aae95b6827bc60/expr.png\" style=\"display:inline;vertical-align:middle;\" /></a></td></tr>\n",
       "<tr><td>10</td><td>ExprTuple</td><td>42, 18</td><td><a class=\"ProveItLink\" href=\"../6bcc14bab1653b0cfc0007b4a2e9c60e2fab25a10/expr.ipynb\"><img src=\"../6bcc14bab1653b0cfc0007b4a2e9c60e2fab25a10/expr.png\" style=\"display:inline;vertical-align:middle;\" /></a></td></tr>\n",
       "<tr><td>11</td><td>ExprTuple</td><td>54, 19</td><td><a class=\"ProveItLink\" href=\"../680a12725f9630ccddc8a67c98ce289750f5a3710/expr.ipynb\"><img src=\"../680a12725f9630ccddc8a67c98ce289750f5a3710/expr.png\" style=\"display:inline;vertical-align:middle;\" /></a></td></tr>\n",
       "<tr><td>12</td><td>Literal</td><td></td><td><a class=\"ProveItLink\" href=\"../../../../../../logic/sets/membership/__pv_it/common/477487d8796864d23d5810f83761435f25167f690/expr.ipynb\"><img src=\"../../../../../../logic/sets/membership/__pv_it/common/477487d8796864d23d5810f83761435f25167f690/expr.png\" style=\"display:inline;vertical-align:middle;\" /></a></td></tr>\n",
       "<tr><td>13</td><td>ExprTuple</td><td>54, 20</td><td><a class=\"ProveItLink\" href=\"../6b167941175addb2ff2abf326e5ef17180e538180/expr.ipynb\"><img src=\"../6b167941175addb2ff2abf326e5ef17180e538180/expr.png\" style=\"display:inline;vertical-align:middle;\" /></a></td></tr>\n",
       "<tr><td>14</td><td>ExprTuple</td><td>21, 39</td><td><a class=\"ProveItLink\" href=\"../../../../__pv_it/common/5b5dc78a8fc40d83f2b10facdf15ee452d1a0c480/expr.ipynb\"><img src=\"../../../../__pv_it/common/5b5dc78a8fc40d83f2b10facdf15ee452d1a0c480/expr.png\" style=\"display:inline;vertical-align:middle;\" /></a></td></tr>\n",
       "<tr><td>15</td><td>Literal</td><td></td><td><a class=\"ProveItLink\" href=\"../../../../../../logic/equality/__pv_it/common/fb96dc12b2aa8801dda64d0132b396c63d1502bb0/expr.ipynb\"><img src=\"../../../../../../logic/equality/__pv_it/common/fb96dc12b2aa8801dda64d0132b396c63d1502bb0/expr.png\" style=\"display:inline;vertical-align:middle;\" /></a></td></tr>\n",
       "<tr><td>16</td><td>ExprTuple</td><td>22, 23</td><td><a class=\"ProveItLink\" href=\"../6c4c9df9795dd7eb24494e4d30022fe239fe66ac0/expr.ipynb\"><img src=\"../6c4c9df9795dd7eb24494e4d30022fe239fe66ac0/expr.png\" style=\"display:inline;vertical-align:middle;\" /></a></td></tr>\n",
       "<tr><td>17</td><td>Operation</td><td>operator:&nbsp;24<br>operand:&nbsp;37<br></td><td><a class=\"ProveItLink\" href=\"../7f1ade6188e769b03a3b23b1abf2b05de08016170/expr.ipynb\"><img src=\"../7f1ade6188e769b03a3b23b1abf2b05de08016170/expr.png\" style=\"display:inline;vertical-align:middle;\" /></a></td></tr>\n",
       "<tr><td>18</td><td>Operation</td><td>operator:&nbsp;26<br>operands:&nbsp;27<br></td><td><a class=\"ProveItLink\" href=\"../../common/eebd5e7fa2fd775d69cf1fecc5958e68e4dc79b60/expr.ipynb\"><img src=\"../../common/eebd5e7fa2fd775d69cf1fecc5958e68e4dc79b60/expr.png\" style=\"display:inline;vertical-align:middle;\" /></a></td></tr>\n",
       "<tr><td>19</td><td>Literal</td><td></td><td><a class=\"ProveItLink\" href=\"../../../../../../numbers/number_sets/real_numbers/__pv_it/common/93cac87a1a47e613f7a83b23ef7891599a1a4cca0/expr.ipynb\"><img src=\"../../../../../../numbers/number_sets/real_numbers/__pv_it/common/93cac87a1a47e613f7a83b23ef7891599a1a4cca0/expr.png\" style=\"display:inline;vertical-align:middle;\" /></a></td></tr>\n",
       "<tr><td>20</td><td>Operation</td><td>operator:&nbsp;28<br>operands:&nbsp;29<br></td><td><a class=\"ProveItLink\" href=\"../../axioms/d6fef8131d9292183bfbdfc42dc66cd3842083190/expr.ipynb\"><img src=\"../../axioms/d6fef8131d9292183bfbdfc42dc66cd3842083190/expr.png\" style=\"display:inline;vertical-align:middle;\" /></a></td></tr>\n",
       "<tr><td>21</td><td>Operation</td><td>operator:&nbsp;30<br>operand:&nbsp;42<br></td><td><a class=\"ProveItLink\" href=\"../../../../__pv_it/common/3e3dbb06b1a2a7badbbe05b6c84311c336fbfc430/expr.ipynb\"><img src=\"../../../../__pv_it/common/3e3dbb06b1a2a7badbbe05b6c84311c336fbfc430/expr.png\" style=\"display:inline;vertical-align:middle;\" /></a></td></tr>\n",
       "<tr><td>22</td><td>Operation</td><td>operator:&nbsp;32<br>operands:&nbsp;33<br></td><td><a class=\"ProveItLink\" href=\"../c85604f90fc69ee93a57c09eb94a962d23caaee70/expr.ipynb\"><img src=\"../c85604f90fc69ee93a57c09eb94a962d23caaee70/expr.png\" style=\"display:inline;vertical-align:middle;\" /></a></td></tr>\n",
       "<tr><td>23</td><td>Operation</td><td>operator:&nbsp;34<br>operands:&nbsp;35<br></td><td><a class=\"ProveItLink\" href=\"../d3ddee9b8d8698e5a66e7e3b22d09e8b9a3cc1da0/expr.ipynb\"><img src=\"../d3ddee9b8d8698e5a66e7e3b22d09e8b9a3cc1da0/expr.png\" style=\"display:inline;vertical-align:middle;\" /></a></td></tr>\n",
       "<tr><td>24</td><td>Literal</td><td></td><td><a class=\"ProveItLink\" href=\"../../../../../../linear_algebra/matrices/__pv_it/common/4ef8603cb69b80b124ebf92d970050986c8869e80/expr.ipynb\"><img src=\"../../../../../../linear_algebra/matrices/__pv_it/common/4ef8603cb69b80b124ebf92d970050986c8869e80/expr.png\" style=\"display:inline;vertical-align:middle;\" /></a></td></tr>\n",
       "<tr><td>25</td><td>ExprTuple</td><td>37</td><td><a class=\"ProveItLink\" href=\"../982e612b77959782d934008f5116f06515a628530/expr.ipynb\"><img src=\"../982e612b77959782d934008f5116f06515a628530/expr.png\" style=\"display:inline;vertical-align:middle;\" /></a></td></tr>\n",
       "<tr><td>26</td><td>Literal</td><td></td><td><a class=\"ProveItLink\" href=\"../../../../../../logic/sets/cartesian_products/__pv_it/common/7d20d67ddfbd94ad12efc9670c0d16a295b8ec1a0/expr.ipynb\"><img src=\"../../../../../../logic/sets/cartesian_products/__pv_it/common/7d20d67ddfbd94ad12efc9670c0d16a295b8ec1a0/expr.png\" style=\"display:inline;vertical-align:middle;\" /></a></td></tr>\n",
       "<tr><td>27</td><td>ExprTuple</td><td>36, 37</td><td><a class=\"ProveItLink\" href=\"../../common/d5cb840ed755aece4574833a120cc628f41b97620/expr.ipynb\"><img src=\"../../common/d5cb840ed755aece4574833a120cc628f41b97620/expr.png\" style=\"display:inline;vertical-align:middle;\" /></a></td></tr>\n",
       "<tr><td>28</td><td>Literal</td><td></td><td><a class=\"ProveItLink\" href=\"../../../../../../numbers/number_sets/real_numbers/__pv_it/common/da5a5fc1f3f3ada8da2b36f3e6963bacf1c8e9fc0/expr.ipynb\"><img src=\"../../../../../../numbers/number_sets/real_numbers/__pv_it/common/da5a5fc1f3f3ada8da2b36f3e6963bacf1c8e9fc0/expr.png\" style=\"display:inline;vertical-align:middle;\" /></a></td></tr>\n",
       "<tr><td>29</td><td>ExprTuple</td><td>38, 39</td><td><a class=\"ProveItLink\" href=\"../../../../../../numbers/numerals/decimals/__pv_it/theorems/da8a8b171a5f1ff8208183b4cf6a698b32a8f24a0/expr.ipynb\"><img src=\"../../../../../../numbers/numerals/decimals/__pv_it/theorems/da8a8b171a5f1ff8208183b4cf6a698b32a8f24a0/expr.png\" style=\"display:inline;vertical-align:middle;\" /></a></td></tr>\n",
       "<tr><td>30</td><td>Literal</td><td></td><td><a class=\"ProveItLink\" href=\"../../../../../../linear_algebra/inner_products/__pv_it/common/2c00dcac538e537d968253ed1ac6a761c803991f0/expr.ipynb\"><img src=\"../../../../../../linear_algebra/inner_products/__pv_it/common/2c00dcac538e537d968253ed1ac6a761c803991f0/expr.png\" style=\"display:inline;vertical-align:middle;\" /></a></td></tr>\n",
       "<tr><td>31</td><td>ExprTuple</td><td>42</td><td><a class=\"ProveItLink\" href=\"../../../../__pv_it/common/0d4af1042448e3de8553f32f7dec48e9640e1d120/expr.ipynb\"><img src=\"../../../../__pv_it/common/0d4af1042448e3de8553f32f7dec48e9640e1d120/expr.png\" style=\"display:inline;vertical-align:middle;\" /></a></td></tr>\n",
       "<tr><td>32</td><td>Literal</td><td></td><td><a class=\"ProveItLink\" href=\"../../../../../../linear_algebra/matrices/multiplication/__pv_it/common/a56cf42f971ea8b70c320fc0b98f33dc6dac5b610/expr.ipynb\"><img src=\"../../../../../../linear_algebra/matrices/multiplication/__pv_it/common/a56cf42f971ea8b70c320fc0b98f33dc6dac5b610/expr.png\" style=\"display:inline;vertical-align:middle;\" /></a></td></tr>\n",
       "<tr><td>33</td><td>ExprTuple</td><td>40, 42</td><td><a class=\"ProveItLink\" href=\"../5d4841e397c4dd032e097fe21a402ab1c6c4ee8f0/expr.ipynb\"><img src=\"../5d4841e397c4dd032e097fe21a402ab1c6c4ee8f0/expr.png\" style=\"display:inline;vertical-align:middle;\" /></a></td></tr>\n",
       "<tr><td>34</td><td>Literal</td><td></td><td><a class=\"ProveItLink\" href=\"../../../../../../linear_algebra/scalar_multiplication/__pv_it/common/1e364bd471e6a29fcd358dd2d9cd990a1e6fedd40/expr.ipynb\"><img src=\"../../../../../../linear_algebra/scalar_multiplication/__pv_it/common/1e364bd471e6a29fcd358dd2d9cd990a1e6fedd40/expr.png\" style=\"display:inline;vertical-align:middle;\" /></a></td></tr>\n",
       "<tr><td>35</td><td>ExprTuple</td><td>41, 42</td><td><a class=\"ProveItLink\" href=\"../8d9c4d626ea198f6a099deb7de811dd624d430990/expr.ipynb\"><img src=\"../8d9c4d626ea198f6a099deb7de811dd624d430990/expr.png\" style=\"display:inline;vertical-align:middle;\" /></a></td></tr>\n",
       "<tr><td>36</td><td>Literal</td><td></td><td><a class=\"ProveItLink\" href=\"../../../../../../numbers/number_sets/complex_numbers/__pv_it/common/d18a028138f659eda00de597c28a3447fe87eb100/expr.ipynb\"><img src=\"../../../../../../numbers/number_sets/complex_numbers/__pv_it/common/d18a028138f659eda00de597c28a3447fe87eb100/expr.png\" style=\"display:inline;vertical-align:middle;\" /></a></td></tr>\n",
       "<tr><td>37</td><td>Operation</td><td>operator:&nbsp;44<br>operands:&nbsp;43<br></td><td><a class=\"ProveItLink\" href=\"../../common/52731ec84958166fa2101a91be703396f6ec848b0/expr.ipynb\"><img src=\"../../common/52731ec84958166fa2101a91be703396f6ec848b0/expr.png\" style=\"display:inline;vertical-align:middle;\" /></a></td></tr>\n",
       "<tr><td>38</td><td>Literal</td><td></td><td><a class=\"ProveItLink\" href=\"../../../../../../numbers/numerals/__pv_it/common/dd4e19e8b134dfb293470ea55fe3589b0ab9f8040/expr.ipynb\"><img src=\"../../../../../../numbers/numerals/__pv_it/common/dd4e19e8b134dfb293470ea55fe3589b0ab9f8040/expr.png\" style=\"display:inline;vertical-align:middle;\" /></a></td></tr>\n",
       "<tr><td>39</td><td>Literal</td><td></td><td><a class=\"ProveItLink\" href=\"../../../../../../numbers/numerals/__pv_it/common/682157d4892d216d9e5626ed533aff9b56b9506e0/expr.ipynb\"><img src=\"../../../../../../numbers/numerals/__pv_it/common/682157d4892d216d9e5626ed533aff9b56b9506e0/expr.png\" style=\"display:inline;vertical-align:middle;\" /></a></td></tr>\n",
       "<tr><td>40</td><td>Variable</td><td></td><td><a class=\"ProveItLink\" href=\"../../../../../../__pv_it/common/2586cdae2fd2785a5bcbf61f99f7aaf8229d775e0/expr.ipynb\"><img src=\"../../../../../../__pv_it/common/2586cdae2fd2785a5bcbf61f99f7aaf8229d775e0/expr.png\" style=\"display:inline;vertical-align:middle;\" /></a></td></tr>\n",
       "<tr><td>41</td><td>Operation</td><td>operator:&nbsp;44<br>operands:&nbsp;45<br></td><td><a class=\"ProveItLink\" href=\"../afa660a1b01e7fc23df7807771edd9b6cc9a07540/expr.ipynb\"><img src=\"../afa660a1b01e7fc23df7807771edd9b6cc9a07540/expr.png\" style=\"display:inline;vertical-align:middle;\" /></a></td></tr>\n",
       "<tr><td>42</td><td>Variable</td><td></td><td><a class=\"ProveItLink\" href=\"../../../../__pv_it/common/e9ccc523355dd5c57db74023629fa3172587db260/expr.ipynb\"><img src=\"../../../../__pv_it/common/e9ccc523355dd5c57db74023629fa3172587db260/expr.png\" style=\"display:inline;vertical-align:middle;\" /></a></td></tr>\n",
       "<tr><td>43</td><td>ExprTuple</td><td>51, 46</td><td><a class=\"ProveItLink\" href=\"../../common/038db0ce989e16471a20104c3d2e563ddb0901a40/expr.ipynb\"><img src=\"../../common/038db0ce989e16471a20104c3d2e563ddb0901a40/expr.png\" style=\"display:inline;vertical-align:middle;\" /></a></td></tr>\n",
       "<tr><td>44</td><td>Literal</td><td></td><td><a class=\"ProveItLink\" href=\"../../../../../../numbers/exponentiation/__pv_it/common/0ac37aca1e54c35c5cda09672df32d4f69f1f3020/expr.ipynb\"><img src=\"../../../../../../numbers/exponentiation/__pv_it/common/0ac37aca1e54c35c5cda09672df32d4f69f1f3020/expr.png\" style=\"display:inline;vertical-align:middle;\" /></a></td></tr>\n",
       "<tr><td>45</td><td>ExprTuple</td><td>47, 48</td><td><a class=\"ProveItLink\" href=\"../e527acba24d535546d91fa9f9ac66b6432469d7e0/expr.ipynb\"><img src=\"../e527acba24d535546d91fa9f9ac66b6432469d7e0/expr.png\" style=\"display:inline;vertical-align:middle;\" /></a></td></tr>\n",
       "<tr><td>46</td><td>Variable</td><td></td><td><a class=\"ProveItLink\" href=\"../../../../../../__pv_it/common/811706e3598661dd7051509b3af45e1ece9837d80/expr.ipynb\"><img src=\"../../../../../../__pv_it/common/811706e3598661dd7051509b3af45e1ece9837d80/expr.png\" style=\"display:inline;vertical-align:middle;\" /></a></td></tr>\n",
       "<tr><td>47</td><td>Literal</td><td></td><td><a class=\"ProveItLink\" href=\"../../../../../../numbers/number_sets/real_numbers/__pv_it/common/e531ffa54fd897084533764a4a14f19f590674f80/expr.ipynb\"><img src=\"../../../../../../numbers/number_sets/real_numbers/__pv_it/common/e531ffa54fd897084533764a4a14f19f590674f80/expr.png\" style=\"display:inline;vertical-align:middle;\" /></a></td></tr>\n",
       "<tr><td>48</td><td>Operation</td><td>operator:&nbsp;49<br>operands:&nbsp;50<br></td><td><a class=\"ProveItLink\" href=\"../8b9bc74daff2a9f7e45e9b67969d2ad131e0cc5e0/expr.ipynb\"><img src=\"../8b9bc74daff2a9f7e45e9b67969d2ad131e0cc5e0/expr.png\" style=\"display:inline;vertical-align:middle;\" /></a></td></tr>\n",
       "<tr><td>49</td><td>Literal</td><td></td><td><a class=\"ProveItLink\" href=\"../../../../../../numbers/multiplication/__pv_it/common/ed719cef37831779c16481533a4d380a2f95ab270/expr.ipynb\"><img src=\"../../../../../../numbers/multiplication/__pv_it/common/ed719cef37831779c16481533a4d380a2f95ab270/expr.png\" style=\"display:inline;vertical-align:middle;\" /></a></td></tr>\n",
       "<tr><td>50</td><td>ExprTuple</td><td>51, 52, 53, 54</td><td><a class=\"ProveItLink\" href=\"../a8b7232281a572e8f66409c115014bbe140b9f930/expr.ipynb\"><img src=\"../a8b7232281a572e8f66409c115014bbe140b9f930/expr.png\" style=\"display:inline;vertical-align:middle;\" /></a></td></tr>\n",
       "<tr><td>51</td><td>Literal</td><td></td><td><a class=\"ProveItLink\" href=\"../../../../../../numbers/numerals/__pv_it/common/af4aab8a07465db063742696e006d04670f30cf10/expr.ipynb\"><img src=\"../../../../../../numbers/numerals/__pv_it/common/af4aab8a07465db063742696e006d04670f30cf10/expr.png\" style=\"display:inline;vertical-align:middle;\" /></a></td></tr>\n",
       "<tr><td>52</td><td>Literal</td><td></td><td><a class=\"ProveItLink\" href=\"../../../../../../numbers/number_sets/real_numbers/__pv_it/common/246c206266ac5b48800e508d580f91767b24c2df0/expr.ipynb\"><img src=\"../../../../../../numbers/number_sets/real_numbers/__pv_it/common/246c206266ac5b48800e508d580f91767b24c2df0/expr.png\" style=\"display:inline;vertical-align:middle;\" /></a></td></tr>\n",
       "<tr><td>53</td><td>Literal</td><td></td><td><a class=\"ProveItLink\" href=\"../../../../../../numbers/number_sets/complex_numbers/__pv_it/common/6c9cc69d472f352324c298b2318df233e9a7e0250/expr.ipynb\"><img src=\"../../../../../../numbers/number_sets/complex_numbers/__pv_it/common/6c9cc69d472f352324c298b2318df233e9a7e0250/expr.png\" style=\"display:inline;vertical-align:middle;\" /></a></td></tr>\n",
       "<tr><td>54</td><td>Variable</td><td></td><td><a class=\"ProveItLink\" href=\"../../common/ffe5f12137de00123ee13681dbf8d1ac898a5a360/expr.ipynb\"><img src=\"../../common/ffe5f12137de00123ee13681dbf8d1ac898a5a360/expr.png\" style=\"display:inline;vertical-align:middle;\" /></a></td></tr>\n",
       "</table>\n"
      ],
      "text/plain": [
       "0. (U in U(2^{s})) and (|u> in Complex^{2^{s}}) and (phase in Real) and (phase in [0,1)) and (|||u>|| = 1) and ((U . |u>) = (e^{2 * pi * i * phase} * |u>))\n",
       "   core type: Operation\n",
       "   operator: 1\n",
       "   operands: 2\n",
       "1. and\n",
       "   core type: Literal\n",
       "   sub-expressions: \n",
       "2. (U in U(2^{s}), |u> in Complex^{2^{s}}, phase in Real, phase in [0,1), |||u>|| = 1, (U . |u>) = (e^{2 * pi * i * phase} * |u>))\n",
       "   core type: ExprTuple\n",
       "   sub-expressions: 3, 4, 5, 6, 7, 8\n",
       "3. U in U(2^{s})\n",
       "   core type: Operation\n",
       "   operator: 12\n",
       "   operands: 9\n",
       "4. |u> in Complex^{2^{s}}\n",
       "   core type: Operation\n",
       "   operator: 12\n",
       "   operands: 10\n",
       "5. phase in Real\n",
       "   core type: Operation\n",
       "   operator: 12\n",
       "   operands: 11\n",
       "6. phase in [0,1)\n",
       "   core type: Operation\n",
       "   operator: 12\n",
       "   operands: 13\n",
       "7. |||u>|| = 1\n",
       "   core type: Operation\n",
       "   operator: 15\n",
       "   operands: 14\n",
       "8. (U . |u>) = (e^{2 * pi * i * phase} * |u>)\n",
       "   core type: Operation\n",
       "   operator: 15\n",
       "   operands: 16\n",
       "9. (U, U(2^{s}))\n",
       "   core type: ExprTuple\n",
       "   sub-expressions: 40, 17\n",
       "10. (|u>, Complex^{2^{s}})\n",
       "    core type: ExprTuple\n",
       "    sub-expressions: 42, 18\n",
       "11. (phase, Real)\n",
       "    core type: ExprTuple\n",
       "    sub-expressions: 54, 19\n",
       "12. in\n",
       "    core type: Literal\n",
       "    sub-expressions: \n",
       "13. (phase, [0,1))\n",
       "    core type: ExprTuple\n",
       "    sub-expressions: 54, 20\n",
       "14. (|||u>||, 1)\n",
       "    core type: ExprTuple\n",
       "    sub-expressions: 21, 39\n",
       "15. =\n",
       "    core type: Literal\n",
       "    sub-expressions: \n",
       "16. (U . |u>, e^{2 * pi * i * phase} * |u>)\n",
       "    core type: ExprTuple\n",
       "    sub-expressions: 22, 23\n",
       "17. U(2^{s})\n",
       "    core type: Operation\n",
       "    operator: 24\n",
       "    operand: 37\n",
       "18. Complex^{2^{s}}\n",
       "    core type: Operation\n",
       "    operator: 26\n",
       "    operands: 27\n",
       "19. Real\n",
       "    core type: Literal\n",
       "    sub-expressions: \n",
       "20. [0,1)\n",
       "    core type: Operation\n",
       "    operator: 28\n",
       "    operands: 29\n",
       "21. |||u>||\n",
       "    core type: Operation\n",
       "    operator: 30\n",
       "    operand: 42\n",
       "22. U . |u>\n",
       "    core type: Operation\n",
       "    operator: 32\n",
       "    operands: 33\n",
       "23. e^{2 * pi * i * phase} * |u>\n",
       "    core type: Operation\n",
       "    operator: 34\n",
       "    operands: 35\n",
       "24. U\n",
       "    core type: Literal\n",
       "    sub-expressions: \n",
       "25. (2^{s})\n",
       "    core type: ExprTuple\n",
       "    sub-expressions: 37\n",
       "26. CartExp\n",
       "    core type: Literal\n",
       "    sub-expressions: \n",
       "27. (Complex, 2^{s})\n",
       "    core type: ExprTuple\n",
       "    sub-expressions: 36, 37\n",
       "28. IntervalCO\n",
       "    core type: Literal\n",
       "    sub-expressions: \n",
       "29. (0, 1)\n",
       "    core type: ExprTuple\n",
       "    sub-expressions: 38, 39\n",
       "30. Abs\n",
       "    core type: Literal\n",
       "    sub-expressions: \n",
       "31. (|u>)\n",
       "    core type: ExprTuple\n",
       "    sub-expressions: 42\n",
       "32. .\n",
       "    core type: Literal\n",
       "    sub-expressions: \n",
       "33. (U, |u>)\n",
       "    core type: ExprTuple\n",
       "    sub-expressions: 40, 42\n",
       "34. *\n",
       "    core type: Literal\n",
       "    sub-expressions: \n",
       "35. (e^{2 * pi * i * phase}, |u>)\n",
       "    core type: ExprTuple\n",
       "    sub-expressions: 41, 42\n",
       "36. Complex\n",
       "    core type: Literal\n",
       "    sub-expressions: \n",
       "37. 2^{s}\n",
       "    core type: Operation\n",
       "    operator: 44\n",
       "    operands: 43\n",
       "38. 0\n",
       "    core type: Literal\n",
       "    sub-expressions: \n",
       "39. 1\n",
       "    core type: Literal\n",
       "    sub-expressions: \n",
       "40. U\n",
       "    core type: Variable\n",
       "    sub-expressions: \n",
       "41. e^{2 * pi * i * phase}\n",
       "    core type: Operation\n",
       "    operator: 44\n",
       "    operands: 45\n",
       "42. |u>\n",
       "    core type: Variable\n",
       "    sub-expressions: \n",
       "43. (2, s)\n",
       "    core type: ExprTuple\n",
       "    sub-expressions: 51, 46\n",
       "44. Exp\n",
       "    core type: Literal\n",
       "    sub-expressions: \n",
       "45. (e, 2 * pi * i * phase)\n",
       "    core type: ExprTuple\n",
       "    sub-expressions: 47, 48\n",
       "46. s\n",
       "    core type: Variable\n",
       "    sub-expressions: \n",
       "47. e\n",
       "    core type: Literal\n",
       "    sub-expressions: \n",
       "48. 2 * pi * i * phase\n",
       "    core type: Operation\n",
       "    operator: 49\n",
       "    operands: 50\n",
       "49. *\n",
       "    core type: Literal\n",
       "    sub-expressions: \n",
       "50. (2, pi, i, phase)\n",
       "    core type: ExprTuple\n",
       "    sub-expressions: 51, 52, 53, 54\n",
       "51. 2\n",
       "    core type: Literal\n",
       "    sub-expressions: \n",
       "52. pi\n",
       "    core type: Literal\n",
       "    sub-expressions: \n",
       "53. i\n",
       "    core type: Literal\n",
       "    sub-expressions: \n",
       "54. phase\n",
       "    core type: Variable\n",
       "    sub-expressions: "
      ]
     },
     "metadata": {},
     "output_type": "display_data"
    }
   ],
   "source": [
    "# display the expression information\n",
    "stored_expr.expr_info()"
   ]
  },
  {
   "cell_type": "code",
   "execution_count": null,
   "metadata": {},
   "outputs": [],
   "source": []
  }
 ],
 "metadata": {
  "kernelspec": {
   "display_name": "Python 3",
   "language": "python",
   "name": "python3"
  }
 },
 "nbformat": 4,
 "nbformat_minor": 0
}