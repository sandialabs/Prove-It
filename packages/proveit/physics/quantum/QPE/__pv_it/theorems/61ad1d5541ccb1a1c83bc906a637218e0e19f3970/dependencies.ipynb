{
 "cells": [
  {
   "cell_type": "markdown",
   "metadata": {},
   "source": [
    "Theorem Dependencies\n",
    "=======================\n",
    "\n",
    "## <a class=\"ProveItLink\" href=\"../../../_theory_nbs_/theory.ipynb\">proveit.physics.quantum.QPE</a>.<a class=\"ProveItLink\" href=\"../../../_theorems_.ipynb#_scaled_abs_delta_b_floor_diff_interval\">_scaled_abs_delta_b_floor_diff_interval</a> \n",
    "***see <a class=\"ProveItLink\" href=\"../../../_theory_nbs_/proofs/_scaled_abs_delta_b_floor_diff_interval/thm_proof.ipynb\">proof</a>***"
   ]
  },
  {
   "cell_type": "code",
   "execution_count": 1,
   "metadata": {},
   "outputs": [],
   "source": [
    "import proveit\n",
    "# Automation is not needed when querying dependencies:\n",
    "proveit.defaults.automation = False # This will speed things up.\n",
    "proveit.defaults.inline_pngs = False # Makes files smaller.\n",
    "from proveit.physics.quantum.QPE import _scaled_abs_delta_b_floor_diff_interval"
   ]
  },
  {
   "cell_type": "code",
   "execution_count": 2,
   "metadata": {},
   "outputs": [
    {
     "data": {
      "text/html": [
       "<h3>Unproven conjectures required (directly or indirectly) to prove _scaled_abs_delta_b_floor_diff_interval</h3>"
      ],
      "text/plain": [
       "<IPython.core.display.HTML object>"
      ]
     },
     "metadata": {},
     "output_type": "display_data"
    },
    {
     "data": {
      "text/html": [
       "<dl>"
      ],
      "text/plain": [
       "<IPython.core.display.HTML object>"
      ]
     },
     "metadata": {},
     "output_type": "display_data"
    },
    {
     "data": {
      "text/html": [
       "<dt><a class=\"ProveItLink\" href=\"../../../../../../core_expr_types/tuples/_theory_nbs_/proofs/tuple_len_0_typical_eq/thm_proof.ipynb\">proveit.core_expr_types.tuples.tuple_len_0_typical_eq</a></dt><dd><a class=\"ProveItLink\" href=\"../../../../../../core_expr_types/tuples/__pv_it/theorems/e4227b9c4c4eee791197a50fb372df0303979ecf0/expr.ipynb\"><img src=\"../../../../../../core_expr_types/tuples/__pv_it/theorems/e4227b9c4c4eee791197a50fb372df0303979ecf0/expr.png\" style=\"display:inline;vertical-align:middle;\" /></a></dd>"
      ],
      "text/plain": [
       "<IPython.core.display.HTML object>"
      ]
     },
     "metadata": {},
     "output_type": "display_data"
    },
    {
     "data": {
      "text/html": [
       "<dt><a class=\"ProveItLink\" href=\"../../../../../../logic/equality/_theory_nbs_/proofs/four_chain_transitivity/thm_proof.ipynb\">proveit.logic.equality.four_chain_transitivity</a></dt><dd><a class=\"ProveItLink\" href=\"../../../../../../logic/equality/__pv_it/theorems/4f18e19905a24df92da67b023810639a52efaa780/expr.ipynb\"><img src=\"../../../../../../logic/equality/__pv_it/theorems/4f18e19905a24df92da67b023810639a52efaa780/expr.png\" style=\"display:inline;vertical-align:middle;\" /></a></dd>"
      ],
      "text/plain": [
       "<IPython.core.display.HTML object>"
      ]
     },
     "metadata": {},
     "output_type": "display_data"
    },
    {
     "data": {
      "text/html": [
       "<dt><a class=\"ProveItLink\" href=\"../../../../../../logic/sets/enumeration/_theory_nbs_/proofs/in_enumerated_set/thm_proof.ipynb\">proveit.logic.sets.enumeration.in_enumerated_set</a></dt><dd><a class=\"ProveItLink\" href=\"../../../../../../logic/sets/enumeration/__pv_it/theorems/ed19137bc36ddbb43af52f63034b20fd15e11a410/expr.ipynb\"><img src=\"../../../../../../logic/sets/enumeration/__pv_it/theorems/ed19137bc36ddbb43af52f63034b20fd15e11a410/expr.png\" style=\"display:inline;vertical-align:middle;\" /></a></dd>"
      ],
      "text/plain": [
       "<IPython.core.display.HTML object>"
      ]
     },
     "metadata": {},
     "output_type": "display_data"
    },
    {
     "data": {
      "text/html": [
       "<dt><a class=\"ProveItLink\" href=\"../../../../../../logic/sets/enumeration/_theory_nbs_/proofs/true_for_each_then_true_for_all/thm_proof.ipynb\">proveit.logic.sets.enumeration.true_for_each_then_true_for_all</a></dt><dd><a class=\"ProveItLink\" href=\"../../../../../../logic/sets/enumeration/__pv_it/theorems/2a3d660a558dc497f469ec93205d50605fbedf0e0/expr.ipynb\"><img src=\"../../../../../../logic/sets/enumeration/__pv_it/theorems/2a3d660a558dc497f469ec93205d50605fbedf0e0/expr.png\" style=\"display:inline;vertical-align:middle;\" /></a></dd>"
      ],
      "text/plain": [
       "<IPython.core.display.HTML object>"
      ]
     },
     "metadata": {},
     "output_type": "display_data"
    },
    {
     "data": {
      "text/html": [
       "<dt><a class=\"ProveItLink\" href=\"../../../../../../logic/sets/enumeration/_theory_nbs_/proofs/unfold/thm_proof.ipynb\">proveit.logic.sets.enumeration.unfold</a></dt><dd><a class=\"ProveItLink\" href=\"../../../../../../logic/sets/enumeration/__pv_it/theorems/93064732f43675fe7136dce1d05dc46f6c9d68960/expr.ipynb\"><img src=\"../../../../../../logic/sets/enumeration/__pv_it/theorems/93064732f43675fe7136dce1d05dc46f6c9d68960/expr.png\" style=\"display:inline;vertical-align:middle;\" /></a></dd>"
      ],
      "text/plain": [
       "<IPython.core.display.HTML object>"
      ]
     },
     "metadata": {},
     "output_type": "display_data"
    },
    {
     "data": {
      "text/html": [
       "<dt><a class=\"ProveItLink\" href=\"../../../../../../logic/sets/membership/_theory_nbs_/proofs/double_negated_membership/thm_proof.ipynb\">proveit.logic.sets.membership.double_negated_membership</a></dt><dd><a class=\"ProveItLink\" href=\"../../../../../../logic/sets/membership/__pv_it/theorems/84d1e146e6fabc5123bad27baefa6ca8ff139c720/expr.ipynb\"><img src=\"../../../../../../logic/sets/membership/__pv_it/theorems/84d1e146e6fabc5123bad27baefa6ca8ff139c720/expr.png\" style=\"display:inline;vertical-align:middle;\" /></a></dd>"
      ],
      "text/plain": [
       "<IPython.core.display.HTML object>"
      ]
     },
     "metadata": {},
     "output_type": "display_data"
    },
    {
     "data": {
      "text/html": [
       "<dt><a class=\"ProveItLink\" href=\"../../../../../../numbers/absolute_value/_theory_nbs_/proofs/abs_complex_closure/thm_proof.ipynb\">proveit.numbers.absolute_value.abs_complex_closure</a></dt><dd><a class=\"ProveItLink\" href=\"../../../../../../numbers/absolute_value/__pv_it/theorems/7766d7e541c55b09fa681415edf67c262db36e2c0/expr.ipynb\"><img src=\"../../../../../../numbers/absolute_value/__pv_it/theorems/7766d7e541c55b09fa681415edf67c262db36e2c0/expr.png\" style=\"display:inline;vertical-align:middle;\" /></a></dd>"
      ],
      "text/plain": [
       "<IPython.core.display.HTML object>"
      ]
     },
     "metadata": {},
     "output_type": "display_data"
    },
    {
     "data": {
      "text/html": [
       "<dt><a class=\"ProveItLink\" href=\"../../../../../../numbers/absolute_value/_theory_nbs_/proofs/abs_nonzero_closure/thm_proof.ipynb\">proveit.numbers.absolute_value.abs_nonzero_closure</a></dt><dd><a class=\"ProveItLink\" href=\"../../../../../../numbers/absolute_value/__pv_it/theorems/e2f72d79765d2822d85519c954bcb277c2f5ed420/expr.ipynb\"><img src=\"../../../../../../numbers/absolute_value/__pv_it/theorems/e2f72d79765d2822d85519c954bcb277c2f5ed420/expr.png\" style=\"display:inline;vertical-align:middle;\" /></a></dd>"
      ],
      "text/plain": [
       "<IPython.core.display.HTML object>"
      ]
     },
     "metadata": {},
     "output_type": "display_data"
    },
    {
     "data": {
      "text/html": [
       "<dt><a class=\"ProveItLink\" href=\"../../../../../../numbers/absolute_value/_theory_nbs_/proofs/weak_upper_bound/thm_proof.ipynb\">proveit.numbers.absolute_value.weak_upper_bound</a></dt><dd><a class=\"ProveItLink\" href=\"../../../../../../numbers/absolute_value/__pv_it/theorems/ba34cd027028c0cd9c3bd0fdef5f71e090d109370/expr.ipynb\"><img src=\"../../../../../../numbers/absolute_value/__pv_it/theorems/ba34cd027028c0cd9c3bd0fdef5f71e090d109370/expr.png\" style=\"display:inline;vertical-align:middle;\" /></a></dd>"
      ],
      "text/plain": [
       "<IPython.core.display.HTML object>"
      ]
     },
     "metadata": {},
     "output_type": "display_data"
    },
    {
     "data": {
      "text/html": [
       "<dt><a class=\"ProveItLink\" href=\"../../../../../../numbers/addition/_theory_nbs_/proofs/add_int_closure_bin/thm_proof.ipynb\">proveit.numbers.addition.add_int_closure_bin</a></dt><dd><a class=\"ProveItLink\" href=\"../../../../../../numbers/addition/__pv_it/theorems/2b35ce06cdfeb875e0f6937e01d6820de71b5a1f0/expr.ipynb\"><img src=\"../../../../../../numbers/addition/__pv_it/theorems/2b35ce06cdfeb875e0f6937e01d6820de71b5a1f0/expr.png\" style=\"display:inline;vertical-align:middle;\" /></a></dd>"
      ],
      "text/plain": [
       "<IPython.core.display.HTML object>"
      ]
     },
     "metadata": {},
     "output_type": "display_data"
    },
    {
     "data": {
      "text/html": [
       "<dt><a class=\"ProveItLink\" href=\"../../../../../../numbers/addition/_theory_nbs_/proofs/add_real_closure_bin/thm_proof.ipynb\">proveit.numbers.addition.add_real_closure_bin</a></dt><dd><a class=\"ProveItLink\" href=\"../../../../../../numbers/addition/__pv_it/theorems/df039533242651384cdd443c6e1baef1165f6d710/expr.ipynb\"><img src=\"../../../../../../numbers/addition/__pv_it/theorems/df039533242651384cdd443c6e1baef1165f6d710/expr.png\" style=\"display:inline;vertical-align:middle;\" /></a></dd>"
      ],
      "text/plain": [
       "<IPython.core.display.HTML object>"
      ]
     },
     "metadata": {},
     "output_type": "display_data"
    },
    {
     "data": {
      "text/html": [
       "<dt><a class=\"ProveItLink\" href=\"../../../../../../numbers/addition/_theory_nbs_/proofs/commutation/thm_proof.ipynb\">proveit.numbers.addition.commutation</a></dt><dd><a class=\"ProveItLink\" href=\"../../../../../../numbers/addition/__pv_it/theorems/0530bd5996625fe7e23368b80795a751706d3cca0/expr.ipynb\"><img src=\"../../../../../../numbers/addition/__pv_it/theorems/0530bd5996625fe7e23368b80795a751706d3cca0/expr.png\" style=\"display:inline;vertical-align:middle;\" /></a></dd>"
      ],
      "text/plain": [
       "<IPython.core.display.HTML object>"
      ]
     },
     "metadata": {},
     "output_type": "display_data"
    },
    {
     "data": {
      "text/html": [
       "<dt><a class=\"ProveItLink\" href=\"../../../../../../numbers/addition/_theory_nbs_/proofs/disassociation/thm_proof.ipynb\">proveit.numbers.addition.disassociation</a></dt><dd><a class=\"ProveItLink\" href=\"../../../../../../numbers/addition/__pv_it/theorems/72db209c8fe099279cc023e5e34493f46d4b9b510/expr.ipynb\"><img src=\"../../../../../../numbers/addition/__pv_it/theorems/72db209c8fe099279cc023e5e34493f46d4b9b510/expr.png\" style=\"display:inline;vertical-align:middle;\" /></a></dd>"
      ],
      "text/plain": [
       "<IPython.core.display.HTML object>"
      ]
     },
     "metadata": {},
     "output_type": "display_data"
    },
    {
     "data": {
      "text/html": [
       "<dt><a class=\"ProveItLink\" href=\"../../../../../../numbers/addition/_theory_nbs_/proofs/elim_zero_left/thm_proof.ipynb\">proveit.numbers.addition.elim_zero_left</a></dt><dd><a class=\"ProveItLink\" href=\"../../../../../../numbers/addition/__pv_it/theorems/7be1cd9043852fe4dd5d37d9b73126dace2b9a7f0/expr.ipynb\"><img src=\"../../../../../../numbers/addition/__pv_it/theorems/7be1cd9043852fe4dd5d37d9b73126dace2b9a7f0/expr.png\" style=\"display:inline;vertical-align:middle;\" /></a></dd>"
      ],
      "text/plain": [
       "<IPython.core.display.HTML object>"
      ]
     },
     "metadata": {},
     "output_type": "display_data"
    },
    {
     "data": {
      "text/html": [
       "<dt><a class=\"ProveItLink\" href=\"../../../../../../numbers/addition/_theory_nbs_/proofs/elim_zero_right/thm_proof.ipynb\">proveit.numbers.addition.elim_zero_right</a></dt><dd><a class=\"ProveItLink\" href=\"../../../../../../numbers/addition/__pv_it/theorems/4719abd3480fde2fd7d0a3999c43fe5d37b4f4580/expr.ipynb\"><img src=\"../../../../../../numbers/addition/__pv_it/theorems/4719abd3480fde2fd7d0a3999c43fe5d37b4f4580/expr.png\" style=\"display:inline;vertical-align:middle;\" /></a></dd>"
      ],
      "text/plain": [
       "<IPython.core.display.HTML object>"
      ]
     },
     "metadata": {},
     "output_type": "display_data"
    },
    {
     "data": {
      "text/html": [
       "<dt><a class=\"ProveItLink\" href=\"../../../../../../numbers/addition/_theory_nbs_/proofs/rational_pair_addition/thm_proof.ipynb\">proveit.numbers.addition.rational_pair_addition</a></dt><dd><a class=\"ProveItLink\" href=\"../../../../../../numbers/addition/__pv_it/theorems/97377aebde80b14bafb68422eb4f69e7c74eb0c20/expr.ipynb\"><img src=\"../../../../../../numbers/addition/__pv_it/theorems/97377aebde80b14bafb68422eb4f69e7c74eb0c20/expr.png\" style=\"display:inline;vertical-align:middle;\" /></a></dd>"
      ],
      "text/plain": [
       "<IPython.core.display.HTML object>"
      ]
     },
     "metadata": {},
     "output_type": "display_data"
    },
    {
     "data": {
      "text/html": [
       "<dt><a class=\"ProveItLink\" href=\"../../../../../../numbers/addition/_theory_nbs_/proofs/strong_bound_via_left_term_bound/thm_proof.ipynb\">proveit.numbers.addition.strong_bound_via_left_term_bound</a></dt><dd><a class=\"ProveItLink\" href=\"../../../../../../numbers/addition/__pv_it/theorems/5b832fc2ff9f945d2807a753c90e3c22309ad14f0/expr.ipynb\"><img src=\"../../../../../../numbers/addition/__pv_it/theorems/5b832fc2ff9f945d2807a753c90e3c22309ad14f0/expr.png\" style=\"display:inline;vertical-align:middle;\" /></a></dd>"
      ],
      "text/plain": [
       "<IPython.core.display.HTML object>"
      ]
     },
     "metadata": {},
     "output_type": "display_data"
    },
    {
     "data": {
      "text/html": [
       "<dt><a class=\"ProveItLink\" href=\"../../../../../../numbers/addition/subtraction/_theory_nbs_/proofs/add_cancel_general/thm_proof.ipynb\">proveit.numbers.addition.subtraction.add_cancel_general</a></dt><dd><a class=\"ProveItLink\" href=\"../../../../../../numbers/addition/subtraction/__pv_it/theorems/fffb326e3ddaed8504adf87551d44ceb731818300/expr.ipynb\"><img src=\"../../../../../../numbers/addition/subtraction/__pv_it/theorems/fffb326e3ddaed8504adf87551d44ceb731818300/expr.png\" style=\"display:inline;vertical-align:middle;\" /></a></dd>"
      ],
      "text/plain": [
       "<IPython.core.display.HTML object>"
      ]
     },
     "metadata": {},
     "output_type": "display_data"
    },
    {
     "data": {
      "text/html": [
       "<dt><a class=\"ProveItLink\" href=\"../../../../../../numbers/addition/subtraction/_theory_nbs_/proofs/add_cancel_triple_13/thm_proof.ipynb\">proveit.numbers.addition.subtraction.add_cancel_triple_13</a></dt><dd><a class=\"ProveItLink\" href=\"../../../../../../numbers/addition/subtraction/__pv_it/theorems/1058431cfab30cd32a771d7d44b66013db90a5900/expr.ipynb\"><img src=\"../../../../../../numbers/addition/subtraction/__pv_it/theorems/1058431cfab30cd32a771d7d44b66013db90a5900/expr.png\" style=\"display:inline;vertical-align:middle;\" /></a></dd>"
      ],
      "text/plain": [
       "<IPython.core.display.HTML object>"
      ]
     },
     "metadata": {},
     "output_type": "display_data"
    },
    {
     "data": {
      "text/html": [
       "<dt><a class=\"ProveItLink\" href=\"../../../../../../numbers/addition/subtraction/_theory_nbs_/proofs/add_cancel_triple_23/thm_proof.ipynb\">proveit.numbers.addition.subtraction.add_cancel_triple_23</a></dt><dd><a class=\"ProveItLink\" href=\"../../../../../../numbers/addition/subtraction/__pv_it/theorems/5f5bddfb6cb684123565d64a269d2e76fef0945a0/expr.ipynb\"><img src=\"../../../../../../numbers/addition/subtraction/__pv_it/theorems/5f5bddfb6cb684123565d64a269d2e76fef0945a0/expr.png\" style=\"display:inline;vertical-align:middle;\" /></a></dd>"
      ],
      "text/plain": [
       "<IPython.core.display.HTML object>"
      ]
     },
     "metadata": {},
     "output_type": "display_data"
    },
    {
     "data": {
      "text/html": [
       "<dt><a class=\"ProveItLink\" href=\"../../../../../../numbers/addition/subtraction/_theory_nbs_/proofs/negated_add/thm_proof.ipynb\">proveit.numbers.addition.subtraction.negated_add</a></dt><dd><a class=\"ProveItLink\" href=\"../../../../../../numbers/addition/subtraction/__pv_it/theorems/7c5f5dd8b40e9ae03cd8d8cd56eb0cf79f0dba2e0/expr.ipynb\"><img src=\"../../../../../../numbers/addition/subtraction/__pv_it/theorems/7c5f5dd8b40e9ae03cd8d8cd56eb0cf79f0dba2e0/expr.png\" style=\"display:inline;vertical-align:middle;\" /></a></dd>"
      ],
      "text/plain": [
       "<IPython.core.display.HTML object>"
      ]
     },
     "metadata": {},
     "output_type": "display_data"
    },
    {
     "data": {
      "text/html": [
       "<dt><a class=\"ProveItLink\" href=\"../../../../../../numbers/addition/subtraction/_theory_nbs_/proofs/nonneg_difference/thm_proof.ipynb\">proveit.numbers.addition.subtraction.nonneg_difference</a></dt><dd><a class=\"ProveItLink\" href=\"../../../../../../numbers/addition/subtraction/__pv_it/theorems/e407a03f6d7daa8554d9f3327dae28760dc62e630/expr.ipynb\"><img src=\"../../../../../../numbers/addition/subtraction/__pv_it/theorems/e407a03f6d7daa8554d9f3327dae28760dc62e630/expr.png\" style=\"display:inline;vertical-align:middle;\" /></a></dd>"
      ],
      "text/plain": [
       "<IPython.core.display.HTML object>"
      ]
     },
     "metadata": {},
     "output_type": "display_data"
    },
    {
     "data": {
      "text/html": [
       "<dt><a class=\"ProveItLink\" href=\"../../../../../../numbers/addition/subtraction/_theory_nbs_/proofs/nonzero_difference_if_different/thm_proof.ipynb\">proveit.numbers.addition.subtraction.nonzero_difference_if_different</a></dt><dd><a class=\"ProveItLink\" href=\"../../../../../../numbers/addition/subtraction/__pv_it/theorems/d91a595d24b679dc3b9579b507540553ad7f19bd0/expr.ipynb\"><img src=\"../../../../../../numbers/addition/subtraction/__pv_it/theorems/d91a595d24b679dc3b9579b507540553ad7f19bd0/expr.png\" style=\"display:inline;vertical-align:middle;\" /></a></dd>"
      ],
      "text/plain": [
       "<IPython.core.display.HTML object>"
      ]
     },
     "metadata": {},
     "output_type": "display_data"
    },
    {
     "data": {
      "text/html": [
       "<dt><a class=\"ProveItLink\" href=\"../../../../../../numbers/addition/subtraction/_theory_nbs_/proofs/subtract_from_add/thm_proof.ipynb\">proveit.numbers.addition.subtraction.subtract_from_add</a></dt><dd><a class=\"ProveItLink\" href=\"../../../../../../numbers/addition/subtraction/__pv_it/theorems/d67d37b2c3e223df2f734da33f82d5efbc38107e0/expr.ipynb\"><img src=\"../../../../../../numbers/addition/subtraction/__pv_it/theorems/d67d37b2c3e223df2f734da33f82d5efbc38107e0/expr.png\" style=\"display:inline;vertical-align:middle;\" /></a></dd>"
      ],
      "text/plain": [
       "<IPython.core.display.HTML object>"
      ]
     },
     "metadata": {},
     "output_type": "display_data"
    },
    {
     "data": {
      "text/html": [
       "<dt><a class=\"ProveItLink\" href=\"../../../../../../numbers/addition/_theory_nbs_/proofs/weak_bound_via_left_term_bound/thm_proof.ipynb\">proveit.numbers.addition.weak_bound_via_left_term_bound</a></dt><dd><a class=\"ProveItLink\" href=\"../../../../../../numbers/addition/__pv_it/theorems/f0177d627769a4a40fd8d9d2f5bb658a7907a3ca0/expr.ipynb\"><img src=\"../../../../../../numbers/addition/__pv_it/theorems/f0177d627769a4a40fd8d9d2f5bb658a7907a3ca0/expr.png\" style=\"display:inline;vertical-align:middle;\" /></a></dd>"
      ],
      "text/plain": [
       "<IPython.core.display.HTML object>"
      ]
     },
     "metadata": {},
     "output_type": "display_data"
    },
    {
     "data": {
      "text/html": [
       "<dt><a class=\"ProveItLink\" href=\"../../../../../../numbers/addition/_theory_nbs_/proofs/weak_bound_via_right_term_bound/thm_proof.ipynb\">proveit.numbers.addition.weak_bound_via_right_term_bound</a></dt><dd><a class=\"ProveItLink\" href=\"../../../../../../numbers/addition/__pv_it/theorems/fe33c36912103fd5b37c7bc6790ced94e624436e0/expr.ipynb\"><img src=\"../../../../../../numbers/addition/__pv_it/theorems/fe33c36912103fd5b37c7bc6790ced94e624436e0/expr.png\" style=\"display:inline;vertical-align:middle;\" /></a></dd>"
      ],
      "text/plain": [
       "<IPython.core.display.HTML object>"
      ]
     },
     "metadata": {},
     "output_type": "display_data"
    },
    {
     "data": {
      "text/html": [
       "<dt><a class=\"ProveItLink\" href=\"../../../../../../numbers/division/_theory_nbs_/proofs/distribute_frac_through_subtract/thm_proof.ipynb\">proveit.numbers.division.distribute_frac_through_subtract</a></dt><dd><a class=\"ProveItLink\" href=\"../../../../../../numbers/division/__pv_it/theorems/ac974d29a788c8154f209f3be076705b0ecbc5630/expr.ipynb\"><img src=\"../../../../../../numbers/division/__pv_it/theorems/ac974d29a788c8154f209f3be076705b0ecbc5630/expr.png\" style=\"display:inline;vertical-align:middle;\" /></a></dd>"
      ],
      "text/plain": [
       "<IPython.core.display.HTML object>"
      ]
     },
     "metadata": {},
     "output_type": "display_data"
    },
    {
     "data": {
      "text/html": [
       "<dt><a class=\"ProveItLink\" href=\"../../../../../../numbers/division/_theory_nbs_/proofs/div_as_mult/thm_proof.ipynb\">proveit.numbers.division.div_as_mult</a></dt><dd><a class=\"ProveItLink\" href=\"../../../../../../numbers/division/__pv_it/theorems/abefb2e9cae66b7b5660367da428da42f3bca1990/expr.ipynb\"><img src=\"../../../../../../numbers/division/__pv_it/theorems/abefb2e9cae66b7b5660367da428da42f3bca1990/expr.png\" style=\"display:inline;vertical-align:middle;\" /></a></dd>"
      ],
      "text/plain": [
       "<IPython.core.display.HTML object>"
      ]
     },
     "metadata": {},
     "output_type": "display_data"
    },
    {
     "data": {
      "text/html": [
       "<dt><a class=\"ProveItLink\" href=\"../../../../../../numbers/division/_theory_nbs_/proofs/div_complex_closure/thm_proof.ipynb\">proveit.numbers.division.div_complex_closure</a></dt><dd><a class=\"ProveItLink\" href=\"../../../../../../numbers/division/__pv_it/theorems/0a001803abdc7edf90c0692227a968e53b84b0680/expr.ipynb\"><img src=\"../../../../../../numbers/division/__pv_it/theorems/0a001803abdc7edf90c0692227a968e53b84b0680/expr.png\" style=\"display:inline;vertical-align:middle;\" /></a></dd>"
      ],
      "text/plain": [
       "<IPython.core.display.HTML object>"
      ]
     },
     "metadata": {},
     "output_type": "display_data"
    },
    {
     "data": {
      "text/html": [
       "<dt><a class=\"ProveItLink\" href=\"../../../../../../numbers/division/_theory_nbs_/proofs/div_neq_real/thm_proof.ipynb\">proveit.numbers.division.div_neq_real</a></dt><dd><a class=\"ProveItLink\" href=\"../../../../../../numbers/division/__pv_it/theorems/0fed3ce84a40178bc5dd9042cb46ab7424df86900/expr.ipynb\"><img src=\"../../../../../../numbers/division/__pv_it/theorems/0fed3ce84a40178bc5dd9042cb46ab7424df86900/expr.png\" style=\"display:inline;vertical-align:middle;\" /></a></dd>"
      ],
      "text/plain": [
       "<IPython.core.display.HTML object>"
      ]
     },
     "metadata": {},
     "output_type": "display_data"
    },
    {
     "data": {
      "text/html": [
       "<dt><a class=\"ProveItLink\" href=\"../../../../../../numbers/division/_theory_nbs_/proofs/div_rational_pos_closure/thm_proof.ipynb\">proveit.numbers.division.div_rational_pos_closure</a></dt><dd><a class=\"ProveItLink\" href=\"../../../../../../numbers/division/__pv_it/theorems/3873e9a828d8fd60cf3cb2f045e4a73ff102eee60/expr.ipynb\"><img src=\"../../../../../../numbers/division/__pv_it/theorems/3873e9a828d8fd60cf3cb2f045e4a73ff102eee60/expr.png\" style=\"display:inline;vertical-align:middle;\" /></a></dd>"
      ],
      "text/plain": [
       "<IPython.core.display.HTML object>"
      ]
     },
     "metadata": {},
     "output_type": "display_data"
    },
    {
     "data": {
      "text/html": [
       "<dt><a class=\"ProveItLink\" href=\"../../../../../../numbers/division/_theory_nbs_/proofs/div_real_closure/thm_proof.ipynb\">proveit.numbers.division.div_real_closure</a></dt><dd><a class=\"ProveItLink\" href=\"../../../../../../numbers/division/__pv_it/theorems/c427bc0d4958ad51bb8674ffef2fe75dcd5121960/expr.ipynb\"><img src=\"../../../../../../numbers/division/__pv_it/theorems/c427bc0d4958ad51bb8674ffef2fe75dcd5121960/expr.png\" style=\"display:inline;vertical-align:middle;\" /></a></dd>"
      ],
      "text/plain": [
       "<IPython.core.display.HTML object>"
      ]
     },
     "metadata": {},
     "output_type": "display_data"
    },
    {
     "data": {
      "text/html": [
       "<dt><a class=\"ProveItLink\" href=\"../../../../../../numbers/division/_theory_nbs_/proofs/frac_cancel_complete/thm_proof.ipynb\">proveit.numbers.division.frac_cancel_complete</a></dt><dd><a class=\"ProveItLink\" href=\"../../../../../../numbers/division/__pv_it/theorems/f41c3c3f684e39b51123e3450ed7effdf2423e1d0/expr.ipynb\"><img src=\"../../../../../../numbers/division/__pv_it/theorems/f41c3c3f684e39b51123e3450ed7effdf2423e1d0/expr.png\" style=\"display:inline;vertical-align:middle;\" /></a></dd>"
      ],
      "text/plain": [
       "<IPython.core.display.HTML object>"
      ]
     },
     "metadata": {},
     "output_type": "display_data"
    },
    {
     "data": {
      "text/html": [
       "<dt><a class=\"ProveItLink\" href=\"../../../../../../numbers/division/_theory_nbs_/proofs/frac_cancel_left/thm_proof.ipynb\">proveit.numbers.division.frac_cancel_left</a></dt><dd><a class=\"ProveItLink\" href=\"../../../../../../numbers/division/__pv_it/theorems/abe087c1f6db10e358eccd628b01da34e490c1220/expr.ipynb\"><img src=\"../../../../../../numbers/division/__pv_it/theorems/abe087c1f6db10e358eccd628b01da34e490c1220/expr.png\" style=\"display:inline;vertical-align:middle;\" /></a></dd>"
      ],
      "text/plain": [
       "<IPython.core.display.HTML object>"
      ]
     },
     "metadata": {},
     "output_type": "display_data"
    },
    {
     "data": {
      "text/html": [
       "<dt><a class=\"ProveItLink\" href=\"../../../../../../numbers/division/_theory_nbs_/proofs/frac_one_denom/thm_proof.ipynb\">proveit.numbers.division.frac_one_denom</a></dt><dd><a class=\"ProveItLink\" href=\"../../../../../../numbers/division/__pv_it/theorems/fa046ea1cf1f5f530c92039971f3aecc11c525b30/expr.ipynb\"><img src=\"../../../../../../numbers/division/__pv_it/theorems/fa046ea1cf1f5f530c92039971f3aecc11c525b30/expr.png\" style=\"display:inline;vertical-align:middle;\" /></a></dd>"
      ],
      "text/plain": [
       "<IPython.core.display.HTML object>"
      ]
     },
     "metadata": {},
     "output_type": "display_data"
    },
    {
     "data": {
      "text/html": [
       "<dt><a class=\"ProveItLink\" href=\"../../../../../../numbers/division/_theory_nbs_/proofs/mult_frac_cancel_numer_left/thm_proof.ipynb\">proveit.numbers.division.mult_frac_cancel_numer_left</a></dt><dd><a class=\"ProveItLink\" href=\"../../../../../../numbers/division/__pv_it/theorems/40e8c013eef8715776fbb4db26403c6e86ee47170/expr.ipynb\"><img src=\"../../../../../../numbers/division/__pv_it/theorems/40e8c013eef8715776fbb4db26403c6e86ee47170/expr.png\" style=\"display:inline;vertical-align:middle;\" /></a></dd>"
      ],
      "text/plain": [
       "<IPython.core.display.HTML object>"
      ]
     },
     "metadata": {},
     "output_type": "display_data"
    },
    {
     "data": {
      "text/html": [
       "<dt><a class=\"ProveItLink\" href=\"../../../../../../numbers/division/_theory_nbs_/proofs/mult_frac_left/thm_proof.ipynb\">proveit.numbers.division.mult_frac_left</a></dt><dd><a class=\"ProveItLink\" href=\"../../../../../../numbers/division/__pv_it/theorems/d13d4983e56e474ba44d0fe469ade39eddc1fee60/expr.ipynb\"><img src=\"../../../../../../numbers/division/__pv_it/theorems/d13d4983e56e474ba44d0fe469ade39eddc1fee60/expr.png\" style=\"display:inline;vertical-align:middle;\" /></a></dd>"
      ],
      "text/plain": [
       "<IPython.core.display.HTML object>"
      ]
     },
     "metadata": {},
     "output_type": "display_data"
    },
    {
     "data": {
      "text/html": [
       "<dt><a class=\"ProveItLink\" href=\"../../../../../../numbers/division/_theory_nbs_/proofs/neg_frac_neg_numerator/thm_proof.ipynb\">proveit.numbers.division.neg_frac_neg_numerator</a></dt><dd><a class=\"ProveItLink\" href=\"../../../../../../numbers/division/__pv_it/theorems/47c291dbcf0549ef466d8dea5b01c96650b2546b0/expr.ipynb\"><img src=\"../../../../../../numbers/division/__pv_it/theorems/47c291dbcf0549ef466d8dea5b01c96650b2546b0/expr.png\" style=\"display:inline;vertical-align:middle;\" /></a></dd>"
      ],
      "text/plain": [
       "<IPython.core.display.HTML object>"
      ]
     },
     "metadata": {},
     "output_type": "display_data"
    },
    {
     "data": {
      "text/html": [
       "<dt><a class=\"ProveItLink\" href=\"../../../../../../numbers/division/_theory_nbs_/proofs/strong_div_from_numer_bound__pos_denom/thm_proof.ipynb\">proveit.numbers.division.strong_div_from_numer_bound__pos_denom</a></dt><dd><a class=\"ProveItLink\" href=\"../../../../../../numbers/division/__pv_it/theorems/420b17a41369b7fea765113b2dc032d115b060a80/expr.ipynb\"><img src=\"../../../../../../numbers/division/__pv_it/theorems/420b17a41369b7fea765113b2dc032d115b060a80/expr.png\" style=\"display:inline;vertical-align:middle;\" /></a></dd>"
      ],
      "text/plain": [
       "<IPython.core.display.HTML object>"
      ]
     },
     "metadata": {},
     "output_type": "display_data"
    },
    {
     "data": {
      "text/html": [
       "<dt><a class=\"ProveItLink\" href=\"../../../../../../numbers/division/_theory_nbs_/proofs/weak_div_from_numer_bound__pos_denom/thm_proof.ipynb\">proveit.numbers.division.weak_div_from_numer_bound__pos_denom</a></dt><dd><a class=\"ProveItLink\" href=\"../../../../../../numbers/division/__pv_it/theorems/cafed8b01992e73966a12c559cfeabcd58d0d34c0/expr.ipynb\"><img src=\"../../../../../../numbers/division/__pv_it/theorems/cafed8b01992e73966a12c559cfeabcd58d0d34c0/expr.png\" style=\"display:inline;vertical-align:middle;\" /></a></dd>"
      ],
      "text/plain": [
       "<IPython.core.display.HTML object>"
      ]
     },
     "metadata": {},
     "output_type": "display_data"
    },
    {
     "data": {
      "text/html": [
       "<dt><a class=\"ProveItLink\" href=\"../../../../../../numbers/exponentiation/_theory_nbs_/proofs/complex_x_to_first_power_is_x/thm_proof.ipynb\">proveit.numbers.exponentiation.complex_x_to_first_power_is_x</a></dt><dd><a class=\"ProveItLink\" href=\"../../../../../../numbers/exponentiation/__pv_it/theorems/0745069ee9c9256bc3bd81a115a89dec186eecf40/expr.ipynb\"><img src=\"../../../../../../numbers/exponentiation/__pv_it/theorems/0745069ee9c9256bc3bd81a115a89dec186eecf40/expr.png\" style=\"display:inline;vertical-align:middle;\" /></a></dd>"
      ],
      "text/plain": [
       "<IPython.core.display.HTML object>"
      ]
     },
     "metadata": {},
     "output_type": "display_data"
    },
    {
     "data": {
      "text/html": [
       "<dt><a class=\"ProveItLink\" href=\"../../../../../../numbers/exponentiation/_theory_nbs_/proofs/exp_int_closure/thm_proof.ipynb\">proveit.numbers.exponentiation.exp_int_closure</a></dt><dd><a class=\"ProveItLink\" href=\"../../../../../../numbers/exponentiation/__pv_it/theorems/396682dd8de2485b9019e5a2c0c12dbb7cb4f7080/expr.ipynb\"><img src=\"../../../../../../numbers/exponentiation/__pv_it/theorems/396682dd8de2485b9019e5a2c0c12dbb7cb4f7080/expr.png\" style=\"display:inline;vertical-align:middle;\" /></a></dd>"
      ],
      "text/plain": [
       "<IPython.core.display.HTML object>"
      ]
     },
     "metadata": {},
     "output_type": "display_data"
    },
    {
     "data": {
      "text/html": [
       "<dt><a class=\"ProveItLink\" href=\"../../../../../../numbers/exponentiation/_theory_nbs_/proofs/exp_natpos_closure/thm_proof.ipynb\">proveit.numbers.exponentiation.exp_natpos_closure</a></dt><dd><a class=\"ProveItLink\" href=\"../../../../../../numbers/exponentiation/__pv_it/theorems/c6b2906656deb094c57a1a1d1d504dc08d415e850/expr.ipynb\"><img src=\"../../../../../../numbers/exponentiation/__pv_it/theorems/c6b2906656deb094c57a1a1d1d504dc08d415e850/expr.png\" style=\"display:inline;vertical-align:middle;\" /></a></dd>"
      ],
      "text/plain": [
       "<IPython.core.display.HTML object>"
      ]
     },
     "metadata": {},
     "output_type": "display_data"
    },
    {
     "data": {
      "text/html": [
       "<dt><a class=\"ProveItLink\" href=\"../../../../../../numbers/exponentiation/_theory_nbs_/proofs/exp_rational_non_zero__not_zero/thm_proof.ipynb\">proveit.numbers.exponentiation.exp_rational_non_zero__not_zero</a></dt><dd><a class=\"ProveItLink\" href=\"../../../../../../numbers/exponentiation/__pv_it/theorems/6b0de578405529b6935b739e720417f186c7d9120/expr.ipynb\"><img src=\"../../../../../../numbers/exponentiation/__pv_it/theorems/6b0de578405529b6935b739e720417f186c7d9120/expr.png\" style=\"display:inline;vertical-align:middle;\" /></a></dd>"
      ],
      "text/plain": [
       "<IPython.core.display.HTML object>"
      ]
     },
     "metadata": {},
     "output_type": "display_data"
    },
    {
     "data": {
      "text/html": [
       "<dt><a class=\"ProveItLink\" href=\"../../../../../../numbers/exponentiation/_theory_nbs_/proofs/neg_power_as_div/thm_proof.ipynb\">proveit.numbers.exponentiation.neg_power_as_div</a></dt><dd><a class=\"ProveItLink\" href=\"../../../../../../numbers/exponentiation/__pv_it/theorems/d9dcdcf55542c88480ce1550faaee0f6fc70fb9f0/expr.ipynb\"><img src=\"../../../../../../numbers/exponentiation/__pv_it/theorems/d9dcdcf55542c88480ce1550faaee0f6fc70fb9f0/expr.png\" style=\"display:inline;vertical-align:middle;\" /></a></dd>"
      ],
      "text/plain": [
       "<IPython.core.display.HTML object>"
      ]
     },
     "metadata": {},
     "output_type": "display_data"
    },
    {
     "data": {
      "text/html": [
       "<dt><a class=\"ProveItLink\" href=\"../../../../../../numbers/exponentiation/_theory_nbs_/proofs/product_of_real_powers/thm_proof.ipynb\">proveit.numbers.exponentiation.product_of_real_powers</a></dt><dd><a class=\"ProveItLink\" href=\"../../../../../../numbers/exponentiation/__pv_it/theorems/581833f351e28cae246c3c281615446e7a00496d0/expr.ipynb\"><img src=\"../../../../../../numbers/exponentiation/__pv_it/theorems/581833f351e28cae246c3c281615446e7a00496d0/expr.png\" style=\"display:inline;vertical-align:middle;\" /></a></dd>"
      ],
      "text/plain": [
       "<IPython.core.display.HTML object>"
      ]
     },
     "metadata": {},
     "output_type": "display_data"
    },
    {
     "data": {
      "text/html": [
       "<dt><a class=\"ProveItLink\" href=\"../../../../../../numbers/exponentiation/_theory_nbs_/proofs/real_power_of_real_power/thm_proof.ipynb\">proveit.numbers.exponentiation.real_power_of_real_power</a></dt><dd><a class=\"ProveItLink\" href=\"../../../../../../numbers/exponentiation/__pv_it/theorems/5197b470a1fc943903d7e9ab79fd5cabcac12c190/expr.ipynb\"><img src=\"../../../../../../numbers/exponentiation/__pv_it/theorems/5197b470a1fc943903d7e9ab79fd5cabcac12c190/expr.png\" style=\"display:inline;vertical-align:middle;\" /></a></dd>"
      ],
      "text/plain": [
       "<IPython.core.display.HTML object>"
      ]
     },
     "metadata": {},
     "output_type": "display_data"
    },
    {
     "data": {
      "text/html": [
       "<dt><a class=\"ProveItLink\" href=\"../../../../../../numbers/multiplication/_theory_nbs_/proofs/commutation/thm_proof.ipynb\">proveit.numbers.multiplication.commutation</a></dt><dd><a class=\"ProveItLink\" href=\"../../../../../../numbers/multiplication/__pv_it/theorems/0a0123d3fbec63701d64ff1653dd57fc1f98f5750/expr.ipynb\"><img src=\"../../../../../../numbers/multiplication/__pv_it/theorems/0a0123d3fbec63701d64ff1653dd57fc1f98f5750/expr.png\" style=\"display:inline;vertical-align:middle;\" /></a></dd>"
      ],
      "text/plain": [
       "<IPython.core.display.HTML object>"
      ]
     },
     "metadata": {},
     "output_type": "display_data"
    },
    {
     "data": {
      "text/html": [
       "<dt><a class=\"ProveItLink\" href=\"../../../../../../numbers/multiplication/_theory_nbs_/proofs/distribute_through_subtract/thm_proof.ipynb\">proveit.numbers.multiplication.distribute_through_subtract</a></dt><dd><a class=\"ProveItLink\" href=\"../../../../../../numbers/multiplication/__pv_it/theorems/f54775d75e29b865004be2f92ced83822dedbe490/expr.ipynb\"><img src=\"../../../../../../numbers/multiplication/__pv_it/theorems/f54775d75e29b865004be2f92ced83822dedbe490/expr.png\" style=\"display:inline;vertical-align:middle;\" /></a></dd>"
      ],
      "text/plain": [
       "<IPython.core.display.HTML object>"
      ]
     },
     "metadata": {},
     "output_type": "display_data"
    },
    {
     "data": {
      "text/html": [
       "<dt><a class=\"ProveItLink\" href=\"../../../../../../numbers/multiplication/_theory_nbs_/proofs/elim_one_left/thm_proof.ipynb\">proveit.numbers.multiplication.elim_one_left</a></dt><dd><a class=\"ProveItLink\" href=\"../../../../../../numbers/multiplication/__pv_it/theorems/a1303cd3cbbc06c5e6e7c6763d03ac850a7c066e0/expr.ipynb\"><img src=\"../../../../../../numbers/multiplication/__pv_it/theorems/a1303cd3cbbc06c5e6e7c6763d03ac850a7c066e0/expr.png\" style=\"display:inline;vertical-align:middle;\" /></a></dd>"
      ],
      "text/plain": [
       "<IPython.core.display.HTML object>"
      ]
     },
     "metadata": {},
     "output_type": "display_data"
    },
    {
     "data": {
      "text/html": [
       "<dt><a class=\"ProveItLink\" href=\"../../../../../../numbers/multiplication/_theory_nbs_/proofs/elim_one_right/thm_proof.ipynb\">proveit.numbers.multiplication.elim_one_right</a></dt><dd><a class=\"ProveItLink\" href=\"../../../../../../numbers/multiplication/__pv_it/theorems/a04649efb1625eca15432cfef667ddaa683ef23b0/expr.ipynb\"><img src=\"../../../../../../numbers/multiplication/__pv_it/theorems/a04649efb1625eca15432cfef667ddaa683ef23b0/expr.png\" style=\"display:inline;vertical-align:middle;\" /></a></dd>"
      ],
      "text/plain": [
       "<IPython.core.display.HTML object>"
      ]
     },
     "metadata": {},
     "output_type": "display_data"
    },
    {
     "data": {
      "text/html": [
       "<dt><a class=\"ProveItLink\" href=\"../../../../../../numbers/multiplication/_theory_nbs_/proofs/mult_neg_left/thm_proof.ipynb\">proveit.numbers.multiplication.mult_neg_left</a></dt><dd><a class=\"ProveItLink\" href=\"../../../../../../numbers/multiplication/__pv_it/theorems/4c49e90845c2c010933e8618f4f4822f1ab47c440/expr.ipynb\"><img src=\"../../../../../../numbers/multiplication/__pv_it/theorems/4c49e90845c2c010933e8618f4f4822f1ab47c440/expr.png\" style=\"display:inline;vertical-align:middle;\" /></a></dd>"
      ],
      "text/plain": [
       "<IPython.core.display.HTML object>"
      ]
     },
     "metadata": {},
     "output_type": "display_data"
    },
    {
     "data": {
      "text/html": [
       "<dt><a class=\"ProveItLink\" href=\"../../../../../../numbers/multiplication/_theory_nbs_/proofs/mult_neg_right/thm_proof.ipynb\">proveit.numbers.multiplication.mult_neg_right</a></dt><dd><a class=\"ProveItLink\" href=\"../../../../../../numbers/multiplication/__pv_it/theorems/7dd98e00bab205d8c7af0c76507183d8fcb3ac520/expr.ipynb\"><img src=\"../../../../../../numbers/multiplication/__pv_it/theorems/7dd98e00bab205d8c7af0c76507183d8fcb3ac520/expr.png\" style=\"display:inline;vertical-align:middle;\" /></a></dd>"
      ],
      "text/plain": [
       "<IPython.core.display.HTML object>"
      ]
     },
     "metadata": {},
     "output_type": "display_data"
    },
    {
     "data": {
      "text/html": [
       "<dt><a class=\"ProveItLink\" href=\"../../../../../../numbers/multiplication/_theory_nbs_/proofs/mult_real_closure_bin/thm_proof.ipynb\">proveit.numbers.multiplication.mult_real_closure_bin</a></dt><dd><a class=\"ProveItLink\" href=\"../../../../../../numbers/multiplication/__pv_it/theorems/c5c8e4da0aaa10651cc639bde9d639263507f9a90/expr.ipynb\"><img src=\"../../../../../../numbers/multiplication/__pv_it/theorems/c5c8e4da0aaa10651cc639bde9d639263507f9a90/expr.png\" style=\"display:inline;vertical-align:middle;\" /></a></dd>"
      ],
      "text/plain": [
       "<IPython.core.display.HTML object>"
      ]
     },
     "metadata": {},
     "output_type": "display_data"
    },
    {
     "data": {
      "text/html": [
       "<dt><a class=\"ProveItLink\" href=\"../../../../../../numbers/multiplication/_theory_nbs_/proofs/mult_real_pos_closure_bin/thm_proof.ipynb\">proveit.numbers.multiplication.mult_real_pos_closure_bin</a></dt><dd><a class=\"ProveItLink\" href=\"../../../../../../numbers/multiplication/__pv_it/theorems/e91b565e6085f8633840c36744beeb8c666856df0/expr.ipynb\"><img src=\"../../../../../../numbers/multiplication/__pv_it/theorems/e91b565e6085f8633840c36744beeb8c666856df0/expr.png\" style=\"display:inline;vertical-align:middle;\" /></a></dd>"
      ],
      "text/plain": [
       "<IPython.core.display.HTML object>"
      ]
     },
     "metadata": {},
     "output_type": "display_data"
    },
    {
     "data": {
      "text/html": [
       "<dt><a class=\"ProveItLink\" href=\"../../../../../../numbers/multiplication/_theory_nbs_/proofs/mult_zero_right/thm_proof.ipynb\">proveit.numbers.multiplication.mult_zero_right</a></dt><dd><a class=\"ProveItLink\" href=\"../../../../../../numbers/multiplication/__pv_it/theorems/3076c43b4aca00fc912d70999ee6ef99a5f4e75e0/expr.ipynb\"><img src=\"../../../../../../numbers/multiplication/__pv_it/theorems/3076c43b4aca00fc912d70999ee6ef99a5f4e75e0/expr.png\" style=\"display:inline;vertical-align:middle;\" /></a></dd>"
      ],
      "text/plain": [
       "<IPython.core.display.HTML object>"
      ]
     },
     "metadata": {},
     "output_type": "display_data"
    },
    {
     "data": {
      "text/html": [
       "<dt><a class=\"ProveItLink\" href=\"../../../../../../numbers/multiplication/_theory_nbs_/proofs/reversed_weak_bound_via_right_factor_bound/thm_proof.ipynb\">proveit.numbers.multiplication.reversed_weak_bound_via_right_factor_bound</a></dt><dd><a class=\"ProveItLink\" href=\"../../../../../../numbers/multiplication/__pv_it/theorems/7f1ebae5192fa9b6dfed9764487b1117533d5cb30/expr.ipynb\"><img src=\"../../../../../../numbers/multiplication/__pv_it/theorems/7f1ebae5192fa9b6dfed9764487b1117533d5cb30/expr.png\" style=\"display:inline;vertical-align:middle;\" /></a></dd>"
      ],
      "text/plain": [
       "<IPython.core.display.HTML object>"
      ]
     },
     "metadata": {},
     "output_type": "display_data"
    },
    {
     "data": {
      "text/html": [
       "<dt><a class=\"ProveItLink\" href=\"../../../../../../numbers/multiplication/_theory_nbs_/proofs/strong_bound_via_right_factor_bound/thm_proof.ipynb\">proveit.numbers.multiplication.strong_bound_via_right_factor_bound</a></dt><dd><a class=\"ProveItLink\" href=\"../../../../../../numbers/multiplication/__pv_it/theorems/365a7f35034250a285e270e94403be9898e5c71a0/expr.ipynb\"><img src=\"../../../../../../numbers/multiplication/__pv_it/theorems/365a7f35034250a285e270e94403be9898e5c71a0/expr.png\" style=\"display:inline;vertical-align:middle;\" /></a></dd>"
      ],
      "text/plain": [
       "<IPython.core.display.HTML object>"
      ]
     },
     "metadata": {},
     "output_type": "display_data"
    },
    {
     "data": {
      "text/html": [
       "<dt><a class=\"ProveItLink\" href=\"../../../../../../numbers/multiplication/_theory_nbs_/proofs/weak_bound_via_right_factor_bound/thm_proof.ipynb\">proveit.numbers.multiplication.weak_bound_via_right_factor_bound</a></dt><dd><a class=\"ProveItLink\" href=\"../../../../../../numbers/multiplication/__pv_it/theorems/9151ce3bd7980622b76372ebfe3e87b021a6f0ea0/expr.ipynb\"><img src=\"../../../../../../numbers/multiplication/__pv_it/theorems/9151ce3bd7980622b76372ebfe3e87b021a6f0ea0/expr.png\" style=\"display:inline;vertical-align:middle;\" /></a></dd>"
      ],
      "text/plain": [
       "<IPython.core.display.HTML object>"
      ]
     },
     "metadata": {},
     "output_type": "display_data"
    },
    {
     "data": {
      "text/html": [
       "<dt><a class=\"ProveItLink\" href=\"../../../../../../numbers/negation/_theory_nbs_/proofs/complex_closure/thm_proof.ipynb\">proveit.numbers.negation.complex_closure</a></dt><dd><a class=\"ProveItLink\" href=\"../../../../../../numbers/negation/__pv_it/theorems/f55ab67ea395b96b204bff677b514c0a676902520/expr.ipynb\"><img src=\"../../../../../../numbers/negation/__pv_it/theorems/f55ab67ea395b96b204bff677b514c0a676902520/expr.png\" style=\"display:inline;vertical-align:middle;\" /></a></dd>"
      ],
      "text/plain": [
       "<IPython.core.display.HTML object>"
      ]
     },
     "metadata": {},
     "output_type": "display_data"
    },
    {
     "data": {
      "text/html": [
       "<dt><a class=\"ProveItLink\" href=\"../../../../../../numbers/negation/_theory_nbs_/proofs/distribute_neg_through_binary_sum/thm_proof.ipynb\">proveit.numbers.negation.distribute_neg_through_binary_sum</a></dt><dd><a class=\"ProveItLink\" href=\"../../../../../../numbers/negation/__pv_it/theorems/bee5ab177771a764075593f0eff663e71b2ab5950/expr.ipynb\"><img src=\"../../../../../../numbers/negation/__pv_it/theorems/bee5ab177771a764075593f0eff663e71b2ab5950/expr.png\" style=\"display:inline;vertical-align:middle;\" /></a></dd>"
      ],
      "text/plain": [
       "<IPython.core.display.HTML object>"
      ]
     },
     "metadata": {},
     "output_type": "display_data"
    },
    {
     "data": {
      "text/html": [
       "<dt><a class=\"ProveItLink\" href=\"../../../../../../numbers/negation/_theory_nbs_/proofs/double_negation/thm_proof.ipynb\">proveit.numbers.negation.double_negation</a></dt><dd><a class=\"ProveItLink\" href=\"../../../../../../numbers/negation/__pv_it/theorems/5a107d0fb2babc68296f0afac692ea8467920d9a0/expr.ipynb\"><img src=\"../../../../../../numbers/negation/__pv_it/theorems/5a107d0fb2babc68296f0afac692ea8467920d9a0/expr.png\" style=\"display:inline;vertical-align:middle;\" /></a></dd>"
      ],
      "text/plain": [
       "<IPython.core.display.HTML object>"
      ]
     },
     "metadata": {},
     "output_type": "display_data"
    },
    {
     "data": {
      "text/html": [
       "<dt><a class=\"ProveItLink\" href=\"../../../../../../numbers/negation/_theory_nbs_/proofs/int_closure/thm_proof.ipynb\">proveit.numbers.negation.int_closure</a></dt><dd><a class=\"ProveItLink\" href=\"../../../../../../numbers/negation/__pv_it/theorems/c23b2df331c376ad0aa7a5313525039cbf38a1730/expr.ipynb\"><img src=\"../../../../../../numbers/negation/__pv_it/theorems/c23b2df331c376ad0aa7a5313525039cbf38a1730/expr.png\" style=\"display:inline;vertical-align:middle;\" /></a></dd>"
      ],
      "text/plain": [
       "<IPython.core.display.HTML object>"
      ]
     },
     "metadata": {},
     "output_type": "display_data"
    },
    {
     "data": {
      "text/html": [
       "<dt><a class=\"ProveItLink\" href=\"../../../../../../numbers/negation/_theory_nbs_/proofs/int_neg_closure/thm_proof.ipynb\">proveit.numbers.negation.int_neg_closure</a></dt><dd><a class=\"ProveItLink\" href=\"../../../../../../numbers/negation/__pv_it/theorems/81a66481d95df728bfd7f9a921d0f78572fa197c0/expr.ipynb\"><img src=\"../../../../../../numbers/negation/__pv_it/theorems/81a66481d95df728bfd7f9a921d0f78572fa197c0/expr.png\" style=\"display:inline;vertical-align:middle;\" /></a></dd>"
      ],
      "text/plain": [
       "<IPython.core.display.HTML object>"
      ]
     },
     "metadata": {},
     "output_type": "display_data"
    },
    {
     "data": {
      "text/html": [
       "<dt><a class=\"ProveItLink\" href=\"../../../../../../numbers/negation/_theory_nbs_/proofs/real_closure/thm_proof.ipynb\">proveit.numbers.negation.real_closure</a></dt><dd><a class=\"ProveItLink\" href=\"../../../../../../numbers/negation/__pv_it/theorems/f5ed45ea54034a957d388614e2bc572cbbddc5e00/expr.ipynb\"><img src=\"../../../../../../numbers/negation/__pv_it/theorems/f5ed45ea54034a957d388614e2bc572cbbddc5e00/expr.png\" style=\"display:inline;vertical-align:middle;\" /></a></dd>"
      ],
      "text/plain": [
       "<IPython.core.display.HTML object>"
      ]
     },
     "metadata": {},
     "output_type": "display_data"
    },
    {
     "data": {
      "text/html": [
       "<dt><a class=\"ProveItLink\" href=\"../../../../../../numbers/number_sets/complex_numbers/_theory_nbs_/proofs/int_within_complex/thm_proof.ipynb\">proveit.numbers.number_sets.complex_numbers.int_within_complex</a></dt><dd><a class=\"ProveItLink\" href=\"../../../../../../numbers/number_sets/complex_numbers/__pv_it/theorems/4cd3b37bb0dbbaae663e63c87bd1b602b3de3ebb0/expr.ipynb\"><img src=\"../../../../../../numbers/number_sets/complex_numbers/__pv_it/theorems/4cd3b37bb0dbbaae663e63c87bd1b602b3de3ebb0/expr.png\" style=\"display:inline;vertical-align:middle;\" /></a></dd>"
      ],
      "text/plain": [
       "<IPython.core.display.HTML object>"
      ]
     },
     "metadata": {},
     "output_type": "display_data"
    },
    {
     "data": {
      "text/html": [
       "<dt><a class=\"ProveItLink\" href=\"../../../../../../numbers/number_sets/complex_numbers/_theory_nbs_/proofs/nonzero_complex_is_complex_nonzero/thm_proof.ipynb\">proveit.numbers.number_sets.complex_numbers.nonzero_complex_is_complex_nonzero</a></dt><dd><a class=\"ProveItLink\" href=\"../../../../../../numbers/number_sets/complex_numbers/__pv_it/theorems/5efbd795750b399e2e69db952ed29be820a8ea3b0/expr.ipynb\"><img src=\"../../../../../../numbers/number_sets/complex_numbers/__pv_it/theorems/5efbd795750b399e2e69db952ed29be820a8ea3b0/expr.png\" style=\"display:inline;vertical-align:middle;\" /></a></dd>"
      ],
      "text/plain": [
       "<IPython.core.display.HTML object>"
      ]
     },
     "metadata": {},
     "output_type": "display_data"
    },
    {
     "data": {
      "text/html": [
       "<dt><a class=\"ProveItLink\" href=\"../../../../../../numbers/number_sets/complex_numbers/_theory_nbs_/proofs/real_nonzero_within_complex_nonzero/thm_proof.ipynb\">proveit.numbers.number_sets.complex_numbers.real_nonzero_within_complex_nonzero</a></dt><dd><a class=\"ProveItLink\" href=\"../../../../../../numbers/number_sets/complex_numbers/__pv_it/theorems/545af16c626c3ce29b719aef905f3fc56d16ff4d0/expr.ipynb\"><img src=\"../../../../../../numbers/number_sets/complex_numbers/__pv_it/theorems/545af16c626c3ce29b719aef905f3fc56d16ff4d0/expr.png\" style=\"display:inline;vertical-align:middle;\" /></a></dd>"
      ],
      "text/plain": [
       "<IPython.core.display.HTML object>"
      ]
     },
     "metadata": {},
     "output_type": "display_data"
    },
    {
     "data": {
      "text/html": [
       "<dt><a class=\"ProveItLink\" href=\"../../../../../../numbers/number_sets/complex_numbers/_theory_nbs_/proofs/real_within_complex/thm_proof.ipynb\">proveit.numbers.number_sets.complex_numbers.real_within_complex</a></dt><dd><a class=\"ProveItLink\" href=\"../../../../../../numbers/number_sets/complex_numbers/__pv_it/theorems/38989098df56675752c00127b89e7c6d9bdcbcf90/expr.ipynb\"><img src=\"../../../../../../numbers/number_sets/complex_numbers/__pv_it/theorems/38989098df56675752c00127b89e7c6d9bdcbcf90/expr.png\" style=\"display:inline;vertical-align:middle;\" /></a></dd>"
      ],
      "text/plain": [
       "<IPython.core.display.HTML object>"
      ]
     },
     "metadata": {},
     "output_type": "display_data"
    },
    {
     "data": {
      "text/html": [
       "<dt><a class=\"ProveItLink\" href=\"../../../../../../numbers/number_sets/complex_numbers/_theory_nbs_/proofs/zero_is_complex/thm_proof.ipynb\">proveit.numbers.number_sets.complex_numbers.zero_is_complex</a></dt><dd><a class=\"ProveItLink\" href=\"../../../../../../numbers/number_sets/complex_numbers/__pv_it/theorems/08ec05cd49db5957858391946a170157af54f1a30/expr.ipynb\"><img src=\"../../../../../../numbers/number_sets/complex_numbers/__pv_it/theorems/08ec05cd49db5957858391946a170157af54f1a30/expr.png\" style=\"display:inline;vertical-align:middle;\" /></a></dd>"
      ],
      "text/plain": [
       "<IPython.core.display.HTML object>"
      ]
     },
     "metadata": {},
     "output_type": "display_data"
    },
    {
     "data": {
      "text/html": [
       "<dt><a class=\"ProveItLink\" href=\"../../../../../../numbers/number_sets/integers/_theory_nbs_/proofs/in_interval/thm_proof.ipynb\">proveit.numbers.number_sets.integers.in_interval</a></dt><dd><a class=\"ProveItLink\" href=\"../../../../../../numbers/number_sets/integers/__pv_it/theorems/39cb10c66a369ce3aef9e007763282c233e578f20/expr.ipynb\"><img src=\"../../../../../../numbers/number_sets/integers/__pv_it/theorems/39cb10c66a369ce3aef9e007763282c233e578f20/expr.png\" style=\"display:inline;vertical-align:middle;\" /></a></dd>"
      ],
      "text/plain": [
       "<IPython.core.display.HTML object>"
      ]
     },
     "metadata": {},
     "output_type": "display_data"
    },
    {
     "data": {
      "text/html": [
       "<dt><a class=\"ProveItLink\" href=\"../../../../../../numbers/number_sets/integers/_theory_nbs_/proofs/int_interval_within_int/thm_proof.ipynb\">proveit.numbers.number_sets.integers.int_interval_within_int</a></dt><dd><a class=\"ProveItLink\" href=\"../../../../../../numbers/number_sets/integers/__pv_it/theorems/673538a27ac778b35a8fffac94ede61aae34577c0/expr.ipynb\"><img src=\"../../../../../../numbers/number_sets/integers/__pv_it/theorems/673538a27ac778b35a8fffac94ede61aae34577c0/expr.png\" style=\"display:inline;vertical-align:middle;\" /></a></dd>"
      ],
      "text/plain": [
       "<IPython.core.display.HTML object>"
      ]
     },
     "metadata": {},
     "output_type": "display_data"
    },
    {
     "data": {
      "text/html": [
       "<dt><a class=\"ProveItLink\" href=\"../../../../../../numbers/number_sets/integers/_theory_nbs_/proofs/interval_lower_bound/thm_proof.ipynb\">proveit.numbers.number_sets.integers.interval_lower_bound</a></dt><dd><a class=\"ProveItLink\" href=\"../../../../../../numbers/number_sets/integers/__pv_it/theorems/43ac003b3e56bf75634c34aa8b8fd634ed9c093e0/expr.ipynb\"><img src=\"../../../../../../numbers/number_sets/integers/__pv_it/theorems/43ac003b3e56bf75634c34aa8b8fd634ed9c093e0/expr.png\" style=\"display:inline;vertical-align:middle;\" /></a></dd>"
      ],
      "text/plain": [
       "<IPython.core.display.HTML object>"
      ]
     },
     "metadata": {},
     "output_type": "display_data"
    },
    {
     "data": {
      "text/html": [
       "<dt><a class=\"ProveItLink\" href=\"../../../../../../numbers/number_sets/integers/_theory_nbs_/proofs/interval_upper_bound/thm_proof.ipynb\">proveit.numbers.number_sets.integers.interval_upper_bound</a></dt><dd><a class=\"ProveItLink\" href=\"../../../../../../numbers/number_sets/integers/__pv_it/theorems/f4b311062af2673f942dc0003ba6eefe60d319580/expr.ipynb\"><img src=\"../../../../../../numbers/number_sets/integers/__pv_it/theorems/f4b311062af2673f942dc0003ba6eefe60d319580/expr.png\" style=\"display:inline;vertical-align:middle;\" /></a></dd>"
      ],
      "text/plain": [
       "<IPython.core.display.HTML object>"
      ]
     },
     "metadata": {},
     "output_type": "display_data"
    },
    {
     "data": {
      "text/html": [
       "<dt><a class=\"ProveItLink\" href=\"../../../../../../numbers/number_sets/integers/_theory_nbs_/proofs/nat_pos_within_int/thm_proof.ipynb\">proveit.numbers.number_sets.integers.nat_pos_within_int</a></dt><dd><a class=\"ProveItLink\" href=\"../../../../../../numbers/number_sets/integers/__pv_it/theorems/eac6d1dbf684bfc5657625c397ae88d8a727c9d60/expr.ipynb\"><img src=\"../../../../../../numbers/number_sets/integers/__pv_it/theorems/eac6d1dbf684bfc5657625c397ae88d8a727c9d60/expr.png\" style=\"display:inline;vertical-align:middle;\" /></a></dd>"
      ],
      "text/plain": [
       "<IPython.core.display.HTML object>"
      ]
     },
     "metadata": {},
     "output_type": "display_data"
    },
    {
     "data": {
      "text/html": [
       "<dt><a class=\"ProveItLink\" href=\"../../../../../../numbers/number_sets/integers/_theory_nbs_/proofs/nat_pos_within_nonzero_int/thm_proof.ipynb\">proveit.numbers.number_sets.integers.nat_pos_within_nonzero_int</a></dt><dd><a class=\"ProveItLink\" href=\"../../../../../../numbers/number_sets/integers/__pv_it/theorems/eab35bbe45f92eae1b4b3190b0cd4a5644de84d40/expr.ipynb\"><img src=\"../../../../../../numbers/number_sets/integers/__pv_it/theorems/eab35bbe45f92eae1b4b3190b0cd4a5644de84d40/expr.png\" style=\"display:inline;vertical-align:middle;\" /></a></dd>"
      ],
      "text/plain": [
       "<IPython.core.display.HTML object>"
      ]
     },
     "metadata": {},
     "output_type": "display_data"
    },
    {
     "data": {
      "text/html": [
       "<dt><a class=\"ProveItLink\" href=\"../../../../../../numbers/number_sets/integers/_theory_nbs_/proofs/nat_within_int/thm_proof.ipynb\">proveit.numbers.number_sets.integers.nat_within_int</a></dt><dd><a class=\"ProveItLink\" href=\"../../../../../../numbers/number_sets/integers/__pv_it/theorems/1cd0ce5701331e1608ae0251ff814274d551a8fa0/expr.ipynb\"><img src=\"../../../../../../numbers/number_sets/integers/__pv_it/theorems/1cd0ce5701331e1608ae0251ff814274d551a8fa0/expr.png\" style=\"display:inline;vertical-align:middle;\" /></a></dd>"
      ],
      "text/plain": [
       "<IPython.core.display.HTML object>"
      ]
     },
     "metadata": {},
     "output_type": "display_data"
    },
    {
     "data": {
      "text/html": [
       "<dt><a class=\"ProveItLink\" href=\"../../../../../../numbers/number_sets/integers/_theory_nbs_/proofs/neg_int_within_int/thm_proof.ipynb\">proveit.numbers.number_sets.integers.neg_int_within_int</a></dt><dd><a class=\"ProveItLink\" href=\"../../../../../../numbers/number_sets/integers/__pv_it/theorems/d7781bf7cfdb231c0f78f603439cc10460714b080/expr.ipynb\"><img src=\"../../../../../../numbers/number_sets/integers/__pv_it/theorems/d7781bf7cfdb231c0f78f603439cc10460714b080/expr.png\" style=\"display:inline;vertical-align:middle;\" /></a></dd>"
      ],
      "text/plain": [
       "<IPython.core.display.HTML object>"
      ]
     },
     "metadata": {},
     "output_type": "display_data"
    },
    {
     "data": {
      "text/html": [
       "<dt><a class=\"ProveItLink\" href=\"../../../../../../numbers/number_sets/integers/_theory_nbs_/proofs/negative_if_in_neg_int/thm_proof.ipynb\">proveit.numbers.number_sets.integers.negative_if_in_neg_int</a></dt><dd><a class=\"ProveItLink\" href=\"../../../../../../numbers/number_sets/integers/__pv_it/theorems/e7839487bbdf9f34332d862a1c1ce83d8adc4e3d0/expr.ipynb\"><img src=\"../../../../../../numbers/number_sets/integers/__pv_it/theorems/e7839487bbdf9f34332d862a1c1ce83d8adc4e3d0/expr.png\" style=\"display:inline;vertical-align:middle;\" /></a></dd>"
      ],
      "text/plain": [
       "<IPython.core.display.HTML object>"
      ]
     },
     "metadata": {},
     "output_type": "display_data"
    },
    {
     "data": {
      "text/html": [
       "<dt><a class=\"ProveItLink\" href=\"../../../../../../numbers/number_sets/integers/_theory_nbs_/proofs/nonneg_int_is_natural/thm_proof.ipynb\">proveit.numbers.number_sets.integers.nonneg_int_is_natural</a></dt><dd><a class=\"ProveItLink\" href=\"../../../../../../numbers/number_sets/integers/__pv_it/theorems/3454b051e9012236ad2cdcb2f83e7d2fa3b722990/expr.ipynb\"><img src=\"../../../../../../numbers/number_sets/integers/__pv_it/theorems/3454b051e9012236ad2cdcb2f83e7d2fa3b722990/expr.png\" style=\"display:inline;vertical-align:middle;\" /></a></dd>"
      ],
      "text/plain": [
       "<IPython.core.display.HTML object>"
      ]
     },
     "metadata": {},
     "output_type": "display_data"
    },
    {
     "data": {
      "text/html": [
       "<dt><a class=\"ProveItLink\" href=\"../../../../../../numbers/number_sets/natural_numbers/_theory_nbs_/proofs/nat_pos_within_nat/thm_proof.ipynb\">proveit.numbers.number_sets.natural_numbers.nat_pos_within_nat</a></dt><dd><a class=\"ProveItLink\" href=\"../../../../../../numbers/number_sets/natural_numbers/__pv_it/theorems/39501c3279d7a7bd5d06ac28f4efc5811af704550/expr.ipynb\"><img src=\"../../../../../../numbers/number_sets/natural_numbers/__pv_it/theorems/39501c3279d7a7bd5d06ac28f4efc5811af704550/expr.png\" style=\"display:inline;vertical-align:middle;\" /></a></dd>"
      ],
      "text/plain": [
       "<IPython.core.display.HTML object>"
      ]
     },
     "metadata": {},
     "output_type": "display_data"
    },
    {
     "data": {
      "text/html": [
       "<dt><a class=\"ProveItLink\" href=\"../../../../../../numbers/number_sets/natural_numbers/_theory_nbs_/proofs/natural_pos_is_pos/thm_proof.ipynb\">proveit.numbers.number_sets.natural_numbers.natural_pos_is_pos</a></dt><dd><a class=\"ProveItLink\" href=\"../../../../../../numbers/number_sets/natural_numbers/__pv_it/theorems/b18717fc9d11afe0480a095623b244f8f91437c00/expr.ipynb\"><img src=\"../../../../../../numbers/number_sets/natural_numbers/__pv_it/theorems/b18717fc9d11afe0480a095623b244f8f91437c00/expr.png\" style=\"display:inline;vertical-align:middle;\" /></a></dd>"
      ],
      "text/plain": [
       "<IPython.core.display.HTML object>"
      ]
     },
     "metadata": {},
     "output_type": "display_data"
    },
    {
     "data": {
      "text/html": [
       "<dt><a class=\"ProveItLink\" href=\"../../../../../../numbers/number_sets/natural_numbers/_theory_nbs_/proofs/natural_pos_lower_bound/thm_proof.ipynb\">proveit.numbers.number_sets.natural_numbers.natural_pos_lower_bound</a></dt><dd><a class=\"ProveItLink\" href=\"../../../../../../numbers/number_sets/natural_numbers/__pv_it/theorems/7a5429516a99664f3ae7e764e76fd137d10c9cd50/expr.ipynb\"><img src=\"../../../../../../numbers/number_sets/natural_numbers/__pv_it/theorems/7a5429516a99664f3ae7e764e76fd137d10c9cd50/expr.png\" style=\"display:inline;vertical-align:middle;\" /></a></dd>"
      ],
      "text/plain": [
       "<IPython.core.display.HTML object>"
      ]
     },
     "metadata": {},
     "output_type": "display_data"
    },
    {
     "data": {
      "text/html": [
       "<dt><a class=\"ProveItLink\" href=\"../../../../../../numbers/number_sets/rational_numbers/_theory_nbs_/proofs/int_within_rational/thm_proof.ipynb\">proveit.numbers.number_sets.rational_numbers.int_within_rational</a></dt><dd><a class=\"ProveItLink\" href=\"../../../../../../numbers/number_sets/rational_numbers/__pv_it/theorems/f82654afbc103bcf8089d3e3a9860276c55562410/expr.ipynb\"><img src=\"../../../../../../numbers/number_sets/rational_numbers/__pv_it/theorems/f82654afbc103bcf8089d3e3a9860276c55562410/expr.png\" style=\"display:inline;vertical-align:middle;\" /></a></dd>"
      ],
      "text/plain": [
       "<IPython.core.display.HTML object>"
      ]
     },
     "metadata": {},
     "output_type": "display_data"
    },
    {
     "data": {
      "text/html": [
       "<dt><a class=\"ProveItLink\" href=\"../../../../../../numbers/number_sets/rational_numbers/_theory_nbs_/proofs/nat_pos_within_rational_pos/thm_proof.ipynb\">proveit.numbers.number_sets.rational_numbers.nat_pos_within_rational_pos</a></dt><dd><a class=\"ProveItLink\" href=\"../../../../../../numbers/number_sets/rational_numbers/__pv_it/theorems/d32995d6b8eb0274cbee19bb0883e355f64b2e990/expr.ipynb\"><img src=\"../../../../../../numbers/number_sets/rational_numbers/__pv_it/theorems/d32995d6b8eb0274cbee19bb0883e355f64b2e990/expr.png\" style=\"display:inline;vertical-align:middle;\" /></a></dd>"
      ],
      "text/plain": [
       "<IPython.core.display.HTML object>"
      ]
     },
     "metadata": {},
     "output_type": "display_data"
    },
    {
     "data": {
      "text/html": [
       "<dt><a class=\"ProveItLink\" href=\"../../../../../../numbers/number_sets/rational_numbers/_theory_nbs_/proofs/neg_int_within_rational_neg/thm_proof.ipynb\">proveit.numbers.number_sets.rational_numbers.neg_int_within_rational_neg</a></dt><dd><a class=\"ProveItLink\" href=\"../../../../../../numbers/number_sets/rational_numbers/__pv_it/theorems/6939d74003e4cfcc5bb3b13b0177655d29c4ce220/expr.ipynb\"><img src=\"../../../../../../numbers/number_sets/rational_numbers/__pv_it/theorems/6939d74003e4cfcc5bb3b13b0177655d29c4ce220/expr.png\" style=\"display:inline;vertical-align:middle;\" /></a></dd>"
      ],
      "text/plain": [
       "<IPython.core.display.HTML object>"
      ]
     },
     "metadata": {},
     "output_type": "display_data"
    },
    {
     "data": {
      "text/html": [
       "<dt><a class=\"ProveItLink\" href=\"../../../../../../numbers/number_sets/rational_numbers/_theory_nbs_/proofs/nonzero_int_within_rational_nonzero/thm_proof.ipynb\">proveit.numbers.number_sets.rational_numbers.nonzero_int_within_rational_nonzero</a></dt><dd><a class=\"ProveItLink\" href=\"../../../../../../numbers/number_sets/rational_numbers/__pv_it/theorems/4a33a44dc60827d8c0d211d8b91dcd71c1e457d50/expr.ipynb\"><img src=\"../../../../../../numbers/number_sets/rational_numbers/__pv_it/theorems/4a33a44dc60827d8c0d211d8b91dcd71c1e457d50/expr.png\" style=\"display:inline;vertical-align:middle;\" /></a></dd>"
      ],
      "text/plain": [
       "<IPython.core.display.HTML object>"
      ]
     },
     "metadata": {},
     "output_type": "display_data"
    },
    {
     "data": {
      "text/html": [
       "<dt><a class=\"ProveItLink\" href=\"../../../../../../numbers/number_sets/rational_numbers/_theory_nbs_/proofs/positive_if_in_rational_pos/thm_proof.ipynb\">proveit.numbers.number_sets.rational_numbers.positive_if_in_rational_pos</a></dt><dd><a class=\"ProveItLink\" href=\"../../../../../../numbers/number_sets/rational_numbers/__pv_it/theorems/755cfecdf07f6174b68a4e41dc54a7d68dede1040/expr.ipynb\"><img src=\"../../../../../../numbers/number_sets/rational_numbers/__pv_it/theorems/755cfecdf07f6174b68a4e41dc54a7d68dede1040/expr.png\" style=\"display:inline;vertical-align:middle;\" /></a></dd>"
      ],
      "text/plain": [
       "<IPython.core.display.HTML object>"
      ]
     },
     "metadata": {},
     "output_type": "display_data"
    },
    {
     "data": {
      "text/html": [
       "<dt><a class=\"ProveItLink\" href=\"../../../../../../numbers/number_sets/rational_numbers/_theory_nbs_/proofs/rational_pos_within_rational/thm_proof.ipynb\">proveit.numbers.number_sets.rational_numbers.rational_pos_within_rational</a></dt><dd><a class=\"ProveItLink\" href=\"../../../../../../numbers/number_sets/rational_numbers/__pv_it/theorems/072c9013fa541c652f14072983fa20c0574a295c0/expr.ipynb\"><img src=\"../../../../../../numbers/number_sets/rational_numbers/__pv_it/theorems/072c9013fa541c652f14072983fa20c0574a295c0/expr.png\" style=\"display:inline;vertical-align:middle;\" /></a></dd>"
      ],
      "text/plain": [
       "<IPython.core.display.HTML object>"
      ]
     },
     "metadata": {},
     "output_type": "display_data"
    },
    {
     "data": {
      "text/html": [
       "<dt><a class=\"ProveItLink\" href=\"../../../../../../numbers/number_sets/real_numbers/_theory_nbs_/proofs/all_in_interval_co__is__real/thm_proof.ipynb\">proveit.numbers.number_sets.real_numbers.all_in_interval_co__is__real</a></dt><dd><a class=\"ProveItLink\" href=\"../../../../../../numbers/number_sets/real_numbers/__pv_it/theorems/fc1148ea51eaca7fd374f001138032aa36663c7d0/expr.ipynb\"><img src=\"../../../../../../numbers/number_sets/real_numbers/__pv_it/theorems/fc1148ea51eaca7fd374f001138032aa36663c7d0/expr.png\" style=\"display:inline;vertical-align:middle;\" /></a></dd>"
      ],
      "text/plain": [
       "<IPython.core.display.HTML object>"
      ]
     },
     "metadata": {},
     "output_type": "display_data"
    },
    {
     "data": {
      "text/html": [
       "<dt><a class=\"ProveItLink\" href=\"../../../../../../numbers/number_sets/real_numbers/_theory_nbs_/proofs/all_in_interval_oo__is__real/thm_proof.ipynb\">proveit.numbers.number_sets.real_numbers.all_in_interval_oo__is__real</a></dt><dd><a class=\"ProveItLink\" href=\"../../../../../../numbers/number_sets/real_numbers/__pv_it/theorems/f295534bd0687270f7b3e4f32a2fdf8095ca77d20/expr.ipynb\"><img src=\"../../../../../../numbers/number_sets/real_numbers/__pv_it/theorems/f295534bd0687270f7b3e4f32a2fdf8095ca77d20/expr.png\" style=\"display:inline;vertical-align:middle;\" /></a></dd>"
      ],
      "text/plain": [
       "<IPython.core.display.HTML object>"
      ]
     },
     "metadata": {},
     "output_type": "display_data"
    },
    {
     "data": {
      "text/html": [
       "<dt><a class=\"ProveItLink\" href=\"../../../../../../numbers/number_sets/real_numbers/_theory_nbs_/proofs/in_IntervalCO/thm_proof.ipynb\">proveit.numbers.number_sets.real_numbers.in_IntervalCO</a></dt><dd><a class=\"ProveItLink\" href=\"../../../../../../numbers/number_sets/real_numbers/__pv_it/theorems/ea3c4b3431458c468f948a97f5a7c052c9106b080/expr.ipynb\"><img src=\"../../../../../../numbers/number_sets/real_numbers/__pv_it/theorems/ea3c4b3431458c468f948a97f5a7c052c9106b080/expr.png\" style=\"display:inline;vertical-align:middle;\" /></a></dd>"
      ],
      "text/plain": [
       "<IPython.core.display.HTML object>"
      ]
     },
     "metadata": {},
     "output_type": "display_data"
    },
    {
     "data": {
      "text/html": [
       "<dt><a class=\"ProveItLink\" href=\"../../../../../../numbers/number_sets/real_numbers/_theory_nbs_/proofs/in_IntervalOC/thm_proof.ipynb\">proveit.numbers.number_sets.real_numbers.in_IntervalOC</a></dt><dd><a class=\"ProveItLink\" href=\"../../../../../../numbers/number_sets/real_numbers/__pv_it/theorems/b72e9bedd237cdc384af365d7e3943e19337e7110/expr.ipynb\"><img src=\"../../../../../../numbers/number_sets/real_numbers/__pv_it/theorems/b72e9bedd237cdc384af365d7e3943e19337e7110/expr.png\" style=\"display:inline;vertical-align:middle;\" /></a></dd>"
      ],
      "text/plain": [
       "<IPython.core.display.HTML object>"
      ]
     },
     "metadata": {},
     "output_type": "display_data"
    },
    {
     "data": {
      "text/html": [
       "<dt><a class=\"ProveItLink\" href=\"../../../../../../numbers/number_sets/real_numbers/_theory_nbs_/proofs/in_IntervalOO/thm_proof.ipynb\">proveit.numbers.number_sets.real_numbers.in_IntervalOO</a></dt><dd><a class=\"ProveItLink\" href=\"../../../../../../numbers/number_sets/real_numbers/__pv_it/theorems/1efb7df28568e2c28487045b91d1ffaa1bbc081e0/expr.ipynb\"><img src=\"../../../../../../numbers/number_sets/real_numbers/__pv_it/theorems/1efb7df28568e2c28487045b91d1ffaa1bbc081e0/expr.png\" style=\"display:inline;vertical-align:middle;\" /></a></dd>"
      ],
      "text/plain": [
       "<IPython.core.display.HTML object>"
      ]
     },
     "metadata": {},
     "output_type": "display_data"
    },
    {
     "data": {
      "text/html": [
       "<dt><a class=\"ProveItLink\" href=\"../../../../../../numbers/number_sets/real_numbers/_theory_nbs_/proofs/interval_co_lower_bound/thm_proof.ipynb\">proveit.numbers.number_sets.real_numbers.interval_co_lower_bound</a></dt><dd><a class=\"ProveItLink\" href=\"../../../../../../numbers/number_sets/real_numbers/__pv_it/theorems/091fe70d53e55195cb7cfc2939f5a43cbcc519340/expr.ipynb\"><img src=\"../../../../../../numbers/number_sets/real_numbers/__pv_it/theorems/091fe70d53e55195cb7cfc2939f5a43cbcc519340/expr.png\" style=\"display:inline;vertical-align:middle;\" /></a></dd>"
      ],
      "text/plain": [
       "<IPython.core.display.HTML object>"
      ]
     },
     "metadata": {},
     "output_type": "display_data"
    },
    {
     "data": {
      "text/html": [
       "<dt><a class=\"ProveItLink\" href=\"../../../../../../numbers/number_sets/real_numbers/_theory_nbs_/proofs/interval_co_upper_bound/thm_proof.ipynb\">proveit.numbers.number_sets.real_numbers.interval_co_upper_bound</a></dt><dd><a class=\"ProveItLink\" href=\"../../../../../../numbers/number_sets/real_numbers/__pv_it/theorems/f1186e2590ba8238c5d52579e22456e26a54d8150/expr.ipynb\"><img src=\"../../../../../../numbers/number_sets/real_numbers/__pv_it/theorems/f1186e2590ba8238c5d52579e22456e26a54d8150/expr.png\" style=\"display:inline;vertical-align:middle;\" /></a></dd>"
      ],
      "text/plain": [
       "<IPython.core.display.HTML object>"
      ]
     },
     "metadata": {},
     "output_type": "display_data"
    },
    {
     "data": {
      "text/html": [
       "<dt><a class=\"ProveItLink\" href=\"../../../../../../numbers/number_sets/real_numbers/_theory_nbs_/proofs/interval_oo_lower_bound/thm_proof.ipynb\">proveit.numbers.number_sets.real_numbers.interval_oo_lower_bound</a></dt><dd><a class=\"ProveItLink\" href=\"../../../../../../numbers/number_sets/real_numbers/__pv_it/theorems/13d9e58ac5a27653c5ea29311c594267ee929a550/expr.ipynb\"><img src=\"../../../../../../numbers/number_sets/real_numbers/__pv_it/theorems/13d9e58ac5a27653c5ea29311c594267ee929a550/expr.png\" style=\"display:inline;vertical-align:middle;\" /></a></dd>"
      ],
      "text/plain": [
       "<IPython.core.display.HTML object>"
      ]
     },
     "metadata": {},
     "output_type": "display_data"
    },
    {
     "data": {
      "text/html": [
       "<dt><a class=\"ProveItLink\" href=\"../../../../../../numbers/number_sets/real_numbers/_theory_nbs_/proofs/interval_oo_upper_bound/thm_proof.ipynb\">proveit.numbers.number_sets.real_numbers.interval_oo_upper_bound</a></dt><dd><a class=\"ProveItLink\" href=\"../../../../../../numbers/number_sets/real_numbers/__pv_it/theorems/9d97e0343b690f31bfec58e1a21f3139a25f4db70/expr.ipynb\"><img src=\"../../../../../../numbers/number_sets/real_numbers/__pv_it/theorems/9d97e0343b690f31bfec58e1a21f3139a25f4db70/expr.png\" style=\"display:inline;vertical-align:middle;\" /></a></dd>"
      ],
      "text/plain": [
       "<IPython.core.display.HTML object>"
      ]
     },
     "metadata": {},
     "output_type": "display_data"
    },
    {
     "data": {
      "text/html": [
       "<dt><a class=\"ProveItLink\" href=\"../../../../../../numbers/number_sets/real_numbers/_theory_nbs_/proofs/nat_pos_within_real/thm_proof.ipynb\">proveit.numbers.number_sets.real_numbers.nat_pos_within_real</a></dt><dd><a class=\"ProveItLink\" href=\"../../../../../../numbers/number_sets/real_numbers/__pv_it/theorems/cadda3c3d26446c0177fea32c74c6999415960080/expr.ipynb\"><img src=\"../../../../../../numbers/number_sets/real_numbers/__pv_it/theorems/cadda3c3d26446c0177fea32c74c6999415960080/expr.png\" style=\"display:inline;vertical-align:middle;\" /></a></dd>"
      ],
      "text/plain": [
       "<IPython.core.display.HTML object>"
      ]
     },
     "metadata": {},
     "output_type": "display_data"
    },
    {
     "data": {
      "text/html": [
       "<dt><a class=\"ProveItLink\" href=\"../../../../../../numbers/number_sets/real_numbers/_theory_nbs_/proofs/not_int_if_not_int_in_interval/thm_proof.ipynb\">proveit.numbers.number_sets.real_numbers.not_int_if_not_int_in_interval</a></dt><dd><a class=\"ProveItLink\" href=\"../../../../../../numbers/number_sets/real_numbers/__pv_it/theorems/a449ea9c32c8f3abd674e31a1bac11ba7856f2350/expr.ipynb\"><img src=\"../../../../../../numbers/number_sets/real_numbers/__pv_it/theorems/a449ea9c32c8f3abd674e31a1bac11ba7856f2350/expr.png\" style=\"display:inline;vertical-align:middle;\" /></a></dd>"
      ],
      "text/plain": [
       "<IPython.core.display.HTML object>"
      ]
     },
     "metadata": {},
     "output_type": "display_data"
    },
    {
     "data": {
      "text/html": [
       "<dt><a class=\"ProveItLink\" href=\"../../../../../../numbers/number_sets/real_numbers/_theory_nbs_/proofs/pi_is_real_pos/thm_proof.ipynb\">proveit.numbers.number_sets.real_numbers.pi_is_real_pos</a></dt><dd><a class=\"ProveItLink\" href=\"../../../../../../numbers/number_sets/real_numbers/__pv_it/theorems/adbf0748b19a64bccd8ce23fcb48fca46d762db70/expr.ipynb\"><img src=\"../../../../../../numbers/number_sets/real_numbers/__pv_it/theorems/adbf0748b19a64bccd8ce23fcb48fca46d762db70/expr.png\" style=\"display:inline;vertical-align:middle;\" /></a></dd>"
      ],
      "text/plain": [
       "<IPython.core.display.HTML object>"
      ]
     },
     "metadata": {},
     "output_type": "display_data"
    },
    {
     "data": {
      "text/html": [
       "<dt><a class=\"ProveItLink\" href=\"../../../../../../numbers/number_sets/real_numbers/_theory_nbs_/proofs/positive_if_in_real_pos/thm_proof.ipynb\">proveit.numbers.number_sets.real_numbers.positive_if_in_real_pos</a></dt><dd><a class=\"ProveItLink\" href=\"../../../../../../numbers/number_sets/real_numbers/__pv_it/theorems/fa0861a4dbbaf1c4d7fc59487e892e46cb79ff190/expr.ipynb\"><img src=\"../../../../../../numbers/number_sets/real_numbers/__pv_it/theorems/fa0861a4dbbaf1c4d7fc59487e892e46cb79ff190/expr.png\" style=\"display:inline;vertical-align:middle;\" /></a></dd>"
      ],
      "text/plain": [
       "<IPython.core.display.HTML object>"
      ]
     },
     "metadata": {},
     "output_type": "display_data"
    },
    {
     "data": {
      "text/html": [
       "<dt><a class=\"ProveItLink\" href=\"../../../../../../numbers/number_sets/real_numbers/_theory_nbs_/proofs/rational_neg_within_real_neg/thm_proof.ipynb\">proveit.numbers.number_sets.real_numbers.rational_neg_within_real_neg</a></dt><dd><a class=\"ProveItLink\" href=\"../../../../../../numbers/number_sets/real_numbers/__pv_it/theorems/166d7560fcdc666cc771ac2f94f98641d0caf3420/expr.ipynb\"><img src=\"../../../../../../numbers/number_sets/real_numbers/__pv_it/theorems/166d7560fcdc666cc771ac2f94f98641d0caf3420/expr.png\" style=\"display:inline;vertical-align:middle;\" /></a></dd>"
      ],
      "text/plain": [
       "<IPython.core.display.HTML object>"
      ]
     },
     "metadata": {},
     "output_type": "display_data"
    },
    {
     "data": {
      "text/html": [
       "<dt><a class=\"ProveItLink\" href=\"../../../../../../numbers/number_sets/real_numbers/_theory_nbs_/proofs/rational_nonzero_within_real_nonzero/thm_proof.ipynb\">proveit.numbers.number_sets.real_numbers.rational_nonzero_within_real_nonzero</a></dt><dd><a class=\"ProveItLink\" href=\"../../../../../../numbers/number_sets/real_numbers/__pv_it/theorems/bb284ca01b44c7663f418b54954256ec3636dfce0/expr.ipynb\"><img src=\"../../../../../../numbers/number_sets/real_numbers/__pv_it/theorems/bb284ca01b44c7663f418b54954256ec3636dfce0/expr.png\" style=\"display:inline;vertical-align:middle;\" /></a></dd>"
      ],
      "text/plain": [
       "<IPython.core.display.HTML object>"
      ]
     },
     "metadata": {},
     "output_type": "display_data"
    },
    {
     "data": {
      "text/html": [
       "<dt><a class=\"ProveItLink\" href=\"../../../../../../numbers/number_sets/real_numbers/_theory_nbs_/proofs/rational_within_real/thm_proof.ipynb\">proveit.numbers.number_sets.real_numbers.rational_within_real</a></dt><dd><a class=\"ProveItLink\" href=\"../../../../../../numbers/number_sets/real_numbers/__pv_it/theorems/e682cd49905f8b52fcd025dd4d0c53b5fa6a75840/expr.ipynb\"><img src=\"../../../../../../numbers/number_sets/real_numbers/__pv_it/theorems/e682cd49905f8b52fcd025dd4d0c53b5fa6a75840/expr.png\" style=\"display:inline;vertical-align:middle;\" /></a></dd>"
      ],
      "text/plain": [
       "<IPython.core.display.HTML object>"
      ]
     },
     "metadata": {},
     "output_type": "display_data"
    },
    {
     "data": {
      "text/html": [
       "<dt><a class=\"ProveItLink\" href=\"../../../../../../numbers/number_sets/real_numbers/_theory_nbs_/proofs/real_neg_within_real/thm_proof.ipynb\">proveit.numbers.number_sets.real_numbers.real_neg_within_real</a></dt><dd><a class=\"ProveItLink\" href=\"../../../../../../numbers/number_sets/real_numbers/__pv_it/theorems/60b0a65eec5d1057a84ba2045c9a2537540b1c380/expr.ipynb\"><img src=\"../../../../../../numbers/number_sets/real_numbers/__pv_it/theorems/60b0a65eec5d1057a84ba2045c9a2537540b1c380/expr.png\" style=\"display:inline;vertical-align:middle;\" /></a></dd>"
      ],
      "text/plain": [
       "<IPython.core.display.HTML object>"
      ]
     },
     "metadata": {},
     "output_type": "display_data"
    },
    {
     "data": {
      "text/html": [
       "<dt><a class=\"ProveItLink\" href=\"../../../../../../numbers/number_sets/real_numbers/_theory_nbs_/proofs/real_nonneg_within_real/thm_proof.ipynb\">proveit.numbers.number_sets.real_numbers.real_nonneg_within_real</a></dt><dd><a class=\"ProveItLink\" href=\"../../../../../../numbers/number_sets/real_numbers/__pv_it/theorems/2c5554d3cc74fc3c7588490932727e5cf6a37cf20/expr.ipynb\"><img src=\"../../../../../../numbers/number_sets/real_numbers/__pv_it/theorems/2c5554d3cc74fc3c7588490932727e5cf6a37cf20/expr.png\" style=\"display:inline;vertical-align:middle;\" /></a></dd>"
      ],
      "text/plain": [
       "<IPython.core.display.HTML object>"
      ]
     },
     "metadata": {},
     "output_type": "display_data"
    },
    {
     "data": {
      "text/html": [
       "<dt><a class=\"ProveItLink\" href=\"../../../../../../numbers/number_sets/real_numbers/_theory_nbs_/proofs/real_pos_within_real/thm_proof.ipynb\">proveit.numbers.number_sets.real_numbers.real_pos_within_real</a></dt><dd><a class=\"ProveItLink\" href=\"../../../../../../numbers/number_sets/real_numbers/__pv_it/theorems/d0c7a1c9e90d22c65f82916658888d722f5679650/expr.ipynb\"><img src=\"../../../../../../numbers/number_sets/real_numbers/__pv_it/theorems/d0c7a1c9e90d22c65f82916658888d722f5679650/expr.png\" style=\"display:inline;vertical-align:middle;\" /></a></dd>"
      ],
      "text/plain": [
       "<IPython.core.display.HTML object>"
      ]
     },
     "metadata": {},
     "output_type": "display_data"
    },
    {
     "data": {
      "text/html": [
       "<dt><a class=\"ProveItLink\" href=\"../../../../../../numbers/number_sets/real_numbers/_theory_nbs_/proofs/zero_is_real/thm_proof.ipynb\">proveit.numbers.number_sets.real_numbers.zero_is_real</a></dt><dd><a class=\"ProveItLink\" href=\"../../../../../../numbers/number_sets/real_numbers/__pv_it/theorems/d20232590464c9f18a8a98a1a535965bd7c0b5f60/expr.ipynb\"><img src=\"../../../../../../numbers/number_sets/real_numbers/__pv_it/theorems/d20232590464c9f18a8a98a1a535965bd7c0b5f60/expr.png\" style=\"display:inline;vertical-align:middle;\" /></a></dd>"
      ],
      "text/plain": [
       "<IPython.core.display.HTML object>"
      ]
     },
     "metadata": {},
     "output_type": "display_data"
    },
    {
     "data": {
      "text/html": [
       "<dt><a class=\"ProveItLink\" href=\"../../../../../../numbers/numerals/decimals/_theory_nbs_/proofs/add_1_1/thm_proof.ipynb\">proveit.numbers.numerals.decimals.add_1_1</a></dt><dd><a class=\"ProveItLink\" href=\"../../../../../../numbers/numerals/decimals/__pv_it/theorems/e4f155feff3a69c50e056f9ebb70a709bdfc1a520/expr.ipynb\"><img src=\"../../../../../../numbers/numerals/decimals/__pv_it/theorems/e4f155feff3a69c50e056f9ebb70a709bdfc1a520/expr.png\" style=\"display:inline;vertical-align:middle;\" /></a></dd>"
      ],
      "text/plain": [
       "<IPython.core.display.HTML object>"
      ]
     },
     "metadata": {},
     "output_type": "display_data"
    },
    {
     "data": {
      "text/html": [
       "<dt><a class=\"ProveItLink\" href=\"../../../../../../numbers/numerals/decimals/_theory_nbs_/proofs/add_2_2/thm_proof.ipynb\">proveit.numbers.numerals.decimals.add_2_2</a></dt><dd><a class=\"ProveItLink\" href=\"../../../../../../numbers/numerals/decimals/__pv_it/theorems/ff86710a6f3c2bd365ba9cb0ef11a02baf1358980/expr.ipynb\"><img src=\"../../../../../../numbers/numerals/decimals/__pv_it/theorems/ff86710a6f3c2bd365ba9cb0ef11a02baf1358980/expr.png\" style=\"display:inline;vertical-align:middle;\" /></a></dd>"
      ],
      "text/plain": [
       "<IPython.core.display.HTML object>"
      ]
     },
     "metadata": {},
     "output_type": "display_data"
    },
    {
     "data": {
      "text/html": [
       "<dt><a class=\"ProveItLink\" href=\"../../../../../../numbers/numerals/decimals/_theory_nbs_/proofs/less_0_1/thm_proof.ipynb\">proveit.numbers.numerals.decimals.less_0_1</a></dt><dd><a class=\"ProveItLink\" href=\"../../../../../../numbers/numerals/decimals/__pv_it/theorems/f31616e7086e927022af06d4950ace2fbb2976240/expr.ipynb\"><img src=\"../../../../../../numbers/numerals/decimals/__pv_it/theorems/f31616e7086e927022af06d4950ace2fbb2976240/expr.png\" style=\"display:inline;vertical-align:middle;\" /></a></dd>"
      ],
      "text/plain": [
       "<IPython.core.display.HTML object>"
      ]
     },
     "metadata": {},
     "output_type": "display_data"
    },
    {
     "data": {
      "text/html": [
       "<dt><a class=\"ProveItLink\" href=\"../../../../../../numbers/numerals/decimals/_theory_nbs_/proofs/mult_2_2/thm_proof.ipynb\">proveit.numbers.numerals.decimals.mult_2_2</a></dt><dd><a class=\"ProveItLink\" href=\"../../../../../../numbers/numerals/decimals/__pv_it/theorems/8e0e97e09a85c56a96da765fc0f05e51646050d20/expr.ipynb\"><img src=\"../../../../../../numbers/numerals/decimals/__pv_it/theorems/8e0e97e09a85c56a96da765fc0f05e51646050d20/expr.png\" style=\"display:inline;vertical-align:middle;\" /></a></dd>"
      ],
      "text/plain": [
       "<IPython.core.display.HTML object>"
      ]
     },
     "metadata": {},
     "output_type": "display_data"
    },
    {
     "data": {
      "text/html": [
       "<dt><a class=\"ProveItLink\" href=\"../../../../../../numbers/numerals/decimals/_theory_nbs_/proofs/nat3/thm_proof.ipynb\">proveit.numbers.numerals.decimals.nat3</a></dt><dd><a class=\"ProveItLink\" href=\"../../../../../../numbers/numerals/decimals/__pv_it/theorems/460c23cdbd64b08ccacdbdc6b3661919426e237f0/expr.ipynb\"><img src=\"../../../../../../numbers/numerals/decimals/__pv_it/theorems/460c23cdbd64b08ccacdbdc6b3661919426e237f0/expr.png\" style=\"display:inline;vertical-align:middle;\" /></a></dd>"
      ],
      "text/plain": [
       "<IPython.core.display.HTML object>"
      ]
     },
     "metadata": {},
     "output_type": "display_data"
    },
    {
     "data": {
      "text/html": [
       "<dt><a class=\"ProveItLink\" href=\"../../../../../../numbers/numerals/decimals/_theory_nbs_/proofs/nat4/thm_proof.ipynb\">proveit.numbers.numerals.decimals.nat4</a></dt><dd><a class=\"ProveItLink\" href=\"../../../../../../numbers/numerals/decimals/__pv_it/theorems/5cf9097f623478f61147fb5f5c8bbd61d83cfe3a0/expr.ipynb\"><img src=\"../../../../../../numbers/numerals/decimals/__pv_it/theorems/5cf9097f623478f61147fb5f5c8bbd61d83cfe3a0/expr.png\" style=\"display:inline;vertical-align:middle;\" /></a></dd>"
      ],
      "text/plain": [
       "<IPython.core.display.HTML object>"
      ]
     },
     "metadata": {},
     "output_type": "display_data"
    },
    {
     "data": {
      "text/html": [
       "<dt><a class=\"ProveItLink\" href=\"../../../../../../numbers/numerals/decimals/_theory_nbs_/proofs/posnat1/thm_proof.ipynb\">proveit.numbers.numerals.decimals.posnat1</a></dt><dd><a class=\"ProveItLink\" href=\"../../../../../../numbers/numerals/decimals/__pv_it/theorems/bc756b88629195b95a8093862c53b2b7873d42670/expr.ipynb\"><img src=\"../../../../../../numbers/numerals/decimals/__pv_it/theorems/bc756b88629195b95a8093862c53b2b7873d42670/expr.png\" style=\"display:inline;vertical-align:middle;\" /></a></dd>"
      ],
      "text/plain": [
       "<IPython.core.display.HTML object>"
      ]
     },
     "metadata": {},
     "output_type": "display_data"
    },
    {
     "data": {
      "text/html": [
       "<dt><a class=\"ProveItLink\" href=\"../../../../../../numbers/numerals/decimals/_theory_nbs_/proofs/posnat2/thm_proof.ipynb\">proveit.numbers.numerals.decimals.posnat2</a></dt><dd><a class=\"ProveItLink\" href=\"../../../../../../numbers/numerals/decimals/__pv_it/theorems/aa5f8ea7aa8d661558ddef72abb6b4f0fac781ac0/expr.ipynb\"><img src=\"../../../../../../numbers/numerals/decimals/__pv_it/theorems/aa5f8ea7aa8d661558ddef72abb6b4f0fac781ac0/expr.png\" style=\"display:inline;vertical-align:middle;\" /></a></dd>"
      ],
      "text/plain": [
       "<IPython.core.display.HTML object>"
      ]
     },
     "metadata": {},
     "output_type": "display_data"
    },
    {
     "data": {
      "text/html": [
       "<dt><a class=\"ProveItLink\" href=\"../../../../../../numbers/numerals/decimals/_theory_nbs_/proofs/posnat4/thm_proof.ipynb\">proveit.numbers.numerals.decimals.posnat4</a></dt><dd><a class=\"ProveItLink\" href=\"../../../../../../numbers/numerals/decimals/__pv_it/theorems/9fb878ebb9df9f48a7070cb3927b54e8dbf9fcc20/expr.ipynb\"><img src=\"../../../../../../numbers/numerals/decimals/__pv_it/theorems/9fb878ebb9df9f48a7070cb3927b54e8dbf9fcc20/expr.png\" style=\"display:inline;vertical-align:middle;\" /></a></dd>"
      ],
      "text/plain": [
       "<IPython.core.display.HTML object>"
      ]
     },
     "metadata": {},
     "output_type": "display_data"
    },
    {
     "data": {
      "text/html": [
       "<dt><a class=\"ProveItLink\" href=\"../../../../../../numbers/numerals/decimals/_theory_nbs_/proofs/tuple_len_2_typical_eq/thm_proof.ipynb\">proveit.numbers.numerals.decimals.tuple_len_2_typical_eq</a></dt><dd><a class=\"ProveItLink\" href=\"../../../../../../numbers/numerals/decimals/__pv_it/theorems/10b037baccf1e1ebd13cf393d16f9c41951216fd0/expr.ipynb\"><img src=\"../../../../../../numbers/numerals/decimals/__pv_it/theorems/10b037baccf1e1ebd13cf393d16f9c41951216fd0/expr.png\" style=\"display:inline;vertical-align:middle;\" /></a></dd>"
      ],
      "text/plain": [
       "<IPython.core.display.HTML object>"
      ]
     },
     "metadata": {},
     "output_type": "display_data"
    },
    {
     "data": {
      "text/html": [
       "<dt><a class=\"ProveItLink\" href=\"../../../../../../numbers/numerals/decimals/_theory_nbs_/proofs/tuple_len_3_typical_eq/thm_proof.ipynb\">proveit.numbers.numerals.decimals.tuple_len_3_typical_eq</a></dt><dd><a class=\"ProveItLink\" href=\"../../../../../../numbers/numerals/decimals/__pv_it/theorems/864de063a1f6f21e5cb5a312c6a6ae9e6abea9a90/expr.ipynb\"><img src=\"../../../../../../numbers/numerals/decimals/__pv_it/theorems/864de063a1f6f21e5cb5a312c6a6ae9e6abea9a90/expr.png\" style=\"display:inline;vertical-align:middle;\" /></a></dd>"
      ],
      "text/plain": [
       "<IPython.core.display.HTML object>"
      ]
     },
     "metadata": {},
     "output_type": "display_data"
    },
    {
     "data": {
      "text/html": [
       "<dt><a class=\"ProveItLink\" href=\"../../../../../../numbers/ordering/_theory_nbs_/proofs/less_add_right/thm_proof.ipynb\">proveit.numbers.ordering.less_add_right</a></dt><dd><a class=\"ProveItLink\" href=\"../../../../../../numbers/ordering/__pv_it/theorems/208a54c3caa532bf1b82d4efd1dc268bd18df5c20/expr.ipynb\"><img src=\"../../../../../../numbers/ordering/__pv_it/theorems/208a54c3caa532bf1b82d4efd1dc268bd18df5c20/expr.png\" style=\"display:inline;vertical-align:middle;\" /></a></dd>"
      ],
      "text/plain": [
       "<IPython.core.display.HTML object>"
      ]
     },
     "metadata": {},
     "output_type": "display_data"
    },
    {
     "data": {
      "text/html": [
       "<dt><a class=\"ProveItLink\" href=\"../../../../../../numbers/ordering/_theory_nbs_/proofs/less_eq_add_right_strong/thm_proof.ipynb\">proveit.numbers.ordering.less_eq_add_right_strong</a></dt><dd><a class=\"ProveItLink\" href=\"../../../../../../numbers/ordering/__pv_it/theorems/c52c745173fcd07ea600439e51b4b6ab61146eca0/expr.ipynb\"><img src=\"../../../../../../numbers/ordering/__pv_it/theorems/c52c745173fcd07ea600439e51b4b6ab61146eca0/expr.png\" style=\"display:inline;vertical-align:middle;\" /></a></dd>"
      ],
      "text/plain": [
       "<IPython.core.display.HTML object>"
      ]
     },
     "metadata": {},
     "output_type": "display_data"
    },
    {
     "data": {
      "text/html": [
       "<dt><a class=\"ProveItLink\" href=\"../../../../../../numbers/ordering/_theory_nbs_/proofs/less_is_not_eq_nat/thm_proof.ipynb\">proveit.numbers.ordering.less_is_not_eq_nat</a></dt><dd><a class=\"ProveItLink\" href=\"../../../../../../numbers/ordering/__pv_it/theorems/25e75496c071b11af4ee9c174d64f8cbe1acb4a60/expr.ipynb\"><img src=\"../../../../../../numbers/ordering/__pv_it/theorems/25e75496c071b11af4ee9c174d64f8cbe1acb4a60/expr.png\" style=\"display:inline;vertical-align:middle;\" /></a></dd>"
      ],
      "text/plain": [
       "<IPython.core.display.HTML object>"
      ]
     },
     "metadata": {},
     "output_type": "display_data"
    },
    {
     "data": {
      "text/html": [
       "<dt><a class=\"ProveItLink\" href=\"../../../../../../numbers/ordering/_theory_nbs_/proofs/relax_less/thm_proof.ipynb\">proveit.numbers.ordering.relax_less</a></dt><dd><a class=\"ProveItLink\" href=\"../../../../../../numbers/ordering/__pv_it/theorems/e31e463cf2805f510e0c2c78f9eb78535b1640d20/expr.ipynb\"><img src=\"../../../../../../numbers/ordering/__pv_it/theorems/e31e463cf2805f510e0c2c78f9eb78535b1640d20/expr.png\" style=\"display:inline;vertical-align:middle;\" /></a></dd>"
      ],
      "text/plain": [
       "<IPython.core.display.HTML object>"
      ]
     },
     "metadata": {},
     "output_type": "display_data"
    },
    {
     "data": {
      "text/html": [
       "<dt><a class=\"ProveItLink\" href=\"../../../../../../numbers/rounding/_theory_nbs_/proofs/floor_increasing_less_eq/thm_proof.ipynb\">proveit.numbers.rounding.floor_increasing_less_eq</a></dt><dd><a class=\"ProveItLink\" href=\"../../../../../../numbers/rounding/__pv_it/theorems/25b6b073756f68c05280489d06302913c29705450/expr.ipynb\"><img src=\"../../../../../../numbers/rounding/__pv_it/theorems/25b6b073756f68c05280489d06302913c29705450/expr.png\" style=\"display:inline;vertical-align:middle;\" /></a></dd>"
      ],
      "text/plain": [
       "<IPython.core.display.HTML object>"
      ]
     },
     "metadata": {},
     "output_type": "display_data"
    },
    {
     "data": {
      "text/html": [
       "<dt><a class=\"ProveItLink\" href=\"../../../../../../numbers/rounding/_theory_nbs_/proofs/floor_of_integer/thm_proof.ipynb\">proveit.numbers.rounding.floor_of_integer</a></dt><dd><a class=\"ProveItLink\" href=\"../../../../../../numbers/rounding/__pv_it/theorems/6332518142a6de46cccd2f9a539da44b695a1eb50/expr.ipynb\"><img src=\"../../../../../../numbers/rounding/__pv_it/theorems/6332518142a6de46cccd2f9a539da44b695a1eb50/expr.png\" style=\"display:inline;vertical-align:middle;\" /></a></dd>"
      ],
      "text/plain": [
       "<IPython.core.display.HTML object>"
      ]
     },
     "metadata": {},
     "output_type": "display_data"
    },
    {
     "data": {
      "text/html": [
       "<dt><a class=\"ProveItLink\" href=\"../../../../../../numbers/rounding/_theory_nbs_/proofs/floor_of_real_below_int/thm_proof.ipynb\">proveit.numbers.rounding.floor_of_real_below_int</a></dt><dd><a class=\"ProveItLink\" href=\"../../../../../../numbers/rounding/__pv_it/theorems/0e8c202293c27c6534c8c51f528a8552ce3c03f80/expr.ipynb\"><img src=\"../../../../../../numbers/rounding/__pv_it/theorems/0e8c202293c27c6534c8c51f528a8552ce3c03f80/expr.png\" style=\"display:inline;vertical-align:middle;\" /></a></dd>"
      ],
      "text/plain": [
       "<IPython.core.display.HTML object>"
      ]
     },
     "metadata": {},
     "output_type": "display_data"
    },
    {
     "data": {
      "text/html": [
       "<dt><a class=\"ProveItLink\" href=\"../../../../../../numbers/rounding/_theory_nbs_/proofs/real_minus_floor_upper_bound/thm_proof.ipynb\">proveit.numbers.rounding.real_minus_floor_upper_bound</a></dt><dd><a class=\"ProveItLink\" href=\"../../../../../../numbers/rounding/__pv_it/theorems/1da937839768f43ff773ebbf125bd8f76a3dd31c0/expr.ipynb\"><img src=\"../../../../../../numbers/rounding/__pv_it/theorems/1da937839768f43ff773ebbf125bd8f76a3dd31c0/expr.png\" style=\"display:inline;vertical-align:middle;\" /></a></dd>"
      ],
      "text/plain": [
       "<IPython.core.display.HTML object>"
      ]
     },
     "metadata": {},
     "output_type": "display_data"
    },
    {
     "data": {
      "text/html": [
       "<dt><a class=\"ProveItLink\" href=\"../../../../../../numbers/rounding/_theory_nbs_/proofs/round_in_terms_of_floor/thm_proof.ipynb\">proveit.numbers.rounding.round_in_terms_of_floor</a></dt><dd><a class=\"ProveItLink\" href=\"../../../../../../numbers/rounding/__pv_it/theorems/a7d245b4591f9119e1c2f3b2474c46c59cc356c20/expr.ipynb\"><img src=\"../../../../../../numbers/rounding/__pv_it/theorems/a7d245b4591f9119e1c2f3b2474c46c59cc356c20/expr.png\" style=\"display:inline;vertical-align:middle;\" /></a></dd>"
      ],
      "text/plain": [
       "<IPython.core.display.HTML object>"
      ]
     },
     "metadata": {},
     "output_type": "display_data"
    },
    {
     "data": {
      "text/html": [
       "</dl>"
      ],
      "text/plain": [
       "<IPython.core.display.HTML object>"
      ]
     },
     "metadata": {},
     "output_type": "display_data"
    },
    {
     "data": {
      "text/html": [
       "<h3>Axioms required (directly or indirectly) to prove _scaled_abs_delta_b_floor_diff_interval</h3>"
      ],
      "text/plain": [
       "<IPython.core.display.HTML object>"
      ]
     },
     "metadata": {},
     "output_type": "display_data"
    },
    {
     "data": {
      "text/html": [
       "<dl>"
      ],
      "text/plain": [
       "<IPython.core.display.HTML object>"
      ]
     },
     "metadata": {},
     "output_type": "display_data"
    },
    {
     "data": {
      "text/html": [
       "<dt><a class=\"ProveItLink\" href=\"../../../../../../core_expr_types/operations/_theory_nbs_/axioms.ipynb#operands_substitution\">proveit.core_expr_types.operations.operands_substitution</a></dt><dd><a class=\"ProveItLink\" href=\"../../../../../../core_expr_types/operations/__pv_it/axioms/e9a2fec83f7f76487e4e1ae47c47050c1e84bf510/expr.ipynb\"><img src=\"../../../../../../core_expr_types/operations/__pv_it/axioms/e9a2fec83f7f76487e4e1ae47c47050c1e84bf510/expr.png\" style=\"display:inline;vertical-align:middle;\" /></a></dd>"
      ],
      "text/plain": [
       "<IPython.core.display.HTML object>"
      ]
     },
     "metadata": {},
     "output_type": "display_data"
    },
    {
     "data": {
      "text/html": [
       "<dt><a class=\"ProveItLink\" href=\"../../../../../../logic/booleans/_theory_nbs_/axioms.ipynb#bools_def\">proveit.logic.booleans.bools_def</a></dt><dd><a class=\"ProveItLink\" href=\"../../../../../../logic/booleans/__pv_it/axioms/0ed31a4273b0db746a43c9d8e01361d0476217f00/expr.ipynb\"><img src=\"../../../../../../logic/booleans/__pv_it/axioms/0ed31a4273b0db746a43c9d8e01361d0476217f00/expr.png\" style=\"display:inline;vertical-align:middle;\" /></a></dd>"
      ],
      "text/plain": [
       "<IPython.core.display.HTML object>"
      ]
     },
     "metadata": {},
     "output_type": "display_data"
    },
    {
     "data": {
      "text/html": [
       "<dt><a class=\"ProveItLink\" href=\"../../../../../../logic/booleans/conjunction/_theory_nbs_/axioms.ipynb#and_t_t\">proveit.logic.booleans.conjunction.and_t_t</a></dt><dd><a class=\"ProveItLink\" href=\"../../../../../../logic/booleans/conjunction/__pv_it/axioms/2e06e480834dffc99779e341f5b63756ff25f98e0/expr.ipynb\"><img src=\"../../../../../../logic/booleans/conjunction/__pv_it/axioms/2e06e480834dffc99779e341f5b63756ff25f98e0/expr.png\" style=\"display:inline;vertical-align:middle;\" /></a></dd>"
      ],
      "text/plain": [
       "<IPython.core.display.HTML object>"
      ]
     },
     "metadata": {},
     "output_type": "display_data"
    },
    {
     "data": {
      "text/html": [
       "<dt><a class=\"ProveItLink\" href=\"../../../../../../logic/booleans/disjunction/_theory_nbs_/axioms.ipynb#left_in_bool\">proveit.logic.booleans.disjunction.left_in_bool</a></dt><dd><a class=\"ProveItLink\" href=\"../../../../../../logic/booleans/disjunction/__pv_it/axioms/31cf087cfdbabf741dc6de93d74bdfb1386ee4500/expr.ipynb\"><img src=\"../../../../../../logic/booleans/disjunction/__pv_it/axioms/31cf087cfdbabf741dc6de93d74bdfb1386ee4500/expr.png\" style=\"display:inline;vertical-align:middle;\" /></a></dd>"
      ],
      "text/plain": [
       "<IPython.core.display.HTML object>"
      ]
     },
     "metadata": {},
     "output_type": "display_data"
    },
    {
     "data": {
      "text/html": [
       "<dt><a class=\"ProveItLink\" href=\"../../../../../../logic/booleans/disjunction/_theory_nbs_/axioms.ipynb#or_f_f\">proveit.logic.booleans.disjunction.or_f_f</a></dt><dd><a class=\"ProveItLink\" href=\"../../../../../../logic/booleans/disjunction/__pv_it/axioms/4e6ae09189e7fdfa4842751d2c37d9938b19ca550/expr.ipynb\"><img src=\"../../../../../../logic/booleans/disjunction/__pv_it/axioms/4e6ae09189e7fdfa4842751d2c37d9938b19ca550/expr.png\" style=\"display:inline;vertical-align:middle;\" /></a></dd>"
      ],
      "text/plain": [
       "<IPython.core.display.HTML object>"
      ]
     },
     "metadata": {},
     "output_type": "display_data"
    },
    {
     "data": {
      "text/html": [
       "<dt><a class=\"ProveItLink\" href=\"../../../../../../logic/booleans/disjunction/_theory_nbs_/axioms.ipynb#or_f_t\">proveit.logic.booleans.disjunction.or_f_t</a></dt><dd><a class=\"ProveItLink\" href=\"../../../../../../logic/booleans/disjunction/__pv_it/axioms/9e9f256c794c8500531ff9573d3ae5b5b63b68f90/expr.ipynb\"><img src=\"../../../../../../logic/booleans/disjunction/__pv_it/axioms/9e9f256c794c8500531ff9573d3ae5b5b63b68f90/expr.png\" style=\"display:inline;vertical-align:middle;\" /></a></dd>"
      ],
      "text/plain": [
       "<IPython.core.display.HTML object>"
      ]
     },
     "metadata": {},
     "output_type": "display_data"
    },
    {
     "data": {
      "text/html": [
       "<dt><a class=\"ProveItLink\" href=\"../../../../../../logic/booleans/disjunction/_theory_nbs_/axioms.ipynb#or_t_f\">proveit.logic.booleans.disjunction.or_t_f</a></dt><dd><a class=\"ProveItLink\" href=\"../../../../../../logic/booleans/disjunction/__pv_it/axioms/60330ee6db5efb06d1adf8b0bcef3a1d453390260/expr.ipynb\"><img src=\"../../../../../../logic/booleans/disjunction/__pv_it/axioms/60330ee6db5efb06d1adf8b0bcef3a1d453390260/expr.png\" style=\"display:inline;vertical-align:middle;\" /></a></dd>"
      ],
      "text/plain": [
       "<IPython.core.display.HTML object>"
      ]
     },
     "metadata": {},
     "output_type": "display_data"
    },
    {
     "data": {
      "text/html": [
       "<dt><a class=\"ProveItLink\" href=\"../../../../../../logic/booleans/disjunction/_theory_nbs_/axioms.ipynb#or_t_t\">proveit.logic.booleans.disjunction.or_t_t</a></dt><dd><a class=\"ProveItLink\" href=\"../../../../../../logic/booleans/disjunction/__pv_it/axioms/51ce2bda98b4bba5508f7e5f97f3c050ced5ef980/expr.ipynb\"><img src=\"../../../../../../logic/booleans/disjunction/__pv_it/axioms/51ce2bda98b4bba5508f7e5f97f3c050ced5ef980/expr.png\" style=\"display:inline;vertical-align:middle;\" /></a></dd>"
      ],
      "text/plain": [
       "<IPython.core.display.HTML object>"
      ]
     },
     "metadata": {},
     "output_type": "display_data"
    },
    {
     "data": {
      "text/html": [
       "<dt><a class=\"ProveItLink\" href=\"../../../../../../logic/booleans/disjunction/_theory_nbs_/axioms.ipynb#right_in_bool\">proveit.logic.booleans.disjunction.right_in_bool</a></dt><dd><a class=\"ProveItLink\" href=\"../../../../../../logic/booleans/disjunction/__pv_it/axioms/75538c610162aedd9326f6bb1421f121a3b110aa0/expr.ipynb\"><img src=\"../../../../../../logic/booleans/disjunction/__pv_it/axioms/75538c610162aedd9326f6bb1421f121a3b110aa0/expr.png\" style=\"display:inline;vertical-align:middle;\" /></a></dd>"
      ],
      "text/plain": [
       "<IPython.core.display.HTML object>"
      ]
     },
     "metadata": {},
     "output_type": "display_data"
    },
    {
     "data": {
      "text/html": [
       "<dt><a class=\"ProveItLink\" href=\"../../../../../../logic/booleans/_theory_nbs_/axioms.ipynb#eq_true_elim\">proveit.logic.booleans.eq_true_elim</a></dt><dd><a class=\"ProveItLink\" href=\"../../../../../../logic/booleans/__pv_it/axioms/e109ec75dbf9febf42e2a6841bae9d9b810afe380/expr.ipynb\"><img src=\"../../../../../../logic/booleans/__pv_it/axioms/e109ec75dbf9febf42e2a6841bae9d9b810afe380/expr.png\" style=\"display:inline;vertical-align:middle;\" /></a></dd>"
      ],
      "text/plain": [
       "<IPython.core.display.HTML object>"
      ]
     },
     "metadata": {},
     "output_type": "display_data"
    },
    {
     "data": {
      "text/html": [
       "<dt><a class=\"ProveItLink\" href=\"../../../../../../logic/booleans/_theory_nbs_/axioms.ipynb#eq_true_intro\">proveit.logic.booleans.eq_true_intro</a></dt><dd><a class=\"ProveItLink\" href=\"../../../../../../logic/booleans/__pv_it/axioms/af7fcd0228bc2f434dd8febb9d8c4f56a07241be0/expr.ipynb\"><img src=\"../../../../../../logic/booleans/__pv_it/axioms/af7fcd0228bc2f434dd8febb9d8c4f56a07241be0/expr.png\" style=\"display:inline;vertical-align:middle;\" /></a></dd>"
      ],
      "text/plain": [
       "<IPython.core.display.HTML object>"
      ]
     },
     "metadata": {},
     "output_type": "display_data"
    },
    {
     "data": {
      "text/html": [
       "<dt><a class=\"ProveItLink\" href=\"../../../../../../logic/booleans/_theory_nbs_/axioms.ipynb#false_not_true\">proveit.logic.booleans.false_not_true</a></dt><dd><a class=\"ProveItLink\" href=\"../../../../../../logic/booleans/__pv_it/axioms/eb8cfde2511c6ba3e5c8a65a4e82d309baeb3e560/expr.ipynb\"><img src=\"../../../../../../logic/booleans/__pv_it/axioms/eb8cfde2511c6ba3e5c8a65a4e82d309baeb3e560/expr.png\" style=\"display:inline;vertical-align:middle;\" /></a></dd>"
      ],
      "text/plain": [
       "<IPython.core.display.HTML object>"
      ]
     },
     "metadata": {},
     "output_type": "display_data"
    },
    {
     "data": {
      "text/html": [
       "<dt><a class=\"ProveItLink\" href=\"../../../../../../logic/booleans/implication/_theory_nbs_/axioms.ipynb#affirmation_via_contradiction\">proveit.logic.booleans.implication.affirmation_via_contradiction</a></dt><dd><a class=\"ProveItLink\" href=\"../../../../../../logic/booleans/implication/__pv_it/axioms/e370e39221e2813384746423b62d6484d70717460/expr.ipynb\"><img src=\"../../../../../../logic/booleans/implication/__pv_it/axioms/e370e39221e2813384746423b62d6484d70717460/expr.png\" style=\"display:inline;vertical-align:middle;\" /></a></dd>"
      ],
      "text/plain": [
       "<IPython.core.display.HTML object>"
      ]
     },
     "metadata": {},
     "output_type": "display_data"
    },
    {
     "data": {
      "text/html": [
       "<dt><a class=\"ProveItLink\" href=\"../../../../../../logic/booleans/implication/_theory_nbs_/axioms.ipynb#denial_via_contradiction\">proveit.logic.booleans.implication.denial_via_contradiction</a></dt><dd><a class=\"ProveItLink\" href=\"../../../../../../logic/booleans/implication/__pv_it/axioms/15e245c22c3eb4d9b40c738cddd8abe5669ddc9a0/expr.ipynb\"><img src=\"../../../../../../logic/booleans/implication/__pv_it/axioms/15e245c22c3eb4d9b40c738cddd8abe5669ddc9a0/expr.png\" style=\"display:inline;vertical-align:middle;\" /></a></dd>"
      ],
      "text/plain": [
       "<IPython.core.display.HTML object>"
      ]
     },
     "metadata": {},
     "output_type": "display_data"
    },
    {
     "data": {
      "text/html": [
       "<dt><a class=\"ProveItLink\" href=\"../../../../../../logic/booleans/negation/_theory_nbs_/axioms.ipynb#negation_elim\">proveit.logic.booleans.negation.negation_elim</a></dt><dd><a class=\"ProveItLink\" href=\"../../../../../../logic/booleans/negation/__pv_it/axioms/0fd3f403bc4d76bb1a3bc88358aa217c1bfc7dc50/expr.ipynb\"><img src=\"../../../../../../logic/booleans/negation/__pv_it/axioms/0fd3f403bc4d76bb1a3bc88358aa217c1bfc7dc50/expr.png\" style=\"display:inline;vertical-align:middle;\" /></a></dd>"
      ],
      "text/plain": [
       "<IPython.core.display.HTML object>"
      ]
     },
     "metadata": {},
     "output_type": "display_data"
    },
    {
     "data": {
      "text/html": [
       "<dt><a class=\"ProveItLink\" href=\"../../../../../../logic/booleans/negation/_theory_nbs_/axioms.ipynb#not_f\">proveit.logic.booleans.negation.not_f</a></dt><dd><a class=\"ProveItLink\" href=\"../../../../../../logic/booleans/negation/__pv_it/axioms/b9bd74a578c6b2e794e4ce82c543ff5c79f215890/expr.ipynb\"><img src=\"../../../../../../logic/booleans/negation/__pv_it/axioms/b9bd74a578c6b2e794e4ce82c543ff5c79f215890/expr.png\" style=\"display:inline;vertical-align:middle;\" /></a></dd>"
      ],
      "text/plain": [
       "<IPython.core.display.HTML object>"
      ]
     },
     "metadata": {},
     "output_type": "display_data"
    },
    {
     "data": {
      "text/html": [
       "<dt><a class=\"ProveItLink\" href=\"../../../../../../logic/booleans/negation/_theory_nbs_/axioms.ipynb#not_t\">proveit.logic.booleans.negation.not_t</a></dt><dd><a class=\"ProveItLink\" href=\"../../../../../../logic/booleans/negation/__pv_it/axioms/fa3556271013b3b54b7b75b637f6a18a1772897d0/expr.ipynb\"><img src=\"../../../../../../logic/booleans/negation/__pv_it/axioms/fa3556271013b3b54b7b75b637f6a18a1772897d0/expr.png\" style=\"display:inline;vertical-align:middle;\" /></a></dd>"
      ],
      "text/plain": [
       "<IPython.core.display.HTML object>"
      ]
     },
     "metadata": {},
     "output_type": "display_data"
    },
    {
     "data": {
      "text/html": [
       "<dt><a class=\"ProveItLink\" href=\"../../../../../../logic/equality/_theory_nbs_/axioms.ipynb#equality_in_bool\">proveit.logic.equality.equality_in_bool</a></dt><dd><a class=\"ProveItLink\" href=\"../../../../../../logic/equality/__pv_it/axioms/80c61ed0a9ea703286def3ed4e81641a1e239b430/expr.ipynb\"><img src=\"../../../../../../logic/equality/__pv_it/axioms/80c61ed0a9ea703286def3ed4e81641a1e239b430/expr.png\" style=\"display:inline;vertical-align:middle;\" /></a></dd>"
      ],
      "text/plain": [
       "<IPython.core.display.HTML object>"
      ]
     },
     "metadata": {},
     "output_type": "display_data"
    },
    {
     "data": {
      "text/html": [
       "<dt><a class=\"ProveItLink\" href=\"../../../../../../logic/equality/_theory_nbs_/axioms.ipynb#equals_reflexivity\">proveit.logic.equality.equals_reflexivity</a></dt><dd><a class=\"ProveItLink\" href=\"../../../../../../logic/equality/__pv_it/axioms/864f59d0e02493d4a93bdd8b5654226c327952290/expr.ipynb\"><img src=\"../../../../../../logic/equality/__pv_it/axioms/864f59d0e02493d4a93bdd8b5654226c327952290/expr.png\" style=\"display:inline;vertical-align:middle;\" /></a></dd>"
      ],
      "text/plain": [
       "<IPython.core.display.HTML object>"
      ]
     },
     "metadata": {},
     "output_type": "display_data"
    },
    {
     "data": {
      "text/html": [
       "<dt><a class=\"ProveItLink\" href=\"../../../../../../logic/equality/_theory_nbs_/axioms.ipynb#equals_symmetry\">proveit.logic.equality.equals_symmetry</a></dt><dd><a class=\"ProveItLink\" href=\"../../../../../../logic/equality/__pv_it/axioms/789c834568adff331f7b46a8f81cd1f96d48c8060/expr.ipynb\"><img src=\"../../../../../../logic/equality/__pv_it/axioms/789c834568adff331f7b46a8f81cd1f96d48c8060/expr.png\" style=\"display:inline;vertical-align:middle;\" /></a></dd>"
      ],
      "text/plain": [
       "<IPython.core.display.HTML object>"
      ]
     },
     "metadata": {},
     "output_type": "display_data"
    },
    {
     "data": {
      "text/html": [
       "<dt><a class=\"ProveItLink\" href=\"../../../../../../logic/equality/_theory_nbs_/axioms.ipynb#equals_transitivity\">proveit.logic.equality.equals_transitivity</a></dt><dd><a class=\"ProveItLink\" href=\"../../../../../../logic/equality/__pv_it/axioms/b5b3cf1e74e7e4fc2d5f197f08b661e6992950090/expr.ipynb\"><img src=\"../../../../../../logic/equality/__pv_it/axioms/b5b3cf1e74e7e4fc2d5f197f08b661e6992950090/expr.png\" style=\"display:inline;vertical-align:middle;\" /></a></dd>"
      ],
      "text/plain": [
       "<IPython.core.display.HTML object>"
      ]
     },
     "metadata": {},
     "output_type": "display_data"
    },
    {
     "data": {
      "text/html": [
       "<dt><a class=\"ProveItLink\" href=\"../../../../../../logic/equality/_theory_nbs_/axioms.ipynb#not_equals_def\">proveit.logic.equality.not_equals_def</a></dt><dd><a class=\"ProveItLink\" href=\"../../../../../../logic/equality/__pv_it/axioms/460c0757688de5036b09e198e4b33898716c95990/expr.ipynb\"><img src=\"../../../../../../logic/equality/__pv_it/axioms/460c0757688de5036b09e198e4b33898716c95990/expr.png\" style=\"display:inline;vertical-align:middle;\" /></a></dd>"
      ],
      "text/plain": [
       "<IPython.core.display.HTML object>"
      ]
     },
     "metadata": {},
     "output_type": "display_data"
    },
    {
     "data": {
      "text/html": [
       "<dt><a class=\"ProveItLink\" href=\"../../../../../../logic/equality/_theory_nbs_/axioms.ipynb#substitution\">proveit.logic.equality.substitution</a></dt><dd><a class=\"ProveItLink\" href=\"../../../../../../logic/equality/__pv_it/axioms/b3647e5bced6c805148d96be1aa0946871a946d20/expr.ipynb\"><img src=\"../../../../../../logic/equality/__pv_it/axioms/b3647e5bced6c805148d96be1aa0946871a946d20/expr.png\" style=\"display:inline;vertical-align:middle;\" /></a></dd>"
      ],
      "text/plain": [
       "<IPython.core.display.HTML object>"
      ]
     },
     "metadata": {},
     "output_type": "display_data"
    },
    {
     "data": {
      "text/html": [
       "<dt><a class=\"ProveItLink\" href=\"../../../../../../logic/sets/enumeration/_theory_nbs_/axioms.ipynb#enum_set_def\">proveit.logic.sets.enumeration.enum_set_def</a></dt><dd><a class=\"ProveItLink\" href=\"../../../../../../logic/sets/enumeration/__pv_it/axioms/6fb4ff7ba9c954a5bc3bf9289224108e230746630/expr.ipynb\"><img src=\"../../../../../../logic/sets/enumeration/__pv_it/axioms/6fb4ff7ba9c954a5bc3bf9289224108e230746630/expr.png\" style=\"display:inline;vertical-align:middle;\" /></a></dd>"
      ],
      "text/plain": [
       "<IPython.core.display.HTML object>"
      ]
     },
     "metadata": {},
     "output_type": "display_data"
    },
    {
     "data": {
      "text/html": [
       "<dt><a class=\"ProveItLink\" href=\"../../../../../../logic/sets/inclusion/_theory_nbs_/axioms.ipynb#proper_subset_def\">proveit.logic.sets.inclusion.proper_subset_def</a></dt><dd><a class=\"ProveItLink\" href=\"../../../../../../logic/sets/inclusion/__pv_it/axioms/62d68349fdc6e5e10115b34eb80d97b83bd304d20/expr.ipynb\"><img src=\"../../../../../../logic/sets/inclusion/__pv_it/axioms/62d68349fdc6e5e10115b34eb80d97b83bd304d20/expr.png\" style=\"display:inline;vertical-align:middle;\" /></a></dd>"
      ],
      "text/plain": [
       "<IPython.core.display.HTML object>"
      ]
     },
     "metadata": {},
     "output_type": "display_data"
    },
    {
     "data": {
      "text/html": [
       "<dt><a class=\"ProveItLink\" href=\"../../../../../../logic/sets/inclusion/_theory_nbs_/axioms.ipynb#subset_eq_def\">proveit.logic.sets.inclusion.subset_eq_def</a></dt><dd><a class=\"ProveItLink\" href=\"../../../../../../logic/sets/inclusion/__pv_it/axioms/0a73f44893619de306ad70c8de110c34b161d8b90/expr.ipynb\"><img src=\"../../../../../../logic/sets/inclusion/__pv_it/axioms/0a73f44893619de306ad70c8de110c34b161d8b90/expr.png\" style=\"display:inline;vertical-align:middle;\" /></a></dd>"
      ],
      "text/plain": [
       "<IPython.core.display.HTML object>"
      ]
     },
     "metadata": {},
     "output_type": "display_data"
    },
    {
     "data": {
      "text/html": [
       "<dt><a class=\"ProveItLink\" href=\"../../../../../../logic/sets/membership/_theory_nbs_/axioms.ipynb#not_in_set_def\">proveit.logic.sets.membership.not_in_set_def</a></dt><dd><a class=\"ProveItLink\" href=\"../../../../../../logic/sets/membership/__pv_it/axioms/0592f2e31092a6f12b70ad6e1b04d96f0a4266170/expr.ipynb\"><img src=\"../../../../../../logic/sets/membership/__pv_it/axioms/0592f2e31092a6f12b70ad6e1b04d96f0a4266170/expr.png\" style=\"display:inline;vertical-align:middle;\" /></a></dd>"
      ],
      "text/plain": [
       "<IPython.core.display.HTML object>"
      ]
     },
     "metadata": {},
     "output_type": "display_data"
    },
    {
     "data": {
      "text/html": [
       "<dt><a class=\"ProveItLink\" href=\"../../../../../../numbers/number_sets/natural_numbers/_theory_nbs_/axioms.ipynb#successor_in_nats\">proveit.numbers.number_sets.natural_numbers.successor_in_nats</a></dt><dd><a class=\"ProveItLink\" href=\"../../../../../../numbers/number_sets/natural_numbers/__pv_it/axioms/a3ae0a8e821daec9b64e4404a6b570bcd10c30650/expr.ipynb\"><img src=\"../../../../../../numbers/number_sets/natural_numbers/__pv_it/axioms/a3ae0a8e821daec9b64e4404a6b570bcd10c30650/expr.png\" style=\"display:inline;vertical-align:middle;\" /></a></dd>"
      ],
      "text/plain": [
       "<IPython.core.display.HTML object>"
      ]
     },
     "metadata": {},
     "output_type": "display_data"
    },
    {
     "data": {
      "text/html": [
       "<dt><a class=\"ProveItLink\" href=\"../../../../../../numbers/number_sets/natural_numbers/_theory_nbs_/axioms.ipynb#zero_in_nats\">proveit.numbers.number_sets.natural_numbers.zero_in_nats</a></dt><dd><a class=\"ProveItLink\" href=\"../../../../../../numbers/number_sets/natural_numbers/__pv_it/axioms/6bc27fa16ea1c04bf3d4c776d5c721085150bfa20/expr.ipynb\"><img src=\"../../../../../../numbers/number_sets/natural_numbers/__pv_it/axioms/6bc27fa16ea1c04bf3d4c776d5c721085150bfa20/expr.png\" style=\"display:inline;vertical-align:middle;\" /></a></dd>"
      ],
      "text/plain": [
       "<IPython.core.display.HTML object>"
      ]
     },
     "metadata": {},
     "output_type": "display_data"
    },
    {
     "data": {
      "text/html": [
       "<dt><a class=\"ProveItLink\" href=\"../../../../../../numbers/numerals/decimals/_theory_nbs_/axioms.ipynb#one_def\">proveit.numbers.numerals.decimals.one_def</a></dt><dd><a class=\"ProveItLink\" href=\"../../../../../../numbers/numerals/decimals/__pv_it/axioms/2ccccb8b1272c6c33b2e567a94aa7d476677c2ba0/expr.ipynb\"><img src=\"../../../../../../numbers/numerals/decimals/__pv_it/axioms/2ccccb8b1272c6c33b2e567a94aa7d476677c2ba0/expr.png\" style=\"display:inline;vertical-align:middle;\" /></a></dd>"
      ],
      "text/plain": [
       "<IPython.core.display.HTML object>"
      ]
     },
     "metadata": {},
     "output_type": "display_data"
    },
    {
     "data": {
      "text/html": [
       "<dt><a class=\"ProveItLink\" href=\"../../../../../../numbers/ordering/_theory_nbs_/axioms.ipynb#less_eq_def\">proveit.numbers.ordering.less_eq_def</a></dt><dd><a class=\"ProveItLink\" href=\"../../../../../../numbers/ordering/__pv_it/axioms/77d6ff7c532a194c5fae4b1c6707b9c6decf64260/expr.ipynb\"><img src=\"../../../../../../numbers/ordering/__pv_it/axioms/77d6ff7c532a194c5fae4b1c6707b9c6decf64260/expr.png\" style=\"display:inline;vertical-align:middle;\" /></a></dd>"
      ],
      "text/plain": [
       "<IPython.core.display.HTML object>"
      ]
     },
     "metadata": {},
     "output_type": "display_data"
    },
    {
     "data": {
      "text/html": [
       "<dt><a class=\"ProveItLink\" href=\"../../../../../../numbers/ordering/_theory_nbs_/axioms.ipynb#transitivity_less_less\">proveit.numbers.ordering.transitivity_less_less</a></dt><dd><a class=\"ProveItLink\" href=\"../../../../../../numbers/ordering/__pv_it/axioms/5b78a7ab6ba3fa1d1e3ffb772b8741309cc27b2a0/expr.ipynb\"><img src=\"../../../../../../numbers/ordering/__pv_it/axioms/5b78a7ab6ba3fa1d1e3ffb772b8741309cc27b2a0/expr.png\" style=\"display:inline;vertical-align:middle;\" /></a></dd>"
      ],
      "text/plain": [
       "<IPython.core.display.HTML object>"
      ]
     },
     "metadata": {},
     "output_type": "display_data"
    },
    {
     "data": {
      "text/html": [
       "<dt><a class=\"ProveItLink\" href=\"../../../../../../numbers/rounding/_theory_nbs_/axioms.ipynb#floor_is_an_int\">proveit.numbers.rounding.floor_is_an_int</a></dt><dd><a class=\"ProveItLink\" href=\"../../../../../../numbers/rounding/__pv_it/axioms/ef4a67e9ee571b0eb9e3e2cb5f0ed83035f4ae030/expr.ipynb\"><img src=\"../../../../../../numbers/rounding/__pv_it/axioms/ef4a67e9ee571b0eb9e3e2cb5f0ed83035f4ae030/expr.png\" style=\"display:inline;vertical-align:middle;\" /></a></dd>"
      ],
      "text/plain": [
       "<IPython.core.display.HTML object>"
      ]
     },
     "metadata": {},
     "output_type": "display_data"
    },
    {
     "data": {
      "text/html": [
       "<dt><a class=\"ProveItLink\" href=\"../../../../../../numbers/rounding/_theory_nbs_/axioms.ipynb#floor_of_x_less_eq_x\">proveit.numbers.rounding.floor_of_x_less_eq_x</a></dt><dd><a class=\"ProveItLink\" href=\"../../../../../../numbers/rounding/__pv_it/axioms/c68b5cfacaa00a4f0a64b832bc3c745ba71851820/expr.ipynb\"><img src=\"../../../../../../numbers/rounding/__pv_it/axioms/c68b5cfacaa00a4f0a64b832bc3c745ba71851820/expr.png\" style=\"display:inline;vertical-align:middle;\" /></a></dd>"
      ],
      "text/plain": [
       "<IPython.core.display.HTML object>"
      ]
     },
     "metadata": {},
     "output_type": "display_data"
    },
    {
     "data": {
      "text/html": [
       "<dt><a class=\"ProveItLink\" href=\"../../../../../../numbers/rounding/_theory_nbs_/axioms.ipynb#round_is_an_int\">proveit.numbers.rounding.round_is_an_int</a></dt><dd><a class=\"ProveItLink\" href=\"../../../../../../numbers/rounding/__pv_it/axioms/7e9ffadf6c95626d0d18d18d4e0a54f55a70f30d0/expr.ipynb\"><img src=\"../../../../../../numbers/rounding/__pv_it/axioms/7e9ffadf6c95626d0d18d18d4e0a54f55a70f30d0/expr.png\" style=\"display:inline;vertical-align:middle;\" /></a></dd>"
      ],
      "text/plain": [
       "<IPython.core.display.HTML object>"
      ]
     },
     "metadata": {},
     "output_type": "display_data"
    },
    {
     "data": {
      "text/html": [
       "<dt><a class=\"ProveItLink\" href=\"../../../_theory_nbs_/axioms.ipynb#_phase_in_interval\">proveit.physics.quantum.QPE._phase_in_interval</a></dt><dd><a class=\"ProveItLink\" href=\"../../axioms/90ad83733d1e3e414be95a70e25c2d5e068a872e0/expr.ipynb\"><img src=\"../../axioms/90ad83733d1e3e414be95a70e25c2d5e068a872e0/expr.png\" style=\"display:inline;vertical-align:middle;\" /></a></dd>"
      ],
      "text/plain": [
       "<IPython.core.display.HTML object>"
      ]
     },
     "metadata": {},
     "output_type": "display_data"
    },
    {
     "data": {
      "text/html": [
       "<dt><a class=\"ProveItLink\" href=\"../../../_theory_nbs_/axioms.ipynb#_t_in_natural_pos\">proveit.physics.quantum.QPE._t_in_natural_pos</a></dt><dd><a class=\"ProveItLink\" href=\"../../axioms/43c5ca85739dab0e5d869af8d9f6b96cb94286c70/expr.ipynb\"><img src=\"../../axioms/43c5ca85739dab0e5d869af8d9f6b96cb94286c70/expr.png\" style=\"display:inline;vertical-align:middle;\" /></a></dd>"
      ],
      "text/plain": [
       "<IPython.core.display.HTML object>"
      ]
     },
     "metadata": {},
     "output_type": "display_data"
    },
    {
     "data": {
      "text/html": [
       "</dl>"
      ],
      "text/plain": [
       "<IPython.core.display.HTML object>"
      ]
     },
     "metadata": {},
     "output_type": "display_data"
    },
    {
     "data": {
      "text/html": [
       "<h3>Conservative definitions used (but not logically required) to prove _scaled_abs_delta_b_floor_diff_interval</h3>"
      ],
      "text/plain": [
       "<IPython.core.display.HTML object>"
      ]
     },
     "metadata": {},
     "output_type": "display_data"
    },
    {
     "data": {
      "text/html": [
       "<dl>"
      ],
      "text/plain": [
       "<IPython.core.display.HTML object>"
      ]
     },
     "metadata": {},
     "output_type": "display_data"
    },
    {
     "data": {
      "text/html": [
       "<dt><a class=\"ProveItLink\" href=\"../../../_theory_nbs_/axioms.ipynb#_best_floor_def\">proveit.physics.quantum.QPE._best_floor_def</a></dt><dd><a class=\"ProveItLink\" href=\"../../axioms/0e82dd42d26199effba99054b273dc7d693606b30/expr.ipynb\"><img src=\"../../axioms/0e82dd42d26199effba99054b273dc7d693606b30/expr.png\" style=\"display:inline;vertical-align:middle;\" /></a></dd>"
      ],
      "text/plain": [
       "<IPython.core.display.HTML object>"
      ]
     },
     "metadata": {},
     "output_type": "display_data"
    },
    {
     "data": {
      "text/html": [
       "<dt><a class=\"ProveItLink\" href=\"../../../_theory_nbs_/axioms.ipynb#_best_round_def\">proveit.physics.quantum.QPE._best_round_def</a></dt><dd><a class=\"ProveItLink\" href=\"../../axioms/f4e6a6731694d0ecfec6206c9173d43fddce15d70/expr.ipynb\"><img src=\"../../axioms/f4e6a6731694d0ecfec6206c9173d43fddce15d70/expr.png\" style=\"display:inline;vertical-align:middle;\" /></a></dd>"
      ],
      "text/plain": [
       "<IPython.core.display.HTML object>"
      ]
     },
     "metadata": {},
     "output_type": "display_data"
    },
    {
     "data": {
      "text/html": [
       "<dt><a class=\"ProveItLink\" href=\"../../../_theory_nbs_/axioms.ipynb#_delta_b_def\">proveit.physics.quantum.QPE._delta_b_def</a></dt><dd><a class=\"ProveItLink\" href=\"../../axioms/9c6dd005645132e987ea00ed0bf076438075b1060/expr.ipynb\"><img src=\"../../axioms/9c6dd005645132e987ea00ed0bf076438075b1060/expr.png\" style=\"display:inline;vertical-align:middle;\" /></a></dd>"
      ],
      "text/plain": [
       "<IPython.core.display.HTML object>"
      ]
     },
     "metadata": {},
     "output_type": "display_data"
    },
    {
     "data": {
      "text/html": [
       "</dl>"
      ],
      "text/plain": [
       "<IPython.core.display.HTML object>"
      ]
     },
     "metadata": {},
     "output_type": "display_data"
    },
    {
     "data": {
      "text/html": [
       "<h3>Theorems/conjectures that depend directly on _scaled_abs_delta_b_floor_diff_interval</h3>"
      ],
      "text/plain": [
       "<IPython.core.display.HTML object>"
      ]
     },
     "metadata": {},
     "output_type": "display_data"
    },
    {
     "data": {
      "text/html": [
       "<dl>"
      ],
      "text/plain": [
       "<IPython.core.display.HTML object>"
      ]
     },
     "metadata": {},
     "output_type": "display_data"
    },
    {
     "data": {
      "text/html": [
       "<dt><a class=\"ProveItLink\" href=\"../../../_theory_nbs_/proofs/_alpha_sqrd_upper_bound/thm_proof.ipynb\">proveit.physics.quantum.QPE._alpha_sqrd_upper_bound</a></dt><dd><a class=\"ProveItLink\" href=\"../0b3eba5ca847f08e50140ba829579012a6dbee220/expr.ipynb\"><img src=\"../0b3eba5ca847f08e50140ba829579012a6dbee220/expr.png\" style=\"display:inline;vertical-align:middle;\" /></a></dd>"
      ],
      "text/plain": [
       "<IPython.core.display.HTML object>"
      ]
     },
     "metadata": {},
     "output_type": "display_data"
    },
    {
     "data": {
      "text/html": [
       "</dl>"
      ],
      "text/plain": [
       "<IPython.core.display.HTML object>"
      ]
     },
     "metadata": {},
     "output_type": "display_data"
    }
   ],
   "source": [
    "%dependencies _scaled_abs_delta_b_floor_diff_interval"
   ]
  }
 ],
 "metadata": {
  "kernelspec": {
   "display_name": "Python 3",
   "language": "python",
   "name": "python3"
  }
 },
 "nbformat": 4,
 "nbformat_minor": 0
}