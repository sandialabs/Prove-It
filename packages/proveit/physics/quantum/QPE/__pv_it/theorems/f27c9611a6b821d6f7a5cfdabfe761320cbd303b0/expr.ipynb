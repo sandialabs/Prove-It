{
 "cells": [
  {
   "cell_type": "markdown",
   "metadata": {},
   "source": [
    "Expression of type <a class=\"ProveItLink\" href=\"../../../../../../../../doc/html/api/proveit.ExprTuple.html\">ExprTuple</a>\n",
    "=======================\n",
    "# from the theory of <a class=\"ProveItLink\" href=\"../../../_theory_nbs_/theory.ipynb\">proveit.physics.quantum.QPE</a>"
   ]
  },
  {
   "cell_type": "code",
   "execution_count": 1,
   "metadata": {},
   "outputs": [],
   "source": [
    "import proveit\n",
    "# Automation is not needed when building an expression:\n",
    "proveit.defaults.automation = False # This will speed things up.\n",
    "proveit.defaults.inline_pngs = False # Makes files smaller.\n",
    "%load_expr # Load the stored expression as 'stored_expr'\n",
    "# import Expression classes needed to build the expression\n",
    "from proveit import ExprTuple, l\n",
    "from proveit.numbers import Abs, Exp, Sum, two\n",
    "from proveit.physics.quantum.QPE import _neg_domain, _pos_domain, _rel_indexed_alpha"
   ]
  },
  {
   "cell_type": "code",
   "execution_count": 2,
   "metadata": {},
   "outputs": [
    {
     "data": {
      "text/html": [
       "<strong id=\"expr\">expr:</strong> <a class=\"ProveItLink\" href=\"expr.ipynb\"><img src=\"expr.png\" style=\"display:inline;vertical-align:middle;\" /></a><br>"
      ],
      "text/plain": [
       "<IPython.core.display.HTML object>"
      ]
     },
     "metadata": {},
     "output_type": "display_data"
    }
   ],
   "source": [
    "# build up the expression from sub-expressions\n",
    "sub_expr1 = [l]\n",
    "sub_expr2 = Exp(Abs(_rel_indexed_alpha), two)\n",
    "expr = ExprTuple(Sum(index_or_indices = sub_expr1, summand = sub_expr2, domain = _neg_domain), Sum(index_or_indices = sub_expr1, summand = sub_expr2, domain = _pos_domain))"
   ]
  },
  {
   "cell_type": "code",
   "execution_count": 3,
   "metadata": {},
   "outputs": [
    {
     "name": "stdout",
     "output_type": "stream",
     "text": [
      "Passed sanity check: expr matches stored_expr\n"
     ]
    }
   ],
   "source": [
    "# check that the built expression is the same as the stored expression\n",
    "assert expr == stored_expr\n",
    "assert expr._style_id == stored_expr._style_id\n",
    "print(\"Passed sanity check: expr matches stored_expr\")"
   ]
  },
  {
   "cell_type": "code",
   "execution_count": 4,
   "metadata": {},
   "outputs": [
    {
     "name": "stdout",
     "output_type": "stream",
     "text": [
      "\\left(\\sum_{l = -2^{t - 1} + 1}^{-\\left(e + 1\\right)} \\left|\\alpha_{b_{\\textit{f}} \\oplus l}\\right|^{2}, \\sum_{l = e + 1}^{2^{t - 1}} \\left|\\alpha_{b_{\\textit{f}} \\oplus l}\\right|^{2}\\right)\n"
     ]
    }
   ],
   "source": [
    "# Show the LaTeX representation of the expression for convenience if you need it.\n",
    "print(stored_expr.latex())"
   ]
  },
  {
   "cell_type": "code",
   "execution_count": 5,
   "metadata": {},
   "outputs": [
    {
     "data": {
      "text/html": [
       "<table>\n",
       "<tr><th>name</th><th>description</th><th>default</th><th>current value</th><th>related methods</th></tr><tr><td>wrap_positions</td><td>position(s) at which wrapping is to occur; 'n' is after the nth comma.</td><td>()</td><td>()</td><td>('with_wrapping_at',)</td></tr>\n",
       "<tr><td>justification</td><td>if any wrap positions are set, justify to the 'left', 'center', or 'right'</td><td>left</td><td>left</td><td>('with_justification',)</td></tr>\n",
       "</table>\n"
      ],
      "text/plain": [
       "style name: wrap_positions\n",
       "description: position(s) at which wrapping is to occur; 'n' is after the nth comma.\n",
       "default: ()\n",
       "current value: ()\n",
       "related methods: ('with_wrapping_at',)\n",
       "style name: justification\n",
       "description: if any wrap positions are set, justify to the 'left', 'center', or 'right'\n",
       "default: left\n",
       "current value: left\n",
       "related methods: ('with_justification',)"
      ]
     },
     "metadata": {},
     "output_type": "display_data"
    }
   ],
   "source": [
    "stored_expr.style_options()"
   ]
  },
  {
   "cell_type": "code",
   "execution_count": 6,
   "metadata": {},
   "outputs": [
    {
     "data": {
      "text/html": [
       "<table><tr><th>&nbsp;</th><th>core type</th><th>sub-expressions</th><th>expression</th></tr>\n",
       "<tr><td>0</td><td>ExprTuple</td><td>1, 2</td><td><a class=\"ProveItLink\" href=\"expr.ipynb\"><img src=\"expr.png\" style=\"display:inline;vertical-align:middle;\" /></a></td></tr>\n",
       "<tr><td>1</td><td>Operation</td><td>operator:&nbsp;4<br>operand:&nbsp;6<br></td><td><a class=\"ProveItLink\" href=\"../480b4d271b6fc83d017f921cc72bc4b431c655fa0/expr.ipynb\"><img src=\"../480b4d271b6fc83d017f921cc72bc4b431c655fa0/expr.png\" style=\"display:inline;vertical-align:middle;\" /></a></td></tr>\n",
       "<tr><td>2</td><td>Operation</td><td>operator:&nbsp;4<br>operand:&nbsp;7<br></td><td><a class=\"ProveItLink\" href=\"../badd73e4a913d04b044b1dcec87c32c5cdf7afcf0/expr.ipynb\"><img src=\"../badd73e4a913d04b044b1dcec87c32c5cdf7afcf0/expr.png\" style=\"display:inline;vertical-align:middle;\" /></a></td></tr>\n",
       "<tr><td>3</td><td>ExprTuple</td><td>6</td><td><a class=\"ProveItLink\" href=\"../1ee2252050449c98365ec66dce53a1fa705893f80/expr.ipynb\"><img src=\"../1ee2252050449c98365ec66dce53a1fa705893f80/expr.png\" style=\"display:inline;vertical-align:middle;\" /></a></td></tr>\n",
       "<tr><td>4</td><td>Literal</td><td></td><td><a class=\"ProveItLink\" href=\"../../../../../../numbers/summation/__pv_it/common/14fe61cccc388f91dfd83d3ca31cf27448cc070a0/expr.ipynb\"><img src=\"../../../../../../numbers/summation/__pv_it/common/14fe61cccc388f91dfd83d3ca31cf27448cc070a0/expr.png\" style=\"display:inline;vertical-align:middle;\" /></a></td></tr>\n",
       "<tr><td>5</td><td>ExprTuple</td><td>7</td><td><a class=\"ProveItLink\" href=\"../70813fc1fa3e4acf3bcedf4e9b169633ab78fab50/expr.ipynb\"><img src=\"../70813fc1fa3e4acf3bcedf4e9b169633ab78fab50/expr.png\" style=\"display:inline;vertical-align:middle;\" /></a></td></tr>\n",
       "<tr><td>6</td><td>Lambda</td><td>parameter:&nbsp;43<br>body:&nbsp;8<br></td><td><a class=\"ProveItLink\" href=\"../bbac2f27cdc3f41a0ba4f6e49c9124109b995b980/expr.ipynb\"><img src=\"../bbac2f27cdc3f41a0ba4f6e49c9124109b995b980/expr.png\" style=\"display:inline;vertical-align:middle;\" /></a></td></tr>\n",
       "<tr><td>7</td><td>Lambda</td><td>parameter:&nbsp;43<br>body:&nbsp;10<br></td><td><a class=\"ProveItLink\" href=\"../9c139ccc53a287d5b3e1d2c77d7edff7da78c1b40/expr.ipynb\"><img src=\"../9c139ccc53a287d5b3e1d2c77d7edff7da78c1b40/expr.png\" style=\"display:inline;vertical-align:middle;\" /></a></td></tr>\n",
       "<tr><td>8</td><td>Conditional</td><td>value:&nbsp;12<br>condition:&nbsp;11<br></td><td><a class=\"ProveItLink\" href=\"../70e2341919013ef1175589f2a5064856bf6dace70/expr.ipynb\"><img src=\"../70e2341919013ef1175589f2a5064856bf6dace70/expr.png\" style=\"display:inline;vertical-align:middle;\" /></a></td></tr>\n",
       "<tr><td>9</td><td>ExprTuple</td><td>43</td><td><a class=\"ProveItLink\" href=\"../../common/039a14dbb9d0bf99f342285bcbd227a70d804d7f0/expr.ipynb\"><img src=\"../../common/039a14dbb9d0bf99f342285bcbd227a70d804d7f0/expr.png\" style=\"display:inline;vertical-align:middle;\" /></a></td></tr>\n",
       "<tr><td>10</td><td>Conditional</td><td>value:&nbsp;12<br>condition:&nbsp;13<br></td><td><a class=\"ProveItLink\" href=\"../41180e706f66b37f020aada141059ba9365f296e0/expr.ipynb\"><img src=\"../41180e706f66b37f020aada141059ba9365f296e0/expr.png\" style=\"display:inline;vertical-align:middle;\" /></a></td></tr>\n",
       "<tr><td>11</td><td>Operation</td><td>operator:&nbsp;16<br>operands:&nbsp;14<br></td><td><a class=\"ProveItLink\" href=\"../bb8428576c5e9aef5059458d15ab082fff89783c0/expr.ipynb\"><img src=\"../bb8428576c5e9aef5059458d15ab082fff89783c0/expr.png\" style=\"display:inline;vertical-align:middle;\" /></a></td></tr>\n",
       "<tr><td>12</td><td>Operation</td><td>operator:&nbsp;44<br>operands:&nbsp;15<br></td><td><a class=\"ProveItLink\" href=\"../114e97ba41b7ebe501d69cd92150ee5d97c8dede0/expr.ipynb\"><img src=\"../114e97ba41b7ebe501d69cd92150ee5d97c8dede0/expr.png\" style=\"display:inline;vertical-align:middle;\" /></a></td></tr>\n",
       "<tr><td>13</td><td>Operation</td><td>operator:&nbsp;16<br>operands:&nbsp;17<br></td><td><a class=\"ProveItLink\" href=\"../f01e5817c994f42806cb80f31cb3ebf09f18f49a0/expr.ipynb\"><img src=\"../f01e5817c994f42806cb80f31cb3ebf09f18f49a0/expr.png\" style=\"display:inline;vertical-align:middle;\" /></a></td></tr>\n",
       "<tr><td>14</td><td>ExprTuple</td><td>43, 18</td><td><a class=\"ProveItLink\" href=\"../78ce6f6d075844dd86546d9d9bbfec2edd48881c0/expr.ipynb\"><img src=\"../78ce6f6d075844dd86546d9d9bbfec2edd48881c0/expr.png\" style=\"display:inline;vertical-align:middle;\" /></a></td></tr>\n",
       "<tr><td>15</td><td>ExprTuple</td><td>19, 46</td><td><a class=\"ProveItLink\" href=\"../f734d0c36d7f89081c30e0f1a3a93d4115ed98690/expr.ipynb\"><img src=\"../f734d0c36d7f89081c30e0f1a3a93d4115ed98690/expr.png\" style=\"display:inline;vertical-align:middle;\" /></a></td></tr>\n",
       "<tr><td>16</td><td>Literal</td><td></td><td><a class=\"ProveItLink\" href=\"../../../../../../logic/sets/membership/__pv_it/common/477487d8796864d23d5810f83761435f25167f690/expr.ipynb\"><img src=\"../../../../../../logic/sets/membership/__pv_it/common/477487d8796864d23d5810f83761435f25167f690/expr.png\" style=\"display:inline;vertical-align:middle;\" /></a></td></tr>\n",
       "<tr><td>17</td><td>ExprTuple</td><td>43, 20</td><td><a class=\"ProveItLink\" href=\"../d410774ce6b64ba9ca72fae83cf4785dabf8a2a00/expr.ipynb\"><img src=\"../d410774ce6b64ba9ca72fae83cf4785dabf8a2a00/expr.png\" style=\"display:inline;vertical-align:middle;\" /></a></td></tr>\n",
       "<tr><td>18</td><td>Operation</td><td>operator:&nbsp;24<br>operands:&nbsp;21<br></td><td><a class=\"ProveItLink\" href=\"../../common/11daab29f734f33d5a9a3b7497304dd7d5b19a6e0/expr.ipynb\"><img src=\"../../common/11daab29f734f33d5a9a3b7497304dd7d5b19a6e0/expr.png\" style=\"display:inline;vertical-align:middle;\" /></a></td></tr>\n",
       "<tr><td>19</td><td>Operation</td><td>operator:&nbsp;22<br>operand:&nbsp;28<br></td><td><a class=\"ProveItLink\" href=\"../545985cf79a3fa2371c1578ca9bf4b8bf6fe77be0/expr.ipynb\"><img src=\"../545985cf79a3fa2371c1578ca9bf4b8bf6fe77be0/expr.png\" style=\"display:inline;vertical-align:middle;\" /></a></td></tr>\n",
       "<tr><td>20</td><td>Operation</td><td>operator:&nbsp;24<br>operands:&nbsp;25<br></td><td><a class=\"ProveItLink\" href=\"../../common/4db769ffdec6eafe34439778c44590324f26a8890/expr.ipynb\"><img src=\"../../common/4db769ffdec6eafe34439778c44590324f26a8890/expr.png\" style=\"display:inline;vertical-align:middle;\" /></a></td></tr>\n",
       "<tr><td>21</td><td>ExprTuple</td><td>26, 27</td><td><a class=\"ProveItLink\" href=\"../../common/12ce02544b1471c5a8c1154726d6097707a659a20/expr.ipynb\"><img src=\"../../common/12ce02544b1471c5a8c1154726d6097707a659a20/expr.png\" style=\"display:inline;vertical-align:middle;\" /></a></td></tr>\n",
       "<tr><td>22</td><td>Literal</td><td></td><td><a class=\"ProveItLink\" href=\"../../../../../../numbers/absolute_value/__pv_it/common/eea56c667bc0aad2dc76ed04b44c2bd98b94005f0/expr.ipynb\"><img src=\"../../../../../../numbers/absolute_value/__pv_it/common/eea56c667bc0aad2dc76ed04b44c2bd98b94005f0/expr.png\" style=\"display:inline;vertical-align:middle;\" /></a></td></tr>\n",
       "<tr><td>23</td><td>ExprTuple</td><td>28</td><td><a class=\"ProveItLink\" href=\"../52ba0a07d876f9cf16c04d82b07062fd59b820600/expr.ipynb\"><img src=\"../52ba0a07d876f9cf16c04d82b07062fd59b820600/expr.png\" style=\"display:inline;vertical-align:middle;\" /></a></td></tr>\n",
       "<tr><td>24</td><td>Literal</td><td></td><td><a class=\"ProveItLink\" href=\"../../../../../../numbers/number_sets/integers/__pv_it/common/92f3a0a77e3c3ea8e4a5c8674edadc54e4f57d550/expr.ipynb\"><img src=\"../../../../../../numbers/number_sets/integers/__pv_it/common/92f3a0a77e3c3ea8e4a5c8674edadc54e4f57d550/expr.png\" style=\"display:inline;vertical-align:middle;\" /></a></td></tr>\n",
       "<tr><td>25</td><td>ExprTuple</td><td>34, 40</td><td><a class=\"ProveItLink\" href=\"../../common/ab510e3aad26b0bebbbc947f45cb01cceb8d99680/expr.ipynb\"><img src=\"../../common/ab510e3aad26b0bebbbc947f45cb01cceb8d99680/expr.png\" style=\"display:inline;vertical-align:middle;\" /></a></td></tr>\n",
       "<tr><td>26</td><td>Operation</td><td>operator:&nbsp;48<br>operands:&nbsp;29<br></td><td><a class=\"ProveItLink\" href=\"../../common/784dee04278eb5ffb26c65868b9ae69e9c68b9da0/expr.ipynb\"><img src=\"../../common/784dee04278eb5ffb26c65868b9ae69e9c68b9da0/expr.png\" style=\"display:inline;vertical-align:middle;\" /></a></td></tr>\n",
       "<tr><td>27</td><td>Operation</td><td>operator:&nbsp;52<br>operand:&nbsp;34<br></td><td><a class=\"ProveItLink\" href=\"../../common/fc88928b08a114ef2e12ee095c5cd52f956d6baa0/expr.ipynb\"><img src=\"../../common/fc88928b08a114ef2e12ee095c5cd52f956d6baa0/expr.png\" style=\"display:inline;vertical-align:middle;\" /></a></td></tr>\n",
       "<tr><td>28</td><td>Operation</td><td>operator:&nbsp;31<br>operand:&nbsp;35<br></td><td><a class=\"ProveItLink\" href=\"../../common/c1c01d0c1c3f41a0bb6658e5c1bf94153e91678b0/expr.ipynb\"><img src=\"../../common/c1c01d0c1c3f41a0bb6658e5c1bf94153e91678b0/expr.png\" style=\"display:inline;vertical-align:middle;\" /></a></td></tr>\n",
       "<tr><td>29</td><td>ExprTuple</td><td>33, 54</td><td><a class=\"ProveItLink\" href=\"../../common/e64ef65a3510605025876a1d1c5a986e5d683cfe0/expr.ipynb\"><img src=\"../../common/e64ef65a3510605025876a1d1c5a986e5d683cfe0/expr.png\" style=\"display:inline;vertical-align:middle;\" /></a></td></tr>\n",
       "<tr><td>30</td><td>ExprTuple</td><td>34</td><td><a class=\"ProveItLink\" href=\"../../common/39f476670c75059d11617688abbfcd319d601f440/expr.ipynb\"><img src=\"../../common/39f476670c75059d11617688abbfcd319d601f440/expr.png\" style=\"display:inline;vertical-align:middle;\" /></a></td></tr>\n",
       "<tr><td>31</td><td>Literal</td><td></td><td><a class=\"ProveItLink\" href=\"../../common/91bf0c8711f0cb198093da4362dda6021bfd02790/expr.ipynb\"><img src=\"../../common/91bf0c8711f0cb198093da4362dda6021bfd02790/expr.png\" style=\"display:inline;vertical-align:middle;\" /></a></td></tr>\n",
       "<tr><td>32</td><td>ExprTuple</td><td>35</td><td><a class=\"ProveItLink\" href=\"../../common/eb4c7fd3b2a9bb632e729438dfdf230dba69c8270/expr.ipynb\"><img src=\"../../common/eb4c7fd3b2a9bb632e729438dfdf230dba69c8270/expr.png\" style=\"display:inline;vertical-align:middle;\" /></a></td></tr>\n",
       "<tr><td>33</td><td>Operation</td><td>operator:&nbsp;52<br>operand:&nbsp;40<br></td><td><a class=\"ProveItLink\" href=\"../../common/91138182b232b0ec0bb7ca2f8cd7660c0c007ade0/expr.ipynb\"><img src=\"../../common/91138182b232b0ec0bb7ca2f8cd7660c0c007ade0/expr.png\" style=\"display:inline;vertical-align:middle;\" /></a></td></tr>\n",
       "<tr><td>34</td><td>Operation</td><td>operator:&nbsp;48<br>operands:&nbsp;37<br></td><td><a class=\"ProveItLink\" href=\"../../common/3b723d66956150d062bf1f9b39de5c57b551151f0/expr.ipynb\"><img src=\"../../common/3b723d66956150d062bf1f9b39de5c57b551151f0/expr.png\" style=\"display:inline;vertical-align:middle;\" /></a></td></tr>\n",
       "<tr><td>35</td><td>Operation</td><td>operator:&nbsp;38<br>operands:&nbsp;39<br></td><td><a class=\"ProveItLink\" href=\"../../common/c3b6eb4a46418dc7b0bba84727aa5841571a136b0/expr.ipynb\"><img src=\"../../common/c3b6eb4a46418dc7b0bba84727aa5841571a136b0/expr.png\" style=\"display:inline;vertical-align:middle;\" /></a></td></tr>\n",
       "<tr><td>36</td><td>ExprTuple</td><td>40</td><td><a class=\"ProveItLink\" href=\"../../common/4c8531de79cef652de4f930d734e1b924dea0f060/expr.ipynb\"><img src=\"../../common/4c8531de79cef652de4f930d734e1b924dea0f060/expr.png\" style=\"display:inline;vertical-align:middle;\" /></a></td></tr>\n",
       "<tr><td>37</td><td>ExprTuple</td><td>41, 54</td><td><a class=\"ProveItLink\" href=\"../../common/38ea3c183eb48205d4822d9dd38df5fc701f225e0/expr.ipynb\"><img src=\"../../common/38ea3c183eb48205d4822d9dd38df5fc701f225e0/expr.png\" style=\"display:inline;vertical-align:middle;\" /></a></td></tr>\n",
       "<tr><td>38</td><td>Literal</td><td></td><td><a class=\"ProveItLink\" href=\"../../common/46fa490f6e465244392ed9302eb003eb013bfffe0/expr.ipynb\"><img src=\"../../common/46fa490f6e465244392ed9302eb003eb013bfffe0/expr.png\" style=\"display:inline;vertical-align:middle;\" /></a></td></tr>\n",
       "<tr><td>39</td><td>ExprTuple</td><td>42, 43</td><td><a class=\"ProveItLink\" href=\"../../common/a8a3110823440c9a57213bf4ab2f8584d846c7f50/expr.ipynb\"><img src=\"../../common/a8a3110823440c9a57213bf4ab2f8584d846c7f50/expr.png\" style=\"display:inline;vertical-align:middle;\" /></a></td></tr>\n",
       "<tr><td>40</td><td>Operation</td><td>operator:&nbsp;44<br>operands:&nbsp;45<br></td><td><a class=\"ProveItLink\" href=\"../../common/c88f421c8948293a287b1527f87038636fb060100/expr.ipynb\"><img src=\"../../common/c88f421c8948293a287b1527f87038636fb060100/expr.png\" style=\"display:inline;vertical-align:middle;\" /></a></td></tr>\n",
       "<tr><td>41</td><td>Variable</td><td></td><td><a class=\"ProveItLink\" href=\"../../../../../../__pv_it/common/f3b2e5223a46d6d30e0676b70270e0fb96f45ce80/expr.ipynb\"><img src=\"../../../../../../__pv_it/common/f3b2e5223a46d6d30e0676b70270e0fb96f45ce80/expr.png\" style=\"display:inline;vertical-align:middle;\" /></a></td></tr>\n",
       "<tr><td>42</td><td>Literal</td><td></td><td><a class=\"ProveItLink\" href=\"../../common/d330793052bb239ae69702166b1d364acbd6f04c0/expr.ipynb\"><img src=\"../../common/d330793052bb239ae69702166b1d364acbd6f04c0/expr.png\" style=\"display:inline;vertical-align:middle;\" /></a></td></tr>\n",
       "<tr><td>43</td><td>Variable</td><td></td><td><a class=\"ProveItLink\" href=\"../../../../../../__pv_it/common/27cc275d44b4f4499fb9ccfb3fab1a98165d2fa60/expr.ipynb\"><img src=\"../../../../../../__pv_it/common/27cc275d44b4f4499fb9ccfb3fab1a98165d2fa60/expr.png\" style=\"display:inline;vertical-align:middle;\" /></a></td></tr>\n",
       "<tr><td>44</td><td>Literal</td><td></td><td><a class=\"ProveItLink\" href=\"../../../../../../numbers/exponentiation/__pv_it/common/0ac37aca1e54c35c5cda09672df32d4f69f1f3020/expr.ipynb\"><img src=\"../../../../../../numbers/exponentiation/__pv_it/common/0ac37aca1e54c35c5cda09672df32d4f69f1f3020/expr.png\" style=\"display:inline;vertical-align:middle;\" /></a></td></tr>\n",
       "<tr><td>45</td><td>ExprTuple</td><td>46, 47</td><td><a class=\"ProveItLink\" href=\"../../common/0fd4303d90d8f830fbb10e83cdadc1014dc0c7e50/expr.ipynb\"><img src=\"../../common/0fd4303d90d8f830fbb10e83cdadc1014dc0c7e50/expr.png\" style=\"display:inline;vertical-align:middle;\" /></a></td></tr>\n",
       "<tr><td>46</td><td>Literal</td><td></td><td><a class=\"ProveItLink\" href=\"../../../../../../numbers/numerals/__pv_it/common/af4aab8a07465db063742696e006d04670f30cf10/expr.ipynb\"><img src=\"../../../../../../numbers/numerals/__pv_it/common/af4aab8a07465db063742696e006d04670f30cf10/expr.png\" style=\"display:inline;vertical-align:middle;\" /></a></td></tr>\n",
       "<tr><td>47</td><td>Operation</td><td>operator:&nbsp;48<br>operands:&nbsp;49<br></td><td><a class=\"ProveItLink\" href=\"../../common/0ca28d9ff996a3862a4b8b87f5586f9edc717e8d0/expr.ipynb\"><img src=\"../../common/0ca28d9ff996a3862a4b8b87f5586f9edc717e8d0/expr.png\" style=\"display:inline;vertical-align:middle;\" /></a></td></tr>\n",
       "<tr><td>48</td><td>Literal</td><td></td><td><a class=\"ProveItLink\" href=\"../../../../../../numbers/addition/__pv_it/common/4b7effaab3619a1c2c38fe2dee8601df8ec714590/expr.ipynb\"><img src=\"../../../../../../numbers/addition/__pv_it/common/4b7effaab3619a1c2c38fe2dee8601df8ec714590/expr.png\" style=\"display:inline;vertical-align:middle;\" /></a></td></tr>\n",
       "<tr><td>49</td><td>ExprTuple</td><td>50, 51</td><td><a class=\"ProveItLink\" href=\"../../common/3d4ffcd7453a233f893c0f082066a2545b0987f70/expr.ipynb\"><img src=\"../../common/3d4ffcd7453a233f893c0f082066a2545b0987f70/expr.png\" style=\"display:inline;vertical-align:middle;\" /></a></td></tr>\n",
       "<tr><td>50</td><td>Literal</td><td></td><td><a class=\"ProveItLink\" href=\"../../common/977cc67717328e22c93f8ab84e6a45e8cadce7790/expr.ipynb\"><img src=\"../../common/977cc67717328e22c93f8ab84e6a45e8cadce7790/expr.png\" style=\"display:inline;vertical-align:middle;\" /></a></td></tr>\n",
       "<tr><td>51</td><td>Operation</td><td>operator:&nbsp;52<br>operand:&nbsp;54<br></td><td><a class=\"ProveItLink\" href=\"../../common/bf4beda21975fe8a0a5007615b5bcc943da59bb20/expr.ipynb\"><img src=\"../../common/bf4beda21975fe8a0a5007615b5bcc943da59bb20/expr.png\" style=\"display:inline;vertical-align:middle;\" /></a></td></tr>\n",
       "<tr><td>52</td><td>Literal</td><td></td><td><a class=\"ProveItLink\" href=\"../../../../../../numbers/negation/__pv_it/common/221b3c4d1770ee9051b7c044c3f9ec61196fc34b0/expr.ipynb\"><img src=\"../../../../../../numbers/negation/__pv_it/common/221b3c4d1770ee9051b7c044c3f9ec61196fc34b0/expr.png\" style=\"display:inline;vertical-align:middle;\" /></a></td></tr>\n",
       "<tr><td>53</td><td>ExprTuple</td><td>54</td><td><a class=\"ProveItLink\" href=\"../../../../__pv_it/common/b9e4f0dffece176bbe2f36127440684a20e0468e0/expr.ipynb\"><img src=\"../../../../__pv_it/common/b9e4f0dffece176bbe2f36127440684a20e0468e0/expr.png\" style=\"display:inline;vertical-align:middle;\" /></a></td></tr>\n",
       "<tr><td>54</td><td>Literal</td><td></td><td><a class=\"ProveItLink\" href=\"../../../../../../numbers/numerals/__pv_it/common/682157d4892d216d9e5626ed533aff9b56b9506e0/expr.ipynb\"><img src=\"../../../../../../numbers/numerals/__pv_it/common/682157d4892d216d9e5626ed533aff9b56b9506e0/expr.png\" style=\"display:inline;vertical-align:middle;\" /></a></td></tr>\n",
       "</table>\n"
      ],
      "text/plain": [
       "0. (Sum_{l = -2^{t - 1} + 1}^{-(e + 1)} |alpha_{b_{f} MOD_ADD l}|^{2}, Sum_{l = e + 1}^{2^{t - 1}} |alpha_{b_{f} MOD_ADD l}|^{2})\n",
       "   core type: ExprTuple\n",
       "   sub-expressions: 1, 2\n",
       "1. Sum_{l = -2^{t - 1} + 1}^{-(e + 1)} |alpha_{b_{f} MOD_ADD l}|^{2}\n",
       "   core type: Operation\n",
       "   operator: 4\n",
       "   operand: 6\n",
       "2. Sum_{l = e + 1}^{2^{t - 1}} |alpha_{b_{f} MOD_ADD l}|^{2}\n",
       "   core type: Operation\n",
       "   operator: 4\n",
       "   operand: 7\n",
       "3. (l -> {|alpha_{b_{f} MOD_ADD l}|^{2} if l in {-2^{t - 1} + 1 .. -(e + 1)}.)\n",
       "   core type: ExprTuple\n",
       "   sub-expressions: 6\n",
       "4. Sum\n",
       "   core type: Literal\n",
       "   sub-expressions: \n",
       "5. (l -> {|alpha_{b_{f} MOD_ADD l}|^{2} if l in {e + 1 .. 2^{t - 1}}.)\n",
       "   core type: ExprTuple\n",
       "   sub-expressions: 7\n",
       "6. l -> {|alpha_{b_{f} MOD_ADD l}|^{2} if l in {-2^{t - 1} + 1 .. -(e + 1)}.\n",
       "   core type: Lambda\n",
       "   parameter: 43\n",
       "   body: 8\n",
       "7. l -> {|alpha_{b_{f} MOD_ADD l}|^{2} if l in {e + 1 .. 2^{t - 1}}.\n",
       "   core type: Lambda\n",
       "   parameter: 43\n",
       "   body: 10\n",
       "8. {|alpha_{b_{f} MOD_ADD l}|^{2} if l in {-2^{t - 1} + 1 .. -(e + 1)}.\n",
       "   core type: Conditional\n",
       "   value: 12\n",
       "   condition: 11\n",
       "9. (l)\n",
       "   core type: ExprTuple\n",
       "   sub-expressions: 43\n",
       "10. {|alpha_{b_{f} MOD_ADD l}|^{2} if l in {e + 1 .. 2^{t - 1}}.\n",
       "    core type: Conditional\n",
       "    value: 12\n",
       "    condition: 13\n",
       "11. l in {-2^{t - 1} + 1 .. -(e + 1)}\n",
       "    core type: Operation\n",
       "    operator: 16\n",
       "    operands: 14\n",
       "12. |alpha_{b_{f} MOD_ADD l}|^{2}\n",
       "    core type: Operation\n",
       "    operator: 44\n",
       "    operands: 15\n",
       "13. l in {e + 1 .. 2^{t - 1}}\n",
       "    core type: Operation\n",
       "    operator: 16\n",
       "    operands: 17\n",
       "14. (l, {-2^{t - 1} + 1 .. -(e + 1)})\n",
       "    core type: ExprTuple\n",
       "    sub-expressions: 43, 18\n",
       "15. (|alpha_{b_{f} MOD_ADD l}|, 2)\n",
       "    core type: ExprTuple\n",
       "    sub-expressions: 19, 46\n",
       "16. in\n",
       "    core type: Literal\n",
       "    sub-expressions: \n",
       "17. (l, {e + 1 .. 2^{t - 1}})\n",
       "    core type: ExprTuple\n",
       "    sub-expressions: 43, 20\n",
       "18. {-2^{t - 1} + 1 .. -(e + 1)}\n",
       "    core type: Operation\n",
       "    operator: 24\n",
       "    operands: 21\n",
       "19. |alpha_{b_{f} MOD_ADD l}|\n",
       "    core type: Operation\n",
       "    operator: 22\n",
       "    operand: 28\n",
       "20. {e + 1 .. 2^{t - 1}}\n",
       "    core type: Operation\n",
       "    operator: 24\n",
       "    operands: 25\n",
       "21. (-2^{t - 1} + 1, -(e + 1))\n",
       "    core type: ExprTuple\n",
       "    sub-expressions: 26, 27\n",
       "22. Abs\n",
       "    core type: Literal\n",
       "    sub-expressions: \n",
       "23. (alpha_{b_{f} MOD_ADD l})\n",
       "    core type: ExprTuple\n",
       "    sub-expressions: 28\n",
       "24. Interval\n",
       "    core type: Literal\n",
       "    sub-expressions: \n",
       "25. (e + 1, 2^{t - 1})\n",
       "    core type: ExprTuple\n",
       "    sub-expressions: 34, 40\n",
       "26. -2^{t - 1} + 1\n",
       "    core type: Operation\n",
       "    operator: 48\n",
       "    operands: 29\n",
       "27. -(e + 1)\n",
       "    core type: Operation\n",
       "    operator: 52\n",
       "    operand: 34\n",
       "28. alpha_{b_{f} MOD_ADD l}\n",
       "    core type: Operation\n",
       "    operator: 31\n",
       "    operand: 35\n",
       "29. (-2^{t - 1}, 1)\n",
       "    core type: ExprTuple\n",
       "    sub-expressions: 33, 54\n",
       "30. (e + 1)\n",
       "    core type: ExprTuple\n",
       "    sub-expressions: 34\n",
       "31. alpha\n",
       "    core type: Literal\n",
       "    sub-expressions: \n",
       "32. (b_{f} MOD_ADD l)\n",
       "    core type: ExprTuple\n",
       "    sub-expressions: 35\n",
       "33. -2^{t - 1}\n",
       "    core type: Operation\n",
       "    operator: 52\n",
       "    operand: 40\n",
       "34. e + 1\n",
       "    core type: Operation\n",
       "    operator: 48\n",
       "    operands: 37\n",
       "35. b_{f} MOD_ADD l\n",
       "    core type: Operation\n",
       "    operator: 38\n",
       "    operands: 39\n",
       "36. (2^{t - 1})\n",
       "    core type: ExprTuple\n",
       "    sub-expressions: 40\n",
       "37. (e, 1)\n",
       "    core type: ExprTuple\n",
       "    sub-expressions: 41, 54\n",
       "38. MOD_ADD\n",
       "    core type: Literal\n",
       "    sub-expressions: \n",
       "39. (b_{f}, l)\n",
       "    core type: ExprTuple\n",
       "    sub-expressions: 42, 43\n",
       "40. 2^{t - 1}\n",
       "    core type: Operation\n",
       "    operator: 44\n",
       "    operands: 45\n",
       "41. e\n",
       "    core type: Variable\n",
       "    sub-expressions: \n",
       "42. b_{f}\n",
       "    core type: Literal\n",
       "    sub-expressions: \n",
       "43. l\n",
       "    core type: Variable\n",
       "    sub-expressions: \n",
       "44. Exp\n",
       "    core type: Literal\n",
       "    sub-expressions: \n",
       "45. (2, t - 1)\n",
       "    core type: ExprTuple\n",
       "    sub-expressions: 46, 47\n",
       "46. 2\n",
       "    core type: Literal\n",
       "    sub-expressions: \n",
       "47. t - 1\n",
       "    core type: Operation\n",
       "    operator: 48\n",
       "    operands: 49\n",
       "48. +\n",
       "    core type: Literal\n",
       "    sub-expressions: \n",
       "49. (t, -1)\n",
       "    core type: ExprTuple\n",
       "    sub-expressions: 50, 51\n",
       "50. t\n",
       "    core type: Literal\n",
       "    sub-expressions: \n",
       "51. -1\n",
       "    core type: Operation\n",
       "    operator: 52\n",
       "    operand: 54\n",
       "52. -\n",
       "    core type: Literal\n",
       "    sub-expressions: \n",
       "53. (1)\n",
       "    core type: ExprTuple\n",
       "    sub-expressions: 54\n",
       "54. 1\n",
       "    core type: Literal\n",
       "    sub-expressions: "
      ]
     },
     "metadata": {},
     "output_type": "display_data"
    }
   ],
   "source": [
    "# display the expression information\n",
    "stored_expr.expr_info()"
   ]
  },
  {
   "cell_type": "code",
   "execution_count": null,
   "metadata": {},
   "outputs": [],
   "source": []
  }
 ],
 "metadata": {
  "kernelspec": {
   "display_name": "Python 3",
   "language": "python",
   "name": "python3"
  }
 },
 "nbformat": 4,
 "nbformat_minor": 0
}