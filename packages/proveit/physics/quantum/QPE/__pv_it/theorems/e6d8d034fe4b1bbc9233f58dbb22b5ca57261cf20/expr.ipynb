{
 "cells": [
  {
   "cell_type": "markdown",
   "metadata": {},
   "source": [
    "Expression of type <a class=\"ProveItLink\" href=\"../../../../../../../../doc/html/api/proveit.numbers.LessEq.html\">LessEq</a>\n",
    "=======================\n",
    "# from the theory of <a class=\"ProveItLink\" href=\"../../../_theory_nbs_/theory.ipynb\">proveit.physics.quantum.QPE</a>"
   ]
  },
  {
   "cell_type": "code",
   "execution_count": 1,
   "metadata": {},
   "outputs": [],
   "source": [
    "import proveit\n",
    "# Automation is not needed when building an expression:\n",
    "proveit.defaults.automation = False # This will speed things up.\n",
    "proveit.defaults.inline_pngs = False # Makes files smaller.\n",
    "%load_expr # Load the stored expression as 'stored_expr'\n",
    "# import Expression classes needed to build the expression\n",
    "from proveit import m, n\n",
    "from proveit.numbers import Exp, LessEq, ModAbs, Neg, frac, one, subtract, two\n",
    "from proveit.physics.quantum.QPE import phase, two_pow_t"
   ]
  },
  {
   "cell_type": "code",
   "execution_count": 2,
   "metadata": {},
   "outputs": [
    {
     "data": {
      "text/html": [
       "<strong id=\"expr\">expr:</strong> <a class=\"ProveItLink\" href=\"expr.ipynb\"><img src=\"expr.png\" style=\"display:inline;vertical-align:middle;\" /></a><br>"
      ],
      "text/plain": [
       "<IPython.core.display.HTML object>"
      ]
     },
     "metadata": {},
     "output_type": "display_data"
    }
   ],
   "source": [
    "# build up the expression from sub-expressions\n",
    "expr = LessEq(ModAbs(subtract(frac(m, two_pow_t), phase), one), Exp(two, Neg(n)))"
   ]
  },
  {
   "cell_type": "code",
   "execution_count": 3,
   "metadata": {},
   "outputs": [
    {
     "name": "stdout",
     "output_type": "stream",
     "text": [
      "Passed sanity check: expr matches stored_expr\n"
     ]
    }
   ],
   "source": [
    "# check that the built expression is the same as the stored expression\n",
    "assert expr == stored_expr\n",
    "assert expr._style_id == stored_expr._style_id\n",
    "print(\"Passed sanity check: expr matches stored_expr\")"
   ]
  },
  {
   "cell_type": "code",
   "execution_count": 4,
   "metadata": {},
   "outputs": [
    {
     "name": "stdout",
     "output_type": "stream",
     "text": [
      "\\left|\\frac{m}{2^{t}} - \\varphi\\right|_{\\textup{mod}\\thinspace 1} \\leq 2^{-n}\n"
     ]
    }
   ],
   "source": [
    "# Show the LaTeX representation of the expression for convenience if you need it.\n",
    "print(stored_expr.latex())"
   ]
  },
  {
   "cell_type": "code",
   "execution_count": 5,
   "metadata": {},
   "outputs": [
    {
     "data": {
      "text/html": [
       "<table>\n",
       "<tr><th>name</th><th>description</th><th>default</th><th>current value</th><th>related methods</th></tr><tr><td>operation</td><td>'infix' or 'function' style formatting</td><td>infix</td><td>infix</td><td></td></tr>\n",
       "<tr><td>wrap_positions</td><td>position(s) at which wrapping is to occur; '2 n - 1' is after the nth operand, '2 n' is after the nth operation.</td><td>()</td><td>()</td><td>('with_wrapping_at', 'with_wrap_before_operator', 'with_wrap_after_operator', 'without_wrapping', 'wrap_positions')</td></tr>\n",
       "<tr><td>justification</td><td>if any wrap positions are set, justify to the 'left', 'center', or 'right'</td><td>center</td><td>center</td><td>('with_justification',)</td></tr>\n",
       "<tr><td>direction</td><td>Direction of the relation (normal or reversed)</td><td>normal</td><td>normal</td><td>('with_direction_reversed', 'is_reversed')</td></tr>\n",
       "</table>\n"
      ],
      "text/plain": [
       "style name: operation\n",
       "description: 'infix' or 'function' style formatting\n",
       "default: infix\n",
       "current value: infix\n",
       "related methods: ()\n",
       "style name: wrap_positions\n",
       "description: position(s) at which wrapping is to occur; '2 n - 1' is after the nth operand, '2 n' is after the nth operation.\n",
       "default: ()\n",
       "current value: ()\n",
       "related methods: ('with_wrapping_at', 'with_wrap_before_operator', 'with_wrap_after_operator', 'without_wrapping', 'wrap_positions')\n",
       "style name: justification\n",
       "description: if any wrap positions are set, justify to the 'left', 'center', or 'right'\n",
       "default: center\n",
       "current value: center\n",
       "related methods: ('with_justification',)\n",
       "style name: direction\n",
       "description: Direction of the relation (normal or reversed)\n",
       "default: normal\n",
       "current value: normal\n",
       "related methods: ('with_direction_reversed', 'is_reversed')"
      ]
     },
     "metadata": {},
     "output_type": "display_data"
    }
   ],
   "source": [
    "stored_expr.style_options()"
   ]
  },
  {
   "cell_type": "code",
   "execution_count": 6,
   "metadata": {},
   "outputs": [
    {
     "data": {
      "text/html": [
       "<table><tr><th>&nbsp;</th><th>core type</th><th>sub-expressions</th><th>expression</th></tr>\n",
       "<tr><td>0</td><td>Operation</td><td>operator:&nbsp;1<br>operands:&nbsp;2<br></td><td><a class=\"ProveItLink\" href=\"expr.ipynb\"><img src=\"expr.png\" style=\"display:inline;vertical-align:middle;\" /></a></td></tr>\n",
       "<tr><td>1</td><td>Literal</td><td></td><td><a class=\"ProveItLink\" href=\"../../../../../../numbers/ordering/__pv_it/common/68379698d72b4689bbda4b5c5cca29ee599d70280/expr.ipynb\"><img src=\"../../../../../../numbers/ordering/__pv_it/common/68379698d72b4689bbda4b5c5cca29ee599d70280/expr.png\" style=\"display:inline;vertical-align:middle;\" /></a></td></tr>\n",
       "<tr><td>2</td><td>ExprTuple</td><td>3, 4</td><td><a class=\"ProveItLink\" href=\"../91d463db79815c341e138aaf1ce39ea0620f59890/expr.ipynb\"><img src=\"../91d463db79815c341e138aaf1ce39ea0620f59890/expr.png\" style=\"display:inline;vertical-align:middle;\" /></a></td></tr>\n",
       "<tr><td>3</td><td>Operation</td><td>operator:&nbsp;5<br>operands:&nbsp;6<br></td><td><a class=\"ProveItLink\" href=\"../827a7ae8fc6dd6527eabe9e8d9356670349b53b80/expr.ipynb\"><img src=\"../827a7ae8fc6dd6527eabe9e8d9356670349b53b80/expr.png\" style=\"display:inline;vertical-align:middle;\" /></a></td></tr>\n",
       "<tr><td>4</td><td>Operation</td><td>operator:&nbsp;24<br>operands:&nbsp;7<br></td><td><a class=\"ProveItLink\" href=\"../8ac8e8d2f991e1dac4a7fa1ce98e1ae4fbf89aa90/expr.ipynb\"><img src=\"../8ac8e8d2f991e1dac4a7fa1ce98e1ae4fbf89aa90/expr.png\" style=\"display:inline;vertical-align:middle;\" /></a></td></tr>\n",
       "<tr><td>5</td><td>Literal</td><td></td><td><a class=\"ProveItLink\" href=\"../../../../../../numbers/modular/__pv_it/common/a54c009a0c69fd86b47cbe34f4e05f85c2d2e1680/expr.ipynb\"><img src=\"../../../../../../numbers/modular/__pv_it/common/a54c009a0c69fd86b47cbe34f4e05f85c2d2e1680/expr.png\" style=\"display:inline;vertical-align:middle;\" /></a></td></tr>\n",
       "<tr><td>6</td><td>ExprTuple</td><td>8, 9</td><td><a class=\"ProveItLink\" href=\"../a99347e9ab61797bb79c027ada35d93cd01f82ef0/expr.ipynb\"><img src=\"../a99347e9ab61797bb79c027ada35d93cd01f82ef0/expr.png\" style=\"display:inline;vertical-align:middle;\" /></a></td></tr>\n",
       "<tr><td>7</td><td>ExprTuple</td><td>26, 10</td><td><a class=\"ProveItLink\" href=\"../9e5c4f5d4650e352b4e40a7821c317904ce05cee0/expr.ipynb\"><img src=\"../9e5c4f5d4650e352b4e40a7821c317904ce05cee0/expr.png\" style=\"display:inline;vertical-align:middle;\" /></a></td></tr>\n",
       "<tr><td>8</td><td>Operation</td><td>operator:&nbsp;11<br>operands:&nbsp;12<br></td><td><a class=\"ProveItLink\" href=\"../f3d8fc7adcb9a8051085b809583d927bc7d35f750/expr.ipynb\"><img src=\"../f3d8fc7adcb9a8051085b809583d927bc7d35f750/expr.png\" style=\"display:inline;vertical-align:middle;\" /></a></td></tr>\n",
       "<tr><td>9</td><td>Literal</td><td></td><td><a class=\"ProveItLink\" href=\"../../../../../../numbers/numerals/__pv_it/common/682157d4892d216d9e5626ed533aff9b56b9506e0/expr.ipynb\"><img src=\"../../../../../../numbers/numerals/__pv_it/common/682157d4892d216d9e5626ed533aff9b56b9506e0/expr.png\" style=\"display:inline;vertical-align:middle;\" /></a></td></tr>\n",
       "<tr><td>10</td><td>Operation</td><td>operator:&nbsp;19<br>operand:&nbsp;16<br></td><td><a class=\"ProveItLink\" href=\"../d0fc3e815d7d14c79909910121a7eb5993e4d3fc0/expr.ipynb\"><img src=\"../d0fc3e815d7d14c79909910121a7eb5993e4d3fc0/expr.png\" style=\"display:inline;vertical-align:middle;\" /></a></td></tr>\n",
       "<tr><td>11</td><td>Literal</td><td></td><td><a class=\"ProveItLink\" href=\"../../../../../../numbers/addition/__pv_it/common/4b7effaab3619a1c2c38fe2dee8601df8ec714590/expr.ipynb\"><img src=\"../../../../../../numbers/addition/__pv_it/common/4b7effaab3619a1c2c38fe2dee8601df8ec714590/expr.png\" style=\"display:inline;vertical-align:middle;\" /></a></td></tr>\n",
       "<tr><td>12</td><td>ExprTuple</td><td>14, 15</td><td><a class=\"ProveItLink\" href=\"../1b8ba39ec934d2b1a963d3c2a41dab3e18749a2c0/expr.ipynb\"><img src=\"../1b8ba39ec934d2b1a963d3c2a41dab3e18749a2c0/expr.png\" style=\"display:inline;vertical-align:middle;\" /></a></td></tr>\n",
       "<tr><td>13</td><td>ExprTuple</td><td>16</td><td><a class=\"ProveItLink\" href=\"../ca565dff2751ea9a3b48fe855133b9e0c2eca83f0/expr.ipynb\"><img src=\"../ca565dff2751ea9a3b48fe855133b9e0c2eca83f0/expr.png\" style=\"display:inline;vertical-align:middle;\" /></a></td></tr>\n",
       "<tr><td>14</td><td>Operation</td><td>operator:&nbsp;17<br>operands:&nbsp;18<br></td><td><a class=\"ProveItLink\" href=\"../b42e542d4d7a47332e3bef290379ead03b7b48d40/expr.ipynb\"><img src=\"../b42e542d4d7a47332e3bef290379ead03b7b48d40/expr.png\" style=\"display:inline;vertical-align:middle;\" /></a></td></tr>\n",
       "<tr><td>15</td><td>Operation</td><td>operator:&nbsp;19<br>operand:&nbsp;23<br></td><td><a class=\"ProveItLink\" href=\"../f8d76be35edb4c6971630531f3644ff4c5f877480/expr.ipynb\"><img src=\"../f8d76be35edb4c6971630531f3644ff4c5f877480/expr.png\" style=\"display:inline;vertical-align:middle;\" /></a></td></tr>\n",
       "<tr><td>16</td><td>Variable</td><td></td><td><a class=\"ProveItLink\" href=\"../../../../../../__pv_it/common/8968bb04eb3f7dfa02353397ce929b025bbd79c20/expr.ipynb\"><img src=\"../../../../../../__pv_it/common/8968bb04eb3f7dfa02353397ce929b025bbd79c20/expr.png\" style=\"display:inline;vertical-align:middle;\" /></a></td></tr>\n",
       "<tr><td>17</td><td>Literal</td><td></td><td><a class=\"ProveItLink\" href=\"../../../../../../numbers/division/__pv_it/common/a2a633e1e3c749fb1f2692466b287b6348c5de840/expr.ipynb\"><img src=\"../../../../../../numbers/division/__pv_it/common/a2a633e1e3c749fb1f2692466b287b6348c5de840/expr.png\" style=\"display:inline;vertical-align:middle;\" /></a></td></tr>\n",
       "<tr><td>18</td><td>ExprTuple</td><td>21, 22</td><td><a class=\"ProveItLink\" href=\"../8a0a41cdbe5373d917fff8d43eb87a38562e09f10/expr.ipynb\"><img src=\"../8a0a41cdbe5373d917fff8d43eb87a38562e09f10/expr.png\" style=\"display:inline;vertical-align:middle;\" /></a></td></tr>\n",
       "<tr><td>19</td><td>Literal</td><td></td><td><a class=\"ProveItLink\" href=\"../../../../../../numbers/negation/__pv_it/common/221b3c4d1770ee9051b7c044c3f9ec61196fc34b0/expr.ipynb\"><img src=\"../../../../../../numbers/negation/__pv_it/common/221b3c4d1770ee9051b7c044c3f9ec61196fc34b0/expr.png\" style=\"display:inline;vertical-align:middle;\" /></a></td></tr>\n",
       "<tr><td>20</td><td>ExprTuple</td><td>23</td><td><a class=\"ProveItLink\" href=\"../29e8a378c37a51dafce04ab8e4851d3c32f4a33f0/expr.ipynb\"><img src=\"../29e8a378c37a51dafce04ab8e4851d3c32f4a33f0/expr.png\" style=\"display:inline;vertical-align:middle;\" /></a></td></tr>\n",
       "<tr><td>21</td><td>Variable</td><td></td><td><a class=\"ProveItLink\" href=\"../../../../../../__pv_it/common/674a03b9c3ca221b3aabd5636837b31528ff33830/expr.ipynb\"><img src=\"../../../../../../__pv_it/common/674a03b9c3ca221b3aabd5636837b31528ff33830/expr.png\" style=\"display:inline;vertical-align:middle;\" /></a></td></tr>\n",
       "<tr><td>22</td><td>Operation</td><td>operator:&nbsp;24<br>operands:&nbsp;25<br></td><td><a class=\"ProveItLink\" href=\"../../common/a014d9681ed5f22f1d322e1e6f8f6a29a72641620/expr.ipynb\"><img src=\"../../common/a014d9681ed5f22f1d322e1e6f8f6a29a72641620/expr.png\" style=\"display:inline;vertical-align:middle;\" /></a></td></tr>\n",
       "<tr><td>23</td><td>Variable</td><td></td><td><a class=\"ProveItLink\" href=\"../../common/ffe5f12137de00123ee13681dbf8d1ac898a5a360/expr.ipynb\"><img src=\"../../common/ffe5f12137de00123ee13681dbf8d1ac898a5a360/expr.png\" style=\"display:inline;vertical-align:middle;\" /></a></td></tr>\n",
       "<tr><td>24</td><td>Literal</td><td></td><td><a class=\"ProveItLink\" href=\"../../../../../../numbers/exponentiation/__pv_it/common/0ac37aca1e54c35c5cda09672df32d4f69f1f3020/expr.ipynb\"><img src=\"../../../../../../numbers/exponentiation/__pv_it/common/0ac37aca1e54c35c5cda09672df32d4f69f1f3020/expr.png\" style=\"display:inline;vertical-align:middle;\" /></a></td></tr>\n",
       "<tr><td>25</td><td>ExprTuple</td><td>26, 27</td><td><a class=\"ProveItLink\" href=\"../../common/620247c38a794b8e2a0fe6158f0aa55d8c4a68c60/expr.ipynb\"><img src=\"../../common/620247c38a794b8e2a0fe6158f0aa55d8c4a68c60/expr.png\" style=\"display:inline;vertical-align:middle;\" /></a></td></tr>\n",
       "<tr><td>26</td><td>Literal</td><td></td><td><a class=\"ProveItLink\" href=\"../../../../../../numbers/numerals/__pv_it/common/af4aab8a07465db063742696e006d04670f30cf10/expr.ipynb\"><img src=\"../../../../../../numbers/numerals/__pv_it/common/af4aab8a07465db063742696e006d04670f30cf10/expr.png\" style=\"display:inline;vertical-align:middle;\" /></a></td></tr>\n",
       "<tr><td>27</td><td>Variable</td><td></td><td><a class=\"ProveItLink\" href=\"../../../../../../__pv_it/common/36861eae73a44b53d5b3b017ac6a3a9dae53bfba0/expr.ipynb\"><img src=\"../../../../../../__pv_it/common/36861eae73a44b53d5b3b017ac6a3a9dae53bfba0/expr.png\" style=\"display:inline;vertical-align:middle;\" /></a></td></tr>\n",
       "</table>\n"
      ],
      "text/plain": [
       "0. |(m / 2^{t}) - phase|_{mod 1} <= 2^{-n}\n",
       "   core type: Operation\n",
       "   operator: 1\n",
       "   operands: 2\n",
       "1. <=\n",
       "   core type: Literal\n",
       "   sub-expressions: \n",
       "2. (|(m / 2^{t}) - phase|_{mod 1}, 2^{-n})\n",
       "   core type: ExprTuple\n",
       "   sub-expressions: 3, 4\n",
       "3. |(m / 2^{t}) - phase|_{mod 1}\n",
       "   core type: Operation\n",
       "   operator: 5\n",
       "   operands: 6\n",
       "4. 2^{-n}\n",
       "   core type: Operation\n",
       "   operator: 24\n",
       "   operands: 7\n",
       "5. ModAbs\n",
       "   core type: Literal\n",
       "   sub-expressions: \n",
       "6. ((m / 2^{t}) - phase, 1)\n",
       "   core type: ExprTuple\n",
       "   sub-expressions: 8, 9\n",
       "7. (2, -n)\n",
       "   core type: ExprTuple\n",
       "   sub-expressions: 26, 10\n",
       "8. (m / 2^{t}) - phase\n",
       "   core type: Operation\n",
       "   operator: 11\n",
       "   operands: 12\n",
       "9. 1\n",
       "   core type: Literal\n",
       "   sub-expressions: \n",
       "10. -n\n",
       "    core type: Operation\n",
       "    operator: 19\n",
       "    operand: 16\n",
       "11. +\n",
       "    core type: Literal\n",
       "    sub-expressions: \n",
       "12. (m / 2^{t}, -phase)\n",
       "    core type: ExprTuple\n",
       "    sub-expressions: 14, 15\n",
       "13. (n)\n",
       "    core type: ExprTuple\n",
       "    sub-expressions: 16\n",
       "14. m / 2^{t}\n",
       "    core type: Operation\n",
       "    operator: 17\n",
       "    operands: 18\n",
       "15. -phase\n",
       "    core type: Operation\n",
       "    operator: 19\n",
       "    operand: 23\n",
       "16. n\n",
       "    core type: Variable\n",
       "    sub-expressions: \n",
       "17. /\n",
       "    core type: Literal\n",
       "    sub-expressions: \n",
       "18. (m, 2^{t})\n",
       "    core type: ExprTuple\n",
       "    sub-expressions: 21, 22\n",
       "19. -\n",
       "    core type: Literal\n",
       "    sub-expressions: \n",
       "20. (phase)\n",
       "    core type: ExprTuple\n",
       "    sub-expressions: 23\n",
       "21. m\n",
       "    core type: Variable\n",
       "    sub-expressions: \n",
       "22. 2^{t}\n",
       "    core type: Operation\n",
       "    operator: 24\n",
       "    operands: 25\n",
       "23. phase\n",
       "    core type: Variable\n",
       "    sub-expressions: \n",
       "24. Exp\n",
       "    core type: Literal\n",
       "    sub-expressions: \n",
       "25. (2, t)\n",
       "    core type: ExprTuple\n",
       "    sub-expressions: 26, 27\n",
       "26. 2\n",
       "    core type: Literal\n",
       "    sub-expressions: \n",
       "27. t\n",
       "    core type: Variable\n",
       "    sub-expressions: "
      ]
     },
     "metadata": {},
     "output_type": "display_data"
    }
   ],
   "source": [
    "# display the expression information\n",
    "stored_expr.expr_info()"
   ]
  },
  {
   "cell_type": "code",
   "execution_count": null,
   "metadata": {},
   "outputs": [],
   "source": []
  }
 ],
 "metadata": {
  "kernelspec": {
   "display_name": "Python 3",
   "language": "python",
   "name": "python3"
  }
 },
 "nbformat": 4,
 "nbformat_minor": 0
}