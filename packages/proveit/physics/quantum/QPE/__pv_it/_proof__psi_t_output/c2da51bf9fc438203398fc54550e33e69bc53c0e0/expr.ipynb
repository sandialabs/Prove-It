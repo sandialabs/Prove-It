{
 "cells": [
  {
   "cell_type": "markdown",
   "metadata": {},
   "source": [
    "Expression of type <a class=\"ProveItLink\" href=\"../../../../../../../../doc/html/api/proveit.core_expr_types.Len.html\">Len</a>\n",
    "=======================\n",
    "# from the theory of <a class=\"ProveItLink\" href=\"../../../_theory_nbs_/theory.ipynb\">proveit.physics.quantum.QPE</a>"
   ]
  },
  {
   "cell_type": "code",
   "execution_count": 1,
   "metadata": {},
   "outputs": [],
   "source": [
    "import proveit\n",
    "# Automation is not needed when building an expression:\n",
    "proveit.defaults.automation = False # This will speed things up.\n",
    "proveit.defaults.inline_pngs = False # Makes files smaller.\n",
    "%load_expr # Load the stored expression as 'stored_expr'\n",
    "# import Expression classes needed to build the expression\n",
    "from proveit import ExprRange, Variable, t\n",
    "from proveit.core_expr_types import Len\n",
    "from proveit.logic import And, Equals\n",
    "from proveit.numbers import Add, Neg, one, two, zero\n",
    "from proveit.physics.quantum.QPE import _s"
   ]
  },
  {
   "cell_type": "code",
   "execution_count": 2,
   "metadata": {},
   "outputs": [
    {
     "data": {
      "text/html": [
       "<strong id=\"expr\">expr:</strong> <a class=\"ProveItLink\" href=\"expr.ipynb\"><img src=\"expr.png\" style=\"display:inline;vertical-align:middle;\" /></a><br>"
      ],
      "text/plain": [
       "<IPython.core.display.HTML object>"
      ]
     },
     "metadata": {},
     "output_type": "display_data"
    }
   ],
   "source": [
    "# build up the expression from sub-expressions\n",
    "sub_expr1 = Variable(\"_a\", latex_format = r\"{_{-}a}\")\n",
    "sub_expr2 = Add(t, _s)\n",
    "expr = Len(operands = [Equals(zero, zero), Equals(one, Add(zero, one)), And(ExprRange(sub_expr1, Equals(Add(sub_expr1, t), Add(Add(sub_expr1, Neg(one), t), one)), Add(Neg(t), two), zero)), Equals(sub_expr2, sub_expr2)])"
   ]
  },
  {
   "cell_type": "code",
   "execution_count": 3,
   "metadata": {},
   "outputs": [
    {
     "name": "stdout",
     "output_type": "stream",
     "text": [
      "Passed sanity check: expr matches stored_expr\n"
     ]
    }
   ],
   "source": [
    "# check that the built expression is the same as the stored expression\n",
    "assert expr == stored_expr\n",
    "assert expr._style_id == stored_expr._style_id\n",
    "print(\"Passed sanity check: expr matches stored_expr\")"
   ]
  },
  {
   "cell_type": "code",
   "execution_count": 4,
   "metadata": {},
   "outputs": [
    {
     "name": "stdout",
     "output_type": "stream",
     "text": [
      "|\\left(0 = 0, 1 = \\left(0 + 1\\right), \\left(\\left(\\left(-t + 2\\right) + t\\right) = \\left(\\left(\\left(-t + 2\\right) - 1 + t\\right) + 1\\right)\\right) \\land  \\left(\\left(\\left(-t + 3\\right) + t\\right) = \\left(\\left(\\left(-t + 3\\right) - 1 + t\\right) + 1\\right)\\right) \\land  \\ldots \\land  \\left(\\left(0 + t\\right) = \\left(\\left(0 - 1 + t\\right) + 1\\right)\\right), \\left(t + s\\right) = \\left(t + s\\right)\\right)|\n"
     ]
    }
   ],
   "source": [
    "# Show the LaTeX representation of the expression for convenience if you need it.\n",
    "print(stored_expr.latex())"
   ]
  },
  {
   "cell_type": "code",
   "execution_count": 5,
   "metadata": {},
   "outputs": [
    {
     "data": {
      "text/html": [
       "<table>\n",
       "<tr><th>name</th><th>description</th><th>default</th><th>current value</th><th>related methods</th></tr><tr><td>operation</td><td>'infix' or 'function' style formatting</td><td>infix</td><td>infix</td><td></td></tr>\n",
       "<tr><td>wrap_positions</td><td>position(s) at which wrapping is to occur; '2 n - 1' is after the nth operand, '2 n' is after the nth operation.</td><td>()</td><td>()</td><td>('with_wrapping_at', 'with_wrap_before_operator', 'with_wrap_after_operator', 'without_wrapping', 'wrap_positions')</td></tr>\n",
       "<tr><td>justification</td><td>if any wrap positions are set, justify to the 'left', 'center', or 'right'</td><td>center</td><td>center</td><td>('with_justification',)</td></tr>\n",
       "</table>\n"
      ],
      "text/plain": [
       "style name: operation\n",
       "description: 'infix' or 'function' style formatting\n",
       "default: infix\n",
       "current value: infix\n",
       "related methods: ()\n",
       "style name: wrap_positions\n",
       "description: position(s) at which wrapping is to occur; '2 n - 1' is after the nth operand, '2 n' is after the nth operation.\n",
       "default: ()\n",
       "current value: ()\n",
       "related methods: ('with_wrapping_at', 'with_wrap_before_operator', 'with_wrap_after_operator', 'without_wrapping', 'wrap_positions')\n",
       "style name: justification\n",
       "description: if any wrap positions are set, justify to the 'left', 'center', or 'right'\n",
       "default: center\n",
       "current value: center\n",
       "related methods: ('with_justification',)"
      ]
     },
     "metadata": {},
     "output_type": "display_data"
    }
   ],
   "source": [
    "stored_expr.style_options()"
   ]
  },
  {
   "cell_type": "code",
   "execution_count": 6,
   "metadata": {},
   "outputs": [
    {
     "data": {
      "text/html": [
       "<table><tr><th>&nbsp;</th><th>core type</th><th>sub-expressions</th><th>expression</th></tr>\n",
       "<tr><td>0</td><td>Operation</td><td>operator:&nbsp;1<br>operands:&nbsp;2<br></td><td><a class=\"ProveItLink\" href=\"expr.ipynb\"><img src=\"expr.png\" style=\"display:inline;vertical-align:middle;\" /></a></td></tr>\n",
       "<tr><td>1</td><td>Literal</td><td></td><td><a class=\"ProveItLink\" href=\"../../../../../../core_expr_types/tuples/__pv_it/common/43df765abf1294d8f1fd177863f57f08bf5ad0080/expr.ipynb\"><img src=\"../../../../../../core_expr_types/tuples/__pv_it/common/43df765abf1294d8f1fd177863f57f08bf5ad0080/expr.png\" style=\"display:inline;vertical-align:middle;\" /></a></td></tr>\n",
       "<tr><td>2</td><td>ExprTuple</td><td>3, 4, 5, 6</td><td><a class=\"ProveItLink\" href=\"../77462ee181f03eea7e907f98297264f663edbe340/expr.ipynb\"><img src=\"../77462ee181f03eea7e907f98297264f663edbe340/expr.png\" style=\"display:inline;vertical-align:middle;\" /></a></td></tr>\n",
       "<tr><td>3</td><td>Operation</td><td>operator:&nbsp;24<br>operands:&nbsp;7<br></td><td><a class=\"ProveItLink\" href=\"../b7596262ada659a459978dbba138bb33d52525d40/expr.ipynb\"><img src=\"../b7596262ada659a459978dbba138bb33d52525d40/expr.png\" style=\"display:inline;vertical-align:middle;\" /></a></td></tr>\n",
       "<tr><td>4</td><td>Operation</td><td>operator:&nbsp;24<br>operands:&nbsp;8<br></td><td><a class=\"ProveItLink\" href=\"../cf90d9ff04b134d4a3c13454d6658eb96effdd5f0/expr.ipynb\"><img src=\"../cf90d9ff04b134d4a3c13454d6658eb96effdd5f0/expr.png\" style=\"display:inline;vertical-align:middle;\" /></a></td></tr>\n",
       "<tr><td>5</td><td>Operation</td><td>operator:&nbsp;9<br>operands:&nbsp;10<br></td><td><a class=\"ProveItLink\" href=\"../3141db0ccdb4e3fd63ecb0cbbbaf08f306e5ec570/expr.ipynb\"><img src=\"../3141db0ccdb4e3fd63ecb0cbbbaf08f306e5ec570/expr.png\" style=\"display:inline;vertical-align:middle;\" /></a></td></tr>\n",
       "<tr><td>6</td><td>Operation</td><td>operator:&nbsp;24<br>operands:&nbsp;11<br></td><td><a class=\"ProveItLink\" href=\"../debc6b012b63cd54943172ceb47fd4a761bf6dde0/expr.ipynb\"><img src=\"../debc6b012b63cd54943172ceb47fd4a761bf6dde0/expr.png\" style=\"display:inline;vertical-align:middle;\" /></a></td></tr>\n",
       "<tr><td>7</td><td>ExprTuple</td><td>19, 19</td><td><a class=\"ProveItLink\" href=\"../74844b473cd71446730b06050c635f7b80338f730/expr.ipynb\"><img src=\"../74844b473cd71446730b06050c635f7b80338f730/expr.png\" style=\"display:inline;vertical-align:middle;\" /></a></td></tr>\n",
       "<tr><td>8</td><td>ExprTuple</td><td>41, 12</td><td><a class=\"ProveItLink\" href=\"../b667175330e0eb952dde813e1ce85dac4bd6c2fd0/expr.ipynb\"><img src=\"../b667175330e0eb952dde813e1ce85dac4bd6c2fd0/expr.png\" style=\"display:inline;vertical-align:middle;\" /></a></td></tr>\n",
       "<tr><td>9</td><td>Literal</td><td></td><td><a class=\"ProveItLink\" href=\"../../../../../../logic/booleans/conjunction/__pv_it/common/42118ff318bd65d98b1393f64ce7c2269feef76e0/expr.ipynb\"><img src=\"../../../../../../logic/booleans/conjunction/__pv_it/common/42118ff318bd65d98b1393f64ce7c2269feef76e0/expr.png\" style=\"display:inline;vertical-align:middle;\" /></a></td></tr>\n",
       "<tr><td>10</td><td>ExprTuple</td><td>13</td><td><a class=\"ProveItLink\" href=\"../84c06b863dd90e77d3774a09808afba1ca53cc730/expr.ipynb\"><img src=\"../84c06b863dd90e77d3774a09808afba1ca53cc730/expr.png\" style=\"display:inline;vertical-align:middle;\" /></a></td></tr>\n",
       "<tr><td>11</td><td>ExprTuple</td><td>14, 14</td><td><a class=\"ProveItLink\" href=\"../9133d947bafd698c4ce3fa6b49cc16c5494679d20/expr.ipynb\"><img src=\"../9133d947bafd698c4ce3fa6b49cc16c5494679d20/expr.png\" style=\"display:inline;vertical-align:middle;\" /></a></td></tr>\n",
       "<tr><td>12</td><td>Operation</td><td>operator:&nbsp;34<br>operands:&nbsp;15<br></td><td><a class=\"ProveItLink\" href=\"../195e19f056ddc134efa3bf31033fb0412862a0d10/expr.ipynb\"><img src=\"../195e19f056ddc134efa3bf31033fb0412862a0d10/expr.png\" style=\"display:inline;vertical-align:middle;\" /></a></td></tr>\n",
       "<tr><td>13</td><td>ExprRange</td><td>lambda_map:&nbsp;16<br>start_index:&nbsp;17<br>end_index:&nbsp;19<br></td><td><a class=\"ProveItLink\" href=\"../90f0322de5046be166abb8022720d2aa9f880be60/expr.ipynb\"><img src=\"../90f0322de5046be166abb8022720d2aa9f880be60/expr.png\" style=\"display:inline;vertical-align:middle;\" /></a></td></tr>\n",
       "<tr><td>14</td><td>Operation</td><td>operator:&nbsp;34<br>operands:&nbsp;18<br></td><td><a class=\"ProveItLink\" href=\"../../theorems/d2d49f53ed6c0d9ac7dc8d27b9cf718603e9bc9d0/expr.ipynb\"><img src=\"../../theorems/d2d49f53ed6c0d9ac7dc8d27b9cf718603e9bc9d0/expr.png\" style=\"display:inline;vertical-align:middle;\" /></a></td></tr>\n",
       "<tr><td>15</td><td>ExprTuple</td><td>19, 41</td><td><a class=\"ProveItLink\" href=\"../../../../../../numbers/numerals/decimals/__pv_it/theorems/da8a8b171a5f1ff8208183b4cf6a698b32a8f24a0/expr.ipynb\"><img src=\"../../../../../../numbers/numerals/decimals/__pv_it/theorems/da8a8b171a5f1ff8208183b4cf6a698b32a8f24a0/expr.png\" style=\"display:inline;vertical-align:middle;\" /></a></td></tr>\n",
       "<tr><td>16</td><td>Lambda</td><td>parameter:&nbsp;36<br>body:&nbsp;21<br></td><td><a class=\"ProveItLink\" href=\"../ab1dab5b7c7fbeee1e49ae0077e2db2f170de8910/expr.ipynb\"><img src=\"../ab1dab5b7c7fbeee1e49ae0077e2db2f170de8910/expr.png\" style=\"display:inline;vertical-align:middle;\" /></a></td></tr>\n",
       "<tr><td>17</td><td>Operation</td><td>operator:&nbsp;34<br>operands:&nbsp;22<br></td><td><a class=\"ProveItLink\" href=\"../4166dc1d0326e737295ecd953b55edbded12fa970/expr.ipynb\"><img src=\"../4166dc1d0326e737295ecd953b55edbded12fa970/expr.png\" style=\"display:inline;vertical-align:middle;\" /></a></td></tr>\n",
       "<tr><td>18</td><td>ExprTuple</td><td>38, 23</td><td><a class=\"ProveItLink\" href=\"../../theorems/f3cff4586a5d1e7c2858f11ee1a5ac76adcdcc010/expr.ipynb\"><img src=\"../../theorems/f3cff4586a5d1e7c2858f11ee1a5ac76adcdcc010/expr.png\" style=\"display:inline;vertical-align:middle;\" /></a></td></tr>\n",
       "<tr><td>19</td><td>Literal</td><td></td><td><a class=\"ProveItLink\" href=\"../../../../../../numbers/numerals/__pv_it/common/dd4e19e8b134dfb293470ea55fe3589b0ab9f8040/expr.ipynb\"><img src=\"../../../../../../numbers/numerals/__pv_it/common/dd4e19e8b134dfb293470ea55fe3589b0ab9f8040/expr.png\" style=\"display:inline;vertical-align:middle;\" /></a></td></tr>\n",
       "<tr><td>20</td><td>ExprTuple</td><td>36</td><td><a class=\"ProveItLink\" href=\"../../../../../../core_expr_types/__pv_it/common/4b0dd6be36d76552eda6a95d5b4a27f5a5b62f900/expr.ipynb\"><img src=\"../../../../../../core_expr_types/__pv_it/common/4b0dd6be36d76552eda6a95d5b4a27f5a5b62f900/expr.png\" style=\"display:inline;vertical-align:middle;\" /></a></td></tr>\n",
       "<tr><td>21</td><td>Operation</td><td>operator:&nbsp;24<br>operands:&nbsp;25<br></td><td><a class=\"ProveItLink\" href=\"../3744746dc28bf4ef861607f5bafb173e567a025f0/expr.ipynb\"><img src=\"../3744746dc28bf4ef861607f5bafb173e567a025f0/expr.png\" style=\"display:inline;vertical-align:middle;\" /></a></td></tr>\n",
       "<tr><td>22</td><td>ExprTuple</td><td>26, 27</td><td><a class=\"ProveItLink\" href=\"../75fa589131ad04efc85266deeaff04069bd18f620/expr.ipynb\"><img src=\"../75fa589131ad04efc85266deeaff04069bd18f620/expr.png\" style=\"display:inline;vertical-align:middle;\" /></a></td></tr>\n",
       "<tr><td>23</td><td>Literal</td><td></td><td><a class=\"ProveItLink\" href=\"../../common/8a1628c4cfc7b78e5c5de183ba3f5cff0b20d4dd0/expr.ipynb\"><img src=\"../../common/8a1628c4cfc7b78e5c5de183ba3f5cff0b20d4dd0/expr.png\" style=\"display:inline;vertical-align:middle;\" /></a></td></tr>\n",
       "<tr><td>24</td><td>Literal</td><td></td><td><a class=\"ProveItLink\" href=\"../../../../../../logic/equality/__pv_it/common/fb96dc12b2aa8801dda64d0132b396c63d1502bb0/expr.ipynb\"><img src=\"../../../../../../logic/equality/__pv_it/common/fb96dc12b2aa8801dda64d0132b396c63d1502bb0/expr.png\" style=\"display:inline;vertical-align:middle;\" /></a></td></tr>\n",
       "<tr><td>25</td><td>ExprTuple</td><td>28, 29</td><td><a class=\"ProveItLink\" href=\"../bc508e825bc2ce1f95c7dba3087d3264b61371e90/expr.ipynb\"><img src=\"../bc508e825bc2ce1f95c7dba3087d3264b61371e90/expr.png\" style=\"display:inline;vertical-align:middle;\" /></a></td></tr>\n",
       "<tr><td>26</td><td>Operation</td><td>operator:&nbsp;39<br>operand:&nbsp;38<br></td><td><a class=\"ProveItLink\" href=\"../../common/e0a0e1311f316a159cea49712cb715262ee967450/expr.ipynb\"><img src=\"../../common/e0a0e1311f316a159cea49712cb715262ee967450/expr.png\" style=\"display:inline;vertical-align:middle;\" /></a></td></tr>\n",
       "<tr><td>27</td><td>Literal</td><td></td><td><a class=\"ProveItLink\" href=\"../../../../../../numbers/numerals/__pv_it/common/af4aab8a07465db063742696e006d04670f30cf10/expr.ipynb\"><img src=\"../../../../../../numbers/numerals/__pv_it/common/af4aab8a07465db063742696e006d04670f30cf10/expr.png\" style=\"display:inline;vertical-align:middle;\" /></a></td></tr>\n",
       "<tr><td>28</td><td>Operation</td><td>operator:&nbsp;34<br>operands:&nbsp;31<br></td><td><a class=\"ProveItLink\" href=\"../0c860867b908a6fc174ae2cac4e75cdfd4100e530/expr.ipynb\"><img src=\"../0c860867b908a6fc174ae2cac4e75cdfd4100e530/expr.png\" style=\"display:inline;vertical-align:middle;\" /></a></td></tr>\n",
       "<tr><td>29</td><td>Operation</td><td>operator:&nbsp;34<br>operands:&nbsp;32<br></td><td><a class=\"ProveItLink\" href=\"../23ebee5d08a6c6ee0e9c0fe87527ec433c8f25b90/expr.ipynb\"><img src=\"../23ebee5d08a6c6ee0e9c0fe87527ec433c8f25b90/expr.png\" style=\"display:inline;vertical-align:middle;\" /></a></td></tr>\n",
       "<tr><td>30</td><td>ExprTuple</td><td>38</td><td><a class=\"ProveItLink\" href=\"../../common/04971f5ed986452ec2d9047d1e0d56faa846096b0/expr.ipynb\"><img src=\"../../common/04971f5ed986452ec2d9047d1e0d56faa846096b0/expr.png\" style=\"display:inline;vertical-align:middle;\" /></a></td></tr>\n",
       "<tr><td>31</td><td>ExprTuple</td><td>36, 38</td><td><a class=\"ProveItLink\" href=\"../136d7ec91caa3cc39c08f4fd898ff1b4177843a40/expr.ipynb\"><img src=\"../136d7ec91caa3cc39c08f4fd898ff1b4177843a40/expr.png\" style=\"display:inline;vertical-align:middle;\" /></a></td></tr>\n",
       "<tr><td>32</td><td>ExprTuple</td><td>33, 41</td><td><a class=\"ProveItLink\" href=\"../d31dfb7c210e6cdb4ba824347e07f30e4d49b0e90/expr.ipynb\"><img src=\"../d31dfb7c210e6cdb4ba824347e07f30e4d49b0e90/expr.png\" style=\"display:inline;vertical-align:middle;\" /></a></td></tr>\n",
       "<tr><td>33</td><td>Operation</td><td>operator:&nbsp;34<br>operands:&nbsp;35<br></td><td><a class=\"ProveItLink\" href=\"../1039c66612649e044fd92796694004fb179ccb0b0/expr.ipynb\"><img src=\"../1039c66612649e044fd92796694004fb179ccb0b0/expr.png\" style=\"display:inline;vertical-align:middle;\" /></a></td></tr>\n",
       "<tr><td>34</td><td>Literal</td><td></td><td><a class=\"ProveItLink\" href=\"../../../../../../numbers/addition/__pv_it/common/4b7effaab3619a1c2c38fe2dee8601df8ec714590/expr.ipynb\"><img src=\"../../../../../../numbers/addition/__pv_it/common/4b7effaab3619a1c2c38fe2dee8601df8ec714590/expr.png\" style=\"display:inline;vertical-align:middle;\" /></a></td></tr>\n",
       "<tr><td>35</td><td>ExprTuple</td><td>36, 37, 38</td><td><a class=\"ProveItLink\" href=\"../38c015a0d4f25771f2923fa300fb75ee34a4141c0/expr.ipynb\"><img src=\"../38c015a0d4f25771f2923fa300fb75ee34a4141c0/expr.png\" style=\"display:inline;vertical-align:middle;\" /></a></td></tr>\n",
       "<tr><td>36</td><td>Variable</td><td></td><td><a class=\"ProveItLink\" href=\"../../../../../../core_expr_types/__pv_it/common/006c465e50948aa2b52285e2de47974f741255cc0/expr.ipynb\"><img src=\"../../../../../../core_expr_types/__pv_it/common/006c465e50948aa2b52285e2de47974f741255cc0/expr.png\" style=\"display:inline;vertical-align:middle;\" /></a></td></tr>\n",
       "<tr><td>37</td><td>Operation</td><td>operator:&nbsp;39<br>operand:&nbsp;41<br></td><td><a class=\"ProveItLink\" href=\"../../../../../../numbers/addition/subtraction/__pv_it/theorems/bf4beda21975fe8a0a5007615b5bcc943da59bb20/expr.ipynb\"><img src=\"../../../../../../numbers/addition/subtraction/__pv_it/theorems/bf4beda21975fe8a0a5007615b5bcc943da59bb20/expr.png\" style=\"display:inline;vertical-align:middle;\" /></a></td></tr>\n",
       "<tr><td>38</td><td>Variable</td><td></td><td><a class=\"ProveItLink\" href=\"../../../../../../__pv_it/common/36861eae73a44b53d5b3b017ac6a3a9dae53bfba0/expr.ipynb\"><img src=\"../../../../../../__pv_it/common/36861eae73a44b53d5b3b017ac6a3a9dae53bfba0/expr.png\" style=\"display:inline;vertical-align:middle;\" /></a></td></tr>\n",
       "<tr><td>39</td><td>Literal</td><td></td><td><a class=\"ProveItLink\" href=\"../../../../../../numbers/negation/__pv_it/common/221b3c4d1770ee9051b7c044c3f9ec61196fc34b0/expr.ipynb\"><img src=\"../../../../../../numbers/negation/__pv_it/common/221b3c4d1770ee9051b7c044c3f9ec61196fc34b0/expr.png\" style=\"display:inline;vertical-align:middle;\" /></a></td></tr>\n",
       "<tr><td>40</td><td>ExprTuple</td><td>41</td><td><a class=\"ProveItLink\" href=\"../../../../../../numbers/addition/subtraction/__pv_it/theorems/b9e4f0dffece176bbe2f36127440684a20e0468e0/expr.ipynb\"><img src=\"../../../../../../numbers/addition/subtraction/__pv_it/theorems/b9e4f0dffece176bbe2f36127440684a20e0468e0/expr.png\" style=\"display:inline;vertical-align:middle;\" /></a></td></tr>\n",
       "<tr><td>41</td><td>Literal</td><td></td><td><a class=\"ProveItLink\" href=\"../../../../../../numbers/numerals/__pv_it/common/682157d4892d216d9e5626ed533aff9b56b9506e0/expr.ipynb\"><img src=\"../../../../../../numbers/numerals/__pv_it/common/682157d4892d216d9e5626ed533aff9b56b9506e0/expr.png\" style=\"display:inline;vertical-align:middle;\" /></a></td></tr>\n",
       "</table>\n"
      ],
      "text/plain": [
       "0. |(0 = 0, 1 = (0 + 1), (((-t + 2) + t) = (((-t + 2) - 1 + t) + 1)) and  (((-t + 3) + t) = (((-t + 3) - 1 + t) + 1)) and  ... and  ((0 + t) = ((0 - 1 + t) + 1)), (t + s) = (t + s))|\n",
       "   core type: Operation\n",
       "   operator: 1\n",
       "   operands: 2\n",
       "1. length\n",
       "   core type: Literal\n",
       "   sub-expressions: \n",
       "2. (0 = 0, 1 = (0 + 1), (((-t + 2) + t) = (((-t + 2) - 1 + t) + 1)) and  (((-t + 3) + t) = (((-t + 3) - 1 + t) + 1)) and  ... and  ((0 + t) = ((0 - 1 + t) + 1)), (t + s) = (t + s))\n",
       "   core type: ExprTuple\n",
       "   sub-expressions: 3, 4, 5, 6\n",
       "3. 0 = 0\n",
       "   core type: Operation\n",
       "   operator: 24\n",
       "   operands: 7\n",
       "4. 1 = (0 + 1)\n",
       "   core type: Operation\n",
       "   operator: 24\n",
       "   operands: 8\n",
       "5. (((-t + 2) + t) = (((-t + 2) - 1 + t) + 1)) and  (((-t + 3) + t) = (((-t + 3) - 1 + t) + 1)) and  ... and  ((0 + t) = ((0 - 1 + t) + 1))\n",
       "   core type: Operation\n",
       "   operator: 9\n",
       "   operands: 10\n",
       "6. (t + s) = (t + s)\n",
       "   core type: Operation\n",
       "   operator: 24\n",
       "   operands: 11\n",
       "7. (0, 0)\n",
       "   core type: ExprTuple\n",
       "   sub-expressions: 19, 19\n",
       "8. (1, 0 + 1)\n",
       "   core type: ExprTuple\n",
       "   sub-expressions: 41, 12\n",
       "9. and\n",
       "   core type: Literal\n",
       "   sub-expressions: \n",
       "10. ((((-t + 2) + t) = (((-t + 2) - 1 + t) + 1)), (((-t + 3) + t) = (((-t + 3) - 1 + t) + 1)), ..., ((0 + t) = ((0 - 1 + t) + 1)))\n",
       "    core type: ExprTuple\n",
       "    sub-expressions: 13\n",
       "11. (t + s, t + s)\n",
       "    core type: ExprTuple\n",
       "    sub-expressions: 14, 14\n",
       "12. 0 + 1\n",
       "    core type: Operation\n",
       "    operator: 34\n",
       "    operands: 15\n",
       "13. (((-t + 2) + t) = (((-t + 2) - 1 + t) + 1)), (((-t + 3) + t) = (((-t + 3) - 1 + t) + 1)), ..., ((0 + t) = ((0 - 1 + t) + 1))\n",
       "    core type: ExprRange\n",
       "    lambda_map: 16\n",
       "    start_index: 17\n",
       "    end_index: 19\n",
       "14. t + s\n",
       "    core type: Operation\n",
       "    operator: 34\n",
       "    operands: 18\n",
       "15. (0, 1)\n",
       "    core type: ExprTuple\n",
       "    sub-expressions: 19, 41\n",
       "16. _a -> ((_a + t) = ((_a - 1 + t) + 1))\n",
       "    core type: Lambda\n",
       "    parameter: 36\n",
       "    body: 21\n",
       "17. -t + 2\n",
       "    core type: Operation\n",
       "    operator: 34\n",
       "    operands: 22\n",
       "18. (t, s)\n",
       "    core type: ExprTuple\n",
       "    sub-expressions: 38, 23\n",
       "19. 0\n",
       "    core type: Literal\n",
       "    sub-expressions: \n",
       "20. (_a)\n",
       "    core type: ExprTuple\n",
       "    sub-expressions: 36\n",
       "21. (_a + t) = ((_a - 1 + t) + 1)\n",
       "    core type: Operation\n",
       "    operator: 24\n",
       "    operands: 25\n",
       "22. (-t, 2)\n",
       "    core type: ExprTuple\n",
       "    sub-expressions: 26, 27\n",
       "23. s\n",
       "    core type: Literal\n",
       "    sub-expressions: \n",
       "24. =\n",
       "    core type: Literal\n",
       "    sub-expressions: \n",
       "25. (_a + t, (_a - 1 + t) + 1)\n",
       "    core type: ExprTuple\n",
       "    sub-expressions: 28, 29\n",
       "26. -t\n",
       "    core type: Operation\n",
       "    operator: 39\n",
       "    operand: 38\n",
       "27. 2\n",
       "    core type: Literal\n",
       "    sub-expressions: \n",
       "28. _a + t\n",
       "    core type: Operation\n",
       "    operator: 34\n",
       "    operands: 31\n",
       "29. (_a - 1 + t) + 1\n",
       "    core type: Operation\n",
       "    operator: 34\n",
       "    operands: 32\n",
       "30. (t)\n",
       "    core type: ExprTuple\n",
       "    sub-expressions: 38\n",
       "31. (_a, t)\n",
       "    core type: ExprTuple\n",
       "    sub-expressions: 36, 38\n",
       "32. (_a - 1 + t, 1)\n",
       "    core type: ExprTuple\n",
       "    sub-expressions: 33, 41\n",
       "33. _a - 1 + t\n",
       "    core type: Operation\n",
       "    operator: 34\n",
       "    operands: 35\n",
       "34. +\n",
       "    core type: Literal\n",
       "    sub-expressions: \n",
       "35. (_a, -1, t)\n",
       "    core type: ExprTuple\n",
       "    sub-expressions: 36, 37, 38\n",
       "36. _a\n",
       "    core type: Variable\n",
       "    sub-expressions: \n",
       "37. -1\n",
       "    core type: Operation\n",
       "    operator: 39\n",
       "    operand: 41\n",
       "38. t\n",
       "    core type: Variable\n",
       "    sub-expressions: \n",
       "39. -\n",
       "    core type: Literal\n",
       "    sub-expressions: \n",
       "40. (1)\n",
       "    core type: ExprTuple\n",
       "    sub-expressions: 41\n",
       "41. 1\n",
       "    core type: Literal\n",
       "    sub-expressions: "
      ]
     },
     "metadata": {},
     "output_type": "display_data"
    }
   ],
   "source": [
    "# display the expression information\n",
    "stored_expr.expr_info()"
   ]
  },
  {
   "cell_type": "code",
   "execution_count": null,
   "metadata": {},
   "outputs": [],
   "source": []
  }
 ],
 "metadata": {
  "kernelspec": {
   "display_name": "Python 3",
   "language": "python",
   "name": "python3"
  }
 },
 "nbformat": 4,
 "nbformat_minor": 0
}