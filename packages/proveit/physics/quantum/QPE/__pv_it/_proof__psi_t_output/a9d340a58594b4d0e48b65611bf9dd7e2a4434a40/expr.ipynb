{
 "cells": [
  {
   "cell_type": "markdown",
   "metadata": {},
   "source": [
    "Expression of type <a class=\"ProveItLink\" href=\"../../../../../../../../doc/html/api/proveit.logic.Implies.html\">Implies</a>\n",
    "=======================\n",
    "# from the theory of <a class=\"ProveItLink\" href=\"../../../_theory_nbs_/theory.ipynb\">proveit.physics.quantum.QPE</a>"
   ]
  },
  {
   "cell_type": "code",
   "execution_count": 1,
   "metadata": {},
   "outputs": [],
   "source": [
    "import proveit\n",
    "# Automation is not needed when building an expression:\n",
    "proveit.defaults.automation = False # This will speed things up.\n",
    "proveit.defaults.inline_pngs = False # Makes files smaller.\n",
    "%load_expr # Load the stored expression as 'stored_expr'\n",
    "# import Expression classes needed to build the expression\n",
    "from proveit import ExprRange, Variable, t\n",
    "from proveit.linear_algebra import MatrixExp, Unitary\n",
    "from proveit.logic import And, Forall, Implies, InSet\n",
    "from proveit.numbers import Add, Exp, Interval, Neg, one, two, zero\n",
    "from proveit.physics.quantum.QPE import _U, _s"
   ]
  },
  {
   "cell_type": "code",
   "execution_count": 2,
   "metadata": {},
   "outputs": [
    {
     "data": {
      "text/html": [
       "<strong id=\"expr\">expr:</strong> <a class=\"ProveItLink\" href=\"expr.ipynb\"><img src=\"expr.png\" style=\"display:inline;vertical-align:middle;\" /></a><br>"
      ],
      "text/plain": [
       "<IPython.core.display.HTML object>"
      ]
     },
     "metadata": {},
     "output_type": "display_data"
    }
   ],
   "source": [
    "# build up the expression from sub-expressions\n",
    "sub_expr1 = Variable(\"_a\", latex_format = r\"{_{-}a}\")\n",
    "sub_expr2 = Add(Neg(t), one)\n",
    "sub_expr3 = InSet(MatrixExp(_U, Exp(two, Neg(sub_expr1))), Unitary(Exp(two, _s)))\n",
    "expr = Implies(Forall(instance_param_or_params = [sub_expr1], instance_expr = sub_expr3, domain = Interval(sub_expr2, zero)), And(ExprRange(sub_expr1, sub_expr3, sub_expr2, zero)))"
   ]
  },
  {
   "cell_type": "code",
   "execution_count": 3,
   "metadata": {},
   "outputs": [
    {
     "name": "stdout",
     "output_type": "stream",
     "text": [
      "Passed sanity check: expr matches stored_expr\n"
     ]
    }
   ],
   "source": [
    "# check that the built expression is the same as the stored expression\n",
    "assert expr == stored_expr\n",
    "assert expr._style_id == stored_expr._style_id\n",
    "print(\"Passed sanity check: expr matches stored_expr\")"
   ]
  },
  {
   "cell_type": "code",
   "execution_count": 4,
   "metadata": {},
   "outputs": [
    {
     "name": "stdout",
     "output_type": "stream",
     "text": [
      "\\left[\\forall_{{_{-}a} \\in \\{-t + 1~\\ldotp \\ldotp~0\\}}~\\left(U^{2^{-{_{-}a}}} \\in \\textrm{U}\\left(2^{s}\\right)\\right)\\right] \\Rightarrow \\left(\\left(U^{2^{-\\left(-t + 1\\right)}} \\in \\textrm{U}\\left(2^{s}\\right)\\right) \\land  \\left(U^{2^{-\\left(-t + 2\\right)}} \\in \\textrm{U}\\left(2^{s}\\right)\\right) \\land  \\ldots \\land  \\left(U^{2^{-0}} \\in \\textrm{U}\\left(2^{s}\\right)\\right)\\right)\n"
     ]
    }
   ],
   "source": [
    "# Show the LaTeX representation of the expression for convenience if you need it.\n",
    "print(stored_expr.latex())"
   ]
  },
  {
   "cell_type": "code",
   "execution_count": 5,
   "metadata": {},
   "outputs": [
    {
     "data": {
      "text/html": [
       "<table>\n",
       "<tr><th>name</th><th>description</th><th>default</th><th>current value</th><th>related methods</th></tr><tr><td>operation</td><td>'infix' or 'function' style formatting</td><td>infix</td><td>infix</td><td></td></tr>\n",
       "<tr><td>wrap_positions</td><td>position(s) at which wrapping is to occur; '2 n - 1' is after the nth operand, '2 n' is after the nth operation.</td><td>()</td><td>()</td><td>('with_wrapping_at', 'with_wrap_before_operator', 'with_wrap_after_operator', 'without_wrapping', 'wrap_positions')</td></tr>\n",
       "<tr><td>justification</td><td>if any wrap positions are set, justify to the 'left', 'center', or 'right'</td><td>center</td><td>center</td><td>('with_justification',)</td></tr>\n",
       "<tr><td>direction</td><td>Direction of the relation (normal or reversed)</td><td>normal</td><td>normal</td><td>('with_direction_reversed', 'is_reversed')</td></tr>\n",
       "</table>\n"
      ],
      "text/plain": [
       "style name: operation\n",
       "description: 'infix' or 'function' style formatting\n",
       "default: infix\n",
       "current value: infix\n",
       "related methods: ()\n",
       "style name: wrap_positions\n",
       "description: position(s) at which wrapping is to occur; '2 n - 1' is after the nth operand, '2 n' is after the nth operation.\n",
       "default: ()\n",
       "current value: ()\n",
       "related methods: ('with_wrapping_at', 'with_wrap_before_operator', 'with_wrap_after_operator', 'without_wrapping', 'wrap_positions')\n",
       "style name: justification\n",
       "description: if any wrap positions are set, justify to the 'left', 'center', or 'right'\n",
       "default: center\n",
       "current value: center\n",
       "related methods: ('with_justification',)\n",
       "style name: direction\n",
       "description: Direction of the relation (normal or reversed)\n",
       "default: normal\n",
       "current value: normal\n",
       "related methods: ('with_direction_reversed', 'is_reversed')"
      ]
     },
     "metadata": {},
     "output_type": "display_data"
    }
   ],
   "source": [
    "stored_expr.style_options()"
   ]
  },
  {
   "cell_type": "code",
   "execution_count": 6,
   "metadata": {},
   "outputs": [
    {
     "data": {
      "text/html": [
       "<table><tr><th>&nbsp;</th><th>core type</th><th>sub-expressions</th><th>expression</th></tr>\n",
       "<tr><td>0</td><td>Operation</td><td>operator:&nbsp;1<br>operands:&nbsp;2<br></td><td><a class=\"ProveItLink\" href=\"expr.ipynb\"><img src=\"expr.png\" style=\"display:inline;vertical-align:middle;\" /></a></td></tr>\n",
       "<tr><td>1</td><td>Literal</td><td></td><td><a class=\"ProveItLink\" href=\"../../../../../../logic/booleans/implication/__pv_it/common/02bdb382575728da8cdbaed545b9096ea7a1bd5b0/expr.ipynb\"><img src=\"../../../../../../logic/booleans/implication/__pv_it/common/02bdb382575728da8cdbaed545b9096ea7a1bd5b0/expr.png\" style=\"display:inline;vertical-align:middle;\" /></a></td></tr>\n",
       "<tr><td>2</td><td>ExprTuple</td><td>3, 4</td><td><a class=\"ProveItLink\" href=\"../5d47a0f2b4fa6df0c5d88093d6daad1964c7269f0/expr.ipynb\"><img src=\"../5d47a0f2b4fa6df0c5d88093d6daad1964c7269f0/expr.png\" style=\"display:inline;vertical-align:middle;\" /></a></td></tr>\n",
       "<tr><td>3</td><td>Operation</td><td>operator:&nbsp;5<br>operand:&nbsp;9<br></td><td><a class=\"ProveItLink\" href=\"../1e68221ec846e44a6c1f8b9c6f5f41931a19986a0/expr.ipynb\"><img src=\"../1e68221ec846e44a6c1f8b9c6f5f41931a19986a0/expr.png\" style=\"display:inline;vertical-align:middle;\" /></a></td></tr>\n",
       "<tr><td>4</td><td>Operation</td><td>operator:&nbsp;7<br>operands:&nbsp;8<br></td><td><a class=\"ProveItLink\" href=\"../a80dce114518d70c07e6ebc432a8bf493a66673e0/expr.ipynb\"><img src=\"../a80dce114518d70c07e6ebc432a8bf493a66673e0/expr.png\" style=\"display:inline;vertical-align:middle;\" /></a></td></tr>\n",
       "<tr><td>5</td><td>Literal</td><td></td><td><a class=\"ProveItLink\" href=\"../../../../../../logic/booleans/quantification/universality/__pv_it/common/083d2baa0b8ecab1d230f9ec29a15aa1355809fb0/expr.ipynb\"><img src=\"../../../../../../logic/booleans/quantification/universality/__pv_it/common/083d2baa0b8ecab1d230f9ec29a15aa1355809fb0/expr.png\" style=\"display:inline;vertical-align:middle;\" /></a></td></tr>\n",
       "<tr><td>6</td><td>ExprTuple</td><td>9</td><td><a class=\"ProveItLink\" href=\"../5730aaa07781d6aa6012c4a9ae978324e2404e9b0/expr.ipynb\"><img src=\"../5730aaa07781d6aa6012c4a9ae978324e2404e9b0/expr.png\" style=\"display:inline;vertical-align:middle;\" /></a></td></tr>\n",
       "<tr><td>7</td><td>Literal</td><td></td><td><a class=\"ProveItLink\" href=\"../../../../../../logic/booleans/conjunction/__pv_it/common/42118ff318bd65d98b1393f64ce7c2269feef76e0/expr.ipynb\"><img src=\"../../../../../../logic/booleans/conjunction/__pv_it/common/42118ff318bd65d98b1393f64ce7c2269feef76e0/expr.png\" style=\"display:inline;vertical-align:middle;\" /></a></td></tr>\n",
       "<tr><td>8</td><td>ExprTuple</td><td>10</td><td><a class=\"ProveItLink\" href=\"../66e352cbc1e5e450db89f5dd8fc17f09c07b4a110/expr.ipynb\"><img src=\"../66e352cbc1e5e450db89f5dd8fc17f09c07b4a110/expr.png\" style=\"display:inline;vertical-align:middle;\" /></a></td></tr>\n",
       "<tr><td>9</td><td>Lambda</td><td>parameter:&nbsp;46<br>body:&nbsp;11<br></td><td><a class=\"ProveItLink\" href=\"../4b49440dbdf06222c4dc728ab9b8839d0661edba0/expr.ipynb\"><img src=\"../4b49440dbdf06222c4dc728ab9b8839d0661edba0/expr.png\" style=\"display:inline;vertical-align:middle;\" /></a></td></tr>\n",
       "<tr><td>10</td><td>ExprRange</td><td>lambda_map:&nbsp;12<br>start_index:&nbsp;27<br>end_index:&nbsp;28<br></td><td><a class=\"ProveItLink\" href=\"../059519e8350b1eb4d167befe52a756fb7c7d8ffb0/expr.ipynb\"><img src=\"../059519e8350b1eb4d167befe52a756fb7c7d8ffb0/expr.png\" style=\"display:inline;vertical-align:middle;\" /></a></td></tr>\n",
       "<tr><td>11</td><td>Conditional</td><td>value:&nbsp;14<br>condition:&nbsp;13<br></td><td><a class=\"ProveItLink\" href=\"../09630a3386b145e813e75fad86781779e1b966300/expr.ipynb\"><img src=\"../09630a3386b145e813e75fad86781779e1b966300/expr.png\" style=\"display:inline;vertical-align:middle;\" /></a></td></tr>\n",
       "<tr><td>12</td><td>Lambda</td><td>parameter:&nbsp;46<br>body:&nbsp;14<br></td><td><a class=\"ProveItLink\" href=\"../349f95326885aff4c33ab25105060373d1eb9b760/expr.ipynb\"><img src=\"../349f95326885aff4c33ab25105060373d1eb9b760/expr.png\" style=\"display:inline;vertical-align:middle;\" /></a></td></tr>\n",
       "<tr><td>13</td><td>Operation</td><td>operator:&nbsp;16<br>operands:&nbsp;15<br></td><td><a class=\"ProveItLink\" href=\"../1ee9cd3ad1b0cb447a5f685f6371caca2a74402d0/expr.ipynb\"><img src=\"../1ee9cd3ad1b0cb447a5f685f6371caca2a74402d0/expr.png\" style=\"display:inline;vertical-align:middle;\" /></a></td></tr>\n",
       "<tr><td>14</td><td>Operation</td><td>operator:&nbsp;16<br>operands:&nbsp;17<br></td><td><a class=\"ProveItLink\" href=\"../aba14f9817d393c344aee24fb9bb60ffa183b5300/expr.ipynb\"><img src=\"../aba14f9817d393c344aee24fb9bb60ffa183b5300/expr.png\" style=\"display:inline;vertical-align:middle;\" /></a></td></tr>\n",
       "<tr><td>15</td><td>ExprTuple</td><td>46, 18</td><td><a class=\"ProveItLink\" href=\"../414d1005c74dc73579852bb2b2f35e9cfc9de2ee0/expr.ipynb\"><img src=\"../414d1005c74dc73579852bb2b2f35e9cfc9de2ee0/expr.png\" style=\"display:inline;vertical-align:middle;\" /></a></td></tr>\n",
       "<tr><td>16</td><td>Literal</td><td></td><td><a class=\"ProveItLink\" href=\"../../../../../../logic/sets/membership/__pv_it/common/477487d8796864d23d5810f83761435f25167f690/expr.ipynb\"><img src=\"../../../../../../logic/sets/membership/__pv_it/common/477487d8796864d23d5810f83761435f25167f690/expr.png\" style=\"display:inline;vertical-align:middle;\" /></a></td></tr>\n",
       "<tr><td>17</td><td>ExprTuple</td><td>19, 20</td><td><a class=\"ProveItLink\" href=\"../0ced9e1ad1701ed16ce1663034cc11da1a5245380/expr.ipynb\"><img src=\"../0ced9e1ad1701ed16ce1663034cc11da1a5245380/expr.png\" style=\"display:inline;vertical-align:middle;\" /></a></td></tr>\n",
       "<tr><td>18</td><td>Operation</td><td>operator:&nbsp;21<br>operands:&nbsp;22<br></td><td><a class=\"ProveItLink\" href=\"../2adfed017ad08b401b51d8c11048703150730a6c0/expr.ipynb\"><img src=\"../2adfed017ad08b401b51d8c11048703150730a6c0/expr.png\" style=\"display:inline;vertical-align:middle;\" /></a></td></tr>\n",
       "<tr><td>19</td><td>Operation</td><td>operator:&nbsp;23<br>operands:&nbsp;24<br></td><td><a class=\"ProveItLink\" href=\"../09024234aa785a5a9ff574a1cc16be2b4a85eca60/expr.ipynb\"><img src=\"../09024234aa785a5a9ff574a1cc16be2b4a85eca60/expr.png\" style=\"display:inline;vertical-align:middle;\" /></a></td></tr>\n",
       "<tr><td>20</td><td>Operation</td><td>operator:&nbsp;25<br>operand:&nbsp;31<br></td><td><a class=\"ProveItLink\" href=\"../../axioms/62599c18d4e779d034293dd9ab1784278777f3f40/expr.ipynb\"><img src=\"../../axioms/62599c18d4e779d034293dd9ab1784278777f3f40/expr.png\" style=\"display:inline;vertical-align:middle;\" /></a></td></tr>\n",
       "<tr><td>21</td><td>Literal</td><td></td><td><a class=\"ProveItLink\" href=\"../../../../../../numbers/number_sets/integers/__pv_it/common/92f3a0a77e3c3ea8e4a5c8674edadc54e4f57d550/expr.ipynb\"><img src=\"../../../../../../numbers/number_sets/integers/__pv_it/common/92f3a0a77e3c3ea8e4a5c8674edadc54e4f57d550/expr.png\" style=\"display:inline;vertical-align:middle;\" /></a></td></tr>\n",
       "<tr><td>22</td><td>ExprTuple</td><td>27, 28</td><td><a class=\"ProveItLink\" href=\"../09ccbfb60d89af48652edac0079c3e54513375af0/expr.ipynb\"><img src=\"../09ccbfb60d89af48652edac0079c3e54513375af0/expr.png\" style=\"display:inline;vertical-align:middle;\" /></a></td></tr>\n",
       "<tr><td>23</td><td>Literal</td><td></td><td><a class=\"ProveItLink\" href=\"../../../../../../linear_algebra/matrices/exponentiation/__pv_it/common/7d2841d26e131e75e1bb8532fff3e362feab15050/expr.ipynb\"><img src=\"../../../../../../linear_algebra/matrices/exponentiation/__pv_it/common/7d2841d26e131e75e1bb8532fff3e362feab15050/expr.png\" style=\"display:inline;vertical-align:middle;\" /></a></td></tr>\n",
       "<tr><td>24</td><td>ExprTuple</td><td>29, 30</td><td><a class=\"ProveItLink\" href=\"../3758b4aec2f00235e5e58191ba028fcd9d73fbf20/expr.ipynb\"><img src=\"../3758b4aec2f00235e5e58191ba028fcd9d73fbf20/expr.png\" style=\"display:inline;vertical-align:middle;\" /></a></td></tr>\n",
       "<tr><td>25</td><td>Literal</td><td></td><td><a class=\"ProveItLink\" href=\"../../../../../../linear_algebra/matrices/__pv_it/common/4ef8603cb69b80b124ebf92d970050986c8869e80/expr.ipynb\"><img src=\"../../../../../../linear_algebra/matrices/__pv_it/common/4ef8603cb69b80b124ebf92d970050986c8869e80/expr.png\" style=\"display:inline;vertical-align:middle;\" /></a></td></tr>\n",
       "<tr><td>26</td><td>ExprTuple</td><td>31</td><td><a class=\"ProveItLink\" href=\"../../axioms/467b49f0e350013186cc8f8bbb28aee2120d4bfb0/expr.ipynb\"><img src=\"../../axioms/467b49f0e350013186cc8f8bbb28aee2120d4bfb0/expr.png\" style=\"display:inline;vertical-align:middle;\" /></a></td></tr>\n",
       "<tr><td>27</td><td>Operation</td><td>operator:&nbsp;32<br>operands:&nbsp;33<br></td><td><a class=\"ProveItLink\" href=\"../../common/a377e33c8fca34123b321baad6051b47dc5d683c0/expr.ipynb\"><img src=\"../../common/a377e33c8fca34123b321baad6051b47dc5d683c0/expr.png\" style=\"display:inline;vertical-align:middle;\" /></a></td></tr>\n",
       "<tr><td>28</td><td>Literal</td><td></td><td><a class=\"ProveItLink\" href=\"../../../../../../numbers/numerals/__pv_it/common/dd4e19e8b134dfb293470ea55fe3589b0ab9f8040/expr.ipynb\"><img src=\"../../../../../../numbers/numerals/__pv_it/common/dd4e19e8b134dfb293470ea55fe3589b0ab9f8040/expr.png\" style=\"display:inline;vertical-align:middle;\" /></a></td></tr>\n",
       "<tr><td>29</td><td>Literal</td><td></td><td><a class=\"ProveItLink\" href=\"../../common/977758a9490d187b2ff100fdbc53911d78995da80/expr.ipynb\"><img src=\"../../common/977758a9490d187b2ff100fdbc53911d78995da80/expr.png\" style=\"display:inline;vertical-align:middle;\" /></a></td></tr>\n",
       "<tr><td>30</td><td>Operation</td><td>operator:&nbsp;35<br>operands:&nbsp;34<br></td><td><a class=\"ProveItLink\" href=\"../../axioms/6aaefb11a48ef527fac0302200ab58525f3e08470/expr.ipynb\"><img src=\"../../axioms/6aaefb11a48ef527fac0302200ab58525f3e08470/expr.png\" style=\"display:inline;vertical-align:middle;\" /></a></td></tr>\n",
       "<tr><td>31</td><td>Operation</td><td>operator:&nbsp;35<br>operands:&nbsp;36<br></td><td><a class=\"ProveItLink\" href=\"../../axioms/725a8ce730231784092c2149de4193c3a267bd810/expr.ipynb\"><img src=\"../../axioms/725a8ce730231784092c2149de4193c3a267bd810/expr.png\" style=\"display:inline;vertical-align:middle;\" /></a></td></tr>\n",
       "<tr><td>32</td><td>Literal</td><td></td><td><a class=\"ProveItLink\" href=\"../../../../../../numbers/addition/__pv_it/common/4b7effaab3619a1c2c38fe2dee8601df8ec714590/expr.ipynb\"><img src=\"../../../../../../numbers/addition/__pv_it/common/4b7effaab3619a1c2c38fe2dee8601df8ec714590/expr.png\" style=\"display:inline;vertical-align:middle;\" /></a></td></tr>\n",
       "<tr><td>33</td><td>ExprTuple</td><td>37, 38</td><td><a class=\"ProveItLink\" href=\"../../common/8e72b8f917ab0991a456ff8905abf07907bc8a980/expr.ipynb\"><img src=\"../../common/8e72b8f917ab0991a456ff8905abf07907bc8a980/expr.png\" style=\"display:inline;vertical-align:middle;\" /></a></td></tr>\n",
       "<tr><td>34</td><td>ExprTuple</td><td>40, 39</td><td><a class=\"ProveItLink\" href=\"../../axioms/b3655b5a38beb570d991cd84bc6e56af2b1e13b10/expr.ipynb\"><img src=\"../../axioms/b3655b5a38beb570d991cd84bc6e56af2b1e13b10/expr.png\" style=\"display:inline;vertical-align:middle;\" /></a></td></tr>\n",
       "<tr><td>35</td><td>Literal</td><td></td><td><a class=\"ProveItLink\" href=\"../../../../../../numbers/exponentiation/__pv_it/common/0ac37aca1e54c35c5cda09672df32d4f69f1f3020/expr.ipynb\"><img src=\"../../../../../../numbers/exponentiation/__pv_it/common/0ac37aca1e54c35c5cda09672df32d4f69f1f3020/expr.png\" style=\"display:inline;vertical-align:middle;\" /></a></td></tr>\n",
       "<tr><td>36</td><td>ExprTuple</td><td>40, 41</td><td><a class=\"ProveItLink\" href=\"../../axioms/ae8484ce70123c147f61ba777867aa403aa350fb0/expr.ipynb\"><img src=\"../../axioms/ae8484ce70123c147f61ba777867aa403aa350fb0/expr.png\" style=\"display:inline;vertical-align:middle;\" /></a></td></tr>\n",
       "<tr><td>37</td><td>Operation</td><td>operator:&nbsp;43<br>operand:&nbsp;45<br></td><td><a class=\"ProveItLink\" href=\"../../common/e0a0e1311f316a159cea49712cb715262ee967450/expr.ipynb\"><img src=\"../../common/e0a0e1311f316a159cea49712cb715262ee967450/expr.png\" style=\"display:inline;vertical-align:middle;\" /></a></td></tr>\n",
       "<tr><td>38</td><td>Literal</td><td></td><td><a class=\"ProveItLink\" href=\"../../../../../../numbers/numerals/__pv_it/common/682157d4892d216d9e5626ed533aff9b56b9506e0/expr.ipynb\"><img src=\"../../../../../../numbers/numerals/__pv_it/common/682157d4892d216d9e5626ed533aff9b56b9506e0/expr.png\" style=\"display:inline;vertical-align:middle;\" /></a></td></tr>\n",
       "<tr><td>39</td><td>Operation</td><td>operator:&nbsp;43<br>operand:&nbsp;46<br></td><td><a class=\"ProveItLink\" href=\"../../axioms/c5fcfcf5e2b9e5cd64c6510e278a376a70a576380/expr.ipynb\"><img src=\"../../axioms/c5fcfcf5e2b9e5cd64c6510e278a376a70a576380/expr.png\" style=\"display:inline;vertical-align:middle;\" /></a></td></tr>\n",
       "<tr><td>40</td><td>Literal</td><td></td><td><a class=\"ProveItLink\" href=\"../../../../../../numbers/numerals/__pv_it/common/af4aab8a07465db063742696e006d04670f30cf10/expr.ipynb\"><img src=\"../../../../../../numbers/numerals/__pv_it/common/af4aab8a07465db063742696e006d04670f30cf10/expr.png\" style=\"display:inline;vertical-align:middle;\" /></a></td></tr>\n",
       "<tr><td>41</td><td>Literal</td><td></td><td><a class=\"ProveItLink\" href=\"../../common/8a1628c4cfc7b78e5c5de183ba3f5cff0b20d4dd0/expr.ipynb\"><img src=\"../../common/8a1628c4cfc7b78e5c5de183ba3f5cff0b20d4dd0/expr.png\" style=\"display:inline;vertical-align:middle;\" /></a></td></tr>\n",
       "<tr><td>42</td><td>ExprTuple</td><td>45</td><td><a class=\"ProveItLink\" href=\"../../common/04971f5ed986452ec2d9047d1e0d56faa846096b0/expr.ipynb\"><img src=\"../../common/04971f5ed986452ec2d9047d1e0d56faa846096b0/expr.png\" style=\"display:inline;vertical-align:middle;\" /></a></td></tr>\n",
       "<tr><td>43</td><td>Literal</td><td></td><td><a class=\"ProveItLink\" href=\"../../../../../../numbers/negation/__pv_it/common/221b3c4d1770ee9051b7c044c3f9ec61196fc34b0/expr.ipynb\"><img src=\"../../../../../../numbers/negation/__pv_it/common/221b3c4d1770ee9051b7c044c3f9ec61196fc34b0/expr.png\" style=\"display:inline;vertical-align:middle;\" /></a></td></tr>\n",
       "<tr><td>44</td><td>ExprTuple</td><td>46</td><td><a class=\"ProveItLink\" href=\"../../common/4b0dd6be36d76552eda6a95d5b4a27f5a5b62f900/expr.ipynb\"><img src=\"../../common/4b0dd6be36d76552eda6a95d5b4a27f5a5b62f900/expr.png\" style=\"display:inline;vertical-align:middle;\" /></a></td></tr>\n",
       "<tr><td>45</td><td>Variable</td><td></td><td><a class=\"ProveItLink\" href=\"../../../../../../__pv_it/common/36861eae73a44b53d5b3b017ac6a3a9dae53bfba0/expr.ipynb\"><img src=\"../../../../../../__pv_it/common/36861eae73a44b53d5b3b017ac6a3a9dae53bfba0/expr.png\" style=\"display:inline;vertical-align:middle;\" /></a></td></tr>\n",
       "<tr><td>46</td><td>Variable</td><td></td><td><a class=\"ProveItLink\" href=\"../../common/006c465e50948aa2b52285e2de47974f741255cc0/expr.ipynb\"><img src=\"../../common/006c465e50948aa2b52285e2de47974f741255cc0/expr.png\" style=\"display:inline;vertical-align:middle;\" /></a></td></tr>\n",
       "</table>\n"
      ],
      "text/plain": [
       "0. [forall_{_a in {-t + 1 .. 0}} (U^{2^{-_a}} in U(2^{s}))] => ((U^{2^{-(-t + 1)}} in U(2^{s})) and  (U^{2^{-(-t + 2)}} in U(2^{s})) and  ... and  (U^{2^{-0}} in U(2^{s})))\n",
       "   core type: Operation\n",
       "   operator: 1\n",
       "   operands: 2\n",
       "1. =>\n",
       "   core type: Literal\n",
       "   sub-expressions: \n",
       "2. (forall_{_a in {-t + 1 .. 0}} (U^{2^{-_a}} in U(2^{s})), (U^{2^{-(-t + 1)}} in U(2^{s})) and  (U^{2^{-(-t + 2)}} in U(2^{s})) and  ... and  (U^{2^{-0}} in U(2^{s})))\n",
       "   core type: ExprTuple\n",
       "   sub-expressions: 3, 4\n",
       "3. forall_{_a in {-t + 1 .. 0}} (U^{2^{-_a}} in U(2^{s}))\n",
       "   core type: Operation\n",
       "   operator: 5\n",
       "   operand: 9\n",
       "4. (U^{2^{-(-t + 1)}} in U(2^{s})) and  (U^{2^{-(-t + 2)}} in U(2^{s})) and  ... and  (U^{2^{-0}} in U(2^{s}))\n",
       "   core type: Operation\n",
       "   operator: 7\n",
       "   operands: 8\n",
       "5. forall\n",
       "   core type: Literal\n",
       "   sub-expressions: \n",
       "6. (_a -> {U^{2^{-_a}} in U(2^{s}) if _a in {-t + 1 .. 0}.)\n",
       "   core type: ExprTuple\n",
       "   sub-expressions: 9\n",
       "7. and\n",
       "   core type: Literal\n",
       "   sub-expressions: \n",
       "8. ((U^{2^{-(-t + 1)}} in U(2^{s})), (U^{2^{-(-t + 2)}} in U(2^{s})), ..., (U^{2^{-0}} in U(2^{s})))\n",
       "   core type: ExprTuple\n",
       "   sub-expressions: 10\n",
       "9. _a -> {U^{2^{-_a}} in U(2^{s}) if _a in {-t + 1 .. 0}.\n",
       "   core type: Lambda\n",
       "   parameter: 46\n",
       "   body: 11\n",
       "10. (U^{2^{-(-t + 1)}} in U(2^{s})), (U^{2^{-(-t + 2)}} in U(2^{s})), ..., (U^{2^{-0}} in U(2^{s}))\n",
       "    core type: ExprRange\n",
       "    lambda_map: 12\n",
       "    start_index: 27\n",
       "    end_index: 28\n",
       "11. {U^{2^{-_a}} in U(2^{s}) if _a in {-t + 1 .. 0}.\n",
       "    core type: Conditional\n",
       "    value: 14\n",
       "    condition: 13\n",
       "12. _a -> (U^{2^{-_a}} in U(2^{s}))\n",
       "    core type: Lambda\n",
       "    parameter: 46\n",
       "    body: 14\n",
       "13. _a in {-t + 1 .. 0}\n",
       "    core type: Operation\n",
       "    operator: 16\n",
       "    operands: 15\n",
       "14. U^{2^{-_a}} in U(2^{s})\n",
       "    core type: Operation\n",
       "    operator: 16\n",
       "    operands: 17\n",
       "15. (_a, {-t + 1 .. 0})\n",
       "    core type: ExprTuple\n",
       "    sub-expressions: 46, 18\n",
       "16. in\n",
       "    core type: Literal\n",
       "    sub-expressions: \n",
       "17. (U^{2^{-_a}}, U(2^{s}))\n",
       "    core type: ExprTuple\n",
       "    sub-expressions: 19, 20\n",
       "18. {-t + 1 .. 0}\n",
       "    core type: Operation\n",
       "    operator: 21\n",
       "    operands: 22\n",
       "19. U^{2^{-_a}}\n",
       "    core type: Operation\n",
       "    operator: 23\n",
       "    operands: 24\n",
       "20. U(2^{s})\n",
       "    core type: Operation\n",
       "    operator: 25\n",
       "    operand: 31\n",
       "21. Interval\n",
       "    core type: Literal\n",
       "    sub-expressions: \n",
       "22. (-t + 1, 0)\n",
       "    core type: ExprTuple\n",
       "    sub-expressions: 27, 28\n",
       "23. ExpM\n",
       "    core type: Literal\n",
       "    sub-expressions: \n",
       "24. (U, 2^{-_a})\n",
       "    core type: ExprTuple\n",
       "    sub-expressions: 29, 30\n",
       "25. U\n",
       "    core type: Literal\n",
       "    sub-expressions: \n",
       "26. (2^{s})\n",
       "    core type: ExprTuple\n",
       "    sub-expressions: 31\n",
       "27. -t + 1\n",
       "    core type: Operation\n",
       "    operator: 32\n",
       "    operands: 33\n",
       "28. 0\n",
       "    core type: Literal\n",
       "    sub-expressions: \n",
       "29. U\n",
       "    core type: Literal\n",
       "    sub-expressions: \n",
       "30. 2^{-_a}\n",
       "    core type: Operation\n",
       "    operator: 35\n",
       "    operands: 34\n",
       "31. 2^{s}\n",
       "    core type: Operation\n",
       "    operator: 35\n",
       "    operands: 36\n",
       "32. +\n",
       "    core type: Literal\n",
       "    sub-expressions: \n",
       "33. (-t, 1)\n",
       "    core type: ExprTuple\n",
       "    sub-expressions: 37, 38\n",
       "34. (2, -_a)\n",
       "    core type: ExprTuple\n",
       "    sub-expressions: 40, 39\n",
       "35. Exp\n",
       "    core type: Literal\n",
       "    sub-expressions: \n",
       "36. (2, s)\n",
       "    core type: ExprTuple\n",
       "    sub-expressions: 40, 41\n",
       "37. -t\n",
       "    core type: Operation\n",
       "    operator: 43\n",
       "    operand: 45\n",
       "38. 1\n",
       "    core type: Literal\n",
       "    sub-expressions: \n",
       "39. -_a\n",
       "    core type: Operation\n",
       "    operator: 43\n",
       "    operand: 46\n",
       "40. 2\n",
       "    core type: Literal\n",
       "    sub-expressions: \n",
       "41. s\n",
       "    core type: Literal\n",
       "    sub-expressions: \n",
       "42. (t)\n",
       "    core type: ExprTuple\n",
       "    sub-expressions: 45\n",
       "43. -\n",
       "    core type: Literal\n",
       "    sub-expressions: \n",
       "44. (_a)\n",
       "    core type: ExprTuple\n",
       "    sub-expressions: 46\n",
       "45. t\n",
       "    core type: Variable\n",
       "    sub-expressions: \n",
       "46. _a\n",
       "    core type: Variable\n",
       "    sub-expressions: "
      ]
     },
     "metadata": {},
     "output_type": "display_data"
    }
   ],
   "source": [
    "# display the expression information\n",
    "stored_expr.expr_info()"
   ]
  },
  {
   "cell_type": "code",
   "execution_count": null,
   "metadata": {},
   "outputs": [],
   "source": []
  }
 ],
 "metadata": {
  "kernelspec": {
   "display_name": "Python 3",
   "language": "python",
   "name": "python3"
  }
 },
 "nbformat": 4,
 "nbformat_minor": 0
}