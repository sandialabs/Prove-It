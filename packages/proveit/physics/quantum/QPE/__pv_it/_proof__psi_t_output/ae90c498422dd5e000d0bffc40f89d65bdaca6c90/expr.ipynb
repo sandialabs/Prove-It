{
 "cells": [
  {
   "cell_type": "markdown",
   "metadata": {},
   "source": [
    "Expression of type <a class=\"ProveItLink\" href=\"../../../../../../../../doc/html/api/proveit.ExprTuple.html\">ExprTuple</a>\n",
    "=======================\n",
    "# from the theory of <a class=\"ProveItLink\" href=\"../../../_theory_nbs_/theory.ipynb\">proveit.physics.quantum.QPE</a>"
   ]
  },
  {
   "cell_type": "code",
   "execution_count": 1,
   "metadata": {},
   "outputs": [],
   "source": [
    "import proveit\n",
    "# Automation is not needed when building an expression:\n",
    "proveit.defaults.automation = False # This will speed things up.\n",
    "proveit.defaults.inline_pngs = False # Makes files smaller.\n",
    "%load_expr # Load the stored expression as 'stored_expr'\n",
    "# import Expression classes needed to build the expression\n",
    "from proveit import ExprRange, ExprTuple, Variable, t\n",
    "from proveit.numbers import Add, Neg, one, zero"
   ]
  },
  {
   "cell_type": "code",
   "execution_count": 2,
   "metadata": {},
   "outputs": [
    {
     "data": {
      "text/html": [
       "<strong id=\"expr\">expr:</strong> <a class=\"ProveItLink\" href=\"expr.ipynb\"><img src=\"expr.png\" style=\"display:inline;vertical-align:middle;\" /></a><br>"
      ],
      "text/plain": [
       "<IPython.core.display.HTML object>"
      ]
     },
     "metadata": {},
     "output_type": "display_data"
    }
   ],
   "source": [
    "# build up the expression from sub-expressions\n",
    "sub_expr1 = Variable(\"_a\", latex_format = r\"{_{-}a}\")\n",
    "expr = ExprTuple(ExprRange(sub_expr1, Add(sub_expr1, t), Add(Neg(t), one), zero))"
   ]
  },
  {
   "cell_type": "code",
   "execution_count": 3,
   "metadata": {},
   "outputs": [
    {
     "name": "stdout",
     "output_type": "stream",
     "text": [
      "Passed sanity check: expr matches stored_expr\n"
     ]
    }
   ],
   "source": [
    "# check that the built expression is the same as the stored expression\n",
    "assert expr == stored_expr\n",
    "assert expr._style_id == stored_expr._style_id\n",
    "print(\"Passed sanity check: expr matches stored_expr\")"
   ]
  },
  {
   "cell_type": "code",
   "execution_count": 4,
   "metadata": {},
   "outputs": [
    {
     "name": "stdout",
     "output_type": "stream",
     "text": [
      "\\left(\\left(\\left(-t + 1\\right) + t\\right), \\left(\\left(-t + 2\\right) + t\\right), \\ldots, \\left(0 + t\\right)\\right)\n"
     ]
    }
   ],
   "source": [
    "# Show the LaTeX representation of the expression for convenience if you need it.\n",
    "print(stored_expr.latex())"
   ]
  },
  {
   "cell_type": "code",
   "execution_count": 5,
   "metadata": {},
   "outputs": [
    {
     "data": {
      "text/html": [
       "no style options"
      ],
      "text/plain": [
       "no style options"
      ]
     },
     "metadata": {},
     "output_type": "display_data"
    }
   ],
   "source": [
    "stored_expr.style_options()"
   ]
  },
  {
   "cell_type": "code",
   "execution_count": 6,
   "metadata": {},
   "outputs": [
    {
     "data": {
      "text/html": [
       "<table><tr><th>&nbsp;</th><th>core type</th><th>sub-expressions</th><th>expression</th></tr>\n",
       "<tr><td>0</td><td>ExprTuple</td><td>1</td><td><a class=\"ProveItLink\" href=\"expr.ipynb\"><img src=\"expr.png\" style=\"display:inline;vertical-align:middle;\" /></a></td></tr>\n",
       "<tr><td>1</td><td>ExprRange</td><td>lambda_map:&nbsp;2<br>start_index:&nbsp;3<br>end_index:&nbsp;4<br></td><td><a class=\"ProveItLink\" href=\"../3bd784cca3bedd30738632279f7358261a87e09e0/expr.ipynb\"><img src=\"../3bd784cca3bedd30738632279f7358261a87e09e0/expr.png\" style=\"display:inline;vertical-align:middle;\" /></a></td></tr>\n",
       "<tr><td>2</td><td>Lambda</td><td>parameter:&nbsp;12<br>body:&nbsp;6<br></td><td><a class=\"ProveItLink\" href=\"../1576ec8852f472820ffb0f9d5acad455602ac1cf0/expr.ipynb\"><img src=\"../1576ec8852f472820ffb0f9d5acad455602ac1cf0/expr.png\" style=\"display:inline;vertical-align:middle;\" /></a></td></tr>\n",
       "<tr><td>3</td><td>Operation</td><td>operator:&nbsp;8<br>operands:&nbsp;7<br></td><td><a class=\"ProveItLink\" href=\"../../common/a377e33c8fca34123b321baad6051b47dc5d683c0/expr.ipynb\"><img src=\"../../common/a377e33c8fca34123b321baad6051b47dc5d683c0/expr.png\" style=\"display:inline;vertical-align:middle;\" /></a></td></tr>\n",
       "<tr><td>4</td><td>Literal</td><td></td><td><a class=\"ProveItLink\" href=\"../../../../../../numbers/numerals/__pv_it/common/dd4e19e8b134dfb293470ea55fe3589b0ab9f8040/expr.ipynb\"><img src=\"../../../../../../numbers/numerals/__pv_it/common/dd4e19e8b134dfb293470ea55fe3589b0ab9f8040/expr.png\" style=\"display:inline;vertical-align:middle;\" /></a></td></tr>\n",
       "<tr><td>5</td><td>ExprTuple</td><td>12</td><td><a class=\"ProveItLink\" href=\"../../../../../../core_expr_types/__pv_it/common/4b0dd6be36d76552eda6a95d5b4a27f5a5b62f900/expr.ipynb\"><img src=\"../../../../../../core_expr_types/__pv_it/common/4b0dd6be36d76552eda6a95d5b4a27f5a5b62f900/expr.png\" style=\"display:inline;vertical-align:middle;\" /></a></td></tr>\n",
       "<tr><td>6</td><td>Operation</td><td>operator:&nbsp;8<br>operands:&nbsp;9<br></td><td><a class=\"ProveItLink\" href=\"../0c860867b908a6fc174ae2cac4e75cdfd4100e530/expr.ipynb\"><img src=\"../0c860867b908a6fc174ae2cac4e75cdfd4100e530/expr.png\" style=\"display:inline;vertical-align:middle;\" /></a></td></tr>\n",
       "<tr><td>7</td><td>ExprTuple</td><td>10, 11</td><td><a class=\"ProveItLink\" href=\"../../common/8e72b8f917ab0991a456ff8905abf07907bc8a980/expr.ipynb\"><img src=\"../../common/8e72b8f917ab0991a456ff8905abf07907bc8a980/expr.png\" style=\"display:inline;vertical-align:middle;\" /></a></td></tr>\n",
       "<tr><td>8</td><td>Literal</td><td></td><td><a class=\"ProveItLink\" href=\"../../../../../../numbers/addition/__pv_it/common/4b7effaab3619a1c2c38fe2dee8601df8ec714590/expr.ipynb\"><img src=\"../../../../../../numbers/addition/__pv_it/common/4b7effaab3619a1c2c38fe2dee8601df8ec714590/expr.png\" style=\"display:inline;vertical-align:middle;\" /></a></td></tr>\n",
       "<tr><td>9</td><td>ExprTuple</td><td>12, 15</td><td><a class=\"ProveItLink\" href=\"../136d7ec91caa3cc39c08f4fd898ff1b4177843a40/expr.ipynb\"><img src=\"../136d7ec91caa3cc39c08f4fd898ff1b4177843a40/expr.png\" style=\"display:inline;vertical-align:middle;\" /></a></td></tr>\n",
       "<tr><td>10</td><td>Operation</td><td>operator:&nbsp;13<br>operand:&nbsp;15<br></td><td><a class=\"ProveItLink\" href=\"../../common/e0a0e1311f316a159cea49712cb715262ee967450/expr.ipynb\"><img src=\"../../common/e0a0e1311f316a159cea49712cb715262ee967450/expr.png\" style=\"display:inline;vertical-align:middle;\" /></a></td></tr>\n",
       "<tr><td>11</td><td>Literal</td><td></td><td><a class=\"ProveItLink\" href=\"../../../../../../numbers/numerals/__pv_it/common/682157d4892d216d9e5626ed533aff9b56b9506e0/expr.ipynb\"><img src=\"../../../../../../numbers/numerals/__pv_it/common/682157d4892d216d9e5626ed533aff9b56b9506e0/expr.png\" style=\"display:inline;vertical-align:middle;\" /></a></td></tr>\n",
       "<tr><td>12</td><td>Variable</td><td></td><td><a class=\"ProveItLink\" href=\"../../../../../../core_expr_types/__pv_it/common/006c465e50948aa2b52285e2de47974f741255cc0/expr.ipynb\"><img src=\"../../../../../../core_expr_types/__pv_it/common/006c465e50948aa2b52285e2de47974f741255cc0/expr.png\" style=\"display:inline;vertical-align:middle;\" /></a></td></tr>\n",
       "<tr><td>13</td><td>Literal</td><td></td><td><a class=\"ProveItLink\" href=\"../../../../../../numbers/negation/__pv_it/common/221b3c4d1770ee9051b7c044c3f9ec61196fc34b0/expr.ipynb\"><img src=\"../../../../../../numbers/negation/__pv_it/common/221b3c4d1770ee9051b7c044c3f9ec61196fc34b0/expr.png\" style=\"display:inline;vertical-align:middle;\" /></a></td></tr>\n",
       "<tr><td>14</td><td>ExprTuple</td><td>15</td><td><a class=\"ProveItLink\" href=\"../../common/04971f5ed986452ec2d9047d1e0d56faa846096b0/expr.ipynb\"><img src=\"../../common/04971f5ed986452ec2d9047d1e0d56faa846096b0/expr.png\" style=\"display:inline;vertical-align:middle;\" /></a></td></tr>\n",
       "<tr><td>15</td><td>Variable</td><td></td><td><a class=\"ProveItLink\" href=\"../../../../../../__pv_it/common/36861eae73a44b53d5b3b017ac6a3a9dae53bfba0/expr.ipynb\"><img src=\"../../../../../../__pv_it/common/36861eae73a44b53d5b3b017ac6a3a9dae53bfba0/expr.png\" style=\"display:inline;vertical-align:middle;\" /></a></td></tr>\n",
       "</table>\n"
      ],
      "text/plain": [
       "0. (((-t + 1) + t), ((-t + 2) + t), ..., (0 + t))\n",
       "   core type: ExprTuple\n",
       "   sub-expressions: 1\n",
       "1. ((-t + 1) + t), ((-t + 2) + t), ..., (0 + t)\n",
       "   core type: ExprRange\n",
       "   lambda_map: 2\n",
       "   start_index: 3\n",
       "   end_index: 4\n",
       "2. _a -> (_a + t)\n",
       "   core type: Lambda\n",
       "   parameter: 12\n",
       "   body: 6\n",
       "3. -t + 1\n",
       "   core type: Operation\n",
       "   operator: 8\n",
       "   operands: 7\n",
       "4. 0\n",
       "   core type: Literal\n",
       "   sub-expressions: \n",
       "5. (_a)\n",
       "   core type: ExprTuple\n",
       "   sub-expressions: 12\n",
       "6. _a + t\n",
       "   core type: Operation\n",
       "   operator: 8\n",
       "   operands: 9\n",
       "7. (-t, 1)\n",
       "   core type: ExprTuple\n",
       "   sub-expressions: 10, 11\n",
       "8. +\n",
       "   core type: Literal\n",
       "   sub-expressions: \n",
       "9. (_a, t)\n",
       "   core type: ExprTuple\n",
       "   sub-expressions: 12, 15\n",
       "10. -t\n",
       "    core type: Operation\n",
       "    operator: 13\n",
       "    operand: 15\n",
       "11. 1\n",
       "    core type: Literal\n",
       "    sub-expressions: \n",
       "12. _a\n",
       "    core type: Variable\n",
       "    sub-expressions: \n",
       "13. -\n",
       "    core type: Literal\n",
       "    sub-expressions: \n",
       "14. (t)\n",
       "    core type: ExprTuple\n",
       "    sub-expressions: 15\n",
       "15. t\n",
       "    core type: Variable\n",
       "    sub-expressions: "
      ]
     },
     "metadata": {},
     "output_type": "display_data"
    }
   ],
   "source": [
    "# display the expression information\n",
    "stored_expr.expr_info()"
   ]
  },
  {
   "cell_type": "code",
   "execution_count": null,
   "metadata": {},
   "outputs": [],
   "source": []
  }
 ],
 "metadata": {
  "kernelspec": {
   "display_name": "Python 3",
   "language": "python",
   "name": "python3"
  }
 },
 "nbformat": 4,
 "nbformat_minor": 0
}