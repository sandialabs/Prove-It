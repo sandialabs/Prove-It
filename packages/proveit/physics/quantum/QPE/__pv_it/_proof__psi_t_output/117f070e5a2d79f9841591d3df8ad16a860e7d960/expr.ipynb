{
 "cells": [
  {
   "cell_type": "markdown",
   "metadata": {},
   "source": [
    "Expression of type <a class=\"ProveItLink\" href=\"../../../../../../../../doc/html/api/proveit.ExprTuple.html\">ExprTuple</a>\n",
    "=======================\n",
    "# from the theory of <a class=\"ProveItLink\" href=\"../../../_theory_nbs_/theory.ipynb\">proveit.physics.quantum.QPE</a>"
   ]
  },
  {
   "cell_type": "code",
   "execution_count": 1,
   "metadata": {},
   "outputs": [],
   "source": [
    "import proveit\n",
    "# Automation is not needed when building an expression:\n",
    "proveit.defaults.automation = False # This will speed things up.\n",
    "proveit.defaults.inline_pngs = False # Makes files smaller.\n",
    "%load_expr # Load the stored expression as 'stored_expr'\n",
    "# import Expression classes needed to build the expression\n",
    "from proveit import ExprRange, ExprTuple, Variable, t\n",
    "from proveit.linear_algebra import TensorProd\n",
    "from proveit.numbers import Add, Interval, Neg, one, zero\n",
    "from proveit.physics.quantum.QPE import _ket_u, _psi_t_ket, _s\n",
    "from proveit.physics.quantum.circuits import MultiQubitElem, Output"
   ]
  },
  {
   "cell_type": "code",
   "execution_count": 2,
   "metadata": {},
   "outputs": [
    {
     "data": {
      "text/html": [
       "<strong id=\"expr\">expr:</strong> <a class=\"ProveItLink\" href=\"expr.ipynb\"><img src=\"expr.png\" style=\"display:inline;vertical-align:middle;\" /></a><br>"
      ],
      "text/plain": [
       "<IPython.core.display.HTML object>"
      ]
     },
     "metadata": {},
     "output_type": "display_data"
    }
   ],
   "source": [
    "# build up the expression from sub-expressions\n",
    "sub_expr1 = Variable(\"_a\", latex_format = r\"{_{-}a}\")\n",
    "sub_expr2 = Add(t, _s)\n",
    "sub_expr3 = TensorProd(_psi_t_ket, _ket_u)\n",
    "sub_expr4 = Interval(one, sub_expr2)\n",
    "sub_expr5 = MultiQubitElem(element = Output(state = sub_expr3, part = sub_expr1), targets = sub_expr4)\n",
    "sub_expr6 = ExprRange(sub_expr1, sub_expr5, Add(t, one), sub_expr2).with_wrapping_at(2,6)\n",
    "expr = ExprTuple([ExprRange(sub_expr1, MultiQubitElem(element = Output(state = sub_expr3, part = Add(sub_expr1, t)), targets = sub_expr4), Add(Neg(t), one), zero), sub_expr6], [ExprRange(sub_expr1, sub_expr5, one, t), sub_expr6])"
   ]
  },
  {
   "cell_type": "code",
   "execution_count": 3,
   "metadata": {},
   "outputs": [
    {
     "name": "stdout",
     "output_type": "stream",
     "text": [
      "Passed sanity check: expr matches stored_expr\n"
     ]
    }
   ],
   "source": [
    "# check that the built expression is the same as the stored expression\n",
    "assert expr == stored_expr\n",
    "assert expr._style_id == stored_expr._style_id\n",
    "print(\"Passed sanity check: expr matches stored_expr\")"
   ]
  },
  {
   "cell_type": "code",
   "execution_count": 4,
   "metadata": {},
   "outputs": [
    {
     "name": "stdout",
     "output_type": "stream",
     "text": [
      "\\left(\\left(\\begin{array}{c} \\Qcircuit@C=1em @R=.7em{\n",
      "& & \\qout{\\lvert \\psi_{t} \\rangle {\\otimes} \\lvert u \\rangle~\\mbox{part}~\\left(-t + 1\\right) + t~\\mbox{on}~\\{1~\\ldotp \\ldotp~t + s\\}} \n",
      "} \\end{array}, \\begin{array}{c} \\Qcircuit@C=1em @R=.7em{\n",
      "& & \\qout{\\lvert \\psi_{t} \\rangle {\\otimes} \\lvert u \\rangle~\\mbox{part}~\\left(-t + 2\\right) + t~\\mbox{on}~\\{1~\\ldotp \\ldotp~t + s\\}} \n",
      "} \\end{array}, \\ldots, \\begin{array}{c} \\Qcircuit@C=1em @R=.7em{\n",
      "& & \\qout{\\lvert \\psi_{t} \\rangle {\\otimes} \\lvert u \\rangle~\\mbox{part}~0 + t~\\mbox{on}~\\{1~\\ldotp \\ldotp~t + s\\}} \n",
      "} \\end{array},\\begin{array}{c} \\Qcircuit@C=1em @R=.7em{\n",
      "& & \\qout{\\lvert \\psi_{t} \\rangle {\\otimes} \\lvert u \\rangle~\\mbox{part}~t + 1~\\mbox{on}~\\{1~\\ldotp \\ldotp~t + s\\}} \n",
      "} \\end{array}, \\begin{array}{c} \\Qcircuit@C=1em @R=.7em{\n",
      "& & \\qout{\\lvert \\psi_{t} \\rangle {\\otimes} \\lvert u \\rangle~\\mbox{part}~t + 2~\\mbox{on}~\\{1~\\ldotp \\ldotp~t + s\\}} \n",
      "} \\end{array}, \\ldots, \\begin{array}{c} \\Qcircuit@C=1em @R=.7em{\n",
      "& & \\qout{\\lvert \\psi_{t} \\rangle {\\otimes} \\lvert u \\rangle~\\mbox{part}~t + s~\\mbox{on}~\\{1~\\ldotp \\ldotp~t + s\\}} \n",
      "} \\end{array}\\right), \\left(\\begin{array}{c} \\Qcircuit@C=1em @R=.7em{\n",
      "& & \\qout{\\lvert \\psi_{t} \\rangle {\\otimes} \\lvert u \\rangle~\\mbox{part}~1~\\mbox{on}~\\{1~\\ldotp \\ldotp~t + s\\}} \n",
      "} \\end{array}, \\begin{array}{c} \\Qcircuit@C=1em @R=.7em{\n",
      "& & \\qout{\\lvert \\psi_{t} \\rangle {\\otimes} \\lvert u \\rangle~\\mbox{part}~2~\\mbox{on}~\\{1~\\ldotp \\ldotp~t + s\\}} \n",
      "} \\end{array}, \\ldots, \\begin{array}{c} \\Qcircuit@C=1em @R=.7em{\n",
      "& & \\qout{\\lvert \\psi_{t} \\rangle {\\otimes} \\lvert u \\rangle~\\mbox{part}~t~\\mbox{on}~\\{1~\\ldotp \\ldotp~t + s\\}} \n",
      "} \\end{array},\\begin{array}{c} \\Qcircuit@C=1em @R=.7em{\n",
      "& & \\qout{\\lvert \\psi_{t} \\rangle {\\otimes} \\lvert u \\rangle~\\mbox{part}~t + 1~\\mbox{on}~\\{1~\\ldotp \\ldotp~t + s\\}} \n",
      "} \\end{array}, \\begin{array}{c} \\Qcircuit@C=1em @R=.7em{\n",
      "& & \\qout{\\lvert \\psi_{t} \\rangle {\\otimes} \\lvert u \\rangle~\\mbox{part}~t + 2~\\mbox{on}~\\{1~\\ldotp \\ldotp~t + s\\}} \n",
      "} \\end{array}, \\ldots, \\begin{array}{c} \\Qcircuit@C=1em @R=.7em{\n",
      "& & \\qout{\\lvert \\psi_{t} \\rangle {\\otimes} \\lvert u \\rangle~\\mbox{part}~t + s~\\mbox{on}~\\{1~\\ldotp \\ldotp~t + s\\}} \n",
      "} \\end{array}\\right)\\right)\n"
     ]
    }
   ],
   "source": [
    "# Show the LaTeX representation of the expression for convenience if you need it.\n",
    "print(stored_expr.latex())"
   ]
  },
  {
   "cell_type": "code",
   "execution_count": 5,
   "metadata": {},
   "outputs": [
    {
     "data": {
      "text/html": [
       "<table>\n",
       "<tr><th>name</th><th>description</th><th>default</th><th>current value</th><th>related methods</th></tr><tr><td>wrap_positions</td><td>position(s) at which wrapping is to occur; 'n' is after the nth comma.</td><td>()</td><td>()</td><td>('with_wrapping_at',)</td></tr>\n",
       "<tr><td>justification</td><td>if any wrap positions are set, justify to the 'left', 'center', or 'right'</td><td>left</td><td>left</td><td>('with_justification',)</td></tr>\n",
       "</table>\n"
      ],
      "text/plain": [
       "style name: wrap_positions\n",
       "description: position(s) at which wrapping is to occur; 'n' is after the nth comma.\n",
       "default: ()\n",
       "current value: ()\n",
       "related methods: ('with_wrapping_at',)\n",
       "style name: justification\n",
       "description: if any wrap positions are set, justify to the 'left', 'center', or 'right'\n",
       "default: left\n",
       "current value: left\n",
       "related methods: ('with_justification',)"
      ]
     },
     "metadata": {},
     "output_type": "display_data"
    }
   ],
   "source": [
    "stored_expr.style_options()"
   ]
  },
  {
   "cell_type": "code",
   "execution_count": 6,
   "metadata": {},
   "outputs": [
    {
     "data": {
      "text/html": [
       "<table><tr><th>&nbsp;</th><th>core type</th><th>sub-expressions</th><th>expression</th></tr>\n",
       "<tr><td>0</td><td>ExprTuple</td><td>1, 2</td><td><a class=\"ProveItLink\" href=\"expr.ipynb\"><img src=\"expr.png\" style=\"display:inline;vertical-align:middle;\" /></a></td></tr>\n",
       "<tr><td>1</td><td>ExprTuple</td><td>3, 5</td><td><a class=\"ProveItLink\" href=\"../98ecb5c1e19da5c2be2819307ce52a69ee0a8c210/expr.ipynb\"><img src=\"../98ecb5c1e19da5c2be2819307ce52a69ee0a8c210/expr.png\" style=\"display:inline;vertical-align:middle;\" /></a></td></tr>\n",
       "<tr><td>2</td><td>ExprTuple</td><td>4, 5</td><td><a class=\"ProveItLink\" href=\"../1bd05be3ac186b125b8c848f4534e94881d1f2a20/expr.ipynb\"><img src=\"../1bd05be3ac186b125b8c848f4534e94881d1f2a20/expr.png\" style=\"display:inline;vertical-align:middle;\" /></a></td></tr>\n",
       "<tr><td>3</td><td>ExprRange</td><td>lambda_map:&nbsp;6<br>start_index:&nbsp;7<br>end_index:&nbsp;8<br></td><td><a class=\"ProveItLink\" href=\"../de6e5c5b58a376c913b754757f96a63106db699c0/expr.ipynb\"><img src=\"../de6e5c5b58a376c913b754757f96a63106db699c0/expr.png\" style=\"display:inline;vertical-align:middle;\" /></a></td></tr>\n",
       "<tr><td>4</td><td>ExprRange</td><td>lambda_map:&nbsp;9<br>start_index:&nbsp;31<br>end_index:&nbsp;44<br></td><td><a class=\"ProveItLink\" href=\"../275b7f83fc4fb12b998f0b63f4bf2ef0d804b8800/expr.ipynb\"><img src=\"../275b7f83fc4fb12b998f0b63f4bf2ef0d804b8800/expr.png\" style=\"display:inline;vertical-align:middle;\" /></a></td></tr>\n",
       "<tr><td>5</td><td>ExprRange</td><td>lambda_map:&nbsp;9<br>start_index:&nbsp;10<br>end_index:&nbsp;32<br></td><td><a class=\"ProveItLink\" href=\"../b9c19c9cfcedf600031bec84c957e6c10d962c960/expr.ipynb\"><img src=\"../b9c19c9cfcedf600031bec84c957e6c10d962c960/expr.png\" style=\"display:inline;vertical-align:middle;\" /></a></td></tr>\n",
       "<tr><td>6</td><td>Lambda</td><td>parameter:&nbsp;38<br>body:&nbsp;11<br></td><td><a class=\"ProveItLink\" href=\"../6be32e1bc4b3993366960d521852dc5386ada1e10/expr.ipynb\"><img src=\"../6be32e1bc4b3993366960d521852dc5386ada1e10/expr.png\" style=\"display:inline;vertical-align:middle;\" /></a></td></tr>\n",
       "<tr><td>7</td><td>Operation</td><td>operator:&nbsp;36<br>operands:&nbsp;12<br></td><td><a class=\"ProveItLink\" href=\"../../common/a377e33c8fca34123b321baad6051b47dc5d683c0/expr.ipynb\"><img src=\"../../common/a377e33c8fca34123b321baad6051b47dc5d683c0/expr.png\" style=\"display:inline;vertical-align:middle;\" /></a></td></tr>\n",
       "<tr><td>8</td><td>Literal</td><td></td><td><a class=\"ProveItLink\" href=\"../../../../../../numbers/numerals/__pv_it/common/dd4e19e8b134dfb293470ea55fe3589b0ab9f8040/expr.ipynb\"><img src=\"../../../../../../numbers/numerals/__pv_it/common/dd4e19e8b134dfb293470ea55fe3589b0ab9f8040/expr.png\" style=\"display:inline;vertical-align:middle;\" /></a></td></tr>\n",
       "<tr><td>9</td><td>Lambda</td><td>parameter:&nbsp;38<br>body:&nbsp;14<br></td><td><a class=\"ProveItLink\" href=\"../a520fffc6b93e3a421f0592012f0a1a374a3606a0/expr.ipynb\"><img src=\"../a520fffc6b93e3a421f0592012f0a1a374a3606a0/expr.png\" style=\"display:inline;vertical-align:middle;\" /></a></td></tr>\n",
       "<tr><td>10</td><td>Operation</td><td>operator:&nbsp;36<br>operands:&nbsp;15<br></td><td><a class=\"ProveItLink\" href=\"../../../../circuits/__pv_it/common/da3a9b7cb1fc73dc54679e3aad35b8e91b8d8f820/expr.ipynb\"><img src=\"../../../../circuits/__pv_it/common/da3a9b7cb1fc73dc54679e3aad35b8e91b8d8f820/expr.png\" style=\"display:inline;vertical-align:middle;\" /></a></td></tr>\n",
       "<tr><td>11</td><td>Operation</td><td>operator:&nbsp;18<br>operands:&nbsp;16<br></td><td><a class=\"ProveItLink\" href=\"../94c16d88f77d29bc4a45e93f135d6926103317ef0/expr.ipynb\"><img src=\"../94c16d88f77d29bc4a45e93f135d6926103317ef0/expr.png\" style=\"display:inline;vertical-align:middle;\" /></a></td></tr>\n",
       "<tr><td>12</td><td>ExprTuple</td><td>17, 31</td><td><a class=\"ProveItLink\" href=\"../../common/8e72b8f917ab0991a456ff8905abf07907bc8a980/expr.ipynb\"><img src=\"../../common/8e72b8f917ab0991a456ff8905abf07907bc8a980/expr.png\" style=\"display:inline;vertical-align:middle;\" /></a></td></tr>\n",
       "<tr><td>13</td><td>ExprTuple</td><td>38</td><td><a class=\"ProveItLink\" href=\"../../../../../../core_expr_types/__pv_it/common/4b0dd6be36d76552eda6a95d5b4a27f5a5b62f900/expr.ipynb\"><img src=\"../../../../../../core_expr_types/__pv_it/common/4b0dd6be36d76552eda6a95d5b4a27f5a5b62f900/expr.png\" style=\"display:inline;vertical-align:middle;\" /></a></td></tr>\n",
       "<tr><td>14</td><td>Operation</td><td>operator:&nbsp;18<br>operands:&nbsp;19<br></td><td><a class=\"ProveItLink\" href=\"../2bc95077ced35393d36f69c24ac81b81d9c0e1330/expr.ipynb\"><img src=\"../2bc95077ced35393d36f69c24ac81b81d9c0e1330/expr.png\" style=\"display:inline;vertical-align:middle;\" /></a></td></tr>\n",
       "<tr><td>15</td><td>ExprTuple</td><td>44, 31</td><td><a class=\"ProveItLink\" href=\"../../../../circuits/__pv_it/common/163d7569c6c27dcd1ee82c5775d619290779899c0/expr.ipynb\"><img src=\"../../../../circuits/__pv_it/common/163d7569c6c27dcd1ee82c5775d619290779899c0/expr.png\" style=\"display:inline;vertical-align:middle;\" /></a></td></tr>\n",
       "<tr><td>16</td><td>NamedExprs</td><td>element: 20<br>targets: 23<br></td><td><a class=\"ProveItLink\" href=\"../db048a810ec5265c89950fc973393c65e71e60f30/expr.ipynb\"><img src=\"../db048a810ec5265c89950fc973393c65e71e60f30/expr.png\" style=\"display:inline;vertical-align:middle;\" /></a></td></tr>\n",
       "<tr><td>17</td><td>Operation</td><td>operator:&nbsp;21<br>operand:&nbsp;44<br></td><td><a class=\"ProveItLink\" href=\"../../common/e0a0e1311f316a159cea49712cb715262ee967450/expr.ipynb\"><img src=\"../../common/e0a0e1311f316a159cea49712cb715262ee967450/expr.png\" style=\"display:inline;vertical-align:middle;\" /></a></td></tr>\n",
       "<tr><td>18</td><td>Literal</td><td></td><td><a class=\"ProveItLink\" href=\"../../../../circuits/__pv_it/common/5eaa43008f05c06941080a12337ff182ea14996e0/expr.ipynb\"><img src=\"../../../../circuits/__pv_it/common/5eaa43008f05c06941080a12337ff182ea14996e0/expr.png\" style=\"display:inline;vertical-align:middle;\" /></a></td></tr>\n",
       "<tr><td>19</td><td>NamedExprs</td><td>element: 22<br>targets: 23<br></td><td><a class=\"ProveItLink\" href=\"../37d638f1a05cd0db10d9c1881b1c412d30a1a2ae0/expr.ipynb\"><img src=\"../37d638f1a05cd0db10d9c1881b1c412d30a1a2ae0/expr.png\" style=\"display:inline;vertical-align:middle;\" /></a></td></tr>\n",
       "<tr><td>20</td><td>Operation</td><td>operator:&nbsp;25<br>operands:&nbsp;24<br></td><td><a class=\"ProveItLink\" href=\"../7919d0a693d6bc56ccbf28d27e63cc2cfefa2a630/expr.ipynb\"><img src=\"../7919d0a693d6bc56ccbf28d27e63cc2cfefa2a630/expr.png\" style=\"display:inline;vertical-align:middle;\" /></a></td></tr>\n",
       "<tr><td>21</td><td>Literal</td><td></td><td><a class=\"ProveItLink\" href=\"../../../../../../numbers/negation/__pv_it/common/221b3c4d1770ee9051b7c044c3f9ec61196fc34b0/expr.ipynb\"><img src=\"../../../../../../numbers/negation/__pv_it/common/221b3c4d1770ee9051b7c044c3f9ec61196fc34b0/expr.png\" style=\"display:inline;vertical-align:middle;\" /></a></td></tr>\n",
       "<tr><td>22</td><td>Operation</td><td>operator:&nbsp;25<br>operands:&nbsp;26<br></td><td><a class=\"ProveItLink\" href=\"../1859f15d8f65ee0c81b0652f925279c8319212540/expr.ipynb\"><img src=\"../1859f15d8f65ee0c81b0652f925279c8319212540/expr.png\" style=\"display:inline;vertical-align:middle;\" /></a></td></tr>\n",
       "<tr><td>23</td><td>Operation</td><td>operator:&nbsp;27<br>operands:&nbsp;28<br></td><td><a class=\"ProveItLink\" href=\"../../theorems/8b1bca84bb9ee4c20163dea5f85ded4dcaf247080/expr.ipynb\"><img src=\"../../theorems/8b1bca84bb9ee4c20163dea5f85ded4dcaf247080/expr.png\" style=\"display:inline;vertical-align:middle;\" /></a></td></tr>\n",
       "<tr><td>24</td><td>NamedExprs</td><td>state: 30<br>part: 29<br></td><td><a class=\"ProveItLink\" href=\"../989a747af7b60b2c90252708c7fc5c72a363d8ce0/expr.ipynb\"><img src=\"../989a747af7b60b2c90252708c7fc5c72a363d8ce0/expr.png\" style=\"display:inline;vertical-align:middle;\" /></a></td></tr>\n",
       "<tr><td>25</td><td>Literal</td><td></td><td><a class=\"ProveItLink\" href=\"../../../../circuits/__pv_it/common/00345a9c4f4d361e0b6e8bbbbe5a33a8ec86a20b0/expr.ipynb\"><img src=\"../../../../circuits/__pv_it/common/00345a9c4f4d361e0b6e8bbbbe5a33a8ec86a20b0/expr.png\" style=\"display:inline;vertical-align:middle;\" /></a></td></tr>\n",
       "<tr><td>26</td><td>NamedExprs</td><td>state: 30<br>part: 38<br></td><td><a class=\"ProveItLink\" href=\"../673037c50c552f0854c5e7fddf6f408fc032b9430/expr.ipynb\"><img src=\"../673037c50c552f0854c5e7fddf6f408fc032b9430/expr.png\" style=\"display:inline;vertical-align:middle;\" /></a></td></tr>\n",
       "<tr><td>27</td><td>Literal</td><td></td><td><a class=\"ProveItLink\" href=\"../../../../../../numbers/number_sets/integers/__pv_it/common/92f3a0a77e3c3ea8e4a5c8674edadc54e4f57d550/expr.ipynb\"><img src=\"../../../../../../numbers/number_sets/integers/__pv_it/common/92f3a0a77e3c3ea8e4a5c8674edadc54e4f57d550/expr.png\" style=\"display:inline;vertical-align:middle;\" /></a></td></tr>\n",
       "<tr><td>28</td><td>ExprTuple</td><td>31, 32</td><td><a class=\"ProveItLink\" href=\"../../theorems/3f423dad95fd45dde4f32a2a3edac43eb31fdbb40/expr.ipynb\"><img src=\"../../theorems/3f423dad95fd45dde4f32a2a3edac43eb31fdbb40/expr.png\" style=\"display:inline;vertical-align:middle;\" /></a></td></tr>\n",
       "<tr><td>29</td><td>Operation</td><td>operator:&nbsp;36<br>operands:&nbsp;33<br></td><td><a class=\"ProveItLink\" href=\"../0c860867b908a6fc174ae2cac4e75cdfd4100e530/expr.ipynb\"><img src=\"../0c860867b908a6fc174ae2cac4e75cdfd4100e530/expr.png\" style=\"display:inline;vertical-align:middle;\" /></a></td></tr>\n",
       "<tr><td>30</td><td>Operation</td><td>operator:&nbsp;34<br>operands:&nbsp;35<br></td><td><a class=\"ProveItLink\" href=\"../9d03c9d631d599f40ce9646915f4138f5f55c6e00/expr.ipynb\"><img src=\"../9d03c9d631d599f40ce9646915f4138f5f55c6e00/expr.png\" style=\"display:inline;vertical-align:middle;\" /></a></td></tr>\n",
       "<tr><td>31</td><td>Literal</td><td></td><td><a class=\"ProveItLink\" href=\"../../../../../../numbers/numerals/__pv_it/common/682157d4892d216d9e5626ed533aff9b56b9506e0/expr.ipynb\"><img src=\"../../../../../../numbers/numerals/__pv_it/common/682157d4892d216d9e5626ed533aff9b56b9506e0/expr.png\" style=\"display:inline;vertical-align:middle;\" /></a></td></tr>\n",
       "<tr><td>32</td><td>Operation</td><td>operator:&nbsp;36<br>operands:&nbsp;37<br></td><td><a class=\"ProveItLink\" href=\"../../theorems/d2d49f53ed6c0d9ac7dc8d27b9cf718603e9bc9d0/expr.ipynb\"><img src=\"../../theorems/d2d49f53ed6c0d9ac7dc8d27b9cf718603e9bc9d0/expr.png\" style=\"display:inline;vertical-align:middle;\" /></a></td></tr>\n",
       "<tr><td>33</td><td>ExprTuple</td><td>38, 44</td><td><a class=\"ProveItLink\" href=\"../136d7ec91caa3cc39c08f4fd898ff1b4177843a40/expr.ipynb\"><img src=\"../136d7ec91caa3cc39c08f4fd898ff1b4177843a40/expr.png\" style=\"display:inline;vertical-align:middle;\" /></a></td></tr>\n",
       "<tr><td>34</td><td>Literal</td><td></td><td><a class=\"ProveItLink\" href=\"../../../../../../linear_algebra/tensors/__pv_it/common/7fa25b05174babb4710be62d63ebd43f68aa2fec0/expr.ipynb\"><img src=\"../../../../../../linear_algebra/tensors/__pv_it/common/7fa25b05174babb4710be62d63ebd43f68aa2fec0/expr.png\" style=\"display:inline;vertical-align:middle;\" /></a></td></tr>\n",
       "<tr><td>35</td><td>ExprTuple</td><td>39, 40</td><td><a class=\"ProveItLink\" href=\"../a0db1570b11e83734937500a434ee51fffa464a80/expr.ipynb\"><img src=\"../a0db1570b11e83734937500a434ee51fffa464a80/expr.png\" style=\"display:inline;vertical-align:middle;\" /></a></td></tr>\n",
       "<tr><td>36</td><td>Literal</td><td></td><td><a class=\"ProveItLink\" href=\"../../../../../../numbers/addition/__pv_it/common/4b7effaab3619a1c2c38fe2dee8601df8ec714590/expr.ipynb\"><img src=\"../../../../../../numbers/addition/__pv_it/common/4b7effaab3619a1c2c38fe2dee8601df8ec714590/expr.png\" style=\"display:inline;vertical-align:middle;\" /></a></td></tr>\n",
       "<tr><td>37</td><td>ExprTuple</td><td>44, 41</td><td><a class=\"ProveItLink\" href=\"../../theorems/f3cff4586a5d1e7c2858f11ee1a5ac76adcdcc010/expr.ipynb\"><img src=\"../../theorems/f3cff4586a5d1e7c2858f11ee1a5ac76adcdcc010/expr.png\" style=\"display:inline;vertical-align:middle;\" /></a></td></tr>\n",
       "<tr><td>38</td><td>Variable</td><td></td><td><a class=\"ProveItLink\" href=\"../../../../../../core_expr_types/__pv_it/common/006c465e50948aa2b52285e2de47974f741255cc0/expr.ipynb\"><img src=\"../../../../../../core_expr_types/__pv_it/common/006c465e50948aa2b52285e2de47974f741255cc0/expr.png\" style=\"display:inline;vertical-align:middle;\" /></a></td></tr>\n",
       "<tr><td>39</td><td>Operation</td><td>operator:&nbsp;42<br>operand:&nbsp;44<br></td><td><a class=\"ProveItLink\" href=\"../../common/b3612284596c95f78b4fe90ba4066e839001e5710/expr.ipynb\"><img src=\"../../common/b3612284596c95f78b4fe90ba4066e839001e5710/expr.png\" style=\"display:inline;vertical-align:middle;\" /></a></td></tr>\n",
       "<tr><td>40</td><td>Literal</td><td></td><td><a class=\"ProveItLink\" href=\"../../common/ca39d48f285e5b8b9c4fc5a4225a68cd859974bc0/expr.ipynb\"><img src=\"../../common/ca39d48f285e5b8b9c4fc5a4225a68cd859974bc0/expr.png\" style=\"display:inline;vertical-align:middle;\" /></a></td></tr>\n",
       "<tr><td>41</td><td>Literal</td><td></td><td><a class=\"ProveItLink\" href=\"../../common/8a1628c4cfc7b78e5c5de183ba3f5cff0b20d4dd0/expr.ipynb\"><img src=\"../../common/8a1628c4cfc7b78e5c5de183ba3f5cff0b20d4dd0/expr.png\" style=\"display:inline;vertical-align:middle;\" /></a></td></tr>\n",
       "<tr><td>42</td><td>Literal</td><td></td><td><a class=\"ProveItLink\" href=\"../../common/3cd01098f6477695c5f95f3614ef4302a3a569f40/expr.ipynb\"><img src=\"../../common/3cd01098f6477695c5f95f3614ef4302a3a569f40/expr.png\" style=\"display:inline;vertical-align:middle;\" /></a></td></tr>\n",
       "<tr><td>43</td><td>ExprTuple</td><td>44</td><td><a class=\"ProveItLink\" href=\"../../common/04971f5ed986452ec2d9047d1e0d56faa846096b0/expr.ipynb\"><img src=\"../../common/04971f5ed986452ec2d9047d1e0d56faa846096b0/expr.png\" style=\"display:inline;vertical-align:middle;\" /></a></td></tr>\n",
       "<tr><td>44</td><td>Variable</td><td></td><td><a class=\"ProveItLink\" href=\"../../../../../../__pv_it/common/36861eae73a44b53d5b3b017ac6a3a9dae53bfba0/expr.ipynb\"><img src=\"../../../../../../__pv_it/common/36861eae73a44b53d5b3b017ac6a3a9dae53bfba0/expr.png\" style=\"display:inline;vertical-align:middle;\" /></a></td></tr>\n",
       "</table>\n"
      ],
      "text/plain": [
       "0. (([MULTI_QUBIT_ELEM]{element:[OUTPUT]{state:(|psi_{t}> otimes |u>), part:((-t + 1) + t)}, targets:{1 .. t + s}}, [MULTI_QUBIT_ELEM]{element:[OUTPUT]{state:(|psi_{t}> otimes |u>), part:((-t + 2) + t)}, targets:{1 .. t + s}}, ..., [MULTI_QUBIT_ELEM]{element:[OUTPUT]{state:(|psi_{t}> otimes |u>), part:(0 + t)}, targets:{1 .. t + s}},[MULTI_QUBIT_ELEM]{element:[OUTPUT]{state:(|psi_{t}> otimes |u>), part:(t + 1)}, targets:{1 .. t + s}}, [MULTI_QUBIT_ELEM]{element:[OUTPUT]{state:(|psi_{t}> otimes |u>), part:(t + 2)}, targets:{1 .. t + s}}, ..., [MULTI_QUBIT_ELEM]{element:[OUTPUT]{state:(|psi_{t}> otimes |u>), part:(t + s)}, targets:{1 .. t + s}}), ([MULTI_QUBIT_ELEM]{element:[OUTPUT]{state:(|psi_{t}> otimes |u>), part:1}, targets:{1 .. t + s}}, [MULTI_QUBIT_ELEM]{element:[OUTPUT]{state:(|psi_{t}> otimes |u>), part:2}, targets:{1 .. t + s}}, ..., [MULTI_QUBIT_ELEM]{element:[OUTPUT]{state:(|psi_{t}> otimes |u>), part:t}, targets:{1 .. t + s}},[MULTI_QUBIT_ELEM]{element:[OUTPUT]{state:(|psi_{t}> otimes |u>), part:(t + 1)}, targets:{1 .. t + s}}, [MULTI_QUBIT_ELEM]{element:[OUTPUT]{state:(|psi_{t}> otimes |u>), part:(t + 2)}, targets:{1 .. t + s}}, ..., [MULTI_QUBIT_ELEM]{element:[OUTPUT]{state:(|psi_{t}> otimes |u>), part:(t + s)}, targets:{1 .. t + s}}))\n",
       "   core type: ExprTuple\n",
       "   sub-expressions: 1, 2\n",
       "1. ([MULTI_QUBIT_ELEM]{element:[OUTPUT]{state:(|psi_{t}> otimes |u>), part:((-t + 1) + t)}, targets:{1 .. t + s}}, [MULTI_QUBIT_ELEM]{element:[OUTPUT]{state:(|psi_{t}> otimes |u>), part:((-t + 2) + t)}, targets:{1 .. t + s}}, ..., [MULTI_QUBIT_ELEM]{element:[OUTPUT]{state:(|psi_{t}> otimes |u>), part:(0 + t)}, targets:{1 .. t + s}},[MULTI_QUBIT_ELEM]{element:[OUTPUT]{state:(|psi_{t}> otimes |u>), part:(t + 1)}, targets:{1 .. t + s}}, [MULTI_QUBIT_ELEM]{element:[OUTPUT]{state:(|psi_{t}> otimes |u>), part:(t + 2)}, targets:{1 .. t + s}}, ..., [MULTI_QUBIT_ELEM]{element:[OUTPUT]{state:(|psi_{t}> otimes |u>), part:(t + s)}, targets:{1 .. t + s}})\n",
       "   core type: ExprTuple\n",
       "   sub-expressions: 3, 5\n",
       "2. ([MULTI_QUBIT_ELEM]{element:[OUTPUT]{state:(|psi_{t}> otimes |u>), part:1}, targets:{1 .. t + s}}, [MULTI_QUBIT_ELEM]{element:[OUTPUT]{state:(|psi_{t}> otimes |u>), part:2}, targets:{1 .. t + s}}, ..., [MULTI_QUBIT_ELEM]{element:[OUTPUT]{state:(|psi_{t}> otimes |u>), part:t}, targets:{1 .. t + s}},[MULTI_QUBIT_ELEM]{element:[OUTPUT]{state:(|psi_{t}> otimes |u>), part:(t + 1)}, targets:{1 .. t + s}}, [MULTI_QUBIT_ELEM]{element:[OUTPUT]{state:(|psi_{t}> otimes |u>), part:(t + 2)}, targets:{1 .. t + s}}, ..., [MULTI_QUBIT_ELEM]{element:[OUTPUT]{state:(|psi_{t}> otimes |u>), part:(t + s)}, targets:{1 .. t + s}})\n",
       "   core type: ExprTuple\n",
       "   sub-expressions: 4, 5\n",
       "3. [MULTI_QUBIT_ELEM]{element:[OUTPUT]{state:(|psi_{t}> otimes |u>), part:((-t + 1) + t)}, targets:{1 .. t + s}}, [MULTI_QUBIT_ELEM]{element:[OUTPUT]{state:(|psi_{t}> otimes |u>), part:((-t + 2) + t)}, targets:{1 .. t + s}}, ..., [MULTI_QUBIT_ELEM]{element:[OUTPUT]{state:(|psi_{t}> otimes |u>), part:(0 + t)}, targets:{1 .. t + s}}\n",
       "   core type: ExprRange\n",
       "   lambda_map: 6\n",
       "   start_index: 7\n",
       "   end_index: 8\n",
       "4. [MULTI_QUBIT_ELEM]{element:[OUTPUT]{state:(|psi_{t}> otimes |u>), part:1}, targets:{1 .. t + s}}, [MULTI_QUBIT_ELEM]{element:[OUTPUT]{state:(|psi_{t}> otimes |u>), part:2}, targets:{1 .. t + s}}, ..., [MULTI_QUBIT_ELEM]{element:[OUTPUT]{state:(|psi_{t}> otimes |u>), part:t}, targets:{1 .. t + s}}\n",
       "   core type: ExprRange\n",
       "   lambda_map: 9\n",
       "   start_index: 31\n",
       "   end_index: 44\n",
       "5. [MULTI_QUBIT_ELEM]{element:[OUTPUT]{state:(|psi_{t}> otimes |u>), part:(t + 1)}, targets:{1 .. t + s}},  \\\\ [MULTI_QUBIT_ELEM]{element:[OUTPUT]{state:(|psi_{t}> otimes |u>), part:(t + 2)}, targets:{1 .. t + s}}, ...,  \\\\ [MULTI_QUBIT_ELEM]{element:[OUTPUT]{state:(|psi_{t}> otimes |u>), part:(t + s)}, targets:{1 .. t + s}}\n",
       "   core type: ExprRange\n",
       "   lambda_map: 9\n",
       "   start_index: 10\n",
       "   end_index: 32\n",
       "6. _a -> [MULTI_QUBIT_ELEM]{element:[OUTPUT]{state:(|psi_{t}> otimes |u>), part:(_a + t)}, targets:{1 .. t + s}}\n",
       "   core type: Lambda\n",
       "   parameter: 38\n",
       "   body: 11\n",
       "7. -t + 1\n",
       "   core type: Operation\n",
       "   operator: 36\n",
       "   operands: 12\n",
       "8. 0\n",
       "   core type: Literal\n",
       "   sub-expressions: \n",
       "9. _a -> [MULTI_QUBIT_ELEM]{element:[OUTPUT]{state:(|psi_{t}> otimes |u>), part:_a}, targets:{1 .. t + s}}\n",
       "   core type: Lambda\n",
       "   parameter: 38\n",
       "   body: 14\n",
       "10. t + 1\n",
       "    core type: Operation\n",
       "    operator: 36\n",
       "    operands: 15\n",
       "11. [MULTI_QUBIT_ELEM]{element:[OUTPUT]{state:(|psi_{t}> otimes |u>), part:(_a + t)}, targets:{1 .. t + s}}\n",
       "    core type: Operation\n",
       "    operator: 18\n",
       "    operands: 16\n",
       "12. (-t, 1)\n",
       "    core type: ExprTuple\n",
       "    sub-expressions: 17, 31\n",
       "13. (_a)\n",
       "    core type: ExprTuple\n",
       "    sub-expressions: 38\n",
       "14. [MULTI_QUBIT_ELEM]{element:[OUTPUT]{state:(|psi_{t}> otimes |u>), part:_a}, targets:{1 .. t + s}}\n",
       "    core type: Operation\n",
       "    operator: 18\n",
       "    operands: 19\n",
       "15. (t, 1)\n",
       "    core type: ExprTuple\n",
       "    sub-expressions: 44, 31\n",
       "16. {element:[OUTPUT]{state:(|psi_{t}> otimes |u>), part:(_a + t)}, targets:{1 .. t + s}}\n",
       "    core type: NamedExprs\n",
       "    element: 20\n",
       "    targets: 23\n",
       "17. -t\n",
       "    core type: Operation\n",
       "    operator: 21\n",
       "    operand: 44\n",
       "18. MULTI_QUBIT_ELEM\n",
       "    core type: Literal\n",
       "    sub-expressions: \n",
       "19. {element:[OUTPUT]{state:(|psi_{t}> otimes |u>), part:_a}, targets:{1 .. t + s}}\n",
       "    core type: NamedExprs\n",
       "    element: 22\n",
       "    targets: 23\n",
       "20. [OUTPUT]{state:(|psi_{t}> otimes |u>), part:(_a + t)}\n",
       "    core type: Operation\n",
       "    operator: 25\n",
       "    operands: 24\n",
       "21. -\n",
       "    core type: Literal\n",
       "    sub-expressions: \n",
       "22. [OUTPUT]{state:(|psi_{t}> otimes |u>), part:_a}\n",
       "    core type: Operation\n",
       "    operator: 25\n",
       "    operands: 26\n",
       "23. {1 .. t + s}\n",
       "    core type: Operation\n",
       "    operator: 27\n",
       "    operands: 28\n",
       "24. {state:(|psi_{t}> otimes |u>), part:(_a + t)}\n",
       "    core type: NamedExprs\n",
       "    state: 30\n",
       "    part: 29\n",
       "25. OUTPUT\n",
       "    core type: Literal\n",
       "    sub-expressions: \n",
       "26. {state:(|psi_{t}> otimes |u>), part:_a}\n",
       "    core type: NamedExprs\n",
       "    state: 30\n",
       "    part: 38\n",
       "27. Interval\n",
       "    core type: Literal\n",
       "    sub-expressions: \n",
       "28. (1, t + s)\n",
       "    core type: ExprTuple\n",
       "    sub-expressions: 31, 32\n",
       "29. _a + t\n",
       "    core type: Operation\n",
       "    operator: 36\n",
       "    operands: 33\n",
       "30. |psi_{t}> otimes |u>\n",
       "    core type: Operation\n",
       "    operator: 34\n",
       "    operands: 35\n",
       "31. 1\n",
       "    core type: Literal\n",
       "    sub-expressions: \n",
       "32. t + s\n",
       "    core type: Operation\n",
       "    operator: 36\n",
       "    operands: 37\n",
       "33. (_a, t)\n",
       "    core type: ExprTuple\n",
       "    sub-expressions: 38, 44\n",
       "34. otimes\n",
       "    core type: Literal\n",
       "    sub-expressions: \n",
       "35. (|psi_{t}>, |u>)\n",
       "    core type: ExprTuple\n",
       "    sub-expressions: 39, 40\n",
       "36. +\n",
       "    core type: Literal\n",
       "    sub-expressions: \n",
       "37. (t, s)\n",
       "    core type: ExprTuple\n",
       "    sub-expressions: 44, 41\n",
       "38. _a\n",
       "    core type: Variable\n",
       "    sub-expressions: \n",
       "39. |psi_{t}>\n",
       "    core type: Operation\n",
       "    operator: 42\n",
       "    operand: 44\n",
       "40. |u>\n",
       "    core type: Literal\n",
       "    sub-expressions: \n",
       "41. s\n",
       "    core type: Literal\n",
       "    sub-expressions: \n",
       "42. psi\n",
       "    core type: Literal\n",
       "    sub-expressions: \n",
       "43. (t)\n",
       "    core type: ExprTuple\n",
       "    sub-expressions: 44\n",
       "44. t\n",
       "    core type: Variable\n",
       "    sub-expressions: "
      ]
     },
     "metadata": {},
     "output_type": "display_data"
    }
   ],
   "source": [
    "# display the expression information\n",
    "stored_expr.expr_info()"
   ]
  },
  {
   "cell_type": "code",
   "execution_count": null,
   "metadata": {},
   "outputs": [],
   "source": []
  }
 ],
 "metadata": {
  "kernelspec": {
   "display_name": "Python 3",
   "language": "python",
   "name": "python3"
  }
 },
 "nbformat": 4,
 "nbformat_minor": 0
}