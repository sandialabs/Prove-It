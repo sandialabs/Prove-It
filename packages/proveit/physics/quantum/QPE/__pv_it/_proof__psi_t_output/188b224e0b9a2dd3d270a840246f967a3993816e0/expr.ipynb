{
 "cells": [
  {
   "cell_type": "markdown",
   "metadata": {},
   "source": [
    "Expression of type <a class=\"ProveItLink\" href=\"../../../../../../../../doc/html/api/proveit.logic.Equals.html\">Equals</a>\n",
    "=======================\n",
    "# from the theory of <a class=\"ProveItLink\" href=\"../../../_theory_nbs_/theory.ipynb\">proveit.physics.quantum.QPE</a>"
   ]
  },
  {
   "cell_type": "code",
   "execution_count": 1,
   "metadata": {},
   "outputs": [],
   "source": [
    "import proveit\n",
    "# Automation is not needed when building an expression:\n",
    "proveit.defaults.automation = False # This will speed things up.\n",
    "proveit.defaults.inline_pngs = False # Makes files smaller.\n",
    "%load_expr # Load the stored expression as 'stored_expr'\n",
    "# import Expression classes needed to build the expression\n",
    "from proveit import t\n",
    "from proveit.linear_algebra import ScalarMult\n",
    "from proveit.logic import Equals\n",
    "from proveit.numbers import Add, Exp, Mult, Neg, e, i, one, pi, subtract, two\n",
    "from proveit.physics.quantum import ket1\n",
    "from proveit.physics.quantum.QPE import _phase"
   ]
  },
  {
   "cell_type": "code",
   "execution_count": 2,
   "metadata": {},
   "outputs": [
    {
     "data": {
      "text/html": [
       "<strong id=\"expr\">expr:</strong> <a class=\"ProveItLink\" href=\"expr.ipynb\"><img src=\"expr.png\" style=\"display:inline;vertical-align:middle;\" /></a><br>"
      ],
      "text/plain": [
       "<IPython.core.display.HTML object>"
      ]
     },
     "metadata": {},
     "output_type": "display_data"
    }
   ],
   "source": [
    "# build up the expression from sub-expressions\n",
    "expr = Equals(ScalarMult(Exp(e, Mult(two, pi, i, Exp(two, Neg(Add(Neg(t), one))), _phase)), ket1), ScalarMult(Exp(e, Mult(two, pi, i, Exp(two, subtract(t, one)), _phase)), ket1))"
   ]
  },
  {
   "cell_type": "code",
   "execution_count": 3,
   "metadata": {},
   "outputs": [
    {
     "name": "stdout",
     "output_type": "stream",
     "text": [
      "Passed sanity check: expr matches stored_expr\n"
     ]
    }
   ],
   "source": [
    "# check that the built expression is the same as the stored expression\n",
    "assert expr == stored_expr\n",
    "assert expr._style_id == stored_expr._style_id\n",
    "print(\"Passed sanity check: expr matches stored_expr\")"
   ]
  },
  {
   "cell_type": "code",
   "execution_count": 4,
   "metadata": {},
   "outputs": [
    {
     "name": "stdout",
     "output_type": "stream",
     "text": [
      "\\left(\\mathsf{e}^{2 \\cdot \\pi \\cdot \\mathsf{i} \\cdot 2^{-\\left(-t + 1\\right)} \\cdot \\varphi} \\cdot \\lvert 1 \\rangle\\right) = \\left(\\mathsf{e}^{2 \\cdot \\pi \\cdot \\mathsf{i} \\cdot 2^{t - 1} \\cdot \\varphi} \\cdot \\lvert 1 \\rangle\\right)\n"
     ]
    }
   ],
   "source": [
    "# Show the LaTeX representation of the expression for convenience if you need it.\n",
    "print(stored_expr.latex())"
   ]
  },
  {
   "cell_type": "code",
   "execution_count": 5,
   "metadata": {},
   "outputs": [
    {
     "data": {
      "text/html": [
       "<table>\n",
       "<tr><th>name</th><th>description</th><th>default</th><th>current value</th><th>related methods</th></tr><tr><td>operation</td><td>'infix' or 'function' style formatting</td><td>infix</td><td>infix</td><td></td></tr>\n",
       "<tr><td>wrap_positions</td><td>position(s) at which wrapping is to occur; '2 n - 1' is after the nth operand, '2 n' is after the nth operation.</td><td>()</td><td>()</td><td>('with_wrapping_at', 'with_wrap_before_operator', 'with_wrap_after_operator', 'without_wrapping', 'wrap_positions')</td></tr>\n",
       "<tr><td>justification</td><td>if any wrap positions are set, justify to the 'left', 'center', or 'right'</td><td>center</td><td>center</td><td>('with_justification',)</td></tr>\n",
       "<tr><td>direction</td><td>Direction of the relation (normal or reversed)</td><td>normal</td><td>normal</td><td>('with_direction_reversed', 'is_reversed')</td></tr>\n",
       "</table>\n"
      ],
      "text/plain": [
       "style name: operation\n",
       "description: 'infix' or 'function' style formatting\n",
       "default: infix\n",
       "current value: infix\n",
       "related methods: ()\n",
       "style name: wrap_positions\n",
       "description: position(s) at which wrapping is to occur; '2 n - 1' is after the nth operand, '2 n' is after the nth operation.\n",
       "default: ()\n",
       "current value: ()\n",
       "related methods: ('with_wrapping_at', 'with_wrap_before_operator', 'with_wrap_after_operator', 'without_wrapping', 'wrap_positions')\n",
       "style name: justification\n",
       "description: if any wrap positions are set, justify to the 'left', 'center', or 'right'\n",
       "default: center\n",
       "current value: center\n",
       "related methods: ('with_justification',)\n",
       "style name: direction\n",
       "description: Direction of the relation (normal or reversed)\n",
       "default: normal\n",
       "current value: normal\n",
       "related methods: ('with_direction_reversed', 'is_reversed')"
      ]
     },
     "metadata": {},
     "output_type": "display_data"
    }
   ],
   "source": [
    "stored_expr.style_options()"
   ]
  },
  {
   "cell_type": "code",
   "execution_count": 6,
   "metadata": {},
   "outputs": [
    {
     "data": {
      "text/html": [
       "<table><tr><th>&nbsp;</th><th>core type</th><th>sub-expressions</th><th>expression</th></tr>\n",
       "<tr><td>0</td><td>Operation</td><td>operator:&nbsp;1<br>operands:&nbsp;2<br></td><td><a class=\"ProveItLink\" href=\"expr.ipynb\"><img src=\"expr.png\" style=\"display:inline;vertical-align:middle;\" /></a></td></tr>\n",
       "<tr><td>1</td><td>Literal</td><td></td><td><a class=\"ProveItLink\" href=\"../../../../../../logic/equality/__pv_it/common/fb96dc12b2aa8801dda64d0132b396c63d1502bb0/expr.ipynb\"><img src=\"../../../../../../logic/equality/__pv_it/common/fb96dc12b2aa8801dda64d0132b396c63d1502bb0/expr.png\" style=\"display:inline;vertical-align:middle;\" /></a></td></tr>\n",
       "<tr><td>2</td><td>ExprTuple</td><td>3, 4</td><td><a class=\"ProveItLink\" href=\"../b59c047b65e9fb7ce431c1424e31810d2b5012770/expr.ipynb\"><img src=\"../b59c047b65e9fb7ce431c1424e31810d2b5012770/expr.png\" style=\"display:inline;vertical-align:middle;\" /></a></td></tr>\n",
       "<tr><td>3</td><td>Operation</td><td>operator:&nbsp;6<br>operands:&nbsp;5<br></td><td><a class=\"ProveItLink\" href=\"../60a0fd40c132e8fa0d875681dc1e5e01d8ea8f310/expr.ipynb\"><img src=\"../60a0fd40c132e8fa0d875681dc1e5e01d8ea8f310/expr.png\" style=\"display:inline;vertical-align:middle;\" /></a></td></tr>\n",
       "<tr><td>4</td><td>Operation</td><td>operator:&nbsp;6<br>operands:&nbsp;7<br></td><td><a class=\"ProveItLink\" href=\"../e4bb8070a34c8ebb3acad38aa2379dbfc8336c760/expr.ipynb\"><img src=\"../e4bb8070a34c8ebb3acad38aa2379dbfc8336c760/expr.png\" style=\"display:inline;vertical-align:middle;\" /></a></td></tr>\n",
       "<tr><td>5</td><td>ExprTuple</td><td>8, 10</td><td><a class=\"ProveItLink\" href=\"../81319b65d69b57cd640d48d9b376c998956dd7370/expr.ipynb\"><img src=\"../81319b65d69b57cd640d48d9b376c998956dd7370/expr.png\" style=\"display:inline;vertical-align:middle;\" /></a></td></tr>\n",
       "<tr><td>6</td><td>Literal</td><td></td><td><a class=\"ProveItLink\" href=\"../../../../../../linear_algebra/scalar_multiplication/__pv_it/common/1e364bd471e6a29fcd358dd2d9cd990a1e6fedd40/expr.ipynb\"><img src=\"../../../../../../linear_algebra/scalar_multiplication/__pv_it/common/1e364bd471e6a29fcd358dd2d9cd990a1e6fedd40/expr.png\" style=\"display:inline;vertical-align:middle;\" /></a></td></tr>\n",
       "<tr><td>7</td><td>ExprTuple</td><td>9, 10</td><td><a class=\"ProveItLink\" href=\"../02b1a3bc9e1b2f773b094bde332fa4e584bf25c10/expr.ipynb\"><img src=\"../02b1a3bc9e1b2f773b094bde332fa4e584bf25c10/expr.png\" style=\"display:inline;vertical-align:middle;\" /></a></td></tr>\n",
       "<tr><td>8</td><td>Operation</td><td>operator:&nbsp;26<br>operands:&nbsp;11<br></td><td><a class=\"ProveItLink\" href=\"../5475c00fdfedf93f0016418a3e6b8f596727e4570/expr.ipynb\"><img src=\"../5475c00fdfedf93f0016418a3e6b8f596727e4570/expr.png\" style=\"display:inline;vertical-align:middle;\" /></a></td></tr>\n",
       "<tr><td>9</td><td>Operation</td><td>operator:&nbsp;26<br>operands:&nbsp;12<br></td><td><a class=\"ProveItLink\" href=\"../275a53b9b7820d59f5969bf97d61c8e936d21d6a0/expr.ipynb\"><img src=\"../275a53b9b7820d59f5969bf97d61c8e936d21d6a0/expr.png\" style=\"display:inline;vertical-align:middle;\" /></a></td></tr>\n",
       "<tr><td>10</td><td>Operation</td><td>operator:&nbsp;13<br>operand:&nbsp;39<br></td><td><a class=\"ProveItLink\" href=\"../../../../__pv_it/common/57cbcececeb3a772f3462a38bcf9836042f3091f0/expr.ipynb\"><img src=\"../../../../__pv_it/common/57cbcececeb3a772f3462a38bcf9836042f3091f0/expr.png\" style=\"display:inline;vertical-align:middle;\" /></a></td></tr>\n",
       "<tr><td>11</td><td>ExprTuple</td><td>15, 14</td><td><a class=\"ProveItLink\" href=\"../831334e5089484a31d8d7ebb3ec2061fa7bd72440/expr.ipynb\"><img src=\"../831334e5089484a31d8d7ebb3ec2061fa7bd72440/expr.png\" style=\"display:inline;vertical-align:middle;\" /></a></td></tr>\n",
       "<tr><td>12</td><td>ExprTuple</td><td>15, 16</td><td><a class=\"ProveItLink\" href=\"../99eabe2409e9e807d2d660c7045df3bd0827ad160/expr.ipynb\"><img src=\"../99eabe2409e9e807d2d660c7045df3bd0827ad160/expr.png\" style=\"display:inline;vertical-align:middle;\" /></a></td></tr>\n",
       "<tr><td>13</td><td>Literal</td><td></td><td><a class=\"ProveItLink\" href=\"../../../../algebra/__pv_it/common/e3872951fe05b26090372918594af92cac779e280/expr.ipynb\"><img src=\"../../../../algebra/__pv_it/common/e3872951fe05b26090372918594af92cac779e280/expr.png\" style=\"display:inline;vertical-align:middle;\" /></a></td></tr>\n",
       "<tr><td>14</td><td>Operation</td><td>operator:&nbsp;18<br>operands:&nbsp;17<br></td><td><a class=\"ProveItLink\" href=\"../fa7e71bff4ac4888f0c207682f6cf5926992c85b0/expr.ipynb\"><img src=\"../fa7e71bff4ac4888f0c207682f6cf5926992c85b0/expr.png\" style=\"display:inline;vertical-align:middle;\" /></a></td></tr>\n",
       "<tr><td>15</td><td>Literal</td><td></td><td><a class=\"ProveItLink\" href=\"../../../../../../numbers/number_sets/real_numbers/__pv_it/common/e531ffa54fd897084533764a4a14f19f590674f80/expr.ipynb\"><img src=\"../../../../../../numbers/number_sets/real_numbers/__pv_it/common/e531ffa54fd897084533764a4a14f19f590674f80/expr.png\" style=\"display:inline;vertical-align:middle;\" /></a></td></tr>\n",
       "<tr><td>16</td><td>Operation</td><td>operator:&nbsp;18<br>operands:&nbsp;19<br></td><td><a class=\"ProveItLink\" href=\"../cd578db48312fd71babad1a5187fc19ef7186cee0/expr.ipynb\"><img src=\"../cd578db48312fd71babad1a5187fc19ef7186cee0/expr.png\" style=\"display:inline;vertical-align:middle;\" /></a></td></tr>\n",
       "<tr><td>17</td><td>ExprTuple</td><td>29, 21, 22, 20, 24</td><td><a class=\"ProveItLink\" href=\"../15b7d9f8bc4bc17753851cbc9bb844b34f2de11e0/expr.ipynb\"><img src=\"../15b7d9f8bc4bc17753851cbc9bb844b34f2de11e0/expr.png\" style=\"display:inline;vertical-align:middle;\" /></a></td></tr>\n",
       "<tr><td>18</td><td>Literal</td><td></td><td><a class=\"ProveItLink\" href=\"../../../../../../numbers/multiplication/__pv_it/common/ed719cef37831779c16481533a4d380a2f95ab270/expr.ipynb\"><img src=\"../../../../../../numbers/multiplication/__pv_it/common/ed719cef37831779c16481533a4d380a2f95ab270/expr.png\" style=\"display:inline;vertical-align:middle;\" /></a></td></tr>\n",
       "<tr><td>19</td><td>ExprTuple</td><td>29, 21, 22, 23, 24</td><td><a class=\"ProveItLink\" href=\"../e5aa255da1c7eef8e810ea3e8629af1c39e5da540/expr.ipynb\"><img src=\"../e5aa255da1c7eef8e810ea3e8629af1c39e5da540/expr.png\" style=\"display:inline;vertical-align:middle;\" /></a></td></tr>\n",
       "<tr><td>20</td><td>Operation</td><td>operator:&nbsp;26<br>operands:&nbsp;25<br></td><td><a class=\"ProveItLink\" href=\"../1b03e87b83f586f18e65fa05eda2bd5b8ef37d770/expr.ipynb\"><img src=\"../1b03e87b83f586f18e65fa05eda2bd5b8ef37d770/expr.png\" style=\"display:inline;vertical-align:middle;\" /></a></td></tr>\n",
       "<tr><td>21</td><td>Literal</td><td></td><td><a class=\"ProveItLink\" href=\"../../../../../../numbers/number_sets/real_numbers/__pv_it/common/246c206266ac5b48800e508d580f91767b24c2df0/expr.ipynb\"><img src=\"../../../../../../numbers/number_sets/real_numbers/__pv_it/common/246c206266ac5b48800e508d580f91767b24c2df0/expr.png\" style=\"display:inline;vertical-align:middle;\" /></a></td></tr>\n",
       "<tr><td>22</td><td>Literal</td><td></td><td><a class=\"ProveItLink\" href=\"../../../../../../numbers/number_sets/complex_numbers/__pv_it/common/6c9cc69d472f352324c298b2318df233e9a7e0250/expr.ipynb\"><img src=\"../../../../../../numbers/number_sets/complex_numbers/__pv_it/common/6c9cc69d472f352324c298b2318df233e9a7e0250/expr.png\" style=\"display:inline;vertical-align:middle;\" /></a></td></tr>\n",
       "<tr><td>23</td><td>Operation</td><td>operator:&nbsp;26<br>operands:&nbsp;27<br></td><td><a class=\"ProveItLink\" href=\"../5cb8ec9a3452e5a017d83e7aea1ce3ca6ccdf99a0/expr.ipynb\"><img src=\"../5cb8ec9a3452e5a017d83e7aea1ce3ca6ccdf99a0/expr.png\" style=\"display:inline;vertical-align:middle;\" /></a></td></tr>\n",
       "<tr><td>24</td><td>Literal</td><td></td><td><a class=\"ProveItLink\" href=\"../../common/d5e43a4a06cc3c8384d7262f5d019bed24f240ea0/expr.ipynb\"><img src=\"../../common/d5e43a4a06cc3c8384d7262f5d019bed24f240ea0/expr.png\" style=\"display:inline;vertical-align:middle;\" /></a></td></tr>\n",
       "<tr><td>25</td><td>ExprTuple</td><td>29, 28</td><td><a class=\"ProveItLink\" href=\"../dac644a0e22ece58f359750d81fda1ef6998f02e0/expr.ipynb\"><img src=\"../dac644a0e22ece58f359750d81fda1ef6998f02e0/expr.png\" style=\"display:inline;vertical-align:middle;\" /></a></td></tr>\n",
       "<tr><td>26</td><td>Literal</td><td></td><td><a class=\"ProveItLink\" href=\"../../../../../../numbers/exponentiation/__pv_it/common/0ac37aca1e54c35c5cda09672df32d4f69f1f3020/expr.ipynb\"><img src=\"../../../../../../numbers/exponentiation/__pv_it/common/0ac37aca1e54c35c5cda09672df32d4f69f1f3020/expr.png\" style=\"display:inline;vertical-align:middle;\" /></a></td></tr>\n",
       "<tr><td>27</td><td>ExprTuple</td><td>29, 30</td><td><a class=\"ProveItLink\" href=\"../c0dcfec939b9ca299b21ed0019adfd9e321ce65c0/expr.ipynb\"><img src=\"../c0dcfec939b9ca299b21ed0019adfd9e321ce65c0/expr.png\" style=\"display:inline;vertical-align:middle;\" /></a></td></tr>\n",
       "<tr><td>28</td><td>Operation</td><td>operator:&nbsp;40<br>operand:&nbsp;33<br></td><td><a class=\"ProveItLink\" href=\"../6e967ae0b3ac35bb5c6220418272090a8cbf430b0/expr.ipynb\"><img src=\"../6e967ae0b3ac35bb5c6220418272090a8cbf430b0/expr.png\" style=\"display:inline;vertical-align:middle;\" /></a></td></tr>\n",
       "<tr><td>29</td><td>Literal</td><td></td><td><a class=\"ProveItLink\" href=\"../../../../../../numbers/numerals/__pv_it/common/af4aab8a07465db063742696e006d04670f30cf10/expr.ipynb\"><img src=\"../../../../../../numbers/numerals/__pv_it/common/af4aab8a07465db063742696e006d04670f30cf10/expr.png\" style=\"display:inline;vertical-align:middle;\" /></a></td></tr>\n",
       "<tr><td>30</td><td>Operation</td><td>operator:&nbsp;35<br>operands:&nbsp;32<br></td><td><a class=\"ProveItLink\" href=\"../dccf3c6642fb25868d70cc5bae062d662aec39830/expr.ipynb\"><img src=\"../dccf3c6642fb25868d70cc5bae062d662aec39830/expr.png\" style=\"display:inline;vertical-align:middle;\" /></a></td></tr>\n",
       "<tr><td>31</td><td>ExprTuple</td><td>33</td><td><a class=\"ProveItLink\" href=\"../5bc1fa27ca801f2e4d8d8b6766af7dfc3eee18d40/expr.ipynb\"><img src=\"../5bc1fa27ca801f2e4d8d8b6766af7dfc3eee18d40/expr.png\" style=\"display:inline;vertical-align:middle;\" /></a></td></tr>\n",
       "<tr><td>32</td><td>ExprTuple</td><td>42, 34</td><td><a class=\"ProveItLink\" href=\"../9b08057c6fac293ab3862391dfa8f1338e43e49c0/expr.ipynb\"><img src=\"../9b08057c6fac293ab3862391dfa8f1338e43e49c0/expr.png\" style=\"display:inline;vertical-align:middle;\" /></a></td></tr>\n",
       "<tr><td>33</td><td>Operation</td><td>operator:&nbsp;35<br>operands:&nbsp;36<br></td><td><a class=\"ProveItLink\" href=\"../../common/a377e33c8fca34123b321baad6051b47dc5d683c0/expr.ipynb\"><img src=\"../../common/a377e33c8fca34123b321baad6051b47dc5d683c0/expr.png\" style=\"display:inline;vertical-align:middle;\" /></a></td></tr>\n",
       "<tr><td>34</td><td>Operation</td><td>operator:&nbsp;40<br>operand:&nbsp;39<br></td><td><a class=\"ProveItLink\" href=\"../../../../../../numbers/addition/subtraction/__pv_it/theorems/bf4beda21975fe8a0a5007615b5bcc943da59bb20/expr.ipynb\"><img src=\"../../../../../../numbers/addition/subtraction/__pv_it/theorems/bf4beda21975fe8a0a5007615b5bcc943da59bb20/expr.png\" style=\"display:inline;vertical-align:middle;\" /></a></td></tr>\n",
       "<tr><td>35</td><td>Literal</td><td></td><td><a class=\"ProveItLink\" href=\"../../../../../../numbers/addition/__pv_it/common/4b7effaab3619a1c2c38fe2dee8601df8ec714590/expr.ipynb\"><img src=\"../../../../../../numbers/addition/__pv_it/common/4b7effaab3619a1c2c38fe2dee8601df8ec714590/expr.png\" style=\"display:inline;vertical-align:middle;\" /></a></td></tr>\n",
       "<tr><td>36</td><td>ExprTuple</td><td>38, 39</td><td><a class=\"ProveItLink\" href=\"../../common/8e72b8f917ab0991a456ff8905abf07907bc8a980/expr.ipynb\"><img src=\"../../common/8e72b8f917ab0991a456ff8905abf07907bc8a980/expr.png\" style=\"display:inline;vertical-align:middle;\" /></a></td></tr>\n",
       "<tr><td>37</td><td>ExprTuple</td><td>39</td><td><a class=\"ProveItLink\" href=\"../../../../__pv_it/common/b9e4f0dffece176bbe2f36127440684a20e0468e0/expr.ipynb\"><img src=\"../../../../__pv_it/common/b9e4f0dffece176bbe2f36127440684a20e0468e0/expr.png\" style=\"display:inline;vertical-align:middle;\" /></a></td></tr>\n",
       "<tr><td>38</td><td>Operation</td><td>operator:&nbsp;40<br>operand:&nbsp;42<br></td><td><a class=\"ProveItLink\" href=\"../../common/e0a0e1311f316a159cea49712cb715262ee967450/expr.ipynb\"><img src=\"../../common/e0a0e1311f316a159cea49712cb715262ee967450/expr.png\" style=\"display:inline;vertical-align:middle;\" /></a></td></tr>\n",
       "<tr><td>39</td><td>Literal</td><td></td><td><a class=\"ProveItLink\" href=\"../../../../../../numbers/numerals/__pv_it/common/682157d4892d216d9e5626ed533aff9b56b9506e0/expr.ipynb\"><img src=\"../../../../../../numbers/numerals/__pv_it/common/682157d4892d216d9e5626ed533aff9b56b9506e0/expr.png\" style=\"display:inline;vertical-align:middle;\" /></a></td></tr>\n",
       "<tr><td>40</td><td>Literal</td><td></td><td><a class=\"ProveItLink\" href=\"../../../../../../numbers/negation/__pv_it/common/221b3c4d1770ee9051b7c044c3f9ec61196fc34b0/expr.ipynb\"><img src=\"../../../../../../numbers/negation/__pv_it/common/221b3c4d1770ee9051b7c044c3f9ec61196fc34b0/expr.png\" style=\"display:inline;vertical-align:middle;\" /></a></td></tr>\n",
       "<tr><td>41</td><td>ExprTuple</td><td>42</td><td><a class=\"ProveItLink\" href=\"../../common/04971f5ed986452ec2d9047d1e0d56faa846096b0/expr.ipynb\"><img src=\"../../common/04971f5ed986452ec2d9047d1e0d56faa846096b0/expr.png\" style=\"display:inline;vertical-align:middle;\" /></a></td></tr>\n",
       "<tr><td>42</td><td>Variable</td><td></td><td><a class=\"ProveItLink\" href=\"../../../../../../__pv_it/common/36861eae73a44b53d5b3b017ac6a3a9dae53bfba0/expr.ipynb\"><img src=\"../../../../../../__pv_it/common/36861eae73a44b53d5b3b017ac6a3a9dae53bfba0/expr.png\" style=\"display:inline;vertical-align:middle;\" /></a></td></tr>\n",
       "</table>\n"
      ],
      "text/plain": [
       "0. (e^{2 * pi * i * 2^{-(-t + 1)} * phase} * |1〉) = (e^{2 * pi * i * 2^{t - 1} * phase} * |1〉)\n",
       "   core type: Operation\n",
       "   operator: 1\n",
       "   operands: 2\n",
       "1. =\n",
       "   core type: Literal\n",
       "   sub-expressions: \n",
       "2. (e^{2 * pi * i * 2^{-(-t + 1)} * phase} * |1〉, e^{2 * pi * i * 2^{t - 1} * phase} * |1〉)\n",
       "   core type: ExprTuple\n",
       "   sub-expressions: 3, 4\n",
       "3. e^{2 * pi * i * 2^{-(-t + 1)} * phase} * |1〉\n",
       "   core type: Operation\n",
       "   operator: 6\n",
       "   operands: 5\n",
       "4. e^{2 * pi * i * 2^{t - 1} * phase} * |1〉\n",
       "   core type: Operation\n",
       "   operator: 6\n",
       "   operands: 7\n",
       "5. (e^{2 * pi * i * 2^{-(-t + 1)} * phase}, |1〉)\n",
       "   core type: ExprTuple\n",
       "   sub-expressions: 8, 10\n",
       "6. *\n",
       "   core type: Literal\n",
       "   sub-expressions: \n",
       "7. (e^{2 * pi * i * 2^{t - 1} * phase}, |1〉)\n",
       "   core type: ExprTuple\n",
       "   sub-expressions: 9, 10\n",
       "8. e^{2 * pi * i * 2^{-(-t + 1)} * phase}\n",
       "   core type: Operation\n",
       "   operator: 26\n",
       "   operands: 11\n",
       "9. e^{2 * pi * i * 2^{t - 1} * phase}\n",
       "   core type: Operation\n",
       "   operator: 26\n",
       "   operands: 12\n",
       "10. |1〉\n",
       "    core type: Operation\n",
       "    operator: 13\n",
       "    operand: 39\n",
       "11. (e, 2 * pi * i * 2^{-(-t + 1)} * phase)\n",
       "    core type: ExprTuple\n",
       "    sub-expressions: 15, 14\n",
       "12. (e, 2 * pi * i * 2^{t - 1} * phase)\n",
       "    core type: ExprTuple\n",
       "    sub-expressions: 15, 16\n",
       "13. KET\n",
       "    core type: Literal\n",
       "    sub-expressions: \n",
       "14. 2 * pi * i * 2^{-(-t + 1)} * phase\n",
       "    core type: Operation\n",
       "    operator: 18\n",
       "    operands: 17\n",
       "15. e\n",
       "    core type: Literal\n",
       "    sub-expressions: \n",
       "16. 2 * pi * i * 2^{t - 1} * phase\n",
       "    core type: Operation\n",
       "    operator: 18\n",
       "    operands: 19\n",
       "17. (2, pi, i, 2^{-(-t + 1)}, phase)\n",
       "    core type: ExprTuple\n",
       "    sub-expressions: 29, 21, 22, 20, 24\n",
       "18. *\n",
       "    core type: Literal\n",
       "    sub-expressions: \n",
       "19. (2, pi, i, 2^{t - 1}, phase)\n",
       "    core type: ExprTuple\n",
       "    sub-expressions: 29, 21, 22, 23, 24\n",
       "20. 2^{-(-t + 1)}\n",
       "    core type: Operation\n",
       "    operator: 26\n",
       "    operands: 25\n",
       "21. pi\n",
       "    core type: Literal\n",
       "    sub-expressions: \n",
       "22. i\n",
       "    core type: Literal\n",
       "    sub-expressions: \n",
       "23. 2^{t - 1}\n",
       "    core type: Operation\n",
       "    operator: 26\n",
       "    operands: 27\n",
       "24. phase\n",
       "    core type: Literal\n",
       "    sub-expressions: \n",
       "25. (2, -(-t + 1))\n",
       "    core type: ExprTuple\n",
       "    sub-expressions: 29, 28\n",
       "26. Exp\n",
       "    core type: Literal\n",
       "    sub-expressions: \n",
       "27. (2, t - 1)\n",
       "    core type: ExprTuple\n",
       "    sub-expressions: 29, 30\n",
       "28. -(-t + 1)\n",
       "    core type: Operation\n",
       "    operator: 40\n",
       "    operand: 33\n",
       "29. 2\n",
       "    core type: Literal\n",
       "    sub-expressions: \n",
       "30. t - 1\n",
       "    core type: Operation\n",
       "    operator: 35\n",
       "    operands: 32\n",
       "31. (-t + 1)\n",
       "    core type: ExprTuple\n",
       "    sub-expressions: 33\n",
       "32. (t, -1)\n",
       "    core type: ExprTuple\n",
       "    sub-expressions: 42, 34\n",
       "33. -t + 1\n",
       "    core type: Operation\n",
       "    operator: 35\n",
       "    operands: 36\n",
       "34. -1\n",
       "    core type: Operation\n",
       "    operator: 40\n",
       "    operand: 39\n",
       "35. +\n",
       "    core type: Literal\n",
       "    sub-expressions: \n",
       "36. (-t, 1)\n",
       "    core type: ExprTuple\n",
       "    sub-expressions: 38, 39\n",
       "37. (1)\n",
       "    core type: ExprTuple\n",
       "    sub-expressions: 39\n",
       "38. -t\n",
       "    core type: Operation\n",
       "    operator: 40\n",
       "    operand: 42\n",
       "39. 1\n",
       "    core type: Literal\n",
       "    sub-expressions: \n",
       "40. -\n",
       "    core type: Literal\n",
       "    sub-expressions: \n",
       "41. (t)\n",
       "    core type: ExprTuple\n",
       "    sub-expressions: 42\n",
       "42. t\n",
       "    core type: Variable\n",
       "    sub-expressions: "
      ]
     },
     "metadata": {},
     "output_type": "display_data"
    }
   ],
   "source": [
    "# display the expression information\n",
    "stored_expr.expr_info()"
   ]
  },
  {
   "cell_type": "code",
   "execution_count": null,
   "metadata": {},
   "outputs": [],
   "source": []
  }
 ],
 "metadata": {
  "kernelspec": {
   "display_name": "Python 3",
   "language": "python",
   "name": "python3"
  }
 },
 "nbformat": 4,
 "nbformat_minor": 0
}