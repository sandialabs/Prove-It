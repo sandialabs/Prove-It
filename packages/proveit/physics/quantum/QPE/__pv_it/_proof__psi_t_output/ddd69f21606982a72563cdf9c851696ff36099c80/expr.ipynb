{
 "cells": [
  {
   "cell_type": "markdown",
   "metadata": {},
   "source": [
    "Expression of type <a class=\"ProveItLink\" href=\"../../../../../../../../doc/html/api/proveit.ExprTuple.html\">ExprTuple</a>\n",
    "=======================\n",
    "# from the theory of <a class=\"ProveItLink\" href=\"../../../_theory_nbs_/theory.ipynb\">proveit.physics.quantum.QPE</a>"
   ]
  },
  {
   "cell_type": "code",
   "execution_count": 1,
   "metadata": {},
   "outputs": [],
   "source": [
    "import proveit\n",
    "# Automation is not needed when building an expression:\n",
    "proveit.defaults.automation = False # This will speed things up.\n",
    "proveit.defaults.inline_pngs = False # Makes files smaller.\n",
    "%load_expr # Load the stored expression as 'stored_expr'\n",
    "# import Expression classes needed to build the expression\n",
    "from proveit import ExprRange, ExprTuple, Variable, t\n",
    "from proveit.core_expr_types import Len\n",
    "from proveit.linear_algebra import TensorProd\n",
    "from proveit.numbers import Add, Interval, Neg, one, zero\n",
    "from proveit.physics.quantum.QPE import _ket_u, _psi_t_ket, _s\n",
    "from proveit.physics.quantum.circuits import MultiQubitElem, Output"
   ]
  },
  {
   "cell_type": "code",
   "execution_count": 2,
   "metadata": {},
   "outputs": [
    {
     "data": {
      "text/html": [
       "<strong id=\"expr\">expr:</strong> <a class=\"ProveItLink\" href=\"expr.ipynb\"><img src=\"expr.png\" style=\"display:inline;vertical-align:middle;\" /></a><br>"
      ],
      "text/plain": [
       "<IPython.core.display.HTML object>"
      ]
     },
     "metadata": {},
     "output_type": "display_data"
    }
   ],
   "source": [
    "# build up the expression from sub-expressions\n",
    "sub_expr1 = Variable(\"_a\", latex_format = r\"{_{-}a}\")\n",
    "expr = ExprTuple(Len(operands = [ExprRange(sub_expr1, MultiQubitElem(element = Output(state = TensorProd(_psi_t_ket, _ket_u), part = Add(sub_expr1, t)), targets = Interval(one, Add(t, _s))), Add(Neg(t), one), zero)]), Len(operands = [ExprRange(sub_expr1, sub_expr1, one, t)]))"
   ]
  },
  {
   "cell_type": "code",
   "execution_count": 3,
   "metadata": {},
   "outputs": [
    {
     "name": "stdout",
     "output_type": "stream",
     "text": [
      "Passed sanity check: expr matches stored_expr\n"
     ]
    }
   ],
   "source": [
    "# check that the built expression is the same as the stored expression\n",
    "assert expr == stored_expr\n",
    "assert expr._style_id == stored_expr._style_id\n",
    "print(\"Passed sanity check: expr matches stored_expr\")"
   ]
  },
  {
   "cell_type": "code",
   "execution_count": 4,
   "metadata": {},
   "outputs": [
    {
     "name": "stdout",
     "output_type": "stream",
     "text": [
      "\\left(|\\left(\\begin{array}{c} \\Qcircuit@C=1em @R=.7em{\n",
      "& & \\qout{\\lvert \\psi_{t} \\rangle {\\otimes} \\lvert u \\rangle~\\mbox{part}~\\left(-t + 1\\right) + t~\\mbox{on}~\\{1~\\ldotp \\ldotp~t + s\\}} \n",
      "} \\end{array}, \\begin{array}{c} \\Qcircuit@C=1em @R=.7em{\n",
      "& & \\qout{\\lvert \\psi_{t} \\rangle {\\otimes} \\lvert u \\rangle~\\mbox{part}~\\left(-t + 2\\right) + t~\\mbox{on}~\\{1~\\ldotp \\ldotp~t + s\\}} \n",
      "} \\end{array}, \\ldots, \\begin{array}{c} \\Qcircuit@C=1em @R=.7em{\n",
      "& & \\qout{\\lvert \\psi_{t} \\rangle {\\otimes} \\lvert u \\rangle~\\mbox{part}~0 + t~\\mbox{on}~\\{1~\\ldotp \\ldotp~t + s\\}} \n",
      "} \\end{array}\\right)|, |\\left(1, 2, \\ldots, t\\right)|\\right)\n"
     ]
    }
   ],
   "source": [
    "# Show the LaTeX representation of the expression for convenience if you need it.\n",
    "print(stored_expr.latex())"
   ]
  },
  {
   "cell_type": "code",
   "execution_count": 5,
   "metadata": {},
   "outputs": [
    {
     "data": {
      "text/html": [
       "<table>\n",
       "<tr><th>name</th><th>description</th><th>default</th><th>current value</th><th>related methods</th></tr><tr><td>wrap_positions</td><td>position(s) at which wrapping is to occur; 'n' is after the nth comma.</td><td>()</td><td>()</td><td>('with_wrapping_at',)</td></tr>\n",
       "<tr><td>justification</td><td>if any wrap positions are set, justify to the 'left', 'center', or 'right'</td><td>left</td><td>left</td><td>('with_justification',)</td></tr>\n",
       "</table>\n"
      ],
      "text/plain": [
       "style name: wrap_positions\n",
       "description: position(s) at which wrapping is to occur; 'n' is after the nth comma.\n",
       "default: ()\n",
       "current value: ()\n",
       "related methods: ('with_wrapping_at',)\n",
       "style name: justification\n",
       "description: if any wrap positions are set, justify to the 'left', 'center', or 'right'\n",
       "default: left\n",
       "current value: left\n",
       "related methods: ('with_justification',)"
      ]
     },
     "metadata": {},
     "output_type": "display_data"
    }
   ],
   "source": [
    "stored_expr.style_options()"
   ]
  },
  {
   "cell_type": "code",
   "execution_count": 6,
   "metadata": {},
   "outputs": [
    {
     "data": {
      "text/html": [
       "<table><tr><th>&nbsp;</th><th>core type</th><th>sub-expressions</th><th>expression</th></tr>\n",
       "<tr><td>0</td><td>ExprTuple</td><td>1, 2</td><td><a class=\"ProveItLink\" href=\"expr.ipynb\"><img src=\"expr.png\" style=\"display:inline;vertical-align:middle;\" /></a></td></tr>\n",
       "<tr><td>1</td><td>Operation</td><td>operator:&nbsp;4<br>operands:&nbsp;3<br></td><td><a class=\"ProveItLink\" href=\"../227d1732a1457e26e18a89508b26c5411b74ddd30/expr.ipynb\"><img src=\"../227d1732a1457e26e18a89508b26c5411b74ddd30/expr.png\" style=\"display:inline;vertical-align:middle;\" /></a></td></tr>\n",
       "<tr><td>2</td><td>Operation</td><td>operator:&nbsp;4<br>operands:&nbsp;5<br></td><td><a class=\"ProveItLink\" href=\"../a9c5508f0d7727c4a259af6ee276e6951246c83d0/expr.ipynb\"><img src=\"../a9c5508f0d7727c4a259af6ee276e6951246c83d0/expr.png\" style=\"display:inline;vertical-align:middle;\" /></a></td></tr>\n",
       "<tr><td>3</td><td>ExprTuple</td><td>6</td><td><a class=\"ProveItLink\" href=\"../c89a6772f954760025b90a0d470e19cb142045ca0/expr.ipynb\"><img src=\"../c89a6772f954760025b90a0d470e19cb142045ca0/expr.png\" style=\"display:inline;vertical-align:middle;\" /></a></td></tr>\n",
       "<tr><td>4</td><td>Literal</td><td></td><td><a class=\"ProveItLink\" href=\"../../../../../../core_expr_types/tuples/__pv_it/common/43df765abf1294d8f1fd177863f57f08bf5ad0080/expr.ipynb\"><img src=\"../../../../../../core_expr_types/tuples/__pv_it/common/43df765abf1294d8f1fd177863f57f08bf5ad0080/expr.png\" style=\"display:inline;vertical-align:middle;\" /></a></td></tr>\n",
       "<tr><td>5</td><td>ExprTuple</td><td>7</td><td><a class=\"ProveItLink\" href=\"../eaddae9a1fa96c5b225c43afe2222d4bfa597b1b0/expr.ipynb\"><img src=\"../eaddae9a1fa96c5b225c43afe2222d4bfa597b1b0/expr.png\" style=\"display:inline;vertical-align:middle;\" /></a></td></tr>\n",
       "<tr><td>6</td><td>ExprRange</td><td>lambda_map:&nbsp;8<br>start_index:&nbsp;9<br>end_index:&nbsp;10<br></td><td><a class=\"ProveItLink\" href=\"../de6e5c5b58a376c913b754757f96a63106db699c0/expr.ipynb\"><img src=\"../de6e5c5b58a376c913b754757f96a63106db699c0/expr.png\" style=\"display:inline;vertical-align:middle;\" /></a></td></tr>\n",
       "<tr><td>7</td><td>ExprRange</td><td>lambda_map:&nbsp;11<br>start_index:&nbsp;27<br>end_index:&nbsp;40<br></td><td><a class=\"ProveItLink\" href=\"../d76c04350d14624c63c4afe7978d0965c10f81b50/expr.ipynb\"><img src=\"../d76c04350d14624c63c4afe7978d0965c10f81b50/expr.png\" style=\"display:inline;vertical-align:middle;\" /></a></td></tr>\n",
       "<tr><td>8</td><td>Lambda</td><td>parameter:&nbsp;36<br>body:&nbsp;12<br></td><td><a class=\"ProveItLink\" href=\"../6be32e1bc4b3993366960d521852dc5386ada1e10/expr.ipynb\"><img src=\"../6be32e1bc4b3993366960d521852dc5386ada1e10/expr.png\" style=\"display:inline;vertical-align:middle;\" /></a></td></tr>\n",
       "<tr><td>9</td><td>Operation</td><td>operator:&nbsp;32<br>operands:&nbsp;13<br></td><td><a class=\"ProveItLink\" href=\"../../common/a377e33c8fca34123b321baad6051b47dc5d683c0/expr.ipynb\"><img src=\"../../common/a377e33c8fca34123b321baad6051b47dc5d683c0/expr.png\" style=\"display:inline;vertical-align:middle;\" /></a></td></tr>\n",
       "<tr><td>10</td><td>Literal</td><td></td><td><a class=\"ProveItLink\" href=\"../../../../../../numbers/numerals/__pv_it/common/dd4e19e8b134dfb293470ea55fe3589b0ab9f8040/expr.ipynb\"><img src=\"../../../../../../numbers/numerals/__pv_it/common/dd4e19e8b134dfb293470ea55fe3589b0ab9f8040/expr.png\" style=\"display:inline;vertical-align:middle;\" /></a></td></tr>\n",
       "<tr><td>11</td><td>Lambda</td><td>parameter:&nbsp;36<br>body:&nbsp;36<br></td><td><a class=\"ProveItLink\" href=\"../../../../../../core_expr_types/__pv_it/common/90e08240ada6ff34ada724205d9cb9b31f4aecbd0/expr.ipynb\"><img src=\"../../../../../../core_expr_types/__pv_it/common/90e08240ada6ff34ada724205d9cb9b31f4aecbd0/expr.png\" style=\"display:inline;vertical-align:middle;\" /></a></td></tr>\n",
       "<tr><td>12</td><td>Operation</td><td>operator:&nbsp;15<br>operands:&nbsp;16<br></td><td><a class=\"ProveItLink\" href=\"../94c16d88f77d29bc4a45e93f135d6926103317ef0/expr.ipynb\"><img src=\"../94c16d88f77d29bc4a45e93f135d6926103317ef0/expr.png\" style=\"display:inline;vertical-align:middle;\" /></a></td></tr>\n",
       "<tr><td>13</td><td>ExprTuple</td><td>17, 27</td><td><a class=\"ProveItLink\" href=\"../../common/8e72b8f917ab0991a456ff8905abf07907bc8a980/expr.ipynb\"><img src=\"../../common/8e72b8f917ab0991a456ff8905abf07907bc8a980/expr.png\" style=\"display:inline;vertical-align:middle;\" /></a></td></tr>\n",
       "<tr><td>14</td><td>ExprTuple</td><td>36</td><td><a class=\"ProveItLink\" href=\"../../../../../../core_expr_types/__pv_it/common/4b0dd6be36d76552eda6a95d5b4a27f5a5b62f900/expr.ipynb\"><img src=\"../../../../../../core_expr_types/__pv_it/common/4b0dd6be36d76552eda6a95d5b4a27f5a5b62f900/expr.png\" style=\"display:inline;vertical-align:middle;\" /></a></td></tr>\n",
       "<tr><td>15</td><td>Literal</td><td></td><td><a class=\"ProveItLink\" href=\"../../../../circuits/__pv_it/common/5eaa43008f05c06941080a12337ff182ea14996e0/expr.ipynb\"><img src=\"../../../../circuits/__pv_it/common/5eaa43008f05c06941080a12337ff182ea14996e0/expr.png\" style=\"display:inline;vertical-align:middle;\" /></a></td></tr>\n",
       "<tr><td>16</td><td>NamedExprs</td><td>element: 18<br>targets: 19<br></td><td><a class=\"ProveItLink\" href=\"../db048a810ec5265c89950fc973393c65e71e60f30/expr.ipynb\"><img src=\"../db048a810ec5265c89950fc973393c65e71e60f30/expr.png\" style=\"display:inline;vertical-align:middle;\" /></a></td></tr>\n",
       "<tr><td>17</td><td>Operation</td><td>operator:&nbsp;20<br>operand:&nbsp;40<br></td><td><a class=\"ProveItLink\" href=\"../../common/e0a0e1311f316a159cea49712cb715262ee967450/expr.ipynb\"><img src=\"../../common/e0a0e1311f316a159cea49712cb715262ee967450/expr.png\" style=\"display:inline;vertical-align:middle;\" /></a></td></tr>\n",
       "<tr><td>18</td><td>Operation</td><td>operator:&nbsp;21<br>operands:&nbsp;22<br></td><td><a class=\"ProveItLink\" href=\"../7919d0a693d6bc56ccbf28d27e63cc2cfefa2a630/expr.ipynb\"><img src=\"../7919d0a693d6bc56ccbf28d27e63cc2cfefa2a630/expr.png\" style=\"display:inline;vertical-align:middle;\" /></a></td></tr>\n",
       "<tr><td>19</td><td>Operation</td><td>operator:&nbsp;23<br>operands:&nbsp;24<br></td><td><a class=\"ProveItLink\" href=\"../../theorems/8b1bca84bb9ee4c20163dea5f85ded4dcaf247080/expr.ipynb\"><img src=\"../../theorems/8b1bca84bb9ee4c20163dea5f85ded4dcaf247080/expr.png\" style=\"display:inline;vertical-align:middle;\" /></a></td></tr>\n",
       "<tr><td>20</td><td>Literal</td><td></td><td><a class=\"ProveItLink\" href=\"../../../../../../numbers/negation/__pv_it/common/221b3c4d1770ee9051b7c044c3f9ec61196fc34b0/expr.ipynb\"><img src=\"../../../../../../numbers/negation/__pv_it/common/221b3c4d1770ee9051b7c044c3f9ec61196fc34b0/expr.png\" style=\"display:inline;vertical-align:middle;\" /></a></td></tr>\n",
       "<tr><td>21</td><td>Literal</td><td></td><td><a class=\"ProveItLink\" href=\"../../../../circuits/__pv_it/common/00345a9c4f4d361e0b6e8bbbbe5a33a8ec86a20b0/expr.ipynb\"><img src=\"../../../../circuits/__pv_it/common/00345a9c4f4d361e0b6e8bbbbe5a33a8ec86a20b0/expr.png\" style=\"display:inline;vertical-align:middle;\" /></a></td></tr>\n",
       "<tr><td>22</td><td>NamedExprs</td><td>state: 25<br>part: 26<br></td><td><a class=\"ProveItLink\" href=\"../989a747af7b60b2c90252708c7fc5c72a363d8ce0/expr.ipynb\"><img src=\"../989a747af7b60b2c90252708c7fc5c72a363d8ce0/expr.png\" style=\"display:inline;vertical-align:middle;\" /></a></td></tr>\n",
       "<tr><td>23</td><td>Literal</td><td></td><td><a class=\"ProveItLink\" href=\"../../../../../../numbers/number_sets/integers/__pv_it/common/92f3a0a77e3c3ea8e4a5c8674edadc54e4f57d550/expr.ipynb\"><img src=\"../../../../../../numbers/number_sets/integers/__pv_it/common/92f3a0a77e3c3ea8e4a5c8674edadc54e4f57d550/expr.png\" style=\"display:inline;vertical-align:middle;\" /></a></td></tr>\n",
       "<tr><td>24</td><td>ExprTuple</td><td>27, 28</td><td><a class=\"ProveItLink\" href=\"../../theorems/3f423dad95fd45dde4f32a2a3edac43eb31fdbb40/expr.ipynb\"><img src=\"../../theorems/3f423dad95fd45dde4f32a2a3edac43eb31fdbb40/expr.png\" style=\"display:inline;vertical-align:middle;\" /></a></td></tr>\n",
       "<tr><td>25</td><td>Operation</td><td>operator:&nbsp;29<br>operands:&nbsp;30<br></td><td><a class=\"ProveItLink\" href=\"../9d03c9d631d599f40ce9646915f4138f5f55c6e00/expr.ipynb\"><img src=\"../9d03c9d631d599f40ce9646915f4138f5f55c6e00/expr.png\" style=\"display:inline;vertical-align:middle;\" /></a></td></tr>\n",
       "<tr><td>26</td><td>Operation</td><td>operator:&nbsp;32<br>operands:&nbsp;31<br></td><td><a class=\"ProveItLink\" href=\"../0c860867b908a6fc174ae2cac4e75cdfd4100e530/expr.ipynb\"><img src=\"../0c860867b908a6fc174ae2cac4e75cdfd4100e530/expr.png\" style=\"display:inline;vertical-align:middle;\" /></a></td></tr>\n",
       "<tr><td>27</td><td>Literal</td><td></td><td><a class=\"ProveItLink\" href=\"../../../../../../numbers/numerals/__pv_it/common/682157d4892d216d9e5626ed533aff9b56b9506e0/expr.ipynb\"><img src=\"../../../../../../numbers/numerals/__pv_it/common/682157d4892d216d9e5626ed533aff9b56b9506e0/expr.png\" style=\"display:inline;vertical-align:middle;\" /></a></td></tr>\n",
       "<tr><td>28</td><td>Operation</td><td>operator:&nbsp;32<br>operands:&nbsp;33<br></td><td><a class=\"ProveItLink\" href=\"../../theorems/d2d49f53ed6c0d9ac7dc8d27b9cf718603e9bc9d0/expr.ipynb\"><img src=\"../../theorems/d2d49f53ed6c0d9ac7dc8d27b9cf718603e9bc9d0/expr.png\" style=\"display:inline;vertical-align:middle;\" /></a></td></tr>\n",
       "<tr><td>29</td><td>Literal</td><td></td><td><a class=\"ProveItLink\" href=\"../../../../../../linear_algebra/tensors/__pv_it/common/7fa25b05174babb4710be62d63ebd43f68aa2fec0/expr.ipynb\"><img src=\"../../../../../../linear_algebra/tensors/__pv_it/common/7fa25b05174babb4710be62d63ebd43f68aa2fec0/expr.png\" style=\"display:inline;vertical-align:middle;\" /></a></td></tr>\n",
       "<tr><td>30</td><td>ExprTuple</td><td>34, 35</td><td><a class=\"ProveItLink\" href=\"../a0db1570b11e83734937500a434ee51fffa464a80/expr.ipynb\"><img src=\"../a0db1570b11e83734937500a434ee51fffa464a80/expr.png\" style=\"display:inline;vertical-align:middle;\" /></a></td></tr>\n",
       "<tr><td>31</td><td>ExprTuple</td><td>36, 40</td><td><a class=\"ProveItLink\" href=\"../136d7ec91caa3cc39c08f4fd898ff1b4177843a40/expr.ipynb\"><img src=\"../136d7ec91caa3cc39c08f4fd898ff1b4177843a40/expr.png\" style=\"display:inline;vertical-align:middle;\" /></a></td></tr>\n",
       "<tr><td>32</td><td>Literal</td><td></td><td><a class=\"ProveItLink\" href=\"../../../../../../numbers/addition/__pv_it/common/4b7effaab3619a1c2c38fe2dee8601df8ec714590/expr.ipynb\"><img src=\"../../../../../../numbers/addition/__pv_it/common/4b7effaab3619a1c2c38fe2dee8601df8ec714590/expr.png\" style=\"display:inline;vertical-align:middle;\" /></a></td></tr>\n",
       "<tr><td>33</td><td>ExprTuple</td><td>40, 37</td><td><a class=\"ProveItLink\" href=\"../../theorems/f3cff4586a5d1e7c2858f11ee1a5ac76adcdcc010/expr.ipynb\"><img src=\"../../theorems/f3cff4586a5d1e7c2858f11ee1a5ac76adcdcc010/expr.png\" style=\"display:inline;vertical-align:middle;\" /></a></td></tr>\n",
       "<tr><td>34</td><td>Operation</td><td>operator:&nbsp;38<br>operand:&nbsp;40<br></td><td><a class=\"ProveItLink\" href=\"../../common/b3612284596c95f78b4fe90ba4066e839001e5710/expr.ipynb\"><img src=\"../../common/b3612284596c95f78b4fe90ba4066e839001e5710/expr.png\" style=\"display:inline;vertical-align:middle;\" /></a></td></tr>\n",
       "<tr><td>35</td><td>Literal</td><td></td><td><a class=\"ProveItLink\" href=\"../../common/ca39d48f285e5b8b9c4fc5a4225a68cd859974bc0/expr.ipynb\"><img src=\"../../common/ca39d48f285e5b8b9c4fc5a4225a68cd859974bc0/expr.png\" style=\"display:inline;vertical-align:middle;\" /></a></td></tr>\n",
       "<tr><td>36</td><td>Variable</td><td></td><td><a class=\"ProveItLink\" href=\"../../../../../../core_expr_types/__pv_it/common/006c465e50948aa2b52285e2de47974f741255cc0/expr.ipynb\"><img src=\"../../../../../../core_expr_types/__pv_it/common/006c465e50948aa2b52285e2de47974f741255cc0/expr.png\" style=\"display:inline;vertical-align:middle;\" /></a></td></tr>\n",
       "<tr><td>37</td><td>Literal</td><td></td><td><a class=\"ProveItLink\" href=\"../../common/8a1628c4cfc7b78e5c5de183ba3f5cff0b20d4dd0/expr.ipynb\"><img src=\"../../common/8a1628c4cfc7b78e5c5de183ba3f5cff0b20d4dd0/expr.png\" style=\"display:inline;vertical-align:middle;\" /></a></td></tr>\n",
       "<tr><td>38</td><td>Literal</td><td></td><td><a class=\"ProveItLink\" href=\"../../common/3cd01098f6477695c5f95f3614ef4302a3a569f40/expr.ipynb\"><img src=\"../../common/3cd01098f6477695c5f95f3614ef4302a3a569f40/expr.png\" style=\"display:inline;vertical-align:middle;\" /></a></td></tr>\n",
       "<tr><td>39</td><td>ExprTuple</td><td>40</td><td><a class=\"ProveItLink\" href=\"../../common/04971f5ed986452ec2d9047d1e0d56faa846096b0/expr.ipynb\"><img src=\"../../common/04971f5ed986452ec2d9047d1e0d56faa846096b0/expr.png\" style=\"display:inline;vertical-align:middle;\" /></a></td></tr>\n",
       "<tr><td>40</td><td>Variable</td><td></td><td><a class=\"ProveItLink\" href=\"../../../../../../__pv_it/common/36861eae73a44b53d5b3b017ac6a3a9dae53bfba0/expr.ipynb\"><img src=\"../../../../../../__pv_it/common/36861eae73a44b53d5b3b017ac6a3a9dae53bfba0/expr.png\" style=\"display:inline;vertical-align:middle;\" /></a></td></tr>\n",
       "</table>\n"
      ],
      "text/plain": [
       "0. (|([MULTI_QUBIT_ELEM]{element:[OUTPUT]{state:(|psi_{t}> otimes |u>), part:((-t + 1) + t)}, targets:{1 .. t + s}}, [MULTI_QUBIT_ELEM]{element:[OUTPUT]{state:(|psi_{t}> otimes |u>), part:((-t + 2) + t)}, targets:{1 .. t + s}}, ..., [MULTI_QUBIT_ELEM]{element:[OUTPUT]{state:(|psi_{t}> otimes |u>), part:(0 + t)}, targets:{1 .. t + s}})|, |(1, 2, ..., t)|)\n",
       "   core type: ExprTuple\n",
       "   sub-expressions: 1, 2\n",
       "1. |([MULTI_QUBIT_ELEM]{element:[OUTPUT]{state:(|psi_{t}> otimes |u>), part:((-t + 1) + t)}, targets:{1 .. t + s}}, [MULTI_QUBIT_ELEM]{element:[OUTPUT]{state:(|psi_{t}> otimes |u>), part:((-t + 2) + t)}, targets:{1 .. t + s}}, ..., [MULTI_QUBIT_ELEM]{element:[OUTPUT]{state:(|psi_{t}> otimes |u>), part:(0 + t)}, targets:{1 .. t + s}})|\n",
       "   core type: Operation\n",
       "   operator: 4\n",
       "   operands: 3\n",
       "2. |(1, 2, ..., t)|\n",
       "   core type: Operation\n",
       "   operator: 4\n",
       "   operands: 5\n",
       "3. ([MULTI_QUBIT_ELEM]{element:[OUTPUT]{state:(|psi_{t}> otimes |u>), part:((-t + 1) + t)}, targets:{1 .. t + s}}, [MULTI_QUBIT_ELEM]{element:[OUTPUT]{state:(|psi_{t}> otimes |u>), part:((-t + 2) + t)}, targets:{1 .. t + s}}, ..., [MULTI_QUBIT_ELEM]{element:[OUTPUT]{state:(|psi_{t}> otimes |u>), part:(0 + t)}, targets:{1 .. t + s}})\n",
       "   core type: ExprTuple\n",
       "   sub-expressions: 6\n",
       "4. length\n",
       "   core type: Literal\n",
       "   sub-expressions: \n",
       "5. (1, 2, ..., t)\n",
       "   core type: ExprTuple\n",
       "   sub-expressions: 7\n",
       "6. [MULTI_QUBIT_ELEM]{element:[OUTPUT]{state:(|psi_{t}> otimes |u>), part:((-t + 1) + t)}, targets:{1 .. t + s}}, [MULTI_QUBIT_ELEM]{element:[OUTPUT]{state:(|psi_{t}> otimes |u>), part:((-t + 2) + t)}, targets:{1 .. t + s}}, ..., [MULTI_QUBIT_ELEM]{element:[OUTPUT]{state:(|psi_{t}> otimes |u>), part:(0 + t)}, targets:{1 .. t + s}}\n",
       "   core type: ExprRange\n",
       "   lambda_map: 8\n",
       "   start_index: 9\n",
       "   end_index: 10\n",
       "7. 1, 2, ..., t\n",
       "   core type: ExprRange\n",
       "   lambda_map: 11\n",
       "   start_index: 27\n",
       "   end_index: 40\n",
       "8. _a -> [MULTI_QUBIT_ELEM]{element:[OUTPUT]{state:(|psi_{t}> otimes |u>), part:(_a + t)}, targets:{1 .. t + s}}\n",
       "   core type: Lambda\n",
       "   parameter: 36\n",
       "   body: 12\n",
       "9. -t + 1\n",
       "   core type: Operation\n",
       "   operator: 32\n",
       "   operands: 13\n",
       "10. 0\n",
       "    core type: Literal\n",
       "    sub-expressions: \n",
       "11. _a -> _a\n",
       "    core type: Lambda\n",
       "    parameter: 36\n",
       "    body: 36\n",
       "12. [MULTI_QUBIT_ELEM]{element:[OUTPUT]{state:(|psi_{t}> otimes |u>), part:(_a + t)}, targets:{1 .. t + s}}\n",
       "    core type: Operation\n",
       "    operator: 15\n",
       "    operands: 16\n",
       "13. (-t, 1)\n",
       "    core type: ExprTuple\n",
       "    sub-expressions: 17, 27\n",
       "14. (_a)\n",
       "    core type: ExprTuple\n",
       "    sub-expressions: 36\n",
       "15. MULTI_QUBIT_ELEM\n",
       "    core type: Literal\n",
       "    sub-expressions: \n",
       "16. {element:[OUTPUT]{state:(|psi_{t}> otimes |u>), part:(_a + t)}, targets:{1 .. t + s}}\n",
       "    core type: NamedExprs\n",
       "    element: 18\n",
       "    targets: 19\n",
       "17. -t\n",
       "    core type: Operation\n",
       "    operator: 20\n",
       "    operand: 40\n",
       "18. [OUTPUT]{state:(|psi_{t}> otimes |u>), part:(_a + t)}\n",
       "    core type: Operation\n",
       "    operator: 21\n",
       "    operands: 22\n",
       "19. {1 .. t + s}\n",
       "    core type: Operation\n",
       "    operator: 23\n",
       "    operands: 24\n",
       "20. -\n",
       "    core type: Literal\n",
       "    sub-expressions: \n",
       "21. OUTPUT\n",
       "    core type: Literal\n",
       "    sub-expressions: \n",
       "22. {state:(|psi_{t}> otimes |u>), part:(_a + t)}\n",
       "    core type: NamedExprs\n",
       "    state: 25\n",
       "    part: 26\n",
       "23. Interval\n",
       "    core type: Literal\n",
       "    sub-expressions: \n",
       "24. (1, t + s)\n",
       "    core type: ExprTuple\n",
       "    sub-expressions: 27, 28\n",
       "25. |psi_{t}> otimes |u>\n",
       "    core type: Operation\n",
       "    operator: 29\n",
       "    operands: 30\n",
       "26. _a + t\n",
       "    core type: Operation\n",
       "    operator: 32\n",
       "    operands: 31\n",
       "27. 1\n",
       "    core type: Literal\n",
       "    sub-expressions: \n",
       "28. t + s\n",
       "    core type: Operation\n",
       "    operator: 32\n",
       "    operands: 33\n",
       "29. otimes\n",
       "    core type: Literal\n",
       "    sub-expressions: \n",
       "30. (|psi_{t}>, |u>)\n",
       "    core type: ExprTuple\n",
       "    sub-expressions: 34, 35\n",
       "31. (_a, t)\n",
       "    core type: ExprTuple\n",
       "    sub-expressions: 36, 40\n",
       "32. +\n",
       "    core type: Literal\n",
       "    sub-expressions: \n",
       "33. (t, s)\n",
       "    core type: ExprTuple\n",
       "    sub-expressions: 40, 37\n",
       "34. |psi_{t}>\n",
       "    core type: Operation\n",
       "    operator: 38\n",
       "    operand: 40\n",
       "35. |u>\n",
       "    core type: Literal\n",
       "    sub-expressions: \n",
       "36. _a\n",
       "    core type: Variable\n",
       "    sub-expressions: \n",
       "37. s\n",
       "    core type: Literal\n",
       "    sub-expressions: \n",
       "38. psi\n",
       "    core type: Literal\n",
       "    sub-expressions: \n",
       "39. (t)\n",
       "    core type: ExprTuple\n",
       "    sub-expressions: 40\n",
       "40. t\n",
       "    core type: Variable\n",
       "    sub-expressions: "
      ]
     },
     "metadata": {},
     "output_type": "display_data"
    }
   ],
   "source": [
    "# display the expression information\n",
    "stored_expr.expr_info()"
   ]
  },
  {
   "cell_type": "code",
   "execution_count": null,
   "metadata": {},
   "outputs": [],
   "source": []
  }
 ],
 "metadata": {
  "kernelspec": {
   "display_name": "Python 3",
   "language": "python",
   "name": "python3"
  }
 },
 "nbformat": 4,
 "nbformat_minor": 0
}