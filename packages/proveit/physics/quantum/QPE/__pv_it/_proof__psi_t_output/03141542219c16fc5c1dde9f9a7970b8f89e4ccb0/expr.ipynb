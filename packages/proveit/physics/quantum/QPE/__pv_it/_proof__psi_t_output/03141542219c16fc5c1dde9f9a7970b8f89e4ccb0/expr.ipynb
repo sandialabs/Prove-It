{
 "cells": [
  {
   "cell_type": "markdown",
   "metadata": {},
   "source": [
    "Expression of type <a class=\"ProveItLink\" href=\"../../../../../../../../doc/html/api/proveit.logic.InSet.html\">InSet</a>\n",
    "=======================\n",
    "# from the theory of <a class=\"ProveItLink\" href=\"../../../_theory_nbs_/theory.ipynb\">proveit.physics.quantum.QPE</a>"
   ]
  },
  {
   "cell_type": "code",
   "execution_count": 1,
   "metadata": {},
   "outputs": [],
   "source": [
    "import proveit\n",
    "# Automation is not needed when building an expression:\n",
    "proveit.defaults.automation = False # This will speed things up.\n",
    "proveit.defaults.inline_pngs = False # Makes files smaller.\n",
    "%load_expr # Load the stored expression as 'stored_expr'\n",
    "# import Expression classes needed to build the expression\n",
    "from proveit import t\n",
    "from proveit.linear_algebra import ScalarMult, VecAdd\n",
    "from proveit.logic import CartExp, InSet\n",
    "from proveit.numbers import Add, Complex, Exp, Mult, Neg, e, frac, i, one, pi, sqrt, two\n",
    "from proveit.physics.quantum import ket0, ket1\n",
    "from proveit.physics.quantum.QPE import _phase"
   ]
  },
  {
   "cell_type": "code",
   "execution_count": 2,
   "metadata": {},
   "outputs": [
    {
     "data": {
      "text/html": [
       "<strong id=\"expr\">expr:</strong> <a class=\"ProveItLink\" href=\"expr.ipynb\"><img src=\"expr.png\" style=\"display:inline;vertical-align:middle;\" /></a><br>"
      ],
      "text/plain": [
       "<IPython.core.display.HTML object>"
      ]
     },
     "metadata": {},
     "output_type": "display_data"
    }
   ],
   "source": [
    "# build up the expression from sub-expressions\n",
    "expr = InSet(ScalarMult(frac(one, sqrt(two)), VecAdd(ket0, ScalarMult(Exp(e, Mult(two, pi, i, Exp(two, Neg(Add(Neg(t), one))), _phase)), ket1))), CartExp(Complex, Exp(two, one)))"
   ]
  },
  {
   "cell_type": "code",
   "execution_count": 3,
   "metadata": {},
   "outputs": [
    {
     "name": "stdout",
     "output_type": "stream",
     "text": [
      "Passed sanity check: expr matches stored_expr\n"
     ]
    }
   ],
   "source": [
    "# check that the built expression is the same as the stored expression\n",
    "assert expr == stored_expr\n",
    "assert expr._style_id == stored_expr._style_id\n",
    "print(\"Passed sanity check: expr matches stored_expr\")"
   ]
  },
  {
   "cell_type": "code",
   "execution_count": 4,
   "metadata": {},
   "outputs": [
    {
     "name": "stdout",
     "output_type": "stream",
     "text": [
      "\\left(\\frac{1}{\\sqrt{2}} \\cdot \\left(\\lvert 0 \\rangle + \\left(\\mathsf{e}^{2 \\cdot \\pi \\cdot \\mathsf{i} \\cdot 2^{-\\left(-t + 1\\right)} \\cdot \\varphi} \\cdot \\lvert 1 \\rangle\\right)\\right)\\right) \\in \\mathbb{C}^{2^{1}}\n"
     ]
    }
   ],
   "source": [
    "# Show the LaTeX representation of the expression for convenience if you need it.\n",
    "print(stored_expr.latex())"
   ]
  },
  {
   "cell_type": "code",
   "execution_count": 5,
   "metadata": {},
   "outputs": [
    {
     "data": {
      "text/html": [
       "<table>\n",
       "<tr><th>name</th><th>description</th><th>default</th><th>current value</th><th>related methods</th></tr><tr><td>operation</td><td>'infix' or 'function' style formatting</td><td>infix</td><td>infix</td><td></td></tr>\n",
       "<tr><td>wrap_positions</td><td>position(s) at which wrapping is to occur; '2 n - 1' is after the nth operand, '2 n' is after the nth operation.</td><td>()</td><td>()</td><td>('with_wrapping_at', 'with_wrap_before_operator', 'with_wrap_after_operator', 'without_wrapping', 'wrap_positions')</td></tr>\n",
       "<tr><td>justification</td><td>if any wrap positions are set, justify to the 'left', 'center', or 'right'</td><td>center</td><td>center</td><td>('with_justification',)</td></tr>\n",
       "<tr><td>direction</td><td>Direction of the relation (normal or reversed)</td><td>normal</td><td>normal</td><td>('with_direction_reversed', 'is_reversed')</td></tr>\n",
       "</table>\n"
      ],
      "text/plain": [
       "style name: operation\n",
       "description: 'infix' or 'function' style formatting\n",
       "default: infix\n",
       "current value: infix\n",
       "related methods: ()\n",
       "style name: wrap_positions\n",
       "description: position(s) at which wrapping is to occur; '2 n - 1' is after the nth operand, '2 n' is after the nth operation.\n",
       "default: ()\n",
       "current value: ()\n",
       "related methods: ('with_wrapping_at', 'with_wrap_before_operator', 'with_wrap_after_operator', 'without_wrapping', 'wrap_positions')\n",
       "style name: justification\n",
       "description: if any wrap positions are set, justify to the 'left', 'center', or 'right'\n",
       "default: center\n",
       "current value: center\n",
       "related methods: ('with_justification',)\n",
       "style name: direction\n",
       "description: Direction of the relation (normal or reversed)\n",
       "default: normal\n",
       "current value: normal\n",
       "related methods: ('with_direction_reversed', 'is_reversed')"
      ]
     },
     "metadata": {},
     "output_type": "display_data"
    }
   ],
   "source": [
    "stored_expr.style_options()"
   ]
  },
  {
   "cell_type": "code",
   "execution_count": 6,
   "metadata": {},
   "outputs": [
    {
     "data": {
      "text/html": [
       "<table><tr><th>&nbsp;</th><th>core type</th><th>sub-expressions</th><th>expression</th></tr>\n",
       "<tr><td>0</td><td>Operation</td><td>operator:&nbsp;1<br>operands:&nbsp;2<br></td><td><a class=\"ProveItLink\" href=\"expr.ipynb\"><img src=\"expr.png\" style=\"display:inline;vertical-align:middle;\" /></a></td></tr>\n",
       "<tr><td>1</td><td>Literal</td><td></td><td><a class=\"ProveItLink\" href=\"../../../../../../logic/sets/membership/__pv_it/common/477487d8796864d23d5810f83761435f25167f690/expr.ipynb\"><img src=\"../../../../../../logic/sets/membership/__pv_it/common/477487d8796864d23d5810f83761435f25167f690/expr.png\" style=\"display:inline;vertical-align:middle;\" /></a></td></tr>\n",
       "<tr><td>2</td><td>ExprTuple</td><td>3, 4</td><td><a class=\"ProveItLink\" href=\"../8744a9d0ce3d140b2a7bb78c41aeb515eca3b0470/expr.ipynb\"><img src=\"../8744a9d0ce3d140b2a7bb78c41aeb515eca3b0470/expr.png\" style=\"display:inline;vertical-align:middle;\" /></a></td></tr>\n",
       "<tr><td>3</td><td>Operation</td><td>operator:&nbsp;21<br>operands:&nbsp;5<br></td><td><a class=\"ProveItLink\" href=\"../099b9ca2b811c45f0948296ab14344e125dc6bbf0/expr.ipynb\"><img src=\"../099b9ca2b811c45f0948296ab14344e125dc6bbf0/expr.png\" style=\"display:inline;vertical-align:middle;\" /></a></td></tr>\n",
       "<tr><td>4</td><td>Operation</td><td>operator:&nbsp;6<br>operands:&nbsp;7<br></td><td><a class=\"ProveItLink\" href=\"../f172ef238c3f08f01f0f95d532e8130ffa7d83810/expr.ipynb\"><img src=\"../f172ef238c3f08f01f0f95d532e8130ffa7d83810/expr.png\" style=\"display:inline;vertical-align:middle;\" /></a></td></tr>\n",
       "<tr><td>5</td><td>ExprTuple</td><td>8, 9</td><td><a class=\"ProveItLink\" href=\"../badbb5c2657f529d374ba0203301ff615f420eac0/expr.ipynb\"><img src=\"../badbb5c2657f529d374ba0203301ff615f420eac0/expr.png\" style=\"display:inline;vertical-align:middle;\" /></a></td></tr>\n",
       "<tr><td>6</td><td>Literal</td><td></td><td><a class=\"ProveItLink\" href=\"../../../../../../logic/sets/cartesian_products/__pv_it/common/7d20d67ddfbd94ad12efc9670c0d16a295b8ec1a0/expr.ipynb\"><img src=\"../../../../../../logic/sets/cartesian_products/__pv_it/common/7d20d67ddfbd94ad12efc9670c0d16a295b8ec1a0/expr.png\" style=\"display:inline;vertical-align:middle;\" /></a></td></tr>\n",
       "<tr><td>7</td><td>ExprTuple</td><td>10, 11</td><td><a class=\"ProveItLink\" href=\"../8e24690bace667f37fe241f9193a6ec9de3609400/expr.ipynb\"><img src=\"../8e24690bace667f37fe241f9193a6ec9de3609400/expr.png\" style=\"display:inline;vertical-align:middle;\" /></a></td></tr>\n",
       "<tr><td>8</td><td>Operation</td><td>operator:&nbsp;27<br>operands:&nbsp;12<br></td><td><a class=\"ProveItLink\" href=\"../../../../circuits/__pv_it/common/c8b5993df7cd8527652affb78bd7910edc3167040/expr.ipynb\"><img src=\"../../../../circuits/__pv_it/common/c8b5993df7cd8527652affb78bd7910edc3167040/expr.png\" style=\"display:inline;vertical-align:middle;\" /></a></td></tr>\n",
       "<tr><td>9</td><td>Operation</td><td>operator:&nbsp;13<br>operands:&nbsp;14<br></td><td><a class=\"ProveItLink\" href=\"../f1599e4e69de3c17b34d6a4981003914e83730f30/expr.ipynb\"><img src=\"../f1599e4e69de3c17b34d6a4981003914e83730f30/expr.png\" style=\"display:inline;vertical-align:middle;\" /></a></td></tr>\n",
       "<tr><td>10</td><td>Literal</td><td></td><td><a class=\"ProveItLink\" href=\"../../../../../../numbers/number_sets/complex_numbers/__pv_it/common/d18a028138f659eda00de597c28a3447fe87eb100/expr.ipynb\"><img src=\"../../../../../../numbers/number_sets/complex_numbers/__pv_it/common/d18a028138f659eda00de597c28a3447fe87eb100/expr.png\" style=\"display:inline;vertical-align:middle;\" /></a></td></tr>\n",
       "<tr><td>11</td><td>Operation</td><td>operator:&nbsp;40<br>operands:&nbsp;15<br></td><td><a class=\"ProveItLink\" href=\"../8011a65329f801516e67760a1262ace7ad820dc50/expr.ipynb\"><img src=\"../8011a65329f801516e67760a1262ace7ad820dc50/expr.png\" style=\"display:inline;vertical-align:middle;\" /></a></td></tr>\n",
       "<tr><td>12</td><td>ExprTuple</td><td>49, 16</td><td><a class=\"ProveItLink\" href=\"../../../../circuits/__pv_it/common/262fd0216b73ce447526134084bce463ea3e6c430/expr.ipynb\"><img src=\"../../../../circuits/__pv_it/common/262fd0216b73ce447526134084bce463ea3e6c430/expr.png\" style=\"display:inline;vertical-align:middle;\" /></a></td></tr>\n",
       "<tr><td>13</td><td>Literal</td><td></td><td><a class=\"ProveItLink\" href=\"../../../../../../linear_algebra/addition/__pv_it/common/ac3c140c9094f065c7f7db15c94558731443639c0/expr.ipynb\"><img src=\"../../../../../../linear_algebra/addition/__pv_it/common/ac3c140c9094f065c7f7db15c94558731443639c0/expr.png\" style=\"display:inline;vertical-align:middle;\" /></a></td></tr>\n",
       "<tr><td>14</td><td>ExprTuple</td><td>17, 18</td><td><a class=\"ProveItLink\" href=\"../dc1c2bb32065175f7e638a242f775ab43b994b100/expr.ipynb\"><img src=\"../dc1c2bb32065175f7e638a242f775ab43b994b100/expr.png\" style=\"display:inline;vertical-align:middle;\" /></a></td></tr>\n",
       "<tr><td>15</td><td>ExprTuple</td><td>42, 49</td><td><a class=\"ProveItLink\" href=\"../../../../../../numbers/numerals/decimals/__pv_it/theorems/5b872049c104bd2cb2c6904cccab5f13fdcff7ea0/expr.ipynb\"><img src=\"../../../../../../numbers/numerals/decimals/__pv_it/theorems/5b872049c104bd2cb2c6904cccab5f13fdcff7ea0/expr.png\" style=\"display:inline;vertical-align:middle;\" /></a></td></tr>\n",
       "<tr><td>16</td><td>Operation</td><td>operator:&nbsp;40<br>operands:&nbsp;19<br></td><td><a class=\"ProveItLink\" href=\"../../../../circuits/__pv_it/common/49bb1f405794652bcc9227fccd89214dff2db63a0/expr.ipynb\"><img src=\"../../../../circuits/__pv_it/common/49bb1f405794652bcc9227fccd89214dff2db63a0/expr.png\" style=\"display:inline;vertical-align:middle;\" /></a></td></tr>\n",
       "<tr><td>17</td><td>Operation</td><td>operator:&nbsp;30<br>operand:&nbsp;24<br></td><td><a class=\"ProveItLink\" href=\"../../../../__pv_it/common/133ac00fe58669eb9caf707029e78ad2443dad960/expr.ipynb\"><img src=\"../../../../__pv_it/common/133ac00fe58669eb9caf707029e78ad2443dad960/expr.png\" style=\"display:inline;vertical-align:middle;\" /></a></td></tr>\n",
       "<tr><td>18</td><td>Operation</td><td>operator:&nbsp;21<br>operands:&nbsp;22<br></td><td><a class=\"ProveItLink\" href=\"../60a0fd40c132e8fa0d875681dc1e5e01d8ea8f310/expr.ipynb\"><img src=\"../60a0fd40c132e8fa0d875681dc1e5e01d8ea8f310/expr.png\" style=\"display:inline;vertical-align:middle;\" /></a></td></tr>\n",
       "<tr><td>19</td><td>ExprTuple</td><td>42, 23</td><td><a class=\"ProveItLink\" href=\"../../../../circuits/__pv_it/common/88b0792c261e12d2e1496daec96a3df2a46350e40/expr.ipynb\"><img src=\"../../../../circuits/__pv_it/common/88b0792c261e12d2e1496daec96a3df2a46350e40/expr.png\" style=\"display:inline;vertical-align:middle;\" /></a></td></tr>\n",
       "<tr><td>20</td><td>ExprTuple</td><td>24</td><td><a class=\"ProveItLink\" href=\"../../../../../../numbers/number_sets/natural_numbers/__pv_it/common/2048ac4936a0fdafec65dc88dd04b24596ab2f8b0/expr.ipynb\"><img src=\"../../../../../../numbers/number_sets/natural_numbers/__pv_it/common/2048ac4936a0fdafec65dc88dd04b24596ab2f8b0/expr.png\" style=\"display:inline;vertical-align:middle;\" /></a></td></tr>\n",
       "<tr><td>21</td><td>Literal</td><td></td><td><a class=\"ProveItLink\" href=\"../../../../../../linear_algebra/scalar_multiplication/__pv_it/common/1e364bd471e6a29fcd358dd2d9cd990a1e6fedd40/expr.ipynb\"><img src=\"../../../../../../linear_algebra/scalar_multiplication/__pv_it/common/1e364bd471e6a29fcd358dd2d9cd990a1e6fedd40/expr.png\" style=\"display:inline;vertical-align:middle;\" /></a></td></tr>\n",
       "<tr><td>22</td><td>ExprTuple</td><td>25, 26</td><td><a class=\"ProveItLink\" href=\"../81319b65d69b57cd640d48d9b376c998956dd7370/expr.ipynb\"><img src=\"../81319b65d69b57cd640d48d9b376c998956dd7370/expr.png\" style=\"display:inline;vertical-align:middle;\" /></a></td></tr>\n",
       "<tr><td>23</td><td>Operation</td><td>operator:&nbsp;27<br>operands:&nbsp;28<br></td><td><a class=\"ProveItLink\" href=\"../../../../circuits/__pv_it/common/41c7e8d55de04e24c56503fbffe6ac0318a53f990/expr.ipynb\"><img src=\"../../../../circuits/__pv_it/common/41c7e8d55de04e24c56503fbffe6ac0318a53f990/expr.png\" style=\"display:inline;vertical-align:middle;\" /></a></td></tr>\n",
       "<tr><td>24</td><td>Literal</td><td></td><td><a class=\"ProveItLink\" href=\"../../../../../../numbers/numerals/__pv_it/common/dd4e19e8b134dfb293470ea55fe3589b0ab9f8040/expr.ipynb\"><img src=\"../../../../../../numbers/numerals/__pv_it/common/dd4e19e8b134dfb293470ea55fe3589b0ab9f8040/expr.png\" style=\"display:inline;vertical-align:middle;\" /></a></td></tr>\n",
       "<tr><td>25</td><td>Operation</td><td>operator:&nbsp;40<br>operands:&nbsp;29<br></td><td><a class=\"ProveItLink\" href=\"../5475c00fdfedf93f0016418a3e6b8f596727e4570/expr.ipynb\"><img src=\"../5475c00fdfedf93f0016418a3e6b8f596727e4570/expr.png\" style=\"display:inline;vertical-align:middle;\" /></a></td></tr>\n",
       "<tr><td>26</td><td>Operation</td><td>operator:&nbsp;30<br>operand:&nbsp;49<br></td><td><a class=\"ProveItLink\" href=\"../../../../__pv_it/common/57cbcececeb3a772f3462a38bcf9836042f3091f0/expr.ipynb\"><img src=\"../../../../__pv_it/common/57cbcececeb3a772f3462a38bcf9836042f3091f0/expr.png\" style=\"display:inline;vertical-align:middle;\" /></a></td></tr>\n",
       "<tr><td>27</td><td>Literal</td><td></td><td><a class=\"ProveItLink\" href=\"../../../../../../numbers/division/__pv_it/common/a2a633e1e3c749fb1f2692466b287b6348c5de840/expr.ipynb\"><img src=\"../../../../../../numbers/division/__pv_it/common/a2a633e1e3c749fb1f2692466b287b6348c5de840/expr.png\" style=\"display:inline;vertical-align:middle;\" /></a></td></tr>\n",
       "<tr><td>28</td><td>ExprTuple</td><td>49, 42</td><td><a class=\"ProveItLink\" href=\"../../../../../../numbers/numerals/decimals/__pv_it/theorems/df23a04353373623cccbfda09b61e0f594aa791a0/expr.ipynb\"><img src=\"../../../../../../numbers/numerals/decimals/__pv_it/theorems/df23a04353373623cccbfda09b61e0f594aa791a0/expr.png\" style=\"display:inline;vertical-align:middle;\" /></a></td></tr>\n",
       "<tr><td>29</td><td>ExprTuple</td><td>32, 33</td><td><a class=\"ProveItLink\" href=\"../831334e5089484a31d8d7ebb3ec2061fa7bd72440/expr.ipynb\"><img src=\"../831334e5089484a31d8d7ebb3ec2061fa7bd72440/expr.png\" style=\"display:inline;vertical-align:middle;\" /></a></td></tr>\n",
       "<tr><td>30</td><td>Literal</td><td></td><td><a class=\"ProveItLink\" href=\"../../../../algebra/__pv_it/common/e3872951fe05b26090372918594af92cac779e280/expr.ipynb\"><img src=\"../../../../algebra/__pv_it/common/e3872951fe05b26090372918594af92cac779e280/expr.png\" style=\"display:inline;vertical-align:middle;\" /></a></td></tr>\n",
       "<tr><td>31</td><td>ExprTuple</td><td>49</td><td><a class=\"ProveItLink\" href=\"../../../../__pv_it/common/b9e4f0dffece176bbe2f36127440684a20e0468e0/expr.ipynb\"><img src=\"../../../../__pv_it/common/b9e4f0dffece176bbe2f36127440684a20e0468e0/expr.png\" style=\"display:inline;vertical-align:middle;\" /></a></td></tr>\n",
       "<tr><td>32</td><td>Literal</td><td></td><td><a class=\"ProveItLink\" href=\"../../../../../../numbers/number_sets/real_numbers/__pv_it/common/e531ffa54fd897084533764a4a14f19f590674f80/expr.ipynb\"><img src=\"../../../../../../numbers/number_sets/real_numbers/__pv_it/common/e531ffa54fd897084533764a4a14f19f590674f80/expr.png\" style=\"display:inline;vertical-align:middle;\" /></a></td></tr>\n",
       "<tr><td>33</td><td>Operation</td><td>operator:&nbsp;34<br>operands:&nbsp;35<br></td><td><a class=\"ProveItLink\" href=\"../fa7e71bff4ac4888f0c207682f6cf5926992c85b0/expr.ipynb\"><img src=\"../fa7e71bff4ac4888f0c207682f6cf5926992c85b0/expr.png\" style=\"display:inline;vertical-align:middle;\" /></a></td></tr>\n",
       "<tr><td>34</td><td>Literal</td><td></td><td><a class=\"ProveItLink\" href=\"../../../../../../numbers/multiplication/__pv_it/common/ed719cef37831779c16481533a4d380a2f95ab270/expr.ipynb\"><img src=\"../../../../../../numbers/multiplication/__pv_it/common/ed719cef37831779c16481533a4d380a2f95ab270/expr.png\" style=\"display:inline;vertical-align:middle;\" /></a></td></tr>\n",
       "<tr><td>35</td><td>ExprTuple</td><td>42, 36, 37, 38, 39</td><td><a class=\"ProveItLink\" href=\"../15b7d9f8bc4bc17753851cbc9bb844b34f2de11e0/expr.ipynb\"><img src=\"../15b7d9f8bc4bc17753851cbc9bb844b34f2de11e0/expr.png\" style=\"display:inline;vertical-align:middle;\" /></a></td></tr>\n",
       "<tr><td>36</td><td>Literal</td><td></td><td><a class=\"ProveItLink\" href=\"../../../../../../numbers/number_sets/real_numbers/__pv_it/common/246c206266ac5b48800e508d580f91767b24c2df0/expr.ipynb\"><img src=\"../../../../../../numbers/number_sets/real_numbers/__pv_it/common/246c206266ac5b48800e508d580f91767b24c2df0/expr.png\" style=\"display:inline;vertical-align:middle;\" /></a></td></tr>\n",
       "<tr><td>37</td><td>Literal</td><td></td><td><a class=\"ProveItLink\" href=\"../../../../../../numbers/number_sets/complex_numbers/__pv_it/common/6c9cc69d472f352324c298b2318df233e9a7e0250/expr.ipynb\"><img src=\"../../../../../../numbers/number_sets/complex_numbers/__pv_it/common/6c9cc69d472f352324c298b2318df233e9a7e0250/expr.png\" style=\"display:inline;vertical-align:middle;\" /></a></td></tr>\n",
       "<tr><td>38</td><td>Operation</td><td>operator:&nbsp;40<br>operands:&nbsp;41<br></td><td><a class=\"ProveItLink\" href=\"../1b03e87b83f586f18e65fa05eda2bd5b8ef37d770/expr.ipynb\"><img src=\"../1b03e87b83f586f18e65fa05eda2bd5b8ef37d770/expr.png\" style=\"display:inline;vertical-align:middle;\" /></a></td></tr>\n",
       "<tr><td>39</td><td>Literal</td><td></td><td><a class=\"ProveItLink\" href=\"../../common/d5e43a4a06cc3c8384d7262f5d019bed24f240ea0/expr.ipynb\"><img src=\"../../common/d5e43a4a06cc3c8384d7262f5d019bed24f240ea0/expr.png\" style=\"display:inline;vertical-align:middle;\" /></a></td></tr>\n",
       "<tr><td>40</td><td>Literal</td><td></td><td><a class=\"ProveItLink\" href=\"../../../../../../numbers/exponentiation/__pv_it/common/0ac37aca1e54c35c5cda09672df32d4f69f1f3020/expr.ipynb\"><img src=\"../../../../../../numbers/exponentiation/__pv_it/common/0ac37aca1e54c35c5cda09672df32d4f69f1f3020/expr.png\" style=\"display:inline;vertical-align:middle;\" /></a></td></tr>\n",
       "<tr><td>41</td><td>ExprTuple</td><td>42, 43</td><td><a class=\"ProveItLink\" href=\"../dac644a0e22ece58f359750d81fda1ef6998f02e0/expr.ipynb\"><img src=\"../dac644a0e22ece58f359750d81fda1ef6998f02e0/expr.png\" style=\"display:inline;vertical-align:middle;\" /></a></td></tr>\n",
       "<tr><td>42</td><td>Literal</td><td></td><td><a class=\"ProveItLink\" href=\"../../../../../../numbers/numerals/__pv_it/common/af4aab8a07465db063742696e006d04670f30cf10/expr.ipynb\"><img src=\"../../../../../../numbers/numerals/__pv_it/common/af4aab8a07465db063742696e006d04670f30cf10/expr.png\" style=\"display:inline;vertical-align:middle;\" /></a></td></tr>\n",
       "<tr><td>43</td><td>Operation</td><td>operator:&nbsp;50<br>operand:&nbsp;45<br></td><td><a class=\"ProveItLink\" href=\"../6e967ae0b3ac35bb5c6220418272090a8cbf430b0/expr.ipynb\"><img src=\"../6e967ae0b3ac35bb5c6220418272090a8cbf430b0/expr.png\" style=\"display:inline;vertical-align:middle;\" /></a></td></tr>\n",
       "<tr><td>44</td><td>ExprTuple</td><td>45</td><td><a class=\"ProveItLink\" href=\"../5bc1fa27ca801f2e4d8d8b6766af7dfc3eee18d40/expr.ipynb\"><img src=\"../5bc1fa27ca801f2e4d8d8b6766af7dfc3eee18d40/expr.png\" style=\"display:inline;vertical-align:middle;\" /></a></td></tr>\n",
       "<tr><td>45</td><td>Operation</td><td>operator:&nbsp;46<br>operands:&nbsp;47<br></td><td><a class=\"ProveItLink\" href=\"../../common/a377e33c8fca34123b321baad6051b47dc5d683c0/expr.ipynb\"><img src=\"../../common/a377e33c8fca34123b321baad6051b47dc5d683c0/expr.png\" style=\"display:inline;vertical-align:middle;\" /></a></td></tr>\n",
       "<tr><td>46</td><td>Literal</td><td></td><td><a class=\"ProveItLink\" href=\"../../../../../../numbers/addition/__pv_it/common/4b7effaab3619a1c2c38fe2dee8601df8ec714590/expr.ipynb\"><img src=\"../../../../../../numbers/addition/__pv_it/common/4b7effaab3619a1c2c38fe2dee8601df8ec714590/expr.png\" style=\"display:inline;vertical-align:middle;\" /></a></td></tr>\n",
       "<tr><td>47</td><td>ExprTuple</td><td>48, 49</td><td><a class=\"ProveItLink\" href=\"../../common/8e72b8f917ab0991a456ff8905abf07907bc8a980/expr.ipynb\"><img src=\"../../common/8e72b8f917ab0991a456ff8905abf07907bc8a980/expr.png\" style=\"display:inline;vertical-align:middle;\" /></a></td></tr>\n",
       "<tr><td>48</td><td>Operation</td><td>operator:&nbsp;50<br>operand:&nbsp;52<br></td><td><a class=\"ProveItLink\" href=\"../../common/e0a0e1311f316a159cea49712cb715262ee967450/expr.ipynb\"><img src=\"../../common/e0a0e1311f316a159cea49712cb715262ee967450/expr.png\" style=\"display:inline;vertical-align:middle;\" /></a></td></tr>\n",
       "<tr><td>49</td><td>Literal</td><td></td><td><a class=\"ProveItLink\" href=\"../../../../../../numbers/numerals/__pv_it/common/682157d4892d216d9e5626ed533aff9b56b9506e0/expr.ipynb\"><img src=\"../../../../../../numbers/numerals/__pv_it/common/682157d4892d216d9e5626ed533aff9b56b9506e0/expr.png\" style=\"display:inline;vertical-align:middle;\" /></a></td></tr>\n",
       "<tr><td>50</td><td>Literal</td><td></td><td><a class=\"ProveItLink\" href=\"../../../../../../numbers/negation/__pv_it/common/221b3c4d1770ee9051b7c044c3f9ec61196fc34b0/expr.ipynb\"><img src=\"../../../../../../numbers/negation/__pv_it/common/221b3c4d1770ee9051b7c044c3f9ec61196fc34b0/expr.png\" style=\"display:inline;vertical-align:middle;\" /></a></td></tr>\n",
       "<tr><td>51</td><td>ExprTuple</td><td>52</td><td><a class=\"ProveItLink\" href=\"../../common/04971f5ed986452ec2d9047d1e0d56faa846096b0/expr.ipynb\"><img src=\"../../common/04971f5ed986452ec2d9047d1e0d56faa846096b0/expr.png\" style=\"display:inline;vertical-align:middle;\" /></a></td></tr>\n",
       "<tr><td>52</td><td>Variable</td><td></td><td><a class=\"ProveItLink\" href=\"../../../../../../__pv_it/common/36861eae73a44b53d5b3b017ac6a3a9dae53bfba0/expr.ipynb\"><img src=\"../../../../../../__pv_it/common/36861eae73a44b53d5b3b017ac6a3a9dae53bfba0/expr.png\" style=\"display:inline;vertical-align:middle;\" /></a></td></tr>\n",
       "</table>\n"
      ],
      "text/plain": [
       "0. ((1 / sqrt(2)) * (|0〉 + (e^{2 * pi * i * 2^{-(-t + 1)} * phase} * |1〉))) in Complex^{2^{1}}\n",
       "   core type: Operation\n",
       "   operator: 1\n",
       "   operands: 2\n",
       "1. in\n",
       "   core type: Literal\n",
       "   sub-expressions: \n",
       "2. ((1 / sqrt(2)) * (|0〉 + (e^{2 * pi * i * 2^{-(-t + 1)} * phase} * |1〉)), Complex^{2^{1}})\n",
       "   core type: ExprTuple\n",
       "   sub-expressions: 3, 4\n",
       "3. (1 / sqrt(2)) * (|0〉 + (e^{2 * pi * i * 2^{-(-t + 1)} * phase} * |1〉))\n",
       "   core type: Operation\n",
       "   operator: 21\n",
       "   operands: 5\n",
       "4. Complex^{2^{1}}\n",
       "   core type: Operation\n",
       "   operator: 6\n",
       "   operands: 7\n",
       "5. (1 / sqrt(2), |0〉 + (e^{2 * pi * i * 2^{-(-t + 1)} * phase} * |1〉))\n",
       "   core type: ExprTuple\n",
       "   sub-expressions: 8, 9\n",
       "6. CartExp\n",
       "   core type: Literal\n",
       "   sub-expressions: \n",
       "7. (Complex, 2^{1})\n",
       "   core type: ExprTuple\n",
       "   sub-expressions: 10, 11\n",
       "8. 1 / sqrt(2)\n",
       "   core type: Operation\n",
       "   operator: 27\n",
       "   operands: 12\n",
       "9. |0〉 + (e^{2 * pi * i * 2^{-(-t + 1)} * phase} * |1〉)\n",
       "   core type: Operation\n",
       "   operator: 13\n",
       "   operands: 14\n",
       "10. Complex\n",
       "    core type: Literal\n",
       "    sub-expressions: \n",
       "11. 2^{1}\n",
       "    core type: Operation\n",
       "    operator: 40\n",
       "    operands: 15\n",
       "12. (1, sqrt(2))\n",
       "    core type: ExprTuple\n",
       "    sub-expressions: 49, 16\n",
       "13. +\n",
       "    core type: Literal\n",
       "    sub-expressions: \n",
       "14. (|0〉, e^{2 * pi * i * 2^{-(-t + 1)} * phase} * |1〉)\n",
       "    core type: ExprTuple\n",
       "    sub-expressions: 17, 18\n",
       "15. (2, 1)\n",
       "    core type: ExprTuple\n",
       "    sub-expressions: 42, 49\n",
       "16. sqrt(2)\n",
       "    core type: Operation\n",
       "    operator: 40\n",
       "    operands: 19\n",
       "17. |0〉\n",
       "    core type: Operation\n",
       "    operator: 30\n",
       "    operand: 24\n",
       "18. e^{2 * pi * i * 2^{-(-t + 1)} * phase} * |1〉\n",
       "    core type: Operation\n",
       "    operator: 21\n",
       "    operands: 22\n",
       "19. (2, 1 / 2)\n",
       "    core type: ExprTuple\n",
       "    sub-expressions: 42, 23\n",
       "20. (0)\n",
       "    core type: ExprTuple\n",
       "    sub-expressions: 24\n",
       "21. *\n",
       "    core type: Literal\n",
       "    sub-expressions: \n",
       "22. (e^{2 * pi * i * 2^{-(-t + 1)} * phase}, |1〉)\n",
       "    core type: ExprTuple\n",
       "    sub-expressions: 25, 26\n",
       "23. 1 / 2\n",
       "    core type: Operation\n",
       "    operator: 27\n",
       "    operands: 28\n",
       "24. 0\n",
       "    core type: Literal\n",
       "    sub-expressions: \n",
       "25. e^{2 * pi * i * 2^{-(-t + 1)} * phase}\n",
       "    core type: Operation\n",
       "    operator: 40\n",
       "    operands: 29\n",
       "26. |1〉\n",
       "    core type: Operation\n",
       "    operator: 30\n",
       "    operand: 49\n",
       "27. /\n",
       "    core type: Literal\n",
       "    sub-expressions: \n",
       "28. (1, 2)\n",
       "    core type: ExprTuple\n",
       "    sub-expressions: 49, 42\n",
       "29. (e, 2 * pi * i * 2^{-(-t + 1)} * phase)\n",
       "    core type: ExprTuple\n",
       "    sub-expressions: 32, 33\n",
       "30. KET\n",
       "    core type: Literal\n",
       "    sub-expressions: \n",
       "31. (1)\n",
       "    core type: ExprTuple\n",
       "    sub-expressions: 49\n",
       "32. e\n",
       "    core type: Literal\n",
       "    sub-expressions: \n",
       "33. 2 * pi * i * 2^{-(-t + 1)} * phase\n",
       "    core type: Operation\n",
       "    operator: 34\n",
       "    operands: 35\n",
       "34. *\n",
       "    core type: Literal\n",
       "    sub-expressions: \n",
       "35. (2, pi, i, 2^{-(-t + 1)}, phase)\n",
       "    core type: ExprTuple\n",
       "    sub-expressions: 42, 36, 37, 38, 39\n",
       "36. pi\n",
       "    core type: Literal\n",
       "    sub-expressions: \n",
       "37. i\n",
       "    core type: Literal\n",
       "    sub-expressions: \n",
       "38. 2^{-(-t + 1)}\n",
       "    core type: Operation\n",
       "    operator: 40\n",
       "    operands: 41\n",
       "39. phase\n",
       "    core type: Literal\n",
       "    sub-expressions: \n",
       "40. Exp\n",
       "    core type: Literal\n",
       "    sub-expressions: \n",
       "41. (2, -(-t + 1))\n",
       "    core type: ExprTuple\n",
       "    sub-expressions: 42, 43\n",
       "42. 2\n",
       "    core type: Literal\n",
       "    sub-expressions: \n",
       "43. -(-t + 1)\n",
       "    core type: Operation\n",
       "    operator: 50\n",
       "    operand: 45\n",
       "44. (-t + 1)\n",
       "    core type: ExprTuple\n",
       "    sub-expressions: 45\n",
       "45. -t + 1\n",
       "    core type: Operation\n",
       "    operator: 46\n",
       "    operands: 47\n",
       "46. +\n",
       "    core type: Literal\n",
       "    sub-expressions: \n",
       "47. (-t, 1)\n",
       "    core type: ExprTuple\n",
       "    sub-expressions: 48, 49\n",
       "48. -t\n",
       "    core type: Operation\n",
       "    operator: 50\n",
       "    operand: 52\n",
       "49. 1\n",
       "    core type: Literal\n",
       "    sub-expressions: \n",
       "50. -\n",
       "    core type: Literal\n",
       "    sub-expressions: \n",
       "51. (t)\n",
       "    core type: ExprTuple\n",
       "    sub-expressions: 52\n",
       "52. t\n",
       "    core type: Variable\n",
       "    sub-expressions: "
      ]
     },
     "metadata": {},
     "output_type": "display_data"
    }
   ],
   "source": [
    "# display the expression information\n",
    "stored_expr.expr_info()"
   ]
  },
  {
   "cell_type": "code",
   "execution_count": null,
   "metadata": {},
   "outputs": [],
   "source": []
  }
 ],
 "metadata": {
  "kernelspec": {
   "display_name": "Python 3",
   "language": "python",
   "name": "python3"
  }
 },
 "nbformat": 4,
 "nbformat_minor": 0
}