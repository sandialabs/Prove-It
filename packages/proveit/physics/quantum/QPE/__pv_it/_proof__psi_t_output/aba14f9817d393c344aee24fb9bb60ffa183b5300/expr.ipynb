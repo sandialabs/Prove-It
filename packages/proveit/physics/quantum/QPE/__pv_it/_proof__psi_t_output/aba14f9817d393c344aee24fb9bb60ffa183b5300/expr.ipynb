{
 "cells": [
  {
   "cell_type": "markdown",
   "metadata": {},
   "source": [
    "Expression of type <a class=\"ProveItLink\" href=\"../../../../../../../../doc/html/api/proveit.logic.InSet.html\">InSet</a>\n",
    "=======================\n",
    "# from the theory of <a class=\"ProveItLink\" href=\"../../../_theory_nbs_/theory.ipynb\">proveit.physics.quantum.QPE</a>"
   ]
  },
  {
   "cell_type": "code",
   "execution_count": 1,
   "metadata": {},
   "outputs": [],
   "source": [
    "import proveit\n",
    "# Automation is not needed when building an expression:\n",
    "proveit.defaults.automation = False # This will speed things up.\n",
    "proveit.defaults.inline_pngs = False # Makes files smaller.\n",
    "%load_expr # Load the stored expression as 'stored_expr'\n",
    "# import Expression classes needed to build the expression\n",
    "from proveit import Variable\n",
    "from proveit.linear_algebra import MatrixExp, Unitary\n",
    "from proveit.logic import InSet\n",
    "from proveit.numbers import Exp, Neg, two\n",
    "from proveit.physics.quantum.QPE import _U, _s"
   ]
  },
  {
   "cell_type": "code",
   "execution_count": 2,
   "metadata": {},
   "outputs": [
    {
     "data": {
      "text/html": [
       "<strong id=\"expr\">expr:</strong> <a class=\"ProveItLink\" href=\"expr.ipynb\"><img src=\"expr.png\" style=\"display:inline;vertical-align:middle;\" /></a><br>"
      ],
      "text/plain": [
       "<IPython.core.display.HTML object>"
      ]
     },
     "metadata": {},
     "output_type": "display_data"
    }
   ],
   "source": [
    "# build up the expression from sub-expressions\n",
    "expr = InSet(MatrixExp(_U, Exp(two, Neg(Variable(\"_a\", latex_format = r\"{_{-}a}\")))), Unitary(Exp(two, _s)))"
   ]
  },
  {
   "cell_type": "code",
   "execution_count": 3,
   "metadata": {},
   "outputs": [
    {
     "name": "stdout",
     "output_type": "stream",
     "text": [
      "Passed sanity check: expr matches stored_expr\n"
     ]
    }
   ],
   "source": [
    "# check that the built expression is the same as the stored expression\n",
    "assert expr == stored_expr\n",
    "assert expr._style_id == stored_expr._style_id\n",
    "print(\"Passed sanity check: expr matches stored_expr\")"
   ]
  },
  {
   "cell_type": "code",
   "execution_count": 4,
   "metadata": {},
   "outputs": [
    {
     "name": "stdout",
     "output_type": "stream",
     "text": [
      "U^{2^{-{_{-}a}}} \\in \\textrm{U}\\left(2^{s}\\right)\n"
     ]
    }
   ],
   "source": [
    "# Show the LaTeX representation of the expression for convenience if you need it.\n",
    "print(stored_expr.latex())"
   ]
  },
  {
   "cell_type": "code",
   "execution_count": 5,
   "metadata": {},
   "outputs": [
    {
     "data": {
      "text/html": [
       "<table>\n",
       "<tr><th>name</th><th>description</th><th>default</th><th>current value</th><th>related methods</th></tr><tr><td>operation</td><td>'infix' or 'function' style formatting</td><td>infix</td><td>infix</td><td></td></tr>\n",
       "<tr><td>wrap_positions</td><td>position(s) at which wrapping is to occur; '2 n - 1' is after the nth operand, '2 n' is after the nth operation.</td><td>()</td><td>()</td><td>('with_wrapping_at', 'with_wrap_before_operator', 'with_wrap_after_operator', 'without_wrapping', 'wrap_positions')</td></tr>\n",
       "<tr><td>justification</td><td>if any wrap positions are set, justify to the 'left', 'center', or 'right'</td><td>center</td><td>center</td><td>('with_justification',)</td></tr>\n",
       "<tr><td>direction</td><td>Direction of the relation (normal or reversed)</td><td>normal</td><td>normal</td><td>('with_direction_reversed', 'is_reversed')</td></tr>\n",
       "</table>\n"
      ],
      "text/plain": [
       "style name: operation\n",
       "description: 'infix' or 'function' style formatting\n",
       "default: infix\n",
       "current value: infix\n",
       "related methods: ()\n",
       "style name: wrap_positions\n",
       "description: position(s) at which wrapping is to occur; '2 n - 1' is after the nth operand, '2 n' is after the nth operation.\n",
       "default: ()\n",
       "current value: ()\n",
       "related methods: ('with_wrapping_at', 'with_wrap_before_operator', 'with_wrap_after_operator', 'without_wrapping', 'wrap_positions')\n",
       "style name: justification\n",
       "description: if any wrap positions are set, justify to the 'left', 'center', or 'right'\n",
       "default: center\n",
       "current value: center\n",
       "related methods: ('with_justification',)\n",
       "style name: direction\n",
       "description: Direction of the relation (normal or reversed)\n",
       "default: normal\n",
       "current value: normal\n",
       "related methods: ('with_direction_reversed', 'is_reversed')"
      ]
     },
     "metadata": {},
     "output_type": "display_data"
    }
   ],
   "source": [
    "stored_expr.style_options()"
   ]
  },
  {
   "cell_type": "code",
   "execution_count": 6,
   "metadata": {},
   "outputs": [
    {
     "data": {
      "text/html": [
       "<table><tr><th>&nbsp;</th><th>core type</th><th>sub-expressions</th><th>expression</th></tr>\n",
       "<tr><td>0</td><td>Operation</td><td>operator:&nbsp;1<br>operands:&nbsp;2<br></td><td><a class=\"ProveItLink\" href=\"expr.ipynb\"><img src=\"expr.png\" style=\"display:inline;vertical-align:middle;\" /></a></td></tr>\n",
       "<tr><td>1</td><td>Literal</td><td></td><td><a class=\"ProveItLink\" href=\"../../../../../../logic/sets/membership/__pv_it/common/477487d8796864d23d5810f83761435f25167f690/expr.ipynb\"><img src=\"../../../../../../logic/sets/membership/__pv_it/common/477487d8796864d23d5810f83761435f25167f690/expr.png\" style=\"display:inline;vertical-align:middle;\" /></a></td></tr>\n",
       "<tr><td>2</td><td>ExprTuple</td><td>3, 4</td><td><a class=\"ProveItLink\" href=\"../0ced9e1ad1701ed16ce1663034cc11da1a5245380/expr.ipynb\"><img src=\"../0ced9e1ad1701ed16ce1663034cc11da1a5245380/expr.png\" style=\"display:inline;vertical-align:middle;\" /></a></td></tr>\n",
       "<tr><td>3</td><td>Operation</td><td>operator:&nbsp;5<br>operands:&nbsp;6<br></td><td><a class=\"ProveItLink\" href=\"../09024234aa785a5a9ff574a1cc16be2b4a85eca60/expr.ipynb\"><img src=\"../09024234aa785a5a9ff574a1cc16be2b4a85eca60/expr.png\" style=\"display:inline;vertical-align:middle;\" /></a></td></tr>\n",
       "<tr><td>4</td><td>Operation</td><td>operator:&nbsp;7<br>operand:&nbsp;11<br></td><td><a class=\"ProveItLink\" href=\"../../axioms/62599c18d4e779d034293dd9ab1784278777f3f40/expr.ipynb\"><img src=\"../../axioms/62599c18d4e779d034293dd9ab1784278777f3f40/expr.png\" style=\"display:inline;vertical-align:middle;\" /></a></td></tr>\n",
       "<tr><td>5</td><td>Literal</td><td></td><td><a class=\"ProveItLink\" href=\"../../../../../../linear_algebra/matrices/exponentiation/__pv_it/common/7d2841d26e131e75e1bb8532fff3e362feab15050/expr.ipynb\"><img src=\"../../../../../../linear_algebra/matrices/exponentiation/__pv_it/common/7d2841d26e131e75e1bb8532fff3e362feab15050/expr.png\" style=\"display:inline;vertical-align:middle;\" /></a></td></tr>\n",
       "<tr><td>6</td><td>ExprTuple</td><td>9, 10</td><td><a class=\"ProveItLink\" href=\"../3758b4aec2f00235e5e58191ba028fcd9d73fbf20/expr.ipynb\"><img src=\"../3758b4aec2f00235e5e58191ba028fcd9d73fbf20/expr.png\" style=\"display:inline;vertical-align:middle;\" /></a></td></tr>\n",
       "<tr><td>7</td><td>Literal</td><td></td><td><a class=\"ProveItLink\" href=\"../../../../../../linear_algebra/matrices/__pv_it/common/4ef8603cb69b80b124ebf92d970050986c8869e80/expr.ipynb\"><img src=\"../../../../../../linear_algebra/matrices/__pv_it/common/4ef8603cb69b80b124ebf92d970050986c8869e80/expr.png\" style=\"display:inline;vertical-align:middle;\" /></a></td></tr>\n",
       "<tr><td>8</td><td>ExprTuple</td><td>11</td><td><a class=\"ProveItLink\" href=\"../../axioms/467b49f0e350013186cc8f8bbb28aee2120d4bfb0/expr.ipynb\"><img src=\"../../axioms/467b49f0e350013186cc8f8bbb28aee2120d4bfb0/expr.png\" style=\"display:inline;vertical-align:middle;\" /></a></td></tr>\n",
       "<tr><td>9</td><td>Literal</td><td></td><td><a class=\"ProveItLink\" href=\"../../common/977758a9490d187b2ff100fdbc53911d78995da80/expr.ipynb\"><img src=\"../../common/977758a9490d187b2ff100fdbc53911d78995da80/expr.png\" style=\"display:inline;vertical-align:middle;\" /></a></td></tr>\n",
       "<tr><td>10</td><td>Operation</td><td>operator:&nbsp;13<br>operands:&nbsp;12<br></td><td><a class=\"ProveItLink\" href=\"../../axioms/6aaefb11a48ef527fac0302200ab58525f3e08470/expr.ipynb\"><img src=\"../../axioms/6aaefb11a48ef527fac0302200ab58525f3e08470/expr.png\" style=\"display:inline;vertical-align:middle;\" /></a></td></tr>\n",
       "<tr><td>11</td><td>Operation</td><td>operator:&nbsp;13<br>operands:&nbsp;14<br></td><td><a class=\"ProveItLink\" href=\"../../axioms/725a8ce730231784092c2149de4193c3a267bd810/expr.ipynb\"><img src=\"../../axioms/725a8ce730231784092c2149de4193c3a267bd810/expr.png\" style=\"display:inline;vertical-align:middle;\" /></a></td></tr>\n",
       "<tr><td>12</td><td>ExprTuple</td><td>16, 15</td><td><a class=\"ProveItLink\" href=\"../../axioms/b3655b5a38beb570d991cd84bc6e56af2b1e13b10/expr.ipynb\"><img src=\"../../axioms/b3655b5a38beb570d991cd84bc6e56af2b1e13b10/expr.png\" style=\"display:inline;vertical-align:middle;\" /></a></td></tr>\n",
       "<tr><td>13</td><td>Literal</td><td></td><td><a class=\"ProveItLink\" href=\"../../../../../../numbers/exponentiation/__pv_it/common/0ac37aca1e54c35c5cda09672df32d4f69f1f3020/expr.ipynb\"><img src=\"../../../../../../numbers/exponentiation/__pv_it/common/0ac37aca1e54c35c5cda09672df32d4f69f1f3020/expr.png\" style=\"display:inline;vertical-align:middle;\" /></a></td></tr>\n",
       "<tr><td>14</td><td>ExprTuple</td><td>16, 17</td><td><a class=\"ProveItLink\" href=\"../../axioms/ae8484ce70123c147f61ba777867aa403aa350fb0/expr.ipynb\"><img src=\"../../axioms/ae8484ce70123c147f61ba777867aa403aa350fb0/expr.png\" style=\"display:inline;vertical-align:middle;\" /></a></td></tr>\n",
       "<tr><td>15</td><td>Operation</td><td>operator:&nbsp;18<br>operand:&nbsp;20<br></td><td><a class=\"ProveItLink\" href=\"../../axioms/c5fcfcf5e2b9e5cd64c6510e278a376a70a576380/expr.ipynb\"><img src=\"../../axioms/c5fcfcf5e2b9e5cd64c6510e278a376a70a576380/expr.png\" style=\"display:inline;vertical-align:middle;\" /></a></td></tr>\n",
       "<tr><td>16</td><td>Literal</td><td></td><td><a class=\"ProveItLink\" href=\"../../../../../../numbers/numerals/__pv_it/common/af4aab8a07465db063742696e006d04670f30cf10/expr.ipynb\"><img src=\"../../../../../../numbers/numerals/__pv_it/common/af4aab8a07465db063742696e006d04670f30cf10/expr.png\" style=\"display:inline;vertical-align:middle;\" /></a></td></tr>\n",
       "<tr><td>17</td><td>Literal</td><td></td><td><a class=\"ProveItLink\" href=\"../../common/8a1628c4cfc7b78e5c5de183ba3f5cff0b20d4dd0/expr.ipynb\"><img src=\"../../common/8a1628c4cfc7b78e5c5de183ba3f5cff0b20d4dd0/expr.png\" style=\"display:inline;vertical-align:middle;\" /></a></td></tr>\n",
       "<tr><td>18</td><td>Literal</td><td></td><td><a class=\"ProveItLink\" href=\"../../../../../../numbers/negation/__pv_it/common/221b3c4d1770ee9051b7c044c3f9ec61196fc34b0/expr.ipynb\"><img src=\"../../../../../../numbers/negation/__pv_it/common/221b3c4d1770ee9051b7c044c3f9ec61196fc34b0/expr.png\" style=\"display:inline;vertical-align:middle;\" /></a></td></tr>\n",
       "<tr><td>19</td><td>ExprTuple</td><td>20</td><td><a class=\"ProveItLink\" href=\"../../common/4b0dd6be36d76552eda6a95d5b4a27f5a5b62f900/expr.ipynb\"><img src=\"../../common/4b0dd6be36d76552eda6a95d5b4a27f5a5b62f900/expr.png\" style=\"display:inline;vertical-align:middle;\" /></a></td></tr>\n",
       "<tr><td>20</td><td>Variable</td><td></td><td><a class=\"ProveItLink\" href=\"../../common/006c465e50948aa2b52285e2de47974f741255cc0/expr.ipynb\"><img src=\"../../common/006c465e50948aa2b52285e2de47974f741255cc0/expr.png\" style=\"display:inline;vertical-align:middle;\" /></a></td></tr>\n",
       "</table>\n"
      ],
      "text/plain": [
       "0. U^{2^{-_a}} in U(2^{s})\n",
       "   core type: Operation\n",
       "   operator: 1\n",
       "   operands: 2\n",
       "1. in\n",
       "   core type: Literal\n",
       "   sub-expressions: \n",
       "2. (U^{2^{-_a}}, U(2^{s}))\n",
       "   core type: ExprTuple\n",
       "   sub-expressions: 3, 4\n",
       "3. U^{2^{-_a}}\n",
       "   core type: Operation\n",
       "   operator: 5\n",
       "   operands: 6\n",
       "4. U(2^{s})\n",
       "   core type: Operation\n",
       "   operator: 7\n",
       "   operand: 11\n",
       "5. ExpM\n",
       "   core type: Literal\n",
       "   sub-expressions: \n",
       "6. (U, 2^{-_a})\n",
       "   core type: ExprTuple\n",
       "   sub-expressions: 9, 10\n",
       "7. U\n",
       "   core type: Literal\n",
       "   sub-expressions: \n",
       "8. (2^{s})\n",
       "   core type: ExprTuple\n",
       "   sub-expressions: 11\n",
       "9. U\n",
       "   core type: Literal\n",
       "   sub-expressions: \n",
       "10. 2^{-_a}\n",
       "    core type: Operation\n",
       "    operator: 13\n",
       "    operands: 12\n",
       "11. 2^{s}\n",
       "    core type: Operation\n",
       "    operator: 13\n",
       "    operands: 14\n",
       "12. (2, -_a)\n",
       "    core type: ExprTuple\n",
       "    sub-expressions: 16, 15\n",
       "13. Exp\n",
       "    core type: Literal\n",
       "    sub-expressions: \n",
       "14. (2, s)\n",
       "    core type: ExprTuple\n",
       "    sub-expressions: 16, 17\n",
       "15. -_a\n",
       "    core type: Operation\n",
       "    operator: 18\n",
       "    operand: 20\n",
       "16. 2\n",
       "    core type: Literal\n",
       "    sub-expressions: \n",
       "17. s\n",
       "    core type: Literal\n",
       "    sub-expressions: \n",
       "18. -\n",
       "    core type: Literal\n",
       "    sub-expressions: \n",
       "19. (_a)\n",
       "    core type: ExprTuple\n",
       "    sub-expressions: 20\n",
       "20. _a\n",
       "    core type: Variable\n",
       "    sub-expressions: "
      ]
     },
     "metadata": {},
     "output_type": "display_data"
    }
   ],
   "source": [
    "# display the expression information\n",
    "stored_expr.expr_info()"
   ]
  },
  {
   "cell_type": "code",
   "execution_count": null,
   "metadata": {},
   "outputs": [],
   "source": []
  }
 ],
 "metadata": {
  "kernelspec": {
   "display_name": "Python 3",
   "language": "python",
   "name": "python3"
  }
 },
 "nbformat": 4,
 "nbformat_minor": 0
}