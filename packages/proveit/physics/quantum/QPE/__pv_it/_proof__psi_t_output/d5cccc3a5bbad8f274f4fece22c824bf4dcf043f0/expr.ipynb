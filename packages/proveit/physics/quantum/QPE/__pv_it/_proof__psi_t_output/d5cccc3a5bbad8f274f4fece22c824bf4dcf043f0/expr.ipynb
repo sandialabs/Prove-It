{
 "cells": [
  {
   "cell_type": "markdown",
   "metadata": {},
   "source": [
    "Expression of type <a class=\"ProveItLink\" href=\"../../../../../../../../doc/html/api/proveit.logic.Implies.html\">Implies</a>\n",
    "=======================\n",
    "# from the theory of <a class=\"ProveItLink\" href=\"../../../_theory_nbs_/theory.ipynb\">proveit.physics.quantum.QPE</a>"
   ]
  },
  {
   "cell_type": "code",
   "execution_count": 1,
   "metadata": {},
   "outputs": [],
   "source": [
    "import proveit\n",
    "# Automation is not needed when building an expression:\n",
    "proveit.defaults.automation = False # This will speed things up.\n",
    "proveit.defaults.inline_pngs = False # Makes files smaller.\n",
    "%load_expr # Load the stored expression as 'stored_expr'\n",
    "# import Expression classes needed to build the expression\n",
    "from proveit import ExprRange, Variable, t\n",
    "from proveit.logic import Equals, Forall, Implies\n",
    "from proveit.numbers import Add, Interval, Neg, one"
   ]
  },
  {
   "cell_type": "code",
   "execution_count": 2,
   "metadata": {},
   "outputs": [
    {
     "data": {
      "text/html": [
       "<strong id=\"expr\">expr:</strong> <a class=\"ProveItLink\" href=\"expr.ipynb\"><img src=\"expr.png\" style=\"display:inline;vertical-align:middle;\" /></a><br>"
      ],
      "text/plain": [
       "<IPython.core.display.HTML object>"
      ]
     },
     "metadata": {},
     "output_type": "display_data"
    }
   ],
   "source": [
    "# build up the expression from sub-expressions\n",
    "sub_expr1 = Variable(\"_a\", latex_format = r\"{_{-}a}\")\n",
    "sub_expr2 = Add(Add(sub_expr1, Add(Neg(t), one)), Neg(one), t)\n",
    "expr = Implies(Forall(instance_param_or_params = [sub_expr1], instance_expr = Equals(sub_expr2, sub_expr1), domain = Interval(one, t)), Equals([ExprRange(sub_expr1, sub_expr2, one, t)], [ExprRange(sub_expr1, sub_expr1, one, t)]))"
   ]
  },
  {
   "cell_type": "code",
   "execution_count": 3,
   "metadata": {},
   "outputs": [
    {
     "name": "stdout",
     "output_type": "stream",
     "text": [
      "Passed sanity check: expr matches stored_expr\n"
     ]
    }
   ],
   "source": [
    "# check that the built expression is the same as the stored expression\n",
    "assert expr == stored_expr\n",
    "assert expr._style_id == stored_expr._style_id\n",
    "print(\"Passed sanity check: expr matches stored_expr\")"
   ]
  },
  {
   "cell_type": "code",
   "execution_count": 4,
   "metadata": {},
   "outputs": [
    {
     "name": "stdout",
     "output_type": "stream",
     "text": [
      "\\left[\\forall_{{_{-}a} \\in \\{1~\\ldotp \\ldotp~t\\}}~\\left(\\left(\\left({_{-}a} + \\left(-t + 1\\right)\\right) - 1 + t\\right) = {_{-}a}\\right)\\right] \\Rightarrow \\left(\\left(\\left(\\left(1 + \\left(-t + 1\\right)\\right) - 1 + t\\right), \\left(\\left(2 + \\left(-t + 1\\right)\\right) - 1 + t\\right), \\ldots, \\left(\\left(t + \\left(-t + 1\\right)\\right) - 1 + t\\right)\\right) = \\left(1, 2, \\ldots, t\\right)\\right)\n"
     ]
    }
   ],
   "source": [
    "# Show the LaTeX representation of the expression for convenience if you need it.\n",
    "print(stored_expr.latex())"
   ]
  },
  {
   "cell_type": "code",
   "execution_count": 5,
   "metadata": {},
   "outputs": [
    {
     "data": {
      "text/html": [
       "<table>\n",
       "<tr><th>name</th><th>description</th><th>default</th><th>current value</th><th>related methods</th></tr><tr><td>operation</td><td>'infix' or 'function' style formatting</td><td>infix</td><td>infix</td><td></td></tr>\n",
       "<tr><td>wrap_positions</td><td>position(s) at which wrapping is to occur; '2 n - 1' is after the nth operand, '2 n' is after the nth operation.</td><td>()</td><td>()</td><td>('with_wrapping_at', 'with_wrap_before_operator', 'with_wrap_after_operator', 'without_wrapping', 'wrap_positions')</td></tr>\n",
       "<tr><td>justification</td><td>if any wrap positions are set, justify to the 'left', 'center', or 'right'</td><td>center</td><td>center</td><td>('with_justification',)</td></tr>\n",
       "<tr><td>direction</td><td>Direction of the relation (normal or reversed)</td><td>normal</td><td>normal</td><td>('with_direction_reversed', 'is_reversed')</td></tr>\n",
       "</table>\n"
      ],
      "text/plain": [
       "style name: operation\n",
       "description: 'infix' or 'function' style formatting\n",
       "default: infix\n",
       "current value: infix\n",
       "related methods: ()\n",
       "style name: wrap_positions\n",
       "description: position(s) at which wrapping is to occur; '2 n - 1' is after the nth operand, '2 n' is after the nth operation.\n",
       "default: ()\n",
       "current value: ()\n",
       "related methods: ('with_wrapping_at', 'with_wrap_before_operator', 'with_wrap_after_operator', 'without_wrapping', 'wrap_positions')\n",
       "style name: justification\n",
       "description: if any wrap positions are set, justify to the 'left', 'center', or 'right'\n",
       "default: center\n",
       "current value: center\n",
       "related methods: ('with_justification',)\n",
       "style name: direction\n",
       "description: Direction of the relation (normal or reversed)\n",
       "default: normal\n",
       "current value: normal\n",
       "related methods: ('with_direction_reversed', 'is_reversed')"
      ]
     },
     "metadata": {},
     "output_type": "display_data"
    }
   ],
   "source": [
    "stored_expr.style_options()"
   ]
  },
  {
   "cell_type": "code",
   "execution_count": 6,
   "metadata": {},
   "outputs": [
    {
     "data": {
      "text/html": [
       "<table><tr><th>&nbsp;</th><th>core type</th><th>sub-expressions</th><th>expression</th></tr>\n",
       "<tr><td>0</td><td>Operation</td><td>operator:&nbsp;1<br>operands:&nbsp;2<br></td><td><a class=\"ProveItLink\" href=\"expr.ipynb\"><img src=\"expr.png\" style=\"display:inline;vertical-align:middle;\" /></a></td></tr>\n",
       "<tr><td>1</td><td>Literal</td><td></td><td><a class=\"ProveItLink\" href=\"../../../../../../logic/booleans/implication/__pv_it/common/02bdb382575728da8cdbaed545b9096ea7a1bd5b0/expr.ipynb\"><img src=\"../../../../../../logic/booleans/implication/__pv_it/common/02bdb382575728da8cdbaed545b9096ea7a1bd5b0/expr.png\" style=\"display:inline;vertical-align:middle;\" /></a></td></tr>\n",
       "<tr><td>2</td><td>ExprTuple</td><td>3, 4</td><td><a class=\"ProveItLink\" href=\"../0c5a7eed3c884abd6cd7cc18e3ea2fc7bb8812fd0/expr.ipynb\"><img src=\"../0c5a7eed3c884abd6cd7cc18e3ea2fc7bb8812fd0/expr.png\" style=\"display:inline;vertical-align:middle;\" /></a></td></tr>\n",
       "<tr><td>3</td><td>Operation</td><td>operator:&nbsp;5<br>operand:&nbsp;8<br></td><td><a class=\"ProveItLink\" href=\"../15f56d9af5583fbc8c69cf7c6267d857e3a909400/expr.ipynb\"><img src=\"../15f56d9af5583fbc8c69cf7c6267d857e3a909400/expr.png\" style=\"display:inline;vertical-align:middle;\" /></a></td></tr>\n",
       "<tr><td>4</td><td>Operation</td><td>operator:&nbsp;18<br>operands:&nbsp;7<br></td><td><a class=\"ProveItLink\" href=\"../e29e2c06d5d7f50f29ee27a3c00209af737db6a00/expr.ipynb\"><img src=\"../e29e2c06d5d7f50f29ee27a3c00209af737db6a00/expr.png\" style=\"display:inline;vertical-align:middle;\" /></a></td></tr>\n",
       "<tr><td>5</td><td>Literal</td><td></td><td><a class=\"ProveItLink\" href=\"../../../../../../logic/booleans/quantification/universality/__pv_it/common/083d2baa0b8ecab1d230f9ec29a15aa1355809fb0/expr.ipynb\"><img src=\"../../../../../../logic/booleans/quantification/universality/__pv_it/common/083d2baa0b8ecab1d230f9ec29a15aa1355809fb0/expr.png\" style=\"display:inline;vertical-align:middle;\" /></a></td></tr>\n",
       "<tr><td>6</td><td>ExprTuple</td><td>8</td><td><a class=\"ProveItLink\" href=\"../0ba48f90960d2118d74e9f58efbc81785b258e000/expr.ipynb\"><img src=\"../0ba48f90960d2118d74e9f58efbc81785b258e000/expr.png\" style=\"display:inline;vertical-align:middle;\" /></a></td></tr>\n",
       "<tr><td>7</td><td>ExprTuple</td><td>9, 10</td><td><a class=\"ProveItLink\" href=\"../ad80a0f11f6b11cb76e2b642c15f931242febeb80/expr.ipynb\"><img src=\"../ad80a0f11f6b11cb76e2b642c15f931242febeb80/expr.png\" style=\"display:inline;vertical-align:middle;\" /></a></td></tr>\n",
       "<tr><td>8</td><td>Lambda</td><td>parameter:&nbsp;32<br>body:&nbsp;11<br></td><td><a class=\"ProveItLink\" href=\"../2618c07ed637cac4abe2347754be8dc15f5596f80/expr.ipynb\"><img src=\"../2618c07ed637cac4abe2347754be8dc15f5596f80/expr.png\" style=\"display:inline;vertical-align:middle;\" /></a></td></tr>\n",
       "<tr><td>9</td><td>ExprTuple</td><td>12</td><td><a class=\"ProveItLink\" href=\"../336a060e1003c2337776cdccdd7f750bc60b46f40/expr.ipynb\"><img src=\"../336a060e1003c2337776cdccdd7f750bc60b46f40/expr.png\" style=\"display:inline;vertical-align:middle;\" /></a></td></tr>\n",
       "<tr><td>10</td><td>ExprTuple</td><td>13</td><td><a class=\"ProveItLink\" href=\"../eaddae9a1fa96c5b225c43afe2222d4bfa597b1b0/expr.ipynb\"><img src=\"../eaddae9a1fa96c5b225c43afe2222d4bfa597b1b0/expr.png\" style=\"display:inline;vertical-align:middle;\" /></a></td></tr>\n",
       "<tr><td>11</td><td>Conditional</td><td>value:&nbsp;14<br>condition:&nbsp;15<br></td><td><a class=\"ProveItLink\" href=\"../8961c5da87d1cb7cdb4bdf34491d557f12c434720/expr.ipynb\"><img src=\"../8961c5da87d1cb7cdb4bdf34491d557f12c434720/expr.png\" style=\"display:inline;vertical-align:middle;\" /></a></td></tr>\n",
       "<tr><td>12</td><td>ExprRange</td><td>lambda_map:&nbsp;16<br>start_index:&nbsp;37<br>end_index:&nbsp;40<br></td><td><a class=\"ProveItLink\" href=\"../b268066e62fd33f68d69ef515887636d9100d2b90/expr.ipynb\"><img src=\"../b268066e62fd33f68d69ef515887636d9100d2b90/expr.png\" style=\"display:inline;vertical-align:middle;\" /></a></td></tr>\n",
       "<tr><td>13</td><td>ExprRange</td><td>lambda_map:&nbsp;17<br>start_index:&nbsp;37<br>end_index:&nbsp;40<br></td><td><a class=\"ProveItLink\" href=\"../d76c04350d14624c63c4afe7978d0965c10f81b50/expr.ipynb\"><img src=\"../d76c04350d14624c63c4afe7978d0965c10f81b50/expr.png\" style=\"display:inline;vertical-align:middle;\" /></a></td></tr>\n",
       "<tr><td>14</td><td>Operation</td><td>operator:&nbsp;18<br>operands:&nbsp;19<br></td><td><a class=\"ProveItLink\" href=\"../30b734db4bf55224c2771ccafca60f74fa7346f80/expr.ipynb\"><img src=\"../30b734db4bf55224c2771ccafca60f74fa7346f80/expr.png\" style=\"display:inline;vertical-align:middle;\" /></a></td></tr>\n",
       "<tr><td>15</td><td>Operation</td><td>operator:&nbsp;20<br>operands:&nbsp;21<br></td><td><a class=\"ProveItLink\" href=\"../5bb221fe8e54c3af3bce65373760bcdda79672010/expr.ipynb\"><img src=\"../5bb221fe8e54c3af3bce65373760bcdda79672010/expr.png\" style=\"display:inline;vertical-align:middle;\" /></a></td></tr>\n",
       "<tr><td>16</td><td>Lambda</td><td>parameter:&nbsp;32<br>body:&nbsp;23<br></td><td><a class=\"ProveItLink\" href=\"../66c542383c74277162e0e55e0d508638edc7b6180/expr.ipynb\"><img src=\"../66c542383c74277162e0e55e0d508638edc7b6180/expr.png\" style=\"display:inline;vertical-align:middle;\" /></a></td></tr>\n",
       "<tr><td>17</td><td>Lambda</td><td>parameter:&nbsp;32<br>body:&nbsp;32<br></td><td><a class=\"ProveItLink\" href=\"../../../../../../core_expr_types/__pv_it/common/90e08240ada6ff34ada724205d9cb9b31f4aecbd0/expr.ipynb\"><img src=\"../../../../../../core_expr_types/__pv_it/common/90e08240ada6ff34ada724205d9cb9b31f4aecbd0/expr.png\" style=\"display:inline;vertical-align:middle;\" /></a></td></tr>\n",
       "<tr><td>18</td><td>Literal</td><td></td><td><a class=\"ProveItLink\" href=\"../../../../../../logic/equality/__pv_it/common/fb96dc12b2aa8801dda64d0132b396c63d1502bb0/expr.ipynb\"><img src=\"../../../../../../logic/equality/__pv_it/common/fb96dc12b2aa8801dda64d0132b396c63d1502bb0/expr.png\" style=\"display:inline;vertical-align:middle;\" /></a></td></tr>\n",
       "<tr><td>19</td><td>ExprTuple</td><td>23, 32</td><td><a class=\"ProveItLink\" href=\"../ca7f7528a720546e37ff74b396fc80e1465035da0/expr.ipynb\"><img src=\"../ca7f7528a720546e37ff74b396fc80e1465035da0/expr.png\" style=\"display:inline;vertical-align:middle;\" /></a></td></tr>\n",
       "<tr><td>20</td><td>Literal</td><td></td><td><a class=\"ProveItLink\" href=\"../../../../../../logic/sets/membership/__pv_it/common/477487d8796864d23d5810f83761435f25167f690/expr.ipynb\"><img src=\"../../../../../../logic/sets/membership/__pv_it/common/477487d8796864d23d5810f83761435f25167f690/expr.png\" style=\"display:inline;vertical-align:middle;\" /></a></td></tr>\n",
       "<tr><td>21</td><td>ExprTuple</td><td>32, 24</td><td><a class=\"ProveItLink\" href=\"../5f23f6b022ace85aef64fc61738f3af99c59a8300/expr.ipynb\"><img src=\"../5f23f6b022ace85aef64fc61738f3af99c59a8300/expr.png\" style=\"display:inline;vertical-align:middle;\" /></a></td></tr>\n",
       "<tr><td>22</td><td>ExprTuple</td><td>32</td><td><a class=\"ProveItLink\" href=\"../../../../../../core_expr_types/__pv_it/common/4b0dd6be36d76552eda6a95d5b4a27f5a5b62f900/expr.ipynb\"><img src=\"../../../../../../core_expr_types/__pv_it/common/4b0dd6be36d76552eda6a95d5b4a27f5a5b62f900/expr.png\" style=\"display:inline;vertical-align:middle;\" /></a></td></tr>\n",
       "<tr><td>23</td><td>Operation</td><td>operator:&nbsp;34<br>operands:&nbsp;25<br></td><td><a class=\"ProveItLink\" href=\"../f4cad5ed5781e2f48ac05835ca4c1604774c19230/expr.ipynb\"><img src=\"../f4cad5ed5781e2f48ac05835ca4c1604774c19230/expr.png\" style=\"display:inline;vertical-align:middle;\" /></a></td></tr>\n",
       "<tr><td>24</td><td>Operation</td><td>operator:&nbsp;26<br>operands:&nbsp;27<br></td><td><a class=\"ProveItLink\" href=\"../../theorems/08a12fcb33b08df922bd36d37a9586accc63faa10/expr.ipynb\"><img src=\"../../theorems/08a12fcb33b08df922bd36d37a9586accc63faa10/expr.png\" style=\"display:inline;vertical-align:middle;\" /></a></td></tr>\n",
       "<tr><td>25</td><td>ExprTuple</td><td>28, 29, 40</td><td><a class=\"ProveItLink\" href=\"../4d8e6534b5720601da202600d9f75717e76ce6af0/expr.ipynb\"><img src=\"../4d8e6534b5720601da202600d9f75717e76ce6af0/expr.png\" style=\"display:inline;vertical-align:middle;\" /></a></td></tr>\n",
       "<tr><td>26</td><td>Literal</td><td></td><td><a class=\"ProveItLink\" href=\"../../../../../../numbers/number_sets/integers/__pv_it/common/92f3a0a77e3c3ea8e4a5c8674edadc54e4f57d550/expr.ipynb\"><img src=\"../../../../../../numbers/number_sets/integers/__pv_it/common/92f3a0a77e3c3ea8e4a5c8674edadc54e4f57d550/expr.png\" style=\"display:inline;vertical-align:middle;\" /></a></td></tr>\n",
       "<tr><td>27</td><td>ExprTuple</td><td>37, 40</td><td><a class=\"ProveItLink\" href=\"../../theorems/6aba4f9f6245b2883068173ba3b5ed82d41154100/expr.ipynb\"><img src=\"../../theorems/6aba4f9f6245b2883068173ba3b5ed82d41154100/expr.png\" style=\"display:inline;vertical-align:middle;\" /></a></td></tr>\n",
       "<tr><td>28</td><td>Operation</td><td>operator:&nbsp;34<br>operands:&nbsp;30<br></td><td><a class=\"ProveItLink\" href=\"../d7ae1f704ad3897ba005d417b34f67e951399ae80/expr.ipynb\"><img src=\"../d7ae1f704ad3897ba005d417b34f67e951399ae80/expr.png\" style=\"display:inline;vertical-align:middle;\" /></a></td></tr>\n",
       "<tr><td>29</td><td>Operation</td><td>operator:&nbsp;38<br>operand:&nbsp;37<br></td><td><a class=\"ProveItLink\" href=\"../../../../../../numbers/addition/subtraction/__pv_it/theorems/bf4beda21975fe8a0a5007615b5bcc943da59bb20/expr.ipynb\"><img src=\"../../../../../../numbers/addition/subtraction/__pv_it/theorems/bf4beda21975fe8a0a5007615b5bcc943da59bb20/expr.png\" style=\"display:inline;vertical-align:middle;\" /></a></td></tr>\n",
       "<tr><td>30</td><td>ExprTuple</td><td>32, 33</td><td><a class=\"ProveItLink\" href=\"../a319f1d2ca48b29c2721236b74ad200582b883b20/expr.ipynb\"><img src=\"../a319f1d2ca48b29c2721236b74ad200582b883b20/expr.png\" style=\"display:inline;vertical-align:middle;\" /></a></td></tr>\n",
       "<tr><td>31</td><td>ExprTuple</td><td>37</td><td><a class=\"ProveItLink\" href=\"../../../../../../numbers/addition/subtraction/__pv_it/theorems/b9e4f0dffece176bbe2f36127440684a20e0468e0/expr.ipynb\"><img src=\"../../../../../../numbers/addition/subtraction/__pv_it/theorems/b9e4f0dffece176bbe2f36127440684a20e0468e0/expr.png\" style=\"display:inline;vertical-align:middle;\" /></a></td></tr>\n",
       "<tr><td>32</td><td>Variable</td><td></td><td><a class=\"ProveItLink\" href=\"../../../../../../core_expr_types/__pv_it/common/006c465e50948aa2b52285e2de47974f741255cc0/expr.ipynb\"><img src=\"../../../../../../core_expr_types/__pv_it/common/006c465e50948aa2b52285e2de47974f741255cc0/expr.png\" style=\"display:inline;vertical-align:middle;\" /></a></td></tr>\n",
       "<tr><td>33</td><td>Operation</td><td>operator:&nbsp;34<br>operands:&nbsp;35<br></td><td><a class=\"ProveItLink\" href=\"../../common/a377e33c8fca34123b321baad6051b47dc5d683c0/expr.ipynb\"><img src=\"../../common/a377e33c8fca34123b321baad6051b47dc5d683c0/expr.png\" style=\"display:inline;vertical-align:middle;\" /></a></td></tr>\n",
       "<tr><td>34</td><td>Literal</td><td></td><td><a class=\"ProveItLink\" href=\"../../../../../../numbers/addition/__pv_it/common/4b7effaab3619a1c2c38fe2dee8601df8ec714590/expr.ipynb\"><img src=\"../../../../../../numbers/addition/__pv_it/common/4b7effaab3619a1c2c38fe2dee8601df8ec714590/expr.png\" style=\"display:inline;vertical-align:middle;\" /></a></td></tr>\n",
       "<tr><td>35</td><td>ExprTuple</td><td>36, 37</td><td><a class=\"ProveItLink\" href=\"../../common/8e72b8f917ab0991a456ff8905abf07907bc8a980/expr.ipynb\"><img src=\"../../common/8e72b8f917ab0991a456ff8905abf07907bc8a980/expr.png\" style=\"display:inline;vertical-align:middle;\" /></a></td></tr>\n",
       "<tr><td>36</td><td>Operation</td><td>operator:&nbsp;38<br>operand:&nbsp;40<br></td><td><a class=\"ProveItLink\" href=\"../../common/e0a0e1311f316a159cea49712cb715262ee967450/expr.ipynb\"><img src=\"../../common/e0a0e1311f316a159cea49712cb715262ee967450/expr.png\" style=\"display:inline;vertical-align:middle;\" /></a></td></tr>\n",
       "<tr><td>37</td><td>Literal</td><td></td><td><a class=\"ProveItLink\" href=\"../../../../../../numbers/numerals/__pv_it/common/682157d4892d216d9e5626ed533aff9b56b9506e0/expr.ipynb\"><img src=\"../../../../../../numbers/numerals/__pv_it/common/682157d4892d216d9e5626ed533aff9b56b9506e0/expr.png\" style=\"display:inline;vertical-align:middle;\" /></a></td></tr>\n",
       "<tr><td>38</td><td>Literal</td><td></td><td><a class=\"ProveItLink\" href=\"../../../../../../numbers/negation/__pv_it/common/221b3c4d1770ee9051b7c044c3f9ec61196fc34b0/expr.ipynb\"><img src=\"../../../../../../numbers/negation/__pv_it/common/221b3c4d1770ee9051b7c044c3f9ec61196fc34b0/expr.png\" style=\"display:inline;vertical-align:middle;\" /></a></td></tr>\n",
       "<tr><td>39</td><td>ExprTuple</td><td>40</td><td><a class=\"ProveItLink\" href=\"../../common/04971f5ed986452ec2d9047d1e0d56faa846096b0/expr.ipynb\"><img src=\"../../common/04971f5ed986452ec2d9047d1e0d56faa846096b0/expr.png\" style=\"display:inline;vertical-align:middle;\" /></a></td></tr>\n",
       "<tr><td>40</td><td>Variable</td><td></td><td><a class=\"ProveItLink\" href=\"../../../../../../__pv_it/common/36861eae73a44b53d5b3b017ac6a3a9dae53bfba0/expr.ipynb\"><img src=\"../../../../../../__pv_it/common/36861eae73a44b53d5b3b017ac6a3a9dae53bfba0/expr.png\" style=\"display:inline;vertical-align:middle;\" /></a></td></tr>\n",
       "</table>\n"
      ],
      "text/plain": [
       "0. [forall_{_a in {1 .. t}} (((_a + (-t + 1)) - 1 + t) = _a)] => ((((1 + (-t + 1)) - 1 + t), ((2 + (-t + 1)) - 1 + t), ..., ((t + (-t + 1)) - 1 + t)) = (1, 2, ..., t))\n",
       "   core type: Operation\n",
       "   operator: 1\n",
       "   operands: 2\n",
       "1. =>\n",
       "   core type: Literal\n",
       "   sub-expressions: \n",
       "2. (forall_{_a in {1 .. t}} (((_a + (-t + 1)) - 1 + t) = _a), (((1 + (-t + 1)) - 1 + t), ((2 + (-t + 1)) - 1 + t), ..., ((t + (-t + 1)) - 1 + t)) = (1, 2, ..., t))\n",
       "   core type: ExprTuple\n",
       "   sub-expressions: 3, 4\n",
       "3. forall_{_a in {1 .. t}} (((_a + (-t + 1)) - 1 + t) = _a)\n",
       "   core type: Operation\n",
       "   operator: 5\n",
       "   operand: 8\n",
       "4. (((1 + (-t + 1)) - 1 + t), ((2 + (-t + 1)) - 1 + t), ..., ((t + (-t + 1)) - 1 + t)) = (1, 2, ..., t)\n",
       "   core type: Operation\n",
       "   operator: 18\n",
       "   operands: 7\n",
       "5. forall\n",
       "   core type: Literal\n",
       "   sub-expressions: \n",
       "6. (_a -> {((_a + (-t + 1)) - 1 + t) = _a if _a in {1 .. t}.)\n",
       "   core type: ExprTuple\n",
       "   sub-expressions: 8\n",
       "7. ((((1 + (-t + 1)) - 1 + t), ((2 + (-t + 1)) - 1 + t), ..., ((t + (-t + 1)) - 1 + t)), (1, 2, ..., t))\n",
       "   core type: ExprTuple\n",
       "   sub-expressions: 9, 10\n",
       "8. _a -> {((_a + (-t + 1)) - 1 + t) = _a if _a in {1 .. t}.\n",
       "   core type: Lambda\n",
       "   parameter: 32\n",
       "   body: 11\n",
       "9. (((1 + (-t + 1)) - 1 + t), ((2 + (-t + 1)) - 1 + t), ..., ((t + (-t + 1)) - 1 + t))\n",
       "   core type: ExprTuple\n",
       "   sub-expressions: 12\n",
       "10. (1, 2, ..., t)\n",
       "    core type: ExprTuple\n",
       "    sub-expressions: 13\n",
       "11. {((_a + (-t + 1)) - 1 + t) = _a if _a in {1 .. t}.\n",
       "    core type: Conditional\n",
       "    value: 14\n",
       "    condition: 15\n",
       "12. ((1 + (-t + 1)) - 1 + t), ((2 + (-t + 1)) - 1 + t), ..., ((t + (-t + 1)) - 1 + t)\n",
       "    core type: ExprRange\n",
       "    lambda_map: 16\n",
       "    start_index: 37\n",
       "    end_index: 40\n",
       "13. 1, 2, ..., t\n",
       "    core type: ExprRange\n",
       "    lambda_map: 17\n",
       "    start_index: 37\n",
       "    end_index: 40\n",
       "14. ((_a + (-t + 1)) - 1 + t) = _a\n",
       "    core type: Operation\n",
       "    operator: 18\n",
       "    operands: 19\n",
       "15. _a in {1 .. t}\n",
       "    core type: Operation\n",
       "    operator: 20\n",
       "    operands: 21\n",
       "16. _a -> ((_a + (-t + 1)) - 1 + t)\n",
       "    core type: Lambda\n",
       "    parameter: 32\n",
       "    body: 23\n",
       "17. _a -> _a\n",
       "    core type: Lambda\n",
       "    parameter: 32\n",
       "    body: 32\n",
       "18. =\n",
       "    core type: Literal\n",
       "    sub-expressions: \n",
       "19. ((_a + (-t + 1)) - 1 + t, _a)\n",
       "    core type: ExprTuple\n",
       "    sub-expressions: 23, 32\n",
       "20. in\n",
       "    core type: Literal\n",
       "    sub-expressions: \n",
       "21. (_a, {1 .. t})\n",
       "    core type: ExprTuple\n",
       "    sub-expressions: 32, 24\n",
       "22. (_a)\n",
       "    core type: ExprTuple\n",
       "    sub-expressions: 32\n",
       "23. (_a + (-t + 1)) - 1 + t\n",
       "    core type: Operation\n",
       "    operator: 34\n",
       "    operands: 25\n",
       "24. {1 .. t}\n",
       "    core type: Operation\n",
       "    operator: 26\n",
       "    operands: 27\n",
       "25. (_a + (-t + 1), -1, t)\n",
       "    core type: ExprTuple\n",
       "    sub-expressions: 28, 29, 40\n",
       "26. Interval\n",
       "    core type: Literal\n",
       "    sub-expressions: \n",
       "27. (1, t)\n",
       "    core type: ExprTuple\n",
       "    sub-expressions: 37, 40\n",
       "28. _a + (-t + 1)\n",
       "    core type: Operation\n",
       "    operator: 34\n",
       "    operands: 30\n",
       "29. -1\n",
       "    core type: Operation\n",
       "    operator: 38\n",
       "    operand: 37\n",
       "30. (_a, -t + 1)\n",
       "    core type: ExprTuple\n",
       "    sub-expressions: 32, 33\n",
       "31. (1)\n",
       "    core type: ExprTuple\n",
       "    sub-expressions: 37\n",
       "32. _a\n",
       "    core type: Variable\n",
       "    sub-expressions: \n",
       "33. -t + 1\n",
       "    core type: Operation\n",
       "    operator: 34\n",
       "    operands: 35\n",
       "34. +\n",
       "    core type: Literal\n",
       "    sub-expressions: \n",
       "35. (-t, 1)\n",
       "    core type: ExprTuple\n",
       "    sub-expressions: 36, 37\n",
       "36. -t\n",
       "    core type: Operation\n",
       "    operator: 38\n",
       "    operand: 40\n",
       "37. 1\n",
       "    core type: Literal\n",
       "    sub-expressions: \n",
       "38. -\n",
       "    core type: Literal\n",
       "    sub-expressions: \n",
       "39. (t)\n",
       "    core type: ExprTuple\n",
       "    sub-expressions: 40\n",
       "40. t\n",
       "    core type: Variable\n",
       "    sub-expressions: "
      ]
     },
     "metadata": {},
     "output_type": "display_data"
    }
   ],
   "source": [
    "# display the expression information\n",
    "stored_expr.expr_info()"
   ]
  },
  {
   "cell_type": "code",
   "execution_count": null,
   "metadata": {},
   "outputs": [],
   "source": []
  }
 ],
 "metadata": {
  "kernelspec": {
   "display_name": "Python 3",
   "language": "python",
   "name": "python3"
  }
 },
 "nbformat": 4,
 "nbformat_minor": 0
}