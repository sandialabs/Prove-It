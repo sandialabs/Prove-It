{
 "cells": [
  {
   "cell_type": "markdown",
   "metadata": {},
   "source": [
    "Expression of type <a class=\"ProveItLink\" href=\"../../../../../../../../doc/html/api/proveit.logic.Equals.html\">Equals</a>\n",
    "=======================\n",
    "# from the theory of <a class=\"ProveItLink\" href=\"../../../_theory_nbs_/theory.ipynb\">proveit.physics.quantum.QPE</a>"
   ]
  },
  {
   "cell_type": "code",
   "execution_count": 1,
   "metadata": {},
   "outputs": [],
   "source": [
    "import proveit\n",
    "# Automation is not needed when building an expression:\n",
    "proveit.defaults.automation = False # This will speed things up.\n",
    "proveit.defaults.inline_pngs = False # Makes files smaller.\n",
    "%load_expr # Load the stored expression as 'stored_expr'\n",
    "# import Expression classes needed to build the expression\n",
    "from proveit import ExprRange, Lambda, Variable, t\n",
    "from proveit.core_expr_types import Len\n",
    "from proveit.linear_algebra import TensorProd\n",
    "from proveit.logic import Equals\n",
    "from proveit.numbers import Add, Interval, one, two\n",
    "from proveit.physics.quantum.QPE import _ket_u, _psi_t_ket, _s\n",
    "from proveit.physics.quantum.circuits import MultiQubitElem, Output"
   ]
  },
  {
   "cell_type": "code",
   "execution_count": 2,
   "metadata": {},
   "outputs": [
    {
     "data": {
      "text/html": [
       "<strong id=\"expr\">expr:</strong> <a class=\"ProveItLink\" href=\"expr.ipynb\"><img src=\"expr.png\" style=\"display:inline;vertical-align:middle;\" /></a><br>"
      ],
      "text/plain": [
       "<IPython.core.display.HTML object>"
      ]
     },
     "metadata": {},
     "output_type": "display_data"
    }
   ],
   "source": [
    "# build up the expression from sub-expressions\n",
    "sub_expr1 = Variable(\"_a\", latex_format = r\"{_{-}a}\")\n",
    "sub_expr2 = TensorProd(_psi_t_ket, _ket_u)\n",
    "sub_expr3 = Interval(one, Add(t, _s))\n",
    "expr = Equals(Len(operands = [Lambda(Variable(\"_b\", latex_format = r\"{_{-}b}\"), MultiQubitElem(element = Output(state = sub_expr2, part = one), targets = sub_expr3)), Lambda(sub_expr1, MultiQubitElem(element = Output(state = sub_expr2, part = Add(sub_expr1, t)), targets = sub_expr3))]), Len(operands = [ExprRange(sub_expr1, sub_expr1, one, two)]))"
   ]
  },
  {
   "cell_type": "code",
   "execution_count": 3,
   "metadata": {},
   "outputs": [
    {
     "name": "stdout",
     "output_type": "stream",
     "text": [
      "Passed sanity check: expr matches stored_expr\n"
     ]
    }
   ],
   "source": [
    "# check that the built expression is the same as the stored expression\n",
    "assert expr == stored_expr\n",
    "assert expr._style_id == stored_expr._style_id\n",
    "print(\"Passed sanity check: expr matches stored_expr\")"
   ]
  },
  {
   "cell_type": "code",
   "execution_count": 4,
   "metadata": {},
   "outputs": [
    {
     "name": "stdout",
     "output_type": "stream",
     "text": [
      "|\\left({_{-}b} \\mapsto \\begin{array}{c} \\Qcircuit@C=1em @R=.7em{\n",
      "& & \\qout{\\lvert \\psi_{t} \\rangle {\\otimes} \\lvert u \\rangle~\\mbox{part}~1~\\mbox{on}~\\{1~\\ldotp \\ldotp~t + s\\}} \n",
      "} \\end{array}, {_{-}a} \\mapsto \\begin{array}{c} \\Qcircuit@C=1em @R=.7em{\n",
      "& & \\qout{\\lvert \\psi_{t} \\rangle {\\otimes} \\lvert u \\rangle~\\mbox{part}~{_{-}a} + t~\\mbox{on}~\\{1~\\ldotp \\ldotp~t + s\\}} \n",
      "} \\end{array}\\right)| = |\\left(1, \\ldots, 2\\right)|\n"
     ]
    }
   ],
   "source": [
    "# Show the LaTeX representation of the expression for convenience if you need it.\n",
    "print(stored_expr.latex())"
   ]
  },
  {
   "cell_type": "code",
   "execution_count": 5,
   "metadata": {},
   "outputs": [
    {
     "data": {
      "text/html": [
       "<table>\n",
       "<tr><th>name</th><th>description</th><th>default</th><th>current value</th><th>related methods</th></tr><tr><td>operation</td><td>'infix' or 'function' style formatting</td><td>infix</td><td>infix</td><td></td></tr>\n",
       "<tr><td>wrap_positions</td><td>position(s) at which wrapping is to occur; '2 n - 1' is after the nth operand, '2 n' is after the nth operation.</td><td>()</td><td>()</td><td>('with_wrapping_at', 'with_wrap_before_operator', 'with_wrap_after_operator', 'without_wrapping', 'wrap_positions')</td></tr>\n",
       "<tr><td>justification</td><td>if any wrap positions are set, justify to the 'left', 'center', or 'right'</td><td>center</td><td>center</td><td>('with_justification',)</td></tr>\n",
       "<tr><td>direction</td><td>Direction of the relation (normal or reversed)</td><td>normal</td><td>normal</td><td>('with_direction_reversed', 'is_reversed')</td></tr>\n",
       "</table>\n"
      ],
      "text/plain": [
       "style name: operation\n",
       "description: 'infix' or 'function' style formatting\n",
       "default: infix\n",
       "current value: infix\n",
       "related methods: ()\n",
       "style name: wrap_positions\n",
       "description: position(s) at which wrapping is to occur; '2 n - 1' is after the nth operand, '2 n' is after the nth operation.\n",
       "default: ()\n",
       "current value: ()\n",
       "related methods: ('with_wrapping_at', 'with_wrap_before_operator', 'with_wrap_after_operator', 'without_wrapping', 'wrap_positions')\n",
       "style name: justification\n",
       "description: if any wrap positions are set, justify to the 'left', 'center', or 'right'\n",
       "default: center\n",
       "current value: center\n",
       "related methods: ('with_justification',)\n",
       "style name: direction\n",
       "description: Direction of the relation (normal or reversed)\n",
       "default: normal\n",
       "current value: normal\n",
       "related methods: ('with_direction_reversed', 'is_reversed')"
      ]
     },
     "metadata": {},
     "output_type": "display_data"
    }
   ],
   "source": [
    "stored_expr.style_options()"
   ]
  },
  {
   "cell_type": "code",
   "execution_count": 6,
   "metadata": {},
   "outputs": [
    {
     "data": {
      "text/html": [
       "<table><tr><th>&nbsp;</th><th>core type</th><th>sub-expressions</th><th>expression</th></tr>\n",
       "<tr><td>0</td><td>Operation</td><td>operator:&nbsp;1<br>operands:&nbsp;2<br></td><td><a class=\"ProveItLink\" href=\"expr.ipynb\"><img src=\"expr.png\" style=\"display:inline;vertical-align:middle;\" /></a></td></tr>\n",
       "<tr><td>1</td><td>Literal</td><td></td><td><a class=\"ProveItLink\" href=\"../../../../../../logic/equality/__pv_it/common/fb96dc12b2aa8801dda64d0132b396c63d1502bb0/expr.ipynb\"><img src=\"../../../../../../logic/equality/__pv_it/common/fb96dc12b2aa8801dda64d0132b396c63d1502bb0/expr.png\" style=\"display:inline;vertical-align:middle;\" /></a></td></tr>\n",
       "<tr><td>2</td><td>ExprTuple</td><td>3, 4</td><td><a class=\"ProveItLink\" href=\"../ebbd8b5462816142c754fb8626ca361041f1d5f20/expr.ipynb\"><img src=\"../ebbd8b5462816142c754fb8626ca361041f1d5f20/expr.png\" style=\"display:inline;vertical-align:middle;\" /></a></td></tr>\n",
       "<tr><td>3</td><td>Operation</td><td>operator:&nbsp;6<br>operands:&nbsp;5<br></td><td><a class=\"ProveItLink\" href=\"../9385a3cde8e0e08e164d012ec00bafbcc0a8263f0/expr.ipynb\"><img src=\"../9385a3cde8e0e08e164d012ec00bafbcc0a8263f0/expr.png\" style=\"display:inline;vertical-align:middle;\" /></a></td></tr>\n",
       "<tr><td>4</td><td>Operation</td><td>operator:&nbsp;6<br>operands:&nbsp;7<br></td><td><a class=\"ProveItLink\" href=\"../../../../../../numbers/numerals/decimals/__pv_it/theorems/73363cb438e877e947623cf570c1728bb09ddcbb0/expr.ipynb\"><img src=\"../../../../../../numbers/numerals/decimals/__pv_it/theorems/73363cb438e877e947623cf570c1728bb09ddcbb0/expr.png\" style=\"display:inline;vertical-align:middle;\" /></a></td></tr>\n",
       "<tr><td>5</td><td>ExprTuple</td><td>8, 9</td><td><a class=\"ProveItLink\" href=\"../8a62debb4673ea5f61171dcabd029458f9958fbf0/expr.ipynb\"><img src=\"../8a62debb4673ea5f61171dcabd029458f9958fbf0/expr.png\" style=\"display:inline;vertical-align:middle;\" /></a></td></tr>\n",
       "<tr><td>6</td><td>Literal</td><td></td><td><a class=\"ProveItLink\" href=\"../../../../../../core_expr_types/tuples/__pv_it/common/43df765abf1294d8f1fd177863f57f08bf5ad0080/expr.ipynb\"><img src=\"../../../../../../core_expr_types/tuples/__pv_it/common/43df765abf1294d8f1fd177863f57f08bf5ad0080/expr.png\" style=\"display:inline;vertical-align:middle;\" /></a></td></tr>\n",
       "<tr><td>7</td><td>ExprTuple</td><td>10</td><td><a class=\"ProveItLink\" href=\"../../../../../../numbers/numerals/decimals/__pv_it/theorems/1e5f2e7d36b2e9a1b39d2ca50aa939845b9a71d90/expr.ipynb\"><img src=\"../../../../../../numbers/numerals/decimals/__pv_it/theorems/1e5f2e7d36b2e9a1b39d2ca50aa939845b9a71d90/expr.png\" style=\"display:inline;vertical-align:middle;\" /></a></td></tr>\n",
       "<tr><td>8</td><td>Lambda</td><td>parameter:&nbsp;16<br>body:&nbsp;12<br></td><td><a class=\"ProveItLink\" href=\"../63621b33322661df54648694757259af13a4ddc60/expr.ipynb\"><img src=\"../63621b33322661df54648694757259af13a4ddc60/expr.png\" style=\"display:inline;vertical-align:middle;\" /></a></td></tr>\n",
       "<tr><td>9</td><td>Lambda</td><td>parameter:&nbsp;40<br>body:&nbsp;13<br></td><td><a class=\"ProveItLink\" href=\"../6be32e1bc4b3993366960d521852dc5386ada1e10/expr.ipynb\"><img src=\"../6be32e1bc4b3993366960d521852dc5386ada1e10/expr.png\" style=\"display:inline;vertical-align:middle;\" /></a></td></tr>\n",
       "<tr><td>10</td><td>ExprRange</td><td>lambda_map:&nbsp;14<br>start_index:&nbsp;31<br>end_index:&nbsp;15<br></td><td><a class=\"ProveItLink\" href=\"../../../../../../numbers/numerals/decimals/__pv_it/theorems/39a25d591903b0a8a919a2aae5c7da796276c6920/expr.ipynb\"><img src=\"../../../../../../numbers/numerals/decimals/__pv_it/theorems/39a25d591903b0a8a919a2aae5c7da796276c6920/expr.png\" style=\"display:inline;vertical-align:middle;\" /></a></td></tr>\n",
       "<tr><td>11</td><td>ExprTuple</td><td>16</td><td><a class=\"ProveItLink\" href=\"../../../../../../core_expr_types/expr_arrays/__pv_it/common/18f7318b68e45ff8356043b6e71619fa8450fb200/expr.ipynb\"><img src=\"../../../../../../core_expr_types/expr_arrays/__pv_it/common/18f7318b68e45ff8356043b6e71619fa8450fb200/expr.png\" style=\"display:inline;vertical-align:middle;\" /></a></td></tr>\n",
       "<tr><td>12</td><td>Operation</td><td>operator:&nbsp;18<br>operands:&nbsp;17<br></td><td><a class=\"ProveItLink\" href=\"../3cd49a6dc4b15c3a4d2a5f7035ba31edf82047cc0/expr.ipynb\"><img src=\"../3cd49a6dc4b15c3a4d2a5f7035ba31edf82047cc0/expr.png\" style=\"display:inline;vertical-align:middle;\" /></a></td></tr>\n",
       "<tr><td>13</td><td>Operation</td><td>operator:&nbsp;18<br>operands:&nbsp;19<br></td><td><a class=\"ProveItLink\" href=\"../94c16d88f77d29bc4a45e93f135d6926103317ef0/expr.ipynb\"><img src=\"../94c16d88f77d29bc4a45e93f135d6926103317ef0/expr.png\" style=\"display:inline;vertical-align:middle;\" /></a></td></tr>\n",
       "<tr><td>14</td><td>Lambda</td><td>parameter:&nbsp;40<br>body:&nbsp;40<br></td><td><a class=\"ProveItLink\" href=\"../../../../../../numbers/numerals/decimals/__pv_it/theorems/a050e1e3ed3765e359f9bdf60f4fc32faa6c9d340/expr.ipynb\"><img src=\"../../../../../../numbers/numerals/decimals/__pv_it/theorems/a050e1e3ed3765e359f9bdf60f4fc32faa6c9d340/expr.png\" style=\"display:inline;vertical-align:middle;\" /></a></td></tr>\n",
       "<tr><td>15</td><td>Literal</td><td></td><td><a class=\"ProveItLink\" href=\"../../../../../../numbers/numerals/__pv_it/common/af4aab8a07465db063742696e006d04670f30cf10/expr.ipynb\"><img src=\"../../../../../../numbers/numerals/__pv_it/common/af4aab8a07465db063742696e006d04670f30cf10/expr.png\" style=\"display:inline;vertical-align:middle;\" /></a></td></tr>\n",
       "<tr><td>16</td><td>Variable</td><td></td><td><a class=\"ProveItLink\" href=\"../../../../../../core_expr_types/expr_arrays/__pv_it/common/9a18d67b443cf8d92289c655ed91ec78766170a90/expr.ipynb\"><img src=\"../../../../../../core_expr_types/expr_arrays/__pv_it/common/9a18d67b443cf8d92289c655ed91ec78766170a90/expr.png\" style=\"display:inline;vertical-align:middle;\" /></a></td></tr>\n",
       "<tr><td>17</td><td>NamedExprs</td><td>element: 21<br>targets: 23<br></td><td><a class=\"ProveItLink\" href=\"../c98d4f0e8637433c042f0c0d60b5df1db2fdf3580/expr.ipynb\"><img src=\"../c98d4f0e8637433c042f0c0d60b5df1db2fdf3580/expr.png\" style=\"display:inline;vertical-align:middle;\" /></a></td></tr>\n",
       "<tr><td>18</td><td>Literal</td><td></td><td><a class=\"ProveItLink\" href=\"../../../../circuits/__pv_it/common/5eaa43008f05c06941080a12337ff182ea14996e0/expr.ipynb\"><img src=\"../../../../circuits/__pv_it/common/5eaa43008f05c06941080a12337ff182ea14996e0/expr.png\" style=\"display:inline;vertical-align:middle;\" /></a></td></tr>\n",
       "<tr><td>19</td><td>NamedExprs</td><td>element: 22<br>targets: 23<br></td><td><a class=\"ProveItLink\" href=\"../db048a810ec5265c89950fc973393c65e71e60f30/expr.ipynb\"><img src=\"../db048a810ec5265c89950fc973393c65e71e60f30/expr.png\" style=\"display:inline;vertical-align:middle;\" /></a></td></tr>\n",
       "<tr><td>20</td><td>ExprTuple</td><td>40</td><td><a class=\"ProveItLink\" href=\"../../../../../../core_expr_types/__pv_it/common/4b0dd6be36d76552eda6a95d5b4a27f5a5b62f900/expr.ipynb\"><img src=\"../../../../../../core_expr_types/__pv_it/common/4b0dd6be36d76552eda6a95d5b4a27f5a5b62f900/expr.png\" style=\"display:inline;vertical-align:middle;\" /></a></td></tr>\n",
       "<tr><td>21</td><td>Operation</td><td>operator:&nbsp;25<br>operands:&nbsp;24<br></td><td><a class=\"ProveItLink\" href=\"../4209950edbf3c42a8b4b763b702dd895a98b7d280/expr.ipynb\"><img src=\"../4209950edbf3c42a8b4b763b702dd895a98b7d280/expr.png\" style=\"display:inline;vertical-align:middle;\" /></a></td></tr>\n",
       "<tr><td>22</td><td>Operation</td><td>operator:&nbsp;25<br>operands:&nbsp;26<br></td><td><a class=\"ProveItLink\" href=\"../7919d0a693d6bc56ccbf28d27e63cc2cfefa2a630/expr.ipynb\"><img src=\"../7919d0a693d6bc56ccbf28d27e63cc2cfefa2a630/expr.png\" style=\"display:inline;vertical-align:middle;\" /></a></td></tr>\n",
       "<tr><td>23</td><td>Operation</td><td>operator:&nbsp;27<br>operands:&nbsp;28<br></td><td><a class=\"ProveItLink\" href=\"../../theorems/8b1bca84bb9ee4c20163dea5f85ded4dcaf247080/expr.ipynb\"><img src=\"../../theorems/8b1bca84bb9ee4c20163dea5f85ded4dcaf247080/expr.png\" style=\"display:inline;vertical-align:middle;\" /></a></td></tr>\n",
       "<tr><td>24</td><td>NamedExprs</td><td>state: 29<br>part: 31<br></td><td><a class=\"ProveItLink\" href=\"../eda9b99d6ef4cd8d0786918455d040f7425c15f70/expr.ipynb\"><img src=\"../eda9b99d6ef4cd8d0786918455d040f7425c15f70/expr.png\" style=\"display:inline;vertical-align:middle;\" /></a></td></tr>\n",
       "<tr><td>25</td><td>Literal</td><td></td><td><a class=\"ProveItLink\" href=\"../../../../circuits/__pv_it/common/00345a9c4f4d361e0b6e8bbbbe5a33a8ec86a20b0/expr.ipynb\"><img src=\"../../../../circuits/__pv_it/common/00345a9c4f4d361e0b6e8bbbbe5a33a8ec86a20b0/expr.png\" style=\"display:inline;vertical-align:middle;\" /></a></td></tr>\n",
       "<tr><td>26</td><td>NamedExprs</td><td>state: 29<br>part: 30<br></td><td><a class=\"ProveItLink\" href=\"../989a747af7b60b2c90252708c7fc5c72a363d8ce0/expr.ipynb\"><img src=\"../989a747af7b60b2c90252708c7fc5c72a363d8ce0/expr.png\" style=\"display:inline;vertical-align:middle;\" /></a></td></tr>\n",
       "<tr><td>27</td><td>Literal</td><td></td><td><a class=\"ProveItLink\" href=\"../../../../../../numbers/number_sets/integers/__pv_it/common/92f3a0a77e3c3ea8e4a5c8674edadc54e4f57d550/expr.ipynb\"><img src=\"../../../../../../numbers/number_sets/integers/__pv_it/common/92f3a0a77e3c3ea8e4a5c8674edadc54e4f57d550/expr.png\" style=\"display:inline;vertical-align:middle;\" /></a></td></tr>\n",
       "<tr><td>28</td><td>ExprTuple</td><td>31, 32</td><td><a class=\"ProveItLink\" href=\"../../theorems/3f423dad95fd45dde4f32a2a3edac43eb31fdbb40/expr.ipynb\"><img src=\"../../theorems/3f423dad95fd45dde4f32a2a3edac43eb31fdbb40/expr.png\" style=\"display:inline;vertical-align:middle;\" /></a></td></tr>\n",
       "<tr><td>29</td><td>Operation</td><td>operator:&nbsp;33<br>operands:&nbsp;34<br></td><td><a class=\"ProveItLink\" href=\"../9d03c9d631d599f40ce9646915f4138f5f55c6e00/expr.ipynb\"><img src=\"../9d03c9d631d599f40ce9646915f4138f5f55c6e00/expr.png\" style=\"display:inline;vertical-align:middle;\" /></a></td></tr>\n",
       "<tr><td>30</td><td>Operation</td><td>operator:&nbsp;36<br>operands:&nbsp;35<br></td><td><a class=\"ProveItLink\" href=\"../0c860867b908a6fc174ae2cac4e75cdfd4100e530/expr.ipynb\"><img src=\"../0c860867b908a6fc174ae2cac4e75cdfd4100e530/expr.png\" style=\"display:inline;vertical-align:middle;\" /></a></td></tr>\n",
       "<tr><td>31</td><td>Literal</td><td></td><td><a class=\"ProveItLink\" href=\"../../../../../../numbers/numerals/__pv_it/common/682157d4892d216d9e5626ed533aff9b56b9506e0/expr.ipynb\"><img src=\"../../../../../../numbers/numerals/__pv_it/common/682157d4892d216d9e5626ed533aff9b56b9506e0/expr.png\" style=\"display:inline;vertical-align:middle;\" /></a></td></tr>\n",
       "<tr><td>32</td><td>Operation</td><td>operator:&nbsp;36<br>operands:&nbsp;37<br></td><td><a class=\"ProveItLink\" href=\"../../theorems/d2d49f53ed6c0d9ac7dc8d27b9cf718603e9bc9d0/expr.ipynb\"><img src=\"../../theorems/d2d49f53ed6c0d9ac7dc8d27b9cf718603e9bc9d0/expr.png\" style=\"display:inline;vertical-align:middle;\" /></a></td></tr>\n",
       "<tr><td>33</td><td>Literal</td><td></td><td><a class=\"ProveItLink\" href=\"../../../../../../linear_algebra/tensors/__pv_it/common/7fa25b05174babb4710be62d63ebd43f68aa2fec0/expr.ipynb\"><img src=\"../../../../../../linear_algebra/tensors/__pv_it/common/7fa25b05174babb4710be62d63ebd43f68aa2fec0/expr.png\" style=\"display:inline;vertical-align:middle;\" /></a></td></tr>\n",
       "<tr><td>34</td><td>ExprTuple</td><td>38, 39</td><td><a class=\"ProveItLink\" href=\"../a0db1570b11e83734937500a434ee51fffa464a80/expr.ipynb\"><img src=\"../a0db1570b11e83734937500a434ee51fffa464a80/expr.png\" style=\"display:inline;vertical-align:middle;\" /></a></td></tr>\n",
       "<tr><td>35</td><td>ExprTuple</td><td>40, 44</td><td><a class=\"ProveItLink\" href=\"../136d7ec91caa3cc39c08f4fd898ff1b4177843a40/expr.ipynb\"><img src=\"../136d7ec91caa3cc39c08f4fd898ff1b4177843a40/expr.png\" style=\"display:inline;vertical-align:middle;\" /></a></td></tr>\n",
       "<tr><td>36</td><td>Literal</td><td></td><td><a class=\"ProveItLink\" href=\"../../../../../../numbers/addition/__pv_it/common/4b7effaab3619a1c2c38fe2dee8601df8ec714590/expr.ipynb\"><img src=\"../../../../../../numbers/addition/__pv_it/common/4b7effaab3619a1c2c38fe2dee8601df8ec714590/expr.png\" style=\"display:inline;vertical-align:middle;\" /></a></td></tr>\n",
       "<tr><td>37</td><td>ExprTuple</td><td>44, 41</td><td><a class=\"ProveItLink\" href=\"../../theorems/f3cff4586a5d1e7c2858f11ee1a5ac76adcdcc010/expr.ipynb\"><img src=\"../../theorems/f3cff4586a5d1e7c2858f11ee1a5ac76adcdcc010/expr.png\" style=\"display:inline;vertical-align:middle;\" /></a></td></tr>\n",
       "<tr><td>38</td><td>Operation</td><td>operator:&nbsp;42<br>operand:&nbsp;44<br></td><td><a class=\"ProveItLink\" href=\"../../common/b3612284596c95f78b4fe90ba4066e839001e5710/expr.ipynb\"><img src=\"../../common/b3612284596c95f78b4fe90ba4066e839001e5710/expr.png\" style=\"display:inline;vertical-align:middle;\" /></a></td></tr>\n",
       "<tr><td>39</td><td>Literal</td><td></td><td><a class=\"ProveItLink\" href=\"../../common/ca39d48f285e5b8b9c4fc5a4225a68cd859974bc0/expr.ipynb\"><img src=\"../../common/ca39d48f285e5b8b9c4fc5a4225a68cd859974bc0/expr.png\" style=\"display:inline;vertical-align:middle;\" /></a></td></tr>\n",
       "<tr><td>40</td><td>Variable</td><td></td><td><a class=\"ProveItLink\" href=\"../../../../../../core_expr_types/__pv_it/common/006c465e50948aa2b52285e2de47974f741255cc0/expr.ipynb\"><img src=\"../../../../../../core_expr_types/__pv_it/common/006c465e50948aa2b52285e2de47974f741255cc0/expr.png\" style=\"display:inline;vertical-align:middle;\" /></a></td></tr>\n",
       "<tr><td>41</td><td>Literal</td><td></td><td><a class=\"ProveItLink\" href=\"../../common/8a1628c4cfc7b78e5c5de183ba3f5cff0b20d4dd0/expr.ipynb\"><img src=\"../../common/8a1628c4cfc7b78e5c5de183ba3f5cff0b20d4dd0/expr.png\" style=\"display:inline;vertical-align:middle;\" /></a></td></tr>\n",
       "<tr><td>42</td><td>Literal</td><td></td><td><a class=\"ProveItLink\" href=\"../../common/3cd01098f6477695c5f95f3614ef4302a3a569f40/expr.ipynb\"><img src=\"../../common/3cd01098f6477695c5f95f3614ef4302a3a569f40/expr.png\" style=\"display:inline;vertical-align:middle;\" /></a></td></tr>\n",
       "<tr><td>43</td><td>ExprTuple</td><td>44</td><td><a class=\"ProveItLink\" href=\"../../common/04971f5ed986452ec2d9047d1e0d56faa846096b0/expr.ipynb\"><img src=\"../../common/04971f5ed986452ec2d9047d1e0d56faa846096b0/expr.png\" style=\"display:inline;vertical-align:middle;\" /></a></td></tr>\n",
       "<tr><td>44</td><td>Variable</td><td></td><td><a class=\"ProveItLink\" href=\"../../../../../../__pv_it/common/36861eae73a44b53d5b3b017ac6a3a9dae53bfba0/expr.ipynb\"><img src=\"../../../../../../__pv_it/common/36861eae73a44b53d5b3b017ac6a3a9dae53bfba0/expr.png\" style=\"display:inline;vertical-align:middle;\" /></a></td></tr>\n",
       "</table>\n"
      ],
      "text/plain": [
       "0. |(_b -> [MULTI_QUBIT_ELEM]{element:[OUTPUT]{state:(|psi_{t}> otimes |u>), part:1}, targets:{1 .. t + s}}, _a -> [MULTI_QUBIT_ELEM]{element:[OUTPUT]{state:(|psi_{t}> otimes |u>), part:(_a + t)}, targets:{1 .. t + s}})| = |(1, ..., 2)|\n",
       "   core type: Operation\n",
       "   operator: 1\n",
       "   operands: 2\n",
       "1. =\n",
       "   core type: Literal\n",
       "   sub-expressions: \n",
       "2. (|(_b -> [MULTI_QUBIT_ELEM]{element:[OUTPUT]{state:(|psi_{t}> otimes |u>), part:1}, targets:{1 .. t + s}}, _a -> [MULTI_QUBIT_ELEM]{element:[OUTPUT]{state:(|psi_{t}> otimes |u>), part:(_a + t)}, targets:{1 .. t + s}})|, |(1, ..., 2)|)\n",
       "   core type: ExprTuple\n",
       "   sub-expressions: 3, 4\n",
       "3. |(_b -> [MULTI_QUBIT_ELEM]{element:[OUTPUT]{state:(|psi_{t}> otimes |u>), part:1}, targets:{1 .. t + s}}, _a -> [MULTI_QUBIT_ELEM]{element:[OUTPUT]{state:(|psi_{t}> otimes |u>), part:(_a + t)}, targets:{1 .. t + s}})|\n",
       "   core type: Operation\n",
       "   operator: 6\n",
       "   operands: 5\n",
       "4. |(1, ..., 2)|\n",
       "   core type: Operation\n",
       "   operator: 6\n",
       "   operands: 7\n",
       "5. (_b -> [MULTI_QUBIT_ELEM]{element:[OUTPUT]{state:(|psi_{t}> otimes |u>), part:1}, targets:{1 .. t + s}}, _a -> [MULTI_QUBIT_ELEM]{element:[OUTPUT]{state:(|psi_{t}> otimes |u>), part:(_a + t)}, targets:{1 .. t + s}})\n",
       "   core type: ExprTuple\n",
       "   sub-expressions: 8, 9\n",
       "6. length\n",
       "   core type: Literal\n",
       "   sub-expressions: \n",
       "7. (1, ..., 2)\n",
       "   core type: ExprTuple\n",
       "   sub-expressions: 10\n",
       "8. _b -> [MULTI_QUBIT_ELEM]{element:[OUTPUT]{state:(|psi_{t}> otimes |u>), part:1}, targets:{1 .. t + s}}\n",
       "   core type: Lambda\n",
       "   parameter: 16\n",
       "   body: 12\n",
       "9. _a -> [MULTI_QUBIT_ELEM]{element:[OUTPUT]{state:(|psi_{t}> otimes |u>), part:(_a + t)}, targets:{1 .. t + s}}\n",
       "   core type: Lambda\n",
       "   parameter: 40\n",
       "   body: 13\n",
       "10. 1, ..., 2\n",
       "    core type: ExprRange\n",
       "    lambda_map: 14\n",
       "    start_index: 31\n",
       "    end_index: 15\n",
       "11. (_b)\n",
       "    core type: ExprTuple\n",
       "    sub-expressions: 16\n",
       "12. [MULTI_QUBIT_ELEM]{element:[OUTPUT]{state:(|psi_{t}> otimes |u>), part:1}, targets:{1 .. t + s}}\n",
       "    core type: Operation\n",
       "    operator: 18\n",
       "    operands: 17\n",
       "13. [MULTI_QUBIT_ELEM]{element:[OUTPUT]{state:(|psi_{t}> otimes |u>), part:(_a + t)}, targets:{1 .. t + s}}\n",
       "    core type: Operation\n",
       "    operator: 18\n",
       "    operands: 19\n",
       "14. _a -> _a\n",
       "    core type: Lambda\n",
       "    parameter: 40\n",
       "    body: 40\n",
       "15. 2\n",
       "    core type: Literal\n",
       "    sub-expressions: \n",
       "16. _b\n",
       "    core type: Variable\n",
       "    sub-expressions: \n",
       "17. {element:[OUTPUT]{state:(|psi_{t}> otimes |u>), part:1}, targets:{1 .. t + s}}\n",
       "    core type: NamedExprs\n",
       "    element: 21\n",
       "    targets: 23\n",
       "18. MULTI_QUBIT_ELEM\n",
       "    core type: Literal\n",
       "    sub-expressions: \n",
       "19. {element:[OUTPUT]{state:(|psi_{t}> otimes |u>), part:(_a + t)}, targets:{1 .. t + s}}\n",
       "    core type: NamedExprs\n",
       "    element: 22\n",
       "    targets: 23\n",
       "20. (_a)\n",
       "    core type: ExprTuple\n",
       "    sub-expressions: 40\n",
       "21. [OUTPUT]{state:(|psi_{t}> otimes |u>), part:1}\n",
       "    core type: Operation\n",
       "    operator: 25\n",
       "    operands: 24\n",
       "22. [OUTPUT]{state:(|psi_{t}> otimes |u>), part:(_a + t)}\n",
       "    core type: Operation\n",
       "    operator: 25\n",
       "    operands: 26\n",
       "23. {1 .. t + s}\n",
       "    core type: Operation\n",
       "    operator: 27\n",
       "    operands: 28\n",
       "24. {state:(|psi_{t}> otimes |u>), part:1}\n",
       "    core type: NamedExprs\n",
       "    state: 29\n",
       "    part: 31\n",
       "25. OUTPUT\n",
       "    core type: Literal\n",
       "    sub-expressions: \n",
       "26. {state:(|psi_{t}> otimes |u>), part:(_a + t)}\n",
       "    core type: NamedExprs\n",
       "    state: 29\n",
       "    part: 30\n",
       "27. Interval\n",
       "    core type: Literal\n",
       "    sub-expressions: \n",
       "28. (1, t + s)\n",
       "    core type: ExprTuple\n",
       "    sub-expressions: 31, 32\n",
       "29. |psi_{t}> otimes |u>\n",
       "    core type: Operation\n",
       "    operator: 33\n",
       "    operands: 34\n",
       "30. _a + t\n",
       "    core type: Operation\n",
       "    operator: 36\n",
       "    operands: 35\n",
       "31. 1\n",
       "    core type: Literal\n",
       "    sub-expressions: \n",
       "32. t + s\n",
       "    core type: Operation\n",
       "    operator: 36\n",
       "    operands: 37\n",
       "33. otimes\n",
       "    core type: Literal\n",
       "    sub-expressions: \n",
       "34. (|psi_{t}>, |u>)\n",
       "    core type: ExprTuple\n",
       "    sub-expressions: 38, 39\n",
       "35. (_a, t)\n",
       "    core type: ExprTuple\n",
       "    sub-expressions: 40, 44\n",
       "36. +\n",
       "    core type: Literal\n",
       "    sub-expressions: \n",
       "37. (t, s)\n",
       "    core type: ExprTuple\n",
       "    sub-expressions: 44, 41\n",
       "38. |psi_{t}>\n",
       "    core type: Operation\n",
       "    operator: 42\n",
       "    operand: 44\n",
       "39. |u>\n",
       "    core type: Literal\n",
       "    sub-expressions: \n",
       "40. _a\n",
       "    core type: Variable\n",
       "    sub-expressions: \n",
       "41. s\n",
       "    core type: Literal\n",
       "    sub-expressions: \n",
       "42. psi\n",
       "    core type: Literal\n",
       "    sub-expressions: \n",
       "43. (t)\n",
       "    core type: ExprTuple\n",
       "    sub-expressions: 44\n",
       "44. t\n",
       "    core type: Variable\n",
       "    sub-expressions: "
      ]
     },
     "metadata": {},
     "output_type": "display_data"
    }
   ],
   "source": [
    "# display the expression information\n",
    "stored_expr.expr_info()"
   ]
  },
  {
   "cell_type": "code",
   "execution_count": null,
   "metadata": {},
   "outputs": [],
   "source": []
  }
 ],
 "metadata": {
  "kernelspec": {
   "display_name": "Python 3",
   "language": "python",
   "name": "python3"
  }
 },
 "nbformat": 4,
 "nbformat_minor": 0
}