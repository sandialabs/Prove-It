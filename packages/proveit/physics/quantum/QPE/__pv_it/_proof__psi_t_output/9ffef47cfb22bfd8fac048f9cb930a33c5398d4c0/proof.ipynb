{
 "cells": [
  {
   "cell_type": "markdown",
   "metadata": {},
   "source": [
    "Show the Proof\n",
    "========"
   ]
  },
  {
   "cell_type": "code",
   "execution_count": 1,
   "metadata": {},
   "outputs": [
    {
     "data": {
      "text/html": [
       "<table><tr><th>&nbsp;</th><th>step type</th><th>requirements</th><th>statement</th></tr>\n",
       "<tr><td><a name=\"proveit.physics.quantum.QPE._proof__psi_t_output.9ffef47cfb22bfd8fac048f9cb930a33c5398d4c0_step0\">0</a></td><td>instantiation</td><td><a href=\"#proveit.physics.quantum.QPE._proof__psi_t_output.9ffef47cfb22bfd8fac048f9cb930a33c5398d4c0_step1\">1</a>, <a href=\"#proveit.physics.quantum.QPE._proof__psi_t_output.9ffef47cfb22bfd8fac048f9cb930a33c5398d4c0_step2\">2</a></td><td><span style=\"font-size:20px;\"><a class=\"ProveItLink\" href=\"../../../../circuits/__pv_it/theorems/71c1fc00120f763c694cd99d32f7a5e7315b9ca50/expr.ipynb\"><img src=\"../../../../circuits/__pv_it/theorems/71c1fc00120f763c694cd99d32f7a5e7315b9ca50/expr.png\" style=\"display:inline;vertical-align:middle;\" /></a> <a class=\"ProveItLink\" href=\"proof.ipynb\" style=\"text-decoration: none\">&nbsp;&#x22A2;&nbsp;&nbsp;</a><a class=\"ProveItLink\" href=\"../../theorems/2889ca60a7757f03bb6235bcbaa15cefdf0da4cc0/expr.ipynb\"><img src=\"../../theorems/2889ca60a7757f03bb6235bcbaa15cefdf0da4cc0/expr.png\" style=\"display:inline;vertical-align:middle;\" /></a></span></td></tr>\n",
       "<tr><td>&nbsp;</td><td colspan=4 style=\"text-align:left\"><span style=\"font-size:20px;\"><a class=\"ProveItLink\" href=\"../../../../../../__pv_it/common/09585084922504426caf1db2ff588a23a0932a960/expr.ipynb\"><img src=\"../../../../../../__pv_it/common/09585084922504426caf1db2ff588a23a0932a960/expr.png\" style=\"display:inline;vertical-align:middle;\" /></a> : <a class=\"ProveItLink\" href=\"../../theorems/2889ca60a7757f03bb6235bcbaa15cefdf0da4cc0/expr.ipynb\"><img src=\"../../theorems/2889ca60a7757f03bb6235bcbaa15cefdf0da4cc0/expr.png\" style=\"display:inline;vertical-align:middle;\" /></a>, <a class=\"ProveItLink\" href=\"../../../../../../__pv_it/common/a9162d1c3cc0470c02e5daf414500903a7a419230/expr.ipynb\"><img src=\"../../../../../../__pv_it/common/a9162d1c3cc0470c02e5daf414500903a7a419230/expr.png\" style=\"display:inline;vertical-align:middle;\" /></a> : <a class=\"ProveItLink\" href=\"../../theorems/f319a3098bf69c968c76068c7a506e41523028480/expr.ipynb\"><img src=\"../../theorems/f319a3098bf69c968c76068c7a506e41523028480/expr.png\" style=\"display:inline;vertical-align:middle;\" /></a></span></td></tr><tr><td><a name=\"proveit.physics.quantum.QPE._proof__psi_t_output.9ffef47cfb22bfd8fac048f9cb930a33c5398d4c0_step1\">1</a></td><td>theorem</td><td></td><td><span style=\"font-size:20px;\"> <a class=\"ProveItLink\" href=\"../../../../../../logic/booleans/conjunction/_theory_nbs_/proofs/left_from_and/thm_proof.ipynb\" style=\"text-decoration: none\">&nbsp;&#x22A2;&nbsp;&nbsp;</a><a class=\"ProveItLink\" href=\"../../../../../../logic/booleans/conjunction/__pv_it/theorems/db95e8ffa7200a9ad9f7288dfda7a09225da59260/expr.ipynb\"><img src=\"../../../../../../logic/booleans/conjunction/__pv_it/theorems/db95e8ffa7200a9ad9f7288dfda7a09225da59260/expr.png\" style=\"display:inline;vertical-align:middle;\" /></a></span></td></tr>\n",
       "<tr><td>&nbsp;</td><td colspan=4 style-\"text-align:left\"><a class=\"ProveItLink\" href=\"../../../../../../logic/booleans/conjunction/_theory_nbs_/proofs/left_from_and/thm_proof.ipynb\">proveit.logic.booleans.conjunction.left_from_and</a></td></tr><tr><td><a name=\"proveit.physics.quantum.QPE._proof__psi_t_output.9ffef47cfb22bfd8fac048f9cb930a33c5398d4c0_step2\">2</a></td><td>instantiation</td><td><a href=\"#proveit.physics.quantum.QPE._proof__psi_t_output.9ffef47cfb22bfd8fac048f9cb930a33c5398d4c0_step3\">3</a>, <a href=\"#proveit.physics.quantum.QPE._proof__psi_t_output.9ffef47cfb22bfd8fac048f9cb930a33c5398d4c0_step4\">4</a></td><td><span style=\"font-size:20px;\"><a class=\"ProveItLink\" href=\"../../../../circuits/__pv_it/theorems/71c1fc00120f763c694cd99d32f7a5e7315b9ca50/expr.ipynb\"><img src=\"../../../../circuits/__pv_it/theorems/71c1fc00120f763c694cd99d32f7a5e7315b9ca50/expr.png\" style=\"display:inline;vertical-align:middle;\" /></a> <a class=\"ProveItLink\" href=\"../ece6aca09ae081559b761e971ee63670038347460/proof.ipynb\" style=\"text-decoration: none\">&nbsp;&#x22A2;&nbsp;&nbsp;</a><a class=\"ProveItLink\" href=\"../../theorems/b11975c86167621fd101e495e96f19ca04c051340/expr.ipynb\"><img src=\"../../theorems/b11975c86167621fd101e495e96f19ca04c051340/expr.png\" style=\"display:inline;vertical-align:middle;\" /></a></span></td></tr>\n",
       "<tr><td>&nbsp;</td><td colspan=4 style=\"text-align:left\"><span style=\"font-size:20px;\"><a class=\"ProveItLink\" href=\"../../../../../../__pv_it/common/36861eae73a44b53d5b3b017ac6a3a9dae53bfba0/expr.ipynb\"><img src=\"../../../../../../__pv_it/common/36861eae73a44b53d5b3b017ac6a3a9dae53bfba0/expr.png\" style=\"display:inline;vertical-align:middle;\" /></a> : <a class=\"ProveItLink\" href=\"../../../../../../__pv_it/common/36861eae73a44b53d5b3b017ac6a3a9dae53bfba0/expr.ipynb\"><img src=\"../../../../../../__pv_it/common/36861eae73a44b53d5b3b017ac6a3a9dae53bfba0/expr.png\" style=\"display:inline;vertical-align:middle;\" /></a></span></td></tr><tr><td><a name=\"proveit.physics.quantum.QPE._proof__psi_t_output.9ffef47cfb22bfd8fac048f9cb930a33c5398d4c0_step3\">3</a></td><td>theorem</td><td></td><td><span style=\"font-size:20px;\"> <a class=\"ProveItLink\" href=\"../../../_theory_nbs_/proofs/_psi_t_ket_is_normalized_vec/thm_proof.ipynb\" style=\"text-decoration: none\">&nbsp;&#x22A2;&nbsp;&nbsp;</a><a class=\"ProveItLink\" href=\"../../theorems/69597cdddc096bf354ec5966375a5dcaab3ca1330/expr.ipynb\"><img src=\"../../theorems/69597cdddc096bf354ec5966375a5dcaab3ca1330/expr.png\" style=\"display:inline;vertical-align:middle;\" /></a></span></td></tr>\n",
       "<tr><td>&nbsp;</td><td colspan=4 style-\"text-align:left\"><a class=\"ProveItLink\" href=\"../../../_theory_nbs_/proofs/_psi_t_ket_is_normalized_vec/thm_proof.ipynb\">proveit.physics.quantum.QPE._psi_t_ket_is_normalized_vec</a></td></tr><tr><td><a name=\"proveit.physics.quantum.QPE._proof__psi_t_output.9ffef47cfb22bfd8fac048f9cb930a33c5398d4c0_step4\">4</a></td><td>assumption</td><td></td><td><span style=\"font-size:20px;\"><a class=\"ProveItLink\" href=\"../../../../circuits/__pv_it/theorems/71c1fc00120f763c694cd99d32f7a5e7315b9ca50/expr.ipynb\"><img src=\"../../../../circuits/__pv_it/theorems/71c1fc00120f763c694cd99d32f7a5e7315b9ca50/expr.png\" style=\"display:inline;vertical-align:middle;\" /></a> <a class=\"ProveItLink\" href=\"../463077cd011e0aeb39270f91787e63a928231cb70/proof.ipynb\" style=\"text-decoration: none\">&nbsp;&#x22A2;&nbsp;&nbsp;</a><a class=\"ProveItLink\" href=\"../../../../circuits/__pv_it/theorems/71c1fc00120f763c694cd99d32f7a5e7315b9ca50/expr.ipynb\"><img src=\"../../../../circuits/__pv_it/theorems/71c1fc00120f763c694cd99d32f7a5e7315b9ca50/expr.png\" style=\"display:inline;vertical-align:middle;\" /></a></span></td></tr>\n",
       "</table>"
      ],
      "text/plain": [
       "<proveit._core_.proof._ShowProof at 0x7f2cd43b5ac8>"
      ]
     },
     "execution_count": 1,
     "metadata": {},
     "output_type": "execute_result"
    }
   ],
   "source": [
    "import proveit\n",
    "# Automation is not needed when only showing a stored proof:\n",
    "proveit.defaults.automation = False # This will speed things up.\n",
    "proveit.defaults.inline_pngs = False # Makes files smaller.\n",
    "%show_proof"
   ]
  },
  {
   "cell_type": "code",
   "execution_count": null,
   "metadata": {},
   "outputs": [],
   "source": []
  }
 ],
 "metadata": {
  "kernelspec": {
   "display_name": "Python 3",
   "language": "python",
   "name": "python3"
  }
 },
 "nbformat": 4,
 "nbformat_minor": 0
}