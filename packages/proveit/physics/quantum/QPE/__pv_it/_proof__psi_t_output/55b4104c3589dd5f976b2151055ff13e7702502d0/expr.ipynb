{
 "cells": [
  {
   "cell_type": "markdown",
   "metadata": {},
   "source": [
    "Expression of type <a class=\"ProveItLink\" href=\"../../../../../../../../doc/html/api/proveit.ExprTuple.html\">ExprTuple</a>\n",
    "=======================\n",
    "# from the theory of <a class=\"ProveItLink\" href=\"../../../_theory_nbs_/theory.ipynb\">proveit.physics.quantum.QPE</a>"
   ]
  },
  {
   "cell_type": "code",
   "execution_count": 1,
   "metadata": {},
   "outputs": [],
   "source": [
    "import proveit\n",
    "# Automation is not needed when building an expression:\n",
    "proveit.defaults.automation = False # This will speed things up.\n",
    "proveit.defaults.inline_pngs = False # Makes files smaller.\n",
    "%load_expr # Load the stored expression as 'stored_expr'\n",
    "# import Expression classes needed to build the expression\n",
    "from proveit import ExprRange, ExprTuple, Variable, t\n",
    "from proveit.core_expr_types import Len\n",
    "from proveit.logic import Equals\n",
    "from proveit.numbers import Add, Neg, one, two, zero"
   ]
  },
  {
   "cell_type": "code",
   "execution_count": 2,
   "metadata": {},
   "outputs": [
    {
     "data": {
      "text/html": [
       "<strong id=\"expr\">expr:</strong> <a class=\"ProveItLink\" href=\"expr.ipynb\"><img src=\"expr.png\" style=\"display:inline;vertical-align:middle;\" /></a><br>"
      ],
      "text/plain": [
       "<IPython.core.display.HTML object>"
      ]
     },
     "metadata": {},
     "output_type": "display_data"
    }
   ],
   "source": [
    "# build up the expression from sub-expressions\n",
    "sub_expr1 = Variable(\"_a\", latex_format = r\"{_{-}a}\")\n",
    "sub_expr2 = Add(Neg(t), two)\n",
    "expr = ExprTuple(Len(operands = [ExprRange(sub_expr1, Equals(Add(sub_expr1, t), Add(Add(sub_expr1, Neg(one), t), one)), sub_expr2, zero)]), Add(zero, Neg(sub_expr2), one))"
   ]
  },
  {
   "cell_type": "code",
   "execution_count": 3,
   "metadata": {},
   "outputs": [
    {
     "name": "stdout",
     "output_type": "stream",
     "text": [
      "Passed sanity check: expr matches stored_expr\n"
     ]
    }
   ],
   "source": [
    "# check that the built expression is the same as the stored expression\n",
    "assert expr == stored_expr\n",
    "assert expr._style_id == stored_expr._style_id\n",
    "print(\"Passed sanity check: expr matches stored_expr\")"
   ]
  },
  {
   "cell_type": "code",
   "execution_count": 4,
   "metadata": {},
   "outputs": [
    {
     "name": "stdout",
     "output_type": "stream",
     "text": [
      "\\left(|\\left(\\left(\\left(\\left(-t + 2\\right) + t\\right) = \\left(\\left(\\left(-t + 2\\right) - 1 + t\\right) + 1\\right)\\right), \\left(\\left(\\left(-t + 3\\right) + t\\right) = \\left(\\left(\\left(-t + 3\\right) - 1 + t\\right) + 1\\right)\\right), \\ldots, \\left(\\left(0 + t\\right) = \\left(\\left(0 - 1 + t\\right) + 1\\right)\\right)\\right)|, 0 - \\left(-t + 2\\right) + 1\\right)\n"
     ]
    }
   ],
   "source": [
    "# Show the LaTeX representation of the expression for convenience if you need it.\n",
    "print(stored_expr.latex())"
   ]
  },
  {
   "cell_type": "code",
   "execution_count": 5,
   "metadata": {},
   "outputs": [
    {
     "data": {
      "text/html": [
       "<table>\n",
       "<tr><th>name</th><th>description</th><th>default</th><th>current value</th><th>related methods</th></tr><tr><td>wrap_positions</td><td>position(s) at which wrapping is to occur; 'n' is after the nth comma.</td><td>()</td><td>()</td><td>('with_wrapping_at',)</td></tr>\n",
       "<tr><td>justification</td><td>if any wrap positions are set, justify to the 'left', 'center', or 'right'</td><td>left</td><td>left</td><td>('with_justification',)</td></tr>\n",
       "</table>\n"
      ],
      "text/plain": [
       "style name: wrap_positions\n",
       "description: position(s) at which wrapping is to occur; 'n' is after the nth comma.\n",
       "default: ()\n",
       "current value: ()\n",
       "related methods: ('with_wrapping_at',)\n",
       "style name: justification\n",
       "description: if any wrap positions are set, justify to the 'left', 'center', or 'right'\n",
       "default: left\n",
       "current value: left\n",
       "related methods: ('with_justification',)"
      ]
     },
     "metadata": {},
     "output_type": "display_data"
    }
   ],
   "source": [
    "stored_expr.style_options()"
   ]
  },
  {
   "cell_type": "code",
   "execution_count": 6,
   "metadata": {},
   "outputs": [
    {
     "data": {
      "text/html": [
       "<table><tr><th>&nbsp;</th><th>core type</th><th>sub-expressions</th><th>expression</th></tr>\n",
       "<tr><td>0</td><td>ExprTuple</td><td>1, 2</td><td><a class=\"ProveItLink\" href=\"expr.ipynb\"><img src=\"expr.png\" style=\"display:inline;vertical-align:middle;\" /></a></td></tr>\n",
       "<tr><td>1</td><td>Operation</td><td>operator:&nbsp;3<br>operands:&nbsp;4<br></td><td><a class=\"ProveItLink\" href=\"../eca4d9f582c891f5d020bd29799a649a6d64c22b0/expr.ipynb\"><img src=\"../eca4d9f582c891f5d020bd29799a649a6d64c22b0/expr.png\" style=\"display:inline;vertical-align:middle;\" /></a></td></tr>\n",
       "<tr><td>2</td><td>Operation</td><td>operator:&nbsp;25<br>operands:&nbsp;5<br></td><td><a class=\"ProveItLink\" href=\"../7a66abf52ac3c75008d07ca3ab147d60320305710/expr.ipynb\"><img src=\"../7a66abf52ac3c75008d07ca3ab147d60320305710/expr.png\" style=\"display:inline;vertical-align:middle;\" /></a></td></tr>\n",
       "<tr><td>3</td><td>Literal</td><td></td><td><a class=\"ProveItLink\" href=\"../../../../../../core_expr_types/tuples/__pv_it/common/43df765abf1294d8f1fd177863f57f08bf5ad0080/expr.ipynb\"><img src=\"../../../../../../core_expr_types/tuples/__pv_it/common/43df765abf1294d8f1fd177863f57f08bf5ad0080/expr.png\" style=\"display:inline;vertical-align:middle;\" /></a></td></tr>\n",
       "<tr><td>4</td><td>ExprTuple</td><td>6</td><td><a class=\"ProveItLink\" href=\"../84c06b863dd90e77d3774a09808afba1ca53cc730/expr.ipynb\"><img src=\"../84c06b863dd90e77d3774a09808afba1ca53cc730/expr.png\" style=\"display:inline;vertical-align:middle;\" /></a></td></tr>\n",
       "<tr><td>5</td><td>ExprTuple</td><td>9, 7, 32</td><td><a class=\"ProveItLink\" href=\"../320bc05204b40242497f79826bc193c46ee068d70/expr.ipynb\"><img src=\"../320bc05204b40242497f79826bc193c46ee068d70/expr.png\" style=\"display:inline;vertical-align:middle;\" /></a></td></tr>\n",
       "<tr><td>6</td><td>ExprRange</td><td>lambda_map:&nbsp;8<br>start_index:&nbsp;13<br>end_index:&nbsp;9<br></td><td><a class=\"ProveItLink\" href=\"../90f0322de5046be166abb8022720d2aa9f880be60/expr.ipynb\"><img src=\"../90f0322de5046be166abb8022720d2aa9f880be60/expr.png\" style=\"display:inline;vertical-align:middle;\" /></a></td></tr>\n",
       "<tr><td>7</td><td>Operation</td><td>operator:&nbsp;30<br>operand:&nbsp;13<br></td><td><a class=\"ProveItLink\" href=\"../49fa6b44312e320b6310e862b816c82f821f1b970/expr.ipynb\"><img src=\"../49fa6b44312e320b6310e862b816c82f821f1b970/expr.png\" style=\"display:inline;vertical-align:middle;\" /></a></td></tr>\n",
       "<tr><td>8</td><td>Lambda</td><td>parameter:&nbsp;27<br>body:&nbsp;12<br></td><td><a class=\"ProveItLink\" href=\"../ab1dab5b7c7fbeee1e49ae0077e2db2f170de8910/expr.ipynb\"><img src=\"../ab1dab5b7c7fbeee1e49ae0077e2db2f170de8910/expr.png\" style=\"display:inline;vertical-align:middle;\" /></a></td></tr>\n",
       "<tr><td>9</td><td>Literal</td><td></td><td><a class=\"ProveItLink\" href=\"../../../../../../numbers/numerals/__pv_it/common/dd4e19e8b134dfb293470ea55fe3589b0ab9f8040/expr.ipynb\"><img src=\"../../../../../../numbers/numerals/__pv_it/common/dd4e19e8b134dfb293470ea55fe3589b0ab9f8040/expr.png\" style=\"display:inline;vertical-align:middle;\" /></a></td></tr>\n",
       "<tr><td>10</td><td>ExprTuple</td><td>13</td><td><a class=\"ProveItLink\" href=\"../6d615b439d7e0b06f4cbe843d9963e88f03a4ad60/expr.ipynb\"><img src=\"../6d615b439d7e0b06f4cbe843d9963e88f03a4ad60/expr.png\" style=\"display:inline;vertical-align:middle;\" /></a></td></tr>\n",
       "<tr><td>11</td><td>ExprTuple</td><td>27</td><td><a class=\"ProveItLink\" href=\"../../../../../../core_expr_types/__pv_it/common/4b0dd6be36d76552eda6a95d5b4a27f5a5b62f900/expr.ipynb\"><img src=\"../../../../../../core_expr_types/__pv_it/common/4b0dd6be36d76552eda6a95d5b4a27f5a5b62f900/expr.png\" style=\"display:inline;vertical-align:middle;\" /></a></td></tr>\n",
       "<tr><td>12</td><td>Operation</td><td>operator:&nbsp;14<br>operands:&nbsp;15<br></td><td><a class=\"ProveItLink\" href=\"../3744746dc28bf4ef861607f5bafb173e567a025f0/expr.ipynb\"><img src=\"../3744746dc28bf4ef861607f5bafb173e567a025f0/expr.png\" style=\"display:inline;vertical-align:middle;\" /></a></td></tr>\n",
       "<tr><td>13</td><td>Operation</td><td>operator:&nbsp;25<br>operands:&nbsp;16<br></td><td><a class=\"ProveItLink\" href=\"../4166dc1d0326e737295ecd953b55edbded12fa970/expr.ipynb\"><img src=\"../4166dc1d0326e737295ecd953b55edbded12fa970/expr.png\" style=\"display:inline;vertical-align:middle;\" /></a></td></tr>\n",
       "<tr><td>14</td><td>Literal</td><td></td><td><a class=\"ProveItLink\" href=\"../../../../../../logic/equality/__pv_it/common/fb96dc12b2aa8801dda64d0132b396c63d1502bb0/expr.ipynb\"><img src=\"../../../../../../logic/equality/__pv_it/common/fb96dc12b2aa8801dda64d0132b396c63d1502bb0/expr.png\" style=\"display:inline;vertical-align:middle;\" /></a></td></tr>\n",
       "<tr><td>15</td><td>ExprTuple</td><td>17, 18</td><td><a class=\"ProveItLink\" href=\"../bc508e825bc2ce1f95c7dba3087d3264b61371e90/expr.ipynb\"><img src=\"../bc508e825bc2ce1f95c7dba3087d3264b61371e90/expr.png\" style=\"display:inline;vertical-align:middle;\" /></a></td></tr>\n",
       "<tr><td>16</td><td>ExprTuple</td><td>19, 20</td><td><a class=\"ProveItLink\" href=\"../75fa589131ad04efc85266deeaff04069bd18f620/expr.ipynb\"><img src=\"../75fa589131ad04efc85266deeaff04069bd18f620/expr.png\" style=\"display:inline;vertical-align:middle;\" /></a></td></tr>\n",
       "<tr><td>17</td><td>Operation</td><td>operator:&nbsp;25<br>operands:&nbsp;21<br></td><td><a class=\"ProveItLink\" href=\"../0c860867b908a6fc174ae2cac4e75cdfd4100e530/expr.ipynb\"><img src=\"../0c860867b908a6fc174ae2cac4e75cdfd4100e530/expr.png\" style=\"display:inline;vertical-align:middle;\" /></a></td></tr>\n",
       "<tr><td>18</td><td>Operation</td><td>operator:&nbsp;25<br>operands:&nbsp;22<br></td><td><a class=\"ProveItLink\" href=\"../23ebee5d08a6c6ee0e9c0fe87527ec433c8f25b90/expr.ipynb\"><img src=\"../23ebee5d08a6c6ee0e9c0fe87527ec433c8f25b90/expr.png\" style=\"display:inline;vertical-align:middle;\" /></a></td></tr>\n",
       "<tr><td>19</td><td>Operation</td><td>operator:&nbsp;30<br>operand:&nbsp;29<br></td><td><a class=\"ProveItLink\" href=\"../../common/e0a0e1311f316a159cea49712cb715262ee967450/expr.ipynb\"><img src=\"../../common/e0a0e1311f316a159cea49712cb715262ee967450/expr.png\" style=\"display:inline;vertical-align:middle;\" /></a></td></tr>\n",
       "<tr><td>20</td><td>Literal</td><td></td><td><a class=\"ProveItLink\" href=\"../../../../../../numbers/numerals/__pv_it/common/af4aab8a07465db063742696e006d04670f30cf10/expr.ipynb\"><img src=\"../../../../../../numbers/numerals/__pv_it/common/af4aab8a07465db063742696e006d04670f30cf10/expr.png\" style=\"display:inline;vertical-align:middle;\" /></a></td></tr>\n",
       "<tr><td>21</td><td>ExprTuple</td><td>27, 29</td><td><a class=\"ProveItLink\" href=\"../136d7ec91caa3cc39c08f4fd898ff1b4177843a40/expr.ipynb\"><img src=\"../136d7ec91caa3cc39c08f4fd898ff1b4177843a40/expr.png\" style=\"display:inline;vertical-align:middle;\" /></a></td></tr>\n",
       "<tr><td>22</td><td>ExprTuple</td><td>24, 32</td><td><a class=\"ProveItLink\" href=\"../d31dfb7c210e6cdb4ba824347e07f30e4d49b0e90/expr.ipynb\"><img src=\"../d31dfb7c210e6cdb4ba824347e07f30e4d49b0e90/expr.png\" style=\"display:inline;vertical-align:middle;\" /></a></td></tr>\n",
       "<tr><td>23</td><td>ExprTuple</td><td>29</td><td><a class=\"ProveItLink\" href=\"../../common/04971f5ed986452ec2d9047d1e0d56faa846096b0/expr.ipynb\"><img src=\"../../common/04971f5ed986452ec2d9047d1e0d56faa846096b0/expr.png\" style=\"display:inline;vertical-align:middle;\" /></a></td></tr>\n",
       "<tr><td>24</td><td>Operation</td><td>operator:&nbsp;25<br>operands:&nbsp;26<br></td><td><a class=\"ProveItLink\" href=\"../1039c66612649e044fd92796694004fb179ccb0b0/expr.ipynb\"><img src=\"../1039c66612649e044fd92796694004fb179ccb0b0/expr.png\" style=\"display:inline;vertical-align:middle;\" /></a></td></tr>\n",
       "<tr><td>25</td><td>Literal</td><td></td><td><a class=\"ProveItLink\" href=\"../../../../../../numbers/addition/__pv_it/common/4b7effaab3619a1c2c38fe2dee8601df8ec714590/expr.ipynb\"><img src=\"../../../../../../numbers/addition/__pv_it/common/4b7effaab3619a1c2c38fe2dee8601df8ec714590/expr.png\" style=\"display:inline;vertical-align:middle;\" /></a></td></tr>\n",
       "<tr><td>26</td><td>ExprTuple</td><td>27, 28, 29</td><td><a class=\"ProveItLink\" href=\"../38c015a0d4f25771f2923fa300fb75ee34a4141c0/expr.ipynb\"><img src=\"../38c015a0d4f25771f2923fa300fb75ee34a4141c0/expr.png\" style=\"display:inline;vertical-align:middle;\" /></a></td></tr>\n",
       "<tr><td>27</td><td>Variable</td><td></td><td><a class=\"ProveItLink\" href=\"../../../../../../core_expr_types/__pv_it/common/006c465e50948aa2b52285e2de47974f741255cc0/expr.ipynb\"><img src=\"../../../../../../core_expr_types/__pv_it/common/006c465e50948aa2b52285e2de47974f741255cc0/expr.png\" style=\"display:inline;vertical-align:middle;\" /></a></td></tr>\n",
       "<tr><td>28</td><td>Operation</td><td>operator:&nbsp;30<br>operand:&nbsp;32<br></td><td><a class=\"ProveItLink\" href=\"../../../../../../numbers/addition/subtraction/__pv_it/theorems/bf4beda21975fe8a0a5007615b5bcc943da59bb20/expr.ipynb\"><img src=\"../../../../../../numbers/addition/subtraction/__pv_it/theorems/bf4beda21975fe8a0a5007615b5bcc943da59bb20/expr.png\" style=\"display:inline;vertical-align:middle;\" /></a></td></tr>\n",
       "<tr><td>29</td><td>Variable</td><td></td><td><a class=\"ProveItLink\" href=\"../../../../../../__pv_it/common/36861eae73a44b53d5b3b017ac6a3a9dae53bfba0/expr.ipynb\"><img src=\"../../../../../../__pv_it/common/36861eae73a44b53d5b3b017ac6a3a9dae53bfba0/expr.png\" style=\"display:inline;vertical-align:middle;\" /></a></td></tr>\n",
       "<tr><td>30</td><td>Literal</td><td></td><td><a class=\"ProveItLink\" href=\"../../../../../../numbers/negation/__pv_it/common/221b3c4d1770ee9051b7c044c3f9ec61196fc34b0/expr.ipynb\"><img src=\"../../../../../../numbers/negation/__pv_it/common/221b3c4d1770ee9051b7c044c3f9ec61196fc34b0/expr.png\" style=\"display:inline;vertical-align:middle;\" /></a></td></tr>\n",
       "<tr><td>31</td><td>ExprTuple</td><td>32</td><td><a class=\"ProveItLink\" href=\"../../../../../../numbers/addition/subtraction/__pv_it/theorems/b9e4f0dffece176bbe2f36127440684a20e0468e0/expr.ipynb\"><img src=\"../../../../../../numbers/addition/subtraction/__pv_it/theorems/b9e4f0dffece176bbe2f36127440684a20e0468e0/expr.png\" style=\"display:inline;vertical-align:middle;\" /></a></td></tr>\n",
       "<tr><td>32</td><td>Literal</td><td></td><td><a class=\"ProveItLink\" href=\"../../../../../../numbers/numerals/__pv_it/common/682157d4892d216d9e5626ed533aff9b56b9506e0/expr.ipynb\"><img src=\"../../../../../../numbers/numerals/__pv_it/common/682157d4892d216d9e5626ed533aff9b56b9506e0/expr.png\" style=\"display:inline;vertical-align:middle;\" /></a></td></tr>\n",
       "</table>\n"
      ],
      "text/plain": [
       "0. (|((((-t + 2) + t) = (((-t + 2) - 1 + t) + 1)), (((-t + 3) + t) = (((-t + 3) - 1 + t) + 1)), ..., ((0 + t) = ((0 - 1 + t) + 1)))|, 0 - (-t + 2) + 1)\n",
       "   core type: ExprTuple\n",
       "   sub-expressions: 1, 2\n",
       "1. |((((-t + 2) + t) = (((-t + 2) - 1 + t) + 1)), (((-t + 3) + t) = (((-t + 3) - 1 + t) + 1)), ..., ((0 + t) = ((0 - 1 + t) + 1)))|\n",
       "   core type: Operation\n",
       "   operator: 3\n",
       "   operands: 4\n",
       "2. 0 - (-t + 2) + 1\n",
       "   core type: Operation\n",
       "   operator: 25\n",
       "   operands: 5\n",
       "3. length\n",
       "   core type: Literal\n",
       "   sub-expressions: \n",
       "4. ((((-t + 2) + t) = (((-t + 2) - 1 + t) + 1)), (((-t + 3) + t) = (((-t + 3) - 1 + t) + 1)), ..., ((0 + t) = ((0 - 1 + t) + 1)))\n",
       "   core type: ExprTuple\n",
       "   sub-expressions: 6\n",
       "5. (0, -(-t + 2), 1)\n",
       "   core type: ExprTuple\n",
       "   sub-expressions: 9, 7, 32\n",
       "6. (((-t + 2) + t) = (((-t + 2) - 1 + t) + 1)), (((-t + 3) + t) = (((-t + 3) - 1 + t) + 1)), ..., ((0 + t) = ((0 - 1 + t) + 1))\n",
       "   core type: ExprRange\n",
       "   lambda_map: 8\n",
       "   start_index: 13\n",
       "   end_index: 9\n",
       "7. -(-t + 2)\n",
       "   core type: Operation\n",
       "   operator: 30\n",
       "   operand: 13\n",
       "8. _a -> ((_a + t) = ((_a - 1 + t) + 1))\n",
       "   core type: Lambda\n",
       "   parameter: 27\n",
       "   body: 12\n",
       "9. 0\n",
       "   core type: Literal\n",
       "   sub-expressions: \n",
       "10. (-t + 2)\n",
       "    core type: ExprTuple\n",
       "    sub-expressions: 13\n",
       "11. (_a)\n",
       "    core type: ExprTuple\n",
       "    sub-expressions: 27\n",
       "12. (_a + t) = ((_a - 1 + t) + 1)\n",
       "    core type: Operation\n",
       "    operator: 14\n",
       "    operands: 15\n",
       "13. -t + 2\n",
       "    core type: Operation\n",
       "    operator: 25\n",
       "    operands: 16\n",
       "14. =\n",
       "    core type: Literal\n",
       "    sub-expressions: \n",
       "15. (_a + t, (_a - 1 + t) + 1)\n",
       "    core type: ExprTuple\n",
       "    sub-expressions: 17, 18\n",
       "16. (-t, 2)\n",
       "    core type: ExprTuple\n",
       "    sub-expressions: 19, 20\n",
       "17. _a + t\n",
       "    core type: Operation\n",
       "    operator: 25\n",
       "    operands: 21\n",
       "18. (_a - 1 + t) + 1\n",
       "    core type: Operation\n",
       "    operator: 25\n",
       "    operands: 22\n",
       "19. -t\n",
       "    core type: Operation\n",
       "    operator: 30\n",
       "    operand: 29\n",
       "20. 2\n",
       "    core type: Literal\n",
       "    sub-expressions: \n",
       "21. (_a, t)\n",
       "    core type: ExprTuple\n",
       "    sub-expressions: 27, 29\n",
       "22. (_a - 1 + t, 1)\n",
       "    core type: ExprTuple\n",
       "    sub-expressions: 24, 32\n",
       "23. (t)\n",
       "    core type: ExprTuple\n",
       "    sub-expressions: 29\n",
       "24. _a - 1 + t\n",
       "    core type: Operation\n",
       "    operator: 25\n",
       "    operands: 26\n",
       "25. +\n",
       "    core type: Literal\n",
       "    sub-expressions: \n",
       "26. (_a, -1, t)\n",
       "    core type: ExprTuple\n",
       "    sub-expressions: 27, 28, 29\n",
       "27. _a\n",
       "    core type: Variable\n",
       "    sub-expressions: \n",
       "28. -1\n",
       "    core type: Operation\n",
       "    operator: 30\n",
       "    operand: 32\n",
       "29. t\n",
       "    core type: Variable\n",
       "    sub-expressions: \n",
       "30. -\n",
       "    core type: Literal\n",
       "    sub-expressions: \n",
       "31. (1)\n",
       "    core type: ExprTuple\n",
       "    sub-expressions: 32\n",
       "32. 1\n",
       "    core type: Literal\n",
       "    sub-expressions: "
      ]
     },
     "metadata": {},
     "output_type": "display_data"
    }
   ],
   "source": [
    "# display the expression information\n",
    "stored_expr.expr_info()"
   ]
  },
  {
   "cell_type": "code",
   "execution_count": null,
   "metadata": {},
   "outputs": [],
   "source": []
  }
 ],
 "metadata": {
  "kernelspec": {
   "display_name": "Python 3",
   "language": "python",
   "name": "python3"
  }
 },
 "nbformat": 4,
 "nbformat_minor": 0
}