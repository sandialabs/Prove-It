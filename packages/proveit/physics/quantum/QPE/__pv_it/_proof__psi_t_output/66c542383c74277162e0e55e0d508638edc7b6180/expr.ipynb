{
 "cells": [
  {
   "cell_type": "markdown",
   "metadata": {},
   "source": [
    "Expression of type <a class=\"ProveItLink\" href=\"../../../../../../../../doc/html/api/proveit.Lambda.html\">Lambda</a>\n",
    "=======================\n",
    "# from the theory of <a class=\"ProveItLink\" href=\"../../../_theory_nbs_/theory.ipynb\">proveit.physics.quantum.QPE</a>"
   ]
  },
  {
   "cell_type": "code",
   "execution_count": 1,
   "metadata": {},
   "outputs": [],
   "source": [
    "import proveit\n",
    "# Automation is not needed when building an expression:\n",
    "proveit.defaults.automation = False # This will speed things up.\n",
    "proveit.defaults.inline_pngs = False # Makes files smaller.\n",
    "%load_expr # Load the stored expression as 'stored_expr'\n",
    "# import Expression classes needed to build the expression\n",
    "from proveit import Lambda, Variable, t\n",
    "from proveit.numbers import Add, Neg, one"
   ]
  },
  {
   "cell_type": "code",
   "execution_count": 2,
   "metadata": {},
   "outputs": [
    {
     "data": {
      "text/html": [
       "<strong id=\"expr\">expr:</strong> <a class=\"ProveItLink\" href=\"expr.ipynb\"><img src=\"expr.png\" style=\"display:inline;vertical-align:middle;\" /></a><br>"
      ],
      "text/plain": [
       "<IPython.core.display.HTML object>"
      ]
     },
     "metadata": {},
     "output_type": "display_data"
    }
   ],
   "source": [
    "# build up the expression from sub-expressions\n",
    "sub_expr1 = Variable(\"_a\", latex_format = r\"{_{-}a}\")\n",
    "expr = Lambda(sub_expr1, Add(Add(sub_expr1, Add(Neg(t), one)), Neg(one), t))"
   ]
  },
  {
   "cell_type": "code",
   "execution_count": 3,
   "metadata": {},
   "outputs": [
    {
     "name": "stdout",
     "output_type": "stream",
     "text": [
      "Passed sanity check: expr matches stored_expr\n"
     ]
    }
   ],
   "source": [
    "# check that the built expression is the same as the stored expression\n",
    "assert expr == stored_expr\n",
    "assert expr._style_id == stored_expr._style_id\n",
    "print(\"Passed sanity check: expr matches stored_expr\")"
   ]
  },
  {
   "cell_type": "code",
   "execution_count": 4,
   "metadata": {},
   "outputs": [
    {
     "name": "stdout",
     "output_type": "stream",
     "text": [
      "{_{-}a} \\mapsto \\left(\\left({_{-}a} + \\left(-t + 1\\right)\\right) - 1 + t\\right)\n"
     ]
    }
   ],
   "source": [
    "# Show the LaTeX representation of the expression for convenience if you need it.\n",
    "print(stored_expr.latex())"
   ]
  },
  {
   "cell_type": "code",
   "execution_count": 5,
   "metadata": {},
   "outputs": [
    {
     "data": {
      "text/html": [
       "no style options"
      ],
      "text/plain": [
       "no style options"
      ]
     },
     "metadata": {},
     "output_type": "display_data"
    }
   ],
   "source": [
    "stored_expr.style_options()"
   ]
  },
  {
   "cell_type": "code",
   "execution_count": 6,
   "metadata": {},
   "outputs": [
    {
     "data": {
      "text/html": [
       "<table><tr><th>&nbsp;</th><th>core type</th><th>sub-expressions</th><th>expression</th></tr>\n",
       "<tr><td>0</td><td>Lambda</td><td>parameter:&nbsp;8<br>body:&nbsp;2<br></td><td><a class=\"ProveItLink\" href=\"expr.ipynb\"><img src=\"expr.png\" style=\"display:inline;vertical-align:middle;\" /></a></td></tr>\n",
       "<tr><td>1</td><td>ExprTuple</td><td>8</td><td><a class=\"ProveItLink\" href=\"../../../../../../core_expr_types/__pv_it/common/4b0dd6be36d76552eda6a95d5b4a27f5a5b62f900/expr.ipynb\"><img src=\"../../../../../../core_expr_types/__pv_it/common/4b0dd6be36d76552eda6a95d5b4a27f5a5b62f900/expr.png\" style=\"display:inline;vertical-align:middle;\" /></a></td></tr>\n",
       "<tr><td>2</td><td>Operation</td><td>operator:&nbsp;10<br>operands:&nbsp;3<br></td><td><a class=\"ProveItLink\" href=\"../f4cad5ed5781e2f48ac05835ca4c1604774c19230/expr.ipynb\"><img src=\"../f4cad5ed5781e2f48ac05835ca4c1604774c19230/expr.png\" style=\"display:inline;vertical-align:middle;\" /></a></td></tr>\n",
       "<tr><td>3</td><td>ExprTuple</td><td>4, 5, 16</td><td><a class=\"ProveItLink\" href=\"../4d8e6534b5720601da202600d9f75717e76ce6af0/expr.ipynb\"><img src=\"../4d8e6534b5720601da202600d9f75717e76ce6af0/expr.png\" style=\"display:inline;vertical-align:middle;\" /></a></td></tr>\n",
       "<tr><td>4</td><td>Operation</td><td>operator:&nbsp;10<br>operands:&nbsp;6<br></td><td><a class=\"ProveItLink\" href=\"../d7ae1f704ad3897ba005d417b34f67e951399ae80/expr.ipynb\"><img src=\"../d7ae1f704ad3897ba005d417b34f67e951399ae80/expr.png\" style=\"display:inline;vertical-align:middle;\" /></a></td></tr>\n",
       "<tr><td>5</td><td>Operation</td><td>operator:&nbsp;14<br>operand:&nbsp;13<br></td><td><a class=\"ProveItLink\" href=\"../../../../../../numbers/addition/subtraction/__pv_it/theorems/bf4beda21975fe8a0a5007615b5bcc943da59bb20/expr.ipynb\"><img src=\"../../../../../../numbers/addition/subtraction/__pv_it/theorems/bf4beda21975fe8a0a5007615b5bcc943da59bb20/expr.png\" style=\"display:inline;vertical-align:middle;\" /></a></td></tr>\n",
       "<tr><td>6</td><td>ExprTuple</td><td>8, 9</td><td><a class=\"ProveItLink\" href=\"../a319f1d2ca48b29c2721236b74ad200582b883b20/expr.ipynb\"><img src=\"../a319f1d2ca48b29c2721236b74ad200582b883b20/expr.png\" style=\"display:inline;vertical-align:middle;\" /></a></td></tr>\n",
       "<tr><td>7</td><td>ExprTuple</td><td>13</td><td><a class=\"ProveItLink\" href=\"../../../../../../numbers/addition/subtraction/__pv_it/theorems/b9e4f0dffece176bbe2f36127440684a20e0468e0/expr.ipynb\"><img src=\"../../../../../../numbers/addition/subtraction/__pv_it/theorems/b9e4f0dffece176bbe2f36127440684a20e0468e0/expr.png\" style=\"display:inline;vertical-align:middle;\" /></a></td></tr>\n",
       "<tr><td>8</td><td>Variable</td><td></td><td><a class=\"ProveItLink\" href=\"../../../../../../core_expr_types/__pv_it/common/006c465e50948aa2b52285e2de47974f741255cc0/expr.ipynb\"><img src=\"../../../../../../core_expr_types/__pv_it/common/006c465e50948aa2b52285e2de47974f741255cc0/expr.png\" style=\"display:inline;vertical-align:middle;\" /></a></td></tr>\n",
       "<tr><td>9</td><td>Operation</td><td>operator:&nbsp;10<br>operands:&nbsp;11<br></td><td><a class=\"ProveItLink\" href=\"../../common/a377e33c8fca34123b321baad6051b47dc5d683c0/expr.ipynb\"><img src=\"../../common/a377e33c8fca34123b321baad6051b47dc5d683c0/expr.png\" style=\"display:inline;vertical-align:middle;\" /></a></td></tr>\n",
       "<tr><td>10</td><td>Literal</td><td></td><td><a class=\"ProveItLink\" href=\"../../../../../../numbers/addition/__pv_it/common/4b7effaab3619a1c2c38fe2dee8601df8ec714590/expr.ipynb\"><img src=\"../../../../../../numbers/addition/__pv_it/common/4b7effaab3619a1c2c38fe2dee8601df8ec714590/expr.png\" style=\"display:inline;vertical-align:middle;\" /></a></td></tr>\n",
       "<tr><td>11</td><td>ExprTuple</td><td>12, 13</td><td><a class=\"ProveItLink\" href=\"../../common/8e72b8f917ab0991a456ff8905abf07907bc8a980/expr.ipynb\"><img src=\"../../common/8e72b8f917ab0991a456ff8905abf07907bc8a980/expr.png\" style=\"display:inline;vertical-align:middle;\" /></a></td></tr>\n",
       "<tr><td>12</td><td>Operation</td><td>operator:&nbsp;14<br>operand:&nbsp;16<br></td><td><a class=\"ProveItLink\" href=\"../../common/e0a0e1311f316a159cea49712cb715262ee967450/expr.ipynb\"><img src=\"../../common/e0a0e1311f316a159cea49712cb715262ee967450/expr.png\" style=\"display:inline;vertical-align:middle;\" /></a></td></tr>\n",
       "<tr><td>13</td><td>Literal</td><td></td><td><a class=\"ProveItLink\" href=\"../../../../../../numbers/numerals/__pv_it/common/682157d4892d216d9e5626ed533aff9b56b9506e0/expr.ipynb\"><img src=\"../../../../../../numbers/numerals/__pv_it/common/682157d4892d216d9e5626ed533aff9b56b9506e0/expr.png\" style=\"display:inline;vertical-align:middle;\" /></a></td></tr>\n",
       "<tr><td>14</td><td>Literal</td><td></td><td><a class=\"ProveItLink\" href=\"../../../../../../numbers/negation/__pv_it/common/221b3c4d1770ee9051b7c044c3f9ec61196fc34b0/expr.ipynb\"><img src=\"../../../../../../numbers/negation/__pv_it/common/221b3c4d1770ee9051b7c044c3f9ec61196fc34b0/expr.png\" style=\"display:inline;vertical-align:middle;\" /></a></td></tr>\n",
       "<tr><td>15</td><td>ExprTuple</td><td>16</td><td><a class=\"ProveItLink\" href=\"../../common/04971f5ed986452ec2d9047d1e0d56faa846096b0/expr.ipynb\"><img src=\"../../common/04971f5ed986452ec2d9047d1e0d56faa846096b0/expr.png\" style=\"display:inline;vertical-align:middle;\" /></a></td></tr>\n",
       "<tr><td>16</td><td>Variable</td><td></td><td><a class=\"ProveItLink\" href=\"../../../../../../__pv_it/common/36861eae73a44b53d5b3b017ac6a3a9dae53bfba0/expr.ipynb\"><img src=\"../../../../../../__pv_it/common/36861eae73a44b53d5b3b017ac6a3a9dae53bfba0/expr.png\" style=\"display:inline;vertical-align:middle;\" /></a></td></tr>\n",
       "</table>\n"
      ],
      "text/plain": [
       "0. _a -> ((_a + (-t + 1)) - 1 + t)\n",
       "   core type: Lambda\n",
       "   parameter: 8\n",
       "   body: 2\n",
       "1. (_a)\n",
       "   core type: ExprTuple\n",
       "   sub-expressions: 8\n",
       "2. (_a + (-t + 1)) - 1 + t\n",
       "   core type: Operation\n",
       "   operator: 10\n",
       "   operands: 3\n",
       "3. (_a + (-t + 1), -1, t)\n",
       "   core type: ExprTuple\n",
       "   sub-expressions: 4, 5, 16\n",
       "4. _a + (-t + 1)\n",
       "   core type: Operation\n",
       "   operator: 10\n",
       "   operands: 6\n",
       "5. -1\n",
       "   core type: Operation\n",
       "   operator: 14\n",
       "   operand: 13\n",
       "6. (_a, -t + 1)\n",
       "   core type: ExprTuple\n",
       "   sub-expressions: 8, 9\n",
       "7. (1)\n",
       "   core type: ExprTuple\n",
       "   sub-expressions: 13\n",
       "8. _a\n",
       "   core type: Variable\n",
       "   sub-expressions: \n",
       "9. -t + 1\n",
       "   core type: Operation\n",
       "   operator: 10\n",
       "   operands: 11\n",
       "10. +\n",
       "    core type: Literal\n",
       "    sub-expressions: \n",
       "11. (-t, 1)\n",
       "    core type: ExprTuple\n",
       "    sub-expressions: 12, 13\n",
       "12. -t\n",
       "    core type: Operation\n",
       "    operator: 14\n",
       "    operand: 16\n",
       "13. 1\n",
       "    core type: Literal\n",
       "    sub-expressions: \n",
       "14. -\n",
       "    core type: Literal\n",
       "    sub-expressions: \n",
       "15. (t)\n",
       "    core type: ExprTuple\n",
       "    sub-expressions: 16\n",
       "16. t\n",
       "    core type: Variable\n",
       "    sub-expressions: "
      ]
     },
     "metadata": {},
     "output_type": "display_data"
    }
   ],
   "source": [
    "# display the expression information\n",
    "stored_expr.expr_info()"
   ]
  },
  {
   "cell_type": "code",
   "execution_count": null,
   "metadata": {},
   "outputs": [],
   "source": []
  }
 ],
 "metadata": {
  "kernelspec": {
   "display_name": "Python 3",
   "language": "python",
   "name": "python3"
  }
 },
 "nbformat": 4,
 "nbformat_minor": 0
}