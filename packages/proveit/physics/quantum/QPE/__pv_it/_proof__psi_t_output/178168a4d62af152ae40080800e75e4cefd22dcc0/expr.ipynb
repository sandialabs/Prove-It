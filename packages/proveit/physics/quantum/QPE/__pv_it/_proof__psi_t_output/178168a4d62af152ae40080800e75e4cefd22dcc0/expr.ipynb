{
 "cells": [
  {
   "cell_type": "markdown",
   "metadata": {},
   "source": [
    "Expression of type <a class=\"ProveItLink\" href=\"../../../../../../../../doc/html/api/proveit.ExprTuple.html\">ExprTuple</a>\n",
    "=======================\n",
    "# from the theory of <a class=\"ProveItLink\" href=\"../../../_theory_nbs_/theory.ipynb\">proveit.physics.quantum.QPE</a>"
   ]
  },
  {
   "cell_type": "code",
   "execution_count": 1,
   "metadata": {},
   "outputs": [],
   "source": [
    "import proveit\n",
    "# Automation is not needed when building an expression:\n",
    "proveit.defaults.automation = False # This will speed things up.\n",
    "proveit.defaults.inline_pngs = False # Makes files smaller.\n",
    "%load_expr # Load the stored expression as 'stored_expr'\n",
    "# import Expression classes needed to build the expression\n",
    "from proveit import ExprRange, ExprTuple, Variable, t\n",
    "from proveit.core_expr_types import Len\n",
    "from proveit.linear_algebra import TensorProd\n",
    "from proveit.numbers import Add, Interval, one\n",
    "from proveit.physics.quantum.QPE import _ket_u, _psi_t_ket, _s\n",
    "from proveit.physics.quantum.circuits import MultiQubitElem, Output"
   ]
  },
  {
   "cell_type": "code",
   "execution_count": 2,
   "metadata": {},
   "outputs": [
    {
     "data": {
      "text/html": [
       "<strong id=\"expr\">expr:</strong> <a class=\"ProveItLink\" href=\"expr.ipynb\"><img src=\"expr.png\" style=\"display:inline;vertical-align:middle;\" /></a><br>"
      ],
      "text/plain": [
       "<IPython.core.display.HTML object>"
      ]
     },
     "metadata": {},
     "output_type": "display_data"
    }
   ],
   "source": [
    "# build up the expression from sub-expressions\n",
    "sub_expr1 = Variable(\"_a\", latex_format = r\"{_{-}a}\")\n",
    "expr = ExprTuple(Len(operands = [ExprRange(sub_expr1, MultiQubitElem(element = Output(state = TensorProd(_psi_t_ket, _ket_u), part = sub_expr1), targets = Interval(one, Add(t, _s))), one, t)]), Len(operands = [ExprRange(sub_expr1, sub_expr1, one, t)]))"
   ]
  },
  {
   "cell_type": "code",
   "execution_count": 3,
   "metadata": {},
   "outputs": [
    {
     "name": "stdout",
     "output_type": "stream",
     "text": [
      "Passed sanity check: expr matches stored_expr\n"
     ]
    }
   ],
   "source": [
    "# check that the built expression is the same as the stored expression\n",
    "assert expr == stored_expr\n",
    "assert expr._style_id == stored_expr._style_id\n",
    "print(\"Passed sanity check: expr matches stored_expr\")"
   ]
  },
  {
   "cell_type": "code",
   "execution_count": 4,
   "metadata": {},
   "outputs": [
    {
     "name": "stdout",
     "output_type": "stream",
     "text": [
      "\\left(|\\left(\\begin{array}{c} \\Qcircuit@C=1em @R=.7em{\n",
      "& & \\qout{\\lvert \\psi_{t} \\rangle {\\otimes} \\lvert u \\rangle~\\mbox{part}~1~\\mbox{on}~\\{1~\\ldotp \\ldotp~t + s\\}} \n",
      "} \\end{array}, \\begin{array}{c} \\Qcircuit@C=1em @R=.7em{\n",
      "& & \\qout{\\lvert \\psi_{t} \\rangle {\\otimes} \\lvert u \\rangle~\\mbox{part}~2~\\mbox{on}~\\{1~\\ldotp \\ldotp~t + s\\}} \n",
      "} \\end{array}, \\ldots, \\begin{array}{c} \\Qcircuit@C=1em @R=.7em{\n",
      "& & \\qout{\\lvert \\psi_{t} \\rangle {\\otimes} \\lvert u \\rangle~\\mbox{part}~t~\\mbox{on}~\\{1~\\ldotp \\ldotp~t + s\\}} \n",
      "} \\end{array}\\right)|, |\\left(1, 2, \\ldots, t\\right)|\\right)\n"
     ]
    }
   ],
   "source": [
    "# Show the LaTeX representation of the expression for convenience if you need it.\n",
    "print(stored_expr.latex())"
   ]
  },
  {
   "cell_type": "code",
   "execution_count": 5,
   "metadata": {},
   "outputs": [
    {
     "data": {
      "text/html": [
       "<table>\n",
       "<tr><th>name</th><th>description</th><th>default</th><th>current value</th><th>related methods</th></tr><tr><td>wrap_positions</td><td>position(s) at which wrapping is to occur; 'n' is after the nth comma.</td><td>()</td><td>()</td><td>('with_wrapping_at',)</td></tr>\n",
       "<tr><td>justification</td><td>if any wrap positions are set, justify to the 'left', 'center', or 'right'</td><td>left</td><td>left</td><td>('with_justification',)</td></tr>\n",
       "</table>\n"
      ],
      "text/plain": [
       "style name: wrap_positions\n",
       "description: position(s) at which wrapping is to occur; 'n' is after the nth comma.\n",
       "default: ()\n",
       "current value: ()\n",
       "related methods: ('with_wrapping_at',)\n",
       "style name: justification\n",
       "description: if any wrap positions are set, justify to the 'left', 'center', or 'right'\n",
       "default: left\n",
       "current value: left\n",
       "related methods: ('with_justification',)"
      ]
     },
     "metadata": {},
     "output_type": "display_data"
    }
   ],
   "source": [
    "stored_expr.style_options()"
   ]
  },
  {
   "cell_type": "code",
   "execution_count": 6,
   "metadata": {},
   "outputs": [
    {
     "data": {
      "text/html": [
       "<table><tr><th>&nbsp;</th><th>core type</th><th>sub-expressions</th><th>expression</th></tr>\n",
       "<tr><td>0</td><td>ExprTuple</td><td>1, 2</td><td><a class=\"ProveItLink\" href=\"expr.ipynb\"><img src=\"expr.png\" style=\"display:inline;vertical-align:middle;\" /></a></td></tr>\n",
       "<tr><td>1</td><td>Operation</td><td>operator:&nbsp;4<br>operands:&nbsp;3<br></td><td><a class=\"ProveItLink\" href=\"../af9314f1f23b765c9c632a1fec432b67937febc90/expr.ipynb\"><img src=\"../af9314f1f23b765c9c632a1fec432b67937febc90/expr.png\" style=\"display:inline;vertical-align:middle;\" /></a></td></tr>\n",
       "<tr><td>2</td><td>Operation</td><td>operator:&nbsp;4<br>operands:&nbsp;5<br></td><td><a class=\"ProveItLink\" href=\"../a9c5508f0d7727c4a259af6ee276e6951246c83d0/expr.ipynb\"><img src=\"../a9c5508f0d7727c4a259af6ee276e6951246c83d0/expr.png\" style=\"display:inline;vertical-align:middle;\" /></a></td></tr>\n",
       "<tr><td>3</td><td>ExprTuple</td><td>6</td><td><a class=\"ProveItLink\" href=\"../6d151ab01d15e9fbadc2a2fea614db385dff0c4a0/expr.ipynb\"><img src=\"../6d151ab01d15e9fbadc2a2fea614db385dff0c4a0/expr.png\" style=\"display:inline;vertical-align:middle;\" /></a></td></tr>\n",
       "<tr><td>4</td><td>Literal</td><td></td><td><a class=\"ProveItLink\" href=\"../../../../../../core_expr_types/tuples/__pv_it/common/43df765abf1294d8f1fd177863f57f08bf5ad0080/expr.ipynb\"><img src=\"../../../../../../core_expr_types/tuples/__pv_it/common/43df765abf1294d8f1fd177863f57f08bf5ad0080/expr.png\" style=\"display:inline;vertical-align:middle;\" /></a></td></tr>\n",
       "<tr><td>5</td><td>ExprTuple</td><td>7</td><td><a class=\"ProveItLink\" href=\"../eaddae9a1fa96c5b225c43afe2222d4bfa597b1b0/expr.ipynb\"><img src=\"../eaddae9a1fa96c5b225c43afe2222d4bfa597b1b0/expr.png\" style=\"display:inline;vertical-align:middle;\" /></a></td></tr>\n",
       "<tr><td>6</td><td>ExprRange</td><td>lambda_map:&nbsp;8<br>start_index:&nbsp;22<br>end_index:&nbsp;33<br></td><td><a class=\"ProveItLink\" href=\"../275b7f83fc4fb12b998f0b63f4bf2ef0d804b8800/expr.ipynb\"><img src=\"../275b7f83fc4fb12b998f0b63f4bf2ef0d804b8800/expr.png\" style=\"display:inline;vertical-align:middle;\" /></a></td></tr>\n",
       "<tr><td>7</td><td>ExprRange</td><td>lambda_map:&nbsp;9<br>start_index:&nbsp;22<br>end_index:&nbsp;33<br></td><td><a class=\"ProveItLink\" href=\"../d76c04350d14624c63c4afe7978d0965c10f81b50/expr.ipynb\"><img src=\"../d76c04350d14624c63c4afe7978d0965c10f81b50/expr.png\" style=\"display:inline;vertical-align:middle;\" /></a></td></tr>\n",
       "<tr><td>8</td><td>Lambda</td><td>parameter:&nbsp;21<br>body:&nbsp;10<br></td><td><a class=\"ProveItLink\" href=\"../a520fffc6b93e3a421f0592012f0a1a374a3606a0/expr.ipynb\"><img src=\"../a520fffc6b93e3a421f0592012f0a1a374a3606a0/expr.png\" style=\"display:inline;vertical-align:middle;\" /></a></td></tr>\n",
       "<tr><td>9</td><td>Lambda</td><td>parameter:&nbsp;21<br>body:&nbsp;21<br></td><td><a class=\"ProveItLink\" href=\"../../../../../../core_expr_types/__pv_it/common/90e08240ada6ff34ada724205d9cb9b31f4aecbd0/expr.ipynb\"><img src=\"../../../../../../core_expr_types/__pv_it/common/90e08240ada6ff34ada724205d9cb9b31f4aecbd0/expr.png\" style=\"display:inline;vertical-align:middle;\" /></a></td></tr>\n",
       "<tr><td>10</td><td>Operation</td><td>operator:&nbsp;12<br>operands:&nbsp;13<br></td><td><a class=\"ProveItLink\" href=\"../2bc95077ced35393d36f69c24ac81b81d9c0e1330/expr.ipynb\"><img src=\"../2bc95077ced35393d36f69c24ac81b81d9c0e1330/expr.png\" style=\"display:inline;vertical-align:middle;\" /></a></td></tr>\n",
       "<tr><td>11</td><td>ExprTuple</td><td>21</td><td><a class=\"ProveItLink\" href=\"../../../../../../core_expr_types/__pv_it/common/4b0dd6be36d76552eda6a95d5b4a27f5a5b62f900/expr.ipynb\"><img src=\"../../../../../../core_expr_types/__pv_it/common/4b0dd6be36d76552eda6a95d5b4a27f5a5b62f900/expr.png\" style=\"display:inline;vertical-align:middle;\" /></a></td></tr>\n",
       "<tr><td>12</td><td>Literal</td><td></td><td><a class=\"ProveItLink\" href=\"../../../../circuits/__pv_it/common/5eaa43008f05c06941080a12337ff182ea14996e0/expr.ipynb\"><img src=\"../../../../circuits/__pv_it/common/5eaa43008f05c06941080a12337ff182ea14996e0/expr.png\" style=\"display:inline;vertical-align:middle;\" /></a></td></tr>\n",
       "<tr><td>13</td><td>NamedExprs</td><td>element: 14<br>targets: 15<br></td><td><a class=\"ProveItLink\" href=\"../37d638f1a05cd0db10d9c1881b1c412d30a1a2ae0/expr.ipynb\"><img src=\"../37d638f1a05cd0db10d9c1881b1c412d30a1a2ae0/expr.png\" style=\"display:inline;vertical-align:middle;\" /></a></td></tr>\n",
       "<tr><td>14</td><td>Operation</td><td>operator:&nbsp;16<br>operands:&nbsp;17<br></td><td><a class=\"ProveItLink\" href=\"../1859f15d8f65ee0c81b0652f925279c8319212540/expr.ipynb\"><img src=\"../1859f15d8f65ee0c81b0652f925279c8319212540/expr.png\" style=\"display:inline;vertical-align:middle;\" /></a></td></tr>\n",
       "<tr><td>15</td><td>Operation</td><td>operator:&nbsp;18<br>operands:&nbsp;19<br></td><td><a class=\"ProveItLink\" href=\"../../theorems/8b1bca84bb9ee4c20163dea5f85ded4dcaf247080/expr.ipynb\"><img src=\"../../theorems/8b1bca84bb9ee4c20163dea5f85ded4dcaf247080/expr.png\" style=\"display:inline;vertical-align:middle;\" /></a></td></tr>\n",
       "<tr><td>16</td><td>Literal</td><td></td><td><a class=\"ProveItLink\" href=\"../../../../circuits/__pv_it/common/00345a9c4f4d361e0b6e8bbbbe5a33a8ec86a20b0/expr.ipynb\"><img src=\"../../../../circuits/__pv_it/common/00345a9c4f4d361e0b6e8bbbbe5a33a8ec86a20b0/expr.png\" style=\"display:inline;vertical-align:middle;\" /></a></td></tr>\n",
       "<tr><td>17</td><td>NamedExprs</td><td>state: 20<br>part: 21<br></td><td><a class=\"ProveItLink\" href=\"../673037c50c552f0854c5e7fddf6f408fc032b9430/expr.ipynb\"><img src=\"../673037c50c552f0854c5e7fddf6f408fc032b9430/expr.png\" style=\"display:inline;vertical-align:middle;\" /></a></td></tr>\n",
       "<tr><td>18</td><td>Literal</td><td></td><td><a class=\"ProveItLink\" href=\"../../../../../../numbers/number_sets/integers/__pv_it/common/92f3a0a77e3c3ea8e4a5c8674edadc54e4f57d550/expr.ipynb\"><img src=\"../../../../../../numbers/number_sets/integers/__pv_it/common/92f3a0a77e3c3ea8e4a5c8674edadc54e4f57d550/expr.png\" style=\"display:inline;vertical-align:middle;\" /></a></td></tr>\n",
       "<tr><td>19</td><td>ExprTuple</td><td>22, 23</td><td><a class=\"ProveItLink\" href=\"../../theorems/3f423dad95fd45dde4f32a2a3edac43eb31fdbb40/expr.ipynb\"><img src=\"../../theorems/3f423dad95fd45dde4f32a2a3edac43eb31fdbb40/expr.png\" style=\"display:inline;vertical-align:middle;\" /></a></td></tr>\n",
       "<tr><td>20</td><td>Operation</td><td>operator:&nbsp;24<br>operands:&nbsp;25<br></td><td><a class=\"ProveItLink\" href=\"../9d03c9d631d599f40ce9646915f4138f5f55c6e00/expr.ipynb\"><img src=\"../9d03c9d631d599f40ce9646915f4138f5f55c6e00/expr.png\" style=\"display:inline;vertical-align:middle;\" /></a></td></tr>\n",
       "<tr><td>21</td><td>Variable</td><td></td><td><a class=\"ProveItLink\" href=\"../../../../../../core_expr_types/__pv_it/common/006c465e50948aa2b52285e2de47974f741255cc0/expr.ipynb\"><img src=\"../../../../../../core_expr_types/__pv_it/common/006c465e50948aa2b52285e2de47974f741255cc0/expr.png\" style=\"display:inline;vertical-align:middle;\" /></a></td></tr>\n",
       "<tr><td>22</td><td>Literal</td><td></td><td><a class=\"ProveItLink\" href=\"../../../../../../numbers/numerals/__pv_it/common/682157d4892d216d9e5626ed533aff9b56b9506e0/expr.ipynb\"><img src=\"../../../../../../numbers/numerals/__pv_it/common/682157d4892d216d9e5626ed533aff9b56b9506e0/expr.png\" style=\"display:inline;vertical-align:middle;\" /></a></td></tr>\n",
       "<tr><td>23</td><td>Operation</td><td>operator:&nbsp;26<br>operands:&nbsp;27<br></td><td><a class=\"ProveItLink\" href=\"../../theorems/d2d49f53ed6c0d9ac7dc8d27b9cf718603e9bc9d0/expr.ipynb\"><img src=\"../../theorems/d2d49f53ed6c0d9ac7dc8d27b9cf718603e9bc9d0/expr.png\" style=\"display:inline;vertical-align:middle;\" /></a></td></tr>\n",
       "<tr><td>24</td><td>Literal</td><td></td><td><a class=\"ProveItLink\" href=\"../../../../../../linear_algebra/tensors/__pv_it/common/7fa25b05174babb4710be62d63ebd43f68aa2fec0/expr.ipynb\"><img src=\"../../../../../../linear_algebra/tensors/__pv_it/common/7fa25b05174babb4710be62d63ebd43f68aa2fec0/expr.png\" style=\"display:inline;vertical-align:middle;\" /></a></td></tr>\n",
       "<tr><td>25</td><td>ExprTuple</td><td>28, 29</td><td><a class=\"ProveItLink\" href=\"../a0db1570b11e83734937500a434ee51fffa464a80/expr.ipynb\"><img src=\"../a0db1570b11e83734937500a434ee51fffa464a80/expr.png\" style=\"display:inline;vertical-align:middle;\" /></a></td></tr>\n",
       "<tr><td>26</td><td>Literal</td><td></td><td><a class=\"ProveItLink\" href=\"../../../../../../numbers/addition/__pv_it/common/4b7effaab3619a1c2c38fe2dee8601df8ec714590/expr.ipynb\"><img src=\"../../../../../../numbers/addition/__pv_it/common/4b7effaab3619a1c2c38fe2dee8601df8ec714590/expr.png\" style=\"display:inline;vertical-align:middle;\" /></a></td></tr>\n",
       "<tr><td>27</td><td>ExprTuple</td><td>33, 30</td><td><a class=\"ProveItLink\" href=\"../../theorems/f3cff4586a5d1e7c2858f11ee1a5ac76adcdcc010/expr.ipynb\"><img src=\"../../theorems/f3cff4586a5d1e7c2858f11ee1a5ac76adcdcc010/expr.png\" style=\"display:inline;vertical-align:middle;\" /></a></td></tr>\n",
       "<tr><td>28</td><td>Operation</td><td>operator:&nbsp;31<br>operand:&nbsp;33<br></td><td><a class=\"ProveItLink\" href=\"../../common/b3612284596c95f78b4fe90ba4066e839001e5710/expr.ipynb\"><img src=\"../../common/b3612284596c95f78b4fe90ba4066e839001e5710/expr.png\" style=\"display:inline;vertical-align:middle;\" /></a></td></tr>\n",
       "<tr><td>29</td><td>Literal</td><td></td><td><a class=\"ProveItLink\" href=\"../../common/ca39d48f285e5b8b9c4fc5a4225a68cd859974bc0/expr.ipynb\"><img src=\"../../common/ca39d48f285e5b8b9c4fc5a4225a68cd859974bc0/expr.png\" style=\"display:inline;vertical-align:middle;\" /></a></td></tr>\n",
       "<tr><td>30</td><td>Literal</td><td></td><td><a class=\"ProveItLink\" href=\"../../common/8a1628c4cfc7b78e5c5de183ba3f5cff0b20d4dd0/expr.ipynb\"><img src=\"../../common/8a1628c4cfc7b78e5c5de183ba3f5cff0b20d4dd0/expr.png\" style=\"display:inline;vertical-align:middle;\" /></a></td></tr>\n",
       "<tr><td>31</td><td>Literal</td><td></td><td><a class=\"ProveItLink\" href=\"../../common/3cd01098f6477695c5f95f3614ef4302a3a569f40/expr.ipynb\"><img src=\"../../common/3cd01098f6477695c5f95f3614ef4302a3a569f40/expr.png\" style=\"display:inline;vertical-align:middle;\" /></a></td></tr>\n",
       "<tr><td>32</td><td>ExprTuple</td><td>33</td><td><a class=\"ProveItLink\" href=\"../../common/04971f5ed986452ec2d9047d1e0d56faa846096b0/expr.ipynb\"><img src=\"../../common/04971f5ed986452ec2d9047d1e0d56faa846096b0/expr.png\" style=\"display:inline;vertical-align:middle;\" /></a></td></tr>\n",
       "<tr><td>33</td><td>Variable</td><td></td><td><a class=\"ProveItLink\" href=\"../../../../../../__pv_it/common/36861eae73a44b53d5b3b017ac6a3a9dae53bfba0/expr.ipynb\"><img src=\"../../../../../../__pv_it/common/36861eae73a44b53d5b3b017ac6a3a9dae53bfba0/expr.png\" style=\"display:inline;vertical-align:middle;\" /></a></td></tr>\n",
       "</table>\n"
      ],
      "text/plain": [
       "0. (|([MULTI_QUBIT_ELEM]{element:[OUTPUT]{state:(|psi_{t}> otimes |u>), part:1}, targets:{1 .. t + s}}, [MULTI_QUBIT_ELEM]{element:[OUTPUT]{state:(|psi_{t}> otimes |u>), part:2}, targets:{1 .. t + s}}, ..., [MULTI_QUBIT_ELEM]{element:[OUTPUT]{state:(|psi_{t}> otimes |u>), part:t}, targets:{1 .. t + s}})|, |(1, 2, ..., t)|)\n",
       "   core type: ExprTuple\n",
       "   sub-expressions: 1, 2\n",
       "1. |([MULTI_QUBIT_ELEM]{element:[OUTPUT]{state:(|psi_{t}> otimes |u>), part:1}, targets:{1 .. t + s}}, [MULTI_QUBIT_ELEM]{element:[OUTPUT]{state:(|psi_{t}> otimes |u>), part:2}, targets:{1 .. t + s}}, ..., [MULTI_QUBIT_ELEM]{element:[OUTPUT]{state:(|psi_{t}> otimes |u>), part:t}, targets:{1 .. t + s}})|\n",
       "   core type: Operation\n",
       "   operator: 4\n",
       "   operands: 3\n",
       "2. |(1, 2, ..., t)|\n",
       "   core type: Operation\n",
       "   operator: 4\n",
       "   operands: 5\n",
       "3. ([MULTI_QUBIT_ELEM]{element:[OUTPUT]{state:(|psi_{t}> otimes |u>), part:1}, targets:{1 .. t + s}}, [MULTI_QUBIT_ELEM]{element:[OUTPUT]{state:(|psi_{t}> otimes |u>), part:2}, targets:{1 .. t + s}}, ..., [MULTI_QUBIT_ELEM]{element:[OUTPUT]{state:(|psi_{t}> otimes |u>), part:t}, targets:{1 .. t + s}})\n",
       "   core type: ExprTuple\n",
       "   sub-expressions: 6\n",
       "4. length\n",
       "   core type: Literal\n",
       "   sub-expressions: \n",
       "5. (1, 2, ..., t)\n",
       "   core type: ExprTuple\n",
       "   sub-expressions: 7\n",
       "6. [MULTI_QUBIT_ELEM]{element:[OUTPUT]{state:(|psi_{t}> otimes |u>), part:1}, targets:{1 .. t + s}}, [MULTI_QUBIT_ELEM]{element:[OUTPUT]{state:(|psi_{t}> otimes |u>), part:2}, targets:{1 .. t + s}}, ..., [MULTI_QUBIT_ELEM]{element:[OUTPUT]{state:(|psi_{t}> otimes |u>), part:t}, targets:{1 .. t + s}}\n",
       "   core type: ExprRange\n",
       "   lambda_map: 8\n",
       "   start_index: 22\n",
       "   end_index: 33\n",
       "7. 1, 2, ..., t\n",
       "   core type: ExprRange\n",
       "   lambda_map: 9\n",
       "   start_index: 22\n",
       "   end_index: 33\n",
       "8. _a -> [MULTI_QUBIT_ELEM]{element:[OUTPUT]{state:(|psi_{t}> otimes |u>), part:_a}, targets:{1 .. t + s}}\n",
       "   core type: Lambda\n",
       "   parameter: 21\n",
       "   body: 10\n",
       "9. _a -> _a\n",
       "   core type: Lambda\n",
       "   parameter: 21\n",
       "   body: 21\n",
       "10. [MULTI_QUBIT_ELEM]{element:[OUTPUT]{state:(|psi_{t}> otimes |u>), part:_a}, targets:{1 .. t + s}}\n",
       "    core type: Operation\n",
       "    operator: 12\n",
       "    operands: 13\n",
       "11. (_a)\n",
       "    core type: ExprTuple\n",
       "    sub-expressions: 21\n",
       "12. MULTI_QUBIT_ELEM\n",
       "    core type: Literal\n",
       "    sub-expressions: \n",
       "13. {element:[OUTPUT]{state:(|psi_{t}> otimes |u>), part:_a}, targets:{1 .. t + s}}\n",
       "    core type: NamedExprs\n",
       "    element: 14\n",
       "    targets: 15\n",
       "14. [OUTPUT]{state:(|psi_{t}> otimes |u>), part:_a}\n",
       "    core type: Operation\n",
       "    operator: 16\n",
       "    operands: 17\n",
       "15. {1 .. t + s}\n",
       "    core type: Operation\n",
       "    operator: 18\n",
       "    operands: 19\n",
       "16. OUTPUT\n",
       "    core type: Literal\n",
       "    sub-expressions: \n",
       "17. {state:(|psi_{t}> otimes |u>), part:_a}\n",
       "    core type: NamedExprs\n",
       "    state: 20\n",
       "    part: 21\n",
       "18. Interval\n",
       "    core type: Literal\n",
       "    sub-expressions: \n",
       "19. (1, t + s)\n",
       "    core type: ExprTuple\n",
       "    sub-expressions: 22, 23\n",
       "20. |psi_{t}> otimes |u>\n",
       "    core type: Operation\n",
       "    operator: 24\n",
       "    operands: 25\n",
       "21. _a\n",
       "    core type: Variable\n",
       "    sub-expressions: \n",
       "22. 1\n",
       "    core type: Literal\n",
       "    sub-expressions: \n",
       "23. t + s\n",
       "    core type: Operation\n",
       "    operator: 26\n",
       "    operands: 27\n",
       "24. otimes\n",
       "    core type: Literal\n",
       "    sub-expressions: \n",
       "25. (|psi_{t}>, |u>)\n",
       "    core type: ExprTuple\n",
       "    sub-expressions: 28, 29\n",
       "26. +\n",
       "    core type: Literal\n",
       "    sub-expressions: \n",
       "27. (t, s)\n",
       "    core type: ExprTuple\n",
       "    sub-expressions: 33, 30\n",
       "28. |psi_{t}>\n",
       "    core type: Operation\n",
       "    operator: 31\n",
       "    operand: 33\n",
       "29. |u>\n",
       "    core type: Literal\n",
       "    sub-expressions: \n",
       "30. s\n",
       "    core type: Literal\n",
       "    sub-expressions: \n",
       "31. psi\n",
       "    core type: Literal\n",
       "    sub-expressions: \n",
       "32. (t)\n",
       "    core type: ExprTuple\n",
       "    sub-expressions: 33\n",
       "33. t\n",
       "    core type: Variable\n",
       "    sub-expressions: "
      ]
     },
     "metadata": {},
     "output_type": "display_data"
    }
   ],
   "source": [
    "# display the expression information\n",
    "stored_expr.expr_info()"
   ]
  },
  {
   "cell_type": "code",
   "execution_count": null,
   "metadata": {},
   "outputs": [],
   "source": []
  }
 ],
 "metadata": {
  "kernelspec": {
   "display_name": "Python 3",
   "language": "python",
   "name": "python3"
  }
 },
 "nbformat": 4,
 "nbformat_minor": 0
}