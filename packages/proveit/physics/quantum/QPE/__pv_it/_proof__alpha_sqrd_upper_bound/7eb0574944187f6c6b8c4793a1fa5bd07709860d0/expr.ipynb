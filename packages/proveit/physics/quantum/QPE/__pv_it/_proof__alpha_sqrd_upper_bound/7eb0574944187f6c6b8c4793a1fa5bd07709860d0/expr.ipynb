{
 "cells": [
  {
   "cell_type": "markdown",
   "metadata": {},
   "source": [
    "Expression of type <a class=\"ProveItLink\" href=\"../../../../../../../../doc/html/api/proveit.ExprTuple.html\">ExprTuple</a>\n",
    "=======================\n",
    "# from the theory of <a class=\"ProveItLink\" href=\"../../../_theory_nbs_/theory.ipynb\">proveit.physics.quantum.QPE</a>"
   ]
  },
  {
   "cell_type": "code",
   "execution_count": 1,
   "metadata": {},
   "outputs": [],
   "source": [
    "import proveit\n",
    "# Automation is not needed when building an expression:\n",
    "proveit.defaults.automation = False # This will speed things up.\n",
    "proveit.defaults.inline_pngs = False # Makes files smaller.\n",
    "%load_expr # Load the stored expression as 'stored_expr'\n",
    "# import Expression classes needed to build the expression\n",
    "from proveit import ExprTuple, l\n",
    "from proveit.numbers import Abs, Mult, frac, pi, subtract, two\n",
    "from proveit.physics.quantum.QPE import _delta_b_floor, _two_pow_t\n",
    "from proveit.trigonometry import Sin"
   ]
  },
  {
   "cell_type": "code",
   "execution_count": 2,
   "metadata": {},
   "outputs": [
    {
     "data": {
      "text/html": [
       "<strong id=\"expr\">expr:</strong> <a class=\"ProveItLink\" href=\"expr.ipynb\"><img src=\"expr.png\" style=\"display:inline;vertical-align:middle;\" /></a><br>"
      ],
      "text/plain": [
       "<IPython.core.display.HTML object>"
      ]
     },
     "metadata": {},
     "output_type": "display_data"
    }
   ],
   "source": [
    "# build up the expression from sub-expressions\n",
    "sub_expr1 = Abs(subtract(_delta_b_floor, frac(l, _two_pow_t)))\n",
    "expr = ExprTuple(Mult(two, sub_expr1), Sin(Mult(pi, sub_expr1)))"
   ]
  },
  {
   "cell_type": "code",
   "execution_count": 3,
   "metadata": {},
   "outputs": [
    {
     "name": "stdout",
     "output_type": "stream",
     "text": [
      "Passed sanity check: expr matches stored_expr\n"
     ]
    }
   ],
   "source": [
    "# check that the built expression is the same as the stored expression\n",
    "assert expr == stored_expr\n",
    "assert expr._style_id == stored_expr._style_id\n",
    "print(\"Passed sanity check: expr matches stored_expr\")"
   ]
  },
  {
   "cell_type": "code",
   "execution_count": 4,
   "metadata": {},
   "outputs": [
    {
     "name": "stdout",
     "output_type": "stream",
     "text": [
      "\\left(2 \\cdot \\left|\\delta_{b_{\\textit{f}}} - \\frac{l}{2^{t}}\\right|, \\sin{\\left(\\pi \\cdot \\left|\\delta_{b_{\\textit{f}}} - \\frac{l}{2^{t}}\\right|\\right)}\\right)\n"
     ]
    }
   ],
   "source": [
    "# Show the LaTeX representation of the expression for convenience if you need it.\n",
    "print(stored_expr.latex())"
   ]
  },
  {
   "cell_type": "code",
   "execution_count": 5,
   "metadata": {},
   "outputs": [
    {
     "data": {
      "text/html": [
       "<table>\n",
       "<tr><th>name</th><th>description</th><th>default</th><th>current value</th><th>related methods</th></tr><tr><td>wrap_positions</td><td>position(s) at which wrapping is to occur; 'n' is after the nth comma.</td><td>()</td><td>()</td><td>('with_wrapping_at',)</td></tr>\n",
       "<tr><td>justification</td><td>if any wrap positions are set, justify to the 'left', 'center', or 'right'</td><td>left</td><td>left</td><td>('with_justification',)</td></tr>\n",
       "</table>\n"
      ],
      "text/plain": [
       "style name: wrap_positions\n",
       "description: position(s) at which wrapping is to occur; 'n' is after the nth comma.\n",
       "default: ()\n",
       "current value: ()\n",
       "related methods: ('with_wrapping_at',)\n",
       "style name: justification\n",
       "description: if any wrap positions are set, justify to the 'left', 'center', or 'right'\n",
       "default: left\n",
       "current value: left\n",
       "related methods: ('with_justification',)"
      ]
     },
     "metadata": {},
     "output_type": "display_data"
    }
   ],
   "source": [
    "stored_expr.style_options()"
   ]
  },
  {
   "cell_type": "code",
   "execution_count": 6,
   "metadata": {},
   "outputs": [
    {
     "data": {
      "text/html": [
       "<table><tr><th>&nbsp;</th><th>core type</th><th>sub-expressions</th><th>expression</th></tr>\n",
       "<tr><td>0</td><td>ExprTuple</td><td>1, 2</td><td><a class=\"ProveItLink\" href=\"expr.ipynb\"><img src=\"expr.png\" style=\"display:inline;vertical-align:middle;\" /></a></td></tr>\n",
       "<tr><td>1</td><td>Operation</td><td>operator:&nbsp;7<br>operands:&nbsp;3<br></td><td><a class=\"ProveItLink\" href=\"../2048f0a9666a619f47c8f698d0c6b3af40e650520/expr.ipynb\"><img src=\"../2048f0a9666a619f47c8f698d0c6b3af40e650520/expr.png\" style=\"display:inline;vertical-align:middle;\" /></a></td></tr>\n",
       "<tr><td>2</td><td>Operation</td><td>operator:&nbsp;4<br>operand:&nbsp;6<br></td><td><a class=\"ProveItLink\" href=\"../fd7a262a78fda93daf81e918d72983d0cf270a320/expr.ipynb\"><img src=\"../fd7a262a78fda93daf81e918d72983d0cf270a320/expr.png\" style=\"display:inline;vertical-align:middle;\" /></a></td></tr>\n",
       "<tr><td>3</td><td>ExprTuple</td><td>30, 10</td><td><a class=\"ProveItLink\" href=\"../ac488fbe141a2e9af13b61e3437139d7400cafe50/expr.ipynb\"><img src=\"../ac488fbe141a2e9af13b61e3437139d7400cafe50/expr.png\" style=\"display:inline;vertical-align:middle;\" /></a></td></tr>\n",
       "<tr><td>4</td><td>Literal</td><td></td><td><a class=\"ProveItLink\" href=\"../../../../../../trigonometry/__pv_it/common/74595f13699450f0507665bef91ec92c40b682690/expr.ipynb\"><img src=\"../../../../../../trigonometry/__pv_it/common/74595f13699450f0507665bef91ec92c40b682690/expr.png\" style=\"display:inline;vertical-align:middle;\" /></a></td></tr>\n",
       "<tr><td>5</td><td>ExprTuple</td><td>6</td><td><a class=\"ProveItLink\" href=\"../e428693665491d4d6bfdfea6be4752cfe0c692010/expr.ipynb\"><img src=\"../e428693665491d4d6bfdfea6be4752cfe0c692010/expr.png\" style=\"display:inline;vertical-align:middle;\" /></a></td></tr>\n",
       "<tr><td>6</td><td>Operation</td><td>operator:&nbsp;7<br>operands:&nbsp;8<br></td><td><a class=\"ProveItLink\" href=\"../../theorems/a6ed576501d289cb8457c8918e7ee492d8b550920/expr.ipynb\"><img src=\"../../theorems/a6ed576501d289cb8457c8918e7ee492d8b550920/expr.png\" style=\"display:inline;vertical-align:middle;\" /></a></td></tr>\n",
       "<tr><td>7</td><td>Literal</td><td></td><td><a class=\"ProveItLink\" href=\"../../../../../../numbers/multiplication/__pv_it/common/ed719cef37831779c16481533a4d380a2f95ab270/expr.ipynb\"><img src=\"../../../../../../numbers/multiplication/__pv_it/common/ed719cef37831779c16481533a4d380a2f95ab270/expr.png\" style=\"display:inline;vertical-align:middle;\" /></a></td></tr>\n",
       "<tr><td>8</td><td>ExprTuple</td><td>9, 10</td><td><a class=\"ProveItLink\" href=\"../../theorems/81bc491d9cb9a1fbdcf48d3ed35c447307ea4fc20/expr.ipynb\"><img src=\"../../theorems/81bc491d9cb9a1fbdcf48d3ed35c447307ea4fc20/expr.png\" style=\"display:inline;vertical-align:middle;\" /></a></td></tr>\n",
       "<tr><td>9</td><td>Literal</td><td></td><td><a class=\"ProveItLink\" href=\"../../../../../../numbers/number_sets/real_numbers/__pv_it/common/246c206266ac5b48800e508d580f91767b24c2df0/expr.ipynb\"><img src=\"../../../../../../numbers/number_sets/real_numbers/__pv_it/common/246c206266ac5b48800e508d580f91767b24c2df0/expr.png\" style=\"display:inline;vertical-align:middle;\" /></a></td></tr>\n",
       "<tr><td>10</td><td>Operation</td><td>operator:&nbsp;11<br>operand:&nbsp;13<br></td><td><a class=\"ProveItLink\" href=\"../../theorems/831c4d5a8674ac1589f87cc2751d3031b5ab0fd80/expr.ipynb\"><img src=\"../../theorems/831c4d5a8674ac1589f87cc2751d3031b5ab0fd80/expr.png\" style=\"display:inline;vertical-align:middle;\" /></a></td></tr>\n",
       "<tr><td>11</td><td>Literal</td><td></td><td><a class=\"ProveItLink\" href=\"../../../../../../numbers/absolute_value/__pv_it/common/eea56c667bc0aad2dc76ed04b44c2bd98b94005f0/expr.ipynb\"><img src=\"../../../../../../numbers/absolute_value/__pv_it/common/eea56c667bc0aad2dc76ed04b44c2bd98b94005f0/expr.png\" style=\"display:inline;vertical-align:middle;\" /></a></td></tr>\n",
       "<tr><td>12</td><td>ExprTuple</td><td>13</td><td><a class=\"ProveItLink\" href=\"../../theorems/2576445c54f4971a024a89d2abe03c9a601708d40/expr.ipynb\"><img src=\"../../theorems/2576445c54f4971a024a89d2abe03c9a601708d40/expr.png\" style=\"display:inline;vertical-align:middle;\" /></a></td></tr>\n",
       "<tr><td>13</td><td>Operation</td><td>operator:&nbsp;14<br>operands:&nbsp;15<br></td><td><a class=\"ProveItLink\" href=\"../../theorems/2228158b78aa92fcfb8b2e84364951b48aac82970/expr.ipynb\"><img src=\"../../theorems/2228158b78aa92fcfb8b2e84364951b48aac82970/expr.png\" style=\"display:inline;vertical-align:middle;\" /></a></td></tr>\n",
       "<tr><td>14</td><td>Literal</td><td></td><td><a class=\"ProveItLink\" href=\"../../../../../../numbers/addition/__pv_it/common/4b7effaab3619a1c2c38fe2dee8601df8ec714590/expr.ipynb\"><img src=\"../../../../../../numbers/addition/__pv_it/common/4b7effaab3619a1c2c38fe2dee8601df8ec714590/expr.png\" style=\"display:inline;vertical-align:middle;\" /></a></td></tr>\n",
       "<tr><td>15</td><td>ExprTuple</td><td>16, 17</td><td><a class=\"ProveItLink\" href=\"../../theorems/ad9306d1942df9fb8dd19aaeadb445ed4ced136f0/expr.ipynb\"><img src=\"../../theorems/ad9306d1942df9fb8dd19aaeadb445ed4ced136f0/expr.png\" style=\"display:inline;vertical-align:middle;\" /></a></td></tr>\n",
       "<tr><td>16</td><td>Operation</td><td>operator:&nbsp;18<br>operand:&nbsp;22<br></td><td><a class=\"ProveItLink\" href=\"../../common/833e157257157d61cc42cb08459d50abb96eeea30/expr.ipynb\"><img src=\"../../common/833e157257157d61cc42cb08459d50abb96eeea30/expr.png\" style=\"display:inline;vertical-align:middle;\" /></a></td></tr>\n",
       "<tr><td>17</td><td>Operation</td><td>operator:&nbsp;20<br>operand:&nbsp;23<br></td><td><a class=\"ProveItLink\" href=\"../../theorems/400ae4473727f2fbe37a6d049af6de0ef76f59f20/expr.ipynb\"><img src=\"../../theorems/400ae4473727f2fbe37a6d049af6de0ef76f59f20/expr.png\" style=\"display:inline;vertical-align:middle;\" /></a></td></tr>\n",
       "<tr><td>18</td><td>Literal</td><td></td><td><a class=\"ProveItLink\" href=\"../../common/d6b97444617188a78c398568a10ac4dbe1ffa6590/expr.ipynb\"><img src=\"../../common/d6b97444617188a78c398568a10ac4dbe1ffa6590/expr.png\" style=\"display:inline;vertical-align:middle;\" /></a></td></tr>\n",
       "<tr><td>19</td><td>ExprTuple</td><td>22</td><td><a class=\"ProveItLink\" href=\"../../common/8eec66445df3903052bd360ac92a5d6d7e9760f80/expr.ipynb\"><img src=\"../../common/8eec66445df3903052bd360ac92a5d6d7e9760f80/expr.png\" style=\"display:inline;vertical-align:middle;\" /></a></td></tr>\n",
       "<tr><td>20</td><td>Literal</td><td></td><td><a class=\"ProveItLink\" href=\"../../../../../../numbers/negation/__pv_it/common/221b3c4d1770ee9051b7c044c3f9ec61196fc34b0/expr.ipynb\"><img src=\"../../../../../../numbers/negation/__pv_it/common/221b3c4d1770ee9051b7c044c3f9ec61196fc34b0/expr.png\" style=\"display:inline;vertical-align:middle;\" /></a></td></tr>\n",
       "<tr><td>21</td><td>ExprTuple</td><td>23</td><td><a class=\"ProveItLink\" href=\"../../theorems/4f0a257d24cef4eabe8390df76556a33aa0558c90/expr.ipynb\"><img src=\"../../theorems/4f0a257d24cef4eabe8390df76556a33aa0558c90/expr.png\" style=\"display:inline;vertical-align:middle;\" /></a></td></tr>\n",
       "<tr><td>22</td><td>Literal</td><td></td><td><a class=\"ProveItLink\" href=\"../../common/d330793052bb239ae69702166b1d364acbd6f04c0/expr.ipynb\"><img src=\"../../common/d330793052bb239ae69702166b1d364acbd6f04c0/expr.png\" style=\"display:inline;vertical-align:middle;\" /></a></td></tr>\n",
       "<tr><td>23</td><td>Operation</td><td>operator:&nbsp;24<br>operands:&nbsp;25<br></td><td><a class=\"ProveItLink\" href=\"../../theorems/1ac0ed8d2ca5886c0b4d21f476a70a08871b7f950/expr.ipynb\"><img src=\"../../theorems/1ac0ed8d2ca5886c0b4d21f476a70a08871b7f950/expr.png\" style=\"display:inline;vertical-align:middle;\" /></a></td></tr>\n",
       "<tr><td>24</td><td>Literal</td><td></td><td><a class=\"ProveItLink\" href=\"../../../../../../numbers/division/__pv_it/common/a2a633e1e3c749fb1f2692466b287b6348c5de840/expr.ipynb\"><img src=\"../../../../../../numbers/division/__pv_it/common/a2a633e1e3c749fb1f2692466b287b6348c5de840/expr.png\" style=\"display:inline;vertical-align:middle;\" /></a></td></tr>\n",
       "<tr><td>25</td><td>ExprTuple</td><td>26, 27</td><td><a class=\"ProveItLink\" href=\"../../theorems/0d41a0d404fb2740da70aad4e464a6ffadf43f320/expr.ipynb\"><img src=\"../../theorems/0d41a0d404fb2740da70aad4e464a6ffadf43f320/expr.png\" style=\"display:inline;vertical-align:middle;\" /></a></td></tr>\n",
       "<tr><td>26</td><td>Variable</td><td></td><td><a class=\"ProveItLink\" href=\"../../../../../../__pv_it/common/27cc275d44b4f4499fb9ccfb3fab1a98165d2fa60/expr.ipynb\"><img src=\"../../../../../../__pv_it/common/27cc275d44b4f4499fb9ccfb3fab1a98165d2fa60/expr.png\" style=\"display:inline;vertical-align:middle;\" /></a></td></tr>\n",
       "<tr><td>27</td><td>Operation</td><td>operator:&nbsp;28<br>operands:&nbsp;29<br></td><td><a class=\"ProveItLink\" href=\"../../common/18332e4e627d64eadf0d81efed19ae3e9d007d510/expr.ipynb\"><img src=\"../../common/18332e4e627d64eadf0d81efed19ae3e9d007d510/expr.png\" style=\"display:inline;vertical-align:middle;\" /></a></td></tr>\n",
       "<tr><td>28</td><td>Literal</td><td></td><td><a class=\"ProveItLink\" href=\"../../../../../../numbers/exponentiation/__pv_it/common/0ac37aca1e54c35c5cda09672df32d4f69f1f3020/expr.ipynb\"><img src=\"../../../../../../numbers/exponentiation/__pv_it/common/0ac37aca1e54c35c5cda09672df32d4f69f1f3020/expr.png\" style=\"display:inline;vertical-align:middle;\" /></a></td></tr>\n",
       "<tr><td>29</td><td>ExprTuple</td><td>30, 31</td><td><a class=\"ProveItLink\" href=\"../../common/e32fd834a589b0231aa39da242e9381ec87261b00/expr.ipynb\"><img src=\"../../common/e32fd834a589b0231aa39da242e9381ec87261b00/expr.png\" style=\"display:inline;vertical-align:middle;\" /></a></td></tr>\n",
       "<tr><td>30</td><td>Literal</td><td></td><td><a class=\"ProveItLink\" href=\"../../../../../../numbers/numerals/__pv_it/common/af4aab8a07465db063742696e006d04670f30cf10/expr.ipynb\"><img src=\"../../../../../../numbers/numerals/__pv_it/common/af4aab8a07465db063742696e006d04670f30cf10/expr.png\" style=\"display:inline;vertical-align:middle;\" /></a></td></tr>\n",
       "<tr><td>31</td><td>Literal</td><td></td><td><a class=\"ProveItLink\" href=\"../../common/977cc67717328e22c93f8ab84e6a45e8cadce7790/expr.ipynb\"><img src=\"../../common/977cc67717328e22c93f8ab84e6a45e8cadce7790/expr.png\" style=\"display:inline;vertical-align:middle;\" /></a></td></tr>\n",
       "</table>\n"
      ],
      "text/plain": [
       "0. (2 * |delta_{b_{f}} - (l / 2^{t})|, sin(pi * |delta_{b_{f}} - (l / 2^{t})|))\n",
       "   core type: ExprTuple\n",
       "   sub-expressions: 1, 2\n",
       "1. 2 * |delta_{b_{f}} - (l / 2^{t})|\n",
       "   core type: Operation\n",
       "   operator: 7\n",
       "   operands: 3\n",
       "2. sin(pi * |delta_{b_{f}} - (l / 2^{t})|)\n",
       "   core type: Operation\n",
       "   operator: 4\n",
       "   operand: 6\n",
       "3. (2, |delta_{b_{f}} - (l / 2^{t})|)\n",
       "   core type: ExprTuple\n",
       "   sub-expressions: 30, 10\n",
       "4. sin\n",
       "   core type: Literal\n",
       "   sub-expressions: \n",
       "5. (pi * |delta_{b_{f}} - (l / 2^{t})|)\n",
       "   core type: ExprTuple\n",
       "   sub-expressions: 6\n",
       "6. pi * |delta_{b_{f}} - (l / 2^{t})|\n",
       "   core type: Operation\n",
       "   operator: 7\n",
       "   operands: 8\n",
       "7. *\n",
       "   core type: Literal\n",
       "   sub-expressions: \n",
       "8. (pi, |delta_{b_{f}} - (l / 2^{t})|)\n",
       "   core type: ExprTuple\n",
       "   sub-expressions: 9, 10\n",
       "9. pi\n",
       "   core type: Literal\n",
       "   sub-expressions: \n",
       "10. |delta_{b_{f}} - (l / 2^{t})|\n",
       "    core type: Operation\n",
       "    operator: 11\n",
       "    operand: 13\n",
       "11. Abs\n",
       "    core type: Literal\n",
       "    sub-expressions: \n",
       "12. (delta_{b_{f}} - (l / 2^{t}))\n",
       "    core type: ExprTuple\n",
       "    sub-expressions: 13\n",
       "13. delta_{b_{f}} - (l / 2^{t})\n",
       "    core type: Operation\n",
       "    operator: 14\n",
       "    operands: 15\n",
       "14. +\n",
       "    core type: Literal\n",
       "    sub-expressions: \n",
       "15. (delta_{b_{f}}, -(l / 2^{t}))\n",
       "    core type: ExprTuple\n",
       "    sub-expressions: 16, 17\n",
       "16. delta_{b_{f}}\n",
       "    core type: Operation\n",
       "    operator: 18\n",
       "    operand: 22\n",
       "17. -(l / 2^{t})\n",
       "    core type: Operation\n",
       "    operator: 20\n",
       "    operand: 23\n",
       "18. delta\n",
       "    core type: Literal\n",
       "    sub-expressions: \n",
       "19. (b_{f})\n",
       "    core type: ExprTuple\n",
       "    sub-expressions: 22\n",
       "20. -\n",
       "    core type: Literal\n",
       "    sub-expressions: \n",
       "21. (l / 2^{t})\n",
       "    core type: ExprTuple\n",
       "    sub-expressions: 23\n",
       "22. b_{f}\n",
       "    core type: Literal\n",
       "    sub-expressions: \n",
       "23. l / 2^{t}\n",
       "    core type: Operation\n",
       "    operator: 24\n",
       "    operands: 25\n",
       "24. /\n",
       "    core type: Literal\n",
       "    sub-expressions: \n",
       "25. (l, 2^{t})\n",
       "    core type: ExprTuple\n",
       "    sub-expressions: 26, 27\n",
       "26. l\n",
       "    core type: Variable\n",
       "    sub-expressions: \n",
       "27. 2^{t}\n",
       "    core type: Operation\n",
       "    operator: 28\n",
       "    operands: 29\n",
       "28. Exp\n",
       "    core type: Literal\n",
       "    sub-expressions: \n",
       "29. (2, t)\n",
       "    core type: ExprTuple\n",
       "    sub-expressions: 30, 31\n",
       "30. 2\n",
       "    core type: Literal\n",
       "    sub-expressions: \n",
       "31. t\n",
       "    core type: Literal\n",
       "    sub-expressions: "
      ]
     },
     "metadata": {},
     "output_type": "display_data"
    }
   ],
   "source": [
    "# display the expression information\n",
    "stored_expr.expr_info()"
   ]
  },
  {
   "cell_type": "code",
   "execution_count": null,
   "metadata": {},
   "outputs": [],
   "source": []
  }
 ],
 "metadata": {
  "kernelspec": {
   "display_name": "Python 3",
   "language": "python",
   "name": "python3"
  }
 },
 "nbformat": 4,
 "nbformat_minor": 0
}