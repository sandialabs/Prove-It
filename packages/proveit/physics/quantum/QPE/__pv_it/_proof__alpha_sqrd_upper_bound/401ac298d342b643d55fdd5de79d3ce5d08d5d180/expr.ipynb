{
 "cells": [
  {
   "cell_type": "markdown",
   "metadata": {},
   "source": [
    "Expression of type <a class=\"ProveItLink\" href=\"../../../../../../../../doc/html/api/proveit.ExprTuple.html\">ExprTuple</a>\n",
    "=======================\n",
    "# from the theory of <a class=\"ProveItLink\" href=\"../../../_theory_nbs_/theory.ipynb\">proveit.physics.quantum.QPE</a>"
   ]
  },
  {
   "cell_type": "code",
   "execution_count": 1,
   "metadata": {},
   "outputs": [],
   "source": [
    "import proveit\n",
    "# Automation is not needed when building an expression:\n",
    "proveit.defaults.automation = False # This will speed things up.\n",
    "proveit.defaults.inline_pngs = False # Makes files smaller.\n",
    "%load_expr # Load the stored expression as 'stored_expr'\n",
    "# import Expression classes needed to build the expression\n",
    "from proveit import ExprTuple, l\n",
    "from proveit.numbers import Add, Exp, Mult, Neg, frac, one, pi, two\n",
    "from proveit.physics.quantum.QPE import _delta_b_floor, _t"
   ]
  },
  {
   "cell_type": "code",
   "execution_count": 2,
   "metadata": {},
   "outputs": [
    {
     "data": {
      "text/html": [
       "<strong id=\"expr\">expr:</strong> <a class=\"ProveItLink\" href=\"expr.ipynb\"><img src=\"expr.png\" style=\"display:inline;vertical-align:middle;\" /></a><br>"
      ],
      "text/plain": [
       "<IPython.core.display.HTML object>"
      ]
     },
     "metadata": {},
     "output_type": "display_data"
    }
   ],
   "source": [
    "# build up the expression from sub-expressions\n",
    "sub_expr1 = Add(Neg(Mult(l, Exp(two, Neg(_t)))), _delta_b_floor)\n",
    "expr = ExprTuple(Mult(Mult(two, pi, sub_expr1), Mult(frac(one, two), Exp(pi, Neg(one)))), sub_expr1)"
   ]
  },
  {
   "cell_type": "code",
   "execution_count": 3,
   "metadata": {},
   "outputs": [
    {
     "name": "stdout",
     "output_type": "stream",
     "text": [
      "Passed sanity check: expr matches stored_expr\n"
     ]
    }
   ],
   "source": [
    "# check that the built expression is the same as the stored expression\n",
    "assert expr == stored_expr\n",
    "assert expr._style_id == stored_expr._style_id\n",
    "print(\"Passed sanity check: expr matches stored_expr\")"
   ]
  },
  {
   "cell_type": "code",
   "execution_count": 4,
   "metadata": {},
   "outputs": [
    {
     "name": "stdout",
     "output_type": "stream",
     "text": [
      "\\left(\\left(2 \\cdot \\pi \\cdot \\left(-\\left(l \\cdot 2^{-t}\\right) + \\delta_{b_{\\textit{f}}}\\right)\\right) \\cdot \\left(\\frac{1}{2} \\cdot \\pi^{-1}\\right), -\\left(l \\cdot 2^{-t}\\right) + \\delta_{b_{\\textit{f}}}\\right)\n"
     ]
    }
   ],
   "source": [
    "# Show the LaTeX representation of the expression for convenience if you need it.\n",
    "print(stored_expr.latex())"
   ]
  },
  {
   "cell_type": "code",
   "execution_count": 5,
   "metadata": {},
   "outputs": [
    {
     "data": {
      "text/html": [
       "<table>\n",
       "<tr><th>name</th><th>description</th><th>default</th><th>current value</th><th>related methods</th></tr><tr><td>wrap_positions</td><td>position(s) at which wrapping is to occur; 'n' is after the nth comma.</td><td>()</td><td>()</td><td>('with_wrapping_at',)</td></tr>\n",
       "<tr><td>justification</td><td>if any wrap positions are set, justify to the 'left', 'center', or 'right'</td><td>left</td><td>left</td><td>('with_justification',)</td></tr>\n",
       "</table>\n"
      ],
      "text/plain": [
       "style name: wrap_positions\n",
       "description: position(s) at which wrapping is to occur; 'n' is after the nth comma.\n",
       "default: ()\n",
       "current value: ()\n",
       "related methods: ('with_wrapping_at',)\n",
       "style name: justification\n",
       "description: if any wrap positions are set, justify to the 'left', 'center', or 'right'\n",
       "default: left\n",
       "current value: left\n",
       "related methods: ('with_justification',)"
      ]
     },
     "metadata": {},
     "output_type": "display_data"
    }
   ],
   "source": [
    "stored_expr.style_options()"
   ]
  },
  {
   "cell_type": "code",
   "execution_count": 6,
   "metadata": {},
   "outputs": [
    {
     "data": {
      "text/html": [
       "<table><tr><th>&nbsp;</th><th>core type</th><th>sub-expressions</th><th>expression</th></tr>\n",
       "<tr><td>0</td><td>ExprTuple</td><td>1, 7</td><td><a class=\"ProveItLink\" href=\"expr.ipynb\"><img src=\"expr.png\" style=\"display:inline;vertical-align:middle;\" /></a></td></tr>\n",
       "<tr><td>1</td><td>Operation</td><td>operator:&nbsp;26<br>operands:&nbsp;2<br></td><td><a class=\"ProveItLink\" href=\"../417394fa0507fb0f3399bafa053310b7d3aa58000/expr.ipynb\"><img src=\"../417394fa0507fb0f3399bafa053310b7d3aa58000/expr.png\" style=\"display:inline;vertical-align:middle;\" /></a></td></tr>\n",
       "<tr><td>2</td><td>ExprTuple</td><td>3, 4</td><td><a class=\"ProveItLink\" href=\"../c7cca6f49af7635781b7c8bb4532edd5ba3723d50/expr.ipynb\"><img src=\"../c7cca6f49af7635781b7c8bb4532edd5ba3723d50/expr.png\" style=\"display:inline;vertical-align:middle;\" /></a></td></tr>\n",
       "<tr><td>3</td><td>Operation</td><td>operator:&nbsp;26<br>operands:&nbsp;5<br></td><td><a class=\"ProveItLink\" href=\"../3c97177af637630ced4608f7e0ff2a8287db38a90/expr.ipynb\"><img src=\"../3c97177af637630ced4608f7e0ff2a8287db38a90/expr.png\" style=\"display:inline;vertical-align:middle;\" /></a></td></tr>\n",
       "<tr><td>4</td><td>Operation</td><td>operator:&nbsp;26<br>operands:&nbsp;6<br></td><td><a class=\"ProveItLink\" href=\"../8d65610359a2d1c2183e875872f3a67783af0d840/expr.ipynb\"><img src=\"../8d65610359a2d1c2183e875872f3a67783af0d840/expr.png\" style=\"display:inline;vertical-align:middle;\" /></a></td></tr>\n",
       "<tr><td>5</td><td>ExprTuple</td><td>32, 17, 7</td><td><a class=\"ProveItLink\" href=\"../aad73bde1e3b486bebc10b5e8b3a37c14ba96f450/expr.ipynb\"><img src=\"../aad73bde1e3b486bebc10b5e8b3a37c14ba96f450/expr.png\" style=\"display:inline;vertical-align:middle;\" /></a></td></tr>\n",
       "<tr><td>6</td><td>ExprTuple</td><td>8, 9</td><td><a class=\"ProveItLink\" href=\"../9adb3f2140e578e0abaf8425f5b00fdeed6eef390/expr.ipynb\"><img src=\"../9adb3f2140e578e0abaf8425f5b00fdeed6eef390/expr.png\" style=\"display:inline;vertical-align:middle;\" /></a></td></tr>\n",
       "<tr><td>7</td><td>Operation</td><td>operator:&nbsp;10<br>operands:&nbsp;11<br></td><td><a class=\"ProveItLink\" href=\"../50372c5eed3578caf4a5280da0d866541c9fe76d0/expr.ipynb\"><img src=\"../50372c5eed3578caf4a5280da0d866541c9fe76d0/expr.png\" style=\"display:inline;vertical-align:middle;\" /></a></td></tr>\n",
       "<tr><td>8</td><td>Operation</td><td>operator:&nbsp;12<br>operands:&nbsp;13<br></td><td><a class=\"ProveItLink\" href=\"../../../../__pv_it/common/41c7e8d55de04e24c56503fbffe6ac0318a53f990/expr.ipynb\"><img src=\"../../../../__pv_it/common/41c7e8d55de04e24c56503fbffe6ac0318a53f990/expr.png\" style=\"display:inline;vertical-align:middle;\" /></a></td></tr>\n",
       "<tr><td>9</td><td>Operation</td><td>operator:&nbsp;30<br>operands:&nbsp;14<br></td><td><a class=\"ProveItLink\" href=\"../8ab2be20516fb97c146eb1a1e2beb65763463de00/expr.ipynb\"><img src=\"../8ab2be20516fb97c146eb1a1e2beb65763463de00/expr.png\" style=\"display:inline;vertical-align:middle;\" /></a></td></tr>\n",
       "<tr><td>10</td><td>Literal</td><td></td><td><a class=\"ProveItLink\" href=\"../../../../../../numbers/addition/__pv_it/common/4b7effaab3619a1c2c38fe2dee8601df8ec714590/expr.ipynb\"><img src=\"../../../../../../numbers/addition/__pv_it/common/4b7effaab3619a1c2c38fe2dee8601df8ec714590/expr.png\" style=\"display:inline;vertical-align:middle;\" /></a></td></tr>\n",
       "<tr><td>11</td><td>ExprTuple</td><td>15, 16</td><td><a class=\"ProveItLink\" href=\"../1f9f2ed29fec790736ea517d45c512af9083c7ac0/expr.ipynb\"><img src=\"../1f9f2ed29fec790736ea517d45c512af9083c7ac0/expr.png\" style=\"display:inline;vertical-align:middle;\" /></a></td></tr>\n",
       "<tr><td>12</td><td>Literal</td><td></td><td><a class=\"ProveItLink\" href=\"../../../../../../numbers/division/__pv_it/common/a2a633e1e3c749fb1f2692466b287b6348c5de840/expr.ipynb\"><img src=\"../../../../../../numbers/division/__pv_it/common/a2a633e1e3c749fb1f2692466b287b6348c5de840/expr.png\" style=\"display:inline;vertical-align:middle;\" /></a></td></tr>\n",
       "<tr><td>13</td><td>ExprTuple</td><td>25, 32</td><td><a class=\"ProveItLink\" href=\"../../../../../../numbers/numerals/decimals/__pv_it/theorems/df23a04353373623cccbfda09b61e0f594aa791a0/expr.ipynb\"><img src=\"../../../../../../numbers/numerals/decimals/__pv_it/theorems/df23a04353373623cccbfda09b61e0f594aa791a0/expr.png\" style=\"display:inline;vertical-align:middle;\" /></a></td></tr>\n",
       "<tr><td>14</td><td>ExprTuple</td><td>17, 18</td><td><a class=\"ProveItLink\" href=\"../73514178ea8fffca48ce1ce2eb0e8ad1cb1383770/expr.ipynb\"><img src=\"../73514178ea8fffca48ce1ce2eb0e8ad1cb1383770/expr.png\" style=\"display:inline;vertical-align:middle;\" /></a></td></tr>\n",
       "<tr><td>15</td><td>Operation</td><td>operator:&nbsp;34<br>operand:&nbsp;23<br></td><td><a class=\"ProveItLink\" href=\"../63b7ea1d3ee9ea564ad69e9e5f40cfd178e129bb0/expr.ipynb\"><img src=\"../63b7ea1d3ee9ea564ad69e9e5f40cfd178e129bb0/expr.png\" style=\"display:inline;vertical-align:middle;\" /></a></td></tr>\n",
       "<tr><td>16</td><td>Operation</td><td>operator:&nbsp;20<br>operand:&nbsp;24<br></td><td><a class=\"ProveItLink\" href=\"../../common/833e157257157d61cc42cb08459d50abb96eeea30/expr.ipynb\"><img src=\"../../common/833e157257157d61cc42cb08459d50abb96eeea30/expr.png\" style=\"display:inline;vertical-align:middle;\" /></a></td></tr>\n",
       "<tr><td>17</td><td>Literal</td><td></td><td><a class=\"ProveItLink\" href=\"../../../../../../numbers/number_sets/real_numbers/__pv_it/common/246c206266ac5b48800e508d580f91767b24c2df0/expr.ipynb\"><img src=\"../../../../../../numbers/number_sets/real_numbers/__pv_it/common/246c206266ac5b48800e508d580f91767b24c2df0/expr.png\" style=\"display:inline;vertical-align:middle;\" /></a></td></tr>\n",
       "<tr><td>18</td><td>Operation</td><td>operator:&nbsp;34<br>operand:&nbsp;25<br></td><td><a class=\"ProveItLink\" href=\"../../common/bf4beda21975fe8a0a5007615b5bcc943da59bb20/expr.ipynb\"><img src=\"../../common/bf4beda21975fe8a0a5007615b5bcc943da59bb20/expr.png\" style=\"display:inline;vertical-align:middle;\" /></a></td></tr>\n",
       "<tr><td>19</td><td>ExprTuple</td><td>23</td><td><a class=\"ProveItLink\" href=\"../1c412666e96c9d1137fdc1421657bdf9a211cccd0/expr.ipynb\"><img src=\"../1c412666e96c9d1137fdc1421657bdf9a211cccd0/expr.png\" style=\"display:inline;vertical-align:middle;\" /></a></td></tr>\n",
       "<tr><td>20</td><td>Literal</td><td></td><td><a class=\"ProveItLink\" href=\"../../common/d6b97444617188a78c398568a10ac4dbe1ffa6590/expr.ipynb\"><img src=\"../../common/d6b97444617188a78c398568a10ac4dbe1ffa6590/expr.png\" style=\"display:inline;vertical-align:middle;\" /></a></td></tr>\n",
       "<tr><td>21</td><td>ExprTuple</td><td>24</td><td><a class=\"ProveItLink\" href=\"../../common/8eec66445df3903052bd360ac92a5d6d7e9760f80/expr.ipynb\"><img src=\"../../common/8eec66445df3903052bd360ac92a5d6d7e9760f80/expr.png\" style=\"display:inline;vertical-align:middle;\" /></a></td></tr>\n",
       "<tr><td>22</td><td>ExprTuple</td><td>25</td><td><a class=\"ProveItLink\" href=\"../../../../__pv_it/common/b9e4f0dffece176bbe2f36127440684a20e0468e0/expr.ipynb\"><img src=\"../../../../__pv_it/common/b9e4f0dffece176bbe2f36127440684a20e0468e0/expr.png\" style=\"display:inline;vertical-align:middle;\" /></a></td></tr>\n",
       "<tr><td>23</td><td>Operation</td><td>operator:&nbsp;26<br>operands:&nbsp;27<br></td><td><a class=\"ProveItLink\" href=\"../57fc917782dd4395e68600b6380d738e2520f26d0/expr.ipynb\"><img src=\"../57fc917782dd4395e68600b6380d738e2520f26d0/expr.png\" style=\"display:inline;vertical-align:middle;\" /></a></td></tr>\n",
       "<tr><td>24</td><td>Literal</td><td></td><td><a class=\"ProveItLink\" href=\"../../common/d330793052bb239ae69702166b1d364acbd6f04c0/expr.ipynb\"><img src=\"../../common/d330793052bb239ae69702166b1d364acbd6f04c0/expr.png\" style=\"display:inline;vertical-align:middle;\" /></a></td></tr>\n",
       "<tr><td>25</td><td>Literal</td><td></td><td><a class=\"ProveItLink\" href=\"../../../../../../numbers/numerals/__pv_it/common/682157d4892d216d9e5626ed533aff9b56b9506e0/expr.ipynb\"><img src=\"../../../../../../numbers/numerals/__pv_it/common/682157d4892d216d9e5626ed533aff9b56b9506e0/expr.png\" style=\"display:inline;vertical-align:middle;\" /></a></td></tr>\n",
       "<tr><td>26</td><td>Literal</td><td></td><td><a class=\"ProveItLink\" href=\"../../../../../../numbers/multiplication/__pv_it/common/ed719cef37831779c16481533a4d380a2f95ab270/expr.ipynb\"><img src=\"../../../../../../numbers/multiplication/__pv_it/common/ed719cef37831779c16481533a4d380a2f95ab270/expr.png\" style=\"display:inline;vertical-align:middle;\" /></a></td></tr>\n",
       "<tr><td>27</td><td>ExprTuple</td><td>28, 29</td><td><a class=\"ProveItLink\" href=\"../12f3c3b99a89d20615da9ae784562d1ca2d68ba60/expr.ipynb\"><img src=\"../12f3c3b99a89d20615da9ae784562d1ca2d68ba60/expr.png\" style=\"display:inline;vertical-align:middle;\" /></a></td></tr>\n",
       "<tr><td>28</td><td>Variable</td><td></td><td><a class=\"ProveItLink\" href=\"../../../../../../__pv_it/common/27cc275d44b4f4499fb9ccfb3fab1a98165d2fa60/expr.ipynb\"><img src=\"../../../../../../__pv_it/common/27cc275d44b4f4499fb9ccfb3fab1a98165d2fa60/expr.png\" style=\"display:inline;vertical-align:middle;\" /></a></td></tr>\n",
       "<tr><td>29</td><td>Operation</td><td>operator:&nbsp;30<br>operands:&nbsp;31<br></td><td><a class=\"ProveItLink\" href=\"../70f5d44c7051a82c62b459bfa00eb4d7e1a0b9a30/expr.ipynb\"><img src=\"../70f5d44c7051a82c62b459bfa00eb4d7e1a0b9a30/expr.png\" style=\"display:inline;vertical-align:middle;\" /></a></td></tr>\n",
       "<tr><td>30</td><td>Literal</td><td></td><td><a class=\"ProveItLink\" href=\"../../../../../../numbers/exponentiation/__pv_it/common/0ac37aca1e54c35c5cda09672df32d4f69f1f3020/expr.ipynb\"><img src=\"../../../../../../numbers/exponentiation/__pv_it/common/0ac37aca1e54c35c5cda09672df32d4f69f1f3020/expr.png\" style=\"display:inline;vertical-align:middle;\" /></a></td></tr>\n",
       "<tr><td>31</td><td>ExprTuple</td><td>32, 33</td><td><a class=\"ProveItLink\" href=\"../f4fd966ab36ae298b9330de4a50ccb70f2cc4be70/expr.ipynb\"><img src=\"../f4fd966ab36ae298b9330de4a50ccb70f2cc4be70/expr.png\" style=\"display:inline;vertical-align:middle;\" /></a></td></tr>\n",
       "<tr><td>32</td><td>Literal</td><td></td><td><a class=\"ProveItLink\" href=\"../../../../../../numbers/numerals/__pv_it/common/af4aab8a07465db063742696e006d04670f30cf10/expr.ipynb\"><img src=\"../../../../../../numbers/numerals/__pv_it/common/af4aab8a07465db063742696e006d04670f30cf10/expr.png\" style=\"display:inline;vertical-align:middle;\" /></a></td></tr>\n",
       "<tr><td>33</td><td>Operation</td><td>operator:&nbsp;34<br>operand:&nbsp;36<br></td><td><a class=\"ProveItLink\" href=\"../716aa9beb2db21ec035d943cdb56782e21f175da0/expr.ipynb\"><img src=\"../716aa9beb2db21ec035d943cdb56782e21f175da0/expr.png\" style=\"display:inline;vertical-align:middle;\" /></a></td></tr>\n",
       "<tr><td>34</td><td>Literal</td><td></td><td><a class=\"ProveItLink\" href=\"../../../../../../numbers/negation/__pv_it/common/221b3c4d1770ee9051b7c044c3f9ec61196fc34b0/expr.ipynb\"><img src=\"../../../../../../numbers/negation/__pv_it/common/221b3c4d1770ee9051b7c044c3f9ec61196fc34b0/expr.png\" style=\"display:inline;vertical-align:middle;\" /></a></td></tr>\n",
       "<tr><td>35</td><td>ExprTuple</td><td>36</td><td><a class=\"ProveItLink\" href=\"../e96612f8f4ee9db42198cd12e6e4b4669e7a547a0/expr.ipynb\"><img src=\"../e96612f8f4ee9db42198cd12e6e4b4669e7a547a0/expr.png\" style=\"display:inline;vertical-align:middle;\" /></a></td></tr>\n",
       "<tr><td>36</td><td>Literal</td><td></td><td><a class=\"ProveItLink\" href=\"../../common/977cc67717328e22c93f8ab84e6a45e8cadce7790/expr.ipynb\"><img src=\"../../common/977cc67717328e22c93f8ab84e6a45e8cadce7790/expr.png\" style=\"display:inline;vertical-align:middle;\" /></a></td></tr>\n",
       "</table>\n"
      ],
      "text/plain": [
       "0. ((2 * pi * (-(l * 2^{-t}) + delta_{b_{f}})) * ((1 / 2) * pi^{-1}), -(l * 2^{-t}) + delta_{b_{f}})\n",
       "   core type: ExprTuple\n",
       "   sub-expressions: 1, 7\n",
       "1. (2 * pi * (-(l * 2^{-t}) + delta_{b_{f}})) * ((1 / 2) * pi^{-1})\n",
       "   core type: Operation\n",
       "   operator: 26\n",
       "   operands: 2\n",
       "2. (2 * pi * (-(l * 2^{-t}) + delta_{b_{f}}), (1 / 2) * pi^{-1})\n",
       "   core type: ExprTuple\n",
       "   sub-expressions: 3, 4\n",
       "3. 2 * pi * (-(l * 2^{-t}) + delta_{b_{f}})\n",
       "   core type: Operation\n",
       "   operator: 26\n",
       "   operands: 5\n",
       "4. (1 / 2) * pi^{-1}\n",
       "   core type: Operation\n",
       "   operator: 26\n",
       "   operands: 6\n",
       "5. (2, pi, -(l * 2^{-t}) + delta_{b_{f}})\n",
       "   core type: ExprTuple\n",
       "   sub-expressions: 32, 17, 7\n",
       "6. (1 / 2, pi^{-1})\n",
       "   core type: ExprTuple\n",
       "   sub-expressions: 8, 9\n",
       "7. -(l * 2^{-t}) + delta_{b_{f}}\n",
       "   core type: Operation\n",
       "   operator: 10\n",
       "   operands: 11\n",
       "8. 1 / 2\n",
       "   core type: Operation\n",
       "   operator: 12\n",
       "   operands: 13\n",
       "9. pi^{-1}\n",
       "   core type: Operation\n",
       "   operator: 30\n",
       "   operands: 14\n",
       "10. +\n",
       "    core type: Literal\n",
       "    sub-expressions: \n",
       "11. (-(l * 2^{-t}), delta_{b_{f}})\n",
       "    core type: ExprTuple\n",
       "    sub-expressions: 15, 16\n",
       "12. /\n",
       "    core type: Literal\n",
       "    sub-expressions: \n",
       "13. (1, 2)\n",
       "    core type: ExprTuple\n",
       "    sub-expressions: 25, 32\n",
       "14. (pi, -1)\n",
       "    core type: ExprTuple\n",
       "    sub-expressions: 17, 18\n",
       "15. -(l * 2^{-t})\n",
       "    core type: Operation\n",
       "    operator: 34\n",
       "    operand: 23\n",
       "16. delta_{b_{f}}\n",
       "    core type: Operation\n",
       "    operator: 20\n",
       "    operand: 24\n",
       "17. pi\n",
       "    core type: Literal\n",
       "    sub-expressions: \n",
       "18. -1\n",
       "    core type: Operation\n",
       "    operator: 34\n",
       "    operand: 25\n",
       "19. (l * 2^{-t})\n",
       "    core type: ExprTuple\n",
       "    sub-expressions: 23\n",
       "20. delta\n",
       "    core type: Literal\n",
       "    sub-expressions: \n",
       "21. (b_{f})\n",
       "    core type: ExprTuple\n",
       "    sub-expressions: 24\n",
       "22. (1)\n",
       "    core type: ExprTuple\n",
       "    sub-expressions: 25\n",
       "23. l * 2^{-t}\n",
       "    core type: Operation\n",
       "    operator: 26\n",
       "    operands: 27\n",
       "24. b_{f}\n",
       "    core type: Literal\n",
       "    sub-expressions: \n",
       "25. 1\n",
       "    core type: Literal\n",
       "    sub-expressions: \n",
       "26. *\n",
       "    core type: Literal\n",
       "    sub-expressions: \n",
       "27. (l, 2^{-t})\n",
       "    core type: ExprTuple\n",
       "    sub-expressions: 28, 29\n",
       "28. l\n",
       "    core type: Variable\n",
       "    sub-expressions: \n",
       "29. 2^{-t}\n",
       "    core type: Operation\n",
       "    operator: 30\n",
       "    operands: 31\n",
       "30. Exp\n",
       "    core type: Literal\n",
       "    sub-expressions: \n",
       "31. (2, -t)\n",
       "    core type: ExprTuple\n",
       "    sub-expressions: 32, 33\n",
       "32. 2\n",
       "    core type: Literal\n",
       "    sub-expressions: \n",
       "33. -t\n",
       "    core type: Operation\n",
       "    operator: 34\n",
       "    operand: 36\n",
       "34. -\n",
       "    core type: Literal\n",
       "    sub-expressions: \n",
       "35. (t)\n",
       "    core type: ExprTuple\n",
       "    sub-expressions: 36\n",
       "36. t\n",
       "    core type: Literal\n",
       "    sub-expressions: "
      ]
     },
     "metadata": {},
     "output_type": "display_data"
    }
   ],
   "source": [
    "# display the expression information\n",
    "stored_expr.expr_info()"
   ]
  },
  {
   "cell_type": "code",
   "execution_count": null,
   "metadata": {},
   "outputs": [],
   "source": []
  }
 ],
 "metadata": {
  "kernelspec": {
   "display_name": "Python 3",
   "language": "python",
   "name": "python3"
  }
 },
 "nbformat": 4,
 "nbformat_minor": 0
}