{
 "cells": [
  {
   "cell_type": "markdown",
   "metadata": {},
   "source": [
    "Expression of type <a class=\"ProveItLink\" href=\"../../../../../../../../doc/html/api/proveit.ExprTuple.html\">ExprTuple</a>\n",
    "=======================\n",
    "# from the theory of <a class=\"ProveItLink\" href=\"../../../_theory_nbs_/theory.ipynb\">proveit.physics.quantum.QPE</a>"
   ]
  },
  {
   "cell_type": "code",
   "execution_count": 1,
   "metadata": {},
   "outputs": [],
   "source": [
    "import proveit\n",
    "# Automation is not needed when building an expression:\n",
    "proveit.defaults.automation = False # This will speed things up.\n",
    "proveit.defaults.inline_pngs = False # Makes files smaller.\n",
    "%load_expr # Load the stored expression as 'stored_expr'\n",
    "# import Expression classes needed to build the expression\n",
    "from proveit import ExprTuple, l\n",
    "from proveit.numbers import Mult, i, pi, subtract, two\n",
    "from proveit.physics.quantum.QPE import _delta_b_floor, _two_pow_t"
   ]
  },
  {
   "cell_type": "code",
   "execution_count": 2,
   "metadata": {},
   "outputs": [
    {
     "data": {
      "text/html": [
       "<strong id=\"expr\">expr:</strong> <a class=\"ProveItLink\" href=\"expr.ipynb\"><img src=\"expr.png\" style=\"display:inline;vertical-align:middle;\" /></a><br>"
      ],
      "text/plain": [
       "<IPython.core.display.HTML object>"
      ]
     },
     "metadata": {},
     "output_type": "display_data"
    }
   ],
   "source": [
    "# build up the expression from sub-expressions\n",
    "sub_expr1 = subtract(Mult(_two_pow_t, _delta_b_floor), l)\n",
    "expr = ExprTuple(Mult(i, two, pi, sub_expr1), Mult(i, Mult(two, pi, sub_expr1)))"
   ]
  },
  {
   "cell_type": "code",
   "execution_count": 3,
   "metadata": {},
   "outputs": [
    {
     "name": "stdout",
     "output_type": "stream",
     "text": [
      "Passed sanity check: expr matches stored_expr\n"
     ]
    }
   ],
   "source": [
    "# check that the built expression is the same as the stored expression\n",
    "assert expr == stored_expr\n",
    "assert expr._style_id == stored_expr._style_id\n",
    "print(\"Passed sanity check: expr matches stored_expr\")"
   ]
  },
  {
   "cell_type": "code",
   "execution_count": 4,
   "metadata": {},
   "outputs": [
    {
     "name": "stdout",
     "output_type": "stream",
     "text": [
      "\\left(\\mathsf{i} \\cdot 2 \\cdot \\pi \\cdot \\left(\\left(2^{t} \\cdot \\delta_{b_{\\textit{f}}}\\right) - l\\right), \\mathsf{i} \\cdot \\left(2 \\cdot \\pi \\cdot \\left(\\left(2^{t} \\cdot \\delta_{b_{\\textit{f}}}\\right) - l\\right)\\right)\\right)\n"
     ]
    }
   ],
   "source": [
    "# Show the LaTeX representation of the expression for convenience if you need it.\n",
    "print(stored_expr.latex())"
   ]
  },
  {
   "cell_type": "code",
   "execution_count": 5,
   "metadata": {},
   "outputs": [
    {
     "data": {
      "text/html": [
       "<table>\n",
       "<tr><th>name</th><th>description</th><th>default</th><th>current value</th><th>related methods</th></tr><tr><td>wrap_positions</td><td>position(s) at which wrapping is to occur; 'n' is after the nth comma.</td><td>()</td><td>()</td><td>('with_wrapping_at',)</td></tr>\n",
       "<tr><td>justification</td><td>if any wrap positions are set, justify to the 'left', 'center', or 'right'</td><td>left</td><td>left</td><td>('with_justification',)</td></tr>\n",
       "</table>\n"
      ],
      "text/plain": [
       "style name: wrap_positions\n",
       "description: position(s) at which wrapping is to occur; 'n' is after the nth comma.\n",
       "default: ()\n",
       "current value: ()\n",
       "related methods: ('with_wrapping_at',)\n",
       "style name: justification\n",
       "description: if any wrap positions are set, justify to the 'left', 'center', or 'right'\n",
       "default: left\n",
       "current value: left\n",
       "related methods: ('with_justification',)"
      ]
     },
     "metadata": {},
     "output_type": "display_data"
    }
   ],
   "source": [
    "stored_expr.style_options()"
   ]
  },
  {
   "cell_type": "code",
   "execution_count": 6,
   "metadata": {},
   "outputs": [
    {
     "data": {
      "text/html": [
       "<table><tr><th>&nbsp;</th><th>core type</th><th>sub-expressions</th><th>expression</th></tr>\n",
       "<tr><td>0</td><td>ExprTuple</td><td>1, 2</td><td><a class=\"ProveItLink\" href=\"expr.ipynb\"><img src=\"expr.png\" style=\"display:inline;vertical-align:middle;\" /></a></td></tr>\n",
       "<tr><td>1</td><td>Operation</td><td>operator:&nbsp;14<br>operands:&nbsp;3<br></td><td><a class=\"ProveItLink\" href=\"../93f4b1bf5bb47649d1e4f9377467271e6cce383e0/expr.ipynb\"><img src=\"../93f4b1bf5bb47649d1e4f9377467271e6cce383e0/expr.png\" style=\"display:inline;vertical-align:middle;\" /></a></td></tr>\n",
       "<tr><td>2</td><td>Operation</td><td>operator:&nbsp;14<br>operands:&nbsp;4<br></td><td><a class=\"ProveItLink\" href=\"../07ac7ddb314b8c43dcd137f70bd92dbd5ad0e4ea0/expr.ipynb\"><img src=\"../07ac7ddb314b8c43dcd137f70bd92dbd5ad0e4ea0/expr.png\" style=\"display:inline;vertical-align:middle;\" /></a></td></tr>\n",
       "<tr><td>3</td><td>ExprTuple</td><td>5, 25, 8, 9</td><td><a class=\"ProveItLink\" href=\"../46e378de7bca645deff947944f0b0a8a759e0fed0/expr.ipynb\"><img src=\"../46e378de7bca645deff947944f0b0a8a759e0fed0/expr.png\" style=\"display:inline;vertical-align:middle;\" /></a></td></tr>\n",
       "<tr><td>4</td><td>ExprTuple</td><td>5, 6</td><td><a class=\"ProveItLink\" href=\"../c08541a3ca06a1afc158ece4536a1fef834543680/expr.ipynb\"><img src=\"../c08541a3ca06a1afc158ece4536a1fef834543680/expr.png\" style=\"display:inline;vertical-align:middle;\" /></a></td></tr>\n",
       "<tr><td>5</td><td>Literal</td><td></td><td><a class=\"ProveItLink\" href=\"../../../../../../numbers/number_sets/complex_numbers/__pv_it/common/6c9cc69d472f352324c298b2318df233e9a7e0250/expr.ipynb\"><img src=\"../../../../../../numbers/number_sets/complex_numbers/__pv_it/common/6c9cc69d472f352324c298b2318df233e9a7e0250/expr.png\" style=\"display:inline;vertical-align:middle;\" /></a></td></tr>\n",
       "<tr><td>6</td><td>Operation</td><td>operator:&nbsp;14<br>operands:&nbsp;7<br></td><td><a class=\"ProveItLink\" href=\"../b992f6b2bceac000e06923ee6b95793a919165c50/expr.ipynb\"><img src=\"../b992f6b2bceac000e06923ee6b95793a919165c50/expr.png\" style=\"display:inline;vertical-align:middle;\" /></a></td></tr>\n",
       "<tr><td>7</td><td>ExprTuple</td><td>25, 8, 9</td><td><a class=\"ProveItLink\" href=\"../98d6ce28c8434daa307212f3cd50ae7d63f2a68b0/expr.ipynb\"><img src=\"../98d6ce28c8434daa307212f3cd50ae7d63f2a68b0/expr.png\" style=\"display:inline;vertical-align:middle;\" /></a></td></tr>\n",
       "<tr><td>8</td><td>Literal</td><td></td><td><a class=\"ProveItLink\" href=\"../../../../../../numbers/number_sets/real_numbers/__pv_it/common/246c206266ac5b48800e508d580f91767b24c2df0/expr.ipynb\"><img src=\"../../../../../../numbers/number_sets/real_numbers/__pv_it/common/246c206266ac5b48800e508d580f91767b24c2df0/expr.png\" style=\"display:inline;vertical-align:middle;\" /></a></td></tr>\n",
       "<tr><td>9</td><td>Operation</td><td>operator:&nbsp;10<br>operands:&nbsp;11<br></td><td><a class=\"ProveItLink\" href=\"../../theorems/6f1e4d5ced2b9f326d873f5748ee844b5bf956220/expr.ipynb\"><img src=\"../../theorems/6f1e4d5ced2b9f326d873f5748ee844b5bf956220/expr.png\" style=\"display:inline;vertical-align:middle;\" /></a></td></tr>\n",
       "<tr><td>10</td><td>Literal</td><td></td><td><a class=\"ProveItLink\" href=\"../../../../../../numbers/addition/__pv_it/common/4b7effaab3619a1c2c38fe2dee8601df8ec714590/expr.ipynb\"><img src=\"../../../../../../numbers/addition/__pv_it/common/4b7effaab3619a1c2c38fe2dee8601df8ec714590/expr.png\" style=\"display:inline;vertical-align:middle;\" /></a></td></tr>\n",
       "<tr><td>11</td><td>ExprTuple</td><td>12, 13</td><td><a class=\"ProveItLink\" href=\"../../theorems/50d77ea3321335dfd3b9e12ed17ae6c8827d93880/expr.ipynb\"><img src=\"../../theorems/50d77ea3321335dfd3b9e12ed17ae6c8827d93880/expr.png\" style=\"display:inline;vertical-align:middle;\" /></a></td></tr>\n",
       "<tr><td>12</td><td>Operation</td><td>operator:&nbsp;14<br>operands:&nbsp;15<br></td><td><a class=\"ProveItLink\" href=\"../../common/940fcad8977dd953271c0334bf6744ba39a895a30/expr.ipynb\"><img src=\"../../common/940fcad8977dd953271c0334bf6744ba39a895a30/expr.png\" style=\"display:inline;vertical-align:middle;\" /></a></td></tr>\n",
       "<tr><td>13</td><td>Operation</td><td>operator:&nbsp;16<br>operand:&nbsp;20<br></td><td><a class=\"ProveItLink\" href=\"../../theorems/e763d4ce92f875a15986f998de614c4eda7bcc780/expr.ipynb\"><img src=\"../../theorems/e763d4ce92f875a15986f998de614c4eda7bcc780/expr.png\" style=\"display:inline;vertical-align:middle;\" /></a></td></tr>\n",
       "<tr><td>14</td><td>Literal</td><td></td><td><a class=\"ProveItLink\" href=\"../../../../../../numbers/multiplication/__pv_it/common/ed719cef37831779c16481533a4d380a2f95ab270/expr.ipynb\"><img src=\"../../../../../../numbers/multiplication/__pv_it/common/ed719cef37831779c16481533a4d380a2f95ab270/expr.png\" style=\"display:inline;vertical-align:middle;\" /></a></td></tr>\n",
       "<tr><td>15</td><td>ExprTuple</td><td>18, 19</td><td><a class=\"ProveItLink\" href=\"../../common/827c610c960f7cc82c804f1237e0082192f19aae0/expr.ipynb\"><img src=\"../../common/827c610c960f7cc82c804f1237e0082192f19aae0/expr.png\" style=\"display:inline;vertical-align:middle;\" /></a></td></tr>\n",
       "<tr><td>16</td><td>Literal</td><td></td><td><a class=\"ProveItLink\" href=\"../../../../../../numbers/negation/__pv_it/common/221b3c4d1770ee9051b7c044c3f9ec61196fc34b0/expr.ipynb\"><img src=\"../../../../../../numbers/negation/__pv_it/common/221b3c4d1770ee9051b7c044c3f9ec61196fc34b0/expr.png\" style=\"display:inline;vertical-align:middle;\" /></a></td></tr>\n",
       "<tr><td>17</td><td>ExprTuple</td><td>20</td><td><a class=\"ProveItLink\" href=\"../../common/039a14dbb9d0bf99f342285bcbd227a70d804d7f0/expr.ipynb\"><img src=\"../../common/039a14dbb9d0bf99f342285bcbd227a70d804d7f0/expr.png\" style=\"display:inline;vertical-align:middle;\" /></a></td></tr>\n",
       "<tr><td>18</td><td>Operation</td><td>operator:&nbsp;21<br>operands:&nbsp;22<br></td><td><a class=\"ProveItLink\" href=\"../../common/18332e4e627d64eadf0d81efed19ae3e9d007d510/expr.ipynb\"><img src=\"../../common/18332e4e627d64eadf0d81efed19ae3e9d007d510/expr.png\" style=\"display:inline;vertical-align:middle;\" /></a></td></tr>\n",
       "<tr><td>19</td><td>Operation</td><td>operator:&nbsp;23<br>operand:&nbsp;27<br></td><td><a class=\"ProveItLink\" href=\"../../common/833e157257157d61cc42cb08459d50abb96eeea30/expr.ipynb\"><img src=\"../../common/833e157257157d61cc42cb08459d50abb96eeea30/expr.png\" style=\"display:inline;vertical-align:middle;\" /></a></td></tr>\n",
       "<tr><td>20</td><td>Variable</td><td></td><td><a class=\"ProveItLink\" href=\"../../../../../../__pv_it/common/27cc275d44b4f4499fb9ccfb3fab1a98165d2fa60/expr.ipynb\"><img src=\"../../../../../../__pv_it/common/27cc275d44b4f4499fb9ccfb3fab1a98165d2fa60/expr.png\" style=\"display:inline;vertical-align:middle;\" /></a></td></tr>\n",
       "<tr><td>21</td><td>Literal</td><td></td><td><a class=\"ProveItLink\" href=\"../../../../../../numbers/exponentiation/__pv_it/common/0ac37aca1e54c35c5cda09672df32d4f69f1f3020/expr.ipynb\"><img src=\"../../../../../../numbers/exponentiation/__pv_it/common/0ac37aca1e54c35c5cda09672df32d4f69f1f3020/expr.png\" style=\"display:inline;vertical-align:middle;\" /></a></td></tr>\n",
       "<tr><td>22</td><td>ExprTuple</td><td>25, 26</td><td><a class=\"ProveItLink\" href=\"../../common/e32fd834a589b0231aa39da242e9381ec87261b00/expr.ipynb\"><img src=\"../../common/e32fd834a589b0231aa39da242e9381ec87261b00/expr.png\" style=\"display:inline;vertical-align:middle;\" /></a></td></tr>\n",
       "<tr><td>23</td><td>Literal</td><td></td><td><a class=\"ProveItLink\" href=\"../../common/d6b97444617188a78c398568a10ac4dbe1ffa6590/expr.ipynb\"><img src=\"../../common/d6b97444617188a78c398568a10ac4dbe1ffa6590/expr.png\" style=\"display:inline;vertical-align:middle;\" /></a></td></tr>\n",
       "<tr><td>24</td><td>ExprTuple</td><td>27</td><td><a class=\"ProveItLink\" href=\"../../common/8eec66445df3903052bd360ac92a5d6d7e9760f80/expr.ipynb\"><img src=\"../../common/8eec66445df3903052bd360ac92a5d6d7e9760f80/expr.png\" style=\"display:inline;vertical-align:middle;\" /></a></td></tr>\n",
       "<tr><td>25</td><td>Literal</td><td></td><td><a class=\"ProveItLink\" href=\"../../../../../../numbers/numerals/__pv_it/common/af4aab8a07465db063742696e006d04670f30cf10/expr.ipynb\"><img src=\"../../../../../../numbers/numerals/__pv_it/common/af4aab8a07465db063742696e006d04670f30cf10/expr.png\" style=\"display:inline;vertical-align:middle;\" /></a></td></tr>\n",
       "<tr><td>26</td><td>Literal</td><td></td><td><a class=\"ProveItLink\" href=\"../../common/977cc67717328e22c93f8ab84e6a45e8cadce7790/expr.ipynb\"><img src=\"../../common/977cc67717328e22c93f8ab84e6a45e8cadce7790/expr.png\" style=\"display:inline;vertical-align:middle;\" /></a></td></tr>\n",
       "<tr><td>27</td><td>Literal</td><td></td><td><a class=\"ProveItLink\" href=\"../../common/d330793052bb239ae69702166b1d364acbd6f04c0/expr.ipynb\"><img src=\"../../common/d330793052bb239ae69702166b1d364acbd6f04c0/expr.png\" style=\"display:inline;vertical-align:middle;\" /></a></td></tr>\n",
       "</table>\n"
      ],
      "text/plain": [
       "0. (i * 2 * pi * ((2^{t} * delta_{b_{f}}) - l), i * (2 * pi * ((2^{t} * delta_{b_{f}}) - l)))\n",
       "   core type: ExprTuple\n",
       "   sub-expressions: 1, 2\n",
       "1. i * 2 * pi * ((2^{t} * delta_{b_{f}}) - l)\n",
       "   core type: Operation\n",
       "   operator: 14\n",
       "   operands: 3\n",
       "2. i * (2 * pi * ((2^{t} * delta_{b_{f}}) - l))\n",
       "   core type: Operation\n",
       "   operator: 14\n",
       "   operands: 4\n",
       "3. (i, 2, pi, (2^{t} * delta_{b_{f}}) - l)\n",
       "   core type: ExprTuple\n",
       "   sub-expressions: 5, 25, 8, 9\n",
       "4. (i, 2 * pi * ((2^{t} * delta_{b_{f}}) - l))\n",
       "   core type: ExprTuple\n",
       "   sub-expressions: 5, 6\n",
       "5. i\n",
       "   core type: Literal\n",
       "   sub-expressions: \n",
       "6. 2 * pi * ((2^{t} * delta_{b_{f}}) - l)\n",
       "   core type: Operation\n",
       "   operator: 14\n",
       "   operands: 7\n",
       "7. (2, pi, (2^{t} * delta_{b_{f}}) - l)\n",
       "   core type: ExprTuple\n",
       "   sub-expressions: 25, 8, 9\n",
       "8. pi\n",
       "   core type: Literal\n",
       "   sub-expressions: \n",
       "9. (2^{t} * delta_{b_{f}}) - l\n",
       "   core type: Operation\n",
       "   operator: 10\n",
       "   operands: 11\n",
       "10. +\n",
       "    core type: Literal\n",
       "    sub-expressions: \n",
       "11. (2^{t} * delta_{b_{f}}, -l)\n",
       "    core type: ExprTuple\n",
       "    sub-expressions: 12, 13\n",
       "12. 2^{t} * delta_{b_{f}}\n",
       "    core type: Operation\n",
       "    operator: 14\n",
       "    operands: 15\n",
       "13. -l\n",
       "    core type: Operation\n",
       "    operator: 16\n",
       "    operand: 20\n",
       "14. *\n",
       "    core type: Literal\n",
       "    sub-expressions: \n",
       "15. (2^{t}, delta_{b_{f}})\n",
       "    core type: ExprTuple\n",
       "    sub-expressions: 18, 19\n",
       "16. -\n",
       "    core type: Literal\n",
       "    sub-expressions: \n",
       "17. (l)\n",
       "    core type: ExprTuple\n",
       "    sub-expressions: 20\n",
       "18. 2^{t}\n",
       "    core type: Operation\n",
       "    operator: 21\n",
       "    operands: 22\n",
       "19. delta_{b_{f}}\n",
       "    core type: Operation\n",
       "    operator: 23\n",
       "    operand: 27\n",
       "20. l\n",
       "    core type: Variable\n",
       "    sub-expressions: \n",
       "21. Exp\n",
       "    core type: Literal\n",
       "    sub-expressions: \n",
       "22. (2, t)\n",
       "    core type: ExprTuple\n",
       "    sub-expressions: 25, 26\n",
       "23. delta\n",
       "    core type: Literal\n",
       "    sub-expressions: \n",
       "24. (b_{f})\n",
       "    core type: ExprTuple\n",
       "    sub-expressions: 27\n",
       "25. 2\n",
       "    core type: Literal\n",
       "    sub-expressions: \n",
       "26. t\n",
       "    core type: Literal\n",
       "    sub-expressions: \n",
       "27. b_{f}\n",
       "    core type: Literal\n",
       "    sub-expressions: "
      ]
     },
     "metadata": {},
     "output_type": "display_data"
    }
   ],
   "source": [
    "# display the expression information\n",
    "stored_expr.expr_info()"
   ]
  },
  {
   "cell_type": "code",
   "execution_count": null,
   "metadata": {},
   "outputs": [],
   "source": []
  }
 ],
 "metadata": {
  "kernelspec": {
   "display_name": "Python 3",
   "language": "python",
   "name": "python3"
  }
 },
 "nbformat": 4,
 "nbformat_minor": 0
}