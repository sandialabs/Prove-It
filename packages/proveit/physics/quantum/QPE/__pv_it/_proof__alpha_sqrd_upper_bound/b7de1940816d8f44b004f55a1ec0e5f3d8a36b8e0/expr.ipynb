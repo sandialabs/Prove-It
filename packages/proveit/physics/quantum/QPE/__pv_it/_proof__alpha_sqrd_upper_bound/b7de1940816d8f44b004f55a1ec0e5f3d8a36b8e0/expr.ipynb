{
 "cells": [
  {
   "cell_type": "markdown",
   "metadata": {},
   "source": [
    "Expression of type <a class=\"ProveItLink\" href=\"../../../../../../../../doc/html/api/proveit.ExprTuple.html\">ExprTuple</a>\n",
    "=======================\n",
    "# from the theory of <a class=\"ProveItLink\" href=\"../../../_theory_nbs_/theory.ipynb\">proveit.physics.quantum.QPE</a>"
   ]
  },
  {
   "cell_type": "code",
   "execution_count": 1,
   "metadata": {},
   "outputs": [],
   "source": [
    "import proveit\n",
    "# Automation is not needed when building an expression:\n",
    "proveit.defaults.automation = False # This will speed things up.\n",
    "proveit.defaults.inline_pngs = False # Makes files smaller.\n",
    "%load_expr # Load the stored expression as 'stored_expr'\n",
    "# import Expression classes needed to build the expression\n",
    "from proveit import ExprTuple, l\n",
    "from proveit.numbers import Add, Exp, Mult, Neg, frac, one, pi, two\n",
    "from proveit.physics.quantum.QPE import _delta_b_floor, _t"
   ]
  },
  {
   "cell_type": "code",
   "execution_count": 2,
   "metadata": {},
   "outputs": [
    {
     "data": {
      "text/html": [
       "<strong id=\"expr\">expr:</strong> <a class=\"ProveItLink\" href=\"expr.ipynb\"><img src=\"expr.png\" style=\"display:inline;vertical-align:middle;\" /></a><br>"
      ],
      "text/plain": [
       "<IPython.core.display.HTML object>"
      ]
     },
     "metadata": {},
     "output_type": "display_data"
    }
   ],
   "source": [
    "# build up the expression from sub-expressions\n",
    "sub_expr1 = Neg(one)\n",
    "sub_expr2 = Mult(two, pi, Add(Neg(Mult(l, Exp(two, Neg(_t)))), _delta_b_floor))\n",
    "expr = ExprTuple(Mult(sub_expr2, Exp(Mult(two, pi), sub_expr1)), Mult(sub_expr2, Mult(frac(one, two), Exp(pi, sub_expr1))))"
   ]
  },
  {
   "cell_type": "code",
   "execution_count": 3,
   "metadata": {},
   "outputs": [
    {
     "name": "stdout",
     "output_type": "stream",
     "text": [
      "Passed sanity check: expr matches stored_expr\n"
     ]
    }
   ],
   "source": [
    "# check that the built expression is the same as the stored expression\n",
    "assert expr == stored_expr\n",
    "assert expr._style_id == stored_expr._style_id\n",
    "print(\"Passed sanity check: expr matches stored_expr\")"
   ]
  },
  {
   "cell_type": "code",
   "execution_count": 4,
   "metadata": {},
   "outputs": [
    {
     "name": "stdout",
     "output_type": "stream",
     "text": [
      "\\left(\\left(2 \\cdot \\pi \\cdot \\left(-\\left(l \\cdot 2^{-t}\\right) + \\delta_{b_{\\textit{f}}}\\right)\\right) \\cdot \\left(2 \\cdot \\pi\\right)^{-1}, \\left(2 \\cdot \\pi \\cdot \\left(-\\left(l \\cdot 2^{-t}\\right) + \\delta_{b_{\\textit{f}}}\\right)\\right) \\cdot \\left(\\frac{1}{2} \\cdot \\pi^{-1}\\right)\\right)\n"
     ]
    }
   ],
   "source": [
    "# Show the LaTeX representation of the expression for convenience if you need it.\n",
    "print(stored_expr.latex())"
   ]
  },
  {
   "cell_type": "code",
   "execution_count": 5,
   "metadata": {},
   "outputs": [
    {
     "data": {
      "text/html": [
       "<table>\n",
       "<tr><th>name</th><th>description</th><th>default</th><th>current value</th><th>related methods</th></tr><tr><td>wrap_positions</td><td>position(s) at which wrapping is to occur; 'n' is after the nth comma.</td><td>()</td><td>()</td><td>('with_wrapping_at',)</td></tr>\n",
       "<tr><td>justification</td><td>if any wrap positions are set, justify to the 'left', 'center', or 'right'</td><td>left</td><td>left</td><td>('with_justification',)</td></tr>\n",
       "</table>\n"
      ],
      "text/plain": [
       "style name: wrap_positions\n",
       "description: position(s) at which wrapping is to occur; 'n' is after the nth comma.\n",
       "default: ()\n",
       "current value: ()\n",
       "related methods: ('with_wrapping_at',)\n",
       "style name: justification\n",
       "description: if any wrap positions are set, justify to the 'left', 'center', or 'right'\n",
       "default: left\n",
       "current value: left\n",
       "related methods: ('with_justification',)"
      ]
     },
     "metadata": {},
     "output_type": "display_data"
    }
   ],
   "source": [
    "stored_expr.style_options()"
   ]
  },
  {
   "cell_type": "code",
   "execution_count": 6,
   "metadata": {},
   "outputs": [
    {
     "data": {
      "text/html": [
       "<table><tr><th>&nbsp;</th><th>core type</th><th>sub-expressions</th><th>expression</th></tr>\n",
       "<tr><td>0</td><td>ExprTuple</td><td>1, 2</td><td><a class=\"ProveItLink\" href=\"expr.ipynb\"><img src=\"expr.png\" style=\"display:inline;vertical-align:middle;\" /></a></td></tr>\n",
       "<tr><td>1</td><td>Operation</td><td>operator:&nbsp;32<br>operands:&nbsp;3<br></td><td><a class=\"ProveItLink\" href=\"../f000a22ee52d32f631f74f2a1c6049d556a985470/expr.ipynb\"><img src=\"../f000a22ee52d32f631f74f2a1c6049d556a985470/expr.png\" style=\"display:inline;vertical-align:middle;\" /></a></td></tr>\n",
       "<tr><td>2</td><td>Operation</td><td>operator:&nbsp;32<br>operands:&nbsp;4<br></td><td><a class=\"ProveItLink\" href=\"../417394fa0507fb0f3399bafa053310b7d3aa58000/expr.ipynb\"><img src=\"../417394fa0507fb0f3399bafa053310b7d3aa58000/expr.png\" style=\"display:inline;vertical-align:middle;\" /></a></td></tr>\n",
       "<tr><td>3</td><td>ExprTuple</td><td>6, 5</td><td><a class=\"ProveItLink\" href=\"../766181ad2f5b2d94eec109d24f95853b74b8e3a60/expr.ipynb\"><img src=\"../766181ad2f5b2d94eec109d24f95853b74b8e3a60/expr.png\" style=\"display:inline;vertical-align:middle;\" /></a></td></tr>\n",
       "<tr><td>4</td><td>ExprTuple</td><td>6, 7</td><td><a class=\"ProveItLink\" href=\"../c7cca6f49af7635781b7c8bb4532edd5ba3723d50/expr.ipynb\"><img src=\"../c7cca6f49af7635781b7c8bb4532edd5ba3723d50/expr.png\" style=\"display:inline;vertical-align:middle;\" /></a></td></tr>\n",
       "<tr><td>5</td><td>Operation</td><td>operator:&nbsp;36<br>operands:&nbsp;8<br></td><td><a class=\"ProveItLink\" href=\"../58de40f5ce005784f3b33b7c7d07f70aae07f59f0/expr.ipynb\"><img src=\"../58de40f5ce005784f3b33b7c7d07f70aae07f59f0/expr.png\" style=\"display:inline;vertical-align:middle;\" /></a></td></tr>\n",
       "<tr><td>6</td><td>Operation</td><td>operator:&nbsp;32<br>operands:&nbsp;9<br></td><td><a class=\"ProveItLink\" href=\"../3c97177af637630ced4608f7e0ff2a8287db38a90/expr.ipynb\"><img src=\"../3c97177af637630ced4608f7e0ff2a8287db38a90/expr.png\" style=\"display:inline;vertical-align:middle;\" /></a></td></tr>\n",
       "<tr><td>7</td><td>Operation</td><td>operator:&nbsp;32<br>operands:&nbsp;10<br></td><td><a class=\"ProveItLink\" href=\"../8d65610359a2d1c2183e875872f3a67783af0d840/expr.ipynb\"><img src=\"../8d65610359a2d1c2183e875872f3a67783af0d840/expr.png\" style=\"display:inline;vertical-align:middle;\" /></a></td></tr>\n",
       "<tr><td>8</td><td>ExprTuple</td><td>11, 24</td><td><a class=\"ProveItLink\" href=\"../7bb9795a87ca499bd91bd59ac36d96e567760cc20/expr.ipynb\"><img src=\"../7bb9795a87ca499bd91bd59ac36d96e567760cc20/expr.png\" style=\"display:inline;vertical-align:middle;\" /></a></td></tr>\n",
       "<tr><td>9</td><td>ExprTuple</td><td>38, 23, 12</td><td><a class=\"ProveItLink\" href=\"../aad73bde1e3b486bebc10b5e8b3a37c14ba96f450/expr.ipynb\"><img src=\"../aad73bde1e3b486bebc10b5e8b3a37c14ba96f450/expr.png\" style=\"display:inline;vertical-align:middle;\" /></a></td></tr>\n",
       "<tr><td>10</td><td>ExprTuple</td><td>13, 14</td><td><a class=\"ProveItLink\" href=\"../9adb3f2140e578e0abaf8425f5b00fdeed6eef390/expr.ipynb\"><img src=\"../9adb3f2140e578e0abaf8425f5b00fdeed6eef390/expr.png\" style=\"display:inline;vertical-align:middle;\" /></a></td></tr>\n",
       "<tr><td>11</td><td>Operation</td><td>operator:&nbsp;32<br>operands:&nbsp;15<br></td><td><a class=\"ProveItLink\" href=\"../../../../../../numbers/exponentiation/__pv_it/theorems/2e7632d7fb92a25d4ea6384b31ece24120f6f1db0/expr.ipynb\"><img src=\"../../../../../../numbers/exponentiation/__pv_it/theorems/2e7632d7fb92a25d4ea6384b31ece24120f6f1db0/expr.png\" style=\"display:inline;vertical-align:middle;\" /></a></td></tr>\n",
       "<tr><td>12</td><td>Operation</td><td>operator:&nbsp;16<br>operands:&nbsp;17<br></td><td><a class=\"ProveItLink\" href=\"../50372c5eed3578caf4a5280da0d866541c9fe76d0/expr.ipynb\"><img src=\"../50372c5eed3578caf4a5280da0d866541c9fe76d0/expr.png\" style=\"display:inline;vertical-align:middle;\" /></a></td></tr>\n",
       "<tr><td>13</td><td>Operation</td><td>operator:&nbsp;18<br>operands:&nbsp;19<br></td><td><a class=\"ProveItLink\" href=\"../../../../__pv_it/common/41c7e8d55de04e24c56503fbffe6ac0318a53f990/expr.ipynb\"><img src=\"../../../../__pv_it/common/41c7e8d55de04e24c56503fbffe6ac0318a53f990/expr.png\" style=\"display:inline;vertical-align:middle;\" /></a></td></tr>\n",
       "<tr><td>14</td><td>Operation</td><td>operator:&nbsp;36<br>operands:&nbsp;20<br></td><td><a class=\"ProveItLink\" href=\"../8ab2be20516fb97c146eb1a1e2beb65763463de00/expr.ipynb\"><img src=\"../8ab2be20516fb97c146eb1a1e2beb65763463de00/expr.png\" style=\"display:inline;vertical-align:middle;\" /></a></td></tr>\n",
       "<tr><td>15</td><td>ExprTuple</td><td>38, 23</td><td><a class=\"ProveItLink\" href=\"../../../../../../numbers/exponentiation/__pv_it/theorems/2bd950b706b861210fab98cc5c9796aa28e4bf040/expr.ipynb\"><img src=\"../../../../../../numbers/exponentiation/__pv_it/theorems/2bd950b706b861210fab98cc5c9796aa28e4bf040/expr.png\" style=\"display:inline;vertical-align:middle;\" /></a></td></tr>\n",
       "<tr><td>16</td><td>Literal</td><td></td><td><a class=\"ProveItLink\" href=\"../../../../../../numbers/addition/__pv_it/common/4b7effaab3619a1c2c38fe2dee8601df8ec714590/expr.ipynb\"><img src=\"../../../../../../numbers/addition/__pv_it/common/4b7effaab3619a1c2c38fe2dee8601df8ec714590/expr.png\" style=\"display:inline;vertical-align:middle;\" /></a></td></tr>\n",
       "<tr><td>17</td><td>ExprTuple</td><td>21, 22</td><td><a class=\"ProveItLink\" href=\"../1f9f2ed29fec790736ea517d45c512af9083c7ac0/expr.ipynb\"><img src=\"../1f9f2ed29fec790736ea517d45c512af9083c7ac0/expr.png\" style=\"display:inline;vertical-align:middle;\" /></a></td></tr>\n",
       "<tr><td>18</td><td>Literal</td><td></td><td><a class=\"ProveItLink\" href=\"../../../../../../numbers/division/__pv_it/common/a2a633e1e3c749fb1f2692466b287b6348c5de840/expr.ipynb\"><img src=\"../../../../../../numbers/division/__pv_it/common/a2a633e1e3c749fb1f2692466b287b6348c5de840/expr.png\" style=\"display:inline;vertical-align:middle;\" /></a></td></tr>\n",
       "<tr><td>19</td><td>ExprTuple</td><td>31, 38</td><td><a class=\"ProveItLink\" href=\"../../../../../../numbers/numerals/decimals/__pv_it/theorems/df23a04353373623cccbfda09b61e0f594aa791a0/expr.ipynb\"><img src=\"../../../../../../numbers/numerals/decimals/__pv_it/theorems/df23a04353373623cccbfda09b61e0f594aa791a0/expr.png\" style=\"display:inline;vertical-align:middle;\" /></a></td></tr>\n",
       "<tr><td>20</td><td>ExprTuple</td><td>23, 24</td><td><a class=\"ProveItLink\" href=\"../73514178ea8fffca48ce1ce2eb0e8ad1cb1383770/expr.ipynb\"><img src=\"../73514178ea8fffca48ce1ce2eb0e8ad1cb1383770/expr.png\" style=\"display:inline;vertical-align:middle;\" /></a></td></tr>\n",
       "<tr><td>21</td><td>Operation</td><td>operator:&nbsp;40<br>operand:&nbsp;29<br></td><td><a class=\"ProveItLink\" href=\"../63b7ea1d3ee9ea564ad69e9e5f40cfd178e129bb0/expr.ipynb\"><img src=\"../63b7ea1d3ee9ea564ad69e9e5f40cfd178e129bb0/expr.png\" style=\"display:inline;vertical-align:middle;\" /></a></td></tr>\n",
       "<tr><td>22</td><td>Operation</td><td>operator:&nbsp;26<br>operand:&nbsp;30<br></td><td><a class=\"ProveItLink\" href=\"../../common/833e157257157d61cc42cb08459d50abb96eeea30/expr.ipynb\"><img src=\"../../common/833e157257157d61cc42cb08459d50abb96eeea30/expr.png\" style=\"display:inline;vertical-align:middle;\" /></a></td></tr>\n",
       "<tr><td>23</td><td>Literal</td><td></td><td><a class=\"ProveItLink\" href=\"../../../../../../numbers/number_sets/real_numbers/__pv_it/common/246c206266ac5b48800e508d580f91767b24c2df0/expr.ipynb\"><img src=\"../../../../../../numbers/number_sets/real_numbers/__pv_it/common/246c206266ac5b48800e508d580f91767b24c2df0/expr.png\" style=\"display:inline;vertical-align:middle;\" /></a></td></tr>\n",
       "<tr><td>24</td><td>Operation</td><td>operator:&nbsp;40<br>operand:&nbsp;31<br></td><td><a class=\"ProveItLink\" href=\"../../common/bf4beda21975fe8a0a5007615b5bcc943da59bb20/expr.ipynb\"><img src=\"../../common/bf4beda21975fe8a0a5007615b5bcc943da59bb20/expr.png\" style=\"display:inline;vertical-align:middle;\" /></a></td></tr>\n",
       "<tr><td>25</td><td>ExprTuple</td><td>29</td><td><a class=\"ProveItLink\" href=\"../1c412666e96c9d1137fdc1421657bdf9a211cccd0/expr.ipynb\"><img src=\"../1c412666e96c9d1137fdc1421657bdf9a211cccd0/expr.png\" style=\"display:inline;vertical-align:middle;\" /></a></td></tr>\n",
       "<tr><td>26</td><td>Literal</td><td></td><td><a class=\"ProveItLink\" href=\"../../common/d6b97444617188a78c398568a10ac4dbe1ffa6590/expr.ipynb\"><img src=\"../../common/d6b97444617188a78c398568a10ac4dbe1ffa6590/expr.png\" style=\"display:inline;vertical-align:middle;\" /></a></td></tr>\n",
       "<tr><td>27</td><td>ExprTuple</td><td>30</td><td><a class=\"ProveItLink\" href=\"../../common/8eec66445df3903052bd360ac92a5d6d7e9760f80/expr.ipynb\"><img src=\"../../common/8eec66445df3903052bd360ac92a5d6d7e9760f80/expr.png\" style=\"display:inline;vertical-align:middle;\" /></a></td></tr>\n",
       "<tr><td>28</td><td>ExprTuple</td><td>31</td><td><a class=\"ProveItLink\" href=\"../../../../__pv_it/common/b9e4f0dffece176bbe2f36127440684a20e0468e0/expr.ipynb\"><img src=\"../../../../__pv_it/common/b9e4f0dffece176bbe2f36127440684a20e0468e0/expr.png\" style=\"display:inline;vertical-align:middle;\" /></a></td></tr>\n",
       "<tr><td>29</td><td>Operation</td><td>operator:&nbsp;32<br>operands:&nbsp;33<br></td><td><a class=\"ProveItLink\" href=\"../57fc917782dd4395e68600b6380d738e2520f26d0/expr.ipynb\"><img src=\"../57fc917782dd4395e68600b6380d738e2520f26d0/expr.png\" style=\"display:inline;vertical-align:middle;\" /></a></td></tr>\n",
       "<tr><td>30</td><td>Literal</td><td></td><td><a class=\"ProveItLink\" href=\"../../common/d330793052bb239ae69702166b1d364acbd6f04c0/expr.ipynb\"><img src=\"../../common/d330793052bb239ae69702166b1d364acbd6f04c0/expr.png\" style=\"display:inline;vertical-align:middle;\" /></a></td></tr>\n",
       "<tr><td>31</td><td>Literal</td><td></td><td><a class=\"ProveItLink\" href=\"../../../../../../numbers/numerals/__pv_it/common/682157d4892d216d9e5626ed533aff9b56b9506e0/expr.ipynb\"><img src=\"../../../../../../numbers/numerals/__pv_it/common/682157d4892d216d9e5626ed533aff9b56b9506e0/expr.png\" style=\"display:inline;vertical-align:middle;\" /></a></td></tr>\n",
       "<tr><td>32</td><td>Literal</td><td></td><td><a class=\"ProveItLink\" href=\"../../../../../../numbers/multiplication/__pv_it/common/ed719cef37831779c16481533a4d380a2f95ab270/expr.ipynb\"><img src=\"../../../../../../numbers/multiplication/__pv_it/common/ed719cef37831779c16481533a4d380a2f95ab270/expr.png\" style=\"display:inline;vertical-align:middle;\" /></a></td></tr>\n",
       "<tr><td>33</td><td>ExprTuple</td><td>34, 35</td><td><a class=\"ProveItLink\" href=\"../12f3c3b99a89d20615da9ae784562d1ca2d68ba60/expr.ipynb\"><img src=\"../12f3c3b99a89d20615da9ae784562d1ca2d68ba60/expr.png\" style=\"display:inline;vertical-align:middle;\" /></a></td></tr>\n",
       "<tr><td>34</td><td>Variable</td><td></td><td><a class=\"ProveItLink\" href=\"../../../../../../__pv_it/common/27cc275d44b4f4499fb9ccfb3fab1a98165d2fa60/expr.ipynb\"><img src=\"../../../../../../__pv_it/common/27cc275d44b4f4499fb9ccfb3fab1a98165d2fa60/expr.png\" style=\"display:inline;vertical-align:middle;\" /></a></td></tr>\n",
       "<tr><td>35</td><td>Operation</td><td>operator:&nbsp;36<br>operands:&nbsp;37<br></td><td><a class=\"ProveItLink\" href=\"../70f5d44c7051a82c62b459bfa00eb4d7e1a0b9a30/expr.ipynb\"><img src=\"../70f5d44c7051a82c62b459bfa00eb4d7e1a0b9a30/expr.png\" style=\"display:inline;vertical-align:middle;\" /></a></td></tr>\n",
       "<tr><td>36</td><td>Literal</td><td></td><td><a class=\"ProveItLink\" href=\"../../../../../../numbers/exponentiation/__pv_it/common/0ac37aca1e54c35c5cda09672df32d4f69f1f3020/expr.ipynb\"><img src=\"../../../../../../numbers/exponentiation/__pv_it/common/0ac37aca1e54c35c5cda09672df32d4f69f1f3020/expr.png\" style=\"display:inline;vertical-align:middle;\" /></a></td></tr>\n",
       "<tr><td>37</td><td>ExprTuple</td><td>38, 39</td><td><a class=\"ProveItLink\" href=\"../f4fd966ab36ae298b9330de4a50ccb70f2cc4be70/expr.ipynb\"><img src=\"../f4fd966ab36ae298b9330de4a50ccb70f2cc4be70/expr.png\" style=\"display:inline;vertical-align:middle;\" /></a></td></tr>\n",
       "<tr><td>38</td><td>Literal</td><td></td><td><a class=\"ProveItLink\" href=\"../../../../../../numbers/numerals/__pv_it/common/af4aab8a07465db063742696e006d04670f30cf10/expr.ipynb\"><img src=\"../../../../../../numbers/numerals/__pv_it/common/af4aab8a07465db063742696e006d04670f30cf10/expr.png\" style=\"display:inline;vertical-align:middle;\" /></a></td></tr>\n",
       "<tr><td>39</td><td>Operation</td><td>operator:&nbsp;40<br>operand:&nbsp;42<br></td><td><a class=\"ProveItLink\" href=\"../716aa9beb2db21ec035d943cdb56782e21f175da0/expr.ipynb\"><img src=\"../716aa9beb2db21ec035d943cdb56782e21f175da0/expr.png\" style=\"display:inline;vertical-align:middle;\" /></a></td></tr>\n",
       "<tr><td>40</td><td>Literal</td><td></td><td><a class=\"ProveItLink\" href=\"../../../../../../numbers/negation/__pv_it/common/221b3c4d1770ee9051b7c044c3f9ec61196fc34b0/expr.ipynb\"><img src=\"../../../../../../numbers/negation/__pv_it/common/221b3c4d1770ee9051b7c044c3f9ec61196fc34b0/expr.png\" style=\"display:inline;vertical-align:middle;\" /></a></td></tr>\n",
       "<tr><td>41</td><td>ExprTuple</td><td>42</td><td><a class=\"ProveItLink\" href=\"../e96612f8f4ee9db42198cd12e6e4b4669e7a547a0/expr.ipynb\"><img src=\"../e96612f8f4ee9db42198cd12e6e4b4669e7a547a0/expr.png\" style=\"display:inline;vertical-align:middle;\" /></a></td></tr>\n",
       "<tr><td>42</td><td>Literal</td><td></td><td><a class=\"ProveItLink\" href=\"../../common/977cc67717328e22c93f8ab84e6a45e8cadce7790/expr.ipynb\"><img src=\"../../common/977cc67717328e22c93f8ab84e6a45e8cadce7790/expr.png\" style=\"display:inline;vertical-align:middle;\" /></a></td></tr>\n",
       "</table>\n"
      ],
      "text/plain": [
       "0. ((2 * pi * (-(l * 2^{-t}) + delta_{b_{f}})) * (2 * pi)^{-1}, (2 * pi * (-(l * 2^{-t}) + delta_{b_{f}})) * ((1 / 2) * pi^{-1}))\n",
       "   core type: ExprTuple\n",
       "   sub-expressions: 1, 2\n",
       "1. (2 * pi * (-(l * 2^{-t}) + delta_{b_{f}})) * (2 * pi)^{-1}\n",
       "   core type: Operation\n",
       "   operator: 32\n",
       "   operands: 3\n",
       "2. (2 * pi * (-(l * 2^{-t}) + delta_{b_{f}})) * ((1 / 2) * pi^{-1})\n",
       "   core type: Operation\n",
       "   operator: 32\n",
       "   operands: 4\n",
       "3. (2 * pi * (-(l * 2^{-t}) + delta_{b_{f}}), (2 * pi)^{-1})\n",
       "   core type: ExprTuple\n",
       "   sub-expressions: 6, 5\n",
       "4. (2 * pi * (-(l * 2^{-t}) + delta_{b_{f}}), (1 / 2) * pi^{-1})\n",
       "   core type: ExprTuple\n",
       "   sub-expressions: 6, 7\n",
       "5. (2 * pi)^{-1}\n",
       "   core type: Operation\n",
       "   operator: 36\n",
       "   operands: 8\n",
       "6. 2 * pi * (-(l * 2^{-t}) + delta_{b_{f}})\n",
       "   core type: Operation\n",
       "   operator: 32\n",
       "   operands: 9\n",
       "7. (1 / 2) * pi^{-1}\n",
       "   core type: Operation\n",
       "   operator: 32\n",
       "   operands: 10\n",
       "8. (2 * pi, -1)\n",
       "   core type: ExprTuple\n",
       "   sub-expressions: 11, 24\n",
       "9. (2, pi, -(l * 2^{-t}) + delta_{b_{f}})\n",
       "   core type: ExprTuple\n",
       "   sub-expressions: 38, 23, 12\n",
       "10. (1 / 2, pi^{-1})\n",
       "    core type: ExprTuple\n",
       "    sub-expressions: 13, 14\n",
       "11. 2 * pi\n",
       "    core type: Operation\n",
       "    operator: 32\n",
       "    operands: 15\n",
       "12. -(l * 2^{-t}) + delta_{b_{f}}\n",
       "    core type: Operation\n",
       "    operator: 16\n",
       "    operands: 17\n",
       "13. 1 / 2\n",
       "    core type: Operation\n",
       "    operator: 18\n",
       "    operands: 19\n",
       "14. pi^{-1}\n",
       "    core type: Operation\n",
       "    operator: 36\n",
       "    operands: 20\n",
       "15. (2, pi)\n",
       "    core type: ExprTuple\n",
       "    sub-expressions: 38, 23\n",
       "16. +\n",
       "    core type: Literal\n",
       "    sub-expressions: \n",
       "17. (-(l * 2^{-t}), delta_{b_{f}})\n",
       "    core type: ExprTuple\n",
       "    sub-expressions: 21, 22\n",
       "18. /\n",
       "    core type: Literal\n",
       "    sub-expressions: \n",
       "19. (1, 2)\n",
       "    core type: ExprTuple\n",
       "    sub-expressions: 31, 38\n",
       "20. (pi, -1)\n",
       "    core type: ExprTuple\n",
       "    sub-expressions: 23, 24\n",
       "21. -(l * 2^{-t})\n",
       "    core type: Operation\n",
       "    operator: 40\n",
       "    operand: 29\n",
       "22. delta_{b_{f}}\n",
       "    core type: Operation\n",
       "    operator: 26\n",
       "    operand: 30\n",
       "23. pi\n",
       "    core type: Literal\n",
       "    sub-expressions: \n",
       "24. -1\n",
       "    core type: Operation\n",
       "    operator: 40\n",
       "    operand: 31\n",
       "25. (l * 2^{-t})\n",
       "    core type: ExprTuple\n",
       "    sub-expressions: 29\n",
       "26. delta\n",
       "    core type: Literal\n",
       "    sub-expressions: \n",
       "27. (b_{f})\n",
       "    core type: ExprTuple\n",
       "    sub-expressions: 30\n",
       "28. (1)\n",
       "    core type: ExprTuple\n",
       "    sub-expressions: 31\n",
       "29. l * 2^{-t}\n",
       "    core type: Operation\n",
       "    operator: 32\n",
       "    operands: 33\n",
       "30. b_{f}\n",
       "    core type: Literal\n",
       "    sub-expressions: \n",
       "31. 1\n",
       "    core type: Literal\n",
       "    sub-expressions: \n",
       "32. *\n",
       "    core type: Literal\n",
       "    sub-expressions: \n",
       "33. (l, 2^{-t})\n",
       "    core type: ExprTuple\n",
       "    sub-expressions: 34, 35\n",
       "34. l\n",
       "    core type: Variable\n",
       "    sub-expressions: \n",
       "35. 2^{-t}\n",
       "    core type: Operation\n",
       "    operator: 36\n",
       "    operands: 37\n",
       "36. Exp\n",
       "    core type: Literal\n",
       "    sub-expressions: \n",
       "37. (2, -t)\n",
       "    core type: ExprTuple\n",
       "    sub-expressions: 38, 39\n",
       "38. 2\n",
       "    core type: Literal\n",
       "    sub-expressions: \n",
       "39. -t\n",
       "    core type: Operation\n",
       "    operator: 40\n",
       "    operand: 42\n",
       "40. -\n",
       "    core type: Literal\n",
       "    sub-expressions: \n",
       "41. (t)\n",
       "    core type: ExprTuple\n",
       "    sub-expressions: 42\n",
       "42. t\n",
       "    core type: Literal\n",
       "    sub-expressions: "
      ]
     },
     "metadata": {},
     "output_type": "display_data"
    }
   ],
   "source": [
    "# display the expression information\n",
    "stored_expr.expr_info()"
   ]
  },
  {
   "cell_type": "code",
   "execution_count": null,
   "metadata": {},
   "outputs": [],
   "source": []
  }
 ],
 "metadata": {
  "kernelspec": {
   "display_name": "Python 3",
   "language": "python",
   "name": "python3"
  }
 },
 "nbformat": 4,
 "nbformat_minor": 0
}