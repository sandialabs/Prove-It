{
 "cells": [
  {
   "cell_type": "markdown",
   "metadata": {},
   "source": [
    "Expression of type <a class=\"ProveItLink\" href=\"../../../../../../../../doc/html/api/proveit.ExprTuple.html\">ExprTuple</a>\n",
    "=======================\n",
    "# from the theory of <a class=\"ProveItLink\" href=\"../../../_theory_nbs_/theory.ipynb\">proveit.physics.quantum.QPE</a>"
   ]
  },
  {
   "cell_type": "code",
   "execution_count": 1,
   "metadata": {},
   "outputs": [],
   "source": [
    "import proveit\n",
    "# Automation is not needed when building an expression:\n",
    "proveit.defaults.automation = False # This will speed things up.\n",
    "proveit.defaults.inline_pngs = False # Makes files smaller.\n",
    "%load_expr # Load the stored expression as 'stored_expr'\n",
    "# import Expression classes needed to build the expression\n",
    "from proveit import ExprTuple, l\n",
    "from proveit.numbers import Exp, Mult, e, frac, i, one, pi, subtract, two\n",
    "from proveit.physics.quantum.QPE import _delta_b_floor, _two_pow_t"
   ]
  },
  {
   "cell_type": "code",
   "execution_count": 2,
   "metadata": {},
   "outputs": [
    {
     "data": {
      "text/html": [
       "<strong id=\"expr\">expr:</strong> <a class=\"ProveItLink\" href=\"expr.ipynb\"><img src=\"expr.png\" style=\"display:inline;vertical-align:middle;\" /></a><br>"
      ],
      "text/plain": [
       "<IPython.core.display.HTML object>"
      ]
     },
     "metadata": {},
     "output_type": "display_data"
    }
   ],
   "source": [
    "# build up the expression from sub-expressions\n",
    "expr = ExprTuple(frac(subtract(one, Exp(e, Mult(two, pi, i, subtract(Mult(_two_pow_t, _delta_b_floor), l)))), subtract(one, Exp(e, Mult(two, pi, i, subtract(_delta_b_floor, frac(l, _two_pow_t)))))))"
   ]
  },
  {
   "cell_type": "code",
   "execution_count": 3,
   "metadata": {},
   "outputs": [
    {
     "name": "stdout",
     "output_type": "stream",
     "text": [
      "Passed sanity check: expr matches stored_expr\n"
     ]
    }
   ],
   "source": [
    "# check that the built expression is the same as the stored expression\n",
    "assert expr == stored_expr\n",
    "assert expr._style_id == stored_expr._style_id\n",
    "print(\"Passed sanity check: expr matches stored_expr\")"
   ]
  },
  {
   "cell_type": "code",
   "execution_count": 4,
   "metadata": {},
   "outputs": [
    {
     "name": "stdout",
     "output_type": "stream",
     "text": [
      "\\left(\\frac{1 - \\mathsf{e}^{2 \\cdot \\pi \\cdot \\mathsf{i} \\cdot \\left(\\left(2^{t} \\cdot \\delta_{b_{\\textit{f}}}\\right) - l\\right)}}{1 - \\mathsf{e}^{2 \\cdot \\pi \\cdot \\mathsf{i} \\cdot \\left(\\delta_{b_{\\textit{f}}} - \\frac{l}{2^{t}}\\right)}}\\right)\n"
     ]
    }
   ],
   "source": [
    "# Show the LaTeX representation of the expression for convenience if you need it.\n",
    "print(stored_expr.latex())"
   ]
  },
  {
   "cell_type": "code",
   "execution_count": 5,
   "metadata": {},
   "outputs": [
    {
     "data": {
      "text/html": [
       "no style options"
      ],
      "text/plain": [
       "no style options"
      ]
     },
     "metadata": {},
     "output_type": "display_data"
    }
   ],
   "source": [
    "stored_expr.style_options()"
   ]
  },
  {
   "cell_type": "code",
   "execution_count": 6,
   "metadata": {},
   "outputs": [
    {
     "data": {
      "text/html": [
       "<table><tr><th>&nbsp;</th><th>core type</th><th>sub-expressions</th><th>expression</th></tr>\n",
       "<tr><td>0</td><td>ExprTuple</td><td>1</td><td><a class=\"ProveItLink\" href=\"expr.ipynb\"><img src=\"expr.png\" style=\"display:inline;vertical-align:middle;\" /></a></td></tr>\n",
       "<tr><td>1</td><td>Operation</td><td>operator:&nbsp;40<br>operands:&nbsp;2<br></td><td><a class=\"ProveItLink\" href=\"../../theorems/a3f7040ea0d283214f410d907df7d941b78b0ab40/expr.ipynb\"><img src=\"../../theorems/a3f7040ea0d283214f410d907df7d941b78b0ab40/expr.png\" style=\"display:inline;vertical-align:middle;\" /></a></td></tr>\n",
       "<tr><td>2</td><td>ExprTuple</td><td>3, 4</td><td><a class=\"ProveItLink\" href=\"../../theorems/a7984cba8b173e7ee06812099a0a2d96295b4c1f0/expr.ipynb\"><img src=\"../../theorems/a7984cba8b173e7ee06812099a0a2d96295b4c1f0/expr.png\" style=\"display:inline;vertical-align:middle;\" /></a></td></tr>\n",
       "<tr><td>3</td><td>Operation</td><td>operator:&nbsp;26<br>operands:&nbsp;5<br></td><td><a class=\"ProveItLink\" href=\"../../theorems/a8cbcd566a7de4e2771eaac07b6776e34c6c94860/expr.ipynb\"><img src=\"../../theorems/a8cbcd566a7de4e2771eaac07b6776e34c6c94860/expr.png\" style=\"display:inline;vertical-align:middle;\" /></a></td></tr>\n",
       "<tr><td>4</td><td>Operation</td><td>operator:&nbsp;26<br>operands:&nbsp;6<br></td><td><a class=\"ProveItLink\" href=\"../../theorems/f24c8323e1343c7bb9b02f2d6be0aff32ccc15640/expr.ipynb\"><img src=\"../../theorems/f24c8323e1343c7bb9b02f2d6be0aff32ccc15640/expr.png\" style=\"display:inline;vertical-align:middle;\" /></a></td></tr>\n",
       "<tr><td>5</td><td>ExprTuple</td><td>8, 7</td><td><a class=\"ProveItLink\" href=\"../../theorems/61eb00425313c574d5196a749ad0b6145d36b25d0/expr.ipynb\"><img src=\"../../theorems/61eb00425313c574d5196a749ad0b6145d36b25d0/expr.png\" style=\"display:inline;vertical-align:middle;\" /></a></td></tr>\n",
       "<tr><td>6</td><td>ExprTuple</td><td>8, 9</td><td><a class=\"ProveItLink\" href=\"../../theorems/7817276edebaba88fdebc202ed29d489b000dd310/expr.ipynb\"><img src=\"../../theorems/7817276edebaba88fdebc202ed29d489b000dd310/expr.png\" style=\"display:inline;vertical-align:middle;\" /></a></td></tr>\n",
       "<tr><td>7</td><td>Operation</td><td>operator:&nbsp;34<br>operand:&nbsp;12<br></td><td><a class=\"ProveItLink\" href=\"../../theorems/74f9ef921871b657391c4b15406204cafafda6330/expr.ipynb\"><img src=\"../../theorems/74f9ef921871b657391c4b15406204cafafda6330/expr.png\" style=\"display:inline;vertical-align:middle;\" /></a></td></tr>\n",
       "<tr><td>8</td><td>Literal</td><td></td><td><a class=\"ProveItLink\" href=\"../../../../../../numbers/numerals/__pv_it/common/682157d4892d216d9e5626ed533aff9b56b9506e0/expr.ipynb\"><img src=\"../../../../../../numbers/numerals/__pv_it/common/682157d4892d216d9e5626ed533aff9b56b9506e0/expr.png\" style=\"display:inline;vertical-align:middle;\" /></a></td></tr>\n",
       "<tr><td>9</td><td>Operation</td><td>operator:&nbsp;34<br>operand:&nbsp;13<br></td><td><a class=\"ProveItLink\" href=\"../../theorems/1d413eebb074916208651c6a492ea88d219009310/expr.ipynb\"><img src=\"../../theorems/1d413eebb074916208651c6a492ea88d219009310/expr.png\" style=\"display:inline;vertical-align:middle;\" /></a></td></tr>\n",
       "<tr><td>10</td><td>ExprTuple</td><td>12</td><td><a class=\"ProveItLink\" href=\"../../theorems/10472596515362ed03776ca12625a6f0e67689dc0/expr.ipynb\"><img src=\"../../theorems/10472596515362ed03776ca12625a6f0e67689dc0/expr.png\" style=\"display:inline;vertical-align:middle;\" /></a></td></tr>\n",
       "<tr><td>11</td><td>ExprTuple</td><td>13</td><td><a class=\"ProveItLink\" href=\"../../theorems/ae2bdc3beeaf321ebd7426b5126cb5bad8d11dc10/expr.ipynb\"><img src=\"../../theorems/ae2bdc3beeaf321ebd7426b5126cb5bad8d11dc10/expr.png\" style=\"display:inline;vertical-align:middle;\" /></a></td></tr>\n",
       "<tr><td>12</td><td>Operation</td><td>operator:&nbsp;45<br>operands:&nbsp;14<br></td><td><a class=\"ProveItLink\" href=\"../../theorems/fa73bf34d6dc2793b72eb3726a63b3947ead0c300/expr.ipynb\"><img src=\"../../theorems/fa73bf34d6dc2793b72eb3726a63b3947ead0c300/expr.png\" style=\"display:inline;vertical-align:middle;\" /></a></td></tr>\n",
       "<tr><td>13</td><td>Operation</td><td>operator:&nbsp;45<br>operands:&nbsp;15<br></td><td><a class=\"ProveItLink\" href=\"../../theorems/5773b369d9985ff6f0f8a68a1b12b0906c5786330/expr.ipynb\"><img src=\"../../theorems/5773b369d9985ff6f0f8a68a1b12b0906c5786330/expr.png\" style=\"display:inline;vertical-align:middle;\" /></a></td></tr>\n",
       "<tr><td>14</td><td>ExprTuple</td><td>17, 16</td><td><a class=\"ProveItLink\" href=\"../../theorems/d4e2049d0328cf14ec95bf5b07e753c41cbadbd80/expr.ipynb\"><img src=\"../../theorems/d4e2049d0328cf14ec95bf5b07e753c41cbadbd80/expr.png\" style=\"display:inline;vertical-align:middle;\" /></a></td></tr>\n",
       "<tr><td>15</td><td>ExprTuple</td><td>17, 18</td><td><a class=\"ProveItLink\" href=\"../../theorems/f83802745918f4ad6417c51a3f4c551b3b8530a40/expr.ipynb\"><img src=\"../../theorems/f83802745918f4ad6417c51a3f4c551b3b8530a40/expr.png\" style=\"display:inline;vertical-align:middle;\" /></a></td></tr>\n",
       "<tr><td>16</td><td>Operation</td><td>operator:&nbsp;31<br>operands:&nbsp;19<br></td><td><a class=\"ProveItLink\" href=\"../../theorems/101e1a586a79341ab1297721e79e70511b0fa6be0/expr.ipynb\"><img src=\"../../theorems/101e1a586a79341ab1297721e79e70511b0fa6be0/expr.png\" style=\"display:inline;vertical-align:middle;\" /></a></td></tr>\n",
       "<tr><td>17</td><td>Literal</td><td></td><td><a class=\"ProveItLink\" href=\"../../../../../../numbers/number_sets/real_numbers/__pv_it/common/e531ffa54fd897084533764a4a14f19f590674f80/expr.ipynb\"><img src=\"../../../../../../numbers/number_sets/real_numbers/__pv_it/common/e531ffa54fd897084533764a4a14f19f590674f80/expr.png\" style=\"display:inline;vertical-align:middle;\" /></a></td></tr>\n",
       "<tr><td>18</td><td>Operation</td><td>operator:&nbsp;31<br>operands:&nbsp;20<br></td><td><a class=\"ProveItLink\" href=\"../../theorems/cb9ccf17128807ff9306e39fbc4f87179017e6990/expr.ipynb\"><img src=\"../../theorems/cb9ccf17128807ff9306e39fbc4f87179017e6990/expr.png\" style=\"display:inline;vertical-align:middle;\" /></a></td></tr>\n",
       "<tr><td>19</td><td>ExprTuple</td><td>47, 22, 23, 21</td><td><a class=\"ProveItLink\" href=\"../../theorems/2d217c1abf44da12adc7ddcd6b18bfebf1fbbf830/expr.ipynb\"><img src=\"../../theorems/2d217c1abf44da12adc7ddcd6b18bfebf1fbbf830/expr.png\" style=\"display:inline;vertical-align:middle;\" /></a></td></tr>\n",
       "<tr><td>20</td><td>ExprTuple</td><td>47, 22, 23, 24</td><td><a class=\"ProveItLink\" href=\"../../theorems/efb7695a0815348deb43b0386a1b674598932ee40/expr.ipynb\"><img src=\"../../theorems/efb7695a0815348deb43b0386a1b674598932ee40/expr.png\" style=\"display:inline;vertical-align:middle;\" /></a></td></tr>\n",
       "<tr><td>21</td><td>Operation</td><td>operator:&nbsp;26<br>operands:&nbsp;25<br></td><td><a class=\"ProveItLink\" href=\"../../theorems/6f1e4d5ced2b9f326d873f5748ee844b5bf956220/expr.ipynb\"><img src=\"../../theorems/6f1e4d5ced2b9f326d873f5748ee844b5bf956220/expr.png\" style=\"display:inline;vertical-align:middle;\" /></a></td></tr>\n",
       "<tr><td>22</td><td>Literal</td><td></td><td><a class=\"ProveItLink\" href=\"../../../../../../numbers/number_sets/real_numbers/__pv_it/common/246c206266ac5b48800e508d580f91767b24c2df0/expr.ipynb\"><img src=\"../../../../../../numbers/number_sets/real_numbers/__pv_it/common/246c206266ac5b48800e508d580f91767b24c2df0/expr.png\" style=\"display:inline;vertical-align:middle;\" /></a></td></tr>\n",
       "<tr><td>23</td><td>Literal</td><td></td><td><a class=\"ProveItLink\" href=\"../../../../../../numbers/number_sets/complex_numbers/__pv_it/common/6c9cc69d472f352324c298b2318df233e9a7e0250/expr.ipynb\"><img src=\"../../../../../../numbers/number_sets/complex_numbers/__pv_it/common/6c9cc69d472f352324c298b2318df233e9a7e0250/expr.png\" style=\"display:inline;vertical-align:middle;\" /></a></td></tr>\n",
       "<tr><td>24</td><td>Operation</td><td>operator:&nbsp;26<br>operands:&nbsp;27<br></td><td><a class=\"ProveItLink\" href=\"../../theorems/2228158b78aa92fcfb8b2e84364951b48aac82970/expr.ipynb\"><img src=\"../../theorems/2228158b78aa92fcfb8b2e84364951b48aac82970/expr.png\" style=\"display:inline;vertical-align:middle;\" /></a></td></tr>\n",
       "<tr><td>25</td><td>ExprTuple</td><td>28, 29</td><td><a class=\"ProveItLink\" href=\"../../theorems/50d77ea3321335dfd3b9e12ed17ae6c8827d93880/expr.ipynb\"><img src=\"../../theorems/50d77ea3321335dfd3b9e12ed17ae6c8827d93880/expr.png\" style=\"display:inline;vertical-align:middle;\" /></a></td></tr>\n",
       "<tr><td>26</td><td>Literal</td><td></td><td><a class=\"ProveItLink\" href=\"../../../../../../numbers/addition/__pv_it/common/4b7effaab3619a1c2c38fe2dee8601df8ec714590/expr.ipynb\"><img src=\"../../../../../../numbers/addition/__pv_it/common/4b7effaab3619a1c2c38fe2dee8601df8ec714590/expr.png\" style=\"display:inline;vertical-align:middle;\" /></a></td></tr>\n",
       "<tr><td>27</td><td>ExprTuple</td><td>36, 30</td><td><a class=\"ProveItLink\" href=\"../../theorems/ad9306d1942df9fb8dd19aaeadb445ed4ced136f0/expr.ipynb\"><img src=\"../../theorems/ad9306d1942df9fb8dd19aaeadb445ed4ced136f0/expr.png\" style=\"display:inline;vertical-align:middle;\" /></a></td></tr>\n",
       "<tr><td>28</td><td>Operation</td><td>operator:&nbsp;31<br>operands:&nbsp;32<br></td><td><a class=\"ProveItLink\" href=\"../../common/940fcad8977dd953271c0334bf6744ba39a895a30/expr.ipynb\"><img src=\"../../common/940fcad8977dd953271c0334bf6744ba39a895a30/expr.png\" style=\"display:inline;vertical-align:middle;\" /></a></td></tr>\n",
       "<tr><td>29</td><td>Operation</td><td>operator:&nbsp;34<br>operand:&nbsp;43<br></td><td><a class=\"ProveItLink\" href=\"../../theorems/e763d4ce92f875a15986f998de614c4eda7bcc780/expr.ipynb\"><img src=\"../../theorems/e763d4ce92f875a15986f998de614c4eda7bcc780/expr.png\" style=\"display:inline;vertical-align:middle;\" /></a></td></tr>\n",
       "<tr><td>30</td><td>Operation</td><td>operator:&nbsp;34<br>operand:&nbsp;37<br></td><td><a class=\"ProveItLink\" href=\"../../theorems/400ae4473727f2fbe37a6d049af6de0ef76f59f20/expr.ipynb\"><img src=\"../../theorems/400ae4473727f2fbe37a6d049af6de0ef76f59f20/expr.png\" style=\"display:inline;vertical-align:middle;\" /></a></td></tr>\n",
       "<tr><td>31</td><td>Literal</td><td></td><td><a class=\"ProveItLink\" href=\"../../../../../../numbers/multiplication/__pv_it/common/ed719cef37831779c16481533a4d380a2f95ab270/expr.ipynb\"><img src=\"../../../../../../numbers/multiplication/__pv_it/common/ed719cef37831779c16481533a4d380a2f95ab270/expr.png\" style=\"display:inline;vertical-align:middle;\" /></a></td></tr>\n",
       "<tr><td>32</td><td>ExprTuple</td><td>44, 36</td><td><a class=\"ProveItLink\" href=\"../../common/827c610c960f7cc82c804f1237e0082192f19aae0/expr.ipynb\"><img src=\"../../common/827c610c960f7cc82c804f1237e0082192f19aae0/expr.png\" style=\"display:inline;vertical-align:middle;\" /></a></td></tr>\n",
       "<tr><td>33</td><td>ExprTuple</td><td>43</td><td><a class=\"ProveItLink\" href=\"../../common/039a14dbb9d0bf99f342285bcbd227a70d804d7f0/expr.ipynb\"><img src=\"../../common/039a14dbb9d0bf99f342285bcbd227a70d804d7f0/expr.png\" style=\"display:inline;vertical-align:middle;\" /></a></td></tr>\n",
       "<tr><td>34</td><td>Literal</td><td></td><td><a class=\"ProveItLink\" href=\"../../../../../../numbers/negation/__pv_it/common/221b3c4d1770ee9051b7c044c3f9ec61196fc34b0/expr.ipynb\"><img src=\"../../../../../../numbers/negation/__pv_it/common/221b3c4d1770ee9051b7c044c3f9ec61196fc34b0/expr.png\" style=\"display:inline;vertical-align:middle;\" /></a></td></tr>\n",
       "<tr><td>35</td><td>ExprTuple</td><td>37</td><td><a class=\"ProveItLink\" href=\"../../theorems/4f0a257d24cef4eabe8390df76556a33aa0558c90/expr.ipynb\"><img src=\"../../theorems/4f0a257d24cef4eabe8390df76556a33aa0558c90/expr.png\" style=\"display:inline;vertical-align:middle;\" /></a></td></tr>\n",
       "<tr><td>36</td><td>Operation</td><td>operator:&nbsp;38<br>operand:&nbsp;42<br></td><td><a class=\"ProveItLink\" href=\"../../common/833e157257157d61cc42cb08459d50abb96eeea30/expr.ipynb\"><img src=\"../../common/833e157257157d61cc42cb08459d50abb96eeea30/expr.png\" style=\"display:inline;vertical-align:middle;\" /></a></td></tr>\n",
       "<tr><td>37</td><td>Operation</td><td>operator:&nbsp;40<br>operands:&nbsp;41<br></td><td><a class=\"ProveItLink\" href=\"../../theorems/1ac0ed8d2ca5886c0b4d21f476a70a08871b7f950/expr.ipynb\"><img src=\"../../theorems/1ac0ed8d2ca5886c0b4d21f476a70a08871b7f950/expr.png\" style=\"display:inline;vertical-align:middle;\" /></a></td></tr>\n",
       "<tr><td>38</td><td>Literal</td><td></td><td><a class=\"ProveItLink\" href=\"../../common/d6b97444617188a78c398568a10ac4dbe1ffa6590/expr.ipynb\"><img src=\"../../common/d6b97444617188a78c398568a10ac4dbe1ffa6590/expr.png\" style=\"display:inline;vertical-align:middle;\" /></a></td></tr>\n",
       "<tr><td>39</td><td>ExprTuple</td><td>42</td><td><a class=\"ProveItLink\" href=\"../../common/8eec66445df3903052bd360ac92a5d6d7e9760f80/expr.ipynb\"><img src=\"../../common/8eec66445df3903052bd360ac92a5d6d7e9760f80/expr.png\" style=\"display:inline;vertical-align:middle;\" /></a></td></tr>\n",
       "<tr><td>40</td><td>Literal</td><td></td><td><a class=\"ProveItLink\" href=\"../../../../../../numbers/division/__pv_it/common/a2a633e1e3c749fb1f2692466b287b6348c5de840/expr.ipynb\"><img src=\"../../../../../../numbers/division/__pv_it/common/a2a633e1e3c749fb1f2692466b287b6348c5de840/expr.png\" style=\"display:inline;vertical-align:middle;\" /></a></td></tr>\n",
       "<tr><td>41</td><td>ExprTuple</td><td>43, 44</td><td><a class=\"ProveItLink\" href=\"../../theorems/0d41a0d404fb2740da70aad4e464a6ffadf43f320/expr.ipynb\"><img src=\"../../theorems/0d41a0d404fb2740da70aad4e464a6ffadf43f320/expr.png\" style=\"display:inline;vertical-align:middle;\" /></a></td></tr>\n",
       "<tr><td>42</td><td>Literal</td><td></td><td><a class=\"ProveItLink\" href=\"../../common/d330793052bb239ae69702166b1d364acbd6f04c0/expr.ipynb\"><img src=\"../../common/d330793052bb239ae69702166b1d364acbd6f04c0/expr.png\" style=\"display:inline;vertical-align:middle;\" /></a></td></tr>\n",
       "<tr><td>43</td><td>Variable</td><td></td><td><a class=\"ProveItLink\" href=\"../../../../../../__pv_it/common/27cc275d44b4f4499fb9ccfb3fab1a98165d2fa60/expr.ipynb\"><img src=\"../../../../../../__pv_it/common/27cc275d44b4f4499fb9ccfb3fab1a98165d2fa60/expr.png\" style=\"display:inline;vertical-align:middle;\" /></a></td></tr>\n",
       "<tr><td>44</td><td>Operation</td><td>operator:&nbsp;45<br>operands:&nbsp;46<br></td><td><a class=\"ProveItLink\" href=\"../../common/18332e4e627d64eadf0d81efed19ae3e9d007d510/expr.ipynb\"><img src=\"../../common/18332e4e627d64eadf0d81efed19ae3e9d007d510/expr.png\" style=\"display:inline;vertical-align:middle;\" /></a></td></tr>\n",
       "<tr><td>45</td><td>Literal</td><td></td><td><a class=\"ProveItLink\" href=\"../../../../../../numbers/exponentiation/__pv_it/common/0ac37aca1e54c35c5cda09672df32d4f69f1f3020/expr.ipynb\"><img src=\"../../../../../../numbers/exponentiation/__pv_it/common/0ac37aca1e54c35c5cda09672df32d4f69f1f3020/expr.png\" style=\"display:inline;vertical-align:middle;\" /></a></td></tr>\n",
       "<tr><td>46</td><td>ExprTuple</td><td>47, 48</td><td><a class=\"ProveItLink\" href=\"../../common/e32fd834a589b0231aa39da242e9381ec87261b00/expr.ipynb\"><img src=\"../../common/e32fd834a589b0231aa39da242e9381ec87261b00/expr.png\" style=\"display:inline;vertical-align:middle;\" /></a></td></tr>\n",
       "<tr><td>47</td><td>Literal</td><td></td><td><a class=\"ProveItLink\" href=\"../../../../../../numbers/numerals/__pv_it/common/af4aab8a07465db063742696e006d04670f30cf10/expr.ipynb\"><img src=\"../../../../../../numbers/numerals/__pv_it/common/af4aab8a07465db063742696e006d04670f30cf10/expr.png\" style=\"display:inline;vertical-align:middle;\" /></a></td></tr>\n",
       "<tr><td>48</td><td>Literal</td><td></td><td><a class=\"ProveItLink\" href=\"../../common/977cc67717328e22c93f8ab84e6a45e8cadce7790/expr.ipynb\"><img src=\"../../common/977cc67717328e22c93f8ab84e6a45e8cadce7790/expr.png\" style=\"display:inline;vertical-align:middle;\" /></a></td></tr>\n",
       "</table>\n"
      ],
      "text/plain": [
       "0. ((1 - e^{2 * pi * i * ((2^{t} * delta_{b_{f}}) - l)}) / (1 - e^{2 * pi * i * (delta_{b_{f}} - (l / 2^{t}))}))\n",
       "   core type: ExprTuple\n",
       "   sub-expressions: 1\n",
       "1. (1 - e^{2 * pi * i * ((2^{t} * delta_{b_{f}}) - l)}) / (1 - e^{2 * pi * i * (delta_{b_{f}} - (l / 2^{t}))})\n",
       "   core type: Operation\n",
       "   operator: 40\n",
       "   operands: 2\n",
       "2. (1 - e^{2 * pi * i * ((2^{t} * delta_{b_{f}}) - l)}, 1 - e^{2 * pi * i * (delta_{b_{f}} - (l / 2^{t}))})\n",
       "   core type: ExprTuple\n",
       "   sub-expressions: 3, 4\n",
       "3. 1 - e^{2 * pi * i * ((2^{t} * delta_{b_{f}}) - l)}\n",
       "   core type: Operation\n",
       "   operator: 26\n",
       "   operands: 5\n",
       "4. 1 - e^{2 * pi * i * (delta_{b_{f}} - (l / 2^{t}))}\n",
       "   core type: Operation\n",
       "   operator: 26\n",
       "   operands: 6\n",
       "5. (1, -e^{2 * pi * i * ((2^{t} * delta_{b_{f}}) - l)})\n",
       "   core type: ExprTuple\n",
       "   sub-expressions: 8, 7\n",
       "6. (1, -e^{2 * pi * i * (delta_{b_{f}} - (l / 2^{t}))})\n",
       "   core type: ExprTuple\n",
       "   sub-expressions: 8, 9\n",
       "7. -e^{2 * pi * i * ((2^{t} * delta_{b_{f}}) - l)}\n",
       "   core type: Operation\n",
       "   operator: 34\n",
       "   operand: 12\n",
       "8. 1\n",
       "   core type: Literal\n",
       "   sub-expressions: \n",
       "9. -e^{2 * pi * i * (delta_{b_{f}} - (l / 2^{t}))}\n",
       "   core type: Operation\n",
       "   operator: 34\n",
       "   operand: 13\n",
       "10. (e^{2 * pi * i * ((2^{t} * delta_{b_{f}}) - l)})\n",
       "    core type: ExprTuple\n",
       "    sub-expressions: 12\n",
       "11. (e^{2 * pi * i * (delta_{b_{f}} - (l / 2^{t}))})\n",
       "    core type: ExprTuple\n",
       "    sub-expressions: 13\n",
       "12. e^{2 * pi * i * ((2^{t} * delta_{b_{f}}) - l)}\n",
       "    core type: Operation\n",
       "    operator: 45\n",
       "    operands: 14\n",
       "13. e^{2 * pi * i * (delta_{b_{f}} - (l / 2^{t}))}\n",
       "    core type: Operation\n",
       "    operator: 45\n",
       "    operands: 15\n",
       "14. (e, 2 * pi * i * ((2^{t} * delta_{b_{f}}) - l))\n",
       "    core type: ExprTuple\n",
       "    sub-expressions: 17, 16\n",
       "15. (e, 2 * pi * i * (delta_{b_{f}} - (l / 2^{t})))\n",
       "    core type: ExprTuple\n",
       "    sub-expressions: 17, 18\n",
       "16. 2 * pi * i * ((2^{t} * delta_{b_{f}}) - l)\n",
       "    core type: Operation\n",
       "    operator: 31\n",
       "    operands: 19\n",
       "17. e\n",
       "    core type: Literal\n",
       "    sub-expressions: \n",
       "18. 2 * pi * i * (delta_{b_{f}} - (l / 2^{t}))\n",
       "    core type: Operation\n",
       "    operator: 31\n",
       "    operands: 20\n",
       "19. (2, pi, i, (2^{t} * delta_{b_{f}}) - l)\n",
       "    core type: ExprTuple\n",
       "    sub-expressions: 47, 22, 23, 21\n",
       "20. (2, pi, i, delta_{b_{f}} - (l / 2^{t}))\n",
       "    core type: ExprTuple\n",
       "    sub-expressions: 47, 22, 23, 24\n",
       "21. (2^{t} * delta_{b_{f}}) - l\n",
       "    core type: Operation\n",
       "    operator: 26\n",
       "    operands: 25\n",
       "22. pi\n",
       "    core type: Literal\n",
       "    sub-expressions: \n",
       "23. i\n",
       "    core type: Literal\n",
       "    sub-expressions: \n",
       "24. delta_{b_{f}} - (l / 2^{t})\n",
       "    core type: Operation\n",
       "    operator: 26\n",
       "    operands: 27\n",
       "25. (2^{t} * delta_{b_{f}}, -l)\n",
       "    core type: ExprTuple\n",
       "    sub-expressions: 28, 29\n",
       "26. +\n",
       "    core type: Literal\n",
       "    sub-expressions: \n",
       "27. (delta_{b_{f}}, -(l / 2^{t}))\n",
       "    core type: ExprTuple\n",
       "    sub-expressions: 36, 30\n",
       "28. 2^{t} * delta_{b_{f}}\n",
       "    core type: Operation\n",
       "    operator: 31\n",
       "    operands: 32\n",
       "29. -l\n",
       "    core type: Operation\n",
       "    operator: 34\n",
       "    operand: 43\n",
       "30. -(l / 2^{t})\n",
       "    core type: Operation\n",
       "    operator: 34\n",
       "    operand: 37\n",
       "31. *\n",
       "    core type: Literal\n",
       "    sub-expressions: \n",
       "32. (2^{t}, delta_{b_{f}})\n",
       "    core type: ExprTuple\n",
       "    sub-expressions: 44, 36\n",
       "33. (l)\n",
       "    core type: ExprTuple\n",
       "    sub-expressions: 43\n",
       "34. -\n",
       "    core type: Literal\n",
       "    sub-expressions: \n",
       "35. (l / 2^{t})\n",
       "    core type: ExprTuple\n",
       "    sub-expressions: 37\n",
       "36. delta_{b_{f}}\n",
       "    core type: Operation\n",
       "    operator: 38\n",
       "    operand: 42\n",
       "37. l / 2^{t}\n",
       "    core type: Operation\n",
       "    operator: 40\n",
       "    operands: 41\n",
       "38. delta\n",
       "    core type: Literal\n",
       "    sub-expressions: \n",
       "39. (b_{f})\n",
       "    core type: ExprTuple\n",
       "    sub-expressions: 42\n",
       "40. /\n",
       "    core type: Literal\n",
       "    sub-expressions: \n",
       "41. (l, 2^{t})\n",
       "    core type: ExprTuple\n",
       "    sub-expressions: 43, 44\n",
       "42. b_{f}\n",
       "    core type: Literal\n",
       "    sub-expressions: \n",
       "43. l\n",
       "    core type: Variable\n",
       "    sub-expressions: \n",
       "44. 2^{t}\n",
       "    core type: Operation\n",
       "    operator: 45\n",
       "    operands: 46\n",
       "45. Exp\n",
       "    core type: Literal\n",
       "    sub-expressions: \n",
       "46. (2, t)\n",
       "    core type: ExprTuple\n",
       "    sub-expressions: 47, 48\n",
       "47. 2\n",
       "    core type: Literal\n",
       "    sub-expressions: \n",
       "48. t\n",
       "    core type: Literal\n",
       "    sub-expressions: "
      ]
     },
     "metadata": {},
     "output_type": "display_data"
    }
   ],
   "source": [
    "# display the expression information\n",
    "stored_expr.expr_info()"
   ]
  },
  {
   "cell_type": "code",
   "execution_count": null,
   "metadata": {},
   "outputs": [],
   "source": []
  }
 ],
 "metadata": {
  "kernelspec": {
   "display_name": "Python 3",
   "language": "python",
   "name": "python3"
  }
 },
 "nbformat": 4,
 "nbformat_minor": 0
}