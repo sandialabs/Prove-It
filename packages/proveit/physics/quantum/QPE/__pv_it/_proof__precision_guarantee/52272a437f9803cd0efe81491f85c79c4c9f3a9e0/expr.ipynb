{
 "cells": [
  {
   "cell_type": "markdown",
   "metadata": {},
   "source": [
    "Expression of type <a class=\"ProveItLink\" href=\"../../../../../../../../doc/html/api/proveit.numbers.Less.html\">Less</a>\n",
    "=======================\n",
    "# from the theory of <a class=\"ProveItLink\" href=\"../../../_theory_nbs_/theory.ipynb\">proveit.physics.quantum.QPE</a>"
   ]
  },
  {
   "cell_type": "code",
   "execution_count": 1,
   "metadata": {},
   "outputs": [],
   "source": [
    "import proveit\n",
    "# Automation is not needed when building an expression:\n",
    "proveit.defaults.automation = False # This will speed things up.\n",
    "proveit.defaults.inline_pngs = False # Makes files smaller.\n",
    "%load_expr # Load the stored expression as 'stored_expr'\n",
    "# import Expression classes needed to build the expression\n",
    "from proveit.numbers import Less, one, subtract\n",
    "from proveit.physics.quantum.QPE import Pfail, _e_value, _eps"
   ]
  },
  {
   "cell_type": "code",
   "execution_count": 2,
   "metadata": {},
   "outputs": [
    {
     "data": {
      "text/html": [
       "<strong id=\"expr\">expr:</strong> <a class=\"ProveItLink\" href=\"expr.ipynb\"><img src=\"expr.png\" style=\"display:inline;vertical-align:middle;\" /></a><br>"
      ],
      "text/plain": [
       "<IPython.core.display.HTML object>"
      ]
     },
     "metadata": {},
     "output_type": "display_data"
    }
   ],
   "source": [
    "# build up the expression from sub-expressions\n",
    "expr = Less(subtract(one, _eps), subtract(one, Pfail(_e_value)))"
   ]
  },
  {
   "cell_type": "code",
   "execution_count": 3,
   "metadata": {},
   "outputs": [
    {
     "name": "stdout",
     "output_type": "stream",
     "text": [
      "Passed sanity check: expr matches stored_expr\n"
     ]
    }
   ],
   "source": [
    "# check that the built expression is the same as the stored expression\n",
    "assert expr == stored_expr\n",
    "assert expr._style_id == stored_expr._style_id\n",
    "print(\"Passed sanity check: expr matches stored_expr\")"
   ]
  },
  {
   "cell_type": "code",
   "execution_count": 4,
   "metadata": {},
   "outputs": [
    {
     "name": "stdout",
     "output_type": "stream",
     "text": [
      "\\left(1 - \\epsilon\\right) < \\left(1 - \\left[P_{\\rm fail}\\right]\\left(2^{t - n} - 1\\right)\\right)\n"
     ]
    }
   ],
   "source": [
    "# Show the LaTeX representation of the expression for convenience if you need it.\n",
    "print(stored_expr.latex())"
   ]
  },
  {
   "cell_type": "code",
   "execution_count": 5,
   "metadata": {},
   "outputs": [
    {
     "data": {
      "text/html": [
       "<table>\n",
       "<tr><th>name</th><th>description</th><th>default</th><th>current value</th><th>related methods</th></tr><tr><td>operation</td><td>'infix' or 'function' style formatting</td><td>infix</td><td>infix</td><td></td></tr>\n",
       "<tr><td>wrap_positions</td><td>position(s) at which wrapping is to occur; '2 n - 1' is after the nth operand, '2 n' is after the nth operation.</td><td>()</td><td>()</td><td>('with_wrapping_at', 'with_wrap_before_operator', 'with_wrap_after_operator', 'without_wrapping', 'wrap_positions')</td></tr>\n",
       "<tr><td>justification</td><td>if any wrap positions are set, justify to the 'left', 'center', or 'right'</td><td>center</td><td>center</td><td>('with_justification',)</td></tr>\n",
       "<tr><td>direction</td><td>Direction of the relation (normal or reversed)</td><td>normal</td><td>normal</td><td>('with_direction_reversed', 'is_reversed')</td></tr>\n",
       "</table>\n"
      ],
      "text/plain": [
       "style name: operation\n",
       "description: 'infix' or 'function' style formatting\n",
       "default: infix\n",
       "current value: infix\n",
       "related methods: ()\n",
       "style name: wrap_positions\n",
       "description: position(s) at which wrapping is to occur; '2 n - 1' is after the nth operand, '2 n' is after the nth operation.\n",
       "default: ()\n",
       "current value: ()\n",
       "related methods: ('with_wrapping_at', 'with_wrap_before_operator', 'with_wrap_after_operator', 'without_wrapping', 'wrap_positions')\n",
       "style name: justification\n",
       "description: if any wrap positions are set, justify to the 'left', 'center', or 'right'\n",
       "default: center\n",
       "current value: center\n",
       "related methods: ('with_justification',)\n",
       "style name: direction\n",
       "description: Direction of the relation (normal or reversed)\n",
       "default: normal\n",
       "current value: normal\n",
       "related methods: ('with_direction_reversed', 'is_reversed')"
      ]
     },
     "metadata": {},
     "output_type": "display_data"
    }
   ],
   "source": [
    "stored_expr.style_options()"
   ]
  },
  {
   "cell_type": "code",
   "execution_count": 6,
   "metadata": {},
   "outputs": [
    {
     "data": {
      "text/html": [
       "<table><tr><th>&nbsp;</th><th>core type</th><th>sub-expressions</th><th>expression</th></tr>\n",
       "<tr><td>0</td><td>Operation</td><td>operator:&nbsp;1<br>operands:&nbsp;2<br></td><td><a class=\"ProveItLink\" href=\"expr.ipynb\"><img src=\"expr.png\" style=\"display:inline;vertical-align:middle;\" /></a></td></tr>\n",
       "<tr><td>1</td><td>Literal</td><td></td><td><a class=\"ProveItLink\" href=\"../../../../../../numbers/ordering/__pv_it/common/fa503ed52033522c609eef1cf3e1b45796489da50/expr.ipynb\"><img src=\"../../../../../../numbers/ordering/__pv_it/common/fa503ed52033522c609eef1cf3e1b45796489da50/expr.png\" style=\"display:inline;vertical-align:middle;\" /></a></td></tr>\n",
       "<tr><td>2</td><td>ExprTuple</td><td>3, 4</td><td><a class=\"ProveItLink\" href=\"../c51ff207a011b78e85c53e5f3f7a31427fdc30220/expr.ipynb\"><img src=\"../c51ff207a011b78e85c53e5f3f7a31427fdc30220/expr.png\" style=\"display:inline;vertical-align:middle;\" /></a></td></tr>\n",
       "<tr><td>3</td><td>Operation</td><td>operator:&nbsp;25<br>operands:&nbsp;5<br></td><td><a class=\"ProveItLink\" href=\"../../theorems/daf15e7cb4e3fd1efaa85bab3ea544e1ca7ba8d40/expr.ipynb\"><img src=\"../../theorems/daf15e7cb4e3fd1efaa85bab3ea544e1ca7ba8d40/expr.png\" style=\"display:inline;vertical-align:middle;\" /></a></td></tr>\n",
       "<tr><td>4</td><td>Operation</td><td>operator:&nbsp;25<br>operands:&nbsp;6<br></td><td><a class=\"ProveItLink\" href=\"../054d8b2ef6a3a13e6207bb28e05e92101bab64020/expr.ipynb\"><img src=\"../054d8b2ef6a3a13e6207bb28e05e92101bab64020/expr.png\" style=\"display:inline;vertical-align:middle;\" /></a></td></tr>\n",
       "<tr><td>5</td><td>ExprTuple</td><td>24, 7</td><td><a class=\"ProveItLink\" href=\"../../theorems/4813456c4ef9f22d32b3d3606f4f58f7e517ce7a0/expr.ipynb\"><img src=\"../../theorems/4813456c4ef9f22d32b3d3606f4f58f7e517ce7a0/expr.png\" style=\"display:inline;vertical-align:middle;\" /></a></td></tr>\n",
       "<tr><td>6</td><td>ExprTuple</td><td>24, 8</td><td><a class=\"ProveItLink\" href=\"../ec631e28b8de47c85b8b4b6d82403f7844e09ebe0/expr.ipynb\"><img src=\"../ec631e28b8de47c85b8b4b6d82403f7844e09ebe0/expr.png\" style=\"display:inline;vertical-align:middle;\" /></a></td></tr>\n",
       "<tr><td>7</td><td>Operation</td><td>operator:&nbsp;29<br>operand:&nbsp;11<br></td><td><a class=\"ProveItLink\" href=\"../../theorems/283e39470ca9997eeece08e222adf60b5f1b9a570/expr.ipynb\"><img src=\"../../theorems/283e39470ca9997eeece08e222adf60b5f1b9a570/expr.png\" style=\"display:inline;vertical-align:middle;\" /></a></td></tr>\n",
       "<tr><td>8</td><td>Operation</td><td>operator:&nbsp;29<br>operand:&nbsp;12<br></td><td><a class=\"ProveItLink\" href=\"../511c70a25fe15b25afea3127b6fd382e79d9932a0/expr.ipynb\"><img src=\"../511c70a25fe15b25afea3127b6fd382e79d9932a0/expr.png\" style=\"display:inline;vertical-align:middle;\" /></a></td></tr>\n",
       "<tr><td>9</td><td>ExprTuple</td><td>11</td><td><a class=\"ProveItLink\" href=\"../../theorems/ffb06f4073925bc5b56c8f2af00f19a2e1c6f0960/expr.ipynb\"><img src=\"../../theorems/ffb06f4073925bc5b56c8f2af00f19a2e1c6f0960/expr.png\" style=\"display:inline;vertical-align:middle;\" /></a></td></tr>\n",
       "<tr><td>10</td><td>ExprTuple</td><td>12</td><td><a class=\"ProveItLink\" href=\"../e40cf2ab8e719487f3904d99260551039ace01e40/expr.ipynb\"><img src=\"../e40cf2ab8e719487f3904d99260551039ace01e40/expr.png\" style=\"display:inline;vertical-align:middle;\" /></a></td></tr>\n",
       "<tr><td>11</td><td>Literal</td><td></td><td><a class=\"ProveItLink\" href=\"../../common/485907859be40bef8e8f7cdf5626e806953b47db0/expr.ipynb\"><img src=\"../../common/485907859be40bef8e8f7cdf5626e806953b47db0/expr.png\" style=\"display:inline;vertical-align:middle;\" /></a></td></tr>\n",
       "<tr><td>12</td><td>Operation</td><td>operator:&nbsp;13<br>operand:&nbsp;15<br></td><td><a class=\"ProveItLink\" href=\"../2fd8221040353ceb8dc9a274153597000b8ea9c50/expr.ipynb\"><img src=\"../2fd8221040353ceb8dc9a274153597000b8ea9c50/expr.png\" style=\"display:inline;vertical-align:middle;\" /></a></td></tr>\n",
       "<tr><td>13</td><td>Literal</td><td></td><td><a class=\"ProveItLink\" href=\"../../common/e25b61f666a353ac0e2fac3d8aa685edd840888c0/expr.ipynb\"><img src=\"../../common/e25b61f666a353ac0e2fac3d8aa685edd840888c0/expr.png\" style=\"display:inline;vertical-align:middle;\" /></a></td></tr>\n",
       "<tr><td>14</td><td>ExprTuple</td><td>15</td><td><a class=\"ProveItLink\" href=\"../356751edbe5690a16ea2909759cce695811ceef40/expr.ipynb\"><img src=\"../356751edbe5690a16ea2909759cce695811ceef40/expr.png\" style=\"display:inline;vertical-align:middle;\" /></a></td></tr>\n",
       "<tr><td>15</td><td>Operation</td><td>operator:&nbsp;25<br>operands:&nbsp;16<br></td><td><a class=\"ProveItLink\" href=\"../../common/be574d0fa79bd29ed95c42956ecef0235db555080/expr.ipynb\"><img src=\"../../common/be574d0fa79bd29ed95c42956ecef0235db555080/expr.png\" style=\"display:inline;vertical-align:middle;\" /></a></td></tr>\n",
       "<tr><td>16</td><td>ExprTuple</td><td>17, 18</td><td><a class=\"ProveItLink\" href=\"../../common/80e7816ce6bdea7e2f2443a6b0a630afa97cda590/expr.ipynb\"><img src=\"../../common/80e7816ce6bdea7e2f2443a6b0a630afa97cda590/expr.png\" style=\"display:inline;vertical-align:middle;\" /></a></td></tr>\n",
       "<tr><td>17</td><td>Operation</td><td>operator:&nbsp;19<br>operands:&nbsp;20<br></td><td><a class=\"ProveItLink\" href=\"../../common/0990444df031873303ac6dd1613c8527124dab5d0/expr.ipynb\"><img src=\"../../common/0990444df031873303ac6dd1613c8527124dab5d0/expr.png\" style=\"display:inline;vertical-align:middle;\" /></a></td></tr>\n",
       "<tr><td>18</td><td>Operation</td><td>operator:&nbsp;29<br>operand:&nbsp;24<br></td><td><a class=\"ProveItLink\" href=\"../../common/bf4beda21975fe8a0a5007615b5bcc943da59bb20/expr.ipynb\"><img src=\"../../common/bf4beda21975fe8a0a5007615b5bcc943da59bb20/expr.png\" style=\"display:inline;vertical-align:middle;\" /></a></td></tr>\n",
       "<tr><td>19</td><td>Literal</td><td></td><td><a class=\"ProveItLink\" href=\"../../../../../../numbers/exponentiation/__pv_it/common/0ac37aca1e54c35c5cda09672df32d4f69f1f3020/expr.ipynb\"><img src=\"../../../../../../numbers/exponentiation/__pv_it/common/0ac37aca1e54c35c5cda09672df32d4f69f1f3020/expr.png\" style=\"display:inline;vertical-align:middle;\" /></a></td></tr>\n",
       "<tr><td>20</td><td>ExprTuple</td><td>22, 23</td><td><a class=\"ProveItLink\" href=\"../../common/631b558ad1471207ee09359d7d6b5789cea90be40/expr.ipynb\"><img src=\"../../common/631b558ad1471207ee09359d7d6b5789cea90be40/expr.png\" style=\"display:inline;vertical-align:middle;\" /></a></td></tr>\n",
       "<tr><td>21</td><td>ExprTuple</td><td>24</td><td><a class=\"ProveItLink\" href=\"../../../../__pv_it/common/b9e4f0dffece176bbe2f36127440684a20e0468e0/expr.ipynb\"><img src=\"../../../../__pv_it/common/b9e4f0dffece176bbe2f36127440684a20e0468e0/expr.png\" style=\"display:inline;vertical-align:middle;\" /></a></td></tr>\n",
       "<tr><td>22</td><td>Literal</td><td></td><td><a class=\"ProveItLink\" href=\"../../../../../../numbers/numerals/__pv_it/common/af4aab8a07465db063742696e006d04670f30cf10/expr.ipynb\"><img src=\"../../../../../../numbers/numerals/__pv_it/common/af4aab8a07465db063742696e006d04670f30cf10/expr.png\" style=\"display:inline;vertical-align:middle;\" /></a></td></tr>\n",
       "<tr><td>23</td><td>Operation</td><td>operator:&nbsp;25<br>operands:&nbsp;26<br></td><td><a class=\"ProveItLink\" href=\"../../common/0fcc84fe9169e51225b05937941dbd74fe165f1c0/expr.ipynb\"><img src=\"../../common/0fcc84fe9169e51225b05937941dbd74fe165f1c0/expr.png\" style=\"display:inline;vertical-align:middle;\" /></a></td></tr>\n",
       "<tr><td>24</td><td>Literal</td><td></td><td><a class=\"ProveItLink\" href=\"../../../../../../numbers/numerals/__pv_it/common/682157d4892d216d9e5626ed533aff9b56b9506e0/expr.ipynb\"><img src=\"../../../../../../numbers/numerals/__pv_it/common/682157d4892d216d9e5626ed533aff9b56b9506e0/expr.png\" style=\"display:inline;vertical-align:middle;\" /></a></td></tr>\n",
       "<tr><td>25</td><td>Literal</td><td></td><td><a class=\"ProveItLink\" href=\"../../../../../../numbers/addition/__pv_it/common/4b7effaab3619a1c2c38fe2dee8601df8ec714590/expr.ipynb\"><img src=\"../../../../../../numbers/addition/__pv_it/common/4b7effaab3619a1c2c38fe2dee8601df8ec714590/expr.png\" style=\"display:inline;vertical-align:middle;\" /></a></td></tr>\n",
       "<tr><td>26</td><td>ExprTuple</td><td>27, 28</td><td><a class=\"ProveItLink\" href=\"../../common/e4f608ec6d5ca0a207ddbb02c0366bd9c06fae6f0/expr.ipynb\"><img src=\"../../common/e4f608ec6d5ca0a207ddbb02c0366bd9c06fae6f0/expr.png\" style=\"display:inline;vertical-align:middle;\" /></a></td></tr>\n",
       "<tr><td>27</td><td>Literal</td><td></td><td><a class=\"ProveItLink\" href=\"../../common/977cc67717328e22c93f8ab84e6a45e8cadce7790/expr.ipynb\"><img src=\"../../common/977cc67717328e22c93f8ab84e6a45e8cadce7790/expr.png\" style=\"display:inline;vertical-align:middle;\" /></a></td></tr>\n",
       "<tr><td>28</td><td>Operation</td><td>operator:&nbsp;29<br>operand:&nbsp;31<br></td><td><a class=\"ProveItLink\" href=\"../../common/966cd4e4899806f7c573df6437fb3b7a8d0f3a850/expr.ipynb\"><img src=\"../../common/966cd4e4899806f7c573df6437fb3b7a8d0f3a850/expr.png\" style=\"display:inline;vertical-align:middle;\" /></a></td></tr>\n",
       "<tr><td>29</td><td>Literal</td><td></td><td><a class=\"ProveItLink\" href=\"../../../../../../numbers/negation/__pv_it/common/221b3c4d1770ee9051b7c044c3f9ec61196fc34b0/expr.ipynb\"><img src=\"../../../../../../numbers/negation/__pv_it/common/221b3c4d1770ee9051b7c044c3f9ec61196fc34b0/expr.png\" style=\"display:inline;vertical-align:middle;\" /></a></td></tr>\n",
       "<tr><td>30</td><td>ExprTuple</td><td>31</td><td><a class=\"ProveItLink\" href=\"../../common/81a95b49d3fd9a28bd483dd1380484c787d913d40/expr.ipynb\"><img src=\"../../common/81a95b49d3fd9a28bd483dd1380484c787d913d40/expr.png\" style=\"display:inline;vertical-align:middle;\" /></a></td></tr>\n",
       "<tr><td>31</td><td>Literal</td><td></td><td><a class=\"ProveItLink\" href=\"../../common/2727e03becf585d99b6b7de1f9bd63ac87e235100/expr.ipynb\"><img src=\"../../common/2727e03becf585d99b6b7de1f9bd63ac87e235100/expr.png\" style=\"display:inline;vertical-align:middle;\" /></a></td></tr>\n",
       "</table>\n"
      ],
      "text/plain": [
       "0. (1 - eps) < (1 - [Pfail](2^{t - n} - 1))\n",
       "   core type: Operation\n",
       "   operator: 1\n",
       "   operands: 2\n",
       "1. <\n",
       "   core type: Literal\n",
       "   sub-expressions: \n",
       "2. (1 - eps, 1 - [Pfail](2^{t - n} - 1))\n",
       "   core type: ExprTuple\n",
       "   sub-expressions: 3, 4\n",
       "3. 1 - eps\n",
       "   core type: Operation\n",
       "   operator: 25\n",
       "   operands: 5\n",
       "4. 1 - [Pfail](2^{t - n} - 1)\n",
       "   core type: Operation\n",
       "   operator: 25\n",
       "   operands: 6\n",
       "5. (1, -eps)\n",
       "   core type: ExprTuple\n",
       "   sub-expressions: 24, 7\n",
       "6. (1, -[Pfail](2^{t - n} - 1))\n",
       "   core type: ExprTuple\n",
       "   sub-expressions: 24, 8\n",
       "7. -eps\n",
       "   core type: Operation\n",
       "   operator: 29\n",
       "   operand: 11\n",
       "8. -[Pfail](2^{t - n} - 1)\n",
       "   core type: Operation\n",
       "   operator: 29\n",
       "   operand: 12\n",
       "9. (eps)\n",
       "   core type: ExprTuple\n",
       "   sub-expressions: 11\n",
       "10. ([Pfail](2^{t - n} - 1))\n",
       "    core type: ExprTuple\n",
       "    sub-expressions: 12\n",
       "11. eps\n",
       "    core type: Literal\n",
       "    sub-expressions: \n",
       "12. [Pfail](2^{t - n} - 1)\n",
       "    core type: Operation\n",
       "    operator: 13\n",
       "    operand: 15\n",
       "13. Pfail\n",
       "    core type: Literal\n",
       "    sub-expressions: \n",
       "14. (2^{t - n} - 1)\n",
       "    core type: ExprTuple\n",
       "    sub-expressions: 15\n",
       "15. 2^{t - n} - 1\n",
       "    core type: Operation\n",
       "    operator: 25\n",
       "    operands: 16\n",
       "16. (2^{t - n}, -1)\n",
       "    core type: ExprTuple\n",
       "    sub-expressions: 17, 18\n",
       "17. 2^{t - n}\n",
       "    core type: Operation\n",
       "    operator: 19\n",
       "    operands: 20\n",
       "18. -1\n",
       "    core type: Operation\n",
       "    operator: 29\n",
       "    operand: 24\n",
       "19. Exp\n",
       "    core type: Literal\n",
       "    sub-expressions: \n",
       "20. (2, t - n)\n",
       "    core type: ExprTuple\n",
       "    sub-expressions: 22, 23\n",
       "21. (1)\n",
       "    core type: ExprTuple\n",
       "    sub-expressions: 24\n",
       "22. 2\n",
       "    core type: Literal\n",
       "    sub-expressions: \n",
       "23. t - n\n",
       "    core type: Operation\n",
       "    operator: 25\n",
       "    operands: 26\n",
       "24. 1\n",
       "    core type: Literal\n",
       "    sub-expressions: \n",
       "25. +\n",
       "    core type: Literal\n",
       "    sub-expressions: \n",
       "26. (t, -n)\n",
       "    core type: ExprTuple\n",
       "    sub-expressions: 27, 28\n",
       "27. t\n",
       "    core type: Literal\n",
       "    sub-expressions: \n",
       "28. -n\n",
       "    core type: Operation\n",
       "    operator: 29\n",
       "    operand: 31\n",
       "29. -\n",
       "    core type: Literal\n",
       "    sub-expressions: \n",
       "30. (n)\n",
       "    core type: ExprTuple\n",
       "    sub-expressions: 31\n",
       "31. n\n",
       "    core type: Literal\n",
       "    sub-expressions: "
      ]
     },
     "metadata": {},
     "output_type": "display_data"
    }
   ],
   "source": [
    "# display the expression information\n",
    "stored_expr.expr_info()"
   ]
  },
  {
   "cell_type": "code",
   "execution_count": null,
   "metadata": {},
   "outputs": [],
   "source": []
  }
 ],
 "metadata": {
  "kernelspec": {
   "display_name": "Python 3",
   "language": "python",
   "name": "python3"
  }
 },
 "nbformat": 4,
 "nbformat_minor": 0
}