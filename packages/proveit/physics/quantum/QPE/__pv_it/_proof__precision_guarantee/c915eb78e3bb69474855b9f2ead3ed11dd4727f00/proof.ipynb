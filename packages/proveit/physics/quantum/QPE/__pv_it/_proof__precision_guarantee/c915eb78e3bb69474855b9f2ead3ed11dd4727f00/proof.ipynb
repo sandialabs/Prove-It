{
 "cells": [
  {
   "cell_type": "markdown",
   "metadata": {},
   "source": [
    "Show the Proof\n",
    "========"
   ]
  },
  {
   "cell_type": "code",
   "execution_count": 1,
   "metadata": {},
   "outputs": [
    {
     "data": {
      "text/html": [
       "<table><tr><th>&nbsp;</th><th>step type</th><th>requirements</th><th>statement</th></tr>\n",
       "<tr><td><a name=\"proveit.physics.quantum.QPE._proof__precision_guarantee.c915eb78e3bb69474855b9f2ead3ed11dd4727f00_step0\">0</a></td><td>instantiation</td><td><a href=\"#proveit.physics.quantum.QPE._proof__precision_guarantee.c915eb78e3bb69474855b9f2ead3ed11dd4727f00_step1\">1</a>, <a href=\"#proveit.physics.quantum.QPE._proof__precision_guarantee.c915eb78e3bb69474855b9f2ead3ed11dd4727f00_step2\">2</a></td><td><span style=\"font-size:20px;\"> <a class=\"ProveItLink\" href=\"proof.ipynb\" style=\"text-decoration: none\">&nbsp;&#x22A2;&nbsp;&nbsp;</a><a class=\"ProveItLink\" href=\"../f27f743b790cfff3fd176d0ec54fe72e7c2926c80/expr.ipynb\"><img src=\"../f27f743b790cfff3fd176d0ec54fe72e7c2926c80/expr.png\" style=\"display:inline;vertical-align:middle;\" /></a></span></td></tr>\n",
       "<tr><td>&nbsp;</td><td colspan=4 style=\"text-align:left\"><span style=\"font-size:20px;\"><a class=\"ProveItLink\" href=\"../../../../../../__pv_it/common/09585084922504426caf1db2ff588a23a0932a960/expr.ipynb\"><img src=\"../../../../../../__pv_it/common/09585084922504426caf1db2ff588a23a0932a960/expr.png\" style=\"display:inline;vertical-align:middle;\" /></a> : <a class=\"ProveItLink\" href=\"../../common/0107914a254b4cba063b4849ea3d536e6979ec8c0/expr.ipynb\"><img src=\"../../common/0107914a254b4cba063b4849ea3d536e6979ec8c0/expr.png\" style=\"display:inline;vertical-align:middle;\" /></a>, <a class=\"ProveItLink\" href=\"../../../../../../__pv_it/common/a9162d1c3cc0470c02e5daf414500903a7a419230/expr.ipynb\"><img src=\"../../../../../../__pv_it/common/a9162d1c3cc0470c02e5daf414500903a7a419230/expr.png\" style=\"display:inline;vertical-align:middle;\" /></a> : <a class=\"ProveItLink\" href=\"../../common/cd5a47365483b766cf71e2cfb0eaff1126aa163c0/expr.ipynb\"><img src=\"../../common/cd5a47365483b766cf71e2cfb0eaff1126aa163c0/expr.png\" style=\"display:inline;vertical-align:middle;\" /></a>, <a class=\"ProveItLink\" href=\"../bd3be671a4ecbb9a52553cf499f4cbc16d413c890/expr.ipynb\"><img src=\"../bd3be671a4ecbb9a52553cf499f4cbc16d413c890/expr.png\" style=\"display:inline;vertical-align:middle;\" /></a> : <a class=\"ProveItLink\" href=\"../../common/4e7be78c8d2f008c633aedbe48a9cdda9c5f06b10/expr.ipynb\"><img src=\"../../common/4e7be78c8d2f008c633aedbe48a9cdda9c5f06b10/expr.png\" style=\"display:inline;vertical-align:middle;\" /></a></span></td></tr><tr><td><a name=\"proveit.physics.quantum.QPE._proof__precision_guarantee.c915eb78e3bb69474855b9f2ead3ed11dd4727f00_step1\">1</a></td><td>theorem</td><td></td><td><span style=\"font-size:20px;\"> <a class=\"ProveItLink\" href=\"../../../../../../logic/sets/functions/bijections/_theory_nbs_/proofs/membership_unfolding/thm_proof.ipynb\" style=\"text-decoration: none\">&nbsp;&#x22A2;&nbsp;&nbsp;</a><a class=\"ProveItLink\" href=\"../../../../../../logic/sets/functions/bijections/__pv_it/theorems/9f71333ecb584b673da531a84e2d67ce5bb524fc0/expr.ipynb\"><img src=\"../../../../../../logic/sets/functions/bijections/__pv_it/theorems/9f71333ecb584b673da531a84e2d67ce5bb524fc0/expr.png\" style=\"display:inline;vertical-align:middle;\" /></a></span></td></tr>\n",
       "<tr><td>&nbsp;</td><td colspan=4 style-\"text-align:left\"><a class=\"ProveItLink\" href=\"../../../../../../logic/sets/functions/bijections/_theory_nbs_/proofs/membership_unfolding/thm_proof.ipynb\">proveit.logic.sets.functions.bijections.membership_unfolding</a></td></tr><tr><td><a name=\"proveit.physics.quantum.QPE._proof__precision_guarantee.c915eb78e3bb69474855b9f2ead3ed11dd4727f00_step2\">2</a></td><td>theorem</td><td></td><td><span style=\"font-size:20px;\"> <a class=\"ProveItLink\" href=\"../../../_theory_nbs_/proofs/_sample_space_bijection/thm_proof.ipynb\" style=\"text-decoration: none\">&nbsp;&#x22A2;&nbsp;&nbsp;</a><a class=\"ProveItLink\" href=\"../../theorems/91fba8b309d1fbf4f0fe0f0926d36af207e4f2da0/expr.ipynb\"><img src=\"../../theorems/91fba8b309d1fbf4f0fe0f0926d36af207e4f2da0/expr.png\" style=\"display:inline;vertical-align:middle;\" /></a></span></td></tr>\n",
       "<tr><td>&nbsp;</td><td colspan=4 style-\"text-align:left\"><a class=\"ProveItLink\" href=\"../../../_theory_nbs_/proofs/_sample_space_bijection/thm_proof.ipynb\">proveit.physics.quantum.QPE._sample_space_bijection</a></td></tr></table>"
      ],
      "text/plain": [
       "<proveit._core_.proof._ShowProof at 0x7f2cceb40c88>"
      ]
     },
     "execution_count": 1,
     "metadata": {},
     "output_type": "execute_result"
    }
   ],
   "source": [
    "import proveit\n",
    "# Automation is not needed when only showing a stored proof:\n",
    "proveit.defaults.automation = False # This will speed things up.\n",
    "proveit.defaults.inline_pngs = False # Makes files smaller.\n",
    "%show_proof"
   ]
  },
  {
   "cell_type": "code",
   "execution_count": null,
   "metadata": {},
   "outputs": [],
   "source": []
  }
 ],
 "metadata": {
  "kernelspec": {
   "display_name": "Python 3",
   "language": "python",
   "name": "python3"
  }
 },
 "nbformat": 4,
 "nbformat_minor": 0
}