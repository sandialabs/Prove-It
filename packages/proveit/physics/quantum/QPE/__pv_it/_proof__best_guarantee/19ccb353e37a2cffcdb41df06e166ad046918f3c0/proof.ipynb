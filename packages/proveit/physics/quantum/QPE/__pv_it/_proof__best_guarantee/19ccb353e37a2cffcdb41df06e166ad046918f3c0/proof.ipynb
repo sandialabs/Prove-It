{
 "cells": [
  {
   "cell_type": "markdown",
   "metadata": {},
   "source": [
    "Show the Proof\n",
    "========"
   ]
  },
  {
   "cell_type": "code",
   "execution_count": 1,
   "metadata": {},
   "outputs": [
    {
     "data": {
      "text/html": [
       "<table><tr><th>&nbsp;</th><th>step type</th><th>requirements</th><th>statement</th></tr>\n",
       "<tr><td><a name=\"proveit.physics.quantum.QPE._proof__best_guarantee.19ccb353e37a2cffcdb41df06e166ad046918f3c0_step0\">0</a></td><td>instantiation</td><td><a href=\"#proveit.physics.quantum.QPE._proof__best_guarantee.19ccb353e37a2cffcdb41df06e166ad046918f3c0_step1\">1</a>, <a href=\"#proveit.physics.quantum.QPE._proof__best_guarantee.19ccb353e37a2cffcdb41df06e166ad046918f3c0_step2\">2</a>, <a href=\"#proveit.physics.quantum.QPE._proof__best_guarantee.19ccb353e37a2cffcdb41df06e166ad046918f3c0_step3\">3</a></td><td><span style=\"font-size:20px;\"> <a class=\"ProveItLink\" href=\"proof.ipynb\" style=\"text-decoration: none\">&nbsp;&#x22A2;&nbsp;&nbsp;</a><a class=\"ProveItLink\" href=\"../951724f72e4b4797c05915a4718df742e428bda00/expr.ipynb\"><img src=\"../951724f72e4b4797c05915a4718df742e428bda00/expr.png\" style=\"display:inline;vertical-align:middle;\" /></a></span></td></tr>\n",
       "<tr><td>&nbsp;</td><td colspan=4 style=\"text-align:left\"><span style=\"font-size:20px;\"><a class=\"ProveItLink\" href=\"../../../../../../__pv_it/common/09585084922504426caf1db2ff588a23a0932a960/expr.ipynb\"><img src=\"../../../../../../__pv_it/common/09585084922504426caf1db2ff588a23a0932a960/expr.png\" style=\"display:inline;vertical-align:middle;\" /></a> : <a class=\"ProveItLink\" href=\"../7fdd1531433b50fea33dc0bf5c4687c19bb5b67e0/expr.ipynb\"><img src=\"../7fdd1531433b50fea33dc0bf5c4687c19bb5b67e0/expr.png\" style=\"display:inline;vertical-align:middle;\" /></a>, <a class=\"ProveItLink\" href=\"../../../../../../__pv_it/common/a9162d1c3cc0470c02e5daf414500903a7a419230/expr.ipynb\"><img src=\"../../../../../../__pv_it/common/a9162d1c3cc0470c02e5daf414500903a7a419230/expr.png\" style=\"display:inline;vertical-align:middle;\" /></a> : <a class=\"ProveItLink\" href=\"../../../../../../numbers/number_sets/real_numbers/__pv_it/theorems/38735e9409124448a719d338cb817bfdd5af13660/expr.ipynb\"><img src=\"../../../../../../numbers/number_sets/real_numbers/__pv_it/theorems/38735e9409124448a719d338cb817bfdd5af13660/expr.png\" style=\"display:inline;vertical-align:middle;\" /></a></span></td></tr><tr><td><a name=\"proveit.physics.quantum.QPE._proof__best_guarantee.19ccb353e37a2cffcdb41df06e166ad046918f3c0_step1\">1</a></td><td>theorem</td><td></td><td><span style=\"font-size:20px;\"> <a class=\"ProveItLink\" href=\"../../../../../../logic/booleans/conjunction/_theory_nbs_/proofs/and_if_both/thm_proof.ipynb\" style=\"text-decoration: none\">&nbsp;&#x22A2;&nbsp;&nbsp;</a><a class=\"ProveItLink\" href=\"../../../../../../logic/booleans/conjunction/__pv_it/theorems/014a7d12c0ce73da40017125d0ac8b3d52f7b2000/expr.ipynb\"><img src=\"../../../../../../logic/booleans/conjunction/__pv_it/theorems/014a7d12c0ce73da40017125d0ac8b3d52f7b2000/expr.png\" style=\"display:inline;vertical-align:middle;\" /></a></span></td></tr>\n",
       "<tr><td>&nbsp;</td><td colspan=4 style-\"text-align:left\"><a class=\"ProveItLink\" href=\"../../../../../../logic/booleans/conjunction/_theory_nbs_/proofs/and_if_both/thm_proof.ipynb\">proveit.logic.booleans.conjunction.and_if_both</a></td></tr><tr><td><a name=\"proveit.physics.quantum.QPE._proof__best_guarantee.19ccb353e37a2cffcdb41df06e166ad046918f3c0_step2\">2</a></td><td>instantiation</td><td><a href=\"#proveit.physics.quantum.QPE._proof__best_guarantee.19ccb353e37a2cffcdb41df06e166ad046918f3c0_step4\">4</a>, <a href=\"#proveit.physics.quantum.QPE._proof__best_guarantee.19ccb353e37a2cffcdb41df06e166ad046918f3c0_step5\">5</a></td><td><span style=\"font-size:20px;\"> <a class=\"ProveItLink\" href=\"../e46a7a5f58d822dda0257ded9d39816fc82894d70/proof.ipynb\" style=\"text-decoration: none\">&nbsp;&#x22A2;&nbsp;&nbsp;</a><a class=\"ProveItLink\" href=\"../7fdd1531433b50fea33dc0bf5c4687c19bb5b67e0/expr.ipynb\"><img src=\"../7fdd1531433b50fea33dc0bf5c4687c19bb5b67e0/expr.png\" style=\"display:inline;vertical-align:middle;\" /></a></span></td></tr>\n",
       "<tr><td>&nbsp;</td><td colspan=4 style=\"text-align:left\"><span style=\"font-size:20px;\"><a class=\"ProveItLink\" href=\"../../../../../../__pv_it/common/8968bb04eb3f7dfa02353397ce929b025bbd79c20/expr.ipynb\"><img src=\"../../../../../../__pv_it/common/8968bb04eb3f7dfa02353397ce929b025bbd79c20/expr.png\" style=\"display:inline;vertical-align:middle;\" /></a> : <a class=\"ProveItLink\" href=\"../../../../../../numbers/numerals/__pv_it/common/1943b60945420e340d305780feff5c1aff2740ff0/expr.ipynb\"><img src=\"../../../../../../numbers/numerals/__pv_it/common/1943b60945420e340d305780feff5c1aff2740ff0/expr.png\" style=\"display:inline;vertical-align:middle;\" /></a></span></td></tr><tr><td><a name=\"proveit.physics.quantum.QPE._proof__best_guarantee.19ccb353e37a2cffcdb41df06e166ad046918f3c0_step3\">3</a></td><td>instantiation</td><td><a href=\"#proveit.physics.quantum.QPE._proof__best_guarantee.19ccb353e37a2cffcdb41df06e166ad046918f3c0_step6\">6</a>, <a href=\"#proveit.physics.quantum.QPE._proof__best_guarantee.19ccb353e37a2cffcdb41df06e166ad046918f3c0_step7\">7</a></td><td><span style=\"font-size:20px;\"> <a class=\"ProveItLink\" href=\"../78252e36cd7e9c9e55b2fe940f7f097f5037acc10/proof.ipynb\" style=\"text-decoration: none\">&nbsp;&#x22A2;&nbsp;&nbsp;</a><a class=\"ProveItLink\" href=\"../../../../../../numbers/number_sets/real_numbers/__pv_it/theorems/38735e9409124448a719d338cb817bfdd5af13660/expr.ipynb\"><img src=\"../../../../../../numbers/number_sets/real_numbers/__pv_it/theorems/38735e9409124448a719d338cb817bfdd5af13660/expr.png\" style=\"display:inline;vertical-align:middle;\" /></a></span></td></tr>\n",
       "<tr><td>&nbsp;</td><td colspan=4 style=\"text-align:left\"><span style=\"font-size:20px;\"><a class=\"ProveItLink\" href=\"../../../../../../__pv_it/common/09585084922504426caf1db2ff588a23a0932a960/expr.ipynb\"><img src=\"../../../../../../__pv_it/common/09585084922504426caf1db2ff588a23a0932a960/expr.png\" style=\"display:inline;vertical-align:middle;\" /></a> : <a class=\"ProveItLink\" href=\"../../../../../../numbers/number_sets/real_numbers/__pv_it/theorems/38735e9409124448a719d338cb817bfdd5af13660/expr.ipynb\"><img src=\"../../../../../../numbers/number_sets/real_numbers/__pv_it/theorems/38735e9409124448a719d338cb817bfdd5af13660/expr.png\" style=\"display:inline;vertical-align:middle;\" /></a>, <a class=\"ProveItLink\" href=\"../../../../../../__pv_it/common/a9162d1c3cc0470c02e5daf414500903a7a419230/expr.ipynb\"><img src=\"../../../../../../__pv_it/common/a9162d1c3cc0470c02e5daf414500903a7a419230/expr.png\" style=\"display:inline;vertical-align:middle;\" /></a> : <a class=\"ProveItLink\" href=\"../../../../../../numbers/number_sets/real_numbers/__pv_it/theorems/9a779841e31a367903d033ae15503e10e571dc7e0/expr.ipynb\"><img src=\"../../../../../../numbers/number_sets/real_numbers/__pv_it/theorems/9a779841e31a367903d033ae15503e10e571dc7e0/expr.png\" style=\"display:inline;vertical-align:middle;\" /></a></span></td></tr><tr><td><a name=\"proveit.physics.quantum.QPE._proof__best_guarantee.19ccb353e37a2cffcdb41df06e166ad046918f3c0_step4\">4</a></td><td>theorem</td><td></td><td><span style=\"font-size:20px;\"> <a class=\"ProveItLink\" href=\"../../../../../../numbers/number_sets/natural_numbers/_theory_nbs_/proofs/natural_lower_bound/thm_proof.ipynb\" style=\"text-decoration: none\">&nbsp;&#x22A2;&nbsp;&nbsp;</a><a class=\"ProveItLink\" href=\"../../../../../../numbers/number_sets/natural_numbers/__pv_it/theorems/dea4217c9479332f21d71d3991759de7b1f2749c0/expr.ipynb\"><img src=\"../../../../../../numbers/number_sets/natural_numbers/__pv_it/theorems/dea4217c9479332f21d71d3991759de7b1f2749c0/expr.png\" style=\"display:inline;vertical-align:middle;\" /></a></span></td></tr>\n",
       "<tr><td>&nbsp;</td><td colspan=4 style-\"text-align:left\"><a class=\"ProveItLink\" href=\"../../../../../../numbers/number_sets/natural_numbers/_theory_nbs_/proofs/natural_lower_bound/thm_proof.ipynb\">proveit.numbers.number_sets.natural_numbers.natural_lower_bound</a></td></tr><tr><td><a name=\"proveit.physics.quantum.QPE._proof__best_guarantee.19ccb353e37a2cffcdb41df06e166ad046918f3c0_step5\">5</a></td><td>theorem</td><td></td><td><span style=\"font-size:20px;\"> <a class=\"ProveItLink\" href=\"../../../../../../numbers/numerals/decimals/_theory_nbs_/proofs/nat3/thm_proof.ipynb\" style=\"text-decoration: none\">&nbsp;&#x22A2;&nbsp;&nbsp;</a><a class=\"ProveItLink\" href=\"../../../../../../numbers/numerals/decimals/__pv_it/theorems/460c23cdbd64b08ccacdbdc6b3661919426e237f0/expr.ipynb\"><img src=\"../../../../../../numbers/numerals/decimals/__pv_it/theorems/460c23cdbd64b08ccacdbdc6b3661919426e237f0/expr.png\" style=\"display:inline;vertical-align:middle;\" /></a></span></td></tr>\n",
       "<tr><td>&nbsp;</td><td colspan=4 style-\"text-align:left\"><a class=\"ProveItLink\" href=\"../../../../../../numbers/numerals/decimals/_theory_nbs_/proofs/nat3/thm_proof.ipynb\">proveit.numbers.numerals.decimals.nat3</a></td></tr><tr><td><a name=\"proveit.physics.quantum.QPE._proof__best_guarantee.19ccb353e37a2cffcdb41df06e166ad046918f3c0_step6\">6</a></td><td>theorem</td><td></td><td><span style=\"font-size:20px;\"> <a class=\"ProveItLink\" href=\"../../../../../../logic/booleans/conjunction/_theory_nbs_/proofs/left_from_and/thm_proof.ipynb\" style=\"text-decoration: none\">&nbsp;&#x22A2;&nbsp;&nbsp;</a><a class=\"ProveItLink\" href=\"../../../../../../logic/booleans/conjunction/__pv_it/theorems/db95e8ffa7200a9ad9f7288dfda7a09225da59260/expr.ipynb\"><img src=\"../../../../../../logic/booleans/conjunction/__pv_it/theorems/db95e8ffa7200a9ad9f7288dfda7a09225da59260/expr.png\" style=\"display:inline;vertical-align:middle;\" /></a></span></td></tr>\n",
       "<tr><td>&nbsp;</td><td colspan=4 style-\"text-align:left\"><a class=\"ProveItLink\" href=\"../../../../../../logic/booleans/conjunction/_theory_nbs_/proofs/left_from_and/thm_proof.ipynb\">proveit.logic.booleans.conjunction.left_from_and</a></td></tr><tr><td><a name=\"proveit.physics.quantum.QPE._proof__best_guarantee.19ccb353e37a2cffcdb41df06e166ad046918f3c0_step7\">7</a></td><td>theorem</td><td></td><td><span style=\"font-size:20px;\"> <a class=\"ProveItLink\" href=\"../../../../../../numbers/number_sets/real_numbers/_theory_nbs_/proofs/pi_between_3_and_4/thm_proof.ipynb\" style=\"text-decoration: none\">&nbsp;&#x22A2;&nbsp;&nbsp;</a><a class=\"ProveItLink\" href=\"../../../../../../numbers/number_sets/real_numbers/__pv_it/theorems/38e38a376042a4f2e1c192d531f5c1dd63254a510/expr.ipynb\"><img src=\"../../../../../../numbers/number_sets/real_numbers/__pv_it/theorems/38e38a376042a4f2e1c192d531f5c1dd63254a510/expr.png\" style=\"display:inline;vertical-align:middle;\" /></a></span></td></tr>\n",
       "<tr><td>&nbsp;</td><td colspan=4 style-\"text-align:left\"><a class=\"ProveItLink\" href=\"../../../../../../numbers/number_sets/real_numbers/_theory_nbs_/proofs/pi_between_3_and_4/thm_proof.ipynb\">proveit.numbers.number_sets.real_numbers.pi_between_3_and_4</a></td></tr></table>"
      ],
      "text/plain": [
       "<proveit._core_.proof._ShowProof at 0x7f212aa43400>"
      ]
     },
     "execution_count": 1,
     "metadata": {},
     "output_type": "execute_result"
    }
   ],
   "source": [
    "import proveit\n",
    "# Automation is not needed when only showing a stored proof:\n",
    "proveit.defaults.automation = False # This will speed things up.\n",
    "proveit.defaults.inline_pngs = False # Makes files smaller.\n",
    "%show_proof"
   ]
  },
  {
   "cell_type": "code",
   "execution_count": null,
   "metadata": {},
   "outputs": [],
   "source": []
  }
 ],
 "metadata": {
  "kernelspec": {
   "display_name": "Python 3",
   "language": "python",
   "name": "python3"
  }
 },
 "nbformat": 4,
 "nbformat_minor": 0
}