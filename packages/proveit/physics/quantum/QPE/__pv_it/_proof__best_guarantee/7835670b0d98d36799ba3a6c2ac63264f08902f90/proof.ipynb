{
 "cells": [
  {
   "cell_type": "markdown",
   "metadata": {},
   "source": [
    "Show the Proof\n",
    "========"
   ]
  },
  {
   "cell_type": "code",
   "execution_count": 1,
   "metadata": {},
   "outputs": [
    {
     "data": {
      "text/html": [
       "<table><tr><th>&nbsp;</th><th>step type</th><th>requirements</th><th>statement</th></tr>\n",
       "<tr><td><a name=\"proveit.physics.quantum.QPE._proof__best_guarantee.7835670b0d98d36799ba3a6c2ac63264f08902f90_step0\">0</a></td><td>instantiation</td><td><a href=\"#proveit.physics.quantum.QPE._proof__best_guarantee.7835670b0d98d36799ba3a6c2ac63264f08902f90_step1\">1</a>, <a href=\"#proveit.physics.quantum.QPE._proof__best_guarantee.7835670b0d98d36799ba3a6c2ac63264f08902f90_step2\">2</a>, <a href=\"#proveit.physics.quantum.QPE._proof__best_guarantee.7835670b0d98d36799ba3a6c2ac63264f08902f90_step3\">3</a></td><td><span style=\"font-size:20px;\"><a class=\"ProveItLink\" href=\"../4056f43c0242580d7ab86324c24d6c0c330a0d7d0/expr.ipynb\"><img src=\"../4056f43c0242580d7ab86324c24d6c0c330a0d7d0/expr.png\" style=\"display:inline;vertical-align:middle;\" /></a> <a class=\"ProveItLink\" href=\"proof.ipynb\" style=\"text-decoration: none\">&nbsp;&#x22A2;&nbsp;&nbsp;</a><a class=\"ProveItLink\" href=\"../5007a498f120d02222201157066d234d5bfd5ee30/expr.ipynb\"><img src=\"../5007a498f120d02222201157066d234d5bfd5ee30/expr.png\" style=\"display:inline;vertical-align:middle;\" /></a></span></td></tr>\n",
       "<tr><td>&nbsp;</td><td colspan=4 style=\"text-align:left\"><span style=\"font-size:20px;\"><a class=\"ProveItLink\" href=\"../f307345efa93fdd6c2df141d735449c4534792f70/expr.ipynb\"><img src=\"../f307345efa93fdd6c2df141d735449c4534792f70/expr.png\" style=\"display:inline;vertical-align:middle;\" /></a> : <a class=\"ProveItLink\" href=\"../019c6888d1c620f31a54c5a3b3b133d81323f76d0/expr.ipynb\"><img src=\"../019c6888d1c620f31a54c5a3b3b133d81323f76d0/expr.png\" style=\"display:inline;vertical-align:middle;\" /></a>, <a class=\"ProveItLink\" href=\"../../../../../../__pv_it/common/a0d9d672aa5e272d907247690c152cc2c6daafb70/expr.ipynb\"><img src=\"../../../../../../__pv_it/common/a0d9d672aa5e272d907247690c152cc2c6daafb70/expr.png\" style=\"display:inline;vertical-align:middle;\" /></a> : <a class=\"ProveItLink\" href=\"../../common/93b4b357c7ea9925c01c6e53d70b20d73fd980210/expr.ipynb\"><img src=\"../../common/93b4b357c7ea9925c01c6e53d70b20d73fd980210/expr.png\" style=\"display:inline;vertical-align:middle;\" /></a>, <a class=\"ProveItLink\" href=\"../../../../../../__pv_it/common/ff7dba4ef0bbe791ab573bf2d9c220a304399ac80/expr.ipynb\"><img src=\"../../../../../../__pv_it/common/ff7dba4ef0bbe791ab573bf2d9c220a304399ac80/expr.png\" style=\"display:inline;vertical-align:middle;\" /></a> : <a class=\"ProveItLink\" href=\"../../../../../../numbers/numerals/__pv_it/common/dd4e19e8b134dfb293470ea55fe3589b0ab9f8040/expr.ipynb\"><img src=\"../../../../../../numbers/numerals/__pv_it/common/dd4e19e8b134dfb293470ea55fe3589b0ab9f8040/expr.png\" style=\"display:inline;vertical-align:middle;\" /></a></span></td></tr><tr><td><a name=\"proveit.physics.quantum.QPE._proof__best_guarantee.7835670b0d98d36799ba3a6c2ac63264f08902f90_step1\">1</a></td><td>theorem</td><td></td><td><span style=\"font-size:20px;\"> <a class=\"ProveItLink\" href=\"../../../../../../logic/equality/_theory_nbs_/proofs/sub_right_side_into/thm_proof.ipynb\" style=\"text-decoration: none\">&nbsp;&#x22A2;&nbsp;&nbsp;</a><a class=\"ProveItLink\" href=\"../../../../../../logic/equality/__pv_it/theorems/6f117f8e22b1de06fedba415f5137beb876c1d570/expr.ipynb\"><img src=\"../../../../../../logic/equality/__pv_it/theorems/6f117f8e22b1de06fedba415f5137beb876c1d570/expr.png\" style=\"display:inline;vertical-align:middle;\" /></a></span></td></tr>\n",
       "<tr><td>&nbsp;</td><td colspan=4 style-\"text-align:left\"><a class=\"ProveItLink\" href=\"../../../../../../logic/equality/_theory_nbs_/proofs/sub_right_side_into/thm_proof.ipynb\">proveit.logic.equality.sub_right_side_into</a></td></tr><tr><td><a name=\"proveit.physics.quantum.QPE._proof__best_guarantee.7835670b0d98d36799ba3a6c2ac63264f08902f90_step2\">2</a></td><td>instantiation</td><td><a href=\"#proveit.physics.quantum.QPE._proof__best_guarantee.7835670b0d98d36799ba3a6c2ac63264f08902f90_step4\">4</a>, <a href=\"#proveit.physics.quantum.QPE._proof__best_guarantee.7835670b0d98d36799ba3a6c2ac63264f08902f90_step5\">5</a></td><td><span style=\"font-size:20px;\"> <a class=\"ProveItLink\" href=\"../b447b1f84f1e88af8fcfcc4e6df4402183ca55550/proof.ipynb\" style=\"text-decoration: none\">&nbsp;&#x22A2;&nbsp;&nbsp;</a><a class=\"ProveItLink\" href=\"../de11e047e7bbe87cff61f714d8e0af7e0b2c00260/expr.ipynb\"><img src=\"../de11e047e7bbe87cff61f714d8e0af7e0b2c00260/expr.png\" style=\"display:inline;vertical-align:middle;\" /></a></span></td></tr>\n",
       "<tr><td>&nbsp;</td><td colspan=4 style=\"text-align:left\"><span style=\"font-size:20px;\"><a class=\"ProveItLink\" href=\"../../../../../../__pv_it/common/195236b98c6c564a75b5dbada74b173bc52d5c3e0/expr.ipynb\"><img src=\"../../../../../../__pv_it/common/195236b98c6c564a75b5dbada74b173bc52d5c3e0/expr.png\" style=\"display:inline;vertical-align:middle;\" /></a> : <a class=\"ProveItLink\" href=\"../../common/86e7e654c47d905411cdcd594557bc54ff0937170/expr.ipynb\"><img src=\"../../common/86e7e654c47d905411cdcd594557bc54ff0937170/expr.png\" style=\"display:inline;vertical-align:middle;\" /></a></span></td></tr><tr><td><a name=\"proveit.physics.quantum.QPE._proof__best_guarantee.7835670b0d98d36799ba3a6c2ac63264f08902f90_step3\">3</a></td><td>assumption</td><td></td><td><span style=\"font-size:20px;\"><a class=\"ProveItLink\" href=\"../4056f43c0242580d7ab86324c24d6c0c330a0d7d0/expr.ipynb\"><img src=\"../4056f43c0242580d7ab86324c24d6c0c330a0d7d0/expr.png\" style=\"display:inline;vertical-align:middle;\" /></a> <a class=\"ProveItLink\" href=\"../d87c0bb53354f0b73cf1077bde1965a3918551230/proof.ipynb\" style=\"text-decoration: none\">&nbsp;&#x22A2;&nbsp;&nbsp;</a><a class=\"ProveItLink\" href=\"../4056f43c0242580d7ab86324c24d6c0c330a0d7d0/expr.ipynb\"><img src=\"../4056f43c0242580d7ab86324c24d6c0c330a0d7d0/expr.png\" style=\"display:inline;vertical-align:middle;\" /></a></span></td></tr>\n",
       "<tr><td><a name=\"proveit.physics.quantum.QPE._proof__best_guarantee.7835670b0d98d36799ba3a6c2ac63264f08902f90_step4\">4</a></td><td>axiom</td><td></td><td><span style=\"font-size:20px;\"> <a class=\"ProveItLink\" href=\"../../../_theory_nbs_/axioms.ipynb#_delta_b_def\" style=\"text-decoration: none\">&nbsp;&#x22A2;&nbsp;&nbsp;</a><a class=\"ProveItLink\" href=\"../../axioms/9c6dd005645132e987ea00ed0bf076438075b1060/expr.ipynb\"><img src=\"../../axioms/9c6dd005645132e987ea00ed0bf076438075b1060/expr.png\" style=\"display:inline;vertical-align:middle;\" /></a></span></td></tr>\n",
       "<tr><td>&nbsp;</td><td colspan=4 style-\"text-align:left\"><a class=\"ProveItLink\" href=\"../../../_theory_nbs_/axioms.ipynb#_delta_b_def\">proveit.physics.quantum.QPE._delta_b_def</a></td></tr><tr><td><a name=\"proveit.physics.quantum.QPE._proof__best_guarantee.7835670b0d98d36799ba3a6c2ac63264f08902f90_step5\">5</a></td><td>theorem</td><td></td><td><span style=\"font-size:20px;\"> <a class=\"ProveItLink\" href=\"../../../_theory_nbs_/proofs/_best_round_is_int/thm_proof.ipynb\" style=\"text-decoration: none\">&nbsp;&#x22A2;&nbsp;&nbsp;</a><a class=\"ProveItLink\" href=\"../../theorems/c12acbee0bd507d9af1816764a5c0d2ddf91c1e60/expr.ipynb\"><img src=\"../../theorems/c12acbee0bd507d9af1816764a5c0d2ddf91c1e60/expr.png\" style=\"display:inline;vertical-align:middle;\" /></a></span></td></tr>\n",
       "<tr><td>&nbsp;</td><td colspan=4 style-\"text-align:left\"><a class=\"ProveItLink\" href=\"../../../_theory_nbs_/proofs/_best_round_is_int/thm_proof.ipynb\">proveit.physics.quantum.QPE._best_round_is_int</a></td></tr></table>"
      ],
      "text/plain": [
       "<proveit._core_.proof._ShowProof at 0x7f92eb197c50>"
      ]
     },
     "execution_count": 1,
     "metadata": {},
     "output_type": "execute_result"
    }
   ],
   "source": [
    "import proveit\n",
    "# Automation is not needed when only showing a stored proof:\n",
    "proveit.defaults.automation = False # This will speed things up.\n",
    "proveit.defaults.inline_pngs = False # Makes files smaller.\n",
    "%show_proof"
   ]
  },
  {
   "cell_type": "code",
   "execution_count": null,
   "metadata": {},
   "outputs": [],
   "source": []
  }
 ],
 "metadata": {
  "kernelspec": {
   "display_name": "Python 3",
   "language": "python",
   "name": "python3"
  }
 },
 "nbformat": 4,
 "nbformat_minor": 0
}