{
 "cells": [
  {
   "cell_type": "markdown",
   "metadata": {},
   "source": [
    "Expression of type <a class=\"ProveItLink\" href=\"../../../../../../../../doc/html/api/proveit.ExprTuple.html\">ExprTuple</a>\n",
    "=======================\n",
    "# from the theory of <a class=\"ProveItLink\" href=\"../../../_theory_nbs_/theory.ipynb\">proveit.physics.quantum.QPE</a>"
   ]
  },
  {
   "cell_type": "code",
   "execution_count": 1,
   "metadata": {},
   "outputs": [],
   "source": [
    "import proveit\n",
    "# Automation is not needed when building an expression:\n",
    "proveit.defaults.automation = False # This will speed things up.\n",
    "proveit.defaults.inline_pngs = False # Makes files smaller.\n",
    "%load_expr # Load the stored expression as 'stored_expr'\n",
    "# import Expression classes needed to build the expression\n",
    "from proveit import ExprTuple\n",
    "from proveit.logic import Equals\n",
    "from proveit.numbers import Abs, Exp, Mod, four, frac, greater, pi, two, zero\n",
    "from proveit.physics.quantum.QPE import SubIndexed, _alpha, _b_round, _delta_b_round, _two_pow_t"
   ]
  },
  {
   "cell_type": "code",
   "execution_count": 2,
   "metadata": {},
   "outputs": [
    {
     "data": {
      "text/html": [
       "<strong id=\"expr\">expr:</strong> <a class=\"ProveItLink\" href=\"expr.ipynb\"><img src=\"expr.png\" style=\"display:inline;vertical-align:middle;\" /></a><br>"
      ],
      "text/plain": [
       "<IPython.core.display.HTML object>"
      ]
     },
     "metadata": {},
     "output_type": "display_data"
    }
   ],
   "source": [
    "# build up the expression from sub-expressions\n",
    "expr = ExprTuple(Equals(_delta_b_round, zero), greater(Exp(Abs(SubIndexed(_alpha, [Mod(_b_round, _two_pow_t)])), two), frac(four, Exp(pi, two))))"
   ]
  },
  {
   "cell_type": "code",
   "execution_count": 3,
   "metadata": {},
   "outputs": [
    {
     "name": "stdout",
     "output_type": "stream",
     "text": [
      "Passed sanity check: expr matches stored_expr\n"
     ]
    }
   ],
   "source": [
    "# check that the built expression is the same as the stored expression\n",
    "assert expr == stored_expr\n",
    "assert expr._style_id == stored_expr._style_id\n",
    "print(\"Passed sanity check: expr matches stored_expr\")"
   ]
  },
  {
   "cell_type": "code",
   "execution_count": 4,
   "metadata": {},
   "outputs": [
    {
     "name": "stdout",
     "output_type": "stream",
     "text": [
      "\\left(\\delta_{b_{\\textit{r}}} = 0, \\left|\\alpha_{b_{\\textit{r}} ~\\textup{mod}~ 2^{t}}\\right|^{2} > \\frac{4}{\\pi^{2}}\\right)\n"
     ]
    }
   ],
   "source": [
    "# Show the LaTeX representation of the expression for convenience if you need it.\n",
    "print(stored_expr.latex())"
   ]
  },
  {
   "cell_type": "code",
   "execution_count": 5,
   "metadata": {},
   "outputs": [
    {
     "data": {
      "text/html": [
       "<table>\n",
       "<tr><th>name</th><th>description</th><th>default</th><th>current value</th><th>related methods</th></tr><tr><td>wrap_positions</td><td>position(s) at which wrapping is to occur; 'n' is after the nth comma.</td><td>()</td><td>()</td><td>('with_wrapping_at',)</td></tr>\n",
       "<tr><td>justification</td><td>if any wrap positions are set, justify to the 'left', 'center', or 'right'</td><td>left</td><td>left</td><td>('with_justification',)</td></tr>\n",
       "</table>\n"
      ],
      "text/plain": [
       "style name: wrap_positions\n",
       "description: position(s) at which wrapping is to occur; 'n' is after the nth comma.\n",
       "default: ()\n",
       "current value: ()\n",
       "related methods: ('with_wrapping_at',)\n",
       "style name: justification\n",
       "description: if any wrap positions are set, justify to the 'left', 'center', or 'right'\n",
       "default: left\n",
       "current value: left\n",
       "related methods: ('with_justification',)"
      ]
     },
     "metadata": {},
     "output_type": "display_data"
    }
   ],
   "source": [
    "stored_expr.style_options()"
   ]
  },
  {
   "cell_type": "code",
   "execution_count": 6,
   "metadata": {},
   "outputs": [
    {
     "data": {
      "text/html": [
       "<table><tr><th>&nbsp;</th><th>core type</th><th>sub-expressions</th><th>expression</th></tr>\n",
       "<tr><td>0</td><td>ExprTuple</td><td>1, 2</td><td><a class=\"ProveItLink\" href=\"expr.ipynb\"><img src=\"expr.png\" style=\"display:inline;vertical-align:middle;\" /></a></td></tr>\n",
       "<tr><td>1</td><td>Operation</td><td>operator:&nbsp;3<br>operands:&nbsp;4<br></td><td><a class=\"ProveItLink\" href=\"../4056f43c0242580d7ab86324c24d6c0c330a0d7d0/expr.ipynb\"><img src=\"../4056f43c0242580d7ab86324c24d6c0c330a0d7d0/expr.png\" style=\"display:inline;vertical-align:middle;\" /></a></td></tr>\n",
       "<tr><td>2</td><td>Operation</td><td>operator:&nbsp;5<br>operands:&nbsp;6<br></td><td><a class=\"ProveItLink\" href=\"../../theorems/e631225ed9003b00eb1a57a53887a3df670230d40/expr.ipynb\"><img src=\"../../theorems/e631225ed9003b00eb1a57a53887a3df670230d40/expr.png\" style=\"display:inline;vertical-align:middle;\" /></a></td></tr>\n",
       "<tr><td>3</td><td>Literal</td><td></td><td><a class=\"ProveItLink\" href=\"../../../../../../logic/equality/__pv_it/common/fb96dc12b2aa8801dda64d0132b396c63d1502bb0/expr.ipynb\"><img src=\"../../../../../../logic/equality/__pv_it/common/fb96dc12b2aa8801dda64d0132b396c63d1502bb0/expr.png\" style=\"display:inline;vertical-align:middle;\" /></a></td></tr>\n",
       "<tr><td>4</td><td>ExprTuple</td><td>7, 8</td><td><a class=\"ProveItLink\" href=\"../../theorems/ff48bc1436b1e673eaf4ad152590b47337acdea00/expr.ipynb\"><img src=\"../../theorems/ff48bc1436b1e673eaf4ad152590b47337acdea00/expr.png\" style=\"display:inline;vertical-align:middle;\" /></a></td></tr>\n",
       "<tr><td>5</td><td>Literal</td><td></td><td><a class=\"ProveItLink\" href=\"../../../../../../numbers/ordering/__pv_it/common/fa503ed52033522c609eef1cf3e1b45796489da50/expr.ipynb\"><img src=\"../../../../../../numbers/ordering/__pv_it/common/fa503ed52033522c609eef1cf3e1b45796489da50/expr.png\" style=\"display:inline;vertical-align:middle;\" /></a></td></tr>\n",
       "<tr><td>6</td><td>ExprTuple</td><td>9, 10</td><td><a class=\"ProveItLink\" href=\"../../theorems/5271af587914f32c1b316f87a196415e6b9bb4b70/expr.ipynb\"><img src=\"../../theorems/5271af587914f32c1b316f87a196415e6b9bb4b70/expr.png\" style=\"display:inline;vertical-align:middle;\" /></a></td></tr>\n",
       "<tr><td>7</td><td>Operation</td><td>operator:&nbsp;11<br>operand:&nbsp;29<br></td><td><a class=\"ProveItLink\" href=\"../../common/93b4b357c7ea9925c01c6e53d70b20d73fd980210/expr.ipynb\"><img src=\"../../common/93b4b357c7ea9925c01c6e53d70b20d73fd980210/expr.png\" style=\"display:inline;vertical-align:middle;\" /></a></td></tr>\n",
       "<tr><td>8</td><td>Literal</td><td></td><td><a class=\"ProveItLink\" href=\"../../../../../../numbers/numerals/__pv_it/common/dd4e19e8b134dfb293470ea55fe3589b0ab9f8040/expr.ipynb\"><img src=\"../../../../../../numbers/numerals/__pv_it/common/dd4e19e8b134dfb293470ea55fe3589b0ab9f8040/expr.png\" style=\"display:inline;vertical-align:middle;\" /></a></td></tr>\n",
       "<tr><td>9</td><td>Operation</td><td>operator:&nbsp;13<br>operands:&nbsp;14<br></td><td><a class=\"ProveItLink\" href=\"../../theorems/98d50f85748d48c31912b45d0692f0f9bf62f0260/expr.ipynb\"><img src=\"../../theorems/98d50f85748d48c31912b45d0692f0f9bf62f0260/expr.png\" style=\"display:inline;vertical-align:middle;\" /></a></td></tr>\n",
       "<tr><td>10</td><td>Operation</td><td>operator:&nbsp;31<br>operands:&nbsp;15<br></td><td><a class=\"ProveItLink\" href=\"../../theorems/1afba0bd2e401fa93625d0b38b590112342e2f620/expr.ipynb\"><img src=\"../../theorems/1afba0bd2e401fa93625d0b38b590112342e2f620/expr.png\" style=\"display:inline;vertical-align:middle;\" /></a></td></tr>\n",
       "<tr><td>11</td><td>Literal</td><td></td><td><a class=\"ProveItLink\" href=\"../../common/d6b97444617188a78c398568a10ac4dbe1ffa6590/expr.ipynb\"><img src=\"../../common/d6b97444617188a78c398568a10ac4dbe1ffa6590/expr.png\" style=\"display:inline;vertical-align:middle;\" /></a></td></tr>\n",
       "<tr><td>12</td><td>ExprTuple</td><td>29</td><td><a class=\"ProveItLink\" href=\"../../common/986d22a1f3e6539fc38b57b344c7cef4a465933c0/expr.ipynb\"><img src=\"../../common/986d22a1f3e6539fc38b57b344c7cef4a465933c0/expr.png\" style=\"display:inline;vertical-align:middle;\" /></a></td></tr>\n",
       "<tr><td>13</td><td>Literal</td><td></td><td><a class=\"ProveItLink\" href=\"../../../../../../numbers/division/__pv_it/common/a2a633e1e3c749fb1f2692466b287b6348c5de840/expr.ipynb\"><img src=\"../../../../../../numbers/division/__pv_it/common/a2a633e1e3c749fb1f2692466b287b6348c5de840/expr.png\" style=\"display:inline;vertical-align:middle;\" /></a></td></tr>\n",
       "<tr><td>14</td><td>ExprTuple</td><td>16, 17</td><td><a class=\"ProveItLink\" href=\"../../theorems/9640a6580800a91543892ad046f30e92eb91c16b0/expr.ipynb\"><img src=\"../../theorems/9640a6580800a91543892ad046f30e92eb91c16b0/expr.png\" style=\"display:inline;vertical-align:middle;\" /></a></td></tr>\n",
       "<tr><td>15</td><td>ExprTuple</td><td>18, 33</td><td><a class=\"ProveItLink\" href=\"../../theorems/8d97b440d495e5f6c7537ddb90808ec3fb863ff60/expr.ipynb\"><img src=\"../../theorems/8d97b440d495e5f6c7537ddb90808ec3fb863ff60/expr.png\" style=\"display:inline;vertical-align:middle;\" /></a></td></tr>\n",
       "<tr><td>16</td><td>Literal</td><td></td><td><a class=\"ProveItLink\" href=\"../../../../../../numbers/numerals/__pv_it/common/48a1d915c1e9490b9a94e5c77a208938d3ee20ce0/expr.ipynb\"><img src=\"../../../../../../numbers/numerals/__pv_it/common/48a1d915c1e9490b9a94e5c77a208938d3ee20ce0/expr.png\" style=\"display:inline;vertical-align:middle;\" /></a></td></tr>\n",
       "<tr><td>17</td><td>Operation</td><td>operator:&nbsp;31<br>operands:&nbsp;19<br></td><td><a class=\"ProveItLink\" href=\"../../theorems/83a59ea7a7d07b885188d59834f245fca36f00990/expr.ipynb\"><img src=\"../../theorems/83a59ea7a7d07b885188d59834f245fca36f00990/expr.png\" style=\"display:inline;vertical-align:middle;\" /></a></td></tr>\n",
       "<tr><td>18</td><td>Operation</td><td>operator:&nbsp;20<br>operand:&nbsp;23<br></td><td><a class=\"ProveItLink\" href=\"../../theorems/00b5a6b015b3ef1389e64e50e9f8e4cd09ee32f60/expr.ipynb\"><img src=\"../../theorems/00b5a6b015b3ef1389e64e50e9f8e4cd09ee32f60/expr.png\" style=\"display:inline;vertical-align:middle;\" /></a></td></tr>\n",
       "<tr><td>19</td><td>ExprTuple</td><td>22, 33</td><td><a class=\"ProveItLink\" href=\"../../theorems/fa3bd54b24864c0523c773df47636f1e41f520450/expr.ipynb\"><img src=\"../../theorems/fa3bd54b24864c0523c773df47636f1e41f520450/expr.png\" style=\"display:inline;vertical-align:middle;\" /></a></td></tr>\n",
       "<tr><td>20</td><td>Literal</td><td></td><td><a class=\"ProveItLink\" href=\"../../../../../../numbers/absolute_value/__pv_it/common/eea56c667bc0aad2dc76ed04b44c2bd98b94005f0/expr.ipynb\"><img src=\"../../../../../../numbers/absolute_value/__pv_it/common/eea56c667bc0aad2dc76ed04b44c2bd98b94005f0/expr.png\" style=\"display:inline;vertical-align:middle;\" /></a></td></tr>\n",
       "<tr><td>21</td><td>ExprTuple</td><td>23</td><td><a class=\"ProveItLink\" href=\"../../theorems/544eaa6f43ee981e3d2e9af1b6b58eddd7038d830/expr.ipynb\"><img src=\"../../theorems/544eaa6f43ee981e3d2e9af1b6b58eddd7038d830/expr.png\" style=\"display:inline;vertical-align:middle;\" /></a></td></tr>\n",
       "<tr><td>22</td><td>Literal</td><td></td><td><a class=\"ProveItLink\" href=\"../../../../../../numbers/number_sets/real_numbers/__pv_it/common/246c206266ac5b48800e508d580f91767b24c2df0/expr.ipynb\"><img src=\"../../../../../../numbers/number_sets/real_numbers/__pv_it/common/246c206266ac5b48800e508d580f91767b24c2df0/expr.png\" style=\"display:inline;vertical-align:middle;\" /></a></td></tr>\n",
       "<tr><td>23</td><td>Operation</td><td>operator:&nbsp;24<br>operand:&nbsp;26<br></td><td><a class=\"ProveItLink\" href=\"../../theorems/fa6fb0abcd23d30813b5dc9138819f39ac3d80070/expr.ipynb\"><img src=\"../../theorems/fa6fb0abcd23d30813b5dc9138819f39ac3d80070/expr.png\" style=\"display:inline;vertical-align:middle;\" /></a></td></tr>\n",
       "<tr><td>24</td><td>Literal</td><td></td><td><a class=\"ProveItLink\" href=\"../../common/91bf0c8711f0cb198093da4362dda6021bfd02790/expr.ipynb\"><img src=\"../../common/91bf0c8711f0cb198093da4362dda6021bfd02790/expr.png\" style=\"display:inline;vertical-align:middle;\" /></a></td></tr>\n",
       "<tr><td>25</td><td>ExprTuple</td><td>26</td><td><a class=\"ProveItLink\" href=\"../../theorems/dd1705babab915a1cb15063fcf7d9bd7af26446f0/expr.ipynb\"><img src=\"../../theorems/dd1705babab915a1cb15063fcf7d9bd7af26446f0/expr.png\" style=\"display:inline;vertical-align:middle;\" /></a></td></tr>\n",
       "<tr><td>26</td><td>Operation</td><td>operator:&nbsp;27<br>operands:&nbsp;28<br></td><td><a class=\"ProveItLink\" href=\"../../theorems/f48b8cb9e3740a250d050cd6d7873b4ef7c573490/expr.ipynb\"><img src=\"../../theorems/f48b8cb9e3740a250d050cd6d7873b4ef7c573490/expr.png\" style=\"display:inline;vertical-align:middle;\" /></a></td></tr>\n",
       "<tr><td>27</td><td>Literal</td><td></td><td><a class=\"ProveItLink\" href=\"../../../../../../numbers/modular/__pv_it/common/f61fe43eeba657b57e4fe7773885cfa81fe3dfc20/expr.ipynb\"><img src=\"../../../../../../numbers/modular/__pv_it/common/f61fe43eeba657b57e4fe7773885cfa81fe3dfc20/expr.png\" style=\"display:inline;vertical-align:middle;\" /></a></td></tr>\n",
       "<tr><td>28</td><td>ExprTuple</td><td>29, 30</td><td><a class=\"ProveItLink\" href=\"../../theorems/9b3a30bfb15492fbab193d0ab28c309aff3daf550/expr.ipynb\"><img src=\"../../theorems/9b3a30bfb15492fbab193d0ab28c309aff3daf550/expr.png\" style=\"display:inline;vertical-align:middle;\" /></a></td></tr>\n",
       "<tr><td>29</td><td>Literal</td><td></td><td><a class=\"ProveItLink\" href=\"../../common/86e7e654c47d905411cdcd594557bc54ff0937170/expr.ipynb\"><img src=\"../../common/86e7e654c47d905411cdcd594557bc54ff0937170/expr.png\" style=\"display:inline;vertical-align:middle;\" /></a></td></tr>\n",
       "<tr><td>30</td><td>Operation</td><td>operator:&nbsp;31<br>operands:&nbsp;32<br></td><td><a class=\"ProveItLink\" href=\"../../common/18332e4e627d64eadf0d81efed19ae3e9d007d510/expr.ipynb\"><img src=\"../../common/18332e4e627d64eadf0d81efed19ae3e9d007d510/expr.png\" style=\"display:inline;vertical-align:middle;\" /></a></td></tr>\n",
       "<tr><td>31</td><td>Literal</td><td></td><td><a class=\"ProveItLink\" href=\"../../../../../../numbers/exponentiation/__pv_it/common/0ac37aca1e54c35c5cda09672df32d4f69f1f3020/expr.ipynb\"><img src=\"../../../../../../numbers/exponentiation/__pv_it/common/0ac37aca1e54c35c5cda09672df32d4f69f1f3020/expr.png\" style=\"display:inline;vertical-align:middle;\" /></a></td></tr>\n",
       "<tr><td>32</td><td>ExprTuple</td><td>33, 34</td><td><a class=\"ProveItLink\" href=\"../../common/e32fd834a589b0231aa39da242e9381ec87261b00/expr.ipynb\"><img src=\"../../common/e32fd834a589b0231aa39da242e9381ec87261b00/expr.png\" style=\"display:inline;vertical-align:middle;\" /></a></td></tr>\n",
       "<tr><td>33</td><td>Literal</td><td></td><td><a class=\"ProveItLink\" href=\"../../../../../../numbers/numerals/__pv_it/common/af4aab8a07465db063742696e006d04670f30cf10/expr.ipynb\"><img src=\"../../../../../../numbers/numerals/__pv_it/common/af4aab8a07465db063742696e006d04670f30cf10/expr.png\" style=\"display:inline;vertical-align:middle;\" /></a></td></tr>\n",
       "<tr><td>34</td><td>Literal</td><td></td><td><a class=\"ProveItLink\" href=\"../../common/977cc67717328e22c93f8ab84e6a45e8cadce7790/expr.ipynb\"><img src=\"../../common/977cc67717328e22c93f8ab84e6a45e8cadce7790/expr.png\" style=\"display:inline;vertical-align:middle;\" /></a></td></tr>\n",
       "</table>\n"
      ],
      "text/plain": [
       "0. (delta_{b_{r}} = 0, |alpha_{b_{r} mod 2^{t}}|^{2} > (4 / pi^{2}))\n",
       "   core type: ExprTuple\n",
       "   sub-expressions: 1, 2\n",
       "1. delta_{b_{r}} = 0\n",
       "   core type: Operation\n",
       "   operator: 3\n",
       "   operands: 4\n",
       "2. |alpha_{b_{r} mod 2^{t}}|^{2} > (4 / pi^{2})\n",
       "   core type: Operation\n",
       "   operator: 5\n",
       "   operands: 6\n",
       "3. =\n",
       "   core type: Literal\n",
       "   sub-expressions: \n",
       "4. (delta_{b_{r}}, 0)\n",
       "   core type: ExprTuple\n",
       "   sub-expressions: 7, 8\n",
       "5. <\n",
       "   core type: Literal\n",
       "   sub-expressions: \n",
       "6. (4 / pi^{2}, |alpha_{b_{r} mod 2^{t}}|^{2})\n",
       "   core type: ExprTuple\n",
       "   sub-expressions: 9, 10\n",
       "7. delta_{b_{r}}\n",
       "   core type: Operation\n",
       "   operator: 11\n",
       "   operand: 29\n",
       "8. 0\n",
       "   core type: Literal\n",
       "   sub-expressions: \n",
       "9. 4 / pi^{2}\n",
       "   core type: Operation\n",
       "   operator: 13\n",
       "   operands: 14\n",
       "10. |alpha_{b_{r} mod 2^{t}}|^{2}\n",
       "    core type: Operation\n",
       "    operator: 31\n",
       "    operands: 15\n",
       "11. delta\n",
       "    core type: Literal\n",
       "    sub-expressions: \n",
       "12. (b_{r})\n",
       "    core type: ExprTuple\n",
       "    sub-expressions: 29\n",
       "13. /\n",
       "    core type: Literal\n",
       "    sub-expressions: \n",
       "14. (4, pi^{2})\n",
       "    core type: ExprTuple\n",
       "    sub-expressions: 16, 17\n",
       "15. (|alpha_{b_{r} mod 2^{t}}|, 2)\n",
       "    core type: ExprTuple\n",
       "    sub-expressions: 18, 33\n",
       "16. 4\n",
       "    core type: Literal\n",
       "    sub-expressions: \n",
       "17. pi^{2}\n",
       "    core type: Operation\n",
       "    operator: 31\n",
       "    operands: 19\n",
       "18. |alpha_{b_{r} mod 2^{t}}|\n",
       "    core type: Operation\n",
       "    operator: 20\n",
       "    operand: 23\n",
       "19. (pi, 2)\n",
       "    core type: ExprTuple\n",
       "    sub-expressions: 22, 33\n",
       "20. Abs\n",
       "    core type: Literal\n",
       "    sub-expressions: \n",
       "21. (alpha_{b_{r} mod 2^{t}})\n",
       "    core type: ExprTuple\n",
       "    sub-expressions: 23\n",
       "22. pi\n",
       "    core type: Literal\n",
       "    sub-expressions: \n",
       "23. alpha_{b_{r} mod 2^{t}}\n",
       "    core type: Operation\n",
       "    operator: 24\n",
       "    operand: 26\n",
       "24. alpha\n",
       "    core type: Literal\n",
       "    sub-expressions: \n",
       "25. (b_{r} mod 2^{t})\n",
       "    core type: ExprTuple\n",
       "    sub-expressions: 26\n",
       "26. b_{r} mod 2^{t}\n",
       "    core type: Operation\n",
       "    operator: 27\n",
       "    operands: 28\n",
       "27. mod\n",
       "    core type: Literal\n",
       "    sub-expressions: \n",
       "28. (b_{r}, 2^{t})\n",
       "    core type: ExprTuple\n",
       "    sub-expressions: 29, 30\n",
       "29. b_{r}\n",
       "    core type: Literal\n",
       "    sub-expressions: \n",
       "30. 2^{t}\n",
       "    core type: Operation\n",
       "    operator: 31\n",
       "    operands: 32\n",
       "31. Exp\n",
       "    core type: Literal\n",
       "    sub-expressions: \n",
       "32. (2, t)\n",
       "    core type: ExprTuple\n",
       "    sub-expressions: 33, 34\n",
       "33. 2\n",
       "    core type: Literal\n",
       "    sub-expressions: \n",
       "34. t\n",
       "    core type: Literal\n",
       "    sub-expressions: "
      ]
     },
     "metadata": {},
     "output_type": "display_data"
    }
   ],
   "source": [
    "# display the expression information\n",
    "stored_expr.expr_info()"
   ]
  },
  {
   "cell_type": "code",
   "execution_count": null,
   "metadata": {},
   "outputs": [],
   "source": []
  }
 ],
 "metadata": {
  "kernelspec": {
   "display_name": "Python 3",
   "language": "python",
   "name": "python3"
  }
 },
 "nbformat": 4,
 "nbformat_minor": 0
}