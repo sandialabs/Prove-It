{
 "cells": [
  {
   "cell_type": "markdown",
   "metadata": {},
   "source": [
    "Show the Proof\n",
    "========"
   ]
  },
  {
   "cell_type": "code",
   "execution_count": 1,
   "metadata": {},
   "outputs": [
    {
     "data": {
      "text/html": [
       "<table><tr><th>&nbsp;</th><th>step type</th><th>requirements</th><th>statement</th></tr>\n",
       "<tr><td><a name=\"proveit.physics.quantum.QPE.axioms.7f1ab57f29cb02688d5ccdaf1c08ab3d9b61b1960_step0\">0</a></td><td>axiom</td><td></td><td><span style=\"font-size:20px;\"> <a class=\"ProveItLink\" href=\"../../../_theory_nbs_/axioms.ipynb#_s_in_nat_pos\" style=\"text-decoration: none\">&nbsp;&#x22A2;&nbsp;&nbsp;</a><a class=\"ProveItLink\" href=\"../89b9f03344b95013be5c8b0bea35b6e272ad9bde0/expr.ipynb\"><img src=\"../89b9f03344b95013be5c8b0bea35b6e272ad9bde0/expr.png\" style=\"display:inline;vertical-align:middle;\" /></a></span></td></tr>\n",
       "<tr><td>&nbsp;</td><td colspan=4 style-\"text-align:left\"><a class=\"ProveItLink\" href=\"../../../_theory_nbs_/axioms.ipynb#_s_in_nat_pos\">proveit.physics.quantum.QPE._s_in_nat_pos</a></td></tr></table>"
      ],
      "text/plain": [
       "<proveit._core_.proof._ShowProof at 0x7f75ceeb8710>"
      ]
     },
     "execution_count": 1,
     "metadata": {},
     "output_type": "execute_result"
    }
   ],
   "source": [
    "import proveit\n",
    "# Automation is not needed when only showing a stored proof:\n",
    "proveit.defaults.automation = False # This will speed things up.\n",
    "proveit.defaults.inline_pngs = False # Makes files smaller.\n",
    "%show_proof"
   ]
  },
  {
   "cell_type": "code",
   "execution_count": null,
   "metadata": {},
   "outputs": [],
   "source": []
  }
 ],
 "metadata": {
  "kernelspec": {
   "display_name": "Python 3",
   "language": "python",
   "name": "python3"
  }
 },
 "nbformat": 4,
 "nbformat_minor": 0
}