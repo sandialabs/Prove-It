{
 "cells": [
  {
   "cell_type": "markdown",
   "metadata": {},
   "source": [
    "Expression of type <a class=\"ProveItLink\" href=\"../../../../../../../../doc/html/api/proveit.ExprTuple.html\">ExprTuple</a>\n",
    "=======================\n",
    "# from the theory of <a class=\"ProveItLink\" href=\"../../../_theory_nbs_/theory.ipynb\">proveit.physics.quantum.QPE</a>"
   ]
  },
  {
   "cell_type": "code",
   "execution_count": 1,
   "metadata": {},
   "outputs": [],
   "source": [
    "import proveit\n",
    "# Automation is not needed when building an expression:\n",
    "proveit.defaults.automation = False # This will speed things up.\n",
    "proveit.defaults.inline_pngs = False # Makes files smaller.\n",
    "%load_expr # Load the stored expression as 'stored_expr'\n",
    "# import Expression classes needed to build the expression\n",
    "from proveit import Conditional, ExprTuple, Lambda, e, l\n",
    "from proveit.logic import InSet\n",
    "from proveit.numbers import Abs, Add, Exp, Interval, Neg, one, subtract, two\n",
    "from proveit.physics.quantum.QPE import _neg_domain, _rel_indexed_alpha, _two_pow__t_minus_one"
   ]
  },
  {
   "cell_type": "code",
   "execution_count": 2,
   "metadata": {},
   "outputs": [
    {
     "data": {
      "text/html": [
       "<strong id=\"expr\">expr:</strong> <a class=\"ProveItLink\" href=\"expr.ipynb\"><img src=\"expr.png\" style=\"display:inline;vertical-align:middle;\" /></a><br>"
      ],
      "text/plain": [
       "<IPython.core.display.HTML object>"
      ]
     },
     "metadata": {},
     "output_type": "display_data"
    }
   ],
   "source": [
    "# build up the expression from sub-expressions\n",
    "sub_expr1 = Exp(Abs(_rel_indexed_alpha), two)\n",
    "expr = ExprTuple(Lambda(l, Conditional(sub_expr1, InSet(l, _neg_domain))), Lambda(l, Conditional(sub_expr1, InSet(l, Interval(Add(Neg(_two_pow__t_minus_one), one), subtract(Neg(e), one))))))"
   ]
  },
  {
   "cell_type": "code",
   "execution_count": 3,
   "metadata": {},
   "outputs": [
    {
     "name": "stdout",
     "output_type": "stream",
     "text": [
      "Passed sanity check: expr matches stored_expr\n"
     ]
    }
   ],
   "source": [
    "# check that the built expression is the same as the stored expression\n",
    "assert expr == stored_expr\n",
    "assert expr._style_id == stored_expr._style_id\n",
    "print(\"Passed sanity check: expr matches stored_expr\")"
   ]
  },
  {
   "cell_type": "code",
   "execution_count": 4,
   "metadata": {},
   "outputs": [
    {
     "name": "stdout",
     "output_type": "stream",
     "text": [
      "\\left(l \\mapsto \\left\\{\\left|\\alpha_{b_{\\textit{f}} \\oplus l}\\right|^{2} \\textrm{ if } l \\in \\{-2^{t - 1} + 1~\\ldotp \\ldotp~-\\left(e + 1\\right)\\}\\right.., l \\mapsto \\left\\{\\left|\\alpha_{b_{\\textit{f}} \\oplus l}\\right|^{2} \\textrm{ if } l \\in \\{-2^{t - 1} + 1~\\ldotp \\ldotp~-e - 1\\}\\right..\\right)\n"
     ]
    }
   ],
   "source": [
    "# Show the LaTeX representation of the expression for convenience if you need it.\n",
    "print(stored_expr.latex())"
   ]
  },
  {
   "cell_type": "code",
   "execution_count": 5,
   "metadata": {},
   "outputs": [
    {
     "data": {
      "text/html": [
       "<table>\n",
       "<tr><th>name</th><th>description</th><th>default</th><th>current value</th><th>related methods</th></tr><tr><td>wrap_positions</td><td>position(s) at which wrapping is to occur; 'n' is after the nth comma.</td><td>()</td><td>()</td><td>('with_wrapping_at',)</td></tr>\n",
       "<tr><td>justification</td><td>if any wrap positions are set, justify to the 'left', 'center', or 'right'</td><td>left</td><td>left</td><td>('with_justification',)</td></tr>\n",
       "</table>\n"
      ],
      "text/plain": [
       "style name: wrap_positions\n",
       "description: position(s) at which wrapping is to occur; 'n' is after the nth comma.\n",
       "default: ()\n",
       "current value: ()\n",
       "related methods: ('with_wrapping_at',)\n",
       "style name: justification\n",
       "description: if any wrap positions are set, justify to the 'left', 'center', or 'right'\n",
       "default: left\n",
       "current value: left\n",
       "related methods: ('with_justification',)"
      ]
     },
     "metadata": {},
     "output_type": "display_data"
    }
   ],
   "source": [
    "stored_expr.style_options()"
   ]
  },
  {
   "cell_type": "code",
   "execution_count": 6,
   "metadata": {},
   "outputs": [
    {
     "data": {
      "text/html": [
       "<table><tr><th>&nbsp;</th><th>core type</th><th>sub-expressions</th><th>expression</th></tr>\n",
       "<tr><td>0</td><td>ExprTuple</td><td>1, 2</td><td><a class=\"ProveItLink\" href=\"expr.ipynb\"><img src=\"expr.png\" style=\"display:inline;vertical-align:middle;\" /></a></td></tr>\n",
       "<tr><td>1</td><td>Lambda</td><td>parameter:&nbsp;40<br>body:&nbsp;3<br></td><td><a class=\"ProveItLink\" href=\"../../theorems/bbac2f27cdc3f41a0ba4f6e49c9124109b995b980/expr.ipynb\"><img src=\"../../theorems/bbac2f27cdc3f41a0ba4f6e49c9124109b995b980/expr.png\" style=\"display:inline;vertical-align:middle;\" /></a></td></tr>\n",
       "<tr><td>2</td><td>Lambda</td><td>parameter:&nbsp;40<br>body:&nbsp;5<br></td><td><a class=\"ProveItLink\" href=\"../1a69dc7da76c29e006cb7804aae79af293b8e3240/expr.ipynb\"><img src=\"../1a69dc7da76c29e006cb7804aae79af293b8e3240/expr.png\" style=\"display:inline;vertical-align:middle;\" /></a></td></tr>\n",
       "<tr><td>3</td><td>Conditional</td><td>value:&nbsp;7<br>condition:&nbsp;6<br></td><td><a class=\"ProveItLink\" href=\"../../theorems/70e2341919013ef1175589f2a5064856bf6dace70/expr.ipynb\"><img src=\"../../theorems/70e2341919013ef1175589f2a5064856bf6dace70/expr.png\" style=\"display:inline;vertical-align:middle;\" /></a></td></tr>\n",
       "<tr><td>4</td><td>ExprTuple</td><td>40</td><td><a class=\"ProveItLink\" href=\"../../common/039a14dbb9d0bf99f342285bcbd227a70d804d7f0/expr.ipynb\"><img src=\"../../common/039a14dbb9d0bf99f342285bcbd227a70d804d7f0/expr.png\" style=\"display:inline;vertical-align:middle;\" /></a></td></tr>\n",
       "<tr><td>5</td><td>Conditional</td><td>value:&nbsp;7<br>condition:&nbsp;8<br></td><td><a class=\"ProveItLink\" href=\"../53f807b9a2ccc71af515ddb140915fcf9f8934c80/expr.ipynb\"><img src=\"../53f807b9a2ccc71af515ddb140915fcf9f8934c80/expr.png\" style=\"display:inline;vertical-align:middle;\" /></a></td></tr>\n",
       "<tr><td>6</td><td>Operation</td><td>operator:&nbsp;11<br>operands:&nbsp;9<br></td><td><a class=\"ProveItLink\" href=\"../../theorems/bb8428576c5e9aef5059458d15ab082fff89783c0/expr.ipynb\"><img src=\"../../theorems/bb8428576c5e9aef5059458d15ab082fff89783c0/expr.png\" style=\"display:inline;vertical-align:middle;\" /></a></td></tr>\n",
       "<tr><td>7</td><td>Operation</td><td>operator:&nbsp;43<br>operands:&nbsp;10<br></td><td><a class=\"ProveItLink\" href=\"../../theorems/114e97ba41b7ebe501d69cd92150ee5d97c8dede0/expr.ipynb\"><img src=\"../../theorems/114e97ba41b7ebe501d69cd92150ee5d97c8dede0/expr.png\" style=\"display:inline;vertical-align:middle;\" /></a></td></tr>\n",
       "<tr><td>8</td><td>Operation</td><td>operator:&nbsp;11<br>operands:&nbsp;12<br></td><td><a class=\"ProveItLink\" href=\"../c5fccd17c96e30fff4c1cec2793570c8262482c60/expr.ipynb\"><img src=\"../c5fccd17c96e30fff4c1cec2793570c8262482c60/expr.png\" style=\"display:inline;vertical-align:middle;\" /></a></td></tr>\n",
       "<tr><td>9</td><td>ExprTuple</td><td>40, 13</td><td><a class=\"ProveItLink\" href=\"../../theorems/78ce6f6d075844dd86546d9d9bbfec2edd48881c0/expr.ipynb\"><img src=\"../../theorems/78ce6f6d075844dd86546d9d9bbfec2edd48881c0/expr.png\" style=\"display:inline;vertical-align:middle;\" /></a></td></tr>\n",
       "<tr><td>10</td><td>ExprTuple</td><td>14, 45</td><td><a class=\"ProveItLink\" href=\"../../theorems/f734d0c36d7f89081c30e0f1a3a93d4115ed98690/expr.ipynb\"><img src=\"../../theorems/f734d0c36d7f89081c30e0f1a3a93d4115ed98690/expr.png\" style=\"display:inline;vertical-align:middle;\" /></a></td></tr>\n",
       "<tr><td>11</td><td>Literal</td><td></td><td><a class=\"ProveItLink\" href=\"../../../../../../logic/sets/membership/__pv_it/common/477487d8796864d23d5810f83761435f25167f690/expr.ipynb\"><img src=\"../../../../../../logic/sets/membership/__pv_it/common/477487d8796864d23d5810f83761435f25167f690/expr.png\" style=\"display:inline;vertical-align:middle;\" /></a></td></tr>\n",
       "<tr><td>12</td><td>ExprTuple</td><td>40, 15</td><td><a class=\"ProveItLink\" href=\"../d16fafff9e44055408b3d22c4eb2e437566e61d10/expr.ipynb\"><img src=\"../d16fafff9e44055408b3d22c4eb2e437566e61d10/expr.png\" style=\"display:inline;vertical-align:middle;\" /></a></td></tr>\n",
       "<tr><td>13</td><td>Operation</td><td>operator:&nbsp;19<br>operands:&nbsp;16<br></td><td><a class=\"ProveItLink\" href=\"../../common/11daab29f734f33d5a9a3b7497304dd7d5b19a6e0/expr.ipynb\"><img src=\"../../common/11daab29f734f33d5a9a3b7497304dd7d5b19a6e0/expr.png\" style=\"display:inline;vertical-align:middle;\" /></a></td></tr>\n",
       "<tr><td>14</td><td>Operation</td><td>operator:&nbsp;17<br>operand:&nbsp;22<br></td><td><a class=\"ProveItLink\" href=\"../../theorems/545985cf79a3fa2371c1578ca9bf4b8bf6fe77be0/expr.ipynb\"><img src=\"../../theorems/545985cf79a3fa2371c1578ca9bf4b8bf6fe77be0/expr.png\" style=\"display:inline;vertical-align:middle;\" /></a></td></tr>\n",
       "<tr><td>15</td><td>Operation</td><td>operator:&nbsp;19<br>operands:&nbsp;20<br></td><td><a class=\"ProveItLink\" href=\"../65338aaeab99a4a7d10cb13ec5a17945fb2a1b550/expr.ipynb\"><img src=\"../65338aaeab99a4a7d10cb13ec5a17945fb2a1b550/expr.png\" style=\"display:inline;vertical-align:middle;\" /></a></td></tr>\n",
       "<tr><td>16</td><td>ExprTuple</td><td>23, 21</td><td><a class=\"ProveItLink\" href=\"../../common/12ce02544b1471c5a8c1154726d6097707a659a20/expr.ipynb\"><img src=\"../../common/12ce02544b1471c5a8c1154726d6097707a659a20/expr.png\" style=\"display:inline;vertical-align:middle;\" /></a></td></tr>\n",
       "<tr><td>17</td><td>Literal</td><td></td><td><a class=\"ProveItLink\" href=\"../../../../../../numbers/absolute_value/__pv_it/common/eea56c667bc0aad2dc76ed04b44c2bd98b94005f0/expr.ipynb\"><img src=\"../../../../../../numbers/absolute_value/__pv_it/common/eea56c667bc0aad2dc76ed04b44c2bd98b94005f0/expr.png\" style=\"display:inline;vertical-align:middle;\" /></a></td></tr>\n",
       "<tr><td>18</td><td>ExprTuple</td><td>22</td><td><a class=\"ProveItLink\" href=\"../../theorems/52ba0a07d876f9cf16c04d82b07062fd59b820600/expr.ipynb\"><img src=\"../../theorems/52ba0a07d876f9cf16c04d82b07062fd59b820600/expr.png\" style=\"display:inline;vertical-align:middle;\" /></a></td></tr>\n",
       "<tr><td>19</td><td>Literal</td><td></td><td><a class=\"ProveItLink\" href=\"../../../../../../numbers/number_sets/integers/__pv_it/common/92f3a0a77e3c3ea8e4a5c8674edadc54e4f57d550/expr.ipynb\"><img src=\"../../../../../../numbers/number_sets/integers/__pv_it/common/92f3a0a77e3c3ea8e4a5c8674edadc54e4f57d550/expr.png\" style=\"display:inline;vertical-align:middle;\" /></a></td></tr>\n",
       "<tr><td>20</td><td>ExprTuple</td><td>23, 24</td><td><a class=\"ProveItLink\" href=\"../1c7587acdd46f5e5a0ffe8f6e3468e6428c3feea0/expr.ipynb\"><img src=\"../1c7587acdd46f5e5a0ffe8f6e3468e6428c3feea0/expr.png\" style=\"display:inline;vertical-align:middle;\" /></a></td></tr>\n",
       "<tr><td>21</td><td>Operation</td><td>operator:&nbsp;51<br>operand:&nbsp;30<br></td><td><a class=\"ProveItLink\" href=\"../../common/fc88928b08a114ef2e12ee095c5cd52f956d6baa0/expr.ipynb\"><img src=\"../../common/fc88928b08a114ef2e12ee095c5cd52f956d6baa0/expr.png\" style=\"display:inline;vertical-align:middle;\" /></a></td></tr>\n",
       "<tr><td>22</td><td>Operation</td><td>operator:&nbsp;26<br>operand:&nbsp;31<br></td><td><a class=\"ProveItLink\" href=\"../../common/c1c01d0c1c3f41a0bb6658e5c1bf94153e91678b0/expr.ipynb\"><img src=\"../../common/c1c01d0c1c3f41a0bb6658e5c1bf94153e91678b0/expr.png\" style=\"display:inline;vertical-align:middle;\" /></a></td></tr>\n",
       "<tr><td>23</td><td>Operation</td><td>operator:&nbsp;47<br>operands:&nbsp;28<br></td><td><a class=\"ProveItLink\" href=\"../../common/784dee04278eb5ffb26c65868b9ae69e9c68b9da0/expr.ipynb\"><img src=\"../../common/784dee04278eb5ffb26c65868b9ae69e9c68b9da0/expr.png\" style=\"display:inline;vertical-align:middle;\" /></a></td></tr>\n",
       "<tr><td>24</td><td>Operation</td><td>operator:&nbsp;47<br>operands:&nbsp;29<br></td><td><a class=\"ProveItLink\" href=\"../1d707772c03086bc0ea8daf3721ffd703d2350e90/expr.ipynb\"><img src=\"../1d707772c03086bc0ea8daf3721ffd703d2350e90/expr.png\" style=\"display:inline;vertical-align:middle;\" /></a></td></tr>\n",
       "<tr><td>25</td><td>ExprTuple</td><td>30</td><td><a class=\"ProveItLink\" href=\"../../common/39f476670c75059d11617688abbfcd319d601f440/expr.ipynb\"><img src=\"../../common/39f476670c75059d11617688abbfcd319d601f440/expr.png\" style=\"display:inline;vertical-align:middle;\" /></a></td></tr>\n",
       "<tr><td>26</td><td>Literal</td><td></td><td><a class=\"ProveItLink\" href=\"../../common/91bf0c8711f0cb198093da4362dda6021bfd02790/expr.ipynb\"><img src=\"../../common/91bf0c8711f0cb198093da4362dda6021bfd02790/expr.png\" style=\"display:inline;vertical-align:middle;\" /></a></td></tr>\n",
       "<tr><td>27</td><td>ExprTuple</td><td>31</td><td><a class=\"ProveItLink\" href=\"../../common/eb4c7fd3b2a9bb632e729438dfdf230dba69c8270/expr.ipynb\"><img src=\"../../common/eb4c7fd3b2a9bb632e729438dfdf230dba69c8270/expr.png\" style=\"display:inline;vertical-align:middle;\" /></a></td></tr>\n",
       "<tr><td>28</td><td>ExprTuple</td><td>32, 53</td><td><a class=\"ProveItLink\" href=\"../../common/e64ef65a3510605025876a1d1c5a986e5d683cfe0/expr.ipynb\"><img src=\"../../common/e64ef65a3510605025876a1d1c5a986e5d683cfe0/expr.png\" style=\"display:inline;vertical-align:middle;\" /></a></td></tr>\n",
       "<tr><td>29</td><td>ExprTuple</td><td>33, 50</td><td><a class=\"ProveItLink\" href=\"../5e7630c204ccc0b32a425e80d5d83ba4071795a20/expr.ipynb\"><img src=\"../5e7630c204ccc0b32a425e80d5d83ba4071795a20/expr.png\" style=\"display:inline;vertical-align:middle;\" /></a></td></tr>\n",
       "<tr><td>30</td><td>Operation</td><td>operator:&nbsp;47<br>operands:&nbsp;34<br></td><td><a class=\"ProveItLink\" href=\"../../common/3b723d66956150d062bf1f9b39de5c57b551151f0/expr.ipynb\"><img src=\"../../common/3b723d66956150d062bf1f9b39de5c57b551151f0/expr.png\" style=\"display:inline;vertical-align:middle;\" /></a></td></tr>\n",
       "<tr><td>31</td><td>Operation</td><td>operator:&nbsp;35<br>operands:&nbsp;36<br></td><td><a class=\"ProveItLink\" href=\"../../common/c3b6eb4a46418dc7b0bba84727aa5841571a136b0/expr.ipynb\"><img src=\"../../common/c3b6eb4a46418dc7b0bba84727aa5841571a136b0/expr.png\" style=\"display:inline;vertical-align:middle;\" /></a></td></tr>\n",
       "<tr><td>32</td><td>Operation</td><td>operator:&nbsp;51<br>operand:&nbsp;41<br></td><td><a class=\"ProveItLink\" href=\"../../common/91138182b232b0ec0bb7ca2f8cd7660c0c007ade0/expr.ipynb\"><img src=\"../../common/91138182b232b0ec0bb7ca2f8cd7660c0c007ade0/expr.png\" style=\"display:inline;vertical-align:middle;\" /></a></td></tr>\n",
       "<tr><td>33</td><td>Operation</td><td>operator:&nbsp;51<br>operand:&nbsp;42<br></td><td><a class=\"ProveItLink\" href=\"../b607ecdc9719bf77b834a5a621b9a0b40293a5010/expr.ipynb\"><img src=\"../b607ecdc9719bf77b834a5a621b9a0b40293a5010/expr.png\" style=\"display:inline;vertical-align:middle;\" /></a></td></tr>\n",
       "<tr><td>34</td><td>ExprTuple</td><td>42, 53</td><td><a class=\"ProveItLink\" href=\"../../common/38ea3c183eb48205d4822d9dd38df5fc701f225e0/expr.ipynb\"><img src=\"../../common/38ea3c183eb48205d4822d9dd38df5fc701f225e0/expr.png\" style=\"display:inline;vertical-align:middle;\" /></a></td></tr>\n",
       "<tr><td>35</td><td>Literal</td><td></td><td><a class=\"ProveItLink\" href=\"../../common/46fa490f6e465244392ed9302eb003eb013bfffe0/expr.ipynb\"><img src=\"../../common/46fa490f6e465244392ed9302eb003eb013bfffe0/expr.png\" style=\"display:inline;vertical-align:middle;\" /></a></td></tr>\n",
       "<tr><td>36</td><td>ExprTuple</td><td>39, 40</td><td><a class=\"ProveItLink\" href=\"../../common/a8a3110823440c9a57213bf4ab2f8584d846c7f50/expr.ipynb\"><img src=\"../../common/a8a3110823440c9a57213bf4ab2f8584d846c7f50/expr.png\" style=\"display:inline;vertical-align:middle;\" /></a></td></tr>\n",
       "<tr><td>37</td><td>ExprTuple</td><td>41</td><td><a class=\"ProveItLink\" href=\"../../common/4c8531de79cef652de4f930d734e1b924dea0f060/expr.ipynb\"><img src=\"../../common/4c8531de79cef652de4f930d734e1b924dea0f060/expr.png\" style=\"display:inline;vertical-align:middle;\" /></a></td></tr>\n",
       "<tr><td>38</td><td>ExprTuple</td><td>42</td><td><a class=\"ProveItLink\" href=\"../../axioms/76ac1b7bedc4b23f8527f3721944b2e2c9796f420/expr.ipynb\"><img src=\"../../axioms/76ac1b7bedc4b23f8527f3721944b2e2c9796f420/expr.png\" style=\"display:inline;vertical-align:middle;\" /></a></td></tr>\n",
       "<tr><td>39</td><td>Literal</td><td></td><td><a class=\"ProveItLink\" href=\"../../common/d330793052bb239ae69702166b1d364acbd6f04c0/expr.ipynb\"><img src=\"../../common/d330793052bb239ae69702166b1d364acbd6f04c0/expr.png\" style=\"display:inline;vertical-align:middle;\" /></a></td></tr>\n",
       "<tr><td>40</td><td>Variable</td><td></td><td><a class=\"ProveItLink\" href=\"../../../../../../__pv_it/common/27cc275d44b4f4499fb9ccfb3fab1a98165d2fa60/expr.ipynb\"><img src=\"../../../../../../__pv_it/common/27cc275d44b4f4499fb9ccfb3fab1a98165d2fa60/expr.png\" style=\"display:inline;vertical-align:middle;\" /></a></td></tr>\n",
       "<tr><td>41</td><td>Operation</td><td>operator:&nbsp;43<br>operands:&nbsp;44<br></td><td><a class=\"ProveItLink\" href=\"../../common/c88f421c8948293a287b1527f87038636fb060100/expr.ipynb\"><img src=\"../../common/c88f421c8948293a287b1527f87038636fb060100/expr.png\" style=\"display:inline;vertical-align:middle;\" /></a></td></tr>\n",
       "<tr><td>42</td><td>Variable</td><td></td><td><a class=\"ProveItLink\" href=\"../../../../../../__pv_it/common/f3b2e5223a46d6d30e0676b70270e0fb96f45ce80/expr.ipynb\"><img src=\"../../../../../../__pv_it/common/f3b2e5223a46d6d30e0676b70270e0fb96f45ce80/expr.png\" style=\"display:inline;vertical-align:middle;\" /></a></td></tr>\n",
       "<tr><td>43</td><td>Literal</td><td></td><td><a class=\"ProveItLink\" href=\"../../../../../../numbers/exponentiation/__pv_it/common/0ac37aca1e54c35c5cda09672df32d4f69f1f3020/expr.ipynb\"><img src=\"../../../../../../numbers/exponentiation/__pv_it/common/0ac37aca1e54c35c5cda09672df32d4f69f1f3020/expr.png\" style=\"display:inline;vertical-align:middle;\" /></a></td></tr>\n",
       "<tr><td>44</td><td>ExprTuple</td><td>45, 46</td><td><a class=\"ProveItLink\" href=\"../../common/0fd4303d90d8f830fbb10e83cdadc1014dc0c7e50/expr.ipynb\"><img src=\"../../common/0fd4303d90d8f830fbb10e83cdadc1014dc0c7e50/expr.png\" style=\"display:inline;vertical-align:middle;\" /></a></td></tr>\n",
       "<tr><td>45</td><td>Literal</td><td></td><td><a class=\"ProveItLink\" href=\"../../../../../../numbers/numerals/__pv_it/common/af4aab8a07465db063742696e006d04670f30cf10/expr.ipynb\"><img src=\"../../../../../../numbers/numerals/__pv_it/common/af4aab8a07465db063742696e006d04670f30cf10/expr.png\" style=\"display:inline;vertical-align:middle;\" /></a></td></tr>\n",
       "<tr><td>46</td><td>Operation</td><td>operator:&nbsp;47<br>operands:&nbsp;48<br></td><td><a class=\"ProveItLink\" href=\"../../common/0ca28d9ff996a3862a4b8b87f5586f9edc717e8d0/expr.ipynb\"><img src=\"../../common/0ca28d9ff996a3862a4b8b87f5586f9edc717e8d0/expr.png\" style=\"display:inline;vertical-align:middle;\" /></a></td></tr>\n",
       "<tr><td>47</td><td>Literal</td><td></td><td><a class=\"ProveItLink\" href=\"../../../../../../numbers/addition/__pv_it/common/4b7effaab3619a1c2c38fe2dee8601df8ec714590/expr.ipynb\"><img src=\"../../../../../../numbers/addition/__pv_it/common/4b7effaab3619a1c2c38fe2dee8601df8ec714590/expr.png\" style=\"display:inline;vertical-align:middle;\" /></a></td></tr>\n",
       "<tr><td>48</td><td>ExprTuple</td><td>49, 50</td><td><a class=\"ProveItLink\" href=\"../../common/3d4ffcd7453a233f893c0f082066a2545b0987f70/expr.ipynb\"><img src=\"../../common/3d4ffcd7453a233f893c0f082066a2545b0987f70/expr.png\" style=\"display:inline;vertical-align:middle;\" /></a></td></tr>\n",
       "<tr><td>49</td><td>Literal</td><td></td><td><a class=\"ProveItLink\" href=\"../../common/977cc67717328e22c93f8ab84e6a45e8cadce7790/expr.ipynb\"><img src=\"../../common/977cc67717328e22c93f8ab84e6a45e8cadce7790/expr.png\" style=\"display:inline;vertical-align:middle;\" /></a></td></tr>\n",
       "<tr><td>50</td><td>Operation</td><td>operator:&nbsp;51<br>operand:&nbsp;53<br></td><td><a class=\"ProveItLink\" href=\"../../common/bf4beda21975fe8a0a5007615b5bcc943da59bb20/expr.ipynb\"><img src=\"../../common/bf4beda21975fe8a0a5007615b5bcc943da59bb20/expr.png\" style=\"display:inline;vertical-align:middle;\" /></a></td></tr>\n",
       "<tr><td>51</td><td>Literal</td><td></td><td><a class=\"ProveItLink\" href=\"../../../../../../numbers/negation/__pv_it/common/221b3c4d1770ee9051b7c044c3f9ec61196fc34b0/expr.ipynb\"><img src=\"../../../../../../numbers/negation/__pv_it/common/221b3c4d1770ee9051b7c044c3f9ec61196fc34b0/expr.png\" style=\"display:inline;vertical-align:middle;\" /></a></td></tr>\n",
       "<tr><td>52</td><td>ExprTuple</td><td>53</td><td><a class=\"ProveItLink\" href=\"../../../../__pv_it/common/b9e4f0dffece176bbe2f36127440684a20e0468e0/expr.ipynb\"><img src=\"../../../../__pv_it/common/b9e4f0dffece176bbe2f36127440684a20e0468e0/expr.png\" style=\"display:inline;vertical-align:middle;\" /></a></td></tr>\n",
       "<tr><td>53</td><td>Literal</td><td></td><td><a class=\"ProveItLink\" href=\"../../../../../../numbers/numerals/__pv_it/common/682157d4892d216d9e5626ed533aff9b56b9506e0/expr.ipynb\"><img src=\"../../../../../../numbers/numerals/__pv_it/common/682157d4892d216d9e5626ed533aff9b56b9506e0/expr.png\" style=\"display:inline;vertical-align:middle;\" /></a></td></tr>\n",
       "</table>\n"
      ],
      "text/plain": [
       "0. (l -> {|alpha_{b_{f} MOD_ADD l}|^{2} if l in {-2^{t - 1} + 1 .. -(e + 1)}., l -> {|alpha_{b_{f} MOD_ADD l}|^{2} if l in {-2^{t - 1} + 1 .. -e - 1}.)\n",
       "   core type: ExprTuple\n",
       "   sub-expressions: 1, 2\n",
       "1. l -> {|alpha_{b_{f} MOD_ADD l}|^{2} if l in {-2^{t - 1} + 1 .. -(e + 1)}.\n",
       "   core type: Lambda\n",
       "   parameter: 40\n",
       "   body: 3\n",
       "2. l -> {|alpha_{b_{f} MOD_ADD l}|^{2} if l in {-2^{t - 1} + 1 .. -e - 1}.\n",
       "   core type: Lambda\n",
       "   parameter: 40\n",
       "   body: 5\n",
       "3. {|alpha_{b_{f} MOD_ADD l}|^{2} if l in {-2^{t - 1} + 1 .. -(e + 1)}.\n",
       "   core type: Conditional\n",
       "   value: 7\n",
       "   condition: 6\n",
       "4. (l)\n",
       "   core type: ExprTuple\n",
       "   sub-expressions: 40\n",
       "5. {|alpha_{b_{f} MOD_ADD l}|^{2} if l in {-2^{t - 1} + 1 .. -e - 1}.\n",
       "   core type: Conditional\n",
       "   value: 7\n",
       "   condition: 8\n",
       "6. l in {-2^{t - 1} + 1 .. -(e + 1)}\n",
       "   core type: Operation\n",
       "   operator: 11\n",
       "   operands: 9\n",
       "7. |alpha_{b_{f} MOD_ADD l}|^{2}\n",
       "   core type: Operation\n",
       "   operator: 43\n",
       "   operands: 10\n",
       "8. l in {-2^{t - 1} + 1 .. -e - 1}\n",
       "   core type: Operation\n",
       "   operator: 11\n",
       "   operands: 12\n",
       "9. (l, {-2^{t - 1} + 1 .. -(e + 1)})\n",
       "   core type: ExprTuple\n",
       "   sub-expressions: 40, 13\n",
       "10. (|alpha_{b_{f} MOD_ADD l}|, 2)\n",
       "    core type: ExprTuple\n",
       "    sub-expressions: 14, 45\n",
       "11. in\n",
       "    core type: Literal\n",
       "    sub-expressions: \n",
       "12. (l, {-2^{t - 1} + 1 .. -e - 1})\n",
       "    core type: ExprTuple\n",
       "    sub-expressions: 40, 15\n",
       "13. {-2^{t - 1} + 1 .. -(e + 1)}\n",
       "    core type: Operation\n",
       "    operator: 19\n",
       "    operands: 16\n",
       "14. |alpha_{b_{f} MOD_ADD l}|\n",
       "    core type: Operation\n",
       "    operator: 17\n",
       "    operand: 22\n",
       "15. {-2^{t - 1} + 1 .. -e - 1}\n",
       "    core type: Operation\n",
       "    operator: 19\n",
       "    operands: 20\n",
       "16. (-2^{t - 1} + 1, -(e + 1))\n",
       "    core type: ExprTuple\n",
       "    sub-expressions: 23, 21\n",
       "17. Abs\n",
       "    core type: Literal\n",
       "    sub-expressions: \n",
       "18. (alpha_{b_{f} MOD_ADD l})\n",
       "    core type: ExprTuple\n",
       "    sub-expressions: 22\n",
       "19. Interval\n",
       "    core type: Literal\n",
       "    sub-expressions: \n",
       "20. (-2^{t - 1} + 1, -e - 1)\n",
       "    core type: ExprTuple\n",
       "    sub-expressions: 23, 24\n",
       "21. -(e + 1)\n",
       "    core type: Operation\n",
       "    operator: 51\n",
       "    operand: 30\n",
       "22. alpha_{b_{f} MOD_ADD l}\n",
       "    core type: Operation\n",
       "    operator: 26\n",
       "    operand: 31\n",
       "23. -2^{t - 1} + 1\n",
       "    core type: Operation\n",
       "    operator: 47\n",
       "    operands: 28\n",
       "24. -e - 1\n",
       "    core type: Operation\n",
       "    operator: 47\n",
       "    operands: 29\n",
       "25. (e + 1)\n",
       "    core type: ExprTuple\n",
       "    sub-expressions: 30\n",
       "26. alpha\n",
       "    core type: Literal\n",
       "    sub-expressions: \n",
       "27. (b_{f} MOD_ADD l)\n",
       "    core type: ExprTuple\n",
       "    sub-expressions: 31\n",
       "28. (-2^{t - 1}, 1)\n",
       "    core type: ExprTuple\n",
       "    sub-expressions: 32, 53\n",
       "29. (-e, -1)\n",
       "    core type: ExprTuple\n",
       "    sub-expressions: 33, 50\n",
       "30. e + 1\n",
       "    core type: Operation\n",
       "    operator: 47\n",
       "    operands: 34\n",
       "31. b_{f} MOD_ADD l\n",
       "    core type: Operation\n",
       "    operator: 35\n",
       "    operands: 36\n",
       "32. -2^{t - 1}\n",
       "    core type: Operation\n",
       "    operator: 51\n",
       "    operand: 41\n",
       "33. -e\n",
       "    core type: Operation\n",
       "    operator: 51\n",
       "    operand: 42\n",
       "34. (e, 1)\n",
       "    core type: ExprTuple\n",
       "    sub-expressions: 42, 53\n",
       "35. MOD_ADD\n",
       "    core type: Literal\n",
       "    sub-expressions: \n",
       "36. (b_{f}, l)\n",
       "    core type: ExprTuple\n",
       "    sub-expressions: 39, 40\n",
       "37. (2^{t - 1})\n",
       "    core type: ExprTuple\n",
       "    sub-expressions: 41\n",
       "38. (e)\n",
       "    core type: ExprTuple\n",
       "    sub-expressions: 42\n",
       "39. b_{f}\n",
       "    core type: Literal\n",
       "    sub-expressions: \n",
       "40. l\n",
       "    core type: Variable\n",
       "    sub-expressions: \n",
       "41. 2^{t - 1}\n",
       "    core type: Operation\n",
       "    operator: 43\n",
       "    operands: 44\n",
       "42. e\n",
       "    core type: Variable\n",
       "    sub-expressions: \n",
       "43. Exp\n",
       "    core type: Literal\n",
       "    sub-expressions: \n",
       "44. (2, t - 1)\n",
       "    core type: ExprTuple\n",
       "    sub-expressions: 45, 46\n",
       "45. 2\n",
       "    core type: Literal\n",
       "    sub-expressions: \n",
       "46. t - 1\n",
       "    core type: Operation\n",
       "    operator: 47\n",
       "    operands: 48\n",
       "47. +\n",
       "    core type: Literal\n",
       "    sub-expressions: \n",
       "48. (t, -1)\n",
       "    core type: ExprTuple\n",
       "    sub-expressions: 49, 50\n",
       "49. t\n",
       "    core type: Literal\n",
       "    sub-expressions: \n",
       "50. -1\n",
       "    core type: Operation\n",
       "    operator: 51\n",
       "    operand: 53\n",
       "51. -\n",
       "    core type: Literal\n",
       "    sub-expressions: \n",
       "52. (1)\n",
       "    core type: ExprTuple\n",
       "    sub-expressions: 53\n",
       "53. 1\n",
       "    core type: Literal\n",
       "    sub-expressions: "
      ]
     },
     "metadata": {},
     "output_type": "display_data"
    }
   ],
   "source": [
    "# display the expression information\n",
    "stored_expr.expr_info()"
   ]
  },
  {
   "cell_type": "code",
   "execution_count": null,
   "metadata": {},
   "outputs": [],
   "source": []
  }
 ],
 "metadata": {
  "kernelspec": {
   "display_name": "Python 3",
   "language": "python",
   "name": "python3"
  }
 },
 "nbformat": 4,
 "nbformat_minor": 0
}