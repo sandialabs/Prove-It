{
 "cells": [
  {
   "cell_type": "markdown",
   "metadata": {},
   "source": [
    "Expression of type <a class=\"ProveItLink\" href=\"../../../../../../../../doc/html/api/proveit.ExprTuple.html\">ExprTuple</a>\n",
    "=======================\n",
    "# from the theory of <a class=\"ProveItLink\" href=\"../../../_theory_nbs_/theory.ipynb\">proveit.physics.quantum.QPE</a>"
   ]
  },
  {
   "cell_type": "code",
   "execution_count": 1,
   "metadata": {},
   "outputs": [],
   "source": [
    "import proveit\n",
    "# Automation is not needed when building an expression:\n",
    "proveit.defaults.automation = False # This will speed things up.\n",
    "proveit.defaults.inline_pngs = False # Makes files smaller.\n",
    "%load_expr # Load the stored expression as 'stored_expr'\n",
    "# import Expression classes needed to build the expression\n",
    "from proveit import ExprTuple, e, l\n",
    "from proveit.logic import InSet\n",
    "from proveit.physics.quantum.QPE import _e_domain, _pos_domain"
   ]
  },
  {
   "cell_type": "code",
   "execution_count": 2,
   "metadata": {},
   "outputs": [
    {
     "data": {
      "text/html": [
       "<strong id=\"expr\">expr:</strong> <a class=\"ProveItLink\" href=\"expr.ipynb\"><img src=\"expr.png\" style=\"display:inline;vertical-align:middle;\" /></a><br>"
      ],
      "text/plain": [
       "<IPython.core.display.HTML object>"
      ]
     },
     "metadata": {},
     "output_type": "display_data"
    }
   ],
   "source": [
    "# build up the expression from sub-expressions\n",
    "expr = ExprTuple(InSet(l, _pos_domain), InSet(e, _e_domain))"
   ]
  },
  {
   "cell_type": "code",
   "execution_count": 3,
   "metadata": {},
   "outputs": [
    {
     "name": "stdout",
     "output_type": "stream",
     "text": [
      "Passed sanity check: expr matches stored_expr\n"
     ]
    }
   ],
   "source": [
    "# check that the built expression is the same as the stored expression\n",
    "assert expr == stored_expr\n",
    "assert expr._style_id == stored_expr._style_id\n",
    "print(\"Passed sanity check: expr matches stored_expr\")"
   ]
  },
  {
   "cell_type": "code",
   "execution_count": 4,
   "metadata": {},
   "outputs": [
    {
     "name": "stdout",
     "output_type": "stream",
     "text": [
      "\\left(l \\in \\{e + 1~\\ldotp \\ldotp~2^{t - 1}\\}, e \\in \\{1~\\ldotp \\ldotp~2^{t - 1} - 2\\}\\right)\n"
     ]
    }
   ],
   "source": [
    "# Show the LaTeX representation of the expression for convenience if you need it.\n",
    "print(stored_expr.latex())"
   ]
  },
  {
   "cell_type": "code",
   "execution_count": 5,
   "metadata": {},
   "outputs": [
    {
     "data": {
      "text/html": [
       "<table>\n",
       "<tr><th>name</th><th>description</th><th>default</th><th>current value</th><th>related methods</th></tr><tr><td>wrap_positions</td><td>position(s) at which wrapping is to occur; 'n' is after the nth comma.</td><td>()</td><td>()</td><td>('with_wrapping_at',)</td></tr>\n",
       "<tr><td>justification</td><td>if any wrap positions are set, justify to the 'left', 'center', or 'right'</td><td>left</td><td>left</td><td>('with_justification',)</td></tr>\n",
       "</table>\n"
      ],
      "text/plain": [
       "style name: wrap_positions\n",
       "description: position(s) at which wrapping is to occur; 'n' is after the nth comma.\n",
       "default: ()\n",
       "current value: ()\n",
       "related methods: ('with_wrapping_at',)\n",
       "style name: justification\n",
       "description: if any wrap positions are set, justify to the 'left', 'center', or 'right'\n",
       "default: left\n",
       "current value: left\n",
       "related methods: ('with_justification',)"
      ]
     },
     "metadata": {},
     "output_type": "display_data"
    }
   ],
   "source": [
    "stored_expr.style_options()"
   ]
  },
  {
   "cell_type": "code",
   "execution_count": 6,
   "metadata": {},
   "outputs": [
    {
     "data": {
      "text/html": [
       "<table><tr><th>&nbsp;</th><th>core type</th><th>sub-expressions</th><th>expression</th></tr>\n",
       "<tr><td>0</td><td>ExprTuple</td><td>1, 2</td><td><a class=\"ProveItLink\" href=\"expr.ipynb\"><img src=\"expr.png\" style=\"display:inline;vertical-align:middle;\" /></a></td></tr>\n",
       "<tr><td>1</td><td>Operation</td><td>operator:&nbsp;4<br>operands:&nbsp;3<br></td><td><a class=\"ProveItLink\" href=\"../../theorems/f01e5817c994f42806cb80f31cb3ebf09f18f49a0/expr.ipynb\"><img src=\"../../theorems/f01e5817c994f42806cb80f31cb3ebf09f18f49a0/expr.png\" style=\"display:inline;vertical-align:middle;\" /></a></td></tr>\n",
       "<tr><td>2</td><td>Operation</td><td>operator:&nbsp;4<br>operands:&nbsp;5<br></td><td><a class=\"ProveItLink\" href=\"../../axioms/e5f8fae80d0c15a1e3af708f726b9705a021c1de0/expr.ipynb\"><img src=\"../../axioms/e5f8fae80d0c15a1e3af708f726b9705a021c1de0/expr.png\" style=\"display:inline;vertical-align:middle;\" /></a></td></tr>\n",
       "<tr><td>3</td><td>ExprTuple</td><td>6, 7</td><td><a class=\"ProveItLink\" href=\"../../theorems/d410774ce6b64ba9ca72fae83cf4785dabf8a2a00/expr.ipynb\"><img src=\"../../theorems/d410774ce6b64ba9ca72fae83cf4785dabf8a2a00/expr.png\" style=\"display:inline;vertical-align:middle;\" /></a></td></tr>\n",
       "<tr><td>4</td><td>Literal</td><td></td><td><a class=\"ProveItLink\" href=\"../../../../../../logic/sets/membership/__pv_it/common/477487d8796864d23d5810f83761435f25167f690/expr.ipynb\"><img src=\"../../../../../../logic/sets/membership/__pv_it/common/477487d8796864d23d5810f83761435f25167f690/expr.png\" style=\"display:inline;vertical-align:middle;\" /></a></td></tr>\n",
       "<tr><td>5</td><td>ExprTuple</td><td>16, 8</td><td><a class=\"ProveItLink\" href=\"../../axioms/15b737721af62145bfeb0722fe38d52f0dc6a7830/expr.ipynb\"><img src=\"../../axioms/15b737721af62145bfeb0722fe38d52f0dc6a7830/expr.png\" style=\"display:inline;vertical-align:middle;\" /></a></td></tr>\n",
       "<tr><td>6</td><td>Variable</td><td></td><td><a class=\"ProveItLink\" href=\"../../../../../../__pv_it/common/27cc275d44b4f4499fb9ccfb3fab1a98165d2fa60/expr.ipynb\"><img src=\"../../../../../../__pv_it/common/27cc275d44b4f4499fb9ccfb3fab1a98165d2fa60/expr.png\" style=\"display:inline;vertical-align:middle;\" /></a></td></tr>\n",
       "<tr><td>7</td><td>Operation</td><td>operator:&nbsp;10<br>operands:&nbsp;9<br></td><td><a class=\"ProveItLink\" href=\"../../common/4db769ffdec6eafe34439778c44590324f26a8890/expr.ipynb\"><img src=\"../../common/4db769ffdec6eafe34439778c44590324f26a8890/expr.png\" style=\"display:inline;vertical-align:middle;\" /></a></td></tr>\n",
       "<tr><td>8</td><td>Operation</td><td>operator:&nbsp;10<br>operands:&nbsp;11<br></td><td><a class=\"ProveItLink\" href=\"../../common/d3c7a2162a3845c9bc798f81296d0a2512af924c0/expr.ipynb\"><img src=\"../../common/d3c7a2162a3845c9bc798f81296d0a2512af924c0/expr.png\" style=\"display:inline;vertical-align:middle;\" /></a></td></tr>\n",
       "<tr><td>9</td><td>ExprTuple</td><td>12, 17</td><td><a class=\"ProveItLink\" href=\"../../common/ab510e3aad26b0bebbbc947f45cb01cceb8d99680/expr.ipynb\"><img src=\"../../common/ab510e3aad26b0bebbbc947f45cb01cceb8d99680/expr.png\" style=\"display:inline;vertical-align:middle;\" /></a></td></tr>\n",
       "<tr><td>10</td><td>Literal</td><td></td><td><a class=\"ProveItLink\" href=\"../../../../../../numbers/number_sets/integers/__pv_it/common/92f3a0a77e3c3ea8e4a5c8674edadc54e4f57d550/expr.ipynb\"><img src=\"../../../../../../numbers/number_sets/integers/__pv_it/common/92f3a0a77e3c3ea8e4a5c8674edadc54e4f57d550/expr.png\" style=\"display:inline;vertical-align:middle;\" /></a></td></tr>\n",
       "<tr><td>11</td><td>ExprTuple</td><td>30, 13</td><td><a class=\"ProveItLink\" href=\"../../common/da8f73209f6a52bb79e1f8077b27163c0789baf30/expr.ipynb\"><img src=\"../../common/da8f73209f6a52bb79e1f8077b27163c0789baf30/expr.png\" style=\"display:inline;vertical-align:middle;\" /></a></td></tr>\n",
       "<tr><td>12</td><td>Operation</td><td>operator:&nbsp;24<br>operands:&nbsp;14<br></td><td><a class=\"ProveItLink\" href=\"../../common/3b723d66956150d062bf1f9b39de5c57b551151f0/expr.ipynb\"><img src=\"../../common/3b723d66956150d062bf1f9b39de5c57b551151f0/expr.png\" style=\"display:inline;vertical-align:middle;\" /></a></td></tr>\n",
       "<tr><td>13</td><td>Operation</td><td>operator:&nbsp;24<br>operands:&nbsp;15<br></td><td><a class=\"ProveItLink\" href=\"../../common/850bde501c6e2dc1031ebe990d47ef1fb0b1c5a50/expr.ipynb\"><img src=\"../../common/850bde501c6e2dc1031ebe990d47ef1fb0b1c5a50/expr.png\" style=\"display:inline;vertical-align:middle;\" /></a></td></tr>\n",
       "<tr><td>14</td><td>ExprTuple</td><td>16, 30</td><td><a class=\"ProveItLink\" href=\"../../common/38ea3c183eb48205d4822d9dd38df5fc701f225e0/expr.ipynb\"><img src=\"../../common/38ea3c183eb48205d4822d9dd38df5fc701f225e0/expr.png\" style=\"display:inline;vertical-align:middle;\" /></a></td></tr>\n",
       "<tr><td>15</td><td>ExprTuple</td><td>17, 18</td><td><a class=\"ProveItLink\" href=\"../../common/cc44082598bd9dfd3253d52bd4616c5f2a484ed10/expr.ipynb\"><img src=\"../../common/cc44082598bd9dfd3253d52bd4616c5f2a484ed10/expr.png\" style=\"display:inline;vertical-align:middle;\" /></a></td></tr>\n",
       "<tr><td>16</td><td>Variable</td><td></td><td><a class=\"ProveItLink\" href=\"../../../../../../__pv_it/common/f3b2e5223a46d6d30e0676b70270e0fb96f45ce80/expr.ipynb\"><img src=\"../../../../../../__pv_it/common/f3b2e5223a46d6d30e0676b70270e0fb96f45ce80/expr.png\" style=\"display:inline;vertical-align:middle;\" /></a></td></tr>\n",
       "<tr><td>17</td><td>Operation</td><td>operator:&nbsp;19<br>operands:&nbsp;20<br></td><td><a class=\"ProveItLink\" href=\"../../common/c88f421c8948293a287b1527f87038636fb060100/expr.ipynb\"><img src=\"../../common/c88f421c8948293a287b1527f87038636fb060100/expr.png\" style=\"display:inline;vertical-align:middle;\" /></a></td></tr>\n",
       "<tr><td>18</td><td>Operation</td><td>operator:&nbsp;28<br>operand:&nbsp;23<br></td><td><a class=\"ProveItLink\" href=\"../../common/16bf7762f473cc2cfad370a096ed5f2eb39b6b2c0/expr.ipynb\"><img src=\"../../common/16bf7762f473cc2cfad370a096ed5f2eb39b6b2c0/expr.png\" style=\"display:inline;vertical-align:middle;\" /></a></td></tr>\n",
       "<tr><td>19</td><td>Literal</td><td></td><td><a class=\"ProveItLink\" href=\"../../../../../../numbers/exponentiation/__pv_it/common/0ac37aca1e54c35c5cda09672df32d4f69f1f3020/expr.ipynb\"><img src=\"../../../../../../numbers/exponentiation/__pv_it/common/0ac37aca1e54c35c5cda09672df32d4f69f1f3020/expr.png\" style=\"display:inline;vertical-align:middle;\" /></a></td></tr>\n",
       "<tr><td>20</td><td>ExprTuple</td><td>23, 22</td><td><a class=\"ProveItLink\" href=\"../../common/0fd4303d90d8f830fbb10e83cdadc1014dc0c7e50/expr.ipynb\"><img src=\"../../common/0fd4303d90d8f830fbb10e83cdadc1014dc0c7e50/expr.png\" style=\"display:inline;vertical-align:middle;\" /></a></td></tr>\n",
       "<tr><td>21</td><td>ExprTuple</td><td>23</td><td><a class=\"ProveItLink\" href=\"../../common/56953b0728fa2850398ae7a13d530612ae194a390/expr.ipynb\"><img src=\"../../common/56953b0728fa2850398ae7a13d530612ae194a390/expr.png\" style=\"display:inline;vertical-align:middle;\" /></a></td></tr>\n",
       "<tr><td>22</td><td>Operation</td><td>operator:&nbsp;24<br>operands:&nbsp;25<br></td><td><a class=\"ProveItLink\" href=\"../../common/0ca28d9ff996a3862a4b8b87f5586f9edc717e8d0/expr.ipynb\"><img src=\"../../common/0ca28d9ff996a3862a4b8b87f5586f9edc717e8d0/expr.png\" style=\"display:inline;vertical-align:middle;\" /></a></td></tr>\n",
       "<tr><td>23</td><td>Literal</td><td></td><td><a class=\"ProveItLink\" href=\"../../../../../../numbers/numerals/__pv_it/common/af4aab8a07465db063742696e006d04670f30cf10/expr.ipynb\"><img src=\"../../../../../../numbers/numerals/__pv_it/common/af4aab8a07465db063742696e006d04670f30cf10/expr.png\" style=\"display:inline;vertical-align:middle;\" /></a></td></tr>\n",
       "<tr><td>24</td><td>Literal</td><td></td><td><a class=\"ProveItLink\" href=\"../../../../../../numbers/addition/__pv_it/common/4b7effaab3619a1c2c38fe2dee8601df8ec714590/expr.ipynb\"><img src=\"../../../../../../numbers/addition/__pv_it/common/4b7effaab3619a1c2c38fe2dee8601df8ec714590/expr.png\" style=\"display:inline;vertical-align:middle;\" /></a></td></tr>\n",
       "<tr><td>25</td><td>ExprTuple</td><td>26, 27</td><td><a class=\"ProveItLink\" href=\"../../common/3d4ffcd7453a233f893c0f082066a2545b0987f70/expr.ipynb\"><img src=\"../../common/3d4ffcd7453a233f893c0f082066a2545b0987f70/expr.png\" style=\"display:inline;vertical-align:middle;\" /></a></td></tr>\n",
       "<tr><td>26</td><td>Literal</td><td></td><td><a class=\"ProveItLink\" href=\"../../common/977cc67717328e22c93f8ab84e6a45e8cadce7790/expr.ipynb\"><img src=\"../../common/977cc67717328e22c93f8ab84e6a45e8cadce7790/expr.png\" style=\"display:inline;vertical-align:middle;\" /></a></td></tr>\n",
       "<tr><td>27</td><td>Operation</td><td>operator:&nbsp;28<br>operand:&nbsp;30<br></td><td><a class=\"ProveItLink\" href=\"../../common/bf4beda21975fe8a0a5007615b5bcc943da59bb20/expr.ipynb\"><img src=\"../../common/bf4beda21975fe8a0a5007615b5bcc943da59bb20/expr.png\" style=\"display:inline;vertical-align:middle;\" /></a></td></tr>\n",
       "<tr><td>28</td><td>Literal</td><td></td><td><a class=\"ProveItLink\" href=\"../../../../../../numbers/negation/__pv_it/common/221b3c4d1770ee9051b7c044c3f9ec61196fc34b0/expr.ipynb\"><img src=\"../../../../../../numbers/negation/__pv_it/common/221b3c4d1770ee9051b7c044c3f9ec61196fc34b0/expr.png\" style=\"display:inline;vertical-align:middle;\" /></a></td></tr>\n",
       "<tr><td>29</td><td>ExprTuple</td><td>30</td><td><a class=\"ProveItLink\" href=\"../../common/b9e4f0dffece176bbe2f36127440684a20e0468e0/expr.ipynb\"><img src=\"../../common/b9e4f0dffece176bbe2f36127440684a20e0468e0/expr.png\" style=\"display:inline;vertical-align:middle;\" /></a></td></tr>\n",
       "<tr><td>30</td><td>Literal</td><td></td><td><a class=\"ProveItLink\" href=\"../../../../../../numbers/numerals/__pv_it/common/682157d4892d216d9e5626ed533aff9b56b9506e0/expr.ipynb\"><img src=\"../../../../../../numbers/numerals/__pv_it/common/682157d4892d216d9e5626ed533aff9b56b9506e0/expr.png\" style=\"display:inline;vertical-align:middle;\" /></a></td></tr>\n",
       "</table>\n"
      ],
      "text/plain": [
       "0. (l in {e + 1 .. 2^{t - 1}}, e in {1 .. 2^{t - 1} - 2})\n",
       "   core type: ExprTuple\n",
       "   sub-expressions: 1, 2\n",
       "1. l in {e + 1 .. 2^{t - 1}}\n",
       "   core type: Operation\n",
       "   operator: 4\n",
       "   operands: 3\n",
       "2. e in {1 .. 2^{t - 1} - 2}\n",
       "   core type: Operation\n",
       "   operator: 4\n",
       "   operands: 5\n",
       "3. (l, {e + 1 .. 2^{t - 1}})\n",
       "   core type: ExprTuple\n",
       "   sub-expressions: 6, 7\n",
       "4. in\n",
       "   core type: Literal\n",
       "   sub-expressions: \n",
       "5. (e, {1 .. 2^{t - 1} - 2})\n",
       "   core type: ExprTuple\n",
       "   sub-expressions: 16, 8\n",
       "6. l\n",
       "   core type: Variable\n",
       "   sub-expressions: \n",
       "7. {e + 1 .. 2^{t - 1}}\n",
       "   core type: Operation\n",
       "   operator: 10\n",
       "   operands: 9\n",
       "8. {1 .. 2^{t - 1} - 2}\n",
       "   core type: Operation\n",
       "   operator: 10\n",
       "   operands: 11\n",
       "9. (e + 1, 2^{t - 1})\n",
       "   core type: ExprTuple\n",
       "   sub-expressions: 12, 17\n",
       "10. Interval\n",
       "    core type: Literal\n",
       "    sub-expressions: \n",
       "11. (1, 2^{t - 1} - 2)\n",
       "    core type: ExprTuple\n",
       "    sub-expressions: 30, 13\n",
       "12. e + 1\n",
       "    core type: Operation\n",
       "    operator: 24\n",
       "    operands: 14\n",
       "13. 2^{t - 1} - 2\n",
       "    core type: Operation\n",
       "    operator: 24\n",
       "    operands: 15\n",
       "14. (e, 1)\n",
       "    core type: ExprTuple\n",
       "    sub-expressions: 16, 30\n",
       "15. (2^{t - 1}, -2)\n",
       "    core type: ExprTuple\n",
       "    sub-expressions: 17, 18\n",
       "16. e\n",
       "    core type: Variable\n",
       "    sub-expressions: \n",
       "17. 2^{t - 1}\n",
       "    core type: Operation\n",
       "    operator: 19\n",
       "    operands: 20\n",
       "18. -2\n",
       "    core type: Operation\n",
       "    operator: 28\n",
       "    operand: 23\n",
       "19. Exp\n",
       "    core type: Literal\n",
       "    sub-expressions: \n",
       "20. (2, t - 1)\n",
       "    core type: ExprTuple\n",
       "    sub-expressions: 23, 22\n",
       "21. (2)\n",
       "    core type: ExprTuple\n",
       "    sub-expressions: 23\n",
       "22. t - 1\n",
       "    core type: Operation\n",
       "    operator: 24\n",
       "    operands: 25\n",
       "23. 2\n",
       "    core type: Literal\n",
       "    sub-expressions: \n",
       "24. +\n",
       "    core type: Literal\n",
       "    sub-expressions: \n",
       "25. (t, -1)\n",
       "    core type: ExprTuple\n",
       "    sub-expressions: 26, 27\n",
       "26. t\n",
       "    core type: Literal\n",
       "    sub-expressions: \n",
       "27. -1\n",
       "    core type: Operation\n",
       "    operator: 28\n",
       "    operand: 30\n",
       "28. -\n",
       "    core type: Literal\n",
       "    sub-expressions: \n",
       "29. (1)\n",
       "    core type: ExprTuple\n",
       "    sub-expressions: 30\n",
       "30. 1\n",
       "    core type: Literal\n",
       "    sub-expressions: "
      ]
     },
     "metadata": {},
     "output_type": "display_data"
    }
   ],
   "source": [
    "# display the expression information\n",
    "stored_expr.expr_info()"
   ]
  },
  {
   "cell_type": "code",
   "execution_count": null,
   "metadata": {},
   "outputs": [],
   "source": []
  }
 ],
 "metadata": {
  "kernelspec": {
   "display_name": "Python 3",
   "language": "python",
   "name": "python3"
  }
 },
 "nbformat": 4,
 "nbformat_minor": 0
}