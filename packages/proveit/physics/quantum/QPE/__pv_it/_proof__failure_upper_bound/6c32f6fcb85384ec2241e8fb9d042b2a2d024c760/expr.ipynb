{
 "cells": [
  {
   "cell_type": "markdown",
   "metadata": {},
   "source": [
    "Expression of type <a class=\"ProveItLink\" href=\"../../../../../../../../doc/html/api/proveit.Lambda.html\">Lambda</a>\n",
    "=======================\n",
    "# from the theory of <a class=\"ProveItLink\" href=\"../../../_theory_nbs_/theory.ipynb\">proveit.physics.quantum.QPE</a>"
   ]
  },
  {
   "cell_type": "code",
   "execution_count": 1,
   "metadata": {},
   "outputs": [],
   "source": [
    "import proveit\n",
    "# Automation is not needed when building an expression:\n",
    "proveit.defaults.automation = False # This will speed things up.\n",
    "proveit.defaults.inline_pngs = False # Makes files smaller.\n",
    "%load_expr # Load the stored expression as 'stored_expr'\n",
    "# import Expression classes needed to build the expression\n",
    "from proveit import Conditional, Lambda, Variable, e\n",
    "from proveit.logic import InSet\n",
    "from proveit.numbers import Add, IntervalCC, RealPos, one, subtract\n",
    "from proveit.physics.quantum.QPE import _two_pow__t_minus_one"
   ]
  },
  {
   "cell_type": "code",
   "execution_count": 2,
   "metadata": {},
   "outputs": [
    {
     "data": {
      "text/html": [
       "<strong id=\"expr\">expr:</strong> <a class=\"ProveItLink\" href=\"expr.ipynb\"><img src=\"expr.png\" style=\"display:inline;vertical-align:middle;\" /></a><br>"
      ],
      "text/plain": [
       "<IPython.core.display.HTML object>"
      ]
     },
     "metadata": {},
     "output_type": "display_data"
    }
   ],
   "source": [
    "# build up the expression from sub-expressions\n",
    "sub_expr1 = Variable(\"_a\", latex_format = r\"{_{-}a}\")\n",
    "expr = Lambda(sub_expr1, Conditional(InSet(sub_expr1, RealPos), InSet(sub_expr1, IntervalCC(subtract(Add(e, one), one), subtract(_two_pow__t_minus_one, one)))))"
   ]
  },
  {
   "cell_type": "code",
   "execution_count": 3,
   "metadata": {},
   "outputs": [
    {
     "name": "stdout",
     "output_type": "stream",
     "text": [
      "Passed sanity check: expr matches stored_expr\n"
     ]
    }
   ],
   "source": [
    "# check that the built expression is the same as the stored expression\n",
    "assert expr == stored_expr\n",
    "assert expr._style_id == stored_expr._style_id\n",
    "print(\"Passed sanity check: expr matches stored_expr\")"
   ]
  },
  {
   "cell_type": "code",
   "execution_count": 4,
   "metadata": {},
   "outputs": [
    {
     "name": "stdout",
     "output_type": "stream",
     "text": [
      "{_{-}a} \\mapsto \\left\\{{_{-}a} \\in \\mathbb{R}^+ \\textrm{ if } {_{-}a} \\in \\left[\\left(e + 1\\right) - 1,2^{t - 1} - 1\\right]\\right..\n"
     ]
    }
   ],
   "source": [
    "# Show the LaTeX representation of the expression for convenience if you need it.\n",
    "print(stored_expr.latex())"
   ]
  },
  {
   "cell_type": "code",
   "execution_count": 5,
   "metadata": {},
   "outputs": [
    {
     "data": {
      "text/html": [
       "no style options"
      ],
      "text/plain": [
       "no style options"
      ]
     },
     "metadata": {},
     "output_type": "display_data"
    }
   ],
   "source": [
    "stored_expr.style_options()"
   ]
  },
  {
   "cell_type": "code",
   "execution_count": 6,
   "metadata": {},
   "outputs": [
    {
     "data": {
      "text/html": [
       "<table><tr><th>&nbsp;</th><th>core type</th><th>sub-expressions</th><th>expression</th></tr>\n",
       "<tr><td>0</td><td>Lambda</td><td>parameter:&nbsp;9<br>body:&nbsp;2<br></td><td><a class=\"ProveItLink\" href=\"expr.ipynb\"><img src=\"expr.png\" style=\"display:inline;vertical-align:middle;\" /></a></td></tr>\n",
       "<tr><td>1</td><td>ExprTuple</td><td>9</td><td><a class=\"ProveItLink\" href=\"../../../../../../core_expr_types/__pv_it/common/4b0dd6be36d76552eda6a95d5b4a27f5a5b62f900/expr.ipynb\"><img src=\"../../../../../../core_expr_types/__pv_it/common/4b0dd6be36d76552eda6a95d5b4a27f5a5b62f900/expr.png\" style=\"display:inline;vertical-align:middle;\" /></a></td></tr>\n",
       "<tr><td>2</td><td>Conditional</td><td>value:&nbsp;3<br>condition:&nbsp;4<br></td><td><a class=\"ProveItLink\" href=\"../b2f3d28157fb3189c298d9325b390b4a7fa60ffb0/expr.ipynb\"><img src=\"../b2f3d28157fb3189c298d9325b390b4a7fa60ffb0/expr.png\" style=\"display:inline;vertical-align:middle;\" /></a></td></tr>\n",
       "<tr><td>3</td><td>Operation</td><td>operator:&nbsp;6<br>operands:&nbsp;5<br></td><td><a class=\"ProveItLink\" href=\"../a81be543273ad9c11af3d49ae605b69b41fb47c50/expr.ipynb\"><img src=\"../a81be543273ad9c11af3d49ae605b69b41fb47c50/expr.png\" style=\"display:inline;vertical-align:middle;\" /></a></td></tr>\n",
       "<tr><td>4</td><td>Operation</td><td>operator:&nbsp;6<br>operands:&nbsp;7<br></td><td><a class=\"ProveItLink\" href=\"../aae75318f5f07fb3eafa63d6cd1bec3ec90fd5130/expr.ipynb\"><img src=\"../aae75318f5f07fb3eafa63d6cd1bec3ec90fd5130/expr.png\" style=\"display:inline;vertical-align:middle;\" /></a></td></tr>\n",
       "<tr><td>5</td><td>ExprTuple</td><td>9, 8</td><td><a class=\"ProveItLink\" href=\"../f9132b3847eb0faec3448ae5d0bbbf5781bfe9050/expr.ipynb\"><img src=\"../f9132b3847eb0faec3448ae5d0bbbf5781bfe9050/expr.png\" style=\"display:inline;vertical-align:middle;\" /></a></td></tr>\n",
       "<tr><td>6</td><td>Literal</td><td></td><td><a class=\"ProveItLink\" href=\"../../../../../../logic/sets/membership/__pv_it/common/477487d8796864d23d5810f83761435f25167f690/expr.ipynb\"><img src=\"../../../../../../logic/sets/membership/__pv_it/common/477487d8796864d23d5810f83761435f25167f690/expr.png\" style=\"display:inline;vertical-align:middle;\" /></a></td></tr>\n",
       "<tr><td>7</td><td>ExprTuple</td><td>9, 10</td><td><a class=\"ProveItLink\" href=\"../0439d3ddbbb4bf82a989b27e3d6c5a33e22f14900/expr.ipynb\"><img src=\"../0439d3ddbbb4bf82a989b27e3d6c5a33e22f14900/expr.png\" style=\"display:inline;vertical-align:middle;\" /></a></td></tr>\n",
       "<tr><td>8</td><td>Literal</td><td></td><td><a class=\"ProveItLink\" href=\"../../../../../../numbers/number_sets/real_numbers/__pv_it/common/174917e13d50b91c585b7f765a2896383a3ae8010/expr.ipynb\"><img src=\"../../../../../../numbers/number_sets/real_numbers/__pv_it/common/174917e13d50b91c585b7f765a2896383a3ae8010/expr.png\" style=\"display:inline;vertical-align:middle;\" /></a></td></tr>\n",
       "<tr><td>9</td><td>Variable</td><td></td><td><a class=\"ProveItLink\" href=\"../../../../../../core_expr_types/__pv_it/common/006c465e50948aa2b52285e2de47974f741255cc0/expr.ipynb\"><img src=\"../../../../../../core_expr_types/__pv_it/common/006c465e50948aa2b52285e2de47974f741255cc0/expr.png\" style=\"display:inline;vertical-align:middle;\" /></a></td></tr>\n",
       "<tr><td>10</td><td>Operation</td><td>operator:&nbsp;11<br>operands:&nbsp;12<br></td><td><a class=\"ProveItLink\" href=\"../e18a8c81aa298680faeb750e51e8d83d2b60f7b30/expr.ipynb\"><img src=\"../e18a8c81aa298680faeb750e51e8d83d2b60f7b30/expr.png\" style=\"display:inline;vertical-align:middle;\" /></a></td></tr>\n",
       "<tr><td>11</td><td>Literal</td><td></td><td><a class=\"ProveItLink\" href=\"../../../../../../numbers/number_sets/real_numbers/__pv_it/common/7a0e2d2a71a9c11a68afbf981a5ed39949fa14d10/expr.ipynb\"><img src=\"../../../../../../numbers/number_sets/real_numbers/__pv_it/common/7a0e2d2a71a9c11a68afbf981a5ed39949fa14d10/expr.png\" style=\"display:inline;vertical-align:middle;\" /></a></td></tr>\n",
       "<tr><td>12</td><td>ExprTuple</td><td>13, 14</td><td><a class=\"ProveItLink\" href=\"../d1c588bbb738bf77bd147f7d38f25717b9d052de0/expr.ipynb\"><img src=\"../d1c588bbb738bf77bd147f7d38f25717b9d052de0/expr.png\" style=\"display:inline;vertical-align:middle;\" /></a></td></tr>\n",
       "<tr><td>13</td><td>Operation</td><td>operator:&nbsp;25<br>operands:&nbsp;15<br></td><td><a class=\"ProveItLink\" href=\"../9b9df87aae1b8b1009e1a42900f26993aaed1a920/expr.ipynb\"><img src=\"../9b9df87aae1b8b1009e1a42900f26993aaed1a920/expr.png\" style=\"display:inline;vertical-align:middle;\" /></a></td></tr>\n",
       "<tr><td>14</td><td>Operation</td><td>operator:&nbsp;25<br>operands:&nbsp;16<br></td><td><a class=\"ProveItLink\" href=\"../58ef707138e4bad8045a1541438ed0a751ac762d0/expr.ipynb\"><img src=\"../58ef707138e4bad8045a1541438ed0a751ac762d0/expr.png\" style=\"display:inline;vertical-align:middle;\" /></a></td></tr>\n",
       "<tr><td>15</td><td>ExprTuple</td><td>17, 28</td><td><a class=\"ProveItLink\" href=\"../73b3e1a5eacb937d1b507b29b88f3f10f7b94c570/expr.ipynb\"><img src=\"../73b3e1a5eacb937d1b507b29b88f3f10f7b94c570/expr.png\" style=\"display:inline;vertical-align:middle;\" /></a></td></tr>\n",
       "<tr><td>16</td><td>ExprTuple</td><td>18, 28</td><td><a class=\"ProveItLink\" href=\"../159e32e51ae26e6fdf8167d6240db9ffa26b21230/expr.ipynb\"><img src=\"../159e32e51ae26e6fdf8167d6240db9ffa26b21230/expr.png\" style=\"display:inline;vertical-align:middle;\" /></a></td></tr>\n",
       "<tr><td>17</td><td>Operation</td><td>operator:&nbsp;25<br>operands:&nbsp;19<br></td><td><a class=\"ProveItLink\" href=\"../../common/3b723d66956150d062bf1f9b39de5c57b551151f0/expr.ipynb\"><img src=\"../../common/3b723d66956150d062bf1f9b39de5c57b551151f0/expr.png\" style=\"display:inline;vertical-align:middle;\" /></a></td></tr>\n",
       "<tr><td>18</td><td>Operation</td><td>operator:&nbsp;20<br>operands:&nbsp;21<br></td><td><a class=\"ProveItLink\" href=\"../../common/c88f421c8948293a287b1527f87038636fb060100/expr.ipynb\"><img src=\"../../common/c88f421c8948293a287b1527f87038636fb060100/expr.png\" style=\"display:inline;vertical-align:middle;\" /></a></td></tr>\n",
       "<tr><td>19</td><td>ExprTuple</td><td>22, 31</td><td><a class=\"ProveItLink\" href=\"../../common/38ea3c183eb48205d4822d9dd38df5fc701f225e0/expr.ipynb\"><img src=\"../../common/38ea3c183eb48205d4822d9dd38df5fc701f225e0/expr.png\" style=\"display:inline;vertical-align:middle;\" /></a></td></tr>\n",
       "<tr><td>20</td><td>Literal</td><td></td><td><a class=\"ProveItLink\" href=\"../../../../../../numbers/exponentiation/__pv_it/common/0ac37aca1e54c35c5cda09672df32d4f69f1f3020/expr.ipynb\"><img src=\"../../../../../../numbers/exponentiation/__pv_it/common/0ac37aca1e54c35c5cda09672df32d4f69f1f3020/expr.png\" style=\"display:inline;vertical-align:middle;\" /></a></td></tr>\n",
       "<tr><td>21</td><td>ExprTuple</td><td>23, 24</td><td><a class=\"ProveItLink\" href=\"../../common/0fd4303d90d8f830fbb10e83cdadc1014dc0c7e50/expr.ipynb\"><img src=\"../../common/0fd4303d90d8f830fbb10e83cdadc1014dc0c7e50/expr.png\" style=\"display:inline;vertical-align:middle;\" /></a></td></tr>\n",
       "<tr><td>22</td><td>Variable</td><td></td><td><a class=\"ProveItLink\" href=\"../../../../../../__pv_it/common/f3b2e5223a46d6d30e0676b70270e0fb96f45ce80/expr.ipynb\"><img src=\"../../../../../../__pv_it/common/f3b2e5223a46d6d30e0676b70270e0fb96f45ce80/expr.png\" style=\"display:inline;vertical-align:middle;\" /></a></td></tr>\n",
       "<tr><td>23</td><td>Literal</td><td></td><td><a class=\"ProveItLink\" href=\"../../../../../../numbers/numerals/__pv_it/common/af4aab8a07465db063742696e006d04670f30cf10/expr.ipynb\"><img src=\"../../../../../../numbers/numerals/__pv_it/common/af4aab8a07465db063742696e006d04670f30cf10/expr.png\" style=\"display:inline;vertical-align:middle;\" /></a></td></tr>\n",
       "<tr><td>24</td><td>Operation</td><td>operator:&nbsp;25<br>operands:&nbsp;26<br></td><td><a class=\"ProveItLink\" href=\"../../common/0ca28d9ff996a3862a4b8b87f5586f9edc717e8d0/expr.ipynb\"><img src=\"../../common/0ca28d9ff996a3862a4b8b87f5586f9edc717e8d0/expr.png\" style=\"display:inline;vertical-align:middle;\" /></a></td></tr>\n",
       "<tr><td>25</td><td>Literal</td><td></td><td><a class=\"ProveItLink\" href=\"../../../../../../numbers/addition/__pv_it/common/4b7effaab3619a1c2c38fe2dee8601df8ec714590/expr.ipynb\"><img src=\"../../../../../../numbers/addition/__pv_it/common/4b7effaab3619a1c2c38fe2dee8601df8ec714590/expr.png\" style=\"display:inline;vertical-align:middle;\" /></a></td></tr>\n",
       "<tr><td>26</td><td>ExprTuple</td><td>27, 28</td><td><a class=\"ProveItLink\" href=\"../../common/3d4ffcd7453a233f893c0f082066a2545b0987f70/expr.ipynb\"><img src=\"../../common/3d4ffcd7453a233f893c0f082066a2545b0987f70/expr.png\" style=\"display:inline;vertical-align:middle;\" /></a></td></tr>\n",
       "<tr><td>27</td><td>Literal</td><td></td><td><a class=\"ProveItLink\" href=\"../../common/977cc67717328e22c93f8ab84e6a45e8cadce7790/expr.ipynb\"><img src=\"../../common/977cc67717328e22c93f8ab84e6a45e8cadce7790/expr.png\" style=\"display:inline;vertical-align:middle;\" /></a></td></tr>\n",
       "<tr><td>28</td><td>Operation</td><td>operator:&nbsp;29<br>operand:&nbsp;31<br></td><td><a class=\"ProveItLink\" href=\"../../common/bf4beda21975fe8a0a5007615b5bcc943da59bb20/expr.ipynb\"><img src=\"../../common/bf4beda21975fe8a0a5007615b5bcc943da59bb20/expr.png\" style=\"display:inline;vertical-align:middle;\" /></a></td></tr>\n",
       "<tr><td>29</td><td>Literal</td><td></td><td><a class=\"ProveItLink\" href=\"../../../../../../numbers/negation/__pv_it/common/221b3c4d1770ee9051b7c044c3f9ec61196fc34b0/expr.ipynb\"><img src=\"../../../../../../numbers/negation/__pv_it/common/221b3c4d1770ee9051b7c044c3f9ec61196fc34b0/expr.png\" style=\"display:inline;vertical-align:middle;\" /></a></td></tr>\n",
       "<tr><td>30</td><td>ExprTuple</td><td>31</td><td><a class=\"ProveItLink\" href=\"../../common/b9e4f0dffece176bbe2f36127440684a20e0468e0/expr.ipynb\"><img src=\"../../common/b9e4f0dffece176bbe2f36127440684a20e0468e0/expr.png\" style=\"display:inline;vertical-align:middle;\" /></a></td></tr>\n",
       "<tr><td>31</td><td>Literal</td><td></td><td><a class=\"ProveItLink\" href=\"../../../../../../numbers/numerals/__pv_it/common/682157d4892d216d9e5626ed533aff9b56b9506e0/expr.ipynb\"><img src=\"../../../../../../numbers/numerals/__pv_it/common/682157d4892d216d9e5626ed533aff9b56b9506e0/expr.png\" style=\"display:inline;vertical-align:middle;\" /></a></td></tr>\n",
       "</table>\n"
      ],
      "text/plain": [
       "0. _a -> {_a in RealPos if _a in [(e + 1) - 1,2^{t - 1} - 1].\n",
       "   core type: Lambda\n",
       "   parameter: 9\n",
       "   body: 2\n",
       "1. (_a)\n",
       "   core type: ExprTuple\n",
       "   sub-expressions: 9\n",
       "2. {_a in RealPos if _a in [(e + 1) - 1,2^{t - 1} - 1].\n",
       "   core type: Conditional\n",
       "   value: 3\n",
       "   condition: 4\n",
       "3. _a in RealPos\n",
       "   core type: Operation\n",
       "   operator: 6\n",
       "   operands: 5\n",
       "4. _a in [(e + 1) - 1,2^{t - 1} - 1]\n",
       "   core type: Operation\n",
       "   operator: 6\n",
       "   operands: 7\n",
       "5. (_a, RealPos)\n",
       "   core type: ExprTuple\n",
       "   sub-expressions: 9, 8\n",
       "6. in\n",
       "   core type: Literal\n",
       "   sub-expressions: \n",
       "7. (_a, [(e + 1) - 1,2^{t - 1} - 1])\n",
       "   core type: ExprTuple\n",
       "   sub-expressions: 9, 10\n",
       "8. RealPos\n",
       "   core type: Literal\n",
       "   sub-expressions: \n",
       "9. _a\n",
       "   core type: Variable\n",
       "   sub-expressions: \n",
       "10. [(e + 1) - 1,2^{t - 1} - 1]\n",
       "    core type: Operation\n",
       "    operator: 11\n",
       "    operands: 12\n",
       "11. IntervalCC\n",
       "    core type: Literal\n",
       "    sub-expressions: \n",
       "12. ((e + 1) - 1, 2^{t - 1} - 1)\n",
       "    core type: ExprTuple\n",
       "    sub-expressions: 13, 14\n",
       "13. (e + 1) - 1\n",
       "    core type: Operation\n",
       "    operator: 25\n",
       "    operands: 15\n",
       "14. 2^{t - 1} - 1\n",
       "    core type: Operation\n",
       "    operator: 25\n",
       "    operands: 16\n",
       "15. (e + 1, -1)\n",
       "    core type: ExprTuple\n",
       "    sub-expressions: 17, 28\n",
       "16. (2^{t - 1}, -1)\n",
       "    core type: ExprTuple\n",
       "    sub-expressions: 18, 28\n",
       "17. e + 1\n",
       "    core type: Operation\n",
       "    operator: 25\n",
       "    operands: 19\n",
       "18. 2^{t - 1}\n",
       "    core type: Operation\n",
       "    operator: 20\n",
       "    operands: 21\n",
       "19. (e, 1)\n",
       "    core type: ExprTuple\n",
       "    sub-expressions: 22, 31\n",
       "20. Exp\n",
       "    core type: Literal\n",
       "    sub-expressions: \n",
       "21. (2, t - 1)\n",
       "    core type: ExprTuple\n",
       "    sub-expressions: 23, 24\n",
       "22. e\n",
       "    core type: Variable\n",
       "    sub-expressions: \n",
       "23. 2\n",
       "    core type: Literal\n",
       "    sub-expressions: \n",
       "24. t - 1\n",
       "    core type: Operation\n",
       "    operator: 25\n",
       "    operands: 26\n",
       "25. +\n",
       "    core type: Literal\n",
       "    sub-expressions: \n",
       "26. (t, -1)\n",
       "    core type: ExprTuple\n",
       "    sub-expressions: 27, 28\n",
       "27. t\n",
       "    core type: Literal\n",
       "    sub-expressions: \n",
       "28. -1\n",
       "    core type: Operation\n",
       "    operator: 29\n",
       "    operand: 31\n",
       "29. -\n",
       "    core type: Literal\n",
       "    sub-expressions: \n",
       "30. (1)\n",
       "    core type: ExprTuple\n",
       "    sub-expressions: 31\n",
       "31. 1\n",
       "    core type: Literal\n",
       "    sub-expressions: "
      ]
     },
     "metadata": {},
     "output_type": "display_data"
    }
   ],
   "source": [
    "# display the expression information\n",
    "stored_expr.expr_info()"
   ]
  },
  {
   "cell_type": "code",
   "execution_count": null,
   "metadata": {},
   "outputs": [],
   "source": []
  }
 ],
 "metadata": {
  "kernelspec": {
   "display_name": "Python 3",
   "language": "python",
   "name": "python3"
  }
 },
 "nbformat": 4,
 "nbformat_minor": 0
}