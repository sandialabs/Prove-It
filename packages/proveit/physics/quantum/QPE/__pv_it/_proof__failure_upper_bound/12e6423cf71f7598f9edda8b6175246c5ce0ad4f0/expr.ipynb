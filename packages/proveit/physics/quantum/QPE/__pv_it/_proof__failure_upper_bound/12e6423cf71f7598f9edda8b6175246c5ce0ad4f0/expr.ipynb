{
 "cells": [
  {
   "cell_type": "markdown",
   "metadata": {},
   "source": [
    "Expression of type <a class=\"ProveItLink\" href=\"../../../../../../../../doc/html/api/proveit.numbers.LessEq.html\">LessEq</a>\n",
    "=======================\n",
    "# from the theory of <a class=\"ProveItLink\" href=\"../../../_theory_nbs_/theory.ipynb\">proveit.physics.quantum.QPE</a>"
   ]
  },
  {
   "cell_type": "code",
   "execution_count": 1,
   "metadata": {},
   "outputs": [],
   "source": [
    "import proveit\n",
    "# Automation is not needed when building an expression:\n",
    "proveit.defaults.automation = False # This will speed things up.\n",
    "proveit.defaults.inline_pngs = False # Makes files smaller.\n",
    "%load_expr # Load the stored expression as 'stored_expr'\n",
    "# import Expression classes needed to build the expression\n",
    "from proveit import l\n",
    "from proveit.numbers import Exp, frac, greater_eq, one, two\n",
    "from proveit.physics.quantum.QPE import _diff_l_scaled_delta_floor"
   ]
  },
  {
   "cell_type": "code",
   "execution_count": 2,
   "metadata": {},
   "outputs": [
    {
     "data": {
      "text/html": [
       "<strong id=\"expr\">expr:</strong> <a class=\"ProveItLink\" href=\"expr.ipynb\"><img src=\"expr.png\" style=\"display:inline;vertical-align:middle;\" /></a><br>"
      ],
      "text/plain": [
       "<IPython.core.display.HTML object>"
      ]
     },
     "metadata": {},
     "output_type": "display_data"
    }
   ],
   "source": [
    "# build up the expression from sub-expressions\n",
    "expr = greater_eq(frac(one, Exp(l, two)), frac(one, Exp(_diff_l_scaled_delta_floor, two)))"
   ]
  },
  {
   "cell_type": "code",
   "execution_count": 3,
   "metadata": {},
   "outputs": [
    {
     "name": "stdout",
     "output_type": "stream",
     "text": [
      "Passed sanity check: expr matches stored_expr\n"
     ]
    }
   ],
   "source": [
    "# check that the built expression is the same as the stored expression\n",
    "assert expr == stored_expr\n",
    "assert expr._style_id == stored_expr._style_id\n",
    "print(\"Passed sanity check: expr matches stored_expr\")"
   ]
  },
  {
   "cell_type": "code",
   "execution_count": 4,
   "metadata": {},
   "outputs": [
    {
     "name": "stdout",
     "output_type": "stream",
     "text": [
      "\\frac{1}{l^{2}} \\geq \\frac{1}{\\left(l - \\left(2^{t} \\cdot \\delta_{b_{\\textit{f}}}\\right)\\right)^{2}}\n"
     ]
    }
   ],
   "source": [
    "# Show the LaTeX representation of the expression for convenience if you need it.\n",
    "print(stored_expr.latex())"
   ]
  },
  {
   "cell_type": "code",
   "execution_count": 5,
   "metadata": {},
   "outputs": [
    {
     "data": {
      "text/html": [
       "<table>\n",
       "<tr><th>name</th><th>description</th><th>default</th><th>current value</th><th>related methods</th></tr><tr><td>operation</td><td>'infix' or 'function' style formatting</td><td>infix</td><td>infix</td><td></td></tr>\n",
       "<tr><td>wrap_positions</td><td>position(s) at which wrapping is to occur; '2 n - 1' is after the nth operand, '2 n' is after the nth operation.</td><td>()</td><td>()</td><td>('with_wrapping_at', 'with_wrap_before_operator', 'with_wrap_after_operator', 'without_wrapping', 'wrap_positions')</td></tr>\n",
       "<tr><td>justification</td><td>if any wrap positions are set, justify to the 'left', 'center', or 'right'</td><td>center</td><td>center</td><td>('with_justification',)</td></tr>\n",
       "<tr><td>direction</td><td>Direction of the relation (normal or reversed)</td><td>normal</td><td>reversed</td><td>('with_direction_reversed', 'is_reversed')</td></tr>\n",
       "</table>\n"
      ],
      "text/plain": [
       "style name: operation\n",
       "description: 'infix' or 'function' style formatting\n",
       "default: infix\n",
       "current value: infix\n",
       "related methods: ()\n",
       "style name: wrap_positions\n",
       "description: position(s) at which wrapping is to occur; '2 n - 1' is after the nth operand, '2 n' is after the nth operation.\n",
       "default: ()\n",
       "current value: ()\n",
       "related methods: ('with_wrapping_at', 'with_wrap_before_operator', 'with_wrap_after_operator', 'without_wrapping', 'wrap_positions')\n",
       "style name: justification\n",
       "description: if any wrap positions are set, justify to the 'left', 'center', or 'right'\n",
       "default: center\n",
       "current value: center\n",
       "related methods: ('with_justification',)\n",
       "style name: direction\n",
       "description: Direction of the relation (normal or reversed)\n",
       "default: normal\n",
       "current value: reversed\n",
       "related methods: ('with_direction_reversed', 'is_reversed')"
      ]
     },
     "metadata": {},
     "output_type": "display_data"
    }
   ],
   "source": [
    "stored_expr.style_options()"
   ]
  },
  {
   "cell_type": "code",
   "execution_count": 6,
   "metadata": {},
   "outputs": [
    {
     "data": {
      "text/html": [
       "<table><tr><th>&nbsp;</th><th>core type</th><th>sub-expressions</th><th>expression</th></tr>\n",
       "<tr><td>0</td><td>Operation</td><td>operator:&nbsp;1<br>operands:&nbsp;2<br></td><td><a class=\"ProveItLink\" href=\"expr.ipynb\"><img src=\"expr.png\" style=\"display:inline;vertical-align:middle;\" /></a></td></tr>\n",
       "<tr><td>1</td><td>Literal</td><td></td><td><a class=\"ProveItLink\" href=\"../../../../../../numbers/ordering/__pv_it/common/68379698d72b4689bbda4b5c5cca29ee599d70280/expr.ipynb\"><img src=\"../../../../../../numbers/ordering/__pv_it/common/68379698d72b4689bbda4b5c5cca29ee599d70280/expr.png\" style=\"display:inline;vertical-align:middle;\" /></a></td></tr>\n",
       "<tr><td>2</td><td>ExprTuple</td><td>3, 4</td><td><a class=\"ProveItLink\" href=\"../c8932185f4346919c19b169f7f290c8a2fa1dcc70/expr.ipynb\"><img src=\"../c8932185f4346919c19b169f7f290c8a2fa1dcc70/expr.png\" style=\"display:inline;vertical-align:middle;\" /></a></td></tr>\n",
       "<tr><td>3</td><td>Operation</td><td>operator:&nbsp;6<br>operands:&nbsp;5<br></td><td><a class=\"ProveItLink\" href=\"../../theorems/c542d2f08dbaf3f44ac7f82f4e0020814a307c960/expr.ipynb\"><img src=\"../../theorems/c542d2f08dbaf3f44ac7f82f4e0020814a307c960/expr.png\" style=\"display:inline;vertical-align:middle;\" /></a></td></tr>\n",
       "<tr><td>4</td><td>Operation</td><td>operator:&nbsp;6<br>operands:&nbsp;7<br></td><td><a class=\"ProveItLink\" href=\"../9d532336847eabb46e6c41e157fcacfc60d604d80/expr.ipynb\"><img src=\"../9d532336847eabb46e6c41e157fcacfc60d604d80/expr.png\" style=\"display:inline;vertical-align:middle;\" /></a></td></tr>\n",
       "<tr><td>5</td><td>ExprTuple</td><td>9, 8</td><td><a class=\"ProveItLink\" href=\"../../theorems/b8de26333e371bc5f31eba9b7c0479771abb89540/expr.ipynb\"><img src=\"../../theorems/b8de26333e371bc5f31eba9b7c0479771abb89540/expr.png\" style=\"display:inline;vertical-align:middle;\" /></a></td></tr>\n",
       "<tr><td>6</td><td>Literal</td><td></td><td><a class=\"ProveItLink\" href=\"../../../../../../numbers/division/__pv_it/common/a2a633e1e3c749fb1f2692466b287b6348c5de840/expr.ipynb\"><img src=\"../../../../../../numbers/division/__pv_it/common/a2a633e1e3c749fb1f2692466b287b6348c5de840/expr.png\" style=\"display:inline;vertical-align:middle;\" /></a></td></tr>\n",
       "<tr><td>7</td><td>ExprTuple</td><td>9, 10</td><td><a class=\"ProveItLink\" href=\"../eafe3d91b602274c3914fde30a5c2d3723f6fd430/expr.ipynb\"><img src=\"../eafe3d91b602274c3914fde30a5c2d3723f6fd430/expr.png\" style=\"display:inline;vertical-align:middle;\" /></a></td></tr>\n",
       "<tr><td>8</td><td>Operation</td><td>operator:&nbsp;25<br>operands:&nbsp;11<br></td><td><a class=\"ProveItLink\" href=\"../../theorems/0c9ba020b213e4eb92f540ed6deb605bd7fba3240/expr.ipynb\"><img src=\"../../theorems/0c9ba020b213e4eb92f540ed6deb605bd7fba3240/expr.png\" style=\"display:inline;vertical-align:middle;\" /></a></td></tr>\n",
       "<tr><td>9</td><td>Literal</td><td></td><td><a class=\"ProveItLink\" href=\"../../../../../../numbers/numerals/__pv_it/common/682157d4892d216d9e5626ed533aff9b56b9506e0/expr.ipynb\"><img src=\"../../../../../../numbers/numerals/__pv_it/common/682157d4892d216d9e5626ed533aff9b56b9506e0/expr.png\" style=\"display:inline;vertical-align:middle;\" /></a></td></tr>\n",
       "<tr><td>10</td><td>Operation</td><td>operator:&nbsp;25<br>operands:&nbsp;12<br></td><td><a class=\"ProveItLink\" href=\"../efb78441b62fa90bb12a9895970f8b1d9ef1b78e0/expr.ipynb\"><img src=\"../efb78441b62fa90bb12a9895970f8b1d9ef1b78e0/expr.png\" style=\"display:inline;vertical-align:middle;\" /></a></td></tr>\n",
       "<tr><td>11</td><td>ExprTuple</td><td>13, 29</td><td><a class=\"ProveItLink\" href=\"../../theorems/11ea70dca1a131e96618927da7116e27749002500/expr.ipynb\"><img src=\"../../theorems/11ea70dca1a131e96618927da7116e27749002500/expr.png\" style=\"display:inline;vertical-align:middle;\" /></a></td></tr>\n",
       "<tr><td>12</td><td>ExprTuple</td><td>16, 29</td><td><a class=\"ProveItLink\" href=\"../4823760a2c42ec9795778b13d184268a4cbb308a0/expr.ipynb\"><img src=\"../4823760a2c42ec9795778b13d184268a4cbb308a0/expr.png\" style=\"display:inline;vertical-align:middle;\" /></a></td></tr>\n",
       "<tr><td>13</td><td>Operation</td><td>operator:&nbsp;14<br>operands:&nbsp;15<br></td><td><a class=\"ProveItLink\" href=\"../../common/9c9bdec0e7b121886b600443d97f4d7b4f29b6a30/expr.ipynb\"><img src=\"../../common/9c9bdec0e7b121886b600443d97f4d7b4f29b6a30/expr.png\" style=\"display:inline;vertical-align:middle;\" /></a></td></tr>\n",
       "<tr><td>14</td><td>Literal</td><td></td><td><a class=\"ProveItLink\" href=\"../../../../../../numbers/addition/__pv_it/common/4b7effaab3619a1c2c38fe2dee8601df8ec714590/expr.ipynb\"><img src=\"../../../../../../numbers/addition/__pv_it/common/4b7effaab3619a1c2c38fe2dee8601df8ec714590/expr.png\" style=\"display:inline;vertical-align:middle;\" /></a></td></tr>\n",
       "<tr><td>15</td><td>ExprTuple</td><td>16, 17</td><td><a class=\"ProveItLink\" href=\"../../common/86150eca69de5f8fe1162671ec892f58415ef7f50/expr.ipynb\"><img src=\"../../common/86150eca69de5f8fe1162671ec892f58415ef7f50/expr.png\" style=\"display:inline;vertical-align:middle;\" /></a></td></tr>\n",
       "<tr><td>16</td><td>Variable</td><td></td><td><a class=\"ProveItLink\" href=\"../../../../../../__pv_it/common/27cc275d44b4f4499fb9ccfb3fab1a98165d2fa60/expr.ipynb\"><img src=\"../../../../../../__pv_it/common/27cc275d44b4f4499fb9ccfb3fab1a98165d2fa60/expr.png\" style=\"display:inline;vertical-align:middle;\" /></a></td></tr>\n",
       "<tr><td>17</td><td>Operation</td><td>operator:&nbsp;18<br>operand:&nbsp;20<br></td><td><a class=\"ProveItLink\" href=\"../../common/8e99231b93f1e62236fa22c8eabc7be0ae1879670/expr.ipynb\"><img src=\"../../common/8e99231b93f1e62236fa22c8eabc7be0ae1879670/expr.png\" style=\"display:inline;vertical-align:middle;\" /></a></td></tr>\n",
       "<tr><td>18</td><td>Literal</td><td></td><td><a class=\"ProveItLink\" href=\"../../../../../../numbers/negation/__pv_it/common/221b3c4d1770ee9051b7c044c3f9ec61196fc34b0/expr.ipynb\"><img src=\"../../../../../../numbers/negation/__pv_it/common/221b3c4d1770ee9051b7c044c3f9ec61196fc34b0/expr.png\" style=\"display:inline;vertical-align:middle;\" /></a></td></tr>\n",
       "<tr><td>19</td><td>ExprTuple</td><td>20</td><td><a class=\"ProveItLink\" href=\"../../common/2f3f80ede406c5103d6db4398858acfe096fc6f50/expr.ipynb\"><img src=\"../../common/2f3f80ede406c5103d6db4398858acfe096fc6f50/expr.png\" style=\"display:inline;vertical-align:middle;\" /></a></td></tr>\n",
       "<tr><td>20</td><td>Operation</td><td>operator:&nbsp;21<br>operands:&nbsp;22<br></td><td><a class=\"ProveItLink\" href=\"../../common/940fcad8977dd953271c0334bf6744ba39a895a30/expr.ipynb\"><img src=\"../../common/940fcad8977dd953271c0334bf6744ba39a895a30/expr.png\" style=\"display:inline;vertical-align:middle;\" /></a></td></tr>\n",
       "<tr><td>21</td><td>Literal</td><td></td><td><a class=\"ProveItLink\" href=\"../../../../../../numbers/multiplication/__pv_it/common/ed719cef37831779c16481533a4d380a2f95ab270/expr.ipynb\"><img src=\"../../../../../../numbers/multiplication/__pv_it/common/ed719cef37831779c16481533a4d380a2f95ab270/expr.png\" style=\"display:inline;vertical-align:middle;\" /></a></td></tr>\n",
       "<tr><td>22</td><td>ExprTuple</td><td>23, 24</td><td><a class=\"ProveItLink\" href=\"../../common/827c610c960f7cc82c804f1237e0082192f19aae0/expr.ipynb\"><img src=\"../../common/827c610c960f7cc82c804f1237e0082192f19aae0/expr.png\" style=\"display:inline;vertical-align:middle;\" /></a></td></tr>\n",
       "<tr><td>23</td><td>Operation</td><td>operator:&nbsp;25<br>operands:&nbsp;26<br></td><td><a class=\"ProveItLink\" href=\"../../common/18332e4e627d64eadf0d81efed19ae3e9d007d510/expr.ipynb\"><img src=\"../../common/18332e4e627d64eadf0d81efed19ae3e9d007d510/expr.png\" style=\"display:inline;vertical-align:middle;\" /></a></td></tr>\n",
       "<tr><td>24</td><td>Operation</td><td>operator:&nbsp;27<br>operand:&nbsp;31<br></td><td><a class=\"ProveItLink\" href=\"../../common/833e157257157d61cc42cb08459d50abb96eeea30/expr.ipynb\"><img src=\"../../common/833e157257157d61cc42cb08459d50abb96eeea30/expr.png\" style=\"display:inline;vertical-align:middle;\" /></a></td></tr>\n",
       "<tr><td>25</td><td>Literal</td><td></td><td><a class=\"ProveItLink\" href=\"../../../../../../numbers/exponentiation/__pv_it/common/0ac37aca1e54c35c5cda09672df32d4f69f1f3020/expr.ipynb\"><img src=\"../../../../../../numbers/exponentiation/__pv_it/common/0ac37aca1e54c35c5cda09672df32d4f69f1f3020/expr.png\" style=\"display:inline;vertical-align:middle;\" /></a></td></tr>\n",
       "<tr><td>26</td><td>ExprTuple</td><td>29, 30</td><td><a class=\"ProveItLink\" href=\"../../common/e32fd834a589b0231aa39da242e9381ec87261b00/expr.ipynb\"><img src=\"../../common/e32fd834a589b0231aa39da242e9381ec87261b00/expr.png\" style=\"display:inline;vertical-align:middle;\" /></a></td></tr>\n",
       "<tr><td>27</td><td>Literal</td><td></td><td><a class=\"ProveItLink\" href=\"../../common/d6b97444617188a78c398568a10ac4dbe1ffa6590/expr.ipynb\"><img src=\"../../common/d6b97444617188a78c398568a10ac4dbe1ffa6590/expr.png\" style=\"display:inline;vertical-align:middle;\" /></a></td></tr>\n",
       "<tr><td>28</td><td>ExprTuple</td><td>31</td><td><a class=\"ProveItLink\" href=\"../../common/8eec66445df3903052bd360ac92a5d6d7e9760f80/expr.ipynb\"><img src=\"../../common/8eec66445df3903052bd360ac92a5d6d7e9760f80/expr.png\" style=\"display:inline;vertical-align:middle;\" /></a></td></tr>\n",
       "<tr><td>29</td><td>Literal</td><td></td><td><a class=\"ProveItLink\" href=\"../../../../../../numbers/numerals/__pv_it/common/af4aab8a07465db063742696e006d04670f30cf10/expr.ipynb\"><img src=\"../../../../../../numbers/numerals/__pv_it/common/af4aab8a07465db063742696e006d04670f30cf10/expr.png\" style=\"display:inline;vertical-align:middle;\" /></a></td></tr>\n",
       "<tr><td>30</td><td>Literal</td><td></td><td><a class=\"ProveItLink\" href=\"../../common/977cc67717328e22c93f8ab84e6a45e8cadce7790/expr.ipynb\"><img src=\"../../common/977cc67717328e22c93f8ab84e6a45e8cadce7790/expr.png\" style=\"display:inline;vertical-align:middle;\" /></a></td></tr>\n",
       "<tr><td>31</td><td>Literal</td><td></td><td><a class=\"ProveItLink\" href=\"../../common/d330793052bb239ae69702166b1d364acbd6f04c0/expr.ipynb\"><img src=\"../../common/d330793052bb239ae69702166b1d364acbd6f04c0/expr.png\" style=\"display:inline;vertical-align:middle;\" /></a></td></tr>\n",
       "</table>\n"
      ],
      "text/plain": [
       "0. (1 / l^{2}) >= (1 / (l - (2^{t} * delta_{b_{f}}))^{2})\n",
       "   core type: Operation\n",
       "   operator: 1\n",
       "   operands: 2\n",
       "1. <=\n",
       "   core type: Literal\n",
       "   sub-expressions: \n",
       "2. (1 / (l - (2^{t} * delta_{b_{f}}))^{2}, 1 / l^{2})\n",
       "   core type: ExprTuple\n",
       "   sub-expressions: 3, 4\n",
       "3. 1 / (l - (2^{t} * delta_{b_{f}}))^{2}\n",
       "   core type: Operation\n",
       "   operator: 6\n",
       "   operands: 5\n",
       "4. 1 / l^{2}\n",
       "   core type: Operation\n",
       "   operator: 6\n",
       "   operands: 7\n",
       "5. (1, (l - (2^{t} * delta_{b_{f}}))^{2})\n",
       "   core type: ExprTuple\n",
       "   sub-expressions: 9, 8\n",
       "6. /\n",
       "   core type: Literal\n",
       "   sub-expressions: \n",
       "7. (1, l^{2})\n",
       "   core type: ExprTuple\n",
       "   sub-expressions: 9, 10\n",
       "8. (l - (2^{t} * delta_{b_{f}}))^{2}\n",
       "   core type: Operation\n",
       "   operator: 25\n",
       "   operands: 11\n",
       "9. 1\n",
       "   core type: Literal\n",
       "   sub-expressions: \n",
       "10. l^{2}\n",
       "    core type: Operation\n",
       "    operator: 25\n",
       "    operands: 12\n",
       "11. (l - (2^{t} * delta_{b_{f}}), 2)\n",
       "    core type: ExprTuple\n",
       "    sub-expressions: 13, 29\n",
       "12. (l, 2)\n",
       "    core type: ExprTuple\n",
       "    sub-expressions: 16, 29\n",
       "13. l - (2^{t} * delta_{b_{f}})\n",
       "    core type: Operation\n",
       "    operator: 14\n",
       "    operands: 15\n",
       "14. +\n",
       "    core type: Literal\n",
       "    sub-expressions: \n",
       "15. (l, -(2^{t} * delta_{b_{f}}))\n",
       "    core type: ExprTuple\n",
       "    sub-expressions: 16, 17\n",
       "16. l\n",
       "    core type: Variable\n",
       "    sub-expressions: \n",
       "17. -(2^{t} * delta_{b_{f}})\n",
       "    core type: Operation\n",
       "    operator: 18\n",
       "    operand: 20\n",
       "18. -\n",
       "    core type: Literal\n",
       "    sub-expressions: \n",
       "19. (2^{t} * delta_{b_{f}})\n",
       "    core type: ExprTuple\n",
       "    sub-expressions: 20\n",
       "20. 2^{t} * delta_{b_{f}}\n",
       "    core type: Operation\n",
       "    operator: 21\n",
       "    operands: 22\n",
       "21. *\n",
       "    core type: Literal\n",
       "    sub-expressions: \n",
       "22. (2^{t}, delta_{b_{f}})\n",
       "    core type: ExprTuple\n",
       "    sub-expressions: 23, 24\n",
       "23. 2^{t}\n",
       "    core type: Operation\n",
       "    operator: 25\n",
       "    operands: 26\n",
       "24. delta_{b_{f}}\n",
       "    core type: Operation\n",
       "    operator: 27\n",
       "    operand: 31\n",
       "25. Exp\n",
       "    core type: Literal\n",
       "    sub-expressions: \n",
       "26. (2, t)\n",
       "    core type: ExprTuple\n",
       "    sub-expressions: 29, 30\n",
       "27. delta\n",
       "    core type: Literal\n",
       "    sub-expressions: \n",
       "28. (b_{f})\n",
       "    core type: ExprTuple\n",
       "    sub-expressions: 31\n",
       "29. 2\n",
       "    core type: Literal\n",
       "    sub-expressions: \n",
       "30. t\n",
       "    core type: Literal\n",
       "    sub-expressions: \n",
       "31. b_{f}\n",
       "    core type: Literal\n",
       "    sub-expressions: "
      ]
     },
     "metadata": {},
     "output_type": "display_data"
    }
   ],
   "source": [
    "# display the expression information\n",
    "stored_expr.expr_info()"
   ]
  },
  {
   "cell_type": "code",
   "execution_count": null,
   "metadata": {},
   "outputs": [],
   "source": []
  }
 ],
 "metadata": {
  "kernelspec": {
   "display_name": "Python 3",
   "language": "python",
   "name": "python3"
  }
 },
 "nbformat": 4,
 "nbformat_minor": 0
}