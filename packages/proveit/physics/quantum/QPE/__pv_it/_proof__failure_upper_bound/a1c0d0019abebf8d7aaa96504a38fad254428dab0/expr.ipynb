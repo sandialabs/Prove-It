{
 "cells": [
  {
   "cell_type": "markdown",
   "metadata": {},
   "source": [
    "Expression of type <a class=\"ProveItLink\" href=\"../../../../../../../../doc/html/api/proveit.Lambda.html\">Lambda</a>\n",
    "=======================\n",
    "# from the theory of <a class=\"ProveItLink\" href=\"../../../_theory_nbs_/theory.ipynb\">proveit.physics.quantum.QPE</a>"
   ]
  },
  {
   "cell_type": "code",
   "execution_count": 1,
   "metadata": {},
   "outputs": [],
   "source": [
    "import proveit\n",
    "# Automation is not needed when building an expression:\n",
    "proveit.defaults.automation = False # This will speed things up.\n",
    "proveit.defaults.inline_pngs = False # Makes files smaller.\n",
    "%load_expr # Load the stored expression as 'stored_expr'\n",
    "# import Expression classes needed to build the expression\n",
    "from proveit import Conditional, Lambda, k\n",
    "from proveit.logic import InSet\n",
    "from proveit.numbers import Exp, LessEq, Mult, frac, one, subtract, two\n",
    "from proveit.physics.quantum.QPE import _delta_b_floor, _neg_domain, _two_pow_t"
   ]
  },
  {
   "cell_type": "code",
   "execution_count": 2,
   "metadata": {},
   "outputs": [
    {
     "data": {
      "text/html": [
       "<strong id=\"expr\">expr:</strong> <a class=\"ProveItLink\" href=\"expr.ipynb\"><img src=\"expr.png\" style=\"display:inline;vertical-align:middle;\" /></a><br>"
      ],
      "text/plain": [
       "<IPython.core.display.HTML object>"
      ]
     },
     "metadata": {},
     "output_type": "display_data"
    }
   ],
   "source": [
    "# build up the expression from sub-expressions\n",
    "expr = Lambda(k, Conditional(LessEq(frac(one, Exp(subtract(k, Mult(_two_pow_t, _delta_b_floor)), two)), frac(one, Exp(k, two))), InSet(k, _neg_domain)))"
   ]
  },
  {
   "cell_type": "code",
   "execution_count": 3,
   "metadata": {},
   "outputs": [
    {
     "name": "stdout",
     "output_type": "stream",
     "text": [
      "Passed sanity check: expr matches stored_expr\n"
     ]
    }
   ],
   "source": [
    "# check that the built expression is the same as the stored expression\n",
    "assert expr == stored_expr\n",
    "assert expr._style_id == stored_expr._style_id\n",
    "print(\"Passed sanity check: expr matches stored_expr\")"
   ]
  },
  {
   "cell_type": "code",
   "execution_count": 4,
   "metadata": {},
   "outputs": [
    {
     "name": "stdout",
     "output_type": "stream",
     "text": [
      "k \\mapsto \\left\\{\\frac{1}{\\left(k - \\left(2^{t} \\cdot \\delta_{b_{\\textit{f}}}\\right)\\right)^{2}} \\leq \\frac{1}{k^{2}} \\textrm{ if } k \\in \\{-2^{t - 1} + 1~\\ldotp \\ldotp~-\\left(e + 1\\right)\\}\\right..\n"
     ]
    }
   ],
   "source": [
    "# Show the LaTeX representation of the expression for convenience if you need it.\n",
    "print(stored_expr.latex())"
   ]
  },
  {
   "cell_type": "code",
   "execution_count": 5,
   "metadata": {},
   "outputs": [
    {
     "data": {
      "text/html": [
       "no style options"
      ],
      "text/plain": [
       "no style options"
      ]
     },
     "metadata": {},
     "output_type": "display_data"
    }
   ],
   "source": [
    "stored_expr.style_options()"
   ]
  },
  {
   "cell_type": "code",
   "execution_count": 6,
   "metadata": {},
   "outputs": [
    {
     "data": {
      "text/html": [
       "<table><tr><th>&nbsp;</th><th>core type</th><th>sub-expressions</th><th>expression</th></tr>\n",
       "<tr><td>0</td><td>Lambda</td><td>parameter:&nbsp;31<br>body:&nbsp;2<br></td><td><a class=\"ProveItLink\" href=\"expr.ipynb\"><img src=\"expr.png\" style=\"display:inline;vertical-align:middle;\" /></a></td></tr>\n",
       "<tr><td>1</td><td>ExprTuple</td><td>31</td><td><a class=\"ProveItLink\" href=\"../../../../../../numbers/summation/__pv_it/common/36569ebfbef1eee76da90134ba3a4620a4cb94130/expr.ipynb\"><img src=\"../../../../../../numbers/summation/__pv_it/common/36569ebfbef1eee76da90134ba3a4620a4cb94130/expr.png\" style=\"display:inline;vertical-align:middle;\" /></a></td></tr>\n",
       "<tr><td>2</td><td>Conditional</td><td>value:&nbsp;3<br>condition:&nbsp;4<br></td><td><a class=\"ProveItLink\" href=\"../22fbaa590068f08c70c1d5628a36626c2b97ec9a0/expr.ipynb\"><img src=\"../22fbaa590068f08c70c1d5628a36626c2b97ec9a0/expr.png\" style=\"display:inline;vertical-align:middle;\" /></a></td></tr>\n",
       "<tr><td>3</td><td>Operation</td><td>operator:&nbsp;5<br>operands:&nbsp;6<br></td><td><a class=\"ProveItLink\" href=\"../5249b2f5d35d405e95091b62b0f887fcffe8a65e0/expr.ipynb\"><img src=\"../5249b2f5d35d405e95091b62b0f887fcffe8a65e0/expr.png\" style=\"display:inline;vertical-align:middle;\" /></a></td></tr>\n",
       "<tr><td>4</td><td>Operation</td><td>operator:&nbsp;7<br>operands:&nbsp;8<br></td><td><a class=\"ProveItLink\" href=\"../3b44940b754865d914c42eaa0ba76b5aa29daaf50/expr.ipynb\"><img src=\"../3b44940b754865d914c42eaa0ba76b5aa29daaf50/expr.png\" style=\"display:inline;vertical-align:middle;\" /></a></td></tr>\n",
       "<tr><td>5</td><td>Literal</td><td></td><td><a class=\"ProveItLink\" href=\"../../../../../../numbers/ordering/__pv_it/common/68379698d72b4689bbda4b5c5cca29ee599d70280/expr.ipynb\"><img src=\"../../../../../../numbers/ordering/__pv_it/common/68379698d72b4689bbda4b5c5cca29ee599d70280/expr.png\" style=\"display:inline;vertical-align:middle;\" /></a></td></tr>\n",
       "<tr><td>6</td><td>ExprTuple</td><td>9, 10</td><td><a class=\"ProveItLink\" href=\"../b80261206f1c37c3220ce66798cea3d1be00fb4f0/expr.ipynb\"><img src=\"../b80261206f1c37c3220ce66798cea3d1be00fb4f0/expr.png\" style=\"display:inline;vertical-align:middle;\" /></a></td></tr>\n",
       "<tr><td>7</td><td>Literal</td><td></td><td><a class=\"ProveItLink\" href=\"../../../../../../logic/sets/membership/__pv_it/common/477487d8796864d23d5810f83761435f25167f690/expr.ipynb\"><img src=\"../../../../../../logic/sets/membership/__pv_it/common/477487d8796864d23d5810f83761435f25167f690/expr.png\" style=\"display:inline;vertical-align:middle;\" /></a></td></tr>\n",
       "<tr><td>8</td><td>ExprTuple</td><td>31, 11</td><td><a class=\"ProveItLink\" href=\"../037fc12f884033e71ca28d0d82baff0df0b85e690/expr.ipynb\"><img src=\"../037fc12f884033e71ca28d0d82baff0df0b85e690/expr.png\" style=\"display:inline;vertical-align:middle;\" /></a></td></tr>\n",
       "<tr><td>9</td><td>Operation</td><td>operator:&nbsp;13<br>operands:&nbsp;12<br></td><td><a class=\"ProveItLink\" href=\"../4b68dbd6e27d81bbe95b95739cd3bf370bcdc3dc0/expr.ipynb\"><img src=\"../4b68dbd6e27d81bbe95b95739cd3bf370bcdc3dc0/expr.png\" style=\"display:inline;vertical-align:middle;\" /></a></td></tr>\n",
       "<tr><td>10</td><td>Operation</td><td>operator:&nbsp;13<br>operands:&nbsp;14<br></td><td><a class=\"ProveItLink\" href=\"../768ff1adb6b3d25b1d1b29760d6ec88a4e66ab680/expr.ipynb\"><img src=\"../768ff1adb6b3d25b1d1b29760d6ec88a4e66ab680/expr.png\" style=\"display:inline;vertical-align:middle;\" /></a></td></tr>\n",
       "<tr><td>11</td><td>Operation</td><td>operator:&nbsp;15<br>operands:&nbsp;16<br></td><td><a class=\"ProveItLink\" href=\"../../common/11daab29f734f33d5a9a3b7497304dd7d5b19a6e0/expr.ipynb\"><img src=\"../../common/11daab29f734f33d5a9a3b7497304dd7d5b19a6e0/expr.png\" style=\"display:inline;vertical-align:middle;\" /></a></td></tr>\n",
       "<tr><td>12</td><td>ExprTuple</td><td>55, 17</td><td><a class=\"ProveItLink\" href=\"../d0ce6b27e7bd6b847ada5a177c6eee7e2428e1d50/expr.ipynb\"><img src=\"../d0ce6b27e7bd6b847ada5a177c6eee7e2428e1d50/expr.png\" style=\"display:inline;vertical-align:middle;\" /></a></td></tr>\n",
       "<tr><td>13</td><td>Literal</td><td></td><td><a class=\"ProveItLink\" href=\"../../../../../../numbers/division/__pv_it/common/a2a633e1e3c749fb1f2692466b287b6348c5de840/expr.ipynb\"><img src=\"../../../../../../numbers/division/__pv_it/common/a2a633e1e3c749fb1f2692466b287b6348c5de840/expr.png\" style=\"display:inline;vertical-align:middle;\" /></a></td></tr>\n",
       "<tr><td>14</td><td>ExprTuple</td><td>55, 18</td><td><a class=\"ProveItLink\" href=\"../f091824bc4d259e6f0479970dd26e80f99a389da0/expr.ipynb\"><img src=\"../f091824bc4d259e6f0479970dd26e80f99a389da0/expr.png\" style=\"display:inline;vertical-align:middle;\" /></a></td></tr>\n",
       "<tr><td>15</td><td>Literal</td><td></td><td><a class=\"ProveItLink\" href=\"../../../../../../numbers/number_sets/integers/__pv_it/common/92f3a0a77e3c3ea8e4a5c8674edadc54e4f57d550/expr.ipynb\"><img src=\"../../../../../../numbers/number_sets/integers/__pv_it/common/92f3a0a77e3c3ea8e4a5c8674edadc54e4f57d550/expr.png\" style=\"display:inline;vertical-align:middle;\" /></a></td></tr>\n",
       "<tr><td>16</td><td>ExprTuple</td><td>19, 20</td><td><a class=\"ProveItLink\" href=\"../../common/12ce02544b1471c5a8c1154726d6097707a659a20/expr.ipynb\"><img src=\"../../common/12ce02544b1471c5a8c1154726d6097707a659a20/expr.png\" style=\"display:inline;vertical-align:middle;\" /></a></td></tr>\n",
       "<tr><td>17</td><td>Operation</td><td>operator:&nbsp;46<br>operands:&nbsp;21<br></td><td><a class=\"ProveItLink\" href=\"../aa691e94d0387924cbcf40da73a27ca0611edc100/expr.ipynb\"><img src=\"../aa691e94d0387924cbcf40da73a27ca0611edc100/expr.png\" style=\"display:inline;vertical-align:middle;\" /></a></td></tr>\n",
       "<tr><td>18</td><td>Operation</td><td>operator:&nbsp;46<br>operands:&nbsp;22<br></td><td><a class=\"ProveItLink\" href=\"../f2fdf19633813359e8ebc229f5ee0e68741ea7db0/expr.ipynb\"><img src=\"../f2fdf19633813359e8ebc229f5ee0e68741ea7db0/expr.png\" style=\"display:inline;vertical-align:middle;\" /></a></td></tr>\n",
       "<tr><td>19</td><td>Operation</td><td>operator:&nbsp;41<br>operands:&nbsp;23<br></td><td><a class=\"ProveItLink\" href=\"../../common/784dee04278eb5ffb26c65868b9ae69e9c68b9da0/expr.ipynb\"><img src=\"../../common/784dee04278eb5ffb26c65868b9ae69e9c68b9da0/expr.png\" style=\"display:inline;vertical-align:middle;\" /></a></td></tr>\n",
       "<tr><td>20</td><td>Operation</td><td>operator:&nbsp;50<br>operand:&nbsp;27<br></td><td><a class=\"ProveItLink\" href=\"../../common/fc88928b08a114ef2e12ee095c5cd52f956d6baa0/expr.ipynb\"><img src=\"../../common/fc88928b08a114ef2e12ee095c5cd52f956d6baa0/expr.png\" style=\"display:inline;vertical-align:middle;\" /></a></td></tr>\n",
       "<tr><td>21</td><td>ExprTuple</td><td>25, 52</td><td><a class=\"ProveItLink\" href=\"../5fe0d39cb0f4080a59f69daba60b97f157e1b4f30/expr.ipynb\"><img src=\"../5fe0d39cb0f4080a59f69daba60b97f157e1b4f30/expr.png\" style=\"display:inline;vertical-align:middle;\" /></a></td></tr>\n",
       "<tr><td>22</td><td>ExprTuple</td><td>31, 52</td><td><a class=\"ProveItLink\" href=\"../445d72a7755cb418c175bf3ab4a02455d77c9d170/expr.ipynb\"><img src=\"../445d72a7755cb418c175bf3ab4a02455d77c9d170/expr.png\" style=\"display:inline;vertical-align:middle;\" /></a></td></tr>\n",
       "<tr><td>23</td><td>ExprTuple</td><td>26, 55</td><td><a class=\"ProveItLink\" href=\"../../common/e64ef65a3510605025876a1d1c5a986e5d683cfe0/expr.ipynb\"><img src=\"../../common/e64ef65a3510605025876a1d1c5a986e5d683cfe0/expr.png\" style=\"display:inline;vertical-align:middle;\" /></a></td></tr>\n",
       "<tr><td>24</td><td>ExprTuple</td><td>27</td><td><a class=\"ProveItLink\" href=\"../../common/39f476670c75059d11617688abbfcd319d601f440/expr.ipynb\"><img src=\"../../common/39f476670c75059d11617688abbfcd319d601f440/expr.png\" style=\"display:inline;vertical-align:middle;\" /></a></td></tr>\n",
       "<tr><td>25</td><td>Operation</td><td>operator:&nbsp;41<br>operands:&nbsp;28<br></td><td><a class=\"ProveItLink\" href=\"../20bc4104106687573432c2d3ebadf9e0c7182b230/expr.ipynb\"><img src=\"../20bc4104106687573432c2d3ebadf9e0c7182b230/expr.png\" style=\"display:inline;vertical-align:middle;\" /></a></td></tr>\n",
       "<tr><td>26</td><td>Operation</td><td>operator:&nbsp;50<br>operand:&nbsp;33<br></td><td><a class=\"ProveItLink\" href=\"../../common/91138182b232b0ec0bb7ca2f8cd7660c0c007ade0/expr.ipynb\"><img src=\"../../common/91138182b232b0ec0bb7ca2f8cd7660c0c007ade0/expr.png\" style=\"display:inline;vertical-align:middle;\" /></a></td></tr>\n",
       "<tr><td>27</td><td>Operation</td><td>operator:&nbsp;41<br>operands:&nbsp;30<br></td><td><a class=\"ProveItLink\" href=\"../../common/3b723d66956150d062bf1f9b39de5c57b551151f0/expr.ipynb\"><img src=\"../../common/3b723d66956150d062bf1f9b39de5c57b551151f0/expr.png\" style=\"display:inline;vertical-align:middle;\" /></a></td></tr>\n",
       "<tr><td>28</td><td>ExprTuple</td><td>31, 32</td><td><a class=\"ProveItLink\" href=\"../ebfc8da859f3b8d0f3b2f14052aae73d364f4bf40/expr.ipynb\"><img src=\"../ebfc8da859f3b8d0f3b2f14052aae73d364f4bf40/expr.png\" style=\"display:inline;vertical-align:middle;\" /></a></td></tr>\n",
       "<tr><td>29</td><td>ExprTuple</td><td>33</td><td><a class=\"ProveItLink\" href=\"../../common/4c8531de79cef652de4f930d734e1b924dea0f060/expr.ipynb\"><img src=\"../../common/4c8531de79cef652de4f930d734e1b924dea0f060/expr.png\" style=\"display:inline;vertical-align:middle;\" /></a></td></tr>\n",
       "<tr><td>30</td><td>ExprTuple</td><td>34, 55</td><td><a class=\"ProveItLink\" href=\"../../common/38ea3c183eb48205d4822d9dd38df5fc701f225e0/expr.ipynb\"><img src=\"../../common/38ea3c183eb48205d4822d9dd38df5fc701f225e0/expr.png\" style=\"display:inline;vertical-align:middle;\" /></a></td></tr>\n",
       "<tr><td>31</td><td>Variable</td><td></td><td><a class=\"ProveItLink\" href=\"../../../../../../__pv_it/common/63b7c64bf9ec7a04ecc396c7a1670f3f12fb59490/expr.ipynb\"><img src=\"../../../../../../__pv_it/common/63b7c64bf9ec7a04ecc396c7a1670f3f12fb59490/expr.png\" style=\"display:inline;vertical-align:middle;\" /></a></td></tr>\n",
       "<tr><td>32</td><td>Operation</td><td>operator:&nbsp;50<br>operand:&nbsp;37<br></td><td><a class=\"ProveItLink\" href=\"../../common/8e99231b93f1e62236fa22c8eabc7be0ae1879670/expr.ipynb\"><img src=\"../../common/8e99231b93f1e62236fa22c8eabc7be0ae1879670/expr.png\" style=\"display:inline;vertical-align:middle;\" /></a></td></tr>\n",
       "<tr><td>33</td><td>Operation</td><td>operator:&nbsp;46<br>operands:&nbsp;36<br></td><td><a class=\"ProveItLink\" href=\"../../common/c88f421c8948293a287b1527f87038636fb060100/expr.ipynb\"><img src=\"../../common/c88f421c8948293a287b1527f87038636fb060100/expr.png\" style=\"display:inline;vertical-align:middle;\" /></a></td></tr>\n",
       "<tr><td>34</td><td>Variable</td><td></td><td><a class=\"ProveItLink\" href=\"../../../../../../__pv_it/common/f3b2e5223a46d6d30e0676b70270e0fb96f45ce80/expr.ipynb\"><img src=\"../../../../../../__pv_it/common/f3b2e5223a46d6d30e0676b70270e0fb96f45ce80/expr.png\" style=\"display:inline;vertical-align:middle;\" /></a></td></tr>\n",
       "<tr><td>35</td><td>ExprTuple</td><td>37</td><td><a class=\"ProveItLink\" href=\"../../common/2f3f80ede406c5103d6db4398858acfe096fc6f50/expr.ipynb\"><img src=\"../../common/2f3f80ede406c5103d6db4398858acfe096fc6f50/expr.png\" style=\"display:inline;vertical-align:middle;\" /></a></td></tr>\n",
       "<tr><td>36</td><td>ExprTuple</td><td>52, 38</td><td><a class=\"ProveItLink\" href=\"../../common/0fd4303d90d8f830fbb10e83cdadc1014dc0c7e50/expr.ipynb\"><img src=\"../../common/0fd4303d90d8f830fbb10e83cdadc1014dc0c7e50/expr.png\" style=\"display:inline;vertical-align:middle;\" /></a></td></tr>\n",
       "<tr><td>37</td><td>Operation</td><td>operator:&nbsp;39<br>operands:&nbsp;40<br></td><td><a class=\"ProveItLink\" href=\"../../common/940fcad8977dd953271c0334bf6744ba39a895a30/expr.ipynb\"><img src=\"../../common/940fcad8977dd953271c0334bf6744ba39a895a30/expr.png\" style=\"display:inline;vertical-align:middle;\" /></a></td></tr>\n",
       "<tr><td>38</td><td>Operation</td><td>operator:&nbsp;41<br>operands:&nbsp;42<br></td><td><a class=\"ProveItLink\" href=\"../../common/0ca28d9ff996a3862a4b8b87f5586f9edc717e8d0/expr.ipynb\"><img src=\"../../common/0ca28d9ff996a3862a4b8b87f5586f9edc717e8d0/expr.png\" style=\"display:inline;vertical-align:middle;\" /></a></td></tr>\n",
       "<tr><td>39</td><td>Literal</td><td></td><td><a class=\"ProveItLink\" href=\"../../../../../../numbers/multiplication/__pv_it/common/ed719cef37831779c16481533a4d380a2f95ab270/expr.ipynb\"><img src=\"../../../../../../numbers/multiplication/__pv_it/common/ed719cef37831779c16481533a4d380a2f95ab270/expr.png\" style=\"display:inline;vertical-align:middle;\" /></a></td></tr>\n",
       "<tr><td>40</td><td>ExprTuple</td><td>43, 44</td><td><a class=\"ProveItLink\" href=\"../../common/827c610c960f7cc82c804f1237e0082192f19aae0/expr.ipynb\"><img src=\"../../common/827c610c960f7cc82c804f1237e0082192f19aae0/expr.png\" style=\"display:inline;vertical-align:middle;\" /></a></td></tr>\n",
       "<tr><td>41</td><td>Literal</td><td></td><td><a class=\"ProveItLink\" href=\"../../../../../../numbers/addition/__pv_it/common/4b7effaab3619a1c2c38fe2dee8601df8ec714590/expr.ipynb\"><img src=\"../../../../../../numbers/addition/__pv_it/common/4b7effaab3619a1c2c38fe2dee8601df8ec714590/expr.png\" style=\"display:inline;vertical-align:middle;\" /></a></td></tr>\n",
       "<tr><td>42</td><td>ExprTuple</td><td>53, 45</td><td><a class=\"ProveItLink\" href=\"../../common/3d4ffcd7453a233f893c0f082066a2545b0987f70/expr.ipynb\"><img src=\"../../common/3d4ffcd7453a233f893c0f082066a2545b0987f70/expr.png\" style=\"display:inline;vertical-align:middle;\" /></a></td></tr>\n",
       "<tr><td>43</td><td>Operation</td><td>operator:&nbsp;46<br>operands:&nbsp;47<br></td><td><a class=\"ProveItLink\" href=\"../../common/18332e4e627d64eadf0d81efed19ae3e9d007d510/expr.ipynb\"><img src=\"../../common/18332e4e627d64eadf0d81efed19ae3e9d007d510/expr.png\" style=\"display:inline;vertical-align:middle;\" /></a></td></tr>\n",
       "<tr><td>44</td><td>Operation</td><td>operator:&nbsp;48<br>operand:&nbsp;54<br></td><td><a class=\"ProveItLink\" href=\"../../common/833e157257157d61cc42cb08459d50abb96eeea30/expr.ipynb\"><img src=\"../../common/833e157257157d61cc42cb08459d50abb96eeea30/expr.png\" style=\"display:inline;vertical-align:middle;\" /></a></td></tr>\n",
       "<tr><td>45</td><td>Operation</td><td>operator:&nbsp;50<br>operand:&nbsp;55<br></td><td><a class=\"ProveItLink\" href=\"../../common/bf4beda21975fe8a0a5007615b5bcc943da59bb20/expr.ipynb\"><img src=\"../../common/bf4beda21975fe8a0a5007615b5bcc943da59bb20/expr.png\" style=\"display:inline;vertical-align:middle;\" /></a></td></tr>\n",
       "<tr><td>46</td><td>Literal</td><td></td><td><a class=\"ProveItLink\" href=\"../../../../../../numbers/exponentiation/__pv_it/common/0ac37aca1e54c35c5cda09672df32d4f69f1f3020/expr.ipynb\"><img src=\"../../../../../../numbers/exponentiation/__pv_it/common/0ac37aca1e54c35c5cda09672df32d4f69f1f3020/expr.png\" style=\"display:inline;vertical-align:middle;\" /></a></td></tr>\n",
       "<tr><td>47</td><td>ExprTuple</td><td>52, 53</td><td><a class=\"ProveItLink\" href=\"../../common/e32fd834a589b0231aa39da242e9381ec87261b00/expr.ipynb\"><img src=\"../../common/e32fd834a589b0231aa39da242e9381ec87261b00/expr.png\" style=\"display:inline;vertical-align:middle;\" /></a></td></tr>\n",
       "<tr><td>48</td><td>Literal</td><td></td><td><a class=\"ProveItLink\" href=\"../../common/d6b97444617188a78c398568a10ac4dbe1ffa6590/expr.ipynb\"><img src=\"../../common/d6b97444617188a78c398568a10ac4dbe1ffa6590/expr.png\" style=\"display:inline;vertical-align:middle;\" /></a></td></tr>\n",
       "<tr><td>49</td><td>ExprTuple</td><td>54</td><td><a class=\"ProveItLink\" href=\"../../common/8eec66445df3903052bd360ac92a5d6d7e9760f80/expr.ipynb\"><img src=\"../../common/8eec66445df3903052bd360ac92a5d6d7e9760f80/expr.png\" style=\"display:inline;vertical-align:middle;\" /></a></td></tr>\n",
       "<tr><td>50</td><td>Literal</td><td></td><td><a class=\"ProveItLink\" href=\"../../../../../../numbers/negation/__pv_it/common/221b3c4d1770ee9051b7c044c3f9ec61196fc34b0/expr.ipynb\"><img src=\"../../../../../../numbers/negation/__pv_it/common/221b3c4d1770ee9051b7c044c3f9ec61196fc34b0/expr.png\" style=\"display:inline;vertical-align:middle;\" /></a></td></tr>\n",
       "<tr><td>51</td><td>ExprTuple</td><td>55</td><td><a class=\"ProveItLink\" href=\"../../../../__pv_it/common/b9e4f0dffece176bbe2f36127440684a20e0468e0/expr.ipynb\"><img src=\"../../../../__pv_it/common/b9e4f0dffece176bbe2f36127440684a20e0468e0/expr.png\" style=\"display:inline;vertical-align:middle;\" /></a></td></tr>\n",
       "<tr><td>52</td><td>Literal</td><td></td><td><a class=\"ProveItLink\" href=\"../../../../../../numbers/numerals/__pv_it/common/af4aab8a07465db063742696e006d04670f30cf10/expr.ipynb\"><img src=\"../../../../../../numbers/numerals/__pv_it/common/af4aab8a07465db063742696e006d04670f30cf10/expr.png\" style=\"display:inline;vertical-align:middle;\" /></a></td></tr>\n",
       "<tr><td>53</td><td>Literal</td><td></td><td><a class=\"ProveItLink\" href=\"../../common/977cc67717328e22c93f8ab84e6a45e8cadce7790/expr.ipynb\"><img src=\"../../common/977cc67717328e22c93f8ab84e6a45e8cadce7790/expr.png\" style=\"display:inline;vertical-align:middle;\" /></a></td></tr>\n",
       "<tr><td>54</td><td>Literal</td><td></td><td><a class=\"ProveItLink\" href=\"../../common/d330793052bb239ae69702166b1d364acbd6f04c0/expr.ipynb\"><img src=\"../../common/d330793052bb239ae69702166b1d364acbd6f04c0/expr.png\" style=\"display:inline;vertical-align:middle;\" /></a></td></tr>\n",
       "<tr><td>55</td><td>Literal</td><td></td><td><a class=\"ProveItLink\" href=\"../../../../../../numbers/numerals/__pv_it/common/682157d4892d216d9e5626ed533aff9b56b9506e0/expr.ipynb\"><img src=\"../../../../../../numbers/numerals/__pv_it/common/682157d4892d216d9e5626ed533aff9b56b9506e0/expr.png\" style=\"display:inline;vertical-align:middle;\" /></a></td></tr>\n",
       "</table>\n"
      ],
      "text/plain": [
       "0. k -> {(1 / (k - (2^{t} * delta_{b_{f}}))^{2}) <= (1 / k^{2}) if k in {-2^{t - 1} + 1 .. -(e + 1)}.\n",
       "   core type: Lambda\n",
       "   parameter: 31\n",
       "   body: 2\n",
       "1. (k)\n",
       "   core type: ExprTuple\n",
       "   sub-expressions: 31\n",
       "2. {(1 / (k - (2^{t} * delta_{b_{f}}))^{2}) <= (1 / k^{2}) if k in {-2^{t - 1} + 1 .. -(e + 1)}.\n",
       "   core type: Conditional\n",
       "   value: 3\n",
       "   condition: 4\n",
       "3. (1 / (k - (2^{t} * delta_{b_{f}}))^{2}) <= (1 / k^{2})\n",
       "   core type: Operation\n",
       "   operator: 5\n",
       "   operands: 6\n",
       "4. k in {-2^{t - 1} + 1 .. -(e + 1)}\n",
       "   core type: Operation\n",
       "   operator: 7\n",
       "   operands: 8\n",
       "5. <=\n",
       "   core type: Literal\n",
       "   sub-expressions: \n",
       "6. (1 / (k - (2^{t} * delta_{b_{f}}))^{2}, 1 / k^{2})\n",
       "   core type: ExprTuple\n",
       "   sub-expressions: 9, 10\n",
       "7. in\n",
       "   core type: Literal\n",
       "   sub-expressions: \n",
       "8. (k, {-2^{t - 1} + 1 .. -(e + 1)})\n",
       "   core type: ExprTuple\n",
       "   sub-expressions: 31, 11\n",
       "9. 1 / (k - (2^{t} * delta_{b_{f}}))^{2}\n",
       "   core type: Operation\n",
       "   operator: 13\n",
       "   operands: 12\n",
       "10. 1 / k^{2}\n",
       "    core type: Operation\n",
       "    operator: 13\n",
       "    operands: 14\n",
       "11. {-2^{t - 1} + 1 .. -(e + 1)}\n",
       "    core type: Operation\n",
       "    operator: 15\n",
       "    operands: 16\n",
       "12. (1, (k - (2^{t} * delta_{b_{f}}))^{2})\n",
       "    core type: ExprTuple\n",
       "    sub-expressions: 55, 17\n",
       "13. /\n",
       "    core type: Literal\n",
       "    sub-expressions: \n",
       "14. (1, k^{2})\n",
       "    core type: ExprTuple\n",
       "    sub-expressions: 55, 18\n",
       "15. Interval\n",
       "    core type: Literal\n",
       "    sub-expressions: \n",
       "16. (-2^{t - 1} + 1, -(e + 1))\n",
       "    core type: ExprTuple\n",
       "    sub-expressions: 19, 20\n",
       "17. (k - (2^{t} * delta_{b_{f}}))^{2}\n",
       "    core type: Operation\n",
       "    operator: 46\n",
       "    operands: 21\n",
       "18. k^{2}\n",
       "    core type: Operation\n",
       "    operator: 46\n",
       "    operands: 22\n",
       "19. -2^{t - 1} + 1\n",
       "    core type: Operation\n",
       "    operator: 41\n",
       "    operands: 23\n",
       "20. -(e + 1)\n",
       "    core type: Operation\n",
       "    operator: 50\n",
       "    operand: 27\n",
       "21. (k - (2^{t} * delta_{b_{f}}), 2)\n",
       "    core type: ExprTuple\n",
       "    sub-expressions: 25, 52\n",
       "22. (k, 2)\n",
       "    core type: ExprTuple\n",
       "    sub-expressions: 31, 52\n",
       "23. (-2^{t - 1}, 1)\n",
       "    core type: ExprTuple\n",
       "    sub-expressions: 26, 55\n",
       "24. (e + 1)\n",
       "    core type: ExprTuple\n",
       "    sub-expressions: 27\n",
       "25. k - (2^{t} * delta_{b_{f}})\n",
       "    core type: Operation\n",
       "    operator: 41\n",
       "    operands: 28\n",
       "26. -2^{t - 1}\n",
       "    core type: Operation\n",
       "    operator: 50\n",
       "    operand: 33\n",
       "27. e + 1\n",
       "    core type: Operation\n",
       "    operator: 41\n",
       "    operands: 30\n",
       "28. (k, -(2^{t} * delta_{b_{f}}))\n",
       "    core type: ExprTuple\n",
       "    sub-expressions: 31, 32\n",
       "29. (2^{t - 1})\n",
       "    core type: ExprTuple\n",
       "    sub-expressions: 33\n",
       "30. (e, 1)\n",
       "    core type: ExprTuple\n",
       "    sub-expressions: 34, 55\n",
       "31. k\n",
       "    core type: Variable\n",
       "    sub-expressions: \n",
       "32. -(2^{t} * delta_{b_{f}})\n",
       "    core type: Operation\n",
       "    operator: 50\n",
       "    operand: 37\n",
       "33. 2^{t - 1}\n",
       "    core type: Operation\n",
       "    operator: 46\n",
       "    operands: 36\n",
       "34. e\n",
       "    core type: Variable\n",
       "    sub-expressions: \n",
       "35. (2^{t} * delta_{b_{f}})\n",
       "    core type: ExprTuple\n",
       "    sub-expressions: 37\n",
       "36. (2, t - 1)\n",
       "    core type: ExprTuple\n",
       "    sub-expressions: 52, 38\n",
       "37. 2^{t} * delta_{b_{f}}\n",
       "    core type: Operation\n",
       "    operator: 39\n",
       "    operands: 40\n",
       "38. t - 1\n",
       "    core type: Operation\n",
       "    operator: 41\n",
       "    operands: 42\n",
       "39. *\n",
       "    core type: Literal\n",
       "    sub-expressions: \n",
       "40. (2^{t}, delta_{b_{f}})\n",
       "    core type: ExprTuple\n",
       "    sub-expressions: 43, 44\n",
       "41. +\n",
       "    core type: Literal\n",
       "    sub-expressions: \n",
       "42. (t, -1)\n",
       "    core type: ExprTuple\n",
       "    sub-expressions: 53, 45\n",
       "43. 2^{t}\n",
       "    core type: Operation\n",
       "    operator: 46\n",
       "    operands: 47\n",
       "44. delta_{b_{f}}\n",
       "    core type: Operation\n",
       "    operator: 48\n",
       "    operand: 54\n",
       "45. -1\n",
       "    core type: Operation\n",
       "    operator: 50\n",
       "    operand: 55\n",
       "46. Exp\n",
       "    core type: Literal\n",
       "    sub-expressions: \n",
       "47. (2, t)\n",
       "    core type: ExprTuple\n",
       "    sub-expressions: 52, 53\n",
       "48. delta\n",
       "    core type: Literal\n",
       "    sub-expressions: \n",
       "49. (b_{f})\n",
       "    core type: ExprTuple\n",
       "    sub-expressions: 54\n",
       "50. -\n",
       "    core type: Literal\n",
       "    sub-expressions: \n",
       "51. (1)\n",
       "    core type: ExprTuple\n",
       "    sub-expressions: 55\n",
       "52. 2\n",
       "    core type: Literal\n",
       "    sub-expressions: \n",
       "53. t\n",
       "    core type: Literal\n",
       "    sub-expressions: \n",
       "54. b_{f}\n",
       "    core type: Literal\n",
       "    sub-expressions: \n",
       "55. 1\n",
       "    core type: Literal\n",
       "    sub-expressions: "
      ]
     },
     "metadata": {},
     "output_type": "display_data"
    }
   ],
   "source": [
    "# display the expression information\n",
    "stored_expr.expr_info()"
   ]
  },
  {
   "cell_type": "code",
   "execution_count": null,
   "metadata": {},
   "outputs": [],
   "source": []
  }
 ],
 "metadata": {
  "kernelspec": {
   "display_name": "Python 3",
   "language": "python",
   "name": "python3"
  }
 },
 "nbformat": 4,
 "nbformat_minor": 0
}