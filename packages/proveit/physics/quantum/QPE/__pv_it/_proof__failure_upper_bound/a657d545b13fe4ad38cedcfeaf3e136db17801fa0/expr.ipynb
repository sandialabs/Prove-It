{
 "cells": [
  {
   "cell_type": "markdown",
   "metadata": {},
   "source": [
    "Expression of type <a class=\"ProveItLink\" href=\"../../../../../../../../doc/html/api/proveit.ExprTuple.html\">ExprTuple</a>\n",
    "=======================\n",
    "# from the theory of <a class=\"ProveItLink\" href=\"../../../_theory_nbs_/theory.ipynb\">proveit.physics.quantum.QPE</a>"
   ]
  },
  {
   "cell_type": "code",
   "execution_count": 1,
   "metadata": {},
   "outputs": [],
   "source": [
    "import proveit\n",
    "# Automation is not needed when building an expression:\n",
    "proveit.defaults.automation = False # This will speed things up.\n",
    "proveit.defaults.inline_pngs = False # Makes files smaller.\n",
    "%load_expr # Load the stored expression as 'stored_expr'\n",
    "# import Expression classes needed to build the expression\n",
    "from proveit import Conditional, ExprTuple, Lambda, l\n",
    "from proveit.logic import InSet\n",
    "from proveit.numbers import Exp, Real, frac, one, two\n",
    "from proveit.physics.quantum.QPE import _neg_domain"
   ]
  },
  {
   "cell_type": "code",
   "execution_count": 2,
   "metadata": {},
   "outputs": [
    {
     "data": {
      "text/html": [
       "<strong id=\"expr\">expr:</strong> <a class=\"ProveItLink\" href=\"expr.ipynb\"><img src=\"expr.png\" style=\"display:inline;vertical-align:middle;\" /></a><br>"
      ],
      "text/plain": [
       "<IPython.core.display.HTML object>"
      ]
     },
     "metadata": {},
     "output_type": "display_data"
    }
   ],
   "source": [
    "# build up the expression from sub-expressions\n",
    "expr = ExprTuple(Lambda(l, Conditional(InSet(frac(one, Exp(l, two)), Real), InSet(l, _neg_domain))))"
   ]
  },
  {
   "cell_type": "code",
   "execution_count": 3,
   "metadata": {},
   "outputs": [
    {
     "name": "stdout",
     "output_type": "stream",
     "text": [
      "Passed sanity check: expr matches stored_expr\n"
     ]
    }
   ],
   "source": [
    "# check that the built expression is the same as the stored expression\n",
    "assert expr == stored_expr\n",
    "assert expr._style_id == stored_expr._style_id\n",
    "print(\"Passed sanity check: expr matches stored_expr\")"
   ]
  },
  {
   "cell_type": "code",
   "execution_count": 4,
   "metadata": {},
   "outputs": [
    {
     "name": "stdout",
     "output_type": "stream",
     "text": [
      "\\left(l \\mapsto \\left\\{\\frac{1}{l^{2}} \\in \\mathbb{R} \\textrm{ if } l \\in \\{-2^{t - 1} + 1~\\ldotp \\ldotp~-\\left(e + 1\\right)\\}\\right..\\right)\n"
     ]
    }
   ],
   "source": [
    "# Show the LaTeX representation of the expression for convenience if you need it.\n",
    "print(stored_expr.latex())"
   ]
  },
  {
   "cell_type": "code",
   "execution_count": 5,
   "metadata": {},
   "outputs": [
    {
     "data": {
      "text/html": [
       "no style options"
      ],
      "text/plain": [
       "no style options"
      ]
     },
     "metadata": {},
     "output_type": "display_data"
    }
   ],
   "source": [
    "stored_expr.style_options()"
   ]
  },
  {
   "cell_type": "code",
   "execution_count": 6,
   "metadata": {},
   "outputs": [
    {
     "data": {
      "text/html": [
       "<table><tr><th>&nbsp;</th><th>core type</th><th>sub-expressions</th><th>expression</th></tr>\n",
       "<tr><td>0</td><td>ExprTuple</td><td>1</td><td><a class=\"ProveItLink\" href=\"expr.ipynb\"><img src=\"expr.png\" style=\"display:inline;vertical-align:middle;\" /></a></td></tr>\n",
       "<tr><td>1</td><td>Lambda</td><td>parameter:&nbsp;22<br>body:&nbsp;3<br></td><td><a class=\"ProveItLink\" href=\"../431dd48e5cf9466ce0c1fddebc13b4dbbd215cb70/expr.ipynb\"><img src=\"../431dd48e5cf9466ce0c1fddebc13b4dbbd215cb70/expr.png\" style=\"display:inline;vertical-align:middle;\" /></a></td></tr>\n",
       "<tr><td>2</td><td>ExprTuple</td><td>22</td><td><a class=\"ProveItLink\" href=\"../../common/039a14dbb9d0bf99f342285bcbd227a70d804d7f0/expr.ipynb\"><img src=\"../../common/039a14dbb9d0bf99f342285bcbd227a70d804d7f0/expr.png\" style=\"display:inline;vertical-align:middle;\" /></a></td></tr>\n",
       "<tr><td>3</td><td>Conditional</td><td>value:&nbsp;4<br>condition:&nbsp;5<br></td><td><a class=\"ProveItLink\" href=\"../3597ba5bf2fb02a34d3a873ee64de240ff7cec420/expr.ipynb\"><img src=\"../3597ba5bf2fb02a34d3a873ee64de240ff7cec420/expr.png\" style=\"display:inline;vertical-align:middle;\" /></a></td></tr>\n",
       "<tr><td>4</td><td>Operation</td><td>operator:&nbsp;7<br>operands:&nbsp;6<br></td><td><a class=\"ProveItLink\" href=\"../c9100c0b6b3ee27f487d02c7a0fcd76248b011d80/expr.ipynb\"><img src=\"../c9100c0b6b3ee27f487d02c7a0fcd76248b011d80/expr.png\" style=\"display:inline;vertical-align:middle;\" /></a></td></tr>\n",
       "<tr><td>5</td><td>Operation</td><td>operator:&nbsp;7<br>operands:&nbsp;8<br></td><td><a class=\"ProveItLink\" href=\"../../theorems/bb8428576c5e9aef5059458d15ab082fff89783c0/expr.ipynb\"><img src=\"../../theorems/bb8428576c5e9aef5059458d15ab082fff89783c0/expr.png\" style=\"display:inline;vertical-align:middle;\" /></a></td></tr>\n",
       "<tr><td>6</td><td>ExprTuple</td><td>9, 10</td><td><a class=\"ProveItLink\" href=\"../cc33701bd26fe52d9c162925b2753937df1e1d870/expr.ipynb\"><img src=\"../cc33701bd26fe52d9c162925b2753937df1e1d870/expr.png\" style=\"display:inline;vertical-align:middle;\" /></a></td></tr>\n",
       "<tr><td>7</td><td>Literal</td><td></td><td><a class=\"ProveItLink\" href=\"../../../../../../logic/sets/membership/__pv_it/common/477487d8796864d23d5810f83761435f25167f690/expr.ipynb\"><img src=\"../../../../../../logic/sets/membership/__pv_it/common/477487d8796864d23d5810f83761435f25167f690/expr.png\" style=\"display:inline;vertical-align:middle;\" /></a></td></tr>\n",
       "<tr><td>8</td><td>ExprTuple</td><td>22, 11</td><td><a class=\"ProveItLink\" href=\"../../theorems/78ce6f6d075844dd86546d9d9bbfec2edd48881c0/expr.ipynb\"><img src=\"../../theorems/78ce6f6d075844dd86546d9d9bbfec2edd48881c0/expr.png\" style=\"display:inline;vertical-align:middle;\" /></a></td></tr>\n",
       "<tr><td>9</td><td>Operation</td><td>operator:&nbsp;12<br>operands:&nbsp;13<br></td><td><a class=\"ProveItLink\" href=\"../9d532336847eabb46e6c41e157fcacfc60d604d80/expr.ipynb\"><img src=\"../9d532336847eabb46e6c41e157fcacfc60d604d80/expr.png\" style=\"display:inline;vertical-align:middle;\" /></a></td></tr>\n",
       "<tr><td>10</td><td>Literal</td><td></td><td><a class=\"ProveItLink\" href=\"../../../../../../numbers/number_sets/real_numbers/__pv_it/common/93cac87a1a47e613f7a83b23ef7891599a1a4cca0/expr.ipynb\"><img src=\"../../../../../../numbers/number_sets/real_numbers/__pv_it/common/93cac87a1a47e613f7a83b23ef7891599a1a4cca0/expr.png\" style=\"display:inline;vertical-align:middle;\" /></a></td></tr>\n",
       "<tr><td>11</td><td>Operation</td><td>operator:&nbsp;14<br>operands:&nbsp;15<br></td><td><a class=\"ProveItLink\" href=\"../../common/11daab29f734f33d5a9a3b7497304dd7d5b19a6e0/expr.ipynb\"><img src=\"../../common/11daab29f734f33d5a9a3b7497304dd7d5b19a6e0/expr.png\" style=\"display:inline;vertical-align:middle;\" /></a></td></tr>\n",
       "<tr><td>12</td><td>Literal</td><td></td><td><a class=\"ProveItLink\" href=\"../../../../../../numbers/division/__pv_it/common/a2a633e1e3c749fb1f2692466b287b6348c5de840/expr.ipynb\"><img src=\"../../../../../../numbers/division/__pv_it/common/a2a633e1e3c749fb1f2692466b287b6348c5de840/expr.png\" style=\"display:inline;vertical-align:middle;\" /></a></td></tr>\n",
       "<tr><td>13</td><td>ExprTuple</td><td>39, 16</td><td><a class=\"ProveItLink\" href=\"../eafe3d91b602274c3914fde30a5c2d3723f6fd430/expr.ipynb\"><img src=\"../eafe3d91b602274c3914fde30a5c2d3723f6fd430/expr.png\" style=\"display:inline;vertical-align:middle;\" /></a></td></tr>\n",
       "<tr><td>14</td><td>Literal</td><td></td><td><a class=\"ProveItLink\" href=\"../../../../../../numbers/number_sets/integers/__pv_it/common/92f3a0a77e3c3ea8e4a5c8674edadc54e4f57d550/expr.ipynb\"><img src=\"../../../../../../numbers/number_sets/integers/__pv_it/common/92f3a0a77e3c3ea8e4a5c8674edadc54e4f57d550/expr.png\" style=\"display:inline;vertical-align:middle;\" /></a></td></tr>\n",
       "<tr><td>15</td><td>ExprTuple</td><td>17, 18</td><td><a class=\"ProveItLink\" href=\"../../common/12ce02544b1471c5a8c1154726d6097707a659a20/expr.ipynb\"><img src=\"../../common/12ce02544b1471c5a8c1154726d6097707a659a20/expr.png\" style=\"display:inline;vertical-align:middle;\" /></a></td></tr>\n",
       "<tr><td>16</td><td>Operation</td><td>operator:&nbsp;29<br>operands:&nbsp;19<br></td><td><a class=\"ProveItLink\" href=\"../efb78441b62fa90bb12a9895970f8b1d9ef1b78e0/expr.ipynb\"><img src=\"../efb78441b62fa90bb12a9895970f8b1d9ef1b78e0/expr.png\" style=\"display:inline;vertical-align:middle;\" /></a></td></tr>\n",
       "<tr><td>17</td><td>Operation</td><td>operator:&nbsp;33<br>operands:&nbsp;20<br></td><td><a class=\"ProveItLink\" href=\"../../common/784dee04278eb5ffb26c65868b9ae69e9c68b9da0/expr.ipynb\"><img src=\"../../common/784dee04278eb5ffb26c65868b9ae69e9c68b9da0/expr.png\" style=\"display:inline;vertical-align:middle;\" /></a></td></tr>\n",
       "<tr><td>18</td><td>Operation</td><td>operator:&nbsp;37<br>operand:&nbsp;24<br></td><td><a class=\"ProveItLink\" href=\"../../common/fc88928b08a114ef2e12ee095c5cd52f956d6baa0/expr.ipynb\"><img src=\"../../common/fc88928b08a114ef2e12ee095c5cd52f956d6baa0/expr.png\" style=\"display:inline;vertical-align:middle;\" /></a></td></tr>\n",
       "<tr><td>19</td><td>ExprTuple</td><td>22, 31</td><td><a class=\"ProveItLink\" href=\"../4823760a2c42ec9795778b13d184268a4cbb308a0/expr.ipynb\"><img src=\"../4823760a2c42ec9795778b13d184268a4cbb308a0/expr.png\" style=\"display:inline;vertical-align:middle;\" /></a></td></tr>\n",
       "<tr><td>20</td><td>ExprTuple</td><td>23, 39</td><td><a class=\"ProveItLink\" href=\"../../common/e64ef65a3510605025876a1d1c5a986e5d683cfe0/expr.ipynb\"><img src=\"../../common/e64ef65a3510605025876a1d1c5a986e5d683cfe0/expr.png\" style=\"display:inline;vertical-align:middle;\" /></a></td></tr>\n",
       "<tr><td>21</td><td>ExprTuple</td><td>24</td><td><a class=\"ProveItLink\" href=\"../../common/39f476670c75059d11617688abbfcd319d601f440/expr.ipynb\"><img src=\"../../common/39f476670c75059d11617688abbfcd319d601f440/expr.png\" style=\"display:inline;vertical-align:middle;\" /></a></td></tr>\n",
       "<tr><td>22</td><td>Variable</td><td></td><td><a class=\"ProveItLink\" href=\"../../../../../../__pv_it/common/27cc275d44b4f4499fb9ccfb3fab1a98165d2fa60/expr.ipynb\"><img src=\"../../../../../../__pv_it/common/27cc275d44b4f4499fb9ccfb3fab1a98165d2fa60/expr.png\" style=\"display:inline;vertical-align:middle;\" /></a></td></tr>\n",
       "<tr><td>23</td><td>Operation</td><td>operator:&nbsp;37<br>operand:&nbsp;27<br></td><td><a class=\"ProveItLink\" href=\"../../common/91138182b232b0ec0bb7ca2f8cd7660c0c007ade0/expr.ipynb\"><img src=\"../../common/91138182b232b0ec0bb7ca2f8cd7660c0c007ade0/expr.png\" style=\"display:inline;vertical-align:middle;\" /></a></td></tr>\n",
       "<tr><td>24</td><td>Operation</td><td>operator:&nbsp;33<br>operands:&nbsp;26<br></td><td><a class=\"ProveItLink\" href=\"../../common/3b723d66956150d062bf1f9b39de5c57b551151f0/expr.ipynb\"><img src=\"../../common/3b723d66956150d062bf1f9b39de5c57b551151f0/expr.png\" style=\"display:inline;vertical-align:middle;\" /></a></td></tr>\n",
       "<tr><td>25</td><td>ExprTuple</td><td>27</td><td><a class=\"ProveItLink\" href=\"../../common/4c8531de79cef652de4f930d734e1b924dea0f060/expr.ipynb\"><img src=\"../../common/4c8531de79cef652de4f930d734e1b924dea0f060/expr.png\" style=\"display:inline;vertical-align:middle;\" /></a></td></tr>\n",
       "<tr><td>26</td><td>ExprTuple</td><td>28, 39</td><td><a class=\"ProveItLink\" href=\"../../common/38ea3c183eb48205d4822d9dd38df5fc701f225e0/expr.ipynb\"><img src=\"../../common/38ea3c183eb48205d4822d9dd38df5fc701f225e0/expr.png\" style=\"display:inline;vertical-align:middle;\" /></a></td></tr>\n",
       "<tr><td>27</td><td>Operation</td><td>operator:&nbsp;29<br>operands:&nbsp;30<br></td><td><a class=\"ProveItLink\" href=\"../../common/c88f421c8948293a287b1527f87038636fb060100/expr.ipynb\"><img src=\"../../common/c88f421c8948293a287b1527f87038636fb060100/expr.png\" style=\"display:inline;vertical-align:middle;\" /></a></td></tr>\n",
       "<tr><td>28</td><td>Variable</td><td></td><td><a class=\"ProveItLink\" href=\"../../../../../../__pv_it/common/f3b2e5223a46d6d30e0676b70270e0fb96f45ce80/expr.ipynb\"><img src=\"../../../../../../__pv_it/common/f3b2e5223a46d6d30e0676b70270e0fb96f45ce80/expr.png\" style=\"display:inline;vertical-align:middle;\" /></a></td></tr>\n",
       "<tr><td>29</td><td>Literal</td><td></td><td><a class=\"ProveItLink\" href=\"../../../../../../numbers/exponentiation/__pv_it/common/0ac37aca1e54c35c5cda09672df32d4f69f1f3020/expr.ipynb\"><img src=\"../../../../../../numbers/exponentiation/__pv_it/common/0ac37aca1e54c35c5cda09672df32d4f69f1f3020/expr.png\" style=\"display:inline;vertical-align:middle;\" /></a></td></tr>\n",
       "<tr><td>30</td><td>ExprTuple</td><td>31, 32</td><td><a class=\"ProveItLink\" href=\"../../common/0fd4303d90d8f830fbb10e83cdadc1014dc0c7e50/expr.ipynb\"><img src=\"../../common/0fd4303d90d8f830fbb10e83cdadc1014dc0c7e50/expr.png\" style=\"display:inline;vertical-align:middle;\" /></a></td></tr>\n",
       "<tr><td>31</td><td>Literal</td><td></td><td><a class=\"ProveItLink\" href=\"../../../../../../numbers/numerals/__pv_it/common/af4aab8a07465db063742696e006d04670f30cf10/expr.ipynb\"><img src=\"../../../../../../numbers/numerals/__pv_it/common/af4aab8a07465db063742696e006d04670f30cf10/expr.png\" style=\"display:inline;vertical-align:middle;\" /></a></td></tr>\n",
       "<tr><td>32</td><td>Operation</td><td>operator:&nbsp;33<br>operands:&nbsp;34<br></td><td><a class=\"ProveItLink\" href=\"../../common/0ca28d9ff996a3862a4b8b87f5586f9edc717e8d0/expr.ipynb\"><img src=\"../../common/0ca28d9ff996a3862a4b8b87f5586f9edc717e8d0/expr.png\" style=\"display:inline;vertical-align:middle;\" /></a></td></tr>\n",
       "<tr><td>33</td><td>Literal</td><td></td><td><a class=\"ProveItLink\" href=\"../../../../../../numbers/addition/__pv_it/common/4b7effaab3619a1c2c38fe2dee8601df8ec714590/expr.ipynb\"><img src=\"../../../../../../numbers/addition/__pv_it/common/4b7effaab3619a1c2c38fe2dee8601df8ec714590/expr.png\" style=\"display:inline;vertical-align:middle;\" /></a></td></tr>\n",
       "<tr><td>34</td><td>ExprTuple</td><td>35, 36</td><td><a class=\"ProveItLink\" href=\"../../common/3d4ffcd7453a233f893c0f082066a2545b0987f70/expr.ipynb\"><img src=\"../../common/3d4ffcd7453a233f893c0f082066a2545b0987f70/expr.png\" style=\"display:inline;vertical-align:middle;\" /></a></td></tr>\n",
       "<tr><td>35</td><td>Literal</td><td></td><td><a class=\"ProveItLink\" href=\"../../common/977cc67717328e22c93f8ab84e6a45e8cadce7790/expr.ipynb\"><img src=\"../../common/977cc67717328e22c93f8ab84e6a45e8cadce7790/expr.png\" style=\"display:inline;vertical-align:middle;\" /></a></td></tr>\n",
       "<tr><td>36</td><td>Operation</td><td>operator:&nbsp;37<br>operand:&nbsp;39<br></td><td><a class=\"ProveItLink\" href=\"../../common/bf4beda21975fe8a0a5007615b5bcc943da59bb20/expr.ipynb\"><img src=\"../../common/bf4beda21975fe8a0a5007615b5bcc943da59bb20/expr.png\" style=\"display:inline;vertical-align:middle;\" /></a></td></tr>\n",
       "<tr><td>37</td><td>Literal</td><td></td><td><a class=\"ProveItLink\" href=\"../../../../../../numbers/negation/__pv_it/common/221b3c4d1770ee9051b7c044c3f9ec61196fc34b0/expr.ipynb\"><img src=\"../../../../../../numbers/negation/__pv_it/common/221b3c4d1770ee9051b7c044c3f9ec61196fc34b0/expr.png\" style=\"display:inline;vertical-align:middle;\" /></a></td></tr>\n",
       "<tr><td>38</td><td>ExprTuple</td><td>39</td><td><a class=\"ProveItLink\" href=\"../../common/b9e4f0dffece176bbe2f36127440684a20e0468e0/expr.ipynb\"><img src=\"../../common/b9e4f0dffece176bbe2f36127440684a20e0468e0/expr.png\" style=\"display:inline;vertical-align:middle;\" /></a></td></tr>\n",
       "<tr><td>39</td><td>Literal</td><td></td><td><a class=\"ProveItLink\" href=\"../../../../../../numbers/numerals/__pv_it/common/682157d4892d216d9e5626ed533aff9b56b9506e0/expr.ipynb\"><img src=\"../../../../../../numbers/numerals/__pv_it/common/682157d4892d216d9e5626ed533aff9b56b9506e0/expr.png\" style=\"display:inline;vertical-align:middle;\" /></a></td></tr>\n",
       "</table>\n"
      ],
      "text/plain": [
       "0. (l -> {(1 / l^{2}) in Real if l in {-2^{t - 1} + 1 .. -(e + 1)}.)\n",
       "   core type: ExprTuple\n",
       "   sub-expressions: 1\n",
       "1. l -> {(1 / l^{2}) in Real if l in {-2^{t - 1} + 1 .. -(e + 1)}.\n",
       "   core type: Lambda\n",
       "   parameter: 22\n",
       "   body: 3\n",
       "2. (l)\n",
       "   core type: ExprTuple\n",
       "   sub-expressions: 22\n",
       "3. {(1 / l^{2}) in Real if l in {-2^{t - 1} + 1 .. -(e + 1)}.\n",
       "   core type: Conditional\n",
       "   value: 4\n",
       "   condition: 5\n",
       "4. (1 / l^{2}) in Real\n",
       "   core type: Operation\n",
       "   operator: 7\n",
       "   operands: 6\n",
       "5. l in {-2^{t - 1} + 1 .. -(e + 1)}\n",
       "   core type: Operation\n",
       "   operator: 7\n",
       "   operands: 8\n",
       "6. (1 / l^{2}, Real)\n",
       "   core type: ExprTuple\n",
       "   sub-expressions: 9, 10\n",
       "7. in\n",
       "   core type: Literal\n",
       "   sub-expressions: \n",
       "8. (l, {-2^{t - 1} + 1 .. -(e + 1)})\n",
       "   core type: ExprTuple\n",
       "   sub-expressions: 22, 11\n",
       "9. 1 / l^{2}\n",
       "   core type: Operation\n",
       "   operator: 12\n",
       "   operands: 13\n",
       "10. Real\n",
       "    core type: Literal\n",
       "    sub-expressions: \n",
       "11. {-2^{t - 1} + 1 .. -(e + 1)}\n",
       "    core type: Operation\n",
       "    operator: 14\n",
       "    operands: 15\n",
       "12. /\n",
       "    core type: Literal\n",
       "    sub-expressions: \n",
       "13. (1, l^{2})\n",
       "    core type: ExprTuple\n",
       "    sub-expressions: 39, 16\n",
       "14. Interval\n",
       "    core type: Literal\n",
       "    sub-expressions: \n",
       "15. (-2^{t - 1} + 1, -(e + 1))\n",
       "    core type: ExprTuple\n",
       "    sub-expressions: 17, 18\n",
       "16. l^{2}\n",
       "    core type: Operation\n",
       "    operator: 29\n",
       "    operands: 19\n",
       "17. -2^{t - 1} + 1\n",
       "    core type: Operation\n",
       "    operator: 33\n",
       "    operands: 20\n",
       "18. -(e + 1)\n",
       "    core type: Operation\n",
       "    operator: 37\n",
       "    operand: 24\n",
       "19. (l, 2)\n",
       "    core type: ExprTuple\n",
       "    sub-expressions: 22, 31\n",
       "20. (-2^{t - 1}, 1)\n",
       "    core type: ExprTuple\n",
       "    sub-expressions: 23, 39\n",
       "21. (e + 1)\n",
       "    core type: ExprTuple\n",
       "    sub-expressions: 24\n",
       "22. l\n",
       "    core type: Variable\n",
       "    sub-expressions: \n",
       "23. -2^{t - 1}\n",
       "    core type: Operation\n",
       "    operator: 37\n",
       "    operand: 27\n",
       "24. e + 1\n",
       "    core type: Operation\n",
       "    operator: 33\n",
       "    operands: 26\n",
       "25. (2^{t - 1})\n",
       "    core type: ExprTuple\n",
       "    sub-expressions: 27\n",
       "26. (e, 1)\n",
       "    core type: ExprTuple\n",
       "    sub-expressions: 28, 39\n",
       "27. 2^{t - 1}\n",
       "    core type: Operation\n",
       "    operator: 29\n",
       "    operands: 30\n",
       "28. e\n",
       "    core type: Variable\n",
       "    sub-expressions: \n",
       "29. Exp\n",
       "    core type: Literal\n",
       "    sub-expressions: \n",
       "30. (2, t - 1)\n",
       "    core type: ExprTuple\n",
       "    sub-expressions: 31, 32\n",
       "31. 2\n",
       "    core type: Literal\n",
       "    sub-expressions: \n",
       "32. t - 1\n",
       "    core type: Operation\n",
       "    operator: 33\n",
       "    operands: 34\n",
       "33. +\n",
       "    core type: Literal\n",
       "    sub-expressions: \n",
       "34. (t, -1)\n",
       "    core type: ExprTuple\n",
       "    sub-expressions: 35, 36\n",
       "35. t\n",
       "    core type: Literal\n",
       "    sub-expressions: \n",
       "36. -1\n",
       "    core type: Operation\n",
       "    operator: 37\n",
       "    operand: 39\n",
       "37. -\n",
       "    core type: Literal\n",
       "    sub-expressions: \n",
       "38. (1)\n",
       "    core type: ExprTuple\n",
       "    sub-expressions: 39\n",
       "39. 1\n",
       "    core type: Literal\n",
       "    sub-expressions: "
      ]
     },
     "metadata": {},
     "output_type": "display_data"
    }
   ],
   "source": [
    "# display the expression information\n",
    "stored_expr.expr_info()"
   ]
  },
  {
   "cell_type": "code",
   "execution_count": null,
   "metadata": {},
   "outputs": [],
   "source": []
  }
 ],
 "metadata": {
  "kernelspec": {
   "display_name": "Python 3",
   "language": "python",
   "name": "python3"
  }
 },
 "nbformat": 4,
 "nbformat_minor": 0
}