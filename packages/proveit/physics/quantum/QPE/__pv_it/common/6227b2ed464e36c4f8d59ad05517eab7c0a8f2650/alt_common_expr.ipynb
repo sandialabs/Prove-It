{
 "cells": [
  {
   "cell_type": "markdown",
   "metadata": {},
   "source": [
    "Temporary notebook for <a class=\"ProveItLink\" href=\"../../../_common_.ipynb#_success_prob_e\">_success_prob_e</a> of type <a href=\"../../../../../../../../doc/html/api/proveit.statistics.ProbOfAll.html\">ProbOfAll</a>\n",
    "=======================\n",
    "# a not-yet-official common expression from the theory of <a class=\"ProveItLink\" href=\"../../../_theory_nbs_/theory.ipynb\">proveit.physics.quantum.QPE</a>"
   ]
  },
  {
   "cell_type": "code",
   "execution_count": null,
   "metadata": {},
   "outputs": [],
   "source": [
    "import proveit\n",
    "# Automation is not needed when building an expression:\n",
    "proveit.defaults.automation = False # This will speed things up\n",
    "proveit.defaults.inline_pngs = False # Makes files smaller.\n",
    "%load_expr # Load the stored common expression as 'stored_expr'\n",
    "# import Expression classes needed to build the expression\n",
    "from proveit import ExprRange, Literal, Variable, VertExprArray, e, m\n",
    "from proveit.numbers import Add, Exp, Interval, LessEq, ModAbs, one, subtract, two, zero\n",
    "from proveit.physics.quantum import I, NumKet, Z, ket_plus\n",
    "from proveit.physics.quantum.QPE import QPE\n",
    "from proveit.physics.quantum.circuits import Gate, Input, Measure, MultiQubitElem, Output, Qcircuit\n",
    "from proveit.statistics import ProbOfAll"
   ]
  },
  {
   "cell_type": "code",
   "execution_count": null,
   "metadata": {},
   "outputs": [],
   "source": [
    "# build up the expression from sub-expressions\n",
    "sub_expr1 = Variable(\"_a\", latex_format = r\"{_{-}a}\")\n",
    "sub_expr2 = Add(Literal(\"t\", theory = \"proveit.physics.quantum.QPE\"), one)\n",
    "sub_expr3 = Add(Literal(\"t\", theory = \"proveit.physics.quantum.QPE\"), Literal(\"s\", theory = \"proveit.physics.quantum.QPE\"))\n",
    "sub_expr4 = Exp(two, Literal(\"t\", theory = \"proveit.physics.quantum.QPE\"))\n",
    "sub_expr5 = Interval(sub_expr2, sub_expr3)\n",
    "sub_expr6 = MultiQubitElem(element = Gate(operation = QPE(Literal(\"U\", theory = \"proveit.physics.quantum.QPE\"), Literal(\"t\", theory = \"proveit.physics.quantum.QPE\")), part = sub_expr1), targets = Interval(one, sub_expr3))\n",
    "expr = ProbOfAll(instance_param_or_params = [m], instance_element = Qcircuit(vert_expr_array = VertExprArray([ExprRange(sub_expr1, Input(state = ket_plus), one, Literal(\"t\", theory = \"proveit.physics.quantum.QPE\")), ExprRange(sub_expr1, MultiQubitElem(element = Input(state = Literal(\"|u>\", latex_format = r\"\\lvert u \\rangle\", theory = \"proveit.physics.quantum.QPE\"), part = sub_expr1), targets = sub_expr5), one, Literal(\"s\", theory = \"proveit.physics.quantum.QPE\"))], [ExprRange(sub_expr1, sub_expr6, one, Literal(\"t\", theory = \"proveit.physics.quantum.QPE\")), ExprRange(sub_expr1, sub_expr6, sub_expr2, sub_expr3)], [ExprRange(sub_expr1, Measure(basis = Z), one, Literal(\"t\", theory = \"proveit.physics.quantum.QPE\")), ExprRange(sub_expr1, Gate(operation = I).with_implicit_representation(), one, Literal(\"s\", theory = \"proveit.physics.quantum.QPE\"))], [ExprRange(sub_expr1, MultiQubitElem(element = Output(state = NumKet(m, Literal(\"t\", theory = \"proveit.physics.quantum.QPE\")), part = sub_expr1), targets = Interval(one, Literal(\"t\", theory = \"proveit.physics.quantum.QPE\"))), one, Literal(\"t\", theory = \"proveit.physics.quantum.QPE\")), ExprRange(sub_expr1, MultiQubitElem(element = Output(state = Literal(\"|u>\", latex_format = r\"\\lvert u \\rangle\", theory = \"proveit.physics.quantum.QPE\"), part = sub_expr1), targets = sub_expr5), one, Literal(\"s\", theory = \"proveit.physics.quantum.QPE\"))])), domain = Interval(zero, subtract(sub_expr4, one)), condition = LessEq(ModAbs(subtract(m, Literal(\"b_{f}\", latex_format = r\"b_{\\textit{f}}\", theory = \"proveit.physics.quantum.QPE\")), sub_expr4), e)).with_wrapping()"
   ]
  },
  {
   "cell_type": "code",
   "execution_count": null,
   "metadata": {},
   "outputs": [],
   "source": [
    "# check that the built expression is the same as the stored expression\n",
    "assert expr == stored_expr\n",
    "assert expr._style_id == stored_expr._style_id\n",
    "print(\"Passed sanity check: _success_prob_e matches stored_expr\")"
   ]
  },
  {
   "cell_type": "code",
   "execution_count": null,
   "metadata": {},
   "outputs": [],
   "source": [
    "# Show the LaTeX representation of the expression for convenience if you need it.\n",
    "print(stored_expr.latex())"
   ]
  },
  {
   "cell_type": "code",
   "execution_count": null,
   "metadata": {},
   "outputs": [],
   "source": [
    "stored_expr.style_options()"
   ]
  },
  {
   "cell_type": "code",
   "execution_count": null,
   "metadata": {},
   "outputs": [],
   "source": [
    "# display the expression information\n",
    "stored_expr.expr_info()"
   ]
  },
  {
   "cell_type": "code",
   "execution_count": null,
   "metadata": {},
   "outputs": [],
   "source": []
  }
 ],
 "metadata": {
  "kernelspec": {
   "display_name": "Python 3",
   "language": "python",
   "name": "python3"
  }
 },
 "nbformat": 4,
 "nbformat_minor": 0
}