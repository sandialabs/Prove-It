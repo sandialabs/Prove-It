{
 "cells": [
  {
   "cell_type": "markdown",
   "metadata": {},
   "source": [
    "Expression of type <a class=\"ProveItLink\" href=\"../../../../../../../../doc/html/api/proveit.physics.quantum.circuits.MultiQubitElem.html\">MultiQubitElem</a>\n",
    "=======================\n",
    "# from the theory of <a class=\"ProveItLink\" href=\"../../../_theory_nbs_/theory.ipynb\">proveit.physics.quantum.QPE</a>"
   ]
  },
  {
   "cell_type": "code",
   "execution_count": 1,
   "metadata": {},
   "outputs": [],
   "source": [
    "import proveit\n",
    "# Automation is not needed when building an expression:\n",
    "proveit.defaults.automation = False # This will speed things up.\n",
    "proveit.defaults.inline_pngs = False # Makes files smaller.\n",
    "%load_expr # Load the stored expression as 'stored_expr'\n",
    "# import Expression classes needed to build the expression\n",
    "from proveit import Literal, Variable\n",
    "from proveit.numbers import Add, Interval, one\n",
    "from proveit.physics.quantum.QPE import QPE1\n",
    "from proveit.physics.quantum.circuits import Gate, MultiQubitElem"
   ]
  },
  {
   "cell_type": "code",
   "execution_count": 2,
   "metadata": {},
   "outputs": [
    {
     "data": {
      "text/html": [
       "<strong id=\"expr\">expr:</strong> <a class=\"ProveItLink\" href=\"expr.ipynb\"><img src=\"expr.png\" style=\"display:inline;vertical-align:middle;\" /></a><br>"
      ],
      "text/plain": [
       "<IPython.core.display.HTML object>"
      ]
     },
     "metadata": {},
     "output_type": "display_data"
    }
   ],
   "source": [
    "# build up the expression from sub-expressions\n",
    "expr = MultiQubitElem(element = Gate(operation = QPE1(Literal(\"U\", theory = \"proveit.physics.quantum.QPE\"), Literal(\"t\", theory = \"proveit.physics.quantum.QPE\")), part = Variable(\"_a\", latex_format = r\"{_{-}a}\")), targets = Interval(one, Add(Literal(\"t\", theory = \"proveit.physics.quantum.QPE\"), Literal(\"s\", theory = \"proveit.physics.quantum.QPE\"))))"
   ]
  },
  {
   "cell_type": "code",
   "execution_count": 3,
   "metadata": {},
   "outputs": [
    {
     "name": "stdout",
     "output_type": "stream",
     "text": [
      "Passed sanity check: expr matches stored_expr\n"
     ]
    }
   ],
   "source": [
    "# check that the built expression is the same as the stored expression\n",
    "assert expr == stored_expr\n",
    "assert expr._style_id == stored_expr._style_id\n",
    "print(\"Passed sanity check: expr matches stored_expr\")"
   ]
  },
  {
   "cell_type": "code",
   "execution_count": 4,
   "metadata": {},
   "outputs": [
    {
     "name": "stdout",
     "output_type": "stream",
     "text": [
      "\\begin{array}{c} \\Qcircuit@C=1em @R=.7em{\n",
      "& & \\gate{\\textrm{QPE}_1\\left(U, t\\right)~\\mbox{part}~{_{-}a}~\\mbox{on}~\\{1~\\ldotp \\ldotp~t + s\\}} & \\qw \n",
      "} \\end{array}\n"
     ]
    }
   ],
   "source": [
    "# Show the LaTeX representation of the expression for convenience if you need it.\n",
    "print(stored_expr.latex())"
   ]
  },
  {
   "cell_type": "code",
   "execution_count": 5,
   "metadata": {},
   "outputs": [
    {
     "data": {
      "text/html": [
       "no style options"
      ],
      "text/plain": [
       "no style options"
      ]
     },
     "metadata": {},
     "output_type": "display_data"
    }
   ],
   "source": [
    "stored_expr.style_options()"
   ]
  },
  {
   "cell_type": "code",
   "execution_count": 6,
   "metadata": {},
   "outputs": [
    {
     "data": {
      "text/html": [
       "<table><tr><th>&nbsp;</th><th>core type</th><th>sub-expressions</th><th>expression</th></tr>\n",
       "<tr><td>0</td><td>Operation</td><td>operator:&nbsp;1<br>operands:&nbsp;2<br></td><td><a class=\"ProveItLink\" href=\"expr.ipynb\"><img src=\"expr.png\" style=\"display:inline;vertical-align:middle;\" /></a></td></tr>\n",
       "<tr><td>1</td><td>Literal</td><td></td><td><a class=\"ProveItLink\" href=\"../../../../circuits/__pv_it/common/5eaa43008f05c06941080a12337ff182ea14996e0/expr.ipynb\"><img src=\"../../../../circuits/__pv_it/common/5eaa43008f05c06941080a12337ff182ea14996e0/expr.png\" style=\"display:inline;vertical-align:middle;\" /></a></td></tr>\n",
       "<tr><td>2</td><td>NamedExprs</td><td>element: 3<br>targets: 4<br></td><td><a class=\"ProveItLink\" href=\"../b07a4b392450f0c8d8047f6acb9580c5eb48c93d0/expr.ipynb\"><img src=\"../b07a4b392450f0c8d8047f6acb9580c5eb48c93d0/expr.png\" style=\"display:inline;vertical-align:middle;\" /></a></td></tr>\n",
       "<tr><td>3</td><td>Operation</td><td>operator:&nbsp;5<br>operands:&nbsp;6<br></td><td><a class=\"ProveItLink\" href=\"../f9069591a5d0a8eceaad6d13e79c6903106b10730/expr.ipynb\"><img src=\"../f9069591a5d0a8eceaad6d13e79c6903106b10730/expr.png\" style=\"display:inline;vertical-align:middle;\" /></a></td></tr>\n",
       "<tr><td>4</td><td>Operation</td><td>operator:&nbsp;7<br>operands:&nbsp;8<br></td><td><a class=\"ProveItLink\" href=\"../df6bd9d94e48db81fbb35fd010dac489bd7580670/expr.ipynb\"><img src=\"../df6bd9d94e48db81fbb35fd010dac489bd7580670/expr.png\" style=\"display:inline;vertical-align:middle;\" /></a></td></tr>\n",
       "<tr><td>5</td><td>Literal</td><td></td><td><a class=\"ProveItLink\" href=\"../../../../circuits/__pv_it/common/ead8f6f18d2b8c24f1ed8db33df594edd77c9bcc0/expr.ipynb\"><img src=\"../../../../circuits/__pv_it/common/ead8f6f18d2b8c24f1ed8db33df594edd77c9bcc0/expr.png\" style=\"display:inline;vertical-align:middle;\" /></a></td></tr>\n",
       "<tr><td>6</td><td>NamedExprs</td><td>operation: 9<br>part: 10<br></td><td><a class=\"ProveItLink\" href=\"../ae00a7dff84a48f3b5eb0e3da368eb96d2e16f770/expr.ipynb\"><img src=\"../ae00a7dff84a48f3b5eb0e3da368eb96d2e16f770/expr.png\" style=\"display:inline;vertical-align:middle;\" /></a></td></tr>\n",
       "<tr><td>7</td><td>Literal</td><td></td><td><a class=\"ProveItLink\" href=\"../../../../../../numbers/number_sets/integers/__pv_it/common/92f3a0a77e3c3ea8e4a5c8674edadc54e4f57d550/expr.ipynb\"><img src=\"../../../../../../numbers/number_sets/integers/__pv_it/common/92f3a0a77e3c3ea8e4a5c8674edadc54e4f57d550/expr.png\" style=\"display:inline;vertical-align:middle;\" /></a></td></tr>\n",
       "<tr><td>8</td><td>ExprTuple</td><td>11, 12</td><td><a class=\"ProveItLink\" href=\"../c651e777ecc5e810a4fe71a030c30f18b193739a0/expr.ipynb\"><img src=\"../c651e777ecc5e810a4fe71a030c30f18b193739a0/expr.png\" style=\"display:inline;vertical-align:middle;\" /></a></td></tr>\n",
       "<tr><td>9</td><td>Operation</td><td>operator:&nbsp;13<br>operands:&nbsp;14<br></td><td><a class=\"ProveItLink\" href=\"../a7e47691620f39ce5d32e02b67f4d2b9af65ca150/expr.ipynb\"><img src=\"../a7e47691620f39ce5d32e02b67f4d2b9af65ca150/expr.png\" style=\"display:inline;vertical-align:middle;\" /></a></td></tr>\n",
       "<tr><td>10</td><td>Variable</td><td></td><td><a class=\"ProveItLink\" href=\"../006c465e50948aa2b52285e2de47974f741255cc0/expr.ipynb\"><img src=\"../006c465e50948aa2b52285e2de47974f741255cc0/expr.png\" style=\"display:inline;vertical-align:middle;\" /></a></td></tr>\n",
       "<tr><td>11</td><td>Literal</td><td></td><td><a class=\"ProveItLink\" href=\"../../../../../../numbers/numerals/__pv_it/common/682157d4892d216d9e5626ed533aff9b56b9506e0/expr.ipynb\"><img src=\"../../../../../../numbers/numerals/__pv_it/common/682157d4892d216d9e5626ed533aff9b56b9506e0/expr.png\" style=\"display:inline;vertical-align:middle;\" /></a></td></tr>\n",
       "<tr><td>12</td><td>Operation</td><td>operator:&nbsp;15<br>operands:&nbsp;16<br></td><td><a class=\"ProveItLink\" href=\"../d594f9d2403ea6680916b743cd9c582a0a3aed4b0/expr.ipynb\"><img src=\"../d594f9d2403ea6680916b743cd9c582a0a3aed4b0/expr.png\" style=\"display:inline;vertical-align:middle;\" /></a></td></tr>\n",
       "<tr><td>13</td><td>Literal</td><td></td><td><a class=\"ProveItLink\" href=\"../beb2fed25dfc66601332874f08798031de9b45210/expr.ipynb\"><img src=\"../beb2fed25dfc66601332874f08798031de9b45210/expr.png\" style=\"display:inline;vertical-align:middle;\" /></a></td></tr>\n",
       "<tr><td>14</td><td>ExprTuple</td><td>17, 18</td><td><a class=\"ProveItLink\" href=\"../f432224091cbb3ce7fe267c3d9a65605242bb1fc0/expr.ipynb\"><img src=\"../f432224091cbb3ce7fe267c3d9a65605242bb1fc0/expr.png\" style=\"display:inline;vertical-align:middle;\" /></a></td></tr>\n",
       "<tr><td>15</td><td>Literal</td><td></td><td><a class=\"ProveItLink\" href=\"../../../../../../numbers/addition/__pv_it/common/4b7effaab3619a1c2c38fe2dee8601df8ec714590/expr.ipynb\"><img src=\"../../../../../../numbers/addition/__pv_it/common/4b7effaab3619a1c2c38fe2dee8601df8ec714590/expr.png\" style=\"display:inline;vertical-align:middle;\" /></a></td></tr>\n",
       "<tr><td>16</td><td>ExprTuple</td><td>18, 19</td><td><a class=\"ProveItLink\" href=\"../68a54423765fd39956fb91176c58139b7e4f5c510/expr.ipynb\"><img src=\"../68a54423765fd39956fb91176c58139b7e4f5c510/expr.png\" style=\"display:inline;vertical-align:middle;\" /></a></td></tr>\n",
       "<tr><td>17</td><td>Literal</td><td></td><td><a class=\"ProveItLink\" href=\"../977758a9490d187b2ff100fdbc53911d78995da80/expr.ipynb\"><img src=\"../977758a9490d187b2ff100fdbc53911d78995da80/expr.png\" style=\"display:inline;vertical-align:middle;\" /></a></td></tr>\n",
       "<tr><td>18</td><td>Literal</td><td></td><td><a class=\"ProveItLink\" href=\"../977cc67717328e22c93f8ab84e6a45e8cadce7790/expr.ipynb\"><img src=\"../977cc67717328e22c93f8ab84e6a45e8cadce7790/expr.png\" style=\"display:inline;vertical-align:middle;\" /></a></td></tr>\n",
       "<tr><td>19</td><td>Literal</td><td></td><td><a class=\"ProveItLink\" href=\"../8a1628c4cfc7b78e5c5de183ba3f5cff0b20d4dd0/expr.ipynb\"><img src=\"../8a1628c4cfc7b78e5c5de183ba3f5cff0b20d4dd0/expr.png\" style=\"display:inline;vertical-align:middle;\" /></a></td></tr>\n",
       "</table>\n"
      ],
      "text/plain": [
       "0. [MULTI_QUBIT_ELEM]{element:[GATE]{operation:QPE1(U, t), part:_a}, targets:{1 .. t + s}}\n",
       "   core type: Operation\n",
       "   operator: 1\n",
       "   operands: 2\n",
       "1. MULTI_QUBIT_ELEM\n",
       "   core type: Literal\n",
       "   sub-expressions: \n",
       "2. {element:[GATE]{operation:QPE1(U, t), part:_a}, targets:{1 .. t + s}}\n",
       "   core type: NamedExprs\n",
       "   element: 3\n",
       "   targets: 4\n",
       "3. [GATE]{operation:QPE1(U, t), part:_a}\n",
       "   core type: Operation\n",
       "   operator: 5\n",
       "   operands: 6\n",
       "4. {1 .. t + s}\n",
       "   core type: Operation\n",
       "   operator: 7\n",
       "   operands: 8\n",
       "5. GATE\n",
       "   core type: Literal\n",
       "   sub-expressions: \n",
       "6. {operation:QPE1(U, t), part:_a}\n",
       "   core type: NamedExprs\n",
       "   operation: 9\n",
       "   part: 10\n",
       "7. Interval\n",
       "   core type: Literal\n",
       "   sub-expressions: \n",
       "8. (1, t + s)\n",
       "   core type: ExprTuple\n",
       "   sub-expressions: 11, 12\n",
       "9. QPE1(U, t)\n",
       "   core type: Operation\n",
       "   operator: 13\n",
       "   operands: 14\n",
       "10. _a\n",
       "    core type: Variable\n",
       "    sub-expressions: \n",
       "11. 1\n",
       "    core type: Literal\n",
       "    sub-expressions: \n",
       "12. t + s\n",
       "    core type: Operation\n",
       "    operator: 15\n",
       "    operands: 16\n",
       "13. QPE1\n",
       "    core type: Literal\n",
       "    sub-expressions: \n",
       "14. (U, t)\n",
       "    core type: ExprTuple\n",
       "    sub-expressions: 17, 18\n",
       "15. +\n",
       "    core type: Literal\n",
       "    sub-expressions: \n",
       "16. (t, s)\n",
       "    core type: ExprTuple\n",
       "    sub-expressions: 18, 19\n",
       "17. U\n",
       "    core type: Literal\n",
       "    sub-expressions: \n",
       "18. t\n",
       "    core type: Literal\n",
       "    sub-expressions: \n",
       "19. s\n",
       "    core type: Literal\n",
       "    sub-expressions: "
      ]
     },
     "metadata": {},
     "output_type": "display_data"
    }
   ],
   "source": [
    "# display the expression information\n",
    "stored_expr.expr_info()"
   ]
  },
  {
   "cell_type": "code",
   "execution_count": null,
   "metadata": {},
   "outputs": [],
   "source": []
  }
 ],
 "metadata": {
  "kernelspec": {
   "display_name": "Python 3",
   "language": "python",
   "name": "python3"
  }
 },
 "nbformat": 4,
 "nbformat_minor": 0
}