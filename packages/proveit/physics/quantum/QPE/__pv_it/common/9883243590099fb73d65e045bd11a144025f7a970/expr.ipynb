{
 "cells": [
  {
   "cell_type": "markdown",
   "metadata": {},
   "source": [
    "Expression of type <a class=\"ProveItLink\" href=\"../../../../../../../../doc/html/api/proveit.ExprTuple.html\">ExprTuple</a>\n",
    "=======================\n",
    "# from the theory of <a class=\"ProveItLink\" href=\"../../../_theory_nbs_/theory.ipynb\">proveit.physics.quantum.QPE</a>"
   ]
  },
  {
   "cell_type": "code",
   "execution_count": 1,
   "metadata": {},
   "outputs": [],
   "source": [
    "import proveit\n",
    "# Automation is not needed when building an expression:\n",
    "proveit.defaults.automation = False # This will speed things up.\n",
    "proveit.defaults.inline_pngs = False # Makes files smaller.\n",
    "%load_expr # Load the stored expression as 'stored_expr'\n",
    "# import Expression classes needed to build the expression\n",
    "from proveit import ExprRange, ExprTuple, Literal, Variable\n",
    "from proveit.numbers import Add, Interval, one\n",
    "from proveit.physics.quantum import ket_plus\n",
    "from proveit.physics.quantum.circuits import Input, MultiQubitElem"
   ]
  },
  {
   "cell_type": "code",
   "execution_count": 2,
   "metadata": {},
   "outputs": [
    {
     "data": {
      "text/html": [
       "<strong id=\"expr\">expr:</strong> <a class=\"ProveItLink\" href=\"expr.ipynb\"><img src=\"expr.png\" style=\"display:inline;vertical-align:middle;\" /></a><br>"
      ],
      "text/plain": [
       "<IPython.core.display.HTML object>"
      ]
     },
     "metadata": {},
     "output_type": "display_data"
    }
   ],
   "source": [
    "# build up the expression from sub-expressions\n",
    "sub_expr1 = Variable(\"_a\", latex_format = r\"{_{-}a}\")\n",
    "expr = ExprTuple(ExprRange(sub_expr1, Input(state = ket_plus), one, Literal(\"t\", theory = \"proveit.physics.quantum.QPE\")), ExprRange(sub_expr1, MultiQubitElem(element = Input(state = Literal(\"|u>\", latex_format = r\"\\lvert u \\rangle\", theory = \"proveit.physics.quantum.QPE\"), part = sub_expr1), targets = Interval(Add(Literal(\"t\", theory = \"proveit.physics.quantum.QPE\"), one), Add(Literal(\"t\", theory = \"proveit.physics.quantum.QPE\"), Literal(\"s\", theory = \"proveit.physics.quantum.QPE\")))), one, Literal(\"s\", theory = \"proveit.physics.quantum.QPE\")))"
   ]
  },
  {
   "cell_type": "code",
   "execution_count": 3,
   "metadata": {},
   "outputs": [
    {
     "name": "stdout",
     "output_type": "stream",
     "text": [
      "Passed sanity check: expr matches stored_expr\n"
     ]
    }
   ],
   "source": [
    "# check that the built expression is the same as the stored expression\n",
    "assert expr == stored_expr\n",
    "assert expr._style_id == stored_expr._style_id\n",
    "print(\"Passed sanity check: expr matches stored_expr\")"
   ]
  },
  {
   "cell_type": "code",
   "execution_count": 4,
   "metadata": {},
   "outputs": [
    {
     "name": "stdout",
     "output_type": "stream",
     "text": [
      "\\left(\\begin{array}{c} \\Qcircuit@C=1em @R=.7em{\n",
      "& \\qin{\\lvert + \\rangle} & \\qw \n",
      "} \\end{array}, \\begin{array}{c} \\Qcircuit@C=1em @R=.7em{\n",
      "& \\qin{\\lvert + \\rangle} & \\qw \n",
      "} \\end{array}, ..\\left(t - 3\\right) \\times.., \\begin{array}{c} \\Qcircuit@C=1em @R=.7em{\n",
      "& \\qin{\\lvert + \\rangle} & \\qw \n",
      "} \\end{array},\\begin{array}{c} \\Qcircuit@C=1em @R=.7em{\n",
      "& \\qin{\\lvert u \\rangle~\\mbox{part}~1~\\mbox{on}~\\{t + 1~\\ldotp \\ldotp~t + s\\}} & \\qw \n",
      "} \\end{array}, \\begin{array}{c} \\Qcircuit@C=1em @R=.7em{\n",
      "& \\qin{\\lvert u \\rangle~\\mbox{part}~2~\\mbox{on}~\\{t + 1~\\ldotp \\ldotp~t + s\\}} & \\qw \n",
      "} \\end{array}, \\ldots, \\begin{array}{c} \\Qcircuit@C=1em @R=.7em{\n",
      "& \\qin{\\lvert u \\rangle~\\mbox{part}~s~\\mbox{on}~\\{t + 1~\\ldotp \\ldotp~t + s\\}} & \\qw \n",
      "} \\end{array}\\right)\n"
     ]
    }
   ],
   "source": [
    "# Show the LaTeX representation of the expression for convenience if you need it.\n",
    "print(stored_expr.latex())"
   ]
  },
  {
   "cell_type": "code",
   "execution_count": 5,
   "metadata": {},
   "outputs": [
    {
     "data": {
      "text/html": [
       "<table>\n",
       "<tr><th>name</th><th>description</th><th>default</th><th>current value</th><th>related methods</th></tr><tr><td>wrap_positions</td><td>position(s) at which wrapping is to occur; 'n' is after the nth comma.</td><td>()</td><td>()</td><td>('with_wrapping_at',)</td></tr>\n",
       "<tr><td>justification</td><td>if any wrap positions are set, justify to the 'left', 'center', or 'right'</td><td>left</td><td>left</td><td>('with_justification',)</td></tr>\n",
       "</table>\n"
      ],
      "text/plain": [
       "style name: wrap_positions\n",
       "description: position(s) at which wrapping is to occur; 'n' is after the nth comma.\n",
       "default: ()\n",
       "current value: ()\n",
       "related methods: ('with_wrapping_at',)\n",
       "style name: justification\n",
       "description: if any wrap positions are set, justify to the 'left', 'center', or 'right'\n",
       "default: left\n",
       "current value: left\n",
       "related methods: ('with_justification',)"
      ]
     },
     "metadata": {},
     "output_type": "display_data"
    }
   ],
   "source": [
    "stored_expr.style_options()"
   ]
  },
  {
   "cell_type": "code",
   "execution_count": 6,
   "metadata": {},
   "outputs": [
    {
     "data": {
      "text/html": [
       "<table><tr><th>&nbsp;</th><th>core type</th><th>sub-expressions</th><th>expression</th></tr>\n",
       "<tr><td>0</td><td>ExprTuple</td><td>1, 2</td><td><a class=\"ProveItLink\" href=\"expr.ipynb\"><img src=\"expr.png\" style=\"display:inline;vertical-align:middle;\" /></a></td></tr>\n",
       "<tr><td>1</td><td>ExprRange</td><td>lambda_map:&nbsp;3<br>start_index:&nbsp;28<br>end_index:&nbsp;29<br></td><td><a class=\"ProveItLink\" href=\"../ded255d47e26d0be6808d73a176a35f7d712e1690/expr.ipynb\"><img src=\"../ded255d47e26d0be6808d73a176a35f7d712e1690/expr.png\" style=\"display:inline;vertical-align:middle;\" /></a></td></tr>\n",
       "<tr><td>2</td><td>ExprRange</td><td>lambda_map:&nbsp;4<br>start_index:&nbsp;28<br>end_index:&nbsp;30<br></td><td><a class=\"ProveItLink\" href=\"../b5506b43f3aa2a8a3c5c0427e42d42281206f4670/expr.ipynb\"><img src=\"../b5506b43f3aa2a8a3c5c0427e42d42281206f4670/expr.png\" style=\"display:inline;vertical-align:middle;\" /></a></td></tr>\n",
       "<tr><td>3</td><td>Lambda</td><td>parameter:&nbsp;22<br>body:&nbsp;5<br></td><td><a class=\"ProveItLink\" href=\"../6090dfa51ad8e5a0387930cc2548e5c69535f7fa0/expr.ipynb\"><img src=\"../6090dfa51ad8e5a0387930cc2548e5c69535f7fa0/expr.png\" style=\"display:inline;vertical-align:middle;\" /></a></td></tr>\n",
       "<tr><td>4</td><td>Lambda</td><td>parameter:&nbsp;22<br>body:&nbsp;7<br></td><td><a class=\"ProveItLink\" href=\"../b04ffda48094a18f537971fe5117a2cdf03088a00/expr.ipynb\"><img src=\"../b04ffda48094a18f537971fe5117a2cdf03088a00/expr.png\" style=\"display:inline;vertical-align:middle;\" /></a></td></tr>\n",
       "<tr><td>5</td><td>Operation</td><td>operator:&nbsp;16<br>operands:&nbsp;8<br></td><td><a class=\"ProveItLink\" href=\"../82fcfc017cb52ac1f3140048bedd6b2fb7b0ff880/expr.ipynb\"><img src=\"../82fcfc017cb52ac1f3140048bedd6b2fb7b0ff880/expr.png\" style=\"display:inline;vertical-align:middle;\" /></a></td></tr>\n",
       "<tr><td>6</td><td>ExprTuple</td><td>22</td><td><a class=\"ProveItLink\" href=\"../4b0dd6be36d76552eda6a95d5b4a27f5a5b62f900/expr.ipynb\"><img src=\"../4b0dd6be36d76552eda6a95d5b4a27f5a5b62f900/expr.png\" style=\"display:inline;vertical-align:middle;\" /></a></td></tr>\n",
       "<tr><td>7</td><td>Operation</td><td>operator:&nbsp;9<br>operands:&nbsp;10<br></td><td><a class=\"ProveItLink\" href=\"../00613376a331bfaaedf4ccbaedb817cbf7de847e0/expr.ipynb\"><img src=\"../00613376a331bfaaedf4ccbaedb817cbf7de847e0/expr.png\" style=\"display:inline;vertical-align:middle;\" /></a></td></tr>\n",
       "<tr><td>8</td><td>NamedExprs</td><td>state: 11<br></td><td><a class=\"ProveItLink\" href=\"../b266c0dfe5a9436e9487ad099f25d61b13f326830/expr.ipynb\"><img src=\"../b266c0dfe5a9436e9487ad099f25d61b13f326830/expr.png\" style=\"display:inline;vertical-align:middle;\" /></a></td></tr>\n",
       "<tr><td>9</td><td>Literal</td><td></td><td><a class=\"ProveItLink\" href=\"../../../../circuits/__pv_it/common/5eaa43008f05c06941080a12337ff182ea14996e0/expr.ipynb\"><img src=\"../../../../circuits/__pv_it/common/5eaa43008f05c06941080a12337ff182ea14996e0/expr.png\" style=\"display:inline;vertical-align:middle;\" /></a></td></tr>\n",
       "<tr><td>10</td><td>NamedExprs</td><td>element: 12<br>targets: 13<br></td><td><a class=\"ProveItLink\" href=\"../64c1abdecf338af58fd3e9628fdc639fbcc310be0/expr.ipynb\"><img src=\"../64c1abdecf338af58fd3e9628fdc639fbcc310be0/expr.png\" style=\"display:inline;vertical-align:middle;\" /></a></td></tr>\n",
       "<tr><td>11</td><td>Operation</td><td>operator:&nbsp;14<br>operand:&nbsp;20<br></td><td><a class=\"ProveItLink\" href=\"../../../../__pv_it/common/b9907a4ca6602d038bf27bdfa2858604717503d70/expr.ipynb\"><img src=\"../../../../__pv_it/common/b9907a4ca6602d038bf27bdfa2858604717503d70/expr.png\" style=\"display:inline;vertical-align:middle;\" /></a></td></tr>\n",
       "<tr><td>12</td><td>Operation</td><td>operator:&nbsp;16<br>operands:&nbsp;17<br></td><td><a class=\"ProveItLink\" href=\"../a1f079b49dc27c2324e79e5e78d81943fa60c9960/expr.ipynb\"><img src=\"../a1f079b49dc27c2324e79e5e78d81943fa60c9960/expr.png\" style=\"display:inline;vertical-align:middle;\" /></a></td></tr>\n",
       "<tr><td>13</td><td>Operation</td><td>operator:&nbsp;18<br>operands:&nbsp;19<br></td><td><a class=\"ProveItLink\" href=\"../e4c37383ea766bb1f6bcd7098cceb832b15e96720/expr.ipynb\"><img src=\"../e4c37383ea766bb1f6bcd7098cceb832b15e96720/expr.png\" style=\"display:inline;vertical-align:middle;\" /></a></td></tr>\n",
       "<tr><td>14</td><td>Literal</td><td></td><td><a class=\"ProveItLink\" href=\"../../../../algebra/__pv_it/common/e3872951fe05b26090372918594af92cac779e280/expr.ipynb\"><img src=\"../../../../algebra/__pv_it/common/e3872951fe05b26090372918594af92cac779e280/expr.png\" style=\"display:inline;vertical-align:middle;\" /></a></td></tr>\n",
       "<tr><td>15</td><td>ExprTuple</td><td>20</td><td><a class=\"ProveItLink\" href=\"../../../../__pv_it/common/a3a8633bf73b9f1e63bad9d6c7e6c6122f5f3e540/expr.ipynb\"><img src=\"../../../../__pv_it/common/a3a8633bf73b9f1e63bad9d6c7e6c6122f5f3e540/expr.png\" style=\"display:inline;vertical-align:middle;\" /></a></td></tr>\n",
       "<tr><td>16</td><td>Literal</td><td></td><td><a class=\"ProveItLink\" href=\"../../../../circuits/__pv_it/common/deea8715ce6701df08bbe1d049112a0bad4965c20/expr.ipynb\"><img src=\"../../../../circuits/__pv_it/common/deea8715ce6701df08bbe1d049112a0bad4965c20/expr.png\" style=\"display:inline;vertical-align:middle;\" /></a></td></tr>\n",
       "<tr><td>17</td><td>NamedExprs</td><td>state: 21<br>part: 22<br></td><td><a class=\"ProveItLink\" href=\"../d731450f12622d219d2b2dddf70849e455294f070/expr.ipynb\"><img src=\"../d731450f12622d219d2b2dddf70849e455294f070/expr.png\" style=\"display:inline;vertical-align:middle;\" /></a></td></tr>\n",
       "<tr><td>18</td><td>Literal</td><td></td><td><a class=\"ProveItLink\" href=\"../../../../../../numbers/number_sets/integers/__pv_it/common/92f3a0a77e3c3ea8e4a5c8674edadc54e4f57d550/expr.ipynb\"><img src=\"../../../../../../numbers/number_sets/integers/__pv_it/common/92f3a0a77e3c3ea8e4a5c8674edadc54e4f57d550/expr.png\" style=\"display:inline;vertical-align:middle;\" /></a></td></tr>\n",
       "<tr><td>19</td><td>ExprTuple</td><td>23, 24</td><td><a class=\"ProveItLink\" href=\"../290007a348622eadb6860d4299d78fb54ebb86910/expr.ipynb\"><img src=\"../290007a348622eadb6860d4299d78fb54ebb86910/expr.png\" style=\"display:inline;vertical-align:middle;\" /></a></td></tr>\n",
       "<tr><td>20</td><td>Literal</td><td></td><td><a class=\"ProveItLink\" href=\"../../../../__pv_it/common/af7474ecb679aafadbff60eb0f517b3d905ff7830/expr.ipynb\"><img src=\"../../../../__pv_it/common/af7474ecb679aafadbff60eb0f517b3d905ff7830/expr.png\" style=\"display:inline;vertical-align:middle;\" /></a></td></tr>\n",
       "<tr><td>21</td><td>Literal</td><td></td><td><a class=\"ProveItLink\" href=\"../ca39d48f285e5b8b9c4fc5a4225a68cd859974bc0/expr.ipynb\"><img src=\"../ca39d48f285e5b8b9c4fc5a4225a68cd859974bc0/expr.png\" style=\"display:inline;vertical-align:middle;\" /></a></td></tr>\n",
       "<tr><td>22</td><td>Variable</td><td></td><td><a class=\"ProveItLink\" href=\"../006c465e50948aa2b52285e2de47974f741255cc0/expr.ipynb\"><img src=\"../006c465e50948aa2b52285e2de47974f741255cc0/expr.png\" style=\"display:inline;vertical-align:middle;\" /></a></td></tr>\n",
       "<tr><td>23</td><td>Operation</td><td>operator:&nbsp;26<br>operands:&nbsp;25<br></td><td><a class=\"ProveItLink\" href=\"../ee59288f8ad36a7fc131fd5d062c398a9f67d7a70/expr.ipynb\"><img src=\"../ee59288f8ad36a7fc131fd5d062c398a9f67d7a70/expr.png\" style=\"display:inline;vertical-align:middle;\" /></a></td></tr>\n",
       "<tr><td>24</td><td>Operation</td><td>operator:&nbsp;26<br>operands:&nbsp;27<br></td><td><a class=\"ProveItLink\" href=\"../d594f9d2403ea6680916b743cd9c582a0a3aed4b0/expr.ipynb\"><img src=\"../d594f9d2403ea6680916b743cd9c582a0a3aed4b0/expr.png\" style=\"display:inline;vertical-align:middle;\" /></a></td></tr>\n",
       "<tr><td>25</td><td>ExprTuple</td><td>29, 28</td><td><a class=\"ProveItLink\" href=\"../b78bbf7fd57d1a1491fbbbcff71abb9d886680aa0/expr.ipynb\"><img src=\"../b78bbf7fd57d1a1491fbbbcff71abb9d886680aa0/expr.png\" style=\"display:inline;vertical-align:middle;\" /></a></td></tr>\n",
       "<tr><td>26</td><td>Literal</td><td></td><td><a class=\"ProveItLink\" href=\"../../../../../../numbers/addition/__pv_it/common/4b7effaab3619a1c2c38fe2dee8601df8ec714590/expr.ipynb\"><img src=\"../../../../../../numbers/addition/__pv_it/common/4b7effaab3619a1c2c38fe2dee8601df8ec714590/expr.png\" style=\"display:inline;vertical-align:middle;\" /></a></td></tr>\n",
       "<tr><td>27</td><td>ExprTuple</td><td>29, 30</td><td><a class=\"ProveItLink\" href=\"../68a54423765fd39956fb91176c58139b7e4f5c510/expr.ipynb\"><img src=\"../68a54423765fd39956fb91176c58139b7e4f5c510/expr.png\" style=\"display:inline;vertical-align:middle;\" /></a></td></tr>\n",
       "<tr><td>28</td><td>Literal</td><td></td><td><a class=\"ProveItLink\" href=\"../../../../../../numbers/numerals/__pv_it/common/682157d4892d216d9e5626ed533aff9b56b9506e0/expr.ipynb\"><img src=\"../../../../../../numbers/numerals/__pv_it/common/682157d4892d216d9e5626ed533aff9b56b9506e0/expr.png\" style=\"display:inline;vertical-align:middle;\" /></a></td></tr>\n",
       "<tr><td>29</td><td>Literal</td><td></td><td><a class=\"ProveItLink\" href=\"../977cc67717328e22c93f8ab84e6a45e8cadce7790/expr.ipynb\"><img src=\"../977cc67717328e22c93f8ab84e6a45e8cadce7790/expr.png\" style=\"display:inline;vertical-align:middle;\" /></a></td></tr>\n",
       "<tr><td>30</td><td>Literal</td><td></td><td><a class=\"ProveItLink\" href=\"../8a1628c4cfc7b78e5c5de183ba3f5cff0b20d4dd0/expr.ipynb\"><img src=\"../8a1628c4cfc7b78e5c5de183ba3f5cff0b20d4dd0/expr.png\" style=\"display:inline;vertical-align:middle;\" /></a></td></tr>\n",
       "</table>\n"
      ],
      "text/plain": [
       "0. ([INPUT]{state:|+〉}, [INPUT]{state:|+〉}, ..(t - 3) ×.., [INPUT]{state:|+〉},[MULTI_QUBIT_ELEM]{element:[INPUT]{state:|u>, part:1}, targets:{t + 1 .. t + s}}, [MULTI_QUBIT_ELEM]{element:[INPUT]{state:|u>, part:2}, targets:{t + 1 .. t + s}}, ..., [MULTI_QUBIT_ELEM]{element:[INPUT]{state:|u>, part:s}, targets:{t + 1 .. t + s}})\n",
       "   core type: ExprTuple\n",
       "   sub-expressions: 1, 2\n",
       "1. [INPUT]{state:|+〉}, [INPUT]{state:|+〉}, ..(t - 3) ×.., [INPUT]{state:|+〉}\n",
       "   core type: ExprRange\n",
       "   lambda_map: 3\n",
       "   start_index: 28\n",
       "   end_index: 29\n",
       "2. [MULTI_QUBIT_ELEM]{element:[INPUT]{state:|u>, part:1}, targets:{t + 1 .. t + s}}, [MULTI_QUBIT_ELEM]{element:[INPUT]{state:|u>, part:2}, targets:{t + 1 .. t + s}}, ..., [MULTI_QUBIT_ELEM]{element:[INPUT]{state:|u>, part:s}, targets:{t + 1 .. t + s}}\n",
       "   core type: ExprRange\n",
       "   lambda_map: 4\n",
       "   start_index: 28\n",
       "   end_index: 30\n",
       "3. _a -> [INPUT]{state:|+〉}\n",
       "   core type: Lambda\n",
       "   parameter: 22\n",
       "   body: 5\n",
       "4. _a -> [MULTI_QUBIT_ELEM]{element:[INPUT]{state:|u>, part:_a}, targets:{t + 1 .. t + s}}\n",
       "   core type: Lambda\n",
       "   parameter: 22\n",
       "   body: 7\n",
       "5. [INPUT]{state:|+〉}\n",
       "   core type: Operation\n",
       "   operator: 16\n",
       "   operands: 8\n",
       "6. (_a)\n",
       "   core type: ExprTuple\n",
       "   sub-expressions: 22\n",
       "7. [MULTI_QUBIT_ELEM]{element:[INPUT]{state:|u>, part:_a}, targets:{t + 1 .. t + s}}\n",
       "   core type: Operation\n",
       "   operator: 9\n",
       "   operands: 10\n",
       "8. {state:|+〉}\n",
       "   core type: NamedExprs\n",
       "   state: 11\n",
       "9. MULTI_QUBIT_ELEM\n",
       "   core type: Literal\n",
       "   sub-expressions: \n",
       "10. {element:[INPUT]{state:|u>, part:_a}, targets:{t + 1 .. t + s}}\n",
       "    core type: NamedExprs\n",
       "    element: 12\n",
       "    targets: 13\n",
       "11. |+〉\n",
       "    core type: Operation\n",
       "    operator: 14\n",
       "    operand: 20\n",
       "12. [INPUT]{state:|u>, part:_a}\n",
       "    core type: Operation\n",
       "    operator: 16\n",
       "    operands: 17\n",
       "13. {t + 1 .. t + s}\n",
       "    core type: Operation\n",
       "    operator: 18\n",
       "    operands: 19\n",
       "14. KET\n",
       "    core type: Literal\n",
       "    sub-expressions: \n",
       "15. (+)\n",
       "    core type: ExprTuple\n",
       "    sub-expressions: 20\n",
       "16. INPUT\n",
       "    core type: Literal\n",
       "    sub-expressions: \n",
       "17. {state:|u>, part:_a}\n",
       "    core type: NamedExprs\n",
       "    state: 21\n",
       "    part: 22\n",
       "18. Interval\n",
       "    core type: Literal\n",
       "    sub-expressions: \n",
       "19. (t + 1, t + s)\n",
       "    core type: ExprTuple\n",
       "    sub-expressions: 23, 24\n",
       "20. +\n",
       "    core type: Literal\n",
       "    sub-expressions: \n",
       "21. |u>\n",
       "    core type: Literal\n",
       "    sub-expressions: \n",
       "22. _a\n",
       "    core type: Variable\n",
       "    sub-expressions: \n",
       "23. t + 1\n",
       "    core type: Operation\n",
       "    operator: 26\n",
       "    operands: 25\n",
       "24. t + s\n",
       "    core type: Operation\n",
       "    operator: 26\n",
       "    operands: 27\n",
       "25. (t, 1)\n",
       "    core type: ExprTuple\n",
       "    sub-expressions: 29, 28\n",
       "26. +\n",
       "    core type: Literal\n",
       "    sub-expressions: \n",
       "27. (t, s)\n",
       "    core type: ExprTuple\n",
       "    sub-expressions: 29, 30\n",
       "28. 1\n",
       "    core type: Literal\n",
       "    sub-expressions: \n",
       "29. t\n",
       "    core type: Literal\n",
       "    sub-expressions: \n",
       "30. s\n",
       "    core type: Literal\n",
       "    sub-expressions: "
      ]
     },
     "metadata": {},
     "output_type": "display_data"
    }
   ],
   "source": [
    "# display the expression information\n",
    "stored_expr.expr_info()"
   ]
  },
  {
   "cell_type": "code",
   "execution_count": null,
   "metadata": {},
   "outputs": [],
   "source": []
  }
 ],
 "metadata": {
  "kernelspec": {
   "display_name": "Python 3",
   "language": "python",
   "name": "python3"
  }
 },
 "nbformat": 4,
 "nbformat_minor": 0
}