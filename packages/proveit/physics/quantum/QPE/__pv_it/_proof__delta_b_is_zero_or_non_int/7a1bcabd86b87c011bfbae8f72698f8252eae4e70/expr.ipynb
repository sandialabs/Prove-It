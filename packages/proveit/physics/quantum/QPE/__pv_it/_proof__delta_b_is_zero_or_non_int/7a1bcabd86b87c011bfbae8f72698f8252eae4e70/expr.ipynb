{
 "cells": [
  {
   "cell_type": "markdown",
   "metadata": {},
   "source": [
    "Expression of type <a class=\"ProveItLink\" href=\"../../../../../../../../doc/html/api/proveit.ExprTuple.html\">ExprTuple</a>\n",
    "=======================\n",
    "# from the theory of <a class=\"ProveItLink\" href=\"../../../_theory_nbs_/theory.ipynb\">proveit.physics.quantum.QPE</a>"
   ]
  },
  {
   "cell_type": "code",
   "execution_count": 1,
   "metadata": {},
   "outputs": [],
   "source": [
    "import proveit\n",
    "# Automation is not needed when building an expression:\n",
    "proveit.defaults.automation = False # This will speed things up.\n",
    "proveit.defaults.inline_pngs = False # Makes files smaller.\n",
    "%load_expr # Load the stored expression as 'stored_expr'\n",
    "# import Expression classes needed to build the expression\n",
    "from proveit import ExprTuple\n",
    "from proveit.logic import Equals, Implies, Not, NotEquals, NotInSet, Or\n",
    "from proveit.numbers import Integer, zero\n",
    "from proveit.physics.quantum.QPE import _delta_b"
   ]
  },
  {
   "cell_type": "code",
   "execution_count": 2,
   "metadata": {},
   "outputs": [
    {
     "data": {
      "text/html": [
       "<strong id=\"expr\">expr:</strong> <a class=\"ProveItLink\" href=\"expr.ipynb\"><img src=\"expr.png\" style=\"display:inline;vertical-align:middle;\" /></a><br>"
      ],
      "text/plain": [
       "<IPython.core.display.HTML object>"
      ]
     },
     "metadata": {},
     "output_type": "display_data"
    }
   ],
   "source": [
    "# build up the expression from sub-expressions\n",
    "sub_expr1 = Equals(_delta_b, zero)\n",
    "sub_expr2 = Or(sub_expr1, NotInSet(_delta_b, Integer))\n",
    "expr = ExprTuple(Implies(NotEquals(_delta_b, zero), sub_expr2), Implies(Not(sub_expr1), sub_expr2))"
   ]
  },
  {
   "cell_type": "code",
   "execution_count": 3,
   "metadata": {},
   "outputs": [
    {
     "name": "stdout",
     "output_type": "stream",
     "text": [
      "Passed sanity check: expr matches stored_expr\n"
     ]
    }
   ],
   "source": [
    "# check that the built expression is the same as the stored expression\n",
    "assert expr == stored_expr\n",
    "assert expr._style_id == stored_expr._style_id\n",
    "print(\"Passed sanity check: expr matches stored_expr\")"
   ]
  },
  {
   "cell_type": "code",
   "execution_count": 4,
   "metadata": {},
   "outputs": [
    {
     "name": "stdout",
     "output_type": "stream",
     "text": [
      "\\left(\\left(\\delta_{b} \\neq 0\\right) \\Rightarrow \\left(\\left(\\delta_{b} = 0\\right) \\lor \\left(\\delta_{b} \\notin \\mathbb{Z}\\right)\\right), (\\lnot \\left(\\delta_{b} = 0\\right)) \\Rightarrow \\left(\\left(\\delta_{b} = 0\\right) \\lor \\left(\\delta_{b} \\notin \\mathbb{Z}\\right)\\right)\\right)\n"
     ]
    }
   ],
   "source": [
    "# Show the LaTeX representation of the expression for convenience if you need it.\n",
    "print(stored_expr.latex())"
   ]
  },
  {
   "cell_type": "code",
   "execution_count": 5,
   "metadata": {},
   "outputs": [
    {
     "data": {
      "text/html": [
       "<table>\n",
       "<tr><th>name</th><th>description</th><th>default</th><th>current value</th><th>related methods</th></tr><tr><td>wrap_positions</td><td>position(s) at which wrapping is to occur; 'n' is after the nth comma.</td><td>()</td><td>()</td><td>('with_wrapping_at',)</td></tr>\n",
       "<tr><td>justification</td><td>if any wrap positions are set, justify to the 'left', 'center', or 'right'</td><td>left</td><td>left</td><td>('with_justification',)</td></tr>\n",
       "</table>\n"
      ],
      "text/plain": [
       "style name: wrap_positions\n",
       "description: position(s) at which wrapping is to occur; 'n' is after the nth comma.\n",
       "default: ()\n",
       "current value: ()\n",
       "related methods: ('with_wrapping_at',)\n",
       "style name: justification\n",
       "description: if any wrap positions are set, justify to the 'left', 'center', or 'right'\n",
       "default: left\n",
       "current value: left\n",
       "related methods: ('with_justification',)"
      ]
     },
     "metadata": {},
     "output_type": "display_data"
    }
   ],
   "source": [
    "stored_expr.style_options()"
   ]
  },
  {
   "cell_type": "code",
   "execution_count": 6,
   "metadata": {},
   "outputs": [
    {
     "data": {
      "text/html": [
       "<table><tr><th>&nbsp;</th><th>core type</th><th>sub-expressions</th><th>expression</th></tr>\n",
       "<tr><td>0</td><td>ExprTuple</td><td>1, 2</td><td><a class=\"ProveItLink\" href=\"expr.ipynb\"><img src=\"expr.png\" style=\"display:inline;vertical-align:middle;\" /></a></td></tr>\n",
       "<tr><td>1</td><td>Operation</td><td>operator:&nbsp;4<br>operands:&nbsp;3<br></td><td><a class=\"ProveItLink\" href=\"../07b851e72c00d18a509e2516c8d1d5e96b9021de0/expr.ipynb\"><img src=\"../07b851e72c00d18a509e2516c8d1d5e96b9021de0/expr.png\" style=\"display:inline;vertical-align:middle;\" /></a></td></tr>\n",
       "<tr><td>2</td><td>Operation</td><td>operator:&nbsp;4<br>operands:&nbsp;5<br></td><td><a class=\"ProveItLink\" href=\"../7af57a3200a47b84b7617a955cbcc0df42a5dd700/expr.ipynb\"><img src=\"../7af57a3200a47b84b7617a955cbcc0df42a5dd700/expr.png\" style=\"display:inline;vertical-align:middle;\" /></a></td></tr>\n",
       "<tr><td>3</td><td>ExprTuple</td><td>6, 8</td><td><a class=\"ProveItLink\" href=\"../d505debce7fb8ca2c838e88fc5a9f352812910790/expr.ipynb\"><img src=\"../d505debce7fb8ca2c838e88fc5a9f352812910790/expr.png\" style=\"display:inline;vertical-align:middle;\" /></a></td></tr>\n",
       "<tr><td>4</td><td>Literal</td><td></td><td><a class=\"ProveItLink\" href=\"../../../../../../logic/booleans/implication/__pv_it/common/02bdb382575728da8cdbaed545b9096ea7a1bd5b0/expr.ipynb\"><img src=\"../../../../../../logic/booleans/implication/__pv_it/common/02bdb382575728da8cdbaed545b9096ea7a1bd5b0/expr.png\" style=\"display:inline;vertical-align:middle;\" /></a></td></tr>\n",
       "<tr><td>5</td><td>ExprTuple</td><td>7, 8</td><td><a class=\"ProveItLink\" href=\"../4cdaac160f213c6c95069f138215db4b1f05a65b0/expr.ipynb\"><img src=\"../4cdaac160f213c6c95069f138215db4b1f05a65b0/expr.png\" style=\"display:inline;vertical-align:middle;\" /></a></td></tr>\n",
       "<tr><td>6</td><td>Operation</td><td>operator:&nbsp;9<br>operands:&nbsp;17<br></td><td><a class=\"ProveItLink\" href=\"../8c61220b9cf103f9da6385c5e22430830212aae80/expr.ipynb\"><img src=\"../8c61220b9cf103f9da6385c5e22430830212aae80/expr.png\" style=\"display:inline;vertical-align:middle;\" /></a></td></tr>\n",
       "<tr><td>7</td><td>Operation</td><td>operator:&nbsp;10<br>operand:&nbsp;14<br></td><td><a class=\"ProveItLink\" href=\"../20cbb6e17bb8d409db780aa4b283a6f8f85cc5300/expr.ipynb\"><img src=\"../20cbb6e17bb8d409db780aa4b283a6f8f85cc5300/expr.png\" style=\"display:inline;vertical-align:middle;\" /></a></td></tr>\n",
       "<tr><td>8</td><td>Operation</td><td>operator:&nbsp;12<br>operands:&nbsp;13<br></td><td><a class=\"ProveItLink\" href=\"../../theorems/5b5f18be6493995186c91cb148ea084ca7ee670a0/expr.ipynb\"><img src=\"../../theorems/5b5f18be6493995186c91cb148ea084ca7ee670a0/expr.png\" style=\"display:inline;vertical-align:middle;\" /></a></td></tr>\n",
       "<tr><td>9</td><td>Literal</td><td></td><td><a class=\"ProveItLink\" href=\"../../../../../../logic/equality/__pv_it/common/d96270bc9bb1bad54f773b1c04bfb343a739642c0/expr.ipynb\"><img src=\"../../../../../../logic/equality/__pv_it/common/d96270bc9bb1bad54f773b1c04bfb343a739642c0/expr.png\" style=\"display:inline;vertical-align:middle;\" /></a></td></tr>\n",
       "<tr><td>10</td><td>Literal</td><td></td><td><a class=\"ProveItLink\" href=\"../../../../../../logic/booleans/negation/__pv_it/common/1a811a997e5d75fdb50cdaf74f302daccad39af40/expr.ipynb\"><img src=\"../../../../../../logic/booleans/negation/__pv_it/common/1a811a997e5d75fdb50cdaf74f302daccad39af40/expr.png\" style=\"display:inline;vertical-align:middle;\" /></a></td></tr>\n",
       "<tr><td>11</td><td>ExprTuple</td><td>14</td><td><a class=\"ProveItLink\" href=\"../1d9dc6cbdc8bc8ee4d593a1b7a6e5ee71b2a605d0/expr.ipynb\"><img src=\"../1d9dc6cbdc8bc8ee4d593a1b7a6e5ee71b2a605d0/expr.png\" style=\"display:inline;vertical-align:middle;\" /></a></td></tr>\n",
       "<tr><td>12</td><td>Literal</td><td></td><td><a class=\"ProveItLink\" href=\"../../../../../../logic/booleans/disjunction/__pv_it/common/ef8e59262ff8e0133aa1ca984dd6b3a41bf69d5b0/expr.ipynb\"><img src=\"../../../../../../logic/booleans/disjunction/__pv_it/common/ef8e59262ff8e0133aa1ca984dd6b3a41bf69d5b0/expr.png\" style=\"display:inline;vertical-align:middle;\" /></a></td></tr>\n",
       "<tr><td>13</td><td>ExprTuple</td><td>14, 15</td><td><a class=\"ProveItLink\" href=\"../../theorems/c9a114795df3549a6b782ce1de4fb89cf4ad068d0/expr.ipynb\"><img src=\"../../theorems/c9a114795df3549a6b782ce1de4fb89cf4ad068d0/expr.png\" style=\"display:inline;vertical-align:middle;\" /></a></td></tr>\n",
       "<tr><td>14</td><td>Operation</td><td>operator:&nbsp;16<br>operands:&nbsp;17<br></td><td><a class=\"ProveItLink\" href=\"../../theorems/f6a870f41eb795fa87bdca3868fd966b1a8b4ee90/expr.ipynb\"><img src=\"../../theorems/f6a870f41eb795fa87bdca3868fd966b1a8b4ee90/expr.png\" style=\"display:inline;vertical-align:middle;\" /></a></td></tr>\n",
       "<tr><td>15</td><td>Operation</td><td>operator:&nbsp;18<br>operands:&nbsp;19<br></td><td><a class=\"ProveItLink\" href=\"../../theorems/0994358e9471ef90ce92be24481301082a581d1f0/expr.ipynb\"><img src=\"../../theorems/0994358e9471ef90ce92be24481301082a581d1f0/expr.png\" style=\"display:inline;vertical-align:middle;\" /></a></td></tr>\n",
       "<tr><td>16</td><td>Literal</td><td></td><td><a class=\"ProveItLink\" href=\"../../../../../../logic/equality/__pv_it/common/fb96dc12b2aa8801dda64d0132b396c63d1502bb0/expr.ipynb\"><img src=\"../../../../../../logic/equality/__pv_it/common/fb96dc12b2aa8801dda64d0132b396c63d1502bb0/expr.png\" style=\"display:inline;vertical-align:middle;\" /></a></td></tr>\n",
       "<tr><td>17</td><td>ExprTuple</td><td>21, 20</td><td><a class=\"ProveItLink\" href=\"../../theorems/7ac41ebb9c8b31acce5676e947533de866da4e460/expr.ipynb\"><img src=\"../../theorems/7ac41ebb9c8b31acce5676e947533de866da4e460/expr.png\" style=\"display:inline;vertical-align:middle;\" /></a></td></tr>\n",
       "<tr><td>18</td><td>Literal</td><td></td><td><a class=\"ProveItLink\" href=\"../../../../../../logic/sets/membership/__pv_it/common/f4affea88ec78899b0259567586c16d1e6a484950/expr.ipynb\"><img src=\"../../../../../../logic/sets/membership/__pv_it/common/f4affea88ec78899b0259567586c16d1e6a484950/expr.png\" style=\"display:inline;vertical-align:middle;\" /></a></td></tr>\n",
       "<tr><td>19</td><td>ExprTuple</td><td>21, 22</td><td><a class=\"ProveItLink\" href=\"../../theorems/ab67b78729ad6a853a140edeb254e21b1f7661e80/expr.ipynb\"><img src=\"../../theorems/ab67b78729ad6a853a140edeb254e21b1f7661e80/expr.png\" style=\"display:inline;vertical-align:middle;\" /></a></td></tr>\n",
       "<tr><td>20</td><td>Literal</td><td></td><td><a class=\"ProveItLink\" href=\"../../../../../../numbers/numerals/__pv_it/common/dd4e19e8b134dfb293470ea55fe3589b0ab9f8040/expr.ipynb\"><img src=\"../../../../../../numbers/numerals/__pv_it/common/dd4e19e8b134dfb293470ea55fe3589b0ab9f8040/expr.png\" style=\"display:inline;vertical-align:middle;\" /></a></td></tr>\n",
       "<tr><td>21</td><td>Operation</td><td>operator:&nbsp;23<br>operand:&nbsp;25<br></td><td><a class=\"ProveItLink\" href=\"../../common/42f4901a9010b37366de0ab62b1d0f64ba12bc880/expr.ipynb\"><img src=\"../../common/42f4901a9010b37366de0ab62b1d0f64ba12bc880/expr.png\" style=\"display:inline;vertical-align:middle;\" /></a></td></tr>\n",
       "<tr><td>22</td><td>Literal</td><td></td><td><a class=\"ProveItLink\" href=\"../../../../../../numbers/number_sets/integers/__pv_it/common/e6b4e90f9467053e055a4fd2f735c0bb79cb79300/expr.ipynb\"><img src=\"../../../../../../numbers/number_sets/integers/__pv_it/common/e6b4e90f9467053e055a4fd2f735c0bb79cb79300/expr.png\" style=\"display:inline;vertical-align:middle;\" /></a></td></tr>\n",
       "<tr><td>23</td><td>Literal</td><td></td><td><a class=\"ProveItLink\" href=\"../../common/d6b97444617188a78c398568a10ac4dbe1ffa6590/expr.ipynb\"><img src=\"../../common/d6b97444617188a78c398568a10ac4dbe1ffa6590/expr.png\" style=\"display:inline;vertical-align:middle;\" /></a></td></tr>\n",
       "<tr><td>24</td><td>ExprTuple</td><td>25</td><td><a class=\"ProveItLink\" href=\"../../common/2172b6b5a562721cf67ce94593b8be1eb7f26c660/expr.ipynb\"><img src=\"../../common/2172b6b5a562721cf67ce94593b8be1eb7f26c660/expr.png\" style=\"display:inline;vertical-align:middle;\" /></a></td></tr>\n",
       "<tr><td>25</td><td>Variable</td><td></td><td><a class=\"ProveItLink\" href=\"../../../../../../__pv_it/common/195236b98c6c564a75b5dbada74b173bc52d5c3e0/expr.ipynb\"><img src=\"../../../../../../__pv_it/common/195236b98c6c564a75b5dbada74b173bc52d5c3e0/expr.png\" style=\"display:inline;vertical-align:middle;\" /></a></td></tr>\n",
       "</table>\n"
      ],
      "text/plain": [
       "0. ((delta_{b} != 0) => ((delta_{b} = 0) or (delta_{b} not-in Integer)), [not](delta_{b} = 0) => ((delta_{b} = 0) or (delta_{b} not-in Integer)))\n",
       "   core type: ExprTuple\n",
       "   sub-expressions: 1, 2\n",
       "1. (delta_{b} != 0) => ((delta_{b} = 0) or (delta_{b} not-in Integer))\n",
       "   core type: Operation\n",
       "   operator: 4\n",
       "   operands: 3\n",
       "2. [not](delta_{b} = 0) => ((delta_{b} = 0) or (delta_{b} not-in Integer))\n",
       "   core type: Operation\n",
       "   operator: 4\n",
       "   operands: 5\n",
       "3. (delta_{b} != 0, (delta_{b} = 0) or (delta_{b} not-in Integer))\n",
       "   core type: ExprTuple\n",
       "   sub-expressions: 6, 8\n",
       "4. =>\n",
       "   core type: Literal\n",
       "   sub-expressions: \n",
       "5. ([not](delta_{b} = 0), (delta_{b} = 0) or (delta_{b} not-in Integer))\n",
       "   core type: ExprTuple\n",
       "   sub-expressions: 7, 8\n",
       "6. delta_{b} != 0\n",
       "   core type: Operation\n",
       "   operator: 9\n",
       "   operands: 17\n",
       "7. [not](delta_{b} = 0)\n",
       "   core type: Operation\n",
       "   operator: 10\n",
       "   operand: 14\n",
       "8. (delta_{b} = 0) or (delta_{b} not-in Integer)\n",
       "   core type: Operation\n",
       "   operator: 12\n",
       "   operands: 13\n",
       "9. !=\n",
       "   core type: Literal\n",
       "   sub-expressions: \n",
       "10. not\n",
       "    core type: Literal\n",
       "    sub-expressions: \n",
       "11. (delta_{b} = 0)\n",
       "    core type: ExprTuple\n",
       "    sub-expressions: 14\n",
       "12. or\n",
       "    core type: Literal\n",
       "    sub-expressions: \n",
       "13. (delta_{b} = 0, delta_{b} not-in Integer)\n",
       "    core type: ExprTuple\n",
       "    sub-expressions: 14, 15\n",
       "14. delta_{b} = 0\n",
       "    core type: Operation\n",
       "    operator: 16\n",
       "    operands: 17\n",
       "15. delta_{b} not-in Integer\n",
       "    core type: Operation\n",
       "    operator: 18\n",
       "    operands: 19\n",
       "16. =\n",
       "    core type: Literal\n",
       "    sub-expressions: \n",
       "17. (delta_{b}, 0)\n",
       "    core type: ExprTuple\n",
       "    sub-expressions: 21, 20\n",
       "18. not-in\n",
       "    core type: Literal\n",
       "    sub-expressions: \n",
       "19. (delta_{b}, Integer)\n",
       "    core type: ExprTuple\n",
       "    sub-expressions: 21, 22\n",
       "20. 0\n",
       "    core type: Literal\n",
       "    sub-expressions: \n",
       "21. delta_{b}\n",
       "    core type: Operation\n",
       "    operator: 23\n",
       "    operand: 25\n",
       "22. Integer\n",
       "    core type: Literal\n",
       "    sub-expressions: \n",
       "23. delta\n",
       "    core type: Literal\n",
       "    sub-expressions: \n",
       "24. (b)\n",
       "    core type: ExprTuple\n",
       "    sub-expressions: 25\n",
       "25. b\n",
       "    core type: Variable\n",
       "    sub-expressions: "
      ]
     },
     "metadata": {},
     "output_type": "display_data"
    }
   ],
   "source": [
    "# display the expression information\n",
    "stored_expr.expr_info()"
   ]
  },
  {
   "cell_type": "code",
   "execution_count": null,
   "metadata": {},
   "outputs": [],
   "source": []
  }
 ],
 "metadata": {
  "kernelspec": {
   "display_name": "Python 3",
   "language": "python",
   "name": "python3"
  }
 },
 "nbformat": 4,
 "nbformat_minor": 0
}