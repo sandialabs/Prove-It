{
 "cells": [
  {
   "cell_type": "markdown",
   "metadata": {},
   "source": [
    "Expression of type <a class=\"ProveItLink\" href=\"../../../../../../../../doc/html/api/proveit.logic.Equals.html\">Equals</a>\n",
    "=======================\n",
    "# from the theory of <a class=\"ProveItLink\" href=\"../../../_theory_nbs_/theory.ipynb\">proveit.physics.quantum.QPE</a>"
   ]
  },
  {
   "cell_type": "code",
   "execution_count": 1,
   "metadata": {},
   "outputs": [],
   "source": [
    "import proveit\n",
    "# Automation is not needed when building an expression:\n",
    "proveit.defaults.automation = False # This will speed things up.\n",
    "proveit.defaults.inline_pngs = False # Makes files smaller.\n",
    "%load_expr # Load the stored expression as 'stored_expr'\n",
    "# import Expression classes needed to build the expression\n",
    "from proveit import ExprRange, Variable, m\n",
    "from proveit.core_expr_types import Len\n",
    "from proveit.logic import Equals\n",
    "from proveit.numbers import Add, Interval, one\n",
    "from proveit.physics.quantum import NumKet\n",
    "from proveit.physics.quantum.QPE import _ket_u, _s, _t\n",
    "from proveit.physics.quantum.circuits import MultiQubitElem, Output"
   ]
  },
  {
   "cell_type": "code",
   "execution_count": 2,
   "metadata": {},
   "outputs": [
    {
     "data": {
      "text/html": [
       "<strong id=\"expr\">expr:</strong> <a class=\"ProveItLink\" href=\"expr.ipynb\"><img src=\"expr.png\" style=\"display:inline;vertical-align:middle;\" /></a><br>"
      ],
      "text/plain": [
       "<IPython.core.display.HTML object>"
      ]
     },
     "metadata": {},
     "output_type": "display_data"
    }
   ],
   "source": [
    "# build up the expression from sub-expressions\n",
    "sub_expr1 = Variable(\"_a\", latex_format = r\"{_{-}a}\")\n",
    "sub_expr2 = Add(_t, _s)\n",
    "expr = Equals(Len(operands = [ExprRange(sub_expr1, MultiQubitElem(element = Output(state = NumKet(m, _t), part = sub_expr1), targets = Interval(one, _t)), one, _t), ExprRange(sub_expr1, MultiQubitElem(element = Output(state = _ket_u, part = sub_expr1), targets = Interval(Add(_t, one), sub_expr2)), one, _s)]), Len(operands = [ExprRange(sub_expr1, [Variable(\"_b\", latex_format = r\"{_{-}b}\"), sub_expr1], one, sub_expr2)]))"
   ]
  },
  {
   "cell_type": "code",
   "execution_count": 3,
   "metadata": {},
   "outputs": [
    {
     "name": "stdout",
     "output_type": "stream",
     "text": [
      "Passed sanity check: expr matches stored_expr\n"
     ]
    }
   ],
   "source": [
    "# check that the built expression is the same as the stored expression\n",
    "assert expr == stored_expr\n",
    "assert expr._style_id == stored_expr._style_id\n",
    "print(\"Passed sanity check: expr matches stored_expr\")"
   ]
  },
  {
   "cell_type": "code",
   "execution_count": 4,
   "metadata": {},
   "outputs": [
    {
     "name": "stdout",
     "output_type": "stream",
     "text": [
      "|\\left(\\begin{array}{c} \\Qcircuit@C=1em @R=.7em{\n",
      "& & \\qout{\\lvert m \\rangle_{t}~\\mbox{part}~1~\\mbox{on}~\\{1~\\ldotp \\ldotp~t\\}} \n",
      "} \\end{array}, \\begin{array}{c} \\Qcircuit@C=1em @R=.7em{\n",
      "& & \\qout{\\lvert m \\rangle_{t}~\\mbox{part}~2~\\mbox{on}~\\{1~\\ldotp \\ldotp~t\\}} \n",
      "} \\end{array}, \\ldots, \\begin{array}{c} \\Qcircuit@C=1em @R=.7em{\n",
      "& & \\qout{\\lvert m \\rangle_{t}~\\mbox{part}~t~\\mbox{on}~\\{1~\\ldotp \\ldotp~t\\}} \n",
      "} \\end{array},\\begin{array}{c} \\Qcircuit@C=1em @R=.7em{\n",
      "& & \\qout{\\lvert u \\rangle~\\mbox{part}~1~\\mbox{on}~\\{t + 1~\\ldotp \\ldotp~t + s\\}} \n",
      "} \\end{array}, \\begin{array}{c} \\Qcircuit@C=1em @R=.7em{\n",
      "& & \\qout{\\lvert u \\rangle~\\mbox{part}~2~\\mbox{on}~\\{t + 1~\\ldotp \\ldotp~t + s\\}} \n",
      "} \\end{array}, \\ldots, \\begin{array}{c} \\Qcircuit@C=1em @R=.7em{\n",
      "& & \\qout{\\lvert u \\rangle~\\mbox{part}~s~\\mbox{on}~\\{t + 1~\\ldotp \\ldotp~t + s\\}} \n",
      "} \\end{array}\\right)| = |\\left(\\left({_{-}b}, 1\\right), \\left({_{-}b}, 2\\right), \\ldots, \\left({_{-}b}, t + s\\right)\\right)|\n"
     ]
    }
   ],
   "source": [
    "# Show the LaTeX representation of the expression for convenience if you need it.\n",
    "print(stored_expr.latex())"
   ]
  },
  {
   "cell_type": "code",
   "execution_count": 5,
   "metadata": {},
   "outputs": [
    {
     "data": {
      "text/html": [
       "<table>\n",
       "<tr><th>name</th><th>description</th><th>default</th><th>current value</th><th>related methods</th></tr><tr><td>operation</td><td>'infix' or 'function' style formatting</td><td>infix</td><td>infix</td><td></td></tr>\n",
       "<tr><td>wrap_positions</td><td>position(s) at which wrapping is to occur; '2 n - 1' is after the nth operand, '2 n' is after the nth operation.</td><td>()</td><td>()</td><td>('with_wrapping_at', 'with_wrap_before_operator', 'with_wrap_after_operator', 'without_wrapping', 'wrap_positions')</td></tr>\n",
       "<tr><td>justification</td><td>if any wrap positions are set, justify to the 'left', 'center', or 'right'</td><td>center</td><td>center</td><td>('with_justification',)</td></tr>\n",
       "<tr><td>direction</td><td>Direction of the relation (normal or reversed)</td><td>normal</td><td>normal</td><td>('with_direction_reversed', 'is_reversed')</td></tr>\n",
       "</table>\n"
      ],
      "text/plain": [
       "style name: operation\n",
       "description: 'infix' or 'function' style formatting\n",
       "default: infix\n",
       "current value: infix\n",
       "related methods: ()\n",
       "style name: wrap_positions\n",
       "description: position(s) at which wrapping is to occur; '2 n - 1' is after the nth operand, '2 n' is after the nth operation.\n",
       "default: ()\n",
       "current value: ()\n",
       "related methods: ('with_wrapping_at', 'with_wrap_before_operator', 'with_wrap_after_operator', 'without_wrapping', 'wrap_positions')\n",
       "style name: justification\n",
       "description: if any wrap positions are set, justify to the 'left', 'center', or 'right'\n",
       "default: center\n",
       "current value: center\n",
       "related methods: ('with_justification',)\n",
       "style name: direction\n",
       "description: Direction of the relation (normal or reversed)\n",
       "default: normal\n",
       "current value: normal\n",
       "related methods: ('with_direction_reversed', 'is_reversed')"
      ]
     },
     "metadata": {},
     "output_type": "display_data"
    }
   ],
   "source": [
    "stored_expr.style_options()"
   ]
  },
  {
   "cell_type": "code",
   "execution_count": 6,
   "metadata": {},
   "outputs": [
    {
     "data": {
      "text/html": [
       "<table><tr><th>&nbsp;</th><th>core type</th><th>sub-expressions</th><th>expression</th></tr>\n",
       "<tr><td>0</td><td>Operation</td><td>operator:&nbsp;1<br>operands:&nbsp;2<br></td><td><a class=\"ProveItLink\" href=\"expr.ipynb\"><img src=\"expr.png\" style=\"display:inline;vertical-align:middle;\" /></a></td></tr>\n",
       "<tr><td>1</td><td>Literal</td><td></td><td><a class=\"ProveItLink\" href=\"../../../../../../logic/equality/__pv_it/common/fb96dc12b2aa8801dda64d0132b396c63d1502bb0/expr.ipynb\"><img src=\"../../../../../../logic/equality/__pv_it/common/fb96dc12b2aa8801dda64d0132b396c63d1502bb0/expr.png\" style=\"display:inline;vertical-align:middle;\" /></a></td></tr>\n",
       "<tr><td>2</td><td>ExprTuple</td><td>3, 4</td><td><a class=\"ProveItLink\" href=\"../1988c4f8e95358b81b216bfcbc173c9b92bb6e040/expr.ipynb\"><img src=\"../1988c4f8e95358b81b216bfcbc173c9b92bb6e040/expr.png\" style=\"display:inline;vertical-align:middle;\" /></a></td></tr>\n",
       "<tr><td>3</td><td>Operation</td><td>operator:&nbsp;6<br>operands:&nbsp;5<br></td><td><a class=\"ProveItLink\" href=\"../6bfa712a321f858054d58c8c13fc9ae0e9c68d0c0/expr.ipynb\"><img src=\"../6bfa712a321f858054d58c8c13fc9ae0e9c68d0c0/expr.png\" style=\"display:inline;vertical-align:middle;\" /></a></td></tr>\n",
       "<tr><td>4</td><td>Operation</td><td>operator:&nbsp;6<br>operands:&nbsp;7<br></td><td><a class=\"ProveItLink\" href=\"../15ceeb2c66096cd73aa6235bda0af6a8f42ca9f90/expr.ipynb\"><img src=\"../15ceeb2c66096cd73aa6235bda0af6a8f42ca9f90/expr.png\" style=\"display:inline;vertical-align:middle;\" /></a></td></tr>\n",
       "<tr><td>5</td><td>ExprTuple</td><td>8, 9</td><td><a class=\"ProveItLink\" href=\"../../common/24e98abe07b8db7fb77b61638e3fcaceb6cf8bfe0/expr.ipynb\"><img src=\"../../common/24e98abe07b8db7fb77b61638e3fcaceb6cf8bfe0/expr.png\" style=\"display:inline;vertical-align:middle;\" /></a></td></tr>\n",
       "<tr><td>6</td><td>Literal</td><td></td><td><a class=\"ProveItLink\" href=\"../../../../../../core_expr_types/tuples/__pv_it/common/43df765abf1294d8f1fd177863f57f08bf5ad0080/expr.ipynb\"><img src=\"../../../../../../core_expr_types/tuples/__pv_it/common/43df765abf1294d8f1fd177863f57f08bf5ad0080/expr.png\" style=\"display:inline;vertical-align:middle;\" /></a></td></tr>\n",
       "<tr><td>7</td><td>ExprTuple</td><td>10</td><td><a class=\"ProveItLink\" href=\"../5512065f32baf5e61b5284afe224aa8481c24e4e0/expr.ipynb\"><img src=\"../5512065f32baf5e61b5284afe224aa8481c24e4e0/expr.png\" style=\"display:inline;vertical-align:middle;\" /></a></td></tr>\n",
       "<tr><td>8</td><td>ExprRange</td><td>lambda_map:&nbsp;11<br>start_index:&nbsp;43<br>end_index:&nbsp;44<br></td><td><a class=\"ProveItLink\" href=\"../../common/5588fe7ba6b58ce3d9853a0ef507dfdc9d46e4a80/expr.ipynb\"><img src=\"../../common/5588fe7ba6b58ce3d9853a0ef507dfdc9d46e4a80/expr.png\" style=\"display:inline;vertical-align:middle;\" /></a></td></tr>\n",
       "<tr><td>9</td><td>ExprRange</td><td>lambda_map:&nbsp;12<br>start_index:&nbsp;43<br>end_index:&nbsp;45<br></td><td><a class=\"ProveItLink\" href=\"../../common/824096480019dcfd1d400d985c75011f38d7400e0/expr.ipynb\"><img src=\"../../common/824096480019dcfd1d400d985c75011f38d7400e0/expr.png\" style=\"display:inline;vertical-align:middle;\" /></a></td></tr>\n",
       "<tr><td>10</td><td>ExprRange</td><td>lambda_map:&nbsp;13<br>start_index:&nbsp;43<br>end_index:&nbsp;36<br></td><td><a class=\"ProveItLink\" href=\"../3c19fed3e4993125abd75f8bd97283e41daafe670/expr.ipynb\"><img src=\"../3c19fed3e4993125abd75f8bd97283e41daafe670/expr.png\" style=\"display:inline;vertical-align:middle;\" /></a></td></tr>\n",
       "<tr><td>11</td><td>Lambda</td><td>parameter:&nbsp;34<br>body:&nbsp;14<br></td><td><a class=\"ProveItLink\" href=\"../../common/f251be1c955aa3d9a85963f4db2f08df7ddb717b0/expr.ipynb\"><img src=\"../../common/f251be1c955aa3d9a85963f4db2f08df7ddb717b0/expr.png\" style=\"display:inline;vertical-align:middle;\" /></a></td></tr>\n",
       "<tr><td>12</td><td>Lambda</td><td>parameter:&nbsp;34<br>body:&nbsp;15<br></td><td><a class=\"ProveItLink\" href=\"../../common/1e22278d342e59974a3de4a1805e7016916c63fd0/expr.ipynb\"><img src=\"../../common/1e22278d342e59974a3de4a1805e7016916c63fd0/expr.png\" style=\"display:inline;vertical-align:middle;\" /></a></td></tr>\n",
       "<tr><td>13</td><td>Lambda</td><td>parameter:&nbsp;34<br>body:&nbsp;17<br></td><td><a class=\"ProveItLink\" href=\"../b34dd9b198fae5ce8bb8dbf0532980555ae7f2790/expr.ipynb\"><img src=\"../b34dd9b198fae5ce8bb8dbf0532980555ae7f2790/expr.png\" style=\"display:inline;vertical-align:middle;\" /></a></td></tr>\n",
       "<tr><td>14</td><td>Operation</td><td>operator:&nbsp;19<br>operands:&nbsp;18<br></td><td><a class=\"ProveItLink\" href=\"../../common/def880b0b62abaced83fa41d87f3b2191cd3d3c00/expr.ipynb\"><img src=\"../../common/def880b0b62abaced83fa41d87f3b2191cd3d3c00/expr.png\" style=\"display:inline;vertical-align:middle;\" /></a></td></tr>\n",
       "<tr><td>15</td><td>Operation</td><td>operator:&nbsp;19<br>operands:&nbsp;20<br></td><td><a class=\"ProveItLink\" href=\"../../common/645ab3a8d644049e80149298c66441ee8ba0725d0/expr.ipynb\"><img src=\"../../common/645ab3a8d644049e80149298c66441ee8ba0725d0/expr.png\" style=\"display:inline;vertical-align:middle;\" /></a></td></tr>\n",
       "<tr><td>16</td><td>ExprTuple</td><td>34</td><td><a class=\"ProveItLink\" href=\"../../../../../../core_expr_types/__pv_it/common/4b0dd6be36d76552eda6a95d5b4a27f5a5b62f900/expr.ipynb\"><img src=\"../../../../../../core_expr_types/__pv_it/common/4b0dd6be36d76552eda6a95d5b4a27f5a5b62f900/expr.png\" style=\"display:inline;vertical-align:middle;\" /></a></td></tr>\n",
       "<tr><td>17</td><td>ExprTuple</td><td>21, 34</td><td><a class=\"ProveItLink\" href=\"../../../../../../core_expr_types/expr_arrays/__pv_it/common/c899820ca7633ea1589f21e8e039aa4da91850d80/expr.ipynb\"><img src=\"../../../../../../core_expr_types/expr_arrays/__pv_it/common/c899820ca7633ea1589f21e8e039aa4da91850d80/expr.png\" style=\"display:inline;vertical-align:middle;\" /></a></td></tr>\n",
       "<tr><td>18</td><td>NamedExprs</td><td>element: 22<br>targets: 23<br></td><td><a class=\"ProveItLink\" href=\"../../common/b298c4b442927e0b9a9337df790992e0c4e085330/expr.ipynb\"><img src=\"../../common/b298c4b442927e0b9a9337df790992e0c4e085330/expr.png\" style=\"display:inline;vertical-align:middle;\" /></a></td></tr>\n",
       "<tr><td>19</td><td>Literal</td><td></td><td><a class=\"ProveItLink\" href=\"../../../../circuits/__pv_it/common/5eaa43008f05c06941080a12337ff182ea14996e0/expr.ipynb\"><img src=\"../../../../circuits/__pv_it/common/5eaa43008f05c06941080a12337ff182ea14996e0/expr.png\" style=\"display:inline;vertical-align:middle;\" /></a></td></tr>\n",
       "<tr><td>20</td><td>NamedExprs</td><td>element: 24<br>targets: 25<br></td><td><a class=\"ProveItLink\" href=\"../../common/998a677874497c68d9fa8110217b7dfa9a11d3430/expr.ipynb\"><img src=\"../../common/998a677874497c68d9fa8110217b7dfa9a11d3430/expr.png\" style=\"display:inline;vertical-align:middle;\" /></a></td></tr>\n",
       "<tr><td>21</td><td>Variable</td><td></td><td><a class=\"ProveItLink\" href=\"../../../../../../core_expr_types/expr_arrays/__pv_it/common/9a18d67b443cf8d92289c655ed91ec78766170a90/expr.ipynb\"><img src=\"../../../../../../core_expr_types/expr_arrays/__pv_it/common/9a18d67b443cf8d92289c655ed91ec78766170a90/expr.png\" style=\"display:inline;vertical-align:middle;\" /></a></td></tr>\n",
       "<tr><td>22</td><td>Operation</td><td>operator:&nbsp;28<br>operands:&nbsp;26<br></td><td><a class=\"ProveItLink\" href=\"../../common/8f741a55359aaa0ce6b140ff3b7dccbcda58c9750/expr.ipynb\"><img src=\"../../common/8f741a55359aaa0ce6b140ff3b7dccbcda58c9750/expr.png\" style=\"display:inline;vertical-align:middle;\" /></a></td></tr>\n",
       "<tr><td>23</td><td>Operation</td><td>operator:&nbsp;30<br>operands:&nbsp;27<br></td><td><a class=\"ProveItLink\" href=\"../../common/e122b9c60b738854d914e6ecd981b572cc15d7ba0/expr.ipynb\"><img src=\"../../common/e122b9c60b738854d914e6ecd981b572cc15d7ba0/expr.png\" style=\"display:inline;vertical-align:middle;\" /></a></td></tr>\n",
       "<tr><td>24</td><td>Operation</td><td>operator:&nbsp;28<br>operands:&nbsp;29<br></td><td><a class=\"ProveItLink\" href=\"../../common/a38f9fb0b940bd2f9ac04d5547d5da46f983caa30/expr.ipynb\"><img src=\"../../common/a38f9fb0b940bd2f9ac04d5547d5da46f983caa30/expr.png\" style=\"display:inline;vertical-align:middle;\" /></a></td></tr>\n",
       "<tr><td>25</td><td>Operation</td><td>operator:&nbsp;30<br>operands:&nbsp;31<br></td><td><a class=\"ProveItLink\" href=\"../../common/e4c37383ea766bb1f6bcd7098cceb832b15e96720/expr.ipynb\"><img src=\"../../common/e4c37383ea766bb1f6bcd7098cceb832b15e96720/expr.png\" style=\"display:inline;vertical-align:middle;\" /></a></td></tr>\n",
       "<tr><td>26</td><td>NamedExprs</td><td>state: 32<br>part: 34<br></td><td><a class=\"ProveItLink\" href=\"../../common/d1ef23609e57349feae4b5f66bd2e88ecea3264b0/expr.ipynb\"><img src=\"../../common/d1ef23609e57349feae4b5f66bd2e88ecea3264b0/expr.png\" style=\"display:inline;vertical-align:middle;\" /></a></td></tr>\n",
       "<tr><td>27</td><td>ExprTuple</td><td>43, 44</td><td><a class=\"ProveItLink\" href=\"../../common/5bbcfd1311319843ab62a23688c905a8a364e8380/expr.ipynb\"><img src=\"../../common/5bbcfd1311319843ab62a23688c905a8a364e8380/expr.png\" style=\"display:inline;vertical-align:middle;\" /></a></td></tr>\n",
       "<tr><td>28</td><td>Literal</td><td></td><td><a class=\"ProveItLink\" href=\"../../../../circuits/__pv_it/common/00345a9c4f4d361e0b6e8bbbbe5a33a8ec86a20b0/expr.ipynb\"><img src=\"../../../../circuits/__pv_it/common/00345a9c4f4d361e0b6e8bbbbe5a33a8ec86a20b0/expr.png\" style=\"display:inline;vertical-align:middle;\" /></a></td></tr>\n",
       "<tr><td>29</td><td>NamedExprs</td><td>state: 33<br>part: 34<br></td><td><a class=\"ProveItLink\" href=\"../../common/d731450f12622d219d2b2dddf70849e455294f070/expr.ipynb\"><img src=\"../../common/d731450f12622d219d2b2dddf70849e455294f070/expr.png\" style=\"display:inline;vertical-align:middle;\" /></a></td></tr>\n",
       "<tr><td>30</td><td>Literal</td><td></td><td><a class=\"ProveItLink\" href=\"../../../../../../numbers/number_sets/integers/__pv_it/common/92f3a0a77e3c3ea8e4a5c8674edadc54e4f57d550/expr.ipynb\"><img src=\"../../../../../../numbers/number_sets/integers/__pv_it/common/92f3a0a77e3c3ea8e4a5c8674edadc54e4f57d550/expr.png\" style=\"display:inline;vertical-align:middle;\" /></a></td></tr>\n",
       "<tr><td>31</td><td>ExprTuple</td><td>35, 36</td><td><a class=\"ProveItLink\" href=\"../../common/290007a348622eadb6860d4299d78fb54ebb86910/expr.ipynb\"><img src=\"../../common/290007a348622eadb6860d4299d78fb54ebb86910/expr.png\" style=\"display:inline;vertical-align:middle;\" /></a></td></tr>\n",
       "<tr><td>32</td><td>Operation</td><td>operator:&nbsp;37<br>operands:&nbsp;38<br></td><td><a class=\"ProveItLink\" href=\"../../common/8580baf79f9b30562b4fcaa7fc4531ffc563db8a0/expr.ipynb\"><img src=\"../../common/8580baf79f9b30562b4fcaa7fc4531ffc563db8a0/expr.png\" style=\"display:inline;vertical-align:middle;\" /></a></td></tr>\n",
       "<tr><td>33</td><td>Literal</td><td></td><td><a class=\"ProveItLink\" href=\"../../common/ca39d48f285e5b8b9c4fc5a4225a68cd859974bc0/expr.ipynb\"><img src=\"../../common/ca39d48f285e5b8b9c4fc5a4225a68cd859974bc0/expr.png\" style=\"display:inline;vertical-align:middle;\" /></a></td></tr>\n",
       "<tr><td>34</td><td>Variable</td><td></td><td><a class=\"ProveItLink\" href=\"../../common/006c465e50948aa2b52285e2de47974f741255cc0/expr.ipynb\"><img src=\"../../common/006c465e50948aa2b52285e2de47974f741255cc0/expr.png\" style=\"display:inline;vertical-align:middle;\" /></a></td></tr>\n",
       "<tr><td>35</td><td>Operation</td><td>operator:&nbsp;40<br>operands:&nbsp;39<br></td><td><a class=\"ProveItLink\" href=\"../../common/ee59288f8ad36a7fc131fd5d062c398a9f67d7a70/expr.ipynb\"><img src=\"../../common/ee59288f8ad36a7fc131fd5d062c398a9f67d7a70/expr.png\" style=\"display:inline;vertical-align:middle;\" /></a></td></tr>\n",
       "<tr><td>36</td><td>Operation</td><td>operator:&nbsp;40<br>operands:&nbsp;41<br></td><td><a class=\"ProveItLink\" href=\"../../common/d594f9d2403ea6680916b743cd9c582a0a3aed4b0/expr.ipynb\"><img src=\"../../common/d594f9d2403ea6680916b743cd9c582a0a3aed4b0/expr.png\" style=\"display:inline;vertical-align:middle;\" /></a></td></tr>\n",
       "<tr><td>37</td><td>Literal</td><td></td><td><a class=\"ProveItLink\" href=\"../../../../algebra/__pv_it/common/8fae26fc802d6e77100c911db42f2d3784cdc7330/expr.ipynb\"><img src=\"../../../../algebra/__pv_it/common/8fae26fc802d6e77100c911db42f2d3784cdc7330/expr.png\" style=\"display:inline;vertical-align:middle;\" /></a></td></tr>\n",
       "<tr><td>38</td><td>ExprTuple</td><td>42, 44</td><td><a class=\"ProveItLink\" href=\"../../common/953eab40bc601e33085318a6772c33aaf06fab5f0/expr.ipynb\"><img src=\"../../common/953eab40bc601e33085318a6772c33aaf06fab5f0/expr.png\" style=\"display:inline;vertical-align:middle;\" /></a></td></tr>\n",
       "<tr><td>39</td><td>ExprTuple</td><td>44, 43</td><td><a class=\"ProveItLink\" href=\"../../common/b78bbf7fd57d1a1491fbbbcff71abb9d886680aa0/expr.ipynb\"><img src=\"../../common/b78bbf7fd57d1a1491fbbbcff71abb9d886680aa0/expr.png\" style=\"display:inline;vertical-align:middle;\" /></a></td></tr>\n",
       "<tr><td>40</td><td>Literal</td><td></td><td><a class=\"ProveItLink\" href=\"../../../../../../numbers/addition/__pv_it/common/4b7effaab3619a1c2c38fe2dee8601df8ec714590/expr.ipynb\"><img src=\"../../../../../../numbers/addition/__pv_it/common/4b7effaab3619a1c2c38fe2dee8601df8ec714590/expr.png\" style=\"display:inline;vertical-align:middle;\" /></a></td></tr>\n",
       "<tr><td>41</td><td>ExprTuple</td><td>44, 45</td><td><a class=\"ProveItLink\" href=\"../../common/68a54423765fd39956fb91176c58139b7e4f5c510/expr.ipynb\"><img src=\"../../common/68a54423765fd39956fb91176c58139b7e4f5c510/expr.png\" style=\"display:inline;vertical-align:middle;\" /></a></td></tr>\n",
       "<tr><td>42</td><td>Variable</td><td></td><td><a class=\"ProveItLink\" href=\"../../../../../../__pv_it/common/674a03b9c3ca221b3aabd5636837b31528ff33830/expr.ipynb\"><img src=\"../../../../../../__pv_it/common/674a03b9c3ca221b3aabd5636837b31528ff33830/expr.png\" style=\"display:inline;vertical-align:middle;\" /></a></td></tr>\n",
       "<tr><td>43</td><td>Literal</td><td></td><td><a class=\"ProveItLink\" href=\"../../../../../../numbers/numerals/__pv_it/common/682157d4892d216d9e5626ed533aff9b56b9506e0/expr.ipynb\"><img src=\"../../../../../../numbers/numerals/__pv_it/common/682157d4892d216d9e5626ed533aff9b56b9506e0/expr.png\" style=\"display:inline;vertical-align:middle;\" /></a></td></tr>\n",
       "<tr><td>44</td><td>Literal</td><td></td><td><a class=\"ProveItLink\" href=\"../../common/977cc67717328e22c93f8ab84e6a45e8cadce7790/expr.ipynb\"><img src=\"../../common/977cc67717328e22c93f8ab84e6a45e8cadce7790/expr.png\" style=\"display:inline;vertical-align:middle;\" /></a></td></tr>\n",
       "<tr><td>45</td><td>Literal</td><td></td><td><a class=\"ProveItLink\" href=\"../../common/8a1628c4cfc7b78e5c5de183ba3f5cff0b20d4dd0/expr.ipynb\"><img src=\"../../common/8a1628c4cfc7b78e5c5de183ba3f5cff0b20d4dd0/expr.png\" style=\"display:inline;vertical-align:middle;\" /></a></td></tr>\n",
       "</table>\n"
      ],
      "text/plain": [
       "0. |([MULTI_QUBIT_ELEM]{element:[OUTPUT]{state:|m〉_{t}, part:1}, targets:{1 .. t}}, [MULTI_QUBIT_ELEM]{element:[OUTPUT]{state:|m〉_{t}, part:2}, targets:{1 .. t}}, ..., [MULTI_QUBIT_ELEM]{element:[OUTPUT]{state:|m〉_{t}, part:t}, targets:{1 .. t}},[MULTI_QUBIT_ELEM]{element:[OUTPUT]{state:|u>, part:1}, targets:{t + 1 .. t + s}}, [MULTI_QUBIT_ELEM]{element:[OUTPUT]{state:|u>, part:2}, targets:{t + 1 .. t + s}}, ..., [MULTI_QUBIT_ELEM]{element:[OUTPUT]{state:|u>, part:s}, targets:{t + 1 .. t + s}})| = |((_b, 1), (_b, 2), ..., (_b, t + s))|\n",
       "   core type: Operation\n",
       "   operator: 1\n",
       "   operands: 2\n",
       "1. =\n",
       "   core type: Literal\n",
       "   sub-expressions: \n",
       "2. (|([MULTI_QUBIT_ELEM]{element:[OUTPUT]{state:|m〉_{t}, part:1}, targets:{1 .. t}}, [MULTI_QUBIT_ELEM]{element:[OUTPUT]{state:|m〉_{t}, part:2}, targets:{1 .. t}}, ..., [MULTI_QUBIT_ELEM]{element:[OUTPUT]{state:|m〉_{t}, part:t}, targets:{1 .. t}},[MULTI_QUBIT_ELEM]{element:[OUTPUT]{state:|u>, part:1}, targets:{t + 1 .. t + s}}, [MULTI_QUBIT_ELEM]{element:[OUTPUT]{state:|u>, part:2}, targets:{t + 1 .. t + s}}, ..., [MULTI_QUBIT_ELEM]{element:[OUTPUT]{state:|u>, part:s}, targets:{t + 1 .. t + s}})|, |((_b, 1), (_b, 2), ..., (_b, t + s))|)\n",
       "   core type: ExprTuple\n",
       "   sub-expressions: 3, 4\n",
       "3. |([MULTI_QUBIT_ELEM]{element:[OUTPUT]{state:|m〉_{t}, part:1}, targets:{1 .. t}}, [MULTI_QUBIT_ELEM]{element:[OUTPUT]{state:|m〉_{t}, part:2}, targets:{1 .. t}}, ..., [MULTI_QUBIT_ELEM]{element:[OUTPUT]{state:|m〉_{t}, part:t}, targets:{1 .. t}},[MULTI_QUBIT_ELEM]{element:[OUTPUT]{state:|u>, part:1}, targets:{t + 1 .. t + s}}, [MULTI_QUBIT_ELEM]{element:[OUTPUT]{state:|u>, part:2}, targets:{t + 1 .. t + s}}, ..., [MULTI_QUBIT_ELEM]{element:[OUTPUT]{state:|u>, part:s}, targets:{t + 1 .. t + s}})|\n",
       "   core type: Operation\n",
       "   operator: 6\n",
       "   operands: 5\n",
       "4. |((_b, 1), (_b, 2), ..., (_b, t + s))|\n",
       "   core type: Operation\n",
       "   operator: 6\n",
       "   operands: 7\n",
       "5. ([MULTI_QUBIT_ELEM]{element:[OUTPUT]{state:|m〉_{t}, part:1}, targets:{1 .. t}}, [MULTI_QUBIT_ELEM]{element:[OUTPUT]{state:|m〉_{t}, part:2}, targets:{1 .. t}}, ..., [MULTI_QUBIT_ELEM]{element:[OUTPUT]{state:|m〉_{t}, part:t}, targets:{1 .. t}},[MULTI_QUBIT_ELEM]{element:[OUTPUT]{state:|u>, part:1}, targets:{t + 1 .. t + s}}, [MULTI_QUBIT_ELEM]{element:[OUTPUT]{state:|u>, part:2}, targets:{t + 1 .. t + s}}, ..., [MULTI_QUBIT_ELEM]{element:[OUTPUT]{state:|u>, part:s}, targets:{t + 1 .. t + s}})\n",
       "   core type: ExprTuple\n",
       "   sub-expressions: 8, 9\n",
       "6. length\n",
       "   core type: Literal\n",
       "   sub-expressions: \n",
       "7. ((_b, 1), (_b, 2), ..., (_b, t + s))\n",
       "   core type: ExprTuple\n",
       "   sub-expressions: 10\n",
       "8. [MULTI_QUBIT_ELEM]{element:[OUTPUT]{state:|m〉_{t}, part:1}, targets:{1 .. t}}, [MULTI_QUBIT_ELEM]{element:[OUTPUT]{state:|m〉_{t}, part:2}, targets:{1 .. t}}, ..., [MULTI_QUBIT_ELEM]{element:[OUTPUT]{state:|m〉_{t}, part:t}, targets:{1 .. t}}\n",
       "   core type: ExprRange\n",
       "   lambda_map: 11\n",
       "   start_index: 43\n",
       "   end_index: 44\n",
       "9. [MULTI_QUBIT_ELEM]{element:[OUTPUT]{state:|u>, part:1}, targets:{t + 1 .. t + s}}, [MULTI_QUBIT_ELEM]{element:[OUTPUT]{state:|u>, part:2}, targets:{t + 1 .. t + s}}, ..., [MULTI_QUBIT_ELEM]{element:[OUTPUT]{state:|u>, part:s}, targets:{t + 1 .. t + s}}\n",
       "   core type: ExprRange\n",
       "   lambda_map: 12\n",
       "   start_index: 43\n",
       "   end_index: 45\n",
       "10. (_b, 1), (_b, 2), ..., (_b, t + s)\n",
       "    core type: ExprRange\n",
       "    lambda_map: 13\n",
       "    start_index: 43\n",
       "    end_index: 36\n",
       "11. _a -> [MULTI_QUBIT_ELEM]{element:[OUTPUT]{state:|m〉_{t}, part:_a}, targets:{1 .. t}}\n",
       "    core type: Lambda\n",
       "    parameter: 34\n",
       "    body: 14\n",
       "12. _a -> [MULTI_QUBIT_ELEM]{element:[OUTPUT]{state:|u>, part:_a}, targets:{t + 1 .. t + s}}\n",
       "    core type: Lambda\n",
       "    parameter: 34\n",
       "    body: 15\n",
       "13. _a -> (_b, _a)\n",
       "    core type: Lambda\n",
       "    parameter: 34\n",
       "    body: 17\n",
       "14. [MULTI_QUBIT_ELEM]{element:[OUTPUT]{state:|m〉_{t}, part:_a}, targets:{1 .. t}}\n",
       "    core type: Operation\n",
       "    operator: 19\n",
       "    operands: 18\n",
       "15. [MULTI_QUBIT_ELEM]{element:[OUTPUT]{state:|u>, part:_a}, targets:{t + 1 .. t + s}}\n",
       "    core type: Operation\n",
       "    operator: 19\n",
       "    operands: 20\n",
       "16. (_a)\n",
       "    core type: ExprTuple\n",
       "    sub-expressions: 34\n",
       "17. (_b, _a)\n",
       "    core type: ExprTuple\n",
       "    sub-expressions: 21, 34\n",
       "18. {element:[OUTPUT]{state:|m〉_{t}, part:_a}, targets:{1 .. t}}\n",
       "    core type: NamedExprs\n",
       "    element: 22\n",
       "    targets: 23\n",
       "19. MULTI_QUBIT_ELEM\n",
       "    core type: Literal\n",
       "    sub-expressions: \n",
       "20. {element:[OUTPUT]{state:|u>, part:_a}, targets:{t + 1 .. t + s}}\n",
       "    core type: NamedExprs\n",
       "    element: 24\n",
       "    targets: 25\n",
       "21. _b\n",
       "    core type: Variable\n",
       "    sub-expressions: \n",
       "22. [OUTPUT]{state:|m〉_{t}, part:_a}\n",
       "    core type: Operation\n",
       "    operator: 28\n",
       "    operands: 26\n",
       "23. {1 .. t}\n",
       "    core type: Operation\n",
       "    operator: 30\n",
       "    operands: 27\n",
       "24. [OUTPUT]{state:|u>, part:_a}\n",
       "    core type: Operation\n",
       "    operator: 28\n",
       "    operands: 29\n",
       "25. {t + 1 .. t + s}\n",
       "    core type: Operation\n",
       "    operator: 30\n",
       "    operands: 31\n",
       "26. {state:|m〉_{t}, part:_a}\n",
       "    core type: NamedExprs\n",
       "    state: 32\n",
       "    part: 34\n",
       "27. (1, t)\n",
       "    core type: ExprTuple\n",
       "    sub-expressions: 43, 44\n",
       "28. OUTPUT\n",
       "    core type: Literal\n",
       "    sub-expressions: \n",
       "29. {state:|u>, part:_a}\n",
       "    core type: NamedExprs\n",
       "    state: 33\n",
       "    part: 34\n",
       "30. Interval\n",
       "    core type: Literal\n",
       "    sub-expressions: \n",
       "31. (t + 1, t + s)\n",
       "    core type: ExprTuple\n",
       "    sub-expressions: 35, 36\n",
       "32. |m〉_{t}\n",
       "    core type: Operation\n",
       "    operator: 37\n",
       "    operands: 38\n",
       "33. |u>\n",
       "    core type: Literal\n",
       "    sub-expressions: \n",
       "34. _a\n",
       "    core type: Variable\n",
       "    sub-expressions: \n",
       "35. t + 1\n",
       "    core type: Operation\n",
       "    operator: 40\n",
       "    operands: 39\n",
       "36. t + s\n",
       "    core type: Operation\n",
       "    operator: 40\n",
       "    operands: 41\n",
       "37. NUM_KET\n",
       "    core type: Literal\n",
       "    sub-expressions: \n",
       "38. (m, t)\n",
       "    core type: ExprTuple\n",
       "    sub-expressions: 42, 44\n",
       "39. (t, 1)\n",
       "    core type: ExprTuple\n",
       "    sub-expressions: 44, 43\n",
       "40. +\n",
       "    core type: Literal\n",
       "    sub-expressions: \n",
       "41. (t, s)\n",
       "    core type: ExprTuple\n",
       "    sub-expressions: 44, 45\n",
       "42. m\n",
       "    core type: Variable\n",
       "    sub-expressions: \n",
       "43. 1\n",
       "    core type: Literal\n",
       "    sub-expressions: \n",
       "44. t\n",
       "    core type: Literal\n",
       "    sub-expressions: \n",
       "45. s\n",
       "    core type: Literal\n",
       "    sub-expressions: "
      ]
     },
     "metadata": {},
     "output_type": "display_data"
    }
   ],
   "source": [
    "# display the expression information\n",
    "stored_expr.expr_info()"
   ]
  },
  {
   "cell_type": "code",
   "execution_count": null,
   "metadata": {},
   "outputs": [],
   "source": []
  }
 ],
 "metadata": {
  "kernelspec": {
   "display_name": "Python 3",
   "language": "python",
   "name": "python3"
  }
 },
 "nbformat": 4,
 "nbformat_minor": 0
}