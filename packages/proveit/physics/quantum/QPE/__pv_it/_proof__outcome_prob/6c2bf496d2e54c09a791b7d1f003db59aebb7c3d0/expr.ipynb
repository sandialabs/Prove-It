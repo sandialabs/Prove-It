{
 "cells": [
  {
   "cell_type": "markdown",
   "metadata": {},
   "source": [
    "Expression of type <a class=\"ProveItLink\" href=\"../../../../../../../../doc/html/api/proveit.statistics.Prob.html\">Prob</a>\n",
    "=======================\n",
    "# from the theory of <a class=\"ProveItLink\" href=\"../../../_theory_nbs_/theory.ipynb\">proveit.physics.quantum.QPE</a>"
   ]
  },
  {
   "cell_type": "code",
   "execution_count": 1,
   "metadata": {},
   "outputs": [],
   "source": [
    "import proveit\n",
    "# Automation is not needed when building an expression:\n",
    "proveit.defaults.automation = False # This will speed things up.\n",
    "proveit.defaults.inline_pngs = False # Makes files smaller.\n",
    "%load_expr # Load the stored expression as 'stored_expr'\n",
    "# import Expression classes needed to build the expression\n",
    "from proveit import ExprRange, Variable, VertExprArray, m\n",
    "from proveit.numbers import Interval, one\n",
    "from proveit.physics.quantum import NumKet, Z\n",
    "from proveit.physics.quantum.QPE import _Psi_ket, _t\n",
    "from proveit.physics.quantum.circuits import Input, Measure, MultiQubitElem, Output, Qcircuit\n",
    "from proveit.statistics import Prob"
   ]
  },
  {
   "cell_type": "code",
   "execution_count": 2,
   "metadata": {},
   "outputs": [
    {
     "data": {
      "text/html": [
       "<strong id=\"expr\">expr:</strong> <a class=\"ProveItLink\" href=\"expr.ipynb\"><img src=\"expr.png\" style=\"display:inline;vertical-align:middle;\" /></a><br>"
      ],
      "text/plain": [
       "<IPython.core.display.HTML object>"
      ]
     },
     "metadata": {},
     "output_type": "display_data"
    }
   ],
   "source": [
    "# build up the expression from sub-expressions\n",
    "sub_expr1 = Variable(\"_a\", latex_format = r\"{_{-}a}\")\n",
    "sub_expr2 = Interval(one, _t)\n",
    "expr = Prob(Qcircuit(vert_expr_array = VertExprArray([ExprRange(sub_expr1, MultiQubitElem(element = Input(state = _Psi_ket, part = sub_expr1), targets = sub_expr2), one, _t)], [ExprRange(sub_expr1, Measure(basis = Z), one, _t)], [ExprRange(sub_expr1, MultiQubitElem(element = Output(state = NumKet(m, _t), part = sub_expr1), targets = sub_expr2), one, _t)])))"
   ]
  },
  {
   "cell_type": "code",
   "execution_count": 3,
   "metadata": {},
   "outputs": [
    {
     "name": "stdout",
     "output_type": "stream",
     "text": [
      "Passed sanity check: expr matches stored_expr\n"
     ]
    }
   ],
   "source": [
    "# check that the built expression is the same as the stored expression\n",
    "assert expr == stored_expr\n",
    "assert expr._style_id == stored_expr._style_id\n",
    "print(\"Passed sanity check: expr matches stored_expr\")"
   ]
  },
  {
   "cell_type": "code",
   "execution_count": 4,
   "metadata": {},
   "outputs": [
    {
     "name": "stdout",
     "output_type": "stream",
     "text": [
      "\\textrm{Pr}\\left(\\begin{array}{c} \\Qcircuit@C=1em @R=.7em{\n",
      "\\multiqin{3}{\\lvert \\Psi \\rangle} & \\meter & \\multiqout{3}{\\lvert m \\rangle_{t}} \\\\\n",
      "\\ghostqin{\\lvert \\Psi \\rangle} & \\meter & \\ghostqout{\\lvert m \\rangle_{t}} \\\\\n",
      "\\ghostqin{\\lvert \\Psi \\rangle} & \\measure{\\begin{array}{c}:\\\\ \\left(t - 3\\right) \\times \\\\:\\end{array}} \\qw & \\ghostqout{\\lvert m \\rangle_{t}} \\\\\n",
      "\\ghostqin{\\lvert \\Psi \\rangle} & \\meter & \\ghostqout{\\lvert m \\rangle_{t}}\n",
      "} \\end{array}\\right)\n"
     ]
    }
   ],
   "source": [
    "# Show the LaTeX representation of the expression for convenience if you need it.\n",
    "print(stored_expr.latex())"
   ]
  },
  {
   "cell_type": "code",
   "execution_count": 5,
   "metadata": {},
   "outputs": [
    {
     "data": {
      "text/html": [
       "no style options"
      ],
      "text/plain": [
       "no style options"
      ]
     },
     "metadata": {},
     "output_type": "display_data"
    }
   ],
   "source": [
    "stored_expr.style_options()"
   ]
  },
  {
   "cell_type": "code",
   "execution_count": 6,
   "metadata": {},
   "outputs": [
    {
     "data": {
      "text/html": [
       "<table><tr><th>&nbsp;</th><th>core type</th><th>sub-expressions</th><th>expression</th></tr>\n",
       "<tr><td>0</td><td>Operation</td><td>operator:&nbsp;1<br>operand:&nbsp;3<br></td><td><a class=\"ProveItLink\" href=\"expr.ipynb\"><img src=\"expr.png\" style=\"display:inline;vertical-align:middle;\" /></a></td></tr>\n",
       "<tr><td>1</td><td>Literal</td><td></td><td><a class=\"ProveItLink\" href=\"../../../../../../statistics/__pv_it/common/088e9f40f9e6ba1dcc7d39fd35fd8d244261148e0/expr.ipynb\"><img src=\"../../../../../../statistics/__pv_it/common/088e9f40f9e6ba1dcc7d39fd35fd8d244261148e0/expr.png\" style=\"display:inline;vertical-align:middle;\" /></a></td></tr>\n",
       "<tr><td>2</td><td>ExprTuple</td><td>3</td><td><a class=\"ProveItLink\" href=\"../7696c18bb202d3915b24b7d69795e50c2de0d8720/expr.ipynb\"><img src=\"../7696c18bb202d3915b24b7d69795e50c2de0d8720/expr.png\" style=\"display:inline;vertical-align:middle;\" /></a></td></tr>\n",
       "<tr><td>3</td><td>Operation</td><td>operator:&nbsp;4<br>operands:&nbsp;5<br></td><td><a class=\"ProveItLink\" href=\"../a17942fd26df8271beabab3ae297975537533d940/expr.ipynb\"><img src=\"../a17942fd26df8271beabab3ae297975537533d940/expr.png\" style=\"display:inline;vertical-align:middle;\" /></a></td></tr>\n",
       "<tr><td>4</td><td>Literal</td><td></td><td><a class=\"ProveItLink\" href=\"../../../../circuits/__pv_it/common/40003b89a3d1740159ada9fe5b21308b42a7d3d40/expr.ipynb\"><img src=\"../../../../circuits/__pv_it/common/40003b89a3d1740159ada9fe5b21308b42a7d3d40/expr.png\" style=\"display:inline;vertical-align:middle;\" /></a></td></tr>\n",
       "<tr><td>5</td><td>ExprTuple</td><td>6, 7, 8</td><td><a class=\"ProveItLink\" href=\"../a900983192705c806ab7614ea01c1d745026c8170/expr.ipynb\"><img src=\"../a900983192705c806ab7614ea01c1d745026c8170/expr.png\" style=\"display:inline;vertical-align:middle;\" /></a></td></tr>\n",
       "<tr><td>6</td><td>ExprTuple</td><td>9</td><td><a class=\"ProveItLink\" href=\"../50edc521eee463ef862508b021957c93dd4968e90/expr.ipynb\"><img src=\"../50edc521eee463ef862508b021957c93dd4968e90/expr.png\" style=\"display:inline;vertical-align:middle;\" /></a></td></tr>\n",
       "<tr><td>7</td><td>ExprTuple</td><td>10</td><td><a class=\"ProveItLink\" href=\"../05d2002395bd48e4394ee6dddabbdbb2ff2334ba0/expr.ipynb\"><img src=\"../05d2002395bd48e4394ee6dddabbdbb2ff2334ba0/expr.png\" style=\"display:inline;vertical-align:middle;\" /></a></td></tr>\n",
       "<tr><td>8</td><td>ExprTuple</td><td>11</td><td><a class=\"ProveItLink\" href=\"../137cfa2733d754134570963685e61c930c8e38150/expr.ipynb\"><img src=\"../137cfa2733d754134570963685e61c930c8e38150/expr.png\" style=\"display:inline;vertical-align:middle;\" /></a></td></tr>\n",
       "<tr><td>9</td><td>ExprRange</td><td>lambda_map:&nbsp;12<br>start_index:&nbsp;37<br>end_index:&nbsp;41<br></td><td><a class=\"ProveItLink\" href=\"../1adaa81677b4c448603c0ccb5ed8fa35c85bd0af0/expr.ipynb\"><img src=\"../1adaa81677b4c448603c0ccb5ed8fa35c85bd0af0/expr.png\" style=\"display:inline;vertical-align:middle;\" /></a></td></tr>\n",
       "<tr><td>10</td><td>ExprRange</td><td>lambda_map:&nbsp;13<br>start_index:&nbsp;37<br>end_index:&nbsp;41<br></td><td><a class=\"ProveItLink\" href=\"../../common/a59f9d592cef6d6a58babb0c8105bcec069764a40/expr.ipynb\"><img src=\"../../common/a59f9d592cef6d6a58babb0c8105bcec069764a40/expr.png\" style=\"display:inline;vertical-align:middle;\" /></a></td></tr>\n",
       "<tr><td>11</td><td>ExprRange</td><td>lambda_map:&nbsp;14<br>start_index:&nbsp;37<br>end_index:&nbsp;41<br></td><td><a class=\"ProveItLink\" href=\"../../common/5588fe7ba6b58ce3d9853a0ef507dfdc9d46e4a80/expr.ipynb\"><img src=\"../../common/5588fe7ba6b58ce3d9853a0ef507dfdc9d46e4a80/expr.png\" style=\"display:inline;vertical-align:middle;\" /></a></td></tr>\n",
       "<tr><td>12</td><td>Lambda</td><td>parameter:&nbsp;36<br>body:&nbsp;15<br></td><td><a class=\"ProveItLink\" href=\"../e945c6e9dd09262dd563549f6bf4fd8fb0cc9fb00/expr.ipynb\"><img src=\"../e945c6e9dd09262dd563549f6bf4fd8fb0cc9fb00/expr.png\" style=\"display:inline;vertical-align:middle;\" /></a></td></tr>\n",
       "<tr><td>13</td><td>Lambda</td><td>parameter:&nbsp;36<br>body:&nbsp;16<br></td><td><a class=\"ProveItLink\" href=\"../../common/2be7dafeaf356be31ea5881ce862842ac6a5f8f20/expr.ipynb\"><img src=\"../../common/2be7dafeaf356be31ea5881ce862842ac6a5f8f20/expr.png\" style=\"display:inline;vertical-align:middle;\" /></a></td></tr>\n",
       "<tr><td>14</td><td>Lambda</td><td>parameter:&nbsp;36<br>body:&nbsp;18<br></td><td><a class=\"ProveItLink\" href=\"../../common/f251be1c955aa3d9a85963f4db2f08df7ddb717b0/expr.ipynb\"><img src=\"../../common/f251be1c955aa3d9a85963f4db2f08df7ddb717b0/expr.png\" style=\"display:inline;vertical-align:middle;\" /></a></td></tr>\n",
       "<tr><td>15</td><td>Operation</td><td>operator:&nbsp;22<br>operands:&nbsp;19<br></td><td><a class=\"ProveItLink\" href=\"../05a7fc1ebeeb8d011dae0f677998d6c13a73bae00/expr.ipynb\"><img src=\"../05a7fc1ebeeb8d011dae0f677998d6c13a73bae00/expr.png\" style=\"display:inline;vertical-align:middle;\" /></a></td></tr>\n",
       "<tr><td>16</td><td>Operation</td><td>operator:&nbsp;20<br>operands:&nbsp;21<br></td><td><a class=\"ProveItLink\" href=\"../../common/e841cc0f13c5a463516d594c894574eeeb3976ad0/expr.ipynb\"><img src=\"../../common/e841cc0f13c5a463516d594c894574eeeb3976ad0/expr.png\" style=\"display:inline;vertical-align:middle;\" /></a></td></tr>\n",
       "<tr><td>17</td><td>ExprTuple</td><td>36</td><td><a class=\"ProveItLink\" href=\"../../common/4b0dd6be36d76552eda6a95d5b4a27f5a5b62f900/expr.ipynb\"><img src=\"../../common/4b0dd6be36d76552eda6a95d5b4a27f5a5b62f900/expr.png\" style=\"display:inline;vertical-align:middle;\" /></a></td></tr>\n",
       "<tr><td>18</td><td>Operation</td><td>operator:&nbsp;22<br>operands:&nbsp;23<br></td><td><a class=\"ProveItLink\" href=\"../../common/def880b0b62abaced83fa41d87f3b2191cd3d3c00/expr.ipynb\"><img src=\"../../common/def880b0b62abaced83fa41d87f3b2191cd3d3c00/expr.png\" style=\"display:inline;vertical-align:middle;\" /></a></td></tr>\n",
       "<tr><td>19</td><td>NamedExprs</td><td>element: 24<br>targets: 27<br></td><td><a class=\"ProveItLink\" href=\"../45e6468321895ef3a19520418bf541a7a1ca3bdf0/expr.ipynb\"><img src=\"../45e6468321895ef3a19520418bf541a7a1ca3bdf0/expr.png\" style=\"display:inline;vertical-align:middle;\" /></a></td></tr>\n",
       "<tr><td>20</td><td>Literal</td><td></td><td><a class=\"ProveItLink\" href=\"../../../../circuits/__pv_it/common/5e7176f4ee66b255b7d25def312f57fd0b0ba0090/expr.ipynb\"><img src=\"../../../../circuits/__pv_it/common/5e7176f4ee66b255b7d25def312f57fd0b0ba0090/expr.png\" style=\"display:inline;vertical-align:middle;\" /></a></td></tr>\n",
       "<tr><td>21</td><td>NamedExprs</td><td>basis: 25<br></td><td><a class=\"ProveItLink\" href=\"../../common/fd4e3e8dba25f802558afeb12db00b31216c97650/expr.ipynb\"><img src=\"../../common/fd4e3e8dba25f802558afeb12db00b31216c97650/expr.png\" style=\"display:inline;vertical-align:middle;\" /></a></td></tr>\n",
       "<tr><td>22</td><td>Literal</td><td></td><td><a class=\"ProveItLink\" href=\"../../../../circuits/__pv_it/common/5eaa43008f05c06941080a12337ff182ea14996e0/expr.ipynb\"><img src=\"../../../../circuits/__pv_it/common/5eaa43008f05c06941080a12337ff182ea14996e0/expr.png\" style=\"display:inline;vertical-align:middle;\" /></a></td></tr>\n",
       "<tr><td>23</td><td>NamedExprs</td><td>element: 26<br>targets: 27<br></td><td><a class=\"ProveItLink\" href=\"../../common/b298c4b442927e0b9a9337df790992e0c4e085330/expr.ipynb\"><img src=\"../../common/b298c4b442927e0b9a9337df790992e0c4e085330/expr.png\" style=\"display:inline;vertical-align:middle;\" /></a></td></tr>\n",
       "<tr><td>24</td><td>Operation</td><td>operator:&nbsp;28<br>operands:&nbsp;29<br></td><td><a class=\"ProveItLink\" href=\"../85d6bb0bbae73fe01f8a1b11f8871c9a9effd2430/expr.ipynb\"><img src=\"../85d6bb0bbae73fe01f8a1b11f8871c9a9effd2430/expr.png\" style=\"display:inline;vertical-align:middle;\" /></a></td></tr>\n",
       "<tr><td>25</td><td>Literal</td><td></td><td><a class=\"ProveItLink\" href=\"../../../../__pv_it/common/2c528f33b8384666a054a8146aa84d2f45cc85490/expr.ipynb\"><img src=\"../../../../__pv_it/common/2c528f33b8384666a054a8146aa84d2f45cc85490/expr.png\" style=\"display:inline;vertical-align:middle;\" /></a></td></tr>\n",
       "<tr><td>26</td><td>Operation</td><td>operator:&nbsp;30<br>operands:&nbsp;31<br></td><td><a class=\"ProveItLink\" href=\"../../common/8f741a55359aaa0ce6b140ff3b7dccbcda58c9750/expr.ipynb\"><img src=\"../../common/8f741a55359aaa0ce6b140ff3b7dccbcda58c9750/expr.png\" style=\"display:inline;vertical-align:middle;\" /></a></td></tr>\n",
       "<tr><td>27</td><td>Operation</td><td>operator:&nbsp;32<br>operands:&nbsp;33<br></td><td><a class=\"ProveItLink\" href=\"../../common/e122b9c60b738854d914e6ecd981b572cc15d7ba0/expr.ipynb\"><img src=\"../../common/e122b9c60b738854d914e6ecd981b572cc15d7ba0/expr.png\" style=\"display:inline;vertical-align:middle;\" /></a></td></tr>\n",
       "<tr><td>28</td><td>Literal</td><td></td><td><a class=\"ProveItLink\" href=\"../../../../circuits/__pv_it/common/deea8715ce6701df08bbe1d049112a0bad4965c20/expr.ipynb\"><img src=\"../../../../circuits/__pv_it/common/deea8715ce6701df08bbe1d049112a0bad4965c20/expr.png\" style=\"display:inline;vertical-align:middle;\" /></a></td></tr>\n",
       "<tr><td>29</td><td>NamedExprs</td><td>state: 34<br>part: 36<br></td><td><a class=\"ProveItLink\" href=\"../../common/93976a9e622c7ac7300a9c5d7dd011e765cd79a10/expr.ipynb\"><img src=\"../../common/93976a9e622c7ac7300a9c5d7dd011e765cd79a10/expr.png\" style=\"display:inline;vertical-align:middle;\" /></a></td></tr>\n",
       "<tr><td>30</td><td>Literal</td><td></td><td><a class=\"ProveItLink\" href=\"../../../../circuits/__pv_it/common/00345a9c4f4d361e0b6e8bbbbe5a33a8ec86a20b0/expr.ipynb\"><img src=\"../../../../circuits/__pv_it/common/00345a9c4f4d361e0b6e8bbbbe5a33a8ec86a20b0/expr.png\" style=\"display:inline;vertical-align:middle;\" /></a></td></tr>\n",
       "<tr><td>31</td><td>NamedExprs</td><td>state: 35<br>part: 36<br></td><td><a class=\"ProveItLink\" href=\"../../common/d1ef23609e57349feae4b5f66bd2e88ecea3264b0/expr.ipynb\"><img src=\"../../common/d1ef23609e57349feae4b5f66bd2e88ecea3264b0/expr.png\" style=\"display:inline;vertical-align:middle;\" /></a></td></tr>\n",
       "<tr><td>32</td><td>Literal</td><td></td><td><a class=\"ProveItLink\" href=\"../../../../../../numbers/number_sets/integers/__pv_it/common/92f3a0a77e3c3ea8e4a5c8674edadc54e4f57d550/expr.ipynb\"><img src=\"../../../../../../numbers/number_sets/integers/__pv_it/common/92f3a0a77e3c3ea8e4a5c8674edadc54e4f57d550/expr.png\" style=\"display:inline;vertical-align:middle;\" /></a></td></tr>\n",
       "<tr><td>33</td><td>ExprTuple</td><td>37, 41</td><td><a class=\"ProveItLink\" href=\"../../common/5bbcfd1311319843ab62a23688c905a8a364e8380/expr.ipynb\"><img src=\"../../common/5bbcfd1311319843ab62a23688c905a8a364e8380/expr.png\" style=\"display:inline;vertical-align:middle;\" /></a></td></tr>\n",
       "<tr><td>34</td><td>Literal</td><td></td><td><a class=\"ProveItLink\" href=\"../../common/420179ba67a51d79c8f2a2e0468e9dec8441a4510/expr.ipynb\"><img src=\"../../common/420179ba67a51d79c8f2a2e0468e9dec8441a4510/expr.png\" style=\"display:inline;vertical-align:middle;\" /></a></td></tr>\n",
       "<tr><td>35</td><td>Operation</td><td>operator:&nbsp;38<br>operands:&nbsp;39<br></td><td><a class=\"ProveItLink\" href=\"../../common/8580baf79f9b30562b4fcaa7fc4531ffc563db8a0/expr.ipynb\"><img src=\"../../common/8580baf79f9b30562b4fcaa7fc4531ffc563db8a0/expr.png\" style=\"display:inline;vertical-align:middle;\" /></a></td></tr>\n",
       "<tr><td>36</td><td>Variable</td><td></td><td><a class=\"ProveItLink\" href=\"../../common/006c465e50948aa2b52285e2de47974f741255cc0/expr.ipynb\"><img src=\"../../common/006c465e50948aa2b52285e2de47974f741255cc0/expr.png\" style=\"display:inline;vertical-align:middle;\" /></a></td></tr>\n",
       "<tr><td>37</td><td>Literal</td><td></td><td><a class=\"ProveItLink\" href=\"../../../../../../numbers/numerals/__pv_it/common/682157d4892d216d9e5626ed533aff9b56b9506e0/expr.ipynb\"><img src=\"../../../../../../numbers/numerals/__pv_it/common/682157d4892d216d9e5626ed533aff9b56b9506e0/expr.png\" style=\"display:inline;vertical-align:middle;\" /></a></td></tr>\n",
       "<tr><td>38</td><td>Literal</td><td></td><td><a class=\"ProveItLink\" href=\"../../../../algebra/__pv_it/common/8fae26fc802d6e77100c911db42f2d3784cdc7330/expr.ipynb\"><img src=\"../../../../algebra/__pv_it/common/8fae26fc802d6e77100c911db42f2d3784cdc7330/expr.png\" style=\"display:inline;vertical-align:middle;\" /></a></td></tr>\n",
       "<tr><td>39</td><td>ExprTuple</td><td>40, 41</td><td><a class=\"ProveItLink\" href=\"../../common/953eab40bc601e33085318a6772c33aaf06fab5f0/expr.ipynb\"><img src=\"../../common/953eab40bc601e33085318a6772c33aaf06fab5f0/expr.png\" style=\"display:inline;vertical-align:middle;\" /></a></td></tr>\n",
       "<tr><td>40</td><td>Variable</td><td></td><td><a class=\"ProveItLink\" href=\"../../../../../../__pv_it/common/674a03b9c3ca221b3aabd5636837b31528ff33830/expr.ipynb\"><img src=\"../../../../../../__pv_it/common/674a03b9c3ca221b3aabd5636837b31528ff33830/expr.png\" style=\"display:inline;vertical-align:middle;\" /></a></td></tr>\n",
       "<tr><td>41</td><td>Literal</td><td></td><td><a class=\"ProveItLink\" href=\"../../common/977cc67717328e22c93f8ab84e6a45e8cadce7790/expr.ipynb\"><img src=\"../../common/977cc67717328e22c93f8ab84e6a45e8cadce7790/expr.png\" style=\"display:inline;vertical-align:middle;\" /></a></td></tr>\n",
       "</table>\n"
      ],
      "text/plain": [
       "0. Pr(QCIRCUIT(VertExprArray(([MULTI_QUBIT_ELEM]{element:[INPUT]{state:|Psi>, part:1}, targets:{1 .. t}}, [MULTI_QUBIT_ELEM]{element:[INPUT]{state:|Psi>, part:2}, targets:{1 .. t}}, ..., [MULTI_QUBIT_ELEM]{element:[INPUT]{state:|Psi>, part:t}, targets:{1 .. t}}),  \\\\ ([MEASURE]{basis:Z}, [MEASURE]{basis:Z}, ..(t - 3) ×.., [MEASURE]{basis:Z}),  \\\\ ([MULTI_QUBIT_ELEM]{element:[OUTPUT]{state:|m〉_{t}, part:1}, targets:{1 .. t}}, [MULTI_QUBIT_ELEM]{element:[OUTPUT]{state:|m〉_{t}, part:2}, targets:{1 .. t}}, ..., [MULTI_QUBIT_ELEM]{element:[OUTPUT]{state:|m〉_{t}, part:t}, targets:{1 .. t}}))))\n",
       "   core type: Operation\n",
       "   operator: 1\n",
       "   operand: 3\n",
       "1. Pr\n",
       "   core type: Literal\n",
       "   sub-expressions: \n",
       "2. (QCIRCUIT(VertExprArray(([MULTI_QUBIT_ELEM]{element:[INPUT]{state:|Psi>, part:1}, targets:{1 .. t}}, [MULTI_QUBIT_ELEM]{element:[INPUT]{state:|Psi>, part:2}, targets:{1 .. t}}, ..., [MULTI_QUBIT_ELEM]{element:[INPUT]{state:|Psi>, part:t}, targets:{1 .. t}}),  \\\\ ([MEASURE]{basis:Z}, [MEASURE]{basis:Z}, ..(t - 3) ×.., [MEASURE]{basis:Z}),  \\\\ ([MULTI_QUBIT_ELEM]{element:[OUTPUT]{state:|m〉_{t}, part:1}, targets:{1 .. t}}, [MULTI_QUBIT_ELEM]{element:[OUTPUT]{state:|m〉_{t}, part:2}, targets:{1 .. t}}, ..., [MULTI_QUBIT_ELEM]{element:[OUTPUT]{state:|m〉_{t}, part:t}, targets:{1 .. t}}))))\n",
       "   core type: ExprTuple\n",
       "   sub-expressions: 3\n",
       "3. QCIRCUIT(VertExprArray(([MULTI_QUBIT_ELEM]{element:[INPUT]{state:|Psi>, part:1}, targets:{1 .. t}}, [MULTI_QUBIT_ELEM]{element:[INPUT]{state:|Psi>, part:2}, targets:{1 .. t}}, ..., [MULTI_QUBIT_ELEM]{element:[INPUT]{state:|Psi>, part:t}, targets:{1 .. t}}),  \\\\ ([MEASURE]{basis:Z}, [MEASURE]{basis:Z}, ..(t - 3) ×.., [MEASURE]{basis:Z}),  \\\\ ([MULTI_QUBIT_ELEM]{element:[OUTPUT]{state:|m〉_{t}, part:1}, targets:{1 .. t}}, [MULTI_QUBIT_ELEM]{element:[OUTPUT]{state:|m〉_{t}, part:2}, targets:{1 .. t}}, ..., [MULTI_QUBIT_ELEM]{element:[OUTPUT]{state:|m〉_{t}, part:t}, targets:{1 .. t}})))\n",
       "   core type: Operation\n",
       "   operator: 4\n",
       "   operands: 5\n",
       "4. QCIRCUIT\n",
       "   core type: Literal\n",
       "   sub-expressions: \n",
       "5. VertExprArray(([MULTI_QUBIT_ELEM]{element:[INPUT]{state:|Psi>, part:1}, targets:{1 .. t}}, [MULTI_QUBIT_ELEM]{element:[INPUT]{state:|Psi>, part:2}, targets:{1 .. t}}, ..., [MULTI_QUBIT_ELEM]{element:[INPUT]{state:|Psi>, part:t}, targets:{1 .. t}}),  \\\\ ([MEASURE]{basis:Z}, [MEASURE]{basis:Z}, ..(t - 3) ×.., [MEASURE]{basis:Z}),  \\\\ ([MULTI_QUBIT_ELEM]{element:[OUTPUT]{state:|m〉_{t}, part:1}, targets:{1 .. t}}, [MULTI_QUBIT_ELEM]{element:[OUTPUT]{state:|m〉_{t}, part:2}, targets:{1 .. t}}, ..., [MULTI_QUBIT_ELEM]{element:[OUTPUT]{state:|m〉_{t}, part:t}, targets:{1 .. t}}))\n",
       "   core type: ExprTuple\n",
       "   sub-expressions: 6, 7, 8\n",
       "6. ([MULTI_QUBIT_ELEM]{element:[INPUT]{state:|Psi>, part:1}, targets:{1 .. t}}, [MULTI_QUBIT_ELEM]{element:[INPUT]{state:|Psi>, part:2}, targets:{1 .. t}}, ..., [MULTI_QUBIT_ELEM]{element:[INPUT]{state:|Psi>, part:t}, targets:{1 .. t}})\n",
       "   core type: ExprTuple\n",
       "   sub-expressions: 9\n",
       "7. ([MEASURE]{basis:Z}, [MEASURE]{basis:Z}, ..(t - 3) ×.., [MEASURE]{basis:Z})\n",
       "   core type: ExprTuple\n",
       "   sub-expressions: 10\n",
       "8. ([MULTI_QUBIT_ELEM]{element:[OUTPUT]{state:|m〉_{t}, part:1}, targets:{1 .. t}}, [MULTI_QUBIT_ELEM]{element:[OUTPUT]{state:|m〉_{t}, part:2}, targets:{1 .. t}}, ..., [MULTI_QUBIT_ELEM]{element:[OUTPUT]{state:|m〉_{t}, part:t}, targets:{1 .. t}})\n",
       "   core type: ExprTuple\n",
       "   sub-expressions: 11\n",
       "9. [MULTI_QUBIT_ELEM]{element:[INPUT]{state:|Psi>, part:1}, targets:{1 .. t}}, [MULTI_QUBIT_ELEM]{element:[INPUT]{state:|Psi>, part:2}, targets:{1 .. t}}, ..., [MULTI_QUBIT_ELEM]{element:[INPUT]{state:|Psi>, part:t}, targets:{1 .. t}}\n",
       "   core type: ExprRange\n",
       "   lambda_map: 12\n",
       "   start_index: 37\n",
       "   end_index: 41\n",
       "10. [MEASURE]{basis:Z}, [MEASURE]{basis:Z}, ..(t - 3) ×.., [MEASURE]{basis:Z}\n",
       "    core type: ExprRange\n",
       "    lambda_map: 13\n",
       "    start_index: 37\n",
       "    end_index: 41\n",
       "11. [MULTI_QUBIT_ELEM]{element:[OUTPUT]{state:|m〉_{t}, part:1}, targets:{1 .. t}}, [MULTI_QUBIT_ELEM]{element:[OUTPUT]{state:|m〉_{t}, part:2}, targets:{1 .. t}}, ..., [MULTI_QUBIT_ELEM]{element:[OUTPUT]{state:|m〉_{t}, part:t}, targets:{1 .. t}}\n",
       "    core type: ExprRange\n",
       "    lambda_map: 14\n",
       "    start_index: 37\n",
       "    end_index: 41\n",
       "12. _a -> [MULTI_QUBIT_ELEM]{element:[INPUT]{state:|Psi>, part:_a}, targets:{1 .. t}}\n",
       "    core type: Lambda\n",
       "    parameter: 36\n",
       "    body: 15\n",
       "13. _a -> [MEASURE]{basis:Z}\n",
       "    core type: Lambda\n",
       "    parameter: 36\n",
       "    body: 16\n",
       "14. _a -> [MULTI_QUBIT_ELEM]{element:[OUTPUT]{state:|m〉_{t}, part:_a}, targets:{1 .. t}}\n",
       "    core type: Lambda\n",
       "    parameter: 36\n",
       "    body: 18\n",
       "15. [MULTI_QUBIT_ELEM]{element:[INPUT]{state:|Psi>, part:_a}, targets:{1 .. t}}\n",
       "    core type: Operation\n",
       "    operator: 22\n",
       "    operands: 19\n",
       "16. [MEASURE]{basis:Z}\n",
       "    core type: Operation\n",
       "    operator: 20\n",
       "    operands: 21\n",
       "17. (_a)\n",
       "    core type: ExprTuple\n",
       "    sub-expressions: 36\n",
       "18. [MULTI_QUBIT_ELEM]{element:[OUTPUT]{state:|m〉_{t}, part:_a}, targets:{1 .. t}}\n",
       "    core type: Operation\n",
       "    operator: 22\n",
       "    operands: 23\n",
       "19. {element:[INPUT]{state:|Psi>, part:_a}, targets:{1 .. t}}\n",
       "    core type: NamedExprs\n",
       "    element: 24\n",
       "    targets: 27\n",
       "20. MEASURE\n",
       "    core type: Literal\n",
       "    sub-expressions: \n",
       "21. {basis:Z}\n",
       "    core type: NamedExprs\n",
       "    basis: 25\n",
       "22. MULTI_QUBIT_ELEM\n",
       "    core type: Literal\n",
       "    sub-expressions: \n",
       "23. {element:[OUTPUT]{state:|m〉_{t}, part:_a}, targets:{1 .. t}}\n",
       "    core type: NamedExprs\n",
       "    element: 26\n",
       "    targets: 27\n",
       "24. [INPUT]{state:|Psi>, part:_a}\n",
       "    core type: Operation\n",
       "    operator: 28\n",
       "    operands: 29\n",
       "25. Z\n",
       "    core type: Literal\n",
       "    sub-expressions: \n",
       "26. [OUTPUT]{state:|m〉_{t}, part:_a}\n",
       "    core type: Operation\n",
       "    operator: 30\n",
       "    operands: 31\n",
       "27. {1 .. t}\n",
       "    core type: Operation\n",
       "    operator: 32\n",
       "    operands: 33\n",
       "28. INPUT\n",
       "    core type: Literal\n",
       "    sub-expressions: \n",
       "29. {state:|Psi>, part:_a}\n",
       "    core type: NamedExprs\n",
       "    state: 34\n",
       "    part: 36\n",
       "30. OUTPUT\n",
       "    core type: Literal\n",
       "    sub-expressions: \n",
       "31. {state:|m〉_{t}, part:_a}\n",
       "    core type: NamedExprs\n",
       "    state: 35\n",
       "    part: 36\n",
       "32. Interval\n",
       "    core type: Literal\n",
       "    sub-expressions: \n",
       "33. (1, t)\n",
       "    core type: ExprTuple\n",
       "    sub-expressions: 37, 41\n",
       "34. |Psi>\n",
       "    core type: Literal\n",
       "    sub-expressions: \n",
       "35. |m〉_{t}\n",
       "    core type: Operation\n",
       "    operator: 38\n",
       "    operands: 39\n",
       "36. _a\n",
       "    core type: Variable\n",
       "    sub-expressions: \n",
       "37. 1\n",
       "    core type: Literal\n",
       "    sub-expressions: \n",
       "38. NUM_KET\n",
       "    core type: Literal\n",
       "    sub-expressions: \n",
       "39. (m, t)\n",
       "    core type: ExprTuple\n",
       "    sub-expressions: 40, 41\n",
       "40. m\n",
       "    core type: Variable\n",
       "    sub-expressions: \n",
       "41. t\n",
       "    core type: Literal\n",
       "    sub-expressions: "
      ]
     },
     "metadata": {},
     "output_type": "display_data"
    }
   ],
   "source": [
    "# display the expression information\n",
    "stored_expr.expr_info()"
   ]
  },
  {
   "cell_type": "code",
   "execution_count": null,
   "metadata": {},
   "outputs": [],
   "source": []
  }
 ],
 "metadata": {
  "kernelspec": {
   "display_name": "Python 3",
   "language": "python",
   "name": "python3"
  }
 },
 "nbformat": 4,
 "nbformat_minor": 0
}