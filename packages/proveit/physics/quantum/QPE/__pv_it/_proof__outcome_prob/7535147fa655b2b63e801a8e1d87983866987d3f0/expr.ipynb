{
 "cells": [
  {
   "cell_type": "markdown",
   "metadata": {},
   "source": [
    "Expression of type <a class=\"ProveItLink\" href=\"../../../../../../../../doc/html/api/proveit.VertExprArray.html\">VertExprArray</a>\n",
    "=======================\n",
    "# from the theory of <a class=\"ProveItLink\" href=\"../../../_theory_nbs_/theory.ipynb\">proveit.physics.quantum.QPE</a>"
   ]
  },
  {
   "cell_type": "code",
   "execution_count": 1,
   "metadata": {},
   "outputs": [],
   "source": [
    "import proveit\n",
    "# Automation is not needed when building an expression:\n",
    "proveit.defaults.automation = False # This will speed things up.\n",
    "proveit.defaults.inline_pngs = False # Makes files smaller.\n",
    "%load_expr # Load the stored expression as 'stored_expr'\n",
    "# import Expression classes needed to build the expression\n",
    "from proveit import ExprRange, Variable, VertExprArray\n",
    "from proveit.linear_algebra import TensorProd\n",
    "from proveit.numbers import Add, Interval, one\n",
    "from proveit.physics.quantum.QPE import _Psi_ket, _ket_u, _s, _t\n",
    "from proveit.physics.quantum.circuits import Input, MultiQubitElem"
   ]
  },
  {
   "cell_type": "code",
   "execution_count": 2,
   "metadata": {},
   "outputs": [
    {
     "data": {
      "text/html": [
       "<strong id=\"expr\">expr:</strong> <a class=\"ProveItLink\" href=\"expr.ipynb\"><img src=\"expr.png\" style=\"display:inline;vertical-align:middle;\" /></a><br>"
      ],
      "text/plain": [
       "<IPython.core.display.HTML object>"
      ]
     },
     "metadata": {},
     "output_type": "display_data"
    }
   ],
   "source": [
    "# build up the expression from sub-expressions\n",
    "sub_expr1 = Variable(\"_a\", latex_format = r\"{_{-}a}\")\n",
    "sub_expr2 = Add(_t, _s)\n",
    "sub_expr3 = MultiQubitElem(element = Input(state = TensorProd(_Psi_ket, _ket_u), part = sub_expr1), targets = Interval(one, sub_expr2))\n",
    "expr = VertExprArray([ExprRange(sub_expr1, sub_expr3, one, _t).with_wrapping_at(2,6), ExprRange(sub_expr1, sub_expr3, Add(_t, one), sub_expr2).with_wrapping_at(2,6)])"
   ]
  },
  {
   "cell_type": "code",
   "execution_count": 3,
   "metadata": {},
   "outputs": [
    {
     "name": "stdout",
     "output_type": "stream",
     "text": [
      "Passed sanity check: expr matches stored_expr\n"
     ]
    }
   ],
   "source": [
    "# check that the built expression is the same as the stored expression\n",
    "assert expr == stored_expr\n",
    "assert expr._style_id == stored_expr._style_id\n",
    "print(\"Passed sanity check: expr matches stored_expr\")"
   ]
  },
  {
   "cell_type": "code",
   "execution_count": 4,
   "metadata": {},
   "outputs": [
    {
     "name": "stdout",
     "output_type": "stream",
     "text": [
      "\\begin{array}{c} \n",
      " \\begin{array}{c} \\Qcircuit@C=1em @R=.7em{\n",
      "& \\qin{\\lvert \\Psi \\rangle {\\otimes} \\lvert u \\rangle~\\mbox{part}~1~\\mbox{on}~\\{1~\\ldotp \\ldotp~t + s\\}} & \\qw \n",
      "} \\end{array} \\\\\n",
      "\\begin{array}{c} \\Qcircuit@C=1em @R=.7em{\n",
      "& \\qin{\\lvert \\Psi \\rangle {\\otimes} \\lvert u \\rangle~\\mbox{part}~2~\\mbox{on}~\\{1~\\ldotp \\ldotp~t + s\\}} & \\qw \n",
      "} \\end{array} \\\\\n",
      "\\vdots \\\\\n",
      "\\begin{array}{c} \\Qcircuit@C=1em @R=.7em{\n",
      "& \\qin{\\lvert \\Psi \\rangle {\\otimes} \\lvert u \\rangle~\\mbox{part}~t~\\mbox{on}~\\{1~\\ldotp \\ldotp~t + s\\}} & \\qw \n",
      "} \\end{array} \\\\\n",
      "\\begin{array}{c} \\Qcircuit@C=1em @R=.7em{\n",
      "& \\qin{\\lvert \\Psi \\rangle {\\otimes} \\lvert u \\rangle~\\mbox{part}~t + 1~\\mbox{on}~\\{1~\\ldotp \\ldotp~t + s\\}} & \\qw \n",
      "} \\end{array} \\\\\n",
      "\\begin{array}{c} \\Qcircuit@C=1em @R=.7em{\n",
      "& \\qin{\\lvert \\Psi \\rangle {\\otimes} \\lvert u \\rangle~\\mbox{part}~t + 2~\\mbox{on}~\\{1~\\ldotp \\ldotp~t + s\\}} & \\qw \n",
      "} \\end{array} \\\\\n",
      "\\vdots \\\\\n",
      "\\begin{array}{c} \\Qcircuit@C=1em @R=.7em{\n",
      "& \\qin{\\lvert \\Psi \\rangle {\\otimes} \\lvert u \\rangle~\\mbox{part}~t + s~\\mbox{on}~\\{1~\\ldotp \\ldotp~t + s\\}} & \\qw \n",
      "} \\end{array} \\\\\n",
      "\\end{array}\n",
      "\n"
     ]
    }
   ],
   "source": [
    "# Show the LaTeX representation of the expression for convenience if you need it.\n",
    "print(stored_expr.latex())"
   ]
  },
  {
   "cell_type": "code",
   "execution_count": 5,
   "metadata": {},
   "outputs": [
    {
     "data": {
      "text/html": [
       "<table>\n",
       "<tr><th>name</th><th>description</th><th>default</th><th>current value</th><th>related methods</th></tr><tr><td>justification</td><td>justify to the 'left', 'center', or 'right' in the array cells</td><td>center</td><td>center</td><td>with_justification</td></tr>\n",
       "</table>\n"
      ],
      "text/plain": [
       "style name: justification\n",
       "description: justify to the 'left', 'center', or 'right' in the array cells\n",
       "default: center\n",
       "current value: center\n",
       "related methods: with_justification"
      ]
     },
     "metadata": {},
     "output_type": "display_data"
    }
   ],
   "source": [
    "stored_expr.style_options()"
   ]
  },
  {
   "cell_type": "code",
   "execution_count": 6,
   "metadata": {},
   "outputs": [
    {
     "data": {
      "text/html": [
       "<table><tr><th>&nbsp;</th><th>core type</th><th>sub-expressions</th><th>expression</th></tr>\n",
       "<tr><td>0</td><td>ExprTuple</td><td>1</td><td><a class=\"ProveItLink\" href=\"expr.ipynb\"><img src=\"expr.png\" style=\"display:inline;vertical-align:middle;\" /></a></td></tr>\n",
       "<tr><td>1</td><td>ExprTuple</td><td>2, 3</td><td><a class=\"ProveItLink\" href=\"../b93067daed4049c833a2abfccf0a0e03dcddd13f0/expr.ipynb\"><img src=\"../b93067daed4049c833a2abfccf0a0e03dcddd13f0/expr.png\" style=\"display:inline;vertical-align:middle;\" /></a></td></tr>\n",
       "<tr><td>2</td><td>ExprRange</td><td>lambda_map:&nbsp;4<br>start_index:&nbsp;19<br>end_index:&nbsp;27<br></td><td><a class=\"ProveItLink\" href=\"../f2a02a8838acb508130ebf23dd7a0ade40ef5e9e0/expr.ipynb\"><img src=\"../f2a02a8838acb508130ebf23dd7a0ade40ef5e9e0/expr.png\" style=\"display:inline;vertical-align:middle;\" /></a></td></tr>\n",
       "<tr><td>3</td><td>ExprRange</td><td>lambda_map:&nbsp;4<br>start_index:&nbsp;5<br>end_index:&nbsp;20<br></td><td><a class=\"ProveItLink\" href=\"../d3ff58b7534ec73c82b09c33df7f5af4dd4e78910/expr.ipynb\"><img src=\"../d3ff58b7534ec73c82b09c33df7f5af4dd4e78910/expr.png\" style=\"display:inline;vertical-align:middle;\" /></a></td></tr>\n",
       "<tr><td>4</td><td>Lambda</td><td>parameter:&nbsp;18<br>body:&nbsp;7<br></td><td><a class=\"ProveItLink\" href=\"../a014c61a5f5dbcd71813013cf8319b6c07b28bae0/expr.ipynb\"><img src=\"../a014c61a5f5dbcd71813013cf8319b6c07b28bae0/expr.png\" style=\"display:inline;vertical-align:middle;\" /></a></td></tr>\n",
       "<tr><td>5</td><td>Operation</td><td>operator:&nbsp;23<br>operands:&nbsp;8<br></td><td><a class=\"ProveItLink\" href=\"../../common/ee59288f8ad36a7fc131fd5d062c398a9f67d7a70/expr.ipynb\"><img src=\"../../common/ee59288f8ad36a7fc131fd5d062c398a9f67d7a70/expr.png\" style=\"display:inline;vertical-align:middle;\" /></a></td></tr>\n",
       "<tr><td>6</td><td>ExprTuple</td><td>18</td><td><a class=\"ProveItLink\" href=\"../../../../../../core_expr_types/__pv_it/common/4b0dd6be36d76552eda6a95d5b4a27f5a5b62f900/expr.ipynb\"><img src=\"../../../../../../core_expr_types/__pv_it/common/4b0dd6be36d76552eda6a95d5b4a27f5a5b62f900/expr.png\" style=\"display:inline;vertical-align:middle;\" /></a></td></tr>\n",
       "<tr><td>7</td><td>Operation</td><td>operator:&nbsp;9<br>operands:&nbsp;10<br></td><td><a class=\"ProveItLink\" href=\"../6b3c3ae31d6e6cedc29182c5b2ec00ebc8df33710/expr.ipynb\"><img src=\"../6b3c3ae31d6e6cedc29182c5b2ec00ebc8df33710/expr.png\" style=\"display:inline;vertical-align:middle;\" /></a></td></tr>\n",
       "<tr><td>8</td><td>ExprTuple</td><td>27, 19</td><td><a class=\"ProveItLink\" href=\"../../common/b78bbf7fd57d1a1491fbbbcff71abb9d886680aa0/expr.ipynb\"><img src=\"../../common/b78bbf7fd57d1a1491fbbbcff71abb9d886680aa0/expr.png\" style=\"display:inline;vertical-align:middle;\" /></a></td></tr>\n",
       "<tr><td>9</td><td>Literal</td><td></td><td><a class=\"ProveItLink\" href=\"../../../../circuits/__pv_it/common/5eaa43008f05c06941080a12337ff182ea14996e0/expr.ipynb\"><img src=\"../../../../circuits/__pv_it/common/5eaa43008f05c06941080a12337ff182ea14996e0/expr.png\" style=\"display:inline;vertical-align:middle;\" /></a></td></tr>\n",
       "<tr><td>10</td><td>NamedExprs</td><td>element: 11<br>targets: 12<br></td><td><a class=\"ProveItLink\" href=\"../f97074ad5c5997fa687e72331ab00006e079b87d0/expr.ipynb\"><img src=\"../f97074ad5c5997fa687e72331ab00006e079b87d0/expr.png\" style=\"display:inline;vertical-align:middle;\" /></a></td></tr>\n",
       "<tr><td>11</td><td>Operation</td><td>operator:&nbsp;13<br>operands:&nbsp;14<br></td><td><a class=\"ProveItLink\" href=\"../bffa91f8eebe2d9024577bf099190af7625b011b0/expr.ipynb\"><img src=\"../bffa91f8eebe2d9024577bf099190af7625b011b0/expr.png\" style=\"display:inline;vertical-align:middle;\" /></a></td></tr>\n",
       "<tr><td>12</td><td>Operation</td><td>operator:&nbsp;15<br>operands:&nbsp;16<br></td><td><a class=\"ProveItLink\" href=\"../../common/df6bd9d94e48db81fbb35fd010dac489bd7580670/expr.ipynb\"><img src=\"../../common/df6bd9d94e48db81fbb35fd010dac489bd7580670/expr.png\" style=\"display:inline;vertical-align:middle;\" /></a></td></tr>\n",
       "<tr><td>13</td><td>Literal</td><td></td><td><a class=\"ProveItLink\" href=\"../../../../circuits/__pv_it/common/deea8715ce6701df08bbe1d049112a0bad4965c20/expr.ipynb\"><img src=\"../../../../circuits/__pv_it/common/deea8715ce6701df08bbe1d049112a0bad4965c20/expr.png\" style=\"display:inline;vertical-align:middle;\" /></a></td></tr>\n",
       "<tr><td>14</td><td>NamedExprs</td><td>state: 17<br>part: 18<br></td><td><a class=\"ProveItLink\" href=\"../81515247906851965c54c209e90db468509953b50/expr.ipynb\"><img src=\"../81515247906851965c54c209e90db468509953b50/expr.png\" style=\"display:inline;vertical-align:middle;\" /></a></td></tr>\n",
       "<tr><td>15</td><td>Literal</td><td></td><td><a class=\"ProveItLink\" href=\"../../../../../../numbers/number_sets/integers/__pv_it/common/92f3a0a77e3c3ea8e4a5c8674edadc54e4f57d550/expr.ipynb\"><img src=\"../../../../../../numbers/number_sets/integers/__pv_it/common/92f3a0a77e3c3ea8e4a5c8674edadc54e4f57d550/expr.png\" style=\"display:inline;vertical-align:middle;\" /></a></td></tr>\n",
       "<tr><td>16</td><td>ExprTuple</td><td>19, 20</td><td><a class=\"ProveItLink\" href=\"../../common/c651e777ecc5e810a4fe71a030c30f18b193739a0/expr.ipynb\"><img src=\"../../common/c651e777ecc5e810a4fe71a030c30f18b193739a0/expr.png\" style=\"display:inline;vertical-align:middle;\" /></a></td></tr>\n",
       "<tr><td>17</td><td>Operation</td><td>operator:&nbsp;21<br>operands:&nbsp;22<br></td><td><a class=\"ProveItLink\" href=\"../a4c163c542f141395ceefcd9bcf8d3fd3bb5b36c0/expr.ipynb\"><img src=\"../a4c163c542f141395ceefcd9bcf8d3fd3bb5b36c0/expr.png\" style=\"display:inline;vertical-align:middle;\" /></a></td></tr>\n",
       "<tr><td>18</td><td>Variable</td><td></td><td><a class=\"ProveItLink\" href=\"../../../../../../core_expr_types/__pv_it/common/006c465e50948aa2b52285e2de47974f741255cc0/expr.ipynb\"><img src=\"../../../../../../core_expr_types/__pv_it/common/006c465e50948aa2b52285e2de47974f741255cc0/expr.png\" style=\"display:inline;vertical-align:middle;\" /></a></td></tr>\n",
       "<tr><td>19</td><td>Literal</td><td></td><td><a class=\"ProveItLink\" href=\"../../../../../../numbers/numerals/__pv_it/common/682157d4892d216d9e5626ed533aff9b56b9506e0/expr.ipynb\"><img src=\"../../../../../../numbers/numerals/__pv_it/common/682157d4892d216d9e5626ed533aff9b56b9506e0/expr.png\" style=\"display:inline;vertical-align:middle;\" /></a></td></tr>\n",
       "<tr><td>20</td><td>Operation</td><td>operator:&nbsp;23<br>operands:&nbsp;24<br></td><td><a class=\"ProveItLink\" href=\"../../common/d594f9d2403ea6680916b743cd9c582a0a3aed4b0/expr.ipynb\"><img src=\"../../common/d594f9d2403ea6680916b743cd9c582a0a3aed4b0/expr.png\" style=\"display:inline;vertical-align:middle;\" /></a></td></tr>\n",
       "<tr><td>21</td><td>Literal</td><td></td><td><a class=\"ProveItLink\" href=\"../../../../../../linear_algebra/tensors/__pv_it/common/7fa25b05174babb4710be62d63ebd43f68aa2fec0/expr.ipynb\"><img src=\"../../../../../../linear_algebra/tensors/__pv_it/common/7fa25b05174babb4710be62d63ebd43f68aa2fec0/expr.png\" style=\"display:inline;vertical-align:middle;\" /></a></td></tr>\n",
       "<tr><td>22</td><td>ExprTuple</td><td>25, 26</td><td><a class=\"ProveItLink\" href=\"../54b69e46c9f0e122debc310ba220ebe4e28623160/expr.ipynb\"><img src=\"../54b69e46c9f0e122debc310ba220ebe4e28623160/expr.png\" style=\"display:inline;vertical-align:middle;\" /></a></td></tr>\n",
       "<tr><td>23</td><td>Literal</td><td></td><td><a class=\"ProveItLink\" href=\"../../../../../../numbers/addition/__pv_it/common/4b7effaab3619a1c2c38fe2dee8601df8ec714590/expr.ipynb\"><img src=\"../../../../../../numbers/addition/__pv_it/common/4b7effaab3619a1c2c38fe2dee8601df8ec714590/expr.png\" style=\"display:inline;vertical-align:middle;\" /></a></td></tr>\n",
       "<tr><td>24</td><td>ExprTuple</td><td>27, 28</td><td><a class=\"ProveItLink\" href=\"../../common/68a54423765fd39956fb91176c58139b7e4f5c510/expr.ipynb\"><img src=\"../../common/68a54423765fd39956fb91176c58139b7e4f5c510/expr.png\" style=\"display:inline;vertical-align:middle;\" /></a></td></tr>\n",
       "<tr><td>25</td><td>Literal</td><td></td><td><a class=\"ProveItLink\" href=\"../../common/420179ba67a51d79c8f2a2e0468e9dec8441a4510/expr.ipynb\"><img src=\"../../common/420179ba67a51d79c8f2a2e0468e9dec8441a4510/expr.png\" style=\"display:inline;vertical-align:middle;\" /></a></td></tr>\n",
       "<tr><td>26</td><td>Literal</td><td></td><td><a class=\"ProveItLink\" href=\"../../common/ca39d48f285e5b8b9c4fc5a4225a68cd859974bc0/expr.ipynb\"><img src=\"../../common/ca39d48f285e5b8b9c4fc5a4225a68cd859974bc0/expr.png\" style=\"display:inline;vertical-align:middle;\" /></a></td></tr>\n",
       "<tr><td>27</td><td>Literal</td><td></td><td><a class=\"ProveItLink\" href=\"../../common/977cc67717328e22c93f8ab84e6a45e8cadce7790/expr.ipynb\"><img src=\"../../common/977cc67717328e22c93f8ab84e6a45e8cadce7790/expr.png\" style=\"display:inline;vertical-align:middle;\" /></a></td></tr>\n",
       "<tr><td>28</td><td>Literal</td><td></td><td><a class=\"ProveItLink\" href=\"../../common/8a1628c4cfc7b78e5c5de183ba3f5cff0b20d4dd0/expr.ipynb\"><img src=\"../../common/8a1628c4cfc7b78e5c5de183ba3f5cff0b20d4dd0/expr.png\" style=\"display:inline;vertical-align:middle;\" /></a></td></tr>\n",
       "</table>\n"
      ],
      "text/plain": [
       "0. VertExprArray(([MULTI_QUBIT_ELEM]{element:[INPUT]{state:(|Psi> otimes |u>), part:1}, targets:{1 .. t + s}}, [MULTI_QUBIT_ELEM]{element:[INPUT]{state:(|Psi> otimes |u>), part:2}, targets:{1 .. t + s}}, ..., [MULTI_QUBIT_ELEM]{element:[INPUT]{state:(|Psi> otimes |u>), part:t}, targets:{1 .. t + s}},[MULTI_QUBIT_ELEM]{element:[INPUT]{state:(|Psi> otimes |u>), part:(t + 1)}, targets:{1 .. t + s}}, [MULTI_QUBIT_ELEM]{element:[INPUT]{state:(|Psi> otimes |u>), part:(t + 2)}, targets:{1 .. t + s}}, ..., [MULTI_QUBIT_ELEM]{element:[INPUT]{state:(|Psi> otimes |u>), part:(t + s)}, targets:{1 .. t + s}}))\n",
       "   core type: ExprTuple\n",
       "   sub-expressions: 1\n",
       "1. ([MULTI_QUBIT_ELEM]{element:[INPUT]{state:(|Psi> otimes |u>), part:1}, targets:{1 .. t + s}}, [MULTI_QUBIT_ELEM]{element:[INPUT]{state:(|Psi> otimes |u>), part:2}, targets:{1 .. t + s}}, ..., [MULTI_QUBIT_ELEM]{element:[INPUT]{state:(|Psi> otimes |u>), part:t}, targets:{1 .. t + s}},[MULTI_QUBIT_ELEM]{element:[INPUT]{state:(|Psi> otimes |u>), part:(t + 1)}, targets:{1 .. t + s}}, [MULTI_QUBIT_ELEM]{element:[INPUT]{state:(|Psi> otimes |u>), part:(t + 2)}, targets:{1 .. t + s}}, ..., [MULTI_QUBIT_ELEM]{element:[INPUT]{state:(|Psi> otimes |u>), part:(t + s)}, targets:{1 .. t + s}})\n",
       "   core type: ExprTuple\n",
       "   sub-expressions: 2, 3\n",
       "2. [MULTI_QUBIT_ELEM]{element:[INPUT]{state:(|Psi> otimes |u>), part:1}, targets:{1 .. t + s}},  \\\\ [MULTI_QUBIT_ELEM]{element:[INPUT]{state:(|Psi> otimes |u>), part:2}, targets:{1 .. t + s}}, ...,  \\\\ [MULTI_QUBIT_ELEM]{element:[INPUT]{state:(|Psi> otimes |u>), part:t}, targets:{1 .. t + s}}\n",
       "   core type: ExprRange\n",
       "   lambda_map: 4\n",
       "   start_index: 19\n",
       "   end_index: 27\n",
       "3. [MULTI_QUBIT_ELEM]{element:[INPUT]{state:(|Psi> otimes |u>), part:(t + 1)}, targets:{1 .. t + s}},  \\\\ [MULTI_QUBIT_ELEM]{element:[INPUT]{state:(|Psi> otimes |u>), part:(t + 2)}, targets:{1 .. t + s}}, ...,  \\\\ [MULTI_QUBIT_ELEM]{element:[INPUT]{state:(|Psi> otimes |u>), part:(t + s)}, targets:{1 .. t + s}}\n",
       "   core type: ExprRange\n",
       "   lambda_map: 4\n",
       "   start_index: 5\n",
       "   end_index: 20\n",
       "4. _a -> [MULTI_QUBIT_ELEM]{element:[INPUT]{state:(|Psi> otimes |u>), part:_a}, targets:{1 .. t + s}}\n",
       "   core type: Lambda\n",
       "   parameter: 18\n",
       "   body: 7\n",
       "5. t + 1\n",
       "   core type: Operation\n",
       "   operator: 23\n",
       "   operands: 8\n",
       "6. (_a)\n",
       "   core type: ExprTuple\n",
       "   sub-expressions: 18\n",
       "7. [MULTI_QUBIT_ELEM]{element:[INPUT]{state:(|Psi> otimes |u>), part:_a}, targets:{1 .. t + s}}\n",
       "   core type: Operation\n",
       "   operator: 9\n",
       "   operands: 10\n",
       "8. (t, 1)\n",
       "   core type: ExprTuple\n",
       "   sub-expressions: 27, 19\n",
       "9. MULTI_QUBIT_ELEM\n",
       "   core type: Literal\n",
       "   sub-expressions: \n",
       "10. {element:[INPUT]{state:(|Psi> otimes |u>), part:_a}, targets:{1 .. t + s}}\n",
       "    core type: NamedExprs\n",
       "    element: 11\n",
       "    targets: 12\n",
       "11. [INPUT]{state:(|Psi> otimes |u>), part:_a}\n",
       "    core type: Operation\n",
       "    operator: 13\n",
       "    operands: 14\n",
       "12. {1 .. t + s}\n",
       "    core type: Operation\n",
       "    operator: 15\n",
       "    operands: 16\n",
       "13. INPUT\n",
       "    core type: Literal\n",
       "    sub-expressions: \n",
       "14. {state:(|Psi> otimes |u>), part:_a}\n",
       "    core type: NamedExprs\n",
       "    state: 17\n",
       "    part: 18\n",
       "15. Interval\n",
       "    core type: Literal\n",
       "    sub-expressions: \n",
       "16. (1, t + s)\n",
       "    core type: ExprTuple\n",
       "    sub-expressions: 19, 20\n",
       "17. |Psi> otimes |u>\n",
       "    core type: Operation\n",
       "    operator: 21\n",
       "    operands: 22\n",
       "18. _a\n",
       "    core type: Variable\n",
       "    sub-expressions: \n",
       "19. 1\n",
       "    core type: Literal\n",
       "    sub-expressions: \n",
       "20. t + s\n",
       "    core type: Operation\n",
       "    operator: 23\n",
       "    operands: 24\n",
       "21. otimes\n",
       "    core type: Literal\n",
       "    sub-expressions: \n",
       "22. (|Psi>, |u>)\n",
       "    core type: ExprTuple\n",
       "    sub-expressions: 25, 26\n",
       "23. +\n",
       "    core type: Literal\n",
       "    sub-expressions: \n",
       "24. (t, s)\n",
       "    core type: ExprTuple\n",
       "    sub-expressions: 27, 28\n",
       "25. |Psi>\n",
       "    core type: Literal\n",
       "    sub-expressions: \n",
       "26. |u>\n",
       "    core type: Literal\n",
       "    sub-expressions: \n",
       "27. t\n",
       "    core type: Literal\n",
       "    sub-expressions: \n",
       "28. s\n",
       "    core type: Literal\n",
       "    sub-expressions: "
      ]
     },
     "metadata": {},
     "output_type": "display_data"
    }
   ],
   "source": [
    "# display the expression information\n",
    "stored_expr.expr_info()"
   ]
  },
  {
   "cell_type": "code",
   "execution_count": null,
   "metadata": {},
   "outputs": [],
   "source": []
  }
 ],
 "metadata": {
  "kernelspec": {
   "display_name": "Python 3",
   "language": "python",
   "name": "python3"
  }
 },
 "nbformat": 4,
 "nbformat_minor": 0
}