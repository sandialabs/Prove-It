{
 "cells": [
  {
   "cell_type": "markdown",
   "metadata": {},
   "source": [
    "Expression of type <a class=\"ProveItLink\" href=\"../../../../../../../../doc/html/api/proveit.ExprTuple.html\">ExprTuple</a>\n",
    "=======================\n",
    "# from the theory of <a class=\"ProveItLink\" href=\"../../../_theory_nbs_/theory.ipynb\">proveit.physics.quantum.QPE</a>"
   ]
  },
  {
   "cell_type": "code",
   "execution_count": 1,
   "metadata": {},
   "outputs": [],
   "source": [
    "import proveit\n",
    "# Automation is not needed when building an expression:\n",
    "proveit.defaults.automation = False # This will speed things up.\n",
    "proveit.defaults.inline_pngs = False # Makes files smaller.\n",
    "%load_expr # Load the stored expression as 'stored_expr'\n",
    "# import Expression classes needed to build the expression\n",
    "from proveit import ExprTuple\n",
    "from proveit.numbers import Add, Mult, Neg, one, three\n",
    "from proveit.physics.quantum.QPE import _s, _t"
   ]
  },
  {
   "cell_type": "code",
   "execution_count": 2,
   "metadata": {},
   "outputs": [
    {
     "data": {
      "text/html": [
       "<strong id=\"expr\">expr:</strong> <a class=\"ProveItLink\" href=\"expr.ipynb\"><img src=\"expr.png\" style=\"display:inline;vertical-align:middle;\" /></a><br>"
      ],
      "text/plain": [
       "<IPython.core.display.HTML object>"
      ]
     },
     "metadata": {},
     "output_type": "display_data"
    }
   ],
   "source": [
    "# build up the expression from sub-expressions\n",
    "sub_expr1 = Neg(one)\n",
    "sub_expr2 = Add(_t, sub_expr1, one)\n",
    "sub_expr3 = Add(Add(_t, _s), Neg(Add(_t, one)), one)\n",
    "expr = ExprTuple(Add(sub_expr2, Add(_s, sub_expr1, one), sub_expr2, sub_expr3, sub_expr2, sub_expr3), Add(Mult(three, _t), Mult(three, _s)))"
   ]
  },
  {
   "cell_type": "code",
   "execution_count": 3,
   "metadata": {},
   "outputs": [
    {
     "name": "stdout",
     "output_type": "stream",
     "text": [
      "Passed sanity check: expr matches stored_expr\n"
     ]
    }
   ],
   "source": [
    "# check that the built expression is the same as the stored expression\n",
    "assert expr == stored_expr\n",
    "assert expr._style_id == stored_expr._style_id\n",
    "print(\"Passed sanity check: expr matches stored_expr\")"
   ]
  },
  {
   "cell_type": "code",
   "execution_count": 4,
   "metadata": {},
   "outputs": [
    {
     "name": "stdout",
     "output_type": "stream",
     "text": [
      "\\left(\\left(t - 1 + 1\\right) + \\left(s - 1 + 1\\right) + \\left(t - 1 + 1\\right) + \\left(\\left(t + s\\right) - \\left(t + 1\\right) + 1\\right) + \\left(t - 1 + 1\\right) + \\left(\\left(t + s\\right) - \\left(t + 1\\right) + 1\\right), \\left(3 \\cdot t\\right) + \\left(3 \\cdot s\\right)\\right)\n"
     ]
    }
   ],
   "source": [
    "# Show the LaTeX representation of the expression for convenience if you need it.\n",
    "print(stored_expr.latex())"
   ]
  },
  {
   "cell_type": "code",
   "execution_count": 5,
   "metadata": {},
   "outputs": [
    {
     "data": {
      "text/html": [
       "<table>\n",
       "<tr><th>name</th><th>description</th><th>default</th><th>current value</th><th>related methods</th></tr><tr><td>wrap_positions</td><td>position(s) at which wrapping is to occur; 'n' is after the nth comma.</td><td>()</td><td>()</td><td>('with_wrapping_at',)</td></tr>\n",
       "<tr><td>justification</td><td>if any wrap positions are set, justify to the 'left', 'center', or 'right'</td><td>left</td><td>left</td><td>('with_justification',)</td></tr>\n",
       "</table>\n"
      ],
      "text/plain": [
       "style name: wrap_positions\n",
       "description: position(s) at which wrapping is to occur; 'n' is after the nth comma.\n",
       "default: ()\n",
       "current value: ()\n",
       "related methods: ('with_wrapping_at',)\n",
       "style name: justification\n",
       "description: if any wrap positions are set, justify to the 'left', 'center', or 'right'\n",
       "default: left\n",
       "current value: left\n",
       "related methods: ('with_justification',)"
      ]
     },
     "metadata": {},
     "output_type": "display_data"
    }
   ],
   "source": [
    "stored_expr.style_options()"
   ]
  },
  {
   "cell_type": "code",
   "execution_count": 6,
   "metadata": {},
   "outputs": [
    {
     "data": {
      "text/html": [
       "<table><tr><th>&nbsp;</th><th>core type</th><th>sub-expressions</th><th>expression</th></tr>\n",
       "<tr><td>0</td><td>ExprTuple</td><td>1, 2</td><td><a class=\"ProveItLink\" href=\"expr.ipynb\"><img src=\"expr.png\" style=\"display:inline;vertical-align:middle;\" /></a></td></tr>\n",
       "<tr><td>1</td><td>Operation</td><td>operator:&nbsp;26<br>operands:&nbsp;3<br></td><td><a class=\"ProveItLink\" href=\"../4119955f84ce99026ac0fc281505f1372a2f992f0/expr.ipynb\"><img src=\"../4119955f84ce99026ac0fc281505f1372a2f992f0/expr.png\" style=\"display:inline;vertical-align:middle;\" /></a></td></tr>\n",
       "<tr><td>2</td><td>Operation</td><td>operator:&nbsp;26<br>operands:&nbsp;4<br></td><td><a class=\"ProveItLink\" href=\"../692de02b79f924a02d7b06c4a5fa981e5401d6200/expr.ipynb\"><img src=\"../692de02b79f924a02d7b06c4a5fa981e5401d6200/expr.png\" style=\"display:inline;vertical-align:middle;\" /></a></td></tr>\n",
       "<tr><td>3</td><td>ExprTuple</td><td>6, 5, 6, 7, 6, 7</td><td><a class=\"ProveItLink\" href=\"../4e1f2aed1fa29b72b26738e04929cc612d5045590/expr.ipynb\"><img src=\"../4e1f2aed1fa29b72b26738e04929cc612d5045590/expr.png\" style=\"display:inline;vertical-align:middle;\" /></a></td></tr>\n",
       "<tr><td>4</td><td>ExprTuple</td><td>8, 9</td><td><a class=\"ProveItLink\" href=\"../e453c0afce983345c1b0a086cc1337e4811b82550/expr.ipynb\"><img src=\"../e453c0afce983345c1b0a086cc1337e4811b82550/expr.png\" style=\"display:inline;vertical-align:middle;\" /></a></td></tr>\n",
       "<tr><td>5</td><td>Operation</td><td>operator:&nbsp;26<br>operands:&nbsp;10<br></td><td><a class=\"ProveItLink\" href=\"../02d4b4b40ede48e66055de4e97f420bc9327621e0/expr.ipynb\"><img src=\"../02d4b4b40ede48e66055de4e97f420bc9327621e0/expr.png\" style=\"display:inline;vertical-align:middle;\" /></a></td></tr>\n",
       "<tr><td>6</td><td>Operation</td><td>operator:&nbsp;26<br>operands:&nbsp;11<br></td><td><a class=\"ProveItLink\" href=\"../f4776898792ede4596c61cc8cf8a3090a8be3dda0/expr.ipynb\"><img src=\"../f4776898792ede4596c61cc8cf8a3090a8be3dda0/expr.png\" style=\"display:inline;vertical-align:middle;\" /></a></td></tr>\n",
       "<tr><td>7</td><td>Operation</td><td>operator:&nbsp;26<br>operands:&nbsp;12<br></td><td><a class=\"ProveItLink\" href=\"../2d84dc7c65d1f84c151c7c2ddbe43acb50797fa80/expr.ipynb\"><img src=\"../2d84dc7c65d1f84c151c7c2ddbe43acb50797fa80/expr.png\" style=\"display:inline;vertical-align:middle;\" /></a></td></tr>\n",
       "<tr><td>8</td><td>Operation</td><td>operator:&nbsp;14<br>operands:&nbsp;13<br></td><td><a class=\"ProveItLink\" href=\"../a97e2d97c854f6fb18dec29851873dd82473c9c20/expr.ipynb\"><img src=\"../a97e2d97c854f6fb18dec29851873dd82473c9c20/expr.png\" style=\"display:inline;vertical-align:middle;\" /></a></td></tr>\n",
       "<tr><td>9</td><td>Operation</td><td>operator:&nbsp;14<br>operands:&nbsp;15<br></td><td><a class=\"ProveItLink\" href=\"../64484d916cb7ee8cf7c65e9fa09a0cc380ead3b80/expr.ipynb\"><img src=\"../64484d916cb7ee8cf7c65e9fa09a0cc380ead3b80/expr.png\" style=\"display:inline;vertical-align:middle;\" /></a></td></tr>\n",
       "<tr><td>10</td><td>ExprTuple</td><td>24, 16, 29</td><td><a class=\"ProveItLink\" href=\"../3ee7db3e96ddc7953203d736790b2737940039ee0/expr.ipynb\"><img src=\"../3ee7db3e96ddc7953203d736790b2737940039ee0/expr.png\" style=\"display:inline;vertical-align:middle;\" /></a></td></tr>\n",
       "<tr><td>11</td><td>ExprTuple</td><td>28, 16, 29</td><td><a class=\"ProveItLink\" href=\"../64f6da33d182645fce4366f92744aede13e9ef420/expr.ipynb\"><img src=\"../64f6da33d182645fce4366f92744aede13e9ef420/expr.png\" style=\"display:inline;vertical-align:middle;\" /></a></td></tr>\n",
       "<tr><td>12</td><td>ExprTuple</td><td>17, 18, 29</td><td><a class=\"ProveItLink\" href=\"../98917555713360f0bc5116d73f35727b19b9ff500/expr.ipynb\"><img src=\"../98917555713360f0bc5116d73f35727b19b9ff500/expr.png\" style=\"display:inline;vertical-align:middle;\" /></a></td></tr>\n",
       "<tr><td>13</td><td>ExprTuple</td><td>19, 28</td><td><a class=\"ProveItLink\" href=\"../8b2f3c137d48520af3d4fe99a60efc39833c5f7d0/expr.ipynb\"><img src=\"../8b2f3c137d48520af3d4fe99a60efc39833c5f7d0/expr.png\" style=\"display:inline;vertical-align:middle;\" /></a></td></tr>\n",
       "<tr><td>14</td><td>Literal</td><td></td><td><a class=\"ProveItLink\" href=\"../../../../../../numbers/multiplication/__pv_it/common/ed719cef37831779c16481533a4d380a2f95ab270/expr.ipynb\"><img src=\"../../../../../../numbers/multiplication/__pv_it/common/ed719cef37831779c16481533a4d380a2f95ab270/expr.png\" style=\"display:inline;vertical-align:middle;\" /></a></td></tr>\n",
       "<tr><td>15</td><td>ExprTuple</td><td>19, 24</td><td><a class=\"ProveItLink\" href=\"../02bc10d83f81a498060b0c375a87871a71c137b30/expr.ipynb\"><img src=\"../02bc10d83f81a498060b0c375a87871a71c137b30/expr.png\" style=\"display:inline;vertical-align:middle;\" /></a></td></tr>\n",
       "<tr><td>16</td><td>Operation</td><td>operator:&nbsp;22<br>operand:&nbsp;29<br></td><td><a class=\"ProveItLink\" href=\"../../../../__pv_it/common/bf4beda21975fe8a0a5007615b5bcc943da59bb20/expr.ipynb\"><img src=\"../../../../__pv_it/common/bf4beda21975fe8a0a5007615b5bcc943da59bb20/expr.png\" style=\"display:inline;vertical-align:middle;\" /></a></td></tr>\n",
       "<tr><td>17</td><td>Operation</td><td>operator:&nbsp;26<br>operands:&nbsp;21<br></td><td><a class=\"ProveItLink\" href=\"../../common/d594f9d2403ea6680916b743cd9c582a0a3aed4b0/expr.ipynb\"><img src=\"../../common/d594f9d2403ea6680916b743cd9c582a0a3aed4b0/expr.png\" style=\"display:inline;vertical-align:middle;\" /></a></td></tr>\n",
       "<tr><td>18</td><td>Operation</td><td>operator:&nbsp;22<br>operand:&nbsp;25<br></td><td><a class=\"ProveItLink\" href=\"../00f754ba381f7cd625fe58472e757ac6ac8cf5650/expr.ipynb\"><img src=\"../00f754ba381f7cd625fe58472e757ac6ac8cf5650/expr.png\" style=\"display:inline;vertical-align:middle;\" /></a></td></tr>\n",
       "<tr><td>19</td><td>Literal</td><td></td><td><a class=\"ProveItLink\" href=\"../../../../../../numbers/numerals/__pv_it/common/1943b60945420e340d305780feff5c1aff2740ff0/expr.ipynb\"><img src=\"../../../../../../numbers/numerals/__pv_it/common/1943b60945420e340d305780feff5c1aff2740ff0/expr.png\" style=\"display:inline;vertical-align:middle;\" /></a></td></tr>\n",
       "<tr><td>20</td><td>ExprTuple</td><td>29</td><td><a class=\"ProveItLink\" href=\"../../../../__pv_it/common/b9e4f0dffece176bbe2f36127440684a20e0468e0/expr.ipynb\"><img src=\"../../../../__pv_it/common/b9e4f0dffece176bbe2f36127440684a20e0468e0/expr.png\" style=\"display:inline;vertical-align:middle;\" /></a></td></tr>\n",
       "<tr><td>21</td><td>ExprTuple</td><td>28, 24</td><td><a class=\"ProveItLink\" href=\"../../common/68a54423765fd39956fb91176c58139b7e4f5c510/expr.ipynb\"><img src=\"../../common/68a54423765fd39956fb91176c58139b7e4f5c510/expr.png\" style=\"display:inline;vertical-align:middle;\" /></a></td></tr>\n",
       "<tr><td>22</td><td>Literal</td><td></td><td><a class=\"ProveItLink\" href=\"../../../../../../numbers/negation/__pv_it/common/221b3c4d1770ee9051b7c044c3f9ec61196fc34b0/expr.ipynb\"><img src=\"../../../../../../numbers/negation/__pv_it/common/221b3c4d1770ee9051b7c044c3f9ec61196fc34b0/expr.png\" style=\"display:inline;vertical-align:middle;\" /></a></td></tr>\n",
       "<tr><td>23</td><td>ExprTuple</td><td>25</td><td><a class=\"ProveItLink\" href=\"../40031e0781e959a33d42da695c9f9a61163921250/expr.ipynb\"><img src=\"../40031e0781e959a33d42da695c9f9a61163921250/expr.png\" style=\"display:inline;vertical-align:middle;\" /></a></td></tr>\n",
       "<tr><td>24</td><td>Literal</td><td></td><td><a class=\"ProveItLink\" href=\"../../common/8a1628c4cfc7b78e5c5de183ba3f5cff0b20d4dd0/expr.ipynb\"><img src=\"../../common/8a1628c4cfc7b78e5c5de183ba3f5cff0b20d4dd0/expr.png\" style=\"display:inline;vertical-align:middle;\" /></a></td></tr>\n",
       "<tr><td>25</td><td>Operation</td><td>operator:&nbsp;26<br>operands:&nbsp;27<br></td><td><a class=\"ProveItLink\" href=\"../../common/ee59288f8ad36a7fc131fd5d062c398a9f67d7a70/expr.ipynb\"><img src=\"../../common/ee59288f8ad36a7fc131fd5d062c398a9f67d7a70/expr.png\" style=\"display:inline;vertical-align:middle;\" /></a></td></tr>\n",
       "<tr><td>26</td><td>Literal</td><td></td><td><a class=\"ProveItLink\" href=\"../../../../../../numbers/addition/__pv_it/common/4b7effaab3619a1c2c38fe2dee8601df8ec714590/expr.ipynb\"><img src=\"../../../../../../numbers/addition/__pv_it/common/4b7effaab3619a1c2c38fe2dee8601df8ec714590/expr.png\" style=\"display:inline;vertical-align:middle;\" /></a></td></tr>\n",
       "<tr><td>27</td><td>ExprTuple</td><td>28, 29</td><td><a class=\"ProveItLink\" href=\"../../common/b78bbf7fd57d1a1491fbbbcff71abb9d886680aa0/expr.ipynb\"><img src=\"../../common/b78bbf7fd57d1a1491fbbbcff71abb9d886680aa0/expr.png\" style=\"display:inline;vertical-align:middle;\" /></a></td></tr>\n",
       "<tr><td>28</td><td>Literal</td><td></td><td><a class=\"ProveItLink\" href=\"../../common/977cc67717328e22c93f8ab84e6a45e8cadce7790/expr.ipynb\"><img src=\"../../common/977cc67717328e22c93f8ab84e6a45e8cadce7790/expr.png\" style=\"display:inline;vertical-align:middle;\" /></a></td></tr>\n",
       "<tr><td>29</td><td>Literal</td><td></td><td><a class=\"ProveItLink\" href=\"../../../../../../numbers/numerals/__pv_it/common/682157d4892d216d9e5626ed533aff9b56b9506e0/expr.ipynb\"><img src=\"../../../../../../numbers/numerals/__pv_it/common/682157d4892d216d9e5626ed533aff9b56b9506e0/expr.png\" style=\"display:inline;vertical-align:middle;\" /></a></td></tr>\n",
       "</table>\n"
      ],
      "text/plain": [
       "0. ((t - 1 + 1) + (s - 1 + 1) + (t - 1 + 1) + ((t + s) - (t + 1) + 1) + (t - 1 + 1) + ((t + s) - (t + 1) + 1), (3 * t) + (3 * s))\n",
       "   core type: ExprTuple\n",
       "   sub-expressions: 1, 2\n",
       "1. (t - 1 + 1) + (s - 1 + 1) + (t - 1 + 1) + ((t + s) - (t + 1) + 1) + (t - 1 + 1) + ((t + s) - (t + 1) + 1)\n",
       "   core type: Operation\n",
       "   operator: 26\n",
       "   operands: 3\n",
       "2. (3 * t) + (3 * s)\n",
       "   core type: Operation\n",
       "   operator: 26\n",
       "   operands: 4\n",
       "3. (t - 1 + 1, s - 1 + 1, t - 1 + 1, (t + s) - (t + 1) + 1, t - 1 + 1, (t + s) - (t + 1) + 1)\n",
       "   core type: ExprTuple\n",
       "   sub-expressions: 6, 5, 6, 7, 6, 7\n",
       "4. (3 * t, 3 * s)\n",
       "   core type: ExprTuple\n",
       "   sub-expressions: 8, 9\n",
       "5. s - 1 + 1\n",
       "   core type: Operation\n",
       "   operator: 26\n",
       "   operands: 10\n",
       "6. t - 1 + 1\n",
       "   core type: Operation\n",
       "   operator: 26\n",
       "   operands: 11\n",
       "7. (t + s) - (t + 1) + 1\n",
       "   core type: Operation\n",
       "   operator: 26\n",
       "   operands: 12\n",
       "8. 3 * t\n",
       "   core type: Operation\n",
       "   operator: 14\n",
       "   operands: 13\n",
       "9. 3 * s\n",
       "   core type: Operation\n",
       "   operator: 14\n",
       "   operands: 15\n",
       "10. (s, -1, 1)\n",
       "    core type: ExprTuple\n",
       "    sub-expressions: 24, 16, 29\n",
       "11. (t, -1, 1)\n",
       "    core type: ExprTuple\n",
       "    sub-expressions: 28, 16, 29\n",
       "12. (t + s, -(t + 1), 1)\n",
       "    core type: ExprTuple\n",
       "    sub-expressions: 17, 18, 29\n",
       "13. (3, t)\n",
       "    core type: ExprTuple\n",
       "    sub-expressions: 19, 28\n",
       "14. *\n",
       "    core type: Literal\n",
       "    sub-expressions: \n",
       "15. (3, s)\n",
       "    core type: ExprTuple\n",
       "    sub-expressions: 19, 24\n",
       "16. -1\n",
       "    core type: Operation\n",
       "    operator: 22\n",
       "    operand: 29\n",
       "17. t + s\n",
       "    core type: Operation\n",
       "    operator: 26\n",
       "    operands: 21\n",
       "18. -(t + 1)\n",
       "    core type: Operation\n",
       "    operator: 22\n",
       "    operand: 25\n",
       "19. 3\n",
       "    core type: Literal\n",
       "    sub-expressions: \n",
       "20. (1)\n",
       "    core type: ExprTuple\n",
       "    sub-expressions: 29\n",
       "21. (t, s)\n",
       "    core type: ExprTuple\n",
       "    sub-expressions: 28, 24\n",
       "22. -\n",
       "    core type: Literal\n",
       "    sub-expressions: \n",
       "23. (t + 1)\n",
       "    core type: ExprTuple\n",
       "    sub-expressions: 25\n",
       "24. s\n",
       "    core type: Literal\n",
       "    sub-expressions: \n",
       "25. t + 1\n",
       "    core type: Operation\n",
       "    operator: 26\n",
       "    operands: 27\n",
       "26. +\n",
       "    core type: Literal\n",
       "    sub-expressions: \n",
       "27. (t, 1)\n",
       "    core type: ExprTuple\n",
       "    sub-expressions: 28, 29\n",
       "28. t\n",
       "    core type: Literal\n",
       "    sub-expressions: \n",
       "29. 1\n",
       "    core type: Literal\n",
       "    sub-expressions: "
      ]
     },
     "metadata": {},
     "output_type": "display_data"
    }
   ],
   "source": [
    "# display the expression information\n",
    "stored_expr.expr_info()"
   ]
  },
  {
   "cell_type": "code",
   "execution_count": null,
   "metadata": {},
   "outputs": [],
   "source": []
  }
 ],
 "metadata": {
  "kernelspec": {
   "display_name": "Python 3",
   "language": "python",
   "name": "python3"
  }
 },
 "nbformat": 4,
 "nbformat_minor": 0
}