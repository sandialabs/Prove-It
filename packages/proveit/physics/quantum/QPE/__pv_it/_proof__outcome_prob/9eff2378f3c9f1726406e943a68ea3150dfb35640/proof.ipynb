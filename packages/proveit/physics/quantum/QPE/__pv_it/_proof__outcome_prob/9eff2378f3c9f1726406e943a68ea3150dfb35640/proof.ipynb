{
 "cells": [
  {
   "cell_type": "markdown",
   "metadata": {},
   "source": [
    "Show the Proof\n",
    "========"
   ]
  },
  {
   "cell_type": "code",
   "execution_count": 1,
   "metadata": {},
   "outputs": [
    {
     "data": {
      "text/html": [
       "<table><tr><th>&nbsp;</th><th>step type</th><th>requirements</th><th>statement</th></tr>\n",
       "<tr><td><a name=\"proveit.physics.quantum.QPE._proof__outcome_prob.9eff2378f3c9f1726406e943a68ea3150dfb35640_step0\">0</a></td><td>instantiation</td><td><a href=\"#proveit.physics.quantum.QPE._proof__outcome_prob.9eff2378f3c9f1726406e943a68ea3150dfb35640_step1\">1</a></td><td><span style=\"font-size:20px;\"> <a class=\"ProveItLink\" href=\"proof.ipynb\" style=\"text-decoration: none\">&nbsp;&#x22A2;&nbsp;&nbsp;</a><a class=\"ProveItLink\" href=\"../956a0b98e69257dc2b734776f14db0e258ee324a0/expr.ipynb\"><img src=\"../956a0b98e69257dc2b734776f14db0e258ee324a0/expr.png\" style=\"display:inline;vertical-align:middle;\" /></a></span></td></tr>\n",
       "<tr><td>&nbsp;</td><td colspan=4 style=\"text-align:left\"><span style=\"font-size:20px;\"><a class=\"ProveItLink\" href=\"../8b84f73c0bb95306325bb8e1813b64dd060a627d0/expr.ipynb\"><img src=\"../8b84f73c0bb95306325bb8e1813b64dd060a627d0/expr.png\" style=\"display:inline;vertical-align:middle;\" /></a> : <a class=\"ProveItLink\" href=\"../../common/82fcfc017cb52ac1f3140048bedd6b2fb7b0ff880/expr.ipynb\"><img src=\"../../common/82fcfc017cb52ac1f3140048bedd6b2fb7b0ff880/expr.png\" style=\"display:inline;vertical-align:middle;\" /></a>, <a class=\"ProveItLink\" href=\"../b28f767384c069459270580e84620538344993440/expr.ipynb\"><img src=\"../b28f767384c069459270580e84620538344993440/expr.png\" style=\"display:inline;vertical-align:middle;\" /></a> : <a class=\"ProveItLink\" href=\"../../common/00613376a331bfaaedf4ccbaedb817cbf7de847e0/expr.ipynb\"><img src=\"../../common/00613376a331bfaaedf4ccbaedb817cbf7de847e0/expr.png\" style=\"display:inline;vertical-align:middle;\" /></a>, <a class=\"ProveItLink\" href=\"../719dc5eac7ec302ac52ec458fe2e3bd1ce3fd06c0/expr.ipynb\"><img src=\"../719dc5eac7ec302ac52ec458fe2e3bd1ce3fd06c0/expr.png\" style=\"display:inline;vertical-align:middle;\" /></a> : <a class=\"ProveItLink\" href=\"../../common/6e4db920501fee2cb412f5b3b6e7ce29135eebbe0/expr.ipynb\"><img src=\"../../common/6e4db920501fee2cb412f5b3b6e7ce29135eebbe0/expr.png\" style=\"display:inline;vertical-align:middle;\" /></a>, <a class=\"ProveItLink\" href=\"../4821da85ad572735e4eaa8ecb4c6676d8435bc1d0/expr.ipynb\"><img src=\"../4821da85ad572735e4eaa8ecb4c6676d8435bc1d0/expr.png\" style=\"display:inline;vertical-align:middle;\" /></a> : <a class=\"ProveItLink\" href=\"../../common/6e4db920501fee2cb412f5b3b6e7ce29135eebbe0/expr.ipynb\"><img src=\"../../common/6e4db920501fee2cb412f5b3b6e7ce29135eebbe0/expr.png\" style=\"display:inline;vertical-align:middle;\" /></a>, <a class=\"ProveItLink\" href=\"../766c2e7166efdbe2c640a2dd5839cf428a2e8d7f0/expr.ipynb\"><img src=\"../766c2e7166efdbe2c640a2dd5839cf428a2e8d7f0/expr.png\" style=\"display:inline;vertical-align:middle;\" /></a> : <a class=\"ProveItLink\" href=\"../56657ebe10c682eb42bdb7c13a8383b17c91a43e0/expr.ipynb\"><img src=\"../56657ebe10c682eb42bdb7c13a8383b17c91a43e0/expr.png\" style=\"display:inline;vertical-align:middle;\" /></a></span></td></tr><tr><td><a name=\"proveit.physics.quantum.QPE._proof__outcome_prob.9eff2378f3c9f1726406e943a68ea3150dfb35640_step1\">1</a></td><td>theorem</td><td></td><td><span style=\"font-size:20px;\"> <a class=\"ProveItLink\" href=\"../../../../../../numbers/numerals/decimals/_theory_nbs_/proofs/tuple_len_5_typical_eq/thm_proof.ipynb\" style=\"text-decoration: none\">&nbsp;&#x22A2;&nbsp;&nbsp;</a><a class=\"ProveItLink\" href=\"../../../../../../numbers/numerals/decimals/__pv_it/theorems/339998d4e03211b77c8a5fbbc9b3d3593022789a0/expr.ipynb\"><img src=\"../../../../../../numbers/numerals/decimals/__pv_it/theorems/339998d4e03211b77c8a5fbbc9b3d3593022789a0/expr.png\" style=\"display:inline;vertical-align:middle;\" /></a></span></td></tr>\n",
       "<tr><td>&nbsp;</td><td colspan=4 style-\"text-align:left\"><a class=\"ProveItLink\" href=\"../../../../../../numbers/numerals/decimals/_theory_nbs_/proofs/tuple_len_5_typical_eq/thm_proof.ipynb\">proveit.numbers.numerals.decimals.tuple_len_5_typical_eq</a></td></tr></table>"
      ],
      "text/plain": [
       "<proveit._core_.proof._ShowProof at 0x7ff9b8c4ee48>"
      ]
     },
     "execution_count": 1,
     "metadata": {},
     "output_type": "execute_result"
    }
   ],
   "source": [
    "import proveit\n",
    "# Automation is not needed when only showing a stored proof:\n",
    "proveit.defaults.automation = False # This will speed things up.\n",
    "proveit.defaults.inline_pngs = False # Makes files smaller.\n",
    "%show_proof"
   ]
  },
  {
   "cell_type": "code",
   "execution_count": null,
   "metadata": {},
   "outputs": [],
   "source": []
  }
 ],
 "metadata": {
  "kernelspec": {
   "display_name": "Python 3",
   "language": "python",
   "name": "python3"
  }
 },
 "nbformat": 4,
 "nbformat_minor": 0
}