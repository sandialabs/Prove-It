{
 "cells": [
  {
   "cell_type": "markdown",
   "metadata": {},
   "source": [
    "Expression of type <a class=\"ProveItLink\" href=\"../../../../../../../../doc/html/api/proveit.logic.InSet.html\">InSet</a>\n",
    "=======================\n",
    "# from the theory of <a class=\"ProveItLink\" href=\"../../../_theory_nbs_/theory.ipynb\">proveit.physics.quantum.QPE</a>"
   ]
  },
  {
   "cell_type": "code",
   "execution_count": 1,
   "metadata": {},
   "outputs": [],
   "source": [
    "import proveit\n",
    "# Automation is not needed when building an expression:\n",
    "proveit.defaults.automation = False # This will speed things up.\n",
    "proveit.defaults.inline_pngs = False # Makes files smaller.\n",
    "%load_expr # Load the stored expression as 'stored_expr'\n",
    "# import Expression classes needed to build the expression\n",
    "from proveit import Variable\n",
    "from proveit.logic import Boolean, InSet, NotEquals\n",
    "from proveit.numbers import Add, Interval, one\n",
    "from proveit.physics.quantum.QPE import _ket_u, _s, _t\n",
    "from proveit.physics.quantum.circuits import MultiQubitElem, Output"
   ]
  },
  {
   "cell_type": "code",
   "execution_count": 2,
   "metadata": {},
   "outputs": [
    {
     "data": {
      "text/html": [
       "<strong id=\"expr\">expr:</strong> <a class=\"ProveItLink\" href=\"expr.ipynb\"><img src=\"expr.png\" style=\"display:inline;vertical-align:middle;\" /></a><br>"
      ],
      "text/plain": [
       "<IPython.core.display.HTML object>"
      ]
     },
     "metadata": {},
     "output_type": "display_data"
    }
   ],
   "source": [
    "# build up the expression from sub-expressions\n",
    "sub_expr1 = MultiQubitElem(element = Output(state = _ket_u, part = Variable(\"_a\", latex_format = r\"{_{-}a}\")), targets = Interval(Add(_t, one), Add(_t, _s)))\n",
    "expr = InSet(NotEquals(sub_expr1, sub_expr1), Boolean)"
   ]
  },
  {
   "cell_type": "code",
   "execution_count": 3,
   "metadata": {},
   "outputs": [
    {
     "name": "stdout",
     "output_type": "stream",
     "text": [
      "Passed sanity check: expr matches stored_expr\n"
     ]
    }
   ],
   "source": [
    "# check that the built expression is the same as the stored expression\n",
    "assert expr == stored_expr\n",
    "assert expr._style_id == stored_expr._style_id\n",
    "print(\"Passed sanity check: expr matches stored_expr\")"
   ]
  },
  {
   "cell_type": "code",
   "execution_count": 4,
   "metadata": {},
   "outputs": [
    {
     "name": "stdout",
     "output_type": "stream",
     "text": [
      "\\left(\\begin{array}{c} \\Qcircuit@C=1em @R=.7em{\n",
      "& & \\qout{\\lvert u \\rangle~\\mbox{part}~{_{-}a}~\\mbox{on}~\\{t + 1~\\ldotp \\ldotp~t + s\\}} \n",
      "} \\end{array} \\neq \\begin{array}{c} \\Qcircuit@C=1em @R=.7em{\n",
      "& & \\qout{\\lvert u \\rangle~\\mbox{part}~{_{-}a}~\\mbox{on}~\\{t + 1~\\ldotp \\ldotp~t + s\\}} \n",
      "} \\end{array}\\right) \\in \\mathbb{B}\n"
     ]
    }
   ],
   "source": [
    "# Show the LaTeX representation of the expression for convenience if you need it.\n",
    "print(stored_expr.latex())"
   ]
  },
  {
   "cell_type": "code",
   "execution_count": 5,
   "metadata": {},
   "outputs": [
    {
     "data": {
      "text/html": [
       "<table>\n",
       "<tr><th>name</th><th>description</th><th>default</th><th>current value</th><th>related methods</th></tr><tr><td>operation</td><td>'infix' or 'function' style formatting</td><td>infix</td><td>infix</td><td></td></tr>\n",
       "<tr><td>wrap_positions</td><td>position(s) at which wrapping is to occur; '2 n - 1' is after the nth operand, '2 n' is after the nth operation.</td><td>()</td><td>()</td><td>('with_wrapping_at', 'with_wrap_before_operator', 'with_wrap_after_operator', 'without_wrapping', 'wrap_positions')</td></tr>\n",
       "<tr><td>justification</td><td>if any wrap positions are set, justify to the 'left', 'center', or 'right'</td><td>center</td><td>center</td><td>('with_justification',)</td></tr>\n",
       "<tr><td>direction</td><td>Direction of the relation (normal or reversed)</td><td>normal</td><td>normal</td><td>('with_direction_reversed', 'is_reversed')</td></tr>\n",
       "</table>\n"
      ],
      "text/plain": [
       "style name: operation\n",
       "description: 'infix' or 'function' style formatting\n",
       "default: infix\n",
       "current value: infix\n",
       "related methods: ()\n",
       "style name: wrap_positions\n",
       "description: position(s) at which wrapping is to occur; '2 n - 1' is after the nth operand, '2 n' is after the nth operation.\n",
       "default: ()\n",
       "current value: ()\n",
       "related methods: ('with_wrapping_at', 'with_wrap_before_operator', 'with_wrap_after_operator', 'without_wrapping', 'wrap_positions')\n",
       "style name: justification\n",
       "description: if any wrap positions are set, justify to the 'left', 'center', or 'right'\n",
       "default: center\n",
       "current value: center\n",
       "related methods: ('with_justification',)\n",
       "style name: direction\n",
       "description: Direction of the relation (normal or reversed)\n",
       "default: normal\n",
       "current value: normal\n",
       "related methods: ('with_direction_reversed', 'is_reversed')"
      ]
     },
     "metadata": {},
     "output_type": "display_data"
    }
   ],
   "source": [
    "stored_expr.style_options()"
   ]
  },
  {
   "cell_type": "code",
   "execution_count": 6,
   "metadata": {},
   "outputs": [
    {
     "data": {
      "text/html": [
       "<table><tr><th>&nbsp;</th><th>core type</th><th>sub-expressions</th><th>expression</th></tr>\n",
       "<tr><td>0</td><td>Operation</td><td>operator:&nbsp;1<br>operands:&nbsp;2<br></td><td><a class=\"ProveItLink\" href=\"expr.ipynb\"><img src=\"expr.png\" style=\"display:inline;vertical-align:middle;\" /></a></td></tr>\n",
       "<tr><td>1</td><td>Literal</td><td></td><td><a class=\"ProveItLink\" href=\"../../../../../../logic/sets/membership/__pv_it/common/477487d8796864d23d5810f83761435f25167f690/expr.ipynb\"><img src=\"../../../../../../logic/sets/membership/__pv_it/common/477487d8796864d23d5810f83761435f25167f690/expr.png\" style=\"display:inline;vertical-align:middle;\" /></a></td></tr>\n",
       "<tr><td>2</td><td>ExprTuple</td><td>3, 4</td><td><a class=\"ProveItLink\" href=\"../db34e220401d2a6199d6c78f480a3c80ddb003270/expr.ipynb\"><img src=\"../db34e220401d2a6199d6c78f480a3c80ddb003270/expr.png\" style=\"display:inline;vertical-align:middle;\" /></a></td></tr>\n",
       "<tr><td>3</td><td>Operation</td><td>operator:&nbsp;5<br>operands:&nbsp;6<br></td><td><a class=\"ProveItLink\" href=\"../cc25969d70c27c59d4a8feaa6a64817f4b1b31360/expr.ipynb\"><img src=\"../cc25969d70c27c59d4a8feaa6a64817f4b1b31360/expr.png\" style=\"display:inline;vertical-align:middle;\" /></a></td></tr>\n",
       "<tr><td>4</td><td>Literal</td><td></td><td><a class=\"ProveItLink\" href=\"../../../../../../logic/booleans/__pv_it/common/97424376de9815ad99f7180e3191b1cf4ab2a5710/expr.ipynb\"><img src=\"../../../../../../logic/booleans/__pv_it/common/97424376de9815ad99f7180e3191b1cf4ab2a5710/expr.png\" style=\"display:inline;vertical-align:middle;\" /></a></td></tr>\n",
       "<tr><td>5</td><td>Literal</td><td></td><td><a class=\"ProveItLink\" href=\"../../../../../../logic/equality/__pv_it/common/d96270bc9bb1bad54f773b1c04bfb343a739642c0/expr.ipynb\"><img src=\"../../../../../../logic/equality/__pv_it/common/d96270bc9bb1bad54f773b1c04bfb343a739642c0/expr.png\" style=\"display:inline;vertical-align:middle;\" /></a></td></tr>\n",
       "<tr><td>6</td><td>ExprTuple</td><td>7, 7</td><td><a class=\"ProveItLink\" href=\"../01c11dcf5f45b98ce6c41c72741a694d0681206e0/expr.ipynb\"><img src=\"../01c11dcf5f45b98ce6c41c72741a694d0681206e0/expr.png\" style=\"display:inline;vertical-align:middle;\" /></a></td></tr>\n",
       "<tr><td>7</td><td>Operation</td><td>operator:&nbsp;8<br>operands:&nbsp;9<br></td><td><a class=\"ProveItLink\" href=\"../../common/645ab3a8d644049e80149298c66441ee8ba0725d0/expr.ipynb\"><img src=\"../../common/645ab3a8d644049e80149298c66441ee8ba0725d0/expr.png\" style=\"display:inline;vertical-align:middle;\" /></a></td></tr>\n",
       "<tr><td>8</td><td>Literal</td><td></td><td><a class=\"ProveItLink\" href=\"../../../../circuits/__pv_it/common/5eaa43008f05c06941080a12337ff182ea14996e0/expr.ipynb\"><img src=\"../../../../circuits/__pv_it/common/5eaa43008f05c06941080a12337ff182ea14996e0/expr.png\" style=\"display:inline;vertical-align:middle;\" /></a></td></tr>\n",
       "<tr><td>9</td><td>NamedExprs</td><td>element: 10<br>targets: 11<br></td><td><a class=\"ProveItLink\" href=\"../../common/998a677874497c68d9fa8110217b7dfa9a11d3430/expr.ipynb\"><img src=\"../../common/998a677874497c68d9fa8110217b7dfa9a11d3430/expr.png\" style=\"display:inline;vertical-align:middle;\" /></a></td></tr>\n",
       "<tr><td>10</td><td>Operation</td><td>operator:&nbsp;12<br>operands:&nbsp;13<br></td><td><a class=\"ProveItLink\" href=\"../../common/a38f9fb0b940bd2f9ac04d5547d5da46f983caa30/expr.ipynb\"><img src=\"../../common/a38f9fb0b940bd2f9ac04d5547d5da46f983caa30/expr.png\" style=\"display:inline;vertical-align:middle;\" /></a></td></tr>\n",
       "<tr><td>11</td><td>Operation</td><td>operator:&nbsp;14<br>operands:&nbsp;15<br></td><td><a class=\"ProveItLink\" href=\"../../common/e4c37383ea766bb1f6bcd7098cceb832b15e96720/expr.ipynb\"><img src=\"../../common/e4c37383ea766bb1f6bcd7098cceb832b15e96720/expr.png\" style=\"display:inline;vertical-align:middle;\" /></a></td></tr>\n",
       "<tr><td>12</td><td>Literal</td><td></td><td><a class=\"ProveItLink\" href=\"../../../../circuits/__pv_it/common/00345a9c4f4d361e0b6e8bbbbe5a33a8ec86a20b0/expr.ipynb\"><img src=\"../../../../circuits/__pv_it/common/00345a9c4f4d361e0b6e8bbbbe5a33a8ec86a20b0/expr.png\" style=\"display:inline;vertical-align:middle;\" /></a></td></tr>\n",
       "<tr><td>13</td><td>NamedExprs</td><td>state: 16<br>part: 17<br></td><td><a class=\"ProveItLink\" href=\"../../common/d731450f12622d219d2b2dddf70849e455294f070/expr.ipynb\"><img src=\"../../common/d731450f12622d219d2b2dddf70849e455294f070/expr.png\" style=\"display:inline;vertical-align:middle;\" /></a></td></tr>\n",
       "<tr><td>14</td><td>Literal</td><td></td><td><a class=\"ProveItLink\" href=\"../../../../../../numbers/number_sets/integers/__pv_it/common/92f3a0a77e3c3ea8e4a5c8674edadc54e4f57d550/expr.ipynb\"><img src=\"../../../../../../numbers/number_sets/integers/__pv_it/common/92f3a0a77e3c3ea8e4a5c8674edadc54e4f57d550/expr.png\" style=\"display:inline;vertical-align:middle;\" /></a></td></tr>\n",
       "<tr><td>15</td><td>ExprTuple</td><td>18, 19</td><td><a class=\"ProveItLink\" href=\"../../common/290007a348622eadb6860d4299d78fb54ebb86910/expr.ipynb\"><img src=\"../../common/290007a348622eadb6860d4299d78fb54ebb86910/expr.png\" style=\"display:inline;vertical-align:middle;\" /></a></td></tr>\n",
       "<tr><td>16</td><td>Literal</td><td></td><td><a class=\"ProveItLink\" href=\"../../common/ca39d48f285e5b8b9c4fc5a4225a68cd859974bc0/expr.ipynb\"><img src=\"../../common/ca39d48f285e5b8b9c4fc5a4225a68cd859974bc0/expr.png\" style=\"display:inline;vertical-align:middle;\" /></a></td></tr>\n",
       "<tr><td>17</td><td>Variable</td><td></td><td><a class=\"ProveItLink\" href=\"../../common/006c465e50948aa2b52285e2de47974f741255cc0/expr.ipynb\"><img src=\"../../common/006c465e50948aa2b52285e2de47974f741255cc0/expr.png\" style=\"display:inline;vertical-align:middle;\" /></a></td></tr>\n",
       "<tr><td>18</td><td>Operation</td><td>operator:&nbsp;21<br>operands:&nbsp;20<br></td><td><a class=\"ProveItLink\" href=\"../../common/ee59288f8ad36a7fc131fd5d062c398a9f67d7a70/expr.ipynb\"><img src=\"../../common/ee59288f8ad36a7fc131fd5d062c398a9f67d7a70/expr.png\" style=\"display:inline;vertical-align:middle;\" /></a></td></tr>\n",
       "<tr><td>19</td><td>Operation</td><td>operator:&nbsp;21<br>operands:&nbsp;22<br></td><td><a class=\"ProveItLink\" href=\"../../common/d594f9d2403ea6680916b743cd9c582a0a3aed4b0/expr.ipynb\"><img src=\"../../common/d594f9d2403ea6680916b743cd9c582a0a3aed4b0/expr.png\" style=\"display:inline;vertical-align:middle;\" /></a></td></tr>\n",
       "<tr><td>20</td><td>ExprTuple</td><td>24, 23</td><td><a class=\"ProveItLink\" href=\"../../common/b78bbf7fd57d1a1491fbbbcff71abb9d886680aa0/expr.ipynb\"><img src=\"../../common/b78bbf7fd57d1a1491fbbbcff71abb9d886680aa0/expr.png\" style=\"display:inline;vertical-align:middle;\" /></a></td></tr>\n",
       "<tr><td>21</td><td>Literal</td><td></td><td><a class=\"ProveItLink\" href=\"../../../../../../numbers/addition/__pv_it/common/4b7effaab3619a1c2c38fe2dee8601df8ec714590/expr.ipynb\"><img src=\"../../../../../../numbers/addition/__pv_it/common/4b7effaab3619a1c2c38fe2dee8601df8ec714590/expr.png\" style=\"display:inline;vertical-align:middle;\" /></a></td></tr>\n",
       "<tr><td>22</td><td>ExprTuple</td><td>24, 25</td><td><a class=\"ProveItLink\" href=\"../../common/68a54423765fd39956fb91176c58139b7e4f5c510/expr.ipynb\"><img src=\"../../common/68a54423765fd39956fb91176c58139b7e4f5c510/expr.png\" style=\"display:inline;vertical-align:middle;\" /></a></td></tr>\n",
       "<tr><td>23</td><td>Literal</td><td></td><td><a class=\"ProveItLink\" href=\"../../../../../../numbers/numerals/__pv_it/common/682157d4892d216d9e5626ed533aff9b56b9506e0/expr.ipynb\"><img src=\"../../../../../../numbers/numerals/__pv_it/common/682157d4892d216d9e5626ed533aff9b56b9506e0/expr.png\" style=\"display:inline;vertical-align:middle;\" /></a></td></tr>\n",
       "<tr><td>24</td><td>Literal</td><td></td><td><a class=\"ProveItLink\" href=\"../../common/977cc67717328e22c93f8ab84e6a45e8cadce7790/expr.ipynb\"><img src=\"../../common/977cc67717328e22c93f8ab84e6a45e8cadce7790/expr.png\" style=\"display:inline;vertical-align:middle;\" /></a></td></tr>\n",
       "<tr><td>25</td><td>Literal</td><td></td><td><a class=\"ProveItLink\" href=\"../../common/8a1628c4cfc7b78e5c5de183ba3f5cff0b20d4dd0/expr.ipynb\"><img src=\"../../common/8a1628c4cfc7b78e5c5de183ba3f5cff0b20d4dd0/expr.png\" style=\"display:inline;vertical-align:middle;\" /></a></td></tr>\n",
       "</table>\n"
      ],
      "text/plain": [
       "0. ([MULTI_QUBIT_ELEM]{element:[OUTPUT]{state:|u>, part:_a}, targets:{t + 1 .. t + s}} != [MULTI_QUBIT_ELEM]{element:[OUTPUT]{state:|u>, part:_a}, targets:{t + 1 .. t + s}}) in BOOLEAN\n",
       "   core type: Operation\n",
       "   operator: 1\n",
       "   operands: 2\n",
       "1. in\n",
       "   core type: Literal\n",
       "   sub-expressions: \n",
       "2. ([MULTI_QUBIT_ELEM]{element:[OUTPUT]{state:|u>, part:_a}, targets:{t + 1 .. t + s}} != [MULTI_QUBIT_ELEM]{element:[OUTPUT]{state:|u>, part:_a}, targets:{t + 1 .. t + s}}, BOOLEAN)\n",
       "   core type: ExprTuple\n",
       "   sub-expressions: 3, 4\n",
       "3. [MULTI_QUBIT_ELEM]{element:[OUTPUT]{state:|u>, part:_a}, targets:{t + 1 .. t + s}} != [MULTI_QUBIT_ELEM]{element:[OUTPUT]{state:|u>, part:_a}, targets:{t + 1 .. t + s}}\n",
       "   core type: Operation\n",
       "   operator: 5\n",
       "   operands: 6\n",
       "4. BOOLEAN\n",
       "   core type: Literal\n",
       "   sub-expressions: \n",
       "5. !=\n",
       "   core type: Literal\n",
       "   sub-expressions: \n",
       "6. ([MULTI_QUBIT_ELEM]{element:[OUTPUT]{state:|u>, part:_a}, targets:{t + 1 .. t + s}}, [MULTI_QUBIT_ELEM]{element:[OUTPUT]{state:|u>, part:_a}, targets:{t + 1 .. t + s}})\n",
       "   core type: ExprTuple\n",
       "   sub-expressions: 7, 7\n",
       "7. [MULTI_QUBIT_ELEM]{element:[OUTPUT]{state:|u>, part:_a}, targets:{t + 1 .. t + s}}\n",
       "   core type: Operation\n",
       "   operator: 8\n",
       "   operands: 9\n",
       "8. MULTI_QUBIT_ELEM\n",
       "   core type: Literal\n",
       "   sub-expressions: \n",
       "9. {element:[OUTPUT]{state:|u>, part:_a}, targets:{t + 1 .. t + s}}\n",
       "   core type: NamedExprs\n",
       "   element: 10\n",
       "   targets: 11\n",
       "10. [OUTPUT]{state:|u>, part:_a}\n",
       "    core type: Operation\n",
       "    operator: 12\n",
       "    operands: 13\n",
       "11. {t + 1 .. t + s}\n",
       "    core type: Operation\n",
       "    operator: 14\n",
       "    operands: 15\n",
       "12. OUTPUT\n",
       "    core type: Literal\n",
       "    sub-expressions: \n",
       "13. {state:|u>, part:_a}\n",
       "    core type: NamedExprs\n",
       "    state: 16\n",
       "    part: 17\n",
       "14. Interval\n",
       "    core type: Literal\n",
       "    sub-expressions: \n",
       "15. (t + 1, t + s)\n",
       "    core type: ExprTuple\n",
       "    sub-expressions: 18, 19\n",
       "16. |u>\n",
       "    core type: Literal\n",
       "    sub-expressions: \n",
       "17. _a\n",
       "    core type: Variable\n",
       "    sub-expressions: \n",
       "18. t + 1\n",
       "    core type: Operation\n",
       "    operator: 21\n",
       "    operands: 20\n",
       "19. t + s\n",
       "    core type: Operation\n",
       "    operator: 21\n",
       "    operands: 22\n",
       "20. (t, 1)\n",
       "    core type: ExprTuple\n",
       "    sub-expressions: 24, 23\n",
       "21. +\n",
       "    core type: Literal\n",
       "    sub-expressions: \n",
       "22. (t, s)\n",
       "    core type: ExprTuple\n",
       "    sub-expressions: 24, 25\n",
       "23. 1\n",
       "    core type: Literal\n",
       "    sub-expressions: \n",
       "24. t\n",
       "    core type: Literal\n",
       "    sub-expressions: \n",
       "25. s\n",
       "    core type: Literal\n",
       "    sub-expressions: "
      ]
     },
     "metadata": {},
     "output_type": "display_data"
    }
   ],
   "source": [
    "# display the expression information\n",
    "stored_expr.expr_info()"
   ]
  },
  {
   "cell_type": "code",
   "execution_count": null,
   "metadata": {},
   "outputs": [],
   "source": []
  }
 ],
 "metadata": {
  "kernelspec": {
   "display_name": "Python 3",
   "language": "python",
   "name": "python3"
  }
 },
 "nbformat": 4,
 "nbformat_minor": 0
}