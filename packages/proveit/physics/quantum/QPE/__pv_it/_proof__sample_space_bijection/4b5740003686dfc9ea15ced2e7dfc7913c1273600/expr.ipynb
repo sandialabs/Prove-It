{
 "cells": [
  {
   "cell_type": "markdown",
   "metadata": {},
   "source": [
    "Expression of type <a class=\"ProveItLink\" href=\"../../../../../../../../doc/html/api/proveit.Conditional.html\">Conditional</a>\n",
    "=======================\n",
    "# from the theory of <a class=\"ProveItLink\" href=\"../../../_theory_nbs_/theory.ipynb\">proveit.physics.quantum.QPE</a>"
   ]
  },
  {
   "cell_type": "code",
   "execution_count": 1,
   "metadata": {},
   "outputs": [],
   "source": [
    "import proveit\n",
    "# Automation is not needed when building an expression:\n",
    "proveit.defaults.automation = False # This will speed things up.\n",
    "proveit.defaults.inline_pngs = False # Makes files smaller.\n",
    "%load_expr # Load the stored expression as 'stored_expr'\n",
    "# import Expression classes needed to build the expression\n",
    "from proveit import Conditional, Variable, m, n\n",
    "from proveit.logic import InSet, NotEquals\n",
    "from proveit.numbers import Interval, one\n",
    "from proveit.physics.quantum import NumKet\n",
    "from proveit.physics.quantum.QPE import _t\n",
    "from proveit.physics.quantum.circuits import MultiQubitElem, Output"
   ]
  },
  {
   "cell_type": "code",
   "execution_count": 2,
   "metadata": {},
   "outputs": [
    {
     "data": {
      "text/html": [
       "<strong id=\"expr\">expr:</strong> <a class=\"ProveItLink\" href=\"expr.ipynb\"><img src=\"expr.png\" style=\"display:inline;vertical-align:middle;\" /></a><br>"
      ],
      "text/plain": [
       "<IPython.core.display.HTML object>"
      ]
     },
     "metadata": {},
     "output_type": "display_data"
    }
   ],
   "source": [
    "# build up the expression from sub-expressions\n",
    "sub_expr1 = Variable(\"_a\", latex_format = r\"{_{-}a}\")\n",
    "sub_expr2 = Interval(one, _t)\n",
    "expr = Conditional(NotEquals(MultiQubitElem(element = Output(state = NumKet(m, _t), part = sub_expr1), targets = sub_expr2), MultiQubitElem(element = Output(state = NumKet(n, _t), part = sub_expr1), targets = sub_expr2)), InSet(sub_expr1, sub_expr2))"
   ]
  },
  {
   "cell_type": "code",
   "execution_count": 3,
   "metadata": {},
   "outputs": [
    {
     "name": "stdout",
     "output_type": "stream",
     "text": [
      "Passed sanity check: expr matches stored_expr\n"
     ]
    }
   ],
   "source": [
    "# check that the built expression is the same as the stored expression\n",
    "assert expr == stored_expr\n",
    "assert expr._style_id == stored_expr._style_id\n",
    "print(\"Passed sanity check: expr matches stored_expr\")"
   ]
  },
  {
   "cell_type": "code",
   "execution_count": 4,
   "metadata": {},
   "outputs": [
    {
     "name": "stdout",
     "output_type": "stream",
     "text": [
      "\\left\\{\\begin{array}{c} \\Qcircuit@C=1em @R=.7em{\n",
      "& & \\qout{\\lvert m \\rangle_{t}~\\mbox{part}~{_{-}a}~\\mbox{on}~\\{1~\\ldotp \\ldotp~t\\}} \n",
      "} \\end{array} \\neq \\begin{array}{c} \\Qcircuit@C=1em @R=.7em{\n",
      "& & \\qout{\\lvert n \\rangle_{t}~\\mbox{part}~{_{-}a}~\\mbox{on}~\\{1~\\ldotp \\ldotp~t\\}} \n",
      "} \\end{array} \\textrm{ if } {_{-}a} \\in \\{1~\\ldotp \\ldotp~t\\}\\right..\n"
     ]
    }
   ],
   "source": [
    "# Show the LaTeX representation of the expression for convenience if you need it.\n",
    "print(stored_expr.latex())"
   ]
  },
  {
   "cell_type": "code",
   "execution_count": 5,
   "metadata": {},
   "outputs": [
    {
     "data": {
      "text/html": [
       "<table>\n",
       "<tr><th>name</th><th>description</th><th>default</th><th>current value</th><th>related methods</th></tr><tr><td>condition_delimiter</td><td>'comma' or 'and'</td><td>comma</td><td>comma</td><td>('with_comma_delimiter', 'with_conjunction_delimiter')</td></tr>\n",
       "</table>\n"
      ],
      "text/plain": [
       "style name: condition_delimiter\n",
       "description: 'comma' or 'and'\n",
       "default: comma\n",
       "current value: comma\n",
       "related methods: ('with_comma_delimiter', 'with_conjunction_delimiter')"
      ]
     },
     "metadata": {},
     "output_type": "display_data"
    }
   ],
   "source": [
    "stored_expr.style_options()"
   ]
  },
  {
   "cell_type": "code",
   "execution_count": 6,
   "metadata": {},
   "outputs": [
    {
     "data": {
      "text/html": [
       "<table><tr><th>&nbsp;</th><th>core type</th><th>sub-expressions</th><th>expression</th></tr>\n",
       "<tr><td>0</td><td>Conditional</td><td>value:&nbsp;1<br>condition:&nbsp;2<br></td><td><a class=\"ProveItLink\" href=\"expr.ipynb\"><img src=\"expr.png\" style=\"display:inline;vertical-align:middle;\" /></a></td></tr>\n",
       "<tr><td>1</td><td>Operation</td><td>operator:&nbsp;3<br>operands:&nbsp;4<br></td><td><a class=\"ProveItLink\" href=\"../92bea71c5e82557f8561cfb91ae9b3a5955379ff0/expr.ipynb\"><img src=\"../92bea71c5e82557f8561cfb91ae9b3a5955379ff0/expr.png\" style=\"display:inline;vertical-align:middle;\" /></a></td></tr>\n",
       "<tr><td>2</td><td>Operation</td><td>operator:&nbsp;5<br>operands:&nbsp;6<br></td><td><a class=\"ProveItLink\" href=\"../7c4b831581464dfd6dd374a35f63a427a70cdfdb0/expr.ipynb\"><img src=\"../7c4b831581464dfd6dd374a35f63a427a70cdfdb0/expr.png\" style=\"display:inline;vertical-align:middle;\" /></a></td></tr>\n",
       "<tr><td>3</td><td>Literal</td><td></td><td><a class=\"ProveItLink\" href=\"../../../../../../logic/equality/__pv_it/common/d96270bc9bb1bad54f773b1c04bfb343a739642c0/expr.ipynb\"><img src=\"../../../../../../logic/equality/__pv_it/common/d96270bc9bb1bad54f773b1c04bfb343a739642c0/expr.png\" style=\"display:inline;vertical-align:middle;\" /></a></td></tr>\n",
       "<tr><td>4</td><td>ExprTuple</td><td>7, 8</td><td><a class=\"ProveItLink\" href=\"../acbcfe712af2721f12aa91e6327de4a290116bda0/expr.ipynb\"><img src=\"../acbcfe712af2721f12aa91e6327de4a290116bda0/expr.png\" style=\"display:inline;vertical-align:middle;\" /></a></td></tr>\n",
       "<tr><td>5</td><td>Literal</td><td></td><td><a class=\"ProveItLink\" href=\"../../../../../../logic/sets/membership/__pv_it/common/477487d8796864d23d5810f83761435f25167f690/expr.ipynb\"><img src=\"../../../../../../logic/sets/membership/__pv_it/common/477487d8796864d23d5810f83761435f25167f690/expr.png\" style=\"display:inline;vertical-align:middle;\" /></a></td></tr>\n",
       "<tr><td>6</td><td>ExprTuple</td><td>22, 14</td><td><a class=\"ProveItLink\" href=\"../92f85028367d22bb6809b57c03a4cd4ff401fb340/expr.ipynb\"><img src=\"../92f85028367d22bb6809b57c03a4cd4ff401fb340/expr.png\" style=\"display:inline;vertical-align:middle;\" /></a></td></tr>\n",
       "<tr><td>7</td><td>Operation</td><td>operator:&nbsp;10<br>operands:&nbsp;9<br></td><td><a class=\"ProveItLink\" href=\"../../common/def880b0b62abaced83fa41d87f3b2191cd3d3c00/expr.ipynb\"><img src=\"../../common/def880b0b62abaced83fa41d87f3b2191cd3d3c00/expr.png\" style=\"display:inline;vertical-align:middle;\" /></a></td></tr>\n",
       "<tr><td>8</td><td>Operation</td><td>operator:&nbsp;10<br>operands:&nbsp;11<br></td><td><a class=\"ProveItLink\" href=\"../ba6c434828a65373b6f2a3ea006c6f708d492d9a0/expr.ipynb\"><img src=\"../ba6c434828a65373b6f2a3ea006c6f708d492d9a0/expr.png\" style=\"display:inline;vertical-align:middle;\" /></a></td></tr>\n",
       "<tr><td>9</td><td>NamedExprs</td><td>element: 12<br>targets: 14<br></td><td><a class=\"ProveItLink\" href=\"../../common/b298c4b442927e0b9a9337df790992e0c4e085330/expr.ipynb\"><img src=\"../../common/b298c4b442927e0b9a9337df790992e0c4e085330/expr.png\" style=\"display:inline;vertical-align:middle;\" /></a></td></tr>\n",
       "<tr><td>10</td><td>Literal</td><td></td><td><a class=\"ProveItLink\" href=\"../../../../circuits/__pv_it/common/5eaa43008f05c06941080a12337ff182ea14996e0/expr.ipynb\"><img src=\"../../../../circuits/__pv_it/common/5eaa43008f05c06941080a12337ff182ea14996e0/expr.png\" style=\"display:inline;vertical-align:middle;\" /></a></td></tr>\n",
       "<tr><td>11</td><td>NamedExprs</td><td>element: 13<br>targets: 14<br></td><td><a class=\"ProveItLink\" href=\"../0adfc68723403980173acc70165c761ee5d5c5520/expr.ipynb\"><img src=\"../0adfc68723403980173acc70165c761ee5d5c5520/expr.png\" style=\"display:inline;vertical-align:middle;\" /></a></td></tr>\n",
       "<tr><td>12</td><td>Operation</td><td>operator:&nbsp;16<br>operands:&nbsp;15<br></td><td><a class=\"ProveItLink\" href=\"../../common/8f741a55359aaa0ce6b140ff3b7dccbcda58c9750/expr.ipynb\"><img src=\"../../common/8f741a55359aaa0ce6b140ff3b7dccbcda58c9750/expr.png\" style=\"display:inline;vertical-align:middle;\" /></a></td></tr>\n",
       "<tr><td>13</td><td>Operation</td><td>operator:&nbsp;16<br>operands:&nbsp;17<br></td><td><a class=\"ProveItLink\" href=\"../a8f87fe85dd2db619dd0ab4c0867d7acb91b70a10/expr.ipynb\"><img src=\"../a8f87fe85dd2db619dd0ab4c0867d7acb91b70a10/expr.png\" style=\"display:inline;vertical-align:middle;\" /></a></td></tr>\n",
       "<tr><td>14</td><td>Operation</td><td>operator:&nbsp;18<br>operands:&nbsp;19<br></td><td><a class=\"ProveItLink\" href=\"../../common/e122b9c60b738854d914e6ecd981b572cc15d7ba0/expr.ipynb\"><img src=\"../../common/e122b9c60b738854d914e6ecd981b572cc15d7ba0/expr.png\" style=\"display:inline;vertical-align:middle;\" /></a></td></tr>\n",
       "<tr><td>15</td><td>NamedExprs</td><td>state: 20<br>part: 22<br></td><td><a class=\"ProveItLink\" href=\"../../common/d1ef23609e57349feae4b5f66bd2e88ecea3264b0/expr.ipynb\"><img src=\"../../common/d1ef23609e57349feae4b5f66bd2e88ecea3264b0/expr.png\" style=\"display:inline;vertical-align:middle;\" /></a></td></tr>\n",
       "<tr><td>16</td><td>Literal</td><td></td><td><a class=\"ProveItLink\" href=\"../../../../circuits/__pv_it/common/00345a9c4f4d361e0b6e8bbbbe5a33a8ec86a20b0/expr.ipynb\"><img src=\"../../../../circuits/__pv_it/common/00345a9c4f4d361e0b6e8bbbbe5a33a8ec86a20b0/expr.png\" style=\"display:inline;vertical-align:middle;\" /></a></td></tr>\n",
       "<tr><td>17</td><td>NamedExprs</td><td>state: 21<br>part: 22<br></td><td><a class=\"ProveItLink\" href=\"../2caf8ee87ed7f2b2a64e0b65832fe68b61db31ff0/expr.ipynb\"><img src=\"../2caf8ee87ed7f2b2a64e0b65832fe68b61db31ff0/expr.png\" style=\"display:inline;vertical-align:middle;\" /></a></td></tr>\n",
       "<tr><td>18</td><td>Literal</td><td></td><td><a class=\"ProveItLink\" href=\"../../../../../../numbers/number_sets/integers/__pv_it/common/92f3a0a77e3c3ea8e4a5c8674edadc54e4f57d550/expr.ipynb\"><img src=\"../../../../../../numbers/number_sets/integers/__pv_it/common/92f3a0a77e3c3ea8e4a5c8674edadc54e4f57d550/expr.png\" style=\"display:inline;vertical-align:middle;\" /></a></td></tr>\n",
       "<tr><td>19</td><td>ExprTuple</td><td>23, 29</td><td><a class=\"ProveItLink\" href=\"../../common/5bbcfd1311319843ab62a23688c905a8a364e8380/expr.ipynb\"><img src=\"../../common/5bbcfd1311319843ab62a23688c905a8a364e8380/expr.png\" style=\"display:inline;vertical-align:middle;\" /></a></td></tr>\n",
       "<tr><td>20</td><td>Operation</td><td>operator:&nbsp;25<br>operands:&nbsp;24<br></td><td><a class=\"ProveItLink\" href=\"../../common/8580baf79f9b30562b4fcaa7fc4531ffc563db8a0/expr.ipynb\"><img src=\"../../common/8580baf79f9b30562b4fcaa7fc4531ffc563db8a0/expr.png\" style=\"display:inline;vertical-align:middle;\" /></a></td></tr>\n",
       "<tr><td>21</td><td>Operation</td><td>operator:&nbsp;25<br>operands:&nbsp;26<br></td><td><a class=\"ProveItLink\" href=\"../004f626cee7b34b37ae6b3550b4f051049069ba50/expr.ipynb\"><img src=\"../004f626cee7b34b37ae6b3550b4f051049069ba50/expr.png\" style=\"display:inline;vertical-align:middle;\" /></a></td></tr>\n",
       "<tr><td>22</td><td>Variable</td><td></td><td><a class=\"ProveItLink\" href=\"../../../../../../core_expr_types/__pv_it/common/006c465e50948aa2b52285e2de47974f741255cc0/expr.ipynb\"><img src=\"../../../../../../core_expr_types/__pv_it/common/006c465e50948aa2b52285e2de47974f741255cc0/expr.png\" style=\"display:inline;vertical-align:middle;\" /></a></td></tr>\n",
       "<tr><td>23</td><td>Literal</td><td></td><td><a class=\"ProveItLink\" href=\"../../../../../../numbers/numerals/__pv_it/common/682157d4892d216d9e5626ed533aff9b56b9506e0/expr.ipynb\"><img src=\"../../../../../../numbers/numerals/__pv_it/common/682157d4892d216d9e5626ed533aff9b56b9506e0/expr.png\" style=\"display:inline;vertical-align:middle;\" /></a></td></tr>\n",
       "<tr><td>24</td><td>ExprTuple</td><td>27, 29</td><td><a class=\"ProveItLink\" href=\"../../common/953eab40bc601e33085318a6772c33aaf06fab5f0/expr.ipynb\"><img src=\"../../common/953eab40bc601e33085318a6772c33aaf06fab5f0/expr.png\" style=\"display:inline;vertical-align:middle;\" /></a></td></tr>\n",
       "<tr><td>25</td><td>Literal</td><td></td><td><a class=\"ProveItLink\" href=\"../../../../algebra/__pv_it/common/8fae26fc802d6e77100c911db42f2d3784cdc7330/expr.ipynb\"><img src=\"../../../../algebra/__pv_it/common/8fae26fc802d6e77100c911db42f2d3784cdc7330/expr.png\" style=\"display:inline;vertical-align:middle;\" /></a></td></tr>\n",
       "<tr><td>26</td><td>ExprTuple</td><td>28, 29</td><td><a class=\"ProveItLink\" href=\"../4cdcd73a48b6bcc92472f4b10706aab414b03b2d0/expr.ipynb\"><img src=\"../4cdcd73a48b6bcc92472f4b10706aab414b03b2d0/expr.png\" style=\"display:inline;vertical-align:middle;\" /></a></td></tr>\n",
       "<tr><td>27</td><td>Variable</td><td></td><td><a class=\"ProveItLink\" href=\"../../../../../../__pv_it/common/674a03b9c3ca221b3aabd5636837b31528ff33830/expr.ipynb\"><img src=\"../../../../../../__pv_it/common/674a03b9c3ca221b3aabd5636837b31528ff33830/expr.png\" style=\"display:inline;vertical-align:middle;\" /></a></td></tr>\n",
       "<tr><td>28</td><td>Variable</td><td></td><td><a class=\"ProveItLink\" href=\"../../../../../../__pv_it/common/8968bb04eb3f7dfa02353397ce929b025bbd79c20/expr.ipynb\"><img src=\"../../../../../../__pv_it/common/8968bb04eb3f7dfa02353397ce929b025bbd79c20/expr.png\" style=\"display:inline;vertical-align:middle;\" /></a></td></tr>\n",
       "<tr><td>29</td><td>Literal</td><td></td><td><a class=\"ProveItLink\" href=\"../../common/977cc67717328e22c93f8ab84e6a45e8cadce7790/expr.ipynb\"><img src=\"../../common/977cc67717328e22c93f8ab84e6a45e8cadce7790/expr.png\" style=\"display:inline;vertical-align:middle;\" /></a></td></tr>\n",
       "</table>\n"
      ],
      "text/plain": [
       "0. {[MULTI_QUBIT_ELEM]{element:[OUTPUT]{state:|m〉_{t}, part:_a}, targets:{1 .. t}} != [MULTI_QUBIT_ELEM]{element:[OUTPUT]{state:|n〉_{t}, part:_a}, targets:{1 .. t}} if _a in {1 .. t}.\n",
       "   core type: Conditional\n",
       "   value: 1\n",
       "   condition: 2\n",
       "1. [MULTI_QUBIT_ELEM]{element:[OUTPUT]{state:|m〉_{t}, part:_a}, targets:{1 .. t}} != [MULTI_QUBIT_ELEM]{element:[OUTPUT]{state:|n〉_{t}, part:_a}, targets:{1 .. t}}\n",
       "   core type: Operation\n",
       "   operator: 3\n",
       "   operands: 4\n",
       "2. _a in {1 .. t}\n",
       "   core type: Operation\n",
       "   operator: 5\n",
       "   operands: 6\n",
       "3. !=\n",
       "   core type: Literal\n",
       "   sub-expressions: \n",
       "4. ([MULTI_QUBIT_ELEM]{element:[OUTPUT]{state:|m〉_{t}, part:_a}, targets:{1 .. t}}, [MULTI_QUBIT_ELEM]{element:[OUTPUT]{state:|n〉_{t}, part:_a}, targets:{1 .. t}})\n",
       "   core type: ExprTuple\n",
       "   sub-expressions: 7, 8\n",
       "5. in\n",
       "   core type: Literal\n",
       "   sub-expressions: \n",
       "6. (_a, {1 .. t})\n",
       "   core type: ExprTuple\n",
       "   sub-expressions: 22, 14\n",
       "7. [MULTI_QUBIT_ELEM]{element:[OUTPUT]{state:|m〉_{t}, part:_a}, targets:{1 .. t}}\n",
       "   core type: Operation\n",
       "   operator: 10\n",
       "   operands: 9\n",
       "8. [MULTI_QUBIT_ELEM]{element:[OUTPUT]{state:|n〉_{t}, part:_a}, targets:{1 .. t}}\n",
       "   core type: Operation\n",
       "   operator: 10\n",
       "   operands: 11\n",
       "9. {element:[OUTPUT]{state:|m〉_{t}, part:_a}, targets:{1 .. t}}\n",
       "   core type: NamedExprs\n",
       "   element: 12\n",
       "   targets: 14\n",
       "10. MULTI_QUBIT_ELEM\n",
       "    core type: Literal\n",
       "    sub-expressions: \n",
       "11. {element:[OUTPUT]{state:|n〉_{t}, part:_a}, targets:{1 .. t}}\n",
       "    core type: NamedExprs\n",
       "    element: 13\n",
       "    targets: 14\n",
       "12. [OUTPUT]{state:|m〉_{t}, part:_a}\n",
       "    core type: Operation\n",
       "    operator: 16\n",
       "    operands: 15\n",
       "13. [OUTPUT]{state:|n〉_{t}, part:_a}\n",
       "    core type: Operation\n",
       "    operator: 16\n",
       "    operands: 17\n",
       "14. {1 .. t}\n",
       "    core type: Operation\n",
       "    operator: 18\n",
       "    operands: 19\n",
       "15. {state:|m〉_{t}, part:_a}\n",
       "    core type: NamedExprs\n",
       "    state: 20\n",
       "    part: 22\n",
       "16. OUTPUT\n",
       "    core type: Literal\n",
       "    sub-expressions: \n",
       "17. {state:|n〉_{t}, part:_a}\n",
       "    core type: NamedExprs\n",
       "    state: 21\n",
       "    part: 22\n",
       "18. Interval\n",
       "    core type: Literal\n",
       "    sub-expressions: \n",
       "19. (1, t)\n",
       "    core type: ExprTuple\n",
       "    sub-expressions: 23, 29\n",
       "20. |m〉_{t}\n",
       "    core type: Operation\n",
       "    operator: 25\n",
       "    operands: 24\n",
       "21. |n〉_{t}\n",
       "    core type: Operation\n",
       "    operator: 25\n",
       "    operands: 26\n",
       "22. _a\n",
       "    core type: Variable\n",
       "    sub-expressions: \n",
       "23. 1\n",
       "    core type: Literal\n",
       "    sub-expressions: \n",
       "24. (m, t)\n",
       "    core type: ExprTuple\n",
       "    sub-expressions: 27, 29\n",
       "25. NUM_KET\n",
       "    core type: Literal\n",
       "    sub-expressions: \n",
       "26. (n, t)\n",
       "    core type: ExprTuple\n",
       "    sub-expressions: 28, 29\n",
       "27. m\n",
       "    core type: Variable\n",
       "    sub-expressions: \n",
       "28. n\n",
       "    core type: Variable\n",
       "    sub-expressions: \n",
       "29. t\n",
       "    core type: Literal\n",
       "    sub-expressions: "
      ]
     },
     "metadata": {},
     "output_type": "display_data"
    }
   ],
   "source": [
    "# display the expression information\n",
    "stored_expr.expr_info()"
   ]
  },
  {
   "cell_type": "code",
   "execution_count": null,
   "metadata": {},
   "outputs": [],
   "source": []
  }
 ],
 "metadata": {
  "kernelspec": {
   "display_name": "Python 3",
   "language": "python",
   "name": "python3"
  }
 },
 "nbformat": 4,
 "nbformat_minor": 0
}