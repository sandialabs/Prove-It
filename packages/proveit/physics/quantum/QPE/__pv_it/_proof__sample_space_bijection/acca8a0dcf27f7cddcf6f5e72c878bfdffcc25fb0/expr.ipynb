{
 "cells": [
  {
   "cell_type": "markdown",
   "metadata": {},
   "source": [
    "Expression of type <a class=\"ProveItLink\" href=\"../../../../../../../../doc/html/api/proveit.logic.InSet.html\">InSet</a>\n",
    "=======================\n",
    "# from the theory of <a class=\"ProveItLink\" href=\"../../../_theory_nbs_/theory.ipynb\">proveit.physics.quantum.QPE</a>"
   ]
  },
  {
   "cell_type": "code",
   "execution_count": 1,
   "metadata": {},
   "outputs": [],
   "source": [
    "import proveit\n",
    "# Automation is not needed when building an expression:\n",
    "proveit.defaults.automation = False # This will speed things up.\n",
    "proveit.defaults.inline_pngs = False # Makes files smaller.\n",
    "%load_expr # Load the stored expression as 'stored_expr'\n",
    "# import Expression classes needed to build the expression\n",
    "from proveit import ExprRange, Variable\n",
    "from proveit.logic import Boolean, InSet, NotEquals\n",
    "from proveit.numbers import Add, Interval, one\n",
    "from proveit.physics.quantum import ket_plus\n",
    "from proveit.physics.quantum.QPE import _ket_u, _s, _t\n",
    "from proveit.physics.quantum.circuits import Input, MultiQubitElem"
   ]
  },
  {
   "cell_type": "code",
   "execution_count": 2,
   "metadata": {},
   "outputs": [
    {
     "data": {
      "text/html": [
       "<strong id=\"expr\">expr:</strong> <a class=\"ProveItLink\" href=\"expr.ipynb\"><img src=\"expr.png\" style=\"display:inline;vertical-align:middle;\" /></a><br>"
      ],
      "text/plain": [
       "<IPython.core.display.HTML object>"
      ]
     },
     "metadata": {},
     "output_type": "display_data"
    }
   ],
   "source": [
    "# build up the expression from sub-expressions\n",
    "sub_expr1 = Variable(\"_a\", latex_format = r\"{_{-}a}\")\n",
    "sub_expr2 = [ExprRange(sub_expr1, Input(state = ket_plus), one, _t), ExprRange(sub_expr1, MultiQubitElem(element = Input(state = _ket_u, part = sub_expr1), targets = Interval(Add(_t, one), Add(_t, _s))), one, _s)]\n",
    "expr = InSet(NotEquals(sub_expr2, sub_expr2), Boolean)"
   ]
  },
  {
   "cell_type": "code",
   "execution_count": 3,
   "metadata": {},
   "outputs": [
    {
     "name": "stdout",
     "output_type": "stream",
     "text": [
      "Passed sanity check: expr matches stored_expr\n"
     ]
    }
   ],
   "source": [
    "# check that the built expression is the same as the stored expression\n",
    "assert expr == stored_expr\n",
    "assert expr._style_id == stored_expr._style_id\n",
    "print(\"Passed sanity check: expr matches stored_expr\")"
   ]
  },
  {
   "cell_type": "code",
   "execution_count": 4,
   "metadata": {},
   "outputs": [
    {
     "name": "stdout",
     "output_type": "stream",
     "text": [
      "\\left(\\left(\\begin{array}{c} \\Qcircuit@C=1em @R=.7em{\n",
      "& \\qin{\\lvert + \\rangle} & \\qw \n",
      "} \\end{array}, \\begin{array}{c} \\Qcircuit@C=1em @R=.7em{\n",
      "& \\qin{\\lvert + \\rangle} & \\qw \n",
      "} \\end{array}, ..\\left(t - 3\\right) \\times.., \\begin{array}{c} \\Qcircuit@C=1em @R=.7em{\n",
      "& \\qin{\\lvert + \\rangle} & \\qw \n",
      "} \\end{array},\\begin{array}{c} \\Qcircuit@C=1em @R=.7em{\n",
      "& \\qin{\\lvert u \\rangle~\\mbox{part}~1~\\mbox{on}~\\{t + 1~\\ldotp \\ldotp~t + s\\}} & \\qw \n",
      "} \\end{array}, \\begin{array}{c} \\Qcircuit@C=1em @R=.7em{\n",
      "& \\qin{\\lvert u \\rangle~\\mbox{part}~2~\\mbox{on}~\\{t + 1~\\ldotp \\ldotp~t + s\\}} & \\qw \n",
      "} \\end{array}, \\ldots, \\begin{array}{c} \\Qcircuit@C=1em @R=.7em{\n",
      "& \\qin{\\lvert u \\rangle~\\mbox{part}~s~\\mbox{on}~\\{t + 1~\\ldotp \\ldotp~t + s\\}} & \\qw \n",
      "} \\end{array}\\right) \\neq \\left(\\begin{array}{c} \\Qcircuit@C=1em @R=.7em{\n",
      "& \\qin{\\lvert + \\rangle} & \\qw \n",
      "} \\end{array}, \\begin{array}{c} \\Qcircuit@C=1em @R=.7em{\n",
      "& \\qin{\\lvert + \\rangle} & \\qw \n",
      "} \\end{array}, ..\\left(t - 3\\right) \\times.., \\begin{array}{c} \\Qcircuit@C=1em @R=.7em{\n",
      "& \\qin{\\lvert + \\rangle} & \\qw \n",
      "} \\end{array},\\begin{array}{c} \\Qcircuit@C=1em @R=.7em{\n",
      "& \\qin{\\lvert u \\rangle~\\mbox{part}~1~\\mbox{on}~\\{t + 1~\\ldotp \\ldotp~t + s\\}} & \\qw \n",
      "} \\end{array}, \\begin{array}{c} \\Qcircuit@C=1em @R=.7em{\n",
      "& \\qin{\\lvert u \\rangle~\\mbox{part}~2~\\mbox{on}~\\{t + 1~\\ldotp \\ldotp~t + s\\}} & \\qw \n",
      "} \\end{array}, \\ldots, \\begin{array}{c} \\Qcircuit@C=1em @R=.7em{\n",
      "& \\qin{\\lvert u \\rangle~\\mbox{part}~s~\\mbox{on}~\\{t + 1~\\ldotp \\ldotp~t + s\\}} & \\qw \n",
      "} \\end{array}\\right)\\right) \\in \\mathbb{B}\n"
     ]
    }
   ],
   "source": [
    "# Show the LaTeX representation of the expression for convenience if you need it.\n",
    "print(stored_expr.latex())"
   ]
  },
  {
   "cell_type": "code",
   "execution_count": 5,
   "metadata": {},
   "outputs": [
    {
     "data": {
      "text/html": [
       "<table>\n",
       "<tr><th>name</th><th>description</th><th>default</th><th>current value</th><th>related methods</th></tr><tr><td>operation</td><td>'infix' or 'function' style formatting</td><td>infix</td><td>infix</td><td></td></tr>\n",
       "<tr><td>wrap_positions</td><td>position(s) at which wrapping is to occur; '2 n - 1' is after the nth operand, '2 n' is after the nth operation.</td><td>()</td><td>()</td><td>('with_wrapping_at', 'with_wrap_before_operator', 'with_wrap_after_operator', 'without_wrapping', 'wrap_positions')</td></tr>\n",
       "<tr><td>justification</td><td>if any wrap positions are set, justify to the 'left', 'center', or 'right'</td><td>center</td><td>center</td><td>('with_justification',)</td></tr>\n",
       "<tr><td>direction</td><td>Direction of the relation (normal or reversed)</td><td>normal</td><td>normal</td><td>('with_direction_reversed', 'is_reversed')</td></tr>\n",
       "</table>\n"
      ],
      "text/plain": [
       "style name: operation\n",
       "description: 'infix' or 'function' style formatting\n",
       "default: infix\n",
       "current value: infix\n",
       "related methods: ()\n",
       "style name: wrap_positions\n",
       "description: position(s) at which wrapping is to occur; '2 n - 1' is after the nth operand, '2 n' is after the nth operation.\n",
       "default: ()\n",
       "current value: ()\n",
       "related methods: ('with_wrapping_at', 'with_wrap_before_operator', 'with_wrap_after_operator', 'without_wrapping', 'wrap_positions')\n",
       "style name: justification\n",
       "description: if any wrap positions are set, justify to the 'left', 'center', or 'right'\n",
       "default: center\n",
       "current value: center\n",
       "related methods: ('with_justification',)\n",
       "style name: direction\n",
       "description: Direction of the relation (normal or reversed)\n",
       "default: normal\n",
       "current value: normal\n",
       "related methods: ('with_direction_reversed', 'is_reversed')"
      ]
     },
     "metadata": {},
     "output_type": "display_data"
    }
   ],
   "source": [
    "stored_expr.style_options()"
   ]
  },
  {
   "cell_type": "code",
   "execution_count": 6,
   "metadata": {},
   "outputs": [
    {
     "data": {
      "text/html": [
       "<table><tr><th>&nbsp;</th><th>core type</th><th>sub-expressions</th><th>expression</th></tr>\n",
       "<tr><td>0</td><td>Operation</td><td>operator:&nbsp;1<br>operands:&nbsp;2<br></td><td><a class=\"ProveItLink\" href=\"expr.ipynb\"><img src=\"expr.png\" style=\"display:inline;vertical-align:middle;\" /></a></td></tr>\n",
       "<tr><td>1</td><td>Literal</td><td></td><td><a class=\"ProveItLink\" href=\"../../../../../../logic/sets/membership/__pv_it/common/477487d8796864d23d5810f83761435f25167f690/expr.ipynb\"><img src=\"../../../../../../logic/sets/membership/__pv_it/common/477487d8796864d23d5810f83761435f25167f690/expr.png\" style=\"display:inline;vertical-align:middle;\" /></a></td></tr>\n",
       "<tr><td>2</td><td>ExprTuple</td><td>3, 4</td><td><a class=\"ProveItLink\" href=\"../06df15d663b360542f52553a85841ccf6317f5a50/expr.ipynb\"><img src=\"../06df15d663b360542f52553a85841ccf6317f5a50/expr.png\" style=\"display:inline;vertical-align:middle;\" /></a></td></tr>\n",
       "<tr><td>3</td><td>Operation</td><td>operator:&nbsp;5<br>operands:&nbsp;6<br></td><td><a class=\"ProveItLink\" href=\"../4f1658c6d993eb8f5282306f361b71b7225b550c0/expr.ipynb\"><img src=\"../4f1658c6d993eb8f5282306f361b71b7225b550c0/expr.png\" style=\"display:inline;vertical-align:middle;\" /></a></td></tr>\n",
       "<tr><td>4</td><td>Literal</td><td></td><td><a class=\"ProveItLink\" href=\"../../../../../../logic/booleans/__pv_it/common/97424376de9815ad99f7180e3191b1cf4ab2a5710/expr.ipynb\"><img src=\"../../../../../../logic/booleans/__pv_it/common/97424376de9815ad99f7180e3191b1cf4ab2a5710/expr.png\" style=\"display:inline;vertical-align:middle;\" /></a></td></tr>\n",
       "<tr><td>5</td><td>Literal</td><td></td><td><a class=\"ProveItLink\" href=\"../../../../../../logic/equality/__pv_it/common/d96270bc9bb1bad54f773b1c04bfb343a739642c0/expr.ipynb\"><img src=\"../../../../../../logic/equality/__pv_it/common/d96270bc9bb1bad54f773b1c04bfb343a739642c0/expr.png\" style=\"display:inline;vertical-align:middle;\" /></a></td></tr>\n",
       "<tr><td>6</td><td>ExprTuple</td><td>7, 7</td><td><a class=\"ProveItLink\" href=\"../cbd4c4fe778560915726c2a0460111a91e39bcf20/expr.ipynb\"><img src=\"../cbd4c4fe778560915726c2a0460111a91e39bcf20/expr.png\" style=\"display:inline;vertical-align:middle;\" /></a></td></tr>\n",
       "<tr><td>7</td><td>ExprTuple</td><td>8, 9</td><td><a class=\"ProveItLink\" href=\"../../common/9883243590099fb73d65e045bd11a144025f7a970/expr.ipynb\"><img src=\"../../common/9883243590099fb73d65e045bd11a144025f7a970/expr.png\" style=\"display:inline;vertical-align:middle;\" /></a></td></tr>\n",
       "<tr><td>8</td><td>ExprRange</td><td>lambda_map:&nbsp;10<br>start_index:&nbsp;35<br>end_index:&nbsp;36<br></td><td><a class=\"ProveItLink\" href=\"../../common/ded255d47e26d0be6808d73a176a35f7d712e1690/expr.ipynb\"><img src=\"../../common/ded255d47e26d0be6808d73a176a35f7d712e1690/expr.png\" style=\"display:inline;vertical-align:middle;\" /></a></td></tr>\n",
       "<tr><td>9</td><td>ExprRange</td><td>lambda_map:&nbsp;11<br>start_index:&nbsp;35<br>end_index:&nbsp;37<br></td><td><a class=\"ProveItLink\" href=\"../../common/b5506b43f3aa2a8a3c5c0427e42d42281206f4670/expr.ipynb\"><img src=\"../../common/b5506b43f3aa2a8a3c5c0427e42d42281206f4670/expr.png\" style=\"display:inline;vertical-align:middle;\" /></a></td></tr>\n",
       "<tr><td>10</td><td>Lambda</td><td>parameter:&nbsp;29<br>body:&nbsp;12<br></td><td><a class=\"ProveItLink\" href=\"../../common/6090dfa51ad8e5a0387930cc2548e5c69535f7fa0/expr.ipynb\"><img src=\"../../common/6090dfa51ad8e5a0387930cc2548e5c69535f7fa0/expr.png\" style=\"display:inline;vertical-align:middle;\" /></a></td></tr>\n",
       "<tr><td>11</td><td>Lambda</td><td>parameter:&nbsp;29<br>body:&nbsp;14<br></td><td><a class=\"ProveItLink\" href=\"../../common/b04ffda48094a18f537971fe5117a2cdf03088a00/expr.ipynb\"><img src=\"../../common/b04ffda48094a18f537971fe5117a2cdf03088a00/expr.png\" style=\"display:inline;vertical-align:middle;\" /></a></td></tr>\n",
       "<tr><td>12</td><td>Operation</td><td>operator:&nbsp;23<br>operands:&nbsp;15<br></td><td><a class=\"ProveItLink\" href=\"../../common/82fcfc017cb52ac1f3140048bedd6b2fb7b0ff880/expr.ipynb\"><img src=\"../../common/82fcfc017cb52ac1f3140048bedd6b2fb7b0ff880/expr.png\" style=\"display:inline;vertical-align:middle;\" /></a></td></tr>\n",
       "<tr><td>13</td><td>ExprTuple</td><td>29</td><td><a class=\"ProveItLink\" href=\"../../common/4b0dd6be36d76552eda6a95d5b4a27f5a5b62f900/expr.ipynb\"><img src=\"../../common/4b0dd6be36d76552eda6a95d5b4a27f5a5b62f900/expr.png\" style=\"display:inline;vertical-align:middle;\" /></a></td></tr>\n",
       "<tr><td>14</td><td>Operation</td><td>operator:&nbsp;16<br>operands:&nbsp;17<br></td><td><a class=\"ProveItLink\" href=\"../../common/00613376a331bfaaedf4ccbaedb817cbf7de847e0/expr.ipynb\"><img src=\"../../common/00613376a331bfaaedf4ccbaedb817cbf7de847e0/expr.png\" style=\"display:inline;vertical-align:middle;\" /></a></td></tr>\n",
       "<tr><td>15</td><td>NamedExprs</td><td>state: 18<br></td><td><a class=\"ProveItLink\" href=\"../../common/b266c0dfe5a9436e9487ad099f25d61b13f326830/expr.ipynb\"><img src=\"../../common/b266c0dfe5a9436e9487ad099f25d61b13f326830/expr.png\" style=\"display:inline;vertical-align:middle;\" /></a></td></tr>\n",
       "<tr><td>16</td><td>Literal</td><td></td><td><a class=\"ProveItLink\" href=\"../../../../circuits/__pv_it/common/5eaa43008f05c06941080a12337ff182ea14996e0/expr.ipynb\"><img src=\"../../../../circuits/__pv_it/common/5eaa43008f05c06941080a12337ff182ea14996e0/expr.png\" style=\"display:inline;vertical-align:middle;\" /></a></td></tr>\n",
       "<tr><td>17</td><td>NamedExprs</td><td>element: 19<br>targets: 20<br></td><td><a class=\"ProveItLink\" href=\"../../common/64c1abdecf338af58fd3e9628fdc639fbcc310be0/expr.ipynb\"><img src=\"../../common/64c1abdecf338af58fd3e9628fdc639fbcc310be0/expr.png\" style=\"display:inline;vertical-align:middle;\" /></a></td></tr>\n",
       "<tr><td>18</td><td>Operation</td><td>operator:&nbsp;21<br>operand:&nbsp;27<br></td><td><a class=\"ProveItLink\" href=\"../../../../__pv_it/common/b9907a4ca6602d038bf27bdfa2858604717503d70/expr.ipynb\"><img src=\"../../../../__pv_it/common/b9907a4ca6602d038bf27bdfa2858604717503d70/expr.png\" style=\"display:inline;vertical-align:middle;\" /></a></td></tr>\n",
       "<tr><td>19</td><td>Operation</td><td>operator:&nbsp;23<br>operands:&nbsp;24<br></td><td><a class=\"ProveItLink\" href=\"../../common/a1f079b49dc27c2324e79e5e78d81943fa60c9960/expr.ipynb\"><img src=\"../../common/a1f079b49dc27c2324e79e5e78d81943fa60c9960/expr.png\" style=\"display:inline;vertical-align:middle;\" /></a></td></tr>\n",
       "<tr><td>20</td><td>Operation</td><td>operator:&nbsp;25<br>operands:&nbsp;26<br></td><td><a class=\"ProveItLink\" href=\"../../common/e4c37383ea766bb1f6bcd7098cceb832b15e96720/expr.ipynb\"><img src=\"../../common/e4c37383ea766bb1f6bcd7098cceb832b15e96720/expr.png\" style=\"display:inline;vertical-align:middle;\" /></a></td></tr>\n",
       "<tr><td>21</td><td>Literal</td><td></td><td><a class=\"ProveItLink\" href=\"../../../../algebra/__pv_it/common/e3872951fe05b26090372918594af92cac779e280/expr.ipynb\"><img src=\"../../../../algebra/__pv_it/common/e3872951fe05b26090372918594af92cac779e280/expr.png\" style=\"display:inline;vertical-align:middle;\" /></a></td></tr>\n",
       "<tr><td>22</td><td>ExprTuple</td><td>27</td><td><a class=\"ProveItLink\" href=\"../../../../__pv_it/common/a3a8633bf73b9f1e63bad9d6c7e6c6122f5f3e540/expr.ipynb\"><img src=\"../../../../__pv_it/common/a3a8633bf73b9f1e63bad9d6c7e6c6122f5f3e540/expr.png\" style=\"display:inline;vertical-align:middle;\" /></a></td></tr>\n",
       "<tr><td>23</td><td>Literal</td><td></td><td><a class=\"ProveItLink\" href=\"../../../../circuits/__pv_it/common/deea8715ce6701df08bbe1d049112a0bad4965c20/expr.ipynb\"><img src=\"../../../../circuits/__pv_it/common/deea8715ce6701df08bbe1d049112a0bad4965c20/expr.png\" style=\"display:inline;vertical-align:middle;\" /></a></td></tr>\n",
       "<tr><td>24</td><td>NamedExprs</td><td>state: 28<br>part: 29<br></td><td><a class=\"ProveItLink\" href=\"../../common/d731450f12622d219d2b2dddf70849e455294f070/expr.ipynb\"><img src=\"../../common/d731450f12622d219d2b2dddf70849e455294f070/expr.png\" style=\"display:inline;vertical-align:middle;\" /></a></td></tr>\n",
       "<tr><td>25</td><td>Literal</td><td></td><td><a class=\"ProveItLink\" href=\"../../../../../../numbers/number_sets/integers/__pv_it/common/92f3a0a77e3c3ea8e4a5c8674edadc54e4f57d550/expr.ipynb\"><img src=\"../../../../../../numbers/number_sets/integers/__pv_it/common/92f3a0a77e3c3ea8e4a5c8674edadc54e4f57d550/expr.png\" style=\"display:inline;vertical-align:middle;\" /></a></td></tr>\n",
       "<tr><td>26</td><td>ExprTuple</td><td>30, 31</td><td><a class=\"ProveItLink\" href=\"../../common/290007a348622eadb6860d4299d78fb54ebb86910/expr.ipynb\"><img src=\"../../common/290007a348622eadb6860d4299d78fb54ebb86910/expr.png\" style=\"display:inline;vertical-align:middle;\" /></a></td></tr>\n",
       "<tr><td>27</td><td>Literal</td><td></td><td><a class=\"ProveItLink\" href=\"../../../../__pv_it/common/af7474ecb679aafadbff60eb0f517b3d905ff7830/expr.ipynb\"><img src=\"../../../../__pv_it/common/af7474ecb679aafadbff60eb0f517b3d905ff7830/expr.png\" style=\"display:inline;vertical-align:middle;\" /></a></td></tr>\n",
       "<tr><td>28</td><td>Literal</td><td></td><td><a class=\"ProveItLink\" href=\"../../common/ca39d48f285e5b8b9c4fc5a4225a68cd859974bc0/expr.ipynb\"><img src=\"../../common/ca39d48f285e5b8b9c4fc5a4225a68cd859974bc0/expr.png\" style=\"display:inline;vertical-align:middle;\" /></a></td></tr>\n",
       "<tr><td>29</td><td>Variable</td><td></td><td><a class=\"ProveItLink\" href=\"../../common/006c465e50948aa2b52285e2de47974f741255cc0/expr.ipynb\"><img src=\"../../common/006c465e50948aa2b52285e2de47974f741255cc0/expr.png\" style=\"display:inline;vertical-align:middle;\" /></a></td></tr>\n",
       "<tr><td>30</td><td>Operation</td><td>operator:&nbsp;33<br>operands:&nbsp;32<br></td><td><a class=\"ProveItLink\" href=\"../../common/ee59288f8ad36a7fc131fd5d062c398a9f67d7a70/expr.ipynb\"><img src=\"../../common/ee59288f8ad36a7fc131fd5d062c398a9f67d7a70/expr.png\" style=\"display:inline;vertical-align:middle;\" /></a></td></tr>\n",
       "<tr><td>31</td><td>Operation</td><td>operator:&nbsp;33<br>operands:&nbsp;34<br></td><td><a class=\"ProveItLink\" href=\"../../common/d594f9d2403ea6680916b743cd9c582a0a3aed4b0/expr.ipynb\"><img src=\"../../common/d594f9d2403ea6680916b743cd9c582a0a3aed4b0/expr.png\" style=\"display:inline;vertical-align:middle;\" /></a></td></tr>\n",
       "<tr><td>32</td><td>ExprTuple</td><td>36, 35</td><td><a class=\"ProveItLink\" href=\"../../common/b78bbf7fd57d1a1491fbbbcff71abb9d886680aa0/expr.ipynb\"><img src=\"../../common/b78bbf7fd57d1a1491fbbbcff71abb9d886680aa0/expr.png\" style=\"display:inline;vertical-align:middle;\" /></a></td></tr>\n",
       "<tr><td>33</td><td>Literal</td><td></td><td><a class=\"ProveItLink\" href=\"../../../../../../numbers/addition/__pv_it/common/4b7effaab3619a1c2c38fe2dee8601df8ec714590/expr.ipynb\"><img src=\"../../../../../../numbers/addition/__pv_it/common/4b7effaab3619a1c2c38fe2dee8601df8ec714590/expr.png\" style=\"display:inline;vertical-align:middle;\" /></a></td></tr>\n",
       "<tr><td>34</td><td>ExprTuple</td><td>36, 37</td><td><a class=\"ProveItLink\" href=\"../../common/68a54423765fd39956fb91176c58139b7e4f5c510/expr.ipynb\"><img src=\"../../common/68a54423765fd39956fb91176c58139b7e4f5c510/expr.png\" style=\"display:inline;vertical-align:middle;\" /></a></td></tr>\n",
       "<tr><td>35</td><td>Literal</td><td></td><td><a class=\"ProveItLink\" href=\"../../../../../../numbers/numerals/__pv_it/common/682157d4892d216d9e5626ed533aff9b56b9506e0/expr.ipynb\"><img src=\"../../../../../../numbers/numerals/__pv_it/common/682157d4892d216d9e5626ed533aff9b56b9506e0/expr.png\" style=\"display:inline;vertical-align:middle;\" /></a></td></tr>\n",
       "<tr><td>36</td><td>Literal</td><td></td><td><a class=\"ProveItLink\" href=\"../../common/977cc67717328e22c93f8ab84e6a45e8cadce7790/expr.ipynb\"><img src=\"../../common/977cc67717328e22c93f8ab84e6a45e8cadce7790/expr.png\" style=\"display:inline;vertical-align:middle;\" /></a></td></tr>\n",
       "<tr><td>37</td><td>Literal</td><td></td><td><a class=\"ProveItLink\" href=\"../../common/8a1628c4cfc7b78e5c5de183ba3f5cff0b20d4dd0/expr.ipynb\"><img src=\"../../common/8a1628c4cfc7b78e5c5de183ba3f5cff0b20d4dd0/expr.png\" style=\"display:inline;vertical-align:middle;\" /></a></td></tr>\n",
       "</table>\n"
      ],
      "text/plain": [
       "0. (([INPUT]{state:|+〉}, [INPUT]{state:|+〉}, ..(t - 3) ×.., [INPUT]{state:|+〉},[MULTI_QUBIT_ELEM]{element:[INPUT]{state:|u>, part:1}, targets:{t + 1 .. t + s}}, [MULTI_QUBIT_ELEM]{element:[INPUT]{state:|u>, part:2}, targets:{t + 1 .. t + s}}, ..., [MULTI_QUBIT_ELEM]{element:[INPUT]{state:|u>, part:s}, targets:{t + 1 .. t + s}}) != ([INPUT]{state:|+〉}, [INPUT]{state:|+〉}, ..(t - 3) ×.., [INPUT]{state:|+〉},[MULTI_QUBIT_ELEM]{element:[INPUT]{state:|u>, part:1}, targets:{t + 1 .. t + s}}, [MULTI_QUBIT_ELEM]{element:[INPUT]{state:|u>, part:2}, targets:{t + 1 .. t + s}}, ..., [MULTI_QUBIT_ELEM]{element:[INPUT]{state:|u>, part:s}, targets:{t + 1 .. t + s}})) in BOOLEAN\n",
       "   core type: Operation\n",
       "   operator: 1\n",
       "   operands: 2\n",
       "1. in\n",
       "   core type: Literal\n",
       "   sub-expressions: \n",
       "2. (([INPUT]{state:|+〉}, [INPUT]{state:|+〉}, ..(t - 3) ×.., [INPUT]{state:|+〉},[MULTI_QUBIT_ELEM]{element:[INPUT]{state:|u>, part:1}, targets:{t + 1 .. t + s}}, [MULTI_QUBIT_ELEM]{element:[INPUT]{state:|u>, part:2}, targets:{t + 1 .. t + s}}, ..., [MULTI_QUBIT_ELEM]{element:[INPUT]{state:|u>, part:s}, targets:{t + 1 .. t + s}}) != ([INPUT]{state:|+〉}, [INPUT]{state:|+〉}, ..(t - 3) ×.., [INPUT]{state:|+〉},[MULTI_QUBIT_ELEM]{element:[INPUT]{state:|u>, part:1}, targets:{t + 1 .. t + s}}, [MULTI_QUBIT_ELEM]{element:[INPUT]{state:|u>, part:2}, targets:{t + 1 .. t + s}}, ..., [MULTI_QUBIT_ELEM]{element:[INPUT]{state:|u>, part:s}, targets:{t + 1 .. t + s}}), BOOLEAN)\n",
       "   core type: ExprTuple\n",
       "   sub-expressions: 3, 4\n",
       "3. ([INPUT]{state:|+〉}, [INPUT]{state:|+〉}, ..(t - 3) ×.., [INPUT]{state:|+〉},[MULTI_QUBIT_ELEM]{element:[INPUT]{state:|u>, part:1}, targets:{t + 1 .. t + s}}, [MULTI_QUBIT_ELEM]{element:[INPUT]{state:|u>, part:2}, targets:{t + 1 .. t + s}}, ..., [MULTI_QUBIT_ELEM]{element:[INPUT]{state:|u>, part:s}, targets:{t + 1 .. t + s}}) != ([INPUT]{state:|+〉}, [INPUT]{state:|+〉}, ..(t - 3) ×.., [INPUT]{state:|+〉},[MULTI_QUBIT_ELEM]{element:[INPUT]{state:|u>, part:1}, targets:{t + 1 .. t + s}}, [MULTI_QUBIT_ELEM]{element:[INPUT]{state:|u>, part:2}, targets:{t + 1 .. t + s}}, ..., [MULTI_QUBIT_ELEM]{element:[INPUT]{state:|u>, part:s}, targets:{t + 1 .. t + s}})\n",
       "   core type: Operation\n",
       "   operator: 5\n",
       "   operands: 6\n",
       "4. BOOLEAN\n",
       "   core type: Literal\n",
       "   sub-expressions: \n",
       "5. !=\n",
       "   core type: Literal\n",
       "   sub-expressions: \n",
       "6. (([INPUT]{state:|+〉}, [INPUT]{state:|+〉}, ..(t - 3) ×.., [INPUT]{state:|+〉},[MULTI_QUBIT_ELEM]{element:[INPUT]{state:|u>, part:1}, targets:{t + 1 .. t + s}}, [MULTI_QUBIT_ELEM]{element:[INPUT]{state:|u>, part:2}, targets:{t + 1 .. t + s}}, ..., [MULTI_QUBIT_ELEM]{element:[INPUT]{state:|u>, part:s}, targets:{t + 1 .. t + s}}), ([INPUT]{state:|+〉}, [INPUT]{state:|+〉}, ..(t - 3) ×.., [INPUT]{state:|+〉},[MULTI_QUBIT_ELEM]{element:[INPUT]{state:|u>, part:1}, targets:{t + 1 .. t + s}}, [MULTI_QUBIT_ELEM]{element:[INPUT]{state:|u>, part:2}, targets:{t + 1 .. t + s}}, ..., [MULTI_QUBIT_ELEM]{element:[INPUT]{state:|u>, part:s}, targets:{t + 1 .. t + s}}))\n",
       "   core type: ExprTuple\n",
       "   sub-expressions: 7, 7\n",
       "7. ([INPUT]{state:|+〉}, [INPUT]{state:|+〉}, ..(t - 3) ×.., [INPUT]{state:|+〉},[MULTI_QUBIT_ELEM]{element:[INPUT]{state:|u>, part:1}, targets:{t + 1 .. t + s}}, [MULTI_QUBIT_ELEM]{element:[INPUT]{state:|u>, part:2}, targets:{t + 1 .. t + s}}, ..., [MULTI_QUBIT_ELEM]{element:[INPUT]{state:|u>, part:s}, targets:{t + 1 .. t + s}})\n",
       "   core type: ExprTuple\n",
       "   sub-expressions: 8, 9\n",
       "8. [INPUT]{state:|+〉}, [INPUT]{state:|+〉}, ..(t - 3) ×.., [INPUT]{state:|+〉}\n",
       "   core type: ExprRange\n",
       "   lambda_map: 10\n",
       "   start_index: 35\n",
       "   end_index: 36\n",
       "9. [MULTI_QUBIT_ELEM]{element:[INPUT]{state:|u>, part:1}, targets:{t + 1 .. t + s}}, [MULTI_QUBIT_ELEM]{element:[INPUT]{state:|u>, part:2}, targets:{t + 1 .. t + s}}, ..., [MULTI_QUBIT_ELEM]{element:[INPUT]{state:|u>, part:s}, targets:{t + 1 .. t + s}}\n",
       "   core type: ExprRange\n",
       "   lambda_map: 11\n",
       "   start_index: 35\n",
       "   end_index: 37\n",
       "10. _a -> [INPUT]{state:|+〉}\n",
       "    core type: Lambda\n",
       "    parameter: 29\n",
       "    body: 12\n",
       "11. _a -> [MULTI_QUBIT_ELEM]{element:[INPUT]{state:|u>, part:_a}, targets:{t + 1 .. t + s}}\n",
       "    core type: Lambda\n",
       "    parameter: 29\n",
       "    body: 14\n",
       "12. [INPUT]{state:|+〉}\n",
       "    core type: Operation\n",
       "    operator: 23\n",
       "    operands: 15\n",
       "13. (_a)\n",
       "    core type: ExprTuple\n",
       "    sub-expressions: 29\n",
       "14. [MULTI_QUBIT_ELEM]{element:[INPUT]{state:|u>, part:_a}, targets:{t + 1 .. t + s}}\n",
       "    core type: Operation\n",
       "    operator: 16\n",
       "    operands: 17\n",
       "15. {state:|+〉}\n",
       "    core type: NamedExprs\n",
       "    state: 18\n",
       "16. MULTI_QUBIT_ELEM\n",
       "    core type: Literal\n",
       "    sub-expressions: \n",
       "17. {element:[INPUT]{state:|u>, part:_a}, targets:{t + 1 .. t + s}}\n",
       "    core type: NamedExprs\n",
       "    element: 19\n",
       "    targets: 20\n",
       "18. |+〉\n",
       "    core type: Operation\n",
       "    operator: 21\n",
       "    operand: 27\n",
       "19. [INPUT]{state:|u>, part:_a}\n",
       "    core type: Operation\n",
       "    operator: 23\n",
       "    operands: 24\n",
       "20. {t + 1 .. t + s}\n",
       "    core type: Operation\n",
       "    operator: 25\n",
       "    operands: 26\n",
       "21. KET\n",
       "    core type: Literal\n",
       "    sub-expressions: \n",
       "22. (+)\n",
       "    core type: ExprTuple\n",
       "    sub-expressions: 27\n",
       "23. INPUT\n",
       "    core type: Literal\n",
       "    sub-expressions: \n",
       "24. {state:|u>, part:_a}\n",
       "    core type: NamedExprs\n",
       "    state: 28\n",
       "    part: 29\n",
       "25. Interval\n",
       "    core type: Literal\n",
       "    sub-expressions: \n",
       "26. (t + 1, t + s)\n",
       "    core type: ExprTuple\n",
       "    sub-expressions: 30, 31\n",
       "27. +\n",
       "    core type: Literal\n",
       "    sub-expressions: \n",
       "28. |u>\n",
       "    core type: Literal\n",
       "    sub-expressions: \n",
       "29. _a\n",
       "    core type: Variable\n",
       "    sub-expressions: \n",
       "30. t + 1\n",
       "    core type: Operation\n",
       "    operator: 33\n",
       "    operands: 32\n",
       "31. t + s\n",
       "    core type: Operation\n",
       "    operator: 33\n",
       "    operands: 34\n",
       "32. (t, 1)\n",
       "    core type: ExprTuple\n",
       "    sub-expressions: 36, 35\n",
       "33. +\n",
       "    core type: Literal\n",
       "    sub-expressions: \n",
       "34. (t, s)\n",
       "    core type: ExprTuple\n",
       "    sub-expressions: 36, 37\n",
       "35. 1\n",
       "    core type: Literal\n",
       "    sub-expressions: \n",
       "36. t\n",
       "    core type: Literal\n",
       "    sub-expressions: \n",
       "37. s\n",
       "    core type: Literal\n",
       "    sub-expressions: "
      ]
     },
     "metadata": {},
     "output_type": "display_data"
    }
   ],
   "source": [
    "# display the expression information\n",
    "stored_expr.expr_info()"
   ]
  },
  {
   "cell_type": "code",
   "execution_count": null,
   "metadata": {},
   "outputs": [],
   "source": []
  }
 ],
 "metadata": {
  "kernelspec": {
   "display_name": "Python 3",
   "language": "python",
   "name": "python3"
  }
 },
 "nbformat": 4,
 "nbformat_minor": 0
}