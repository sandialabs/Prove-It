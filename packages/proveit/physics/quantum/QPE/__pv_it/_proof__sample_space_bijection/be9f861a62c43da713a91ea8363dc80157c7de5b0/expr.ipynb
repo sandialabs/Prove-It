{
 "cells": [
  {
   "cell_type": "markdown",
   "metadata": {},
   "source": [
    "Expression of type <a class=\"ProveItLink\" href=\"../../../../../../../../doc/html/api/proveit.ExprTuple.html\">ExprTuple</a>\n",
    "=======================\n",
    "# from the theory of <a class=\"ProveItLink\" href=\"../../../_theory_nbs_/theory.ipynb\">proveit.physics.quantum.QPE</a>"
   ]
  },
  {
   "cell_type": "code",
   "execution_count": 1,
   "metadata": {},
   "outputs": [],
   "source": [
    "import proveit\n",
    "# Automation is not needed when building an expression:\n",
    "proveit.defaults.automation = False # This will speed things up.\n",
    "proveit.defaults.inline_pngs = False # Makes files smaller.\n",
    "%load_expr # Load the stored expression as 'stored_expr'\n",
    "# import Expression classes needed to build the expression\n",
    "from proveit import ExprTuple, Lambda, Variable, m\n",
    "from proveit.numbers import Add, Interval, one\n",
    "from proveit.physics.quantum import NumKet\n",
    "from proveit.physics.quantum.QPE import _ket_u, _s, _t\n",
    "from proveit.physics.quantum.circuits import MultiQubitElem, Output"
   ]
  },
  {
   "cell_type": "code",
   "execution_count": 2,
   "metadata": {},
   "outputs": [
    {
     "data": {
      "text/html": [
       "<strong id=\"expr\">expr:</strong> <a class=\"ProveItLink\" href=\"expr.ipynb\"><img src=\"expr.png\" style=\"display:inline;vertical-align:middle;\" /></a><br>"
      ],
      "text/plain": [
       "<IPython.core.display.HTML object>"
      ]
     },
     "metadata": {},
     "output_type": "display_data"
    }
   ],
   "source": [
    "# build up the expression from sub-expressions\n",
    "sub_expr1 = Variable(\"_a\", latex_format = r\"{_{-}a}\")\n",
    "expr = ExprTuple(Lambda(sub_expr1, MultiQubitElem(element = Output(state = NumKet(m, _t), part = sub_expr1), targets = Interval(one, _t))), Lambda(sub_expr1, MultiQubitElem(element = Output(state = _ket_u, part = sub_expr1), targets = Interval(Add(_t, one), Add(_t, _s)))))"
   ]
  },
  {
   "cell_type": "code",
   "execution_count": 3,
   "metadata": {},
   "outputs": [
    {
     "name": "stdout",
     "output_type": "stream",
     "text": [
      "Passed sanity check: expr matches stored_expr\n"
     ]
    }
   ],
   "source": [
    "# check that the built expression is the same as the stored expression\n",
    "assert expr == stored_expr\n",
    "assert expr._style_id == stored_expr._style_id\n",
    "print(\"Passed sanity check: expr matches stored_expr\")"
   ]
  },
  {
   "cell_type": "code",
   "execution_count": 4,
   "metadata": {},
   "outputs": [
    {
     "name": "stdout",
     "output_type": "stream",
     "text": [
      "\\left({_{-}a} \\mapsto \\begin{array}{c} \\Qcircuit@C=1em @R=.7em{\n",
      "& & \\qout{\\lvert m \\rangle_{t}~\\mbox{part}~{_{-}a}~\\mbox{on}~\\{1~\\ldotp \\ldotp~t\\}} \n",
      "} \\end{array}, {_{-}a} \\mapsto \\begin{array}{c} \\Qcircuit@C=1em @R=.7em{\n",
      "& & \\qout{\\lvert u \\rangle~\\mbox{part}~{_{-}a}~\\mbox{on}~\\{t + 1~\\ldotp \\ldotp~t + s\\}} \n",
      "} \\end{array}\\right)\n"
     ]
    }
   ],
   "source": [
    "# Show the LaTeX representation of the expression for convenience if you need it.\n",
    "print(stored_expr.latex())"
   ]
  },
  {
   "cell_type": "code",
   "execution_count": 5,
   "metadata": {},
   "outputs": [
    {
     "data": {
      "text/html": [
       "<table>\n",
       "<tr><th>name</th><th>description</th><th>default</th><th>current value</th><th>related methods</th></tr><tr><td>wrap_positions</td><td>position(s) at which wrapping is to occur; 'n' is after the nth comma.</td><td>()</td><td>()</td><td>('with_wrapping_at',)</td></tr>\n",
       "<tr><td>justification</td><td>if any wrap positions are set, justify to the 'left', 'center', or 'right'</td><td>left</td><td>left</td><td>('with_justification',)</td></tr>\n",
       "</table>\n"
      ],
      "text/plain": [
       "style name: wrap_positions\n",
       "description: position(s) at which wrapping is to occur; 'n' is after the nth comma.\n",
       "default: ()\n",
       "current value: ()\n",
       "related methods: ('with_wrapping_at',)\n",
       "style name: justification\n",
       "description: if any wrap positions are set, justify to the 'left', 'center', or 'right'\n",
       "default: left\n",
       "current value: left\n",
       "related methods: ('with_justification',)"
      ]
     },
     "metadata": {},
     "output_type": "display_data"
    }
   ],
   "source": [
    "stored_expr.style_options()"
   ]
  },
  {
   "cell_type": "code",
   "execution_count": 6,
   "metadata": {},
   "outputs": [
    {
     "data": {
      "text/html": [
       "<table><tr><th>&nbsp;</th><th>core type</th><th>sub-expressions</th><th>expression</th></tr>\n",
       "<tr><td>0</td><td>ExprTuple</td><td>1, 2</td><td><a class=\"ProveItLink\" href=\"expr.ipynb\"><img src=\"expr.png\" style=\"display:inline;vertical-align:middle;\" /></a></td></tr>\n",
       "<tr><td>1</td><td>Lambda</td><td>parameter:&nbsp;21<br>body:&nbsp;3<br></td><td><a class=\"ProveItLink\" href=\"../../common/f251be1c955aa3d9a85963f4db2f08df7ddb717b0/expr.ipynb\"><img src=\"../../common/f251be1c955aa3d9a85963f4db2f08df7ddb717b0/expr.png\" style=\"display:inline;vertical-align:middle;\" /></a></td></tr>\n",
       "<tr><td>2</td><td>Lambda</td><td>parameter:&nbsp;21<br>body:&nbsp;5<br></td><td><a class=\"ProveItLink\" href=\"../../common/1e22278d342e59974a3de4a1805e7016916c63fd0/expr.ipynb\"><img src=\"../../common/1e22278d342e59974a3de4a1805e7016916c63fd0/expr.png\" style=\"display:inline;vertical-align:middle;\" /></a></td></tr>\n",
       "<tr><td>3</td><td>Operation</td><td>operator:&nbsp;7<br>operands:&nbsp;6<br></td><td><a class=\"ProveItLink\" href=\"../../common/def880b0b62abaced83fa41d87f3b2191cd3d3c00/expr.ipynb\"><img src=\"../../common/def880b0b62abaced83fa41d87f3b2191cd3d3c00/expr.png\" style=\"display:inline;vertical-align:middle;\" /></a></td></tr>\n",
       "<tr><td>4</td><td>ExprTuple</td><td>21</td><td><a class=\"ProveItLink\" href=\"../../common/4b0dd6be36d76552eda6a95d5b4a27f5a5b62f900/expr.ipynb\"><img src=\"../../common/4b0dd6be36d76552eda6a95d5b4a27f5a5b62f900/expr.png\" style=\"display:inline;vertical-align:middle;\" /></a></td></tr>\n",
       "<tr><td>5</td><td>Operation</td><td>operator:&nbsp;7<br>operands:&nbsp;8<br></td><td><a class=\"ProveItLink\" href=\"../../common/645ab3a8d644049e80149298c66441ee8ba0725d0/expr.ipynb\"><img src=\"../../common/645ab3a8d644049e80149298c66441ee8ba0725d0/expr.png\" style=\"display:inline;vertical-align:middle;\" /></a></td></tr>\n",
       "<tr><td>6</td><td>NamedExprs</td><td>element: 9<br>targets: 10<br></td><td><a class=\"ProveItLink\" href=\"../../common/b298c4b442927e0b9a9337df790992e0c4e085330/expr.ipynb\"><img src=\"../../common/b298c4b442927e0b9a9337df790992e0c4e085330/expr.png\" style=\"display:inline;vertical-align:middle;\" /></a></td></tr>\n",
       "<tr><td>7</td><td>Literal</td><td></td><td><a class=\"ProveItLink\" href=\"../../../../circuits/__pv_it/common/5eaa43008f05c06941080a12337ff182ea14996e0/expr.ipynb\"><img src=\"../../../../circuits/__pv_it/common/5eaa43008f05c06941080a12337ff182ea14996e0/expr.png\" style=\"display:inline;vertical-align:middle;\" /></a></td></tr>\n",
       "<tr><td>8</td><td>NamedExprs</td><td>element: 11<br>targets: 12<br></td><td><a class=\"ProveItLink\" href=\"../../common/998a677874497c68d9fa8110217b7dfa9a11d3430/expr.ipynb\"><img src=\"../../common/998a677874497c68d9fa8110217b7dfa9a11d3430/expr.png\" style=\"display:inline;vertical-align:middle;\" /></a></td></tr>\n",
       "<tr><td>9</td><td>Operation</td><td>operator:&nbsp;15<br>operands:&nbsp;13<br></td><td><a class=\"ProveItLink\" href=\"../../common/8f741a55359aaa0ce6b140ff3b7dccbcda58c9750/expr.ipynb\"><img src=\"../../common/8f741a55359aaa0ce6b140ff3b7dccbcda58c9750/expr.png\" style=\"display:inline;vertical-align:middle;\" /></a></td></tr>\n",
       "<tr><td>10</td><td>Operation</td><td>operator:&nbsp;17<br>operands:&nbsp;14<br></td><td><a class=\"ProveItLink\" href=\"../../common/e122b9c60b738854d914e6ecd981b572cc15d7ba0/expr.ipynb\"><img src=\"../../common/e122b9c60b738854d914e6ecd981b572cc15d7ba0/expr.png\" style=\"display:inline;vertical-align:middle;\" /></a></td></tr>\n",
       "<tr><td>11</td><td>Operation</td><td>operator:&nbsp;15<br>operands:&nbsp;16<br></td><td><a class=\"ProveItLink\" href=\"../../common/a38f9fb0b940bd2f9ac04d5547d5da46f983caa30/expr.ipynb\"><img src=\"../../common/a38f9fb0b940bd2f9ac04d5547d5da46f983caa30/expr.png\" style=\"display:inline;vertical-align:middle;\" /></a></td></tr>\n",
       "<tr><td>12</td><td>Operation</td><td>operator:&nbsp;17<br>operands:&nbsp;18<br></td><td><a class=\"ProveItLink\" href=\"../../common/e4c37383ea766bb1f6bcd7098cceb832b15e96720/expr.ipynb\"><img src=\"../../common/e4c37383ea766bb1f6bcd7098cceb832b15e96720/expr.png\" style=\"display:inline;vertical-align:middle;\" /></a></td></tr>\n",
       "<tr><td>13</td><td>NamedExprs</td><td>state: 19<br>part: 21<br></td><td><a class=\"ProveItLink\" href=\"../../common/d1ef23609e57349feae4b5f66bd2e88ecea3264b0/expr.ipynb\"><img src=\"../../common/d1ef23609e57349feae4b5f66bd2e88ecea3264b0/expr.png\" style=\"display:inline;vertical-align:middle;\" /></a></td></tr>\n",
       "<tr><td>14</td><td>ExprTuple</td><td>30, 31</td><td><a class=\"ProveItLink\" href=\"../../common/5bbcfd1311319843ab62a23688c905a8a364e8380/expr.ipynb\"><img src=\"../../common/5bbcfd1311319843ab62a23688c905a8a364e8380/expr.png\" style=\"display:inline;vertical-align:middle;\" /></a></td></tr>\n",
       "<tr><td>15</td><td>Literal</td><td></td><td><a class=\"ProveItLink\" href=\"../../../../circuits/__pv_it/common/00345a9c4f4d361e0b6e8bbbbe5a33a8ec86a20b0/expr.ipynb\"><img src=\"../../../../circuits/__pv_it/common/00345a9c4f4d361e0b6e8bbbbe5a33a8ec86a20b0/expr.png\" style=\"display:inline;vertical-align:middle;\" /></a></td></tr>\n",
       "<tr><td>16</td><td>NamedExprs</td><td>state: 20<br>part: 21<br></td><td><a class=\"ProveItLink\" href=\"../../common/d731450f12622d219d2b2dddf70849e455294f070/expr.ipynb\"><img src=\"../../common/d731450f12622d219d2b2dddf70849e455294f070/expr.png\" style=\"display:inline;vertical-align:middle;\" /></a></td></tr>\n",
       "<tr><td>17</td><td>Literal</td><td></td><td><a class=\"ProveItLink\" href=\"../../../../../../numbers/number_sets/integers/__pv_it/common/92f3a0a77e3c3ea8e4a5c8674edadc54e4f57d550/expr.ipynb\"><img src=\"../../../../../../numbers/number_sets/integers/__pv_it/common/92f3a0a77e3c3ea8e4a5c8674edadc54e4f57d550/expr.png\" style=\"display:inline;vertical-align:middle;\" /></a></td></tr>\n",
       "<tr><td>18</td><td>ExprTuple</td><td>22, 23</td><td><a class=\"ProveItLink\" href=\"../../common/290007a348622eadb6860d4299d78fb54ebb86910/expr.ipynb\"><img src=\"../../common/290007a348622eadb6860d4299d78fb54ebb86910/expr.png\" style=\"display:inline;vertical-align:middle;\" /></a></td></tr>\n",
       "<tr><td>19</td><td>Operation</td><td>operator:&nbsp;24<br>operands:&nbsp;25<br></td><td><a class=\"ProveItLink\" href=\"../../common/8580baf79f9b30562b4fcaa7fc4531ffc563db8a0/expr.ipynb\"><img src=\"../../common/8580baf79f9b30562b4fcaa7fc4531ffc563db8a0/expr.png\" style=\"display:inline;vertical-align:middle;\" /></a></td></tr>\n",
       "<tr><td>20</td><td>Literal</td><td></td><td><a class=\"ProveItLink\" href=\"../../common/ca39d48f285e5b8b9c4fc5a4225a68cd859974bc0/expr.ipynb\"><img src=\"../../common/ca39d48f285e5b8b9c4fc5a4225a68cd859974bc0/expr.png\" style=\"display:inline;vertical-align:middle;\" /></a></td></tr>\n",
       "<tr><td>21</td><td>Variable</td><td></td><td><a class=\"ProveItLink\" href=\"../../common/006c465e50948aa2b52285e2de47974f741255cc0/expr.ipynb\"><img src=\"../../common/006c465e50948aa2b52285e2de47974f741255cc0/expr.png\" style=\"display:inline;vertical-align:middle;\" /></a></td></tr>\n",
       "<tr><td>22</td><td>Operation</td><td>operator:&nbsp;27<br>operands:&nbsp;26<br></td><td><a class=\"ProveItLink\" href=\"../../common/ee59288f8ad36a7fc131fd5d062c398a9f67d7a70/expr.ipynb\"><img src=\"../../common/ee59288f8ad36a7fc131fd5d062c398a9f67d7a70/expr.png\" style=\"display:inline;vertical-align:middle;\" /></a></td></tr>\n",
       "<tr><td>23</td><td>Operation</td><td>operator:&nbsp;27<br>operands:&nbsp;28<br></td><td><a class=\"ProveItLink\" href=\"../../common/d594f9d2403ea6680916b743cd9c582a0a3aed4b0/expr.ipynb\"><img src=\"../../common/d594f9d2403ea6680916b743cd9c582a0a3aed4b0/expr.png\" style=\"display:inline;vertical-align:middle;\" /></a></td></tr>\n",
       "<tr><td>24</td><td>Literal</td><td></td><td><a class=\"ProveItLink\" href=\"../../../../algebra/__pv_it/common/8fae26fc802d6e77100c911db42f2d3784cdc7330/expr.ipynb\"><img src=\"../../../../algebra/__pv_it/common/8fae26fc802d6e77100c911db42f2d3784cdc7330/expr.png\" style=\"display:inline;vertical-align:middle;\" /></a></td></tr>\n",
       "<tr><td>25</td><td>ExprTuple</td><td>29, 31</td><td><a class=\"ProveItLink\" href=\"../../common/953eab40bc601e33085318a6772c33aaf06fab5f0/expr.ipynb\"><img src=\"../../common/953eab40bc601e33085318a6772c33aaf06fab5f0/expr.png\" style=\"display:inline;vertical-align:middle;\" /></a></td></tr>\n",
       "<tr><td>26</td><td>ExprTuple</td><td>31, 30</td><td><a class=\"ProveItLink\" href=\"../../common/b78bbf7fd57d1a1491fbbbcff71abb9d886680aa0/expr.ipynb\"><img src=\"../../common/b78bbf7fd57d1a1491fbbbcff71abb9d886680aa0/expr.png\" style=\"display:inline;vertical-align:middle;\" /></a></td></tr>\n",
       "<tr><td>27</td><td>Literal</td><td></td><td><a class=\"ProveItLink\" href=\"../../../../../../numbers/addition/__pv_it/common/4b7effaab3619a1c2c38fe2dee8601df8ec714590/expr.ipynb\"><img src=\"../../../../../../numbers/addition/__pv_it/common/4b7effaab3619a1c2c38fe2dee8601df8ec714590/expr.png\" style=\"display:inline;vertical-align:middle;\" /></a></td></tr>\n",
       "<tr><td>28</td><td>ExprTuple</td><td>31, 32</td><td><a class=\"ProveItLink\" href=\"../../common/68a54423765fd39956fb91176c58139b7e4f5c510/expr.ipynb\"><img src=\"../../common/68a54423765fd39956fb91176c58139b7e4f5c510/expr.png\" style=\"display:inline;vertical-align:middle;\" /></a></td></tr>\n",
       "<tr><td>29</td><td>Variable</td><td></td><td><a class=\"ProveItLink\" href=\"../../../../../../__pv_it/common/674a03b9c3ca221b3aabd5636837b31528ff33830/expr.ipynb\"><img src=\"../../../../../../__pv_it/common/674a03b9c3ca221b3aabd5636837b31528ff33830/expr.png\" style=\"display:inline;vertical-align:middle;\" /></a></td></tr>\n",
       "<tr><td>30</td><td>Literal</td><td></td><td><a class=\"ProveItLink\" href=\"../../../../../../numbers/numerals/__pv_it/common/682157d4892d216d9e5626ed533aff9b56b9506e0/expr.ipynb\"><img src=\"../../../../../../numbers/numerals/__pv_it/common/682157d4892d216d9e5626ed533aff9b56b9506e0/expr.png\" style=\"display:inline;vertical-align:middle;\" /></a></td></tr>\n",
       "<tr><td>31</td><td>Literal</td><td></td><td><a class=\"ProveItLink\" href=\"../../common/977cc67717328e22c93f8ab84e6a45e8cadce7790/expr.ipynb\"><img src=\"../../common/977cc67717328e22c93f8ab84e6a45e8cadce7790/expr.png\" style=\"display:inline;vertical-align:middle;\" /></a></td></tr>\n",
       "<tr><td>32</td><td>Literal</td><td></td><td><a class=\"ProveItLink\" href=\"../../common/8a1628c4cfc7b78e5c5de183ba3f5cff0b20d4dd0/expr.ipynb\"><img src=\"../../common/8a1628c4cfc7b78e5c5de183ba3f5cff0b20d4dd0/expr.png\" style=\"display:inline;vertical-align:middle;\" /></a></td></tr>\n",
       "</table>\n"
      ],
      "text/plain": [
       "0. (_a -> [MULTI_QUBIT_ELEM]{element:[OUTPUT]{state:|m〉_{t}, part:_a}, targets:{1 .. t}}, _a -> [MULTI_QUBIT_ELEM]{element:[OUTPUT]{state:|u>, part:_a}, targets:{t + 1 .. t + s}})\n",
       "   core type: ExprTuple\n",
       "   sub-expressions: 1, 2\n",
       "1. _a -> [MULTI_QUBIT_ELEM]{element:[OUTPUT]{state:|m〉_{t}, part:_a}, targets:{1 .. t}}\n",
       "   core type: Lambda\n",
       "   parameter: 21\n",
       "   body: 3\n",
       "2. _a -> [MULTI_QUBIT_ELEM]{element:[OUTPUT]{state:|u>, part:_a}, targets:{t + 1 .. t + s}}\n",
       "   core type: Lambda\n",
       "   parameter: 21\n",
       "   body: 5\n",
       "3. [MULTI_QUBIT_ELEM]{element:[OUTPUT]{state:|m〉_{t}, part:_a}, targets:{1 .. t}}\n",
       "   core type: Operation\n",
       "   operator: 7\n",
       "   operands: 6\n",
       "4. (_a)\n",
       "   core type: ExprTuple\n",
       "   sub-expressions: 21\n",
       "5. [MULTI_QUBIT_ELEM]{element:[OUTPUT]{state:|u>, part:_a}, targets:{t + 1 .. t + s}}\n",
       "   core type: Operation\n",
       "   operator: 7\n",
       "   operands: 8\n",
       "6. {element:[OUTPUT]{state:|m〉_{t}, part:_a}, targets:{1 .. t}}\n",
       "   core type: NamedExprs\n",
       "   element: 9\n",
       "   targets: 10\n",
       "7. MULTI_QUBIT_ELEM\n",
       "   core type: Literal\n",
       "   sub-expressions: \n",
       "8. {element:[OUTPUT]{state:|u>, part:_a}, targets:{t + 1 .. t + s}}\n",
       "   core type: NamedExprs\n",
       "   element: 11\n",
       "   targets: 12\n",
       "9. [OUTPUT]{state:|m〉_{t}, part:_a}\n",
       "   core type: Operation\n",
       "   operator: 15\n",
       "   operands: 13\n",
       "10. {1 .. t}\n",
       "    core type: Operation\n",
       "    operator: 17\n",
       "    operands: 14\n",
       "11. [OUTPUT]{state:|u>, part:_a}\n",
       "    core type: Operation\n",
       "    operator: 15\n",
       "    operands: 16\n",
       "12. {t + 1 .. t + s}\n",
       "    core type: Operation\n",
       "    operator: 17\n",
       "    operands: 18\n",
       "13. {state:|m〉_{t}, part:_a}\n",
       "    core type: NamedExprs\n",
       "    state: 19\n",
       "    part: 21\n",
       "14. (1, t)\n",
       "    core type: ExprTuple\n",
       "    sub-expressions: 30, 31\n",
       "15. OUTPUT\n",
       "    core type: Literal\n",
       "    sub-expressions: \n",
       "16. {state:|u>, part:_a}\n",
       "    core type: NamedExprs\n",
       "    state: 20\n",
       "    part: 21\n",
       "17. Interval\n",
       "    core type: Literal\n",
       "    sub-expressions: \n",
       "18. (t + 1, t + s)\n",
       "    core type: ExprTuple\n",
       "    sub-expressions: 22, 23\n",
       "19. |m〉_{t}\n",
       "    core type: Operation\n",
       "    operator: 24\n",
       "    operands: 25\n",
       "20. |u>\n",
       "    core type: Literal\n",
       "    sub-expressions: \n",
       "21. _a\n",
       "    core type: Variable\n",
       "    sub-expressions: \n",
       "22. t + 1\n",
       "    core type: Operation\n",
       "    operator: 27\n",
       "    operands: 26\n",
       "23. t + s\n",
       "    core type: Operation\n",
       "    operator: 27\n",
       "    operands: 28\n",
       "24. NUM_KET\n",
       "    core type: Literal\n",
       "    sub-expressions: \n",
       "25. (m, t)\n",
       "    core type: ExprTuple\n",
       "    sub-expressions: 29, 31\n",
       "26. (t, 1)\n",
       "    core type: ExprTuple\n",
       "    sub-expressions: 31, 30\n",
       "27. +\n",
       "    core type: Literal\n",
       "    sub-expressions: \n",
       "28. (t, s)\n",
       "    core type: ExprTuple\n",
       "    sub-expressions: 31, 32\n",
       "29. m\n",
       "    core type: Variable\n",
       "    sub-expressions: \n",
       "30. 1\n",
       "    core type: Literal\n",
       "    sub-expressions: \n",
       "31. t\n",
       "    core type: Literal\n",
       "    sub-expressions: \n",
       "32. s\n",
       "    core type: Literal\n",
       "    sub-expressions: "
      ]
     },
     "metadata": {},
     "output_type": "display_data"
    }
   ],
   "source": [
    "# display the expression information\n",
    "stored_expr.expr_info()"
   ]
  },
  {
   "cell_type": "code",
   "execution_count": null,
   "metadata": {},
   "outputs": [],
   "source": []
  }
 ],
 "metadata": {
  "kernelspec": {
   "display_name": "Python 3",
   "language": "python",
   "name": "python3"
  }
 },
 "nbformat": 4,
 "nbformat_minor": 0
}