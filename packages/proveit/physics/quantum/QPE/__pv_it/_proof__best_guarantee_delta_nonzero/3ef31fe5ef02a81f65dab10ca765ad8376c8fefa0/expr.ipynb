{
 "cells": [
  {
   "cell_type": "markdown",
   "metadata": {},
   "source": [
    "Expression of type <a class=\"ProveItLink\" href=\"../../../../../../../../doc/html/api/proveit.ExprTuple.html\">ExprTuple</a>\n",
    "=======================\n",
    "# from the theory of <a class=\"ProveItLink\" href=\"../../../_theory_nbs_/theory.ipynb\">proveit.physics.quantum.QPE</a>"
   ]
  },
  {
   "cell_type": "code",
   "execution_count": 1,
   "metadata": {},
   "outputs": [],
   "source": [
    "import proveit\n",
    "# Automation is not needed when building an expression:\n",
    "proveit.defaults.automation = False # This will speed things up.\n",
    "proveit.defaults.inline_pngs = False # Makes files smaller.\n",
    "%load_expr # Load the stored expression as 'stored_expr'\n",
    "# import Expression classes needed to build the expression\n",
    "from proveit import ExprTuple\n",
    "from proveit.numbers import Abs, Exp, Mult, e, i, one, pi, subtract, two\n",
    "from proveit.physics.quantum.QPE import _delta_b_round, _two_pow_t\n",
    "from proveit.trigonometry import Sin"
   ]
  },
  {
   "cell_type": "code",
   "execution_count": 2,
   "metadata": {},
   "outputs": [
    {
     "data": {
      "text/html": [
       "<strong id=\"expr\">expr:</strong> <a class=\"ProveItLink\" href=\"expr.ipynb\"><img src=\"expr.png\" style=\"display:inline;vertical-align:middle;\" /></a><br>"
      ],
      "text/plain": [
       "<IPython.core.display.HTML object>"
      ]
     },
     "metadata": {},
     "output_type": "display_data"
    }
   ],
   "source": [
    "# build up the expression from sub-expressions\n",
    "expr = ExprTuple(Abs(subtract(one, Exp(e, Mult(two, pi, i, _delta_b_round, _two_pow_t)))), Mult(two, Sin(Mult(_two_pow_t, pi, Abs(_delta_b_round)))))"
   ]
  },
  {
   "cell_type": "code",
   "execution_count": 3,
   "metadata": {},
   "outputs": [
    {
     "name": "stdout",
     "output_type": "stream",
     "text": [
      "Passed sanity check: expr matches stored_expr\n"
     ]
    }
   ],
   "source": [
    "# check that the built expression is the same as the stored expression\n",
    "assert expr == stored_expr\n",
    "assert expr._style_id == stored_expr._style_id\n",
    "print(\"Passed sanity check: expr matches stored_expr\")"
   ]
  },
  {
   "cell_type": "code",
   "execution_count": 4,
   "metadata": {},
   "outputs": [
    {
     "name": "stdout",
     "output_type": "stream",
     "text": [
      "\\left(\\left|1 - \\mathsf{e}^{2 \\cdot \\pi \\cdot \\mathsf{i} \\cdot \\delta_{b_{\\textit{r}}} \\cdot 2^{t}}\\right|, 2 \\cdot \\sin{\\left(2^{t} \\cdot \\pi \\cdot \\left|\\delta_{b_{\\textit{r}}}\\right|\\right)}\\right)\n"
     ]
    }
   ],
   "source": [
    "# Show the LaTeX representation of the expression for convenience if you need it.\n",
    "print(stored_expr.latex())"
   ]
  },
  {
   "cell_type": "code",
   "execution_count": 5,
   "metadata": {},
   "outputs": [
    {
     "data": {
      "text/html": [
       "<table>\n",
       "<tr><th>name</th><th>description</th><th>default</th><th>current value</th><th>related methods</th></tr><tr><td>wrap_positions</td><td>position(s) at which wrapping is to occur; 'n' is after the nth comma.</td><td>()</td><td>()</td><td>('with_wrapping_at',)</td></tr>\n",
       "<tr><td>justification</td><td>if any wrap positions are set, justify to the 'left', 'center', or 'right'</td><td>left</td><td>left</td><td>('with_justification',)</td></tr>\n",
       "</table>\n"
      ],
      "text/plain": [
       "style name: wrap_positions\n",
       "description: position(s) at which wrapping is to occur; 'n' is after the nth comma.\n",
       "default: ()\n",
       "current value: ()\n",
       "related methods: ('with_wrapping_at',)\n",
       "style name: justification\n",
       "description: if any wrap positions are set, justify to the 'left', 'center', or 'right'\n",
       "default: left\n",
       "current value: left\n",
       "related methods: ('with_justification',)"
      ]
     },
     "metadata": {},
     "output_type": "display_data"
    }
   ],
   "source": [
    "stored_expr.style_options()"
   ]
  },
  {
   "cell_type": "code",
   "execution_count": 6,
   "metadata": {},
   "outputs": [
    {
     "data": {
      "text/html": [
       "<table><tr><th>&nbsp;</th><th>core type</th><th>sub-expressions</th><th>expression</th></tr>\n",
       "<tr><td>0</td><td>ExprTuple</td><td>1, 2</td><td><a class=\"ProveItLink\" href=\"expr.ipynb\"><img src=\"expr.png\" style=\"display:inline;vertical-align:middle;\" /></a></td></tr>\n",
       "<tr><td>1</td><td>Operation</td><td>operator:&nbsp;20<br>operand:&nbsp;5<br></td><td><a class=\"ProveItLink\" href=\"../bd59d5f870ff0ef9f2f90aec4758f31c7d998c480/expr.ipynb\"><img src=\"../bd59d5f870ff0ef9f2f90aec4758f31c7d998c480/expr.png\" style=\"display:inline;vertical-align:middle;\" /></a></td></tr>\n",
       "<tr><td>2</td><td>Operation</td><td>operator:&nbsp;24<br>operands:&nbsp;4<br></td><td><a class=\"ProveItLink\" href=\"../03ff8d7bbbe3a3d976ba41744583eebada34de3b0/expr.ipynb\"><img src=\"../03ff8d7bbbe3a3d976ba41744583eebada34de3b0/expr.png\" style=\"display:inline;vertical-align:middle;\" /></a></td></tr>\n",
       "<tr><td>3</td><td>ExprTuple</td><td>5</td><td><a class=\"ProveItLink\" href=\"../6afea22712352f7ab4c3f32ef7c1b71524d6fbfb0/expr.ipynb\"><img src=\"../6afea22712352f7ab4c3f32ef7c1b71524d6fbfb0/expr.png\" style=\"display:inline;vertical-align:middle;\" /></a></td></tr>\n",
       "<tr><td>4</td><td>ExprTuple</td><td>35, 6</td><td><a class=\"ProveItLink\" href=\"../f0c6796dba6e91560da184f4a52dc8e297010b650/expr.ipynb\"><img src=\"../f0c6796dba6e91560da184f4a52dc8e297010b650/expr.png\" style=\"display:inline;vertical-align:middle;\" /></a></td></tr>\n",
       "<tr><td>5</td><td>Operation</td><td>operator:&nbsp;7<br>operands:&nbsp;8<br></td><td><a class=\"ProveItLink\" href=\"../5b7ff7d221f9e68ddbd1409c070324c16de573080/expr.ipynb\"><img src=\"../5b7ff7d221f9e68ddbd1409c070324c16de573080/expr.png\" style=\"display:inline;vertical-align:middle;\" /></a></td></tr>\n",
       "<tr><td>6</td><td>Operation</td><td>operator:&nbsp;9<br>operand:&nbsp;13<br></td><td><a class=\"ProveItLink\" href=\"../7925392dfc443659bbd91ba2405007f2993fcce80/expr.ipynb\"><img src=\"../7925392dfc443659bbd91ba2405007f2993fcce80/expr.png\" style=\"display:inline;vertical-align:middle;\" /></a></td></tr>\n",
       "<tr><td>7</td><td>Literal</td><td></td><td><a class=\"ProveItLink\" href=\"../../../../../../numbers/addition/__pv_it/common/4b7effaab3619a1c2c38fe2dee8601df8ec714590/expr.ipynb\"><img src=\"../../../../../../numbers/addition/__pv_it/common/4b7effaab3619a1c2c38fe2dee8601df8ec714590/expr.png\" style=\"display:inline;vertical-align:middle;\" /></a></td></tr>\n",
       "<tr><td>8</td><td>ExprTuple</td><td>11, 12</td><td><a class=\"ProveItLink\" href=\"../d92ac3e9dda0dce3dccef97150bbed0a3b7805b10/expr.ipynb\"><img src=\"../d92ac3e9dda0dce3dccef97150bbed0a3b7805b10/expr.png\" style=\"display:inline;vertical-align:middle;\" /></a></td></tr>\n",
       "<tr><td>9</td><td>Literal</td><td></td><td><a class=\"ProveItLink\" href=\"../../../../../../trigonometry/__pv_it/common/74595f13699450f0507665bef91ec92c40b682690/expr.ipynb\"><img src=\"../../../../../../trigonometry/__pv_it/common/74595f13699450f0507665bef91ec92c40b682690/expr.png\" style=\"display:inline;vertical-align:middle;\" /></a></td></tr>\n",
       "<tr><td>10</td><td>ExprTuple</td><td>13</td><td><a class=\"ProveItLink\" href=\"../5047cce9aa3a616bbbb89da2439ac74075b711170/expr.ipynb\"><img src=\"../5047cce9aa3a616bbbb89da2439ac74075b711170/expr.png\" style=\"display:inline;vertical-align:middle;\" /></a></td></tr>\n",
       "<tr><td>11</td><td>Literal</td><td></td><td><a class=\"ProveItLink\" href=\"../../../../../../numbers/numerals/__pv_it/common/682157d4892d216d9e5626ed533aff9b56b9506e0/expr.ipynb\"><img src=\"../../../../../../numbers/numerals/__pv_it/common/682157d4892d216d9e5626ed533aff9b56b9506e0/expr.png\" style=\"display:inline;vertical-align:middle;\" /></a></td></tr>\n",
       "<tr><td>12</td><td>Operation</td><td>operator:&nbsp;14<br>operand:&nbsp;17<br></td><td><a class=\"ProveItLink\" href=\"../9b609341d66ccd4353c89655a5dac0bcaddcb8600/expr.ipynb\"><img src=\"../9b609341d66ccd4353c89655a5dac0bcaddcb8600/expr.png\" style=\"display:inline;vertical-align:middle;\" /></a></td></tr>\n",
       "<tr><td>13</td><td>Operation</td><td>operator:&nbsp;24<br>operands:&nbsp;16<br></td><td><a class=\"ProveItLink\" href=\"../8b2b08bcddfb7a3d168a6d57e8c1529c1e6de39b0/expr.ipynb\"><img src=\"../8b2b08bcddfb7a3d168a6d57e8c1529c1e6de39b0/expr.png\" style=\"display:inline;vertical-align:middle;\" /></a></td></tr>\n",
       "<tr><td>14</td><td>Literal</td><td></td><td><a class=\"ProveItLink\" href=\"../../../../../../numbers/negation/__pv_it/common/221b3c4d1770ee9051b7c044c3f9ec61196fc34b0/expr.ipynb\"><img src=\"../../../../../../numbers/negation/__pv_it/common/221b3c4d1770ee9051b7c044c3f9ec61196fc34b0/expr.png\" style=\"display:inline;vertical-align:middle;\" /></a></td></tr>\n",
       "<tr><td>15</td><td>ExprTuple</td><td>17</td><td><a class=\"ProveItLink\" href=\"../4f1dc0e6d9cd3627af72fc5bb237966966ce5a410/expr.ipynb\"><img src=\"../4f1dc0e6d9cd3627af72fc5bb237966966ce5a410/expr.png\" style=\"display:inline;vertical-align:middle;\" /></a></td></tr>\n",
       "<tr><td>16</td><td>ExprTuple</td><td>29, 26, 18</td><td><a class=\"ProveItLink\" href=\"../547960948e15ead63f1634268e847d01cffc65f60/expr.ipynb\"><img src=\"../547960948e15ead63f1634268e847d01cffc65f60/expr.png\" style=\"display:inline;vertical-align:middle;\" /></a></td></tr>\n",
       "<tr><td>17</td><td>Operation</td><td>operator:&nbsp;32<br>operands:&nbsp;19<br></td><td><a class=\"ProveItLink\" href=\"../34c52c56cd6521d159b35df9098e70b3de5a32b80/expr.ipynb\"><img src=\"../34c52c56cd6521d159b35df9098e70b3de5a32b80/expr.png\" style=\"display:inline;vertical-align:middle;\" /></a></td></tr>\n",
       "<tr><td>18</td><td>Operation</td><td>operator:&nbsp;20<br>operand:&nbsp;28<br></td><td><a class=\"ProveItLink\" href=\"../3fd8f4d6a654cc059b1c7affb2819c7b84cb1a840/expr.ipynb\"><img src=\"../3fd8f4d6a654cc059b1c7affb2819c7b84cb1a840/expr.png\" style=\"display:inline;vertical-align:middle;\" /></a></td></tr>\n",
       "<tr><td>19</td><td>ExprTuple</td><td>22, 23</td><td><a class=\"ProveItLink\" href=\"../963d1ba2c4ae3b667e08258f48f5a1792658bb730/expr.ipynb\"><img src=\"../963d1ba2c4ae3b667e08258f48f5a1792658bb730/expr.png\" style=\"display:inline;vertical-align:middle;\" /></a></td></tr>\n",
       "<tr><td>20</td><td>Literal</td><td></td><td><a class=\"ProveItLink\" href=\"../../../../../../numbers/absolute_value/__pv_it/common/eea56c667bc0aad2dc76ed04b44c2bd98b94005f0/expr.ipynb\"><img src=\"../../../../../../numbers/absolute_value/__pv_it/common/eea56c667bc0aad2dc76ed04b44c2bd98b94005f0/expr.png\" style=\"display:inline;vertical-align:middle;\" /></a></td></tr>\n",
       "<tr><td>21</td><td>ExprTuple</td><td>28</td><td><a class=\"ProveItLink\" href=\"../409aed67bf6166d84ec6a1cf45667289138d01040/expr.ipynb\"><img src=\"../409aed67bf6166d84ec6a1cf45667289138d01040/expr.png\" style=\"display:inline;vertical-align:middle;\" /></a></td></tr>\n",
       "<tr><td>22</td><td>Literal</td><td></td><td><a class=\"ProveItLink\" href=\"../../../../../../numbers/number_sets/real_numbers/__pv_it/common/e531ffa54fd897084533764a4a14f19f590674f80/expr.ipynb\"><img src=\"../../../../../../numbers/number_sets/real_numbers/__pv_it/common/e531ffa54fd897084533764a4a14f19f590674f80/expr.png\" style=\"display:inline;vertical-align:middle;\" /></a></td></tr>\n",
       "<tr><td>23</td><td>Operation</td><td>operator:&nbsp;24<br>operands:&nbsp;25<br></td><td><a class=\"ProveItLink\" href=\"../30b260dabfe8c963fb37d5bdb588cb4770740df20/expr.ipynb\"><img src=\"../30b260dabfe8c963fb37d5bdb588cb4770740df20/expr.png\" style=\"display:inline;vertical-align:middle;\" /></a></td></tr>\n",
       "<tr><td>24</td><td>Literal</td><td></td><td><a class=\"ProveItLink\" href=\"../../../../../../numbers/multiplication/__pv_it/common/ed719cef37831779c16481533a4d380a2f95ab270/expr.ipynb\"><img src=\"../../../../../../numbers/multiplication/__pv_it/common/ed719cef37831779c16481533a4d380a2f95ab270/expr.png\" style=\"display:inline;vertical-align:middle;\" /></a></td></tr>\n",
       "<tr><td>25</td><td>ExprTuple</td><td>35, 26, 27, 28, 29</td><td><a class=\"ProveItLink\" href=\"../3ad639207793864f3c3bb8122e251f3e4485ebac0/expr.ipynb\"><img src=\"../3ad639207793864f3c3bb8122e251f3e4485ebac0/expr.png\" style=\"display:inline;vertical-align:middle;\" /></a></td></tr>\n",
       "<tr><td>26</td><td>Literal</td><td></td><td><a class=\"ProveItLink\" href=\"../../../../../../numbers/number_sets/real_numbers/__pv_it/common/246c206266ac5b48800e508d580f91767b24c2df0/expr.ipynb\"><img src=\"../../../../../../numbers/number_sets/real_numbers/__pv_it/common/246c206266ac5b48800e508d580f91767b24c2df0/expr.png\" style=\"display:inline;vertical-align:middle;\" /></a></td></tr>\n",
       "<tr><td>27</td><td>Literal</td><td></td><td><a class=\"ProveItLink\" href=\"../../../../../../numbers/number_sets/complex_numbers/__pv_it/common/6c9cc69d472f352324c298b2318df233e9a7e0250/expr.ipynb\"><img src=\"../../../../../../numbers/number_sets/complex_numbers/__pv_it/common/6c9cc69d472f352324c298b2318df233e9a7e0250/expr.png\" style=\"display:inline;vertical-align:middle;\" /></a></td></tr>\n",
       "<tr><td>28</td><td>Operation</td><td>operator:&nbsp;30<br>operand:&nbsp;34<br></td><td><a class=\"ProveItLink\" href=\"../../common/93b4b357c7ea9925c01c6e53d70b20d73fd980210/expr.ipynb\"><img src=\"../../common/93b4b357c7ea9925c01c6e53d70b20d73fd980210/expr.png\" style=\"display:inline;vertical-align:middle;\" /></a></td></tr>\n",
       "<tr><td>29</td><td>Operation</td><td>operator:&nbsp;32<br>operands:&nbsp;33<br></td><td><a class=\"ProveItLink\" href=\"../../common/18332e4e627d64eadf0d81efed19ae3e9d007d510/expr.ipynb\"><img src=\"../../common/18332e4e627d64eadf0d81efed19ae3e9d007d510/expr.png\" style=\"display:inline;vertical-align:middle;\" /></a></td></tr>\n",
       "<tr><td>30</td><td>Literal</td><td></td><td><a class=\"ProveItLink\" href=\"../../common/d6b97444617188a78c398568a10ac4dbe1ffa6590/expr.ipynb\"><img src=\"../../common/d6b97444617188a78c398568a10ac4dbe1ffa6590/expr.png\" style=\"display:inline;vertical-align:middle;\" /></a></td></tr>\n",
       "<tr><td>31</td><td>ExprTuple</td><td>34</td><td><a class=\"ProveItLink\" href=\"../../common/986d22a1f3e6539fc38b57b344c7cef4a465933c0/expr.ipynb\"><img src=\"../../common/986d22a1f3e6539fc38b57b344c7cef4a465933c0/expr.png\" style=\"display:inline;vertical-align:middle;\" /></a></td></tr>\n",
       "<tr><td>32</td><td>Literal</td><td></td><td><a class=\"ProveItLink\" href=\"../../../../../../numbers/exponentiation/__pv_it/common/0ac37aca1e54c35c5cda09672df32d4f69f1f3020/expr.ipynb\"><img src=\"../../../../../../numbers/exponentiation/__pv_it/common/0ac37aca1e54c35c5cda09672df32d4f69f1f3020/expr.png\" style=\"display:inline;vertical-align:middle;\" /></a></td></tr>\n",
       "<tr><td>33</td><td>ExprTuple</td><td>35, 36</td><td><a class=\"ProveItLink\" href=\"../../common/e32fd834a589b0231aa39da242e9381ec87261b00/expr.ipynb\"><img src=\"../../common/e32fd834a589b0231aa39da242e9381ec87261b00/expr.png\" style=\"display:inline;vertical-align:middle;\" /></a></td></tr>\n",
       "<tr><td>34</td><td>Literal</td><td></td><td><a class=\"ProveItLink\" href=\"../../common/86e7e654c47d905411cdcd594557bc54ff0937170/expr.ipynb\"><img src=\"../../common/86e7e654c47d905411cdcd594557bc54ff0937170/expr.png\" style=\"display:inline;vertical-align:middle;\" /></a></td></tr>\n",
       "<tr><td>35</td><td>Literal</td><td></td><td><a class=\"ProveItLink\" href=\"../../../../../../numbers/numerals/__pv_it/common/af4aab8a07465db063742696e006d04670f30cf10/expr.ipynb\"><img src=\"../../../../../../numbers/numerals/__pv_it/common/af4aab8a07465db063742696e006d04670f30cf10/expr.png\" style=\"display:inline;vertical-align:middle;\" /></a></td></tr>\n",
       "<tr><td>36</td><td>Literal</td><td></td><td><a class=\"ProveItLink\" href=\"../../common/977cc67717328e22c93f8ab84e6a45e8cadce7790/expr.ipynb\"><img src=\"../../common/977cc67717328e22c93f8ab84e6a45e8cadce7790/expr.png\" style=\"display:inline;vertical-align:middle;\" /></a></td></tr>\n",
       "</table>\n"
      ],
      "text/plain": [
       "0. (|1 - e^{2 * pi * i * delta_{b_{r}} * 2^{t}}|, 2 * sin(2^{t} * pi * |delta_{b_{r}}|))\n",
       "   core type: ExprTuple\n",
       "   sub-expressions: 1, 2\n",
       "1. |1 - e^{2 * pi * i * delta_{b_{r}} * 2^{t}}|\n",
       "   core type: Operation\n",
       "   operator: 20\n",
       "   operand: 5\n",
       "2. 2 * sin(2^{t} * pi * |delta_{b_{r}}|)\n",
       "   core type: Operation\n",
       "   operator: 24\n",
       "   operands: 4\n",
       "3. (1 - e^{2 * pi * i * delta_{b_{r}} * 2^{t}})\n",
       "   core type: ExprTuple\n",
       "   sub-expressions: 5\n",
       "4. (2, sin(2^{t} * pi * |delta_{b_{r}}|))\n",
       "   core type: ExprTuple\n",
       "   sub-expressions: 35, 6\n",
       "5. 1 - e^{2 * pi * i * delta_{b_{r}} * 2^{t}}\n",
       "   core type: Operation\n",
       "   operator: 7\n",
       "   operands: 8\n",
       "6. sin(2^{t} * pi * |delta_{b_{r}}|)\n",
       "   core type: Operation\n",
       "   operator: 9\n",
       "   operand: 13\n",
       "7. +\n",
       "   core type: Literal\n",
       "   sub-expressions: \n",
       "8. (1, -e^{2 * pi * i * delta_{b_{r}} * 2^{t}})\n",
       "   core type: ExprTuple\n",
       "   sub-expressions: 11, 12\n",
       "9. sin\n",
       "   core type: Literal\n",
       "   sub-expressions: \n",
       "10. (2^{t} * pi * |delta_{b_{r}}|)\n",
       "    core type: ExprTuple\n",
       "    sub-expressions: 13\n",
       "11. 1\n",
       "    core type: Literal\n",
       "    sub-expressions: \n",
       "12. -e^{2 * pi * i * delta_{b_{r}} * 2^{t}}\n",
       "    core type: Operation\n",
       "    operator: 14\n",
       "    operand: 17\n",
       "13. 2^{t} * pi * |delta_{b_{r}}|\n",
       "    core type: Operation\n",
       "    operator: 24\n",
       "    operands: 16\n",
       "14. -\n",
       "    core type: Literal\n",
       "    sub-expressions: \n",
       "15. (e^{2 * pi * i * delta_{b_{r}} * 2^{t}})\n",
       "    core type: ExprTuple\n",
       "    sub-expressions: 17\n",
       "16. (2^{t}, pi, |delta_{b_{r}}|)\n",
       "    core type: ExprTuple\n",
       "    sub-expressions: 29, 26, 18\n",
       "17. e^{2 * pi * i * delta_{b_{r}} * 2^{t}}\n",
       "    core type: Operation\n",
       "    operator: 32\n",
       "    operands: 19\n",
       "18. |delta_{b_{r}}|\n",
       "    core type: Operation\n",
       "    operator: 20\n",
       "    operand: 28\n",
       "19. (e, 2 * pi * i * delta_{b_{r}} * 2^{t})\n",
       "    core type: ExprTuple\n",
       "    sub-expressions: 22, 23\n",
       "20. Abs\n",
       "    core type: Literal\n",
       "    sub-expressions: \n",
       "21. (delta_{b_{r}})\n",
       "    core type: ExprTuple\n",
       "    sub-expressions: 28\n",
       "22. e\n",
       "    core type: Literal\n",
       "    sub-expressions: \n",
       "23. 2 * pi * i * delta_{b_{r}} * 2^{t}\n",
       "    core type: Operation\n",
       "    operator: 24\n",
       "    operands: 25\n",
       "24. *\n",
       "    core type: Literal\n",
       "    sub-expressions: \n",
       "25. (2, pi, i, delta_{b_{r}}, 2^{t})\n",
       "    core type: ExprTuple\n",
       "    sub-expressions: 35, 26, 27, 28, 29\n",
       "26. pi\n",
       "    core type: Literal\n",
       "    sub-expressions: \n",
       "27. i\n",
       "    core type: Literal\n",
       "    sub-expressions: \n",
       "28. delta_{b_{r}}\n",
       "    core type: Operation\n",
       "    operator: 30\n",
       "    operand: 34\n",
       "29. 2^{t}\n",
       "    core type: Operation\n",
       "    operator: 32\n",
       "    operands: 33\n",
       "30. delta\n",
       "    core type: Literal\n",
       "    sub-expressions: \n",
       "31. (b_{r})\n",
       "    core type: ExprTuple\n",
       "    sub-expressions: 34\n",
       "32. Exp\n",
       "    core type: Literal\n",
       "    sub-expressions: \n",
       "33. (2, t)\n",
       "    core type: ExprTuple\n",
       "    sub-expressions: 35, 36\n",
       "34. b_{r}\n",
       "    core type: Literal\n",
       "    sub-expressions: \n",
       "35. 2\n",
       "    core type: Literal\n",
       "    sub-expressions: \n",
       "36. t\n",
       "    core type: Literal\n",
       "    sub-expressions: "
      ]
     },
     "metadata": {},
     "output_type": "display_data"
    }
   ],
   "source": [
    "# display the expression information\n",
    "stored_expr.expr_info()"
   ]
  },
  {
   "cell_type": "code",
   "execution_count": null,
   "metadata": {},
   "outputs": [],
   "source": []
  }
 ],
 "metadata": {
  "kernelspec": {
   "display_name": "Python 3",
   "language": "python",
   "name": "python3"
  }
 },
 "nbformat": 4,
 "nbformat_minor": 0
}