{
 "cells": [
  {
   "cell_type": "markdown",
   "metadata": {},
   "source": [
    "Expression of type <a class=\"ProveItLink\" href=\"../../../../../../../../doc/html/api/proveit.numbers.Less.html\">Less</a>\n",
    "=======================\n",
    "# from the theory of <a class=\"ProveItLink\" href=\"../../../_theory_nbs_/theory.ipynb\">proveit.physics.quantum.QPE</a>"
   ]
  },
  {
   "cell_type": "code",
   "execution_count": 1,
   "metadata": {},
   "outputs": [],
   "source": [
    "import proveit\n",
    "# Automation is not needed when building an expression:\n",
    "proveit.defaults.automation = False # This will speed things up.\n",
    "proveit.defaults.inline_pngs = False # Makes files smaller.\n",
    "%load_expr # Load the stored expression as 'stored_expr'\n",
    "# import Expression classes needed to build the expression\n",
    "from proveit.numbers import Abs, Mult, frac, greater, one, pi, two\n",
    "from proveit.physics.quantum.QPE import _delta_b_round, _two_pow_t\n",
    "from proveit.trigonometry import Sin"
   ]
  },
  {
   "cell_type": "code",
   "execution_count": 2,
   "metadata": {},
   "outputs": [
    {
     "data": {
      "text/html": [
       "<strong id=\"expr\">expr:</strong> <a class=\"ProveItLink\" href=\"expr.ipynb\"><img src=\"expr.png\" style=\"display:inline;vertical-align:middle;\" /></a><br>"
      ],
      "text/plain": [
       "<IPython.core.display.HTML object>"
      ]
     },
     "metadata": {},
     "output_type": "display_data"
    }
   ],
   "source": [
    "# build up the expression from sub-expressions\n",
    "sub_expr1 = Abs(_delta_b_round)\n",
    "expr = greater(Mult(frac(one, _two_pow_t), frac(Sin(Mult(_two_pow_t, pi, sub_expr1)), Sin(Mult(pi, sub_expr1)))), frac(two, pi))"
   ]
  },
  {
   "cell_type": "code",
   "execution_count": 3,
   "metadata": {},
   "outputs": [
    {
     "name": "stdout",
     "output_type": "stream",
     "text": [
      "Passed sanity check: expr matches stored_expr\n"
     ]
    }
   ],
   "source": [
    "# check that the built expression is the same as the stored expression\n",
    "assert expr == stored_expr\n",
    "assert expr._style_id == stored_expr._style_id\n",
    "print(\"Passed sanity check: expr matches stored_expr\")"
   ]
  },
  {
   "cell_type": "code",
   "execution_count": 4,
   "metadata": {},
   "outputs": [
    {
     "name": "stdout",
     "output_type": "stream",
     "text": [
      "\\left(\\frac{1}{2^{t}} \\cdot \\frac{\\sin{\\left(2^{t} \\cdot \\pi \\cdot \\left|\\delta_{b_{\\textit{r}}}\\right|\\right)}}{\\sin{\\left(\\pi \\cdot \\left|\\delta_{b_{\\textit{r}}}\\right|\\right)}}\\right) > \\frac{2}{\\pi}\n"
     ]
    }
   ],
   "source": [
    "# Show the LaTeX representation of the expression for convenience if you need it.\n",
    "print(stored_expr.latex())"
   ]
  },
  {
   "cell_type": "code",
   "execution_count": 5,
   "metadata": {},
   "outputs": [
    {
     "data": {
      "text/html": [
       "<table>\n",
       "<tr><th>name</th><th>description</th><th>default</th><th>current value</th><th>related methods</th></tr><tr><td>operation</td><td>'infix' or 'function' style formatting</td><td>infix</td><td>infix</td><td></td></tr>\n",
       "<tr><td>wrap_positions</td><td>position(s) at which wrapping is to occur; '2 n - 1' is after the nth operand, '2 n' is after the nth operation.</td><td>()</td><td>()</td><td>('with_wrapping_at', 'with_wrap_before_operator', 'with_wrap_after_operator', 'without_wrapping', 'wrap_positions')</td></tr>\n",
       "<tr><td>justification</td><td>if any wrap positions are set, justify to the 'left', 'center', or 'right'</td><td>center</td><td>center</td><td>('with_justification',)</td></tr>\n",
       "<tr><td>direction</td><td>Direction of the relation (normal or reversed)</td><td>normal</td><td>reversed</td><td>('with_direction_reversed', 'is_reversed')</td></tr>\n",
       "</table>\n"
      ],
      "text/plain": [
       "style name: operation\n",
       "description: 'infix' or 'function' style formatting\n",
       "default: infix\n",
       "current value: infix\n",
       "related methods: ()\n",
       "style name: wrap_positions\n",
       "description: position(s) at which wrapping is to occur; '2 n - 1' is after the nth operand, '2 n' is after the nth operation.\n",
       "default: ()\n",
       "current value: ()\n",
       "related methods: ('with_wrapping_at', 'with_wrap_before_operator', 'with_wrap_after_operator', 'without_wrapping', 'wrap_positions')\n",
       "style name: justification\n",
       "description: if any wrap positions are set, justify to the 'left', 'center', or 'right'\n",
       "default: center\n",
       "current value: center\n",
       "related methods: ('with_justification',)\n",
       "style name: direction\n",
       "description: Direction of the relation (normal or reversed)\n",
       "default: normal\n",
       "current value: reversed\n",
       "related methods: ('with_direction_reversed', 'is_reversed')"
      ]
     },
     "metadata": {},
     "output_type": "display_data"
    }
   ],
   "source": [
    "stored_expr.style_options()"
   ]
  },
  {
   "cell_type": "code",
   "execution_count": 6,
   "metadata": {},
   "outputs": [
    {
     "data": {
      "text/html": [
       "<table><tr><th>&nbsp;</th><th>core type</th><th>sub-expressions</th><th>expression</th></tr>\n",
       "<tr><td>0</td><td>Operation</td><td>operator:&nbsp;1<br>operands:&nbsp;2<br></td><td><a class=\"ProveItLink\" href=\"expr.ipynb\"><img src=\"expr.png\" style=\"display:inline;vertical-align:middle;\" /></a></td></tr>\n",
       "<tr><td>1</td><td>Literal</td><td></td><td><a class=\"ProveItLink\" href=\"../../../../../../numbers/ordering/__pv_it/common/fa503ed52033522c609eef1cf3e1b45796489da50/expr.ipynb\"><img src=\"../../../../../../numbers/ordering/__pv_it/common/fa503ed52033522c609eef1cf3e1b45796489da50/expr.png\" style=\"display:inline;vertical-align:middle;\" /></a></td></tr>\n",
       "<tr><td>2</td><td>ExprTuple</td><td>3, 4</td><td><a class=\"ProveItLink\" href=\"../9d769eb1e946be45e9caadd018cefc484ade81fd0/expr.ipynb\"><img src=\"../9d769eb1e946be45e9caadd018cefc484ade81fd0/expr.png\" style=\"display:inline;vertical-align:middle;\" /></a></td></tr>\n",
       "<tr><td>3</td><td>Operation</td><td>operator:&nbsp;10<br>operands:&nbsp;5<br></td><td><a class=\"ProveItLink\" href=\"../24e190fd27c9b211021ceb473b1d1ea06a0573230/expr.ipynb\"><img src=\"../24e190fd27c9b211021ceb473b1d1ea06a0573230/expr.png\" style=\"display:inline;vertical-align:middle;\" /></a></td></tr>\n",
       "<tr><td>4</td><td>Operation</td><td>operator:&nbsp;21<br>operands:&nbsp;6<br></td><td><a class=\"ProveItLink\" href=\"../6641bfb0624529942b04c37f706504295918d1be0/expr.ipynb\"><img src=\"../6641bfb0624529942b04c37f706504295918d1be0/expr.png\" style=\"display:inline;vertical-align:middle;\" /></a></td></tr>\n",
       "<tr><td>5</td><td>ExprTuple</td><td>30, 24</td><td><a class=\"ProveItLink\" href=\"../../../../../../numbers/exponentiation/__pv_it/theorems/2bd950b706b861210fab98cc5c9796aa28e4bf040/expr.ipynb\"><img src=\"../../../../../../numbers/exponentiation/__pv_it/theorems/2bd950b706b861210fab98cc5c9796aa28e4bf040/expr.png\" style=\"display:inline;vertical-align:middle;\" /></a></td></tr>\n",
       "<tr><td>6</td><td>ExprTuple</td><td>7, 8</td><td><a class=\"ProveItLink\" href=\"../bf60c216ae308e1eabdb0695e150d6b61dbbb7a00/expr.ipynb\"><img src=\"../bf60c216ae308e1eabdb0695e150d6b61dbbb7a00/expr.png\" style=\"display:inline;vertical-align:middle;\" /></a></td></tr>\n",
       "<tr><td>7</td><td>Operation</td><td>operator:&nbsp;10<br>operands:&nbsp;9<br></td><td><a class=\"ProveItLink\" href=\"../../theorems/1ad6b12de0d9e9a930ff1231b52bb94d8eeec9a30/expr.ipynb\"><img src=\"../../theorems/1ad6b12de0d9e9a930ff1231b52bb94d8eeec9a30/expr.png\" style=\"display:inline;vertical-align:middle;\" /></a></td></tr>\n",
       "<tr><td>8</td><td>Operation</td><td>operator:&nbsp;10<br>operands:&nbsp;11<br></td><td><a class=\"ProveItLink\" href=\"../c1bff5dfac660ae8d7b07f0c6ff32ac8a28227cf0/expr.ipynb\"><img src=\"../c1bff5dfac660ae8d7b07f0c6ff32ac8a28227cf0/expr.png\" style=\"display:inline;vertical-align:middle;\" /></a></td></tr>\n",
       "<tr><td>9</td><td>ExprTuple</td><td>12, 23</td><td><a class=\"ProveItLink\" href=\"../../theorems/a440d55f6370244e877c8370240b6991ecfadd4e0/expr.ipynb\"><img src=\"../../theorems/a440d55f6370244e877c8370240b6991ecfadd4e0/expr.png\" style=\"display:inline;vertical-align:middle;\" /></a></td></tr>\n",
       "<tr><td>10</td><td>Literal</td><td></td><td><a class=\"ProveItLink\" href=\"../../../../../../numbers/division/__pv_it/common/a2a633e1e3c749fb1f2692466b287b6348c5de840/expr.ipynb\"><img src=\"../../../../../../numbers/division/__pv_it/common/a2a633e1e3c749fb1f2692466b287b6348c5de840/expr.png\" style=\"display:inline;vertical-align:middle;\" /></a></td></tr>\n",
       "<tr><td>11</td><td>ExprTuple</td><td>13, 14</td><td><a class=\"ProveItLink\" href=\"../ce6f0a3efbd27da66635f1d8d283f533ef1b9d710/expr.ipynb\"><img src=\"../ce6f0a3efbd27da66635f1d8d283f533ef1b9d710/expr.png\" style=\"display:inline;vertical-align:middle;\" /></a></td></tr>\n",
       "<tr><td>12</td><td>Literal</td><td></td><td><a class=\"ProveItLink\" href=\"../../../../../../numbers/numerals/__pv_it/common/682157d4892d216d9e5626ed533aff9b56b9506e0/expr.ipynb\"><img src=\"../../../../../../numbers/numerals/__pv_it/common/682157d4892d216d9e5626ed533aff9b56b9506e0/expr.png\" style=\"display:inline;vertical-align:middle;\" /></a></td></tr>\n",
       "<tr><td>13</td><td>Operation</td><td>operator:&nbsp;16<br>operand:&nbsp;18<br></td><td><a class=\"ProveItLink\" href=\"../7925392dfc443659bbd91ba2405007f2993fcce80/expr.ipynb\"><img src=\"../7925392dfc443659bbd91ba2405007f2993fcce80/expr.png\" style=\"display:inline;vertical-align:middle;\" /></a></td></tr>\n",
       "<tr><td>14</td><td>Operation</td><td>operator:&nbsp;16<br>operand:&nbsp;19<br></td><td><a class=\"ProveItLink\" href=\"../2f2d696fabd4e811607151fbda3c59d93e45ced20/expr.ipynb\"><img src=\"../2f2d696fabd4e811607151fbda3c59d93e45ced20/expr.png\" style=\"display:inline;vertical-align:middle;\" /></a></td></tr>\n",
       "<tr><td>15</td><td>ExprTuple</td><td>18</td><td><a class=\"ProveItLink\" href=\"../5047cce9aa3a616bbbb89da2439ac74075b711170/expr.ipynb\"><img src=\"../5047cce9aa3a616bbbb89da2439ac74075b711170/expr.png\" style=\"display:inline;vertical-align:middle;\" /></a></td></tr>\n",
       "<tr><td>16</td><td>Literal</td><td></td><td><a class=\"ProveItLink\" href=\"../../../../../../trigonometry/__pv_it/common/74595f13699450f0507665bef91ec92c40b682690/expr.ipynb\"><img src=\"../../../../../../trigonometry/__pv_it/common/74595f13699450f0507665bef91ec92c40b682690/expr.png\" style=\"display:inline;vertical-align:middle;\" /></a></td></tr>\n",
       "<tr><td>17</td><td>ExprTuple</td><td>19</td><td><a class=\"ProveItLink\" href=\"../d9fa407c78e7838070290f07a8dae3c5815d8fe00/expr.ipynb\"><img src=\"../d9fa407c78e7838070290f07a8dae3c5815d8fe00/expr.png\" style=\"display:inline;vertical-align:middle;\" /></a></td></tr>\n",
       "<tr><td>18</td><td>Operation</td><td>operator:&nbsp;21<br>operands:&nbsp;20<br></td><td><a class=\"ProveItLink\" href=\"../8b2b08bcddfb7a3d168a6d57e8c1529c1e6de39b0/expr.ipynb\"><img src=\"../8b2b08bcddfb7a3d168a6d57e8c1529c1e6de39b0/expr.png\" style=\"display:inline;vertical-align:middle;\" /></a></td></tr>\n",
       "<tr><td>19</td><td>Operation</td><td>operator:&nbsp;21<br>operands:&nbsp;22<br></td><td><a class=\"ProveItLink\" href=\"../c866f3cb7eed252f48431e7c0f2dc7629d38a5e50/expr.ipynb\"><img src=\"../c866f3cb7eed252f48431e7c0f2dc7629d38a5e50/expr.png\" style=\"display:inline;vertical-align:middle;\" /></a></td></tr>\n",
       "<tr><td>20</td><td>ExprTuple</td><td>23, 24, 25</td><td><a class=\"ProveItLink\" href=\"../547960948e15ead63f1634268e847d01cffc65f60/expr.ipynb\"><img src=\"../547960948e15ead63f1634268e847d01cffc65f60/expr.png\" style=\"display:inline;vertical-align:middle;\" /></a></td></tr>\n",
       "<tr><td>21</td><td>Literal</td><td></td><td><a class=\"ProveItLink\" href=\"../../../../../../numbers/multiplication/__pv_it/common/ed719cef37831779c16481533a4d380a2f95ab270/expr.ipynb\"><img src=\"../../../../../../numbers/multiplication/__pv_it/common/ed719cef37831779c16481533a4d380a2f95ab270/expr.png\" style=\"display:inline;vertical-align:middle;\" /></a></td></tr>\n",
       "<tr><td>22</td><td>ExprTuple</td><td>24, 25</td><td><a class=\"ProveItLink\" href=\"../468bdd87603b405d1b2260abec65b20cb3da448e0/expr.ipynb\"><img src=\"../468bdd87603b405d1b2260abec65b20cb3da448e0/expr.png\" style=\"display:inline;vertical-align:middle;\" /></a></td></tr>\n",
       "<tr><td>23</td><td>Operation</td><td>operator:&nbsp;26<br>operands:&nbsp;27<br></td><td><a class=\"ProveItLink\" href=\"../../common/18332e4e627d64eadf0d81efed19ae3e9d007d510/expr.ipynb\"><img src=\"../../common/18332e4e627d64eadf0d81efed19ae3e9d007d510/expr.png\" style=\"display:inline;vertical-align:middle;\" /></a></td></tr>\n",
       "<tr><td>24</td><td>Literal</td><td></td><td><a class=\"ProveItLink\" href=\"../../../../../../numbers/number_sets/real_numbers/__pv_it/common/246c206266ac5b48800e508d580f91767b24c2df0/expr.ipynb\"><img src=\"../../../../../../numbers/number_sets/real_numbers/__pv_it/common/246c206266ac5b48800e508d580f91767b24c2df0/expr.png\" style=\"display:inline;vertical-align:middle;\" /></a></td></tr>\n",
       "<tr><td>25</td><td>Operation</td><td>operator:&nbsp;28<br>operand:&nbsp;32<br></td><td><a class=\"ProveItLink\" href=\"../3fd8f4d6a654cc059b1c7affb2819c7b84cb1a840/expr.ipynb\"><img src=\"../3fd8f4d6a654cc059b1c7affb2819c7b84cb1a840/expr.png\" style=\"display:inline;vertical-align:middle;\" /></a></td></tr>\n",
       "<tr><td>26</td><td>Literal</td><td></td><td><a class=\"ProveItLink\" href=\"../../../../../../numbers/exponentiation/__pv_it/common/0ac37aca1e54c35c5cda09672df32d4f69f1f3020/expr.ipynb\"><img src=\"../../../../../../numbers/exponentiation/__pv_it/common/0ac37aca1e54c35c5cda09672df32d4f69f1f3020/expr.png\" style=\"display:inline;vertical-align:middle;\" /></a></td></tr>\n",
       "<tr><td>27</td><td>ExprTuple</td><td>30, 31</td><td><a class=\"ProveItLink\" href=\"../../common/e32fd834a589b0231aa39da242e9381ec87261b00/expr.ipynb\"><img src=\"../../common/e32fd834a589b0231aa39da242e9381ec87261b00/expr.png\" style=\"display:inline;vertical-align:middle;\" /></a></td></tr>\n",
       "<tr><td>28</td><td>Literal</td><td></td><td><a class=\"ProveItLink\" href=\"../../../../../../numbers/absolute_value/__pv_it/common/eea56c667bc0aad2dc76ed04b44c2bd98b94005f0/expr.ipynb\"><img src=\"../../../../../../numbers/absolute_value/__pv_it/common/eea56c667bc0aad2dc76ed04b44c2bd98b94005f0/expr.png\" style=\"display:inline;vertical-align:middle;\" /></a></td></tr>\n",
       "<tr><td>29</td><td>ExprTuple</td><td>32</td><td><a class=\"ProveItLink\" href=\"../409aed67bf6166d84ec6a1cf45667289138d01040/expr.ipynb\"><img src=\"../409aed67bf6166d84ec6a1cf45667289138d01040/expr.png\" style=\"display:inline;vertical-align:middle;\" /></a></td></tr>\n",
       "<tr><td>30</td><td>Literal</td><td></td><td><a class=\"ProveItLink\" href=\"../../../../../../numbers/numerals/__pv_it/common/af4aab8a07465db063742696e006d04670f30cf10/expr.ipynb\"><img src=\"../../../../../../numbers/numerals/__pv_it/common/af4aab8a07465db063742696e006d04670f30cf10/expr.png\" style=\"display:inline;vertical-align:middle;\" /></a></td></tr>\n",
       "<tr><td>31</td><td>Literal</td><td></td><td><a class=\"ProveItLink\" href=\"../../common/977cc67717328e22c93f8ab84e6a45e8cadce7790/expr.ipynb\"><img src=\"../../common/977cc67717328e22c93f8ab84e6a45e8cadce7790/expr.png\" style=\"display:inline;vertical-align:middle;\" /></a></td></tr>\n",
       "<tr><td>32</td><td>Operation</td><td>operator:&nbsp;33<br>operand:&nbsp;35<br></td><td><a class=\"ProveItLink\" href=\"../../common/93b4b357c7ea9925c01c6e53d70b20d73fd980210/expr.ipynb\"><img src=\"../../common/93b4b357c7ea9925c01c6e53d70b20d73fd980210/expr.png\" style=\"display:inline;vertical-align:middle;\" /></a></td></tr>\n",
       "<tr><td>33</td><td>Literal</td><td></td><td><a class=\"ProveItLink\" href=\"../../common/d6b97444617188a78c398568a10ac4dbe1ffa6590/expr.ipynb\"><img src=\"../../common/d6b97444617188a78c398568a10ac4dbe1ffa6590/expr.png\" style=\"display:inline;vertical-align:middle;\" /></a></td></tr>\n",
       "<tr><td>34</td><td>ExprTuple</td><td>35</td><td><a class=\"ProveItLink\" href=\"../../common/986d22a1f3e6539fc38b57b344c7cef4a465933c0/expr.ipynb\"><img src=\"../../common/986d22a1f3e6539fc38b57b344c7cef4a465933c0/expr.png\" style=\"display:inline;vertical-align:middle;\" /></a></td></tr>\n",
       "<tr><td>35</td><td>Literal</td><td></td><td><a class=\"ProveItLink\" href=\"../../common/86e7e654c47d905411cdcd594557bc54ff0937170/expr.ipynb\"><img src=\"../../common/86e7e654c47d905411cdcd594557bc54ff0937170/expr.png\" style=\"display:inline;vertical-align:middle;\" /></a></td></tr>\n",
       "</table>\n"
      ],
      "text/plain": [
       "0. ((1 / 2^{t}) * (sin(2^{t} * pi * |delta_{b_{r}}|) / sin(pi * |delta_{b_{r}}|))) > (2 / pi)\n",
       "   core type: Operation\n",
       "   operator: 1\n",
       "   operands: 2\n",
       "1. <\n",
       "   core type: Literal\n",
       "   sub-expressions: \n",
       "2. (2 / pi, (1 / 2^{t}) * (sin(2^{t} * pi * |delta_{b_{r}}|) / sin(pi * |delta_{b_{r}}|)))\n",
       "   core type: ExprTuple\n",
       "   sub-expressions: 3, 4\n",
       "3. 2 / pi\n",
       "   core type: Operation\n",
       "   operator: 10\n",
       "   operands: 5\n",
       "4. (1 / 2^{t}) * (sin(2^{t} * pi * |delta_{b_{r}}|) / sin(pi * |delta_{b_{r}}|))\n",
       "   core type: Operation\n",
       "   operator: 21\n",
       "   operands: 6\n",
       "5. (2, pi)\n",
       "   core type: ExprTuple\n",
       "   sub-expressions: 30, 24\n",
       "6. (1 / 2^{t}, sin(2^{t} * pi * |delta_{b_{r}}|) / sin(pi * |delta_{b_{r}}|))\n",
       "   core type: ExprTuple\n",
       "   sub-expressions: 7, 8\n",
       "7. 1 / 2^{t}\n",
       "   core type: Operation\n",
       "   operator: 10\n",
       "   operands: 9\n",
       "8. sin(2^{t} * pi * |delta_{b_{r}}|) / sin(pi * |delta_{b_{r}}|)\n",
       "   core type: Operation\n",
       "   operator: 10\n",
       "   operands: 11\n",
       "9. (1, 2^{t})\n",
       "   core type: ExprTuple\n",
       "   sub-expressions: 12, 23\n",
       "10. /\n",
       "    core type: Literal\n",
       "    sub-expressions: \n",
       "11. (sin(2^{t} * pi * |delta_{b_{r}}|), sin(pi * |delta_{b_{r}}|))\n",
       "    core type: ExprTuple\n",
       "    sub-expressions: 13, 14\n",
       "12. 1\n",
       "    core type: Literal\n",
       "    sub-expressions: \n",
       "13. sin(2^{t} * pi * |delta_{b_{r}}|)\n",
       "    core type: Operation\n",
       "    operator: 16\n",
       "    operand: 18\n",
       "14. sin(pi * |delta_{b_{r}}|)\n",
       "    core type: Operation\n",
       "    operator: 16\n",
       "    operand: 19\n",
       "15. (2^{t} * pi * |delta_{b_{r}}|)\n",
       "    core type: ExprTuple\n",
       "    sub-expressions: 18\n",
       "16. sin\n",
       "    core type: Literal\n",
       "    sub-expressions: \n",
       "17. (pi * |delta_{b_{r}}|)\n",
       "    core type: ExprTuple\n",
       "    sub-expressions: 19\n",
       "18. 2^{t} * pi * |delta_{b_{r}}|\n",
       "    core type: Operation\n",
       "    operator: 21\n",
       "    operands: 20\n",
       "19. pi * |delta_{b_{r}}|\n",
       "    core type: Operation\n",
       "    operator: 21\n",
       "    operands: 22\n",
       "20. (2^{t}, pi, |delta_{b_{r}}|)\n",
       "    core type: ExprTuple\n",
       "    sub-expressions: 23, 24, 25\n",
       "21. *\n",
       "    core type: Literal\n",
       "    sub-expressions: \n",
       "22. (pi, |delta_{b_{r}}|)\n",
       "    core type: ExprTuple\n",
       "    sub-expressions: 24, 25\n",
       "23. 2^{t}\n",
       "    core type: Operation\n",
       "    operator: 26\n",
       "    operands: 27\n",
       "24. pi\n",
       "    core type: Literal\n",
       "    sub-expressions: \n",
       "25. |delta_{b_{r}}|\n",
       "    core type: Operation\n",
       "    operator: 28\n",
       "    operand: 32\n",
       "26. Exp\n",
       "    core type: Literal\n",
       "    sub-expressions: \n",
       "27. (2, t)\n",
       "    core type: ExprTuple\n",
       "    sub-expressions: 30, 31\n",
       "28. Abs\n",
       "    core type: Literal\n",
       "    sub-expressions: \n",
       "29. (delta_{b_{r}})\n",
       "    core type: ExprTuple\n",
       "    sub-expressions: 32\n",
       "30. 2\n",
       "    core type: Literal\n",
       "    sub-expressions: \n",
       "31. t\n",
       "    core type: Literal\n",
       "    sub-expressions: \n",
       "32. delta_{b_{r}}\n",
       "    core type: Operation\n",
       "    operator: 33\n",
       "    operand: 35\n",
       "33. delta\n",
       "    core type: Literal\n",
       "    sub-expressions: \n",
       "34. (b_{r})\n",
       "    core type: ExprTuple\n",
       "    sub-expressions: 35\n",
       "35. b_{r}\n",
       "    core type: Literal\n",
       "    sub-expressions: "
      ]
     },
     "metadata": {},
     "output_type": "display_data"
    }
   ],
   "source": [
    "# display the expression information\n",
    "stored_expr.expr_info()"
   ]
  },
  {
   "cell_type": "code",
   "execution_count": null,
   "metadata": {},
   "outputs": [],
   "source": []
  }
 ],
 "metadata": {
  "kernelspec": {
   "display_name": "Python 3",
   "language": "python",
   "name": "python3"
  }
 },
 "nbformat": 4,
 "nbformat_minor": 0
}