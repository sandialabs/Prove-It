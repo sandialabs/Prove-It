{
 "cells": [
  {
   "cell_type": "markdown",
   "metadata": {},
   "source": [
    "Expression of type <a class=\"ProveItLink\" href=\"../../../../../../../../doc/html/api/proveit.ExprTuple.html\">ExprTuple</a>\n",
    "=======================\n",
    "# from the theory of <a class=\"ProveItLink\" href=\"../../../_theory_nbs_/theory.ipynb\">proveit.physics.quantum.QPE</a>"
   ]
  },
  {
   "cell_type": "code",
   "execution_count": 1,
   "metadata": {},
   "outputs": [],
   "source": [
    "import proveit\n",
    "# Automation is not needed when building an expression:\n",
    "proveit.defaults.automation = False # This will speed things up.\n",
    "proveit.defaults.inline_pngs = False # Makes files smaller.\n",
    "%load_expr # Load the stored expression as 'stored_expr'\n",
    "# import Expression classes needed to build the expression\n",
    "from proveit import ExprTuple, k\n",
    "from proveit.numbers import Exp, Mult, Sum, e, frac, i, one, pi, subtract, two\n",
    "from proveit.physics.quantum.QPE import _delta_b_round, _m_domain, _two_pow_t"
   ]
  },
  {
   "cell_type": "code",
   "execution_count": 2,
   "metadata": {},
   "outputs": [
    {
     "data": {
      "text/html": [
       "<strong id=\"expr\">expr:</strong> <a class=\"ProveItLink\" href=\"expr.ipynb\"><img src=\"expr.png\" style=\"display:inline;vertical-align:middle;\" /></a><br>"
      ],
      "text/plain": [
       "<IPython.core.display.HTML object>"
      ]
     },
     "metadata": {},
     "output_type": "display_data"
    }
   ],
   "source": [
    "# build up the expression from sub-expressions\n",
    "sub_expr1 = Exp(e, Mult(two, pi, i, _delta_b_round))\n",
    "expr = ExprTuple(Sum(index_or_indices = [k], summand = Exp(sub_expr1, k), domain = _m_domain), frac(subtract(one, Exp(e, Mult(two, pi, i, _delta_b_round, _two_pow_t))), subtract(one, sub_expr1)))"
   ]
  },
  {
   "cell_type": "code",
   "execution_count": 3,
   "metadata": {},
   "outputs": [
    {
     "name": "stdout",
     "output_type": "stream",
     "text": [
      "Passed sanity check: expr matches stored_expr\n"
     ]
    }
   ],
   "source": [
    "# check that the built expression is the same as the stored expression\n",
    "assert expr == stored_expr\n",
    "assert expr._style_id == stored_expr._style_id\n",
    "print(\"Passed sanity check: expr matches stored_expr\")"
   ]
  },
  {
   "cell_type": "code",
   "execution_count": 4,
   "metadata": {},
   "outputs": [
    {
     "name": "stdout",
     "output_type": "stream",
     "text": [
      "\\left(\\sum_{k = 0}^{2^{t} - 1} (\\mathsf{e}^{2 \\cdot \\pi \\cdot \\mathsf{i} \\cdot \\delta_{b_{\\textit{r}}}})^{k}, \\frac{1 - \\mathsf{e}^{2 \\cdot \\pi \\cdot \\mathsf{i} \\cdot \\delta_{b_{\\textit{r}}} \\cdot 2^{t}}}{1 - \\mathsf{e}^{2 \\cdot \\pi \\cdot \\mathsf{i} \\cdot \\delta_{b_{\\textit{r}}}}}\\right)\n"
     ]
    }
   ],
   "source": [
    "# Show the LaTeX representation of the expression for convenience if you need it.\n",
    "print(stored_expr.latex())"
   ]
  },
  {
   "cell_type": "code",
   "execution_count": 5,
   "metadata": {},
   "outputs": [
    {
     "data": {
      "text/html": [
       "<table>\n",
       "<tr><th>name</th><th>description</th><th>default</th><th>current value</th><th>related methods</th></tr><tr><td>wrap_positions</td><td>position(s) at which wrapping is to occur; 'n' is after the nth comma.</td><td>()</td><td>()</td><td>('with_wrapping_at',)</td></tr>\n",
       "<tr><td>justification</td><td>if any wrap positions are set, justify to the 'left', 'center', or 'right'</td><td>left</td><td>left</td><td>('with_justification',)</td></tr>\n",
       "</table>\n"
      ],
      "text/plain": [
       "style name: wrap_positions\n",
       "description: position(s) at which wrapping is to occur; 'n' is after the nth comma.\n",
       "default: ()\n",
       "current value: ()\n",
       "related methods: ('with_wrapping_at',)\n",
       "style name: justification\n",
       "description: if any wrap positions are set, justify to the 'left', 'center', or 'right'\n",
       "default: left\n",
       "current value: left\n",
       "related methods: ('with_justification',)"
      ]
     },
     "metadata": {},
     "output_type": "display_data"
    }
   ],
   "source": [
    "stored_expr.style_options()"
   ]
  },
  {
   "cell_type": "code",
   "execution_count": 6,
   "metadata": {},
   "outputs": [
    {
     "data": {
      "text/html": [
       "<table><tr><th>&nbsp;</th><th>core type</th><th>sub-expressions</th><th>expression</th></tr>\n",
       "<tr><td>0</td><td>ExprTuple</td><td>1, 2</td><td><a class=\"ProveItLink\" href=\"expr.ipynb\"><img src=\"expr.png\" style=\"display:inline;vertical-align:middle;\" /></a></td></tr>\n",
       "<tr><td>1</td><td>Operation</td><td>operator:&nbsp;3<br>operand:&nbsp;7<br></td><td><a class=\"ProveItLink\" href=\"../bcc50f1c1767235c4b0a9d8f6fa8aa8a0efa146a0/expr.ipynb\"><img src=\"../bcc50f1c1767235c4b0a9d8f6fa8aa8a0efa146a0/expr.png\" style=\"display:inline;vertical-align:middle;\" /></a></td></tr>\n",
       "<tr><td>2</td><td>Operation</td><td>operator:&nbsp;5<br>operands:&nbsp;6<br></td><td><a class=\"ProveItLink\" href=\"../c2b424be649f01399353fdd9f8e828c6bf15b09d0/expr.ipynb\"><img src=\"../c2b424be649f01399353fdd9f8e828c6bf15b09d0/expr.png\" style=\"display:inline;vertical-align:middle;\" /></a></td></tr>\n",
       "<tr><td>3</td><td>Literal</td><td></td><td><a class=\"ProveItLink\" href=\"../../../../../../numbers/summation/__pv_it/common/14fe61cccc388f91dfd83d3ca31cf27448cc070a0/expr.ipynb\"><img src=\"../../../../../../numbers/summation/__pv_it/common/14fe61cccc388f91dfd83d3ca31cf27448cc070a0/expr.png\" style=\"display:inline;vertical-align:middle;\" /></a></td></tr>\n",
       "<tr><td>4</td><td>ExprTuple</td><td>7</td><td><a class=\"ProveItLink\" href=\"../9ce2847c106b63d537fcf42bf7680e98dcbbe9210/expr.ipynb\"><img src=\"../9ce2847c106b63d537fcf42bf7680e98dcbbe9210/expr.png\" style=\"display:inline;vertical-align:middle;\" /></a></td></tr>\n",
       "<tr><td>5</td><td>Literal</td><td></td><td><a class=\"ProveItLink\" href=\"../../../../../../numbers/division/__pv_it/common/a2a633e1e3c749fb1f2692466b287b6348c5de840/expr.ipynb\"><img src=\"../../../../../../numbers/division/__pv_it/common/a2a633e1e3c749fb1f2692466b287b6348c5de840/expr.png\" style=\"display:inline;vertical-align:middle;\" /></a></td></tr>\n",
       "<tr><td>6</td><td>ExprTuple</td><td>8, 9</td><td><a class=\"ProveItLink\" href=\"../a0ac26ca586b9765be3b20d8187bc757056dc4ba0/expr.ipynb\"><img src=\"../a0ac26ca586b9765be3b20d8187bc757056dc4ba0/expr.png\" style=\"display:inline;vertical-align:middle;\" /></a></td></tr>\n",
       "<tr><td>7</td><td>Lambda</td><td>parameter:&nbsp;23<br>body:&nbsp;11<br></td><td><a class=\"ProveItLink\" href=\"../7f80f617293ceccfdc9b51b4055ca48f11c6c0a20/expr.ipynb\"><img src=\"../7f80f617293ceccfdc9b51b4055ca48f11c6c0a20/expr.png\" style=\"display:inline;vertical-align:middle;\" /></a></td></tr>\n",
       "<tr><td>8</td><td>Operation</td><td>operator:&nbsp;36<br>operands:&nbsp;12<br></td><td><a class=\"ProveItLink\" href=\"../5b7ff7d221f9e68ddbd1409c070324c16de573080/expr.ipynb\"><img src=\"../5b7ff7d221f9e68ddbd1409c070324c16de573080/expr.png\" style=\"display:inline;vertical-align:middle;\" /></a></td></tr>\n",
       "<tr><td>9</td><td>Operation</td><td>operator:&nbsp;36<br>operands:&nbsp;13<br></td><td><a class=\"ProveItLink\" href=\"../17acb8f58ce9048e9d2d6e57c99bd2f74926fcdc0/expr.ipynb\"><img src=\"../17acb8f58ce9048e9d2d6e57c99bd2f74926fcdc0/expr.png\" style=\"display:inline;vertical-align:middle;\" /></a></td></tr>\n",
       "<tr><td>10</td><td>ExprTuple</td><td>23</td><td><a class=\"ProveItLink\" href=\"../../../../../../__pv_it/common/688b115fcd711144fb0bdcf2138b0bd26487dd890/expr.ipynb\"><img src=\"../../../../../../__pv_it/common/688b115fcd711144fb0bdcf2138b0bd26487dd890/expr.png\" style=\"display:inline;vertical-align:middle;\" /></a></td></tr>\n",
       "<tr><td>11</td><td>Conditional</td><td>value:&nbsp;14<br>condition:&nbsp;15<br></td><td><a class=\"ProveItLink\" href=\"../647ad6b6d5f8a260991cc6b28120fc43204a92ab0/expr.ipynb\"><img src=\"../647ad6b6d5f8a260991cc6b28120fc43204a92ab0/expr.png\" style=\"display:inline;vertical-align:middle;\" /></a></td></tr>\n",
       "<tr><td>12</td><td>ExprTuple</td><td>52, 16</td><td><a class=\"ProveItLink\" href=\"../d92ac3e9dda0dce3dccef97150bbed0a3b7805b10/expr.ipynb\"><img src=\"../d92ac3e9dda0dce3dccef97150bbed0a3b7805b10/expr.png\" style=\"display:inline;vertical-align:middle;\" /></a></td></tr>\n",
       "<tr><td>13</td><td>ExprTuple</td><td>52, 17</td><td><a class=\"ProveItLink\" href=\"../fbe160db19b61009221f26386bb5c4e7c4eb77fc0/expr.ipynb\"><img src=\"../fbe160db19b61009221f26386bb5c4e7c4eb77fc0/expr.png\" style=\"display:inline;vertical-align:middle;\" /></a></td></tr>\n",
       "<tr><td>14</td><td>Operation</td><td>operator:&nbsp;48<br>operands:&nbsp;18<br></td><td><a class=\"ProveItLink\" href=\"../4b24214fbd1ddfa79e2eca54896f932b548d18200/expr.ipynb\"><img src=\"../4b24214fbd1ddfa79e2eca54896f932b548d18200/expr.png\" style=\"display:inline;vertical-align:middle;\" /></a></td></tr>\n",
       "<tr><td>15</td><td>Operation</td><td>operator:&nbsp;19<br>operands:&nbsp;20<br></td><td><a class=\"ProveItLink\" href=\"../../theorems/df30aba3a535ce7eb8609d1347296ba1cd1680060/expr.ipynb\"><img src=\"../../theorems/df30aba3a535ce7eb8609d1347296ba1cd1680060/expr.png\" style=\"display:inline;vertical-align:middle;\" /></a></td></tr>\n",
       "<tr><td>16</td><td>Operation</td><td>operator:&nbsp;46<br>operand:&nbsp;25<br></td><td><a class=\"ProveItLink\" href=\"../9b609341d66ccd4353c89655a5dac0bcaddcb8600/expr.ipynb\"><img src=\"../9b609341d66ccd4353c89655a5dac0bcaddcb8600/expr.png\" style=\"display:inline;vertical-align:middle;\" /></a></td></tr>\n",
       "<tr><td>17</td><td>Operation</td><td>operator:&nbsp;46<br>operand:&nbsp;26<br></td><td><a class=\"ProveItLink\" href=\"../52357425da919bf7a7cadac750a0cf7daef96c150/expr.ipynb\"><img src=\"../52357425da919bf7a7cadac750a0cf7daef96c150/expr.png\" style=\"display:inline;vertical-align:middle;\" /></a></td></tr>\n",
       "<tr><td>18</td><td>ExprTuple</td><td>26, 23</td><td><a class=\"ProveItLink\" href=\"../d2d0b1689be327b0e5a2149e7bad8de70bd6a0af0/expr.ipynb\"><img src=\"../d2d0b1689be327b0e5a2149e7bad8de70bd6a0af0/expr.png\" style=\"display:inline;vertical-align:middle;\" /></a></td></tr>\n",
       "<tr><td>19</td><td>Literal</td><td></td><td><a class=\"ProveItLink\" href=\"../../../../../../logic/sets/membership/__pv_it/common/477487d8796864d23d5810f83761435f25167f690/expr.ipynb\"><img src=\"../../../../../../logic/sets/membership/__pv_it/common/477487d8796864d23d5810f83761435f25167f690/expr.png\" style=\"display:inline;vertical-align:middle;\" /></a></td></tr>\n",
       "<tr><td>20</td><td>ExprTuple</td><td>23, 24</td><td><a class=\"ProveItLink\" href=\"../../theorems/674449efd4d0656228eb1b9c36ee4683054379d70/expr.ipynb\"><img src=\"../../theorems/674449efd4d0656228eb1b9c36ee4683054379d70/expr.png\" style=\"display:inline;vertical-align:middle;\" /></a></td></tr>\n",
       "<tr><td>21</td><td>ExprTuple</td><td>25</td><td><a class=\"ProveItLink\" href=\"../4f1dc0e6d9cd3627af72fc5bb237966966ce5a410/expr.ipynb\"><img src=\"../4f1dc0e6d9cd3627af72fc5bb237966966ce5a410/expr.png\" style=\"display:inline;vertical-align:middle;\" /></a></td></tr>\n",
       "<tr><td>22</td><td>ExprTuple</td><td>26</td><td><a class=\"ProveItLink\" href=\"../36b9d6b3b6e37cfca1d09e507296d0d51e47bca90/expr.ipynb\"><img src=\"../36b9d6b3b6e37cfca1d09e507296d0d51e47bca90/expr.png\" style=\"display:inline;vertical-align:middle;\" /></a></td></tr>\n",
       "<tr><td>23</td><td>Variable</td><td></td><td><a class=\"ProveItLink\" href=\"../../../../../../__pv_it/common/63b7c64bf9ec7a04ecc396c7a1670f3f12fb59490/expr.ipynb\"><img src=\"../../../../../../__pv_it/common/63b7c64bf9ec7a04ecc396c7a1670f3f12fb59490/expr.png\" style=\"display:inline;vertical-align:middle;\" /></a></td></tr>\n",
       "<tr><td>24</td><td>Operation</td><td>operator:&nbsp;27<br>operands:&nbsp;28<br></td><td><a class=\"ProveItLink\" href=\"../../common/0107914a254b4cba063b4849ea3d536e6979ec8c0/expr.ipynb\"><img src=\"../../common/0107914a254b4cba063b4849ea3d536e6979ec8c0/expr.png\" style=\"display:inline;vertical-align:middle;\" /></a></td></tr>\n",
       "<tr><td>25</td><td>Operation</td><td>operator:&nbsp;48<br>operands:&nbsp;29<br></td><td><a class=\"ProveItLink\" href=\"../34c52c56cd6521d159b35df9098e70b3de5a32b80/expr.ipynb\"><img src=\"../34c52c56cd6521d159b35df9098e70b3de5a32b80/expr.png\" style=\"display:inline;vertical-align:middle;\" /></a></td></tr>\n",
       "<tr><td>26</td><td>Operation</td><td>operator:&nbsp;48<br>operands:&nbsp;30<br></td><td><a class=\"ProveItLink\" href=\"../476f7b4a04fe1bfa28f42ef1a4ea95c2f6c0e0130/expr.ipynb\"><img src=\"../476f7b4a04fe1bfa28f42ef1a4ea95c2f6c0e0130/expr.png\" style=\"display:inline;vertical-align:middle;\" /></a></td></tr>\n",
       "<tr><td>27</td><td>Literal</td><td></td><td><a class=\"ProveItLink\" href=\"../../../../../../numbers/number_sets/integers/__pv_it/common/92f3a0a77e3c3ea8e4a5c8674edadc54e4f57d550/expr.ipynb\"><img src=\"../../../../../../numbers/number_sets/integers/__pv_it/common/92f3a0a77e3c3ea8e4a5c8674edadc54e4f57d550/expr.png\" style=\"display:inline;vertical-align:middle;\" /></a></td></tr>\n",
       "<tr><td>28</td><td>ExprTuple</td><td>31, 32</td><td><a class=\"ProveItLink\" href=\"../../common/ce38c9f7ea329335c51788d553f316b592fc50770/expr.ipynb\"><img src=\"../../common/ce38c9f7ea329335c51788d553f316b592fc50770/expr.png\" style=\"display:inline;vertical-align:middle;\" /></a></td></tr>\n",
       "<tr><td>29</td><td>ExprTuple</td><td>34, 33</td><td><a class=\"ProveItLink\" href=\"../963d1ba2c4ae3b667e08258f48f5a1792658bb730/expr.ipynb\"><img src=\"../963d1ba2c4ae3b667e08258f48f5a1792658bb730/expr.png\" style=\"display:inline;vertical-align:middle;\" /></a></td></tr>\n",
       "<tr><td>30</td><td>ExprTuple</td><td>34, 35</td><td><a class=\"ProveItLink\" href=\"../c8657d168275b32f1e774a37a5950e66238fdbae0/expr.ipynb\"><img src=\"../c8657d168275b32f1e774a37a5950e66238fdbae0/expr.png\" style=\"display:inline;vertical-align:middle;\" /></a></td></tr>\n",
       "<tr><td>31</td><td>Literal</td><td></td><td><a class=\"ProveItLink\" href=\"../../../../../../numbers/numerals/__pv_it/common/dd4e19e8b134dfb293470ea55fe3589b0ab9f8040/expr.ipynb\"><img src=\"../../../../../../numbers/numerals/__pv_it/common/dd4e19e8b134dfb293470ea55fe3589b0ab9f8040/expr.png\" style=\"display:inline;vertical-align:middle;\" /></a></td></tr>\n",
       "<tr><td>32</td><td>Operation</td><td>operator:&nbsp;36<br>operands:&nbsp;37<br></td><td><a class=\"ProveItLink\" href=\"../../common/f186bef3123c37aced8bb4cc37639e91545fb7610/expr.ipynb\"><img src=\"../../common/f186bef3123c37aced8bb4cc37639e91545fb7610/expr.png\" style=\"display:inline;vertical-align:middle;\" /></a></td></tr>\n",
       "<tr><td>33</td><td>Operation</td><td>operator:&nbsp;39<br>operands:&nbsp;38<br></td><td><a class=\"ProveItLink\" href=\"../30b260dabfe8c963fb37d5bdb588cb4770740df20/expr.ipynb\"><img src=\"../30b260dabfe8c963fb37d5bdb588cb4770740df20/expr.png\" style=\"display:inline;vertical-align:middle;\" /></a></td></tr>\n",
       "<tr><td>34</td><td>Literal</td><td></td><td><a class=\"ProveItLink\" href=\"../../../../../../numbers/number_sets/real_numbers/__pv_it/common/e531ffa54fd897084533764a4a14f19f590674f80/expr.ipynb\"><img src=\"../../../../../../numbers/number_sets/real_numbers/__pv_it/common/e531ffa54fd897084533764a4a14f19f590674f80/expr.png\" style=\"display:inline;vertical-align:middle;\" /></a></td></tr>\n",
       "<tr><td>35</td><td>Operation</td><td>operator:&nbsp;39<br>operands:&nbsp;40<br></td><td><a class=\"ProveItLink\" href=\"../32dcbae5af3254eeed083e27cbd81d14bea7fb4a0/expr.ipynb\"><img src=\"../32dcbae5af3254eeed083e27cbd81d14bea7fb4a0/expr.png\" style=\"display:inline;vertical-align:middle;\" /></a></td></tr>\n",
       "<tr><td>36</td><td>Literal</td><td></td><td><a class=\"ProveItLink\" href=\"../../../../../../numbers/addition/__pv_it/common/4b7effaab3619a1c2c38fe2dee8601df8ec714590/expr.ipynb\"><img src=\"../../../../../../numbers/addition/__pv_it/common/4b7effaab3619a1c2c38fe2dee8601df8ec714590/expr.png\" style=\"display:inline;vertical-align:middle;\" /></a></td></tr>\n",
       "<tr><td>37</td><td>ExprTuple</td><td>42, 41</td><td><a class=\"ProveItLink\" href=\"../../common/398c4745317fede96ad42a1979ba271b8d4d4f240/expr.ipynb\"><img src=\"../../common/398c4745317fede96ad42a1979ba271b8d4d4f240/expr.png\" style=\"display:inline;vertical-align:middle;\" /></a></td></tr>\n",
       "<tr><td>38</td><td>ExprTuple</td><td>53, 43, 44, 45, 42</td><td><a class=\"ProveItLink\" href=\"../3ad639207793864f3c3bb8122e251f3e4485ebac0/expr.ipynb\"><img src=\"../3ad639207793864f3c3bb8122e251f3e4485ebac0/expr.png\" style=\"display:inline;vertical-align:middle;\" /></a></td></tr>\n",
       "<tr><td>39</td><td>Literal</td><td></td><td><a class=\"ProveItLink\" href=\"../../../../../../numbers/multiplication/__pv_it/common/ed719cef37831779c16481533a4d380a2f95ab270/expr.ipynb\"><img src=\"../../../../../../numbers/multiplication/__pv_it/common/ed719cef37831779c16481533a4d380a2f95ab270/expr.png\" style=\"display:inline;vertical-align:middle;\" /></a></td></tr>\n",
       "<tr><td>40</td><td>ExprTuple</td><td>53, 43, 44, 45</td><td><a class=\"ProveItLink\" href=\"../020f1eaea7fedcba201e3bfc30e14daabeb0ba700/expr.ipynb\"><img src=\"../020f1eaea7fedcba201e3bfc30e14daabeb0ba700/expr.png\" style=\"display:inline;vertical-align:middle;\" /></a></td></tr>\n",
       "<tr><td>41</td><td>Operation</td><td>operator:&nbsp;46<br>operand:&nbsp;52<br></td><td><a class=\"ProveItLink\" href=\"../../common/bf4beda21975fe8a0a5007615b5bcc943da59bb20/expr.ipynb\"><img src=\"../../common/bf4beda21975fe8a0a5007615b5bcc943da59bb20/expr.png\" style=\"display:inline;vertical-align:middle;\" /></a></td></tr>\n",
       "<tr><td>42</td><td>Operation</td><td>operator:&nbsp;48<br>operands:&nbsp;49<br></td><td><a class=\"ProveItLink\" href=\"../../common/18332e4e627d64eadf0d81efed19ae3e9d007d510/expr.ipynb\"><img src=\"../../common/18332e4e627d64eadf0d81efed19ae3e9d007d510/expr.png\" style=\"display:inline;vertical-align:middle;\" /></a></td></tr>\n",
       "<tr><td>43</td><td>Literal</td><td></td><td><a class=\"ProveItLink\" href=\"../../../../../../numbers/number_sets/real_numbers/__pv_it/common/246c206266ac5b48800e508d580f91767b24c2df0/expr.ipynb\"><img src=\"../../../../../../numbers/number_sets/real_numbers/__pv_it/common/246c206266ac5b48800e508d580f91767b24c2df0/expr.png\" style=\"display:inline;vertical-align:middle;\" /></a></td></tr>\n",
       "<tr><td>44</td><td>Literal</td><td></td><td><a class=\"ProveItLink\" href=\"../../../../../../numbers/number_sets/complex_numbers/__pv_it/common/6c9cc69d472f352324c298b2318df233e9a7e0250/expr.ipynb\"><img src=\"../../../../../../numbers/number_sets/complex_numbers/__pv_it/common/6c9cc69d472f352324c298b2318df233e9a7e0250/expr.png\" style=\"display:inline;vertical-align:middle;\" /></a></td></tr>\n",
       "<tr><td>45</td><td>Operation</td><td>operator:&nbsp;50<br>operand:&nbsp;55<br></td><td><a class=\"ProveItLink\" href=\"../../common/93b4b357c7ea9925c01c6e53d70b20d73fd980210/expr.ipynb\"><img src=\"../../common/93b4b357c7ea9925c01c6e53d70b20d73fd980210/expr.png\" style=\"display:inline;vertical-align:middle;\" /></a></td></tr>\n",
       "<tr><td>46</td><td>Literal</td><td></td><td><a class=\"ProveItLink\" href=\"../../../../../../numbers/negation/__pv_it/common/221b3c4d1770ee9051b7c044c3f9ec61196fc34b0/expr.ipynb\"><img src=\"../../../../../../numbers/negation/__pv_it/common/221b3c4d1770ee9051b7c044c3f9ec61196fc34b0/expr.png\" style=\"display:inline;vertical-align:middle;\" /></a></td></tr>\n",
       "<tr><td>47</td><td>ExprTuple</td><td>52</td><td><a class=\"ProveItLink\" href=\"../../../../__pv_it/common/b9e4f0dffece176bbe2f36127440684a20e0468e0/expr.ipynb\"><img src=\"../../../../__pv_it/common/b9e4f0dffece176bbe2f36127440684a20e0468e0/expr.png\" style=\"display:inline;vertical-align:middle;\" /></a></td></tr>\n",
       "<tr><td>48</td><td>Literal</td><td></td><td><a class=\"ProveItLink\" href=\"../../../../../../numbers/exponentiation/__pv_it/common/0ac37aca1e54c35c5cda09672df32d4f69f1f3020/expr.ipynb\"><img src=\"../../../../../../numbers/exponentiation/__pv_it/common/0ac37aca1e54c35c5cda09672df32d4f69f1f3020/expr.png\" style=\"display:inline;vertical-align:middle;\" /></a></td></tr>\n",
       "<tr><td>49</td><td>ExprTuple</td><td>53, 54</td><td><a class=\"ProveItLink\" href=\"../../common/e32fd834a589b0231aa39da242e9381ec87261b00/expr.ipynb\"><img src=\"../../common/e32fd834a589b0231aa39da242e9381ec87261b00/expr.png\" style=\"display:inline;vertical-align:middle;\" /></a></td></tr>\n",
       "<tr><td>50</td><td>Literal</td><td></td><td><a class=\"ProveItLink\" href=\"../../common/d6b97444617188a78c398568a10ac4dbe1ffa6590/expr.ipynb\"><img src=\"../../common/d6b97444617188a78c398568a10ac4dbe1ffa6590/expr.png\" style=\"display:inline;vertical-align:middle;\" /></a></td></tr>\n",
       "<tr><td>51</td><td>ExprTuple</td><td>55</td><td><a class=\"ProveItLink\" href=\"../../common/986d22a1f3e6539fc38b57b344c7cef4a465933c0/expr.ipynb\"><img src=\"../../common/986d22a1f3e6539fc38b57b344c7cef4a465933c0/expr.png\" style=\"display:inline;vertical-align:middle;\" /></a></td></tr>\n",
       "<tr><td>52</td><td>Literal</td><td></td><td><a class=\"ProveItLink\" href=\"../../../../../../numbers/numerals/__pv_it/common/682157d4892d216d9e5626ed533aff9b56b9506e0/expr.ipynb\"><img src=\"../../../../../../numbers/numerals/__pv_it/common/682157d4892d216d9e5626ed533aff9b56b9506e0/expr.png\" style=\"display:inline;vertical-align:middle;\" /></a></td></tr>\n",
       "<tr><td>53</td><td>Literal</td><td></td><td><a class=\"ProveItLink\" href=\"../../../../../../numbers/numerals/__pv_it/common/af4aab8a07465db063742696e006d04670f30cf10/expr.ipynb\"><img src=\"../../../../../../numbers/numerals/__pv_it/common/af4aab8a07465db063742696e006d04670f30cf10/expr.png\" style=\"display:inline;vertical-align:middle;\" /></a></td></tr>\n",
       "<tr><td>54</td><td>Literal</td><td></td><td><a class=\"ProveItLink\" href=\"../../common/977cc67717328e22c93f8ab84e6a45e8cadce7790/expr.ipynb\"><img src=\"../../common/977cc67717328e22c93f8ab84e6a45e8cadce7790/expr.png\" style=\"display:inline;vertical-align:middle;\" /></a></td></tr>\n",
       "<tr><td>55</td><td>Literal</td><td></td><td><a class=\"ProveItLink\" href=\"../../common/86e7e654c47d905411cdcd594557bc54ff0937170/expr.ipynb\"><img src=\"../../common/86e7e654c47d905411cdcd594557bc54ff0937170/expr.png\" style=\"display:inline;vertical-align:middle;\" /></a></td></tr>\n",
       "</table>\n"
      ],
      "text/plain": [
       "0. (Sum_{k = 0}^{2^{t} - 1} (e^{2 * pi * i * delta_{b_{r}}})^{k}, (1 - e^{2 * pi * i * delta_{b_{r}} * 2^{t}}) / (1 - e^{2 * pi * i * delta_{b_{r}}}))\n",
       "   core type: ExprTuple\n",
       "   sub-expressions: 1, 2\n",
       "1. Sum_{k = 0}^{2^{t} - 1} (e^{2 * pi * i * delta_{b_{r}}})^{k}\n",
       "   core type: Operation\n",
       "   operator: 3\n",
       "   operand: 7\n",
       "2. (1 - e^{2 * pi * i * delta_{b_{r}} * 2^{t}}) / (1 - e^{2 * pi * i * delta_{b_{r}}})\n",
       "   core type: Operation\n",
       "   operator: 5\n",
       "   operands: 6\n",
       "3. Sum\n",
       "   core type: Literal\n",
       "   sub-expressions: \n",
       "4. (k -> {(e^{2 * pi * i * delta_{b_{r}}})^{k} if k in {0 .. 2^{t} - 1}.)\n",
       "   core type: ExprTuple\n",
       "   sub-expressions: 7\n",
       "5. /\n",
       "   core type: Literal\n",
       "   sub-expressions: \n",
       "6. (1 - e^{2 * pi * i * delta_{b_{r}} * 2^{t}}, 1 - e^{2 * pi * i * delta_{b_{r}}})\n",
       "   core type: ExprTuple\n",
       "   sub-expressions: 8, 9\n",
       "7. k -> {(e^{2 * pi * i * delta_{b_{r}}})^{k} if k in {0 .. 2^{t} - 1}.\n",
       "   core type: Lambda\n",
       "   parameter: 23\n",
       "   body: 11\n",
       "8. 1 - e^{2 * pi * i * delta_{b_{r}} * 2^{t}}\n",
       "   core type: Operation\n",
       "   operator: 36\n",
       "   operands: 12\n",
       "9. 1 - e^{2 * pi * i * delta_{b_{r}}}\n",
       "   core type: Operation\n",
       "   operator: 36\n",
       "   operands: 13\n",
       "10. (k)\n",
       "    core type: ExprTuple\n",
       "    sub-expressions: 23\n",
       "11. {(e^{2 * pi * i * delta_{b_{r}}})^{k} if k in {0 .. 2^{t} - 1}.\n",
       "    core type: Conditional\n",
       "    value: 14\n",
       "    condition: 15\n",
       "12. (1, -e^{2 * pi * i * delta_{b_{r}} * 2^{t}})\n",
       "    core type: ExprTuple\n",
       "    sub-expressions: 52, 16\n",
       "13. (1, -e^{2 * pi * i * delta_{b_{r}}})\n",
       "    core type: ExprTuple\n",
       "    sub-expressions: 52, 17\n",
       "14. (e^{2 * pi * i * delta_{b_{r}}})^{k}\n",
       "    core type: Operation\n",
       "    operator: 48\n",
       "    operands: 18\n",
       "15. k in {0 .. 2^{t} - 1}\n",
       "    core type: Operation\n",
       "    operator: 19\n",
       "    operands: 20\n",
       "16. -e^{2 * pi * i * delta_{b_{r}} * 2^{t}}\n",
       "    core type: Operation\n",
       "    operator: 46\n",
       "    operand: 25\n",
       "17. -e^{2 * pi * i * delta_{b_{r}}}\n",
       "    core type: Operation\n",
       "    operator: 46\n",
       "    operand: 26\n",
       "18. (e^{2 * pi * i * delta_{b_{r}}}, k)\n",
       "    core type: ExprTuple\n",
       "    sub-expressions: 26, 23\n",
       "19. in\n",
       "    core type: Literal\n",
       "    sub-expressions: \n",
       "20. (k, {0 .. 2^{t} - 1})\n",
       "    core type: ExprTuple\n",
       "    sub-expressions: 23, 24\n",
       "21. (e^{2 * pi * i * delta_{b_{r}} * 2^{t}})\n",
       "    core type: ExprTuple\n",
       "    sub-expressions: 25\n",
       "22. (e^{2 * pi * i * delta_{b_{r}}})\n",
       "    core type: ExprTuple\n",
       "    sub-expressions: 26\n",
       "23. k\n",
       "    core type: Variable\n",
       "    sub-expressions: \n",
       "24. {0 .. 2^{t} - 1}\n",
       "    core type: Operation\n",
       "    operator: 27\n",
       "    operands: 28\n",
       "25. e^{2 * pi * i * delta_{b_{r}} * 2^{t}}\n",
       "    core type: Operation\n",
       "    operator: 48\n",
       "    operands: 29\n",
       "26. e^{2 * pi * i * delta_{b_{r}}}\n",
       "    core type: Operation\n",
       "    operator: 48\n",
       "    operands: 30\n",
       "27. Interval\n",
       "    core type: Literal\n",
       "    sub-expressions: \n",
       "28. (0, 2^{t} - 1)\n",
       "    core type: ExprTuple\n",
       "    sub-expressions: 31, 32\n",
       "29. (e, 2 * pi * i * delta_{b_{r}} * 2^{t})\n",
       "    core type: ExprTuple\n",
       "    sub-expressions: 34, 33\n",
       "30. (e, 2 * pi * i * delta_{b_{r}})\n",
       "    core type: ExprTuple\n",
       "    sub-expressions: 34, 35\n",
       "31. 0\n",
       "    core type: Literal\n",
       "    sub-expressions: \n",
       "32. 2^{t} - 1\n",
       "    core type: Operation\n",
       "    operator: 36\n",
       "    operands: 37\n",
       "33. 2 * pi * i * delta_{b_{r}} * 2^{t}\n",
       "    core type: Operation\n",
       "    operator: 39\n",
       "    operands: 38\n",
       "34. e\n",
       "    core type: Literal\n",
       "    sub-expressions: \n",
       "35. 2 * pi * i * delta_{b_{r}}\n",
       "    core type: Operation\n",
       "    operator: 39\n",
       "    operands: 40\n",
       "36. +\n",
       "    core type: Literal\n",
       "    sub-expressions: \n",
       "37. (2^{t}, -1)\n",
       "    core type: ExprTuple\n",
       "    sub-expressions: 42, 41\n",
       "38. (2, pi, i, delta_{b_{r}}, 2^{t})\n",
       "    core type: ExprTuple\n",
       "    sub-expressions: 53, 43, 44, 45, 42\n",
       "39. *\n",
       "    core type: Literal\n",
       "    sub-expressions: \n",
       "40. (2, pi, i, delta_{b_{r}})\n",
       "    core type: ExprTuple\n",
       "    sub-expressions: 53, 43, 44, 45\n",
       "41. -1\n",
       "    core type: Operation\n",
       "    operator: 46\n",
       "    operand: 52\n",
       "42. 2^{t}\n",
       "    core type: Operation\n",
       "    operator: 48\n",
       "    operands: 49\n",
       "43. pi\n",
       "    core type: Literal\n",
       "    sub-expressions: \n",
       "44. i\n",
       "    core type: Literal\n",
       "    sub-expressions: \n",
       "45. delta_{b_{r}}\n",
       "    core type: Operation\n",
       "    operator: 50\n",
       "    operand: 55\n",
       "46. -\n",
       "    core type: Literal\n",
       "    sub-expressions: \n",
       "47. (1)\n",
       "    core type: ExprTuple\n",
       "    sub-expressions: 52\n",
       "48. Exp\n",
       "    core type: Literal\n",
       "    sub-expressions: \n",
       "49. (2, t)\n",
       "    core type: ExprTuple\n",
       "    sub-expressions: 53, 54\n",
       "50. delta\n",
       "    core type: Literal\n",
       "    sub-expressions: \n",
       "51. (b_{r})\n",
       "    core type: ExprTuple\n",
       "    sub-expressions: 55\n",
       "52. 1\n",
       "    core type: Literal\n",
       "    sub-expressions: \n",
       "53. 2\n",
       "    core type: Literal\n",
       "    sub-expressions: \n",
       "54. t\n",
       "    core type: Literal\n",
       "    sub-expressions: \n",
       "55. b_{r}\n",
       "    core type: Literal\n",
       "    sub-expressions: "
      ]
     },
     "metadata": {},
     "output_type": "display_data"
    }
   ],
   "source": [
    "# display the expression information\n",
    "stored_expr.expr_info()"
   ]
  },
  {
   "cell_type": "code",
   "execution_count": null,
   "metadata": {},
   "outputs": [],
   "source": []
  }
 ],
 "metadata": {
  "kernelspec": {
   "display_name": "Python 3",
   "language": "python",
   "name": "python3"
  }
 },
 "nbformat": 4,
 "nbformat_minor": 0
}