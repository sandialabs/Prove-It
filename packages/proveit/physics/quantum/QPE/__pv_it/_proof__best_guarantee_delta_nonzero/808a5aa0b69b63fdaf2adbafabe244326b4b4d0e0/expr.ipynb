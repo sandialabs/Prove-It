{
 "cells": [
  {
   "cell_type": "markdown",
   "metadata": {},
   "source": [
    "Expression of type <a class=\"ProveItLink\" href=\"../../../../../../../../doc/html/api/proveit.numbers.Less.html\">Less</a>\n",
    "=======================\n",
    "# from the theory of <a class=\"ProveItLink\" href=\"../../../_theory_nbs_/theory.ipynb\">proveit.physics.quantum.QPE</a>"
   ]
  },
  {
   "cell_type": "code",
   "execution_count": 1,
   "metadata": {},
   "outputs": [],
   "source": [
    "import proveit\n",
    "# Automation is not needed when building an expression:\n",
    "proveit.defaults.automation = False # This will speed things up.\n",
    "proveit.defaults.inline_pngs = False # Makes files smaller.\n",
    "%load_expr # Load the stored expression as 'stored_expr'\n",
    "# import Expression classes needed to build the expression\n",
    "from proveit import Variable\n",
    "from proveit.numbers import Abs, Exp, Less, Mod, two\n",
    "from proveit.physics.quantum.QPE import SubIndexed, _alpha, _b_round, _two_pow_t"
   ]
  },
  {
   "cell_type": "code",
   "execution_count": 2,
   "metadata": {},
   "outputs": [
    {
     "data": {
      "text/html": [
       "<strong id=\"expr\">expr:</strong> <a class=\"ProveItLink\" href=\"expr.ipynb\"><img src=\"expr.png\" style=\"display:inline;vertical-align:middle;\" /></a><br>"
      ],
      "text/plain": [
       "<IPython.core.display.HTML object>"
      ]
     },
     "metadata": {},
     "output_type": "display_data"
    }
   ],
   "source": [
    "# build up the expression from sub-expressions\n",
    "expr = Less(Variable(\"_a\", latex_format = r\"{_{-}a}\"), Exp(Abs(SubIndexed(_alpha, [Mod(_b_round, _two_pow_t)])), two))"
   ]
  },
  {
   "cell_type": "code",
   "execution_count": 3,
   "metadata": {},
   "outputs": [
    {
     "name": "stdout",
     "output_type": "stream",
     "text": [
      "Passed sanity check: expr matches stored_expr\n"
     ]
    }
   ],
   "source": [
    "# check that the built expression is the same as the stored expression\n",
    "assert expr == stored_expr\n",
    "assert expr._style_id == stored_expr._style_id\n",
    "print(\"Passed sanity check: expr matches stored_expr\")"
   ]
  },
  {
   "cell_type": "code",
   "execution_count": 4,
   "metadata": {},
   "outputs": [
    {
     "name": "stdout",
     "output_type": "stream",
     "text": [
      "{_{-}a} < \\left|\\alpha_{b_{\\textit{r}} ~\\textup{mod}~ 2^{t}}\\right|^{2}\n"
     ]
    }
   ],
   "source": [
    "# Show the LaTeX representation of the expression for convenience if you need it.\n",
    "print(stored_expr.latex())"
   ]
  },
  {
   "cell_type": "code",
   "execution_count": 5,
   "metadata": {},
   "outputs": [
    {
     "data": {
      "text/html": [
       "<table>\n",
       "<tr><th>name</th><th>description</th><th>default</th><th>current value</th><th>related methods</th></tr><tr><td>operation</td><td>'infix' or 'function' style formatting</td><td>infix</td><td>infix</td><td></td></tr>\n",
       "<tr><td>wrap_positions</td><td>position(s) at which wrapping is to occur; '2 n - 1' is after the nth operand, '2 n' is after the nth operation.</td><td>()</td><td>()</td><td>('with_wrapping_at', 'with_wrap_before_operator', 'with_wrap_after_operator', 'without_wrapping', 'wrap_positions')</td></tr>\n",
       "<tr><td>justification</td><td>if any wrap positions are set, justify to the 'left', 'center', or 'right'</td><td>center</td><td>center</td><td>('with_justification',)</td></tr>\n",
       "<tr><td>direction</td><td>Direction of the relation (normal or reversed)</td><td>normal</td><td>normal</td><td>('with_direction_reversed', 'is_reversed')</td></tr>\n",
       "</table>\n"
      ],
      "text/plain": [
       "style name: operation\n",
       "description: 'infix' or 'function' style formatting\n",
       "default: infix\n",
       "current value: infix\n",
       "related methods: ()\n",
       "style name: wrap_positions\n",
       "description: position(s) at which wrapping is to occur; '2 n - 1' is after the nth operand, '2 n' is after the nth operation.\n",
       "default: ()\n",
       "current value: ()\n",
       "related methods: ('with_wrapping_at', 'with_wrap_before_operator', 'with_wrap_after_operator', 'without_wrapping', 'wrap_positions')\n",
       "style name: justification\n",
       "description: if any wrap positions are set, justify to the 'left', 'center', or 'right'\n",
       "default: center\n",
       "current value: center\n",
       "related methods: ('with_justification',)\n",
       "style name: direction\n",
       "description: Direction of the relation (normal or reversed)\n",
       "default: normal\n",
       "current value: normal\n",
       "related methods: ('with_direction_reversed', 'is_reversed')"
      ]
     },
     "metadata": {},
     "output_type": "display_data"
    }
   ],
   "source": [
    "stored_expr.style_options()"
   ]
  },
  {
   "cell_type": "code",
   "execution_count": 6,
   "metadata": {},
   "outputs": [
    {
     "data": {
      "text/html": [
       "<table><tr><th>&nbsp;</th><th>core type</th><th>sub-expressions</th><th>expression</th></tr>\n",
       "<tr><td>0</td><td>Operation</td><td>operator:&nbsp;1<br>operands:&nbsp;2<br></td><td><a class=\"ProveItLink\" href=\"expr.ipynb\"><img src=\"expr.png\" style=\"display:inline;vertical-align:middle;\" /></a></td></tr>\n",
       "<tr><td>1</td><td>Literal</td><td></td><td><a class=\"ProveItLink\" href=\"../../../../../../numbers/ordering/__pv_it/common/fa503ed52033522c609eef1cf3e1b45796489da50/expr.ipynb\"><img src=\"../../../../../../numbers/ordering/__pv_it/common/fa503ed52033522c609eef1cf3e1b45796489da50/expr.png\" style=\"display:inline;vertical-align:middle;\" /></a></td></tr>\n",
       "<tr><td>2</td><td>ExprTuple</td><td>3, 4</td><td><a class=\"ProveItLink\" href=\"../4c096b051e75c1920a034e430926df329997f4060/expr.ipynb\"><img src=\"../4c096b051e75c1920a034e430926df329997f4060/expr.png\" style=\"display:inline;vertical-align:middle;\" /></a></td></tr>\n",
       "<tr><td>3</td><td>Variable</td><td></td><td><a class=\"ProveItLink\" href=\"../../../../../../core_expr_types/__pv_it/common/006c465e50948aa2b52285e2de47974f741255cc0/expr.ipynb\"><img src=\"../../../../../../core_expr_types/__pv_it/common/006c465e50948aa2b52285e2de47974f741255cc0/expr.png\" style=\"display:inline;vertical-align:middle;\" /></a></td></tr>\n",
       "<tr><td>4</td><td>Operation</td><td>operator:&nbsp;17<br>operands:&nbsp;5<br></td><td><a class=\"ProveItLink\" href=\"../../theorems/1afba0bd2e401fa93625d0b38b590112342e2f620/expr.ipynb\"><img src=\"../../theorems/1afba0bd2e401fa93625d0b38b590112342e2f620/expr.png\" style=\"display:inline;vertical-align:middle;\" /></a></td></tr>\n",
       "<tr><td>5</td><td>ExprTuple</td><td>6, 19</td><td><a class=\"ProveItLink\" href=\"../../theorems/8d97b440d495e5f6c7537ddb90808ec3fb863ff60/expr.ipynb\"><img src=\"../../theorems/8d97b440d495e5f6c7537ddb90808ec3fb863ff60/expr.png\" style=\"display:inline;vertical-align:middle;\" /></a></td></tr>\n",
       "<tr><td>6</td><td>Operation</td><td>operator:&nbsp;7<br>operand:&nbsp;9<br></td><td><a class=\"ProveItLink\" href=\"../../theorems/00b5a6b015b3ef1389e64e50e9f8e4cd09ee32f60/expr.ipynb\"><img src=\"../../theorems/00b5a6b015b3ef1389e64e50e9f8e4cd09ee32f60/expr.png\" style=\"display:inline;vertical-align:middle;\" /></a></td></tr>\n",
       "<tr><td>7</td><td>Literal</td><td></td><td><a class=\"ProveItLink\" href=\"../../../../../../numbers/absolute_value/__pv_it/common/eea56c667bc0aad2dc76ed04b44c2bd98b94005f0/expr.ipynb\"><img src=\"../../../../../../numbers/absolute_value/__pv_it/common/eea56c667bc0aad2dc76ed04b44c2bd98b94005f0/expr.png\" style=\"display:inline;vertical-align:middle;\" /></a></td></tr>\n",
       "<tr><td>8</td><td>ExprTuple</td><td>9</td><td><a class=\"ProveItLink\" href=\"../../theorems/544eaa6f43ee981e3d2e9af1b6b58eddd7038d830/expr.ipynb\"><img src=\"../../theorems/544eaa6f43ee981e3d2e9af1b6b58eddd7038d830/expr.png\" style=\"display:inline;vertical-align:middle;\" /></a></td></tr>\n",
       "<tr><td>9</td><td>Operation</td><td>operator:&nbsp;10<br>operand:&nbsp;12<br></td><td><a class=\"ProveItLink\" href=\"../../theorems/fa6fb0abcd23d30813b5dc9138819f39ac3d80070/expr.ipynb\"><img src=\"../../theorems/fa6fb0abcd23d30813b5dc9138819f39ac3d80070/expr.png\" style=\"display:inline;vertical-align:middle;\" /></a></td></tr>\n",
       "<tr><td>10</td><td>Literal</td><td></td><td><a class=\"ProveItLink\" href=\"../../common/91bf0c8711f0cb198093da4362dda6021bfd02790/expr.ipynb\"><img src=\"../../common/91bf0c8711f0cb198093da4362dda6021bfd02790/expr.png\" style=\"display:inline;vertical-align:middle;\" /></a></td></tr>\n",
       "<tr><td>11</td><td>ExprTuple</td><td>12</td><td><a class=\"ProveItLink\" href=\"../../theorems/dd1705babab915a1cb15063fcf7d9bd7af26446f0/expr.ipynb\"><img src=\"../../theorems/dd1705babab915a1cb15063fcf7d9bd7af26446f0/expr.png\" style=\"display:inline;vertical-align:middle;\" /></a></td></tr>\n",
       "<tr><td>12</td><td>Operation</td><td>operator:&nbsp;13<br>operands:&nbsp;14<br></td><td><a class=\"ProveItLink\" href=\"../../theorems/f48b8cb9e3740a250d050cd6d7873b4ef7c573490/expr.ipynb\"><img src=\"../../theorems/f48b8cb9e3740a250d050cd6d7873b4ef7c573490/expr.png\" style=\"display:inline;vertical-align:middle;\" /></a></td></tr>\n",
       "<tr><td>13</td><td>Literal</td><td></td><td><a class=\"ProveItLink\" href=\"../../../../../../numbers/modular/__pv_it/common/f61fe43eeba657b57e4fe7773885cfa81fe3dfc20/expr.ipynb\"><img src=\"../../../../../../numbers/modular/__pv_it/common/f61fe43eeba657b57e4fe7773885cfa81fe3dfc20/expr.png\" style=\"display:inline;vertical-align:middle;\" /></a></td></tr>\n",
       "<tr><td>14</td><td>ExprTuple</td><td>15, 16</td><td><a class=\"ProveItLink\" href=\"../../theorems/9b3a30bfb15492fbab193d0ab28c309aff3daf550/expr.ipynb\"><img src=\"../../theorems/9b3a30bfb15492fbab193d0ab28c309aff3daf550/expr.png\" style=\"display:inline;vertical-align:middle;\" /></a></td></tr>\n",
       "<tr><td>15</td><td>Literal</td><td></td><td><a class=\"ProveItLink\" href=\"../../common/86e7e654c47d905411cdcd594557bc54ff0937170/expr.ipynb\"><img src=\"../../common/86e7e654c47d905411cdcd594557bc54ff0937170/expr.png\" style=\"display:inline;vertical-align:middle;\" /></a></td></tr>\n",
       "<tr><td>16</td><td>Operation</td><td>operator:&nbsp;17<br>operands:&nbsp;18<br></td><td><a class=\"ProveItLink\" href=\"../../common/18332e4e627d64eadf0d81efed19ae3e9d007d510/expr.ipynb\"><img src=\"../../common/18332e4e627d64eadf0d81efed19ae3e9d007d510/expr.png\" style=\"display:inline;vertical-align:middle;\" /></a></td></tr>\n",
       "<tr><td>17</td><td>Literal</td><td></td><td><a class=\"ProveItLink\" href=\"../../../../../../numbers/exponentiation/__pv_it/common/0ac37aca1e54c35c5cda09672df32d4f69f1f3020/expr.ipynb\"><img src=\"../../../../../../numbers/exponentiation/__pv_it/common/0ac37aca1e54c35c5cda09672df32d4f69f1f3020/expr.png\" style=\"display:inline;vertical-align:middle;\" /></a></td></tr>\n",
       "<tr><td>18</td><td>ExprTuple</td><td>19, 20</td><td><a class=\"ProveItLink\" href=\"../../common/e32fd834a589b0231aa39da242e9381ec87261b00/expr.ipynb\"><img src=\"../../common/e32fd834a589b0231aa39da242e9381ec87261b00/expr.png\" style=\"display:inline;vertical-align:middle;\" /></a></td></tr>\n",
       "<tr><td>19</td><td>Literal</td><td></td><td><a class=\"ProveItLink\" href=\"../../../../../../numbers/numerals/__pv_it/common/af4aab8a07465db063742696e006d04670f30cf10/expr.ipynb\"><img src=\"../../../../../../numbers/numerals/__pv_it/common/af4aab8a07465db063742696e006d04670f30cf10/expr.png\" style=\"display:inline;vertical-align:middle;\" /></a></td></tr>\n",
       "<tr><td>20</td><td>Literal</td><td></td><td><a class=\"ProveItLink\" href=\"../../common/977cc67717328e22c93f8ab84e6a45e8cadce7790/expr.ipynb\"><img src=\"../../common/977cc67717328e22c93f8ab84e6a45e8cadce7790/expr.png\" style=\"display:inline;vertical-align:middle;\" /></a></td></tr>\n",
       "</table>\n"
      ],
      "text/plain": [
       "0. _a < |alpha_{b_{r} mod 2^{t}}|^{2}\n",
       "   core type: Operation\n",
       "   operator: 1\n",
       "   operands: 2\n",
       "1. <\n",
       "   core type: Literal\n",
       "   sub-expressions: \n",
       "2. (_a, |alpha_{b_{r} mod 2^{t}}|^{2})\n",
       "   core type: ExprTuple\n",
       "   sub-expressions: 3, 4\n",
       "3. _a\n",
       "   core type: Variable\n",
       "   sub-expressions: \n",
       "4. |alpha_{b_{r} mod 2^{t}}|^{2}\n",
       "   core type: Operation\n",
       "   operator: 17\n",
       "   operands: 5\n",
       "5. (|alpha_{b_{r} mod 2^{t}}|, 2)\n",
       "   core type: ExprTuple\n",
       "   sub-expressions: 6, 19\n",
       "6. |alpha_{b_{r} mod 2^{t}}|\n",
       "   core type: Operation\n",
       "   operator: 7\n",
       "   operand: 9\n",
       "7. Abs\n",
       "   core type: Literal\n",
       "   sub-expressions: \n",
       "8. (alpha_{b_{r} mod 2^{t}})\n",
       "   core type: ExprTuple\n",
       "   sub-expressions: 9\n",
       "9. alpha_{b_{r} mod 2^{t}}\n",
       "   core type: Operation\n",
       "   operator: 10\n",
       "   operand: 12\n",
       "10. alpha\n",
       "    core type: Literal\n",
       "    sub-expressions: \n",
       "11. (b_{r} mod 2^{t})\n",
       "    core type: ExprTuple\n",
       "    sub-expressions: 12\n",
       "12. b_{r} mod 2^{t}\n",
       "    core type: Operation\n",
       "    operator: 13\n",
       "    operands: 14\n",
       "13. mod\n",
       "    core type: Literal\n",
       "    sub-expressions: \n",
       "14. (b_{r}, 2^{t})\n",
       "    core type: ExprTuple\n",
       "    sub-expressions: 15, 16\n",
       "15. b_{r}\n",
       "    core type: Literal\n",
       "    sub-expressions: \n",
       "16. 2^{t}\n",
       "    core type: Operation\n",
       "    operator: 17\n",
       "    operands: 18\n",
       "17. Exp\n",
       "    core type: Literal\n",
       "    sub-expressions: \n",
       "18. (2, t)\n",
       "    core type: ExprTuple\n",
       "    sub-expressions: 19, 20\n",
       "19. 2\n",
       "    core type: Literal\n",
       "    sub-expressions: \n",
       "20. t\n",
       "    core type: Literal\n",
       "    sub-expressions: "
      ]
     },
     "metadata": {},
     "output_type": "display_data"
    }
   ],
   "source": [
    "# display the expression information\n",
    "stored_expr.expr_info()"
   ]
  },
  {
   "cell_type": "code",
   "execution_count": null,
   "metadata": {},
   "outputs": [],
   "source": []
  }
 ],
 "metadata": {
  "kernelspec": {
   "display_name": "Python 3",
   "language": "python",
   "name": "python3"
  }
 },
 "nbformat": 4,
 "nbformat_minor": 0
}