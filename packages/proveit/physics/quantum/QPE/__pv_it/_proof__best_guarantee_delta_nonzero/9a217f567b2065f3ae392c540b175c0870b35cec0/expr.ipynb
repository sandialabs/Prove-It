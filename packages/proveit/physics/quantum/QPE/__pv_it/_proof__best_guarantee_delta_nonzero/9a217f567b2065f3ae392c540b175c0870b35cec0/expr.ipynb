{
 "cells": [
  {
   "cell_type": "markdown",
   "metadata": {},
   "source": [
    "Expression of type <a class=\"ProveItLink\" href=\"../../../../../../../../doc/html/api/proveit.ExprTuple.html\">ExprTuple</a>\n",
    "=======================\n",
    "# from the theory of <a class=\"ProveItLink\" href=\"../../../_theory_nbs_/theory.ipynb\">proveit.physics.quantum.QPE</a>"
   ]
  },
  {
   "cell_type": "code",
   "execution_count": 1,
   "metadata": {},
   "outputs": [],
   "source": [
    "import proveit\n",
    "# Automation is not needed when building an expression:\n",
    "proveit.defaults.automation = False # This will speed things up.\n",
    "proveit.defaults.inline_pngs = False # Makes files smaller.\n",
    "%load_expr # Load the stored expression as 'stored_expr'\n",
    "# import Expression classes needed to build the expression\n",
    "from proveit import ExprTuple\n",
    "from proveit.numbers import Complex, Exp, Mult, e, frac, i, one, pi, subtract, two\n",
    "from proveit.physics.quantum.QPE import _delta_b_round, _two_pow_t"
   ]
  },
  {
   "cell_type": "code",
   "execution_count": 2,
   "metadata": {},
   "outputs": [
    {
     "data": {
      "text/html": [
       "<strong id=\"expr\">expr:</strong> <a class=\"ProveItLink\" href=\"expr.ipynb\"><img src=\"expr.png\" style=\"display:inline;vertical-align:middle;\" /></a><br>"
      ],
      "text/plain": [
       "<IPython.core.display.HTML object>"
      ]
     },
     "metadata": {},
     "output_type": "display_data"
    }
   ],
   "source": [
    "# build up the expression from sub-expressions\n",
    "expr = ExprTuple(Mult(frac(one, _two_pow_t), frac(subtract(one, Exp(e, Mult(two, pi, i, _delta_b_round, _two_pow_t))), subtract(one, Exp(e, Mult(two, pi, i, _delta_b_round))))), Complex)"
   ]
  },
  {
   "cell_type": "code",
   "execution_count": 3,
   "metadata": {},
   "outputs": [
    {
     "name": "stdout",
     "output_type": "stream",
     "text": [
      "Passed sanity check: expr matches stored_expr\n"
     ]
    }
   ],
   "source": [
    "# check that the built expression is the same as the stored expression\n",
    "assert expr == stored_expr\n",
    "assert expr._style_id == stored_expr._style_id\n",
    "print(\"Passed sanity check: expr matches stored_expr\")"
   ]
  },
  {
   "cell_type": "code",
   "execution_count": 4,
   "metadata": {},
   "outputs": [
    {
     "name": "stdout",
     "output_type": "stream",
     "text": [
      "\\left(\\frac{1}{2^{t}} \\cdot \\frac{1 - \\mathsf{e}^{2 \\cdot \\pi \\cdot \\mathsf{i} \\cdot \\delta_{b_{\\textit{r}}} \\cdot 2^{t}}}{1 - \\mathsf{e}^{2 \\cdot \\pi \\cdot \\mathsf{i} \\cdot \\delta_{b_{\\textit{r}}}}}, \\mathbb{C}\\right)\n"
     ]
    }
   ],
   "source": [
    "# Show the LaTeX representation of the expression for convenience if you need it.\n",
    "print(stored_expr.latex())"
   ]
  },
  {
   "cell_type": "code",
   "execution_count": 5,
   "metadata": {},
   "outputs": [
    {
     "data": {
      "text/html": [
       "<table>\n",
       "<tr><th>name</th><th>description</th><th>default</th><th>current value</th><th>related methods</th></tr><tr><td>wrap_positions</td><td>position(s) at which wrapping is to occur; 'n' is after the nth comma.</td><td>()</td><td>()</td><td>('with_wrapping_at',)</td></tr>\n",
       "<tr><td>justification</td><td>if any wrap positions are set, justify to the 'left', 'center', or 'right'</td><td>left</td><td>left</td><td>('with_justification',)</td></tr>\n",
       "</table>\n"
      ],
      "text/plain": [
       "style name: wrap_positions\n",
       "description: position(s) at which wrapping is to occur; 'n' is after the nth comma.\n",
       "default: ()\n",
       "current value: ()\n",
       "related methods: ('with_wrapping_at',)\n",
       "style name: justification\n",
       "description: if any wrap positions are set, justify to the 'left', 'center', or 'right'\n",
       "default: left\n",
       "current value: left\n",
       "related methods: ('with_justification',)"
      ]
     },
     "metadata": {},
     "output_type": "display_data"
    }
   ],
   "source": [
    "stored_expr.style_options()"
   ]
  },
  {
   "cell_type": "code",
   "execution_count": 6,
   "metadata": {},
   "outputs": [
    {
     "data": {
      "text/html": [
       "<table><tr><th>&nbsp;</th><th>core type</th><th>sub-expressions</th><th>expression</th></tr>\n",
       "<tr><td>0</td><td>ExprTuple</td><td>1, 2</td><td><a class=\"ProveItLink\" href=\"expr.ipynb\"><img src=\"expr.png\" style=\"display:inline;vertical-align:middle;\" /></a></td></tr>\n",
       "<tr><td>1</td><td>Operation</td><td>operator:&nbsp;28<br>operands:&nbsp;3<br></td><td><a class=\"ProveItLink\" href=\"../074564ac5534168bfca13cf707782d6eec17c5040/expr.ipynb\"><img src=\"../074564ac5534168bfca13cf707782d6eec17c5040/expr.png\" style=\"display:inline;vertical-align:middle;\" /></a></td></tr>\n",
       "<tr><td>2</td><td>Literal</td><td></td><td><a class=\"ProveItLink\" href=\"../../../../../../numbers/number_sets/complex_numbers/__pv_it/common/d18a028138f659eda00de597c28a3447fe87eb100/expr.ipynb\"><img src=\"../../../../../../numbers/number_sets/complex_numbers/__pv_it/common/d18a028138f659eda00de597c28a3447fe87eb100/expr.png\" style=\"display:inline;vertical-align:middle;\" /></a></td></tr>\n",
       "<tr><td>3</td><td>ExprTuple</td><td>4, 5</td><td><a class=\"ProveItLink\" href=\"../cf10c97106cd127f494999e633730aa0887549640/expr.ipynb\"><img src=\"../cf10c97106cd127f494999e633730aa0887549640/expr.png\" style=\"display:inline;vertical-align:middle;\" /></a></td></tr>\n",
       "<tr><td>4</td><td>Operation</td><td>operator:&nbsp;7<br>operands:&nbsp;6<br></td><td><a class=\"ProveItLink\" href=\"../../theorems/1ad6b12de0d9e9a930ff1231b52bb94d8eeec9a30/expr.ipynb\"><img src=\"../../theorems/1ad6b12de0d9e9a930ff1231b52bb94d8eeec9a30/expr.png\" style=\"display:inline;vertical-align:middle;\" /></a></td></tr>\n",
       "<tr><td>5</td><td>Operation</td><td>operator:&nbsp;7<br>operands:&nbsp;8<br></td><td><a class=\"ProveItLink\" href=\"../c2b424be649f01399353fdd9f8e828c6bf15b09d0/expr.ipynb\"><img src=\"../c2b424be649f01399353fdd9f8e828c6bf15b09d0/expr.png\" style=\"display:inline;vertical-align:middle;\" /></a></td></tr>\n",
       "<tr><td>6</td><td>ExprTuple</td><td>15, 30</td><td><a class=\"ProveItLink\" href=\"../../theorems/a440d55f6370244e877c8370240b6991ecfadd4e0/expr.ipynb\"><img src=\"../../theorems/a440d55f6370244e877c8370240b6991ecfadd4e0/expr.png\" style=\"display:inline;vertical-align:middle;\" /></a></td></tr>\n",
       "<tr><td>7</td><td>Literal</td><td></td><td><a class=\"ProveItLink\" href=\"../../../../../../numbers/division/__pv_it/common/a2a633e1e3c749fb1f2692466b287b6348c5de840/expr.ipynb\"><img src=\"../../../../../../numbers/division/__pv_it/common/a2a633e1e3c749fb1f2692466b287b6348c5de840/expr.png\" style=\"display:inline;vertical-align:middle;\" /></a></td></tr>\n",
       "<tr><td>8</td><td>ExprTuple</td><td>9, 10</td><td><a class=\"ProveItLink\" href=\"../a0ac26ca586b9765be3b20d8187bc757056dc4ba0/expr.ipynb\"><img src=\"../a0ac26ca586b9765be3b20d8187bc757056dc4ba0/expr.png\" style=\"display:inline;vertical-align:middle;\" /></a></td></tr>\n",
       "<tr><td>9</td><td>Operation</td><td>operator:&nbsp;12<br>operands:&nbsp;11<br></td><td><a class=\"ProveItLink\" href=\"../5b7ff7d221f9e68ddbd1409c070324c16de573080/expr.ipynb\"><img src=\"../5b7ff7d221f9e68ddbd1409c070324c16de573080/expr.png\" style=\"display:inline;vertical-align:middle;\" /></a></td></tr>\n",
       "<tr><td>10</td><td>Operation</td><td>operator:&nbsp;12<br>operands:&nbsp;13<br></td><td><a class=\"ProveItLink\" href=\"../17acb8f58ce9048e9d2d6e57c99bd2f74926fcdc0/expr.ipynb\"><img src=\"../17acb8f58ce9048e9d2d6e57c99bd2f74926fcdc0/expr.png\" style=\"display:inline;vertical-align:middle;\" /></a></td></tr>\n",
       "<tr><td>11</td><td>ExprTuple</td><td>15, 14</td><td><a class=\"ProveItLink\" href=\"../d92ac3e9dda0dce3dccef97150bbed0a3b7805b10/expr.ipynb\"><img src=\"../d92ac3e9dda0dce3dccef97150bbed0a3b7805b10/expr.png\" style=\"display:inline;vertical-align:middle;\" /></a></td></tr>\n",
       "<tr><td>12</td><td>Literal</td><td></td><td><a class=\"ProveItLink\" href=\"../../../../../../numbers/addition/__pv_it/common/4b7effaab3619a1c2c38fe2dee8601df8ec714590/expr.ipynb\"><img src=\"../../../../../../numbers/addition/__pv_it/common/4b7effaab3619a1c2c38fe2dee8601df8ec714590/expr.png\" style=\"display:inline;vertical-align:middle;\" /></a></td></tr>\n",
       "<tr><td>13</td><td>ExprTuple</td><td>15, 16</td><td><a class=\"ProveItLink\" href=\"../fbe160db19b61009221f26386bb5c4e7c4eb77fc0/expr.ipynb\"><img src=\"../fbe160db19b61009221f26386bb5c4e7c4eb77fc0/expr.png\" style=\"display:inline;vertical-align:middle;\" /></a></td></tr>\n",
       "<tr><td>14</td><td>Operation</td><td>operator:&nbsp;18<br>operand:&nbsp;20<br></td><td><a class=\"ProveItLink\" href=\"../9b609341d66ccd4353c89655a5dac0bcaddcb8600/expr.ipynb\"><img src=\"../9b609341d66ccd4353c89655a5dac0bcaddcb8600/expr.png\" style=\"display:inline;vertical-align:middle;\" /></a></td></tr>\n",
       "<tr><td>15</td><td>Literal</td><td></td><td><a class=\"ProveItLink\" href=\"../../../../../../numbers/numerals/__pv_it/common/682157d4892d216d9e5626ed533aff9b56b9506e0/expr.ipynb\"><img src=\"../../../../../../numbers/numerals/__pv_it/common/682157d4892d216d9e5626ed533aff9b56b9506e0/expr.png\" style=\"display:inline;vertical-align:middle;\" /></a></td></tr>\n",
       "<tr><td>16</td><td>Operation</td><td>operator:&nbsp;18<br>operand:&nbsp;21<br></td><td><a class=\"ProveItLink\" href=\"../52357425da919bf7a7cadac750a0cf7daef96c150/expr.ipynb\"><img src=\"../52357425da919bf7a7cadac750a0cf7daef96c150/expr.png\" style=\"display:inline;vertical-align:middle;\" /></a></td></tr>\n",
       "<tr><td>17</td><td>ExprTuple</td><td>20</td><td><a class=\"ProveItLink\" href=\"../4f1dc0e6d9cd3627af72fc5bb237966966ce5a410/expr.ipynb\"><img src=\"../4f1dc0e6d9cd3627af72fc5bb237966966ce5a410/expr.png\" style=\"display:inline;vertical-align:middle;\" /></a></td></tr>\n",
       "<tr><td>18</td><td>Literal</td><td></td><td><a class=\"ProveItLink\" href=\"../../../../../../numbers/negation/__pv_it/common/221b3c4d1770ee9051b7c044c3f9ec61196fc34b0/expr.ipynb\"><img src=\"../../../../../../numbers/negation/__pv_it/common/221b3c4d1770ee9051b7c044c3f9ec61196fc34b0/expr.png\" style=\"display:inline;vertical-align:middle;\" /></a></td></tr>\n",
       "<tr><td>19</td><td>ExprTuple</td><td>21</td><td><a class=\"ProveItLink\" href=\"../36b9d6b3b6e37cfca1d09e507296d0d51e47bca90/expr.ipynb\"><img src=\"../36b9d6b3b6e37cfca1d09e507296d0d51e47bca90/expr.png\" style=\"display:inline;vertical-align:middle;\" /></a></td></tr>\n",
       "<tr><td>20</td><td>Operation</td><td>operator:&nbsp;34<br>operands:&nbsp;22<br></td><td><a class=\"ProveItLink\" href=\"../34c52c56cd6521d159b35df9098e70b3de5a32b80/expr.ipynb\"><img src=\"../34c52c56cd6521d159b35df9098e70b3de5a32b80/expr.png\" style=\"display:inline;vertical-align:middle;\" /></a></td></tr>\n",
       "<tr><td>21</td><td>Operation</td><td>operator:&nbsp;34<br>operands:&nbsp;23<br></td><td><a class=\"ProveItLink\" href=\"../476f7b4a04fe1bfa28f42ef1a4ea95c2f6c0e0130/expr.ipynb\"><img src=\"../476f7b4a04fe1bfa28f42ef1a4ea95c2f6c0e0130/expr.png\" style=\"display:inline;vertical-align:middle;\" /></a></td></tr>\n",
       "<tr><td>22</td><td>ExprTuple</td><td>25, 24</td><td><a class=\"ProveItLink\" href=\"../963d1ba2c4ae3b667e08258f48f5a1792658bb730/expr.ipynb\"><img src=\"../963d1ba2c4ae3b667e08258f48f5a1792658bb730/expr.png\" style=\"display:inline;vertical-align:middle;\" /></a></td></tr>\n",
       "<tr><td>23</td><td>ExprTuple</td><td>25, 26</td><td><a class=\"ProveItLink\" href=\"../c8657d168275b32f1e774a37a5950e66238fdbae0/expr.ipynb\"><img src=\"../c8657d168275b32f1e774a37a5950e66238fdbae0/expr.png\" style=\"display:inline;vertical-align:middle;\" /></a></td></tr>\n",
       "<tr><td>24</td><td>Operation</td><td>operator:&nbsp;28<br>operands:&nbsp;27<br></td><td><a class=\"ProveItLink\" href=\"../30b260dabfe8c963fb37d5bdb588cb4770740df20/expr.ipynb\"><img src=\"../30b260dabfe8c963fb37d5bdb588cb4770740df20/expr.png\" style=\"display:inline;vertical-align:middle;\" /></a></td></tr>\n",
       "<tr><td>25</td><td>Literal</td><td></td><td><a class=\"ProveItLink\" href=\"../../../../../../numbers/number_sets/real_numbers/__pv_it/common/e531ffa54fd897084533764a4a14f19f590674f80/expr.ipynb\"><img src=\"../../../../../../numbers/number_sets/real_numbers/__pv_it/common/e531ffa54fd897084533764a4a14f19f590674f80/expr.png\" style=\"display:inline;vertical-align:middle;\" /></a></td></tr>\n",
       "<tr><td>26</td><td>Operation</td><td>operator:&nbsp;28<br>operands:&nbsp;29<br></td><td><a class=\"ProveItLink\" href=\"../32dcbae5af3254eeed083e27cbd81d14bea7fb4a0/expr.ipynb\"><img src=\"../32dcbae5af3254eeed083e27cbd81d14bea7fb4a0/expr.png\" style=\"display:inline;vertical-align:middle;\" /></a></td></tr>\n",
       "<tr><td>27</td><td>ExprTuple</td><td>38, 31, 32, 33, 30</td><td><a class=\"ProveItLink\" href=\"../3ad639207793864f3c3bb8122e251f3e4485ebac0/expr.ipynb\"><img src=\"../3ad639207793864f3c3bb8122e251f3e4485ebac0/expr.png\" style=\"display:inline;vertical-align:middle;\" /></a></td></tr>\n",
       "<tr><td>28</td><td>Literal</td><td></td><td><a class=\"ProveItLink\" href=\"../../../../../../numbers/multiplication/__pv_it/common/ed719cef37831779c16481533a4d380a2f95ab270/expr.ipynb\"><img src=\"../../../../../../numbers/multiplication/__pv_it/common/ed719cef37831779c16481533a4d380a2f95ab270/expr.png\" style=\"display:inline;vertical-align:middle;\" /></a></td></tr>\n",
       "<tr><td>29</td><td>ExprTuple</td><td>38, 31, 32, 33</td><td><a class=\"ProveItLink\" href=\"../020f1eaea7fedcba201e3bfc30e14daabeb0ba700/expr.ipynb\"><img src=\"../020f1eaea7fedcba201e3bfc30e14daabeb0ba700/expr.png\" style=\"display:inline;vertical-align:middle;\" /></a></td></tr>\n",
       "<tr><td>30</td><td>Operation</td><td>operator:&nbsp;34<br>operands:&nbsp;35<br></td><td><a class=\"ProveItLink\" href=\"../../common/18332e4e627d64eadf0d81efed19ae3e9d007d510/expr.ipynb\"><img src=\"../../common/18332e4e627d64eadf0d81efed19ae3e9d007d510/expr.png\" style=\"display:inline;vertical-align:middle;\" /></a></td></tr>\n",
       "<tr><td>31</td><td>Literal</td><td></td><td><a class=\"ProveItLink\" href=\"../../../../../../numbers/number_sets/real_numbers/__pv_it/common/246c206266ac5b48800e508d580f91767b24c2df0/expr.ipynb\"><img src=\"../../../../../../numbers/number_sets/real_numbers/__pv_it/common/246c206266ac5b48800e508d580f91767b24c2df0/expr.png\" style=\"display:inline;vertical-align:middle;\" /></a></td></tr>\n",
       "<tr><td>32</td><td>Literal</td><td></td><td><a class=\"ProveItLink\" href=\"../../../../../../numbers/number_sets/complex_numbers/__pv_it/common/6c9cc69d472f352324c298b2318df233e9a7e0250/expr.ipynb\"><img src=\"../../../../../../numbers/number_sets/complex_numbers/__pv_it/common/6c9cc69d472f352324c298b2318df233e9a7e0250/expr.png\" style=\"display:inline;vertical-align:middle;\" /></a></td></tr>\n",
       "<tr><td>33</td><td>Operation</td><td>operator:&nbsp;36<br>operand:&nbsp;40<br></td><td><a class=\"ProveItLink\" href=\"../../common/93b4b357c7ea9925c01c6e53d70b20d73fd980210/expr.ipynb\"><img src=\"../../common/93b4b357c7ea9925c01c6e53d70b20d73fd980210/expr.png\" style=\"display:inline;vertical-align:middle;\" /></a></td></tr>\n",
       "<tr><td>34</td><td>Literal</td><td></td><td><a class=\"ProveItLink\" href=\"../../../../../../numbers/exponentiation/__pv_it/common/0ac37aca1e54c35c5cda09672df32d4f69f1f3020/expr.ipynb\"><img src=\"../../../../../../numbers/exponentiation/__pv_it/common/0ac37aca1e54c35c5cda09672df32d4f69f1f3020/expr.png\" style=\"display:inline;vertical-align:middle;\" /></a></td></tr>\n",
       "<tr><td>35</td><td>ExprTuple</td><td>38, 39</td><td><a class=\"ProveItLink\" href=\"../../common/e32fd834a589b0231aa39da242e9381ec87261b00/expr.ipynb\"><img src=\"../../common/e32fd834a589b0231aa39da242e9381ec87261b00/expr.png\" style=\"display:inline;vertical-align:middle;\" /></a></td></tr>\n",
       "<tr><td>36</td><td>Literal</td><td></td><td><a class=\"ProveItLink\" href=\"../../common/d6b97444617188a78c398568a10ac4dbe1ffa6590/expr.ipynb\"><img src=\"../../common/d6b97444617188a78c398568a10ac4dbe1ffa6590/expr.png\" style=\"display:inline;vertical-align:middle;\" /></a></td></tr>\n",
       "<tr><td>37</td><td>ExprTuple</td><td>40</td><td><a class=\"ProveItLink\" href=\"../../common/986d22a1f3e6539fc38b57b344c7cef4a465933c0/expr.ipynb\"><img src=\"../../common/986d22a1f3e6539fc38b57b344c7cef4a465933c0/expr.png\" style=\"display:inline;vertical-align:middle;\" /></a></td></tr>\n",
       "<tr><td>38</td><td>Literal</td><td></td><td><a class=\"ProveItLink\" href=\"../../../../../../numbers/numerals/__pv_it/common/af4aab8a07465db063742696e006d04670f30cf10/expr.ipynb\"><img src=\"../../../../../../numbers/numerals/__pv_it/common/af4aab8a07465db063742696e006d04670f30cf10/expr.png\" style=\"display:inline;vertical-align:middle;\" /></a></td></tr>\n",
       "<tr><td>39</td><td>Literal</td><td></td><td><a class=\"ProveItLink\" href=\"../../common/977cc67717328e22c93f8ab84e6a45e8cadce7790/expr.ipynb\"><img src=\"../../common/977cc67717328e22c93f8ab84e6a45e8cadce7790/expr.png\" style=\"display:inline;vertical-align:middle;\" /></a></td></tr>\n",
       "<tr><td>40</td><td>Literal</td><td></td><td><a class=\"ProveItLink\" href=\"../../common/86e7e654c47d905411cdcd594557bc54ff0937170/expr.ipynb\"><img src=\"../../common/86e7e654c47d905411cdcd594557bc54ff0937170/expr.png\" style=\"display:inline;vertical-align:middle;\" /></a></td></tr>\n",
       "</table>\n"
      ],
      "text/plain": [
       "0. ((1 / 2^{t}) * ((1 - e^{2 * pi * i * delta_{b_{r}} * 2^{t}}) / (1 - e^{2 * pi * i * delta_{b_{r}}})), Complex)\n",
       "   core type: ExprTuple\n",
       "   sub-expressions: 1, 2\n",
       "1. (1 / 2^{t}) * ((1 - e^{2 * pi * i * delta_{b_{r}} * 2^{t}}) / (1 - e^{2 * pi * i * delta_{b_{r}}}))\n",
       "   core type: Operation\n",
       "   operator: 28\n",
       "   operands: 3\n",
       "2. Complex\n",
       "   core type: Literal\n",
       "   sub-expressions: \n",
       "3. (1 / 2^{t}, (1 - e^{2 * pi * i * delta_{b_{r}} * 2^{t}}) / (1 - e^{2 * pi * i * delta_{b_{r}}}))\n",
       "   core type: ExprTuple\n",
       "   sub-expressions: 4, 5\n",
       "4. 1 / 2^{t}\n",
       "   core type: Operation\n",
       "   operator: 7\n",
       "   operands: 6\n",
       "5. (1 - e^{2 * pi * i * delta_{b_{r}} * 2^{t}}) / (1 - e^{2 * pi * i * delta_{b_{r}}})\n",
       "   core type: Operation\n",
       "   operator: 7\n",
       "   operands: 8\n",
       "6. (1, 2^{t})\n",
       "   core type: ExprTuple\n",
       "   sub-expressions: 15, 30\n",
       "7. /\n",
       "   core type: Literal\n",
       "   sub-expressions: \n",
       "8. (1 - e^{2 * pi * i * delta_{b_{r}} * 2^{t}}, 1 - e^{2 * pi * i * delta_{b_{r}}})\n",
       "   core type: ExprTuple\n",
       "   sub-expressions: 9, 10\n",
       "9. 1 - e^{2 * pi * i * delta_{b_{r}} * 2^{t}}\n",
       "   core type: Operation\n",
       "   operator: 12\n",
       "   operands: 11\n",
       "10. 1 - e^{2 * pi * i * delta_{b_{r}}}\n",
       "    core type: Operation\n",
       "    operator: 12\n",
       "    operands: 13\n",
       "11. (1, -e^{2 * pi * i * delta_{b_{r}} * 2^{t}})\n",
       "    core type: ExprTuple\n",
       "    sub-expressions: 15, 14\n",
       "12. +\n",
       "    core type: Literal\n",
       "    sub-expressions: \n",
       "13. (1, -e^{2 * pi * i * delta_{b_{r}}})\n",
       "    core type: ExprTuple\n",
       "    sub-expressions: 15, 16\n",
       "14. -e^{2 * pi * i * delta_{b_{r}} * 2^{t}}\n",
       "    core type: Operation\n",
       "    operator: 18\n",
       "    operand: 20\n",
       "15. 1\n",
       "    core type: Literal\n",
       "    sub-expressions: \n",
       "16. -e^{2 * pi * i * delta_{b_{r}}}\n",
       "    core type: Operation\n",
       "    operator: 18\n",
       "    operand: 21\n",
       "17. (e^{2 * pi * i * delta_{b_{r}} * 2^{t}})\n",
       "    core type: ExprTuple\n",
       "    sub-expressions: 20\n",
       "18. -\n",
       "    core type: Literal\n",
       "    sub-expressions: \n",
       "19. (e^{2 * pi * i * delta_{b_{r}}})\n",
       "    core type: ExprTuple\n",
       "    sub-expressions: 21\n",
       "20. e^{2 * pi * i * delta_{b_{r}} * 2^{t}}\n",
       "    core type: Operation\n",
       "    operator: 34\n",
       "    operands: 22\n",
       "21. e^{2 * pi * i * delta_{b_{r}}}\n",
       "    core type: Operation\n",
       "    operator: 34\n",
       "    operands: 23\n",
       "22. (e, 2 * pi * i * delta_{b_{r}} * 2^{t})\n",
       "    core type: ExprTuple\n",
       "    sub-expressions: 25, 24\n",
       "23. (e, 2 * pi * i * delta_{b_{r}})\n",
       "    core type: ExprTuple\n",
       "    sub-expressions: 25, 26\n",
       "24. 2 * pi * i * delta_{b_{r}} * 2^{t}\n",
       "    core type: Operation\n",
       "    operator: 28\n",
       "    operands: 27\n",
       "25. e\n",
       "    core type: Literal\n",
       "    sub-expressions: \n",
       "26. 2 * pi * i * delta_{b_{r}}\n",
       "    core type: Operation\n",
       "    operator: 28\n",
       "    operands: 29\n",
       "27. (2, pi, i, delta_{b_{r}}, 2^{t})\n",
       "    core type: ExprTuple\n",
       "    sub-expressions: 38, 31, 32, 33, 30\n",
       "28. *\n",
       "    core type: Literal\n",
       "    sub-expressions: \n",
       "29. (2, pi, i, delta_{b_{r}})\n",
       "    core type: ExprTuple\n",
       "    sub-expressions: 38, 31, 32, 33\n",
       "30. 2^{t}\n",
       "    core type: Operation\n",
       "    operator: 34\n",
       "    operands: 35\n",
       "31. pi\n",
       "    core type: Literal\n",
       "    sub-expressions: \n",
       "32. i\n",
       "    core type: Literal\n",
       "    sub-expressions: \n",
       "33. delta_{b_{r}}\n",
       "    core type: Operation\n",
       "    operator: 36\n",
       "    operand: 40\n",
       "34. Exp\n",
       "    core type: Literal\n",
       "    sub-expressions: \n",
       "35. (2, t)\n",
       "    core type: ExprTuple\n",
       "    sub-expressions: 38, 39\n",
       "36. delta\n",
       "    core type: Literal\n",
       "    sub-expressions: \n",
       "37. (b_{r})\n",
       "    core type: ExprTuple\n",
       "    sub-expressions: 40\n",
       "38. 2\n",
       "    core type: Literal\n",
       "    sub-expressions: \n",
       "39. t\n",
       "    core type: Literal\n",
       "    sub-expressions: \n",
       "40. b_{r}\n",
       "    core type: Literal\n",
       "    sub-expressions: "
      ]
     },
     "metadata": {},
     "output_type": "display_data"
    }
   ],
   "source": [
    "# display the expression information\n",
    "stored_expr.expr_info()"
   ]
  },
  {
   "cell_type": "code",
   "execution_count": null,
   "metadata": {},
   "outputs": [],
   "source": []
  }
 ],
 "metadata": {
  "kernelspec": {
   "display_name": "Python 3",
   "language": "python",
   "name": "python3"
  }
 },
 "nbformat": 4,
 "nbformat_minor": 0
}