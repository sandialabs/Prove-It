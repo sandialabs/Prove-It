{
 "cells": [
  {
   "cell_type": "markdown",
   "metadata": {},
   "source": [
    "Expression of type <a class=\"ProveItLink\" href=\"../../../../../../../../doc/html/api/proveit.numbers.Div.html\">Div</a>\n",
    "=======================\n",
    "# from the theory of <a class=\"ProveItLink\" href=\"../../../_theory_nbs_/theory.ipynb\">proveit.physics.quantum.QPE</a>"
   ]
  },
  {
   "cell_type": "code",
   "execution_count": 1,
   "metadata": {},
   "outputs": [],
   "source": [
    "import proveit\n",
    "# Automation is not needed when building an expression:\n",
    "proveit.defaults.automation = False # This will speed things up.\n",
    "proveit.defaults.inline_pngs = False # Makes files smaller.\n",
    "%load_expr # Load the stored expression as 'stored_expr'\n",
    "# import Expression classes needed to build the expression\n",
    "from proveit.numbers import Abs, Mult, frac, pi, two\n",
    "from proveit.physics.quantum.QPE import _delta_b_round"
   ]
  },
  {
   "cell_type": "code",
   "execution_count": 2,
   "metadata": {},
   "outputs": [
    {
     "data": {
      "text/html": [
       "<strong id=\"expr\">expr:</strong> <a class=\"ProveItLink\" href=\"expr.ipynb\"><img src=\"expr.png\" style=\"display:inline;vertical-align:middle;\" /></a><br>"
      ],
      "text/plain": [
       "<IPython.core.display.HTML object>"
      ]
     },
     "metadata": {},
     "output_type": "display_data"
    }
   ],
   "source": [
    "# build up the expression from sub-expressions\n",
    "expr = frac(Mult(two, Mult(pi, Abs(_delta_b_round))), two)"
   ]
  },
  {
   "cell_type": "code",
   "execution_count": 3,
   "metadata": {},
   "outputs": [
    {
     "name": "stdout",
     "output_type": "stream",
     "text": [
      "Passed sanity check: expr matches stored_expr\n"
     ]
    }
   ],
   "source": [
    "# check that the built expression is the same as the stored expression\n",
    "assert expr == stored_expr\n",
    "assert expr._style_id == stored_expr._style_id\n",
    "print(\"Passed sanity check: expr matches stored_expr\")"
   ]
  },
  {
   "cell_type": "code",
   "execution_count": 4,
   "metadata": {},
   "outputs": [
    {
     "name": "stdout",
     "output_type": "stream",
     "text": [
      "\\frac{2 \\cdot \\left(\\pi \\cdot \\left|\\delta_{b_{\\textit{r}}}\\right|\\right)}{2}\n"
     ]
    }
   ],
   "source": [
    "# Show the LaTeX representation of the expression for convenience if you need it.\n",
    "print(stored_expr.latex())"
   ]
  },
  {
   "cell_type": "code",
   "execution_count": 5,
   "metadata": {},
   "outputs": [
    {
     "data": {
      "text/html": [
       "<table>\n",
       "<tr><th>name</th><th>description</th><th>default</th><th>current value</th><th>related methods</th></tr><tr><td>operation</td><td>'infix' or 'function' style formatting</td><td>infix</td><td>infix</td><td></td></tr>\n",
       "<tr><td>wrap_positions</td><td>position(s) at which wrapping is to occur; '2 n - 1' is after the nth operand, '2 n' is after the nth operation.</td><td>()</td><td>()</td><td>('with_wrapping_at', 'with_wrap_before_operator', 'with_wrap_after_operator', 'without_wrapping', 'wrap_positions')</td></tr>\n",
       "<tr><td>justification</td><td>if any wrap positions are set, justify to the 'left', 'center', or 'right'</td><td>center</td><td>center</td><td>('with_justification',)</td></tr>\n",
       "<tr><td>division</td><td>'inline': uses '/'; 'fraction': numerator over the denominator (also see 'frac' function)</td><td>fraction</td><td>fraction</td><td>('with_inline_style', 'with_fraction_style')</td></tr>\n",
       "</table>\n"
      ],
      "text/plain": [
       "style name: operation\n",
       "description: 'infix' or 'function' style formatting\n",
       "default: infix\n",
       "current value: infix\n",
       "related methods: ()\n",
       "style name: wrap_positions\n",
       "description: position(s) at which wrapping is to occur; '2 n - 1' is after the nth operand, '2 n' is after the nth operation.\n",
       "default: ()\n",
       "current value: ()\n",
       "related methods: ('with_wrapping_at', 'with_wrap_before_operator', 'with_wrap_after_operator', 'without_wrapping', 'wrap_positions')\n",
       "style name: justification\n",
       "description: if any wrap positions are set, justify to the 'left', 'center', or 'right'\n",
       "default: center\n",
       "current value: center\n",
       "related methods: ('with_justification',)\n",
       "style name: division\n",
       "description: 'inline': uses '/'; 'fraction': numerator over the denominator (also see 'frac' function)\n",
       "default: fraction\n",
       "current value: fraction\n",
       "related methods: ('with_inline_style', 'with_fraction_style')"
      ]
     },
     "metadata": {},
     "output_type": "display_data"
    }
   ],
   "source": [
    "stored_expr.style_options()"
   ]
  },
  {
   "cell_type": "code",
   "execution_count": 6,
   "metadata": {},
   "outputs": [
    {
     "data": {
      "text/html": [
       "<table><tr><th>&nbsp;</th><th>core type</th><th>sub-expressions</th><th>expression</th></tr>\n",
       "<tr><td>0</td><td>Operation</td><td>operator:&nbsp;1<br>operands:&nbsp;2<br></td><td><a class=\"ProveItLink\" href=\"expr.ipynb\"><img src=\"expr.png\" style=\"display:inline;vertical-align:middle;\" /></a></td></tr>\n",
       "<tr><td>1</td><td>Literal</td><td></td><td><a class=\"ProveItLink\" href=\"../../../../../../numbers/division/__pv_it/common/a2a633e1e3c749fb1f2692466b287b6348c5de840/expr.ipynb\"><img src=\"../../../../../../numbers/division/__pv_it/common/a2a633e1e3c749fb1f2692466b287b6348c5de840/expr.png\" style=\"display:inline;vertical-align:middle;\" /></a></td></tr>\n",
       "<tr><td>2</td><td>ExprTuple</td><td>3, 5</td><td><a class=\"ProveItLink\" href=\"../f103e0787ad842ea20be5ff518075a01d11f8eb80/expr.ipynb\"><img src=\"../f103e0787ad842ea20be5ff518075a01d11f8eb80/expr.png\" style=\"display:inline;vertical-align:middle;\" /></a></td></tr>\n",
       "<tr><td>3</td><td>Operation</td><td>operator:&nbsp;7<br>operands:&nbsp;4<br></td><td><a class=\"ProveItLink\" href=\"../8b5c2b3e3b1d021490d99ac1b755704794cd20b90/expr.ipynb\"><img src=\"../8b5c2b3e3b1d021490d99ac1b755704794cd20b90/expr.png\" style=\"display:inline;vertical-align:middle;\" /></a></td></tr>\n",
       "<tr><td>4</td><td>ExprTuple</td><td>5, 6</td><td><a class=\"ProveItLink\" href=\"../41334bb554011b4ceff46c3d78a09c3b3a42971d0/expr.ipynb\"><img src=\"../41334bb554011b4ceff46c3d78a09c3b3a42971d0/expr.png\" style=\"display:inline;vertical-align:middle;\" /></a></td></tr>\n",
       "<tr><td>5</td><td>Literal</td><td></td><td><a class=\"ProveItLink\" href=\"../../../../../../numbers/numerals/__pv_it/common/af4aab8a07465db063742696e006d04670f30cf10/expr.ipynb\"><img src=\"../../../../../../numbers/numerals/__pv_it/common/af4aab8a07465db063742696e006d04670f30cf10/expr.png\" style=\"display:inline;vertical-align:middle;\" /></a></td></tr>\n",
       "<tr><td>6</td><td>Operation</td><td>operator:&nbsp;7<br>operands:&nbsp;8<br></td><td><a class=\"ProveItLink\" href=\"../c866f3cb7eed252f48431e7c0f2dc7629d38a5e50/expr.ipynb\"><img src=\"../c866f3cb7eed252f48431e7c0f2dc7629d38a5e50/expr.png\" style=\"display:inline;vertical-align:middle;\" /></a></td></tr>\n",
       "<tr><td>7</td><td>Literal</td><td></td><td><a class=\"ProveItLink\" href=\"../../../../../../numbers/multiplication/__pv_it/common/ed719cef37831779c16481533a4d380a2f95ab270/expr.ipynb\"><img src=\"../../../../../../numbers/multiplication/__pv_it/common/ed719cef37831779c16481533a4d380a2f95ab270/expr.png\" style=\"display:inline;vertical-align:middle;\" /></a></td></tr>\n",
       "<tr><td>8</td><td>ExprTuple</td><td>9, 10</td><td><a class=\"ProveItLink\" href=\"../468bdd87603b405d1b2260abec65b20cb3da448e0/expr.ipynb\"><img src=\"../468bdd87603b405d1b2260abec65b20cb3da448e0/expr.png\" style=\"display:inline;vertical-align:middle;\" /></a></td></tr>\n",
       "<tr><td>9</td><td>Literal</td><td></td><td><a class=\"ProveItLink\" href=\"../../../../../../numbers/number_sets/real_numbers/__pv_it/common/246c206266ac5b48800e508d580f91767b24c2df0/expr.ipynb\"><img src=\"../../../../../../numbers/number_sets/real_numbers/__pv_it/common/246c206266ac5b48800e508d580f91767b24c2df0/expr.png\" style=\"display:inline;vertical-align:middle;\" /></a></td></tr>\n",
       "<tr><td>10</td><td>Operation</td><td>operator:&nbsp;11<br>operand:&nbsp;13<br></td><td><a class=\"ProveItLink\" href=\"../3fd8f4d6a654cc059b1c7affb2819c7b84cb1a840/expr.ipynb\"><img src=\"../3fd8f4d6a654cc059b1c7affb2819c7b84cb1a840/expr.png\" style=\"display:inline;vertical-align:middle;\" /></a></td></tr>\n",
       "<tr><td>11</td><td>Literal</td><td></td><td><a class=\"ProveItLink\" href=\"../../../../../../numbers/absolute_value/__pv_it/common/eea56c667bc0aad2dc76ed04b44c2bd98b94005f0/expr.ipynb\"><img src=\"../../../../../../numbers/absolute_value/__pv_it/common/eea56c667bc0aad2dc76ed04b44c2bd98b94005f0/expr.png\" style=\"display:inline;vertical-align:middle;\" /></a></td></tr>\n",
       "<tr><td>12</td><td>ExprTuple</td><td>13</td><td><a class=\"ProveItLink\" href=\"../409aed67bf6166d84ec6a1cf45667289138d01040/expr.ipynb\"><img src=\"../409aed67bf6166d84ec6a1cf45667289138d01040/expr.png\" style=\"display:inline;vertical-align:middle;\" /></a></td></tr>\n",
       "<tr><td>13</td><td>Operation</td><td>operator:&nbsp;14<br>operand:&nbsp;16<br></td><td><a class=\"ProveItLink\" href=\"../../common/93b4b357c7ea9925c01c6e53d70b20d73fd980210/expr.ipynb\"><img src=\"../../common/93b4b357c7ea9925c01c6e53d70b20d73fd980210/expr.png\" style=\"display:inline;vertical-align:middle;\" /></a></td></tr>\n",
       "<tr><td>14</td><td>Literal</td><td></td><td><a class=\"ProveItLink\" href=\"../../common/d6b97444617188a78c398568a10ac4dbe1ffa6590/expr.ipynb\"><img src=\"../../common/d6b97444617188a78c398568a10ac4dbe1ffa6590/expr.png\" style=\"display:inline;vertical-align:middle;\" /></a></td></tr>\n",
       "<tr><td>15</td><td>ExprTuple</td><td>16</td><td><a class=\"ProveItLink\" href=\"../../common/986d22a1f3e6539fc38b57b344c7cef4a465933c0/expr.ipynb\"><img src=\"../../common/986d22a1f3e6539fc38b57b344c7cef4a465933c0/expr.png\" style=\"display:inline;vertical-align:middle;\" /></a></td></tr>\n",
       "<tr><td>16</td><td>Literal</td><td></td><td><a class=\"ProveItLink\" href=\"../../common/86e7e654c47d905411cdcd594557bc54ff0937170/expr.ipynb\"><img src=\"../../common/86e7e654c47d905411cdcd594557bc54ff0937170/expr.png\" style=\"display:inline;vertical-align:middle;\" /></a></td></tr>\n",
       "</table>\n"
      ],
      "text/plain": [
       "0. (2 * (pi * |delta_{b_{r}}|)) / 2\n",
       "   core type: Operation\n",
       "   operator: 1\n",
       "   operands: 2\n",
       "1. /\n",
       "   core type: Literal\n",
       "   sub-expressions: \n",
       "2. (2 * (pi * |delta_{b_{r}}|), 2)\n",
       "   core type: ExprTuple\n",
       "   sub-expressions: 3, 5\n",
       "3. 2 * (pi * |delta_{b_{r}}|)\n",
       "   core type: Operation\n",
       "   operator: 7\n",
       "   operands: 4\n",
       "4. (2, pi * |delta_{b_{r}}|)\n",
       "   core type: ExprTuple\n",
       "   sub-expressions: 5, 6\n",
       "5. 2\n",
       "   core type: Literal\n",
       "   sub-expressions: \n",
       "6. pi * |delta_{b_{r}}|\n",
       "   core type: Operation\n",
       "   operator: 7\n",
       "   operands: 8\n",
       "7. *\n",
       "   core type: Literal\n",
       "   sub-expressions: \n",
       "8. (pi, |delta_{b_{r}}|)\n",
       "   core type: ExprTuple\n",
       "   sub-expressions: 9, 10\n",
       "9. pi\n",
       "   core type: Literal\n",
       "   sub-expressions: \n",
       "10. |delta_{b_{r}}|\n",
       "    core type: Operation\n",
       "    operator: 11\n",
       "    operand: 13\n",
       "11. Abs\n",
       "    core type: Literal\n",
       "    sub-expressions: \n",
       "12. (delta_{b_{r}})\n",
       "    core type: ExprTuple\n",
       "    sub-expressions: 13\n",
       "13. delta_{b_{r}}\n",
       "    core type: Operation\n",
       "    operator: 14\n",
       "    operand: 16\n",
       "14. delta\n",
       "    core type: Literal\n",
       "    sub-expressions: \n",
       "15. (b_{r})\n",
       "    core type: ExprTuple\n",
       "    sub-expressions: 16\n",
       "16. b_{r}\n",
       "    core type: Literal\n",
       "    sub-expressions: "
      ]
     },
     "metadata": {},
     "output_type": "display_data"
    }
   ],
   "source": [
    "# display the expression information\n",
    "stored_expr.expr_info()"
   ]
  },
  {
   "cell_type": "code",
   "execution_count": null,
   "metadata": {},
   "outputs": [],
   "source": []
  }
 ],
 "metadata": {
  "kernelspec": {
   "display_name": "Python 3",
   "language": "python",
   "name": "python3"
  }
 },
 "nbformat": 4,
 "nbformat_minor": 0
}