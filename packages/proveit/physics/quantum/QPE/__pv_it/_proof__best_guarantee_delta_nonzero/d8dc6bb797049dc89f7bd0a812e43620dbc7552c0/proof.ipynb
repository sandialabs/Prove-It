{
 "cells": [
  {
   "cell_type": "markdown",
   "metadata": {},
   "source": [
    "Show the Proof\n",
    "========"
   ]
  },
  {
   "cell_type": "code",
   "execution_count": 1,
   "metadata": {},
   "outputs": [
    {
     "data": {
      "text/html": [
       "<table><tr><th>&nbsp;</th><th>step type</th><th>requirements</th><th>statement</th></tr>\n",
       "<tr><td><a name=\"proveit.physics.quantum.QPE._proof__best_guarantee_delta_nonzero.d8dc6bb797049dc89f7bd0a812e43620dbc7552c0_step0\">0</a></td><td>instantiation</td><td><a href=\"#proveit.physics.quantum.QPE._proof__best_guarantee_delta_nonzero.d8dc6bb797049dc89f7bd0a812e43620dbc7552c0_step1\">1</a>, <a href=\"#proveit.physics.quantum.QPE._proof__best_guarantee_delta_nonzero.d8dc6bb797049dc89f7bd0a812e43620dbc7552c0_step2\">2</a></td><td><span style=\"font-size:20px;\"> <a class=\"ProveItLink\" href=\"proof.ipynb\" style=\"text-decoration: none\">&nbsp;&#x22A2;&nbsp;&nbsp;</a><a class=\"ProveItLink\" href=\"../bc829b6e73aa2dec3513c77a3420b2d634d6807b0/expr.ipynb\"><img src=\"../bc829b6e73aa2dec3513c77a3420b2d634d6807b0/expr.png\" style=\"display:inline;vertical-align:middle;\" /></a></span></td></tr>\n",
       "<tr><td>&nbsp;</td><td colspan=4 style=\"text-align:left\"><span style=\"font-size:20px;\"><a class=\"ProveItLink\" href=\"../../../../../../__pv_it/common/674a03b9c3ca221b3aabd5636837b31528ff33830/expr.ipynb\"><img src=\"../../../../../../__pv_it/common/674a03b9c3ca221b3aabd5636837b31528ff33830/expr.png\" style=\"display:inline;vertical-align:middle;\" /></a> : <a class=\"ProveItLink\" href=\"../../theorems/f48b8cb9e3740a250d050cd6d7873b4ef7c573490/expr.ipynb\"><img src=\"../../theorems/f48b8cb9e3740a250d050cd6d7873b4ef7c573490/expr.png\" style=\"display:inline;vertical-align:middle;\" /></a></span></td></tr><tr><td><a name=\"proveit.physics.quantum.QPE._proof__best_guarantee_delta_nonzero.d8dc6bb797049dc89f7bd0a812e43620dbc7552c0_step1\">1</a></td><td>theorem</td><td></td><td><span style=\"font-size:20px;\"> <a class=\"ProveItLink\" href=\"../../../_theory_nbs_/proofs/_alpha_are_complex/thm_proof.ipynb\" style=\"text-decoration: none\">&nbsp;&#x22A2;&nbsp;&nbsp;</a><a class=\"ProveItLink\" href=\"../../theorems/eb5178402837bb8ca3c45bff2742a7517b41d5d90/expr.ipynb\"><img src=\"../../theorems/eb5178402837bb8ca3c45bff2742a7517b41d5d90/expr.png\" style=\"display:inline;vertical-align:middle;\" /></a></span></td></tr>\n",
       "<tr><td>&nbsp;</td><td colspan=4 style-\"text-align:left\"><a class=\"ProveItLink\" href=\"../../../_theory_nbs_/proofs/_alpha_are_complex/thm_proof.ipynb\">proveit.physics.quantum.QPE._alpha_are_complex</a></td></tr><tr><td><a name=\"proveit.physics.quantum.QPE._proof__best_guarantee_delta_nonzero.d8dc6bb797049dc89f7bd0a812e43620dbc7552c0_step2\">2</a></td><td>instantiation</td><td><a href=\"#proveit.physics.quantum.QPE._proof__best_guarantee_delta_nonzero.d8dc6bb797049dc89f7bd0a812e43620dbc7552c0_step3\">3</a>, <a href=\"#proveit.physics.quantum.QPE._proof__best_guarantee_delta_nonzero.d8dc6bb797049dc89f7bd0a812e43620dbc7552c0_step4\">4</a>, <a href=\"#proveit.physics.quantum.QPE._proof__best_guarantee_delta_nonzero.d8dc6bb797049dc89f7bd0a812e43620dbc7552c0_step5\">5</a></td><td><span style=\"font-size:20px;\"> <a class=\"ProveItLink\" href=\"../dd7a8e789dcc6785a846f7be83e1df2b88b998a10/proof.ipynb\" style=\"text-decoration: none\">&nbsp;&#x22A2;&nbsp;&nbsp;</a><a class=\"ProveItLink\" href=\"../91d896575422cc6269f0d0c9f9b4c430f187ecff0/expr.ipynb\"><img src=\"../91d896575422cc6269f0d0c9f9b4c430f187ecff0/expr.png\" style=\"display:inline;vertical-align:middle;\" /></a></span></td></tr>\n",
       "<tr><td>&nbsp;</td><td colspan=4 style=\"text-align:left\"><span style=\"font-size:20px;\"><a class=\"ProveItLink\" href=\"../../../../../../__pv_it/common/c06c606ec12678c58933ac85412ecadc2ae28be60/expr.ipynb\"><img src=\"../../../../../../__pv_it/common/c06c606ec12678c58933ac85412ecadc2ae28be60/expr.png\" style=\"display:inline;vertical-align:middle;\" /></a> : <a class=\"ProveItLink\" href=\"../../common/86e7e654c47d905411cdcd594557bc54ff0937170/expr.ipynb\"><img src=\"../../common/86e7e654c47d905411cdcd594557bc54ff0937170/expr.png\" style=\"display:inline;vertical-align:middle;\" /></a>, <a class=\"ProveItLink\" href=\"../../../../../../__pv_it/common/195236b98c6c564a75b5dbada74b173bc52d5c3e0/expr.ipynb\"><img src=\"../../../../../../__pv_it/common/195236b98c6c564a75b5dbada74b173bc52d5c3e0/expr.png\" style=\"display:inline;vertical-align:middle;\" /></a> : <a class=\"ProveItLink\" href=\"../../common/18332e4e627d64eadf0d81efed19ae3e9d007d510/expr.ipynb\"><img src=\"../../common/18332e4e627d64eadf0d81efed19ae3e9d007d510/expr.png\" style=\"display:inline;vertical-align:middle;\" /></a></span></td></tr><tr><td><a name=\"proveit.physics.quantum.QPE._proof__best_guarantee_delta_nonzero.d8dc6bb797049dc89f7bd0a812e43620dbc7552c0_step3\">3</a></td><td>theorem</td><td></td><td><span style=\"font-size:20px;\"> <a class=\"ProveItLink\" href=\"../../../../../../numbers/modular/_theory_nbs_/proofs/mod_natpos_in_interval/thm_proof.ipynb\" style=\"text-decoration: none\">&nbsp;&#x22A2;&nbsp;&nbsp;</a><a class=\"ProveItLink\" href=\"../../../../../../numbers/modular/__pv_it/theorems/d7344fa6d9a26ffb302a69dffba8327819dd13850/expr.ipynb\"><img src=\"../../../../../../numbers/modular/__pv_it/theorems/d7344fa6d9a26ffb302a69dffba8327819dd13850/expr.png\" style=\"display:inline;vertical-align:middle;\" /></a></span></td></tr>\n",
       "<tr><td>&nbsp;</td><td colspan=4 style-\"text-align:left\"><a class=\"ProveItLink\" href=\"../../../../../../numbers/modular/_theory_nbs_/proofs/mod_natpos_in_interval/thm_proof.ipynb\">proveit.numbers.modular.mod_natpos_in_interval</a></td></tr><tr><td><a name=\"proveit.physics.quantum.QPE._proof__best_guarantee_delta_nonzero.d8dc6bb797049dc89f7bd0a812e43620dbc7552c0_step4\">4</a></td><td>theorem</td><td></td><td><span style=\"font-size:20px;\"> <a class=\"ProveItLink\" href=\"../../../_theory_nbs_/proofs/_best_round_is_int/thm_proof.ipynb\" style=\"text-decoration: none\">&nbsp;&#x22A2;&nbsp;&nbsp;</a><a class=\"ProveItLink\" href=\"../../theorems/c12acbee0bd507d9af1816764a5c0d2ddf91c1e60/expr.ipynb\"><img src=\"../../theorems/c12acbee0bd507d9af1816764a5c0d2ddf91c1e60/expr.png\" style=\"display:inline;vertical-align:middle;\" /></a></span></td></tr>\n",
       "<tr><td>&nbsp;</td><td colspan=4 style-\"text-align:left\"><a class=\"ProveItLink\" href=\"../../../_theory_nbs_/proofs/_best_round_is_int/thm_proof.ipynb\">proveit.physics.quantum.QPE._best_round_is_int</a></td></tr><tr><td><a name=\"proveit.physics.quantum.QPE._proof__best_guarantee_delta_nonzero.d8dc6bb797049dc89f7bd0a812e43620dbc7552c0_step5\">5</a></td><td>theorem</td><td></td><td><span style=\"font-size:20px;\"> <a class=\"ProveItLink\" href=\"../../../_theory_nbs_/proofs/_two_pow_t_is_nat_pos/thm_proof.ipynb\" style=\"text-decoration: none\">&nbsp;&#x22A2;&nbsp;&nbsp;</a><a class=\"ProveItLink\" href=\"../../theorems/a2ce7dd1709eee58d9638162058f196f35f493ea0/expr.ipynb\"><img src=\"../../theorems/a2ce7dd1709eee58d9638162058f196f35f493ea0/expr.png\" style=\"display:inline;vertical-align:middle;\" /></a></span></td></tr>\n",
       "<tr><td>&nbsp;</td><td colspan=4 style-\"text-align:left\"><a class=\"ProveItLink\" href=\"../../../_theory_nbs_/proofs/_two_pow_t_is_nat_pos/thm_proof.ipynb\">proveit.physics.quantum.QPE._two_pow_t_is_nat_pos</a></td></tr></table>"
      ],
      "text/plain": [
       "<proveit._core_.proof._ShowProof at 0x7f0c714d3668>"
      ]
     },
     "execution_count": 1,
     "metadata": {},
     "output_type": "execute_result"
    }
   ],
   "source": [
    "import proveit\n",
    "# Automation is not needed when only showing a stored proof:\n",
    "proveit.defaults.automation = False # This will speed things up.\n",
    "proveit.defaults.inline_pngs = False # Makes files smaller.\n",
    "%show_proof"
   ]
  },
  {
   "cell_type": "code",
   "execution_count": null,
   "metadata": {},
   "outputs": [],
   "source": []
  }
 ],
 "metadata": {
  "kernelspec": {
   "display_name": "Python 3",
   "language": "python",
   "name": "python3"
  }
 },
 "nbformat": 4,
 "nbformat_minor": 0
}