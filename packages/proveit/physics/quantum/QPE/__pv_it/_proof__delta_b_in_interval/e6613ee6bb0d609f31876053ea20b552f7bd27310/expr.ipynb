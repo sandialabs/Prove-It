{
 "cells": [
  {
   "cell_type": "markdown",
   "metadata": {},
   "source": [
    "Expression of type <a class=\"ProveItLink\" href=\"../../../../../../../../doc/html/api/proveit.ExprTuple.html\">ExprTuple</a>\n",
    "=======================\n",
    "# from the theory of <a class=\"ProveItLink\" href=\"../../../_theory_nbs_/theory.ipynb\">proveit.physics.quantum.QPE</a>"
   ]
  },
  {
   "cell_type": "code",
   "execution_count": 1,
   "metadata": {},
   "outputs": [],
   "source": [
    "import proveit\n",
    "# Automation is not needed when building an expression:\n",
    "proveit.defaults.automation = False # This will speed things up.\n",
    "proveit.defaults.inline_pngs = False # Makes files smaller.\n",
    "%load_expr # Load the stored expression as 'stored_expr'\n",
    "# import Expression classes needed to build the expression\n",
    "from proveit import ExprTuple\n",
    "from proveit.numbers import Add, Exp, Mult, Neg, four, frac, one, subtract, two\n",
    "from proveit.physics.quantum.QPE import _t, _two_pow_t"
   ]
  },
  {
   "cell_type": "code",
   "execution_count": 2,
   "metadata": {},
   "outputs": [
    {
     "data": {
      "text/html": [
       "<strong id=\"expr\">expr:</strong> <a class=\"ProveItLink\" href=\"expr.ipynb\"><img src=\"expr.png\" style=\"display:inline;vertical-align:middle;\" /></a><br>"
      ],
      "text/plain": [
       "<IPython.core.display.HTML object>"
      ]
     },
     "metadata": {},
     "output_type": "display_data"
    }
   ],
   "source": [
    "# build up the expression from sub-expressions\n",
    "sub_expr1 = frac(one, two)\n",
    "sub_expr2 = Neg(sub_expr1)\n",
    "expr = ExprTuple(Add(Add(Mult(sub_expr1, sub_expr1), frac(one, four)), subtract(sub_expr2, Mult(sub_expr1, frac(one, _two_pow_t)))), Add(sub_expr1, subtract(sub_expr2, Mult(sub_expr1, Exp(two, Neg(_t))))))"
   ]
  },
  {
   "cell_type": "code",
   "execution_count": 3,
   "metadata": {},
   "outputs": [
    {
     "name": "stdout",
     "output_type": "stream",
     "text": [
      "Passed sanity check: expr matches stored_expr\n"
     ]
    }
   ],
   "source": [
    "# check that the built expression is the same as the stored expression\n",
    "assert expr == stored_expr\n",
    "assert expr._style_id == stored_expr._style_id\n",
    "print(\"Passed sanity check: expr matches stored_expr\")"
   ]
  },
  {
   "cell_type": "code",
   "execution_count": 4,
   "metadata": {},
   "outputs": [
    {
     "name": "stdout",
     "output_type": "stream",
     "text": [
      "\\left(\\left(\\left(\\frac{1}{2} \\cdot \\frac{1}{2}\\right) + \\frac{1}{4}\\right) + \\left(-\\frac{1}{2} - \\left(\\frac{1}{2} \\cdot \\frac{1}{2^{t}}\\right)\\right), \\frac{1}{2} + \\left(-\\frac{1}{2} - \\left(\\frac{1}{2} \\cdot 2^{-t}\\right)\\right)\\right)\n"
     ]
    }
   ],
   "source": [
    "# Show the LaTeX representation of the expression for convenience if you need it.\n",
    "print(stored_expr.latex())"
   ]
  },
  {
   "cell_type": "code",
   "execution_count": 5,
   "metadata": {},
   "outputs": [
    {
     "data": {
      "text/html": [
       "<table>\n",
       "<tr><th>name</th><th>description</th><th>default</th><th>current value</th><th>related methods</th></tr><tr><td>wrap_positions</td><td>position(s) at which wrapping is to occur; 'n' is after the nth comma.</td><td>()</td><td>()</td><td>('with_wrapping_at',)</td></tr>\n",
       "<tr><td>justification</td><td>if any wrap positions are set, justify to the 'left', 'center', or 'right'</td><td>left</td><td>left</td><td>('with_justification',)</td></tr>\n",
       "</table>\n"
      ],
      "text/plain": [
       "style name: wrap_positions\n",
       "description: position(s) at which wrapping is to occur; 'n' is after the nth comma.\n",
       "default: ()\n",
       "current value: ()\n",
       "related methods: ('with_wrapping_at',)\n",
       "style name: justification\n",
       "description: if any wrap positions are set, justify to the 'left', 'center', or 'right'\n",
       "default: left\n",
       "current value: left\n",
       "related methods: ('with_justification',)"
      ]
     },
     "metadata": {},
     "output_type": "display_data"
    }
   ],
   "source": [
    "stored_expr.style_options()"
   ]
  },
  {
   "cell_type": "code",
   "execution_count": 6,
   "metadata": {},
   "outputs": [
    {
     "data": {
      "text/html": [
       "<table><tr><th>&nbsp;</th><th>core type</th><th>sub-expressions</th><th>expression</th></tr>\n",
       "<tr><td>0</td><td>ExprTuple</td><td>1, 2</td><td><a class=\"ProveItLink\" href=\"expr.ipynb\"><img src=\"expr.png\" style=\"display:inline;vertical-align:middle;\" /></a></td></tr>\n",
       "<tr><td>1</td><td>Operation</td><td>operator:&nbsp;10<br>operands:&nbsp;3<br></td><td><a class=\"ProveItLink\" href=\"../f45e2a14dadfa18bcd3dc45b02a36d76f8c4adfa0/expr.ipynb\"><img src=\"../f45e2a14dadfa18bcd3dc45b02a36d76f8c4adfa0/expr.png\" style=\"display:inline;vertical-align:middle;\" /></a></td></tr>\n",
       "<tr><td>2</td><td>Operation</td><td>operator:&nbsp;10<br>operands:&nbsp;4<br></td><td><a class=\"ProveItLink\" href=\"../156c0e1b5ff700d6be9d035997dcf42c9177d6fe0/expr.ipynb\"><img src=\"../156c0e1b5ff700d6be9d035997dcf42c9177d6fe0/expr.png\" style=\"display:inline;vertical-align:middle;\" /></a></td></tr>\n",
       "<tr><td>3</td><td>ExprTuple</td><td>5, 6</td><td><a class=\"ProveItLink\" href=\"../684c11dfaba8fb0d3ba12770fb760b6c4cb5ab070/expr.ipynb\"><img src=\"../684c11dfaba8fb0d3ba12770fb760b6c4cb5ab070/expr.png\" style=\"display:inline;vertical-align:middle;\" /></a></td></tr>\n",
       "<tr><td>4</td><td>ExprTuple</td><td>29, 7</td><td><a class=\"ProveItLink\" href=\"../6195adb72b345fe9eb5964259e45a3e4c8d3f2f50/expr.ipynb\"><img src=\"../6195adb72b345fe9eb5964259e45a3e4c8d3f2f50/expr.png\" style=\"display:inline;vertical-align:middle;\" /></a></td></tr>\n",
       "<tr><td>5</td><td>Operation</td><td>operator:&nbsp;10<br>operands:&nbsp;8<br></td><td><a class=\"ProveItLink\" href=\"../c41044a37231bac9fbb0c5d14e609c532449e6b10/expr.ipynb\"><img src=\"../c41044a37231bac9fbb0c5d14e609c532449e6b10/expr.png\" style=\"display:inline;vertical-align:middle;\" /></a></td></tr>\n",
       "<tr><td>6</td><td>Operation</td><td>operator:&nbsp;10<br>operands:&nbsp;9<br></td><td><a class=\"ProveItLink\" href=\"../1fef814f7e99e167f00c3322983a4c45bc9d8bfb0/expr.ipynb\"><img src=\"../1fef814f7e99e167f00c3322983a4c45bc9d8bfb0/expr.png\" style=\"display:inline;vertical-align:middle;\" /></a></td></tr>\n",
       "<tr><td>7</td><td>Operation</td><td>operator:&nbsp;10<br>operands:&nbsp;11<br></td><td><a class=\"ProveItLink\" href=\"../3d07ffe842d154c6efbfa0e561257928808b76e30/expr.ipynb\"><img src=\"../3d07ffe842d154c6efbfa0e561257928808b76e30/expr.png\" style=\"display:inline;vertical-align:middle;\" /></a></td></tr>\n",
       "<tr><td>8</td><td>ExprTuple</td><td>12, 13</td><td><a class=\"ProveItLink\" href=\"../31c83b836e84b13f6d42a0d21a6bbd0b9b0c41c70/expr.ipynb\"><img src=\"../31c83b836e84b13f6d42a0d21a6bbd0b9b0c41c70/expr.png\" style=\"display:inline;vertical-align:middle;\" /></a></td></tr>\n",
       "<tr><td>9</td><td>ExprTuple</td><td>15, 14</td><td><a class=\"ProveItLink\" href=\"../af7cdddbd2d73d0ce631a39d479982d2d12ef1240/expr.ipynb\"><img src=\"../af7cdddbd2d73d0ce631a39d479982d2d12ef1240/expr.png\" style=\"display:inline;vertical-align:middle;\" /></a></td></tr>\n",
       "<tr><td>10</td><td>Literal</td><td></td><td><a class=\"ProveItLink\" href=\"../../../../../../numbers/addition/__pv_it/common/4b7effaab3619a1c2c38fe2dee8601df8ec714590/expr.ipynb\"><img src=\"../../../../../../numbers/addition/__pv_it/common/4b7effaab3619a1c2c38fe2dee8601df8ec714590/expr.png\" style=\"display:inline;vertical-align:middle;\" /></a></td></tr>\n",
       "<tr><td>11</td><td>ExprTuple</td><td>15, 16</td><td><a class=\"ProveItLink\" href=\"../719f822a1d0131f4973ec6b5dca81ce17e3857ea0/expr.ipynb\"><img src=\"../719f822a1d0131f4973ec6b5dca81ce17e3857ea0/expr.png\" style=\"display:inline;vertical-align:middle;\" /></a></td></tr>\n",
       "<tr><td>12</td><td>Operation</td><td>operator:&nbsp;26<br>operands:&nbsp;17<br></td><td><a class=\"ProveItLink\" href=\"../de0eb2820cb7db68299a0938981c8b42ba0214370/expr.ipynb\"><img src=\"../de0eb2820cb7db68299a0938981c8b42ba0214370/expr.png\" style=\"display:inline;vertical-align:middle;\" /></a></td></tr>\n",
       "<tr><td>13</td><td>Operation</td><td>operator:&nbsp;32<br>operands:&nbsp;18<br></td><td><a class=\"ProveItLink\" href=\"../cffb8aa8c78daef59bc453d6804006c0e8233ba40/expr.ipynb\"><img src=\"../cffb8aa8c78daef59bc453d6804006c0e8233ba40/expr.png\" style=\"display:inline;vertical-align:middle;\" /></a></td></tr>\n",
       "<tr><td>14</td><td>Operation</td><td>operator:&nbsp;40<br>operand:&nbsp;23<br></td><td><a class=\"ProveItLink\" href=\"../eb953b648fb670cb992763c46f53ffbd99b0abc50/expr.ipynb\"><img src=\"../eb953b648fb670cb992763c46f53ffbd99b0abc50/expr.png\" style=\"display:inline;vertical-align:middle;\" /></a></td></tr>\n",
       "<tr><td>15</td><td>Operation</td><td>operator:&nbsp;40<br>operand:&nbsp;29<br></td><td><a class=\"ProveItLink\" href=\"../../theorems/0e68c27d1b8e1f9d85b3ff2b49dcd57ec080b0ad0/expr.ipynb\"><img src=\"../../theorems/0e68c27d1b8e1f9d85b3ff2b49dcd57ec080b0ad0/expr.png\" style=\"display:inline;vertical-align:middle;\" /></a></td></tr>\n",
       "<tr><td>16</td><td>Operation</td><td>operator:&nbsp;40<br>operand:&nbsp;24<br></td><td><a class=\"ProveItLink\" href=\"../eac3b5c02514db54a91ab6d27c5c11ee7054b6e10/expr.ipynb\"><img src=\"../eac3b5c02514db54a91ab6d27c5c11ee7054b6e10/expr.png\" style=\"display:inline;vertical-align:middle;\" /></a></td></tr>\n",
       "<tr><td>17</td><td>ExprTuple</td><td>29, 29</td><td><a class=\"ProveItLink\" href=\"../51e711f8c6a71b6f369f0d3450a358da7ebd91c80/expr.ipynb\"><img src=\"../51e711f8c6a71b6f369f0d3450a358da7ebd91c80/expr.png\" style=\"display:inline;vertical-align:middle;\" /></a></td></tr>\n",
       "<tr><td>18</td><td>ExprTuple</td><td>36, 22</td><td><a class=\"ProveItLink\" href=\"../a43a308fb817d05559dafcdbb8017249ab78981a0/expr.ipynb\"><img src=\"../a43a308fb817d05559dafcdbb8017249ab78981a0/expr.png\" style=\"display:inline;vertical-align:middle;\" /></a></td></tr>\n",
       "<tr><td>19</td><td>ExprTuple</td><td>23</td><td><a class=\"ProveItLink\" href=\"../f73c45c95f71a63ab814c65af2f23efb741b31020/expr.ipynb\"><img src=\"../f73c45c95f71a63ab814c65af2f23efb741b31020/expr.png\" style=\"display:inline;vertical-align:middle;\" /></a></td></tr>\n",
       "<tr><td>20</td><td>ExprTuple</td><td>29</td><td><a class=\"ProveItLink\" href=\"../../theorems/81e18073cf1eaf70c9a3d487e681774fb8d804010/expr.ipynb\"><img src=\"../../theorems/81e18073cf1eaf70c9a3d487e681774fb8d804010/expr.png\" style=\"display:inline;vertical-align:middle;\" /></a></td></tr>\n",
       "<tr><td>21</td><td>ExprTuple</td><td>24</td><td><a class=\"ProveItLink\" href=\"../4ac5ff48d75aa0b29bf6a680ac0edd7c68a78c120/expr.ipynb\"><img src=\"../4ac5ff48d75aa0b29bf6a680ac0edd7c68a78c120/expr.png\" style=\"display:inline;vertical-align:middle;\" /></a></td></tr>\n",
       "<tr><td>22</td><td>Literal</td><td></td><td><a class=\"ProveItLink\" href=\"../../../../../../numbers/numerals/__pv_it/common/48a1d915c1e9490b9a94e5c77a208938d3ee20ce0/expr.ipynb\"><img src=\"../../../../../../numbers/numerals/__pv_it/common/48a1d915c1e9490b9a94e5c77a208938d3ee20ce0/expr.png\" style=\"display:inline;vertical-align:middle;\" /></a></td></tr>\n",
       "<tr><td>23</td><td>Operation</td><td>operator:&nbsp;26<br>operands:&nbsp;25<br></td><td><a class=\"ProveItLink\" href=\"../5b32739cab4693225e58793e622e24ad49ce8ebc0/expr.ipynb\"><img src=\"../5b32739cab4693225e58793e622e24ad49ce8ebc0/expr.png\" style=\"display:inline;vertical-align:middle;\" /></a></td></tr>\n",
       "<tr><td>24</td><td>Operation</td><td>operator:&nbsp;26<br>operands:&nbsp;27<br></td><td><a class=\"ProveItLink\" href=\"../d4cac464d95c7cdb3aad36041c8ab4e8101d0c9e0/expr.ipynb\"><img src=\"../d4cac464d95c7cdb3aad36041c8ab4e8101d0c9e0/expr.png\" style=\"display:inline;vertical-align:middle;\" /></a></td></tr>\n",
       "<tr><td>25</td><td>ExprTuple</td><td>29, 28</td><td><a class=\"ProveItLink\" href=\"../6f5bbe9d7a41e748eb0fb55d9c754e38b93c9cef0/expr.ipynb\"><img src=\"../6f5bbe9d7a41e748eb0fb55d9c754e38b93c9cef0/expr.png\" style=\"display:inline;vertical-align:middle;\" /></a></td></tr>\n",
       "<tr><td>26</td><td>Literal</td><td></td><td><a class=\"ProveItLink\" href=\"../../../../../../numbers/multiplication/__pv_it/common/ed719cef37831779c16481533a4d380a2f95ab270/expr.ipynb\"><img src=\"../../../../../../numbers/multiplication/__pv_it/common/ed719cef37831779c16481533a4d380a2f95ab270/expr.png\" style=\"display:inline;vertical-align:middle;\" /></a></td></tr>\n",
       "<tr><td>27</td><td>ExprTuple</td><td>29, 30</td><td><a class=\"ProveItLink\" href=\"../b099bf8ea2bd2143834c04a90bc4b65f3727afe50/expr.ipynb\"><img src=\"../b099bf8ea2bd2143834c04a90bc4b65f3727afe50/expr.png\" style=\"display:inline;vertical-align:middle;\" /></a></td></tr>\n",
       "<tr><td>28</td><td>Operation</td><td>operator:&nbsp;32<br>operands:&nbsp;31<br></td><td><a class=\"ProveItLink\" href=\"../1ad6b12de0d9e9a930ff1231b52bb94d8eeec9a30/expr.ipynb\"><img src=\"../1ad6b12de0d9e9a930ff1231b52bb94d8eeec9a30/expr.png\" style=\"display:inline;vertical-align:middle;\" /></a></td></tr>\n",
       "<tr><td>29</td><td>Operation</td><td>operator:&nbsp;32<br>operands:&nbsp;33<br></td><td><a class=\"ProveItLink\" href=\"../../../../__pv_it/common/41c7e8d55de04e24c56503fbffe6ac0318a53f990/expr.ipynb\"><img src=\"../../../../__pv_it/common/41c7e8d55de04e24c56503fbffe6ac0318a53f990/expr.png\" style=\"display:inline;vertical-align:middle;\" /></a></td></tr>\n",
       "<tr><td>30</td><td>Operation</td><td>operator:&nbsp;38<br>operands:&nbsp;34<br></td><td><a class=\"ProveItLink\" href=\"../70f5d44c7051a82c62b459bfa00eb4d7e1a0b9a30/expr.ipynb\"><img src=\"../70f5d44c7051a82c62b459bfa00eb4d7e1a0b9a30/expr.png\" style=\"display:inline;vertical-align:middle;\" /></a></td></tr>\n",
       "<tr><td>31</td><td>ExprTuple</td><td>36, 35</td><td><a class=\"ProveItLink\" href=\"../a440d55f6370244e877c8370240b6991ecfadd4e0/expr.ipynb\"><img src=\"../a440d55f6370244e877c8370240b6991ecfadd4e0/expr.png\" style=\"display:inline;vertical-align:middle;\" /></a></td></tr>\n",
       "<tr><td>32</td><td>Literal</td><td></td><td><a class=\"ProveItLink\" href=\"../../../../../../numbers/division/__pv_it/common/a2a633e1e3c749fb1f2692466b287b6348c5de840/expr.ipynb\"><img src=\"../../../../../../numbers/division/__pv_it/common/a2a633e1e3c749fb1f2692466b287b6348c5de840/expr.png\" style=\"display:inline;vertical-align:middle;\" /></a></td></tr>\n",
       "<tr><td>33</td><td>ExprTuple</td><td>36, 42</td><td><a class=\"ProveItLink\" href=\"../../../../../../numbers/numerals/decimals/__pv_it/theorems/df23a04353373623cccbfda09b61e0f594aa791a0/expr.ipynb\"><img src=\"../../../../../../numbers/numerals/decimals/__pv_it/theorems/df23a04353373623cccbfda09b61e0f594aa791a0/expr.png\" style=\"display:inline;vertical-align:middle;\" /></a></td></tr>\n",
       "<tr><td>34</td><td>ExprTuple</td><td>42, 37</td><td><a class=\"ProveItLink\" href=\"../f4fd966ab36ae298b9330de4a50ccb70f2cc4be70/expr.ipynb\"><img src=\"../f4fd966ab36ae298b9330de4a50ccb70f2cc4be70/expr.png\" style=\"display:inline;vertical-align:middle;\" /></a></td></tr>\n",
       "<tr><td>35</td><td>Operation</td><td>operator:&nbsp;38<br>operands:&nbsp;39<br></td><td><a class=\"ProveItLink\" href=\"../../common/18332e4e627d64eadf0d81efed19ae3e9d007d510/expr.ipynb\"><img src=\"../../common/18332e4e627d64eadf0d81efed19ae3e9d007d510/expr.png\" style=\"display:inline;vertical-align:middle;\" /></a></td></tr>\n",
       "<tr><td>36</td><td>Literal</td><td></td><td><a class=\"ProveItLink\" href=\"../../../../../../numbers/numerals/__pv_it/common/682157d4892d216d9e5626ed533aff9b56b9506e0/expr.ipynb\"><img src=\"../../../../../../numbers/numerals/__pv_it/common/682157d4892d216d9e5626ed533aff9b56b9506e0/expr.png\" style=\"display:inline;vertical-align:middle;\" /></a></td></tr>\n",
       "<tr><td>37</td><td>Operation</td><td>operator:&nbsp;40<br>operand:&nbsp;43<br></td><td><a class=\"ProveItLink\" href=\"../716aa9beb2db21ec035d943cdb56782e21f175da0/expr.ipynb\"><img src=\"../716aa9beb2db21ec035d943cdb56782e21f175da0/expr.png\" style=\"display:inline;vertical-align:middle;\" /></a></td></tr>\n",
       "<tr><td>38</td><td>Literal</td><td></td><td><a class=\"ProveItLink\" href=\"../../../../../../numbers/exponentiation/__pv_it/common/0ac37aca1e54c35c5cda09672df32d4f69f1f3020/expr.ipynb\"><img src=\"../../../../../../numbers/exponentiation/__pv_it/common/0ac37aca1e54c35c5cda09672df32d4f69f1f3020/expr.png\" style=\"display:inline;vertical-align:middle;\" /></a></td></tr>\n",
       "<tr><td>39</td><td>ExprTuple</td><td>42, 43</td><td><a class=\"ProveItLink\" href=\"../../common/e32fd834a589b0231aa39da242e9381ec87261b00/expr.ipynb\"><img src=\"../../common/e32fd834a589b0231aa39da242e9381ec87261b00/expr.png\" style=\"display:inline;vertical-align:middle;\" /></a></td></tr>\n",
       "<tr><td>40</td><td>Literal</td><td></td><td><a class=\"ProveItLink\" href=\"../../../../../../numbers/negation/__pv_it/common/221b3c4d1770ee9051b7c044c3f9ec61196fc34b0/expr.ipynb\"><img src=\"../../../../../../numbers/negation/__pv_it/common/221b3c4d1770ee9051b7c044c3f9ec61196fc34b0/expr.png\" style=\"display:inline;vertical-align:middle;\" /></a></td></tr>\n",
       "<tr><td>41</td><td>ExprTuple</td><td>43</td><td><a class=\"ProveItLink\" href=\"../e96612f8f4ee9db42198cd12e6e4b4669e7a547a0/expr.ipynb\"><img src=\"../e96612f8f4ee9db42198cd12e6e4b4669e7a547a0/expr.png\" style=\"display:inline;vertical-align:middle;\" /></a></td></tr>\n",
       "<tr><td>42</td><td>Literal</td><td></td><td><a class=\"ProveItLink\" href=\"../../../../../../numbers/numerals/__pv_it/common/af4aab8a07465db063742696e006d04670f30cf10/expr.ipynb\"><img src=\"../../../../../../numbers/numerals/__pv_it/common/af4aab8a07465db063742696e006d04670f30cf10/expr.png\" style=\"display:inline;vertical-align:middle;\" /></a></td></tr>\n",
       "<tr><td>43</td><td>Literal</td><td></td><td><a class=\"ProveItLink\" href=\"../../common/977cc67717328e22c93f8ab84e6a45e8cadce7790/expr.ipynb\"><img src=\"../../common/977cc67717328e22c93f8ab84e6a45e8cadce7790/expr.png\" style=\"display:inline;vertical-align:middle;\" /></a></td></tr>\n",
       "</table>\n"
      ],
      "text/plain": [
       "0. ((((1 / 2) * (1 / 2)) + (1 / 4)) + (-(1 / 2) - ((1 / 2) * (1 / 2^{t}))), (1 / 2) + (-(1 / 2) - ((1 / 2) * 2^{-t})))\n",
       "   core type: ExprTuple\n",
       "   sub-expressions: 1, 2\n",
       "1. (((1 / 2) * (1 / 2)) + (1 / 4)) + (-(1 / 2) - ((1 / 2) * (1 / 2^{t})))\n",
       "   core type: Operation\n",
       "   operator: 10\n",
       "   operands: 3\n",
       "2. (1 / 2) + (-(1 / 2) - ((1 / 2) * 2^{-t}))\n",
       "   core type: Operation\n",
       "   operator: 10\n",
       "   operands: 4\n",
       "3. (((1 / 2) * (1 / 2)) + (1 / 4), -(1 / 2) - ((1 / 2) * (1 / 2^{t})))\n",
       "   core type: ExprTuple\n",
       "   sub-expressions: 5, 6\n",
       "4. (1 / 2, -(1 / 2) - ((1 / 2) * 2^{-t}))\n",
       "   core type: ExprTuple\n",
       "   sub-expressions: 29, 7\n",
       "5. ((1 / 2) * (1 / 2)) + (1 / 4)\n",
       "   core type: Operation\n",
       "   operator: 10\n",
       "   operands: 8\n",
       "6. -(1 / 2) - ((1 / 2) * (1 / 2^{t}))\n",
       "   core type: Operation\n",
       "   operator: 10\n",
       "   operands: 9\n",
       "7. -(1 / 2) - ((1 / 2) * 2^{-t})\n",
       "   core type: Operation\n",
       "   operator: 10\n",
       "   operands: 11\n",
       "8. ((1 / 2) * (1 / 2), 1 / 4)\n",
       "   core type: ExprTuple\n",
       "   sub-expressions: 12, 13\n",
       "9. (-(1 / 2), -((1 / 2) * (1 / 2^{t})))\n",
       "   core type: ExprTuple\n",
       "   sub-expressions: 15, 14\n",
       "10. +\n",
       "    core type: Literal\n",
       "    sub-expressions: \n",
       "11. (-(1 / 2), -((1 / 2) * 2^{-t}))\n",
       "    core type: ExprTuple\n",
       "    sub-expressions: 15, 16\n",
       "12. (1 / 2) * (1 / 2)\n",
       "    core type: Operation\n",
       "    operator: 26\n",
       "    operands: 17\n",
       "13. 1 / 4\n",
       "    core type: Operation\n",
       "    operator: 32\n",
       "    operands: 18\n",
       "14. -((1 / 2) * (1 / 2^{t}))\n",
       "    core type: Operation\n",
       "    operator: 40\n",
       "    operand: 23\n",
       "15. -(1 / 2)\n",
       "    core type: Operation\n",
       "    operator: 40\n",
       "    operand: 29\n",
       "16. -((1 / 2) * 2^{-t})\n",
       "    core type: Operation\n",
       "    operator: 40\n",
       "    operand: 24\n",
       "17. (1 / 2, 1 / 2)\n",
       "    core type: ExprTuple\n",
       "    sub-expressions: 29, 29\n",
       "18. (1, 4)\n",
       "    core type: ExprTuple\n",
       "    sub-expressions: 36, 22\n",
       "19. ((1 / 2) * (1 / 2^{t}))\n",
       "    core type: ExprTuple\n",
       "    sub-expressions: 23\n",
       "20. (1 / 2)\n",
       "    core type: ExprTuple\n",
       "    sub-expressions: 29\n",
       "21. ((1 / 2) * 2^{-t})\n",
       "    core type: ExprTuple\n",
       "    sub-expressions: 24\n",
       "22. 4\n",
       "    core type: Literal\n",
       "    sub-expressions: \n",
       "23. (1 / 2) * (1 / 2^{t})\n",
       "    core type: Operation\n",
       "    operator: 26\n",
       "    operands: 25\n",
       "24. (1 / 2) * 2^{-t}\n",
       "    core type: Operation\n",
       "    operator: 26\n",
       "    operands: 27\n",
       "25. (1 / 2, 1 / 2^{t})\n",
       "    core type: ExprTuple\n",
       "    sub-expressions: 29, 28\n",
       "26. *\n",
       "    core type: Literal\n",
       "    sub-expressions: \n",
       "27. (1 / 2, 2^{-t})\n",
       "    core type: ExprTuple\n",
       "    sub-expressions: 29, 30\n",
       "28. 1 / 2^{t}\n",
       "    core type: Operation\n",
       "    operator: 32\n",
       "    operands: 31\n",
       "29. 1 / 2\n",
       "    core type: Operation\n",
       "    operator: 32\n",
       "    operands: 33\n",
       "30. 2^{-t}\n",
       "    core type: Operation\n",
       "    operator: 38\n",
       "    operands: 34\n",
       "31. (1, 2^{t})\n",
       "    core type: ExprTuple\n",
       "    sub-expressions: 36, 35\n",
       "32. /\n",
       "    core type: Literal\n",
       "    sub-expressions: \n",
       "33. (1, 2)\n",
       "    core type: ExprTuple\n",
       "    sub-expressions: 36, 42\n",
       "34. (2, -t)\n",
       "    core type: ExprTuple\n",
       "    sub-expressions: 42, 37\n",
       "35. 2^{t}\n",
       "    core type: Operation\n",
       "    operator: 38\n",
       "    operands: 39\n",
       "36. 1\n",
       "    core type: Literal\n",
       "    sub-expressions: \n",
       "37. -t\n",
       "    core type: Operation\n",
       "    operator: 40\n",
       "    operand: 43\n",
       "38. Exp\n",
       "    core type: Literal\n",
       "    sub-expressions: \n",
       "39. (2, t)\n",
       "    core type: ExprTuple\n",
       "    sub-expressions: 42, 43\n",
       "40. -\n",
       "    core type: Literal\n",
       "    sub-expressions: \n",
       "41. (t)\n",
       "    core type: ExprTuple\n",
       "    sub-expressions: 43\n",
       "42. 2\n",
       "    core type: Literal\n",
       "    sub-expressions: \n",
       "43. t\n",
       "    core type: Literal\n",
       "    sub-expressions: "
      ]
     },
     "metadata": {},
     "output_type": "display_data"
    }
   ],
   "source": [
    "# display the expression information\n",
    "stored_expr.expr_info()"
   ]
  },
  {
   "cell_type": "code",
   "execution_count": null,
   "metadata": {},
   "outputs": [],
   "source": []
  }
 ],
 "metadata": {
  "kernelspec": {
   "display_name": "Python 3",
   "language": "python",
   "name": "python3"
  }
 },
 "nbformat": 4,
 "nbformat_minor": 0
}