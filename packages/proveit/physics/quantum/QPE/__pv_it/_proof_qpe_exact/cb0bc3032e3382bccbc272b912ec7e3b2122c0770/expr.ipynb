{
 "cells": [
  {
   "cell_type": "markdown",
   "metadata": {},
   "source": [
    "Expression of type <a class=\"ProveItLink\" href=\"../../../../../../../../doc/html/api/proveit.Lambda.html\">Lambda</a>\n",
    "=======================\n",
    "# from the theory of <a class=\"ProveItLink\" href=\"../../../_theory_nbs_/theory.ipynb\">proveit.physics.quantum.QPE</a>"
   ]
  },
  {
   "cell_type": "code",
   "execution_count": 1,
   "metadata": {},
   "outputs": [],
   "source": [
    "import proveit\n",
    "# Automation is not needed when building an expression:\n",
    "proveit.defaults.automation = False # This will speed things up.\n",
    "proveit.defaults.inline_pngs = False # Makes files smaller.\n",
    "%load_expr # Load the stored expression as 'stored_expr'\n",
    "# import Expression classes needed to build the expression\n",
    "from proveit import Conditional, Function, Lambda, U, Variable, s, t\n",
    "from proveit.linear_algebra import Unitary\n",
    "from proveit.logic import Forall, InSet\n",
    "from proveit.physics.quantum import normalized_var_ket_u, var_ket_u\n",
    "from proveit.physics.quantum.QPE import phase, s_ket_domain, two_pow_s"
   ]
  },
  {
   "cell_type": "code",
   "execution_count": 2,
   "metadata": {},
   "outputs": [
    {
     "data": {
      "text/html": [
       "<strong id=\"expr\">expr:</strong> <a class=\"ProveItLink\" href=\"expr.ipynb\"><img src=\"expr.png\" style=\"display:inline;vertical-align:middle;\" /></a><br>"
      ],
      "text/plain": [
       "<IPython.core.display.HTML object>"
      ]
     },
     "metadata": {},
     "output_type": "display_data"
    }
   ],
   "source": [
    "# build up the expression from sub-expressions\n",
    "expr = Lambda(U, Conditional(Forall(instance_param_or_params = [var_ket_u], instance_expr = Forall(instance_param_or_params = [phase], instance_expr = Function(Variable(\"_b\", latex_format = r\"{_{-}b}\"), [s, t, U, var_ket_u, phase])), domain = s_ket_domain, condition = normalized_var_ket_u), InSet(U, Unitary(two_pow_s))))"
   ]
  },
  {
   "cell_type": "code",
   "execution_count": 3,
   "metadata": {},
   "outputs": [
    {
     "name": "stdout",
     "output_type": "stream",
     "text": [
      "Passed sanity check: expr matches stored_expr\n"
     ]
    }
   ],
   "source": [
    "# check that the built expression is the same as the stored expression\n",
    "assert expr == stored_expr\n",
    "assert expr._style_id == stored_expr._style_id\n",
    "print(\"Passed sanity check: expr matches stored_expr\")"
   ]
  },
  {
   "cell_type": "code",
   "execution_count": 4,
   "metadata": {},
   "outputs": [
    {
     "name": "stdout",
     "output_type": "stream",
     "text": [
      "U \\mapsto \\left\\{\\forall_{\\lvert u \\rangle \\in \\mathbb{C}^{2^{s}}~|~\\left \\|\\lvert u \\rangle\\right \\| = 1}~\\left[\\forall_{\\varphi}~{_{-}b}\\left(s, t, U, \\lvert u \\rangle, \\varphi\\right)\\right] \\textrm{ if } U \\in \\textrm{U}\\left(2^{s}\\right)\\right..\n"
     ]
    }
   ],
   "source": [
    "# Show the LaTeX representation of the expression for convenience if you need it.\n",
    "print(stored_expr.latex())"
   ]
  },
  {
   "cell_type": "code",
   "execution_count": 5,
   "metadata": {},
   "outputs": [
    {
     "data": {
      "text/html": [
       "no style options"
      ],
      "text/plain": [
       "no style options"
      ]
     },
     "metadata": {},
     "output_type": "display_data"
    }
   ],
   "source": [
    "stored_expr.style_options()"
   ]
  },
  {
   "cell_type": "code",
   "execution_count": 6,
   "metadata": {},
   "outputs": [
    {
     "data": {
      "text/html": [
       "<table><tr><th>&nbsp;</th><th>core type</th><th>sub-expressions</th><th>expression</th></tr>\n",
       "<tr><td>0</td><td>Lambda</td><td>parameter:&nbsp;33<br>body:&nbsp;2<br></td><td><a class=\"ProveItLink\" href=\"expr.ipynb\"><img src=\"expr.png\" style=\"display:inline;vertical-align:middle;\" /></a></td></tr>\n",
       "<tr><td>1</td><td>ExprTuple</td><td>33</td><td><a class=\"ProveItLink\" href=\"../../theorems/784e4161fabed463ea08c5bdcaab880caad8d62f0/expr.ipynb\"><img src=\"../../theorems/784e4161fabed463ea08c5bdcaab880caad8d62f0/expr.png\" style=\"display:inline;vertical-align:middle;\" /></a></td></tr>\n",
       "<tr><td>2</td><td>Conditional</td><td>value:&nbsp;3<br>condition:&nbsp;4<br></td><td><a class=\"ProveItLink\" href=\"../ab4a534dad6ee62ee2f0ca48dca4145725cb45d10/expr.ipynb\"><img src=\"../ab4a534dad6ee62ee2f0ca48dca4145725cb45d10/expr.png\" style=\"display:inline;vertical-align:middle;\" /></a></td></tr>\n",
       "<tr><td>3</td><td>Operation</td><td>operator:&nbsp;14<br>operand:&nbsp;7<br></td><td><a class=\"ProveItLink\" href=\"../58bc22a2be9e7906876d8885a3c271bd3a9987d80/expr.ipynb\"><img src=\"../58bc22a2be9e7906876d8885a3c271bd3a9987d80/expr.png\" style=\"display:inline;vertical-align:middle;\" /></a></td></tr>\n",
       "<tr><td>4</td><td>Operation</td><td>operator:&nbsp;23<br>operands:&nbsp;6<br></td><td><a class=\"ProveItLink\" href=\"../../theorems/5f7a569d70572e3b64c2f56fae89791740f59c640/expr.ipynb\"><img src=\"../../theorems/5f7a569d70572e3b64c2f56fae89791740f59c640/expr.png\" style=\"display:inline;vertical-align:middle;\" /></a></td></tr>\n",
       "<tr><td>5</td><td>ExprTuple</td><td>7</td><td><a class=\"ProveItLink\" href=\"../f771edda5868f2ac653fa56ab88f1ab7691d70500/expr.ipynb\"><img src=\"../f771edda5868f2ac653fa56ab88f1ab7691d70500/expr.png\" style=\"display:inline;vertical-align:middle;\" /></a></td></tr>\n",
       "<tr><td>6</td><td>ExprTuple</td><td>33, 8</td><td><a class=\"ProveItLink\" href=\"../../theorems/1ef787787c0717f4449c3be0068aae95b6827bc60/expr.ipynb\"><img src=\"../../theorems/1ef787787c0717f4449c3be0068aae95b6827bc60/expr.png\" style=\"display:inline;vertical-align:middle;\" /></a></td></tr>\n",
       "<tr><td>7</td><td>Lambda</td><td>parameter:&nbsp;41<br>body:&nbsp;9<br></td><td><a class=\"ProveItLink\" href=\"../328136a81d62aa2f9e480cebf866c06312ffdf360/expr.ipynb\"><img src=\"../328136a81d62aa2f9e480cebf866c06312ffdf360/expr.png\" style=\"display:inline;vertical-align:middle;\" /></a></td></tr>\n",
       "<tr><td>8</td><td>Operation</td><td>operator:&nbsp;10<br>operand:&nbsp;40<br></td><td><a class=\"ProveItLink\" href=\"../../theorems/7f1ade6188e769b03a3b23b1abf2b05de08016170/expr.ipynb\"><img src=\"../../theorems/7f1ade6188e769b03a3b23b1abf2b05de08016170/expr.png\" style=\"display:inline;vertical-align:middle;\" /></a></td></tr>\n",
       "<tr><td>9</td><td>Conditional</td><td>value:&nbsp;12<br>condition:&nbsp;13<br></td><td><a class=\"ProveItLink\" href=\"../fd4b08dbb309bf4caf5d98bad0a059731e6680a90/expr.ipynb\"><img src=\"../fd4b08dbb309bf4caf5d98bad0a059731e6680a90/expr.png\" style=\"display:inline;vertical-align:middle;\" /></a></td></tr>\n",
       "<tr><td>10</td><td>Literal</td><td></td><td><a class=\"ProveItLink\" href=\"../../../../../../linear_algebra/matrices/__pv_it/common/4ef8603cb69b80b124ebf92d970050986c8869e80/expr.ipynb\"><img src=\"../../../../../../linear_algebra/matrices/__pv_it/common/4ef8603cb69b80b124ebf92d970050986c8869e80/expr.png\" style=\"display:inline;vertical-align:middle;\" /></a></td></tr>\n",
       "<tr><td>11</td><td>ExprTuple</td><td>40</td><td><a class=\"ProveItLink\" href=\"../../theorems/982e612b77959782d934008f5116f06515a628530/expr.ipynb\"><img src=\"../../theorems/982e612b77959782d934008f5116f06515a628530/expr.png\" style=\"display:inline;vertical-align:middle;\" /></a></td></tr>\n",
       "<tr><td>12</td><td>Operation</td><td>operator:&nbsp;14<br>operand:&nbsp;18<br></td><td><a class=\"ProveItLink\" href=\"../d566a856dda286561614c4b6775702c0461a72a30/expr.ipynb\"><img src=\"../d566a856dda286561614c4b6775702c0461a72a30/expr.png\" style=\"display:inline;vertical-align:middle;\" /></a></td></tr>\n",
       "<tr><td>13</td><td>Operation</td><td>operator:&nbsp;16<br>operands:&nbsp;17<br></td><td><a class=\"ProveItLink\" href=\"../../theorems/e39d2c84bd12c8e085a84ed7c79a6b95deef27290/expr.ipynb\"><img src=\"../../theorems/e39d2c84bd12c8e085a84ed7c79a6b95deef27290/expr.png\" style=\"display:inline;vertical-align:middle;\" /></a></td></tr>\n",
       "<tr><td>14</td><td>Literal</td><td></td><td><a class=\"ProveItLink\" href=\"../../../../../../logic/booleans/quantification/universality/__pv_it/common/083d2baa0b8ecab1d230f9ec29a15aa1355809fb0/expr.ipynb\"><img src=\"../../../../../../logic/booleans/quantification/universality/__pv_it/common/083d2baa0b8ecab1d230f9ec29a15aa1355809fb0/expr.png\" style=\"display:inline;vertical-align:middle;\" /></a></td></tr>\n",
       "<tr><td>15</td><td>ExprTuple</td><td>18</td><td><a class=\"ProveItLink\" href=\"../040371d79c03b47be15650af24bf4931132dc36b0/expr.ipynb\"><img src=\"../040371d79c03b47be15650af24bf4931132dc36b0/expr.png\" style=\"display:inline;vertical-align:middle;\" /></a></td></tr>\n",
       "<tr><td>16</td><td>Literal</td><td></td><td><a class=\"ProveItLink\" href=\"../../../../../../logic/booleans/conjunction/__pv_it/common/42118ff318bd65d98b1393f64ce7c2269feef76e0/expr.ipynb\"><img src=\"../../../../../../logic/booleans/conjunction/__pv_it/common/42118ff318bd65d98b1393f64ce7c2269feef76e0/expr.png\" style=\"display:inline;vertical-align:middle;\" /></a></td></tr>\n",
       "<tr><td>17</td><td>ExprTuple</td><td>19, 20</td><td><a class=\"ProveItLink\" href=\"../../theorems/0805391fc3b07dbcd3a0612c65b3068a5aadc2310/expr.ipynb\"><img src=\"../../theorems/0805391fc3b07dbcd3a0612c65b3068a5aadc2310/expr.png\" style=\"display:inline;vertical-align:middle;\" /></a></td></tr>\n",
       "<tr><td>18</td><td>Lambda</td><td>parameter:&nbsp;34<br>body:&nbsp;22<br></td><td><a class=\"ProveItLink\" href=\"../1c6985fcb827dadcece6154c9754312fe0f2e87a0/expr.ipynb\"><img src=\"../1c6985fcb827dadcece6154c9754312fe0f2e87a0/expr.png\" style=\"display:inline;vertical-align:middle;\" /></a></td></tr>\n",
       "<tr><td>19</td><td>Operation</td><td>operator:&nbsp;23<br>operands:&nbsp;24<br></td><td><a class=\"ProveItLink\" href=\"../../theorems/649a3094deb99b5a699825300454f3116171661f0/expr.ipynb\"><img src=\"../../theorems/649a3094deb99b5a699825300454f3116171661f0/expr.png\" style=\"display:inline;vertical-align:middle;\" /></a></td></tr>\n",
       "<tr><td>20</td><td>Operation</td><td>operator:&nbsp;25<br>operands:&nbsp;26<br></td><td><a class=\"ProveItLink\" href=\"../../../../__pv_it/common/2bb25afe386e5968b6733397d5e6c04559a758e20/expr.ipynb\"><img src=\"../../../../__pv_it/common/2bb25afe386e5968b6733397d5e6c04559a758e20/expr.png\" style=\"display:inline;vertical-align:middle;\" /></a></td></tr>\n",
       "<tr><td>21</td><td>ExprTuple</td><td>34</td><td><a class=\"ProveItLink\" href=\"../../theorems/29e8a378c37a51dafce04ab8e4851d3c32f4a33f0/expr.ipynb\"><img src=\"../../theorems/29e8a378c37a51dafce04ab8e4851d3c32f4a33f0/expr.png\" style=\"display:inline;vertical-align:middle;\" /></a></td></tr>\n",
       "<tr><td>22</td><td>Operation</td><td>operator:&nbsp;27<br>operands:&nbsp;28<br></td><td><a class=\"ProveItLink\" href=\"../fd63255a541ea3afe39e61295a3b13329d547b220/expr.ipynb\"><img src=\"../fd63255a541ea3afe39e61295a3b13329d547b220/expr.png\" style=\"display:inline;vertical-align:middle;\" /></a></td></tr>\n",
       "<tr><td>23</td><td>Literal</td><td></td><td><a class=\"ProveItLink\" href=\"../../../../../../logic/sets/membership/__pv_it/common/477487d8796864d23d5810f83761435f25167f690/expr.ipynb\"><img src=\"../../../../../../logic/sets/membership/__pv_it/common/477487d8796864d23d5810f83761435f25167f690/expr.png\" style=\"display:inline;vertical-align:middle;\" /></a></td></tr>\n",
       "<tr><td>24</td><td>ExprTuple</td><td>41, 29</td><td><a class=\"ProveItLink\" href=\"../../theorems/6bcc14bab1653b0cfc0007b4a2e9c60e2fab25a10/expr.ipynb\"><img src=\"../../theorems/6bcc14bab1653b0cfc0007b4a2e9c60e2fab25a10/expr.png\" style=\"display:inline;vertical-align:middle;\" /></a></td></tr>\n",
       "<tr><td>25</td><td>Literal</td><td></td><td><a class=\"ProveItLink\" href=\"../../../../../../logic/equality/__pv_it/common/fb96dc12b2aa8801dda64d0132b396c63d1502bb0/expr.ipynb\"><img src=\"../../../../../../logic/equality/__pv_it/common/fb96dc12b2aa8801dda64d0132b396c63d1502bb0/expr.png\" style=\"display:inline;vertical-align:middle;\" /></a></td></tr>\n",
       "<tr><td>26</td><td>ExprTuple</td><td>30, 31</td><td><a class=\"ProveItLink\" href=\"../../../../__pv_it/common/5b5dc78a8fc40d83f2b10facdf15ee452d1a0c480/expr.ipynb\"><img src=\"../../../../__pv_it/common/5b5dc78a8fc40d83f2b10facdf15ee452d1a0c480/expr.png\" style=\"display:inline;vertical-align:middle;\" /></a></td></tr>\n",
       "<tr><td>27</td><td>Variable</td><td></td><td><a class=\"ProveItLink\" href=\"../../../../../../core_expr_types/tuples/__pv_it/common/9a18d67b443cf8d92289c655ed91ec78766170a90/expr.ipynb\"><img src=\"../../../../../../core_expr_types/tuples/__pv_it/common/9a18d67b443cf8d92289c655ed91ec78766170a90/expr.png\" style=\"display:inline;vertical-align:middle;\" /></a></td></tr>\n",
       "<tr><td>28</td><td>ExprTuple</td><td>45, 32, 33, 41, 34</td><td><a class=\"ProveItLink\" href=\"../eb203dae4c5ef5239b6105224a0be53fa68b38df0/expr.ipynb\"><img src=\"../eb203dae4c5ef5239b6105224a0be53fa68b38df0/expr.png\" style=\"display:inline;vertical-align:middle;\" /></a></td></tr>\n",
       "<tr><td>29</td><td>Operation</td><td>operator:&nbsp;35<br>operands:&nbsp;36<br></td><td><a class=\"ProveItLink\" href=\"../../common/eebd5e7fa2fd775d69cf1fecc5958e68e4dc79b60/expr.ipynb\"><img src=\"../../common/eebd5e7fa2fd775d69cf1fecc5958e68e4dc79b60/expr.png\" style=\"display:inline;vertical-align:middle;\" /></a></td></tr>\n",
       "<tr><td>30</td><td>Operation</td><td>operator:&nbsp;37<br>operand:&nbsp;41<br></td><td><a class=\"ProveItLink\" href=\"../../../../__pv_it/common/3e3dbb06b1a2a7badbbe05b6c84311c336fbfc430/expr.ipynb\"><img src=\"../../../../__pv_it/common/3e3dbb06b1a2a7badbbe05b6c84311c336fbfc430/expr.png\" style=\"display:inline;vertical-align:middle;\" /></a></td></tr>\n",
       "<tr><td>31</td><td>Literal</td><td></td><td><a class=\"ProveItLink\" href=\"../../../../../../numbers/numerals/__pv_it/common/682157d4892d216d9e5626ed533aff9b56b9506e0/expr.ipynb\"><img src=\"../../../../../../numbers/numerals/__pv_it/common/682157d4892d216d9e5626ed533aff9b56b9506e0/expr.png\" style=\"display:inline;vertical-align:middle;\" /></a></td></tr>\n",
       "<tr><td>32</td><td>Variable</td><td></td><td><a class=\"ProveItLink\" href=\"../../../../../../__pv_it/common/36861eae73a44b53d5b3b017ac6a3a9dae53bfba0/expr.ipynb\"><img src=\"../../../../../../__pv_it/common/36861eae73a44b53d5b3b017ac6a3a9dae53bfba0/expr.png\" style=\"display:inline;vertical-align:middle;\" /></a></td></tr>\n",
       "<tr><td>33</td><td>Variable</td><td></td><td><a class=\"ProveItLink\" href=\"../../../../../../__pv_it/common/2586cdae2fd2785a5bcbf61f99f7aaf8229d775e0/expr.ipynb\"><img src=\"../../../../../../__pv_it/common/2586cdae2fd2785a5bcbf61f99f7aaf8229d775e0/expr.png\" style=\"display:inline;vertical-align:middle;\" /></a></td></tr>\n",
       "<tr><td>34</td><td>Variable</td><td></td><td><a class=\"ProveItLink\" href=\"../../common/ffe5f12137de00123ee13681dbf8d1ac898a5a360/expr.ipynb\"><img src=\"../../common/ffe5f12137de00123ee13681dbf8d1ac898a5a360/expr.png\" style=\"display:inline;vertical-align:middle;\" /></a></td></tr>\n",
       "<tr><td>35</td><td>Literal</td><td></td><td><a class=\"ProveItLink\" href=\"../../../../../../logic/sets/cartesian_products/__pv_it/common/7d20d67ddfbd94ad12efc9670c0d16a295b8ec1a0/expr.ipynb\"><img src=\"../../../../../../logic/sets/cartesian_products/__pv_it/common/7d20d67ddfbd94ad12efc9670c0d16a295b8ec1a0/expr.png\" style=\"display:inline;vertical-align:middle;\" /></a></td></tr>\n",
       "<tr><td>36</td><td>ExprTuple</td><td>39, 40</td><td><a class=\"ProveItLink\" href=\"../../common/d5cb840ed755aece4574833a120cc628f41b97620/expr.ipynb\"><img src=\"../../common/d5cb840ed755aece4574833a120cc628f41b97620/expr.png\" style=\"display:inline;vertical-align:middle;\" /></a></td></tr>\n",
       "<tr><td>37</td><td>Literal</td><td></td><td><a class=\"ProveItLink\" href=\"../../../../../../linear_algebra/inner_products/__pv_it/common/2c00dcac538e537d968253ed1ac6a761c803991f0/expr.ipynb\"><img src=\"../../../../../../linear_algebra/inner_products/__pv_it/common/2c00dcac538e537d968253ed1ac6a761c803991f0/expr.png\" style=\"display:inline;vertical-align:middle;\" /></a></td></tr>\n",
       "<tr><td>38</td><td>ExprTuple</td><td>41</td><td><a class=\"ProveItLink\" href=\"../../../../__pv_it/common/0d4af1042448e3de8553f32f7dec48e9640e1d120/expr.ipynb\"><img src=\"../../../../__pv_it/common/0d4af1042448e3de8553f32f7dec48e9640e1d120/expr.png\" style=\"display:inline;vertical-align:middle;\" /></a></td></tr>\n",
       "<tr><td>39</td><td>Literal</td><td></td><td><a class=\"ProveItLink\" href=\"../../../../../../numbers/number_sets/complex_numbers/__pv_it/common/d18a028138f659eda00de597c28a3447fe87eb100/expr.ipynb\"><img src=\"../../../../../../numbers/number_sets/complex_numbers/__pv_it/common/d18a028138f659eda00de597c28a3447fe87eb100/expr.png\" style=\"display:inline;vertical-align:middle;\" /></a></td></tr>\n",
       "<tr><td>40</td><td>Operation</td><td>operator:&nbsp;42<br>operands:&nbsp;43<br></td><td><a class=\"ProveItLink\" href=\"../../common/52731ec84958166fa2101a91be703396f6ec848b0/expr.ipynb\"><img src=\"../../common/52731ec84958166fa2101a91be703396f6ec848b0/expr.png\" style=\"display:inline;vertical-align:middle;\" /></a></td></tr>\n",
       "<tr><td>41</td><td>Variable</td><td></td><td><a class=\"ProveItLink\" href=\"../../../../__pv_it/common/e9ccc523355dd5c57db74023629fa3172587db260/expr.ipynb\"><img src=\"../../../../__pv_it/common/e9ccc523355dd5c57db74023629fa3172587db260/expr.png\" style=\"display:inline;vertical-align:middle;\" /></a></td></tr>\n",
       "<tr><td>42</td><td>Literal</td><td></td><td><a class=\"ProveItLink\" href=\"../../../../../../numbers/exponentiation/__pv_it/common/0ac37aca1e54c35c5cda09672df32d4f69f1f3020/expr.ipynb\"><img src=\"../../../../../../numbers/exponentiation/__pv_it/common/0ac37aca1e54c35c5cda09672df32d4f69f1f3020/expr.png\" style=\"display:inline;vertical-align:middle;\" /></a></td></tr>\n",
       "<tr><td>43</td><td>ExprTuple</td><td>44, 45</td><td><a class=\"ProveItLink\" href=\"../../common/038db0ce989e16471a20104c3d2e563ddb0901a40/expr.ipynb\"><img src=\"../../common/038db0ce989e16471a20104c3d2e563ddb0901a40/expr.png\" style=\"display:inline;vertical-align:middle;\" /></a></td></tr>\n",
       "<tr><td>44</td><td>Literal</td><td></td><td><a class=\"ProveItLink\" href=\"../../../../../../numbers/numerals/__pv_it/common/af4aab8a07465db063742696e006d04670f30cf10/expr.ipynb\"><img src=\"../../../../../../numbers/numerals/__pv_it/common/af4aab8a07465db063742696e006d04670f30cf10/expr.png\" style=\"display:inline;vertical-align:middle;\" /></a></td></tr>\n",
       "<tr><td>45</td><td>Variable</td><td></td><td><a class=\"ProveItLink\" href=\"../../../../../../__pv_it/common/811706e3598661dd7051509b3af45e1ece9837d80/expr.ipynb\"><img src=\"../../../../../../__pv_it/common/811706e3598661dd7051509b3af45e1ece9837d80/expr.png\" style=\"display:inline;vertical-align:middle;\" /></a></td></tr>\n",
       "</table>\n"
      ],
      "text/plain": [
       "0. U -> {forall_{|u> in Complex^{2^{s}} | |||u>|| = 1} [forall_{phase} _b(s, t, U, |u>, phase)] if U in U(2^{s}).\n",
       "   core type: Lambda\n",
       "   parameter: 33\n",
       "   body: 2\n",
       "1. (U)\n",
       "   core type: ExprTuple\n",
       "   sub-expressions: 33\n",
       "2. {forall_{|u> in Complex^{2^{s}} | |||u>|| = 1} [forall_{phase} _b(s, t, U, |u>, phase)] if U in U(2^{s}).\n",
       "   core type: Conditional\n",
       "   value: 3\n",
       "   condition: 4\n",
       "3. forall_{|u> in Complex^{2^{s}} | |||u>|| = 1} [forall_{phase} _b(s, t, U, |u>, phase)]\n",
       "   core type: Operation\n",
       "   operator: 14\n",
       "   operand: 7\n",
       "4. U in U(2^{s})\n",
       "   core type: Operation\n",
       "   operator: 23\n",
       "   operands: 6\n",
       "5. (|u> -> {forall_{phase} _b(s, t, U, |u>, phase) if |u> in Complex^{2^{s}} ,  |||u>|| = 1.)\n",
       "   core type: ExprTuple\n",
       "   sub-expressions: 7\n",
       "6. (U, U(2^{s}))\n",
       "   core type: ExprTuple\n",
       "   sub-expressions: 33, 8\n",
       "7. |u> -> {forall_{phase} _b(s, t, U, |u>, phase) if |u> in Complex^{2^{s}} ,  |||u>|| = 1.\n",
       "   core type: Lambda\n",
       "   parameter: 41\n",
       "   body: 9\n",
       "8. U(2^{s})\n",
       "   core type: Operation\n",
       "   operator: 10\n",
       "   operand: 40\n",
       "9. {forall_{phase} _b(s, t, U, |u>, phase) if |u> in Complex^{2^{s}} ,  |||u>|| = 1.\n",
       "   core type: Conditional\n",
       "   value: 12\n",
       "   condition: 13\n",
       "10. U\n",
       "    core type: Literal\n",
       "    sub-expressions: \n",
       "11. (2^{s})\n",
       "    core type: ExprTuple\n",
       "    sub-expressions: 40\n",
       "12. forall_{phase} _b(s, t, U, |u>, phase)\n",
       "    core type: Operation\n",
       "    operator: 14\n",
       "    operand: 18\n",
       "13. (|u> in Complex^{2^{s}}) and (|||u>|| = 1)\n",
       "    core type: Operation\n",
       "    operator: 16\n",
       "    operands: 17\n",
       "14. forall\n",
       "    core type: Literal\n",
       "    sub-expressions: \n",
       "15. (phase -> _b(s, t, U, |u>, phase))\n",
       "    core type: ExprTuple\n",
       "    sub-expressions: 18\n",
       "16. and\n",
       "    core type: Literal\n",
       "    sub-expressions: \n",
       "17. (|u> in Complex^{2^{s}}, |||u>|| = 1)\n",
       "    core type: ExprTuple\n",
       "    sub-expressions: 19, 20\n",
       "18. phase -> _b(s, t, U, |u>, phase)\n",
       "    core type: Lambda\n",
       "    parameter: 34\n",
       "    body: 22\n",
       "19. |u> in Complex^{2^{s}}\n",
       "    core type: Operation\n",
       "    operator: 23\n",
       "    operands: 24\n",
       "20. |||u>|| = 1\n",
       "    core type: Operation\n",
       "    operator: 25\n",
       "    operands: 26\n",
       "21. (phase)\n",
       "    core type: ExprTuple\n",
       "    sub-expressions: 34\n",
       "22. _b(s, t, U, |u>, phase)\n",
       "    core type: Operation\n",
       "    operator: 27\n",
       "    operands: 28\n",
       "23. in\n",
       "    core type: Literal\n",
       "    sub-expressions: \n",
       "24. (|u>, Complex^{2^{s}})\n",
       "    core type: ExprTuple\n",
       "    sub-expressions: 41, 29\n",
       "25. =\n",
       "    core type: Literal\n",
       "    sub-expressions: \n",
       "26. (|||u>||, 1)\n",
       "    core type: ExprTuple\n",
       "    sub-expressions: 30, 31\n",
       "27. _b\n",
       "    core type: Variable\n",
       "    sub-expressions: \n",
       "28. (s, t, U, |u>, phase)\n",
       "    core type: ExprTuple\n",
       "    sub-expressions: 45, 32, 33, 41, 34\n",
       "29. Complex^{2^{s}}\n",
       "    core type: Operation\n",
       "    operator: 35\n",
       "    operands: 36\n",
       "30. |||u>||\n",
       "    core type: Operation\n",
       "    operator: 37\n",
       "    operand: 41\n",
       "31. 1\n",
       "    core type: Literal\n",
       "    sub-expressions: \n",
       "32. t\n",
       "    core type: Variable\n",
       "    sub-expressions: \n",
       "33. U\n",
       "    core type: Variable\n",
       "    sub-expressions: \n",
       "34. phase\n",
       "    core type: Variable\n",
       "    sub-expressions: \n",
       "35. CartExp\n",
       "    core type: Literal\n",
       "    sub-expressions: \n",
       "36. (Complex, 2^{s})\n",
       "    core type: ExprTuple\n",
       "    sub-expressions: 39, 40\n",
       "37. Abs\n",
       "    core type: Literal\n",
       "    sub-expressions: \n",
       "38. (|u>)\n",
       "    core type: ExprTuple\n",
       "    sub-expressions: 41\n",
       "39. Complex\n",
       "    core type: Literal\n",
       "    sub-expressions: \n",
       "40. 2^{s}\n",
       "    core type: Operation\n",
       "    operator: 42\n",
       "    operands: 43\n",
       "41. |u>\n",
       "    core type: Variable\n",
       "    sub-expressions: \n",
       "42. Exp\n",
       "    core type: Literal\n",
       "    sub-expressions: \n",
       "43. (2, s)\n",
       "    core type: ExprTuple\n",
       "    sub-expressions: 44, 45\n",
       "44. 2\n",
       "    core type: Literal\n",
       "    sub-expressions: \n",
       "45. s\n",
       "    core type: Variable\n",
       "    sub-expressions: "
      ]
     },
     "metadata": {},
     "output_type": "display_data"
    }
   ],
   "source": [
    "# display the expression information\n",
    "stored_expr.expr_info()"
   ]
  },
  {
   "cell_type": "code",
   "execution_count": null,
   "metadata": {},
   "outputs": [],
   "source": []
  }
 ],
 "metadata": {
  "kernelspec": {
   "display_name": "Python 3",
   "language": "python",
   "name": "python3"
  }
 },
 "nbformat": 4,
 "nbformat_minor": 0
}