{
 "cells": [
  {
   "cell_type": "markdown",
   "metadata": {},
   "source": [
    "Show the Proof\n",
    "========"
   ]
  },
  {
   "cell_type": "code",
   "execution_count": 1,
   "metadata": {},
   "outputs": [
    {
     "data": {
      "text/html": [
       "<table><tr><th>&nbsp;</th><th>step type</th><th>requirements</th><th>statement</th></tr>\n",
       "<tr><td><a name=\"proveit.physics.quantum.QPE._proof_qpe_exact.66a101535c68587f1b8fc0b92b8b87922b8b00190_step0\">0</a></td><td>instantiation</td><td><a href=\"#proveit.physics.quantum.QPE._proof_qpe_exact.66a101535c68587f1b8fc0b92b8b87922b8b00190_step1\">1</a>, <a href=\"#proveit.physics.quantum.QPE._proof_qpe_exact.66a101535c68587f1b8fc0b92b8b87922b8b00190_step2\">2</a></td><td><span style=\"font-size:20px;\"> <a class=\"ProveItLink\" href=\"proof.ipynb\" style=\"text-decoration: none\">&nbsp;&#x22A2;&nbsp;&nbsp;</a><a class=\"ProveItLink\" href=\"../d1250c4da3bb25a503d3fa18220804bfd305a7830/expr.ipynb\"><img src=\"../d1250c4da3bb25a503d3fa18220804bfd305a7830/expr.png\" style=\"display:inline;vertical-align:middle;\" /></a></span></td></tr>\n",
       "<tr><td>&nbsp;</td><td colspan=4 style=\"text-align:left\"><span style=\"font-size:20px;\"><a class=\"ProveItLink\" href=\"../../../../../../__pv_it/common/ae955345c83abf786c3aff8681cd5465beae262d0/expr.ipynb\"><img src=\"../../../../../../__pv_it/common/ae955345c83abf786c3aff8681cd5465beae262d0/expr.png\" style=\"display:inline;vertical-align:middle;\" /></a> : <a class=\"ProveItLink\" href=\"../../../../../../numbers/numerals/__pv_it/common/16e9923976ab933f6783588485130530d25dafab0/expr.ipynb\"><img src=\"../../../../../../numbers/numerals/__pv_it/common/16e9923976ab933f6783588485130530d25dafab0/expr.png\" style=\"display:inline;vertical-align:middle;\" /></a>, <a class=\"ProveItLink\" href=\"../f97c9e5bec8f9ec6c01ae9fb2ce280a4480bb6cc0/expr.ipynb\"><img src=\"../f97c9e5bec8f9ec6c01ae9fb2ce280a4480bb6cc0/expr.png\" style=\"display:inline;vertical-align:middle;\" /></a> : <a class=\"ProveItLink\" href=\"../330dca2139ea504c4ebed23ade1af27ba0a336770/expr.ipynb\"><img src=\"../330dca2139ea504c4ebed23ade1af27ba0a336770/expr.png\" style=\"display:inline;vertical-align:middle;\" /></a>, <a class=\"ProveItLink\" href=\"../c1c58e821439d47fd6a13c8ed02644668ec7db450/expr.ipynb\"><img src=\"../c1c58e821439d47fd6a13c8ed02644668ec7db450/expr.png\" style=\"display:inline;vertical-align:middle;\" /></a> : <a class=\"ProveItLink\" href=\"../../theorems/271a0e912fba3b42ce15c415fb35d93e14e2862f0/expr.ipynb\"><img src=\"../../theorems/271a0e912fba3b42ce15c415fb35d93e14e2862f0/expr.png\" style=\"display:inline;vertical-align:middle;\" /></a>, <a class=\"ProveItLink\" href=\"../3bbb2bb3438cda1cc949c00533151913709c0c530/expr.ipynb\"><img src=\"../3bbb2bb3438cda1cc949c00533151913709c0c530/expr.png\" style=\"display:inline;vertical-align:middle;\" /></a> : <a class=\"ProveItLink\" href=\"../../theorems/71c1fc00120f763c694cd99d32f7a5e7315b9ca50/expr.ipynb\"><img src=\"../../theorems/71c1fc00120f763c694cd99d32f7a5e7315b9ca50/expr.png\" style=\"display:inline;vertical-align:middle;\" /></a>, <a class=\"ProveItLink\" href=\"../../../../../../__pv_it/common/c06c606ec12678c58933ac85412ecadc2ae28be60/expr.ipynb\"><img src=\"../../../../../../__pv_it/common/c06c606ec12678c58933ac85412ecadc2ae28be60/expr.png\" style=\"display:inline;vertical-align:middle;\" /></a> : <a class=\"ProveItLink\" href=\"../eb203dae4c5ef5239b6105224a0be53fa68b38df0/expr.ipynb\"><img src=\"../eb203dae4c5ef5239b6105224a0be53fa68b38df0/expr.png\" style=\"display:inline;vertical-align:middle;\" /></a>, <a class=\"ProveItLink\" href=\"../../../../../../__pv_it/common/195236b98c6c564a75b5dbada74b173bc52d5c3e0/expr.ipynb\"><img src=\"../../../../../../__pv_it/common/195236b98c6c564a75b5dbada74b173bc52d5c3e0/expr.png\" style=\"display:inline;vertical-align:middle;\" /></a> : <a class=\"ProveItLink\" href=\"../eb203dae4c5ef5239b6105224a0be53fa68b38df0/expr.ipynb\"><img src=\"../eb203dae4c5ef5239b6105224a0be53fa68b38df0/expr.png\" style=\"display:inline;vertical-align:middle;\" /></a>, <a class=\"ProveItLink\" href=\"../../../../../../__pv_it/common/ceef4280a2f1cc604b455b54e735507244cc62cd0/expr.ipynb\"><img src=\"../../../../../../__pv_it/common/ceef4280a2f1cc604b455b54e735507244cc62cd0/expr.png\" style=\"display:inline;vertical-align:middle;\" /></a> : <a class=\"ProveItLink\" href=\"../eb203dae4c5ef5239b6105224a0be53fa68b38df0/expr.ipynb\"><img src=\"../eb203dae4c5ef5239b6105224a0be53fa68b38df0/expr.png\" style=\"display:inline;vertical-align:middle;\" /></a></span></td></tr><tr><td><a name=\"proveit.physics.quantum.QPE._proof_qpe_exact.66a101535c68587f1b8fc0b92b8b87922b8b00190_step1\">1</a></td><td>theorem</td><td></td><td><span style=\"font-size:20px;\"> <a class=\"ProveItLink\" href=\"../../../../../../core_expr_types/lambda_maps/_theory_nbs_/proofs/general_lambda_substitution/thm_proof.ipynb\" style=\"text-decoration: none\">&nbsp;&#x22A2;&nbsp;&nbsp;</a><a class=\"ProveItLink\" href=\"../../../../../../core_expr_types/lambda_maps/__pv_it/theorems/6679331be9e478407e6eaf1170f20046992098510/expr.ipynb\"><img src=\"../../../../../../core_expr_types/lambda_maps/__pv_it/theorems/6679331be9e478407e6eaf1170f20046992098510/expr.png\" style=\"display:inline;vertical-align:middle;\" /></a></span></td></tr>\n",
       "<tr><td>&nbsp;</td><td colspan=4 style-\"text-align:left\"><a class=\"ProveItLink\" href=\"../../../../../../core_expr_types/lambda_maps/_theory_nbs_/proofs/general_lambda_substitution/thm_proof.ipynb\">proveit.core_expr_types.lambda_maps.general_lambda_substitution</a></td></tr><tr><td><a name=\"proveit.physics.quantum.QPE._proof_qpe_exact.66a101535c68587f1b8fc0b92b8b87922b8b00190_step2\">2</a></td><td>theorem</td><td></td><td><span style=\"font-size:20px;\"> <a class=\"ProveItLink\" href=\"../../../../../../numbers/numerals/decimals/_theory_nbs_/proofs/posnat5/thm_proof.ipynb\" style=\"text-decoration: none\">&nbsp;&#x22A2;&nbsp;&nbsp;</a><a class=\"ProveItLink\" href=\"../../../../../../numbers/numerals/decimals/__pv_it/theorems/64bea1f24fa8c7c62f765c3514b0a88ce35c9cd50/expr.ipynb\"><img src=\"../../../../../../numbers/numerals/decimals/__pv_it/theorems/64bea1f24fa8c7c62f765c3514b0a88ce35c9cd50/expr.png\" style=\"display:inline;vertical-align:middle;\" /></a></span></td></tr>\n",
       "<tr><td>&nbsp;</td><td colspan=4 style-\"text-align:left\"><a class=\"ProveItLink\" href=\"../../../../../../numbers/numerals/decimals/_theory_nbs_/proofs/posnat5/thm_proof.ipynb\">proveit.numbers.numerals.decimals.posnat5</a></td></tr></table>"
      ],
      "text/plain": [
       "<proveit._core_.proof._ShowProof at 0x7f212b860b70>"
      ]
     },
     "execution_count": 1,
     "metadata": {},
     "output_type": "execute_result"
    }
   ],
   "source": [
    "import proveit\n",
    "# Automation is not needed when only showing a stored proof:\n",
    "proveit.defaults.automation = False # This will speed things up.\n",
    "proveit.defaults.inline_pngs = False # Makes files smaller.\n",
    "%show_proof"
   ]
  },
  {
   "cell_type": "code",
   "execution_count": null,
   "metadata": {},
   "outputs": [],
   "source": []
  }
 ],
 "metadata": {
  "kernelspec": {
   "display_name": "Python 3",
   "language": "python",
   "name": "python3"
  }
 },
 "nbformat": 4,
 "nbformat_minor": 0
}