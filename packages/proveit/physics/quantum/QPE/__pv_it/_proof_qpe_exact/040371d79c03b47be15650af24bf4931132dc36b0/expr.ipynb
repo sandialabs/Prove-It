{
 "cells": [
  {
   "cell_type": "markdown",
   "metadata": {},
   "source": [
    "Expression of type <a class=\"ProveItLink\" href=\"../../../../../../../../doc/html/api/proveit.ExprTuple.html\">ExprTuple</a>\n",
    "=======================\n",
    "# from the theory of <a class=\"ProveItLink\" href=\"../../../_theory_nbs_/theory.ipynb\">proveit.physics.quantum.QPE</a>"
   ]
  },
  {
   "cell_type": "code",
   "execution_count": 1,
   "metadata": {},
   "outputs": [],
   "source": [
    "import proveit\n",
    "# Automation is not needed when building an expression:\n",
    "proveit.defaults.automation = False # This will speed things up.\n",
    "proveit.defaults.inline_pngs = False # Makes files smaller.\n",
    "%load_expr # Load the stored expression as 'stored_expr'\n",
    "# import Expression classes needed to build the expression\n",
    "from proveit import ExprTuple, Function, Lambda, U, Variable, s, t\n",
    "from proveit.physics.quantum import var_ket_u\n",
    "from proveit.physics.quantum.QPE import phase"
   ]
  },
  {
   "cell_type": "code",
   "execution_count": 2,
   "metadata": {},
   "outputs": [
    {
     "data": {
      "text/html": [
       "<strong id=\"expr\">expr:</strong> <a class=\"ProveItLink\" href=\"expr.ipynb\"><img src=\"expr.png\" style=\"display:inline;vertical-align:middle;\" /></a><br>"
      ],
      "text/plain": [
       "<IPython.core.display.HTML object>"
      ]
     },
     "metadata": {},
     "output_type": "display_data"
    }
   ],
   "source": [
    "# build up the expression from sub-expressions\n",
    "expr = ExprTuple(Lambda(phase, Function(Variable(\"_b\", latex_format = r\"{_{-}b}\"), [s, t, U, var_ket_u, phase])))"
   ]
  },
  {
   "cell_type": "code",
   "execution_count": 3,
   "metadata": {},
   "outputs": [
    {
     "name": "stdout",
     "output_type": "stream",
     "text": [
      "Passed sanity check: expr matches stored_expr\n"
     ]
    }
   ],
   "source": [
    "# check that the built expression is the same as the stored expression\n",
    "assert expr == stored_expr\n",
    "assert expr._style_id == stored_expr._style_id\n",
    "print(\"Passed sanity check: expr matches stored_expr\")"
   ]
  },
  {
   "cell_type": "code",
   "execution_count": 4,
   "metadata": {},
   "outputs": [
    {
     "name": "stdout",
     "output_type": "stream",
     "text": [
      "\\left(\\varphi \\mapsto {_{-}b}\\left(s, t, U, \\lvert u \\rangle, \\varphi\\right)\\right)\n"
     ]
    }
   ],
   "source": [
    "# Show the LaTeX representation of the expression for convenience if you need it.\n",
    "print(stored_expr.latex())"
   ]
  },
  {
   "cell_type": "code",
   "execution_count": 5,
   "metadata": {},
   "outputs": [
    {
     "data": {
      "text/html": [
       "no style options"
      ],
      "text/plain": [
       "no style options"
      ]
     },
     "metadata": {},
     "output_type": "display_data"
    }
   ],
   "source": [
    "stored_expr.style_options()"
   ]
  },
  {
   "cell_type": "code",
   "execution_count": 6,
   "metadata": {},
   "outputs": [
    {
     "data": {
      "text/html": [
       "<table><tr><th>&nbsp;</th><th>core type</th><th>sub-expressions</th><th>expression</th></tr>\n",
       "<tr><td>0</td><td>ExprTuple</td><td>1</td><td><a class=\"ProveItLink\" href=\"expr.ipynb\"><img src=\"expr.png\" style=\"display:inline;vertical-align:middle;\" /></a></td></tr>\n",
       "<tr><td>1</td><td>Lambda</td><td>parameter:&nbsp;10<br>body:&nbsp;3<br></td><td><a class=\"ProveItLink\" href=\"../1c6985fcb827dadcece6154c9754312fe0f2e87a0/expr.ipynb\"><img src=\"../1c6985fcb827dadcece6154c9754312fe0f2e87a0/expr.png\" style=\"display:inline;vertical-align:middle;\" /></a></td></tr>\n",
       "<tr><td>2</td><td>ExprTuple</td><td>10</td><td><a class=\"ProveItLink\" href=\"../../theorems/29e8a378c37a51dafce04ab8e4851d3c32f4a33f0/expr.ipynb\"><img src=\"../../theorems/29e8a378c37a51dafce04ab8e4851d3c32f4a33f0/expr.png\" style=\"display:inline;vertical-align:middle;\" /></a></td></tr>\n",
       "<tr><td>3</td><td>Operation</td><td>operator:&nbsp;4<br>operands:&nbsp;5<br></td><td><a class=\"ProveItLink\" href=\"../fd63255a541ea3afe39e61295a3b13329d547b220/expr.ipynb\"><img src=\"../fd63255a541ea3afe39e61295a3b13329d547b220/expr.png\" style=\"display:inline;vertical-align:middle;\" /></a></td></tr>\n",
       "<tr><td>4</td><td>Variable</td><td></td><td><a class=\"ProveItLink\" href=\"../../../../../../core_expr_types/tuples/__pv_it/common/9a18d67b443cf8d92289c655ed91ec78766170a90/expr.ipynb\"><img src=\"../../../../../../core_expr_types/tuples/__pv_it/common/9a18d67b443cf8d92289c655ed91ec78766170a90/expr.png\" style=\"display:inline;vertical-align:middle;\" /></a></td></tr>\n",
       "<tr><td>5</td><td>ExprTuple</td><td>6, 7, 8, 9, 10</td><td><a class=\"ProveItLink\" href=\"../eb203dae4c5ef5239b6105224a0be53fa68b38df0/expr.ipynb\"><img src=\"../eb203dae4c5ef5239b6105224a0be53fa68b38df0/expr.png\" style=\"display:inline;vertical-align:middle;\" /></a></td></tr>\n",
       "<tr><td>6</td><td>Variable</td><td></td><td><a class=\"ProveItLink\" href=\"../../../../../../__pv_it/common/811706e3598661dd7051509b3af45e1ece9837d80/expr.ipynb\"><img src=\"../../../../../../__pv_it/common/811706e3598661dd7051509b3af45e1ece9837d80/expr.png\" style=\"display:inline;vertical-align:middle;\" /></a></td></tr>\n",
       "<tr><td>7</td><td>Variable</td><td></td><td><a class=\"ProveItLink\" href=\"../../../../../../__pv_it/common/36861eae73a44b53d5b3b017ac6a3a9dae53bfba0/expr.ipynb\"><img src=\"../../../../../../__pv_it/common/36861eae73a44b53d5b3b017ac6a3a9dae53bfba0/expr.png\" style=\"display:inline;vertical-align:middle;\" /></a></td></tr>\n",
       "<tr><td>8</td><td>Variable</td><td></td><td><a class=\"ProveItLink\" href=\"../../../../../../__pv_it/common/2586cdae2fd2785a5bcbf61f99f7aaf8229d775e0/expr.ipynb\"><img src=\"../../../../../../__pv_it/common/2586cdae2fd2785a5bcbf61f99f7aaf8229d775e0/expr.png\" style=\"display:inline;vertical-align:middle;\" /></a></td></tr>\n",
       "<tr><td>9</td><td>Variable</td><td></td><td><a class=\"ProveItLink\" href=\"../../../../__pv_it/common/e9ccc523355dd5c57db74023629fa3172587db260/expr.ipynb\"><img src=\"../../../../__pv_it/common/e9ccc523355dd5c57db74023629fa3172587db260/expr.png\" style=\"display:inline;vertical-align:middle;\" /></a></td></tr>\n",
       "<tr><td>10</td><td>Variable</td><td></td><td><a class=\"ProveItLink\" href=\"../../common/ffe5f12137de00123ee13681dbf8d1ac898a5a360/expr.ipynb\"><img src=\"../../common/ffe5f12137de00123ee13681dbf8d1ac898a5a360/expr.png\" style=\"display:inline;vertical-align:middle;\" /></a></td></tr>\n",
       "</table>\n"
      ],
      "text/plain": [
       "0. (phase -> _b(s, t, U, |u>, phase))\n",
       "   core type: ExprTuple\n",
       "   sub-expressions: 1\n",
       "1. phase -> _b(s, t, U, |u>, phase)\n",
       "   core type: Lambda\n",
       "   parameter: 10\n",
       "   body: 3\n",
       "2. (phase)\n",
       "   core type: ExprTuple\n",
       "   sub-expressions: 10\n",
       "3. _b(s, t, U, |u>, phase)\n",
       "   core type: Operation\n",
       "   operator: 4\n",
       "   operands: 5\n",
       "4. _b\n",
       "   core type: Variable\n",
       "   sub-expressions: \n",
       "5. (s, t, U, |u>, phase)\n",
       "   core type: ExprTuple\n",
       "   sub-expressions: 6, 7, 8, 9, 10\n",
       "6. s\n",
       "   core type: Variable\n",
       "   sub-expressions: \n",
       "7. t\n",
       "   core type: Variable\n",
       "   sub-expressions: \n",
       "8. U\n",
       "   core type: Variable\n",
       "   sub-expressions: \n",
       "9. |u>\n",
       "   core type: Variable\n",
       "   sub-expressions: \n",
       "10. phase\n",
       "    core type: Variable\n",
       "    sub-expressions: "
      ]
     },
     "metadata": {},
     "output_type": "display_data"
    }
   ],
   "source": [
    "# display the expression information\n",
    "stored_expr.expr_info()"
   ]
  },
  {
   "cell_type": "code",
   "execution_count": null,
   "metadata": {},
   "outputs": [],
   "source": []
  }
 ],
 "metadata": {
  "kernelspec": {
   "display_name": "Python 3",
   "language": "python",
   "name": "python3"
  }
 },
 "nbformat": 4,
 "nbformat_minor": 0
}