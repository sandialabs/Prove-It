{
 "cells": [
  {
   "cell_type": "markdown",
   "metadata": {},
   "source": [
    "Expression of type <a class=\"ProveItLink\" href=\"../../../../../../../../doc/html/api/proveit.ExprTuple.html\">ExprTuple</a>\n",
    "=======================\n",
    "# from the theory of <a class=\"ProveItLink\" href=\"../../../_theory_nbs_/theory.ipynb\">proveit.physics.quantum.QPE</a>"
   ]
  },
  {
   "cell_type": "code",
   "execution_count": 1,
   "metadata": {},
   "outputs": [],
   "source": [
    "import proveit\n",
    "# Automation is not needed when building an expression:\n",
    "proveit.defaults.automation = False # This will speed things up.\n",
    "proveit.defaults.inline_pngs = False # Makes files smaller.\n",
    "%load_expr # Load the stored expression as 'stored_expr'\n",
    "# import Expression classes needed to build the expression\n",
    "from proveit import ExprTuple, l\n",
    "from proveit.numbers import Exp, Mult, e, frac, i, one, pi, subtract, two\n",
    "from proveit.physics.quantum.QPE import _delta_b_floor, _rel_indexed_alpha, _two_pow_t"
   ]
  },
  {
   "cell_type": "code",
   "execution_count": 2,
   "metadata": {},
   "outputs": [
    {
     "data": {
      "text/html": [
       "<strong id=\"expr\">expr:</strong> <a class=\"ProveItLink\" href=\"expr.ipynb\"><img src=\"expr.png\" style=\"display:inline;vertical-align:middle;\" /></a><br>"
      ],
      "text/plain": [
       "<IPython.core.display.HTML object>"
      ]
     },
     "metadata": {},
     "output_type": "display_data"
    }
   ],
   "source": [
    "# build up the expression from sub-expressions\n",
    "sub_expr1 = subtract(_delta_b_floor, frac(l, _two_pow_t))\n",
    "expr = ExprTuple(_rel_indexed_alpha, Mult(frac(one, _two_pow_t), frac(subtract(one, Exp(e, Mult(two, pi, i, sub_expr1, _two_pow_t))), subtract(one, Exp(e, Mult(two, pi, i, sub_expr1))))))"
   ]
  },
  {
   "cell_type": "code",
   "execution_count": 3,
   "metadata": {},
   "outputs": [
    {
     "name": "stdout",
     "output_type": "stream",
     "text": [
      "Passed sanity check: expr matches stored_expr\n"
     ]
    }
   ],
   "source": [
    "# check that the built expression is the same as the stored expression\n",
    "assert expr == stored_expr\n",
    "assert expr._style_id == stored_expr._style_id\n",
    "print(\"Passed sanity check: expr matches stored_expr\")"
   ]
  },
  {
   "cell_type": "code",
   "execution_count": 4,
   "metadata": {},
   "outputs": [
    {
     "name": "stdout",
     "output_type": "stream",
     "text": [
      "\\left(\\alpha_{b_{\\textit{f}} \\oplus l}, \\frac{1}{2^{t}} \\cdot \\frac{1 - \\mathsf{e}^{2 \\cdot \\pi \\cdot \\mathsf{i} \\cdot \\left(\\delta_{b_{\\textit{f}}} - \\frac{l}{2^{t}}\\right) \\cdot 2^{t}}}{1 - \\mathsf{e}^{2 \\cdot \\pi \\cdot \\mathsf{i} \\cdot \\left(\\delta_{b_{\\textit{f}}} - \\frac{l}{2^{t}}\\right)}}\\right)\n"
     ]
    }
   ],
   "source": [
    "# Show the LaTeX representation of the expression for convenience if you need it.\n",
    "print(stored_expr.latex())"
   ]
  },
  {
   "cell_type": "code",
   "execution_count": 5,
   "metadata": {},
   "outputs": [
    {
     "data": {
      "text/html": [
       "<table>\n",
       "<tr><th>name</th><th>description</th><th>default</th><th>current value</th><th>related methods</th></tr><tr><td>wrap_positions</td><td>position(s) at which wrapping is to occur; 'n' is after the nth comma.</td><td>()</td><td>()</td><td>('with_wrapping_at',)</td></tr>\n",
       "<tr><td>justification</td><td>if any wrap positions are set, justify to the 'left', 'center', or 'right'</td><td>left</td><td>left</td><td>('with_justification',)</td></tr>\n",
       "</table>\n"
      ],
      "text/plain": [
       "style name: wrap_positions\n",
       "description: position(s) at which wrapping is to occur; 'n' is after the nth comma.\n",
       "default: ()\n",
       "current value: ()\n",
       "related methods: ('with_wrapping_at',)\n",
       "style name: justification\n",
       "description: if any wrap positions are set, justify to the 'left', 'center', or 'right'\n",
       "default: left\n",
       "current value: left\n",
       "related methods: ('with_justification',)"
      ]
     },
     "metadata": {},
     "output_type": "display_data"
    }
   ],
   "source": [
    "stored_expr.style_options()"
   ]
  },
  {
   "cell_type": "code",
   "execution_count": 6,
   "metadata": {},
   "outputs": [
    {
     "data": {
      "text/html": [
       "<table><tr><th>&nbsp;</th><th>core type</th><th>sub-expressions</th><th>expression</th></tr>\n",
       "<tr><td>0</td><td>ExprTuple</td><td>1, 2</td><td><a class=\"ProveItLink\" href=\"expr.ipynb\"><img src=\"expr.png\" style=\"display:inline;vertical-align:middle;\" /></a></td></tr>\n",
       "<tr><td>1</td><td>Operation</td><td>operator:&nbsp;3<br>operand:&nbsp;6<br></td><td><a class=\"ProveItLink\" href=\"../../common/c1c01d0c1c3f41a0bb6658e5c1bf94153e91678b0/expr.ipynb\"><img src=\"../../common/c1c01d0c1c3f41a0bb6658e5c1bf94153e91678b0/expr.png\" style=\"display:inline;vertical-align:middle;\" /></a></td></tr>\n",
       "<tr><td>2</td><td>Operation</td><td>operator:&nbsp;30<br>operands:&nbsp;5<br></td><td><a class=\"ProveItLink\" href=\"../e09fec2e41449ebee55be9421e46894dec7e65e20/expr.ipynb\"><img src=\"../e09fec2e41449ebee55be9421e46894dec7e65e20/expr.png\" style=\"display:inline;vertical-align:middle;\" /></a></td></tr>\n",
       "<tr><td>3</td><td>Literal</td><td></td><td><a class=\"ProveItLink\" href=\"../../common/91bf0c8711f0cb198093da4362dda6021bfd02790/expr.ipynb\"><img src=\"../../common/91bf0c8711f0cb198093da4362dda6021bfd02790/expr.png\" style=\"display:inline;vertical-align:middle;\" /></a></td></tr>\n",
       "<tr><td>4</td><td>ExprTuple</td><td>6</td><td><a class=\"ProveItLink\" href=\"../../common/eb4c7fd3b2a9bb632e729438dfdf230dba69c8270/expr.ipynb\"><img src=\"../../common/eb4c7fd3b2a9bb632e729438dfdf230dba69c8270/expr.png\" style=\"display:inline;vertical-align:middle;\" /></a></td></tr>\n",
       "<tr><td>5</td><td>ExprTuple</td><td>7, 8</td><td><a class=\"ProveItLink\" href=\"../d20d1ab6528dc9bb95f22aae0c378edc3b4f08cc0/expr.ipynb\"><img src=\"../d20d1ab6528dc9bb95f22aae0c378edc3b4f08cc0/expr.png\" style=\"display:inline;vertical-align:middle;\" /></a></td></tr>\n",
       "<tr><td>6</td><td>Operation</td><td>operator:&nbsp;9<br>operands:&nbsp;10<br></td><td><a class=\"ProveItLink\" href=\"../../common/c3b6eb4a46418dc7b0bba84727aa5841571a136b0/expr.ipynb\"><img src=\"../../common/c3b6eb4a46418dc7b0bba84727aa5841571a136b0/expr.png\" style=\"display:inline;vertical-align:middle;\" /></a></td></tr>\n",
       "<tr><td>7</td><td>Operation</td><td>operator:&nbsp;45<br>operands:&nbsp;11<br></td><td><a class=\"ProveItLink\" href=\"../../theorems/1ad6b12de0d9e9a930ff1231b52bb94d8eeec9a30/expr.ipynb\"><img src=\"../../theorems/1ad6b12de0d9e9a930ff1231b52bb94d8eeec9a30/expr.png\" style=\"display:inline;vertical-align:middle;\" /></a></td></tr>\n",
       "<tr><td>8</td><td>Operation</td><td>operator:&nbsp;45<br>operands:&nbsp;12<br></td><td><a class=\"ProveItLink\" href=\"../1015dcbb674dbe6f635ccbfcfbd94d29e48fc4cf0/expr.ipynb\"><img src=\"../1015dcbb674dbe6f635ccbfcfbd94d29e48fc4cf0/expr.png\" style=\"display:inline;vertical-align:middle;\" /></a></td></tr>\n",
       "<tr><td>9</td><td>Literal</td><td></td><td><a class=\"ProveItLink\" href=\"../../common/46fa490f6e465244392ed9302eb003eb013bfffe0/expr.ipynb\"><img src=\"../../common/46fa490f6e465244392ed9302eb003eb013bfffe0/expr.png\" style=\"display:inline;vertical-align:middle;\" /></a></td></tr>\n",
       "<tr><td>10</td><td>ExprTuple</td><td>43, 47</td><td><a class=\"ProveItLink\" href=\"../../common/a8a3110823440c9a57213bf4ab2f8584d846c7f50/expr.ipynb\"><img src=\"../../common/a8a3110823440c9a57213bf4ab2f8584d846c7f50/expr.png\" style=\"display:inline;vertical-align:middle;\" /></a></td></tr>\n",
       "<tr><td>11</td><td>ExprTuple</td><td>18, 48</td><td><a class=\"ProveItLink\" href=\"../../theorems/a440d55f6370244e877c8370240b6991ecfadd4e0/expr.ipynb\"><img src=\"../../theorems/a440d55f6370244e877c8370240b6991ecfadd4e0/expr.png\" style=\"display:inline;vertical-align:middle;\" /></a></td></tr>\n",
       "<tr><td>12</td><td>ExprTuple</td><td>13, 14</td><td><a class=\"ProveItLink\" href=\"../057d9dd9e6c1c0b0d0dd8cefe4cb416ff14aa51b0/expr.ipynb\"><img src=\"../057d9dd9e6c1c0b0d0dd8cefe4cb416ff14aa51b0/expr.png\" style=\"display:inline;vertical-align:middle;\" /></a></td></tr>\n",
       "<tr><td>13</td><td>Operation</td><td>operator:&nbsp;35<br>operands:&nbsp;15<br></td><td><a class=\"ProveItLink\" href=\"../90c5af69ba8739f991352d801bd7528983fd6fc40/expr.ipynb\"><img src=\"../90c5af69ba8739f991352d801bd7528983fd6fc40/expr.png\" style=\"display:inline;vertical-align:middle;\" /></a></td></tr>\n",
       "<tr><td>14</td><td>Operation</td><td>operator:&nbsp;35<br>operands:&nbsp;16<br></td><td><a class=\"ProveItLink\" href=\"../../theorems/f24c8323e1343c7bb9b02f2d6be0aff32ccc15640/expr.ipynb\"><img src=\"../../theorems/f24c8323e1343c7bb9b02f2d6be0aff32ccc15640/expr.png\" style=\"display:inline;vertical-align:middle;\" /></a></td></tr>\n",
       "<tr><td>15</td><td>ExprTuple</td><td>18, 17</td><td><a class=\"ProveItLink\" href=\"../b2b93c14eebff81c6e1b3f029a22c45fe0bb382c0/expr.ipynb\"><img src=\"../b2b93c14eebff81c6e1b3f029a22c45fe0bb382c0/expr.png\" style=\"display:inline;vertical-align:middle;\" /></a></td></tr>\n",
       "<tr><td>16</td><td>ExprTuple</td><td>18, 19</td><td><a class=\"ProveItLink\" href=\"../../theorems/7817276edebaba88fdebc202ed29d489b000dd310/expr.ipynb\"><img src=\"../../theorems/7817276edebaba88fdebc202ed29d489b000dd310/expr.png\" style=\"display:inline;vertical-align:middle;\" /></a></td></tr>\n",
       "<tr><td>17</td><td>Operation</td><td>operator:&nbsp;41<br>operand:&nbsp;22<br></td><td><a class=\"ProveItLink\" href=\"../4cc78d8661a62bb829df736e686e76e44623f7700/expr.ipynb\"><img src=\"../4cc78d8661a62bb829df736e686e76e44623f7700/expr.png\" style=\"display:inline;vertical-align:middle;\" /></a></td></tr>\n",
       "<tr><td>18</td><td>Literal</td><td></td><td><a class=\"ProveItLink\" href=\"../../../../../../numbers/numerals/__pv_it/common/682157d4892d216d9e5626ed533aff9b56b9506e0/expr.ipynb\"><img src=\"../../../../../../numbers/numerals/__pv_it/common/682157d4892d216d9e5626ed533aff9b56b9506e0/expr.png\" style=\"display:inline;vertical-align:middle;\" /></a></td></tr>\n",
       "<tr><td>19</td><td>Operation</td><td>operator:&nbsp;41<br>operand:&nbsp;23<br></td><td><a class=\"ProveItLink\" href=\"../../theorems/1d413eebb074916208651c6a492ea88d219009310/expr.ipynb\"><img src=\"../../theorems/1d413eebb074916208651c6a492ea88d219009310/expr.png\" style=\"display:inline;vertical-align:middle;\" /></a></td></tr>\n",
       "<tr><td>20</td><td>ExprTuple</td><td>22</td><td><a class=\"ProveItLink\" href=\"../47d62f0aa98aecfc4b0203a1c53e5e9eae148a740/expr.ipynb\"><img src=\"../47d62f0aa98aecfc4b0203a1c53e5e9eae148a740/expr.png\" style=\"display:inline;vertical-align:middle;\" /></a></td></tr>\n",
       "<tr><td>21</td><td>ExprTuple</td><td>23</td><td><a class=\"ProveItLink\" href=\"../../theorems/ae2bdc3beeaf321ebd7426b5126cb5bad8d11dc10/expr.ipynb\"><img src=\"../../theorems/ae2bdc3beeaf321ebd7426b5126cb5bad8d11dc10/expr.png\" style=\"display:inline;vertical-align:middle;\" /></a></td></tr>\n",
       "<tr><td>22</td><td>Operation</td><td>operator:&nbsp;49<br>operands:&nbsp;24<br></td><td><a class=\"ProveItLink\" href=\"../c404e8befcff3ea75ab7c43396e0964a049973a80/expr.ipynb\"><img src=\"../c404e8befcff3ea75ab7c43396e0964a049973a80/expr.png\" style=\"display:inline;vertical-align:middle;\" /></a></td></tr>\n",
       "<tr><td>23</td><td>Operation</td><td>operator:&nbsp;49<br>operands:&nbsp;25<br></td><td><a class=\"ProveItLink\" href=\"../../theorems/5773b369d9985ff6f0f8a68a1b12b0906c5786330/expr.ipynb\"><img src=\"../../theorems/5773b369d9985ff6f0f8a68a1b12b0906c5786330/expr.png\" style=\"display:inline;vertical-align:middle;\" /></a></td></tr>\n",
       "<tr><td>24</td><td>ExprTuple</td><td>27, 26</td><td><a class=\"ProveItLink\" href=\"../0d1558363a04c91a97b5784dae19298bcad5965a0/expr.ipynb\"><img src=\"../0d1558363a04c91a97b5784dae19298bcad5965a0/expr.png\" style=\"display:inline;vertical-align:middle;\" /></a></td></tr>\n",
       "<tr><td>25</td><td>ExprTuple</td><td>27, 28</td><td><a class=\"ProveItLink\" href=\"../../theorems/f83802745918f4ad6417c51a3f4c551b3b8530a40/expr.ipynb\"><img src=\"../../theorems/f83802745918f4ad6417c51a3f4c551b3b8530a40/expr.png\" style=\"display:inline;vertical-align:middle;\" /></a></td></tr>\n",
       "<tr><td>26</td><td>Operation</td><td>operator:&nbsp;30<br>operands:&nbsp;29<br></td><td><a class=\"ProveItLink\" href=\"../19f972bb4709443215c015723b508a816f9518b10/expr.ipynb\"><img src=\"../19f972bb4709443215c015723b508a816f9518b10/expr.png\" style=\"display:inline;vertical-align:middle;\" /></a></td></tr>\n",
       "<tr><td>27</td><td>Literal</td><td></td><td><a class=\"ProveItLink\" href=\"../../../../../../numbers/number_sets/real_numbers/__pv_it/common/e531ffa54fd897084533764a4a14f19f590674f80/expr.ipynb\"><img src=\"../../../../../../numbers/number_sets/real_numbers/__pv_it/common/e531ffa54fd897084533764a4a14f19f590674f80/expr.png\" style=\"display:inline;vertical-align:middle;\" /></a></td></tr>\n",
       "<tr><td>28</td><td>Operation</td><td>operator:&nbsp;30<br>operands:&nbsp;31<br></td><td><a class=\"ProveItLink\" href=\"../../theorems/cb9ccf17128807ff9306e39fbc4f87179017e6990/expr.ipynb\"><img src=\"../../theorems/cb9ccf17128807ff9306e39fbc4f87179017e6990/expr.png\" style=\"display:inline;vertical-align:middle;\" /></a></td></tr>\n",
       "<tr><td>29</td><td>ExprTuple</td><td>51, 32, 33, 34, 48</td><td><a class=\"ProveItLink\" href=\"../2ef95d3569ecd9c98ce03478733f2860c85b05b80/expr.ipynb\"><img src=\"../2ef95d3569ecd9c98ce03478733f2860c85b05b80/expr.png\" style=\"display:inline;vertical-align:middle;\" /></a></td></tr>\n",
       "<tr><td>30</td><td>Literal</td><td></td><td><a class=\"ProveItLink\" href=\"../../../../../../numbers/multiplication/__pv_it/common/ed719cef37831779c16481533a4d380a2f95ab270/expr.ipynb\"><img src=\"../../../../../../numbers/multiplication/__pv_it/common/ed719cef37831779c16481533a4d380a2f95ab270/expr.png\" style=\"display:inline;vertical-align:middle;\" /></a></td></tr>\n",
       "<tr><td>31</td><td>ExprTuple</td><td>51, 32, 33, 34</td><td><a class=\"ProveItLink\" href=\"../../theorems/efb7695a0815348deb43b0386a1b674598932ee40/expr.ipynb\"><img src=\"../../theorems/efb7695a0815348deb43b0386a1b674598932ee40/expr.png\" style=\"display:inline;vertical-align:middle;\" /></a></td></tr>\n",
       "<tr><td>32</td><td>Literal</td><td></td><td><a class=\"ProveItLink\" href=\"../../../../../../numbers/number_sets/real_numbers/__pv_it/common/246c206266ac5b48800e508d580f91767b24c2df0/expr.ipynb\"><img src=\"../../../../../../numbers/number_sets/real_numbers/__pv_it/common/246c206266ac5b48800e508d580f91767b24c2df0/expr.png\" style=\"display:inline;vertical-align:middle;\" /></a></td></tr>\n",
       "<tr><td>33</td><td>Literal</td><td></td><td><a class=\"ProveItLink\" href=\"../../../../../../numbers/number_sets/complex_numbers/__pv_it/common/6c9cc69d472f352324c298b2318df233e9a7e0250/expr.ipynb\"><img src=\"../../../../../../numbers/number_sets/complex_numbers/__pv_it/common/6c9cc69d472f352324c298b2318df233e9a7e0250/expr.png\" style=\"display:inline;vertical-align:middle;\" /></a></td></tr>\n",
       "<tr><td>34</td><td>Operation</td><td>operator:&nbsp;35<br>operands:&nbsp;36<br></td><td><a class=\"ProveItLink\" href=\"../../theorems/2228158b78aa92fcfb8b2e84364951b48aac82970/expr.ipynb\"><img src=\"../../theorems/2228158b78aa92fcfb8b2e84364951b48aac82970/expr.png\" style=\"display:inline;vertical-align:middle;\" /></a></td></tr>\n",
       "<tr><td>35</td><td>Literal</td><td></td><td><a class=\"ProveItLink\" href=\"../../../../../../numbers/addition/__pv_it/common/4b7effaab3619a1c2c38fe2dee8601df8ec714590/expr.ipynb\"><img src=\"../../../../../../numbers/addition/__pv_it/common/4b7effaab3619a1c2c38fe2dee8601df8ec714590/expr.png\" style=\"display:inline;vertical-align:middle;\" /></a></td></tr>\n",
       "<tr><td>36</td><td>ExprTuple</td><td>37, 38</td><td><a class=\"ProveItLink\" href=\"../../theorems/ad9306d1942df9fb8dd19aaeadb445ed4ced136f0/expr.ipynb\"><img src=\"../../theorems/ad9306d1942df9fb8dd19aaeadb445ed4ced136f0/expr.png\" style=\"display:inline;vertical-align:middle;\" /></a></td></tr>\n",
       "<tr><td>37</td><td>Operation</td><td>operator:&nbsp;39<br>operand:&nbsp;43<br></td><td><a class=\"ProveItLink\" href=\"../../common/833e157257157d61cc42cb08459d50abb96eeea30/expr.ipynb\"><img src=\"../../common/833e157257157d61cc42cb08459d50abb96eeea30/expr.png\" style=\"display:inline;vertical-align:middle;\" /></a></td></tr>\n",
       "<tr><td>38</td><td>Operation</td><td>operator:&nbsp;41<br>operand:&nbsp;44<br></td><td><a class=\"ProveItLink\" href=\"../../theorems/400ae4473727f2fbe37a6d049af6de0ef76f59f20/expr.ipynb\"><img src=\"../../theorems/400ae4473727f2fbe37a6d049af6de0ef76f59f20/expr.png\" style=\"display:inline;vertical-align:middle;\" /></a></td></tr>\n",
       "<tr><td>39</td><td>Literal</td><td></td><td><a class=\"ProveItLink\" href=\"../../common/d6b97444617188a78c398568a10ac4dbe1ffa6590/expr.ipynb\"><img src=\"../../common/d6b97444617188a78c398568a10ac4dbe1ffa6590/expr.png\" style=\"display:inline;vertical-align:middle;\" /></a></td></tr>\n",
       "<tr><td>40</td><td>ExprTuple</td><td>43</td><td><a class=\"ProveItLink\" href=\"../../common/8eec66445df3903052bd360ac92a5d6d7e9760f80/expr.ipynb\"><img src=\"../../common/8eec66445df3903052bd360ac92a5d6d7e9760f80/expr.png\" style=\"display:inline;vertical-align:middle;\" /></a></td></tr>\n",
       "<tr><td>41</td><td>Literal</td><td></td><td><a class=\"ProveItLink\" href=\"../../../../../../numbers/negation/__pv_it/common/221b3c4d1770ee9051b7c044c3f9ec61196fc34b0/expr.ipynb\"><img src=\"../../../../../../numbers/negation/__pv_it/common/221b3c4d1770ee9051b7c044c3f9ec61196fc34b0/expr.png\" style=\"display:inline;vertical-align:middle;\" /></a></td></tr>\n",
       "<tr><td>42</td><td>ExprTuple</td><td>44</td><td><a class=\"ProveItLink\" href=\"../../theorems/4f0a257d24cef4eabe8390df76556a33aa0558c90/expr.ipynb\"><img src=\"../../theorems/4f0a257d24cef4eabe8390df76556a33aa0558c90/expr.png\" style=\"display:inline;vertical-align:middle;\" /></a></td></tr>\n",
       "<tr><td>43</td><td>Literal</td><td></td><td><a class=\"ProveItLink\" href=\"../../common/d330793052bb239ae69702166b1d364acbd6f04c0/expr.ipynb\"><img src=\"../../common/d330793052bb239ae69702166b1d364acbd6f04c0/expr.png\" style=\"display:inline;vertical-align:middle;\" /></a></td></tr>\n",
       "<tr><td>44</td><td>Operation</td><td>operator:&nbsp;45<br>operands:&nbsp;46<br></td><td><a class=\"ProveItLink\" href=\"../../theorems/1ac0ed8d2ca5886c0b4d21f476a70a08871b7f950/expr.ipynb\"><img src=\"../../theorems/1ac0ed8d2ca5886c0b4d21f476a70a08871b7f950/expr.png\" style=\"display:inline;vertical-align:middle;\" /></a></td></tr>\n",
       "<tr><td>45</td><td>Literal</td><td></td><td><a class=\"ProveItLink\" href=\"../../../../../../numbers/division/__pv_it/common/a2a633e1e3c749fb1f2692466b287b6348c5de840/expr.ipynb\"><img src=\"../../../../../../numbers/division/__pv_it/common/a2a633e1e3c749fb1f2692466b287b6348c5de840/expr.png\" style=\"display:inline;vertical-align:middle;\" /></a></td></tr>\n",
       "<tr><td>46</td><td>ExprTuple</td><td>47, 48</td><td><a class=\"ProveItLink\" href=\"../../theorems/0d41a0d404fb2740da70aad4e464a6ffadf43f320/expr.ipynb\"><img src=\"../../theorems/0d41a0d404fb2740da70aad4e464a6ffadf43f320/expr.png\" style=\"display:inline;vertical-align:middle;\" /></a></td></tr>\n",
       "<tr><td>47</td><td>Variable</td><td></td><td><a class=\"ProveItLink\" href=\"../../../../../../__pv_it/common/27cc275d44b4f4499fb9ccfb3fab1a98165d2fa60/expr.ipynb\"><img src=\"../../../../../../__pv_it/common/27cc275d44b4f4499fb9ccfb3fab1a98165d2fa60/expr.png\" style=\"display:inline;vertical-align:middle;\" /></a></td></tr>\n",
       "<tr><td>48</td><td>Operation</td><td>operator:&nbsp;49<br>operands:&nbsp;50<br></td><td><a class=\"ProveItLink\" href=\"../../common/18332e4e627d64eadf0d81efed19ae3e9d007d510/expr.ipynb\"><img src=\"../../common/18332e4e627d64eadf0d81efed19ae3e9d007d510/expr.png\" style=\"display:inline;vertical-align:middle;\" /></a></td></tr>\n",
       "<tr><td>49</td><td>Literal</td><td></td><td><a class=\"ProveItLink\" href=\"../../../../../../numbers/exponentiation/__pv_it/common/0ac37aca1e54c35c5cda09672df32d4f69f1f3020/expr.ipynb\"><img src=\"../../../../../../numbers/exponentiation/__pv_it/common/0ac37aca1e54c35c5cda09672df32d4f69f1f3020/expr.png\" style=\"display:inline;vertical-align:middle;\" /></a></td></tr>\n",
       "<tr><td>50</td><td>ExprTuple</td><td>51, 52</td><td><a class=\"ProveItLink\" href=\"../../common/e32fd834a589b0231aa39da242e9381ec87261b00/expr.ipynb\"><img src=\"../../common/e32fd834a589b0231aa39da242e9381ec87261b00/expr.png\" style=\"display:inline;vertical-align:middle;\" /></a></td></tr>\n",
       "<tr><td>51</td><td>Literal</td><td></td><td><a class=\"ProveItLink\" href=\"../../../../../../numbers/numerals/__pv_it/common/af4aab8a07465db063742696e006d04670f30cf10/expr.ipynb\"><img src=\"../../../../../../numbers/numerals/__pv_it/common/af4aab8a07465db063742696e006d04670f30cf10/expr.png\" style=\"display:inline;vertical-align:middle;\" /></a></td></tr>\n",
       "<tr><td>52</td><td>Literal</td><td></td><td><a class=\"ProveItLink\" href=\"../../common/977cc67717328e22c93f8ab84e6a45e8cadce7790/expr.ipynb\"><img src=\"../../common/977cc67717328e22c93f8ab84e6a45e8cadce7790/expr.png\" style=\"display:inline;vertical-align:middle;\" /></a></td></tr>\n",
       "</table>\n"
      ],
      "text/plain": [
       "0. (alpha_{b_{f} MOD_ADD l}, (1 / 2^{t}) * ((1 - e^{2 * pi * i * (delta_{b_{f}} - (l / 2^{t})) * 2^{t}}) / (1 - e^{2 * pi * i * (delta_{b_{f}} - (l / 2^{t}))})))\n",
       "   core type: ExprTuple\n",
       "   sub-expressions: 1, 2\n",
       "1. alpha_{b_{f} MOD_ADD l}\n",
       "   core type: Operation\n",
       "   operator: 3\n",
       "   operand: 6\n",
       "2. (1 / 2^{t}) * ((1 - e^{2 * pi * i * (delta_{b_{f}} - (l / 2^{t})) * 2^{t}}) / (1 - e^{2 * pi * i * (delta_{b_{f}} - (l / 2^{t}))}))\n",
       "   core type: Operation\n",
       "   operator: 30\n",
       "   operands: 5\n",
       "3. alpha\n",
       "   core type: Literal\n",
       "   sub-expressions: \n",
       "4. (b_{f} MOD_ADD l)\n",
       "   core type: ExprTuple\n",
       "   sub-expressions: 6\n",
       "5. (1 / 2^{t}, (1 - e^{2 * pi * i * (delta_{b_{f}} - (l / 2^{t})) * 2^{t}}) / (1 - e^{2 * pi * i * (delta_{b_{f}} - (l / 2^{t}))}))\n",
       "   core type: ExprTuple\n",
       "   sub-expressions: 7, 8\n",
       "6. b_{f} MOD_ADD l\n",
       "   core type: Operation\n",
       "   operator: 9\n",
       "   operands: 10\n",
       "7. 1 / 2^{t}\n",
       "   core type: Operation\n",
       "   operator: 45\n",
       "   operands: 11\n",
       "8. (1 - e^{2 * pi * i * (delta_{b_{f}} - (l / 2^{t})) * 2^{t}}) / (1 - e^{2 * pi * i * (delta_{b_{f}} - (l / 2^{t}))})\n",
       "   core type: Operation\n",
       "   operator: 45\n",
       "   operands: 12\n",
       "9. MOD_ADD\n",
       "   core type: Literal\n",
       "   sub-expressions: \n",
       "10. (b_{f}, l)\n",
       "    core type: ExprTuple\n",
       "    sub-expressions: 43, 47\n",
       "11. (1, 2^{t})\n",
       "    core type: ExprTuple\n",
       "    sub-expressions: 18, 48\n",
       "12. (1 - e^{2 * pi * i * (delta_{b_{f}} - (l / 2^{t})) * 2^{t}}, 1 - e^{2 * pi * i * (delta_{b_{f}} - (l / 2^{t}))})\n",
       "    core type: ExprTuple\n",
       "    sub-expressions: 13, 14\n",
       "13. 1 - e^{2 * pi * i * (delta_{b_{f}} - (l / 2^{t})) * 2^{t}}\n",
       "    core type: Operation\n",
       "    operator: 35\n",
       "    operands: 15\n",
       "14. 1 - e^{2 * pi * i * (delta_{b_{f}} - (l / 2^{t}))}\n",
       "    core type: Operation\n",
       "    operator: 35\n",
       "    operands: 16\n",
       "15. (1, -e^{2 * pi * i * (delta_{b_{f}} - (l / 2^{t})) * 2^{t}})\n",
       "    core type: ExprTuple\n",
       "    sub-expressions: 18, 17\n",
       "16. (1, -e^{2 * pi * i * (delta_{b_{f}} - (l / 2^{t}))})\n",
       "    core type: ExprTuple\n",
       "    sub-expressions: 18, 19\n",
       "17. -e^{2 * pi * i * (delta_{b_{f}} - (l / 2^{t})) * 2^{t}}\n",
       "    core type: Operation\n",
       "    operator: 41\n",
       "    operand: 22\n",
       "18. 1\n",
       "    core type: Literal\n",
       "    sub-expressions: \n",
       "19. -e^{2 * pi * i * (delta_{b_{f}} - (l / 2^{t}))}\n",
       "    core type: Operation\n",
       "    operator: 41\n",
       "    operand: 23\n",
       "20. (e^{2 * pi * i * (delta_{b_{f}} - (l / 2^{t})) * 2^{t}})\n",
       "    core type: ExprTuple\n",
       "    sub-expressions: 22\n",
       "21. (e^{2 * pi * i * (delta_{b_{f}} - (l / 2^{t}))})\n",
       "    core type: ExprTuple\n",
       "    sub-expressions: 23\n",
       "22. e^{2 * pi * i * (delta_{b_{f}} - (l / 2^{t})) * 2^{t}}\n",
       "    core type: Operation\n",
       "    operator: 49\n",
       "    operands: 24\n",
       "23. e^{2 * pi * i * (delta_{b_{f}} - (l / 2^{t}))}\n",
       "    core type: Operation\n",
       "    operator: 49\n",
       "    operands: 25\n",
       "24. (e, 2 * pi * i * (delta_{b_{f}} - (l / 2^{t})) * 2^{t})\n",
       "    core type: ExprTuple\n",
       "    sub-expressions: 27, 26\n",
       "25. (e, 2 * pi * i * (delta_{b_{f}} - (l / 2^{t})))\n",
       "    core type: ExprTuple\n",
       "    sub-expressions: 27, 28\n",
       "26. 2 * pi * i * (delta_{b_{f}} - (l / 2^{t})) * 2^{t}\n",
       "    core type: Operation\n",
       "    operator: 30\n",
       "    operands: 29\n",
       "27. e\n",
       "    core type: Literal\n",
       "    sub-expressions: \n",
       "28. 2 * pi * i * (delta_{b_{f}} - (l / 2^{t}))\n",
       "    core type: Operation\n",
       "    operator: 30\n",
       "    operands: 31\n",
       "29. (2, pi, i, delta_{b_{f}} - (l / 2^{t}), 2^{t})\n",
       "    core type: ExprTuple\n",
       "    sub-expressions: 51, 32, 33, 34, 48\n",
       "30. *\n",
       "    core type: Literal\n",
       "    sub-expressions: \n",
       "31. (2, pi, i, delta_{b_{f}} - (l / 2^{t}))\n",
       "    core type: ExprTuple\n",
       "    sub-expressions: 51, 32, 33, 34\n",
       "32. pi\n",
       "    core type: Literal\n",
       "    sub-expressions: \n",
       "33. i\n",
       "    core type: Literal\n",
       "    sub-expressions: \n",
       "34. delta_{b_{f}} - (l / 2^{t})\n",
       "    core type: Operation\n",
       "    operator: 35\n",
       "    operands: 36\n",
       "35. +\n",
       "    core type: Literal\n",
       "    sub-expressions: \n",
       "36. (delta_{b_{f}}, -(l / 2^{t}))\n",
       "    core type: ExprTuple\n",
       "    sub-expressions: 37, 38\n",
       "37. delta_{b_{f}}\n",
       "    core type: Operation\n",
       "    operator: 39\n",
       "    operand: 43\n",
       "38. -(l / 2^{t})\n",
       "    core type: Operation\n",
       "    operator: 41\n",
       "    operand: 44\n",
       "39. delta\n",
       "    core type: Literal\n",
       "    sub-expressions: \n",
       "40. (b_{f})\n",
       "    core type: ExprTuple\n",
       "    sub-expressions: 43\n",
       "41. -\n",
       "    core type: Literal\n",
       "    sub-expressions: \n",
       "42. (l / 2^{t})\n",
       "    core type: ExprTuple\n",
       "    sub-expressions: 44\n",
       "43. b_{f}\n",
       "    core type: Literal\n",
       "    sub-expressions: \n",
       "44. l / 2^{t}\n",
       "    core type: Operation\n",
       "    operator: 45\n",
       "    operands: 46\n",
       "45. /\n",
       "    core type: Literal\n",
       "    sub-expressions: \n",
       "46. (l, 2^{t})\n",
       "    core type: ExprTuple\n",
       "    sub-expressions: 47, 48\n",
       "47. l\n",
       "    core type: Variable\n",
       "    sub-expressions: \n",
       "48. 2^{t}\n",
       "    core type: Operation\n",
       "    operator: 49\n",
       "    operands: 50\n",
       "49. Exp\n",
       "    core type: Literal\n",
       "    sub-expressions: \n",
       "50. (2, t)\n",
       "    core type: ExprTuple\n",
       "    sub-expressions: 51, 52\n",
       "51. 2\n",
       "    core type: Literal\n",
       "    sub-expressions: \n",
       "52. t\n",
       "    core type: Literal\n",
       "    sub-expressions: "
      ]
     },
     "metadata": {},
     "output_type": "display_data"
    }
   ],
   "source": [
    "# display the expression information\n",
    "stored_expr.expr_info()"
   ]
  },
  {
   "cell_type": "code",
   "execution_count": null,
   "metadata": {},
   "outputs": [],
   "source": []
  }
 ],
 "metadata": {
  "kernelspec": {
   "display_name": "Python 3",
   "language": "python",
   "name": "python3"
  }
 },
 "nbformat": 4,
 "nbformat_minor": 0
}