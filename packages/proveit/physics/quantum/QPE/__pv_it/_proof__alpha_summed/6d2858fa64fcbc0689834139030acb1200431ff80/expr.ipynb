{
 "cells": [
  {
   "cell_type": "markdown",
   "metadata": {},
   "source": [
    "Expression of type <a class=\"ProveItLink\" href=\"../../../../../../../../doc/html/api/proveit.ExprTuple.html\">ExprTuple</a>\n",
    "=======================\n",
    "# from the theory of <a class=\"ProveItLink\" href=\"../../../_theory_nbs_/theory.ipynb\">proveit.physics.quantum.QPE</a>"
   ]
  },
  {
   "cell_type": "code",
   "execution_count": 1,
   "metadata": {},
   "outputs": [],
   "source": [
    "import proveit\n",
    "# Automation is not needed when building an expression:\n",
    "proveit.defaults.automation = False # This will speed things up.\n",
    "proveit.defaults.inline_pngs = False # Makes files smaller.\n",
    "%load_expr # Load the stored expression as 'stored_expr'\n",
    "# import Expression classes needed to build the expression\n",
    "from proveit import Conditional, ExprTuple, Lambda, k, l\n",
    "from proveit.logic import InSet\n",
    "from proveit.numbers import Exp, Mult, e, frac, i, pi, subtract, two\n",
    "from proveit.physics.quantum.QPE import _delta_b_floor, _m_domain, _two_pow_t"
   ]
  },
  {
   "cell_type": "code",
   "execution_count": 2,
   "metadata": {},
   "outputs": [
    {
     "data": {
      "text/html": [
       "<strong id=\"expr\">expr:</strong> <a class=\"ProveItLink\" href=\"expr.ipynb\"><img src=\"expr.png\" style=\"display:inline;vertical-align:middle;\" /></a><br>"
      ],
      "text/plain": [
       "<IPython.core.display.HTML object>"
      ]
     },
     "metadata": {},
     "output_type": "display_data"
    }
   ],
   "source": [
    "# build up the expression from sub-expressions\n",
    "expr = ExprTuple(Lambda(k, Conditional(Exp(Exp(e, Mult(two, pi, i, subtract(_delta_b_floor, frac(l, _two_pow_t)))), k), InSet(k, _m_domain))))"
   ]
  },
  {
   "cell_type": "code",
   "execution_count": 3,
   "metadata": {},
   "outputs": [
    {
     "name": "stdout",
     "output_type": "stream",
     "text": [
      "Passed sanity check: expr matches stored_expr\n"
     ]
    }
   ],
   "source": [
    "# check that the built expression is the same as the stored expression\n",
    "assert expr == stored_expr\n",
    "assert expr._style_id == stored_expr._style_id\n",
    "print(\"Passed sanity check: expr matches stored_expr\")"
   ]
  },
  {
   "cell_type": "code",
   "execution_count": 4,
   "metadata": {},
   "outputs": [
    {
     "name": "stdout",
     "output_type": "stream",
     "text": [
      "\\left(k \\mapsto \\left\\{(\\mathsf{e}^{2 \\cdot \\pi \\cdot \\mathsf{i} \\cdot \\left(\\delta_{b_{\\textit{f}}} - \\frac{l}{2^{t}}\\right)})^{k} \\textrm{ if } k \\in \\{0~\\ldotp \\ldotp~2^{t} - 1\\}\\right..\\right)\n"
     ]
    }
   ],
   "source": [
    "# Show the LaTeX representation of the expression for convenience if you need it.\n",
    "print(stored_expr.latex())"
   ]
  },
  {
   "cell_type": "code",
   "execution_count": 5,
   "metadata": {},
   "outputs": [
    {
     "data": {
      "text/html": [
       "no style options"
      ],
      "text/plain": [
       "no style options"
      ]
     },
     "metadata": {},
     "output_type": "display_data"
    }
   ],
   "source": [
    "stored_expr.style_options()"
   ]
  },
  {
   "cell_type": "code",
   "execution_count": 6,
   "metadata": {},
   "outputs": [
    {
     "data": {
      "text/html": [
       "<table><tr><th>&nbsp;</th><th>core type</th><th>sub-expressions</th><th>expression</th></tr>\n",
       "<tr><td>0</td><td>ExprTuple</td><td>1</td><td><a class=\"ProveItLink\" href=\"expr.ipynb\"><img src=\"expr.png\" style=\"display:inline;vertical-align:middle;\" /></a></td></tr>\n",
       "<tr><td>1</td><td>Lambda</td><td>parameter:&nbsp;10<br>body:&nbsp;3<br></td><td><a class=\"ProveItLink\" href=\"../5b858cd710e0eee1897fc798e2bb71fe2f4be1f90/expr.ipynb\"><img src=\"../5b858cd710e0eee1897fc798e2bb71fe2f4be1f90/expr.png\" style=\"display:inline;vertical-align:middle;\" /></a></td></tr>\n",
       "<tr><td>2</td><td>ExprTuple</td><td>10</td><td><a class=\"ProveItLink\" href=\"../../../../../../__pv_it/common/688b115fcd711144fb0bdcf2138b0bd26487dd890/expr.ipynb\"><img src=\"../../../../../../__pv_it/common/688b115fcd711144fb0bdcf2138b0bd26487dd890/expr.png\" style=\"display:inline;vertical-align:middle;\" /></a></td></tr>\n",
       "<tr><td>3</td><td>Conditional</td><td>value:&nbsp;4<br>condition:&nbsp;5<br></td><td><a class=\"ProveItLink\" href=\"../53885888a25418b70a59bf0d5e277646b7e0d6400/expr.ipynb\"><img src=\"../53885888a25418b70a59bf0d5e277646b7e0d6400/expr.png\" style=\"display:inline;vertical-align:middle;\" /></a></td></tr>\n",
       "<tr><td>4</td><td>Operation</td><td>operator:&nbsp;42<br>operands:&nbsp;6<br></td><td><a class=\"ProveItLink\" href=\"../67137c41e89b6ba26cc2ee30840d78316b5538ab0/expr.ipynb\"><img src=\"../67137c41e89b6ba26cc2ee30840d78316b5538ab0/expr.png\" style=\"display:inline;vertical-align:middle;\" /></a></td></tr>\n",
       "<tr><td>5</td><td>Operation</td><td>operator:&nbsp;7<br>operands:&nbsp;8<br></td><td><a class=\"ProveItLink\" href=\"../../theorems/df30aba3a535ce7eb8609d1347296ba1cd1680060/expr.ipynb\"><img src=\"../../theorems/df30aba3a535ce7eb8609d1347296ba1cd1680060/expr.png\" style=\"display:inline;vertical-align:middle;\" /></a></td></tr>\n",
       "<tr><td>6</td><td>ExprTuple</td><td>9, 10</td><td><a class=\"ProveItLink\" href=\"../49260f9bd9beca84b6087561246230e979f7f57d0/expr.ipynb\"><img src=\"../49260f9bd9beca84b6087561246230e979f7f57d0/expr.png\" style=\"display:inline;vertical-align:middle;\" /></a></td></tr>\n",
       "<tr><td>7</td><td>Literal</td><td></td><td><a class=\"ProveItLink\" href=\"../../../../../../logic/sets/membership/__pv_it/common/477487d8796864d23d5810f83761435f25167f690/expr.ipynb\"><img src=\"../../../../../../logic/sets/membership/__pv_it/common/477487d8796864d23d5810f83761435f25167f690/expr.png\" style=\"display:inline;vertical-align:middle;\" /></a></td></tr>\n",
       "<tr><td>8</td><td>ExprTuple</td><td>10, 11</td><td><a class=\"ProveItLink\" href=\"../../theorems/674449efd4d0656228eb1b9c36ee4683054379d70/expr.ipynb\"><img src=\"../../theorems/674449efd4d0656228eb1b9c36ee4683054379d70/expr.png\" style=\"display:inline;vertical-align:middle;\" /></a></td></tr>\n",
       "<tr><td>9</td><td>Operation</td><td>operator:&nbsp;42<br>operands:&nbsp;12<br></td><td><a class=\"ProveItLink\" href=\"../../theorems/5773b369d9985ff6f0f8a68a1b12b0906c5786330/expr.ipynb\"><img src=\"../../theorems/5773b369d9985ff6f0f8a68a1b12b0906c5786330/expr.png\" style=\"display:inline;vertical-align:middle;\" /></a></td></tr>\n",
       "<tr><td>10</td><td>Variable</td><td></td><td><a class=\"ProveItLink\" href=\"../../../../../../__pv_it/common/63b7c64bf9ec7a04ecc396c7a1670f3f12fb59490/expr.ipynb\"><img src=\"../../../../../../__pv_it/common/63b7c64bf9ec7a04ecc396c7a1670f3f12fb59490/expr.png\" style=\"display:inline;vertical-align:middle;\" /></a></td></tr>\n",
       "<tr><td>11</td><td>Operation</td><td>operator:&nbsp;13<br>operands:&nbsp;14<br></td><td><a class=\"ProveItLink\" href=\"../../common/0107914a254b4cba063b4849ea3d536e6979ec8c0/expr.ipynb\"><img src=\"../../common/0107914a254b4cba063b4849ea3d536e6979ec8c0/expr.png\" style=\"display:inline;vertical-align:middle;\" /></a></td></tr>\n",
       "<tr><td>12</td><td>ExprTuple</td><td>15, 16</td><td><a class=\"ProveItLink\" href=\"../../theorems/f83802745918f4ad6417c51a3f4c551b3b8530a40/expr.ipynb\"><img src=\"../../theorems/f83802745918f4ad6417c51a3f4c551b3b8530a40/expr.png\" style=\"display:inline;vertical-align:middle;\" /></a></td></tr>\n",
       "<tr><td>13</td><td>Literal</td><td></td><td><a class=\"ProveItLink\" href=\"../../../../../../numbers/number_sets/integers/__pv_it/common/92f3a0a77e3c3ea8e4a5c8674edadc54e4f57d550/expr.ipynb\"><img src=\"../../../../../../numbers/number_sets/integers/__pv_it/common/92f3a0a77e3c3ea8e4a5c8674edadc54e4f57d550/expr.png\" style=\"display:inline;vertical-align:middle;\" /></a></td></tr>\n",
       "<tr><td>14</td><td>ExprTuple</td><td>17, 18</td><td><a class=\"ProveItLink\" href=\"../../common/ce38c9f7ea329335c51788d553f316b592fc50770/expr.ipynb\"><img src=\"../../common/ce38c9f7ea329335c51788d553f316b592fc50770/expr.png\" style=\"display:inline;vertical-align:middle;\" /></a></td></tr>\n",
       "<tr><td>15</td><td>Literal</td><td></td><td><a class=\"ProveItLink\" href=\"../../../../../../numbers/number_sets/real_numbers/__pv_it/common/e531ffa54fd897084533764a4a14f19f590674f80/expr.ipynb\"><img src=\"../../../../../../numbers/number_sets/real_numbers/__pv_it/common/e531ffa54fd897084533764a4a14f19f590674f80/expr.png\" style=\"display:inline;vertical-align:middle;\" /></a></td></tr>\n",
       "<tr><td>16</td><td>Operation</td><td>operator:&nbsp;19<br>operands:&nbsp;20<br></td><td><a class=\"ProveItLink\" href=\"../../theorems/cb9ccf17128807ff9306e39fbc4f87179017e6990/expr.ipynb\"><img src=\"../../theorems/cb9ccf17128807ff9306e39fbc4f87179017e6990/expr.png\" style=\"display:inline;vertical-align:middle;\" /></a></td></tr>\n",
       "<tr><td>17</td><td>Literal</td><td></td><td><a class=\"ProveItLink\" href=\"../../../../../../numbers/numerals/__pv_it/common/dd4e19e8b134dfb293470ea55fe3589b0ab9f8040/expr.ipynb\"><img src=\"../../../../../../numbers/numerals/__pv_it/common/dd4e19e8b134dfb293470ea55fe3589b0ab9f8040/expr.png\" style=\"display:inline;vertical-align:middle;\" /></a></td></tr>\n",
       "<tr><td>18</td><td>Operation</td><td>operator:&nbsp;26<br>operands:&nbsp;21<br></td><td><a class=\"ProveItLink\" href=\"../../common/f186bef3123c37aced8bb4cc37639e91545fb7610/expr.ipynb\"><img src=\"../../common/f186bef3123c37aced8bb4cc37639e91545fb7610/expr.png\" style=\"display:inline;vertical-align:middle;\" /></a></td></tr>\n",
       "<tr><td>19</td><td>Literal</td><td></td><td><a class=\"ProveItLink\" href=\"../../../../../../numbers/multiplication/__pv_it/common/ed719cef37831779c16481533a4d380a2f95ab270/expr.ipynb\"><img src=\"../../../../../../numbers/multiplication/__pv_it/common/ed719cef37831779c16481533a4d380a2f95ab270/expr.png\" style=\"display:inline;vertical-align:middle;\" /></a></td></tr>\n",
       "<tr><td>20</td><td>ExprTuple</td><td>44, 22, 23, 24</td><td><a class=\"ProveItLink\" href=\"../../theorems/efb7695a0815348deb43b0386a1b674598932ee40/expr.ipynb\"><img src=\"../../theorems/efb7695a0815348deb43b0386a1b674598932ee40/expr.png\" style=\"display:inline;vertical-align:middle;\" /></a></td></tr>\n",
       "<tr><td>21</td><td>ExprTuple</td><td>41, 25</td><td><a class=\"ProveItLink\" href=\"../../common/398c4745317fede96ad42a1979ba271b8d4d4f240/expr.ipynb\"><img src=\"../../common/398c4745317fede96ad42a1979ba271b8d4d4f240/expr.png\" style=\"display:inline;vertical-align:middle;\" /></a></td></tr>\n",
       "<tr><td>22</td><td>Literal</td><td></td><td><a class=\"ProveItLink\" href=\"../../../../../../numbers/number_sets/real_numbers/__pv_it/common/246c206266ac5b48800e508d580f91767b24c2df0/expr.ipynb\"><img src=\"../../../../../../numbers/number_sets/real_numbers/__pv_it/common/246c206266ac5b48800e508d580f91767b24c2df0/expr.png\" style=\"display:inline;vertical-align:middle;\" /></a></td></tr>\n",
       "<tr><td>23</td><td>Literal</td><td></td><td><a class=\"ProveItLink\" href=\"../../../../../../numbers/number_sets/complex_numbers/__pv_it/common/6c9cc69d472f352324c298b2318df233e9a7e0250/expr.ipynb\"><img src=\"../../../../../../numbers/number_sets/complex_numbers/__pv_it/common/6c9cc69d472f352324c298b2318df233e9a7e0250/expr.png\" style=\"display:inline;vertical-align:middle;\" /></a></td></tr>\n",
       "<tr><td>24</td><td>Operation</td><td>operator:&nbsp;26<br>operands:&nbsp;27<br></td><td><a class=\"ProveItLink\" href=\"../../theorems/2228158b78aa92fcfb8b2e84364951b48aac82970/expr.ipynb\"><img src=\"../../theorems/2228158b78aa92fcfb8b2e84364951b48aac82970/expr.png\" style=\"display:inline;vertical-align:middle;\" /></a></td></tr>\n",
       "<tr><td>25</td><td>Operation</td><td>operator:&nbsp;34<br>operand:&nbsp;31<br></td><td><a class=\"ProveItLink\" href=\"../../common/bf4beda21975fe8a0a5007615b5bcc943da59bb20/expr.ipynb\"><img src=\"../../common/bf4beda21975fe8a0a5007615b5bcc943da59bb20/expr.png\" style=\"display:inline;vertical-align:middle;\" /></a></td></tr>\n",
       "<tr><td>26</td><td>Literal</td><td></td><td><a class=\"ProveItLink\" href=\"../../../../../../numbers/addition/__pv_it/common/4b7effaab3619a1c2c38fe2dee8601df8ec714590/expr.ipynb\"><img src=\"../../../../../../numbers/addition/__pv_it/common/4b7effaab3619a1c2c38fe2dee8601df8ec714590/expr.png\" style=\"display:inline;vertical-align:middle;\" /></a></td></tr>\n",
       "<tr><td>27</td><td>ExprTuple</td><td>29, 30</td><td><a class=\"ProveItLink\" href=\"../../theorems/ad9306d1942df9fb8dd19aaeadb445ed4ced136f0/expr.ipynb\"><img src=\"../../theorems/ad9306d1942df9fb8dd19aaeadb445ed4ced136f0/expr.png\" style=\"display:inline;vertical-align:middle;\" /></a></td></tr>\n",
       "<tr><td>28</td><td>ExprTuple</td><td>31</td><td><a class=\"ProveItLink\" href=\"../../../../__pv_it/common/b9e4f0dffece176bbe2f36127440684a20e0468e0/expr.ipynb\"><img src=\"../../../../__pv_it/common/b9e4f0dffece176bbe2f36127440684a20e0468e0/expr.png\" style=\"display:inline;vertical-align:middle;\" /></a></td></tr>\n",
       "<tr><td>29</td><td>Operation</td><td>operator:&nbsp;32<br>operand:&nbsp;36<br></td><td><a class=\"ProveItLink\" href=\"../../common/833e157257157d61cc42cb08459d50abb96eeea30/expr.ipynb\"><img src=\"../../common/833e157257157d61cc42cb08459d50abb96eeea30/expr.png\" style=\"display:inline;vertical-align:middle;\" /></a></td></tr>\n",
       "<tr><td>30</td><td>Operation</td><td>operator:&nbsp;34<br>operand:&nbsp;37<br></td><td><a class=\"ProveItLink\" href=\"../../theorems/400ae4473727f2fbe37a6d049af6de0ef76f59f20/expr.ipynb\"><img src=\"../../theorems/400ae4473727f2fbe37a6d049af6de0ef76f59f20/expr.png\" style=\"display:inline;vertical-align:middle;\" /></a></td></tr>\n",
       "<tr><td>31</td><td>Literal</td><td></td><td><a class=\"ProveItLink\" href=\"../../../../../../numbers/numerals/__pv_it/common/682157d4892d216d9e5626ed533aff9b56b9506e0/expr.ipynb\"><img src=\"../../../../../../numbers/numerals/__pv_it/common/682157d4892d216d9e5626ed533aff9b56b9506e0/expr.png\" style=\"display:inline;vertical-align:middle;\" /></a></td></tr>\n",
       "<tr><td>32</td><td>Literal</td><td></td><td><a class=\"ProveItLink\" href=\"../../common/d6b97444617188a78c398568a10ac4dbe1ffa6590/expr.ipynb\"><img src=\"../../common/d6b97444617188a78c398568a10ac4dbe1ffa6590/expr.png\" style=\"display:inline;vertical-align:middle;\" /></a></td></tr>\n",
       "<tr><td>33</td><td>ExprTuple</td><td>36</td><td><a class=\"ProveItLink\" href=\"../../common/8eec66445df3903052bd360ac92a5d6d7e9760f80/expr.ipynb\"><img src=\"../../common/8eec66445df3903052bd360ac92a5d6d7e9760f80/expr.png\" style=\"display:inline;vertical-align:middle;\" /></a></td></tr>\n",
       "<tr><td>34</td><td>Literal</td><td></td><td><a class=\"ProveItLink\" href=\"../../../../../../numbers/negation/__pv_it/common/221b3c4d1770ee9051b7c044c3f9ec61196fc34b0/expr.ipynb\"><img src=\"../../../../../../numbers/negation/__pv_it/common/221b3c4d1770ee9051b7c044c3f9ec61196fc34b0/expr.png\" style=\"display:inline;vertical-align:middle;\" /></a></td></tr>\n",
       "<tr><td>35</td><td>ExprTuple</td><td>37</td><td><a class=\"ProveItLink\" href=\"../../theorems/4f0a257d24cef4eabe8390df76556a33aa0558c90/expr.ipynb\"><img src=\"../../theorems/4f0a257d24cef4eabe8390df76556a33aa0558c90/expr.png\" style=\"display:inline;vertical-align:middle;\" /></a></td></tr>\n",
       "<tr><td>36</td><td>Literal</td><td></td><td><a class=\"ProveItLink\" href=\"../../common/d330793052bb239ae69702166b1d364acbd6f04c0/expr.ipynb\"><img src=\"../../common/d330793052bb239ae69702166b1d364acbd6f04c0/expr.png\" style=\"display:inline;vertical-align:middle;\" /></a></td></tr>\n",
       "<tr><td>37</td><td>Operation</td><td>operator:&nbsp;38<br>operands:&nbsp;39<br></td><td><a class=\"ProveItLink\" href=\"../../theorems/1ac0ed8d2ca5886c0b4d21f476a70a08871b7f950/expr.ipynb\"><img src=\"../../theorems/1ac0ed8d2ca5886c0b4d21f476a70a08871b7f950/expr.png\" style=\"display:inline;vertical-align:middle;\" /></a></td></tr>\n",
       "<tr><td>38</td><td>Literal</td><td></td><td><a class=\"ProveItLink\" href=\"../../../../../../numbers/division/__pv_it/common/a2a633e1e3c749fb1f2692466b287b6348c5de840/expr.ipynb\"><img src=\"../../../../../../numbers/division/__pv_it/common/a2a633e1e3c749fb1f2692466b287b6348c5de840/expr.png\" style=\"display:inline;vertical-align:middle;\" /></a></td></tr>\n",
       "<tr><td>39</td><td>ExprTuple</td><td>40, 41</td><td><a class=\"ProveItLink\" href=\"../../theorems/0d41a0d404fb2740da70aad4e464a6ffadf43f320/expr.ipynb\"><img src=\"../../theorems/0d41a0d404fb2740da70aad4e464a6ffadf43f320/expr.png\" style=\"display:inline;vertical-align:middle;\" /></a></td></tr>\n",
       "<tr><td>40</td><td>Variable</td><td></td><td><a class=\"ProveItLink\" href=\"../../../../../../__pv_it/common/27cc275d44b4f4499fb9ccfb3fab1a98165d2fa60/expr.ipynb\"><img src=\"../../../../../../__pv_it/common/27cc275d44b4f4499fb9ccfb3fab1a98165d2fa60/expr.png\" style=\"display:inline;vertical-align:middle;\" /></a></td></tr>\n",
       "<tr><td>41</td><td>Operation</td><td>operator:&nbsp;42<br>operands:&nbsp;43<br></td><td><a class=\"ProveItLink\" href=\"../../common/18332e4e627d64eadf0d81efed19ae3e9d007d510/expr.ipynb\"><img src=\"../../common/18332e4e627d64eadf0d81efed19ae3e9d007d510/expr.png\" style=\"display:inline;vertical-align:middle;\" /></a></td></tr>\n",
       "<tr><td>42</td><td>Literal</td><td></td><td><a class=\"ProveItLink\" href=\"../../../../../../numbers/exponentiation/__pv_it/common/0ac37aca1e54c35c5cda09672df32d4f69f1f3020/expr.ipynb\"><img src=\"../../../../../../numbers/exponentiation/__pv_it/common/0ac37aca1e54c35c5cda09672df32d4f69f1f3020/expr.png\" style=\"display:inline;vertical-align:middle;\" /></a></td></tr>\n",
       "<tr><td>43</td><td>ExprTuple</td><td>44, 45</td><td><a class=\"ProveItLink\" href=\"../../common/e32fd834a589b0231aa39da242e9381ec87261b00/expr.ipynb\"><img src=\"../../common/e32fd834a589b0231aa39da242e9381ec87261b00/expr.png\" style=\"display:inline;vertical-align:middle;\" /></a></td></tr>\n",
       "<tr><td>44</td><td>Literal</td><td></td><td><a class=\"ProveItLink\" href=\"../../../../../../numbers/numerals/__pv_it/common/af4aab8a07465db063742696e006d04670f30cf10/expr.ipynb\"><img src=\"../../../../../../numbers/numerals/__pv_it/common/af4aab8a07465db063742696e006d04670f30cf10/expr.png\" style=\"display:inline;vertical-align:middle;\" /></a></td></tr>\n",
       "<tr><td>45</td><td>Literal</td><td></td><td><a class=\"ProveItLink\" href=\"../../common/977cc67717328e22c93f8ab84e6a45e8cadce7790/expr.ipynb\"><img src=\"../../common/977cc67717328e22c93f8ab84e6a45e8cadce7790/expr.png\" style=\"display:inline;vertical-align:middle;\" /></a></td></tr>\n",
       "</table>\n"
      ],
      "text/plain": [
       "0. (k -> {(e^{2 * pi * i * (delta_{b_{f}} - (l / 2^{t}))})^{k} if k in {0 .. 2^{t} - 1}.)\n",
       "   core type: ExprTuple\n",
       "   sub-expressions: 1\n",
       "1. k -> {(e^{2 * pi * i * (delta_{b_{f}} - (l / 2^{t}))})^{k} if k in {0 .. 2^{t} - 1}.\n",
       "   core type: Lambda\n",
       "   parameter: 10\n",
       "   body: 3\n",
       "2. (k)\n",
       "   core type: ExprTuple\n",
       "   sub-expressions: 10\n",
       "3. {(e^{2 * pi * i * (delta_{b_{f}} - (l / 2^{t}))})^{k} if k in {0 .. 2^{t} - 1}.\n",
       "   core type: Conditional\n",
       "   value: 4\n",
       "   condition: 5\n",
       "4. (e^{2 * pi * i * (delta_{b_{f}} - (l / 2^{t}))})^{k}\n",
       "   core type: Operation\n",
       "   operator: 42\n",
       "   operands: 6\n",
       "5. k in {0 .. 2^{t} - 1}\n",
       "   core type: Operation\n",
       "   operator: 7\n",
       "   operands: 8\n",
       "6. (e^{2 * pi * i * (delta_{b_{f}} - (l / 2^{t}))}, k)\n",
       "   core type: ExprTuple\n",
       "   sub-expressions: 9, 10\n",
       "7. in\n",
       "   core type: Literal\n",
       "   sub-expressions: \n",
       "8. (k, {0 .. 2^{t} - 1})\n",
       "   core type: ExprTuple\n",
       "   sub-expressions: 10, 11\n",
       "9. e^{2 * pi * i * (delta_{b_{f}} - (l / 2^{t}))}\n",
       "   core type: Operation\n",
       "   operator: 42\n",
       "   operands: 12\n",
       "10. k\n",
       "    core type: Variable\n",
       "    sub-expressions: \n",
       "11. {0 .. 2^{t} - 1}\n",
       "    core type: Operation\n",
       "    operator: 13\n",
       "    operands: 14\n",
       "12. (e, 2 * pi * i * (delta_{b_{f}} - (l / 2^{t})))\n",
       "    core type: ExprTuple\n",
       "    sub-expressions: 15, 16\n",
       "13. Interval\n",
       "    core type: Literal\n",
       "    sub-expressions: \n",
       "14. (0, 2^{t} - 1)\n",
       "    core type: ExprTuple\n",
       "    sub-expressions: 17, 18\n",
       "15. e\n",
       "    core type: Literal\n",
       "    sub-expressions: \n",
       "16. 2 * pi * i * (delta_{b_{f}} - (l / 2^{t}))\n",
       "    core type: Operation\n",
       "    operator: 19\n",
       "    operands: 20\n",
       "17. 0\n",
       "    core type: Literal\n",
       "    sub-expressions: \n",
       "18. 2^{t} - 1\n",
       "    core type: Operation\n",
       "    operator: 26\n",
       "    operands: 21\n",
       "19. *\n",
       "    core type: Literal\n",
       "    sub-expressions: \n",
       "20. (2, pi, i, delta_{b_{f}} - (l / 2^{t}))\n",
       "    core type: ExprTuple\n",
       "    sub-expressions: 44, 22, 23, 24\n",
       "21. (2^{t}, -1)\n",
       "    core type: ExprTuple\n",
       "    sub-expressions: 41, 25\n",
       "22. pi\n",
       "    core type: Literal\n",
       "    sub-expressions: \n",
       "23. i\n",
       "    core type: Literal\n",
       "    sub-expressions: \n",
       "24. delta_{b_{f}} - (l / 2^{t})\n",
       "    core type: Operation\n",
       "    operator: 26\n",
       "    operands: 27\n",
       "25. -1\n",
       "    core type: Operation\n",
       "    operator: 34\n",
       "    operand: 31\n",
       "26. +\n",
       "    core type: Literal\n",
       "    sub-expressions: \n",
       "27. (delta_{b_{f}}, -(l / 2^{t}))\n",
       "    core type: ExprTuple\n",
       "    sub-expressions: 29, 30\n",
       "28. (1)\n",
       "    core type: ExprTuple\n",
       "    sub-expressions: 31\n",
       "29. delta_{b_{f}}\n",
       "    core type: Operation\n",
       "    operator: 32\n",
       "    operand: 36\n",
       "30. -(l / 2^{t})\n",
       "    core type: Operation\n",
       "    operator: 34\n",
       "    operand: 37\n",
       "31. 1\n",
       "    core type: Literal\n",
       "    sub-expressions: \n",
       "32. delta\n",
       "    core type: Literal\n",
       "    sub-expressions: \n",
       "33. (b_{f})\n",
       "    core type: ExprTuple\n",
       "    sub-expressions: 36\n",
       "34. -\n",
       "    core type: Literal\n",
       "    sub-expressions: \n",
       "35. (l / 2^{t})\n",
       "    core type: ExprTuple\n",
       "    sub-expressions: 37\n",
       "36. b_{f}\n",
       "    core type: Literal\n",
       "    sub-expressions: \n",
       "37. l / 2^{t}\n",
       "    core type: Operation\n",
       "    operator: 38\n",
       "    operands: 39\n",
       "38. /\n",
       "    core type: Literal\n",
       "    sub-expressions: \n",
       "39. (l, 2^{t})\n",
       "    core type: ExprTuple\n",
       "    sub-expressions: 40, 41\n",
       "40. l\n",
       "    core type: Variable\n",
       "    sub-expressions: \n",
       "41. 2^{t}\n",
       "    core type: Operation\n",
       "    operator: 42\n",
       "    operands: 43\n",
       "42. Exp\n",
       "    core type: Literal\n",
       "    sub-expressions: \n",
       "43. (2, t)\n",
       "    core type: ExprTuple\n",
       "    sub-expressions: 44, 45\n",
       "44. 2\n",
       "    core type: Literal\n",
       "    sub-expressions: \n",
       "45. t\n",
       "    core type: Literal\n",
       "    sub-expressions: "
      ]
     },
     "metadata": {},
     "output_type": "display_data"
    }
   ],
   "source": [
    "# display the expression information\n",
    "stored_expr.expr_info()"
   ]
  },
  {
   "cell_type": "code",
   "execution_count": null,
   "metadata": {},
   "outputs": [],
   "source": []
  }
 ],
 "metadata": {
  "kernelspec": {
   "display_name": "Python 3",
   "language": "python",
   "name": "python3"
  }
 },
 "nbformat": 4,
 "nbformat_minor": 0
}