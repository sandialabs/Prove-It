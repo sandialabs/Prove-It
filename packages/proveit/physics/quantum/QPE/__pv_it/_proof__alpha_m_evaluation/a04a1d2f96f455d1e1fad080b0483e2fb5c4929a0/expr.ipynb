{
 "cells": [
  {
   "cell_type": "markdown",
   "metadata": {},
   "source": [
    "Expression of type <a class=\"ProveItLink\" href=\"../../../../../../../../doc/html/api/proveit.ExprTuple.html\">ExprTuple</a>\n",
    "=======================\n",
    "# from the theory of <a class=\"ProveItLink\" href=\"../../../_theory_nbs_/theory.ipynb\">proveit.physics.quantum.QPE</a>"
   ]
  },
  {
   "cell_type": "code",
   "execution_count": 1,
   "metadata": {},
   "outputs": [],
   "source": [
    "import proveit\n",
    "# Automation is not needed when building an expression:\n",
    "proveit.defaults.automation = False # This will speed things up.\n",
    "proveit.defaults.inline_pngs = False # Makes files smaller.\n",
    "%load_expr # Load the stored expression as 'stored_expr'\n",
    "# import Expression classes needed to build the expression\n",
    "from proveit import ExprTuple, m\n",
    "from proveit.numbers import Exp, frac, one, two\n",
    "from proveit.physics.quantum import NumBra, Qmult\n",
    "from proveit.physics.quantum.QFT import InverseFourierTransform\n",
    "from proveit.physics.quantum.QPE import _t"
   ]
  },
  {
   "cell_type": "code",
   "execution_count": 2,
   "metadata": {},
   "outputs": [
    {
     "data": {
      "text/html": [
       "<strong id=\"expr\">expr:</strong> <a class=\"ProveItLink\" href=\"expr.ipynb\"><img src=\"expr.png\" style=\"display:inline;vertical-align:middle;\" /></a><br>"
      ],
      "text/plain": [
       "<IPython.core.display.HTML object>"
      ]
     },
     "metadata": {},
     "output_type": "display_data"
    }
   ],
   "source": [
    "# build up the expression from sub-expressions\n",
    "sub_expr1 = NumBra(m, _t)\n",
    "sub_expr2 = InverseFourierTransform(_t)\n",
    "sub_expr3 = frac(one, Exp(two, frac(_t, two)))\n",
    "expr = ExprTuple(Qmult(sub_expr1, sub_expr3, sub_expr2), Qmult(Qmult(sub_expr1, sub_expr3), sub_expr2))"
   ]
  },
  {
   "cell_type": "code",
   "execution_count": 3,
   "metadata": {},
   "outputs": [
    {
     "name": "stdout",
     "output_type": "stream",
     "text": [
      "Passed sanity check: expr matches stored_expr\n"
     ]
    }
   ],
   "source": [
    "# check that the built expression is the same as the stored expression\n",
    "assert expr == stored_expr\n",
    "assert expr._style_id == stored_expr._style_id\n",
    "print(\"Passed sanity check: expr matches stored_expr\")"
   ]
  },
  {
   "cell_type": "code",
   "execution_count": 4,
   "metadata": {},
   "outputs": [
    {
     "name": "stdout",
     "output_type": "stream",
     "text": [
      "\\left({_{t}}\\langle m \\rvert \\thinspace \\frac{1}{2^{\\frac{t}{2}}} \\thinspace {\\mathrm {FT}}^{\\dag}_{t}, \\left({_{t}}\\langle m \\rvert \\thinspace \\frac{1}{2^{\\frac{t}{2}}}\\right) \\thinspace {\\mathrm {FT}}^{\\dag}_{t}\\right)\n"
     ]
    }
   ],
   "source": [
    "# Show the LaTeX representation of the expression for convenience if you need it.\n",
    "print(stored_expr.latex())"
   ]
  },
  {
   "cell_type": "code",
   "execution_count": 5,
   "metadata": {},
   "outputs": [
    {
     "data": {
      "text/html": [
       "<table>\n",
       "<tr><th>name</th><th>description</th><th>default</th><th>current value</th><th>related methods</th></tr><tr><td>wrap_positions</td><td>position(s) at which wrapping is to occur; 'n' is after the nth comma.</td><td>()</td><td>()</td><td>('with_wrapping_at',)</td></tr>\n",
       "<tr><td>justification</td><td>if any wrap positions are set, justify to the 'left', 'center', or 'right'</td><td>left</td><td>left</td><td>('with_justification',)</td></tr>\n",
       "</table>\n"
      ],
      "text/plain": [
       "style name: wrap_positions\n",
       "description: position(s) at which wrapping is to occur; 'n' is after the nth comma.\n",
       "default: ()\n",
       "current value: ()\n",
       "related methods: ('with_wrapping_at',)\n",
       "style name: justification\n",
       "description: if any wrap positions are set, justify to the 'left', 'center', or 'right'\n",
       "default: left\n",
       "current value: left\n",
       "related methods: ('with_justification',)"
      ]
     },
     "metadata": {},
     "output_type": "display_data"
    }
   ],
   "source": [
    "stored_expr.style_options()"
   ]
  },
  {
   "cell_type": "code",
   "execution_count": 6,
   "metadata": {},
   "outputs": [
    {
     "data": {
      "text/html": [
       "<table><tr><th>&nbsp;</th><th>core type</th><th>sub-expressions</th><th>expression</th></tr>\n",
       "<tr><td>0</td><td>ExprTuple</td><td>1, 2</td><td><a class=\"ProveItLink\" href=\"expr.ipynb\"><img src=\"expr.png\" style=\"display:inline;vertical-align:middle;\" /></a></td></tr>\n",
       "<tr><td>1</td><td>Operation</td><td>operator:&nbsp;7<br>operands:&nbsp;3<br></td><td><a class=\"ProveItLink\" href=\"../609447c3729e3f30e27335be4bb1a3e1d7984e0f0/expr.ipynb\"><img src=\"../609447c3729e3f30e27335be4bb1a3e1d7984e0f0/expr.png\" style=\"display:inline;vertical-align:middle;\" /></a></td></tr>\n",
       "<tr><td>2</td><td>Operation</td><td>operator:&nbsp;7<br>operands:&nbsp;4<br></td><td><a class=\"ProveItLink\" href=\"../c3c0654bf1f358a01200b422805f071ab823bfd90/expr.ipynb\"><img src=\"../c3c0654bf1f358a01200b422805f071ab823bfd90/expr.png\" style=\"display:inline;vertical-align:middle;\" /></a></td></tr>\n",
       "<tr><td>3</td><td>ExprTuple</td><td>11, 12, 6</td><td><a class=\"ProveItLink\" href=\"../f77e89bb7524fcdbe986e15b3e53e8a648afeb700/expr.ipynb\"><img src=\"../f77e89bb7524fcdbe986e15b3e53e8a648afeb700/expr.png\" style=\"display:inline;vertical-align:middle;\" /></a></td></tr>\n",
       "<tr><td>4</td><td>ExprTuple</td><td>5, 6</td><td><a class=\"ProveItLink\" href=\"../6752bb385664fd78c4bf5bdd5beffdfd8710779b0/expr.ipynb\"><img src=\"../6752bb385664fd78c4bf5bdd5beffdfd8710779b0/expr.png\" style=\"display:inline;vertical-align:middle;\" /></a></td></tr>\n",
       "<tr><td>5</td><td>Operation</td><td>operator:&nbsp;7<br>operands:&nbsp;8<br></td><td><a class=\"ProveItLink\" href=\"../36a5c12aa6dc2e2f720a4c32c2aa31697cf6953a0/expr.ipynb\"><img src=\"../36a5c12aa6dc2e2f720a4c32c2aa31697cf6953a0/expr.png\" style=\"display:inline;vertical-align:middle;\" /></a></td></tr>\n",
       "<tr><td>6</td><td>Operation</td><td>operator:&nbsp;9<br>operand:&nbsp;24<br></td><td><a class=\"ProveItLink\" href=\"../../common/ba1fd315c6163463202bb872556455ca760a5ce80/expr.ipynb\"><img src=\"../../common/ba1fd315c6163463202bb872556455ca760a5ce80/expr.png\" style=\"display:inline;vertical-align:middle;\" /></a></td></tr>\n",
       "<tr><td>7</td><td>Literal</td><td></td><td><a class=\"ProveItLink\" href=\"../../../../algebra/__pv_it/common/2972e0deb52c96565b39f905d407d7302ae287580/expr.ipynb\"><img src=\"../../../../algebra/__pv_it/common/2972e0deb52c96565b39f905d407d7302ae287580/expr.png\" style=\"display:inline;vertical-align:middle;\" /></a></td></tr>\n",
       "<tr><td>8</td><td>ExprTuple</td><td>11, 12</td><td><a class=\"ProveItLink\" href=\"../296110ff77d8daba01bebf4a0af2e7fda85259f30/expr.ipynb\"><img src=\"../296110ff77d8daba01bebf4a0af2e7fda85259f30/expr.png\" style=\"display:inline;vertical-align:middle;\" /></a></td></tr>\n",
       "<tr><td>9</td><td>Literal</td><td></td><td><a class=\"ProveItLink\" href=\"../../../../QFT/__pv_it/common/435b6ace9516fa72bfa2318e4ae9eb79e9793f8e0/expr.ipynb\"><img src=\"../../../../QFT/__pv_it/common/435b6ace9516fa72bfa2318e4ae9eb79e9793f8e0/expr.png\" style=\"display:inline;vertical-align:middle;\" /></a></td></tr>\n",
       "<tr><td>10</td><td>ExprTuple</td><td>24</td><td><a class=\"ProveItLink\" href=\"../../common/53db8ddfd57f92ceb5c9c5778de41560ef98a6f20/expr.ipynb\"><img src=\"../../common/53db8ddfd57f92ceb5c9c5778de41560ef98a6f20/expr.png\" style=\"display:inline;vertical-align:middle;\" /></a></td></tr>\n",
       "<tr><td>11</td><td>Operation</td><td>operator:&nbsp;13<br>operands:&nbsp;14<br></td><td><a class=\"ProveItLink\" href=\"../../axioms/f4276669dbc16aa13b708a2d25030a3e6069018f0/expr.ipynb\"><img src=\"../../axioms/f4276669dbc16aa13b708a2d25030a3e6069018f0/expr.png\" style=\"display:inline;vertical-align:middle;\" /></a></td></tr>\n",
       "<tr><td>12</td><td>Operation</td><td>operator:&nbsp;22<br>operands:&nbsp;15<br></td><td><a class=\"ProveItLink\" href=\"../ccd7d4513d46801d00c037e7baf45aec8b2653590/expr.ipynb\"><img src=\"../ccd7d4513d46801d00c037e7baf45aec8b2653590/expr.png\" style=\"display:inline;vertical-align:middle;\" /></a></td></tr>\n",
       "<tr><td>13</td><td>Literal</td><td></td><td><a class=\"ProveItLink\" href=\"../../../../algebra/__pv_it/common/13db10c1cee2a5c20b353170837d54aa664b4df90/expr.ipynb\"><img src=\"../../../../algebra/__pv_it/common/13db10c1cee2a5c20b353170837d54aa664b4df90/expr.png\" style=\"display:inline;vertical-align:middle;\" /></a></td></tr>\n",
       "<tr><td>14</td><td>ExprTuple</td><td>16, 24</td><td><a class=\"ProveItLink\" href=\"../../common/953eab40bc601e33085318a6772c33aaf06fab5f0/expr.ipynb\"><img src=\"../../common/953eab40bc601e33085318a6772c33aaf06fab5f0/expr.png\" style=\"display:inline;vertical-align:middle;\" /></a></td></tr>\n",
       "<tr><td>15</td><td>ExprTuple</td><td>17, 18</td><td><a class=\"ProveItLink\" href=\"../aafc2c2a3741fa5982057c91053105e1170393a60/expr.ipynb\"><img src=\"../aafc2c2a3741fa5982057c91053105e1170393a60/expr.png\" style=\"display:inline;vertical-align:middle;\" /></a></td></tr>\n",
       "<tr><td>16</td><td>Variable</td><td></td><td><a class=\"ProveItLink\" href=\"../../../../../../__pv_it/common/674a03b9c3ca221b3aabd5636837b31528ff33830/expr.ipynb\"><img src=\"../../../../../../__pv_it/common/674a03b9c3ca221b3aabd5636837b31528ff33830/expr.png\" style=\"display:inline;vertical-align:middle;\" /></a></td></tr>\n",
       "<tr><td>17</td><td>Literal</td><td></td><td><a class=\"ProveItLink\" href=\"../../../../../../numbers/numerals/__pv_it/common/682157d4892d216d9e5626ed533aff9b56b9506e0/expr.ipynb\"><img src=\"../../../../../../numbers/numerals/__pv_it/common/682157d4892d216d9e5626ed533aff9b56b9506e0/expr.png\" style=\"display:inline;vertical-align:middle;\" /></a></td></tr>\n",
       "<tr><td>18</td><td>Operation</td><td>operator:&nbsp;19<br>operands:&nbsp;20<br></td><td><a class=\"ProveItLink\" href=\"../c1b4bb7fd8746ec4ac5d5b28a3331f8ecc13f5fd0/expr.ipynb\"><img src=\"../c1b4bb7fd8746ec4ac5d5b28a3331f8ecc13f5fd0/expr.png\" style=\"display:inline;vertical-align:middle;\" /></a></td></tr>\n",
       "<tr><td>19</td><td>Literal</td><td></td><td><a class=\"ProveItLink\" href=\"../../../../../../numbers/exponentiation/__pv_it/common/0ac37aca1e54c35c5cda09672df32d4f69f1f3020/expr.ipynb\"><img src=\"../../../../../../numbers/exponentiation/__pv_it/common/0ac37aca1e54c35c5cda09672df32d4f69f1f3020/expr.png\" style=\"display:inline;vertical-align:middle;\" /></a></td></tr>\n",
       "<tr><td>20</td><td>ExprTuple</td><td>25, 21</td><td><a class=\"ProveItLink\" href=\"../25c8014330edf8f8df09c44e2d25cf7a15a39a7c0/expr.ipynb\"><img src=\"../25c8014330edf8f8df09c44e2d25cf7a15a39a7c0/expr.png\" style=\"display:inline;vertical-align:middle;\" /></a></td></tr>\n",
       "<tr><td>21</td><td>Operation</td><td>operator:&nbsp;22<br>operands:&nbsp;23<br></td><td><a class=\"ProveItLink\" href=\"../939840f93589d60645b8fe3422357b30355b9d120/expr.ipynb\"><img src=\"../939840f93589d60645b8fe3422357b30355b9d120/expr.png\" style=\"display:inline;vertical-align:middle;\" /></a></td></tr>\n",
       "<tr><td>22</td><td>Literal</td><td></td><td><a class=\"ProveItLink\" href=\"../../../../../../numbers/division/__pv_it/common/a2a633e1e3c749fb1f2692466b287b6348c5de840/expr.ipynb\"><img src=\"../../../../../../numbers/division/__pv_it/common/a2a633e1e3c749fb1f2692466b287b6348c5de840/expr.png\" style=\"display:inline;vertical-align:middle;\" /></a></td></tr>\n",
       "<tr><td>23</td><td>ExprTuple</td><td>24, 25</td><td><a class=\"ProveItLink\" href=\"../8417fe5fbc5f142e5ce6cdfd06b57a3b64d12db30/expr.ipynb\"><img src=\"../8417fe5fbc5f142e5ce6cdfd06b57a3b64d12db30/expr.png\" style=\"display:inline;vertical-align:middle;\" /></a></td></tr>\n",
       "<tr><td>24</td><td>Literal</td><td></td><td><a class=\"ProveItLink\" href=\"../../common/977cc67717328e22c93f8ab84e6a45e8cadce7790/expr.ipynb\"><img src=\"../../common/977cc67717328e22c93f8ab84e6a45e8cadce7790/expr.png\" style=\"display:inline;vertical-align:middle;\" /></a></td></tr>\n",
       "<tr><td>25</td><td>Literal</td><td></td><td><a class=\"ProveItLink\" href=\"../../../../../../numbers/numerals/__pv_it/common/af4aab8a07465db063742696e006d04670f30cf10/expr.ipynb\"><img src=\"../../../../../../numbers/numerals/__pv_it/common/af4aab8a07465db063742696e006d04670f30cf10/expr.png\" style=\"display:inline;vertical-align:middle;\" /></a></td></tr>\n",
       "</table>\n"
      ],
      "text/plain": [
       "0. ({t}_〈m| . (1 / 2^{t / 2}) . FT^{dag}_{t}, ({t}_〈m| . (1 / 2^{t / 2})) . FT^{dag}_{t})\n",
       "   core type: ExprTuple\n",
       "   sub-expressions: 1, 2\n",
       "1. {t}_〈m| . (1 / 2^{t / 2}) . FT^{dag}_{t}\n",
       "   core type: Operation\n",
       "   operator: 7\n",
       "   operands: 3\n",
       "2. ({t}_〈m| . (1 / 2^{t / 2})) . FT^{dag}_{t}\n",
       "   core type: Operation\n",
       "   operator: 7\n",
       "   operands: 4\n",
       "3. ({t}_〈m|, 1 / 2^{t / 2}, FT^{dag}_{t})\n",
       "   core type: ExprTuple\n",
       "   sub-expressions: 11, 12, 6\n",
       "4. ({t}_〈m| . (1 / 2^{t / 2}), FT^{dag}_{t})\n",
       "   core type: ExprTuple\n",
       "   sub-expressions: 5, 6\n",
       "5. {t}_〈m| . (1 / 2^{t / 2})\n",
       "   core type: Operation\n",
       "   operator: 7\n",
       "   operands: 8\n",
       "6. FT^{dag}_{t}\n",
       "   core type: Operation\n",
       "   operator: 9\n",
       "   operand: 24\n",
       "7. .\n",
       "   core type: Literal\n",
       "   sub-expressions: \n",
       "8. ({t}_〈m|, 1 / 2^{t / 2})\n",
       "   core type: ExprTuple\n",
       "   sub-expressions: 11, 12\n",
       "9. FT^{dag}\n",
       "   core type: Literal\n",
       "   sub-expressions: \n",
       "10. (t)\n",
       "    core type: ExprTuple\n",
       "    sub-expressions: 24\n",
       "11. {t}_〈m|\n",
       "    core type: Operation\n",
       "    operator: 13\n",
       "    operands: 14\n",
       "12. 1 / 2^{t / 2}\n",
       "    core type: Operation\n",
       "    operator: 22\n",
       "    operands: 15\n",
       "13. NUM_BRA\n",
       "    core type: Literal\n",
       "    sub-expressions: \n",
       "14. (m, t)\n",
       "    core type: ExprTuple\n",
       "    sub-expressions: 16, 24\n",
       "15. (1, 2^{t / 2})\n",
       "    core type: ExprTuple\n",
       "    sub-expressions: 17, 18\n",
       "16. m\n",
       "    core type: Variable\n",
       "    sub-expressions: \n",
       "17. 1\n",
       "    core type: Literal\n",
       "    sub-expressions: \n",
       "18. 2^{t / 2}\n",
       "    core type: Operation\n",
       "    operator: 19\n",
       "    operands: 20\n",
       "19. Exp\n",
       "    core type: Literal\n",
       "    sub-expressions: \n",
       "20. (2, t / 2)\n",
       "    core type: ExprTuple\n",
       "    sub-expressions: 25, 21\n",
       "21. t / 2\n",
       "    core type: Operation\n",
       "    operator: 22\n",
       "    operands: 23\n",
       "22. /\n",
       "    core type: Literal\n",
       "    sub-expressions: \n",
       "23. (t, 2)\n",
       "    core type: ExprTuple\n",
       "    sub-expressions: 24, 25\n",
       "24. t\n",
       "    core type: Literal\n",
       "    sub-expressions: \n",
       "25. 2\n",
       "    core type: Literal\n",
       "    sub-expressions: "
      ]
     },
     "metadata": {},
     "output_type": "display_data"
    }
   ],
   "source": [
    "# display the expression information\n",
    "stored_expr.expr_info()"
   ]
  },
  {
   "cell_type": "code",
   "execution_count": null,
   "metadata": {},
   "outputs": [],
   "source": []
  }
 ],
 "metadata": {
  "kernelspec": {
   "display_name": "Python 3",
   "language": "python",
   "name": "python3"
  }
 },
 "nbformat": 4,
 "nbformat_minor": 0
}