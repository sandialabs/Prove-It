{
 "cells": [
  {
   "cell_type": "markdown",
   "metadata": {},
   "source": [
    "Expression of type <a class=\"ProveItLink\" href=\"../../../../../../../../doc/html/api/proveit.logic.Equals.html\">Equals</a>\n",
    "=======================\n",
    "# from the theory of <a class=\"ProveItLink\" href=\"../../../_theory_nbs_/theory.ipynb\">proveit.physics.quantum.QPE</a>"
   ]
  },
  {
   "cell_type": "code",
   "execution_count": 1,
   "metadata": {},
   "outputs": [],
   "source": [
    "import proveit\n",
    "# Automation is not needed when building an expression:\n",
    "proveit.defaults.automation = False # This will speed things up.\n",
    "proveit.defaults.inline_pngs = False # Makes files smaller.\n",
    "%load_expr # Load the stored expression as 'stored_expr'\n",
    "# import Expression classes needed to build the expression\n",
    "from proveit import ExprRange, Variable, m\n",
    "from proveit.core_expr_types import Len\n",
    "from proveit.logic import Equals\n",
    "from proveit.numbers import Exp, frac, one, three, two\n",
    "from proveit.physics.quantum import NumBra\n",
    "from proveit.physics.quantum.QFT import InverseFourierTransform\n",
    "from proveit.physics.quantum.QPE import _t"
   ]
  },
  {
   "cell_type": "code",
   "execution_count": 2,
   "metadata": {},
   "outputs": [
    {
     "data": {
      "text/html": [
       "<strong id=\"expr\">expr:</strong> <a class=\"ProveItLink\" href=\"expr.ipynb\"><img src=\"expr.png\" style=\"display:inline;vertical-align:middle;\" /></a><br>"
      ],
      "text/plain": [
       "<IPython.core.display.HTML object>"
      ]
     },
     "metadata": {},
     "output_type": "display_data"
    }
   ],
   "source": [
    "# build up the expression from sub-expressions\n",
    "sub_expr1 = Variable(\"_a\", latex_format = r\"{_{-}a}\")\n",
    "expr = Equals(Len(operands = [NumBra(m, _t), frac(one, Exp(two, frac(_t, two))), InverseFourierTransform(_t)]), Len(operands = [ExprRange(sub_expr1, sub_expr1, one, three)]))"
   ]
  },
  {
   "cell_type": "code",
   "execution_count": 3,
   "metadata": {},
   "outputs": [
    {
     "name": "stdout",
     "output_type": "stream",
     "text": [
      "Passed sanity check: expr matches stored_expr\n"
     ]
    }
   ],
   "source": [
    "# check that the built expression is the same as the stored expression\n",
    "assert expr == stored_expr\n",
    "assert expr._style_id == stored_expr._style_id\n",
    "print(\"Passed sanity check: expr matches stored_expr\")"
   ]
  },
  {
   "cell_type": "code",
   "execution_count": 4,
   "metadata": {},
   "outputs": [
    {
     "name": "stdout",
     "output_type": "stream",
     "text": [
      "|\\left({_{t}}\\langle m \\rvert, \\frac{1}{2^{\\frac{t}{2}}}, {\\mathrm {FT}}^{\\dag}_{t}\\right)| = |\\left(1, 2, \\ldots, 3\\right)|\n"
     ]
    }
   ],
   "source": [
    "# Show the LaTeX representation of the expression for convenience if you need it.\n",
    "print(stored_expr.latex())"
   ]
  },
  {
   "cell_type": "code",
   "execution_count": 5,
   "metadata": {},
   "outputs": [
    {
     "data": {
      "text/html": [
       "<table>\n",
       "<tr><th>name</th><th>description</th><th>default</th><th>current value</th><th>related methods</th></tr><tr><td>operation</td><td>'infix' or 'function' style formatting</td><td>infix</td><td>infix</td><td></td></tr>\n",
       "<tr><td>wrap_positions</td><td>position(s) at which wrapping is to occur; '2 n - 1' is after the nth operand, '2 n' is after the nth operation.</td><td>()</td><td>()</td><td>('with_wrapping_at', 'with_wrap_before_operator', 'with_wrap_after_operator', 'without_wrapping', 'wrap_positions')</td></tr>\n",
       "<tr><td>justification</td><td>if any wrap positions are set, justify to the 'left', 'center', or 'right'</td><td>center</td><td>center</td><td>('with_justification',)</td></tr>\n",
       "<tr><td>direction</td><td>Direction of the relation (normal or reversed)</td><td>normal</td><td>normal</td><td>('with_direction_reversed', 'is_reversed')</td></tr>\n",
       "</table>\n"
      ],
      "text/plain": [
       "style name: operation\n",
       "description: 'infix' or 'function' style formatting\n",
       "default: infix\n",
       "current value: infix\n",
       "related methods: ()\n",
       "style name: wrap_positions\n",
       "description: position(s) at which wrapping is to occur; '2 n - 1' is after the nth operand, '2 n' is after the nth operation.\n",
       "default: ()\n",
       "current value: ()\n",
       "related methods: ('with_wrapping_at', 'with_wrap_before_operator', 'with_wrap_after_operator', 'without_wrapping', 'wrap_positions')\n",
       "style name: justification\n",
       "description: if any wrap positions are set, justify to the 'left', 'center', or 'right'\n",
       "default: center\n",
       "current value: center\n",
       "related methods: ('with_justification',)\n",
       "style name: direction\n",
       "description: Direction of the relation (normal or reversed)\n",
       "default: normal\n",
       "current value: normal\n",
       "related methods: ('with_direction_reversed', 'is_reversed')"
      ]
     },
     "metadata": {},
     "output_type": "display_data"
    }
   ],
   "source": [
    "stored_expr.style_options()"
   ]
  },
  {
   "cell_type": "code",
   "execution_count": 6,
   "metadata": {},
   "outputs": [
    {
     "data": {
      "text/html": [
       "<table><tr><th>&nbsp;</th><th>core type</th><th>sub-expressions</th><th>expression</th></tr>\n",
       "<tr><td>0</td><td>Operation</td><td>operator:&nbsp;1<br>operands:&nbsp;2<br></td><td><a class=\"ProveItLink\" href=\"expr.ipynb\"><img src=\"expr.png\" style=\"display:inline;vertical-align:middle;\" /></a></td></tr>\n",
       "<tr><td>1</td><td>Literal</td><td></td><td><a class=\"ProveItLink\" href=\"../../../../../../logic/equality/__pv_it/common/fb96dc12b2aa8801dda64d0132b396c63d1502bb0/expr.ipynb\"><img src=\"../../../../../../logic/equality/__pv_it/common/fb96dc12b2aa8801dda64d0132b396c63d1502bb0/expr.png\" style=\"display:inline;vertical-align:middle;\" /></a></td></tr>\n",
       "<tr><td>2</td><td>ExprTuple</td><td>3, 4</td><td><a class=\"ProveItLink\" href=\"../e26208d07d026973eef0d9f9f44d899ce745a1e20/expr.ipynb\"><img src=\"../e26208d07d026973eef0d9f9f44d899ce745a1e20/expr.png\" style=\"display:inline;vertical-align:middle;\" /></a></td></tr>\n",
       "<tr><td>3</td><td>Operation</td><td>operator:&nbsp;6<br>operands:&nbsp;5<br></td><td><a class=\"ProveItLink\" href=\"../642af280d58bbbb47e42f74beed0f6973a6081200/expr.ipynb\"><img src=\"../642af280d58bbbb47e42f74beed0f6973a6081200/expr.png\" style=\"display:inline;vertical-align:middle;\" /></a></td></tr>\n",
       "<tr><td>4</td><td>Operation</td><td>operator:&nbsp;6<br>operands:&nbsp;7<br></td><td><a class=\"ProveItLink\" href=\"../../../../../../numbers/numerals/decimals/__pv_it/theorems/8bc54aca0c360562fc3efd5c6f8c4a460f92e7260/expr.ipynb\"><img src=\"../../../../../../numbers/numerals/decimals/__pv_it/theorems/8bc54aca0c360562fc3efd5c6f8c4a460f92e7260/expr.png\" style=\"display:inline;vertical-align:middle;\" /></a></td></tr>\n",
       "<tr><td>5</td><td>ExprTuple</td><td>8, 9, 10</td><td><a class=\"ProveItLink\" href=\"../f77e89bb7524fcdbe986e15b3e53e8a648afeb700/expr.ipynb\"><img src=\"../f77e89bb7524fcdbe986e15b3e53e8a648afeb700/expr.png\" style=\"display:inline;vertical-align:middle;\" /></a></td></tr>\n",
       "<tr><td>6</td><td>Literal</td><td></td><td><a class=\"ProveItLink\" href=\"../../../../../../core_expr_types/tuples/__pv_it/common/43df765abf1294d8f1fd177863f57f08bf5ad0080/expr.ipynb\"><img src=\"../../../../../../core_expr_types/tuples/__pv_it/common/43df765abf1294d8f1fd177863f57f08bf5ad0080/expr.png\" style=\"display:inline;vertical-align:middle;\" /></a></td></tr>\n",
       "<tr><td>7</td><td>ExprTuple</td><td>11</td><td><a class=\"ProveItLink\" href=\"../../../../../../numbers/numerals/decimals/__pv_it/theorems/d4b94180ce486f704228c5b269c7de469083bee70/expr.ipynb\"><img src=\"../../../../../../numbers/numerals/decimals/__pv_it/theorems/d4b94180ce486f704228c5b269c7de469083bee70/expr.png\" style=\"display:inline;vertical-align:middle;\" /></a></td></tr>\n",
       "<tr><td>8</td><td>Operation</td><td>operator:&nbsp;12<br>operands:&nbsp;13<br></td><td><a class=\"ProveItLink\" href=\"../../axioms/f4276669dbc16aa13b708a2d25030a3e6069018f0/expr.ipynb\"><img src=\"../../axioms/f4276669dbc16aa13b708a2d25030a3e6069018f0/expr.png\" style=\"display:inline;vertical-align:middle;\" /></a></td></tr>\n",
       "<tr><td>9</td><td>Operation</td><td>operator:&nbsp;27<br>operands:&nbsp;14<br></td><td><a class=\"ProveItLink\" href=\"../ccd7d4513d46801d00c037e7baf45aec8b2653590/expr.ipynb\"><img src=\"../ccd7d4513d46801d00c037e7baf45aec8b2653590/expr.png\" style=\"display:inline;vertical-align:middle;\" /></a></td></tr>\n",
       "<tr><td>10</td><td>Operation</td><td>operator:&nbsp;15<br>operand:&nbsp;29<br></td><td><a class=\"ProveItLink\" href=\"../../common/ba1fd315c6163463202bb872556455ca760a5ce80/expr.ipynb\"><img src=\"../../common/ba1fd315c6163463202bb872556455ca760a5ce80/expr.png\" style=\"display:inline;vertical-align:middle;\" /></a></td></tr>\n",
       "<tr><td>11</td><td>ExprRange</td><td>lambda_map:&nbsp;17<br>start_index:&nbsp;20<br>end_index:&nbsp;18<br></td><td><a class=\"ProveItLink\" href=\"../../../../../../numbers/numerals/decimals/__pv_it/theorems/7f7384eb83aa1bf7dffcf474607fdf73e5fbd33e0/expr.ipynb\"><img src=\"../../../../../../numbers/numerals/decimals/__pv_it/theorems/7f7384eb83aa1bf7dffcf474607fdf73e5fbd33e0/expr.png\" style=\"display:inline;vertical-align:middle;\" /></a></td></tr>\n",
       "<tr><td>12</td><td>Literal</td><td></td><td><a class=\"ProveItLink\" href=\"../../../../algebra/__pv_it/common/13db10c1cee2a5c20b353170837d54aa664b4df90/expr.ipynb\"><img src=\"../../../../algebra/__pv_it/common/13db10c1cee2a5c20b353170837d54aa664b4df90/expr.png\" style=\"display:inline;vertical-align:middle;\" /></a></td></tr>\n",
       "<tr><td>13</td><td>ExprTuple</td><td>19, 29</td><td><a class=\"ProveItLink\" href=\"../../common/953eab40bc601e33085318a6772c33aaf06fab5f0/expr.ipynb\"><img src=\"../../common/953eab40bc601e33085318a6772c33aaf06fab5f0/expr.png\" style=\"display:inline;vertical-align:middle;\" /></a></td></tr>\n",
       "<tr><td>14</td><td>ExprTuple</td><td>20, 21</td><td><a class=\"ProveItLink\" href=\"../aafc2c2a3741fa5982057c91053105e1170393a60/expr.ipynb\"><img src=\"../aafc2c2a3741fa5982057c91053105e1170393a60/expr.png\" style=\"display:inline;vertical-align:middle;\" /></a></td></tr>\n",
       "<tr><td>15</td><td>Literal</td><td></td><td><a class=\"ProveItLink\" href=\"../../../../QFT/__pv_it/common/435b6ace9516fa72bfa2318e4ae9eb79e9793f8e0/expr.ipynb\"><img src=\"../../../../QFT/__pv_it/common/435b6ace9516fa72bfa2318e4ae9eb79e9793f8e0/expr.png\" style=\"display:inline;vertical-align:middle;\" /></a></td></tr>\n",
       "<tr><td>16</td><td>ExprTuple</td><td>29</td><td><a class=\"ProveItLink\" href=\"../../common/53db8ddfd57f92ceb5c9c5778de41560ef98a6f20/expr.ipynb\"><img src=\"../../common/53db8ddfd57f92ceb5c9c5778de41560ef98a6f20/expr.png\" style=\"display:inline;vertical-align:middle;\" /></a></td></tr>\n",
       "<tr><td>17</td><td>Lambda</td><td>parameter:&nbsp;25<br>body:&nbsp;25<br></td><td><a class=\"ProveItLink\" href=\"../../../../../../numbers/numerals/decimals/__pv_it/theorems/a050e1e3ed3765e359f9bdf60f4fc32faa6c9d340/expr.ipynb\"><img src=\"../../../../../../numbers/numerals/decimals/__pv_it/theorems/a050e1e3ed3765e359f9bdf60f4fc32faa6c9d340/expr.png\" style=\"display:inline;vertical-align:middle;\" /></a></td></tr>\n",
       "<tr><td>18</td><td>Literal</td><td></td><td><a class=\"ProveItLink\" href=\"../../../../../../numbers/numerals/__pv_it/common/1943b60945420e340d305780feff5c1aff2740ff0/expr.ipynb\"><img src=\"../../../../../../numbers/numerals/__pv_it/common/1943b60945420e340d305780feff5c1aff2740ff0/expr.png\" style=\"display:inline;vertical-align:middle;\" /></a></td></tr>\n",
       "<tr><td>19</td><td>Variable</td><td></td><td><a class=\"ProveItLink\" href=\"../../../../../../__pv_it/common/674a03b9c3ca221b3aabd5636837b31528ff33830/expr.ipynb\"><img src=\"../../../../../../__pv_it/common/674a03b9c3ca221b3aabd5636837b31528ff33830/expr.png\" style=\"display:inline;vertical-align:middle;\" /></a></td></tr>\n",
       "<tr><td>20</td><td>Literal</td><td></td><td><a class=\"ProveItLink\" href=\"../../../../../../numbers/numerals/__pv_it/common/682157d4892d216d9e5626ed533aff9b56b9506e0/expr.ipynb\"><img src=\"../../../../../../numbers/numerals/__pv_it/common/682157d4892d216d9e5626ed533aff9b56b9506e0/expr.png\" style=\"display:inline;vertical-align:middle;\" /></a></td></tr>\n",
       "<tr><td>21</td><td>Operation</td><td>operator:&nbsp;23<br>operands:&nbsp;24<br></td><td><a class=\"ProveItLink\" href=\"../c1b4bb7fd8746ec4ac5d5b28a3331f8ecc13f5fd0/expr.ipynb\"><img src=\"../c1b4bb7fd8746ec4ac5d5b28a3331f8ecc13f5fd0/expr.png\" style=\"display:inline;vertical-align:middle;\" /></a></td></tr>\n",
       "<tr><td>22</td><td>ExprTuple</td><td>25</td><td><a class=\"ProveItLink\" href=\"../../../../../../core_expr_types/__pv_it/common/4b0dd6be36d76552eda6a95d5b4a27f5a5b62f900/expr.ipynb\"><img src=\"../../../../../../core_expr_types/__pv_it/common/4b0dd6be36d76552eda6a95d5b4a27f5a5b62f900/expr.png\" style=\"display:inline;vertical-align:middle;\" /></a></td></tr>\n",
       "<tr><td>23</td><td>Literal</td><td></td><td><a class=\"ProveItLink\" href=\"../../../../../../numbers/exponentiation/__pv_it/common/0ac37aca1e54c35c5cda09672df32d4f69f1f3020/expr.ipynb\"><img src=\"../../../../../../numbers/exponentiation/__pv_it/common/0ac37aca1e54c35c5cda09672df32d4f69f1f3020/expr.png\" style=\"display:inline;vertical-align:middle;\" /></a></td></tr>\n",
       "<tr><td>24</td><td>ExprTuple</td><td>30, 26</td><td><a class=\"ProveItLink\" href=\"../25c8014330edf8f8df09c44e2d25cf7a15a39a7c0/expr.ipynb\"><img src=\"../25c8014330edf8f8df09c44e2d25cf7a15a39a7c0/expr.png\" style=\"display:inline;vertical-align:middle;\" /></a></td></tr>\n",
       "<tr><td>25</td><td>Variable</td><td></td><td><a class=\"ProveItLink\" href=\"../../../../../../core_expr_types/__pv_it/common/006c465e50948aa2b52285e2de47974f741255cc0/expr.ipynb\"><img src=\"../../../../../../core_expr_types/__pv_it/common/006c465e50948aa2b52285e2de47974f741255cc0/expr.png\" style=\"display:inline;vertical-align:middle;\" /></a></td></tr>\n",
       "<tr><td>26</td><td>Operation</td><td>operator:&nbsp;27<br>operands:&nbsp;28<br></td><td><a class=\"ProveItLink\" href=\"../939840f93589d60645b8fe3422357b30355b9d120/expr.ipynb\"><img src=\"../939840f93589d60645b8fe3422357b30355b9d120/expr.png\" style=\"display:inline;vertical-align:middle;\" /></a></td></tr>\n",
       "<tr><td>27</td><td>Literal</td><td></td><td><a class=\"ProveItLink\" href=\"../../../../../../numbers/division/__pv_it/common/a2a633e1e3c749fb1f2692466b287b6348c5de840/expr.ipynb\"><img src=\"../../../../../../numbers/division/__pv_it/common/a2a633e1e3c749fb1f2692466b287b6348c5de840/expr.png\" style=\"display:inline;vertical-align:middle;\" /></a></td></tr>\n",
       "<tr><td>28</td><td>ExprTuple</td><td>29, 30</td><td><a class=\"ProveItLink\" href=\"../8417fe5fbc5f142e5ce6cdfd06b57a3b64d12db30/expr.ipynb\"><img src=\"../8417fe5fbc5f142e5ce6cdfd06b57a3b64d12db30/expr.png\" style=\"display:inline;vertical-align:middle;\" /></a></td></tr>\n",
       "<tr><td>29</td><td>Literal</td><td></td><td><a class=\"ProveItLink\" href=\"../../common/977cc67717328e22c93f8ab84e6a45e8cadce7790/expr.ipynb\"><img src=\"../../common/977cc67717328e22c93f8ab84e6a45e8cadce7790/expr.png\" style=\"display:inline;vertical-align:middle;\" /></a></td></tr>\n",
       "<tr><td>30</td><td>Literal</td><td></td><td><a class=\"ProveItLink\" href=\"../../../../../../numbers/numerals/__pv_it/common/af4aab8a07465db063742696e006d04670f30cf10/expr.ipynb\"><img src=\"../../../../../../numbers/numerals/__pv_it/common/af4aab8a07465db063742696e006d04670f30cf10/expr.png\" style=\"display:inline;vertical-align:middle;\" /></a></td></tr>\n",
       "</table>\n"
      ],
      "text/plain": [
       "0. |({t}_〈m|, 1 / 2^{t / 2}, FT^{dag}_{t})| = |(1, 2, ..., 3)|\n",
       "   core type: Operation\n",
       "   operator: 1\n",
       "   operands: 2\n",
       "1. =\n",
       "   core type: Literal\n",
       "   sub-expressions: \n",
       "2. (|({t}_〈m|, 1 / 2^{t / 2}, FT^{dag}_{t})|, |(1, 2, ..., 3)|)\n",
       "   core type: ExprTuple\n",
       "   sub-expressions: 3, 4\n",
       "3. |({t}_〈m|, 1 / 2^{t / 2}, FT^{dag}_{t})|\n",
       "   core type: Operation\n",
       "   operator: 6\n",
       "   operands: 5\n",
       "4. |(1, 2, ..., 3)|\n",
       "   core type: Operation\n",
       "   operator: 6\n",
       "   operands: 7\n",
       "5. ({t}_〈m|, 1 / 2^{t / 2}, FT^{dag}_{t})\n",
       "   core type: ExprTuple\n",
       "   sub-expressions: 8, 9, 10\n",
       "6. length\n",
       "   core type: Literal\n",
       "   sub-expressions: \n",
       "7. (1, 2, ..., 3)\n",
       "   core type: ExprTuple\n",
       "   sub-expressions: 11\n",
       "8. {t}_〈m|\n",
       "   core type: Operation\n",
       "   operator: 12\n",
       "   operands: 13\n",
       "9. 1 / 2^{t / 2}\n",
       "   core type: Operation\n",
       "   operator: 27\n",
       "   operands: 14\n",
       "10. FT^{dag}_{t}\n",
       "    core type: Operation\n",
       "    operator: 15\n",
       "    operand: 29\n",
       "11. 1, 2, ..., 3\n",
       "    core type: ExprRange\n",
       "    lambda_map: 17\n",
       "    start_index: 20\n",
       "    end_index: 18\n",
       "12. NUM_BRA\n",
       "    core type: Literal\n",
       "    sub-expressions: \n",
       "13. (m, t)\n",
       "    core type: ExprTuple\n",
       "    sub-expressions: 19, 29\n",
       "14. (1, 2^{t / 2})\n",
       "    core type: ExprTuple\n",
       "    sub-expressions: 20, 21\n",
       "15. FT^{dag}\n",
       "    core type: Literal\n",
       "    sub-expressions: \n",
       "16. (t)\n",
       "    core type: ExprTuple\n",
       "    sub-expressions: 29\n",
       "17. _a -> _a\n",
       "    core type: Lambda\n",
       "    parameter: 25\n",
       "    body: 25\n",
       "18. 3\n",
       "    core type: Literal\n",
       "    sub-expressions: \n",
       "19. m\n",
       "    core type: Variable\n",
       "    sub-expressions: \n",
       "20. 1\n",
       "    core type: Literal\n",
       "    sub-expressions: \n",
       "21. 2^{t / 2}\n",
       "    core type: Operation\n",
       "    operator: 23\n",
       "    operands: 24\n",
       "22. (_a)\n",
       "    core type: ExprTuple\n",
       "    sub-expressions: 25\n",
       "23. Exp\n",
       "    core type: Literal\n",
       "    sub-expressions: \n",
       "24. (2, t / 2)\n",
       "    core type: ExprTuple\n",
       "    sub-expressions: 30, 26\n",
       "25. _a\n",
       "    core type: Variable\n",
       "    sub-expressions: \n",
       "26. t / 2\n",
       "    core type: Operation\n",
       "    operator: 27\n",
       "    operands: 28\n",
       "27. /\n",
       "    core type: Literal\n",
       "    sub-expressions: \n",
       "28. (t, 2)\n",
       "    core type: ExprTuple\n",
       "    sub-expressions: 29, 30\n",
       "29. t\n",
       "    core type: Literal\n",
       "    sub-expressions: \n",
       "30. 2\n",
       "    core type: Literal\n",
       "    sub-expressions: "
      ]
     },
     "metadata": {},
     "output_type": "display_data"
    }
   ],
   "source": [
    "# display the expression information\n",
    "stored_expr.expr_info()"
   ]
  },
  {
   "cell_type": "code",
   "execution_count": null,
   "metadata": {},
   "outputs": [],
   "source": []
  }
 ],
 "metadata": {
  "kernelspec": {
   "display_name": "Python 3",
   "language": "python",
   "name": "python3"
  }
 },
 "nbformat": 4,
 "nbformat_minor": 0
}