{
 "cells": [
  {
   "cell_type": "markdown",
   "metadata": {},
   "source": [
    "Expression of type <a class=\"ProveItLink\" href=\"../../../../../../../../doc/html/api/proveit.ExprTuple.html\">ExprTuple</a>\n",
    "=======================\n",
    "# from the theory of <a class=\"ProveItLink\" href=\"../../../_theory_nbs_/theory.ipynb\">proveit.physics.quantum.QPE</a>"
   ]
  },
  {
   "cell_type": "code",
   "execution_count": 1,
   "metadata": {},
   "outputs": [],
   "source": [
    "import proveit\n",
    "# Automation is not needed when building an expression:\n",
    "proveit.defaults.automation = False # This will speed things up.\n",
    "proveit.defaults.inline_pngs = False # Makes files smaller.\n",
    "%load_expr # Load the stored expression as 'stored_expr'\n",
    "# import Expression classes needed to build the expression\n",
    "from proveit import ExprTuple, k\n",
    "from proveit.linear_algebra import ScalarMult, VecSum\n",
    "from proveit.numbers import Exp, Mult, e, i, pi, two\n",
    "from proveit.physics.quantum import NumKet\n",
    "from proveit.physics.quantum.QFT import InverseFourierTransform\n",
    "from proveit.physics.quantum.QPE import _m_domain, _phase, _t"
   ]
  },
  {
   "cell_type": "code",
   "execution_count": 2,
   "metadata": {},
   "outputs": [
    {
     "data": {
      "text/html": [
       "<strong id=\"expr\">expr:</strong> <a class=\"ProveItLink\" href=\"expr.ipynb\"><img src=\"expr.png\" style=\"display:inline;vertical-align:middle;\" /></a><br>"
      ],
      "text/plain": [
       "<IPython.core.display.HTML object>"
      ]
     },
     "metadata": {},
     "output_type": "display_data"
    }
   ],
   "source": [
    "# build up the expression from sub-expressions\n",
    "expr = ExprTuple(InverseFourierTransform(_t), VecSum(index_or_indices = [k], summand = ScalarMult(Exp(e, Mult(two, pi, i, _phase, k)), NumKet(k, _t)), domain = _m_domain))"
   ]
  },
  {
   "cell_type": "code",
   "execution_count": 3,
   "metadata": {},
   "outputs": [
    {
     "name": "stdout",
     "output_type": "stream",
     "text": [
      "Passed sanity check: expr matches stored_expr\n"
     ]
    }
   ],
   "source": [
    "# check that the built expression is the same as the stored expression\n",
    "assert expr == stored_expr\n",
    "assert expr._style_id == stored_expr._style_id\n",
    "print(\"Passed sanity check: expr matches stored_expr\")"
   ]
  },
  {
   "cell_type": "code",
   "execution_count": 4,
   "metadata": {},
   "outputs": [
    {
     "name": "stdout",
     "output_type": "stream",
     "text": [
      "\\left({\\mathrm {FT}}^{\\dag}_{t}, \\sum_{k=0}^{2^{t} - 1} \\left(\\mathsf{e}^{2 \\cdot \\pi \\cdot \\mathsf{i} \\cdot \\varphi \\cdot k} \\cdot \\lvert k \\rangle_{t}\\right)\\right)\n"
     ]
    }
   ],
   "source": [
    "# Show the LaTeX representation of the expression for convenience if you need it.\n",
    "print(stored_expr.latex())"
   ]
  },
  {
   "cell_type": "code",
   "execution_count": 5,
   "metadata": {},
   "outputs": [
    {
     "data": {
      "text/html": [
       "<table>\n",
       "<tr><th>name</th><th>description</th><th>default</th><th>current value</th><th>related methods</th></tr><tr><td>wrap_positions</td><td>position(s) at which wrapping is to occur; 'n' is after the nth comma.</td><td>()</td><td>()</td><td>('with_wrapping_at',)</td></tr>\n",
       "<tr><td>justification</td><td>if any wrap positions are set, justify to the 'left', 'center', or 'right'</td><td>left</td><td>left</td><td>('with_justification',)</td></tr>\n",
       "</table>\n"
      ],
      "text/plain": [
       "style name: wrap_positions\n",
       "description: position(s) at which wrapping is to occur; 'n' is after the nth comma.\n",
       "default: ()\n",
       "current value: ()\n",
       "related methods: ('with_wrapping_at',)\n",
       "style name: justification\n",
       "description: if any wrap positions are set, justify to the 'left', 'center', or 'right'\n",
       "default: left\n",
       "current value: left\n",
       "related methods: ('with_justification',)"
      ]
     },
     "metadata": {},
     "output_type": "display_data"
    }
   ],
   "source": [
    "stored_expr.style_options()"
   ]
  },
  {
   "cell_type": "code",
   "execution_count": 6,
   "metadata": {},
   "outputs": [
    {
     "data": {
      "text/html": [
       "<table><tr><th>&nbsp;</th><th>core type</th><th>sub-expressions</th><th>expression</th></tr>\n",
       "<tr><td>0</td><td>ExprTuple</td><td>1, 2</td><td><a class=\"ProveItLink\" href=\"expr.ipynb\"><img src=\"expr.png\" style=\"display:inline;vertical-align:middle;\" /></a></td></tr>\n",
       "<tr><td>1</td><td>Operation</td><td>operator:&nbsp;3<br>operand:&nbsp;43<br></td><td><a class=\"ProveItLink\" href=\"../../common/ba1fd315c6163463202bb872556455ca760a5ce80/expr.ipynb\"><img src=\"../../common/ba1fd315c6163463202bb872556455ca760a5ce80/expr.png\" style=\"display:inline;vertical-align:middle;\" /></a></td></tr>\n",
       "<tr><td>2</td><td>Operation</td><td>operator:&nbsp;5<br>operand:&nbsp;7<br></td><td><a class=\"ProveItLink\" href=\"../c7e46abdd3cb5d0bb82852dcd3599ae0715b00170/expr.ipynb\"><img src=\"../c7e46abdd3cb5d0bb82852dcd3599ae0715b00170/expr.png\" style=\"display:inline;vertical-align:middle;\" /></a></td></tr>\n",
       "<tr><td>3</td><td>Literal</td><td></td><td><a class=\"ProveItLink\" href=\"../../../../QFT/__pv_it/common/435b6ace9516fa72bfa2318e4ae9eb79e9793f8e0/expr.ipynb\"><img src=\"../../../../QFT/__pv_it/common/435b6ace9516fa72bfa2318e4ae9eb79e9793f8e0/expr.png\" style=\"display:inline;vertical-align:middle;\" /></a></td></tr>\n",
       "<tr><td>4</td><td>ExprTuple</td><td>43</td><td><a class=\"ProveItLink\" href=\"../../common/53db8ddfd57f92ceb5c9c5778de41560ef98a6f20/expr.ipynb\"><img src=\"../../common/53db8ddfd57f92ceb5c9c5778de41560ef98a6f20/expr.png\" style=\"display:inline;vertical-align:middle;\" /></a></td></tr>\n",
       "<tr><td>5</td><td>Literal</td><td></td><td><a class=\"ProveItLink\" href=\"../../../../../../linear_algebra/addition/__pv_it/common/62f73c830c62efb87627ede5678f282081cd0ce20/expr.ipynb\"><img src=\"../../../../../../linear_algebra/addition/__pv_it/common/62f73c830c62efb87627ede5678f282081cd0ce20/expr.png\" style=\"display:inline;vertical-align:middle;\" /></a></td></tr>\n",
       "<tr><td>6</td><td>ExprTuple</td><td>7</td><td><a class=\"ProveItLink\" href=\"../d1ed53d060ac5042ed75edaa40973fab62c434be0/expr.ipynb\"><img src=\"../d1ed53d060ac5042ed75edaa40973fab62c434be0/expr.png\" style=\"display:inline;vertical-align:middle;\" /></a></td></tr>\n",
       "<tr><td>7</td><td>Lambda</td><td>parameter:&nbsp;35<br>body:&nbsp;9<br></td><td><a class=\"ProveItLink\" href=\"../1547b4da8f5eb8e521d3604972e187de6c2379300/expr.ipynb\"><img src=\"../1547b4da8f5eb8e521d3604972e187de6c2379300/expr.png\" style=\"display:inline;vertical-align:middle;\" /></a></td></tr>\n",
       "<tr><td>8</td><td>ExprTuple</td><td>35</td><td><a class=\"ProveItLink\" href=\"../../../../../../__pv_it/common/688b115fcd711144fb0bdcf2138b0bd26487dd890/expr.ipynb\"><img src=\"../../../../../../__pv_it/common/688b115fcd711144fb0bdcf2138b0bd26487dd890/expr.png\" style=\"display:inline;vertical-align:middle;\" /></a></td></tr>\n",
       "<tr><td>9</td><td>Conditional</td><td>value:&nbsp;10<br>condition:&nbsp;11<br></td><td><a class=\"ProveItLink\" href=\"../fd2ecd1f0c0fc99c387d8b5e8c063d8f275505970/expr.ipynb\"><img src=\"../fd2ecd1f0c0fc99c387d8b5e8c063d8f275505970/expr.png\" style=\"display:inline;vertical-align:middle;\" /></a></td></tr>\n",
       "<tr><td>10</td><td>Operation</td><td>operator:&nbsp;12<br>operands:&nbsp;13<br></td><td><a class=\"ProveItLink\" href=\"../69dd1c5314c6371bbd1bab81108c28fd9e2f88d10/expr.ipynb\"><img src=\"../69dd1c5314c6371bbd1bab81108c28fd9e2f88d10/expr.png\" style=\"display:inline;vertical-align:middle;\" /></a></td></tr>\n",
       "<tr><td>11</td><td>Operation</td><td>operator:&nbsp;14<br>operands:&nbsp;15<br></td><td><a class=\"ProveItLink\" href=\"../../theorems/df30aba3a535ce7eb8609d1347296ba1cd1680060/expr.ipynb\"><img src=\"../../theorems/df30aba3a535ce7eb8609d1347296ba1cd1680060/expr.png\" style=\"display:inline;vertical-align:middle;\" /></a></td></tr>\n",
       "<tr><td>12</td><td>Literal</td><td></td><td><a class=\"ProveItLink\" href=\"../../../../../../linear_algebra/scalar_multiplication/__pv_it/common/1e364bd471e6a29fcd358dd2d9cd990a1e6fedd40/expr.ipynb\"><img src=\"../../../../../../linear_algebra/scalar_multiplication/__pv_it/common/1e364bd471e6a29fcd358dd2d9cd990a1e6fedd40/expr.png\" style=\"display:inline;vertical-align:middle;\" /></a></td></tr>\n",
       "<tr><td>13</td><td>ExprTuple</td><td>16, 17</td><td><a class=\"ProveItLink\" href=\"../11c9f76ff70d6a8a57d3f0b62bfbbc6eaf9c77e10/expr.ipynb\"><img src=\"../11c9f76ff70d6a8a57d3f0b62bfbbc6eaf9c77e10/expr.png\" style=\"display:inline;vertical-align:middle;\" /></a></td></tr>\n",
       "<tr><td>14</td><td>Literal</td><td></td><td><a class=\"ProveItLink\" href=\"../../../../../../logic/sets/membership/__pv_it/common/477487d8796864d23d5810f83761435f25167f690/expr.ipynb\"><img src=\"../../../../../../logic/sets/membership/__pv_it/common/477487d8796864d23d5810f83761435f25167f690/expr.png\" style=\"display:inline;vertical-align:middle;\" /></a></td></tr>\n",
       "<tr><td>15</td><td>ExprTuple</td><td>35, 18</td><td><a class=\"ProveItLink\" href=\"../../theorems/674449efd4d0656228eb1b9c36ee4683054379d70/expr.ipynb\"><img src=\"../../theorems/674449efd4d0656228eb1b9c36ee4683054379d70/expr.png\" style=\"display:inline;vertical-align:middle;\" /></a></td></tr>\n",
       "<tr><td>16</td><td>Operation</td><td>operator:&nbsp;38<br>operands:&nbsp;19<br></td><td><a class=\"ProveItLink\" href=\"../../theorems/2c1a535bf143a3432d0b7b4c0c044d1032b311ec0/expr.ipynb\"><img src=\"../../theorems/2c1a535bf143a3432d0b7b4c0c044d1032b311ec0/expr.png\" style=\"display:inline;vertical-align:middle;\" /></a></td></tr>\n",
       "<tr><td>17</td><td>Operation</td><td>operator:&nbsp;20<br>operands:&nbsp;21<br></td><td><a class=\"ProveItLink\" href=\"../1df585fd600d88150382dddc3318d5dbeee6fe3e0/expr.ipynb\"><img src=\"../1df585fd600d88150382dddc3318d5dbeee6fe3e0/expr.png\" style=\"display:inline;vertical-align:middle;\" /></a></td></tr>\n",
       "<tr><td>18</td><td>Operation</td><td>operator:&nbsp;22<br>operands:&nbsp;23<br></td><td><a class=\"ProveItLink\" href=\"../../common/0107914a254b4cba063b4849ea3d536e6979ec8c0/expr.ipynb\"><img src=\"../../common/0107914a254b4cba063b4849ea3d536e6979ec8c0/expr.png\" style=\"display:inline;vertical-align:middle;\" /></a></td></tr>\n",
       "<tr><td>19</td><td>ExprTuple</td><td>24, 25</td><td><a class=\"ProveItLink\" href=\"../../theorems/7fc65e30a01a657038c276fe12cbc943da454c6c0/expr.ipynb\"><img src=\"../../theorems/7fc65e30a01a657038c276fe12cbc943da454c6c0/expr.png\" style=\"display:inline;vertical-align:middle;\" /></a></td></tr>\n",
       "<tr><td>20</td><td>Literal</td><td></td><td><a class=\"ProveItLink\" href=\"../../../../algebra/__pv_it/common/8fae26fc802d6e77100c911db42f2d3784cdc7330/expr.ipynb\"><img src=\"../../../../algebra/__pv_it/common/8fae26fc802d6e77100c911db42f2d3784cdc7330/expr.png\" style=\"display:inline;vertical-align:middle;\" /></a></td></tr>\n",
       "<tr><td>21</td><td>ExprTuple</td><td>35, 43</td><td><a class=\"ProveItLink\" href=\"../3c1062a6d81b8f41709ab5d1afc2bce6b34744160/expr.ipynb\"><img src=\"../3c1062a6d81b8f41709ab5d1afc2bce6b34744160/expr.png\" style=\"display:inline;vertical-align:middle;\" /></a></td></tr>\n",
       "<tr><td>22</td><td>Literal</td><td></td><td><a class=\"ProveItLink\" href=\"../../../../../../numbers/number_sets/integers/__pv_it/common/92f3a0a77e3c3ea8e4a5c8674edadc54e4f57d550/expr.ipynb\"><img src=\"../../../../../../numbers/number_sets/integers/__pv_it/common/92f3a0a77e3c3ea8e4a5c8674edadc54e4f57d550/expr.png\" style=\"display:inline;vertical-align:middle;\" /></a></td></tr>\n",
       "<tr><td>23</td><td>ExprTuple</td><td>26, 27</td><td><a class=\"ProveItLink\" href=\"../../common/ce38c9f7ea329335c51788d553f316b592fc50770/expr.ipynb\"><img src=\"../../common/ce38c9f7ea329335c51788d553f316b592fc50770/expr.png\" style=\"display:inline;vertical-align:middle;\" /></a></td></tr>\n",
       "<tr><td>24</td><td>Literal</td><td></td><td><a class=\"ProveItLink\" href=\"../../../../../../numbers/number_sets/real_numbers/__pv_it/common/e531ffa54fd897084533764a4a14f19f590674f80/expr.ipynb\"><img src=\"../../../../../../numbers/number_sets/real_numbers/__pv_it/common/e531ffa54fd897084533764a4a14f19f590674f80/expr.png\" style=\"display:inline;vertical-align:middle;\" /></a></td></tr>\n",
       "<tr><td>25</td><td>Operation</td><td>operator:&nbsp;28<br>operands:&nbsp;29<br></td><td><a class=\"ProveItLink\" href=\"../../theorems/0adba22132b513f20df65a9b53cb0c8f00d51b650/expr.ipynb\"><img src=\"../../theorems/0adba22132b513f20df65a9b53cb0c8f00d51b650/expr.png\" style=\"display:inline;vertical-align:middle;\" /></a></td></tr>\n",
       "<tr><td>26</td><td>Literal</td><td></td><td><a class=\"ProveItLink\" href=\"../../../../../../numbers/numerals/__pv_it/common/dd4e19e8b134dfb293470ea55fe3589b0ab9f8040/expr.ipynb\"><img src=\"../../../../../../numbers/numerals/__pv_it/common/dd4e19e8b134dfb293470ea55fe3589b0ab9f8040/expr.png\" style=\"display:inline;vertical-align:middle;\" /></a></td></tr>\n",
       "<tr><td>27</td><td>Operation</td><td>operator:&nbsp;30<br>operands:&nbsp;31<br></td><td><a class=\"ProveItLink\" href=\"../../common/f186bef3123c37aced8bb4cc37639e91545fb7610/expr.ipynb\"><img src=\"../../common/f186bef3123c37aced8bb4cc37639e91545fb7610/expr.png\" style=\"display:inline;vertical-align:middle;\" /></a></td></tr>\n",
       "<tr><td>28</td><td>Literal</td><td></td><td><a class=\"ProveItLink\" href=\"../../../../../../numbers/multiplication/__pv_it/common/ed719cef37831779c16481533a4d380a2f95ab270/expr.ipynb\"><img src=\"../../../../../../numbers/multiplication/__pv_it/common/ed719cef37831779c16481533a4d380a2f95ab270/expr.png\" style=\"display:inline;vertical-align:middle;\" /></a></td></tr>\n",
       "<tr><td>29</td><td>ExprTuple</td><td>42, 32, 33, 34, 35</td><td><a class=\"ProveItLink\" href=\"../../theorems/2112f73c2594adc999ec7cf2c7506d4201e84ed50/expr.ipynb\"><img src=\"../../theorems/2112f73c2594adc999ec7cf2c7506d4201e84ed50/expr.png\" style=\"display:inline;vertical-align:middle;\" /></a></td></tr>\n",
       "<tr><td>30</td><td>Literal</td><td></td><td><a class=\"ProveItLink\" href=\"../../../../../../numbers/addition/__pv_it/common/4b7effaab3619a1c2c38fe2dee8601df8ec714590/expr.ipynb\"><img src=\"../../../../../../numbers/addition/__pv_it/common/4b7effaab3619a1c2c38fe2dee8601df8ec714590/expr.png\" style=\"display:inline;vertical-align:middle;\" /></a></td></tr>\n",
       "<tr><td>31</td><td>ExprTuple</td><td>36, 37</td><td><a class=\"ProveItLink\" href=\"../../common/398c4745317fede96ad42a1979ba271b8d4d4f240/expr.ipynb\"><img src=\"../../common/398c4745317fede96ad42a1979ba271b8d4d4f240/expr.png\" style=\"display:inline;vertical-align:middle;\" /></a></td></tr>\n",
       "<tr><td>32</td><td>Literal</td><td></td><td><a class=\"ProveItLink\" href=\"../../../../../../numbers/number_sets/real_numbers/__pv_it/common/246c206266ac5b48800e508d580f91767b24c2df0/expr.ipynb\"><img src=\"../../../../../../numbers/number_sets/real_numbers/__pv_it/common/246c206266ac5b48800e508d580f91767b24c2df0/expr.png\" style=\"display:inline;vertical-align:middle;\" /></a></td></tr>\n",
       "<tr><td>33</td><td>Literal</td><td></td><td><a class=\"ProveItLink\" href=\"../../../../../../numbers/number_sets/complex_numbers/__pv_it/common/6c9cc69d472f352324c298b2318df233e9a7e0250/expr.ipynb\"><img src=\"../../../../../../numbers/number_sets/complex_numbers/__pv_it/common/6c9cc69d472f352324c298b2318df233e9a7e0250/expr.png\" style=\"display:inline;vertical-align:middle;\" /></a></td></tr>\n",
       "<tr><td>34</td><td>Literal</td><td></td><td><a class=\"ProveItLink\" href=\"../../common/d5e43a4a06cc3c8384d7262f5d019bed24f240ea0/expr.ipynb\"><img src=\"../../common/d5e43a4a06cc3c8384d7262f5d019bed24f240ea0/expr.png\" style=\"display:inline;vertical-align:middle;\" /></a></td></tr>\n",
       "<tr><td>35</td><td>Variable</td><td></td><td><a class=\"ProveItLink\" href=\"../../../../../../__pv_it/common/63b7c64bf9ec7a04ecc396c7a1670f3f12fb59490/expr.ipynb\"><img src=\"../../../../../../__pv_it/common/63b7c64bf9ec7a04ecc396c7a1670f3f12fb59490/expr.png\" style=\"display:inline;vertical-align:middle;\" /></a></td></tr>\n",
       "<tr><td>36</td><td>Operation</td><td>operator:&nbsp;38<br>operands:&nbsp;39<br></td><td><a class=\"ProveItLink\" href=\"../../common/18332e4e627d64eadf0d81efed19ae3e9d007d510/expr.ipynb\"><img src=\"../../common/18332e4e627d64eadf0d81efed19ae3e9d007d510/expr.png\" style=\"display:inline;vertical-align:middle;\" /></a></td></tr>\n",
       "<tr><td>37</td><td>Operation</td><td>operator:&nbsp;40<br>operand:&nbsp;44<br></td><td><a class=\"ProveItLink\" href=\"../../common/bf4beda21975fe8a0a5007615b5bcc943da59bb20/expr.ipynb\"><img src=\"../../common/bf4beda21975fe8a0a5007615b5bcc943da59bb20/expr.png\" style=\"display:inline;vertical-align:middle;\" /></a></td></tr>\n",
       "<tr><td>38</td><td>Literal</td><td></td><td><a class=\"ProveItLink\" href=\"../../../../../../numbers/exponentiation/__pv_it/common/0ac37aca1e54c35c5cda09672df32d4f69f1f3020/expr.ipynb\"><img src=\"../../../../../../numbers/exponentiation/__pv_it/common/0ac37aca1e54c35c5cda09672df32d4f69f1f3020/expr.png\" style=\"display:inline;vertical-align:middle;\" /></a></td></tr>\n",
       "<tr><td>39</td><td>ExprTuple</td><td>42, 43</td><td><a class=\"ProveItLink\" href=\"../../common/e32fd834a589b0231aa39da242e9381ec87261b00/expr.ipynb\"><img src=\"../../common/e32fd834a589b0231aa39da242e9381ec87261b00/expr.png\" style=\"display:inline;vertical-align:middle;\" /></a></td></tr>\n",
       "<tr><td>40</td><td>Literal</td><td></td><td><a class=\"ProveItLink\" href=\"../../../../../../numbers/negation/__pv_it/common/221b3c4d1770ee9051b7c044c3f9ec61196fc34b0/expr.ipynb\"><img src=\"../../../../../../numbers/negation/__pv_it/common/221b3c4d1770ee9051b7c044c3f9ec61196fc34b0/expr.png\" style=\"display:inline;vertical-align:middle;\" /></a></td></tr>\n",
       "<tr><td>41</td><td>ExprTuple</td><td>44</td><td><a class=\"ProveItLink\" href=\"../../../../__pv_it/common/b9e4f0dffece176bbe2f36127440684a20e0468e0/expr.ipynb\"><img src=\"../../../../__pv_it/common/b9e4f0dffece176bbe2f36127440684a20e0468e0/expr.png\" style=\"display:inline;vertical-align:middle;\" /></a></td></tr>\n",
       "<tr><td>42</td><td>Literal</td><td></td><td><a class=\"ProveItLink\" href=\"../../../../../../numbers/numerals/__pv_it/common/af4aab8a07465db063742696e006d04670f30cf10/expr.ipynb\"><img src=\"../../../../../../numbers/numerals/__pv_it/common/af4aab8a07465db063742696e006d04670f30cf10/expr.png\" style=\"display:inline;vertical-align:middle;\" /></a></td></tr>\n",
       "<tr><td>43</td><td>Literal</td><td></td><td><a class=\"ProveItLink\" href=\"../../common/977cc67717328e22c93f8ab84e6a45e8cadce7790/expr.ipynb\"><img src=\"../../common/977cc67717328e22c93f8ab84e6a45e8cadce7790/expr.png\" style=\"display:inline;vertical-align:middle;\" /></a></td></tr>\n",
       "<tr><td>44</td><td>Literal</td><td></td><td><a class=\"ProveItLink\" href=\"../../../../../../numbers/numerals/__pv_it/common/682157d4892d216d9e5626ed533aff9b56b9506e0/expr.ipynb\"><img src=\"../../../../../../numbers/numerals/__pv_it/common/682157d4892d216d9e5626ed533aff9b56b9506e0/expr.png\" style=\"display:inline;vertical-align:middle;\" /></a></td></tr>\n",
       "</table>\n"
      ],
      "text/plain": [
       "0. (FT^{dag}_{t}, Sum_{k=0}^{2^{t} - 1} (e^{2 * pi * i * phase * k} * |k〉_{t}))\n",
       "   core type: ExprTuple\n",
       "   sub-expressions: 1, 2\n",
       "1. FT^{dag}_{t}\n",
       "   core type: Operation\n",
       "   operator: 3\n",
       "   operand: 43\n",
       "2. Sum_{k=0}^{2^{t} - 1} (e^{2 * pi * i * phase * k} * |k〉_{t})\n",
       "   core type: Operation\n",
       "   operator: 5\n",
       "   operand: 7\n",
       "3. FT^{dag}\n",
       "   core type: Literal\n",
       "   sub-expressions: \n",
       "4. (t)\n",
       "   core type: ExprTuple\n",
       "   sub-expressions: 43\n",
       "5. Sum\n",
       "   core type: Literal\n",
       "   sub-expressions: \n",
       "6. (k -> {e^{2 * pi * i * phase * k} * |k〉_{t} if k in {0 .. 2^{t} - 1}.)\n",
       "   core type: ExprTuple\n",
       "   sub-expressions: 7\n",
       "7. k -> {e^{2 * pi * i * phase * k} * |k〉_{t} if k in {0 .. 2^{t} - 1}.\n",
       "   core type: Lambda\n",
       "   parameter: 35\n",
       "   body: 9\n",
       "8. (k)\n",
       "   core type: ExprTuple\n",
       "   sub-expressions: 35\n",
       "9. {e^{2 * pi * i * phase * k} * |k〉_{t} if k in {0 .. 2^{t} - 1}.\n",
       "   core type: Conditional\n",
       "   value: 10\n",
       "   condition: 11\n",
       "10. e^{2 * pi * i * phase * k} * |k〉_{t}\n",
       "    core type: Operation\n",
       "    operator: 12\n",
       "    operands: 13\n",
       "11. k in {0 .. 2^{t} - 1}\n",
       "    core type: Operation\n",
       "    operator: 14\n",
       "    operands: 15\n",
       "12. *\n",
       "    core type: Literal\n",
       "    sub-expressions: \n",
       "13. (e^{2 * pi * i * phase * k}, |k〉_{t})\n",
       "    core type: ExprTuple\n",
       "    sub-expressions: 16, 17\n",
       "14. in\n",
       "    core type: Literal\n",
       "    sub-expressions: \n",
       "15. (k, {0 .. 2^{t} - 1})\n",
       "    core type: ExprTuple\n",
       "    sub-expressions: 35, 18\n",
       "16. e^{2 * pi * i * phase * k}\n",
       "    core type: Operation\n",
       "    operator: 38\n",
       "    operands: 19\n",
       "17. |k〉_{t}\n",
       "    core type: Operation\n",
       "    operator: 20\n",
       "    operands: 21\n",
       "18. {0 .. 2^{t} - 1}\n",
       "    core type: Operation\n",
       "    operator: 22\n",
       "    operands: 23\n",
       "19. (e, 2 * pi * i * phase * k)\n",
       "    core type: ExprTuple\n",
       "    sub-expressions: 24, 25\n",
       "20. NUM_KET\n",
       "    core type: Literal\n",
       "    sub-expressions: \n",
       "21. (k, t)\n",
       "    core type: ExprTuple\n",
       "    sub-expressions: 35, 43\n",
       "22. Interval\n",
       "    core type: Literal\n",
       "    sub-expressions: \n",
       "23. (0, 2^{t} - 1)\n",
       "    core type: ExprTuple\n",
       "    sub-expressions: 26, 27\n",
       "24. e\n",
       "    core type: Literal\n",
       "    sub-expressions: \n",
       "25. 2 * pi * i * phase * k\n",
       "    core type: Operation\n",
       "    operator: 28\n",
       "    operands: 29\n",
       "26. 0\n",
       "    core type: Literal\n",
       "    sub-expressions: \n",
       "27. 2^{t} - 1\n",
       "    core type: Operation\n",
       "    operator: 30\n",
       "    operands: 31\n",
       "28. *\n",
       "    core type: Literal\n",
       "    sub-expressions: \n",
       "29. (2, pi, i, phase, k)\n",
       "    core type: ExprTuple\n",
       "    sub-expressions: 42, 32, 33, 34, 35\n",
       "30. +\n",
       "    core type: Literal\n",
       "    sub-expressions: \n",
       "31. (2^{t}, -1)\n",
       "    core type: ExprTuple\n",
       "    sub-expressions: 36, 37\n",
       "32. pi\n",
       "    core type: Literal\n",
       "    sub-expressions: \n",
       "33. i\n",
       "    core type: Literal\n",
       "    sub-expressions: \n",
       "34. phase\n",
       "    core type: Literal\n",
       "    sub-expressions: \n",
       "35. k\n",
       "    core type: Variable\n",
       "    sub-expressions: \n",
       "36. 2^{t}\n",
       "    core type: Operation\n",
       "    operator: 38\n",
       "    operands: 39\n",
       "37. -1\n",
       "    core type: Operation\n",
       "    operator: 40\n",
       "    operand: 44\n",
       "38. Exp\n",
       "    core type: Literal\n",
       "    sub-expressions: \n",
       "39. (2, t)\n",
       "    core type: ExprTuple\n",
       "    sub-expressions: 42, 43\n",
       "40. -\n",
       "    core type: Literal\n",
       "    sub-expressions: \n",
       "41. (1)\n",
       "    core type: ExprTuple\n",
       "    sub-expressions: 44\n",
       "42. 2\n",
       "    core type: Literal\n",
       "    sub-expressions: \n",
       "43. t\n",
       "    core type: Literal\n",
       "    sub-expressions: \n",
       "44. 1\n",
       "    core type: Literal\n",
       "    sub-expressions: "
      ]
     },
     "metadata": {},
     "output_type": "display_data"
    }
   ],
   "source": [
    "# display the expression information\n",
    "stored_expr.expr_info()"
   ]
  },
  {
   "cell_type": "code",
   "execution_count": null,
   "metadata": {},
   "outputs": [],
   "source": []
  }
 ],
 "metadata": {
  "kernelspec": {
   "display_name": "Python 3",
   "language": "python",
   "name": "python3"
  }
 },
 "nbformat": 4,
 "nbformat_minor": 0
}