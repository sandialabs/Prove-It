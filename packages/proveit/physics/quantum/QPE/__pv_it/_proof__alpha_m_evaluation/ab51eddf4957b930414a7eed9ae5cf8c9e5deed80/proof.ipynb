{
 "cells": [
  {
   "cell_type": "markdown",
   "metadata": {},
   "source": [
    "Show the Proof\n",
    "========"
   ]
  },
  {
   "cell_type": "code",
   "execution_count": 1,
   "metadata": {},
   "outputs": [
    {
     "data": {
      "text/html": [
       "<table><tr><th>&nbsp;</th><th>step type</th><th>requirements</th><th>statement</th></tr>\n",
       "<tr><td><a name=\"proveit.physics.quantum.QPE._proof__alpha_m_evaluation.ab51eddf4957b930414a7eed9ae5cf8c9e5deed80_step0\">0</a></td><td>instantiation</td><td><a href=\"#proveit.physics.quantum.QPE._proof__alpha_m_evaluation.ab51eddf4957b930414a7eed9ae5cf8c9e5deed80_step1\">1</a>, <a href=\"#proveit.physics.quantum.QPE._proof__alpha_m_evaluation.ab51eddf4957b930414a7eed9ae5cf8c9e5deed80_step2\">2</a>, <a href=\"#proveit.physics.quantum.QPE._proof__alpha_m_evaluation.ab51eddf4957b930414a7eed9ae5cf8c9e5deed80_step3\">3</a></td><td><span style=\"font-size:20px;\"><a class=\"ProveItLink\" href=\"../../common/89d0188c50f606a85186776fad8a95883dbde6470/expr.ipynb\"><img src=\"../../common/89d0188c50f606a85186776fad8a95883dbde6470/expr.png\" style=\"display:inline;vertical-align:middle;\" /></a> <a class=\"ProveItLink\" href=\"proof.ipynb\" style=\"text-decoration: none\">&nbsp;&#x22A2;&nbsp;&nbsp;</a><a class=\"ProveItLink\" href=\"../033cd799473c4cdc43def70fba3942f96382d44f0/expr.ipynb\"><img src=\"../033cd799473c4cdc43def70fba3942f96382d44f0/expr.png\" style=\"display:inline;vertical-align:middle;\" /></a></span></td></tr>\n",
       "<tr><td>&nbsp;</td><td colspan=4 style=\"text-align:left\"><span style=\"font-size:20px;\"><a class=\"ProveItLink\" href=\"../f307345efa93fdd6c2df141d735449c4534792f70/expr.ipynb\"><img src=\"../f307345efa93fdd6c2df141d735449c4534792f70/expr.png\" style=\"display:inline;vertical-align:middle;\" /></a> : <a class=\"ProveItLink\" href=\"../2f899cf0692eeced1b1de7f272335388b62acfa40/expr.ipynb\"><img src=\"../2f899cf0692eeced1b1de7f272335388b62acfa40/expr.png\" style=\"display:inline;vertical-align:middle;\" /></a>, <a class=\"ProveItLink\" href=\"../../../../../../__pv_it/common/a0d9d672aa5e272d907247690c152cc2c6daafb70/expr.ipynb\"><img src=\"../../../../../../__pv_it/common/a0d9d672aa5e272d907247690c152cc2c6daafb70/expr.png\" style=\"display:inline;vertical-align:middle;\" /></a> : <a class=\"ProveItLink\" href=\"../../common/420179ba67a51d79c8f2a2e0468e9dec8441a4510/expr.ipynb\"><img src=\"../../common/420179ba67a51d79c8f2a2e0468e9dec8441a4510/expr.png\" style=\"display:inline;vertical-align:middle;\" /></a>, <a class=\"ProveItLink\" href=\"../../../../../../__pv_it/common/ff7dba4ef0bbe791ab573bf2d9c220a304399ac80/expr.ipynb\"><img src=\"../../../../../../__pv_it/common/ff7dba4ef0bbe791ab573bf2d9c220a304399ac80/expr.png\" style=\"display:inline;vertical-align:middle;\" /></a> : <a class=\"ProveItLink\" href=\"../../axioms/fd4326863d4254489508b8ca4c33430af0c280fc0/expr.ipynb\"><img src=\"../../axioms/fd4326863d4254489508b8ca4c33430af0c280fc0/expr.png\" style=\"display:inline;vertical-align:middle;\" /></a></span></td></tr><tr><td><a name=\"proveit.physics.quantum.QPE._proof__alpha_m_evaluation.ab51eddf4957b930414a7eed9ae5cf8c9e5deed80_step1\">1</a></td><td>theorem</td><td></td><td><span style=\"font-size:20px;\"> <a class=\"ProveItLink\" href=\"../../../../../../logic/equality/_theory_nbs_/proofs/sub_right_side_into/thm_proof.ipynb\" style=\"text-decoration: none\">&nbsp;&#x22A2;&nbsp;&nbsp;</a><a class=\"ProveItLink\" href=\"../../../../../../logic/equality/__pv_it/theorems/6f117f8e22b1de06fedba415f5137beb876c1d570/expr.ipynb\"><img src=\"../../../../../../logic/equality/__pv_it/theorems/6f117f8e22b1de06fedba415f5137beb876c1d570/expr.png\" style=\"display:inline;vertical-align:middle;\" /></a></span></td></tr>\n",
       "<tr><td>&nbsp;</td><td colspan=4 style-\"text-align:left\"><a class=\"ProveItLink\" href=\"../../../../../../logic/equality/_theory_nbs_/proofs/sub_right_side_into/thm_proof.ipynb\">proveit.logic.equality.sub_right_side_into</a></td></tr><tr><td><a name=\"proveit.physics.quantum.QPE._proof__alpha_m_evaluation.ab51eddf4957b930414a7eed9ae5cf8c9e5deed80_step2\">2</a></td><td>instantiation</td><td><a href=\"#proveit.physics.quantum.QPE._proof__alpha_m_evaluation.ab51eddf4957b930414a7eed9ae5cf8c9e5deed80_step4\">4</a>, <a href=\"#proveit.physics.quantum.QPE._proof__alpha_m_evaluation.ab51eddf4957b930414a7eed9ae5cf8c9e5deed80_step5\">5</a></td><td><span style=\"font-size:20px;\"><a class=\"ProveItLink\" href=\"../../common/89d0188c50f606a85186776fad8a95883dbde6470/expr.ipynb\"><img src=\"../../common/89d0188c50f606a85186776fad8a95883dbde6470/expr.png\" style=\"display:inline;vertical-align:middle;\" /></a> <a class=\"ProveItLink\" href=\"../9adccdb9d9131ba21104ad193c835362a79e02460/proof.ipynb\" style=\"text-decoration: none\">&nbsp;&#x22A2;&nbsp;&nbsp;</a><a class=\"ProveItLink\" href=\"../../axioms/7ef73f638b7eceb945bc406413dceae5b95f80cf0/expr.ipynb\"><img src=\"../../axioms/7ef73f638b7eceb945bc406413dceae5b95f80cf0/expr.png\" style=\"display:inline;vertical-align:middle;\" /></a></span></td></tr>\n",
       "<tr><td>&nbsp;</td><td colspan=4 style=\"text-align:left\"><span style=\"font-size:20px;\"><a class=\"ProveItLink\" href=\"../../../../../../__pv_it/common/674a03b9c3ca221b3aabd5636837b31528ff33830/expr.ipynb\"><img src=\"../../../../../../__pv_it/common/674a03b9c3ca221b3aabd5636837b31528ff33830/expr.png\" style=\"display:inline;vertical-align:middle;\" /></a> : <a class=\"ProveItLink\" href=\"../../../../../../__pv_it/common/674a03b9c3ca221b3aabd5636837b31528ff33830/expr.ipynb\"><img src=\"../../../../../../__pv_it/common/674a03b9c3ca221b3aabd5636837b31528ff33830/expr.png\" style=\"display:inline;vertical-align:middle;\" /></a></span></td></tr><tr><td><a name=\"proveit.physics.quantum.QPE._proof__alpha_m_evaluation.ab51eddf4957b930414a7eed9ae5cf8c9e5deed80_step3\">3</a></td><td>axiom</td><td></td><td><span style=\"font-size:20px;\"> <a class=\"ProveItLink\" href=\"../../../_theory_nbs_/axioms.ipynb#_Psi_def\" style=\"text-decoration: none\">&nbsp;&#x22A2;&nbsp;&nbsp;</a><a class=\"ProveItLink\" href=\"../../axioms/49753eae3adcb021158e8a9c66de5119b10ecbde0/expr.ipynb\"><img src=\"../../axioms/49753eae3adcb021158e8a9c66de5119b10ecbde0/expr.png\" style=\"display:inline;vertical-align:middle;\" /></a></span></td></tr>\n",
       "<tr><td>&nbsp;</td><td colspan=4 style-\"text-align:left\"><a class=\"ProveItLink\" href=\"../../../_theory_nbs_/axioms.ipynb#_Psi_def\">proveit.physics.quantum.QPE._Psi_def</a></td></tr><tr><td><a name=\"proveit.physics.quantum.QPE._proof__alpha_m_evaluation.ab51eddf4957b930414a7eed9ae5cf8c9e5deed80_step4\">4</a></td><td>axiom</td><td></td><td><span style=\"font-size:20px;\"> <a class=\"ProveItLink\" href=\"../../../_theory_nbs_/axioms.ipynb#_alpha_m_def\" style=\"text-decoration: none\">&nbsp;&#x22A2;&nbsp;&nbsp;</a><a class=\"ProveItLink\" href=\"../../axioms/c1601e95111031655bd293b12854febe6ac18c180/expr.ipynb\"><img src=\"../../axioms/c1601e95111031655bd293b12854febe6ac18c180/expr.png\" style=\"display:inline;vertical-align:middle;\" /></a></span></td></tr>\n",
       "<tr><td>&nbsp;</td><td colspan=4 style-\"text-align:left\"><a class=\"ProveItLink\" href=\"../../../_theory_nbs_/axioms.ipynb#_alpha_m_def\">proveit.physics.quantum.QPE._alpha_m_def</a></td></tr><tr><td><a name=\"proveit.physics.quantum.QPE._proof__alpha_m_evaluation.ab51eddf4957b930414a7eed9ae5cf8c9e5deed80_step5\">5</a></td><td>assumption</td><td></td><td><span style=\"font-size:20px;\"><a class=\"ProveItLink\" href=\"../../common/89d0188c50f606a85186776fad8a95883dbde6470/expr.ipynb\"><img src=\"../../common/89d0188c50f606a85186776fad8a95883dbde6470/expr.png\" style=\"display:inline;vertical-align:middle;\" /></a> <a class=\"ProveItLink\" href=\"../b7ab863991f5be8d4844bcec16416b205851e53c0/proof.ipynb\" style=\"text-decoration: none\">&nbsp;&#x22A2;&nbsp;&nbsp;</a><a class=\"ProveItLink\" href=\"../../common/89d0188c50f606a85186776fad8a95883dbde6470/expr.ipynb\"><img src=\"../../common/89d0188c50f606a85186776fad8a95883dbde6470/expr.png\" style=\"display:inline;vertical-align:middle;\" /></a></span></td></tr>\n",
       "</table>"
      ],
      "text/plain": [
       "<proveit._core_.proof._ShowProof at 0x7f212a5b7a58>"
      ]
     },
     "execution_count": 1,
     "metadata": {},
     "output_type": "execute_result"
    }
   ],
   "source": [
    "import proveit\n",
    "# Automation is not needed when only showing a stored proof:\n",
    "proveit.defaults.automation = False # This will speed things up.\n",
    "proveit.defaults.inline_pngs = False # Makes files smaller.\n",
    "%show_proof"
   ]
  },
  {
   "cell_type": "code",
   "execution_count": null,
   "metadata": {},
   "outputs": [],
   "source": []
  }
 ],
 "metadata": {
  "kernelspec": {
   "display_name": "Python 3",
   "language": "python",
   "name": "python3"
  }
 },
 "nbformat": 4,
 "nbformat_minor": 0
}