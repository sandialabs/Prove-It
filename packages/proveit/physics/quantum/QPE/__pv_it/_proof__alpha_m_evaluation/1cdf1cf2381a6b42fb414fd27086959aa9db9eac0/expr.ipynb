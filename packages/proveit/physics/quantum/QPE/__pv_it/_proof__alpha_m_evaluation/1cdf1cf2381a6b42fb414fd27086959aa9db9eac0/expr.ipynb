{
 "cells": [
  {
   "cell_type": "markdown",
   "metadata": {},
   "source": [
    "Expression of type <a class=\"ProveItLink\" href=\"../../../../../../../../doc/html/api/proveit.Conditional.html\">Conditional</a>\n",
    "=======================\n",
    "# from the theory of <a class=\"ProveItLink\" href=\"../../../_theory_nbs_/theory.ipynb\">proveit.physics.quantum.QPE</a>"
   ]
  },
  {
   "cell_type": "code",
   "execution_count": 1,
   "metadata": {},
   "outputs": [],
   "source": [
    "import proveit\n",
    "# Automation is not needed when building an expression:\n",
    "proveit.defaults.automation = False # This will speed things up.\n",
    "proveit.defaults.inline_pngs = False # Makes files smaller.\n",
    "%load_expr # Load the stored expression as 'stored_expr'\n",
    "# import Expression classes needed to build the expression\n",
    "from proveit import Conditional, k, m\n",
    "from proveit.logic import Equals, InSet\n",
    "from proveit.numbers import Exp, Mult, Neg, e, frac, i, one, pi, two\n",
    "from proveit.physics.quantum.QPE import _m_domain, _phase, _t, _two_pow_t"
   ]
  },
  {
   "cell_type": "code",
   "execution_count": 2,
   "metadata": {},
   "outputs": [
    {
     "data": {
      "text/html": [
       "<strong id=\"expr\">expr:</strong> <a class=\"ProveItLink\" href=\"expr.ipynb\"><img src=\"expr.png\" style=\"display:inline;vertical-align:middle;\" /></a><br>"
      ],
      "text/plain": [
       "<IPython.core.display.HTML object>"
      ]
     },
     "metadata": {},
     "output_type": "display_data"
    }
   ],
   "source": [
    "# build up the expression from sub-expressions\n",
    "sub_expr1 = Exp(e, Mult(two, pi, i, _phase, k))\n",
    "sub_expr2 = frac(one, Exp(two, frac(_t, two)))\n",
    "sub_expr3 = Exp(e, Neg(frac(Mult(two, pi, i, k, m), _two_pow_t)))\n",
    "expr = Conditional(Equals(Mult(sub_expr1, sub_expr2, sub_expr3), Mult(sub_expr2, Mult(sub_expr1, sub_expr3))), InSet(k, _m_domain))"
   ]
  },
  {
   "cell_type": "code",
   "execution_count": 3,
   "metadata": {},
   "outputs": [
    {
     "name": "stdout",
     "output_type": "stream",
     "text": [
      "Passed sanity check: expr matches stored_expr\n"
     ]
    }
   ],
   "source": [
    "# check that the built expression is the same as the stored expression\n",
    "assert expr == stored_expr\n",
    "assert expr._style_id == stored_expr._style_id\n",
    "print(\"Passed sanity check: expr matches stored_expr\")"
   ]
  },
  {
   "cell_type": "code",
   "execution_count": 4,
   "metadata": {},
   "outputs": [
    {
     "name": "stdout",
     "output_type": "stream",
     "text": [
      "\\left\\{\\left(\\mathsf{e}^{2 \\cdot \\pi \\cdot \\mathsf{i} \\cdot \\varphi \\cdot k} \\cdot \\frac{1}{2^{\\frac{t}{2}}} \\cdot \\mathsf{e}^{-\\frac{2 \\cdot \\pi \\cdot \\mathsf{i} \\cdot k \\cdot m}{2^{t}}}\\right) = \\left(\\frac{1}{2^{\\frac{t}{2}}} \\cdot \\left(\\mathsf{e}^{2 \\cdot \\pi \\cdot \\mathsf{i} \\cdot \\varphi \\cdot k} \\cdot \\mathsf{e}^{-\\frac{2 \\cdot \\pi \\cdot \\mathsf{i} \\cdot k \\cdot m}{2^{t}}}\\right)\\right) \\textrm{ if } k \\in \\{0~\\ldotp \\ldotp~2^{t} - 1\\}\\right..\n"
     ]
    }
   ],
   "source": [
    "# Show the LaTeX representation of the expression for convenience if you need it.\n",
    "print(stored_expr.latex())"
   ]
  },
  {
   "cell_type": "code",
   "execution_count": 5,
   "metadata": {},
   "outputs": [
    {
     "data": {
      "text/html": [
       "<table>\n",
       "<tr><th>name</th><th>description</th><th>default</th><th>current value</th><th>related methods</th></tr><tr><td>condition_delimiter</td><td>'comma' or 'and'</td><td>comma</td><td>comma</td><td>('with_comma_delimiter', 'with_conjunction_delimiter')</td></tr>\n",
       "</table>\n"
      ],
      "text/plain": [
       "style name: condition_delimiter\n",
       "description: 'comma' or 'and'\n",
       "default: comma\n",
       "current value: comma\n",
       "related methods: ('with_comma_delimiter', 'with_conjunction_delimiter')"
      ]
     },
     "metadata": {},
     "output_type": "display_data"
    }
   ],
   "source": [
    "stored_expr.style_options()"
   ]
  },
  {
   "cell_type": "code",
   "execution_count": 6,
   "metadata": {},
   "outputs": [
    {
     "data": {
      "text/html": [
       "<table><tr><th>&nbsp;</th><th>core type</th><th>sub-expressions</th><th>expression</th></tr>\n",
       "<tr><td>0</td><td>Conditional</td><td>value:&nbsp;1<br>condition:&nbsp;2<br></td><td><a class=\"ProveItLink\" href=\"expr.ipynb\"><img src=\"expr.png\" style=\"display:inline;vertical-align:middle;\" /></a></td></tr>\n",
       "<tr><td>1</td><td>Operation</td><td>operator:&nbsp;3<br>operands:&nbsp;4<br></td><td><a class=\"ProveItLink\" href=\"../8469aecebd16a3d49e7e48682bb32e26eca5086d0/expr.ipynb\"><img src=\"../8469aecebd16a3d49e7e48682bb32e26eca5086d0/expr.png\" style=\"display:inline;vertical-align:middle;\" /></a></td></tr>\n",
       "<tr><td>2</td><td>Operation</td><td>operator:&nbsp;5<br>operands:&nbsp;6<br></td><td><a class=\"ProveItLink\" href=\"../../theorems/df30aba3a535ce7eb8609d1347296ba1cd1680060/expr.ipynb\"><img src=\"../../theorems/df30aba3a535ce7eb8609d1347296ba1cd1680060/expr.png\" style=\"display:inline;vertical-align:middle;\" /></a></td></tr>\n",
       "<tr><td>3</td><td>Literal</td><td></td><td><a class=\"ProveItLink\" href=\"../../../../../../logic/equality/__pv_it/common/fb96dc12b2aa8801dda64d0132b396c63d1502bb0/expr.ipynb\"><img src=\"../../../../../../logic/equality/__pv_it/common/fb96dc12b2aa8801dda64d0132b396c63d1502bb0/expr.png\" style=\"display:inline;vertical-align:middle;\" /></a></td></tr>\n",
       "<tr><td>4</td><td>ExprTuple</td><td>7, 8</td><td><a class=\"ProveItLink\" href=\"../2c3381eb1454cbf0b7f4d9d0dc2035e6c7edcea30/expr.ipynb\"><img src=\"../2c3381eb1454cbf0b7f4d9d0dc2035e6c7edcea30/expr.png\" style=\"display:inline;vertical-align:middle;\" /></a></td></tr>\n",
       "<tr><td>5</td><td>Literal</td><td></td><td><a class=\"ProveItLink\" href=\"../../../../../../logic/sets/membership/__pv_it/common/477487d8796864d23d5810f83761435f25167f690/expr.ipynb\"><img src=\"../../../../../../logic/sets/membership/__pv_it/common/477487d8796864d23d5810f83761435f25167f690/expr.png\" style=\"display:inline;vertical-align:middle;\" /></a></td></tr>\n",
       "<tr><td>6</td><td>ExprTuple</td><td>51, 9</td><td><a class=\"ProveItLink\" href=\"../../theorems/674449efd4d0656228eb1b9c36ee4683054379d70/expr.ipynb\"><img src=\"../../theorems/674449efd4d0656228eb1b9c36ee4683054379d70/expr.png\" style=\"display:inline;vertical-align:middle;\" /></a></td></tr>\n",
       "<tr><td>7</td><td>Operation</td><td>operator:&nbsp;45<br>operands:&nbsp;10<br></td><td><a class=\"ProveItLink\" href=\"../b303ebee530e3245cbc8ccc672733ce3755e10da0/expr.ipynb\"><img src=\"../b303ebee530e3245cbc8ccc672733ce3755e10da0/expr.png\" style=\"display:inline;vertical-align:middle;\" /></a></td></tr>\n",
       "<tr><td>8</td><td>Operation</td><td>operator:&nbsp;45<br>operands:&nbsp;11<br></td><td><a class=\"ProveItLink\" href=\"../3fd353e9691bd3c6c3c2689fe5e7c6b60f8356110/expr.ipynb\"><img src=\"../3fd353e9691bd3c6c3c2689fe5e7c6b60f8356110/expr.png\" style=\"display:inline;vertical-align:middle;\" /></a></td></tr>\n",
       "<tr><td>9</td><td>Operation</td><td>operator:&nbsp;12<br>operands:&nbsp;13<br></td><td><a class=\"ProveItLink\" href=\"../../common/0107914a254b4cba063b4849ea3d536e6979ec8c0/expr.ipynb\"><img src=\"../../common/0107914a254b4cba063b4849ea3d536e6979ec8c0/expr.png\" style=\"display:inline;vertical-align:middle;\" /></a></td></tr>\n",
       "<tr><td>10</td><td>ExprTuple</td><td>23, 14, 24</td><td><a class=\"ProveItLink\" href=\"../53a9b0ad5d2d4ecb1167161dee7178035abee3bd0/expr.ipynb\"><img src=\"../53a9b0ad5d2d4ecb1167161dee7178035abee3bd0/expr.png\" style=\"display:inline;vertical-align:middle;\" /></a></td></tr>\n",
       "<tr><td>11</td><td>ExprTuple</td><td>14, 15</td><td><a class=\"ProveItLink\" href=\"../93df50a0abf07ce450aff6cb9b881bb37e2ff7ac0/expr.ipynb\"><img src=\"../93df50a0abf07ce450aff6cb9b881bb37e2ff7ac0/expr.png\" style=\"display:inline;vertical-align:middle;\" /></a></td></tr>\n",
       "<tr><td>12</td><td>Literal</td><td></td><td><a class=\"ProveItLink\" href=\"../../../../../../numbers/number_sets/integers/__pv_it/common/92f3a0a77e3c3ea8e4a5c8674edadc54e4f57d550/expr.ipynb\"><img src=\"../../../../../../numbers/number_sets/integers/__pv_it/common/92f3a0a77e3c3ea8e4a5c8674edadc54e4f57d550/expr.png\" style=\"display:inline;vertical-align:middle;\" /></a></td></tr>\n",
       "<tr><td>13</td><td>ExprTuple</td><td>16, 17</td><td><a class=\"ProveItLink\" href=\"../../common/ce38c9f7ea329335c51788d553f316b592fc50770/expr.ipynb\"><img src=\"../../common/ce38c9f7ea329335c51788d553f316b592fc50770/expr.png\" style=\"display:inline;vertical-align:middle;\" /></a></td></tr>\n",
       "<tr><td>14</td><td>Operation</td><td>operator:&nbsp;41<br>operands:&nbsp;18<br></td><td><a class=\"ProveItLink\" href=\"../ccd7d4513d46801d00c037e7baf45aec8b2653590/expr.ipynb\"><img src=\"../ccd7d4513d46801d00c037e7baf45aec8b2653590/expr.png\" style=\"display:inline;vertical-align:middle;\" /></a></td></tr>\n",
       "<tr><td>15</td><td>Operation</td><td>operator:&nbsp;45<br>operands:&nbsp;19<br></td><td><a class=\"ProveItLink\" href=\"../3bbaa600d65183ee20b52548eba4ae240386cde20/expr.ipynb\"><img src=\"../3bbaa600d65183ee20b52548eba4ae240386cde20/expr.png\" style=\"display:inline;vertical-align:middle;\" /></a></td></tr>\n",
       "<tr><td>16</td><td>Literal</td><td></td><td><a class=\"ProveItLink\" href=\"../../../../../../numbers/numerals/__pv_it/common/dd4e19e8b134dfb293470ea55fe3589b0ab9f8040/expr.ipynb\"><img src=\"../../../../../../numbers/numerals/__pv_it/common/dd4e19e8b134dfb293470ea55fe3589b0ab9f8040/expr.png\" style=\"display:inline;vertical-align:middle;\" /></a></td></tr>\n",
       "<tr><td>17</td><td>Operation</td><td>operator:&nbsp;20<br>operands:&nbsp;21<br></td><td><a class=\"ProveItLink\" href=\"../../common/f186bef3123c37aced8bb4cc37639e91545fb7610/expr.ipynb\"><img src=\"../../common/f186bef3123c37aced8bb4cc37639e91545fb7610/expr.png\" style=\"display:inline;vertical-align:middle;\" /></a></td></tr>\n",
       "<tr><td>18</td><td>ExprTuple</td><td>34, 22</td><td><a class=\"ProveItLink\" href=\"../aafc2c2a3741fa5982057c91053105e1170393a60/expr.ipynb\"><img src=\"../aafc2c2a3741fa5982057c91053105e1170393a60/expr.png\" style=\"display:inline;vertical-align:middle;\" /></a></td></tr>\n",
       "<tr><td>19</td><td>ExprTuple</td><td>23, 24</td><td><a class=\"ProveItLink\" href=\"../541588a4ce7a20732d813ec2c0b8f5f258c797f40/expr.ipynb\"><img src=\"../541588a4ce7a20732d813ec2c0b8f5f258c797f40/expr.png\" style=\"display:inline;vertical-align:middle;\" /></a></td></tr>\n",
       "<tr><td>20</td><td>Literal</td><td></td><td><a class=\"ProveItLink\" href=\"../../../../../../numbers/addition/__pv_it/common/4b7effaab3619a1c2c38fe2dee8601df8ec714590/expr.ipynb\"><img src=\"../../../../../../numbers/addition/__pv_it/common/4b7effaab3619a1c2c38fe2dee8601df8ec714590/expr.png\" style=\"display:inline;vertical-align:middle;\" /></a></td></tr>\n",
       "<tr><td>21</td><td>ExprTuple</td><td>44, 25</td><td><a class=\"ProveItLink\" href=\"../../common/398c4745317fede96ad42a1979ba271b8d4d4f240/expr.ipynb\"><img src=\"../../common/398c4745317fede96ad42a1979ba271b8d4d4f240/expr.png\" style=\"display:inline;vertical-align:middle;\" /></a></td></tr>\n",
       "<tr><td>22</td><td>Operation</td><td>operator:&nbsp;47<br>operands:&nbsp;26<br></td><td><a class=\"ProveItLink\" href=\"../c1b4bb7fd8746ec4ac5d5b28a3331f8ecc13f5fd0/expr.ipynb\"><img src=\"../c1b4bb7fd8746ec4ac5d5b28a3331f8ecc13f5fd0/expr.png\" style=\"display:inline;vertical-align:middle;\" /></a></td></tr>\n",
       "<tr><td>23</td><td>Operation</td><td>operator:&nbsp;47<br>operands:&nbsp;27<br></td><td><a class=\"ProveItLink\" href=\"../../theorems/2c1a535bf143a3432d0b7b4c0c044d1032b311ec0/expr.ipynb\"><img src=\"../../theorems/2c1a535bf143a3432d0b7b4c0c044d1032b311ec0/expr.png\" style=\"display:inline;vertical-align:middle;\" /></a></td></tr>\n",
       "<tr><td>24</td><td>Operation</td><td>operator:&nbsp;47<br>operands:&nbsp;28<br></td><td><a class=\"ProveItLink\" href=\"../../theorems/82b5afaedf1e87f63473af271add08b9eb0128d40/expr.ipynb\"><img src=\"../../theorems/82b5afaedf1e87f63473af271add08b9eb0128d40/expr.png\" style=\"display:inline;vertical-align:middle;\" /></a></td></tr>\n",
       "<tr><td>25</td><td>Operation</td><td>operator:&nbsp;37<br>operand:&nbsp;34<br></td><td><a class=\"ProveItLink\" href=\"../../common/bf4beda21975fe8a0a5007615b5bcc943da59bb20/expr.ipynb\"><img src=\"../../common/bf4beda21975fe8a0a5007615b5bcc943da59bb20/expr.png\" style=\"display:inline;vertical-align:middle;\" /></a></td></tr>\n",
       "<tr><td>26</td><td>ExprTuple</td><td>53, 30</td><td><a class=\"ProveItLink\" href=\"../25c8014330edf8f8df09c44e2d25cf7a15a39a7c0/expr.ipynb\"><img src=\"../25c8014330edf8f8df09c44e2d25cf7a15a39a7c0/expr.png\" style=\"display:inline;vertical-align:middle;\" /></a></td></tr>\n",
       "<tr><td>27</td><td>ExprTuple</td><td>32, 31</td><td><a class=\"ProveItLink\" href=\"../../theorems/7fc65e30a01a657038c276fe12cbc943da454c6c0/expr.ipynb\"><img src=\"../../theorems/7fc65e30a01a657038c276fe12cbc943da454c6c0/expr.png\" style=\"display:inline;vertical-align:middle;\" /></a></td></tr>\n",
       "<tr><td>28</td><td>ExprTuple</td><td>32, 33</td><td><a class=\"ProveItLink\" href=\"../../theorems/429a2f923cfd8475765eaf354a145d3014ffa6b80/expr.ipynb\"><img src=\"../../theorems/429a2f923cfd8475765eaf354a145d3014ffa6b80/expr.png\" style=\"display:inline;vertical-align:middle;\" /></a></td></tr>\n",
       "<tr><td>29</td><td>ExprTuple</td><td>34</td><td><a class=\"ProveItLink\" href=\"../../common/b9e4f0dffece176bbe2f36127440684a20e0468e0/expr.ipynb\"><img src=\"../../common/b9e4f0dffece176bbe2f36127440684a20e0468e0/expr.png\" style=\"display:inline;vertical-align:middle;\" /></a></td></tr>\n",
       "<tr><td>30</td><td>Operation</td><td>operator:&nbsp;41<br>operands:&nbsp;35<br></td><td><a class=\"ProveItLink\" href=\"../939840f93589d60645b8fe3422357b30355b9d120/expr.ipynb\"><img src=\"../939840f93589d60645b8fe3422357b30355b9d120/expr.png\" style=\"display:inline;vertical-align:middle;\" /></a></td></tr>\n",
       "<tr><td>31</td><td>Operation</td><td>operator:&nbsp;45<br>operands:&nbsp;36<br></td><td><a class=\"ProveItLink\" href=\"../../theorems/0adba22132b513f20df65a9b53cb0c8f00d51b650/expr.ipynb\"><img src=\"../../theorems/0adba22132b513f20df65a9b53cb0c8f00d51b650/expr.png\" style=\"display:inline;vertical-align:middle;\" /></a></td></tr>\n",
       "<tr><td>32</td><td>Literal</td><td></td><td><a class=\"ProveItLink\" href=\"../../../../../../numbers/number_sets/real_numbers/__pv_it/common/e531ffa54fd897084533764a4a14f19f590674f80/expr.ipynb\"><img src=\"../../../../../../numbers/number_sets/real_numbers/__pv_it/common/e531ffa54fd897084533764a4a14f19f590674f80/expr.png\" style=\"display:inline;vertical-align:middle;\" /></a></td></tr>\n",
       "<tr><td>33</td><td>Operation</td><td>operator:&nbsp;37<br>operand:&nbsp;40<br></td><td><a class=\"ProveItLink\" href=\"../../theorems/6702b783ffbf7e7ccee09d3136fc2f4171dff7320/expr.ipynb\"><img src=\"../../theorems/6702b783ffbf7e7ccee09d3136fc2f4171dff7320/expr.png\" style=\"display:inline;vertical-align:middle;\" /></a></td></tr>\n",
       "<tr><td>34</td><td>Literal</td><td></td><td><a class=\"ProveItLink\" href=\"../../../../../../numbers/numerals/__pv_it/common/682157d4892d216d9e5626ed533aff9b56b9506e0/expr.ipynb\"><img src=\"../../../../../../numbers/numerals/__pv_it/common/682157d4892d216d9e5626ed533aff9b56b9506e0/expr.png\" style=\"display:inline;vertical-align:middle;\" /></a></td></tr>\n",
       "<tr><td>35</td><td>ExprTuple</td><td>54, 53</td><td><a class=\"ProveItLink\" href=\"../8417fe5fbc5f142e5ce6cdfd06b57a3b64d12db30/expr.ipynb\"><img src=\"../8417fe5fbc5f142e5ce6cdfd06b57a3b64d12db30/expr.png\" style=\"display:inline;vertical-align:middle;\" /></a></td></tr>\n",
       "<tr><td>36</td><td>ExprTuple</td><td>53, 49, 50, 39, 51</td><td><a class=\"ProveItLink\" href=\"../../theorems/2112f73c2594adc999ec7cf2c7506d4201e84ed50/expr.ipynb\"><img src=\"../../theorems/2112f73c2594adc999ec7cf2c7506d4201e84ed50/expr.png\" style=\"display:inline;vertical-align:middle;\" /></a></td></tr>\n",
       "<tr><td>37</td><td>Literal</td><td></td><td><a class=\"ProveItLink\" href=\"../../../../../../numbers/negation/__pv_it/common/221b3c4d1770ee9051b7c044c3f9ec61196fc34b0/expr.ipynb\"><img src=\"../../../../../../numbers/negation/__pv_it/common/221b3c4d1770ee9051b7c044c3f9ec61196fc34b0/expr.png\" style=\"display:inline;vertical-align:middle;\" /></a></td></tr>\n",
       "<tr><td>38</td><td>ExprTuple</td><td>40</td><td><a class=\"ProveItLink\" href=\"../../theorems/fbc71b19e17990e1e32c5846a94411a12066be800/expr.ipynb\"><img src=\"../../theorems/fbc71b19e17990e1e32c5846a94411a12066be800/expr.png\" style=\"display:inline;vertical-align:middle;\" /></a></td></tr>\n",
       "<tr><td>39</td><td>Literal</td><td></td><td><a class=\"ProveItLink\" href=\"../../common/d5e43a4a06cc3c8384d7262f5d019bed24f240ea0/expr.ipynb\"><img src=\"../../common/d5e43a4a06cc3c8384d7262f5d019bed24f240ea0/expr.png\" style=\"display:inline;vertical-align:middle;\" /></a></td></tr>\n",
       "<tr><td>40</td><td>Operation</td><td>operator:&nbsp;41<br>operands:&nbsp;42<br></td><td><a class=\"ProveItLink\" href=\"../../theorems/1f2392197b2541808fd63efecd132c87096ba5970/expr.ipynb\"><img src=\"../../theorems/1f2392197b2541808fd63efecd132c87096ba5970/expr.png\" style=\"display:inline;vertical-align:middle;\" /></a></td></tr>\n",
       "<tr><td>41</td><td>Literal</td><td></td><td><a class=\"ProveItLink\" href=\"../../../../../../numbers/division/__pv_it/common/a2a633e1e3c749fb1f2692466b287b6348c5de840/expr.ipynb\"><img src=\"../../../../../../numbers/division/__pv_it/common/a2a633e1e3c749fb1f2692466b287b6348c5de840/expr.png\" style=\"display:inline;vertical-align:middle;\" /></a></td></tr>\n",
       "<tr><td>42</td><td>ExprTuple</td><td>43, 44</td><td><a class=\"ProveItLink\" href=\"../../theorems/c93ded307acdac749267e7ee7fbe2dd382cce3b40/expr.ipynb\"><img src=\"../../theorems/c93ded307acdac749267e7ee7fbe2dd382cce3b40/expr.png\" style=\"display:inline;vertical-align:middle;\" /></a></td></tr>\n",
       "<tr><td>43</td><td>Operation</td><td>operator:&nbsp;45<br>operands:&nbsp;46<br></td><td><a class=\"ProveItLink\" href=\"../../theorems/b09d8971c8e5539c58e144c9499b396b1a881d810/expr.ipynb\"><img src=\"../../theorems/b09d8971c8e5539c58e144c9499b396b1a881d810/expr.png\" style=\"display:inline;vertical-align:middle;\" /></a></td></tr>\n",
       "<tr><td>44</td><td>Operation</td><td>operator:&nbsp;47<br>operands:&nbsp;48<br></td><td><a class=\"ProveItLink\" href=\"../../common/18332e4e627d64eadf0d81efed19ae3e9d007d510/expr.ipynb\"><img src=\"../../common/18332e4e627d64eadf0d81efed19ae3e9d007d510/expr.png\" style=\"display:inline;vertical-align:middle;\" /></a></td></tr>\n",
       "<tr><td>45</td><td>Literal</td><td></td><td><a class=\"ProveItLink\" href=\"../../../../../../numbers/multiplication/__pv_it/common/ed719cef37831779c16481533a4d380a2f95ab270/expr.ipynb\"><img src=\"../../../../../../numbers/multiplication/__pv_it/common/ed719cef37831779c16481533a4d380a2f95ab270/expr.png\" style=\"display:inline;vertical-align:middle;\" /></a></td></tr>\n",
       "<tr><td>46</td><td>ExprTuple</td><td>53, 49, 50, 51, 52</td><td><a class=\"ProveItLink\" href=\"../../theorems/bc26ef173c215c9fb2fa8841dc736495d5d7bce80/expr.ipynb\"><img src=\"../../theorems/bc26ef173c215c9fb2fa8841dc736495d5d7bce80/expr.png\" style=\"display:inline;vertical-align:middle;\" /></a></td></tr>\n",
       "<tr><td>47</td><td>Literal</td><td></td><td><a class=\"ProveItLink\" href=\"../../../../../../numbers/exponentiation/__pv_it/common/0ac37aca1e54c35c5cda09672df32d4f69f1f3020/expr.ipynb\"><img src=\"../../../../../../numbers/exponentiation/__pv_it/common/0ac37aca1e54c35c5cda09672df32d4f69f1f3020/expr.png\" style=\"display:inline;vertical-align:middle;\" /></a></td></tr>\n",
       "<tr><td>48</td><td>ExprTuple</td><td>53, 54</td><td><a class=\"ProveItLink\" href=\"../../common/e32fd834a589b0231aa39da242e9381ec87261b00/expr.ipynb\"><img src=\"../../common/e32fd834a589b0231aa39da242e9381ec87261b00/expr.png\" style=\"display:inline;vertical-align:middle;\" /></a></td></tr>\n",
       "<tr><td>49</td><td>Literal</td><td></td><td><a class=\"ProveItLink\" href=\"../../../../../../numbers/number_sets/real_numbers/__pv_it/common/246c206266ac5b48800e508d580f91767b24c2df0/expr.ipynb\"><img src=\"../../../../../../numbers/number_sets/real_numbers/__pv_it/common/246c206266ac5b48800e508d580f91767b24c2df0/expr.png\" style=\"display:inline;vertical-align:middle;\" /></a></td></tr>\n",
       "<tr><td>50</td><td>Literal</td><td></td><td><a class=\"ProveItLink\" href=\"../../../../../../numbers/number_sets/complex_numbers/__pv_it/common/6c9cc69d472f352324c298b2318df233e9a7e0250/expr.ipynb\"><img src=\"../../../../../../numbers/number_sets/complex_numbers/__pv_it/common/6c9cc69d472f352324c298b2318df233e9a7e0250/expr.png\" style=\"display:inline;vertical-align:middle;\" /></a></td></tr>\n",
       "<tr><td>51</td><td>Variable</td><td></td><td><a class=\"ProveItLink\" href=\"../../../../../../__pv_it/common/63b7c64bf9ec7a04ecc396c7a1670f3f12fb59490/expr.ipynb\"><img src=\"../../../../../../__pv_it/common/63b7c64bf9ec7a04ecc396c7a1670f3f12fb59490/expr.png\" style=\"display:inline;vertical-align:middle;\" /></a></td></tr>\n",
       "<tr><td>52</td><td>Variable</td><td></td><td><a class=\"ProveItLink\" href=\"../../../../../../__pv_it/common/674a03b9c3ca221b3aabd5636837b31528ff33830/expr.ipynb\"><img src=\"../../../../../../__pv_it/common/674a03b9c3ca221b3aabd5636837b31528ff33830/expr.png\" style=\"display:inline;vertical-align:middle;\" /></a></td></tr>\n",
       "<tr><td>53</td><td>Literal</td><td></td><td><a class=\"ProveItLink\" href=\"../../../../../../numbers/numerals/__pv_it/common/af4aab8a07465db063742696e006d04670f30cf10/expr.ipynb\"><img src=\"../../../../../../numbers/numerals/__pv_it/common/af4aab8a07465db063742696e006d04670f30cf10/expr.png\" style=\"display:inline;vertical-align:middle;\" /></a></td></tr>\n",
       "<tr><td>54</td><td>Literal</td><td></td><td><a class=\"ProveItLink\" href=\"../../common/977cc67717328e22c93f8ab84e6a45e8cadce7790/expr.ipynb\"><img src=\"../../common/977cc67717328e22c93f8ab84e6a45e8cadce7790/expr.png\" style=\"display:inline;vertical-align:middle;\" /></a></td></tr>\n",
       "</table>\n"
      ],
      "text/plain": [
       "0. {(e^{2 * pi * i * phase * k} * (1 / 2^{t / 2}) * e^{-((2 * pi * i * k * m) / 2^{t})}) = ((1 / 2^{t / 2}) * (e^{2 * pi * i * phase * k} * e^{-((2 * pi * i * k * m) / 2^{t})})) if k in {0 .. 2^{t} - 1}.\n",
       "   core type: Conditional\n",
       "   value: 1\n",
       "   condition: 2\n",
       "1. (e^{2 * pi * i * phase * k} * (1 / 2^{t / 2}) * e^{-((2 * pi * i * k * m) / 2^{t})}) = ((1 / 2^{t / 2}) * (e^{2 * pi * i * phase * k} * e^{-((2 * pi * i * k * m) / 2^{t})}))\n",
       "   core type: Operation\n",
       "   operator: 3\n",
       "   operands: 4\n",
       "2. k in {0 .. 2^{t} - 1}\n",
       "   core type: Operation\n",
       "   operator: 5\n",
       "   operands: 6\n",
       "3. =\n",
       "   core type: Literal\n",
       "   sub-expressions: \n",
       "4. (e^{2 * pi * i * phase * k} * (1 / 2^{t / 2}) * e^{-((2 * pi * i * k * m) / 2^{t})}, (1 / 2^{t / 2}) * (e^{2 * pi * i * phase * k} * e^{-((2 * pi * i * k * m) / 2^{t})}))\n",
       "   core type: ExprTuple\n",
       "   sub-expressions: 7, 8\n",
       "5. in\n",
       "   core type: Literal\n",
       "   sub-expressions: \n",
       "6. (k, {0 .. 2^{t} - 1})\n",
       "   core type: ExprTuple\n",
       "   sub-expressions: 51, 9\n",
       "7. e^{2 * pi * i * phase * k} * (1 / 2^{t / 2}) * e^{-((2 * pi * i * k * m) / 2^{t})}\n",
       "   core type: Operation\n",
       "   operator: 45\n",
       "   operands: 10\n",
       "8. (1 / 2^{t / 2}) * (e^{2 * pi * i * phase * k} * e^{-((2 * pi * i * k * m) / 2^{t})})\n",
       "   core type: Operation\n",
       "   operator: 45\n",
       "   operands: 11\n",
       "9. {0 .. 2^{t} - 1}\n",
       "   core type: Operation\n",
       "   operator: 12\n",
       "   operands: 13\n",
       "10. (e^{2 * pi * i * phase * k}, 1 / 2^{t / 2}, e^{-((2 * pi * i * k * m) / 2^{t})})\n",
       "    core type: ExprTuple\n",
       "    sub-expressions: 23, 14, 24\n",
       "11. (1 / 2^{t / 2}, e^{2 * pi * i * phase * k} * e^{-((2 * pi * i * k * m) / 2^{t})})\n",
       "    core type: ExprTuple\n",
       "    sub-expressions: 14, 15\n",
       "12. Interval\n",
       "    core type: Literal\n",
       "    sub-expressions: \n",
       "13. (0, 2^{t} - 1)\n",
       "    core type: ExprTuple\n",
       "    sub-expressions: 16, 17\n",
       "14. 1 / 2^{t / 2}\n",
       "    core type: Operation\n",
       "    operator: 41\n",
       "    operands: 18\n",
       "15. e^{2 * pi * i * phase * k} * e^{-((2 * pi * i * k * m) / 2^{t})}\n",
       "    core type: Operation\n",
       "    operator: 45\n",
       "    operands: 19\n",
       "16. 0\n",
       "    core type: Literal\n",
       "    sub-expressions: \n",
       "17. 2^{t} - 1\n",
       "    core type: Operation\n",
       "    operator: 20\n",
       "    operands: 21\n",
       "18. (1, 2^{t / 2})\n",
       "    core type: ExprTuple\n",
       "    sub-expressions: 34, 22\n",
       "19. (e^{2 * pi * i * phase * k}, e^{-((2 * pi * i * k * m) / 2^{t})})\n",
       "    core type: ExprTuple\n",
       "    sub-expressions: 23, 24\n",
       "20. +\n",
       "    core type: Literal\n",
       "    sub-expressions: \n",
       "21. (2^{t}, -1)\n",
       "    core type: ExprTuple\n",
       "    sub-expressions: 44, 25\n",
       "22. 2^{t / 2}\n",
       "    core type: Operation\n",
       "    operator: 47\n",
       "    operands: 26\n",
       "23. e^{2 * pi * i * phase * k}\n",
       "    core type: Operation\n",
       "    operator: 47\n",
       "    operands: 27\n",
       "24. e^{-((2 * pi * i * k * m) / 2^{t})}\n",
       "    core type: Operation\n",
       "    operator: 47\n",
       "    operands: 28\n",
       "25. -1\n",
       "    core type: Operation\n",
       "    operator: 37\n",
       "    operand: 34\n",
       "26. (2, t / 2)\n",
       "    core type: ExprTuple\n",
       "    sub-expressions: 53, 30\n",
       "27. (e, 2 * pi * i * phase * k)\n",
       "    core type: ExprTuple\n",
       "    sub-expressions: 32, 31\n",
       "28. (e, -((2 * pi * i * k * m) / 2^{t}))\n",
       "    core type: ExprTuple\n",
       "    sub-expressions: 32, 33\n",
       "29. (1)\n",
       "    core type: ExprTuple\n",
       "    sub-expressions: 34\n",
       "30. t / 2\n",
       "    core type: Operation\n",
       "    operator: 41\n",
       "    operands: 35\n",
       "31. 2 * pi * i * phase * k\n",
       "    core type: Operation\n",
       "    operator: 45\n",
       "    operands: 36\n",
       "32. e\n",
       "    core type: Literal\n",
       "    sub-expressions: \n",
       "33. -((2 * pi * i * k * m) / 2^{t})\n",
       "    core type: Operation\n",
       "    operator: 37\n",
       "    operand: 40\n",
       "34. 1\n",
       "    core type: Literal\n",
       "    sub-expressions: \n",
       "35. (t, 2)\n",
       "    core type: ExprTuple\n",
       "    sub-expressions: 54, 53\n",
       "36. (2, pi, i, phase, k)\n",
       "    core type: ExprTuple\n",
       "    sub-expressions: 53, 49, 50, 39, 51\n",
       "37. -\n",
       "    core type: Literal\n",
       "    sub-expressions: \n",
       "38. ((2 * pi * i * k * m) / 2^{t})\n",
       "    core type: ExprTuple\n",
       "    sub-expressions: 40\n",
       "39. phase\n",
       "    core type: Literal\n",
       "    sub-expressions: \n",
       "40. (2 * pi * i * k * m) / 2^{t}\n",
       "    core type: Operation\n",
       "    operator: 41\n",
       "    operands: 42\n",
       "41. /\n",
       "    core type: Literal\n",
       "    sub-expressions: \n",
       "42. (2 * pi * i * k * m, 2^{t})\n",
       "    core type: ExprTuple\n",
       "    sub-expressions: 43, 44\n",
       "43. 2 * pi * i * k * m\n",
       "    core type: Operation\n",
       "    operator: 45\n",
       "    operands: 46\n",
       "44. 2^{t}\n",
       "    core type: Operation\n",
       "    operator: 47\n",
       "    operands: 48\n",
       "45. *\n",
       "    core type: Literal\n",
       "    sub-expressions: \n",
       "46. (2, pi, i, k, m)\n",
       "    core type: ExprTuple\n",
       "    sub-expressions: 53, 49, 50, 51, 52\n",
       "47. Exp\n",
       "    core type: Literal\n",
       "    sub-expressions: \n",
       "48. (2, t)\n",
       "    core type: ExprTuple\n",
       "    sub-expressions: 53, 54\n",
       "49. pi\n",
       "    core type: Literal\n",
       "    sub-expressions: \n",
       "50. i\n",
       "    core type: Literal\n",
       "    sub-expressions: \n",
       "51. k\n",
       "    core type: Variable\n",
       "    sub-expressions: \n",
       "52. m\n",
       "    core type: Variable\n",
       "    sub-expressions: \n",
       "53. 2\n",
       "    core type: Literal\n",
       "    sub-expressions: \n",
       "54. t\n",
       "    core type: Literal\n",
       "    sub-expressions: "
      ]
     },
     "metadata": {},
     "output_type": "display_data"
    }
   ],
   "source": [
    "# display the expression information\n",
    "stored_expr.expr_info()"
   ]
  },
  {
   "cell_type": "code",
   "execution_count": null,
   "metadata": {},
   "outputs": [],
   "source": []
  }
 ],
 "metadata": {
  "kernelspec": {
   "display_name": "Python 3",
   "language": "python",
   "name": "python3"
  }
 },
 "nbformat": 4,
 "nbformat_minor": 0
}