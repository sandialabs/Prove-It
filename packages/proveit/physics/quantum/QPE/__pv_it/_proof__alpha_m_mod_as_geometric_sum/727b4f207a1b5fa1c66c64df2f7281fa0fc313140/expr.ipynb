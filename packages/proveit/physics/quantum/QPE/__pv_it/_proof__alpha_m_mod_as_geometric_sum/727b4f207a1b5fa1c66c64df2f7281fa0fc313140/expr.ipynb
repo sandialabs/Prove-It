{
 "cells": [
  {
   "cell_type": "markdown",
   "metadata": {},
   "source": [
    "Expression of type <a class=\"ProveItLink\" href=\"../../../../../../../../doc/html/api/proveit.logic.Equals.html\">Equals</a>\n",
    "=======================\n",
    "# from the theory of <a class=\"ProveItLink\" href=\"../../../_theory_nbs_/theory.ipynb\">proveit.physics.quantum.QPE</a>"
   ]
  },
  {
   "cell_type": "code",
   "execution_count": 1,
   "metadata": {},
   "outputs": [],
   "source": [
    "import proveit\n",
    "# Automation is not needed when building an expression:\n",
    "proveit.defaults.automation = False # This will speed things up.\n",
    "proveit.defaults.inline_pngs = False # Makes files smaller.\n",
    "%load_expr # Load the stored expression as 'stored_expr'\n",
    "# import Expression classes needed to build the expression\n",
    "from proveit import k, m\n",
    "from proveit.logic import Equals\n",
    "from proveit.numbers import Exp, Mult, Neg, e, frac, i, pi, subtract, two\n",
    "from proveit.physics.quantum.QPE import _phase, _two_pow_t"
   ]
  },
  {
   "cell_type": "code",
   "execution_count": 2,
   "metadata": {},
   "outputs": [
    {
     "data": {
      "text/html": [
       "<strong id=\"expr\">expr:</strong> <a class=\"ProveItLink\" href=\"expr.ipynb\"><img src=\"expr.png\" style=\"display:inline;vertical-align:middle;\" /></a><br>"
      ],
      "text/plain": [
       "<IPython.core.display.HTML object>"
      ]
     },
     "metadata": {},
     "output_type": "display_data"
    }
   ],
   "source": [
    "# build up the expression from sub-expressions\n",
    "expr = Equals(Mult(Exp(e, Neg(frac(Mult(two, pi, i, k, m), _two_pow_t))), Exp(e, Mult(two, pi, i, _phase, k))), Exp(Exp(e, Mult(Mult(two, pi, i), subtract(_phase, frac(m, _two_pow_t)))), k))"
   ]
  },
  {
   "cell_type": "code",
   "execution_count": 3,
   "metadata": {},
   "outputs": [
    {
     "name": "stdout",
     "output_type": "stream",
     "text": [
      "Passed sanity check: expr matches stored_expr\n"
     ]
    }
   ],
   "source": [
    "# check that the built expression is the same as the stored expression\n",
    "assert expr == stored_expr\n",
    "assert expr._style_id == stored_expr._style_id\n",
    "print(\"Passed sanity check: expr matches stored_expr\")"
   ]
  },
  {
   "cell_type": "code",
   "execution_count": 4,
   "metadata": {},
   "outputs": [
    {
     "name": "stdout",
     "output_type": "stream",
     "text": [
      "\\left(\\mathsf{e}^{-\\frac{2 \\cdot \\pi \\cdot \\mathsf{i} \\cdot k \\cdot m}{2^{t}}} \\cdot \\mathsf{e}^{2 \\cdot \\pi \\cdot \\mathsf{i} \\cdot \\varphi \\cdot k}\\right) = (\\mathsf{e}^{\\left(2 \\cdot \\pi \\cdot \\mathsf{i}\\right) \\cdot \\left(\\varphi - \\frac{m}{2^{t}}\\right)})^{k}\n"
     ]
    }
   ],
   "source": [
    "# Show the LaTeX representation of the expression for convenience if you need it.\n",
    "print(stored_expr.latex())"
   ]
  },
  {
   "cell_type": "code",
   "execution_count": 5,
   "metadata": {},
   "outputs": [
    {
     "data": {
      "text/html": [
       "<table>\n",
       "<tr><th>name</th><th>description</th><th>default</th><th>current value</th><th>related methods</th></tr><tr><td>operation</td><td>'infix' or 'function' style formatting</td><td>infix</td><td>infix</td><td></td></tr>\n",
       "<tr><td>wrap_positions</td><td>position(s) at which wrapping is to occur; '2 n - 1' is after the nth operand, '2 n' is after the nth operation.</td><td>()</td><td>()</td><td>('with_wrapping_at', 'with_wrap_before_operator', 'with_wrap_after_operator', 'without_wrapping', 'wrap_positions')</td></tr>\n",
       "<tr><td>justification</td><td>if any wrap positions are set, justify to the 'left', 'center', or 'right'</td><td>center</td><td>center</td><td>('with_justification',)</td></tr>\n",
       "<tr><td>direction</td><td>Direction of the relation (normal or reversed)</td><td>normal</td><td>normal</td><td>('with_direction_reversed', 'is_reversed')</td></tr>\n",
       "</table>\n"
      ],
      "text/plain": [
       "style name: operation\n",
       "description: 'infix' or 'function' style formatting\n",
       "default: infix\n",
       "current value: infix\n",
       "related methods: ()\n",
       "style name: wrap_positions\n",
       "description: position(s) at which wrapping is to occur; '2 n - 1' is after the nth operand, '2 n' is after the nth operation.\n",
       "default: ()\n",
       "current value: ()\n",
       "related methods: ('with_wrapping_at', 'with_wrap_before_operator', 'with_wrap_after_operator', 'without_wrapping', 'wrap_positions')\n",
       "style name: justification\n",
       "description: if any wrap positions are set, justify to the 'left', 'center', or 'right'\n",
       "default: center\n",
       "current value: center\n",
       "related methods: ('with_justification',)\n",
       "style name: direction\n",
       "description: Direction of the relation (normal or reversed)\n",
       "default: normal\n",
       "current value: normal\n",
       "related methods: ('with_direction_reversed', 'is_reversed')"
      ]
     },
     "metadata": {},
     "output_type": "display_data"
    }
   ],
   "source": [
    "stored_expr.style_options()"
   ]
  },
  {
   "cell_type": "code",
   "execution_count": 6,
   "metadata": {},
   "outputs": [
    {
     "data": {
      "text/html": [
       "<table><tr><th>&nbsp;</th><th>core type</th><th>sub-expressions</th><th>expression</th></tr>\n",
       "<tr><td>0</td><td>Operation</td><td>operator:&nbsp;1<br>operands:&nbsp;2<br></td><td><a class=\"ProveItLink\" href=\"expr.ipynb\"><img src=\"expr.png\" style=\"display:inline;vertical-align:middle;\" /></a></td></tr>\n",
       "<tr><td>1</td><td>Literal</td><td></td><td><a class=\"ProveItLink\" href=\"../../../../../../logic/equality/__pv_it/common/fb96dc12b2aa8801dda64d0132b396c63d1502bb0/expr.ipynb\"><img src=\"../../../../../../logic/equality/__pv_it/common/fb96dc12b2aa8801dda64d0132b396c63d1502bb0/expr.png\" style=\"display:inline;vertical-align:middle;\" /></a></td></tr>\n",
       "<tr><td>2</td><td>ExprTuple</td><td>3, 4</td><td><a class=\"ProveItLink\" href=\"../dc485ed708c17a886b1b0c7e8bc5810bb6fb68210/expr.ipynb\"><img src=\"../dc485ed708c17a886b1b0c7e8bc5810bb6fb68210/expr.png\" style=\"display:inline;vertical-align:middle;\" /></a></td></tr>\n",
       "<tr><td>3</td><td>Operation</td><td>operator:&nbsp;30<br>operands:&nbsp;5<br></td><td><a class=\"ProveItLink\" href=\"../../theorems/bbc394d0a8e6a2e3d51e42556eea4f8d55fae2f90/expr.ipynb\"><img src=\"../../theorems/bbc394d0a8e6a2e3d51e42556eea4f8d55fae2f90/expr.png\" style=\"display:inline;vertical-align:middle;\" /></a></td></tr>\n",
       "<tr><td>4</td><td>Operation</td><td>operator:&nbsp;42<br>operands:&nbsp;6<br></td><td><a class=\"ProveItLink\" href=\"../5873a9597d0198f69245d508d12c26af7b46b1920/expr.ipynb\"><img src=\"../5873a9597d0198f69245d508d12c26af7b46b1920/expr.png\" style=\"display:inline;vertical-align:middle;\" /></a></td></tr>\n",
       "<tr><td>5</td><td>ExprTuple</td><td>7, 8</td><td><a class=\"ProveItLink\" href=\"../../theorems/adfd0315c9865a819fdaac8b7132055e1ad98c9f0/expr.ipynb\"><img src=\"../../theorems/adfd0315c9865a819fdaac8b7132055e1ad98c9f0/expr.png\" style=\"display:inline;vertical-align:middle;\" /></a></td></tr>\n",
       "<tr><td>6</td><td>ExprTuple</td><td>9, 36</td><td><a class=\"ProveItLink\" href=\"../ccea84ca96135618a849d4d4e8b09826f004cd5e0/expr.ipynb\"><img src=\"../ccea84ca96135618a849d4d4e8b09826f004cd5e0/expr.png\" style=\"display:inline;vertical-align:middle;\" /></a></td></tr>\n",
       "<tr><td>7</td><td>Operation</td><td>operator:&nbsp;42<br>operands:&nbsp;10<br></td><td><a class=\"ProveItLink\" href=\"../../theorems/82b5afaedf1e87f63473af271add08b9eb0128d40/expr.ipynb\"><img src=\"../../theorems/82b5afaedf1e87f63473af271add08b9eb0128d40/expr.png\" style=\"display:inline;vertical-align:middle;\" /></a></td></tr>\n",
       "<tr><td>8</td><td>Operation</td><td>operator:&nbsp;42<br>operands:&nbsp;11<br></td><td><a class=\"ProveItLink\" href=\"../../theorems/2c1a535bf143a3432d0b7b4c0c044d1032b311ec0/expr.ipynb\"><img src=\"../../theorems/2c1a535bf143a3432d0b7b4c0c044d1032b311ec0/expr.png\" style=\"display:inline;vertical-align:middle;\" /></a></td></tr>\n",
       "<tr><td>9</td><td>Operation</td><td>operator:&nbsp;42<br>operands:&nbsp;12<br></td><td><a class=\"ProveItLink\" href=\"../fe0ddf57a05be59da999f507eafc91ba1b6a8bd70/expr.ipynb\"><img src=\"../fe0ddf57a05be59da999f507eafc91ba1b6a8bd70/expr.png\" style=\"display:inline;vertical-align:middle;\" /></a></td></tr>\n",
       "<tr><td>10</td><td>ExprTuple</td><td>15, 13</td><td><a class=\"ProveItLink\" href=\"../../theorems/429a2f923cfd8475765eaf354a145d3014ffa6b80/expr.ipynb\"><img src=\"../../theorems/429a2f923cfd8475765eaf354a145d3014ffa6b80/expr.png\" style=\"display:inline;vertical-align:middle;\" /></a></td></tr>\n",
       "<tr><td>11</td><td>ExprTuple</td><td>15, 14</td><td><a class=\"ProveItLink\" href=\"../../theorems/7fc65e30a01a657038c276fe12cbc943da454c6c0/expr.ipynb\"><img src=\"../../theorems/7fc65e30a01a657038c276fe12cbc943da454c6c0/expr.png\" style=\"display:inline;vertical-align:middle;\" /></a></td></tr>\n",
       "<tr><td>12</td><td>ExprTuple</td><td>15, 16</td><td><a class=\"ProveItLink\" href=\"../5f983e8af7807a20ec5bbf446e3fda19aec0f1ec0/expr.ipynb\"><img src=\"../5f983e8af7807a20ec5bbf446e3fda19aec0f1ec0/expr.png\" style=\"display:inline;vertical-align:middle;\" /></a></td></tr>\n",
       "<tr><td>13</td><td>Operation</td><td>operator:&nbsp;32<br>operand:&nbsp;20<br></td><td><a class=\"ProveItLink\" href=\"../../theorems/6702b783ffbf7e7ccee09d3136fc2f4171dff7320/expr.ipynb\"><img src=\"../../theorems/6702b783ffbf7e7ccee09d3136fc2f4171dff7320/expr.png\" style=\"display:inline;vertical-align:middle;\" /></a></td></tr>\n",
       "<tr><td>14</td><td>Operation</td><td>operator:&nbsp;30<br>operands:&nbsp;18<br></td><td><a class=\"ProveItLink\" href=\"../../theorems/0adba22132b513f20df65a9b53cb0c8f00d51b650/expr.ipynb\"><img src=\"../../theorems/0adba22132b513f20df65a9b53cb0c8f00d51b650/expr.png\" style=\"display:inline;vertical-align:middle;\" /></a></td></tr>\n",
       "<tr><td>15</td><td>Literal</td><td></td><td><a class=\"ProveItLink\" href=\"../../../../../../numbers/number_sets/real_numbers/__pv_it/common/e531ffa54fd897084533764a4a14f19f590674f80/expr.ipynb\"><img src=\"../../../../../../numbers/number_sets/real_numbers/__pv_it/common/e531ffa54fd897084533764a4a14f19f590674f80/expr.png\" style=\"display:inline;vertical-align:middle;\" /></a></td></tr>\n",
       "<tr><td>16</td><td>Operation</td><td>operator:&nbsp;30<br>operands:&nbsp;19<br></td><td><a class=\"ProveItLink\" href=\"../a8098fc58b4c34ba02b72cb3c514687a51128ad50/expr.ipynb\"><img src=\"../a8098fc58b4c34ba02b72cb3c514687a51128ad50/expr.png\" style=\"display:inline;vertical-align:middle;\" /></a></td></tr>\n",
       "<tr><td>17</td><td>ExprTuple</td><td>20</td><td><a class=\"ProveItLink\" href=\"../../theorems/fbc71b19e17990e1e32c5846a94411a12066be800/expr.ipynb\"><img src=\"../../theorems/fbc71b19e17990e1e32c5846a94411a12066be800/expr.png\" style=\"display:inline;vertical-align:middle;\" /></a></td></tr>\n",
       "<tr><td>18</td><td>ExprTuple</td><td>44, 34, 35, 28, 36</td><td><a class=\"ProveItLink\" href=\"../../theorems/2112f73c2594adc999ec7cf2c7506d4201e84ed50/expr.ipynb\"><img src=\"../../theorems/2112f73c2594adc999ec7cf2c7506d4201e84ed50/expr.png\" style=\"display:inline;vertical-align:middle;\" /></a></td></tr>\n",
       "<tr><td>19</td><td>ExprTuple</td><td>21, 22</td><td><a class=\"ProveItLink\" href=\"../08352d8cc4a601c039c6b004365bc18a9216ae610/expr.ipynb\"><img src=\"../08352d8cc4a601c039c6b004365bc18a9216ae610/expr.png\" style=\"display:inline;vertical-align:middle;\" /></a></td></tr>\n",
       "<tr><td>20</td><td>Operation</td><td>operator:&nbsp;38<br>operands:&nbsp;23<br></td><td><a class=\"ProveItLink\" href=\"../../theorems/1f2392197b2541808fd63efecd132c87096ba5970/expr.ipynb\"><img src=\"../../theorems/1f2392197b2541808fd63efecd132c87096ba5970/expr.png\" style=\"display:inline;vertical-align:middle;\" /></a></td></tr>\n",
       "<tr><td>21</td><td>Operation</td><td>operator:&nbsp;30<br>operands:&nbsp;24<br></td><td><a class=\"ProveItLink\" href=\"../d75c2555f0bbb02ff5076da2091c63274562264e0/expr.ipynb\"><img src=\"../d75c2555f0bbb02ff5076da2091c63274562264e0/expr.png\" style=\"display:inline;vertical-align:middle;\" /></a></td></tr>\n",
       "<tr><td>22</td><td>Operation</td><td>operator:&nbsp;25<br>operands:&nbsp;26<br></td><td><a class=\"ProveItLink\" href=\"../../theorems/d45f3ac7b267ba148a111a668421bc41000f523d0/expr.ipynb\"><img src=\"../../theorems/d45f3ac7b267ba148a111a668421bc41000f523d0/expr.png\" style=\"display:inline;vertical-align:middle;\" /></a></td></tr>\n",
       "<tr><td>23</td><td>ExprTuple</td><td>27, 41</td><td><a class=\"ProveItLink\" href=\"../../theorems/c93ded307acdac749267e7ee7fbe2dd382cce3b40/expr.ipynb\"><img src=\"../../theorems/c93ded307acdac749267e7ee7fbe2dd382cce3b40/expr.png\" style=\"display:inline;vertical-align:middle;\" /></a></td></tr>\n",
       "<tr><td>24</td><td>ExprTuple</td><td>44, 34, 35</td><td><a class=\"ProveItLink\" href=\"../5c79a61ee260256d1464857b01b5a48d278d29430/expr.ipynb\"><img src=\"../5c79a61ee260256d1464857b01b5a48d278d29430/expr.png\" style=\"display:inline;vertical-align:middle;\" /></a></td></tr>\n",
       "<tr><td>25</td><td>Literal</td><td></td><td><a class=\"ProveItLink\" href=\"../../../../../../numbers/addition/__pv_it/common/4b7effaab3619a1c2c38fe2dee8601df8ec714590/expr.ipynb\"><img src=\"../../../../../../numbers/addition/__pv_it/common/4b7effaab3619a1c2c38fe2dee8601df8ec714590/expr.png\" style=\"display:inline;vertical-align:middle;\" /></a></td></tr>\n",
       "<tr><td>26</td><td>ExprTuple</td><td>28, 29</td><td><a class=\"ProveItLink\" href=\"../../theorems/b579deafa9d78adc80b0af164a90c809bc92c98d0/expr.ipynb\"><img src=\"../../theorems/b579deafa9d78adc80b0af164a90c809bc92c98d0/expr.png\" style=\"display:inline;vertical-align:middle;\" /></a></td></tr>\n",
       "<tr><td>27</td><td>Operation</td><td>operator:&nbsp;30<br>operands:&nbsp;31<br></td><td><a class=\"ProveItLink\" href=\"../../theorems/b09d8971c8e5539c58e144c9499b396b1a881d810/expr.ipynb\"><img src=\"../../theorems/b09d8971c8e5539c58e144c9499b396b1a881d810/expr.png\" style=\"display:inline;vertical-align:middle;\" /></a></td></tr>\n",
       "<tr><td>28</td><td>Literal</td><td></td><td><a class=\"ProveItLink\" href=\"../../common/d5e43a4a06cc3c8384d7262f5d019bed24f240ea0/expr.ipynb\"><img src=\"../../common/d5e43a4a06cc3c8384d7262f5d019bed24f240ea0/expr.png\" style=\"display:inline;vertical-align:middle;\" /></a></td></tr>\n",
       "<tr><td>29</td><td>Operation</td><td>operator:&nbsp;32<br>operand:&nbsp;37<br></td><td><a class=\"ProveItLink\" href=\"../../theorems/d0d820068479a0c809a0a63b7dfdc6dc7552dbd00/expr.ipynb\"><img src=\"../../theorems/d0d820068479a0c809a0a63b7dfdc6dc7552dbd00/expr.png\" style=\"display:inline;vertical-align:middle;\" /></a></td></tr>\n",
       "<tr><td>30</td><td>Literal</td><td></td><td><a class=\"ProveItLink\" href=\"../../../../../../numbers/multiplication/__pv_it/common/ed719cef37831779c16481533a4d380a2f95ab270/expr.ipynb\"><img src=\"../../../../../../numbers/multiplication/__pv_it/common/ed719cef37831779c16481533a4d380a2f95ab270/expr.png\" style=\"display:inline;vertical-align:middle;\" /></a></td></tr>\n",
       "<tr><td>31</td><td>ExprTuple</td><td>44, 34, 35, 36, 40</td><td><a class=\"ProveItLink\" href=\"../../theorems/bc26ef173c215c9fb2fa8841dc736495d5d7bce80/expr.ipynb\"><img src=\"../../theorems/bc26ef173c215c9fb2fa8841dc736495d5d7bce80/expr.png\" style=\"display:inline;vertical-align:middle;\" /></a></td></tr>\n",
       "<tr><td>32</td><td>Literal</td><td></td><td><a class=\"ProveItLink\" href=\"../../../../../../numbers/negation/__pv_it/common/221b3c4d1770ee9051b7c044c3f9ec61196fc34b0/expr.ipynb\"><img src=\"../../../../../../numbers/negation/__pv_it/common/221b3c4d1770ee9051b7c044c3f9ec61196fc34b0/expr.png\" style=\"display:inline;vertical-align:middle;\" /></a></td></tr>\n",
       "<tr><td>33</td><td>ExprTuple</td><td>37</td><td><a class=\"ProveItLink\" href=\"../../theorems/62a8c56ccc020c2ba76f4e405aca6fbc10c911620/expr.ipynb\"><img src=\"../../theorems/62a8c56ccc020c2ba76f4e405aca6fbc10c911620/expr.png\" style=\"display:inline;vertical-align:middle;\" /></a></td></tr>\n",
       "<tr><td>34</td><td>Literal</td><td></td><td><a class=\"ProveItLink\" href=\"../../../../../../numbers/number_sets/real_numbers/__pv_it/common/246c206266ac5b48800e508d580f91767b24c2df0/expr.ipynb\"><img src=\"../../../../../../numbers/number_sets/real_numbers/__pv_it/common/246c206266ac5b48800e508d580f91767b24c2df0/expr.png\" style=\"display:inline;vertical-align:middle;\" /></a></td></tr>\n",
       "<tr><td>35</td><td>Literal</td><td></td><td><a class=\"ProveItLink\" href=\"../../../../../../numbers/number_sets/complex_numbers/__pv_it/common/6c9cc69d472f352324c298b2318df233e9a7e0250/expr.ipynb\"><img src=\"../../../../../../numbers/number_sets/complex_numbers/__pv_it/common/6c9cc69d472f352324c298b2318df233e9a7e0250/expr.png\" style=\"display:inline;vertical-align:middle;\" /></a></td></tr>\n",
       "<tr><td>36</td><td>Variable</td><td></td><td><a class=\"ProveItLink\" href=\"../../../../../../__pv_it/common/63b7c64bf9ec7a04ecc396c7a1670f3f12fb59490/expr.ipynb\"><img src=\"../../../../../../__pv_it/common/63b7c64bf9ec7a04ecc396c7a1670f3f12fb59490/expr.png\" style=\"display:inline;vertical-align:middle;\" /></a></td></tr>\n",
       "<tr><td>37</td><td>Operation</td><td>operator:&nbsp;38<br>operands:&nbsp;39<br></td><td><a class=\"ProveItLink\" href=\"../../common/1f7633ed1053932b6092ea8b7a09d141341662020/expr.ipynb\"><img src=\"../../common/1f7633ed1053932b6092ea8b7a09d141341662020/expr.png\" style=\"display:inline;vertical-align:middle;\" /></a></td></tr>\n",
       "<tr><td>38</td><td>Literal</td><td></td><td><a class=\"ProveItLink\" href=\"../../../../../../numbers/division/__pv_it/common/a2a633e1e3c749fb1f2692466b287b6348c5de840/expr.ipynb\"><img src=\"../../../../../../numbers/division/__pv_it/common/a2a633e1e3c749fb1f2692466b287b6348c5de840/expr.png\" style=\"display:inline;vertical-align:middle;\" /></a></td></tr>\n",
       "<tr><td>39</td><td>ExprTuple</td><td>40, 41</td><td><a class=\"ProveItLink\" href=\"../../common/75ea636c277035e1d612893a537626dae0354df60/expr.ipynb\"><img src=\"../../common/75ea636c277035e1d612893a537626dae0354df60/expr.png\" style=\"display:inline;vertical-align:middle;\" /></a></td></tr>\n",
       "<tr><td>40</td><td>Variable</td><td></td><td><a class=\"ProveItLink\" href=\"../../../../../../__pv_it/common/674a03b9c3ca221b3aabd5636837b31528ff33830/expr.ipynb\"><img src=\"../../../../../../__pv_it/common/674a03b9c3ca221b3aabd5636837b31528ff33830/expr.png\" style=\"display:inline;vertical-align:middle;\" /></a></td></tr>\n",
       "<tr><td>41</td><td>Operation</td><td>operator:&nbsp;42<br>operands:&nbsp;43<br></td><td><a class=\"ProveItLink\" href=\"../../common/18332e4e627d64eadf0d81efed19ae3e9d007d510/expr.ipynb\"><img src=\"../../common/18332e4e627d64eadf0d81efed19ae3e9d007d510/expr.png\" style=\"display:inline;vertical-align:middle;\" /></a></td></tr>\n",
       "<tr><td>42</td><td>Literal</td><td></td><td><a class=\"ProveItLink\" href=\"../../../../../../numbers/exponentiation/__pv_it/common/0ac37aca1e54c35c5cda09672df32d4f69f1f3020/expr.ipynb\"><img src=\"../../../../../../numbers/exponentiation/__pv_it/common/0ac37aca1e54c35c5cda09672df32d4f69f1f3020/expr.png\" style=\"display:inline;vertical-align:middle;\" /></a></td></tr>\n",
       "<tr><td>43</td><td>ExprTuple</td><td>44, 45</td><td><a class=\"ProveItLink\" href=\"../../common/e32fd834a589b0231aa39da242e9381ec87261b00/expr.ipynb\"><img src=\"../../common/e32fd834a589b0231aa39da242e9381ec87261b00/expr.png\" style=\"display:inline;vertical-align:middle;\" /></a></td></tr>\n",
       "<tr><td>44</td><td>Literal</td><td></td><td><a class=\"ProveItLink\" href=\"../../../../../../numbers/numerals/__pv_it/common/af4aab8a07465db063742696e006d04670f30cf10/expr.ipynb\"><img src=\"../../../../../../numbers/numerals/__pv_it/common/af4aab8a07465db063742696e006d04670f30cf10/expr.png\" style=\"display:inline;vertical-align:middle;\" /></a></td></tr>\n",
       "<tr><td>45</td><td>Literal</td><td></td><td><a class=\"ProveItLink\" href=\"../../common/977cc67717328e22c93f8ab84e6a45e8cadce7790/expr.ipynb\"><img src=\"../../common/977cc67717328e22c93f8ab84e6a45e8cadce7790/expr.png\" style=\"display:inline;vertical-align:middle;\" /></a></td></tr>\n",
       "</table>\n"
      ],
      "text/plain": [
       "0. (e^{-((2 * pi * i * k * m) / 2^{t})} * e^{2 * pi * i * phase * k}) = (e^{(2 * pi * i) * (phase - (m / 2^{t}))})^{k}\n",
       "   core type: Operation\n",
       "   operator: 1\n",
       "   operands: 2\n",
       "1. =\n",
       "   core type: Literal\n",
       "   sub-expressions: \n",
       "2. (e^{-((2 * pi * i * k * m) / 2^{t})} * e^{2 * pi * i * phase * k}, (e^{(2 * pi * i) * (phase - (m / 2^{t}))})^{k})\n",
       "   core type: ExprTuple\n",
       "   sub-expressions: 3, 4\n",
       "3. e^{-((2 * pi * i * k * m) / 2^{t})} * e^{2 * pi * i * phase * k}\n",
       "   core type: Operation\n",
       "   operator: 30\n",
       "   operands: 5\n",
       "4. (e^{(2 * pi * i) * (phase - (m / 2^{t}))})^{k}\n",
       "   core type: Operation\n",
       "   operator: 42\n",
       "   operands: 6\n",
       "5. (e^{-((2 * pi * i * k * m) / 2^{t})}, e^{2 * pi * i * phase * k})\n",
       "   core type: ExprTuple\n",
       "   sub-expressions: 7, 8\n",
       "6. (e^{(2 * pi * i) * (phase - (m / 2^{t}))}, k)\n",
       "   core type: ExprTuple\n",
       "   sub-expressions: 9, 36\n",
       "7. e^{-((2 * pi * i * k * m) / 2^{t})}\n",
       "   core type: Operation\n",
       "   operator: 42\n",
       "   operands: 10\n",
       "8. e^{2 * pi * i * phase * k}\n",
       "   core type: Operation\n",
       "   operator: 42\n",
       "   operands: 11\n",
       "9. e^{(2 * pi * i) * (phase - (m / 2^{t}))}\n",
       "   core type: Operation\n",
       "   operator: 42\n",
       "   operands: 12\n",
       "10. (e, -((2 * pi * i * k * m) / 2^{t}))\n",
       "    core type: ExprTuple\n",
       "    sub-expressions: 15, 13\n",
       "11. (e, 2 * pi * i * phase * k)\n",
       "    core type: ExprTuple\n",
       "    sub-expressions: 15, 14\n",
       "12. (e, (2 * pi * i) * (phase - (m / 2^{t})))\n",
       "    core type: ExprTuple\n",
       "    sub-expressions: 15, 16\n",
       "13. -((2 * pi * i * k * m) / 2^{t})\n",
       "    core type: Operation\n",
       "    operator: 32\n",
       "    operand: 20\n",
       "14. 2 * pi * i * phase * k\n",
       "    core type: Operation\n",
       "    operator: 30\n",
       "    operands: 18\n",
       "15. e\n",
       "    core type: Literal\n",
       "    sub-expressions: \n",
       "16. (2 * pi * i) * (phase - (m / 2^{t}))\n",
       "    core type: Operation\n",
       "    operator: 30\n",
       "    operands: 19\n",
       "17. ((2 * pi * i * k * m) / 2^{t})\n",
       "    core type: ExprTuple\n",
       "    sub-expressions: 20\n",
       "18. (2, pi, i, phase, k)\n",
       "    core type: ExprTuple\n",
       "    sub-expressions: 44, 34, 35, 28, 36\n",
       "19. (2 * pi * i, phase - (m / 2^{t}))\n",
       "    core type: ExprTuple\n",
       "    sub-expressions: 21, 22\n",
       "20. (2 * pi * i * k * m) / 2^{t}\n",
       "    core type: Operation\n",
       "    operator: 38\n",
       "    operands: 23\n",
       "21. 2 * pi * i\n",
       "    core type: Operation\n",
       "    operator: 30\n",
       "    operands: 24\n",
       "22. phase - (m / 2^{t})\n",
       "    core type: Operation\n",
       "    operator: 25\n",
       "    operands: 26\n",
       "23. (2 * pi * i * k * m, 2^{t})\n",
       "    core type: ExprTuple\n",
       "    sub-expressions: 27, 41\n",
       "24. (2, pi, i)\n",
       "    core type: ExprTuple\n",
       "    sub-expressions: 44, 34, 35\n",
       "25. +\n",
       "    core type: Literal\n",
       "    sub-expressions: \n",
       "26. (phase, -(m / 2^{t}))\n",
       "    core type: ExprTuple\n",
       "    sub-expressions: 28, 29\n",
       "27. 2 * pi * i * k * m\n",
       "    core type: Operation\n",
       "    operator: 30\n",
       "    operands: 31\n",
       "28. phase\n",
       "    core type: Literal\n",
       "    sub-expressions: \n",
       "29. -(m / 2^{t})\n",
       "    core type: Operation\n",
       "    operator: 32\n",
       "    operand: 37\n",
       "30. *\n",
       "    core type: Literal\n",
       "    sub-expressions: \n",
       "31. (2, pi, i, k, m)\n",
       "    core type: ExprTuple\n",
       "    sub-expressions: 44, 34, 35, 36, 40\n",
       "32. -\n",
       "    core type: Literal\n",
       "    sub-expressions: \n",
       "33. (m / 2^{t})\n",
       "    core type: ExprTuple\n",
       "    sub-expressions: 37\n",
       "34. pi\n",
       "    core type: Literal\n",
       "    sub-expressions: \n",
       "35. i\n",
       "    core type: Literal\n",
       "    sub-expressions: \n",
       "36. k\n",
       "    core type: Variable\n",
       "    sub-expressions: \n",
       "37. m / 2^{t}\n",
       "    core type: Operation\n",
       "    operator: 38\n",
       "    operands: 39\n",
       "38. /\n",
       "    core type: Literal\n",
       "    sub-expressions: \n",
       "39. (m, 2^{t})\n",
       "    core type: ExprTuple\n",
       "    sub-expressions: 40, 41\n",
       "40. m\n",
       "    core type: Variable\n",
       "    sub-expressions: \n",
       "41. 2^{t}\n",
       "    core type: Operation\n",
       "    operator: 42\n",
       "    operands: 43\n",
       "42. Exp\n",
       "    core type: Literal\n",
       "    sub-expressions: \n",
       "43. (2, t)\n",
       "    core type: ExprTuple\n",
       "    sub-expressions: 44, 45\n",
       "44. 2\n",
       "    core type: Literal\n",
       "    sub-expressions: \n",
       "45. t\n",
       "    core type: Literal\n",
       "    sub-expressions: "
      ]
     },
     "metadata": {},
     "output_type": "display_data"
    }
   ],
   "source": [
    "# display the expression information\n",
    "stored_expr.expr_info()"
   ]
  },
  {
   "cell_type": "code",
   "execution_count": null,
   "metadata": {},
   "outputs": [],
   "source": []
  }
 ],
 "metadata": {
  "kernelspec": {
   "display_name": "Python 3",
   "language": "python",
   "name": "python3"
  }
 },
 "nbformat": 4,
 "nbformat_minor": 0
}