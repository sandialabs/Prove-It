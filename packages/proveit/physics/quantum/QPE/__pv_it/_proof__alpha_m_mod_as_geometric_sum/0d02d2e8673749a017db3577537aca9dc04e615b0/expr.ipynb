{
 "cells": [
  {
   "cell_type": "markdown",
   "metadata": {},
   "source": [
    "Expression of type <a class=\"ProveItLink\" href=\"../../../../../../../../doc/html/api/proveit.Lambda.html\">Lambda</a>\n",
    "=======================\n",
    "# from the theory of <a class=\"ProveItLink\" href=\"../../../_theory_nbs_/theory.ipynb\">proveit.physics.quantum.QPE</a>"
   ]
  },
  {
   "cell_type": "code",
   "execution_count": 1,
   "metadata": {},
   "outputs": [],
   "source": [
    "import proveit\n",
    "# Automation is not needed when building an expression:\n",
    "proveit.defaults.automation = False # This will speed things up.\n",
    "proveit.defaults.inline_pngs = False # Makes files smaller.\n",
    "%load_expr # Load the stored expression as 'stored_expr'\n",
    "# import Expression classes needed to build the expression\n",
    "from proveit import Conditional, Lambda, a, b, k\n",
    "from proveit.logic import And, Equals, InSet, NotEquals\n",
    "from proveit.numbers import Complex, Exp, Mult, Neg, zero"
   ]
  },
  {
   "cell_type": "code",
   "execution_count": 2,
   "metadata": {},
   "outputs": [
    {
     "data": {
      "text/html": [
       "<strong id=\"expr\">expr:</strong> <a class=\"ProveItLink\" href=\"expr.ipynb\"><img src=\"expr.png\" style=\"display:inline;vertical-align:middle;\" /></a><br>"
      ],
      "text/plain": [
       "<IPython.core.display.HTML object>"
      ]
     },
     "metadata": {},
     "output_type": "display_data"
    }
   ],
   "source": [
    "# build up the expression from sub-expressions\n",
    "expr = Lambda([a, b], Conditional(Equals(Exp(Exp(a, Neg(b)), k), Exp(a, Neg(Mult(b, k)))), And(InSet(a, Complex), InSet(b, Complex), NotEquals(a, zero))))"
   ]
  },
  {
   "cell_type": "code",
   "execution_count": 3,
   "metadata": {},
   "outputs": [
    {
     "name": "stdout",
     "output_type": "stream",
     "text": [
      "Passed sanity check: expr matches stored_expr\n"
     ]
    }
   ],
   "source": [
    "# check that the built expression is the same as the stored expression\n",
    "assert expr == stored_expr\n",
    "assert expr._style_id == stored_expr._style_id\n",
    "print(\"Passed sanity check: expr matches stored_expr\")"
   ]
  },
  {
   "cell_type": "code",
   "execution_count": 4,
   "metadata": {},
   "outputs": [
    {
     "name": "stdout",
     "output_type": "stream",
     "text": [
      "\\left(a, b\\right) \\mapsto \\left\\{(a^{-b})^{k} = a^{-\\left(b \\cdot k\\right)} \\textrm{ if } a \\in \\mathbb{C} ,  b \\in \\mathbb{C} ,  a \\neq 0\\right..\n"
     ]
    }
   ],
   "source": [
    "# Show the LaTeX representation of the expression for convenience if you need it.\n",
    "print(stored_expr.latex())"
   ]
  },
  {
   "cell_type": "code",
   "execution_count": 5,
   "metadata": {},
   "outputs": [
    {
     "data": {
      "text/html": [
       "no style options"
      ],
      "text/plain": [
       "no style options"
      ]
     },
     "metadata": {},
     "output_type": "display_data"
    }
   ],
   "source": [
    "stored_expr.style_options()"
   ]
  },
  {
   "cell_type": "code",
   "execution_count": 6,
   "metadata": {},
   "outputs": [
    {
     "data": {
      "text/html": [
       "<table><tr><th>&nbsp;</th><th>core type</th><th>sub-expressions</th><th>expression</th></tr>\n",
       "<tr><td>0</td><td>Lambda</td><td>parameters:&nbsp;1<br>body:&nbsp;2<br></td><td><a class=\"ProveItLink\" href=\"expr.ipynb\"><img src=\"expr.png\" style=\"display:inline;vertical-align:middle;\" /></a></td></tr>\n",
       "<tr><td>1</td><td>ExprTuple</td><td>28, 35</td><td><a class=\"ProveItLink\" href=\"../../../../../../numbers/ordering/__pv_it/theorems/3dcd5ceea6334d8cb48fe14fdae236293aa9a6050/expr.ipynb\"><img src=\"../../../../../../numbers/ordering/__pv_it/theorems/3dcd5ceea6334d8cb48fe14fdae236293aa9a6050/expr.png\" style=\"display:inline;vertical-align:middle;\" /></a></td></tr>\n",
       "<tr><td>2</td><td>Conditional</td><td>value:&nbsp;3<br>condition:&nbsp;4<br></td><td><a class=\"ProveItLink\" href=\"../24ea944b45f16e2234defaa9975c97a3a33ea9440/expr.ipynb\"><img src=\"../24ea944b45f16e2234defaa9975c97a3a33ea9440/expr.png\" style=\"display:inline;vertical-align:middle;\" /></a></td></tr>\n",
       "<tr><td>3</td><td>Operation</td><td>operator:&nbsp;5<br>operands:&nbsp;6<br></td><td><a class=\"ProveItLink\" href=\"../98efe5a164072c29a91d2af552a72805de85c34d0/expr.ipynb\"><img src=\"../98efe5a164072c29a91d2af552a72805de85c34d0/expr.png\" style=\"display:inline;vertical-align:middle;\" /></a></td></tr>\n",
       "<tr><td>4</td><td>Operation</td><td>operator:&nbsp;7<br>operands:&nbsp;8<br></td><td><a class=\"ProveItLink\" href=\"../../../../../../numbers/exponentiation/__pv_it/theorems/8ca1c4944488ffb49074df4179ae96377599f0c60/expr.ipynb\"><img src=\"../../../../../../numbers/exponentiation/__pv_it/theorems/8ca1c4944488ffb49074df4179ae96377599f0c60/expr.png\" style=\"display:inline;vertical-align:middle;\" /></a></td></tr>\n",
       "<tr><td>5</td><td>Literal</td><td></td><td><a class=\"ProveItLink\" href=\"../../../../../../logic/equality/__pv_it/common/fb96dc12b2aa8801dda64d0132b396c63d1502bb0/expr.ipynb\"><img src=\"../../../../../../logic/equality/__pv_it/common/fb96dc12b2aa8801dda64d0132b396c63d1502bb0/expr.png\" style=\"display:inline;vertical-align:middle;\" /></a></td></tr>\n",
       "<tr><td>6</td><td>ExprTuple</td><td>9, 10</td><td><a class=\"ProveItLink\" href=\"../f285b424e40bbe8c760e341f6a491baefeb1d7160/expr.ipynb\"><img src=\"../f285b424e40bbe8c760e341f6a491baefeb1d7160/expr.png\" style=\"display:inline;vertical-align:middle;\" /></a></td></tr>\n",
       "<tr><td>7</td><td>Literal</td><td></td><td><a class=\"ProveItLink\" href=\"../../../../../../logic/booleans/conjunction/__pv_it/common/42118ff318bd65d98b1393f64ce7c2269feef76e0/expr.ipynb\"><img src=\"../../../../../../logic/booleans/conjunction/__pv_it/common/42118ff318bd65d98b1393f64ce7c2269feef76e0/expr.png\" style=\"display:inline;vertical-align:middle;\" /></a></td></tr>\n",
       "<tr><td>8</td><td>ExprTuple</td><td>11, 12, 13</td><td><a class=\"ProveItLink\" href=\"../../../../../../numbers/exponentiation/__pv_it/theorems/60fdd73babedaa8f488f8a00da66f9d73df02e5b0/expr.ipynb\"><img src=\"../../../../../../numbers/exponentiation/__pv_it/theorems/60fdd73babedaa8f488f8a00da66f9d73df02e5b0/expr.png\" style=\"display:inline;vertical-align:middle;\" /></a></td></tr>\n",
       "<tr><td>9</td><td>Operation</td><td>operator:&nbsp;25<br>operands:&nbsp;14<br></td><td><a class=\"ProveItLink\" href=\"../3a1717f3ffa1c110c425ec6579cff0d7bdd156340/expr.ipynb\"><img src=\"../3a1717f3ffa1c110c425ec6579cff0d7bdd156340/expr.png\" style=\"display:inline;vertical-align:middle;\" /></a></td></tr>\n",
       "<tr><td>10</td><td>Operation</td><td>operator:&nbsp;25<br>operands:&nbsp;15<br></td><td><a class=\"ProveItLink\" href=\"../670dd383ed79c5c547fb7d5364971698e86cdf090/expr.ipynb\"><img src=\"../670dd383ed79c5c547fb7d5364971698e86cdf090/expr.png\" style=\"display:inline;vertical-align:middle;\" /></a></td></tr>\n",
       "<tr><td>11</td><td>Operation</td><td>operator:&nbsp;17<br>operands:&nbsp;16<br></td><td><a class=\"ProveItLink\" href=\"../../../../../../numbers/exponentiation/__pv_it/theorems/e9f87a0977d5044ea8daf1040d2f219396bb3d5b0/expr.ipynb\"><img src=\"../../../../../../numbers/exponentiation/__pv_it/theorems/e9f87a0977d5044ea8daf1040d2f219396bb3d5b0/expr.png\" style=\"display:inline;vertical-align:middle;\" /></a></td></tr>\n",
       "<tr><td>12</td><td>Operation</td><td>operator:&nbsp;17<br>operands:&nbsp;18<br></td><td><a class=\"ProveItLink\" href=\"../../../../../../numbers/exponentiation/__pv_it/theorems/a259ec76dfb0a5be60b7c83d797520fa82c1dba60/expr.ipynb\"><img src=\"../../../../../../numbers/exponentiation/__pv_it/theorems/a259ec76dfb0a5be60b7c83d797520fa82c1dba60/expr.png\" style=\"display:inline;vertical-align:middle;\" /></a></td></tr>\n",
       "<tr><td>13</td><td>Operation</td><td>operator:&nbsp;19<br>operands:&nbsp;20<br></td><td><a class=\"ProveItLink\" href=\"../../../../../../numbers/exponentiation/__pv_it/theorems/1759e791f6052d2463eefaaf9e2fa309cc3375160/expr.ipynb\"><img src=\"../../../../../../numbers/exponentiation/__pv_it/theorems/1759e791f6052d2463eefaaf9e2fa309cc3375160/expr.png\" style=\"display:inline;vertical-align:middle;\" /></a></td></tr>\n",
       "<tr><td>14</td><td>ExprTuple</td><td>21, 36</td><td><a class=\"ProveItLink\" href=\"../a25718c7754066de2ca1e223f0021b0188b790d50/expr.ipynb\"><img src=\"../a25718c7754066de2ca1e223f0021b0188b790d50/expr.png\" style=\"display:inline;vertical-align:middle;\" /></a></td></tr>\n",
       "<tr><td>15</td><td>ExprTuple</td><td>28, 22</td><td><a class=\"ProveItLink\" href=\"../8c870facd2a794f06dc686eb0942c837cdf029450/expr.ipynb\"><img src=\"../8c870facd2a794f06dc686eb0942c837cdf029450/expr.png\" style=\"display:inline;vertical-align:middle;\" /></a></td></tr>\n",
       "<tr><td>16</td><td>ExprTuple</td><td>28, 23</td><td><a class=\"ProveItLink\" href=\"../../../../../../numbers/exponentiation/__pv_it/theorems/f95f1bd17fb8b13a3ef06d06b532b556f249a05f0/expr.ipynb\"><img src=\"../../../../../../numbers/exponentiation/__pv_it/theorems/f95f1bd17fb8b13a3ef06d06b532b556f249a05f0/expr.png\" style=\"display:inline;vertical-align:middle;\" /></a></td></tr>\n",
       "<tr><td>17</td><td>Literal</td><td></td><td><a class=\"ProveItLink\" href=\"../../../../../../logic/sets/membership/__pv_it/common/477487d8796864d23d5810f83761435f25167f690/expr.ipynb\"><img src=\"../../../../../../logic/sets/membership/__pv_it/common/477487d8796864d23d5810f83761435f25167f690/expr.png\" style=\"display:inline;vertical-align:middle;\" /></a></td></tr>\n",
       "<tr><td>18</td><td>ExprTuple</td><td>35, 23</td><td><a class=\"ProveItLink\" href=\"../../../../../../numbers/exponentiation/__pv_it/theorems/4a72a986c458b001a667c5069838c28cc69c8d280/expr.ipynb\"><img src=\"../../../../../../numbers/exponentiation/__pv_it/theorems/4a72a986c458b001a667c5069838c28cc69c8d280/expr.png\" style=\"display:inline;vertical-align:middle;\" /></a></td></tr>\n",
       "<tr><td>19</td><td>Literal</td><td></td><td><a class=\"ProveItLink\" href=\"../../../../../../logic/equality/__pv_it/common/d96270bc9bb1bad54f773b1c04bfb343a739642c0/expr.ipynb\"><img src=\"../../../../../../logic/equality/__pv_it/common/d96270bc9bb1bad54f773b1c04bfb343a739642c0/expr.png\" style=\"display:inline;vertical-align:middle;\" /></a></td></tr>\n",
       "<tr><td>20</td><td>ExprTuple</td><td>28, 24</td><td><a class=\"ProveItLink\" href=\"../../../../../../numbers/exponentiation/__pv_it/theorems/745cdb9639e5d503f09801a74d735cc5ccdc0d2a0/expr.ipynb\"><img src=\"../../../../../../numbers/exponentiation/__pv_it/theorems/745cdb9639e5d503f09801a74d735cc5ccdc0d2a0/expr.png\" style=\"display:inline;vertical-align:middle;\" /></a></td></tr>\n",
       "<tr><td>21</td><td>Operation</td><td>operator:&nbsp;25<br>operands:&nbsp;26<br></td><td><a class=\"ProveItLink\" href=\"../../../../../../numbers/exponentiation/__pv_it/theorems/3f26d70bacb70b0305780b737e6508acb778a96c0/expr.ipynb\"><img src=\"../../../../../../numbers/exponentiation/__pv_it/theorems/3f26d70bacb70b0305780b737e6508acb778a96c0/expr.png\" style=\"display:inline;vertical-align:middle;\" /></a></td></tr>\n",
       "<tr><td>22</td><td>Operation</td><td>operator:&nbsp;31<br>operand:&nbsp;30<br></td><td><a class=\"ProveItLink\" href=\"../f94d0ed5d3a862f0e6b20e93c2df205b7dcb35570/expr.ipynb\"><img src=\"../f94d0ed5d3a862f0e6b20e93c2df205b7dcb35570/expr.png\" style=\"display:inline;vertical-align:middle;\" /></a></td></tr>\n",
       "<tr><td>23</td><td>Literal</td><td></td><td><a class=\"ProveItLink\" href=\"../../../../../../numbers/number_sets/complex_numbers/__pv_it/common/d18a028138f659eda00de597c28a3447fe87eb100/expr.ipynb\"><img src=\"../../../../../../numbers/number_sets/complex_numbers/__pv_it/common/d18a028138f659eda00de597c28a3447fe87eb100/expr.png\" style=\"display:inline;vertical-align:middle;\" /></a></td></tr>\n",
       "<tr><td>24</td><td>Literal</td><td></td><td><a class=\"ProveItLink\" href=\"../../../../../../numbers/numerals/__pv_it/common/dd4e19e8b134dfb293470ea55fe3589b0ab9f8040/expr.ipynb\"><img src=\"../../../../../../numbers/numerals/__pv_it/common/dd4e19e8b134dfb293470ea55fe3589b0ab9f8040/expr.png\" style=\"display:inline;vertical-align:middle;\" /></a></td></tr>\n",
       "<tr><td>25</td><td>Literal</td><td></td><td><a class=\"ProveItLink\" href=\"../../../../../../numbers/exponentiation/__pv_it/common/0ac37aca1e54c35c5cda09672df32d4f69f1f3020/expr.ipynb\"><img src=\"../../../../../../numbers/exponentiation/__pv_it/common/0ac37aca1e54c35c5cda09672df32d4f69f1f3020/expr.png\" style=\"display:inline;vertical-align:middle;\" /></a></td></tr>\n",
       "<tr><td>26</td><td>ExprTuple</td><td>28, 29</td><td><a class=\"ProveItLink\" href=\"../../../../../../numbers/exponentiation/__pv_it/theorems/471e850ccc16f5997a7ac48ffff46f61d15d0d5f0/expr.ipynb\"><img src=\"../../../../../../numbers/exponentiation/__pv_it/theorems/471e850ccc16f5997a7ac48ffff46f61d15d0d5f0/expr.png\" style=\"display:inline;vertical-align:middle;\" /></a></td></tr>\n",
       "<tr><td>27</td><td>ExprTuple</td><td>30</td><td><a class=\"ProveItLink\" href=\"../f9a173024061e9545be0e297c4307cf0e51df71a0/expr.ipynb\"><img src=\"../f9a173024061e9545be0e297c4307cf0e51df71a0/expr.png\" style=\"display:inline;vertical-align:middle;\" /></a></td></tr>\n",
       "<tr><td>28</td><td>Variable</td><td></td><td><a class=\"ProveItLink\" href=\"../../../../../../__pv_it/common/c06c606ec12678c58933ac85412ecadc2ae28be60/expr.ipynb\"><img src=\"../../../../../../__pv_it/common/c06c606ec12678c58933ac85412ecadc2ae28be60/expr.png\" style=\"display:inline;vertical-align:middle;\" /></a></td></tr>\n",
       "<tr><td>29</td><td>Operation</td><td>operator:&nbsp;31<br>operand:&nbsp;35<br></td><td><a class=\"ProveItLink\" href=\"../../../../../../numbers/exponentiation/__pv_it/theorems/c216ece09f1f63dbbdaff75b3e8b87340ddef1330/expr.ipynb\"><img src=\"../../../../../../numbers/exponentiation/__pv_it/theorems/c216ece09f1f63dbbdaff75b3e8b87340ddef1330/expr.png\" style=\"display:inline;vertical-align:middle;\" /></a></td></tr>\n",
       "<tr><td>30</td><td>Operation</td><td>operator:&nbsp;33<br>operands:&nbsp;34<br></td><td><a class=\"ProveItLink\" href=\"../ed48a3b1ff33f97155c64b37f4f1bf241c8010dd0/expr.ipynb\"><img src=\"../ed48a3b1ff33f97155c64b37f4f1bf241c8010dd0/expr.png\" style=\"display:inline;vertical-align:middle;\" /></a></td></tr>\n",
       "<tr><td>31</td><td>Literal</td><td></td><td><a class=\"ProveItLink\" href=\"../../../../../../numbers/negation/__pv_it/common/221b3c4d1770ee9051b7c044c3f9ec61196fc34b0/expr.ipynb\"><img src=\"../../../../../../numbers/negation/__pv_it/common/221b3c4d1770ee9051b7c044c3f9ec61196fc34b0/expr.png\" style=\"display:inline;vertical-align:middle;\" /></a></td></tr>\n",
       "<tr><td>32</td><td>ExprTuple</td><td>35</td><td><a class=\"ProveItLink\" href=\"../../../../../../numbers/exponentiation/__pv_it/theorems/2172b6b5a562721cf67ce94593b8be1eb7f26c660/expr.ipynb\"><img src=\"../../../../../../numbers/exponentiation/__pv_it/theorems/2172b6b5a562721cf67ce94593b8be1eb7f26c660/expr.png\" style=\"display:inline;vertical-align:middle;\" /></a></td></tr>\n",
       "<tr><td>33</td><td>Literal</td><td></td><td><a class=\"ProveItLink\" href=\"../../../../../../numbers/multiplication/__pv_it/common/ed719cef37831779c16481533a4d380a2f95ab270/expr.ipynb\"><img src=\"../../../../../../numbers/multiplication/__pv_it/common/ed719cef37831779c16481533a4d380a2f95ab270/expr.png\" style=\"display:inline;vertical-align:middle;\" /></a></td></tr>\n",
       "<tr><td>34</td><td>ExprTuple</td><td>35, 36</td><td><a class=\"ProveItLink\" href=\"../7295f76bebef6ae7a4d7022b3de0f863aad35a0c0/expr.ipynb\"><img src=\"../7295f76bebef6ae7a4d7022b3de0f863aad35a0c0/expr.png\" style=\"display:inline;vertical-align:middle;\" /></a></td></tr>\n",
       "<tr><td>35</td><td>Variable</td><td></td><td><a class=\"ProveItLink\" href=\"../../../../../../__pv_it/common/195236b98c6c564a75b5dbada74b173bc52d5c3e0/expr.ipynb\"><img src=\"../../../../../../__pv_it/common/195236b98c6c564a75b5dbada74b173bc52d5c3e0/expr.png\" style=\"display:inline;vertical-align:middle;\" /></a></td></tr>\n",
       "<tr><td>36</td><td>Variable</td><td></td><td><a class=\"ProveItLink\" href=\"../../../../../../__pv_it/common/63b7c64bf9ec7a04ecc396c7a1670f3f12fb59490/expr.ipynb\"><img src=\"../../../../../../__pv_it/common/63b7c64bf9ec7a04ecc396c7a1670f3f12fb59490/expr.png\" style=\"display:inline;vertical-align:middle;\" /></a></td></tr>\n",
       "</table>\n"
      ],
      "text/plain": [
       "0. (a, b) -> {(a^{-b})^{k} = a^{-(b * k)} if a in Complex ,  b in Complex ,  a != 0.\n",
       "   core type: Lambda\n",
       "   parameters: 1\\n   body: 2\n",
       "1. (a, b)\n",
       "   core type: ExprTuple\n",
       "   sub-expressions: 28, 35\n",
       "2. {(a^{-b})^{k} = a^{-(b * k)} if a in Complex ,  b in Complex ,  a != 0.\n",
       "   core type: Conditional\n",
       "   value: 3\n",
       "   condition: 4\n",
       "3. (a^{-b})^{k} = a^{-(b * k)}\n",
       "   core type: Operation\n",
       "   operator: 5\n",
       "   operands: 6\n",
       "4. (a in Complex) and (b in Complex) and (a != 0)\n",
       "   core type: Operation\n",
       "   operator: 7\n",
       "   operands: 8\n",
       "5. =\n",
       "   core type: Literal\n",
       "   sub-expressions: \n",
       "6. ((a^{-b})^{k}, a^{-(b * k)})\n",
       "   core type: ExprTuple\n",
       "   sub-expressions: 9, 10\n",
       "7. and\n",
       "   core type: Literal\n",
       "   sub-expressions: \n",
       "8. (a in Complex, b in Complex, a != 0)\n",
       "   core type: ExprTuple\n",
       "   sub-expressions: 11, 12, 13\n",
       "9. (a^{-b})^{k}\n",
       "   core type: Operation\n",
       "   operator: 25\n",
       "   operands: 14\n",
       "10. a^{-(b * k)}\n",
       "    core type: Operation\n",
       "    operator: 25\n",
       "    operands: 15\n",
       "11. a in Complex\n",
       "    core type: Operation\n",
       "    operator: 17\n",
       "    operands: 16\n",
       "12. b in Complex\n",
       "    core type: Operation\n",
       "    operator: 17\n",
       "    operands: 18\n",
       "13. a != 0\n",
       "    core type: Operation\n",
       "    operator: 19\n",
       "    operands: 20\n",
       "14. (a^{-b}, k)\n",
       "    core type: ExprTuple\n",
       "    sub-expressions: 21, 36\n",
       "15. (a, -(b * k))\n",
       "    core type: ExprTuple\n",
       "    sub-expressions: 28, 22\n",
       "16. (a, Complex)\n",
       "    core type: ExprTuple\n",
       "    sub-expressions: 28, 23\n",
       "17. in\n",
       "    core type: Literal\n",
       "    sub-expressions: \n",
       "18. (b, Complex)\n",
       "    core type: ExprTuple\n",
       "    sub-expressions: 35, 23\n",
       "19. !=\n",
       "    core type: Literal\n",
       "    sub-expressions: \n",
       "20. (a, 0)\n",
       "    core type: ExprTuple\n",
       "    sub-expressions: 28, 24\n",
       "21. a^{-b}\n",
       "    core type: Operation\n",
       "    operator: 25\n",
       "    operands: 26\n",
       "22. -(b * k)\n",
       "    core type: Operation\n",
       "    operator: 31\n",
       "    operand: 30\n",
       "23. Complex\n",
       "    core type: Literal\n",
       "    sub-expressions: \n",
       "24. 0\n",
       "    core type: Literal\n",
       "    sub-expressions: \n",
       "25. Exp\n",
       "    core type: Literal\n",
       "    sub-expressions: \n",
       "26. (a, -b)\n",
       "    core type: ExprTuple\n",
       "    sub-expressions: 28, 29\n",
       "27. (b * k)\n",
       "    core type: ExprTuple\n",
       "    sub-expressions: 30\n",
       "28. a\n",
       "    core type: Variable\n",
       "    sub-expressions: \n",
       "29. -b\n",
       "    core type: Operation\n",
       "    operator: 31\n",
       "    operand: 35\n",
       "30. b * k\n",
       "    core type: Operation\n",
       "    operator: 33\n",
       "    operands: 34\n",
       "31. -\n",
       "    core type: Literal\n",
       "    sub-expressions: \n",
       "32. (b)\n",
       "    core type: ExprTuple\n",
       "    sub-expressions: 35\n",
       "33. *\n",
       "    core type: Literal\n",
       "    sub-expressions: \n",
       "34. (b, k)\n",
       "    core type: ExprTuple\n",
       "    sub-expressions: 35, 36\n",
       "35. b\n",
       "    core type: Variable\n",
       "    sub-expressions: \n",
       "36. k\n",
       "    core type: Variable\n",
       "    sub-expressions: "
      ]
     },
     "metadata": {},
     "output_type": "display_data"
    }
   ],
   "source": [
    "# display the expression information\n",
    "stored_expr.expr_info()"
   ]
  },
  {
   "cell_type": "code",
   "execution_count": null,
   "metadata": {},
   "outputs": [],
   "source": []
  }
 ],
 "metadata": {
  "kernelspec": {
   "display_name": "Python 3",
   "language": "python",
   "name": "python3"
  }
 },
 "nbformat": 4,
 "nbformat_minor": 0
}