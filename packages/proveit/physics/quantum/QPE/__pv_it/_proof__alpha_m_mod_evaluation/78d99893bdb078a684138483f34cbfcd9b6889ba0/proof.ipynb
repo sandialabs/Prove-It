{
 "cells": [
  {
   "cell_type": "markdown",
   "metadata": {},
   "source": [
    "Show the Proof\n",
    "========"
   ]
  },
  {
   "cell_type": "code",
   "execution_count": 1,
   "metadata": {},
   "outputs": [
    {
     "data": {
      "text/html": [
       "<table><tr><th>&nbsp;</th><th>step type</th><th>requirements</th><th>statement</th></tr>\n",
       "<tr><td><a name=\"proveit.physics.quantum.QPE._proof__alpha_m_mod_evaluation.78d99893bdb078a684138483f34cbfcd9b6889ba0_step0\">0</a></td><td>instantiation</td><td><a href=\"#proveit.physics.quantum.QPE._proof__alpha_m_mod_evaluation.78d99893bdb078a684138483f34cbfcd9b6889ba0_step1\">1</a>, <a href=\"#proveit.physics.quantum.QPE._proof__alpha_m_mod_evaluation.78d99893bdb078a684138483f34cbfcd9b6889ba0_step2\">2</a>, <a href=\"#proveit.physics.quantum.QPE._proof__alpha_m_mod_evaluation.78d99893bdb078a684138483f34cbfcd9b6889ba0_step3\">3</a></td><td><span style=\"font-size:20px;\"><a class=\"ProveItLink\" href=\"../../theorems/2f5faeeeee8eb4ecce80df00c7a8d0d93c0284040/expr.ipynb\"><img src=\"../../theorems/2f5faeeeee8eb4ecce80df00c7a8d0d93c0284040/expr.png\" style=\"display:inline;vertical-align:middle;\" /></a> <a class=\"ProveItLink\" href=\"proof.ipynb\" style=\"text-decoration: none\">&nbsp;&#x22A2;&nbsp;&nbsp;</a><a class=\"ProveItLink\" href=\"../7d13b1df5d9e7c1f14d5c1b53a7f52e700f4d4220/expr.ipynb\"><img src=\"../7d13b1df5d9e7c1f14d5c1b53a7f52e700f4d4220/expr.png\" style=\"display:inline;vertical-align:middle;\" /></a></span></td></tr>\n",
       "<tr><td>&nbsp;</td><td colspan=4 style=\"text-align:left\"><span style=\"font-size:20px;\"><a class=\"ProveItLink\" href=\"../../../../../../__pv_it/common/c06c606ec12678c58933ac85412ecadc2ae28be60/expr.ipynb\"><img src=\"../../../../../../__pv_it/common/c06c606ec12678c58933ac85412ecadc2ae28be60/expr.png\" style=\"display:inline;vertical-align:middle;\" /></a> : <a class=\"ProveItLink\" href=\"../../../../../../__pv_it/common/674a03b9c3ca221b3aabd5636837b31528ff33830/expr.ipynb\"><img src=\"../../../../../../__pv_it/common/674a03b9c3ca221b3aabd5636837b31528ff33830/expr.png\" style=\"display:inline;vertical-align:middle;\" /></a>, <a class=\"ProveItLink\" href=\"../../../../../../__pv_it/common/195236b98c6c564a75b5dbada74b173bc52d5c3e0/expr.ipynb\"><img src=\"../../../../../../__pv_it/common/195236b98c6c564a75b5dbada74b173bc52d5c3e0/expr.png\" style=\"display:inline;vertical-align:middle;\" /></a> : <a class=\"ProveItLink\" href=\"../../common/18332e4e627d64eadf0d81efed19ae3e9d007d510/expr.ipynb\"><img src=\"../../common/18332e4e627d64eadf0d81efed19ae3e9d007d510/expr.png\" style=\"display:inline;vertical-align:middle;\" /></a></span></td></tr><tr><td><a name=\"proveit.physics.quantum.QPE._proof__alpha_m_mod_evaluation.78d99893bdb078a684138483f34cbfcd9b6889ba0_step1\">1</a></td><td>theorem</td><td></td><td><span style=\"font-size:20px;\"> <a class=\"ProveItLink\" href=\"../../../../../../numbers/modular/_theory_nbs_/proofs/mod_natpos_in_interval/thm_proof.ipynb\" style=\"text-decoration: none\">&nbsp;&#x22A2;&nbsp;&nbsp;</a><a class=\"ProveItLink\" href=\"../../../../../../numbers/modular/__pv_it/theorems/d7344fa6d9a26ffb302a69dffba8327819dd13850/expr.ipynb\"><img src=\"../../../../../../numbers/modular/__pv_it/theorems/d7344fa6d9a26ffb302a69dffba8327819dd13850/expr.png\" style=\"display:inline;vertical-align:middle;\" /></a></span></td></tr>\n",
       "<tr><td>&nbsp;</td><td colspan=4 style-\"text-align:left\"><a class=\"ProveItLink\" href=\"../../../../../../numbers/modular/_theory_nbs_/proofs/mod_natpos_in_interval/thm_proof.ipynb\">proveit.numbers.modular.mod_natpos_in_interval</a></td></tr><tr><td><a name=\"proveit.physics.quantum.QPE._proof__alpha_m_mod_evaluation.78d99893bdb078a684138483f34cbfcd9b6889ba0_step2\">2</a></td><td>assumption</td><td></td><td><span style=\"font-size:20px;\"><a class=\"ProveItLink\" href=\"../../theorems/2f5faeeeee8eb4ecce80df00c7a8d0d93c0284040/expr.ipynb\"><img src=\"../../theorems/2f5faeeeee8eb4ecce80df00c7a8d0d93c0284040/expr.png\" style=\"display:inline;vertical-align:middle;\" /></a> <a class=\"ProveItLink\" href=\"../28f325143c8a231319f5743773660858a40f76510/proof.ipynb\" style=\"text-decoration: none\">&nbsp;&#x22A2;&nbsp;&nbsp;</a><a class=\"ProveItLink\" href=\"../../theorems/2f5faeeeee8eb4ecce80df00c7a8d0d93c0284040/expr.ipynb\"><img src=\"../../theorems/2f5faeeeee8eb4ecce80df00c7a8d0d93c0284040/expr.png\" style=\"display:inline;vertical-align:middle;\" /></a></span></td></tr>\n",
       "<tr><td><a name=\"proveit.physics.quantum.QPE._proof__alpha_m_mod_evaluation.78d99893bdb078a684138483f34cbfcd9b6889ba0_step3\">3</a></td><td>theorem</td><td></td><td><span style=\"font-size:20px;\"> <a class=\"ProveItLink\" href=\"../../../_theory_nbs_/proofs/_two_pow_t_is_nat_pos/thm_proof.ipynb\" style=\"text-decoration: none\">&nbsp;&#x22A2;&nbsp;&nbsp;</a><a class=\"ProveItLink\" href=\"../../theorems/a2ce7dd1709eee58d9638162058f196f35f493ea0/expr.ipynb\"><img src=\"../../theorems/a2ce7dd1709eee58d9638162058f196f35f493ea0/expr.png\" style=\"display:inline;vertical-align:middle;\" /></a></span></td></tr>\n",
       "<tr><td>&nbsp;</td><td colspan=4 style-\"text-align:left\"><a class=\"ProveItLink\" href=\"../../../_theory_nbs_/proofs/_two_pow_t_is_nat_pos/thm_proof.ipynb\">proveit.physics.quantum.QPE._two_pow_t_is_nat_pos</a></td></tr></table>"
      ],
      "text/plain": [
       "<proveit._core_.proof._ShowProof at 0x7f7ce3339d68>"
      ]
     },
     "execution_count": 1,
     "metadata": {},
     "output_type": "execute_result"
    }
   ],
   "source": [
    "import proveit\n",
    "# Automation is not needed when only showing a stored proof:\n",
    "proveit.defaults.automation = False # This will speed things up.\n",
    "proveit.defaults.inline_pngs = False # Makes files smaller.\n",
    "%show_proof"
   ]
  },
  {
   "cell_type": "code",
   "execution_count": null,
   "metadata": {},
   "outputs": [],
   "source": []
  }
 ],
 "metadata": {
  "kernelspec": {
   "display_name": "Python 3",
   "language": "python",
   "name": "python3"
  }
 },
 "nbformat": 4,
 "nbformat_minor": 0
}