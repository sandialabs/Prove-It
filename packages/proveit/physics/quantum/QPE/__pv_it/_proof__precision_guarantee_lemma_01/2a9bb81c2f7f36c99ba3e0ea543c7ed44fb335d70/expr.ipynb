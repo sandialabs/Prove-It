{
 "cells": [
  {
   "cell_type": "markdown",
   "metadata": {},
   "source": [
    "Expression of type <a class=\"ProveItLink\" href=\"../../../../../../../../doc/html/api/proveit.logic.Equals.html\">Equals</a>\n",
    "=======================\n",
    "# from the theory of <a class=\"ProveItLink\" href=\"../../../_theory_nbs_/theory.ipynb\">proveit.physics.quantum.QPE</a>"
   ]
  },
  {
   "cell_type": "code",
   "execution_count": 1,
   "metadata": {},
   "outputs": [],
   "source": [
    "import proveit\n",
    "# Automation is not needed when building an expression:\n",
    "proveit.defaults.automation = False # This will speed things up.\n",
    "proveit.defaults.inline_pngs = False # Makes files smaller.\n",
    "%load_expr # Load the stored expression as 'stored_expr'\n",
    "# import Expression classes needed to build the expression\n",
    "from proveit.logic import Equals\n",
    "from proveit.numbers import Add, Exp, Neg, frac, one, subtract, two\n",
    "from proveit.physics.quantum.QPE import _eps"
   ]
  },
  {
   "cell_type": "code",
   "execution_count": 2,
   "metadata": {},
   "outputs": [
    {
     "data": {
      "text/html": [
       "<strong id=\"expr\">expr:</strong> <a class=\"ProveItLink\" href=\"expr.ipynb\"><img src=\"expr.png\" style=\"display:inline;vertical-align:middle;\" /></a><br>"
      ],
      "text/plain": [
       "<IPython.core.display.HTML object>"
      ]
     },
     "metadata": {},
     "output_type": "display_data"
    }
   ],
   "source": [
    "# build up the expression from sub-expressions\n",
    "sub_expr1 = Add(two, frac(one, _eps))\n",
    "sub_expr2 = Exp(sub_expr1, two)\n",
    "expr = Equals(subtract(Neg(frac(sub_expr1, sub_expr2)), frac(one, sub_expr2)), Neg(frac(Add(sub_expr1, one), sub_expr2)))"
   ]
  },
  {
   "cell_type": "code",
   "execution_count": 3,
   "metadata": {},
   "outputs": [
    {
     "name": "stdout",
     "output_type": "stream",
     "text": [
      "Passed sanity check: expr matches stored_expr\n"
     ]
    }
   ],
   "source": [
    "# check that the built expression is the same as the stored expression\n",
    "assert expr == stored_expr\n",
    "assert expr._style_id == stored_expr._style_id\n",
    "print(\"Passed sanity check: expr matches stored_expr\")"
   ]
  },
  {
   "cell_type": "code",
   "execution_count": 4,
   "metadata": {},
   "outputs": [
    {
     "name": "stdout",
     "output_type": "stream",
     "text": [
      "\\left(-\\frac{2 + \\frac{1}{\\epsilon}}{\\left(2 + \\frac{1}{\\epsilon}\\right)^{2}} - \\frac{1}{\\left(2 + \\frac{1}{\\epsilon}\\right)^{2}}\\right) = \\left(-\\frac{\\left(2 + \\frac{1}{\\epsilon}\\right) + 1}{\\left(2 + \\frac{1}{\\epsilon}\\right)^{2}}\\right)\n"
     ]
    }
   ],
   "source": [
    "# Show the LaTeX representation of the expression for convenience if you need it.\n",
    "print(stored_expr.latex())"
   ]
  },
  {
   "cell_type": "code",
   "execution_count": 5,
   "metadata": {},
   "outputs": [
    {
     "data": {
      "text/html": [
       "<table>\n",
       "<tr><th>name</th><th>description</th><th>default</th><th>current value</th><th>related methods</th></tr><tr><td>operation</td><td>'infix' or 'function' style formatting</td><td>infix</td><td>infix</td><td></td></tr>\n",
       "<tr><td>wrap_positions</td><td>position(s) at which wrapping is to occur; '2 n - 1' is after the nth operand, '2 n' is after the nth operation.</td><td>()</td><td>()</td><td>('with_wrapping_at', 'with_wrap_before_operator', 'with_wrap_after_operator', 'without_wrapping', 'wrap_positions')</td></tr>\n",
       "<tr><td>justification</td><td>if any wrap positions are set, justify to the 'left', 'center', or 'right'</td><td>center</td><td>center</td><td>('with_justification',)</td></tr>\n",
       "<tr><td>direction</td><td>Direction of the relation (normal or reversed)</td><td>normal</td><td>normal</td><td>('with_direction_reversed', 'is_reversed')</td></tr>\n",
       "</table>\n"
      ],
      "text/plain": [
       "style name: operation\n",
       "description: 'infix' or 'function' style formatting\n",
       "default: infix\n",
       "current value: infix\n",
       "related methods: ()\n",
       "style name: wrap_positions\n",
       "description: position(s) at which wrapping is to occur; '2 n - 1' is after the nth operand, '2 n' is after the nth operation.\n",
       "default: ()\n",
       "current value: ()\n",
       "related methods: ('with_wrapping_at', 'with_wrap_before_operator', 'with_wrap_after_operator', 'without_wrapping', 'wrap_positions')\n",
       "style name: justification\n",
       "description: if any wrap positions are set, justify to the 'left', 'center', or 'right'\n",
       "default: center\n",
       "current value: center\n",
       "related methods: ('with_justification',)\n",
       "style name: direction\n",
       "description: Direction of the relation (normal or reversed)\n",
       "default: normal\n",
       "current value: normal\n",
       "related methods: ('with_direction_reversed', 'is_reversed')"
      ]
     },
     "metadata": {},
     "output_type": "display_data"
    }
   ],
   "source": [
    "stored_expr.style_options()"
   ]
  },
  {
   "cell_type": "code",
   "execution_count": 6,
   "metadata": {},
   "outputs": [
    {
     "data": {
      "text/html": [
       "<table><tr><th>&nbsp;</th><th>core type</th><th>sub-expressions</th><th>expression</th></tr>\n",
       "<tr><td>0</td><td>Operation</td><td>operator:&nbsp;1<br>operands:&nbsp;2<br></td><td><a class=\"ProveItLink\" href=\"expr.ipynb\"><img src=\"expr.png\" style=\"display:inline;vertical-align:middle;\" /></a></td></tr>\n",
       "<tr><td>1</td><td>Literal</td><td></td><td><a class=\"ProveItLink\" href=\"../../../../../../logic/equality/__pv_it/common/fb96dc12b2aa8801dda64d0132b396c63d1502bb0/expr.ipynb\"><img src=\"../../../../../../logic/equality/__pv_it/common/fb96dc12b2aa8801dda64d0132b396c63d1502bb0/expr.png\" style=\"display:inline;vertical-align:middle;\" /></a></td></tr>\n",
       "<tr><td>2</td><td>ExprTuple</td><td>3, 4</td><td><a class=\"ProveItLink\" href=\"../2ba6a63f31a6c846bf3ea29bf7111becd20514540/expr.ipynb\"><img src=\"../2ba6a63f31a6c846bf3ea29bf7111becd20514540/expr.png\" style=\"display:inline;vertical-align:middle;\" /></a></td></tr>\n",
       "<tr><td>3</td><td>Operation</td><td>operator:&nbsp;24<br>operands:&nbsp;5<br></td><td><a class=\"ProveItLink\" href=\"../116f24ba91c803410db06748be06432988dc952d0/expr.ipynb\"><img src=\"../116f24ba91c803410db06748be06432988dc952d0/expr.png\" style=\"display:inline;vertical-align:middle;\" /></a></td></tr>\n",
       "<tr><td>4</td><td>Operation</td><td>operator:&nbsp;11<br>operand:&nbsp;9<br></td><td><a class=\"ProveItLink\" href=\"../a50a4b448bb8fdeea9bbe52dd1e525b9d15d92110/expr.ipynb\"><img src=\"../a50a4b448bb8fdeea9bbe52dd1e525b9d15d92110/expr.png\" style=\"display:inline;vertical-align:middle;\" /></a></td></tr>\n",
       "<tr><td>5</td><td>ExprTuple</td><td>7, 8</td><td><a class=\"ProveItLink\" href=\"../8fcdec9a10bb24a766db06b4770201527040ba930/expr.ipynb\"><img src=\"../8fcdec9a10bb24a766db06b4770201527040ba930/expr.png\" style=\"display:inline;vertical-align:middle;\" /></a></td></tr>\n",
       "<tr><td>6</td><td>ExprTuple</td><td>9</td><td><a class=\"ProveItLink\" href=\"../e38fa1eb3aa50e472a695b53645e2635adc8a5090/expr.ipynb\"><img src=\"../e38fa1eb3aa50e472a695b53645e2635adc8a5090/expr.png\" style=\"display:inline;vertical-align:middle;\" /></a></td></tr>\n",
       "<tr><td>7</td><td>Operation</td><td>operator:&nbsp;11<br>operand:&nbsp;14<br></td><td><a class=\"ProveItLink\" href=\"../92be1bfa85220df47f13f00960c117ef654f5e760/expr.ipynb\"><img src=\"../92be1bfa85220df47f13f00960c117ef654f5e760/expr.png\" style=\"display:inline;vertical-align:middle;\" /></a></td></tr>\n",
       "<tr><td>8</td><td>Operation</td><td>operator:&nbsp;11<br>operand:&nbsp;15<br></td><td><a class=\"ProveItLink\" href=\"../78d0a24d5260b39c7f0a763b237cbf85cb4c1f1f0/expr.ipynb\"><img src=\"../78d0a24d5260b39c7f0a763b237cbf85cb4c1f1f0/expr.png\" style=\"display:inline;vertical-align:middle;\" /></a></td></tr>\n",
       "<tr><td>9</td><td>Operation</td><td>operator:&nbsp;28<br>operands:&nbsp;13<br></td><td><a class=\"ProveItLink\" href=\"../56bc5eff89d3a9f4b1fb7130d407c42def6d3de10/expr.ipynb\"><img src=\"../56bc5eff89d3a9f4b1fb7130d407c42def6d3de10/expr.png\" style=\"display:inline;vertical-align:middle;\" /></a></td></tr>\n",
       "<tr><td>10</td><td>ExprTuple</td><td>14</td><td><a class=\"ProveItLink\" href=\"../f7e0f263cd6f345f75637be3583b059fbd68f5990/expr.ipynb\"><img src=\"../f7e0f263cd6f345f75637be3583b059fbd68f5990/expr.png\" style=\"display:inline;vertical-align:middle;\" /></a></td></tr>\n",
       "<tr><td>11</td><td>Literal</td><td></td><td><a class=\"ProveItLink\" href=\"../../../../../../numbers/negation/__pv_it/common/221b3c4d1770ee9051b7c044c3f9ec61196fc34b0/expr.ipynb\"><img src=\"../../../../../../numbers/negation/__pv_it/common/221b3c4d1770ee9051b7c044c3f9ec61196fc34b0/expr.png\" style=\"display:inline;vertical-align:middle;\" /></a></td></tr>\n",
       "<tr><td>12</td><td>ExprTuple</td><td>15</td><td><a class=\"ProveItLink\" href=\"../1a47838f2a37d49b6899588966c49cd3ebf395d30/expr.ipynb\"><img src=\"../1a47838f2a37d49b6899588966c49cd3ebf395d30/expr.png\" style=\"display:inline;vertical-align:middle;\" /></a></td></tr>\n",
       "<tr><td>13</td><td>ExprTuple</td><td>16, 20</td><td><a class=\"ProveItLink\" href=\"../67baa1e13630087df7f867ae57c04539294aecae0/expr.ipynb\"><img src=\"../67baa1e13630087df7f867ae57c04539294aecae0/expr.png\" style=\"display:inline;vertical-align:middle;\" /></a></td></tr>\n",
       "<tr><td>14</td><td>Operation</td><td>operator:&nbsp;28<br>operands:&nbsp;17<br></td><td><a class=\"ProveItLink\" href=\"../7aeb7543eae00eb59fecd46e9e6bc86c7a6faca50/expr.ipynb\"><img src=\"../7aeb7543eae00eb59fecd46e9e6bc86c7a6faca50/expr.png\" style=\"display:inline;vertical-align:middle;\" /></a></td></tr>\n",
       "<tr><td>15</td><td>Operation</td><td>operator:&nbsp;28<br>operands:&nbsp;18<br></td><td><a class=\"ProveItLink\" href=\"../9ace2d6c3eba2cc2db66120de6d676913ce722460/expr.ipynb\"><img src=\"../9ace2d6c3eba2cc2db66120de6d676913ce722460/expr.png\" style=\"display:inline;vertical-align:middle;\" /></a></td></tr>\n",
       "<tr><td>16</td><td>Operation</td><td>operator:&nbsp;24<br>operands:&nbsp;19<br></td><td><a class=\"ProveItLink\" href=\"../bd84e9b3968655e104fc14c5b7753d8db88930870/expr.ipynb\"><img src=\"../bd84e9b3968655e104fc14c5b7753d8db88930870/expr.png\" style=\"display:inline;vertical-align:middle;\" /></a></td></tr>\n",
       "<tr><td>17</td><td>ExprTuple</td><td>23, 20</td><td><a class=\"ProveItLink\" href=\"../cf49b9dd2a1f31b86a3b76aaf7adee779f1bad2f0/expr.ipynb\"><img src=\"../cf49b9dd2a1f31b86a3b76aaf7adee779f1bad2f0/expr.png\" style=\"display:inline;vertical-align:middle;\" /></a></td></tr>\n",
       "<tr><td>18</td><td>ExprTuple</td><td>30, 20</td><td><a class=\"ProveItLink\" href=\"../4436781e85bd92a8ded12da436d1ca7b9b5644f70/expr.ipynb\"><img src=\"../4436781e85bd92a8ded12da436d1ca7b9b5644f70/expr.png\" style=\"display:inline;vertical-align:middle;\" /></a></td></tr>\n",
       "<tr><td>19</td><td>ExprTuple</td><td>23, 30</td><td><a class=\"ProveItLink\" href=\"../a6a357e28514f27665fc7a4b26441b4947ec78090/expr.ipynb\"><img src=\"../a6a357e28514f27665fc7a4b26441b4947ec78090/expr.png\" style=\"display:inline;vertical-align:middle;\" /></a></td></tr>\n",
       "<tr><td>20</td><td>Operation</td><td>operator:&nbsp;21<br>operands:&nbsp;22<br></td><td><a class=\"ProveItLink\" href=\"../7e71339b094f5209e726a4ec7b29b4912dcf95930/expr.ipynb\"><img src=\"../7e71339b094f5209e726a4ec7b29b4912dcf95930/expr.png\" style=\"display:inline;vertical-align:middle;\" /></a></td></tr>\n",
       "<tr><td>21</td><td>Literal</td><td></td><td><a class=\"ProveItLink\" href=\"../../../../../../numbers/exponentiation/__pv_it/common/0ac37aca1e54c35c5cda09672df32d4f69f1f3020/expr.ipynb\"><img src=\"../../../../../../numbers/exponentiation/__pv_it/common/0ac37aca1e54c35c5cda09672df32d4f69f1f3020/expr.png\" style=\"display:inline;vertical-align:middle;\" /></a></td></tr>\n",
       "<tr><td>22</td><td>ExprTuple</td><td>23, 26</td><td><a class=\"ProveItLink\" href=\"../d677c5be0137e22b9708dda6e3ddd3065150ca120/expr.ipynb\"><img src=\"../d677c5be0137e22b9708dda6e3ddd3065150ca120/expr.png\" style=\"display:inline;vertical-align:middle;\" /></a></td></tr>\n",
       "<tr><td>23</td><td>Operation</td><td>operator:&nbsp;24<br>operands:&nbsp;25<br></td><td><a class=\"ProveItLink\" href=\"../062e4969fe07b177da41c7972b29d3a293e3c3650/expr.ipynb\"><img src=\"../062e4969fe07b177da41c7972b29d3a293e3c3650/expr.png\" style=\"display:inline;vertical-align:middle;\" /></a></td></tr>\n",
       "<tr><td>24</td><td>Literal</td><td></td><td><a class=\"ProveItLink\" href=\"../../../../../../numbers/addition/__pv_it/common/4b7effaab3619a1c2c38fe2dee8601df8ec714590/expr.ipynb\"><img src=\"../../../../../../numbers/addition/__pv_it/common/4b7effaab3619a1c2c38fe2dee8601df8ec714590/expr.png\" style=\"display:inline;vertical-align:middle;\" /></a></td></tr>\n",
       "<tr><td>25</td><td>ExprTuple</td><td>26, 27</td><td><a class=\"ProveItLink\" href=\"../e3a24dd994cc54ff2f973032911ad759d08daf4e0/expr.ipynb\"><img src=\"../e3a24dd994cc54ff2f973032911ad759d08daf4e0/expr.png\" style=\"display:inline;vertical-align:middle;\" /></a></td></tr>\n",
       "<tr><td>26</td><td>Literal</td><td></td><td><a class=\"ProveItLink\" href=\"../../../../../../numbers/numerals/__pv_it/common/af4aab8a07465db063742696e006d04670f30cf10/expr.ipynb\"><img src=\"../../../../../../numbers/numerals/__pv_it/common/af4aab8a07465db063742696e006d04670f30cf10/expr.png\" style=\"display:inline;vertical-align:middle;\" /></a></td></tr>\n",
       "<tr><td>27</td><td>Operation</td><td>operator:&nbsp;28<br>operands:&nbsp;29<br></td><td><a class=\"ProveItLink\" href=\"../3b1599ffed379188b72b8aa00d4eb3fe05c4f1090/expr.ipynb\"><img src=\"../3b1599ffed379188b72b8aa00d4eb3fe05c4f1090/expr.png\" style=\"display:inline;vertical-align:middle;\" /></a></td></tr>\n",
       "<tr><td>28</td><td>Literal</td><td></td><td><a class=\"ProveItLink\" href=\"../../../../../../numbers/division/__pv_it/common/a2a633e1e3c749fb1f2692466b287b6348c5de840/expr.ipynb\"><img src=\"../../../../../../numbers/division/__pv_it/common/a2a633e1e3c749fb1f2692466b287b6348c5de840/expr.png\" style=\"display:inline;vertical-align:middle;\" /></a></td></tr>\n",
       "<tr><td>29</td><td>ExprTuple</td><td>30, 31</td><td><a class=\"ProveItLink\" href=\"../9e9714ca92fbcd1f2d2715f3be18193d34c8dfda0/expr.ipynb\"><img src=\"../9e9714ca92fbcd1f2d2715f3be18193d34c8dfda0/expr.png\" style=\"display:inline;vertical-align:middle;\" /></a></td></tr>\n",
       "<tr><td>30</td><td>Literal</td><td></td><td><a class=\"ProveItLink\" href=\"../../../../../../numbers/numerals/__pv_it/common/682157d4892d216d9e5626ed533aff9b56b9506e0/expr.ipynb\"><img src=\"../../../../../../numbers/numerals/__pv_it/common/682157d4892d216d9e5626ed533aff9b56b9506e0/expr.png\" style=\"display:inline;vertical-align:middle;\" /></a></td></tr>\n",
       "<tr><td>31</td><td>Literal</td><td></td><td><a class=\"ProveItLink\" href=\"../../common/485907859be40bef8e8f7cdf5626e806953b47db0/expr.ipynb\"><img src=\"../../common/485907859be40bef8e8f7cdf5626e806953b47db0/expr.png\" style=\"display:inline;vertical-align:middle;\" /></a></td></tr>\n",
       "</table>\n"
      ],
      "text/plain": [
       "0. (-((2 + (1 / eps)) / (2 + (1 / eps))^{2}) - (1 / (2 + (1 / eps))^{2})) = (-(((2 + (1 / eps)) + 1) / (2 + (1 / eps))^{2}))\n",
       "   core type: Operation\n",
       "   operator: 1\n",
       "   operands: 2\n",
       "1. =\n",
       "   core type: Literal\n",
       "   sub-expressions: \n",
       "2. (-((2 + (1 / eps)) / (2 + (1 / eps))^{2}) - (1 / (2 + (1 / eps))^{2}), -(((2 + (1 / eps)) + 1) / (2 + (1 / eps))^{2}))\n",
       "   core type: ExprTuple\n",
       "   sub-expressions: 3, 4\n",
       "3. -((2 + (1 / eps)) / (2 + (1 / eps))^{2}) - (1 / (2 + (1 / eps))^{2})\n",
       "   core type: Operation\n",
       "   operator: 24\n",
       "   operands: 5\n",
       "4. -(((2 + (1 / eps)) + 1) / (2 + (1 / eps))^{2})\n",
       "   core type: Operation\n",
       "   operator: 11\n",
       "   operand: 9\n",
       "5. (-((2 + (1 / eps)) / (2 + (1 / eps))^{2}), -(1 / (2 + (1 / eps))^{2}))\n",
       "   core type: ExprTuple\n",
       "   sub-expressions: 7, 8\n",
       "6. (((2 + (1 / eps)) + 1) / (2 + (1 / eps))^{2})\n",
       "   core type: ExprTuple\n",
       "   sub-expressions: 9\n",
       "7. -((2 + (1 / eps)) / (2 + (1 / eps))^{2})\n",
       "   core type: Operation\n",
       "   operator: 11\n",
       "   operand: 14\n",
       "8. -(1 / (2 + (1 / eps))^{2})\n",
       "   core type: Operation\n",
       "   operator: 11\n",
       "   operand: 15\n",
       "9. ((2 + (1 / eps)) + 1) / (2 + (1 / eps))^{2}\n",
       "   core type: Operation\n",
       "   operator: 28\n",
       "   operands: 13\n",
       "10. ((2 + (1 / eps)) / (2 + (1 / eps))^{2})\n",
       "    core type: ExprTuple\n",
       "    sub-expressions: 14\n",
       "11. -\n",
       "    core type: Literal\n",
       "    sub-expressions: \n",
       "12. (1 / (2 + (1 / eps))^{2})\n",
       "    core type: ExprTuple\n",
       "    sub-expressions: 15\n",
       "13. ((2 + (1 / eps)) + 1, (2 + (1 / eps))^{2})\n",
       "    core type: ExprTuple\n",
       "    sub-expressions: 16, 20\n",
       "14. (2 + (1 / eps)) / (2 + (1 / eps))^{2}\n",
       "    core type: Operation\n",
       "    operator: 28\n",
       "    operands: 17\n",
       "15. 1 / (2 + (1 / eps))^{2}\n",
       "    core type: Operation\n",
       "    operator: 28\n",
       "    operands: 18\n",
       "16. (2 + (1 / eps)) + 1\n",
       "    core type: Operation\n",
       "    operator: 24\n",
       "    operands: 19\n",
       "17. (2 + (1 / eps), (2 + (1 / eps))^{2})\n",
       "    core type: ExprTuple\n",
       "    sub-expressions: 23, 20\n",
       "18. (1, (2 + (1 / eps))^{2})\n",
       "    core type: ExprTuple\n",
       "    sub-expressions: 30, 20\n",
       "19. (2 + (1 / eps), 1)\n",
       "    core type: ExprTuple\n",
       "    sub-expressions: 23, 30\n",
       "20. (2 + (1 / eps))^{2}\n",
       "    core type: Operation\n",
       "    operator: 21\n",
       "    operands: 22\n",
       "21. Exp\n",
       "    core type: Literal\n",
       "    sub-expressions: \n",
       "22. (2 + (1 / eps), 2)\n",
       "    core type: ExprTuple\n",
       "    sub-expressions: 23, 26\n",
       "23. 2 + (1 / eps)\n",
       "    core type: Operation\n",
       "    operator: 24\n",
       "    operands: 25\n",
       "24. +\n",
       "    core type: Literal\n",
       "    sub-expressions: \n",
       "25. (2, 1 / eps)\n",
       "    core type: ExprTuple\n",
       "    sub-expressions: 26, 27\n",
       "26. 2\n",
       "    core type: Literal\n",
       "    sub-expressions: \n",
       "27. 1 / eps\n",
       "    core type: Operation\n",
       "    operator: 28\n",
       "    operands: 29\n",
       "28. /\n",
       "    core type: Literal\n",
       "    sub-expressions: \n",
       "29. (1, eps)\n",
       "    core type: ExprTuple\n",
       "    sub-expressions: 30, 31\n",
       "30. 1\n",
       "    core type: Literal\n",
       "    sub-expressions: \n",
       "31. eps\n",
       "    core type: Literal\n",
       "    sub-expressions: "
      ]
     },
     "metadata": {},
     "output_type": "display_data"
    }
   ],
   "source": [
    "# display the expression information\n",
    "stored_expr.expr_info()"
   ]
  },
  {
   "cell_type": "code",
   "execution_count": null,
   "metadata": {},
   "outputs": [],
   "source": []
  }
 ],
 "metadata": {
  "kernelspec": {
   "display_name": "Python 3",
   "language": "python",
   "name": "python3"
  }
 },
 "nbformat": 4,
 "nbformat_minor": 0
}