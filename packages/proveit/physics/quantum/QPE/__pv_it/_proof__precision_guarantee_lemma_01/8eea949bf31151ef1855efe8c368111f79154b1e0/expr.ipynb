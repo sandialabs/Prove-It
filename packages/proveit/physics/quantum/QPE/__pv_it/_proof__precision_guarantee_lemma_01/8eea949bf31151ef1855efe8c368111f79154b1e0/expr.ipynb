{
 "cells": [
  {
   "cell_type": "markdown",
   "metadata": {},
   "source": [
    "Expression of type <a class=\"ProveItLink\" href=\"../../../../../../../../doc/html/api/proveit.ExprTuple.html\">ExprTuple</a>\n",
    "=======================\n",
    "# from the theory of <a class=\"ProveItLink\" href=\"../../../_theory_nbs_/theory.ipynb\">proveit.physics.quantum.QPE</a>"
   ]
  },
  {
   "cell_type": "code",
   "execution_count": 1,
   "metadata": {},
   "outputs": [],
   "source": [
    "import proveit\n",
    "# Automation is not needed when building an expression:\n",
    "proveit.defaults.automation = False # This will speed things up.\n",
    "proveit.defaults.inline_pngs = False # Makes files smaller.\n",
    "%load_expr # Load the stored expression as 'stored_expr'\n",
    "# import Expression classes needed to build the expression\n",
    "from proveit import ExprTuple\n",
    "from proveit.numbers import Add, Ceil, Exp, Log, Mult, Neg, frac, one, subtract, two\n",
    "from proveit.physics.quantum.QPE import _eps, _n"
   ]
  },
  {
   "cell_type": "code",
   "execution_count": 2,
   "metadata": {},
   "outputs": [
    {
     "data": {
      "text/html": [
       "<strong id=\"expr\">expr:</strong> <a class=\"ProveItLink\" href=\"expr.ipynb\"><img src=\"expr.png\" style=\"display:inline;vertical-align:middle;\" /></a><br>"
      ],
      "text/plain": [
       "<IPython.core.display.HTML object>"
      ]
     },
     "metadata": {},
     "output_type": "display_data"
    }
   ],
   "source": [
    "# build up the expression from sub-expressions\n",
    "sub_expr1 = Ceil(Log(two, Add(two, Mult(frac(one, two), Exp(_eps, Neg(one))))))\n",
    "expr = ExprTuple(subtract(Add(_n, sub_expr1), _n), sub_expr1)"
   ]
  },
  {
   "cell_type": "code",
   "execution_count": 3,
   "metadata": {},
   "outputs": [
    {
     "name": "stdout",
     "output_type": "stream",
     "text": [
      "Passed sanity check: expr matches stored_expr\n"
     ]
    }
   ],
   "source": [
    "# check that the built expression is the same as the stored expression\n",
    "assert expr == stored_expr\n",
    "assert expr._style_id == stored_expr._style_id\n",
    "print(\"Passed sanity check: expr matches stored_expr\")"
   ]
  },
  {
   "cell_type": "code",
   "execution_count": 4,
   "metadata": {},
   "outputs": [
    {
     "name": "stdout",
     "output_type": "stream",
     "text": [
      "\\left(\\left(n + \\left\\lceil \\textrm{log}_2\\left(2 + \\left(\\frac{1}{2} \\cdot \\epsilon^{-1}\\right)\\right)\\right\\rceil\\right) - n, \\left\\lceil \\textrm{log}_2\\left(2 + \\left(\\frac{1}{2} \\cdot \\epsilon^{-1}\\right)\\right)\\right\\rceil\\right)\n"
     ]
    }
   ],
   "source": [
    "# Show the LaTeX representation of the expression for convenience if you need it.\n",
    "print(stored_expr.latex())"
   ]
  },
  {
   "cell_type": "code",
   "execution_count": 5,
   "metadata": {},
   "outputs": [
    {
     "data": {
      "text/html": [
       "<table>\n",
       "<tr><th>name</th><th>description</th><th>default</th><th>current value</th><th>related methods</th></tr><tr><td>wrap_positions</td><td>position(s) at which wrapping is to occur; 'n' is after the nth comma.</td><td>()</td><td>()</td><td>('with_wrapping_at',)</td></tr>\n",
       "<tr><td>justification</td><td>if any wrap positions are set, justify to the 'left', 'center', or 'right'</td><td>left</td><td>left</td><td>('with_justification',)</td></tr>\n",
       "</table>\n"
      ],
      "text/plain": [
       "style name: wrap_positions\n",
       "description: position(s) at which wrapping is to occur; 'n' is after the nth comma.\n",
       "default: ()\n",
       "current value: ()\n",
       "related methods: ('with_wrapping_at',)\n",
       "style name: justification\n",
       "description: if any wrap positions are set, justify to the 'left', 'center', or 'right'\n",
       "default: left\n",
       "current value: left\n",
       "related methods: ('with_justification',)"
      ]
     },
     "metadata": {},
     "output_type": "display_data"
    }
   ],
   "source": [
    "stored_expr.style_options()"
   ]
  },
  {
   "cell_type": "code",
   "execution_count": 6,
   "metadata": {},
   "outputs": [
    {
     "data": {
      "text/html": [
       "<table><tr><th>&nbsp;</th><th>core type</th><th>sub-expressions</th><th>expression</th></tr>\n",
       "<tr><td>0</td><td>ExprTuple</td><td>1, 7</td><td><a class=\"ProveItLink\" href=\"expr.ipynb\"><img src=\"expr.png\" style=\"display:inline;vertical-align:middle;\" /></a></td></tr>\n",
       "<tr><td>1</td><td>Operation</td><td>operator:&nbsp;15<br>operands:&nbsp;2<br></td><td><a class=\"ProveItLink\" href=\"../8dfc3eb2e42dd46f15c25f79e4fa3e983f7498ce0/expr.ipynb\"><img src=\"../8dfc3eb2e42dd46f15c25f79e4fa3e983f7498ce0/expr.png\" style=\"display:inline;vertical-align:middle;\" /></a></td></tr>\n",
       "<tr><td>2</td><td>ExprTuple</td><td>3, 4</td><td><a class=\"ProveItLink\" href=\"../5c3c5b49362a5f43bc5579dbd8be0de391db9ff90/expr.ipynb\"><img src=\"../5c3c5b49362a5f43bc5579dbd8be0de391db9ff90/expr.png\" style=\"display:inline;vertical-align:middle;\" /></a></td></tr>\n",
       "<tr><td>3</td><td>Operation</td><td>operator:&nbsp;15<br>operands:&nbsp;5<br></td><td><a class=\"ProveItLink\" href=\"../4547771b5a5dd443f6d5f0f6d9b8331a25059ea80/expr.ipynb\"><img src=\"../4547771b5a5dd443f6d5f0f6d9b8331a25059ea80/expr.png\" style=\"display:inline;vertical-align:middle;\" /></a></td></tr>\n",
       "<tr><td>4</td><td>Operation</td><td>operator:&nbsp;29<br>operand:&nbsp;8<br></td><td><a class=\"ProveItLink\" href=\"../../common/966cd4e4899806f7c573df6437fb3b7a8d0f3a850/expr.ipynb\"><img src=\"../../common/966cd4e4899806f7c573df6437fb3b7a8d0f3a850/expr.png\" style=\"display:inline;vertical-align:middle;\" /></a></td></tr>\n",
       "<tr><td>5</td><td>ExprTuple</td><td>8, 7</td><td><a class=\"ProveItLink\" href=\"../6f0cf70cc829fd4313f87300648442f637ea5ef50/expr.ipynb\"><img src=\"../6f0cf70cc829fd4313f87300648442f637ea5ef50/expr.png\" style=\"display:inline;vertical-align:middle;\" /></a></td></tr>\n",
       "<tr><td>6</td><td>ExprTuple</td><td>8</td><td><a class=\"ProveItLink\" href=\"../../common/81a95b49d3fd9a28bd483dd1380484c787d913d40/expr.ipynb\"><img src=\"../../common/81a95b49d3fd9a28bd483dd1380484c787d913d40/expr.png\" style=\"display:inline;vertical-align:middle;\" /></a></td></tr>\n",
       "<tr><td>7</td><td>Operation</td><td>operator:&nbsp;9<br>operand:&nbsp;11<br></td><td><a class=\"ProveItLink\" href=\"../4f6b15020e910af595ff9e16c8ced98760c369320/expr.ipynb\"><img src=\"../4f6b15020e910af595ff9e16c8ced98760c369320/expr.png\" style=\"display:inline;vertical-align:middle;\" /></a></td></tr>\n",
       "<tr><td>8</td><td>Literal</td><td></td><td><a class=\"ProveItLink\" href=\"../../common/2727e03becf585d99b6b7de1f9bd63ac87e235100/expr.ipynb\"><img src=\"../../common/2727e03becf585d99b6b7de1f9bd63ac87e235100/expr.png\" style=\"display:inline;vertical-align:middle;\" /></a></td></tr>\n",
       "<tr><td>9</td><td>Literal</td><td></td><td><a class=\"ProveItLink\" href=\"../../../../../../numbers/rounding/__pv_it/common/468bbdabad0328579afc2777e0e196d5e9a2f5740/expr.ipynb\"><img src=\"../../../../../../numbers/rounding/__pv_it/common/468bbdabad0328579afc2777e0e196d5e9a2f5740/expr.png\" style=\"display:inline;vertical-align:middle;\" /></a></td></tr>\n",
       "<tr><td>10</td><td>ExprTuple</td><td>11</td><td><a class=\"ProveItLink\" href=\"../df1e1ccf0ff0b855012225e7fda17b9069d771440/expr.ipynb\"><img src=\"../df1e1ccf0ff0b855012225e7fda17b9069d771440/expr.png\" style=\"display:inline;vertical-align:middle;\" /></a></td></tr>\n",
       "<tr><td>11</td><td>Operation</td><td>operator:&nbsp;12<br>operands:&nbsp;13<br></td><td><a class=\"ProveItLink\" href=\"../9b67ada6bae8845899a48ae62ed3b2004dabbc290/expr.ipynb\"><img src=\"../9b67ada6bae8845899a48ae62ed3b2004dabbc290/expr.png\" style=\"display:inline;vertical-align:middle;\" /></a></td></tr>\n",
       "<tr><td>12</td><td>Literal</td><td></td><td><a class=\"ProveItLink\" href=\"../../../../../../numbers/logarithms/__pv_it/common/9f92107f896f42a4ffab3183789441dd36a0491b0/expr.ipynb\"><img src=\"../../../../../../numbers/logarithms/__pv_it/common/9f92107f896f42a4ffab3183789441dd36a0491b0/expr.png\" style=\"display:inline;vertical-align:middle;\" /></a></td></tr>\n",
       "<tr><td>13</td><td>ExprTuple</td><td>26, 14</td><td><a class=\"ProveItLink\" href=\"../f59b1a494a8faade6e6df8c1a98a9d05aae2db4e0/expr.ipynb\"><img src=\"../f59b1a494a8faade6e6df8c1a98a9d05aae2db4e0/expr.png\" style=\"display:inline;vertical-align:middle;\" /></a></td></tr>\n",
       "<tr><td>14</td><td>Operation</td><td>operator:&nbsp;15<br>operands:&nbsp;16<br></td><td><a class=\"ProveItLink\" href=\"../0056d6a2257a2175e07b021f32a1a4db280ebfdb0/expr.ipynb\"><img src=\"../0056d6a2257a2175e07b021f32a1a4db280ebfdb0/expr.png\" style=\"display:inline;vertical-align:middle;\" /></a></td></tr>\n",
       "<tr><td>15</td><td>Literal</td><td></td><td><a class=\"ProveItLink\" href=\"../../../../../../numbers/addition/__pv_it/common/4b7effaab3619a1c2c38fe2dee8601df8ec714590/expr.ipynb\"><img src=\"../../../../../../numbers/addition/__pv_it/common/4b7effaab3619a1c2c38fe2dee8601df8ec714590/expr.png\" style=\"display:inline;vertical-align:middle;\" /></a></td></tr>\n",
       "<tr><td>16</td><td>ExprTuple</td><td>26, 17</td><td><a class=\"ProveItLink\" href=\"../67111fc540aed75c1cb8f4d123a7c6cf3099056c0/expr.ipynb\"><img src=\"../67111fc540aed75c1cb8f4d123a7c6cf3099056c0/expr.png\" style=\"display:inline;vertical-align:middle;\" /></a></td></tr>\n",
       "<tr><td>17</td><td>Operation</td><td>operator:&nbsp;18<br>operands:&nbsp;19<br></td><td><a class=\"ProveItLink\" href=\"../9bdf16ce1318dcbb6124e464a88597179e7c2dd30/expr.ipynb\"><img src=\"../9bdf16ce1318dcbb6124e464a88597179e7c2dd30/expr.png\" style=\"display:inline;vertical-align:middle;\" /></a></td></tr>\n",
       "<tr><td>18</td><td>Literal</td><td></td><td><a class=\"ProveItLink\" href=\"../../../../../../numbers/multiplication/__pv_it/common/ed719cef37831779c16481533a4d380a2f95ab270/expr.ipynb\"><img src=\"../../../../../../numbers/multiplication/__pv_it/common/ed719cef37831779c16481533a4d380a2f95ab270/expr.png\" style=\"display:inline;vertical-align:middle;\" /></a></td></tr>\n",
       "<tr><td>19</td><td>ExprTuple</td><td>20, 21</td><td><a class=\"ProveItLink\" href=\"../c09759cc687581d59807b5eef8d0cb857792e7650/expr.ipynb\"><img src=\"../c09759cc687581d59807b5eef8d0cb857792e7650/expr.png\" style=\"display:inline;vertical-align:middle;\" /></a></td></tr>\n",
       "<tr><td>20</td><td>Operation</td><td>operator:&nbsp;22<br>operands:&nbsp;23<br></td><td><a class=\"ProveItLink\" href=\"../5d739c7b854085e82005ef3d1866586e857984a60/expr.ipynb\"><img src=\"../5d739c7b854085e82005ef3d1866586e857984a60/expr.png\" style=\"display:inline;vertical-align:middle;\" /></a></td></tr>\n",
       "<tr><td>21</td><td>Operation</td><td>operator:&nbsp;24<br>operands:&nbsp;25<br></td><td><a class=\"ProveItLink\" href=\"../53c4ecdbc98911b16f7d371e729f13ab501003ce0/expr.ipynb\"><img src=\"../53c4ecdbc98911b16f7d371e729f13ab501003ce0/expr.png\" style=\"display:inline;vertical-align:middle;\" /></a></td></tr>\n",
       "<tr><td>22</td><td>Literal</td><td></td><td><a class=\"ProveItLink\" href=\"../../../../../../numbers/division/__pv_it/common/a2a633e1e3c749fb1f2692466b287b6348c5de840/expr.ipynb\"><img src=\"../../../../../../numbers/division/__pv_it/common/a2a633e1e3c749fb1f2692466b287b6348c5de840/expr.png\" style=\"display:inline;vertical-align:middle;\" /></a></td></tr>\n",
       "<tr><td>23</td><td>ExprTuple</td><td>31, 26</td><td><a class=\"ProveItLink\" href=\"../../../../../../numbers/numerals/decimals/__pv_it/theorems/df23a04353373623cccbfda09b61e0f594aa791a0/expr.ipynb\"><img src=\"../../../../../../numbers/numerals/decimals/__pv_it/theorems/df23a04353373623cccbfda09b61e0f594aa791a0/expr.png\" style=\"display:inline;vertical-align:middle;\" /></a></td></tr>\n",
       "<tr><td>24</td><td>Literal</td><td></td><td><a class=\"ProveItLink\" href=\"../../../../../../numbers/exponentiation/__pv_it/common/0ac37aca1e54c35c5cda09672df32d4f69f1f3020/expr.ipynb\"><img src=\"../../../../../../numbers/exponentiation/__pv_it/common/0ac37aca1e54c35c5cda09672df32d4f69f1f3020/expr.png\" style=\"display:inline;vertical-align:middle;\" /></a></td></tr>\n",
       "<tr><td>25</td><td>ExprTuple</td><td>27, 28</td><td><a class=\"ProveItLink\" href=\"../395b24ec5e6e3db2430506df05431a4aabc322250/expr.ipynb\"><img src=\"../395b24ec5e6e3db2430506df05431a4aabc322250/expr.png\" style=\"display:inline;vertical-align:middle;\" /></a></td></tr>\n",
       "<tr><td>26</td><td>Literal</td><td></td><td><a class=\"ProveItLink\" href=\"../../../../../../numbers/numerals/__pv_it/common/af4aab8a07465db063742696e006d04670f30cf10/expr.ipynb\"><img src=\"../../../../../../numbers/numerals/__pv_it/common/af4aab8a07465db063742696e006d04670f30cf10/expr.png\" style=\"display:inline;vertical-align:middle;\" /></a></td></tr>\n",
       "<tr><td>27</td><td>Literal</td><td></td><td><a class=\"ProveItLink\" href=\"../../common/485907859be40bef8e8f7cdf5626e806953b47db0/expr.ipynb\"><img src=\"../../common/485907859be40bef8e8f7cdf5626e806953b47db0/expr.png\" style=\"display:inline;vertical-align:middle;\" /></a></td></tr>\n",
       "<tr><td>28</td><td>Operation</td><td>operator:&nbsp;29<br>operand:&nbsp;31<br></td><td><a class=\"ProveItLink\" href=\"../../common/bf4beda21975fe8a0a5007615b5bcc943da59bb20/expr.ipynb\"><img src=\"../../common/bf4beda21975fe8a0a5007615b5bcc943da59bb20/expr.png\" style=\"display:inline;vertical-align:middle;\" /></a></td></tr>\n",
       "<tr><td>29</td><td>Literal</td><td></td><td><a class=\"ProveItLink\" href=\"../../../../../../numbers/negation/__pv_it/common/221b3c4d1770ee9051b7c044c3f9ec61196fc34b0/expr.ipynb\"><img src=\"../../../../../../numbers/negation/__pv_it/common/221b3c4d1770ee9051b7c044c3f9ec61196fc34b0/expr.png\" style=\"display:inline;vertical-align:middle;\" /></a></td></tr>\n",
       "<tr><td>30</td><td>ExprTuple</td><td>31</td><td><a class=\"ProveItLink\" href=\"../../common/b9e4f0dffece176bbe2f36127440684a20e0468e0/expr.ipynb\"><img src=\"../../common/b9e4f0dffece176bbe2f36127440684a20e0468e0/expr.png\" style=\"display:inline;vertical-align:middle;\" /></a></td></tr>\n",
       "<tr><td>31</td><td>Literal</td><td></td><td><a class=\"ProveItLink\" href=\"../../../../../../numbers/numerals/__pv_it/common/682157d4892d216d9e5626ed533aff9b56b9506e0/expr.ipynb\"><img src=\"../../../../../../numbers/numerals/__pv_it/common/682157d4892d216d9e5626ed533aff9b56b9506e0/expr.png\" style=\"display:inline;vertical-align:middle;\" /></a></td></tr>\n",
       "</table>\n"
      ],
      "text/plain": [
       "0. ((n + ceil(log_2(2 + ((1 / 2) * eps^{-1})))) - n, ceil(log_2(2 + ((1 / 2) * eps^{-1}))))\n",
       "   core type: ExprTuple\n",
       "   sub-expressions: 1, 7\n",
       "1. (n + ceil(log_2(2 + ((1 / 2) * eps^{-1})))) - n\n",
       "   core type: Operation\n",
       "   operator: 15\n",
       "   operands: 2\n",
       "2. (n + ceil(log_2(2 + ((1 / 2) * eps^{-1}))), -n)\n",
       "   core type: ExprTuple\n",
       "   sub-expressions: 3, 4\n",
       "3. n + ceil(log_2(2 + ((1 / 2) * eps^{-1})))\n",
       "   core type: Operation\n",
       "   operator: 15\n",
       "   operands: 5\n",
       "4. -n\n",
       "   core type: Operation\n",
       "   operator: 29\n",
       "   operand: 8\n",
       "5. (n, ceil(log_2(2 + ((1 / 2) * eps^{-1}))))\n",
       "   core type: ExprTuple\n",
       "   sub-expressions: 8, 7\n",
       "6. (n)\n",
       "   core type: ExprTuple\n",
       "   sub-expressions: 8\n",
       "7. ceil(log_2(2 + ((1 / 2) * eps^{-1})))\n",
       "   core type: Operation\n",
       "   operator: 9\n",
       "   operand: 11\n",
       "8. n\n",
       "   core type: Literal\n",
       "   sub-expressions: \n",
       "9. ceil\n",
       "   core type: Literal\n",
       "   sub-expressions: \n",
       "10. (log_2(2 + ((1 / 2) * eps^{-1})))\n",
       "    core type: ExprTuple\n",
       "    sub-expressions: 11\n",
       "11. log_2(2 + ((1 / 2) * eps^{-1}))\n",
       "    core type: Operation\n",
       "    operator: 12\n",
       "    operands: 13\n",
       "12. log\n",
       "    core type: Literal\n",
       "    sub-expressions: \n",
       "13. (2, 2 + ((1 / 2) * eps^{-1}))\n",
       "    core type: ExprTuple\n",
       "    sub-expressions: 26, 14\n",
       "14. 2 + ((1 / 2) * eps^{-1})\n",
       "    core type: Operation\n",
       "    operator: 15\n",
       "    operands: 16\n",
       "15. +\n",
       "    core type: Literal\n",
       "    sub-expressions: \n",
       "16. (2, (1 / 2) * eps^{-1})\n",
       "    core type: ExprTuple\n",
       "    sub-expressions: 26, 17\n",
       "17. (1 / 2) * eps^{-1}\n",
       "    core type: Operation\n",
       "    operator: 18\n",
       "    operands: 19\n",
       "18. *\n",
       "    core type: Literal\n",
       "    sub-expressions: \n",
       "19. (1 / 2, eps^{-1})\n",
       "    core type: ExprTuple\n",
       "    sub-expressions: 20, 21\n",
       "20. 1 / 2\n",
       "    core type: Operation\n",
       "    operator: 22\n",
       "    operands: 23\n",
       "21. eps^{-1}\n",
       "    core type: Operation\n",
       "    operator: 24\n",
       "    operands: 25\n",
       "22. /\n",
       "    core type: Literal\n",
       "    sub-expressions: \n",
       "23. (1, 2)\n",
       "    core type: ExprTuple\n",
       "    sub-expressions: 31, 26\n",
       "24. Exp\n",
       "    core type: Literal\n",
       "    sub-expressions: \n",
       "25. (eps, -1)\n",
       "    core type: ExprTuple\n",
       "    sub-expressions: 27, 28\n",
       "26. 2\n",
       "    core type: Literal\n",
       "    sub-expressions: \n",
       "27. eps\n",
       "    core type: Literal\n",
       "    sub-expressions: \n",
       "28. -1\n",
       "    core type: Operation\n",
       "    operator: 29\n",
       "    operand: 31\n",
       "29. -\n",
       "    core type: Literal\n",
       "    sub-expressions: \n",
       "30. (1)\n",
       "    core type: ExprTuple\n",
       "    sub-expressions: 31\n",
       "31. 1\n",
       "    core type: Literal\n",
       "    sub-expressions: "
      ]
     },
     "metadata": {},
     "output_type": "display_data"
    }
   ],
   "source": [
    "# display the expression information\n",
    "stored_expr.expr_info()"
   ]
  },
  {
   "cell_type": "code",
   "execution_count": null,
   "metadata": {},
   "outputs": [],
   "source": []
  }
 ],
 "metadata": {
  "kernelspec": {
   "display_name": "Python 3",
   "language": "python",
   "name": "python3"
  }
 },
 "nbformat": 4,
 "nbformat_minor": 0
}