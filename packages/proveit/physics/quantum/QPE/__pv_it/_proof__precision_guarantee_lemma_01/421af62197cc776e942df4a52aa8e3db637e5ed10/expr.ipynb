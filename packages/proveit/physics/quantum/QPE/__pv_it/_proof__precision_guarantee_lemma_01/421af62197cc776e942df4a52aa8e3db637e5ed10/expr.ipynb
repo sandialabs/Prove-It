{
 "cells": [
  {
   "cell_type": "markdown",
   "metadata": {},
   "source": [
    "Expression of type <a class=\"ProveItLink\" href=\"../../../../../../../../doc/html/api/proveit.ExprTuple.html\">ExprTuple</a>\n",
    "=======================\n",
    "# from the theory of <a class=\"ProveItLink\" href=\"../../../_theory_nbs_/theory.ipynb\">proveit.physics.quantum.QPE</a>"
   ]
  },
  {
   "cell_type": "code",
   "execution_count": 1,
   "metadata": {},
   "outputs": [],
   "source": [
    "import proveit\n",
    "# Automation is not needed when building an expression:\n",
    "proveit.defaults.automation = False # This will speed things up.\n",
    "proveit.defaults.inline_pngs = False # Makes files smaller.\n",
    "%load_expr # Load the stored expression as 'stored_expr'\n",
    "# import Expression classes needed to build the expression\n",
    "from proveit import ExprTuple\n",
    "from proveit.numbers import Mult, frac, one\n",
    "from proveit.physics.quantum.QPE import _eps"
   ]
  },
  {
   "cell_type": "code",
   "execution_count": 2,
   "metadata": {},
   "outputs": [
    {
     "data": {
      "text/html": [
       "<strong id=\"expr\">expr:</strong> <a class=\"ProveItLink\" href=\"expr.ipynb\"><img src=\"expr.png\" style=\"display:inline;vertical-align:middle;\" /></a><br>"
      ],
      "text/plain": [
       "<IPython.core.display.HTML object>"
      ]
     },
     "metadata": {},
     "output_type": "display_data"
    }
   ],
   "source": [
    "# build up the expression from sub-expressions\n",
    "expr = ExprTuple(Mult(frac(Mult(one, _eps), one), frac(one, Mult(_eps, one))), Mult(_eps, frac(one, _eps)))"
   ]
  },
  {
   "cell_type": "code",
   "execution_count": 3,
   "metadata": {},
   "outputs": [
    {
     "name": "stdout",
     "output_type": "stream",
     "text": [
      "Passed sanity check: expr matches stored_expr\n"
     ]
    }
   ],
   "source": [
    "# check that the built expression is the same as the stored expression\n",
    "assert expr == stored_expr\n",
    "assert expr._style_id == stored_expr._style_id\n",
    "print(\"Passed sanity check: expr matches stored_expr\")"
   ]
  },
  {
   "cell_type": "code",
   "execution_count": 4,
   "metadata": {},
   "outputs": [
    {
     "name": "stdout",
     "output_type": "stream",
     "text": [
      "\\left(\\frac{1 \\cdot \\epsilon}{1} \\cdot \\frac{1}{\\epsilon \\cdot 1}, \\epsilon \\cdot \\frac{1}{\\epsilon}\\right)\n"
     ]
    }
   ],
   "source": [
    "# Show the LaTeX representation of the expression for convenience if you need it.\n",
    "print(stored_expr.latex())"
   ]
  },
  {
   "cell_type": "code",
   "execution_count": 5,
   "metadata": {},
   "outputs": [
    {
     "data": {
      "text/html": [
       "<table>\n",
       "<tr><th>name</th><th>description</th><th>default</th><th>current value</th><th>related methods</th></tr><tr><td>wrap_positions</td><td>position(s) at which wrapping is to occur; 'n' is after the nth comma.</td><td>()</td><td>()</td><td>('with_wrapping_at',)</td></tr>\n",
       "<tr><td>justification</td><td>if any wrap positions are set, justify to the 'left', 'center', or 'right'</td><td>left</td><td>left</td><td>('with_justification',)</td></tr>\n",
       "</table>\n"
      ],
      "text/plain": [
       "style name: wrap_positions\n",
       "description: position(s) at which wrapping is to occur; 'n' is after the nth comma.\n",
       "default: ()\n",
       "current value: ()\n",
       "related methods: ('with_wrapping_at',)\n",
       "style name: justification\n",
       "description: if any wrap positions are set, justify to the 'left', 'center', or 'right'\n",
       "default: left\n",
       "current value: left\n",
       "related methods: ('with_justification',)"
      ]
     },
     "metadata": {},
     "output_type": "display_data"
    }
   ],
   "source": [
    "stored_expr.style_options()"
   ]
  },
  {
   "cell_type": "code",
   "execution_count": 6,
   "metadata": {},
   "outputs": [
    {
     "data": {
      "text/html": [
       "<table><tr><th>&nbsp;</th><th>core type</th><th>sub-expressions</th><th>expression</th></tr>\n",
       "<tr><td>0</td><td>ExprTuple</td><td>1, 2</td><td><a class=\"ProveItLink\" href=\"expr.ipynb\"><img src=\"expr.png\" style=\"display:inline;vertical-align:middle;\" /></a></td></tr>\n",
       "<tr><td>1</td><td>Operation</td><td>operator:&nbsp;14<br>operands:&nbsp;3<br></td><td><a class=\"ProveItLink\" href=\"../5af5141476805b141d6fd4b2c023e30fc5bccca70/expr.ipynb\"><img src=\"../5af5141476805b141d6fd4b2c023e30fc5bccca70/expr.png\" style=\"display:inline;vertical-align:middle;\" /></a></td></tr>\n",
       "<tr><td>2</td><td>Operation</td><td>operator:&nbsp;14<br>operands:&nbsp;4<br></td><td><a class=\"ProveItLink\" href=\"../dc24f03083073f6c71916a0de44690e1e3e48b660/expr.ipynb\"><img src=\"../dc24f03083073f6c71916a0de44690e1e3e48b660/expr.png\" style=\"display:inline;vertical-align:middle;\" /></a></td></tr>\n",
       "<tr><td>3</td><td>ExprTuple</td><td>5, 6</td><td><a class=\"ProveItLink\" href=\"../47be252ac4ab470588cdfc8e2308c5704a76a2c40/expr.ipynb\"><img src=\"../47be252ac4ab470588cdfc8e2308c5704a76a2c40/expr.png\" style=\"display:inline;vertical-align:middle;\" /></a></td></tr>\n",
       "<tr><td>4</td><td>ExprTuple</td><td>16, 7</td><td><a class=\"ProveItLink\" href=\"../ce3fb0a003da4aa56ee3a8ce94f08f654b4bbb600/expr.ipynb\"><img src=\"../ce3fb0a003da4aa56ee3a8ce94f08f654b4bbb600/expr.png\" style=\"display:inline;vertical-align:middle;\" /></a></td></tr>\n",
       "<tr><td>5</td><td>Operation</td><td>operator:&nbsp;10<br>operands:&nbsp;8<br></td><td><a class=\"ProveItLink\" href=\"../ff110f01e39e07323fbcb5c9f264c1d7bd0ff5c40/expr.ipynb\"><img src=\"../ff110f01e39e07323fbcb5c9f264c1d7bd0ff5c40/expr.png\" style=\"display:inline;vertical-align:middle;\" /></a></td></tr>\n",
       "<tr><td>6</td><td>Operation</td><td>operator:&nbsp;10<br>operands:&nbsp;9<br></td><td><a class=\"ProveItLink\" href=\"../4c14280896b5348a720334c24e07926fe34b15770/expr.ipynb\"><img src=\"../4c14280896b5348a720334c24e07926fe34b15770/expr.png\" style=\"display:inline;vertical-align:middle;\" /></a></td></tr>\n",
       "<tr><td>7</td><td>Operation</td><td>operator:&nbsp;10<br>operands:&nbsp;13<br></td><td><a class=\"ProveItLink\" href=\"../3b1599ffed379188b72b8aa00d4eb3fe05c4f1090/expr.ipynb\"><img src=\"../3b1599ffed379188b72b8aa00d4eb3fe05c4f1090/expr.png\" style=\"display:inline;vertical-align:middle;\" /></a></td></tr>\n",
       "<tr><td>8</td><td>ExprTuple</td><td>11, 17</td><td><a class=\"ProveItLink\" href=\"../bbd2b1118f346674c21f7341b82d2179a1a306230/expr.ipynb\"><img src=\"../bbd2b1118f346674c21f7341b82d2179a1a306230/expr.png\" style=\"display:inline;vertical-align:middle;\" /></a></td></tr>\n",
       "<tr><td>9</td><td>ExprTuple</td><td>17, 12</td><td><a class=\"ProveItLink\" href=\"../c0bd553ba2a251fa43325f5f0478c9eb9165c2080/expr.ipynb\"><img src=\"../c0bd553ba2a251fa43325f5f0478c9eb9165c2080/expr.png\" style=\"display:inline;vertical-align:middle;\" /></a></td></tr>\n",
       "<tr><td>10</td><td>Literal</td><td></td><td><a class=\"ProveItLink\" href=\"../../../../../../numbers/division/__pv_it/common/a2a633e1e3c749fb1f2692466b287b6348c5de840/expr.ipynb\"><img src=\"../../../../../../numbers/division/__pv_it/common/a2a633e1e3c749fb1f2692466b287b6348c5de840/expr.png\" style=\"display:inline;vertical-align:middle;\" /></a></td></tr>\n",
       "<tr><td>11</td><td>Operation</td><td>operator:&nbsp;14<br>operands:&nbsp;13<br></td><td><a class=\"ProveItLink\" href=\"../30a10563951cd9e2623f59d97ada614a331285db0/expr.ipynb\"><img src=\"../30a10563951cd9e2623f59d97ada614a331285db0/expr.png\" style=\"display:inline;vertical-align:middle;\" /></a></td></tr>\n",
       "<tr><td>12</td><td>Operation</td><td>operator:&nbsp;14<br>operands:&nbsp;15<br></td><td><a class=\"ProveItLink\" href=\"../3e0953720e64b6be04457afaaaf53ee3cc675bc60/expr.ipynb\"><img src=\"../3e0953720e64b6be04457afaaaf53ee3cc675bc60/expr.png\" style=\"display:inline;vertical-align:middle;\" /></a></td></tr>\n",
       "<tr><td>13</td><td>ExprTuple</td><td>17, 16</td><td><a class=\"ProveItLink\" href=\"../9e9714ca92fbcd1f2d2715f3be18193d34c8dfda0/expr.ipynb\"><img src=\"../9e9714ca92fbcd1f2d2715f3be18193d34c8dfda0/expr.png\" style=\"display:inline;vertical-align:middle;\" /></a></td></tr>\n",
       "<tr><td>14</td><td>Literal</td><td></td><td><a class=\"ProveItLink\" href=\"../../../../../../numbers/multiplication/__pv_it/common/ed719cef37831779c16481533a4d380a2f95ab270/expr.ipynb\"><img src=\"../../../../../../numbers/multiplication/__pv_it/common/ed719cef37831779c16481533a4d380a2f95ab270/expr.png\" style=\"display:inline;vertical-align:middle;\" /></a></td></tr>\n",
       "<tr><td>15</td><td>ExprTuple</td><td>16, 17</td><td><a class=\"ProveItLink\" href=\"../cc72bb98c8f8e2f35a8acd5a1464b68eaee29ee80/expr.ipynb\"><img src=\"../cc72bb98c8f8e2f35a8acd5a1464b68eaee29ee80/expr.png\" style=\"display:inline;vertical-align:middle;\" /></a></td></tr>\n",
       "<tr><td>16</td><td>Literal</td><td></td><td><a class=\"ProveItLink\" href=\"../../common/485907859be40bef8e8f7cdf5626e806953b47db0/expr.ipynb\"><img src=\"../../common/485907859be40bef8e8f7cdf5626e806953b47db0/expr.png\" style=\"display:inline;vertical-align:middle;\" /></a></td></tr>\n",
       "<tr><td>17</td><td>Literal</td><td></td><td><a class=\"ProveItLink\" href=\"../../../../../../numbers/numerals/__pv_it/common/682157d4892d216d9e5626ed533aff9b56b9506e0/expr.ipynb\"><img src=\"../../../../../../numbers/numerals/__pv_it/common/682157d4892d216d9e5626ed533aff9b56b9506e0/expr.png\" style=\"display:inline;vertical-align:middle;\" /></a></td></tr>\n",
       "</table>\n"
      ],
      "text/plain": [
       "0. (((1 * eps) / 1) * (1 / (eps * 1)), eps * (1 / eps))\n",
       "   core type: ExprTuple\n",
       "   sub-expressions: 1, 2\n",
       "1. ((1 * eps) / 1) * (1 / (eps * 1))\n",
       "   core type: Operation\n",
       "   operator: 14\n",
       "   operands: 3\n",
       "2. eps * (1 / eps)\n",
       "   core type: Operation\n",
       "   operator: 14\n",
       "   operands: 4\n",
       "3. ((1 * eps) / 1, 1 / (eps * 1))\n",
       "   core type: ExprTuple\n",
       "   sub-expressions: 5, 6\n",
       "4. (eps, 1 / eps)\n",
       "   core type: ExprTuple\n",
       "   sub-expressions: 16, 7\n",
       "5. (1 * eps) / 1\n",
       "   core type: Operation\n",
       "   operator: 10\n",
       "   operands: 8\n",
       "6. 1 / (eps * 1)\n",
       "   core type: Operation\n",
       "   operator: 10\n",
       "   operands: 9\n",
       "7. 1 / eps\n",
       "   core type: Operation\n",
       "   operator: 10\n",
       "   operands: 13\n",
       "8. (1 * eps, 1)\n",
       "   core type: ExprTuple\n",
       "   sub-expressions: 11, 17\n",
       "9. (1, eps * 1)\n",
       "   core type: ExprTuple\n",
       "   sub-expressions: 17, 12\n",
       "10. /\n",
       "    core type: Literal\n",
       "    sub-expressions: \n",
       "11. 1 * eps\n",
       "    core type: Operation\n",
       "    operator: 14\n",
       "    operands: 13\n",
       "12. eps * 1\n",
       "    core type: Operation\n",
       "    operator: 14\n",
       "    operands: 15\n",
       "13. (1, eps)\n",
       "    core type: ExprTuple\n",
       "    sub-expressions: 17, 16\n",
       "14. *\n",
       "    core type: Literal\n",
       "    sub-expressions: \n",
       "15. (eps, 1)\n",
       "    core type: ExprTuple\n",
       "    sub-expressions: 16, 17\n",
       "16. eps\n",
       "    core type: Literal\n",
       "    sub-expressions: \n",
       "17. 1\n",
       "    core type: Literal\n",
       "    sub-expressions: "
      ]
     },
     "metadata": {},
     "output_type": "display_data"
    }
   ],
   "source": [
    "# display the expression information\n",
    "stored_expr.expr_info()"
   ]
  },
  {
   "cell_type": "code",
   "execution_count": null,
   "metadata": {},
   "outputs": [],
   "source": []
  }
 ],
 "metadata": {
  "kernelspec": {
   "display_name": "Python 3",
   "language": "python",
   "name": "python3"
  }
 },
 "nbformat": 4,
 "nbformat_minor": 0
}