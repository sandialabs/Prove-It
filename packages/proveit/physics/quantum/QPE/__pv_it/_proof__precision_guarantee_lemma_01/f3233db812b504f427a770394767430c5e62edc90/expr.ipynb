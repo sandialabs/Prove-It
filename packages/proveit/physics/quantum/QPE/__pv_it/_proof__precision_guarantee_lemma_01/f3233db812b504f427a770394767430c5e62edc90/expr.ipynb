{
 "cells": [
  {
   "cell_type": "markdown",
   "metadata": {},
   "source": [
    "Expression of type <a class=\"ProveItLink\" href=\"../../../../../../../../doc/html/api/proveit.ExprTuple.html\">ExprTuple</a>\n",
    "=======================\n",
    "# from the theory of <a class=\"ProveItLink\" href=\"../../../_theory_nbs_/theory.ipynb\">proveit.physics.quantum.QPE</a>"
   ]
  },
  {
   "cell_type": "code",
   "execution_count": 1,
   "metadata": {},
   "outputs": [],
   "source": [
    "import proveit\n",
    "# Automation is not needed when building an expression:\n",
    "proveit.defaults.automation = False # This will speed things up.\n",
    "proveit.defaults.inline_pngs = False # Makes files smaller.\n",
    "%load_expr # Load the stored expression as 'stored_expr'\n",
    "# import Expression classes needed to build the expression\n",
    "from proveit import ExprTuple\n",
    "from proveit.numbers import Add, Exp, Mult, Neg, four, frac, one, subtract, three, two\n",
    "from proveit.physics.quantum.QPE import _eps, _n, _t"
   ]
  },
  {
   "cell_type": "code",
   "execution_count": 2,
   "metadata": {},
   "outputs": [
    {
     "data": {
      "text/html": [
       "<strong id=\"expr\">expr:</strong> <a class=\"ProveItLink\" href=\"expr.ipynb\"><img src=\"expr.png\" style=\"display:inline;vertical-align:middle;\" /></a><br>"
      ],
      "text/plain": [
       "<IPython.core.display.HTML object>"
      ]
     },
     "metadata": {},
     "output_type": "display_data"
    }
   ],
   "source": [
    "# build up the expression from sub-expressions\n",
    "sub_expr1 = frac(one, _eps)\n",
    "sub_expr2 = subtract(Exp(two, subtract(_t, _n)), one)\n",
    "expr = ExprTuple(subtract(one, frac(Add(three, sub_expr1), Exp(Add(two, sub_expr1), two))), Add(one, Neg(frac(one, Mult(two, sub_expr2))), Neg(frac(one, Mult(four, Exp(sub_expr2, two))))))"
   ]
  },
  {
   "cell_type": "code",
   "execution_count": 3,
   "metadata": {},
   "outputs": [
    {
     "name": "stdout",
     "output_type": "stream",
     "text": [
      "Passed sanity check: expr matches stored_expr\n"
     ]
    }
   ],
   "source": [
    "# check that the built expression is the same as the stored expression\n",
    "assert expr == stored_expr\n",
    "assert expr._style_id == stored_expr._style_id\n",
    "print(\"Passed sanity check: expr matches stored_expr\")"
   ]
  },
  {
   "cell_type": "code",
   "execution_count": 4,
   "metadata": {},
   "outputs": [
    {
     "name": "stdout",
     "output_type": "stream",
     "text": [
      "\\left(1 - \\frac{3 + \\frac{1}{\\epsilon}}{\\left(2 + \\frac{1}{\\epsilon}\\right)^{2}}, 1 - \\frac{1}{2 \\cdot \\left(2^{t - n} - 1\\right)} - \\frac{1}{4 \\cdot \\left(2^{t - n} - 1\\right)^{2}}\\right)\n"
     ]
    }
   ],
   "source": [
    "# Show the LaTeX representation of the expression for convenience if you need it.\n",
    "print(stored_expr.latex())"
   ]
  },
  {
   "cell_type": "code",
   "execution_count": 5,
   "metadata": {},
   "outputs": [
    {
     "data": {
      "text/html": [
       "<table>\n",
       "<tr><th>name</th><th>description</th><th>default</th><th>current value</th><th>related methods</th></tr><tr><td>wrap_positions</td><td>position(s) at which wrapping is to occur; 'n' is after the nth comma.</td><td>()</td><td>()</td><td>('with_wrapping_at',)</td></tr>\n",
       "<tr><td>justification</td><td>if any wrap positions are set, justify to the 'left', 'center', or 'right'</td><td>left</td><td>left</td><td>('with_justification',)</td></tr>\n",
       "</table>\n"
      ],
      "text/plain": [
       "style name: wrap_positions\n",
       "description: position(s) at which wrapping is to occur; 'n' is after the nth comma.\n",
       "default: ()\n",
       "current value: ()\n",
       "related methods: ('with_wrapping_at',)\n",
       "style name: justification\n",
       "description: if any wrap positions are set, justify to the 'left', 'center', or 'right'\n",
       "default: left\n",
       "current value: left\n",
       "related methods: ('with_justification',)"
      ]
     },
     "metadata": {},
     "output_type": "display_data"
    }
   ],
   "source": [
    "stored_expr.style_options()"
   ]
  },
  {
   "cell_type": "code",
   "execution_count": 6,
   "metadata": {},
   "outputs": [
    {
     "data": {
      "text/html": [
       "<table><tr><th>&nbsp;</th><th>core type</th><th>sub-expressions</th><th>expression</th></tr>\n",
       "<tr><td>0</td><td>ExprTuple</td><td>1, 2</td><td><a class=\"ProveItLink\" href=\"expr.ipynb\"><img src=\"expr.png\" style=\"display:inline;vertical-align:middle;\" /></a></td></tr>\n",
       "<tr><td>1</td><td>Operation</td><td>operator:&nbsp;46<br>operands:&nbsp;3<br></td><td><a class=\"ProveItLink\" href=\"../daae5e8cb27766495be9c7524025761de401647e0/expr.ipynb\"><img src=\"../daae5e8cb27766495be9c7524025761de401647e0/expr.png\" style=\"display:inline;vertical-align:middle;\" /></a></td></tr>\n",
       "<tr><td>2</td><td>Operation</td><td>operator:&nbsp;46<br>operands:&nbsp;4<br></td><td><a class=\"ProveItLink\" href=\"../../theorems/7495d268cef4899f6d8771fe4c1c1b955717f37d0/expr.ipynb\"><img src=\"../../theorems/7495d268cef4899f6d8771fe4c1c1b955717f37d0/expr.png\" style=\"display:inline;vertical-align:middle;\" /></a></td></tr>\n",
       "<tr><td>3</td><td>ExprTuple</td><td>45, 5</td><td><a class=\"ProveItLink\" href=\"../a86d7d9b148804bc52e192c8c02c789399ed21620/expr.ipynb\"><img src=\"../a86d7d9b148804bc52e192c8c02c789399ed21620/expr.png\" style=\"display:inline;vertical-align:middle;\" /></a></td></tr>\n",
       "<tr><td>4</td><td>ExprTuple</td><td>45, 6, 7</td><td><a class=\"ProveItLink\" href=\"../../theorems/d494a08d6204f8c07befd8d88eb20f78609f775a0/expr.ipynb\"><img src=\"../../theorems/d494a08d6204f8c07befd8d88eb20f78609f775a0/expr.png\" style=\"display:inline;vertical-align:middle;\" /></a></td></tr>\n",
       "<tr><td>5</td><td>Operation</td><td>operator:&nbsp;50<br>operand:&nbsp;11<br></td><td><a class=\"ProveItLink\" href=\"../1bfe59bcd800be3c1ab8c520d4e430f3bb4d8e060/expr.ipynb\"><img src=\"../1bfe59bcd800be3c1ab8c520d4e430f3bb4d8e060/expr.png\" style=\"display:inline;vertical-align:middle;\" /></a></td></tr>\n",
       "<tr><td>6</td><td>Operation</td><td>operator:&nbsp;50<br>operand:&nbsp;12<br></td><td><a class=\"ProveItLink\" href=\"../../theorems/44005eebaaac8c53ab6bff7249d6b2e65e2e2ab00/expr.ipynb\"><img src=\"../../theorems/44005eebaaac8c53ab6bff7249d6b2e65e2e2ab00/expr.png\" style=\"display:inline;vertical-align:middle;\" /></a></td></tr>\n",
       "<tr><td>7</td><td>Operation</td><td>operator:&nbsp;50<br>operand:&nbsp;13<br></td><td><a class=\"ProveItLink\" href=\"../../theorems/0dad1db6b303b00be5050c3244db9c7c099e71e90/expr.ipynb\"><img src=\"../../theorems/0dad1db6b303b00be5050c3244db9c7c099e71e90/expr.png\" style=\"display:inline;vertical-align:middle;\" /></a></td></tr>\n",
       "<tr><td>8</td><td>ExprTuple</td><td>11</td><td><a class=\"ProveItLink\" href=\"../e2789417a1d7e2b67c625cf8d5f5e9aa14f54d9a0/expr.ipynb\"><img src=\"../e2789417a1d7e2b67c625cf8d5f5e9aa14f54d9a0/expr.png\" style=\"display:inline;vertical-align:middle;\" /></a></td></tr>\n",
       "<tr><td>9</td><td>ExprTuple</td><td>12</td><td><a class=\"ProveItLink\" href=\"../../theorems/cf7d8f8093c3e548c2321f8dfbea5176ccdf48800/expr.ipynb\"><img src=\"../../theorems/cf7d8f8093c3e548c2321f8dfbea5176ccdf48800/expr.png\" style=\"display:inline;vertical-align:middle;\" /></a></td></tr>\n",
       "<tr><td>10</td><td>ExprTuple</td><td>13</td><td><a class=\"ProveItLink\" href=\"../../theorems/94691c3645e040cd2a9479a1a5372fecf84de7df0/expr.ipynb\"><img src=\"../../theorems/94691c3645e040cd2a9479a1a5372fecf84de7df0/expr.png\" style=\"display:inline;vertical-align:middle;\" /></a></td></tr>\n",
       "<tr><td>11</td><td>Operation</td><td>operator:&nbsp;34<br>operands:&nbsp;14<br></td><td><a class=\"ProveItLink\" href=\"../e20761f7449f69a01608389bf3feb20f8b51fef30/expr.ipynb\"><img src=\"../e20761f7449f69a01608389bf3feb20f8b51fef30/expr.png\" style=\"display:inline;vertical-align:middle;\" /></a></td></tr>\n",
       "<tr><td>12</td><td>Operation</td><td>operator:&nbsp;34<br>operands:&nbsp;15<br></td><td><a class=\"ProveItLink\" href=\"../../theorems/53b1dcf68e656067a9c0a0e9e8041f61830138a90/expr.ipynb\"><img src=\"../../theorems/53b1dcf68e656067a9c0a0e9e8041f61830138a90/expr.png\" style=\"display:inline;vertical-align:middle;\" /></a></td></tr>\n",
       "<tr><td>13</td><td>Operation</td><td>operator:&nbsp;34<br>operands:&nbsp;16<br></td><td><a class=\"ProveItLink\" href=\"../../theorems/12f7f6786e1e7b3a3611a8c7564bf23fc50a9bd80/expr.ipynb\"><img src=\"../../theorems/12f7f6786e1e7b3a3611a8c7564bf23fc50a9bd80/expr.png\" style=\"display:inline;vertical-align:middle;\" /></a></td></tr>\n",
       "<tr><td>14</td><td>ExprTuple</td><td>17, 18</td><td><a class=\"ProveItLink\" href=\"../1b19d051b8d844c38b112df9e9b0ec8464c3d5530/expr.ipynb\"><img src=\"../1b19d051b8d844c38b112df9e9b0ec8464c3d5530/expr.png\" style=\"display:inline;vertical-align:middle;\" /></a></td></tr>\n",
       "<tr><td>15</td><td>ExprTuple</td><td>45, 19</td><td><a class=\"ProveItLink\" href=\"../../theorems/6af2baf8a26ed7f05065f79e9794d18959cd49110/expr.ipynb\"><img src=\"../../theorems/6af2baf8a26ed7f05065f79e9794d18959cd49110/expr.png\" style=\"display:inline;vertical-align:middle;\" /></a></td></tr>\n",
       "<tr><td>16</td><td>ExprTuple</td><td>45, 20</td><td><a class=\"ProveItLink\" href=\"../../theorems/73309d5ce32b7040b6c90ad176ac82fa221ae4e20/expr.ipynb\"><img src=\"../../theorems/73309d5ce32b7040b6c90ad176ac82fa221ae4e20/expr.png\" style=\"display:inline;vertical-align:middle;\" /></a></td></tr>\n",
       "<tr><td>17</td><td>Operation</td><td>operator:&nbsp;46<br>operands:&nbsp;21<br></td><td><a class=\"ProveItLink\" href=\"../676309524f553995e33b602b70a4659dc839cf4b0/expr.ipynb\"><img src=\"../676309524f553995e33b602b70a4659dc839cf4b0/expr.png\" style=\"display:inline;vertical-align:middle;\" /></a></td></tr>\n",
       "<tr><td>18</td><td>Operation</td><td>operator:&nbsp;40<br>operands:&nbsp;22<br></td><td><a class=\"ProveItLink\" href=\"../7e71339b094f5209e726a4ec7b29b4912dcf95930/expr.ipynb\"><img src=\"../7e71339b094f5209e726a4ec7b29b4912dcf95930/expr.png\" style=\"display:inline;vertical-align:middle;\" /></a></td></tr>\n",
       "<tr><td>19</td><td>Operation</td><td>operator:&nbsp;24<br>operands:&nbsp;23<br></td><td><a class=\"ProveItLink\" href=\"../../theorems/eac1fe53c93b4a8e3f8a5f1462588a08c55cdff60/expr.ipynb\"><img src=\"../../theorems/eac1fe53c93b4a8e3f8a5f1462588a08c55cdff60/expr.png\" style=\"display:inline;vertical-align:middle;\" /></a></td></tr>\n",
       "<tr><td>20</td><td>Operation</td><td>operator:&nbsp;24<br>operands:&nbsp;25<br></td><td><a class=\"ProveItLink\" href=\"../../theorems/ebd0c79c06a73f5d3a478425bdb7e1cd5539ede10/expr.ipynb\"><img src=\"../../theorems/ebd0c79c06a73f5d3a478425bdb7e1cd5539ede10/expr.png\" style=\"display:inline;vertical-align:middle;\" /></a></td></tr>\n",
       "<tr><td>21</td><td>ExprTuple</td><td>26, 32</td><td><a class=\"ProveItLink\" href=\"../3ae47485f5bb7b839f388b919a01ad67013580b00/expr.ipynb\"><img src=\"../3ae47485f5bb7b839f388b919a01ad67013580b00/expr.png\" style=\"display:inline;vertical-align:middle;\" /></a></td></tr>\n",
       "<tr><td>22</td><td>ExprTuple</td><td>27, 43</td><td><a class=\"ProveItLink\" href=\"../d677c5be0137e22b9708dda6e3ddd3065150ca120/expr.ipynb\"><img src=\"../d677c5be0137e22b9708dda6e3ddd3065150ca120/expr.png\" style=\"display:inline;vertical-align:middle;\" /></a></td></tr>\n",
       "<tr><td>23</td><td>ExprTuple</td><td>43, 33</td><td><a class=\"ProveItLink\" href=\"../../theorems/9781daa57a04ca65a20ff75a060fb745eff7a2080/expr.ipynb\"><img src=\"../../theorems/9781daa57a04ca65a20ff75a060fb745eff7a2080/expr.png\" style=\"display:inline;vertical-align:middle;\" /></a></td></tr>\n",
       "<tr><td>24</td><td>Literal</td><td></td><td><a class=\"ProveItLink\" href=\"../../../../../../numbers/multiplication/__pv_it/common/ed719cef37831779c16481533a4d380a2f95ab270/expr.ipynb\"><img src=\"../../../../../../numbers/multiplication/__pv_it/common/ed719cef37831779c16481533a4d380a2f95ab270/expr.png\" style=\"display:inline;vertical-align:middle;\" /></a></td></tr>\n",
       "<tr><td>25</td><td>ExprTuple</td><td>28, 29</td><td><a class=\"ProveItLink\" href=\"../../theorems/ea628032e6824e6b779993e2a8703ad778c7085f0/expr.ipynb\"><img src=\"../../theorems/ea628032e6824e6b779993e2a8703ad778c7085f0/expr.png\" style=\"display:inline;vertical-align:middle;\" /></a></td></tr>\n",
       "<tr><td>26</td><td>Literal</td><td></td><td><a class=\"ProveItLink\" href=\"../../../../../../numbers/numerals/__pv_it/common/1943b60945420e340d305780feff5c1aff2740ff0/expr.ipynb\"><img src=\"../../../../../../numbers/numerals/__pv_it/common/1943b60945420e340d305780feff5c1aff2740ff0/expr.png\" style=\"display:inline;vertical-align:middle;\" /></a></td></tr>\n",
       "<tr><td>27</td><td>Operation</td><td>operator:&nbsp;46<br>operands:&nbsp;30<br></td><td><a class=\"ProveItLink\" href=\"../062e4969fe07b177da41c7972b29d3a293e3c3650/expr.ipynb\"><img src=\"../062e4969fe07b177da41c7972b29d3a293e3c3650/expr.png\" style=\"display:inline;vertical-align:middle;\" /></a></td></tr>\n",
       "<tr><td>28</td><td>Literal</td><td></td><td><a class=\"ProveItLink\" href=\"../../../../../../numbers/numerals/__pv_it/common/48a1d915c1e9490b9a94e5c77a208938d3ee20ce0/expr.ipynb\"><img src=\"../../../../../../numbers/numerals/__pv_it/common/48a1d915c1e9490b9a94e5c77a208938d3ee20ce0/expr.png\" style=\"display:inline;vertical-align:middle;\" /></a></td></tr>\n",
       "<tr><td>29</td><td>Operation</td><td>operator:&nbsp;40<br>operands:&nbsp;31<br></td><td><a class=\"ProveItLink\" href=\"../../theorems/8c0e50018bcc2ec9e16212ff6e84cbd587f524280/expr.ipynb\"><img src=\"../../theorems/8c0e50018bcc2ec9e16212ff6e84cbd587f524280/expr.png\" style=\"display:inline;vertical-align:middle;\" /></a></td></tr>\n",
       "<tr><td>30</td><td>ExprTuple</td><td>43, 32</td><td><a class=\"ProveItLink\" href=\"../e3a24dd994cc54ff2f973032911ad759d08daf4e0/expr.ipynb\"><img src=\"../e3a24dd994cc54ff2f973032911ad759d08daf4e0/expr.png\" style=\"display:inline;vertical-align:middle;\" /></a></td></tr>\n",
       "<tr><td>31</td><td>ExprTuple</td><td>33, 43</td><td><a class=\"ProveItLink\" href=\"../../theorems/bbbf6cf5cf410181de292ad1e2283b6449091d590/expr.ipynb\"><img src=\"../../theorems/bbbf6cf5cf410181de292ad1e2283b6449091d590/expr.png\" style=\"display:inline;vertical-align:middle;\" /></a></td></tr>\n",
       "<tr><td>32</td><td>Operation</td><td>operator:&nbsp;34<br>operands:&nbsp;35<br></td><td><a class=\"ProveItLink\" href=\"../3b1599ffed379188b72b8aa00d4eb3fe05c4f1090/expr.ipynb\"><img src=\"../3b1599ffed379188b72b8aa00d4eb3fe05c4f1090/expr.png\" style=\"display:inline;vertical-align:middle;\" /></a></td></tr>\n",
       "<tr><td>33</td><td>Operation</td><td>operator:&nbsp;46<br>operands:&nbsp;36<br></td><td><a class=\"ProveItLink\" href=\"../../theorems/9e3a52b5da7d10d98236f10e33a33e01f49e9aa10/expr.ipynb\"><img src=\"../../theorems/9e3a52b5da7d10d98236f10e33a33e01f49e9aa10/expr.png\" style=\"display:inline;vertical-align:middle;\" /></a></td></tr>\n",
       "<tr><td>34</td><td>Literal</td><td></td><td><a class=\"ProveItLink\" href=\"../../../../../../numbers/division/__pv_it/common/a2a633e1e3c749fb1f2692466b287b6348c5de840/expr.ipynb\"><img src=\"../../../../../../numbers/division/__pv_it/common/a2a633e1e3c749fb1f2692466b287b6348c5de840/expr.png\" style=\"display:inline;vertical-align:middle;\" /></a></td></tr>\n",
       "<tr><td>35</td><td>ExprTuple</td><td>45, 37</td><td><a class=\"ProveItLink\" href=\"../9e9714ca92fbcd1f2d2715f3be18193d34c8dfda0/expr.ipynb\"><img src=\"../9e9714ca92fbcd1f2d2715f3be18193d34c8dfda0/expr.png\" style=\"display:inline;vertical-align:middle;\" /></a></td></tr>\n",
       "<tr><td>36</td><td>ExprTuple</td><td>38, 39</td><td><a class=\"ProveItLink\" href=\"../../theorems/4ce61c7a515314c0da07d37cd760b7c6b93a5cf00/expr.ipynb\"><img src=\"../../theorems/4ce61c7a515314c0da07d37cd760b7c6b93a5cf00/expr.png\" style=\"display:inline;vertical-align:middle;\" /></a></td></tr>\n",
       "<tr><td>37</td><td>Literal</td><td></td><td><a class=\"ProveItLink\" href=\"../../common/485907859be40bef8e8f7cdf5626e806953b47db0/expr.ipynb\"><img src=\"../../common/485907859be40bef8e8f7cdf5626e806953b47db0/expr.png\" style=\"display:inline;vertical-align:middle;\" /></a></td></tr>\n",
       "<tr><td>38</td><td>Operation</td><td>operator:&nbsp;40<br>operands:&nbsp;41<br></td><td><a class=\"ProveItLink\" href=\"../../theorems/b60055cf785eaf13a6d8c649a43d536bd2ebc5af0/expr.ipynb\"><img src=\"../../theorems/b60055cf785eaf13a6d8c649a43d536bd2ebc5af0/expr.png\" style=\"display:inline;vertical-align:middle;\" /></a></td></tr>\n",
       "<tr><td>39</td><td>Operation</td><td>operator:&nbsp;50<br>operand:&nbsp;45<br></td><td><a class=\"ProveItLink\" href=\"../../common/bf4beda21975fe8a0a5007615b5bcc943da59bb20/expr.ipynb\"><img src=\"../../common/bf4beda21975fe8a0a5007615b5bcc943da59bb20/expr.png\" style=\"display:inline;vertical-align:middle;\" /></a></td></tr>\n",
       "<tr><td>40</td><td>Literal</td><td></td><td><a class=\"ProveItLink\" href=\"../../../../../../numbers/exponentiation/__pv_it/common/0ac37aca1e54c35c5cda09672df32d4f69f1f3020/expr.ipynb\"><img src=\"../../../../../../numbers/exponentiation/__pv_it/common/0ac37aca1e54c35c5cda09672df32d4f69f1f3020/expr.png\" style=\"display:inline;vertical-align:middle;\" /></a></td></tr>\n",
       "<tr><td>41</td><td>ExprTuple</td><td>43, 44</td><td><a class=\"ProveItLink\" href=\"../../theorems/dacfcf5f53d9d602aa9fdda827d78df55c7d530e0/expr.ipynb\"><img src=\"../../theorems/dacfcf5f53d9d602aa9fdda827d78df55c7d530e0/expr.png\" style=\"display:inline;vertical-align:middle;\" /></a></td></tr>\n",
       "<tr><td>42</td><td>ExprTuple</td><td>45</td><td><a class=\"ProveItLink\" href=\"../../common/b9e4f0dffece176bbe2f36127440684a20e0468e0/expr.ipynb\"><img src=\"../../common/b9e4f0dffece176bbe2f36127440684a20e0468e0/expr.png\" style=\"display:inline;vertical-align:middle;\" /></a></td></tr>\n",
       "<tr><td>43</td><td>Literal</td><td></td><td><a class=\"ProveItLink\" href=\"../../../../../../numbers/numerals/__pv_it/common/af4aab8a07465db063742696e006d04670f30cf10/expr.ipynb\"><img src=\"../../../../../../numbers/numerals/__pv_it/common/af4aab8a07465db063742696e006d04670f30cf10/expr.png\" style=\"display:inline;vertical-align:middle;\" /></a></td></tr>\n",
       "<tr><td>44</td><td>Operation</td><td>operator:&nbsp;46<br>operands:&nbsp;47<br></td><td><a class=\"ProveItLink\" href=\"../../theorems/3e61ca06400a9d038ef58a7761f486129a3d75930/expr.ipynb\"><img src=\"../../theorems/3e61ca06400a9d038ef58a7761f486129a3d75930/expr.png\" style=\"display:inline;vertical-align:middle;\" /></a></td></tr>\n",
       "<tr><td>45</td><td>Literal</td><td></td><td><a class=\"ProveItLink\" href=\"../../../../../../numbers/numerals/__pv_it/common/682157d4892d216d9e5626ed533aff9b56b9506e0/expr.ipynb\"><img src=\"../../../../../../numbers/numerals/__pv_it/common/682157d4892d216d9e5626ed533aff9b56b9506e0/expr.png\" style=\"display:inline;vertical-align:middle;\" /></a></td></tr>\n",
       "<tr><td>46</td><td>Literal</td><td></td><td><a class=\"ProveItLink\" href=\"../../../../../../numbers/addition/__pv_it/common/4b7effaab3619a1c2c38fe2dee8601df8ec714590/expr.ipynb\"><img src=\"../../../../../../numbers/addition/__pv_it/common/4b7effaab3619a1c2c38fe2dee8601df8ec714590/expr.png\" style=\"display:inline;vertical-align:middle;\" /></a></td></tr>\n",
       "<tr><td>47</td><td>ExprTuple</td><td>48, 49</td><td><a class=\"ProveItLink\" href=\"../../theorems/33e8d789da0e692838e00ab48c9d70baa56e36280/expr.ipynb\"><img src=\"../../theorems/33e8d789da0e692838e00ab48c9d70baa56e36280/expr.png\" style=\"display:inline;vertical-align:middle;\" /></a></td></tr>\n",
       "<tr><td>48</td><td>Literal</td><td></td><td><a class=\"ProveItLink\" href=\"../../common/977cc67717328e22c93f8ab84e6a45e8cadce7790/expr.ipynb\"><img src=\"../../common/977cc67717328e22c93f8ab84e6a45e8cadce7790/expr.png\" style=\"display:inline;vertical-align:middle;\" /></a></td></tr>\n",
       "<tr><td>49</td><td>Operation</td><td>operator:&nbsp;50<br>operand:&nbsp;52<br></td><td><a class=\"ProveItLink\" href=\"../../common/966cd4e4899806f7c573df6437fb3b7a8d0f3a850/expr.ipynb\"><img src=\"../../common/966cd4e4899806f7c573df6437fb3b7a8d0f3a850/expr.png\" style=\"display:inline;vertical-align:middle;\" /></a></td></tr>\n",
       "<tr><td>50</td><td>Literal</td><td></td><td><a class=\"ProveItLink\" href=\"../../../../../../numbers/negation/__pv_it/common/221b3c4d1770ee9051b7c044c3f9ec61196fc34b0/expr.ipynb\"><img src=\"../../../../../../numbers/negation/__pv_it/common/221b3c4d1770ee9051b7c044c3f9ec61196fc34b0/expr.png\" style=\"display:inline;vertical-align:middle;\" /></a></td></tr>\n",
       "<tr><td>51</td><td>ExprTuple</td><td>52</td><td><a class=\"ProveItLink\" href=\"../../common/81a95b49d3fd9a28bd483dd1380484c787d913d40/expr.ipynb\"><img src=\"../../common/81a95b49d3fd9a28bd483dd1380484c787d913d40/expr.png\" style=\"display:inline;vertical-align:middle;\" /></a></td></tr>\n",
       "<tr><td>52</td><td>Literal</td><td></td><td><a class=\"ProveItLink\" href=\"../../common/2727e03becf585d99b6b7de1f9bd63ac87e235100/expr.ipynb\"><img src=\"../../common/2727e03becf585d99b6b7de1f9bd63ac87e235100/expr.png\" style=\"display:inline;vertical-align:middle;\" /></a></td></tr>\n",
       "</table>\n"
      ],
      "text/plain": [
       "0. (1 - ((3 + (1 / eps)) / (2 + (1 / eps))^{2}), 1 - (1 / (2 * (2^{t - n} - 1))) - (1 / (4 * (2^{t - n} - 1)^{2})))\n",
       "   core type: ExprTuple\n",
       "   sub-expressions: 1, 2\n",
       "1. 1 - ((3 + (1 / eps)) / (2 + (1 / eps))^{2})\n",
       "   core type: Operation\n",
       "   operator: 46\n",
       "   operands: 3\n",
       "2. 1 - (1 / (2 * (2^{t - n} - 1))) - (1 / (4 * (2^{t - n} - 1)^{2}))\n",
       "   core type: Operation\n",
       "   operator: 46\n",
       "   operands: 4\n",
       "3. (1, -((3 + (1 / eps)) / (2 + (1 / eps))^{2}))\n",
       "   core type: ExprTuple\n",
       "   sub-expressions: 45, 5\n",
       "4. (1, -(1 / (2 * (2^{t - n} - 1))), -(1 / (4 * (2^{t - n} - 1)^{2})))\n",
       "   core type: ExprTuple\n",
       "   sub-expressions: 45, 6, 7\n",
       "5. -((3 + (1 / eps)) / (2 + (1 / eps))^{2})\n",
       "   core type: Operation\n",
       "   operator: 50\n",
       "   operand: 11\n",
       "6. -(1 / (2 * (2^{t - n} - 1)))\n",
       "   core type: Operation\n",
       "   operator: 50\n",
       "   operand: 12\n",
       "7. -(1 / (4 * (2^{t - n} - 1)^{2}))\n",
       "   core type: Operation\n",
       "   operator: 50\n",
       "   operand: 13\n",
       "8. ((3 + (1 / eps)) / (2 + (1 / eps))^{2})\n",
       "   core type: ExprTuple\n",
       "   sub-expressions: 11\n",
       "9. (1 / (2 * (2^{t - n} - 1)))\n",
       "   core type: ExprTuple\n",
       "   sub-expressions: 12\n",
       "10. (1 / (4 * (2^{t - n} - 1)^{2}))\n",
       "    core type: ExprTuple\n",
       "    sub-expressions: 13\n",
       "11. (3 + (1 / eps)) / (2 + (1 / eps))^{2}\n",
       "    core type: Operation\n",
       "    operator: 34\n",
       "    operands: 14\n",
       "12. 1 / (2 * (2^{t - n} - 1))\n",
       "    core type: Operation\n",
       "    operator: 34\n",
       "    operands: 15\n",
       "13. 1 / (4 * (2^{t - n} - 1)^{2})\n",
       "    core type: Operation\n",
       "    operator: 34\n",
       "    operands: 16\n",
       "14. (3 + (1 / eps), (2 + (1 / eps))^{2})\n",
       "    core type: ExprTuple\n",
       "    sub-expressions: 17, 18\n",
       "15. (1, 2 * (2^{t - n} - 1))\n",
       "    core type: ExprTuple\n",
       "    sub-expressions: 45, 19\n",
       "16. (1, 4 * (2^{t - n} - 1)^{2})\n",
       "    core type: ExprTuple\n",
       "    sub-expressions: 45, 20\n",
       "17. 3 + (1 / eps)\n",
       "    core type: Operation\n",
       "    operator: 46\n",
       "    operands: 21\n",
       "18. (2 + (1 / eps))^{2}\n",
       "    core type: Operation\n",
       "    operator: 40\n",
       "    operands: 22\n",
       "19. 2 * (2^{t - n} - 1)\n",
       "    core type: Operation\n",
       "    operator: 24\n",
       "    operands: 23\n",
       "20. 4 * (2^{t - n} - 1)^{2}\n",
       "    core type: Operation\n",
       "    operator: 24\n",
       "    operands: 25\n",
       "21. (3, 1 / eps)\n",
       "    core type: ExprTuple\n",
       "    sub-expressions: 26, 32\n",
       "22. (2 + (1 / eps), 2)\n",
       "    core type: ExprTuple\n",
       "    sub-expressions: 27, 43\n",
       "23. (2, 2^{t - n} - 1)\n",
       "    core type: ExprTuple\n",
       "    sub-expressions: 43, 33\n",
       "24. *\n",
       "    core type: Literal\n",
       "    sub-expressions: \n",
       "25. (4, (2^{t - n} - 1)^{2})\n",
       "    core type: ExprTuple\n",
       "    sub-expressions: 28, 29\n",
       "26. 3\n",
       "    core type: Literal\n",
       "    sub-expressions: \n",
       "27. 2 + (1 / eps)\n",
       "    core type: Operation\n",
       "    operator: 46\n",
       "    operands: 30\n",
       "28. 4\n",
       "    core type: Literal\n",
       "    sub-expressions: \n",
       "29. (2^{t - n} - 1)^{2}\n",
       "    core type: Operation\n",
       "    operator: 40\n",
       "    operands: 31\n",
       "30. (2, 1 / eps)\n",
       "    core type: ExprTuple\n",
       "    sub-expressions: 43, 32\n",
       "31. (2^{t - n} - 1, 2)\n",
       "    core type: ExprTuple\n",
       "    sub-expressions: 33, 43\n",
       "32. 1 / eps\n",
       "    core type: Operation\n",
       "    operator: 34\n",
       "    operands: 35\n",
       "33. 2^{t - n} - 1\n",
       "    core type: Operation\n",
       "    operator: 46\n",
       "    operands: 36\n",
       "34. /\n",
       "    core type: Literal\n",
       "    sub-expressions: \n",
       "35. (1, eps)\n",
       "    core type: ExprTuple\n",
       "    sub-expressions: 45, 37\n",
       "36. (2^{t - n}, -1)\n",
       "    core type: ExprTuple\n",
       "    sub-expressions: 38, 39\n",
       "37. eps\n",
       "    core type: Literal\n",
       "    sub-expressions: \n",
       "38. 2^{t - n}\n",
       "    core type: Operation\n",
       "    operator: 40\n",
       "    operands: 41\n",
       "39. -1\n",
       "    core type: Operation\n",
       "    operator: 50\n",
       "    operand: 45\n",
       "40. Exp\n",
       "    core type: Literal\n",
       "    sub-expressions: \n",
       "41. (2, t - n)\n",
       "    core type: ExprTuple\n",
       "    sub-expressions: 43, 44\n",
       "42. (1)\n",
       "    core type: ExprTuple\n",
       "    sub-expressions: 45\n",
       "43. 2\n",
       "    core type: Literal\n",
       "    sub-expressions: \n",
       "44. t - n\n",
       "    core type: Operation\n",
       "    operator: 46\n",
       "    operands: 47\n",
       "45. 1\n",
       "    core type: Literal\n",
       "    sub-expressions: \n",
       "46. +\n",
       "    core type: Literal\n",
       "    sub-expressions: \n",
       "47. (t, -n)\n",
       "    core type: ExprTuple\n",
       "    sub-expressions: 48, 49\n",
       "48. t\n",
       "    core type: Literal\n",
       "    sub-expressions: \n",
       "49. -n\n",
       "    core type: Operation\n",
       "    operator: 50\n",
       "    operand: 52\n",
       "50. -\n",
       "    core type: Literal\n",
       "    sub-expressions: \n",
       "51. (n)\n",
       "    core type: ExprTuple\n",
       "    sub-expressions: 52\n",
       "52. n\n",
       "    core type: Literal\n",
       "    sub-expressions: "
      ]
     },
     "metadata": {},
     "output_type": "display_data"
    }
   ],
   "source": [
    "# display the expression information\n",
    "stored_expr.expr_info()"
   ]
  },
  {
   "cell_type": "code",
   "execution_count": null,
   "metadata": {},
   "outputs": [],
   "source": []
  }
 ],
 "metadata": {
  "kernelspec": {
   "display_name": "Python 3",
   "language": "python",
   "name": "python3"
  }
 },
 "nbformat": 4,
 "nbformat_minor": 0
}