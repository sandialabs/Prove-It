{
 "cells": [
  {
   "cell_type": "markdown",
   "metadata": {},
   "source": [
    "Expression of type <a class=\"ProveItLink\" href=\"../../../../../../../../doc/html/api/proveit.numbers.Less.html\">Less</a>\n",
    "=======================\n",
    "# from the theory of <a class=\"ProveItLink\" href=\"../../../_theory_nbs_/theory.ipynb\">proveit.physics.quantum.QPE</a>"
   ]
  },
  {
   "cell_type": "code",
   "execution_count": 1,
   "metadata": {},
   "outputs": [],
   "source": [
    "import proveit\n",
    "# Automation is not needed when building an expression:\n",
    "proveit.defaults.automation = False # This will speed things up.\n",
    "proveit.defaults.inline_pngs = False # Makes files smaller.\n",
    "%load_expr # Load the stored expression as 'stored_expr'\n",
    "# import Expression classes needed to build the expression\n",
    "from proveit.numbers import Add, Exp, Less, Mult, frac, one, subtract, three, two\n",
    "from proveit.physics.quantum.QPE import _eps"
   ]
  },
  {
   "cell_type": "code",
   "execution_count": 2,
   "metadata": {},
   "outputs": [
    {
     "data": {
      "text/html": [
       "<strong id=\"expr\">expr:</strong> <a class=\"ProveItLink\" href=\"expr.ipynb\"><img src=\"expr.png\" style=\"display:inline;vertical-align:middle;\" /></a><br>"
      ],
      "text/plain": [
       "<IPython.core.display.HTML object>"
      ]
     },
     "metadata": {},
     "output_type": "display_data"
    }
   ],
   "source": [
    "# build up the expression from sub-expressions\n",
    "expr = Less(subtract(one, _eps), subtract(one, Mult(_eps, frac(Add(Mult(three, _eps), one), Exp(Add(Mult(two, _eps), one), two)))))"
   ]
  },
  {
   "cell_type": "code",
   "execution_count": 3,
   "metadata": {},
   "outputs": [
    {
     "name": "stdout",
     "output_type": "stream",
     "text": [
      "Passed sanity check: expr matches stored_expr\n"
     ]
    }
   ],
   "source": [
    "# check that the built expression is the same as the stored expression\n",
    "assert expr == stored_expr\n",
    "assert expr._style_id == stored_expr._style_id\n",
    "print(\"Passed sanity check: expr matches stored_expr\")"
   ]
  },
  {
   "cell_type": "code",
   "execution_count": 4,
   "metadata": {},
   "outputs": [
    {
     "name": "stdout",
     "output_type": "stream",
     "text": [
      "\\left(1 - \\epsilon\\right) < \\left(1 - \\left(\\epsilon \\cdot \\frac{\\left(3 \\cdot \\epsilon\\right) + 1}{\\left(\\left(2 \\cdot \\epsilon\\right) + 1\\right)^{2}}\\right)\\right)\n"
     ]
    }
   ],
   "source": [
    "# Show the LaTeX representation of the expression for convenience if you need it.\n",
    "print(stored_expr.latex())"
   ]
  },
  {
   "cell_type": "code",
   "execution_count": 5,
   "metadata": {},
   "outputs": [
    {
     "data": {
      "text/html": [
       "<table>\n",
       "<tr><th>name</th><th>description</th><th>default</th><th>current value</th><th>related methods</th></tr><tr><td>operation</td><td>'infix' or 'function' style formatting</td><td>infix</td><td>infix</td><td></td></tr>\n",
       "<tr><td>wrap_positions</td><td>position(s) at which wrapping is to occur; '2 n - 1' is after the nth operand, '2 n' is after the nth operation.</td><td>()</td><td>()</td><td>('with_wrapping_at', 'with_wrap_before_operator', 'with_wrap_after_operator', 'without_wrapping', 'wrap_positions')</td></tr>\n",
       "<tr><td>justification</td><td>if any wrap positions are set, justify to the 'left', 'center', or 'right'</td><td>center</td><td>center</td><td>('with_justification',)</td></tr>\n",
       "<tr><td>direction</td><td>Direction of the relation (normal or reversed)</td><td>normal</td><td>normal</td><td>('with_direction_reversed', 'is_reversed')</td></tr>\n",
       "</table>\n"
      ],
      "text/plain": [
       "style name: operation\n",
       "description: 'infix' or 'function' style formatting\n",
       "default: infix\n",
       "current value: infix\n",
       "related methods: ()\n",
       "style name: wrap_positions\n",
       "description: position(s) at which wrapping is to occur; '2 n - 1' is after the nth operand, '2 n' is after the nth operation.\n",
       "default: ()\n",
       "current value: ()\n",
       "related methods: ('with_wrapping_at', 'with_wrap_before_operator', 'with_wrap_after_operator', 'without_wrapping', 'wrap_positions')\n",
       "style name: justification\n",
       "description: if any wrap positions are set, justify to the 'left', 'center', or 'right'\n",
       "default: center\n",
       "current value: center\n",
       "related methods: ('with_justification',)\n",
       "style name: direction\n",
       "description: Direction of the relation (normal or reversed)\n",
       "default: normal\n",
       "current value: normal\n",
       "related methods: ('with_direction_reversed', 'is_reversed')"
      ]
     },
     "metadata": {},
     "output_type": "display_data"
    }
   ],
   "source": [
    "stored_expr.style_options()"
   ]
  },
  {
   "cell_type": "code",
   "execution_count": 6,
   "metadata": {},
   "outputs": [
    {
     "data": {
      "text/html": [
       "<table><tr><th>&nbsp;</th><th>core type</th><th>sub-expressions</th><th>expression</th></tr>\n",
       "<tr><td>0</td><td>Operation</td><td>operator:&nbsp;1<br>operands:&nbsp;2<br></td><td><a class=\"ProveItLink\" href=\"expr.ipynb\"><img src=\"expr.png\" style=\"display:inline;vertical-align:middle;\" /></a></td></tr>\n",
       "<tr><td>1</td><td>Literal</td><td></td><td><a class=\"ProveItLink\" href=\"../../../../../../numbers/ordering/__pv_it/common/fa503ed52033522c609eef1cf3e1b45796489da50/expr.ipynb\"><img src=\"../../../../../../numbers/ordering/__pv_it/common/fa503ed52033522c609eef1cf3e1b45796489da50/expr.png\" style=\"display:inline;vertical-align:middle;\" /></a></td></tr>\n",
       "<tr><td>2</td><td>ExprTuple</td><td>3, 4</td><td><a class=\"ProveItLink\" href=\"../cc7c98b9bc38982ab051615659b5bbd5a48059b60/expr.ipynb\"><img src=\"../cc7c98b9bc38982ab051615659b5bbd5a48059b60/expr.png\" style=\"display:inline;vertical-align:middle;\" /></a></td></tr>\n",
       "<tr><td>3</td><td>Operation</td><td>operator:&nbsp;25<br>operands:&nbsp;5<br></td><td><a class=\"ProveItLink\" href=\"../../theorems/daf15e7cb4e3fd1efaa85bab3ea544e1ca7ba8d40/expr.ipynb\"><img src=\"../../theorems/daf15e7cb4e3fd1efaa85bab3ea544e1ca7ba8d40/expr.png\" style=\"display:inline;vertical-align:middle;\" /></a></td></tr>\n",
       "<tr><td>4</td><td>Operation</td><td>operator:&nbsp;25<br>operands:&nbsp;6<br></td><td><a class=\"ProveItLink\" href=\"../24fbef4155a1655ffe8973969936a62206b0b3790/expr.ipynb\"><img src=\"../24fbef4155a1655ffe8973969936a62206b0b3790/expr.png\" style=\"display:inline;vertical-align:middle;\" /></a></td></tr>\n",
       "<tr><td>5</td><td>ExprTuple</td><td>29, 7</td><td><a class=\"ProveItLink\" href=\"../../theorems/4813456c4ef9f22d32b3d3606f4f58f7e517ce7a0/expr.ipynb\"><img src=\"../../theorems/4813456c4ef9f22d32b3d3606f4f58f7e517ce7a0/expr.png\" style=\"display:inline;vertical-align:middle;\" /></a></td></tr>\n",
       "<tr><td>6</td><td>ExprTuple</td><td>29, 8</td><td><a class=\"ProveItLink\" href=\"../587f2d4005a945652e93d902b110dc3f6284d3b60/expr.ipynb\"><img src=\"../587f2d4005a945652e93d902b110dc3f6284d3b60/expr.png\" style=\"display:inline;vertical-align:middle;\" /></a></td></tr>\n",
       "<tr><td>7</td><td>Operation</td><td>operator:&nbsp;10<br>operand:&nbsp;33<br></td><td><a class=\"ProveItLink\" href=\"../../theorems/283e39470ca9997eeece08e222adf60b5f1b9a570/expr.ipynb\"><img src=\"../../theorems/283e39470ca9997eeece08e222adf60b5f1b9a570/expr.png\" style=\"display:inline;vertical-align:middle;\" /></a></td></tr>\n",
       "<tr><td>8</td><td>Operation</td><td>operator:&nbsp;10<br>operand:&nbsp;12<br></td><td><a class=\"ProveItLink\" href=\"../c62356ffd467d07eac04d8428c54f59b21bd3f540/expr.ipynb\"><img src=\"../c62356ffd467d07eac04d8428c54f59b21bd3f540/expr.png\" style=\"display:inline;vertical-align:middle;\" /></a></td></tr>\n",
       "<tr><td>9</td><td>ExprTuple</td><td>33</td><td><a class=\"ProveItLink\" href=\"../../theorems/ffb06f4073925bc5b56c8f2af00f19a2e1c6f0960/expr.ipynb\"><img src=\"../../theorems/ffb06f4073925bc5b56c8f2af00f19a2e1c6f0960/expr.png\" style=\"display:inline;vertical-align:middle;\" /></a></td></tr>\n",
       "<tr><td>10</td><td>Literal</td><td></td><td><a class=\"ProveItLink\" href=\"../../../../../../numbers/negation/__pv_it/common/221b3c4d1770ee9051b7c044c3f9ec61196fc34b0/expr.ipynb\"><img src=\"../../../../../../numbers/negation/__pv_it/common/221b3c4d1770ee9051b7c044c3f9ec61196fc34b0/expr.png\" style=\"display:inline;vertical-align:middle;\" /></a></td></tr>\n",
       "<tr><td>11</td><td>ExprTuple</td><td>12</td><td><a class=\"ProveItLink\" href=\"../fb0e148efcf243ffc664f3d606144c0a704ab1d50/expr.ipynb\"><img src=\"../fb0e148efcf243ffc664f3d606144c0a704ab1d50/expr.png\" style=\"display:inline;vertical-align:middle;\" /></a></td></tr>\n",
       "<tr><td>12</td><td>Operation</td><td>operator:&nbsp;30<br>operands:&nbsp;13<br></td><td><a class=\"ProveItLink\" href=\"../e76e62fcd7e6cdfdb79a4d7d2f1625d9cbea974b0/expr.ipynb\"><img src=\"../e76e62fcd7e6cdfdb79a4d7d2f1625d9cbea974b0/expr.png\" style=\"display:inline;vertical-align:middle;\" /></a></td></tr>\n",
       "<tr><td>13</td><td>ExprTuple</td><td>33, 14</td><td><a class=\"ProveItLink\" href=\"../f594ae1a3953b186df559741f1063a1f3e31692c0/expr.ipynb\"><img src=\"../f594ae1a3953b186df559741f1063a1f3e31692c0/expr.png\" style=\"display:inline;vertical-align:middle;\" /></a></td></tr>\n",
       "<tr><td>14</td><td>Operation</td><td>operator:&nbsp;15<br>operands:&nbsp;16<br></td><td><a class=\"ProveItLink\" href=\"../3d44eec4980c968b220403e497e2c3fc8ec60f090/expr.ipynb\"><img src=\"../3d44eec4980c968b220403e497e2c3fc8ec60f090/expr.png\" style=\"display:inline;vertical-align:middle;\" /></a></td></tr>\n",
       "<tr><td>15</td><td>Literal</td><td></td><td><a class=\"ProveItLink\" href=\"../../../../../../numbers/division/__pv_it/common/a2a633e1e3c749fb1f2692466b287b6348c5de840/expr.ipynb\"><img src=\"../../../../../../numbers/division/__pv_it/common/a2a633e1e3c749fb1f2692466b287b6348c5de840/expr.png\" style=\"display:inline;vertical-align:middle;\" /></a></td></tr>\n",
       "<tr><td>16</td><td>ExprTuple</td><td>17, 18</td><td><a class=\"ProveItLink\" href=\"../fe84c408fbe105e3b20ea879d05e7aff38b221af0/expr.ipynb\"><img src=\"../fe84c408fbe105e3b20ea879d05e7aff38b221af0/expr.png\" style=\"display:inline;vertical-align:middle;\" /></a></td></tr>\n",
       "<tr><td>17</td><td>Operation</td><td>operator:&nbsp;25<br>operands:&nbsp;19<br></td><td><a class=\"ProveItLink\" href=\"../7105976c0cd78b76f1903acc8790716a4f4c89a60/expr.ipynb\"><img src=\"../7105976c0cd78b76f1903acc8790716a4f4c89a60/expr.png\" style=\"display:inline;vertical-align:middle;\" /></a></td></tr>\n",
       "<tr><td>18</td><td>Operation</td><td>operator:&nbsp;20<br>operands:&nbsp;21<br></td><td><a class=\"ProveItLink\" href=\"../cdf59c277ce82082d038d24d5945922aa52993c00/expr.ipynb\"><img src=\"../cdf59c277ce82082d038d24d5945922aa52993c00/expr.png\" style=\"display:inline;vertical-align:middle;\" /></a></td></tr>\n",
       "<tr><td>19</td><td>ExprTuple</td><td>22, 29</td><td><a class=\"ProveItLink\" href=\"../7c7340c4c03d15504b08d0a09015b60304ecc90a0/expr.ipynb\"><img src=\"../7c7340c4c03d15504b08d0a09015b60304ecc90a0/expr.png\" style=\"display:inline;vertical-align:middle;\" /></a></td></tr>\n",
       "<tr><td>20</td><td>Literal</td><td></td><td><a class=\"ProveItLink\" href=\"../../../../../../numbers/exponentiation/__pv_it/common/0ac37aca1e54c35c5cda09672df32d4f69f1f3020/expr.ipynb\"><img src=\"../../../../../../numbers/exponentiation/__pv_it/common/0ac37aca1e54c35c5cda09672df32d4f69f1f3020/expr.png\" style=\"display:inline;vertical-align:middle;\" /></a></td></tr>\n",
       "<tr><td>21</td><td>ExprTuple</td><td>23, 32</td><td><a class=\"ProveItLink\" href=\"../03dcd23e51238cf03bffa0d0dc393ae7cc835e5d0/expr.ipynb\"><img src=\"../03dcd23e51238cf03bffa0d0dc393ae7cc835e5d0/expr.png\" style=\"display:inline;vertical-align:middle;\" /></a></td></tr>\n",
       "<tr><td>22</td><td>Operation</td><td>operator:&nbsp;30<br>operands:&nbsp;24<br></td><td><a class=\"ProveItLink\" href=\"../01d2650c757eb60ed014b5a2a71d3f49fa7018340/expr.ipynb\"><img src=\"../01d2650c757eb60ed014b5a2a71d3f49fa7018340/expr.png\" style=\"display:inline;vertical-align:middle;\" /></a></td></tr>\n",
       "<tr><td>23</td><td>Operation</td><td>operator:&nbsp;25<br>operands:&nbsp;26<br></td><td><a class=\"ProveItLink\" href=\"../d592e37511ec74d7ae483a14b57e3e8040f70f840/expr.ipynb\"><img src=\"../d592e37511ec74d7ae483a14b57e3e8040f70f840/expr.png\" style=\"display:inline;vertical-align:middle;\" /></a></td></tr>\n",
       "<tr><td>24</td><td>ExprTuple</td><td>27, 33</td><td><a class=\"ProveItLink\" href=\"../79a9dfcbdfc16af0b4049da37528c36c52926f080/expr.ipynb\"><img src=\"../79a9dfcbdfc16af0b4049da37528c36c52926f080/expr.png\" style=\"display:inline;vertical-align:middle;\" /></a></td></tr>\n",
       "<tr><td>25</td><td>Literal</td><td></td><td><a class=\"ProveItLink\" href=\"../../../../../../numbers/addition/__pv_it/common/4b7effaab3619a1c2c38fe2dee8601df8ec714590/expr.ipynb\"><img src=\"../../../../../../numbers/addition/__pv_it/common/4b7effaab3619a1c2c38fe2dee8601df8ec714590/expr.png\" style=\"display:inline;vertical-align:middle;\" /></a></td></tr>\n",
       "<tr><td>26</td><td>ExprTuple</td><td>28, 29</td><td><a class=\"ProveItLink\" href=\"../ea4c3db585d5df88bf3ce50f3309616c101440d40/expr.ipynb\"><img src=\"../ea4c3db585d5df88bf3ce50f3309616c101440d40/expr.png\" style=\"display:inline;vertical-align:middle;\" /></a></td></tr>\n",
       "<tr><td>27</td><td>Literal</td><td></td><td><a class=\"ProveItLink\" href=\"../../../../../../numbers/numerals/__pv_it/common/1943b60945420e340d305780feff5c1aff2740ff0/expr.ipynb\"><img src=\"../../../../../../numbers/numerals/__pv_it/common/1943b60945420e340d305780feff5c1aff2740ff0/expr.png\" style=\"display:inline;vertical-align:middle;\" /></a></td></tr>\n",
       "<tr><td>28</td><td>Operation</td><td>operator:&nbsp;30<br>operands:&nbsp;31<br></td><td><a class=\"ProveItLink\" href=\"../../axioms/e8c82bc0e280cf0ef537f5ad39e777a8d7d366cd0/expr.ipynb\"><img src=\"../../axioms/e8c82bc0e280cf0ef537f5ad39e777a8d7d366cd0/expr.png\" style=\"display:inline;vertical-align:middle;\" /></a></td></tr>\n",
       "<tr><td>29</td><td>Literal</td><td></td><td><a class=\"ProveItLink\" href=\"../../../../../../numbers/numerals/__pv_it/common/682157d4892d216d9e5626ed533aff9b56b9506e0/expr.ipynb\"><img src=\"../../../../../../numbers/numerals/__pv_it/common/682157d4892d216d9e5626ed533aff9b56b9506e0/expr.png\" style=\"display:inline;vertical-align:middle;\" /></a></td></tr>\n",
       "<tr><td>30</td><td>Literal</td><td></td><td><a class=\"ProveItLink\" href=\"../../../../../../numbers/multiplication/__pv_it/common/ed719cef37831779c16481533a4d380a2f95ab270/expr.ipynb\"><img src=\"../../../../../../numbers/multiplication/__pv_it/common/ed719cef37831779c16481533a4d380a2f95ab270/expr.png\" style=\"display:inline;vertical-align:middle;\" /></a></td></tr>\n",
       "<tr><td>31</td><td>ExprTuple</td><td>32, 33</td><td><a class=\"ProveItLink\" href=\"../../axioms/888e6dc26edc199ba5df48eed8a3f60eeaa1dd9e0/expr.ipynb\"><img src=\"../../axioms/888e6dc26edc199ba5df48eed8a3f60eeaa1dd9e0/expr.png\" style=\"display:inline;vertical-align:middle;\" /></a></td></tr>\n",
       "<tr><td>32</td><td>Literal</td><td></td><td><a class=\"ProveItLink\" href=\"../../../../../../numbers/numerals/__pv_it/common/af4aab8a07465db063742696e006d04670f30cf10/expr.ipynb\"><img src=\"../../../../../../numbers/numerals/__pv_it/common/af4aab8a07465db063742696e006d04670f30cf10/expr.png\" style=\"display:inline;vertical-align:middle;\" /></a></td></tr>\n",
       "<tr><td>33</td><td>Literal</td><td></td><td><a class=\"ProveItLink\" href=\"../../common/485907859be40bef8e8f7cdf5626e806953b47db0/expr.ipynb\"><img src=\"../../common/485907859be40bef8e8f7cdf5626e806953b47db0/expr.png\" style=\"display:inline;vertical-align:middle;\" /></a></td></tr>\n",
       "</table>\n"
      ],
      "text/plain": [
       "0. (1 - eps) < (1 - (eps * (((3 * eps) + 1) / ((2 * eps) + 1)^{2})))\n",
       "   core type: Operation\n",
       "   operator: 1\n",
       "   operands: 2\n",
       "1. <\n",
       "   core type: Literal\n",
       "   sub-expressions: \n",
       "2. (1 - eps, 1 - (eps * (((3 * eps) + 1) / ((2 * eps) + 1)^{2})))\n",
       "   core type: ExprTuple\n",
       "   sub-expressions: 3, 4\n",
       "3. 1 - eps\n",
       "   core type: Operation\n",
       "   operator: 25\n",
       "   operands: 5\n",
       "4. 1 - (eps * (((3 * eps) + 1) / ((2 * eps) + 1)^{2}))\n",
       "   core type: Operation\n",
       "   operator: 25\n",
       "   operands: 6\n",
       "5. (1, -eps)\n",
       "   core type: ExprTuple\n",
       "   sub-expressions: 29, 7\n",
       "6. (1, -(eps * (((3 * eps) + 1) / ((2 * eps) + 1)^{2})))\n",
       "   core type: ExprTuple\n",
       "   sub-expressions: 29, 8\n",
       "7. -eps\n",
       "   core type: Operation\n",
       "   operator: 10\n",
       "   operand: 33\n",
       "8. -(eps * (((3 * eps) + 1) / ((2 * eps) + 1)^{2}))\n",
       "   core type: Operation\n",
       "   operator: 10\n",
       "   operand: 12\n",
       "9. (eps)\n",
       "   core type: ExprTuple\n",
       "   sub-expressions: 33\n",
       "10. -\n",
       "    core type: Literal\n",
       "    sub-expressions: \n",
       "11. (eps * (((3 * eps) + 1) / ((2 * eps) + 1)^{2}))\n",
       "    core type: ExprTuple\n",
       "    sub-expressions: 12\n",
       "12. eps * (((3 * eps) + 1) / ((2 * eps) + 1)^{2})\n",
       "    core type: Operation\n",
       "    operator: 30\n",
       "    operands: 13\n",
       "13. (eps, ((3 * eps) + 1) / ((2 * eps) + 1)^{2})\n",
       "    core type: ExprTuple\n",
       "    sub-expressions: 33, 14\n",
       "14. ((3 * eps) + 1) / ((2 * eps) + 1)^{2}\n",
       "    core type: Operation\n",
       "    operator: 15\n",
       "    operands: 16\n",
       "15. /\n",
       "    core type: Literal\n",
       "    sub-expressions: \n",
       "16. ((3 * eps) + 1, ((2 * eps) + 1)^{2})\n",
       "    core type: ExprTuple\n",
       "    sub-expressions: 17, 18\n",
       "17. (3 * eps) + 1\n",
       "    core type: Operation\n",
       "    operator: 25\n",
       "    operands: 19\n",
       "18. ((2 * eps) + 1)^{2}\n",
       "    core type: Operation\n",
       "    operator: 20\n",
       "    operands: 21\n",
       "19. (3 * eps, 1)\n",
       "    core type: ExprTuple\n",
       "    sub-expressions: 22, 29\n",
       "20. Exp\n",
       "    core type: Literal\n",
       "    sub-expressions: \n",
       "21. ((2 * eps) + 1, 2)\n",
       "    core type: ExprTuple\n",
       "    sub-expressions: 23, 32\n",
       "22. 3 * eps\n",
       "    core type: Operation\n",
       "    operator: 30\n",
       "    operands: 24\n",
       "23. (2 * eps) + 1\n",
       "    core type: Operation\n",
       "    operator: 25\n",
       "    operands: 26\n",
       "24. (3, eps)\n",
       "    core type: ExprTuple\n",
       "    sub-expressions: 27, 33\n",
       "25. +\n",
       "    core type: Literal\n",
       "    sub-expressions: \n",
       "26. (2 * eps, 1)\n",
       "    core type: ExprTuple\n",
       "    sub-expressions: 28, 29\n",
       "27. 3\n",
       "    core type: Literal\n",
       "    sub-expressions: \n",
       "28. 2 * eps\n",
       "    core type: Operation\n",
       "    operator: 30\n",
       "    operands: 31\n",
       "29. 1\n",
       "    core type: Literal\n",
       "    sub-expressions: \n",
       "30. *\n",
       "    core type: Literal\n",
       "    sub-expressions: \n",
       "31. (2, eps)\n",
       "    core type: ExprTuple\n",
       "    sub-expressions: 32, 33\n",
       "32. 2\n",
       "    core type: Literal\n",
       "    sub-expressions: \n",
       "33. eps\n",
       "    core type: Literal\n",
       "    sub-expressions: "
      ]
     },
     "metadata": {},
     "output_type": "display_data"
    }
   ],
   "source": [
    "# display the expression information\n",
    "stored_expr.expr_info()"
   ]
  },
  {
   "cell_type": "code",
   "execution_count": null,
   "metadata": {},
   "outputs": [],
   "source": []
  }
 ],
 "metadata": {
  "kernelspec": {
   "display_name": "Python 3",
   "language": "python",
   "name": "python3"
  }
 },
 "nbformat": 4,
 "nbformat_minor": 0
}