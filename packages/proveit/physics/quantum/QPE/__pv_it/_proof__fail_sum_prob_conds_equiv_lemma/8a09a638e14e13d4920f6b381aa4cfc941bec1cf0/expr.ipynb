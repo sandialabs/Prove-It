{
 "cells": [
  {
   "cell_type": "markdown",
   "metadata": {},
   "source": [
    "Expression of type <a class=\"ProveItLink\" href=\"../../../../../../../../doc/html/api/proveit.logic.Equals.html\">Equals</a>\n",
    "=======================\n",
    "# from the theory of <a class=\"ProveItLink\" href=\"../../../_theory_nbs_/theory.ipynb\">proveit.physics.quantum.QPE</a>"
   ]
  },
  {
   "cell_type": "code",
   "execution_count": 1,
   "metadata": {},
   "outputs": [],
   "source": [
    "import proveit\n",
    "# Automation is not needed when building an expression:\n",
    "proveit.defaults.automation = False # This will speed things up.\n",
    "proveit.defaults.inline_pngs = False # Makes files smaller.\n",
    "%load_expr # Load the stored expression as 'stored_expr'\n",
    "# import Expression classes needed to build the expression\n",
    "from proveit import e\n",
    "from proveit.logic import Equals\n",
    "from proveit.numbers import Add, Exp, Mult, Neg, frac, one, subtract, two\n",
    "from proveit.physics.quantum.QPE import _two_pow__t_minus_one, _two_pow_t"
   ]
  },
  {
   "cell_type": "code",
   "execution_count": 2,
   "metadata": {},
   "outputs": [
    {
     "data": {
      "text/html": [
       "<strong id=\"expr\">expr:</strong> <a class=\"ProveItLink\" href=\"expr.ipynb\"><img src=\"expr.png\" style=\"display:inline;vertical-align:middle;\" /></a><br>"
      ],
      "text/plain": [
       "<IPython.core.display.HTML object>"
      ]
     },
     "metadata": {},
     "output_type": "display_data"
    }
   ],
   "source": [
    "# build up the expression from sub-expressions\n",
    "sub_expr1 = Add(Neg(_two_pow__t_minus_one), one, Neg(e))\n",
    "expr = Equals(Add(subtract(_two_pow__t_minus_one, two), sub_expr1), Add(subtract(Mult(frac(one, Exp(two, one)), _two_pow_t), two), sub_expr1))"
   ]
  },
  {
   "cell_type": "code",
   "execution_count": 3,
   "metadata": {},
   "outputs": [
    {
     "name": "stdout",
     "output_type": "stream",
     "text": [
      "Passed sanity check: expr matches stored_expr\n"
     ]
    }
   ],
   "source": [
    "# check that the built expression is the same as the stored expression\n",
    "assert expr == stored_expr\n",
    "assert expr._style_id == stored_expr._style_id\n",
    "print(\"Passed sanity check: expr matches stored_expr\")"
   ]
  },
  {
   "cell_type": "code",
   "execution_count": 4,
   "metadata": {},
   "outputs": [
    {
     "name": "stdout",
     "output_type": "stream",
     "text": [
      "\\left(\\left(2^{t - 1} - 2\\right) + \\left(-2^{t - 1} + 1 - e\\right)\\right) = \\left(\\left(\\left(\\frac{1}{2^{1}} \\cdot 2^{t}\\right) - 2\\right) + \\left(-2^{t - 1} + 1 - e\\right)\\right)\n"
     ]
    }
   ],
   "source": [
    "# Show the LaTeX representation of the expression for convenience if you need it.\n",
    "print(stored_expr.latex())"
   ]
  },
  {
   "cell_type": "code",
   "execution_count": 5,
   "metadata": {},
   "outputs": [
    {
     "data": {
      "text/html": [
       "<table>\n",
       "<tr><th>name</th><th>description</th><th>default</th><th>current value</th><th>related methods</th></tr><tr><td>operation</td><td>'infix' or 'function' style formatting</td><td>infix</td><td>infix</td><td></td></tr>\n",
       "<tr><td>wrap_positions</td><td>position(s) at which wrapping is to occur; '2 n - 1' is after the nth operand, '2 n' is after the nth operation.</td><td>()</td><td>()</td><td>('with_wrapping_at', 'with_wrap_before_operator', 'with_wrap_after_operator', 'without_wrapping', 'wrap_positions')</td></tr>\n",
       "<tr><td>justification</td><td>if any wrap positions are set, justify to the 'left', 'center', or 'right'</td><td>center</td><td>center</td><td>('with_justification',)</td></tr>\n",
       "<tr><td>direction</td><td>Direction of the relation (normal or reversed)</td><td>normal</td><td>normal</td><td>('with_direction_reversed', 'is_reversed')</td></tr>\n",
       "</table>\n"
      ],
      "text/plain": [
       "style name: operation\n",
       "description: 'infix' or 'function' style formatting\n",
       "default: infix\n",
       "current value: infix\n",
       "related methods: ()\n",
       "style name: wrap_positions\n",
       "description: position(s) at which wrapping is to occur; '2 n - 1' is after the nth operand, '2 n' is after the nth operation.\n",
       "default: ()\n",
       "current value: ()\n",
       "related methods: ('with_wrapping_at', 'with_wrap_before_operator', 'with_wrap_after_operator', 'without_wrapping', 'wrap_positions')\n",
       "style name: justification\n",
       "description: if any wrap positions are set, justify to the 'left', 'center', or 'right'\n",
       "default: center\n",
       "current value: center\n",
       "related methods: ('with_justification',)\n",
       "style name: direction\n",
       "description: Direction of the relation (normal or reversed)\n",
       "default: normal\n",
       "current value: normal\n",
       "related methods: ('with_direction_reversed', 'is_reversed')"
      ]
     },
     "metadata": {},
     "output_type": "display_data"
    }
   ],
   "source": [
    "stored_expr.style_options()"
   ]
  },
  {
   "cell_type": "code",
   "execution_count": 6,
   "metadata": {},
   "outputs": [
    {
     "data": {
      "text/html": [
       "<table><tr><th>&nbsp;</th><th>core type</th><th>sub-expressions</th><th>expression</th></tr>\n",
       "<tr><td>0</td><td>Operation</td><td>operator:&nbsp;1<br>operands:&nbsp;2<br></td><td><a class=\"ProveItLink\" href=\"expr.ipynb\"><img src=\"expr.png\" style=\"display:inline;vertical-align:middle;\" /></a></td></tr>\n",
       "<tr><td>1</td><td>Literal</td><td></td><td><a class=\"ProveItLink\" href=\"../../../../../../logic/equality/__pv_it/common/fb96dc12b2aa8801dda64d0132b396c63d1502bb0/expr.ipynb\"><img src=\"../../../../../../logic/equality/__pv_it/common/fb96dc12b2aa8801dda64d0132b396c63d1502bb0/expr.png\" style=\"display:inline;vertical-align:middle;\" /></a></td></tr>\n",
       "<tr><td>2</td><td>ExprTuple</td><td>3, 4</td><td><a class=\"ProveItLink\" href=\"../31da948e1d981d1303f054347faece49c0a6d15d0/expr.ipynb\"><img src=\"../31da948e1d981d1303f054347faece49c0a6d15d0/expr.png\" style=\"display:inline;vertical-align:middle;\" /></a></td></tr>\n",
       "<tr><td>3</td><td>Operation</td><td>operator:&nbsp;34<br>operands:&nbsp;5<br></td><td><a class=\"ProveItLink\" href=\"../763dfc06591acdda463fa4f2e9faf874b44b85540/expr.ipynb\"><img src=\"../763dfc06591acdda463fa4f2e9faf874b44b85540/expr.png\" style=\"display:inline;vertical-align:middle;\" /></a></td></tr>\n",
       "<tr><td>4</td><td>Operation</td><td>operator:&nbsp;34<br>operands:&nbsp;6<br></td><td><a class=\"ProveItLink\" href=\"../f33dd26b2e82c989a5473c89ddc164798f429f720/expr.ipynb\"><img src=\"../f33dd26b2e82c989a5473c89ddc164798f429f720/expr.png\" style=\"display:inline;vertical-align:middle;\" /></a></td></tr>\n",
       "<tr><td>5</td><td>ExprTuple</td><td>7, 9</td><td><a class=\"ProveItLink\" href=\"../eef0c4ac18d6cf50dba71419ca911d080218ae070/expr.ipynb\"><img src=\"../eef0c4ac18d6cf50dba71419ca911d080218ae070/expr.png\" style=\"display:inline;vertical-align:middle;\" /></a></td></tr>\n",
       "<tr><td>6</td><td>ExprTuple</td><td>8, 9</td><td><a class=\"ProveItLink\" href=\"../ada4adbae5b685ba39888370c1b6f357aee141350/expr.ipynb\"><img src=\"../ada4adbae5b685ba39888370c1b6f357aee141350/expr.png\" style=\"display:inline;vertical-align:middle;\" /></a></td></tr>\n",
       "<tr><td>7</td><td>Operation</td><td>operator:&nbsp;34<br>operands:&nbsp;10<br></td><td><a class=\"ProveItLink\" href=\"../../common/850bde501c6e2dc1031ebe990d47ef1fb0b1c5a50/expr.ipynb\"><img src=\"../../common/850bde501c6e2dc1031ebe990d47ef1fb0b1c5a50/expr.png\" style=\"display:inline;vertical-align:middle;\" /></a></td></tr>\n",
       "<tr><td>8</td><td>Operation</td><td>operator:&nbsp;34<br>operands:&nbsp;11<br></td><td><a class=\"ProveItLink\" href=\"../ea00bf26cb50b89412908cb923bd2461fa546b2a0/expr.ipynb\"><img src=\"../ea00bf26cb50b89412908cb923bd2461fa546b2a0/expr.png\" style=\"display:inline;vertical-align:middle;\" /></a></td></tr>\n",
       "<tr><td>9</td><td>Operation</td><td>operator:&nbsp;34<br>operands:&nbsp;12<br></td><td><a class=\"ProveItLink\" href=\"../04740a8b427644f1de634943eb547e33fb453c890/expr.ipynb\"><img src=\"../04740a8b427644f1de634943eb547e33fb453c890/expr.png\" style=\"display:inline;vertical-align:middle;\" /></a></td></tr>\n",
       "<tr><td>10</td><td>ExprTuple</td><td>24, 14</td><td><a class=\"ProveItLink\" href=\"../../common/cc44082598bd9dfd3253d52bd4616c5f2a484ed10/expr.ipynb\"><img src=\"../../common/cc44082598bd9dfd3253d52bd4616c5f2a484ed10/expr.png\" style=\"display:inline;vertical-align:middle;\" /></a></td></tr>\n",
       "<tr><td>11</td><td>ExprTuple</td><td>13, 14</td><td><a class=\"ProveItLink\" href=\"../6fcb4696ea85213681b7008a18a08d4e117374f50/expr.ipynb\"><img src=\"../6fcb4696ea85213681b7008a18a08d4e117374f50/expr.png\" style=\"display:inline;vertical-align:middle;\" /></a></td></tr>\n",
       "<tr><td>12</td><td>ExprTuple</td><td>15, 41, 16</td><td><a class=\"ProveItLink\" href=\"../71ac87654ba5457bdadc6d0d606cf40090a3f7940/expr.ipynb\"><img src=\"../71ac87654ba5457bdadc6d0d606cf40090a3f7940/expr.png\" style=\"display:inline;vertical-align:middle;\" /></a></td></tr>\n",
       "<tr><td>13</td><td>Operation</td><td>operator:&nbsp;17<br>operands:&nbsp;18<br></td><td><a class=\"ProveItLink\" href=\"../823f7e29847965f364d2891cd464b3eddda629e00/expr.ipynb\"><img src=\"../823f7e29847965f364d2891cd464b3eddda629e00/expr.png\" style=\"display:inline;vertical-align:middle;\" /></a></td></tr>\n",
       "<tr><td>14</td><td>Operation</td><td>operator:&nbsp;39<br>operand:&nbsp;36<br></td><td><a class=\"ProveItLink\" href=\"../../common/16bf7762f473cc2cfad370a096ed5f2eb39b6b2c0/expr.ipynb\"><img src=\"../../common/16bf7762f473cc2cfad370a096ed5f2eb39b6b2c0/expr.png\" style=\"display:inline;vertical-align:middle;\" /></a></td></tr>\n",
       "<tr><td>15</td><td>Operation</td><td>operator:&nbsp;39<br>operand:&nbsp;24<br></td><td><a class=\"ProveItLink\" href=\"../../common/91138182b232b0ec0bb7ca2f8cd7660c0c007ade0/expr.ipynb\"><img src=\"../../common/91138182b232b0ec0bb7ca2f8cd7660c0c007ade0/expr.png\" style=\"display:inline;vertical-align:middle;\" /></a></td></tr>\n",
       "<tr><td>16</td><td>Operation</td><td>operator:&nbsp;39<br>operand:&nbsp;25<br></td><td><a class=\"ProveItLink\" href=\"../070f47cd6c22d2b2a7fcdc8a18182ce128eed5d60/expr.ipynb\"><img src=\"../070f47cd6c22d2b2a7fcdc8a18182ce128eed5d60/expr.png\" style=\"display:inline;vertical-align:middle;\" /></a></td></tr>\n",
       "<tr><td>17</td><td>Literal</td><td></td><td><a class=\"ProveItLink\" href=\"../../../../../../numbers/multiplication/__pv_it/common/ed719cef37831779c16481533a4d380a2f95ab270/expr.ipynb\"><img src=\"../../../../../../numbers/multiplication/__pv_it/common/ed719cef37831779c16481533a4d380a2f95ab270/expr.png\" style=\"display:inline;vertical-align:middle;\" /></a></td></tr>\n",
       "<tr><td>18</td><td>ExprTuple</td><td>22, 23</td><td><a class=\"ProveItLink\" href=\"../4b08379ba6472b1162c97e9fc9fe2751717882540/expr.ipynb\"><img src=\"../4b08379ba6472b1162c97e9fc9fe2751717882540/expr.png\" style=\"display:inline;vertical-align:middle;\" /></a></td></tr>\n",
       "<tr><td>19</td><td>ExprTuple</td><td>36</td><td><a class=\"ProveItLink\" href=\"../../common/56953b0728fa2850398ae7a13d530612ae194a390/expr.ipynb\"><img src=\"../../common/56953b0728fa2850398ae7a13d530612ae194a390/expr.png\" style=\"display:inline;vertical-align:middle;\" /></a></td></tr>\n",
       "<tr><td>20</td><td>ExprTuple</td><td>24</td><td><a class=\"ProveItLink\" href=\"../../common/4c8531de79cef652de4f930d734e1b924dea0f060/expr.ipynb\"><img src=\"../../common/4c8531de79cef652de4f930d734e1b924dea0f060/expr.png\" style=\"display:inline;vertical-align:middle;\" /></a></td></tr>\n",
       "<tr><td>21</td><td>ExprTuple</td><td>25</td><td><a class=\"ProveItLink\" href=\"../../theorems/76ac1b7bedc4b23f8527f3721944b2e2c9796f420/expr.ipynb\"><img src=\"../../theorems/76ac1b7bedc4b23f8527f3721944b2e2c9796f420/expr.png\" style=\"display:inline;vertical-align:middle;\" /></a></td></tr>\n",
       "<tr><td>22</td><td>Operation</td><td>operator:&nbsp;26<br>operands:&nbsp;27<br></td><td><a class=\"ProveItLink\" href=\"../bb30a45bfd22352aab1340dff972b84b167ca2b00/expr.ipynb\"><img src=\"../bb30a45bfd22352aab1340dff972b84b167ca2b00/expr.png\" style=\"display:inline;vertical-align:middle;\" /></a></td></tr>\n",
       "<tr><td>23</td><td>Operation</td><td>operator:&nbsp;32<br>operands:&nbsp;28<br></td><td><a class=\"ProveItLink\" href=\"../../common/18332e4e627d64eadf0d81efed19ae3e9d007d510/expr.ipynb\"><img src=\"../../common/18332e4e627d64eadf0d81efed19ae3e9d007d510/expr.png\" style=\"display:inline;vertical-align:middle;\" /></a></td></tr>\n",
       "<tr><td>24</td><td>Operation</td><td>operator:&nbsp;32<br>operands:&nbsp;29<br></td><td><a class=\"ProveItLink\" href=\"../../common/c88f421c8948293a287b1527f87038636fb060100/expr.ipynb\"><img src=\"../../common/c88f421c8948293a287b1527f87038636fb060100/expr.png\" style=\"display:inline;vertical-align:middle;\" /></a></td></tr>\n",
       "<tr><td>25</td><td>Variable</td><td></td><td><a class=\"ProveItLink\" href=\"../../../../../../__pv_it/common/f3b2e5223a46d6d30e0676b70270e0fb96f45ce80/expr.ipynb\"><img src=\"../../../../../../__pv_it/common/f3b2e5223a46d6d30e0676b70270e0fb96f45ce80/expr.png\" style=\"display:inline;vertical-align:middle;\" /></a></td></tr>\n",
       "<tr><td>26</td><td>Literal</td><td></td><td><a class=\"ProveItLink\" href=\"../../../../../../numbers/division/__pv_it/common/a2a633e1e3c749fb1f2692466b287b6348c5de840/expr.ipynb\"><img src=\"../../../../../../numbers/division/__pv_it/common/a2a633e1e3c749fb1f2692466b287b6348c5de840/expr.png\" style=\"display:inline;vertical-align:middle;\" /></a></td></tr>\n",
       "<tr><td>27</td><td>ExprTuple</td><td>41, 30</td><td><a class=\"ProveItLink\" href=\"../ed55a3ad0b301453072ccdd30950d07f5bb5ca5f0/expr.ipynb\"><img src=\"../ed55a3ad0b301453072ccdd30950d07f5bb5ca5f0/expr.png\" style=\"display:inline;vertical-align:middle;\" /></a></td></tr>\n",
       "<tr><td>28</td><td>ExprTuple</td><td>36, 37</td><td><a class=\"ProveItLink\" href=\"../../common/e32fd834a589b0231aa39da242e9381ec87261b00/expr.ipynb\"><img src=\"../../common/e32fd834a589b0231aa39da242e9381ec87261b00/expr.png\" style=\"display:inline;vertical-align:middle;\" /></a></td></tr>\n",
       "<tr><td>29</td><td>ExprTuple</td><td>36, 31</td><td><a class=\"ProveItLink\" href=\"../../common/0fd4303d90d8f830fbb10e83cdadc1014dc0c7e50/expr.ipynb\"><img src=\"../../common/0fd4303d90d8f830fbb10e83cdadc1014dc0c7e50/expr.png\" style=\"display:inline;vertical-align:middle;\" /></a></td></tr>\n",
       "<tr><td>30</td><td>Operation</td><td>operator:&nbsp;32<br>operands:&nbsp;33<br></td><td><a class=\"ProveItLink\" href=\"../8011a65329f801516e67760a1262ace7ad820dc50/expr.ipynb\"><img src=\"../8011a65329f801516e67760a1262ace7ad820dc50/expr.png\" style=\"display:inline;vertical-align:middle;\" /></a></td></tr>\n",
       "<tr><td>31</td><td>Operation</td><td>operator:&nbsp;34<br>operands:&nbsp;35<br></td><td><a class=\"ProveItLink\" href=\"../../common/0ca28d9ff996a3862a4b8b87f5586f9edc717e8d0/expr.ipynb\"><img src=\"../../common/0ca28d9ff996a3862a4b8b87f5586f9edc717e8d0/expr.png\" style=\"display:inline;vertical-align:middle;\" /></a></td></tr>\n",
       "<tr><td>32</td><td>Literal</td><td></td><td><a class=\"ProveItLink\" href=\"../../../../../../numbers/exponentiation/__pv_it/common/0ac37aca1e54c35c5cda09672df32d4f69f1f3020/expr.ipynb\"><img src=\"../../../../../../numbers/exponentiation/__pv_it/common/0ac37aca1e54c35c5cda09672df32d4f69f1f3020/expr.png\" style=\"display:inline;vertical-align:middle;\" /></a></td></tr>\n",
       "<tr><td>33</td><td>ExprTuple</td><td>36, 41</td><td><a class=\"ProveItLink\" href=\"../../../../../../numbers/numerals/decimals/__pv_it/theorems/5b872049c104bd2cb2c6904cccab5f13fdcff7ea0/expr.ipynb\"><img src=\"../../../../../../numbers/numerals/decimals/__pv_it/theorems/5b872049c104bd2cb2c6904cccab5f13fdcff7ea0/expr.png\" style=\"display:inline;vertical-align:middle;\" /></a></td></tr>\n",
       "<tr><td>34</td><td>Literal</td><td></td><td><a class=\"ProveItLink\" href=\"../../../../../../numbers/addition/__pv_it/common/4b7effaab3619a1c2c38fe2dee8601df8ec714590/expr.ipynb\"><img src=\"../../../../../../numbers/addition/__pv_it/common/4b7effaab3619a1c2c38fe2dee8601df8ec714590/expr.png\" style=\"display:inline;vertical-align:middle;\" /></a></td></tr>\n",
       "<tr><td>35</td><td>ExprTuple</td><td>37, 38</td><td><a class=\"ProveItLink\" href=\"../../common/3d4ffcd7453a233f893c0f082066a2545b0987f70/expr.ipynb\"><img src=\"../../common/3d4ffcd7453a233f893c0f082066a2545b0987f70/expr.png\" style=\"display:inline;vertical-align:middle;\" /></a></td></tr>\n",
       "<tr><td>36</td><td>Literal</td><td></td><td><a class=\"ProveItLink\" href=\"../../../../../../numbers/numerals/__pv_it/common/af4aab8a07465db063742696e006d04670f30cf10/expr.ipynb\"><img src=\"../../../../../../numbers/numerals/__pv_it/common/af4aab8a07465db063742696e006d04670f30cf10/expr.png\" style=\"display:inline;vertical-align:middle;\" /></a></td></tr>\n",
       "<tr><td>37</td><td>Literal</td><td></td><td><a class=\"ProveItLink\" href=\"../../common/977cc67717328e22c93f8ab84e6a45e8cadce7790/expr.ipynb\"><img src=\"../../common/977cc67717328e22c93f8ab84e6a45e8cadce7790/expr.png\" style=\"display:inline;vertical-align:middle;\" /></a></td></tr>\n",
       "<tr><td>38</td><td>Operation</td><td>operator:&nbsp;39<br>operand:&nbsp;41<br></td><td><a class=\"ProveItLink\" href=\"../../common/bf4beda21975fe8a0a5007615b5bcc943da59bb20/expr.ipynb\"><img src=\"../../common/bf4beda21975fe8a0a5007615b5bcc943da59bb20/expr.png\" style=\"display:inline;vertical-align:middle;\" /></a></td></tr>\n",
       "<tr><td>39</td><td>Literal</td><td></td><td><a class=\"ProveItLink\" href=\"../../../../../../numbers/negation/__pv_it/common/221b3c4d1770ee9051b7c044c3f9ec61196fc34b0/expr.ipynb\"><img src=\"../../../../../../numbers/negation/__pv_it/common/221b3c4d1770ee9051b7c044c3f9ec61196fc34b0/expr.png\" style=\"display:inline;vertical-align:middle;\" /></a></td></tr>\n",
       "<tr><td>40</td><td>ExprTuple</td><td>41</td><td><a class=\"ProveItLink\" href=\"../../common/b9e4f0dffece176bbe2f36127440684a20e0468e0/expr.ipynb\"><img src=\"../../common/b9e4f0dffece176bbe2f36127440684a20e0468e0/expr.png\" style=\"display:inline;vertical-align:middle;\" /></a></td></tr>\n",
       "<tr><td>41</td><td>Literal</td><td></td><td><a class=\"ProveItLink\" href=\"../../../../../../numbers/numerals/__pv_it/common/682157d4892d216d9e5626ed533aff9b56b9506e0/expr.ipynb\"><img src=\"../../../../../../numbers/numerals/__pv_it/common/682157d4892d216d9e5626ed533aff9b56b9506e0/expr.png\" style=\"display:inline;vertical-align:middle;\" /></a></td></tr>\n",
       "</table>\n"
      ],
      "text/plain": [
       "0. ((2^{t - 1} - 2) + (-2^{t - 1} + 1 - e)) = ((((1 / 2^{1}) * 2^{t}) - 2) + (-2^{t - 1} + 1 - e))\n",
       "   core type: Operation\n",
       "   operator: 1\n",
       "   operands: 2\n",
       "1. =\n",
       "   core type: Literal\n",
       "   sub-expressions: \n",
       "2. ((2^{t - 1} - 2) + (-2^{t - 1} + 1 - e), (((1 / 2^{1}) * 2^{t}) - 2) + (-2^{t - 1} + 1 - e))\n",
       "   core type: ExprTuple\n",
       "   sub-expressions: 3, 4\n",
       "3. (2^{t - 1} - 2) + (-2^{t - 1} + 1 - e)\n",
       "   core type: Operation\n",
       "   operator: 34\n",
       "   operands: 5\n",
       "4. (((1 / 2^{1}) * 2^{t}) - 2) + (-2^{t - 1} + 1 - e)\n",
       "   core type: Operation\n",
       "   operator: 34\n",
       "   operands: 6\n",
       "5. (2^{t - 1} - 2, -2^{t - 1} + 1 - e)\n",
       "   core type: ExprTuple\n",
       "   sub-expressions: 7, 9\n",
       "6. (((1 / 2^{1}) * 2^{t}) - 2, -2^{t - 1} + 1 - e)\n",
       "   core type: ExprTuple\n",
       "   sub-expressions: 8, 9\n",
       "7. 2^{t - 1} - 2\n",
       "   core type: Operation\n",
       "   operator: 34\n",
       "   operands: 10\n",
       "8. ((1 / 2^{1}) * 2^{t}) - 2\n",
       "   core type: Operation\n",
       "   operator: 34\n",
       "   operands: 11\n",
       "9. -2^{t - 1} + 1 - e\n",
       "   core type: Operation\n",
       "   operator: 34\n",
       "   operands: 12\n",
       "10. (2^{t - 1}, -2)\n",
       "    core type: ExprTuple\n",
       "    sub-expressions: 24, 14\n",
       "11. ((1 / 2^{1}) * 2^{t}, -2)\n",
       "    core type: ExprTuple\n",
       "    sub-expressions: 13, 14\n",
       "12. (-2^{t - 1}, 1, -e)\n",
       "    core type: ExprTuple\n",
       "    sub-expressions: 15, 41, 16\n",
       "13. (1 / 2^{1}) * 2^{t}\n",
       "    core type: Operation\n",
       "    operator: 17\n",
       "    operands: 18\n",
       "14. -2\n",
       "    core type: Operation\n",
       "    operator: 39\n",
       "    operand: 36\n",
       "15. -2^{t - 1}\n",
       "    core type: Operation\n",
       "    operator: 39\n",
       "    operand: 24\n",
       "16. -e\n",
       "    core type: Operation\n",
       "    operator: 39\n",
       "    operand: 25\n",
       "17. *\n",
       "    core type: Literal\n",
       "    sub-expressions: \n",
       "18. (1 / 2^{1}, 2^{t})\n",
       "    core type: ExprTuple\n",
       "    sub-expressions: 22, 23\n",
       "19. (2)\n",
       "    core type: ExprTuple\n",
       "    sub-expressions: 36\n",
       "20. (2^{t - 1})\n",
       "    core type: ExprTuple\n",
       "    sub-expressions: 24\n",
       "21. (e)\n",
       "    core type: ExprTuple\n",
       "    sub-expressions: 25\n",
       "22. 1 / 2^{1}\n",
       "    core type: Operation\n",
       "    operator: 26\n",
       "    operands: 27\n",
       "23. 2^{t}\n",
       "    core type: Operation\n",
       "    operator: 32\n",
       "    operands: 28\n",
       "24. 2^{t - 1}\n",
       "    core type: Operation\n",
       "    operator: 32\n",
       "    operands: 29\n",
       "25. e\n",
       "    core type: Variable\n",
       "    sub-expressions: \n",
       "26. /\n",
       "    core type: Literal\n",
       "    sub-expressions: \n",
       "27. (1, 2^{1})\n",
       "    core type: ExprTuple\n",
       "    sub-expressions: 41, 30\n",
       "28. (2, t)\n",
       "    core type: ExprTuple\n",
       "    sub-expressions: 36, 37\n",
       "29. (2, t - 1)\n",
       "    core type: ExprTuple\n",
       "    sub-expressions: 36, 31\n",
       "30. 2^{1}\n",
       "    core type: Operation\n",
       "    operator: 32\n",
       "    operands: 33\n",
       "31. t - 1\n",
       "    core type: Operation\n",
       "    operator: 34\n",
       "    operands: 35\n",
       "32. Exp\n",
       "    core type: Literal\n",
       "    sub-expressions: \n",
       "33. (2, 1)\n",
       "    core type: ExprTuple\n",
       "    sub-expressions: 36, 41\n",
       "34. +\n",
       "    core type: Literal\n",
       "    sub-expressions: \n",
       "35. (t, -1)\n",
       "    core type: ExprTuple\n",
       "    sub-expressions: 37, 38\n",
       "36. 2\n",
       "    core type: Literal\n",
       "    sub-expressions: \n",
       "37. t\n",
       "    core type: Literal\n",
       "    sub-expressions: \n",
       "38. -1\n",
       "    core type: Operation\n",
       "    operator: 39\n",
       "    operand: 41\n",
       "39. -\n",
       "    core type: Literal\n",
       "    sub-expressions: \n",
       "40. (1)\n",
       "    core type: ExprTuple\n",
       "    sub-expressions: 41\n",
       "41. 1\n",
       "    core type: Literal\n",
       "    sub-expressions: "
      ]
     },
     "metadata": {},
     "output_type": "display_data"
    }
   ],
   "source": [
    "# display the expression information\n",
    "stored_expr.expr_info()"
   ]
  },
  {
   "cell_type": "code",
   "execution_count": null,
   "metadata": {},
   "outputs": [],
   "source": []
  }
 ],
 "metadata": {
  "kernelspec": {
   "display_name": "Python 3",
   "language": "python",
   "name": "python3"
  }
 },
 "nbformat": 4,
 "nbformat_minor": 0
}