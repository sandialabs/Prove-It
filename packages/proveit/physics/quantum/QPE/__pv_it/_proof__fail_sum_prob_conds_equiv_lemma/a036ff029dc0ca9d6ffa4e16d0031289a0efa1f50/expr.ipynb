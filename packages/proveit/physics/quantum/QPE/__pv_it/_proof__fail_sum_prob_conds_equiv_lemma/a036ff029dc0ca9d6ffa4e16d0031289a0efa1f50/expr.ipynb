{
 "cells": [
  {
   "cell_type": "markdown",
   "metadata": {},
   "source": [
    "Expression of type <a class=\"ProveItLink\" href=\"../../../../../../../../doc/html/api/proveit.ExprTuple.html\">ExprTuple</a>\n",
    "=======================\n",
    "# from the theory of <a class=\"ProveItLink\" href=\"../../../_theory_nbs_/theory.ipynb\">proveit.physics.quantum.QPE</a>"
   ]
  },
  {
   "cell_type": "code",
   "execution_count": 1,
   "metadata": {},
   "outputs": [],
   "source": [
    "import proveit\n",
    "# Automation is not needed when building an expression:\n",
    "proveit.defaults.automation = False # This will speed things up.\n",
    "proveit.defaults.inline_pngs = False # Makes files smaller.\n",
    "%load_expr # Load the stored expression as 'stored_expr'\n",
    "# import Expression classes needed to build the expression\n",
    "from proveit import ExprTuple, e, l\n",
    "from proveit.numbers import Add, Neg, one, subtract"
   ]
  },
  {
   "cell_type": "code",
   "execution_count": 2,
   "metadata": {},
   "outputs": [
    {
     "data": {
      "text/html": [
       "<strong id=\"expr\">expr:</strong> <a class=\"ProveItLink\" href=\"expr.ipynb\"><img src=\"expr.png\" style=\"display:inline;vertical-align:middle;\" /></a><br>"
      ],
      "text/plain": [
       "<IPython.core.display.HTML object>"
      ]
     },
     "metadata": {},
     "output_type": "display_data"
    }
   ],
   "source": [
    "# build up the expression from sub-expressions\n",
    "expr = ExprTuple(subtract(Neg(e), one), Add(Neg(Add(e, l)), subtract(l, one)))"
   ]
  },
  {
   "cell_type": "code",
   "execution_count": 3,
   "metadata": {},
   "outputs": [
    {
     "name": "stdout",
     "output_type": "stream",
     "text": [
      "Passed sanity check: expr matches stored_expr\n"
     ]
    }
   ],
   "source": [
    "# check that the built expression is the same as the stored expression\n",
    "assert expr == stored_expr\n",
    "assert expr._style_id == stored_expr._style_id\n",
    "print(\"Passed sanity check: expr matches stored_expr\")"
   ]
  },
  {
   "cell_type": "code",
   "execution_count": 4,
   "metadata": {},
   "outputs": [
    {
     "name": "stdout",
     "output_type": "stream",
     "text": [
      "\\left(-e - 1, -\\left(e + l\\right) + \\left(l - 1\\right)\\right)\n"
     ]
    }
   ],
   "source": [
    "# Show the LaTeX representation of the expression for convenience if you need it.\n",
    "print(stored_expr.latex())"
   ]
  },
  {
   "cell_type": "code",
   "execution_count": 5,
   "metadata": {},
   "outputs": [
    {
     "data": {
      "text/html": [
       "<table>\n",
       "<tr><th>name</th><th>description</th><th>default</th><th>current value</th><th>related methods</th></tr><tr><td>wrap_positions</td><td>position(s) at which wrapping is to occur; 'n' is after the nth comma.</td><td>()</td><td>()</td><td>('with_wrapping_at',)</td></tr>\n",
       "<tr><td>justification</td><td>if any wrap positions are set, justify to the 'left', 'center', or 'right'</td><td>left</td><td>left</td><td>('with_justification',)</td></tr>\n",
       "</table>\n"
      ],
      "text/plain": [
       "style name: wrap_positions\n",
       "description: position(s) at which wrapping is to occur; 'n' is after the nth comma.\n",
       "default: ()\n",
       "current value: ()\n",
       "related methods: ('with_wrapping_at',)\n",
       "style name: justification\n",
       "description: if any wrap positions are set, justify to the 'left', 'center', or 'right'\n",
       "default: left\n",
       "current value: left\n",
       "related methods: ('with_justification',)"
      ]
     },
     "metadata": {},
     "output_type": "display_data"
    }
   ],
   "source": [
    "stored_expr.style_options()"
   ]
  },
  {
   "cell_type": "code",
   "execution_count": 6,
   "metadata": {},
   "outputs": [
    {
     "data": {
      "text/html": [
       "<table><tr><th>&nbsp;</th><th>core type</th><th>sub-expressions</th><th>expression</th></tr>\n",
       "<tr><td>0</td><td>ExprTuple</td><td>1, 2</td><td><a class=\"ProveItLink\" href=\"expr.ipynb\"><img src=\"expr.png\" style=\"display:inline;vertical-align:middle;\" /></a></td></tr>\n",
       "<tr><td>1</td><td>Operation</td><td>operator:&nbsp;13<br>operands:&nbsp;3<br></td><td><a class=\"ProveItLink\" href=\"../002f6c49abf1a6e7b80e7047786b709831fa36e70/expr.ipynb\"><img src=\"../002f6c49abf1a6e7b80e7047786b709831fa36e70/expr.png\" style=\"display:inline;vertical-align:middle;\" /></a></td></tr>\n",
       "<tr><td>2</td><td>Operation</td><td>operator:&nbsp;13<br>operands:&nbsp;4<br></td><td><a class=\"ProveItLink\" href=\"../b303bcdbef6bf9e00e1e2d8f67d450d9979533ec0/expr.ipynb\"><img src=\"../b303bcdbef6bf9e00e1e2d8f67d450d9979533ec0/expr.png\" style=\"display:inline;vertical-align:middle;\" /></a></td></tr>\n",
       "<tr><td>3</td><td>ExprTuple</td><td>5, 12</td><td><a class=\"ProveItLink\" href=\"../90e602118f6a3122532b91eaf5b6f4800d5992580/expr.ipynb\"><img src=\"../90e602118f6a3122532b91eaf5b6f4800d5992580/expr.png\" style=\"display:inline;vertical-align:middle;\" /></a></td></tr>\n",
       "<tr><td>4</td><td>ExprTuple</td><td>6, 7</td><td><a class=\"ProveItLink\" href=\"../35c33972a947e57308b7c64ca0145e53951c18710/expr.ipynb\"><img src=\"../35c33972a947e57308b7c64ca0145e53951c18710/expr.png\" style=\"display:inline;vertical-align:middle;\" /></a></td></tr>\n",
       "<tr><td>5</td><td>Operation</td><td>operator:&nbsp;15<br>operand:&nbsp;17<br></td><td><a class=\"ProveItLink\" href=\"../070f47cd6c22d2b2a7fcdc8a18182ce128eed5d60/expr.ipynb\"><img src=\"../070f47cd6c22d2b2a7fcdc8a18182ce128eed5d60/expr.png\" style=\"display:inline;vertical-align:middle;\" /></a></td></tr>\n",
       "<tr><td>6</td><td>Operation</td><td>operator:&nbsp;15<br>operand:&nbsp;11<br></td><td><a class=\"ProveItLink\" href=\"../55b3770dbc5e945aff4561499ff868e8fa7e8d3f0/expr.ipynb\"><img src=\"../55b3770dbc5e945aff4561499ff868e8fa7e8d3f0/expr.png\" style=\"display:inline;vertical-align:middle;\" /></a></td></tr>\n",
       "<tr><td>7</td><td>Operation</td><td>operator:&nbsp;13<br>operands:&nbsp;10<br></td><td><a class=\"ProveItLink\" href=\"../faa193e060af4e4de7477e0452785b45b57472690/expr.ipynb\"><img src=\"../faa193e060af4e4de7477e0452785b45b57472690/expr.png\" style=\"display:inline;vertical-align:middle;\" /></a></td></tr>\n",
       "<tr><td>8</td><td>ExprTuple</td><td>17</td><td><a class=\"ProveItLink\" href=\"../../theorems/76ac1b7bedc4b23f8527f3721944b2e2c9796f420/expr.ipynb\"><img src=\"../../theorems/76ac1b7bedc4b23f8527f3721944b2e2c9796f420/expr.png\" style=\"display:inline;vertical-align:middle;\" /></a></td></tr>\n",
       "<tr><td>9</td><td>ExprTuple</td><td>11</td><td><a class=\"ProveItLink\" href=\"../6e4dc60a0153e8e3ee4755a1b06794095b4178270/expr.ipynb\"><img src=\"../6e4dc60a0153e8e3ee4755a1b06794095b4178270/expr.png\" style=\"display:inline;vertical-align:middle;\" /></a></td></tr>\n",
       "<tr><td>10</td><td>ExprTuple</td><td>18, 12</td><td><a class=\"ProveItLink\" href=\"../dafedd2b03b5e3d3780ccaf70c6f85b825643de70/expr.ipynb\"><img src=\"../dafedd2b03b5e3d3780ccaf70c6f85b825643de70/expr.png\" style=\"display:inline;vertical-align:middle;\" /></a></td></tr>\n",
       "<tr><td>11</td><td>Operation</td><td>operator:&nbsp;13<br>operands:&nbsp;14<br></td><td><a class=\"ProveItLink\" href=\"../b76497837fef91c28e4560d657f5f60755d1844b0/expr.ipynb\"><img src=\"../b76497837fef91c28e4560d657f5f60755d1844b0/expr.png\" style=\"display:inline;vertical-align:middle;\" /></a></td></tr>\n",
       "<tr><td>12</td><td>Operation</td><td>operator:&nbsp;15<br>operand:&nbsp;19<br></td><td><a class=\"ProveItLink\" href=\"../../common/bf4beda21975fe8a0a5007615b5bcc943da59bb20/expr.ipynb\"><img src=\"../../common/bf4beda21975fe8a0a5007615b5bcc943da59bb20/expr.png\" style=\"display:inline;vertical-align:middle;\" /></a></td></tr>\n",
       "<tr><td>13</td><td>Literal</td><td></td><td><a class=\"ProveItLink\" href=\"../../../../../../numbers/addition/__pv_it/common/4b7effaab3619a1c2c38fe2dee8601df8ec714590/expr.ipynb\"><img src=\"../../../../../../numbers/addition/__pv_it/common/4b7effaab3619a1c2c38fe2dee8601df8ec714590/expr.png\" style=\"display:inline;vertical-align:middle;\" /></a></td></tr>\n",
       "<tr><td>14</td><td>ExprTuple</td><td>17, 18</td><td><a class=\"ProveItLink\" href=\"../a3acb92243ad32c03a962f5b2f294abc347bbfb30/expr.ipynb\"><img src=\"../a3acb92243ad32c03a962f5b2f294abc347bbfb30/expr.png\" style=\"display:inline;vertical-align:middle;\" /></a></td></tr>\n",
       "<tr><td>15</td><td>Literal</td><td></td><td><a class=\"ProveItLink\" href=\"../../../../../../numbers/negation/__pv_it/common/221b3c4d1770ee9051b7c044c3f9ec61196fc34b0/expr.ipynb\"><img src=\"../../../../../../numbers/negation/__pv_it/common/221b3c4d1770ee9051b7c044c3f9ec61196fc34b0/expr.png\" style=\"display:inline;vertical-align:middle;\" /></a></td></tr>\n",
       "<tr><td>16</td><td>ExprTuple</td><td>19</td><td><a class=\"ProveItLink\" href=\"../../common/b9e4f0dffece176bbe2f36127440684a20e0468e0/expr.ipynb\"><img src=\"../../common/b9e4f0dffece176bbe2f36127440684a20e0468e0/expr.png\" style=\"display:inline;vertical-align:middle;\" /></a></td></tr>\n",
       "<tr><td>17</td><td>Variable</td><td></td><td><a class=\"ProveItLink\" href=\"../../../../../../__pv_it/common/f3b2e5223a46d6d30e0676b70270e0fb96f45ce80/expr.ipynb\"><img src=\"../../../../../../__pv_it/common/f3b2e5223a46d6d30e0676b70270e0fb96f45ce80/expr.png\" style=\"display:inline;vertical-align:middle;\" /></a></td></tr>\n",
       "<tr><td>18</td><td>Variable</td><td></td><td><a class=\"ProveItLink\" href=\"../../../../../../__pv_it/common/27cc275d44b4f4499fb9ccfb3fab1a98165d2fa60/expr.ipynb\"><img src=\"../../../../../../__pv_it/common/27cc275d44b4f4499fb9ccfb3fab1a98165d2fa60/expr.png\" style=\"display:inline;vertical-align:middle;\" /></a></td></tr>\n",
       "<tr><td>19</td><td>Literal</td><td></td><td><a class=\"ProveItLink\" href=\"../../../../../../numbers/numerals/__pv_it/common/682157d4892d216d9e5626ed533aff9b56b9506e0/expr.ipynb\"><img src=\"../../../../../../numbers/numerals/__pv_it/common/682157d4892d216d9e5626ed533aff9b56b9506e0/expr.png\" style=\"display:inline;vertical-align:middle;\" /></a></td></tr>\n",
       "</table>\n"
      ],
      "text/plain": [
       "0. (-e - 1, -(e + l) + (l - 1))\n",
       "   core type: ExprTuple\n",
       "   sub-expressions: 1, 2\n",
       "1. -e - 1\n",
       "   core type: Operation\n",
       "   operator: 13\n",
       "   operands: 3\n",
       "2. -(e + l) + (l - 1)\n",
       "   core type: Operation\n",
       "   operator: 13\n",
       "   operands: 4\n",
       "3. (-e, -1)\n",
       "   core type: ExprTuple\n",
       "   sub-expressions: 5, 12\n",
       "4. (-(e + l), l - 1)\n",
       "   core type: ExprTuple\n",
       "   sub-expressions: 6, 7\n",
       "5. -e\n",
       "   core type: Operation\n",
       "   operator: 15\n",
       "   operand: 17\n",
       "6. -(e + l)\n",
       "   core type: Operation\n",
       "   operator: 15\n",
       "   operand: 11\n",
       "7. l - 1\n",
       "   core type: Operation\n",
       "   operator: 13\n",
       "   operands: 10\n",
       "8. (e)\n",
       "   core type: ExprTuple\n",
       "   sub-expressions: 17\n",
       "9. (e + l)\n",
       "   core type: ExprTuple\n",
       "   sub-expressions: 11\n",
       "10. (l, -1)\n",
       "    core type: ExprTuple\n",
       "    sub-expressions: 18, 12\n",
       "11. e + l\n",
       "    core type: Operation\n",
       "    operator: 13\n",
       "    operands: 14\n",
       "12. -1\n",
       "    core type: Operation\n",
       "    operator: 15\n",
       "    operand: 19\n",
       "13. +\n",
       "    core type: Literal\n",
       "    sub-expressions: \n",
       "14. (e, l)\n",
       "    core type: ExprTuple\n",
       "    sub-expressions: 17, 18\n",
       "15. -\n",
       "    core type: Literal\n",
       "    sub-expressions: \n",
       "16. (1)\n",
       "    core type: ExprTuple\n",
       "    sub-expressions: 19\n",
       "17. e\n",
       "    core type: Variable\n",
       "    sub-expressions: \n",
       "18. l\n",
       "    core type: Variable\n",
       "    sub-expressions: \n",
       "19. 1\n",
       "    core type: Literal\n",
       "    sub-expressions: "
      ]
     },
     "metadata": {},
     "output_type": "display_data"
    }
   ],
   "source": [
    "# display the expression information\n",
    "stored_expr.expr_info()"
   ]
  },
  {
   "cell_type": "code",
   "execution_count": null,
   "metadata": {},
   "outputs": [],
   "source": []
  }
 ],
 "metadata": {
  "kernelspec": {
   "display_name": "Python 3",
   "language": "python",
   "name": "python3"
  }
 },
 "nbformat": 4,
 "nbformat_minor": 0
}