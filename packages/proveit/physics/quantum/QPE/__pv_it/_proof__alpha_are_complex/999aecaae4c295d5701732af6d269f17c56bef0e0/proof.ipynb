{
 "cells": [
  {
   "cell_type": "markdown",
   "metadata": {},
   "source": [
    "Show the Proof\n",
    "========"
   ]
  },
  {
   "cell_type": "code",
   "execution_count": 1,
   "metadata": {},
   "outputs": [
    {
     "data": {
      "text/html": [
       "<table><tr><th>&nbsp;</th><th>step type</th><th>requirements</th><th>statement</th></tr>\n",
       "<tr><td><a name=\"proveit.physics.quantum.QPE._proof__alpha_are_complex.999aecaae4c295d5701732af6d269f17c56bef0e0_step0\">0</a></td><td>instantiation</td><td><a href=\"#proveit.physics.quantum.QPE._proof__alpha_are_complex.999aecaae4c295d5701732af6d269f17c56bef0e0_step1\">1</a>, <a href=\"#proveit.physics.quantum.QPE._proof__alpha_are_complex.999aecaae4c295d5701732af6d269f17c56bef0e0_step2\">2</a></td><td><span style=\"font-size:20px;\"> <a class=\"ProveItLink\" href=\"proof.ipynb\" style=\"text-decoration: none\">&nbsp;&#x22A2;&nbsp;&nbsp;</a><a class=\"ProveItLink\" href=\"../72a8f3a7c4050561b4a7d52a26d88c35732ffb9d0/expr.ipynb\"><img src=\"../72a8f3a7c4050561b4a7d52a26d88c35732ffb9d0/expr.png\" style=\"display:inline;vertical-align:middle;\" /></a></span></td></tr>\n",
       "<tr><td>&nbsp;</td><td colspan=4 style=\"text-align:left\"><span style=\"font-size:20px;\"><a class=\"ProveItLink\" href=\"../../../../../../__pv_it/common/8968bb04eb3f7dfa02353397ce929b025bbd79c20/expr.ipynb\"><img src=\"../../../../../../__pv_it/common/8968bb04eb3f7dfa02353397ce929b025bbd79c20/expr.png\" style=\"display:inline;vertical-align:middle;\" /></a> : <a class=\"ProveItLink\" href=\"../../common/18332e4e627d64eadf0d81efed19ae3e9d007d510/expr.ipynb\"><img src=\"../../common/18332e4e627d64eadf0d81efed19ae3e9d007d510/expr.png\" style=\"display:inline;vertical-align:middle;\" /></a></span></td></tr><tr><td><a name=\"proveit.physics.quantum.QPE._proof__alpha_are_complex.999aecaae4c295d5701732af6d269f17c56bef0e0_step1\">1</a></td><td>theorem</td><td></td><td><span style=\"font-size:20px;\"> <a class=\"ProveItLink\" href=\"../../../../../../linear_algebra/inner_products/_theory_nbs_/proofs/complex_vec_set_is_hilbert_space/thm_proof.ipynb\" style=\"text-decoration: none\">&nbsp;&#x22A2;&nbsp;&nbsp;</a><a class=\"ProveItLink\" href=\"../../../../../../linear_algebra/inner_products/__pv_it/theorems/a47e487ed3b1f72295cfc05ffd5b3a5a492ffe9f0/expr.ipynb\"><img src=\"../../../../../../linear_algebra/inner_products/__pv_it/theorems/a47e487ed3b1f72295cfc05ffd5b3a5a492ffe9f0/expr.png\" style=\"display:inline;vertical-align:middle;\" /></a></span></td></tr>\n",
       "<tr><td>&nbsp;</td><td colspan=4 style-\"text-align:left\"><a class=\"ProveItLink\" href=\"../../../../../../linear_algebra/inner_products/_theory_nbs_/proofs/complex_vec_set_is_hilbert_space/thm_proof.ipynb\">proveit.linear_algebra.inner_products.complex_vec_set_is_hilbert_space</a></td></tr><tr><td><a name=\"proveit.physics.quantum.QPE._proof__alpha_are_complex.999aecaae4c295d5701732af6d269f17c56bef0e0_step2\">2</a></td><td>theorem</td><td></td><td><span style=\"font-size:20px;\"> <a class=\"ProveItLink\" href=\"../../../_theory_nbs_/proofs/_two_pow_t_is_nat_pos/thm_proof.ipynb\" style=\"text-decoration: none\">&nbsp;&#x22A2;&nbsp;&nbsp;</a><a class=\"ProveItLink\" href=\"../../theorems/a2ce7dd1709eee58d9638162058f196f35f493ea0/expr.ipynb\"><img src=\"../../theorems/a2ce7dd1709eee58d9638162058f196f35f493ea0/expr.png\" style=\"display:inline;vertical-align:middle;\" /></a></span></td></tr>\n",
       "<tr><td>&nbsp;</td><td colspan=4 style-\"text-align:left\"><a class=\"ProveItLink\" href=\"../../../_theory_nbs_/proofs/_two_pow_t_is_nat_pos/thm_proof.ipynb\">proveit.physics.quantum.QPE._two_pow_t_is_nat_pos</a></td></tr></table>"
      ],
      "text/plain": [
       "<proveit._core_.proof._ShowProof at 0x7f2cceec9b38>"
      ]
     },
     "execution_count": 1,
     "metadata": {},
     "output_type": "execute_result"
    }
   ],
   "source": [
    "import proveit\n",
    "# Automation is not needed when only showing a stored proof:\n",
    "proveit.defaults.automation = False # This will speed things up.\n",
    "proveit.defaults.inline_pngs = False # Makes files smaller.\n",
    "%show_proof"
   ]
  },
  {
   "cell_type": "code",
   "execution_count": null,
   "metadata": {},
   "outputs": [],
   "source": []
  }
 ],
 "metadata": {
  "kernelspec": {
   "display_name": "Python 3",
   "language": "python",
   "name": "python3"
  }
 },
 "nbformat": 4,
 "nbformat_minor": 0
}