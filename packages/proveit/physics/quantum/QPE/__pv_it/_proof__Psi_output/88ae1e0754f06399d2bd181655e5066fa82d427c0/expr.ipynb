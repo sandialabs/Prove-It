{
 "cells": [
  {
   "cell_type": "markdown",
   "metadata": {},
   "source": [
    "Expression of type <a class=\"ProveItLink\" href=\"../../../../../../../../doc/html/api/proveit.logic.Equals.html\">Equals</a>\n",
    "=======================\n",
    "# from the theory of <a class=\"ProveItLink\" href=\"../../../_theory_nbs_/theory.ipynb\">proveit.physics.quantum.QPE</a>"
   ]
  },
  {
   "cell_type": "code",
   "execution_count": 1,
   "metadata": {},
   "outputs": [],
   "source": [
    "import proveit\n",
    "# Automation is not needed when building an expression:\n",
    "proveit.defaults.automation = False # This will speed things up.\n",
    "proveit.defaults.inline_pngs = False # Makes files smaller.\n",
    "%load_expr # Load the stored expression as 'stored_expr'\n",
    "# import Expression classes needed to build the expression\n",
    "from proveit import ExprRange, Variable, VertExprArray\n",
    "from proveit.logic import Equals\n",
    "from proveit.numbers import Interval, one\n",
    "from proveit.physics.quantum.QFT import InverseFourierTransform\n",
    "from proveit.physics.quantum.QPE import _psi__t_ket, _t\n",
    "from proveit.physics.quantum.circuits import Gate, Input, MultiQubitElem, Output, Qcircuit\n",
    "from proveit.statistics import Prob"
   ]
  },
  {
   "cell_type": "code",
   "execution_count": 2,
   "metadata": {},
   "outputs": [
    {
     "data": {
      "text/html": [
       "<strong id=\"expr\">expr:</strong> <a class=\"ProveItLink\" href=\"expr.ipynb\"><img src=\"expr.png\" style=\"display:inline;vertical-align:middle;\" /></a><br>"
      ],
      "text/plain": [
       "<IPython.core.display.HTML object>"
      ]
     },
     "metadata": {},
     "output_type": "display_data"
    }
   ],
   "source": [
    "# build up the expression from sub-expressions\n",
    "sub_expr1 = Variable(\"_a\", latex_format = r\"{_{-}a}\")\n",
    "sub_expr2 = Interval(one, _t)\n",
    "expr = Equals(Prob(Qcircuit(vert_expr_array = VertExprArray([ExprRange(sub_expr1, MultiQubitElem(element = Input(state = _psi__t_ket, part = sub_expr1), targets = sub_expr2), one, _t)], [ExprRange(sub_expr1, MultiQubitElem(element = Gate(operation = InverseFourierTransform(_t), part = sub_expr1), targets = sub_expr2), one, _t)], [ExprRange(sub_expr1, MultiQubitElem(element = Output(state = Variable(\"_b\", latex_format = r\"{_{-}b}\"), part = sub_expr1), targets = sub_expr2), one, _t)]))), one)"
   ]
  },
  {
   "cell_type": "code",
   "execution_count": 3,
   "metadata": {},
   "outputs": [
    {
     "name": "stdout",
     "output_type": "stream",
     "text": [
      "Passed sanity check: expr matches stored_expr\n"
     ]
    }
   ],
   "source": [
    "# check that the built expression is the same as the stored expression\n",
    "assert expr == stored_expr\n",
    "assert expr._style_id == stored_expr._style_id\n",
    "print(\"Passed sanity check: expr matches stored_expr\")"
   ]
  },
  {
   "cell_type": "code",
   "execution_count": 4,
   "metadata": {},
   "outputs": [
    {
     "name": "stdout",
     "output_type": "stream",
     "text": [
      "\\textrm{Pr}\\left(\\begin{array}{c} \\Qcircuit@C=1em @R=.7em{\n",
      "\\qin{\\lvert \\psi_{t} \\rangle} & \\gate{{\\mathrm {FT}}^{\\dag}_{t}} & \\qout{{_{-}b}}\n",
      "} \\end{array}\\right) = 1\n"
     ]
    }
   ],
   "source": [
    "# Show the LaTeX representation of the expression for convenience if you need it.\n",
    "print(stored_expr.latex())"
   ]
  },
  {
   "cell_type": "code",
   "execution_count": 5,
   "metadata": {},
   "outputs": [
    {
     "data": {
      "text/html": [
       "<table>\n",
       "<tr><th>name</th><th>description</th><th>default</th><th>current value</th><th>related methods</th></tr><tr><td>operation</td><td>'infix' or 'function' style formatting</td><td>infix</td><td>infix</td><td></td></tr>\n",
       "<tr><td>wrap_positions</td><td>position(s) at which wrapping is to occur; '2 n - 1' is after the nth operand, '2 n' is after the nth operation.</td><td>()</td><td>()</td><td>('with_wrapping_at', 'with_wrap_before_operator', 'with_wrap_after_operator', 'without_wrapping', 'wrap_positions')</td></tr>\n",
       "<tr><td>justification</td><td>if any wrap positions are set, justify to the 'left', 'center', or 'right'</td><td>center</td><td>center</td><td>('with_justification',)</td></tr>\n",
       "<tr><td>direction</td><td>Direction of the relation (normal or reversed)</td><td>normal</td><td>normal</td><td>('with_direction_reversed', 'is_reversed')</td></tr>\n",
       "</table>\n"
      ],
      "text/plain": [
       "style name: operation\n",
       "description: 'infix' or 'function' style formatting\n",
       "default: infix\n",
       "current value: infix\n",
       "related methods: ()\n",
       "style name: wrap_positions\n",
       "description: position(s) at which wrapping is to occur; '2 n - 1' is after the nth operand, '2 n' is after the nth operation.\n",
       "default: ()\n",
       "current value: ()\n",
       "related methods: ('with_wrapping_at', 'with_wrap_before_operator', 'with_wrap_after_operator', 'without_wrapping', 'wrap_positions')\n",
       "style name: justification\n",
       "description: if any wrap positions are set, justify to the 'left', 'center', or 'right'\n",
       "default: center\n",
       "current value: center\n",
       "related methods: ('with_justification',)\n",
       "style name: direction\n",
       "description: Direction of the relation (normal or reversed)\n",
       "default: normal\n",
       "current value: normal\n",
       "related methods: ('with_direction_reversed', 'is_reversed')"
      ]
     },
     "metadata": {},
     "output_type": "display_data"
    }
   ],
   "source": [
    "stored_expr.style_options()"
   ]
  },
  {
   "cell_type": "code",
   "execution_count": 6,
   "metadata": {},
   "outputs": [
    {
     "data": {
      "text/html": [
       "<table><tr><th>&nbsp;</th><th>core type</th><th>sub-expressions</th><th>expression</th></tr>\n",
       "<tr><td>0</td><td>Operation</td><td>operator:&nbsp;1<br>operands:&nbsp;2<br></td><td><a class=\"ProveItLink\" href=\"expr.ipynb\"><img src=\"expr.png\" style=\"display:inline;vertical-align:middle;\" /></a></td></tr>\n",
       "<tr><td>1</td><td>Literal</td><td></td><td><a class=\"ProveItLink\" href=\"../../../../../../logic/equality/__pv_it/common/fb96dc12b2aa8801dda64d0132b396c63d1502bb0/expr.ipynb\"><img src=\"../../../../../../logic/equality/__pv_it/common/fb96dc12b2aa8801dda64d0132b396c63d1502bb0/expr.png\" style=\"display:inline;vertical-align:middle;\" /></a></td></tr>\n",
       "<tr><td>2</td><td>ExprTuple</td><td>3, 42</td><td><a class=\"ProveItLink\" href=\"../937e44cc327458f1a0bb594ab93ff3b51902ca510/expr.ipynb\"><img src=\"../937e44cc327458f1a0bb594ab93ff3b51902ca510/expr.png\" style=\"display:inline;vertical-align:middle;\" /></a></td></tr>\n",
       "<tr><td>3</td><td>Operation</td><td>operator:&nbsp;4<br>operand:&nbsp;6<br></td><td><a class=\"ProveItLink\" href=\"../f2cb41e51260c8928426399e457068dabaebe0da0/expr.ipynb\"><img src=\"../f2cb41e51260c8928426399e457068dabaebe0da0/expr.png\" style=\"display:inline;vertical-align:middle;\" /></a></td></tr>\n",
       "<tr><td>4</td><td>Literal</td><td></td><td><a class=\"ProveItLink\" href=\"../../../../../../statistics/__pv_it/common/088e9f40f9e6ba1dcc7d39fd35fd8d244261148e0/expr.ipynb\"><img src=\"../../../../../../statistics/__pv_it/common/088e9f40f9e6ba1dcc7d39fd35fd8d244261148e0/expr.png\" style=\"display:inline;vertical-align:middle;\" /></a></td></tr>\n",
       "<tr><td>5</td><td>ExprTuple</td><td>6</td><td><a class=\"ProveItLink\" href=\"../b8a623e659d32860f9e1450dc4945c7323ad23620/expr.ipynb\"><img src=\"../b8a623e659d32860f9e1450dc4945c7323ad23620/expr.png\" style=\"display:inline;vertical-align:middle;\" /></a></td></tr>\n",
       "<tr><td>6</td><td>Operation</td><td>operator:&nbsp;7<br>operands:&nbsp;8<br></td><td><a class=\"ProveItLink\" href=\"../20db2f55283f351a69310a120dd3f81af05e23f90/expr.ipynb\"><img src=\"../20db2f55283f351a69310a120dd3f81af05e23f90/expr.png\" style=\"display:inline;vertical-align:middle;\" /></a></td></tr>\n",
       "<tr><td>7</td><td>Literal</td><td></td><td><a class=\"ProveItLink\" href=\"../../../../circuits/__pv_it/common/40003b89a3d1740159ada9fe5b21308b42a7d3d40/expr.ipynb\"><img src=\"../../../../circuits/__pv_it/common/40003b89a3d1740159ada9fe5b21308b42a7d3d40/expr.png\" style=\"display:inline;vertical-align:middle;\" /></a></td></tr>\n",
       "<tr><td>8</td><td>ExprTuple</td><td>9, 10, 11</td><td><a class=\"ProveItLink\" href=\"../845e66cb5658e5b7a0d5c3ba065fecc4dd9527e50/expr.ipynb\"><img src=\"../845e66cb5658e5b7a0d5c3ba065fecc4dd9527e50/expr.png\" style=\"display:inline;vertical-align:middle;\" /></a></td></tr>\n",
       "<tr><td>9</td><td>ExprTuple</td><td>12</td><td><a class=\"ProveItLink\" href=\"../36a5020ac740e76d109931f715c401fcc825f7a10/expr.ipynb\"><img src=\"../36a5020ac740e76d109931f715c401fcc825f7a10/expr.png\" style=\"display:inline;vertical-align:middle;\" /></a></td></tr>\n",
       "<tr><td>10</td><td>ExprTuple</td><td>13</td><td><a class=\"ProveItLink\" href=\"../ee866a96fc1f5cbfa6cc7b554c43085b8927490c0/expr.ipynb\"><img src=\"../ee866a96fc1f5cbfa6cc7b554c43085b8927490c0/expr.png\" style=\"display:inline;vertical-align:middle;\" /></a></td></tr>\n",
       "<tr><td>11</td><td>ExprTuple</td><td>14</td><td><a class=\"ProveItLink\" href=\"../7cd6aaf3c32f1f9719cbb577e95fc2a7deb6f1f80/expr.ipynb\"><img src=\"../7cd6aaf3c32f1f9719cbb577e95fc2a7deb6f1f80/expr.png\" style=\"display:inline;vertical-align:middle;\" /></a></td></tr>\n",
       "<tr><td>12</td><td>ExprRange</td><td>lambda_map:&nbsp;15<br>start_index:&nbsp;42<br>end_index:&nbsp;46<br></td><td><a class=\"ProveItLink\" href=\"../0c81362813f14c70a81af49e4e85811d8662472e0/expr.ipynb\"><img src=\"../0c81362813f14c70a81af49e4e85811d8662472e0/expr.png\" style=\"display:inline;vertical-align:middle;\" /></a></td></tr>\n",
       "<tr><td>13</td><td>ExprRange</td><td>lambda_map:&nbsp;16<br>start_index:&nbsp;42<br>end_index:&nbsp;46<br></td><td><a class=\"ProveItLink\" href=\"../67663a7056565380ed724b704e11a7b467f228430/expr.ipynb\"><img src=\"../67663a7056565380ed724b704e11a7b467f228430/expr.png\" style=\"display:inline;vertical-align:middle;\" /></a></td></tr>\n",
       "<tr><td>14</td><td>ExprRange</td><td>lambda_map:&nbsp;17<br>start_index:&nbsp;42<br>end_index:&nbsp;46<br></td><td><a class=\"ProveItLink\" href=\"../fcfd5e832c15fd7e77ed333b3197298fd758f21d0/expr.ipynb\"><img src=\"../fcfd5e832c15fd7e77ed333b3197298fd758f21d0/expr.png\" style=\"display:inline;vertical-align:middle;\" /></a></td></tr>\n",
       "<tr><td>15</td><td>Lambda</td><td>parameter:&nbsp;41<br>body:&nbsp;18<br></td><td><a class=\"ProveItLink\" href=\"../a89a147ac2a8c1e5598149962cba4ff3ebce1ad40/expr.ipynb\"><img src=\"../a89a147ac2a8c1e5598149962cba4ff3ebce1ad40/expr.png\" style=\"display:inline;vertical-align:middle;\" /></a></td></tr>\n",
       "<tr><td>16</td><td>Lambda</td><td>parameter:&nbsp;41<br>body:&nbsp;19<br></td><td><a class=\"ProveItLink\" href=\"../b2da6d50fd6639e744ffcc708bdb1579ae9aab0c0/expr.ipynb\"><img src=\"../b2da6d50fd6639e744ffcc708bdb1579ae9aab0c0/expr.png\" style=\"display:inline;vertical-align:middle;\" /></a></td></tr>\n",
       "<tr><td>17</td><td>Lambda</td><td>parameter:&nbsp;41<br>body:&nbsp;21<br></td><td><a class=\"ProveItLink\" href=\"../e641dbeb44f448bdc443407d36db0a7ae9fa94f00/expr.ipynb\"><img src=\"../e641dbeb44f448bdc443407d36db0a7ae9fa94f00/expr.png\" style=\"display:inline;vertical-align:middle;\" /></a></td></tr>\n",
       "<tr><td>18</td><td>Operation</td><td>operator:&nbsp;24<br>operands:&nbsp;22<br></td><td><a class=\"ProveItLink\" href=\"../b01e6db5c28da2dbca9f419a192922b8a5bec6360/expr.ipynb\"><img src=\"../b01e6db5c28da2dbca9f419a192922b8a5bec6360/expr.png\" style=\"display:inline;vertical-align:middle;\" /></a></td></tr>\n",
       "<tr><td>19</td><td>Operation</td><td>operator:&nbsp;24<br>operands:&nbsp;23<br></td><td><a class=\"ProveItLink\" href=\"../da72021f30409da83fc682568f90a757b8a69b800/expr.ipynb\"><img src=\"../da72021f30409da83fc682568f90a757b8a69b800/expr.png\" style=\"display:inline;vertical-align:middle;\" /></a></td></tr>\n",
       "<tr><td>20</td><td>ExprTuple</td><td>41</td><td><a class=\"ProveItLink\" href=\"../../../../../../core_expr_types/__pv_it/common/4b0dd6be36d76552eda6a95d5b4a27f5a5b62f900/expr.ipynb\"><img src=\"../../../../../../core_expr_types/__pv_it/common/4b0dd6be36d76552eda6a95d5b4a27f5a5b62f900/expr.png\" style=\"display:inline;vertical-align:middle;\" /></a></td></tr>\n",
       "<tr><td>21</td><td>Operation</td><td>operator:&nbsp;24<br>operands:&nbsp;25<br></td><td><a class=\"ProveItLink\" href=\"../6744845266badbfb311ab4138466eee83b00962e0/expr.ipynb\"><img src=\"../6744845266badbfb311ab4138466eee83b00962e0/expr.png\" style=\"display:inline;vertical-align:middle;\" /></a></td></tr>\n",
       "<tr><td>22</td><td>NamedExprs</td><td>element: 26<br>targets: 29<br></td><td><a class=\"ProveItLink\" href=\"../8dc9abc779b0c96cd2e357573d17b01967b147b80/expr.ipynb\"><img src=\"../8dc9abc779b0c96cd2e357573d17b01967b147b80/expr.png\" style=\"display:inline;vertical-align:middle;\" /></a></td></tr>\n",
       "<tr><td>23</td><td>NamedExprs</td><td>element: 27<br>targets: 29<br></td><td><a class=\"ProveItLink\" href=\"../819b7f39924e78605f261510f67909735f74c7e60/expr.ipynb\"><img src=\"../819b7f39924e78605f261510f67909735f74c7e60/expr.png\" style=\"display:inline;vertical-align:middle;\" /></a></td></tr>\n",
       "<tr><td>24</td><td>Literal</td><td></td><td><a class=\"ProveItLink\" href=\"../../../../circuits/__pv_it/common/5eaa43008f05c06941080a12337ff182ea14996e0/expr.ipynb\"><img src=\"../../../../circuits/__pv_it/common/5eaa43008f05c06941080a12337ff182ea14996e0/expr.png\" style=\"display:inline;vertical-align:middle;\" /></a></td></tr>\n",
       "<tr><td>25</td><td>NamedExprs</td><td>element: 28<br>targets: 29<br></td><td><a class=\"ProveItLink\" href=\"../d6216274c93333b9f57f7f28d4d19c6e5139ca3e0/expr.ipynb\"><img src=\"../d6216274c93333b9f57f7f28d4d19c6e5139ca3e0/expr.png\" style=\"display:inline;vertical-align:middle;\" /></a></td></tr>\n",
       "<tr><td>26</td><td>Operation</td><td>operator:&nbsp;30<br>operands:&nbsp;31<br></td><td><a class=\"ProveItLink\" href=\"../af821bad874678c5c27f1b2627fc734dd158af920/expr.ipynb\"><img src=\"../af821bad874678c5c27f1b2627fc734dd158af920/expr.png\" style=\"display:inline;vertical-align:middle;\" /></a></td></tr>\n",
       "<tr><td>27</td><td>Operation</td><td>operator:&nbsp;32<br>operands:&nbsp;33<br></td><td><a class=\"ProveItLink\" href=\"../cd3877599c0e67a8af4308ee62b720c77efdfef10/expr.ipynb\"><img src=\"../cd3877599c0e67a8af4308ee62b720c77efdfef10/expr.png\" style=\"display:inline;vertical-align:middle;\" /></a></td></tr>\n",
       "<tr><td>28</td><td>Operation</td><td>operator:&nbsp;34<br>operands:&nbsp;35<br></td><td><a class=\"ProveItLink\" href=\"../f73f413b290ae07d8d8380eef3f60e734076f2490/expr.ipynb\"><img src=\"../f73f413b290ae07d8d8380eef3f60e734076f2490/expr.png\" style=\"display:inline;vertical-align:middle;\" /></a></td></tr>\n",
       "<tr><td>29</td><td>Operation</td><td>operator:&nbsp;36<br>operands:&nbsp;37<br></td><td><a class=\"ProveItLink\" href=\"../../common/e122b9c60b738854d914e6ecd981b572cc15d7ba0/expr.ipynb\"><img src=\"../../common/e122b9c60b738854d914e6ecd981b572cc15d7ba0/expr.png\" style=\"display:inline;vertical-align:middle;\" /></a></td></tr>\n",
       "<tr><td>30</td><td>Literal</td><td></td><td><a class=\"ProveItLink\" href=\"../../../../circuits/__pv_it/common/deea8715ce6701df08bbe1d049112a0bad4965c20/expr.ipynb\"><img src=\"../../../../circuits/__pv_it/common/deea8715ce6701df08bbe1d049112a0bad4965c20/expr.png\" style=\"display:inline;vertical-align:middle;\" /></a></td></tr>\n",
       "<tr><td>31</td><td>NamedExprs</td><td>state: 38<br>part: 41<br></td><td><a class=\"ProveItLink\" href=\"../a47825197c81e9e603266d26064a4c977c16d1df0/expr.ipynb\"><img src=\"../a47825197c81e9e603266d26064a4c977c16d1df0/expr.png\" style=\"display:inline;vertical-align:middle;\" /></a></td></tr>\n",
       "<tr><td>32</td><td>Literal</td><td></td><td><a class=\"ProveItLink\" href=\"../../../../circuits/__pv_it/common/ead8f6f18d2b8c24f1ed8db33df594edd77c9bcc0/expr.ipynb\"><img src=\"../../../../circuits/__pv_it/common/ead8f6f18d2b8c24f1ed8db33df594edd77c9bcc0/expr.png\" style=\"display:inline;vertical-align:middle;\" /></a></td></tr>\n",
       "<tr><td>33</td><td>NamedExprs</td><td>operation: 39<br>part: 41<br></td><td><a class=\"ProveItLink\" href=\"../e64bc554e85236fa8576dd003fdf5f870295999e0/expr.ipynb\"><img src=\"../e64bc554e85236fa8576dd003fdf5f870295999e0/expr.png\" style=\"display:inline;vertical-align:middle;\" /></a></td></tr>\n",
       "<tr><td>34</td><td>Literal</td><td></td><td><a class=\"ProveItLink\" href=\"../../../../circuits/__pv_it/common/00345a9c4f4d361e0b6e8bbbbe5a33a8ec86a20b0/expr.ipynb\"><img src=\"../../../../circuits/__pv_it/common/00345a9c4f4d361e0b6e8bbbbe5a33a8ec86a20b0/expr.png\" style=\"display:inline;vertical-align:middle;\" /></a></td></tr>\n",
       "<tr><td>35</td><td>NamedExprs</td><td>state: 40<br>part: 41<br></td><td><a class=\"ProveItLink\" href=\"../7efa3a37493a479f40644739f35662d693b0e2290/expr.ipynb\"><img src=\"../7efa3a37493a479f40644739f35662d693b0e2290/expr.png\" style=\"display:inline;vertical-align:middle;\" /></a></td></tr>\n",
       "<tr><td>36</td><td>Literal</td><td></td><td><a class=\"ProveItLink\" href=\"../../../../../../numbers/number_sets/integers/__pv_it/common/92f3a0a77e3c3ea8e4a5c8674edadc54e4f57d550/expr.ipynb\"><img src=\"../../../../../../numbers/number_sets/integers/__pv_it/common/92f3a0a77e3c3ea8e4a5c8674edadc54e4f57d550/expr.png\" style=\"display:inline;vertical-align:middle;\" /></a></td></tr>\n",
       "<tr><td>37</td><td>ExprTuple</td><td>42, 46</td><td><a class=\"ProveItLink\" href=\"../../common/5bbcfd1311319843ab62a23688c905a8a364e8380/expr.ipynb\"><img src=\"../../common/5bbcfd1311319843ab62a23688c905a8a364e8380/expr.png\" style=\"display:inline;vertical-align:middle;\" /></a></td></tr>\n",
       "<tr><td>38</td><td>Operation</td><td>operator:&nbsp;43<br>operand:&nbsp;46<br></td><td><a class=\"ProveItLink\" href=\"../../common/1a76979ea9a7780eeb22b6220b8d2767502e417a0/expr.ipynb\"><img src=\"../../common/1a76979ea9a7780eeb22b6220b8d2767502e417a0/expr.png\" style=\"display:inline;vertical-align:middle;\" /></a></td></tr>\n",
       "<tr><td>39</td><td>Operation</td><td>operator:&nbsp;44<br>operand:&nbsp;46<br></td><td><a class=\"ProveItLink\" href=\"../../common/ba1fd315c6163463202bb872556455ca760a5ce80/expr.ipynb\"><img src=\"../../common/ba1fd315c6163463202bb872556455ca760a5ce80/expr.png\" style=\"display:inline;vertical-align:middle;\" /></a></td></tr>\n",
       "<tr><td>40</td><td>Variable</td><td></td><td><a class=\"ProveItLink\" href=\"../9a18d67b443cf8d92289c655ed91ec78766170a90/expr.ipynb\"><img src=\"../9a18d67b443cf8d92289c655ed91ec78766170a90/expr.png\" style=\"display:inline;vertical-align:middle;\" /></a></td></tr>\n",
       "<tr><td>41</td><td>Variable</td><td></td><td><a class=\"ProveItLink\" href=\"../../../../../../core_expr_types/__pv_it/common/006c465e50948aa2b52285e2de47974f741255cc0/expr.ipynb\"><img src=\"../../../../../../core_expr_types/__pv_it/common/006c465e50948aa2b52285e2de47974f741255cc0/expr.png\" style=\"display:inline;vertical-align:middle;\" /></a></td></tr>\n",
       "<tr><td>42</td><td>Literal</td><td></td><td><a class=\"ProveItLink\" href=\"../../../../../../numbers/numerals/__pv_it/common/682157d4892d216d9e5626ed533aff9b56b9506e0/expr.ipynb\"><img src=\"../../../../../../numbers/numerals/__pv_it/common/682157d4892d216d9e5626ed533aff9b56b9506e0/expr.png\" style=\"display:inline;vertical-align:middle;\" /></a></td></tr>\n",
       "<tr><td>43</td><td>Literal</td><td></td><td><a class=\"ProveItLink\" href=\"../../common/3cd01098f6477695c5f95f3614ef4302a3a569f40/expr.ipynb\"><img src=\"../../common/3cd01098f6477695c5f95f3614ef4302a3a569f40/expr.png\" style=\"display:inline;vertical-align:middle;\" /></a></td></tr>\n",
       "<tr><td>44</td><td>Literal</td><td></td><td><a class=\"ProveItLink\" href=\"../../../../QFT/__pv_it/common/435b6ace9516fa72bfa2318e4ae9eb79e9793f8e0/expr.ipynb\"><img src=\"../../../../QFT/__pv_it/common/435b6ace9516fa72bfa2318e4ae9eb79e9793f8e0/expr.png\" style=\"display:inline;vertical-align:middle;\" /></a></td></tr>\n",
       "<tr><td>45</td><td>ExprTuple</td><td>46</td><td><a class=\"ProveItLink\" href=\"../../common/53db8ddfd57f92ceb5c9c5778de41560ef98a6f20/expr.ipynb\"><img src=\"../../common/53db8ddfd57f92ceb5c9c5778de41560ef98a6f20/expr.png\" style=\"display:inline;vertical-align:middle;\" /></a></td></tr>\n",
       "<tr><td>46</td><td>Literal</td><td></td><td><a class=\"ProveItLink\" href=\"../../common/977cc67717328e22c93f8ab84e6a45e8cadce7790/expr.ipynb\"><img src=\"../../common/977cc67717328e22c93f8ab84e6a45e8cadce7790/expr.png\" style=\"display:inline;vertical-align:middle;\" /></a></td></tr>\n",
       "</table>\n"
      ],
      "text/plain": [
       "0. Pr(QCIRCUIT(VertExprArray(([MULTI_QUBIT_ELEM]{element:[INPUT]{state:|psi_{t}>, part:1}, targets:{1 .. t}}, [MULTI_QUBIT_ELEM]{element:[INPUT]{state:|psi_{t}>, part:2}, targets:{1 .. t}}, ..., [MULTI_QUBIT_ELEM]{element:[INPUT]{state:|psi_{t}>, part:t}, targets:{1 .. t}}),  \\\\ ([MULTI_QUBIT_ELEM]{element:[GATE]{operation:FT^{dag}_{t}, part:1}, targets:{1 .. t}}, [MULTI_QUBIT_ELEM]{element:[GATE]{operation:FT^{dag}_{t}, part:2}, targets:{1 .. t}}, ..., [MULTI_QUBIT_ELEM]{element:[GATE]{operation:FT^{dag}_{t}, part:t}, targets:{1 .. t}}),  \\\\ ([MULTI_QUBIT_ELEM]{element:[OUTPUT]{state:_b, part:1}, targets:{1 .. t}}, [MULTI_QUBIT_ELEM]{element:[OUTPUT]{state:_b, part:2}, targets:{1 .. t}}, ..., [MULTI_QUBIT_ELEM]{element:[OUTPUT]{state:_b, part:t}, targets:{1 .. t}})))) = 1\n",
       "   core type: Operation\n",
       "   operator: 1\n",
       "   operands: 2\n",
       "1. =\n",
       "   core type: Literal\n",
       "   sub-expressions: \n",
       "2. (Pr(QCIRCUIT(VertExprArray(([MULTI_QUBIT_ELEM]{element:[INPUT]{state:|psi_{t}>, part:1}, targets:{1 .. t}}, [MULTI_QUBIT_ELEM]{element:[INPUT]{state:|psi_{t}>, part:2}, targets:{1 .. t}}, ..., [MULTI_QUBIT_ELEM]{element:[INPUT]{state:|psi_{t}>, part:t}, targets:{1 .. t}}),  \\\\ ([MULTI_QUBIT_ELEM]{element:[GATE]{operation:FT^{dag}_{t}, part:1}, targets:{1 .. t}}, [MULTI_QUBIT_ELEM]{element:[GATE]{operation:FT^{dag}_{t}, part:2}, targets:{1 .. t}}, ..., [MULTI_QUBIT_ELEM]{element:[GATE]{operation:FT^{dag}_{t}, part:t}, targets:{1 .. t}}),  \\\\ ([MULTI_QUBIT_ELEM]{element:[OUTPUT]{state:_b, part:1}, targets:{1 .. t}}, [MULTI_QUBIT_ELEM]{element:[OUTPUT]{state:_b, part:2}, targets:{1 .. t}}, ..., [MULTI_QUBIT_ELEM]{element:[OUTPUT]{state:_b, part:t}, targets:{1 .. t}})))), 1)\n",
       "   core type: ExprTuple\n",
       "   sub-expressions: 3, 42\n",
       "3. Pr(QCIRCUIT(VertExprArray(([MULTI_QUBIT_ELEM]{element:[INPUT]{state:|psi_{t}>, part:1}, targets:{1 .. t}}, [MULTI_QUBIT_ELEM]{element:[INPUT]{state:|psi_{t}>, part:2}, targets:{1 .. t}}, ..., [MULTI_QUBIT_ELEM]{element:[INPUT]{state:|psi_{t}>, part:t}, targets:{1 .. t}}),  \\\\ ([MULTI_QUBIT_ELEM]{element:[GATE]{operation:FT^{dag}_{t}, part:1}, targets:{1 .. t}}, [MULTI_QUBIT_ELEM]{element:[GATE]{operation:FT^{dag}_{t}, part:2}, targets:{1 .. t}}, ..., [MULTI_QUBIT_ELEM]{element:[GATE]{operation:FT^{dag}_{t}, part:t}, targets:{1 .. t}}),  \\\\ ([MULTI_QUBIT_ELEM]{element:[OUTPUT]{state:_b, part:1}, targets:{1 .. t}}, [MULTI_QUBIT_ELEM]{element:[OUTPUT]{state:_b, part:2}, targets:{1 .. t}}, ..., [MULTI_QUBIT_ELEM]{element:[OUTPUT]{state:_b, part:t}, targets:{1 .. t}}))))\n",
       "   core type: Operation\n",
       "   operator: 4\n",
       "   operand: 6\n",
       "4. Pr\n",
       "   core type: Literal\n",
       "   sub-expressions: \n",
       "5. (QCIRCUIT(VertExprArray(([MULTI_QUBIT_ELEM]{element:[INPUT]{state:|psi_{t}>, part:1}, targets:{1 .. t}}, [MULTI_QUBIT_ELEM]{element:[INPUT]{state:|psi_{t}>, part:2}, targets:{1 .. t}}, ..., [MULTI_QUBIT_ELEM]{element:[INPUT]{state:|psi_{t}>, part:t}, targets:{1 .. t}}),  \\\\ ([MULTI_QUBIT_ELEM]{element:[GATE]{operation:FT^{dag}_{t}, part:1}, targets:{1 .. t}}, [MULTI_QUBIT_ELEM]{element:[GATE]{operation:FT^{dag}_{t}, part:2}, targets:{1 .. t}}, ..., [MULTI_QUBIT_ELEM]{element:[GATE]{operation:FT^{dag}_{t}, part:t}, targets:{1 .. t}}),  \\\\ ([MULTI_QUBIT_ELEM]{element:[OUTPUT]{state:_b, part:1}, targets:{1 .. t}}, [MULTI_QUBIT_ELEM]{element:[OUTPUT]{state:_b, part:2}, targets:{1 .. t}}, ..., [MULTI_QUBIT_ELEM]{element:[OUTPUT]{state:_b, part:t}, targets:{1 .. t}}))))\n",
       "   core type: ExprTuple\n",
       "   sub-expressions: 6\n",
       "6. QCIRCUIT(VertExprArray(([MULTI_QUBIT_ELEM]{element:[INPUT]{state:|psi_{t}>, part:1}, targets:{1 .. t}}, [MULTI_QUBIT_ELEM]{element:[INPUT]{state:|psi_{t}>, part:2}, targets:{1 .. t}}, ..., [MULTI_QUBIT_ELEM]{element:[INPUT]{state:|psi_{t}>, part:t}, targets:{1 .. t}}),  \\\\ ([MULTI_QUBIT_ELEM]{element:[GATE]{operation:FT^{dag}_{t}, part:1}, targets:{1 .. t}}, [MULTI_QUBIT_ELEM]{element:[GATE]{operation:FT^{dag}_{t}, part:2}, targets:{1 .. t}}, ..., [MULTI_QUBIT_ELEM]{element:[GATE]{operation:FT^{dag}_{t}, part:t}, targets:{1 .. t}}),  \\\\ ([MULTI_QUBIT_ELEM]{element:[OUTPUT]{state:_b, part:1}, targets:{1 .. t}}, [MULTI_QUBIT_ELEM]{element:[OUTPUT]{state:_b, part:2}, targets:{1 .. t}}, ..., [MULTI_QUBIT_ELEM]{element:[OUTPUT]{state:_b, part:t}, targets:{1 .. t}})))\n",
       "   core type: Operation\n",
       "   operator: 7\n",
       "   operands: 8\n",
       "7. QCIRCUIT\n",
       "   core type: Literal\n",
       "   sub-expressions: \n",
       "8. VertExprArray(([MULTI_QUBIT_ELEM]{element:[INPUT]{state:|psi_{t}>, part:1}, targets:{1 .. t}}, [MULTI_QUBIT_ELEM]{element:[INPUT]{state:|psi_{t}>, part:2}, targets:{1 .. t}}, ..., [MULTI_QUBIT_ELEM]{element:[INPUT]{state:|psi_{t}>, part:t}, targets:{1 .. t}}),  \\\\ ([MULTI_QUBIT_ELEM]{element:[GATE]{operation:FT^{dag}_{t}, part:1}, targets:{1 .. t}}, [MULTI_QUBIT_ELEM]{element:[GATE]{operation:FT^{dag}_{t}, part:2}, targets:{1 .. t}}, ..., [MULTI_QUBIT_ELEM]{element:[GATE]{operation:FT^{dag}_{t}, part:t}, targets:{1 .. t}}),  \\\\ ([MULTI_QUBIT_ELEM]{element:[OUTPUT]{state:_b, part:1}, targets:{1 .. t}}, [MULTI_QUBIT_ELEM]{element:[OUTPUT]{state:_b, part:2}, targets:{1 .. t}}, ..., [MULTI_QUBIT_ELEM]{element:[OUTPUT]{state:_b, part:t}, targets:{1 .. t}}))\n",
       "   core type: ExprTuple\n",
       "   sub-expressions: 9, 10, 11\n",
       "9. ([MULTI_QUBIT_ELEM]{element:[INPUT]{state:|psi_{t}>, part:1}, targets:{1 .. t}}, [MULTI_QUBIT_ELEM]{element:[INPUT]{state:|psi_{t}>, part:2}, targets:{1 .. t}}, ..., [MULTI_QUBIT_ELEM]{element:[INPUT]{state:|psi_{t}>, part:t}, targets:{1 .. t}})\n",
       "   core type: ExprTuple\n",
       "   sub-expressions: 12\n",
       "10. ([MULTI_QUBIT_ELEM]{element:[GATE]{operation:FT^{dag}_{t}, part:1}, targets:{1 .. t}}, [MULTI_QUBIT_ELEM]{element:[GATE]{operation:FT^{dag}_{t}, part:2}, targets:{1 .. t}}, ..., [MULTI_QUBIT_ELEM]{element:[GATE]{operation:FT^{dag}_{t}, part:t}, targets:{1 .. t}})\n",
       "    core type: ExprTuple\n",
       "    sub-expressions: 13\n",
       "11. ([MULTI_QUBIT_ELEM]{element:[OUTPUT]{state:_b, part:1}, targets:{1 .. t}}, [MULTI_QUBIT_ELEM]{element:[OUTPUT]{state:_b, part:2}, targets:{1 .. t}}, ..., [MULTI_QUBIT_ELEM]{element:[OUTPUT]{state:_b, part:t}, targets:{1 .. t}})\n",
       "    core type: ExprTuple\n",
       "    sub-expressions: 14\n",
       "12. [MULTI_QUBIT_ELEM]{element:[INPUT]{state:|psi_{t}>, part:1}, targets:{1 .. t}}, [MULTI_QUBIT_ELEM]{element:[INPUT]{state:|psi_{t}>, part:2}, targets:{1 .. t}}, ..., [MULTI_QUBIT_ELEM]{element:[INPUT]{state:|psi_{t}>, part:t}, targets:{1 .. t}}\n",
       "    core type: ExprRange\n",
       "    lambda_map: 15\n",
       "    start_index: 42\n",
       "    end_index: 46\n",
       "13. [MULTI_QUBIT_ELEM]{element:[GATE]{operation:FT^{dag}_{t}, part:1}, targets:{1 .. t}}, [MULTI_QUBIT_ELEM]{element:[GATE]{operation:FT^{dag}_{t}, part:2}, targets:{1 .. t}}, ..., [MULTI_QUBIT_ELEM]{element:[GATE]{operation:FT^{dag}_{t}, part:t}, targets:{1 .. t}}\n",
       "    core type: ExprRange\n",
       "    lambda_map: 16\n",
       "    start_index: 42\n",
       "    end_index: 46\n",
       "14. [MULTI_QUBIT_ELEM]{element:[OUTPUT]{state:_b, part:1}, targets:{1 .. t}}, [MULTI_QUBIT_ELEM]{element:[OUTPUT]{state:_b, part:2}, targets:{1 .. t}}, ..., [MULTI_QUBIT_ELEM]{element:[OUTPUT]{state:_b, part:t}, targets:{1 .. t}}\n",
       "    core type: ExprRange\n",
       "    lambda_map: 17\n",
       "    start_index: 42\n",
       "    end_index: 46\n",
       "15. _a -> [MULTI_QUBIT_ELEM]{element:[INPUT]{state:|psi_{t}>, part:_a}, targets:{1 .. t}}\n",
       "    core type: Lambda\n",
       "    parameter: 41\n",
       "    body: 18\n",
       "16. _a -> [MULTI_QUBIT_ELEM]{element:[GATE]{operation:FT^{dag}_{t}, part:_a}, targets:{1 .. t}}\n",
       "    core type: Lambda\n",
       "    parameter: 41\n",
       "    body: 19\n",
       "17. _a -> [MULTI_QUBIT_ELEM]{element:[OUTPUT]{state:_b, part:_a}, targets:{1 .. t}}\n",
       "    core type: Lambda\n",
       "    parameter: 41\n",
       "    body: 21\n",
       "18. [MULTI_QUBIT_ELEM]{element:[INPUT]{state:|psi_{t}>, part:_a}, targets:{1 .. t}}\n",
       "    core type: Operation\n",
       "    operator: 24\n",
       "    operands: 22\n",
       "19. [MULTI_QUBIT_ELEM]{element:[GATE]{operation:FT^{dag}_{t}, part:_a}, targets:{1 .. t}}\n",
       "    core type: Operation\n",
       "    operator: 24\n",
       "    operands: 23\n",
       "20. (_a)\n",
       "    core type: ExprTuple\n",
       "    sub-expressions: 41\n",
       "21. [MULTI_QUBIT_ELEM]{element:[OUTPUT]{state:_b, part:_a}, targets:{1 .. t}}\n",
       "    core type: Operation\n",
       "    operator: 24\n",
       "    operands: 25\n",
       "22. {element:[INPUT]{state:|psi_{t}>, part:_a}, targets:{1 .. t}}\n",
       "    core type: NamedExprs\n",
       "    element: 26\n",
       "    targets: 29\n",
       "23. {element:[GATE]{operation:FT^{dag}_{t}, part:_a}, targets:{1 .. t}}\n",
       "    core type: NamedExprs\n",
       "    element: 27\n",
       "    targets: 29\n",
       "24. MULTI_QUBIT_ELEM\n",
       "    core type: Literal\n",
       "    sub-expressions: \n",
       "25. {element:[OUTPUT]{state:_b, part:_a}, targets:{1 .. t}}\n",
       "    core type: NamedExprs\n",
       "    element: 28\n",
       "    targets: 29\n",
       "26. [INPUT]{state:|psi_{t}>, part:_a}\n",
       "    core type: Operation\n",
       "    operator: 30\n",
       "    operands: 31\n",
       "27. [GATE]{operation:FT^{dag}_{t}, part:_a}\n",
       "    core type: Operation\n",
       "    operator: 32\n",
       "    operands: 33\n",
       "28. [OUTPUT]{state:_b, part:_a}\n",
       "    core type: Operation\n",
       "    operator: 34\n",
       "    operands: 35\n",
       "29. {1 .. t}\n",
       "    core type: Operation\n",
       "    operator: 36\n",
       "    operands: 37\n",
       "30. INPUT\n",
       "    core type: Literal\n",
       "    sub-expressions: \n",
       "31. {state:|psi_{t}>, part:_a}\n",
       "    core type: NamedExprs\n",
       "    state: 38\n",
       "    part: 41\n",
       "32. GATE\n",
       "    core type: Literal\n",
       "    sub-expressions: \n",
       "33. {operation:FT^{dag}_{t}, part:_a}\n",
       "    core type: NamedExprs\n",
       "    operation: 39\n",
       "    part: 41\n",
       "34. OUTPUT\n",
       "    core type: Literal\n",
       "    sub-expressions: \n",
       "35. {state:_b, part:_a}\n",
       "    core type: NamedExprs\n",
       "    state: 40\n",
       "    part: 41\n",
       "36. Interval\n",
       "    core type: Literal\n",
       "    sub-expressions: \n",
       "37. (1, t)\n",
       "    core type: ExprTuple\n",
       "    sub-expressions: 42, 46\n",
       "38. |psi_{t}>\n",
       "    core type: Operation\n",
       "    operator: 43\n",
       "    operand: 46\n",
       "39. FT^{dag}_{t}\n",
       "    core type: Operation\n",
       "    operator: 44\n",
       "    operand: 46\n",
       "40. _b\n",
       "    core type: Variable\n",
       "    sub-expressions: \n",
       "41. _a\n",
       "    core type: Variable\n",
       "    sub-expressions: \n",
       "42. 1\n",
       "    core type: Literal\n",
       "    sub-expressions: \n",
       "43. psi\n",
       "    core type: Literal\n",
       "    sub-expressions: \n",
       "44. FT^{dag}\n",
       "    core type: Literal\n",
       "    sub-expressions: \n",
       "45. (t)\n",
       "    core type: ExprTuple\n",
       "    sub-expressions: 46\n",
       "46. t\n",
       "    core type: Literal\n",
       "    sub-expressions: "
      ]
     },
     "metadata": {},
     "output_type": "display_data"
    }
   ],
   "source": [
    "# display the expression information\n",
    "stored_expr.expr_info()"
   ]
  },
  {
   "cell_type": "code",
   "execution_count": null,
   "metadata": {},
   "outputs": [],
   "source": []
  }
 ],
 "metadata": {
  "kernelspec": {
   "display_name": "Python 3",
   "language": "python",
   "name": "python3"
  }
 },
 "nbformat": 4,
 "nbformat_minor": 0
}