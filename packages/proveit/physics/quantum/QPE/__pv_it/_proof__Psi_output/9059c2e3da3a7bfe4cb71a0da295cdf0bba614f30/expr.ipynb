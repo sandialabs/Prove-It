{
 "cells": [
  {
   "cell_type": "markdown",
   "metadata": {},
   "source": [
    "Expression of type <a class=\"ProveItLink\" href=\"../../../../../../../../doc/html/api/proveit.physics.quantum.circuits.Qcircuit.html\">Qcircuit</a>\n",
    "=======================\n",
    "# from the theory of <a class=\"ProveItLink\" href=\"../../../_theory_nbs_/theory.ipynb\">proveit.physics.quantum.QPE</a>"
   ]
  },
  {
   "cell_type": "code",
   "execution_count": 1,
   "metadata": {},
   "outputs": [],
   "source": [
    "import proveit\n",
    "# Automation is not needed when building an expression:\n",
    "proveit.defaults.automation = False # This will speed things up.\n",
    "proveit.defaults.inline_pngs = False # Makes files smaller.\n",
    "%load_expr # Load the stored expression as 'stored_expr'\n",
    "# import Expression classes needed to build the expression\n",
    "from proveit import ExprRange, Variable, VertExprArray\n",
    "from proveit.numbers import Add, Interval, one\n",
    "from proveit.physics.quantum.QPE import _ket_u, _psi__t_ket, _s, _t\n",
    "from proveit.physics.quantum.circuits import MultiQubitElem, Output, Qcircuit"
   ]
  },
  {
   "cell_type": "code",
   "execution_count": 2,
   "metadata": {},
   "outputs": [
    {
     "data": {
      "text/html": [
       "<strong id=\"expr\">expr:</strong> <a class=\"ProveItLink\" href=\"expr.ipynb\"><img src=\"expr.png\" style=\"display:inline;vertical-align:middle;\" /></a><br>"
      ],
      "text/plain": [
       "<IPython.core.display.HTML object>"
      ]
     },
     "metadata": {},
     "output_type": "display_data"
    }
   ],
   "source": [
    "# build up the expression from sub-expressions\n",
    "sub_expr1 = Variable(\"_a\", latex_format = r\"{_{-}a}\")\n",
    "expr = Qcircuit(vert_expr_array = VertExprArray([ExprRange(sub_expr1, MultiQubitElem(element = Output(state = _psi__t_ket, part = sub_expr1), targets = Interval(one, _t)), one, _t).with_wrapping_at(2,6), ExprRange(sub_expr1, MultiQubitElem(element = Output(state = _ket_u, part = sub_expr1), targets = Interval(Add(_t, one), Add(_t, _s))), one, _s).with_wrapping_at(2,6)]))"
   ]
  },
  {
   "cell_type": "code",
   "execution_count": 3,
   "metadata": {},
   "outputs": [
    {
     "name": "stdout",
     "output_type": "stream",
     "text": [
      "Passed sanity check: expr matches stored_expr\n"
     ]
    }
   ],
   "source": [
    "# check that the built expression is the same as the stored expression\n",
    "assert expr == stored_expr\n",
    "assert expr._style_id == stored_expr._style_id\n",
    "print(\"Passed sanity check: expr matches stored_expr\")"
   ]
  },
  {
   "cell_type": "code",
   "execution_count": 4,
   "metadata": {},
   "outputs": [
    {
     "name": "stdout",
     "output_type": "stream",
     "text": [
      "\\begin{array}{c} \\Qcircuit@C=1em @R=.7em{\n",
      "& \\qout{\\lvert \\psi_{t} \\rangle} \\\\\n",
      "& \\qout{\\lvert u \\rangle}\n",
      "} \\end{array}\n"
     ]
    }
   ],
   "source": [
    "# Show the LaTeX representation of the expression for convenience if you need it.\n",
    "print(stored_expr.latex())"
   ]
  },
  {
   "cell_type": "code",
   "execution_count": 5,
   "metadata": {},
   "outputs": [
    {
     "data": {
      "text/html": [
       "<table>\n",
       "<tr><th>name</th><th>description</th><th>default</th><th>current value</th><th>related methods</th></tr><tr><td>spacing</td><td>change the spacing of a circuit using the format '@C=1em @R=.7em' where C is the column spacing and R is the row spacing</td><td>@C=1em @R=.7em</td><td>@C=1em @R=.7em</td><td></td></tr>\n",
       "</table>\n"
      ],
      "text/plain": [
       "style name: spacing\n",
       "description: change the spacing of a circuit using the format '@C=1em @R=.7em' where C is the column spacing and R is the row spacing\n",
       "default: @C=1em @R=.7em\n",
       "current value: @C=1em @R=.7em\n",
       "related methods: ()"
      ]
     },
     "metadata": {},
     "output_type": "display_data"
    }
   ],
   "source": [
    "stored_expr.style_options()"
   ]
  },
  {
   "cell_type": "code",
   "execution_count": 6,
   "metadata": {},
   "outputs": [
    {
     "data": {
      "text/html": [
       "<table><tr><th>&nbsp;</th><th>core type</th><th>sub-expressions</th><th>expression</th></tr>\n",
       "<tr><td>0</td><td>Operation</td><td>operator:&nbsp;1<br>operand:&nbsp;3<br></td><td><a class=\"ProveItLink\" href=\"expr.ipynb\"><img src=\"expr.png\" style=\"display:inline;vertical-align:middle;\" /></a></td></tr>\n",
       "<tr><td>1</td><td>Literal</td><td></td><td><a class=\"ProveItLink\" href=\"../../../../circuits/__pv_it/common/40003b89a3d1740159ada9fe5b21308b42a7d3d40/expr.ipynb\"><img src=\"../../../../circuits/__pv_it/common/40003b89a3d1740159ada9fe5b21308b42a7d3d40/expr.png\" style=\"display:inline;vertical-align:middle;\" /></a></td></tr>\n",
       "<tr><td>2</td><td>ExprTuple</td><td>3</td><td><a class=\"ProveItLink\" href=\"../bd9e89c7e354a14a4b643f5c5bb980572fd636660/expr.ipynb\"><img src=\"../bd9e89c7e354a14a4b643f5c5bb980572fd636660/expr.png\" style=\"display:inline;vertical-align:middle;\" /></a></td></tr>\n",
       "<tr><td>3</td><td>ExprTuple</td><td>4, 5</td><td><a class=\"ProveItLink\" href=\"../29ee812ef17c7cc18cb53665ec5b6eb45f3c906e0/expr.ipynb\"><img src=\"../29ee812ef17c7cc18cb53665ec5b6eb45f3c906e0/expr.png\" style=\"display:inline;vertical-align:middle;\" /></a></td></tr>\n",
       "<tr><td>4</td><td>ExprRange</td><td>lambda_map:&nbsp;6<br>start_index:&nbsp;34<br>end_index:&nbsp;35<br></td><td><a class=\"ProveItLink\" href=\"../83358f194891a38def79ca38e75ae1481b8d59510/expr.ipynb\"><img src=\"../83358f194891a38def79ca38e75ae1481b8d59510/expr.png\" style=\"display:inline;vertical-align:middle;\" /></a></td></tr>\n",
       "<tr><td>5</td><td>ExprRange</td><td>lambda_map:&nbsp;7<br>start_index:&nbsp;34<br>end_index:&nbsp;36<br></td><td><a class=\"ProveItLink\" href=\"../4777e998d59fdadb38fc2c18934e9292848407300/expr.ipynb\"><img src=\"../4777e998d59fdadb38fc2c18934e9292848407300/expr.png\" style=\"display:inline;vertical-align:middle;\" /></a></td></tr>\n",
       "<tr><td>6</td><td>Lambda</td><td>parameter:&nbsp;26<br>body:&nbsp;8<br></td><td><a class=\"ProveItLink\" href=\"../cb8855ef664ed9551bd31521b7684f0e8675231b0/expr.ipynb\"><img src=\"../cb8855ef664ed9551bd31521b7684f0e8675231b0/expr.png\" style=\"display:inline;vertical-align:middle;\" /></a></td></tr>\n",
       "<tr><td>7</td><td>Lambda</td><td>parameter:&nbsp;26<br>body:&nbsp;10<br></td><td><a class=\"ProveItLink\" href=\"../../common/1e22278d342e59974a3de4a1805e7016916c63fd0/expr.ipynb\"><img src=\"../../common/1e22278d342e59974a3de4a1805e7016916c63fd0/expr.png\" style=\"display:inline;vertical-align:middle;\" /></a></td></tr>\n",
       "<tr><td>8</td><td>Operation</td><td>operator:&nbsp;12<br>operands:&nbsp;11<br></td><td><a class=\"ProveItLink\" href=\"../1ba44de5b32b9298ae3d86bc414f780beff2ec820/expr.ipynb\"><img src=\"../1ba44de5b32b9298ae3d86bc414f780beff2ec820/expr.png\" style=\"display:inline;vertical-align:middle;\" /></a></td></tr>\n",
       "<tr><td>9</td><td>ExprTuple</td><td>26</td><td><a class=\"ProveItLink\" href=\"../../common/4b0dd6be36d76552eda6a95d5b4a27f5a5b62f900/expr.ipynb\"><img src=\"../../common/4b0dd6be36d76552eda6a95d5b4a27f5a5b62f900/expr.png\" style=\"display:inline;vertical-align:middle;\" /></a></td></tr>\n",
       "<tr><td>10</td><td>Operation</td><td>operator:&nbsp;12<br>operands:&nbsp;13<br></td><td><a class=\"ProveItLink\" href=\"../../common/645ab3a8d644049e80149298c66441ee8ba0725d0/expr.ipynb\"><img src=\"../../common/645ab3a8d644049e80149298c66441ee8ba0725d0/expr.png\" style=\"display:inline;vertical-align:middle;\" /></a></td></tr>\n",
       "<tr><td>11</td><td>NamedExprs</td><td>element: 14<br>targets: 15<br></td><td><a class=\"ProveItLink\" href=\"../f50cdd9ba410d239140ab6777f58b71427e56f150/expr.ipynb\"><img src=\"../f50cdd9ba410d239140ab6777f58b71427e56f150/expr.png\" style=\"display:inline;vertical-align:middle;\" /></a></td></tr>\n",
       "<tr><td>12</td><td>Literal</td><td></td><td><a class=\"ProveItLink\" href=\"../../../../circuits/__pv_it/common/5eaa43008f05c06941080a12337ff182ea14996e0/expr.ipynb\"><img src=\"../../../../circuits/__pv_it/common/5eaa43008f05c06941080a12337ff182ea14996e0/expr.png\" style=\"display:inline;vertical-align:middle;\" /></a></td></tr>\n",
       "<tr><td>13</td><td>NamedExprs</td><td>element: 16<br>targets: 17<br></td><td><a class=\"ProveItLink\" href=\"../../common/998a677874497c68d9fa8110217b7dfa9a11d3430/expr.ipynb\"><img src=\"../../common/998a677874497c68d9fa8110217b7dfa9a11d3430/expr.png\" style=\"display:inline;vertical-align:middle;\" /></a></td></tr>\n",
       "<tr><td>14</td><td>Operation</td><td>operator:&nbsp;20<br>operands:&nbsp;18<br></td><td><a class=\"ProveItLink\" href=\"../99e5c215fb9163a00aea3e47d581e41c927691480/expr.ipynb\"><img src=\"../99e5c215fb9163a00aea3e47d581e41c927691480/expr.png\" style=\"display:inline;vertical-align:middle;\" /></a></td></tr>\n",
       "<tr><td>15</td><td>Operation</td><td>operator:&nbsp;22<br>operands:&nbsp;19<br></td><td><a class=\"ProveItLink\" href=\"../../common/e122b9c60b738854d914e6ecd981b572cc15d7ba0/expr.ipynb\"><img src=\"../../common/e122b9c60b738854d914e6ecd981b572cc15d7ba0/expr.png\" style=\"display:inline;vertical-align:middle;\" /></a></td></tr>\n",
       "<tr><td>16</td><td>Operation</td><td>operator:&nbsp;20<br>operands:&nbsp;21<br></td><td><a class=\"ProveItLink\" href=\"../../common/a38f9fb0b940bd2f9ac04d5547d5da46f983caa30/expr.ipynb\"><img src=\"../../common/a38f9fb0b940bd2f9ac04d5547d5da46f983caa30/expr.png\" style=\"display:inline;vertical-align:middle;\" /></a></td></tr>\n",
       "<tr><td>17</td><td>Operation</td><td>operator:&nbsp;22<br>operands:&nbsp;23<br></td><td><a class=\"ProveItLink\" href=\"../../common/e4c37383ea766bb1f6bcd7098cceb832b15e96720/expr.ipynb\"><img src=\"../../common/e4c37383ea766bb1f6bcd7098cceb832b15e96720/expr.png\" style=\"display:inline;vertical-align:middle;\" /></a></td></tr>\n",
       "<tr><td>18</td><td>NamedExprs</td><td>state: 24<br>part: 26<br></td><td><a class=\"ProveItLink\" href=\"../a47825197c81e9e603266d26064a4c977c16d1df0/expr.ipynb\"><img src=\"../a47825197c81e9e603266d26064a4c977c16d1df0/expr.png\" style=\"display:inline;vertical-align:middle;\" /></a></td></tr>\n",
       "<tr><td>19</td><td>ExprTuple</td><td>34, 35</td><td><a class=\"ProveItLink\" href=\"../../common/5bbcfd1311319843ab62a23688c905a8a364e8380/expr.ipynb\"><img src=\"../../common/5bbcfd1311319843ab62a23688c905a8a364e8380/expr.png\" style=\"display:inline;vertical-align:middle;\" /></a></td></tr>\n",
       "<tr><td>20</td><td>Literal</td><td></td><td><a class=\"ProveItLink\" href=\"../../../../circuits/__pv_it/common/00345a9c4f4d361e0b6e8bbbbe5a33a8ec86a20b0/expr.ipynb\"><img src=\"../../../../circuits/__pv_it/common/00345a9c4f4d361e0b6e8bbbbe5a33a8ec86a20b0/expr.png\" style=\"display:inline;vertical-align:middle;\" /></a></td></tr>\n",
       "<tr><td>21</td><td>NamedExprs</td><td>state: 25<br>part: 26<br></td><td><a class=\"ProveItLink\" href=\"../../common/d731450f12622d219d2b2dddf70849e455294f070/expr.ipynb\"><img src=\"../../common/d731450f12622d219d2b2dddf70849e455294f070/expr.png\" style=\"display:inline;vertical-align:middle;\" /></a></td></tr>\n",
       "<tr><td>22</td><td>Literal</td><td></td><td><a class=\"ProveItLink\" href=\"../../../../../../numbers/number_sets/integers/__pv_it/common/92f3a0a77e3c3ea8e4a5c8674edadc54e4f57d550/expr.ipynb\"><img src=\"../../../../../../numbers/number_sets/integers/__pv_it/common/92f3a0a77e3c3ea8e4a5c8674edadc54e4f57d550/expr.png\" style=\"display:inline;vertical-align:middle;\" /></a></td></tr>\n",
       "<tr><td>23</td><td>ExprTuple</td><td>27, 28</td><td><a class=\"ProveItLink\" href=\"../../common/290007a348622eadb6860d4299d78fb54ebb86910/expr.ipynb\"><img src=\"../../common/290007a348622eadb6860d4299d78fb54ebb86910/expr.png\" style=\"display:inline;vertical-align:middle;\" /></a></td></tr>\n",
       "<tr><td>24</td><td>Operation</td><td>operator:&nbsp;29<br>operand:&nbsp;35<br></td><td><a class=\"ProveItLink\" href=\"../../common/1a76979ea9a7780eeb22b6220b8d2767502e417a0/expr.ipynb\"><img src=\"../../common/1a76979ea9a7780eeb22b6220b8d2767502e417a0/expr.png\" style=\"display:inline;vertical-align:middle;\" /></a></td></tr>\n",
       "<tr><td>25</td><td>Literal</td><td></td><td><a class=\"ProveItLink\" href=\"../../common/ca39d48f285e5b8b9c4fc5a4225a68cd859974bc0/expr.ipynb\"><img src=\"../../common/ca39d48f285e5b8b9c4fc5a4225a68cd859974bc0/expr.png\" style=\"display:inline;vertical-align:middle;\" /></a></td></tr>\n",
       "<tr><td>26</td><td>Variable</td><td></td><td><a class=\"ProveItLink\" href=\"../../common/006c465e50948aa2b52285e2de47974f741255cc0/expr.ipynb\"><img src=\"../../common/006c465e50948aa2b52285e2de47974f741255cc0/expr.png\" style=\"display:inline;vertical-align:middle;\" /></a></td></tr>\n",
       "<tr><td>27</td><td>Operation</td><td>operator:&nbsp;32<br>operands:&nbsp;31<br></td><td><a class=\"ProveItLink\" href=\"../../common/ee59288f8ad36a7fc131fd5d062c398a9f67d7a70/expr.ipynb\"><img src=\"../../common/ee59288f8ad36a7fc131fd5d062c398a9f67d7a70/expr.png\" style=\"display:inline;vertical-align:middle;\" /></a></td></tr>\n",
       "<tr><td>28</td><td>Operation</td><td>operator:&nbsp;32<br>operands:&nbsp;33<br></td><td><a class=\"ProveItLink\" href=\"../../common/d594f9d2403ea6680916b743cd9c582a0a3aed4b0/expr.ipynb\"><img src=\"../../common/d594f9d2403ea6680916b743cd9c582a0a3aed4b0/expr.png\" style=\"display:inline;vertical-align:middle;\" /></a></td></tr>\n",
       "<tr><td>29</td><td>Literal</td><td></td><td><a class=\"ProveItLink\" href=\"../../common/3cd01098f6477695c5f95f3614ef4302a3a569f40/expr.ipynb\"><img src=\"../../common/3cd01098f6477695c5f95f3614ef4302a3a569f40/expr.png\" style=\"display:inline;vertical-align:middle;\" /></a></td></tr>\n",
       "<tr><td>30</td><td>ExprTuple</td><td>35</td><td><a class=\"ProveItLink\" href=\"../../common/53db8ddfd57f92ceb5c9c5778de41560ef98a6f20/expr.ipynb\"><img src=\"../../common/53db8ddfd57f92ceb5c9c5778de41560ef98a6f20/expr.png\" style=\"display:inline;vertical-align:middle;\" /></a></td></tr>\n",
       "<tr><td>31</td><td>ExprTuple</td><td>35, 34</td><td><a class=\"ProveItLink\" href=\"../../common/b78bbf7fd57d1a1491fbbbcff71abb9d886680aa0/expr.ipynb\"><img src=\"../../common/b78bbf7fd57d1a1491fbbbcff71abb9d886680aa0/expr.png\" style=\"display:inline;vertical-align:middle;\" /></a></td></tr>\n",
       "<tr><td>32</td><td>Literal</td><td></td><td><a class=\"ProveItLink\" href=\"../../../../../../numbers/addition/__pv_it/common/4b7effaab3619a1c2c38fe2dee8601df8ec714590/expr.ipynb\"><img src=\"../../../../../../numbers/addition/__pv_it/common/4b7effaab3619a1c2c38fe2dee8601df8ec714590/expr.png\" style=\"display:inline;vertical-align:middle;\" /></a></td></tr>\n",
       "<tr><td>33</td><td>ExprTuple</td><td>35, 36</td><td><a class=\"ProveItLink\" href=\"../../common/68a54423765fd39956fb91176c58139b7e4f5c510/expr.ipynb\"><img src=\"../../common/68a54423765fd39956fb91176c58139b7e4f5c510/expr.png\" style=\"display:inline;vertical-align:middle;\" /></a></td></tr>\n",
       "<tr><td>34</td><td>Literal</td><td></td><td><a class=\"ProveItLink\" href=\"../../../../../../numbers/numerals/__pv_it/common/682157d4892d216d9e5626ed533aff9b56b9506e0/expr.ipynb\"><img src=\"../../../../../../numbers/numerals/__pv_it/common/682157d4892d216d9e5626ed533aff9b56b9506e0/expr.png\" style=\"display:inline;vertical-align:middle;\" /></a></td></tr>\n",
       "<tr><td>35</td><td>Literal</td><td></td><td><a class=\"ProveItLink\" href=\"../../common/977cc67717328e22c93f8ab84e6a45e8cadce7790/expr.ipynb\"><img src=\"../../common/977cc67717328e22c93f8ab84e6a45e8cadce7790/expr.png\" style=\"display:inline;vertical-align:middle;\" /></a></td></tr>\n",
       "<tr><td>36</td><td>Literal</td><td></td><td><a class=\"ProveItLink\" href=\"../../common/8a1628c4cfc7b78e5c5de183ba3f5cff0b20d4dd0/expr.ipynb\"><img src=\"../../common/8a1628c4cfc7b78e5c5de183ba3f5cff0b20d4dd0/expr.png\" style=\"display:inline;vertical-align:middle;\" /></a></td></tr>\n",
       "</table>\n"
      ],
      "text/plain": [
       "0. QCIRCUIT(VertExprArray(([MULTI_QUBIT_ELEM]{element:[OUTPUT]{state:|psi_{t}>, part:1}, targets:{1 .. t}}, [MULTI_QUBIT_ELEM]{element:[OUTPUT]{state:|psi_{t}>, part:2}, targets:{1 .. t}}, ..., [MULTI_QUBIT_ELEM]{element:[OUTPUT]{state:|psi_{t}>, part:t}, targets:{1 .. t}},[MULTI_QUBIT_ELEM]{element:[OUTPUT]{state:|u>, part:1}, targets:{t + 1 .. t + s}}, [MULTI_QUBIT_ELEM]{element:[OUTPUT]{state:|u>, part:2}, targets:{t + 1 .. t + s}}, ..., [MULTI_QUBIT_ELEM]{element:[OUTPUT]{state:|u>, part:s}, targets:{t + 1 .. t + s}})))\n",
       "   core type: Operation\n",
       "   operator: 1\n",
       "   operand: 3\n",
       "1. QCIRCUIT\n",
       "   core type: Literal\n",
       "   sub-expressions: \n",
       "2. VertExprArray(([MULTI_QUBIT_ELEM]{element:[OUTPUT]{state:|psi_{t}>, part:1}, targets:{1 .. t}}, [MULTI_QUBIT_ELEM]{element:[OUTPUT]{state:|psi_{t}>, part:2}, targets:{1 .. t}}, ..., [MULTI_QUBIT_ELEM]{element:[OUTPUT]{state:|psi_{t}>, part:t}, targets:{1 .. t}},[MULTI_QUBIT_ELEM]{element:[OUTPUT]{state:|u>, part:1}, targets:{t + 1 .. t + s}}, [MULTI_QUBIT_ELEM]{element:[OUTPUT]{state:|u>, part:2}, targets:{t + 1 .. t + s}}, ..., [MULTI_QUBIT_ELEM]{element:[OUTPUT]{state:|u>, part:s}, targets:{t + 1 .. t + s}}))\n",
       "   core type: ExprTuple\n",
       "   sub-expressions: 3\n",
       "3. ([MULTI_QUBIT_ELEM]{element:[OUTPUT]{state:|psi_{t}>, part:1}, targets:{1 .. t}}, [MULTI_QUBIT_ELEM]{element:[OUTPUT]{state:|psi_{t}>, part:2}, targets:{1 .. t}}, ..., [MULTI_QUBIT_ELEM]{element:[OUTPUT]{state:|psi_{t}>, part:t}, targets:{1 .. t}},[MULTI_QUBIT_ELEM]{element:[OUTPUT]{state:|u>, part:1}, targets:{t + 1 .. t + s}}, [MULTI_QUBIT_ELEM]{element:[OUTPUT]{state:|u>, part:2}, targets:{t + 1 .. t + s}}, ..., [MULTI_QUBIT_ELEM]{element:[OUTPUT]{state:|u>, part:s}, targets:{t + 1 .. t + s}})\n",
       "   core type: ExprTuple\n",
       "   sub-expressions: 4, 5\n",
       "4. [MULTI_QUBIT_ELEM]{element:[OUTPUT]{state:|psi_{t}>, part:1}, targets:{1 .. t}},  \\\\ [MULTI_QUBIT_ELEM]{element:[OUTPUT]{state:|psi_{t}>, part:2}, targets:{1 .. t}}, ...,  \\\\ [MULTI_QUBIT_ELEM]{element:[OUTPUT]{state:|psi_{t}>, part:t}, targets:{1 .. t}}\n",
       "   core type: ExprRange\n",
       "   lambda_map: 6\n",
       "   start_index: 34\n",
       "   end_index: 35\n",
       "5. [MULTI_QUBIT_ELEM]{element:[OUTPUT]{state:|u>, part:1}, targets:{t + 1 .. t + s}},  \\\\ [MULTI_QUBIT_ELEM]{element:[OUTPUT]{state:|u>, part:2}, targets:{t + 1 .. t + s}}, ...,  \\\\ [MULTI_QUBIT_ELEM]{element:[OUTPUT]{state:|u>, part:s}, targets:{t + 1 .. t + s}}\n",
       "   core type: ExprRange\n",
       "   lambda_map: 7\n",
       "   start_index: 34\n",
       "   end_index: 36\n",
       "6. _a -> [MULTI_QUBIT_ELEM]{element:[OUTPUT]{state:|psi_{t}>, part:_a}, targets:{1 .. t}}\n",
       "   core type: Lambda\n",
       "   parameter: 26\n",
       "   body: 8\n",
       "7. _a -> [MULTI_QUBIT_ELEM]{element:[OUTPUT]{state:|u>, part:_a}, targets:{t + 1 .. t + s}}\n",
       "   core type: Lambda\n",
       "   parameter: 26\n",
       "   body: 10\n",
       "8. [MULTI_QUBIT_ELEM]{element:[OUTPUT]{state:|psi_{t}>, part:_a}, targets:{1 .. t}}\n",
       "   core type: Operation\n",
       "   operator: 12\n",
       "   operands: 11\n",
       "9. (_a)\n",
       "   core type: ExprTuple\n",
       "   sub-expressions: 26\n",
       "10. [MULTI_QUBIT_ELEM]{element:[OUTPUT]{state:|u>, part:_a}, targets:{t + 1 .. t + s}}\n",
       "    core type: Operation\n",
       "    operator: 12\n",
       "    operands: 13\n",
       "11. {element:[OUTPUT]{state:|psi_{t}>, part:_a}, targets:{1 .. t}}\n",
       "    core type: NamedExprs\n",
       "    element: 14\n",
       "    targets: 15\n",
       "12. MULTI_QUBIT_ELEM\n",
       "    core type: Literal\n",
       "    sub-expressions: \n",
       "13. {element:[OUTPUT]{state:|u>, part:_a}, targets:{t + 1 .. t + s}}\n",
       "    core type: NamedExprs\n",
       "    element: 16\n",
       "    targets: 17\n",
       "14. [OUTPUT]{state:|psi_{t}>, part:_a}\n",
       "    core type: Operation\n",
       "    operator: 20\n",
       "    operands: 18\n",
       "15. {1 .. t}\n",
       "    core type: Operation\n",
       "    operator: 22\n",
       "    operands: 19\n",
       "16. [OUTPUT]{state:|u>, part:_a}\n",
       "    core type: Operation\n",
       "    operator: 20\n",
       "    operands: 21\n",
       "17. {t + 1 .. t + s}\n",
       "    core type: Operation\n",
       "    operator: 22\n",
       "    operands: 23\n",
       "18. {state:|psi_{t}>, part:_a}\n",
       "    core type: NamedExprs\n",
       "    state: 24\n",
       "    part: 26\n",
       "19. (1, t)\n",
       "    core type: ExprTuple\n",
       "    sub-expressions: 34, 35\n",
       "20. OUTPUT\n",
       "    core type: Literal\n",
       "    sub-expressions: \n",
       "21. {state:|u>, part:_a}\n",
       "    core type: NamedExprs\n",
       "    state: 25\n",
       "    part: 26\n",
       "22. Interval\n",
       "    core type: Literal\n",
       "    sub-expressions: \n",
       "23. (t + 1, t + s)\n",
       "    core type: ExprTuple\n",
       "    sub-expressions: 27, 28\n",
       "24. |psi_{t}>\n",
       "    core type: Operation\n",
       "    operator: 29\n",
       "    operand: 35\n",
       "25. |u>\n",
       "    core type: Literal\n",
       "    sub-expressions: \n",
       "26. _a\n",
       "    core type: Variable\n",
       "    sub-expressions: \n",
       "27. t + 1\n",
       "    core type: Operation\n",
       "    operator: 32\n",
       "    operands: 31\n",
       "28. t + s\n",
       "    core type: Operation\n",
       "    operator: 32\n",
       "    operands: 33\n",
       "29. psi\n",
       "    core type: Literal\n",
       "    sub-expressions: \n",
       "30. (t)\n",
       "    core type: ExprTuple\n",
       "    sub-expressions: 35\n",
       "31. (t, 1)\n",
       "    core type: ExprTuple\n",
       "    sub-expressions: 35, 34\n",
       "32. +\n",
       "    core type: Literal\n",
       "    sub-expressions: \n",
       "33. (t, s)\n",
       "    core type: ExprTuple\n",
       "    sub-expressions: 35, 36\n",
       "34. 1\n",
       "    core type: Literal\n",
       "    sub-expressions: \n",
       "35. t\n",
       "    core type: Literal\n",
       "    sub-expressions: \n",
       "36. s\n",
       "    core type: Literal\n",
       "    sub-expressions: "
      ]
     },
     "metadata": {},
     "output_type": "display_data"
    }
   ],
   "source": [
    "# display the expression information\n",
    "stored_expr.expr_info()"
   ]
  },
  {
   "cell_type": "code",
   "execution_count": null,
   "metadata": {},
   "outputs": [],
   "source": []
  }
 ],
 "metadata": {
  "kernelspec": {
   "display_name": "Python 3",
   "language": "python",
   "name": "python3"
  }
 },
 "nbformat": 4,
 "nbformat_minor": 0
}