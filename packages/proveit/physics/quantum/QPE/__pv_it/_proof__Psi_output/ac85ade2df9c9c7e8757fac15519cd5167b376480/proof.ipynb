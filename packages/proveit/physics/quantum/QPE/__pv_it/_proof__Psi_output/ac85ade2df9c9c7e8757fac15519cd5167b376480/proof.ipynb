{
 "cells": [
  {
   "cell_type": "markdown",
   "metadata": {},
   "source": [
    "Show the Proof\n",
    "========"
   ]
  },
  {
   "cell_type": "code",
   "execution_count": 1,
   "metadata": {},
   "outputs": [
    {
     "data": {
      "text/html": [
       "<table><tr><th>&nbsp;</th><th>step type</th><th>requirements</th><th>statement</th></tr>\n",
       "<tr><td><a name=\"proveit.physics.quantum.QPE._proof__Psi_output.ac85ade2df9c9c7e8757fac15519cd5167b376480_step0\">0</a></td><td>instantiation</td><td><a href=\"#proveit.physics.quantum.QPE._proof__Psi_output.ac85ade2df9c9c7e8757fac15519cd5167b376480_step1\">1</a></td><td><span style=\"font-size:20px;\"> <a class=\"ProveItLink\" href=\"proof.ipynb\" style=\"text-decoration: none\">&nbsp;&#x22A2;&nbsp;&nbsp;</a><a class=\"ProveItLink\" href=\"../e98f27e2220c2f1d2f209416bc8054750cc65fb30/expr.ipynb\"><img src=\"../e98f27e2220c2f1d2f209416bc8054750cc65fb30/expr.png\" style=\"display:inline;vertical-align:middle;\" /></a></span></td></tr>\n",
       "<tr><td>&nbsp;</td><td colspan=4 style=\"text-align:left\"><span style=\"font-size:20px;\"><a class=\"ProveItLink\" href=\"../8b84f73c0bb95306325bb8e1813b64dd060a627d0/expr.ipynb\"><img src=\"../8b84f73c0bb95306325bb8e1813b64dd060a627d0/expr.png\" style=\"display:inline;vertical-align:middle;\" /></a> : <a class=\"ProveItLink\" href=\"../d29021e63dd6991b3370f9cd1a665b3993e7fddd0/expr.ipynb\"><img src=\"../d29021e63dd6991b3370f9cd1a665b3993e7fddd0/expr.png\" style=\"display:inline;vertical-align:middle;\" /></a>, <a class=\"ProveItLink\" href=\"../b28f767384c069459270580e84620538344993440/expr.ipynb\"><img src=\"../b28f767384c069459270580e84620538344993440/expr.png\" style=\"display:inline;vertical-align:middle;\" /></a> : <a class=\"ProveItLink\" href=\"../da72021f30409da83fc682568f90a757b8a69b800/expr.ipynb\"><img src=\"../da72021f30409da83fc682568f90a757b8a69b800/expr.png\" style=\"display:inline;vertical-align:middle;\" /></a>, <a class=\"ProveItLink\" href=\"../719dc5eac7ec302ac52ec458fe2e3bd1ce3fd06c0/expr.ipynb\"><img src=\"../719dc5eac7ec302ac52ec458fe2e3bd1ce3fd06c0/expr.png\" style=\"display:inline;vertical-align:middle;\" /></a> : <a class=\"ProveItLink\" href=\"../../common/b189562d006a9284ea6cb47af7af231f86f797970/expr.ipynb\"><img src=\"../../common/b189562d006a9284ea6cb47af7af231f86f797970/expr.png\" style=\"display:inline;vertical-align:middle;\" /></a>, <a class=\"ProveItLink\" href=\"../4821da85ad572735e4eaa8ecb4c6676d8435bc1d0/expr.ipynb\"><img src=\"../4821da85ad572735e4eaa8ecb4c6676d8435bc1d0/expr.png\" style=\"display:inline;vertical-align:middle;\" /></a> : <a class=\"ProveItLink\" href=\"../../common/156a8be2bf07083b798dad63b753abaa1b1608fd0/expr.ipynb\"><img src=\"../../common/156a8be2bf07083b798dad63b753abaa1b1608fd0/expr.png\" style=\"display:inline;vertical-align:middle;\" /></a>, <a class=\"ProveItLink\" href=\"../766c2e7166efdbe2c640a2dd5839cf428a2e8d7f0/expr.ipynb\"><img src=\"../766c2e7166efdbe2c640a2dd5839cf428a2e8d7f0/expr.png\" style=\"display:inline;vertical-align:middle;\" /></a> : <a class=\"ProveItLink\" href=\"../../common/645ab3a8d644049e80149298c66441ee8ba0725d0/expr.ipynb\"><img src=\"../../common/645ab3a8d644049e80149298c66441ee8ba0725d0/expr.png\" style=\"display:inline;vertical-align:middle;\" /></a></span></td></tr><tr><td><a name=\"proveit.physics.quantum.QPE._proof__Psi_output.ac85ade2df9c9c7e8757fac15519cd5167b376480_step1\">1</a></td><td>theorem</td><td></td><td><span style=\"font-size:20px;\"> <a class=\"ProveItLink\" href=\"../../../../../../numbers/numerals/decimals/_theory_nbs_/proofs/tuple_len_5_typical_eq/thm_proof.ipynb\" style=\"text-decoration: none\">&nbsp;&#x22A2;&nbsp;&nbsp;</a><a class=\"ProveItLink\" href=\"../../../../../../numbers/numerals/decimals/__pv_it/theorems/339998d4e03211b77c8a5fbbc9b3d3593022789a0/expr.ipynb\"><img src=\"../../../../../../numbers/numerals/decimals/__pv_it/theorems/339998d4e03211b77c8a5fbbc9b3d3593022789a0/expr.png\" style=\"display:inline;vertical-align:middle;\" /></a></span></td></tr>\n",
       "<tr><td>&nbsp;</td><td colspan=4 style-\"text-align:left\"><a class=\"ProveItLink\" href=\"../../../../../../numbers/numerals/decimals/_theory_nbs_/proofs/tuple_len_5_typical_eq/thm_proof.ipynb\">proveit.numbers.numerals.decimals.tuple_len_5_typical_eq</a></td></tr></table>"
      ],
      "text/plain": [
       "<proveit._core_.proof._ShowProof at 0x7fa78087bba8>"
      ]
     },
     "execution_count": 1,
     "metadata": {},
     "output_type": "execute_result"
    }
   ],
   "source": [
    "import proveit\n",
    "# Automation is not needed when only showing a stored proof:\n",
    "proveit.defaults.automation = False # This will speed things up.\n",
    "proveit.defaults.inline_pngs = False # Makes files smaller.\n",
    "%show_proof"
   ]
  },
  {
   "cell_type": "code",
   "execution_count": null,
   "metadata": {},
   "outputs": [],
   "source": []
  }
 ],
 "metadata": {
  "kernelspec": {
   "display_name": "Python 3",
   "language": "python",
   "name": "python3"
  }
 },
 "nbformat": 4,
 "nbformat_minor": 0
}