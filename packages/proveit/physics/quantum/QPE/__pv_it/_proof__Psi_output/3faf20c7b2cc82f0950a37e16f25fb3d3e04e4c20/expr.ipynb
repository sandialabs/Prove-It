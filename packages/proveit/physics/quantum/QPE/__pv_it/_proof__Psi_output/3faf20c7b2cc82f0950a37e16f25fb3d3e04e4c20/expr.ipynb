{
 "cells": [
  {
   "cell_type": "markdown",
   "metadata": {},
   "source": [
    "Expression of type <a class=\"ProveItLink\" href=\"../../../../../../../../doc/html/api/proveit.logic.Equals.html\">Equals</a>\n",
    "=======================\n",
    "# from the theory of <a class=\"ProveItLink\" href=\"../../../_theory_nbs_/theory.ipynb\">proveit.physics.quantum.QPE</a>"
   ]
  },
  {
   "cell_type": "code",
   "execution_count": 1,
   "metadata": {},
   "outputs": [],
   "source": [
    "import proveit\n",
    "# Automation is not needed when building an expression:\n",
    "proveit.defaults.automation = False # This will speed things up.\n",
    "proveit.defaults.inline_pngs = False # Makes files smaller.\n",
    "%load_expr # Load the stored expression as 'stored_expr'\n",
    "# import Expression classes needed to build the expression\n",
    "from proveit import ExprRange, Variable\n",
    "from proveit.core_expr_types import Len\n",
    "from proveit.logic import Equals\n",
    "from proveit.numbers import Add, Interval, one\n",
    "from proveit.physics.quantum.QPE import QPE1, _U, _s, _t\n",
    "from proveit.physics.quantum.circuits import Gate, MultiQubitElem"
   ]
  },
  {
   "cell_type": "code",
   "execution_count": 2,
   "metadata": {},
   "outputs": [
    {
     "data": {
      "text/html": [
       "<strong id=\"expr\">expr:</strong> <a class=\"ProveItLink\" href=\"expr.ipynb\"><img src=\"expr.png\" style=\"display:inline;vertical-align:middle;\" /></a><br>"
      ],
      "text/plain": [
       "<IPython.core.display.HTML object>"
      ]
     },
     "metadata": {},
     "output_type": "display_data"
    }
   ],
   "source": [
    "# build up the expression from sub-expressions\n",
    "sub_expr1 = Variable(\"_a\", latex_format = r\"{_{-}a}\")\n",
    "sub_expr2 = Add(_t, _s)\n",
    "sub_expr3 = MultiQubitElem(element = Gate(operation = QPE1(_U, _t), part = sub_expr1), targets = Interval(one, sub_expr2))\n",
    "expr = Equals(Len(operands = [ExprRange(sub_expr1, sub_expr3, one, _t), ExprRange(sub_expr1, sub_expr3, Add(_t, one), sub_expr2)]), sub_expr2).with_wrapping_at(1)"
   ]
  },
  {
   "cell_type": "code",
   "execution_count": 3,
   "metadata": {},
   "outputs": [
    {
     "name": "stdout",
     "output_type": "stream",
     "text": [
      "Passed sanity check: expr matches stored_expr\n"
     ]
    }
   ],
   "source": [
    "# check that the built expression is the same as the stored expression\n",
    "assert expr == stored_expr\n",
    "assert expr._style_id == stored_expr._style_id\n",
    "print(\"Passed sanity check: expr matches stored_expr\")"
   ]
  },
  {
   "cell_type": "code",
   "execution_count": 4,
   "metadata": {},
   "outputs": [
    {
     "name": "stdout",
     "output_type": "stream",
     "text": [
      "\\begin{array}{c} \\begin{array}{l} |\\left(\\begin{array}{c} \\Qcircuit@C=1em @R=.7em{\n",
      "& & \\gate{\\textrm{QPE}_1\\left(U, t\\right)~\\mbox{part}~1~\\mbox{on}~\\{1~\\ldotp \\ldotp~t + s\\}} & \\qw \n",
      "} \\end{array}, \\begin{array}{c} \\Qcircuit@C=1em @R=.7em{\n",
      "& & \\gate{\\textrm{QPE}_1\\left(U, t\\right)~\\mbox{part}~2~\\mbox{on}~\\{1~\\ldotp \\ldotp~t + s\\}} & \\qw \n",
      "} \\end{array}, \\ldots, \\begin{array}{c} \\Qcircuit@C=1em @R=.7em{\n",
      "& & \\gate{\\textrm{QPE}_1\\left(U, t\\right)~\\mbox{part}~t~\\mbox{on}~\\{1~\\ldotp \\ldotp~t + s\\}} & \\qw \n",
      "} \\end{array},\\begin{array}{c} \\Qcircuit@C=1em @R=.7em{\n",
      "& & \\gate{\\textrm{QPE}_1\\left(U, t\\right)~\\mbox{part}~t + 1~\\mbox{on}~\\{1~\\ldotp \\ldotp~t + s\\}} & \\qw \n",
      "} \\end{array}, \\begin{array}{c} \\Qcircuit@C=1em @R=.7em{\n",
      "& & \\gate{\\textrm{QPE}_1\\left(U, t\\right)~\\mbox{part}~t + 2~\\mbox{on}~\\{1~\\ldotp \\ldotp~t + s\\}} & \\qw \n",
      "} \\end{array}, \\ldots, \\begin{array}{c} \\Qcircuit@C=1em @R=.7em{\n",
      "& & \\gate{\\textrm{QPE}_1\\left(U, t\\right)~\\mbox{part}~t + s~\\mbox{on}~\\{1~\\ldotp \\ldotp~t + s\\}} & \\qw \n",
      "} \\end{array}\\right)| \\\\  = \\left(t + s\\right) \\end{array} \\end{array}\n"
     ]
    }
   ],
   "source": [
    "# Show the LaTeX representation of the expression for convenience if you need it.\n",
    "print(stored_expr.latex())"
   ]
  },
  {
   "cell_type": "code",
   "execution_count": 5,
   "metadata": {},
   "outputs": [
    {
     "data": {
      "text/html": [
       "<table>\n",
       "<tr><th>name</th><th>description</th><th>default</th><th>current value</th><th>related methods</th></tr><tr><td>operation</td><td>'infix' or 'function' style formatting</td><td>infix</td><td>infix</td><td></td></tr>\n",
       "<tr><td>wrap_positions</td><td>position(s) at which wrapping is to occur; '2 n - 1' is after the nth operand, '2 n' is after the nth operation.</td><td>()</td><td>(1)</td><td>('with_wrapping_at', 'with_wrap_before_operator', 'with_wrap_after_operator', 'without_wrapping', 'wrap_positions')</td></tr>\n",
       "<tr><td>justification</td><td>if any wrap positions are set, justify to the 'left', 'center', or 'right'</td><td>center</td><td>center</td><td>('with_justification',)</td></tr>\n",
       "<tr><td>direction</td><td>Direction of the relation (normal or reversed)</td><td>normal</td><td>normal</td><td>('with_direction_reversed', 'is_reversed')</td></tr>\n",
       "</table>\n"
      ],
      "text/plain": [
       "style name: operation\n",
       "description: 'infix' or 'function' style formatting\n",
       "default: infix\n",
       "current value: infix\n",
       "related methods: ()\n",
       "style name: wrap_positions\n",
       "description: position(s) at which wrapping is to occur; '2 n - 1' is after the nth operand, '2 n' is after the nth operation.\n",
       "default: ()\n",
       "current value: (1)\n",
       "related methods: ('with_wrapping_at', 'with_wrap_before_operator', 'with_wrap_after_operator', 'without_wrapping', 'wrap_positions')\n",
       "style name: justification\n",
       "description: if any wrap positions are set, justify to the 'left', 'center', or 'right'\n",
       "default: center\n",
       "current value: center\n",
       "related methods: ('with_justification',)\n",
       "style name: direction\n",
       "description: Direction of the relation (normal or reversed)\n",
       "default: normal\n",
       "current value: normal\n",
       "related methods: ('with_direction_reversed', 'is_reversed')"
      ]
     },
     "metadata": {},
     "output_type": "display_data"
    }
   ],
   "source": [
    "stored_expr.style_options()"
   ]
  },
  {
   "cell_type": "code",
   "execution_count": 6,
   "metadata": {},
   "outputs": [
    {
     "data": {
      "text/html": [
       "<table><tr><th>&nbsp;</th><th>core type</th><th>sub-expressions</th><th>expression</th></tr>\n",
       "<tr><td>0</td><td>Operation</td><td>operator:&nbsp;1<br>operands:&nbsp;2<br></td><td><a class=\"ProveItLink\" href=\"expr.ipynb\"><img src=\"expr.png\" style=\"display:inline;vertical-align:middle;\" /></a></td></tr>\n",
       "<tr><td>1</td><td>Literal</td><td></td><td><a class=\"ProveItLink\" href=\"../../../../../../logic/equality/__pv_it/common/fb96dc12b2aa8801dda64d0132b396c63d1502bb0/expr.ipynb\"><img src=\"../../../../../../logic/equality/__pv_it/common/fb96dc12b2aa8801dda64d0132b396c63d1502bb0/expr.png\" style=\"display:inline;vertical-align:middle;\" /></a></td></tr>\n",
       "<tr><td>2</td><td>ExprTuple</td><td>3, 24</td><td><a class=\"ProveItLink\" href=\"../f7170bb482cab9b1c6d2a608b2d56aeeebd572d10/expr.ipynb\"><img src=\"../f7170bb482cab9b1c6d2a608b2d56aeeebd572d10/expr.png\" style=\"display:inline;vertical-align:middle;\" /></a></td></tr>\n",
       "<tr><td>3</td><td>Operation</td><td>operator:&nbsp;4<br>operands:&nbsp;5<br></td><td><a class=\"ProveItLink\" href=\"../2a750b00e739919ce1e860bb78a8ac2b83886f3c0/expr.ipynb\"><img src=\"../2a750b00e739919ce1e860bb78a8ac2b83886f3c0/expr.png\" style=\"display:inline;vertical-align:middle;\" /></a></td></tr>\n",
       "<tr><td>4</td><td>Literal</td><td></td><td><a class=\"ProveItLink\" href=\"../../../../../../core_expr_types/tuples/__pv_it/common/43df765abf1294d8f1fd177863f57f08bf5ad0080/expr.ipynb\"><img src=\"../../../../../../core_expr_types/tuples/__pv_it/common/43df765abf1294d8f1fd177863f57f08bf5ad0080/expr.png\" style=\"display:inline;vertical-align:middle;\" /></a></td></tr>\n",
       "<tr><td>5</td><td>ExprTuple</td><td>6, 7</td><td><a class=\"ProveItLink\" href=\"../4a10cd9af5ae908f1bc49d71228b4ae2c6a0d3c60/expr.ipynb\"><img src=\"../4a10cd9af5ae908f1bc49d71228b4ae2c6a0d3c60/expr.png\" style=\"display:inline;vertical-align:middle;\" /></a></td></tr>\n",
       "<tr><td>6</td><td>ExprRange</td><td>lambda_map:&nbsp;8<br>start_index:&nbsp;23<br>end_index:&nbsp;30<br></td><td><a class=\"ProveItLink\" href=\"../d1344c2094e694813d25151f27545a34885b9a390/expr.ipynb\"><img src=\"../d1344c2094e694813d25151f27545a34885b9a390/expr.png\" style=\"display:inline;vertical-align:middle;\" /></a></td></tr>\n",
       "<tr><td>7</td><td>ExprRange</td><td>lambda_map:&nbsp;8<br>start_index:&nbsp;9<br>end_index:&nbsp;24<br></td><td><a class=\"ProveItLink\" href=\"../1aa7e7203db683fb6893fc3be05884563b6352e30/expr.ipynb\"><img src=\"../1aa7e7203db683fb6893fc3be05884563b6352e30/expr.png\" style=\"display:inline;vertical-align:middle;\" /></a></td></tr>\n",
       "<tr><td>8</td><td>Lambda</td><td>parameter:&nbsp;22<br>body:&nbsp;11<br></td><td><a class=\"ProveItLink\" href=\"../79899b2a11dec2e3f86ce9e3edcf58b25d083a4c0/expr.ipynb\"><img src=\"../79899b2a11dec2e3f86ce9e3edcf58b25d083a4c0/expr.png\" style=\"display:inline;vertical-align:middle;\" /></a></td></tr>\n",
       "<tr><td>9</td><td>Operation</td><td>operator:&nbsp;27<br>operands:&nbsp;12<br></td><td><a class=\"ProveItLink\" href=\"../../common/ee59288f8ad36a7fc131fd5d062c398a9f67d7a70/expr.ipynb\"><img src=\"../../common/ee59288f8ad36a7fc131fd5d062c398a9f67d7a70/expr.png\" style=\"display:inline;vertical-align:middle;\" /></a></td></tr>\n",
       "<tr><td>10</td><td>ExprTuple</td><td>22</td><td><a class=\"ProveItLink\" href=\"../../../../../../core_expr_types/__pv_it/common/4b0dd6be36d76552eda6a95d5b4a27f5a5b62f900/expr.ipynb\"><img src=\"../../../../../../core_expr_types/__pv_it/common/4b0dd6be36d76552eda6a95d5b4a27f5a5b62f900/expr.png\" style=\"display:inline;vertical-align:middle;\" /></a></td></tr>\n",
       "<tr><td>11</td><td>Operation</td><td>operator:&nbsp;13<br>operands:&nbsp;14<br></td><td><a class=\"ProveItLink\" href=\"../aebdb73d234f4207896a5a9464252795d57077bb0/expr.ipynb\"><img src=\"../aebdb73d234f4207896a5a9464252795d57077bb0/expr.png\" style=\"display:inline;vertical-align:middle;\" /></a></td></tr>\n",
       "<tr><td>12</td><td>ExprTuple</td><td>30, 23</td><td><a class=\"ProveItLink\" href=\"../../common/b78bbf7fd57d1a1491fbbbcff71abb9d886680aa0/expr.ipynb\"><img src=\"../../common/b78bbf7fd57d1a1491fbbbcff71abb9d886680aa0/expr.png\" style=\"display:inline;vertical-align:middle;\" /></a></td></tr>\n",
       "<tr><td>13</td><td>Literal</td><td></td><td><a class=\"ProveItLink\" href=\"../../../../circuits/__pv_it/common/5eaa43008f05c06941080a12337ff182ea14996e0/expr.ipynb\"><img src=\"../../../../circuits/__pv_it/common/5eaa43008f05c06941080a12337ff182ea14996e0/expr.png\" style=\"display:inline;vertical-align:middle;\" /></a></td></tr>\n",
       "<tr><td>14</td><td>NamedExprs</td><td>element: 15<br>targets: 16<br></td><td><a class=\"ProveItLink\" href=\"../1bfe9d2494a74a7f7526f3c26e8ee104a630253b0/expr.ipynb\"><img src=\"../1bfe9d2494a74a7f7526f3c26e8ee104a630253b0/expr.png\" style=\"display:inline;vertical-align:middle;\" /></a></td></tr>\n",
       "<tr><td>15</td><td>Operation</td><td>operator:&nbsp;17<br>operands:&nbsp;18<br></td><td><a class=\"ProveItLink\" href=\"../165c51ac63d1b892ef46bbec097e9bc2a27ac40b0/expr.ipynb\"><img src=\"../165c51ac63d1b892ef46bbec097e9bc2a27ac40b0/expr.png\" style=\"display:inline;vertical-align:middle;\" /></a></td></tr>\n",
       "<tr><td>16</td><td>Operation</td><td>operator:&nbsp;19<br>operands:&nbsp;20<br></td><td><a class=\"ProveItLink\" href=\"../../common/df6bd9d94e48db81fbb35fd010dac489bd7580670/expr.ipynb\"><img src=\"../../common/df6bd9d94e48db81fbb35fd010dac489bd7580670/expr.png\" style=\"display:inline;vertical-align:middle;\" /></a></td></tr>\n",
       "<tr><td>17</td><td>Literal</td><td></td><td><a class=\"ProveItLink\" href=\"../../../../circuits/__pv_it/common/ead8f6f18d2b8c24f1ed8db33df594edd77c9bcc0/expr.ipynb\"><img src=\"../../../../circuits/__pv_it/common/ead8f6f18d2b8c24f1ed8db33df594edd77c9bcc0/expr.png\" style=\"display:inline;vertical-align:middle;\" /></a></td></tr>\n",
       "<tr><td>18</td><td>NamedExprs</td><td>operation: 21<br>part: 22<br></td><td><a class=\"ProveItLink\" href=\"../ff1ff12674000b8bea43d5431fcc1b9dc118f5630/expr.ipynb\"><img src=\"../ff1ff12674000b8bea43d5431fcc1b9dc118f5630/expr.png\" style=\"display:inline;vertical-align:middle;\" /></a></td></tr>\n",
       "<tr><td>19</td><td>Literal</td><td></td><td><a class=\"ProveItLink\" href=\"../../../../../../numbers/number_sets/integers/__pv_it/common/92f3a0a77e3c3ea8e4a5c8674edadc54e4f57d550/expr.ipynb\"><img src=\"../../../../../../numbers/number_sets/integers/__pv_it/common/92f3a0a77e3c3ea8e4a5c8674edadc54e4f57d550/expr.png\" style=\"display:inline;vertical-align:middle;\" /></a></td></tr>\n",
       "<tr><td>20</td><td>ExprTuple</td><td>23, 24</td><td><a class=\"ProveItLink\" href=\"../../common/c651e777ecc5e810a4fe71a030c30f18b193739a0/expr.ipynb\"><img src=\"../../common/c651e777ecc5e810a4fe71a030c30f18b193739a0/expr.png\" style=\"display:inline;vertical-align:middle;\" /></a></td></tr>\n",
       "<tr><td>21</td><td>Operation</td><td>operator:&nbsp;25<br>operands:&nbsp;26<br></td><td><a class=\"ProveItLink\" href=\"../d3aa186828be2923e0d5c6eb3a917f18ce7ce9240/expr.ipynb\"><img src=\"../d3aa186828be2923e0d5c6eb3a917f18ce7ce9240/expr.png\" style=\"display:inline;vertical-align:middle;\" /></a></td></tr>\n",
       "<tr><td>22</td><td>Variable</td><td></td><td><a class=\"ProveItLink\" href=\"../../../../../../core_expr_types/__pv_it/common/006c465e50948aa2b52285e2de47974f741255cc0/expr.ipynb\"><img src=\"../../../../../../core_expr_types/__pv_it/common/006c465e50948aa2b52285e2de47974f741255cc0/expr.png\" style=\"display:inline;vertical-align:middle;\" /></a></td></tr>\n",
       "<tr><td>23</td><td>Literal</td><td></td><td><a class=\"ProveItLink\" href=\"../../../../../../numbers/numerals/__pv_it/common/682157d4892d216d9e5626ed533aff9b56b9506e0/expr.ipynb\"><img src=\"../../../../../../numbers/numerals/__pv_it/common/682157d4892d216d9e5626ed533aff9b56b9506e0/expr.png\" style=\"display:inline;vertical-align:middle;\" /></a></td></tr>\n",
       "<tr><td>24</td><td>Operation</td><td>operator:&nbsp;27<br>operands:&nbsp;28<br></td><td><a class=\"ProveItLink\" href=\"../../common/d594f9d2403ea6680916b743cd9c582a0a3aed4b0/expr.ipynb\"><img src=\"../../common/d594f9d2403ea6680916b743cd9c582a0a3aed4b0/expr.png\" style=\"display:inline;vertical-align:middle;\" /></a></td></tr>\n",
       "<tr><td>25</td><td>Literal</td><td></td><td><a class=\"ProveItLink\" href=\"../../common/beb2fed25dfc66601332874f08798031de9b45210/expr.ipynb\"><img src=\"../../common/beb2fed25dfc66601332874f08798031de9b45210/expr.png\" style=\"display:inline;vertical-align:middle;\" /></a></td></tr>\n",
       "<tr><td>26</td><td>ExprTuple</td><td>29, 30</td><td><a class=\"ProveItLink\" href=\"../../common/f432224091cbb3ce7fe267c3d9a65605242bb1fc0/expr.ipynb\"><img src=\"../../common/f432224091cbb3ce7fe267c3d9a65605242bb1fc0/expr.png\" style=\"display:inline;vertical-align:middle;\" /></a></td></tr>\n",
       "<tr><td>27</td><td>Literal</td><td></td><td><a class=\"ProveItLink\" href=\"../../../../../../numbers/addition/__pv_it/common/4b7effaab3619a1c2c38fe2dee8601df8ec714590/expr.ipynb\"><img src=\"../../../../../../numbers/addition/__pv_it/common/4b7effaab3619a1c2c38fe2dee8601df8ec714590/expr.png\" style=\"display:inline;vertical-align:middle;\" /></a></td></tr>\n",
       "<tr><td>28</td><td>ExprTuple</td><td>30, 31</td><td><a class=\"ProveItLink\" href=\"../../common/68a54423765fd39956fb91176c58139b7e4f5c510/expr.ipynb\"><img src=\"../../common/68a54423765fd39956fb91176c58139b7e4f5c510/expr.png\" style=\"display:inline;vertical-align:middle;\" /></a></td></tr>\n",
       "<tr><td>29</td><td>Literal</td><td></td><td><a class=\"ProveItLink\" href=\"../../common/977758a9490d187b2ff100fdbc53911d78995da80/expr.ipynb\"><img src=\"../../common/977758a9490d187b2ff100fdbc53911d78995da80/expr.png\" style=\"display:inline;vertical-align:middle;\" /></a></td></tr>\n",
       "<tr><td>30</td><td>Literal</td><td></td><td><a class=\"ProveItLink\" href=\"../../common/977cc67717328e22c93f8ab84e6a45e8cadce7790/expr.ipynb\"><img src=\"../../common/977cc67717328e22c93f8ab84e6a45e8cadce7790/expr.png\" style=\"display:inline;vertical-align:middle;\" /></a></td></tr>\n",
       "<tr><td>31</td><td>Literal</td><td></td><td><a class=\"ProveItLink\" href=\"../../common/8a1628c4cfc7b78e5c5de183ba3f5cff0b20d4dd0/expr.ipynb\"><img src=\"../../common/8a1628c4cfc7b78e5c5de183ba3f5cff0b20d4dd0/expr.png\" style=\"display:inline;vertical-align:middle;\" /></a></td></tr>\n",
       "</table>\n"
      ],
      "text/plain": [
       "0. |([MULTI_QUBIT_ELEM]{element:[GATE]{operation:QPE1(U, t), part:1}, targets:{1 .. t + s}}, [MULTI_QUBIT_ELEM]{element:[GATE]{operation:QPE1(U, t), part:2}, targets:{1 .. t + s}}, ..., [MULTI_QUBIT_ELEM]{element:[GATE]{operation:QPE1(U, t), part:t}, targets:{1 .. t + s}},[MULTI_QUBIT_ELEM]{element:[GATE]{operation:QPE1(U, t), part:(t + 1)}, targets:{1 .. t + s}}, [MULTI_QUBIT_ELEM]{element:[GATE]{operation:QPE1(U, t), part:(t + 2)}, targets:{1 .. t + s}}, ..., [MULTI_QUBIT_ELEM]{element:[GATE]{operation:QPE1(U, t), part:(t + s)}, targets:{1 .. t + s}})| \\\\  = (t + s)\n",
       "   core type: Operation\n",
       "   operator: 1\n",
       "   operands: 2\n",
       "1. =\n",
       "   core type: Literal\n",
       "   sub-expressions: \n",
       "2. (|([MULTI_QUBIT_ELEM]{element:[GATE]{operation:QPE1(U, t), part:1}, targets:{1 .. t + s}}, [MULTI_QUBIT_ELEM]{element:[GATE]{operation:QPE1(U, t), part:2}, targets:{1 .. t + s}}, ..., [MULTI_QUBIT_ELEM]{element:[GATE]{operation:QPE1(U, t), part:t}, targets:{1 .. t + s}},[MULTI_QUBIT_ELEM]{element:[GATE]{operation:QPE1(U, t), part:(t + 1)}, targets:{1 .. t + s}}, [MULTI_QUBIT_ELEM]{element:[GATE]{operation:QPE1(U, t), part:(t + 2)}, targets:{1 .. t + s}}, ..., [MULTI_QUBIT_ELEM]{element:[GATE]{operation:QPE1(U, t), part:(t + s)}, targets:{1 .. t + s}})|, t + s)\n",
       "   core type: ExprTuple\n",
       "   sub-expressions: 3, 24\n",
       "3. |([MULTI_QUBIT_ELEM]{element:[GATE]{operation:QPE1(U, t), part:1}, targets:{1 .. t + s}}, [MULTI_QUBIT_ELEM]{element:[GATE]{operation:QPE1(U, t), part:2}, targets:{1 .. t + s}}, ..., [MULTI_QUBIT_ELEM]{element:[GATE]{operation:QPE1(U, t), part:t}, targets:{1 .. t + s}},[MULTI_QUBIT_ELEM]{element:[GATE]{operation:QPE1(U, t), part:(t + 1)}, targets:{1 .. t + s}}, [MULTI_QUBIT_ELEM]{element:[GATE]{operation:QPE1(U, t), part:(t + 2)}, targets:{1 .. t + s}}, ..., [MULTI_QUBIT_ELEM]{element:[GATE]{operation:QPE1(U, t), part:(t + s)}, targets:{1 .. t + s}})|\n",
       "   core type: Operation\n",
       "   operator: 4\n",
       "   operands: 5\n",
       "4. length\n",
       "   core type: Literal\n",
       "   sub-expressions: \n",
       "5. ([MULTI_QUBIT_ELEM]{element:[GATE]{operation:QPE1(U, t), part:1}, targets:{1 .. t + s}}, [MULTI_QUBIT_ELEM]{element:[GATE]{operation:QPE1(U, t), part:2}, targets:{1 .. t + s}}, ..., [MULTI_QUBIT_ELEM]{element:[GATE]{operation:QPE1(U, t), part:t}, targets:{1 .. t + s}},[MULTI_QUBIT_ELEM]{element:[GATE]{operation:QPE1(U, t), part:(t + 1)}, targets:{1 .. t + s}}, [MULTI_QUBIT_ELEM]{element:[GATE]{operation:QPE1(U, t), part:(t + 2)}, targets:{1 .. t + s}}, ..., [MULTI_QUBIT_ELEM]{element:[GATE]{operation:QPE1(U, t), part:(t + s)}, targets:{1 .. t + s}})\n",
       "   core type: ExprTuple\n",
       "   sub-expressions: 6, 7\n",
       "6. [MULTI_QUBIT_ELEM]{element:[GATE]{operation:QPE1(U, t), part:1}, targets:{1 .. t + s}}, [MULTI_QUBIT_ELEM]{element:[GATE]{operation:QPE1(U, t), part:2}, targets:{1 .. t + s}}, ..., [MULTI_QUBIT_ELEM]{element:[GATE]{operation:QPE1(U, t), part:t}, targets:{1 .. t + s}}\n",
       "   core type: ExprRange\n",
       "   lambda_map: 8\n",
       "   start_index: 23\n",
       "   end_index: 30\n",
       "7. [MULTI_QUBIT_ELEM]{element:[GATE]{operation:QPE1(U, t), part:(t + 1)}, targets:{1 .. t + s}}, [MULTI_QUBIT_ELEM]{element:[GATE]{operation:QPE1(U, t), part:(t + 2)}, targets:{1 .. t + s}}, ..., [MULTI_QUBIT_ELEM]{element:[GATE]{operation:QPE1(U, t), part:(t + s)}, targets:{1 .. t + s}}\n",
       "   core type: ExprRange\n",
       "   lambda_map: 8\n",
       "   start_index: 9\n",
       "   end_index: 24\n",
       "8. _a -> [MULTI_QUBIT_ELEM]{element:[GATE]{operation:QPE1(U, t), part:_a}, targets:{1 .. t + s}}\n",
       "   core type: Lambda\n",
       "   parameter: 22\n",
       "   body: 11\n",
       "9. t + 1\n",
       "   core type: Operation\n",
       "   operator: 27\n",
       "   operands: 12\n",
       "10. (_a)\n",
       "    core type: ExprTuple\n",
       "    sub-expressions: 22\n",
       "11. [MULTI_QUBIT_ELEM]{element:[GATE]{operation:QPE1(U, t), part:_a}, targets:{1 .. t + s}}\n",
       "    core type: Operation\n",
       "    operator: 13\n",
       "    operands: 14\n",
       "12. (t, 1)\n",
       "    core type: ExprTuple\n",
       "    sub-expressions: 30, 23\n",
       "13. MULTI_QUBIT_ELEM\n",
       "    core type: Literal\n",
       "    sub-expressions: \n",
       "14. {element:[GATE]{operation:QPE1(U, t), part:_a}, targets:{1 .. t + s}}\n",
       "    core type: NamedExprs\n",
       "    element: 15\n",
       "    targets: 16\n",
       "15. [GATE]{operation:QPE1(U, t), part:_a}\n",
       "    core type: Operation\n",
       "    operator: 17\n",
       "    operands: 18\n",
       "16. {1 .. t + s}\n",
       "    core type: Operation\n",
       "    operator: 19\n",
       "    operands: 20\n",
       "17. GATE\n",
       "    core type: Literal\n",
       "    sub-expressions: \n",
       "18. {operation:QPE1(U, t), part:_a}\n",
       "    core type: NamedExprs\n",
       "    operation: 21\n",
       "    part: 22\n",
       "19. Interval\n",
       "    core type: Literal\n",
       "    sub-expressions: \n",
       "20. (1, t + s)\n",
       "    core type: ExprTuple\n",
       "    sub-expressions: 23, 24\n",
       "21. QPE1(U, t)\n",
       "    core type: Operation\n",
       "    operator: 25\n",
       "    operands: 26\n",
       "22. _a\n",
       "    core type: Variable\n",
       "    sub-expressions: \n",
       "23. 1\n",
       "    core type: Literal\n",
       "    sub-expressions: \n",
       "24. t + s\n",
       "    core type: Operation\n",
       "    operator: 27\n",
       "    operands: 28\n",
       "25. QPE1\n",
       "    core type: Literal\n",
       "    sub-expressions: \n",
       "26. (U, t)\n",
       "    core type: ExprTuple\n",
       "    sub-expressions: 29, 30\n",
       "27. +\n",
       "    core type: Literal\n",
       "    sub-expressions: \n",
       "28. (t, s)\n",
       "    core type: ExprTuple\n",
       "    sub-expressions: 30, 31\n",
       "29. U\n",
       "    core type: Literal\n",
       "    sub-expressions: \n",
       "30. t\n",
       "    core type: Literal\n",
       "    sub-expressions: \n",
       "31. s\n",
       "    core type: Literal\n",
       "    sub-expressions: "
      ]
     },
     "metadata": {},
     "output_type": "display_data"
    }
   ],
   "source": [
    "# display the expression information\n",
    "stored_expr.expr_info()"
   ]
  },
  {
   "cell_type": "code",
   "execution_count": null,
   "metadata": {},
   "outputs": [],
   "source": []
  }
 ],
 "metadata": {
  "kernelspec": {
   "display_name": "Python 3",
   "language": "python",
   "name": "python3"
  }
 },
 "nbformat": 4,
 "nbformat_minor": 0
}