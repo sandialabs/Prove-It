{
 "cells": [
  {
   "cell_type": "markdown",
   "metadata": {},
   "source": [
    "Expression of type <a class=\"ProveItLink\" href=\"../../../../../../../../doc/html/api/proveit.logic.Equals.html\">Equals</a>\n",
    "=======================\n",
    "# from the theory of <a class=\"ProveItLink\" href=\"../../../_theory_nbs_/theory.ipynb\">proveit.physics.quantum.QPE</a>"
   ]
  },
  {
   "cell_type": "code",
   "execution_count": 1,
   "metadata": {},
   "outputs": [],
   "source": [
    "import proveit\n",
    "# Automation is not needed when building an expression:\n",
    "proveit.defaults.automation = False # This will speed things up.\n",
    "proveit.defaults.inline_pngs = False # Makes files smaller.\n",
    "%load_expr # Load the stored expression as 'stored_expr'\n",
    "# import Expression classes needed to build the expression\n",
    "from proveit import ExprRange, Variable\n",
    "from proveit.linear_algebra import TensorProd\n",
    "from proveit.logic import Equals\n",
    "from proveit.numbers import Add, Interval, one\n",
    "from proveit.physics.quantum.QPE import _ket_u, _psi__t_ket, _s, _t\n",
    "from proveit.physics.quantum.circuits import Input, MultiQubitElem"
   ]
  },
  {
   "cell_type": "code",
   "execution_count": 2,
   "metadata": {},
   "outputs": [
    {
     "data": {
      "text/html": [
       "<strong id=\"expr\">expr:</strong> <a class=\"ProveItLink\" href=\"expr.ipynb\"><img src=\"expr.png\" style=\"display:inline;vertical-align:middle;\" /></a><br>"
      ],
      "text/plain": [
       "<IPython.core.display.HTML object>"
      ]
     },
     "metadata": {},
     "output_type": "display_data"
    }
   ],
   "source": [
    "# build up the expression from sub-expressions\n",
    "sub_expr1 = Variable(\"_a\", latex_format = r\"{_{-}a}\")\n",
    "sub_expr2 = Add(_t, _s)\n",
    "sub_expr3 = MultiQubitElem(element = Input(state = TensorProd(_psi__t_ket, _ket_u), part = sub_expr1), targets = Interval(one, sub_expr2))\n",
    "expr = Equals([ExprRange(sub_expr1, sub_expr3, one, _t), ExprRange(sub_expr1, sub_expr3, Add(_t, one), sub_expr2)], [ExprRange(sub_expr1, sub_expr3, one, sub_expr2)]).with_wrapping_at(2)"
   ]
  },
  {
   "cell_type": "code",
   "execution_count": 3,
   "metadata": {},
   "outputs": [
    {
     "name": "stdout",
     "output_type": "stream",
     "text": [
      "Passed sanity check: expr matches stored_expr\n"
     ]
    }
   ],
   "source": [
    "# check that the built expression is the same as the stored expression\n",
    "assert expr == stored_expr\n",
    "assert expr._style_id == stored_expr._style_id\n",
    "print(\"Passed sanity check: expr matches stored_expr\")"
   ]
  },
  {
   "cell_type": "code",
   "execution_count": 4,
   "metadata": {},
   "outputs": [
    {
     "name": "stdout",
     "output_type": "stream",
     "text": [
      "\\begin{array}{c} \\begin{array}{l} \\left(\\begin{array}{c} \\Qcircuit@C=1em @R=.7em{\n",
      "& \\qin{\\lvert \\psi_{t} \\rangle {\\otimes} \\lvert u \\rangle~\\mbox{part}~1~\\mbox{on}~\\{1~\\ldotp \\ldotp~t + s\\}} & \\qw \n",
      "} \\end{array}, \\begin{array}{c} \\Qcircuit@C=1em @R=.7em{\n",
      "& \\qin{\\lvert \\psi_{t} \\rangle {\\otimes} \\lvert u \\rangle~\\mbox{part}~2~\\mbox{on}~\\{1~\\ldotp \\ldotp~t + s\\}} & \\qw \n",
      "} \\end{array}, \\ldots, \\begin{array}{c} \\Qcircuit@C=1em @R=.7em{\n",
      "& \\qin{\\lvert \\psi_{t} \\rangle {\\otimes} \\lvert u \\rangle~\\mbox{part}~t~\\mbox{on}~\\{1~\\ldotp \\ldotp~t + s\\}} & \\qw \n",
      "} \\end{array},\\begin{array}{c} \\Qcircuit@C=1em @R=.7em{\n",
      "& \\qin{\\lvert \\psi_{t} \\rangle {\\otimes} \\lvert u \\rangle~\\mbox{part}~t + 1~\\mbox{on}~\\{1~\\ldotp \\ldotp~t + s\\}} & \\qw \n",
      "} \\end{array}, \\begin{array}{c} \\Qcircuit@C=1em @R=.7em{\n",
      "& \\qin{\\lvert \\psi_{t} \\rangle {\\otimes} \\lvert u \\rangle~\\mbox{part}~t + 2~\\mbox{on}~\\{1~\\ldotp \\ldotp~t + s\\}} & \\qw \n",
      "} \\end{array}, \\ldots, \\begin{array}{c} \\Qcircuit@C=1em @R=.7em{\n",
      "& \\qin{\\lvert \\psi_{t} \\rangle {\\otimes} \\lvert u \\rangle~\\mbox{part}~t + s~\\mbox{on}~\\{1~\\ldotp \\ldotp~t + s\\}} & \\qw \n",
      "} \\end{array}\\right) =  \\\\ \\left(\\begin{array}{c} \\Qcircuit@C=1em @R=.7em{\n",
      "& \\qin{\\lvert \\psi_{t} \\rangle {\\otimes} \\lvert u \\rangle~\\mbox{part}~1~\\mbox{on}~\\{1~\\ldotp \\ldotp~t + s\\}} & \\qw \n",
      "} \\end{array}, \\begin{array}{c} \\Qcircuit@C=1em @R=.7em{\n",
      "& \\qin{\\lvert \\psi_{t} \\rangle {\\otimes} \\lvert u \\rangle~\\mbox{part}~2~\\mbox{on}~\\{1~\\ldotp \\ldotp~t + s\\}} & \\qw \n",
      "} \\end{array}, \\ldots, \\begin{array}{c} \\Qcircuit@C=1em @R=.7em{\n",
      "& \\qin{\\lvert \\psi_{t} \\rangle {\\otimes} \\lvert u \\rangle~\\mbox{part}~t + s~\\mbox{on}~\\{1~\\ldotp \\ldotp~t + s\\}} & \\qw \n",
      "} \\end{array}\\right) \\end{array} \\end{array}\n"
     ]
    }
   ],
   "source": [
    "# Show the LaTeX representation of the expression for convenience if you need it.\n",
    "print(stored_expr.latex())"
   ]
  },
  {
   "cell_type": "code",
   "execution_count": 5,
   "metadata": {},
   "outputs": [
    {
     "data": {
      "text/html": [
       "<table>\n",
       "<tr><th>name</th><th>description</th><th>default</th><th>current value</th><th>related methods</th></tr><tr><td>operation</td><td>'infix' or 'function' style formatting</td><td>infix</td><td>infix</td><td></td></tr>\n",
       "<tr><td>wrap_positions</td><td>position(s) at which wrapping is to occur; '2 n - 1' is after the nth operand, '2 n' is after the nth operation.</td><td>()</td><td>(2)</td><td>('with_wrapping_at', 'with_wrap_before_operator', 'with_wrap_after_operator', 'without_wrapping', 'wrap_positions')</td></tr>\n",
       "<tr><td>justification</td><td>if any wrap positions are set, justify to the 'left', 'center', or 'right'</td><td>center</td><td>center</td><td>('with_justification',)</td></tr>\n",
       "<tr><td>direction</td><td>Direction of the relation (normal or reversed)</td><td>normal</td><td>normal</td><td>('with_direction_reversed', 'is_reversed')</td></tr>\n",
       "</table>\n"
      ],
      "text/plain": [
       "style name: operation\n",
       "description: 'infix' or 'function' style formatting\n",
       "default: infix\n",
       "current value: infix\n",
       "related methods: ()\n",
       "style name: wrap_positions\n",
       "description: position(s) at which wrapping is to occur; '2 n - 1' is after the nth operand, '2 n' is after the nth operation.\n",
       "default: ()\n",
       "current value: (2)\n",
       "related methods: ('with_wrapping_at', 'with_wrap_before_operator', 'with_wrap_after_operator', 'without_wrapping', 'wrap_positions')\n",
       "style name: justification\n",
       "description: if any wrap positions are set, justify to the 'left', 'center', or 'right'\n",
       "default: center\n",
       "current value: center\n",
       "related methods: ('with_justification',)\n",
       "style name: direction\n",
       "description: Direction of the relation (normal or reversed)\n",
       "default: normal\n",
       "current value: normal\n",
       "related methods: ('with_direction_reversed', 'is_reversed')"
      ]
     },
     "metadata": {},
     "output_type": "display_data"
    }
   ],
   "source": [
    "stored_expr.style_options()"
   ]
  },
  {
   "cell_type": "code",
   "execution_count": 6,
   "metadata": {},
   "outputs": [
    {
     "data": {
      "text/html": [
       "<table><tr><th>&nbsp;</th><th>core type</th><th>sub-expressions</th><th>expression</th></tr>\n",
       "<tr><td>0</td><td>Operation</td><td>operator:&nbsp;1<br>operands:&nbsp;2<br></td><td><a class=\"ProveItLink\" href=\"expr.ipynb\"><img src=\"expr.png\" style=\"display:inline;vertical-align:middle;\" /></a></td></tr>\n",
       "<tr><td>1</td><td>Literal</td><td></td><td><a class=\"ProveItLink\" href=\"../../../../../../logic/equality/__pv_it/common/fb96dc12b2aa8801dda64d0132b396c63d1502bb0/expr.ipynb\"><img src=\"../../../../../../logic/equality/__pv_it/common/fb96dc12b2aa8801dda64d0132b396c63d1502bb0/expr.png\" style=\"display:inline;vertical-align:middle;\" /></a></td></tr>\n",
       "<tr><td>2</td><td>ExprTuple</td><td>3, 4</td><td><a class=\"ProveItLink\" href=\"../0667aeba7651952d1fc98d1622679916095aa76a0/expr.ipynb\"><img src=\"../0667aeba7651952d1fc98d1622679916095aa76a0/expr.png\" style=\"display:inline;vertical-align:middle;\" /></a></td></tr>\n",
       "<tr><td>3</td><td>ExprTuple</td><td>5, 6</td><td><a class=\"ProveItLink\" href=\"../77531f5bf123a1dab0109eefae26ef246f53c5c20/expr.ipynb\"><img src=\"../77531f5bf123a1dab0109eefae26ef246f53c5c20/expr.png\" style=\"display:inline;vertical-align:middle;\" /></a></td></tr>\n",
       "<tr><td>4</td><td>ExprTuple</td><td>7</td><td><a class=\"ProveItLink\" href=\"../45d4c82c2d01a8811ebb069a4869f17399367c0e0/expr.ipynb\"><img src=\"../45d4c82c2d01a8811ebb069a4869f17399367c0e0/expr.png\" style=\"display:inline;vertical-align:middle;\" /></a></td></tr>\n",
       "<tr><td>5</td><td>ExprRange</td><td>lambda_map:&nbsp;9<br>start_index:&nbsp;23<br>end_index:&nbsp;34<br></td><td><a class=\"ProveItLink\" href=\"../e45d801ba081c24542102192d5dd6b24225b8b020/expr.ipynb\"><img src=\"../e45d801ba081c24542102192d5dd6b24225b8b020/expr.png\" style=\"display:inline;vertical-align:middle;\" /></a></td></tr>\n",
       "<tr><td>6</td><td>ExprRange</td><td>lambda_map:&nbsp;9<br>start_index:&nbsp;8<br>end_index:&nbsp;24<br></td><td><a class=\"ProveItLink\" href=\"../3e67408315368d2059832bbcd9996972714f564a0/expr.ipynb\"><img src=\"../3e67408315368d2059832bbcd9996972714f564a0/expr.png\" style=\"display:inline;vertical-align:middle;\" /></a></td></tr>\n",
       "<tr><td>7</td><td>ExprRange</td><td>lambda_map:&nbsp;9<br>start_index:&nbsp;23<br>end_index:&nbsp;24<br></td><td><a class=\"ProveItLink\" href=\"../2ea80930ddbf6f47ba94548d763399ad6e08d8890/expr.ipynb\"><img src=\"../2ea80930ddbf6f47ba94548d763399ad6e08d8890/expr.png\" style=\"display:inline;vertical-align:middle;\" /></a></td></tr>\n",
       "<tr><td>8</td><td>Operation</td><td>operator:&nbsp;27<br>operands:&nbsp;10<br></td><td><a class=\"ProveItLink\" href=\"../../common/ee59288f8ad36a7fc131fd5d062c398a9f67d7a70/expr.ipynb\"><img src=\"../../common/ee59288f8ad36a7fc131fd5d062c398a9f67d7a70/expr.png\" style=\"display:inline;vertical-align:middle;\" /></a></td></tr>\n",
       "<tr><td>9</td><td>Lambda</td><td>parameter:&nbsp;22<br>body:&nbsp;12<br></td><td><a class=\"ProveItLink\" href=\"../9f6c8bc8b94992da1067ac166157b291a4c64c810/expr.ipynb\"><img src=\"../9f6c8bc8b94992da1067ac166157b291a4c64c810/expr.png\" style=\"display:inline;vertical-align:middle;\" /></a></td></tr>\n",
       "<tr><td>10</td><td>ExprTuple</td><td>34, 23</td><td><a class=\"ProveItLink\" href=\"../../common/b78bbf7fd57d1a1491fbbbcff71abb9d886680aa0/expr.ipynb\"><img src=\"../../common/b78bbf7fd57d1a1491fbbbcff71abb9d886680aa0/expr.png\" style=\"display:inline;vertical-align:middle;\" /></a></td></tr>\n",
       "<tr><td>11</td><td>ExprTuple</td><td>22</td><td><a class=\"ProveItLink\" href=\"../../../../../../core_expr_types/__pv_it/common/4b0dd6be36d76552eda6a95d5b4a27f5a5b62f900/expr.ipynb\"><img src=\"../../../../../../core_expr_types/__pv_it/common/4b0dd6be36d76552eda6a95d5b4a27f5a5b62f900/expr.png\" style=\"display:inline;vertical-align:middle;\" /></a></td></tr>\n",
       "<tr><td>12</td><td>Operation</td><td>operator:&nbsp;13<br>operands:&nbsp;14<br></td><td><a class=\"ProveItLink\" href=\"../d29021e63dd6991b3370f9cd1a665b3993e7fddd0/expr.ipynb\"><img src=\"../d29021e63dd6991b3370f9cd1a665b3993e7fddd0/expr.png\" style=\"display:inline;vertical-align:middle;\" /></a></td></tr>\n",
       "<tr><td>13</td><td>Literal</td><td></td><td><a class=\"ProveItLink\" href=\"../../../../circuits/__pv_it/common/5eaa43008f05c06941080a12337ff182ea14996e0/expr.ipynb\"><img src=\"../../../../circuits/__pv_it/common/5eaa43008f05c06941080a12337ff182ea14996e0/expr.png\" style=\"display:inline;vertical-align:middle;\" /></a></td></tr>\n",
       "<tr><td>14</td><td>NamedExprs</td><td>element: 15<br>targets: 16<br></td><td><a class=\"ProveItLink\" href=\"../5ab91c61211ee1b379d6713eefd20e15db0f2ad20/expr.ipynb\"><img src=\"../5ab91c61211ee1b379d6713eefd20e15db0f2ad20/expr.png\" style=\"display:inline;vertical-align:middle;\" /></a></td></tr>\n",
       "<tr><td>15</td><td>Operation</td><td>operator:&nbsp;17<br>operands:&nbsp;18<br></td><td><a class=\"ProveItLink\" href=\"../019c78e57102c4ef703d8a3af356d21ab613731c0/expr.ipynb\"><img src=\"../019c78e57102c4ef703d8a3af356d21ab613731c0/expr.png\" style=\"display:inline;vertical-align:middle;\" /></a></td></tr>\n",
       "<tr><td>16</td><td>Operation</td><td>operator:&nbsp;19<br>operands:&nbsp;20<br></td><td><a class=\"ProveItLink\" href=\"../../common/df6bd9d94e48db81fbb35fd010dac489bd7580670/expr.ipynb\"><img src=\"../../common/df6bd9d94e48db81fbb35fd010dac489bd7580670/expr.png\" style=\"display:inline;vertical-align:middle;\" /></a></td></tr>\n",
       "<tr><td>17</td><td>Literal</td><td></td><td><a class=\"ProveItLink\" href=\"../../../../circuits/__pv_it/common/deea8715ce6701df08bbe1d049112a0bad4965c20/expr.ipynb\"><img src=\"../../../../circuits/__pv_it/common/deea8715ce6701df08bbe1d049112a0bad4965c20/expr.png\" style=\"display:inline;vertical-align:middle;\" /></a></td></tr>\n",
       "<tr><td>18</td><td>NamedExprs</td><td>state: 21<br>part: 22<br></td><td><a class=\"ProveItLink\" href=\"../abc8ccb52e1e81d5c7a7ededf657c8a2a38f9abd0/expr.ipynb\"><img src=\"../abc8ccb52e1e81d5c7a7ededf657c8a2a38f9abd0/expr.png\" style=\"display:inline;vertical-align:middle;\" /></a></td></tr>\n",
       "<tr><td>19</td><td>Literal</td><td></td><td><a class=\"ProveItLink\" href=\"../../../../../../numbers/number_sets/integers/__pv_it/common/92f3a0a77e3c3ea8e4a5c8674edadc54e4f57d550/expr.ipynb\"><img src=\"../../../../../../numbers/number_sets/integers/__pv_it/common/92f3a0a77e3c3ea8e4a5c8674edadc54e4f57d550/expr.png\" style=\"display:inline;vertical-align:middle;\" /></a></td></tr>\n",
       "<tr><td>20</td><td>ExprTuple</td><td>23, 24</td><td><a class=\"ProveItLink\" href=\"../../common/c651e777ecc5e810a4fe71a030c30f18b193739a0/expr.ipynb\"><img src=\"../../common/c651e777ecc5e810a4fe71a030c30f18b193739a0/expr.png\" style=\"display:inline;vertical-align:middle;\" /></a></td></tr>\n",
       "<tr><td>21</td><td>Operation</td><td>operator:&nbsp;25<br>operands:&nbsp;26<br></td><td><a class=\"ProveItLink\" href=\"../1e28400cb3c80f4fa5cc335c3fff117f0132d8780/expr.ipynb\"><img src=\"../1e28400cb3c80f4fa5cc335c3fff117f0132d8780/expr.png\" style=\"display:inline;vertical-align:middle;\" /></a></td></tr>\n",
       "<tr><td>22</td><td>Variable</td><td></td><td><a class=\"ProveItLink\" href=\"../../../../../../core_expr_types/__pv_it/common/006c465e50948aa2b52285e2de47974f741255cc0/expr.ipynb\"><img src=\"../../../../../../core_expr_types/__pv_it/common/006c465e50948aa2b52285e2de47974f741255cc0/expr.png\" style=\"display:inline;vertical-align:middle;\" /></a></td></tr>\n",
       "<tr><td>23</td><td>Literal</td><td></td><td><a class=\"ProveItLink\" href=\"../../../../../../numbers/numerals/__pv_it/common/682157d4892d216d9e5626ed533aff9b56b9506e0/expr.ipynb\"><img src=\"../../../../../../numbers/numerals/__pv_it/common/682157d4892d216d9e5626ed533aff9b56b9506e0/expr.png\" style=\"display:inline;vertical-align:middle;\" /></a></td></tr>\n",
       "<tr><td>24</td><td>Operation</td><td>operator:&nbsp;27<br>operands:&nbsp;28<br></td><td><a class=\"ProveItLink\" href=\"../../common/d594f9d2403ea6680916b743cd9c582a0a3aed4b0/expr.ipynb\"><img src=\"../../common/d594f9d2403ea6680916b743cd9c582a0a3aed4b0/expr.png\" style=\"display:inline;vertical-align:middle;\" /></a></td></tr>\n",
       "<tr><td>25</td><td>Literal</td><td></td><td><a class=\"ProveItLink\" href=\"../../../../../../linear_algebra/tensors/__pv_it/common/7fa25b05174babb4710be62d63ebd43f68aa2fec0/expr.ipynb\"><img src=\"../../../../../../linear_algebra/tensors/__pv_it/common/7fa25b05174babb4710be62d63ebd43f68aa2fec0/expr.png\" style=\"display:inline;vertical-align:middle;\" /></a></td></tr>\n",
       "<tr><td>26</td><td>ExprTuple</td><td>29, 30</td><td><a class=\"ProveItLink\" href=\"../633b2324ab8194e8432a3eaaf7a8e165eb4690ca0/expr.ipynb\"><img src=\"../633b2324ab8194e8432a3eaaf7a8e165eb4690ca0/expr.png\" style=\"display:inline;vertical-align:middle;\" /></a></td></tr>\n",
       "<tr><td>27</td><td>Literal</td><td></td><td><a class=\"ProveItLink\" href=\"../../../../../../numbers/addition/__pv_it/common/4b7effaab3619a1c2c38fe2dee8601df8ec714590/expr.ipynb\"><img src=\"../../../../../../numbers/addition/__pv_it/common/4b7effaab3619a1c2c38fe2dee8601df8ec714590/expr.png\" style=\"display:inline;vertical-align:middle;\" /></a></td></tr>\n",
       "<tr><td>28</td><td>ExprTuple</td><td>34, 31</td><td><a class=\"ProveItLink\" href=\"../../common/68a54423765fd39956fb91176c58139b7e4f5c510/expr.ipynb\"><img src=\"../../common/68a54423765fd39956fb91176c58139b7e4f5c510/expr.png\" style=\"display:inline;vertical-align:middle;\" /></a></td></tr>\n",
       "<tr><td>29</td><td>Operation</td><td>operator:&nbsp;32<br>operand:&nbsp;34<br></td><td><a class=\"ProveItLink\" href=\"../../common/1a76979ea9a7780eeb22b6220b8d2767502e417a0/expr.ipynb\"><img src=\"../../common/1a76979ea9a7780eeb22b6220b8d2767502e417a0/expr.png\" style=\"display:inline;vertical-align:middle;\" /></a></td></tr>\n",
       "<tr><td>30</td><td>Literal</td><td></td><td><a class=\"ProveItLink\" href=\"../../common/ca39d48f285e5b8b9c4fc5a4225a68cd859974bc0/expr.ipynb\"><img src=\"../../common/ca39d48f285e5b8b9c4fc5a4225a68cd859974bc0/expr.png\" style=\"display:inline;vertical-align:middle;\" /></a></td></tr>\n",
       "<tr><td>31</td><td>Literal</td><td></td><td><a class=\"ProveItLink\" href=\"../../common/8a1628c4cfc7b78e5c5de183ba3f5cff0b20d4dd0/expr.ipynb\"><img src=\"../../common/8a1628c4cfc7b78e5c5de183ba3f5cff0b20d4dd0/expr.png\" style=\"display:inline;vertical-align:middle;\" /></a></td></tr>\n",
       "<tr><td>32</td><td>Literal</td><td></td><td><a class=\"ProveItLink\" href=\"../../common/3cd01098f6477695c5f95f3614ef4302a3a569f40/expr.ipynb\"><img src=\"../../common/3cd01098f6477695c5f95f3614ef4302a3a569f40/expr.png\" style=\"display:inline;vertical-align:middle;\" /></a></td></tr>\n",
       "<tr><td>33</td><td>ExprTuple</td><td>34</td><td><a class=\"ProveItLink\" href=\"../../common/53db8ddfd57f92ceb5c9c5778de41560ef98a6f20/expr.ipynb\"><img src=\"../../common/53db8ddfd57f92ceb5c9c5778de41560ef98a6f20/expr.png\" style=\"display:inline;vertical-align:middle;\" /></a></td></tr>\n",
       "<tr><td>34</td><td>Literal</td><td></td><td><a class=\"ProveItLink\" href=\"../../common/977cc67717328e22c93f8ab84e6a45e8cadce7790/expr.ipynb\"><img src=\"../../common/977cc67717328e22c93f8ab84e6a45e8cadce7790/expr.png\" style=\"display:inline;vertical-align:middle;\" /></a></td></tr>\n",
       "</table>\n"
      ],
      "text/plain": [
       "0. ([MULTI_QUBIT_ELEM]{element:[INPUT]{state:(|psi_{t}> otimes |u>), part:1}, targets:{1 .. t + s}}, [MULTI_QUBIT_ELEM]{element:[INPUT]{state:(|psi_{t}> otimes |u>), part:2}, targets:{1 .. t + s}}, ..., [MULTI_QUBIT_ELEM]{element:[INPUT]{state:(|psi_{t}> otimes |u>), part:t}, targets:{1 .. t + s}},[MULTI_QUBIT_ELEM]{element:[INPUT]{state:(|psi_{t}> otimes |u>), part:(t + 1)}, targets:{1 .. t + s}}, [MULTI_QUBIT_ELEM]{element:[INPUT]{state:(|psi_{t}> otimes |u>), part:(t + 2)}, targets:{1 .. t + s}}, ..., [MULTI_QUBIT_ELEM]{element:[INPUT]{state:(|psi_{t}> otimes |u>), part:(t + s)}, targets:{1 .. t + s}}) =  \\\\ ([MULTI_QUBIT_ELEM]{element:[INPUT]{state:(|psi_{t}> otimes |u>), part:1}, targets:{1 .. t + s}}, [MULTI_QUBIT_ELEM]{element:[INPUT]{state:(|psi_{t}> otimes |u>), part:2}, targets:{1 .. t + s}}, ..., [MULTI_QUBIT_ELEM]{element:[INPUT]{state:(|psi_{t}> otimes |u>), part:(t + s)}, targets:{1 .. t + s}})\n",
       "   core type: Operation\n",
       "   operator: 1\n",
       "   operands: 2\n",
       "1. =\n",
       "   core type: Literal\n",
       "   sub-expressions: \n",
       "2. (([MULTI_QUBIT_ELEM]{element:[INPUT]{state:(|psi_{t}> otimes |u>), part:1}, targets:{1 .. t + s}}, [MULTI_QUBIT_ELEM]{element:[INPUT]{state:(|psi_{t}> otimes |u>), part:2}, targets:{1 .. t + s}}, ..., [MULTI_QUBIT_ELEM]{element:[INPUT]{state:(|psi_{t}> otimes |u>), part:t}, targets:{1 .. t + s}},[MULTI_QUBIT_ELEM]{element:[INPUT]{state:(|psi_{t}> otimes |u>), part:(t + 1)}, targets:{1 .. t + s}}, [MULTI_QUBIT_ELEM]{element:[INPUT]{state:(|psi_{t}> otimes |u>), part:(t + 2)}, targets:{1 .. t + s}}, ..., [MULTI_QUBIT_ELEM]{element:[INPUT]{state:(|psi_{t}> otimes |u>), part:(t + s)}, targets:{1 .. t + s}}), ([MULTI_QUBIT_ELEM]{element:[INPUT]{state:(|psi_{t}> otimes |u>), part:1}, targets:{1 .. t + s}}, [MULTI_QUBIT_ELEM]{element:[INPUT]{state:(|psi_{t}> otimes |u>), part:2}, targets:{1 .. t + s}}, ..., [MULTI_QUBIT_ELEM]{element:[INPUT]{state:(|psi_{t}> otimes |u>), part:(t + s)}, targets:{1 .. t + s}}))\n",
       "   core type: ExprTuple\n",
       "   sub-expressions: 3, 4\n",
       "3. ([MULTI_QUBIT_ELEM]{element:[INPUT]{state:(|psi_{t}> otimes |u>), part:1}, targets:{1 .. t + s}}, [MULTI_QUBIT_ELEM]{element:[INPUT]{state:(|psi_{t}> otimes |u>), part:2}, targets:{1 .. t + s}}, ..., [MULTI_QUBIT_ELEM]{element:[INPUT]{state:(|psi_{t}> otimes |u>), part:t}, targets:{1 .. t + s}},[MULTI_QUBIT_ELEM]{element:[INPUT]{state:(|psi_{t}> otimes |u>), part:(t + 1)}, targets:{1 .. t + s}}, [MULTI_QUBIT_ELEM]{element:[INPUT]{state:(|psi_{t}> otimes |u>), part:(t + 2)}, targets:{1 .. t + s}}, ..., [MULTI_QUBIT_ELEM]{element:[INPUT]{state:(|psi_{t}> otimes |u>), part:(t + s)}, targets:{1 .. t + s}})\n",
       "   core type: ExprTuple\n",
       "   sub-expressions: 5, 6\n",
       "4. ([MULTI_QUBIT_ELEM]{element:[INPUT]{state:(|psi_{t}> otimes |u>), part:1}, targets:{1 .. t + s}}, [MULTI_QUBIT_ELEM]{element:[INPUT]{state:(|psi_{t}> otimes |u>), part:2}, targets:{1 .. t + s}}, ..., [MULTI_QUBIT_ELEM]{element:[INPUT]{state:(|psi_{t}> otimes |u>), part:(t + s)}, targets:{1 .. t + s}})\n",
       "   core type: ExprTuple\n",
       "   sub-expressions: 7\n",
       "5. [MULTI_QUBIT_ELEM]{element:[INPUT]{state:(|psi_{t}> otimes |u>), part:1}, targets:{1 .. t + s}}, [MULTI_QUBIT_ELEM]{element:[INPUT]{state:(|psi_{t}> otimes |u>), part:2}, targets:{1 .. t + s}}, ..., [MULTI_QUBIT_ELEM]{element:[INPUT]{state:(|psi_{t}> otimes |u>), part:t}, targets:{1 .. t + s}}\n",
       "   core type: ExprRange\n",
       "   lambda_map: 9\n",
       "   start_index: 23\n",
       "   end_index: 34\n",
       "6. [MULTI_QUBIT_ELEM]{element:[INPUT]{state:(|psi_{t}> otimes |u>), part:(t + 1)}, targets:{1 .. t + s}}, [MULTI_QUBIT_ELEM]{element:[INPUT]{state:(|psi_{t}> otimes |u>), part:(t + 2)}, targets:{1 .. t + s}}, ..., [MULTI_QUBIT_ELEM]{element:[INPUT]{state:(|psi_{t}> otimes |u>), part:(t + s)}, targets:{1 .. t + s}}\n",
       "   core type: ExprRange\n",
       "   lambda_map: 9\n",
       "   start_index: 8\n",
       "   end_index: 24\n",
       "7. [MULTI_QUBIT_ELEM]{element:[INPUT]{state:(|psi_{t}> otimes |u>), part:1}, targets:{1 .. t + s}}, [MULTI_QUBIT_ELEM]{element:[INPUT]{state:(|psi_{t}> otimes |u>), part:2}, targets:{1 .. t + s}}, ..., [MULTI_QUBIT_ELEM]{element:[INPUT]{state:(|psi_{t}> otimes |u>), part:(t + s)}, targets:{1 .. t + s}}\n",
       "   core type: ExprRange\n",
       "   lambda_map: 9\n",
       "   start_index: 23\n",
       "   end_index: 24\n",
       "8. t + 1\n",
       "   core type: Operation\n",
       "   operator: 27\n",
       "   operands: 10\n",
       "9. _a -> [MULTI_QUBIT_ELEM]{element:[INPUT]{state:(|psi_{t}> otimes |u>), part:_a}, targets:{1 .. t + s}}\n",
       "   core type: Lambda\n",
       "   parameter: 22\n",
       "   body: 12\n",
       "10. (t, 1)\n",
       "    core type: ExprTuple\n",
       "    sub-expressions: 34, 23\n",
       "11. (_a)\n",
       "    core type: ExprTuple\n",
       "    sub-expressions: 22\n",
       "12. [MULTI_QUBIT_ELEM]{element:[INPUT]{state:(|psi_{t}> otimes |u>), part:_a}, targets:{1 .. t + s}}\n",
       "    core type: Operation\n",
       "    operator: 13\n",
       "    operands: 14\n",
       "13. MULTI_QUBIT_ELEM\n",
       "    core type: Literal\n",
       "    sub-expressions: \n",
       "14. {element:[INPUT]{state:(|psi_{t}> otimes |u>), part:_a}, targets:{1 .. t + s}}\n",
       "    core type: NamedExprs\n",
       "    element: 15\n",
       "    targets: 16\n",
       "15. [INPUT]{state:(|psi_{t}> otimes |u>), part:_a}\n",
       "    core type: Operation\n",
       "    operator: 17\n",
       "    operands: 18\n",
       "16. {1 .. t + s}\n",
       "    core type: Operation\n",
       "    operator: 19\n",
       "    operands: 20\n",
       "17. INPUT\n",
       "    core type: Literal\n",
       "    sub-expressions: \n",
       "18. {state:(|psi_{t}> otimes |u>), part:_a}\n",
       "    core type: NamedExprs\n",
       "    state: 21\n",
       "    part: 22\n",
       "19. Interval\n",
       "    core type: Literal\n",
       "    sub-expressions: \n",
       "20. (1, t + s)\n",
       "    core type: ExprTuple\n",
       "    sub-expressions: 23, 24\n",
       "21. |psi_{t}> otimes |u>\n",
       "    core type: Operation\n",
       "    operator: 25\n",
       "    operands: 26\n",
       "22. _a\n",
       "    core type: Variable\n",
       "    sub-expressions: \n",
       "23. 1\n",
       "    core type: Literal\n",
       "    sub-expressions: \n",
       "24. t + s\n",
       "    core type: Operation\n",
       "    operator: 27\n",
       "    operands: 28\n",
       "25. otimes\n",
       "    core type: Literal\n",
       "    sub-expressions: \n",
       "26. (|psi_{t}>, |u>)\n",
       "    core type: ExprTuple\n",
       "    sub-expressions: 29, 30\n",
       "27. +\n",
       "    core type: Literal\n",
       "    sub-expressions: \n",
       "28. (t, s)\n",
       "    core type: ExprTuple\n",
       "    sub-expressions: 34, 31\n",
       "29. |psi_{t}>\n",
       "    core type: Operation\n",
       "    operator: 32\n",
       "    operand: 34\n",
       "30. |u>\n",
       "    core type: Literal\n",
       "    sub-expressions: \n",
       "31. s\n",
       "    core type: Literal\n",
       "    sub-expressions: \n",
       "32. psi\n",
       "    core type: Literal\n",
       "    sub-expressions: \n",
       "33. (t)\n",
       "    core type: ExprTuple\n",
       "    sub-expressions: 34\n",
       "34. t\n",
       "    core type: Literal\n",
       "    sub-expressions: "
      ]
     },
     "metadata": {},
     "output_type": "display_data"
    }
   ],
   "source": [
    "# display the expression information\n",
    "stored_expr.expr_info()"
   ]
  },
  {
   "cell_type": "code",
   "execution_count": null,
   "metadata": {},
   "outputs": [],
   "source": []
  }
 ],
 "metadata": {
  "kernelspec": {
   "display_name": "Python 3",
   "language": "python",
   "name": "python3"
  }
 },
 "nbformat": 4,
 "nbformat_minor": 0
}