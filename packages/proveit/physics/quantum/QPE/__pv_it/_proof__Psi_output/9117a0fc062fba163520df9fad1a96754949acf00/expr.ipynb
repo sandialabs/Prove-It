{
 "cells": [
  {
   "cell_type": "markdown",
   "metadata": {},
   "source": [
    "Expression of type <a class=\"ProveItLink\" href=\"../../../../../../../../doc/html/api/proveit.ExprTuple.html\">ExprTuple</a>\n",
    "=======================\n",
    "# from the theory of <a class=\"ProveItLink\" href=\"../../../_theory_nbs_/theory.ipynb\">proveit.physics.quantum.QPE</a>"
   ]
  },
  {
   "cell_type": "code",
   "execution_count": 1,
   "metadata": {},
   "outputs": [],
   "source": [
    "import proveit\n",
    "# Automation is not needed when building an expression:\n",
    "proveit.defaults.automation = False # This will speed things up.\n",
    "proveit.defaults.inline_pngs = False # Makes files smaller.\n",
    "%load_expr # Load the stored expression as 'stored_expr'\n",
    "# import Expression classes needed to build the expression\n",
    "from proveit import ExprRange, ExprTuple, Variable, VertExprArray\n",
    "from proveit.numbers import Interval, one\n",
    "from proveit.physics.quantum.QFT import InverseFourierTransform\n",
    "from proveit.physics.quantum.QPE import _Psi_ket, _psi__t_ket, _t\n",
    "from proveit.physics.quantum.circuits import Gate, Input, MultiQubitElem, Output, Qcircuit\n",
    "from proveit.statistics import Prob"
   ]
  },
  {
   "cell_type": "code",
   "execution_count": 2,
   "metadata": {},
   "outputs": [
    {
     "data": {
      "text/html": [
       "<strong id=\"expr\">expr:</strong> <a class=\"ProveItLink\" href=\"expr.ipynb\"><img src=\"expr.png\" style=\"display:inline;vertical-align:middle;\" /></a><br>"
      ],
      "text/plain": [
       "<IPython.core.display.HTML object>"
      ]
     },
     "metadata": {},
     "output_type": "display_data"
    }
   ],
   "source": [
    "# build up the expression from sub-expressions\n",
    "sub_expr1 = Variable(\"_a\", latex_format = r\"{_{-}a}\")\n",
    "sub_expr2 = Interval(one, _t)\n",
    "expr = ExprTuple(Prob(Qcircuit(vert_expr_array = VertExprArray([ExprRange(sub_expr1, MultiQubitElem(element = Input(state = _psi__t_ket, part = sub_expr1), targets = sub_expr2), one, _t)], [ExprRange(sub_expr1, MultiQubitElem(element = Gate(operation = InverseFourierTransform(_t), part = sub_expr1), targets = sub_expr2), one, _t)], [ExprRange(sub_expr1, MultiQubitElem(element = Output(state = _Psi_ket, part = sub_expr1), targets = sub_expr2), one, _t)]))), one)"
   ]
  },
  {
   "cell_type": "code",
   "execution_count": 3,
   "metadata": {},
   "outputs": [
    {
     "name": "stdout",
     "output_type": "stream",
     "text": [
      "Passed sanity check: expr matches stored_expr\n"
     ]
    }
   ],
   "source": [
    "# check that the built expression is the same as the stored expression\n",
    "assert expr == stored_expr\n",
    "assert expr._style_id == stored_expr._style_id\n",
    "print(\"Passed sanity check: expr matches stored_expr\")"
   ]
  },
  {
   "cell_type": "code",
   "execution_count": 4,
   "metadata": {},
   "outputs": [
    {
     "name": "stdout",
     "output_type": "stream",
     "text": [
      "\\left(\\textrm{Pr}\\left(\\begin{array}{c} \\Qcircuit@C=1em @R=.7em{\n",
      "\\qin{\\lvert \\psi_{t} \\rangle} & \\gate{{\\mathrm {FT}}^{\\dag}_{t}} & \\qout{\\lvert \\Psi \\rangle}\n",
      "} \\end{array}\\right), 1\\right)\n"
     ]
    }
   ],
   "source": [
    "# Show the LaTeX representation of the expression for convenience if you need it.\n",
    "print(stored_expr.latex())"
   ]
  },
  {
   "cell_type": "code",
   "execution_count": 5,
   "metadata": {},
   "outputs": [
    {
     "data": {
      "text/html": [
       "<table>\n",
       "<tr><th>name</th><th>description</th><th>default</th><th>current value</th><th>related methods</th></tr><tr><td>wrap_positions</td><td>position(s) at which wrapping is to occur; 'n' is after the nth comma.</td><td>()</td><td>()</td><td>('with_wrapping_at',)</td></tr>\n",
       "<tr><td>justification</td><td>if any wrap positions are set, justify to the 'left', 'center', or 'right'</td><td>left</td><td>left</td><td>('with_justification',)</td></tr>\n",
       "</table>\n"
      ],
      "text/plain": [
       "style name: wrap_positions\n",
       "description: position(s) at which wrapping is to occur; 'n' is after the nth comma.\n",
       "default: ()\n",
       "current value: ()\n",
       "related methods: ('with_wrapping_at',)\n",
       "style name: justification\n",
       "description: if any wrap positions are set, justify to the 'left', 'center', or 'right'\n",
       "default: left\n",
       "current value: left\n",
       "related methods: ('with_justification',)"
      ]
     },
     "metadata": {},
     "output_type": "display_data"
    }
   ],
   "source": [
    "stored_expr.style_options()"
   ]
  },
  {
   "cell_type": "code",
   "execution_count": 6,
   "metadata": {},
   "outputs": [
    {
     "data": {
      "text/html": [
       "<table><tr><th>&nbsp;</th><th>core type</th><th>sub-expressions</th><th>expression</th></tr>\n",
       "<tr><td>0</td><td>ExprTuple</td><td>1, 40</td><td><a class=\"ProveItLink\" href=\"expr.ipynb\"><img src=\"expr.png\" style=\"display:inline;vertical-align:middle;\" /></a></td></tr>\n",
       "<tr><td>1</td><td>Operation</td><td>operator:&nbsp;2<br>operand:&nbsp;4<br></td><td><a class=\"ProveItLink\" href=\"../177664f85dd1a63f4727f9c29b2cf629b6fbcbda0/expr.ipynb\"><img src=\"../177664f85dd1a63f4727f9c29b2cf629b6fbcbda0/expr.png\" style=\"display:inline;vertical-align:middle;\" /></a></td></tr>\n",
       "<tr><td>2</td><td>Literal</td><td></td><td><a class=\"ProveItLink\" href=\"../../../../../../statistics/__pv_it/common/088e9f40f9e6ba1dcc7d39fd35fd8d244261148e0/expr.ipynb\"><img src=\"../../../../../../statistics/__pv_it/common/088e9f40f9e6ba1dcc7d39fd35fd8d244261148e0/expr.png\" style=\"display:inline;vertical-align:middle;\" /></a></td></tr>\n",
       "<tr><td>3</td><td>ExprTuple</td><td>4</td><td><a class=\"ProveItLink\" href=\"../49cddb833900e4f8b11b34279dfccad83b8bf8ac0/expr.ipynb\"><img src=\"../49cddb833900e4f8b11b34279dfccad83b8bf8ac0/expr.png\" style=\"display:inline;vertical-align:middle;\" /></a></td></tr>\n",
       "<tr><td>4</td><td>Operation</td><td>operator:&nbsp;5<br>operands:&nbsp;6<br></td><td><a class=\"ProveItLink\" href=\"../da05c12a0c4031443aff814a77f031040af717f50/expr.ipynb\"><img src=\"../da05c12a0c4031443aff814a77f031040af717f50/expr.png\" style=\"display:inline;vertical-align:middle;\" /></a></td></tr>\n",
       "<tr><td>5</td><td>Literal</td><td></td><td><a class=\"ProveItLink\" href=\"../../../../circuits/__pv_it/common/40003b89a3d1740159ada9fe5b21308b42a7d3d40/expr.ipynb\"><img src=\"../../../../circuits/__pv_it/common/40003b89a3d1740159ada9fe5b21308b42a7d3d40/expr.png\" style=\"display:inline;vertical-align:middle;\" /></a></td></tr>\n",
       "<tr><td>6</td><td>ExprTuple</td><td>7, 8, 9</td><td><a class=\"ProveItLink\" href=\"../198eb4fad4a20f232e21805372d223acf5a836900/expr.ipynb\"><img src=\"../198eb4fad4a20f232e21805372d223acf5a836900/expr.png\" style=\"display:inline;vertical-align:middle;\" /></a></td></tr>\n",
       "<tr><td>7</td><td>ExprTuple</td><td>10</td><td><a class=\"ProveItLink\" href=\"../36a5020ac740e76d109931f715c401fcc825f7a10/expr.ipynb\"><img src=\"../36a5020ac740e76d109931f715c401fcc825f7a10/expr.png\" style=\"display:inline;vertical-align:middle;\" /></a></td></tr>\n",
       "<tr><td>8</td><td>ExprTuple</td><td>11</td><td><a class=\"ProveItLink\" href=\"../ee866a96fc1f5cbfa6cc7b554c43085b8927490c0/expr.ipynb\"><img src=\"../ee866a96fc1f5cbfa6cc7b554c43085b8927490c0/expr.png\" style=\"display:inline;vertical-align:middle;\" /></a></td></tr>\n",
       "<tr><td>9</td><td>ExprTuple</td><td>12</td><td><a class=\"ProveItLink\" href=\"../f8f20c8cabbb5eaaaa98a7bb9d933663d9cf8d9f0/expr.ipynb\"><img src=\"../f8f20c8cabbb5eaaaa98a7bb9d933663d9cf8d9f0/expr.png\" style=\"display:inline;vertical-align:middle;\" /></a></td></tr>\n",
       "<tr><td>10</td><td>ExprRange</td><td>lambda_map:&nbsp;13<br>start_index:&nbsp;40<br>end_index:&nbsp;44<br></td><td><a class=\"ProveItLink\" href=\"../0c81362813f14c70a81af49e4e85811d8662472e0/expr.ipynb\"><img src=\"../0c81362813f14c70a81af49e4e85811d8662472e0/expr.png\" style=\"display:inline;vertical-align:middle;\" /></a></td></tr>\n",
       "<tr><td>11</td><td>ExprRange</td><td>lambda_map:&nbsp;14<br>start_index:&nbsp;40<br>end_index:&nbsp;44<br></td><td><a class=\"ProveItLink\" href=\"../67663a7056565380ed724b704e11a7b467f228430/expr.ipynb\"><img src=\"../67663a7056565380ed724b704e11a7b467f228430/expr.png\" style=\"display:inline;vertical-align:middle;\" /></a></td></tr>\n",
       "<tr><td>12</td><td>ExprRange</td><td>lambda_map:&nbsp;15<br>start_index:&nbsp;40<br>end_index:&nbsp;44<br></td><td><a class=\"ProveItLink\" href=\"../../common/88eda565135eb58ba802a33e19ec08e8c456d5f80/expr.ipynb\"><img src=\"../../common/88eda565135eb58ba802a33e19ec08e8c456d5f80/expr.png\" style=\"display:inline;vertical-align:middle;\" /></a></td></tr>\n",
       "<tr><td>13</td><td>Lambda</td><td>parameter:&nbsp;39<br>body:&nbsp;16<br></td><td><a class=\"ProveItLink\" href=\"../a89a147ac2a8c1e5598149962cba4ff3ebce1ad40/expr.ipynb\"><img src=\"../a89a147ac2a8c1e5598149962cba4ff3ebce1ad40/expr.png\" style=\"display:inline;vertical-align:middle;\" /></a></td></tr>\n",
       "<tr><td>14</td><td>Lambda</td><td>parameter:&nbsp;39<br>body:&nbsp;17<br></td><td><a class=\"ProveItLink\" href=\"../b2da6d50fd6639e744ffcc708bdb1579ae9aab0c0/expr.ipynb\"><img src=\"../b2da6d50fd6639e744ffcc708bdb1579ae9aab0c0/expr.png\" style=\"display:inline;vertical-align:middle;\" /></a></td></tr>\n",
       "<tr><td>15</td><td>Lambda</td><td>parameter:&nbsp;39<br>body:&nbsp;19<br></td><td><a class=\"ProveItLink\" href=\"../../common/1dccc1902c1a173b0a689275fc5b3da0b15388ec0/expr.ipynb\"><img src=\"../../common/1dccc1902c1a173b0a689275fc5b3da0b15388ec0/expr.png\" style=\"display:inline;vertical-align:middle;\" /></a></td></tr>\n",
       "<tr><td>16</td><td>Operation</td><td>operator:&nbsp;22<br>operands:&nbsp;20<br></td><td><a class=\"ProveItLink\" href=\"../b01e6db5c28da2dbca9f419a192922b8a5bec6360/expr.ipynb\"><img src=\"../b01e6db5c28da2dbca9f419a192922b8a5bec6360/expr.png\" style=\"display:inline;vertical-align:middle;\" /></a></td></tr>\n",
       "<tr><td>17</td><td>Operation</td><td>operator:&nbsp;22<br>operands:&nbsp;21<br></td><td><a class=\"ProveItLink\" href=\"../da72021f30409da83fc682568f90a757b8a69b800/expr.ipynb\"><img src=\"../da72021f30409da83fc682568f90a757b8a69b800/expr.png\" style=\"display:inline;vertical-align:middle;\" /></a></td></tr>\n",
       "<tr><td>18</td><td>ExprTuple</td><td>39</td><td><a class=\"ProveItLink\" href=\"../../common/4b0dd6be36d76552eda6a95d5b4a27f5a5b62f900/expr.ipynb\"><img src=\"../../common/4b0dd6be36d76552eda6a95d5b4a27f5a5b62f900/expr.png\" style=\"display:inline;vertical-align:middle;\" /></a></td></tr>\n",
       "<tr><td>19</td><td>Operation</td><td>operator:&nbsp;22<br>operands:&nbsp;23<br></td><td><a class=\"ProveItLink\" href=\"../../common/156a8be2bf07083b798dad63b753abaa1b1608fd0/expr.ipynb\"><img src=\"../../common/156a8be2bf07083b798dad63b753abaa1b1608fd0/expr.png\" style=\"display:inline;vertical-align:middle;\" /></a></td></tr>\n",
       "<tr><td>20</td><td>NamedExprs</td><td>element: 24<br>targets: 27<br></td><td><a class=\"ProveItLink\" href=\"../8dc9abc779b0c96cd2e357573d17b01967b147b80/expr.ipynb\"><img src=\"../8dc9abc779b0c96cd2e357573d17b01967b147b80/expr.png\" style=\"display:inline;vertical-align:middle;\" /></a></td></tr>\n",
       "<tr><td>21</td><td>NamedExprs</td><td>element: 25<br>targets: 27<br></td><td><a class=\"ProveItLink\" href=\"../819b7f39924e78605f261510f67909735f74c7e60/expr.ipynb\"><img src=\"../819b7f39924e78605f261510f67909735f74c7e60/expr.png\" style=\"display:inline;vertical-align:middle;\" /></a></td></tr>\n",
       "<tr><td>22</td><td>Literal</td><td></td><td><a class=\"ProveItLink\" href=\"../../../../circuits/__pv_it/common/5eaa43008f05c06941080a12337ff182ea14996e0/expr.ipynb\"><img src=\"../../../../circuits/__pv_it/common/5eaa43008f05c06941080a12337ff182ea14996e0/expr.png\" style=\"display:inline;vertical-align:middle;\" /></a></td></tr>\n",
       "<tr><td>23</td><td>NamedExprs</td><td>element: 26<br>targets: 27<br></td><td><a class=\"ProveItLink\" href=\"../../common/ebf060fcf743f5f83bc1aa3c52e21e884688eec40/expr.ipynb\"><img src=\"../../common/ebf060fcf743f5f83bc1aa3c52e21e884688eec40/expr.png\" style=\"display:inline;vertical-align:middle;\" /></a></td></tr>\n",
       "<tr><td>24</td><td>Operation</td><td>operator:&nbsp;28<br>operands:&nbsp;29<br></td><td><a class=\"ProveItLink\" href=\"../af821bad874678c5c27f1b2627fc734dd158af920/expr.ipynb\"><img src=\"../af821bad874678c5c27f1b2627fc734dd158af920/expr.png\" style=\"display:inline;vertical-align:middle;\" /></a></td></tr>\n",
       "<tr><td>25</td><td>Operation</td><td>operator:&nbsp;30<br>operands:&nbsp;31<br></td><td><a class=\"ProveItLink\" href=\"../cd3877599c0e67a8af4308ee62b720c77efdfef10/expr.ipynb\"><img src=\"../cd3877599c0e67a8af4308ee62b720c77efdfef10/expr.png\" style=\"display:inline;vertical-align:middle;\" /></a></td></tr>\n",
       "<tr><td>26</td><td>Operation</td><td>operator:&nbsp;32<br>operands:&nbsp;33<br></td><td><a class=\"ProveItLink\" href=\"../../common/0f60f7ea8d38b9607266b456fe1cc4ef16bab45f0/expr.ipynb\"><img src=\"../../common/0f60f7ea8d38b9607266b456fe1cc4ef16bab45f0/expr.png\" style=\"display:inline;vertical-align:middle;\" /></a></td></tr>\n",
       "<tr><td>27</td><td>Operation</td><td>operator:&nbsp;34<br>operands:&nbsp;35<br></td><td><a class=\"ProveItLink\" href=\"../../common/e122b9c60b738854d914e6ecd981b572cc15d7ba0/expr.ipynb\"><img src=\"../../common/e122b9c60b738854d914e6ecd981b572cc15d7ba0/expr.png\" style=\"display:inline;vertical-align:middle;\" /></a></td></tr>\n",
       "<tr><td>28</td><td>Literal</td><td></td><td><a class=\"ProveItLink\" href=\"../../../../circuits/__pv_it/common/deea8715ce6701df08bbe1d049112a0bad4965c20/expr.ipynb\"><img src=\"../../../../circuits/__pv_it/common/deea8715ce6701df08bbe1d049112a0bad4965c20/expr.png\" style=\"display:inline;vertical-align:middle;\" /></a></td></tr>\n",
       "<tr><td>29</td><td>NamedExprs</td><td>state: 36<br>part: 39<br></td><td><a class=\"ProveItLink\" href=\"../a47825197c81e9e603266d26064a4c977c16d1df0/expr.ipynb\"><img src=\"../a47825197c81e9e603266d26064a4c977c16d1df0/expr.png\" style=\"display:inline;vertical-align:middle;\" /></a></td></tr>\n",
       "<tr><td>30</td><td>Literal</td><td></td><td><a class=\"ProveItLink\" href=\"../../../../circuits/__pv_it/common/ead8f6f18d2b8c24f1ed8db33df594edd77c9bcc0/expr.ipynb\"><img src=\"../../../../circuits/__pv_it/common/ead8f6f18d2b8c24f1ed8db33df594edd77c9bcc0/expr.png\" style=\"display:inline;vertical-align:middle;\" /></a></td></tr>\n",
       "<tr><td>31</td><td>NamedExprs</td><td>operation: 37<br>part: 39<br></td><td><a class=\"ProveItLink\" href=\"../e64bc554e85236fa8576dd003fdf5f870295999e0/expr.ipynb\"><img src=\"../e64bc554e85236fa8576dd003fdf5f870295999e0/expr.png\" style=\"display:inline;vertical-align:middle;\" /></a></td></tr>\n",
       "<tr><td>32</td><td>Literal</td><td></td><td><a class=\"ProveItLink\" href=\"../../../../circuits/__pv_it/common/00345a9c4f4d361e0b6e8bbbbe5a33a8ec86a20b0/expr.ipynb\"><img src=\"../../../../circuits/__pv_it/common/00345a9c4f4d361e0b6e8bbbbe5a33a8ec86a20b0/expr.png\" style=\"display:inline;vertical-align:middle;\" /></a></td></tr>\n",
       "<tr><td>33</td><td>NamedExprs</td><td>state: 38<br>part: 39<br></td><td><a class=\"ProveItLink\" href=\"../../common/93976a9e622c7ac7300a9c5d7dd011e765cd79a10/expr.ipynb\"><img src=\"../../common/93976a9e622c7ac7300a9c5d7dd011e765cd79a10/expr.png\" style=\"display:inline;vertical-align:middle;\" /></a></td></tr>\n",
       "<tr><td>34</td><td>Literal</td><td></td><td><a class=\"ProveItLink\" href=\"../../../../../../numbers/number_sets/integers/__pv_it/common/92f3a0a77e3c3ea8e4a5c8674edadc54e4f57d550/expr.ipynb\"><img src=\"../../../../../../numbers/number_sets/integers/__pv_it/common/92f3a0a77e3c3ea8e4a5c8674edadc54e4f57d550/expr.png\" style=\"display:inline;vertical-align:middle;\" /></a></td></tr>\n",
       "<tr><td>35</td><td>ExprTuple</td><td>40, 44</td><td><a class=\"ProveItLink\" href=\"../../common/5bbcfd1311319843ab62a23688c905a8a364e8380/expr.ipynb\"><img src=\"../../common/5bbcfd1311319843ab62a23688c905a8a364e8380/expr.png\" style=\"display:inline;vertical-align:middle;\" /></a></td></tr>\n",
       "<tr><td>36</td><td>Operation</td><td>operator:&nbsp;41<br>operand:&nbsp;44<br></td><td><a class=\"ProveItLink\" href=\"../../common/1a76979ea9a7780eeb22b6220b8d2767502e417a0/expr.ipynb\"><img src=\"../../common/1a76979ea9a7780eeb22b6220b8d2767502e417a0/expr.png\" style=\"display:inline;vertical-align:middle;\" /></a></td></tr>\n",
       "<tr><td>37</td><td>Operation</td><td>operator:&nbsp;42<br>operand:&nbsp;44<br></td><td><a class=\"ProveItLink\" href=\"../../common/ba1fd315c6163463202bb872556455ca760a5ce80/expr.ipynb\"><img src=\"../../common/ba1fd315c6163463202bb872556455ca760a5ce80/expr.png\" style=\"display:inline;vertical-align:middle;\" /></a></td></tr>\n",
       "<tr><td>38</td><td>Literal</td><td></td><td><a class=\"ProveItLink\" href=\"../../common/420179ba67a51d79c8f2a2e0468e9dec8441a4510/expr.ipynb\"><img src=\"../../common/420179ba67a51d79c8f2a2e0468e9dec8441a4510/expr.png\" style=\"display:inline;vertical-align:middle;\" /></a></td></tr>\n",
       "<tr><td>39</td><td>Variable</td><td></td><td><a class=\"ProveItLink\" href=\"../../common/006c465e50948aa2b52285e2de47974f741255cc0/expr.ipynb\"><img src=\"../../common/006c465e50948aa2b52285e2de47974f741255cc0/expr.png\" style=\"display:inline;vertical-align:middle;\" /></a></td></tr>\n",
       "<tr><td>40</td><td>Literal</td><td></td><td><a class=\"ProveItLink\" href=\"../../../../../../numbers/numerals/__pv_it/common/682157d4892d216d9e5626ed533aff9b56b9506e0/expr.ipynb\"><img src=\"../../../../../../numbers/numerals/__pv_it/common/682157d4892d216d9e5626ed533aff9b56b9506e0/expr.png\" style=\"display:inline;vertical-align:middle;\" /></a></td></tr>\n",
       "<tr><td>41</td><td>Literal</td><td></td><td><a class=\"ProveItLink\" href=\"../../common/3cd01098f6477695c5f95f3614ef4302a3a569f40/expr.ipynb\"><img src=\"../../common/3cd01098f6477695c5f95f3614ef4302a3a569f40/expr.png\" style=\"display:inline;vertical-align:middle;\" /></a></td></tr>\n",
       "<tr><td>42</td><td>Literal</td><td></td><td><a class=\"ProveItLink\" href=\"../../../../QFT/__pv_it/common/435b6ace9516fa72bfa2318e4ae9eb79e9793f8e0/expr.ipynb\"><img src=\"../../../../QFT/__pv_it/common/435b6ace9516fa72bfa2318e4ae9eb79e9793f8e0/expr.png\" style=\"display:inline;vertical-align:middle;\" /></a></td></tr>\n",
       "<tr><td>43</td><td>ExprTuple</td><td>44</td><td><a class=\"ProveItLink\" href=\"../../common/53db8ddfd57f92ceb5c9c5778de41560ef98a6f20/expr.ipynb\"><img src=\"../../common/53db8ddfd57f92ceb5c9c5778de41560ef98a6f20/expr.png\" style=\"display:inline;vertical-align:middle;\" /></a></td></tr>\n",
       "<tr><td>44</td><td>Literal</td><td></td><td><a class=\"ProveItLink\" href=\"../../common/977cc67717328e22c93f8ab84e6a45e8cadce7790/expr.ipynb\"><img src=\"../../common/977cc67717328e22c93f8ab84e6a45e8cadce7790/expr.png\" style=\"display:inline;vertical-align:middle;\" /></a></td></tr>\n",
       "</table>\n"
      ],
      "text/plain": [
       "0. (Pr(QCIRCUIT(VertExprArray(([MULTI_QUBIT_ELEM]{element:[INPUT]{state:|psi_{t}>, part:1}, targets:{1 .. t}}, [MULTI_QUBIT_ELEM]{element:[INPUT]{state:|psi_{t}>, part:2}, targets:{1 .. t}}, ..., [MULTI_QUBIT_ELEM]{element:[INPUT]{state:|psi_{t}>, part:t}, targets:{1 .. t}}),  \\\\ ([MULTI_QUBIT_ELEM]{element:[GATE]{operation:FT^{dag}_{t}, part:1}, targets:{1 .. t}}, [MULTI_QUBIT_ELEM]{element:[GATE]{operation:FT^{dag}_{t}, part:2}, targets:{1 .. t}}, ..., [MULTI_QUBIT_ELEM]{element:[GATE]{operation:FT^{dag}_{t}, part:t}, targets:{1 .. t}}),  \\\\ ([MULTI_QUBIT_ELEM]{element:[OUTPUT]{state:|Psi>, part:1}, targets:{1 .. t}}, [MULTI_QUBIT_ELEM]{element:[OUTPUT]{state:|Psi>, part:2}, targets:{1 .. t}}, ..., [MULTI_QUBIT_ELEM]{element:[OUTPUT]{state:|Psi>, part:t}, targets:{1 .. t}})))), 1)\n",
       "   core type: ExprTuple\n",
       "   sub-expressions: 1, 40\n",
       "1. Pr(QCIRCUIT(VertExprArray(([MULTI_QUBIT_ELEM]{element:[INPUT]{state:|psi_{t}>, part:1}, targets:{1 .. t}}, [MULTI_QUBIT_ELEM]{element:[INPUT]{state:|psi_{t}>, part:2}, targets:{1 .. t}}, ..., [MULTI_QUBIT_ELEM]{element:[INPUT]{state:|psi_{t}>, part:t}, targets:{1 .. t}}),  \\\\ ([MULTI_QUBIT_ELEM]{element:[GATE]{operation:FT^{dag}_{t}, part:1}, targets:{1 .. t}}, [MULTI_QUBIT_ELEM]{element:[GATE]{operation:FT^{dag}_{t}, part:2}, targets:{1 .. t}}, ..., [MULTI_QUBIT_ELEM]{element:[GATE]{operation:FT^{dag}_{t}, part:t}, targets:{1 .. t}}),  \\\\ ([MULTI_QUBIT_ELEM]{element:[OUTPUT]{state:|Psi>, part:1}, targets:{1 .. t}}, [MULTI_QUBIT_ELEM]{element:[OUTPUT]{state:|Psi>, part:2}, targets:{1 .. t}}, ..., [MULTI_QUBIT_ELEM]{element:[OUTPUT]{state:|Psi>, part:t}, targets:{1 .. t}}))))\n",
       "   core type: Operation\n",
       "   operator: 2\n",
       "   operand: 4\n",
       "2. Pr\n",
       "   core type: Literal\n",
       "   sub-expressions: \n",
       "3. (QCIRCUIT(VertExprArray(([MULTI_QUBIT_ELEM]{element:[INPUT]{state:|psi_{t}>, part:1}, targets:{1 .. t}}, [MULTI_QUBIT_ELEM]{element:[INPUT]{state:|psi_{t}>, part:2}, targets:{1 .. t}}, ..., [MULTI_QUBIT_ELEM]{element:[INPUT]{state:|psi_{t}>, part:t}, targets:{1 .. t}}),  \\\\ ([MULTI_QUBIT_ELEM]{element:[GATE]{operation:FT^{dag}_{t}, part:1}, targets:{1 .. t}}, [MULTI_QUBIT_ELEM]{element:[GATE]{operation:FT^{dag}_{t}, part:2}, targets:{1 .. t}}, ..., [MULTI_QUBIT_ELEM]{element:[GATE]{operation:FT^{dag}_{t}, part:t}, targets:{1 .. t}}),  \\\\ ([MULTI_QUBIT_ELEM]{element:[OUTPUT]{state:|Psi>, part:1}, targets:{1 .. t}}, [MULTI_QUBIT_ELEM]{element:[OUTPUT]{state:|Psi>, part:2}, targets:{1 .. t}}, ..., [MULTI_QUBIT_ELEM]{element:[OUTPUT]{state:|Psi>, part:t}, targets:{1 .. t}}))))\n",
       "   core type: ExprTuple\n",
       "   sub-expressions: 4\n",
       "4. QCIRCUIT(VertExprArray(([MULTI_QUBIT_ELEM]{element:[INPUT]{state:|psi_{t}>, part:1}, targets:{1 .. t}}, [MULTI_QUBIT_ELEM]{element:[INPUT]{state:|psi_{t}>, part:2}, targets:{1 .. t}}, ..., [MULTI_QUBIT_ELEM]{element:[INPUT]{state:|psi_{t}>, part:t}, targets:{1 .. t}}),  \\\\ ([MULTI_QUBIT_ELEM]{element:[GATE]{operation:FT^{dag}_{t}, part:1}, targets:{1 .. t}}, [MULTI_QUBIT_ELEM]{element:[GATE]{operation:FT^{dag}_{t}, part:2}, targets:{1 .. t}}, ..., [MULTI_QUBIT_ELEM]{element:[GATE]{operation:FT^{dag}_{t}, part:t}, targets:{1 .. t}}),  \\\\ ([MULTI_QUBIT_ELEM]{element:[OUTPUT]{state:|Psi>, part:1}, targets:{1 .. t}}, [MULTI_QUBIT_ELEM]{element:[OUTPUT]{state:|Psi>, part:2}, targets:{1 .. t}}, ..., [MULTI_QUBIT_ELEM]{element:[OUTPUT]{state:|Psi>, part:t}, targets:{1 .. t}})))\n",
       "   core type: Operation\n",
       "   operator: 5\n",
       "   operands: 6\n",
       "5. QCIRCUIT\n",
       "   core type: Literal\n",
       "   sub-expressions: \n",
       "6. VertExprArray(([MULTI_QUBIT_ELEM]{element:[INPUT]{state:|psi_{t}>, part:1}, targets:{1 .. t}}, [MULTI_QUBIT_ELEM]{element:[INPUT]{state:|psi_{t}>, part:2}, targets:{1 .. t}}, ..., [MULTI_QUBIT_ELEM]{element:[INPUT]{state:|psi_{t}>, part:t}, targets:{1 .. t}}),  \\\\ ([MULTI_QUBIT_ELEM]{element:[GATE]{operation:FT^{dag}_{t}, part:1}, targets:{1 .. t}}, [MULTI_QUBIT_ELEM]{element:[GATE]{operation:FT^{dag}_{t}, part:2}, targets:{1 .. t}}, ..., [MULTI_QUBIT_ELEM]{element:[GATE]{operation:FT^{dag}_{t}, part:t}, targets:{1 .. t}}),  \\\\ ([MULTI_QUBIT_ELEM]{element:[OUTPUT]{state:|Psi>, part:1}, targets:{1 .. t}}, [MULTI_QUBIT_ELEM]{element:[OUTPUT]{state:|Psi>, part:2}, targets:{1 .. t}}, ..., [MULTI_QUBIT_ELEM]{element:[OUTPUT]{state:|Psi>, part:t}, targets:{1 .. t}}))\n",
       "   core type: ExprTuple\n",
       "   sub-expressions: 7, 8, 9\n",
       "7. ([MULTI_QUBIT_ELEM]{element:[INPUT]{state:|psi_{t}>, part:1}, targets:{1 .. t}}, [MULTI_QUBIT_ELEM]{element:[INPUT]{state:|psi_{t}>, part:2}, targets:{1 .. t}}, ..., [MULTI_QUBIT_ELEM]{element:[INPUT]{state:|psi_{t}>, part:t}, targets:{1 .. t}})\n",
       "   core type: ExprTuple\n",
       "   sub-expressions: 10\n",
       "8. ([MULTI_QUBIT_ELEM]{element:[GATE]{operation:FT^{dag}_{t}, part:1}, targets:{1 .. t}}, [MULTI_QUBIT_ELEM]{element:[GATE]{operation:FT^{dag}_{t}, part:2}, targets:{1 .. t}}, ..., [MULTI_QUBIT_ELEM]{element:[GATE]{operation:FT^{dag}_{t}, part:t}, targets:{1 .. t}})\n",
       "   core type: ExprTuple\n",
       "   sub-expressions: 11\n",
       "9. ([MULTI_QUBIT_ELEM]{element:[OUTPUT]{state:|Psi>, part:1}, targets:{1 .. t}}, [MULTI_QUBIT_ELEM]{element:[OUTPUT]{state:|Psi>, part:2}, targets:{1 .. t}}, ..., [MULTI_QUBIT_ELEM]{element:[OUTPUT]{state:|Psi>, part:t}, targets:{1 .. t}})\n",
       "   core type: ExprTuple\n",
       "   sub-expressions: 12\n",
       "10. [MULTI_QUBIT_ELEM]{element:[INPUT]{state:|psi_{t}>, part:1}, targets:{1 .. t}}, [MULTI_QUBIT_ELEM]{element:[INPUT]{state:|psi_{t}>, part:2}, targets:{1 .. t}}, ..., [MULTI_QUBIT_ELEM]{element:[INPUT]{state:|psi_{t}>, part:t}, targets:{1 .. t}}\n",
       "    core type: ExprRange\n",
       "    lambda_map: 13\n",
       "    start_index: 40\n",
       "    end_index: 44\n",
       "11. [MULTI_QUBIT_ELEM]{element:[GATE]{operation:FT^{dag}_{t}, part:1}, targets:{1 .. t}}, [MULTI_QUBIT_ELEM]{element:[GATE]{operation:FT^{dag}_{t}, part:2}, targets:{1 .. t}}, ..., [MULTI_QUBIT_ELEM]{element:[GATE]{operation:FT^{dag}_{t}, part:t}, targets:{1 .. t}}\n",
       "    core type: ExprRange\n",
       "    lambda_map: 14\n",
       "    start_index: 40\n",
       "    end_index: 44\n",
       "12. [MULTI_QUBIT_ELEM]{element:[OUTPUT]{state:|Psi>, part:1}, targets:{1 .. t}}, [MULTI_QUBIT_ELEM]{element:[OUTPUT]{state:|Psi>, part:2}, targets:{1 .. t}}, ..., [MULTI_QUBIT_ELEM]{element:[OUTPUT]{state:|Psi>, part:t}, targets:{1 .. t}}\n",
       "    core type: ExprRange\n",
       "    lambda_map: 15\n",
       "    start_index: 40\n",
       "    end_index: 44\n",
       "13. _a -> [MULTI_QUBIT_ELEM]{element:[INPUT]{state:|psi_{t}>, part:_a}, targets:{1 .. t}}\n",
       "    core type: Lambda\n",
       "    parameter: 39\n",
       "    body: 16\n",
       "14. _a -> [MULTI_QUBIT_ELEM]{element:[GATE]{operation:FT^{dag}_{t}, part:_a}, targets:{1 .. t}}\n",
       "    core type: Lambda\n",
       "    parameter: 39\n",
       "    body: 17\n",
       "15. _a -> [MULTI_QUBIT_ELEM]{element:[OUTPUT]{state:|Psi>, part:_a}, targets:{1 .. t}}\n",
       "    core type: Lambda\n",
       "    parameter: 39\n",
       "    body: 19\n",
       "16. [MULTI_QUBIT_ELEM]{element:[INPUT]{state:|psi_{t}>, part:_a}, targets:{1 .. t}}\n",
       "    core type: Operation\n",
       "    operator: 22\n",
       "    operands: 20\n",
       "17. [MULTI_QUBIT_ELEM]{element:[GATE]{operation:FT^{dag}_{t}, part:_a}, targets:{1 .. t}}\n",
       "    core type: Operation\n",
       "    operator: 22\n",
       "    operands: 21\n",
       "18. (_a)\n",
       "    core type: ExprTuple\n",
       "    sub-expressions: 39\n",
       "19. [MULTI_QUBIT_ELEM]{element:[OUTPUT]{state:|Psi>, part:_a}, targets:{1 .. t}}\n",
       "    core type: Operation\n",
       "    operator: 22\n",
       "    operands: 23\n",
       "20. {element:[INPUT]{state:|psi_{t}>, part:_a}, targets:{1 .. t}}\n",
       "    core type: NamedExprs\n",
       "    element: 24\n",
       "    targets: 27\n",
       "21. {element:[GATE]{operation:FT^{dag}_{t}, part:_a}, targets:{1 .. t}}\n",
       "    core type: NamedExprs\n",
       "    element: 25\n",
       "    targets: 27\n",
       "22. MULTI_QUBIT_ELEM\n",
       "    core type: Literal\n",
       "    sub-expressions: \n",
       "23. {element:[OUTPUT]{state:|Psi>, part:_a}, targets:{1 .. t}}\n",
       "    core type: NamedExprs\n",
       "    element: 26\n",
       "    targets: 27\n",
       "24. [INPUT]{state:|psi_{t}>, part:_a}\n",
       "    core type: Operation\n",
       "    operator: 28\n",
       "    operands: 29\n",
       "25. [GATE]{operation:FT^{dag}_{t}, part:_a}\n",
       "    core type: Operation\n",
       "    operator: 30\n",
       "    operands: 31\n",
       "26. [OUTPUT]{state:|Psi>, part:_a}\n",
       "    core type: Operation\n",
       "    operator: 32\n",
       "    operands: 33\n",
       "27. {1 .. t}\n",
       "    core type: Operation\n",
       "    operator: 34\n",
       "    operands: 35\n",
       "28. INPUT\n",
       "    core type: Literal\n",
       "    sub-expressions: \n",
       "29. {state:|psi_{t}>, part:_a}\n",
       "    core type: NamedExprs\n",
       "    state: 36\n",
       "    part: 39\n",
       "30. GATE\n",
       "    core type: Literal\n",
       "    sub-expressions: \n",
       "31. {operation:FT^{dag}_{t}, part:_a}\n",
       "    core type: NamedExprs\n",
       "    operation: 37\n",
       "    part: 39\n",
       "32. OUTPUT\n",
       "    core type: Literal\n",
       "    sub-expressions: \n",
       "33. {state:|Psi>, part:_a}\n",
       "    core type: NamedExprs\n",
       "    state: 38\n",
       "    part: 39\n",
       "34. Interval\n",
       "    core type: Literal\n",
       "    sub-expressions: \n",
       "35. (1, t)\n",
       "    core type: ExprTuple\n",
       "    sub-expressions: 40, 44\n",
       "36. |psi_{t}>\n",
       "    core type: Operation\n",
       "    operator: 41\n",
       "    operand: 44\n",
       "37. FT^{dag}_{t}\n",
       "    core type: Operation\n",
       "    operator: 42\n",
       "    operand: 44\n",
       "38. |Psi>\n",
       "    core type: Literal\n",
       "    sub-expressions: \n",
       "39. _a\n",
       "    core type: Variable\n",
       "    sub-expressions: \n",
       "40. 1\n",
       "    core type: Literal\n",
       "    sub-expressions: \n",
       "41. psi\n",
       "    core type: Literal\n",
       "    sub-expressions: \n",
       "42. FT^{dag}\n",
       "    core type: Literal\n",
       "    sub-expressions: \n",
       "43. (t)\n",
       "    core type: ExprTuple\n",
       "    sub-expressions: 44\n",
       "44. t\n",
       "    core type: Literal\n",
       "    sub-expressions: "
      ]
     },
     "metadata": {},
     "output_type": "display_data"
    }
   ],
   "source": [
    "# display the expression information\n",
    "stored_expr.expr_info()"
   ]
  },
  {
   "cell_type": "code",
   "execution_count": null,
   "metadata": {},
   "outputs": [],
   "source": []
  }
 ],
 "metadata": {
  "kernelspec": {
   "display_name": "Python 3",
   "language": "python",
   "name": "python3"
  }
 },
 "nbformat": 4,
 "nbformat_minor": 0
}