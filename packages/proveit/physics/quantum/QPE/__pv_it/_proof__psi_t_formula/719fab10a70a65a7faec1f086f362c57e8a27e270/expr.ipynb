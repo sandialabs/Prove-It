{
 "cells": [
  {
   "cell_type": "markdown",
   "metadata": {},
   "source": [
    "Expression of type <a class=\"ProveItLink\" href=\"../../../../../../../../doc/html/api/proveit.core_expr_types.Len.html\">Len</a>\n",
    "=======================\n",
    "# from the theory of <a class=\"ProveItLink\" href=\"../../../_theory_nbs_/theory.ipynb\">proveit.physics.quantum.QPE</a>"
   ]
  },
  {
   "cell_type": "code",
   "execution_count": 1,
   "metadata": {},
   "outputs": [],
   "source": [
    "import proveit\n",
    "# Automation is not needed when building an expression:\n",
    "proveit.defaults.automation = False # This will speed things up.\n",
    "proveit.defaults.inline_pngs = False # Makes files smaller.\n",
    "%load_expr # Load the stored expression as 'stored_expr'\n",
    "# import Expression classes needed to build the expression\n",
    "from proveit import ExprRange, Variable, t\n",
    "from proveit.core_expr_types import Len\n",
    "from proveit.linear_algebra import ScalarMult, VecAdd\n",
    "from proveit.numbers import Exp, Mult, Neg, e, frac, i, one, pi, sqrt, two, zero\n",
    "from proveit.physics.quantum import ket0, ket1\n",
    "from proveit.physics.quantum.QPE import _phase"
   ]
  },
  {
   "cell_type": "code",
   "execution_count": 2,
   "metadata": {},
   "outputs": [
    {
     "data": {
      "text/html": [
       "<strong id=\"expr\">expr:</strong> <a class=\"ProveItLink\" href=\"expr.ipynb\"><img src=\"expr.png\" style=\"display:inline;vertical-align:middle;\" /></a><br>"
      ],
      "text/plain": [
       "<IPython.core.display.HTML object>"
      ]
     },
     "metadata": {},
     "output_type": "display_data"
    }
   ],
   "source": [
    "# build up the expression from sub-expressions\n",
    "sub_expr1 = Variable(\"_a\", latex_format = r\"{_{-}a}\")\n",
    "expr = Len(operands = [ExprRange(sub_expr1, ScalarMult(frac(one, sqrt(two)), VecAdd(ket0, ScalarMult(Exp(e, Mult(two, pi, i, Exp(two, Neg(sub_expr1)), _phase)), ket1))), Neg(t), zero)])"
   ]
  },
  {
   "cell_type": "code",
   "execution_count": 3,
   "metadata": {},
   "outputs": [
    {
     "name": "stdout",
     "output_type": "stream",
     "text": [
      "Passed sanity check: expr matches stored_expr\n"
     ]
    }
   ],
   "source": [
    "# check that the built expression is the same as the stored expression\n",
    "assert expr == stored_expr\n",
    "assert expr._style_id == stored_expr._style_id\n",
    "print(\"Passed sanity check: expr matches stored_expr\")"
   ]
  },
  {
   "cell_type": "code",
   "execution_count": 4,
   "metadata": {},
   "outputs": [
    {
     "name": "stdout",
     "output_type": "stream",
     "text": [
      "|\\left(\\left(\\frac{1}{\\sqrt{2}} \\cdot \\left(\\lvert 0 \\rangle + \\left(\\mathsf{e}^{2 \\cdot \\pi \\cdot \\mathsf{i} \\cdot 2^{-\\left(-t\\right)} \\cdot \\varphi} \\cdot \\lvert 1 \\rangle\\right)\\right)\\right), \\left(\\frac{1}{\\sqrt{2}} \\cdot \\left(\\lvert 0 \\rangle + \\left(\\mathsf{e}^{2 \\cdot \\pi \\cdot \\mathsf{i} \\cdot 2^{-\\left(-t + 1\\right)} \\cdot \\varphi} \\cdot \\lvert 1 \\rangle\\right)\\right)\\right), \\ldots, \\left(\\frac{1}{\\sqrt{2}} \\cdot \\left(\\lvert 0 \\rangle + \\left(\\mathsf{e}^{2 \\cdot \\pi \\cdot \\mathsf{i} \\cdot 2^{-0} \\cdot \\varphi} \\cdot \\lvert 1 \\rangle\\right)\\right)\\right)\\right)|\n"
     ]
    }
   ],
   "source": [
    "# Show the LaTeX representation of the expression for convenience if you need it.\n",
    "print(stored_expr.latex())"
   ]
  },
  {
   "cell_type": "code",
   "execution_count": 5,
   "metadata": {},
   "outputs": [
    {
     "data": {
      "text/html": [
       "<table>\n",
       "<tr><th>name</th><th>description</th><th>default</th><th>current value</th><th>related methods</th></tr><tr><td>operation</td><td>'infix' or 'function' style formatting</td><td>infix</td><td>infix</td><td></td></tr>\n",
       "<tr><td>wrap_positions</td><td>position(s) at which wrapping is to occur; '2 n - 1' is after the nth operand, '2 n' is after the nth operation.</td><td>()</td><td>()</td><td>('with_wrapping_at', 'with_wrap_before_operator', 'with_wrap_after_operator', 'without_wrapping', 'wrap_positions')</td></tr>\n",
       "<tr><td>justification</td><td>if any wrap positions are set, justify to the 'left', 'center', or 'right'</td><td>center</td><td>center</td><td>('with_justification',)</td></tr>\n",
       "</table>\n"
      ],
      "text/plain": [
       "style name: operation\n",
       "description: 'infix' or 'function' style formatting\n",
       "default: infix\n",
       "current value: infix\n",
       "related methods: ()\n",
       "style name: wrap_positions\n",
       "description: position(s) at which wrapping is to occur; '2 n - 1' is after the nth operand, '2 n' is after the nth operation.\n",
       "default: ()\n",
       "current value: ()\n",
       "related methods: ('with_wrapping_at', 'with_wrap_before_operator', 'with_wrap_after_operator', 'without_wrapping', 'wrap_positions')\n",
       "style name: justification\n",
       "description: if any wrap positions are set, justify to the 'left', 'center', or 'right'\n",
       "default: center\n",
       "current value: center\n",
       "related methods: ('with_justification',)"
      ]
     },
     "metadata": {},
     "output_type": "display_data"
    }
   ],
   "source": [
    "stored_expr.style_options()"
   ]
  },
  {
   "cell_type": "code",
   "execution_count": 6,
   "metadata": {},
   "outputs": [
    {
     "data": {
      "text/html": [
       "<table><tr><th>&nbsp;</th><th>core type</th><th>sub-expressions</th><th>expression</th></tr>\n",
       "<tr><td>0</td><td>Operation</td><td>operator:&nbsp;1<br>operands:&nbsp;2<br></td><td><a class=\"ProveItLink\" href=\"expr.ipynb\"><img src=\"expr.png\" style=\"display:inline;vertical-align:middle;\" /></a></td></tr>\n",
       "<tr><td>1</td><td>Literal</td><td></td><td><a class=\"ProveItLink\" href=\"../../../../../../core_expr_types/tuples/__pv_it/common/43df765abf1294d8f1fd177863f57f08bf5ad0080/expr.ipynb\"><img src=\"../../../../../../core_expr_types/tuples/__pv_it/common/43df765abf1294d8f1fd177863f57f08bf5ad0080/expr.png\" style=\"display:inline;vertical-align:middle;\" /></a></td></tr>\n",
       "<tr><td>2</td><td>ExprTuple</td><td>3</td><td><a class=\"ProveItLink\" href=\"../3f714297aa8252f7bdbf98a1b8e34281e027d7590/expr.ipynb\"><img src=\"../3f714297aa8252f7bdbf98a1b8e34281e027d7590/expr.png\" style=\"display:inline;vertical-align:middle;\" /></a></td></tr>\n",
       "<tr><td>3</td><td>ExprRange</td><td>lambda_map:&nbsp;4<br>start_index:&nbsp;5<br>end_index:&nbsp;23<br></td><td><a class=\"ProveItLink\" href=\"../18aaa9037e2dd3a3a97a4b7ada00cb8593b2c7160/expr.ipynb\"><img src=\"../18aaa9037e2dd3a3a97a4b7ada00cb8593b2c7160/expr.png\" style=\"display:inline;vertical-align:middle;\" /></a></td></tr>\n",
       "<tr><td>4</td><td>Lambda</td><td>parameter:&nbsp;46<br>body:&nbsp;6<br></td><td><a class=\"ProveItLink\" href=\"../../axioms/df10f0b0e31cd23d6b4b140d10f2c1c823352b5d0/expr.ipynb\"><img src=\"../../axioms/df10f0b0e31cd23d6b4b140d10f2c1c823352b5d0/expr.png\" style=\"display:inline;vertical-align:middle;\" /></a></td></tr>\n",
       "<tr><td>5</td><td>Operation</td><td>operator:&nbsp;44<br>operand:&nbsp;9<br></td><td><a class=\"ProveItLink\" href=\"../../common/e0a0e1311f316a159cea49712cb715262ee967450/expr.ipynb\"><img src=\"../../common/e0a0e1311f316a159cea49712cb715262ee967450/expr.png\" style=\"display:inline;vertical-align:middle;\" /></a></td></tr>\n",
       "<tr><td>6</td><td>Operation</td><td>operator:&nbsp;20<br>operands:&nbsp;8<br></td><td><a class=\"ProveItLink\" href=\"../../axioms/7293d71a30c3919386f63ad4ab66eb67a8c84bba0/expr.ipynb\"><img src=\"../../axioms/7293d71a30c3919386f63ad4ab66eb67a8c84bba0/expr.png\" style=\"display:inline;vertical-align:middle;\" /></a></td></tr>\n",
       "<tr><td>7</td><td>ExprTuple</td><td>9</td><td><a class=\"ProveItLink\" href=\"../../common/04971f5ed986452ec2d9047d1e0d56faa846096b0/expr.ipynb\"><img src=\"../../common/04971f5ed986452ec2d9047d1e0d56faa846096b0/expr.png\" style=\"display:inline;vertical-align:middle;\" /></a></td></tr>\n",
       "<tr><td>8</td><td>ExprTuple</td><td>10, 11</td><td><a class=\"ProveItLink\" href=\"../../axioms/56131295cb7ffd684bfd302e0e0ef139e13a27290/expr.ipynb\"><img src=\"../../axioms/56131295cb7ffd684bfd302e0e0ef139e13a27290/expr.png\" style=\"display:inline;vertical-align:middle;\" /></a></td></tr>\n",
       "<tr><td>9</td><td>Variable</td><td></td><td><a class=\"ProveItLink\" href=\"../../../../../../__pv_it/common/36861eae73a44b53d5b3b017ac6a3a9dae53bfba0/expr.ipynb\"><img src=\"../../../../../../__pv_it/common/36861eae73a44b53d5b3b017ac6a3a9dae53bfba0/expr.png\" style=\"display:inline;vertical-align:middle;\" /></a></td></tr>\n",
       "<tr><td>10</td><td>Operation</td><td>operator:&nbsp;26<br>operands:&nbsp;12<br></td><td><a class=\"ProveItLink\" href=\"../../axioms/c8b5993df7cd8527652affb78bd7910edc3167040/expr.ipynb\"><img src=\"../../axioms/c8b5993df7cd8527652affb78bd7910edc3167040/expr.png\" style=\"display:inline;vertical-align:middle;\" /></a></td></tr>\n",
       "<tr><td>11</td><td>Operation</td><td>operator:&nbsp;13<br>operands:&nbsp;14<br></td><td><a class=\"ProveItLink\" href=\"../../axioms/ed49d0d7bbb7e2cf316f7284c0b2b4a9951cefdf0/expr.ipynb\"><img src=\"../../axioms/ed49d0d7bbb7e2cf316f7284c0b2b4a9951cefdf0/expr.png\" style=\"display:inline;vertical-align:middle;\" /></a></td></tr>\n",
       "<tr><td>12</td><td>ExprTuple</td><td>33, 15</td><td><a class=\"ProveItLink\" href=\"../../axioms/262fd0216b73ce447526134084bce463ea3e6c430/expr.ipynb\"><img src=\"../../axioms/262fd0216b73ce447526134084bce463ea3e6c430/expr.png\" style=\"display:inline;vertical-align:middle;\" /></a></td></tr>\n",
       "<tr><td>13</td><td>Literal</td><td></td><td><a class=\"ProveItLink\" href=\"../../../../../../linear_algebra/addition/__pv_it/common/ac3c140c9094f065c7f7db15c94558731443639c0/expr.ipynb\"><img src=\"../../../../../../linear_algebra/addition/__pv_it/common/ac3c140c9094f065c7f7db15c94558731443639c0/expr.png\" style=\"display:inline;vertical-align:middle;\" /></a></td></tr>\n",
       "<tr><td>14</td><td>ExprTuple</td><td>16, 17</td><td><a class=\"ProveItLink\" href=\"../../axioms/3c89c248dcb4133d9db3660a47d4a165cb032c4a0/expr.ipynb\"><img src=\"../../axioms/3c89c248dcb4133d9db3660a47d4a165cb032c4a0/expr.png\" style=\"display:inline;vertical-align:middle;\" /></a></td></tr>\n",
       "<tr><td>15</td><td>Operation</td><td>operator:&nbsp;40<br>operands:&nbsp;18<br></td><td><a class=\"ProveItLink\" href=\"../../axioms/49bb1f405794652bcc9227fccd89214dff2db63a0/expr.ipynb\"><img src=\"../../axioms/49bb1f405794652bcc9227fccd89214dff2db63a0/expr.png\" style=\"display:inline;vertical-align:middle;\" /></a></td></tr>\n",
       "<tr><td>16</td><td>Operation</td><td>operator:&nbsp;29<br>operand:&nbsp;23<br></td><td><a class=\"ProveItLink\" href=\"../../../../__pv_it/common/133ac00fe58669eb9caf707029e78ad2443dad960/expr.ipynb\"><img src=\"../../../../__pv_it/common/133ac00fe58669eb9caf707029e78ad2443dad960/expr.png\" style=\"display:inline;vertical-align:middle;\" /></a></td></tr>\n",
       "<tr><td>17</td><td>Operation</td><td>operator:&nbsp;20<br>operands:&nbsp;21<br></td><td><a class=\"ProveItLink\" href=\"../../axioms/d9b66d5043cf5aeb98fe74ff1f81a90fed7caa790/expr.ipynb\"><img src=\"../../axioms/d9b66d5043cf5aeb98fe74ff1f81a90fed7caa790/expr.png\" style=\"display:inline;vertical-align:middle;\" /></a></td></tr>\n",
       "<tr><td>18</td><td>ExprTuple</td><td>42, 22</td><td><a class=\"ProveItLink\" href=\"../../axioms/88b0792c261e12d2e1496daec96a3df2a46350e40/expr.ipynb\"><img src=\"../../axioms/88b0792c261e12d2e1496daec96a3df2a46350e40/expr.png\" style=\"display:inline;vertical-align:middle;\" /></a></td></tr>\n",
       "<tr><td>19</td><td>ExprTuple</td><td>23</td><td><a class=\"ProveItLink\" href=\"../../../../../../numbers/number_sets/natural_numbers/__pv_it/common/2048ac4936a0fdafec65dc88dd04b24596ab2f8b0/expr.ipynb\"><img src=\"../../../../../../numbers/number_sets/natural_numbers/__pv_it/common/2048ac4936a0fdafec65dc88dd04b24596ab2f8b0/expr.png\" style=\"display:inline;vertical-align:middle;\" /></a></td></tr>\n",
       "<tr><td>20</td><td>Literal</td><td></td><td><a class=\"ProveItLink\" href=\"../../../../../../linear_algebra/scalar_multiplication/__pv_it/common/1e364bd471e6a29fcd358dd2d9cd990a1e6fedd40/expr.ipynb\"><img src=\"../../../../../../linear_algebra/scalar_multiplication/__pv_it/common/1e364bd471e6a29fcd358dd2d9cd990a1e6fedd40/expr.png\" style=\"display:inline;vertical-align:middle;\" /></a></td></tr>\n",
       "<tr><td>21</td><td>ExprTuple</td><td>24, 25</td><td><a class=\"ProveItLink\" href=\"../../axioms/50e90a2035945e822f62ba6ce3516e6ad0e7092e0/expr.ipynb\"><img src=\"../../axioms/50e90a2035945e822f62ba6ce3516e6ad0e7092e0/expr.png\" style=\"display:inline;vertical-align:middle;\" /></a></td></tr>\n",
       "<tr><td>22</td><td>Operation</td><td>operator:&nbsp;26<br>operands:&nbsp;27<br></td><td><a class=\"ProveItLink\" href=\"../../axioms/41c7e8d55de04e24c56503fbffe6ac0318a53f990/expr.ipynb\"><img src=\"../../axioms/41c7e8d55de04e24c56503fbffe6ac0318a53f990/expr.png\" style=\"display:inline;vertical-align:middle;\" /></a></td></tr>\n",
       "<tr><td>23</td><td>Literal</td><td></td><td><a class=\"ProveItLink\" href=\"../../../../../../numbers/numerals/__pv_it/common/dd4e19e8b134dfb293470ea55fe3589b0ab9f8040/expr.ipynb\"><img src=\"../../../../../../numbers/numerals/__pv_it/common/dd4e19e8b134dfb293470ea55fe3589b0ab9f8040/expr.png\" style=\"display:inline;vertical-align:middle;\" /></a></td></tr>\n",
       "<tr><td>24</td><td>Operation</td><td>operator:&nbsp;40<br>operands:&nbsp;28<br></td><td><a class=\"ProveItLink\" href=\"../../axioms/915d6b246a621ca8a22beafe5ef7c233301da18b0/expr.ipynb\"><img src=\"../../axioms/915d6b246a621ca8a22beafe5ef7c233301da18b0/expr.png\" style=\"display:inline;vertical-align:middle;\" /></a></td></tr>\n",
       "<tr><td>25</td><td>Operation</td><td>operator:&nbsp;29<br>operand:&nbsp;33<br></td><td><a class=\"ProveItLink\" href=\"../../../../__pv_it/common/57cbcececeb3a772f3462a38bcf9836042f3091f0/expr.ipynb\"><img src=\"../../../../__pv_it/common/57cbcececeb3a772f3462a38bcf9836042f3091f0/expr.png\" style=\"display:inline;vertical-align:middle;\" /></a></td></tr>\n",
       "<tr><td>26</td><td>Literal</td><td></td><td><a class=\"ProveItLink\" href=\"../../../../../../numbers/division/__pv_it/common/a2a633e1e3c749fb1f2692466b287b6348c5de840/expr.ipynb\"><img src=\"../../../../../../numbers/division/__pv_it/common/a2a633e1e3c749fb1f2692466b287b6348c5de840/expr.png\" style=\"display:inline;vertical-align:middle;\" /></a></td></tr>\n",
       "<tr><td>27</td><td>ExprTuple</td><td>33, 42</td><td><a class=\"ProveItLink\" href=\"../../../../../../numbers/numerals/decimals/__pv_it/theorems/df23a04353373623cccbfda09b61e0f594aa791a0/expr.ipynb\"><img src=\"../../../../../../numbers/numerals/decimals/__pv_it/theorems/df23a04353373623cccbfda09b61e0f594aa791a0/expr.png\" style=\"display:inline;vertical-align:middle;\" /></a></td></tr>\n",
       "<tr><td>28</td><td>ExprTuple</td><td>31, 32</td><td><a class=\"ProveItLink\" href=\"../../axioms/e019c784df3cea6a3d5671357ef2cd00d481e37f0/expr.ipynb\"><img src=\"../../axioms/e019c784df3cea6a3d5671357ef2cd00d481e37f0/expr.png\" style=\"display:inline;vertical-align:middle;\" /></a></td></tr>\n",
       "<tr><td>29</td><td>Literal</td><td></td><td><a class=\"ProveItLink\" href=\"../../../../algebra/__pv_it/common/e3872951fe05b26090372918594af92cac779e280/expr.ipynb\"><img src=\"../../../../algebra/__pv_it/common/e3872951fe05b26090372918594af92cac779e280/expr.png\" style=\"display:inline;vertical-align:middle;\" /></a></td></tr>\n",
       "<tr><td>30</td><td>ExprTuple</td><td>33</td><td><a class=\"ProveItLink\" href=\"../../../../__pv_it/common/b9e4f0dffece176bbe2f36127440684a20e0468e0/expr.ipynb\"><img src=\"../../../../__pv_it/common/b9e4f0dffece176bbe2f36127440684a20e0468e0/expr.png\" style=\"display:inline;vertical-align:middle;\" /></a></td></tr>\n",
       "<tr><td>31</td><td>Literal</td><td></td><td><a class=\"ProveItLink\" href=\"../../../../../../numbers/number_sets/real_numbers/__pv_it/common/e531ffa54fd897084533764a4a14f19f590674f80/expr.ipynb\"><img src=\"../../../../../../numbers/number_sets/real_numbers/__pv_it/common/e531ffa54fd897084533764a4a14f19f590674f80/expr.png\" style=\"display:inline;vertical-align:middle;\" /></a></td></tr>\n",
       "<tr><td>32</td><td>Operation</td><td>operator:&nbsp;34<br>operands:&nbsp;35<br></td><td><a class=\"ProveItLink\" href=\"../../axioms/593a2810319cbd2ac8071c26627b564d1652d7d70/expr.ipynb\"><img src=\"../../axioms/593a2810319cbd2ac8071c26627b564d1652d7d70/expr.png\" style=\"display:inline;vertical-align:middle;\" /></a></td></tr>\n",
       "<tr><td>33</td><td>Literal</td><td></td><td><a class=\"ProveItLink\" href=\"../../../../../../numbers/numerals/__pv_it/common/682157d4892d216d9e5626ed533aff9b56b9506e0/expr.ipynb\"><img src=\"../../../../../../numbers/numerals/__pv_it/common/682157d4892d216d9e5626ed533aff9b56b9506e0/expr.png\" style=\"display:inline;vertical-align:middle;\" /></a></td></tr>\n",
       "<tr><td>34</td><td>Literal</td><td></td><td><a class=\"ProveItLink\" href=\"../../../../../../numbers/multiplication/__pv_it/common/ed719cef37831779c16481533a4d380a2f95ab270/expr.ipynb\"><img src=\"../../../../../../numbers/multiplication/__pv_it/common/ed719cef37831779c16481533a4d380a2f95ab270/expr.png\" style=\"display:inline;vertical-align:middle;\" /></a></td></tr>\n",
       "<tr><td>35</td><td>ExprTuple</td><td>42, 36, 37, 38, 39</td><td><a class=\"ProveItLink\" href=\"../../axioms/0d58289718a8d3538f02b655a07cc5b8d59b41ab0/expr.ipynb\"><img src=\"../../axioms/0d58289718a8d3538f02b655a07cc5b8d59b41ab0/expr.png\" style=\"display:inline;vertical-align:middle;\" /></a></td></tr>\n",
       "<tr><td>36</td><td>Literal</td><td></td><td><a class=\"ProveItLink\" href=\"../../../../../../numbers/number_sets/real_numbers/__pv_it/common/246c206266ac5b48800e508d580f91767b24c2df0/expr.ipynb\"><img src=\"../../../../../../numbers/number_sets/real_numbers/__pv_it/common/246c206266ac5b48800e508d580f91767b24c2df0/expr.png\" style=\"display:inline;vertical-align:middle;\" /></a></td></tr>\n",
       "<tr><td>37</td><td>Literal</td><td></td><td><a class=\"ProveItLink\" href=\"../../../../../../numbers/number_sets/complex_numbers/__pv_it/common/6c9cc69d472f352324c298b2318df233e9a7e0250/expr.ipynb\"><img src=\"../../../../../../numbers/number_sets/complex_numbers/__pv_it/common/6c9cc69d472f352324c298b2318df233e9a7e0250/expr.png\" style=\"display:inline;vertical-align:middle;\" /></a></td></tr>\n",
       "<tr><td>38</td><td>Operation</td><td>operator:&nbsp;40<br>operands:&nbsp;41<br></td><td><a class=\"ProveItLink\" href=\"../../axioms/6aaefb11a48ef527fac0302200ab58525f3e08470/expr.ipynb\"><img src=\"../../axioms/6aaefb11a48ef527fac0302200ab58525f3e08470/expr.png\" style=\"display:inline;vertical-align:middle;\" /></a></td></tr>\n",
       "<tr><td>39</td><td>Literal</td><td></td><td><a class=\"ProveItLink\" href=\"../../common/d5e43a4a06cc3c8384d7262f5d019bed24f240ea0/expr.ipynb\"><img src=\"../../common/d5e43a4a06cc3c8384d7262f5d019bed24f240ea0/expr.png\" style=\"display:inline;vertical-align:middle;\" /></a></td></tr>\n",
       "<tr><td>40</td><td>Literal</td><td></td><td><a class=\"ProveItLink\" href=\"../../../../../../numbers/exponentiation/__pv_it/common/0ac37aca1e54c35c5cda09672df32d4f69f1f3020/expr.ipynb\"><img src=\"../../../../../../numbers/exponentiation/__pv_it/common/0ac37aca1e54c35c5cda09672df32d4f69f1f3020/expr.png\" style=\"display:inline;vertical-align:middle;\" /></a></td></tr>\n",
       "<tr><td>41</td><td>ExprTuple</td><td>42, 43</td><td><a class=\"ProveItLink\" href=\"../../axioms/b3655b5a38beb570d991cd84bc6e56af2b1e13b10/expr.ipynb\"><img src=\"../../axioms/b3655b5a38beb570d991cd84bc6e56af2b1e13b10/expr.png\" style=\"display:inline;vertical-align:middle;\" /></a></td></tr>\n",
       "<tr><td>42</td><td>Literal</td><td></td><td><a class=\"ProveItLink\" href=\"../../../../../../numbers/numerals/__pv_it/common/af4aab8a07465db063742696e006d04670f30cf10/expr.ipynb\"><img src=\"../../../../../../numbers/numerals/__pv_it/common/af4aab8a07465db063742696e006d04670f30cf10/expr.png\" style=\"display:inline;vertical-align:middle;\" /></a></td></tr>\n",
       "<tr><td>43</td><td>Operation</td><td>operator:&nbsp;44<br>operand:&nbsp;46<br></td><td><a class=\"ProveItLink\" href=\"../../axioms/c5fcfcf5e2b9e5cd64c6510e278a376a70a576380/expr.ipynb\"><img src=\"../../axioms/c5fcfcf5e2b9e5cd64c6510e278a376a70a576380/expr.png\" style=\"display:inline;vertical-align:middle;\" /></a></td></tr>\n",
       "<tr><td>44</td><td>Literal</td><td></td><td><a class=\"ProveItLink\" href=\"../../../../../../numbers/negation/__pv_it/common/221b3c4d1770ee9051b7c044c3f9ec61196fc34b0/expr.ipynb\"><img src=\"../../../../../../numbers/negation/__pv_it/common/221b3c4d1770ee9051b7c044c3f9ec61196fc34b0/expr.png\" style=\"display:inline;vertical-align:middle;\" /></a></td></tr>\n",
       "<tr><td>45</td><td>ExprTuple</td><td>46</td><td><a class=\"ProveItLink\" href=\"../../common/4b0dd6be36d76552eda6a95d5b4a27f5a5b62f900/expr.ipynb\"><img src=\"../../common/4b0dd6be36d76552eda6a95d5b4a27f5a5b62f900/expr.png\" style=\"display:inline;vertical-align:middle;\" /></a></td></tr>\n",
       "<tr><td>46</td><td>Variable</td><td></td><td><a class=\"ProveItLink\" href=\"../../common/006c465e50948aa2b52285e2de47974f741255cc0/expr.ipynb\"><img src=\"../../common/006c465e50948aa2b52285e2de47974f741255cc0/expr.png\" style=\"display:inline;vertical-align:middle;\" /></a></td></tr>\n",
       "</table>\n"
      ],
      "text/plain": [
       "0. |(((1 / sqrt(2)) * (|0〉 + (e^{2 * pi * i * 2^{-(-t)} * phase} * |1〉))), ((1 / sqrt(2)) * (|0〉 + (e^{2 * pi * i * 2^{-(-t + 1)} * phase} * |1〉))), ..., ((1 / sqrt(2)) * (|0〉 + (e^{2 * pi * i * 2^{-0} * phase} * |1〉))))|\n",
       "   core type: Operation\n",
       "   operator: 1\n",
       "   operands: 2\n",
       "1. length\n",
       "   core type: Literal\n",
       "   sub-expressions: \n",
       "2. (((1 / sqrt(2)) * (|0〉 + (e^{2 * pi * i * 2^{-(-t)} * phase} * |1〉))), ((1 / sqrt(2)) * (|0〉 + (e^{2 * pi * i * 2^{-(-t + 1)} * phase} * |1〉))), ..., ((1 / sqrt(2)) * (|0〉 + (e^{2 * pi * i * 2^{-0} * phase} * |1〉))))\n",
       "   core type: ExprTuple\n",
       "   sub-expressions: 3\n",
       "3. ((1 / sqrt(2)) * (|0〉 + (e^{2 * pi * i * 2^{-(-t)} * phase} * |1〉))), ((1 / sqrt(2)) * (|0〉 + (e^{2 * pi * i * 2^{-(-t + 1)} * phase} * |1〉))), ..., ((1 / sqrt(2)) * (|0〉 + (e^{2 * pi * i * 2^{-0} * phase} * |1〉)))\n",
       "   core type: ExprRange\n",
       "   lambda_map: 4\n",
       "   start_index: 5\n",
       "   end_index: 23\n",
       "4. _a -> ((1 / sqrt(2)) * (|0〉 + (e^{2 * pi * i * 2^{-_a} * phase} * |1〉)))\n",
       "   core type: Lambda\n",
       "   parameter: 46\n",
       "   body: 6\n",
       "5. -t\n",
       "   core type: Operation\n",
       "   operator: 44\n",
       "   operand: 9\n",
       "6. (1 / sqrt(2)) * (|0〉 + (e^{2 * pi * i * 2^{-_a} * phase} * |1〉))\n",
       "   core type: Operation\n",
       "   operator: 20\n",
       "   operands: 8\n",
       "7. (t)\n",
       "   core type: ExprTuple\n",
       "   sub-expressions: 9\n",
       "8. (1 / sqrt(2), |0〉 + (e^{2 * pi * i * 2^{-_a} * phase} * |1〉))\n",
       "   core type: ExprTuple\n",
       "   sub-expressions: 10, 11\n",
       "9. t\n",
       "   core type: Variable\n",
       "   sub-expressions: \n",
       "10. 1 / sqrt(2)\n",
       "    core type: Operation\n",
       "    operator: 26\n",
       "    operands: 12\n",
       "11. |0〉 + (e^{2 * pi * i * 2^{-_a} * phase} * |1〉)\n",
       "    core type: Operation\n",
       "    operator: 13\n",
       "    operands: 14\n",
       "12. (1, sqrt(2))\n",
       "    core type: ExprTuple\n",
       "    sub-expressions: 33, 15\n",
       "13. +\n",
       "    core type: Literal\n",
       "    sub-expressions: \n",
       "14. (|0〉, e^{2 * pi * i * 2^{-_a} * phase} * |1〉)\n",
       "    core type: ExprTuple\n",
       "    sub-expressions: 16, 17\n",
       "15. sqrt(2)\n",
       "    core type: Operation\n",
       "    operator: 40\n",
       "    operands: 18\n",
       "16. |0〉\n",
       "    core type: Operation\n",
       "    operator: 29\n",
       "    operand: 23\n",
       "17. e^{2 * pi * i * 2^{-_a} * phase} * |1〉\n",
       "    core type: Operation\n",
       "    operator: 20\n",
       "    operands: 21\n",
       "18. (2, 1 / 2)\n",
       "    core type: ExprTuple\n",
       "    sub-expressions: 42, 22\n",
       "19. (0)\n",
       "    core type: ExprTuple\n",
       "    sub-expressions: 23\n",
       "20. *\n",
       "    core type: Literal\n",
       "    sub-expressions: \n",
       "21. (e^{2 * pi * i * 2^{-_a} * phase}, |1〉)\n",
       "    core type: ExprTuple\n",
       "    sub-expressions: 24, 25\n",
       "22. 1 / 2\n",
       "    core type: Operation\n",
       "    operator: 26\n",
       "    operands: 27\n",
       "23. 0\n",
       "    core type: Literal\n",
       "    sub-expressions: \n",
       "24. e^{2 * pi * i * 2^{-_a} * phase}\n",
       "    core type: Operation\n",
       "    operator: 40\n",
       "    operands: 28\n",
       "25. |1〉\n",
       "    core type: Operation\n",
       "    operator: 29\n",
       "    operand: 33\n",
       "26. /\n",
       "    core type: Literal\n",
       "    sub-expressions: \n",
       "27. (1, 2)\n",
       "    core type: ExprTuple\n",
       "    sub-expressions: 33, 42\n",
       "28. (e, 2 * pi * i * 2^{-_a} * phase)\n",
       "    core type: ExprTuple\n",
       "    sub-expressions: 31, 32\n",
       "29. KET\n",
       "    core type: Literal\n",
       "    sub-expressions: \n",
       "30. (1)\n",
       "    core type: ExprTuple\n",
       "    sub-expressions: 33\n",
       "31. e\n",
       "    core type: Literal\n",
       "    sub-expressions: \n",
       "32. 2 * pi * i * 2^{-_a} * phase\n",
       "    core type: Operation\n",
       "    operator: 34\n",
       "    operands: 35\n",
       "33. 1\n",
       "    core type: Literal\n",
       "    sub-expressions: \n",
       "34. *\n",
       "    core type: Literal\n",
       "    sub-expressions: \n",
       "35. (2, pi, i, 2^{-_a}, phase)\n",
       "    core type: ExprTuple\n",
       "    sub-expressions: 42, 36, 37, 38, 39\n",
       "36. pi\n",
       "    core type: Literal\n",
       "    sub-expressions: \n",
       "37. i\n",
       "    core type: Literal\n",
       "    sub-expressions: \n",
       "38. 2^{-_a}\n",
       "    core type: Operation\n",
       "    operator: 40\n",
       "    operands: 41\n",
       "39. phase\n",
       "    core type: Literal\n",
       "    sub-expressions: \n",
       "40. Exp\n",
       "    core type: Literal\n",
       "    sub-expressions: \n",
       "41. (2, -_a)\n",
       "    core type: ExprTuple\n",
       "    sub-expressions: 42, 43\n",
       "42. 2\n",
       "    core type: Literal\n",
       "    sub-expressions: \n",
       "43. -_a\n",
       "    core type: Operation\n",
       "    operator: 44\n",
       "    operand: 46\n",
       "44. -\n",
       "    core type: Literal\n",
       "    sub-expressions: \n",
       "45. (_a)\n",
       "    core type: ExprTuple\n",
       "    sub-expressions: 46\n",
       "46. _a\n",
       "    core type: Variable\n",
       "    sub-expressions: "
      ]
     },
     "metadata": {},
     "output_type": "display_data"
    }
   ],
   "source": [
    "# display the expression information\n",
    "stored_expr.expr_info()"
   ]
  },
  {
   "cell_type": "code",
   "execution_count": null,
   "metadata": {},
   "outputs": [],
   "source": []
  }
 ],
 "metadata": {
  "kernelspec": {
   "display_name": "Python 3",
   "language": "python",
   "name": "python3"
  }
 },
 "nbformat": 4,
 "nbformat_minor": 0
}