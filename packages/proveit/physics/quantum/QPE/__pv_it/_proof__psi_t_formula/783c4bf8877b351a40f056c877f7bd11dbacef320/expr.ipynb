{
 "cells": [
  {
   "cell_type": "markdown",
   "metadata": {},
   "source": [
    "Expression of type <a class=\"ProveItLink\" href=\"../../../../../../../../doc/html/api/proveit.linear_algebra.ScalarMult.html\">ScalarMult</a>\n",
    "=======================\n",
    "# from the theory of <a class=\"ProveItLink\" href=\"../../../_theory_nbs_/theory.ipynb\">proveit.physics.quantum.QPE</a>"
   ]
  },
  {
   "cell_type": "code",
   "execution_count": 1,
   "metadata": {},
   "outputs": [],
   "source": [
    "import proveit\n",
    "# Automation is not needed when building an expression:\n",
    "proveit.defaults.automation = False # This will speed things up.\n",
    "proveit.defaults.inline_pngs = False # Makes files smaller.\n",
    "%load_expr # Load the stored expression as 'stored_expr'\n",
    "# import Expression classes needed to build the expression\n",
    "from proveit import Variable, k, t\n",
    "from proveit.linear_algebra import ScalarMult\n",
    "from proveit.numbers import Add, Exp, e, one\n",
    "from proveit.physics.quantum import NumKet\n",
    "from proveit.physics.quantum.QPE import two_pow_t"
   ]
  },
  {
   "cell_type": "code",
   "execution_count": 2,
   "metadata": {},
   "outputs": [
    {
     "data": {
      "text/html": [
       "<strong id=\"expr\">expr:</strong> <a class=\"ProveItLink\" href=\"expr.ipynb\"><img src=\"expr.png\" style=\"display:inline;vertical-align:middle;\" /></a><br>"
      ],
      "text/plain": [
       "<IPython.core.display.HTML object>"
      ]
     },
     "metadata": {},
     "output_type": "display_data"
    }
   ],
   "source": [
    "# build up the expression from sub-expressions\n",
    "expr = ScalarMult(Exp(e, Variable(\"_a\", latex_format = r\"{_{-}a}\")), NumKet(Add(k, two_pow_t), Add(t, one)))"
   ]
  },
  {
   "cell_type": "code",
   "execution_count": 3,
   "metadata": {},
   "outputs": [
    {
     "name": "stdout",
     "output_type": "stream",
     "text": [
      "Passed sanity check: expr matches stored_expr\n"
     ]
    }
   ],
   "source": [
    "# check that the built expression is the same as the stored expression\n",
    "assert expr == stored_expr\n",
    "assert expr._style_id == stored_expr._style_id\n",
    "print(\"Passed sanity check: expr matches stored_expr\")"
   ]
  },
  {
   "cell_type": "code",
   "execution_count": 4,
   "metadata": {},
   "outputs": [
    {
     "name": "stdout",
     "output_type": "stream",
     "text": [
      "\\mathsf{e}^{{_{-}a}} \\cdot \\lvert k + 2^{t} \\rangle_{t + 1}\n"
     ]
    }
   ],
   "source": [
    "# Show the LaTeX representation of the expression for convenience if you need it.\n",
    "print(stored_expr.latex())"
   ]
  },
  {
   "cell_type": "code",
   "execution_count": 5,
   "metadata": {},
   "outputs": [
    {
     "data": {
      "text/html": [
       "<table>\n",
       "<tr><th>name</th><th>description</th><th>default</th><th>current value</th><th>related methods</th></tr><tr><td>operation</td><td>'infix' or 'function' style formatting</td><td>infix</td><td>infix</td><td></td></tr>\n",
       "<tr><td>wrap_positions</td><td>position(s) at which wrapping is to occur; '2 n - 1' is after the nth operand, '2 n' is after the nth operation.</td><td>()</td><td>()</td><td>('with_wrapping_at', 'with_wrap_before_operator', 'with_wrap_after_operator', 'without_wrapping', 'wrap_positions')</td></tr>\n",
       "<tr><td>justification</td><td>if any wrap positions are set, justify to the 'left', 'center', or 'right'</td><td>center</td><td>center</td><td>('with_justification',)</td></tr>\n",
       "</table>\n"
      ],
      "text/plain": [
       "style name: operation\n",
       "description: 'infix' or 'function' style formatting\n",
       "default: infix\n",
       "current value: infix\n",
       "related methods: ()\n",
       "style name: wrap_positions\n",
       "description: position(s) at which wrapping is to occur; '2 n - 1' is after the nth operand, '2 n' is after the nth operation.\n",
       "default: ()\n",
       "current value: ()\n",
       "related methods: ('with_wrapping_at', 'with_wrap_before_operator', 'with_wrap_after_operator', 'without_wrapping', 'wrap_positions')\n",
       "style name: justification\n",
       "description: if any wrap positions are set, justify to the 'left', 'center', or 'right'\n",
       "default: center\n",
       "current value: center\n",
       "related methods: ('with_justification',)"
      ]
     },
     "metadata": {},
     "output_type": "display_data"
    }
   ],
   "source": [
    "stored_expr.style_options()"
   ]
  },
  {
   "cell_type": "code",
   "execution_count": 6,
   "metadata": {},
   "outputs": [
    {
     "data": {
      "text/html": [
       "<table><tr><th>&nbsp;</th><th>core type</th><th>sub-expressions</th><th>expression</th></tr>\n",
       "<tr><td>0</td><td>Operation</td><td>operator:&nbsp;1<br>operands:&nbsp;2<br></td><td><a class=\"ProveItLink\" href=\"expr.ipynb\"><img src=\"expr.png\" style=\"display:inline;vertical-align:middle;\" /></a></td></tr>\n",
       "<tr><td>1</td><td>Literal</td><td></td><td><a class=\"ProveItLink\" href=\"../../../../../../linear_algebra/scalar_multiplication/__pv_it/common/1e364bd471e6a29fcd358dd2d9cd990a1e6fedd40/expr.ipynb\"><img src=\"../../../../../../linear_algebra/scalar_multiplication/__pv_it/common/1e364bd471e6a29fcd358dd2d9cd990a1e6fedd40/expr.png\" style=\"display:inline;vertical-align:middle;\" /></a></td></tr>\n",
       "<tr><td>2</td><td>ExprTuple</td><td>3, 4</td><td><a class=\"ProveItLink\" href=\"../10bf5f2adf549d53c9b45cba916d542f9cda1e070/expr.ipynb\"><img src=\"../10bf5f2adf549d53c9b45cba916d542f9cda1e070/expr.png\" style=\"display:inline;vertical-align:middle;\" /></a></td></tr>\n",
       "<tr><td>3</td><td>Operation</td><td>operator:&nbsp;18<br>operands:&nbsp;5<br></td><td><a class=\"ProveItLink\" href=\"../b17d0b8b404944b9df46d1fbedd7100cee171a200/expr.ipynb\"><img src=\"../b17d0b8b404944b9df46d1fbedd7100cee171a200/expr.png\" style=\"display:inline;vertical-align:middle;\" /></a></td></tr>\n",
       "<tr><td>4</td><td>Operation</td><td>operator:&nbsp;6<br>operands:&nbsp;7<br></td><td><a class=\"ProveItLink\" href=\"../88adb8d1d06b09c1ca83f8fc6a162cbe29d6350e0/expr.ipynb\"><img src=\"../88adb8d1d06b09c1ca83f8fc6a162cbe29d6350e0/expr.png\" style=\"display:inline;vertical-align:middle;\" /></a></td></tr>\n",
       "<tr><td>5</td><td>ExprTuple</td><td>8, 9</td><td><a class=\"ProveItLink\" href=\"../a34c9e234722a07173a3ee381821cf845a8f6ab40/expr.ipynb\"><img src=\"../a34c9e234722a07173a3ee381821cf845a8f6ab40/expr.png\" style=\"display:inline;vertical-align:middle;\" /></a></td></tr>\n",
       "<tr><td>6</td><td>Literal</td><td></td><td><a class=\"ProveItLink\" href=\"../../../../algebra/__pv_it/common/8fae26fc802d6e77100c911db42f2d3784cdc7330/expr.ipynb\"><img src=\"../../../../algebra/__pv_it/common/8fae26fc802d6e77100c911db42f2d3784cdc7330/expr.png\" style=\"display:inline;vertical-align:middle;\" /></a></td></tr>\n",
       "<tr><td>7</td><td>ExprTuple</td><td>10, 11</td><td><a class=\"ProveItLink\" href=\"../87b58501e7925025c450925465eb1cfcfb8e06560/expr.ipynb\"><img src=\"../87b58501e7925025c450925465eb1cfcfb8e06560/expr.png\" style=\"display:inline;vertical-align:middle;\" /></a></td></tr>\n",
       "<tr><td>8</td><td>Literal</td><td></td><td><a class=\"ProveItLink\" href=\"../../../../../../numbers/number_sets/real_numbers/__pv_it/common/e531ffa54fd897084533764a4a14f19f590674f80/expr.ipynb\"><img src=\"../../../../../../numbers/number_sets/real_numbers/__pv_it/common/e531ffa54fd897084533764a4a14f19f590674f80/expr.png\" style=\"display:inline;vertical-align:middle;\" /></a></td></tr>\n",
       "<tr><td>9</td><td>Variable</td><td></td><td><a class=\"ProveItLink\" href=\"../../../../../../core_expr_types/__pv_it/common/006c465e50948aa2b52285e2de47974f741255cc0/expr.ipynb\"><img src=\"../../../../../../core_expr_types/__pv_it/common/006c465e50948aa2b52285e2de47974f741255cc0/expr.png\" style=\"display:inline;vertical-align:middle;\" /></a></td></tr>\n",
       "<tr><td>10</td><td>Operation</td><td>operator:&nbsp;13<br>operands:&nbsp;12<br></td><td><a class=\"ProveItLink\" href=\"../19d030598b600628408ba252c27e6298046b5a0d0/expr.ipynb\"><img src=\"../19d030598b600628408ba252c27e6298046b5a0d0/expr.png\" style=\"display:inline;vertical-align:middle;\" /></a></td></tr>\n",
       "<tr><td>11</td><td>Operation</td><td>operator:&nbsp;13<br>operands:&nbsp;14<br></td><td><a class=\"ProveItLink\" href=\"../da3a9b7cb1fc73dc54679e3aad35b8e91b8d8f820/expr.ipynb\"><img src=\"../da3a9b7cb1fc73dc54679e3aad35b8e91b8d8f820/expr.png\" style=\"display:inline;vertical-align:middle;\" /></a></td></tr>\n",
       "<tr><td>12</td><td>ExprTuple</td><td>15, 16</td><td><a class=\"ProveItLink\" href=\"../39a59b526275468e8771a48c54e9b924533277ca0/expr.ipynb\"><img src=\"../39a59b526275468e8771a48c54e9b924533277ca0/expr.png\" style=\"display:inline;vertical-align:middle;\" /></a></td></tr>\n",
       "<tr><td>13</td><td>Literal</td><td></td><td><a class=\"ProveItLink\" href=\"../../../../../../numbers/addition/__pv_it/common/4b7effaab3619a1c2c38fe2dee8601df8ec714590/expr.ipynb\"><img src=\"../../../../../../numbers/addition/__pv_it/common/4b7effaab3619a1c2c38fe2dee8601df8ec714590/expr.png\" style=\"display:inline;vertical-align:middle;\" /></a></td></tr>\n",
       "<tr><td>14</td><td>ExprTuple</td><td>21, 17</td><td><a class=\"ProveItLink\" href=\"../163d7569c6c27dcd1ee82c5775d619290779899c0/expr.ipynb\"><img src=\"../163d7569c6c27dcd1ee82c5775d619290779899c0/expr.png\" style=\"display:inline;vertical-align:middle;\" /></a></td></tr>\n",
       "<tr><td>15</td><td>Variable</td><td></td><td><a class=\"ProveItLink\" href=\"../../../../../../__pv_it/common/63b7c64bf9ec7a04ecc396c7a1670f3f12fb59490/expr.ipynb\"><img src=\"../../../../../../__pv_it/common/63b7c64bf9ec7a04ecc396c7a1670f3f12fb59490/expr.png\" style=\"display:inline;vertical-align:middle;\" /></a></td></tr>\n",
       "<tr><td>16</td><td>Operation</td><td>operator:&nbsp;18<br>operands:&nbsp;19<br></td><td><a class=\"ProveItLink\" href=\"../../common/a014d9681ed5f22f1d322e1e6f8f6a29a72641620/expr.ipynb\"><img src=\"../../common/a014d9681ed5f22f1d322e1e6f8f6a29a72641620/expr.png\" style=\"display:inline;vertical-align:middle;\" /></a></td></tr>\n",
       "<tr><td>17</td><td>Literal</td><td></td><td><a class=\"ProveItLink\" href=\"../../../../../../numbers/numerals/__pv_it/common/682157d4892d216d9e5626ed533aff9b56b9506e0/expr.ipynb\"><img src=\"../../../../../../numbers/numerals/__pv_it/common/682157d4892d216d9e5626ed533aff9b56b9506e0/expr.png\" style=\"display:inline;vertical-align:middle;\" /></a></td></tr>\n",
       "<tr><td>18</td><td>Literal</td><td></td><td><a class=\"ProveItLink\" href=\"../../../../../../numbers/exponentiation/__pv_it/common/0ac37aca1e54c35c5cda09672df32d4f69f1f3020/expr.ipynb\"><img src=\"../../../../../../numbers/exponentiation/__pv_it/common/0ac37aca1e54c35c5cda09672df32d4f69f1f3020/expr.png\" style=\"display:inline;vertical-align:middle;\" /></a></td></tr>\n",
       "<tr><td>19</td><td>ExprTuple</td><td>20, 21</td><td><a class=\"ProveItLink\" href=\"../../common/620247c38a794b8e2a0fe6158f0aa55d8c4a68c60/expr.ipynb\"><img src=\"../../common/620247c38a794b8e2a0fe6158f0aa55d8c4a68c60/expr.png\" style=\"display:inline;vertical-align:middle;\" /></a></td></tr>\n",
       "<tr><td>20</td><td>Literal</td><td></td><td><a class=\"ProveItLink\" href=\"../../../../../../numbers/numerals/__pv_it/common/af4aab8a07465db063742696e006d04670f30cf10/expr.ipynb\"><img src=\"../../../../../../numbers/numerals/__pv_it/common/af4aab8a07465db063742696e006d04670f30cf10/expr.png\" style=\"display:inline;vertical-align:middle;\" /></a></td></tr>\n",
       "<tr><td>21</td><td>Variable</td><td></td><td><a class=\"ProveItLink\" href=\"../../../../../../__pv_it/common/36861eae73a44b53d5b3b017ac6a3a9dae53bfba0/expr.ipynb\"><img src=\"../../../../../../__pv_it/common/36861eae73a44b53d5b3b017ac6a3a9dae53bfba0/expr.png\" style=\"display:inline;vertical-align:middle;\" /></a></td></tr>\n",
       "</table>\n"
      ],
      "text/plain": [
       "0. e^{_a} * |k + 2^{t}〉_{t + 1}\n",
       "   core type: Operation\n",
       "   operator: 1\n",
       "   operands: 2\n",
       "1. *\n",
       "   core type: Literal\n",
       "   sub-expressions: \n",
       "2. (e^{_a}, |k + 2^{t}〉_{t + 1})\n",
       "   core type: ExprTuple\n",
       "   sub-expressions: 3, 4\n",
       "3. e^{_a}\n",
       "   core type: Operation\n",
       "   operator: 18\n",
       "   operands: 5\n",
       "4. |k + 2^{t}〉_{t + 1}\n",
       "   core type: Operation\n",
       "   operator: 6\n",
       "   operands: 7\n",
       "5. (e, _a)\n",
       "   core type: ExprTuple\n",
       "   sub-expressions: 8, 9\n",
       "6. NUM_KET\n",
       "   core type: Literal\n",
       "   sub-expressions: \n",
       "7. (k + 2^{t}, t + 1)\n",
       "   core type: ExprTuple\n",
       "   sub-expressions: 10, 11\n",
       "8. e\n",
       "   core type: Literal\n",
       "   sub-expressions: \n",
       "9. _a\n",
       "   core type: Variable\n",
       "   sub-expressions: \n",
       "10. k + 2^{t}\n",
       "    core type: Operation\n",
       "    operator: 13\n",
       "    operands: 12\n",
       "11. t + 1\n",
       "    core type: Operation\n",
       "    operator: 13\n",
       "    operands: 14\n",
       "12. (k, 2^{t})\n",
       "    core type: ExprTuple\n",
       "    sub-expressions: 15, 16\n",
       "13. +\n",
       "    core type: Literal\n",
       "    sub-expressions: \n",
       "14. (t, 1)\n",
       "    core type: ExprTuple\n",
       "    sub-expressions: 21, 17\n",
       "15. k\n",
       "    core type: Variable\n",
       "    sub-expressions: \n",
       "16. 2^{t}\n",
       "    core type: Operation\n",
       "    operator: 18\n",
       "    operands: 19\n",
       "17. 1\n",
       "    core type: Literal\n",
       "    sub-expressions: \n",
       "18. Exp\n",
       "    core type: Literal\n",
       "    sub-expressions: \n",
       "19. (2, t)\n",
       "    core type: ExprTuple\n",
       "    sub-expressions: 20, 21\n",
       "20. 2\n",
       "    core type: Literal\n",
       "    sub-expressions: \n",
       "21. t\n",
       "    core type: Variable\n",
       "    sub-expressions: "
      ]
     },
     "metadata": {},
     "output_type": "display_data"
    }
   ],
   "source": [
    "# display the expression information\n",
    "stored_expr.expr_info()"
   ]
  },
  {
   "cell_type": "code",
   "execution_count": null,
   "metadata": {},
   "outputs": [],
   "source": []
  }
 ],
 "metadata": {
  "kernelspec": {
   "display_name": "Python 3",
   "language": "python",
   "name": "python3"
  }
 },
 "nbformat": 4,
 "nbformat_minor": 0
}