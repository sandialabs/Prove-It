{
 "cells": [
  {
   "cell_type": "markdown",
   "metadata": {},
   "source": [
    "Expression of type <a class=\"ProveItLink\" href=\"../../../../../../../../doc/html/api/proveit.ExprTuple.html\">ExprTuple</a>\n",
    "=======================\n",
    "# from the theory of <a class=\"ProveItLink\" href=\"../../../_theory_nbs_/theory.ipynb\">proveit.physics.quantum.QPE</a>"
   ]
  },
  {
   "cell_type": "code",
   "execution_count": 1,
   "metadata": {},
   "outputs": [],
   "source": [
    "import proveit\n",
    "# Automation is not needed when building an expression:\n",
    "proveit.defaults.automation = False # This will speed things up.\n",
    "proveit.defaults.inline_pngs = False # Makes files smaller.\n",
    "%load_expr # Load the stored expression as 'stored_expr'\n",
    "# import Expression classes needed to build the expression\n",
    "from proveit import ExprTuple, t\n",
    "from proveit.numbers import Exp, Mult, Neg, frac, one, two"
   ]
  },
  {
   "cell_type": "code",
   "execution_count": 2,
   "metadata": {},
   "outputs": [
    {
     "data": {
      "text/html": [
       "<strong id=\"expr\">expr:</strong> <a class=\"ProveItLink\" href=\"expr.ipynb\"><img src=\"expr.png\" style=\"display:inline;vertical-align:middle;\" /></a><br>"
      ],
      "text/plain": [
       "<IPython.core.display.HTML object>"
      ]
     },
     "metadata": {},
     "output_type": "display_data"
    }
   ],
   "source": [
    "# build up the expression from sub-expressions\n",
    "sub_expr1 = frac(one, two)\n",
    "sub_expr2 = Exp(two, Neg(sub_expr1))\n",
    "expr = ExprTuple(Mult(sub_expr2, frac(one, Exp(two, frac(t, two)))), Mult(sub_expr2, Exp(two, Neg(Mult(sub_expr1, t)))))"
   ]
  },
  {
   "cell_type": "code",
   "execution_count": 3,
   "metadata": {},
   "outputs": [
    {
     "name": "stdout",
     "output_type": "stream",
     "text": [
      "Passed sanity check: expr matches stored_expr\n"
     ]
    }
   ],
   "source": [
    "# check that the built expression is the same as the stored expression\n",
    "assert expr == stored_expr\n",
    "assert expr._style_id == stored_expr._style_id\n",
    "print(\"Passed sanity check: expr matches stored_expr\")"
   ]
  },
  {
   "cell_type": "code",
   "execution_count": 4,
   "metadata": {},
   "outputs": [
    {
     "name": "stdout",
     "output_type": "stream",
     "text": [
      "\\left(2^{-\\frac{1}{2}} \\cdot \\frac{1}{2^{\\frac{t}{2}}}, 2^{-\\frac{1}{2}} \\cdot 2^{-\\left(\\frac{1}{2} \\cdot t\\right)}\\right)\n"
     ]
    }
   ],
   "source": [
    "# Show the LaTeX representation of the expression for convenience if you need it.\n",
    "print(stored_expr.latex())"
   ]
  },
  {
   "cell_type": "code",
   "execution_count": 5,
   "metadata": {},
   "outputs": [
    {
     "data": {
      "text/html": [
       "<table>\n",
       "<tr><th>name</th><th>description</th><th>default</th><th>current value</th><th>related methods</th></tr><tr><td>wrap_positions</td><td>position(s) at which wrapping is to occur; 'n' is after the nth comma.</td><td>()</td><td>()</td><td>('with_wrapping_at',)</td></tr>\n",
       "<tr><td>justification</td><td>if any wrap positions are set, justify to the 'left', 'center', or 'right'</td><td>left</td><td>left</td><td>('with_justification',)</td></tr>\n",
       "</table>\n"
      ],
      "text/plain": [
       "style name: wrap_positions\n",
       "description: position(s) at which wrapping is to occur; 'n' is after the nth comma.\n",
       "default: ()\n",
       "current value: ()\n",
       "related methods: ('with_wrapping_at',)\n",
       "style name: justification\n",
       "description: if any wrap positions are set, justify to the 'left', 'center', or 'right'\n",
       "default: left\n",
       "current value: left\n",
       "related methods: ('with_justification',)"
      ]
     },
     "metadata": {},
     "output_type": "display_data"
    }
   ],
   "source": [
    "stored_expr.style_options()"
   ]
  },
  {
   "cell_type": "code",
   "execution_count": 6,
   "metadata": {},
   "outputs": [
    {
     "data": {
      "text/html": [
       "<table><tr><th>&nbsp;</th><th>core type</th><th>sub-expressions</th><th>expression</th></tr>\n",
       "<tr><td>0</td><td>ExprTuple</td><td>1, 2</td><td><a class=\"ProveItLink\" href=\"expr.ipynb\"><img src=\"expr.png\" style=\"display:inline;vertical-align:middle;\" /></a></td></tr>\n",
       "<tr><td>1</td><td>Operation</td><td>operator:&nbsp;22<br>operands:&nbsp;3<br></td><td><a class=\"ProveItLink\" href=\"../cb345d386513a07db5abe24168ed453a7f90bc190/expr.ipynb\"><img src=\"../cb345d386513a07db5abe24168ed453a7f90bc190/expr.png\" style=\"display:inline;vertical-align:middle;\" /></a></td></tr>\n",
       "<tr><td>2</td><td>Operation</td><td>operator:&nbsp;22<br>operands:&nbsp;4<br></td><td><a class=\"ProveItLink\" href=\"../1c83b8cacda4d0e19f599e7d276aeaa078942a040/expr.ipynb\"><img src=\"../1c83b8cacda4d0e19f599e7d276aeaa078942a040/expr.png\" style=\"display:inline;vertical-align:middle;\" /></a></td></tr>\n",
       "<tr><td>3</td><td>ExprTuple</td><td>6, 5</td><td><a class=\"ProveItLink\" href=\"../efe83d69a0b70f4f4b000e8b628ba8a938cd23ed0/expr.ipynb\"><img src=\"../efe83d69a0b70f4f4b000e8b628ba8a938cd23ed0/expr.png\" style=\"display:inline;vertical-align:middle;\" /></a></td></tr>\n",
       "<tr><td>4</td><td>ExprTuple</td><td>6, 7</td><td><a class=\"ProveItLink\" href=\"../cc40f9986c8b5971403d8ed01d4031ee2dd1b3f60/expr.ipynb\"><img src=\"../cc40f9986c8b5971403d8ed01d4031ee2dd1b3f60/expr.png\" style=\"display:inline;vertical-align:middle;\" /></a></td></tr>\n",
       "<tr><td>5</td><td>Operation</td><td>operator:&nbsp;26<br>operands:&nbsp;8<br></td><td><a class=\"ProveItLink\" href=\"../../theorems/e1335dc84938ff84b34851a159fc6a3a7c8e0ff40/expr.ipynb\"><img src=\"../../theorems/e1335dc84938ff84b34851a159fc6a3a7c8e0ff40/expr.png\" style=\"display:inline;vertical-align:middle;\" /></a></td></tr>\n",
       "<tr><td>6</td><td>Operation</td><td>operator:&nbsp;14<br>operands:&nbsp;9<br></td><td><a class=\"ProveItLink\" href=\"../f78410a4bdcc9074065fe244b8d35a171035af6c0/expr.ipynb\"><img src=\"../f78410a4bdcc9074065fe244b8d35a171035af6c0/expr.png\" style=\"display:inline;vertical-align:middle;\" /></a></td></tr>\n",
       "<tr><td>7</td><td>Operation</td><td>operator:&nbsp;14<br>operands:&nbsp;10<br></td><td><a class=\"ProveItLink\" href=\"../e1fdf6cc62236f0e6f0b6a3ade0b101e4da8ea550/expr.ipynb\"><img src=\"../e1fdf6cc62236f0e6f0b6a3ade0b101e4da8ea550/expr.png\" style=\"display:inline;vertical-align:middle;\" /></a></td></tr>\n",
       "<tr><td>8</td><td>ExprTuple</td><td>28, 11</td><td><a class=\"ProveItLink\" href=\"../../theorems/4c2dbeed01d10720c52f9f206c1bf4f0624c0ed60/expr.ipynb\"><img src=\"../../theorems/4c2dbeed01d10720c52f9f206c1bf4f0624c0ed60/expr.png\" style=\"display:inline;vertical-align:middle;\" /></a></td></tr>\n",
       "<tr><td>9</td><td>ExprTuple</td><td>29, 12</td><td><a class=\"ProveItLink\" href=\"../1daa4c82cbd524646e10ca6f7fafcf89d8bdff260/expr.ipynb\"><img src=\"../1daa4c82cbd524646e10ca6f7fafcf89d8bdff260/expr.png\" style=\"display:inline;vertical-align:middle;\" /></a></td></tr>\n",
       "<tr><td>10</td><td>ExprTuple</td><td>29, 13</td><td><a class=\"ProveItLink\" href=\"../0a2a06a5fff8e86f3b0e367ca0e6170bf060cdc20/expr.ipynb\"><img src=\"../0a2a06a5fff8e86f3b0e367ca0e6170bf060cdc20/expr.png\" style=\"display:inline;vertical-align:middle;\" /></a></td></tr>\n",
       "<tr><td>11</td><td>Operation</td><td>operator:&nbsp;14<br>operands:&nbsp;15<br></td><td><a class=\"ProveItLink\" href=\"../../theorems/b8c4b453769348db4e411547c30e672245b7adff0/expr.ipynb\"><img src=\"../../theorems/b8c4b453769348db4e411547c30e672245b7adff0/expr.png\" style=\"display:inline;vertical-align:middle;\" /></a></td></tr>\n",
       "<tr><td>12</td><td>Operation</td><td>operator:&nbsp;17<br>operand:&nbsp;24<br></td><td><a class=\"ProveItLink\" href=\"../3ce6f9336d374c0140b90a243562b509469a57da0/expr.ipynb\"><img src=\"../3ce6f9336d374c0140b90a243562b509469a57da0/expr.png\" style=\"display:inline;vertical-align:middle;\" /></a></td></tr>\n",
       "<tr><td>13</td><td>Operation</td><td>operator:&nbsp;17<br>operand:&nbsp;20<br></td><td><a class=\"ProveItLink\" href=\"../ed9f45d94b813b8b6a094862fee5ebfa88138bb90/expr.ipynb\"><img src=\"../ed9f45d94b813b8b6a094862fee5ebfa88138bb90/expr.png\" style=\"display:inline;vertical-align:middle;\" /></a></td></tr>\n",
       "<tr><td>14</td><td>Literal</td><td></td><td><a class=\"ProveItLink\" href=\"../../../../../../numbers/exponentiation/__pv_it/common/0ac37aca1e54c35c5cda09672df32d4f69f1f3020/expr.ipynb\"><img src=\"../../../../../../numbers/exponentiation/__pv_it/common/0ac37aca1e54c35c5cda09672df32d4f69f1f3020/expr.png\" style=\"display:inline;vertical-align:middle;\" /></a></td></tr>\n",
       "<tr><td>15</td><td>ExprTuple</td><td>29, 19</td><td><a class=\"ProveItLink\" href=\"../../theorems/e338cad1327dac2388daba9de790fbbb96160c330/expr.ipynb\"><img src=\"../../theorems/e338cad1327dac2388daba9de790fbbb96160c330/expr.png\" style=\"display:inline;vertical-align:middle;\" /></a></td></tr>\n",
       "<tr><td>16</td><td>ExprTuple</td><td>24</td><td><a class=\"ProveItLink\" href=\"../3e7d320ff9cd3729640e3973bae3259aea2213620/expr.ipynb\"><img src=\"../3e7d320ff9cd3729640e3973bae3259aea2213620/expr.png\" style=\"display:inline;vertical-align:middle;\" /></a></td></tr>\n",
       "<tr><td>17</td><td>Literal</td><td></td><td><a class=\"ProveItLink\" href=\"../../../../../../numbers/negation/__pv_it/common/221b3c4d1770ee9051b7c044c3f9ec61196fc34b0/expr.ipynb\"><img src=\"../../../../../../numbers/negation/__pv_it/common/221b3c4d1770ee9051b7c044c3f9ec61196fc34b0/expr.png\" style=\"display:inline;vertical-align:middle;\" /></a></td></tr>\n",
       "<tr><td>18</td><td>ExprTuple</td><td>20</td><td><a class=\"ProveItLink\" href=\"../416cb45d0324d091eddc78e021c9af66943d56eb0/expr.ipynb\"><img src=\"../416cb45d0324d091eddc78e021c9af66943d56eb0/expr.png\" style=\"display:inline;vertical-align:middle;\" /></a></td></tr>\n",
       "<tr><td>19</td><td>Operation</td><td>operator:&nbsp;26<br>operands:&nbsp;21<br></td><td><a class=\"ProveItLink\" href=\"../../theorems/79e88202b3e0bbbafa23dfeda5e8ff19a48da24a0/expr.ipynb\"><img src=\"../../theorems/79e88202b3e0bbbafa23dfeda5e8ff19a48da24a0/expr.png\" style=\"display:inline;vertical-align:middle;\" /></a></td></tr>\n",
       "<tr><td>20</td><td>Operation</td><td>operator:&nbsp;22<br>operands:&nbsp;23<br></td><td><a class=\"ProveItLink\" href=\"../19ba9b239bdde360730594f6e7a5c4ae17b5ca590/expr.ipynb\"><img src=\"../19ba9b239bdde360730594f6e7a5c4ae17b5ca590/expr.png\" style=\"display:inline;vertical-align:middle;\" /></a></td></tr>\n",
       "<tr><td>21</td><td>ExprTuple</td><td>25, 29</td><td><a class=\"ProveItLink\" href=\"../../theorems/122db0adf1291a8b0c43cc47585f3efedb83ef920/expr.ipynb\"><img src=\"../../theorems/122db0adf1291a8b0c43cc47585f3efedb83ef920/expr.png\" style=\"display:inline;vertical-align:middle;\" /></a></td></tr>\n",
       "<tr><td>22</td><td>Literal</td><td></td><td><a class=\"ProveItLink\" href=\"../../../../../../numbers/multiplication/__pv_it/common/ed719cef37831779c16481533a4d380a2f95ab270/expr.ipynb\"><img src=\"../../../../../../numbers/multiplication/__pv_it/common/ed719cef37831779c16481533a4d380a2f95ab270/expr.png\" style=\"display:inline;vertical-align:middle;\" /></a></td></tr>\n",
       "<tr><td>23</td><td>ExprTuple</td><td>24, 25</td><td><a class=\"ProveItLink\" href=\"../5fdbef4007b9cf4cd782d310080403d448f6b3de0/expr.ipynb\"><img src=\"../5fdbef4007b9cf4cd782d310080403d448f6b3de0/expr.png\" style=\"display:inline;vertical-align:middle;\" /></a></td></tr>\n",
       "<tr><td>24</td><td>Operation</td><td>operator:&nbsp;26<br>operands:&nbsp;27<br></td><td><a class=\"ProveItLink\" href=\"../../axioms/41c7e8d55de04e24c56503fbffe6ac0318a53f990/expr.ipynb\"><img src=\"../../axioms/41c7e8d55de04e24c56503fbffe6ac0318a53f990/expr.png\" style=\"display:inline;vertical-align:middle;\" /></a></td></tr>\n",
       "<tr><td>25</td><td>Variable</td><td></td><td><a class=\"ProveItLink\" href=\"../../../../../../__pv_it/common/36861eae73a44b53d5b3b017ac6a3a9dae53bfba0/expr.ipynb\"><img src=\"../../../../../../__pv_it/common/36861eae73a44b53d5b3b017ac6a3a9dae53bfba0/expr.png\" style=\"display:inline;vertical-align:middle;\" /></a></td></tr>\n",
       "<tr><td>26</td><td>Literal</td><td></td><td><a class=\"ProveItLink\" href=\"../../../../../../numbers/division/__pv_it/common/a2a633e1e3c749fb1f2692466b287b6348c5de840/expr.ipynb\"><img src=\"../../../../../../numbers/division/__pv_it/common/a2a633e1e3c749fb1f2692466b287b6348c5de840/expr.png\" style=\"display:inline;vertical-align:middle;\" /></a></td></tr>\n",
       "<tr><td>27</td><td>ExprTuple</td><td>28, 29</td><td><a class=\"ProveItLink\" href=\"../../../../../../numbers/numerals/decimals/__pv_it/theorems/df23a04353373623cccbfda09b61e0f594aa791a0/expr.ipynb\"><img src=\"../../../../../../numbers/numerals/decimals/__pv_it/theorems/df23a04353373623cccbfda09b61e0f594aa791a0/expr.png\" style=\"display:inline;vertical-align:middle;\" /></a></td></tr>\n",
       "<tr><td>28</td><td>Literal</td><td></td><td><a class=\"ProveItLink\" href=\"../../../../../../numbers/numerals/__pv_it/common/682157d4892d216d9e5626ed533aff9b56b9506e0/expr.ipynb\"><img src=\"../../../../../../numbers/numerals/__pv_it/common/682157d4892d216d9e5626ed533aff9b56b9506e0/expr.png\" style=\"display:inline;vertical-align:middle;\" /></a></td></tr>\n",
       "<tr><td>29</td><td>Literal</td><td></td><td><a class=\"ProveItLink\" href=\"../../../../../../numbers/numerals/__pv_it/common/af4aab8a07465db063742696e006d04670f30cf10/expr.ipynb\"><img src=\"../../../../../../numbers/numerals/__pv_it/common/af4aab8a07465db063742696e006d04670f30cf10/expr.png\" style=\"display:inline;vertical-align:middle;\" /></a></td></tr>\n",
       "</table>\n"
      ],
      "text/plain": [
       "0. (2^{-(1 / 2)} * (1 / 2^{t / 2}), 2^{-(1 / 2)} * 2^{-((1 / 2) * t)})\n",
       "   core type: ExprTuple\n",
       "   sub-expressions: 1, 2\n",
       "1. 2^{-(1 / 2)} * (1 / 2^{t / 2})\n",
       "   core type: Operation\n",
       "   operator: 22\n",
       "   operands: 3\n",
       "2. 2^{-(1 / 2)} * 2^{-((1 / 2) * t)}\n",
       "   core type: Operation\n",
       "   operator: 22\n",
       "   operands: 4\n",
       "3. (2^{-(1 / 2)}, 1 / 2^{t / 2})\n",
       "   core type: ExprTuple\n",
       "   sub-expressions: 6, 5\n",
       "4. (2^{-(1 / 2)}, 2^{-((1 / 2) * t)})\n",
       "   core type: ExprTuple\n",
       "   sub-expressions: 6, 7\n",
       "5. 1 / 2^{t / 2}\n",
       "   core type: Operation\n",
       "   operator: 26\n",
       "   operands: 8\n",
       "6. 2^{-(1 / 2)}\n",
       "   core type: Operation\n",
       "   operator: 14\n",
       "   operands: 9\n",
       "7. 2^{-((1 / 2) * t)}\n",
       "   core type: Operation\n",
       "   operator: 14\n",
       "   operands: 10\n",
       "8. (1, 2^{t / 2})\n",
       "   core type: ExprTuple\n",
       "   sub-expressions: 28, 11\n",
       "9. (2, -(1 / 2))\n",
       "   core type: ExprTuple\n",
       "   sub-expressions: 29, 12\n",
       "10. (2, -((1 / 2) * t))\n",
       "    core type: ExprTuple\n",
       "    sub-expressions: 29, 13\n",
       "11. 2^{t / 2}\n",
       "    core type: Operation\n",
       "    operator: 14\n",
       "    operands: 15\n",
       "12. -(1 / 2)\n",
       "    core type: Operation\n",
       "    operator: 17\n",
       "    operand: 24\n",
       "13. -((1 / 2) * t)\n",
       "    core type: Operation\n",
       "    operator: 17\n",
       "    operand: 20\n",
       "14. Exp\n",
       "    core type: Literal\n",
       "    sub-expressions: \n",
       "15. (2, t / 2)\n",
       "    core type: ExprTuple\n",
       "    sub-expressions: 29, 19\n",
       "16. (1 / 2)\n",
       "    core type: ExprTuple\n",
       "    sub-expressions: 24\n",
       "17. -\n",
       "    core type: Literal\n",
       "    sub-expressions: \n",
       "18. ((1 / 2) * t)\n",
       "    core type: ExprTuple\n",
       "    sub-expressions: 20\n",
       "19. t / 2\n",
       "    core type: Operation\n",
       "    operator: 26\n",
       "    operands: 21\n",
       "20. (1 / 2) * t\n",
       "    core type: Operation\n",
       "    operator: 22\n",
       "    operands: 23\n",
       "21. (t, 2)\n",
       "    core type: ExprTuple\n",
       "    sub-expressions: 25, 29\n",
       "22. *\n",
       "    core type: Literal\n",
       "    sub-expressions: \n",
       "23. (1 / 2, t)\n",
       "    core type: ExprTuple\n",
       "    sub-expressions: 24, 25\n",
       "24. 1 / 2\n",
       "    core type: Operation\n",
       "    operator: 26\n",
       "    operands: 27\n",
       "25. t\n",
       "    core type: Variable\n",
       "    sub-expressions: \n",
       "26. /\n",
       "    core type: Literal\n",
       "    sub-expressions: \n",
       "27. (1, 2)\n",
       "    core type: ExprTuple\n",
       "    sub-expressions: 28, 29\n",
       "28. 1\n",
       "    core type: Literal\n",
       "    sub-expressions: \n",
       "29. 2\n",
       "    core type: Literal\n",
       "    sub-expressions: "
      ]
     },
     "metadata": {},
     "output_type": "display_data"
    }
   ],
   "source": [
    "# display the expression information\n",
    "stored_expr.expr_info()"
   ]
  },
  {
   "cell_type": "code",
   "execution_count": null,
   "metadata": {},
   "outputs": [],
   "source": []
  }
 ],
 "metadata": {
  "kernelspec": {
   "display_name": "Python 3",
   "language": "python",
   "name": "python3"
  }
 },
 "nbformat": 4,
 "nbformat_minor": 0
}