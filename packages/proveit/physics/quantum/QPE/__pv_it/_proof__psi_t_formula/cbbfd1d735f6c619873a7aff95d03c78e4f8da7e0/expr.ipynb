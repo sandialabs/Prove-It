{
 "cells": [
  {
   "cell_type": "markdown",
   "metadata": {},
   "source": [
    "Expression of type <a class=\"ProveItLink\" href=\"../../../../../../../../doc/html/api/proveit.ExprTuple.html\">ExprTuple</a>\n",
    "=======================\n",
    "# from the theory of <a class=\"ProveItLink\" href=\"../../../_theory_nbs_/theory.ipynb\">proveit.physics.quantum.QPE</a>"
   ]
  },
  {
   "cell_type": "code",
   "execution_count": 1,
   "metadata": {},
   "outputs": [],
   "source": [
    "import proveit\n",
    "# Automation is not needed when building an expression:\n",
    "proveit.defaults.automation = False # This will speed things up.\n",
    "proveit.defaults.inline_pngs = False # Makes files smaller.\n",
    "%load_expr # Load the stored expression as 'stored_expr'\n",
    "# import Expression classes needed to build the expression\n",
    "from proveit import ExprTuple, k, t\n",
    "from proveit.numbers import Add, Exp, Mult, e, i, one, pi, two\n",
    "from proveit.physics.quantum import NumKet\n",
    "from proveit.physics.quantum.QPE import _phase, two_pow_t"
   ]
  },
  {
   "cell_type": "code",
   "execution_count": 2,
   "metadata": {},
   "outputs": [
    {
     "data": {
      "text/html": [
       "<strong id=\"expr\">expr:</strong> <a class=\"ProveItLink\" href=\"expr.ipynb\"><img src=\"expr.png\" style=\"display:inline;vertical-align:middle;\" /></a><br>"
      ],
      "text/plain": [
       "<IPython.core.display.HTML object>"
      ]
     },
     "metadata": {},
     "output_type": "display_data"
    }
   ],
   "source": [
    "# build up the expression from sub-expressions\n",
    "expr = ExprTuple(Mult(Exp(e, Mult(two, pi, i, _phase, k)), Exp(e, Mult(two, pi, i, _phase, two_pow_t))), NumKet(Add(k, two_pow_t), Add(t, one)))"
   ]
  },
  {
   "cell_type": "code",
   "execution_count": 3,
   "metadata": {},
   "outputs": [
    {
     "name": "stdout",
     "output_type": "stream",
     "text": [
      "Passed sanity check: expr matches stored_expr\n"
     ]
    }
   ],
   "source": [
    "# check that the built expression is the same as the stored expression\n",
    "assert expr == stored_expr\n",
    "assert expr._style_id == stored_expr._style_id\n",
    "print(\"Passed sanity check: expr matches stored_expr\")"
   ]
  },
  {
   "cell_type": "code",
   "execution_count": 4,
   "metadata": {},
   "outputs": [
    {
     "name": "stdout",
     "output_type": "stream",
     "text": [
      "\\left(\\mathsf{e}^{2 \\cdot \\pi \\cdot \\mathsf{i} \\cdot \\varphi \\cdot k} \\cdot \\mathsf{e}^{2 \\cdot \\pi \\cdot \\mathsf{i} \\cdot \\varphi \\cdot 2^{t}}, \\lvert k + 2^{t} \\rangle_{t + 1}\\right)\n"
     ]
    }
   ],
   "source": [
    "# Show the LaTeX representation of the expression for convenience if you need it.\n",
    "print(stored_expr.latex())"
   ]
  },
  {
   "cell_type": "code",
   "execution_count": 5,
   "metadata": {},
   "outputs": [
    {
     "data": {
      "text/html": [
       "<table>\n",
       "<tr><th>name</th><th>description</th><th>default</th><th>current value</th><th>related methods</th></tr><tr><td>wrap_positions</td><td>position(s) at which wrapping is to occur; 'n' is after the nth comma.</td><td>()</td><td>()</td><td>('with_wrapping_at',)</td></tr>\n",
       "<tr><td>justification</td><td>if any wrap positions are set, justify to the 'left', 'center', or 'right'</td><td>left</td><td>left</td><td>('with_justification',)</td></tr>\n",
       "</table>\n"
      ],
      "text/plain": [
       "style name: wrap_positions\n",
       "description: position(s) at which wrapping is to occur; 'n' is after the nth comma.\n",
       "default: ()\n",
       "current value: ()\n",
       "related methods: ('with_wrapping_at',)\n",
       "style name: justification\n",
       "description: if any wrap positions are set, justify to the 'left', 'center', or 'right'\n",
       "default: left\n",
       "current value: left\n",
       "related methods: ('with_justification',)"
      ]
     },
     "metadata": {},
     "output_type": "display_data"
    }
   ],
   "source": [
    "stored_expr.style_options()"
   ]
  },
  {
   "cell_type": "code",
   "execution_count": 6,
   "metadata": {},
   "outputs": [
    {
     "data": {
      "text/html": [
       "<table><tr><th>&nbsp;</th><th>core type</th><th>sub-expressions</th><th>expression</th></tr>\n",
       "<tr><td>0</td><td>ExprTuple</td><td>1, 2</td><td><a class=\"ProveItLink\" href=\"expr.ipynb\"><img src=\"expr.png\" style=\"display:inline;vertical-align:middle;\" /></a></td></tr>\n",
       "<tr><td>1</td><td>Operation</td><td>operator:&nbsp;20<br>operands:&nbsp;3<br></td><td><a class=\"ProveItLink\" href=\"../56f06930032230de9441a478029f67a72bf6e4b20/expr.ipynb\"><img src=\"../56f06930032230de9441a478029f67a72bf6e4b20/expr.png\" style=\"display:inline;vertical-align:middle;\" /></a></td></tr>\n",
       "<tr><td>2</td><td>Operation</td><td>operator:&nbsp;4<br>operands:&nbsp;5<br></td><td><a class=\"ProveItLink\" href=\"../88adb8d1d06b09c1ca83f8fc6a162cbe29d6350e0/expr.ipynb\"><img src=\"../88adb8d1d06b09c1ca83f8fc6a162cbe29d6350e0/expr.png\" style=\"display:inline;vertical-align:middle;\" /></a></td></tr>\n",
       "<tr><td>3</td><td>ExprTuple</td><td>6, 7</td><td><a class=\"ProveItLink\" href=\"../caebb678e96c4c7364e30afd42569a8555c433d70/expr.ipynb\"><img src=\"../caebb678e96c4c7364e30afd42569a8555c433d70/expr.png\" style=\"display:inline;vertical-align:middle;\" /></a></td></tr>\n",
       "<tr><td>4</td><td>Literal</td><td></td><td><a class=\"ProveItLink\" href=\"../../../../algebra/__pv_it/common/8fae26fc802d6e77100c911db42f2d3784cdc7330/expr.ipynb\"><img src=\"../../../../algebra/__pv_it/common/8fae26fc802d6e77100c911db42f2d3784cdc7330/expr.png\" style=\"display:inline;vertical-align:middle;\" /></a></td></tr>\n",
       "<tr><td>5</td><td>ExprTuple</td><td>8, 9</td><td><a class=\"ProveItLink\" href=\"../87b58501e7925025c450925465eb1cfcfb8e06560/expr.ipynb\"><img src=\"../87b58501e7925025c450925465eb1cfcfb8e06560/expr.png\" style=\"display:inline;vertical-align:middle;\" /></a></td></tr>\n",
       "<tr><td>6</td><td>Operation</td><td>operator:&nbsp;27<br>operands:&nbsp;10<br></td><td><a class=\"ProveItLink\" href=\"../../theorems/2c1a535bf143a3432d0b7b4c0c044d1032b311ec0/expr.ipynb\"><img src=\"../../theorems/2c1a535bf143a3432d0b7b4c0c044d1032b311ec0/expr.png\" style=\"display:inline;vertical-align:middle;\" /></a></td></tr>\n",
       "<tr><td>7</td><td>Operation</td><td>operator:&nbsp;27<br>operands:&nbsp;11<br></td><td><a class=\"ProveItLink\" href=\"../ac170f287a7b3dafde2be8ff702282a300f649210/expr.ipynb\"><img src=\"../ac170f287a7b3dafde2be8ff702282a300f649210/expr.png\" style=\"display:inline;vertical-align:middle;\" /></a></td></tr>\n",
       "<tr><td>8</td><td>Operation</td><td>operator:&nbsp;13<br>operands:&nbsp;12<br></td><td><a class=\"ProveItLink\" href=\"../19d030598b600628408ba252c27e6298046b5a0d0/expr.ipynb\"><img src=\"../19d030598b600628408ba252c27e6298046b5a0d0/expr.png\" style=\"display:inline;vertical-align:middle;\" /></a></td></tr>\n",
       "<tr><td>9</td><td>Operation</td><td>operator:&nbsp;13<br>operands:&nbsp;14<br></td><td><a class=\"ProveItLink\" href=\"../da3a9b7cb1fc73dc54679e3aad35b8e91b8d8f820/expr.ipynb\"><img src=\"../da3a9b7cb1fc73dc54679e3aad35b8e91b8d8f820/expr.png\" style=\"display:inline;vertical-align:middle;\" /></a></td></tr>\n",
       "<tr><td>10</td><td>ExprTuple</td><td>16, 15</td><td><a class=\"ProveItLink\" href=\"../../theorems/7fc65e30a01a657038c276fe12cbc943da454c6c0/expr.ipynb\"><img src=\"../../theorems/7fc65e30a01a657038c276fe12cbc943da454c6c0/expr.png\" style=\"display:inline;vertical-align:middle;\" /></a></td></tr>\n",
       "<tr><td>11</td><td>ExprTuple</td><td>16, 17</td><td><a class=\"ProveItLink\" href=\"../e0c28448b537e13114e092e235da1c4ba70b53a60/expr.ipynb\"><img src=\"../e0c28448b537e13114e092e235da1c4ba70b53a60/expr.png\" style=\"display:inline;vertical-align:middle;\" /></a></td></tr>\n",
       "<tr><td>12</td><td>ExprTuple</td><td>22, 26</td><td><a class=\"ProveItLink\" href=\"../39a59b526275468e8771a48c54e9b924533277ca0/expr.ipynb\"><img src=\"../39a59b526275468e8771a48c54e9b924533277ca0/expr.png\" style=\"display:inline;vertical-align:middle;\" /></a></td></tr>\n",
       "<tr><td>13</td><td>Literal</td><td></td><td><a class=\"ProveItLink\" href=\"../../../../../../numbers/addition/__pv_it/common/4b7effaab3619a1c2c38fe2dee8601df8ec714590/expr.ipynb\"><img src=\"../../../../../../numbers/addition/__pv_it/common/4b7effaab3619a1c2c38fe2dee8601df8ec714590/expr.png\" style=\"display:inline;vertical-align:middle;\" /></a></td></tr>\n",
       "<tr><td>14</td><td>ExprTuple</td><td>30, 18</td><td><a class=\"ProveItLink\" href=\"../163d7569c6c27dcd1ee82c5775d619290779899c0/expr.ipynb\"><img src=\"../163d7569c6c27dcd1ee82c5775d619290779899c0/expr.png\" style=\"display:inline;vertical-align:middle;\" /></a></td></tr>\n",
       "<tr><td>15</td><td>Operation</td><td>operator:&nbsp;20<br>operands:&nbsp;19<br></td><td><a class=\"ProveItLink\" href=\"../../theorems/0adba22132b513f20df65a9b53cb0c8f00d51b650/expr.ipynb\"><img src=\"../../theorems/0adba22132b513f20df65a9b53cb0c8f00d51b650/expr.png\" style=\"display:inline;vertical-align:middle;\" /></a></td></tr>\n",
       "<tr><td>16</td><td>Literal</td><td></td><td><a class=\"ProveItLink\" href=\"../../../../../../numbers/number_sets/real_numbers/__pv_it/common/e531ffa54fd897084533764a4a14f19f590674f80/expr.ipynb\"><img src=\"../../../../../../numbers/number_sets/real_numbers/__pv_it/common/e531ffa54fd897084533764a4a14f19f590674f80/expr.png\" style=\"display:inline;vertical-align:middle;\" /></a></td></tr>\n",
       "<tr><td>17</td><td>Operation</td><td>operator:&nbsp;20<br>operands:&nbsp;21<br></td><td><a class=\"ProveItLink\" href=\"../63ca3323541b75a0f65dac63cd2478d6693811780/expr.ipynb\"><img src=\"../63ca3323541b75a0f65dac63cd2478d6693811780/expr.png\" style=\"display:inline;vertical-align:middle;\" /></a></td></tr>\n",
       "<tr><td>18</td><td>Literal</td><td></td><td><a class=\"ProveItLink\" href=\"../../../../../../numbers/numerals/__pv_it/common/682157d4892d216d9e5626ed533aff9b56b9506e0/expr.ipynb\"><img src=\"../../../../../../numbers/numerals/__pv_it/common/682157d4892d216d9e5626ed533aff9b56b9506e0/expr.png\" style=\"display:inline;vertical-align:middle;\" /></a></td></tr>\n",
       "<tr><td>19</td><td>ExprTuple</td><td>29, 23, 24, 25, 22</td><td><a class=\"ProveItLink\" href=\"../../theorems/2112f73c2594adc999ec7cf2c7506d4201e84ed50/expr.ipynb\"><img src=\"../../theorems/2112f73c2594adc999ec7cf2c7506d4201e84ed50/expr.png\" style=\"display:inline;vertical-align:middle;\" /></a></td></tr>\n",
       "<tr><td>20</td><td>Literal</td><td></td><td><a class=\"ProveItLink\" href=\"../../../../../../numbers/multiplication/__pv_it/common/ed719cef37831779c16481533a4d380a2f95ab270/expr.ipynb\"><img src=\"../../../../../../numbers/multiplication/__pv_it/common/ed719cef37831779c16481533a4d380a2f95ab270/expr.png\" style=\"display:inline;vertical-align:middle;\" /></a></td></tr>\n",
       "<tr><td>21</td><td>ExprTuple</td><td>29, 23, 24, 25, 26</td><td><a class=\"ProveItLink\" href=\"../5463a0b97fd30e0728201549db1d812547ed4e7b0/expr.ipynb\"><img src=\"../5463a0b97fd30e0728201549db1d812547ed4e7b0/expr.png\" style=\"display:inline;vertical-align:middle;\" /></a></td></tr>\n",
       "<tr><td>22</td><td>Variable</td><td></td><td><a class=\"ProveItLink\" href=\"../../../../../../__pv_it/common/63b7c64bf9ec7a04ecc396c7a1670f3f12fb59490/expr.ipynb\"><img src=\"../../../../../../__pv_it/common/63b7c64bf9ec7a04ecc396c7a1670f3f12fb59490/expr.png\" style=\"display:inline;vertical-align:middle;\" /></a></td></tr>\n",
       "<tr><td>23</td><td>Literal</td><td></td><td><a class=\"ProveItLink\" href=\"../../../../../../numbers/number_sets/real_numbers/__pv_it/common/246c206266ac5b48800e508d580f91767b24c2df0/expr.ipynb\"><img src=\"../../../../../../numbers/number_sets/real_numbers/__pv_it/common/246c206266ac5b48800e508d580f91767b24c2df0/expr.png\" style=\"display:inline;vertical-align:middle;\" /></a></td></tr>\n",
       "<tr><td>24</td><td>Literal</td><td></td><td><a class=\"ProveItLink\" href=\"../../../../../../numbers/number_sets/complex_numbers/__pv_it/common/6c9cc69d472f352324c298b2318df233e9a7e0250/expr.ipynb\"><img src=\"../../../../../../numbers/number_sets/complex_numbers/__pv_it/common/6c9cc69d472f352324c298b2318df233e9a7e0250/expr.png\" style=\"display:inline;vertical-align:middle;\" /></a></td></tr>\n",
       "<tr><td>25</td><td>Literal</td><td></td><td><a class=\"ProveItLink\" href=\"../../common/d5e43a4a06cc3c8384d7262f5d019bed24f240ea0/expr.ipynb\"><img src=\"../../common/d5e43a4a06cc3c8384d7262f5d019bed24f240ea0/expr.png\" style=\"display:inline;vertical-align:middle;\" /></a></td></tr>\n",
       "<tr><td>26</td><td>Operation</td><td>operator:&nbsp;27<br>operands:&nbsp;28<br></td><td><a class=\"ProveItLink\" href=\"../../common/a014d9681ed5f22f1d322e1e6f8f6a29a72641620/expr.ipynb\"><img src=\"../../common/a014d9681ed5f22f1d322e1e6f8f6a29a72641620/expr.png\" style=\"display:inline;vertical-align:middle;\" /></a></td></tr>\n",
       "<tr><td>27</td><td>Literal</td><td></td><td><a class=\"ProveItLink\" href=\"../../../../../../numbers/exponentiation/__pv_it/common/0ac37aca1e54c35c5cda09672df32d4f69f1f3020/expr.ipynb\"><img src=\"../../../../../../numbers/exponentiation/__pv_it/common/0ac37aca1e54c35c5cda09672df32d4f69f1f3020/expr.png\" style=\"display:inline;vertical-align:middle;\" /></a></td></tr>\n",
       "<tr><td>28</td><td>ExprTuple</td><td>29, 30</td><td><a class=\"ProveItLink\" href=\"../../common/620247c38a794b8e2a0fe6158f0aa55d8c4a68c60/expr.ipynb\"><img src=\"../../common/620247c38a794b8e2a0fe6158f0aa55d8c4a68c60/expr.png\" style=\"display:inline;vertical-align:middle;\" /></a></td></tr>\n",
       "<tr><td>29</td><td>Literal</td><td></td><td><a class=\"ProveItLink\" href=\"../../../../../../numbers/numerals/__pv_it/common/af4aab8a07465db063742696e006d04670f30cf10/expr.ipynb\"><img src=\"../../../../../../numbers/numerals/__pv_it/common/af4aab8a07465db063742696e006d04670f30cf10/expr.png\" style=\"display:inline;vertical-align:middle;\" /></a></td></tr>\n",
       "<tr><td>30</td><td>Variable</td><td></td><td><a class=\"ProveItLink\" href=\"../../../../../../__pv_it/common/36861eae73a44b53d5b3b017ac6a3a9dae53bfba0/expr.ipynb\"><img src=\"../../../../../../__pv_it/common/36861eae73a44b53d5b3b017ac6a3a9dae53bfba0/expr.png\" style=\"display:inline;vertical-align:middle;\" /></a></td></tr>\n",
       "</table>\n"
      ],
      "text/plain": [
       "0. (e^{2 * pi * i * phase * k} * e^{2 * pi * i * phase * 2^{t}}, |k + 2^{t}〉_{t + 1})\n",
       "   core type: ExprTuple\n",
       "   sub-expressions: 1, 2\n",
       "1. e^{2 * pi * i * phase * k} * e^{2 * pi * i * phase * 2^{t}}\n",
       "   core type: Operation\n",
       "   operator: 20\n",
       "   operands: 3\n",
       "2. |k + 2^{t}〉_{t + 1}\n",
       "   core type: Operation\n",
       "   operator: 4\n",
       "   operands: 5\n",
       "3. (e^{2 * pi * i * phase * k}, e^{2 * pi * i * phase * 2^{t}})\n",
       "   core type: ExprTuple\n",
       "   sub-expressions: 6, 7\n",
       "4. NUM_KET\n",
       "   core type: Literal\n",
       "   sub-expressions: \n",
       "5. (k + 2^{t}, t + 1)\n",
       "   core type: ExprTuple\n",
       "   sub-expressions: 8, 9\n",
       "6. e^{2 * pi * i * phase * k}\n",
       "   core type: Operation\n",
       "   operator: 27\n",
       "   operands: 10\n",
       "7. e^{2 * pi * i * phase * 2^{t}}\n",
       "   core type: Operation\n",
       "   operator: 27\n",
       "   operands: 11\n",
       "8. k + 2^{t}\n",
       "   core type: Operation\n",
       "   operator: 13\n",
       "   operands: 12\n",
       "9. t + 1\n",
       "   core type: Operation\n",
       "   operator: 13\n",
       "   operands: 14\n",
       "10. (e, 2 * pi * i * phase * k)\n",
       "    core type: ExprTuple\n",
       "    sub-expressions: 16, 15\n",
       "11. (e, 2 * pi * i * phase * 2^{t})\n",
       "    core type: ExprTuple\n",
       "    sub-expressions: 16, 17\n",
       "12. (k, 2^{t})\n",
       "    core type: ExprTuple\n",
       "    sub-expressions: 22, 26\n",
       "13. +\n",
       "    core type: Literal\n",
       "    sub-expressions: \n",
       "14. (t, 1)\n",
       "    core type: ExprTuple\n",
       "    sub-expressions: 30, 18\n",
       "15. 2 * pi * i * phase * k\n",
       "    core type: Operation\n",
       "    operator: 20\n",
       "    operands: 19\n",
       "16. e\n",
       "    core type: Literal\n",
       "    sub-expressions: \n",
       "17. 2 * pi * i * phase * 2^{t}\n",
       "    core type: Operation\n",
       "    operator: 20\n",
       "    operands: 21\n",
       "18. 1\n",
       "    core type: Literal\n",
       "    sub-expressions: \n",
       "19. (2, pi, i, phase, k)\n",
       "    core type: ExprTuple\n",
       "    sub-expressions: 29, 23, 24, 25, 22\n",
       "20. *\n",
       "    core type: Literal\n",
       "    sub-expressions: \n",
       "21. (2, pi, i, phase, 2^{t})\n",
       "    core type: ExprTuple\n",
       "    sub-expressions: 29, 23, 24, 25, 26\n",
       "22. k\n",
       "    core type: Variable\n",
       "    sub-expressions: \n",
       "23. pi\n",
       "    core type: Literal\n",
       "    sub-expressions: \n",
       "24. i\n",
       "    core type: Literal\n",
       "    sub-expressions: \n",
       "25. phase\n",
       "    core type: Literal\n",
       "    sub-expressions: \n",
       "26. 2^{t}\n",
       "    core type: Operation\n",
       "    operator: 27\n",
       "    operands: 28\n",
       "27. Exp\n",
       "    core type: Literal\n",
       "    sub-expressions: \n",
       "28. (2, t)\n",
       "    core type: ExprTuple\n",
       "    sub-expressions: 29, 30\n",
       "29. 2\n",
       "    core type: Literal\n",
       "    sub-expressions: \n",
       "30. t\n",
       "    core type: Variable\n",
       "    sub-expressions: "
      ]
     },
     "metadata": {},
     "output_type": "display_data"
    }
   ],
   "source": [
    "# display the expression information\n",
    "stored_expr.expr_info()"
   ]
  },
  {
   "cell_type": "code",
   "execution_count": null,
   "metadata": {},
   "outputs": [],
   "source": []
  }
 ],
 "metadata": {
  "kernelspec": {
   "display_name": "Python 3",
   "language": "python",
   "name": "python3"
  }
 },
 "nbformat": 4,
 "nbformat_minor": 0
}