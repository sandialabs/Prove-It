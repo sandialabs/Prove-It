{
 "cells": [
  {
   "cell_type": "markdown",
   "metadata": {},
   "source": [
    "Expression of type <a class=\"ProveItLink\" href=\"../../../../../../../../doc/html/api/proveit.ExprTuple.html\">ExprTuple</a>\n",
    "=======================\n",
    "# from the theory of <a class=\"ProveItLink\" href=\"../../../_theory_nbs_/theory.ipynb\">proveit.physics.quantum.QPE</a>"
   ]
  },
  {
   "cell_type": "code",
   "execution_count": 1,
   "metadata": {},
   "outputs": [],
   "source": [
    "import proveit\n",
    "# Automation is not needed when building an expression:\n",
    "proveit.defaults.automation = False # This will speed things up.\n",
    "proveit.defaults.inline_pngs = False # Makes files smaller.\n",
    "%load_expr # Load the stored expression as 'stored_expr'\n",
    "# import Expression classes needed to build the expression\n",
    "from proveit import ExprTuple, Variable, t\n",
    "from proveit.linear_algebra import ScalarMult, VecAdd\n",
    "from proveit.numbers import Add, Exp, Mult, e, frac, i, one, pi, subtract, two\n",
    "from proveit.physics.quantum import ket0, ket1\n",
    "from proveit.physics.quantum.QPE import _phase, two_pow_t"
   ]
  },
  {
   "cell_type": "code",
   "execution_count": 2,
   "metadata": {},
   "outputs": [
    {
     "data": {
      "text/html": [
       "<strong id=\"expr\">expr:</strong> <a class=\"ProveItLink\" href=\"expr.ipynb\"><img src=\"expr.png\" style=\"display:inline;vertical-align:middle;\" /></a><br>"
      ],
      "text/plain": [
       "<IPython.core.display.HTML object>"
      ]
     },
     "metadata": {},
     "output_type": "display_data"
    }
   ],
   "source": [
    "# build up the expression from sub-expressions\n",
    "expr = ExprTuple(ScalarMult(frac(one, Exp(two, subtract(frac(Add(t, one), two), frac(t, two)))), VecAdd(ket0, ScalarMult(Exp(e, Mult(two, pi, i, _phase, two_pow_t)), ket1))), Variable(\"_a\", latex_format = r\"{_{-}a}\"))"
   ]
  },
  {
   "cell_type": "code",
   "execution_count": 3,
   "metadata": {},
   "outputs": [
    {
     "name": "stdout",
     "output_type": "stream",
     "text": [
      "Passed sanity check: expr matches stored_expr\n"
     ]
    }
   ],
   "source": [
    "# check that the built expression is the same as the stored expression\n",
    "assert expr == stored_expr\n",
    "assert expr._style_id == stored_expr._style_id\n",
    "print(\"Passed sanity check: expr matches stored_expr\")"
   ]
  },
  {
   "cell_type": "code",
   "execution_count": 4,
   "metadata": {},
   "outputs": [
    {
     "name": "stdout",
     "output_type": "stream",
     "text": [
      "\\left(\\frac{1}{2^{\\frac{t + 1}{2} - \\frac{t}{2}}} \\cdot \\left(\\lvert 0 \\rangle + \\left(\\mathsf{e}^{2 \\cdot \\pi \\cdot \\mathsf{i} \\cdot \\varphi \\cdot 2^{t}} \\cdot \\lvert 1 \\rangle\\right)\\right), {_{-}a}\\right)\n"
     ]
    }
   ],
   "source": [
    "# Show the LaTeX representation of the expression for convenience if you need it.\n",
    "print(stored_expr.latex())"
   ]
  },
  {
   "cell_type": "code",
   "execution_count": 5,
   "metadata": {},
   "outputs": [
    {
     "data": {
      "text/html": [
       "<table>\n",
       "<tr><th>name</th><th>description</th><th>default</th><th>current value</th><th>related methods</th></tr><tr><td>wrap_positions</td><td>position(s) at which wrapping is to occur; 'n' is after the nth comma.</td><td>()</td><td>()</td><td>('with_wrapping_at',)</td></tr>\n",
       "<tr><td>justification</td><td>if any wrap positions are set, justify to the 'left', 'center', or 'right'</td><td>left</td><td>left</td><td>('with_justification',)</td></tr>\n",
       "</table>\n"
      ],
      "text/plain": [
       "style name: wrap_positions\n",
       "description: position(s) at which wrapping is to occur; 'n' is after the nth comma.\n",
       "default: ()\n",
       "current value: ()\n",
       "related methods: ('with_wrapping_at',)\n",
       "style name: justification\n",
       "description: if any wrap positions are set, justify to the 'left', 'center', or 'right'\n",
       "default: left\n",
       "current value: left\n",
       "related methods: ('with_justification',)"
      ]
     },
     "metadata": {},
     "output_type": "display_data"
    }
   ],
   "source": [
    "stored_expr.style_options()"
   ]
  },
  {
   "cell_type": "code",
   "execution_count": 6,
   "metadata": {},
   "outputs": [
    {
     "data": {
      "text/html": [
       "<table><tr><th>&nbsp;</th><th>core type</th><th>sub-expressions</th><th>expression</th></tr>\n",
       "<tr><td>0</td><td>ExprTuple</td><td>1, 2</td><td><a class=\"ProveItLink\" href=\"expr.ipynb\"><img src=\"expr.png\" style=\"display:inline;vertical-align:middle;\" /></a></td></tr>\n",
       "<tr><td>1</td><td>Operation</td><td>operator:&nbsp;14<br>operands:&nbsp;3<br></td><td><a class=\"ProveItLink\" href=\"../6117cc24d1e03353f9b37000673f370aa525cad60/expr.ipynb\"><img src=\"../6117cc24d1e03353f9b37000673f370aa525cad60/expr.png\" style=\"display:inline;vertical-align:middle;\" /></a></td></tr>\n",
       "<tr><td>2</td><td>Variable</td><td></td><td><a class=\"ProveItLink\" href=\"../../../../../../core_expr_types/__pv_it/common/006c465e50948aa2b52285e2de47974f741255cc0/expr.ipynb\"><img src=\"../../../../../../core_expr_types/__pv_it/common/006c465e50948aa2b52285e2de47974f741255cc0/expr.png\" style=\"display:inline;vertical-align:middle;\" /></a></td></tr>\n",
       "<tr><td>3</td><td>ExprTuple</td><td>4, 5</td><td><a class=\"ProveItLink\" href=\"../ff40940b838b36d77d1d3b6838c7f1d94a5728190/expr.ipynb\"><img src=\"../ff40940b838b36d77d1d3b6838c7f1d94a5728190/expr.png\" style=\"display:inline;vertical-align:middle;\" /></a></td></tr>\n",
       "<tr><td>4</td><td>Operation</td><td>operator:&nbsp;41<br>operands:&nbsp;6<br></td><td><a class=\"ProveItLink\" href=\"../95ffb8c5483bb5e79556710a2107213caece10d60/expr.ipynb\"><img src=\"../95ffb8c5483bb5e79556710a2107213caece10d60/expr.png\" style=\"display:inline;vertical-align:middle;\" /></a></td></tr>\n",
       "<tr><td>5</td><td>Operation</td><td>operator:&nbsp;7<br>operands:&nbsp;8<br></td><td><a class=\"ProveItLink\" href=\"../4b98ed6c0e9821c52ed8d3c34c23ca91c0d3ff420/expr.ipynb\"><img src=\"../4b98ed6c0e9821c52ed8d3c34c23ca91c0d3ff420/expr.png\" style=\"display:inline;vertical-align:middle;\" /></a></td></tr>\n",
       "<tr><td>6</td><td>ExprTuple</td><td>45, 9</td><td><a class=\"ProveItLink\" href=\"../b3d57199e3f536766ccc7177c7cea5e13478443b0/expr.ipynb\"><img src=\"../b3d57199e3f536766ccc7177c7cea5e13478443b0/expr.png\" style=\"display:inline;vertical-align:middle;\" /></a></td></tr>\n",
       "<tr><td>7</td><td>Literal</td><td></td><td><a class=\"ProveItLink\" href=\"../../../../../../linear_algebra/addition/__pv_it/common/ac3c140c9094f065c7f7db15c94558731443639c0/expr.ipynb\"><img src=\"../../../../../../linear_algebra/addition/__pv_it/common/ac3c140c9094f065c7f7db15c94558731443639c0/expr.png\" style=\"display:inline;vertical-align:middle;\" /></a></td></tr>\n",
       "<tr><td>8</td><td>ExprTuple</td><td>10, 11</td><td><a class=\"ProveItLink\" href=\"../e7a5f09ec698c51bb09005be29398b7e7e42fbb10/expr.ipynb\"><img src=\"../e7a5f09ec698c51bb09005be29398b7e7e42fbb10/expr.png\" style=\"display:inline;vertical-align:middle;\" /></a></td></tr>\n",
       "<tr><td>9</td><td>Operation</td><td>operator:&nbsp;43<br>operands:&nbsp;12<br></td><td><a class=\"ProveItLink\" href=\"../7f1fc043bd834c27e35fb0fac0530665cbe166370/expr.ipynb\"><img src=\"../7f1fc043bd834c27e35fb0fac0530665cbe166370/expr.png\" style=\"display:inline;vertical-align:middle;\" /></a></td></tr>\n",
       "<tr><td>10</td><td>Operation</td><td>operator:&nbsp;22<br>operand:&nbsp;17<br></td><td><a class=\"ProveItLink\" href=\"../../../../__pv_it/common/133ac00fe58669eb9caf707029e78ad2443dad960/expr.ipynb\"><img src=\"../../../../__pv_it/common/133ac00fe58669eb9caf707029e78ad2443dad960/expr.png\" style=\"display:inline;vertical-align:middle;\" /></a></td></tr>\n",
       "<tr><td>11</td><td>Operation</td><td>operator:&nbsp;14<br>operands:&nbsp;15<br></td><td><a class=\"ProveItLink\" href=\"../974e153e46e438644fcafbb33313ff21d9efccd60/expr.ipynb\"><img src=\"../974e153e46e438644fcafbb33313ff21d9efccd60/expr.png\" style=\"display:inline;vertical-align:middle;\" /></a></td></tr>\n",
       "<tr><td>12</td><td>ExprTuple</td><td>46, 16</td><td><a class=\"ProveItLink\" href=\"../8236c3da1b8673fd9c9af48e186f51c96e8ddf450/expr.ipynb\"><img src=\"../8236c3da1b8673fd9c9af48e186f51c96e8ddf450/expr.png\" style=\"display:inline;vertical-align:middle;\" /></a></td></tr>\n",
       "<tr><td>13</td><td>ExprTuple</td><td>17</td><td><a class=\"ProveItLink\" href=\"../../../../../../numbers/number_sets/natural_numbers/__pv_it/common/2048ac4936a0fdafec65dc88dd04b24596ab2f8b0/expr.ipynb\"><img src=\"../../../../../../numbers/number_sets/natural_numbers/__pv_it/common/2048ac4936a0fdafec65dc88dd04b24596ab2f8b0/expr.png\" style=\"display:inline;vertical-align:middle;\" /></a></td></tr>\n",
       "<tr><td>14</td><td>Literal</td><td></td><td><a class=\"ProveItLink\" href=\"../../../../../../linear_algebra/scalar_multiplication/__pv_it/common/1e364bd471e6a29fcd358dd2d9cd990a1e6fedd40/expr.ipynb\"><img src=\"../../../../../../linear_algebra/scalar_multiplication/__pv_it/common/1e364bd471e6a29fcd358dd2d9cd990a1e6fedd40/expr.png\" style=\"display:inline;vertical-align:middle;\" /></a></td></tr>\n",
       "<tr><td>15</td><td>ExprTuple</td><td>18, 19</td><td><a class=\"ProveItLink\" href=\"../26aebb0b7dacd58e0b1118c67a3670d3077ab8b40/expr.ipynb\"><img src=\"../26aebb0b7dacd58e0b1118c67a3670d3077ab8b40/expr.png\" style=\"display:inline;vertical-align:middle;\" /></a></td></tr>\n",
       "<tr><td>16</td><td>Operation</td><td>operator:&nbsp;39<br>operands:&nbsp;20<br></td><td><a class=\"ProveItLink\" href=\"../6d358bd9693c9f2f5c64a6b92b08b0a79de5cad30/expr.ipynb\"><img src=\"../6d358bd9693c9f2f5c64a6b92b08b0a79de5cad30/expr.png\" style=\"display:inline;vertical-align:middle;\" /></a></td></tr>\n",
       "<tr><td>17</td><td>Literal</td><td></td><td><a class=\"ProveItLink\" href=\"../../../../../../numbers/numerals/__pv_it/common/dd4e19e8b134dfb293470ea55fe3589b0ab9f8040/expr.ipynb\"><img src=\"../../../../../../numbers/numerals/__pv_it/common/dd4e19e8b134dfb293470ea55fe3589b0ab9f8040/expr.png\" style=\"display:inline;vertical-align:middle;\" /></a></td></tr>\n",
       "<tr><td>18</td><td>Operation</td><td>operator:&nbsp;43<br>operands:&nbsp;21<br></td><td><a class=\"ProveItLink\" href=\"../ac170f287a7b3dafde2be8ff702282a300f649210/expr.ipynb\"><img src=\"../ac170f287a7b3dafde2be8ff702282a300f649210/expr.png\" style=\"display:inline;vertical-align:middle;\" /></a></td></tr>\n",
       "<tr><td>19</td><td>Operation</td><td>operator:&nbsp;22<br>operand:&nbsp;45<br></td><td><a class=\"ProveItLink\" href=\"../../../../__pv_it/common/57cbcececeb3a772f3462a38bcf9836042f3091f0/expr.ipynb\"><img src=\"../../../../__pv_it/common/57cbcececeb3a772f3462a38bcf9836042f3091f0/expr.png\" style=\"display:inline;vertical-align:middle;\" /></a></td></tr>\n",
       "<tr><td>20</td><td>ExprTuple</td><td>24, 25</td><td><a class=\"ProveItLink\" href=\"../69a9b8bc7fe6ec43db4ff2c934b880a28c658c6e0/expr.ipynb\"><img src=\"../69a9b8bc7fe6ec43db4ff2c934b880a28c658c6e0/expr.png\" style=\"display:inline;vertical-align:middle;\" /></a></td></tr>\n",
       "<tr><td>21</td><td>ExprTuple</td><td>26, 27</td><td><a class=\"ProveItLink\" href=\"../e0c28448b537e13114e092e235da1c4ba70b53a60/expr.ipynb\"><img src=\"../e0c28448b537e13114e092e235da1c4ba70b53a60/expr.png\" style=\"display:inline;vertical-align:middle;\" /></a></td></tr>\n",
       "<tr><td>22</td><td>Literal</td><td></td><td><a class=\"ProveItLink\" href=\"../../../../algebra/__pv_it/common/e3872951fe05b26090372918594af92cac779e280/expr.ipynb\"><img src=\"../../../../algebra/__pv_it/common/e3872951fe05b26090372918594af92cac779e280/expr.png\" style=\"display:inline;vertical-align:middle;\" /></a></td></tr>\n",
       "<tr><td>23</td><td>ExprTuple</td><td>45</td><td><a class=\"ProveItLink\" href=\"../../../../__pv_it/common/b9e4f0dffece176bbe2f36127440684a20e0468e0/expr.ipynb\"><img src=\"../../../../__pv_it/common/b9e4f0dffece176bbe2f36127440684a20e0468e0/expr.png\" style=\"display:inline;vertical-align:middle;\" /></a></td></tr>\n",
       "<tr><td>24</td><td>Operation</td><td>operator:&nbsp;41<br>operands:&nbsp;28<br></td><td><a class=\"ProveItLink\" href=\"../9b7b87e36eb5d1bf2a5e0904510485c88cce4f000/expr.ipynb\"><img src=\"../9b7b87e36eb5d1bf2a5e0904510485c88cce4f000/expr.png\" style=\"display:inline;vertical-align:middle;\" /></a></td></tr>\n",
       "<tr><td>25</td><td>Operation</td><td>operator:&nbsp;29<br>operand:&nbsp;34<br></td><td><a class=\"ProveItLink\" href=\"../1a940d7e271cf72bb3cb2a65aae6272a3e90e23f0/expr.ipynb\"><img src=\"../1a940d7e271cf72bb3cb2a65aae6272a3e90e23f0/expr.png\" style=\"display:inline;vertical-align:middle;\" /></a></td></tr>\n",
       "<tr><td>26</td><td>Literal</td><td></td><td><a class=\"ProveItLink\" href=\"../../../../../../numbers/number_sets/real_numbers/__pv_it/common/e531ffa54fd897084533764a4a14f19f590674f80/expr.ipynb\"><img src=\"../../../../../../numbers/number_sets/real_numbers/__pv_it/common/e531ffa54fd897084533764a4a14f19f590674f80/expr.png\" style=\"display:inline;vertical-align:middle;\" /></a></td></tr>\n",
       "<tr><td>27</td><td>Operation</td><td>operator:&nbsp;31<br>operands:&nbsp;32<br></td><td><a class=\"ProveItLink\" href=\"../63ca3323541b75a0f65dac63cd2478d6693811780/expr.ipynb\"><img src=\"../63ca3323541b75a0f65dac63cd2478d6693811780/expr.png\" style=\"display:inline;vertical-align:middle;\" /></a></td></tr>\n",
       "<tr><td>28</td><td>ExprTuple</td><td>33, 46</td><td><a class=\"ProveItLink\" href=\"../39371d781afc97e6320229f82ada3cbc7ca206280/expr.ipynb\"><img src=\"../39371d781afc97e6320229f82ada3cbc7ca206280/expr.png\" style=\"display:inline;vertical-align:middle;\" /></a></td></tr>\n",
       "<tr><td>29</td><td>Literal</td><td></td><td><a class=\"ProveItLink\" href=\"../../../../../../numbers/negation/__pv_it/common/221b3c4d1770ee9051b7c044c3f9ec61196fc34b0/expr.ipynb\"><img src=\"../../../../../../numbers/negation/__pv_it/common/221b3c4d1770ee9051b7c044c3f9ec61196fc34b0/expr.png\" style=\"display:inline;vertical-align:middle;\" /></a></td></tr>\n",
       "<tr><td>30</td><td>ExprTuple</td><td>34</td><td><a class=\"ProveItLink\" href=\"../a7e1d07f1cf690fe2b38d57f9dab0c8278de83210/expr.ipynb\"><img src=\"../a7e1d07f1cf690fe2b38d57f9dab0c8278de83210/expr.png\" style=\"display:inline;vertical-align:middle;\" /></a></td></tr>\n",
       "<tr><td>31</td><td>Literal</td><td></td><td><a class=\"ProveItLink\" href=\"../../../../../../numbers/multiplication/__pv_it/common/ed719cef37831779c16481533a4d380a2f95ab270/expr.ipynb\"><img src=\"../../../../../../numbers/multiplication/__pv_it/common/ed719cef37831779c16481533a4d380a2f95ab270/expr.png\" style=\"display:inline;vertical-align:middle;\" /></a></td></tr>\n",
       "<tr><td>32</td><td>ExprTuple</td><td>46, 35, 36, 37, 38</td><td><a class=\"ProveItLink\" href=\"../5463a0b97fd30e0728201549db1d812547ed4e7b0/expr.ipynb\"><img src=\"../5463a0b97fd30e0728201549db1d812547ed4e7b0/expr.png\" style=\"display:inline;vertical-align:middle;\" /></a></td></tr>\n",
       "<tr><td>33</td><td>Operation</td><td>operator:&nbsp;39<br>operands:&nbsp;40<br></td><td><a class=\"ProveItLink\" href=\"../da3a9b7cb1fc73dc54679e3aad35b8e91b8d8f820/expr.ipynb\"><img src=\"../da3a9b7cb1fc73dc54679e3aad35b8e91b8d8f820/expr.png\" style=\"display:inline;vertical-align:middle;\" /></a></td></tr>\n",
       "<tr><td>34</td><td>Operation</td><td>operator:&nbsp;41<br>operands:&nbsp;42<br></td><td><a class=\"ProveItLink\" href=\"../../theorems/79e88202b3e0bbbafa23dfeda5e8ff19a48da24a0/expr.ipynb\"><img src=\"../../theorems/79e88202b3e0bbbafa23dfeda5e8ff19a48da24a0/expr.png\" style=\"display:inline;vertical-align:middle;\" /></a></td></tr>\n",
       "<tr><td>35</td><td>Literal</td><td></td><td><a class=\"ProveItLink\" href=\"../../../../../../numbers/number_sets/real_numbers/__pv_it/common/246c206266ac5b48800e508d580f91767b24c2df0/expr.ipynb\"><img src=\"../../../../../../numbers/number_sets/real_numbers/__pv_it/common/246c206266ac5b48800e508d580f91767b24c2df0/expr.png\" style=\"display:inline;vertical-align:middle;\" /></a></td></tr>\n",
       "<tr><td>36</td><td>Literal</td><td></td><td><a class=\"ProveItLink\" href=\"../../../../../../numbers/number_sets/complex_numbers/__pv_it/common/6c9cc69d472f352324c298b2318df233e9a7e0250/expr.ipynb\"><img src=\"../../../../../../numbers/number_sets/complex_numbers/__pv_it/common/6c9cc69d472f352324c298b2318df233e9a7e0250/expr.png\" style=\"display:inline;vertical-align:middle;\" /></a></td></tr>\n",
       "<tr><td>37</td><td>Literal</td><td></td><td><a class=\"ProveItLink\" href=\"../../common/d5e43a4a06cc3c8384d7262f5d019bed24f240ea0/expr.ipynb\"><img src=\"../../common/d5e43a4a06cc3c8384d7262f5d019bed24f240ea0/expr.png\" style=\"display:inline;vertical-align:middle;\" /></a></td></tr>\n",
       "<tr><td>38</td><td>Operation</td><td>operator:&nbsp;43<br>operands:&nbsp;44<br></td><td><a class=\"ProveItLink\" href=\"../../common/a014d9681ed5f22f1d322e1e6f8f6a29a72641620/expr.ipynb\"><img src=\"../../common/a014d9681ed5f22f1d322e1e6f8f6a29a72641620/expr.png\" style=\"display:inline;vertical-align:middle;\" /></a></td></tr>\n",
       "<tr><td>39</td><td>Literal</td><td></td><td><a class=\"ProveItLink\" href=\"../../../../../../numbers/addition/__pv_it/common/4b7effaab3619a1c2c38fe2dee8601df8ec714590/expr.ipynb\"><img src=\"../../../../../../numbers/addition/__pv_it/common/4b7effaab3619a1c2c38fe2dee8601df8ec714590/expr.png\" style=\"display:inline;vertical-align:middle;\" /></a></td></tr>\n",
       "<tr><td>40</td><td>ExprTuple</td><td>47, 45</td><td><a class=\"ProveItLink\" href=\"../163d7569c6c27dcd1ee82c5775d619290779899c0/expr.ipynb\"><img src=\"../163d7569c6c27dcd1ee82c5775d619290779899c0/expr.png\" style=\"display:inline;vertical-align:middle;\" /></a></td></tr>\n",
       "<tr><td>41</td><td>Literal</td><td></td><td><a class=\"ProveItLink\" href=\"../../../../../../numbers/division/__pv_it/common/a2a633e1e3c749fb1f2692466b287b6348c5de840/expr.ipynb\"><img src=\"../../../../../../numbers/division/__pv_it/common/a2a633e1e3c749fb1f2692466b287b6348c5de840/expr.png\" style=\"display:inline;vertical-align:middle;\" /></a></td></tr>\n",
       "<tr><td>42</td><td>ExprTuple</td><td>47, 46</td><td><a class=\"ProveItLink\" href=\"../../theorems/122db0adf1291a8b0c43cc47585f3efedb83ef920/expr.ipynb\"><img src=\"../../theorems/122db0adf1291a8b0c43cc47585f3efedb83ef920/expr.png\" style=\"display:inline;vertical-align:middle;\" /></a></td></tr>\n",
       "<tr><td>43</td><td>Literal</td><td></td><td><a class=\"ProveItLink\" href=\"../../../../../../numbers/exponentiation/__pv_it/common/0ac37aca1e54c35c5cda09672df32d4f69f1f3020/expr.ipynb\"><img src=\"../../../../../../numbers/exponentiation/__pv_it/common/0ac37aca1e54c35c5cda09672df32d4f69f1f3020/expr.png\" style=\"display:inline;vertical-align:middle;\" /></a></td></tr>\n",
       "<tr><td>44</td><td>ExprTuple</td><td>46, 47</td><td><a class=\"ProveItLink\" href=\"../../common/620247c38a794b8e2a0fe6158f0aa55d8c4a68c60/expr.ipynb\"><img src=\"../../common/620247c38a794b8e2a0fe6158f0aa55d8c4a68c60/expr.png\" style=\"display:inline;vertical-align:middle;\" /></a></td></tr>\n",
       "<tr><td>45</td><td>Literal</td><td></td><td><a class=\"ProveItLink\" href=\"../../../../../../numbers/numerals/__pv_it/common/682157d4892d216d9e5626ed533aff9b56b9506e0/expr.ipynb\"><img src=\"../../../../../../numbers/numerals/__pv_it/common/682157d4892d216d9e5626ed533aff9b56b9506e0/expr.png\" style=\"display:inline;vertical-align:middle;\" /></a></td></tr>\n",
       "<tr><td>46</td><td>Literal</td><td></td><td><a class=\"ProveItLink\" href=\"../../../../../../numbers/numerals/__pv_it/common/af4aab8a07465db063742696e006d04670f30cf10/expr.ipynb\"><img src=\"../../../../../../numbers/numerals/__pv_it/common/af4aab8a07465db063742696e006d04670f30cf10/expr.png\" style=\"display:inline;vertical-align:middle;\" /></a></td></tr>\n",
       "<tr><td>47</td><td>Variable</td><td></td><td><a class=\"ProveItLink\" href=\"../../../../../../__pv_it/common/36861eae73a44b53d5b3b017ac6a3a9dae53bfba0/expr.ipynb\"><img src=\"../../../../../../__pv_it/common/36861eae73a44b53d5b3b017ac6a3a9dae53bfba0/expr.png\" style=\"display:inline;vertical-align:middle;\" /></a></td></tr>\n",
       "</table>\n"
      ],
      "text/plain": [
       "0. ((1 / 2^{((t + 1) / 2) - (t / 2)}) * (|0〉 + (e^{2 * pi * i * phase * 2^{t}} * |1〉)), _a)\n",
       "   core type: ExprTuple\n",
       "   sub-expressions: 1, 2\n",
       "1. (1 / 2^{((t + 1) / 2) - (t / 2)}) * (|0〉 + (e^{2 * pi * i * phase * 2^{t}} * |1〉))\n",
       "   core type: Operation\n",
       "   operator: 14\n",
       "   operands: 3\n",
       "2. _a\n",
       "   core type: Variable\n",
       "   sub-expressions: \n",
       "3. (1 / 2^{((t + 1) / 2) - (t / 2)}, |0〉 + (e^{2 * pi * i * phase * 2^{t}} * |1〉))\n",
       "   core type: ExprTuple\n",
       "   sub-expressions: 4, 5\n",
       "4. 1 / 2^{((t + 1) / 2) - (t / 2)}\n",
       "   core type: Operation\n",
       "   operator: 41\n",
       "   operands: 6\n",
       "5. |0〉 + (e^{2 * pi * i * phase * 2^{t}} * |1〉)\n",
       "   core type: Operation\n",
       "   operator: 7\n",
       "   operands: 8\n",
       "6. (1, 2^{((t + 1) / 2) - (t / 2)})\n",
       "   core type: ExprTuple\n",
       "   sub-expressions: 45, 9\n",
       "7. +\n",
       "   core type: Literal\n",
       "   sub-expressions: \n",
       "8. (|0〉, e^{2 * pi * i * phase * 2^{t}} * |1〉)\n",
       "   core type: ExprTuple\n",
       "   sub-expressions: 10, 11\n",
       "9. 2^{((t + 1) / 2) - (t / 2)}\n",
       "   core type: Operation\n",
       "   operator: 43\n",
       "   operands: 12\n",
       "10. |0〉\n",
       "    core type: Operation\n",
       "    operator: 22\n",
       "    operand: 17\n",
       "11. e^{2 * pi * i * phase * 2^{t}} * |1〉\n",
       "    core type: Operation\n",
       "    operator: 14\n",
       "    operands: 15\n",
       "12. (2, ((t + 1) / 2) - (t / 2))\n",
       "    core type: ExprTuple\n",
       "    sub-expressions: 46, 16\n",
       "13. (0)\n",
       "    core type: ExprTuple\n",
       "    sub-expressions: 17\n",
       "14. *\n",
       "    core type: Literal\n",
       "    sub-expressions: \n",
       "15. (e^{2 * pi * i * phase * 2^{t}}, |1〉)\n",
       "    core type: ExprTuple\n",
       "    sub-expressions: 18, 19\n",
       "16. ((t + 1) / 2) - (t / 2)\n",
       "    core type: Operation\n",
       "    operator: 39\n",
       "    operands: 20\n",
       "17. 0\n",
       "    core type: Literal\n",
       "    sub-expressions: \n",
       "18. e^{2 * pi * i * phase * 2^{t}}\n",
       "    core type: Operation\n",
       "    operator: 43\n",
       "    operands: 21\n",
       "19. |1〉\n",
       "    core type: Operation\n",
       "    operator: 22\n",
       "    operand: 45\n",
       "20. ((t + 1) / 2, -(t / 2))\n",
       "    core type: ExprTuple\n",
       "    sub-expressions: 24, 25\n",
       "21. (e, 2 * pi * i * phase * 2^{t})\n",
       "    core type: ExprTuple\n",
       "    sub-expressions: 26, 27\n",
       "22. KET\n",
       "    core type: Literal\n",
       "    sub-expressions: \n",
       "23. (1)\n",
       "    core type: ExprTuple\n",
       "    sub-expressions: 45\n",
       "24. (t + 1) / 2\n",
       "    core type: Operation\n",
       "    operator: 41\n",
       "    operands: 28\n",
       "25. -(t / 2)\n",
       "    core type: Operation\n",
       "    operator: 29\n",
       "    operand: 34\n",
       "26. e\n",
       "    core type: Literal\n",
       "    sub-expressions: \n",
       "27. 2 * pi * i * phase * 2^{t}\n",
       "    core type: Operation\n",
       "    operator: 31\n",
       "    operands: 32\n",
       "28. (t + 1, 2)\n",
       "    core type: ExprTuple\n",
       "    sub-expressions: 33, 46\n",
       "29. -\n",
       "    core type: Literal\n",
       "    sub-expressions: \n",
       "30. (t / 2)\n",
       "    core type: ExprTuple\n",
       "    sub-expressions: 34\n",
       "31. *\n",
       "    core type: Literal\n",
       "    sub-expressions: \n",
       "32. (2, pi, i, phase, 2^{t})\n",
       "    core type: ExprTuple\n",
       "    sub-expressions: 46, 35, 36, 37, 38\n",
       "33. t + 1\n",
       "    core type: Operation\n",
       "    operator: 39\n",
       "    operands: 40\n",
       "34. t / 2\n",
       "    core type: Operation\n",
       "    operator: 41\n",
       "    operands: 42\n",
       "35. pi\n",
       "    core type: Literal\n",
       "    sub-expressions: \n",
       "36. i\n",
       "    core type: Literal\n",
       "    sub-expressions: \n",
       "37. phase\n",
       "    core type: Literal\n",
       "    sub-expressions: \n",
       "38. 2^{t}\n",
       "    core type: Operation\n",
       "    operator: 43\n",
       "    operands: 44\n",
       "39. +\n",
       "    core type: Literal\n",
       "    sub-expressions: \n",
       "40. (t, 1)\n",
       "    core type: ExprTuple\n",
       "    sub-expressions: 47, 45\n",
       "41. /\n",
       "    core type: Literal\n",
       "    sub-expressions: \n",
       "42. (t, 2)\n",
       "    core type: ExprTuple\n",
       "    sub-expressions: 47, 46\n",
       "43. Exp\n",
       "    core type: Literal\n",
       "    sub-expressions: \n",
       "44. (2, t)\n",
       "    core type: ExprTuple\n",
       "    sub-expressions: 46, 47\n",
       "45. 1\n",
       "    core type: Literal\n",
       "    sub-expressions: \n",
       "46. 2\n",
       "    core type: Literal\n",
       "    sub-expressions: \n",
       "47. t\n",
       "    core type: Variable\n",
       "    sub-expressions: "
      ]
     },
     "metadata": {},
     "output_type": "display_data"
    }
   ],
   "source": [
    "# display the expression information\n",
    "stored_expr.expr_info()"
   ]
  },
  {
   "cell_type": "code",
   "execution_count": null,
   "metadata": {},
   "outputs": [],
   "source": []
  }
 ],
 "metadata": {
  "kernelspec": {
   "display_name": "Python 3",
   "language": "python",
   "name": "python3"
  }
 },
 "nbformat": 4,
 "nbformat_minor": 0
}