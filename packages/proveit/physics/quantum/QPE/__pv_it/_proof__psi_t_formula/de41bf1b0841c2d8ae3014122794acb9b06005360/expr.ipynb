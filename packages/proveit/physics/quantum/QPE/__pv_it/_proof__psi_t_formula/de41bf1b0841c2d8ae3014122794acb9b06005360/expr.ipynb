{
 "cells": [
  {
   "cell_type": "markdown",
   "metadata": {},
   "source": [
    "Expression of type <a class=\"ProveItLink\" href=\"../../../../../../../../doc/html/api/proveit.logic.InSet.html\">InSet</a>\n",
    "=======================\n",
    "# from the theory of <a class=\"ProveItLink\" href=\"../../../_theory_nbs_/theory.ipynb\">proveit.physics.quantum.QPE</a>"
   ]
  },
  {
   "cell_type": "code",
   "execution_count": 1,
   "metadata": {},
   "outputs": [],
   "source": [
    "import proveit\n",
    "# Automation is not needed when building an expression:\n",
    "proveit.defaults.automation = False # This will speed things up.\n",
    "proveit.defaults.inline_pngs = False # Makes files smaller.\n",
    "%load_expr # Load the stored expression as 'stored_expr'\n",
    "# import Expression classes needed to build the expression\n",
    "from proveit import k, t\n",
    "from proveit.linear_algebra import ScalarMult, VecSum\n",
    "from proveit.logic import CartExp, InSet\n",
    "from proveit.numbers import Complex, Exp, Interval, Mult, e, i, one, pi, subtract, two, zero\n",
    "from proveit.physics.quantum import NumKet\n",
    "from proveit.physics.quantum.QPE import _phase, two_pow_t"
   ]
  },
  {
   "cell_type": "code",
   "execution_count": 2,
   "metadata": {},
   "outputs": [
    {
     "data": {
      "text/html": [
       "<strong id=\"expr\">expr:</strong> <a class=\"ProveItLink\" href=\"expr.ipynb\"><img src=\"expr.png\" style=\"display:inline;vertical-align:middle;\" /></a><br>"
      ],
      "text/plain": [
       "<IPython.core.display.HTML object>"
      ]
     },
     "metadata": {},
     "output_type": "display_data"
    }
   ],
   "source": [
    "# build up the expression from sub-expressions\n",
    "expr = InSet(VecSum(index_or_indices = [k], summand = ScalarMult(Exp(e, Mult(two, pi, i, _phase, k)), NumKet(k, t)), domain = Interval(zero, subtract(two_pow_t, one))), CartExp(Complex, two_pow_t))"
   ]
  },
  {
   "cell_type": "code",
   "execution_count": 3,
   "metadata": {},
   "outputs": [
    {
     "name": "stdout",
     "output_type": "stream",
     "text": [
      "Passed sanity check: expr matches stored_expr\n"
     ]
    }
   ],
   "source": [
    "# check that the built expression is the same as the stored expression\n",
    "assert expr == stored_expr\n",
    "assert expr._style_id == stored_expr._style_id\n",
    "print(\"Passed sanity check: expr matches stored_expr\")"
   ]
  },
  {
   "cell_type": "code",
   "execution_count": 4,
   "metadata": {},
   "outputs": [
    {
     "name": "stdout",
     "output_type": "stream",
     "text": [
      "\\left(\\sum_{k=0}^{2^{t} - 1} \\left(\\mathsf{e}^{2 \\cdot \\pi \\cdot \\mathsf{i} \\cdot \\varphi \\cdot k} \\cdot \\lvert k \\rangle_{t}\\right)\\right) \\in \\mathbb{C}^{2^{t}}\n"
     ]
    }
   ],
   "source": [
    "# Show the LaTeX representation of the expression for convenience if you need it.\n",
    "print(stored_expr.latex())"
   ]
  },
  {
   "cell_type": "code",
   "execution_count": 5,
   "metadata": {},
   "outputs": [
    {
     "data": {
      "text/html": [
       "<table>\n",
       "<tr><th>name</th><th>description</th><th>default</th><th>current value</th><th>related methods</th></tr><tr><td>operation</td><td>'infix' or 'function' style formatting</td><td>infix</td><td>infix</td><td></td></tr>\n",
       "<tr><td>wrap_positions</td><td>position(s) at which wrapping is to occur; '2 n - 1' is after the nth operand, '2 n' is after the nth operation.</td><td>()</td><td>()</td><td>('with_wrapping_at', 'with_wrap_before_operator', 'with_wrap_after_operator', 'without_wrapping', 'wrap_positions')</td></tr>\n",
       "<tr><td>justification</td><td>if any wrap positions are set, justify to the 'left', 'center', or 'right'</td><td>center</td><td>center</td><td>('with_justification',)</td></tr>\n",
       "<tr><td>direction</td><td>Direction of the relation (normal or reversed)</td><td>normal</td><td>normal</td><td>('with_direction_reversed', 'is_reversed')</td></tr>\n",
       "</table>\n"
      ],
      "text/plain": [
       "style name: operation\n",
       "description: 'infix' or 'function' style formatting\n",
       "default: infix\n",
       "current value: infix\n",
       "related methods: ()\n",
       "style name: wrap_positions\n",
       "description: position(s) at which wrapping is to occur; '2 n - 1' is after the nth operand, '2 n' is after the nth operation.\n",
       "default: ()\n",
       "current value: ()\n",
       "related methods: ('with_wrapping_at', 'with_wrap_before_operator', 'with_wrap_after_operator', 'without_wrapping', 'wrap_positions')\n",
       "style name: justification\n",
       "description: if any wrap positions are set, justify to the 'left', 'center', or 'right'\n",
       "default: center\n",
       "current value: center\n",
       "related methods: ('with_justification',)\n",
       "style name: direction\n",
       "description: Direction of the relation (normal or reversed)\n",
       "default: normal\n",
       "current value: normal\n",
       "related methods: ('with_direction_reversed', 'is_reversed')"
      ]
     },
     "metadata": {},
     "output_type": "display_data"
    }
   ],
   "source": [
    "stored_expr.style_options()"
   ]
  },
  {
   "cell_type": "code",
   "execution_count": 6,
   "metadata": {},
   "outputs": [
    {
     "data": {
      "text/html": [
       "<table><tr><th>&nbsp;</th><th>core type</th><th>sub-expressions</th><th>expression</th></tr>\n",
       "<tr><td>0</td><td>Operation</td><td>operator:&nbsp;16<br>operands:&nbsp;1<br></td><td><a class=\"ProveItLink\" href=\"expr.ipynb\"><img src=\"expr.png\" style=\"display:inline;vertical-align:middle;\" /></a></td></tr>\n",
       "<tr><td>1</td><td>ExprTuple</td><td>2, 3</td><td><a class=\"ProveItLink\" href=\"../737e6129298f57e18db06bc6b3f808eb5f00bb7c0/expr.ipynb\"><img src=\"../737e6129298f57e18db06bc6b3f808eb5f00bb7c0/expr.png\" style=\"display:inline;vertical-align:middle;\" /></a></td></tr>\n",
       "<tr><td>2</td><td>Operation</td><td>operator:&nbsp;4<br>operand:&nbsp;8<br></td><td><a class=\"ProveItLink\" href=\"../../theorems/e1e65ffecceaee4960e916a760c68880ef4e06780/expr.ipynb\"><img src=\"../../theorems/e1e65ffecceaee4960e916a760c68880ef4e06780/expr.png\" style=\"display:inline;vertical-align:middle;\" /></a></td></tr>\n",
       "<tr><td>3</td><td>Operation</td><td>operator:&nbsp;6<br>operands:&nbsp;7<br></td><td><a class=\"ProveItLink\" href=\"../159b10cef8a4d9569c7d0082018ceb562e82e0b20/expr.ipynb\"><img src=\"../159b10cef8a4d9569c7d0082018ceb562e82e0b20/expr.png\" style=\"display:inline;vertical-align:middle;\" /></a></td></tr>\n",
       "<tr><td>4</td><td>Literal</td><td></td><td><a class=\"ProveItLink\" href=\"../../../../../../linear_algebra/addition/__pv_it/common/62f73c830c62efb87627ede5678f282081cd0ce20/expr.ipynb\"><img src=\"../../../../../../linear_algebra/addition/__pv_it/common/62f73c830c62efb87627ede5678f282081cd0ce20/expr.png\" style=\"display:inline;vertical-align:middle;\" /></a></td></tr>\n",
       "<tr><td>5</td><td>ExprTuple</td><td>8</td><td><a class=\"ProveItLink\" href=\"../../theorems/7570d2a960758b6126bc59c0862a51ddbd1a72b30/expr.ipynb\"><img src=\"../../theorems/7570d2a960758b6126bc59c0862a51ddbd1a72b30/expr.png\" style=\"display:inline;vertical-align:middle;\" /></a></td></tr>\n",
       "<tr><td>6</td><td>Literal</td><td></td><td><a class=\"ProveItLink\" href=\"../../../../../../logic/sets/cartesian_products/__pv_it/common/7d20d67ddfbd94ad12efc9670c0d16a295b8ec1a0/expr.ipynb\"><img src=\"../../../../../../logic/sets/cartesian_products/__pv_it/common/7d20d67ddfbd94ad12efc9670c0d16a295b8ec1a0/expr.png\" style=\"display:inline;vertical-align:middle;\" /></a></td></tr>\n",
       "<tr><td>7</td><td>ExprTuple</td><td>9, 38</td><td><a class=\"ProveItLink\" href=\"../1753dab333e9a109aa678ad17b221191946cb3ad0/expr.ipynb\"><img src=\"../1753dab333e9a109aa678ad17b221191946cb3ad0/expr.png\" style=\"display:inline;vertical-align:middle;\" /></a></td></tr>\n",
       "<tr><td>8</td><td>Lambda</td><td>parameter:&nbsp;37<br>body:&nbsp;11<br></td><td><a class=\"ProveItLink\" href=\"../../theorems/27e25583bcf6424931b8c5df2a69eca8bc355bba0/expr.ipynb\"><img src=\"../../theorems/27e25583bcf6424931b8c5df2a69eca8bc355bba0/expr.png\" style=\"display:inline;vertical-align:middle;\" /></a></td></tr>\n",
       "<tr><td>9</td><td>Literal</td><td></td><td><a class=\"ProveItLink\" href=\"../../../../../../numbers/number_sets/complex_numbers/__pv_it/common/d18a028138f659eda00de597c28a3447fe87eb100/expr.ipynb\"><img src=\"../../../../../../numbers/number_sets/complex_numbers/__pv_it/common/d18a028138f659eda00de597c28a3447fe87eb100/expr.png\" style=\"display:inline;vertical-align:middle;\" /></a></td></tr>\n",
       "<tr><td>10</td><td>ExprTuple</td><td>37</td><td><a class=\"ProveItLink\" href=\"../../../../../../__pv_it/common/688b115fcd711144fb0bdcf2138b0bd26487dd890/expr.ipynb\"><img src=\"../../../../../../__pv_it/common/688b115fcd711144fb0bdcf2138b0bd26487dd890/expr.png\" style=\"display:inline;vertical-align:middle;\" /></a></td></tr>\n",
       "<tr><td>11</td><td>Conditional</td><td>value:&nbsp;12<br>condition:&nbsp;13<br></td><td><a class=\"ProveItLink\" href=\"../../theorems/998be87408023a2676a3c84b26f2f4a1a948b04e0/expr.ipynb\"><img src=\"../../theorems/998be87408023a2676a3c84b26f2f4a1a948b04e0/expr.png\" style=\"display:inline;vertical-align:middle;\" /></a></td></tr>\n",
       "<tr><td>12</td><td>Operation</td><td>operator:&nbsp;14<br>operands:&nbsp;15<br></td><td><a class=\"ProveItLink\" href=\"../../theorems/be8b95deb525c9c1c0c1f9135f03a2a842b768c20/expr.ipynb\"><img src=\"../../theorems/be8b95deb525c9c1c0c1f9135f03a2a842b768c20/expr.png\" style=\"display:inline;vertical-align:middle;\" /></a></td></tr>\n",
       "<tr><td>13</td><td>Operation</td><td>operator:&nbsp;16<br>operands:&nbsp;17<br></td><td><a class=\"ProveItLink\" href=\"../../theorems/f96b113649920e91f2100c5281286cc556b8f3f20/expr.ipynb\"><img src=\"../../theorems/f96b113649920e91f2100c5281286cc556b8f3f20/expr.png\" style=\"display:inline;vertical-align:middle;\" /></a></td></tr>\n",
       "<tr><td>14</td><td>Literal</td><td></td><td><a class=\"ProveItLink\" href=\"../../../../../../linear_algebra/scalar_multiplication/__pv_it/common/1e364bd471e6a29fcd358dd2d9cd990a1e6fedd40/expr.ipynb\"><img src=\"../../../../../../linear_algebra/scalar_multiplication/__pv_it/common/1e364bd471e6a29fcd358dd2d9cd990a1e6fedd40/expr.png\" style=\"display:inline;vertical-align:middle;\" /></a></td></tr>\n",
       "<tr><td>15</td><td>ExprTuple</td><td>18, 19</td><td><a class=\"ProveItLink\" href=\"../../theorems/50697d652d6460ecdf4b6a49b2d8c80df82ef3cb0/expr.ipynb\"><img src=\"../../theorems/50697d652d6460ecdf4b6a49b2d8c80df82ef3cb0/expr.png\" style=\"display:inline;vertical-align:middle;\" /></a></td></tr>\n",
       "<tr><td>16</td><td>Literal</td><td></td><td><a class=\"ProveItLink\" href=\"../../../../../../logic/sets/membership/__pv_it/common/477487d8796864d23d5810f83761435f25167f690/expr.ipynb\"><img src=\"../../../../../../logic/sets/membership/__pv_it/common/477487d8796864d23d5810f83761435f25167f690/expr.png\" style=\"display:inline;vertical-align:middle;\" /></a></td></tr>\n",
       "<tr><td>17</td><td>ExprTuple</td><td>37, 20</td><td><a class=\"ProveItLink\" href=\"../../theorems/d05c14f3c3f2d602322578fe5fe4c43523d32e720/expr.ipynb\"><img src=\"../../theorems/d05c14f3c3f2d602322578fe5fe4c43523d32e720/expr.png\" style=\"display:inline;vertical-align:middle;\" /></a></td></tr>\n",
       "<tr><td>18</td><td>Operation</td><td>operator:&nbsp;40<br>operands:&nbsp;21<br></td><td><a class=\"ProveItLink\" href=\"../../theorems/2c1a535bf143a3432d0b7b4c0c044d1032b311ec0/expr.ipynb\"><img src=\"../../theorems/2c1a535bf143a3432d0b7b4c0c044d1032b311ec0/expr.png\" style=\"display:inline;vertical-align:middle;\" /></a></td></tr>\n",
       "<tr><td>19</td><td>Operation</td><td>operator:&nbsp;22<br>operands:&nbsp;23<br></td><td><a class=\"ProveItLink\" href=\"../../theorems/e4531afa3d2e577877078f4b753c6da10b1b0beb0/expr.ipynb\"><img src=\"../../theorems/e4531afa3d2e577877078f4b753c6da10b1b0beb0/expr.png\" style=\"display:inline;vertical-align:middle;\" /></a></td></tr>\n",
       "<tr><td>20</td><td>Operation</td><td>operator:&nbsp;24<br>operands:&nbsp;25<br></td><td><a class=\"ProveItLink\" href=\"../../theorems/904fdaffb14babe7fdc4a3341d9bcad2602f0cbd0/expr.ipynb\"><img src=\"../../theorems/904fdaffb14babe7fdc4a3341d9bcad2602f0cbd0/expr.png\" style=\"display:inline;vertical-align:middle;\" /></a></td></tr>\n",
       "<tr><td>21</td><td>ExprTuple</td><td>26, 27</td><td><a class=\"ProveItLink\" href=\"../../theorems/7fc65e30a01a657038c276fe12cbc943da454c6c0/expr.ipynb\"><img src=\"../../theorems/7fc65e30a01a657038c276fe12cbc943da454c6c0/expr.png\" style=\"display:inline;vertical-align:middle;\" /></a></td></tr>\n",
       "<tr><td>22</td><td>Literal</td><td></td><td><a class=\"ProveItLink\" href=\"../../../../algebra/__pv_it/common/8fae26fc802d6e77100c911db42f2d3784cdc7330/expr.ipynb\"><img src=\"../../../../algebra/__pv_it/common/8fae26fc802d6e77100c911db42f2d3784cdc7330/expr.png\" style=\"display:inline;vertical-align:middle;\" /></a></td></tr>\n",
       "<tr><td>23</td><td>ExprTuple</td><td>37, 45</td><td><a class=\"ProveItLink\" href=\"../../theorems/036c9fd17b2a204b26e88eb8842434440a5599fd0/expr.ipynb\"><img src=\"../../theorems/036c9fd17b2a204b26e88eb8842434440a5599fd0/expr.png\" style=\"display:inline;vertical-align:middle;\" /></a></td></tr>\n",
       "<tr><td>24</td><td>Literal</td><td></td><td><a class=\"ProveItLink\" href=\"../../../../../../numbers/number_sets/integers/__pv_it/common/92f3a0a77e3c3ea8e4a5c8674edadc54e4f57d550/expr.ipynb\"><img src=\"../../../../../../numbers/number_sets/integers/__pv_it/common/92f3a0a77e3c3ea8e4a5c8674edadc54e4f57d550/expr.png\" style=\"display:inline;vertical-align:middle;\" /></a></td></tr>\n",
       "<tr><td>25</td><td>ExprTuple</td><td>28, 29</td><td><a class=\"ProveItLink\" href=\"../../theorems/ca33537086119adb625361a6d2ef53c191c7a09d0/expr.ipynb\"><img src=\"../../theorems/ca33537086119adb625361a6d2ef53c191c7a09d0/expr.png\" style=\"display:inline;vertical-align:middle;\" /></a></td></tr>\n",
       "<tr><td>26</td><td>Literal</td><td></td><td><a class=\"ProveItLink\" href=\"../../../../../../numbers/number_sets/real_numbers/__pv_it/common/e531ffa54fd897084533764a4a14f19f590674f80/expr.ipynb\"><img src=\"../../../../../../numbers/number_sets/real_numbers/__pv_it/common/e531ffa54fd897084533764a4a14f19f590674f80/expr.png\" style=\"display:inline;vertical-align:middle;\" /></a></td></tr>\n",
       "<tr><td>27</td><td>Operation</td><td>operator:&nbsp;30<br>operands:&nbsp;31<br></td><td><a class=\"ProveItLink\" href=\"../../theorems/0adba22132b513f20df65a9b53cb0c8f00d51b650/expr.ipynb\"><img src=\"../../theorems/0adba22132b513f20df65a9b53cb0c8f00d51b650/expr.png\" style=\"display:inline;vertical-align:middle;\" /></a></td></tr>\n",
       "<tr><td>28</td><td>Literal</td><td></td><td><a class=\"ProveItLink\" href=\"../../../../../../numbers/numerals/__pv_it/common/dd4e19e8b134dfb293470ea55fe3589b0ab9f8040/expr.ipynb\"><img src=\"../../../../../../numbers/numerals/__pv_it/common/dd4e19e8b134dfb293470ea55fe3589b0ab9f8040/expr.png\" style=\"display:inline;vertical-align:middle;\" /></a></td></tr>\n",
       "<tr><td>29</td><td>Operation</td><td>operator:&nbsp;32<br>operands:&nbsp;33<br></td><td><a class=\"ProveItLink\" href=\"../../theorems/c8c0e0f368a63137ceda65bd76f2135a922a579a0/expr.ipynb\"><img src=\"../../theorems/c8c0e0f368a63137ceda65bd76f2135a922a579a0/expr.png\" style=\"display:inline;vertical-align:middle;\" /></a></td></tr>\n",
       "<tr><td>30</td><td>Literal</td><td></td><td><a class=\"ProveItLink\" href=\"../../../../../../numbers/multiplication/__pv_it/common/ed719cef37831779c16481533a4d380a2f95ab270/expr.ipynb\"><img src=\"../../../../../../numbers/multiplication/__pv_it/common/ed719cef37831779c16481533a4d380a2f95ab270/expr.png\" style=\"display:inline;vertical-align:middle;\" /></a></td></tr>\n",
       "<tr><td>31</td><td>ExprTuple</td><td>44, 34, 35, 36, 37</td><td><a class=\"ProveItLink\" href=\"../../theorems/2112f73c2594adc999ec7cf2c7506d4201e84ed50/expr.ipynb\"><img src=\"../../theorems/2112f73c2594adc999ec7cf2c7506d4201e84ed50/expr.png\" style=\"display:inline;vertical-align:middle;\" /></a></td></tr>\n",
       "<tr><td>32</td><td>Literal</td><td></td><td><a class=\"ProveItLink\" href=\"../../../../../../numbers/addition/__pv_it/common/4b7effaab3619a1c2c38fe2dee8601df8ec714590/expr.ipynb\"><img src=\"../../../../../../numbers/addition/__pv_it/common/4b7effaab3619a1c2c38fe2dee8601df8ec714590/expr.png\" style=\"display:inline;vertical-align:middle;\" /></a></td></tr>\n",
       "<tr><td>33</td><td>ExprTuple</td><td>38, 39</td><td><a class=\"ProveItLink\" href=\"../../theorems/6959db9b15983fcde4cd517a3d77d68c541e785e0/expr.ipynb\"><img src=\"../../theorems/6959db9b15983fcde4cd517a3d77d68c541e785e0/expr.png\" style=\"display:inline;vertical-align:middle;\" /></a></td></tr>\n",
       "<tr><td>34</td><td>Literal</td><td></td><td><a class=\"ProveItLink\" href=\"../../../../../../numbers/number_sets/real_numbers/__pv_it/common/246c206266ac5b48800e508d580f91767b24c2df0/expr.ipynb\"><img src=\"../../../../../../numbers/number_sets/real_numbers/__pv_it/common/246c206266ac5b48800e508d580f91767b24c2df0/expr.png\" style=\"display:inline;vertical-align:middle;\" /></a></td></tr>\n",
       "<tr><td>35</td><td>Literal</td><td></td><td><a class=\"ProveItLink\" href=\"../../../../../../numbers/number_sets/complex_numbers/__pv_it/common/6c9cc69d472f352324c298b2318df233e9a7e0250/expr.ipynb\"><img src=\"../../../../../../numbers/number_sets/complex_numbers/__pv_it/common/6c9cc69d472f352324c298b2318df233e9a7e0250/expr.png\" style=\"display:inline;vertical-align:middle;\" /></a></td></tr>\n",
       "<tr><td>36</td><td>Literal</td><td></td><td><a class=\"ProveItLink\" href=\"../../common/d5e43a4a06cc3c8384d7262f5d019bed24f240ea0/expr.ipynb\"><img src=\"../../common/d5e43a4a06cc3c8384d7262f5d019bed24f240ea0/expr.png\" style=\"display:inline;vertical-align:middle;\" /></a></td></tr>\n",
       "<tr><td>37</td><td>Variable</td><td></td><td><a class=\"ProveItLink\" href=\"../../../../../../__pv_it/common/63b7c64bf9ec7a04ecc396c7a1670f3f12fb59490/expr.ipynb\"><img src=\"../../../../../../__pv_it/common/63b7c64bf9ec7a04ecc396c7a1670f3f12fb59490/expr.png\" style=\"display:inline;vertical-align:middle;\" /></a></td></tr>\n",
       "<tr><td>38</td><td>Operation</td><td>operator:&nbsp;40<br>operands:&nbsp;41<br></td><td><a class=\"ProveItLink\" href=\"../../common/a014d9681ed5f22f1d322e1e6f8f6a29a72641620/expr.ipynb\"><img src=\"../../common/a014d9681ed5f22f1d322e1e6f8f6a29a72641620/expr.png\" style=\"display:inline;vertical-align:middle;\" /></a></td></tr>\n",
       "<tr><td>39</td><td>Operation</td><td>operator:&nbsp;42<br>operand:&nbsp;46<br></td><td><a class=\"ProveItLink\" href=\"../../common/bf4beda21975fe8a0a5007615b5bcc943da59bb20/expr.ipynb\"><img src=\"../../common/bf4beda21975fe8a0a5007615b5bcc943da59bb20/expr.png\" style=\"display:inline;vertical-align:middle;\" /></a></td></tr>\n",
       "<tr><td>40</td><td>Literal</td><td></td><td><a class=\"ProveItLink\" href=\"../../../../../../numbers/exponentiation/__pv_it/common/0ac37aca1e54c35c5cda09672df32d4f69f1f3020/expr.ipynb\"><img src=\"../../../../../../numbers/exponentiation/__pv_it/common/0ac37aca1e54c35c5cda09672df32d4f69f1f3020/expr.png\" style=\"display:inline;vertical-align:middle;\" /></a></td></tr>\n",
       "<tr><td>41</td><td>ExprTuple</td><td>44, 45</td><td><a class=\"ProveItLink\" href=\"../../common/620247c38a794b8e2a0fe6158f0aa55d8c4a68c60/expr.ipynb\"><img src=\"../../common/620247c38a794b8e2a0fe6158f0aa55d8c4a68c60/expr.png\" style=\"display:inline;vertical-align:middle;\" /></a></td></tr>\n",
       "<tr><td>42</td><td>Literal</td><td></td><td><a class=\"ProveItLink\" href=\"../../../../../../numbers/negation/__pv_it/common/221b3c4d1770ee9051b7c044c3f9ec61196fc34b0/expr.ipynb\"><img src=\"../../../../../../numbers/negation/__pv_it/common/221b3c4d1770ee9051b7c044c3f9ec61196fc34b0/expr.png\" style=\"display:inline;vertical-align:middle;\" /></a></td></tr>\n",
       "<tr><td>43</td><td>ExprTuple</td><td>46</td><td><a class=\"ProveItLink\" href=\"../../../../__pv_it/common/b9e4f0dffece176bbe2f36127440684a20e0468e0/expr.ipynb\"><img src=\"../../../../__pv_it/common/b9e4f0dffece176bbe2f36127440684a20e0468e0/expr.png\" style=\"display:inline;vertical-align:middle;\" /></a></td></tr>\n",
       "<tr><td>44</td><td>Literal</td><td></td><td><a class=\"ProveItLink\" href=\"../../../../../../numbers/numerals/__pv_it/common/af4aab8a07465db063742696e006d04670f30cf10/expr.ipynb\"><img src=\"../../../../../../numbers/numerals/__pv_it/common/af4aab8a07465db063742696e006d04670f30cf10/expr.png\" style=\"display:inline;vertical-align:middle;\" /></a></td></tr>\n",
       "<tr><td>45</td><td>Variable</td><td></td><td><a class=\"ProveItLink\" href=\"../../../../../../__pv_it/common/36861eae73a44b53d5b3b017ac6a3a9dae53bfba0/expr.ipynb\"><img src=\"../../../../../../__pv_it/common/36861eae73a44b53d5b3b017ac6a3a9dae53bfba0/expr.png\" style=\"display:inline;vertical-align:middle;\" /></a></td></tr>\n",
       "<tr><td>46</td><td>Literal</td><td></td><td><a class=\"ProveItLink\" href=\"../../../../../../numbers/numerals/__pv_it/common/682157d4892d216d9e5626ed533aff9b56b9506e0/expr.ipynb\"><img src=\"../../../../../../numbers/numerals/__pv_it/common/682157d4892d216d9e5626ed533aff9b56b9506e0/expr.png\" style=\"display:inline;vertical-align:middle;\" /></a></td></tr>\n",
       "</table>\n"
      ],
      "text/plain": [
       "0. (Sum_{k=0}^{2^{t} - 1} (e^{2 * pi * i * phase * k} * |k〉_{t})) in Complex^{2^{t}}\n",
       "   core type: Operation\n",
       "   operator: 16\n",
       "   operands: 1\n",
       "1. (Sum_{k=0}^{2^{t} - 1} (e^{2 * pi * i * phase * k} * |k〉_{t}), Complex^{2^{t}})\n",
       "   core type: ExprTuple\n",
       "   sub-expressions: 2, 3\n",
       "2. Sum_{k=0}^{2^{t} - 1} (e^{2 * pi * i * phase * k} * |k〉_{t})\n",
       "   core type: Operation\n",
       "   operator: 4\n",
       "   operand: 8\n",
       "3. Complex^{2^{t}}\n",
       "   core type: Operation\n",
       "   operator: 6\n",
       "   operands: 7\n",
       "4. Sum\n",
       "   core type: Literal\n",
       "   sub-expressions: \n",
       "5. (k -> {e^{2 * pi * i * phase * k} * |k〉_{t} if k in {0 .. 2^{t} - 1}.)\n",
       "   core type: ExprTuple\n",
       "   sub-expressions: 8\n",
       "6. CartExp\n",
       "   core type: Literal\n",
       "   sub-expressions: \n",
       "7. (Complex, 2^{t})\n",
       "   core type: ExprTuple\n",
       "   sub-expressions: 9, 38\n",
       "8. k -> {e^{2 * pi * i * phase * k} * |k〉_{t} if k in {0 .. 2^{t} - 1}.\n",
       "   core type: Lambda\n",
       "   parameter: 37\n",
       "   body: 11\n",
       "9. Complex\n",
       "   core type: Literal\n",
       "   sub-expressions: \n",
       "10. (k)\n",
       "    core type: ExprTuple\n",
       "    sub-expressions: 37\n",
       "11. {e^{2 * pi * i * phase * k} * |k〉_{t} if k in {0 .. 2^{t} - 1}.\n",
       "    core type: Conditional\n",
       "    value: 12\n",
       "    condition: 13\n",
       "12. e^{2 * pi * i * phase * k} * |k〉_{t}\n",
       "    core type: Operation\n",
       "    operator: 14\n",
       "    operands: 15\n",
       "13. k in {0 .. 2^{t} - 1}\n",
       "    core type: Operation\n",
       "    operator: 16\n",
       "    operands: 17\n",
       "14. *\n",
       "    core type: Literal\n",
       "    sub-expressions: \n",
       "15. (e^{2 * pi * i * phase * k}, |k〉_{t})\n",
       "    core type: ExprTuple\n",
       "    sub-expressions: 18, 19\n",
       "16. in\n",
       "    core type: Literal\n",
       "    sub-expressions: \n",
       "17. (k, {0 .. 2^{t} - 1})\n",
       "    core type: ExprTuple\n",
       "    sub-expressions: 37, 20\n",
       "18. e^{2 * pi * i * phase * k}\n",
       "    core type: Operation\n",
       "    operator: 40\n",
       "    operands: 21\n",
       "19. |k〉_{t}\n",
       "    core type: Operation\n",
       "    operator: 22\n",
       "    operands: 23\n",
       "20. {0 .. 2^{t} - 1}\n",
       "    core type: Operation\n",
       "    operator: 24\n",
       "    operands: 25\n",
       "21. (e, 2 * pi * i * phase * k)\n",
       "    core type: ExprTuple\n",
       "    sub-expressions: 26, 27\n",
       "22. NUM_KET\n",
       "    core type: Literal\n",
       "    sub-expressions: \n",
       "23. (k, t)\n",
       "    core type: ExprTuple\n",
       "    sub-expressions: 37, 45\n",
       "24. Interval\n",
       "    core type: Literal\n",
       "    sub-expressions: \n",
       "25. (0, 2^{t} - 1)\n",
       "    core type: ExprTuple\n",
       "    sub-expressions: 28, 29\n",
       "26. e\n",
       "    core type: Literal\n",
       "    sub-expressions: \n",
       "27. 2 * pi * i * phase * k\n",
       "    core type: Operation\n",
       "    operator: 30\n",
       "    operands: 31\n",
       "28. 0\n",
       "    core type: Literal\n",
       "    sub-expressions: \n",
       "29. 2^{t} - 1\n",
       "    core type: Operation\n",
       "    operator: 32\n",
       "    operands: 33\n",
       "30. *\n",
       "    core type: Literal\n",
       "    sub-expressions: \n",
       "31. (2, pi, i, phase, k)\n",
       "    core type: ExprTuple\n",
       "    sub-expressions: 44, 34, 35, 36, 37\n",
       "32. +\n",
       "    core type: Literal\n",
       "    sub-expressions: \n",
       "33. (2^{t}, -1)\n",
       "    core type: ExprTuple\n",
       "    sub-expressions: 38, 39\n",
       "34. pi\n",
       "    core type: Literal\n",
       "    sub-expressions: \n",
       "35. i\n",
       "    core type: Literal\n",
       "    sub-expressions: \n",
       "36. phase\n",
       "    core type: Literal\n",
       "    sub-expressions: \n",
       "37. k\n",
       "    core type: Variable\n",
       "    sub-expressions: \n",
       "38. 2^{t}\n",
       "    core type: Operation\n",
       "    operator: 40\n",
       "    operands: 41\n",
       "39. -1\n",
       "    core type: Operation\n",
       "    operator: 42\n",
       "    operand: 46\n",
       "40. Exp\n",
       "    core type: Literal\n",
       "    sub-expressions: \n",
       "41. (2, t)\n",
       "    core type: ExprTuple\n",
       "    sub-expressions: 44, 45\n",
       "42. -\n",
       "    core type: Literal\n",
       "    sub-expressions: \n",
       "43. (1)\n",
       "    core type: ExprTuple\n",
       "    sub-expressions: 46\n",
       "44. 2\n",
       "    core type: Literal\n",
       "    sub-expressions: \n",
       "45. t\n",
       "    core type: Variable\n",
       "    sub-expressions: \n",
       "46. 1\n",
       "    core type: Literal\n",
       "    sub-expressions: "
      ]
     },
     "metadata": {},
     "output_type": "display_data"
    }
   ],
   "source": [
    "# display the expression information\n",
    "stored_expr.expr_info()"
   ]
  },
  {
   "cell_type": "code",
   "execution_count": null,
   "metadata": {},
   "outputs": [],
   "source": []
  }
 ],
 "metadata": {
  "kernelspec": {
   "display_name": "Python 3",
   "language": "python",
   "name": "python3"
  }
 },
 "nbformat": 4,
 "nbformat_minor": 0
}