{
 "cells": [
  {
   "cell_type": "markdown",
   "metadata": {},
   "source": [
    "Expression of type <a class=\"ProveItLink\" href=\"../../../../../../../../doc/html/api/proveit.Conditional.html\">Conditional</a>\n",
    "=======================\n",
    "# from the theory of <a class=\"ProveItLink\" href=\"../../../_theory_nbs_/theory.ipynb\">proveit.physics.quantum.QPE</a>"
   ]
  },
  {
   "cell_type": "code",
   "execution_count": 1,
   "metadata": {},
   "outputs": [],
   "source": [
    "import proveit\n",
    "# Automation is not needed when building an expression:\n",
    "proveit.defaults.automation = False # This will speed things up.\n",
    "proveit.defaults.inline_pngs = False # Makes files smaller.\n",
    "%load_expr # Load the stored expression as 'stored_expr'\n",
    "# import Expression classes needed to build the expression\n",
    "from proveit import Conditional, k\n",
    "from proveit.logic import Equals, InSet\n",
    "from proveit.numbers import Exp, Interval, Mult, e, i, one, pi, subtract, two, zero\n",
    "from proveit.physics.quantum.QPE import _phase, two_pow_t"
   ]
  },
  {
   "cell_type": "code",
   "execution_count": 2,
   "metadata": {},
   "outputs": [
    {
     "data": {
      "text/html": [
       "<strong id=\"expr\">expr:</strong> <a class=\"ProveItLink\" href=\"expr.ipynb\"><img src=\"expr.png\" style=\"display:inline;vertical-align:middle;\" /></a><br>"
      ],
      "text/plain": [
       "<IPython.core.display.HTML object>"
      ]
     },
     "metadata": {},
     "output_type": "display_data"
    }
   ],
   "source": [
    "# build up the expression from sub-expressions\n",
    "sub_expr1 = Exp(e, Mult(two, pi, i, _phase, k))\n",
    "sub_expr2 = Exp(e, Mult(two, pi, i, _phase, two_pow_t))\n",
    "expr = Conditional(Equals(Mult(sub_expr1, sub_expr2), Mult(sub_expr2, sub_expr1)), InSet(k, Interval(zero, subtract(two_pow_t, one))))"
   ]
  },
  {
   "cell_type": "code",
   "execution_count": 3,
   "metadata": {},
   "outputs": [
    {
     "name": "stdout",
     "output_type": "stream",
     "text": [
      "Passed sanity check: expr matches stored_expr\n"
     ]
    }
   ],
   "source": [
    "# check that the built expression is the same as the stored expression\n",
    "assert expr == stored_expr\n",
    "assert expr._style_id == stored_expr._style_id\n",
    "print(\"Passed sanity check: expr matches stored_expr\")"
   ]
  },
  {
   "cell_type": "code",
   "execution_count": 4,
   "metadata": {},
   "outputs": [
    {
     "name": "stdout",
     "output_type": "stream",
     "text": [
      "\\left\\{\\left(\\mathsf{e}^{2 \\cdot \\pi \\cdot \\mathsf{i} \\cdot \\varphi \\cdot k} \\cdot \\mathsf{e}^{2 \\cdot \\pi \\cdot \\mathsf{i} \\cdot \\varphi \\cdot 2^{t}}\\right) = \\left(\\mathsf{e}^{2 \\cdot \\pi \\cdot \\mathsf{i} \\cdot \\varphi \\cdot 2^{t}} \\cdot \\mathsf{e}^{2 \\cdot \\pi \\cdot \\mathsf{i} \\cdot \\varphi \\cdot k}\\right) \\textrm{ if } k \\in \\{0~\\ldotp \\ldotp~2^{t} - 1\\}\\right..\n"
     ]
    }
   ],
   "source": [
    "# Show the LaTeX representation of the expression for convenience if you need it.\n",
    "print(stored_expr.latex())"
   ]
  },
  {
   "cell_type": "code",
   "execution_count": 5,
   "metadata": {},
   "outputs": [
    {
     "data": {
      "text/html": [
       "<table>\n",
       "<tr><th>name</th><th>description</th><th>default</th><th>current value</th><th>related methods</th></tr><tr><td>condition_delimiter</td><td>'comma' or 'and'</td><td>comma</td><td>comma</td><td>('with_comma_delimiter', 'with_conjunction_delimiter')</td></tr>\n",
       "</table>\n"
      ],
      "text/plain": [
       "style name: condition_delimiter\n",
       "description: 'comma' or 'and'\n",
       "default: comma\n",
       "current value: comma\n",
       "related methods: ('with_comma_delimiter', 'with_conjunction_delimiter')"
      ]
     },
     "metadata": {},
     "output_type": "display_data"
    }
   ],
   "source": [
    "stored_expr.style_options()"
   ]
  },
  {
   "cell_type": "code",
   "execution_count": 6,
   "metadata": {},
   "outputs": [
    {
     "data": {
      "text/html": [
       "<table><tr><th>&nbsp;</th><th>core type</th><th>sub-expressions</th><th>expression</th></tr>\n",
       "<tr><td>0</td><td>Conditional</td><td>value:&nbsp;1<br>condition:&nbsp;2<br></td><td><a class=\"ProveItLink\" href=\"expr.ipynb\"><img src=\"expr.png\" style=\"display:inline;vertical-align:middle;\" /></a></td></tr>\n",
       "<tr><td>1</td><td>Operation</td><td>operator:&nbsp;3<br>operands:&nbsp;4<br></td><td><a class=\"ProveItLink\" href=\"../7d0b028a9ad103a8f1569c3f7a5b3eb3340ec4de0/expr.ipynb\"><img src=\"../7d0b028a9ad103a8f1569c3f7a5b3eb3340ec4de0/expr.png\" style=\"display:inline;vertical-align:middle;\" /></a></td></tr>\n",
       "<tr><td>2</td><td>Operation</td><td>operator:&nbsp;5<br>operands:&nbsp;6<br></td><td><a class=\"ProveItLink\" href=\"../../theorems/f96b113649920e91f2100c5281286cc556b8f3f20/expr.ipynb\"><img src=\"../../theorems/f96b113649920e91f2100c5281286cc556b8f3f20/expr.png\" style=\"display:inline;vertical-align:middle;\" /></a></td></tr>\n",
       "<tr><td>3</td><td>Literal</td><td></td><td><a class=\"ProveItLink\" href=\"../../../../../../logic/equality/__pv_it/common/fb96dc12b2aa8801dda64d0132b396c63d1502bb0/expr.ipynb\"><img src=\"../../../../../../logic/equality/__pv_it/common/fb96dc12b2aa8801dda64d0132b396c63d1502bb0/expr.png\" style=\"display:inline;vertical-align:middle;\" /></a></td></tr>\n",
       "<tr><td>4</td><td>ExprTuple</td><td>7, 8</td><td><a class=\"ProveItLink\" href=\"../c40f4fc14925f279c4b5eab596e671060a9daa840/expr.ipynb\"><img src=\"../c40f4fc14925f279c4b5eab596e671060a9daa840/expr.png\" style=\"display:inline;vertical-align:middle;\" /></a></td></tr>\n",
       "<tr><td>5</td><td>Literal</td><td></td><td><a class=\"ProveItLink\" href=\"../../../../../../logic/sets/membership/__pv_it/common/477487d8796864d23d5810f83761435f25167f690/expr.ipynb\"><img src=\"../../../../../../logic/sets/membership/__pv_it/common/477487d8796864d23d5810f83761435f25167f690/expr.png\" style=\"display:inline;vertical-align:middle;\" /></a></td></tr>\n",
       "<tr><td>6</td><td>ExprTuple</td><td>35, 9</td><td><a class=\"ProveItLink\" href=\"../../theorems/d05c14f3c3f2d602322578fe5fe4c43523d32e720/expr.ipynb\"><img src=\"../../theorems/d05c14f3c3f2d602322578fe5fe4c43523d32e720/expr.png\" style=\"display:inline;vertical-align:middle;\" /></a></td></tr>\n",
       "<tr><td>7</td><td>Operation</td><td>operator:&nbsp;27<br>operands:&nbsp;10<br></td><td><a class=\"ProveItLink\" href=\"../56f06930032230de9441a478029f67a72bf6e4b20/expr.ipynb\"><img src=\"../56f06930032230de9441a478029f67a72bf6e4b20/expr.png\" style=\"display:inline;vertical-align:middle;\" /></a></td></tr>\n",
       "<tr><td>8</td><td>Operation</td><td>operator:&nbsp;27<br>operands:&nbsp;11<br></td><td><a class=\"ProveItLink\" href=\"../a88bb2142948caf5b7d90a968e782a1ccfba698b0/expr.ipynb\"><img src=\"../a88bb2142948caf5b7d90a968e782a1ccfba698b0/expr.png\" style=\"display:inline;vertical-align:middle;\" /></a></td></tr>\n",
       "<tr><td>9</td><td>Operation</td><td>operator:&nbsp;12<br>operands:&nbsp;13<br></td><td><a class=\"ProveItLink\" href=\"../../theorems/904fdaffb14babe7fdc4a3341d9bcad2602f0cbd0/expr.ipynb\"><img src=\"../../theorems/904fdaffb14babe7fdc4a3341d9bcad2602f0cbd0/expr.png\" style=\"display:inline;vertical-align:middle;\" /></a></td></tr>\n",
       "<tr><td>10</td><td>ExprTuple</td><td>15, 14</td><td><a class=\"ProveItLink\" href=\"../caebb678e96c4c7364e30afd42569a8555c433d70/expr.ipynb\"><img src=\"../caebb678e96c4c7364e30afd42569a8555c433d70/expr.png\" style=\"display:inline;vertical-align:middle;\" /></a></td></tr>\n",
       "<tr><td>11</td><td>ExprTuple</td><td>14, 15</td><td><a class=\"ProveItLink\" href=\"../348ff8f490adbb075296a6e9efd1e7bb342128f60/expr.ipynb\"><img src=\"../348ff8f490adbb075296a6e9efd1e7bb342128f60/expr.png\" style=\"display:inline;vertical-align:middle;\" /></a></td></tr>\n",
       "<tr><td>12</td><td>Literal</td><td></td><td><a class=\"ProveItLink\" href=\"../../../../../../numbers/number_sets/integers/__pv_it/common/92f3a0a77e3c3ea8e4a5c8674edadc54e4f57d550/expr.ipynb\"><img src=\"../../../../../../numbers/number_sets/integers/__pv_it/common/92f3a0a77e3c3ea8e4a5c8674edadc54e4f57d550/expr.png\" style=\"display:inline;vertical-align:middle;\" /></a></td></tr>\n",
       "<tr><td>13</td><td>ExprTuple</td><td>16, 17</td><td><a class=\"ProveItLink\" href=\"../../theorems/ca33537086119adb625361a6d2ef53c191c7a09d0/expr.ipynb\"><img src=\"../../theorems/ca33537086119adb625361a6d2ef53c191c7a09d0/expr.png\" style=\"display:inline;vertical-align:middle;\" /></a></td></tr>\n",
       "<tr><td>14</td><td>Operation</td><td>operator:&nbsp;37<br>operands:&nbsp;18<br></td><td><a class=\"ProveItLink\" href=\"../ac170f287a7b3dafde2be8ff702282a300f649210/expr.ipynb\"><img src=\"../ac170f287a7b3dafde2be8ff702282a300f649210/expr.png\" style=\"display:inline;vertical-align:middle;\" /></a></td></tr>\n",
       "<tr><td>15</td><td>Operation</td><td>operator:&nbsp;37<br>operands:&nbsp;19<br></td><td><a class=\"ProveItLink\" href=\"../../theorems/2c1a535bf143a3432d0b7b4c0c044d1032b311ec0/expr.ipynb\"><img src=\"../../theorems/2c1a535bf143a3432d0b7b4c0c044d1032b311ec0/expr.png\" style=\"display:inline;vertical-align:middle;\" /></a></td></tr>\n",
       "<tr><td>16</td><td>Literal</td><td></td><td><a class=\"ProveItLink\" href=\"../../../../../../numbers/numerals/__pv_it/common/dd4e19e8b134dfb293470ea55fe3589b0ab9f8040/expr.ipynb\"><img src=\"../../../../../../numbers/numerals/__pv_it/common/dd4e19e8b134dfb293470ea55fe3589b0ab9f8040/expr.png\" style=\"display:inline;vertical-align:middle;\" /></a></td></tr>\n",
       "<tr><td>17</td><td>Operation</td><td>operator:&nbsp;20<br>operands:&nbsp;21<br></td><td><a class=\"ProveItLink\" href=\"../../theorems/c8c0e0f368a63137ceda65bd76f2135a922a579a0/expr.ipynb\"><img src=\"../../theorems/c8c0e0f368a63137ceda65bd76f2135a922a579a0/expr.png\" style=\"display:inline;vertical-align:middle;\" /></a></td></tr>\n",
       "<tr><td>18</td><td>ExprTuple</td><td>23, 22</td><td><a class=\"ProveItLink\" href=\"../e0c28448b537e13114e092e235da1c4ba70b53a60/expr.ipynb\"><img src=\"../e0c28448b537e13114e092e235da1c4ba70b53a60/expr.png\" style=\"display:inline;vertical-align:middle;\" /></a></td></tr>\n",
       "<tr><td>19</td><td>ExprTuple</td><td>23, 24</td><td><a class=\"ProveItLink\" href=\"../../theorems/7fc65e30a01a657038c276fe12cbc943da454c6c0/expr.ipynb\"><img src=\"../../theorems/7fc65e30a01a657038c276fe12cbc943da454c6c0/expr.png\" style=\"display:inline;vertical-align:middle;\" /></a></td></tr>\n",
       "<tr><td>20</td><td>Literal</td><td></td><td><a class=\"ProveItLink\" href=\"../../../../../../numbers/addition/__pv_it/common/4b7effaab3619a1c2c38fe2dee8601df8ec714590/expr.ipynb\"><img src=\"../../../../../../numbers/addition/__pv_it/common/4b7effaab3619a1c2c38fe2dee8601df8ec714590/expr.png\" style=\"display:inline;vertical-align:middle;\" /></a></td></tr>\n",
       "<tr><td>21</td><td>ExprTuple</td><td>31, 25</td><td><a class=\"ProveItLink\" href=\"../../theorems/6959db9b15983fcde4cd517a3d77d68c541e785e0/expr.ipynb\"><img src=\"../../theorems/6959db9b15983fcde4cd517a3d77d68c541e785e0/expr.png\" style=\"display:inline;vertical-align:middle;\" /></a></td></tr>\n",
       "<tr><td>22</td><td>Operation</td><td>operator:&nbsp;27<br>operands:&nbsp;26<br></td><td><a class=\"ProveItLink\" href=\"../63ca3323541b75a0f65dac63cd2478d6693811780/expr.ipynb\"><img src=\"../63ca3323541b75a0f65dac63cd2478d6693811780/expr.png\" style=\"display:inline;vertical-align:middle;\" /></a></td></tr>\n",
       "<tr><td>23</td><td>Literal</td><td></td><td><a class=\"ProveItLink\" href=\"../../../../../../numbers/number_sets/real_numbers/__pv_it/common/e531ffa54fd897084533764a4a14f19f590674f80/expr.ipynb\"><img src=\"../../../../../../numbers/number_sets/real_numbers/__pv_it/common/e531ffa54fd897084533764a4a14f19f590674f80/expr.png\" style=\"display:inline;vertical-align:middle;\" /></a></td></tr>\n",
       "<tr><td>24</td><td>Operation</td><td>operator:&nbsp;27<br>operands:&nbsp;28<br></td><td><a class=\"ProveItLink\" href=\"../../theorems/0adba22132b513f20df65a9b53cb0c8f00d51b650/expr.ipynb\"><img src=\"../../theorems/0adba22132b513f20df65a9b53cb0c8f00d51b650/expr.png\" style=\"display:inline;vertical-align:middle;\" /></a></td></tr>\n",
       "<tr><td>25</td><td>Operation</td><td>operator:&nbsp;29<br>operand:&nbsp;36<br></td><td><a class=\"ProveItLink\" href=\"../../common/bf4beda21975fe8a0a5007615b5bcc943da59bb20/expr.ipynb\"><img src=\"../../common/bf4beda21975fe8a0a5007615b5bcc943da59bb20/expr.png\" style=\"display:inline;vertical-align:middle;\" /></a></td></tr>\n",
       "<tr><td>26</td><td>ExprTuple</td><td>39, 32, 33, 34, 31</td><td><a class=\"ProveItLink\" href=\"../5463a0b97fd30e0728201549db1d812547ed4e7b0/expr.ipynb\"><img src=\"../5463a0b97fd30e0728201549db1d812547ed4e7b0/expr.png\" style=\"display:inline;vertical-align:middle;\" /></a></td></tr>\n",
       "<tr><td>27</td><td>Literal</td><td></td><td><a class=\"ProveItLink\" href=\"../../../../../../numbers/multiplication/__pv_it/common/ed719cef37831779c16481533a4d380a2f95ab270/expr.ipynb\"><img src=\"../../../../../../numbers/multiplication/__pv_it/common/ed719cef37831779c16481533a4d380a2f95ab270/expr.png\" style=\"display:inline;vertical-align:middle;\" /></a></td></tr>\n",
       "<tr><td>28</td><td>ExprTuple</td><td>39, 32, 33, 34, 35</td><td><a class=\"ProveItLink\" href=\"../../theorems/2112f73c2594adc999ec7cf2c7506d4201e84ed50/expr.ipynb\"><img src=\"../../theorems/2112f73c2594adc999ec7cf2c7506d4201e84ed50/expr.png\" style=\"display:inline;vertical-align:middle;\" /></a></td></tr>\n",
       "<tr><td>29</td><td>Literal</td><td></td><td><a class=\"ProveItLink\" href=\"../../../../../../numbers/negation/__pv_it/common/221b3c4d1770ee9051b7c044c3f9ec61196fc34b0/expr.ipynb\"><img src=\"../../../../../../numbers/negation/__pv_it/common/221b3c4d1770ee9051b7c044c3f9ec61196fc34b0/expr.png\" style=\"display:inline;vertical-align:middle;\" /></a></td></tr>\n",
       "<tr><td>30</td><td>ExprTuple</td><td>36</td><td><a class=\"ProveItLink\" href=\"../../common/b9e4f0dffece176bbe2f36127440684a20e0468e0/expr.ipynb\"><img src=\"../../common/b9e4f0dffece176bbe2f36127440684a20e0468e0/expr.png\" style=\"display:inline;vertical-align:middle;\" /></a></td></tr>\n",
       "<tr><td>31</td><td>Operation</td><td>operator:&nbsp;37<br>operands:&nbsp;38<br></td><td><a class=\"ProveItLink\" href=\"../../common/a014d9681ed5f22f1d322e1e6f8f6a29a72641620/expr.ipynb\"><img src=\"../../common/a014d9681ed5f22f1d322e1e6f8f6a29a72641620/expr.png\" style=\"display:inline;vertical-align:middle;\" /></a></td></tr>\n",
       "<tr><td>32</td><td>Literal</td><td></td><td><a class=\"ProveItLink\" href=\"../../../../../../numbers/number_sets/real_numbers/__pv_it/common/246c206266ac5b48800e508d580f91767b24c2df0/expr.ipynb\"><img src=\"../../../../../../numbers/number_sets/real_numbers/__pv_it/common/246c206266ac5b48800e508d580f91767b24c2df0/expr.png\" style=\"display:inline;vertical-align:middle;\" /></a></td></tr>\n",
       "<tr><td>33</td><td>Literal</td><td></td><td><a class=\"ProveItLink\" href=\"../../../../../../numbers/number_sets/complex_numbers/__pv_it/common/6c9cc69d472f352324c298b2318df233e9a7e0250/expr.ipynb\"><img src=\"../../../../../../numbers/number_sets/complex_numbers/__pv_it/common/6c9cc69d472f352324c298b2318df233e9a7e0250/expr.png\" style=\"display:inline;vertical-align:middle;\" /></a></td></tr>\n",
       "<tr><td>34</td><td>Literal</td><td></td><td><a class=\"ProveItLink\" href=\"../../common/d5e43a4a06cc3c8384d7262f5d019bed24f240ea0/expr.ipynb\"><img src=\"../../common/d5e43a4a06cc3c8384d7262f5d019bed24f240ea0/expr.png\" style=\"display:inline;vertical-align:middle;\" /></a></td></tr>\n",
       "<tr><td>35</td><td>Variable</td><td></td><td><a class=\"ProveItLink\" href=\"../../../../../../__pv_it/common/63b7c64bf9ec7a04ecc396c7a1670f3f12fb59490/expr.ipynb\"><img src=\"../../../../../../__pv_it/common/63b7c64bf9ec7a04ecc396c7a1670f3f12fb59490/expr.png\" style=\"display:inline;vertical-align:middle;\" /></a></td></tr>\n",
       "<tr><td>36</td><td>Literal</td><td></td><td><a class=\"ProveItLink\" href=\"../../../../../../numbers/numerals/__pv_it/common/682157d4892d216d9e5626ed533aff9b56b9506e0/expr.ipynb\"><img src=\"../../../../../../numbers/numerals/__pv_it/common/682157d4892d216d9e5626ed533aff9b56b9506e0/expr.png\" style=\"display:inline;vertical-align:middle;\" /></a></td></tr>\n",
       "<tr><td>37</td><td>Literal</td><td></td><td><a class=\"ProveItLink\" href=\"../../../../../../numbers/exponentiation/__pv_it/common/0ac37aca1e54c35c5cda09672df32d4f69f1f3020/expr.ipynb\"><img src=\"../../../../../../numbers/exponentiation/__pv_it/common/0ac37aca1e54c35c5cda09672df32d4f69f1f3020/expr.png\" style=\"display:inline;vertical-align:middle;\" /></a></td></tr>\n",
       "<tr><td>38</td><td>ExprTuple</td><td>39, 40</td><td><a class=\"ProveItLink\" href=\"../../common/620247c38a794b8e2a0fe6158f0aa55d8c4a68c60/expr.ipynb\"><img src=\"../../common/620247c38a794b8e2a0fe6158f0aa55d8c4a68c60/expr.png\" style=\"display:inline;vertical-align:middle;\" /></a></td></tr>\n",
       "<tr><td>39</td><td>Literal</td><td></td><td><a class=\"ProveItLink\" href=\"../../../../../../numbers/numerals/__pv_it/common/af4aab8a07465db063742696e006d04670f30cf10/expr.ipynb\"><img src=\"../../../../../../numbers/numerals/__pv_it/common/af4aab8a07465db063742696e006d04670f30cf10/expr.png\" style=\"display:inline;vertical-align:middle;\" /></a></td></tr>\n",
       "<tr><td>40</td><td>Variable</td><td></td><td><a class=\"ProveItLink\" href=\"../../../../../../__pv_it/common/36861eae73a44b53d5b3b017ac6a3a9dae53bfba0/expr.ipynb\"><img src=\"../../../../../../__pv_it/common/36861eae73a44b53d5b3b017ac6a3a9dae53bfba0/expr.png\" style=\"display:inline;vertical-align:middle;\" /></a></td></tr>\n",
       "</table>\n"
      ],
      "text/plain": [
       "0. {(e^{2 * pi * i * phase * k} * e^{2 * pi * i * phase * 2^{t}}) = (e^{2 * pi * i * phase * 2^{t}} * e^{2 * pi * i * phase * k}) if k in {0 .. 2^{t} - 1}.\n",
       "   core type: Conditional\n",
       "   value: 1\n",
       "   condition: 2\n",
       "1. (e^{2 * pi * i * phase * k} * e^{2 * pi * i * phase * 2^{t}}) = (e^{2 * pi * i * phase * 2^{t}} * e^{2 * pi * i * phase * k})\n",
       "   core type: Operation\n",
       "   operator: 3\n",
       "   operands: 4\n",
       "2. k in {0 .. 2^{t} - 1}\n",
       "   core type: Operation\n",
       "   operator: 5\n",
       "   operands: 6\n",
       "3. =\n",
       "   core type: Literal\n",
       "   sub-expressions: \n",
       "4. (e^{2 * pi * i * phase * k} * e^{2 * pi * i * phase * 2^{t}}, e^{2 * pi * i * phase * 2^{t}} * e^{2 * pi * i * phase * k})\n",
       "   core type: ExprTuple\n",
       "   sub-expressions: 7, 8\n",
       "5. in\n",
       "   core type: Literal\n",
       "   sub-expressions: \n",
       "6. (k, {0 .. 2^{t} - 1})\n",
       "   core type: ExprTuple\n",
       "   sub-expressions: 35, 9\n",
       "7. e^{2 * pi * i * phase * k} * e^{2 * pi * i * phase * 2^{t}}\n",
       "   core type: Operation\n",
       "   operator: 27\n",
       "   operands: 10\n",
       "8. e^{2 * pi * i * phase * 2^{t}} * e^{2 * pi * i * phase * k}\n",
       "   core type: Operation\n",
       "   operator: 27\n",
       "   operands: 11\n",
       "9. {0 .. 2^{t} - 1}\n",
       "   core type: Operation\n",
       "   operator: 12\n",
       "   operands: 13\n",
       "10. (e^{2 * pi * i * phase * k}, e^{2 * pi * i * phase * 2^{t}})\n",
       "    core type: ExprTuple\n",
       "    sub-expressions: 15, 14\n",
       "11. (e^{2 * pi * i * phase * 2^{t}}, e^{2 * pi * i * phase * k})\n",
       "    core type: ExprTuple\n",
       "    sub-expressions: 14, 15\n",
       "12. Interval\n",
       "    core type: Literal\n",
       "    sub-expressions: \n",
       "13. (0, 2^{t} - 1)\n",
       "    core type: ExprTuple\n",
       "    sub-expressions: 16, 17\n",
       "14. e^{2 * pi * i * phase * 2^{t}}\n",
       "    core type: Operation\n",
       "    operator: 37\n",
       "    operands: 18\n",
       "15. e^{2 * pi * i * phase * k}\n",
       "    core type: Operation\n",
       "    operator: 37\n",
       "    operands: 19\n",
       "16. 0\n",
       "    core type: Literal\n",
       "    sub-expressions: \n",
       "17. 2^{t} - 1\n",
       "    core type: Operation\n",
       "    operator: 20\n",
       "    operands: 21\n",
       "18. (e, 2 * pi * i * phase * 2^{t})\n",
       "    core type: ExprTuple\n",
       "    sub-expressions: 23, 22\n",
       "19. (e, 2 * pi * i * phase * k)\n",
       "    core type: ExprTuple\n",
       "    sub-expressions: 23, 24\n",
       "20. +\n",
       "    core type: Literal\n",
       "    sub-expressions: \n",
       "21. (2^{t}, -1)\n",
       "    core type: ExprTuple\n",
       "    sub-expressions: 31, 25\n",
       "22. 2 * pi * i * phase * 2^{t}\n",
       "    core type: Operation\n",
       "    operator: 27\n",
       "    operands: 26\n",
       "23. e\n",
       "    core type: Literal\n",
       "    sub-expressions: \n",
       "24. 2 * pi * i * phase * k\n",
       "    core type: Operation\n",
       "    operator: 27\n",
       "    operands: 28\n",
       "25. -1\n",
       "    core type: Operation\n",
       "    operator: 29\n",
       "    operand: 36\n",
       "26. (2, pi, i, phase, 2^{t})\n",
       "    core type: ExprTuple\n",
       "    sub-expressions: 39, 32, 33, 34, 31\n",
       "27. *\n",
       "    core type: Literal\n",
       "    sub-expressions: \n",
       "28. (2, pi, i, phase, k)\n",
       "    core type: ExprTuple\n",
       "    sub-expressions: 39, 32, 33, 34, 35\n",
       "29. -\n",
       "    core type: Literal\n",
       "    sub-expressions: \n",
       "30. (1)\n",
       "    core type: ExprTuple\n",
       "    sub-expressions: 36\n",
       "31. 2^{t}\n",
       "    core type: Operation\n",
       "    operator: 37\n",
       "    operands: 38\n",
       "32. pi\n",
       "    core type: Literal\n",
       "    sub-expressions: \n",
       "33. i\n",
       "    core type: Literal\n",
       "    sub-expressions: \n",
       "34. phase\n",
       "    core type: Literal\n",
       "    sub-expressions: \n",
       "35. k\n",
       "    core type: Variable\n",
       "    sub-expressions: \n",
       "36. 1\n",
       "    core type: Literal\n",
       "    sub-expressions: \n",
       "37. Exp\n",
       "    core type: Literal\n",
       "    sub-expressions: \n",
       "38. (2, t)\n",
       "    core type: ExprTuple\n",
       "    sub-expressions: 39, 40\n",
       "39. 2\n",
       "    core type: Literal\n",
       "    sub-expressions: \n",
       "40. t\n",
       "    core type: Variable\n",
       "    sub-expressions: "
      ]
     },
     "metadata": {},
     "output_type": "display_data"
    }
   ],
   "source": [
    "# display the expression information\n",
    "stored_expr.expr_info()"
   ]
  },
  {
   "cell_type": "code",
   "execution_count": null,
   "metadata": {},
   "outputs": [],
   "source": []
  }
 ],
 "metadata": {
  "kernelspec": {
   "display_name": "Python 3",
   "language": "python",
   "name": "python3"
  }
 },
 "nbformat": 4,
 "nbformat_minor": 0
}