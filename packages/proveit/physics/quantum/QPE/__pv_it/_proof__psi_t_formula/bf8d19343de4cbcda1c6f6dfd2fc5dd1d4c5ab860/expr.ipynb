{
 "cells": [
  {
   "cell_type": "markdown",
   "metadata": {},
   "source": [
    "Expression of type <a class=\"ProveItLink\" href=\"../../../../../../../../doc/html/api/proveit.ExprTuple.html\">ExprTuple</a>\n",
    "=======================\n",
    "# from the theory of <a class=\"ProveItLink\" href=\"../../../_theory_nbs_/theory.ipynb\">proveit.physics.quantum.QPE</a>"
   ]
  },
  {
   "cell_type": "code",
   "execution_count": 1,
   "metadata": {},
   "outputs": [],
   "source": [
    "import proveit\n",
    "# Automation is not needed when building an expression:\n",
    "proveit.defaults.automation = False # This will speed things up.\n",
    "proveit.defaults.inline_pngs = False # Makes files smaller.\n",
    "%load_expr # Load the stored expression as 'stored_expr'\n",
    "# import Expression classes needed to build the expression\n",
    "from proveit import ExprTuple\n",
    "from proveit.linear_algebra import ScalarMult, VecAdd\n",
    "from proveit.numbers import Exp, Mult, Neg, e, i, pi, two, zero\n",
    "from proveit.physics.quantum import ket0, ket1\n",
    "from proveit.physics.quantum.QPE import _phase"
   ]
  },
  {
   "cell_type": "code",
   "execution_count": 2,
   "metadata": {},
   "outputs": [
    {
     "data": {
      "text/html": [
       "<strong id=\"expr\">expr:</strong> <a class=\"ProveItLink\" href=\"expr.ipynb\"><img src=\"expr.png\" style=\"display:inline;vertical-align:middle;\" /></a><br>"
      ],
      "text/plain": [
       "<IPython.core.display.HTML object>"
      ]
     },
     "metadata": {},
     "output_type": "display_data"
    }
   ],
   "source": [
    "# build up the expression from sub-expressions\n",
    "expr = ExprTuple(VecAdd(ket0, ScalarMult(Exp(e, Mult(two, pi, i, Exp(two, Neg(zero)), _phase)), ket1)), VecAdd(ket0, ScalarMult(Exp(e, Mult(two, pi, i, _phase)), ket1)))"
   ]
  },
  {
   "cell_type": "code",
   "execution_count": 3,
   "metadata": {},
   "outputs": [
    {
     "name": "stdout",
     "output_type": "stream",
     "text": [
      "Passed sanity check: expr matches stored_expr\n"
     ]
    }
   ],
   "source": [
    "# check that the built expression is the same as the stored expression\n",
    "assert expr == stored_expr\n",
    "assert expr._style_id == stored_expr._style_id\n",
    "print(\"Passed sanity check: expr matches stored_expr\")"
   ]
  },
  {
   "cell_type": "code",
   "execution_count": 4,
   "metadata": {},
   "outputs": [
    {
     "name": "stdout",
     "output_type": "stream",
     "text": [
      "\\left(\\lvert 0 \\rangle + \\left(\\mathsf{e}^{2 \\cdot \\pi \\cdot \\mathsf{i} \\cdot 2^{-0} \\cdot \\varphi} \\cdot \\lvert 1 \\rangle\\right), \\lvert 0 \\rangle + \\left(\\mathsf{e}^{2 \\cdot \\pi \\cdot \\mathsf{i} \\cdot \\varphi} \\cdot \\lvert 1 \\rangle\\right)\\right)\n"
     ]
    }
   ],
   "source": [
    "# Show the LaTeX representation of the expression for convenience if you need it.\n",
    "print(stored_expr.latex())"
   ]
  },
  {
   "cell_type": "code",
   "execution_count": 5,
   "metadata": {},
   "outputs": [
    {
     "data": {
      "text/html": [
       "<table>\n",
       "<tr><th>name</th><th>description</th><th>default</th><th>current value</th><th>related methods</th></tr><tr><td>wrap_positions</td><td>position(s) at which wrapping is to occur; 'n' is after the nth comma.</td><td>()</td><td>()</td><td>('with_wrapping_at',)</td></tr>\n",
       "<tr><td>justification</td><td>if any wrap positions are set, justify to the 'left', 'center', or 'right'</td><td>left</td><td>left</td><td>('with_justification',)</td></tr>\n",
       "</table>\n"
      ],
      "text/plain": [
       "style name: wrap_positions\n",
       "description: position(s) at which wrapping is to occur; 'n' is after the nth comma.\n",
       "default: ()\n",
       "current value: ()\n",
       "related methods: ('with_wrapping_at',)\n",
       "style name: justification\n",
       "description: if any wrap positions are set, justify to the 'left', 'center', or 'right'\n",
       "default: left\n",
       "current value: left\n",
       "related methods: ('with_justification',)"
      ]
     },
     "metadata": {},
     "output_type": "display_data"
    }
   ],
   "source": [
    "stored_expr.style_options()"
   ]
  },
  {
   "cell_type": "code",
   "execution_count": 6,
   "metadata": {},
   "outputs": [
    {
     "data": {
      "text/html": [
       "<table><tr><th>&nbsp;</th><th>core type</th><th>sub-expressions</th><th>expression</th></tr>\n",
       "<tr><td>0</td><td>ExprTuple</td><td>1, 2</td><td><a class=\"ProveItLink\" href=\"expr.ipynb\"><img src=\"expr.png\" style=\"display:inline;vertical-align:middle;\" /></a></td></tr>\n",
       "<tr><td>1</td><td>Operation</td><td>operator:&nbsp;4<br>operands:&nbsp;3<br></td><td><a class=\"ProveItLink\" href=\"../169f6eb44fd1ef3aa5454840965e44916b2b72cb0/expr.ipynb\"><img src=\"../169f6eb44fd1ef3aa5454840965e44916b2b72cb0/expr.png\" style=\"display:inline;vertical-align:middle;\" /></a></td></tr>\n",
       "<tr><td>2</td><td>Operation</td><td>operator:&nbsp;4<br>operands:&nbsp;5<br></td><td><a class=\"ProveItLink\" href=\"../d769a658c5c7c0b53fdb8d027feebd6b8f7347150/expr.ipynb\"><img src=\"../d769a658c5c7c0b53fdb8d027feebd6b8f7347150/expr.png\" style=\"display:inline;vertical-align:middle;\" /></a></td></tr>\n",
       "<tr><td>3</td><td>ExprTuple</td><td>7, 6</td><td><a class=\"ProveItLink\" href=\"../1e162280825963012fbfa82ce58bab8fec22fb3b0/expr.ipynb\"><img src=\"../1e162280825963012fbfa82ce58bab8fec22fb3b0/expr.png\" style=\"display:inline;vertical-align:middle;\" /></a></td></tr>\n",
       "<tr><td>4</td><td>Literal</td><td></td><td><a class=\"ProveItLink\" href=\"../../../../../../linear_algebra/addition/__pv_it/common/ac3c140c9094f065c7f7db15c94558731443639c0/expr.ipynb\"><img src=\"../../../../../../linear_algebra/addition/__pv_it/common/ac3c140c9094f065c7f7db15c94558731443639c0/expr.png\" style=\"display:inline;vertical-align:middle;\" /></a></td></tr>\n",
       "<tr><td>5</td><td>ExprTuple</td><td>7, 8</td><td><a class=\"ProveItLink\" href=\"../32147be470caf41d87e1e522a875b31249da0be70/expr.ipynb\"><img src=\"../32147be470caf41d87e1e522a875b31249da0be70/expr.png\" style=\"display:inline;vertical-align:middle;\" /></a></td></tr>\n",
       "<tr><td>6</td><td>Operation</td><td>operator:&nbsp;10<br>operands:&nbsp;9<br></td><td><a class=\"ProveItLink\" href=\"../a88968609e128ab6a4b41789da578d19c14398290/expr.ipynb\"><img src=\"../a88968609e128ab6a4b41789da578d19c14398290/expr.png\" style=\"display:inline;vertical-align:middle;\" /></a></td></tr>\n",
       "<tr><td>7</td><td>Operation</td><td>operator:&nbsp;17<br>operand:&nbsp;36<br></td><td><a class=\"ProveItLink\" href=\"../../../../__pv_it/common/133ac00fe58669eb9caf707029e78ad2443dad960/expr.ipynb\"><img src=\"../../../../__pv_it/common/133ac00fe58669eb9caf707029e78ad2443dad960/expr.png\" style=\"display:inline;vertical-align:middle;\" /></a></td></tr>\n",
       "<tr><td>8</td><td>Operation</td><td>operator:&nbsp;10<br>operands:&nbsp;11<br></td><td><a class=\"ProveItLink\" href=\"../f3551f02cb2daf3ae8d64d1b5951bce8f50d95150/expr.ipynb\"><img src=\"../f3551f02cb2daf3ae8d64d1b5951bce8f50d95150/expr.png\" style=\"display:inline;vertical-align:middle;\" /></a></td></tr>\n",
       "<tr><td>9</td><td>ExprTuple</td><td>12, 14</td><td><a class=\"ProveItLink\" href=\"../722243b94ca4a4c3ec8871d2018c2d55b8b718240/expr.ipynb\"><img src=\"../722243b94ca4a4c3ec8871d2018c2d55b8b718240/expr.png\" style=\"display:inline;vertical-align:middle;\" /></a></td></tr>\n",
       "<tr><td>10</td><td>Literal</td><td></td><td><a class=\"ProveItLink\" href=\"../../../../../../linear_algebra/scalar_multiplication/__pv_it/common/1e364bd471e6a29fcd358dd2d9cd990a1e6fedd40/expr.ipynb\"><img src=\"../../../../../../linear_algebra/scalar_multiplication/__pv_it/common/1e364bd471e6a29fcd358dd2d9cd990a1e6fedd40/expr.png\" style=\"display:inline;vertical-align:middle;\" /></a></td></tr>\n",
       "<tr><td>11</td><td>ExprTuple</td><td>13, 14</td><td><a class=\"ProveItLink\" href=\"../9456a412c4bead3cb2df7f9e16d2ffa6a457d1380/expr.ipynb\"><img src=\"../9456a412c4bead3cb2df7f9e16d2ffa6a457d1380/expr.png\" style=\"display:inline;vertical-align:middle;\" /></a></td></tr>\n",
       "<tr><td>12</td><td>Operation</td><td>operator:&nbsp;30<br>operands:&nbsp;15<br></td><td><a class=\"ProveItLink\" href=\"../e9552940247e0488df931a5a26f984b77b2a849b0/expr.ipynb\"><img src=\"../e9552940247e0488df931a5a26f984b77b2a849b0/expr.png\" style=\"display:inline;vertical-align:middle;\" /></a></td></tr>\n",
       "<tr><td>13</td><td>Operation</td><td>operator:&nbsp;30<br>operands:&nbsp;16<br></td><td><a class=\"ProveItLink\" href=\"../66016e8cd129dc8f9b178ab6a65c2819add0bcbf0/expr.ipynb\"><img src=\"../66016e8cd129dc8f9b178ab6a65c2819add0bcbf0/expr.png\" style=\"display:inline;vertical-align:middle;\" /></a></td></tr>\n",
       "<tr><td>14</td><td>Operation</td><td>operator:&nbsp;17<br>operand:&nbsp;22<br></td><td><a class=\"ProveItLink\" href=\"../../../../__pv_it/common/57cbcececeb3a772f3462a38bcf9836042f3091f0/expr.ipynb\"><img src=\"../../../../__pv_it/common/57cbcececeb3a772f3462a38bcf9836042f3091f0/expr.png\" style=\"display:inline;vertical-align:middle;\" /></a></td></tr>\n",
       "<tr><td>15</td><td>ExprTuple</td><td>20, 19</td><td><a class=\"ProveItLink\" href=\"../889d5f87bbc65cf89caa98e482e92a5303ffde3d0/expr.ipynb\"><img src=\"../889d5f87bbc65cf89caa98e482e92a5303ffde3d0/expr.png\" style=\"display:inline;vertical-align:middle;\" /></a></td></tr>\n",
       "<tr><td>16</td><td>ExprTuple</td><td>20, 21</td><td><a class=\"ProveItLink\" href=\"../e0b2844c279a064d0d50bb293e2e3e9eb693ee0d0/expr.ipynb\"><img src=\"../e0b2844c279a064d0d50bb293e2e3e9eb693ee0d0/expr.png\" style=\"display:inline;vertical-align:middle;\" /></a></td></tr>\n",
       "<tr><td>17</td><td>Literal</td><td></td><td><a class=\"ProveItLink\" href=\"../../../../algebra/__pv_it/common/e3872951fe05b26090372918594af92cac779e280/expr.ipynb\"><img src=\"../../../../algebra/__pv_it/common/e3872951fe05b26090372918594af92cac779e280/expr.png\" style=\"display:inline;vertical-align:middle;\" /></a></td></tr>\n",
       "<tr><td>18</td><td>ExprTuple</td><td>22</td><td><a class=\"ProveItLink\" href=\"../../../../__pv_it/common/b9e4f0dffece176bbe2f36127440684a20e0468e0/expr.ipynb\"><img src=\"../../../../__pv_it/common/b9e4f0dffece176bbe2f36127440684a20e0468e0/expr.png\" style=\"display:inline;vertical-align:middle;\" /></a></td></tr>\n",
       "<tr><td>19</td><td>Operation</td><td>operator:&nbsp;24<br>operands:&nbsp;23<br></td><td><a class=\"ProveItLink\" href=\"../c2d986ef741b338cb21e9d687192e5bbfdd571500/expr.ipynb\"><img src=\"../c2d986ef741b338cb21e9d687192e5bbfdd571500/expr.png\" style=\"display:inline;vertical-align:middle;\" /></a></td></tr>\n",
       "<tr><td>20</td><td>Literal</td><td></td><td><a class=\"ProveItLink\" href=\"../../../../../../numbers/number_sets/real_numbers/__pv_it/common/e531ffa54fd897084533764a4a14f19f590674f80/expr.ipynb\"><img src=\"../../../../../../numbers/number_sets/real_numbers/__pv_it/common/e531ffa54fd897084533764a4a14f19f590674f80/expr.png\" style=\"display:inline;vertical-align:middle;\" /></a></td></tr>\n",
       "<tr><td>21</td><td>Operation</td><td>operator:&nbsp;24<br>operands:&nbsp;25<br></td><td><a class=\"ProveItLink\" href=\"../7f8551a99f58747396aae3730b61ce325e5eefdb0/expr.ipynb\"><img src=\"../7f8551a99f58747396aae3730b61ce325e5eefdb0/expr.png\" style=\"display:inline;vertical-align:middle;\" /></a></td></tr>\n",
       "<tr><td>22</td><td>Literal</td><td></td><td><a class=\"ProveItLink\" href=\"../../../../../../numbers/numerals/__pv_it/common/682157d4892d216d9e5626ed533aff9b56b9506e0/expr.ipynb\"><img src=\"../../../../../../numbers/numerals/__pv_it/common/682157d4892d216d9e5626ed533aff9b56b9506e0/expr.png\" style=\"display:inline;vertical-align:middle;\" /></a></td></tr>\n",
       "<tr><td>23</td><td>ExprTuple</td><td>32, 27, 28, 26, 29</td><td><a class=\"ProveItLink\" href=\"../09b32b002439d30658d7189c5f1db5caa72699df0/expr.ipynb\"><img src=\"../09b32b002439d30658d7189c5f1db5caa72699df0/expr.png\" style=\"display:inline;vertical-align:middle;\" /></a></td></tr>\n",
       "<tr><td>24</td><td>Literal</td><td></td><td><a class=\"ProveItLink\" href=\"../../../../../../numbers/multiplication/__pv_it/common/ed719cef37831779c16481533a4d380a2f95ab270/expr.ipynb\"><img src=\"../../../../../../numbers/multiplication/__pv_it/common/ed719cef37831779c16481533a4d380a2f95ab270/expr.png\" style=\"display:inline;vertical-align:middle;\" /></a></td></tr>\n",
       "<tr><td>25</td><td>ExprTuple</td><td>32, 27, 28, 29</td><td><a class=\"ProveItLink\" href=\"../ec6f7723af58f3eef2ed3ed4a80b7b8e790bc8ef0/expr.ipynb\"><img src=\"../ec6f7723af58f3eef2ed3ed4a80b7b8e790bc8ef0/expr.png\" style=\"display:inline;vertical-align:middle;\" /></a></td></tr>\n",
       "<tr><td>26</td><td>Operation</td><td>operator:&nbsp;30<br>operands:&nbsp;31<br></td><td><a class=\"ProveItLink\" href=\"../191866383f2f07f6e37bcf16e78d7fc41e498e1d0/expr.ipynb\"><img src=\"../191866383f2f07f6e37bcf16e78d7fc41e498e1d0/expr.png\" style=\"display:inline;vertical-align:middle;\" /></a></td></tr>\n",
       "<tr><td>27</td><td>Literal</td><td></td><td><a class=\"ProveItLink\" href=\"../../../../../../numbers/number_sets/real_numbers/__pv_it/common/246c206266ac5b48800e508d580f91767b24c2df0/expr.ipynb\"><img src=\"../../../../../../numbers/number_sets/real_numbers/__pv_it/common/246c206266ac5b48800e508d580f91767b24c2df0/expr.png\" style=\"display:inline;vertical-align:middle;\" /></a></td></tr>\n",
       "<tr><td>28</td><td>Literal</td><td></td><td><a class=\"ProveItLink\" href=\"../../../../../../numbers/number_sets/complex_numbers/__pv_it/common/6c9cc69d472f352324c298b2318df233e9a7e0250/expr.ipynb\"><img src=\"../../../../../../numbers/number_sets/complex_numbers/__pv_it/common/6c9cc69d472f352324c298b2318df233e9a7e0250/expr.png\" style=\"display:inline;vertical-align:middle;\" /></a></td></tr>\n",
       "<tr><td>29</td><td>Literal</td><td></td><td><a class=\"ProveItLink\" href=\"../../common/d5e43a4a06cc3c8384d7262f5d019bed24f240ea0/expr.ipynb\"><img src=\"../../common/d5e43a4a06cc3c8384d7262f5d019bed24f240ea0/expr.png\" style=\"display:inline;vertical-align:middle;\" /></a></td></tr>\n",
       "<tr><td>30</td><td>Literal</td><td></td><td><a class=\"ProveItLink\" href=\"../../../../../../numbers/exponentiation/__pv_it/common/0ac37aca1e54c35c5cda09672df32d4f69f1f3020/expr.ipynb\"><img src=\"../../../../../../numbers/exponentiation/__pv_it/common/0ac37aca1e54c35c5cda09672df32d4f69f1f3020/expr.png\" style=\"display:inline;vertical-align:middle;\" /></a></td></tr>\n",
       "<tr><td>31</td><td>ExprTuple</td><td>32, 33</td><td><a class=\"ProveItLink\" href=\"../5bea45ddbdc1ca62f12264b683f5eea50d40c6000/expr.ipynb\"><img src=\"../5bea45ddbdc1ca62f12264b683f5eea50d40c6000/expr.png\" style=\"display:inline;vertical-align:middle;\" /></a></td></tr>\n",
       "<tr><td>32</td><td>Literal</td><td></td><td><a class=\"ProveItLink\" href=\"../../../../../../numbers/numerals/__pv_it/common/af4aab8a07465db063742696e006d04670f30cf10/expr.ipynb\"><img src=\"../../../../../../numbers/numerals/__pv_it/common/af4aab8a07465db063742696e006d04670f30cf10/expr.png\" style=\"display:inline;vertical-align:middle;\" /></a></td></tr>\n",
       "<tr><td>33</td><td>Operation</td><td>operator:&nbsp;34<br>operand:&nbsp;36<br></td><td><a class=\"ProveItLink\" href=\"../../../../../../numbers/negation/__pv_it/theorems/7eb1ead0a2b535e6b46763978c1ba968023fe7b30/expr.ipynb\"><img src=\"../../../../../../numbers/negation/__pv_it/theorems/7eb1ead0a2b535e6b46763978c1ba968023fe7b30/expr.png\" style=\"display:inline;vertical-align:middle;\" /></a></td></tr>\n",
       "<tr><td>34</td><td>Literal</td><td></td><td><a class=\"ProveItLink\" href=\"../../../../../../numbers/negation/__pv_it/common/221b3c4d1770ee9051b7c044c3f9ec61196fc34b0/expr.ipynb\"><img src=\"../../../../../../numbers/negation/__pv_it/common/221b3c4d1770ee9051b7c044c3f9ec61196fc34b0/expr.png\" style=\"display:inline;vertical-align:middle;\" /></a></td></tr>\n",
       "<tr><td>35</td><td>ExprTuple</td><td>36</td><td><a class=\"ProveItLink\" href=\"../../../../../../numbers/number_sets/natural_numbers/__pv_it/common/2048ac4936a0fdafec65dc88dd04b24596ab2f8b0/expr.ipynb\"><img src=\"../../../../../../numbers/number_sets/natural_numbers/__pv_it/common/2048ac4936a0fdafec65dc88dd04b24596ab2f8b0/expr.png\" style=\"display:inline;vertical-align:middle;\" /></a></td></tr>\n",
       "<tr><td>36</td><td>Literal</td><td></td><td><a class=\"ProveItLink\" href=\"../../../../../../numbers/numerals/__pv_it/common/dd4e19e8b134dfb293470ea55fe3589b0ab9f8040/expr.ipynb\"><img src=\"../../../../../../numbers/numerals/__pv_it/common/dd4e19e8b134dfb293470ea55fe3589b0ab9f8040/expr.png\" style=\"display:inline;vertical-align:middle;\" /></a></td></tr>\n",
       "</table>\n"
      ],
      "text/plain": [
       "0. (|0〉 + (e^{2 * pi * i * 2^{-0} * phase} * |1〉), |0〉 + (e^{2 * pi * i * phase} * |1〉))\n",
       "   core type: ExprTuple\n",
       "   sub-expressions: 1, 2\n",
       "1. |0〉 + (e^{2 * pi * i * 2^{-0} * phase} * |1〉)\n",
       "   core type: Operation\n",
       "   operator: 4\n",
       "   operands: 3\n",
       "2. |0〉 + (e^{2 * pi * i * phase} * |1〉)\n",
       "   core type: Operation\n",
       "   operator: 4\n",
       "   operands: 5\n",
       "3. (|0〉, e^{2 * pi * i * 2^{-0} * phase} * |1〉)\n",
       "   core type: ExprTuple\n",
       "   sub-expressions: 7, 6\n",
       "4. +\n",
       "   core type: Literal\n",
       "   sub-expressions: \n",
       "5. (|0〉, e^{2 * pi * i * phase} * |1〉)\n",
       "   core type: ExprTuple\n",
       "   sub-expressions: 7, 8\n",
       "6. e^{2 * pi * i * 2^{-0} * phase} * |1〉\n",
       "   core type: Operation\n",
       "   operator: 10\n",
       "   operands: 9\n",
       "7. |0〉\n",
       "   core type: Operation\n",
       "   operator: 17\n",
       "   operand: 36\n",
       "8. e^{2 * pi * i * phase} * |1〉\n",
       "   core type: Operation\n",
       "   operator: 10\n",
       "   operands: 11\n",
       "9. (e^{2 * pi * i * 2^{-0} * phase}, |1〉)\n",
       "   core type: ExprTuple\n",
       "   sub-expressions: 12, 14\n",
       "10. *\n",
       "    core type: Literal\n",
       "    sub-expressions: \n",
       "11. (e^{2 * pi * i * phase}, |1〉)\n",
       "    core type: ExprTuple\n",
       "    sub-expressions: 13, 14\n",
       "12. e^{2 * pi * i * 2^{-0} * phase}\n",
       "    core type: Operation\n",
       "    operator: 30\n",
       "    operands: 15\n",
       "13. e^{2 * pi * i * phase}\n",
       "    core type: Operation\n",
       "    operator: 30\n",
       "    operands: 16\n",
       "14. |1〉\n",
       "    core type: Operation\n",
       "    operator: 17\n",
       "    operand: 22\n",
       "15. (e, 2 * pi * i * 2^{-0} * phase)\n",
       "    core type: ExprTuple\n",
       "    sub-expressions: 20, 19\n",
       "16. (e, 2 * pi * i * phase)\n",
       "    core type: ExprTuple\n",
       "    sub-expressions: 20, 21\n",
       "17. KET\n",
       "    core type: Literal\n",
       "    sub-expressions: \n",
       "18. (1)\n",
       "    core type: ExprTuple\n",
       "    sub-expressions: 22\n",
       "19. 2 * pi * i * 2^{-0} * phase\n",
       "    core type: Operation\n",
       "    operator: 24\n",
       "    operands: 23\n",
       "20. e\n",
       "    core type: Literal\n",
       "    sub-expressions: \n",
       "21. 2 * pi * i * phase\n",
       "    core type: Operation\n",
       "    operator: 24\n",
       "    operands: 25\n",
       "22. 1\n",
       "    core type: Literal\n",
       "    sub-expressions: \n",
       "23. (2, pi, i, 2^{-0}, phase)\n",
       "    core type: ExprTuple\n",
       "    sub-expressions: 32, 27, 28, 26, 29\n",
       "24. *\n",
       "    core type: Literal\n",
       "    sub-expressions: \n",
       "25. (2, pi, i, phase)\n",
       "    core type: ExprTuple\n",
       "    sub-expressions: 32, 27, 28, 29\n",
       "26. 2^{-0}\n",
       "    core type: Operation\n",
       "    operator: 30\n",
       "    operands: 31\n",
       "27. pi\n",
       "    core type: Literal\n",
       "    sub-expressions: \n",
       "28. i\n",
       "    core type: Literal\n",
       "    sub-expressions: \n",
       "29. phase\n",
       "    core type: Literal\n",
       "    sub-expressions: \n",
       "30. Exp\n",
       "    core type: Literal\n",
       "    sub-expressions: \n",
       "31. (2, -0)\n",
       "    core type: ExprTuple\n",
       "    sub-expressions: 32, 33\n",
       "32. 2\n",
       "    core type: Literal\n",
       "    sub-expressions: \n",
       "33. -0\n",
       "    core type: Operation\n",
       "    operator: 34\n",
       "    operand: 36\n",
       "34. -\n",
       "    core type: Literal\n",
       "    sub-expressions: \n",
       "35. (0)\n",
       "    core type: ExprTuple\n",
       "    sub-expressions: 36\n",
       "36. 0\n",
       "    core type: Literal\n",
       "    sub-expressions: "
      ]
     },
     "metadata": {},
     "output_type": "display_data"
    }
   ],
   "source": [
    "# display the expression information\n",
    "stored_expr.expr_info()"
   ]
  },
  {
   "cell_type": "code",
   "execution_count": null,
   "metadata": {},
   "outputs": [],
   "source": []
  }
 ],
 "metadata": {
  "kernelspec": {
   "display_name": "Python 3",
   "language": "python",
   "name": "python3"
  }
 },
 "nbformat": 4,
 "nbformat_minor": 0
}