{
 "cells": [
  {
   "cell_type": "markdown",
   "metadata": {},
   "source": [
    "Expression of type <a class=\"ProveItLink\" href=\"../../../../../../../../doc/html/api/proveit.linear_algebra.ScalarMult.html\">ScalarMult</a>\n",
    "=======================\n",
    "# from the theory of <a class=\"ProveItLink\" href=\"../../../_theory_nbs_/theory.ipynb\">proveit.physics.quantum.QPE</a>"
   ]
  },
  {
   "cell_type": "code",
   "execution_count": 1,
   "metadata": {},
   "outputs": [],
   "source": [
    "import proveit\n",
    "# Automation is not needed when building an expression:\n",
    "proveit.defaults.automation = False # This will speed things up.\n",
    "proveit.defaults.inline_pngs = False # Makes files smaller.\n",
    "%load_expr # Load the stored expression as 'stored_expr'\n",
    "# import Expression classes needed to build the expression\n",
    "from proveit import k\n",
    "from proveit.linear_algebra import ScalarMult, VecSum\n",
    "from proveit.numbers import Exp, Interval, Mult, e, frac, i, one, pi, sqrt, two, zero\n",
    "from proveit.physics.quantum import Ket\n",
    "from proveit.physics.quantum.QPE import _phase"
   ]
  },
  {
   "cell_type": "code",
   "execution_count": 2,
   "metadata": {},
   "outputs": [
    {
     "data": {
      "text/html": [
       "<strong id=\"expr\">expr:</strong> <a class=\"ProveItLink\" href=\"expr.ipynb\"><img src=\"expr.png\" style=\"display:inline;vertical-align:middle;\" /></a><br>"
      ],
      "text/plain": [
       "<IPython.core.display.HTML object>"
      ]
     },
     "metadata": {},
     "output_type": "display_data"
    }
   ],
   "source": [
    "# build up the expression from sub-expressions\n",
    "expr = ScalarMult(frac(one, sqrt(two)), VecSum(index_or_indices = [k], summand = ScalarMult(Exp(e, Mult(two, pi, i, _phase, k)), Ket(k)), domain = Interval(zero, one)))"
   ]
  },
  {
   "cell_type": "code",
   "execution_count": 3,
   "metadata": {},
   "outputs": [
    {
     "name": "stdout",
     "output_type": "stream",
     "text": [
      "Passed sanity check: expr matches stored_expr\n"
     ]
    }
   ],
   "source": [
    "# check that the built expression is the same as the stored expression\n",
    "assert expr == stored_expr\n",
    "assert expr._style_id == stored_expr._style_id\n",
    "print(\"Passed sanity check: expr matches stored_expr\")"
   ]
  },
  {
   "cell_type": "code",
   "execution_count": 4,
   "metadata": {},
   "outputs": [
    {
     "name": "stdout",
     "output_type": "stream",
     "text": [
      "\\frac{1}{\\sqrt{2}} \\cdot \\left(\\sum_{k=0}^{1} \\left(\\mathsf{e}^{2 \\cdot \\pi \\cdot \\mathsf{i} \\cdot \\varphi \\cdot k} \\cdot \\lvert k \\rangle\\right)\\right)\n"
     ]
    }
   ],
   "source": [
    "# Show the LaTeX representation of the expression for convenience if you need it.\n",
    "print(stored_expr.latex())"
   ]
  },
  {
   "cell_type": "code",
   "execution_count": 5,
   "metadata": {},
   "outputs": [
    {
     "data": {
      "text/html": [
       "<table>\n",
       "<tr><th>name</th><th>description</th><th>default</th><th>current value</th><th>related methods</th></tr><tr><td>operation</td><td>'infix' or 'function' style formatting</td><td>infix</td><td>infix</td><td></td></tr>\n",
       "<tr><td>wrap_positions</td><td>position(s) at which wrapping is to occur; '2 n - 1' is after the nth operand, '2 n' is after the nth operation.</td><td>()</td><td>()</td><td>('with_wrapping_at', 'with_wrap_before_operator', 'with_wrap_after_operator', 'without_wrapping', 'wrap_positions')</td></tr>\n",
       "<tr><td>justification</td><td>if any wrap positions are set, justify to the 'left', 'center', or 'right'</td><td>center</td><td>center</td><td>('with_justification',)</td></tr>\n",
       "</table>\n"
      ],
      "text/plain": [
       "style name: operation\n",
       "description: 'infix' or 'function' style formatting\n",
       "default: infix\n",
       "current value: infix\n",
       "related methods: ()\n",
       "style name: wrap_positions\n",
       "description: position(s) at which wrapping is to occur; '2 n - 1' is after the nth operand, '2 n' is after the nth operation.\n",
       "default: ()\n",
       "current value: ()\n",
       "related methods: ('with_wrapping_at', 'with_wrap_before_operator', 'with_wrap_after_operator', 'without_wrapping', 'wrap_positions')\n",
       "style name: justification\n",
       "description: if any wrap positions are set, justify to the 'left', 'center', or 'right'\n",
       "default: center\n",
       "current value: center\n",
       "related methods: ('with_justification',)"
      ]
     },
     "metadata": {},
     "output_type": "display_data"
    }
   ],
   "source": [
    "stored_expr.style_options()"
   ]
  },
  {
   "cell_type": "code",
   "execution_count": 6,
   "metadata": {},
   "outputs": [
    {
     "data": {
      "text/html": [
       "<table><tr><th>&nbsp;</th><th>core type</th><th>sub-expressions</th><th>expression</th></tr>\n",
       "<tr><td>0</td><td>Operation</td><td>operator:&nbsp;16<br>operands:&nbsp;1<br></td><td><a class=\"ProveItLink\" href=\"expr.ipynb\"><img src=\"expr.png\" style=\"display:inline;vertical-align:middle;\" /></a></td></tr>\n",
       "<tr><td>1</td><td>ExprTuple</td><td>2, 3</td><td><a class=\"ProveItLink\" href=\"../a4468614292ffe47f1f2b62f9776027c2acf07660/expr.ipynb\"><img src=\"../a4468614292ffe47f1f2b62f9776027c2acf07660/expr.png\" style=\"display:inline;vertical-align:middle;\" /></a></td></tr>\n",
       "<tr><td>2</td><td>Operation</td><td>operator:&nbsp;14<br>operands:&nbsp;4<br></td><td><a class=\"ProveItLink\" href=\"../../axioms/c8b5993df7cd8527652affb78bd7910edc3167040/expr.ipynb\"><img src=\"../../axioms/c8b5993df7cd8527652affb78bd7910edc3167040/expr.png\" style=\"display:inline;vertical-align:middle;\" /></a></td></tr>\n",
       "<tr><td>3</td><td>Operation</td><td>operator:&nbsp;5<br>operand:&nbsp;8<br></td><td><a class=\"ProveItLink\" href=\"../0ae9be6c2e45a128256cdc1035920125f575a8ae0/expr.ipynb\"><img src=\"../0ae9be6c2e45a128256cdc1035920125f575a8ae0/expr.png\" style=\"display:inline;vertical-align:middle;\" /></a></td></tr>\n",
       "<tr><td>4</td><td>ExprTuple</td><td>32, 7</td><td><a class=\"ProveItLink\" href=\"../../axioms/262fd0216b73ce447526134084bce463ea3e6c430/expr.ipynb\"><img src=\"../../axioms/262fd0216b73ce447526134084bce463ea3e6c430/expr.png\" style=\"display:inline;vertical-align:middle;\" /></a></td></tr>\n",
       "<tr><td>5</td><td>Literal</td><td></td><td><a class=\"ProveItLink\" href=\"../../../../../../linear_algebra/addition/__pv_it/common/62f73c830c62efb87627ede5678f282081cd0ce20/expr.ipynb\"><img src=\"../../../../../../linear_algebra/addition/__pv_it/common/62f73c830c62efb87627ede5678f282081cd0ce20/expr.png\" style=\"display:inline;vertical-align:middle;\" /></a></td></tr>\n",
       "<tr><td>6</td><td>ExprTuple</td><td>8</td><td><a class=\"ProveItLink\" href=\"../ff376abfdda1b79d658620c7f1112ad5cc00ebb60/expr.ipynb\"><img src=\"../ff376abfdda1b79d658620c7f1112ad5cc00ebb60/expr.png\" style=\"display:inline;vertical-align:middle;\" /></a></td></tr>\n",
       "<tr><td>7</td><td>Operation</td><td>operator:&nbsp;23<br>operands:&nbsp;9<br></td><td><a class=\"ProveItLink\" href=\"../../axioms/49bb1f405794652bcc9227fccd89214dff2db63a0/expr.ipynb\"><img src=\"../../axioms/49bb1f405794652bcc9227fccd89214dff2db63a0/expr.png\" style=\"display:inline;vertical-align:middle;\" /></a></td></tr>\n",
       "<tr><td>8</td><td>Lambda</td><td>parameter:&nbsp;39<br>body:&nbsp;10<br></td><td><a class=\"ProveItLink\" href=\"../86f14dcdd7025f5d5dc3292e7cd40ea9947345710/expr.ipynb\"><img src=\"../86f14dcdd7025f5d5dc3292e7cd40ea9947345710/expr.png\" style=\"display:inline;vertical-align:middle;\" /></a></td></tr>\n",
       "<tr><td>9</td><td>ExprTuple</td><td>35, 11</td><td><a class=\"ProveItLink\" href=\"../../axioms/88b0792c261e12d2e1496daec96a3df2a46350e40/expr.ipynb\"><img src=\"../../axioms/88b0792c261e12d2e1496daec96a3df2a46350e40/expr.png\" style=\"display:inline;vertical-align:middle;\" /></a></td></tr>\n",
       "<tr><td>10</td><td>Conditional</td><td>value:&nbsp;12<br>condition:&nbsp;13<br></td><td><a class=\"ProveItLink\" href=\"../8c938af047e9d6053c745687168d8577523aeb7e0/expr.ipynb\"><img src=\"../8c938af047e9d6053c745687168d8577523aeb7e0/expr.png\" style=\"display:inline;vertical-align:middle;\" /></a></td></tr>\n",
       "<tr><td>11</td><td>Operation</td><td>operator:&nbsp;14<br>operands:&nbsp;15<br></td><td><a class=\"ProveItLink\" href=\"../../axioms/41c7e8d55de04e24c56503fbffe6ac0318a53f990/expr.ipynb\"><img src=\"../../axioms/41c7e8d55de04e24c56503fbffe6ac0318a53f990/expr.png\" style=\"display:inline;vertical-align:middle;\" /></a></td></tr>\n",
       "<tr><td>12</td><td>Operation</td><td>operator:&nbsp;16<br>operands:&nbsp;17<br></td><td><a class=\"ProveItLink\" href=\"../1677649a8cafcc542f6b8b2d9cd6cc23011e45400/expr.ipynb\"><img src=\"../1677649a8cafcc542f6b8b2d9cd6cc23011e45400/expr.png\" style=\"display:inline;vertical-align:middle;\" /></a></td></tr>\n",
       "<tr><td>13</td><td>Operation</td><td>operator:&nbsp;18<br>operands:&nbsp;19<br></td><td><a class=\"ProveItLink\" href=\"../bdb9f4ba6a6082c0a8eb8011f4c41a589bb80c690/expr.ipynb\"><img src=\"../bdb9f4ba6a6082c0a8eb8011f4c41a589bb80c690/expr.png\" style=\"display:inline;vertical-align:middle;\" /></a></td></tr>\n",
       "<tr><td>14</td><td>Literal</td><td></td><td><a class=\"ProveItLink\" href=\"../../../../../../numbers/division/__pv_it/common/a2a633e1e3c749fb1f2692466b287b6348c5de840/expr.ipynb\"><img src=\"../../../../../../numbers/division/__pv_it/common/a2a633e1e3c749fb1f2692466b287b6348c5de840/expr.png\" style=\"display:inline;vertical-align:middle;\" /></a></td></tr>\n",
       "<tr><td>15</td><td>ExprTuple</td><td>32, 35</td><td><a class=\"ProveItLink\" href=\"../../../../../../numbers/numerals/decimals/__pv_it/theorems/df23a04353373623cccbfda09b61e0f594aa791a0/expr.ipynb\"><img src=\"../../../../../../numbers/numerals/decimals/__pv_it/theorems/df23a04353373623cccbfda09b61e0f594aa791a0/expr.png\" style=\"display:inline;vertical-align:middle;\" /></a></td></tr>\n",
       "<tr><td>16</td><td>Literal</td><td></td><td><a class=\"ProveItLink\" href=\"../../../../../../linear_algebra/scalar_multiplication/__pv_it/common/1e364bd471e6a29fcd358dd2d9cd990a1e6fedd40/expr.ipynb\"><img src=\"../../../../../../linear_algebra/scalar_multiplication/__pv_it/common/1e364bd471e6a29fcd358dd2d9cd990a1e6fedd40/expr.png\" style=\"display:inline;vertical-align:middle;\" /></a></td></tr>\n",
       "<tr><td>17</td><td>ExprTuple</td><td>20, 21</td><td><a class=\"ProveItLink\" href=\"../1dddc7c26d78d099a5b9d83de3a01593bb406faf0/expr.ipynb\"><img src=\"../1dddc7c26d78d099a5b9d83de3a01593bb406faf0/expr.png\" style=\"display:inline;vertical-align:middle;\" /></a></td></tr>\n",
       "<tr><td>18</td><td>Literal</td><td></td><td><a class=\"ProveItLink\" href=\"../../../../../../logic/sets/membership/__pv_it/common/477487d8796864d23d5810f83761435f25167f690/expr.ipynb\"><img src=\"../../../../../../logic/sets/membership/__pv_it/common/477487d8796864d23d5810f83761435f25167f690/expr.png\" style=\"display:inline;vertical-align:middle;\" /></a></td></tr>\n",
       "<tr><td>19</td><td>ExprTuple</td><td>39, 22</td><td><a class=\"ProveItLink\" href=\"../fbad26419424bf43b249e917907877515a2fb1970/expr.ipynb\"><img src=\"../fbad26419424bf43b249e917907877515a2fb1970/expr.png\" style=\"display:inline;vertical-align:middle;\" /></a></td></tr>\n",
       "<tr><td>20</td><td>Operation</td><td>operator:&nbsp;23<br>operands:&nbsp;24<br></td><td><a class=\"ProveItLink\" href=\"../../theorems/2c1a535bf143a3432d0b7b4c0c044d1032b311ec0/expr.ipynb\"><img src=\"../../theorems/2c1a535bf143a3432d0b7b4c0c044d1032b311ec0/expr.png\" style=\"display:inline;vertical-align:middle;\" /></a></td></tr>\n",
       "<tr><td>21</td><td>Operation</td><td>operator:&nbsp;25<br>operand:&nbsp;39<br></td><td><a class=\"ProveItLink\" href=\"../ff8a5b8f59659f3313ffc0a79205ee26286dde7e0/expr.ipynb\"><img src=\"../ff8a5b8f59659f3313ffc0a79205ee26286dde7e0/expr.png\" style=\"display:inline;vertical-align:middle;\" /></a></td></tr>\n",
       "<tr><td>22</td><td>Operation</td><td>operator:&nbsp;27<br>operands:&nbsp;28<br></td><td><a class=\"ProveItLink\" href=\"../af5e4a2a4897666ca51991d111fef51782628efb0/expr.ipynb\"><img src=\"../af5e4a2a4897666ca51991d111fef51782628efb0/expr.png\" style=\"display:inline;vertical-align:middle;\" /></a></td></tr>\n",
       "<tr><td>23</td><td>Literal</td><td></td><td><a class=\"ProveItLink\" href=\"../../../../../../numbers/exponentiation/__pv_it/common/0ac37aca1e54c35c5cda09672df32d4f69f1f3020/expr.ipynb\"><img src=\"../../../../../../numbers/exponentiation/__pv_it/common/0ac37aca1e54c35c5cda09672df32d4f69f1f3020/expr.png\" style=\"display:inline;vertical-align:middle;\" /></a></td></tr>\n",
       "<tr><td>24</td><td>ExprTuple</td><td>29, 30</td><td><a class=\"ProveItLink\" href=\"../../theorems/7fc65e30a01a657038c276fe12cbc943da454c6c0/expr.ipynb\"><img src=\"../../theorems/7fc65e30a01a657038c276fe12cbc943da454c6c0/expr.png\" style=\"display:inline;vertical-align:middle;\" /></a></td></tr>\n",
       "<tr><td>25</td><td>Literal</td><td></td><td><a class=\"ProveItLink\" href=\"../../../../algebra/__pv_it/common/e3872951fe05b26090372918594af92cac779e280/expr.ipynb\"><img src=\"../../../../algebra/__pv_it/common/e3872951fe05b26090372918594af92cac779e280/expr.png\" style=\"display:inline;vertical-align:middle;\" /></a></td></tr>\n",
       "<tr><td>26</td><td>ExprTuple</td><td>39</td><td><a class=\"ProveItLink\" href=\"../../../../../../__pv_it/common/688b115fcd711144fb0bdcf2138b0bd26487dd890/expr.ipynb\"><img src=\"../../../../../../__pv_it/common/688b115fcd711144fb0bdcf2138b0bd26487dd890/expr.png\" style=\"display:inline;vertical-align:middle;\" /></a></td></tr>\n",
       "<tr><td>27</td><td>Literal</td><td></td><td><a class=\"ProveItLink\" href=\"../../../../../../numbers/number_sets/integers/__pv_it/common/92f3a0a77e3c3ea8e4a5c8674edadc54e4f57d550/expr.ipynb\"><img src=\"../../../../../../numbers/number_sets/integers/__pv_it/common/92f3a0a77e3c3ea8e4a5c8674edadc54e4f57d550/expr.png\" style=\"display:inline;vertical-align:middle;\" /></a></td></tr>\n",
       "<tr><td>28</td><td>ExprTuple</td><td>31, 32</td><td><a class=\"ProveItLink\" href=\"../../../../../../numbers/numerals/decimals/__pv_it/theorems/da8a8b171a5f1ff8208183b4cf6a698b32a8f24a0/expr.ipynb\"><img src=\"../../../../../../numbers/numerals/decimals/__pv_it/theorems/da8a8b171a5f1ff8208183b4cf6a698b32a8f24a0/expr.png\" style=\"display:inline;vertical-align:middle;\" /></a></td></tr>\n",
       "<tr><td>29</td><td>Literal</td><td></td><td><a class=\"ProveItLink\" href=\"../../../../../../numbers/number_sets/real_numbers/__pv_it/common/e531ffa54fd897084533764a4a14f19f590674f80/expr.ipynb\"><img src=\"../../../../../../numbers/number_sets/real_numbers/__pv_it/common/e531ffa54fd897084533764a4a14f19f590674f80/expr.png\" style=\"display:inline;vertical-align:middle;\" /></a></td></tr>\n",
       "<tr><td>30</td><td>Operation</td><td>operator:&nbsp;33<br>operands:&nbsp;34<br></td><td><a class=\"ProveItLink\" href=\"../../theorems/0adba22132b513f20df65a9b53cb0c8f00d51b650/expr.ipynb\"><img src=\"../../theorems/0adba22132b513f20df65a9b53cb0c8f00d51b650/expr.png\" style=\"display:inline;vertical-align:middle;\" /></a></td></tr>\n",
       "<tr><td>31</td><td>Literal</td><td></td><td><a class=\"ProveItLink\" href=\"../../../../../../numbers/numerals/__pv_it/common/dd4e19e8b134dfb293470ea55fe3589b0ab9f8040/expr.ipynb\"><img src=\"../../../../../../numbers/numerals/__pv_it/common/dd4e19e8b134dfb293470ea55fe3589b0ab9f8040/expr.png\" style=\"display:inline;vertical-align:middle;\" /></a></td></tr>\n",
       "<tr><td>32</td><td>Literal</td><td></td><td><a class=\"ProveItLink\" href=\"../../../../../../numbers/numerals/__pv_it/common/682157d4892d216d9e5626ed533aff9b56b9506e0/expr.ipynb\"><img src=\"../../../../../../numbers/numerals/__pv_it/common/682157d4892d216d9e5626ed533aff9b56b9506e0/expr.png\" style=\"display:inline;vertical-align:middle;\" /></a></td></tr>\n",
       "<tr><td>33</td><td>Literal</td><td></td><td><a class=\"ProveItLink\" href=\"../../../../../../numbers/multiplication/__pv_it/common/ed719cef37831779c16481533a4d380a2f95ab270/expr.ipynb\"><img src=\"../../../../../../numbers/multiplication/__pv_it/common/ed719cef37831779c16481533a4d380a2f95ab270/expr.png\" style=\"display:inline;vertical-align:middle;\" /></a></td></tr>\n",
       "<tr><td>34</td><td>ExprTuple</td><td>35, 36, 37, 38, 39</td><td><a class=\"ProveItLink\" href=\"../../theorems/2112f73c2594adc999ec7cf2c7506d4201e84ed50/expr.ipynb\"><img src=\"../../theorems/2112f73c2594adc999ec7cf2c7506d4201e84ed50/expr.png\" style=\"display:inline;vertical-align:middle;\" /></a></td></tr>\n",
       "<tr><td>35</td><td>Literal</td><td></td><td><a class=\"ProveItLink\" href=\"../../../../../../numbers/numerals/__pv_it/common/af4aab8a07465db063742696e006d04670f30cf10/expr.ipynb\"><img src=\"../../../../../../numbers/numerals/__pv_it/common/af4aab8a07465db063742696e006d04670f30cf10/expr.png\" style=\"display:inline;vertical-align:middle;\" /></a></td></tr>\n",
       "<tr><td>36</td><td>Literal</td><td></td><td><a class=\"ProveItLink\" href=\"../../../../../../numbers/number_sets/real_numbers/__pv_it/common/246c206266ac5b48800e508d580f91767b24c2df0/expr.ipynb\"><img src=\"../../../../../../numbers/number_sets/real_numbers/__pv_it/common/246c206266ac5b48800e508d580f91767b24c2df0/expr.png\" style=\"display:inline;vertical-align:middle;\" /></a></td></tr>\n",
       "<tr><td>37</td><td>Literal</td><td></td><td><a class=\"ProveItLink\" href=\"../../../../../../numbers/number_sets/complex_numbers/__pv_it/common/6c9cc69d472f352324c298b2318df233e9a7e0250/expr.ipynb\"><img src=\"../../../../../../numbers/number_sets/complex_numbers/__pv_it/common/6c9cc69d472f352324c298b2318df233e9a7e0250/expr.png\" style=\"display:inline;vertical-align:middle;\" /></a></td></tr>\n",
       "<tr><td>38</td><td>Literal</td><td></td><td><a class=\"ProveItLink\" href=\"../../common/d5e43a4a06cc3c8384d7262f5d019bed24f240ea0/expr.ipynb\"><img src=\"../../common/d5e43a4a06cc3c8384d7262f5d019bed24f240ea0/expr.png\" style=\"display:inline;vertical-align:middle;\" /></a></td></tr>\n",
       "<tr><td>39</td><td>Variable</td><td></td><td><a class=\"ProveItLink\" href=\"../../../../../../__pv_it/common/63b7c64bf9ec7a04ecc396c7a1670f3f12fb59490/expr.ipynb\"><img src=\"../../../../../../__pv_it/common/63b7c64bf9ec7a04ecc396c7a1670f3f12fb59490/expr.png\" style=\"display:inline;vertical-align:middle;\" /></a></td></tr>\n",
       "</table>\n"
      ],
      "text/plain": [
       "0. (1 / sqrt(2)) * (Sum_{k=0}^{1} (e^{2 * pi * i * phase * k} * |k〉))\n",
       "   core type: Operation\n",
       "   operator: 16\n",
       "   operands: 1\n",
       "1. (1 / sqrt(2), Sum_{k=0}^{1} (e^{2 * pi * i * phase * k} * |k〉))\n",
       "   core type: ExprTuple\n",
       "   sub-expressions: 2, 3\n",
       "2. 1 / sqrt(2)\n",
       "   core type: Operation\n",
       "   operator: 14\n",
       "   operands: 4\n",
       "3. Sum_{k=0}^{1} (e^{2 * pi * i * phase * k} * |k〉)\n",
       "   core type: Operation\n",
       "   operator: 5\n",
       "   operand: 8\n",
       "4. (1, sqrt(2))\n",
       "   core type: ExprTuple\n",
       "   sub-expressions: 32, 7\n",
       "5. Sum\n",
       "   core type: Literal\n",
       "   sub-expressions: \n",
       "6. (k -> {e^{2 * pi * i * phase * k} * |k〉 if k in {0 .. 1}.)\n",
       "   core type: ExprTuple\n",
       "   sub-expressions: 8\n",
       "7. sqrt(2)\n",
       "   core type: Operation\n",
       "   operator: 23\n",
       "   operands: 9\n",
       "8. k -> {e^{2 * pi * i * phase * k} * |k〉 if k in {0 .. 1}.\n",
       "   core type: Lambda\n",
       "   parameter: 39\n",
       "   body: 10\n",
       "9. (2, 1 / 2)\n",
       "   core type: ExprTuple\n",
       "   sub-expressions: 35, 11\n",
       "10. {e^{2 * pi * i * phase * k} * |k〉 if k in {0 .. 1}.\n",
       "    core type: Conditional\n",
       "    value: 12\n",
       "    condition: 13\n",
       "11. 1 / 2\n",
       "    core type: Operation\n",
       "    operator: 14\n",
       "    operands: 15\n",
       "12. e^{2 * pi * i * phase * k} * |k〉\n",
       "    core type: Operation\n",
       "    operator: 16\n",
       "    operands: 17\n",
       "13. k in {0 .. 1}\n",
       "    core type: Operation\n",
       "    operator: 18\n",
       "    operands: 19\n",
       "14. /\n",
       "    core type: Literal\n",
       "    sub-expressions: \n",
       "15. (1, 2)\n",
       "    core type: ExprTuple\n",
       "    sub-expressions: 32, 35\n",
       "16. *\n",
       "    core type: Literal\n",
       "    sub-expressions: \n",
       "17. (e^{2 * pi * i * phase * k}, |k〉)\n",
       "    core type: ExprTuple\n",
       "    sub-expressions: 20, 21\n",
       "18. in\n",
       "    core type: Literal\n",
       "    sub-expressions: \n",
       "19. (k, {0 .. 1})\n",
       "    core type: ExprTuple\n",
       "    sub-expressions: 39, 22\n",
       "20. e^{2 * pi * i * phase * k}\n",
       "    core type: Operation\n",
       "    operator: 23\n",
       "    operands: 24\n",
       "21. |k〉\n",
       "    core type: Operation\n",
       "    operator: 25\n",
       "    operand: 39\n",
       "22. {0 .. 1}\n",
       "    core type: Operation\n",
       "    operator: 27\n",
       "    operands: 28\n",
       "23. Exp\n",
       "    core type: Literal\n",
       "    sub-expressions: \n",
       "24. (e, 2 * pi * i * phase * k)\n",
       "    core type: ExprTuple\n",
       "    sub-expressions: 29, 30\n",
       "25. KET\n",
       "    core type: Literal\n",
       "    sub-expressions: \n",
       "26. (k)\n",
       "    core type: ExprTuple\n",
       "    sub-expressions: 39\n",
       "27. Interval\n",
       "    core type: Literal\n",
       "    sub-expressions: \n",
       "28. (0, 1)\n",
       "    core type: ExprTuple\n",
       "    sub-expressions: 31, 32\n",
       "29. e\n",
       "    core type: Literal\n",
       "    sub-expressions: \n",
       "30. 2 * pi * i * phase * k\n",
       "    core type: Operation\n",
       "    operator: 33\n",
       "    operands: 34\n",
       "31. 0\n",
       "    core type: Literal\n",
       "    sub-expressions: \n",
       "32. 1\n",
       "    core type: Literal\n",
       "    sub-expressions: \n",
       "33. *\n",
       "    core type: Literal\n",
       "    sub-expressions: \n",
       "34. (2, pi, i, phase, k)\n",
       "    core type: ExprTuple\n",
       "    sub-expressions: 35, 36, 37, 38, 39\n",
       "35. 2\n",
       "    core type: Literal\n",
       "    sub-expressions: \n",
       "36. pi\n",
       "    core type: Literal\n",
       "    sub-expressions: \n",
       "37. i\n",
       "    core type: Literal\n",
       "    sub-expressions: \n",
       "38. phase\n",
       "    core type: Literal\n",
       "    sub-expressions: \n",
       "39. k\n",
       "    core type: Variable\n",
       "    sub-expressions: "
      ]
     },
     "metadata": {},
     "output_type": "display_data"
    }
   ],
   "source": [
    "# display the expression information\n",
    "stored_expr.expr_info()"
   ]
  },
  {
   "cell_type": "code",
   "execution_count": null,
   "metadata": {},
   "outputs": [],
   "source": []
  }
 ],
 "metadata": {
  "kernelspec": {
   "display_name": "Python 3",
   "language": "python",
   "name": "python3"
  }
 },
 "nbformat": 4,
 "nbformat_minor": 0
}