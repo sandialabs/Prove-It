{
 "cells": [
  {
   "cell_type": "code",
   "execution_count": null,
   "metadata": {},
   "outputs": [],
   "source": [
    "from proveit.numbers.natural.theorems import *\n",
    "from proveit.numbers.integer.theorems import *\n",
    "from proveit.numbers.real.theorems import *\n",
    "from proveit.numbers.complex.theorems import *"
   ]
  },
  {
   "cell_type": "code",
   "execution_count": null,
   "metadata": {},
   "outputs": [],
   "source": [
    "div_ineq_thm1.latex()"
   ]
  },
  {
   "cell_type": "code",
   "execution_count": null,
   "metadata": {},
   "outputs": [],
   "source": [
    "div_ineq_thm1.instantiate({a:x,b:y,c:z}).prove([In(x,Real),In(y,Real),In(z,Real),greaterThan(y,zero),LessThanEquals(x,z)]).latex()"
   ]
  },
  {
   "cell_type": "code",
   "execution_count": null,
   "metadata": {},
   "outputs": [],
   "source": [
    "div_ineq_thm2.latex()"
   ]
  },
  {
   "cell_type": "code",
   "execution_count": null,
   "metadata": {},
   "outputs": [],
   "source": [
    "div_ineq_thm2.instantiate({a:x,b:y,c:z}).prove([In(x,Real),In(y,Real),In(z,Real),greaterThanEquals(y,z),greaterThanEquals(x,zero),greaterThan(y,zero),greaterThan(z,zero)]).latex()"
   ]
  },
  {
   "cell_type": "code",
   "execution_count": null,
   "metadata": {},
   "outputs": [],
   "source": [
    "triangle_inequality.latex()"
   ]
  },
  {
   "cell_type": "code",
   "execution_count": null,
   "metadata": {},
   "outputs": [],
   "source": [
    "triangle_inequality.instantiate({a:x,b:y}).prove([In(x,Complex),In(y,Complex)]).latex()"
   ]
  },
  {
   "cell_type": "code",
   "execution_count": null,
   "metadata": {},
   "outputs": [],
   "source": [
    "ineq_thm3.latex()"
   ]
  },
  {
   "cell_type": "code",
   "execution_count": null,
   "metadata": {},
   "outputs": [],
   "source": [
    "ineq_thm3.instantiate({theta:x}).prove((In(x,Real),LessThanEquals(Neg(pi),x),LessThanEquals(x,pi))).latex()"
   ]
  },
  {
   "cell_type": "code",
   "execution_count": null,
   "metadata": {},
   "outputs": [],
   "source": [
    "ineq_thm4.latex()"
   ]
  },
  {
   "cell_type": "code",
   "execution_count": null,
   "metadata": {},
   "outputs": [],
   "source": [
    "ineq_thm4.instantiate({l:x,t:y,delta:z}).prove((In(x,Integer),In(y,Natural),In(z,Real),\n",
    "                                              LessThanEquals(Neg(Exponentiate(two,subtract(y,one))),x),\n",
    "                                              LessThanEquals(x,Exponentiate(two,subtract(y,one))),\n",
    "                                              LessThanEquals(zero,z),\n",
    "                                              LessThanEquals(z,Exponentiate(two,Neg(y)))\n",
    "                                             )\n",
    "                                            ).latex()"
   ]
  },
  {
   "cell_type": "code",
   "execution_count": null,
   "metadata": {},
   "outputs": [],
   "source": [
    "abs_prod.latex()"
   ]
  },
  {
   "cell_type": "code",
   "execution_count": null,
   "metadata": {},
   "outputs": [],
   "source": [
    "abs_prod.instantiate({a:x,b:y}).prove((In(x,Complex),In(y,Complex))).latex()"
   ]
  },
  {
   "cell_type": "code",
   "execution_count": null,
   "metadata": {},
   "outputs": [],
   "source": [
    "abs_pow.latex()"
   ]
  },
  {
   "cell_type": "code",
   "execution_count": null,
   "metadata": {},
   "outputs": [],
   "source": [
    "abs_pow.instantiate({a:x,b:y,c:z}).prove((In(x,Complex),In(y,Complex),In(z,Complex))).latex()"
   ]
  },
  {
   "cell_type": "code",
   "execution_count": null,
   "metadata": {},
   "outputs": [],
   "source": [
    "square_pos_ineq.latex()"
   ]
  },
  {
   "cell_type": "code",
   "execution_count": null,
   "metadata": {},
   "outputs": [],
   "source": [
    "square_pos_ineq.instantiate({a:x,b:y}).prove((In(x,Real),In(y,Real),\n",
    "                                           LessThanEquals(Abs(x),y))).latex()"
   ]
  },
  {
   "cell_type": "code",
   "execution_count": null,
   "metadata": {},
   "outputs": [],
   "source": [
    "square_pos_eq.latex()"
   ]
  },
  {
   "cell_type": "code",
   "execution_count": null,
   "metadata": {},
   "outputs": [],
   "source": [
    "square_pos_eq.instantiate({a:x}).prove((In(x,Real),)).latex()"
   ]
  },
  {
   "cell_type": "code",
   "execution_count": null,
   "metadata": {},
   "outputs": [],
   "source": [
    "pow_sum.latex()"
   ]
  },
  {
   "cell_type": "code",
   "execution_count": null,
   "metadata": {},
   "outputs": [],
   "source": [
    "pow_sum.instantiate({a:x,b:y,c:z}).prove((In(x,Complex),In(y,Complex),In(z,Complex))).latex()"
   ]
  },
  {
   "cell_type": "code",
   "execution_count": null,
   "metadata": {},
   "outputs": [],
   "source": [
    "diff_square_comm.latex()"
   ]
  },
  {
   "cell_type": "code",
   "execution_count": null,
   "metadata": {},
   "outputs": [],
   "source": [
    "diff_square_comm.instantiate({a:x,b:y}).prove((In(x,Complex),In(y,Complex))).latex()"
   ]
  },
  {
   "cell_type": "code",
   "execution_count": null,
   "metadata": {},
   "outputs": [],
   "source": [
    "diff_square_comm.instantiate({a:x,b:y}).prove(\n",
    "                                            (And(\n",
    "                                                 In(x,Complex)\n",
    "                                                 ,In(y,Complex)\n",
    "                                               ),)\n",
    "                                          )\n",
    "#How do I get the above to work?  Need to call theorem regarding (A^B) -> A?"
   ]
  },
  {
   "cell_type": "code",
   "execution_count": null,
   "metadata": {},
   "outputs": [],
   "source": [
    "ineq_thm5.latex()"
   ]
  },
  {
   "cell_type": "code",
   "execution_count": null,
   "metadata": {},
   "outputs": [],
   "source": [
    "ineq_thm5.instantiate({a:x,b:y,c:z}).prove((In(x,Real),In(y,Real),In(z,Real),greaterThan(z,zero),greaterThanEquals(x,y))).latex()"
   ]
  },
  {
   "cell_type": "code",
   "execution_count": null,
   "metadata": {},
   "outputs": [],
   "source": [
    "ineq_thm6.latex()"
   ]
  },
  {
   "cell_type": "code",
   "execution_count": null,
   "metadata": {},
   "outputs": [],
   "source": [
    "ineq_thm6.instantiate({a:x,b:y}).prove((In(x,Real),In(y,Real),greaterThanEquals(y,zero))).latex()"
   ]
  },
  {
   "cell_type": "code",
   "execution_count": null,
   "metadata": {},
   "outputs": [],
   "source": [
    "ineq_thm7.latex()"
   ]
  },
  {
   "cell_type": "code",
   "execution_count": null,
   "metadata": {},
   "outputs": [],
   "source": [
    "ineq_thm7.instantiate({x:y,l:z}).prove((In(y,Real),In(z,Real),\n",
    "                                     LessThanEquals(z,zero),\n",
    "                                     LessThanEquals(zero,y),\n",
    "                                     LessThanEquals(y,one))).latex()"
   ]
  },
  {
   "cell_type": "code",
   "execution_count": null,
   "metadata": {},
   "outputs": [],
   "source": [
    "ineq_thm8.latex()"
   ]
  },
  {
   "cell_type": "code",
   "execution_count": null,
   "metadata": {},
   "outputs": [],
   "source": [
    "ineq_thm8.instantiate({x:y,l:z}).prove((In(y,Real),In(z,Real),\n",
    "                                     greaterThan(z,zero),\n",
    "                                     LessThanEquals(zero,y),\n",
    "                                     LessThanEquals(y,one))).latex()"
   ]
  },
  {
   "cell_type": "code",
   "execution_count": null,
   "metadata": {},
   "outputs": [],
   "source": [
    "Am.relabel({m:Add(x,y)})"
   ]
  },
  {
   "cell_type": "code",
   "execution_count": null,
   "metadata": {},
   "outputs": [],
   "source": [
    "Forall(m,Am).instantiate({m:Add(m,y)}).latex()"
   ]
  },
  {
   "cell_type": "code",
   "execution_count": null,
   "metadata": {},
   "outputs": [],
   "source": [
    "in_integer.latex()"
   ]
  },
  {
   "cell_type": "code",
   "execution_count": null,
   "metadata": {},
   "outputs": [],
   "source": [
    "in_integer.instantiate({a:x}).prove((In(x,Natural),)).latex()"
   ]
  },
  {
   "cell_type": "code",
   "execution_count": null,
   "metadata": {},
   "outputs": [],
   "source": [
    "in_real.latex()"
   ]
  },
  {
   "cell_type": "code",
   "execution_count": null,
   "metadata": {},
   "outputs": [],
   "source": [
    "in_integer.instantiate({a:x}).prove((In(x,Integer),)).latex()#Interesting that this works!"
   ]
  },
  {
   "cell_type": "code",
   "execution_count": null,
   "metadata": {},
   "outputs": [],
   "source": [
    "in_real.instantiate({a:x}).prove((In(x,Integer),)).latex()"
   ]
  },
  {
   "cell_type": "code",
   "execution_count": null,
   "metadata": {},
   "outputs": [],
   "source": [
    "in_complex.instantiate({a:x}).prove((In(x,Real),)).latex()"
   ]
  },
  {
   "cell_type": "code",
   "execution_count": null,
   "metadata": {},
   "outputs": [],
   "source": []
  }
 ],
 "metadata": {
  "kernelspec": {
   "display_name": "Python 3",
   "language": "python",
   "name": "python3"
  }
 },
 "nbformat": 4,
 "nbformat_minor": 0
}
