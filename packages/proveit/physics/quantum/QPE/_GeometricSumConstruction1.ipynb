{
 "cells": [
  {
   "cell_type": "code",
   "execution_count": null,
   "metadata": {},
   "outputs": [],
   "source": [
    "from qpe_scratch import *"
   ]
  },
  {
   "cell_type": "code",
   "execution_count": null,
   "metadata": {},
   "outputs": [],
   "source": [
    "r = Variable('r')"
   ]
  },
  {
   "cell_type": "code",
   "execution_count": null,
   "metadata": {},
   "outputs": [],
   "source": [
    "print(Summation(r,Exponentiate(r,m),In(r,DiscreteContiguousSet(m,n))).formatted(LATEX))"
   ]
  },
  {
   "cell_type": "markdown",
   "metadata": {},
   "source": [
    "$$\n",
    "\\sum_{r \\in \\{m\\ldots n\\}} r^{m}\n",
    "$$"
   ]
  },
  {
   "cell_type": "code",
   "execution_count": null,
   "metadata": {},
   "outputs": [],
   "source": [
    "print(Equals(Summation(r,Exponentiate(r,m),In(r,DiscreteContiguousSet(m,n))), \n",
    "             frac(subtract(Exponentiate(r,Add(n,one)),Exponentiate(r,m)),subtract(r,one))).formatted(LATEX))"
   ]
  },
  {
   "cell_type": "markdown",
   "metadata": {},
   "source": [
    "$$\n",
    "[\\sum_{r \\in \\{m\\ldots n\\}} r^{m}] = \\frac{(r^{(n + 1)} - r^{m})}{(r - 1)}\n",
    "$$"
   ]
  },
  {
   "cell_type": "code",
   "execution_count": null,
   "metadata": {},
   "outputs": [],
   "source": [
    "finite_geom_sum_id = Equals(Summation(r,Exponentiate(r,m),In(r,DiscreteContiguousSet(m,n))), \n",
    "             frac(subtract(Exponentiate(r,Add(n,one)),Exponentiate(r,m)),subtract(r,one)))"
   ]
  },
  {
   "cell_type": "code",
   "execution_count": null,
   "metadata": {},
   "outputs": [],
   "source": [
    "print(Forall([r,m,n],finite_geom_sum_id,\n",
    "             [In(m,Z),\n",
    "              In(n,Z),\n",
    "              In(r,R),\n",
    "              LessThan(m,n)]).formatted(LATEX))"
   ]
  },
  {
   "cell_type": "markdown",
   "metadata": {},
   "source": [
    "$$\n",
    "\\forall_{m \\in \\mathbb{Z}, n \\in \\mathbb{Z}, r \\in \\mathbb{R}, m < n} [\\sum_{r \\in \\{m\\ldots n\\}} r^{m}] = \\frac{(r^{(n + 1)} - r^{m})}{(r - 1)}\n",
    "$$"
   ]
  },
  {
   "cell_type": "code",
   "execution_count": null,
   "metadata": {},
   "outputs": [],
   "source": [
    "inf_geom_sum_id = Equals(Summation(r,Exponentiate(r,m),In(r,DiscreteContiguousSet(zero,infinity))), \n",
    "             frac(one,subtract(one,r)))"
   ]
  },
  {
   "cell_type": "code",
   "execution_count": null,
   "metadata": {},
   "outputs": [],
   "source": [
    "print(Forall(r,inf_geom_sum_id,\n",
    "              In(r,R),\n",
    "              ).formatted(LATEX))"
   ]
  },
  {
   "cell_type": "markdown",
   "metadata": {},
   "source": [
    "$$\n",
    "\\forall_{r \\in \\mathbb{R}} [\\sum_{r \\in \\{0\\ldots \\infty\\}} r^{m}] = \\frac{1}{(1 - r)}\n",
    "$$"
   ]
  },
  {
   "cell_type": "code",
   "execution_count": null,
   "metadata": {},
   "outputs": [],
   "source": [
    "print(Forall(r,Equals(Summation(r,Exponentiate(r,m),In(r,DiscreteContiguousSet(zero,infinity))), \n",
    "             frac(one,subtract(one,r))),\n",
    "              In(r,R),\n",
    "              ).formatted(LATEX))"
   ]
  },
  {
   "cell_type": "markdown",
   "metadata": {},
   "source": [
    "$$\n",
    "\\forall_{r \\in \\mathbb{R}} [\\sum_{r \\in \\{0\\ldots \\infty\\}} r^{m}] = \\frac{1}{(1 - r)}\n",
    "$$"
   ]
  },
  {
   "cell_type": "code",
   "execution_count": null,
   "metadata": {},
   "outputs": [],
   "source": [
    "print(Forall([r,m,n],Equals(Summation(r,Exponentiate(r,m),In(r,DiscreteContiguousSet(m,n))), \n",
    "             frac(subtract(Exponentiate(r,Add(n,one)),Exponentiate(r,m)),subtract(r,one))),\n",
    "             [In(m,Z),\n",
    "              In(n,Z),\n",
    "              In(r,R),\n",
    "              LessThan(m,n)]).formatted(LATEX))"
   ]
  },
  {
   "cell_type": "markdown",
   "metadata": {},
   "source": [
    "$$\n",
    "\\forall_{m \\in \\mathbb{Z}, n \\in \\mathbb{Z}, r \\in \\mathbb{R}, m < n} [\\sum_{r \\in \\{m\\ldots n\\}} r^{m}] = \\frac{(r^{(n + 1)} - r^{m})}{(r - 1)}\n",
    "$$"
   ]
  },
  {
   "cell_type": "code",
   "execution_count": null,
   "metadata": {},
   "outputs": [],
   "source": [
    "def f():\n",
    "    x = 10\n",
    "    return locals()"
   ]
  },
  {
   "cell_type": "code",
   "execution_count": null,
   "metadata": {},
   "outputs": [],
   "source": [
    "f()"
   ]
  },
  {
   "cell_type": "code",
   "execution_count": null,
   "metadata": {},
   "outputs": [],
   "source": []
  }
 ],
 "metadata": {
  "kernelspec": {
   "display_name": "Python 3",
   "language": "python",
   "name": "python3"
  }
 },
 "nbformat": 4,
 "nbformat_minor": 0
}
