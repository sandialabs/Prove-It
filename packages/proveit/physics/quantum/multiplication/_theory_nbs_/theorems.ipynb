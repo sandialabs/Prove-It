{
 "cells": [
  {
   "cell_type": "markdown",
   "metadata": {},
   "source": [
    "Theorems (or conjectures) for the theory of <a class=\"ProveItLink\" href=\"theory.ipynb\">proveit.physics.quantum.multiplication</a>\n",
    "========"
   ]
  },
  {
   "cell_type": "code",
   "execution_count": null,
   "metadata": {},
   "outputs": [],
   "source": [
    "import proveit\n",
    "# Prepare this notebook for defining the theorems of a theory:\n",
    "%theorems_notebook # Keep this at the top following 'import proveit'.\n",
    "\n",
    "from proveit import (Function, Lambda, Conditional, Composition,\n",
    "                     ExprTuple, ExprRange, IndexedVar)\n",
    "from proveit import a, b, c, f, i, j, k, l, m, n, x, A, B, M, Q, X, Y\n",
    "from proveit.core_expr_types import (\n",
    "    b_1_to_j, A_1_to_l, A_1_to_m, B_1_to_i, B_1_to_m, C_1_to_n)\n",
    "from proveit.linear_algebra import (\n",
    "    LinMap, VecSpaces, MatrixSpace, MatrixMult, ScalarMult,\n",
    "    VecAdd, VecSum)\n",
    "from proveit.linear_algebra.addition import vec_summation_b1toj_fQ\n",
    "from proveit.logic import (Implies, Or, Forall, Exists, Equals, \n",
    "                           Set, InSet, InClass, CartExp)\n",
    "from proveit.numbers import Natural, NaturalPos, Complex, one\n",
    "from proveit.numbers import Mult\n",
    "from proveit.physics.quantum import (\n",
    "    Hspace, var_ket_psi, var_bra_varphi, var_ket_v)\n",
    "from proveit.physics.quantum.multiplication import QmultCodomain, Qmult"
   ]
  },
  {
   "cell_type": "code",
   "execution_count": null,
   "metadata": {},
   "outputs": [],
   "source": [
    "%begin theorems"
   ]
  },
  {
   "cell_type": "markdown",
   "metadata": {},
   "source": [
    "### Associativity"
   ]
  },
  {
   "cell_type": "code",
   "execution_count": null,
   "metadata": {},
   "outputs": [],
   "source": [
    "qmult_association = Forall(\n",
    "    (l,m,n), Forall(\n",
    "        (A_1_to_l,B_1_to_m,C_1_to_n),\n",
    "        Equals(Qmult(A_1_to_l, B_1_to_m, C_1_to_n),\n",
    "               Qmult(A_1_to_l, Qmult(B_1_to_m), \n",
    "                     C_1_to_n)).with_wrapping_at(2),\n",
    "        condition=InClass(Qmult(A_1_to_l, B_1_to_m,\n",
    "                                C_1_to_n),\n",
    "                          QmultCodomain)),\n",
    "    domains=(Natural, NaturalPos, Natural))"
   ]
  },
  {
   "cell_type": "code",
   "execution_count": null,
   "metadata": {},
   "outputs": [],
   "source": [
    "qmult_disassociation = Forall(\n",
    "    (l,m,n), Forall(\n",
    "        (A_1_to_l,B_1_to_m,C_1_to_n),\n",
    "        Equals(Qmult(A_1_to_l, Qmult(B_1_to_m), C_1_to_n),\n",
    "               Qmult(A_1_to_l, B_1_to_m, C_1_to_n)\n",
    "              ).with_wrapping_at(2),\n",
    "        condition=InClass(Qmult(A_1_to_l, B_1_to_m,\n",
    "                                      C_1_to_n),\n",
    "                          QmultCodomain)),\n",
    "    domains=(Natural, NaturalPos, Natural))"
   ]
  },
  {
   "cell_type": "markdown",
   "metadata": {},
   "source": [
    "### Distributivity"
   ]
  },
  {
   "cell_type": "code",
   "execution_count": null,
   "metadata": {},
   "outputs": [],
   "source": [
    "qmult_distribution_over_add = Forall(\n",
    "    (i, m, n), Forall(\n",
    "        (A_1_to_m, B_1_to_i, C_1_to_n), \n",
    "        Equals(Qmult(A_1_to_m, VecAdd(B_1_to_i), C_1_to_n),\n",
    "               VecAdd(ExprRange(\n",
    "                   k, Qmult(A_1_to_m, IndexedVar(B, k), C_1_to_n),\n",
    "                   one, i))).with_wrapping_at(2),\n",
    "        condition=InClass(Qmult(A_1_to_m, VecAdd(B_1_to_i), C_1_to_n),\n",
    "                          QmultCodomain)),\n",
    "    domains=(NaturalPos, Natural, Natural))"
   ]
  },
  {
   "cell_type": "code",
   "execution_count": null,
   "metadata": {},
   "outputs": [],
   "source": [
    "qmult_distribution_over_summation = Forall(\n",
    "    (j, m, n), Forall(\n",
    "        (A_1_to_m, C_1_to_n, f, Q),\n",
    "        Implies(InClass(Qmult(A_1_to_m, vec_summation_b1toj_fQ,\n",
    "                              C_1_to_n),\n",
    "                        QmultCodomain),\n",
    "                Equals(Qmult(A_1_to_m, vec_summation_b1toj_fQ,\n",
    "                             C_1_to_n),\n",
    "                       VecSum(b_1_to_j,\n",
    "                              Qmult(A_1_to_m, Function(f, b_1_to_j),\n",
    "                                    C_1_to_n),\n",
    "                              condition=Function(Q, b_1_to_j)))\n",
    "                .with_wrap_before_operator())\n",
    "        .with_wrap_after_operator()),\n",
    "    domains=(NaturalPos, Natural, Natural))"
   ]
  },
  {
   "cell_type": "markdown",
   "metadata": {},
   "source": [
    "### QmultCodomain closure"
   ]
  },
  {
   "cell_type": "code",
   "execution_count": null,
   "metadata": {},
   "outputs": [],
   "source": [
    "complex_in_QmultCodomain = Forall(c, InClass(c, QmultCodomain), domain=Complex)"
   ]
  },
  {
   "cell_type": "code",
   "execution_count": null,
   "metadata": {},
   "outputs": [],
   "source": [
    "ket_in_QmultCodomain = Forall(\n",
    "    Hspace, Forall(var_ket_psi, InClass(var_ket_psi, QmultCodomain), domain=Hspace),\n",
    "    domain=VecSpaces(Complex))"
   ]
  },
  {
   "cell_type": "code",
   "execution_count": null,
   "metadata": {},
   "outputs": [],
   "source": [
    "bra_in_QmultCodomain = Forall(\n",
    "    Hspace, Forall(A, InClass(A, QmultCodomain), \n",
    "                   domain=LinMap(Hspace, Complex)),\n",
    "    domain=VecSpaces(Complex))"
   ]
  },
  {
   "cell_type": "code",
   "execution_count": null,
   "metadata": {},
   "outputs": [],
   "source": [
    "op_in_QmultCodomain = Forall(\n",
    "    (Hspace, X), Forall(A, InClass(A, QmultCodomain), \n",
    "                       domain=LinMap(Hspace, X)),\n",
    "    domain=VecSpaces(Complex))"
   ]
  },
  {
   "cell_type": "code",
   "execution_count": null,
   "metadata": {},
   "outputs": [],
   "source": [
    "qmult_matrix_is_linmap = Forall(\n",
    "    (m, n), Forall(M, InSet(Qmult(M), LinMap(CartExp(Complex, n),\n",
    "                                             CartExp(Complex, m)))),\n",
    "    domain=MatrixSpace(Complex, m, n))"
   ]
  },
  {
   "cell_type": "code",
   "execution_count": null,
   "metadata": {},
   "outputs": [],
   "source": [
    "qmult_matrix_in_QmultCodomain = Forall(\n",
    "    (m, n), Forall(M, InClass(Qmult(M), QmultCodomain)),\n",
    "    domain=MatrixSpace(Complex, m, n))"
   ]
  },
  {
   "cell_type": "code",
   "execution_count": null,
   "metadata": {},
   "outputs": [],
   "source": [
    "qmult_op_is_linmap = Forall(\n",
    "    (Hspace, X), Forall(A, InSet(Qmult(A), LinMap(Hspace, X)),\n",
    "                        domain=LinMap(Hspace, X)),\n",
    "    domain=VecSpaces(Complex))"
   ]
  },
  {
   "cell_type": "code",
   "execution_count": null,
   "metadata": {},
   "outputs": [],
   "source": [
    "qmult_op_in_QmultCodomain = Forall(\n",
    "    (Hspace, X), Forall(A, InSet(Qmult(A), QmultCodomain),\n",
    "                        domain=LinMap(Hspace, X)),\n",
    "    domain=VecSpaces(Complex))"
   ]
  },
  {
   "cell_type": "code",
   "execution_count": null,
   "metadata": {},
   "outputs": [],
   "source": [
    "qmult_op_ket_is_ket = Forall(\n",
    "    (Hspace, X), Forall(\n",
    "        A, Forall(var_ket_psi, InSet(Qmult(A, var_ket_psi), X),\n",
    "                  domain=Hspace),\n",
    "        condition=InSet(Qmult(A),\n",
    "                        LinMap(Hspace, X))),\n",
    "    domain=VecSpaces(Complex))"
   ]
  },
  {
   "cell_type": "code",
   "execution_count": null,
   "metadata": {},
   "outputs": [],
   "source": [
    "qmult_op_ket_in_QmultCodomain = Forall(\n",
    "    (Hspace, X), Forall(\n",
    "        A, Forall(var_ket_psi, InClass(Qmult(A, var_ket_psi),\n",
    "                                       QmultCodomain),\n",
    "                  domain=Hspace),\n",
    "        condition=InSet(Qmult(A),\n",
    "                        LinMap(Hspace, X))),\n",
    "    domain=VecSpaces(Complex))"
   ]
  },
  {
   "cell_type": "code",
   "execution_count": null,
   "metadata": {},
   "outputs": [],
   "source": [
    "qmult_op_op_is_op = Forall(\n",
    "    (Hspace, X, Y), Forall(\n",
    "        (A, B), InSet(Qmult(A, B), LinMap(Hspace, Y)),\n",
    "        conditions=[InSet(Qmult(A), LinMap(X, Y)),\n",
    "                    InSet(Qmult(B), LinMap(Hspace, X))]),\n",
    "    domain=VecSpaces(Complex))"
   ]
  },
  {
   "cell_type": "code",
   "execution_count": null,
   "metadata": {},
   "outputs": [],
   "source": [
    "qmult_op_op_in_QmultCodomain = Forall(\n",
    "    (Hspace, X, Y), Forall(\n",
    "        (A, B), InClass(Qmult(A, B), QmultCodomain),\n",
    "        conditions=[InSet(Qmult(A), LinMap(X, Y)),\n",
    "                    InSet(Qmult(B), LinMap(Hspace, X))]),\n",
    "    domain=VecSpaces(Complex))"
   ]
  },
  {
   "cell_type": "code",
   "execution_count": null,
   "metadata": {},
   "outputs": [],
   "source": [
    "qmult_ket_bra_is_op = Forall(\n",
    "    (Hspace, X), Forall(\n",
    "        var_ket_psi, Forall(\n",
    "            var_bra_varphi, InSet(Qmult(var_ket_psi, var_bra_varphi),\n",
    "                                  LinMap(Hspace, X)),\n",
    "            condition=InSet(Qmult(var_bra_varphi), \n",
    "                            LinMap(Hspace, Complex))),\n",
    "        domain=X))"
   ]
  },
  {
   "cell_type": "code",
   "execution_count": null,
   "metadata": {},
   "outputs": [],
   "source": [
    "qmult_ket_bra_in_QmultCodomain = Forall(\n",
    "    (Hspace, X), Forall(\n",
    "        var_ket_psi, Forall(\n",
    "            var_bra_varphi, InClass(Qmult(var_ket_psi, var_bra_varphi),\n",
    "                                    QmultCodomain),\n",
    "            condition=InSet(Qmult(var_bra_varphi), \n",
    "                            LinMap(Hspace, Complex))),\n",
    "        domain=X))"
   ]
  },
  {
   "cell_type": "code",
   "execution_count": null,
   "metadata": {},
   "outputs": [],
   "source": [
    "qmult_complex_complex_closure = Forall(\n",
    "    (a, b), InSet(Qmult(a, b), Complex),\n",
    "    domain=Complex)"
   ]
  },
  {
   "cell_type": "code",
   "execution_count": null,
   "metadata": {},
   "outputs": [],
   "source": [
    "qmult_complex_ket_closure = Forall(\n",
    "    c, Forall(Hspace, Forall(var_ket_psi, InSet(Qmult(c, var_ket_psi), Hspace),\n",
    "                             domain=Hspace),\n",
    "              domain=VecSpaces(Complex)),\n",
    "    domain=Complex)"
   ]
  },
  {
   "cell_type": "code",
   "execution_count": null,
   "metadata": {},
   "outputs": [],
   "source": [
    "qmult_ket_complex_closure = Forall(\n",
    "    c, Forall(Hspace, Forall(var_ket_psi, InSet(Qmult(var_ket_psi, c), Hspace),\n",
    "                             domain=Hspace),\n",
    "              domain=VecSpaces(Complex)),\n",
    "    domain=Complex)"
   ]
  },
  {
   "cell_type": "code",
   "execution_count": null,
   "metadata": {},
   "outputs": [],
   "source": [
    "qmult_complex_op_closure = Forall(\n",
    "    c, Forall((Hspace, X), Forall(A, InSet(Qmult(c, A), LinMap(Hspace, X)),\n",
    "                                  domain=LinMap(Hspace, X)),\n",
    "              domain=VecSpaces(Complex)),\n",
    "    domain=Complex)"
   ]
  },
  {
   "cell_type": "code",
   "execution_count": null,
   "metadata": {},
   "outputs": [],
   "source": [
    "qmult_op_complex_closure = Forall(\n",
    "    c, Forall((Hspace, X), Forall(A, InSet(Qmult(A, c), LinMap(Hspace, X)),\n",
    "                                  domain=LinMap(Hspace, X)),\n",
    "              domain=VecSpaces(Complex)),\n",
    "    domain=Complex)"
   ]
  },
  {
   "cell_type": "code",
   "execution_count": null,
   "metadata": {},
   "outputs": [],
   "source": [
    "qmult_complex_left_closure = Forall(\n",
    "    c, Forall(A, InClass(Qmult(c, A), QmultCodomain),\n",
    "              domain=QmultCodomain),\n",
    "    domain=Complex)"
   ]
  },
  {
   "cell_type": "code",
   "execution_count": null,
   "metadata": {},
   "outputs": [],
   "source": [
    "qmult_complex_right_closure = Forall(\n",
    "    c, Forall(A, InClass(Qmult(A, c), QmultCodomain),\n",
    "              domain=QmultCodomain),\n",
    "    domain=Complex)"
   ]
  },
  {
   "cell_type": "code",
   "execution_count": null,
   "metadata": {},
   "outputs": [],
   "source": [
    "%end theorems"
   ]
  }
 ],
 "metadata": {
  "kernelspec": {
   "display_name": "Python 3",
   "language": "python",
   "name": "python3"
  }
 },
 "nbformat": 4,
 "nbformat_minor": 0
}
