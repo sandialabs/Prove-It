{
 "cells": [
  {
   "cell_type": "code",
   "execution_count": null,
   "metadata": {},
   "outputs": [],
   "source": [
    "import proveit.special_statement_magic # for %begin_axioms and %end_axioms\n",
    "from proveit.basiclogic import Forall, Equals, Iff, In\n",
    "from proveit.linalg import ScalarProd, TensorProd, TensorExp, MatrixProd, SU\n",
    "from proveit.physics.quantum import Bra, Ket, RegisterBra, RegisterKet, Meas, Circuit, Gate, Input, Output, MultiWire\n",
    "from proveit.physics.quantum.common import I, X, Y, Z, H, ket0, ket1, ket_plus, \\\n",
    "    QubitSpace, QubitRegisterSpace, RegisterSU, CTRL_DN, PASS\n",
    "from proveit.common import k, n, U, x, y, alpha\n",
    "from proveit.numbers.common import zero, one, two\n",
    "from proveit.numbers import NaturalPos, Complex\n",
    "from proveit.numbers import Exponentiate, Add, subtract, DiscreteContiguousSet, frac, sqrt"
   ]
  },
  {
   "cell_type": "code",
   "execution_count": null,
   "metadata": {},
   "outputs": [],
   "source": [
    "%begin_axioms"
   ]
  },
  {
   "cell_type": "code",
   "execution_count": null,
   "metadata": {},
   "outputs": [],
   "source": [
    "# transferred\n",
    "ket_zero_in_qubit_space = In(ket0, QubitSpace)\n",
    "ket_zero_in_qubit_space"
   ]
  },
  {
   "cell_type": "code",
   "execution_count": null,
   "metadata": {},
   "outputs": [],
   "source": [
    "# transferred\n",
    "ket_one_in_qubit_space = In(ket1, QubitSpace)\n",
    "ket_one_in_qubit_space"
   ]
  },
  {
   "cell_type": "code",
   "execution_count": null,
   "metadata": {},
   "outputs": [],
   "source": [
    "# transferred\n",
    "single_qubit_register_zero = Equals(RegisterKet(zero, one), ket0)\n",
    "single_qubit_register_zero"
   ]
  },
  {
   "cell_type": "code",
   "execution_count": null,
   "metadata": {},
   "outputs": [],
   "source": [
    "# transferred\n",
    "single_qubit_register_one = Equals(RegisterKet(one, one), ket1)\n",
    "single_qubit_register_one"
   ]
  },
  {
   "cell_type": "code",
   "execution_count": null,
   "metadata": {},
   "outputs": [],
   "source": [
    "# transferred\n",
    "expand_register_with_zero_ket = Forall(n, \n",
    "                               Forall(k, Equals(RegisterKet(k, Add(n, one)), \n",
    "                                              TensorProd(RegisterKet(k, n), ket0)),\n",
    "                                      domain=DiscreteContiguousSet(zero, \n",
    "                                                                   subtract(Exponentiate(two, n), one))),\n",
    "                               domain=NaturalPos)\n",
    "expand_register_with_zero_ket"
   ]
  },
  {
   "cell_type": "code",
   "execution_count": null,
   "metadata": {},
   "outputs": [],
   "source": [
    "# transferred\n",
    "expand_register_with_one_ket = Forall(n, \n",
    "                               Forall(k, Equals(RegisterKet(Add(k, Exponentiate(two, n)), Add(n, one)), \n",
    "                                              TensorProd(RegisterKet(k, n), ket1)),\n",
    "                                      domain=DiscreteContiguousSet(zero, \n",
    "                                                                   subtract(Exponentiate(two, n), one))),\n",
    "                               domain=NaturalPos)\n",
    "expand_register_with_one_ket"
   ]
  },
  {
   "cell_type": "code",
   "execution_count": null,
   "metadata": {},
   "outputs": [],
   "source": [
    "ket_plus_def = Equals(ket_plus, frac(Add(ket0, ket1), sqrt(two)))\n",
    "ket_plus_def"
   ]
  },
  {
   "cell_type": "code",
   "execution_count": null,
   "metadata": {},
   "outputs": [],
   "source": [
    "# transferred\n",
    "hadamard_on_zero = Equals(MatrixProd(H, ket0), ket_plus)\n",
    "hadamard_on_zero"
   ]
  },
  {
   "cell_type": "code",
   "execution_count": null,
   "metadata": {},
   "outputs": [],
   "source": [
    "# transferred\n",
    "circuit_gate_application = Forall(U, \n",
    "                                Forall((x, y),\n",
    "                                       Iff(Circuit([[Input(x), Gate(U), Output(y)]]), \n",
    "                                           Equals(y, MatrixProd(U, x))),\n",
    "                                       domain=QubitSpace),\n",
    "                                domain=SU(two))\n",
    "circuit_gate_application"
   ]
  },
  {
   "cell_type": "code",
   "execution_count": null,
   "metadata": {},
   "outputs": [],
   "source": [
    "# transferred\n",
    "circuit_multi_gate_application = Forall(n, \n",
    "                                     Forall(U, \n",
    "                                            Forall((x, y),\n",
    "                                                   Iff(Circuit([[Input(x), MultiWire(n), Gate(U), Output(y)]]), \n",
    "                                                       Equals(y, MatrixProd(U, x))),\n",
    "                                                   domain=QubitRegisterSpace(n)), \n",
    "                                            domain=RegisterSU(n)),\n",
    "                                     domain=NaturalPos)\n",
    "circuit_multi_gate_application"
   ]
  },
  {
   "cell_type": "code",
   "execution_count": null,
   "metadata": {},
   "outputs": [],
   "source": [
    "# transferred\n",
    "zero_controlled_ngate = Forall(n, \n",
    "                             Forall(U, \n",
    "                                    Forall(x, \n",
    "                                           Forall(alpha, \n",
    "                                                  Circuit([[Input(ScalarProd(alpha, ket0)), PASS, CTRL_DN, Output(ScalarProd(alpha, ket0))],\n",
    "                                                           [Input(x), MultiWire(n), Gate(U), Output(x)]]), \n",
    "                                                  domain=Complex),\n",
    "                                           domain=QubitRegisterSpace(n)), \n",
    "                                    domain=SU(Exponentiate(two, n))), \n",
    "                             domain=NaturalPos)\n",
    "zero_controlled_ngate"
   ]
  },
  {
   "cell_type": "code",
   "execution_count": null,
   "metadata": {},
   "outputs": [],
   "source": [
    "# transferred\n",
    "one_controlled_ngate = Forall(n, \n",
    "                             Forall(U, \n",
    "                                    Forall(x, \n",
    "                                           Forall(alpha, \n",
    "                                                  Circuit([[Input(ScalarProd(alpha, ket1)), PASS, CTRL_DN, Output(ScalarProd(alpha, ket1))],\n",
    "                                                           [Input(x), MultiWire(n), Gate(U), Output(MatrixProd(U, x))]]), \n",
    "                                                  domain=Complex),\n",
    "                                           domain=QubitRegisterSpace(n)), \n",
    "                                    domain=SU(Exponentiate(two, n))), \n",
    "                             domain=NaturalPos)\n",
    "one_controlled_ngate"
   ]
  },
  {
   "cell_type": "code",
   "execution_count": null,
   "metadata": {},
   "outputs": [],
   "source": [
    "%end_axioms"
   ]
  },
  {
   "cell_type": "code",
   "execution_count": null,
   "metadata": {},
   "outputs": [],
   "source": []
  }
 ],
 "metadata": {
  "kernelspec": {
   "display_name": "Python 3",
   "language": "python",
   "name": "python3"
  }
 },
 "nbformat": 4,
 "nbformat_minor": 0
}
