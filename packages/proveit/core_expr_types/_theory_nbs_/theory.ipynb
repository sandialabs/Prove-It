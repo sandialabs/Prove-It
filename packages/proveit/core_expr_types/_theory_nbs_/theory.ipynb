{
 "cells": [
  {
   "cell_type": "markdown",
   "metadata": {},
   "source": [
    "Theory of <a class=\"ProveItLink\" href=\"../../_theory_nbs_/theory.ipynb\">proveit</a>.core_expr_types\n",
    "========\n",
    "\n",
    "Theory related to **Expression** types defined in Prove-It's core."
   ]
  },
  {
   "cell_type": "code",
   "execution_count": 1,
   "metadata": {},
   "outputs": [
    {
     "data": {
      "text/html": [
       "<h3>Local content of this theory</h3>"
      ],
      "text/plain": [
       "<IPython.core.display.HTML object>"
      ]
     },
     "metadata": {},
     "output_type": "display_data"
    },
    {
     "data": {
      "text/html": [
       "<table><tr>\n",
       "<th><a class=\"ProveItLink\" href=\"common.ipynb\">common expressions</a></th>\n",
       "<th><a class=\"ProveItLink\" href=\"axioms.ipynb\">axioms</a></th>\n",
       "<th><a class=\"ProveItLink\" href=\"theorems.ipynb\">theorems</a></th>\n",
       "<th><a class=\"ProveItLink\" href=\"demonstrations.ipynb\">demonstrations</a></th>\n",
       "</tr></table>\n",
       "<h3>Sub-theories</h3>\n",
       "<table>\n",
       "<tr><th><a class=\"ProveItLink\" href=\"../operations/_theory_nbs_/theory.ipynb\">operations</a></th><td>theory pertaining to Operation expressions</td></tr>\n",
       "<tr><th><a class=\"ProveItLink\" href=\"../conditionals/_theory_nbs_/theory.ipynb\">conditionals</a></th><td>theory pertaining to Conditional expressions</td></tr>\n",
       "<tr><th><a class=\"ProveItLink\" href=\"../lambda_maps/_theory_nbs_/theory.ipynb\">lambda_maps</a></th><td>theory pertaining to Lambda expressions</td></tr>\n",
       "<tr><th><a class=\"ProveItLink\" href=\"../tuples/_theory_nbs_/theory.ipynb\">tuples</a></th><td>theory pertaining to ExprTuple and ExprRange types</td></tr>\n",
       "<tr><th><a class=\"ProveItLink\" href=\"../indexed_vars/_theory_nbs_/theory.ipynb\">indexed_vars</a></th><td>theory pertaining to IndexedVar types</td></tr>\n",
       "<tr><th><a class=\"ProveItLink\" href=\"../expr_arrays/_theory_nbs_/theory.ipynb\">expr_arrays</a></th><td>An ExprArray is an ExprTuple of ExprTuples presented in a 2-D format</td></tr>\n",
       "</table>\n"
      ],
      "text/plain": [
       "<IPython.core.display.HTML object>"
      ]
     },
     "metadata": {},
     "output_type": "display_data"
    },
    {
     "data": {
      "text/html": [
       "<h3>All axioms contained within this theory</h3>"
      ],
      "text/plain": [
       "<IPython.core.display.HTML object>"
      ]
     },
     "metadata": {},
     "output_type": "display_data"
    },
    {
     "data": {
      "text/html": [
       "This theory contains no axioms directly."
      ],
      "text/plain": [
       "<IPython.core.display.HTML object>"
      ]
     },
     "metadata": {},
     "output_type": "display_data"
    },
    {
     "data": {
      "text/html": [
       "<h4>proveit.core_expr_types.operations</h4>"
      ],
      "text/plain": [
       "<IPython.core.display.HTML object>"
      ]
     },
     "metadata": {},
     "output_type": "display_data"
    },
    {
     "data": {
      "text/html": [
       "<dt><a class=\"ProveItLink\" href=\"../operations/_theory_nbs_/axioms.ipynb#operands_substitution\">proveit.core_expr_types.operations.operands_substitution</a></dt><dd><a class=\"ProveItLink\" href=\"../operations/__pv_it/axioms/e9a2fec83f7f76487e4e1ae47c47050c1e84bf510/expr.ipynb\"><img src=\"data:image/png;base64,iVBORw0KGgoAAAANSUhEUgAAAvMAAAAzBAMAAADoXJp5AAAAMFBMVEX///8AAAAAAAAAAAAAAAAA\n",
       "AAAAAAAAAAAAAAAAAAAAAAAAAAAAAAAAAAAAAAAAAAAv3aB7AAAAD3RSTlMAq1RmmUTNIjK7EInv\n",
       "3XZ/CtNrAAAACXBIWXMAAA7EAAAOxAGVKw4bAAAJfUlEQVR42u1cfWwcxRV/d7d7u7f34avoHwlB\n",
       "6UVAGtF8HIUggVB8yE2TFtJYVELQROQa/kDwD4eEQEF8uKh/QGWIIUrTWGq0fKiQpIovqbDUIJIj\n",
       "UkUgClwpVMiq0UaYogAyFhEYGZXrfO3M7OzNXuDsRHL2Sd6bmffmY3878+bN27cGiCBn3z4XYpoD\n",
       "6ohsvtWqzHsUMgPnsre9FPFMqzUUDX3/BTABLzqnvdljLJGKoU/U25fXumpVX3tFDL1P17QvLpS6\n",
       "avV2LSdbjKGnZL2ultx4GF9/0l2zhbKW9a8YenaLnjorFxzDFki1y3bv1nKWuzH0hK5XC3KXD6Or\n",
       "Ue6y3au1nHQlhp7QCbVgC5mUuW7bzWnNdnM6hp7o5Bm15FVyXdptw2n9svltDD25w6JScOXJH5K9\n",
       "Fv0dOPXSK5Kdo2TbkCyRLWrFVrkx9Ii2h46y35LrHeivUlhsNAVDybYhWSJF9ukN45j+GRQb8WLo\n",
       "EV0SMja/Jj/vIGxqqZlEGZ5ntg7NOq/8QKvEWQVKyYbec9GMoUf0mlqQnCI//0BHfjAQ6vYkm8c0\n",
       "a4B+5lMJPzOl7TM1HUOPADoTOmw2feiRlYI1Q5JDjbM9/WxZtDdrxCHB1M9650wMPTJwpkPaoOgr\n",
       "HGRn1hxXgh5nU24U9ESi76kJ/sTa6nq61C506DMNzcTdA7C3/xLIUgwd4Fm8LJxwQy6XeH5zOVeL\n",
       "RvbPMfQI6ND9P0pv+SCyAf9wE9xMoR+p8iw86ZIsuThfyQkq8eB/oQc9CKOu7/Uog54ssEu10CfI\n",
       "3lOep9CPVEJGN/15EuCFyWRfiUKfH+NZa5hmIY+rvusnxl0usRg2d5i1vf0U+rU4c6cWegOLpWvz\n",
       "FPrtnlpyA7tzbu8TpX0F598HD8hZLiVMzuPwMxvg4U69Iuh/h43ZIS30Nl4V2+arwlmlHE+Txa3M\n",
       "AKwEoOfaw/rT47+UssIwEgeDKXh/GUBfp7WGoE+j55Ut6XU99n4emq/Q9yqH2fywb5nv8pEc/cYD\n",
       "hy+OXKs1JWWFD0FYlUX4tKydzIR6ihT6FNLj6Yht9ir0W52v0H+uaNLUhF+wN2CDKiZpuCH1YWSi\n",
       "VHTPELNwTo6Pn4iAPjc+/p/6fIX+qNYrYHldNfxxpF1VZdCvBxiOgN4YgIw75xgw1fpjHd/rwA9N\n",
       "xKR+2kmyG93z8cDzTQb9vWDJDk7r3Zfh+qKAHjHvxekX+uZyNFQ1prQWmdGBD6qVuLrzc0b0o/Oy\n",
       "1vINBn3GzfI7emrhTliSdQ1XOlINw8s4vePWuYf+WS3frEfzYZPiJynC2cieZ+iTHt9ljfX4eOVV\n",
       "svJpdiXdZWdg7qFfqxe4uwM/HVQdRtQ5XMieZ4UD1TUoQZw+H2LGsssfCUCfTmFFu+QENkALE4+s\n",
       "8zWmSEpqVCo0T9GjMKLbixCahRKbQ4+GNLluQtbSvOYhxle65XzFPs6HByg6FLJH9TtCF6dIq5P7\n",
       "wt9m4RCaUcTp4xAAlmWf2yRDn13qcm/Px4mhrf4eLpLSxi4VHuhxB9nq92bskJ9KsDn0VhUKtYVp\n",
       "AoyxG9EOUfMyyuc9qPxkUNnfL4/lF1i2LDoUsp8PaPfi0veH3uxgHeWKPqAPoRRx+pjEVbMMKqdl\n",
       "6C3i4zTIcMsZzx+slBQkFz64Alg71nPNQuiIIdgcehOdMmCPLc8fXvM2yle6FXwz2MFt4QGKDoVs\n",
       "bxvoZyEE6sNodk/Fhz6B+8dOn9Rdu3c/g6Dfn5ahhwXkjEA9aD1oHW5z/aS5UtW+PdI6XYQapbKJ\n",
       "esK7eUJRv5gdhD6JZ8M0dVExwjVJ9gmfH+yWt2wHoV+ijCXQoZBdFd4SZiMEKh29hYzUQXYaY6eP\n",
       "Xaez3lwZgJ4uEjo/BqFmr3D9ZA5GlFYHJR35Hhxnsvn+3EDDUV6ZIbYCPYbEbljw2JivUEhNnCUK\n",
       "h0DGupX4pGVF4Twhj4UqHNGhkN0edsnORghUqtLZacehp06fYWYRnwpDP+KCU7cao8gozvOkhW7P\n",
       "qcN+/0IKU2t/ih7hfoD3zSkqC/mBLeiRNSRZyqai8jb7ULaKTPgxsV2imiQ7ias0gXcr8XHLUPDk\n",
       "gaBtVhoLI95hwQss/SDNSgjUm52ddhx66vTZhqa2/e8aNz0k6NHN2sfgV5smXQynn4SdODlYs1/H\n",
       "F1qYPI0tkcESXHZtlckm+/6IVFa/JEvZVFRAvwuMj458IkNPao4RFqqyC3i3Mh+1DJlaYCCZmjQW\n",
       "RrxD4WDJh/XKrIRA3dHZc6S8pXL+vnun6khghGMIk6zU5UljgCcFfwG2RKDk1ND+QGVfhB3EYSHJ\n",
       "UjYV5dD7lpWAntREWWx8lTjfGAjw11N3lzwQsy6Phd4c71C4xhIhw0uEQDkTZfkMd6Av+pwWED8Y\n",
       "CT05yJ31C8Jn8F77GwE9Sx4u8KTgNwurXTDdhHeLL7vYrELW9SRZxiaiAnqjpkKPa+Is4pgu5x8u\n",
       "yHzS8jplIOuksTCYeYfC3E+FD4o8BCqbbECvKK8vh9RUBFYB8WsiYX3jO0F/BKtHuvXYnx3yk+nW\n",
       "//wkcL5TTP4NtQzmmrov++tPAe5pNSVZyqaiAno4TN0ZJ7hRjWvi7GpcxeeTbgUft4y9O4GBZF0x\n",
       "Fva0/Q4lT5D9Reg4xEOgHjOasJBHQNmlDZAY2n/wYh1WVJzR8sgT17ffCfq5JjadHR3f7cB3dDU6\n",
       "yEaEQLk5D97iEVAOvAU5rwIbtCPE4tyGibR/4hAoTDeF9IYIgdri2l+LMBxzBrYPfAmPas+/RJzR\n",
       "5qg+E3HgH8FLvUMpBOrnUGgI6I0qfAbXRUCPxVn8E/9Wrf1h1ouhBxbJEThRUZt/D/p7Gj8HPwIK\n",
       "p5+mtqfbXoVhcRb/BNdG9dnrxtC3M3FECBTcAFvKPAIKjKJ5hnz2yuOeglFQRJzFP5HwfC3ROMD4\n",
       "gx71tbQIgYJnj2ys8QgocBZNTFP/FQ53IqtFREGN+eI0/gnei/Jrxh/0yKtfUCAEajQQAZWtglWx\n",
       "anK4k09UYNSPf7KiPoFgu0kMfToQbSGHQGWrzjEpAmoU/lqCbY//3pXCncR5C6g4i3+KdL5RJ1EM\n",
       "PdiBT5blEKi8l6hLEVAfwCKAt1stOdyJb7MeUHHqCouO1nsHYugpnQ7sulIIVHKN/1aAuC0u5e8b\n",
       "vFAbWECIi9C1tg6H+EN9fsBpH99led+/yULUe91b4Oygv+4C+FdEW8+tgqNf8Dv7DnSAPv5XRLNN\n",
       "f6FzGf8rov8DpcUX4DAl9WUAAAAASUVORK5CYII=\n",
       "\" style=\"display:inline;vertical-align:middle;\" /></a></dd>"
      ],
      "text/plain": [
       "<IPython.core.display.HTML object>"
      ]
     },
     "metadata": {},
     "output_type": "display_data"
    },
    {
     "data": {
      "text/html": [
       "<h4>proveit.core_expr_types.conditionals</h4>"
      ],
      "text/plain": [
       "<IPython.core.display.HTML object>"
      ]
     },
     "metadata": {},
     "output_type": "display_data"
    },
    {
     "data": {
      "text/html": [
       "<dt><a class=\"ProveItLink\" href=\"../conditionals/_theory_nbs_/axioms.ipynb#true_condition_reduction\">proveit.core_expr_types.conditionals.true_condition_reduction</a></dt><dd><a class=\"ProveItLink\" href=\"../conditionals/__pv_it/axioms/99547e0677900727aee7970197d1753b64c335eb0/expr.ipynb\"><img src=\"data:image/png;base64,iVBORw0KGgoAAAANSUhEUgAAAKAAAAAVBAMAAAAz5vjYAAAAMFBMVEX///8AAAAAAAAAAAAAAAAA\n",
       "AAAAAAAAAAAAAAAAAAAAAAAAAAAAAAAAAAAAAAAAAAAv3aB7AAAAD3RSTlMAq1RmmUTNIjK7EInv\n",
       "3XZ/CtNrAAAACXBIWXMAAA7EAAAOxAGVKw4bAAAB+0lEQVQ4y2NgwAQFQLw0gIEMwI5VlE8BiFMX\n",
       "oAraEWUB6wMGBgEQQxlZVBuI9ZHMYz/MwMCm8RXI8r0LAhfxmPiYgcEVRKcjiXElAIm9yNZ+YWCw\n",
       "ZZeCcPTwO5FtAUMjyA0TkMRYDNAMZAC6VhDGJmAgswPITAZuBSQxHgZ0A4FAhEgDGU4xMAMdxIYs\n",
       "pEaRgckMDGfv3j2NLOQNM5Bd+vkDELvsIEPjGUGCBhbuqwOSGxkYPBgYZqHZwcDgBsQxBZy/wCKJ\n",
       "OMMQKdpZjzPMB4aeGdBkBnYBZEWXoCmF6zADywWwyERiImWNAYMvkNJhYOBcwI2SaI8CzRMDirB8\n",
       "YODdQLyB/gwMt4FUPwMD0wOUOAEZyNACDASeCQzrA4g38CQDFyjtxwBxgh2QWG23HcnLIDPWP2Cw\n",
       "ZyBgICIMuf4xMH8A0rpAvCkLyL/O8R2qaB40ltcrMIgxFRDrQq5PDIwJ6gwMlkB2DTBOWBw4DkCl\n",
       "NkIN5HzAdIUFLDITjFANXJ+AZuI8Bl0HB0iiY2wABlgAHyyqe6EGcsntKHwBYjeekWo8LweVDYbS\n",
       "vA5oBi583S4HNOgqzMICTitoAcPbgCWnEF0gXoBl4IL+4AXw/E2+geCSBZzOnfU2wwSnA/EbMg2s\n",
       "xCa4EojrFcgzcDrWcAAWCeyOZJnIV8AAAH5VfF0OvkrKAAAAAElFTkSuQmCC\n",
       "\" style=\"display:inline;vertical-align:middle;\" /></a></dd>"
      ],
      "text/plain": [
       "<IPython.core.display.HTML object>"
      ]
     },
     "metadata": {},
     "output_type": "display_data"
    },
    {
     "data": {
      "text/html": [
       "<dt><a class=\"ProveItLink\" href=\"../conditionals/_theory_nbs_/axioms.ipynb#condition_replacement\">proveit.core_expr_types.conditionals.condition_replacement</a></dt><dd><a class=\"ProveItLink\" href=\"../conditionals/__pv_it/axioms/477fa00338386b957e051df9105be19ef197cd130/expr.ipynb\"><img src=\"data:image/png;base64,iVBORw0KGgoAAAANSUhEUgAAASUAAAAyBAMAAADo7dDTAAAAMFBMVEX///8AAAAAAAAAAAAAAAAA\n",
       "AAAAAAAAAAAAAAAAAAAAAAAAAAAAAAAAAAAAAAAAAAAv3aB7AAAAD3RSTlMAq1RmmUTNIjK7EInv\n",
       "3XZ/CtNrAAAACXBIWXMAAA7EAAAOxAGVKw4bAAAFEklEQVRYw7VZb2hbVRQ/Sd7Le3n506hjstnN\n",
       "gh/8oDP55IehTcrw75SGKRNFWJzKdMyRot8MSwXZEJS04gaduEZQsVaWTAXB1rWbYC1FyNQhKIWI\n",
       "Ex2t29o5nRU6z73pS957ue++95rbS3m5ty/vvN8993fOPb8bACEt1C/EzEgJxLUbzMP3M6szo/4k\n",
       "DpKvYhrGnrXMN/CbS0NbxGG60zxMGCHlkwC7i3XHvbz9RJJrKBwXBUmZMo+/NA52pSFQ7aMow88B\n",
       "rOeb+l4UpmiNg0nDpa3PXnseL5E019Ttolh+F3AwEbrVcQSrpH+JayqYFoRpxh2mXpIwwle5puR/\n",
       "xECKLbEw9Z08QLm2L652niKLp/xLxtIVvrGnBNHJGiz3kglPwTDlRjC+widpkQ4dHJEQQ6iiJYkr\n",
       "X+Hl4yQ8XE/xOqYodWd5km+sXBOCqdMCaT1JRr0AP5sxdVA0qaTDLlUVgumUZfzqUbxMg3bF4ify\n",
       "Nu1rB2MBISRXL1v/M4jvXobAJTMmzAI7QJpysKZdFhJ2LTPDuNMWwZe91YRJXQwcSo7nvHp9dXXK\n",
       "JAMTHIMtaZqWQgPkj7T5A3BiY90Zf9ubeweATuGWdjBFBliY3p07tJnEIyanDzsXaDCpG8bOgkq/\n",
       "8YO9uQmAe8jnnnYwldPgkMeb7TD87mQulYFXSPQOtJWeau4xDfqzLswFMW+Gu9rBlGh5et72u73X\n",
       "+l24PYA5LNgWx1MtrynYzvGN047mOpDh387OzrSF6WJLeCs9bTi+A4l0P8DRtjBNiBQbGMbIuD5Q\n",
       "eEWw5GikVywmsgWFSmGD8omdPEeXQh7e3kPFSGjlxtyF+wwPPv7XZzfp/ZtBLCZMwf6ageLyHr3g\n",
       "/xPgGQOmnTnIG3gTqzar1DXABNlus756gPbWARxpYvKjQyUk33uoh1aq2VDW1dp5lp+0fPhkL15G\n",
       "uz8nAUOK5RS9dRrkb5qYChjvZJ+/EaERd0W64Ek9BUzwtlXv8pNwHPJIce1HlezuPjIep+G83L0N\n",
       "mpiIKgtPgjQ9NHSEQC38eq5Rm13sd1vKGuTn+WuDQ2+yMZGI86FNKa2SZYxU9Co9UNXeNmCaoYW1\n",
       "fD2NxAcB7oaRin3OdCE/AQVDgRnvHTpPI5kY+UIEJ0IdRgiTMGAiFXYx56OJzH+YsM3f0GmJjFtM\n",
       "TfkJ6jKaZpaUZX2y5VxoK+IPpeVSlC4KEmbcgOkteILI5teGsD1N2RZuVE3FpFtMTakHsat2Eqax\n",
       "pUdyxUdKo5gHtv6BrxxFv5Zgk5xrYMq/ePwgvlrDmIjhp7IEvupjVmd7wRRENxcHuFu6vO2OT+H1\n",
       "Lnhp83WlHHZiw1/AwQtNPyk9v2xU8PM2gBHC0P9K6n59PtGsE6YW+Ul3NeWMm+2TIHxUq9U7emWr\n",
       "o04fJ2YBPmo5fLLUvtIsbXGO/ES6H5tbx44NcwqWyYOFTaV6x4JJWbA7QwsscU6B2PKTJDVtAzvX\n",
       "TpuN07mcXelYMMELduGlLtpDspGfAPtw+SrMR5ZdnHd515zO8hNgAWM9vnaaEx7i8IktP0FGZZlg\n",
       "xqtPjDbfleHGHUN+goQcnKiprDQu5gwjmubnAob8zCOmVG0HQ36mxFSIvMBjy8/w2FgSpP1Jhvw8\n",
       "s0Znh66k3tqeHfL87RVTSNQBebBie2vea7yIEhyq/aFSwaPS+05YXX/ePuV6k5/iftuw/ga0+rZT\n",
       "oADaLYgEewViEvSb4geU4f8DsSlWhpwxuMIAAAAASUVORK5CYII=\n",
       "\" style=\"display:inline;vertical-align:middle;\" /></a></dd>"
      ],
      "text/plain": [
       "<IPython.core.display.HTML object>"
      ]
     },
     "metadata": {},
     "output_type": "display_data"
    },
    {
     "data": {
      "text/html": [
       "<dt><a class=\"ProveItLink\" href=\"../conditionals/_theory_nbs_/axioms.ipynb#condition__as__condition_eq_true\">proveit.core_expr_types.conditionals.condition__as__condition_eq_true</a></dt><dd><a class=\"ProveItLink\" href=\"../conditionals/__pv_it/axioms/d0dc202382d6630c56a19d0c4385cef00f4bf3ca0/expr.ipynb\"><img src=\"data:image/png;base64,iVBORw0KGgoAAAANSUhEUgAAAQMAAAAyBAMAAACqrqNEAAAAMFBMVEX///8AAAAAAAAAAAAAAAAA\n",
       "AAAAAAAAAAAAAAAAAAAAAAAAAAAAAAAAAAAAAAAAAAAv3aB7AAAAD3RSTlMAq1RmmUTNIjK7EInv\n",
       "3XZ/CtNrAAAACXBIWXMAAA7EAAAOxAGVKw4bAAADz0lEQVRYw72YX0gUQRzHf+ft/dm7vVMxfLDS\n",
       "hSB6qNOnCCnvIooCwwWjp0ArQhCik6KnwDvoMfB8zAjuJSEM7qiooMzEQEIjLSOIju4hyCAw+qdI\n",
       "VDN73Z/d2/mz056Dzs3cju5nf/P7M98FoDc5AbVrN9M8q5qM0xuakwj+txyLXFnDNHzGxN31f0i7\n",
       "ONbsNk7bKwh8MwDeHT8K47sPm0QQgg3MJb5Z43yyYuz5DrDP16KP7yXA1S/C8Iq5IpQnIwCySGNh\n",
       "NJ5C3VMRhJ1Mh9wLFATUNhU+zuKuTQTBG2OtmONCkNZwPyUSvp5VxoLwugWCb/NHfXsuTkNyXt+J\n",
       "YbwP0CMUHCdZrmB22EPo90RcXi/+dcEXelTcn4uLILQznGHEZFsch4EZkBb02WgR4T3+N4FfQpkh\n",
       "k6df32IiaEa2lr5AKGtE0G/u/iaEIC/Qr0+b5pfHAJQUZDQjQg53t4TyArjp/uiverBR3XJRMCK0\n",
       "gUeFbiFXgADdeOEqQhQRGRWa6+IGhBF1z/ngrGCZmKbv0xMLBDlftyTpk6v6D0adzQcbC54d+GkX\n",
       "4TqAHnfbLK8qKQuEQOuDoWU8Ts63JF+06l8nr01qUIieJbsIUwAH8eeAdcDEgJEdywbTwmK+AFEN\n",
       "kjjaUtZpIc+P0LBd0BfQTbxoE4Oqdeaq+voz6R9Jf9YEEZCp3R2oXhFsVFV4hlVS/L5TBRHqkTM+\n",
       "z+XmrK+uVG2vb7/oncgIyAkOA4wRnDUNtW8KyqpD4KsoiOHHH0rP3rMRCCFUJOR0sFzpPQMV58U2\n",
       "2AgElP/q8l7jqfrIhiNAfxfqJrruY3fDoRXl2wiHVA3eCLg9iNLuGz+uSfpJ/FHJHWkJzylVg90R\n",
       "LiFvlGJ+bBAlW3mcW0lwnrhYquZoDrdFawQcCy50J0UL46GC8pR/lZyaxFVNhJgXioUoE5c70WPJ\n",
       "MU861FF6UI0TgUPVEBEyRdWqxEd60xMoIDuXT5crSAcvAlvVRChl6p8pD0TuwBUVLrQ2puNVNuJH\n",
       "IKoaIoKpFuLZsUCpRIf6GQg2VA0RwViIPNjJh7eWXN1lOrhJumPnGvhUjTEMiAjGTXPrQvN1eb5O\n",
       "kf02VQ0R4Rn9EP+VTGBX1ZAQfL+FD9h2VU1ETMpAN8UXmKqGzxdcDEHXp1Ejwo6qISHUM2RtKEZF\n",
       "oKsaa4SMaZOijGMRLSTYqsbQeglPtWj3RY/jqob5oodmJmdUjcx88ejNEi85o2r6mCdkP1myO6Nq\n",
       "XrKXfCLnRydUDccLYPNrcKfbcZ5Fp2pJ4B/kctlEDRHGdWf8C5YHKnNyINgbAAAAAElFTkSuQmCC\n",
       "\" style=\"display:inline;vertical-align:middle;\" /></a></dd>"
      ],
      "text/plain": [
       "<IPython.core.display.HTML object>"
      ]
     },
     "metadata": {},
     "output_type": "display_data"
    },
    {
     "data": {
      "text/html": [
       "<dt><a class=\"ProveItLink\" href=\"../conditionals/_theory_nbs_/axioms.ipynb#conditional_substitution\">proveit.core_expr_types.conditionals.conditional_substitution</a></dt><dd><a class=\"ProveItLink\" href=\"../conditionals/__pv_it/axioms/63e5e0c1276cb1bb5fa7a2b0d0bc38d036151d290/expr.ipynb\"><img src=\"data:image/png;base64,iVBORw0KGgoAAAANSUhEUgAAATsAAAAyBAMAAADRimGIAAAAMFBMVEX///8AAAAAAAAAAAAAAAAA\n",
       "AAAAAAAAAAAAAAAAAAAAAAAAAAAAAAAAAAAAAAAAAAAv3aB7AAAAD3RSTlMAq1RmmUTNIjK7EInv\n",
       "3XZ/CtNrAAAACXBIWXMAAA7EAAAOxAGVKw4bAAAFsklEQVRYw72Zb0wbZRjAn7bXu+tdKSWYGREZ\n",
       "xkT94KQxcVGiUOKfaZzS6LJE/QBOzRzZYsnMvkhGmyxbTGYKQT8wo54fXJzMwYRo4v4Am4oLm6Jz\n",
       "MWESSzKjhslYJzLRMN/3vWvvT+/eK/ieb8i171vuuV+ff+/7PAVgPkIpFlIOKODNqDRP30+sSIo4\n",
       "6Q2db8A0jbxoUUPg59LkrPEGb615Wmek64gBbMqo6nz1scMxmhw56gWdMGaeHzNOWuIQmGgnwPJL\n",
       "AKuoks56gVeWpeBJyPaqUqQt6BKO0yTd4UVw3AcUPOyaKhI/gd/P0STxcQ/wxkvDa8bZR75KkxRc\n",
       "YE8XWbTDaz++k/jl1qhYPYqtK/yF59w8VdZzHrieNd4exnoYg3eJI/FRzfe4HJnS9VPH3vkyli1D\n",
       "OIkuB2PwuLqh5PHKiJL7R6iy+rPM8aotdKtwkmsGOG/GKydgjTH67jjBHG/UMt+1D11OgTRv0R5+\n",
       "svQlXVaAeWyIV6wr3QhjCQJzZjyUUp4EbowuTLrCPHCLvjCKXCkHvtbbTHhiLrAndjS5TFP898PU\n",
       "iA0evANr4iTdhbrwHx4Xd8LhKlVHfzpKexuAfJlbWOGFu+zw3pvZU4MjGiW9D6ovk3gUbzhyDkTy\n",
       "H987ShsGeAi/bmaF1x8Hl11DH2/CLy7SGhOQxuHfxSztZUvH6/a3ukvjUWqWa1nh1RVJuuj4v83X\n",
       "Uu62CKDUyDMLjcaiJ3Y6fvXXT7hJK0eBcWZqapwZ3qWiXCE0rdw05cjpHgHYxwxvmOkuHkbO2Q6C\n",
       "46mes131W1QUMfgTUzy89YUUuVDqiVu0Bx6/QBBC2vrM7DrDXXcbRexGBtCzyWq2pzOU5P1ZQ2Tc\n",
       "qJ5TN2sVjYa3MQkdusakqLVufNZDPGht0Be+KpSYj+p4fqRjjqRGPz4Bcaa6OoxilVdKM+5yK3Jy\n",
       "rvm4DV36Gj7Fxl2aRvIFXAI06nidiEA7clyPb0IKHJzJazMzW2XIm8O0Xd5akTckSggN6EDGkn4Q\n",
       "8VkjMhlBfuTDq0d1PFyOyiNyLxpbEekOgI+SmSSH5z3wu3IB/AXnu5RyOZwfOFM4RPO3q4dAYehI\n",
       "pQMediMfEsnFRWznUCyA0MID+TokVCi+eM3hhhLwNMCDsDcvogfWQrDLOS1b97cXVO/+A+B+QT2y\n",
       "fJJSFWKT9/JfO5yIRIkjcegljDyMKFPDw+VCRrNa+2dwM8AXMK17axOIBby6hBteTn2PFFmhvtuP\n",
       "b/7cflPLt2v6k6F6dEc5hJEbheJBpSym470Bz8BZIMbtRTe8BtIC9HyoGXcOThiMm4m54AX1QvM6\n",
       "9WWbc8QXDhjhZOYppQ/KlHuhDyWV+l+fBx2vY/uh3dpjB9XQGBPn67U7JwNdEMkWmcMJT56w4HGk\n",
       "FB9OUQ8YwQfuHIS9teITWXSFV2oqFENaFpqmqwQ1beOnh5Kw4a6ZvJp2zZKVfCpodcHja6bxM3eM\n",
       "Qvo0sW4ncYzmRAk7eG3hukHKGneNYPxQvoWDJgNFnUw9SVsO89wUGdFCRd7fJi1oHQDV95rJQ1+2\n",
       "TUhmkweVwrXzJsWIJ1w29irXWcXoC4FFSmvtpJpcvtYKOBXvJ/wg6R/bO06Z60r9yp8DIx5sMypf\n",
       "tvY79Q/FnDMdqciRBv824RGwgG3JKCy59RLtly14Umm1H6nIz0MwZ8KbwpeDrf9PGQ7rKb7XTdIe\n",
       "t2jCWw3BWlhv63o+9k2MlgQ9cq/ifpARL1N7z3bZvl1Qzr4FVBan41WiJI9HL/nD2/xYVq5QbAvy\n",
       "RvYNNFrokop8iCgvfboq/U0NWU2/dSwBKbuC/Fv27UcYd9lz7TofiYid73nRvKVZxBEveqv9sgd4\n",
       "/IDjR04VOXfNtgXeoniAJzo37ZwqcvFH2w++Ay/Gb85JflkVuTc/Wll/8lvx2AjejE1snKTNIzw2\n",
       "PzfvJ4HxL0EKbSFnHLA6AAAAAElFTkSuQmCC\n",
       "\" style=\"display:inline;vertical-align:middle;\" /></a></dd>"
      ],
      "text/plain": [
       "<IPython.core.display.HTML object>"
      ]
     },
     "metadata": {},
     "output_type": "display_data"
    },
    {
     "data": {
      "text/html": [
       "<dt><a class=\"ProveItLink\" href=\"../conditionals/_theory_nbs_/axioms.ipynb#true_case_reduction\">proveit.core_expr_types.conditionals.true_case_reduction</a></dt><dd><a class=\"ProveItLink\" href=\"../conditionals/__pv_it/axioms/9151abb9e4e0cba92a2ae162c7e73f15a663ee9e0/expr.ipynb\"><img src=\"data:image/png;base64,iVBORw0KGgoAAAANSUhEUgAAAe4AAAD7CAMAAACbpYf4AAAAVFBMVEX///8AAAAAAAAAAAAAAAAA\n",
       "AAAAAAAAAAAAAAAAAAAAAAAAAAAAAAAAAAAAAAAAAAAAAAAAAAAAAAAAAAAAAAAAAAAAAAAAAAAA\n",
       "AAAAAAAAAAAAAACwjqETAAAAG3RSTlMAq1RmmUTNIjK7EInv3XYgpUAwucNsr99chXwZ27ZgAAAA\n",
       "CXBIWXMAAA7EAAAOxAGVKw4bAAAM3klEQVR42u2d7aKjKBKGVVAQkJ6e6e3ZXu7/Plc0JqKYKFEk\n",
       "5q0f6T4cD6KP9QFSqSyDvC2i+NpL56aT/NIXWZXjn4ip0xoea8SkpempHIFbklbKK9OmzsNMw59t\n",
       "oo+5T3I6IouE5IfgZlc3YIUaK4/erttMkd5IFNw4vEuy0xCVryMC3CGe2rmXpTFiaw+lod3tbzKW\n",
       "O39c6J3GWPooAHeI5JXrFWXAE9N3NHMCu+HO8hq4d7rA8k3lviOhx+FmpgDuXaJyR7lzU2Up4s7q\n",
       "Brj3iNPc4KoxdFHBcqmZjx+rVGvGea7U1JzviJsbDdw7KLerNcYsESpVeyNqv6mv8qN9d3tqBdy7\n",
       "K80i7j5+p93DIcjE4tcRcBcz7w3c2/3tRF2NWZgq0+7eNjZs51o38XFns6gCuDfPoKZrKou4Vd0d\n",
       "3jv64gzcueHA/Z6QqYVcwi06Iz/c4FNwl9MVAeDeHP9MQ69l3EW/IlOws3BnRgH3m7Z8OptdNOa1\n",
       "tpRpRr3aXT8+j8NdT6w5cG+25XItbpFryVmu+Rx3N+MW7afJ73hpY0Wp7p+d3h7ryWiBe3P0U67F\n",
       "7Wptc86ksQLud0TNbljKuLPJej5wv+u6s3///e/LP2OyMlKfMN7KlMAdLsV8J8M67T5JqLvkB9xb\n",
       "b5/8KNyTTXTAvdU4Fh+Fm7szb+DeGqnxj8It3L2nwP1WpJs87nZ0HLhDhXk2ahvzJ+ERN473Ae6N\n",
       "gXmTfZZ2V05oDtybRHv2pb2H+6i0gkFyZyoB3JtEehIIgnAfn1ZwnznmwB2uK/k+uI9PK7g/oBVw\n",
       "h0rt2XUaZsyPTysYcDfAHR740F0j80P3md+iDQXc4dMauWuodjxu4kwdgXuTqG24z00rAO73cesN\n",
       "uM9OK+hXCoD7DdxkPe5RWoGQMncj8Bq40xezBfcorYAO3KPjLoH7HdzFetyjtAL7wZyXFbFwc+el\n",
       "zhG4f/z146q4//n196zt92/ut+WjtAIizsL949ev0U8//4J2H6TdblpBlslTjPnx2g3cN6LjtIKM\n",
       "u199FSetALjj4XbSClg9ph0rrQC44+F21lVaFWdn3BbgPgE3qznnVAD3FXC/fkWiDvqCSuBO05if\n",
       "JsAN3MAN3MAN3MAN3K78NH9fF/d/giLz8+Sng/t/0G5oN3ADN3ADN3ADN3AD94Vx/wFuaDdwAzdw\n",
       "AzdwAzdwA3eKuLFmvkLEG+WotsHAmnkK2t1QGHMYc+AGbuAGbuAGbuAGbuDeEfdSwi9wQ7uB+ztx\n",
       "x1pmAe40tBvLLDDmwA3cieMWRFwVN/3NPLhT3rwkfv8e/cQItBvaDdzADdzADdyYdwM35t3XxY20\n",
       "Amg3cAM3cAM3cAM3cAN3kriRVpCQIK0A2g3cwA3cwA3cu+M+tIQ3cCeCO04Jb+BOBHecEt7AvTPu\n",
       "4LSCKCW8gTst331wTWfgBm7g3h/3YvHu26/jlPAG7ji4nxXv7iVKCW/gjoJ7VLx7Sepr4EZaQeYU\n",
       "7z4VN9IKomj3qHj3xbUbuCfFuynhWueZJjUH7ovivhfvFqS0ftzG4ToH7msa80fxbia0zSAwrWZT\n",
       "x5VHKeEN3HEi81HxblujmysbuY3+OlIJb+DeHferzUuqZa5bJWYmi/6tPcAdZ5llNPsxNw0ndUaB\n",
       "++q4S2uWK2aXVbUA7qvjPlWAG7iBG7hD5evSClLGjbQCaDdwAzdwAzdwT0T4HoGUcT8WZwuyJ+69\n",
       "+00Td3s/t6+Milo1hwxw1vEcN72/g6/Ynrj37jdN3MQEGcjqqOXUScdz3HxQQ1bvasz37jdN3LkJ\n",
       "enV1mAeYdOzx3dWtQRa74t673yRxt647JKGvNAetnk879uAmN9e60/f43XHv3G+SuGWYcsvmoBFO\n",
       "O/ZF5v37dCX3jsz37TdF3MyoIDWtcq3zI4zetGMfbtrFlrXYG/e+/SaIWzQqKAoVpnV04q0Ja7/z\n",
       "5Sb5Ysc+3CwfPlYLa6hsnRZR+RPcAf2GPF5VfRJu0QQ+ykXHQOndBzjr2LvMYkct14UcXOd13R5a\n",
       "5Jls/4rOr3eUVrCh3zckj+YtJmkFxARuRqJdOGP2H/esY29agd38uC6gopQPSyfabsWRz4z5hn7f\n",
       "EcVP0u42UAtbQOqyS8oDJmOzjv2LqFVGegPg2wPft3XTd32/vIIXJdMvcD/6zYQkWs6clb/V6+4W\n",
       "j+SmHfD9mqQmcxvpbfTFtS+Om4VqNIx31w19azLm992zjv24ZdFPkn174Ic2ZtfoHl6Ct8a8KF/g\n",
       "Hvpt3RzzLKb7W720l4/Ujcj0sJbUlP0eX/eZ9zX6dOPVcfOJWBM07bZOQKgDlpZnHftxs1vI5dsD\n",
       "P7QJ51tiCntIt5/2Ge6h39YJ3PZaZ2wU3txby0LT8rkTyZZQ1O2gyM1l0HY8grsnGRpfn+P2x1tw\n",
       "l0YFUMnbIdfbl1FflziYdbzwRiwfLtO3B962lbaNVHUnRY9bSJ9ndpRw6FeVN3vBi+Zx/nurstfy\n",
       "1D+X05wbx3XT/HHY9CRD46pzbF1myVSIORe5pCG6/bLEwazjVy9AfXvguxtK25+5dLTbKswL3Pfn\n",
       "0ia3E2FP/SDxaGXZczP6OJLQghBaFvI+OnsJ6obhfuox7lvjq3MMx7W9k0KuxU1N0ouGL3BP9sAL\n",
       "ObQ13AJ+2EjSqYJP4bwuVlnXW5IH7q7nUWtmZ3d9q+/jfmRhn8VWD4v7r9r+SH37f2U7kQ/cbuOL\n",
       "c9yO687QrMVdGiM+F/dkDzy3atO1aUk6x3tTKt70bzXX4i4pKfoubiT6nh+t/QSva+WKuR/Oke0I\n",
       "RKtQtLgfTrUe/s8oIXpkQtzGF+cYjmsdEKvW4uZh70gSwT1fp5nOh6zvLtctoi44IOHpWbbRte98\n",
       "87ZW76xmNxmZ/qrwnGTcuPYcjZ1wlmIdbnGpzUulCDgDe7oqp/oXok7PlTGmWTqf0ybsHLG0DodN\n",
       "fjX6//0k48a157BnKCRZqd3X2qtGsp1xv+iZbBsDeXUYef8c34Q7QJBWkJAgreAt3NBu4AZu4AZu\n",
       "4J5FiLoE7svjjlOpALgPwb29jlicSgXAnYoxj1KpALjT8t0Hf3U9cAM3cB+IW2pN5vtjIlUqAO64\n",
       "uJndEUR9u+CjVCoA7ri4u23Ado+/IJP35/V1cH9ZtYLlOmL3DcBc6+Yk3KhWEE271WibdnNZ7Qbu\n",
       "m2IZDdxfpN23X5TA/RW4+5i82yE9wx2jUgFwx43MpbxtgZ3gjlSpALgPwb3iFUnRnDRi4I6n3cD9\n",
       "lbiZrIzUwP012n2aADdwAzdwh8rXpRX8SXjESCuAdgM3cAM3cAP3rriRVvANuJFW8MG4kVYA7X4u\n",
       "SCv4Qt+NfebADdyfixtpBV+EG2kFX4V7SCsQUuZuBI60gk+QwLQC66JpcwpupBVE0+57WoFdSmFO\n",
       "IQtsPL4c7kdagTV3wH117R6lFUzruQH39XCP0goy3rihGtIKrheZP9IKnGIZSCv4aNyvX5GwNjZn\n",
       "p9wV4I6n3XfaNeecCuD+DtzKWMmA+ztwnyjADdzADdyhgrSChARpBdBu4AZu4AZu4AZu4Abu78H9\n",
       "B7ih3cAN3MAN3MAN3MAN3Cnixpp5QoI1c2g3cMfGLUwF3F+k3Q0Fbhhz4AZu4AZu4D4F93LCL3BD\n",
       "u4EbuIEb827gxrwbuGHMT8V9YWHc9wik/Iok4/zwB+rC2l1Cu2HMgRu4U8GdAXegKA/atHGXwJ0C\n",
       "7ljzbuB+Qxov7qDIPNK8G7jfkMroDzPmhVHAHSq1kR+Gm5gGuEMlN/TDcGsnRgDuTUJN/mG4pamB\n",
       "e5+b9wm4qWOPgHujJ6z2isyjRRsauMOnNerDtLty1gGBe5Mwz1ddpo1bOd+aD9zbxMyvLW3czhsS\n",
       "4N4ozfwNaNK4met9gHvrxJvsi/vgis6lG1sC99ZVC7oL7lgVnbW7DAjcb2mLlaC0glgVnXP3BT1w\n",
       "bxMxD80DX4D2NI4uNdQ4kRpwb79/bEfffXSJXzFZJwDujSJncFPGXUzW+IF7s9PNN+D213OOV9F5\n",
       "4rqBe7Mosxr3cj3nWBWdp4MF7q1CDV+Le6jn7JMoVSH51BQB93ZrLlfipuZJ5bAouPV0nzRwbzeQ\n",
       "aiVuVWcn466m7++AO0BlylW4R/WcKeFa0+i4+WxnHXBvl4lDNGaB0FDPWZDSLpkqFht3PvMmwB0y\n",
       "9RbuwsvCjvGhnjMT2q68mtgVncV8Yx1wh9xG6erQUj7IvZ6zLdtcjv1olIrOes4BuIPuo3BCdfOq\n",
       "dq9q526UZpG/oUnNrQ5wh0gjXWv+wgAze5MbXvATH0rgDpfCucLSqOfqXVrTrGXcTS/CN2EA7iBx\n",
       "V0alydMbYu6b9QN3oDknbrRGUxtg6bU4x+DuJL8ybu7eTZ3c1TbTLXBNT+UAr0E6KS+t3qVrwViR\n",
       "2GRxdvd7KCT7PyYIOOI8QI8UAAAAAElFTkSuQmCC\n",
       "\" style=\"display:inline;vertical-align:middle;\" /></a></dd>"
      ],
      "text/plain": [
       "<IPython.core.display.HTML object>"
      ]
     },
     "metadata": {},
     "output_type": "display_data"
    },
    {
     "data": {
      "text/html": [
       "<h4>proveit.core_expr_types.lambda_maps</h4>"
      ],
      "text/plain": [
       "<IPython.core.display.HTML object>"
      ]
     },
     "metadata": {},
     "output_type": "display_data"
    },
    {
     "data": {
      "text/html": [
       "<dt><a class=\"ProveItLink\" href=\"../lambda_maps/_theory_nbs_/axioms.ipynb#lambda_substitution\">proveit.core_expr_types.lambda_maps.lambda_substitution</a></dt><dd><a class=\"ProveItLink\" href=\"../lambda_maps/__pv_it/axioms/bff143def57912affde18c7a27272cb1e41a7d8d0/expr.ipynb\"><img src=\"data:image/png;base64,iVBORw0KGgoAAAANSUhEUgAAAqkAAABMCAMAAAB57t7tAAAANlBMVEX///8AAAAAAAAAAAAAAAAA\n",
       "AAAAAAAAAAAAAAAAAAAAAAAAAAAAAAAAAAAAAAAAAAAAAAAAAABHL6OuAAAAEXRSTlMAq1RmmUTN\n",
       "IjK7EInv3Xbz6T5NtFUAAAAJcEhZcwAADsQAAA7EAZUrDhsAAA4JSURBVHja7V0L160aGy2XEvJ9\n",
       "/v+fPasLkWtayXvOMsbevYOyJmY8eMy67guByDX093IZcPcL//UwzvQUM2/k+k72RDL4CfeYhvpf\n",
       "O/1Cx840WJgF+68xdbydB+A0kCLmmdR9ry9Fv4Lloce+g3W81W4ceiJhO0ylXoDbW1bZKhDgSvTD\n",
       "AYsvFqESVo25qOWwj0wNMbUfuhhTjyEBwIfrGzDDImGMeqKrvjfwXhHewKquZX1MP7XMVCJxlKlI\n",
       "Jw8PD2x0MG0mwoEbXTcM9E4R3sG6X8uYOkrQMFOHSOUu5SWqUx2nhysbGX0YB3iibnTdANGdIryD\n",
       "db8W2m3T3C5TQaRL3cqr3lb2tAXGTYuJ+qJrB07Li/AW1u3qZ+pEk3QSzTJ1mLsEU+HeTzw9sAFz\n",
       "8J+90dWHVFhehLewblc/U0lyWJx4q0z1vETO3J/PS+BPzxWQ/gHY87lHTvTYMzGG4EYT84w0NweW\n",
       "sdAMmBAjPGGNo3kU63YNjP4w1YjAsVRbYWovaZKpiGSNHN/swIz3R0dj/inqFMAbTcxbojFyoHul\n",
       "wqOPRLMRDAKzzy0jn2yscTTPYt2uBlMt5DJlesuhTaZSGR0PtvKOvfrv0TADYw5KnOht2RetZgGF\n",
       "p/o0EiljfX+dBWb2HdtfFJC0O8FKF/Vi7VijUJ/Gul2DMyowgETXRZpkKpQgzdS1O31+E4Bjo/3d\n",
       "aLTGzcvwRYQ4WddGIjoa8ZLtceRg1m4SdG82wo41CvVprNs13Fx04LGmxJI1ydTEGLSXF4jn51MW\n",
       "U40JlY5eR1i6r1SAU/Maict/o7y8mWhlf4yyyepf3nTBbaxRqE9jxfE+dRxYnDGSt8hUKuMvtCrv\n",
       "0MF9jKEMCreo/ljvL4bvNEb/qXei6TrCqmo7Nb+ZCGlJ65s5YKF+3vgZv50K1+rXcDesUaiPY92u\n",
       "ITt1Tm7fTCc8bTAVSpbFVAb2RVU6j56f9Md6Kzly53TMorhwounae/VDB0ajWWjnSVR9cpYB6OZA\n",
       "RadGGjglK3B9FlpY/VBrYd2ugT4Vp3dvxIkTbTC1lziLqSPf31z0sazIOjyMxlqAjsVAoGiOx/Od\n",
       "U2fHktBowlLRCwvAjFbbTjU/VTNVK7Ejq6elTjz+ivxx5DBSTS7Ekt3baK6f7Fh9UDOxun9cxbpd\n",
       "/UwdhxxGDQ0ylSdQ6PL25DDE1vGGAMPvVsfypTpTtqgIrCKQ2Teh0tG0F4yMvSBm8887CitRvUSz\n",
       "hjij8B+eHHTvPienkfjz2DEn2rF6oWZidRFexLpdA3tUOYaGtOcuTTA1ZaY65V27kAnSpSgHU4/Y\n",
       "UfeYkS5ovRMwd+Vb+1Tant0+V0vd/MAdNsdPw45jINGTFXVR0u0nx7xp+YBiWA87tQrW/RroU7OK\n",
       "Yw+0TTAVyOkaUzu+mJkYHkylzI7tJqxiff/pOwFwl6A35wrQd/aSn89PRDe/OzyPEyEEUX+ir4ye\n",
       "Jcd9ZE76m5BlMZQYUxAP1oOpVbDu1xuLisjetmyCqSgxoXLLixEEgq2VsTF19c0zYrf9rDWW8NH+\n",
       "z7rTNxBNS1nm6ew6N52LOLJBbn0yFR6LRp39oTkblp6bPoPruPEoaedz2tFBRLAeUOtgVdcbTIV2\n",
       "/9UEUwcJLjLVHJT3kcjKgtFOuLGdeyedPbfQpYqgQKMnOjBRjc5ic+ogctOUrNrVSsUtYVXXG0wl\n",
       "9opqE0zlqaU8FjyPQwTfvAAxtagvN9MXe6wuO24SnlsCbhv3vDlKgyiq2Xex7lcx83KmUvs0ahNM\n",
       "lfK+1wnMjn3NyfgXrtKCNMbU8VtHuX/hXxVmyyhsgalAXnCOmMivCasH+rirpX/6IhpjqpD5bif9\n",
       "b+x+I5D5Bar21pJQC0xlMvsMXx9ezjpUECprMoyvPVz8c9cVI8Bcn6nIEo9qgal9tpwVTJxf3Zqh\n",
       "siYDvjHLfg3r5dUjVl+JiVlj7cLUb2g+KKaW5DXJzFPCIx/TTF01GejE57DRxW91EM7z15QjDKmL\n",
       "F7FeX+ecYX2mziemfkPzQTG1JK8hl6lz+lSg1mQYInkO6F4Vnp+/ohxhSF28ifU6UwGvbaoKa+l/\n",
       "Yeo3NB8UU0vymmXecVMY9Xzf617tO8e2veTNMff8/BXlCEPq4k2sBXtHd9+ZywFaq5ernfoFzQdt\n",
       "pxbkxTOZGj8/vde9OhsR2UzANzca3OdD3Y27vWQ9+yLWAqZiOb7O1C9oPmimFuTFZd5uc85ZK6XJ\n",
       "wCLmHbs5j3WfNw5eWxhdRy3z2TexluzHD5UnVcBl6hc0H465//W8uMwy1ud4Re2aAEzVqhA9CNV4\n",
       "OC2vxc7PGxNjmxknnlhSF69iLWEqkPR1pt7XfDiYej0vmcVUknBj2ep+792o/Fgh1D9cxdKy5tPH\n",
       "8x7lCJub4Gytm8PHm1gPpoakLnyZ1fV6wR6mWpoPNFYvLMnUk34ERUk/YJk1a+gTJ4m3ut9PkG6v\n",
       "/3Jgz1Vk0GmFegxH3j7liFMvKuxX1joA+ibWIm+8qe7yP7E8l/aVf1PzwT6vMc5oSYD7WbvQ/I9C\n",
       "namtHzFBnNoOgTCnCXifw1SlybA2+Wem5lNkUGmlegzqebNO9Z//+791WHiW1hkL62TWm1iLmArr\n",
       "zqkoNPu4XXPLo/lARD8tRzxAv/gld9vZhSBTjT0qO68M20ZKnPOCwQtMXXU98NpXO/uAOq1Qj8HI\n",
       "W49TwT4V25+DsSY4b2ItYiqV8PU+1dB8UG8j2qsFfBKQHvYzmGrmBXpuLFdBIaAoHP1F6n22Rv81\n",
       "R7QW1Gl9nVamx3A871WOsH+NnDYFTKmLV7GW2Knpca0GU7Xmw16kY4cQEIBHsTCVIYTmzz+cYKrO\n",
       "q7M1FQQ6NdUVpk4pwZut7vfDvEub7l+4OCsymGklegz6eb9yhM2180Ydt846BbFqPI9hLTs1UtdQ\n",
       "JZ4Z1aH5sBfJOIYDyGf0B/hCnzoarx5CxmyC+jVrs1ap+JTF1H29aHEOnJDV32k9BSOtSI9BPe9X\n",
       "jsCx9VRL6iKM9fj1x7CWMZVVdXnHXqYqzYe9SBiaTP3wU0z5TNX6EeuE6vippfZ8Y3gOU2nSN2Cr\n",
       "e63JwNSSg0eRQacV6jGo55PKEYycp+JWnQWxajyPYS1jKpT4fabaYxIcpjWAjamUqTlSFlNNFh5t\n",
       "xVBAL2LOYCpJruXtde84XkYUGW7qMVxVjnA+YhjG6uL5MtYyppKqK6oJpm5FIszqUxehp9z11HNu\n",
       "64Wts6tPb+szyYeM8oOkLbvXveMtElZkuKvHkK8csc8uT1IXEawOnm9jLWMqlTW9VIDjS+Ur0rFg\n",
       "vX0LVfSpt83L1L0P3RzdkBCDj5NThocKTM57Vd3bp+Njigx39RjylSO2HtSRughidfF8G2vhOXxZ\n",
       "c/IPHf9UX5FGdbKO7EqXZUzVvQZwjAHDrM14U5OLVLrug5oMkRa+p8cw5a2Hu1IXQayiexprKVOn\n",
       "ikwVjs+//61ki52aXR4vUyeg5laYrvMH4fWwQhlvKkvuIGj1itqaDOLGxs1LWIsVI3jNzwfZ5+se\n",
       "PUfFhGoIuPTSkCGaRhSYi8g3zvH+wtmCqbmgiqyxtoUTfzDjFHX/E69ogqk1Px44NXfeH0v+Y+qP\n",
       "qZ41odY0VHLUfn6j/39v9OfN6VJ1Mv0wS97yJ5Up/oowxSszKltYrwmmzulNOpG9nvqXlCn+jjCF\n",
       "YmrF9dSxQf3UPr2dmr/yD1hXOYhSr833oJYyteYeFbYn2k0wVaQrACS73ZMyRc0wlNnQL0ItZCqV\n",
       "Fd+t0wepmmAqTi9TJV3+z8oUNQMs62lehFrI1KoeKr3t6tHIV37SKDK9/jrevRDylSmsp96DWshU\n",
       "ICsa1nOD36P6gEo+PQ9ZTAXDG82fr0xhJr4ItZCpouKRP3paZW+DqSw9perzTqcc3vdMCBiahcXS\n",
       "svCens9Vplg+1CZG9cWmHKh3kQagFjK15v4LOHmDtMFUnPZRgamlf0uZohuX43TI708QS8taPtHP\n",
       "X1WmYMNydmeyO+IInLtIg1ALmcorulKdzNRGmJr8cKr6gn2SqeqT5+vxYb/ag04rVHs48r6qTLHp\n",
       "RKhZSQbUu0iDUMuYOtacUJ0p0QhTUfqA8DVlCtUD+9QeVFqp2oPbu2cqU6xF0DWVhnoXaRhq6TGq\n",
       "emYqOQ+zjTAVpxfqEL/AVGOYcs7Q67RCtQfPEJinTLENC0Ldm4Z6F2kYahlT+4q7/sIRfm2DqR3n\n",
       "aTLj7NHf1Po6N/+RVqb2cDx/VZli65K04kES6l2kEahlTK05+A+8a5OpIr31P6MMpiq1h222gjuf\n",
       "MsWRVqb2sD9/WZliretDMScMNYI0C+ohbBGCWihLVc+fjTiDbCtM7W7P/i1lim2+vB63d5QpjLSg\n",
       "2kNMAEI9f1mZYlWH7HUpglAjSGO4PKUIQi1i6lzRPaV3GrsZpqYPSmWpp+9qDx1jEG7f7nWUKYy0\n",
       "sNqDR/fBff6qMsX6yWjd6YahRpDGhClcpEGoJUzFVZf9+65VpmY4P8Q71b+gTNFZ33W4IExxIM2C\n",
       "6tzzDWGKqWKX6tkMa4apKRn/tZVZmqntKlOQZUXUVNbOF6YwkGZBde75gjAFrnnqgqOuXaZuq9Tx\n",
       "H8n5clqzyhQ9px21pDmyhSkOpFlQ3Xu+IEwxV3RO8fVaDTEVpLMQU5qpzSpTrFaqxZCnhCnC95QL\n",
       "U9T8GqVXUbghpuZscEe+8PsXlSn+jjAFrun41U9d20zN+TTnUPnk0S9szTtUNFKx1933e0xdw70h\n",
       "gmR8mnMiP95UD7QmUd01v1kedvr9ssA13BSCxeOPFb/XwiHRxi3Y/QPyhqzIMKLsYwAAAABJRU5E\n",
       "rkJggg==\n",
       "\" style=\"display:inline;vertical-align:middle;\" /></a></dd>"
      ],
      "text/plain": [
       "<IPython.core.display.HTML object>"
      ]
     },
     "metadata": {},
     "output_type": "display_data"
    },
    {
     "data": {
      "text/html": [
       "<dt><a class=\"ProveItLink\" href=\"../lambda_maps/_theory_nbs_/axioms.ipynb#unary_composition\">proveit.core_expr_types.lambda_maps.unary_composition</a></dt><dd><a class=\"ProveItLink\" href=\"../lambda_maps/__pv_it/axioms/fc5ad42732757eaff21c92028e4df6e1e6bc96200/expr.ipynb\"><img src=\"data:image/png;base64,iVBORw0KGgoAAAANSUhEUgAAAToAAAAWCAMAAABnhaCXAAAANlBMVEX///8AAAAAAAAAAAAAAAAA\n",
       "AAAAAAAAAAAAAAAAAAAAAAAAAAAAAAAAAAAAAAAAAAAAAAAAAABHL6OuAAAAEXRSTlMAq1RmmUTN\n",
       "IjK7EInv3Xbz6T5NtFUAAAAJcEhZcwAADsQAAA7EAZUrDhsAAAPrSURBVFjD7VnZkuQoDDSXuZn1\n",
       "///sYi4jwJhy1bwNEd0EVXRmSggh6G37vHH/46wV1ydwFCZ82/h4uATdyPmFAA6Q3xrosP+lGfyw\n",
       "HocJX7YWgznYT1sr7gcCCm/AjiNUvsVkCRPrbe66OOFFo1qrWwxHYP8XXFfx9wIyb8QOI1po9qUw\n",
       "VPs2d12a8HnTSBh8j7Er2P/cdRX/SEDiTdjnSOSw43JtaciD6yh56TqDmVT3GITC/ueuq/hHAhJv\n",
       "wg6jvIp6LUOZ7cF1ZimT9BHODrVNMYyC/Veu6wXU/EMBkTdjnyOSHLy2z/D+4Dp8hwMMxn3oaNuR\n",
       "NDuGwP5T1z0IqPjHAiJvxg4jY89m1pI71UAdtVYKoDZPUM4hJfQVyxbg2HY7IGMRnWJotIH+wXXK\n",
       "hV2n0JIAwJ8FQIjImw0NIxpsl2rJdTs4aHZvlNhZ7bo8wctwyHnfjrXiLrMeriOBGCSFArlCgtqq\n",
       "Ieg6veFz25FjUUDFnwVAiMibDQ0jjvKv6Go6S/QW1+pIOY2K69IEwk9KtSFys8yuWSt+iJakwcAp\n",
       "AWGzEnUCR5cjuSag5k8CGojImw2NoxPjSg+SsEkpbljlurT84O/ThBOCgozx5z8L2nGAjISPjqTB\n",
       "EAfs567zmswZR8atCaj5k4AGIvJmQ+MIu/qQOKY7F7pOlRqndd0GVA8Wne3sNkuPMZiB/dMxEY5M\n",
       "cQXTXEDNXwQACAaiLqnYN5IVYmSuzE6cI26yYV34ko82bOD1G06psXLRVrYS9SQQAycEbJdyXQxY\n",
       "Z7Y1ATV/EQAgIm/ZsDaVdBcOudKnow3iyeBqdVJzhS2vXRcnKMk2ZEKmHSvvri51iI4xsjIi16Iu\n",
       "SK/0zwWALZKtBBCRtxwTUQU3FwGlV+JUfRFVKoRUVMtdg0oxTcCHUNSbza46m03LKl4nnjFGLlmo\n",
       "XnMdRWfUkjUBgL9YCSAouLxnFeg6GGThCsfv0SyOsA8lcZygqN/MmJK7G4puTyKQpccYlsH+yXUK\n",
       "aUcPviYA8BcrAUTk1fcqTMHUfmFEl5LTS9j9RezdUxlFAxIYFxb2S7cJvb/irwVkiMSbsAcqVDhg\n",
       "lQ4nhg9HNL8FD9QuXM+72x0KxXV/1R+8O6w8L8Si05usDH7FnwQACPjuMVARwyy+vvgNs/cvi5I/\n",
       "vNfJj99QrWwfeXqM/LCz8sATxFgvHemX/FFADZF5o6EjFXm9cbt9r7iUD65T8lPXEUf5iGTkzJWF\n",
       "CWKwR2Vv+aOAGiLzptO7UyFxOjCYCqnSjVIFd6GChP+bqKrYOOHL1mLkRyK3EtL6B/+baAQk3mTo\n",
       "QIV26Q/IGZNEU7X9a3ftf6i2JZi+RUhJAAAAAElFTkSuQmCC\n",
       "\" style=\"display:inline;vertical-align:middle;\" /></a></dd>"
      ],
      "text/plain": [
       "<IPython.core.display.HTML object>"
      ]
     },
     "metadata": {},
     "output_type": "display_data"
    },
    {
     "data": {
      "text/html": [
       "<dt><a class=\"ProveItLink\" href=\"../lambda_maps/_theory_nbs_/axioms.ipynb#binary_composition\">proveit.core_expr_types.lambda_maps.binary_composition</a></dt><dd><a class=\"ProveItLink\" href=\"../lambda_maps/__pv_it/axioms/2af0f0b4298cae1127661da204438790d82f59d50/expr.ipynb\"><img src=\"data:image/png;base64,iVBORw0KGgoAAAANSUhEUgAAAb0AAAAWCAMAAABjXLLvAAAANlBMVEX///8AAAAAAAAAAAAAAAAA\n",
       "AAAAAAAAAAAAAAAAAAAAAAAAAAAAAAAAAAAAAAAAAAAAAAAAAABHL6OuAAAAEXRSTlMAq1RmmUTN\n",
       "IjK7EInv3Xbz6T5NtFUAAAAJcEhZcwAADsQAAA7EAZUrDhsAAATYSURBVGje7VrZtpwqEJV5Jtf/\n",
       "/9mrqEhBIfS0Vh7CQzhtt3uoYigxy/J6U0UfQ9DLx02hH5+wv8Cr+pxq5v6vWFfjq+p9iZhqWvRO\n",
       "fJ67jHg1Ec8/+uif81akgDN/eGrfsF47x65mMYhEkn9F2RQhdWX/rgXunK0RC/ns59lrSAFnZD/L\n",
       "3rNz7GoW00rkWYOcmoxWgv5NC45oTyvEskn74+whpIBT2h9lb+Qcu5rFNBL1NfmUmRs6DPRvRtFT\n",
       "YWyFWDbGf5w9hBRwnh++n72Rc+xqFtNKvBLr6Bw77GcsxGZSi9W2iJDGfpq9qGZsdDm9/Tx7iISx\n",
       "c+xqFtNIZGeq5dx2IWHfsQCs02Ycu9AiVosFeyN7A9ZlQAo4JXsreyMJY+fY1SymlejD3ryb3HNh\n",
       "fwDZGInV7p6+AdwUqoWA+EB4jQgxHKkDxEMwGoTOxrTIWDLFuhUDMSoGSCEC4HRkMnt6L+Av3IEE\n",
       "3DkqDQBnMa1EnmJi7FT2rlEgQVW4CYokbgHGZdN6S11jiwgxmKyyJ7esainK0LmF7qsMW6dY3Yao\n",
       "vAGkEAFwMlmOm7uRKntWRmccmTSOOkelAeAsppWoyPXPcRfnD4tGoLBPQEztEbALYZ1BF+HYUKtu\n",
       "ECuMFNUie47Bcmz7RtMj1cTMsNK04VzBO0grBMBJ/dzcUzvs/QzwbBx1jkqDwFkMInFnuONkmHg4\n",
       "QvAC9um+/fccLNd//gugrWu5SdC1Raww9Aqzd36Tg7F9s/3pd8c+zrB6klBVSVohAE69Tu979k7e\n",
       "wDjqHJUGgbMYRCKNZc2yPi6haPYWEENkCAopelt3qbbAENXcOytjacvQpQJO38P5gVWv+5COviIF\n",
       "CIBT+NnsqThtHHXekVYCZzGYRLmw64eU+Lv2YDGyOLFypjBsQ8d2FhBdPfsagiBCDBpg9mLSoSQI\n",
       "XZqr0S8TrCwN7Ux8kQIEwEnD3L63CFaWms/GUecdaSVwFoNJdPRmYfdGG3lFt5NE2Kfaz4iF+FQE\n",
       "4CbqUxwwTw+kGuOQUVQtxilLgwKhS+IKhQ+sqTCxK6ttlAiAk5m5uUcpOG98No4570krgbMYTKLy\n",
       "dwQ4v3dY2z72XNVV7sW+mGvLt8iL+3lfPD32KLAXHEg1Bm9OUZmRxf5yzD2yT1g2w2r3AU7yrnDJ\n",
       "BwiAk7up7GnjTHT3y4ZH46jzjjQAnMWgEsldp5gcjFSQrtXo0QH2ae7xbV2jnPUOa1xVBYGt+0Sq\n",
       "MYKYeFq3xEW+qilWQaK7n2gu+QABcAYxlT23l35SzBlHnXekAeAsZiTRZ0a3jRzd7N3XMDv7dw77\n",
       "OEERwSANs+ecTs4TS46RXgiAU4VfnHP2nePSYDTGEm2awdalAmablKR3Yjo8R+6dUZH04I2dwbYn\n",
       "tc/Z28Nu/dTxrCawOj1JAQLg5Ozr2es470hDz61HEo/JdrzE2BYz2b6mNKrsX85eMM0bENOsfdf7\n",
       "jufshU0cmTvgI97uhxc1aYkAOGdeuLxqveO8Iw2JxljilXhar6P37DRl/3L2WOSqg9jqf84e3bAm\n",
       "6dPWIhrSEgFwGvX97HWcd6Rh2RxINPSsX4RNu2fENpXrITL17iv/uSOib1Zi8P3sfcxbkQLOOPOi\n",
       "+hvWVRxfzWJGEl0872P7zGSO2+Vf+4vb/y8eNvYGDFNNAAAAAElFTkSuQmCC\n",
       "\" style=\"display:inline;vertical-align:middle;\" /></a></dd>"
      ],
      "text/plain": [
       "<IPython.core.display.HTML object>"
      ]
     },
     "metadata": {},
     "output_type": "display_data"
    },
    {
     "data": {
      "text/html": [
       "<dt><a class=\"ProveItLink\" href=\"../lambda_maps/_theory_nbs_/axioms.ipynb#multi_composition_def\">proveit.core_expr_types.lambda_maps.multi_composition_def</a></dt><dd><a class=\"ProveItLink\" href=\"../lambda_maps/__pv_it/axioms/c8218f0ba26027b3ef1d7c72ef17c078d0917f760/expr.ipynb\"><img src=\"data:image/png;base64,iVBORw0KGgoAAAANSUhEUgAAAhkAAAAzBAMAAADInAfBAAAAMFBMVEX///8AAAAAAAAAAAAAAAAA\n",
       "AAAAAAAAAAAAAAAAAAAAAAAAAAAAAAAAAAAAAAAAAAAv3aB7AAAAD3RSTlMAq1RmmUTNIjK7EInv\n",
       "3XZ/CtNrAAAACXBIWXMAAA7EAAAOxAGVKw4bAAAHjklEQVRo3t1bbWwURRh+u3t3u9272x7REGOE\n",
       "XmI0MUi4RCTWKD2kGLEQTvghMQROkBDhB8cfExDsaQzR2NrTGKF+0IsaE4rCFRNJaAwtBEGI2vgR\n",
       "o7HxCEZSQ0qBUkobOWdmd293ZmfvlthlK5Pc3u7Ms3uzz77vzDvvswfgqnR1dcEtXpSurrxL6B+l\n",
       "kUn84drsVGLhPb1TpVLO5Sk/T2oHbqMPMzflrh1/pc0wCdEXNmoK1KEaJ18vcLFS2v11K2NXOzUI\n",
       "/b6yMY8+nKV9beZiQ8Pur+uAbShNm/Z8FtSE03ndfrIhnaD9VnuiQokLnnMDbDhhv0HmOAaw0em8\n",
       "aMJHNqJF6jCg9SVQz3XsBVfdX9gBK10HCKJJYK6jq5zykY1H6MOI9nXoCG+iCb845vq6TlgRVYuI\n",
       "kYjjBPqcj2ycpg/v1R5g8UKcg31JveT6uk7YGuRAIeSdIceBY03GNzbUcfq4WXMUmGN2NjCwW99L\n",
       "Cpc5tZSjcbG4LP1Vs7ZIDpQZaDcccxx+Y76xEWU6tY5sl0O7Oe+uhZ0pshOMyxP2WqrwsfgW4/J6\n",
       "stO+Z2g6ZlpME/JIofsgjPvGRjszPvygPVhoQT38mMwv4YQx0QRAugiwr/tOqpYaLBisWb4A+JTs\n",
       "XMiAcAzfc69jOHrdNzbuYo6PE/d5p6k+B/IQCYRC6KOFy4NNC65hppZStZQFMFizII5qybj5Afrg\n",
       "IVp2nqw/9I2NPh4b+wHq+o2wMJTXgwMFzcX/AFyBlqyllmaDwZplo9YIgC2mEbUGHW0DGjM+sSFf\n",
       "Bo6nJNF40muwoRb1IDuAPr8DPEzYKNfSYzKDnfvQUOwsGVeH9GCf/GB9Sr84d9yAAwmf2FDZEGkP\n",
       "HgETWlytLxne3zabPKwVRsD+lbWWLjRWefAYMr4zZE166KNfjB+URyvfbCTmExu1vZxVwnbccLXM\n",
       "hvjuYRKDYGgnulf5N0vtAWQKCr47smGw0v40jOmTdsMm4igh1LIKO1Og4Nypfp0NwsrdLthwB6xa\n",
       "IuwDaAPYW9oIQudowVxOkpGgczQP95U2AWy1RpFR5FXwExgbBltTlHv1aUqPvTovTpv+Njkx5RzG\n",
       "DutsLMLfG1yw4Q5YtRxIsvFHlrO4phcaScl1CiSSVXPSMDebtMP5LPGKzsbL+OdyLthwB6webhTZ\n",
       "niSrsbH1tVfd5uigBVmHmEvymhZWGNqv62zgWSgcd8GGO2D1ZbftErtMI/hyosg55ftSyfXln4JQ\n",
       "RprJI6/Sk1RGdDbEhBbCVGXDHbBqabRZ8d6bkgiE2kredtGYU74dGDjtak5xBaxaLtg6JRVvChvn\n",
       "KjVeM9h4ghfw8tgoA612qPDxzn5+JA9TsHxtsLEFJP5SN8ywYQCVk5aGz7jDNwWB10d6Fpdhy6Yk\n",
       "GwMGG7X5MDMR72hOiX1arGtlwwCGrUmVI9xxlYKA2A9qOeaqn4pk4JheY0MoWsdG+UxHSogdhift\n",
       "bBjAld+Z9cFWrtNbISgASoI4/D9hA9LzLdVNyKSF+QEo2NkwgMVnLauOENfLrBAUEcXh80QFT8mA\n",
       "JwqTxK/OVPQUOIiCeHHhm2fUBl10EF55ulgINy1tWkSzcZAsnVV43HLbgTRvZWaFoIjo7Nw7TNey\n",
       "9QarS14oTEH+XLW64igK23HSaVUiElNj2twvZA/fw7ON7cQOVsL58sohmEUDwvI/2QUAgZjlUVBu\n",
       "N2dY27A7CzxSmM7STZVUpr4yGzWof9v+grosWuSt0NgIqDkOGzXkRpp76vPybI2NQE/3OPQqbG8x\n",
       "xHKIqGhJOUZfOJHnjcIUYpyygso0Qq/oZ0IrROMwr6OjIy5klUKaw4buBTj3EtV+qAjSGGTkXtZR\n",
       "EER87IFFs7Q7PwqwpszBHNaQsLrkjcIk0suVCiqTMkGzcRIGoUWGNzTbgOVFe7yhFWQ9dXHMhlIg\n",
       "SRo0l9amYB8+1DcaRBiE40IB10jjoJiL73bWUCPgmcJ0il4eOqtM5VWbztswso6GgJZXFVOgxhyy\n",
       "PYE+UJatx2zIR2FJDD4ZTeEgtTUun4DWDN7EdchuJR2IY9S8iZ7FZlRSx64v7wXPFKZ1VFsFlUm4\n",
       "RLERjMEG2PI3SDil2LZBz+04576wpwjG88gjQzJvw9jrFwpR0USVz2QniGbwTGHSxHcXKpOWnrRn\n",
       "Avd1dKSqZwLl8wcBntEPNpf6IVi2PmNPiampmnMmqvyE2EzgOvBMYSKvRvBVJrCZzX/Mi1oNTuTs\n",
       "2VGknREeSdrOI4XpfrxxozJp6Uk/FAR2EDgOnilM7SSCdqEytRR9YoOrLnmkMK3CGzcqk2/qEixx\n",
       "8pTkpCtMs3ElX2Wiywzwi401zDC4BzxTmBpIBtCFyuSfKh1lAo5u8Exhcqsyif69scBOKm3gmcJk\n",
       "7XUllSnq39ss7JtOWF3yRmGSuFfiqEw+vukEjfQ6Aa+tvFGYAvwXvewq01vgHxshxm93gUcK01Z+\n",
       "Psh2z8FxH9mQ6bdnSYbJE4VpF7fWrjJF4z6yAYPMwyp6ozCp/IHGrjL5+mY1+9a93yWYvlE2fpzU\n",
       "f+usnVJs7NSGZ6Vrv1s2buV/6+gLH/xvnX8BM3/ecaHa9PIAAAAASUVORK5CYII=\n",
       "\" style=\"display:inline;vertical-align:middle;\" /></a></dd>"
      ],
      "text/plain": [
       "<IPython.core.display.HTML object>"
      ]
     },
     "metadata": {},
     "output_type": "display_data"
    },
    {
     "data": {
      "text/html": [
       "<h4>proveit.core_expr_types.tuples</h4>"
      ],
      "text/plain": [
       "<IPython.core.display.HTML object>"
      ]
     },
     "metadata": {},
     "output_type": "display_data"
    },
    {
     "data": {
      "text/html": [
       "<dt><a class=\"ProveItLink\" href=\"../tuples/_theory_nbs_/axioms.ipynb#tuple_len_0\">proveit.core_expr_types.tuples.tuple_len_0</a></dt><dd><a class=\"ProveItLink\" href=\"../tuples/__pv_it/axioms/5ba20ac4cfac03c219d84ca0525bd00d74b0bacb0/expr.ipynb\"><img src=\"data:image/png;base64,iVBORw0KGgoAAAANSUhEUgAAAD8AAAAVBAMAAAADRiu8AAAAMFBMVEX///8AAAAAAAAAAAAAAAAA\n",
       "AAAAAAAAAAAAAAAAAAAAAAAAAAAAAAAAAAAAAAAAAAAv3aB7AAAAD3RSTlMAIolEdjJUEM2ZZu/d\n",
       "u6v6CvZmAAAACXBIWXMAAA7EAAAOxAGVKw4bAAAA8UlEQVQoz2MQYAACAUYwyYANKAMxSwKzA5SJ\n",
       "XUESA4MXNgVKngJgUfYGBgaOAkwFHAnsB8GinAsYGLgmYCpYw8CgCxblBvG2Yyq4x8CQXwASzQDx\n",
       "ujAV/GRgiE8AiU4C8fQwFLCDFCwAiXaBuCugCuacAYFzQBbjJ6ACB5DoMZBENoYJYAUKINHNIG48\n",
       "phVABfYOcAXWWB2ZnwC3IgfDDQx3GRjWg715BcRbi2nCagaGGWBRPRBvEqYCngT2rWDRGBDvMKYC\n",
       "9kl+AWBRHiDFeABPdIMiChRhuNPDRQYGWbwJphasBocCV1CgOrAIQJkYAADq+TiDa/mHSQAAAABJ\n",
       "RU5ErkJggg==\n",
       "\" style=\"display:inline;vertical-align:middle;\" /></a></dd>"
      ],
      "text/plain": [
       "<IPython.core.display.HTML object>"
      ]
     },
     "metadata": {},
     "output_type": "display_data"
    },
    {
     "data": {
      "text/html": [
       "<dt><a class=\"ProveItLink\" href=\"../tuples/_theory_nbs_/axioms.ipynb#tuple_len_incr\">proveit.core_expr_types.tuples.tuple_len_incr</a></dt><dd><a class=\"ProveItLink\" href=\"../tuples/__pv_it/axioms/31e6c515c8bcc36197a8784e24d8800658bd23ba0/expr.ipynb\"><img src=\"data:image/png;base64,iVBORw0KGgoAAAANSUhEUgAAAbwAAAAWBAMAAABJbjTQAAAAMFBMVEX///8AAAAAAAAAAAAAAAAA\n",
       "AAAAAAAAAAAAAAAAAAAAAAAAAAAAAAAAAAAAAAAAAAAv3aB7AAAAD3RSTlMAq1RmmUTNIjK7EInv\n",
       "3XZ/CtNrAAAACXBIWXMAAA7EAAAOxAGVKw4bAAAFN0lEQVRYw81YYWgcRRR+t7d3t7d7dzkpCFIJ\n",
       "J2oNtYmHxkCK1INoCUr1sP7SUA4UpP3TDQiSquH0j/5Ik6CWNP6om/5QazR3sR4qxXIoIdVaOSVq\n",
       "SAlsVIgSAkehTTmhcd7M7N5cbrYX3T++kNk38+bte9+8NzNvD8CT1hfBB0XIHyUTfFNEaCWCJjK5\n",
       "6KYISr5c+g2MLD4TKf/wQja27H1bjEjpkKNTgiT275TD85a1JKXI3bnXJ7Qzl0jzuxweMQKJTOOY\n",
       "tkTG0lynBI/i2AtyeN6ylvQ+d0fP+Q3d8+Q/bEnhESMQLzYMTe2vkfYI1ynBa5in43J43rKW1Mfd\n",
       "UdN+4V0h/8GMFF6fwB/kzwTC6+Y6JQrSSMnhectaUpm7E/O979Bd+E4KryzwXSK8mMV0ShAkyxv2\n",
       "OFq8ZS23Xo67s8svPKOC7XMyeErOC144zXTI6Xhpefmi18npKWtFapG78zjm985VW5ANnh9ucQ+I\n",
       "88PtKyR/ZmXw0MhMnwyegYfiLIXQD/AuOQJMGTwm+w+Ey0fdwWUfMKM1Idvm4T3rpsps/gesUzii\n",
       "bwD0uPAOLCP96BgpDsjgBTGuPRTCIEQIVoOtV2ShBA8lXXhMtm3SDjtcPMXd+Yms3DegVkDv4aKP\n",
       "03AA9HO3eEJk8+E8691nwQ8Ae2TRI0a01H4ZPAV35R4KIWo5eqO3nYA7DEu1XHh12fZop8PEstyd\n",
       "OZJDVTy9R9e56EmAy6BSBB6JXRVPe+L+3wBjMnjEiI7YaUi/5yGl8LQqUB0CQbH56aH24yVuZ4x6\n",
       "crqybdIFGbzYOBQI28lF34J+FdqyketeL+HzOV2GELkaBjzggVKTRS+E0RtghVduH+mv8NKg4+5h\n",
       "AR6VwfS+z503Cmw9mc6u8Y2r3VixmpOzYMPD4MLTb0CwCkHLGx6bfyjpXHtqjSk37T00Ek5asuSs\n",
       "MIMI4VNyx8+0WTq9vzuM088K8FCm/6ptOEjqbJ0+Mcc4vMSSUyJFbe7OKeJuCm5VTOohcUW/AoHc\n",
       "PezAb95+OvD5x+wak1/HzQq9suihkUK2KDtaEEsvg/AKWadjnRCi9UUHZP4S4KFMzWhliNATlLJP\n",
       "/dFo5xEYIaaovXSQX0V4MlN3ZtELZUGli6lfo4A7M2QRjlusW8hBnaENnR85XWHDO+Adfr80wUMj\n",
       "Y5F0Izxjg18ZqIMQAnlqNHh4cvItAm86LMBDWSybSMLrSyzbCVvWqw1W5mDF2Qx5laeUVuHuHCfO\n",
       "t38x+CfLr2USj6m1N9rzbLmwG8d4LwBn4kvOfAwNnf4Z+v+zDB4aCTzQuPcCt1/bQV6TZTrOR49e\n",
       "y2tFFr1Q15YPooIZ3WvBksuaWrkhnzbg7Y8Ueoy3Qcwp4Ra5O/G8Mw/hKW46vggviV2Xdrs78ENB\n",
       "HqlIi7JFSdVC6VWuU3Lrmwy7wB8ENxaOLGaOHaTwpjkbzRJWL9KGPOa1q3uVu1Act3odA93cnWBG\n",
       "hGe4hcnJNx8TunVyb4RdqiCnhXkzvG5JSe3W2qjjRq/dhCGy0NovJgS2wAv1dZ0FhDeSYmw/sto8\n",
       "jJjavPY1PH3/WhpO0rEn3GIqanJ3JvjAy0dJgGfcM31zsyp066ngvmBqVZAPyb/3oh6/BNCvnKEt\n",
       "X+T6l5MnvL/WMTlZ5hmW7bAYd6ZbSQljODDO3TkjvsRudMNuciwhl0/I4ekeH2sU9kSLHxy+ElN7\n",
       "9GIKQmwrHN2sOCyhZ9jjlCWMIQ1Dgm67iO3/x4gEjVIi3yTwqM1Xuc763L+xEpSxaZn4f0P/ADQw\n",
       "jR6KJAN3AAAAAElFTkSuQmCC\n",
       "\" style=\"display:inline;vertical-align:middle;\" /></a></dd>"
      ],
      "text/plain": [
       "<IPython.core.display.HTML object>"
      ]
     },
     "metadata": {},
     "output_type": "display_data"
    },
    {
     "data": {
      "text/html": [
       "<dt><a class=\"ProveItLink\" href=\"../tuples/_theory_nbs_/axioms.ipynb#tuple_eq_def\">proveit.core_expr_types.tuples.tuple_eq_def</a></dt><dd><a class=\"ProveItLink\" href=\"../tuples/__pv_it/axioms/1eb3a9f2b67de7239ba27a19d778534a9eece6400/expr.ipynb\"><img src=\"data:image/png;base64,iVBORw0KGgoAAAANSUhEUgAAAukAAAAzBAMAAADY0ItYAAAAMFBMVEX///8AAAAAAAAAAAAAAAAA\n",
       "AAAAAAAAAAAAAAAAAAAAAAAAAAAAAAAAAAAAAAAAAAAv3aB7AAAAD3RSTlMAq1RmmUTNIjK7EInv\n",
       "3XZ/CtNrAAAACXBIWXMAAA7EAAAOxAGVKw4bAAAKW0lEQVR42u1cfYwbRxV/56+11/bZogIBQYcB\n",
       "cUQNl5xIQCKqEqPQqqigWID6R4hyLi1CrSq6J/HPFZq6ompBOnIWJQqJIGyKVJqExE7a0gLq9WhB\n",
       "oVQFN6QlSjnJ4SqlTehxuiq9yhU182Zmv2Z2fdndw6ySjrR7Mztv3s7+dubNm7c/H4BnUg8d0uHd\n",
       "tNJpGVjz3W65r/3J1C5ruA8ysDPdbr0X6pU+d+uqy3uQp8/wTDxKqA80nWWNHMoK6NUu8ZqvpATo\n",
       "3EgUUf+MszhYIqd/roDeHfIlqjtUSrbZ4Sdli9FDXTnhLK8hR6wZcuX6aYtAPCpdXxOyr/f9AebI\n",
       "nzmfzf4WPdTzzpGjVsnpobBKU+gP3Ca9jGpYvYuQImtjyqeP90k9cqhf4ywmcIRuCau0gKZkg3g1\n",
       "MRrWvnQgTt5nvBxgDEQL9eecxRyeZsIqHcPRlROHZC6s2iwxXH8Gdvh5WUtRQ32w4ywPo1kPbQme\n",
       "pENMHNrDK2G4bgZ2+Ek3RQ31fNFZvgEtAS6m49M77WvuqnPLeA4O+Zvm32P5Dg7dMD1n35Q5S3Ky\n",
       "149PTxHDdQzY4Set0yOG+pTw1DfzQZo8AT+3WYjtWqbTexZTeZU55OqbekODOE6ZxCxNRUP3XaWE\n",
       "7eGdJTnR+l/a70AdXers2jUvkxrtiKH+IaF8EntAhtSvRuFLAL/gtkZ9BhItOHzsg556mHyWTYhY\n",
       "B3JtiM246H6Z1KjmFgFLvbRiPUybd7gOHRJ++Ip5tCKG+u+F8h9x1SM92IqPnJ5vce9jAfJNKCOw\n",
       "HonKm85KFQpNSC/IuhM4Y3a9bshhqYfWREe+wxQ//KT4UrRQT7/hgfqzoF4kg5ajnqtDowIX4W5P\n",
       "K8zkjUdowlgJkjOy7lzdvkenpR5ac3X5Dtv54WvX9ka0UB9ccrcw6jsQX7BQJ4ZxM8BGb3yYfPKs\n",
       "6a5v1Vlju/U9aVjYEbu97aGV1u8o2u7A2o74tOtsRkcH9Yw4HvfjxTaoizBQ/QQFTsXHL8H7Yhr1\n",
       "COV9IQow+aMFndYXamQhkJ+S6C6QhbpCUcNWrOStFeu3tTu0mvcIPgvs8JV+Fi3Uc2JPjvFw0X4Y\n",
       "KZcp6o0qvofYqQQNmqpvUh8F2HUzw+TvHGFXBkYzZe6ACrqJS5KtUdSxFSsZWqkeh1asv//BFrvA\n",
       "ekTdzxv8PuZTHHU6MT7mgfoAdQRG+4B6Q9xc/xCNPcH6wIX7h2oU9fwZgsPQE+OvAkyQMTeLw/IU\n",
       "9rNsZDCAzeT3s3p11Ra34YO6f7f+PLMQtBUtGVqpQqdWrCczj1azO8CLwA5faXOFoX4tFr7pgXoC\n",
       "hVJaH1CfEvc+ebSxp40SNc1Xm1ulsqJBTDYGpoDaqdnq7wI33aZdv/oStTYeBlu10mJHgMckqN+D\n",
       "GuoeqKdxJkz0w8KsK4lOVtket6Kom4Zi4vv36pCVlZgCsWrZVi/F0Myo1Yi91XJah4lpyzoiaP6j\n",
       "aHRKE9QxWpktedl1DJIe7wfqmyX3YQ8up3yaKb9+myys5nT4a7cLcFRe90wBdUiz6l3G1B725zt3\n",
       "TNtaLaf1wDl79USg8VgoMtTj5H2lPFfT9eRvtR+o/1syYwfxie2ADTrr5XDMoHt9RraQB5dv5V7f\n",
       "dry4Pf5Rr3Mf5vnZ2ec8Uc/Nzv6j2Q/Un5LsqYJPuHMFVJ+TLynt0PsLjR1+XbUqR/16gH1ghItE\n",
       "1BM1yOj9QH1rX+7yf0/5Fkd9HJSiGS5STj0G1xQt1EnVuB+t99V9DnHDnH8YrgzUZzjqGT3L/dld\n",
       "H9gNH8nqCd22S9oHj/nROuDTHN0NVyjqsTZfTBPX436pXc7a96Zr/S2muZq/Xrx2pVoYqG4CGi6i\n",
       "PIPVH9/pQD0VJ6ZHfeSCYfYPb3pc1mVdnJqnMerpTUaVlbNSdq5ttPuWaWrkdcVgIQVnIrm21ILr\n",
       "Ui7tDuZtNO/VFI4Tp/xoQWde2ursg1+zo54dJoPwiDbFFah/Ty/JHq118XX9Fdpy0tQxKXfoxfSM\n",
       "0e4t03OUJonJQgrORHKjCQUlILnTjrz7tgPc+E+5ooH6d0nuzhFI0o3Waii/Zkddwdjk52GSRSkg\n",
       "USaIffkVZ2CDXgT60h6gH7W+AA8zccwl117rvHOirtaoNGm34L1LMlhIYZhILjShNWF0ifpI3w4+\n",
       "7yKbvr2M3CeZ/1QoG6gP1GggLX7r3r0/IqgfTjliju8H/ApwFtIjCGOuMliEGdX5cYZeZOlP8Dkq\n",
       "z8Xp9wNoCO+7YrUzXZ51YoTKZCGFYSLJNKHgBCQ77cjYzGPfbnHdDZXotl7iPzWaYIv0qp1ausnG\n",
       "enKtA3WsXIIHDkEe79jQMht1jVsIUxVeXENn3wI8Tc5ob6g45hQQjEyBWCsqTdqdN2CZEoeFyUIK\n",
       "w0SSaULBCUh22tGRqhXhWXQTHtNpDGmDV/TLChftw8ynAc6KqMOJ9MWNCONhyGlTX9EhUyFZtWmc\n",
       "6MWPlrFwJl4n529AFsV5DnaDQzxVgSaRpu2+p9unnmNG4GkGQjKRJJpQLpwurm/uvezvDKWBuaQn\n",
       "GfdJ4j/RIJ811oc0mCCWJv2SxoLqDtS/+qkLowjjZCm5Ze0jdDs7WUqfgEkNT+xipgbpp+HeeTx/\n",
       "e/15FOc5sr91iCtbNulE2lDGbybOfIOFFI6JJNGEhsPp4vpaP+BjldHA5HQLo5VI/CcabnJ8S1J/\n",
       "s3e3GBGwF8l7Y+Ysq7eNLCaWOxIjvWB9McVZ7reDIImjtMOZGBCHtMFCCsdEkmhCIQhIFu0o1mTf\n",
       "HLBvqaGzolekrHp1kX0Ik/hPdDPo4wte+l/HIckmzB3dlpFFl4rlMucBttHcNkOc5VLd/4AkTqST\n",
       "jtkX77iMLGO4BGciSTShEAQkk3YEKS1GDSL2rXGbuiTcg/UvXmWHIz3rE3Uq7pa1XRy1nZ05F/G4\n",
       "09cSFyWDhRSOiSTRhEIQkCza0T0A9Ncu2Ld1OvxFcJOeQR4O5T6J/CflnQCo/y+TFwspHBNJogmF\n",
       "ICBZtCPiTc8bPvB1AG8LLWj/KPdJ5D9FjYUEX+yBenAm0nYX1IMSkEzaEfr8RwzUX4bkotSC9I9y\n",
       "n0T+00DUGHdjFU8LE4KJJNGEQhCQTNoR7pESJd6/RTYbbPdg/aPdjQkOTqEdMdTzgsPOWUjhmEgy\n",
       "TSg4AcmiHeXRQld5/97CVcT5nlj/EFsR3816xFAXnRiDhRSGieRCEwpMQLLRjmgY9Se8f1fBj4Vb\n",
       "8P6Zbq8tvQARQ138hYzBQgrFRJJpQsEJSBbtiPo7u3j/Djwq7oR4/xA+AcLo/UKGzz7r7mhoT0M4\n",
       "JpJMEwpOQHKjHZ3u5eeDxH/KFCOHeqopB64cEaQATCQ51hWcgORGO9rQ43lcIndjeuRQTwu/8jVY\n",
       "SGGYSC40ocAEJDfaUcb7wxRyn0T+00mIHOrWN1SWDBZSGCaSC00oMAHJjXakeuNnHzA8RfEX7SK/\n",
       "QEEUdkIYJpIbTUhpB9cl6/Pu2zmQ+E83wqWgvrHP/5Xn63BZpzT7sqQeOtoT9Xf/K8+Kpod4cLbb\n",
       "rf8XLOfadpJlcVgAAAAASUVORK5CYII=\n",
       "\" style=\"display:inline;vertical-align:middle;\" /></a></dd>"
      ],
      "text/plain": [
       "<IPython.core.display.HTML object>"
      ]
     },
     "metadata": {},
     "output_type": "display_data"
    },
    {
     "data": {
      "text/html": [
       "<dt><a class=\"ProveItLink\" href=\"../tuples/_theory_nbs_/axioms.ipynb#tuple_neq_with_diff_len\">proveit.core_expr_types.tuples.tuple_neq_with_diff_len</a></dt><dd><a class=\"ProveItLink\" href=\"../tuples/__pv_it/axioms/0b0a503f51c899e8f458ba72ce7dea71357f449d0/expr.ipynb\"><img src=\"data:image/png;base64,iVBORw0KGgoAAAANSUhEUgAAAlwAAAAZCAMAAADTyAB0AAAARVBMVEX///8AAAAAAAAAAAAAAAAA\n",
       "AAAAAAAAAAAAAAAAAAAAAAAAAAAAAAAAAAAAAAAAAAAAAAAAAAAAAAAAAAAAAAAAAAAAAAAeYafp\n",
       "AAAAFnRSTlMAq1RmmUTNIjK7EInv3Xbt5cnn9enzas/lfgAAAAlwSFlzAAAOxAAADsQBlSsOGwAA\n",
       "BlxJREFUaN7tW4mSpCgQlUO5hD1m1v//1AXkJkGnqtaJ3mgipmQSSJ7kMzNBe1keLkhrzZbv8j8v\n",
       "xpoZPz7r9tWXjXWV3zH5xzp+GlmemJBvcv3qI4nbypNlNYMGKmGUjyPLCC25UGrG5DFyPT3p5wpW\n",
       "beVhbsPrxUWPUopdj9TM2u4UYHxElhBactE1mZ09Rq6nJ/1YkVtbedzzS0gqOIRyoxM99E0cdIQs\n",
       "Xi25ePQiTDwXFp+e9GOFkrbydCEQKTgCUR6T4Hi8GTj78RFZupJMNIWfI9fTk36s7F3leQiA6xIM\n",
       "QrkecpwiTdpupVjA+IgsXB25YlL/kJ/fqp3EF0vv8dZWfkNc7H3mikCUapJWKf0eCmh8RBau3sa7\n",
       "dmVXT5Lr4Uk/FhVVW2FIGTbawk0bb+7wOxUK9WvKQJQbMgYNQsOs7ZYZgfERWbh6clGfDAr5KLme\n",
       "nfTjXiNW1t3aVQxCzLTxZvTpVZDsNKl/QvXfP9wvalHKwyYf8gB3TLO2WxsbaHxERoroxFD8caPK\n",
       "/vzySS7nK0fKoYYtPpHFpF+mpEPnUJG7fzrhEDNtvGnDUkVYYLxfOK4IDntO7qDnnLXdyg/K8dHI\n",
       "EVm4nqmP8x8qHA6ocj5dcoNp6jqRvWBEudcrR0ZttYYqyyon/Xzhm7gluzs2pqxrXaGHv0kfhiRp\n",
       "8rCiUSqF0AserNQfF5gfrXejMErq8RwKgJbbXkSWdRdGjsjC9SQXNtPMmhskhMWL0aJkfRYsRonC\n",
       "ZVi8mvTdgtQ92d2xMLl24UPE6lfJND6qaKQvurBCRREpLxxXBOc5uR4YgJbbXkSWxkPI1tJzWSOT\n",
       "sYOkNBAT204WS7nyA3Ihdk2u+aTvb9j5PdndsWBYlIe7AxIeWKybtCQ3Onqwg//qTdT6l24an3P9\n",
       "/OfMvFCL0pue+viFNXRK5dpeRFbo7pGFayCXwuHcaTUZojTUacjvGzDHq924wOQqR66q0jAgV5rU\n",
       "umZiVMtHUAibAOjJD7uZkdcy0FOP+wlTVaRfY7QtmBVrG++qaCQymvBWBJJLryItMGme6P7IPqB0\n",
       "851JWwutaHsRWdZdGDkiC9dALhbyKGmWTEbqz0tkvhXMbVjEK0iuMJIKV/6w/0jSMCJXnHSRmlmD\n",
       "NuwAhfD9Qj2Nlouh1zKoTPqlY4BQcWbEmp4bm2BBu5Fa+sZwMpQac21SKVRk09A6aGM6QomsDQRd\n",
       "IGhlW4sMgNGL8vjCyBFZuMazTHT6RSaz/5RyUXb0SkpyWVVGQOQqR0ZfFzSMyBUntXHXegsfplk+\n",
       "mkjCFRs6zfvz8MKROnK7LLbQGGWXCuPY7lMDO4+uKxIZxRkyvHQPWsu+0Y6QZaOt0XEldsoq8gLr\n",
       "9cJxZXAqvgdqoZVtHbIeT48sjS+NHJGFa/fJjTDNqQ7ZvDMS+CSXVFUWLoCRha+DTpM3MEv2Pp/j\n",
       "tPJZuLvnZZohxZ5t2kRRpTHKrhWe/eCkiw+3wTmxwUCESSzHd8IP1CksMKvTJ/DjjA7cDNrbyKKR\n",
       "I7J4bcklD1ngcrGGq8pzueceJNc50oXFP/8SISyeGq7I5Y/iBJEOtZadkCW/NEp6Y09cHIY49uy4\n",
       "1JhkVwrTWAK8I04ioC1ZELA3s90ZGzQC4Re6z9M0zRtz8COJDtwE2vvIopEjsnhtyWXDJ/XuybvL\n",
       "vT5EJ97bVU5CNCOX+gU9ZETAc7mcaSWJXH76Qri4c5BTCv2knvhMP7zQKjrTypNctexCYejHGPRZ\n",
       "TXpFLNiIXNIA3oFz7oOsvLNDhjqFBW4+IyEwI1pwY2jvI4tGjsgSws5zIeMfbJxpxOKnQlyfByow\n",
       "uc6RS/1Gx6A75FopwUaRRAU/fSE8j0K8lO+s/ql6iqIjNecynOSqZRcKUz/Icinoy2bTxtR2nK4T\n",
       "MNJ+uDJoBLYUkFnPBW5oo+FQVoObQXsfWTRyRJYQjj5zxkUslcqFOTgF7s+5sFmmKdf84DSsVXWA\n",
       "oWS4JTwCmraN4b8YWH38gkIE3XR6i8z+w1O6sXHbI5dBvwfBBSNHZBnhgFyrXLaV3/hkSUy4M9Aw\n",
       "fRWw+++71vJx3OyDpZdWmoFWKa9shFFjKbuvUC/f5YpZE5oMyGWl1FD5ArlwftgHGm688iG3peSd\n",
       "jnOZwZh+k+eqzGjy7l//vPDJxvZF/m4Ro29uvRO/td7JvzYzP8AOzrwyAAAAAElFTkSuQmCC\n",
       "\" style=\"display:inline;vertical-align:middle;\" /></a></dd>"
      ],
      "text/plain": [
       "<IPython.core.display.HTML object>"
      ]
     },
     "metadata": {},
     "output_type": "display_data"
    },
    {
     "data": {
      "text/html": [
       "<dt><a class=\"ProveItLink\" href=\"../tuples/_theory_nbs_/axioms.ipynb#empty_range_def\">proveit.core_expr_types.tuples.empty_range_def</a></dt><dd><a class=\"ProveItLink\" href=\"../tuples/__pv_it/axioms/a96de2387feb1b6e6d0957c14e9b9fd9aee93d570/expr.ipynb\"><img src=\"data:image/png;base64,iVBORw0KGgoAAAANSUhEUgAAAasAAAAXBAMAAABHQH3kAAAAMFBMVEX///8AAAAAAAAAAAAAAAAA\n",
       "AAAAAAAAAAAAAAAAAAAAAAAAAAAAAAAAAAAAAAAAAAAv3aB7AAAAD3RSTlMAq1RmmUTNIjK7EInv\n",
       "3XZ/CtNrAAAACXBIWXMAAA7EAAAOxAGVKw4bAAAEe0lEQVRYw9VXTYgcRRR+89/TvTM74HUJvQge\n",
       "RMmCG8FLHMyfUZQ5Gg1hQETIabwEEkxcj8LCRjxIgoQOQiARJpMgXkQYcgoRZSMK8WdgVhdyC3sx\n",
       "gfWS9179V3WagfGSB1XU6+97XfXVX78G+F+sIYvtOw9cJLTB7P1I9iAXHsz+rhnsb1lsH2rTJzBz\n",
       "7MTs/Uj2iVxYIR1yn51TVXkkCkD1+0z67S78Y3McxLHoD3y2UtyDiYboIrNzIhBWyCHyP5xT1hVZ\n",
       "AG6sp7LdGkE9szgOYtvlw7tYnyzuwURDuy/YJ3OHIZFPaUuen1PWAVkAbh3LdBsq9rI4CO9RNd1t\n",
       "krVa3IMXvZobccAgNKNJOqessSxQ29U+2R1LhIvQlpnashayog78aGKHEWODVHDO6vMerb4oOEGb\n",
       "ymd733A8JJBVLzxcfjSxgwiGFfLTZPLjnLKqI1GgsnS3K/0h7YgbmuIjgaykU9CBFQ3DLckOIhhW\n",
       "yOsAFzUSizt/jVmyd3wUWcFt8NnW3C1OlT86jo2XDddDAlmVftHEmWjoLqwItoh4a0J2V8MK+Qga\n",
       "JDs+SA8T0dU9qprijfvo7lqTr/8aA8w9INnQSkUB+GRN+lF6GBsvmIF5SCCrPC6SpaOhPVhMBTuI\n",
       "4CEopJklPRKxb81jCVmxWmpavOgB7vH3gk4XeqIA7FV+DD9jY8NwPKQ6mfyF27+jZUU7RbJ0NIbv\n",
       "zQQ7iOAhKKQ85RtjMbhXhKxqz3bLm+B+jTxZP2i/TGM9bjgeEqxWrXC1TDRuO8kOIhjWSH8/9bF0\n",
       "k55t8QJtp0ZWi07pa7Ys/TkQbGcTfq79egfVv2j69JBwE24WyTLRAH9KtoiwzpbYhAq5yZ/rV6ga\n",
       "8ppVxUUqZJ2iU/qcLavchaMX0FaGaoWbU1GA95doX++N5EsFyUPCK4NSgjgU5EdD41/JrvhJBMMa\n",
       "+Zg3+EGqzvD0Xku6RtYx7Cz71pZVU687oxZDX7fcpWhvNPAKepOG+hByEFtW8kjdztf7ks+V9uxo\n",
       "qOzYnxTn49axkRLfFV8wcklf2ErWsvisHr3wFa4Py4r0LF1SueqmKFDe0X7pJWz8Rt4ky0EsWaWl\n",
       "h8/gDqKD0cKkF34FWbW6OdFQou6J3ep5shj2kNt8qnZZ4uLAyPqMqke5m1Cy5QeBSrVjfJpkkRtk\n",
       "IeKsFttZrp8PMxg/emEq2WcD7r0AiXF/f4PpRzfGBVwH98qIxras9lQnK10381yup8an0fCqJxAi\n",
       "Tqqr01T8VIdpkxtdSl/NnNzattUAoZGvp/GeQXQLYMuS1cSVa3ek2/juvyk/EVOxR7XoEZbfr1g+\n",
       "2mmuh1h8JPyv5Z0dhz+eXvRG+otk5/x24Ms9hP8heE7KKkMVsmojedaaino1HFR8nsv+I5aP9iXX\n",
       "NFQfyRuRm5gp86Kr2z0zjTnDcJHmMh6TGl+m79bfGVuy4Ah8sG6liPQgtHOy2D7mOU9g5tj92ZLq\n",
       "c4Z9Pxd2keQBrRg3V6rbmS0ryd5+w8mme/BUW8P5IJqVfhrG/hidIl/FSbb1iAAAAABJRU5ErkJg\n",
       "gg==\n",
       "\" style=\"display:inline;vertical-align:middle;\" /></a></dd>"
      ],
      "text/plain": [
       "<IPython.core.display.HTML object>"
      ]
     },
     "metadata": {},
     "output_type": "display_data"
    },
    {
     "data": {
      "text/html": [
       "<dt><a class=\"ProveItLink\" href=\"../tuples/_theory_nbs_/axioms.ipynb#range_extension_def\">proveit.core_expr_types.tuples.range_extension_def</a></dt><dd><a class=\"ProveItLink\" href=\"../tuples/__pv_it/axioms/37dc76e7aec5f45735897544f11e03818c2b7d1a0/expr.ipynb\"><img src=\"data:image/png;base64,iVBORw0KGgoAAAANSUhEUgAAAokAAAAyBAMAAADCa1yNAAAAMFBMVEX///8AAAAAAAAAAAAAAAAA\n",
       "AAAAAAAAAAAAAAAAAAAAAAAAAAAAAAAAAAAAAAAAAAAv3aB7AAAAD3RSTlMAq1RmmUTNIjK7EInv\n",
       "3XZ/CtNrAAAACXBIWXMAAA7EAAAOxAGVKw4bAAAInUlEQVRo3t1bXWxURRQ++9fdvdvdrsqDxEa3\n",
       "UYQYkBqBhMTAKj8lEkwTEyNCSpEYIz6wvpig/PlIUmmRECxRc/GBBElaIPogBqn4IKhgi0j8q1mw\n",
       "kfggNCg/6QNxzsy9c+eemd3evtzeMrmdO3e+c87M/e78ny5ANML7MDXDITtClYm1TlEWM79GqDIP\n",
       "+B/TNJ02KaXNtirBikzXy68Ervmc6JCY6PQ/X6bpVNWgddlsrCNYmTW0RVEdgaueK0aGxS3+bx8/\n",
       "gnHyC9tJF8rwp4r7EK2DFcYZHTxtyOwn2LsMwqIKwUeYHyPD4h/+x4M8PtpVctL5I9CgjuI+RA0H\n",
       "lo+xeGP9wjxtKPj7gDVtEyuGF7UxcN1nR2V+SQz4n5fw+NRqW6YhoTY6H8J7odt0CsjivPqladoA\n",
       "z7uJa7ZT1LzAlW8oR4TFRn+LAk5qasxLs/Ctwpkfwe5ZVVlsrNs6dG2Ax1UWeVGNgVtY6lZEWLzm\n",
       "r3Kc97PcoJdmYYMyoPsRjcWGuoOark1Z3DCuDV9YHxEWh8jwj00z0TxUdtJ92PuOev2fIBqLdadN\n",
       "RRv6LhlZPDqxqXduNAbGzG0y0vB20FR100fWssQCDyeIxiJdN/mDpw3lxlYTiwukjVXDGIbqV7+/\n",
       "Go2NC5lc8jiHwvYdTjpTWo5ToYcTRGMxPlCvNKkNhUpTycTi7HFt+EJ2MBqTC+k9je28o7hpC86x\n",
       "RLfShfxIcnj497PDw0XJYma0bgeUZViiM7IG973b4DiL3ePa8I8R0ZheultNLJ6Q6ThSs9bDCaK1\n",
       "xVTddnRCKWOVcVxcO64N/yrz32hM0RVTj94t0w1F27dfJYjeo+t2sd1KGb8ZWZwjbQQaF+GrSLD4\n",
       "AR1oOCfnZLq/nU2oC/FJcEYQfXbpwRail0O1IX3DyOJC10bA8GEkWDxj2uA7b4jp7jTr8iuRmZtg\n",
       "QFQWc7fcVUx/pyPPI/mkakNilLJ4ErvFStdGwHASgA/KD08midZ/dOWDvSk+KtOxJ1niJ3watg2I\n",
       "wmKs+eZ9rLfimJfHg78L4ET5skEbYj2ExXt+WN8qiuI2AobF7bAM769O6nLxDs35GRtD0UtjExI7\n",
       "DltHfG2Rh608fkwrSNNurNK2KIvaOpHZsQrvoF7PZLIYv05z5gG0NJRkmu9neNfNgY74TiOUwwy9\n",
       "SxLtWGmxTU8jZFFLJvAC/WV+DpQrTeqJzm1tHVuBXw56aQybedzH/iiiBdEmLH1HQbS7S+eN+psn\n",
       "2q6aipBgzDdM6uRS0FatVg8savPSGPbxGJmhCBi+AVrVAaKdHDGPffvqfCEzi6wibNn/3aSymBvT\n",
       "srbRdMH0VtvM9q4EK3ZbrY9aCW7D2SWwBcAKAO/c3BK15VvNJLjxTAedyXD1G8crroL3sfXAtDPY\n",
       "NArSJjnCGYOpHfJsOnoD0jhtWUtxUM1VvekvC06caBcwuzO87PDNMuZLBfa8wMCRowX5HahWdm1C\n",
       "+sJn8JS7e46NTnUW2W4xa+dwfMjO30HHFzc+4MAHeMYaB52/w3J5QGJ3/cOmSjovelqotkbY3DV9\n",
       "L7Tk7KR9N7EYr/LJpUk7a5QsLnPgZeL0TwiyjKQ7OvNhHnef1OfjaaEau5i15Apc5lfLubuqR0Pn\n",
       "Ihzimo/huosf/lojJR+Lgw48yHGxLMKMvKsgWTxGVoJCC/qe4WrsygpHJcyasU2ymNNPlkL06leC\n",
       "GxbCFePsAsd4C+K7/T7eIpPCKeGymO4UMLsjHhcDI8t401WQLD5C7AstKD8KqMaurLM+mZX7eI2c\n",
       "FLX1Yphe/Y7ghoVwh/l8dAsf3pZi9BY/f/okV1ZZTPUImN0RT4llGstY7SpIFlcT+0LLsj/ld3Zl\n",
       "nW3GLCj/XXvVHaZX3y+98rgsfqdtNq2bb8JKxPi0sodnfCTGsFaVxXhRwHhneEawyDJauEKyt/dM\n",
       "7x7B4k5i39FCrxpTyyCLidd6e99jLB6WS/34DVqtUL36qnTu/lOy+L+ghmnNfL9XidN8RBzjjDZV\n",
       "VBY5bac5D4g7Pfo050wo1OzRpx3Sb3k9OnNEtMWUPAHIaGfFoXr1VenGGfvpHlo3Pc9wGuGu7JjM\n",
       "YYh3li32ll1AZxeE2Z3hUKgyQZ6RB56hsHiVQcyAE7lakGFLAabGrqyzxGcrzUuyFvRkLFyvviq9\n",
       "ziaGTaY183PlMQS+aFfJerCSOeW+oGRxn4DZneG4xWRdAjNYCjMEi29v+hIlukqZb6CrglHJ1YJC\n",
       "kQvjxTb7rPVmLlYgJmtxkQ6LfHILy6uvSp+ghk2mNfOex4P3GLGGcWssWVzjwGJWPcQFMUMusnuU\n",
       "8wHveKgktbDcQ/xi1qzPe/f6a9FMh/9QvfqK9BNnp7mQdbVYy7Rm/iG5wm5hLSTFm+pLDS8O+FlM\n",
       "VjjM7pjRhoIio03Zu4AQSMnm7golK690Cdk2uQMkZ8Wki4Tr1Vel70goCV/XMq2Zlx6P3FUU4cnW\n",
       "5IjtZxGOc5jdQWyqE0IecuT157s2+EcHV+u5Z7kaahpZ7CbHm+F69RXp9G1Z/BW4Xss0NZ++M/7i\n",
       "HmPXn2YB8a0RFs2juuVEVq1dweR69RVp4ZPhxdvc1W00Tc1HxKufHDCxGJZXX5EWE4+AkoO1TFPz\n",
       "sWj8h0nqhqlHh+XVV6SzRQ9y1/O6aWq+qRqNQ5EL5DCJVyssrz6XFpDwCYrit7dDDdPU4b/YjgaL\n",
       "pB7hevVRWkAOc2Ils5iuF6Vp6vAfigaJ9D+Sw/Xqc2kOORMPh2A61DJNHP6R+Y/kBDmnDdWrv1VC\n",
       "8LRi+FxN08Thn43MD15e9z+G6tVf4kLx4svS8L3yw+qmicN/nR0VFrv8B8hhevWFNEL5/Z0ulLme\n",
       "L9UyTR3+5yPjuSj4axamV19II5QYqUjDzy2raZp8vAj9go3+mjJEr/6V4IaFMFF4ITokQkMJpmbI\n",
       "bIxSbabqr8wP8rnlf8ODJ51kDGFUAAAAAElFTkSuQmCC\n",
       "\" style=\"display:inline;vertical-align:middle;\" /></a></dd>"
      ],
      "text/plain": [
       "<IPython.core.display.HTML object>"
      ]
     },
     "metadata": {},
     "output_type": "display_data"
    },
    {
     "data": {
      "text/html": [
       "<h4>proveit.core_expr_types.indexed_vars</h4>"
      ],
      "text/plain": [
       "<IPython.core.display.HTML object>"
      ]
     },
     "metadata": {},
     "output_type": "display_data"
    },
    {
     "data": {
      "text/html": [
       "This sub-theory contains no axioms."
      ],
      "text/plain": [
       "<IPython.core.display.HTML object>"
      ]
     },
     "metadata": {},
     "output_type": "display_data"
    },
    {
     "data": {
      "text/html": [
       "<h4>proveit.core_expr_types.expr_arrays</h4>"
      ],
      "text/plain": [
       "<IPython.core.display.HTML object>"
      ]
     },
     "metadata": {},
     "output_type": "display_data"
    },
    {
     "data": {
      "text/html": [
       "<dt><a class=\"ProveItLink\" href=\"../expr_arrays/_theory_nbs_/axioms.ipynb#array_eq_def\">proveit.core_expr_types.expr_arrays.array_eq_def</a></dt><dd><a class=\"ProveItLink\" href=\"../expr_arrays/__pv_it/axioms/c903e5650c08768a9af4af964efcf8d2cc5526440/expr.ipynb\"><img src=\"data:image/png;base64,iVBORw0KGgoAAAANSUhEUgAAAyEAAACiCAMAAABh/DIqAAAAQlBMVEX///8AAAAAAAAAAAAAAAAA\n",
       "AAAAAAAAAAAAAAAAAAAAAAAAAAAAAAAAAAAAAAAAAAAAAAAAAAAAAAAAAAAAAAAAAACGKEuzAAAA\n",
       "FXRSTlMAq1RmmUTNIjK7EInv3XZAMGxgr3zKxjj6AAAACXBIWXMAAA7EAAAOxAGVKw4bAAAT9UlE\n",
       "QVR42u1d6cKjKhZ0F0HpuXOH93/ViWtUUIstmvThR/s1AjmFFBwWyyRxCkwNIU1+O1SlYzIw4ydD\n",
       "3fH4NXEnHC+AeuZubOKuBTIl8lcof5sgReqYrHhi1yHS6DVxLxwfgHrmvn3nqQdD6uTnQ9Zyt2Rg\n",
       "xk+HNo9cE3fDcQd4lDknhpwEjlW4nox7Pal4oXR9aM8EpMMpfVqlMTMx5CyklWMyMOMNiJqoNXE/\n",
       "HFeAh5mJIacQS7dkVxlzFs9oefpYapXFqIl4gGzhOAI8zkwMOQlV5ZjsKmMV0afPitPbTRejJuIB\n",
       "sobjBvA4MzHk5OFgQ4ie7Cpjia641KmQtbQ0u7t4bDJ8TcCAEiGl5XhjC8cJ4ElmYshJx9g5JrvI\n",
       "yNEet2xfVdwoy/45O/fEmzZ4TcCA6u7lxRRNXDguAE8yE0N8e1vrXoxVYCc6rh8VQ+vkOT5Vlg0/\n",
       "HQ+ywDUBA0o68fqnlXHhZD4zET0zMeR4YQPrvPVk5xmFarttOHqghVpaFZPypBsvdgWqU6dIVWFr\n",
       "wgbQVE5cOMpn3U3LTAw57MFV45bsKmOO+iRtM5Q2No8Mn4CW5+dDUsXC1oQdoCQ6HGuAp5mJIYfP\n",
       "HRusc8OwfJGRVWDDlKsHhDcpdtFgSyUC14QVoPhwrAGeZiaGHM7ZMCdLT3adMRdYg+obZlolWW3V\n",
       "pKqr56La0DWBAUrUuC9fxoajfObq+8zEkMP22bklQzJizaORfUsqksKq073YQBhaPAtdE5hx4yqW\n",
       "YLHhND5u1j4zMeTQtRBuyZCMAtpo4akUrE4ls2KIuGwd0s4LCQcoESLPJY8OR/q4WfvMxJDDGVvp\n",
       "lgzMaBuyLlhRzG6xJwqgqHCYz2rWPjMx5GjdRTkma1XycIYkymoTMgqguHCU4sGKI4bcMA2xD7Wo\n",
       "lJChSqtsRoUYgGLDqXyGvV1mYshBH4fthujJwIy3hsLm6NLzAelwCp+zWbvMxJCjahJuyQqfWeLH\n",
       "ViGa4DXxKDi5D6t3mYkhR0Nt5pas8jkV9KHAbDYMng9Ih8N8dkR2mYkhR9NT5pasVezx4LiNfsfz\n",
       "AelwuFLBiiOGQAsaeDKvZZTPoWOha+JZcJQPrbeZiSHGUGOdkJ6sVuoL4HW45/QNgHQ4nY9ruM1M\n",
       "DDGGDFvi1JNlURZ7w8+yZOCaeBicymcxa5uZGGIMEtuV1ZNJVX0BvBRfn/oGQDqc1GcBbpuZGGIM\n",
       "Alsu1JOJL9gO6Vdw08A18TA4hY9a7jYzMeSgG0ndkqVfIWQs8IHhGwDpcITPyLfNTAwxhkYVbsnA\n",
       "jLc3qS5wTTwMjvCZPW0zE0MOJmuFWzIs432KcvPkog1bE3cpyh3BkT5bhtvMxBBj6LCZnp4My3ij\n",
       "otz01FXYmrhNUe4ATu6zRr3NTAwxhhZjiJ4MyninopxtAwoLKLiiHDHkNoZIt2RIxnsV5YYkNgwJ\n",
       "CCiCopwZTubDkIwYgrSL3C0ZkNFFUY4LkaYoU84l2KwZEg7QoigXHQ4xJHZQGEP0ZNcZnRTlipkq\n",
       "5oRWEmz94IQ3oLCAprYeHU7pw5AyEEP+qP/8MkP+cUsGZHRRlOv/qdHTeOXlFwf/4McRgwNKPgHn\n",
       "j895y23m/xFDzO3iv27JkIwOinI5x5sUu26wVgwJDOgjcB7BkB/3sjK3ZFBGF0W5lzcDboJVNfDs\n",
       "LBgSDNBaUS4yHObDkG1mmofcwBAXRbmEgV9CRjYQQjPEXlEuMhxiyJczxEFRrm7ARy7YDQyxVpSL\n",
       "DIcY8uUMsQ/1qyutg1V4cIY8DQ4x5G9jSN0wxgr+KwyJDocY8rcxpFV9SH6FIdHhEEP+Oi8rbLjd\n",
       "y4oNhxhCDCGGEEOIIcQQYggxhBjyswyhc1mO57IeEMKey3ogHDp1QmMIjSHkZRFDiCHEEGIIMYQY\n",
       "QgwhhhBDiCHEEGIIMYQYQgwhhhBDiCHEEGIIMYQYQgwhhhBDiCHEEGIIMYQYQgwhhhBDfpAhPOe/\n",
       "y5Di39otGZjRqqLDfyeN//tv4Jq4FY8OxwLgVXF17s40GkM+M4Z0wb9xc+8YEhwPeVnkZZGXRQwh\n",
       "hhBDiCHEkIc2qY3aevqDDDkBSAwhhtAYQmMIMYQYQgwhhhBDiCF/G0OCfmRZ1s5NKtA85ClwaB7y\n",
       "MwyBPt6E7rBlhUeTCjKGYN+iAvF4waEx5DcYAn5kGd1h625mCPrNaBBP9xyGvIFluT1D3HITQyw+\n",
       "sgyGrLmVIU+CE5ghxfJ5lMpiWJgV5dxyP54h8RXl8I8sw647+tmaGIpyj4ITWFGOzcNA3VgxbSSE\n",
       "W24aQ/CPLB8H6+8qxxtDngUn9DxkHh5F5sAQt9zEEPwjy/i8piqTuxjyLDihGZJPE4gqcWGIU25i\n",
       "CPyRZYvyeHIfQx4FJ/ha1jhAtsKJIU65iSEJ/JFlNODzwDhrWQ+CE5whxTDJmiZGvLZkyCY3McTi\n",
       "Z6AFze/ZD8HWZ79yP6RO53/6+YRcJ6+7ov8UcN6mhwzZ5A4fWBV3CUAodhdDsI8sg/sHgt3NEPCb\n",
       "0RgeLzjhdwz7AWCHj8m0aV5RWZqI113ty6WrHUND7pAhjeu/1eq2MeSuQOeyrBmSyf1MuygmDme5\n",
       "TF6kF8deliF30NCyqPUrG2IIMeSKIa8Gno/OVSkHd0ku++MZy8panjLknTvhIpdiP5ExRpp9VENK\n",
       "pqRMF5OFzKU2IBvijAO3lq7/vUoSQ4ghlwwR2bi2xmXS3+bvfjVjLy8rK08ZMudOeFfrB7aMkWaC\n",
       "mFLKjidydl27MmHt3q81xBn9Xy3d+HuMGEIMuWRIPc3Ea571KxJlvmbIy8vSXZF1S55zv3yzZGqF\n",
       "9Xtta4ksM1mcTlfe2ZP37zV5vx01JXhFc7YpfY67LnzKuyp6+D2VEEOIIZcMSdK5J216pyOvmiFk\n",
       "I0O40OcZm75+zt2+2ujgprGsW35liWz7pb7TGceccj8NKdJ3gl3pcxxUuOn3GmIIMQRgyOJ4qL6f\n",
       "ZWIzhvQdtOYRGRTleM+aJuf9naUNvyPr5NwdeqfMVkvOvYXt9JgWVq4YMsVdFT6nWxU9/p7kOpAn\n",
       "KcpFCLcqyn0CTkxFuazqV65W+3/50PVqPbt5ZtH2fn2ZLwzhYhuZ9OvHY6zpnyVlNu4XDZGvgvJm\n",
       "+ns4qSMWhmzjxsJNBa/TrYsefo8ZqE5jCI0hh2NIOrz+WDeT38S6cfcfY0hZ5JkU+dLLs77zX0WO\n",
       "S8hDLGvr7T+blM0qYSHl/Hdd5Ll8j1DbuGl92lD6Jt2q6JVlxBBiCMaQhSmin4eUZ+WcD7+TH7Sp\n",
       "X8ETqcfOo9dmkWn6b3aQYPayMkPhptKz86KJIcQQW4YA5ZwxhMl2OA1frg2tlFLD2Z3SYP42rhlG\n",
       "hU3k6u+59HXcUrip9HWUoWhiCDHk0wxZyodj86uETpmsooghxJCElBxCtgtiCDGEGEIMIYYQQz7P\n",
       "kDzWaUxIiC08QyLhwWTliCE/yJAq1vtm0ItH4RkSCQ/2GhUx5PcYgoqv1amQtbQyvbuDISX8/pyQ\n",
       "0ma86YghfyVDUPG1st/ybMbnBb4cDQmxhWYILCZX9xpB/RFSFA4kK/dQhsyKcj/KkH8iMgQVX+Nt\n",
       "vyRddFPni/ru14oBgRmCi8l1w1kfaQEHkZULzBBdUY7GEPcxpLyMMTgaqPhaoZZWdRbshdisGFIG\n",
       "w/MCdP2zDrJy5GX9mpeFiq+1gzuiLBUAACG2wGMILCbX2mtyILJyxJCfm4dg4mtcyeUJlRKdCyNC\n",
       "bK82ELQmQDG5EZAVHEhWTodjAZAYEpMhrcovY8y9roAaVG9EWiVZPb0cjQREiK3EGxAGCBSTm8oq\n",
       "cTiQrJwOpySGfDlDsFXM/nXPrCuSYn45Gln8KZIbGAKKyQ2rWIlgMBxsP4QY8liGdFrz6UCGQPJi\n",
       "PJWv1pRKNrEFKpiFZQgICJRLE2J6lweEg8nKEUMey5BKycuYMGF8OTpUyFSLJo0DKDYcC4DEkJgM\n",
       "aZS4jAnUCMaXowOFXMGfQIsDKDYcC4DEkJgMSVVxGROo001lwOqWCpbIjAMoNhwLgMSQmAwpVHoZ\n",
       "88QgFLwx8Q2AdDgWAIkhMRkS+NF8LBT4wPANgHQ4hc/IRwwJx5BcG8xz9Q2f4mrw6fc3ANLhND7r\n",
       "C6EYYlKU+5kA6qiV2pJJ6bOI8rFQWXwk/QsA6XAqnzcjLxTlaAyxGENqbdm99lmI/1hoFbzW+g2A\n",
       "dDgWAMnLismQV7r6MuaR8LhF2vr74PgcXCSGhGRIpx287VT5eHS1jef0fEA6nNrLNSSGBGRIqp3J\n",
       "SFX+eHSlzez7+YB0OKXX8gIxJCBDpLaqKEPvsPGm7QKjkzb75DLCliGr2iImHOl1EIAYEpAhobsv\n",
       "Y6hCN9HUZqWnjLLcG1KFS4eTehVPDAnIEK7UZcyjWtM0tbCYx/IYi1ml4jHhdF7FE0MCMuT1LOrL\n",
       "mKMAquLArQk96sTt5rEoIBuRH9GFA6TD4X57OMSQkAwR2jxWwDNb8O1ugU5DMtAby+yOWqGAbETl\n",
       "MMcRA6TDyfzOkhFDQjKk1B5GiT4eVIWtSqVMsRe6IkxDYEA2InkMXUy/YxpCDAnKkKRV1zFm5wDs\n",
       "c7l6JeRQZWeNo8kB0ruI5IUB5PwEiCEfYUihnW8ooBMPsApbNjyuFjqJh8ivvR6cpQ+CALIUyUOX\n",
       "xyB1vNQXIDHEhSHoRnKpLb2XyGK8hQrb0JoOynSQX0ukrQ8CAAomkmcPSIcjPRf/iCFBx5Ckba9j\n",
       "TCs/6MR2aE0lKJgNyK8llfVCDwAokkgeAEiHU3meRiaGhGWI1B63hBoAqMI27oYUkOMOyq9Z7zcj\n",
       "gOxF8sIA0uEw3zfrt3J0xJCD2R9+GEn3ejE/GFVhY7P3fj06IE8kddhNQwDZiuQFAqTDSX13I0ti\n",
       "SFiGCO2JCOwZYYuz6cuSJtz2AXeZxkKALEXywgDS4XDvF+uJIUjjtWAI10Z1jo3zmAobT0UBqtQh\n",
       "y0nS5bFBgKxF8kIA0uFI73ZJDEGGd5v3nKXWw0r12DeU3Q7VPhaQDsf/1PBWjo4YYnYGrGZ7+uJl\n",
       "Jx4KzLWpPxRQlM5pK0dHDDmY/9n0RJlWFdlDK4e7vg71TEA6HB7gfa+tHB0xxBgsddSK5jrmGcx3\n",
       "NuuRgHQ4aQAztxJhxBCgkgAnJL+OeUAoW3cX5IGAdDg+AFfdY0EMuXZF7V6sY9qTYe0D57adhyjD\n",
       "AwHpcLoQqhNbOTpiiLl3sn0Hp6yvY+53273az+MA6XB4EFmWrRwdMcQYvkMYjkKUsJWjI4aYg/pp\n",
       "dBTOnz0nhly7uNDpw/rg+tnxLnjCsHbVcUyLVuc7OTpiiDlAOmoyM18/PGcCt/8/bd1sF2Cfi2kW\n",
       "xdvOQStiCNCcgC3DTJivH7cVWof9vHWzXZf2DaZZKOeNgnRw8daPXhBDrDsSU+CV+fr5gLwWcod1\n",
       "s117+0RmNM1COW9YbToq3tt9yIghQIO6XsyaT9zur58POdC07rButmtnH+8qo2k2HzXhx8X7T0E5\n",
       "MQSqpyt47cH1hgBs5rV32rW1T+ZpaTDNQodxkhAzF+/dN26rihhy9BCupupZZb7e4mZdDhD3WDfb\n",
       "tbWvS1hjME3gAt6TP2Yu3jPs5eiIIYcD+cXZxUKYr4NkWn24wHJ+FwmGEsTlOcvFukRIeagfenYP\n",
       "6lZ2+We7Nvb18/L167WzaZhy3lqQzlh84GkIMeTYQ1B2/eN8PZdMsxJUuyyBT48gf48QGzmdVLO2\n",
       "7mV6Ds7pnt2DqLvk39uVr0ewnh3r92sn03bKeQc4NvVnLD70cyeGHPa6FzpqsyLU7jpJpg0eA9ce\n",
       "3eouFyJN7ZmyLv/VZ0/d8uUsY7Gy77B7eTrdtuWeo2XvsjW71vaxobl3fG8apJy3FaQzFe8bNDk6\n",
       "Ysixm3W+gdCWxutKMo1J2Wm0W+4W74ZuR9ylhPWzuOwZZ+umlmm0bbrnbBnX24huXzp0PFJqpp0p\n",
       "55nRm4r3DZocHTHkuFG1LgzZSKZl+3a2utv/U9t/stUoyVa2IEPatw9lti3xtCwx2rWyb9r84N3e\n",
       "NEg5b4veULz/4sK+LGLISW9S2ntZW8m0fStc3+0/R2/fDtcllDLVW/uB/7627sw2X8vMdq1+a94t\n",
       "LLJdRe6U84w4doJ0huL9nSxBDIHD+WpWI03XrWTa8uj4/IS3gmrjAifk8uslcJnM7Sm/nF5PVk5L\n",
       "2OXKtuXXV/dcLFvyG+xa2TfXSF3tTQOU83b1ZyjefyWLE0PgcK6jtl9qnK4bybSlFc5nWLaCamyY\n",
       "ry43lz8MUYYSar4QsLiWnh6tG1eqBh2qKfP7R1f3Di07M3HOb7DrbV++DGIN25oGKedt608v3jcY\n",
       "5OiIIWfVdVbzrDNeN5JpS1PpprWbzd16kv6fbybd0kCWv95/GEqYhy/g5dPZSiHyXPK1bcuvr+4d\n",
       "W2YycU605Nfsetv3XiNjMtlVHKCctxWk04v396xrYohVfZ0NIh0zX1fh7SBnekn1q4nV9cFNPeiJ\n",
       "uOLjT9aAH65Zt9imF+xpmWbXhX2d4yYlWLzVaoM+iBFDTp/d2SCyPzhnOED3ZoheUN0wxgpuvmny\n",
       "k/TSq9nbAE5daNYttonQlml2XdjnevIw/JFRU5dIDDntHU8xNrX5urQ0Ualp74zrG2Gt6sPBTYN/\n",
       "IU0uRz22aATL1rq3bXrBvpbt7bq0r3FqSXDxFm61gWvEkPNu6qz2eWO+mjqn054L6t58G9iRdTKa\n",
       "ZUc9B2waxqsmWDs0ytERQy78rLMRfD4/uL9+eLYEPodPWzfbBdjnYppF8WAwy9H5MGQI6W8z5JHC\n",
       "cBTi9Ib7JbFOLf6mk9OWD6H88WorSRXoLwm6HN3YwvPk/xvjZocigFqQAAAAAElFTkSuQmCC\n",
       "\" style=\"display:inline;vertical-align:middle;\" /></a></dd>"
      ],
      "text/plain": [
       "<IPython.core.display.HTML object>"
      ]
     },
     "metadata": {},
     "output_type": "display_data"
    },
    {
     "data": {
      "text/html": [
       "<dt><a class=\"ProveItLink\" href=\"../expr_arrays/_theory_nbs_/axioms.ipynb#varray_eq_def\">proveit.core_expr_types.expr_arrays.varray_eq_def</a></dt><dd><a class=\"ProveItLink\" href=\"../expr_arrays/__pv_it/axioms/27eebbbdd3efd6b8bfa3ba02ffb8ef6a829ff9e80/expr.ipynb\"><img src=\"data:image/png;base64,iVBORw0KGgoAAAANSUhEUgAABBcAAABICAMAAACa9e0yAAAAgVBMVEX///8AAAAAAAAAAAAAAAAA\n",
       "AAAAAAAAAAAAAAAAAAAAAAAAAAAAAAAAAAAAAAAAAAAAAAAAAAAAAAAAAAAAAAAAAAAAAAAAAAAA\n",
       "AAAAAAAAAAAAAAAAAAAAAAAAAAAAAAAAAAAAAAAAAAAAAAAAAAAAAAAAAAAAAAAAAAAAAAAAAACB\n",
       "rqoyAAAAKnRSTlMAq1RmmUTNIjK7EInv3Xbh0fXtQPP9YPfByTD5oSCx5dvx03CR1a/716mnVpn4\n",
       "AAAACXBIWXMAAA7EAAAOxAGVKw4bAAANyklEQVR42u1daYOmqBFWvBCVmdnM7EySzbWbY+P//4FR\n",
       "EeRSSmyl83bVh25EoMrnxYfiNMtihC2SfVgpKjeEApEyBmQUKKrl9bKuvNvDOEn5yki39OAmKd0Q\n",
       "CkiaFpoSoY1AFQ6vRgStwQLt/G63kbzw6lSeF0dA1m4IBeoFcGBtRWhjUIXCqwsdbPegQF7w00J3\n",
       "6EsUbggFXHdgPipCG4fqENEFIAPyAoh9D9uqpndD+80ev2LItdyptB/n4znIM74V2ou4JoEViCoM\n",
       "Xku6HHkBUiebo9tl54b2f69L7jC/6Eyn0X6cj42QFu1eaC/imgRWIKoweJ0XukBeCD/dMaGPlRva\n",
       "/bn6kVxoWS7lTqU9lK+G9BBuhfYirklgBaNax3TASM+QF0K9iGMXlipCpkFqZm2R19FYXcudSnsw\n",
       "XwmodLdCexHXJLDCUS2j3um6RF4ISH/swvLBDe31CGtKS5bnNK4/eSV3Ku2AfDw8dHAntBdxTQLr\n",
       "GVQh8LpSjQ3ywnGVDDRVee2GdpyzyaOjEw/TLsaOa7lTaQfkqwA94BuhvYhrEljPoFpFDTBkdY68\n",
       "cPxsgQHdtnVDBw7xpdU59OLanjTaA/nouLV65aBJ7gP5loe7iGsSWKGo6vDu4uuhHp1OkBcOa22A\n",
       "WOsceSEiXxMeU7wb2hfkBYUqBF5fV2XkyAtHHmyoezaUbgh54UQ+Bqi4N0P7grygUGVxvJC1A/LC\n",
       "gfShlgr9hcstW3jQDf2FaFQh8Pqk0EYekRfcbkSBvHD3+EIT7P8iL0SjqsN7Ynxh8jMK5IVd4WMT\n",
       "6mi0bgh54UQ+0HwEjjvGoho5H2F4ysgLTi8rOPu7zQ9DZoqRF1yHFbJ+oUdeiES16GOr/qDzwkYS\n",
       "pDjJC1FZ3/vwQpApNz6GMDPygiMloI9wM7QvyAsK1TKPtKsbdV4oVdNfNyd5ISrr+xYGOG2mr9wQ\n",
       "8gI8H2gB/73QviAvXNsfsZDBNpEx8QKV9HLmqBfBC1FZ37fQMbwJ9tR+SuQFl3rfaD8l8oIPVRY7\n",
       "vKDX/Xl8oV7L6chZXojK+r6FAPa60d4NIS+A8xUgP/deaF+PFxSqRWw3QveVZ14oVr/jzK7wlRdi\n",
       "sr5vKSCTvzlxQ3vSdFfMuZY7lfbjfAOsz3krtBdxTQIrENUhvks/5jovZP0yudl353khJuv7lvA0\n",
       "ZYbnO15jXjzf8U5UiwtHSW2nvS68UC5N5HooLGvO8IKR9RWkA/XOSOeGUGCtHvw8aIT2PKqXRvr6\n",
       "2uCFJpd/5hfD4JtmKLtqnhLN/bxgZH17oXV7MwvYvYYSNmqD34+IlRLehiC051EtrzTRw2DwwtLe\n",
       "d+aPQHnetlMUybOOuerUuiZP1reU/N42oxkdhSNWMpQPKkNv8gLh9tBhWa4NKZn6K+X06u/0IzxZ\n",
       "31R6eisQvEVeQEHZ4YXpzV6HKypxyjRXSyMIJVXD93lhy5qxruCdPTrhjfSKLyUdOc+Vq9Jxd1DF\n",
       "F+fvMtgJZ321kxfWj2jsQIplXc2bJ3xbu5p7TEsJ+avzgtWPyDoiViIwns3vBduaUUKnfgSp9nlB\n",
       "Zs3Y0JhbuXYj/bTgS8kHlvFy0+lMavvi/I9sJxT6qDviADCWEyvAU6zfqIAjz08bJ+0C2Bdj2oni\n",
       "UU5657XFC806rtiw5cszVaHzwtSPcPztjRdk1qnrIRejNNv8hIqsCC8PhyG27NmmbP7mkPzGy3zM\n",
       "LaNG6TIuWLjKvJW96HM7DRywfkENlMtAopFzDlrw+rhx7O/fB5h9i2ms7QdgybTuy61Y/uE+SCWe\n",
       "/0ZeyC1eyNQ5s+3MwkXdLkIEL7DOGULQ9lPKrPOC9qUXQsn2KSwV2c/LqQ5tqjyfypmHF+Q2kHXB\n",
       "vF66jAsW7lltv+hzZzsA65rUxLoMJJtprwF9nhTGff/Fb5+1LFaaVsMr+7IaVRZbf7wPqo+3+n7m\n",
       "ekfjpxrnVlU7dXbmhbk93ucFlbOZ2/flA9nqzd0im8DK1i0l0WZK55e9X6FQDr7GC2tcE1w2uybc\n",
       "yhb6uPM9bxI+BKssrECZquEqAC9UCuPk+hjLPjbUXtPglV3sspTFFh/ug9fRRyvAHL2x2+MFUs+z\n",
       "D9pCJTGH7DTknvMX+rm/XhWKF1hnRmbztKeI9f1RKYn4vvkSORU0W7iEl49qdIoXzDhR+H7pa0JR\n",
       "9qaPFjbO4eOast4O9MnqSR+uJn2K2vsP5rOPF3nlMe1EZe8Go9j+ozkM3XBn6da+KYMyct4sIwTy\n",
       "zOlB7KAG8EJVFoR3hWrR6dzQa5Fi5nOJpX1j/jFStlrCknMZbsqi4Js3Ysat06q7pcuES9m2ZTu+\n",
       "1F6nuLYCJN2C3fCW2hTGdYO0y7RvyGjrMe1EZV97HP7iP4DUt3pI2p7BvfOaWDePL+y71MfnNa2e\n",
       "vuEedizjbqy0yPA210uyk0D2I4in8EDpsuwDx3UIvUhqA7AMqIgm73izdYLMS+tmUDzp3aguuNJ0\n",
       "267ccV7sjZ147p2y18xf5z9+FbueDPvmUUb9nA5pWp1zDtgkNdlD14o7Fbto7KIW2h4B8QBpRmrX\n",
       "n/8m0fYG3XGOG+X9MsBU6V5ePY7j0i5UHt/PjGsXD8CI1MKydD1OFR4sXZRdHfifwWPinfMv5P9q\n",
       "9k7a7TAn49K6GfbF3fR61LqLpdhIbOeAT2lcM5DdLxf67nmU7VdZlX9Jycb6t3oZv9HtE5xASgfI\n",
       "KTkTwz1Hz2HgUfxLaCwinKEjIO4XC6oTfbOT9SdGcuO8pjfnBVU2OLYIJYzKtB935H4WIewHYgXW\n",
       "/6wvlmq9hIvavPy8XbGuy/PgR1nd9HqBchcLCY4eKCOXMRW+mOakWe9plvmU7euQZYuUZGSTXcu1\n",
       "bp84xEcbNF5NE9856jkED9lz+yY0kp6dpgbPwz4oFlTwIUHj+e8arWof4YX/Twn6amrKUwbW/+Wo\n",
       "fnjK+WBeft2uyu2FO3D/3fRalGasvxaNcgZ1/CaM+2X8LN0t54uwaomnZplP2b6t5us11d7JrmVs\n",
       "W7dPzGdzbgMpKvvYQfGY5N+rxnk57MmRON/Dgl/ODdbajjqp/ayc+T2ifRntqDLkBfe9z+N4YWFb\n",
       "+a0fMpiX37ar+U/w0x+9m94oUHmXOz+PWiP659W478qBJ8NeM6FZ5lMGaGZkm1j11UKvmn3rYgU2\n",
       "2EAulb0KsLFpz5f/qMcnJ3nB97DwWl/aAdB3sfahOpcx9kNSQMHvyhxTcx/VjxCf9yvWBpJ8Mi5/\n",
       "1q7mqdFQhWRuej2qkvPG2lux0y/XjfPzwnZvs8yr7NBWLeX0ipNBtIyaLrmmqSQWkAsjbA2p9zlM\n",
       "cNn4k3oUcrbJdx/2OXGgOpexuHdPX47foTsc4QmwcsutgPjPlvqd1xlpBC8sl5/F5c/GTTk1xw7q\n",
       "gUrP1vR6lNjFAvr5ViPXVRmV/q5K9do9adlffMocI638MuX0shU/lv6wbp/U2tS2aVR2nzMIHkuW\n",
       "34XGqfiz/oLnYR8UGyo4L5j15x7j8Lu1MG/RL2pyTAbW/3M1n9rJpeM6BZbLT6OYcSbf9ZsZFQu/\n",
       "3F6qCvyYAkv6JWZJv5W/7mLJIIcmr8aJAfiOarygdGn3lGVfhbIpzarMNdHJL83Ki6z8VFr2bZtZ\n",
       "5dIYadqUPGtLAL1t+P3+SWicij/LC+7DPuqLWlCBxXz+m7oR+J17OECegcnBCqz/Wc6nHzznVPCC\n",
       "uPzy0x9Et0K/KXd+DapeOh1X9uWPa/opkUivly9dlfDPII3sunUF2PYmKfXbPWXZp78KZX8rpTK3\n",
       "b+3mXz2nvPv6T9u+beif8szCrQuv1TbAzYb/Co1T8Wd5wfOwT4oFFdxhMJ7/nuZQ79kgL/gGeY5b\n",
       "4YFagcH9tVR1Jczp0zfTi9U0282AkD+p9JtbyQTBAF4Kx7jNFke91zKpzGMZs73dNaW0K2DfEFnL\n",
       "9eJJdFegcWB9dKSB0fdV6SvjgAHkhfMOg9quc7B/R1XXzhnra1pKqTgXDzYNuKVXpYtdLKA9UY5x\n",
       "my22er9lUpmn8bNLlimBG8pi9z3pxUfzQuPC+qDsg5pKWmMgFHnBJ/XxC9s2VqC1mp2mq0exboVx\n",
       "43LxRsZZ1M1gy/Jdpde9SrGLBfSDN37TXPV+y1ZlHsu46+w2mWZX0L62iXuj1X8T2XNOoQvrk/7C\n",
       "Hqjp3AWGvBDslPeHP5o6zkoG2C6Kh3UWVKH51ddq1zh+l2V7dAk3DcQmLZ7k9oajC+b6EeQFf5U/\n",
       "hkXtJ5KBJsWZYtAW52njpF0A+2JMO1E8ClTsHWjIC37J8ZsmKB9HKns1dzQvFIyxVz4VoyZYW1A+\n",
       "iFDjRLz5zeaxvDAP2rz0MVotxfqC8iGEmQdltvO73SIsKCgoKCgoKCgoKCgo70uaLl3uVNqb7r1D\n",
       "e9HCJLA2OEf2QkLLdLlTaafle4f2ooVJYKUlvk3IC8gLyAvIC8gLyAvIC8gLyAvIC8gLyAvIC8gL\n",
       "yAvICyjIC8gLyAsoyAvIC8gLKMgLyAvICyjIC8gLyAsoyAvIC8gLKMgLyAvICyhPCCnEr0m753On\n",
       "0n7V6vvVXLQwCawPoYryiLCurqZfM8/p87lTab9q9f1qLlqYBNaHUEV5ihlqXuZVmtyptF+1+n41\n",
       "Fy1MAutDqKI8RAz9SFLlTqX9qtX3q7loYRJYH0IV5RnhQ7rcqbTz4b1De9HCJLDyAd+m15FrX2+4\n",
       "+u2HNNof+mLFBTUXLUwC67PfAfkf2HKxzm4dAeYAAAAASUVORK5CYII=\n",
       "\" style=\"display:inline;vertical-align:middle;\" /></a></dd>"
      ],
      "text/plain": [
       "<IPython.core.display.HTML object>"
      ]
     },
     "metadata": {},
     "output_type": "display_data"
    },
    {
     "data": {
      "text/html": [
       "<dt><a class=\"ProveItLink\" href=\"../expr_arrays/_theory_nbs_/axioms.ipynb#array_neq_with_diff_len\">proveit.core_expr_types.expr_arrays.array_neq_with_diff_len</a></dt><dd><a class=\"ProveItLink\" href=\"../expr_arrays/__pv_it/axioms/72434f751c53ac750ebaffc03e950e64147ab03d0/expr.ipynb\"><img src=\"data:image/png;base64,iVBORw0KGgoAAAANSUhEUgAAAt4AAABxCAMAAADVn1R/AAAAYFBMVEX///8AAAAAAAAAAAAAAAAA\n",
       "AAAAAAAAAAAAAAAAAAAAAAAAAAAAAAAAAAAAAAAAAAAAAAAAAAAAAAAAAAAAAAAAAAAAAAAAAAAA\n",
       "AAAAAAAAAAAAAAAAAAAAAAAAAAAAAACACGXEAAAAH3RSTlMAq1RmmUTNIjK7EInv3Xbt5ckgpUAw\n",
       "ucNsr+f16fN8nNoXkQAAAAlwSFlzAAAOxAAADsQBlSsOGwAADUVJREFUeNrtnYvSpaoRhQVREZQk\n",
       "cyaZnNx4/7eMum8iuIEWFZ3uqvNXnTVe9tJPbFCbojg4uJ6CFLeIuvIrp0fTi6QWs7NjK/2DsuN/\n",
       "HNeyHKK6Bd2M+JUMQpKUFjO0YykjYiU5Be+muEvQTniVLKIr01nM0o7TYIl4bwlhHVQB52jXqKAH\n",
       "PYUh0Xb93nacBhHvTUFqv5LLT21TWQSl72x3Oy6DiPc2J5VXyaY7pmkai6CA7TzKjssg4r2pTar9\n",
       "yuJ48/1+jfp+WNs+jUWIoUqLxG4cdhwGEe8t/UqrZaO+tq7esZtGmeewqxQWQYZkn9qNw47DIOK9\n",
       "pfHu/cqiFQsdY2uIVE0sjp6dt10KiyBDNVGK0KRuHHZsBfHe4iOg/TBHEEIb76obDlEbe0enracl\n",
       "ptstggwJPSwnIk+7x43Djq0g3hs67xZ+5DuQvA7MvB+DcWxqv0QZPnSh2q/71/V2iyBDdNpMp5K6\n",
       "cdixFMQbHEK3XsVMQHXXm7HWmrLprPRyPFhKfblLs8UG9ddUmWi+1SLMEJuw0zKpG4cdS0G8wVE6\n",
       "boXf7/5laG7StRNbj5NLw7tl1fe3Qyott1qEGZou1GraWDo3DjuWgniDw06NvckyD7sziynjfZ2a\n",
       "cCC4jzbdbbUIMzSBzaaNJXTjsLNUEG94btJ7Fbu5k2GbHnEgdUGbKCDqxosr32YRaGjc7fPhfkI3\n",
       "DjtLBfGG5ybSqzhu02Gtpho5YAWLAoJ6H3yruOwkmSEykN2yIrEbh52lgnjDx00qr+LojQU94hZE\n",
       "Sd4QxaOAkNx/5OttFoGGBJGsjEy1/G4cdpYK4g2NTvuVJEETvmyno4bS9zCU0o3DzkJBvI9MvU8H\n",
       "oo55QWoXQ0nxtu0sFMQbepqsIWGq2x3208haS5VqayzmvZMdDKV147CzUBBv8JGVXiXH/nC7xWL+\n",
       "dhYK4g2+L1Kvkl/wmJHv/A3ZdhYK4g3uWXKvkmOPQW+xmL+dhYJ479Vpz/Vn8w0WL2DHVBBvYB/J\n",
       "ajeaM2pqREcfnnBcwZBtx1QQb1hQa9CM7jQumLrLoOAWr2DHVBBvWCjrgZnS9QV+NwkfDbmCIduO\n",
       "qSDesJDWkJTcZdg7dbDw2ndXMGTbMRXEG9psEK+S52VZwy3CRziSl/FZtWMqiDcsWs28Sp5493CL\n",
       "W5JkdpAdU0G8oX0a5lXy7DN0cIsbYqcnRLYdU0G8YdFbfZo+qNN2Yhmf5/nWcItwQzuU8VmxYyqI\n",
       "Nyw669x3QTScWMYnFu+UhnYo44N474q38iquVuzMMj4TNDF4pzO0Rxkftx2KeCfBu/QqjhGEU8v4\n",
       "ROOdzNAuZXwQ7/1CW+de+2mAlPERUhISirmv8M2YBGu4RbChdxmfxG4cdirEOwne1KtYCSikjA97\n",
       "ce5eMK7wzTSvkQBbBBt6l/FJ7MZhx1TOwPvHHz8uj/c/fv3dq9gdIUAZn/FPE/qaX+Wd5OnHr19w\n",
       "i2BD7zI+id047JjKzz+w9T6q9QaV8SlFOBD+wjdpW+/4Mj6J3WTZev++eIPK+IQPq/kL36TGO76M\n",
       "T1I3iHdeeEPK+BQ8cFLKkJHi1HhHl/FJ6gbxzgxvQBmfpg0EMqDwTXq8Y8v4JHWDeGeGd3w0QyvW\n",
       "NOmOfWK8T3WDeF8d76blnDNxE7wTu0G8r453l3Zm9JPxTuwG8b58cpL62J+bnOxuB/FGvBFvxPt3\n",
       "w3uZEt8F7887jbQ8EO+jd4t4f8Wbtzdtvdl76LI+pFn9qaeXGY7ebWK8/+lVcoyfq3i3/IKGbDum\n",
       "8r8Bb/5qR5v2oEtuwvno3WLr/a315uS2uffr3RVJj8T76N0i3t/wbpvb4l0+c9+6OBTvg3eLeH/B\n",
       "2/FR2X1GTh5vpXfyWLwP3i3i/QVvR/fnPnizqVvRioPxPna3iLeDh+cHMv/69/iX3BTvhrz+DCHm\n",
       "F7LvtS3jrUVjTbG6hTfexm538F63gWIRvdzNWm/X2NWNHuuMLejr1UZjap9+TmfTs3GhsvsQaTAw\n",
       "X/P9omTPV/E2drtDEBkqRi93L7wrVtwab6q+9vC4Im07YEhJIYXxfGutifvWJn/w9ux2a3Q8VIxe\n",
       "7l54Ox883OmhfF2U60VbGHueajosNFzos3ZtDW/ShOA9262QpZLWSm7VFY4luVbKqjrgFJ0/8uty\n",
       "t8q9//PfRwZObou3pM9R6Ep9TArFRofq/cycclo1agXv+ZqVNLawivd7t6JvHO+iuFUn3Y4lVS8K\n",
       "tbztOkVHeJa7Vevt/mb3Tng3z3xaqOLzz6yg9VicufjgPSQntHLi/VyTtWP8ZfivfG9hHe/Xbocb\n",
       "xKBPtT3nXyu91Yoq9jVH/6z/+UnjLyjrxfdPT9G7wdfK9qtGt8N75avGW70xSB75RyM+syILUcjB\n",
       "eVXO8R6IVa0L7/mar/b+uYV1vF+7LbqBtan153T2qelb7cbPx79myq8lF9kzI+YWX6J/g4/lfofW\n",
       "e6Xgwj1fiG3nOXg9tWFTg9zSB95CznuDrWvNWXs/bWGZSJTW8Zzqz7WlGP/hA+NHbd5t80pu8l6S\n",
       "foZvRmsdNbb4Fn0bfK9cls62jf3ZeJXNIdLPbiP+/NNqvFeGiNIbSu/HtmMqTWn9BDEbMhip4dJo\n",
       "vcf7uhPvx5pjcvLXv7XP5OSxhS+t97uxHFPnqvzgLaSpFuPIzUN1/XkvSadb7aQNGyqn3/fE2xQ9\n",
       "G3wu1zSiPq/17tn+zd1qCeMdDCX3E916D7kye57hVwP3SV3LKV2dJwHtcs3CfPnM1US68K5YSZUs\n",
       "PzDysemcqY/Bm0nlXWP+MZacXux8LMfU40J84m2Kng2+l3MXqrlPcrJaiOeWyYkg6nWGXyA3r1eB\n",
       "eV8vPkQwWm/yLKg/78kpEob3/BJ/rm4cXCkKZauFvaToH/9LHVuci8EbJNW98V6tqnPrj9HoLHEW\n",
       "ckw2nKfZMe5Nl8l7FN5cdY8XZKv57661fkwJVLmeuQmz7yBM7b3FuRi+wf7mXUte/IZ4D2e4rrh/\n",
       "miEH3p9cdWULYSPZZbAaqgFWVjR41Aw/Jb4Q3sMZZiqg3oqNN/208itbuNCnxJSwAvG+YXISGA3o\n",
       "N+GX8oj3JfAuEG8IDUnn/1PN6Xif5QfxzhLv4BmXgjIodjreZ/lBvHPEO3T+v8DHIP3ZeJ/mB/HO\n",
       "EG+RePJW2p6L93l+EO/88A6e/y88Ww3+XnUPvE/0g3jvhXflVVYifP6/9YifIg+Cd5W9H8Q7v9a7\n",
       "TD6xfMAUeTu23if6QbwzzL154vdCeThfPGZWYpq9H9sOx1mJEwRsTvn3UU9buSiiBGmVdk75s/3g\n",
       "pNs54h049LXDuPc+eJ/mB/HeJ3rr3PcxeAcWdwkbJ5Z8F7xjDJ3lB/HeJ2qtvEqOQXUHt3gFO6aC\n",
       "eMOi1dKr5Bil7uEWr2DHVBBvWBDNvEqOocK/5r2CIduOqSDesGCaeJUcQ+oWbvEKdkwF8d7nuOZ7\n",
       "WbIdroSM7JgK4g1N+mqvkmefQcEtXsGOqSDesKisLnsVPiZxYtQRb7lewJBtx1QQb1g01oBro/UF\n",
       "fnenOdziFeyYCuINDG2Z0FewFf5G1SUM2XZMBfEGRm+9stnrKvtf3cQkHPkbsu0sFMQbGMR6ZE10\n",
       "/nOHVzHdxfwN2XYWCuINDGUNSalLPAaRWyyCQ7Rdf4idhYJ479VwZHrPoVssbhnjYIfYWSiIN7Q9\n",
       "ssYVxAVGGvqInmVaQ7vUBLLtLBTEG35oG6/iiJLv9YMCqt+IuKHsEEOBfiotjrCzVBBvaEir4yVD\n",
       "umL1bnMwB3wFQONeIwkxFOhH9ofYWSqINzz5Jl7FsVYoXw2Rqol74dpPEIlLEQIMhfqpiVKE7m5n\n",
       "qSDe4Oi0X7Fup6GNdzVOE9E+7ugi8HD5q990eqtFoB+hhwXF87zz/ewsFcQbHMx6IMx8T7yDC96I\n",
       "bpo28dGAydBG3Ff9hse+4uozFOyHThdq95wLhu9lx1IQ7w3ZifQqy1w2tOANm05L7xukjqx+o2KH\n",
       "LzyGIvxMQ4y+QffNdiwF8d6QnXR+ZXG0Q3OTrp3u6JEPxX3Vb+puu0WYn+lCrSKvrng7loJ4w0NZ\n",
       "+CkfkIEFb8T00vLj3FQqNKPwVb/h8R9P+gyFFvCZwGZjhuKchj2RHVtBvDeEncp6k9uwgjdiwoHU\n",
       "BW2MWdA9oxONb6BBJLAI8VOMOfyzP+Gahj2RHVtBvDeEtA6n9BIUNv47TvBMezbAMJ/L3NN9Y75r\n",
       "hqSwCPJDBrLbaT5d5zTsaew4DCLeG0JYN0Phvf+HFbwRREneEMWLxSzo37bMfYlGk8Ii0I9kr0dE\n",
       "dbmTHYdBxHtb9i28yvZrSKR5jt+xNBY3p3TNTnYcBhHvTWEP3fWpa9+85zJPfilCLW48+2m+4Axr\n",
       "WRDvbexZVmhqc++5zLfeBMpUFjdymaR6im3HaRDx3has9StZBGnTWdwUdbmPHadBxHtrelL6lQyi\n",
       "6kRCi3C2qzS5iW3HbfAcvKcgt8CbW4eVdyLDq7BKaRF+swuZyB1kp7e/7J7i+EMtyimqW+BdVI1f\n",
       "OT1EldZidnZs5QFZWfwfBQ8GDMQTeCwAAAAASUVORK5CYII=\n",
       "\" style=\"display:inline;vertical-align:middle;\" /></a></dd>"
      ],
      "text/plain": [
       "<IPython.core.display.HTML object>"
      ]
     },
     "metadata": {},
     "output_type": "display_data"
    },
    {
     "data": {
      "text/html": [
       "<dt><a class=\"ProveItLink\" href=\"../expr_arrays/_theory_nbs_/axioms.ipynb#varray_neq_with_diff_len\">proveit.core_expr_types.expr_arrays.varray_neq_with_diff_len</a></dt><dd><a class=\"ProveItLink\" href=\"../expr_arrays/__pv_it/axioms/55a6d1746895ccd9497b72a845aa7fa46ca4ebce0/expr.ipynb\"><img src=\"data:image/png;base64,iVBORw0KGgoAAAANSUhEUgAAA3AAAABHCAMAAABxo1VtAAAARVBMVEX///8AAAAAAAAAAAAAAAAA\n",
       "AAAAAAAAAAAAAAAAAAAAAAAAAAAAAAAAAAAAAAAAAAAAAAAAAAAAAAAAAAAAAAAAAAAAAAAeYafp\n",
       "AAAAFnRSTlMAq1RmmUTNIjK7EInv3Xbt5cnn9enzas/lfgAAAAlwSFlzAAAOxAAADsQBlSsOGwAA\n",
       "CIZJREFUeNrtXYmygygQlENBVPb2/z91RSOHYkRRSOJ01UvxKAfGluYWiyIpUNd1rPhmkHIZeCLo\n",
       "CcKeSpEOyKHw48ReVN9OI6bLwCPB6sOEPZYimytCQHCHIKpl4KEgcqtiF37CHkyRxdUgOGTqIpJG\n",
       "cGlzvBY1WQbeiFPGKFtG1gzyZvNOeKN5vUHYHY7G3WQ6igxXg+Co7mJXLI3g0uZ4bTehXQbeQMZU\n",
       "7jKyZYi03zeXyF8jcT9htzgad5PpKDJcDYLj6HC3PFJwaXO8diDcLANvasC2Pz9CjjKOtw8wF72v\n",
       "ieNog7A7HI27yYQUGa7UGK56/dPgRIJLm+Ol6MtlYJvtmqDq7ARdlHG8fZB55ess1myDsBscjbvJ\n",
       "pBTpgBLcPHGSZHRb2VM1Xzee5nNNxXux18GvOKcCIX5qdBBhHG8faE49/ZMSbRB2vaNxN5mYIh0Y\n",
       "i37bKbRNMsElzfFKyG4Z2IKaDuJ0+Dtzj1HG8faB5tIzPFsOynd4inE07iYTU6QDo+DoKNNapBNc\n",
       "yhyvBKqWgbftYcwKFI9cvoq0DzAvrdaLjjVo9/c/6hd5CLvH0bibTEiRDoyCY2j+UY2lXUfttbdO\n",
       "lo6l2EhhegBOjl+Eul4GHiw43vO9Bi6Ep18WnKZIB6bRlGpqmtcAsLFXFzqbUtZRdRFpjVAcOm3L\n",
       "OTU3BTNss3O8YahV1UFxwcbae7QMPFhwbDUhUtJNwp4pOE2RDkyCw/LtBAaXqK4HA4yKRjhbCbaK\n",
       "5nbj9cpmJ8forl8TFhdsPFcfdBl4sODESnDrZdUAnn5ZcJoi4QpuKPtke9mcUj6PFKXqRFrlcUtw\n",
       "iO0I7n2O0Wh5WFywMbRwvuqbu2O4f/+bRnIIWrglRcztUhYNfi2Nldb+ASGpWieTerkFc1wyuSE4\n",
       "27JsnBR8gtM5FqIhslkJ1B/rrUXWV/JeSiSK3biNfvf2hSA4h6jF86lEAV1KP0U68BIce43LhCzM\n",
       "1BMtcKUW+AojuKFLiUuv4F6WtFb4Y/gjOgWv4OYcC9Gx9aPbiPXqzXOl7EQhF3T44rx4dyGql4EH\n",
       "C65crLH5XgtAz5402ZilVMRMLR4TWC+cCFE0Q5IlsQU3aEjWPsHZlnOb+ErBK7g5x6HDOrg+rlIw\n",
       "a5lAx5ZY0reTK8beeKPUTio3xVfcbnraeLXvvfCtqzxYcKTdbeBCePplwWmKiLMO5xQ3e2RVjWVv\n",
       "bLRqPAlONPZkR+2ztNrE9faf1UxJW772dnJs7T/Xsa0acL4dcZXrfbRqFEbRIsUpbje9+cLAGuvB\n",
       "gluQhJuAVvBhgtMU6cBScKIX1pSB6qlZa+lKcKqJ8ApuslRdyj//ql9dyimFt4IT6oqaCPVcjDxM\n",
       "LNPt19Y80HwlNssSSlEtdlKc4/bSM8aEUL+83cBzBbeoTCuxVR8+V3D+vZRONVWpeUgxiWwqmaZb\n",
       "Nr0rbzcn9dKycPeLr8v2uoVTQ7CSGMGNmVuxhVqRmGJ9P/pKPI4hxrghITK6ZqWo46b0thN8XciY\n",
       "79XJI28L/LjgFm8LED8h+zz9sOA23hZwLkFybAOwkRab33Di3bTO4hfcZFm4G7bW70ytCnFJCZYN\n",
       "MfIYM7dip0WJMZa3zP1xrhz9nK6jcmrtrBR13GuRYzNBfaGvCOkahAcM4ljMXlEWudE00n7fnLjP\n",
       "dut91PZOR+NuMh1FxH4fzgtstYOiUV1Eb9fAMweFZfFmCPd2tXt+Zs5SQiMKuY4t1leKbvoXv09R\n",
       "p7ebIPLdMsLLwFOxOAtqa/HyyTxpigxXG4IrRVGVAZW4R3BGUd4UtgXHZTu9H1fadWXV9323ijVu\n",
       "OrM2wo3zpajT20/Qu9EdzjSZS07gvgU402R5pon30qHnJak4IThsmgVvCgH0k+DYmLidCyXeOG1K\n",
       "T8bh5sl6O3BqV/N0ii48tev4kSTVl5xLidHWkBjOpRxr0/BXqx57LqVYBmTXtaQAAAAAAAAAAAAA\n",
       "gG+EqNsuh21WxwGAfKhoHtusjgMAuRBzEGuPv9RxACATgl65uME2q+MAQC40XR7brI4D7gBDjWQy\n",
       "h3Fu5w+NhJCUZ7daxthmdRxwR5dDvXpQn+x3RBlf7Ly4c1OQ6Csxvc+Y1vZaxzkU9+wQ4/4dOvY7\n",
       "BKlOG4umQUhkdN49pPRq4FHUrTxBkrHNwZFxvFgfvApIDzqe4dCpTbtcyu60MTUl/0DluwhYoaP5\n",
       "303T6FffnCDJ2F7C0VGK5swBn4G2LszRn7g7bax+WH+sBvUcVdvR087filHU5TjDfpQkY3sNR8co\n",
       "shwHfEKPsledDfI6qgh3p43VCRNHC9OVzpfy1q8/jCWWjt2zw4LTtjk4Mo57Dl4FZBCcegioKjA7\n",
       "IzjbOP0MtJW/c0jpHeWWzyPGE4Iztuk5Mpl7Dl4FpIc6MBAPvRR6piw5xgXvRDbn7aNG7wAaimxN\n",
       "T/W7bdv0HOnMfQevAjI0cUg2nCHJz5Qlx5il/4SenX8t782poaQ4JzjLNj1HVub+7y4DMiKmlWBU\n",
       "HdeXsW8s+MeTlJmjnkER/xnBsZqrD0nnc70q6KeTlJmjkNMSAQnBmqo/vXrc9gpZu8bs00nKzJFE\n",
       "UMYBgGSAIRwAkExtJfQoAYBkCDq6FQAAAAAAAAAAAAAAAAAAAMiK3/4g4yew9OEfZASkxY9/4/sD\n",
       "WPr0b3wDQHAgOBAcCA4EB4IDgOBAcCA4EBwIDgQHAMGB4AAgOBAcCA4EB4IDwQFAcCA4EBwIDgQH\n",
       "ggOA4EBwILgPAybTE+FNauN4+9js0+QU5+XXUAQIg2iqcngiCPHUxvH2sdmnySnOy6+hCBD8TCpJ\n",
       "UZnDON4+Nvs0OcV5+TUUAUIfSRvxRaMo43j72OzT5BTn5ddQBAiE7HIZx9vL7htYivPyaygChCHq\n",
       "y/Sxn7WPtGfyG1iK8zIPRf8D7HJX2uIHQqgAAAAASUVORK5CYII=\n",
       "\" style=\"display:inline;vertical-align:middle;\" /></a></dd>"
      ],
      "text/plain": [
       "<IPython.core.display.HTML object>"
      ]
     },
     "metadata": {},
     "output_type": "display_data"
    }
   ],
   "source": [
    "import proveit\n",
    "%theory # toggles between interactive and static modes"
   ]
  },
  {
   "cell_type": "code",
   "execution_count": null,
   "metadata": {},
   "outputs": [],
   "source": []
  }
 ],
 "metadata": {
  "kernelspec": {
   "display_name": "Python 3",
   "language": "python",
   "name": "python3"
  }
 },
 "nbformat": 4,
 "nbformat_minor": 0
}