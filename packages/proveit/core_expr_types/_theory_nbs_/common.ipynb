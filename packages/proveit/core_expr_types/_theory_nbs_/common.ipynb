{
 "cells": [
  {
   "cell_type": "markdown",
   "metadata": {},
   "source": [
    "Common expressions for the theory of <a class=\"ProveItLink\" href=\"theory.ipynb\">proveit.core_expr_types</a>\n",
    "========"
   ]
  },
  {
   "cell_type": "code",
   "execution_count": 1,
   "metadata": {},
   "outputs": [],
   "source": [
    "import proveit\n",
    "# Prepare this notebook for defining the common expressions of a theory:\n",
    "%common_expressions_notebook # Keep this at the top following 'import proveit'.\n",
    "\n",
    "from proveit import ExprTuple, IndexedVar, Function, ExprRange, var_range\n",
    "from proveit import (a, b, c, d, e, f, g, i, j, k, l, m, n, \n",
    "                     v, w, x, y, z, A, B, C, D, P, Q, R, S, U, V, W,\n",
    "                     fa, fx, gx, Pk, alpha, lambda_)\n",
    "from proveit.numbers import zero, one, two, Add, frac, Neg, subtract\n",
    "from proveit.logic import Equals, Implies\n",
    "from proveit.core_expr_types import Len"
   ]
  },
  {
   "cell_type": "code",
   "execution_count": 2,
   "metadata": {},
   "outputs": [
    {
     "name": "stdout",
     "output_type": "stream",
     "text": [
      "Defining common sub-expressions for theory 'proveit.core_expr_types'\n",
      "Subsequent end-of-cell assignments will define common sub-expressions\n",
      "%end_common will finalize the definitions\n"
     ]
    }
   ],
   "source": [
    "%begin common"
   ]
  },
  {
   "cell_type": "code",
   "execution_count": 3,
   "metadata": {},
   "outputs": [
    {
     "data": {
      "text/html": [
       "<strong id=\"a_k\">a_k:</strong> <a class=\"ProveItLink\" href=\"../__pv_it/common/06428e0ed4d7375fb56a950b6b636d615ea946490/common_expr.ipynb\"><img src=\"data:image/png;base64,iVBORw0KGgoAAAANSUhEUgAAABQAAAAMBAMAAACQIoDIAAAAMFBMVEX///8AAAAAAAAAAAAAAAAA\n",
       "AAAAAAAAAAAAAAAAAAAAAAAAAAAAAAAAAAAAAAAAAAAv3aB7AAAAD3RSTlMAIquJdkTvuxBmmd1U\n",
       "zTKBpmoTAAAACXBIWXMAAA7EAAAOxAGVKw4bAAAAcklEQVQI12NgYFR2dGCAgDAB9h8QFkcmA9cG\n",
       "Bs4tQCbXBwZuAwaGVCCTrYChP4CB8QOQ2e/AMJ+BgbNAxICh/wCDLo8Ak+OJRAZ2B55dXAxsPgwP\n",
       "GDhU7IT8GORXPYCazTCddYMAlKnCt8EAyixk0HwAAGHVFaaXwccRAAAAAElFTkSuQmCC\n",
       "\" style=\"display:inline;vertical-align:middle;\" /></a><br>"
      ],
      "text/plain": [
       "<IPython.core.display.HTML object>"
      ]
     },
     "metadata": {},
     "output_type": "display_data"
    }
   ],
   "source": [
    "a_k = IndexedVar(a, k)"
   ]
  },
  {
   "cell_type": "code",
   "execution_count": 4,
   "metadata": {},
   "outputs": [
    {
     "data": {
      "text/html": [
       "<strong id=\"a_1_to_i\">a_1_to_i:</strong> <a class=\"ProveItLink\" href=\"../__pv_it/common/7230c683fcd56948c826ac1be71b01b6fb2913950/common_expr.ipynb\"><img src=\"data:image/png;base64,iVBORw0KGgoAAAANSUhEUgAAAHEAAAANBAMAAABssJxZAAAAMFBMVEX///8AAAAAAAAAAAAAAAAA\n",
       "AAAAAAAAAAAAAAAAAAAAAAAAAAAAAAAAAAAAAAAAAAAv3aB7AAAAD3RSTlMAIquJdkTvuxBmmd1U\n",
       "zTKBpmoTAAAACXBIWXMAAA7EAAAOxAGVKw4bAAABLklEQVQoz2NgYFR2dGBAACETEQa8AKE+TID9\n",
       "B0KcNZGhvgGvToj6RgYGjkwGrg0MHHOh4m0TGFYzcBgr4dQNUc9gwsDA9YGB24DhiTdUYj0Dw2YG\n",
       "LrAkdgBRDwJsBQz9AQwMp6ES6QwcXxn4Axj/4dIJVQ8E/Q4M8xngOjm+MHB+YOBswK0Toj5EAcg6\n",
       "wKDLIwDWCfQbxx8GpgsHGRiYN4C5aAAkAlYv4QAMJHYHnl1cYDs5/gIlShhOL1jAwPC6AcLtv8CA\n",
       "xgCrZ+wBmsyhYifkB3HtbqCZTc4PVR4wMFZAudxAUxh2MUAZIBGIenZEEgDp5IG7T4pBEJkLAwiR\n",
       "/j4UnczwZFL3bgUSFw4QIme5YCzh+8CobYGH/P//H5C4cIAQaXJEkXBgwMdFFwEAabdS0aPRHbQA\n",
       "AAAASUVORK5CYII=\n",
       "\" style=\"display:inline;vertical-align:middle;\" /></a><br>"
      ],
      "text/plain": [
       "<IPython.core.display.HTML object>"
      ]
     },
     "metadata": {},
     "output_type": "display_data"
    }
   ],
   "source": [
    "a_1_to_i = var_range(a, one, i)"
   ]
  },
  {
   "cell_type": "code",
   "execution_count": 5,
   "metadata": {},
   "outputs": [
    {
     "data": {
      "text/html": [
       "<strong id=\"a_1_to_ip1\">a_1_to_ip1:</strong> <a class=\"ProveItLink\" href=\"../__pv_it/common/43803359e2b07a30c88f205595de2dcad0b84aa60/common_expr.ipynb\"><img src=\"data:image/png;base64,iVBORw0KGgoAAAANSUhEUgAAAIUAAAAOBAMAAADzg8IUAAAAMFBMVEX///8AAAAAAAAAAAAAAAAA\n",
       "AAAAAAAAAAAAAAAAAAAAAAAAAAAAAAAAAAAAAAAAAAAv3aB7AAAAD3RSTlMAIquJdkTvuxBmmd1U\n",
       "zTKBpmoTAAAACXBIWXMAAA7EAAAOxAGVKw4bAAABNUlEQVQoz2NgYFR2dGBAADQuJsCmIEyA/Qdu\n",
       "LiaAKGhEFuLIZODawMAxF4XbbKSBywiIAgYTGL/zAgMD1wcGbgOGJ95QIQh3AcNqXGZAFECYQMzn\n",
       "AjSQrYChP4CB4TRUCYT7lUH+AQ4zoOpBgB1E8ADN6HdgmM+AMAPCnYHbDIiCEAUUMw4w6PIIgM3g\n",
       "YIBzGawZGBowwwKmQMLhB7IZ7A48u7gg7ui/AOfy7WDg+AsVAhNwHlgBY88GZDM4VOyE/CBmcO+A\n",
       "c8WBjtgNxNwLGKDELhQF7A4My8vLyssngM2AAnB4nICnowWMAgw8mJ6BK+jvQ3YHshkGMJ74u1cN\n",
       "DMyYAQpXcJYL0wzh+8BEwwFPw/n//zMwtGCGKVxBkyPUDEbbzygpnwVVB2a2QVPAzkA54ILSABqm\n",
       "WQe8E8aOAAAAAElFTkSuQmCC\n",
       "\" style=\"display:inline;vertical-align:middle;\" /></a><br>"
      ],
      "text/plain": [
       "<IPython.core.display.HTML object>"
      ]
     },
     "metadata": {},
     "output_type": "display_data"
    }
   ],
   "source": [
    "a_1_to_ip1 = var_range(a, one, Add(i, one))"
   ]
  },
  {
   "cell_type": "code",
   "execution_count": 6,
   "metadata": {},
   "outputs": [
    {
     "data": {
      "text/html": [
       "<strong id=\"a_1_to_j\">a_1_to_j:</strong> <a class=\"ProveItLink\" href=\"../__pv_it/common/49f428290069493177b1c561ef1abc7619b53fae0/common_expr.ipynb\"><img src=\"data:image/png;base64,iVBORw0KGgoAAAANSUhEUgAAAHIAAAAPBAMAAADKT4ZRAAAAMFBMVEX///8AAAAAAAAAAAAAAAAA\n",
       "AAAAAAAAAAAAAAAAAAAAAAAAAAAAAAAAAAAAAAAAAAAv3aB7AAAAD3RSTlMAIquJdkTvuxBmmd1U\n",
       "zTKBpmoTAAAACXBIWXMAAA7EAAAOxAGVKw4bAAABRElEQVQoz2NgYFR2dGBAACETEQa8AKE+TID9\n",
       "B0KcNZGhvgGvTqj6BwwcmQxcGxg45kLF2yYwrGbgMFbCqRuinoFhHwPXBwZuA4Yn3lCJ9QwMmxm4\n",
       "IJJYAUQ9CLAVMPQHMDCchkqkM3B8ZeAPYPyHSydUPRD0OzDMZ4Dr5PjCwPmBgbMBt06Ieg6vAwz9\n",
       "Bxh0eQTAOoF+4/jDwHThIAMD8wYwF92PIJ1g9Vw8FxjYHXh2cYHt5PgLlChhOL1gAQPD6wYIt/8C\n",
       "A4IBJiDqO5gXMHCo2An5QVy7G2hLk/NDlQcMjBVQLjfQFIZdDFAG9w4GmHreCTCHgHTywN0nxSCI\n",
       "zIWDE3AWvwCyTmZ4Mql7twKJiwAGcNYzGEP4vgkDQws85P///4DERYQQIpk6oUg4MODjAgELgnmT\n",
       "gTzAG5dApk4urwYGAM8yVKWd6IRcAAAAAElFTkSuQmCC\n",
       "\" style=\"display:inline;vertical-align:middle;\" /></a><br>"
      ],
      "text/plain": [
       "<IPython.core.display.HTML object>"
      ]
     },
     "metadata": {},
     "output_type": "display_data"
    }
   ],
   "source": [
    "a_1_to_j = var_range(a, one, j)"
   ]
  },
  {
   "cell_type": "code",
   "execution_count": 7,
   "metadata": {},
   "outputs": [
    {
     "data": {
      "text/html": [
       "<strong id=\"a_1_to_k\">a_1_to_k:</strong> <a class=\"ProveItLink\" href=\"../__pv_it/common/8800be272717bf52f3296a76bd9290449bbccb6f0/common_expr.ipynb\"><img src=\"data:image/png;base64,iVBORw0KGgoAAAANSUhEUgAAAHQAAAANBAMAAACKmVcdAAAAMFBMVEX///8AAAAAAAAAAAAAAAAA\n",
       "AAAAAAAAAAAAAAAAAAAAAAAAAAAAAAAAAAAAAAAAAAAv3aB7AAAAD3RSTlMAIquJdkTvuxBmmd1U\n",
       "zTKBpmoTAAAACXBIWXMAAA7EAAAOxAGVKw4bAAABGklEQVQoz2NgYFR2dGBAADQuJkBSECbA/gNJ\n",
       "Bo2LCRAKODIZuDYwcMxlQOY2G2ng0glRwLkFyOT6wMBtwPDEGyoD4S5gWI1LK0QBQyqQyVbA0B/A\n",
       "wHAaKgPhfmWQf4BDK0QB4wcgs9+BYT4DQiuEOwO3VogCzgIRA4b+Awy6PAJgrQ0gGQiXwRrCRfMn\n",
       "XAGT44lEBnYHnl1cYFs5/gJloFy+HRBu/wWoOJwHUcDmw/CAgUPFTsgP4uDdQHugXPEGCJd7AVB8\n",
       "FwOU4N4BUyC/CuEhkFYeuBMZFzAKIHHh4ASMMZ11gwCyVma4EvF3rxqQuHBgAGOo8G2AsYXvmzAw\n",
       "tMCV5P//j8yFBxM8iRYyaKJEAVraxUzKLCg8AKL/UW7+ORj9AAAAAElFTkSuQmCC\n",
       "\" style=\"display:inline;vertical-align:middle;\" /></a><br>"
      ],
      "text/plain": [
       "<IPython.core.display.HTML object>"
      ]
     },
     "metadata": {},
     "output_type": "display_data"
    }
   ],
   "source": [
    "a_1_to_k = var_range(a, one, k)"
   ]
  },
  {
   "cell_type": "code",
   "execution_count": 8,
   "metadata": {},
   "outputs": [
    {
     "data": {
      "text/html": [
       "<strong id=\"a_1_to_m\">a_1_to_m:</strong> <a class=\"ProveItLink\" href=\"../__pv_it/common/1b82bfd6d142c0dcddaa042c515eb9e5527f4b990/common_expr.ipynb\"><img src=\"data:image/png;base64,iVBORw0KGgoAAAANSUhEUgAAAHkAAAANBAMAAAB/Z9ytAAAAMFBMVEX///8AAAAAAAAAAAAAAAAA\n",
       "AAAAAAAAAAAAAAAAAAAAAAAAAAAAAAAAAAAAAAAAAAAv3aB7AAAAD3RSTlMAIquJdkTvuxBmmd1U\n",
       "zTKBpmoTAAAACXBIWXMAAA7EAAAOxAGVKw4bAAABIUlEQVQoz2NgYFR2dGBAADQuJkBVECbA/oMB\n",
       "JxcToCjgyGTg2sDAMReF22ykgUszRAEMcH1g4DZgeOKNwl3AsBqXbogCGGArYOgPYGA4jcL9yiD/\n",
       "AIduqHoo6HdgmM+A0A3hzsCtG6Jg1jwXBc86IO8Agy6PAFg3BwOcy2DNwNCA6WeYAompmQxJDE4M\n",
       "DOwOPLu4IHb3X4Bz+XYwcPyFCoEJOA+sgLHlAsM/hsVAYRU7IT+Ibu4dcK440OLdQMy9gAFK7EJR\n",
       "wOTAl8CwB+4osL9PwFPEAkYBBh5Mp8MVsD1gKWD88ABFNzwmxN+9amBgxgwyuAJ5oO2cBQugPOH7\n",
       "JkBHwVNg/v//DAwtmKEGVxDEwCvAqILiOBZUtZjJnQVdAAACZFQ9ABbo2gAAAABJRU5ErkJggg==\n",
       "\" style=\"display:inline;vertical-align:middle;\" /></a><br>"
      ],
      "text/plain": [
       "<IPython.core.display.HTML object>"
      ]
     },
     "metadata": {},
     "output_type": "display_data"
    }
   ],
   "source": [
    "a_1_to_m = var_range(a, one, m)"
   ]
  },
  {
   "cell_type": "code",
   "execution_count": 9,
   "metadata": {},
   "outputs": [
    {
     "data": {
      "text/html": [
       "<strong id=\"a_1_to_n\">a_1_to_n:</strong> <a class=\"ProveItLink\" href=\"../__pv_it/common/7ee2dd28754734e63298daa7955625a3d904698e0/common_expr.ipynb\"><img src=\"data:image/png;base64,iVBORw0KGgoAAAANSUhEUgAAAHUAAAANBAMAAABlWzwjAAAAMFBMVEX///8AAAAAAAAAAAAAAAAA\n",
       "AAAAAAAAAAAAAAAAAAAAAAAAAAAAAAAAAAAAAAAAAAAv3aB7AAAAD3RSTlMAIquJdkTvuxBmmd1U\n",
       "zTKBpmoTAAAACXBIWXMAAA7EAAAOxAGVKw4bAAABR0lEQVQoz32Sv0vDQBSAv/TnNSlYq4O4CNpV\n",
       "KNjFRSK6CVIcnO0k3RwcnLRIca2Li6B2FBwquEhddBO65D+wgpsiHRQc1HrJpZfW0L7p3b3ve3l5\n",
       "CRhzyzZBZAuTjIx+fjOT/Aoq8RIHlZFuHy/KmNeIM/94dMwVYmF2qK94FWYHK8/Lmn9swA1mUA6F\n",
       "4lUkdqgVoeUftxGfjBWN32Guz3tRs7lAu+KDVIdUZbir+NPz1brM75lPZzxXvqP4JuI8QFSuIOy5\n",
       "S/D4qZMyJUja6abpPVf8yNIurbrs+Fqh5rik49/rxOONqoNctsgtZdfVzHey7+HKc66NsQfWrbyy\n",
       "ZB+avcQFFB+x41t6HNdN6w8zzTg8hmYOgETbrLf73aj+dfbfLyEfcjXADNZbz514KkBVd+12Owg7\n",
       "5GqADWKLA6VBOBbe879uf39pVvT1Fd89AAAAAElFTkSuQmCC\n",
       "\" style=\"display:inline;vertical-align:middle;\" /></a><br>"
      ],
      "text/plain": [
       "<IPython.core.display.HTML object>"
      ]
     },
     "metadata": {},
     "output_type": "display_data"
    }
   ],
   "source": [
    "a_1_to_n = var_range(a, one, n)"
   ]
  },
  {
   "cell_type": "code",
   "execution_count": 10,
   "metadata": {},
   "outputs": [
    {
     "data": {
      "text/html": [
       "<strong id=\"a_i_to_j\">a_i_to_j:</strong> <a class=\"ProveItLink\" href=\"../__pv_it/common/30a0a26b5bf024e53f59b1b53df145eac0b723cf0/common_expr.ipynb\"><img src=\"data:image/png;base64,iVBORw0KGgoAAAANSUhEUgAAAIIAAAAPBAMAAADaAwrIAAAAMFBMVEX///8AAAAAAAAAAAAAAAAA\n",
       "AAAAAAAAAAAAAAAAAAAAAAAAAAAAAAAAAAAAAAAAAAAv3aB7AAAAD3RSTlMAIquJdkTvuxBmmd1U\n",
       "zTKBpmoTAAAACXBIWXMAAA7EAAAOxAGVKw4bAAABZ0lEQVQoz6VTv0vDQBh9tdael5SG6tBRMKvg\n",
       "kFnSulUQB3EUnYpbBiE4GUsRBzH9B8TsDha6SAWpmxCErE5WEOcOCh0UvPy8kxAJ+EGOd4+8l+97\n",
       "uQMKyw0dSdW0ReQrrttRylPgJNyU9nFsgSg5HEIdxiAHoH1AC+nTHq6BYtwUucw0iHS4B51AWk34\n",
       "G2AQQYc9bxuZDlw3Z8DeSvg2yGcEDX9xMx24ztZxBWwvha19YH6CUjOHQ6gjrRHsEVbkus5CsRjx\n",
       "hRnvoVu1RAcrnYHv4OsUKnso6/KQFs77IN+MP4TrOHVX7CHgbU8AwRLocFZ0QNS12ibbA3fsY531\n",
       "V3XMfKhpts2jsAefl/xch4iAdItIh0ovnuoCkON2yXQsTiGnx3hMUDU+Ok+UnYKYlT1HdCimY+S/\n",
       "/z0GnQbQTYJSlchh4UUTeJ4kvwZNkdd/v2Zk8KxmOXz+49w7Oe5GZXcP/yvasvADvyhcqgrCmpEA\n",
       "AAAASUVORK5CYII=\n",
       "\" style=\"display:inline;vertical-align:middle;\" /></a><br>"
      ],
      "text/plain": [
       "<IPython.core.display.HTML object>"
      ]
     },
     "metadata": {},
     "output_type": "display_data"
    }
   ],
   "source": [
    "a_i_to_j = var_range(a, i, j)"
   ]
  },
  {
   "cell_type": "code",
   "execution_count": 11,
   "metadata": {},
   "outputs": [
    {
     "data": {
      "text/html": [
       "<strong id=\"a_1_to_0\">a_1_to_0:</strong> <a class=\"ProveItLink\" href=\"../__pv_it/common/ee06aa12a88b3cfdd60dec3f1404e99e67f9343e0/common_expr.ipynb\"><img src=\"data:image/png;base64,iVBORw0KGgoAAAANSUhEUgAAAHMAAAANBAMAAABoRUxkAAAAMFBMVEX///8AAAAAAAAAAAAAAAAA\n",
       "AAAAAAAAAAAAAAAAAAAAAAAAAAAAAAAAAAAAAAAAAAAv3aB7AAAAD3RSTlMAIquJdkTvuxBmmd1U\n",
       "zTKBpmoTAAAACXBIWXMAAA7EAAAOxAGVKw4bAAABRklEQVQoz32SPUsDQRCGnzOabO6CidHKwkLT\n",
       "CgGvlhPtBAkWWluJjVhYWGmQYHspbMWUAQsFG4nN2Qlp8g9UsBMkhcIVatzb+0o4LlMN+z7vzOzs\n",
       "gra0ZhFH2ZxjbAzxO6WcGwtTe5zVx1pjXhyg3yGuAuGiyQ1iZTHV7vMZswp6H6PK+2ag3MI9uqem\n",
       "hM9fsgvZI+wadANlH/FNsab9pVl9/pBiCdvimsgqvsj3ydfTrYrXXLIOtsNyoaSs8n7ih4neE2Tk\n",
       "9ZM2bwGKX3AxmuSsQkdXXcWvVI7ptlrwUcfueWAvOI8SxU/Lrhaislre8gd+lFXP198qr2gnYDzI\n",
       "I0OWoRMmHqB4OXDRCWfxrIXoReaZgefEwDGg1jRkzUQf5vSzDdWENQLYYDtMZ19MaEQPMBj0EVbC\n",
       "2oiLmO0RZZSdTG54FPgHzdFV3dXFKPgAAAAASUVORK5CYII=\n",
       "\" style=\"display:inline;vertical-align:middle;\" /></a><br>"
      ],
      "text/plain": [
       "<IPython.core.display.HTML object>"
      ]
     },
     "metadata": {},
     "output_type": "display_data"
    }
   ],
   "source": [
    "a_1_to_0 = var_range(a, one, zero)"
   ]
  },
  {
   "cell_type": "code",
   "execution_count": 12,
   "metadata": {},
   "outputs": [
    {
     "data": {
      "text/html": [
       "<strong id=\"a_i\">a_i:</strong> <a class=\"ProveItLink\" href=\"../__pv_it/common/c1fad46b1cc25ea9a3a84c0aa346db8e42543d970/common_expr.ipynb\"><img src=\"data:image/png;base64,iVBORw0KGgoAAAANSUhEUgAAABEAAAAMBAMAAAB2C0uMAAAAMFBMVEX///8AAAAAAAAAAAAAAAAA\n",
       "AAAAAAAAAAAAAAAAAAAAAAAAAAAAAAAAAAAAAAAAAAAv3aB7AAAAD3RSTlMAIquJdkTvuxBmmd1U\n",
       "zTKBpmoTAAAACXBIWXMAAA7EAAAOxAGVKw4bAAAAYElEQVQI12NgYFR2dGAAgzAB9h8MDI0MDByZ\n",
       "DFwbGBhMGBi4PjBwG4Al2QoY+gPArH4HhvkMDCEKQNYBBl0eCQegJnYHnl1cjD1ATRwqdkJ+QD4D\n",
       "FPT3wVhnuWCsJkcGADJBEUvsfGs+AAAAAElFTkSuQmCC\n",
       "\" style=\"display:inline;vertical-align:middle;\" /></a><br>"
      ],
      "text/plain": [
       "<IPython.core.display.HTML object>"
      ]
     },
     "metadata": {},
     "output_type": "display_data"
    }
   ],
   "source": [
    "a_i = IndexedVar(a, i)"
   ]
  },
  {
   "cell_type": "code",
   "execution_count": 13,
   "metadata": {},
   "outputs": [
    {
     "data": {
      "text/html": [
       "<strong id=\"a_ip1\">a_ip1:</strong> <a class=\"ProveItLink\" href=\"../__pv_it/common/10b5a10665354ca69f6efe21edbe7e0a68e2b6fd0/common_expr.ipynb\"><img src=\"data:image/png;base64,iVBORw0KGgoAAAANSUhEUgAAACUAAAAOBAMAAABa28jFAAAAMFBMVEX///8AAAAAAAAAAAAAAAAA\n",
       "AAAAAAAAAAAAAAAAAAAAAAAAAAAAAAAAAAAAAAAAAAAv3aB7AAAAD3RSTlMAIquJdkTvuxBmmd1U\n",
       "zTKBpmoTAAAACXBIWXMAAA7EAAAOxAGVKw4bAAAAiklEQVQY02NgYFR2dGBAA2EC7D8YGBqRhTgy\n",
       "Gbg2MDCYwPidFxgYuD4wcBtAuFxAzOcCVMBWwNAfABFjBxE8QLF+B4b5DAwhCihiBxh0eSQcfiCL\n",
       "sTvw7OJi7NmALMahYifkB5RhWF5eVl4+ASwGAf19yOog4CwXpliTI1SM0fYzik/ZGTABF5QGAH8C\n",
       "HZlzbVvFAAAAAElFTkSuQmCC\n",
       "\" style=\"display:inline;vertical-align:middle;\" /></a><br>"
      ],
      "text/plain": [
       "<IPython.core.display.HTML object>"
      ]
     },
     "metadata": {},
     "output_type": "display_data"
    }
   ],
   "source": [
    "a_ip1 = IndexedVar(a, Add(i, one))"
   ]
  },
  {
   "cell_type": "code",
   "execution_count": 14,
   "metadata": {},
   "outputs": [
    {
     "data": {
      "text/html": [
       "<strong id=\"alpha_k\">alpha_k:</strong> <a class=\"ProveItLink\" href=\"../__pv_it/common/6bf27318e99ee62ddd069efc90296ec075ae425d0/common_expr.ipynb\"><img src=\"data:image/png;base64,iVBORw0KGgoAAAANSUhEUgAAABYAAAAMBAMAAACU11D1AAAAMFBMVEX///8AAAAAAAAAAAAAAAAA\n",
       "AAAAAAAAAAAAAAAAAAAAAAAAAAAAAAAAAAAAAAAAAAAv3aB7AAAAD3RSTlMAiasyIt1EEO9UdruZ\n",
       "zWZ7xlX5AAAACXBIWXMAAA7EAAAOxAGVKw4bAAAAd0lEQVQI12NgYBAUMmCAAtcE9haWCRB2FwPD\n",
       "Hq4Cviggk+cDA8NZRgaGNiCbYwMDg4Q4AwtQiKF+AQOD/AQGvg1eAgz8QLYEAwPTkuktDDwbGPjO\n",
       "MzNwrGQAmiz4bjmPFIP/GbglDK/ZAhxgbC3mAAEYewuDngEAYJYWjWk1r3IAAAAASUVORK5CYII=\n",
       "\" style=\"display:inline;vertical-align:middle;\" /></a><br>"
      ],
      "text/plain": [
       "<IPython.core.display.HTML object>"
      ]
     },
     "metadata": {},
     "output_type": "display_data"
    }
   ],
   "source": [
    "alpha_k = IndexedVar(alpha, k)"
   ]
  },
  {
   "cell_type": "code",
   "execution_count": 15,
   "metadata": {},
   "outputs": [
    {
     "data": {
      "text/html": [
       "<strong id=\"bj\">bj:</strong> <a class=\"ProveItLink\" href=\"../__pv_it/common/d26e31a5f86f77aba8a78aaab7ac39ee894a183e0/common_expr.ipynb\"><img src=\"data:image/png;base64,iVBORw0KGgoAAAANSUhEUgAAABAAAAAUBAMAAAB2TKBEAAAAMFBMVEX///8AAAAAAAAAAAAAAAAA\n",
       "AAAAAAAAAAAAAAAAAAAAAAAAAAAAAAAAAAAAAAAAAAAv3aB7AAAAD3RSTlMAELvv3c2ZVESJq3Yi\n",
       "MmZ3LnoBAAAACXBIWXMAAA7EAAAOxAGVKw4bAAAAeElEQVQI12NgVHZggADWBCiDvwDK6BeAMqZA\n",
       "aYao3cvBNONXAfkDDAwXGNg/MjBvYGDwZWALYOCfAJJimcDQXwA1Jl+AcVsBA/8FRjsGNvYABq4H\n",
       "TAkMgpwJDIwr80AWPoBZeADKuAyzZxeMEQd1W68BhMG2TYABAA1YFxj4iqO3AAAAAElFTkSuQmCC\n",
       "\" style=\"display:inline;vertical-align:middle;\" /></a><br>"
      ],
      "text/plain": [
       "<IPython.core.display.HTML object>"
      ]
     },
     "metadata": {},
     "output_type": "display_data"
    }
   ],
   "source": [
    "bj = IndexedVar(b, j)"
   ]
  },
  {
   "cell_type": "code",
   "execution_count": 16,
   "metadata": {},
   "outputs": [
    {
     "data": {
      "text/html": [
       "<strong id=\"b_i\">b_i:</strong> <a class=\"ProveItLink\" href=\"../__pv_it/common/370d9bfc44fef1dec86f0a57d14d7ae6e1b924340/common_expr.ipynb\"><img src=\"data:image/png;base64,iVBORw0KGgoAAAANSUhEUgAAAA8AAAARBAMAAADwJOuSAAAAMFBMVEX///8AAAAAAAAAAAAAAAAA\n",
       "AAAAAAAAAAAAAAAAAAAAAAAAAAAAAAAAAAAAAAAAAAAv3aB7AAAAD3RSTlMAELvv3c2ZVESJq3Yi\n",
       "MmZ3LnoBAAAACXBIWXMAAA7EAAAOxAGVKw4bAAAAbUlEQVQI12NgVHZggADWBCiDvwDK6BeAMqZA\n",
       "aYao3cvBNONXAfkDDDIMDOwfGZg3MMxmYGALYOCfAJJimcDQXwA1Jl+gewGQcYHRjnHDRwYGrgdM\n",
       "CTziQPsYV+YxMDBtgBoqLwtllLJBGVJ7GADBsRT2Qe9USQAAAABJRU5ErkJggg==\n",
       "\" style=\"display:inline;vertical-align:middle;\" /></a><br>"
      ],
      "text/plain": [
       "<IPython.core.display.HTML object>"
      ]
     },
     "metadata": {},
     "output_type": "display_data"
    }
   ],
   "source": [
    "b_i = IndexedVar(b, i)"
   ]
  },
  {
   "cell_type": "code",
   "execution_count": 17,
   "metadata": {},
   "outputs": [
    {
     "data": {
      "text/html": [
       "<strong id=\"b_1_to_i\">b_1_to_i:</strong> <a class=\"ProveItLink\" href=\"../__pv_it/common/6614125435656057a807c01b2703aec599ab667b0/common_expr.ipynb\"><img src=\"data:image/png;base64,iVBORw0KGgoAAAANSUhEUgAAAGsAAAASBAMAAACuvD02AAAAMFBMVEX///8AAAAAAAAAAAAAAAAA\n",
       "AAAAAAAAAAAAAAAAAAAAAAAAAAAAAAAAAAAAAAAAAAAv3aB7AAAAD3RSTlMAELvv3c2ZVESJq3Yi\n",
       "MmZ3LnoBAAAACXBIWXMAAA7EAAAOxAGVKw4bAAABTUlEQVQoz2NgVHZgQAAhEwa8AKGaNQFZPAy/\n",
       "NoRq/gJk4e8EtMFV9wsgiXJ8JKANrnoKsiinAwFtcNVRu5cjOX31rgK82mCqGb8KyB+Ai8oHMv7B\n",
       "G5Jg1TIMDOwfGZg3MD6FCtcLMFgzzlwlgEsbWDXDbAYGtgAG/gm3t0CFUxkYfrIxsOH0IVg1iMEy\n",
       "gaG/gKEEKuzJwPGdv4HnLy5tENWQiMgXgGv7zsD2kU8Atzaw6u4FQMYFRjsGsDaQh/4yCD+ARAOm\n",
       "90AiINWMG4CRy/WAKQGsjfErUHgdgxqQvCIA4ckHMKAxQKp5xIGmMq7MY4DY5gI0Tmoa0DIeRSiP\n",
       "BZQA3RigDJAIWDXTBpgDQNrYYe46xnAGiYcIfJiIvCyyNk4om0f3biKCh5TwYIxSNijjZDwwBqWh\n",
       "HOb//z8geAgAF5Hagyy8gQE3D10EADJYUFvGnc5ZAAAAAElFTkSuQmCC\n",
       "\" style=\"display:inline;vertical-align:middle;\" /></a><br>"
      ],
      "text/plain": [
       "<IPython.core.display.HTML object>"
      ]
     },
     "metadata": {},
     "output_type": "display_data"
    }
   ],
   "source": [
    "b_1_to_i = var_range(b, one, i)"
   ]
  },
  {
   "cell_type": "code",
   "execution_count": 18,
   "metadata": {},
   "outputs": [
    {
     "data": {
      "text/html": [
       "<strong id=\"b_1_to_ip1\">b_1_to_ip1:</strong> <a class=\"ProveItLink\" href=\"../__pv_it/common/5926cc47b442451e81bdc31f016182c775b4fb880/common_expr.ipynb\"><img src=\"data:image/png;base64,iVBORw0KGgoAAAANSUhEUgAAAH8AAAATBAMAAABLpc8BAAAAMFBMVEX///8AAAAAAAAAAAAAAAAA\n",
       "AAAAAAAAAAAAAAAAAAAAAAAAAAAAAAAAAAAAAAAAAAAv3aB7AAAAD3RSTlMAELvv3c2ZVESJq3Yi\n",
       "MmZ3LnoBAAAACXBIWXMAAA7EAAAOxAGVKw4bAAABU0lEQVQ4y6WSv07DMBjEzyGkAlI1G+JvpPQ9\n",
       "IJUQc2YWoooZigRPwdAMsMACE2LzwFaGqhsTnVgQUhl4gA5IMLXOF7s4ck0GTkqan+90TT4brBnj\n",
       "V2UyNc9fTO2EijSp0bETKtKkbmAnVKRJl38QKtKkg969larSNNevIOxbaM4ukL+pL9XGWODsU6e1\n",
       "6ztbAfm4UbidAF6CRvb2KFeIUhzZCsgvnsRV74lT4WbodnAmA0TfeBlaCop0LodeKKaNPQlmBUQf\n",
       "9gLyL25LBUO2AypgUJRvlrnfymd8rBcsj5y0KAgTRfWWGLdcoduMct9fjfUC9nCMosBtKRqIv98T\n",
       "l5sffLrt677D0Y6aUTSigkI0g1MJfur3UTO/Qfnhlv4GWkEmYfD+GmDJnKDyzz2j4PlQnA3GJe1O\n",
       "JsCGOUTlrz/JAv/qh2uBlVKcGwVl38E/5cnfKY48WnjuC9GXAAAAAElFTkSuQmCC\n",
       "\" style=\"display:inline;vertical-align:middle;\" /></a><br>"
      ],
      "text/plain": [
       "<IPython.core.display.HTML object>"
      ]
     },
     "metadata": {},
     "output_type": "display_data"
    }
   ],
   "source": [
    "b_1_to_ip1 = var_range(b, one, Add(i, one))"
   ]
  },
  {
   "cell_type": "code",
   "execution_count": 19,
   "metadata": {},
   "outputs": [
    {
     "data": {
      "text/html": [
       "<strong id=\"b_1_to_j\">b_1_to_j:</strong> <a class=\"ProveItLink\" href=\"../__pv_it/common/d0e70829681f7e0560cecc174fdf76cb311d43400/common_expr.ipynb\"><img src=\"data:image/png;base64,iVBORw0KGgoAAAANSUhEUgAAAGwAAAAUBAMAAACaOcVSAAAAMFBMVEX///8AAAAAAAAAAAAAAAAA\n",
       "AAAAAAAAAAAAAAAAAAAAAAAAAAAAAAAAAAAAAAAAAAAv3aB7AAAAD3RSTlMAELvv3c2ZVESJq3Yi\n",
       "MmZ3LnoBAAAACXBIWXMAAA7EAAAOxAGVKw4bAAABYElEQVQ4y2NgVHZgQAAhEwa8AKGaNQFZPAy/\n",
       "NoRq/gJk4e8EtMFV9wsgiXJ8JKANrnoKsiinAwFtcNVRu5cjOX31rgK82mCqGb8KyB+Ai8oHMv7B\n",
       "G5IQ1RcY2D8yMG9gfAoVrhdgsGacuUoAlzawagYGXwa2AAb+Cbe3QIVTGRh+sjGw4fQhWDWIwTKB\n",
       "ob+AoQQq7MnA8Z2/gecvLm0Q1ZCIyBeAa/vOwPaRTwC3NrBqxm0FDPwXGO0YwNpAHvrLIPwAEg2Y\n",
       "3mMEaQOpZmMPYOB6wJQA1sb4FSi8jkENSF4RgPDkAxgQDDABVi3ImcDAuDKPAWKbC9ACqWlAy3gU\n",
       "oTwWUAJ0Y4AyWBwZoKpZH0AdANLGDnPXMYYzSDwEKIT78ACSNk4om0f3biKChwQmwBiXofTJ+NkM\n",
       "DNJQDvP//x8QPKQg2QBj7UIW3sCAmwcC3HBWHAMZgLXXgBxtbNsEGAA2vVKqHqWE/QAAAABJRU5E\n",
       "rkJggg==\n",
       "\" style=\"display:inline;vertical-align:middle;\" /></a><br>"
      ],
      "text/plain": [
       "<IPython.core.display.HTML object>"
      ]
     },
     "metadata": {},
     "output_type": "display_data"
    }
   ],
   "source": [
    "b_1_to_j = var_range(b, one, j)"
   ]
  },
  {
   "cell_type": "code",
   "execution_count": 20,
   "metadata": {},
   "outputs": [
    {
     "data": {
      "text/html": [
       "<strong id=\"b_1_to_k\">b_1_to_k:</strong> <a class=\"ProveItLink\" href=\"../__pv_it/common/90322d8373d65023569854fae49c596eb605766f0/common_expr.ipynb\"><img src=\"data:image/png;base64,iVBORw0KGgoAAAANSUhEUgAAAG4AAAASBAMAAABIlfZyAAAAMFBMVEX///8AAAAAAAAAAAAAAAAA\n",
       "AAAAAAAAAAAAAAAAAAAAAAAAAAAAAAAAAAAAAAAAAAAv3aB7AAAAD3RSTlMAELvv3c2ZVESJq3Yi\n",
       "MmZ3LnoBAAAACXBIWXMAAA7EAAAOxAGVKw4bAAABQUlEQVQoz2NgVHZgQABUHiZAkmdNQJZA5WEC\n",
       "hDx/AbI4Kg8TIOT7BZDFUXmYACE/BUV8Cn5tSPJRu5cjiaPyMAFcnvGrgPwBRHih8LCEJ1ye/SMD\n",
       "8wbGp1BxME9y1kJc+sDyfN5AFlsAA/+E21ug4mBeAkMKLn1geQYLIItlAkN/AUMJVBzM+8Fw/gIO\n",
       "fWB5ng+QCMkXgOsD8x7i1geW51M4PYGB/wKjHQNYHyhmIDxQaGPGIyNMnmtPoQ0D1wOmBLA+xq9A\n",
       "cQiP1xHCkw+ACsN5YHnm7QwXGBhX5jFA7HMBWgHhHRKA8FhAidGNAUqwOELlz6fBvQHSxw5zGk8C\n",
       "zwEEDwEKofQjDocDSPo4YfKH7l4TQPAQYAKUXs3rAGWejJ/NwCANk7f//x+JhwiXDVCGDsM65PDe\n",
       "gKJqA4Y+bmQOAEtkWiraphjmAAAAAElFTkSuQmCC\n",
       "\" style=\"display:inline;vertical-align:middle;\" /></a><br>"
      ],
      "text/plain": [
       "<IPython.core.display.HTML object>"
      ]
     },
     "metadata": {},
     "output_type": "display_data"
    }
   ],
   "source": [
    "b_1_to_k = var_range(b, one, k)"
   ]
  },
  {
   "cell_type": "code",
   "execution_count": 21,
   "metadata": {},
   "outputs": [
    {
     "data": {
      "text/html": [
       "<strong id=\"b_1_to_m\">b_1_to_m:</strong> <a class=\"ProveItLink\" href=\"../__pv_it/common/6eefced2bf89c9506c31ed6f9f76970894a7c8d00/common_expr.ipynb\"><img src=\"data:image/png;base64,iVBORw0KGgoAAAANSUhEUgAAAHMAAAASBAMAAACaxfwqAAAAMFBMVEX///8AAAAAAAAAAAAAAAAA\n",
       "AAAAAAAAAAAAAAAAAAAAAAAAAAAAAAAAAAAAAAAAAAAv3aB7AAAAD3RSTlMAELvv3c2ZVESJq3Yi\n",
       "MmZ3LnoBAAAACXBIWXMAAA7EAAAOxAGVKw4bAAABQElEQVQ4y2NgVHZgQABUHiZAlWdNYMDJwwQo\n",
       "8vwFDDh5mABFvl+AAScPE6DIT0GRmoJfJ6p81O7lOHmYAFme8auA/AEcPCwhjCzP/pGBeQPjU2Se\n",
       "5KyFuLSC5WEctgAG/gm3tyDzEhhScGkFy8M4LBMY+gsYSpB5PxjOX8ChFaIaEVH5AnCtYN5D3FrB\n",
       "8s/e7l6wTxfIucBoxwDWysgA44GiADN+YfKML+wYrBh2MTBwPWBKgGiVD4DxeB2BQQkVARNwHkie\n",
       "RzqA4S9DJlB0ZR4DRCuLI4x3CGilCxCzgBIsmHBDlufawGvA4A5zDNivhVAOTwLPAQZ2TBfD5Jkv\n",
       "cCvwfLiArBUW6ofuXhNg4MQMI5j8eaC9fArQLHQyfjbQMbC4tv//n4FBGjOYYPJdDKwHeFYju4ob\n",
       "ReEGDK3caHwAviJdAPia358AAAAASUVORK5CYII=\n",
       "\" style=\"display:inline;vertical-align:middle;\" /></a><br>"
      ],
      "text/plain": [
       "<IPython.core.display.HTML object>"
      ]
     },
     "metadata": {},
     "output_type": "display_data"
    }
   ],
   "source": [
    "b_1_to_m = var_range(b, one, m)"
   ]
  },
  {
   "cell_type": "code",
   "execution_count": 22,
   "metadata": {},
   "outputs": [
    {
     "data": {
      "text/html": [
       "<strong id=\"b_1_to_n\">b_1_to_n:</strong> <a class=\"ProveItLink\" href=\"../__pv_it/common/e412a64d744f2b57ff9b13d3bf1075e35d4e6ad10/common_expr.ipynb\"><img src=\"data:image/png;base64,iVBORw0KGgoAAAANSUhEUgAAAG4AAAASBAMAAABIlfZyAAAAMFBMVEX///8AAAAAAAAAAAAAAAAA\n",
       "AAAAAAAAAAAAAAAAAAAAAAAAAAAAAAAAAAAAAAAAAAAv3aB7AAAAD3RSTlMAELvv3c2ZVESJq3Yi\n",
       "MmZ3LnoBAAAACXBIWXMAAA7EAAAOxAGVKw4bAAABXUlEQVQoz2NgVHZgQAAhEwa8AEmeNQFZIgy/\n",
       "PiR5/gJk8e8E9CHk+wWQhDk+4teGJD8FWZzTAb8+JPmo3csR4qyrdxXg04eQZ/wqIH8ALi4fyPgH\n",
       "nz6EPPtHBuYNjE+h4vUCDNaMM1cJ4NIHkoew2AIY+Cfc3gIVT2Vg+MnGwIbTlyB5CItlAkN/AUMJ\n",
       "VNyTgeM7fwPPX1z6QPLw6MsXgOv7zsD2kU8Atz6wfN7tbUB9FxjtGMD6QJ76yyD8ABzajJh6YPJy\n",
       "zQ+YDzBwPWBKAOtj/AoUX8egBiSvCDDIB4BCLwAqDGeA5A9uZeAXYGBcmccAsc8FaKDUNKB1PIpA\n",
       "bzuC/A5Kum4wBlx+NUMzzA0gfeyw0D/GcIaBoRDDnXB5W4Y0XiR9nFA2j+7dRAaGCZhpDCb/gcG3\n",
       "FsI8GT+bgUEaKs78//8HBsYNGPpg8hwLGHY+QBJHUcmNGZ4o8gBtnFcsrIT/+gAAAABJRU5ErkJg\n",
       "gg==\n",
       "\" style=\"display:inline;vertical-align:middle;\" /></a><br>"
      ],
      "text/plain": [
       "<IPython.core.display.HTML object>"
      ]
     },
     "metadata": {},
     "output_type": "display_data"
    }
   ],
   "source": [
    "b_1_to_n = var_range(b, one, n)"
   ]
  },
  {
   "cell_type": "code",
   "execution_count": 23,
   "metadata": {},
   "outputs": [
    {
     "data": {
      "text/html": [
       "<strong id=\"b_j_to_k\">b_j_to_k:</strong> <a class=\"ProveItLink\" href=\"../__pv_it/common/10f30c65c6611de9b6065d33e6f2555198a1cee30/common_expr.ipynb\"><img src=\"data:image/png;base64,iVBORw0KGgoAAAANSUhEUgAAAIIAAAAUBAMAAACzEviQAAAAMFBMVEX///8AAAAAAAAAAAAAAAAA\n",
       "AAAAAAAAAAAAAAAAAAAAAAAAAAAAAAAAAAAAAAAAAAAv3aB7AAAAD3RSTlMAELvv3c2ZVESJq3Yi\n",
       "MmZ3LnoBAAAACXBIWXMAAA7EAAAOxAGVKw4bAAABpUlEQVQ4y2NgVHZgQAAhEwYiAZI+1gRkiTBi\n",
       "TUDSx1+ALP6daBMQ+voFkIQ5PhJtAkLfFGRhTgeiTUDoi9q9HMlzq3cVEGkCXB/jVwH5AwwMFyA8\n",
       "+UDGPwwMvMTEBUQfELB/ZGDewMDgCxGvF2CwZmBguQBT9hSnCWB9fN5AFlsAA/8EuHgqA8NPKBMU\n",
       "Wbe34DQBos8CyGKZwNCP8LonAwcsPhVARAlOE8D6eD5AojVfgHFbASw5sH1kkE4nwgSwPj6F0xMY\n",
       "+C8w2jGwsQcwMIDi9y+D8AOGhFIUEwQwQxFkAkgf155CGwauB0wJDIKcCcDABYqvY1BjYBSYhmwC\n",
       "WFw+AMqA88D6mLcDI5FxZR4oHTxgYHABWiY1DchgiGNgU1IyUtKDuAEkzgIKVzcGKMHiyADRdz7t\n",
       "AtxXwKhlhzv3D4ov2DG9UQilH3E4HIAyL4NSNEye1wDFBE7MYIRF/2peBxhzFxBLw+S5F8BMOBk/\n",
       "G0kcEZIboAwdhnUwb8QB8QZ45ngAdwMDsjgccGMWFr0GSLyIy/A0STRg24YcWNmJpOhlAADIil8d\n",
       "Hbm2CwAAAABJRU5ErkJggg==\n",
       "\" style=\"display:inline;vertical-align:middle;\" /></a><br>"
      ],
      "text/plain": [
       "<IPython.core.display.HTML object>"
      ]
     },
     "metadata": {},
     "output_type": "display_data"
    }
   ],
   "source": [
    "b_j_to_k = var_range(b, j, k)"
   ]
  },
  {
   "cell_type": "code",
   "execution_count": 24,
   "metadata": {},
   "outputs": [
    {
     "data": {
      "text/html": [
       "<strong id=\"b_ip1\">b_ip1:</strong> <a class=\"ProveItLink\" href=\"../__pv_it/common/ff2fac9943968683faa83a72ed9a010d6e8eb0af0/common_expr.ipynb\"><img src=\"data:image/png;base64,iVBORw0KGgoAAAANSUhEUgAAACMAAAATBAMAAADojanHAAAAMFBMVEX///8AAAAAAAAAAAAAAAAA\n",
       "AAAAAAAAAAAAAAAAAAAAAAAAAAAAAAAAAAAAAAAAAAAv3aB7AAAAD3RSTlMAELvv3c2ZVESJq3Yi\n",
       "MmZ3LnoBAAAACXBIWXMAAA7EAAAOxAGVKw4bAAAAl0lEQVQY02NgVHZgQAesCRhC/AUYQv0CGEJT\n",
       "MEQYonYvRxNh/Cogf4BBBlmI/SMD8waG2TCuXAADA1sAA/8EMI8NiHl3A13JMoGhH+IMJrAmB7Cz\n",
       "8gW6F6AIXWC0Y9zwEVmI6wFTAo+4A7IQ48o8IG8DQ5KSspLSA7AQGMjLIqsCg1I2DCGpPVAhnqk/\n",
       "NyD5gwnT/2xQGgDC/ByOMtZe1gAAAABJRU5ErkJggg==\n",
       "\" style=\"display:inline;vertical-align:middle;\" /></a><br>"
      ],
      "text/plain": [
       "<IPython.core.display.HTML object>"
      ]
     },
     "metadata": {},
     "output_type": "display_data"
    }
   ],
   "source": [
    "b_ip1 = IndexedVar(b, Add(i, one))"
   ]
  },
  {
   "cell_type": "code",
   "execution_count": 25,
   "metadata": {},
   "outputs": [
    {
     "data": {
      "text/html": [
       "<strong id=\"b_kp1\">b_kp1:</strong> <a class=\"ProveItLink\" href=\"../__pv_it/common/8df483a90dbc2be7957f33e8b8aa4d476071fdbd0/common_expr.ipynb\"><img src=\"data:image/png;base64,iVBORw0KGgoAAAANSUhEUgAAACYAAAATBAMAAAAOpGKDAAAAMFBMVEX///8AAAAAAAAAAAAAAAAA\n",
       "AAAAAAAAAAAAAAAAAAAAAAAAAAAAAAAAAAAAAAAAAAAv3aB7AAAAD3RSTlMAELvv3c2ZVESJq3Yi\n",
       "MmZ3LnoBAAAACXBIWXMAAA7EAAAOxAGVKw4bAAAApUlEQVQY02NgVHZgwACsCZhi/AWYYv0CmGJT\n",
       "MIUYonYvRxdi/CogfwBNjP0jA/MGPm+EmqcMDGwBDPwTGCzAfJCrbm9hYGCZwNBfwPMBLKYAIkrA\n",
       "zssX4FM4PQFZ7AKjHQPXnkIbJDGuB0wJDMzbGS4giTGuzGNgOJ92gYFNSclISQ8sBgaPOBwOIKkD\n",
       "g9W8DhPQxXQY1sHMOxk/G8VPCliCAxq6AEy9JfQSKFJ8AAAAAElFTkSuQmCC\n",
       "\" style=\"display:inline;vertical-align:middle;\" /></a><br>"
      ],
      "text/plain": [
       "<IPython.core.display.HTML object>"
      ]
     },
     "metadata": {},
     "output_type": "display_data"
    }
   ],
   "source": [
    "b_kp1 = IndexedVar(b, Add(k, one))"
   ]
  },
  {
   "cell_type": "code",
   "execution_count": 26,
   "metadata": {},
   "outputs": [
    {
     "data": {
      "text/html": [
       "<strong id=\"b_j_to_kp1\">b_j_to_kp1:</strong> <a class=\"ProveItLink\" href=\"../__pv_it/common/eeaace00cb97010e02e94c84ea891507c9aa9eca0/common_expr.ipynb\"><img src=\"data:image/png;base64,iVBORw0KGgoAAAANSUhEUgAAAJYAAAAUBAMAAACdV9kCAAAAMFBMVEX///8AAAAAAAAAAAAAAAAA\n",
       "AAAAAAAAAAAAAAAAAAAAAAAAAAAAAAAAAAAAAAAAAAAv3aB7AAAAD3RSTlMAELvv3c2ZVESJq3Yi\n",
       "MmZ3LnoBAAAACXBIWXMAAA7EAAAOxAGVKw4bAAABy0lEQVQ4y52UPUjDQBTH/9fW9MNEo24KtkRw\n",
       "FBE3QRREcBDqIuKgURAHUSPorIOr2EFdXNxEBOkgBevSTZws1M0liI4OHaoUFLxcvi4mhcMHuXvv\n",
       "8efHu3fvAjIwAd+6RyFokco2nY/mRVmRyk6Dj76EWVHKY5ULUnVRVKTyhA/SE6KsSOXi/SXXvOuy\n",
       "IcaKUpKGmq0AVTvKzpFvQBFg2cqgJeuIF4FZO9pXMQYkHDL68y1ZTPlW9Gt6B6Q8OgteZg1o2p5E\n",
       "P+W+dfuYMn7AfGuqXm5pDQUc+wefQcq56xgrujWLKZ9sP2ctu2y8tlVSMtyhkeroWxdgMeWrfBdg\n",
       "Vck4pGQexEr8oMeEvsezSJijusrrh54Kx8qYMR1daR1Zq883GARRz3gWy1sLafCOpcSYofB1kast\n",
       "a1pMJCbp3ntm0nUJq9qAppmMxfIJq73TrjOl2kr5c5NekqaNaEOM5TxKWuqOd4bvQL92QmdMOs+u\n",
       "I3co83XZVqOfNxnKcIBVCL8fZ88Un9NhVpke1pu79guHJZ82i1zesz5nj1UyHy7rcfncyS5Rgv/U\n",
       "TLcuRg7f4196jn+nR8NctFBz517U+L+pVOL/YRsr+J/9AoE/Z0vmHOBkAAAAAElFTkSuQmCC\n",
       "\" style=\"display:inline;vertical-align:middle;\" /></a><br>"
      ],
      "text/plain": [
       "<IPython.core.display.HTML object>"
      ]
     },
     "metadata": {},
     "output_type": "display_data"
    }
   ],
   "source": [
    "b_j_to_kp1 = var_range(b, j, Add(k, one))"
   ]
  },
  {
   "cell_type": "code",
   "execution_count": 27,
   "metadata": {},
   "outputs": [
    {
     "data": {
      "text/html": [
       "<strong id=\"c_i\">c_i:</strong> <a class=\"ProveItLink\" href=\"../__pv_it/common/a407a8b854a930ff1aba37ce301290e9afcb81ab0/common_expr.ipynb\"><img src=\"data:image/png;base64,iVBORw0KGgoAAAANSUhEUgAAAA8AAAAMBAMAAABPbPrXAAAAMFBMVEX///8AAAAAAAAAAAAAAAAA\n",
       "AAAAAAAAAAAAAAAAAAAAAAAAAAAAAAAAAAAAAAAAAAAv3aB7AAAAD3RSTlMAiXZmMiLdVJm77xBE\n",
       "q833A+o+AAAACXBIWXMAAA7EAAAOxAGVKw4bAAAAUklEQVQI12NgYBBSdmAAgbACjgkMW4GMRAYu\n",
       "BQYhBgaO3wwQwDUBytivACQOXWBg4DdgYDitAJQHamF03Z4AFBY01mbgVIAp3AJl1HFAGXtVGQAh\n",
       "Eg7B1lk5JgAAAABJRU5ErkJggg==\n",
       "\" style=\"display:inline;vertical-align:middle;\" /></a><br>"
      ],
      "text/plain": [
       "<IPython.core.display.HTML object>"
      ]
     },
     "metadata": {},
     "output_type": "display_data"
    }
   ],
   "source": [
    "c_i = IndexedVar(c, i)"
   ]
  },
  {
   "cell_type": "code",
   "execution_count": 28,
   "metadata": {},
   "outputs": [
    {
     "data": {
      "text/html": [
       "<strong id=\"c_1_to_i\">c_1_to_i:</strong> <a class=\"ProveItLink\" href=\"../__pv_it/common/7f544f12ad63e3712bd60e5a54402b08e8202c760/common_expr.ipynb\"><img src=\"data:image/png;base64,iVBORw0KGgoAAAANSUhEUgAAAGsAAAANBAMAAABcPI14AAAAMFBMVEX///8AAAAAAAAAAAAAAAAA\n",
       "AAAAAAAAAAAAAAAAAAAAAAAAAAAAAAAAAAAAAAAAAAAv3aB7AAAAD3RSTlMAiXZmMiLdVJm77xBE\n",
       "zatgdeJyAAAACXBIWXMAAA7EAAAOxAGVKw4bAAABGUlEQVQoz2NgYBBSdmCAA0YlEwa8AKY6rIBj\n",
       "AlyQNZ2hE68usOqtQEYiA5cCty1UlE2AYRG34LsNOLWBVDMIMTBw/AZynNSgov1ADRwMHAm4dIFV\n",
       "gwAX2IVlUN5KIOY/wPoFlzYumH/2KyBp4/4EJJg34NYGVn3oAdBsAwaGA2BtIA99ZmDgAQZnAoSH\n",
       "CrgZIKpPKwBdCgwYRgeQNu6/QGFgMIowMLhtgPD2X2BAMMAESLXrdpDXBY21IY5MA1rAKGy0gYF1\n",
       "NpTH1gBkZDBAGWzZUNWcCjAHgLSxw9wVwRCKxEOAapgHtyBrY4RF+RSXbgQPCQhA6VoOKCPwPjAG\n",
       "N8EC+f//DwgeUpDA3LZPFVlYgQE3DwSYkNgAY7lASBlocg0AAAAASUVORK5CYII=\n",
       "\" style=\"display:inline;vertical-align:middle;\" /></a><br>"
      ],
      "text/plain": [
       "<IPython.core.display.HTML object>"
      ]
     },
     "metadata": {},
     "output_type": "display_data"
    }
   ],
   "source": [
    "c_1_to_i = var_range(c, one, i)"
   ]
  },
  {
   "cell_type": "code",
   "execution_count": 29,
   "metadata": {},
   "outputs": [
    {
     "data": {
      "text/html": [
       "<strong id=\"c_1_to_j\">c_1_to_j:</strong> <a class=\"ProveItLink\" href=\"../__pv_it/common/197f625500e1374c769a9a88f526b5b80f714d350/common_expr.ipynb\"><img src=\"data:image/png;base64,iVBORw0KGgoAAAANSUhEUgAAAGwAAAAPBAMAAADzKDcKAAAAMFBMVEX///8AAAAAAAAAAAAAAAAA\n",
       "AAAAAAAAAAAAAAAAAAAAAAAAAAAAAAAAAAAAAAAAAAAv3aB7AAAAD3RSTlMAiXZmMiLdVJm77xBE\n",
       "zatgdeJyAAAACXBIWXMAAA7EAAAOxAGVKw4bAAABKUlEQVQoz2NgYBBSdmCAA0YlEwa8AKY6rIBj\n",
       "AlyQNZ2hE68uiGqgzkQGLgVuW6gomwDDIm7BdxtwagOpZmBIYeD4DeQ4qUFF+4EaOBg4EnDpAqsG\n",
       "AS6wC8ugvJVAzH+A9QsubVww/+xXQNLG/QlIMG/ArQ2smlujgIHfgIHhAFgbyEOfGRh4gMGZAOGh\n",
       "Am6QS0CqOdgvMAADhtEBpI37L1AYGIwiDAxuGyC8/RcYEAwwAVa9m7GBgUHQWBviyDSgBYzCRhsY\n",
       "WGdDeWxAaYYMBiiDLZsBqprXAOoAkDZ2mLsiGEKReAhQDWPwByBpY4RF+RSXbgQPCQjAGF5QOvC+\n",
       "EAPDJlgg////AcFDChIFGEsPWViBATcPBJjgrMsMZADeIwvI0cahsYEBAEizQDNB+itXAAAAAElF\n",
       "TkSuQmCC\n",
       "\" style=\"display:inline;vertical-align:middle;\" /></a><br>"
      ],
      "text/plain": [
       "<IPython.core.display.HTML object>"
      ]
     },
     "metadata": {},
     "output_type": "display_data"
    }
   ],
   "source": [
    "c_1_to_j = var_range(c, one, j)"
   ]
  },
  {
   "cell_type": "code",
   "execution_count": 30,
   "metadata": {},
   "outputs": [
    {
     "data": {
      "text/html": [
       "<strong id=\"c_1_to_k\">c_1_to_k:</strong> <a class=\"ProveItLink\" href=\"../__pv_it/common/847fd9e18bcb1cd068c4b44622f3fd12a6ad6a150/common_expr.ipynb\"><img src=\"data:image/png;base64,iVBORw0KGgoAAAANSUhEUgAAAG4AAAANBAMAAAC6FUY8AAAAMFBMVEX///8AAAAAAAAAAAAAAAAA\n",
       "AAAAAAAAAAAAAAAAAAAAAAAAAAAAAAAAAAAAAAAAAAAv3aB7AAAAD3RSTlMAiXZmMiLdVJm77xBE\n",
       "zatgdeJyAAAACXBIWXMAAA7EAAAOxAGVKw4bAAABCUlEQVQoz2NgYBBSdmBAAFQeJoDLhxVwTEAI\n",
       "o/IwAUI+kYFLgdsWJg7ibZR7jVMfSJ45Ccjg+A0knNSgwmBeA0MbLm1geYY1QMwFtrYMKg7m/WGI\n",
       "x+VHsDzrByCxXwFZH5hnjVsfWJ55QpAAA78BA8MBsL4NQAzhMYhBeKiAGybPp1q9lAEYPIwOIH3c\n",
       "f0HuB/NYsiG8/RegwnAeWJ5LnQHoHkFjbYg700BWgHmRGyA8tgagSAYDlGDLhsrHd8C9AdLHDnMa\n",
       "awNrAIKHANVQ2pInIQBJHyNMPtLFYwOChwACUPoRSwKUGXhfiIFhE0x+/f//SDxEuChAGVMZHiOH\n",
       "twKKKgUMfUzIHADP7kDA0BK3PAAAAABJRU5ErkJggg==\n",
       "\" style=\"display:inline;vertical-align:middle;\" /></a><br>"
      ],
      "text/plain": [
       "<IPython.core.display.HTML object>"
      ]
     },
     "metadata": {},
     "output_type": "display_data"
    }
   ],
   "source": [
    "c_1_to_k = var_range(c, one, k)"
   ]
  },
  {
   "cell_type": "code",
   "execution_count": 31,
   "metadata": {},
   "outputs": [
    {
     "data": {
      "text/html": [
       "<strong id=\"c_1_to_n\">c_1_to_n:</strong> <a class=\"ProveItLink\" href=\"../__pv_it/common/2ae8a0336550b4d1a519316f74812fe20fc282a60/common_expr.ipynb\"><img src=\"data:image/png;base64,iVBORw0KGgoAAAANSUhEUgAAAG8AAAANBAMAAABV1y0CAAAAMFBMVEX///8AAAAAAAAAAAAAAAAA\n",
       "AAAAAAAAAAAAAAAAAAAAAAAAAAAAAAAAAAAAAAAAAAAv3aB7AAAAD3RSTlMAiXZmMiLdVJm77xBE\n",
       "zatgdeJyAAAACXBIWXMAAA7EAAAOxAGVKw4bAAABLklEQVQoz2NgYBBSdmCAA0YlEwa8AKE6rIBj\n",
       "AlyYNZ2hE68+JNWJDFwK3LZQDpsAwyJuwXcbcGoEqYawOH4DCSc1qHg/UAsHA0cCLn1g1RDABba5\n",
       "DMpbCcT8B1i/4NLIhfDVfgUkjdyfgATzBtwawaotTJQagOYbMDAcAGsEeewzAwMPMGgTGLgxNYHk\n",
       "QapP2yxmWAp09QQGRgeQRu6/QAlgkIowMLhtYNh/AWT+BagwnAFS7brpAgPIq4LG2hCnpgGNZBQ2\n",
       "2sDAOhsYvNmgMAa6iCEDxgDJg1XzKfAsgDkDpJEdFgkRDKEMDNUYToXLczlwNDggaWSEJYIpLt0M\n",
       "DAIYGmHyDPEMbO5QjYH3hRgYNsEM/P//AwO3AoZGmDzDOQYmYWQJFKVMmKGKahQAiiZBc2ZfmacA\n",
       "AAAASUVORK5CYII=\n",
       "\" style=\"display:inline;vertical-align:middle;\" /></a><br>"
      ],
      "text/plain": [
       "<IPython.core.display.HTML object>"
      ]
     },
     "metadata": {},
     "output_type": "display_data"
    }
   ],
   "source": [
    "c_1_to_n = var_range(c, one, n)"
   ]
  },
  {
   "cell_type": "code",
   "execution_count": 32,
   "metadata": {},
   "outputs": [
    {
     "data": {
      "text/html": [
       "<strong id=\"d_1_to_i\">d_1_to_i:</strong> <a class=\"ProveItLink\" href=\"../__pv_it/common/37a91a137e264e047f9b455f2dd46a6e393f2ba70/common_expr.ipynb\"><img src=\"data:image/png;base64,iVBORw0KGgoAAAANSUhEUgAAAHEAAAASBAMAAACeMCwXAAAAMFBMVEX///8AAAAAAAAAAAAAAAAA\n",
       "AAAAAAAAAAAAAAAAAAAAAAAAAAAAAAAAAAAAAAAAAAAv3aB7AAAAD3RSTlMAMs3vmVREEIndIqt2\n",
       "u2aBbGR5AAAACXBIWXMAAA7EAAAOxAGVKw4bAAABYUlEQVQ4y2NgYGBgVHZgQAJCJgz4AZJ6/gAU\n",
       "ma8EdCKpzy9AFmf7TkgnQn0nijjHBEI6EepVUMSZHAjphKrn2nEQ2WOre+QD8GpDqE9ewIvkMTYr\n",
       "hvsFeHVC1FcxMLDbMbAoMLA/gooXP2BwYmDv2I1TN0Q9Qw8DA8sHBs4GBpmTUAl/BoYZDCwMLDhD\n",
       "CaIeBJgvMNQnMDBEQiVsGdi/MfAncH3EpROqHgjqDzC8Z4DrZP/DwPeBga8At06I+pwNQFYAwybW\n",
       "BWCdQL+xf2XgVoiCxCmmV0EiYPXLDwADifcA6xQWsJ3sn4ASdxgiHYDxKVkA4dYrMKAxwOq5SoEm\n",
       "s+9pXH0Q4tqZQDOrT0jtEWDgug7lcoJSxRQGKAMkAlHPewDuEJBOVrj7ljCsQubCAEKkvhBFJwc8\n",
       "mVwUdEfiIlI0nBXEAmOt0AdGbQ085P///4DEhQOESPUpFIkDDPi46CIAZSlhdP7HaFgAAAAASUVO\n",
       "RK5CYII=\n",
       "\" style=\"display:inline;vertical-align:middle;\" /></a><br>"
      ],
      "text/plain": [
       "<IPython.core.display.HTML object>"
      ]
     },
     "metadata": {},
     "output_type": "display_data"
    }
   ],
   "source": [
    "d_1_to_i = var_range(d, one, i)"
   ]
  },
  {
   "cell_type": "code",
   "execution_count": 33,
   "metadata": {},
   "outputs": [
    {
     "data": {
      "text/html": [
       "<strong id=\"d_1_to_j\">d_1_to_j:</strong> <a class=\"ProveItLink\" href=\"../__pv_it/common/3a0a577ca242f8b53c62b1ad21f292478e9a7a130/common_expr.ipynb\"><img src=\"data:image/png;base64,iVBORw0KGgoAAAANSUhEUgAAAHIAAAAUBAMAAACjXnQJAAAAMFBMVEX///8AAAAAAAAAAAAAAAAA\n",
       "AAAAAAAAAAAAAAAAAAAAAAAAAAAAAAAAAAAAAAAAAAAv3aB7AAAAD3RSTlMAMs3vmVREEIndIqt2\n",
       "u2aBbGR5AAAACXBIWXMAAA7EAAAOxAGVKw4bAAABbUlEQVQ4y2NgYGBgVHZgQAJCJgz4AZJ6/gAU\n",
       "ma8EdCKpzy9AFmf7TkgnQn0nijjHBEI6EepVUMSZHAjphKrn2nEQ2WOre+QD8GpDqE9ewIvkMTYr\n",
       "hvsFeHVC1QswsNsxsCgwsD+Cihc/YHBiYO/YjVM3RD0Dw0QGlg8MnA0MMiehEv4MDDMYWBhYcIYS\n",
       "RD0IMF9gqE9gYIiEStgysH9j4E/g+ohLJ1Q9ENQfYHjPANfJ/oeB7wMDXwFunRD17EcCGOoDGDax\n",
       "LgDrBPqN/SsDt0IUJE4xvQoSgahnYVVg4D3AOoUFbCf7J6DEHYZIB2B8ShZAuPUKDGgMiPpyDgcG\n",
       "9j2Nqw9CXDsTaGb1Cak9Agxc16FcTlCqmMIAZYBEoOqZHsAcAtLJCnffEoZVyFwYQBLhX4CskwOe\n",
       "TC4KuiNxESkawRSGMVbo9zAw1MBD/v//D0hcOEASOY0icYABHxdVRI+BPMCUaECmTpYjBQwAeShg\n",
       "OQ6QDtAAAAAASUVORK5CYII=\n",
       "\" style=\"display:inline;vertical-align:middle;\" /></a><br>"
      ],
      "text/plain": [
       "<IPython.core.display.HTML object>"
      ]
     },
     "metadata": {},
     "output_type": "display_data"
    }
   ],
   "source": [
    "d_1_to_j = var_range(d, one, j)"
   ]
  },
  {
   "cell_type": "code",
   "execution_count": 34,
   "metadata": {},
   "outputs": [
    {
     "data": {
      "text/html": [
       "<strong id=\"d_1_to_k\">d_1_to_k:</strong> <a class=\"ProveItLink\" href=\"../__pv_it/common/3f945ad94f1b3a31f48f04379e4e37f4de0c613b0/common_expr.ipynb\"><img src=\"data:image/png;base64,iVBORw0KGgoAAAANSUhEUgAAAHQAAAASBAMAAAB4GedTAAAAMFBMVEX///8AAAAAAAAAAAAAAAAA\n",
       "AAAAAAAAAAAAAAAAAAAAAAAAAAAAAAAAAAAAAAAAAAAv3aB7AAAAD3RSTlMAMs3vmVREEIndIqt2\n",
       "u2aBbGR5AAAACXBIWXMAAA7EAAAOxAGVKw4bAAABS0lEQVQ4y2NgYGBgVHZgQAJoXEyArIA/AEUK\n",
       "jYsJkBTkF6DIoHExAZKCTlSZTgI6kRWooMqoENIKU8C14+BXJGE0LiZAUpC8gPc7kgwaFxMgFLDb\n",
       "MbAoMLA/YkDmVnRvx6UTooBvDpDJ8oGBs4FB5iRUBsJ1YPDEpRWigMEMyGS+wFCfwMAQCZWBcL8x\n",
       "rBfAoRWigOsDkFl/gOE9A0IrhPsct1aIAr4LaxoY6gMYNrEuAGtlB8lAuKCow0wYCAXcp8KtGHgP\n",
       "sE5hgdhar8AA4zJOZ2D/BBUCM+A8iALmowwCDOx7GlcfhGjlnM4A464FWjkTiDlBCX0KA5RAKFjv\n",
       "gvAQ2K/h8Gh34FrAwIrpYriCt2wTFqBobYDx1gqKFDBwYIYRXMEexgkw9gr9HqBbDsBk7P//Z2Co\n",
       "wQwmuIJbDPtQooAHVeEBDK2oCgCcrWU2J5LFXQAAAABJRU5ErkJggg==\n",
       "\" style=\"display:inline;vertical-align:middle;\" /></a><br>"
      ],
      "text/plain": [
       "<IPython.core.display.HTML object>"
      ]
     },
     "metadata": {},
     "output_type": "display_data"
    }
   ],
   "source": [
    "d_1_to_k = var_range(d, one, k)"
   ]
  },
  {
   "cell_type": "code",
   "execution_count": 35,
   "metadata": {},
   "outputs": [
    {
     "data": {
      "text/html": [
       "<strong id=\"e_1_to_i\">e_1_to_i:</strong> <a class=\"ProveItLink\" href=\"../__pv_it/common/07261ca8a65844302f42b9a5766582c41febb8be0/common_expr.ipynb\"><img src=\"data:image/png;base64,iVBORw0KGgoAAAANSUhEUgAAAG0AAAANBAMAAABRIv0/AAAAMFBMVEX///8AAAAAAAAAAAAAAAAA\n",
       "AAAAAAAAAAAAAAAAAAAAAAAAAAAAAAAAAAAAAAAAAAAv3aB7AAAAD3RSTlMAEIl2mUTdMiJmu6tU\n",
       "ze/kkN0jAAAACXBIWXMAAA7EAAAOxAGVKw4bAAABGElEQVQoz2NgYFQ2EWCAA1QeFiBk7AhhhBWw\n",
       "KyCEUXmYgDWdoYiBQYKBgeMnA3MAg+QFiDCYx6i0G6ed/RMYTBkYlBkYuD4bqzKwGydAhME8FgaW\n",
       "BFz61hsbBYAZ/BtAJA9UIZjHH8DxHZe+3zAGvwGKPhCPUwC3vs8gIhhoOhswGA6A9TEywHgMTAlg\n",
       "HhoAeToJaAejwUeg4RcYRBrA+uQvwHgMZQJgHuNfBogwgjeXgdGDQwbkOqOZBhB3siXCeBwLobwU\n",
       "kBMcYEQa0EJmzcnA0DOAOQHsv4MwXgtDBxIPDnhgsSMvjqIPFuEcy8sdETwEYIIxzrLAVOp+MmBg\n",
       "hNnO9///BwQPAYRhDGkLZGFmBtw8MEA2CQA4dThN69WPjwAAAABJRU5ErkJggg==\n",
       "\" style=\"display:inline;vertical-align:middle;\" /></a><br>"
      ],
      "text/plain": [
       "<IPython.core.display.HTML object>"
      ]
     },
     "metadata": {},
     "output_type": "display_data"
    }
   ],
   "source": [
    "e_1_to_i = var_range(e, one, i)"
   ]
  },
  {
   "cell_type": "code",
   "execution_count": 36,
   "metadata": {},
   "outputs": [
    {
     "data": {
      "text/html": [
       "<strong id=\"e_1_to_j\">e_1_to_j:</strong> <a class=\"ProveItLink\" href=\"../__pv_it/common/112b485d383370aac0748a3a045d8672788e7e3a0/common_expr.ipynb\"><img src=\"data:image/png;base64,iVBORw0KGgoAAAANSUhEUgAAAG4AAAAPBAMAAAD33ec3AAAAMFBMVEX///8AAAAAAAAAAAAAAAAA\n",
       "AAAAAAAAAAAAAAAAAAAAAAAAAAAAAAAAAAAAAAAAAAAv3aB7AAAAD3RSTlMAEIl2mUTdMiJmu6tU\n",
       "ze/kkN0jAAAACXBIWXMAAA7EAAAOxAGVKw4bAAABKElEQVQoz2NgYFQ2EWCAA1QeFiBk7AhhhBWw\n",
       "KyCEUXmYgDWdoQhIFTBw/GRgDmCQvAARBvMYlXbjtLN/AoMpkEpn4PpsrMrAbpwAEQbzWBhYEnDp\n",
       "W29sFABm8G8AkTxQhWAefwDHd1z6fsMY/AYo+kA8TgHc+j6DA8/kAAMbMBgOgPUxAkUgPAamBDAP\n",
       "DYA8nQS0g4GF5wID5wUGkQawPnlg2EB4DGUCYB7jXwaIMII3l4HRg0GQyYGBwWimAcSdbIkMUB7H\n",
       "QigvBeQEBxiRBrSQWXMykMU7AeoEsP8OwhzUwtCBxIMDHnjs8Dcg64NFOMfyckcEDwGY4Kw6mErd\n",
       "TwYMjAZQHt///x8QPAQQhrOskYWZGXDzwABh0k0GcgBv+AOy9LEAswwA3/c7Hu0m/rAAAAAASUVO\n",
       "RK5CYII=\n",
       "\" style=\"display:inline;vertical-align:middle;\" /></a><br>"
      ],
      "text/plain": [
       "<IPython.core.display.HTML object>"
      ]
     },
     "metadata": {},
     "output_type": "display_data"
    }
   ],
   "source": [
    "e_1_to_j = var_range(e, one, j)"
   ]
  },
  {
   "cell_type": "code",
   "execution_count": 37,
   "metadata": {},
   "outputs": [
    {
     "data": {
      "text/html": [
       "<strong id=\"e_1_to_k\">e_1_to_k:</strong> <a class=\"ProveItLink\" href=\"../__pv_it/common/3376976bcf2562d502a659e9c7aba88d9834398b0/common_expr.ipynb\"><img src=\"data:image/png;base64,iVBORw0KGgoAAAANSUhEUgAAAHAAAAANBAMAAACDcvdnAAAAMFBMVEX///8AAAAAAAAAAAAAAAAA\n",
       "AAAAAAAAAAAAAAAAAAAAAAAAAAAAAAAAAAAAAAAAAAAv3aB7AAAAD3RSTlMAEIl2mUTdMiJmu6tU\n",
       "ze/kkN0jAAAACXBIWXMAAA7EAAAOxAGVKw4bAAABK0lEQVQoz2NgYFQ2EWCAA1QeFiBk7AhlhRWw\n",
       "KyDEUXmYgDWdoQjC4vjJwBzAIHkBiceotBunrf0TGEwZOJOBLK7PxqoM7MYJEHEwj4WBJQGXxvXG\n",
       "RgEMDE+BLP4NID4PVCWYxx/A8R2Xxt9gd30AqTJA0QjicQrg1vgZRHAuaFZgYAOGxQGwRkagEITH\n",
       "wJQA5qEBkMeTgJYwcFscfMHAeYFBpAGsUR4YQBAeQ5kAmAcmGP8iM+YyMHow8NkwFDAwGM00gDiV\n",
       "LZEByuNYCOWxOQCJFBgjDWgls+ZkYNC6FMBcAfbjQRivhaEDiQcHPLBImsWa0ICsERbzHMvLHRE8\n",
       "BGCCMTazJ0BlOXQ/GTAwGkDF+f7//4DgIYAwjLGCYWcBkjgziipmzFBFMQoAxiM/3UZCysIAAAAA\n",
       "SUVORK5CYII=\n",
       "\" style=\"display:inline;vertical-align:middle;\" /></a><br>"
      ],
      "text/plain": [
       "<IPython.core.display.HTML object>"
      ]
     },
     "metadata": {},
     "output_type": "display_data"
    }
   ],
   "source": [
    "e_1_to_k = var_range(e, one, k)"
   ]
  },
  {
   "cell_type": "code",
   "execution_count": 38,
   "metadata": {},
   "outputs": [
    {
     "data": {
      "text/html": [
       "<strong id=\"f_1_to_k\">f_1_to_k:</strong> <a class=\"ProveItLink\" href=\"../__pv_it/common/40bf87b8f76c03bbb380df352bc52645397969100/common_expr.ipynb\"><img src=\"data:image/png;base64,iVBORw0KGgoAAAANSUhEUgAAAHEAAAASBAMAAACeMCwXAAAAMFBMVEX///8AAAAAAAAAAAAAAAAA\n",
       "AAAAAAAAAAAAAAAAAAAAAAAAAAAAAAAAAAAAAAAAAAAv3aB7AAAAD3RSTlMAmYkQqzLvVES73WZ2\n",
       "Is1wFLxSAAAACXBIWXMAAA7EAAAOxAGVKw4bAAABZUlEQVQ4y2NgYGBgVDJgQAJCygz4AUKBSlgB\n",
       "kjiTazp+jUgK0juR7WSrmIxfJ0IBx2cUiX4DAo5FKGBagCKhRUAjQgG32xIBJPEtWY74NSIp4D+A\n",
       "IvOHkJ0IBfcDGJj3wXm8XxmYlVzw+BWogGEXxLJ6BoaYU3AJ9g8MjAyMC3DrBCpgYGuA+7iKASm8\n",
       "+BtA5uKMTqCp9yHMKSg6OR0YuA3w6QQqYNjJewjEzIHqZIbE8wGouZheNYAr8LludgHo4x9QnfYP\n",
       "wOEF8kKUAQPzP6gQKgOiIKeAFepjsE6uxdDwYuAFJa9VQCu4QDG9kAHKWGUAVcD7URTEYnSA+bMY\n",
       "RIgA8UWGu0ATMZwLEQEq4J7QxcvAUMJXANOpAJR0eA40cmqoMNCvmKHKAFXAciAKyF5pB+Rfeq8D\n",
       "9AfQ61yTgR5i+/8f6AMbDJ0gEbACzgssWxkY9sjCJHhAifjgBRj3AIbOAygKABAdWKRZ3d8wAAAA\n",
       "AElFTkSuQmCC\n",
       "\" style=\"display:inline;vertical-align:middle;\" /></a><br>"
      ],
      "text/plain": [
       "<IPython.core.display.HTML object>"
      ]
     },
     "metadata": {},
     "output_type": "display_data"
    }
   ],
   "source": [
    "f_1_to_k = var_range(f, one, k)"
   ]
  },
  {
   "cell_type": "code",
   "execution_count": 39,
   "metadata": {},
   "outputs": [
    {
     "data": {
      "text/html": [
       "<strong id=\"f_k\">f_k:</strong> <a class=\"ProveItLink\" href=\"../__pv_it/common/65e74ecaa1cd7a400463b8847a76ebae04cd4a2e0/common_expr.ipynb\"><img src=\"data:image/png;base64,iVBORw0KGgoAAAANSUhEUgAAABIAAAASBAMAAACk4JNkAAAAMFBMVEX///8AAAAAAAAAAAAAAAAA\n",
       "AAAAAAAAAAAAAAAAAAAAAAAAAAAAAAAAAAAAAAAAAAAv3aB7AAAAD3RSTlMAmYkQqzLvVES73WZ2\n",
       "Is1wFLxSAAAACXBIWXMAAA7EAAAOxAGVKw4bAAAAgklEQVQI12NgYGBgVDJggACVsAIoK70TKsbx\n",
       "GSrCwLQAyuB2WyIAZfIfgMneD2DgXgNm1QNxBpilxcDA+wHMmgLUNeGOApCVw8DAcrY4Fyjzg4GB\n",
       "7ThDAAMDO1DNfcEAkEscGBh2ciy4wFDCB3SID+sCBYaVdkDxuQzeAQx7ZKFWAQBoxxnRqbdljwAA\n",
       "AABJRU5ErkJggg==\n",
       "\" style=\"display:inline;vertical-align:middle;\" /></a><br>"
      ],
      "text/plain": [
       "<IPython.core.display.HTML object>"
      ]
     },
     "metadata": {},
     "output_type": "display_data"
    }
   ],
   "source": [
    "f_k = IndexedVar(f, k)"
   ]
  },
  {
   "cell_type": "code",
   "execution_count": 40,
   "metadata": {},
   "outputs": [
    {
     "data": {
      "text/html": [
       "<strong id=\"i_k\">i_k:</strong> <a class=\"ProveItLink\" href=\"../__pv_it/common/8eab8eb89ee8c933016e0d32aeea47ab8d314b1f0/common_expr.ipynb\"><img src=\"data:image/png;base64,iVBORw0KGgoAAAANSUhEUgAAABAAAAARBAMAAAAmgTH3AAAAMFBMVEX///8AAAAAAAAAAAAAAAAA\n",
       "AAAAAAAAAAAAAAAAAAAAAAAAAAAAAAAAAAAAAAAAAAAv3aB7AAAAD3RSTlMAdpndiRBmRO8yVM2r\n",
       "IrsWj4mGAAAACXBIWXMAAA7EAAAOxAGVKw4bAAAAZ0lEQVQI12NgYBBigAITBkKAVSgBwmBhb4Aw\n",
       "ZjFtYGAzBDICOAQYGNpBQusDGHg/gBh7WBnYHlx0YGD9zsLAI7u0l4HzwzUGDimGCQwMxxIY7itN\n",
       "gBiRx25wAcw4yGngAGa8ZTg2AQDekxT0KK72lAAAAABJRU5ErkJggg==\n",
       "\" style=\"display:inline;vertical-align:middle;\" /></a><br>"
      ],
      "text/plain": [
       "<IPython.core.display.HTML object>"
      ]
     },
     "metadata": {},
     "output_type": "display_data"
    }
   ],
   "source": [
    "i_k = IndexedVar(i, k)"
   ]
  },
  {
   "cell_type": "code",
   "execution_count": 41,
   "metadata": {},
   "outputs": [
    {
     "data": {
      "text/html": [
       "<strong id=\"j_k\">j_k:</strong> <a class=\"ProveItLink\" href=\"../__pv_it/common/4f39ea57e22e81e0297b8073a1136fa9720b789f0/common_expr.ipynb\"><img src=\"data:image/png;base64,iVBORw0KGgoAAAANSUhEUgAAABMAAAASBAMAAABLIvhaAAAAMFBMVEX///8AAAAAAAAAAAAAAAAA\n",
       "AAAAAAAAAAAAAAAAAAAAAAAAAAAAAAAAAAAAAAAAAAAv3aB7AAAAD3RSTlMAMrsQds2rme9mIlTd\n",
       "iUQmv6lAAAAACXBIWXMAAA7EAAAOxAGVKw4bAAAAfUlEQVQI12NgYGBgVGaAAZYABmKBiRucWcAx\n",
       "AaZ/Af8GhjkOICYzw34DBo4HEPEaBob1UCVnGRgmcfmCWFz/GBhSVlssADI5PzAwtGxgBImyKTBw\n",
       "fS8EK+VwYOBUeMMFFNsw34CBzUGGl4FBfsNpBgamBWwTGRjY3aGmMwAAIEkXBrH4OysAAAAASUVO\n",
       "RK5CYII=\n",
       "\" style=\"display:inline;vertical-align:middle;\" /></a><br>"
      ],
      "text/plain": [
       "<IPython.core.display.HTML object>"
      ]
     },
     "metadata": {},
     "output_type": "display_data"
    }
   ],
   "source": [
    "j_k = IndexedVar(j, k)"
   ]
  },
  {
   "cell_type": "code",
   "execution_count": 42,
   "metadata": {},
   "outputs": [
    {
     "data": {
      "text/html": [
       "<strong id=\"n_k\">n_k:</strong> <a class=\"ProveItLink\" href=\"../__pv_it/common/18e953da08e0368ef64a61553d682ba013af95bf0/common_expr.ipynb\"><img src=\"data:image/png;base64,iVBORw0KGgoAAAANSUhEUgAAABUAAAAMBAMAAAB/4Ov2AAAAMFBMVEX///8AAAAAAAAAAAAAAAAA\n",
       "AAAAAAAAAAAAAAAAAAAAAAAAAAAAAAAAAAAAAAAAAAAv3aB7AAAAD3RSTlMARHarECKJu90yVM1m\n",
       "75kejotwAAAACXBIWXMAAA7EAAAOxAGVKw4bAAAAdUlEQVQI12NgVHZNKmKAADZ2Iwb/AAhbkKOA\n",
       "IX4CwwkFINvBX4BhvQMDrwBIYj0DgzUDQzxYEZDxh4XhOKsakH2NgesLG4NRlG8AA+tPBqYNJxku\n",
       "LeBkYGBsYGCxWcD67yUDDPAUSLDC2MwKM9hgbPYA5pMMADzrFl6FeH/GAAAAAElFTkSuQmCC\n",
       "\" style=\"display:inline;vertical-align:middle;\" /></a><br>"
      ],
      "text/plain": [
       "<IPython.core.display.HTML object>"
      ]
     },
     "metadata": {},
     "output_type": "display_data"
    }
   ],
   "source": [
    "n_k = IndexedVar(n, k)"
   ]
  },
  {
   "cell_type": "code",
   "execution_count": 43,
   "metadata": {},
   "outputs": [
    {
     "data": {
      "text/html": [
       "<strong id=\"i_1_to_m\">i_1_to_m:</strong> <a class=\"ProveItLink\" href=\"../__pv_it/common/c28352b4a8e4db67cee2e18f69311f5dd88888390/common_expr.ipynb\"><img src=\"data:image/png;base64,iVBORw0KGgoAAAANSUhEUgAAAG0AAAASBAMAAACjok1xAAAAMFBMVEX///8AAAAAAAAAAAAAAAAA\n",
       "AAAAAAAAAAAAAAAAAAAAAAAAAAAAAAAAAAAAAAAAAAAv3aB7AAAAD3RSTlMAdpndiRBmRO8yVM2r\n",
       "IrsWj4mGAAAACXBIWXMAAA7EAAAOxAGVKw4bAAABHklEQVQoz2NgYBBiQAIoHEyALG3CgIuDCQhI\n",
       "D0LAKpSAg4NfLQt7AwN2DiZAlp7FtIGBNRuJE+JzFJc+kDQMBHAIMEwURuIoMCjj0geShoP1AQwM\n",
       "i5E43xnuT8ClEaQWBvawIukDclLx6ANKJ2UKHhB7CQyj7ywQfawMUA6DM9BFmGEJkWZNb2PoYZBh\n",
       "YOD8cA2iL34DlMNpysD6GyoAJuA8oDRv4AaGnwwqQIFjCRB9zKZQzj2gZcZAzKzAACWMkKR5BDgb\n",
       "GKygjgD7bymEzavAe4GBC9OhUGmOCYwPeD9MQNLnAGHfmzkpgIEFM0yg0veBNrI9UACzr+x3BPoC\n",
       "Gjf9//8zMARihgtUuoaB+wLvQSTnMCKrEsDQx4jKBQDeKEhjplIaaAAAAABJRU5ErkJggg==\n",
       "\" style=\"display:inline;vertical-align:middle;\" /></a><br>"
      ],
      "text/plain": [
       "<IPython.core.display.HTML object>"
      ]
     },
     "metadata": {},
     "output_type": "display_data"
    }
   ],
   "source": [
    "i_1_to_m = var_range(i, one, m)"
   ]
  },
  {
   "cell_type": "code",
   "execution_count": 44,
   "metadata": {},
   "outputs": [
    {
     "data": {
      "text/html": [
       "<strong id=\"i_1_to_n\">i_1_to_n:</strong> <a class=\"ProveItLink\" href=\"../__pv_it/common/93225504bc91e9be143d744388e2311bf74f9ba70/common_expr.ipynb\"><img src=\"data:image/png;base64,iVBORw0KGgoAAAANSUhEUgAAAGoAAAASBAMAAABBflYIAAAAMFBMVEX///8AAAAAAAAAAAAAAAAA\n",
       "AAAAAAAAAAAAAAAAAAAAAAAAAAAAAAAAAAAAAAAAAAAv3aB7AAAAD3RSTlMAdpndiRBmRO8yVM2r\n",
       "IrsWj4mGAAAACXBIWXMAAA7EAAAOxAGVKw4bAAABJUlEQVQoz2NgYBBiQAIoHEzAqABjmSALm+DX\n",
       "xezAMEQAq1ACDg4WEKgGZbCwNyBEUThYgEMFlDGLaQMDazYSJ8TnKC5NnAu0oawADgGGicJIHAUG\n",
       "ZZy+YWiEMdcHMDAsRuJ8Z7g/AZc2rq8w1h5WJF1ATioeXdwHAtjUJgLTD+t3FoguVgYoh8EZ6FQs\n",
       "rgOC+AKHsIoEjgsMnB+uQXTFb2CAcDhNGVh/g9T9horCGQzzeROuSjPwA808lgDRxWzKAOHcAwoa\n",
       "gywzAokqwBggaZ40BoaDDLDgB/trKYTNq8B7gYEL04lQaYZOBiVOJF3Q5Hxv5qQABhYsMQw19AOD\n",
       "5Uow68p+R6DrBSDC/f//A5MOZmhApdkPMIggJTtGZDUCmPkRmQMA1YdBtsZ0sqQAAAAASUVORK5C\n",
       "YII=\n",
       "\" style=\"display:inline;vertical-align:middle;\" /></a><br>"
      ],
      "text/plain": [
       "<IPython.core.display.HTML object>"
      ]
     },
     "metadata": {},
     "output_type": "display_data"
    }
   ],
   "source": [
    "i_1_to_n = var_range(i, one, n)"
   ]
  },
  {
   "cell_type": "code",
   "execution_count": 45,
   "metadata": {},
   "outputs": [
    {
     "data": {
      "text/html": [
       "<strong id=\"j_1_to_m\">j_1_to_m:</strong> <a class=\"ProveItLink\" href=\"../__pv_it/common/49db88303f66142538f3c8690d4e6c29af914f270/common_expr.ipynb\"><img src=\"data:image/png;base64,iVBORw0KGgoAAAANSUhEUgAAAHMAAAASBAMAAACaxfwqAAAAMFBMVEX///8AAAAAAAAAAAAAAAAA\n",
       "AAAAAAAAAAAAAAAAAAAAAAAAAAAAAAAAAAAAAAAAAAAv3aB7AAAAD3RSTlMAMrsQds2rme9mIlTd\n",
       "iUQmv6lAAAAACXBIWXMAAA7EAAAOxAGVKw4bAAABW0lEQVQ4y2NgYGBgVGZAAkIGDHgBijxLALKU\n",
       "K36dBOUHNTBxQ+IwuyTgVYwqX8AxAcFhZ+jEqxVFnmUB/wYGS1ggezH8ZrC9loxTK0ge4QSG/QaM\n",
       "LgegPAPuzwwFDDU4tYLkkQBQIfcBuIsOMPxjWC+A28UHkHlnkbXyXGCYjE8rUH76RJcET0UQh+sf\n",
       "RCszWGr9AyBxB+gyzMCFyjPP62RoYwBHC+cHiFZ7cFDNByXqwwzMXxkgImAGnAeS5zIJYPjIUAvi\n",
       "sClAtPIcBvGSgHgR0MozQMxTAOQcZ4AScHk2B8YGhtMgDocD1K+bQbwWoA8KuBYwcGO6GCbPIcCi\n",
       "wPVBgIFtw3wDqNYLDAzZnMCwXyQobsDAixlCMPn1QHs5FQoY5DcArea6+teBgdmBgfE3zwYGhv7/\n",
       "/4HJEzOYYPLPGFgXcKUYMLC7P4AlKyAuqYMpdMDQiirPwAAAbPxWgoYtIrQAAAAASUVORK5CYII=\n",
       "\" style=\"display:inline;vertical-align:middle;\" /></a><br>"
      ],
      "text/plain": [
       "<IPython.core.display.HTML object>"
      ]
     },
     "metadata": {},
     "output_type": "display_data"
    }
   ],
   "source": [
    "j_1_to_m = var_range(j, one, m)"
   ]
  },
  {
   "cell_type": "code",
   "execution_count": 46,
   "metadata": {},
   "outputs": [
    {
     "data": {
      "text/html": [
       "<strong id=\"j_1_to_n\">j_1_to_n:</strong> <a class=\"ProveItLink\" href=\"../__pv_it/common/152324565e35c531ed90e69acc883f5ff8d6d64a0/common_expr.ipynb\"><img src=\"data:image/png;base64,iVBORw0KGgoAAAANSUhEUgAAAG8AAAASBAMAAACnV51MAAAAMFBMVEX///8AAAAAAAAAAAAAAAAA\n",
       "AAAAAAAAAAAAAAAAAAAAAAAAAAAAAAAAAAAAAAAAAAAv3aB7AAAAD3RSTlMAMrsQds2rme9mIlTd\n",
       "iUQmv6lAAAAACXBIWXMAAA7EAAAOxAGVKw4bAAABSklEQVQ4y2NgYGBgVGZAAkIGDHgBkjxLALKE\n",
       "K359BOUHJTBxQ+IwuyTgVYwsX8AxASHBztCJVyOSPMsC/g0MlrCA9WL4zWB7LRmnRpA8zHKG/QaM\n",
       "LgegPAPuzwwFDDU4NYLk4QCojPsA3C0HGP4xrBfA7dYDCPZZZI08Fxgm49MIlJ8+0aUAxOT6B9HI\n",
       "DJZY/wBI3AG6CTNAofLM8zoZukBMzg8QjfbgAJoPSryHGZi/MkBFQASCB5TnMglgAHuUTQGikecw\n",
       "iJcExIuA1p0BYh6Qi8DEcQYkeTYHvgYQk8MB6sfNIF4L0O0FXAsYuDHdCpPnEGAvEGBg2zDfAKrx\n",
       "AgNDNifQEYsExQ0YeDHDBSa/noFHWoBBfsNpoB1X/zowMDswMP7m2cDA0P//PzAhYgYOTP4ZA8tN\n",
       "YLy4P4AlISAuqYMpc8DQiCoPAJZLUkQo3iSRAAAAAElFTkSuQmCC\n",
       "\" style=\"display:inline;vertical-align:middle;\" /></a><br>"
      ],
      "text/plain": [
       "<IPython.core.display.HTML object>"
      ]
     },
     "metadata": {},
     "output_type": "display_data"
    }
   ],
   "source": [
    "j_1_to_n = var_range(j, one, n)"
   ]
  },
  {
   "cell_type": "code",
   "execution_count": 47,
   "metadata": {},
   "outputs": [
    {
     "data": {
      "text/html": [
       "<strong id=\"k_1_to_m\">k_1_to_m:</strong> <a class=\"ProveItLink\" href=\"../__pv_it/common/ae6698abaead37a2a92e4666844a997289f8f6b40/common_expr.ipynb\"><img src=\"data:image/png;base64,iVBORw0KGgoAAAANSUhEUgAAAHcAAAASBAMAAACTLlxQAAAAMFBMVEX///8AAAAAAAAAAAAAAAAA\n",
       "AAAAAAAAAAAAAAAAAAAAAAAAAAAAAAAAAAAAAAAAAAAv3aB7AAAAD3RSTlMAELvv3c2ZVESJq2Yi\n",
       "MnY6gD36AAAACXBIWXMAAA7EAAAOxAGVKw4bAAABgklEQVQ4y2NgVHZgQAJCJgz4AaoC1gQUyTAC\n",
       "mlEV8BegyH0npBlFQb8AMo/jIwG9qAomo8hxGhDQjKogiqEyESkEFrBPE8CnGUUB42/2GmuEnPyG\n",
       "8sMb8GlGUcD+p503hkE6AMqtP1Fw9YDkrIU4NYMVwDhs1hcYGHjfwSI7eS+QSGBIwakZrAAGWMJy\n",
       "QfbDNLumAc36wXD+Ai7NYAVwPxT0X0BoZvzO8ZeBYSNuzRAF2/a+W/Bal4Fhv4B8wQOwZkagHPdH\n",
       "xu98QHoKAwNmmMMVMO6wZrBieMXAsJRB/sIEsGZ5YKBxBTD+5QSGgSMD41cGiBCYgPPACnjkAhj+\n",
       "MmQyMKgz8OUJgDWzODIwMBUwPHvIwHAIaK0LELOA0j2YcGNAVsD1gNeAwR0eYSA/F8J4PAk8BxjY\n",
       "Md0NV8B8gU+B58MFZM0TYHKH7l4TYODEDC24gvNAu7kVoNmRZ+rPBwyMD2By9v//MzDIYQYYXEEX\n",
       "A+sBnnXITuNDVfoAQzMfugAA6fJo4ut7cgsAAAAASUVORK5CYII=\n",
       "\" style=\"display:inline;vertical-align:middle;\" /></a><br>"
      ],
      "text/plain": [
       "<IPython.core.display.HTML object>"
      ]
     },
     "metadata": {},
     "output_type": "display_data"
    }
   ],
   "source": [
    "k_1_to_m = var_range(k, one, m)"
   ]
  },
  {
   "cell_type": "code",
   "execution_count": 48,
   "metadata": {},
   "outputs": [
    {
     "data": {
      "text/html": [
       "<strong id=\"n_1_to_m\">n_1_to_m:</strong> <a class=\"ProveItLink\" href=\"../__pv_it/common/90ed4018efee6d0468f5b03694cdbe4ca466f4a10/common_expr.ipynb\"><img src=\"data:image/png;base64,iVBORw0KGgoAAAANSUhEUgAAAH0AAAANBAMAAAB2jHzXAAAAMFBMVEX///8AAAAAAAAAAAAAAAAA\n",
       "AAAAAAAAAAAAAAAAAAAAAAAAAAAAAAAAAAAAAAAAAAAv3aB7AAAAD3RSTlMARHarECKJu90yVM1m\n",
       "75kejotwAAAACXBIWXMAAA7EAAAOxAGVKw4bAAABWElEQVQoz2NgVHZNKmJAACGTMHUFBnwAVQUb\n",
       "uxGDfwBCNqFYgeUrXv2oKgQ5ChjiJzD4bIBwGQXaGVh/Mrglm+DSDlUBAw7+AgzrHTiVGiBcFpaP\n",
       "DFxfGB4wvMClH6oCDtYzMFgzMHBB9TNwfWBg3sDwEeQmHACiAg6Amv+wIPQDpfgPOBzBox+i4txJ\n",
       "JQOdSiD3GtA1bBD9DkDMmwD0TgIDQwbQpZh64SpSDt5huMygzAAKCqYNJ8H6WX4DZYH2avNMYOBs\n",
       "YWDw3wAVAzEQPLCKqU4bGH4yPAMGZwMDi80CiP0dQOMlGBicTzEwhAOZHEAzGPqAmOMBjECoYFbg\n",
       "vMDQhQgUkH4uBxiX9QErME0swQw7uAreCUwFrB8moOhng6sLnzkPqDIBQz9CRTzQBTwFD2D2ZX8D\n",
       "JkknuOz9//+BvsVMxwgVwgzcAaxGDiiyaOqZMMMfw0QAVRFaubeJYi4AAAAASUVORK5CYII=\n",
       "\" style=\"display:inline;vertical-align:middle;\" /></a><br>"
      ],
      "text/plain": [
       "<IPython.core.display.HTML object>"
      ]
     },
     "metadata": {},
     "output_type": "display_data"
    }
   ],
   "source": [
    "n_1_to_m = var_range(n, one, m)"
   ]
  },
  {
   "cell_type": "code",
   "execution_count": 49,
   "metadata": {},
   "outputs": [
    {
     "data": {
      "text/html": [
       "<strong id=\"v_i\">v_i:</strong> <a class=\"ProveItLink\" href=\"../__pv_it/common/a254f08dc43e96207439c1710df29672f7d1db3b0/common_expr.ipynb\"><img src=\"data:image/png;base64,iVBORw0KGgoAAAANSUhEUgAAABAAAAAMBAMAAACZySCyAAAAMFBMVEX///8AAAAAAAAAAAAAAAAA\n",
       "AAAAAAAAAAAAAAAAAAAAAAAAAAAAAAAAAAAAAAAAAAAv3aB7AAAAD3RSTlMAEHaJZt1U76symc27\n",
       "IkSKjfYVAAAACXBIWXMAAA7EAAAOxAGVKw4bAAAAXklEQVQI12NgVHZgCGMAAma2AoYKBsYLDNO4\n",
       "NjAkMzArMAiwKzBMA0kx5AswKIAZSxkYDPg0gIwTDGwXhPgFGBisGS4xXEwFinC1ODAwHGKAAMaP\n",
       "EyAMtg0LoCJNFwBJAxCXG0L49wAAAABJRU5ErkJggg==\n",
       "\" style=\"display:inline;vertical-align:middle;\" /></a><br>"
      ],
      "text/plain": [
       "<IPython.core.display.HTML object>"
      ]
     },
     "metadata": {},
     "output_type": "display_data"
    }
   ],
   "source": [
    "v_i = IndexedVar(v, i)"
   ]
  },
  {
   "cell_type": "code",
   "execution_count": 50,
   "metadata": {},
   "outputs": [
    {
     "data": {
      "text/html": [
       "<strong id=\"v_j\">v_j:</strong> <a class=\"ProveItLink\" href=\"../__pv_it/common/9c40e11ce949d62fd4aef12a43c42119e4bd63140/common_expr.ipynb\"><img src=\"data:image/png;base64,iVBORw0KGgoAAAANSUhEUgAAABEAAAAPBAMAAADwnzkiAAAAMFBMVEX///8AAAAAAAAAAAAAAAAA\n",
       "AAAAAAAAAAAAAAAAAAAAAAAAAAAAAAAAAAAAAAAAAAAv3aB7AAAAD3RSTlMAEHaJZt1U76symc27\n",
       "IkSKjfYVAAAACXBIWXMAAA7EAAAOxAGVKw4bAAAAbElEQVQI12NgVHZgCGMAAWa2AoYKBgZOBoZp\n",
       "XBsYkhkYWCcwCLArMEwDyzLkCzAoQFhLGRgMGISWAVknGNguMCzIBrKsGS4xMApYAVlcLQ5AcgsD\n",
       "DPyFMTgLYCymBhiL2wHK2DcdJrRoIQMDAF5OEVTE1inTAAAAAElFTkSuQmCC\n",
       "\" style=\"display:inline;vertical-align:middle;\" /></a><br>"
      ],
      "text/plain": [
       "<IPython.core.display.HTML object>"
      ]
     },
     "metadata": {},
     "output_type": "display_data"
    }
   ],
   "source": [
    "v_j = IndexedVar(v, j)"
   ]
  },
  {
   "cell_type": "code",
   "execution_count": 51,
   "metadata": {},
   "outputs": [
    {
     "data": {
      "text/html": [
       "<strong id=\"w_i\">w_i:</strong> <a class=\"ProveItLink\" href=\"../__pv_it/common/9ec7e252a8ee7670425daadc7cc4416bb92766dc0/common_expr.ipynb\"><img src=\"data:image/png;base64,iVBORw0KGgoAAAANSUhEUgAAABUAAAAMBAMAAAB/4Ov2AAAAMFBMVEX///8AAAAAAAAAAAAAAAAA\n",
       "AAAAAAAAAAAAAAAAAAAAAAAAAAAAAAAAAAAAAAAAAAAv3aB7AAAAD3RSTlMAEHaJZjKZVN3vq7tE\n",
       "zSL5cm/iAAAACXBIWXMAAA7EAAAOxAGVKw4bAAAAdUlEQVQI12NgVHZgCGOoEGAAAmb2CQyrGc4f\n",
       "YJBjYAhna2CYxMD7gMGIgUGAU4H1KwMbAxjUCzBNYGCCsHMZuBcwxDAcWgBk72LgMGAwYFT4CGRb\n",
       "M5xcwHOAT7wByGZLVlxmwsDArcAAB/KiCHYtG4ItpccAAJBSE8xZF92wAAAAAElFTkSuQmCC\n",
       "\" style=\"display:inline;vertical-align:middle;\" /></a><br>"
      ],
      "text/plain": [
       "<IPython.core.display.HTML object>"
      ]
     },
     "metadata": {},
     "output_type": "display_data"
    }
   ],
   "source": [
    "w_i = IndexedVar(w, i)"
   ]
  },
  {
   "cell_type": "code",
   "execution_count": 52,
   "metadata": {},
   "outputs": [
    {
     "data": {
      "text/html": [
       "<strong id=\"w_j\">w_j:</strong> <a class=\"ProveItLink\" href=\"../__pv_it/common/3617a402d02c87974fb8ee68c7244cf78c5dab160/common_expr.ipynb\"><img src=\"data:image/png;base64,iVBORw0KGgoAAAANSUhEUgAAABYAAAAPBAMAAAASQyJbAAAAMFBMVEX///8AAAAAAAAAAAAAAAAA\n",
       "AAAAAAAAAAAAAAAAAAAAAAAAAAAAAAAAAAAAAAAAAAAv3aB7AAAAD3RSTlMAEHaJZjKZVN3vq7tE\n",
       "zSL5cm/iAAAACXBIWXMAAA7EAAAOxAGVKw4bAAAAhElEQVQI12NgVHZgCGOoEGAAAmb2CQyrGc4f\n",
       "YGAIYAhna2CYxMD7gIGhlUGAU4H1KwMbAxjUCzBNYGCCsHMZuBcwxDAwqhUwMOxi4DBgMGBgY7/A\n",
       "wGDNcHIBzwEGQeYEBga2ZMVlJkC1vA4McMD/AMGORDAZtJDYV+As3qMT4Gw2NQEGAHr1FifAxXVx\n",
       "AAAAAElFTkSuQmCC\n",
       "\" style=\"display:inline;vertical-align:middle;\" /></a><br>"
      ],
      "text/plain": [
       "<IPython.core.display.HTML object>"
      ]
     },
     "metadata": {},
     "output_type": "display_data"
    }
   ],
   "source": [
    "w_j = IndexedVar(w, j)"
   ]
  },
  {
   "cell_type": "code",
   "execution_count": 53,
   "metadata": {},
   "outputs": [
    {
     "data": {
      "text/html": [
       "<strong id=\"V_i\">V_i:</strong> <a class=\"ProveItLink\" href=\"../__pv_it/common/a93d02cd91621b4857d9893b5d619d5b9fd631ba0/common_expr.ipynb\"><img src=\"data:image/png;base64,iVBORw0KGgoAAAANSUhEUgAAABEAAAARBAMAAADJQ1rJAAAAMFBMVEX///8AAAAAAAAAAAAAAAAA\n",
       "AAAAAAAAAAAAAAAAAAAAAAAAAAAAAAAAAAAAAAAAAAAv3aB7AAAAD3RSTlMAds27VDLdmRBEq+8i\n",
       "iWYU/rnEAAAACXBIWXMAAA7EAAAOxAGVKw4bAAAAeUlEQVQI12MQ+m/CwBD2rYCBgeMTAwMD5wIg\n",
       "wbAbiLlADAZ9IBYFs9YfYOC5AGbdnwCVZHj/gOElA0MPkDX/AkjyIpDVbwCVZOBPeAllsf0ASk4E\n",
       "Gc38GWiRwA8gi/0nAwNPSwKQxVcAkhCAqmXob4WxnNhhrC4ZBgA8yBt8SVFFCAAAAABJRU5ErkJg\n",
       "gg==\n",
       "\" style=\"display:inline;vertical-align:middle;\" /></a><br>"
      ],
      "text/plain": [
       "<IPython.core.display.HTML object>"
      ]
     },
     "metadata": {},
     "output_type": "display_data"
    }
   ],
   "source": [
    "V_i = IndexedVar(V, i)"
   ]
  },
  {
   "cell_type": "code",
   "execution_count": 54,
   "metadata": {},
   "outputs": [
    {
     "data": {
      "text/html": [
       "<strong id=\"V_j\">V_j:</strong> <a class=\"ProveItLink\" href=\"../__pv_it/common/a6db95fa2fd897bad83ee031e6d9830e293e736b0/common_expr.ipynb\"><img src=\"data:image/png;base64,iVBORw0KGgoAAAANSUhEUgAAABIAAAAUBAMAAAByuXB5AAAAMFBMVEX///8AAAAAAAAAAAAAAAAA\n",
       "AAAAAAAAAAAAAAAAAAAAAAAAAAAAAAAAAAAAAAAAAAAv3aB7AAAAD3RSTlMAds27VDLdmRBEq+8i\n",
       "iWYU/rnEAAAACXBIWXMAAA7EAAAOxAGVKw4bAAAAhUlEQVQI12MQ+m/CwBD2rYCBgeMTAwMD5wIg\n",
       "wbAbiLlADAZ9IBYFs9YfYOC5AGbdnwCVZHj/gOElkApgYJh/ASyZysDQbwCVZOBPeAllsf0ASnKI\n",
       "OzAwMH8GctlZFIDETyCrgxdoMV8BSA3TAwaYvgMwVjSMwSAFZ+lBaaapG6AsdvEGBgC5txtV7AJd\n",
       "YwAAAABJRU5ErkJggg==\n",
       "\" style=\"display:inline;vertical-align:middle;\" /></a><br>"
      ],
      "text/plain": [
       "<IPython.core.display.HTML object>"
      ]
     },
     "metadata": {},
     "output_type": "display_data"
    }
   ],
   "source": [
    "V_j = IndexedVar(V, j)"
   ]
  },
  {
   "cell_type": "code",
   "execution_count": 55,
   "metadata": {},
   "outputs": [
    {
     "data": {
      "text/html": [
       "<strong id=\"v_1_to_m\">v_1_to_m:</strong> <a class=\"ProveItLink\" href=\"../__pv_it/common/c2fda9b0e26e0091905d2e26d0ecc915cd038c430/common_expr.ipynb\"><img src=\"data:image/png;base64,iVBORw0KGgoAAAANSUhEUgAAAHYAAAANBAMAAACObIcgAAAAMFBMVEX///8AAAAAAAAAAAAAAAAA\n",
       "AAAAAAAAAAAAAAAAAAAAAAAAAAAAAAAAAAAAAAAAAAAv3aB7AAAAD3RSTlMAEHaJZt1U76symc27\n",
       "IkSKjfYVAAAACXBIWXMAAA7EAAAOxAGVKw4bAAABJUlEQVQoz32QvUrEQBRGT7Jmww7EDbK9URtB\n",
       "i4DlNnmALWKhhZXiA2ipXRALy0VwxU5B+30BCzvt1EoE0c52wUos1slk8mcSb3XPzPmYOxdjKWCT\n",
       "tMpUUyWh1d7ngHqqqZIwEmN26Y0LZKyduE3ZRNfl2h6jzmJYIIEIm7JKyGjPxaMdFqj74Xw3Dq30\n",
       "tG7Az7Mxzbj/ZJVwfbpsDoZwT/tRZY34ShEtidUvZ0LvM7AjM4I+z6jsfLwvRZy5GD8kR1mTC08r\n",
       "dIfCB3EcJFlrHU3Onew25MPWpWy20E0uHHGOta3HUf/dSYd75U0eVYfOhENWee8Us74G5+HiSv65\n",
       "uqdMmMiXB0JD/8vDSHdvT6cTmKvuKhVmI255WShcmWXTq2T/CPwCR0pEKRyLQwwAAAAASUVORK5C\n",
       "YII=\n",
       "\" style=\"display:inline;vertical-align:middle;\" /></a><br>"
      ],
      "text/plain": [
       "<IPython.core.display.HTML object>"
      ]
     },
     "metadata": {},
     "output_type": "display_data"
    }
   ],
   "source": [
    "v_1_to_m = var_range(v, one, m)"
   ]
  },
  {
   "cell_type": "code",
   "execution_count": 56,
   "metadata": {},
   "outputs": [
    {
     "data": {
      "text/html": [
       "<strong id=\"v_1_to_n\">v_1_to_n:</strong> <a class=\"ProveItLink\" href=\"../__pv_it/common/c125dfbd922a143db6d6ca09c2aeb21939547a670/common_expr.ipynb\"><img src=\"data:image/png;base64,iVBORw0KGgoAAAANSUhEUgAAAHIAAAANBAMAAACHhydaAAAAMFBMVEX///8AAAAAAAAAAAAAAAAA\n",
       "AAAAAAAAAAAAAAAAAAAAAAAAAAAAAAAAAAAAAAAAAAAv3aB7AAAAD3RSTlMAEHaJZt1U76symc27\n",
       "IkSKjfYVAAAACXBIWXMAAA7EAAAOxAGVKw4bAAABOElEQVQoz2NgVHZgCGOAAyETBtYEBtwASTkz\n",
       "WwFDBULGIJ2BvQGPTiTl07g2MCQziGyA8DgTVjOwGQhbNOLSCVEOBgLsCgzTOJUCoI5hKALqXsCw\n",
       "FJdOsHIoO1+AQYGBDaqTge0jAxPDP4b7E3BpBSuHAKDxBgidXAEMzAyOeHSClLMsmaQFZJ5gYLsA\n",
       "1skIkuBpYMgFUqZAd2GGKwNUuchzB/YLDAzWDJcYwDrlQaHEvIEX6BjOQAbG3wwQITADzgMrv6jN\n",
       "wA80mKvFAaKTNRBk5goXIHEHKB4KxKwLgJwoBigBVgBW3sTwHOYQsD8TYTzeBbxAD2A6F66gkmEV\n",
       "J7JOA5jEnZmzBIABhQFgCng/MERmQpnWnxUYGGGhzVD//z8wHWKGEEwBXwMDMBEiABOqOgUMnagK\n",
       "ANFMQGSuYGklAAAAAElFTkSuQmCC\n",
       "\" style=\"display:inline;vertical-align:middle;\" /></a><br>"
      ],
      "text/plain": [
       "<IPython.core.display.HTML object>"
      ]
     },
     "metadata": {},
     "output_type": "display_data"
    }
   ],
   "source": [
    "v_1_to_n = var_range(v, one, n)"
   ]
  },
  {
   "cell_type": "code",
   "execution_count": 57,
   "metadata": {},
   "outputs": [
    {
     "data": {
      "text/html": [
       "<strong id=\"W_i\">W_i:</strong> <a class=\"ProveItLink\" href=\"../__pv_it/common/48dd360224613082aa56080a612a1388341489c20/common_expr.ipynb\"><img src=\"data:image/png;base64,iVBORw0KGgoAAAANSUhEUgAAABkAAAARBAMAAADalBo9AAAAMFBMVEX///8AAAAAAAAAAAAAAAAA\n",
       "AAAAAAAAAAAAAAAAAAAAAAAAAAAAAAAAAAAAAAAAAAAv3aB7AAAAD3RSTlMAic3vu0Sr3RBUZiKZ\n",
       "djLVooVUAAAACXBIWXMAAA7EAAAOxAGVKw4bAAAAp0lEQVQI12MQ+uzKkPw9g2H65wUMDAysHxkY\n",
       "GL8C6QQgh4H7D4THCOIwcHxjYGD6xcAQCuYxfGJguPWXgUEAwjNn4J73kYFrA4RXzMAI1NsLZHUD\n",
       "sT7DPI4vYIWyQOzfcIHhE2sARCHD+b0NDOaMUA6D/Eqg3hVARizI/vsOQL1AV3Fc+AHkrQea7Q5y\n",
       "VGcBkAwEYlGQFpYLDEigvw+ZN4kHmdd2mwEAlEsoSjqA2PIAAAAASUVORK5CYII=\n",
       "\" style=\"display:inline;vertical-align:middle;\" /></a><br>"
      ],
      "text/plain": [
       "<IPython.core.display.HTML object>"
      ]
     },
     "metadata": {},
     "output_type": "display_data"
    }
   ],
   "source": [
    "W_i = IndexedVar(W, i)"
   ]
  },
  {
   "cell_type": "code",
   "execution_count": 58,
   "metadata": {},
   "outputs": [
    {
     "data": {
      "text/html": [
       "<strong id=\"w_1_to_m\">w_1_to_m:</strong> <a class=\"ProveItLink\" href=\"../__pv_it/common/89adcaa85b5df83eeb59d004a874073ff36e2cae0/common_expr.ipynb\"><img src=\"data:image/png;base64,iVBORw0KGgoAAAANSUhEUgAAAIQAAAANBAMAAACa1duEAAAAMFBMVEX///8AAAAAAAAAAAAAAAAA\n",
       "AAAAAAAAAAAAAAAAAAAAAAAAAAAAAAAAAAAAAAAAAAAv3aB7AAAAD3RSTlMAEHaJZjKZVN3vq7tE\n",
       "zSL5cm/iAAAACXBIWXMAAA7EAAAOxAGVKw4bAAABcElEQVQoz2NgVHZgCGOoEGCAASETBtYE9kYG\n",
       "PABNCTP7BIbVDOcPwOUNKhm4NvD8wWcEmpJwtgaGSQy8Dxh9IXzWggwGTgWGe4zGqwRwmABTAuML\n",
       "cCqwfmVgYwjSgPAZgQbGBzAksDEAzcYOYErgAvUCTBMYmBgYKqB89o8MmgwMCvwH+L7i8ghUCZyf\n",
       "y8C9gCEGYQTbBYZdDKwHWARwGwFTkhKkxeQdwADkcBgwGECMAPkeaGAzAzMooBuATsYASEpETjpw\n",
       "LmBawMBgzXByAc8BsBGMf0E6N/DMYjgDZEQIMMhfgAqCCTgPquShLgN/ABvQdrZkxWUmDBBXdIDs\n",
       "SDOSSnZgYODbyMDAAYr7NgYowZGApmQRQyQDRwHChSAj2JHi8RnDOwaGQsygRFIylUGb4T0rqhHM\n",
       "CC7f1tBEBlAYoQFkJR+A7vBmg/Mf3zcCplyEPOf//x8YGBUwEzeCybMAmLxeKaLKo+tgwowRTEMB\n",
       "8yRYEV3oLiwAAAAASUVORK5CYII=\n",
       "\" style=\"display:inline;vertical-align:middle;\" /></a><br>"
      ],
      "text/plain": [
       "<IPython.core.display.HTML object>"
      ]
     },
     "metadata": {},
     "output_type": "display_data"
    }
   ],
   "source": [
    "w_1_to_m = var_range(w, one, m)"
   ]
  },
  {
   "cell_type": "code",
   "execution_count": 59,
   "metadata": {},
   "outputs": [
    {
     "data": {
      "text/html": [
       "<strong id=\"w_1_to_n\">w_1_to_n:</strong> <a class=\"ProveItLink\" href=\"../__pv_it/common/fac0b6fe041e561302fb17e003c1220773514cc00/common_expr.ipynb\"><img src=\"data:image/png;base64,iVBORw0KGgoAAAANSUhEUgAAAIAAAAANBAMAAACTPnv+AAAAMFBMVEX///8AAAAAAAAAAAAAAAAA\n",
       "AAAAAAAAAAAAAAAAAAAAAAAAAAAAAAAAAAAAAAAAAAAv3aB7AAAAD3RSTlMAEHaJZjKZVN3vq7tE\n",
       "zSL5cm/iAAAACXBIWXMAAA7EAAAOxAGVKw4bAAABZUlEQVQoz2NgVHZgCGOoEGCAASETBtYE9kYG\n",
       "PABFCTP7BIbVDOcPwGUNKhm4NvD8wWcAipJwtgaGSQy8Dxh9IXzWggwGTgWGe4zGqwRw6IcpgfAE\n",
       "OBVYvzKwMQRpQPiMQOPiAxgS2BiAJmMHMCVQbr0A0wQGJgaGCiif/SODJgODAv8Bvq+4vABVAuXl\n",
       "MnAvYIhBGMB2gWEXA+sBFgHcBsCUpASpAXm7GDgMGAwgBoB8DTSumYEZFLwNQMdiACQlIicdOB8w\n",
       "MFgznFzAcwBsAONfkL4NPLMYzgAZEQIM8heANIgAy8AZUCUPdRn4geaxJSsuM2GAuKADZH6akVSy\n",
       "AwMD30YGBg5QXHOAQqsNxkBWsojhJJLbQAawI8XcM4Z3DAyFmAGIpGQqQxorqgHMCC7f1tBEBlDY\n",
       "oAFkJR8YWkvhvMf3jYBpFCHL+f//BwZGBcxkjGDyLGAA5gMUgK6eCTMW0JUAAIYlVDB7xIblAAAA\n",
       "AElFTkSuQmCC\n",
       "\" style=\"display:inline;vertical-align:middle;\" /></a><br>"
      ],
      "text/plain": [
       "<IPython.core.display.HTML object>"
      ]
     },
     "metadata": {},
     "output_type": "display_data"
    }
   ],
   "source": [
    "w_1_to_n = var_range(w, one, n)"
   ]
  },
  {
   "cell_type": "code",
   "execution_count": 60,
   "metadata": {},
   "outputs": [
    {
     "data": {
      "text/html": [
       "<strong id=\"x_i\">x_i:</strong> <a class=\"ProveItLink\" href=\"../__pv_it/common/10495029b586e6269f13533b75adece018314b450/common_expr.ipynb\"><img src=\"data:image/png;base64,iVBORw0KGgoAAAANSUhEUgAAABIAAAAMBAMAAACdPPCPAAAAMFBMVEX///8AAAAAAAAAAAAAAAAA\n",
       "AAAAAAAAAAAAAAAAAAAAAAAAAAAAAAAAAAAAAAAAAAAv3aB7AAAAD3RSTlMAEHarMolUmd1mIs3v\n",
       "RLtmgJDEAAAACXBIWXMAAA7EAAAOxAGVKw4bAAAAYUlEQVQI12NgEFIWCU1gAIECJiP2BgbGBQyc\n",
       "Czg/Mk9gYFVgYGFg38AABTwKMNb9BYwCvMoMDHIXbBhYGYT4BRjyHWsYrjEszGBgEFdiqwQa9wim\n",
       "lvGjA5TFtqEAJma0AAAUAhFdWR3z+gAAAABJRU5ErkJggg==\n",
       "\" style=\"display:inline;vertical-align:middle;\" /></a><br>"
      ],
      "text/plain": [
       "<IPython.core.display.HTML object>"
      ]
     },
     "metadata": {},
     "output_type": "display_data"
    }
   ],
   "source": [
    "x_i = IndexedVar(x, i)"
   ]
  },
  {
   "cell_type": "code",
   "execution_count": 61,
   "metadata": {},
   "outputs": [
    {
     "data": {
      "text/html": [
       "<strong id=\"x_j\">x_j:</strong> <a class=\"ProveItLink\" href=\"../__pv_it/common/9db1fb1b1ce2dfb35b65c708fbfe7ca700606e830/common_expr.ipynb\"><img src=\"data:image/png;base64,iVBORw0KGgoAAAANSUhEUgAAABMAAAAPBAMAAAD0aukfAAAAMFBMVEX///8AAAAAAAAAAAAAAAAA\n",
       "AAAAAAAAAAAAAAAAAAAAAAAAAAAAAAAAAAAAAAAAAAAv3aB7AAAAD3RSTlMAEHarMolUmd1mIs3v\n",
       "RLtmgJDEAAAACXBIWXMAAA7EAAAOxAGVKw4bAAAAb0lEQVQI12NgEFIWCU1gAIMCJiP2BgYGFgYG\n",
       "zgWcH5knMDBwOAB57BsYYIBHAc68v4BRgEGojIFB7oINAytQczYDQ75jDcM1BkaBcAYGcSW2SpCx\n",
       "O+EaGH7BWSwH4EwmAziTewKMtdcHLlhUyMAAAIY/Emc5+/2bAAAAAElFTkSuQmCC\n",
       "\" style=\"display:inline;vertical-align:middle;\" /></a><br>"
      ],
      "text/plain": [
       "<IPython.core.display.HTML object>"
      ]
     },
     "metadata": {},
     "output_type": "display_data"
    }
   ],
   "source": [
    "x_j = IndexedVar(x, j)"
   ]
  },
  {
   "cell_type": "code",
   "execution_count": 62,
   "metadata": {},
   "outputs": [
    {
     "data": {
      "text/html": [
       "<strong id=\"x_k\">x_k:</strong> <a class=\"ProveItLink\" href=\"../__pv_it/common/353866adc3299c69fcf12d1bc2726609a503a03d0/common_expr.ipynb\"><img src=\"data:image/png;base64,iVBORw0KGgoAAAANSUhEUgAAABUAAAAMBAMAAAB/4Ov2AAAAMFBMVEX///8AAAAAAAAAAAAAAAAA\n",
       "AAAAAAAAAAAAAAAAAAAAAAAAAAAAAAAAAAAAAAAAAAAv3aB7AAAAD3RSTlMAEHarMolUmd1mIs3v\n",
       "RLtmgJDEAAAACXBIWXMAAA7EAAAOxAGVKw4bAAAAc0lEQVQI12NgEFIWCU1ggIACJiP2BgiTcwHn\n",
       "R+YJDDMUgGwWBvYNQIrnAliGByS0HqLq/gJGAYZ5XKoMDHIXbBhYGRiMlsksYMh3rGG4xsBwKIGF\n",
       "gUFcia0ygYHrewkDDHA+uMEFYzMreLDC2HwLmKcwAAAhNxXfkw4EDAAAAABJRU5ErkJggg==\n",
       "\" style=\"display:inline;vertical-align:middle;\" /></a><br>"
      ],
      "text/plain": [
       "<IPython.core.display.HTML object>"
      ]
     },
     "metadata": {},
     "output_type": "display_data"
    }
   ],
   "source": [
    "x_k = IndexedVar(x, k)"
   ]
  },
  {
   "cell_type": "code",
   "execution_count": 63,
   "metadata": {},
   "outputs": [
    {
     "data": {
      "text/html": [
       "<strong id=\"A_k\">A_k:</strong> <a class=\"ProveItLink\" href=\"../__pv_it/common/9b45105c2b30a866686b606631318db98f5e01250/common_expr.ipynb\"><img src=\"data:image/png;base64,iVBORw0KGgoAAAANSUhEUgAAABkAAAASBAMAAABcAGiTAAAAMFBMVEX///8AAAAAAAAAAAAAAAAA\n",
       "AAAAAAAAAAAAAAAAAAAAAAAAAAAAAAAAAAAAAAAAAAAv3aB7AAAAD3RSTlMAIs1UmauJMnZmRLsQ\n",
       "3e++988cAAAACXBIWXMAAA7EAAAOxAGVKw4bAAAAkUlEQVQI12NgAAEhBmSgj8xh/o/MY4kXQOIl\n",
       "5hcgOIwN/QZIChnsJyB4ixnqExA8Bwb5AAaGuQ1gDscWl/gNDAx8C8C8EwwM/BcYGORhChl4HzAw\n",
       "zGZsA3K4gOYxfWBgiBA+B3SDHFCE+yMDwwsDdgaG0/91GJj3f0pg/OKO5DrODWsZETzWhlo2BI9b\n",
       "gHU6AwAKwhykhEDocwAAAABJRU5ErkJggg==\n",
       "\" style=\"display:inline;vertical-align:middle;\" /></a><br>"
      ],
      "text/plain": [
       "<IPython.core.display.HTML object>"
      ]
     },
     "metadata": {},
     "output_type": "display_data"
    }
   ],
   "source": [
    "A_k = IndexedVar(A, k)"
   ]
  },
  {
   "cell_type": "code",
   "execution_count": 64,
   "metadata": {},
   "outputs": [
    {
     "data": {
      "text/html": [
       "<strong id=\"x_1_to_i\">x_1_to_i:</strong> <a class=\"ProveItLink\" href=\"../__pv_it/common/81ddb99578c82986835dda8f7c823eb26bf134640/common_expr.ipynb\"><img src=\"data:image/png;base64,iVBORw0KGgoAAAANSUhEUgAAAHQAAAANBAMAAACKmVcdAAAAMFBMVEX///8AAAAAAAAAAAAAAAAA\n",
       "AAAAAAAAAAAAAAAAAAAAAAAAAAAAAAAAAAAAAAAAAAAv3aB7AAAAD3RSTlMAEHarMolUmd1mIs3v\n",
       "RLtmgJDEAAAACXBIWXMAAA7EAAAOxAGVKw4bAAABMUlEQVQoz2NgEFIWCU1ggANGJUPXMAZ8AKGh\n",
       "gMmIvQEhwc6grFCBVytEA+MCBs4FnB+ZJzBIboBKzGKYL2DJIBpsiEsnVAOrAgMLAztQF4sSzGIH\n",
       "hmqQyQw4bYZogAAeBSDBhnDzISD+y7DeAaeLwRrA4P4CRgEkrby/GAQZJuLTCtLAq8zAIHfBhoEV\n",
       "aqsAMIDfMh9gCACyI8BcNMDIANMgxC/AkO9Yw3ANopXxN5D+In6AFxj0LI1gLoP8Bog4ggfRsDCD\n",
       "gUFcia0yAWprhwADY5FC+jQgc50AmMvAUQDktDNACY5GuIZHcKeAtbLBnchVwLUAiQsHiXCnf3RA\n",
       "0coKV7LOxV0AiQsHAXD1GwpgtkR/BYa4EFzJ+f//kblwu+DRwmi0AEVGgQEfFwiYkDkAISZExHLG\n",
       "2GcAAAAASUVORK5CYII=\n",
       "\" style=\"display:inline;vertical-align:middle;\" /></a><br>"
      ],
      "text/plain": [
       "<IPython.core.display.HTML object>"
      ]
     },
     "metadata": {},
     "output_type": "display_data"
    }
   ],
   "source": [
    "x_1_to_i = var_range(x, one, i)"
   ]
  },
  {
   "cell_type": "code",
   "execution_count": 65,
   "metadata": {},
   "outputs": [
    {
     "data": {
      "text/html": [
       "<strong id=\"x_1_to_j\">x_1_to_j:</strong> <a class=\"ProveItLink\" href=\"../__pv_it/common/47e6a0944bda6a0cd4c2953d7d57af7df63ffeca0/common_expr.ipynb\"><img src=\"data:image/png;base64,iVBORw0KGgoAAAANSUhEUgAAAHQAAAAPBAMAAADHUfYWAAAAMFBMVEX///8AAAAAAAAAAAAAAAAA\n",
       "AAAAAAAAAAAAAAAAAAAAAAAAAAAAAAAAAAAAAAAAAAAv3aB7AAAAD3RSTlMAEHarMolUmd1mIs3v\n",
       "RLtmgJDEAAAACXBIWXMAAA7EAAAOxAGVKw4bAAABPElEQVQoz2NgEFIWCU1ggAM0LiZgVDJ0DYMw\n",
       "C5iM2BsQMmhcTMDOoKxQAaQdGDgXcH5knsAguQEiAeEyhhoL4NI6i2G+gCWQbmFgYWAH6mJRgtoE\n",
       "4bIz4LbZgaEazuZRABJsDchc/gtcX3A7+RCcdX8BowCSVhCXUwCPVt5fDIIMjOoJDHIXbBhYIbYy\n",
       "AsWhXAbWBjAXDQADgPEt8wGGAAZ2tg0M+Y41DNcgWuWBvoRyGTwEwFzG3wxQAsZj+yJ+gDeBQZC1\n",
       "gEFcia0yAaKVo5EBxuV6COEytDNACY4CINEhwMBYpJA+DcjkngBzCtiviXCXLWdYhcyFq0JEGf8C\n",
       "FK0BMB7XE5dCJC4csCKYPnC10V8VGBgV4BH0//8HJC4ilSKYyigSTAz4uCCAZNhOBjIB95UD5Gpl\n",
       "VxdgAABaPUWwBkQyDAAAAABJRU5ErkJggg==\n",
       "\" style=\"display:inline;vertical-align:middle;\" /></a><br>"
      ],
      "text/plain": [
       "<IPython.core.display.HTML object>"
      ]
     },
     "metadata": {},
     "output_type": "display_data"
    }
   ],
   "source": [
    "x_1_to_j = var_range(x, one, j)"
   ]
  },
  {
   "cell_type": "code",
   "execution_count": 66,
   "metadata": {},
   "outputs": [
    {
     "data": {
      "text/html": [
       "<strong id=\"x_1_to_k\">x_1_to_k:</strong> <a class=\"ProveItLink\" href=\"../__pv_it/common/97dadb8abf1fdb532c62a59e26993d3a37b96a720/common_expr.ipynb\"><img src=\"data:image/png;base64,iVBORw0KGgoAAAANSUhEUgAAAHcAAAANBAMAAABhruweAAAAMFBMVEX///8AAAAAAAAAAAAAAAAA\n",
       "AAAAAAAAAAAAAAAAAAAAAAAAAAAAAAAAAAAAAAAAAAAv3aB7AAAAD3RSTlMAEHarMolUmd1mIs3v\n",
       "RLtmgJDEAAAACXBIWXMAAA7EAAAOxAGVKw4bAAABFklEQVQoz2NgEFIWCU1ggAM0LhaArKKAyYi9\n",
       "ASGFxsUCkFRwLuD8yDyBQXIDMpcx1FgAl16ohhkKQDYLAztQH4sS1CwIl50Bt+0QFQw8F8A8HpAZ\n",
       "bHDFIC7/Ba4vuN0N1rAewr6/gFEASTOIyymATzNYwzwuVQYGuQs2DKwQmxkZ4FwG1gYwFw0IIFQY\n",
       "LZNZwJDvWMNwDaJZHugXKJfBQwDMBROMv5EZUBWHElgYGMSV2CoTIJo5GuFcrocQLgNHAZBohzE6\n",
       "BGAquL6XIBwE9nMinLucYRUyF64KHoGcD25woWoOgPG4nrgUInHhgBXOYlbwgHO4or8qMDAqwCPj\n",
       "//8PSFxEyoSz+BYwT0GRYmLAxwUBNOMAKxFI3fSaB70AAAAASUVORK5CYII=\n",
       "\" style=\"display:inline;vertical-align:middle;\" /></a><br>"
      ],
      "text/plain": [
       "<IPython.core.display.HTML object>"
      ]
     },
     "metadata": {},
     "output_type": "display_data"
    }
   ],
   "source": [
    "x_1_to_k = var_range(x, one, k)"
   ]
  },
  {
   "cell_type": "code",
   "execution_count": 67,
   "metadata": {},
   "outputs": [
    {
     "data": {
      "text/html": [
       "<strong id=\"x_1_to_m\">x_1_to_m:</strong> <a class=\"ProveItLink\" href=\"../__pv_it/common/6024a41cfaf972bdb338175c21c197d8e61f5ed20/common_expr.ipynb\"><img src=\"data:image/png;base64,iVBORw0KGgoAAAANSUhEUgAAAHwAAAANBAMAAACZThfpAAAAMFBMVEX///8AAAAAAAAAAAAAAAAA\n",
       "AAAAAAAAAAAAAAAAAAAAAAAAAAAAAAAAAAAAAAAAAAAv3aB7AAAAD3RSTlMAEHarMolUmd1mIs3v\n",
       "RLtmgJDEAAAACXBIWXMAAA7EAAAOxAGVKw4bAAABJElEQVQoz2NgEFIWCU1ggAM0LhaAqqKAyYi9\n",
       "gQEXFwtAUcG5gPMj8wQGyQ3IXMZQYwFcuqEaoICFgR2ok0WpAZnLzoDbBRAVCMCjACTYGpC5/Be4\n",
       "vuB2PVgDHNxfwCiApB3E5RTApx2sotJJmWmeA4PcBRsGVojtjEApKJeBFcjH9D5CheSdCTwGTAYM\n",
       "+Y41DNcg2uWBfoJyGTwEGBh/M0DE4AwkFQu1Gfgd2AMYxJXYKhMg2jkaGWBcrodAxR1A6zkKgIx2\n",
       "BigDSYURgw8DBzz6wX5PhLtyOcMqoBim6xEqjjDoMaxnQdEeAONxPXEpZACHARpAqPgAtH8eO4wX\n",
       "/VWBgREeITz//38Apk7MoIOr4DVg2MWwWBFZkglNsQKGdnQVDADbVklhpYIUgAAAAABJRU5ErkJg\n",
       "gg==\n",
       "\" style=\"display:inline;vertical-align:middle;\" /></a><br>"
      ],
      "text/plain": [
       "<IPython.core.display.HTML object>"
      ]
     },
     "metadata": {},
     "output_type": "display_data"
    }
   ],
   "source": [
    "x_1_to_m = var_range(x, one, m)"
   ]
  },
  {
   "cell_type": "code",
   "execution_count": 68,
   "metadata": {},
   "outputs": [
    {
     "data": {
      "text/html": [
       "<strong id=\"x_1_to_n\">x_1_to_n:</strong> <a class=\"ProveItLink\" href=\"../__pv_it/common/d50f819f834d55ea1b9fad150926a94bf07ad8fc0/common_expr.ipynb\"><img src=\"data:image/png;base64,iVBORw0KGgoAAAANSUhEUgAAAHgAAAANBAMAAACQpbeTAAAAMFBMVEX///8AAAAAAAAAAAAAAAAA\n",
       "AAAAAAAAAAAAAAAAAAAAAAAAAAAAAAAAAAAAAAAAAAAv3aB7AAAAD3RSTlMAEHarMolUmd1mIs3v\n",
       "RLtmgJDEAAAACXBIWXMAAA7EAAAOxAGVKw4bAAABQElEQVQoz2NgEFIWCU1ggANGJUPXMAZ8AFlD\n",
       "AZMRewNCip1BWaECr2YkDZwLOD8yT2CQ3ACVmsUwX8CSQTTYEJdeqAYwYGFgB+pjUYJZ7sBQDTKd\n",
       "AaftEA0wwKMAJNgQLj8ExH8Z1jvgdDdYAxTcX8AogKSZ9xeDIMNEfJpBGjgrndQZGOQu2DCwQmxm\n",
       "BAX2W+YDDAFARgQDgwCGNpAKiAbJOxN4FjDkO9YwXINolgf6he2L+AFeYESwNDIw/maAiIEZcB5E\n",
       "w0JtBn4BBnEltsoEiGaORqCaIoX0aUBl64DWdgAxRwGQ084AJUAqoBqMGO7AHQT2cyKcy1XAtYCB\n",
       "DdPdCBVHGMpZUDQHwKXWubgLgIICHcBVcH1gaEmBsaO/KjAwIqLg/P//wHSIGWBwFbwGDKoTkKWY\n",
       "0JQqYGhGUwEAioVH6/Sy9NcAAAAASUVORK5CYII=\n",
       "\" style=\"display:inline;vertical-align:middle;\" /></a><br>"
      ],
      "text/plain": [
       "<IPython.core.display.HTML object>"
      ]
     },
     "metadata": {},
     "output_type": "display_data"
    }
   ],
   "source": [
    "x_1_to_n = var_range(x, one, n)"
   ]
  },
  {
   "cell_type": "code",
   "execution_count": 69,
   "metadata": {},
   "outputs": [
    {
     "data": {
      "text/html": [
       "<strong id=\"x_1_to_np1\">x_1_to_np1:</strong> <a class=\"ProveItLink\" href=\"../__pv_it/common/4c0b61b56542b2c0d2ab9a431fe4a88d4a9e76ff0/common_expr.ipynb\"><img src=\"data:image/png;base64,iVBORw0KGgoAAAANSUhEUgAAAIsAAAAOBAMAAADtSvKnAAAAMFBMVEX///8AAAAAAAAAAAAAAAAA\n",
       "AAAAAAAAAAAAAAAAAAAAAAAAAAAAAAAAAAAAAAAAAAAv3aB7AAAAD3RSTlMAEHarMolUmd1mIs3v\n",
       "RLtmgJDEAAAACXBIWXMAAA7EAAAOxAGVKw4bAAABU0lEQVQoz2NgEFIWCU1ggAM0LiZgVDJ0DcMU\n",
       "LmAyYm/AycUE7AzKChUYopwLOD8yT2CQ3IDMZQw1FsBlzCyG+QKWKCIgvSwM7CBSCeoCCJedAbeL\n",
       "HBiqkZ0G18ujACTY4NpAXP4LXF9we+sQgsnHANd7fwGjAJIxIC6nAB5jeH8xCDJMn6JUgGyM3AUb\n",
       "BlYIk5EBzmVgbQBz0QAwwBjfMh9gCGCce5LhFLIx+Y41DNcgTPkNcC6DhwCYCyYYfyMx2L6IH+BN\n",
       "4BLawPAR2RhxJbbKBAiToxHO5XoI4TJwgJzeDmN0CDAwFimkT2NgYFbgPcBQ9+7Nu3cTkAIEwkyE\n",
       "c5czrELmwlXBkwGPA3uBA0oQI4wJgPG4nrgUInHhgBXOWs/A4YZpDFf0VwUGRgW4Xf//f0DiInIK\n",
       "nHWZgSkSGjZgvUiACVUPE2ZMYRjMx0AVwA6lAZopVHQ31b4nAAAAAElFTkSuQmCC\n",
       "\" style=\"display:inline;vertical-align:middle;\" /></a><br>"
      ],
      "text/plain": [
       "<IPython.core.display.HTML object>"
      ]
     },
     "metadata": {},
     "output_type": "display_data"
    }
   ],
   "source": [
    "x_1_to_np1 = var_range(x, one, Add(n, one))"
   ]
  },
  {
   "cell_type": "code",
   "execution_count": 70,
   "metadata": {},
   "outputs": [
    {
     "data": {
      "text/html": [
       "<strong id=\"y_1_to_j\">y_1_to_j:</strong> <a class=\"ProveItLink\" href=\"../__pv_it/common/6b7b6b1e613dd750e6527c69f664be5ffb9577a20/common_expr.ipynb\"><img src=\"data:image/png;base64,iVBORw0KGgoAAAANSUhEUgAAAG8AAAAPBAMAAAAYH4wJAAAAMFBMVEX///8AAAAAAAAAAAAAAAAA\n",
       "AAAAAAAAAAAAAAAAAAAAAAAAAAAAAAAAAAAAAAAAAAAv3aB7AAAAD3RSTlMAEHaZZquJVO8y3btE\n",
       "zSKD2s2pAAAACXBIWXMAAA7EAAAOxAGVKw4bAAABWUlEQVQoz52SsUvDQBTGv6Q2aWoNoVhxM5jF\n",
       "MYoiFMXoP2BcurgExUUoVHBwEUIXRwMO6mSrm5NLd/+DZnB06N5BBREEbX29y5k2kA794JL33ft9\n",
       "vOM4SJaDEv5VXIXkIl0xrqg+duOGd4ap9zHBCNeA60wD+5gN+b5WKyP7NHe0lxbkOPIBjJyJurbY\n",
       "iE6COnKmjXJakOG8bBvaN9QoiMIH7oIfvAVpSYYzbUL242AmxBK2xwQZXlynqoVplwcNWlS36HfM\n",
       "XeJGIXD7nKo1tB0WlH4HE93CJ91Rkzv2WQiHCoZLxiFVpYOtDp/4SEOkitUDugZ3eKCVt0XRFDhe\n",
       "2BGq4EGVnU4Jodt6J3IjOhE4egNOuoiCCtudr6F7e2Uwl5AncM2n+WbWg179Mum5Ue8eFeCy3+cu\n",
       "cTlmhEOmV6nubIgG7ePUeh5yo5Ih8BkHE+n1ZrIcVpaBP7qRUOS69rsSAAAAAElFTkSuQmCC\n",
       "\" style=\"display:inline;vertical-align:middle;\" /></a><br>"
      ],
      "text/plain": [
       "<IPython.core.display.HTML object>"
      ]
     },
     "metadata": {},
     "output_type": "display_data"
    }
   ],
   "source": [
    "y_1_to_j = var_range(y, one, j)"
   ]
  },
  {
   "cell_type": "code",
   "execution_count": 71,
   "metadata": {},
   "outputs": [
    {
     "data": {
      "text/html": [
       "<strong id=\"y_1_to_l\">y_1_to_l:</strong> <a class=\"ProveItLink\" href=\"../__pv_it/common/876546e18e0456918634f305d8cd68c9fd8e15980/common_expr.ipynb\"><img src=\"data:image/png;base64,iVBORw0KGgoAAAANSUhEUgAAAG4AAAANBAMAAAC6FUY8AAAAMFBMVEX///8AAAAAAAAAAAAAAAAA\n",
       "AAAAAAAAAAAAAAAAAAAAAAAAAAAAAAAAAAAAAAAAAAAv3aB7AAAAD3RSTlMAEHaZZquJVO8y3btE\n",
       "zSKD2s2pAAAACXBIWXMAAA7EAAAOxAGVKw4bAAABSElEQVQoz2NgVHZgEGWAAyETBsYABjwApoCN\n",
       "vYHBHyGcUMHA8gGfPpiC6cwLGKIZRC5ARDkLrBhYN4ilBuLSBlEg+oFBgEOBoYlTaQFEmJGhiYFD\n",
       "wYDBCpc+iAJ2oDXnBTh/MrBD9THwfGSYP+EPw/sJuDSCFTAnMDDYMjA1IPQxX2DQYHDEow+sgOsA\n",
       "A8NWBu4AiD4BIAaytwKpLAgP3Y0wBfJAhinDeQewPsa/IOMCeL4Afb8QwgMT8heQGBAFtUCGaJL9\n",
       "A4h9q4BWMIYp/2NgeC0A4TEsBmIuAxhjIQNUgRnY/lwGiD52sNPYLjDwGfA9gPJQQCEDVMEaASDJ\n",
       "2A7VxwY2Q6KA4fXMyQJgHnqcwxR8UGDgUmBNYODL/aYATEJA4UUMYQwM/f//Q3ho4aIAU2B0gIHd\n",
       "yQYmDhIuUT6AxEMFTAwIBQAvYlMkItewmQAAAABJRU5ErkJggg==\n",
       "\" style=\"display:inline;vertical-align:middle;\" /></a><br>"
      ],
      "text/plain": [
       "<IPython.core.display.HTML object>"
      ]
     },
     "metadata": {},
     "output_type": "display_data"
    }
   ],
   "source": [
    "y_1_to_l = var_range(y, one, l)"
   ]
  },
  {
   "cell_type": "code",
   "execution_count": 72,
   "metadata": {},
   "outputs": [
    {
     "data": {
      "text/html": [
       "<strong id=\"y_1_to_n\">y_1_to_n:</strong> <a class=\"ProveItLink\" href=\"../__pv_it/common/bcf5ce1b1593e9c2c261618d94fd21c2cd04eae40/common_expr.ipynb\"><img src=\"data:image/png;base64,iVBORw0KGgoAAAANSUhEUgAAAHIAAAANBAMAAACHhydaAAAAMFBMVEX///8AAAAAAAAAAAAAAAAA\n",
       "AAAAAAAAAAAAAAAAAAAAAAAAAAAAAAAAAAAAAAAAAAAv3aB7AAAAD3RSTlMAEHaZZquJVO8y3btE\n",
       "zSKD2s2pAAAACXBIWXMAAA7EAAAOxAGVKw4bAAABXUlEQVQoz32SP0vDUBTFT5r+SWKIQVpxMxgQ\n",
       "F6FgXYpi9QsYHbq4BMFFKLTgoFvpIk4WHcTJViedXLo7dms/Qp07WEEEQa039z3bQkgv5OW+e3/n\n",
       "cXPyoLgFZDCKuRwUD9ExgSdTVeyOO/4p4oMpygn8Rm3gAOmu2OnlPBLP80d7UUqBc9iag5q+1JDD\n",
       "oAbNySIfpWRc5h1b/0JKKmG+467+jbd6lJRxEZuIVcdKtYsVbE9RBng8d+VS2sKMx0olaFDeotcx\n",
       "zRX2FRJPtwtaD1hHp8DKxcAl1TM/yKgmlB+IEiejHeOvq5ilgzOHWz1WGs0AKbq/QJ/qT/QYWSo9\n",
       "QC4MML6PNk9RgvjOivhjXVhZiw4Lj1v5xy+wphOonEulz+WFMvq31zaSYXd8CNwa4PEMhpPwYZU+\n",
       "HSgONe9RBC6HQ7qHYYcIYNz0sEze7GzIRixYTtwXuXVCygAY43+hRVNdcjwpFAAAAABJRU5ErkJg\n",
       "gg==\n",
       "\" style=\"display:inline;vertical-align:middle;\" /></a><br>"
      ],
      "text/plain": [
       "<IPython.core.display.HTML object>"
      ]
     },
     "metadata": {},
     "output_type": "display_data"
    }
   ],
   "source": [
    "y_1_to_n = var_range(y, one, n)"
   ]
  },
  {
   "cell_type": "code",
   "execution_count": 73,
   "metadata": {},
   "outputs": [
    {
     "data": {
      "text/html": [
       "<strong id=\"y_1_to_m\">y_1_to_m:</strong> <a class=\"ProveItLink\" href=\"../__pv_it/common/c3b2b977a12222eab55ee5c367f9341f041d934c0/common_expr.ipynb\"><img src=\"data:image/png;base64,iVBORw0KGgoAAAANSUhEUgAAAHYAAAANBAMAAACObIcgAAAAMFBMVEX///8AAAAAAAAAAAAAAAAA\n",
       "AAAAAAAAAAAAAAAAAAAAAAAAAAAAAAAAAAAAAAAAAAAv3aB7AAAAD3RSTlMAEHaZZquJVO8y3btE\n",
       "zSKD2s2pAAAACXBIWXMAAA7EAAAOxAGVKw4bAAABOUlEQVQoz32Qv0vDQBiG30s0v5T0kHb2VJxE\n",
       "UNBNaXDtYBCcXIqDW0H/g+IibsXFH1PEzc3Bwc3Rrf0LiiKu2knoIPVyuVwSL/GDg++5e17uuwNZ\n",
       "CtBAWkUqqYJg2V3sopxKqiBcmhEOUB/kiBzt06psosuiDsOpuxjlyIQZVWWFoKhP3THsKEe1Z39c\n",
       "ObTQ09qG0c2yMU3Rf7JC2LhYNlo94BEzociS+EgQLI76k5VQfwmc0ODeJvqByM7H/yUINxTkB8mW\n",
       "ajLhbRW1ntkGGofNV5H1biHJf+DdPb/YW+PNHWSTCXu4gnccj9FB8t4TSHrHJ9/Sh1bCOVbw5cIa\n",
       "kDOZ5UMI8p+u13mr/5MSRvzmlgmPTbfhd74ZCENCzmQyAub0v0qF2RBDfCzA3tmSRwZfGYFp2T8C\n",
       "fgFRDlN7vUCY8QAAAABJRU5ErkJggg==\n",
       "\" style=\"display:inline;vertical-align:middle;\" /></a><br>"
      ],
      "text/plain": [
       "<IPython.core.display.HTML object>"
      ]
     },
     "metadata": {},
     "output_type": "display_data"
    }
   ],
   "source": [
    "y_1_to_m = var_range(y, one, m)"
   ]
  },
  {
   "cell_type": "code",
   "execution_count": 74,
   "metadata": {},
   "outputs": [
    {
     "data": {
      "text/html": [
       "<strong id=\"z_1_to_k\">z_1_to_k:</strong> <a class=\"ProveItLink\" href=\"../__pv_it/common/32e484fccc483f8f144ffef612b4a0560e9e85050/common_expr.ipynb\"><img src=\"data:image/png;base64,iVBORw0KGgoAAAANSUhEUgAAAHAAAAANBAMAAACDcvdnAAAAMFBMVEX///8AAAAAAAAAAAAAAAAA\n",
       "AAAAAAAAAAAAAAAAAAAAAAAAAAAAAAAAAAAAAAAAAAAv3aB7AAAAD3RSTlMAMt0iZhDNdom7q0RU\n",
       "75mOI7qcAAAACXBIWXMAAA7EAAAOxAGVKw4bAAABLUlEQVQoz2NgYFQSMGGAA1QeFiCkyOwAYYVV\n",
       "zFiAEEflYQLW9M4uKNOUgSOAISQBicfasSoAl0bmAIZWBhZ1iCGtDIzlCnAjWxn4GPgUcNsZATT0\n",
       "NphlDsQ8cJVAHv8G5o849TEXAPEHEIvbgSEAoRHEYwnAo3ELAysDywTzBgaGMwwMC8AaWUHiYB4D\n",
       "hwKEhwpAHuc5wMDFwFV89DID44zpTQJgjfHAAILwGIQCwDwwwfoNmSHZWaHIwFvDIMDAwXA2G+JH\n",
       "JlUGKI95KoTHwPQASOjBGEpAKxt4rm1gsH8nAHMF2I9HYTw7BmMkHhzwwCLJk1vBAFljAyzgJgo+\n",
       "RfAQgAPGWM6oAJVlbvtRwMBaABXn/f//A4KHAOEwxmSGJQJI4uwoqtgxQxXFKAARgEChdCWKIQAA\n",
       "AABJRU5ErkJggg==\n",
       "\" style=\"display:inline;vertical-align:middle;\" /></a><br>"
      ],
      "text/plain": [
       "<IPython.core.display.HTML object>"
      ]
     },
     "metadata": {},
     "output_type": "display_data"
    }
   ],
   "source": [
    "z_1_to_k = var_range(z, one, k)"
   ]
  },
  {
   "cell_type": "code",
   "execution_count": 75,
   "metadata": {},
   "outputs": [
    {
     "data": {
      "text/html": [
       "<strong id=\"z_1_to_n\">z_1_to_n:</strong> <a class=\"ProveItLink\" href=\"../__pv_it/common/fe1ccaeb4d4f9086b240828453267e34ab330d430/common_expr.ipynb\"><img src=\"data:image/png;base64,iVBORw0KGgoAAAANSUhEUgAAAHEAAAANBAMAAABssJxZAAAAMFBMVEX///8AAAAAAAAAAAAAAAAA\n",
       "AAAAAAAAAAAAAAAAAAAAAAAAAAAAAAAAAAAAAAAAAAAv3aB7AAAAD3RSTlMAMt0iZhDNdom7q0RU\n",
       "75mOI7qcAAAACXBIWXMAAA7EAAAOxAGVKw4bAAABI0lEQVQoz2NgYFQSMGGAA1QeFiCkyOwAZYZV\n",
       "zFiAkEDlYQLW9M4uGNuUgSOAISQBicfasSoAl07mAIZWhDGtDIzlCkg8PgY+Bdy2RiBMNQdiHgUk\n",
       "Hv8G5o84NTIXwJncDgwBCJ0gHksAHp1bGFgZ/BzLHwCZZxgYFoB1sjLAeAwcChAeKgA5k+cAAxer\n",
       "9xWGy8BomDG9SQCsMz4BxmMQCgDzWL8xMCAYYEKys0KROTyB4SvQeIaz2RB/MqnCeMxTITwGPSBm\n",
       "egBlMCgBLW3gubaBgauA+wLMIWB/HoXx7BiMkXhwwAMLVV4BvgcCyDobYME3UfApgocAHDCGPQOT\n",
       "DFQnc9uPAgZWWHjz/v//AcFDgHAYYxcDewuyBDsDbh4YoJoFAIVgP3VeQWg0AAAAAElFTkSuQmCC\n",
       "\" style=\"display:inline;vertical-align:middle;\" /></a><br>"
      ],
      "text/plain": [
       "<IPython.core.display.HTML object>"
      ]
     },
     "metadata": {},
     "output_type": "display_data"
    }
   ],
   "source": [
    "z_1_to_n = var_range(z, one, n)"
   ]
  },
  {
   "cell_type": "code",
   "execution_count": 76,
   "metadata": {},
   "outputs": [
    {
     "data": {
      "text/html": [
       "<strong id=\"range_1_to_i\">range_1_to_i:</strong> <a class=\"ProveItLink\" href=\"../__pv_it/common/5b16f4308dd75429db921c68bbde6f12619aeb5b0/common_expr.ipynb\"><img src=\"data:image/png;base64,iVBORw0KGgoAAAANSUhEUgAAAFIAAAASBAMAAAA6WpTEAAAAMFBMVEX///8AAAAAAAAAAAAAAAAA\n",
       "AAAAAAAAAAAAAAAAAAAAAAAAAAAAAAAAAAAAAAAAAAAv3aB7AAAAD3RSTlMAMt0Qq5nNdoki72ZU\n",
       "u0S9iLk1AAAACXBIWXMAAA7EAAAOxAGVKw4bAAAA3UlEQVQoz2NgYFRmgADO0FwBBlyAPYDBJOwz\n",
       "lDOXgeMfTpVMDUDVMJWeDAyrGPABuMr1Bgz+E4hS6cTA4C9AlEog0MelyDwaVSXjd1wqG16hqmRy\n",
       "wKGQ8UAYqspYXEYyMyxHUcntgNMzPJ9RVJ5g4MQVSmwOBhCVzGDHNDCwGzBjqgKqYbB/AIwjjp9A\n",
       "RgKQNyk0NAjMYv7GACXgPHnODQwsXt+8GZhAqUT///9vEJYqA5RgCgASSkBDWXbDbDjMgMmC+8YA\n",
       "JWSxsGCAAyW8CjBZiJhEiXssLDiA6gUA0IowfY+rmOQAAAAASUVORK5CYII=\n",
       "\" style=\"display:inline;vertical-align:middle;\" /></a><br>"
      ],
      "text/plain": [
       "<IPython.core.display.HTML object>"
      ]
     },
     "metadata": {},
     "output_type": "display_data"
    }
   ],
   "source": [
    "range_1_to_i = ExprRange(k, k, one, i)"
   ]
  },
  {
   "cell_type": "code",
   "execution_count": 77,
   "metadata": {},
   "outputs": [
    {
     "data": {
      "text/html": [
       "<strong id=\"range_1_to_ip1\">range_1_to_ip1:</strong> <a class=\"ProveItLink\" href=\"../__pv_it/common/550a60043fbb31bdf3cb6497d4aa1cd2dcc592300/common_expr.ipynb\"><img src=\"data:image/png;base64,iVBORw0KGgoAAAANSUhEUgAAAIQAAAAVBAMAAAB1UFtyAAAAMFBMVEX///8AAAAAAAAAAAAAAAAA\n",
       "AAAAAAAAAAAAAAAAAAAAAAAAAAAAAAAAAAAAAAAAAAAv3aB7AAAAD3RSTlMAMt0Qq5nNdoki72ZU\n",
       "u0S9iLk1AAAACXBIWXMAAA7EAAAOxAGVKw4bAAABlklEQVQ4y2NgIBJwkiSMFdRgF+YrABKMyjAD\n",
       "Q3MFcJrA08DAwB6AJihkwMBQzcBgEvYZKjCXgeMfTiPMgJipAUWI2TUfaAQbELPDjPBkYFiF04ho\n",
       "JPZrGKMeqJ07AMmI9QYM/hNwGbEAiX0c2QiGxUhGODEw+OMKDJ4EnEZkIxkBBPq4HMEKDAbzaKxG\n",
       "tKAYwfgdlxFsGxgYGl5hNWIbihFMDriMYDrAwHggDKsRp1CMiMUZIVwPGJgZloNYQUpKq5SUVBBG\n",
       "yCMbwe2AzwgGns9YXfEK2YgTDJwTcHuEgc3BAJsRhyBGMIMDs4GB3YAZUztIHS8wK9g/aMBmxF4G\n",
       "Bo6fQFlQtE8KDQ0Cs5i/MUAJOI8D6Ed5zg1oRvSDHB3BwOL1zZuBCZTV9P///wZhqTJACSZQxlIC\n",
       "2sWowMDAshstLFzWpwAN1YPyDsOdfRgzZYKcq4gtdYLztwKUgciDDRhGcICIrdiyGTjdQn3HXADP\n",
       "wQUYRpiDCF5ccTUXSrPDRdgxFYENZb6Aw4ibxBd807ELs09gAACaOF1Pss+OKQAAAABJRU5ErkJg\n",
       "gg==\n",
       "\" style=\"display:inline;vertical-align:middle;\" /></a><br>"
      ],
      "text/plain": [
       "<IPython.core.display.HTML object>"
      ]
     },
     "metadata": {},
     "output_type": "display_data"
    }
   ],
   "source": [
    "range_1_to_ip1 = ExprRange(k, k, one, Add(i, one))"
   ]
  },
  {
   "cell_type": "code",
   "execution_count": 78,
   "metadata": {},
   "outputs": [
    {
     "data": {
      "text/html": [
       "<strong id=\"range_i_to_j\">range_i_to_j:</strong> <a class=\"ProveItLink\" href=\"../__pv_it/common/63eed09e6f2e98b25ec5b4e7089e2dc2dbc004740/common_expr.ipynb\"><img src=\"data:image/png;base64,iVBORw0KGgoAAAANSUhEUgAAAIYAAAAVBAMAAABxpYtPAAAAMFBMVEX///8AAAAAAAAAAAAAAAAA\n",
       "AAAAAAAAAAAAAAAAAAAAAAAAAAAAAAAAAAAAAAAAAAAv3aB7AAAAD3RSTlMAdpndiRBmRO8yVM2r\n",
       "IrsWj4mGAAAACXBIWXMAAA7EAAAOxAGVKw4bAAABlklEQVQ4y2NgQABeBqzgAgMJQAq7cCERWoWg\n",
       "NJcDAwOjAqocpylQLAGvds6nQMIEyokGYmYHFPkY7a9AciteMxg3IHHUkNhlMAUgM5KID44GJPZC\n",
       "ZDM4Aog1gmsDLjO4EwhoZRWCqmACBkWgGjYzWA7g0R8oA1TADvUDyDaHCmxmsG3AY4YCRwLDLCao\n",
       "CuYFDJwLtLGZwdWAJ1Yu8C9gCOAQgPA4ChhYGRpBLGVj4w5jYxu4GZwf8AQFw3pgiK8PgJvBwPUV\n",
       "mzvYG/AFqDIQ72GF+4WB+0AANr8Y4DMDmERZv7MwgE3hA/opvsABW5g+ADsaA4Dt4/0O8uw1hvgN\n",
       "0Bicz5uAagbLX2isg9Ww/maAEnAeAxsosI4lMDCbgkIO6GKeNNTw4Dnx+xjQlwUgr4LUGDFACWZQ\n",
       "3jQGOYTnAVTLUhBhiSWdgsFlhBrUlA0yAxatDOBQSMKS55AyowOGGSxAVyzIh8YCK9gsPhwFFu8D\n",
       "hBrUZA4MwAVWsNCHmPQAuxkQsxkxJYCmMgkVoIpdxG6GLKEcDwBvKlRWmAikKQAAAABJRU5ErkJg\n",
       "gg==\n",
       "\" style=\"display:inline;vertical-align:middle;\" /></a><br>"
      ],
      "text/plain": [
       "<IPython.core.display.HTML object>"
      ]
     },
     "metadata": {},
     "output_type": "display_data"
    }
   ],
   "source": [
    "range_i_to_j = ExprRange(k, k, i, j)"
   ]
  },
  {
   "cell_type": "code",
   "execution_count": 79,
   "metadata": {},
   "outputs": [
    {
     "data": {
      "text/html": [
       "<strong id=\"range_i_to_jp1\">range_i_to_jp1:</strong> <a class=\"ProveItLink\" href=\"../__pv_it/common/b4380606ff0e00c5b4b5ca6b75a27ca68870028a0/common_expr.ipynb\"><img src=\"data:image/png;base64,iVBORw0KGgoAAAANSUhEUgAAALkAAAAVBAMAAADoXVL6AAAAMFBMVEX///8AAAAAAAAAAAAAAAAA\n",
       "AAAAAAAAAAAAAAAAAAAAAAAAAAAAAAAAAAAAAAAAAAAv3aB7AAAAD3RSTlMAdpndiRBmRO8yVM2r\n",
       "IrsWj4mGAAAACXBIWXMAAA7EAAAOxAGVKw4bAAAB8UlEQVQ4y4WVv0/CQBSAX6EFWigSRqIJiQkL\n",
       "C/EkUePQP6HMmtA4uIoLcaxx8W9woQ7OsLg5MBFHiIlzF3cWwkBMfNcetFfuzks42t77vt69+1GA\n",
       "pNggLHNQFlvWkOEa4qh7tb0ha4i5OruzHACtyUeYXXzmqeSUAvMHZNwpe3KFv7zDBV23V1i/q+yU\n",
       "Am0C/3Gt1PWQ/Ws06kZlT1NQ9KScn7p+TUeVXIXd59JUk3HWRGYvKxLPURk7ckadsTlMea8lsutT\n",
       "uZ1S0DsU2pHTi2xstIfOg8hemMjt0biaJU9kR+4lx9h8AGbQFtktX25HCrT5QSCyI+eW2JPSAAx4\n",
       "pFfHhDwTcrmLMpdyO1KIjen85Qg5eyJkynFjN4mzVqK+F321HfsjzDvlPoxkjOWpK8pMR52ZZENm\n",
       "MtMBY61D5K9iS3/giGY1BABj3+wyCuy10I6cufyG/oStu5Ht8Xb9d7vqaIyxAVbt7qLVWlhm7Ttu\n",
       "5kG+S+cAx1+55fNe+dzMcPQ0t1HMCbAqT0874sYUVMKMPcVheaPVuWCvRuUrieH3qcuo7bJL+p7i\n",
       "cBdB5tAZ7h9Uzp5dj6lKcOdmT7H0AWdEr6xKPkJ2mMRwpRdTo+BCweEMx+8Ixfb4rdp+Qy2mcvWB\n",
       "gtuVhdh+pP7yLWQNyP0BxJd8hjwanHgAAAAASUVORK5CYII=\n",
       "\" style=\"display:inline;vertical-align:middle;\" /></a><br>"
      ],
      "text/plain": [
       "<IPython.core.display.HTML object>"
      ]
     },
     "metadata": {},
     "output_type": "display_data"
    }
   ],
   "source": [
    "range_i_to_jp1 = ExprRange(k, k, i, Add(j, one))"
   ]
  },
  {
   "cell_type": "code",
   "execution_count": 80,
   "metadata": {},
   "outputs": [
    {
     "data": {
      "text/html": [
       "<strong id=\"range_1_to_mp1\">range_1_to_mp1:</strong> <a class=\"ProveItLink\" href=\"../__pv_it/common/435728e9d065d032afcf6d5bc5b12f4ac263e8440/common_expr.ipynb\"><img src=\"data:image/png;base64,iVBORw0KGgoAAAANSUhEUgAAAI4AAAAVBAMAAABicsu7AAAAMFBMVEX///8AAAAAAAAAAAAAAAAA\n",
       "AAAAAAAAAAAAAAAAAAAAAAAAAAAAAAAAAAAAAAAAAAAv3aB7AAAAD3RSTlMAMt0Qq5nNdoki72ZU\n",
       "u0S9iLk1AAAACXBIWXMAAA7EAAAOxAGVKw4bAAABxElEQVQ4y52Uv0vDUBDHv80Pm6ZpEadurdEu\n",
       "gtJBdKzgj0GXLi2CSwc3BwPiICp2cJVmEXUQi/4BdlA3UXRzquCgWxBEcLFSqIhgfS+NadrkheKD\n",
       "XO7d5X1yd9w9oMsV+qevc234+KIaEYEBa7ebu2d/qhRYnr4UsA6M5mpWcBUUDSZnjGHnp5cJp4c8\n",
       "QYsj6JBLTM6CK5eypWwRRjjT4sg1CF9MjusPiubg4MQRTwLCB7M8eX/OUotDFldlcURS5tfJ/U0t\n",
       "tmN4cbbbOHGNxekh1Sg8aPy3oZS8OBdtnEFmebhrRI1hhD4Rrnpx7pwcscLkyAZ4/gdKDSKtlKiq\n",
       "Q8eqOmFz4k7OGfw4UKoUIhe84nlzcEjLHvjkBSEProB3PeXBuWlyeGqIAStIuTuWigg5RSJJG5gJ\n",
       "lT04l4BEmi9Nkg4ls9kEX6cnqaAmW4FESnHUiyvgUerIq6gTMQ9htj4Hjswq12g08lApPUkzyfwp\n",
       "dI4DCeAZWAVe1to5U6eLJMARC3prt6k7MdPXz+xnc8YTlmLfCpK7xqbvnDmnZsdYG96Gj7vrbPoi\n",
       "ut8ld2i9g7bFPRlNH1/x4zx1f6/u+fiCOn4BKjttdmFNrnUAAAAASUVORK5CYII=\n",
       "\" style=\"display:inline;vertical-align:middle;\" /></a><br>"
      ],
      "text/plain": [
       "<IPython.core.display.HTML object>"
      ]
     },
     "metadata": {},
     "output_type": "display_data"
    }
   ],
   "source": [
    "range_1_to_mp1 = ExprRange(k, k, one, Add(m, one))"
   ]
  },
  {
   "cell_type": "code",
   "execution_count": 81,
   "metadata": {},
   "outputs": [
    {
     "data": {
      "text/html": [
       "<strong id=\"f__a_1_to_i\">f__a_1_to_i:</strong> <a class=\"ProveItLink\" href=\"../__pv_it/common/e3365f75bd57fd1ba0f454f5bdb756ddb29fc4e20/common_expr.ipynb\"><img src=\"data:image/png;base64,iVBORw0KGgoAAAANSUhEUgAAAI8AAAAVBAMAAACNsKCFAAAAMFBMVEX///8AAAAAAAAAAAAAAAAA\n",
       "AAAAAAAAAAAAAAAAAAAAAAAAAAAAAAAAAAAAAAAAAAAv3aB7AAAAD3RSTlMAmYkQqzLvVES73WZ2\n",
       "Is1wFLxSAAAACXBIWXMAAA7EAAAOxAGVKw4bAAAB50lEQVQ4y6VUzytEURT+Zi7z5odn3ppEYiNp\n",
       "kmzIiLKaxIKdspOQKVZKZqWUxSwslfFrYUe2yiSyoV6xIWXKPzCZhVkI59z73vUGYzFzas6758x3\n",
       "v8757r0H0GaiYrNLouvKiTbVx9caI2+0VE5Udyw/bZNJ8gOowl6kn9ngihqrITphFyzI9XQ1RAEu\n",
       "xZ/hpZGrhqieRIqMHFisOGt93/nk+dccus3+v1/j/YPkolmXM7iAndg3bN0OFf7lUXhBtyjC/TyP\n",
       "cTJMJ9d7jAagz2lSzMGXQXfbcFkihfdTIQYrvKbkSgHNwB5qbzLO9coj3AKLsWVM4qXV5sl1aKJZ\n",
       "iCKxO0SBNOIpFJ2K/zKFl01yRVtwWhPviOS/ieJZnAOn5YkUPngJZ8+8zIayEG+oya3KpGCiJEYN\n",
       "W1YsfpPwT+L7o3Q+kTQdclEf4DZWLEsSxXNMbez6qP19FYoP/Fgo/N2Kc3mMvJKLtvdcTCXGJFGY\n",
       "dotE+/0V8BBTIXZZAMtdcEbhtzkkhX2DqthDt2rZ75K+lZZpe0JtOiMKpOEjsFyf9Lw7TaRnysPE\n",
       "eMwTatMZI2fJF3/kjo+QM+bMrlfSXb+Nxc9PeEJdh86IhA2TtD5rchNp76T6Mbh+j7KSKFQya58q\n",
       "f/y3wBe0xnpIh+uwJAAAAABJRU5ErkJggg==\n",
       "\" style=\"display:inline;vertical-align:middle;\" /></a><br>"
      ],
      "text/plain": [
       "<IPython.core.display.HTML object>"
      ]
     },
     "metadata": {},
     "output_type": "display_data"
    }
   ],
   "source": [
    "f__a_1_to_i = Function(f, a_1_to_i)"
   ]
  },
  {
   "cell_type": "code",
   "execution_count": 82,
   "metadata": {},
   "outputs": [
    {
     "data": {
      "text/html": [
       "<strong id=\"g__a_1_to_i\">g__a_1_to_i:</strong> <a class=\"ProveItLink\" href=\"../__pv_it/common/91df282e531dc076061551dc17931f746f1b916a0/common_expr.ipynb\"><img src=\"data:image/png;base64,iVBORw0KGgoAAAANSUhEUgAAAI4AAAAVBAMAAABicsu7AAAAMFBMVEX///8AAAAAAAAAAAAAAAAA\n",
       "AAAAAAAAAAAAAAAAAAAAAAAAAAAAAAAAAAAAAAAAAAAv3aB7AAAAD3RSTlMAVIl2ImbN77sQqzJE\n",
       "md23+iBgAAAACXBIWXMAAA7EAAAOxAGVKw4bAAAB4ElEQVQ4y6VTTSgEYRh+1szaGWuWJHJh48Zl\n",
       "8nNS2vwUSjnJzVwcxYFCDoqLHIwIcVhRlAvFiUI5KCe5KbHclNXKpkTx/fn2Wyy1+x6+nmd65pn5\n",
       "3ud9AVkhpFu6SrT8tH1ybYUUIP2qS0DTycAn25XQ6szAx3suoQ+Z1IhERRn59NIG17SQ84Lmt1ar\n",
       "dr69oumfvKW+Eshy9GHheBoyXpU0BzHj/unD9fMEdQFlLp4JuiWRDcGKwOwSqsVOXMMs30rpxfWo\n",
       "ILAYGIU/TtAYiSyGQBC7DUJ2A9zBYtLfi+tZHcH/BG2A+/jGET4GSoVsGOY78o71t1Q+Qs9uCG8c\n",
       "xiq/V9hGD6SP+QxvDF43tQ/Xn6yyd4g2TEdwgjzPx4YnxHxIT8wn5DiFJIcIo997A6Fvs2k03TDj\n",
       "2HZ5cobtiVrsf8wX5lx6Tub00OU07CAB2MH0+myET81Z9TX9wCFRrVe11/N7PRLr5eq99R3oU4IG\n",
       "6OxHIUDg/ktv0BF6oBZ99AjsfP0y9fHIm3SgWaWySmSXVshARrDv+t+SV436ZMmRnT64VGiignKh\n",
       "LLbkm+4Cn+1J8byxnwzWnMz24yOm0ESf5QIt1wKttD1XnC+pMjv5LfuHj5bEJtWls9Pedi2ET4Gw\n",
       "ebgbwQJXAAAAAElFTkSuQmCC\n",
       "\" style=\"display:inline;vertical-align:middle;\" /></a><br>"
      ],
      "text/plain": [
       "<IPython.core.display.HTML object>"
      ]
     },
     "metadata": {},
     "output_type": "display_data"
    }
   ],
   "source": [
    "g__a_1_to_i = Function(g, a_1_to_i)"
   ]
  },
  {
   "cell_type": "code",
   "execution_count": 83,
   "metadata": {},
   "outputs": [
    {
     "data": {
      "text/html": [
       "<strong id=\"f__b_1_to_i\">f__b_1_to_i:</strong> <a class=\"ProveItLink\" href=\"../__pv_it/common/d11e64ac94a9cfc8fc504686da3edbc6c0900f2f0/common_expr.ipynb\"><img src=\"data:image/png;base64,iVBORw0KGgoAAAANSUhEUgAAAIgAAAAVBAMAAABvbLv8AAAAMFBMVEX///8AAAAAAAAAAAAAAAAA\n",
       "AAAAAAAAAAAAAAAAAAAAAAAAAAAAAAAAAAAAAAAAAAAv3aB7AAAAD3RSTlMAmYkQqzLvVES73WZ2\n",
       "Is1wFLxSAAAACXBIWXMAAA7EAAAOxAGVKw4bAAACEUlEQVQ4y51UMWgTYRT+Ltf0ktgkh6OiPSWT\n",
       "gxxSCmJpSgUdzJAOuip0KNiCAUsHFzsVOlVBnFqoVqHtdKWTIHJDwMEMgU4BwYhuLiWhpIu27737\n",
       "/+uFswnkwf/fe//7/u++97//Dggti4Gse9vXwUhSvjyM6y7NloPbTyNJ8+1m790a/U3mwqMKzZM0\n",
       "fkZBObuPBoXOsQTMrfLjMo1OFJOv9CFR6Av8slRb/Cehp2zN7XMYGj1LIyG1W03tabvRR0iI/kNq\n",
       "7n1gPYZD1ZWqkRJ+1+73JAnRBa5depTzgOIv8+9Zd/65xXovEkGbBPlCwY8yL2WI9aWLBdxpBhir\n",
       "jWH/VuHuuSSCTpCCJQ5kaXgZuAq0kjVVqtFE3rFx6VwSRovzODxAJnmPVAeWIsk4WKscK53/M0Gz\n",
       "rdB4A11OB0Y7JKFrMuru9yBhdKpKzgsaC7KUpuKOMO4JickkZXM+0Bm/L5wX9ESekp/oKzwOuj4F\n",
       "PMBrCEmRDnfIS1Prk1vUJukVguXQEfQBq7hImw6FJEl7x655AUlmi9DT/CE06E27LOUdl2xrh/IB\n",
       "ep2cberCVCDxo5IqZ/Jc/yzsbB1WvB6dN9tlZDexmFOXdC9K4qig8XDGRSJ+qDpvNW0YHnYmVZwO\n",
       "rmf2ZsuH6avFZycnwET8YHXeLNXRAD5f0fGrM9BI1xY/RtKV34gG3wf7PY7UcQqh536zG/vTLgAA\n",
       "AABJRU5ErkJggg==\n",
       "\" style=\"display:inline;vertical-align:middle;\" /></a><br>"
      ],
      "text/plain": [
       "<IPython.core.display.HTML object>"
      ]
     },
     "metadata": {},
     "output_type": "display_data"
    }
   ],
   "source": [
    "f__b_1_to_i = Function(f, b_1_to_i)"
   ]
  },
  {
   "cell_type": "code",
   "execution_count": 84,
   "metadata": {},
   "outputs": [
    {
     "data": {
      "text/html": [
       "<strong id=\"f__b_1_to_j\">f__b_1_to_j:</strong> <a class=\"ProveItLink\" href=\"../__pv_it/common/fd1ebedd5ee92927a98e765ed5931e5f5af07def0/common_expr.ipynb\"><img src=\"data:image/png;base64,iVBORw0KGgoAAAANSUhEUgAAAIoAAAAWBAMAAADtDRlvAAAAMFBMVEX///8AAAAAAAAAAAAAAAAA\n",
       "AAAAAAAAAAAAAAAAAAAAAAAAAAAAAAAAAAAAAAAAAAAv3aB7AAAAD3RSTlMAmYkQqzLvVES73WZ2\n",
       "Is1wFLxSAAAACXBIWXMAAA7EAAAOxAGVKw4bAAACFklEQVQ4y2NggANeBvIAqr7jZJrCcQBMMSoZ\n",
       "AEl2BQbLLCRJ5mkL8OuGqz4NJlXCCoCkHRA/RFbFJ0DAETDVfCBHMKR3gihpIP6OrIi/gIApMNXc\n",
       "IOs4PoPZCXAWFPQbEAgPuOpkIGYC+5/9AYwFA1oEnIJQ/RroHrclIBcxKgA96HMEyRdPzrjjNQWh\n",
       "WgXkf3BM8W1gYLB/zPwXEUf/DOwv4DMFopoVyNoHxPcDQGJcQHPrDRhyGKwfQBSxf2ZgO2Ck4ozT\n",
       "FLBqBi6g7jIQDyzG1sDAIMfA8In1DNS7jA8Y+BUEGKRwmgJSDWHFw0MRZMoiBo7vDOxQU7gUGPoL\n",
       "fkBdig2AVYNBGxBPYYD56DsD42e4KcDkIm+wGY8pYNU24kBWFRDngMU4gWH8lcFsA9gUZpApAczZ\n",
       "EJcyYxgAFgGrFqgDsnYCs+QPSOw7MDB4M0xkAJtiDwxhlg2cwBTAuhjCY/7HgMYAq2Y2UASyhIC6\n",
       "PoBNYQVqNlHcADGFC6iX2QmUJ24aQHgMC0G+FoAxQCJg1aAUx7ACGBcOEFcuhboWHC7FsLJDgPcC\n",
       "gocACBFgkuFdwFDCB02AG5FNUYByboYGGiB4CAAXYQVmP8YNDCvtoHxOSELl1ft0gIH5AFQw//9/\n",
       "BgQPEbpwER6gT24yMOyRhclMQKjiQdHDg+EUhAgo48xFlrpDRmn5Igxo5AUGCoGMMJgCAHuyfNvL\n",
       "K3WDAAAAAElFTkSuQmCC\n",
       "\" style=\"display:inline;vertical-align:middle;\" /></a><br>"
      ],
      "text/plain": [
       "<IPython.core.display.HTML object>"
      ]
     },
     "metadata": {},
     "output_type": "display_data"
    }
   ],
   "source": [
    "f__b_1_to_j = Function(f, b_1_to_j)"
   ]
  },
  {
   "cell_type": "code",
   "execution_count": 85,
   "metadata": {},
   "outputs": [
    {
     "data": {
      "text/html": [
       "<strong id=\"g__c_1_to_i\">g__c_1_to_i:</strong> <a class=\"ProveItLink\" href=\"../__pv_it/common/e03d0bd72023e90a1fd531ac37255895f1952b270/common_expr.ipynb\"><img src=\"data:image/png;base64,iVBORw0KGgoAAAANSUhEUgAAAIgAAAAVBAMAAABvbLv8AAAAMFBMVEX///8AAAAAAAAAAAAAAAAA\n",
       "AAAAAAAAAAAAAAAAAAAAAAAAAAAAAAAAAAAAAAAAAAAv3aB7AAAAD3RSTlMAVIl2ImbN77sQqzJE\n",
       "md23+iBgAAAACXBIWXMAAA7EAAAOxAGVKw4bAAABz0lEQVQ4y51UTShEURT+zI+Z13hDFmSDRjZs\n",
       "Xn4WNpIoG1IiZTMbS1E2yEKxkc0VSSzGTtmYYkWhLMRKVpSYsVOIDCULzrn3/dxJY/FOvffO9953\n",
       "vtf5u4BrHfBlIR0Ey/yJlFgaKIdPa/VcI+lXpFi4rtnvVyR86boR+LZp16vwLzLKFW3upvsVw7rW\n",
       "tPct0Dzyf7DDbiBuMjRly/WVmXNe/7O4/ldDslfJGQJqBN7Jy9L1gIhlDNmceC0mjcSOKCjCbNSR\n",
       "UwnMIJYjb5Ya9EXPvXabc0/hJsxMIQ3JlnaM2BuCE0okInOptj9xjqUnoe9CIhE38zOEc4huqXRS\n",
       "liZicI5hUVhEsk+3ZET4FSmes3n6Lz1PpAgX4oPWgsqeUSjfDCj2ucU5DcPIYVeoPlGxA2kWMT7p\n",
       "BbWmETgSCqWS8Bx5Y/b+ckZNx0XTHYsf0ZUYbFPpvJBsoH5AILRoozjP9jNsJ/5os6Oc0xPHj8mO\n",
       "OmPGIkVOBr3o0pBnVU5hNmmgMjgQse+8NWKRgDNwS4c3HtKs1lkWU67utlhTp8qCet05TvOz4rTx\n",
       "5+fVQ1phnYNoowXo4ZLcKryukay8EOuPSFAHC/pZafnb4WAHfgFR+mny0j5uzgAAAABJRU5ErkJg\n",
       "gg==\n",
       "\" style=\"display:inline;vertical-align:middle;\" /></a><br>"
      ],
      "text/plain": [
       "<IPython.core.display.HTML object>"
      ]
     },
     "metadata": {},
     "output_type": "display_data"
    }
   ],
   "source": [
    "g__c_1_to_i = Function(g, c_1_to_i)"
   ]
  },
  {
   "cell_type": "code",
   "execution_count": 86,
   "metadata": {},
   "outputs": [
    {
     "data": {
      "text/html": [
       "<strong id=\"f__x_1_to_n\">f__x_1_to_n:</strong> <a class=\"ProveItLink\" href=\"../__pv_it/common/9c8f9c0c3ca5a7df840ea1afd668e83e9c2a06130/common_expr.ipynb\"><img src=\"data:image/png;base64,iVBORw0KGgoAAAANSUhEUgAAAJYAAAAVBAMAAABWCwqnAAAAMFBMVEX///8AAAAAAAAAAAAAAAAA\n",
       "AAAAAAAAAAAAAAAAAAAAAAAAAAAAAAAAAAAAAAAAAAAv3aB7AAAAD3RSTlMAmYkQqzLvVES73WZ2\n",
       "Is1wFLxSAAAACXBIWXMAAA7EAAAOxAGVKw4bAAACBklEQVQ4y2NggANeBkoAqu7jFJnFcQBMMSoZ\n",
       "AEl2BYrMYjgNJlXCCoCkHWVGMfCBHMSQ3gmipCk0i1sA5NPPYHYChWYxJAMx0wIQi/0BpWa9BrrN\n",
       "bQnIdYzAoGc+4xykjiRrc8RUqQCfdhQNKkDMD45Nvg1A8xiOHJBCUirA48O4AJ9ZKBr2AfH9ABCL\n",
       "C+iAvQz7DbwZmPfBQvMC92eWDcxKLga4zIJogIIyIK4Hs9gaGBgCGOSArJhTUElWBsYHILtxuw2i\n",
       "AQrigVgLbhYDQw6IqIJLswG9z9/A+xW3L3MQzDYgnsIA8yMDx18GY2Sz+i8wG3Ab4DELrGHj1jMC\n",
       "UCdAjOY8wMA8gyWBQQEiCAoiywY3BiZIomHGNAaoAqKBeUc2Qy5QYCcwg/8ASzE5MLB/NUzgKACb\n",
       "xfwPFJDBYgztQDrKgMH+AVQMzgAREA28Ng8YQMldCCjwARLQQMtlDhRuhzp2FdBawzPs0kCjeScD\n",
       "Q2AxUGwhKCgEoAyQCqgGlgMcoEyzAhhPDhA3L4W7HmQWOyIdXGS4y8BQjOFHhAq2AEaBAAbeBQwl\n",
       "fNCUvRHFLCZEITc1VJiBAbNAQqi4z8AVHsDAuIFhJays4bwAZVx6rwPMPoh08f//BwbmAxhmIVS0\n",
       "MPBoMzDcZGDYIwvLWxOQVaLp5cGMR3TT5yJz7lBUSvBcYAAA+ONzzVViwpoAAAAASUVORK5CYII=\n",
       "\" style=\"display:inline;vertical-align:middle;\" /></a><br>"
      ],
      "text/plain": [
       "<IPython.core.display.HTML object>"
      ]
     },
     "metadata": {},
     "output_type": "display_data"
    }
   ],
   "source": [
    "f__x_1_to_n = Function(f, x_1_to_n)"
   ]
  },
  {
   "cell_type": "code",
   "execution_count": 87,
   "metadata": {},
   "outputs": [
    {
     "data": {
      "text/html": [
       "<strong id=\"f__y_1_to_n\">f__y_1_to_n:</strong> <a class=\"ProveItLink\" href=\"../__pv_it/common/60bfa5e9a2fce657b7a87b0a2aa72ecbc09325350/common_expr.ipynb\"><img src=\"data:image/png;base64,iVBORw0KGgoAAAANSUhEUgAAAJEAAAAVBAMAAAC01xHeAAAAMFBMVEX///8AAAAAAAAAAAAAAAAA\n",
       "AAAAAAAAAAAAAAAAAAAAAAAAAAAAAAAAAAAAAAAAAAAv3aB7AAAAD3RSTlMAmYkQqzLvVES73WZ2\n",
       "Is1wFLxSAAAACXBIWXMAAA7EAAAOxAGVKw4bAAAB3klEQVQ4y6VUTStEYRR+Zq6ZO1+XuyYlWSFN\n",
       "FlZioqzHAhvFzgK5RRYszMJGWVj4AYQFWZCUhTQ2lCjZkXLLD6Bmo+TjnPfLTHdYuGdx7nne97lP\n",
       "z3veD8CEg//HbQW6DKG0Kj+R5ixluymEUuZAfFqGPco9CBPPIk+ssKeGUEqHnBIlUY+HUoqzmegG\n",
       "l7YfSqmWGpUe2Ha57dTw7gZYOTNZiapEOSHKRV1RizbNI/1qiJWoSpQT0rykpzyXKQ8xrx41a9aZ\n",
       "nJOos6X/NyFJUMDmNi/JlhVgYQrx4uiVnJPIRf1vSpKgZdlcq1biXRzLY0FNCvSmLFcLSVc1e1qH\n",
       "Wh0iPi5glAQ6+kNJEA6Pr3nDbD4AU2I4ST6TOZZlJT4dErFlK6iiCdbJJKa549Qw581sYySXeBdK\n",
       "1ic0im0Bvb4a4uIHMcHp9lFSh8iWGxkje1bf+Yf0tJfV6J6qFKlhk1vg6mQINUXRolSBlaXfHeHM\n",
       "l0p2ViHHdejtmQ2szhDi+YhLnXwA5mo9cwc70OVJpSgUuh8apH+CD44hPCE1khf3f1e/Jslb7KMP\n",
       "uHtpp4tAAwLNfH3RMorBm6IJy8i0UbOp4aeN+qCtYfG8oAD/+oMywb2rJLCNsngM8RTcAN9pFIDn\n",
       "dFWo/QAAAABJRU5ErkJggg==\n",
       "\" style=\"display:inline;vertical-align:middle;\" /></a><br>"
      ],
      "text/plain": [
       "<IPython.core.display.HTML object>"
      ]
     },
     "metadata": {},
     "output_type": "display_data"
    }
   ],
   "source": [
    "f__y_1_to_n = Function(f, y_1_to_n)"
   ]
  },
  {
   "cell_type": "code",
   "execution_count": 88,
   "metadata": {},
   "outputs": [
    {
     "data": {
      "text/html": [
       "<strong id=\"g__x_1_to_n\">g__x_1_to_n:</strong> <a class=\"ProveItLink\" href=\"../__pv_it/common/c52df5d678838de8e6af22563c046a2cb2277adc0/common_expr.ipynb\"><img src=\"data:image/png;base64,iVBORw0KGgoAAAANSUhEUgAAAJUAAAAVBAMAAAC9PLGkAAAAMFBMVEX///8AAAAAAAAAAAAAAAAA\n",
       "AAAAAAAAAAAAAAAAAAAAAAAAAAAAAAAAAAAAAAAAAAAv3aB7AAAAD3RSTlMAVIl2ImbN77sQqzJE\n",
       "md23+iBgAAAACXBIWXMAAA7EAAAOxAGVKw4bAAACBElEQVQ4y6VUMUhbQRj+krxnfHlJGhwEKaXa\n",
       "wcGhPExxCBSyFOyiT+jSoTRLhw6FBy5ShQo6OhyKoogYkCJODXZSUVIcAl0aWqKLljpKqUQbBFHQ\n",
       "/97l3bsIyfJ+uMv33bvv++/uvxwgI4sg0aCOpAJ57aukI5AVIraPjVwwL7z3YcIO6PXGh9GAVogy\n",
       "CTuDerXxjXWkX1D/k9pcZvmJUk0jvbHZ01KvCsJ5ajltjOA7auXIWuKPcoTIWL9beqkCnYr3mOE/\n",
       "wRNiWf0qZmPeq+grvGWfMdu30cyqLhARcoCPMGsEJwATCbIx016mAg54bjRdmxB4pArzHBFHeFEt\n",
       "LJ7A3+YotRsMF5oXz5Iw7kCvoT0v9gj8yBpM8YrXsITXrby4QK98fS6WoFexyrc8BSwW1xGur4su\n",
       "izETc9BN+KlL74UBTzBfsqP0z9YnYdTwhc/soypsHeKb8DIu6fd6xYlTxc1Tl2I1J8Z9JgQvB/CA\n",
       "HBKU9nu/e7Z7wEo6VEnV13XGYPyyHo0QHGQuRbJM5B/qXfJUCtZQ4gNF/ukD75LyUFyvkNyVVtay\n",
       "CpXRJdE4jk1gCNhm5rV7V8oNXmE5c3BnlylURrdMVsXfh0AFWGcLoq7T3qfeCxqYk5pPt7cqlWcv\n",
       "b0M8j34b2iQ/riMxtNgw1UIryt++e7xdfaQ1K9Az8Qy4A2jRhTL9viX5AAAAAElFTkSuQmCC\n",
       "\" style=\"display:inline;vertical-align:middle;\" /></a><br>"
      ],
      "text/plain": [
       "<IPython.core.display.HTML object>"
      ]
     },
     "metadata": {},
     "output_type": "display_data"
    }
   ],
   "source": [
    "g__x_1_to_n = Function(g, x_1_to_n)"
   ]
  },
  {
   "cell_type": "code",
   "execution_count": 89,
   "metadata": {},
   "outputs": [
    {
     "data": {
      "text/html": [
       "<strong id=\"g__y_1_to_n\">g__y_1_to_n:</strong> <a class=\"ProveItLink\" href=\"../__pv_it/common/8750681f94eecdd617d0726070e5f9e806a1ba380/common_expr.ipynb\"><img src=\"data:image/png;base64,iVBORw0KGgoAAAANSUhEUgAAAJAAAAAVBAMAAABbFXrgAAAAMFBMVEX///8AAAAAAAAAAAAAAAAA\n",
       "AAAAAAAAAAAAAAAAAAAAAAAAAAAAAAAAAAAAAAAAAAAv3aB7AAAAD3RSTlMAVIl2ImbN77sQqzJE\n",
       "md23+iBgAAAACXBIWXMAAA7EAAAOxAGVKw4bAAACEklEQVQ4y6VUTUgbQRT+kmwa101iKKiI0AYE\n",
       "Dx7KotieArkU4smAIHrqXnosKF5sLbTQnjwtij94MdhD25OKN8Wfm+DFIOihWJvSk/iDP2lBFOx7\n",
       "M5PdyJIcsg/m7Xs733478715AziWRs2mlSehRO1EUbMseQwf1u2GuuWH6JHthLGsH6Jw3gkj8GVv\n",
       "najJH9FrVrnrJfk9kimVxZw7N7kPPVfl2wfwDiBoaaOSMhgYwisXmGxG+KIK0QN4P/DUxjVFv4Hl\n",
       "WAHfMKXKZySOUP9xouN7JSIJV9YMvINRpOg9YEdMjBhdBbVyjCBi5nFUiUjAS8kmjEuEhiQRdm3j\n",
       "FoFC6bjeYHPpDr1LlZgEXNk2wkXU5eTWcMCcDlHMwgsMViFieHh/JcXxE9Zzns/iJxrjzMlEOs9R\n",
       "PE6PZ7QJb8Wg4FPb2Qh3+wD0IhZtWT/8wG5WEM2z4LFc9C9pfgz9H9Qrdm7G8J7naLDl6dnpFHJu\n",
       "0Jhr+5UWRPFj/utCiqqQIdg5jTg3gXBnUAAB/0LykJ2ye8MuLqRoh9SoRZ4UC1peI27v3iSA4GP4\n",
       "adCFVMCqkp7aLmjpw4ooKVAzCWTW1m0EvUInIeHaBU5aRct/taflrfQZcbM+Ca39yoTOr/5gAfhw\n",
       "f0/N4hWbAAIezaGTapVhiQ7l3CwCfYel25JdY2pLpaaHiAEunFdRdu+atfd+KI3/2EyLQQ4CVrEA\n",
       "AAAASUVORK5CYII=\n",
       "\" style=\"display:inline;vertical-align:middle;\" /></a><br>"
      ],
      "text/plain": [
       "<IPython.core.display.HTML object>"
      ]
     },
     "metadata": {},
     "output_type": "display_data"
    }
   ],
   "source": [
    "g__y_1_to_n = Function(g, y_1_to_n)"
   ]
  },
  {
   "cell_type": "code",
   "execution_count": 90,
   "metadata": {},
   "outputs": [
    {
     "data": {
      "text/html": [
       "<strong id=\"A_i\">A_i:</strong> <a class=\"ProveItLink\" href=\"../__pv_it/common/64a4f7c05723d70317243136150143bf16c1bf560/common_expr.ipynb\"><img src=\"data:image/png;base64,iVBORw0KGgoAAAANSUhEUgAAABYAAAASBAMAAACtCzMeAAAAMFBMVEX///8AAAAAAAAAAAAAAAAA\n",
       "AAAAAAAAAAAAAAAAAAAAAAAAAAAAAAAAAAAAAAAAAAAv3aB7AAAAD3RSTlMAIs1UmauJMnZmRLsQ\n",
       "3e++988cAAAACXBIWXMAAA7EAAAOxAGVKw4bAAAAgklEQVQI12NgAAEhBgTQRzCZ/yPYLPECcHZi\n",
       "fgGMydjQbwBXwmA/AcZezFCfwMDAA9bjwCAfwMDA1gBkcmxxid8AVXKCgYH/ApTtwMDA+4CBqxXI\n",
       "5AKawfSB4QT/AQYGOSCf+yODjC0Dw+n/OgzM+z8lMOxAuInnTwHCrQoOCPEIAQCEzhj27vJPYgAA\n",
       "AABJRU5ErkJggg==\n",
       "\" style=\"display:inline;vertical-align:middle;\" /></a><br>"
      ],
      "text/plain": [
       "<IPython.core.display.HTML object>"
      ]
     },
     "metadata": {},
     "output_type": "display_data"
    }
   ],
   "source": [
    "A_i = IndexedVar(A, i)"
   ]
  },
  {
   "cell_type": "code",
   "execution_count": 91,
   "metadata": {},
   "outputs": [
    {
     "data": {
      "text/html": [
       "<strong id=\"A_1_to_i\">A_1_to_i:</strong> <a class=\"ProveItLink\" href=\"../__pv_it/common/de6f19c8d568395af863afba5ac91186a67491650/common_expr.ipynb\"><img src=\"data:image/png;base64,iVBORw0KGgoAAAANSUhEUgAAAH8AAAATBAMAAABLpc8BAAAAMFBMVEX///8AAAAAAAAAAAAAAAAA\n",
       "AAAAAAAAAAAAAAAAAAAAAAAAAAAAAAAAAAAAAAAAAAAv3aB7AAAAD3RSTlMAIs1UmauJMnZmRLsQ\n",
       "3e++988cAAAACXBIWXMAAA7EAAAOxAGVKw4bAAABgElEQVQ4y4WTP0sDMRjGn3hHW+1Vq4g4aScn\n",
       "ocVVoR3azaGLc6uDuOnmJJ6b4GA/guCim4PgIvRERMWhNziq+BHaii2icuYuvebf1T6Qy5vfmzzk\n",
       "3iSAryko0oAukhEGWTWbHW4w0uSx4SlJDUQoLxiYlbSc1ECESi0er2/vyEkN6IrNdHk57OOcXB8V\n",
       "RGg28cE3jHxN/gMVRKhgfPXjU+xXpaQGdI3l4h3a3TAzzJeBR36uAbA215zBBibIJ+22/DhxWaxc\n",
       "IH7ohkkGTJjuYIOjYuk7jB+ACTrVcGUwcUK6A9dbNvDLN4zUu2jAwKjzj4FJ2xtwVvbLUWPX0jew\n",
       "IADEXAZkBYU5D667Zf/Qfo62ZIsZNDICwJ4TAKuNXqY/InTHqKfJLV3z5C3CqLergUHqRQDkmgE8\n",
       "05YqhJ9XB1a97WDZW0DSFh+QX4MVAUxjUga9ecLhNu5VA+H+kKvdVQmEj0CIl0xh/kbHDk4n1Ljn\n",
       "NSXAD7mvuwMlmcAwACiWfxR6aVYMQZOPAAAAAElFTkSuQmCC\n",
       "\" style=\"display:inline;vertical-align:middle;\" /></a><br>"
      ],
      "text/plain": [
       "<IPython.core.display.HTML object>"
      ]
     },
     "metadata": {},
     "output_type": "display_data"
    }
   ],
   "source": [
    "A_1_to_i = var_range(A, one, i)"
   ]
  },
  {
   "cell_type": "code",
   "execution_count": 92,
   "metadata": {},
   "outputs": [
    {
     "data": {
      "text/html": [
       "<strong id=\"A_1_to_j\">A_1_to_j:</strong> <a class=\"ProveItLink\" href=\"../__pv_it/common/d35490c57092deb422ab995cc9e9ae7966e8f0000/common_expr.ipynb\"><img src=\"data:image/png;base64,iVBORw0KGgoAAAANSUhEUgAAAIAAAAAVBAMAAAB8u/sIAAAAMFBMVEX///8AAAAAAAAAAAAAAAAA\n",
       "AAAAAAAAAAAAAAAAAAAAAAAAAAAAAAAAAAAAAAAAAAAv3aB7AAAAD3RSTlMAIs1UmauJMnZmRLsQ\n",
       "3e++988cAAAACXBIWXMAAA7EAAAOxAGVKw4bAAABj0lEQVQ4y6WTv0vDQBTHv2lCW2tqq4g4qZMg\n",
       "CO2u0Azt5uDi3OrgqpuT2qGC4GD/BMFB3BwEF6EZFQUzCC4q/RPaii0iEi93Te9XqkO/cM27z7t+\n",
       "eXnvAgSagiIN6DIWhE1Ozeb+N4i1eGz6SlIDESoIBlY5Kyc1EKFSm8ebO7tyUgO64jM93o7qaV7u\n",
       "jwoiNJv84AWjUJffQAURcsyvQXyOw4qU1ICuVD7RDZ70VR3MrwP3fK4U2Nsb7nADC8Zn8HwhK3ld\n",
       "LF8hceyFSQYsWN5wg5Ni6TuM74AMOWp6MsicGb2h/7erwA8vGOmmaMDAmPuHgUXWO/GpkWml6uxa\n",
       "BgY27U8fIO4xIIs25pJdd8skjZsj8XibGTwFjQwB9l0K7A76mcHOIBWjkcVj3MGDvwyz0alQg/Qr\n",
       "ODBuGcAzWWkn/HlzYTc6Llb8RVKpcF9oD1aFWqcxKYP+OXG4maxiINwf42ZvTQLhRyBuDoTzW90q\n",
       "nU6oCd9vSYAPmetISSbxHwAkyyWMpNhFczQDq+biF/7taGoxhcgYAAAAAElFTkSuQmCC\n",
       "\" style=\"display:inline;vertical-align:middle;\" /></a><br>"
      ],
      "text/plain": [
       "<IPython.core.display.HTML object>"
      ]
     },
     "metadata": {},
     "output_type": "display_data"
    }
   ],
   "source": [
    "A_1_to_j = var_range(A, one, j)"
   ]
  },
  {
   "cell_type": "code",
   "execution_count": 93,
   "metadata": {},
   "outputs": [
    {
     "data": {
      "text/html": [
       "<strong id=\"A_1_to_l\">A_1_to_l:</strong> <a class=\"ProveItLink\" href=\"../__pv_it/common/a661ce209a2c221820bbff00e1d4b098820c37af0/common_expr.ipynb\"><img src=\"data:image/png;base64,iVBORw0KGgoAAAANSUhEUgAAAH4AAAATBAMAAACkZ6Q/AAAAMFBMVEX///8AAAAAAAAAAAAAAAAA\n",
       "AAAAAAAAAAAAAAAAAAAAAAAAAAAAAAAAAAAAAAAAAAAv3aB7AAAAD3RSTlMAIs1UmauJMnZmRLsQ\n",
       "3e++988cAAAACXBIWXMAAA7EAAAOxAGVKw4bAAABgklEQVQ4y4WTP0vDUBTFT0xoo6a2ioiTdnIS\n",
       "WlwV6tCKg4OLc6uDq25OYkbBwX6EgpObg+AiNIugOLSDk6j4EdKKLSISX95LXt6fVA8kvf3de9Kb\n",
       "e1+BUDNQpAFdRjGJS2qy9L9/zOehGSg5DaSokvitekHOaSBFtR4Pdw8O5ZwGdGXmhnwS7nlZHo0K\n",
       "UjRvf/BuUWnK7asgRevmVxxe4KQh5TSga6KcHfBHYXEbeEj2SYGzv+ON9lswPoG7cAf2dbV+hexp\n",
       "N84xYMHqjvafVWvfZM/hb94DeVJp8moG8i1jONLuuMAP6aJBu0XuXfQzMO794bfI9UbKWmQSTXYW\n",
       "Q79DRxMBZLoMyKJDuWRnvEM+Fsg12WP+TlEAOPYocPqIbvybQfpFu4AV4DFYhtnuN6g/9yIA45YB\n",
       "PCG65cib4dWD0+57WA2WsCH+Z8L3XxPALKZlENUJW332FL9wbIyboy0JxAdfiH03Kd8buHQtsaaC\n",
       "wJdAsl2uzZacs9ViW5+//MRfnLFpNIjVij4AAAAASUVORK5CYII=\n",
       "\" style=\"display:inline;vertical-align:middle;\" /></a><br>"
      ],
      "text/plain": [
       "<IPython.core.display.HTML object>"
      ]
     },
     "metadata": {},
     "output_type": "display_data"
    }
   ],
   "source": [
    "A_1_to_l = var_range(A, one, l)"
   ]
  },
  {
   "cell_type": "code",
   "execution_count": 94,
   "metadata": {},
   "outputs": [
    {
     "data": {
      "text/html": [
       "<strong id=\"A_i_to_j\">A_i_to_j:</strong> <a class=\"ProveItLink\" href=\"../__pv_it/common/f544c1c0c0391d80fd85848ffbbdf729a89f95230/common_expr.ipynb\"><img src=\"data:image/png;base64,iVBORw0KGgoAAAANSUhEUgAAAJAAAAAVBAMAAABbFXrgAAAAMFBMVEX///8AAAAAAAAAAAAAAAAA\n",
       "AAAAAAAAAAAAAAAAAAAAAAAAAAAAAAAAAAAAAAAAAAAv3aB7AAAAD3RSTlMAIs1UmauJMnZmRLsQ\n",
       "3e++988cAAAACXBIWXMAAA7EAAAOxAGVKw4bAAABm0lEQVQ4y61UMUtCURT+7D1M7InSIA1RTkEQ\n",
       "6F7iG3RvbNO2thybykGniKS/0BBtDQ2Fg28MCmoIWircW9KoiAo775rec+/La0Ef3PvOx3f83jvn\n",
       "3CvgYxIqdG5CKMVIWhPTfzAae5Sx1VU1nRuRY0Z2MaFoOjei0Jbx6npZ0XRuQjj5KttV2c0o7dO4\n",
       "EVORJ1kJcnWlMo0b4Vpvg3gfWyXASQzjJkQz4y/+U/TCxewyFVsZvETlzp7ByEbo2X/e0Ioc54tH\n",
       "TOPcpbWxYzDazhfe+/EZEL9iGufCMDvcx6HP/pSVINZCtPYTH2Vk07onvyqNOVoXx/ws7sET7ZNc\n",
       "GjlBD5F82LtPtkUXbobiiTams3A6viY5M7qkRCGLbcBCLdqaCVyEXZx3F2A1OyWcAHf0FsbtRuOh\n",
       "cSqMYrf0i2t8bzF/BpTsNDseFrtzVII8eM5HGZYHhbMeLQVK48mIy0NnpVyEeV7K5Ual4CXjZJN9\n",
       "wUrCH7zCe0bJ9JoYswaejJqqBbP7BzMSnJqSPD/ySv7uT/KghX+BXfXwBVS0bmN9CMDMAAAAAElF\n",
       "TkSuQmCC\n",
       "\" style=\"display:inline;vertical-align:middle;\" /></a><br>"
      ],
      "text/plain": [
       "<IPython.core.display.HTML object>"
      ]
     },
     "metadata": {},
     "output_type": "display_data"
    }
   ],
   "source": [
    "A_i_to_j = var_range(A, i, j)"
   ]
  },
  {
   "cell_type": "code",
   "execution_count": 95,
   "metadata": {},
   "outputs": [
    {
     "data": {
      "text/html": [
       "<strong id=\"A_1_to_k\">A_1_to_k:</strong> <a class=\"ProveItLink\" href=\"../__pv_it/common/f7be30560f2eea1e9b9c8f4f5a1d87bbf14f79130/common_expr.ipynb\"><img src=\"data:image/png;base64,iVBORw0KGgoAAAANSUhEUgAAAIIAAAATBAMAAACuF8goAAAAMFBMVEX///8AAAAAAAAAAAAAAAAA\n",
       "AAAAAAAAAAAAAAAAAAAAAAAAAAAAAAAAAAAAAAAAAAAv3aB7AAAAD3RSTlMAIs1UmauJMnZmRLsQ\n",
       "3e++988cAAAACXBIWXMAAA7EAAAOxAGVKw4bAAABkUlEQVQ4y4WTP0jDQBTGv5jYpjW1VUQ62U5O\n",
       "QrtbqEO7ObgIOrU6uNrNSay4CA52dxGc3CoILkIzKg5mcHBQ0dWprdgiIvF6lzT3J9UP8uf93uPj\n",
       "7r07YKBpSFKAKi3LRzk5nfvfYazNBborZRUQoiLvYFRSYlYBISp3uGBjuyZmFaAqMtvnelI/zotN\n",
       "kkGI0uYHt2YUG+ImZBCiJf0rCM6wVxWyClAVz0d7nB0yK8BtVgTW1qo92sGA9gnEHmlgXpYqTUQP\n",
       "HT/LgAHDGe1wVCp/k887DW6AJKnVh/UMJE+1/kgDqw78kJa3vTUj8co7MBCz/3AwyPNCdtFMk4bF\n",
       "G+yEDhws2iQPIOIwIIo255yd/PH9whswR4KJDnO4H3TTB9i1KbC68F7DSCNrRiuFyQPUcOcuQG91\n",
       "q9Qh8YQAaNcM4AHeK0H2h2cbVqtrY9GdR6bEn13ahwIHZjAlAq+Om/FJ3ElJDtxB0q52lgXgXwju\n",
       "fy3qBAXaZq9Oh+Rr0nXbAghmPdQF1qUraMrlpjoL2fMXB1ltBEIG7zMAAAAASUVORK5CYII=\n",
       "\" style=\"display:inline;vertical-align:middle;\" /></a><br>"
      ],
      "text/plain": [
       "<IPython.core.display.HTML object>"
      ]
     },
     "metadata": {},
     "output_type": "display_data"
    }
   ],
   "source": [
    "A_1_to_k = var_range(A, one, k)"
   ]
  },
  {
   "cell_type": "code",
   "execution_count": 96,
   "metadata": {},
   "outputs": [
    {
     "data": {
      "text/html": [
       "<strong id=\"A_1_to_l\">A_1_to_l:</strong> <a class=\"ProveItLink\" href=\"../__pv_it/common/a661ce209a2c221820bbff00e1d4b098820c37af0/common_expr.ipynb\"><img src=\"data:image/png;base64,iVBORw0KGgoAAAANSUhEUgAAAH4AAAATBAMAAACkZ6Q/AAAAMFBMVEX///8AAAAAAAAAAAAAAAAA\n",
       "AAAAAAAAAAAAAAAAAAAAAAAAAAAAAAAAAAAAAAAAAAAv3aB7AAAAD3RSTlMAIs1UmauJMnZmRLsQ\n",
       "3e++988cAAAACXBIWXMAAA7EAAAOxAGVKw4bAAABgklEQVQ4y4WTP0vDUBTFT0xoo6a2ioiTdnIS\n",
       "WlwV6tCKg4OLc6uDq25OYkbBwX6EgpObg+AiNIugOLSDk6j4EdKKLSISX95LXt6fVA8kvf3de9Kb\n",
       "e1+BUDNQpAFdRjGJS2qy9L9/zOehGSg5DaSokvitekHOaSBFtR4Pdw8O5ZwGdGXmhnwS7nlZHo0K\n",
       "UjRvf/BuUWnK7asgRevmVxxe4KQh5TSga6KcHfBHYXEbeEj2SYGzv+ON9lswPoG7cAf2dbV+hexp\n",
       "N84xYMHqjvafVWvfZM/hb94DeVJp8moG8i1jONLuuMAP6aJBu0XuXfQzMO794bfI9UbKWmQSTXYW\n",
       "Q79DRxMBZLoMyKJDuWRnvEM+Fsg12WP+TlEAOPYocPqIbvybQfpFu4AV4DFYhtnuN6g/9yIA45YB\n",
       "PCG65cib4dWD0+57WA2WsCH+Z8L3XxPALKZlENUJW332FL9wbIyboy0JxAdfiH03Kd8buHQtsaaC\n",
       "wJdAsl2uzZacs9ViW5+//MRfnLFpNIjVij4AAAAASUVORK5CYII=\n",
       "\" style=\"display:inline;vertical-align:middle;\" /></a><br>"
      ],
      "text/plain": [
       "<IPython.core.display.HTML object>"
      ]
     },
     "metadata": {},
     "output_type": "display_data"
    }
   ],
   "source": [
    "A_1_to_l = var_range(A, one, l)"
   ]
  },
  {
   "cell_type": "code",
   "execution_count": 97,
   "metadata": {},
   "outputs": [
    {
     "data": {
      "text/html": [
       "<strong id=\"A_1_to_m\">A_1_to_m:</strong> <a class=\"ProveItLink\" href=\"../__pv_it/common/eaccd55f312202b1e754429bdfeaf22333037c330/common_expr.ipynb\"><img src=\"data:image/png;base64,iVBORw0KGgoAAAANSUhEUgAAAIgAAAATBAMAAAC5NVjhAAAAMFBMVEX///8AAAAAAAAAAAAAAAAA\n",
       "AAAAAAAAAAAAAAAAAAAAAAAAAAAAAAAAAAAAAAAAAAAv3aB7AAAAD3RSTlMAIs1UmauJMnZmRLsQ\n",
       "3e++988cAAAACXBIWXMAAA7EAAAOxAGVKw4bAAABlElEQVQ4y4WSMUjDQBiFX0xoYm1sERShYuvi\n",
       "JNhdoR3awUHo6CA0Co5iB0EnLYIgVLB73ZxcxMG9mcTioINjFTdH24oVFYmXXJveXWjvh4TLz3vf\n",
       "/bl7gFsTEEpJQlqiaVEUjDTlEMGkOqIgLYeIJq0QExS5lhQimjZ2irwgNPUlhQgmpXSW4gXTxoeM\n",
       "IZo0pCu8IqN+S/9GMF3g0OIE4ZTekUFEUwaJPFBPMrson8Dt1voQCDX5ZdxkC9fQTx79Tjmb+3Vl\n",
       "q4MZ1NSvOyBKAKoPiZSAP+AHieJASNfEDAbzlYVo5HkBzodBqGl0Zf/YqBJVuEJT7kIinuCyl+nt\n",
       "boMr2zt6aqpfVcbzBjmbWdIba1HIg3u4ChkLNRJHvUEb7ivSZhc908wRokXNwr2zALXWtjyI2SCq\n",
       "WtvGkjMPxG2vAZPMjqfe4pmM4pvWcACTCZ13JstsJjNKjGt0dTbz8YYyEroAYfMT39u1YQUgIXaf\n",
       "JpmlqvW/Nzsl73L9enccvuFfbj/aecxh8lSIUCBTwdsJYvEPDPZrkDBUGbsAAAAASUVORK5CYII=\n",
       "\" style=\"display:inline;vertical-align:middle;\" /></a><br>"
      ],
      "text/plain": [
       "<IPython.core.display.HTML object>"
      ]
     },
     "metadata": {},
     "output_type": "display_data"
    }
   ],
   "source": [
    "A_1_to_m = var_range(A, one, m)"
   ]
  },
  {
   "cell_type": "code",
   "execution_count": 98,
   "metadata": {},
   "outputs": [
    {
     "data": {
      "text/html": [
       "<strong id=\"A_1_to_n\">A_1_to_n:</strong> <a class=\"ProveItLink\" href=\"../__pv_it/common/b942dae30d4f3b83f2610853b96b4f8933114dee0/common_expr.ipynb\"><img src=\"data:image/png;base64,iVBORw0KGgoAAAANSUhEUgAAAIMAAAATBAMAAABB1aMWAAAAMFBMVEX///8AAAAAAAAAAAAAAAAA\n",
       "AAAAAAAAAAAAAAAAAAAAAAAAAAAAAAAAAAAAAAAAAAAv3aB7AAAAD3RSTlMAIs1UmauJMnZmRLsQ\n",
       "3e++988cAAAACXBIWXMAAA7EAAAOxAGVKw4bAAABhklEQVQ4y4WTP0jDQBTGvzOxrTWxVUScbCYn\n",
       "od0VmqHdHFycWx0EJwsOTmLGgoMdBMFJEAc3B8FFaMaKgxkcVero1lZsEZWYP7V5l0vtBxfe+73j\n",
       "y927O8DVDEISgCimcWk2XM+Othhr0UyyQ2UBRCjPWcilNF8WQISKbZpt7FT4sgBExeZ6tDHGUY7v\n",
       "VBhEaD7xTpeNfI3fRxhESJc+SXaOgzJXFoCoZC7epYbIrAF3Gg+UrXVzuIUM9hFkietC6QrxqsUD\n",
       "GbI13OKwUPwKsgaQciZLFg9SZ6w31EExgB+6D6hNauGDCfMfC9kZL8DxSVV3G1PzL6troYAAxCwf\n",
       "8PIadOk9AuX0Da9OtOCMybZv8aARgH3TA0oHCALvw5xVo55mDQ3fwL29BKneKXsW6hMB7NYHeHSG\n",
       "qvcDPJtQ6h0Ty/Yixo1kkz4ttxcrBMximgf9eeSopyqyXglZkBvFbvZWOfD3OEicgbobWLDNruGd\n",
       "1eAPtt3iQHDkA10gsR0qJzAKAILpL8/YbCDK5wJGAAAAAElFTkSuQmCC\n",
       "\" style=\"display:inline;vertical-align:middle;\" /></a><br>"
      ],
      "text/plain": [
       "<IPython.core.display.HTML object>"
      ]
     },
     "metadata": {},
     "output_type": "display_data"
    }
   ],
   "source": [
    "A_1_to_n = var_range(A, one, n)"
   ]
  },
  {
   "cell_type": "code",
   "execution_count": 99,
   "metadata": {},
   "outputs": [
    {
     "data": {
      "text/html": [
       "<strong id=\"B_1_to_i\">B_1_to_i:</strong> <a class=\"ProveItLink\" href=\"../__pv_it/common/4a5f6422887d37bd99c62d40c1b5aa88272e1ec00/common_expr.ipynb\"><img src=\"data:image/png;base64,iVBORw0KGgoAAAANSUhEUgAAAH8AAAASBAMAAACA+RykAAAAMFBMVEX///8AAAAAAAAAAAAAAAAA\n",
       "AAAAAAAAAAAAAAAAAAAAAAAAAAAAAAAAAAAAAAAAAAAv3aB7AAAAD3RSTlMAZrurzTLvInZEmRDd\n",
       "VIkafcLnAAAACXBIWXMAAA7EAAAOxAGVKw4bAAABlklEQVQ4y2NgYBD6b2zsFMCAABgCmIBR/7Ox\n",
       "iSqMl8TAwPwVWRpDABOwKTAw2EMtYf/BwMD5C0kSQwALqG9gYJi/AOocoGWMP5Ddhy6ABcgDbZdv\n",
       "gLCZPzAwsKQjSWIIYAH2QOxWAPcOt00Aqv9QBbAAYDBtPgplx2t0mAggS2IIYALWTx3NjkB6O4jT\n",
       "X8DAm8jAsNEBJgsR4H5nvAGnARzfGRiuAS15AeKoAfH7ANaOAzBZiAAXA9cBnAYwJTAw8MFi+jMD\n",
       "OEB54cohAvwT2HGnBX4DRESxfgQF6gSEAVABxg14DIgHOp/5J8MMA6h3WL8wgA3gZkASYOA7ABFA\n",
       "BRugwcQQ78Dd8BvIZgF6Z5o3xID9DkgCDDEbwALcIMPAMnAegxswraZsYN8L1MMMyha6DBADeE4j\n",
       "CbBrQwQYTgExzwIYcQboBCNQdrsADMsGJKeBw+A2kkAVQzmqAFQdUuTu34puwAOkLKUauhpFAAr4\n",
       "kNhXuJDUP/nXwMCN5CS2//8/oAhAwQ4k9uZ29ATGQEiAgQHNSAAmA3WdoDvLiQAAAABJRU5ErkJg\n",
       "gg==\n",
       "\" style=\"display:inline;vertical-align:middle;\" /></a><br>"
      ],
      "text/plain": [
       "<IPython.core.display.HTML object>"
      ]
     },
     "metadata": {},
     "output_type": "display_data"
    }
   ],
   "source": [
    "B_1_to_i = var_range(B, one, i)"
   ]
  },
  {
   "cell_type": "code",
   "execution_count": 100,
   "metadata": {},
   "outputs": [
    {
     "data": {
      "text/html": [
       "<strong id=\"B_1_to_j\">B_1_to_j:</strong> <a class=\"ProveItLink\" href=\"../__pv_it/common/0cd1658eec2aaa52c480be7ee3718bc0d4252e1b0/common_expr.ipynb\"><img src=\"data:image/png;base64,iVBORw0KGgoAAAANSUhEUgAAAIAAAAAUBAMAAAC35yitAAAAMFBMVEX///8AAAAAAAAAAAAAAAAA\n",
       "AAAAAAAAAAAAAAAAAAAAAAAAAAAAAAAAAAAAAAAAAAAv3aB7AAAAD3RSTlMAZrurzTLvInZEmRDd\n",
       "VIkafcLnAAAACXBIWXMAAA7EAAAOxAGVKw4bAAABoklEQVQ4y6WTsU/CQBTGPywVbaEY/wFcMCbG\n",
       "aCyjCeDA4sKik0nRmLiymbjYhIWwyKKr7C41LiYOsrioA5OLi4OzomhEB/Gud6VXrujAl7S5+73L\n",
       "9969uwMw3TPN1SJ8SUBWZLFjZtLebBtQPsSwBGSNzwBZniTWBSa/haAEQnRgAycNXg5JFumK9Q2C\n",
       "EKVI9pTNxkobiO4KQQmEKEu+Qrm/HX2lGNxfEISItOn8mo+tuWpmSgxKQJb6Vq3k6YDmOSwjsQWc\n",
       "5bwoA/qz6Qw1mPgE7mkSWsUs+V6KarXpRRnQoDWHGoyVAMM76Q7chib6yxlI1mPD70JyyT8o9ZU2\n",
       "te4bcBBx/jCwSPnKF/Rai21HfYdroHv7owBGk4GgHN4mWDloCdK4KNnO8RozuKKN9AA2HRfo1Mz9\n",
       "9WcokLu64+DSaEChz2IBzCB+Cx/E5hnADfgvTu/uHSlhmT63Fk0mHLfbgweh1n3sBQFfJx5usjxg\n",
       "8Cg8qfT6aQBwGeJkQ1j/9GNDt4UL3eu1A4DrQpxUBi8Y/gNAwDKPkRQ9Ko1moNUc/AKHRHRgEnEE\n",
       "gwAAAABJRU5ErkJggg==\n",
       "\" style=\"display:inline;vertical-align:middle;\" /></a><br>"
      ],
      "text/plain": [
       "<IPython.core.display.HTML object>"
      ]
     },
     "metadata": {},
     "output_type": "display_data"
    }
   ],
   "source": [
    "B_1_to_j = var_range(B, one, j)"
   ]
  },
  {
   "cell_type": "code",
   "execution_count": 101,
   "metadata": {},
   "outputs": [
    {
     "data": {
      "text/html": [
       "<strong id=\"B_1_to_k\">B_1_to_k:</strong> <a class=\"ProveItLink\" href=\"../__pv_it/common/bdf7beeac354d61c99f9a31d445c4abdeb67795c0/common_expr.ipynb\"><img src=\"data:image/png;base64,iVBORw0KGgoAAAANSUhEUgAAAIIAAAASBAMAAABlSxuNAAAAMFBMVEX///8AAAAAAAAAAAAAAAAA\n",
       "AAAAAAAAAAAAAAAAAAAAAAAAAAAAAAAAAAAAAAAAAAAv3aB7AAAAD3RSTlMAZrurzTLvInZEmRDd\n",
       "VIkafcLnAAAACXBIWXMAAA7EAAAOxAGVKw4bAAABpUlEQVQ4y32Tr0/DQBTHv6Xruq37lf0DmxmQ\n",
       "EMKPTiBINhAzmBocyYCQENwcBEMTBDMEFBY0mBIMjhoSAggUZmYCDYONMBCMa69dr72Ob9Lmvc+7\n",
       "vLv37h2AXF9VFzV44gAvYaqjlooDdx0QP9k4B3hFC0DZ3UXuAfEfJsqBEO3pwOmZeyKyndBjjxgE\n",
       "IcqT/fO644htILLJRDkQojL5qnWvJGVe89foByEirbq6dZ3aeKOUZaMc4CV9NPYXBt5RHak14LLi\n",
       "B8qragzNEPsCnrMQ7mxvlHxvmtQw3TAFCSTMoRlGVoE0afiW7XVgtzU1WE9B5lgePhOZafu65LZd\n",
       "0rvV2mMvgwME458MNdIn8RtCYadFS5K6sDMobo0WQNqkwC/DaRVqFYgHTXLrEVLSyRLNcGN10wVY\n",
       "MSiwfkqXNVAlU7thIHoIDaL1RiZBMyQf4AF5ggIkrem9d41HcohZ6+09kdk+Z8fG7kOTAbvY9gNn\n",
       "HXPHubhZD2RoMe+ruHzhA47SjD0nmd4C+eVXh6Izs93vt33A0TVjj2EmMP0xbvb4uwjm/APliXe4\n",
       "BjdFXgAAAABJRU5ErkJggg==\n",
       "\" style=\"display:inline;vertical-align:middle;\" /></a><br>"
      ],
      "text/plain": [
       "<IPython.core.display.HTML object>"
      ]
     },
     "metadata": {},
     "output_type": "display_data"
    }
   ],
   "source": [
    "B_1_to_k = var_range(B, one, k)"
   ]
  },
  {
   "cell_type": "code",
   "execution_count": 102,
   "metadata": {},
   "outputs": [
    {
     "data": {
      "text/html": [
       "<strong id=\"B_1_to_m\">B_1_to_m:</strong> <a class=\"ProveItLink\" href=\"../__pv_it/common/fee611567f2a92d4a4191651639f02d5571d04e40/common_expr.ipynb\"><img src=\"data:image/png;base64,iVBORw0KGgoAAAANSUhEUgAAAIgAAAASBAMAAAByaYtEAAAAMFBMVEX///8AAAAAAAAAAAAAAAAA\n",
       "AAAAAAAAAAAAAAAAAAAAAAAAAAAAAAAAAAAAAAAAAAAv3aB7AAAAD3RSTlMAZrurzTLvInZEmRDd\n",
       "VIkafcLnAAAACXBIWXMAAA7EAAAOxAGVKw4bAAABqUlEQVQ4y42TPUhCURTH/6/n8+v5hWuDLUVL\n",
       "JOkQFFgNNrS8pYgWK4rGxMYGJRuEhppcs71BaWmqlpZscGppEWoMskzShuy8L72+h5cuXLj3cP4/\n",
       "zvnfewCEu7HYkoL+Eqabsfg4uMsm2gbEFpvhHAMSCp9iEbnagOeHTcjmgPMSl2EVCQQU2mxGhKqI\n",
       "5LgQq0hsAI49NiNBO5nmQqwickCeVyz9Xt3zLbGKUpOFeIhNkD4L+UU+wyY6TcO/BVQWzID7G3gK\n",
       "4eZlbjjEEPXWBO13RSrcmYGRTSDQQgmXwyG6qH9vQnsLfw8SjGrOd5Ad/lcMUc+BD/U9zhhIipoV\n",
       "OxjlQAyRcLGed4cV3QHpCxpENvtFSnXoDSjb9GXTNhJViiFn1E2FO8iB4ooOudXMTdJn3KFcqQqZ\n",
       "6Fp08GCKDo8RVLx1iOq0TUGH+Kp0mFFnq0aHDIEeafvUCXiAcVAjPdEs1uCr9cvUPHlmx6Pkone0\n",
       "9TMQ2cURspIFUmcSMqsbZQRsnrARV4NqCXv799ffHGR26va7XeDaBmEjniiWcXAymOC2SXL/iOAP\n",
       "dq55rsuB1hQAAAAASUVORK5CYII=\n",
       "\" style=\"display:inline;vertical-align:middle;\" /></a><br>"
      ],
      "text/plain": [
       "<IPython.core.display.HTML object>"
      ]
     },
     "metadata": {},
     "output_type": "display_data"
    }
   ],
   "source": [
    "B_1_to_m = var_range(B, one, m)"
   ]
  },
  {
   "cell_type": "code",
   "execution_count": 103,
   "metadata": {},
   "outputs": [
    {
     "data": {
      "text/html": [
       "<strong id=\"B_1_to_n\">B_1_to_n:</strong> <a class=\"ProveItLink\" href=\"../__pv_it/common/3405f43af36a3eae5d96a932c8b31bd9fe7cf9f90/common_expr.ipynb\"><img src=\"data:image/png;base64,iVBORw0KGgoAAAANSUhEUgAAAIQAAAASBAMAAABoVWvKAAAAMFBMVEX///8AAAAAAAAAAAAAAAAA\n",
       "AAAAAAAAAAAAAAAAAAAAAAAAAAAAAAAAAAAAAAAAAAAv3aB7AAAAD3RSTlMAZrurzTLvInZEmRDd\n",
       "VIkafcLnAAAACXBIWXMAAA7EAAAOxAGVKw4bAAABnElEQVQ4y31TO0wCQRSc8zg+4XextcBGY2Mk\n",
       "QmGiCWhBY3ONibFBjcZSQmsBiRbEQq1oxdZYQGys1IZGLGy0sTHR0kQUiGAh7nEPb/cI+5K97M7s\n",
       "zO17uw/AaDcWWzJghzLTiMUnIA2HaBNQWzzvHgcShtxDEHnagO+Hp3N54LQkdRBFCjNT2jwfYSeI\n",
       "5KUWokitA64dnk+wkcpILUQRy9y/YDjyvKzKSyGK0lOFuM7T2ldhf1Hu4BAdZxDcACrJPuD9Bp50\n",
       "XL/OD7cgEcUkGx+GVrjtAyPrQKiFEi6GW1ii/qqBXv2D/xbhaK/aHeSGvw0SUeaf5h2ccBZplqTa\n",
       "wZjEgkTK2eohZa41YVmUKU+kzcq8EyCEH7aoUtTdbLOLZV5ctiz8TZNPsYe3xbRazQJukrAn1odE\n",
       "ewcIl6GaPTUNOsU9U86aHfTAFtmyBQTMt34HmgRqsEVzKHIH7FkEuYN7Sp6MAFA8c/NtnGsOixBH\n",
       "Z1fWygJA8cL9pY7qo716+2V3dMVt3e12RYDKyfWfL4oj3cEPtOdgv3qdwB+O1Xh17cMjggAAAABJ\n",
       "RU5ErkJggg==\n",
       "\" style=\"display:inline;vertical-align:middle;\" /></a><br>"
      ],
      "text/plain": [
       "<IPython.core.display.HTML object>"
      ]
     },
     "metadata": {},
     "output_type": "display_data"
    }
   ],
   "source": [
    "B_1_to_n = var_range(B, one, n)"
   ]
  },
  {
   "cell_type": "code",
   "execution_count": 104,
   "metadata": {},
   "outputs": [
    {
     "data": {
      "text/html": [
       "<strong id=\"C_1_to_k\">C_1_to_k:</strong> <a class=\"ProveItLink\" href=\"../__pv_it/common/c8e4ecd605b657e28bb4eca78991107aa13f93f50/common_expr.ipynb\"><img src=\"data:image/png;base64,iVBORw0KGgoAAAANSUhEUgAAAH8AAAASBAMAAACA+RykAAAAMFBMVEX///8AAAAAAAAAAAAAAAAA\n",
       "AAAAAAAAAAAAAAAAAAAAAAAAAAAAAAAAAAAAAAAAAAAv3aB7AAAAD3RSTlMAEHa7q2Yiie9Umd0y\n",
       "zUTye3nKAAAACXBIWXMAAA7EAAAOxAGVKw4bAAABW0lEQVQ4y3WTP0tDMRTFz9M2r2kLBkUQEaw6\n",
       "6Kjg6FTq4iQ46vAmQZfq5CSCX0D9Bjor+FxV0Ll16OjYTcHFRURRavJMyM27vAu9JOf8csifPgDR\n",
       "XGtV7MEXE3gFyMIM5OU6cZnAiyJj97pdJ95kAq8AeVa6vRKXCbwoEn+Z3vEmE3gFSDs1fcq7TOAV\n",
       "IEeNnMsEXgHyYK9ivBcK0UFLFQW4NZsm6CQbqvpsal0rVFFNiwIsgkrfpJmxfIR0uBVG+uKncAd2\n",
       "TRvuNWP4ACuUVXGAW7Mh5vWNmnPs2wBzaicgThHxxRRp7kwkkB/Ai/oPiH7N1qyArsJ0z4pm4GcO\n",
       "OT6t69nk8pq5i2wHd8oLYgmo3ejBrf7Vzl0jiPi+IlvLAiR5uV1sA2fsCAQpL76JXEDs52Ll6QLg\n",
       "HzVBSo2un4nDT30zo96tDAbviPi/kiDDSWkr5+b5If4KeeQP+jdhFJj7d1IAAAAASUVORK5CYII=\n",
       "\" style=\"display:inline;vertical-align:middle;\" /></a><br>"
      ],
      "text/plain": [
       "<IPython.core.display.HTML object>"
      ]
     },
     "metadata": {},
     "output_type": "display_data"
    }
   ],
   "source": [
    "C_1_to_k = var_range(C, one, k)"
   ]
  },
  {
   "cell_type": "code",
   "execution_count": 105,
   "metadata": {},
   "outputs": [
    {
     "data": {
      "text/html": [
       "<strong id=\"C_1_to_l\">C_1_to_l:</strong> <a class=\"ProveItLink\" href=\"../__pv_it/common/6dcae385c066d4e0e8727a253fe5575443301a960/common_expr.ipynb\"><img src=\"data:image/png;base64,iVBORw0KGgoAAAANSUhEUgAAAHsAAAASBAMAAACJErzeAAAAMFBMVEX///8AAAAAAAAAAAAAAAAA\n",
       "AAAAAAAAAAAAAAAAAAAAAAAAAAAAAAAAAAAAAAAAAAAv3aB7AAAAD3RSTlMAEHa7q2Yiie9Umd0y\n",
       "zUTye3nKAAAACXBIWXMAAA7EAAAOxAGVKw4bAAABR0lEQVQ4y3WTsS/FUBTGv9tEq63k3RCLSDws\n",
       "JonEaHwWC3+CyWDBZBJ/gvgDJEwGg1oRzBiMxmdifIuIhDz3tqfOuT3pl/Tk5He+777X0xaAme+t\n",
       "xrtgKaAlLAuzSC82xEwBLbZM3LpyuckjBbSE5dW68iFmCmixJfn29ZFHCmgJy07h6zTPFNASlsNu\n",
       "Y6aAlrDc044mX0Jg9nu2LV5b1oGjsrNjcwXNCGTIirY4WXDiTvJd+oC0NhPo9OOf1l+nzDk9vQQc\n",
       "JzBi2+N15s5t0a9hr4qbcq0EkBQVCGXZYgYu9gm82yo+49dXAzzZEphfgJuykCX19qnltT6qeH4F\n",
       "BvESgWt35afU4Mb+WzLxWZX3fiz+5Ta2QkA+fpz5WyMujotXns8CUL+w3HYidh98dWHECzc6HA4C\n",
       "QBrnNlsMR1HTG+nNhwf+AfEHXoSDzd/UAAAAAElFTkSuQmCC\n",
       "\" style=\"display:inline;vertical-align:middle;\" /></a><br>"
      ],
      "text/plain": [
       "<IPython.core.display.HTML object>"
      ]
     },
     "metadata": {},
     "output_type": "display_data"
    }
   ],
   "source": [
    "C_1_to_l = var_range(C, one, l)"
   ]
  },
  {
   "cell_type": "code",
   "execution_count": 106,
   "metadata": {},
   "outputs": [
    {
     "data": {
      "text/html": [
       "<strong id=\"C_1_to_m\">C_1_to_m:</strong> <a class=\"ProveItLink\" href=\"../__pv_it/common/50dca3187a05eb1225bac7602c2b719bfa8fbeac0/common_expr.ipynb\"><img src=\"data:image/png;base64,iVBORw0KGgoAAAANSUhEUgAAAIMAAAASBAMAAACKiXCzAAAAMFBMVEX///8AAAAAAAAAAAAAAAAA\n",
       "AAAAAAAAAAAAAAAAAAAAAAAAAAAAAAAAAAAAAAAAAAAv3aB7AAAAD3RSTlMAEHa7q2Yiie9Umd0y\n",
       "zUTye3nKAAAACXBIWXMAAA7EAAAOxAGVKw4bAAABnklEQVQ4y2NgYGBUdnFlK2BAACETl4B0BrwA\n",
       "TYmGIgPn6gAEn6lJgGHWVrwmoCkR3gMk1ifA+YzWBxgYuL7hMwFdyQ0BIPECIc/bCCT4GvAZgaaE\n",
       "/SeIPIWQr58AJHgW4DMCTUn+BhApA5dm+w126gE8JqArqVdAlWf/xEAIoCvZDw1I0QsQmhsaSuIl\n",
       "jriM4EYL634wKcCjtAHC5/gAdiXDAobVuIyAKYG7AkRwHmDghBrBDZafw/CPIR9XeMCUwAA4RbAz\n",
       "wI2ARHcBQyBuI2BKomKUHFRtgDECCs5CiBEgt7GBwoodlFaqgf7DTFUIJYxxrQwtDCpArV8ZGJ4L\n",
       "QIyQBwXp/AAGvkJQvG9kYPzLABUEEQgeRAmb0AWGPwzLgXwpE68HDBAjuDeC7Fnssg5kXzLQ3N1A\n",
       "zA1KQmBiFwOqEhYFngaGnQgXgsNiIlL6WcCWwMCJ6RMkJRwHmAzYPhxANQIpyyefOSUACmZ0gKQk\n",
       "H+gOVgN4Omer/a7AwIiUUvv//wcWC5jBiaTkCQNvApsTqkOZ0DUoYJYUmO4CABkHaQbSEDGoAAAA\n",
       "AElFTkSuQmCC\n",
       "\" style=\"display:inline;vertical-align:middle;\" /></a><br>"
      ],
      "text/plain": [
       "<IPython.core.display.HTML object>"
      ]
     },
     "metadata": {},
     "output_type": "display_data"
    }
   ],
   "source": [
    "C_1_to_m = var_range(C, one, m)"
   ]
  },
  {
   "cell_type": "code",
   "execution_count": 107,
   "metadata": {},
   "outputs": [
    {
     "data": {
      "text/html": [
       "<strong id=\"C_1_to_n\">C_1_to_n:</strong> <a class=\"ProveItLink\" href=\"../__pv_it/common/e7504afc0aea2366fbf28183721351f04720dfad0/common_expr.ipynb\"><img src=\"data:image/png;base64,iVBORw0KGgoAAAANSUhEUgAAAH8AAAASBAMAAACA+RykAAAAMFBMVEX///8AAAAAAAAAAAAAAAAA\n",
       "AAAAAAAAAAAAAAAAAAAAAAAAAAAAAAAAAAAAAAAAAAAv3aB7AAAAD3RSTlMAEHa7q2Yiie9Umd0y\n",
       "zUTye3nKAAAACXBIWXMAAA7EAAAOxAGVKw4bAAABjklEQVQ4y2NgYGBUdnFlK2BAACETl4B0BrwA\n",
       "RYmGIgPn6gCEJFOTAMOsrXj1oygR3gMk1ifAJRmtDzAwcH3Dpx9VyQ0BIPECIcvbCCT4GvAZgKKE\n",
       "/SeIPIWQrZ8AJHgW4DMARUn+BhApA5dk+w125AE8+lGV1CugyrJ/YiAEUJXshwaf6AUIzQ0NG/ES\n",
       "R1wGcKOEcD+YFOBR2gDhc3wAu49hAcNqXAbAlEBdACI4DzBwQg3gBsvOYfjHkI8rHGBKIACcAtgZ\n",
       "4AZAoreAIRC3ATAlUTFKwJjIBwViIcQAkKvYQCHEDkob1UCfYaYhhBLGuFaGNqDGrwwMzwUgBsiD\n",
       "AnJ+AANfISieNzIw/gVpAREgGTgDqoRN6ALDRyBPysTrAQPEAO6NIA2LXdaB7EoGmrob5IRdIG8v\n",
       "gDGQlLAoICdYcBhMREotC9gSGDgx/YCkhOMA14IDqAYgZerkM6cEQIGLDpCU5DNwn4QbwFb7XYGB\n",
       "ESlV9v//D8z2mIGIpOQJA1MpWjZHV66AWRKgCwAA+AhnZ6mzJU0AAAAASUVORK5CYII=\n",
       "\" style=\"display:inline;vertical-align:middle;\" /></a><br>"
      ],
      "text/plain": [
       "<IPython.core.display.HTML object>"
      ]
     },
     "metadata": {},
     "output_type": "display_data"
    }
   ],
   "source": [
    "C_1_to_n = var_range(C, one, n)"
   ]
  },
  {
   "cell_type": "code",
   "execution_count": 108,
   "metadata": {},
   "outputs": [
    {
     "data": {
      "text/html": [
       "<strong id=\"D_1_to_m\">D_1_to_m:</strong> <a class=\"ProveItLink\" href=\"../__pv_it/common/2eba3089506b78d05eddce57d91ea6509571d3d40/common_expr.ipynb\"><img src=\"data:image/png;base64,iVBORw0KGgoAAAANSUhEUgAAAIsAAAASBAMAAACZXjBHAAAAMFBMVEX///8AAAAAAAAAAAAAAAAA\n",
       "AAAAAAAAAAAAAAAAAAAAAAAAAAAAAAAAAAAAAAAAAAAv3aB7AAAAD3RSTlMAdrurIs1mVDKZ70SJ\n",
       "EN02Mxp8AAAACXBIWXMAAA7EAAAOxAGVKw4bAAABY0lEQVQ4y32TP0vDQBjGn9g0BjEaFRw1WAS3\n",
       "Vp3F0FlIv4EugiLiJ1DiplMzOImIILgqdPcP7tKuIjiKQ6Uq0aJDvGjOvN5r8kBejt899+S9ywXA\n",
       "cFSaKbkg4oSLe0LAeEc+4VI95rMo+8glXMyjdUW5WMolXMzT0xHFu0Qe4WKeQUeUegV5hIt56rYo\n",
       "G/TdnHAxz7gvyvyZtaySu+u57JjEk4JyXD6wPaaSAIfZMYkn1Yt4jDdgSyWf8PzMGLnqzwW4dUiM\n",
       "JOs5MdKzujJUGZ2SF2ASPzEWKMEN0GQJ1GOtneAYI2JcFBfgPEhi7muUmG1YYbwwTKZ+B9Kjt2ro\n",
       "4gAolF9nJ/aQxAy0KamKVp7idh7jqUAOqKdgm0d4oM1+n80mAXqgu+jlu6KePl9z9I6vxtA7V93Z\n",
       "baKfHy/1eKIfwwlSsLB4JTZvE8tpFAEtfsTU00DR1afVjjW2yOb/9j/f/wudDHvJISFKtwAAAABJ\n",
       "RU5ErkJggg==\n",
       "\" style=\"display:inline;vertical-align:middle;\" /></a><br>"
      ],
      "text/plain": [
       "<IPython.core.display.HTML object>"
      ]
     },
     "metadata": {},
     "output_type": "display_data"
    }
   ],
   "source": [
    "D_1_to_m = var_range(D, one, m)"
   ]
  },
  {
   "cell_type": "code",
   "execution_count": 109,
   "metadata": {},
   "outputs": [
    {
     "data": {
      "text/html": [
       "<strong id=\"D_1_to_n\">D_1_to_n:</strong> <a class=\"ProveItLink\" href=\"../__pv_it/common/ea79e983ae6d397673f6a492cdf8265d812567980/common_expr.ipynb\"><img src=\"data:image/png;base64,iVBORw0KGgoAAAANSUhEUgAAAIgAAAASBAMAAAByaYtEAAAAMFBMVEX///8AAAAAAAAAAAAAAAAA\n",
       "AAAAAAAAAAAAAAAAAAAAAAAAAAAAAAAAAAAAAAAAAAAv3aB7AAAAD3RSTlMAdrurIs1mVDKZ70SJ\n",
       "EN02Mxp8AAAACXBIWXMAAA7EAAAOxAGVKw4bAAABiUlEQVQ4y42TsUsCURzHv+p1WHIpQUMQJUpD\n",
       "k6atkTgX+h94S2PY2FLoVlM3RFBDSFNbzQ5ltMdNDRG05hCYYkUK13ue5/3uvVP6wj3ufd67H+/7\n",
       "vd8DMGclM8kciGQiK5BqZxPr7rwLqN+eHTKRFS0C5T1nFv5kwwVdl4mPTmLAdG10sB823Ov0qBLx\n",
       "0XIFiHw5s2CLDYUGWZeJj1LsUfojc3F+uDS1KxEftbnvDjWHckOw6yWyBrmpfWoOm7faDgTy+rgx\n",
       "4Rfz3EI9ag6/qC5BIAYuxxcZ5BatUXMqi/kQAumhUBnfJjy3sk7NvcRJEYfsTirCc9OuoJ5VFxxz\n",
       "K7CLaKAET0PikTbKLVjEc12fYRdkipm7M4ZF3lgvuyT8YROtC+EFKLFWawLb84iaCKU62cQphkVm\n",
       "2WcuyZs2QZMvGc4LJxkrm1nld3QNdXrMQSYHBCiGkvMSWx5yjfOwWIR2WP7o2PQSW5QoLbzvu9Ot\n",
       "0gMzHSMbbixLIHawlETSWBRvakDuzH+QP7eZdCnHv0W+AAAAAElFTkSuQmCC\n",
       "\" style=\"display:inline;vertical-align:middle;\" /></a><br>"
      ],
      "text/plain": [
       "<IPython.core.display.HTML object>"
      ]
     },
     "metadata": {},
     "output_type": "display_data"
    }
   ],
   "source": [
    "D_1_to_n = var_range(D, one, n)"
   ]
  },
  {
   "cell_type": "code",
   "execution_count": 110,
   "metadata": {},
   "outputs": [
    {
     "data": {
      "text/html": [
       "<strong id=\"Q_1_to_m\">Q_1_to_m:</strong> <a class=\"ProveItLink\" href=\"../__pv_it/common/36ec706e1143fd1d895c3be566542a2a3b5f14570/common_expr.ipynb\"><img src=\"data:image/png;base64,iVBORw0KGgoAAAANSUhEUgAAAIgAAAASBAMAAAByaYtEAAAAMFBMVEX///8AAAAAAAAAAAAAAAAA\n",
       "AAAAAAAAAAAAAAAAAAAAAAAAAAAAAAAAAAAAAAAAAAAv3aB7AAAAD3RSTlMAIomZq2bNMhC7791E\n",
       "VHYkqjbgAAAACXBIWXMAAA7EAAAOxAGVKw4bAAAB2ElEQVQ4y2NgYGBUVnJlQAFCRioBDAQAmhq1\n",
       "AgaWBGR5pnQGBjcCZqCpaZsAJBYjyXNkAgkuA7xmoKvJBhH+SArYNgAJlg94DUFTw/wdROoXIBTY\n",
       "g9hM3/EagqZGfgJY8ABcnvEn2Ow/+MxAV2N/AUTmC8AVMP8Fu/cjPkPQ1exvAIXTLwaOMKgA9w8Q\n",
       "2b+AQ8mlAZchMDUw/i8QwfqVoe41VIAfLBUfwMzAvAGXITA1MP5uENEFTCe3YbaAtHIsY+A/wIgz\n",
       "cGFqYMCfgecCg5UAwhBgxJ1lYF7IwNqA2xC4GtO6J3yRBQz1F8JFmRYyQAzhAGL2v6yFAVqggGYC\n",
       "2ocZLMhqWk8FcDnwOTDwLXzABA5BkCH9oOT/So5BxQOkvLqBgeMbVBTMgPNgaiSeMfAXMCswMJRM\n",
       "0j7AUAAxhHsHyBpPpT0M7MDEMAMUZEDzuUHJezMDlEBR48dQxcANTiScB/hgYXID4uQ5DA8ZGIQZ\n",
       "BBkYeDH9g6xmOcNLBnl2sCEO16DeYVCAKJjCm8DAOL3cAhgumKGKrOYD0C2RzOD09x8YDUL5ekBP\n",
       "P4Am4/8FDFz//wMzWB9mwCKp4XFgSGQQeQHisu+6AFXAB6Wr18K0PMAwBFMNAwC5YYOk88xTEwAA\n",
       "AABJRU5ErkJggg==\n",
       "\" style=\"display:inline;vertical-align:middle;\" /></a><br>"
      ],
      "text/plain": [
       "<IPython.core.display.HTML object>"
      ]
     },
     "metadata": {},
     "output_type": "display_data"
    }
   ],
   "source": [
    "Q_1_to_m = var_range(Q, one, m)"
   ]
  },
  {
   "cell_type": "code",
   "execution_count": 111,
   "metadata": {},
   "outputs": [
    {
     "data": {
      "text/html": [
       "<strong id=\"R_1_to_n\">R_1_to_n:</strong> <a class=\"ProveItLink\" href=\"../__pv_it/common/178e3d2d677180c226652597ee4a3b01b978fa0b0/common_expr.ipynb\"><img src=\"data:image/png;base64,iVBORw0KGgoAAAANSUhEUgAAAIQAAAASBAMAAABoVWvKAAAAMFBMVEX///8AAAAAAAAAAAAAAAAA\n",
       "AAAAAAAAAAAAAAAAAAAAAAAAAAAAAAAAAAAAAAAAAAAv3aB7AAAAD3RSTlMAdrurVCIyzd1EiZkQ\n",
       "72ZdbUU/AAAACXBIWXMAAA7EAAAOxAGVKw4bAAABn0lEQVQ4y4VTv0/CQBh9GFp+VSguJpgooqMJ\n",
       "lVUHJicTCZODBlxcHMQ/wGBiYkxkdCWQMGg6KJOamGiNmwM4udI/wESoQSMa8aQHvWtCeUNz976+\n",
       "933vegUw0Z2LzYOBK24kYkk4wiYygIzC1kNRCO/OFrxIbAFjbba8KwPxlKMDL3J9AB7OYiYL5J0t\n",
       "eJGnSfpG2XqedDGcc/Ci/+SH9pzrirMFLyrNRpaybNlnhCtXI06TF12mpIQG1HJ9wt/G4wLwVFke\n",
       "bkFFFPtkrDLE8MEg5zPQAaq4GW5hivogN6BOkrsHFiEFEiG/kMkOtaAimvwXWKuyFiUd7m/g1cGC\n",
       "ioJ3W1NkF/ghyWTRtOjFu9fgb4HIzynBQYIlqhX1cXJ/NsnuTT7tWUifpCw0NARbviTEgknUc7AW\n",
       "5oOKNiYRIv1UVUdgTzenOCZdVfUCuJ4G0ppJeElMnIAuvAVYokUUmQF7Fm5mcKEqpDiCYpVZv+BW\n",
       "tFn4mXJ6e0fjCIoy06WJoxVrd9Yh/+cD82qj2+UJepwy82EURHRbXcYoAi478QcvYYCO/kiZ1wAA\n",
       "AABJRU5ErkJggg==\n",
       "\" style=\"display:inline;vertical-align:middle;\" /></a><br>"
      ],
      "text/plain": [
       "<IPython.core.display.HTML object>"
      ]
     },
     "metadata": {},
     "output_type": "display_data"
    }
   ],
   "source": [
    "R_1_to_n = var_range(R, one, n)"
   ]
  },
  {
   "cell_type": "code",
   "execution_count": 112,
   "metadata": {},
   "outputs": [
    {
     "data": {
      "text/html": [
       "<strong id=\"S_1_to_n\">S_1_to_n:</strong> <a class=\"ProveItLink\" href=\"../__pv_it/common/37a1835fe63b404334feb6a5357d0a1664dabcbc0/common_expr.ipynb\"><img src=\"data:image/png;base64,iVBORw0KGgoAAAANSUhEUgAAAHkAAAASBAMAAACN52zjAAAAMFBMVEX///8AAAAAAAAAAAAAAAAA\n",
       "AAAAAAAAAAAAAAAAAAAAAAAAAAAAAAAAAAAAAAAAAAAv3aB7AAAAD3RSTlMAVJmJZkS7dhDNMqsi\n",
       "791pxlESAAAACXBIWXMAAA7EAAAOxAGVKw4bAAABfElEQVQ4y32TsU/CQBjFH4XKBSsSJyfTwGiC\n",
       "TXRREmNMSNRFNgcGR0c6yUqikcEB/oTqyIROJDowseLgaKLRhclokAQ15vxKoXel4S659q7v9/rd\n",
       "vdwBiKTXYwWItpSx8lA2mTgBK0nSnI2LD6VZJjQT2Je0NBCrK90ysegAR5L2A+i20i0TxztAQ0j6\n",
       "F5BwVOYAUesHWMa31JEFiRjn97J4yH/banuAqJb+gHM/KHbKH3CWaymKu4Roa4VE+UVMtQFMZFXV\n",
       "iRgv3N16CpGJmzJknxigOzM5j/DaJfVuxXezJmAMsTfbPSZ2D8p0UFboQwYjN4P31iwabAOVsNMn\n",
       "WP4RT0DWQrTpfatRctobkCMm0QP7dnn34Qr+wCOMah1DwCyu3oz/mOyRpt/epWjeocLvbvFX6klz\n",
       "MhDEvK2L4Ef7Xvanhmm0EQkvXRALjmY6Abfla53GdQXRcGSC6CJ5NXEbm30bTFyOZ87pGIVTE0QR\n",
       "8Y2AFp9iwzdtmvgH1Vps3iVLc/4AAAAASUVORK5CYII=\n",
       "\" style=\"display:inline;vertical-align:middle;\" /></a><br>"
      ],
      "text/plain": [
       "<IPython.core.display.HTML object>"
      ]
     },
     "metadata": {},
     "output_type": "display_data"
    }
   ],
   "source": [
    "S_1_to_n = var_range(S, one, n)"
   ]
  },
  {
   "cell_type": "code",
   "execution_count": 113,
   "metadata": {},
   "outputs": [
    {
     "data": {
      "text/html": [
       "<strong id=\"U_1_to_i\">U_1_to_i:</strong> <a class=\"ProveItLink\" href=\"../__pv_it/common/1e2f0ecc9b3644486ae784272692b1076ccb39410/common_expr.ipynb\"><img src=\"data:image/png;base64,iVBORw0KGgoAAAANSUhEUgAAAHkAAAASBAMAAACN52zjAAAAMFBMVEX///8AAAAAAAAAAAAAAAAA\n",
       "AAAAAAAAAAAAAAAAAAAAAAAAAAAAAAAAAAAAAAAAAAAv3aB7AAAAD3RSTlMAIqvdVO/NdolEmRC7\n",
       "MmaVuGqYAAAACXBIWXMAAA7EAAAOxAGVKw4bAAABgklEQVQ4y2MQsjdyYFD9VsAABYzKn1UYmOLT\n",
       "GXADZC39ExgY2BsQchw/gUQFAz6ApCUfiLk2IKTYPgCJ1Xh1I2n5A8RMSFL8B4CEAl7dCC2c34HE\n",
       "DiSp+UD/cDfg04ykheMvkHiJ7KkLDAx8E/DpRtLCHAAkFiDJmYI8hdfhMC0bGRj2K4C9yf0MKsX9\n",
       "Cewp7g6lDbh0Q7UwtDMw+D8AxnEBw/ViqBTLPyAhDrSdywCXbqgWmDc5BBgYnJE91cjAP4HxL87o\n",
       "hmoBMaGhD9f9Aewsvg14dEO0TAc63h/oPUWobpBPWX4DpUAGcxgwcGPqBCmBaOEuAKpkW8AgdAGi\n",
       "m/sbSD6LgVEXRF/ewLA/ASoIJuA8iBbGLaCA6dECBwDIbmOQyRyHloNzy2lg1FgDGVYMUIJ5AUwJ\n",
       "RAtPAcJJIN0sSJEkxSDIwOCN4XIkJfv3ourmQHAZz94F5hTMBIukxA2RpiTygXG/HSHF+v//B2DA\n",
       "YOhGUrKpEFUKXTE7ZpijKgEA19BhsKvqgfwAAAAASUVORK5CYII=\n",
       "\" style=\"display:inline;vertical-align:middle;\" /></a><br>"
      ],
      "text/plain": [
       "<IPython.core.display.HTML object>"
      ]
     },
     "metadata": {},
     "output_type": "display_data"
    }
   ],
   "source": [
    "U_1_to_i = var_range(U, one, i)"
   ]
  },
  {
   "cell_type": "code",
   "execution_count": 114,
   "metadata": {},
   "outputs": [
    {
     "data": {
      "text/html": [
       "<strong id=\"U_1_to_m\">U_1_to_m:</strong> <a class=\"ProveItLink\" href=\"../__pv_it/common/f2446d23f25b2a0391ce7ae7ebebadb55f507e4c0/common_expr.ipynb\"><img src=\"data:image/png;base64,iVBORw0KGgoAAAANSUhEUgAAAIEAAAASBAMAAACOfKCOAAAAMFBMVEX///8AAAAAAAAAAAAAAAAA\n",
       "AAAAAAAAAAAAAAAAAAAAAAAAAAAAAAAAAAAAAAAAAAAv3aB7AAAAD3RSTlMAIqvdVO/NdolEmRC7\n",
       "MmaVuGqYAAAACXBIWXMAAA7EAAAOxAGVKw4bAAABYUlEQVQ4y2MQsjdyYFD9VsAABeh8LABdSf8E\n",
       "Bgb2BoQ8Oh8LQFOSD8RcGxhw8rEANCV/gJgJSRqdjwWgKuH8DiR2MODkYwFoSjj+AomXDDj5WACa\n",
       "EuYAILGAAScfC0BTsl8BSCgwcD9D5e9o0sZpAlQJDPg/YGBgLGC4XozKX8CwGKcJUCXwuL0A9JgA\n",
       "A4MzKv8ng/wFnMkBqgXGhcaMMyr/NT4TIEpevS1XqDsLdBIwZShCTQAlEhifoZmBgRtTN0IJ98s4\n",
       "hiCGIgYGtgUMQhcgJnB/Y0Dwea2BQZYAFYQzkJQwbk9g+MuwAsjv0QIHCsgNxhsQfBkgmxloCoMV\n",
       "KP4WQBnISpgKeAMYTBDOA5nAgkjrjAsYgWHljeELJCWsF9gPMH64gGICB0KlzN1bQLWYWRRJiTzQ\n",
       "FXwH4ClLIr+dgWE7Qjr+/3+grzFLCSQlkxjYBBjVUXMxugZ2zLjANBMAFzVsczs1kT0AAAAASUVO\n",
       "RK5CYII=\n",
       "\" style=\"display:inline;vertical-align:middle;\" /></a><br>"
      ],
      "text/plain": [
       "<IPython.core.display.HTML object>"
      ]
     },
     "metadata": {},
     "output_type": "display_data"
    }
   ],
   "source": [
    "U_1_to_m = var_range(U, one, m)"
   ]
  },
  {
   "cell_type": "code",
   "execution_count": 115,
   "metadata": {},
   "outputs": [
    {
     "data": {
      "text/html": [
       "<strong id=\"V_1_to_i\">V_1_to_i:</strong> <a class=\"ProveItLink\" href=\"../__pv_it/common/e3223cb2bd5adfc47566bb02ae24ae281c09c18b0/common_expr.ipynb\"><img src=\"data:image/png;base64,iVBORw0KGgoAAAANSUhEUgAAAHMAAAASBAMAAACaxfwqAAAAMFBMVEX///8AAAAAAAAAAAAAAAAA\n",
       "AAAAAAAAAAAAAAAAAAAAAAAAAAAAAAAAAAAAAAAAAAAv3aB7AAAAD3RSTlMAds27VDLdmRBEq+8i\n",
       "iWYU/rnEAAAACXBIWXMAAA7EAAAOxAGVKw4bAAABaElEQVQ4y2MQ+m/CwBD2rYABAhj1PzswsOan\n",
       "M+AECA0cn4BczgVwmX4FIDELt05kDbuBmAshw70BSCzAoxVJgz4QiyIkmD4AXR2ATytCw/oDDDwX\n",
       "EBJcfxgYzuLTiaTh/gRk9zLw/iTgXiQN7x8wvESS4PvHwDcBr1aIhh4ga/4FoPUcj2ASnH+B7uW4\n",
       "u6oBp1awBoaLoNgwAFofKAYP+89A97IzsCfg1ArWAAb8CSD3usFlvgHdyz+B5ytOrRANIMD24wKK\n",
       "1vxeoIcb8GgFa5gICkrmzwxQrRxgGXsDcEAnQLkoABwAIA0cAj+ALPafMK3gNMhQDw7fsAYwF5zq\n",
       "wAScB9bA0wIKC74CmFa2DBDrOYjgsYBywfkARLCBlKU1wDQwC8CdAvarB5x7nOEMMhcGWOBR1t+K\n",
       "qhWeHnlMQyuQuIikBmc5scNYZ/UvgvwOzz7//39A4sJBI5zVJYMiwciAjwsCKIYBAMnOYeixiYJV\n",
       "AAAAAElFTkSuQmCC\n",
       "\" style=\"display:inline;vertical-align:middle;\" /></a><br>"
      ],
      "text/plain": [
       "<IPython.core.display.HTML object>"
      ]
     },
     "metadata": {},
     "output_type": "display_data"
    }
   ],
   "source": [
    "V_1_to_i = var_range(V, one, i)"
   ]
  },
  {
   "cell_type": "code",
   "execution_count": 116,
   "metadata": {},
   "outputs": [
    {
     "data": {
      "text/html": [
       "<strong id=\"V_1_to_j\">V_1_to_j:</strong> <a class=\"ProveItLink\" href=\"../__pv_it/common/aa1473166864fac4f6d41a5cddebd2f3e42aeaba0/common_expr.ipynb\"><img src=\"data:image/png;base64,iVBORw0KGgoAAAANSUhEUgAAAHQAAAAUBAMAAACuQAROAAAAMFBMVEX///8AAAAAAAAAAAAAAAAA\n",
       "AAAAAAAAAAAAAAAAAAAAAAAAAAAAAAAAAAAAAAAAAAAv3aB7AAAAD3RSTlMAds27VDLdmRBEq+8i\n",
       "iWYU/rnEAAAACXBIWXMAAA7EAAAOxAGVKw4bAAABd0lEQVQ4y2MQ+m/CwBD2rYABAhj1PzswsOan\n",
       "M+AECA0cn4BczgVwmX4FIDELt05kDbuBmAshw70BSCzAoxVJgz4QiyIkmD4AXR2ATytCw/oDDDwX\n",
       "EBJcfxgYzuLTiaTh/gRk9zLw/iTgXiQN7x8wvESS4PvHwDcBr1aoBqCn5l8AWs/xCCbB+RfoXo67\n",
       "qxpwagVrYGBIBcaGAdD6QDF42H8GupedgT0Bp1awBjDgTwBZ7waX+QZ0L/8Enq84tUI0gADbjwso\n",
       "WvN7gR5uwKMVrIFD3IGBgfkzA1QrB1jG3gAc0AlQLgoABwBYAzsLMNWx/4RpBadBhnpw+IY1gLng\n",
       "VAcm4DyIhg5eYCLmK4BpZcsAsZ6DCB4LKBecD0AEG0hZGshaiAamBzCngP3qAXfZcYYzyFwYYEFE\n",
       "Gf8BFK3w9MhjGlqBxEUkNQQzGsY4q38R6BUBePb5//8DEhcOGhFMKRQJRgZ8XBBAMkyPgUzANHUD\n",
       "uVrZxRsYALETYcECf8p/AAAAAElFTkSuQmCC\n",
       "\" style=\"display:inline;vertical-align:middle;\" /></a><br>"
      ],
      "text/plain": [
       "<IPython.core.display.HTML object>"
      ]
     },
     "metadata": {},
     "output_type": "display_data"
    }
   ],
   "source": [
    "V_1_to_j = var_range(V, one, j)"
   ]
  },
  {
   "cell_type": "code",
   "execution_count": 117,
   "metadata": {},
   "outputs": [
    {
     "data": {
      "text/html": [
       "<strong id=\"V_1_to_n\">V_1_to_n:</strong> <a class=\"ProveItLink\" href=\"../__pv_it/common/4e3d185cdb00d85ee0e29821cdc4893f0dcd9f060/common_expr.ipynb\"><img src=\"data:image/png;base64,iVBORw0KGgoAAAANSUhEUgAAAHcAAAASBAMAAACTLlxQAAAAMFBMVEX///8AAAAAAAAAAAAAAAAA\n",
       "AAAAAAAAAAAAAAAAAAAAAAAAAAAAAAAAAAAAAAAAAAAv3aB7AAAAD3RSTlMAds27VDLdmRBEq+8i\n",
       "iWYU/rnEAAAACXBIWXMAAA7EAAAOxAGVKw4bAAABd0lEQVQ4y4WTPU/CUBSGX/xoC5QPTXTmH8Cg\n",
       "iZtOxrEmytxJ3ejoJvwAY2cWmV1k1xg3F4n1B/gRE0OYJBIJJCqee0p7W5rWk9yTe3vep317z71Y\n",
       "nqwB1aEFN1LlwRYWa4eIjSCgfVJKt/zaWYlSM54NA1c0MrKWbVNqJcAhoExjRZbm+uTdSIKDwOUt\n",
       "dEeWMt9AJ4kNAS920DVy439ch4CPV/QCpfwv8nYiHATOHTKhvXnL9A+51p4u6rEwA15vKmRid9Xv\n",
       "xIBcq1DNWJiBaRRMYWLbXw/JdcHWv2JhF3BDGTkhuHZKP15PgBnovi+JMzY/wBR2f3OzwptuQoty\n",
       "rBCA1rvBNc3V8RTmcwec8F5X63xQ+RmfWH/FgN4oYSR6Y3lfPuAXd0XSN8jeEU3EDVEsL7GCgUwx\n",
       "3fYNCXhBtucO98BOxLZUZA3VMoJwzhfp6/vHgBOBpeIByp4Hd8qPQENercmkD60YgaWiidRzqDQj\n",
       "TkV3e0bxB3DSZ3gBK8oXAAAAAElFTkSuQmCC\n",
       "\" style=\"display:inline;vertical-align:middle;\" /></a><br>"
      ],
      "text/plain": [
       "<IPython.core.display.HTML object>"
      ]
     },
     "metadata": {},
     "output_type": "display_data"
    }
   ],
   "source": [
    "V_1_to_n = var_range(V, one, n)"
   ]
  },
  {
   "cell_type": "code",
   "execution_count": 118,
   "metadata": {},
   "outputs": [
    {
     "data": {
      "text/html": [
       "<strong id=\"W_1_to_k\">W_1_to_k:</strong> <a class=\"ProveItLink\" href=\"../__pv_it/common/e0361c09ab8ba1a47aa56af58a1d77f6addd398a0/common_expr.ipynb\"><img src=\"data:image/png;base64,iVBORw0KGgoAAAANSUhEUgAAAI0AAAASBAMAAACUQEAAAAAAMFBMVEX///8AAAAAAAAAAAAAAAAA\n",
       "AAAAAAAAAAAAAAAAAAAAAAAAAAAAAAAAAAAAAAAAAAAv3aB7AAAAD3RSTlMAic3vu0Sr3RBUZiKZ\n",
       "djLVooVUAAAACXBIWXMAAA7EAAAOxAGVKw4bAAAByUlEQVQ4y42TO0sDQRSFz0ZNNlmjQVArSf5B\n",
       "LARBkKQRS9dCLRVsbARBUAvBFWuJnVYhiGBE0Ag2FrLb2elaKTba2fjMQ8UocWb2lXUm4oWdzP04\n",
       "OczcuRcdpSFMv89gs5SDHQLEh5TsU4OpBS28MsDyllfCKuR3ypUIkCAmY0BcBcatVPmy/iR5CgES\n",
       "hG5YPjErld+AwCcw5ikESBAZctpkDi2qnReBm2/XthHioz2B6KHpHbofSvYVkUKdRID4aJrDyXMM\n",
       "+04+D4kUZL1eIkB8hHoR0w3ZdPIksnKZ3kHe5tBq10xDn8BL+C6TptfaZV4jmokirdbjlSNxkYGz\n",
       "hj7NH1FSI/oWTazUF6ca+lm1Nh2JiyrQ7xr5tFavSY3oW+gsj++RguR9Pi7K/+EjfW4gNKCR3Y5y\n",
       "SdbbNOsD24fyOoRuG/lCpku0bHUZMHuyRp72kHzDsH3kIt14qG3JQpmEvXhZpEpqNEdFgxttZB0l\n",
       "X6fjg0XNh441C4UM2Msy3SzRKSSlkVQ2Ruf+41KfsO8WiqEUfiEWW/VJJD2hcD7+2Tx+etBE4+qb\n",
       "mKB575McJXvwq4lTtRoEfe01MWukQvCAk5j4B4ryoh8t9JBxOsNpcgAAAABJRU5ErkJggg==\n",
       "\" style=\"display:inline;vertical-align:middle;\" /></a><br>"
      ],
      "text/plain": [
       "<IPython.core.display.HTML object>"
      ]
     },
     "metadata": {},
     "output_type": "display_data"
    }
   ],
   "source": [
    "W_1_to_k = var_range(W, one, k)"
   ]
  },
  {
   "cell_type": "code",
   "execution_count": 119,
   "metadata": {},
   "outputs": [
    {
     "data": {
      "text/html": [
       "<strong id=\"W_1_to_n\">W_1_to_n:</strong> <a class=\"ProveItLink\" href=\"../__pv_it/common/c4fb54ef4c405eb2f80cb5b92408dec94197dbd60/common_expr.ipynb\"><img src=\"data:image/png;base64,iVBORw0KGgoAAAANSUhEUgAAAI4AAAASBAMAAAB/d/sDAAAAMFBMVEX///8AAAAAAAAAAAAAAAAA\n",
       "AAAAAAAAAAAAAAAAAAAAAAAAAAAAAAAAAAAAAAAAAAAv3aB7AAAAD3RSTlMAic3vu0Sr3RBUZiKZ\n",
       "djLVooVUAAAACXBIWXMAAA7EAAAOxAGVKw4bAAAByElEQVQ4y32UO0vDUBTH/6mPpI2pQVAnsd8g\n",
       "DoLQQV3E0UrRVcGli1AQ1EE0roLUrU6lOCkOVuiggzSbIILVRRHBfgCrtQ8VH+jNo71N740Hkpzz\n",
       "4+R/b849J+ipTGDhPYZkJQ3HOIg1QRuOdI4t6/6NsBV3vBJWI8/5RgoHcWxOBQYjwKwdyt/2SwLN\n",
       "4CCO5QxbR7VD6Q3wfQIzNIODOJYgu9XS6Ig4cRm4/2nIeiHWukNQjvJ00yOQU68IZJpSOIi1tjhO\n",
       "X1Qc1uMlCKQg280pHMSaOAQ1Z0j5eqwhJVXNb5D2GLTZF/PU8ZX8hcQ4PYspPY+yWa3iLYMMnHvq\n",
       "tH8opEb0LK7OdIxYskkG1ZAreOl0fd2RGtGzGDwgBdl36TTQ/j86wucOxLAOBC6KDyR+HLf6wNHR\n",
       "4ULod5DLJPOmVO0uw1Y03UaO9ohck3B0pLLpUBRctVEiBOrYt8AXqVGcOCc36CZrTRO3t66DFXN1\n",
       "irK6jUQyBFiD44ir5hSS0ghWMy8i6tquqeN3fYVsyJkWZNmuKxrFZbBVxz2b2ecnnTeuromRS1hP\n",
       "NcXH2gBamnjs9xecvqZNbP1m5nHN/Kjy7OIsUtikP6uskDhkjT3+AAAAAElFTkSuQmCC\n",
       "\" style=\"display:inline;vertical-align:middle;\" /></a><br>"
      ],
      "text/plain": [
       "<IPython.core.display.HTML object>"
      ]
     },
     "metadata": {},
     "output_type": "display_data"
    }
   ],
   "source": [
    "W_1_to_n = var_range(W, one, n)"
   ]
  },
  {
   "cell_type": "code",
   "execution_count": 120,
   "metadata": {},
   "outputs": [
    {
     "data": {
      "text/html": [
       "<strong id=\"lambda_i\">lambda_i:</strong> <a class=\"ProveItLink\" href=\"../__pv_it/common/af164319a03645bc46d3202281a9f1f31fcb147f0/common_expr.ipynb\"><img src=\"data:image/png;base64,iVBORw0KGgoAAAANSUhEUgAAABEAAAARBAMAAADJQ1rJAAAAMFBMVEX///8AAAAAAAAAAAAAAAAA\n",
       "AAAAAAAAAAAAAAAAAAAAAAAAAAAAAAAAAAAAAAAAAAAv3aB7AAAAD3RSTlMAEKuJ70RUuyJ23TLN\n",
       "mWb8I+xeAAAACXBIWXMAAA7EAAAOxAGVKw4bAAAAZUlEQVQI12NgEFJggALGzzAWgwqcFZ8AY7EU\n",
       "wFjMH2Esjp9AQgKs+ReQsASxxOdvgEoelL8AYe3awOTAEAm0iNuVgfUb44SPEHOXc4gtYGCoAyrI\n",
       "b2CfADNTXhrGyuGFsYRmMAAAkxwTVC1uy/MAAAAASUVORK5CYII=\n",
       "\" style=\"display:inline;vertical-align:middle;\" /></a><br>"
      ],
      "text/plain": [
       "<IPython.core.display.HTML object>"
      ]
     },
     "metadata": {},
     "output_type": "display_data"
    }
   ],
   "source": [
    "lambda_i = IndexedVar(lambda_, i)"
   ]
  },
  {
   "cell_type": "code",
   "execution_count": 121,
   "metadata": {},
   "outputs": [
    {
     "data": {
      "text/html": [
       "<strong id=\"P__x_1_to_n\">P__x_1_to_n:</strong> <a class=\"ProveItLink\" href=\"../__pv_it/common/bcbe622d6fda27f5c2da727eff45652e5b8413350/common_expr.ipynb\"><img src=\"data:image/png;base64,iVBORw0KGgoAAAANSUhEUgAAAJsAAAAVBAMAAACj9YEXAAAAMFBMVEX///8AAAAAAAAAAAAAAAAA\n",
       "AAAAAAAAAAAAAAAAAAAAAAAAAAAAAAAAAAAAAAAAAAAv3aB7AAAAD3RSTlMAdrurzZkQ7zJUiSLd\n",
       "ZkQEbk8lAAAACXBIWXMAAA7EAAAOxAGVKw4bAAACGElEQVQ4y2NgQAYbGCgB6LoZJ1Bk3EMwKfRf\n",
       "2cg1AcSaRZFpDIwXwNQXBgamMiDN5kCZcQxuIILjIwMDJxAzsF6g0LirYDf+AOJfQAY7haYxsIOC\n",
       "jOkDEAONZJhCqXEsIO/xKzAw9AsAGVFAnCicsQopftkEzbpW4jUCWQOXAQPYqF0nQTxfIA5gNGQ9\n",
       "gFDMyiAsEIPXOGQNvKC4lLdadQ/MA5rJu4H3G/MFhlxYHN9muJ9gy5C12AyXaVANEMBZACT0YVJ1\n",
       "wFhmYAWaxCEIs6+BIQTkAgacLoRogHE+QJId3Dhg7IBCkRPh30Ig/sewvwF3dArAmXxA13H8gvHA\n",
       "Afh+A1sCknF8vxnSGK7hMw6kgTe2URTqCsZ/MAlFBoakB+YMXBBxNlDE6jEXMCwAMtYwMCRgGARS\n",
       "AdGQ+/wCO7AA4AWmEZYPMOnFDAzz28IZXkKMyweGCeeP1AI+YDLgOMbABgoTkBicASYgGraJMPAD\n",
       "rWNdwMCq/wnm+R4GhlRBztgJEON4jgG1BgpMvQmU2QRUewaIeQKAnKMMUAZIBVSDIcNzkMADZMfz\n",
       "wAMIHHbT4BLcAdwbGDgxfYtQUcEQysHAsAc1DQWgGLcALrGpozUBFKToAK6C+wPDiRkMDLGo0tow\n",
       "2SW/BBjYEAmg/v9/YG7CjAq4Cj4DBqkLDNwKqPJJKIUhmmYBzOISjc+EVrpzC1BUoEgzMAAAHFt/\n",
       "eGolB90AAAAASUVORK5CYII=\n",
       "\" style=\"display:inline;vertical-align:middle;\" /></a><br>"
      ],
      "text/plain": [
       "<IPython.core.display.HTML object>"
      ]
     },
     "metadata": {},
     "output_type": "display_data"
    }
   ],
   "source": [
    "P__x_1_to_n = Function(P, x_1_to_n)"
   ]
  },
  {
   "cell_type": "code",
   "execution_count": 122,
   "metadata": {},
   "outputs": [
    {
     "data": {
      "text/html": [
       "<strong id=\"P__y_1_to_n\">P__y_1_to_n:</strong> <a class=\"ProveItLink\" href=\"../__pv_it/common/354c982fd0f502112bf4694db5f23a5833ec2bdf0/common_expr.ipynb\"><img src=\"data:image/png;base64,iVBORw0KGgoAAAANSUhEUgAAAJUAAAAVBAMAAAC9PLGkAAAAMFBMVEX///8AAAAAAAAAAAAAAAAA\n",
       "AAAAAAAAAAAAAAAAAAAAAAAAAAAAAAAAAAAAAAAAAAAv3aB7AAAAD3RSTlMAdrurzZkQ7zJUiSLd\n",
       "ZkQEbk8lAAAACXBIWXMAAA7EAAAOxAGVKw4bAAAB8klEQVQ4y6VUPywDURj/tdyf9lo9wsKANBGJ\n",
       "QdVm6sImkfgzSHCYRS3CImwkTRhExFTRyWRhwNCFkBjOYKWmjkoMTQf1vXf3Ts+pof2S7933e9/v\n",
       "/e5937t7QKWdoWb7vdS3V7vWKx9bytH4sMGio9ql4DP54xPwr9JTTtShhRE2qO9AgBySWY/WE99d\n",
       "kbxEgVKPFBTWJn+BnPSwX5dWI6sq0gXs6hRMU8vaTCw6aTf6wyoJwRi4zuU9Q6M0EUjixaG60R9W\n",
       "SQizk+scOn3miAR3pCziWLIPlCP5dNCopmXRLSNZoF9kNgBD0bGiNmetCY4kSNlqWpxgx2rB+rwc\n",
       "LbwZahEBsZihSE4rVi2S0y1ron2pJZFgTZuAL/mjxVDY+EeLE2a22liNtMj3JRLd5FH4Y3xahkAI\n",
       "EvS2zCEs5U2F/uwwfQ6NBZE9IR/Hm8m1lhMCIWVAZo1gUzxwECdctCJCr5LSkPo/dFsrRb54PHfG\n",
       "tUK3Amk9FD0QOzRGwQ3s4YcwgDzDucpdhzbZmLFKxwFsdI4rmvIW6RDWMKkC165keAzBhLxua6Vh\n",
       "Ia13e4pCb98dQgF3h8CMO9uHkN6QhpYp6ZCpco6Ucpk6Ou/tvSA0xdBuQutypxcQeJwVdxs7ZgdB\n",
       "915+boL/1yWt6bVfEx3AN4q2hp7GKPpiAAAAAElFTkSuQmCC\n",
       "\" style=\"display:inline;vertical-align:middle;\" /></a><br>"
      ],
      "text/plain": [
       "<IPython.core.display.HTML object>"
      ]
     },
     "metadata": {},
     "output_type": "display_data"
    }
   ],
   "source": [
    "P__y_1_to_n = Function(P, y_1_to_n)"
   ]
  },
  {
   "cell_type": "code",
   "execution_count": 123,
   "metadata": {},
   "outputs": [
    {
     "data": {
      "text/html": [
       "<strong id=\"P__x_1_to_m_y_1_to_n\">P__x_1_to_m_y_1_to_n:</strong> <a class=\"ProveItLink\" href=\"../__pv_it/common/c03746506535a5b9b9bc4606ba23d6af8c1dbe5d0/common_expr.ipynb\"><img src=\"data:image/png;base64,iVBORw0KGgoAAAANSUhEUgAAARwAAAAVBAMAAABmokyvAAAAMFBMVEX///8AAAAAAAAAAAAAAAAA\n",
       "AAAAAAAAAAAAAAAAAAAAAAAAAAAAAAAAAAAAAAAAAAAv3aB7AAAAD3RSTlMAdrurzZkQ7zJUiSLd\n",
       "ZkQEbk8lAAAACXBIWXMAAA7EAAAOxAGVKw4bAAADM0lEQVRIx8VWTWgTQRT+Nmk2P9ukG2sQxWKg\n",
       "IAXBphUqFIRcPIoRq0JpdWutilBMEUQPYnpQqgjNRetBMaW9WDysBT3UQ+uhpQWRKK0oQhvwUDw1\n",
       "Simhxca3s7ObSWqCtzyY2fdmvm/2mzdvJwEEU1BVK3393urKCahGvyvf2HpcI8ebqq4cNLB+HXDc\n",
       "pOelKqtBjZEUzy9KDDV0V1uOP0adlKO2SU682nJgnJEjS40keaNVl3OCWl0YGKaidlEly8G2hy+F\n",
       "+Z76qxPJSguUEmgklEavsEI35EilBUT4GJiUqQWjkNIkCfVqlwCOSS2umUpySgmAzxvHSiFMjcCf\n",
       "rbBAEXyR2oH2iWXDr6U0fMeKdgzyolVbun/DmZYnjmjlVjMJoj0g/a3o5yfvSXbBGb421lZuARPO\n",
       "bYRaM/fdGSCBDvIG9/MhD1xRIwPlM2QSRNPcKgY8Qc6QMQC3GkNXuQUY3AqGzWvHlgNz6pmNJjDq\n",
       "MkqufLYHSgfWNE8OXmsDgQ0MJ7YxnSjHZ3Buq5SBTe4bh4XAFi6LctZ0WfNrFeQwwtLXYKShiY90\n",
       "QIoX5FB69+BLBTkG3N89GOJpkLb5uEOFfNgZR8qUI1O7mDkKn1FvMywszTM4QV6+gxuoNzlohCPC\n",
       "5LCI/EZ6vGLw0q/Kgvevpt06+Z/pg7Lq3keL5PrigaQp5zpVzYv75/CT/EcaC+V1Pm5HJkHpiSKH\n",
       "Tj53GmtpJodFrkjgDx3B3D/IBfjb3agz1HbC1fxb5XVLKTilPv7Ga6d2DugLertJnXLQDDFrjMes\n",
       "7oNmEZyqJ44FDuodvaAzOSyS20NbwKTG4AJ5FiK8xSgb4KOYu3nbY7XzxA7f4J0YWua10+9OSGEl\n",
       "m7BA4zBrx4x8USgxRRfgttnwWzjjoW0XfcBLxXLsvxtK09BZISzcYLY3Tfnxh2MM5IvKt7mcFHvX\n",
       "lSQmh+5pArxwR3K4ksX8UzrYtDjp0LkzdXKUsqzae8/ns0JYuP9t7wdqdKVFY6Ba1ZmCMr6pmpT3\n",
       "aAfu5vMi3C5lCx6IYB9JmSyeDYuRVEyVdu5tp0AD5P10XqQ8D2X+Ew4cKp5+Xd3fc0nHX90e3rPr\n",
       "4fyoAAAAAElFTkSuQmCC\n",
       "\" style=\"display:inline;vertical-align:middle;\" /></a><br>"
      ],
      "text/plain": [
       "<IPython.core.display.HTML object>"
      ]
     },
     "metadata": {},
     "output_type": "display_data"
    }
   ],
   "source": [
    "P__x_1_to_m_y_1_to_n = Function(P, [x_1_to_m, y_1_to_n])"
   ]
  },
  {
   "cell_type": "code",
   "execution_count": 124,
   "metadata": {},
   "outputs": [
    {
     "data": {
      "text/html": [
       "<strong id=\"P__x_1_to_np1\">P__x_1_to_np1:</strong> <a class=\"ProveItLink\" href=\"../__pv_it/common/c727476b19775ccb31c3afd880d951839db7bc420/common_expr.ipynb\"><img src=\"data:image/png;base64,iVBORw0KGgoAAAANSUhEUgAAAK8AAAAVBAMAAADC7aNVAAAAMFBMVEX///8AAAAAAAAAAAAAAAAA\n",
       "AAAAAAAAAAAAAAAAAAAAAAAAAAAAAAAAAAAAAAAAAAAv3aB7AAAAD3RSTlMAdrurzZkQ7zJUiSLd\n",
       "ZkQEbk8lAAAACXBIWXMAAA7EAAAOxAGVKw4bAAACK0lEQVQ4y62VP4gTQRTGv01uJ9nsbm7jlRae\n",
       "EVQQPP+AgiCk0U6IIgriwd7BiY0YGxtRUonKgSnUwsaANgaENDYqeI2CYJHmQBHOiJWVUeQIEYxv\n",
       "ZncmM7vExh2Y2fe9mfnlzdu3E0BvXWTTkhyrlRH4ixi3jHccOBZy62FGXFg98fgF5K7Sk9WyAuM4\n",
       "H4o/AIc67F5m4HUR95D6iIxCZlwUeGpzA+oEx73swDP88LPzwN2AjHPUl+YudrTaSMh0Y5VDd56m\n",
       "3aV9ENAX77g6Qb1u7bfXJgsSMt1szAXn026f18G2I50NoYjud/3NfA+X4vqIJOscDKeBP+FzeNTw\n",
       "iL1Og4YF6bpBFQKb/MVKHGUkbUyPuonTevhyb3EQlbEC0/vk2XYUiMvZvjucnowrEzMHubdMERdH\n",
       "0i8S/b3LQg3MpR/+A1z+jQtY/1CpG2A+WH/kmu3Acv8wSpGfQUmU1oRMNEo825tvoM02ruOaAfap\n",
       "0mYGcuFj4NHNs/gWTV6uKYnVUEjGsyYGqZzhSqPccpdq2DTAdhv2ws8gBq8CKxVnsRVNem+VdHdG\n",
       "Em8QDx4/+fsQ7GRw/yOQDyipp6q7qtVeBPb6+tG8prTE5AM18RwvdalWqSIsNO16U4/4lVnVdQPc\n",
       "lsrdfeuMJiefl7Jew7ttgBfNlXsk6ckoAAtUPOPxQJOT711ZX2E9i3Ms9rrz5spl47JO3N3pqkj9\n",
       "VE4Zif8mN/i/O82WxlbgL1jviVorAddAAAAAAElFTkSuQmCC\n",
       "\" style=\"display:inline;vertical-align:middle;\" /></a><br>"
      ],
      "text/plain": [
       "<IPython.core.display.HTML object>"
      ]
     },
     "metadata": {},
     "output_type": "display_data"
    }
   ],
   "source": [
    "P__x_1_to_np1 = Function(P, x_1_to_np1)"
   ]
  },
  {
   "cell_type": "code",
   "execution_count": 125,
   "metadata": {},
   "outputs": [
    {
     "data": {
      "text/html": [
       "<strong id=\"Q__x_1_to_n\">Q__x_1_to_n:</strong> <a class=\"ProveItLink\" href=\"../__pv_it/common/bf2f905b72ae7caedef50b78edeba9c03ac6d7cd0/common_expr.ipynb\"><img src=\"data:image/png;base64,iVBORw0KGgoAAAANSUhEUgAAAJoAAAAVBAMAAABMN+opAAAAMFBMVEX///8AAAAAAAAAAAAAAAAA\n",
       "AAAAAAAAAAAAAAAAAAAAAAAAAAAAAAAAAAAAAAAAAAAv3aB7AAAAD3RSTlMAIomZq2bNMhC7791E\n",
       "VHYkqjbgAAAACXBIWXMAAA7EAAAOxAGVKw4bAAACMUlEQVQ4y6WUPWgUQRTH/7t7p3OXu82qWNiY\n",
       "cH40oi5CRCKYFAbEQk8CCYLiNlYWWUQwIJqFgF9FjDZaWFwQwSoELBQjuIWVIB4IIlq4RazEQwu9\n",
       "kOZ8b2a83bvlrtkp3ryZee838968GSDRDGRp3d4/M9FKkWTuqkzIYXk4Ew3fWez1kfNYuZkNhk0B\n",
       "MRZJecKjkYy0vAtcYuU0i1pGGp7BanJ/0Ke0eVlpFzHEgWIsBCy6BNE4cXl/Yn1h7Val3g/Q4bAb\n",
       "Y9J4xqEkVomItehowti1T1kr/WgdDlN4E/AOGyQGiHsGF4IJiKn/eXXy67mqqBwPetGUg25fsCG9\n",
       "/pAoUrQ+DpN244de3gzL4/17n0856DaHVe7uepoGLLP42jYoUoEPhkazd6zLsfqOaqNUx6ijI0Xp\n",
       "N24naR8cEeSDPjTpMDndcOUh5urT280lni9EEI9zNQwrGqfqTngSJvXmCkQaRBbKQZx7Ckachb0U\n",
       "mSrJ5jjKzfkaHZVp4i9NfZsdxXvqrwW45+m5tsJCORgLHtZp5hBw5cG+kJJJKacDHIs+ntd5W6Ut\n",
       "5hvlEYIbjygPL2nuOSfE1QpbaIdcVOKH9FqGGNqcN7xox8C0clwV27AF+JyKNLYo+pbrw5A3Xxj/\n",
       "JOcmO2hm/A0+vHoESH9XscUQBq77sKqynlvqygqOXtw6c4AeVVwlrdYviChFiy3ewt4D7FA1+ko9\n",
       "RbGYtO3yttN32s2/3zncmekHoeT/AylRjZzNjv+qAAAAAElFTkSuQmCC\n",
       "\" style=\"display:inline;vertical-align:middle;\" /></a><br>"
      ],
      "text/plain": [
       "<IPython.core.display.HTML object>"
      ]
     },
     "metadata": {},
     "output_type": "display_data"
    }
   ],
   "source": [
    "Q__x_1_to_n = Function(Q, x_1_to_n)"
   ]
  },
  {
   "cell_type": "code",
   "execution_count": 126,
   "metadata": {},
   "outputs": [
    {
     "data": {
      "text/html": [
       "<strong id=\"Q__x_1_to_m\">Q__x_1_to_m:</strong> <a class=\"ProveItLink\" href=\"../__pv_it/common/11d3710a2609c1fd8b6a9def2ef1d65fd8de88d20/common_expr.ipynb\"><img src=\"data:image/png;base64,iVBORw0KGgoAAAANSUhEUgAAAJ4AAAAVBAMAAABF3EpTAAAAMFBMVEX///8AAAAAAAAAAAAAAAAA\n",
       "AAAAAAAAAAAAAAAAAAAAAAAAAAAAAAAAAAAAAAAAAAAv3aB7AAAAD3RSTlMAIomZq2bNMhC7791E\n",
       "VHYkqjbgAAAACXBIWXMAAA7EAAAOxAGVKw4bAAACGklEQVQ4y6VUP0gbYRT/XRLNqUkIQocsRlpx\n",
       "Ee1R0EGhZjDg1CqCVqh4SycHD1vopoeCiIPGLl06JFShkxU6VPyDGTp1CghS7HKDTqLYoQ1IIX3v\n",
       "u8t3yZ3pcg/yfe/33u9+9733Lh9QYwqCmff564B6MUuoPnqYFTDeGVAPl7x0G4jo7KwGlUOzSSo5\n",
       "cj4y6g+s16QBc+w85yUfWA+fEC7z/tig9unB9V4hzeViuAiEaRzqzehCr5v2wHvMw+jCcIn3+SQ1\n",
       "c4w0cWENuWkPvMc8jEmcmPyWO1raSHkcs2YW6qSTtuFy12hDPZsh7Rx3Yi6/aWmlmg0MkLd45aRt\n",
       "qKHxGW2GtCUc8rauO3rALi8/JYHhX6SNxhXv1oLv9KXEShhMOvUi9gtrNXoCvvifnmBMTN1kLt+L\n",
       "gyyVph6ECpxpsaB+iOTRaetRX6sQPeT7R4sqQ325g21cEJ5GomCFRngmCGUQL6/k6bisp/6BhNF9\n",
       "YFO3Y/WOzVA2dJTxhGL0e/OupwiuJ7oH9al1OuP079CUMEXvayNNfOG2aFWHIg4jYkXzOKbYkSi0\n",
       "mOD+4asshfXiprzWNIXyP3wFu5FWI5FTbg0oe0IvcyaiE3V6IYlSb1+Ttv8ycyNpOmFTTkN4THzj\n",
       "FfEfRkvSSbfP9wEbkv25UqHKLN883Mg3NCeVZyZSAkUPSjYhV0v3PJ/wHc8fwVY97Ah4u9AY/gGe\n",
       "fpEFcSDtyQAAAABJRU5ErkJggg==\n",
       "\" style=\"display:inline;vertical-align:middle;\" /></a><br>"
      ],
      "text/plain": [
       "<IPython.core.display.HTML object>"
      ]
     },
     "metadata": {},
     "output_type": "display_data"
    }
   ],
   "source": [
    "Q__x_1_to_m = Function(Q, x_1_to_m)"
   ]
  },
  {
   "cell_type": "code",
   "execution_count": 127,
   "metadata": {},
   "outputs": [
    {
     "data": {
      "text/html": [
       "<strong id=\"Q__y_1_to_n\">Q__y_1_to_n:</strong> <a class=\"ProveItLink\" href=\"../__pv_it/common/e38d9e725daa55259ff29a69c9848df141c43acc0/common_expr.ipynb\"><img src=\"data:image/png;base64,iVBORw0KGgoAAAANSUhEUgAAAJUAAAAVBAMAAAC9PLGkAAAAMFBMVEX///8AAAAAAAAAAAAAAAAA\n",
       "AAAAAAAAAAAAAAAAAAAAAAAAAAAAAAAAAAAAAAAAAAAv3aB7AAAAD3RSTlMAIomZq2bNMhC7791E\n",
       "VHYkqjbgAAAACXBIWXMAAA7EAAAOxAGVKw4bAAACEklEQVQ4y6VUv0scURD+7vYut/drOQQLETwx\n",
       "xkZItrGJhYtEsFMQ1CLFlkIKFxJIlbikSGFhjpA/4ETSRiFFQoS4hbVso4g2J3ZKRAujSOCcebO7\n",
       "3mW9FNmBfW++N9/7mHn73gAtlsL/W+Uv/CuB1o5k83BgQjnl/gRaxjSPQw4yNjvvkcQWWKFGwxqj\n",
       "kURaM/S9YGeKh3oirYIL7YqdJw4dl51I68E0qlwixjxAo6NfGYFuReF2dI+1EtIWxnx2FitKGP0H\n",
       "yJ5H1HZ0j7USsja2XJr1GxqKPnL+KDI1fVaigt4NTnaSEkIAynXcKM1LPjwPOr6g0Hh7KlFBJkY7\n",
       "aQkhFD7HJs/LtmihdI0lB4dBWKE/qDqdxIQe+HW6DSUfTytSIzQbJ4i0FJr/h5YizMydmVzjBpb8\n",
       "ue70KgfylG3ewifR4mMUhGGuJmYhQX/+Gbw/W4Ox2kg/c4OfCs0qXSot/TdClPsOfLCDJXbuEBNS\n",
       "KzauIVfq1cdhD1xFboMY48cXktemG6Ie8oqkh698EGY4RIRMo8Qvpuip4jxDdZ9vKjtbtMpugFJm\n",
       "iqL7sRojQsHRTMqlV63mrb3wdQ5h2RetNALU8/ol7Yq3o4hQRfGNE3YGrXklmhX8xDjQtfiYngct\n",
       "KLTebFIxjfj7CQnbMB5RF5Q7m/vhy9WrYffYC6i8+Q4Z8f/YTuBE2qwvQZs4Am4Bp5qXti7IFJkA\n",
       "AAAASUVORK5CYII=\n",
       "\" style=\"display:inline;vertical-align:middle;\" /></a><br>"
      ],
      "text/plain": [
       "<IPython.core.display.HTML object>"
      ]
     },
     "metadata": {},
     "output_type": "display_data"
    }
   ],
   "source": [
    "Q__y_1_to_n = Function(Q, y_1_to_n)"
   ]
  },
  {
   "cell_type": "code",
   "execution_count": 128,
   "metadata": {},
   "outputs": [
    {
     "data": {
      "text/html": [
       "<strong id=\"Q__z_1_to_n\">Q__z_1_to_n:</strong> <a class=\"ProveItLink\" href=\"../__pv_it/common/fa61ae2bda24a77da46ccd4184a14941ed8a56a50/common_expr.ipynb\"><img src=\"data:image/png;base64,iVBORw0KGgoAAAANSUhEUgAAAJMAAAAVBAMAAACwIsHjAAAAMFBMVEX///8AAAAAAAAAAAAAAAAA\n",
       "AAAAAAAAAAAAAAAAAAAAAAAAAAAAAAAAAAAAAAAAAAAv3aB7AAAAD3RSTlMAIomZq2bNMhC7791E\n",
       "VHYkqjbgAAAACXBIWXMAAA7EAAAOxAGVKw4bAAACHElEQVQ4y6VUz0sUURz/zKzbzv5sEQQlyCUl\n",
       "lIVaEi95cA4GnWogsI5zCYQiBwpCBBuEhDrUtn+AKIJeBIUOKy3RXLx4kKWDRRFMG3jx4qUCCbbv\n",
       "9+3Ma8ZxO+w++H7n83nv+z7zvt/5zgMCI4+Ox6mtuXrnUvvCK0OXbgjwsXMl5Az2ly30mPTUzC6k\n",
       "MEO2VCa3RhYzupG6Q/aAwW2yVDdKSNmI/WZw1QIOupI6Z2CQ88OkA1xjMF9VAnmGWXQkalafB1Ud\n",
       "k6IDZqkv7nPpH40O/4sMszPGUqOiezBu4oPNe07IvefGsDECbdpbFmxx+GZbqX6otgezKzgRkj/J\n",
       "bYqpRRsLRzKWWAkT7Y+ljchcj1Hj50vTl1Jccl/9dWZ/MGi1lbooUWaF2iBTx/W8lyB2oQWkmN37\n",
       "j1TGgB0fX/jBCW7jWf1un7rK88s8UUePkNIgGYqAHU2N3TdAf75npOgk8TJyq646JSL5Y82NNqpC\n",
       "6rUpWWIH2i+0piQQLlFZLlr9hzhP+2MF4Eml6IBTmCcrZNcdIZXekWyAAmtk6RJNvYUHOEDFl4fA\n",
       "Lewxd/g4SSfHtUrLknCtPsvSl5Q8stEMZcAGxhLABYGTuvhn4qWgVMEnA08f2/T+yPADlGNUPwHj\n",
       "gsSa4j/EG2+xd/YKNNffstVsAq+iZfcDMjoaBpRyq7veta7PF8GrLLzRjd51YZoM38iK2/nF8B34\n",
       "C1xrfIOnSWeWAAAAAElFTkSuQmCC\n",
       "\" style=\"display:inline;vertical-align:middle;\" /></a><br>"
      ],
      "text/plain": [
       "<IPython.core.display.HTML object>"
      ]
     },
     "metadata": {},
     "output_type": "display_data"
    }
   ],
   "source": [
    "Q__z_1_to_n = Function(Q, z_1_to_n)"
   ]
  },
  {
   "cell_type": "code",
   "execution_count": 129,
   "metadata": {},
   "outputs": [
    {
     "data": {
      "text/html": [
       "<strong id=\"Q__a_1_to_i\">Q__a_1_to_i:</strong> <a class=\"ProveItLink\" href=\"../__pv_it/common/fa56c5e4791077e82241b419c707e26e9d9d33950/common_expr.ipynb\"><img src=\"data:image/png;base64,iVBORw0KGgoAAAANSUhEUgAAAJMAAAAVBAMAAACwIsHjAAAAMFBMVEX///8AAAAAAAAAAAAAAAAA\n",
       "AAAAAAAAAAAAAAAAAAAAAAAAAAAAAAAAAAAAAAAAAAAv3aB7AAAAD3RSTlMAIomZq2bNMhC7791E\n",
       "VHYkqjbgAAAACXBIWXMAAA7EAAAOxAGVKw4bAAACGElEQVQ4y6WUsWsTcRTHv8kZ80uTS2+oYBHa\n",
       "otIOhXqLSx1Sii2dYsDBbr1R6GDEQsceoh0cmsM/oE2QDp0s7aDUwZs7lHMRoUsqgpMlFLSlVON7\n",
       "v9/ll/MkHZIH9+O9x/f3ud9797sHRCyBrs2KxT+6Rx2os9y6OSMdc6R7VL7E62gZVxx2VtGDPWaA\n",
       "R8sbju72gnpIzyI7D3ip9oLqc2GcsnOnTK1yekFdLWGY60PBBwzu+sDEUPR2TB/VLydofXIKhYCd\n",
       "J5bkIlfDhtsW7luZs0tJSi9od8rBR94pzmnJEvRVCfeAl2GpYhPGNp7fnuuIUvokHd2sgiFI/eTG\n",
       "UZEFYAfp420lNBrIjsBmdQeTemnpBj5IuBOitiAu6A0hqs9DxccFhsudUEovS63SNcgFmLRUgeIP\n",
       "Uo02qlLHAjDfGaX0uW+Qe1aCR9eSNc5n6hC/6eJ/kijBqACzJr1lXIUxDD9Sv9ZP/U55yNfqyftu\n",
       "+DmxjkPblqiKw3Bz16A2vFeh+IWYo/TXD6Gu0tLrcR9cQZoAL74+LZYlKkv7RXFs4Dsw6KoQu9wG\n",
       "u+VwRunXOfRlZX5ejpt3rbPLXn3R99ROWJFQm86IMzrJDelmpj7rP7KN0hNncPmZGwm16Yzp2K1Z\n",
       "YDRPFTIchYnRE/oC+o9522wiEuqz6IwoWkh46nbtBSrlRWdZbLT9P+z+iTKxiTzU/WA4Av4Co0GH\n",
       "BiPwgDkAAAAASUVORK5CYII=\n",
       "\" style=\"display:inline;vertical-align:middle;\" /></a><br>"
      ],
      "text/plain": [
       "<IPython.core.display.HTML object>"
      ]
     },
     "metadata": {},
     "output_type": "display_data"
    }
   ],
   "source": [
    "Q__a_1_to_i = Function(Q, a_1_to_i)"
   ]
  },
  {
   "cell_type": "code",
   "execution_count": 130,
   "metadata": {},
   "outputs": [
    {
     "data": {
      "text/html": [
       "<strong id=\"Q__b_1_to_i\">Q__b_1_to_i:</strong> <a class=\"ProveItLink\" href=\"../__pv_it/common/41faf4bb5a8d1b262cc27c0ca9528a52cb93aaba0/common_expr.ipynb\"><img src=\"data:image/png;base64,iVBORw0KGgoAAAANSUhEUgAAAIwAAAAVBAMAAABmhxuGAAAAMFBMVEX///8AAAAAAAAAAAAAAAAA\n",
       "AAAAAAAAAAAAAAAAAAAAAAAAAAAAAAAAAAAAAAAAAAAv3aB7AAAAD3RSTlMAIomZq2bNMhC7791E\n",
       "VHYkqjbgAAAACXBIWXMAAA7EAAAOxAGVKw4bAAACOElEQVQ4y51UTWgTQRT+slubSZNN9iKYi11s\n",
       "6aUHF0EPekgpFrxYFwR/bgsqCB5cUPDYpahgD03VWw+lRQRBUNGDxQrm7KU5idiDe6hHCxa0oRji\n",
       "e293041LEsjAzn4775tv5nvzZoFEy2Cg9v+0n4PJFAIRGzs2I5+GhUcvE2G1/Kb3/Jj9g7sJD0Mu\n",
       "g4f0XEvShu0++4jYwz5NXiLwjL9O0tNMskr1PjIR+xAtd4vBBe5WyWYjydr0+yQlZr+Avsfv4x6l\n",
       "hpxpHdmY7LOZNvsGRtkTKjVAt8jl7HbCyPWd8z1l2uxxVATcNmnQAao31a+Dk/rjV81eMsJWRLmE\n",
       "T+xf7VOXJ8HvPl7hgRuyjAZGgvnxc11lhK1R1XzDvqT6N3UjZOwUsJvdiSzrLkqWjTNdZZgtYA4b\n",
       "/FpwI5m3KDRhRDJ5C5v1vxj1uskIm9tnOupCHafNyFQTeqMtQ2VT8a/0kGF2YZvAFubqlw9razyY\n",
       "I5N7WHBERrGMp56Hx56uH44Le7FEwasorgXaWaFpU8AMnkJkqmRzyMlReWbX6cjk3BAOt4Gwj2wR\n",
       "OAHcfTJZA+87S7PvjzmhTH6d+NN8Pcq0xgav846N2zGgeMheIfBR3NSKUh7vow1Lbr7GPxM7Y8JI\n",
       "u4rjquEhI8nMTX2RkYtJGSv6KN+740NLpzeOG64N3ZH6aMm9Qi4s2czEbgAVRLTXrRawmE5xHFez\n",
       "JsqCsh/Cm6GWDmjFjklBSqYj/rgzdnSwnyhl9h+BEpGk6fdeUwAAAABJRU5ErkJggg==\n",
       "\" style=\"display:inline;vertical-align:middle;\" /></a><br>"
      ],
      "text/plain": [
       "<IPython.core.display.HTML object>"
      ]
     },
     "metadata": {},
     "output_type": "display_data"
    }
   ],
   "source": [
    "Q__b_1_to_i = Function(Q, b_1_to_i)"
   ]
  },
  {
   "cell_type": "code",
   "execution_count": 131,
   "metadata": {},
   "outputs": [
    {
     "data": {
      "text/html": [
       "<strong id=\"Q__c_1_to_i\">Q__c_1_to_i:</strong> <a class=\"ProveItLink\" href=\"../__pv_it/common/7a21ce6b91940f9c540872f6afba85402663d0aa0/common_expr.ipynb\"><img src=\"data:image/png;base64,iVBORw0KGgoAAAANSUhEUgAAAI0AAAAVBAMAAACJRXC4AAAAMFBMVEX///8AAAAAAAAAAAAAAAAA\n",
       "AAAAAAAAAAAAAAAAAAAAAAAAAAAAAAAAAAAAAAAAAAAv3aB7AAAAD3RSTlMAIomZq2bNMhC7791E\n",
       "VHYkqjbgAAAACXBIWXMAAA7EAAAOxAGVKw4bAAAB/klEQVQ4y51Uv0vkUBD+kriX7A/XNIIiqPiz\n",
       "EM5tLNRiLTywUkEOr5KUgoULCpYG4Syu0MU/QFasbFS0UO6Q279AUolgE0HB5kSEUzkO15n38kxc\n",
       "WYsM7OzM5JuPmXnvDRARDfHErvL/xOQ5lVV0dnwRRn17TJ7sJOueAuocNlYRV2Y5u0hqm72B2DxT\n",
       "9JtjY4JVKTZPyoXxyEZ/gcbjxOb5NIk2bgv5MmDwmPXb6cj3z9eFD/MVWh9B3mNj3hak0E4wGMJa\n",
       "PKP4EY1AW5SacPDbpYD1j1SaGNPt2MV31eABUv5K11hNHoHWfRpJCcyAxF8eFvWWJ1bzdl/CjCdS\n",
       "OQzX5GG0EPMOv/j/hxPw7Ij7GPCkuKn/aKs5ox1lZEp04hkPQ7bsy3qO8qxTxfhWm0egM1cyY9mb\n",
       "btS3OJykNOovI3gsCjTQ4KnGPulVcbBi9FoDNZcoIrvl66NucHh8WL2CZ506pcPSCzCPpWc9oMoQ\n",
       "6KYLyCuzuNFXBpduUrrePeMKnjRlo+PrDdDsBt4h955TBkcEepO9smionBUb5CioWcznXN2RnGaH\n",
       "XigqYj1RDS3CTI6cvb62Vx61Q5qXFtzQC0VF6p2ceuFG5VHyyb2m9dz7sPwAt1epIPTCOauINW5D\n",
       "k7fe/OnJUOQRZN8uqverK+okqxZra8znfgm8AHaLdgLX0caYAAAAAElFTkSuQmCC\n",
       "\" style=\"display:inline;vertical-align:middle;\" /></a><br>"
      ],
      "text/plain": [
       "<IPython.core.display.HTML object>"
      ]
     },
     "metadata": {},
     "output_type": "display_data"
    }
   ],
   "source": [
    "Q__c_1_to_i = Function(Q, c_1_to_i)"
   ]
  },
  {
   "cell_type": "code",
   "execution_count": 132,
   "metadata": {},
   "outputs": [
    {
     "data": {
      "text/html": [
       "<strong id=\"R__x_1_to_n\">R__x_1_to_n:</strong> <a class=\"ProveItLink\" href=\"../__pv_it/common/a03cebe8a7e683bb134d1195c2d0492e93e057940/common_expr.ipynb\"><img src=\"data:image/png;base64,iVBORw0KGgoAAAANSUhEUgAAAJoAAAAVBAMAAABMN+opAAAAMFBMVEX///8AAAAAAAAAAAAAAAAA\n",
       "AAAAAAAAAAAAAAAAAAAAAAAAAAAAAAAAAAAAAAAAAAAv3aB7AAAAD3RSTlMAdrurVCIyzd1EiZkQ\n",
       "72ZdbUU/AAAACXBIWXMAAA7EAAAOxAGVKw4bAAAB+ElEQVQ4y6VUyytEYRT/DXPHzNyL67GQhcZr\n",
       "YTfZmmSpkGGpNFfJgoXxB3iUErFQbIVYyIJrRRYaK4UyFnZikkeivEJKxvnmfnMfc43NPXXOPb9z\n",
       "zv3d853vux9gEgFOJPPtUkdsPpnZ4mR1VQ1z3EuO2FCRsq9AJEjPA2dkyIuR8bwAOe/k7DlkK1DJ\n",
       "uD6IlrHFHbLhnDX4DAwGaGxRp2wjpIUBCOP0FGkTpKJQ/6qRzoB/iKVihXSxsrxBYT0miBEl8o5R\n",
       "mwH/EEvFHelmWKpnu+FtAm7wFGuEdMfTGjxcCWVl0yq4tJEO02LZScufBRRsk9dTxtMaVJG9P62C\n",
       "yyDpG3AS5GzAKTPNegGDX4go2dd6argL9EP8AO0qXyl87zg2saXg439sqYqH2yJVa0L8ptHJHjrB\n",
       "MqS63DiWNDYaZRpijXz7diJdId1f4IzQFdBNbE/yPOAPwv1xFPc1pdikT+jQM0PDiGoxq6NVCPtR\n",
       "EAt24V9fT0AcotPhGYO0Jbdc87lNxnTYSX16iRHTbCBq2qEIr8iVfexHmjK3PqF7jM0d0y8uVQgD\n",
       "rbalGpF8RVQVCGPm7IOFza+jzr4BYrZfV0YkAm+vAjFhzuaEudM1ugzs6/HLZJLWJNt2wYjMwbVB\n",
       "X7WmA2aU8bbL1potUmuFHY5uEFcYv51di9Tm+giFAAAAAElFTkSuQmCC\n",
       "\" style=\"display:inline;vertical-align:middle;\" /></a><br>"
      ],
      "text/plain": [
       "<IPython.core.display.HTML object>"
      ]
     },
     "metadata": {},
     "output_type": "display_data"
    }
   ],
   "source": [
    "R__x_1_to_n = Function(R, x_1_to_n)"
   ]
  },
  {
   "cell_type": "code",
   "execution_count": 133,
   "metadata": {},
   "outputs": [
    {
     "data": {
      "text/html": [
       "<strong id=\"R__y_1_to_n\">R__y_1_to_n:</strong> <a class=\"ProveItLink\" href=\"../__pv_it/common/058de70c8a930c1efc3b555746fa64d032ab18070/common_expr.ipynb\"><img src=\"data:image/png;base64,iVBORw0KGgoAAAANSUhEUgAAAJUAAAAVBAMAAAC9PLGkAAAAMFBMVEX///8AAAAAAAAAAAAAAAAA\n",
       "AAAAAAAAAAAAAAAAAAAAAAAAAAAAAAAAAAAAAAAAAAAv3aB7AAAAD3RSTlMAdrurVCIyzd1EiZkQ\n",
       "72ZdbUU/AAAACXBIWXMAAA7EAAAOxAGVKw4bAAACKUlEQVQ4y6VUTWgTQRT+kmY3PzubLKJYGoTV\n",
       "iCcP23qrl5ykB7XpQRB/sAURb413i4pQCnqI4LUkPRVyseBBRYlbeuipbQrieT158NCoNF6K8b3Z\n",
       "ySbNkhzcgZ15O++bb9/73tsB+oaG/x+lgfeTEbheyflEp3DuPBuJWgSumCeXX8A9h9ZtRBmPedJ/\n",
       "AvFDMhqRuH7I6NpAkrmakbhMl6ZkC1i0Sa5yJK4kC5azoT2n1SDpNxsQTuAWeQ9bo873AzJ8rnp2\n",
       "4vK8Iq5dQ7YVQDOJJg5GcfUDspzWm5KY4lxTRejF9xizxXflvm88xZSoX3KHcUmAshMs9xKlyZ1l\n",
       "ViCwD9NaGFdu17Swb4AODBkSoGyd8/kN7Dk+F9JHWJzHTBdbdfV2rqK1hybJAGWmKa70X2B2w88R\n",
       "Rhln0ON6h1gz647gkoDGQp5zpOiNI5LM0qlfLXocFHwuwdACbyBDqLBkAWB31TPpz85SW90lrgPr\n",
       "tV9Uw+EwmWuPy/IWVSruQxfij9oKjB7gzmnkXNlSmXrdg/GIjuj0eTGdP/S5Ui9p2lr7XIJ2kawV\n",
       "QqdYiRdQRg8wiVV+r/RHvSxbpqz0uir31oHbuEFqhJMMAF/xkSS6Ofh3rmOnqLhqzCu+QLvw4BOZ\n",
       "Yd0DQAvLVwZvhngJzzAN3HqyRtlSJVLWWA1mp0OdsxnWvgtIO5jwoNnHvTau57tZx7jM3z50fVb4\n",
       "8jsOiA9c0nMRrolTwD8ZbpHXuotN0gAAAABJRU5ErkJggg==\n",
       "\" style=\"display:inline;vertical-align:middle;\" /></a><br>"
      ],
      "text/plain": [
       "<IPython.core.display.HTML object>"
      ]
     },
     "metadata": {},
     "output_type": "display_data"
    }
   ],
   "source": [
    "R__y_1_to_n = Function(R, y_1_to_n)"
   ]
  },
  {
   "cell_type": "code",
   "execution_count": 134,
   "metadata": {},
   "outputs": [
    {
     "data": {
      "text/html": [
       "<strong id=\"R__y_1_to_m\">R__y_1_to_m:</strong> <a class=\"ProveItLink\" href=\"../__pv_it/common/5ef45976e41097d983628f6d48ad528b77d88a100/common_expr.ipynb\"><img src=\"data:image/png;base64,iVBORw0KGgoAAAANSUhEUgAAAJoAAAAVBAMAAABMN+opAAAAMFBMVEX///8AAAAAAAAAAAAAAAAA\n",
       "AAAAAAAAAAAAAAAAAAAAAAAAAAAAAAAAAAAAAAAAAAAv3aB7AAAAD3RSTlMAdrurVCIyzd1EiZkQ\n",
       "72ZdbUU/AAAACXBIWXMAAA7EAAAOxAGVKw4bAAACOklEQVQ4y6VUPWzTUBD+nMYmiZ8TqyAVEUCB\n",
       "FCYGU7ayZOzQQgCx8KOmEkIsKGFgBIqQEAiGDKxVUjEgZWklBn6EgqsOTNBUQkwMJksHhgZQw1IR\n",
       "7p7txrGULD7pnd/n++7Tu3tnAwFTEcXC2QciqSVN9uO9/PFJ3sTrkdRwVPrfwLxFz0/RxLDPJqf9\n",
       "AmI7tGlGVEuvklO6JMtqrYhq+M4H7ADlHLWtElXtPq1MDuojeup0CWtNCGsvKrIO1kelhwgvadWO\n",
       "HTpb4jM6QH0O6c5eNBVvYXuUWoiwRWulKKb4NhIFaIW3GMuJLS96Q1/ElGicsYepSUIfztG6R8Xy\n",
       "pBlVCGzCMBcOelHbMLGpg1KGmCT0YZnWH2DDctWQ3EW5hBk/XLO1bqaqdoeWyoQ+WiKBf8D5VbdS\n",
       "6BUcQV/tDZRW2h6hJgnNhf1KmztPefoutc7UaILpO4tZyLtqgsl5foHUootCVfqEL0uOYSlcXRu4\n",
       "Tmrb5gtKohe6xUdltQ2evteo0UXfsl3ETvwNbiTh2gQyJR4vvEeq0XCg36EkjZotprM7rlriObn1\n",
       "5Y9FqKc8lOB+PPM3T2yfcBq3ZZvwNHj2x3KEKl7fZuW7V8BVXPZR0OK2T/iGccxTq9SBu//Jsc8F\n",
       "T63OyuIr1JM3P0gUnlz4hA6drq1Tm5xgPFbEQ0wDVx4sU810JwlzrA6j1+tIFLI1eISkhbu4dBi4\n",
       "OPjV5XAuW/WAwsX8eBdAITMHCGwnBgkXIv1BlCL+A8ebkkyqzTOrAAAAAElFTkSuQmCC\n",
       "\" style=\"display:inline;vertical-align:middle;\" /></a><br>"
      ],
      "text/plain": [
       "<IPython.core.display.HTML object>"
      ]
     },
     "metadata": {},
     "output_type": "display_data"
    }
   ],
   "source": [
    "R__y_1_to_m = Function(R, y_1_to_m)"
   ]
  },
  {
   "cell_type": "code",
   "execution_count": 135,
   "metadata": {},
   "outputs": [
    {
     "data": {
      "text/html": [
       "<strong id=\"R__x_1_to_m_y_1_to_n\">R__x_1_to_m_y_1_to_n:</strong> <a class=\"ProveItLink\" href=\"../__pv_it/common/081fd26d60b6b74d35dbbd36f9f0637bb7b0c2630/common_expr.ipynb\"><img src=\"data:image/png;base64,iVBORw0KGgoAAAANSUhEUgAAARwAAAAVBAMAAABmokyvAAAAMFBMVEX///8AAAAAAAAAAAAAAAAA\n",
       "AAAAAAAAAAAAAAAAAAAAAAAAAAAAAAAAAAAAAAAAAAAv3aB7AAAAD3RSTlMAdrurVCIyzd1EiZkQ\n",
       "72ZdbUU/AAAACXBIWXMAAA7EAAAOxAGVKw4bAAADBElEQVRIx8VWTWsTURQ9aWbSJpmkEysoLZRo\n",
       "tSC4SOrSD7oSQaWj4MYPmoKIiND4A9SAUhRdFHRb0qJQyMaIi2rVOrWgi0qborgSGUUt0kWj0ghS\n",
       "rPe9eZmZZJJxOQ/em3vfPffk5L47H4BjyPB11P/8Zn/lhFW2btro2b6DGdK4v3LQzdefwGCKrq99\n",
       "VoNWnZbQD6BljYwZv+XEi7QEKqSLySn5LQcfWInKwHCSWifru5wrNNuTkK/RNUqdrCT2XbjviM92\n",
       "vCr0exHUJ9BOl4G5Jl4jAifgHs38ts69GVYlgyShQ33sABcD6WjOi60+AYhIJaw28RqMGsAyzQea\n",
       "0sdauo3K8BWr+gEoy9Xe0uLrQUMp7NGbsZkJznGW9PdhIevwvAhMuBhHaV6m82JPnNgokMEUWUNb\n",
       "RTiEaJZVoHmFzATn0GMqlkKJnMPzIuCAqjNM8xewmBJyYIYOWWgCo31UrjSv9lL9Rl4PVSDlHJ4n\n",
       "AYeLMUaP5r/AQFEcFsJreOOUk9cUPa57sPGElW+JVHev2JlCoGTLYZ4nAQfMDHWJMkTXqX3UED0K\n",
       "VSi7giWMm3LYab8c3Y8I67cclAZ1hkhQvn/EW3TABPWgJcXl2B4jgLt9LMDCmBHTyP4MnCE5q+pd\n",
       "SiGSynwp3M/lKL8pPHDxOSiC8zoWs2LPMthiJsizWVQwbcbwCHmDy7E9RuBOtgGnt6CdqZ1GpFAw\n",
       "EL1EKSEqwUP18BfROzcoPp+QZkidvJuO8jbt3WJnWhQGQ4iEoBoq4boAzU280Lgc22MEnNBO5lQW\n",
       "IM3aBrjprN2IZTE5kl3cUzgBHHHV2kbEMoGkXM5UQZMwe8fyOIHkPi0L8B5PqV3kmvtvpUZOxP4s\n",
       "6j33DHB/fdiIQapPPFnkoEhWeSfkVD2TIOLuPgtQxshBamPDGWzRhHHy6gS9H+ybfWOjDEV1kdmI\n",
       "O2jV5LTOQW1qcBzy5B/V9jiBA261chUQTqGTpByvjSadXt3PB9z/zS2QgaRPTxp6/4UDO2vDx/x9\n",
       "nwc0/AOaWffx4SJ3wAAAAABJRU5ErkJggg==\n",
       "\" style=\"display:inline;vertical-align:middle;\" /></a><br>"
      ],
      "text/plain": [
       "<IPython.core.display.HTML object>"
      ]
     },
     "metadata": {},
     "output_type": "display_data"
    }
   ],
   "source": [
    "R__x_1_to_m_y_1_to_n = Function(R, [x_1_to_m, y_1_to_n])"
   ]
  },
  {
   "cell_type": "code",
   "execution_count": 136,
   "metadata": {},
   "outputs": [
    {
     "data": {
      "text/html": [
       "<strong id=\"R__z_1_to_n\">R__z_1_to_n:</strong> <a class=\"ProveItLink\" href=\"../__pv_it/common/9351ca465a12322fcb183925e451200bb1261e9c0/common_expr.ipynb\"><img src=\"data:image/png;base64,iVBORw0KGgoAAAANSUhEUgAAAJQAAAAVBAMAAABS/tqaAAAAMFBMVEX///8AAAAAAAAAAAAAAAAA\n",
       "AAAAAAAAAAAAAAAAAAAAAAAAAAAAAAAAAAAAAAAAAAAv3aB7AAAAD3RSTlMAdrurVCIyzd1EiZkQ\n",
       "72ZdbUU/AAAACXBIWXMAAA7EAAAOxAGVKw4bAAAB60lEQVQ4y6VUvS8EURD/HbeH28UShSjkfPWi\n",
       "pVAqiKOUyC0RkSicP8BHIrkQCgmtz2tEhC1FIauSXEMjGkEUREh8BZGIM3N7b/ft+SjuJpl583tv\n",
       "9vdmJvMWkERB1pL5aUX2VEU62/JkXW09O/7V7KlQnbLPQKSR1sMcmFBgkQk8AXmv5OznQlVikvG9\n",
       "ESdTHedChTNO7REYCVGrojlRjZOWhqBM0apy14diyqV77EW/iBQQJ12pqWo2ODva1EbX426gF/0i\n",
       "csAN6U5Ya+L2F7bSpFnYgnYj5o5RIt7y92ByQFo6SMeoRq6teJ53Ehb6Kp1YQiZ2/8krYQlvhPQF\n",
       "OGoUVApPbZtzK6EPRIy/09Idd4lG/gvoNNMFYhmaRMXo/j8qDri7LjPt+9VPapceoDGlG/ytyLep\n",
       "OHEbYcNGGR1HOkC7PccJ+VdAL1E96ItAkKrsX6+Kpai0dwgUmLNRyhxFJScVoBxEQRTYQ3Bz8xLq\n",
       "KA1CYBJY9Z/O21lNWwJ1WzbCLHfBFM4c0gH5ehG/kxk555hwmMovalJMJewiV9qFU2yopgFlUj68\n",
       "k6mCAnQPDlsucsX5I0VQOGBA9TyLvLC99kysAQdi9yKZlJDbdmcMFuDbphu9pyEJ6J4j/QeVLwM3\n",
       "eGFX9v8FXxjfS9OBbMsgjJ0AAAAASUVORK5CYII=\n",
       "\" style=\"display:inline;vertical-align:middle;\" /></a><br>"
      ],
      "text/plain": [
       "<IPython.core.display.HTML object>"
      ]
     },
     "metadata": {},
     "output_type": "display_data"
    }
   ],
   "source": [
    "R__z_1_to_n = Function(R, z_1_to_n)"
   ]
  },
  {
   "cell_type": "code",
   "execution_count": 137,
   "metadata": {},
   "outputs": [
    {
     "data": {
      "text/html": [
       "<strong id=\"fi\">fi:</strong> <a class=\"ProveItLink\" href=\"../__pv_it/common/47417ab7f1e7f118867e6cd89ca650b18d19923f0/common_expr.ipynb\"><img src=\"data:image/png;base64,iVBORw0KGgoAAAANSUhEUgAAACQAAAAVBAMAAADcCFGjAAAAMFBMVEX///8AAAAAAAAAAAAAAAAA\n",
       "AAAAAAAAAAAAAAAAAAAAAAAAAAAAAAAAAAAAAAAAAAAv3aB7AAAAD3RSTlMAmYkQqzLvVES73WZ2\n",
       "Is1wFLxSAAAACXBIWXMAAA7EAAAOxAGVKw4bAAAA9ElEQVQY02NggANeOAEHx0EExwEwm1HJAEiy\n",
       "KzAw8AgwnAYLqYQVAEk7IOZSYOADSTOkd4IoaYh2bgGQ9s9gdgLUyGQgZloAYrE/gAq9Bqp0WwJS\n",
       "ywg03QakWQWI+cH28m1gYFBoAzL2AfH9AJAQVwEDa4EckFEGxPVgI9gaGJgZcoCMeCDWggkxsIPs\n",
       "BmmewgDVyMDnAHRgFZCTAxbiBFpi3wC0difQ7z/AQkwOQGN4gdYKAQ34ABZiBTqYZTeQsQLoRgeI\n",
       "q5dCQ20BQwlfAYS9EUIxbmBYaQf1G+cFMHWTgWGPLFSIeQKYmosc0HdABM8FBgA8Qin27XpzDAAA\n",
       "AABJRU5ErkJggg==\n",
       "\" style=\"display:inline;vertical-align:middle;\" /></a><br>"
      ],
      "text/plain": [
       "<IPython.core.display.HTML object>"
      ]
     },
     "metadata": {},
     "output_type": "display_data"
    }
   ],
   "source": [
    "fi = Function(f, i)"
   ]
  },
  {
   "cell_type": "code",
   "execution_count": 138,
   "metadata": {},
   "outputs": [
    {
     "data": {
      "text/html": [
       "<strong id=\"fj\">fj:</strong> <a class=\"ProveItLink\" href=\"../__pv_it/common/c0fa75ff73ad8460566542ebda2b9c56866f27420/common_expr.ipynb\"><img src=\"data:image/png;base64,iVBORw0KGgoAAAANSUhEUgAAACYAAAAVBAMAAADY/YGeAAAAMFBMVEX///8AAAAAAAAAAAAAAAAA\n",
       "AAAAAAAAAAAAAAAAAAAAAAAAAAAAAAAAAAAAAAAAAAAv3aB7AAAAD3RSTlMAmYkQqzLvVES73WZ2\n",
       "Is1wFLxSAAAACXBIWXMAAA7EAAAOxAGVKw4bAAABAUlEQVQY02NggANeJBIGjoNJjgNgilHJAEiy\n",
       "KwAJ1skMp8FiKmEFQNIOxOR5wMAHUsCQ3gmipKFGcAuATPgMZifAzE0GYqYFIBb7A5jYa6BatyUg\n",
       "1YwgK2yOgIwHYn6w7XwbgIQAG5DcB2TcDwCJcQHt5rnADyTLgLx6sClsDQwMzAz1QBfEA3lacDEG\n",
       "BikgbgPiKQwwvQwMi4C4CohzwGKcIJt4fwCJnVAa6EoHkB8+AAkhoGM/gMVYQS5nmQAkVgAd6wBx\n",
       "/lKQRUADeBcwlPAVQMQ2MrAU7Ac6hXEDw0o7qDc5L8QXLAfSNxkY9shCxZgnMB4EuXEuctjfAZM8\n",
       "FxgAn/sxBzYsKKMAAAAASUVORK5CYII=\n",
       "\" style=\"display:inline;vertical-align:middle;\" /></a><br>"
      ],
      "text/plain": [
       "<IPython.core.display.HTML object>"
      ]
     },
     "metadata": {},
     "output_type": "display_data"
    }
   ],
   "source": [
    "fj = Function(f, j)"
   ]
  },
  {
   "cell_type": "code",
   "execution_count": 139,
   "metadata": {},
   "outputs": [
    {
     "data": {
      "text/html": [
       "<strong id=\"fk\">fk:</strong> <a class=\"ProveItLink\" href=\"../__pv_it/common/3580ed132920d60bd6bc70c75976c142582909f50/common_expr.ipynb\"><img src=\"data:image/png;base64,iVBORw0KGgoAAAANSUhEUgAAACgAAAAVBAMAAADGNLEtAAAAMFBMVEX///8AAAAAAAAAAAAAAAAA\n",
       "AAAAAAAAAAAAAAAAAAAAAAAAAAAAAAAAAAAAAAAAAAAv3aB7AAAAD3RSTlMAmYkQqzLvVES73WZ2\n",
       "Is1wFLxSAAAACXBIWXMAAA7EAAAOxAGVKw4bAAABDUlEQVQY02NggANeFAoKjkMojgNgilHJAEiy\n",
       "KzAwT1sAZJwGC6qEFQBJOyDmEwARICUM6Z0gShqI+UGy3CAZjs9g9QlA3A9WlAzETCCDGNgfAAk1\n",
       "sPRroGq3JSD1jApA4glDkTDQDpBBYDfwbWBgYP7NXpvNwLAPyL0fABLkAtrB/red9S0DQxmQWw82\n",
       "iK0BaEQ2WD4eiLXgglwPRUHMNiCewgDTbl/QD1JaBcQ5YEFOoHX7DewLgNROYKj8AAsyOTAw+DHY\n",
       "BwBdJgS08gNYkBXohekMPDJAP60AWukACbKl8HBdwFDCVwBhb4QJMm5gWGkHZXNegDJuMjDskYWy\n",
       "mSdAGXORo+MOhOK5wAAA5zAzoQuCvQsAAAAASUVORK5CYII=\n",
       "\" style=\"display:inline;vertical-align:middle;\" /></a><br>"
      ],
      "text/plain": [
       "<IPython.core.display.HTML object>"
      ]
     },
     "metadata": {},
     "output_type": "display_data"
    }
   ],
   "source": [
    "fk = Function(f, k)"
   ]
  },
  {
   "cell_type": "code",
   "execution_count": 140,
   "metadata": {},
   "outputs": [
    {
     "data": {
      "text/html": [
       "<strong id=\"f_jp1\">f_jp1:</strong> <a class=\"ProveItLink\" href=\"../__pv_it/common/c03c5e69232b3f082f258b88c5a41cca00547a840/common_expr.ipynb\"><img src=\"data:image/png;base64,iVBORw0KGgoAAAANSUhEUgAAAEoAAAAVBAMAAAATJmVgAAAAMFBMVEX///8AAAAAAAAAAAAAAAAA\n",
       "AAAAAAAAAAAAAAAAAAAAAAAAAAAAAAAAAAAAAAAAAAAv3aB7AAAAD3RSTlMAmYkQqzLvVES73WZ2\n",
       "Is1wFLxSAAAACXBIWXMAAA7EAAAOxAGVKw4bAAABNUlEQVQoz2NggANeBuwAVfw4DlUcB8AUo5IB\n",
       "kGRXABKsk9GURAGlToNZKmEFQNIOxOR5gKKG2fE9UBUfyBCG9E4QJY0s3Q1jnAdKcQuA7P0M5icg\n",
       "q6pBVsWQDMRMC0Bc9ge4Vb0Gmue2BGQiI8jxNkewqlIBYn6wT/k2AAkBtg3YVO0D4vsBIC4X0J88\n",
       "F/gLsKkqA+J6MJetAehxhnqQoNSqVWmrVi1BqIoHYi24KqACrO5qA+IpDDAbGRgWYVVVBcQ5YC4n\n",
       "yA+8P7Cq2gmXYXIAEtwf0FXpXwASQsDghMiwgsKWZQKaKpf8J8CwWQEMTgeIwFKQFw6gmwVOYAsY\n",
       "SvigQbSRgaVgvwF6bINT1gaGlXZQNueF+ILlWJPhTQaGPbKwtDSB8WADVlVzkTl3cKRongsMABSf\n",
       "SmamPXhtAAAAAElFTkSuQmCC\n",
       "\" style=\"display:inline;vertical-align:middle;\" /></a><br>"
      ],
      "text/plain": [
       "<IPython.core.display.HTML object>"
      ]
     },
     "metadata": {},
     "output_type": "display_data"
    }
   ],
   "source": [
    "f_jp1 = Function(f, Add(j, one))"
   ]
  },
  {
   "cell_type": "code",
   "execution_count": 141,
   "metadata": {},
   "outputs": [
    {
     "data": {
      "text/html": [
       "<strong id=\"f_1_to_n\">f_1_to_n:</strong> <a class=\"ProveItLink\" href=\"../__pv_it/common/43b754cf68eaa443709a6d8b0599284558b3f64a0/common_expr.ipynb\"><img src=\"data:image/png;base64,iVBORw0KGgoAAAANSUhEUgAAAHEAAAASBAMAAACeMCwXAAAAMFBMVEX///8AAAAAAAAAAAAAAAAA\n",
       "AAAAAAAAAAAAAAAAAAAAAAAAAAAAAAAAAAAAAAAAAAAv3aB7AAAAD3RSTlMAmYkQqzLvVES73WZ2\n",
       "Is1wFLxSAAAACXBIWXMAAA7EAAAOxAGVKw4bAAABZklEQVQ4y2NgYGBgVDJgQAJCygx4AZJylbAC\n",
       "JAkm13T8OpGUp3ci28lWMRm/ToRyjs8oEv0G+DUiKWdagCKjhV8jknJutyUCSBJbshzxakRWzn8A\n",
       "ReoPATuRlN8PYGDeB+fxfmVgVnLB41egchioZ2CIOQXnsX9gYGRgXIBbZz1qkFQhBwB/A9BinAAp\n",
       "BKeg6OR0YOA2wKcTqHzj1jPgUMqB6oT4je0AxGJmTD0QBTkMzDuyGXJBQfIDopP5HyQAGoBElAGD\n",
       "/QOoEIiB4IGU89o8YPgMCRKInasMYAHAC0x/XIuBjIVAzCUAI8AKQMpZDnAkgJK+A1QnO1inCBBf\n",
       "ZLjLwFCM4VqwApBytgBGgQCGEr4CqE4mkKTDc6CVU0OFGRgUMNMdEIOV32fgCg9gWGkH5F96r8PA\n",
       "YANy1WSgh9j+///AwHwAQydIAVh5CwOPNgPDHlmYBEgp98ELUB4PZtiCFCCUAwBLpVTVLQQvwgAA\n",
       "AABJRU5ErkJggg==\n",
       "\" style=\"display:inline;vertical-align:middle;\" /></a><br>"
      ],
      "text/plain": [
       "<IPython.core.display.HTML object>"
      ]
     },
     "metadata": {},
     "output_type": "display_data"
    }
   ],
   "source": [
    "f_1_to_n = var_range(f, one, n)"
   ]
  },
  {
   "cell_type": "code",
   "execution_count": 142,
   "metadata": {},
   "outputs": [
    {
     "data": {
      "text/html": [
       "<strong id=\"f_m_to_n\">f_m_to_n:</strong> <a class=\"ProveItLink\" href=\"../__pv_it/common/10969d9b175661bdedecdce04bc3bc423a617f170/common_expr.ipynb\"><img src=\"data:image/png;base64,iVBORw0KGgoAAAANSUhEUgAAAJMAAAATBAMAAABmeyL+AAAAMFBMVEX///8AAAAAAAAAAAAAAAAA\n",
       "AAAAAAAAAAAAAAAAAAAAAAAAAAAAAAAAAAAAAAAAAAAv3aB7AAAAD3RSTlMAmYkQqzLvVES73WZ2\n",
       "Is1wFLxSAAAACXBIWXMAAA7EAAAOxAGVKw4bAAABtElEQVQ4y2NgYGBgVDJgQAVCygwkACT9KmEF\n",
       "qHJMrumkGIWkP70TzVVsFZNJMQqhn+Mzuly/ASkmIelnWoAuqUWKSUj6ud2WCKDKbclyJMEkZP38\n",
       "B9Bl/5DkKiT99wPQ5Hi/oqu2foDHKCT99ehy7B+QEw0Qs55ZgMeoejyBjBIPnGDD8RmFpH8KA8PG\n",
       "rWccTk+F63Zg4JaOOcKzM4AooyD6wUGfw8C8I5shheEIAwMzJIUeYLBu28DmwOOAbBQzpiGQ5AfR\n",
       "nwsK5B8MvDYPGL4yCDEw2IOD934Dw+VzDPwBjArIRoHkmP8xQBXBeTD9n6GBzHKANYFhOQMD12JY\n",
       "OPowhDFwFTBIzpw2c+YGsFFguYVAzCUAI1YZwPVzJICiCOgNtgCeCbwfgEFTDDJKBIhTGU4y3GdF\n",
       "CatiDA+yG8D1MwoEMJTwAbP1faC53BOAFgG9xO7wHOjqD0B37WREMUoBM8sAMVQ/V3gAw0o7IL+F\n",
       "ge8Cr48BAzMw4XJNBgYDhwPDW4Yrh6FG8ep9OgCWQwM2QAzVz6PNwLBHFkmOB5SnDl5gQE9XMDk0\n",
       "ADIcRT+BIpJolQDVl22tPyinbwAAAABJRU5ErkJggg==\n",
       "\" style=\"display:inline;vertical-align:middle;\" /></a><br>"
      ],
      "text/plain": [
       "<IPython.core.display.HTML object>"
      ]
     },
     "metadata": {},
     "output_type": "display_data"
    }
   ],
   "source": [
    "f_m_to_n = var_range(f, m, n)"
   ]
  },
  {
   "cell_type": "code",
   "execution_count": 143,
   "metadata": {},
   "outputs": [
    {
     "data": {
      "text/html": [
       "<strong id=\"f_1_to_i\">f_1_to_i:</strong> <a class=\"ProveItLink\" href=\"../__pv_it/common/c3653671ab8ede28c91a5527e4b389556b3d2a950/common_expr.ipynb\"><img src=\"data:image/png;base64,iVBORw0KGgoAAAANSUhEUgAAALcAAAAVBAMAAAD2lGJJAAAAMFBMVEX///8AAAAAAAAAAAAAAAAA\n",
       "AAAAAAAAAAAAAAAAAAAAAAAAAAAAAAAAAAAAAAAAAAAv3aB7AAAAD3RSTlMAmYkQqzLvVES73WZ2\n",
       "Is1wFLxSAAAACXBIWXMAAA7EAAAOxAGVKw4bAAACg0lEQVQ4y42VPWgUQRTH/7t3t/e5pwl2YhC1\n",
       "SuMVNoLEszBNmmChYOOBRUQsRETEwlwlCAEPol0CG434UV0gjSByh4WFCGfpF1lQsEhzcARSJDnn\n",
       "zZuZnd2E9QZ2d3b///3tm3lvZgHTerFLvPFDHyM1fz+ncpuvCwfYlVbojAT/ZHOcEzVxviOO3AsB\n",
       "atvG8ZNg7evEM+Dzf7DSnT8uTl3NOXVZBJYJgTMTA3H723K7F+cgNb+F001Ua6lsdk9R97nmzD0W\n",
       "7zj0oQrB1yy7d38RUsv24DVQPpwKZ/dRdSc5hYEUoOGeFd6TmtK8AbK7wPVUOLsb+lN05wbUfWjg\n",
       "VWvSJ6G0bIDsFrCZCpfufKjuiFOeXqXBjhu4Wzfu9ZsXoDWU+iI9aWx2OyKfmW5bcQ7JAts08HIY\n",
       "+XdgNFwTvg+pke/ogN1CQ3E2ZunZKwPPN6LlsAWjYVUc91IXj3SXROldcULFmZfKDQPP9Y093480\n",
       "p0XRp8HZ7TWBmtdRnMkEvBBFzrlmbZ1Oj1LLPNBwzNcU5ykS0xIYe7FuNLHufgEP0uDspmnBn4zi\n",
       "3JLKUpRQGj/Xutcx2iXgI/AORrOb7S6Kc2bbZY6/zXuAHNiurqU9+XCjqTV/ZWws4KKU2vkw2dFu\n",
       "qsBc/wdzVNKuiiM7vTcjxkWetzIYzjVppeFwKDCvobQSrY0VqI7tztFszLSZ4/C8lmb1GL/LzEv7\n",
       "EcQ1P4i0WJ3Y7pcR526V9+poT5Ibj0uv1P8irsndTWqJOrHdaxHnzZTqL+voKJ84RwEvhgntG7QW\n",
       "bzF3sWc4748pw1nYGiW+3O0lNP7I/v9RzJ1p2d9QEat3vhy0sFmr9Eb6zf3UnH9iqKmQgl7DIwAA\n",
       "AABJRU5ErkJggg==\n",
       "\" style=\"display:inline;vertical-align:middle;\" /></a><br>"
      ],
      "text/plain": [
       "<IPython.core.display.HTML object>"
      ]
     },
     "metadata": {},
     "output_type": "display_data"
    }
   ],
   "source": [
    "f_1_to_i = ExprRange(a, fa, one, i)"
   ]
  },
  {
   "cell_type": "code",
   "execution_count": 144,
   "metadata": {},
   "outputs": [
    {
     "data": {
      "text/html": [
       "<strong id=\"f_1_to_j\">f_1_to_j:</strong> <a class=\"ProveItLink\" href=\"../__pv_it/common/0bea69a35a0b6e3569abade70bf7bbdeb47f30ca0/common_expr.ipynb\"><img src=\"data:image/png;base64,iVBORw0KGgoAAAANSUhEUgAAALoAAAAVBAMAAAADaun5AAAAMFBMVEX///8AAAAAAAAAAAAAAAAA\n",
       "AAAAAAAAAAAAAAAAAAAAAAAAAAAAAAAAAAAAAAAAAAAv3aB7AAAAD3RSTlMAmYkQqzLvVES73WZ2\n",
       "Is1wFLxSAAAACXBIWXMAAA7EAAAOxAGVKw4bAAACiElEQVQ4y42VPWgUQRTH/3tfe+59aMRCiIag\n",
       "Vmm8wkaQeBZGxCZYCNp4YBGJKYKKSApNJQiCB9FOYUMiflQR0giiEQsLjZylouTAIoVN4AixMDnf\n",
       "e/Oxc7fHJo/bNzO3v/3vm3lvZgFrJdU00MMaLrGt9aI/qeZBD7w4KU1+aUfinbR3qELeHwSyc3Rv\n",
       "wSX3HmZ/Hfg28Bj4vI2upYGLFU0fucAvGwaODbSo89vBU6fHyKebKNVxdBrlSqK4pcm+QtNj97np\n",
       "5zmx+muHz92e4cktINNArobCnkR1SysTOt+Sfs2o55wAH0o/R78WMpvAlUR1S2tjOhVyz28a9bKz\n",
       "8EPi7wCZEJl14E+iuqW1EV0YmecZeINGPVW1txfHT0myZBCsUYqSxB06/YVFmN4tlSMRi3qhGT3w\n",
       "z8RAdpm4d4mxR7SHa1D0yqhENmnU/Vq0wdaleS5+nq5bSeIOvYwNTd9V+Z426tk1y/uqe1V2RZ3j\n",
       "T1J36Irf0vRQl3o+il0lXKkvsruXWO4O7YWafoSulQktv6tq50pb+RcwlaTu0Ai4SJieULeWbFZ5\n",
       "CdJqQuqoeELXeeAj8IaH8Q0bo7HCS0F06a+aFr84tWlq82TTMlJZpdm+vlBX25a5zy4aOTTwXtem\n",
       "zkWWns2MbJ2jSTEUzMEmHJdo3G63SeIFD19R8AHvEXGzPWjgLDuiPb15nplp/hB/g90+9U8wampO\n",
       "bev40sToCUXfLKvTODq8+sXT8vjVVec4gj2gUvGEdtFnCi1Fvxw2GdcfpVJd8kQZCmbMrn2q2+/i\n",
       "T8Sz2klnN6QCiX570BB19y1FDuKD+Qoe73hL/AvVTR/Y78Yk9lM1y732uBIsNnb05Yvo/7U/qV3g\n",
       "vVkWAAAAAElFTkSuQmCC\n",
       "\" style=\"display:inline;vertical-align:middle;\" /></a><br>"
      ],
      "text/plain": [
       "<IPython.core.display.HTML object>"
      ]
     },
     "metadata": {},
     "output_type": "display_data"
    }
   ],
   "source": [
    "f_1_to_j = ExprRange(a, fa, one, j)"
   ]
  },
  {
   "cell_type": "code",
   "execution_count": 145,
   "metadata": {},
   "outputs": [
    {
     "data": {
      "text/html": [
       "<strong id=\"f_i_to_j\">f_i_to_j:</strong> <a class=\"ProveItLink\" href=\"../__pv_it/common/253a5fe8886c2ac76e888f437ab1b15f51c1335e0/common_expr.ipynb\"><img src=\"data:image/png;base64,iVBORw0KGgoAAAANSUhEUgAAANcAAAAVBAMAAAAnc2Y5AAAAMFBMVEX///8AAAAAAAAAAAAAAAAA\n",
       "AAAAAAAAAAAAAAAAAAAAAAAAAAAAAAAAAAAAAAAAAAAv3aB7AAAAD3RSTlMAmYkQqzLvVES73WZ2\n",
       "Is1wFLxSAAAACXBIWXMAAA7EAAAOxAGVKw4bAAACoklEQVRIx5WWP2gTURzHf5dLctfkkgZHxRIk\n",
       "U6cbXITQZurSpZOCSwIOinQ4VBwcbKaC4BDQUaFabetNcRRFExA6iNBVLRjQzaXQpYvF3+/9f5fL\n",
       "oz64x8v7fe77vd97734XANVqqsu2A4D/mM62Wh69T104mqajJF/l8dnM9i3auxRjHzRRtgFfTI5H\n",
       "7uA1ziiUtpEeul20LpSeSLp1lR59Ca9KE+qxgbOIP8HRS1vn8sIx9r/cZloXoomkbz4igwucqDYM\n",
       "nEU8I4FQjiMye+s2s3QFHR6zcU/M3TCkWaRs3B+MTLNy7PLK6HK6sMVkJmLuj8Z55OFMs7pz0zK6\n",
       "jK6uvKKV83Af25RyS9Eicg63bTzMMyt0HF6GLrQ/S3p+JH2bmzj4qHkewVQLYS/PrDpxZaZ1oVEe\n",
       "CvrnGk1WEiglCzi4r3Ee2QW45k3yzIKey0zpQnQwnwh6g29fH3xYx0FX4zxyCyAuk4mXpju307Sj\n",
       "zEpHLjOli8IbsaAX1WRACpsaX5RmDJ7OLHRmpnUBzkv6Kch06x3UfKBxHsFlhN9+7jJuucy0Lq8J\n",
       "jF5nk3Mos9zHo/MOKG/WeOQZ/j4p5B6QgWbNFht3ky7UTgTNBvxgdmtDdtJhmZ0HEWnRcv/ImBX+\n",
       "ymNNrH8qb1K/TF2oHgk64LtcwiSL73GwR7lvM2UeuY7XauY9K66criLWl+wLGjRkl8Zg6UKRloBo\n",
       "T7yZr8XXh+3DXVa1eaSyllNBWPsOirVaEIOtyw4z0vfqiVEnZdml9ZERszSHVoHiNbY5XajA0i0m\n",
       "n0RFfrMkiDn+Kf1GnU9PoiLPZ32CB4q1Wxss3W6yK+gPF8WkP9DKEXUqcmWGGX+8aDowAkvXG/d1\n",
       "MqIdsltz/ljURvlmX8/2t+BQ0f8AEaO17QtVkFwAAAAASUVORK5CYII=\n",
       "\" style=\"display:inline;vertical-align:middle;\" /></a><br>"
      ],
      "text/plain": [
       "<IPython.core.display.HTML object>"
      ]
     },
     "metadata": {},
     "output_type": "display_data"
    }
   ],
   "source": [
    "f_i_to_j = ExprRange(a, fa, i, j)"
   ]
  },
  {
   "cell_type": "code",
   "execution_count": 146,
   "metadata": {},
   "outputs": [
    {
     "data": {
      "text/html": [
       "<strong id=\"f_i_to_j_dec\">f_i_to_j_dec:</strong> <a class=\"ProveItLink\" href=\"../__pv_it/common/0bddaaf076f4370ef99072b6bd75245122135a110/common_expr.ipynb\"><img src=\"data:image/png;base64,iVBORw0KGgoAAAANSUhEUgAAANcAAAAVBAMAAAAnc2Y5AAAAMFBMVEX///8AAAAAAAAAAAAAAAAA\n",
       "AAAAAAAAAAAAAAAAAAAAAAAAAAAAAAAAAAAAAAAAAAAv3aB7AAAAD3RSTlMAmYkQqzLvVES73WZ2\n",
       "Is1wFLxSAAAACXBIWXMAAA7EAAAOxAGVKw4bAAACmUlEQVRIx5WWP2gTURzHf5fL5dLkLg2OiiVI\n",
       "pk43uAih7dSlSyYFlwQcdOhwqDg42EwFwSGgo0JrlWqnOIqiCQgdROiqFjzQSZdCly4Wf7/3997l\n",
       "5VEf3OOX9/vc93u/9969C4BqseqK7QDgP4aLLbbR+9RVx9N0lNpVHp3NbN+gvUsJ9mELZZvwOc/x\n",
       "zG28JgWFYAfpkdtF60LwWNLtq/ToS3jVWtBIcjjL+BlGz02dywvH2P90m2ldiDJJ33xIBhc4UW/m\n",
       "cJbxbAVEZPbGbWboCrp6zOK+GLuhaZ6pwCyzSuLyKuhyurRFYZiJsT8a55kHM80azkUr6DK6vvqC\n",
       "Zs7DdexQyW1Fi8w5XLbJyGZWWnF45XSh80nS82Pp29rE4IPmeQZLLVX7NrN65qpM60KzMhL0jy4N\n",
       "1lII0gUM7mmcZ3YBrnmZzSzsu8yULkQH86mgN/jyDcCHdQx6GueZWwBJhZ7S/71HravMgiOXmdJF\n",
       "4Y1E0ItqMCSFTY0vSjMGT1dWdVamdQHOS/oJyHIbK6h5X+M8g9MIv3zrNG65zLQuPxMYvc4G53Ci\n",
       "lge4dd7ShHGcZ57i75OSdYMMNZtvSe5u0oX4RNAs4BuzF4/YTodlth9Epk3T/b34Ev2V25pY/1Te\n",
       "pH7ldaF+JOiQr3KARZbfYfCKat9h7yPPXMdrrfCelVdP1xAbSHabgqbs9hIwdKFMU0C0J97Ml+Lr\n",
       "w9bhDju1eabWnbUq30CxRgsTMHXZZkb6biPNnZPy2KX5kRnjaDYaP2Nb0wcVGLrl9KM4kV8vCWKO\n",
       "f0q/UufTk6jMs1mf4KFizdYBQ7eX7gr6/UUx6A+1ckSdylyZYcYfL5pOjMHQ9SYDXYxoh+xWyx+L\n",
       "eGw3+3K2vwWHiv4HFCushikf/ucAAAAASUVORK5CYII=\n",
       "\" style=\"display:inline;vertical-align:middle;\" /></a><br>"
      ],
      "text/plain": [
       "<IPython.core.display.HTML object>"
      ]
     },
     "metadata": {},
     "output_type": "display_data"
    }
   ],
   "source": [
    "f_i_to_j_dec = ExprRange(a, fa, i, j, order='decreasing')"
   ]
  },
  {
   "cell_type": "code",
   "execution_count": 147,
   "metadata": {},
   "outputs": [
    {
     "data": {
      "text/html": [
       "<strong id=\"f_i_to_jp1\">f_i_to_jp1:</strong> <a class=\"ProveItLink\" href=\"../__pv_it/common/dbd475f3ca8a41c3dd4001822589493ca633908c0/common_expr.ipynb\"><img src=\"data:image/png;base64,iVBORw0KGgoAAAANSUhEUgAAAPoAAAAVBAMAAACd0O5ZAAAAMFBMVEX///8AAAAAAAAAAAAAAAAA\n",
       "AAAAAAAAAAAAAAAAAAAAAAAAAAAAAAAAAAAAAAAAAAAv3aB7AAAAD3RSTlMAmYkQqzLvVES73WZ2\n",
       "Is1wFLxSAAAACXBIWXMAAA7EAAAOxAGVKw4bAAAC10lEQVRIx5WWPWgUQRTH397X3ncOS8VwSKo0\n",
       "bmEjHMkJksYmlUWaCwgqEnBRsRAxVwXEFAdaKkQTPd3qLIOiJwgpRLxWCXignYWBNDYG35s3OzO7\n",
       "O7ecA5nMzP+9/+9mdmdmAVSpqSpeRgD/MRwvtanG96gqDpNhVd+evjkdfW/CuEQ5pzys3SZyGvDJ\n",
       "DGDlBgglUvLbODZIx2pfyD+MaSsoMWruIk1uAf/KTah7RoxQsmNWzHJm9hDrH+l07QvVcUTJnvuN\n",
       "GEZduU//TrBQMScpFMeYYjFsV4n+Op0e8eXyIGx88SSqeCj6q3L8ksESSsHIdocmveClwWO+otw1\n",
       "6QKV2RK+4dr80rGs3JtIr6c++JivhY6oytIOrYCDD7ZFqzSnQqVyDKSSoGfaKXDDF1ofrXRCzQhH\n",
       "mkdzAxvvtAErtBhCSdAr47S5a19oFAY2OqG+L1O37EPen8XGbZ3PSh+kkqC7q2l05QvV0YxvoxNq\n",
       "XXQLXcjCGjY6Op+VqyAVJwheXAuCtqLnD9LoyhfT1wl2PAguB8GOphNqXkW5ZLmh8+dDOiuJuRdT\n",
       "5659EWx97oR6BOEK1ds4dkfns9IHqSRXfiuNrn0BnlnphFoT3RL6LnbxBd2ls4hDWHkMUkm+dT0d\n",
       "axbPyCZfqP2x0neVQrunUxvwBlsUL7NUaF8IxaRn/oa7iWKzR2GS6pm+UDmI00+PeC+7rORxFXNv\n",
       "sPGSlmtboFhZAakY9NzS0QUM64axT6nRCKvAg4gv5Hox+vnrPwcC5cgj47m8dcWzvCnuKFbKy5az\n",
       "TpRvoGIjxfUg6lsYxucuUbfqcivKK4PvFFrSUDHvnWLkbOUDsJk8Y41s9M357734LSNRrxZku8Sf\n",
       "Kl/FDUi/VSlPJn2c9FRstLTM7NKo4/et+Yh6ezK8c3saVaVKKWcn0Pn3VpPCECK+zoeuNT8yq33h\n",
       "ZflYqw3t9M/TfVntTxhH1D/bF8lhwrkyYgAAAABJRU5ErkJggg==\n",
       "\" style=\"display:inline;vertical-align:middle;\" /></a><br>"
      ],
      "text/plain": [
       "<IPython.core.display.HTML object>"
      ]
     },
     "metadata": {},
     "output_type": "display_data"
    }
   ],
   "source": [
    "f_i_to_jp1 = ExprRange(a, fa, i, Add(j, one))"
   ]
  },
  {
   "cell_type": "code",
   "execution_count": 148,
   "metadata": {},
   "outputs": [
    {
     "data": {
      "text/html": [
       "<strong id=\"f_i_to_jm1\">f_i_to_jm1:</strong> <a class=\"ProveItLink\" href=\"../__pv_it/common/1b461474a7013fb3c85652672e38ad4adb86c7260/common_expr.ipynb\"><img src=\"data:image/png;base64,iVBORw0KGgoAAAANSUhEUgAAAPoAAAAVBAMAAACd0O5ZAAAAMFBMVEX///8AAAAAAAAAAAAAAAAA\n",
       "AAAAAAAAAAAAAAAAAAAAAAAAAAAAAAAAAAAAAAAAAAAv3aB7AAAAD3RSTlMAmYkQqzLvVES73WZ2\n",
       "Is1wFLxSAAAACXBIWXMAAA7EAAAOxAGVKw4bAAAC0UlEQVRIx5WWP4gTQRTG3+bfbpJNLlgqHkGu\n",
       "usYtbISQiyDX2FxlcU0OLBQ5cFGxsPBSHQgWAa9UiJ5ndKtYHopGEK4QMa1yYEA7C4VrbDx8b2Z2\n",
       "ZnZnssQHNzcz35vvl5ndmVkAGTVZpGMC8B/d6ajN1X9AhTc20/zQPvzBfPSDGf0C5ZwJsHSbyGnA\n",
       "Rz2BKzeBKYko7mLfKBurfKH4MKWto8RRS5dpcm38qzShHmg5TMlPuaLHucUjLL9n05Uv+NOEkr/w\n",
       "CzEcdfU+/TvFhao+SaY42hS9uO4T/VU2PeGbis+BQHlHrL0h+q9oLKaUtEHuWKeXgix4ytekM1Ru\n",
       "wHzjtfmpUrhybya9nvngU74WOqKqq89oBRx8sC1apSWZIZQTIBSDnutkwDVfaH2w0gm1wBxpHs1t\n",
       "rLxVKVyhxWCKQa9Os+aufKFRGtnohPq2Rs1KCMVwESt3VApXhiAUg+5uZNGlL/iThdBGJ9QWa5Z6\n",
       "kIdNrHRVCleugVCcKHp+PYo6kl78nUWXvjh8i2DtiGJP0Qm1LLNcstxW45djOleMuXuZc1e+ACet\n",
       "z51QOxCvUL2DfXdVCleGIBRz5QdZdOUL8NRKJ9Qma5bRd6WHL+g+nUU8hSuPQCjmW9dXuXoE2mjy\n",
       "hdofK31fKrR7urUR32Ar7GUWCu0Lpuj03N94N1Fu/jgeJFu6L1SNF+TshO9llytFXMXCa6y8oOXa\n",
       "ZSiurINQNHph9fgSpvXi3CdUacRFFEDCFwr9FPzijR8jhnLEkbEnbl32LG+xO4orlTXLWcfiK8jc\n",
       "RLgBJH1LY+sFP4DbdbEVxZXB7xRa0ljR7x0vcWrwA7BpnrHaaPQthO+sFwKiXrZFvcw/Vb6wG5B+\n",
       "q1Qez/o46cvcZLT00eVJNxxaxyPqzen4zu0rlE+FVM7PoPPf65vCGBK+zvuedXxiVofMy/KxVhvb\n",
       "6Z/m+7I6nNGPqH+le8Ng10L5twAAAABJRU5ErkJggg==\n",
       "\" style=\"display:inline;vertical-align:middle;\" /></a><br>"
      ],
      "text/plain": [
       "<IPython.core.display.HTML object>"
      ]
     },
     "metadata": {},
     "output_type": "display_data"
    }
   ],
   "source": [
    "f_i_to_jm1 = ExprRange(a, fa, i, subtract(j, one))"
   ]
  },
  {
   "cell_type": "code",
   "execution_count": 149,
   "metadata": {},
   "outputs": [
    {
     "data": {
      "text/html": [
       "<strong id=\"f_i_to_k\">f_i_to_k:</strong> <a class=\"ProveItLink\" href=\"../__pv_it/common/a2e2c997e63f8e1538c888a45eaa849bae4034750/common_expr.ipynb\"><img src=\"data:image/png;base64,iVBORw0KGgoAAAANSUhEUgAAANkAAAAVBAMAAAA5ulaKAAAAMFBMVEX///8AAAAAAAAAAAAAAAAA\n",
       "AAAAAAAAAAAAAAAAAAAAAAAAAAAAAAAAAAAAAAAAAAAv3aB7AAAAD3RSTlMAmYkQqzLvVES73WZ2\n",
       "Is1wFLxSAAAACXBIWXMAAA7EAAAOxAGVKw4bAAACb0lEQVRIx42WPWgUQRTH395ms5f7SlCs1LBI\n",
       "sLDawjJkr0ojyFW2CVgIJsWiYiGIV0UEISlEK+EkGuJWWoqi210hgq1yYEQ7EYQ0giT45s3ufDPc\n",
       "gxtm5/3+8783Mzd7ACK6ojHDOQjwGaaKrhMfs6ZZOvixe5qH07mNdTw4l2IbJwCdBfioglpGi2gX\n",
       "x175bYQ6fDwCgS9dybFdwU8rgV6q8FpGjYuLh9j+8LtJdY++K8evPWAOpznSVovQMrTQdTkd5vba\n",
       "7ybV88yW481Dyq1XzFVlbj3DlqVU3WZTn5mi3iaQ8MaI5jmooF+SNzKWW8+7cYr6PA0wvL36nC1e\n",
       "gBuzzKpeEriZsdwafY+ZooafcONkhc+XtXGyhZ33UmBkLLf2ga82qQ7/xXc3KvzbgI22cojyRezc\n",
       "lryRsdzidZ+bUEN8dD/6XeH3KDc7hBA2sbMmeSMTFMXe9aLoC7foj89NqCHYIGPCL4jRmE2xJXkj\n",
       "Y9XW9NYm1a3vp6DGH0Fdca+PZ/SO5I2MvZIjn5tUZ/n2oMY3aXQO58mGeIDe4EPIeSNjn5IdyaqR\n",
       "GuoPaZaXHO/+5b8O3I61Lh6gE/iQ0WEzM6pb46g+3YwNj2uReFLVlyEbJByP+VZHWObMW+zss/J3\n",
       "aWojo7jNrB5fQmxYs89YZ6FuilRXP4HOmZTjQfUTfVG9jWgvbtIdrme02ii+gmC1iFOnGvFbvZz3\n",
       "qys2oCVjS2RmtFuZgl8wiX1nudWIv1yp+nP83fqFNSErwczYL+Udweqx7FQz/N3Z6iEkLTylE8ca\n",
       "M2MFn6djJ0qnWv/SE9K66pi43T5N909hIvH/mYO01rG+LBIAAAAASUVORK5CYII=\n",
       "\" style=\"display:inline;vertical-align:middle;\" /></a><br>"
      ],
      "text/plain": [
       "<IPython.core.display.HTML object>"
      ]
     },
     "metadata": {},
     "output_type": "display_data"
    }
   ],
   "source": [
    "f_i_to_k = ExprRange(a, fa, i, k)"
   ]
  },
  {
   "cell_type": "code",
   "execution_count": 150,
   "metadata": {},
   "outputs": [
    {
     "data": {
      "text/html": [
       "<strong id=\"f_i_to_l\">f_i_to_l:</strong> <a class=\"ProveItLink\" href=\"../__pv_it/common/9c8dd529d61af67937ff6a76a7f607e91e5d80580/common_expr.ipynb\"><img src=\"data:image/png;base64,iVBORw0KGgoAAAANSUhEUgAAANQAAAAVBAMAAADMRN06AAAAMFBMVEX///8AAAAAAAAAAAAAAAAA\n",
       "AAAAAAAAAAAAAAAAAAAAAAAAAAAAAAAAAAAAAAAAAAAv3aB7AAAAD3RSTlMAmYkQqzLvVES73WZ2\n",
       "Is1wFLxSAAAACXBIWXMAAA7EAAAOxAGVKw4bAAACcUlEQVRIx42Vv2sUQRTH390muXi/DMFKURa9\n",
       "Ko37B4TkAmqdysLmBMGABDxQggTBqw7EwkDSBiJGiItgAjaixNiYIoXXCgGvECxSGJBAQBHfm3lz\n",
       "O/NmsvrgZufm+/nO25l5uwswiNqgkREcPHE4iLnsLjWjOwF4NzxHkD3BzWzhYoJtKQaojsGeTTmK\n",
       "GzdQ2ftHkvFL2l18Pcts43ob2yn8lWOoJxbrKHZEMz+Qc1g/ilfn2P3BsHOP6XJO6xX79h1FxRPT\n",
       "+ZwI1o+RB8vsvsDs6E8l3GTglnUYrkLx0E5ls4F4mhj3K2aLazRS6jNwYO2Aq/ipDnJTTRh37Uiz\n",
       "lWvrtLYCHsYkLbYxQKXip2rkZXpzZ4bdlUNmT6s6rG8CxF3sbGewUPxU27mr+m3cQ0vMfp2loXIb\n",
       "htt4fLCQsULxUy3kPrpH7IaRHWYf6XLpQATz2GllsFDgbJreTtP1LFUrL1XpkN3Q6jE7YSaEElVc\n",
       "V5xrpvir6uY+VmvG/QmYXQGz0HoT/YsZLBQ/1WJeqlNN416JmJ3XAu7ndAfL5S390xMLxU9FbOQn\n",
       "0W51Qsr9q6jZ2rFeLt5Dq4blMk72P+pcheKkukz7T+x0nxtlGnSwqDrGfTypWX16MIw7O/QOOxv0\n",
       "L03AV+xUV+5+29Rs+Tk19AA+Mx3l5qIi91as5y00tfkFl6h+QxAsFHdVGXvPrz2V6oyc9369rftb\n",
       "/N1QO0WbKxX3dZuxsV97lK75Xc77csoUTE9dvqiWNlcqfig28j+Q5C4v9+W878+bT9CSuqyqluxS\n",
       "8UOxVX+c3JWPvcC8HPvKGFrBfjhTtfdfH3wz718w36uCyLTHtgAAAABJRU5ErkJggg==\n",
       "\" style=\"display:inline;vertical-align:middle;\" /></a><br>"
      ],
      "text/plain": [
       "<IPython.core.display.HTML object>"
      ]
     },
     "metadata": {},
     "output_type": "display_data"
    }
   ],
   "source": [
    "f_i_to_l = ExprRange(a, fa, i, l)"
   ]
  },
  {
   "cell_type": "code",
   "execution_count": 151,
   "metadata": {},
   "outputs": [
    {
     "data": {
      "text/html": [
       "<strong id=\"f_j_to_k\">f_j_to_k:</strong> <a class=\"ProveItLink\" href=\"../__pv_it/common/d4e417591a828503b174462063d83e761aa30dbf0/common_expr.ipynb\"><img src=\"data:image/png;base64,iVBORw0KGgoAAAANSUhEUgAAAN4AAAAVBAMAAADbZk3zAAAAMFBMVEX///8AAAAAAAAAAAAAAAAA\n",
       "AAAAAAAAAAAAAAAAAAAAAAAAAAAAAAAAAAAAAAAAAAAv3aB7AAAAD3RSTlMAmYkQqzLvVES73WZ2\n",
       "Is1wFLxSAAAACXBIWXMAAA7EAAAOxAGVKw4bAAAC9UlEQVRIx41WTWgTQRR+m81m42YTgz8gWiWo\n",
       "ePC0By9CaeLBigiSk6CXBjxUWg9LFRFBm5MiFFqI6EVhtf7mVMGLICYFwYNGclUEIwoeRCgEqaAt\n",
       "zpufndndSeiDfTOZ/fJ9835mEoDQ8mzogsa0i0PWY5aPDNzesmFOg3f9AURzG9Pj1Nk2HYy9HvF2\n",
       "iTirAe6SityyD/0MutNelMRahBg4aSG1eTsgk3d0cf8p3P4YDaQH8E3Bp45OEm/2cP4hSnVoTx+i\n",
       "YI1J6kIRHd3y5E0cdgnMcwWfudzAXapRZMUHtx8Da0xSb0bhHIpm+/RVLdRQ8jZP5xmVwm6rehlv\n",
       "mJxCzZjOYs4CStMToIISzUHqrw3WKwwtoEJ9gC78JDGOP8QoDWyX0TcIqoT4F1NHaNNgDd9XdHoK\n",
       "OGkq9XeY2UrqiZlth1EVM8TnevIb/8SuwIBpnZ4KTpqkNv/aVwnBa/LxSxUXHVJPt4tVtWvynP6m\n",
       "wxPydGBVp6eANSap7bUb1i+AS+TjLOuSOtkEzJKqWiuyVmx6jjyejfRGs/l4qtmshHoKWGOS2pim\n",
       "0hNhT+AiwE5sqlqs3lQPjEAXX3ZofJLa+bodp9fJcwtE0AAPkDAI8ZsqYT7BKWnzGQzTk9Rlfx4D\n",
       "vEKe84waafJ/sAUWMH1sZ4z7Lq1FXdsvCDYTQnxFUre8sk+Gl1yDN3ZuhbevuQ6KBnYxtOLnL7Um\n",
       "er3c49+ITCLUJ6FcLdGTxXvCwsSkcbcOijQ9WW84g+54TC89vn6Cgx1yc8N9nBTFZFFpN6S+A+4I\n",
       "oXxKdshP7CORv08USvW2sVdONcyNEh81CoYLiYTSFZWana8ALhZ8cU2n/VZ4caeQufKD3xNFOJbr\n",
       "x+9rauyWLyX0cEWhFj9PS/BsTPRid8LHRsxjTmEUw2qIy+Oetepof3IZ2Gwn+gVXFGo++QjwareA\n",
       "LBjL9fAl4nPLAncYRnZoG56B3eQfAnQKtdi3ivnMho4ujPaAA9bZ2P8JTu124T/D5sMHI4Vm4QAA\n",
       "AABJRU5ErkJggg==\n",
       "\" style=\"display:inline;vertical-align:middle;\" /></a><br>"
      ],
      "text/plain": [
       "<IPython.core.display.HTML object>"
      ]
     },
     "metadata": {},
     "output_type": "display_data"
    }
   ],
   "source": [
    "f_j_to_k = ExprRange(a, fa, j, k)"
   ]
  },
  {
   "cell_type": "code",
   "execution_count": 152,
   "metadata": {},
   "outputs": [
    {
     "data": {
      "text/html": [
       "<strong id=\"f_k_to_l\">f_k_to_l:</strong> <a class=\"ProveItLink\" href=\"../__pv_it/common/60be9d3b18b0cce53c7e3bc0bbd6a022fdab88750/common_expr.ipynb\"><img src=\"data:image/png;base64,iVBORw0KGgoAAAANSUhEUgAAANwAAAAVBAMAAADfk53OAAAAMFBMVEX///8AAAAAAAAAAAAAAAAA\n",
       "AAAAAAAAAAAAAAAAAAAAAAAAAAAAAAAAAAAAAAAAAAAv3aB7AAAAD3RSTlMAmYkQqzLvVES73WZ2\n",
       "Is1wFLxSAAAACXBIWXMAAA7EAAAOxAGVKw4bAAACoUlEQVRIx42WPWgUQRTH3+W4bLL3keBH4wcc\n",
       "GiyucVsh5C6ggo1cZZEmAcGICXhECRKiBgIRsYgQ0UYhYkTd6gQbQZKzSmHhtUIgJwQsghiQgKAR\n",
       "35uP3Zl5m8UHb2b2/r+bt/Pm7ewCRFa0OtsSf0wVHGszdl12Pa0Een2/aRJpboVGzGZOBNh6Zcg+\n",
       "XsbBJ5NzNNtGAodOsAMnqZ0CqOwqduASxR5CL/VTExi0o5mWHf4RODS3rnPjhHYA8juKHb9P3VH0\n",
       "Ppo7b87raMIe6MHnwKG5dd9aohw10TuS7fkphDH0RRH+srE1rkY2a4Yz6QST/+pG91uS7RKb4uF6\n",
       "4ZRAto1cuBoPt50ariLaO+ibdcHmz6/QGjNlbLZg6iDuVwRzjYcbSIv27tqwqBf0NcX2ifosYXqz\n",
       "v73bEwCrMc40Hm41dXV/onxdUCytElOLleDt3ct9B5iOaabxcNNp0Yq7onuFPqnYu7KE5jBpE2L2\n",
       "0RhnGhwJwythuBKHG00L5+2I7ipAbk+xlWhK/+thGi64O21ofHULqY/dsg5XGFPsI9AJqzYWaQkz\n",
       "Mc40Hm4mLVxvTSeztxZIdlIKWBRrQbWB3Xu6lk8Z03g4g7bOHJkX+ZenWHTNsmCLv+Sy8T4uQrVe\n",
       "lmWb/St2mmlWuNNtMOhqxxjIBjbn5FGI4eZbglW7mcMsP4HCMbzP13QdBpCkmeHOXt9qGrRPj+hz\n",
       "UAP/RVxqMIKPMN0WshmZXngZFa88SWhuptmrc2jbblBzSI79umZvltTR+zZ65zRFAtG5Zh/RNu0Y\n",
       "Zt6rfVOnU79m3wzpImqrwRfRDqJzjVtMO6WCW+UvddTVM81+OK71h5ZEJcU1bjHtvL9pUR/1bZ4x\n",
       "WGUbiktayca+XwXt//p4KLYk+w+h7b1hqBz92gAAAABJRU5ErkJggg==\n",
       "\" style=\"display:inline;vertical-align:middle;\" /></a><br>"
      ],
      "text/plain": [
       "<IPython.core.display.HTML object>"
      ]
     },
     "metadata": {},
     "output_type": "display_data"
    }
   ],
   "source": [
    "f_k_to_l = ExprRange(a, fa, k, l)"
   ]
  },
  {
   "cell_type": "code",
   "execution_count": 153,
   "metadata": {},
   "outputs": [
    {
     "data": {
      "text/html": [
       "<strong id=\"f_ip1_to_j\">f_ip1_to_j:</strong> <a class=\"ProveItLink\" href=\"../__pv_it/common/0acf650bdaf994086144136bb335f138a6d79f260/common_expr.ipynb\"><img src=\"data:image/png;base64,iVBORw0KGgoAAAANSUhEUgAAAPsAAAAVBAMAAAByEoVnAAAAMFBMVEX///8AAAAAAAAAAAAAAAAA\n",
       "AAAAAAAAAAAAAAAAAAAAAAAAAAAAAAAAAAAAAAAAAAAv3aB7AAAAD3RSTlMAmYkQqzLvVES73WZ2\n",
       "Is1wFLxSAAAACXBIWXMAAA7EAAAOxAGVKw4bAAAC8UlEQVRIx42WT2gTQRTG32azSUyyaSJebLEE\n",
       "9dTTHnoRQrse7MEizUnBS3NqpRRcqgcPYnMSRMFCPCpUWy3upRG8KZiA0JOQq1poQEHESyEIOdTU\n",
       "+be782YnNB/sZDL57Xzz3rydDUAoG7TqjDw4dFiVraP39OwTzVjeG53VaA/RxnmHtOkymbaIOWuL\n",
       "jDXlkdMXaLtGrrYSUel3VWHjipzAagT0xes0mBlyZcuInp7skfaHNJK4skxas0uaV3jmr5DoY1aj\n",
       "yAny3YBefkTXNCFhj4MkU/t30g+pew0ahBRkRvSvASxhViPFidGZHuvXJOy+bJ9yoh+esn5KQtMt\n",
       "/nnbgYUOYuNSnRid2GTTdIfZF6RYp1j7QGN/FWChiti4VCdK5+a2acEZZNsrEzr7hBve/37lMqs/\n",
       "sv3tJrYn2kVsXJITVD4HM4+1gpWUH+rsc1Jejlj7h9yZqan21hFm44qcoJhqCvqgSgezHljepM4+\n",
       "HVWF/Zd97ADcMLqqfdZFrEahE+Q7Y56g13kZ1MGEVdob9/0l398O7a3DaKN59xaAk6K2hu+/WfF9\n",
       "nvGzmNUodCJW646gp8LBdE8Xfaam1A61Z7ej6HMuZjWKnEiQAf0MgpQUXEeX/M3w/lNukHz4aSr2\n",
       "a2B3ZFajyImfWoxe5TOTaWbrZV3pbdCDji+cez0n3/sJbG+VIe/ILBIPK3ICuy9mZh3+ECzaTWyf\n",
       "+Bc8KLOs0g7q/Oyk2/Yd238rlcYl1hzIHdbITpA7FDOLcrJIIpIf8N4n5wbzJFnUM7sV1Q7cJNe8\n",
       "8tzvHh8PZPYl7RRFB3wHkBMkaZoobYiT4rXm1ONxsfYObc6IR6waP/ViLFKa2stObBsJfbfgSee/\n",
       "8sph4kchzZP7SxR5Mf7KUVj1uAXklPQ+iXfP25mgqof8VbFpmsAkq802gjPtBZzEKqoAclr0dgT9\n",
       "8ZwYNDf0U/Jl5WnQ7WCFl+AkVhFdkORktOuxgPf1U37RRdkandVoP6T/AxcD0voEM/6/AAAAAElF\n",
       "TkSuQmCC\n",
       "\" style=\"display:inline;vertical-align:middle;\" /></a><br>"
      ],
      "text/plain": [
       "<IPython.core.display.HTML object>"
      ]
     },
     "metadata": {},
     "output_type": "display_data"
    }
   ],
   "source": [
    "f_ip1_to_j = ExprRange(a, fa, Add(i, one), j)"
   ]
  },
  {
   "cell_type": "code",
   "execution_count": 154,
   "metadata": {},
   "outputs": [
    {
     "data": {
      "text/html": [
       "<strong id=\"f_jp1_to_k\">f_jp1_to_k:</strong> <a class=\"ProveItLink\" href=\"../__pv_it/common/fbda609ada52503a137b636abd1c94a133563a3f0/common_expr.ipynb\"><img src=\"data:image/png;base64,iVBORw0KGgoAAAANSUhEUgAAAQIAAAAVBAMAAABfxf30AAAAMFBMVEX///8AAAAAAAAAAAAAAAAA\n",
       "AAAAAAAAAAAAAAAAAAAAAAAAAAAAAAAAAAAAAAAAAAAv3aB7AAAAD3RSTlMAmYkQqzLvVES73WZ2\n",
       "Is1wFLxSAAAACXBIWXMAAA7EAAAOxAGVKw4bAAADBUlEQVRIx41WTWgTQRh9SZqkzWbTtOrBqlBU\n",
       "PPTiXoXSpKAeBG1OHnppQbDSCg1VRARtToogNFDRi0L9rebSFrwIYlMQPIi41xbBiAUREQsiFPyp\n",
       "883svzOTDGR2MvPmvbfffvMDeMWEvJgtd1Kx0VKxZTSvFeD2uqRTBcaNlgxkyyHu2F6L1eleViVn\n",
       "I9BhNvQm1NO9TwU2u76UkF3UawuxKSBxaw4u9/6T5GiAe2uE4InB7wyfswJd8SNjCjBWEd8EPukd\n",
       "cLEEzczl4XKPXafHrlDk3Td5x4aMfGAkdXFWBT4OnAaW9A64WIxmdNJ7c+72H3xoNIhL1wMOcCow\n",
       "MmMpwZMWhmykLJ0BIZbymYg7PsdpGmoHXwMjfWrwMWCohJw2EYTYFaoO8A7GbRx9SJGIUW71v5I6\n",
       "2O8zPBsfVIOBBaZR1BhwxLqpvY6pbYK7kxNw6/nUoszBywDHbw0YSTZqNHQxEGIU1MSv9OUJwf2h\n",
       "RJ0ZlhdZu7Msc3AhsOJ+asDIsPdPj+ocCLF5mvXnWvKb4J4WOV5htjBNgrFa7fF4rVb0HIwEvvmG\n",
       "BoydFIcNnQMhdoYmTnAzI25ucVKgR5oHV6OZpAAb5KNdG4M+z0Hm4w443DfhBha4L3VwyWfoKGrA\n",
       "UzBtpOd0DoQYfYVCeabkcJ8V1ERjbkodPKeWWOapuhqc7EXWglH1wKHtVTyE2B32W7YK5Trndoj4\n",
       "IjI2og4O2s7iSfwVmVRRg9e6unrESuVgXhUagYYnRkvwBAqlXs4tcgtJCl5bNUJ6eHKdLbkn1KxZ\n",
       "fibJwQtbW0wrU3HB9+h75d3GAz+RMcx+t5HdbXHumLODPPJiHN5kmHGxaXIH25uBseaDQ+UcPxmF\n",
       "WKYU4D6fc1b1EtrKy1b0ZOLT+J84ERc/NwOLQyv+fw7SNuqK+Wcd43464Ga5PVKel+bvKq/7yfts\n",
       "oxnYrLrgSCZSoDyxuwHuF3tcSDW2UpGSCjgxGCt2M3CH7YIjtyKqPLFDiFqh8l51o5Jd/VRgvG3p\n",
       "lmbWPe5/aJXguSV16iQAAAAASUVORK5CYII=\n",
       "\" style=\"display:inline;vertical-align:middle;\" /></a><br>"
      ],
      "text/plain": [
       "<IPython.core.display.HTML object>"
      ]
     },
     "metadata": {},
     "output_type": "display_data"
    }
   ],
   "source": [
    "f_jp1_to_k = ExprRange(a, fa, Add(j, one), k)"
   ]
  },
  {
   "cell_type": "code",
   "execution_count": 155,
   "metadata": {},
   "outputs": [
    {
     "data": {
      "text/html": [
       "<strong id=\"gi\">gi:</strong> <a class=\"ProveItLink\" href=\"../__pv_it/common/0ba0cd2cf8d3ccd998685cbe78d43bd94dfad9b40/common_expr.ipynb\"><img src=\"data:image/png;base64,iVBORw0KGgoAAAANSUhEUgAAACMAAAAVBAMAAAA+1EraAAAAMFBMVEX///8AAAAAAAAAAAAAAAAA\n",
       "AAAAAAAAAAAAAAAAAAAAAAAAAAAAAAAAAAAAAAAAAAAv3aB7AAAAD3RSTlMAVIl2ImbN77sQqzJE\n",
       "md23+iBgAAAACXBIWXMAAA7EAAAOxAGVKw4bAAAA9ElEQVQY02NggAMHOAEDzAIg8jCykBAQ2zIw\n",
       "ByBEOBOAxCMGhkyEEC9UOhYhxA6jJ8CFxKA0G0i1kLErkLwENM4WyGVaAMQJLBVAoVQgi6eAgYEV\n",
       "aI38BIbPQKGHDAwbeYFcRqBwFQP3F6BQDQPDBHYDBgbuDwzcHxmYCyBCIA0MQM2sXxg4FkA0MmRx\n",
       "AjU+YGD9wDAfZG8z0MY/TEDjGxg4vzCsB7lOC2QM0DW8CgwMp4zugZy4D4iXApXzHQDxckEE3waI\n",
       "6/0YGHZN4P4NYrJegAhdZWBYPmGaAZjdAiZZGkBG3YFIzwCTHMghzQJWbMLAAADv+jCZAbCApAAA\n",
       "AABJRU5ErkJggg==\n",
       "\" style=\"display:inline;vertical-align:middle;\" /></a><br>"
      ],
      "text/plain": [
       "<IPython.core.display.HTML object>"
      ]
     },
     "metadata": {},
     "output_type": "display_data"
    }
   ],
   "source": [
    "gi = Function(g, i)"
   ]
  },
  {
   "cell_type": "code",
   "execution_count": 156,
   "metadata": {},
   "outputs": [
    {
     "data": {
      "text/html": [
       "<strong id=\"gk\">gk:</strong> <a class=\"ProveItLink\" href=\"../__pv_it/common/4b158327635277797044cacdb25b251b4d3a4b4e0/common_expr.ipynb\"><img src=\"data:image/png;base64,iVBORw0KGgoAAAANSUhEUgAAACcAAAAVBAMAAAA3P+qgAAAAMFBMVEX///8AAAAAAAAAAAAAAAAA\n",
       "AAAAAAAAAAAAAAAAAAAAAAAAAAAAAAAAAAAAAAAAAAAv3aB7AAAAD3RSTlMAVIl2ImbN77sQqzJE\n",
       "md23+iBgAAAACXBIWXMAAA7EAAAOxAGVKw4bAAABFElEQVQY02NggAMHFAoCmAUg9GFkQSEGhhl1\n",
       "IMkAhBhnApDIBbEyEYK8IAUfQaxYhCA7EPP8BLMmwAXFgJipAMRiA+kRMnYFkpdA3AWMuhMYmBYA\n",
       "pRNYKoACqUA8P0DQPYCBFWil/ASGz0CBh0As7yOwzYGBEWhIFQP3F6BADRBfjwaZyf2BgfsjA3MB\n",
       "VPDZ3Q0gNxQwsH5h4FgA0c75kec3kMX4gIH1A9B8ILOZgYH1J+dHZiDVwMD5hWE9yLVaDAxcCZy/\n",
       "mYB+U2BgOGV0D2T8PgYGDgEGW0sGBr4DDLBg4NsA85sfA8OuCdwg0xlYL8AErzIwLJ8wzQDMboGK\n",
       "sTSAjLwD4cyACnIgxwcLRAODCQMDAIFFOhle2peNAAAAAElFTkSuQmCC\n",
       "\" style=\"display:inline;vertical-align:middle;\" /></a><br>"
      ],
      "text/plain": [
       "<IPython.core.display.HTML object>"
      ]
     },
     "metadata": {},
     "output_type": "display_data"
    }
   ],
   "source": [
    "gk = Function(g, k)"
   ]
  },
  {
   "cell_type": "code",
   "execution_count": 157,
   "metadata": {},
   "outputs": [
    {
     "data": {
      "text/html": [
       "<strong id=\"gj\">gj:</strong> <a class=\"ProveItLink\" href=\"../__pv_it/common/561dc0bafcb3791c79f0e6c429c4b743f78a81300/common_expr.ipynb\"><img src=\"data:image/png;base64,iVBORw0KGgoAAAANSUhEUgAAACYAAAAVBAMAAADY/YGeAAAAMFBMVEX///8AAAAAAAAAAAAAAAAA\n",
       "AAAAAAAAAAAAAAAAAAAAAAAAAAAAAAAAAAAAAAAAAAAv3aB7AAAAD3RSTlMAVIl2ImbN77sQqzJE\n",
       "md23+iBgAAAACXBIWXMAAA7EAAAOxAGVKw4bAAAA+UlEQVQY02NggAMHMMnCgASYBcAUjwGSmBCI\n",
       "2DGBwRQhxJkAIs0YGNgmwMV4A6AM1gtwMXY4qxLOEoOzUkGGG7sCyUsgM40XAEktBgamBJYKqCwv\n",
       "QymQDGNgkJ/A8BnIegjEJgwfgaQ4A0MVA/cXIKsGiCcw/gSS+xm4PzIwF0DFGHgfAInjDKxfGDgW\n",
       "QPUy8CkACTkG1g8M80HObQaJ+R8AEhEMnF8Y1k+AuICBIZ4B4qpTRvdArH0gYgWIeAMicsFGbQAS\n",
       "xaAAfMCwawL3b6jXF7L+hATG8gnTIKHYwv2RDxSsHiDj7kC8PoPhMpjVghTOLBDlzA4MAPGHNJ1a\n",
       "IOnSAAAAAElFTkSuQmCC\n",
       "\" style=\"display:inline;vertical-align:middle;\" /></a><br>"
      ],
      "text/plain": [
       "<IPython.core.display.HTML object>"
      ]
     },
     "metadata": {},
     "output_type": "display_data"
    }
   ],
   "source": [
    "gj = Function(g, j)"
   ]
  },
  {
   "cell_type": "code",
   "execution_count": 158,
   "metadata": {},
   "outputs": [
    {
     "data": {
      "text/html": [
       "<strong id=\"g_i_to_j\">g_i_to_j:</strong> <a class=\"ProveItLink\" href=\"../__pv_it/common/2798f098fbc26e5befa4096d30283d42cc47bdfb0/common_expr.ipynb\"><img src=\"data:image/png;base64,iVBORw0KGgoAAAANSUhEUgAAANMAAAAVBAMAAAAumMZDAAAAMFBMVEX///8AAAAAAAAAAAAAAAAA\n",
       "AAAAAAAAAAAAAAAAAAAAAAAAAAAAAAAAAAAAAAAAAAAv3aB7AAAAD3RSTlMAVIl2ImbN77sQqzJE\n",
       "md23+iBgAAAACXBIWXMAAA7EAAAOxAGVKw4bAAACq0lEQVRIx42VPYgTQRTHX7JJNrub5JYrDqwM\n",
       "CBaCEM+AIAQCcthJGktJQCwUhAMbFZGANlotBA6xyYIch5Vna2ECVwhXBeGuErmzERGXiPEgeIXv\n",
       "zezH7M6L3oPMzs7/l3kz772dAYitHTcZ48YWD2eswMCGS+2ODktBt50TubrAwMv4a4HR0WASjEl6\n",
       "zPkGHKpbrk70sxRs9bD5AnA7CwuhVk+NvdyfA4MytiHi0kvB1dDtjSxcVdZTifrGnEMZ24s6CmxG\n",
       "Ty8Dm2o4GqorDWVsHfR5V8JnKZuBlYWuSv9PVq4H6rzLF9ew/YhZaeFr3k/qIRJgsMe5UlDGyZkm\n",
       "zlalHA8uh3C+V7iP3VvYq+B2i/E6EgHqHzhXCcrYWbjaD/cyMTsSPu3BL3w/BHhbxddcHN1EcNx9\n",
       "zlWCMpuawxLCNfwmjfaSK+GH4MxQewTgmSg604hOBAvuUSkGwdfHQeDHrhJUN9OHEZ4Q5pj+jYsm\n",
       "2PkJxrqcUQxVoqWqQm7O7aryj12NXLgE0hXAZwkXZ1D2ZZzgjoWzHYSwKpR8jwvgwWJX3TY8BxlA\n",
       "cTIQXJzCkHL3BHd6nEcPfTohyFUiwHBc58oiQjNGy+qC9RsfZfpD4VjC1gzekHaOwrkWlucQ60MR\n",
       "YFTopF3lKYsJehR2lLe2HX8PxWkI765SKOE9/jZxwhpFt4anqSrY19O5sreONlX0B3UmURNQyl+d\n",
       "p/A61Ni0ewHDXWpq23KWa6I9BZqQ2pWGpgpdJLYkLoPvVBsNCb/znD+iCibq+VjXhdRxm0Yzhhl3\n",
       "XsNoW56yttv1JLzlbcilPpWXZl9cHA1NYO7XGM3YAGP2wLop+uX2yD0M4d3VTxJ4EUqiwEATdEvQ\n",
       "jDVEqsbytutXW+MYjhYpltdkVt/gXTVPdOFfieG/YAu7enM+fOQAAAAASUVORK5CYII=\n",
       "\" style=\"display:inline;vertical-align:middle;\" /></a><br>"
      ],
      "text/plain": [
       "<IPython.core.display.HTML object>"
      ]
     },
     "metadata": {},
     "output_type": "display_data"
    }
   ],
   "source": [
    "g_i_to_j = ExprRange(x, gx, i, j)"
   ]
  },
  {
   "cell_type": "code",
   "execution_count": 159,
   "metadata": {},
   "outputs": [
    {
     "data": {
      "text/html": [
       "<strong id=\"g_k_to_l\">g_k_to_l:</strong> <a class=\"ProveItLink\" href=\"../__pv_it/common/ba4741ada5da882fa477da2c1dc59ac5111636d60/common_expr.ipynb\"><img src=\"data:image/png;base64,iVBORw0KGgoAAAANSUhEUgAAANgAAAAVBAMAAADWeD20AAAAMFBMVEX///8AAAAAAAAAAAAAAAAA\n",
       "AAAAAAAAAAAAAAAAAAAAAAAAAAAAAAAAAAAAAAAAAAAv3aB7AAAAD3RSTlMAVIl2ImbN77sQqzJE\n",
       "md23+iBgAAAACXBIWXMAAA7EAAAOxAGVKw4bAAACu0lEQVRIx41WTWgTQRT+8p/NJjV6ULzYguBB\n",
       "KESNiAchIFIPIjmJIKUB8eBB6NGKlEI99bQglOIlAZHiyZw8eDCBHgRPRWi9qEQERdTYYFoI9eCb\n",
       "mZ2d3X3T2gcz8zLft/vevPf2TYBAapElIra9/YGIpINJS6qs1jVO1hCXtQMZOyOmYiW0cwRYmRdv\n",
       "rjOyhqLifreSuSQmkPzdxnmz4zRouie0u3GygcLyZHNkI1tkmcYMkPWCnZLwcSC06TjZQDIc+jCp\n",
       "kY1skQ0am0BmPdjJifeMpObFyAaSQamEjTGyRWZpfKExF+wcpZEU28jG82Agbiz7/6QlKAvpXVLu\n",
       "iPSfu0LzO/FkKzHpIdkylRGDuLEQ2WLmZJV8KU1QCLfo52miN9L3fbPN+uGpOjINTWYQN2bIFjmF\n",
       "qQV1+AKtuAGMe/hD2mca49fKL2tIBBFjEDdmyJaDjXCIyGP0lebEQ8eAB3CHpD2k8f6W/H62NJtB\n",
       "KPX73+b7/VZgzJC55FrokIO5LuSKDtwBUrP+G79+bIvC085yiJ+suM/JOmVcgDImVrxBZoh8S8XK\n",
       "GRRF0SR6PplDljD29jY2U8MSVBiXHFJOiDppiswv0stHziBFi0imADlkKRBNjoknu4azTUueHthO\n",
       "knITzhAvPFWXhYazm1SliiZVGYcixpIin4a84yuhX7WC/jr+Plaf0Nuzn8Sjr8mFMi5dpGN3xdmp\n",
       "y3IobKywuvMsTP4llHU99cnL4tNJEWSXpmnh00/oHjumCwDX5XwcFihyMkaOsGQHyMp2+MO/1Xp4\n",
       "5bky9aZNbsiZXOFQpBFHyTGhmLvP0WmHOjv181VvWbn6SF+rC/JaoU0GWe7ggBwTylFhzrkt9bzq\n",
       "BldFXj4oeMWnKSgFC8TFkGNSkSnrqvtwgbmc9t2rWvyv7GWseqC/BZelRzX8A7UAyvFV6NZoAAAA\n",
       "AElFTkSuQmCC\n",
       "\" style=\"display:inline;vertical-align:middle;\" /></a><br>"
      ],
      "text/plain": [
       "<IPython.core.display.HTML object>"
      ]
     },
     "metadata": {},
     "output_type": "display_data"
    }
   ],
   "source": [
    "g_k_to_l = ExprRange(x, gx, k, l)"
   ]
  },
  {
   "cell_type": "code",
   "execution_count": 160,
   "metadata": {},
   "outputs": [
    {
     "data": {
      "text/html": [
       "<strong id=\"Q__b_1_to_j\">Q__b_1_to_j:</strong> <a class=\"ProveItLink\" href=\"../__pv_it/common/ce93228f195e2de336a01c57f6c6d5270f39878b0/common_expr.ipynb\"><img src=\"data:image/png;base64,iVBORw0KGgoAAAANSUhEUgAAAI4AAAAWBAMAAADk5rkVAAAAMFBMVEX///8AAAAAAAAAAAAAAAAA\n",
       "AAAAAAAAAAAAAAAAAAAAAAAAAAAAAAAAAAAAAAAAAAAv3aB7AAAAD3RSTlMAIomZq2bNMhC7791E\n",
       "VHYkqjbgAAAACXBIWXMAAA7EAAAOxAGVKw4bAAACQElEQVQ4y6VUTWgTURD+kq3dlybZ7sVDLnZp\n",
       "Si89uAiWomiKWOjFuiD4cwuoICgYUBC8dBEV7MFUvXmySKEgWNFDpS2Ys5fmVEQP7kGPFizYhmKI\n",
       "8+Zt9m1akkAc2PdmZr/59s28mQVikkBvsj/uV488mYDZ8sNTbGYdPHkTey1evuscH6F/ymW0hL6i\n",
       "VB7TczWO63e7HKSJ7vcpep6U19I6Tk89DhusduFpog/RB29K5bxcXlGmtThsw+9Slwi9BGNX7kdL\n",
       "VB5KLtlSkbEux9Ho6xiSaaFQAQyHEp35Ecvl2ta5jjwaPYICa7dt8npA+Yb4re9rxy/bnXgU2iTt\n",
       "Ij7JGog9WtLE+N3HWzwqKli2hoHgwch0Wx5GI001+Yo9rvcfWgYot3Fg29wK0zaKGHRcnGzLI9FK\n",
       "m8Wa3OaKIc97ZOrIhjxpBxvVvxgqteNhNMtnuvFMFSfsMK86jFrEQ+1T8C934GH001OkfcNs9dLh\n",
       "5IL0pmhKdjHnMY+QPCWxqG5fHKBgD6PdTdKuwFoIkme535KTwBRegHnKlGmfl6I+NT8qS+xgn8Jo\n",
       "4edJOwbcfT5WgTy6SeEP857iSVO0OCMnJecrCx9k7m5TkR5GUw8C65xQxeI2WQnPzPX50vy3uAlb\n",
       "W1q0h1oowRVNTW6y40KcxwmN3L07vra0RB6TxtLwuE8aPGNIqeZNjG4HEEEIW240oC1d58hjUVlz\n",
       "inFVTYmY1zirJco6cBztkeP0rPXlkR7+qbfuE6mN/5bTE7z9A+p+kIbvsE+rAAAAAElFTkSuQmCC\n",
       "\" style=\"display:inline;vertical-align:middle;\" /></a><br>"
      ],
      "text/plain": [
       "<IPython.core.display.HTML object>"
      ]
     },
     "metadata": {},
     "output_type": "display_data"
    }
   ],
   "source": [
    "Q__b_1_to_j = Function(Q, b_1_to_j)"
   ]
  },
  {
   "cell_type": "code",
   "execution_count": 161,
   "metadata": {},
   "outputs": [
    {
     "data": {
      "text/html": [
       "<strong id=\"Pk_1_to_n\">Pk_1_to_n:</strong> <a class=\"ProveItLink\" href=\"../__pv_it/common/51509fa89b282ec756cbec973bb5118f941e47ac0/common_expr.ipynb\"><img src=\"data:image/png;base64,iVBORw0KGgoAAAANSUhEUgAAAMkAAAAVBAMAAAAeFNdiAAAAMFBMVEX///8AAAAAAAAAAAAAAAAA\n",
       "AAAAAAAAAAAAAAAAAAAAAAAAAAAAAAAAAAAAAAAAAAAv3aB7AAAAD3RSTlMAdrurzZkQ7zJUiSLd\n",
       "ZkQEbk8lAAAACXBIWXMAAA7EAAAOxAGVKw4bAAACqElEQVRIx41Vz2sTQRT+tiabbDa/KF5EJCkV\n",
       "PHiItNiDCg2K3qSlEA+isP64m1O92f0DCu1BLBShC96KYuyxFBRBsSC2iB68SHry4iHGIqVC4pvZ\n",
       "mdnZ7mbNg5l5m3zffDNv3rwBdGvx3kas2TpmCLMRTzCW+VAsx7JO+MPesCoCLwij/fGJqw7zVqkt\n",
       "kndKE651J0/fYJ7lwW5cdmHsJk0dwouffMI+MDJPo1mHeX6GVFJOQCvVgTPs+z6wgVwPuJa4Ax0v\n",
       "jBOyv0iYGtJMtEKIwmzAWqLwrbEQ3gYuAg+Br4kqOl4YJxgH1A7JyUCoYD5gVVxqbPNNYMHBdAsZ\n",
       "J0lFxwvjhJEONVLCY6VyPWDVWCOmRZG4BEy7SCUejI4Xxgmlqr9P3FQqzwJW1w8p0v5h7gC5c0kq\n",
       "On5vanO0LAiksLkNuQOu8kWRiGE/X5YL4hMU6gkiIbw3Xjb/CkLlwvp3jthWKitBZv5ef9FmTp7f\n",
       "pTwty2omZbKGL7bfwj4QhJpEPFIqS4rFDs0/Qs6dY8vtJKjoeNPswfojCPtRlR+h9A9UCizCxeZ/\n",
       "rovCWx0cq/uE7KFEBBF7GqS/vME8YquwW7DeJF0XHU8SpV2HE4yeRIwplc/M49ei0pahoGTJejAc\n",
       "FKqsTkQFoviMhzXH44SUCjPP35ctkdMmj+SM/JOl41ajcUvk9IO6QCgnBv/axfGCywjpWleW4EVq\n",
       "kwtXKAU/sc+PtLi5/phMUdr2Tr9PU+XZcvPvqXvHnFnhxOB/Ave+CYKyvCtfBh55K1xJPkhni/dP\n",
       "IhEbhBcEaapI8rKJXHgSVST9MuhFVAbhtbrJ7awYN3h/58hNEG+ezQ4fZvSlG4AXhMDuhtSOzGNW\n",
       "dbYRzbEB+EBOqvpAI/5pf+UPJ4d9kQWeEf4BHWS1lOLCzLQAAAAASUVORK5CYII=\n",
       "\" style=\"display:inline;vertical-align:middle;\" /></a><br>"
      ],
      "text/plain": [
       "<IPython.core.display.HTML object>"
      ]
     },
     "metadata": {},
     "output_type": "display_data"
    }
   ],
   "source": [
    "Pk_1_to_n = ExprRange(k, Pk, one, n)"
   ]
  },
  {
   "cell_type": "code",
   "execution_count": 162,
   "metadata": {},
   "outputs": [
    {
     "data": {
      "text/html": [
       "<strong id=\"Pk_a1_to_an\">Pk_a1_to_an:</strong> <a class=\"ProveItLink\" href=\"../__pv_it/common/c30660ee70bb3d6394a6b1b8be10e345ee1393e90/common_expr.ipynb\"><img src=\"data:image/png;base64,iVBORw0KGgoAAAANSUhEUgAAAOcAAAAVBAMAAABPgOQBAAAAMFBMVEX///8AAAAAAAAAAAAAAAAA\n",
       "AAAAAAAAAAAAAAAAAAAAAAAAAAAAAAAAAAAAAAAAAAAv3aB7AAAAD3RSTlMAdrurzZkQ7zJUiSLd\n",
       "ZkQEbk8lAAAACXBIWXMAAA7EAAAOxAGVKw4bAAAC5UlEQVRIx42WTWgTQRSAX2J2k+3mD1HQVkmC\n",
       "ooKHNNZTT7noTRoEexCL8Qc8SYKHIoiS3gQL5iAqGjClFwkKqUUP1UMvlSoiQfSq8ZTrNopoD8Y3\n",
       "OzO7s53M2IHZfZOZb96bN++9LIDY2r5ow9BmD1+tbzZoqFDdl5PpofxeQf6+XaUixKidgwPHTpSJ\n",
       "9Eic3C8Yk+9PHJwmktUUbezoNCkgTv0ECM/i2yyKk5GyL6dw5jAZXw7se1J7PgVEqdgGGoMdjIDl\n",
       "iZIv30VfPyH+ngngX7RKFRClQr+xb6IQDU7O+mKmhp04qRpYES3rlCogSoUd7KgY7gUnT/linnTc\n",
       "wwpcAES0l6qAKJXKUlfAWRLdk2M8bBf9dX16CWAQw5cXltjPI+M6pQqIUqhw5R0/Wq8d/sUmP3s4\n",
       "svazOjMyeQPyzK2JokanCqJUZrL11R2hZvMmGKtguvoe+FH+o/W8S4Q4bnKlA+fAbE3gHlZVlzIS\n",
       "xJpL5fnoFrrCgXgT5va50efx5NZpDOAu5wHeg0Fsg5ijUSpD3AUOTVNPaTQLFVzTIMNeIOM8/hqY\n",
       "fyHVtTH0ktX/pGkQ4rUOqdgmH6F7K2n4Bkxpw884XlLQU+YGJBxIlIlSa1WXpjI0M7cbKBXyTMih\n",
       "0joct9pU3yfycG8/0+UuS4P5B3YUH2MMIprIkjom61NAV3udaJtSEe9iFskCa81ghyQZZLq+nxKj\n",
       "PQeNEhar+TJLhkqRLfMEFfRqF6QoZeT7PDHncX3h6fIepvQjeXzAVacHOR4DeLxLo3cKNbAPEceR\n",
       "w8Tf4mONCCUmKKGCGyfxruiVeI1LRKntXpgVrHTrXHgJrwHeuOJ9yb0q6DqciXFKLvENr/yPwNAS\n",
       "bx+5Pc0reVNSqoIcWH8o1f+j7L0ytQDwwhUvbEk+9r8fHQwcsEkcgSn/2yug5DiMdhjlt4uyBVt2\n",
       "NLPSZiE5enWQZ4L3LSOsDg3/AloS5LHtfq6IEKH+AcW30aJgW9KyAAAAAElFTkSuQmCC\n",
       "\" style=\"display:inline;vertical-align:middle;\" /></a><br>"
      ],
      "text/plain": [
       "<IPython.core.display.HTML object>"
      ]
     },
     "metadata": {},
     "output_type": "display_data"
    }
   ],
   "source": [
    "Pk_a1_to_an = ExprRange(k, Function(P, IndexedVar(a, k)), one, n)"
   ]
  },
  {
   "cell_type": "code",
   "execution_count": 163,
   "metadata": {},
   "outputs": [
    {
     "data": {
      "text/html": [
       "<strong id=\"Qk_a1_to_an\">Qk_a1_to_an:</strong> <a class=\"ProveItLink\" href=\"../__pv_it/common/1396d8649fe96d70a72ff3026c47f1405dbc82590/common_expr.ipynb\"><img src=\"data:image/png;base64,iVBORw0KGgoAAAANSUhEUgAAAOYAAAAVBAMAAACgQo8/AAAAMFBMVEX///8AAAAAAAAAAAAAAAAA\n",
       "AAAAAAAAAAAAAAAAAAAAAAAAAAAAAAAAAAAAAAAAAAAv3aB7AAAAD3RSTlMAIomZq2bNMhC7791E\n",
       "VHYkqjbgAAAACXBIWXMAAA7EAAAOxAGVKw4bAAADLklEQVRIx42WQWgTQRSG32abZpNN4iIVLEJb\n",
       "aq1gQZeCFz2kiBa91ELBKgjNRVQ8uEXBQ5EW0YI9NFE8SjVIRUGx2INiK+bgqaBED0Xay1YQQbBE\n",
       "Qa2lNb43M7udmJ3FOcy+tzvf/DNv3rwEQGqaZFsQ2Kzg0eHNAjX1VbLfBtLp0oaddP9TUoYEpW1v\n",
       "PcTcVIs8sFdyNne2cfe9PNencKlgiFPtDtRlyRit+nZmw4ycBugmw8jKI+pHwiQVEKNG82jcI29v\n",
       "1bc+3zLOYpewsdPlzUPUDpFUQYw6R8ZR6u5WfUv4u6ifwq6uTO+q530QoqmEkNJ/0XOPg8f5Twz8\n",
       "5WUcChWNm6+mT4VoKiGkmvNsRBFjQCnUsLvJO48uL7t/U6+vYddJ7oElL2Hb1JJqCKkMS+TzFt9Y\n",
       "sgB3REyj3rb1dbbtb2Jjc1Z8RXw5ptZUQ0i9IgljFTsT1cd6YT/ANZJLecdrstE5cl/i0EnQp+BK\n",
       "22F0F9SaQZBoC7DK9vSDzhrjmwF4CrFl+h4rizGbmPgAHe8j3EAZzBawaWkwrNYMgkQbhhl6jGWF\n",
       "5kMw8AhSpJn090mecR84nshDrghr0Iw5MheyzwBItDm8JckS7LN4bI0/EC0LzZQXDEz4N6AXgIcp\n",
       "58IAwHGmuajWDIL6+pfpvi7CcKl/S4R9i7tgrGNJesflopTQBgV5PTrYu4vV6QnES9CdQqcD3RP0\n",
       "rrYYKaCtJyehwKh0wY0cHPEuxwQs2jbXZFcnR0H/0gQsZdjliLupaR3nfC5ugfFTDGOG7wVA2ngW\n",
       "Vjh18WZHEegCx1Dp6sfBHodrmnQAJk0dO9I6CzHCh3DWnp0NnwEaaZmz9G4GLZNiNg2iU0F1LssR\n",
       "RsWLaRaEZ15wmOY2Zn7gb27DEssMx7vytmaBxk48VRtcBZRwdNsRVLxrvrqqM01e8UWG3+KF0a/q\n",
       "jZcujIjiHalNIAXUDOZlR1B6hdVciIvfc639uwsaq4mGqFiZCl/sDYE/qVRQmJnjtTmkgF5DeodH\n",
       "xV7wH3IjL4F8AWnhDT3mz+vy3Hyu2n8LoZC/AtGaJHspuHRLCmnrP/+byBBRfwGJ6+qd5AjzzAAA\n",
       "AABJRU5ErkJggg==\n",
       "\" style=\"display:inline;vertical-align:middle;\" /></a><br>"
      ],
      "text/plain": [
       "<IPython.core.display.HTML object>"
      ]
     },
     "metadata": {},
     "output_type": "display_data"
    }
   ],
   "source": [
    "Qk_a1_to_an = ExprRange(k, Function(Q, IndexedVar(a, k)), one, n)"
   ]
  },
  {
   "cell_type": "code",
   "execution_count": 164,
   "metadata": {},
   "outputs": [
    {
     "data": {
      "text/html": [
       "<strong id=\"Qk_implies_Pk_a1_to_an\">Qk_implies_Pk_a1_to_an:</strong> <a class=\"ProveItLink\" href=\"../__pv_it/common/3e130d0014fb615c989a17c222246754c0fe9d0d0/common_expr.ipynb\"><img src=\"data:image/png;base64,iVBORw0KGgoAAAANSUhEUgAAAiEAAAAVBAMAAABiTSMmAAAAMFBMVEX///8AAAAAAAAAAAAAAAAA\n",
       "AAAAAAAAAAAAAAAAAAAAAAAAAAAAAAAAAAAAAAAAAAAv3aB7AAAAD3RSTlMAInZUiRDNmWbv3US7\n",
       "qzJazP2FAAAACXBIWXMAAA7EAAAOxAGVKw4bAAAEv0lEQVRYw5VYXWgUVxQ+k8lkdyebdQjqgyju\n",
       "WqnVB41gheahDSLFCimLFLFg2QUr+CC6DykNRci+2Dwo1VAsgqUuqBUUpKRPeRCSgIVS2khofVJY\n",
       "9aFQSrMafx60Tc+9c+/cmbl3zs5cmLv3zH7zfeec+zdzAcCDcPES2qZixbAeJD7smZ8yFo+ipeGk\n",
       "D3QASqpnKHw7Yk13IXwjhp1OIopY/WWaVXNhOj08ZmUJQEntYtXqsdEmBFZA3zR5sPD6wU+fsZY9\n",
       "EsOG8QTtW0DSai4Y3UgjlCmAQMqpo9F7AuAeu8stVY6aXFiFmJ+r2DioYRWeou2rUrQGF44SCSH9\n",
       "zxSAlMqxrBzHdqEBvhUqkybCJRz177GRP65hFZ6izTcoWoMLk0RGSP8zBSClCqzTWlgNdMC3QqWg\n",
       "evNO0NrRxouNt/MaVuFJ2gtA0BpcKFSTM0IKZQpASu3G5kSbjbz/sNodxfSplP8dtBbYhU/YdQ2r\n",
       "8CTtMSBoDS70EQsJKZQpACk1hnvQaz78XmE1xrak3ytyN+i9q4Z6sAohuvSUPcDubNgzGMIqPEk7\n",
       "CgStwYWQG1ohhTIFIKWwv3LLPENPRO/NeMXnkoVlMXeDl5fiHpJZ+4dESvunYKGqsPl6aBgk034J\n",
       "BK3BhXw9OSOkUKYApNQVAJcT1NisQsu5CLkWONxrOzTT7CNik/p3774fWMNF1o+b8AXAobrAKnwC\n",
       "7Uejf6D5DhC0MWyUVi8JQpI9XQAKjNcl3I34Y+fYlEMr1wF3BB5t4+nshLQPXuI/RXmvgLQTAFeh\n",
       "tKklsAqfQNvg+ktA0MawUVq9JAjJ8ZAqgBAYL0S5LCDnG8FfmIUaQof562UoxdanXrCbB4TfgoPT\n",
       "124JrMIn0L6CjbikzQBBG8NGaY0ZMfov3o/TBaDAeF3h+9aPkJsSY7BWhnMgMsJDFdPwe/GRsCQ7\n",
       "AAed8xTyHQFjld0KDWYT7Wke5TAQtDFslNY4a0xCk19taqQOID/+aIuKYB5HynL+YfMDjkerNgT3\n",
       "bM/3Oj+rvkZkc4fsgGIZnGUYqO/0dRmW4x1BZKSF/WieBYI2hg1o9XcSQmjNmYswlTqAQzPNghdI\n",
       "sZ1w6yDwVYzvi8WyfT0n+1G9+K+VjZPhzWoehhsN0RMjAl+riw3WRFu6JvbIRNoYVtI6LyQ1q5Rl\n",
       "FrIO1OF56gDWvAmrqoHUX2xJub/3JpQYCC1n8cMN20VG3GBCwm/i99TKvFyIMA+fbH642PYzwrAc\n",
       "717ziYy061lX3wSCNoYNaG+g5bKZwKvrXYQGynwJSRnAIl/ahJTb5v/+AhWegrYk4BlZRx413Aq2\n",
       "rZbA+vi3FVGc1mpYHlgtijaKVbS2Pm0IoUI712inDuA7+LwUSInPrl/9V1r1EcYzMk6eLkxGMjIe\n",
       "4EcgkXb9P39Wtc+xaIliFW2vDiWENoL7uJ02AKsDt95VUnP85sSKn905AVp9cg8iZ0nCoki79f6z\n",
       "Msf6eKcMibSXV1YwVPoYJ4JVtAf0lZUQug09+1IH0H8XNjeV1GF/9n7t/3nY9ETS0cRsDOvje0JE\n",
       "Rto5OiOaCz6tfvLWVShTAErKikhFrEqXQ7nBGLaSRBSxerqcfmouVNLDY1aWAKTU//qLENMl8o0V\n",
       "AAAAAElFTkSuQmCC\n",
       "\" style=\"display:inline;vertical-align:middle;\" /></a><br>"
      ],
      "text/plain": [
       "<IPython.core.display.HTML object>"
      ]
     },
     "metadata": {},
     "output_type": "display_data"
    }
   ],
   "source": [
    "Qk_implies_Pk_a1_to_an = ExprRange(k, Implies( Function(Q, IndexedVar(a, k)), Function(P, IndexedVar(a, k))), one, n)"
   ]
  },
  {
   "cell_type": "code",
   "execution_count": 165,
   "metadata": {},
   "outputs": [
    {
     "data": {
      "text/html": [
       "<strong id=\"xk_over_y_1_to_n\">xk_over_y_1_to_n:</strong> <a class=\"ProveItLink\" href=\"../__pv_it/common/421b8a2a73582e48e75983c1edf7736f67d95a260/common_expr.ipynb\"><img src=\"data:image/png;base64,iVBORw0KGgoAAAANSUhEUgAAAIQAAAApBAMAAAAG6JykAAAAMFBMVEX///8AAAAAAAAAAAAAAAAA\n",
       "AAAAAAAAAAAAAAAAAAAAAAAAAAAAAAAAAAAAAAAAAAAv3aB7AAAAD3RSTlMAEHarMolUmd1mIs3v\n",
       "RLtmgJDEAAAACXBIWXMAAA7EAAAOxAGVKw4bAAAB/UlEQVRIx2NgEFIWCU1gQAaYIpgARU0BkxF7\n",
       "A4o0pggmQFbDuYDzI/MEBskNcFmICGOosQBuE6C6IICFgR2om0UJYS1EhJ0Bn0sgauCARwFIsDWg\n",
       "ifBf4PqCzydgXTBwfwGjAKoRIBFOAfxGgNVUOqkDmXIXbBhYUVwBFWFgxeMRiBrJOxN4FjAw5DvW\n",
       "MFxDMQIqwuCBJzghahZqM/ADFYkrsVUmoBgBFeF6iMcbUDVGDHcQYmwYrl7OsIqBEDjCUM6C2wiu\n",
       "Jy6FhEzg+sDQkgLnRH9VQIu0//8/EDKC14BBdQLDKKAu+I8AOEXw6vo/GH2FkbEYiVCDquE3uoj8\n",
       "BigBloIz8IAOdCs4GkFEAZBohzE68DuDDUM6kQg1KIAVQySACDWoFQxG6CgQVoMKMDQwEaGGSkCo\n",
       "koHRgIAIlhSgPoFBGB5kOQycqCUUpgiWoGc7wDAfVrklVDAwP0Cp7jBEsAA3YIVpB0/Eh1CrNywi\n",
       "2DIDUMUheCn6kcHfAbVcxRDBViUKsMCrTGAlrYMqiymCBVQzMB2AsfkMGB6jymKKYAGPQcpgdhrw\n",
       "/kRzBYYIFlDMcB9eiTCaqv9Ci3MMESxAOKh+AVIcb8CI9Q1EpMloJJZMArqcDKEmH9ASxmNwThOD\n",
       "KZo0pggm4FBgRpQEmeoX0KQxRbAUT5NqIQwABVaWBkm46v8AAAAASUVORK5CYII=\n",
       "\" style=\"display:inline;vertical-align:middle;\" /></a><br>"
      ],
      "text/plain": [
       "<IPython.core.display.HTML object>"
      ]
     },
     "metadata": {},
     "output_type": "display_data"
    }
   ],
   "source": [
    "xk_over_y_1_to_n = ExprRange(k, frac(IndexedVar(x, k), y), one, n)"
   ]
  },
  {
   "cell_type": "code",
   "execution_count": 166,
   "metadata": {},
   "outputs": [
    {
     "data": {
      "text/html": [
       "<strong id=\"i_to_j_len\">i_to_j_len:</strong> <a class=\"ProveItLink\" href=\"../__pv_it/common/e20dc1a4e2bdb53debb76c564b074a43b60103970/common_expr.ipynb\"><img src=\"data:image/png;base64,iVBORw0KGgoAAAANSUhEUgAAAE0AAAASBAMAAADs/06hAAAAMFBMVEX///8AAAAAAAAAAAAAAAAA\n",
       "AAAAAAAAAAAAAAAAAAAAAAAAAAAAAAAAAAAAAAAAAAAv3aB7AAAAD3RSTlMAMrsQds2rme9mIlTd\n",
       "iUQmv6lAAAAACXBIWXMAAA7EAAAOxAGVKw4bAAAAtklEQVQoz2NgYGBgVGZABe5ofBkDMMUSgCZ+\n",
       "FoXHnB5vwIAP8E2AMvzxq+N2IEudiRuqNLP7BKzqCjgmoKjj5WvApo5lAf8GFHXS7AHY1DEz7AdR\n",
       "pmdA4CCQZcABkmc/c+ZEz5kzCUj+qEFz/34D7P49i6YujBmrOq5/aP79x4tVHecHVHWMH1aiqbu/\n",
       "AESyKaDZm4kWfmn9YSARDgdC8QE2bcN8A0LpAATkN5xmIAawuz8gRhkAjmwsmD3Lh1sAAAAASUVO\n",
       "RK5CYII=\n",
       "\" style=\"display:inline;vertical-align:middle;\" /></a><br>"
      ],
      "text/plain": [
       "<IPython.core.display.HTML object>"
      ]
     },
     "metadata": {},
     "output_type": "display_data"
    }
   ],
   "source": [
    "i_to_j_len = Add(j, Neg(i), one)"
   ]
  },
  {
   "cell_type": "code",
   "execution_count": 167,
   "metadata": {},
   "outputs": [
    {
     "data": {
      "text/html": [
       "<strong id=\"j_to_k_len\">j_to_k_len:</strong> <a class=\"ProveItLink\" href=\"../__pv_it/common/beb34a07418dd71ea653992286ade2967423fbce0/common_expr.ipynb\"><img src=\"data:image/png;base64,iVBORw0KGgoAAAANSUhEUgAAAE8AAAASBAMAAADoCp6cAAAAMFBMVEX///8AAAAAAAAAAAAAAAAA\n",
       "AAAAAAAAAAAAAAAAAAAAAAAAAAAAAAAAAAAAAAAAAAAv3aB7AAAAD3RSTlMAELvv3c2ZVESJq2Yi\n",
       "MnY6gD36AAAACXBIWXMAAA7EAAAOxAGVKw4bAAAA1ElEQVQoz2NgVHZgQAe8imgCVwSABGsChkK+\n",
       "ABQu47J4kEL+AgZcgGMDlPEepLBfAKdC9gfICiczEKkwiqEyEVVe7hU2hYy/2WusURUmMG/AopD9\n",
       "TztvDKqfD8D8h6KQzfoCmC3qAgK+oNBgqAc5ic3FxdnExWUBTCFLWC6GJ1KwuVG+oP8CukJPbAr3\n",
       "C8gXPEBVx/MDm8KlDPIXJqAq5P6ArnD+AQYGdQa+PLS44VJAU7jKPmoDtghhfoBuIlbAVbBfAD1R\n",
       "YAX3C9wZiAJszxqwCQMAAvc7QRqSwiAAAAAASUVORK5CYII=\n",
       "\" style=\"display:inline;vertical-align:middle;\" /></a><br>"
      ],
      "text/plain": [
       "<IPython.core.display.HTML object>"
      ]
     },
     "metadata": {},
     "output_type": "display_data"
    }
   ],
   "source": [
    "j_to_k_len = Add(k, Neg(j), one)"
   ]
  },
  {
   "cell_type": "code",
   "execution_count": 168,
   "metadata": {},
   "outputs": [
    {
     "data": {
      "text/html": [
       "<strong id=\"k_to_l_len\">k_to_l_len:</strong> <a class=\"ProveItLink\" href=\"../__pv_it/common/b12c7993a6abfb69d73f06e9f8593a4477cc6ac20/common_expr.ipynb\"><img src=\"data:image/png;base64,iVBORw0KGgoAAAANSUhEUgAAAE4AAAAQBAMAAABKAFSpAAAAMFBMVEX///8AAAAAAAAAAAAAAAAA\n",
       "AAAAAAAAAAAAAAAAAAAAAAAAAAAAAAAAAAAAAAAAAAAv3aB7AAAAD3RSTlMAid0yZpnNdiKru+8Q\n",
       "RFSc85eqAAAACXBIWXMAAA7EAAAOxAGVKw4bAAAAyklEQVQoz2NgEPrMgAJObWJAB8w6QILlA5po\n",
       "Krqyk2F/gCRrAprwPxiD1wHKYAepYypAVcb7B8biK0BW12+Aqo5xA3Z1/mjWsk3gEz2ARd0sNHXn\n",
       "Hd51O2BRtx1N3fveB2YNmOqYf4BYx5RAQBnEjHYGy7EqKWlvUlKaAFPHvgHNPLVQA2z+4JpwAEUZ\n",
       "zz/ez9jU8TsIoKhj+cPzjx2bujuo4cyZwPOZEU0dI9APLIGozuN6wFBag6qOc/a3KQx4AF8BA1EA\n",
       "ng6AAADHfTf/Xj1PpgAAAABJRU5ErkJggg==\n",
       "\" style=\"display:inline;vertical-align:middle;\" /></a><br>"
      ],
      "text/plain": [
       "<IPython.core.display.HTML object>"
      ]
     },
     "metadata": {},
     "output_type": "display_data"
    }
   ],
   "source": [
    "k_to_l_len = Add(l, Neg(k), one)"
   ]
  },
  {
   "cell_type": "code",
   "execution_count": 169,
   "metadata": {},
   "outputs": [
    {
     "data": {
      "text/html": [
       "<strong id=\"tuple_len_incr_equiv\">tuple_len_incr_equiv:</strong> <a class=\"ProveItLink\" href=\"../__pv_it/common/b75e8cb17f27f37bebdbf52a38b389bfb326e99f0/common_expr.ipynb\"><img src=\"data:image/png;base64,iVBORw0KGgoAAAANSUhEUgAAAMMAAAAuBAMAAABni7DFAAAAMFBMVEX///8AAAAAAAAAAAAAAAAA\n",
       "AAAAAAAAAAAAAAAAAAAAAAAAAAAAAAAAAAAAAAAAAAAv3aB7AAAAD3RSTlMAIolEdjJUEM2ZZu/d\n",
       "u6v6CvZmAAAACXBIWXMAAA7EAAAOxAGVKw4bAAAC/0lEQVRYw+2WO2gUQRzGv3vtuPfIbRGwMTGg\n",
       "goWEFFZa5CKJpZyFhWBxSkCLFIukEMXcdoKFLFZyBHKdpDKSThEPwUhgkRPSWRjCoaJNNOJdF2dn\n",
       "9jHj3WyzU1j4L4ad+f47385zf7DgRwbpwxJKKU6w8qIGi7NCf8MWxlS63snHDpBvJ1ncSTuCIy4t\n",
       "HiRZtNJaVBu0WE+y2EhrMWvTomSrLQwnrcUZNltttYXpr/bkyXGhObM3V0vuVcp/NP8ZyO6qLXz7\n",
       "3HN8suPm81aln+jA8wk/BmRgNy0UndDC9FjsxhZlulj32lgF7gZTRl7A7OD29BelBc/P8qEafZRq\n",
       "MDbUoyjNAGvAGxTmO7zV3Ed5Cq7fiyJYfhimg+oUCvvJFq9ADujnBBalLpozOMDxusqC5wdBP2e2\n",
       "gVzCKOhEkV8o7scWzRqeAU/VFjw/dyk6Fms2f1mxFpUayG+MOddZFvEtGvhqWGwzkuH+6bbg+ctV\n",
       "m+nVOl08FLvqUfi7bQdLrsssmo5vamybQOEdr5IBhAdWsPyjS7x5rF1xg72vsCjQjlcuXO7VmUWZ\n",
       "9kt6pyYXgAmbV7HtT6cbPMCzw/ydIH3Pv4LKMwkXyNuwxqbzZnT+3IwlVKMwwgNE+nVBP5Z0R61L\n",
       "FtHNPnHlqi1Uo8hG6Y4r6K0ki0rwr8qc/klXPro5Xh8eQqhGsRztq54V65lukgXpCi15OSE//E5t\n",
       "pM6/c4TFAivHNfxY54T+/sc/GxZS45qS0nhbvpEe15SUxpUbGnBtNKX5l6ivEEcHro2itJUnfa6Y\n",
       "bR24JlHauXBsfa6UtOCaRGmLogVVbmnBNYnSJAuqPNaCaxKlSRZUeagF12JK+9uCKltacE2iNMmC\n",
       "KptacC2mtFXPe+l57yMLqmxqwbWcchRU2dKCazGlDU1Ux8eU9LgmU5q83F1M68A1mdJCi+wPrlzT\n",
       "gWsypQUWY98H35hSruvANYnSFsU8qhRdHbjWGnUNRvz2QQOuKSmNK/c14JqS0riSqaXHNTWlUeUP\n",
       "gLErU4nr+cEAAAAASUVORK5CYII=\n",
       "\" style=\"display:inline;vertical-align:middle;\" /></a><br>"
      ],
      "text/plain": [
       "<IPython.core.display.HTML object>"
      ]
     },
     "metadata": {},
     "output_type": "display_data"
    }
   ],
   "source": [
    "tuple_len_incr_equiv = Equals(Len([a_1_to_i, b]),\n",
    "                             Add(Len([a_1_to_i]), one)) \\\n",
    "    .with_wrap_after_operator()"
   ]
  },
  {
   "cell_type": "code",
   "execution_count": 170,
   "metadata": {},
   "outputs": [
    {
     "data": {
      "text/html": [
       "<strong id=\"concat_len_equiv\">concat_len_equiv:</strong> <a class=\"ProveItLink\" href=\"../__pv_it/common/c238e27b283fa9f27ded7dacd457c5cae68fed5f0/common_expr.ipynb\"><img src=\"data:image/png;base64,iVBORw0KGgoAAAANSUhEUgAAAZIAAAAuBAMAAADw04JzAAAAMFBMVEX///8AAAAAAAAAAAAAAAAA\n",
       "AAAAAAAAAAAAAAAAAAAAAAAAAAAAAAAAAAAAAAAAAAAv3aB7AAAAD3RSTlMAIolEdjJUEM2ZZu/d\n",
       "u6v6CvZmAAAACXBIWXMAAA7EAAAOxAGVKw4bAAAFtklEQVRo3u1ZXWgcVRQ++zezs7vZrD8goqmh\n",
       "VkSUmIfig0G6EasmiK6gIBjJtooGEswIUQKS7PqiNA9tjJXWWHQfFKJQE2lpIY24WKoW15JANQ+C\n",
       "LlKltVi2tM0WX+o992dm7sydzcoqzkMOzN0593z33vPdnzP33oUMUOE/rUvIkSpNzee7JWPDVa3c\n",
       "TtNo/t9i8jBNI1lfk1eUYK8IHxHOioS7vUx2tk7B2GySVOskSWwV+v1NsgwQU/86Vc/cyX2cWMKX\n",
       "fv6omOjF1pl0PYt9Nk57rwhx09fkFP3cHgKUwF4J/3ZE+LgL9bgoomBilFpncuQBrHyWa4lpXxOV\n",
       "+8XLE6YL7JXk86vCxzVRNy2iYJJsnUikTn8WhH7U34TygpOJE6yQbabwkdd0lD8KJkOtMwmXMdWs\n",
       "yTPlb/IymWpY9T0gfAwvWHVPqZnMYEj7tdcZQzZtuXGdcCvhE+dP4XgbuKrHHse14W/yMulq1NBn\n",
       "S+eEj/GqdpfJ4F1qJkiwJ9NWd8yIz+GXxuuQ4V8RajulFcfJPJ0k6ZyNdJu8TOYatnTZGohC6cVb\n",
       "eN1zFpMDFZRTjMnXJDQsglEGXdT5egkOgL75gi8bhoctQr8th2mKBKlopp2kwzbUbfIyGW44+FeA\n",
       "+wijN+SfyTD4sHpMDpHBr0GqE556jGd/CPAVGNRZn88HxdsyysIMqVuHUeLdoL8Je/EY9qLFZLAR\n",
       "E60G3Ed4/2P6OsgfNZPkMhSIYYRnfwH6JWjv5v2hCo0M71qWSTbeOPn8Td4x6Vk/llAm375Hh7eH\n",
       "PwomZOQKWZgHi4l+GRI1SJj+TBh+a1XoP4OYQjiadpcoTF4mI42YtFXF7NLXItSfEf4o1slp4lke\n",
       "zmoZCjCxDKSLO1h/eJcK5lD8Tdm6sB9mreLiDl0iyUEB9Jq8TBxgaS2ywWQhkviYqOtrUQ4/qB6T\n",
       "LmxIO2lQqvpVWm5kepruiqhaKILrheJDr5WZJlwMY/8lajxo+pgkJvdmnGCsXm6MBAzmL/ExXdSv\n",
       "hDl8Rs1kgBQ9c8em7WzQKqR3Jh988kwOQqtcTeEX4STwF8xheOzoimkvyxjO6fQySY4D+JmcTC58\n",
       "ubvkANPq7ca+sQMG+tiWh75HeN3H1UxSOaEiE80a55vhOqdqRRMrp/Aq1wy+YE7w6RAqW0C3SR4T\n",
       "OmpluVZLXsLkA/Zu+4hwWkTBxN7C0YVkFfnh6X0O1Y4m1tuQwbSX4/w78Qmk8/Om2JMqTfIO0t7A\n",
       "etsBEua16pvuPSnCaRHV+WSFa9fvIZ+6MSvSXrtWc6iW2DmTvUz7flwEmsxgHr9hHRbQY/JKh6tW\n",
       "a8WTEUytiv3aihPe4XfSmnBmuY5w3hNd1qN99LZofNno67aaVZq8suLTDsapRJ84mE844SteJtvZ\n",
       "PGruANqEsH1nNONrUhxrm7tEED4inBWJ5mBDNmRD/qFk/pei/4G0cmm3NVBM8NIuKl/T6D8pDljP\n",
       "uTYTMbIpipYCRIReiEmnPzxzKy6gHpXVyf146n8rQEycl3YR8d7uP+MsTLRO91LBEeelnZaV7srU\n",
       "p+qsk0nSDA6TIZWXd0OTTOIBWih49hqbdXm5G3bucy2nh6oqJuFqcJjghVhnj+yl/pe2Y9G1nGBR\n",
       "xSRRDA4TcmKI5ffLXmoX74u9IcN62TW5m4m2EBwmh/AKA28/jErlu6VKBaeLsci2y+P0/uUEvfjQ\n",
       "6jKGMYnVAsUEtLrc36ld73qjdVk1JpGFQM0uiFdNyctCfpvnDCM+nq7ZVQ4Ok9PoeXen5OW8Wci7\n",
       "D5H81sm94peDwwT/hxgMlSQvz0Ih59q/0KtWiUn4IvA/RQIiA+RJfyp7+SNE97o/3n+6mKTPX/2D\n",
       "zLnu4DBJ5RTfb4UcVmJuDdC+y/m/a8R37/F7oq7EzAbpfLLSBCa2llLujkPLQWIy0Qxo7zvK7LZA\n",
       "HX9bubTrDRCPvwFb46A4qkzBkgAAAABJRU5ErkJggg==\n",
       "\" style=\"display:inline;vertical-align:middle;\" /></a><br>"
      ],
      "text/plain": [
       "<IPython.core.display.HTML object>"
      ]
     },
     "metadata": {},
     "output_type": "display_data"
    }
   ],
   "source": [
    "concat_len_equiv = Equals(Len([a_1_to_i, f_j_to_k]),\n",
    "                          Add(i, k, Neg(j), one)) \\\n",
    "    .with_wrap_after_operator()"
   ]
  },
  {
   "cell_type": "code",
   "execution_count": 171,
   "metadata": {},
   "outputs": [
    {
     "data": {
      "text/html": [
       "<strong id=\"concat_len_simple_equiv\">concat_len_simple_equiv:</strong> <a class=\"ProveItLink\" href=\"../__pv_it/common/91d3272874e555b05a0dfc1f27012ac47bb607ff0/common_expr.ipynb\"><img src=\"data:image/png;base64,iVBORw0KGgoAAAANSUhEUgAAAW0AAAAuBAMAAAARlFVnAAAAMFBMVEX///8AAAAAAAAAAAAAAAAA\n",
       "AAAAAAAAAAAAAAAAAAAAAAAAAAAAAAAAAAAAAAAAAAAv3aB7AAAAD3RSTlMAIolEdjJUEM2ZZu/d\n",
       "u6v6CvZmAAAACXBIWXMAAA7EAAAOxAGVKw4bAAAFFUlEQVRo3u1YTWhcVRQ+b/5e3swkeYuCIEkN\n",
       "/qALibPoyiJOpBXjoo4LBbHSsRVaMNiHZCFKzawsBKzPn01K1CwEzaKm0tJCq2SwWCmM7RQC2dVR\n",
       "4k+1tcHUjLt477k/797318JkccEeeHfmvfudc777d+69B1ygYsFmSYo9S0XcUhS0G6N3H5ZPbhbt\n",
       "XB1/stWYOu5k2+1ZUtDbFKYa78JI74w/eJCWe8mz2wN4Wq1y7vWYE2vm3Rrk5tINSTRAfhnRTCOG\n",
       "9xu90878coqUdgPsq+8Rv32eUjf6Yp05GYbMGsDhdEsSTQg3GPpwAu+jvfMu7VumfUV75hnCuegr\n",
       "dace85iTnwDOAsynW5JoJvP8ieN9vHfej2MHl4DzhtNBVbYL3MmiBzdcKHlphgI07xCPPTG8C43e\n",
       "eT+M5QHJe1qZQk3gTq4B3KhBX+oED9BMKBo1orwduga23r9FjUI/j1XTier4L7++iotT8h6VVcU/\n",
       "L/rCCcAlwqyTYlZFT+4ChkaNKG/anOxX8KMyftvd/m4qbYa3ZVC9ieW05P1FAB2sin4jEYLgiqnD\n",
       "q6D90hxDowbydlooHXwrkwX81hzMArzJTdpnwGnC66O/JZpn+IwYFOsf/Dkveb8aQO+pAXdCStJz\n",
       "hdTlFKBz7mCdoVEj2t+lCsCnAN9CfkeTx9BVKI+AT6klCOIDKazizwnJe09Qd5CtrwotP6Z9vprG\n",
       "O0DbcNBjaNSI5/0N2CS0FjjvUhumKrDGGx8nDB9aTQrv7eEli7yLdKJmj996gbNWznJ0Nr6/yaDY\n",
       "N6G4GvCeqsICwOfJvBk+u0u893dC82QiwF4BOU/2guVKJ/GioHFEKRo1ovO7vwr2Ogw0XkaATXnX\n",
       "4feCi423o6YJL4afHPR4fYlN9CXJ+xgHEjnJWkYQ+RHIeVBsQ5JZDQ0WHVGKRo1of9MwswQTvo+8\n",
       "pxpUrXDBIX6+Z6/2v6D8wQLxd02wz2Q1VdgeTYtHXB4REci8MydDMzOzPMYlmFXROAMQjRpR3nnC\n",
       "9u0nnl2pIe8yIWuvPLB1JzlPeOwVLtCh8/kfaHkCv8Tr+WqC3eT5a/EICV/nBFAsWerk0sYGIVem\n",
       "bUwwq6JhgHYzRaNGzD7/nQwLFL5fbj4+mY3BaxA8RKC3uzVe/wn7UBbrwWpKoMO3GelkCMsEsyoa\n",
       "J9+Q0IjhPa/xlofa4ede8JTXIHhIeMPH+kLnHb7bieMUHrAQ+FpfPTggQXCKizeroAfqC+KAdTSB\n",
       "dz/f9qyH/iZLVG7wixsboLxKmZRRZcXF+vKy2AIviyZL4A/ikCydtFE13qyC3lM/z9FMI4a33Vav\n",
       "LKEbTHThV8P1xXGx3x/S+FPgZ++LRrZV/glmFbQzXuFopqHz3onlls26p1msTbm4SyR3MnZ7lhT0\n",
       "mML0jtyR/4e4aWkXc4VnaiL3marhvGmmZjz88SVPz9yYJ3YD9JsLylOhzI154ihJgUe1i7VvNO+S\n",
       "8v8Vrea00bwPJPKeNpo3uZfY43M6b3tHR8vcmCikVzPigi14O3BGz9wYKOSM+7zT0HmPwbqeuTFQ\n",
       "TpB7NN6HZluts63WRbxYF7p65sZM3pgW0tal09QzN2bOEzhih3iXR/TMjYGyRMLHWibEG7Mhx4zm\n",
       "PUqzhneHeC/wCGmw0EzNH6H4Dddpcc5o3uVazH55UmZujBX1+MTPVb8Wu6EDl4lyOfwhv45J3GHD\n",
       "7w2HIl8++jC2PYaJFX8hy7lGs/4PzFVby9JUzxIAAAAASUVORK5CYII=\n",
       "\" style=\"display:inline;vertical-align:middle;\" /></a><br>"
      ],
      "text/plain": [
       "<IPython.core.display.HTML object>"
      ]
     },
     "metadata": {},
     "output_type": "display_data"
    }
   ],
   "source": [
    "concat_len_simple_equiv = Equals(Len([a_1_to_i, f_1_to_j]),\n",
    "                                 Add(i, j)) \\\n",
    "    .with_wrap_after_operator()"
   ]
  },
  {
   "cell_type": "code",
   "execution_count": 172,
   "metadata": {},
   "outputs": [
    {
     "data": {
      "text/html": [
       "<strong id=\"iter_ext_equiv\">iter_ext_equiv:</strong> <a class=\"ProveItLink\" href=\"../__pv_it/common/226c0184f61890c345f1f28146fd1ebae476a5490/common_expr.ipynb\"><img src=\"data:image/png;base64,iVBORw0KGgoAAAANSUhEUgAAAUAAAAAuBAMAAACrN90HAAAAMFBMVEX///8AAAAAAAAAAAAAAAAA\n",
       "AAAAAAAAAAAAAAAAAAAAAAAAAAAAAAAAAAAAAAAAAAAv3aB7AAAAD3RSTlMAInZUiRDNmWbv3US7\n",
       "qzJazP2FAAAACXBIWXMAAA7EAAAOxAGVKw4bAAAEcklEQVRYw+1XTWhVRxQ+L+/nvtwXXx+uJAgm\n",
       "FRp3hlKFKOJbtBsh9OHCVYuBImQjjRIkVITgInahGCKCP4s+UCk+tQRXBgp9KbgsPOhChVaEriqF\n",
       "ROW5EcQzZ37uzL1zT5LN0IUDGW7mzPm+756ZO28+AGiAaQXqrYFUZLPDmdZgxhsb5A6MJ8+7qX/o\n",
       "mbXbn1wb2ZQ+m8NpD3Po7PYF9bNfYVdsYjcGA/NWOPqypSIDM6nMlxjZswE64UqO/1puqH4HiMqh\n",
       "y7bylOhLz69gf0w83gY4YcUn/x1XkbjpJj75HhkrLRZd4kqOz9zQt2f6IKlOsBAR6R88+Bj7OTV2\n",
       "wYpf+bVlRUR7pB/2YqQ6w6JL3MiuUU3/M9BXVBd4COp/o0Is6rGkLLU+2BHRPrcFwlUWXeIO2kPF\n",
       "EVugoBpkV2E/9UcodUqNVZI3LrWdSFbgNCvwiMXhFSioKuwmnBXdpRtPxErgJiuP4exST0erzx7M\n",
       "qMjROa/ASQ5c4hJH+dOeT6CgSuh8TVbgtS5cqYarWU0K9smIjjRXvAIX2Aq+NhwRXPMJFFSS7oeO\n",
       "aA8yELfovH0v+hi/138inF1MttyuFypSHz/jFTjB6ZO4xDEKb3wCBVVxkcO4SUnrtJeXAVqDmF9f\n",
       "N+HDoCJlWFLveV2/Jwlc48AlLnG0ikJP1OncvdHp9IxAQWXR5QmUn4IQCIeRtbaY2uUiUux7K7jC\n",
       "HoPthCNq+yooqGpsBWmJh3p6ieFkGTHaJvwH6Eil1/IJPMCBS1zJoc/51BK3NV3eHvydKkRJQ9iX\n",
       "35Vw13bFmlB4CXTk+HLTJ/AimLnO7wwkuJJj17L3I+kqutw2mSSLz72+vkOdN29pl78DHVkrzKcE\n",
       "ft3QR4iYe3zKepCdFkUcl9PnYOmVOsCiJifwZfIp1EWpn6KMWOB2WskuF5FtP6b24N8/ncS590DN\n",
       "jcWB+TOoh/hOgis5/koJ3Pbs7VNJFS9zAmNxjpyTz7+osWECEgKjnhtxKkglbpu5btsHCS5xLKUr\n",
       "aKiG2aMUf+2Lve/cSwL9ZuBehEOV8ez14VH2rlHK4uKyGVzk+LPaT18WDNUcf2Nbhfix+uUYkpfb\n",
       "Am3ao/h3/xg4kWzbCXpu6iPBOhlcWK2/ib13VkFV6PICv4HqmKIvdy01YiXOnwIn4ns9PTd1hxaF\n",
       "07jIcfqs/xxqMC+vX8JC3079qGfW9py7/EaGIsvhtNEcuo/tY/tftXDGvbBVT18IbNx9s1lPTwkh\n",
       "jfueLXp6kRDUuNuzN+XpMSGocbdnezy9gTaeHhPCGverrKc30MbTY0JY4z7NenpXIKmYDmzcJ1lP\n",
       "7wosyYSwxn2B9fSuQFKxENi4T7Ce3hVIKiYCG/e1/JANbTw9JoQ17iusp3crSCpWAhv3A6ynTy1x\n",
       "mxLCGveLrKdPfSRdSghr3GdZT2+gjafHhLDG/R7r6TV04ukxIahxl7NzPb0LPSwTghp3OTvX07vQ\n",
       "cyohpHHfuUVPTwkhjfvqFj09JQQ07r7ZrKfHhA8gsNdedIwYzAAAAABJRU5ErkJggg==\n",
       "\" style=\"display:inline;vertical-align:middle;\" /></a><br>"
      ],
      "text/plain": [
       "<IPython.core.display.HTML object>"
      ]
     },
     "metadata": {},
     "output_type": "display_data"
    }
   ],
   "source": [
    "iter_ext_equiv = Equals(ExprTuple(f_i_to_jp1),\n",
    "                        ExprTuple(f_i_to_j, f_jp1))\\\n",
    "    .with_wrap_after_operator()"
   ]
  },
  {
   "cell_type": "code",
   "execution_count": 173,
   "metadata": {},
   "outputs": [
    {
     "data": {
      "text/html": [
       "<strong id=\"partition_equiv\">partition_equiv:</strong> <a class=\"ProveItLink\" href=\"../__pv_it/common/8980b240e6e8f6e0ab68edbb6d5ed6d9416125c80/common_expr.ipynb\"><img src=\"data:image/png;base64,iVBORw0KGgoAAAANSUhEUgAAAfcAAAAuBAMAAADHHU1HAAAAMFBMVEX///8AAAAAAAAAAAAAAAAA\n",
       "AAAAAAAAAAAAAAAAAAAAAAAAAAAAAAAAAAAAAAAAAAAv3aB7AAAAD3RSTlMAInZUiRDNmWbv3US7\n",
       "qzJazP2FAAAACXBIWXMAAA7EAAAOxAGVKw4bAAAFNklEQVRo3u1ZTYgcRRR+szO9PT+ZSceLGgOZ\n",
       "VeLkIg7xBxKRzUERAkuaHHIKOCDBvQSjLG40BAYP5pKYJSGg68GBqIsTV5acDAhOhD0qAx6ioCIo\n",
       "gkHY0WW8BHatV93V9dPd1d0uqfRhH1Ttm3nfe1PfVnV1V38A4AA3J+hUi/wSCpDOHA5Pm2LEJtqq\n",
       "fyMBJVitmek3EJ4yxYw9Tfu5F5nfgomuGBcjst1xAfYnVA+yTyyisx+SUwya1cG+9MsV5n8McFKI\n",
       "yxEx8fZrhPykq60uZL+KnyeTU0yaTae58txq4AOcF+JyhK5d5j9JWJRPa6sL2ev4GeEJKSatQvuv\n",
       "Xe6Tv8LcyBG0YlMgD1e11Xl2bUy/uJqYYtKepf0RwScLU5hnORImP6utzrNLC9SdTUwxaXPYXVy8\n",
       "7ftWixAvDYOwEgmTn9EV59kwOSy+5HrwmdyQ96bhH+aXamSGyh0elyNh8u9qqwfZ8HL3qYe7Hpym\n",
       "2H1qw/tK/hp9+Nhg/m82IV5c4E8xciRM/qCuOM+G6Ufafzge/GBuZv5DymfEfLdCqDVG/AKXIzhh\n",
       "ny36E0bJr+mK82x46z3qriWlmCdf6gX+NGFU4zOvRMIzf1N7m+fZn87/Cj78Zm7I02W/Yxj4pyxC\n",
       "rxeElUiY/CFdcZ5trdfoJXCIpeTimv+G3oibzLfulsiGN8DHMoiIhMlfQC/8zKZml8fW+oQPv5Cb\n",
       "maf3nb0rzG+MHiKzchi3505ERCJ/1PFvY9a/DI8d/yRk1zvWRsmHz+WG/B3sprn/A7kfVXHM1U8i\n",
       "IiL5nz86Rb65jm6fTH0Vn1pptxSRvaMNrX3gwa/nhnwV96Fzgk9sN+2fgXBEmnl6M6PbQzG87qOz\n",
       "EV7o5YY8OWYUh68EPrUztCdrPxSRDjb8XFQK143ORrjdzc+Z9hZUVzuBT6dnQLcsMsFqJGx7aH8s\n",
       "vOFFZ+8JUvJhJ6DccgKf3qDoR9yb1UjUvw4t/HImJvuW5v94P6zQVP2pBJTI0cn0GwhPmbJt27Zt\n",
       "23YPzJxoUchSYuvgeBYOcw2KFpHox2Jytg6OZ3GDsTQkWgD85cpo+wV8KC7iIaqxmlRaA37wze+y\n",
       "iifIEJsx0QIeV9Azf+I8HKcz0kkqHQ8mz6NHV7KKJye9Zky0UI8IcOUrNzhH+PYlxJWOB9cdqCxk\n",
       "FU/Oe82UaOGZgPZVjAURfgBiSmvAlTHU/84qniBD0kyJFp7Nqu/3ip148unA9R7UN7KKJ8iQNFOi\n",
       "hfXoUEKXf1zGlUpfGh17IpJ8WjBUR1nFE2RIminRwob3ZfTOZrDITle6UeTTgmGtmVU8QYakmRIt\n",
       "puhOI6D30tc71Tae83a2o8inBcMyZBVPkCFppkQLtziW0d77vcoKvumlksDb/f4H/f4yRJXWgu0B\n",
       "ZBVPkCFppkQLsHsy+kjAh1CJvObTgi8CZBVPkCFphkQLsmYPy+hvga1k/vgkk08JJo99u7KKJ8iQ\n",
       "NEOihf8OX0Bf9oaFiMLdSPIpwb8D7MsqniBD0gyJFgCXQEQzDvSuWh6p5OXSWnBhaX6+p4xDHlCE\n",
       "eIIMSTMkWgD8hF2AZntQA6+w+kAhr5TWgqubm5sddRxLbCwx4gkyJM2YaHFZRtv+g9QXfFWKd68t\n",
       "gBPGETDcbUy0+L48ltDPT7bZIarevuSqBxv4/2D9OIAzPAOGRIvGOt2pOfrz42wjdtba1xJKZwJr\n",
       "x8GPwR5LM6LFG2dl9Duvs9EN7NZKQulMYP04IGBIWRaaqrhwz0SLSPQDca+ctgyOZzHltf8AHzdB\n",
       "YKAavL8AAAAASUVORK5CYII=\n",
       "\" style=\"display:inline;vertical-align:middle;\" /></a><br>"
      ],
      "text/plain": [
       "<IPython.core.display.HTML object>"
      ]
     },
     "metadata": {},
     "output_type": "display_data"
    }
   ],
   "source": [
    "partition_equiv = Equals(ExprTuple(f_i_to_k),\n",
    "                         ExprTuple(f_i_to_j, f_jp1_to_k))\\\n",
    "    .with_wrap_after_operator()"
   ]
  },
  {
   "cell_type": "code",
   "execution_count": 174,
   "metadata": {},
   "outputs": [
    {
     "data": {
      "text/html": [
       "<strong id=\"merge_equiv\">merge_equiv:</strong> <a class=\"ProveItLink\" href=\"../__pv_it/common/db7e96be6b8d9743befcbc9e2475464b5565acd90/common_expr.ipynb\"><img src=\"data:image/png;base64,iVBORw0KGgoAAAANSUhEUgAAAekAAAAuBAMAAAD+evwcAAAAMFBMVEX///8AAAAAAAAAAAAAAAAA\n",
       "AAAAAAAAAAAAAAAAAAAAAAAAAAAAAAAAAAAAAAAAAAAv3aB7AAAAD3RSTlMAInZUiRDNmWbv3US7\n",
       "qzJazP2FAAAACXBIWXMAAA7EAAAOxAGVKw4bAAAFrElEQVRo3u1ZS2hcVRg+M3Pv3DuPTIastAY6\n",
       "MWh05eALGpHMQhECxaGLrioZkGI3xSghRkUYXBgX1QwpBY0LB7WKE6shILQgOBG6LAy4aAtVCoKg\n",
       "CJk2TBECwfN+3HNy7nSRwxXyLw537vfN9///Pa97zw8AKANuKdxKNyLIsLc1K+/PLoNY7D4AQ3gp\n",
       "k3q6Kq4ncbtp+P+kWbZQGco79WFiM/c2TLfN4bKeZMqa+tO4XXgRNpkabKZAuinBwQt1iqTnI//8\n",
       "GyKPxfjFusTHP3WVzaFTa+jChilWugjUEA3Go/Z+uI2VI3H6DdR6v5+H7Ul0+RUApyX8+F9ViuRr\n",
       "6h+vvw6Vs3Wrd6JLfDyqsiXoNfTbhsn2yuIAqCEaTES9QpQjcQb4qeWeuwrbJXpvWcLP/1SXEGSX\n",
       "2cUTEAnnrd6JbsB6RmZL0E4chgcqE0kPIiEaTES9SJQjceZw+zN+FC12TzyYwgDICLIn5azBBat3\n",
       "opvjvy+YIOrDhqHhWpGzzlnHmBT1F1RZjfNZ3M5i3Qa9lxWzxmsriJ71GWvWs5IPoLIF5LViMS3r\n",
       "rHVii6hTe1RZjXMBNR+tXUcjCk5cfwrKeT2GhjcvzVPkxJIx6+M270QX+/Af7ilsCcr2Mi/V7ZiW\n",
       "tQjRYFLUYZ96VeMkz+Au62KvAB9uKLp2tMKQ2hVj1h9Y+/ou9xGAT1S2gOaaTz3YtGNa1mHD5lZE\n",
       "PdKlXrF60MHWA1/ijRyNA5CH694fAZTLiGl89DZFStVFY9bHrG8JWBf7mMDr0jETNPNQ9c+yHdOy\n",
       "zrRsfnnUIFehXtU4P8OKfbx6bABQR7RSn8MzgCI+WEVX73Q6n3Y6l0TW2zbvRBf7qGcGCluC3v4Y\n",
       "X9ow2EnfrqFOYllLIRqMRw22y1R5W8+azH7EAjMwlUIrsq4gJDMw9vWV+FWF+AjaCluCvn4Ld40N\n",
       "0/q60IpfRFHUjzNlNU48wos9NiLAWR86aHP4GmBItlc3ZT1t8050iQ/8kjNtgPydAh7RNkwf4W2b\n",
       "XxH1NZ8qTyvz+hf8VLBiEbb+rgeXCrQEkBxXAUPmNmqmrM8BzlXe3IDQJT6OblB2FAoH/k46BtNX\n",
       "sy5nKxaN+l+PKp9T3914RHg3KPUfoFvYPbyu7AKGbKeakaxfLrNdCXHnGtIFaagu8bHCNqMoNNLw\n",
       "97wYTM7au0N3JeFSDUCOevcEVV5QPyHE7C+hUXMD5pZHXjt1sa4gZOTDyLz+7fOzkLsOKDePtshv\n",
       "AL3IXxS6xMct1KwboGIVTD0Sg0lZj9y8d4OGiNnIpfAbjXq5RpXXlazzaLV4j1x/T+8dwV7Q/4Oe\n",
       "iih9jR9rm3NVewYIXexjlbM1SFIyY0pfixAJW901DFEj5ZS6DsDX8kzvVfWrA7+FoYH1fLaqf49c\n",
       "1j9ePH2CwWfMdaGPX8MBZ0cgRcmMKV8fIkRQ03cNQ9RIOYi8wW6B/FX6olOkRx5opQBoQnx3EiiI\n",
       "buOAcSOrGewZrgu2Sjt4gxg3QIrSPpj++tNl7IiZoh7ncQo7BcIpmpPflchI8f03gILoRgLTvaOF\n",
       "l+tCH2++y9lRSFbaB9O3xDJjR8wU9ZbhAaakkMdwO2FwM7bP0dBwB1jUh4nN3Nsw3SaGO0EaY8pD\n",
       "xnloh3Zo/2tzVQVI3cfx/YGbsyoA5m4mJGtHVYDZPcyNO753ZK6qAGGfcE8nImtXVYCgQbjLicja\n",
       "VRUgXyFc+/G9K3NVBUDHlmdA3PG9K3NVBVihXOvxvTNzVQW4Rbn243tX5qoKsEq59uN7V+aoClC6\n",
       "Q7n243unWR98FSDdotxCKzEj/OCrAEX0b8S1H9+7MkdVgNFmjXDDbhKydlQFGP2xQrhBLQlZO6oC\n",
       "hChjfM6/kYSsnVUBKPdIIt7DHVUBOHcpGd/XTqoAnJvqJiNrN1UAxi0m5AgpJYV8oFUAzJ1IRM7/\n",
       "AWVJK9XCFu5mAAAAAElFTkSuQmCC\n",
       "\" style=\"display:inline;vertical-align:middle;\" /></a><br>"
      ],
      "text/plain": [
       "<IPython.core.display.HTML object>"
      ]
     },
     "metadata": {},
     "output_type": "display_data"
    }
   ],
   "source": [
    "merge_equiv = Equals(ExprTuple(f_i_to_j, f_k_to_l),\n",
    "                     ExprTuple(f_i_to_l))\\\n",
    "    .with_wrap_after_operator()"
   ]
  },
  {
   "cell_type": "code",
   "execution_count": 175,
   "metadata": {},
   "outputs": [
    {
     "data": {
      "text/html": [
       "<strong id=\"partition_front_equiv\">partition_front_equiv:</strong> <a class=\"ProveItLink\" href=\"../__pv_it/common/ba103f024b1aea04b6380530465983f6cd75cfa10/common_expr.ipynb\"><img src=\"data:image/png;base64,iVBORw0KGgoAAAANSUhEUgAAAT4AAAAuBAMAAABDt2gsAAAAMFBMVEX///8AAAAAAAAAAAAAAAAA\n",
       "AAAAAAAAAAAAAAAAAAAAAAAAAAAAAAAAAAAAAAAAAAAv3aB7AAAAD3RSTlMAInZUiRDNmWbv3US7\n",
       "qzJazP2FAAAACXBIWXMAAA7EAAAOxAGVKw4bAAAETklEQVRYw+1XTWgTQRR++esmGxNXL0opNFW0\n",
       "vVlEhVakPeilUAwePAkGROhF/KHUogjiQT1ULC0Ffw4GVAqpleLJgGAqeFQCHlRQEfSiCKmWeBFa\n",
       "Z97u7M5P3GRwBA99kJeXvPfNfvOzM/MBgAOBOb6TreGfEIHWzPGrW0X4Fu2V40dNqjhL53SeQatb\n",
       "RAS2C/3oARZ3Q/Qin+czon3NA/Q0aT1Aw7c8Vvfo0UsUqI9/mGbxPYDjXF7M8MDXJwm/tnxo6xwa\n",
       "trvVTRCyWThYqb3P/RjgCpcXM9Qes2AHeVLyVGjrEppWN0EoLaB/mg9i8s11UcxQ28nzg5nQ1mX0\n",
       "TFOEbHvQD3ExmQJutMSMym8ktHUZPdIUoSxg6q7deu3FiW7CLV7101JG5Tcc1niAhsSWqlc9rMXP\n",
       "7c0PFsfTk2SJFIK8mFH5XQ5t3UeDBTe8akRYJbRqU353ceNcYfEni3CLTQYbsJhR+fWFNR6goQuW\n",
       "veo+rfG7TV1sicX5FNk/s0t+WsrAuVLpZqk0H/CrhTUeoCEfq3vVNX1+8aIfD5CHpoPxkzLq+JVD\n",
       "t78ADVbRqy5r8cP5XVf14xMJ0u2in5YyKr/+sMY5NNiDXnW/1vp7hhtUjsWJX3HyflToCwcNMiq/\n",
       "CRqpR4KMBuhc8KontMZv2MdinF3aTDpHu3q00CAj8DvosL3jJ6unLvjFoQGus51mVIvfV+oGgvgN\n",
       "2eVs2qx9v0GG5/f+zgnyzxwNS2QAbXpuoZtthIZ31M15n9bN/kjcBS4m1o5+N6gZYfxwB8GlGlMn\n",
       "WEFPedWRohY/clzHqseC45vaOHoyyUpGuB8E14u42q6EfpWse9XWRb0L1iLYzwt+jGNSwRVO1rac\n",
       "Ua0D/SH1/RDR2WW716vu0LyfHoFkt+PHuCvgzyjtuJRp1Dtq6p1YRp85z6oXNflFcnLc1aSKp+Ho\n",
       "PINWt4hYszX7T8y4Pv+DBNfT8g5DmNfnW8GAln/EEAb1ubWfnnMxcnREJRG5aeylppZHEj1m9fnw\n",
       "F9r3w+yyx01tBQ4uaGp5SoIgTOrz6Sd5//QWajMOpCY1tfwV9+A2qM/TdfyaVGtTdch819TyKbd1\n",
       "g/rcVRuxglqbKUJmRVPLI4kRg/o8+XaeTiC9fB8aV+6K9pKmlo+7et6gPl+fY/0eLCv8ajlNLY8k\n",
       "LpvU5514ySYXvWzvmMJvXlfLI4k+k/rcVRupBSLe6GVeqLUquloeSdRM6vMhxg9idXn8roGulkcS\n",
       "ZZP6/AV48wttVakv5EzZoKnlkUS/SX0+5T6HII4uDIq1nwG2aWp5JDFhTp9D5Jc7T2QcahFxL4rM\n",
       "nj1blLS8KOpVLY8kRs3pc7bAs4RI5qq4/uzV1dWCrOVnmZ5vrOWRxJxBfW55u/pDMKLl212EMX2+\n",
       "r61XvV38hZYf9xCm9PmDw+xFdExoeSTRYVCfXzrNHlcxoeWRxOI/0ecbwYCW73IRvwET1bwhZypQ\n",
       "+gAAAABJRU5ErkJggg==\n",
       "\" style=\"display:inline;vertical-align:middle;\" /></a><br>"
      ],
      "text/plain": [
       "<IPython.core.display.HTML object>"
      ]
     },
     "metadata": {},
     "output_type": "display_data"
    }
   ],
   "source": [
    "partition_front_equiv = Equals(ExprTuple(f_i_to_j),\n",
    "                               ExprTuple(fi, f_ip1_to_j))\\\n",
    "    .with_wrap_after_operator()"
   ]
  },
  {
   "cell_type": "code",
   "execution_count": 176,
   "metadata": {},
   "outputs": [
    {
     "data": {
      "text/html": [
       "<strong id=\"merge_front_equiv\">merge_front_equiv:</strong> <a class=\"ProveItLink\" href=\"../__pv_it/common/1d101540c48e7de83dcaa9b1405fc6b154f352da0/common_expr.ipynb\"><img src=\"data:image/png;base64,iVBORw0KGgoAAAANSUhEUgAAATgAAAAuBAMAAABOqRhrAAAAMFBMVEX///8AAAAAAAAAAAAAAAAA\n",
       "AAAAAAAAAAAAAAAAAAAAAAAAAAAAAAAAAAAAAAAAAAAv3aB7AAAAD3RSTlMAInZUiRDNmWbv3US7\n",
       "qzJazP2FAAAACXBIWXMAAA7EAAAOxAGVKw4bAAAFj0lEQVRYw+1YTWhcVRQ+8/PmN5kOrrQWnCg6\n",
       "2YijViERSRaKKAQfXbiqZERKswnGUrVWlMFFuqlmsBRiXDjQ1uLUSqgbA0JTJQsXwoBgU6gSEARF\n",
       "yNQwRSgU7zn3vfv75s2dBlz1LG5O3nfeOd/9effebwCgDNLKojGNP0z0h2xLgJuV5R8zVbJm+pci\n",
       "EgRRxUpfyLao4P6pqaxZej+1R58P/SokGyouEfjbh3EVyj7nh1Bpw0j7F4PGB9ASqQ+uIMkGGKXB\n",
       "q2Ob/u1U6J8FOKTgCgKPAGR8BZv5sxZCybqe9eobvhFsm5L6MP5/CPTSrPfENf/MhvABTii4jkBu\n",
       "QcFOfecrENm3ofOYbwTbpqTeCcue0COovexLn/1VeqwjAKeVNdXTIbQnVHJqcITJ1EEmXy8N8DS1\n",
       "Lyk+mw5lMHQEYE6ZlpYO2eTmYsnJ1OlmWDajr3dsPlq5GvhelaHpjoAlAt6D+HhGQLlrFxfCBAce\n",
       "jSQ3E8dNSZ3ppF7wqaxSWnTun9BPF1kncsrqFghkYZm1ixLaUxEJFvKNKHKLsSMnU882nryvQWV5\n",
       "6eNttItwhrbL2xTH/N+zDE015UYqEBijZTshkz+wFULJ8p5aFLmJOG5K6qn7a3+UqaxSmtln2KS6\n",
       "oe/n2XCUugKWCPgpXLbb8tUpAXkw5fMOf4odFuS248gpqd/9mPbKrlY6JMeXNvlYpdg0Fj2PyqK/\n",
       "Zi5oguB45Jpbi93mZOov3sFJwLJFbeRoWkc6wp/3WJ9aAlYQKEyzZlK++pOEcOuOIDcZR06m9naK\n",
       "OMVYlpcO19z3tMPwU5D53q00W5XrNFU6wtbYKmtOCgg+kVDiViQ5DAb7mPCN1Lmet5PkZam0PIJE\n",
       "WfJL3XvZ/OEQzdZ1BGAp/PI5FBAiKNc1yb1cDnegm8EbuqOmHq17t9O8LJWWB7Rc2uRvsj2hgK8V\n",
       "zhkIXMfmgoCCBU3Q6LpB7tfP5xs8GNpsoAq4I56HwGn7euqRGlQf5mULqyq5Ai7F9xWf2V5qnwID\n",
       "wWlMtASU7UgoXzFHDkRwyppX/sQoysvu1QLZ4ZzqvK6f6seoZQOsIj/neuIGgGP/bKYWQqO1Jd88\n",
       "+OWlIm1/pwB2UV72mB55BQobdeFTh2mOPDYYClLaKSCZfSEEX70iXtqunYn8HikYDljP8YlZlJdN\n",
       "rOuRByFXLQufvnH6N4m9UpAj74lMCMGHbwooW12NJMfL2vfhipEaRNkR456eqJj+WNRZw6OS5b5Q\n",
       "xP277HRND98f61P6rt21/9WGEdXOgjpaXyeGkNrDi2rLLrkVeUjKbEepPayorhpvls5ZKtgyrrtT\n",
       "0+D9iGfZOAyW2ncmqs/qb776ds9SwZaR7gY8TDJ4TGUGS+1diGqcm9BP9iwVbBnpbjoxSWXgQTpA\n",
       "au9GVLM5qqjk8rHjwNUyNEWi0wOl9m5EtUku0xisE1K4KF4UQnDOmZyzqCbEJqerYMMC3U3X23nY\n",
       "/xa/N884k3MW1elQGOnkcvW47Fx34+h6/6YeX+Yye9GZnLOoJsQmp6tg07juxptg6sY3pde4zJ5w\n",
       "JucsqgmBbLv95Uq73RHkdBVsGtcJeXbdyy4Tz+1BUhvuTFRP+VEjV2wO/iEJyRUOfwCBzF4bblqd\n",
       "RPW8FzmtrbjsXHfjtM7WLm8FMnvSmZyzqCYk4oOQsdrBo+ruEfbGkj9bq3CZfdKZnLOoJkQjl74B\n",
       "SqwtnoXuxu3mF5jdmuY711Fncu6ietPY50av3dxUY4VmPm/q7hKb+h8gecTnMvuCM7khRLV5Qpix\n",
       "mqm6G75WZXai5UzOWVTbB78ea5iqu+XtAC8Q2Yb7nclRVPe74opY44PQdLeQo/uE1HYzV1Hd50c2\n",
       "EWvcnDXd7a0rfbwyBLmhRLVljir4HimzHaU22n9uFbkYRNbuGgAAAABJRU5ErkJggg==\n",
       "\" style=\"display:inline;vertical-align:middle;\" /></a><br>"
      ],
      "text/plain": [
       "<IPython.core.display.HTML object>"
      ]
     },
     "metadata": {},
     "output_type": "display_data"
    }
   ],
   "source": [
    "merge_front_equiv = Equals(ExprTuple(fi, f_j_to_k),\n",
    "                           ExprTuple(f_i_to_k))\\\n",
    "    .with_wrap_after_operator()"
   ]
  },
  {
   "cell_type": "code",
   "execution_count": 177,
   "metadata": {},
   "outputs": [
    {
     "data": {
      "text/html": [
       "<strong id=\"partition_back_equiv\">partition_back_equiv:</strong> <a class=\"ProveItLink\" href=\"../__pv_it/common/d129d9437eac6c140a4b7e67b6bc67f79629903a0/common_expr.ipynb\"><img src=\"data:image/png;base64,iVBORw0KGgoAAAANSUhEUgAAAUAAAAAuBAMAAACrN90HAAAAMFBMVEX///8AAAAAAAAAAAAAAAAA\n",
       "AAAAAAAAAAAAAAAAAAAAAAAAAAAAAAAAAAAAAAAAAAAv3aB7AAAAD3RSTlMAInZUiRDNmWbv3US7\n",
       "qzJazP2FAAAACXBIWXMAAA7EAAAOxAGVKw4bAAAEHUlEQVRYw+1XTUhUURQ+48ybN87oNLgKEdSE\n",
       "dNcQFWiEs6iNMPRw4apQCEECyUJEikBaVAsjUYR+Fg1UBJohrhSCxsBlMNBChQqhVRJoyrgRwvv7\n",
       "3n3vvt8WlxYemMObe8493/fu37sfAOTAtBjxQoMjErZZspyZHbaHZTV567mN+CWXrDb3zpmWKBg4\n",
       "O2QPwc4RP3oFuXgBuXaomRDC+mWDRWpGHD23UaQjoDqpSzF+GyS7IyI/bQD7xI8Z5Pvw4xuAQSFe\n",
       "/JVnkXTB3nH9FiKYNHyr07oU4zTNDughmU6Gq/biGvLjrO2REJ/5aAgRbMv84QyKpEZ8q9O6Op8S\n",
       "nB3QQy5B/CfyWlO8zXrJTBXECLazIkGY9a1O69aa/2cDe0h2gfge7OIDrC1pLcJEyRaRCQ75Vu8R\n",
       "MIBlD0UjOIrdkxfreCbQItPaEblEhUdTmwsjLNI77kqw6Fec1iUY2qkKyy5GI0jfZ48PXCKDZjNl\n",
       "DdiJFh4prLgSfOhbfc/E0OEZyyY97s5hWwhB8DU5Qf9in0b79aeOyMWtJde8xSLZ/JgrwU6/4rQu\n",
       "wWiFfZbdGW0EX5I1tkvW8iKAUYuGLLtrhruBRTSYZm/+nL85IbjjV5zWJRhGvMqyd/6BIN0KmCB0\n",
       "I9TMlGOV40i86jqCK77HYMnC0EsseyUaQTLFdRU+xTCsIS4lM/wFeCRZMdwIdvkVp3UpBjnnu3iP\n",
       "8GvwMxkhshXqkNcOE2iTlPGckPA08Ej/YsGN4CSYubbvDFh1KUbzIsuejDaCRbMzOV2yuyfZeXNA\n",
       "Vvkh8MhObMJB8GqOHyE4t39AeKCO1aUYT/mBMxqN4La1FbJ4ZjcQjTSuO2dYqxxH6h871uD3V8Mo\n",
       "dx5YbhofmO+APaTfWnUpxjfs5tkvgqXxOXKfPn9gbY1kB2KCesUesY0gGeKSmWu382DVJRjTLDtW\n",
       "ikYQfbvjlRv2SwL5ZqC1CJeSefn6sCzfNRJyXbRKzLoI42uqyrL1iYj3rVVIr7EvRx27+OI9Ar3o\n",
       "974PbBHZmoDnOjYJ2h5mXVjN7pMjosnsEcGuQaqdwWtlgQ3egA9ugy3i9no813GHxgPH6yKMO/d4\n",
       "9mpUgjGhegPxrS5ZDR53+VwUDJwdssexHdv/ZOqEe8h2h8pXKNxlWwqh8lUKd5tl0efaBuWu8pUK\n",
       "d9Guj+GP32Cgylcq3O1TWXVAuat8tcJdIihAeah8tcJdIihAeah8tcJdImhBeal8tcJdIihAeah8\n",
       "tcJdIihAeah8tcJdu0nk5pZJUIDyUPlqhbs0ggKUh8pXK9zlKS4FqXy1wl3eJOUgla9WuNvm/w87\n",
       "wPxVvlrhLlj95sEGg/JV+UqFu2yNgSpfqXCXbTxY5asU7vJJXg5W+SqFu3wO5YJVvkLhLltroMo/\n",
       "AopVuZYHi1y5AAAAAElFTkSuQmCC\n",
       "\" style=\"display:inline;vertical-align:middle;\" /></a><br>"
      ],
      "text/plain": [
       "<IPython.core.display.HTML object>"
      ]
     },
     "metadata": {},
     "output_type": "display_data"
    }
   ],
   "source": [
    "partition_back_equiv = Equals(ExprTuple(f_i_to_j),\n",
    "                              ExprTuple(f_i_to_jm1, fj))\\\n",
    "    .with_wrap_after_operator()"
   ]
  },
  {
   "cell_type": "code",
   "execution_count": 178,
   "metadata": {},
   "outputs": [
    {
     "data": {
      "text/html": [
       "<strong id=\"merge_back_equiv\">merge_back_equiv:</strong> <a class=\"ProveItLink\" href=\"../__pv_it/common/28dcfcecedbd2253ad18a5c05ad4f182f43bf67e0/common_expr.ipynb\"><img src=\"data:image/png;base64,iVBORw0KGgoAAAANSUhEUgAAATUAAAAuBAMAAAC7V5PbAAAAMFBMVEX///8AAAAAAAAAAAAAAAAA\n",
       "AAAAAAAAAAAAAAAAAAAAAAAAAAAAAAAAAAAAAAAAAAAv3aB7AAAAD3RSTlMAInZUiRDNmWbv3US7\n",
       "qzJazP2FAAAACXBIWXMAAA7EAAAOxAGVKw4bAAAEcElEQVRYw+1XTYgURxR+uz09PTuzjo2naAR3\n",
       "lWS9ZUg04IrsHAwBYUnjwZOwAyLmIlFZzCZBGDxoDkaHFcGfQwaMBmZjWDy5EHAVPAoDHjSgEggI\n",
       "hsAuGSYXQaxX/1Xd09YerJMFU/Nmvtdff131qqo/AIhBtVh2VhuCzDbg71SLB2fHiimFD9fs+HYG\n",
       "w7bse1bGnKTxe2Rli9sjlsJ30H72CxFPwHBTg6O9CemDOmE5Zl35D0G2v0WV4oV/EzNbQgevYrAd\n",
       "UmxhA/vC84si/gXgsIZPv8QHO0A+5bp54eNviLZikitN44WPzWwNOoK/i2m2iA7SyO4HMgY4q+EX\n",
       "/8D8Oe2fOyL4hCClY7naTF4jW4N6ArPYRmh/N1Ex+VbyK3361dKu+FTXBpdytZm8RraC+D0updg+\n",
       "p/0+LSZDqwqu0MY+aAzU9nWuNpPXyFZQoSUxk20Wu5+uPuZxOEF0FboCLf15C4c5IqW2fy5T23Se\n",
       "NMUL4dauka1BxW7wZcIwk40p/U/EhQp5iJIapvVjYiDrS5nazuSOm+SFCC6b2QqaaX62sckwikcd\n",
       "2rpwnW58r2kiif+OiK5AldeWv7Av16BaO5mpbVeeNMUL47Tid2VBUx/WXsQMM9mu0XpaFXEyQgaq\n",
       "uirhKbY4FiGEeYy+73SudDq3lLaVPG2KF5Kgb2Rr0HfnabiSYrumKp7GU+SGlZZVsUQbBP3McVvK\n",
       "3d4UL0RtI1uDbn5LJ2cpxUbndLQr46MhkdGW8EPgc0oqNsnSNpmnTeNlW/dkBhT2KnR+JwUu6+0+\n",
       "HRd2kJE4fFUga2EZJ4H+Nc+ICD6zWM/Sdg5krnFqgMlLKneRZ9tQqR/2hjl2ziCZltfRuLr6Adsy\n",
       "wv9pxb5iE0AecmWoaWn7Khb7A+bONHggf+m8ABfElmFD6xrh6wLHZs0DW1U8jZ8QBWW8rpOoiq2S\n",
       "SV73o1Vvz34+SnIXgOeWcSP8FXhXvmHxwlPsFjKg0RpMfMSxBUNbGevwlBaTtokuJNQW8V3496xz\n",
       "gQ5sW+aabSdYvPMyOwVJpqG2wUGO16B7yDyK6QmAw7ynWEuf/nfSrwqF9DIgZaHzPir1ZbYFaUxR\n",
       "0yS5B+UHDRnTJ8ClAPvJ57cDYlXFA1biZhC51logpa7xVnu41Fm2BelMmy2Wg1CaiGWshOA6On1c\n",
       "3Gp5gDZGnX6fxYWn8574QWbbkMZ0zz5Xxux4PEPDhgEv27HTOzm/R1a2uD1ijmzv2/v2jpo/70y/\n",
       "1lLvHr0zZb69Bm2evDM1yMg83HSW5s07U4N8GEz2/ObNO/cE81lnbb68MyNC5pHEVZsv78wMMjIX\n",
       "nQvOl3dmBhmZFfvbmi/vzAwyMpcartp8eWdmkJE5aLlq8+WdmUFGZo3dRZsH78wMMjJXWmua03fv\n",
       "nblBRuag7arNk3fmBhmZS8uu2jx5Z26QkTmqu2rz5J25QUbm8qKrNm/eWTJvcj5PPXlnUMxz7u9v\n",
       "XryzGOVlwe7W/Hhn9Yija3gp9+idKfO4s7I3ypqy8+YZbBIAAAAASUVORK5CYII=\n",
       "\" style=\"display:inline;vertical-align:middle;\" /></a><br>"
      ],
      "text/plain": [
       "<IPython.core.display.HTML object>"
      ]
     },
     "metadata": {},
     "output_type": "display_data"
    }
   ],
   "source": [
    "merge_back_equiv = Equals(ExprTuple(f_i_to_j, fk),\n",
    "                          ExprTuple(f_i_to_k))\\\n",
    "    .with_wrap_after_operator()"
   ]
  },
  {
   "cell_type": "code",
   "execution_count": 179,
   "metadata": {},
   "outputs": [
    {
     "data": {
      "text/html": [
       "<strong id=\"x_0_to_jmi\">x_0_to_jmi:</strong> <a class=\"ProveItLink\" href=\"../__pv_it/common/f8e1390301bd0f0455a7dd655b19410b680493160/common_expr.ipynb\"><img src=\"data:image/png;base64,iVBORw0KGgoAAAANSUhEUgAAAIgAAAAPBAMAAADNIZoBAAAAMFBMVEX///8AAAAAAAAAAAAAAAAA\n",
       "AAAAAAAAAAAAAAAAAAAAAAAAAAAAAAAAAAAAAAAAAAAv3aB7AAAAD3RSTlMAEHarMolUmd1mIs3v\n",
       "RLtmgJDEAAAACXBIWXMAAA7EAAAOxAGVKw4bAAABcUlEQVQ4y2NgEFIWCU1ggANGJUPXMAZ8AE0D\n",
       "GBQwGbE3ILjsDMoKFXgNgWpggVu7gIFzAedH5gkMoapQoVkM8wUsGRhn4zQDqoGBwwEqwKoANJB9\n",
       "A1BGgfcBRMiBoRpIOmngNASiAR3wKACxA8MvGP8QiMjA4x+QBnRwfwGjwHoBhmNQLu8vBkH8hoA0\n",
       "MAiVwdQrMzDIXbBhYGXwF2DoZGAEhdJb5gMMARBDBDC0g1RANDAUZMMii1+AId+xhuEayJBDDPJA\n",
       "v7J9ET/AmwA2hPE3UAlIDM4AExANjALhUEMWApWKK7FVJjAAvfONgaMRqKFIIX0aNEw6gE7hKAAy\n",
       "2hmgDJAKiAYGhp0Mfu+AYAHDI3hYgQM2EeFwkCFsmP5BUgGLCMaPsLhmUuA1YACFBbIhrJhhilDB\n",
       "cgDKYNtQABMLVRdgYERE3dL9QcAgwwxYhAomA5iY0QJkJUxoWjCTA5IK7gkMFIO9PpSbwVBUiMQB\n",
       "AJVKTjorOpy6AAAAAElFTkSuQmCC\n",
       "\" style=\"display:inline;vertical-align:middle;\" /></a><br>"
      ],
      "text/plain": [
       "<IPython.core.display.HTML object>"
      ]
     },
     "metadata": {},
     "output_type": "display_data"
    }
   ],
   "source": [
    "x_0_to_jmi = ExprRange(i, IndexedVar(x, i), zero, subtract(j, i))"
   ]
  },
  {
   "cell_type": "code",
   "execution_count": 180,
   "metadata": {},
   "outputs": [
    {
     "data": {
      "text/html": [
       "<strong id=\"merge_series_conditions\">merge_series_conditions:</strong> <a class=\"ProveItLink\" href=\"../__pv_it/common/9fbb7eeee9cdead97cdea051410271330a6508b80/common_expr.ipynb\"><img src=\"data:image/png;base64,iVBORw0KGgoAAAANSUhEUgAAAiAAAAAWBAMAAAALGzq2AAAAMFBMVEX///8AAAAAAAAAAAAAAAAA\n",
       "AAAAAAAAAAAAAAAAAAAAAAAAAAAAAAAAAAAAAAAAAAAv3aB7AAAAD3RSTlMAInZUiRDNmWbv3US7\n",
       "qzJazP2FAAAACXBIWXMAAA7EAAAOxAGVKw4bAAAE/0lEQVRYw81YT4gbVRj/JZPJ393sUBCkCI2t\n",
       "EC+Lg9QFC5IcFoXi4pBD9VBsLoIopVGrRE/Bg1URurR40IKubEWNtgS9WBCaFby1sPSiPQgL4qFF\n",
       "SMWuHnrxe+97M5k3M28yWRD84Bsm33zz+73v9/5OADiYbY457GTI0yxnDuf21ozsPDkzbsCfd2dj\n",
       "m3K+VT4rT7NDyeFag30PzcjOc8hcR8B/OBW1tOqpnGbkyWrTQX4A6b5lwbLa9E4v8ug2PXkY7GY7\n",
       "nE0JM4+Iof5TJL/JNSh+u5sKvnbLVTkX9QdF1/4MeAHsbFmwcIy82tYe2D+fohKKyo02A342j4wh\n",
       "H4W5yDUo/tIgFfz8D5QWzqmp+/eBp4EzYFddkwEL/VDke//mEXpS7rGbe36QTRAzT9/0iqhB8VdS\n",
       "sWu74hrOsdQ0vw60PFSIuhL0ahYsrIdCj4YFwYfKTVbJpkcKz7oResq/kgpe2BDXlQRB/gEmLorU\n",
       "acWg47JgWV2jIC8qN9lKNkHMPJZxzskamP80XTvLz68mLuDlm5fEGKYcuznQBLGFIAMUtiGdLQtW\n",
       "iaZ1p58oyJpyk6XCZ+ERMUKIrEyiMlkD8wtZevkbpQ0/4a2hsEv8Y0mWTzmF2romSO4uCdJAmTQv\n",
       "B7pnwRJ90b6SKMg7yk0Wgq8H5Thz8Mhx0KvoS5GsTNbA/Jv0yynvLg6w+lC8DQd2xJVyfit144K0\n",
       "YRGYFczMKdZzXRNW1UXdfSNRkMeVm2wKj+qOX05jDh6KIe8s6SNMViZrYP4LQm4RKzdq4xh4S14p\n",
       "x6sI5tJw+NXHwyGNL5sEudpA/Q6kw89jrPrBDRiwKiPYOKe69SO/W6UgE+UmC+DTzcxDMQq2BJf9\n",
       "khxUO6oyWQPzX5BvU6yygz9j4Ef9ljCMvqi2XIjhVlsPtZixYCUIctRvKKzdxBFyRXmKIAo+1cw8\n",
       "IkYCRQX0VA3MvyliVx3bO+DhfGw+XvfHKk7auiDXgLOeLHxafIDlxxKwxLAtbntJghxRnjJlFHzn\n",
       "NX+LXZ6Hp+oifsKUlcn2Mv+PwPHRTRQw8fBlrA1yzIkc+15BF+Q9gGZoecwOW+UxVuIIYawFev/E\n",
       "qJ0kyAfKET+uejp8z9+BO0veHDwihty9yC4jKpM1MD/tNa3f38R3QpBzsY9DfnlNTLL7dUGqrv0J\n",
       "b2RyMzvR5TzGShJEYYkNbpIbRAR5xlHbqnD7bwWo30zhbe8p9d59R+bhkZtr+Y6eLyuTNTD/beDZ\n",
       "g1bfBU2Zv6LgFr9MOfhFP4fAPr1MK1J1xI7q55zHWEmCKKw6PVl8N7KG/PrpSYL/GuwYUrdXxWHi\n",
       "C6gbEQnB0w78xzUyR4ya7DwihsXo1iEqkzUwf7CBJS2qJT5zBTkhQdj2Kwce0/ISBFFYuJx0UpVd\n",
       "u8FOb8fmgYyEmuG31N7dmYfnsmlV3j/lDz6n8o3adiTtiSJv2eFPrpp2rOkHX0xtLS8uiI8V+hYM\n",
       "fdz53278/VaIH8f1ZtT9jc3q9ubhOYNF92zSB3U/xL81/YMjmvrNMXWzZfpTasxOXdUI5+WevNsw\n",
       "YS2Y/vZ6QDktlbFnHb0Zeb/r7BvOPDwLzsTdNNQR8B8373Nvv6JuTDmClInzqXlhLHtsyNgKSo4P\n",
       "6oYOXxzsjccel5ojQx0Bf27mScec86DyWXma7TP8P+iwZ2jGy7ewR5595joy8P9v7dXX/zvsfwF3\n",
       "gozBiUmHqAAAAABJRU5ErkJggg==\n",
       "\" style=\"display:inline;vertical-align:middle;\" /></a><br>"
      ],
      "text/plain": [
       "<IPython.core.display.HTML object>"
      ]
     },
     "metadata": {},
     "output_type": "display_data"
    }
   ],
   "source": [
    "merge_series_conditions = \\\n",
    "    ExprRange(k, Equals(IndexedVar(x, k), Function(f, Add(i, k))),\n",
    "              zero, subtract(j, i))"
   ]
  },
  {
   "cell_type": "code",
   "execution_count": 181,
   "metadata": {},
   "outputs": [
    {
     "data": {
      "text/html": [
       "<strong id=\"merge_series_equiv\">merge_series_equiv:</strong> <a class=\"ProveItLink\" href=\"../__pv_it/common/dd83cfa3fd91433648c0f3a2b7311c046c6bc1910/common_expr.ipynb\"><img src=\"data:image/png;base64,iVBORw0KGgoAAAANSUhEUgAAAOYAAAAuBAMAAADO/3hRAAAAMFBMVEX///8AAAAAAAAAAAAAAAAA\n",
       "AAAAAAAAAAAAAAAAAAAAAAAAAAAAAAAAAAAAAAAAAAAv3aB7AAAAD3RSTlMAInZUiRDNmWbv3US7\n",
       "qzJazP2FAAAACXBIWXMAAA7EAAAOxAGVKw4bAAAEmUlEQVRYw+2YT2gcVRzHv7szk/2XbBdBkFLI\n",
       "GMXtJbiIqTQeumD0EAgOgVoPxQZEyKUYSiixIqwIrYdKQ0rBPwcDtSgplkUv5mKTQk96WCrSCiqB\n",
       "6qGlkLRpehFKf+/vvDczO87KIh588Cbz5veb33fem9/7zWcDoIZ+tJ6i5Bt90fymF+fn+yKJfCu7\n",
       "rzfTH028ld210OqT5qnsrqU+SaIUZHbd1y/NgewLNk99evSNCSN7I8OEHBj5+Y+XohfdTmbNWepz\n",
       "+WuF5fBSZJiQAxj1T9DfDf0QtDuLPBlPrLD2dbrmefKuFXeGWph4WlyRw9e7J/T7OBPcoL+X9Bx9\n",
       "wFnMPM/PgCoKFL/oV9b4FTGsjnSf6gaOxy9Wt3rRpJyj5yxt4K5KQRrCSVvepfilSvZ5nmeHyzUv\n",
       "GA5wVl5jw1TNyl0chFdXiVYZ1c+Y6X1eAQ63f4GLzQBfwYMa8hhe3J92offD0CKaKDjqjU/voqvF\n",
       "tczznAIO/PkOvmWaSzgyo4Zckw29B5AHNXIeHlqsNHDQnZMxHh9nydzMrHkbODTiLDRAa7uN8gU1\n",
       "5JpsiC8hD2WmsRLAO+a/8IGoAnd+pFZji4VyO7NmWW0ykUNj2sDfz1jM3wlL3C71zfR2KMju7CWr\n",
       "qBYo71eokjRtzfh6ueHpLe06Q0EWeqiT6+pkok7L5qtR7pX7vjEMC2N4OqrL0LUacms9aB62vryR\n",
       "D3Hc3bfLpm6DvcBJzv+H35HvrSLwJP6FVqgH+L/9B1step6UgbkuCdiTRk7dYTK1OE/C46e6fGCy\n",
       "Jb3UYN78DsHU8y8rvq5H8JhbHCpI+bloqabE3ft3uKXj4k7AvfcqpnZ/P6v4+gsbj4XlNVaZ7ULo\n",
       "XX+bNAfSN4wRF88Ib+qCqUsvXjX42sRjYTGL6Xfq5NnAKNddoNeKy72pC6a+HJh8beKxsJgl5zlT\n",
       "E+dSNe24wvucZOpJi69NPJ4UH46umrOpmpMRbp/lnTE1Pvr0uuRrr96y8FhYGANMLyRqTqVJhnGJ\n",
       "wzvSe0o+5z31FC7Dt6IxrXtq4s3VRM2TqfPUcYnDP5beJwX35R4qBrzJ2NbAY2EpN1BtHE/U3J/6\n",
       "zdJx6buzLb33C751thTrBoxtDTwWllKbEHBJsuQniiW55maaZhgXgbMjvTeFprusbQcCC4+FhTTB\n",
       "74nPczV1e4ZxwX8CrfLO13awo9fgqGchvLDQ2mKgEyRpjqdpGnFFSRnn/Yr+scD52vvLlXgchD8j\n",
       "MEjHI+1mkuZpaF+rSsGOCwy3pfdpkevDbcXX1a0nxNbgFK0sbPNs5loRzVdrah+YxB2OzLjAGbVr\n",
       "5hlT00vUfI0bLYnHK0FoqdJiD30YeZ+/fX6UfC9C+nLiDvn7QiQufmWHi7xzpn7P5uvdITxLy6Wk\n",
       "OsR3w3IEtFUbQyTukvSmTiXX6bxp8/WCgmdtOZVU48N/u7jx9GnCivtTcUd6s76O8tUZi68FHjN4\n",
       "1pau9LonCtoqh3yYcavbLPW59x7O1MV6zeJrIcBSTlu8tdRfAXFayJt3U9xj7yrv9QhTi/MkPH6s\n",
       "C3Rko3epwbypPwKiDilcKlJIKQAAAABJRU5ErkJggg==\n",
       "\" style=\"display:inline;vertical-align:middle;\" /></a><br>"
      ],
      "text/plain": [
       "<IPython.core.display.HTML object>"
      ]
     },
     "metadata": {},
     "output_type": "display_data"
    }
   ],
   "source": [
    "merge_series_equiv = Equals(ExprTuple(x_0_to_jmi),\n",
    "                            ExprTuple(f_i_to_j))\\\n",
    "    .with_wrap_after_operator()"
   ]
  },
  {
   "cell_type": "code",
   "execution_count": 182,
   "metadata": {},
   "outputs": [
    {
     "data": {
      "text/html": [
       "<strong id=\"x_eq_y__1_to_n\">x_eq_y__1_to_n:</strong> <a class=\"ProveItLink\" href=\"../__pv_it/common/90c14781fde8b99d2d44751db7cdffc2871ba3210/common_expr.ipynb\"><img src=\"data:image/png;base64,iVBORw0KGgoAAAANSUhEUgAAATsAAAAVBAMAAADLI1QGAAAAMFBMVEX///8AAAAAAAAAAAAAAAAA\n",
       "AAAAAAAAAAAAAAAAAAAAAAAAAAAAAAAAAAAAAAAAAAAv3aB7AAAAD3RSTlMAInZUiRDNmWbv3US7\n",
       "qzJazP2FAAAACXBIWXMAAA7EAAAOxAGVKw4bAAADe0lEQVRIx5WWTWgTQRTH/5tku0lj0iiKIIWu\n",
       "qRgVCjn41R601FJEKCxFbQWruQjeDOJHrIhR0R4Uu1YEQdCiiFCxBD31IK2CJ6mE0oKCQmgVoYc2\n",
       "BSuC0Dgf2e1md7Md55C8mXnz2/++ebNvAMSwapOqdqq02H/wvCG+5OqOYdXSaRQgv/aebhSSxyA7\n",
       "RTy3rZj+VgF/X9ZrVgjBIXJKxLNGM82jQuhTXpNiCAZRsiKOwbRpZoTI/V6TGUF5BBIS83xgWrqQ\n",
       "f0jzmNQF5RHIbjHP02beCCUDajw2RRDBIOfIX1fTiXa389uVgZznZqcxppC0luPT3w+4+MuJLHq5\n",
       "GchXf6oXwsqgEBqWtG9SGTLm+4Zpe0XN1mYEi3z0ljUsCprUPvNhzH+Yygn4dQyUkzXlHdkKRBUG\n",
       "hTwjv7HgUiSLHjsxmuxDZFxmypqNwVoS5msY0D7jcOe0bcEsecmvcvs3knd+j/xaQbg0xjCyQMcj\n",
       "IgMKURaND9njjEGE1Jkd1F4w0zUHFHCBxhx9tgVaSMWgAroT0aJHxpsIl8YYRnyKVB5ZQKuCf8hR\n",
       "LJawUEALNUetbDDAXzQUbAvGtOhyXU5aJkt1b3kwNcCFYTxfp5tLhmKyZsiz5B4J6nZweS3WnUF4\n",
       "EUdwk8uz5A2JiE8PalSe810rN5cj+u/G03BjZGYSPGDvgeO5Lwi4EdfkMVFWdocFno6pkD9GdNC6\n",
       "dMi+YIIuQYCAguMsO5x7Z0XItx/inhujZzQbijEI+WLs/3EJb9zkKfnwn7I8+v2Rf/PD7l/u1sMk\n",
       "AtHn9gVXMEZO5ZzGPx44mSovosZKz0RIXSksuTE2bEUdh8wB3XF/JukmT55KLJblvaQ/w2RJdAjy\n",
       "WXXPDdKtd1SG3rarMUgf6AbS/Kql+l9QI238VCIiqjNHGWOSJTuB1Jrp7ZYugRSXJ7E5P9UzYl7a\n",
       "0pLzWtcBbMRaYBPr7XJWjApEqKCkC26Mx7gYZZCVYu+U14FjSS6PXxwCFcW+fv6nZn8Z+T6kT/Pn\n",
       "jarvvDhVIhpQO1twYxQxso9D3hnB6Pil2lhPMQWsP9NGpPAix86LEbInpZL9SKqRVoRKpSKkcZYc\n",
       "qrNOViDewnfQjRHOY0uWQ45X/wLsTeTKFn8H9jR5vHqtv37ZOPP8Iu50WQ1hYXCIpArcW61Jtk7g\n",
       "rrHZe1oEwSD/AOOn9CGSMKeuAAAAAElFTkSuQmCC\n",
       "\" style=\"display:inline;vertical-align:middle;\" /></a><br>"
      ],
      "text/plain": [
       "<IPython.core.display.HTML object>"
      ]
     },
     "metadata": {},
     "output_type": "display_data"
    }
   ],
   "source": [
    "x_eq_y__1_to_n = ExprRange(k, Equals(IndexedVar(x, k), IndexedVar(y, k)), one, n)"
   ]
  },
  {
   "cell_type": "code",
   "execution_count": 183,
   "metadata": {},
   "outputs": [
    {
     "name": "stdout",
     "output_type": "stream",
     "text": [
      "These common expressions may now be imported from the theory package: proveit.core_expr_types\n"
     ]
    }
   ],
   "source": [
    "%end common"
   ]
  },
  {
   "cell_type": "code",
   "execution_count": null,
   "metadata": {},
   "outputs": [],
   "source": []
  }
 ],
 "metadata": {
  "kernelspec": {
   "display_name": "Python 3",
   "language": "python",
   "name": "python3"
  }
 },
 "nbformat": 4,
 "nbformat_minor": 0
}