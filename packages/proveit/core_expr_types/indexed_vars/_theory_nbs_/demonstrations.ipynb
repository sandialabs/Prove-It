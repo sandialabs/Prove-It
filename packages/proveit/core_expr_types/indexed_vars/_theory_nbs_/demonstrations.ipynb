{
 "cells": [
  {
   "cell_type": "markdown",
   "metadata": {},
   "source": [
    "Demonstrations for the theory of <a class=\"ProveItLink\" href=\"theory.ipynb\">proveit.core_expr_types.indexed_vars</a>\n",
    "========"
   ]
  },
  {
   "cell_type": "code",
   "execution_count": 1,
   "metadata": {},
   "outputs": [],
   "source": [
    "import proveit\n",
    "%begin demonstrations"
   ]
  },
  {
   "cell_type": "code",
   "execution_count": 2,
   "metadata": {},
   "outputs": [],
   "source": [
    "from proveit import ExprRange, ExprTuple, IndexedVar\n",
    "from proveit import a, b, c, i, j, k, l, x, y, z"
   ]
  },
  {
   "cell_type": "code",
   "execution_count": 3,
   "metadata": {},
   "outputs": [
    {
     "data": {
      "text/html": [
       "<strong id=\"defaults.automation\">defaults.automation:</strong> False<br>"
      ],
      "text/plain": [
       "<IPython.core.display.HTML object>"
      ]
     },
     "metadata": {},
     "output_type": "display_data"
    }
   ],
   "source": [
    "from proveit import defaults\n",
    "defaults.automation = False"
   ]
  },
  {
   "cell_type": "code",
   "execution_count": 4,
   "metadata": {},
   "outputs": [
    {
     "data": {
      "text/html": [
       "<a class=\"ProveItLink\" href=\"../__pv_it/demonstrations/6e7727615b49573a335322355bc6a6faa3ae9d490/expr.ipynb\"><img src=\"data:image/png;base64,iVBORw0KGgoAAAANSUhEUgAAADsAAAAVBAMAAAAKrYvGAAAAMFBMVEX///8AAAAAAAAAAAAAAAAA\n",
       "AAAAAAAAAAAAAAAAAAAAAAAAAAAAAAAAAAAAAAAAAAAv3aB7AAAAD3RSTlMAInZUiRDNmWbv3US7\n",
       "qzJazP2FAAAACXBIWXMAAA7EAAAOxAGVKw4bAAABOklEQVQoz32SPUvDUBSGn+bDpNWWzC6mHdyE\n",
       "DuJqBlchdHEp2kVwLCJSccmmm8VJcCm4OQWdnGz9BUUnwcHFRQSFUmfPTW40HeId7nvyPsn5uDeA\n",
       "R8FKgNEswjdqW52xjG4WfYRGBHZnBleCLFqGXXAiCtcJlIsp5ZC1f/BcxIFIa2V7I+2/1dPEbozB\n",
       "GrMncdd4dAaJG9xp7HABbocr2T13Wk06rDUPNa4zAbPPpZg4ejqbc41DcyrgS2Fp0deuMnV2qTbf\n",
       "V8nh3rPDtNdxmDsfc8ADtONnLMkn5k4ckL6wFEtTQzZh/e2IW+xvMT9LUaJwpgoEvMNWw+zJ2Nfy\n",
       "WfU0VXhRBWIqr1kzZphXNcKi5P+9QSunT64aQR3hKMOtP61NKlKtNJSndob9nO4fy7ag/qaSX3Rh\n",
       "dfgBvp48ZEGOgFEAAAAASUVORK5CYII=\n",
       "\" style=\"display:inline;vertical-align:middle;\" /></a>"
      ],
      "text/plain": [
       "(x, i, j)"
      ]
     },
     "metadata": {},
     "output_type": "display_data"
    }
   ],
   "source": [
    "ExprRange(k, IndexedVar(x, k), i, j)._free_var_ranges()"
   ]
  },
  {
   "cell_type": "code",
   "execution_count": 5,
   "metadata": {},
   "outputs": [
    {
     "data": {
      "text/html": [
       "<a class=\"ProveItLink\" href=\"../__pv_it/demonstrations/75d858298edc9332df5a1c58ee8a5e5d1e67cd4f0/expr.ipynb\"><img src=\"data:image/png;base64,iVBORw0KGgoAAAANSUhEUgAAApoAAAAQBAMAAABElsJbAAAAMFBMVEX///8AAAAAAAAAAAAAAAAA\n",
       "AAAAAAAAAAAAAAAAAAAAAAAAAAAAAAAAAAAAAAAAAAAv3aB7AAAAD3RSTlMAEHarMolUmd1mIs3v\n",
       "RLtmgJDEAAAACXBIWXMAAA7EAAAOxAGVKw4bAAAD1klEQVRYw51YTWgTQRj9Jt1km5qk29ha9WCX\n",
       "hNLiqS14EDxEQTxYaCioVC/Ri0IPrhXUokgKQsVT6qEHC7oevOfagxpEehCUKqJ4sngraLCil4jg\n",
       "/mVndubbnd0OZLO8fe99b75kZ38AiuXBMzXgBgpGDlRBSpMnzyYVxRwy793oE3sKAiM1pdZ5FgpG\n",
       "DlShQlm/lVQUc8i8d6NP7MkLsmZ2p6cBxAQZGDk8BSgB9BE80Y4CHIwWJSgjekNll93EsknyykMo\n",
       "oDatr7TOkniQrMlsPQX0BiZXgdv21yxHPtCMW6bLRIbnDfdiK1C9nU15EZLXNTu9FSuES8vpCI2C\n",
       "hvU5MS5Ph9rAK+HUsMKX6jHKcMzk3tJB9UdEjDHrqcYycWlfTaIJJAo6Hb8iz4ba5DswEAAK9iZT\n",
       "j1GGY0Jib9lg9K9FjDHLVWKZ2LRDm8cgDfmyc6bNjZpAIAgy0xx6eB5AbBlVQPEGyyM/elpQhQ8T\n",
       "PkhDapIyQaZY0PMmYzVRQWSN5LIpv8oajzHdnClNYpYaF8KmXT1+Bz5Bsd/OvN+cMWHEWitYkE6T\n",
       "PFA6QP5aezbH32EUYMyzvMzv4Va+RvSdLkhDOuqIMhxTrOp6g5ppCgpKDAnLZ0stpQweY7o5ro2F\n",
       "WLIhHNpwKbNYg6fOPG7CtHUdWYIASKepGkoL4L419157lVsGb4cqiHaO5ZEF/fIq9O2r+yANadtE\n",
       "lQkyabFlr6DrDQNpQ1TYxx0iJzO6Gy5boZFtChjt5jasYZa+wA3h0Lzxzd68BfukuwgUVNvtd+1t\n",
       "b5q5zZR1DmTEM48qYB3hFfQueLf9vd1uOCEZG6wMzkQK7mmICvY4OvhsFXUiiLFm1qp6HbNkctkh\n",
       "XJq7Eu1YSyjpwLa1pPpXMAdk/jQjZmFFs1dHfjDXvA7CGxn0QfqT08N4GYyJFew3RQVUJd3ksvVD\n",
       "rsZjzH/zJ2xglulgCJfm9rlpkCq8Uf6tAPFvWiyQmeYQ5MyZLxoUxYsCvTeyzjiRN6/6IA1JD+Nl\n",
       "MCZS0FqbRAXRZY/BwWy92mMOY5btKixltzDLIhvCo3n5pkxlAz6vjjYgRUNPmd40n72chelafvHS\n",
       "HIBom2J2JxDe3sM+6ITsu/BHZw7jZTAmUtBam0RFSnZN57IpCzqHUTOrLadKgFnqbAiPxqwDeGX/\n",
       "QSDO6wl7AUF5NfaeMFaZQry7xvXEitBs4s1rRFv4EDztfcibie59qiZ3fT4dwvNBNfQFSGxm4Nf7\n",
       "2EqoiMgmPFhFtYULIdAakvcaMYItXAvhZWPPLZuoE+qYllCRuGIjVgiX9h8+7H5IWuFwzwAAAABJ\n",
       "RU5ErkJggg==\n",
       "\" style=\"display:inline;vertical-align:middle;\" /></a>"
      ],
      "text/plain": [
       "x_{i, a}, x_{i + 1, a}, ..., x_{j, a}, x_{i, a + 1}, x_{i + 1, a + 1}, ..., x_{j, a + 1}, ......, x_{i, b}, x_{i + 1, b}, ..., x_{j, b}"
      ]
     },
     "metadata": {},
     "output_type": "display_data"
    }
   ],
   "source": [
    "ExprRange(l, ExprRange(k, IndexedVar(x, (k, l)), i, j), a, b)"
   ]
  },
  {
   "cell_type": "code",
   "execution_count": 6,
   "metadata": {},
   "outputs": [
    {
     "data": {
      "text/html": [
       "<a class=\"ProveItLink\" href=\"../__pv_it/demonstrations/24f6ffc4bd0dae1be489c3981d8d063195600bab0/expr.ipynb\"><img src=\"data:image/png;base64,iVBORw0KGgoAAAANSUhEUgAAAGEAAAAVBAMAAACkm51HAAAAMFBMVEX///8AAAAAAAAAAAAAAAAA\n",
       "AAAAAAAAAAAAAAAAAAAAAAAAAAAAAAAAAAAAAAAAAAAv3aB7AAAAD3RSTlMAInZUiRDNmWbv3US7\n",
       "qzJazP2FAAAACXBIWXMAAA7EAAAOxAGVKw4bAAABt0lEQVQ4y5WTP0jDQBTGv5rGNG1tM4ogph10\n",
       "UjL4ZzTgJihZxEVIF8FFKEVEdDDi4NjSqeBSUHEtbk5WN3ER/9HBoaCTOFRKXQTx3V0Sr041w73f\n",
       "fXfv5Xu5HAADvT98b5/1j4wzNkx2a2MBvDvdC+p1lcp7BLnuheMARv/W78/TsApoXq+O0sz+AaD3\n",
       "3MMFs6k7mO45Y55b87DBmso+vs6J9sZ8k2r2VkDkIWMKWs/eA9FbrBFrGDe3uRpNlMSyhoqAcyPZ\n",
       "ETU+HddALIcjmuyh6DS4/KL5ny6DtthXgVblpHSgm1BKOKRJE5u+V0f3LTiKqKy1ELcF5ZC2kWrx\n",
       "DKActDcbnJtfWa/DrXGixAsL5Jq5QuIDS357qp/hV3ZNFMPj2HWgVHFFXm8GSrDB9qpfUYickRoH\n",
       "18KTYjBKN6knxOpYoJ6+l0sJCy41nWoN8ghWmUHSVE41TgNekn4TzcYbFS6YM/vk44Q2NjwR8SwE\n",
       "9W5xeELQwxYzW0O8GR7qlBzLkiDREBnLh7L9G+9jHUmQiL3nMrwAZhhT7bj1K0gUqdOwEsh9Uizs\n",
       "SIJESXZtI+Y/bm0G+AFOmFnGMYhUwwAAAABJRU5ErkJggg==\n",
       "\" style=\"display:inline;vertical-align:middle;\" /></a>"
      ],
      "text/plain": [
       "(x, i, j, a, b)"
      ]
     },
     "metadata": {},
     "output_type": "display_data"
    }
   ],
   "source": [
    "ExprRange(l, ExprRange(k, IndexedVar(x, (k, l)), i, j), a, b)._free_var_ranges()"
   ]
  },
  {
   "cell_type": "code",
   "execution_count": 7,
   "metadata": {},
   "outputs": [
    {
     "data": {
      "text/html": [
       "<a class=\"ProveItLink\" href=\"../__pv_it/demonstrations/24f6ffc4bd0dae1be489c3981d8d063195600bab0/expr.ipynb\"><img src=\"data:image/png;base64,iVBORw0KGgoAAAANSUhEUgAAAGEAAAAVBAMAAACkm51HAAAAMFBMVEX///8AAAAAAAAAAAAAAAAA\n",
       "AAAAAAAAAAAAAAAAAAAAAAAAAAAAAAAAAAAAAAAAAAAv3aB7AAAAD3RSTlMAInZUiRDNmWbv3US7\n",
       "qzJazP2FAAAACXBIWXMAAA7EAAAOxAGVKw4bAAABt0lEQVQ4y5WTP0jDQBTGv5rGNG1tM4ogph10\n",
       "UjL4ZzTgJihZxEVIF8FFKEVEdDDi4NjSqeBSUHEtbk5WN3ER/9HBoaCTOFRKXQTx3V0Sr041w73f\n",
       "fXfv5Xu5HAADvT98b5/1j4wzNkx2a2MBvDvdC+p1lcp7BLnuheMARv/W78/TsApoXq+O0sz+AaD3\n",
       "3MMFs6k7mO45Y55b87DBmso+vs6J9sZ8k2r2VkDkIWMKWs/eA9FbrBFrGDe3uRpNlMSyhoqAcyPZ\n",
       "ETU+HddALIcjmuyh6DS4/KL5ny6DtthXgVblpHSgm1BKOKRJE5u+V0f3LTiKqKy1ELcF5ZC2kWrx\n",
       "DKActDcbnJtfWa/DrXGixAsL5Jq5QuIDS357qp/hV3ZNFMPj2HWgVHFFXm8GSrDB9qpfUYickRoH\n",
       "18KTYjBKN6knxOpYoJ6+l0sJCy41nWoN8ghWmUHSVE41TgNekn4TzcYbFS6YM/vk44Q2NjwR8SwE\n",
       "9W5xeELQwxYzW0O8GR7qlBzLkiDREBnLh7L9G+9jHUmQiL3nMrwAZhhT7bj1K0gUqdOwEsh9Uizs\n",
       "SIJESXZtI+Y/bm0G+AFOmFnGMYhUwwAAAABJRU5ErkJggg==\n",
       "\" style=\"display:inline;vertical-align:middle;\" /></a>"
      ],
      "text/plain": [
       "(x, i, j, a, b)"
      ]
     },
     "metadata": {},
     "output_type": "display_data"
    }
   ],
   "source": [
    "ExprRange(l, ExprRange(k, IndexedVar(x, (l, k)), i, j), a, b)._free_var_ranges()"
   ]
  },
  {
   "cell_type": "code",
   "execution_count": 8,
   "metadata": {},
   "outputs": [],
   "source": [
    "%end demonstrations"
   ]
  }
 ],
 "metadata": {
  "kernelspec": {
   "display_name": "Python 3",
   "language": "python",
   "name": "python3"
  }
 },
 "nbformat": 4,
 "nbformat_minor": 0
}