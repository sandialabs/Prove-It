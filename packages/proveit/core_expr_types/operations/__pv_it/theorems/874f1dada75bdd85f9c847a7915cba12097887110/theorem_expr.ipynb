{
 "cells": [
  {
   "cell_type": "markdown",
   "metadata": {},
   "source": [
    "Theorem <a class=\"ProveItLink\" href=\"../../../_theorems_.ipynb#operands_substitution_via_tuple\">operands_substitution_via_tuple</a> of type <a class=\"ProveItLink\" href=\"../../../../../../../doc/html/api/proveit.logic.Forall.html\">Forall</a>\n",
    "=======================\n",
    "# from the theory of <a class=\"ProveItLink\" href=\"../../../_theory_nbs_/theory.ipynb\">proveit.core_expr_types.operations</a>\n",
    "*** see <a class=\"ProveItLink\" href=\"dependencies.ipynb\">dependencies</a> ***"
   ]
  },
  {
   "cell_type": "code",
   "execution_count": 1,
   "metadata": {},
   "outputs": [],
   "source": [
    "import proveit\n",
    "# Automation is not needed when only building an expression:\n",
    "proveit.defaults.automation = False # This will speed things up.\n",
    "proveit.defaults.inline_pngs = False # Makes files smaller.\n",
    "%load_theorem_expr # Load the stored theorem expression as 'stored_expr'\n",
    "# import the special expression\n",
    "from proveit.core_expr_types.operations import operands_substitution_via_tuple"
   ]
  },
  {
   "cell_type": "code",
   "execution_count": 2,
   "metadata": {},
   "outputs": [
    {
     "name": "stdout",
     "output_type": "stream",
     "text": [
      "Passed sanity check: operands_substitution_via_tuple matches stored_expr\n"
     ]
    }
   ],
   "source": [
    "# check that the built expression is the same as the stored expression\n",
    "assert operands_substitution_via_tuple.expr == stored_expr\n",
    "assert operands_substitution_via_tuple.expr._style_id == stored_expr._style_id\n",
    "print(\"Passed sanity check: operands_substitution_via_tuple matches stored_expr\")"
   ]
  },
  {
   "cell_type": "code",
   "execution_count": 3,
   "metadata": {},
   "outputs": [
    {
     "name": "stdout",
     "output_type": "stream",
     "text": [
      "\\forall_{n \\in \\mathbb{N}}~\\left[\\forall_{f, x_{1}, x_{2}, \\ldots, x_{n}, y_{1}, y_{2}, \\ldots, y_{n}~|~\\left(x_{1}, x_{2}, \\ldots, x_{n}\\right) = \\left(y_{1}, y_{2}, \\ldots, y_{n}\\right)}~\\left(\\begin{array}{c} \\begin{array}{l} f\\left(x_{1}, x_{2}, \\ldots, x_{n}\\right) =  \\\\ f\\left(y_{1}, y_{2}, \\ldots, y_{n}\\right) \\end{array} \\end{array}\\right)\\right]\n"
     ]
    }
   ],
   "source": [
    "# Show the LaTeX representation of the expression for convenience if you need it.\n",
    "print(stored_expr.latex())"
   ]
  },
  {
   "cell_type": "code",
   "execution_count": 4,
   "metadata": {},
   "outputs": [
    {
     "data": {
      "text/html": [
       "<table>\n",
       "<tr><th>name</th><th>description</th><th>default</th><th>current value</th><th>related methods</th></tr><tr><td>with_wrapping</td><td>If 'True', wrap the Expression after the parameters</td><td>None</td><td>None/False</td><td>('with_wrapping',)</td></tr>\n",
       "<tr><td>condition_wrapping</td><td>Wrap 'before' or 'after' the condition (or None).</td><td>None</td><td>None/False</td><td>('with_wrap_after_condition', 'with_wrap_before_condition')</td></tr>\n",
       "<tr><td>wrap_params</td><td>If 'True', wraps every two parameters AND wraps the Expression after the parameters</td><td>None</td><td>None/False</td><td>('with_params',)</td></tr>\n",
       "<tr><td>justification</td><td>justify to the 'left', 'center', or 'right' in the array cells</td><td>center</td><td>center</td><td>('with_justification',)</td></tr>\n",
       "</table>\n"
      ],
      "text/plain": [
       "style name: with_wrapping\n",
       "description: If 'True', wrap the Expression after the parameters\n",
       "default: None\n",
       "current value: None/False\n",
       "related methods: ('with_wrapping',)\n",
       "style name: condition_wrapping\n",
       "description: Wrap 'before' or 'after' the condition (or None).\n",
       "default: None\n",
       "current value: None/False\n",
       "related methods: ('with_wrap_after_condition', 'with_wrap_before_condition')\n",
       "style name: wrap_params\n",
       "description: If 'True', wraps every two parameters AND wraps the Expression after the parameters\n",
       "default: None\n",
       "current value: None/False\n",
       "related methods: ('with_params',)\n",
       "style name: justification\n",
       "description: justify to the 'left', 'center', or 'right' in the array cells\n",
       "default: center\n",
       "current value: center\n",
       "related methods: ('with_justification',)"
      ]
     },
     "metadata": {},
     "output_type": "display_data"
    }
   ],
   "source": [
    "stored_expr.style_options()"
   ]
  },
  {
   "cell_type": "code",
   "execution_count": 5,
   "metadata": {},
   "outputs": [
    {
     "data": {
      "text/html": [
       "<table><tr><th>&nbsp;</th><th>core type</th><th>sub-expressions</th><th>expression</th></tr>\n",
       "<tr><td>0</td><td>Operation</td><td>operator:&nbsp;7<br>operand:&nbsp;2<br></td><td><a class=\"ProveItLink\" href=\"../a38f7127ecc98315f5637e431c15969b146bed7e0/expr.ipynb\"><img src=\"../a38f7127ecc98315f5637e431c15969b146bed7e0/expr.png\" style=\"display:inline;vertical-align:middle;\" /></a></td></tr>\n",
       "<tr><td>1</td><td>ExprTuple</td><td>2</td><td><a class=\"ProveItLink\" href=\"../ff50bbd61583150e66cc261f0549b3bb35e61cde0/expr.ipynb\"><img src=\"../ff50bbd61583150e66cc261f0549b3bb35e61cde0/expr.png\" style=\"display:inline;vertical-align:middle;\" /></a></td></tr>\n",
       "<tr><td>2</td><td>Lambda</td><td>parameter:&nbsp;30<br>body:&nbsp;4<br></td><td><a class=\"ProveItLink\" href=\"../d1d1e8760d997d72164a7576e8939c689a3f08a30/expr.ipynb\"><img src=\"../d1d1e8760d997d72164a7576e8939c689a3f08a30/expr.png\" style=\"display:inline;vertical-align:middle;\" /></a></td></tr>\n",
       "<tr><td>3</td><td>ExprTuple</td><td>30</td><td><a class=\"ProveItLink\" href=\"../ca565dff2751ea9a3b48fe855133b9e0c2eca83f0/expr.ipynb\"><img src=\"../ca565dff2751ea9a3b48fe855133b9e0c2eca83f0/expr.png\" style=\"display:inline;vertical-align:middle;\" /></a></td></tr>\n",
       "<tr><td>4</td><td>Conditional</td><td>value:&nbsp;5<br>condition:&nbsp;6<br></td><td><a class=\"ProveItLink\" href=\"../0c80a71fc6ef26c484fe07b2d21bfc02c569413a0/expr.ipynb\"><img src=\"../0c80a71fc6ef26c484fe07b2d21bfc02c569413a0/expr.png\" style=\"display:inline;vertical-align:middle;\" /></a></td></tr>\n",
       "<tr><td>5</td><td>Operation</td><td>operator:&nbsp;7<br>operand:&nbsp;11<br></td><td><a class=\"ProveItLink\" href=\"../d56a01e21c0af38fb934758061e2fbc25230c23d0/expr.ipynb\"><img src=\"../d56a01e21c0af38fb934758061e2fbc25230c23d0/expr.png\" style=\"display:inline;vertical-align:middle;\" /></a></td></tr>\n",
       "<tr><td>6</td><td>Operation</td><td>operator:&nbsp;9<br>operands:&nbsp;10<br></td><td><a class=\"ProveItLink\" href=\"../a4c62904f3a87ce48a16b43526806be1316ce7cc0/expr.ipynb\"><img src=\"../a4c62904f3a87ce48a16b43526806be1316ce7cc0/expr.png\" style=\"display:inline;vertical-align:middle;\" /></a></td></tr>\n",
       "<tr><td>7</td><td>Literal</td><td></td><td><a class=\"ProveItLink\" href=\"../../../../../logic/booleans/quantification/universality/__pv_it/common/083d2baa0b8ecab1d230f9ec29a15aa1355809fb0/expr.ipynb\"><img src=\"../../../../../logic/booleans/quantification/universality/__pv_it/common/083d2baa0b8ecab1d230f9ec29a15aa1355809fb0/expr.png\" style=\"display:inline;vertical-align:middle;\" /></a></td></tr>\n",
       "<tr><td>8</td><td>ExprTuple</td><td>11</td><td><a class=\"ProveItLink\" href=\"../79aa016a2f08d23a616376f1e8591fbd897793180/expr.ipynb\"><img src=\"../79aa016a2f08d23a616376f1e8591fbd897793180/expr.png\" style=\"display:inline;vertical-align:middle;\" /></a></td></tr>\n",
       "<tr><td>9</td><td>Literal</td><td></td><td><a class=\"ProveItLink\" href=\"../../../../../logic/sets/membership/__pv_it/common/477487d8796864d23d5810f83761435f25167f690/expr.ipynb\"><img src=\"../../../../../logic/sets/membership/__pv_it/common/477487d8796864d23d5810f83761435f25167f690/expr.png\" style=\"display:inline;vertical-align:middle;\" /></a></td></tr>\n",
       "<tr><td>10</td><td>ExprTuple</td><td>30, 12</td><td><a class=\"ProveItLink\" href=\"../ecc3c58a9897ba541ec19be82e54ee986957c4200/expr.ipynb\"><img src=\"../ecc3c58a9897ba541ec19be82e54ee986957c4200/expr.png\" style=\"display:inline;vertical-align:middle;\" /></a></td></tr>\n",
       "<tr><td>11</td><td>Lambda</td><td>parameters:&nbsp;13<br>body:&nbsp;14<br></td><td><a class=\"ProveItLink\" href=\"../1e73ed2ae3ec11592c74b3388458dfda537a3a790/expr.ipynb\"><img src=\"../1e73ed2ae3ec11592c74b3388458dfda537a3a790/expr.png\" style=\"display:inline;vertical-align:middle;\" /></a></td></tr>\n",
       "<tr><td>12</td><td>Literal</td><td></td><td><a class=\"ProveItLink\" href=\"../../../../../numbers/number_sets/natural_numbers/__pv_it/common/8b7c321957f52ed3b05b36af612eeae4fa4783bc0/expr.ipynb\"><img src=\"../../../../../numbers/number_sets/natural_numbers/__pv_it/common/8b7c321957f52ed3b05b36af612eeae4fa4783bc0/expr.png\" style=\"display:inline;vertical-align:middle;\" /></a></td></tr>\n",
       "<tr><td>13</td><td>ExprTuple</td><td>23, 25, 26</td><td><a class=\"ProveItLink\" href=\"../f6320cb355aefb278878a6e68cbd0df86596d5880/expr.ipynb\"><img src=\"../f6320cb355aefb278878a6e68cbd0df86596d5880/expr.png\" style=\"display:inline;vertical-align:middle;\" /></a></td></tr>\n",
       "<tr><td>14</td><td>Conditional</td><td>value:&nbsp;15<br>condition:&nbsp;16<br></td><td><a class=\"ProveItLink\" href=\"../bd552987e1b0dfd71422e6a75279ddff137852a10/expr.ipynb\"><img src=\"../bd552987e1b0dfd71422e6a75279ddff137852a10/expr.png\" style=\"display:inline;vertical-align:middle;\" /></a></td></tr>\n",
       "<tr><td>15</td><td>Operation</td><td>operator:&nbsp;18<br>operands:&nbsp;17<br></td><td><a class=\"ProveItLink\" href=\"../61b1474676c4a28799a80a24d713e515f939c7ad0/expr.ipynb\"><img src=\"../61b1474676c4a28799a80a24d713e515f939c7ad0/expr.png\" style=\"display:inline;vertical-align:middle;\" /></a></td></tr>\n",
       "<tr><td>16</td><td>Operation</td><td>operator:&nbsp;18<br>operands:&nbsp;19<br></td><td><a class=\"ProveItLink\" href=\"../4eb6ba36ceadc85529b6f30f34cc1cfd5df14f2a0/expr.ipynb\"><img src=\"../4eb6ba36ceadc85529b6f30f34cc1cfd5df14f2a0/expr.png\" style=\"display:inline;vertical-align:middle;\" /></a></td></tr>\n",
       "<tr><td>17</td><td>ExprTuple</td><td>20, 21</td><td><a class=\"ProveItLink\" href=\"../8852a8a166d06f2f22cd0c7d199008b6a05d30610/expr.ipynb\"><img src=\"../8852a8a166d06f2f22cd0c7d199008b6a05d30610/expr.png\" style=\"display:inline;vertical-align:middle;\" /></a></td></tr>\n",
       "<tr><td>18</td><td>Literal</td><td></td><td><a class=\"ProveItLink\" href=\"../../../../../logic/equality/__pv_it/common/fb96dc12b2aa8801dda64d0132b396c63d1502bb0/expr.ipynb\"><img src=\"../../../../../logic/equality/__pv_it/common/fb96dc12b2aa8801dda64d0132b396c63d1502bb0/expr.png\" style=\"display:inline;vertical-align:middle;\" /></a></td></tr>\n",
       "<tr><td>19</td><td>ExprTuple</td><td>22, 24</td><td><a class=\"ProveItLink\" href=\"../74b2d1cd2754885980c27745b8d683175d21c7300/expr.ipynb\"><img src=\"../74b2d1cd2754885980c27745b8d683175d21c7300/expr.png\" style=\"display:inline;vertical-align:middle;\" /></a></td></tr>\n",
       "<tr><td>20</td><td>Operation</td><td>operator:&nbsp;23<br>operands:&nbsp;22<br></td><td><a class=\"ProveItLink\" href=\"../../../../__pv_it/common/9c8f9c0c3ca5a7df840ea1afd668e83e9c2a06130/expr.ipynb\"><img src=\"../../../../__pv_it/common/9c8f9c0c3ca5a7df840ea1afd668e83e9c2a06130/expr.png\" style=\"display:inline;vertical-align:middle;\" /></a></td></tr>\n",
       "<tr><td>21</td><td>Operation</td><td>operator:&nbsp;23<br>operands:&nbsp;24<br></td><td><a class=\"ProveItLink\" href=\"../../../../__pv_it/common/60bfa5e9a2fce657b7a87b0a2aa72ecbc09325350/expr.ipynb\"><img src=\"../../../../__pv_it/common/60bfa5e9a2fce657b7a87b0a2aa72ecbc09325350/expr.png\" style=\"display:inline;vertical-align:middle;\" /></a></td></tr>\n",
       "<tr><td>22</td><td>ExprTuple</td><td>25</td><td><a class=\"ProveItLink\" href=\"../../../../__pv_it/common/444da5a1d6d4966e75dd84efc2704e338e811fe40/expr.ipynb\"><img src=\"../../../../__pv_it/common/444da5a1d6d4966e75dd84efc2704e338e811fe40/expr.png\" style=\"display:inline;vertical-align:middle;\" /></a></td></tr>\n",
       "<tr><td>23</td><td>Variable</td><td></td><td><a class=\"ProveItLink\" href=\"../../../../../__pv_it/common/01b6dbb444a31fc38af4c2379badef6c75b363710/expr.ipynb\"><img src=\"../../../../../__pv_it/common/01b6dbb444a31fc38af4c2379badef6c75b363710/expr.png\" style=\"display:inline;vertical-align:middle;\" /></a></td></tr>\n",
       "<tr><td>24</td><td>ExprTuple</td><td>26</td><td><a class=\"ProveItLink\" href=\"../../../../__pv_it/common/3e6f103b1536f1d5f586682ee3b57d9899deba720/expr.ipynb\"><img src=\"../../../../__pv_it/common/3e6f103b1536f1d5f586682ee3b57d9899deba720/expr.png\" style=\"display:inline;vertical-align:middle;\" /></a></td></tr>\n",
       "<tr><td>25</td><td>ExprRange</td><td>lambda_map:&nbsp;27<br>start_index:&nbsp;29<br>end_index:&nbsp;30<br></td><td><a class=\"ProveItLink\" href=\"../../../../__pv_it/common/d50f819f834d55ea1b9fad150926a94bf07ad8fc0/expr.ipynb\"><img src=\"../../../../__pv_it/common/d50f819f834d55ea1b9fad150926a94bf07ad8fc0/expr.png\" style=\"display:inline;vertical-align:middle;\" /></a></td></tr>\n",
       "<tr><td>26</td><td>ExprRange</td><td>lambda_map:&nbsp;28<br>start_index:&nbsp;29<br>end_index:&nbsp;30<br></td><td><a class=\"ProveItLink\" href=\"../../../../__pv_it/common/bcf5ce1b1593e9c2c261618d94fd21c2cd04eae40/expr.ipynb\"><img src=\"../../../../__pv_it/common/bcf5ce1b1593e9c2c261618d94fd21c2cd04eae40/expr.png\" style=\"display:inline;vertical-align:middle;\" /></a></td></tr>\n",
       "<tr><td>27</td><td>Lambda</td><td>parameter:&nbsp;36<br>body:&nbsp;31<br></td><td><a class=\"ProveItLink\" href=\"../../../../__pv_it/common/f8f30fee5e5b4e37951ff8886b574795bf35d80c0/expr.ipynb\"><img src=\"../../../../__pv_it/common/f8f30fee5e5b4e37951ff8886b574795bf35d80c0/expr.png\" style=\"display:inline;vertical-align:middle;\" /></a></td></tr>\n",
       "<tr><td>28</td><td>Lambda</td><td>parameter:&nbsp;36<br>body:&nbsp;32<br></td><td><a class=\"ProveItLink\" href=\"../../../../__pv_it/common/47ca082a5e3217d68f414fa9b5fb4cf7b07e06430/expr.ipynb\"><img src=\"../../../../__pv_it/common/47ca082a5e3217d68f414fa9b5fb4cf7b07e06430/expr.png\" style=\"display:inline;vertical-align:middle;\" /></a></td></tr>\n",
       "<tr><td>29</td><td>Literal</td><td></td><td><a class=\"ProveItLink\" href=\"../../../../../numbers/numerals/__pv_it/common/682157d4892d216d9e5626ed533aff9b56b9506e0/expr.ipynb\"><img src=\"../../../../../numbers/numerals/__pv_it/common/682157d4892d216d9e5626ed533aff9b56b9506e0/expr.png\" style=\"display:inline;vertical-align:middle;\" /></a></td></tr>\n",
       "<tr><td>30</td><td>Variable</td><td></td><td><a class=\"ProveItLink\" href=\"../../../../../__pv_it/common/8968bb04eb3f7dfa02353397ce929b025bbd79c20/expr.ipynb\"><img src=\"../../../../../__pv_it/common/8968bb04eb3f7dfa02353397ce929b025bbd79c20/expr.png\" style=\"display:inline;vertical-align:middle;\" /></a></td></tr>\n",
       "<tr><td>31</td><td>IndexedVar</td><td>variable:&nbsp;33<br>index:&nbsp;36<br></td><td><a class=\"ProveItLink\" href=\"../../../../__pv_it/common/b7a46615d4e67a28ab963909b818c72af8e8e7c60/expr.ipynb\"><img src=\"../../../../__pv_it/common/b7a46615d4e67a28ab963909b818c72af8e8e7c60/expr.png\" style=\"display:inline;vertical-align:middle;\" /></a></td></tr>\n",
       "<tr><td>32</td><td>IndexedVar</td><td>variable:&nbsp;34<br>index:&nbsp;36<br></td><td><a class=\"ProveItLink\" href=\"../../../../__pv_it/common/dd83f4522fafc6cf7fa80e461f3330c821446f0a0/expr.ipynb\"><img src=\"../../../../__pv_it/common/dd83f4522fafc6cf7fa80e461f3330c821446f0a0/expr.png\" style=\"display:inline;vertical-align:middle;\" /></a></td></tr>\n",
       "<tr><td>33</td><td>Variable</td><td></td><td><a class=\"ProveItLink\" href=\"../../../../../__pv_it/common/a0d9d672aa5e272d907247690c152cc2c6daafb70/expr.ipynb\"><img src=\"../../../../../__pv_it/common/a0d9d672aa5e272d907247690c152cc2c6daafb70/expr.png\" style=\"display:inline;vertical-align:middle;\" /></a></td></tr>\n",
       "<tr><td>34</td><td>Variable</td><td></td><td><a class=\"ProveItLink\" href=\"../../../../../__pv_it/common/ff7dba4ef0bbe791ab573bf2d9c220a304399ac80/expr.ipynb\"><img src=\"../../../../../__pv_it/common/ff7dba4ef0bbe791ab573bf2d9c220a304399ac80/expr.png\" style=\"display:inline;vertical-align:middle;\" /></a></td></tr>\n",
       "<tr><td>35</td><td>ExprTuple</td><td>36</td><td><a class=\"ProveItLink\" href=\"../../../../__pv_it/common/4b0dd6be36d76552eda6a95d5b4a27f5a5b62f900/expr.ipynb\"><img src=\"../../../../__pv_it/common/4b0dd6be36d76552eda6a95d5b4a27f5a5b62f900/expr.png\" style=\"display:inline;vertical-align:middle;\" /></a></td></tr>\n",
       "<tr><td>36</td><td>Variable</td><td></td><td><a class=\"ProveItLink\" href=\"../../../../__pv_it/common/006c465e50948aa2b52285e2de47974f741255cc0/expr.ipynb\"><img src=\"../../../../__pv_it/common/006c465e50948aa2b52285e2de47974f741255cc0/expr.png\" style=\"display:inline;vertical-align:middle;\" /></a></td></tr>\n",
       "</table>\n"
      ],
      "text/plain": [
       "0. forall_{n in Natural} [forall_{f, x_{1}, x_{2}, ..., x_{n}, y_{1}, y_{2}, ..., y_{n} | (x_{1}, x_{2}, ..., x_{n}) = (y_{1}, y_{2}, ..., y_{n})} (f(x_{1}, x_{2}, ..., x_{n}) =  \\\\ f(y_{1}, y_{2}, ..., y_{n}))]\n",
       "   core type: Operation\n",
       "   operator: 7\n",
       "   operand: 2\n",
       "1. (n -> {forall_{f, x_{1}, x_{2}, ..., x_{n}, y_{1}, y_{2}, ..., y_{n} | (x_{1}, x_{2}, ..., x_{n}) = (y_{1}, y_{2}, ..., y_{n})} (f(x_{1}, x_{2}, ..., x_{n}) =  \\\\ f(y_{1}, y_{2}, ..., y_{n})) if n in Natural.)\n",
       "   core type: ExprTuple\n",
       "   sub-expressions: 2\n",
       "2. n -> {forall_{f, x_{1}, x_{2}, ..., x_{n}, y_{1}, y_{2}, ..., y_{n} | (x_{1}, x_{2}, ..., x_{n}) = (y_{1}, y_{2}, ..., y_{n})} (f(x_{1}, x_{2}, ..., x_{n}) =  \\\\ f(y_{1}, y_{2}, ..., y_{n})) if n in Natural.\n",
       "   core type: Lambda\n",
       "   parameter: 30\n",
       "   body: 4\n",
       "3. (n)\n",
       "   core type: ExprTuple\n",
       "   sub-expressions: 30\n",
       "4. {forall_{f, x_{1}, x_{2}, ..., x_{n}, y_{1}, y_{2}, ..., y_{n} | (x_{1}, x_{2}, ..., x_{n}) = (y_{1}, y_{2}, ..., y_{n})} (f(x_{1}, x_{2}, ..., x_{n}) =  \\\\ f(y_{1}, y_{2}, ..., y_{n})) if n in Natural.\n",
       "   core type: Conditional\n",
       "   value: 5\n",
       "   condition: 6\n",
       "5. forall_{f, x_{1}, x_{2}, ..., x_{n}, y_{1}, y_{2}, ..., y_{n} | (x_{1}, x_{2}, ..., x_{n}) = (y_{1}, y_{2}, ..., y_{n})} (f(x_{1}, x_{2}, ..., x_{n}) =  \\\\ f(y_{1}, y_{2}, ..., y_{n}))\n",
       "   core type: Operation\n",
       "   operator: 7\n",
       "   operand: 11\n",
       "6. n in Natural\n",
       "   core type: Operation\n",
       "   operator: 9\n",
       "   operands: 10\n",
       "7. forall\n",
       "   core type: Literal\n",
       "   sub-expressions: \n",
       "8. ((f, x_{1}, x_{2}, ..., x_{n}, y_{1}, y_{2}, ..., y_{n}) -> {f(x_{1}, x_{2}, ..., x_{n}) =  \\\\ f(y_{1}, y_{2}, ..., y_{n}) if (x_{1}, x_{2}, ..., x_{n}) = (y_{1}, y_{2}, ..., y_{n}).)\n",
       "   core type: ExprTuple\n",
       "   sub-expressions: 11\n",
       "9. in\n",
       "   core type: Literal\n",
       "   sub-expressions: \n",
       "10. (n, Natural)\n",
       "    core type: ExprTuple\n",
       "    sub-expressions: 30, 12\n",
       "11. (f, x_{1}, x_{2}, ..., x_{n}, y_{1}, y_{2}, ..., y_{n}) -> {f(x_{1}, x_{2}, ..., x_{n}) =  \\\\ f(y_{1}, y_{2}, ..., y_{n}) if (x_{1}, x_{2}, ..., x_{n}) = (y_{1}, y_{2}, ..., y_{n}).\n",
       "    core type: Lambda\n",
       "    parameters: 13\\n    body: 14\n",
       "12. Natural\n",
       "    core type: Literal\n",
       "    sub-expressions: \n",
       "13. (f,x_{1}, x_{2}, ..., x_{n},y_{1}, y_{2}, ..., y_{n})\n",
       "    core type: ExprTuple\n",
       "    sub-expressions: 23, 25, 26\n",
       "14. {f(x_{1}, x_{2}, ..., x_{n}) =  \\\\ f(y_{1}, y_{2}, ..., y_{n}) if (x_{1}, x_{2}, ..., x_{n}) = (y_{1}, y_{2}, ..., y_{n}).\n",
       "    core type: Conditional\n",
       "    value: 15\n",
       "    condition: 16\n",
       "15. f(x_{1}, x_{2}, ..., x_{n}) =  \\\\ f(y_{1}, y_{2}, ..., y_{n})\n",
       "    core type: Operation\n",
       "    operator: 18\n",
       "    operands: 17\n",
       "16. (x_{1}, x_{2}, ..., x_{n}) = (y_{1}, y_{2}, ..., y_{n})\n",
       "    core type: Operation\n",
       "    operator: 18\n",
       "    operands: 19\n",
       "17. (f(x_{1}, x_{2}, ..., x_{n}), f(y_{1}, y_{2}, ..., y_{n}))\n",
       "    core type: ExprTuple\n",
       "    sub-expressions: 20, 21\n",
       "18. =\n",
       "    core type: Literal\n",
       "    sub-expressions: \n",
       "19. ((x_{1}, x_{2}, ..., x_{n}), (y_{1}, y_{2}, ..., y_{n}))\n",
       "    core type: ExprTuple\n",
       "    sub-expressions: 22, 24\n",
       "20. f(x_{1}, x_{2}, ..., x_{n})\n",
       "    core type: Operation\n",
       "    operator: 23\n",
       "    operands: 22\n",
       "21. f(y_{1}, y_{2}, ..., y_{n})\n",
       "    core type: Operation\n",
       "    operator: 23\n",
       "    operands: 24\n",
       "22. (x_{1}, x_{2}, ..., x_{n})\n",
       "    core type: ExprTuple\n",
       "    sub-expressions: 25\n",
       "23. f\n",
       "    core type: Variable\n",
       "    sub-expressions: \n",
       "24. (y_{1}, y_{2}, ..., y_{n})\n",
       "    core type: ExprTuple\n",
       "    sub-expressions: 26\n",
       "25. x_{1}, x_{2}, ..., x_{n}\n",
       "    core type: ExprRange\n",
       "    lambda_map: 27\n",
       "    start_index: 29\n",
       "    end_index: 30\n",
       "26. y_{1}, y_{2}, ..., y_{n}\n",
       "    core type: ExprRange\n",
       "    lambda_map: 28\n",
       "    start_index: 29\n",
       "    end_index: 30\n",
       "27. _a -> x_{_a}\n",
       "    core type: Lambda\n",
       "    parameter: 36\n",
       "    body: 31\n",
       "28. _a -> y_{_a}\n",
       "    core type: Lambda\n",
       "    parameter: 36\n",
       "    body: 32\n",
       "29. 1\n",
       "    core type: Literal\n",
       "    sub-expressions: \n",
       "30. n\n",
       "    core type: Variable\n",
       "    sub-expressions: \n",
       "31. x_{_a}\n",
       "    core type: IndexedVar\n",
       "variable: 33\n",
       "index: 36\n",
       "32. y_{_a}\n",
       "    core type: IndexedVar\n",
       "variable: 34\n",
       "index: 36\n",
       "33. x\n",
       "    core type: Variable\n",
       "    sub-expressions: \n",
       "34. y\n",
       "    core type: Variable\n",
       "    sub-expressions: \n",
       "35. (_a)\n",
       "    core type: ExprTuple\n",
       "    sub-expressions: 36\n",
       "36. _a\n",
       "    core type: Variable\n",
       "    sub-expressions: "
      ]
     },
     "metadata": {},
     "output_type": "display_data"
    }
   ],
   "source": [
    "# display the expression information\n",
    "stored_expr.expr_info()"
   ]
  },
  {
   "cell_type": "code",
   "execution_count": null,
   "metadata": {},
   "outputs": [],
   "source": []
  }
 ],
 "metadata": {
  "kernelspec": {
   "display_name": "Python 3",
   "language": "python",
   "name": "python3"
  }
 },
 "nbformat": 4,
 "nbformat_minor": 0
}