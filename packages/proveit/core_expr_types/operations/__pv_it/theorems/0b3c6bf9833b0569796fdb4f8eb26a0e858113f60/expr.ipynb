{
 "cells": [
  {
   "cell_type": "markdown",
   "metadata": {},
   "source": [
    "Expression of type <a class=\"ProveItLink\" href=\"../../../../../../../doc/html/api/proveit.ExprTuple.html\">ExprTuple</a>\n",
    "=======================\n",
    "# from the theory of <a class=\"ProveItLink\" href=\"../../../_theory_nbs_/theory.ipynb\">proveit.core_expr_types.operations</a>"
   ]
  },
  {
   "cell_type": "code",
   "execution_count": 1,
   "metadata": {},
   "outputs": [],
   "source": [
    "import proveit\n",
    "# Automation is not needed when building an expression:\n",
    "proveit.defaults.automation = False # This will speed things up.\n",
    "proveit.defaults.inline_pngs = False # Makes files smaller.\n",
    "%load_expr # Load the stored expression as 'stored_expr'\n",
    "# import Expression classes needed to build the expression\n",
    "from proveit import Conditional, ExprTuple, Lambda, f, g\n",
    "from proveit.core_expr_types import f__x_1_to_n, g__x_1_to_n, x_1_to_n\n",
    "from proveit.logic import Equals"
   ]
  },
  {
   "cell_type": "code",
   "execution_count": 2,
   "metadata": {},
   "outputs": [
    {
     "data": {
      "text/html": [
       "<strong id=\"expr\">expr:</strong> <a class=\"ProveItLink\" href=\"expr.ipynb\"><img src=\"expr.png\" style=\"display:inline;vertical-align:middle;\" /></a><br>"
      ],
      "text/plain": [
       "<IPython.core.display.HTML object>"
      ]
     },
     "metadata": {},
     "output_type": "display_data"
    }
   ],
   "source": [
    "# build up the expression from sub-expressions\n",
    "expr = ExprTuple(Lambda([f, g, x_1_to_n], Conditional(Equals(f__x_1_to_n, g__x_1_to_n), Equals(f, g))))"
   ]
  },
  {
   "cell_type": "code",
   "execution_count": 3,
   "metadata": {},
   "outputs": [
    {
     "name": "stdout",
     "output_type": "stream",
     "text": [
      "Passed sanity check: expr matches stored_expr\n"
     ]
    }
   ],
   "source": [
    "# check that the built expression is the same as the stored expression\n",
    "assert expr == stored_expr\n",
    "assert expr._style_id == stored_expr._style_id\n",
    "print(\"Passed sanity check: expr matches stored_expr\")"
   ]
  },
  {
   "cell_type": "code",
   "execution_count": 4,
   "metadata": {},
   "outputs": [
    {
     "name": "stdout",
     "output_type": "stream",
     "text": [
      "\\left(\\left(f, g, x_{1}, x_{2}, \\ldots, x_{n}\\right) \\mapsto \\left\\{f\\left(x_{1}, x_{2}, \\ldots, x_{n}\\right) = g\\left(x_{1}, x_{2}, \\ldots, x_{n}\\right) \\textrm{ if } f = g\\right..\\right)\n"
     ]
    }
   ],
   "source": [
    "# Show the LaTeX representation of the expression for convenience if you need it.\n",
    "print(stored_expr.latex())"
   ]
  },
  {
   "cell_type": "code",
   "execution_count": 5,
   "metadata": {},
   "outputs": [
    {
     "data": {
      "text/html": [
       "no style options"
      ],
      "text/plain": [
       "no style options"
      ]
     },
     "metadata": {},
     "output_type": "display_data"
    }
   ],
   "source": [
    "stored_expr.style_options()"
   ]
  },
  {
   "cell_type": "code",
   "execution_count": 6,
   "metadata": {},
   "outputs": [
    {
     "data": {
      "text/html": [
       "<table><tr><th>&nbsp;</th><th>core type</th><th>sub-expressions</th><th>expression</th></tr>\n",
       "<tr><td>0</td><td>ExprTuple</td><td>1</td><td><a class=\"ProveItLink\" href=\"expr.ipynb\"><img src=\"expr.png\" style=\"display:inline;vertical-align:middle;\" /></a></td></tr>\n",
       "<tr><td>1</td><td>Lambda</td><td>parameters:&nbsp;2<br>body:&nbsp;3<br></td><td><a class=\"ProveItLink\" href=\"../0e37976e6b251146b2640ae5a613e98a34e59b0b0/expr.ipynb\"><img src=\"../0e37976e6b251146b2640ae5a613e98a34e59b0b0/expr.png\" style=\"display:inline;vertical-align:middle;\" /></a></td></tr>\n",
       "<tr><td>2</td><td>ExprTuple</td><td>11, 12, 14</td><td><a class=\"ProveItLink\" href=\"../7c595894c4081119cc7cfb005e09fc985a8aaff60/expr.ipynb\"><img src=\"../7c595894c4081119cc7cfb005e09fc985a8aaff60/expr.png\" style=\"display:inline;vertical-align:middle;\" /></a></td></tr>\n",
       "<tr><td>3</td><td>Conditional</td><td>value:&nbsp;4<br>condition:&nbsp;5<br></td><td><a class=\"ProveItLink\" href=\"../19e871384da7b669cd37ec956a977155934f47110/expr.ipynb\"><img src=\"../19e871384da7b669cd37ec956a977155934f47110/expr.png\" style=\"display:inline;vertical-align:middle;\" /></a></td></tr>\n",
       "<tr><td>4</td><td>Operation</td><td>operator:&nbsp;7<br>operands:&nbsp;6<br></td><td><a class=\"ProveItLink\" href=\"../086b0371c7e844af180ffb9d763efd4e2dcefc320/expr.ipynb\"><img src=\"../086b0371c7e844af180ffb9d763efd4e2dcefc320/expr.png\" style=\"display:inline;vertical-align:middle;\" /></a></td></tr>\n",
       "<tr><td>5</td><td>Operation</td><td>operator:&nbsp;7<br>operands:&nbsp;8<br></td><td><a class=\"ProveItLink\" href=\"../a853e5e7665b4ad524df726ae4e1015727f4d8740/expr.ipynb\"><img src=\"../a853e5e7665b4ad524df726ae4e1015727f4d8740/expr.png\" style=\"display:inline;vertical-align:middle;\" /></a></td></tr>\n",
       "<tr><td>6</td><td>ExprTuple</td><td>9, 10</td><td><a class=\"ProveItLink\" href=\"../c285791dcf3f866461c03ce1f95f9fbf6c8d224b0/expr.ipynb\"><img src=\"../c285791dcf3f866461c03ce1f95f9fbf6c8d224b0/expr.png\" style=\"display:inline;vertical-align:middle;\" /></a></td></tr>\n",
       "<tr><td>7</td><td>Literal</td><td></td><td><a class=\"ProveItLink\" href=\"../../../../../logic/equality/__pv_it/common/fb96dc12b2aa8801dda64d0132b396c63d1502bb0/expr.ipynb\"><img src=\"../../../../../logic/equality/__pv_it/common/fb96dc12b2aa8801dda64d0132b396c63d1502bb0/expr.png\" style=\"display:inline;vertical-align:middle;\" /></a></td></tr>\n",
       "<tr><td>8</td><td>ExprTuple</td><td>11, 12</td><td><a class=\"ProveItLink\" href=\"../2c954f158acc6105edefb51b37f61ee4473f2f420/expr.ipynb\"><img src=\"../2c954f158acc6105edefb51b37f61ee4473f2f420/expr.png\" style=\"display:inline;vertical-align:middle;\" /></a></td></tr>\n",
       "<tr><td>9</td><td>Operation</td><td>operator:&nbsp;11<br>operands:&nbsp;13<br></td><td><a class=\"ProveItLink\" href=\"../../../../__pv_it/common/9c8f9c0c3ca5a7df840ea1afd668e83e9c2a06130/expr.ipynb\"><img src=\"../../../../__pv_it/common/9c8f9c0c3ca5a7df840ea1afd668e83e9c2a06130/expr.png\" style=\"display:inline;vertical-align:middle;\" /></a></td></tr>\n",
       "<tr><td>10</td><td>Operation</td><td>operator:&nbsp;12<br>operands:&nbsp;13<br></td><td><a class=\"ProveItLink\" href=\"../../../../__pv_it/common/c52df5d678838de8e6af22563c046a2cb2277adc0/expr.ipynb\"><img src=\"../../../../__pv_it/common/c52df5d678838de8e6af22563c046a2cb2277adc0/expr.png\" style=\"display:inline;vertical-align:middle;\" /></a></td></tr>\n",
       "<tr><td>11</td><td>Variable</td><td></td><td><a class=\"ProveItLink\" href=\"../../../../../__pv_it/common/01b6dbb444a31fc38af4c2379badef6c75b363710/expr.ipynb\"><img src=\"../../../../../__pv_it/common/01b6dbb444a31fc38af4c2379badef6c75b363710/expr.png\" style=\"display:inline;vertical-align:middle;\" /></a></td></tr>\n",
       "<tr><td>12</td><td>Variable</td><td></td><td><a class=\"ProveItLink\" href=\"../../../../../__pv_it/common/96ac097ea7ee432328a5e933062d0ef407701bf40/expr.ipynb\"><img src=\"../../../../../__pv_it/common/96ac097ea7ee432328a5e933062d0ef407701bf40/expr.png\" style=\"display:inline;vertical-align:middle;\" /></a></td></tr>\n",
       "<tr><td>13</td><td>ExprTuple</td><td>14</td><td><a class=\"ProveItLink\" href=\"../../../../__pv_it/common/444da5a1d6d4966e75dd84efc2704e338e811fe40/expr.ipynb\"><img src=\"../../../../__pv_it/common/444da5a1d6d4966e75dd84efc2704e338e811fe40/expr.png\" style=\"display:inline;vertical-align:middle;\" /></a></td></tr>\n",
       "<tr><td>14</td><td>ExprRange</td><td>lambda_map:&nbsp;15<br>start_index:&nbsp;16<br>end_index:&nbsp;17<br></td><td><a class=\"ProveItLink\" href=\"../../../../__pv_it/common/d50f819f834d55ea1b9fad150926a94bf07ad8fc0/expr.ipynb\"><img src=\"../../../../__pv_it/common/d50f819f834d55ea1b9fad150926a94bf07ad8fc0/expr.png\" style=\"display:inline;vertical-align:middle;\" /></a></td></tr>\n",
       "<tr><td>15</td><td>Lambda</td><td>parameter:&nbsp;21<br>body:&nbsp;18<br></td><td><a class=\"ProveItLink\" href=\"../../../../__pv_it/common/f8f30fee5e5b4e37951ff8886b574795bf35d80c0/expr.ipynb\"><img src=\"../../../../__pv_it/common/f8f30fee5e5b4e37951ff8886b574795bf35d80c0/expr.png\" style=\"display:inline;vertical-align:middle;\" /></a></td></tr>\n",
       "<tr><td>16</td><td>Literal</td><td></td><td><a class=\"ProveItLink\" href=\"../../../../../numbers/numerals/__pv_it/common/682157d4892d216d9e5626ed533aff9b56b9506e0/expr.ipynb\"><img src=\"../../../../../numbers/numerals/__pv_it/common/682157d4892d216d9e5626ed533aff9b56b9506e0/expr.png\" style=\"display:inline;vertical-align:middle;\" /></a></td></tr>\n",
       "<tr><td>17</td><td>Variable</td><td></td><td><a class=\"ProveItLink\" href=\"../../../../../__pv_it/common/8968bb04eb3f7dfa02353397ce929b025bbd79c20/expr.ipynb\"><img src=\"../../../../../__pv_it/common/8968bb04eb3f7dfa02353397ce929b025bbd79c20/expr.png\" style=\"display:inline;vertical-align:middle;\" /></a></td></tr>\n",
       "<tr><td>18</td><td>IndexedVar</td><td>variable:&nbsp;19<br>index:&nbsp;21<br></td><td><a class=\"ProveItLink\" href=\"../../../../__pv_it/common/b7a46615d4e67a28ab963909b818c72af8e8e7c60/expr.ipynb\"><img src=\"../../../../__pv_it/common/b7a46615d4e67a28ab963909b818c72af8e8e7c60/expr.png\" style=\"display:inline;vertical-align:middle;\" /></a></td></tr>\n",
       "<tr><td>19</td><td>Variable</td><td></td><td><a class=\"ProveItLink\" href=\"../../../../../__pv_it/common/a0d9d672aa5e272d907247690c152cc2c6daafb70/expr.ipynb\"><img src=\"../../../../../__pv_it/common/a0d9d672aa5e272d907247690c152cc2c6daafb70/expr.png\" style=\"display:inline;vertical-align:middle;\" /></a></td></tr>\n",
       "<tr><td>20</td><td>ExprTuple</td><td>21</td><td><a class=\"ProveItLink\" href=\"../../../../__pv_it/common/4b0dd6be36d76552eda6a95d5b4a27f5a5b62f900/expr.ipynb\"><img src=\"../../../../__pv_it/common/4b0dd6be36d76552eda6a95d5b4a27f5a5b62f900/expr.png\" style=\"display:inline;vertical-align:middle;\" /></a></td></tr>\n",
       "<tr><td>21</td><td>Variable</td><td></td><td><a class=\"ProveItLink\" href=\"../../../../__pv_it/common/006c465e50948aa2b52285e2de47974f741255cc0/expr.ipynb\"><img src=\"../../../../__pv_it/common/006c465e50948aa2b52285e2de47974f741255cc0/expr.png\" style=\"display:inline;vertical-align:middle;\" /></a></td></tr>\n",
       "</table>\n"
      ],
      "text/plain": [
       "0. ((f, g, x_{1}, x_{2}, ..., x_{n}) -> {f(x_{1}, x_{2}, ..., x_{n}) = g(x_{1}, x_{2}, ..., x_{n}) if f = g.)\n",
       "   core type: ExprTuple\n",
       "   sub-expressions: 1\n",
       "1. (f, g, x_{1}, x_{2}, ..., x_{n}) -> {f(x_{1}, x_{2}, ..., x_{n}) = g(x_{1}, x_{2}, ..., x_{n}) if f = g.\n",
       "   core type: Lambda\n",
       "   parameters: 2\\n   body: 3\n",
       "2. (f, g,x_{1}, x_{2}, ..., x_{n})\n",
       "   core type: ExprTuple\n",
       "   sub-expressions: 11, 12, 14\n",
       "3. {f(x_{1}, x_{2}, ..., x_{n}) = g(x_{1}, x_{2}, ..., x_{n}) if f = g.\n",
       "   core type: Conditional\n",
       "   value: 4\n",
       "   condition: 5\n",
       "4. f(x_{1}, x_{2}, ..., x_{n}) = g(x_{1}, x_{2}, ..., x_{n})\n",
       "   core type: Operation\n",
       "   operator: 7\n",
       "   operands: 6\n",
       "5. f = g\n",
       "   core type: Operation\n",
       "   operator: 7\n",
       "   operands: 8\n",
       "6. (f(x_{1}, x_{2}, ..., x_{n}), g(x_{1}, x_{2}, ..., x_{n}))\n",
       "   core type: ExprTuple\n",
       "   sub-expressions: 9, 10\n",
       "7. =\n",
       "   core type: Literal\n",
       "   sub-expressions: \n",
       "8. (f, g)\n",
       "   core type: ExprTuple\n",
       "   sub-expressions: 11, 12\n",
       "9. f(x_{1}, x_{2}, ..., x_{n})\n",
       "   core type: Operation\n",
       "   operator: 11\n",
       "   operands: 13\n",
       "10. g(x_{1}, x_{2}, ..., x_{n})\n",
       "    core type: Operation\n",
       "    operator: 12\n",
       "    operands: 13\n",
       "11. f\n",
       "    core type: Variable\n",
       "    sub-expressions: \n",
       "12. g\n",
       "    core type: Variable\n",
       "    sub-expressions: \n",
       "13. (x_{1}, x_{2}, ..., x_{n})\n",
       "    core type: ExprTuple\n",
       "    sub-expressions: 14\n",
       "14. x_{1}, x_{2}, ..., x_{n}\n",
       "    core type: ExprRange\n",
       "    lambda_map: 15\n",
       "    start_index: 16\n",
       "    end_index: 17\n",
       "15. _a -> x_{_a}\n",
       "    core type: Lambda\n",
       "    parameter: 21\n",
       "    body: 18\n",
       "16. 1\n",
       "    core type: Literal\n",
       "    sub-expressions: \n",
       "17. n\n",
       "    core type: Variable\n",
       "    sub-expressions: \n",
       "18. x_{_a}\n",
       "    core type: IndexedVar\n",
       "variable: 19\n",
       "index: 21\n",
       "19. x\n",
       "    core type: Variable\n",
       "    sub-expressions: \n",
       "20. (_a)\n",
       "    core type: ExprTuple\n",
       "    sub-expressions: 21\n",
       "21. _a\n",
       "    core type: Variable\n",
       "    sub-expressions: "
      ]
     },
     "metadata": {},
     "output_type": "display_data"
    }
   ],
   "source": [
    "# display the expression information\n",
    "stored_expr.expr_info()"
   ]
  },
  {
   "cell_type": "code",
   "execution_count": null,
   "metadata": {},
   "outputs": [],
   "source": []
  }
 ],
 "metadata": {
  "kernelspec": {
   "display_name": "Python 3",
   "language": "python",
   "name": "python3"
  }
 },
 "nbformat": 4,
 "nbformat_minor": 0
}