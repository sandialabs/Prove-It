{
 "cells": [
  {
   "cell_type": "markdown",
   "metadata": {},
   "source": [
    "Theorems (or conjectures) for the theory of <a class=\"ProveItLink\" href=\"theory.ipynb\">proveit.core_expr_types.operations</a>\n",
    "========"
   ]
  },
  {
   "cell_type": "code",
   "execution_count": 1,
   "metadata": {},
   "outputs": [],
   "source": [
    "import proveit\n",
    "# Prepare this notebook for defining the theorems of a theory:\n",
    "%theorems_notebook # Keep this at the top following 'import proveit'.\n",
    "from proveit import f, g, n\n",
    "from proveit import ExprTuple\n",
    "from proveit.core_expr_types import x_1_to_n, y_1_to_n, f__x_1_to_n, f__y_1_to_n, g__x_1_to_n\n",
    "from proveit.logic import Forall, Equals\n",
    "from proveit.numbers import Natural"
   ]
  },
  {
   "cell_type": "code",
   "execution_count": 2,
   "metadata": {},
   "outputs": [
    {
     "name": "stdout",
     "output_type": "stream",
     "text": [
      "Defining theorems for theory 'proveit.core_expr_types.operations'\n",
      "Subsequent end-of-cell assignments will define theorems\n",
      "'%end theorems' will finalize the definitions\n"
     ]
    }
   ],
   "source": [
    "%begin theorems"
   ]
  },
  {
   "cell_type": "code",
   "execution_count": 3,
   "metadata": {},
   "outputs": [
    {
     "data": {
      "text/html": [
       "<strong id=\"operands_substitution_via_tuple\"><a class=\"ProveItLink\" href=\"proofs/operands_substitution_via_tuple/thm_proof.ipynb\">operands_substitution_via_tuple</a> (conjecture without proof):<br></strong> <a class=\"ProveItLink\" href=\"../__pv_it/theorems/874f1dada75bdd85f9c847a7915cba12097887110/theorem_expr.ipynb\"><img src=\"data:image/png;base64,iVBORw0KGgoAAAANSUhEUgAAAuoAAAAzBAMAAAAz5zBbAAAAMFBMVEX///8AAAAAAAAAAAAAAAAA\n",
       "AAAAAAAAAAAAAAAAAAAAAAAAAAAAAAAAAAAAAAAAAAAv3aB7AAAAD3RSTlMAq1RmmUTNIjK7EInv\n",
       "3XZ/CtNrAAAACXBIWXMAAA7EAAAOxAGVKw4bAAAJAklEQVR42u1cfYwURRZ/09M93dvzsWPuHxE1\n",
       "Q0QlKjhRUDEGxqz4GXVPE6NCZOJdYo77wzExd0ERRmKMxhVWDSrEj0aNl1suMGAkESMZMVFPc9yY\n",
       "qEHimkZXDeqteyoCa3Ss6qququ6erp7J7KKZmfpj+tWr1/V6flX16tWb1wMgKebIiAW9MsVlZGRE\n",
       "2p6u1wsdDcCTx1KZuYlcn60flaM+2NmzLpY/puoedg3Hwq5GfWZjtt5Wp+F3K7Ue6gDxYmP+p231\n",
       "qtmhTdt7qAOsKvkY6qvYBiiV9rr9LBzPfA91+CQwF4dy6PPFNrtNhPp9yjs91ONVP2fPTRiwgXb7\n",
       "Dff7/txDPeW3JNqkc6m22/E7oS3LS12P+rd+S5B0fAyl2G7Hfwo3PtmuR/09v2U48T1sG1S0BMzx\n",
       "Ex7aIZxvvNVGJyBRYnu47zjZ7agbR/ycfsfnSyBHQ4UD9tWCb+OtNigeifMczqhTst7B+aXbUY8F\n",
       "7PeasvOlkR9zPiy2/gDmebSBVLdsPyG0MyJBy1nhSp/udtRTWT/nbMJHX7oMlyJq3f9oA6kWIHy+\n",
       "Ewla1ocrXVzqctTXB4IwrzHUAfbij7msCVcP0cXQuOzl5LJwqW35Lkf9W//JFB4B18KAdhhGBNSd\n",
       "6oUy1B2J+ReMF9zBamjX6QLrYtSfCpmufTaYG5DRrxD4kHvpVvFiMIMdMQlzwRvwlhzUvlqXo/5v\n",
       "P0M/RLz2LChHXqhqOQd180dgVWM/MhFFwuMEl9C3FgG7hleFK01OENSdKX9KKOoxx83Mdx7o5g8B\n",
       "Z3qCeJQ1MK+xZ59DTcWoxaor0axOI+ThfYxNgRKCRMzWsGP0gSRacIigvgRfbgtFXcXTPVHqQHf9\n",
       "l4DPTW3wPsbBqCvsBKsXdITDGcGjD5NIldVCGfRalNaFcC/ubzgUdQM/ysoONDDKdz7GrESOEPM9\n",
       "qCdZbeUD9yF8g2FgLrEG0mvLoOajVthCJy6ZzIXb9RXouqMDUY/7j6YfuRHePndl3337boCtTOC/\n",
       "9TqCzQ70xCX+CJmXIubo/wnqcTQyCcluei66FjsQ9cxhH2PRZe589Kx8H8qZYE/+cXhCpvYo9WH+\n",
       "Mzr6rgT11Ojox5UORD05Gdq0ur3hlG6Cb1LULwfYJEFdLUOfNe0YFMjl9Ba+nEA3fxufl+rkbzLY\n",
       "oxT1O0AXD1D6+y/DRVmOOmq8A9MvDEznw5BFHR9sfaBau03lwa+J3wT1jynqfVaSPfW6GRtgVtJS\n",
       "LeGUtAlexvRjN04/6ptbuWUpo1q4Tav8TlBXbLaZqpfjE5NdSIpn03lkM53eBUlQX9LKLfxH4VZu\n",
       "W/E7sTBQXIQW6cC6MZpTMOfU1R7UE3FsDGe9i73LzNhqd6cXSMHYCkztADnYonJLFgJhVaGZoY6O\n",
       "F+OXjZWa08Dd3VqULoHJnODk4VBk2slCijpPursp7EDj//yyfKpEXKY5yeeWiqgnT8OTKu60fRkb\n",
       "vpW2CSQvInNrvzVEXTF70qgGvFzWzFDXi8gBmOEeVqI0KAW4YiMqeXRbhC6BOZsN35FQZNrJQrol\n",
       "ov11F/VVaBrc9QX0W5pzqJoDhYMi6rojqDqbV77PLtM2geRFZN41F2g/+nO1TOD0y5sZ6towxOEZ\n",
       "A5rToLldIiJCl8C8KfSUBFOShZSJCFn94KIew1/jZFgG8b9s3PgoQn1LQkQdjncObKS3/hIJAhFS\n",
       "m+c3qf3CCpuJOiWysUrMvm7M52ngZi/qCrYCaOHrm6AJDYYLLr4tQhdmEupBFhE4FIRkKrKQVshj\n",
       "bj+5qDvlbbjEMCpkrmvzPKjTwI5zGYKSMddyyRRs8/U6JBi2D+BtKpseTJWrps9pQM0+1DGORlWH\n",
       "tfuhCQ3MwuDbInRhps/CGN8HMZmKLKT5TcTcXNT1Cdg3h5yWFgAcCKK+zQKzold3Ijc5zUgdYWBW\n",
       "YIv74TDjS85Bo7cFYJ82QWQhXV6ORqsqyJJmIirupquSReRSI9SjNWRsvptKdVHm/OvPRLLj3rXu\n",
       "3eCnIgspZUXH3FzUtSx8nYeVaEIYH5aYPyCgjjYrYw9cs3Tcwt/OJWEDJodKxlv4gzCVgxgGtFZn\n",
       "LyxSWWXgcWSjBgVZ0kxEOepPgPr57q8c1KM1sCAVDnzIdFHmvOG0J0jyYTBIMBVZSIl8dPTH+1uS\n",
       "+crGDf6IgLBwFMq1GKmWGcnbj9fxc+fMEtoLiOw/4DEn8iDIkmYiylB3faf90ISGfwrnJbkuwoyV\n",
       "/+aJbJ0YiELyLKStA2By/9Mcy8tPYqJ4MiuTjE0EUW8UhyHlUbyl3sxRp+SuDCN5ey2zwALNitk3\n",
       "uLIna0VIWrYgS5sdUY66WuKoR2rgvrxakuqizDR8djPTgMrigCngWUiVsyDOt4akUoXFMpxE8bh0\n",
       "qaSGW0F9N34gsnaMb3a4ZKL+s0sCazezyktIOWiLKq7s9V8D3F6vCbKkmYhy1GEXiUvgE1mUBjH4\n",
       "skuqizI3w5l5vGm5ZX3O/3VZFpKRuxpiwywJaa1agxnmq8eFWWwi7i4s6bawxm4F9ekudAqazd9h\n",
       "htDyIgAnyUIyYS+kbJaEZKVs2KuCWgt9FCzuDoE0vtP1WUhqYFLyLCTkzawv83SY5ZZxpH9QDz3N\n",
       "EnFKS+f6SdDlqGuBYxLPQlKL8I2QhHQpZKpxKxx1R5ymICk1mdKuzy4laRViYVlI0JfFQzDXNV6P\n",
       "YAZ2LBvnIDnibgpSfFiiMt71mdQBJ4ZnIYGa1b4nqONkI7gYlued10U9qUe8hsXdFCRVFsVJ994a\n",
       "8L8hw7OQwJw5dpig7mQdbd59bcmJDrEcJJ6INGpRcZqCJMWs94aMu9y5dRazkJJFatdJ1tFOgDvh\n",
       "7+E5SEicpCDBPTKVZOfo7jcf/+qpiVlIO+FfOYp6BUNq7gH9yQeuDMtBcsRJCpI0dkYDPd2N+pDn\n",
       "hx8xC+kT/LK7k4SEs47SdqwCqXp9IiwHyREnKUi6bDNN53qog/fnDzEL6RQWoMcJIMqiJULNV/A4\n",
       "cHEhJteg9N5oxyXk3xvayUL6UmZgis2hfmFn/ytPIndM1d1PwBwZOShHvfevPFNYTPrj3rP1o78C\n",
       "4hL8WtpKAOYAAAAASUVORK5CYII=\n",
       "\" style=\"display:inline;vertical-align:middle;\" /></a><br>"
      ],
      "text/plain": [
       "<IPython.core.display.HTML object>"
      ]
     },
     "metadata": {},
     "output_type": "display_data"
    }
   ],
   "source": [
    "operands_substitution_via_tuple = Forall(\n",
    "    n, Forall((f, x_1_to_n, y_1_to_n),\n",
    "              Equals(f__x_1_to_n, f__y_1_to_n).with_wrap_after_operator(),\n",
    "              condition=Equals(ExprTuple(x_1_to_n), ExprTuple(y_1_to_n))),\n",
    "    domain=Natural)"
   ]
  },
  {
   "cell_type": "markdown",
   "metadata": {},
   "source": [
    "We can derive `operator_substitution` as a special case of `proveit.logic.equality.substitution`."
   ]
  },
  {
   "cell_type": "code",
   "execution_count": 4,
   "metadata": {},
   "outputs": [
    {
     "data": {
      "text/html": [
       "<strong id=\"operator_substitution\"><a class=\"ProveItLink\" href=\"proofs/operator_substitution/thm_proof.ipynb\">operator_substitution</a> (established theorem):<br></strong> <a class=\"ProveItLink\" href=\"../__pv_it/theorems/0b9ec0127a0c834e27ee263ebd42e1f541e4f8390/theorem_expr.ipynb\"><img src=\"data:image/png;base64,iVBORw0KGgoAAAANSUhEUgAAAlgAAAAZBAMAAAAf000PAAAAMFBMVEX///8AAAAAAAAAAAAAAAAA\n",
       "AAAAAAAAAAAAAAAAAAAAAAAAAAAAAAAAAAAAAAAAAAAv3aB7AAAAD3RSTlMAq1RmmUTNIjK7EInv\n",
       "3XZ/CtNrAAAACXBIWXMAAA7EAAAOxAGVKw4bAAAGYUlEQVRYw+1Zf4gUVRz/7szszuzMurfRPypm\n",
       "J5Ucld7infYTW7hMs5LVvyqllgqiIBwpiCs7T+kPqdMuQ+r8Q4YUyQTvTlEI6ViVsJJsEws7Wpir\n",
       "SzFpOQI7uaDr/Zr33szcLHbTEklf7s37vpn9ft7M573v933fO4B6clPVhv+FSrZ6tv4PSo1+Az1C\n",
       "j4cUlHgjbnsIbf8yWT9G6H9fkm70nGiOhfwUK4isHK5uiSQrgSsl3yCulAF81Y45XJ++/BT55I6Y\n",
       "/penBZG1DLefjyRLK6Iq1ajItY9cB3uauT59STkRD8y4/vEiK22wGft7byRZBp55nY3ywg5yPfGE\n",
       "w/Xpi1qIeKDF9Yt2VtrIgFjN0TELU3qoUWSVSbSZEHoc+TLifiYucMahpQ1UxHuqToBva2CcVwiw\n",
       "VRF6HHk24v78uMCpPC2Iiq+q1dN1yMpUqz8MNIgsDQOrc74pMN2szX5bnsUHRz46Vncl8xkMhiN7\n",
       "7WV0fSSMFOwoLLKBlaMFkbUCYFcdsrRuSDsNIitFokmT6+kajLiPSc8L2blapS7bssEScqdKhKzx\n",
       "Vkn/gs24AFKwo7DIBmqJFkTWBtBzdchCDzfEmz7Rj2aQsdvU7el3wQPOjVLIttWJRN3o7DO4M/i0\n",
       "1YE/UXU2jBToaIrVQjZQyrQgstKOVZQz4XNH4P6clJTugiNY3Tvd1SrN6ikAMqTjVq53w0PYR5aw\n",
       "xwZo6AXMYzdEzmxqwOSd4NPjYIyj6jMPCfaUfHYHBmdHATMD1hijBZGluCK+b5+1E+ZZjuZIZC2k\n",
       "8f29x2OSNQUAJetTST+DX+JX8QMXz8x6rnhGqOuCH/wbZMuULIpk1Co+uwLUccWM2BEky7SQtW4p\n",
       "95gVOJt3C5a83UmpxGwCYpI1EeWG7wo9OQ4fAyzgP3jaNp2mon41epNDDKgsCMQsdRzSOeqGFAmU\n",
       "is/uCosAUwoxYG5YoQWTdQilUmrH9lG2Y2i5rctHljUfG807jT9GrRFia8tHvZxeUqUNwmjX8iBZ\n",
       "FIAGhBobnrQrJgfSzZ2JMgzQrzZR2V+cAxaoDiLLDH8Neitm0H53Da+n9wTjzhj047Cz20MiX4yR\n",
       "mN29mKywi0tdE1ZA7aUFk7UR0b9nXT5jmySRb7E+XCuTpR8HZgAwSqZB1p6VYl8uqZJcTPQ+EyQL\n",
       "AzzchyTPUNiaDPoVT1eu7i0nmylZ/ajr1rcehTU0EcNN83d2n7eogbn4JJxiKYLvo8fhZoemFAwJ\n",
       "k4VtvY5QBOCgfnRqQFihWQ0umKwEmouvXYAmJ0nCfwsULvlOHWaS6Y3HTp8g67AKuw3QSb5B1DWj\n",
       "Rf9r5tNud5Asje9GGAqOKtgtlDFPN1e5ty5i/jRjGC0JNaUDf9I2hzThHL5f8C5VhxnoB0vEx78N\n",
       "jtnqyyQmbeNImCyM5HVkDBMYiifQedeEFXSjSAs/opmL4qP6Ql/fDkTWgVT4iCadpwnHOGmh65Zh\n",
       "8NSyORZ4zSY7FLPSfOXmKADnMYs5oUvB53axPu/yNXn6zx0o4eLwq0+xDDxHoiEfOBKzJKROR4bh\n",
       "In4xl6wab7DCyfocHjSMATqzkgvDZGVwj1bBIDs4o6wDULKwahvBfV0P2OqyRQMyWRiAuqGHQren\n",
       "8zw3bveTJXYNr8CrctMTS3o3rdAd3i9vdoyr/h02IUsg6QXdlmC4iF9gVugWv0MiSx+D8y00k18M\n",
       "MBImq9+BA6DkEjlUbbRKGiHLU9NFMAdQi1308lEoKJegIpPVz0eQoLDpZsP3+4QukWXylVv/YOtK\n",
       "qSk2JFzbBDO2dIePRuY4+6jV+zJZElLn1jcdCYbHOtE1YQWfyZBzGY+sZA4u56ETjb7xnU1P/Pxk\n",
       "9aC/Zlh1wUWV9vPQL4QsT0UZh3ECemzjFL6cgFVraw7M1EsyWT3ibTAKe69eWLpc6FReXz+EVg4x\n",
       "byYnx6QmF/HRqyF7WKJEhKxlVNnvffvRP1wZ6evJSRmGr+UiMSGs4FEkI+k/VjY/6dsZcayMnaSZ\n",
       "OhNzm2HwVMtBPSoimNCqkl3sSGS1ywkfjyJd0t2ueOeZ0QeUuhsL+SIr13wGvwMtiUlnG1zAFU32\n",
       "Ud7E1PWTaHo/yY2oZuaUw9LM2jGTPyco/0W5VrKGXJwmdN63Elci7ZPThSk0iawhKVRglOuQrJf+\n",
       "gf8b6nB9SLZ68i/ar+OcBECa5QAAAABJRU5ErkJggg==\n",
       "\" style=\"display:inline;vertical-align:middle;\" /></a><br>"
      ],
      "text/plain": [
       "<IPython.core.display.HTML object>"
      ]
     },
     "metadata": {},
     "output_type": "display_data"
    }
   ],
   "source": [
    "operator_substitution = Forall(n, Forall((f, g, x_1_to_n),\n",
    "                                         Equals(f__x_1_to_n, g__x_1_to_n),\n",
    "                                         conditions = [Equals(f, g)]),\n",
    "                               domain=Natural)"
   ]
  },
  {
   "cell_type": "code",
   "execution_count": 5,
   "metadata": {},
   "outputs": [
    {
     "name": "stdout",
     "output_type": "stream",
     "text": [
      "These theorems may now be imported from the theory package: proveit.core_expr_types.operations\n"
     ]
    }
   ],
   "source": [
    "%end theorems"
   ]
  }
 ],
 "metadata": {
  "kernelspec": {
   "display_name": "Python 3",
   "language": "python",
   "name": "python3"
  }
 },
 "nbformat": 4,
 "nbformat_minor": 0
}