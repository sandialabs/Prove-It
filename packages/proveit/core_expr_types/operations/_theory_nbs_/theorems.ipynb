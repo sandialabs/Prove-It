{
 "cells": [
  {
   "cell_type": "markdown",
   "metadata": {},
   "source": [
    "Theorems (or conjectures) for the theory of <a class=\"ProveItLink\" href=\"theory.ipynb\">proveit.core_expr_types.operations</a>\n",
    "========"
   ]
  },
  {
   "cell_type": "code",
   "execution_count": null,
   "metadata": {},
   "outputs": [],
   "source": [
    "import proveit\n",
    "from proveit import f, g, n\n",
    "from proveit import ExprTuple\n",
    "from proveit.core_expr_types import x_1_to_n, y_1_to_n, f__x_1_to_n, f__y_1_to_n, g__x_1_to_n\n",
    "from proveit.logic import Forall, Equals\n",
    "from proveit.numbers import Natural\n",
    "# Prepare this notebook for defining the theorems of a theory:\n",
    "%theorems_notebook # Keep this at the top following 'import proveit'."
   ]
  },
  {
   "cell_type": "code",
   "execution_count": null,
   "metadata": {},
   "outputs": [],
   "source": [
    "%begin theorems"
   ]
  },
  {
   "cell_type": "code",
   "execution_count": null,
   "metadata": {},
   "outputs": [],
   "source": [
    "operands_substitution_via_tuple = Forall(\n",
    "    n, Forall((f, x_1_to_n, y_1_to_n),\n",
    "              Equals(f__x_1_to_n, f__y_1_to_n).with_wrap_after_operator(),\n",
    "              condition=Equals(ExprTuple(x_1_to_n), ExprTuple(y_1_to_n))),\n",
    "    domain=Natural)"
   ]
  },
  {
   "cell_type": "markdown",
   "metadata": {},
   "source": [
    "We can derive `operator_substitution` as a special case of `proveit.logic.equality.substitution`."
   ]
  },
  {
   "cell_type": "code",
   "execution_count": null,
   "metadata": {},
   "outputs": [],
   "source": [
    "operator_substitution = Forall(n, Forall((f, g, x_1_to_n),\n",
    "                                         Equals(f__x_1_to_n, g__x_1_to_n),\n",
    "                                         conditions = [Equals(f, g)]),\n",
    "                               domain=Natural)"
   ]
  },
  {
   "cell_type": "code",
   "execution_count": null,
   "metadata": {},
   "outputs": [],
   "source": [
    "%end theorems"
   ]
  }
 ],
 "metadata": {
  "kernelspec": {
   "display_name": "Python 3",
   "language": "python",
   "name": "python3"
  }
 },
 "nbformat": 4,
 "nbformat_minor": 0
}
