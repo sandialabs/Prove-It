{
 "cells": [
  {
   "cell_type": "markdown",
   "metadata": {},
   "source": [
    "Proof of <a class=\"ProveItLink\" href=\"../../../../../_theory_nbs_/theory.ipynb\">proveit</a>.<a class=\"ProveItLink\" href=\"../../../../_theory_nbs_/theory.ipynb\">core_expr_types</a>.<a class=\"ProveItLink\" href=\"../../theory.ipynb\">operations</a>.<a class=\"ProveItLink\" href=\"../../theorems.ipynb#operator_substitution\">operator_substitution</a> theorem\n",
    "========"
   ]
  },
  {
   "cell_type": "code",
   "execution_count": 1,
   "metadata": {},
   "outputs": [],
   "source": [
    "import proveit\n",
    "from proveit import Lambda, f, g, n\n",
    "from proveit.core_expr_types import x_1_to_n, f__x_1_to_n, g__x_1_to_n\n",
    "from proveit.logic import Forall, Equals\n",
    "from proveit.numbers import Natural\n",
    "theory = proveit.Theory() # the theorem's theory"
   ]
  },
  {
   "cell_type": "code",
   "execution_count": 2,
   "metadata": {},
   "outputs": [
    {
     "data": {
      "text/html": [
       "With these <a href=\"allowed_presumptions.txt\">allowed</a>/<a href=\"disallowed_presumptions.txt\">disallowed</a> theorem/theory presumptions (e.g., to avoid circular dependencies), we begin our proof of<br><strong id=\"operator_substitution\">operator_substitution:</strong> <a class=\"ProveItLink\" href=\"../../../__pv_it/theorems/c3b74b3227cd2826955921cdd422698ed9bae09a0/expr.ipynb\"><img src=\"data:image/png;base64,iVBORw0KGgoAAAANSUhEUgAAAlgAAAAZBAMAAAAf000PAAAAMFBMVEX///8AAAAAAAAAAAAAAAAA\n",
       "AAAAAAAAAAAAAAAAAAAAAAAAAAAAAAAAAAAAAAAAAAAv3aB7AAAAD3RSTlMAq1RmmUTNIjK7EInv\n",
       "3XZ/CtNrAAAACXBIWXMAAA7EAAAOxAGVKw4bAAAGYUlEQVRYw+1Zf4gUVRz/7szszuzMurfRPypm\n",
       "J5Ucld7infYTW7hMs5LVvyqllgqiIBwpiCs7T+kPqdMuQ+r8Q4YUyQTvTlEI6ViVsJJsEws7Wpir\n",
       "SzFpOQI7uaDr/Zr33szcLHbTEklf7s37vpn9ft7M573v933fO4B6clPVhv+FSrZ6tv4PSo1+Az1C\n",
       "j4cUlHgjbnsIbf8yWT9G6H9fkm70nGiOhfwUK4isHK5uiSQrgSsl3yCulAF81Y45XJ++/BT55I6Y\n",
       "/penBZG1DLefjyRLK6Iq1ajItY9cB3uauT59STkRD8y4/vEiK22wGft7byRZBp55nY3ywg5yPfGE\n",
       "w/Xpi1qIeKDF9Yt2VtrIgFjN0TELU3qoUWSVSbSZEHoc+TLifiYucMahpQ1UxHuqToBva2CcVwiw\n",
       "VRF6HHk24v78uMCpPC2Iiq+q1dN1yMpUqz8MNIgsDQOrc74pMN2szX5bnsUHRz46Vncl8xkMhiN7\n",
       "7WV0fSSMFOwoLLKBlaMFkbUCYFcdsrRuSDsNIitFokmT6+kajLiPSc8L2blapS7bssEScqdKhKzx\n",
       "Vkn/gs24AFKwo7DIBmqJFkTWBtBzdchCDzfEmz7Rj2aQsdvU7el3wQPOjVLIttWJRN3o7DO4M/i0\n",
       "1YE/UXU2jBToaIrVQjZQyrQgstKOVZQz4XNH4P6clJTugiNY3Tvd1SrN6ikAMqTjVq53w0PYR5aw\n",
       "xwZo6AXMYzdEzmxqwOSd4NPjYIyj6jMPCfaUfHYHBmdHATMD1hijBZGluCK+b5+1E+ZZjuZIZC2k\n",
       "8f29x2OSNQUAJetTST+DX+JX8QMXz8x6rnhGqOuCH/wbZMuULIpk1Co+uwLUccWM2BEky7SQtW4p\n",
       "95gVOJt3C5a83UmpxGwCYpI1EeWG7wo9OQ4fAyzgP3jaNp2mon41epNDDKgsCMQsdRzSOeqGFAmU\n",
       "is/uCosAUwoxYG5YoQWTdQilUmrH9lG2Y2i5rctHljUfG807jT9GrRFia8tHvZxeUqUNwmjX8iBZ\n",
       "FIAGhBobnrQrJgfSzZ2JMgzQrzZR2V+cAxaoDiLLDH8Neitm0H53Da+n9wTjzhj047Cz20MiX4yR\n",
       "mN29mKywi0tdE1ZA7aUFk7UR0b9nXT5jmySRb7E+XCuTpR8HZgAwSqZB1p6VYl8uqZJcTPQ+EyQL\n",
       "AzzchyTPUNiaDPoVT1eu7i0nmylZ/ajr1rcehTU0EcNN83d2n7eogbn4JJxiKYLvo8fhZoemFAwJ\n",
       "k4VtvY5QBOCgfnRqQFihWQ0umKwEmouvXYAmJ0nCfwsULvlOHWaS6Y3HTp8g67AKuw3QSb5B1DWj\n",
       "Rf9r5tNud5Asje9GGAqOKtgtlDFPN1e5ty5i/jRjGC0JNaUDf9I2hzThHL5f8C5VhxnoB0vEx78N\n",
       "jtnqyyQmbeNImCyM5HVkDBMYiifQedeEFXSjSAs/opmL4qP6Ql/fDkTWgVT4iCadpwnHOGmh65Zh\n",
       "8NSyORZ4zSY7FLPSfOXmKADnMYs5oUvB53axPu/yNXn6zx0o4eLwq0+xDDxHoiEfOBKzJKROR4bh\n",
       "In4xl6wab7DCyfocHjSMATqzkgvDZGVwj1bBIDs4o6wDULKwahvBfV0P2OqyRQMyWRiAuqGHQren\n",
       "8zw3bveTJXYNr8CrctMTS3o3rdAd3i9vdoyr/h02IUsg6QXdlmC4iF9gVugWv0MiSx+D8y00k18M\n",
       "MBImq9+BA6DkEjlUbbRKGiHLU9NFMAdQi1308lEoKJegIpPVz0eQoLDpZsP3+4QukWXylVv/YOtK\n",
       "qSk2JFzbBDO2dIePRuY4+6jV+zJZElLn1jcdCYbHOtE1YQWfyZBzGY+sZA4u56ETjb7xnU1P/Pxk\n",
       "9aC/Zlh1wUWV9vPQL4QsT0UZh3ECemzjFL6cgFVraw7M1EsyWT3ibTAKe69eWLpc6FReXz+EVg4x\n",
       "byYnx6QmF/HRqyF7WKJEhKxlVNnvffvRP1wZ6evJSRmGr+UiMSGs4FEkI+k/VjY/6dsZcayMnaSZ\n",
       "OhNzm2HwVMtBPSoimNCqkl3sSGS1ywkfjyJd0t2ueOeZ0QeUuhsL+SIr13wGvwMtiUlnG1zAFU32\n",
       "Ud7E1PWTaHo/yY2oZuaUw9LM2jGTPyco/0W5VrKGXJwmdN63Elci7ZPThSk0iawhKVRglOuQrJf+\n",
       "gf8b6nB9SLZ68i/ar+OcBECa5QAAAABJRU5ErkJggg==\n",
       "\" style=\"display:inline;vertical-align:middle;\" /></a><br>(see <a class=\"ProveItLink\" href=\"../../../__pv_it/theorems/0b9ec0127a0c834e27ee263ebd42e1f541e4f8390/dependencies.ipynb\">dependencies</a>)<br>"
      ],
      "text/plain": [
       "<IPython.core.display.HTML object>"
      ]
     },
     "metadata": {},
     "output_type": "display_data"
    }
   ],
   "source": [
    "%proving operator_substitution"
   ]
  },
  {
   "cell_type": "code",
   "execution_count": 3,
   "metadata": {},
   "outputs": [
    {
     "data": {
      "text/html": [
       "<strong id=\"repl_lambda\">repl_lambda:</strong> <a class=\"ProveItLink\" href=\"../../../__pv_it/_proof_operator_substitution/0285a57a9dccbde958b75388d4131b29a54aac4c0/expr.ipynb\"><img src=\"data:image/png;base64,iVBORw0KGgoAAAANSUhEUgAAAMIAAAAVCAMAAAAjBMGUAAAANlBMVEX///8AAAAAAAAAAAAAAAAA\n",
       "AAAAAAAAAAAAAAAAAAAAAAAAAAAAAAAAAAAAAAAAAAAAAAAAAABHL6OuAAAAEXRSTlMAmYkQqzLv\n",
       "VES73WZ2Is3z6e3ESjgAAAAJcEhZcwAADsQAAA7EAZUrDhsAAAItSURBVEjHxVfZlqQgDGWVLdDD\n",
       "//9sg6AGBIfq7nPMS1HmGrLdCIT8Vjx5T/5mb1AvhqAB/aGM8eU3EVgx8qaAO5dMyG05nQjMA3lX\n",
       "wpn4TWmzXAUEpu7lEBw9eirO/Ic7YzB4I2/LVp1hFj1solH03kcXWIXXQwh7HzixWXG5ahuI7SuH\n",
       "wfQgMwcQXDI25tOzdkmmJpgovxGmTivTv4TA4aBCigkEEGrHE+xRuzYEZyZcaQQf5Tzv0PEcg21N\n",
       "ikuMcYkiIofEXddeWMsZE4J/zlq8QZviQkcV8cOvf7aRGHXzDgJvVZODotVxCdAlAWtzC/6gGthE\n",
       "p4l3NvdV0EHP2HyGsK/P/lIDFw9tTkdb9PXZA8MPdKmCEfMQZOjKjsFWoVGbas35JIRT6/hPQ7hM\n",
       "UJcqTdt8tfG1DgT/kAxT1txoInI2WFOFGnunPeq4RIiBCe70lhixVb+cKQRtWkU/fhcacJ1oKkpO\n",
       "0w5a4RB4DCMtkZYj7bUYPBqZ8Bzyw+P7WuZ6y+Zu7PY1b8CyOksBUrBOtVywu6+91tcJV7VpcWbp\n",
       "XF2LkYk0XA8KJMSeUSo+GdAtb0ZdfXJBDZrFJ++8n2nvtgagLW1K6T6liE97KUHC8lfzBnb0KYTB\n",
       "QdwbKSXlE+2gCwYm4p47JY9zpjUfHJjvYHM7BnoWIoNyKBhkMGaZaQfnisFoyn0AzJWM5DwCXb++\n",
       "3cHcPNxHnm8rS1ea/+jNX1w9PZD3ZL8KfAMSXxGzt4PvBAAAAABJRU5ErkJggg==\n",
       "\" style=\"display:inline;vertical-align:middle;\" /></a><br>"
      ],
      "text/plain": [
       "<IPython.core.display.HTML object>"
      ]
     },
     "metadata": {},
     "output_type": "display_data"
    }
   ],
   "source": [
    "repl_lambda = Lambda(f, f__x_1_to_n)"
   ]
  },
  {
   "cell_type": "code",
   "execution_count": 4,
   "metadata": {},
   "outputs": [
    {
     "data": {
      "text/html": [
       "<span style=\"font-size:20px;\"><a class=\"ProveItLink\" href=\"../../../__pv_it/theorems/a853e5e7665b4ad524df726ae4e1015727f4d8740/expr.ipynb\"><img src=\"data:image/png;base64,iVBORw0KGgoAAAANSUhEUgAAADEAAAASBAMAAAAAiiu3AAAAMFBMVEX///8AAAAAAAAAAAAAAAAA\n",
       "AAAAAAAAAAAAAAAAAAAAAAAAAAAAAAAAAAAAAAAAAAAv3aB7AAAAD3RSTlMAmYkQqzLvVES73WZ2\n",
       "Is1wFLxSAAAACXBIWXMAAA7EAAAOxAGVKw4bAAAAo0lEQVQY02NgYGBgVDJgwA5UwgpwyKR34tDD\n",
       "8RmHDgamBTgkuN2WCKCLseuc3QCk+A+AeYyrwMABxNZjuDYBSN0PwNDyGaK8HsMCNgeG+AtAWgtD\n",
       "Jr6A4RiInsKAbs/+CxDBHAw9+xmYfwMp3h8YMvYXWEC+Z/+AGSo+iiDfMzpg8T4f0PMlfBgBzerM\n",
       "EA/040o7DA0sycxvgNQeWWzWNDAwAAAb7SiCUDC2NAAAAABJRU5ErkJggg==\n",
       "\" style=\"display:inline;vertical-align:middle;\" /></a> <a class=\"ProveItLink\" href=\"../../../__pv_it/_proof_operator_substitution/dca62f0b05fd739fbf2df2506e3dc088cffd26600/proof.ipynb\" style=\"text-decoration: none\">&nbsp;&#x22A2;&nbsp;&nbsp;</a><a class=\"ProveItLink\" href=\"../../../__pv_it/theorems/086b0371c7e844af180ffb9d763efd4e2dcefc320/expr.ipynb\"><img src=\"data:image/png;base64,iVBORw0KGgoAAAANSUhEUgAAAUgAAAAVBAMAAADWXWqdAAAAMFBMVEX///8AAAAAAAAAAAAAAAAA\n",
       "AAAAAAAAAAAAAAAAAAAAAAAAAAAAAAAAAAAAAAAAAAAv3aB7AAAAD3RSTlMAmYkQqzLvVES73WZ2\n",
       "Is1wFLxSAAAACXBIWXMAAA7EAAAOxAGVKw4bAAADMUlEQVRIx61XTWgTQRR+m026abKbLgoerEoN\n",
       "BUFL2SoeisUGIr3Yw6pUoQgJ9KBgxfiDBw82B1E8WVDBg4VKlWpPLSIqaLOHoqARogehoDR3BYuh\n",
       "UBCN87ezk91sCOwOZPO+mfe+fPPmzc4EgDcNgrRW0ZXwiN8HEhm3fIfUQgjEUtpAT6UnkEj46Dty\n",
       "KQzi3pN4qoeDUUHK8BmQq2EQn7mNv7oDikzqPgPSYgjE8Rqx8wFFwoRPf0cYxJFZbCnVoFw/fPqv\n",
       "h0CcHHmM8ymhfSOXs8f3CMXUCJuVm+jR6x5V+j7hld6CPkMrB9PCHnfBNoi7yB5PIT4JVqztQjE1\n",
       "wmblJnosk54F0jLY7oev0yzDujoqzTpxLtgG8ZqJrQSa2VsoGUdBXmaDFO7vzfpyUQ/WrroTWaPz\n",
       "n0erVUnWootwiJUUhXL6iNE28RQt7yKACbuQdfoDG6RQB/9sUg/Wcu4Nk4EcPmvOAsRAQvpiZZY9\n",
       "CiXwz6aHeC8XCTCJH9f4MIabLNXN26Rj3nQN5QrwDqhIRI9zqnBRGHYVtY22ie+BvdwQ/wsHBJEE\n",
       "Pm8lkngsvSjr9tyEmixVKPU8ftypyIYgEsOk0UKkm5hq7rRAfhDNQw/tRNViQ5xqb/HIYHvIr87B\n",
       "eYReuzxKIP/B3w8BBosjEKGZxHEM4pef7NVnNCHWNslQJAPKxkA+XiAi5X/AYWyOQPoYrgoG9dCG\n",
       "qlBjrxqxDVeiNfYGmTqxDW5RkTiOQRg3HL4Gdg+xsk6LGc1qh3XxJUvvgsHhqkEgwCNcFbptzIHt\n",
       "EbXi+Lh66l6x0d1keccBBspKd4GKxHEMancpJHwOu/PTDrGUoZxPODsWqfAF1nStIkDeLjvb2JR0\n",
       "EzTvVk2R4zzBS5rUpBP3Gb6LkHsZHuIrKfbqX2oQGeFodeyYIUDenJvdGiROmZ57RCwLObPx5kFE\n",
       "8jjt/thWkcZuES/xM/uK1mnfn7/86kMHF/e8UK+LkG8c55J7A9R9aDIuh+iE/JNaM7aq/t+WENdR\n",
       "r6+LNPzM9BK/2Wn/6rTo6Yr1UqnujhlvSRapNdgiTvUukdWK+Fugq4rq/0dGswIS/wcc9PZYOKR/\n",
       "KAAAAABJRU5ErkJggg==\n",
       "\" style=\"display:inline;vertical-align:middle;\" /></a></span>"
      ],
      "text/plain": [
       "{f = g} |- f(x_{1}, x_{2}, ..., x_{n}) = g(x_{1}, x_{2}, ..., x_{n})"
      ]
     },
     "metadata": {},
     "output_type": "display_data"
    },
    {
     "name": "stdout",
     "output_type": "stream",
     "text": [
      "operator_substitution may now be readily provable (assuming required theorems are usable).  Simply execute \"%qed\".\n"
     ]
    }
   ],
   "source": [
    "Equals(f, g).substitution(repl_lambda, assumptions=[Equals(f, g)])"
   ]
  },
  {
   "cell_type": "code",
   "execution_count": 5,
   "metadata": {},
   "outputs": [
    {
     "name": "stdout",
     "output_type": "stream",
     "text": [
      "proveit.core_expr_types.operations.operator_substitution has been proven.\n"
     ]
    },
    {
     "data": {
      "text/html": [
       "<table><tr><th>&nbsp;</th><th>step type</th><th>requirements</th><th>statement</th></tr>\n",
       "<tr><td><a name=\"0x5ad98fe93ed117be_step0\">0</a></td><td>generalization</td><td><a href=\"#0x5ad98fe93ed117be_step1\">1</a></td><td><span style=\"font-size:20px;\"> <a class=\"ProveItLink\" href=\"../../../__pv_it/_proof_operator_substitution/7b2b42afdc50f6050d00e7d819ece79103170d790/proof.ipynb\" style=\"text-decoration: none\">&nbsp;&#x22A2;&nbsp;&nbsp;</a><a class=\"ProveItLink\" href=\"../../../__pv_it/theorems/c3b74b3227cd2826955921cdd422698ed9bae09a0/expr.ipynb\"><img src=\"data:image/png;base64,iVBORw0KGgoAAAANSUhEUgAAAlgAAAAZBAMAAAAf000PAAAAMFBMVEX///8AAAAAAAAAAAAAAAAA\n",
       "AAAAAAAAAAAAAAAAAAAAAAAAAAAAAAAAAAAAAAAAAAAv3aB7AAAAD3RSTlMAq1RmmUTNIjK7EInv\n",
       "3XZ/CtNrAAAACXBIWXMAAA7EAAAOxAGVKw4bAAAGYUlEQVRYw+1Zf4gUVRz/7szszuzMurfRPypm\n",
       "J5Ucld7infYTW7hMs5LVvyqllgqiIBwpiCs7T+kPqdMuQ+r8Q4YUyQTvTlEI6ViVsJJsEws7Wpir\n",
       "SzFpOQI7uaDr/Zr33szcLHbTEklf7s37vpn9ft7M573v933fO4B6clPVhv+FSrZ6tv4PSo1+Az1C\n",
       "j4cUlHgjbnsIbf8yWT9G6H9fkm70nGiOhfwUK4isHK5uiSQrgSsl3yCulAF81Y45XJ++/BT55I6Y\n",
       "/penBZG1DLefjyRLK6Iq1ajItY9cB3uauT59STkRD8y4/vEiK22wGft7byRZBp55nY3ywg5yPfGE\n",
       "w/Xpi1qIeKDF9Yt2VtrIgFjN0TELU3qoUWSVSbSZEHoc+TLifiYucMahpQ1UxHuqToBva2CcVwiw\n",
       "VRF6HHk24v78uMCpPC2Iiq+q1dN1yMpUqz8MNIgsDQOrc74pMN2szX5bnsUHRz46Vncl8xkMhiN7\n",
       "7WV0fSSMFOwoLLKBlaMFkbUCYFcdsrRuSDsNIitFokmT6+kajLiPSc8L2blapS7bssEScqdKhKzx\n",
       "Vkn/gs24AFKwo7DIBmqJFkTWBtBzdchCDzfEmz7Rj2aQsdvU7el3wQPOjVLIttWJRN3o7DO4M/i0\n",
       "1YE/UXU2jBToaIrVQjZQyrQgstKOVZQz4XNH4P6clJTugiNY3Tvd1SrN6ikAMqTjVq53w0PYR5aw\n",
       "xwZo6AXMYzdEzmxqwOSd4NPjYIyj6jMPCfaUfHYHBmdHATMD1hijBZGluCK+b5+1E+ZZjuZIZC2k\n",
       "8f29x2OSNQUAJetTST+DX+JX8QMXz8x6rnhGqOuCH/wbZMuULIpk1Co+uwLUccWM2BEky7SQtW4p\n",
       "95gVOJt3C5a83UmpxGwCYpI1EeWG7wo9OQ4fAyzgP3jaNp2mon41epNDDKgsCMQsdRzSOeqGFAmU\n",
       "is/uCosAUwoxYG5YoQWTdQilUmrH9lG2Y2i5rctHljUfG807jT9GrRFia8tHvZxeUqUNwmjX8iBZ\n",
       "FIAGhBobnrQrJgfSzZ2JMgzQrzZR2V+cAxaoDiLLDH8Neitm0H53Da+n9wTjzhj047Cz20MiX4yR\n",
       "mN29mKywi0tdE1ZA7aUFk7UR0b9nXT5jmySRb7E+XCuTpR8HZgAwSqZB1p6VYl8uqZJcTPQ+EyQL\n",
       "AzzchyTPUNiaDPoVT1eu7i0nmylZ/ajr1rcehTU0EcNN83d2n7eogbn4JJxiKYLvo8fhZoemFAwJ\n",
       "k4VtvY5QBOCgfnRqQFihWQ0umKwEmouvXYAmJ0nCfwsULvlOHWaS6Y3HTp8g67AKuw3QSb5B1DWj\n",
       "Rf9r5tNud5Asje9GGAqOKtgtlDFPN1e5ty5i/jRjGC0JNaUDf9I2hzThHL5f8C5VhxnoB0vEx78N\n",
       "jtnqyyQmbeNImCyM5HVkDBMYiifQedeEFXSjSAs/opmL4qP6Ql/fDkTWgVT4iCadpwnHOGmh65Zh\n",
       "8NSyORZ4zSY7FLPSfOXmKADnMYs5oUvB53axPu/yNXn6zx0o4eLwq0+xDDxHoiEfOBKzJKROR4bh\n",
       "In4xl6wab7DCyfocHjSMATqzkgvDZGVwj1bBIDs4o6wDULKwahvBfV0P2OqyRQMyWRiAuqGHQren\n",
       "8zw3bveTJXYNr8CrctMTS3o3rdAd3i9vdoyr/h02IUsg6QXdlmC4iF9gVugWv0MiSx+D8y00k18M\n",
       "MBImq9+BA6DkEjlUbbRKGiHLU9NFMAdQi1308lEoKJegIpPVz0eQoLDpZsP3+4QukWXylVv/YOtK\n",
       "qSk2JFzbBDO2dIePRuY4+6jV+zJZElLn1jcdCYbHOtE1YQWfyZBzGY+sZA4u56ETjb7xnU1P/Pxk\n",
       "9aC/Zlh1wUWV9vPQL4QsT0UZh3ECemzjFL6cgFVraw7M1EsyWT3ibTAKe69eWLpc6FReXz+EVg4x\n",
       "byYnx6QmF/HRqyF7WKJEhKxlVNnvffvRP1wZ6evJSRmGr+UiMSGs4FEkI+k/VjY/6dsZcayMnaSZ\n",
       "OhNzm2HwVMtBPSoimNCqkl3sSGS1ywkfjyJd0t2ueOeZ0QeUuhsL+SIr13wGvwMtiUlnG1zAFU32\n",
       "Ud7E1PWTaHo/yY2oZuaUw9LM2jGTPyco/0W5VrKGXJwmdN63Elci7ZPThSk0iawhKVRglOuQrJf+\n",
       "gf8b6nB9SLZ68i/ar+OcBECa5QAAAABJRU5ErkJggg==\n",
       "\" style=\"display:inline;vertical-align:middle;\" /></a></span></td></tr>\n",
       "<tr><td><a name=\"0x5ad98fe93ed117be_step1\">1</a></td><td>instantiation</td><td><a href=\"#0x5ad98fe93ed117be_step2\">2</a>, <a href=\"#0x5ad98fe93ed117be_step3\">3</a></td><td><span style=\"font-size:20px;\"><a class=\"ProveItLink\" href=\"../../../__pv_it/theorems/a853e5e7665b4ad524df726ae4e1015727f4d8740/expr.ipynb\"><img src=\"data:image/png;base64,iVBORw0KGgoAAAANSUhEUgAAADEAAAASBAMAAAAAiiu3AAAAMFBMVEX///8AAAAAAAAAAAAAAAAA\n",
       "AAAAAAAAAAAAAAAAAAAAAAAAAAAAAAAAAAAAAAAAAAAv3aB7AAAAD3RSTlMAmYkQqzLvVES73WZ2\n",
       "Is1wFLxSAAAACXBIWXMAAA7EAAAOxAGVKw4bAAAAo0lEQVQY02NgYGBgVDJgwA5UwgpwyKR34tDD\n",
       "8RmHDgamBTgkuN2WCKCLseuc3QCk+A+AeYyrwMABxNZjuDYBSN0PwNDyGaK8HsMCNgeG+AtAWgtD\n",
       "Jr6A4RiInsKAbs/+CxDBHAw9+xmYfwMp3h8YMvYXWEC+Z/+AGSo+iiDfMzpg8T4f0PMlfBgBzerM\n",
       "EA/040o7DA0sycxvgNQeWWzWNDAwAAAb7SiCUDC2NAAAAABJRU5ErkJggg==\n",
       "\" style=\"display:inline;vertical-align:middle;\" /></a> <a class=\"ProveItLink\" href=\"../../../__pv_it/_proof_operator_substitution/dca62f0b05fd739fbf2df2506e3dc088cffd26600/proof.ipynb\" style=\"text-decoration: none\">&nbsp;&#x22A2;&nbsp;&nbsp;</a><a class=\"ProveItLink\" href=\"../../../__pv_it/theorems/086b0371c7e844af180ffb9d763efd4e2dcefc320/expr.ipynb\"><img src=\"data:image/png;base64,iVBORw0KGgoAAAANSUhEUgAAAUgAAAAVBAMAAADWXWqdAAAAMFBMVEX///8AAAAAAAAAAAAAAAAA\n",
       "AAAAAAAAAAAAAAAAAAAAAAAAAAAAAAAAAAAAAAAAAAAv3aB7AAAAD3RSTlMAmYkQqzLvVES73WZ2\n",
       "Is1wFLxSAAAACXBIWXMAAA7EAAAOxAGVKw4bAAADMUlEQVRIx61XTWgTQRR+m026abKbLgoerEoN\n",
       "BUFL2SoeisUGIr3Yw6pUoQgJ9KBgxfiDBw82B1E8WVDBg4VKlWpPLSIqaLOHoqARogehoDR3BYuh\n",
       "UBCN87ezk91sCOwOZPO+mfe+fPPmzc4EgDcNgrRW0ZXwiN8HEhm3fIfUQgjEUtpAT6UnkEj46Dty\n",
       "KQzi3pN4qoeDUUHK8BmQq2EQn7mNv7oDikzqPgPSYgjE8Rqx8wFFwoRPf0cYxJFZbCnVoFw/fPqv\n",
       "h0CcHHmM8ymhfSOXs8f3CMXUCJuVm+jR6x5V+j7hld6CPkMrB9PCHnfBNoi7yB5PIT4JVqztQjE1\n",
       "wmblJnosk54F0jLY7oev0yzDujoqzTpxLtgG8ZqJrQSa2VsoGUdBXmaDFO7vzfpyUQ/WrroTWaPz\n",
       "n0erVUnWootwiJUUhXL6iNE28RQt7yKACbuQdfoDG6RQB/9sUg/Wcu4Nk4EcPmvOAsRAQvpiZZY9\n",
       "CiXwz6aHeC8XCTCJH9f4MIabLNXN26Rj3nQN5QrwDqhIRI9zqnBRGHYVtY22ie+BvdwQ/wsHBJEE\n",
       "Pm8lkngsvSjr9tyEmixVKPU8ftypyIYgEsOk0UKkm5hq7rRAfhDNQw/tRNViQ5xqb/HIYHvIr87B\n",
       "eYReuzxKIP/B3w8BBosjEKGZxHEM4pef7NVnNCHWNslQJAPKxkA+XiAi5X/AYWyOQPoYrgoG9dCG\n",
       "qlBjrxqxDVeiNfYGmTqxDW5RkTiOQRg3HL4Gdg+xsk6LGc1qh3XxJUvvgsHhqkEgwCNcFbptzIHt\n",
       "EbXi+Lh66l6x0d1keccBBspKd4GKxHEMancpJHwOu/PTDrGUoZxPODsWqfAF1nStIkDeLjvb2JR0\n",
       "EzTvVk2R4zzBS5rUpBP3Gb6LkHsZHuIrKfbqX2oQGeFodeyYIUDenJvdGiROmZ57RCwLObPx5kFE\n",
       "8jjt/thWkcZuES/xM/uK1mnfn7/86kMHF/e8UK+LkG8c55J7A9R9aDIuh+iE/JNaM7aq/t+WENdR\n",
       "r6+LNPzM9BK/2Wn/6rTo6Yr1UqnujhlvSRapNdgiTvUukdWK+Fugq4rq/0dGswIS/wcc9PZYOKR/\n",
       "KAAAAABJRU5ErkJggg==\n",
       "\" style=\"display:inline;vertical-align:middle;\" /></a></span></td></tr>\n",
       "<tr><td>&nbsp;</td><td colspan=4 style=\"text-align:left\"><span style=\"font-size:20px;\"><a class=\"ProveItLink\" href=\"../../../__pv_it/_proof_operator_substitution/3e7f3569c18357d67af66f83da8ba5f81ce02a880/expr.ipynb\"><img src=\"data:image/png;base64,iVBORw0KGgoAAAANSUhEUgAAADQAAAAVBAMAAAD7ptBLAAAAMFBMVEX///8AAAAAAAAAAAAAAAAA\n",
       "AAAAAAAAAAAAAAAAAAAAAAAAAAAAAAAAAAAAAAAAAAAv3aB7AAAAD3RSTlMAmYkQqzLvVES73WZ2\n",
       "Is1wFLxSAAAACXBIWXMAAA7EAAAOxAGVKw4bAAABEklEQVQoz2NggANeBgYcHIbjyByOA2CKUckA\n",
       "SLIrwIQts4DEaTBTJawASNohtDwEYj6Qcob0ThAljZD6DsTcAiBjP4P5CQh7wALJQMy0AMRifwCX\n",
       "ggi8Bup0WwLSywh3BQOfzxGg5SpAFj/YnXwb4FL2j5n/MjDsA7LuB4D4XAVwqXoDhhwGhjIQC8xn\n",
       "a4BLyTEwfGJgiAeytNClFjFwAJ3fBmRNYUAz8DsDI9D5VUBWDpjPeQAu9ZXBDOimncAw/gHxjANc\n",
       "ypthIpAUAvr1A5jPCvRn5EwguMBgogjyyAqgX6HKl6LEEAPvAoYSPqj9G1GlGDcwrIRFBucFFKmb\n",
       "DAx7ZKFs5gkoUnOROXeQOTwXGAC//jhHEFCMfwAAAABJRU5ErkJggg==\n",
       "\" style=\"display:inline;vertical-align:middle;\" /></a> : <a class=\"ProveItLink\" href=\"../../../__pv_it/_proof_operator_substitution/607150c7b38d34843ef3f4f9190d7e908f230e990/expr.ipynb\"><img src=\"data:image/png;base64,iVBORw0KGgoAAAANSUhEUgAAAKAAAAAVBAMAAAAz5vjYAAAAMFBMVEX///8AAAAAAAAAAAAAAAAA\n",
       "AAAAAAAAAAAAAAAAAAAAAAAAAAAAAAAAAAAAAAAAAAAv3aB7AAAAD3RSTlMAMrsiEO/dzZlURImr\n",
       "dmZtz8FEAAAACXBIWXMAAA7EAAAOxAGVKw4bAAACCElEQVQ4y2NgQAXMDJQALLpvUmQg1wU40ykM\n",
       "THFuoMhAhnsIZgWYdKfMPAZ2BzjzJ5jso9BAvga477+AqQAKDWQIgTG4E8BBWECpgXVwz5+9M4GB\n",
       "gQMYJyx3j0jvRFLie8dx9wR8ZqBo2ANj+JewfAYa+wBoKMOdC21I6ht4z3Ik4DMQRcNzGGO+A0Ms\n",
       "AwMb0CmPGd47nGNggcnwGfB94XnAsvuMAy4DIRqgYCqM0c7A8JuBgXUBA4MAiM0gew0qwcjAUQBy\n",
       "BW5XQjRAgTyMkc3A9RNiIAPIqQwM0+BqWIHJn38B80fcno5FMJcikiHHF4iXGbg+M7ggG7jegMWB\n",
       "zwGPgWANLx7ebUB2x0cGV2CEMF1gYNHiCWDYAJFhAeXJBUcZuCHpigXTLGDAQjSwvIpjCAYKPILJ\n",
       "nGPQAOk6wMD50SOAawLEQH9g6M0XaWVYCWSLOYC5LN+h4nAeRAOzbwEDKG90MwgpAYEBg8+OB6AY\n",
       "ADqj98KMl1C3s6UwMHjc5ewDms+sAuEyZIDEG2BEmgNMA88FLlA2y0LzQiKcBQ6MKXCuBYMxMhcG\n",
       "OOGJiVWAo0GAgRk9LbxANRBemDErCrYgceGAG86yZ2CTFGDgeICmgMkAyrCu3wsMInh5yfr//wck\n",
       "LiJfwllrGHj3MTAYYeRLBWQeL6okL2Yso1uhjKHClqKyhteAAQCGLIHXQg8FNwAAAABJRU5ErkJg\n",
       "gg==\n",
       "\" style=\"display:inline;vertical-align:middle;\" /></a>, <a class=\"ProveItLink\" href=\"../../../../../__pv_it/common/a0d9d672aa5e272d907247690c152cc2c6daafb70/expr.ipynb\"><img src=\"data:image/png;base64,iVBORw0KGgoAAAANSUhEUgAAAAsAAAAJBAMAAAAWSsseAAAAMFBMVEX///8AAAAAAAAAAAAAAAAA\n",
       "AAAAAAAAAAAAAAAAAAAAAAAAAAAAAAAAAAAAAAAAAAAv3aB7AAAAD3RSTlMAEHarMolUmd1mIs3v\n",
       "RLtmgJDEAAAACXBIWXMAAA7EAAAOxAGVKw4bAAAAQklEQVQI12NgEFIWCU1gYChgMmJvYOBcwPmR\n",
       "eQIDCwP7BgYQ4FEAU/cXMAowyF2wYWBlYMh3rGG4xsAgrsRWmcAAAFEjCyBvD0T9AAAAAElFTkSu\n",
       "QmCC\n",
       "\" style=\"display:inline;vertical-align:middle;\" /></a> : <a class=\"ProveItLink\" href=\"../../../../../__pv_it/common/01b6dbb444a31fc38af4c2379badef6c75b363710/expr.ipynb\"><img src=\"data:image/png;base64,iVBORw0KGgoAAAANSUhEUgAAAAsAAAASBAMAAAB/WzlGAAAAMFBMVEX///8AAAAAAAAAAAAAAAAA\n",
       "AAAAAAAAAAAAAAAAAAAAAAAAAAAAAAAAAAAAAAAAAAAv3aB7AAAAD3RSTlMAmYkQqzLvVES73WZ2\n",
       "Is1wFLxSAAAACXBIWXMAAA7EAAAOxAGVKw4bAAAAUklEQVQI12NgYGBgVDIAkgwqYQUgKr0TxOP4\n",
       "DGIzMC0AkdxuSwRANP8BsOD9ADBVDyYZtCDUFAiVAyZ5f4Ap9g9gitEBRJbwgY1faQcW2yMLIgFk\n",
       "aQ2WW4Dm+QAAAABJRU5ErkJggg==\n",
       "\" style=\"display:inline;vertical-align:middle;\" /></a>, <a class=\"ProveItLink\" href=\"../../../../../__pv_it/common/ff7dba4ef0bbe791ab573bf2d9c220a304399ac80/expr.ipynb\"><img src=\"data:image/png;base64,iVBORw0KGgoAAAANSUhEUgAAAAsAAAANBAMAAACN24kIAAAAMFBMVEX///8AAAAAAAAAAAAAAAAA\n",
       "AAAAAAAAAAAAAAAAAAAAAAAAAAAAAAAAAAAAAAAAAAAv3aB7AAAAD3RSTlMAEHaZZquJVO8y3btE\n",
       "zSKD2s2pAAAACXBIWXMAAA7EAAAOxAGVKw4bAAAAVklEQVQI12NgVHZgEGVgYGNvYPBnYJjOvIAh\n",
       "moFBgEOBoYmBgeG8AOdPIGXLwNQApLYycAcAKVOG8w5ASjTJ/gEDCOQCMdsFxnYgxaXAmgCk2J1s\n",
       "gCQAaFoNDtFIIdEAAAAASUVORK5CYII=\n",
       "\" style=\"display:inline;vertical-align:middle;\" /></a> : <a class=\"ProveItLink\" href=\"../../../../../__pv_it/common/96ac097ea7ee432328a5e933062d0ef407701bf40/expr.ipynb\"><img src=\"data:image/png;base64,iVBORw0KGgoAAAANSUhEUgAAAAoAAAANBAMAAABiGeI2AAAAMFBMVEX///8AAAAAAAAAAAAAAAAA\n",
       "AAAAAAAAAAAAAAAAAAAAAAAAAAAAAAAAAAAAAAAAAAAv3aB7AAAAD3RSTlMAVIl2ImbN77sQqzJE\n",
       "md23+iBgAAAACXBIWXMAAA7EAAAOxAGVKw4bAAAAVElEQVQI12NgYBAydmVgYEpgqWBgkJ/A8JmB\n",
       "oYqB+wsD90cG5gIG1i8MHAsYWD8wzA9g4PzCsH4CA8Mpo3sMIJDLwLBrAvdvBoblE6YZgITvMDAA\n",
       "ALhGFCDgVTGpAAAAAElFTkSuQmCC\n",
       "\" style=\"display:inline;vertical-align:middle;\" /></a></span></td></tr><tr><td><a name=\"0x5ad98fe93ed117be_step2\">2</a></td><td>axiom</td><td></td><td><span style=\"font-size:20px;\"> <a class=\"ProveItLink\" href=\"../../../../../logic/equality/_theory_nbs_/axioms.ipynb#substitution\" style=\"text-decoration: none\">&nbsp;&#x22A2;&nbsp;&nbsp;</a><a class=\"ProveItLink\" href=\"../../../../../logic/equality/__pv_it/axioms/b3647e5bced6c805148d96be1aa0946871a946d20/expr.ipynb\"><img src=\"data:image/png;base64,iVBORw0KGgoAAAANSUhEUgAAAO8AAAAXBAMAAAARnwX+AAAAMFBMVEX///8AAAAAAAAAAAAAAAAA\n",
       "AAAAAAAAAAAAAAAAAAAAAAAAAAAAAAAAAAAAAAAAAAAv3aB7AAAAD3RSTlMAq1RmmUTNIjK7EInv\n",
       "3XZ/CtNrAAAACXBIWXMAAA7EAAAOxAGVKw4bAAAC/UlEQVRIx7VWTWgTURCeJLtpkk3SHDxYLCXi\n",
       "z0VLV1Chl1pp/aOCwYMnMYseBE/rUalYPUrFigexh7IFDxah1B48KJYgCKJUglDwEkixInoovVV6\n",
       "EOfN+9vsS1sT6MDMfvvmy5t5+97MC0Db4pu44z/4fuSnLUu+aGK7vj3/itACe9nXRuBDZEfeaIzy\n",
       "vRmzkZN3uZ5iL9dbj5vxmHV2v1eYSTIwmVHODa732NZMtB7YcpnNHphUmEli0GRGOUe5shydYuuB\n",
       "s2TLgcYkn0xmlJMNSBOYSbKNLT5I9l0Ik1wzmVFO0uW6WKt9biPwCDNHFndJPLv84i1+uFcGUXMy\n",
       "Ky5M4/ctcD0LMLnZ7IObB+ZL+6vwYL7HqgIcp/2vkRSgkePEK3ACz4HH9SZ0MEZm2DVn3+LQfaWG\n",
       "8UfihJ/YiOEMhw2i5tzHzLoAMDxpOnBK6EgfG2sp8Adm4msSp8CienlkEDUnyNbhC1LXuMbrdLY6\n",
       "m1TgtoGdqsZZ6lqXzTLWnHKQwuXbFa7gDbC8uueZe/XMCvZRexliocB8kFqidIhPnS5oXPYzmHuv\n",
       "scchzmnIs89c5QrzrJVAP7UzvyuJR3O2MxjXgWnw3DMUVzkApvQqGZ4pdYMjp2kseMWBx5RFYoIr\n",
       "jFJKw9R4YCqFj9u98EsHFoMQdoi6uVuSuO/Bebgoq6xBNAdOQhnPnzXHFWJ0qp5w2jrZPdAT3uN1\n",
       "NYt0ADxkpk/h56vxIdb/lozAmgPTCxdwz3IlrkI+kk1V6EpdEq8TapB/auXAn47REjTmtVM1Ajdw\n",
       "XqPeESoumw2AlzDqeBY+4Ju9pgPToBDpoOsgXrgavRqsaDMIcxwvw+6pIaEgVgUwXrR+LPzGB+zv\n",
       "93RgGhQiHShPITfpKSzkVnS9YU6uHpvjV2HoOqSkxSVVzPhpt2kdKwfKDCRklSGOZqDmDXHiA+zy\n",
       "T/tcuaT34hbYvIfYQax+qXkDUQ62naG/ORLnt/gzJTk/hYr2skp1w5MEe2CueWDl2Gnxd27qf2UN\n",
       "1FvBvR7LAAAAAElFTkSuQmCC\n",
       "\" style=\"display:inline;vertical-align:middle;\" /></a></span></td></tr>\n",
       "<tr><td>&nbsp;</td><td colspan=4 style-\"text-align:left\"><a class=\"ProveItLink\" href=\"../../../../../logic/equality/_theory_nbs_/axioms.ipynb#substitution\">proveit.logic.equality.substitution</a></td></tr><tr><td><a name=\"0x5ad98fe93ed117be_step3\">3</a></td><td>assumption</td><td></td><td><span style=\"font-size:20px;\"><a class=\"ProveItLink\" href=\"../../../__pv_it/theorems/a853e5e7665b4ad524df726ae4e1015727f4d8740/expr.ipynb\"><img src=\"data:image/png;base64,iVBORw0KGgoAAAANSUhEUgAAADEAAAASBAMAAAAAiiu3AAAAMFBMVEX///8AAAAAAAAAAAAAAAAA\n",
       "AAAAAAAAAAAAAAAAAAAAAAAAAAAAAAAAAAAAAAAAAAAv3aB7AAAAD3RSTlMAmYkQqzLvVES73WZ2\n",
       "Is1wFLxSAAAACXBIWXMAAA7EAAAOxAGVKw4bAAAAo0lEQVQY02NgYGBgVDJgwA5UwgpwyKR34tDD\n",
       "8RmHDgamBTgkuN2WCKCLseuc3QCk+A+AeYyrwMABxNZjuDYBSN0PwNDyGaK8HsMCNgeG+AtAWgtD\n",
       "Jr6A4RiInsKAbs/+CxDBHAw9+xmYfwMp3h8YMvYXWEC+Z/+AGSo+iiDfMzpg8T4f0PMlfBgBzerM\n",
       "EA/040o7DA0sycxvgNQeWWzWNDAwAAAb7SiCUDC2NAAAAABJRU5ErkJggg==\n",
       "\" style=\"display:inline;vertical-align:middle;\" /></a> <a class=\"ProveItLink\" href=\"../../../__pv_it/_proof_operator_substitution/a622c59471557d522864f9f11c07e987525735be0/proof.ipynb\" style=\"text-decoration: none\">&nbsp;&#x22A2;&nbsp;&nbsp;</a><a class=\"ProveItLink\" href=\"../../../__pv_it/theorems/a853e5e7665b4ad524df726ae4e1015727f4d8740/expr.ipynb\"><img src=\"data:image/png;base64,iVBORw0KGgoAAAANSUhEUgAAADEAAAASBAMAAAAAiiu3AAAAMFBMVEX///8AAAAAAAAAAAAAAAAA\n",
       "AAAAAAAAAAAAAAAAAAAAAAAAAAAAAAAAAAAAAAAAAAAv3aB7AAAAD3RSTlMAmYkQqzLvVES73WZ2\n",
       "Is1wFLxSAAAACXBIWXMAAA7EAAAOxAGVKw4bAAAAo0lEQVQY02NgYGBgVDJgwA5UwgpwyKR34tDD\n",
       "8RmHDgamBTgkuN2WCKCLseuc3QCk+A+AeYyrwMABxNZjuDYBSN0PwNDyGaK8HsMCNgeG+AtAWgtD\n",
       "Jr6A4RiInsKAbs/+CxDBHAw9+xmYfwMp3h8YMvYXWEC+Z/+AGSo+iiDfMzpg8T4f0PMlfBgBzerM\n",
       "EA/040o7DA0sycxvgNQeWWzWNDAwAAAb7SiCUDC2NAAAAABJRU5ErkJggg==\n",
       "\" style=\"display:inline;vertical-align:middle;\" /></a></span></td></tr>\n",
       "</table>"
      ],
      "text/plain": [
       "\tstep type\trequirements\tstatement\n",
       "0\tgeneralization\t1\t|- forall_{n in Natural} [forall_{f, g, x_{1}, x_{2}, ..., x_{n} | f = g} (f(x_{1}, x_{2}, ..., x_{n}) = g(x_{1}, x_{2}, ..., x_{n}))]\n",
       "1\tinstantiation\t2, 3\t{f = g} |- f(x_{1}, x_{2}, ..., x_{n}) = g(x_{1}, x_{2}, ..., x_{n})\n",
       "\tf(_b) : _b(x_{1}, x_{2}, ..., x_{n}), x : f, y : g\n",
       "2\taxiom\t\t|- forall_{f, x, y | x = y} (f(x) = f(y))\n",
       "\tproveit.logic.equality.substitution\n",
       "3\tassumption\t\t{f = g} |- f = g"
      ]
     },
     "execution_count": 5,
     "metadata": {},
     "output_type": "execute_result"
    }
   ],
   "source": [
    "%qed"
   ]
  },
  {
   "cell_type": "code",
   "execution_count": null,
   "metadata": {},
   "outputs": [],
   "source": []
  }
 ],
 "metadata": {
  "kernelspec": {
   "display_name": "Python 3",
   "language": "python",
   "name": "python3"
  }
 },
 "nbformat": 4,
 "nbformat_minor": 0
}