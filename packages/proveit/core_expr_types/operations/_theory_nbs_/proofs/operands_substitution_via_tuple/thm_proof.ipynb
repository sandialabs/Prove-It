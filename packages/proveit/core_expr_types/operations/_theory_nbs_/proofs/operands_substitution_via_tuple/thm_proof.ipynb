{
 "cells": [
  {
   "cell_type": "markdown",
   "metadata": {},
   "source": [
    "Proof of <a class=\"ProveItLink\" href=\"../../../../../_theory_nbs_/theory.ipynb\">proveit</a>.<a class=\"ProveItLink\" href=\"../../../../_theory_nbs_/theory.ipynb\">core_expr_types</a>.<a class=\"ProveItLink\" href=\"../../theory.ipynb\">operations</a>.<a class=\"ProveItLink\" href=\"../../theorems.ipynb#operands_substitution_via_tuple\">operands_substitution_via_tuple</a> theorem\n",
    "========"
   ]
  },
  {
   "cell_type": "code",
   "execution_count": 1,
   "metadata": {},
   "outputs": [],
   "source": [
    "import proveit\n",
    "theory = proveit.Theory() # the theorem's theory"
   ]
  },
  {
   "cell_type": "code",
   "execution_count": 2,
   "metadata": {},
   "outputs": [
    {
     "data": {
      "text/html": [
       "With these <a href=\"allowed_presumptions.txt\">allowed</a>/<a href=\"disallowed_presumptions.txt\">disallowed</a> theorem/theory presumptions (e.g., to avoid circular dependencies), we begin our proof of<br><strong id=\"operands_substitution_via_tuple\">operands_substitution_via_tuple:</strong> <a class=\"ProveItLink\" href=\"../../../__pv_it/theorems/a38f7127ecc98315f5637e431c15969b146bed7e0/expr.ipynb\"><img src=\"data:image/png;base64,iVBORw0KGgoAAAANSUhEUgAAAuoAAAAzBAMAAAAz5zBbAAAAMFBMVEX///8AAAAAAAAAAAAAAAAA\n",
       "AAAAAAAAAAAAAAAAAAAAAAAAAAAAAAAAAAAAAAAAAAAv3aB7AAAAD3RSTlMAq1RmmUTNIjK7EInv\n",
       "3XZ/CtNrAAAACXBIWXMAAA7EAAAOxAGVKw4bAAAJAklEQVR42u1cfYwURRZ/09M93dvzsWPuHxE1\n",
       "Q0QlKjhRUDEGxqz4GXVPE6NCZOJdYo77wzExd0ERRmKMxhVWDSrEj0aNl1suMGAkESMZMVFPc9yY\n",
       "qEHimkZXDeqteyoCa3Ss6qququ6erp7J7KKZmfpj+tWr1/V6flX16tWb1wMgKebIiAW9MsVlZGRE\n",
       "2p6u1wsdDcCTx1KZuYlcn60flaM+2NmzLpY/puoedg3Hwq5GfWZjtt5Wp+F3K7Ue6gDxYmP+p231\n",
       "qtmhTdt7qAOsKvkY6qvYBiiV9rr9LBzPfA91+CQwF4dy6PPFNrtNhPp9yjs91ONVP2fPTRiwgXb7\n",
       "Dff7/txDPeW3JNqkc6m22/E7oS3LS12P+rd+S5B0fAyl2G7Hfwo3PtmuR/09v2U48T1sG1S0BMzx\n",
       "Ex7aIZxvvNVGJyBRYnu47zjZ7agbR/ycfsfnSyBHQ4UD9tWCb+OtNigeifMczqhTst7B+aXbUY8F\n",
       "7PeasvOlkR9zPiy2/gDmebSBVLdsPyG0MyJBy1nhSp/udtRTWT/nbMJHX7oMlyJq3f9oA6kWIHy+\n",
       "Ewla1ocrXVzqctTXB4IwrzHUAfbij7msCVcP0cXQuOzl5LJwqW35Lkf9W//JFB4B18KAdhhGBNSd\n",
       "6oUy1B2J+ReMF9zBamjX6QLrYtSfCpmufTaYG5DRrxD4kHvpVvFiMIMdMQlzwRvwlhzUvlqXo/5v\n",
       "P0M/RLz2LChHXqhqOQd180dgVWM/MhFFwuMEl9C3FgG7hleFK01OENSdKX9KKOoxx83Mdx7o5g8B\n",
       "Z3qCeJQ1MK+xZ59DTcWoxaor0axOI+ThfYxNgRKCRMzWsGP0gSRacIigvgRfbgtFXcXTPVHqQHf9\n",
       "l4DPTW3wPsbBqCvsBKsXdITDGcGjD5NIldVCGfRalNaFcC/ubzgUdQM/ysoONDDKdz7GrESOEPM9\n",
       "qCdZbeUD9yF8g2FgLrEG0mvLoOajVthCJy6ZzIXb9RXouqMDUY/7j6YfuRHePndl3337boCtTOC/\n",
       "9TqCzQ70xCX+CJmXIubo/wnqcTQyCcluei66FjsQ9cxhH2PRZe589Kx8H8qZYE/+cXhCpvYo9WH+\n",
       "Mzr6rgT11Ojox5UORD05Gdq0ur3hlG6Cb1LULwfYJEFdLUOfNe0YFMjl9Ba+nEA3fxufl+rkbzLY\n",
       "oxT1O0AXD1D6+y/DRVmOOmq8A9MvDEznw5BFHR9sfaBau03lwa+J3wT1jynqfVaSPfW6GRtgVtJS\n",
       "LeGUtAlexvRjN04/6ptbuWUpo1q4Tav8TlBXbLaZqpfjE5NdSIpn03lkM53eBUlQX9LKLfxH4VZu\n",
       "W/E7sTBQXIQW6cC6MZpTMOfU1R7UE3FsDGe9i73LzNhqd6cXSMHYCkztADnYonJLFgJhVaGZoY6O\n",
       "F+OXjZWa08Dd3VqULoHJnODk4VBk2slCijpPursp7EDj//yyfKpEXKY5yeeWiqgnT8OTKu60fRkb\n",
       "vpW2CSQvInNrvzVEXTF70qgGvFzWzFDXi8gBmOEeVqI0KAW4YiMqeXRbhC6BOZsN35FQZNrJQrol\n",
       "ov11F/VVaBrc9QX0W5pzqJoDhYMi6rojqDqbV77PLtM2geRFZN41F2g/+nO1TOD0y5sZ6towxOEZ\n",
       "A5rToLldIiJCl8C8KfSUBFOShZSJCFn94KIew1/jZFgG8b9s3PgoQn1LQkQdjncObKS3/hIJAhFS\n",
       "m+c3qf3CCpuJOiWysUrMvm7M52ngZi/qCrYCaOHrm6AJDYYLLr4tQhdmEupBFhE4FIRkKrKQVshj\n",
       "bj+5qDvlbbjEMCpkrmvzPKjTwI5zGYKSMddyyRRs8/U6JBi2D+BtKpseTJWrps9pQM0+1DGORlWH\n",
       "tfuhCQ3MwuDbInRhps/CGN8HMZmKLKT5TcTcXNT1Cdg3h5yWFgAcCKK+zQKzold3Ijc5zUgdYWBW\n",
       "YIv74TDjS85Bo7cFYJ82QWQhXV6ORqsqyJJmIirupquSReRSI9SjNWRsvptKdVHm/OvPRLLj3rXu\n",
       "3eCnIgspZUXH3FzUtSx8nYeVaEIYH5aYPyCgjjYrYw9cs3Tcwt/OJWEDJodKxlv4gzCVgxgGtFZn\n",
       "LyxSWWXgcWSjBgVZ0kxEOepPgPr57q8c1KM1sCAVDnzIdFHmvOG0J0jyYTBIMBVZSIl8dPTH+1uS\n",
       "+crGDf6IgLBwFMq1GKmWGcnbj9fxc+fMEtoLiOw/4DEn8iDIkmYiylB3faf90ISGfwrnJbkuwoyV\n",
       "/+aJbJ0YiELyLKStA2By/9Mcy8tPYqJ4MiuTjE0EUW8UhyHlUbyl3sxRp+SuDCN5ey2zwALNitk3\n",
       "uLIna0VIWrYgS5sdUY66WuKoR2rgvrxakuqizDR8djPTgMrigCngWUiVsyDOt4akUoXFMpxE8bh0\n",
       "qaSGW0F9N34gsnaMb3a4ZKL+s0sCazezyktIOWiLKq7s9V8D3F6vCbKkmYhy1GEXiUvgE1mUBjH4\n",
       "skuqizI3w5l5vGm5ZX3O/3VZFpKRuxpiwywJaa1agxnmq8eFWWwi7i4s6bawxm4F9ekudAqazd9h\n",
       "htDyIgAnyUIyYS+kbJaEZKVs2KuCWgt9FCzuDoE0vtP1WUhqYFLyLCTkzawv83SY5ZZxpH9QDz3N\n",
       "EnFKS+f6SdDlqGuBYxLPQlKL8I2QhHQpZKpxKxx1R5ymICk1mdKuzy4laRViYVlI0JfFQzDXNV6P\n",
       "YAZ2LBvnIDnibgpSfFiiMt71mdQBJ4ZnIYGa1b4nqONkI7gYlued10U9qUe8hsXdFCRVFsVJ994a\n",
       "8L8hw7OQwJw5dpig7mQdbd59bcmJDrEcJJ6INGpRcZqCJMWs94aMu9y5dRazkJJFatdJ1tFOgDvh\n",
       "7+E5SEicpCDBPTKVZOfo7jcf/+qpiVlIO+FfOYp6BUNq7gH9yQeuDMtBcsRJCpI0dkYDPd2N+pDn\n",
       "hx8xC+kT/LK7k4SEs47SdqwCqXp9IiwHyREnKUi6bDNN53qog/fnDzEL6RQWoMcJIMqiJULNV/A4\n",
       "cHEhJteg9N5oxyXk3xvayUL6UmZgis2hfmFn/ytPIndM1d1PwBwZOShHvfevPFNYTPrj3rP1o78C\n",
       "4hL8WtpKAOYAAAAASUVORK5CYII=\n",
       "\" style=\"display:inline;vertical-align:middle;\" /></a><br>(see <a class=\"ProveItLink\" href=\"../../../__pv_it/theorems/874f1dada75bdd85f9c847a7915cba12097887110/dependencies.ipynb\">dependencies</a>)<br>"
      ],
      "text/plain": [
       "<IPython.core.display.HTML object>"
      ]
     },
     "metadata": {},
     "output_type": "display_data"
    }
   ],
   "source": [
    "%proving operands_substitution_via_tuple"
   ]
  },
  {
   "cell_type": "code",
   "execution_count": null,
   "metadata": {},
   "outputs": [],
   "source": []
  }
 ],
 "metadata": {
  "kernelspec": {
   "display_name": "Python 3",
   "language": "python",
   "name": "python3"
  }
 },
 "nbformat": 4,
 "nbformat_minor": 0
}