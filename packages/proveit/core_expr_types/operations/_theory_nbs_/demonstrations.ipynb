{
 "cells": [
  {
   "cell_type": "markdown",
   "metadata": {},
   "source": [
    "Demonstrations for the theory of <a class=\"ProveItLink\" href=\"theory.ipynb\">proveit.core_expr_types.operations</a>\n",
    "========"
   ]
  },
  {
   "cell_type": "code",
   "execution_count": 1,
   "metadata": {},
   "outputs": [],
   "source": [
    "import proveit\n",
    "from proveit import Lambda, Conditional\n",
    "from proveit import x, fx, gx, Qx, n\n",
    "from proveit.logic import Equals, Forall\n",
    "from proveit.numbers import Sum, Interval, one\n",
    "%begin demonstrations"
   ]
  },
  {
   "cell_type": "markdown",
   "metadata": {},
   "source": [
    "### Instance substitution"
   ]
  },
  {
   "cell_type": "code",
   "execution_count": 2,
   "metadata": {},
   "outputs": [
    {
     "data": {
      "text/html": [
       "<strong id=\"domain\">domain:</strong> <a class=\"ProveItLink\" href=\"../__pv_it/demonstrations/3de7ab0b1109aedbcbbbce6807e595b262d403990/expr.ipynb\"><img src=\"data:image/png;base64,iVBORw0KGgoAAAANSUhEUgAAAEkAAAAVBAMAAAD4Ed5jAAAAMFBMVEX///8AAAAAAAAAAAAAAAAA\n",
       "AAAAAAAAAAAAAAAAAAAAAAAAAAAAAAAAAAAAAAAAAAAv3aB7AAAAD3RSTlMAEER2zVSJ3Zki72ar\n",
       "MruaaVGaAAAACXBIWXMAAA7EAAAOxAGVKw4bAAAA1klEQVQoz2NgYGBUYsADOCMhtIkiPlUMdx6C\n",
       "SNaPQIK3ELeyNyCCrYCBQablI25V6TBVDMyDQhWTjWTyY5gqDgccqtj4DjPIT2BgsAJxZm3AoUqJ\n",
       "/QHD/AsMDPMDGBjmODHgUCUgr8AQLwCMmyMBDLx9ArhcH8/AcARkM8gcvgO4VAGV/GZkAJuHJySW\n",
       "AWOPjYEhCx4SbD/B4oxfYAQoNfxlYHbYixRePKe+nAbLVMAJYHgVMDCeDkAOVXyABFXMCwioagE7\n",
       "8it+RYyrwdSMo3jTfQ7QAwBZ1zlnAI48PgAAAABJRU5ErkJggg==\n",
       "\" style=\"display:inline;vertical-align:middle;\" /></a><br>"
      ],
      "text/plain": [
       "<IPython.core.display.HTML object>"
      ]
     },
     "metadata": {},
     "output_type": "display_data"
    }
   ],
   "source": [
    "domain = Interval(one, n)"
   ]
  },
  {
   "cell_type": "code",
   "execution_count": 3,
   "metadata": {},
   "outputs": [
    {
     "data": {
      "text/html": [
       "<strong id=\"universal_eq\">universal_eq:</strong> <a class=\"ProveItLink\" href=\"../__pv_it/demonstrations/1282b8045f4322bad131fcb5aac696a97449fe860/expr.ipynb\"><img src=\"data:image/png;base64,iVBORw0KGgoAAAANSUhEUgAAAOcAAAAXBAMAAAACSEUKAAAAMFBMVEX///8AAAAAAAAAAAAAAAAA\n",
       "AAAAAAAAAAAAAAAAAAAAAAAAAAAAAAAAAAAAAAAAAAAv3aB7AAAAD3RSTlMAq1RmmUTNIjK7EInv\n",
       "3XZ/CtNrAAAACXBIWXMAAA7EAAAOxAGVKw4bAAACxUlEQVRIx7WWT2gTQRTGX5LN7maTxogni8iK\n",
       "4k0MUqsgNIGqFaES8eTBErwIHuJ6E4x29eAlxcSDYDzIHqSgBW2reBFD0ENBUdKbHgpbUQpFQ0Gk\n",
       "kpMzk53Zzcxm44o+eMM38Jt88+ftTAD+KhQfbQzGjWBsQHz20VOD8SknM7izO6RndB630kuLaRTp\n",
       "bDDuIDiP4c6FkKazpF2Y0ZnGcTEYpwjKG3jLayFNx0n7+qzFNI6RYJwiKGU0MKmHNG3iJt5xNYmU\n",
       "FYQzBGUMbbEc9kiLuE22XE1CzgbhDMH5fmXlXUhTCRdGbMdy3tFae7iyiGaREewaa1kBwXkC4H4P\n",
       "eaTPhCsne5e0xaZaglV7Ek2DrGhyBccyAV9AuSYgOC+D0jNDFZ2ANurnukDFEKmBaZPqQ5CztqF1\n",
       "NfmFdsjMOARnwkoWqN9qvUBO4PZ3P9O9rBzIgP1Mm3CcDN/gBqQyUDUEBGfUZnV01KTHvu8PTF95\n",
       "9AdSzvxKqzp8ExGCFcdQ0574YnSvFD/TkcPtvMe0u713XB3fhMdoZIs705xBIA4h2CK6ItLGdll/\n",
       "RH4lJppqB9/AEsA52k/YbOpYa3cjTUAVGuPvmBxoP0SEYGVURzF4oMIZQt4yBVPlSRHQTSCvO33y\n",
       "bSg/qY7+etiM686X5I2nRqQjIgSLkCrcBBit1+u6utUStzdi44OIlmjB4Q2KblCtnbL3HMDbWOBM\n",
       "4zuft0TExdSmApXuS5ARTVOmlDehzPof8a2QcXU3rom1J+dFhGHlZFFCHw9XSNo8zBExDUM3TbeQ\n",
       "8J29S9b5a36cc1SHoWqKCMOkr411UO5R06uXGmTUEsyQh/40pJ95qhcSBnyadbVz8nwdRd5qJRHh\n",
       "sbm6czn4h2uq1WBswtWcu+dICyKS8Pu/Em8NNoXrIOq1/i+EF/HHSn1Gqufh/4Xa50m/8s8cfgNw\n",
       "08i4TJbUXQAAAABJRU5ErkJggg==\n",
       "\" style=\"display:inline;vertical-align:middle;\" /></a><br>"
      ],
      "text/plain": [
       "<IPython.core.display.HTML object>"
      ]
     },
     "metadata": {},
     "output_type": "display_data"
    }
   ],
   "source": [
    "universal_eq = Forall(x, Equals(fx, gx), domain=domain)"
   ]
  },
  {
   "cell_type": "code",
   "execution_count": 4,
   "metadata": {},
   "outputs": [
    {
     "data": {
      "text/html": [
       "<strong id=\"summation\">summation:</strong> <a class=\"ProveItLink\" href=\"../__pv_it/demonstrations/5063c44d21921f9294e04e8b79f5211c77e5be210/expr.ipynb\"><img src=\"data:image/png;base64,iVBORw0KGgoAAAANSUhEUgAAAEwAAAA5BAMAAABuVtBqAAAAMFBMVEX///8AAAAAAAAAAAAAAAAA\n",
       "AAAAAAAAAAAAAAAAAAAAAAAAAAAAAAAAAAAAAAAAAAAv3aB7AAAAD3RSTlMAZpkydhBE7yLNq91U\n",
       "ibsrP399AAAACXBIWXMAAA7EAAAOxAGVKw4bAAACE0lEQVRIx2NgAAFGRRMnBsIgMF2AvYGwslZP\n",
       "Bv4AIoxbwpBOhCqGYgYlZsKqOD4wbD5MWBnbAgZfAYZRAAKc/5GAA05lPP8/QxgRKcv/F+A2bv1v\n",
       "OFP6D25l3P8XwNl6uJUx//8IZzOhJjoojwNM+v9HSKJELMsBaIyDfcb3fwO6DbpXQeRZGNcRRLDW\n",
       "f0JTxbu4BiQ+AR5o4JSd//8AqjL2Y09BDoW7gFEBrPl/KaqyfLBudoQARH7+T1Rlt8HkSYTARDAZ\n",
       "/v8Csiqp6kVgfwBxiFfwXaCLbqFGGBR8gRuhwLKECRgOkhBx/e/IuZQDomkP0O0NjF+5gD45Dosw\n",
       "5LTB8wFMlQFjiIEJHCr2UP2/UYJtA0wZ0Ltg/dC8zlKBrIxvAcxSYNg0sALdcxoaUAYooQtxwRMG\n",
       "hriE5Qy8QKYcJJGgprP+BDAFDIXzpuoMOdCwAYYbauI+D6GsGRiCXHgUQRG5DSwwCTUStKDeh7uE\n",
       "A+wnvgcomWPBHOQIZ4AnAm1E2AJt4H4KS0AvYKJ9YF2I0GAEKmN0giXmOAZk9UihcRy11IP6jAWk\n",
       "jwMRGkGfcOcseGhwnEJLKChg/kwwmL0dWDhswKmKCbkMGTEFa+AEYlQxu2wgyjQePMpcNOBJAo8y\n",
       "loZ1nAf03gGBAD5ljAxPmImxlOEHUW5jLuBgIGxpO+8EJiJMY3K74gpLlzf/4qqNAFP1nw/Snvy9\n",
       "AAAAAElFTkSuQmCC\n",
       "\" style=\"display:inline;vertical-align:middle;\" /></a><br>"
      ],
      "text/plain": [
       "<IPython.core.display.HTML object>"
      ]
     },
     "metadata": {},
     "output_type": "display_data"
    }
   ],
   "source": [
    "summation = Sum(x, fx, domain=domain)"
   ]
  },
  {
   "cell_type": "code",
   "execution_count": 5,
   "metadata": {},
   "outputs": [
    {
     "data": {
      "text/html": [
       "<span style=\"font-size:20px;\"><a class=\"ProveItLink\" href=\"../__pv_it/demonstrations/1282b8045f4322bad131fcb5aac696a97449fe860/expr.ipynb\"><img src=\"data:image/png;base64,iVBORw0KGgoAAAANSUhEUgAAAOcAAAAXBAMAAAACSEUKAAAAMFBMVEX///8AAAAAAAAAAAAAAAAA\n",
       "AAAAAAAAAAAAAAAAAAAAAAAAAAAAAAAAAAAAAAAAAAAv3aB7AAAAD3RSTlMAq1RmmUTNIjK7EInv\n",
       "3XZ/CtNrAAAACXBIWXMAAA7EAAAOxAGVKw4bAAACxUlEQVRIx7WWT2gTQRTGX5LN7maTxogni8iK\n",
       "4k0MUqsgNIGqFaES8eTBErwIHuJ6E4x29eAlxcSDYDzIHqSgBW2reBFD0ENBUdKbHgpbUQpFQ0Gk\n",
       "kpMzk53Zzcxm44o+eMM38Jt88+ftTAD+KhQfbQzGjWBsQHz20VOD8SknM7izO6RndB630kuLaRTp\n",
       "bDDuIDiP4c6FkKazpF2Y0ZnGcTEYpwjKG3jLayFNx0n7+qzFNI6RYJwiKGU0MKmHNG3iJt5xNYmU\n",
       "FYQzBGUMbbEc9kiLuE22XE1CzgbhDMH5fmXlXUhTCRdGbMdy3tFae7iyiGaREewaa1kBwXkC4H4P\n",
       "eaTPhCsne5e0xaZaglV7Ek2DrGhyBccyAV9AuSYgOC+D0jNDFZ2ANurnukDFEKmBaZPqQ5CztqF1\n",
       "NfmFdsjMOARnwkoWqN9qvUBO4PZ3P9O9rBzIgP1Mm3CcDN/gBqQyUDUEBGfUZnV01KTHvu8PTF95\n",
       "9AdSzvxKqzp8ExGCFcdQ0574YnSvFD/TkcPtvMe0u713XB3fhMdoZIs705xBIA4h2CK6ItLGdll/\n",
       "RH4lJppqB9/AEsA52k/YbOpYa3cjTUAVGuPvmBxoP0SEYGVURzF4oMIZQt4yBVPlSRHQTSCvO33y\n",
       "bSg/qY7+etiM686X5I2nRqQjIgSLkCrcBBit1+u6utUStzdi44OIlmjB4Q2KblCtnbL3HMDbWOBM\n",
       "4zuft0TExdSmApXuS5ARTVOmlDehzPof8a2QcXU3rom1J+dFhGHlZFFCHw9XSNo8zBExDUM3TbeQ\n",
       "8J29S9b5a36cc1SHoWqKCMOkr411UO5R06uXGmTUEsyQh/40pJ95qhcSBnyadbVz8nwdRd5qJRHh\n",
       "sbm6czn4h2uq1WBswtWcu+dICyKS8Pu/Em8NNoXrIOq1/i+EF/HHSn1Gqufh/4Xa50m/8s8cfgNw\n",
       "08i4TJbUXQAAAABJRU5ErkJggg==\n",
       "\" style=\"display:inline;vertical-align:middle;\" /></a> <a class=\"ProveItLink\" href=\"../__pv_it/demonstrations/d781a5591371e502e0de66a8110ae2c7cb4026370/proof.ipynb\" style=\"text-decoration: none\">&nbsp;&#x22A2;&nbsp;&nbsp;</a><a class=\"ProveItLink\" href=\"../__pv_it/demonstrations/cc8243930f2f40e568866e64eb59768ac1df27110/expr.ipynb\"><img src=\"data:image/png;base64,iVBORw0KGgoAAAANSUhEUgAAAO8AAAA/BAMAAAD6YIKlAAAAMFBMVEX///8AAAAAAAAAAAAAAAAA\n",
       "AAAAAAAAAAAAAAAAAAAAAAAAAAAAAAAAAAAAAAAAAAAv3aB7AAAAD3RSTlMAmXbNRCIQ72Yyq1Td\n",
       "u4mXa1p+AAAACXBIWXMAAA7EAAAOxAGVKw4bAAAFzUlEQVRYw5VYXWgcRRz/797t7uX27hIixSLB\n",
       "XAMhEpUWC1KskuCLoGCOIhTx49IqFh/KnVVrRSEJVYqK3OGDPije2Yf68ZKIQl+Kd4II1cIdolWE\n",
       "mtqCiIrpV9KkiV1ndmb2qzNzMwN3Ozuz/99/5//9XwA8BkFtPDUt2VQEse8O5+Y2RcZmV7KnCnJn\n",
       "OJ0qKdLAb+ItZZD82eDwh+hk7o2RATnRvgWhBJVB7FfYzKBCsl87BC/KGbsHRTsaIMeZpTTq5Grt\n",
       "3QYrPeT0tWhDAyTHJHIPW8kW09UejFsiTWqAuMvxK4BTNwbqcqJUVw6mBHIfPXmAVYbc+z1o3DWB\n",
       "+HRAWmS/EVjqg2D+2csZnhOoWAfEIUqeB50xzF/WAjEu+PZ/UYvx1CzXN7VA0qv4P7OmxdjhRkZN\n",
       "kOf9CHZBi8ZY5oZBPZBh7JT9XS0ad5W3qgnSwvqaOqtFY13jal4PpNzEx57E0wkvHJekRC9xZacH\n",
       "4uDYNuGH7JZHnNp+ZHzmqpTxIq8Y0ATJ42i+QSKs1w4stLMgI9rK29UEMdeRzv4j806oO0NqKS1O\n",
       "ttUFcS+Snx/zvDAybIo9RfORxYJjlw8kBbHiWH3oRU1qBaYXOmgmJhYqs3SRXCttjuh6gdxOr/fT\n",
       "QIdUY6wzo9lIwt36B/7/it3eRl2WEyskIEQizNtMKhEPGRgLdvu8hPIKn+LiyA5CZIqYc45TX4hB\n",
       "aFkczGht25mGFBNO2ltPONuXp/FhAq1lCGaKEzPFIGRsDmZz1P1K4AQHWLoa99Ap/9YJF0ihl7/C\n",
       "CQhCEDLCWsgh24uTEZWlvHji+cf//yJc2EGclXMmMQhRcbiWIgKcX4jQ2DPXo0+/+epHvoWh397x\n",
       "Z/9Ftv2XAuMEiHtuFHEykG3ZI8c+/BsZTvNGxkHEo+NScMwB86iBnOgwsWCanoZO4fFd0tLjIOdh\n",
       "d5cc04Dx4hAyFHL44VmohDSGFy3XLWKp36OHS5mVLKI9HmMcHSIQdwX6kfvnkLheh9r0J2ilGjCO\n",
       "FMGdaEpxCdgLKM7QNqFBvIyTd0QgThMaKFg5KHfV4SY/ZhHUpWKMphwNSoU2Y4wo/aj1gBLjKAiq\n",
       "PceAMAY44Ptblcd4LNom5JtM1LgTtJEbnIgxjupYBFIrwa9ARA3pZXgGybHNGEfsIh2r2Mgp4QeA\n",
       "/ZMfQwFN3xbqWARSAxs/nS+C/WO2Csi4M12m4whNI5ZCy758sA+13r0ZHqKe1ZNxDKRSyuLQgnzI\n",
       "XdtTTS8Qz0oytg/E8y65fACwZ8TdjOG+UfHjGEj66O9YtH1tsAeLn7+FpT7J/NgJg048vt9Cm6LA\n",
       "La22kLEQhN6fDO4fB8Y4TDZnYiGnuTOWGsJ0kefU7gKQvmO0bZ5LpovFeohjfBtyRVCnWXz9ia0+\n",
       "QZksS9JiHCR70L6L7DNLt2j50imBwZLNkdANkDIyW9jtfoi/gcMrBPggSMVEpTYrl9gbzKCaYPUG\n",
       "N3BjHb1FSx6T0vRz+v2eILvodZReUfGbodmkHLiBPSz9alPm1Fy6IBaqkNLXEm7w2Lwnbeinmpy+\n",
       "UxMEP29fJmZ/ebs/Ts143oa0k6gVOe2xJkgGh90OCSWRtmdV3mLyjqIJYqyxXlVjTAgbXvWRwp5R\n",
       "m9VjzJWhJkg/NtDygBZN33WuqeuBNHCqcNpaNCb3a4cmyFZsJ4UVLZo893uhJsjPvjMnSxn7sIym\n",
       "0uRGBC0Qm7j99sTyO3dI3ZgfGLRA6MepWtIVTsgY3yt4Hx2QFLGICjYxc8uuTSo0liAwaIGUifMZ\n",
       "2FxGs92dxhk0fpHTFARf0rRAlqiqsWHM5ot1lZetFAX2ogFiM0sc84NJSUk9Q6INDRCDOX0On+I9\n",
       "KClIyboi2tEAoYWzX+Nb1fMwoPCy2aYwxaqDfBZpJmHw4RHWyj85cU5Ic2RauKUMkgnbyXxR9Qvq\n",
       "y5JYqgqyOwxB9knVPCrJfsogOyLzRxVpnpZtKoLYxLT+Bzy0E6KB3D12AAAAAElFTkSuQmCC\n",
       "\" style=\"display:inline;vertical-align:middle;\" /></a></span>"
      ],
      "text/plain": [
       "{forall_{x in {1 .. n}} (f(x) = g(x))} |- (Sum_{x = 1}^{n} f(x)) = (Sum_{x = 1}^{n} g(x))"
      ]
     },
     "metadata": {},
     "output_type": "display_data"
    }
   ],
   "source": [
    "summation.instance_substitution(universal_eq, assumptions=[universal_eq])"
   ]
  },
  {
   "cell_type": "code",
   "execution_count": 6,
   "metadata": {},
   "outputs": [],
   "source": [
    "%end demonstrations"
   ]
  },
  {
   "cell_type": "code",
   "execution_count": null,
   "metadata": {},
   "outputs": [],
   "source": []
  }
 ],
 "metadata": {
  "kernelspec": {
   "display_name": "Python 3",
   "language": "python",
   "name": "python3"
  }
 },
 "nbformat": 4,
 "nbformat_minor": 0
}