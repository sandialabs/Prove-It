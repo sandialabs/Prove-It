{
 "cells": [
  {
   "cell_type": "markdown",
   "metadata": {},
   "source": [
    "Axioms for the theory of <a class=\"ProveItLink\" href=\"theory.ipynb\">proveit.core_expr_types.operations</a>\n",
    "========"
   ]
  },
  {
   "cell_type": "code",
   "execution_count": null,
   "metadata": {},
   "outputs": [],
   "source": [
    "import proveit\n",
    "# Prepare this notebook for defining the axioms of a theory:\n",
    "%axioms_notebook # Keep this at the top following 'import proveit'.\n",
    "from proveit import ExprTuple, ExprRange, IndexedVar\n",
    "from proveit import f, g, k, n, x, y\n",
    "from proveit.logic import Forall, Equals\n",
    "from proveit.core_expr_types import Len\n",
    "from proveit.core_expr_types import (x_1_to_n, y_1_to_n, f__x_1_to_n, f__y_1_to_n, x_eq_y__1_to_n)\n",
    "from proveit.numbers import Natural, one"
   ]
  },
  {
   "cell_type": "code",
   "execution_count": null,
   "metadata": {},
   "outputs": [],
   "source": [
    "%begin axioms"
   ]
  },
  {
   "cell_type": "markdown",
   "metadata": {},
   "source": [
    "**When there are multiple operands of an operation, they are internally represented as an ExprTuple.  However, this axiom is need to replace one ExprTuple of operands with another ExprTuple of operands.  The alternative would be to invent some notation to make a unary map expand a single ExprTuple argument into the operands of an operation (something like $x \\mapsto f(*x)$ where $*$ acts in the sense of the unpacking operator in Python).  We can attain this affect from the following axiom using explicit and standard notation.**"
   ]
  },
  {
   "cell_type": "code",
   "execution_count": null,
   "metadata": {},
   "outputs": [],
   "source": [
    "operands_substitution = Forall(n, Forall((f, x_1_to_n, y_1_to_n),\n",
    "                                         Equals(f__x_1_to_n, f__y_1_to_n).with_wrap_after_operator(),\n",
    "                                         conditions = [x_eq_y__1_to_n]),\n",
    "                               domain=Natural)"
   ]
  },
  {
   "cell_type": "code",
   "execution_count": null,
   "metadata": {},
   "outputs": [],
   "source": [
    "%end axioms"
   ]
  },
  {
   "cell_type": "code",
   "execution_count": null,
   "metadata": {},
   "outputs": [],
   "source": []
  }
 ],
 "metadata": {
  "kernelspec": {
   "display_name": "Python 3",
   "language": "python",
   "name": "python3"
  }
 },
 "nbformat": 4,
 "nbformat_minor": 0
}
