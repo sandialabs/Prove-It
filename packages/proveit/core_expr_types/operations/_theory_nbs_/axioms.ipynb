{
 "cells": [
  {
   "cell_type": "markdown",
   "metadata": {},
   "source": [
    "Axioms for the theory of <a class=\"ProveItLink\" href=\"theory.ipynb\">proveit.core_expr_types.operations</a>\n",
    "========"
   ]
  },
  {
   "cell_type": "code",
   "execution_count": 1,
   "metadata": {},
   "outputs": [],
   "source": [
    "import proveit\n",
    "# Prepare this notebook for defining the axioms of a theory:\n",
    "%axioms_notebook # Keep this at the top following 'import proveit'.\n",
    "from proveit import ExprTuple, ExprRange, IndexedVar\n",
    "from proveit import f, g, k, n, x, y\n",
    "from proveit.logic import Forall, Equals\n",
    "from proveit.core_expr_types import Len\n",
    "from proveit.core_expr_types import (x_1_to_n, y_1_to_n, f__x_1_to_n, f__y_1_to_n, x_eq_y__1_to_n)\n",
    "from proveit.numbers import Natural, one"
   ]
  },
  {
   "cell_type": "code",
   "execution_count": 2,
   "metadata": {},
   "outputs": [
    {
     "name": "stdout",
     "output_type": "stream",
     "text": [
      "Defining axioms for theory 'proveit.core_expr_types.operations'\n",
      "Subsequent end-of-cell assignments will define axioms\n",
      "%end_axioms will finalize the definitions\n"
     ]
    }
   ],
   "source": [
    "%begin axioms"
   ]
  },
  {
   "cell_type": "markdown",
   "metadata": {},
   "source": [
    "**When there are multiple operands of an operation, they are internally represented as an ExprTuple.  However, this axiom is need to replace one ExprTuple of operands with another ExprTuple of operands.  The alternative would be to invent some notation to make a unary map expand a single ExprTuple argument into the operands of an operation (something like $x \\mapsto f(*x)$ where $*$ acts in the sense of the unpacking operator in Python).  We can attain this affect from the following axiom using explicit and standard notation.**"
   ]
  },
  {
   "cell_type": "code",
   "execution_count": 3,
   "metadata": {},
   "outputs": [
    {
     "data": {
      "text/html": [
       "<strong id=\"operands_substitution\">operands_substitution:</strong> <a class=\"ProveItLink\" href=\"../__pv_it/axioms/e5ec3e73e472fc23d759fc9ac8dae4f3f5d704e80/axiom_expr.ipynb\"><img src=\"data:image/png;base64,iVBORw0KGgoAAAANSUhEUgAAAvMAAAAzBAMAAADoXJp5AAAAMFBMVEX///8AAAAAAAAAAAAAAAAA\n",
       "AAAAAAAAAAAAAAAAAAAAAAAAAAAAAAAAAAAAAAAAAAAv3aB7AAAAD3RSTlMAq1RmmUTNIjK7EInv\n",
       "3XZ/CtNrAAAACXBIWXMAAA7EAAAOxAGVKw4bAAAJfUlEQVR42u1cfWwcxRV/d7d7u7f34avoHwlB\n",
       "6UVAGtF8HIUggVB8yE2TFtJYVELQROQa/kDwD4eEQEF8uKh/QGWIIUrTWGq0fKiQpIovqbDUIJIj\n",
       "UkUgClwpVMiq0UaYogAyFhEYGZXrfO3M7OzNXuDsRHL2Sd6bmffmY3878+bN27cGiCBn3z4XYpoD\n",
       "6ohsvtWqzHsUMgPnsre9FPFMqzUUDX3/BTABLzqnvdljLJGKoU/U25fXumpVX3tFDL1P17QvLpS6\n",
       "avV2LSdbjKGnZL2ultx4GF9/0l2zhbKW9a8YenaLnjorFxzDFki1y3bv1nKWuzH0hK5XC3KXD6Or\n",
       "Ue6y3au1nHQlhp7QCbVgC5mUuW7bzWnNdnM6hp7o5Bm15FVyXdptw2n9svltDD25w6JScOXJH5K9\n",
       "Fv0dOPXSK5Kdo2TbkCyRLWrFVrkx9Ii2h46y35LrHeivUlhsNAVDybYhWSJF9ukN45j+GRQb8WLo\n",
       "EV0SMja/Jj/vIGxqqZlEGZ5ntg7NOq/8QKvEWQVKyYbec9GMoUf0mlqQnCI//0BHfjAQ6vYkm8c0\n",
       "a4B+5lMJPzOl7TM1HUOPADoTOmw2feiRlYI1Q5JDjbM9/WxZtDdrxCHB1M9650wMPTJwpkPaoOgr\n",
       "HGRn1hxXgh5nU24U9ESi76kJ/sTa6nq61C506DMNzcTdA7C3/xLIUgwd4Fm8LJxwQy6XeH5zOVeL\n",
       "RvbPMfQI6ND9P0pv+SCyAf9wE9xMoR+p8iw86ZIsuThfyQkq8eB/oQc9CKOu7/Uog54ssEu10CfI\n",
       "3lOep9CPVEJGN/15EuCFyWRfiUKfH+NZa5hmIY+rvusnxl0usRg2d5i1vf0U+rU4c6cWegOLpWvz\n",
       "FPrtnlpyA7tzbu8TpX0F598HD8hZLiVMzuPwMxvg4U69Iuh/h43ZIS30Nl4V2+arwlmlHE+Txa3M\n",
       "AKwEoOfaw/rT47+UssIwEgeDKXh/GUBfp7WGoE+j55Ut6XU99n4emq/Q9yqH2fywb5nv8pEc/cYD\n",
       "hy+OXKs1JWWFD0FYlUX4tKydzIR6ihT6FNLj6Yht9ir0W52v0H+uaNLUhF+wN2CDKiZpuCH1YWSi\n",
       "VHTPELNwTo6Pn4iAPjc+/p/6fIX+qNYrYHldNfxxpF1VZdCvBxiOgN4YgIw75xgw1fpjHd/rwA9N\n",
       "xKR+2kmyG93z8cDzTQb9vWDJDk7r3Zfh+qKAHjHvxekX+uZyNFQ1prQWmdGBD6qVuLrzc0b0o/Oy\n",
       "1vINBn3GzfI7emrhTliSdQ1XOlINw8s4vePWuYf+WS3frEfzYZPiJynC2cieZ+iTHt9ljfX4eOVV\n",
       "svJpdiXdZWdg7qFfqxe4uwM/HVQdRtQ5XMieZ4UD1TUoQZw+H2LGsssfCUCfTmFFu+QENkALE4+s\n",
       "8zWmSEpqVCo0T9GjMKLbixCahRKbQ4+GNLluQtbSvOYhxle65XzFPs6HByg6FLJH9TtCF6dIq5P7\n",
       "wt9m4RCaUcTp4xAAlmWf2yRDn13qcm/Px4mhrf4eLpLSxi4VHuhxB9nq92bskJ9KsDn0VhUKtYVp\n",
       "AoyxG9EOUfMyyuc9qPxkUNnfL4/lF1i2LDoUsp8PaPfi0veH3uxgHeWKPqAPoRRx+pjEVbMMKqdl\n",
       "6C3i4zTIcMsZzx+slBQkFz64Alg71nPNQuiIIdgcehOdMmCPLc8fXvM2yle6FXwz2MFt4QGKDoVs\n",
       "bxvoZyEE6sNodk/Fhz6B+8dOn9Rdu3c/g6Dfn5ahhwXkjEA9aD1oHW5z/aS5UtW+PdI6XYQapbKJ\n",
       "esK7eUJRv5gdhD6JZ8M0dVExwjVJ9gmfH+yWt2wHoV+ijCXQoZBdFd4SZiMEKh29hYzUQXYaY6eP\n",
       "Xaez3lwZgJ4uEjo/BqFmr3D9ZA5GlFYHJR35Hhxnsvn+3EDDUV6ZIbYCPYbEbljw2JivUEhNnCUK\n",
       "h0DGupX4pGVF4Twhj4UqHNGhkN0edsnORghUqtLZacehp06fYWYRnwpDP+KCU7cao8gozvOkhW7P\n",
       "qcN+/0IKU2t/ih7hfoD3zSkqC/mBLeiRNSRZyqai8jb7ULaKTPgxsV2imiQ7ias0gXcr8XHLUPDk\n",
       "gaBtVhoLI95hwQss/SDNSgjUm52ddhx66vTZhqa2/e8aNz0k6NHN2sfgV5smXQynn4SdODlYs1/H\n",
       "F1qYPI0tkcESXHZtlckm+/6IVFa/JEvZVFRAvwuMj458IkNPao4RFqqyC3i3Mh+1DJlaYCCZmjQW\n",
       "RrxD4WDJh/XKrIRA3dHZc6S8pXL+vnun6khghGMIk6zU5UljgCcFfwG2RKDk1ND+QGVfhB3EYSHJ\n",
       "UjYV5dD7lpWAntREWWx8lTjfGAjw11N3lzwQsy6Phd4c71C4xhIhw0uEQDkTZfkMd6Av+pwWED8Y\n",
       "CT05yJ31C8Jn8F77GwE9Sx4u8KTgNwurXTDdhHeLL7vYrELW9SRZxiaiAnqjpkKPa+Is4pgu5x8u\n",
       "yHzS8jplIOuksTCYeYfC3E+FD4o8BCqbbECvKK8vh9RUBFYB8WsiYX3jO0F/BKtHuvXYnx3yk+nW\n",
       "//wkcL5TTP4NtQzmmrov++tPAe5pNSVZyqaiAno4TN0ZJ7hRjWvi7GpcxeeTbgUft4y9O4GBZF0x\n",
       "Fva0/Q4lT5D9Reg4xEOgHjOasJBHQNmlDZAY2n/wYh1WVJzR8sgT17ffCfq5JjadHR3f7cB3dDU6\n",
       "yEaEQLk5D97iEVAOvAU5rwIbtCPE4tyGibR/4hAoTDeF9IYIgdri2l+LMBxzBrYPfAmPas+/RJzR\n",
       "5qg+E3HgH8FLvUMpBOrnUGgI6I0qfAbXRUCPxVn8E/9Wrf1h1ouhBxbJEThRUZt/D/p7Gj8HPwIK\n",
       "p5+mtqfbXoVhcRb/BNdG9dnrxtC3M3FECBTcAFvKPAIKjKJ5hnz2yuOeglFQRJzFP5HwfC3ROMD4\n",
       "gx71tbQIgYJnj2ys8QgocBZNTFP/FQ53IqtFREGN+eI0/gnei/Jrxh/0yKtfUCAEajQQAZWtglWx\n",
       "anK4k09UYNSPf7KiPoFgu0kMfToQbSGHQGWrzjEpAmoU/lqCbY//3pXCncR5C6g4i3+KdL5RJ1EM\n",
       "PdiBT5blEKi8l6hLEVAfwCKAt1stOdyJb7MeUHHqCouO1nsHYugpnQ7sulIIVHKN/1aAuC0u5e8b\n",
       "vFAbWECIi9C1tg6H+EN9fsBpH99led+/yULUe91b4Oygv+4C+FdEW8+tgqNf8Dv7DnSAPv5XRLNN\n",
       "f6FzGf8rov8DpcUX4DAl9WUAAAAASUVORK5CYII=\n",
       "\" style=\"display:inline;vertical-align:middle;\" /></a><br>"
      ],
      "text/plain": [
       "<IPython.core.display.HTML object>"
      ]
     },
     "metadata": {},
     "output_type": "display_data"
    }
   ],
   "source": [
    "operands_substitution = Forall(n, Forall((f, x_1_to_n, y_1_to_n),\n",
    "                                         Equals(f__x_1_to_n, f__y_1_to_n).with_wrap_after_operator(),\n",
    "                                         conditions = [x_eq_y__1_to_n]),\n",
    "                               domain=Natural)"
   ]
  },
  {
   "cell_type": "code",
   "execution_count": 4,
   "metadata": {},
   "outputs": [
    {
     "name": "stdout",
     "output_type": "stream",
     "text": [
      "These axioms may now be imported from the theory package: proveit.core_expr_types.operations\n"
     ]
    }
   ],
   "source": [
    "%end axioms"
   ]
  },
  {
   "cell_type": "code",
   "execution_count": null,
   "metadata": {},
   "outputs": [],
   "source": []
  }
 ],
 "metadata": {
  "kernelspec": {
   "display_name": "Python 3",
   "language": "python",
   "name": "python3"
  }
 },
 "nbformat": 4,
 "nbformat_minor": 0
}