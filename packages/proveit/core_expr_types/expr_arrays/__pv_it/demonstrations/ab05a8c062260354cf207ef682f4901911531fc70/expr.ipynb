{
 "cells": [
  {
   "cell_type": "markdown",
   "metadata": {},
   "source": [
    "Expression of type <a class=\"ProveItLink\" href=\"../../../../../../../doc/html/api/proveit.ExprArray.html\">ExprArray</a>\n",
    "=======================\n",
    "# from the theory of <a class=\"ProveItLink\" href=\"../../../_theory_nbs_/theory.ipynb\">proveit.core_expr_types.expr_arrays</a>"
   ]
  },
  {
   "cell_type": "code",
   "execution_count": 1,
   "metadata": {},
   "outputs": [],
   "source": [
    "import proveit\n",
    "# Automation is not needed when building an expression:\n",
    "proveit.defaults.automation = False # This will speed things up.\n",
    "proveit.defaults.inline_pngs = False # Makes files smaller.\n",
    "%load_expr # Load the stored expression as 'stored_expr'\n",
    "# import Expression classes needed to build the expression\n",
    "from proveit import A, B, ExprArray, ExprRange, IndexedVar, Variable, k, m, n\n",
    "from proveit.numbers import one"
   ]
  },
  {
   "cell_type": "code",
   "execution_count": 2,
   "metadata": {},
   "outputs": [
    {
     "data": {
      "text/html": [
       "<strong id=\"expr\">expr:</strong> <a class=\"ProveItLink\" href=\"expr.ipynb\"><img src=\"expr.png\" style=\"display:inline;vertical-align:middle;\" /></a><br>"
      ],
      "text/plain": [
       "<IPython.core.display.HTML object>"
      ]
     },
     "metadata": {},
     "output_type": "display_data"
    }
   ],
   "source": [
    "# build up the expression from sub-expressions\n",
    "sub_expr1 = Variable(\"_b\", latex_format = r\"{_{-}b}\")\n",
    "sub_expr2 = Variable(\"_a\", latex_format = r\"{_{-}a}\")\n",
    "sub_expr3 = [sub_expr1, sub_expr2]\n",
    "expr = ExprArray(ExprRange(sub_expr1, [ExprRange(sub_expr2, IndexedVar(A, sub_expr3), one, n).with_explicit_parameterization(), ExprRange(sub_expr2, IndexedVar(B, sub_expr3), one, k)], one, m).with_explicit_parameterization())"
   ]
  },
  {
   "cell_type": "code",
   "execution_count": 3,
   "metadata": {},
   "outputs": [
    {
     "name": "stdout",
     "output_type": "stream",
     "text": [
      "Passed sanity check: expr matches stored_expr\n"
     ]
    }
   ],
   "source": [
    "# check that the built expression is the same as the stored expression\n",
    "assert expr == stored_expr\n",
    "assert expr._style_id == stored_expr._style_id\n",
    "print(\"Passed sanity check: expr matches stored_expr\")"
   ]
  },
  {
   "cell_type": "code",
   "execution_count": 4,
   "metadata": {},
   "outputs": [
    {
     "name": "stdout",
     "output_type": "stream",
     "text": [
      "\\begin{array}{cccccccc} \n",
      " A_{1, 1} & A_{1, 2} & \\cdots & A_{1, n} & B_{1, 1} & B_{1, 2} & \\cdots & B_{1, k} \\\\\n",
      "A_{2, 1} & A_{2, 2} & \\cdots & A_{2, n} & B_{2, 1} & B_{2, 2} & \\cdots & B_{2, k} \\\\\n",
      "\\vdots & \\vdots & A_{{_{-}b}, {_{-}a}} & \\vdots & \\begin{array}{c}:\\\\ B_{{_{-}b}, 1} \\\\:\\end{array} & \\begin{array}{c}:\\\\ B_{{_{-}b}, 2} \\\\:\\end{array} & \\ddots & \\begin{array}{c}:\\\\ B_{{_{-}b}, k} \\\\:\\end{array} \\\\\n",
      "A_{m, 1} & A_{m, 2} & \\cdots & A_{m, n} & B_{m, 1} & B_{m, 2} & \\cdots & B_{m, k} \\\\\n",
      "\\end{array}\n",
      "\n"
     ]
    }
   ],
   "source": [
    "# Show the LaTeX representation of the expression for convenience if you need it.\n",
    "print(stored_expr.latex())"
   ]
  },
  {
   "cell_type": "code",
   "execution_count": 5,
   "metadata": {},
   "outputs": [
    {
     "data": {
      "text/html": [
       "<table>\n",
       "<tr><th>name</th><th>description</th><th>default</th><th>current value</th><th>related methods</th></tr><tr><td>justification</td><td>justify to the 'left', 'center', or 'right' in the array cells</td><td>center</td><td>center</td><td>with_justification</td></tr>\n",
       "</table>\n"
      ],
      "text/plain": [
       "style name: justification\n",
       "description: justify to the 'left', 'center', or 'right' in the array cells\n",
       "default: center\n",
       "current value: center\n",
       "related methods: with_justification"
      ]
     },
     "metadata": {},
     "output_type": "display_data"
    }
   ],
   "source": [
    "stored_expr.style_options()"
   ]
  },
  {
   "cell_type": "code",
   "execution_count": 6,
   "metadata": {},
   "outputs": [
    {
     "data": {
      "text/html": [
       "<table><tr><th>&nbsp;</th><th>core type</th><th>sub-expressions</th><th>expression</th></tr>\n",
       "<tr><td>0</td><td>ExprTuple</td><td>1</td><td><a class=\"ProveItLink\" href=\"expr.ipynb\"><img src=\"expr.png\" style=\"display:inline;vertical-align:middle;\" /></a></td></tr>\n",
       "<tr><td>1</td><td>ExprRange</td><td>lambda_map:&nbsp;2<br>start_index:&nbsp;11<br>end_index:&nbsp;3<br></td><td><a class=\"ProveItLink\" href=\"../84ac3349c242c24a20700716fce4491c7e4df1190/expr.ipynb\"><img src=\"../84ac3349c242c24a20700716fce4491c7e4df1190/expr.png\" style=\"display:inline;vertical-align:middle;\" /></a></td></tr>\n",
       "<tr><td>2</td><td>Lambda</td><td>parameter:&nbsp;19<br>body:&nbsp;5<br></td><td><a class=\"ProveItLink\" href=\"../947ef6be229a3fba0a64e774de03dc18e1b8477f0/expr.ipynb\"><img src=\"../947ef6be229a3fba0a64e774de03dc18e1b8477f0/expr.png\" style=\"display:inline;vertical-align:middle;\" /></a></td></tr>\n",
       "<tr><td>3</td><td>Variable</td><td></td><td><a class=\"ProveItLink\" href=\"../../../../../__pv_it/common/674a03b9c3ca221b3aabd5636837b31528ff33830/expr.ipynb\"><img src=\"../../../../../__pv_it/common/674a03b9c3ca221b3aabd5636837b31528ff33830/expr.png\" style=\"display:inline;vertical-align:middle;\" /></a></td></tr>\n",
       "<tr><td>4</td><td>ExprTuple</td><td>19</td><td><a class=\"ProveItLink\" href=\"../18f7318b68e45ff8356043b6e71619fa8450fb200/expr.ipynb\"><img src=\"../18f7318b68e45ff8356043b6e71619fa8450fb200/expr.png\" style=\"display:inline;vertical-align:middle;\" /></a></td></tr>\n",
       "<tr><td>5</td><td>ExprTuple</td><td>6, 7</td><td><a class=\"ProveItLink\" href=\"../7484ef0e37cd10dc6a10c4e9fd2bbc4abc5a23eb0/expr.ipynb\"><img src=\"../7484ef0e37cd10dc6a10c4e9fd2bbc4abc5a23eb0/expr.png\" style=\"display:inline;vertical-align:middle;\" /></a></td></tr>\n",
       "<tr><td>6</td><td>ExprRange</td><td>lambda_map:&nbsp;8<br>start_index:&nbsp;11<br>end_index:&nbsp;9<br></td><td><a class=\"ProveItLink\" href=\"../6d351b8bc4229e59decee9867fbab4db61a088f90/expr.ipynb\"><img src=\"../6d351b8bc4229e59decee9867fbab4db61a088f90/expr.png\" style=\"display:inline;vertical-align:middle;\" /></a></td></tr>\n",
       "<tr><td>7</td><td>ExprRange</td><td>lambda_map:&nbsp;10<br>start_index:&nbsp;11<br>end_index:&nbsp;12<br></td><td><a class=\"ProveItLink\" href=\"../f4f69239279fd0fab476482f3038117ab91f063b0/expr.ipynb\"><img src=\"../f4f69239279fd0fab476482f3038117ab91f063b0/expr.png\" style=\"display:inline;vertical-align:middle;\" /></a></td></tr>\n",
       "<tr><td>8</td><td>Lambda</td><td>parameter:&nbsp;20<br>body:&nbsp;13<br></td><td><a class=\"ProveItLink\" href=\"../042b3e9ccffc5bb337bf14e5131e4c08f85b67640/expr.ipynb\"><img src=\"../042b3e9ccffc5bb337bf14e5131e4c08f85b67640/expr.png\" style=\"display:inline;vertical-align:middle;\" /></a></td></tr>\n",
       "<tr><td>9</td><td>Variable</td><td></td><td><a class=\"ProveItLink\" href=\"../../../../../__pv_it/common/8968bb04eb3f7dfa02353397ce929b025bbd79c20/expr.ipynb\"><img src=\"../../../../../__pv_it/common/8968bb04eb3f7dfa02353397ce929b025bbd79c20/expr.png\" style=\"display:inline;vertical-align:middle;\" /></a></td></tr>\n",
       "<tr><td>10</td><td>Lambda</td><td>parameter:&nbsp;20<br>body:&nbsp;15<br></td><td><a class=\"ProveItLink\" href=\"../173a6f369ab7811b1f6ac71a9b4b327950cd138d0/expr.ipynb\"><img src=\"../173a6f369ab7811b1f6ac71a9b4b327950cd138d0/expr.png\" style=\"display:inline;vertical-align:middle;\" /></a></td></tr>\n",
       "<tr><td>11</td><td>Literal</td><td></td><td><a class=\"ProveItLink\" href=\"../../../../../numbers/numerals/__pv_it/common/682157d4892d216d9e5626ed533aff9b56b9506e0/expr.ipynb\"><img src=\"../../../../../numbers/numerals/__pv_it/common/682157d4892d216d9e5626ed533aff9b56b9506e0/expr.png\" style=\"display:inline;vertical-align:middle;\" /></a></td></tr>\n",
       "<tr><td>12</td><td>Variable</td><td></td><td><a class=\"ProveItLink\" href=\"../../../../../__pv_it/common/63b7c64bf9ec7a04ecc396c7a1670f3f12fb59490/expr.ipynb\"><img src=\"../../../../../__pv_it/common/63b7c64bf9ec7a04ecc396c7a1670f3f12fb59490/expr.png\" style=\"display:inline;vertical-align:middle;\" /></a></td></tr>\n",
       "<tr><td>13</td><td>IndexedVar</td><td>variable:&nbsp;16<br>indices:&nbsp;18<br></td><td><a class=\"ProveItLink\" href=\"../de56197d2c2a64a76930b89ea44fb63be43f4c020/expr.ipynb\"><img src=\"../de56197d2c2a64a76930b89ea44fb63be43f4c020/expr.png\" style=\"display:inline;vertical-align:middle;\" /></a></td></tr>\n",
       "<tr><td>14</td><td>ExprTuple</td><td>20</td><td><a class=\"ProveItLink\" href=\"../4b0dd6be36d76552eda6a95d5b4a27f5a5b62f900/expr.ipynb\"><img src=\"../4b0dd6be36d76552eda6a95d5b4a27f5a5b62f900/expr.png\" style=\"display:inline;vertical-align:middle;\" /></a></td></tr>\n",
       "<tr><td>15</td><td>IndexedVar</td><td>variable:&nbsp;17<br>indices:&nbsp;18<br></td><td><a class=\"ProveItLink\" href=\"../e79cd0fe4a2577a30580c7ee9d8c9195486094ac0/expr.ipynb\"><img src=\"../e79cd0fe4a2577a30580c7ee9d8c9195486094ac0/expr.png\" style=\"display:inline;vertical-align:middle;\" /></a></td></tr>\n",
       "<tr><td>16</td><td>Variable</td><td></td><td><a class=\"ProveItLink\" href=\"../../../../../__pv_it/common/09585084922504426caf1db2ff588a23a0932a960/expr.ipynb\"><img src=\"../../../../../__pv_it/common/09585084922504426caf1db2ff588a23a0932a960/expr.png\" style=\"display:inline;vertical-align:middle;\" /></a></td></tr>\n",
       "<tr><td>17</td><td>Variable</td><td></td><td><a class=\"ProveItLink\" href=\"../../../../../__pv_it/common/a9162d1c3cc0470c02e5daf414500903a7a419230/expr.ipynb\"><img src=\"../../../../../__pv_it/common/a9162d1c3cc0470c02e5daf414500903a7a419230/expr.png\" style=\"display:inline;vertical-align:middle;\" /></a></td></tr>\n",
       "<tr><td>18</td><td>ExprTuple</td><td>19, 20</td><td><a class=\"ProveItLink\" href=\"../c899820ca7633ea1589f21e8e039aa4da91850d80/expr.ipynb\"><img src=\"../c899820ca7633ea1589f21e8e039aa4da91850d80/expr.png\" style=\"display:inline;vertical-align:middle;\" /></a></td></tr>\n",
       "<tr><td>19</td><td>Variable</td><td></td><td><a class=\"ProveItLink\" href=\"../9a18d67b443cf8d92289c655ed91ec78766170a90/expr.ipynb\"><img src=\"../9a18d67b443cf8d92289c655ed91ec78766170a90/expr.png\" style=\"display:inline;vertical-align:middle;\" /></a></td></tr>\n",
       "<tr><td>20</td><td>Variable</td><td></td><td><a class=\"ProveItLink\" href=\"../006c465e50948aa2b52285e2de47974f741255cc0/expr.ipynb\"><img src=\"../006c465e50948aa2b52285e2de47974f741255cc0/expr.png\" style=\"display:inline;vertical-align:middle;\" /></a></td></tr>\n",
       "</table>\n"
      ],
      "text/plain": [
       "0. ExprArray((A_{1, 1}, A_{1, 2}, ..A_{1, _a}.., A_{1, n},B_{1, 1}, B_{1, 2}, ..., B_{1, k}), (A_{2, 1}, A_{2, 2}, ..A_{2, _a}.., A_{2, n},B_{2, 1}, B_{2, 2}, ..., B_{2, k}), ..(A_{_b, 1}, A_{_b, 2}, ..A_{_b, _a}.., A_{_b, n},B_{_b, 1}, B_{_b, 2}, ..., B_{_b, k}).., (A_{m, 1}, A_{m, 2}, ..A_{m, _a}.., A_{m, n},B_{m, 1}, B_{m, 2}, ..., B_{m, k}))\n",
       "   core type: ExprTuple\n",
       "   sub-expressions: 1\n",
       "1. (A_{1, 1}, A_{1, 2}, ..A_{1, _a}.., A_{1, n},B_{1, 1}, B_{1, 2}, ..., B_{1, k}), (A_{2, 1}, A_{2, 2}, ..A_{2, _a}.., A_{2, n},B_{2, 1}, B_{2, 2}, ..., B_{2, k}), ..(A_{_b, 1}, A_{_b, 2}, ..A_{_b, _a}.., A_{_b, n},B_{_b, 1}, B_{_b, 2}, ..., B_{_b, k}).., (A_{m, 1}, A_{m, 2}, ..A_{m, _a}.., A_{m, n},B_{m, 1}, B_{m, 2}, ..., B_{m, k})\n",
       "   core type: ExprRange\n",
       "   lambda_map: 2\n",
       "   start_index: 11\n",
       "   end_index: 3\n",
       "2. _b -> (A_{_b, 1}, A_{_b, 2}, ..A_{_b, _a}.., A_{_b, n},B_{_b, 1}, B_{_b, 2}, ..., B_{_b, k})\n",
       "   core type: Lambda\n",
       "   parameter: 19\n",
       "   body: 5\n",
       "3. m\n",
       "   core type: Variable\n",
       "   sub-expressions: \n",
       "4. (_b)\n",
       "   core type: ExprTuple\n",
       "   sub-expressions: 19\n",
       "5. (A_{_b, 1}, A_{_b, 2}, ..A_{_b, _a}.., A_{_b, n},B_{_b, 1}, B_{_b, 2}, ..., B_{_b, k})\n",
       "   core type: ExprTuple\n",
       "   sub-expressions: 6, 7\n",
       "6. A_{_b, 1}, A_{_b, 2}, ..A_{_b, _a}.., A_{_b, n}\n",
       "   core type: ExprRange\n",
       "   lambda_map: 8\n",
       "   start_index: 11\n",
       "   end_index: 9\n",
       "7. B_{_b, 1}, B_{_b, 2}, ..., B_{_b, k}\n",
       "   core type: ExprRange\n",
       "   lambda_map: 10\n",
       "   start_index: 11\n",
       "   end_index: 12\n",
       "8. _a -> A_{_b, _a}\n",
       "   core type: Lambda\n",
       "   parameter: 20\n",
       "   body: 13\n",
       "9. n\n",
       "   core type: Variable\n",
       "   sub-expressions: \n",
       "10. _a -> B_{_b, _a}\n",
       "    core type: Lambda\n",
       "    parameter: 20\n",
       "    body: 15\n",
       "11. 1\n",
       "    core type: Literal\n",
       "    sub-expressions: \n",
       "12. k\n",
       "    core type: Variable\n",
       "    sub-expressions: \n",
       "13. A_{_b, _a}\n",
       "    core type: IndexedVar\n",
       "variable: 16\n",
       "indices: 18\n",
       "14. (_a)\n",
       "    core type: ExprTuple\n",
       "    sub-expressions: 20\n",
       "15. B_{_b, _a}\n",
       "    core type: IndexedVar\n",
       "variable: 17\n",
       "indices: 18\n",
       "16. A\n",
       "    core type: Variable\n",
       "    sub-expressions: \n",
       "17. B\n",
       "    core type: Variable\n",
       "    sub-expressions: \n",
       "18. (_b, _a)\n",
       "    core type: ExprTuple\n",
       "    sub-expressions: 19, 20\n",
       "19. _b\n",
       "    core type: Variable\n",
       "    sub-expressions: \n",
       "20. _a\n",
       "    core type: Variable\n",
       "    sub-expressions: "
      ]
     },
     "metadata": {},
     "output_type": "display_data"
    }
   ],
   "source": [
    "# display the expression information\n",
    "stored_expr.expr_info()"
   ]
  },
  {
   "cell_type": "code",
   "execution_count": null,
   "metadata": {},
   "outputs": [],
   "source": []
  }
 ],
 "metadata": {
  "kernelspec": {
   "display_name": "Python 3",
   "language": "python",
   "name": "python3"
  }
 },
 "nbformat": 4,
 "nbformat_minor": 0
}