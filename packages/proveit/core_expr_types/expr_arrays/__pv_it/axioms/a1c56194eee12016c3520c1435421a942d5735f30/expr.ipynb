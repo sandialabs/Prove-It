{
 "cells": [
  {
   "cell_type": "markdown",
   "metadata": {},
   "source": [
    "Expression of type <a class=\"ProveItLink\" href=\"../../../../../../../doc/html/api/proveit.Lambda.html\">Lambda</a>\n",
    "=======================\n",
    "# from the theory of <a class=\"ProveItLink\" href=\"../../../_theory_nbs_/theory.ipynb\">proveit.core_expr_types.expr_arrays</a>"
   ]
  },
  {
   "cell_type": "code",
   "execution_count": 1,
   "metadata": {},
   "outputs": [],
   "source": [
    "import proveit\n",
    "# Automation is not needed when building an expression:\n",
    "proveit.defaults.automation = False # This will speed things up.\n",
    "proveit.defaults.inline_pngs = False # Makes files smaller.\n",
    "%load_expr # Load the stored expression as 'stored_expr'\n",
    "# import Expression classes needed to build the expression\n",
    "from proveit import Conditional, Lambda, VertExprArray, i, j\n",
    "from proveit.core_expr_types import a_1_to_i, b_1_to_j\n",
    "from proveit.logic import And, Forall, InSet, NotEquals\n",
    "from proveit.numbers import Natural"
   ]
  },
  {
   "cell_type": "code",
   "execution_count": 2,
   "metadata": {},
   "outputs": [
    {
     "data": {
      "text/html": [
       "<strong id=\"expr\">expr:</strong> <a class=\"ProveItLink\" href=\"expr.ipynb\"><img src=\"expr.png\" style=\"display:inline;vertical-align:middle;\" /></a><br>"
      ],
      "text/plain": [
       "<IPython.core.display.HTML object>"
      ]
     },
     "metadata": {},
     "output_type": "display_data"
    }
   ],
   "source": [
    "# build up the expression from sub-expressions\n",
    "expr = Lambda([i, j], Conditional(Forall(instance_param_or_params = [a_1_to_i, b_1_to_j], instance_expr = NotEquals(VertExprArray(a_1_to_i), VertExprArray(b_1_to_j))), And(InSet(i, Natural), InSet(j, Natural), NotEquals(i, j))))"
   ]
  },
  {
   "cell_type": "code",
   "execution_count": 3,
   "metadata": {},
   "outputs": [
    {
     "name": "stdout",
     "output_type": "stream",
     "text": [
      "Passed sanity check: expr matches stored_expr\n"
     ]
    }
   ],
   "source": [
    "# check that the built expression is the same as the stored expression\n",
    "assert expr == stored_expr\n",
    "assert expr._style_id == stored_expr._style_id\n",
    "print(\"Passed sanity check: expr matches stored_expr\")"
   ]
  },
  {
   "cell_type": "code",
   "execution_count": 4,
   "metadata": {},
   "outputs": [
    {
     "name": "stdout",
     "output_type": "stream",
     "text": [
      "\\left(i, j\\right) \\mapsto \\left\\{\\forall_{a_{1}, a_{2}, \\ldots, a_{i}, b_{1}, b_{2}, \\ldots, b_{j}}~\\left(\\left(\\begin{array}{cccc} \n",
      " \\multirow{1}{*}{$\\begin{array}{c} \\uparrow \\\\ a_{1} \\\\ \\downarrow \\end{array}$} & \\multirow{1}{*}{$\\begin{array}{c} \\uparrow \\\\ a_{2} \\\\ \\downarrow \\end{array}$} & \\multirow{1}{*}{$\\begin{array}{c} \\uparrow \\\\ \\cdots \\\\ \\downarrow \\end{array}$} & \\multirow{1}{*}{$\\begin{array}{c} \\uparrow \\\\ a_{i} \\\\ \\downarrow \\end{array}$} \\\\\n",
      "\\end{array}\n",
      "\\right) \\neq \\left(\\begin{array}{cccc} \n",
      " \\multirow{1}{*}{$\\begin{array}{c} \\uparrow \\\\ b_{1} \\\\ \\downarrow \\end{array}$} & \\multirow{1}{*}{$\\begin{array}{c} \\uparrow \\\\ b_{2} \\\\ \\downarrow \\end{array}$} & \\multirow{1}{*}{$\\begin{array}{c} \\uparrow \\\\ \\cdots \\\\ \\downarrow \\end{array}$} & \\multirow{1}{*}{$\\begin{array}{c} \\uparrow \\\\ b_{j} \\\\ \\downarrow \\end{array}$} \\\\\n",
      "\\end{array}\n",
      "\\right)\\right) \\textrm{ if } i \\in \\mathbb{N} ,  j \\in \\mathbb{N} ,  i \\neq j\\right..\n"
     ]
    }
   ],
   "source": [
    "# Show the LaTeX representation of the expression for convenience if you need it.\n",
    "print(stored_expr.latex())"
   ]
  },
  {
   "cell_type": "code",
   "execution_count": 5,
   "metadata": {},
   "outputs": [
    {
     "data": {
      "text/html": [
       "no style options"
      ],
      "text/plain": [
       "no style options"
      ]
     },
     "metadata": {},
     "output_type": "display_data"
    }
   ],
   "source": [
    "stored_expr.style_options()"
   ]
  },
  {
   "cell_type": "code",
   "execution_count": 6,
   "metadata": {},
   "outputs": [
    {
     "data": {
      "text/html": [
       "<table><tr><th>&nbsp;</th><th>core type</th><th>sub-expressions</th><th>expression</th></tr>\n",
       "<tr><td>0</td><td>Lambda</td><td>parameters:&nbsp;17<br>body:&nbsp;1<br></td><td><a class=\"ProveItLink\" href=\"expr.ipynb\"><img src=\"expr.png\" style=\"display:inline;vertical-align:middle;\" /></a></td></tr>\n",
       "<tr><td>1</td><td>Conditional</td><td>value:&nbsp;2<br>condition:&nbsp;3<br></td><td><a class=\"ProveItLink\" href=\"../9107e46e467482fd4c2c71f2e810eddd346ad9ea0/expr.ipynb\"><img src=\"../9107e46e467482fd4c2c71f2e810eddd346ad9ea0/expr.png\" style=\"display:inline;vertical-align:middle;\" /></a></td></tr>\n",
       "<tr><td>2</td><td>Operation</td><td>operator:&nbsp;4<br>operand:&nbsp;8<br></td><td><a class=\"ProveItLink\" href=\"../549ac1ffbfeaddf7debc621369aad7a73dbd442e0/expr.ipynb\"><img src=\"../549ac1ffbfeaddf7debc621369aad7a73dbd442e0/expr.png\" style=\"display:inline;vertical-align:middle;\" /></a></td></tr>\n",
       "<tr><td>3</td><td>Operation</td><td>operator:&nbsp;6<br>operands:&nbsp;7<br></td><td><a class=\"ProveItLink\" href=\"../cd5a1191a507089ce92f3d63652947e4ef436b7d0/expr.ipynb\"><img src=\"../cd5a1191a507089ce92f3d63652947e4ef436b7d0/expr.png\" style=\"display:inline;vertical-align:middle;\" /></a></td></tr>\n",
       "<tr><td>4</td><td>Literal</td><td></td><td><a class=\"ProveItLink\" href=\"../../../../../logic/booleans/quantification/universality/__pv_it/common/083d2baa0b8ecab1d230f9ec29a15aa1355809fb0/expr.ipynb\"><img src=\"../../../../../logic/booleans/quantification/universality/__pv_it/common/083d2baa0b8ecab1d230f9ec29a15aa1355809fb0/expr.png\" style=\"display:inline;vertical-align:middle;\" /></a></td></tr>\n",
       "<tr><td>5</td><td>ExprTuple</td><td>8</td><td><a class=\"ProveItLink\" href=\"../e87ba56cc708d7ba3d6c021b463caf24224fdd780/expr.ipynb\"><img src=\"../e87ba56cc708d7ba3d6c021b463caf24224fdd780/expr.png\" style=\"display:inline;vertical-align:middle;\" /></a></td></tr>\n",
       "<tr><td>6</td><td>Literal</td><td></td><td><a class=\"ProveItLink\" href=\"../../../../../logic/booleans/conjunction/__pv_it/common/42118ff318bd65d98b1393f64ce7c2269feef76e0/expr.ipynb\"><img src=\"../../../../../logic/booleans/conjunction/__pv_it/common/42118ff318bd65d98b1393f64ce7c2269feef76e0/expr.png\" style=\"display:inline;vertical-align:middle;\" /></a></td></tr>\n",
       "<tr><td>7</td><td>ExprTuple</td><td>9, 10, 11</td><td><a class=\"ProveItLink\" href=\"../5444548ab86aab84b79f747b41258405eb7ba54d0/expr.ipynb\"><img src=\"../5444548ab86aab84b79f747b41258405eb7ba54d0/expr.png\" style=\"display:inline;vertical-align:middle;\" /></a></td></tr>\n",
       "<tr><td>8</td><td>Lambda</td><td>parameters:&nbsp;12<br>body:&nbsp;13<br></td><td><a class=\"ProveItLink\" href=\"../d4a22d56a3ca0c3071c880d092a65f38460421280/expr.ipynb\"><img src=\"../d4a22d56a3ca0c3071c880d092a65f38460421280/expr.png\" style=\"display:inline;vertical-align:middle;\" /></a></td></tr>\n",
       "<tr><td>9</td><td>Operation</td><td>operator:&nbsp;15<br>operands:&nbsp;14<br></td><td><a class=\"ProveItLink\" href=\"../10cfe086dee5530e9b3b60486d89c6cb824c41920/expr.ipynb\"><img src=\"../10cfe086dee5530e9b3b60486d89c6cb824c41920/expr.png\" style=\"display:inline;vertical-align:middle;\" /></a></td></tr>\n",
       "<tr><td>10</td><td>Operation</td><td>operator:&nbsp;15<br>operands:&nbsp;16<br></td><td><a class=\"ProveItLink\" href=\"../a66b1fb5d205d2e8007a39dfc31bf38e465e0de50/expr.ipynb\"><img src=\"../a66b1fb5d205d2e8007a39dfc31bf38e465e0de50/expr.png\" style=\"display:inline;vertical-align:middle;\" /></a></td></tr>\n",
       "<tr><td>11</td><td>Operation</td><td>operator:&nbsp;18<br>operands:&nbsp;17<br></td><td><a class=\"ProveItLink\" href=\"../40c24da8382f437cbfd96e07547822af162c61530/expr.ipynb\"><img src=\"../40c24da8382f437cbfd96e07547822af162c61530/expr.png\" style=\"display:inline;vertical-align:middle;\" /></a></td></tr>\n",
       "<tr><td>12</td><td>ExprTuple</td><td>23, 24</td><td><a class=\"ProveItLink\" href=\"../c5089ea885d0d039c1b86cae9247f045689fa2030/expr.ipynb\"><img src=\"../c5089ea885d0d039c1b86cae9247f045689fa2030/expr.png\" style=\"display:inline;vertical-align:middle;\" /></a></td></tr>\n",
       "<tr><td>13</td><td>Operation</td><td>operator:&nbsp;18<br>operands:&nbsp;19<br></td><td><a class=\"ProveItLink\" href=\"../daf13fb51e4fd020ce9dee21b1b58a8415137fae0/expr.ipynb\"><img src=\"../daf13fb51e4fd020ce9dee21b1b58a8415137fae0/expr.png\" style=\"display:inline;vertical-align:middle;\" /></a></td></tr>\n",
       "<tr><td>14</td><td>ExprTuple</td><td>26, 20</td><td><a class=\"ProveItLink\" href=\"../1e0eb14b674d1cdf4a94a1df57c3bb998311774a0/expr.ipynb\"><img src=\"../1e0eb14b674d1cdf4a94a1df57c3bb998311774a0/expr.png\" style=\"display:inline;vertical-align:middle;\" /></a></td></tr>\n",
       "<tr><td>15</td><td>Literal</td><td></td><td><a class=\"ProveItLink\" href=\"../../../../../logic/sets/membership/__pv_it/common/477487d8796864d23d5810f83761435f25167f690/expr.ipynb\"><img src=\"../../../../../logic/sets/membership/__pv_it/common/477487d8796864d23d5810f83761435f25167f690/expr.png\" style=\"display:inline;vertical-align:middle;\" /></a></td></tr>\n",
       "<tr><td>16</td><td>ExprTuple</td><td>29, 20</td><td><a class=\"ProveItLink\" href=\"../7a128213361f018e3a5fb4107c35c71018499dc90/expr.ipynb\"><img src=\"../7a128213361f018e3a5fb4107c35c71018499dc90/expr.png\" style=\"display:inline;vertical-align:middle;\" /></a></td></tr>\n",
       "<tr><td>17</td><td>ExprTuple</td><td>26, 29</td><td><a class=\"ProveItLink\" href=\"../fd5db4d3d282981293a7ef32c5ae50e0675f01460/expr.ipynb\"><img src=\"../fd5db4d3d282981293a7ef32c5ae50e0675f01460/expr.png\" style=\"display:inline;vertical-align:middle;\" /></a></td></tr>\n",
       "<tr><td>18</td><td>Literal</td><td></td><td><a class=\"ProveItLink\" href=\"../../../../../logic/equality/__pv_it/common/d96270bc9bb1bad54f773b1c04bfb343a739642c0/expr.ipynb\"><img src=\"../../../../../logic/equality/__pv_it/common/d96270bc9bb1bad54f773b1c04bfb343a739642c0/expr.png\" style=\"display:inline;vertical-align:middle;\" /></a></td></tr>\n",
       "<tr><td>19</td><td>ExprTuple</td><td>21, 22</td><td><a class=\"ProveItLink\" href=\"../7bd91e340ec67a2c94a598cc764bd08d48c999a90/expr.ipynb\"><img src=\"../7bd91e340ec67a2c94a598cc764bd08d48c999a90/expr.png\" style=\"display:inline;vertical-align:middle;\" /></a></td></tr>\n",
       "<tr><td>20</td><td>Literal</td><td></td><td><a class=\"ProveItLink\" href=\"../../../../../numbers/number_sets/natural_numbers/__pv_it/common/8b7c321957f52ed3b05b36af612eeae4fa4783bc0/expr.ipynb\"><img src=\"../../../../../numbers/number_sets/natural_numbers/__pv_it/common/8b7c321957f52ed3b05b36af612eeae4fa4783bc0/expr.png\" style=\"display:inline;vertical-align:middle;\" /></a></td></tr>\n",
       "<tr><td>21</td><td>ExprTuple</td><td>23</td><td><a class=\"ProveItLink\" href=\"../bed515e85625a14e7c97d3750109a8d95c0f110f0/expr.ipynb\"><img src=\"../bed515e85625a14e7c97d3750109a8d95c0f110f0/expr.png\" style=\"display:inline;vertical-align:middle;\" /></a></td></tr>\n",
       "<tr><td>22</td><td>ExprTuple</td><td>24</td><td><a class=\"ProveItLink\" href=\"../5faf0c482d449865df666537ae52f6f87e9fd7730/expr.ipynb\"><img src=\"../5faf0c482d449865df666537ae52f6f87e9fd7730/expr.png\" style=\"display:inline;vertical-align:middle;\" /></a></td></tr>\n",
       "<tr><td>23</td><td>ExprRange</td><td>lambda_map:&nbsp;25<br>start_index:&nbsp;28<br>end_index:&nbsp;26<br></td><td><a class=\"ProveItLink\" href=\"../../../../__pv_it/common/7230c683fcd56948c826ac1be71b01b6fb2913950/expr.ipynb\"><img src=\"../../../../__pv_it/common/7230c683fcd56948c826ac1be71b01b6fb2913950/expr.png\" style=\"display:inline;vertical-align:middle;\" /></a></td></tr>\n",
       "<tr><td>24</td><td>ExprRange</td><td>lambda_map:&nbsp;27<br>start_index:&nbsp;28<br>end_index:&nbsp;29<br></td><td><a class=\"ProveItLink\" href=\"../../../../__pv_it/common/d0e70829681f7e0560cecc174fdf76cb311d43400/expr.ipynb\"><img src=\"../../../../__pv_it/common/d0e70829681f7e0560cecc174fdf76cb311d43400/expr.png\" style=\"display:inline;vertical-align:middle;\" /></a></td></tr>\n",
       "<tr><td>25</td><td>Lambda</td><td>parameter:&nbsp;35<br>body:&nbsp;30<br></td><td><a class=\"ProveItLink\" href=\"../../../../__pv_it/common/1527ad383e12f9c6ed6b371c9a7dd1892d80da1b0/expr.ipynb\"><img src=\"../../../../__pv_it/common/1527ad383e12f9c6ed6b371c9a7dd1892d80da1b0/expr.png\" style=\"display:inline;vertical-align:middle;\" /></a></td></tr>\n",
       "<tr><td>26</td><td>Variable</td><td></td><td><a class=\"ProveItLink\" href=\"../../../../../__pv_it/common/ae955345c83abf786c3aff8681cd5465beae262d0/expr.ipynb\"><img src=\"../../../../../__pv_it/common/ae955345c83abf786c3aff8681cd5465beae262d0/expr.png\" style=\"display:inline;vertical-align:middle;\" /></a></td></tr>\n",
       "<tr><td>27</td><td>Lambda</td><td>parameter:&nbsp;35<br>body:&nbsp;31<br></td><td><a class=\"ProveItLink\" href=\"../../../../__pv_it/common/d763764ede9c88a33f4b750791da02d1a21cb6820/expr.ipynb\"><img src=\"../../../../__pv_it/common/d763764ede9c88a33f4b750791da02d1a21cb6820/expr.png\" style=\"display:inline;vertical-align:middle;\" /></a></td></tr>\n",
       "<tr><td>28</td><td>Literal</td><td></td><td><a class=\"ProveItLink\" href=\"../../../../../numbers/numerals/__pv_it/common/682157d4892d216d9e5626ed533aff9b56b9506e0/expr.ipynb\"><img src=\"../../../../../numbers/numerals/__pv_it/common/682157d4892d216d9e5626ed533aff9b56b9506e0/expr.png\" style=\"display:inline;vertical-align:middle;\" /></a></td></tr>\n",
       "<tr><td>29</td><td>Variable</td><td></td><td><a class=\"ProveItLink\" href=\"../../../../../__pv_it/common/1ed21df18baca2f42b561a7ffbf30a2743d594650/expr.ipynb\"><img src=\"../../../../../__pv_it/common/1ed21df18baca2f42b561a7ffbf30a2743d594650/expr.png\" style=\"display:inline;vertical-align:middle;\" /></a></td></tr>\n",
       "<tr><td>30</td><td>IndexedVar</td><td>variable:&nbsp;32<br>index:&nbsp;35<br></td><td><a class=\"ProveItLink\" href=\"../../../../__pv_it/common/3a62c13e156d62d52fe585fa37cc2172fcf685260/expr.ipynb\"><img src=\"../../../../__pv_it/common/3a62c13e156d62d52fe585fa37cc2172fcf685260/expr.png\" style=\"display:inline;vertical-align:middle;\" /></a></td></tr>\n",
       "<tr><td>31</td><td>IndexedVar</td><td>variable:&nbsp;33<br>index:&nbsp;35<br></td><td><a class=\"ProveItLink\" href=\"../../../../__pv_it/common/8542342c36565a593724a99f9c08d995c1c21af20/expr.ipynb\"><img src=\"../../../../__pv_it/common/8542342c36565a593724a99f9c08d995c1c21af20/expr.png\" style=\"display:inline;vertical-align:middle;\" /></a></td></tr>\n",
       "<tr><td>32</td><td>Variable</td><td></td><td><a class=\"ProveItLink\" href=\"../../../../../__pv_it/common/c06c606ec12678c58933ac85412ecadc2ae28be60/expr.ipynb\"><img src=\"../../../../../__pv_it/common/c06c606ec12678c58933ac85412ecadc2ae28be60/expr.png\" style=\"display:inline;vertical-align:middle;\" /></a></td></tr>\n",
       "<tr><td>33</td><td>Variable</td><td></td><td><a class=\"ProveItLink\" href=\"../../../../../__pv_it/common/195236b98c6c564a75b5dbada74b173bc52d5c3e0/expr.ipynb\"><img src=\"../../../../../__pv_it/common/195236b98c6c564a75b5dbada74b173bc52d5c3e0/expr.png\" style=\"display:inline;vertical-align:middle;\" /></a></td></tr>\n",
       "<tr><td>34</td><td>ExprTuple</td><td>35</td><td><a class=\"ProveItLink\" href=\"../../../../__pv_it/common/4b0dd6be36d76552eda6a95d5b4a27f5a5b62f900/expr.ipynb\"><img src=\"../../../../__pv_it/common/4b0dd6be36d76552eda6a95d5b4a27f5a5b62f900/expr.png\" style=\"display:inline;vertical-align:middle;\" /></a></td></tr>\n",
       "<tr><td>35</td><td>Variable</td><td></td><td><a class=\"ProveItLink\" href=\"../../../../__pv_it/common/006c465e50948aa2b52285e2de47974f741255cc0/expr.ipynb\"><img src=\"../../../../__pv_it/common/006c465e50948aa2b52285e2de47974f741255cc0/expr.png\" style=\"display:inline;vertical-align:middle;\" /></a></td></tr>\n",
       "</table>\n"
      ],
      "text/plain": [
       "0. (i, j) -> {forall_{a_{1}, a_{2}, ..., a_{i}, b_{1}, b_{2}, ..., b_{j}} (VertExprArray(a_{1}, a_{2}, ..., a_{i}) != VertExprArray(b_{1}, b_{2}, ..., b_{j})) if i in Natural ,  j in Natural ,  i != j.\n",
       "   core type: Lambda\n",
       "   parameters: 17\\n   body: 1\n",
       "1. {forall_{a_{1}, a_{2}, ..., a_{i}, b_{1}, b_{2}, ..., b_{j}} (VertExprArray(a_{1}, a_{2}, ..., a_{i}) != VertExprArray(b_{1}, b_{2}, ..., b_{j})) if i in Natural ,  j in Natural ,  i != j.\n",
       "   core type: Conditional\n",
       "   value: 2\n",
       "   condition: 3\n",
       "2. forall_{a_{1}, a_{2}, ..., a_{i}, b_{1}, b_{2}, ..., b_{j}} (VertExprArray(a_{1}, a_{2}, ..., a_{i}) != VertExprArray(b_{1}, b_{2}, ..., b_{j}))\n",
       "   core type: Operation\n",
       "   operator: 4\n",
       "   operand: 8\n",
       "3. (i in Natural) and (j in Natural) and (i != j)\n",
       "   core type: Operation\n",
       "   operator: 6\n",
       "   operands: 7\n",
       "4. forall\n",
       "   core type: Literal\n",
       "   sub-expressions: \n",
       "5. ((a_{1}, a_{2}, ..., a_{i}, b_{1}, b_{2}, ..., b_{j}) -> (VertExprArray(a_{1}, a_{2}, ..., a_{i}) != VertExprArray(b_{1}, b_{2}, ..., b_{j})))\n",
       "   core type: ExprTuple\n",
       "   sub-expressions: 8\n",
       "6. and\n",
       "   core type: Literal\n",
       "   sub-expressions: \n",
       "7. (i in Natural, j in Natural, i != j)\n",
       "   core type: ExprTuple\n",
       "   sub-expressions: 9, 10, 11\n",
       "8. (a_{1}, a_{2}, ..., a_{i}, b_{1}, b_{2}, ..., b_{j}) -> (VertExprArray(a_{1}, a_{2}, ..., a_{i}) != VertExprArray(b_{1}, b_{2}, ..., b_{j}))\n",
       "   core type: Lambda\n",
       "   parameters: 12\\n   body: 13\n",
       "9. i in Natural\n",
       "   core type: Operation\n",
       "   operator: 15\n",
       "   operands: 14\n",
       "10. j in Natural\n",
       "    core type: Operation\n",
       "    operator: 15\n",
       "    operands: 16\n",
       "11. i != j\n",
       "    core type: Operation\n",
       "    operator: 18\n",
       "    operands: 17\n",
       "12. (a_{1}, a_{2}, ..., a_{i},b_{1}, b_{2}, ..., b_{j})\n",
       "    core type: ExprTuple\n",
       "    sub-expressions: 23, 24\n",
       "13. VertExprArray(a_{1}, a_{2}, ..., a_{i}) != VertExprArray(b_{1}, b_{2}, ..., b_{j})\n",
       "    core type: Operation\n",
       "    operator: 18\n",
       "    operands: 19\n",
       "14. (i, Natural)\n",
       "    core type: ExprTuple\n",
       "    sub-expressions: 26, 20\n",
       "15. in\n",
       "    core type: Literal\n",
       "    sub-expressions: \n",
       "16. (j, Natural)\n",
       "    core type: ExprTuple\n",
       "    sub-expressions: 29, 20\n",
       "17. (i, j)\n",
       "    core type: ExprTuple\n",
       "    sub-expressions: 26, 29\n",
       "18. !=\n",
       "    core type: Literal\n",
       "    sub-expressions: \n",
       "19. (VertExprArray(a_{1}, a_{2}, ..., a_{i}), VertExprArray(b_{1}, b_{2}, ..., b_{j}))\n",
       "    core type: ExprTuple\n",
       "    sub-expressions: 21, 22\n",
       "20. Natural\n",
       "    core type: Literal\n",
       "    sub-expressions: \n",
       "21. VertExprArray(a_{1}, a_{2}, ..., a_{i})\n",
       "    core type: ExprTuple\n",
       "    sub-expressions: 23\n",
       "22. VertExprArray(b_{1}, b_{2}, ..., b_{j})\n",
       "    core type: ExprTuple\n",
       "    sub-expressions: 24\n",
       "23. a_{1}, a_{2}, ..., a_{i}\n",
       "    core type: ExprRange\n",
       "    lambda_map: 25\n",
       "    start_index: 28\n",
       "    end_index: 26\n",
       "24. b_{1}, b_{2}, ..., b_{j}\n",
       "    core type: ExprRange\n",
       "    lambda_map: 27\n",
       "    start_index: 28\n",
       "    end_index: 29\n",
       "25. _a -> a_{_a}\n",
       "    core type: Lambda\n",
       "    parameter: 35\n",
       "    body: 30\n",
       "26. i\n",
       "    core type: Variable\n",
       "    sub-expressions: \n",
       "27. _a -> b_{_a}\n",
       "    core type: Lambda\n",
       "    parameter: 35\n",
       "    body: 31\n",
       "28. 1\n",
       "    core type: Literal\n",
       "    sub-expressions: \n",
       "29. j\n",
       "    core type: Variable\n",
       "    sub-expressions: \n",
       "30. a_{_a}\n",
       "    core type: IndexedVar\n",
       "variable: 32\n",
       "index: 35\n",
       "31. b_{_a}\n",
       "    core type: IndexedVar\n",
       "variable: 33\n",
       "index: 35\n",
       "32. a\n",
       "    core type: Variable\n",
       "    sub-expressions: \n",
       "33. b\n",
       "    core type: Variable\n",
       "    sub-expressions: \n",
       "34. (_a)\n",
       "    core type: ExprTuple\n",
       "    sub-expressions: 35\n",
       "35. _a\n",
       "    core type: Variable\n",
       "    sub-expressions: "
      ]
     },
     "metadata": {},
     "output_type": "display_data"
    }
   ],
   "source": [
    "# display the expression information\n",
    "stored_expr.expr_info()"
   ]
  },
  {
   "cell_type": "code",
   "execution_count": null,
   "metadata": {},
   "outputs": [],
   "source": []
  }
 ],
 "metadata": {
  "kernelspec": {
   "display_name": "Python 3",
   "language": "python",
   "name": "python3"
  }
 },
 "nbformat": 4,
 "nbformat_minor": 0
}