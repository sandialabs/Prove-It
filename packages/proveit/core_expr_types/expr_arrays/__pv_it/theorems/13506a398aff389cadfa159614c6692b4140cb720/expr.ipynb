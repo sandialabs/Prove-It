{
 "cells": [
  {
   "cell_type": "markdown",
   "metadata": {},
   "source": [
    "Expression of type <a class=\"ProveItLink\" href=\"../../../../../../../doc/html/api/proveit.logic.Forall.html\">Forall</a>\n",
    "=======================\n",
    "# from the theory of <a class=\"ProveItLink\" href=\"../../../_theory_nbs_/theory.ipynb\">proveit.core_expr_types.expr_arrays</a>"
   ]
  },
  {
   "cell_type": "code",
   "execution_count": 1,
   "metadata": {},
   "outputs": [],
   "source": [
    "import proveit\n",
    "# Automation is not needed when building an expression:\n",
    "proveit.defaults.automation = False # This will speed things up.\n",
    "proveit.defaults.inline_pngs = False # Makes files smaller.\n",
    "%load_expr # Load the stored expression as 'stored_expr'\n",
    "# import Expression classes needed to build the expression\n",
    "from proveit import ExprArray, ExprRange, IndexedVar, Variable, a, b, i\n",
    "from proveit.core_expr_types import a_1_to_i, b_1_to_i\n",
    "from proveit.logic import Forall, NotEquals, Or\n",
    "from proveit.numbers import one"
   ]
  },
  {
   "cell_type": "code",
   "execution_count": 2,
   "metadata": {},
   "outputs": [
    {
     "data": {
      "text/html": [
       "<strong id=\"expr\">expr:</strong> <a class=\"ProveItLink\" href=\"expr.ipynb\"><img src=\"expr.png\" style=\"display:inline;vertical-align:middle;\" /></a><br>"
      ],
      "text/plain": [
       "<IPython.core.display.HTML object>"
      ]
     },
     "metadata": {},
     "output_type": "display_data"
    }
   ],
   "source": [
    "# build up the expression from sub-expressions\n",
    "sub_expr1 = Variable(\"_a\", latex_format = r\"{_{-}a}\")\n",
    "expr = Forall(instance_param_or_params = [a_1_to_i, b_1_to_i], instance_expr = NotEquals(ExprArray(a_1_to_i), ExprArray(b_1_to_i)), condition = Or(ExprRange(sub_expr1, NotEquals(IndexedVar(a, sub_expr1), IndexedVar(b, sub_expr1)), one, i)))"
   ]
  },
  {
   "cell_type": "code",
   "execution_count": 3,
   "metadata": {},
   "outputs": [
    {
     "name": "stdout",
     "output_type": "stream",
     "text": [
      "Passed sanity check: expr matches stored_expr\n"
     ]
    }
   ],
   "source": [
    "# check that the built expression is the same as the stored expression\n",
    "assert expr == stored_expr\n",
    "assert expr._style_id == stored_expr._style_id\n",
    "print(\"Passed sanity check: expr matches stored_expr\")"
   ]
  },
  {
   "cell_type": "code",
   "execution_count": 4,
   "metadata": {},
   "outputs": [
    {
     "name": "stdout",
     "output_type": "stream",
     "text": [
      "\\forall_{a_{1}, a_{2}, \\ldots, a_{i}, b_{1}, b_{2}, \\ldots, b_{i}~|~\\left(a_{1} \\neq b_{1}\\right) \\lor  \\left(a_{2} \\neq b_{2}\\right) \\lor  \\ldots \\lor  \\left(a_{i} \\neq b_{i}\\right)}~\\left(\\left(\\begin{array}{c} \n",
      " \\multicolumn{1}{c}{\\begin{array}{lcr} \\leftarrow & a_{1} & \\rightarrow \\end{array}} \\\\\n",
      "\\multicolumn{1}{c}{\\begin{array}{lcr} \\leftarrow & a_{2} & \\rightarrow \\end{array}} \\\\\n",
      "\\multicolumn{1}{c}{\\begin{array}{lcr} \\leftarrow & \\vdots & \\rightarrow \\end{array}} \\\\\n",
      "\\multicolumn{1}{c}{\\begin{array}{lcr} \\leftarrow & a_{i} & \\rightarrow \\end{array}} \\\\\n",
      "\\end{array}\n",
      "\\right) \\neq \\left(\\begin{array}{c} \n",
      " \\multicolumn{1}{c}{\\begin{array}{lcr} \\leftarrow & b_{1} & \\rightarrow \\end{array}} \\\\\n",
      "\\multicolumn{1}{c}{\\begin{array}{lcr} \\leftarrow & b_{2} & \\rightarrow \\end{array}} \\\\\n",
      "\\multicolumn{1}{c}{\\begin{array}{lcr} \\leftarrow & \\vdots & \\rightarrow \\end{array}} \\\\\n",
      "\\multicolumn{1}{c}{\\begin{array}{lcr} \\leftarrow & b_{i} & \\rightarrow \\end{array}} \\\\\n",
      "\\end{array}\n",
      "\\right)\\right)\n"
     ]
    }
   ],
   "source": [
    "# Show the LaTeX representation of the expression for convenience if you need it.\n",
    "print(stored_expr.latex())"
   ]
  },
  {
   "cell_type": "code",
   "execution_count": 5,
   "metadata": {},
   "outputs": [
    {
     "data": {
      "text/html": [
       "<table>\n",
       "<tr><th>name</th><th>description</th><th>default</th><th>current value</th><th>related methods</th></tr><tr><td>with_wrapping</td><td>If 'True', wrap the Expression after the parameters</td><td>None</td><td>None/False</td><td>('with_wrapping',)</td></tr>\n",
       "<tr><td>condition_wrapping</td><td>Wrap 'before' or 'after' the condition (or None).</td><td>None</td><td>None/False</td><td>('with_wrap_after_condition', 'with_wrap_before_condition')</td></tr>\n",
       "<tr><td>wrap_params</td><td>If 'True', wraps every two parameters AND wraps the Expression after the parameters</td><td>None</td><td>None/False</td><td>('with_params',)</td></tr>\n",
       "<tr><td>justification</td><td>justify to the 'left', 'center', or 'right' in the array cells</td><td>center</td><td>center</td><td>('with_justification',)</td></tr>\n",
       "</table>\n"
      ],
      "text/plain": [
       "style name: with_wrapping\n",
       "description: If 'True', wrap the Expression after the parameters\n",
       "default: None\n",
       "current value: None/False\n",
       "related methods: ('with_wrapping',)\n",
       "style name: condition_wrapping\n",
       "description: Wrap 'before' or 'after' the condition (or None).\n",
       "default: None\n",
       "current value: None/False\n",
       "related methods: ('with_wrap_after_condition', 'with_wrap_before_condition')\n",
       "style name: wrap_params\n",
       "description: If 'True', wraps every two parameters AND wraps the Expression after the parameters\n",
       "default: None\n",
       "current value: None/False\n",
       "related methods: ('with_params',)\n",
       "style name: justification\n",
       "description: justify to the 'left', 'center', or 'right' in the array cells\n",
       "default: center\n",
       "current value: center\n",
       "related methods: ('with_justification',)"
      ]
     },
     "metadata": {},
     "output_type": "display_data"
    }
   ],
   "source": [
    "stored_expr.style_options()"
   ]
  },
  {
   "cell_type": "code",
   "execution_count": 6,
   "metadata": {},
   "outputs": [
    {
     "data": {
      "text/html": [
       "<table><tr><th>&nbsp;</th><th>core type</th><th>sub-expressions</th><th>expression</th></tr>\n",
       "<tr><td>0</td><td>Operation</td><td>operator:&nbsp;1<br>operand:&nbsp;3<br></td><td><a class=\"ProveItLink\" href=\"expr.ipynb\"><img src=\"expr.png\" style=\"display:inline;vertical-align:middle;\" /></a></td></tr>\n",
       "<tr><td>1</td><td>Literal</td><td></td><td><a class=\"ProveItLink\" href=\"../../../../../logic/booleans/quantification/universality/__pv_it/common/083d2baa0b8ecab1d230f9ec29a15aa1355809fb0/expr.ipynb\"><img src=\"../../../../../logic/booleans/quantification/universality/__pv_it/common/083d2baa0b8ecab1d230f9ec29a15aa1355809fb0/expr.png\" style=\"display:inline;vertical-align:middle;\" /></a></td></tr>\n",
       "<tr><td>2</td><td>ExprTuple</td><td>3</td><td><a class=\"ProveItLink\" href=\"../425f82c61c641b87930d9fe46a40e2345da29f5e0/expr.ipynb\"><img src=\"../425f82c61c641b87930d9fe46a40e2345da29f5e0/expr.png\" style=\"display:inline;vertical-align:middle;\" /></a></td></tr>\n",
       "<tr><td>3</td><td>Lambda</td><td>parameters:&nbsp;4<br>body:&nbsp;5<br></td><td><a class=\"ProveItLink\" href=\"../36c00c1a0c24be82ac42b08c150dc316bd2879c90/expr.ipynb\"><img src=\"../36c00c1a0c24be82ac42b08c150dc316bd2879c90/expr.png\" style=\"display:inline;vertical-align:middle;\" /></a></td></tr>\n",
       "<tr><td>4</td><td>ExprTuple</td><td>14, 15</td><td><a class=\"ProveItLink\" href=\"../24165d8271721a46874f99ca2bf4fd20fafd17200/expr.ipynb\"><img src=\"../24165d8271721a46874f99ca2bf4fd20fafd17200/expr.png\" style=\"display:inline;vertical-align:middle;\" /></a></td></tr>\n",
       "<tr><td>5</td><td>Conditional</td><td>value:&nbsp;6<br>condition:&nbsp;7<br></td><td><a class=\"ProveItLink\" href=\"../8cbba9d090419105b35b9bcaca757be667936e500/expr.ipynb\"><img src=\"../8cbba9d090419105b35b9bcaca757be667936e500/expr.png\" style=\"display:inline;vertical-align:middle;\" /></a></td></tr>\n",
       "<tr><td>6</td><td>Operation</td><td>operator:&nbsp;22<br>operands:&nbsp;8<br></td><td><a class=\"ProveItLink\" href=\"../343816736692f92ecd91698995ba4b4e92a863220/expr.ipynb\"><img src=\"../343816736692f92ecd91698995ba4b4e92a863220/expr.png\" style=\"display:inline;vertical-align:middle;\" /></a></td></tr>\n",
       "<tr><td>7</td><td>Operation</td><td>operator:&nbsp;9<br>operands:&nbsp;10<br></td><td><a class=\"ProveItLink\" href=\"../b906a0ffb1afb773ce3394de6c22878c118f59c10/expr.ipynb\"><img src=\"../b906a0ffb1afb773ce3394de6c22878c118f59c10/expr.png\" style=\"display:inline;vertical-align:middle;\" /></a></td></tr>\n",
       "<tr><td>8</td><td>ExprTuple</td><td>11, 12</td><td><a class=\"ProveItLink\" href=\"../8efbadf58e3c4a6b0a7bf98cada180b8691b04240/expr.ipynb\"><img src=\"../8efbadf58e3c4a6b0a7bf98cada180b8691b04240/expr.png\" style=\"display:inline;vertical-align:middle;\" /></a></td></tr>\n",
       "<tr><td>9</td><td>Literal</td><td></td><td><a class=\"ProveItLink\" href=\"../../../../../logic/booleans/disjunction/__pv_it/common/ef8e59262ff8e0133aa1ca984dd6b3a41bf69d5b0/expr.ipynb\"><img src=\"../../../../../logic/booleans/disjunction/__pv_it/common/ef8e59262ff8e0133aa1ca984dd6b3a41bf69d5b0/expr.png\" style=\"display:inline;vertical-align:middle;\" /></a></td></tr>\n",
       "<tr><td>10</td><td>ExprTuple</td><td>13</td><td><a class=\"ProveItLink\" href=\"../2a561b585a9da63a27a304dc6de1d46c462e10240/expr.ipynb\"><img src=\"../2a561b585a9da63a27a304dc6de1d46c462e10240/expr.png\" style=\"display:inline;vertical-align:middle;\" /></a></td></tr>\n",
       "<tr><td>11</td><td>ExprTuple</td><td>14</td><td><a class=\"ProveItLink\" href=\"../a25340b26ed421d464f64e3814b75cc291ee37da0/expr.ipynb\"><img src=\"../a25340b26ed421d464f64e3814b75cc291ee37da0/expr.png\" style=\"display:inline;vertical-align:middle;\" /></a></td></tr>\n",
       "<tr><td>12</td><td>ExprTuple</td><td>15</td><td><a class=\"ProveItLink\" href=\"../7b993d19ce87ad683f1fd1067702c384c29362120/expr.ipynb\"><img src=\"../7b993d19ce87ad683f1fd1067702c384c29362120/expr.png\" style=\"display:inline;vertical-align:middle;\" /></a></td></tr>\n",
       "<tr><td>13</td><td>ExprRange</td><td>lambda_map:&nbsp;16<br>start_index:&nbsp;19<br>end_index:&nbsp;20<br></td><td><a class=\"ProveItLink\" href=\"../32a32f4e29ef39360357287271862fdf9fc321550/expr.ipynb\"><img src=\"../32a32f4e29ef39360357287271862fdf9fc321550/expr.png\" style=\"display:inline;vertical-align:middle;\" /></a></td></tr>\n",
       "<tr><td>14</td><td>ExprRange</td><td>lambda_map:&nbsp;17<br>start_index:&nbsp;19<br>end_index:&nbsp;20<br></td><td><a class=\"ProveItLink\" href=\"../../../../__pv_it/common/7230c683fcd56948c826ac1be71b01b6fb2913950/expr.ipynb\"><img src=\"../../../../__pv_it/common/7230c683fcd56948c826ac1be71b01b6fb2913950/expr.png\" style=\"display:inline;vertical-align:middle;\" /></a></td></tr>\n",
       "<tr><td>15</td><td>ExprRange</td><td>lambda_map:&nbsp;18<br>start_index:&nbsp;19<br>end_index:&nbsp;20<br></td><td><a class=\"ProveItLink\" href=\"../../../../__pv_it/common/6614125435656057a807c01b2703aec599ab667b0/expr.ipynb\"><img src=\"../../../../__pv_it/common/6614125435656057a807c01b2703aec599ab667b0/expr.png\" style=\"display:inline;vertical-align:middle;\" /></a></td></tr>\n",
       "<tr><td>16</td><td>Lambda</td><td>parameter:&nbsp;29<br>body:&nbsp;21<br></td><td><a class=\"ProveItLink\" href=\"../40c3a30ffccd9d46d61aadc36c929bb8285668fa0/expr.ipynb\"><img src=\"../40c3a30ffccd9d46d61aadc36c929bb8285668fa0/expr.png\" style=\"display:inline;vertical-align:middle;\" /></a></td></tr>\n",
       "<tr><td>17</td><td>Lambda</td><td>parameter:&nbsp;29<br>body:&nbsp;24<br></td><td><a class=\"ProveItLink\" href=\"../../../../__pv_it/common/1527ad383e12f9c6ed6b371c9a7dd1892d80da1b0/expr.ipynb\"><img src=\"../../../../__pv_it/common/1527ad383e12f9c6ed6b371c9a7dd1892d80da1b0/expr.png\" style=\"display:inline;vertical-align:middle;\" /></a></td></tr>\n",
       "<tr><td>18</td><td>Lambda</td><td>parameter:&nbsp;29<br>body:&nbsp;25<br></td><td><a class=\"ProveItLink\" href=\"../../../../__pv_it/common/d763764ede9c88a33f4b750791da02d1a21cb6820/expr.ipynb\"><img src=\"../../../../__pv_it/common/d763764ede9c88a33f4b750791da02d1a21cb6820/expr.png\" style=\"display:inline;vertical-align:middle;\" /></a></td></tr>\n",
       "<tr><td>19</td><td>Literal</td><td></td><td><a class=\"ProveItLink\" href=\"../../../../../numbers/numerals/__pv_it/common/682157d4892d216d9e5626ed533aff9b56b9506e0/expr.ipynb\"><img src=\"../../../../../numbers/numerals/__pv_it/common/682157d4892d216d9e5626ed533aff9b56b9506e0/expr.png\" style=\"display:inline;vertical-align:middle;\" /></a></td></tr>\n",
       "<tr><td>20</td><td>Variable</td><td></td><td><a class=\"ProveItLink\" href=\"../../../../../__pv_it/common/ae955345c83abf786c3aff8681cd5465beae262d0/expr.ipynb\"><img src=\"../../../../../__pv_it/common/ae955345c83abf786c3aff8681cd5465beae262d0/expr.png\" style=\"display:inline;vertical-align:middle;\" /></a></td></tr>\n",
       "<tr><td>21</td><td>Operation</td><td>operator:&nbsp;22<br>operands:&nbsp;23<br></td><td><a class=\"ProveItLink\" href=\"../1cb4cf53c10a918b2fcabbacc76a2009053171d70/expr.ipynb\"><img src=\"../1cb4cf53c10a918b2fcabbacc76a2009053171d70/expr.png\" style=\"display:inline;vertical-align:middle;\" /></a></td></tr>\n",
       "<tr><td>22</td><td>Literal</td><td></td><td><a class=\"ProveItLink\" href=\"../../../../../logic/equality/__pv_it/common/d96270bc9bb1bad54f773b1c04bfb343a739642c0/expr.ipynb\"><img src=\"../../../../../logic/equality/__pv_it/common/d96270bc9bb1bad54f773b1c04bfb343a739642c0/expr.png\" style=\"display:inline;vertical-align:middle;\" /></a></td></tr>\n",
       "<tr><td>23</td><td>ExprTuple</td><td>24, 25</td><td><a class=\"ProveItLink\" href=\"../bba0807525d3fc2a75641fe92eca9a3a348d1c4f0/expr.ipynb\"><img src=\"../bba0807525d3fc2a75641fe92eca9a3a348d1c4f0/expr.png\" style=\"display:inline;vertical-align:middle;\" /></a></td></tr>\n",
       "<tr><td>24</td><td>IndexedVar</td><td>variable:&nbsp;26<br>index:&nbsp;29<br></td><td><a class=\"ProveItLink\" href=\"../../../../__pv_it/common/3a62c13e156d62d52fe585fa37cc2172fcf685260/expr.ipynb\"><img src=\"../../../../__pv_it/common/3a62c13e156d62d52fe585fa37cc2172fcf685260/expr.png\" style=\"display:inline;vertical-align:middle;\" /></a></td></tr>\n",
       "<tr><td>25</td><td>IndexedVar</td><td>variable:&nbsp;27<br>index:&nbsp;29<br></td><td><a class=\"ProveItLink\" href=\"../../../../__pv_it/common/8542342c36565a593724a99f9c08d995c1c21af20/expr.ipynb\"><img src=\"../../../../__pv_it/common/8542342c36565a593724a99f9c08d995c1c21af20/expr.png\" style=\"display:inline;vertical-align:middle;\" /></a></td></tr>\n",
       "<tr><td>26</td><td>Variable</td><td></td><td><a class=\"ProveItLink\" href=\"../../../../../__pv_it/common/c06c606ec12678c58933ac85412ecadc2ae28be60/expr.ipynb\"><img src=\"../../../../../__pv_it/common/c06c606ec12678c58933ac85412ecadc2ae28be60/expr.png\" style=\"display:inline;vertical-align:middle;\" /></a></td></tr>\n",
       "<tr><td>27</td><td>Variable</td><td></td><td><a class=\"ProveItLink\" href=\"../../../../../__pv_it/common/195236b98c6c564a75b5dbada74b173bc52d5c3e0/expr.ipynb\"><img src=\"../../../../../__pv_it/common/195236b98c6c564a75b5dbada74b173bc52d5c3e0/expr.png\" style=\"display:inline;vertical-align:middle;\" /></a></td></tr>\n",
       "<tr><td>28</td><td>ExprTuple</td><td>29</td><td><a class=\"ProveItLink\" href=\"../../../../__pv_it/common/4b0dd6be36d76552eda6a95d5b4a27f5a5b62f900/expr.ipynb\"><img src=\"../../../../__pv_it/common/4b0dd6be36d76552eda6a95d5b4a27f5a5b62f900/expr.png\" style=\"display:inline;vertical-align:middle;\" /></a></td></tr>\n",
       "<tr><td>29</td><td>Variable</td><td></td><td><a class=\"ProveItLink\" href=\"../../../../__pv_it/common/006c465e50948aa2b52285e2de47974f741255cc0/expr.ipynb\"><img src=\"../../../../__pv_it/common/006c465e50948aa2b52285e2de47974f741255cc0/expr.png\" style=\"display:inline;vertical-align:middle;\" /></a></td></tr>\n",
       "</table>\n"
      ],
      "text/plain": [
       "0. forall_{a_{1}, a_{2}, ..., a_{i}, b_{1}, b_{2}, ..., b_{i} | (a_{1} != b_{1}) or  (a_{2} != b_{2}) or  ... or  (a_{i} != b_{i})} (ExprArray(a_{1}, a_{2}, ..., a_{i}) != ExprArray(b_{1}, b_{2}, ..., b_{i}))\n",
       "   core type: Operation\n",
       "   operator: 1\n",
       "   operand: 3\n",
       "1. forall\n",
       "   core type: Literal\n",
       "   sub-expressions: \n",
       "2. ((a_{1}, a_{2}, ..., a_{i}, b_{1}, b_{2}, ..., b_{i}) -> {ExprArray(a_{1}, a_{2}, ..., a_{i}) != ExprArray(b_{1}, b_{2}, ..., b_{i}) if (a_{1} != b_{1}) or  (a_{2} != b_{2}) or  ... or  (a_{i} != b_{i}).)\n",
       "   core type: ExprTuple\n",
       "   sub-expressions: 3\n",
       "3. (a_{1}, a_{2}, ..., a_{i}, b_{1}, b_{2}, ..., b_{i}) -> {ExprArray(a_{1}, a_{2}, ..., a_{i}) != ExprArray(b_{1}, b_{2}, ..., b_{i}) if (a_{1} != b_{1}) or  (a_{2} != b_{2}) or  ... or  (a_{i} != b_{i}).\n",
       "   core type: Lambda\n",
       "   parameters: 4\\n   body: 5\n",
       "4. (a_{1}, a_{2}, ..., a_{i},b_{1}, b_{2}, ..., b_{i})\n",
       "   core type: ExprTuple\n",
       "   sub-expressions: 14, 15\n",
       "5. {ExprArray(a_{1}, a_{2}, ..., a_{i}) != ExprArray(b_{1}, b_{2}, ..., b_{i}) if (a_{1} != b_{1}) or  (a_{2} != b_{2}) or  ... or  (a_{i} != b_{i}).\n",
       "   core type: Conditional\n",
       "   value: 6\n",
       "   condition: 7\n",
       "6. ExprArray(a_{1}, a_{2}, ..., a_{i}) != ExprArray(b_{1}, b_{2}, ..., b_{i})\n",
       "   core type: Operation\n",
       "   operator: 22\n",
       "   operands: 8\n",
       "7. (a_{1} != b_{1}) or  (a_{2} != b_{2}) or  ... or  (a_{i} != b_{i})\n",
       "   core type: Operation\n",
       "   operator: 9\n",
       "   operands: 10\n",
       "8. (ExprArray(a_{1}, a_{2}, ..., a_{i}), ExprArray(b_{1}, b_{2}, ..., b_{i}))\n",
       "   core type: ExprTuple\n",
       "   sub-expressions: 11, 12\n",
       "9. or\n",
       "   core type: Literal\n",
       "   sub-expressions: \n",
       "10. ((a_{1} != b_{1}), (a_{2} != b_{2}), ..., (a_{i} != b_{i}))\n",
       "    core type: ExprTuple\n",
       "    sub-expressions: 13\n",
       "11. ExprArray(a_{1}, a_{2}, ..., a_{i})\n",
       "    core type: ExprTuple\n",
       "    sub-expressions: 14\n",
       "12. ExprArray(b_{1}, b_{2}, ..., b_{i})\n",
       "    core type: ExprTuple\n",
       "    sub-expressions: 15\n",
       "13. (a_{1} != b_{1}), (a_{2} != b_{2}), ..., (a_{i} != b_{i})\n",
       "    core type: ExprRange\n",
       "    lambda_map: 16\n",
       "    start_index: 19\n",
       "    end_index: 20\n",
       "14. a_{1}, a_{2}, ..., a_{i}\n",
       "    core type: ExprRange\n",
       "    lambda_map: 17\n",
       "    start_index: 19\n",
       "    end_index: 20\n",
       "15. b_{1}, b_{2}, ..., b_{i}\n",
       "    core type: ExprRange\n",
       "    lambda_map: 18\n",
       "    start_index: 19\n",
       "    end_index: 20\n",
       "16. _a -> (a_{_a} != b_{_a})\n",
       "    core type: Lambda\n",
       "    parameter: 29\n",
       "    body: 21\n",
       "17. _a -> a_{_a}\n",
       "    core type: Lambda\n",
       "    parameter: 29\n",
       "    body: 24\n",
       "18. _a -> b_{_a}\n",
       "    core type: Lambda\n",
       "    parameter: 29\n",
       "    body: 25\n",
       "19. 1\n",
       "    core type: Literal\n",
       "    sub-expressions: \n",
       "20. i\n",
       "    core type: Variable\n",
       "    sub-expressions: \n",
       "21. a_{_a} != b_{_a}\n",
       "    core type: Operation\n",
       "    operator: 22\n",
       "    operands: 23\n",
       "22. !=\n",
       "    core type: Literal\n",
       "    sub-expressions: \n",
       "23. (a_{_a}, b_{_a})\n",
       "    core type: ExprTuple\n",
       "    sub-expressions: 24, 25\n",
       "24. a_{_a}\n",
       "    core type: IndexedVar\n",
       "variable: 26\n",
       "index: 29\n",
       "25. b_{_a}\n",
       "    core type: IndexedVar\n",
       "variable: 27\n",
       "index: 29\n",
       "26. a\n",
       "    core type: Variable\n",
       "    sub-expressions: \n",
       "27. b\n",
       "    core type: Variable\n",
       "    sub-expressions: \n",
       "28. (_a)\n",
       "    core type: ExprTuple\n",
       "    sub-expressions: 29\n",
       "29. _a\n",
       "    core type: Variable\n",
       "    sub-expressions: "
      ]
     },
     "metadata": {},
     "output_type": "display_data"
    }
   ],
   "source": [
    "# display the expression information\n",
    "stored_expr.expr_info()"
   ]
  },
  {
   "cell_type": "code",
   "execution_count": null,
   "metadata": {},
   "outputs": [],
   "source": []
  }
 ],
 "metadata": {
  "kernelspec": {
   "display_name": "Python 3",
   "language": "python",
   "name": "python3"
  }
 },
 "nbformat": 4,
 "nbformat_minor": 0
}