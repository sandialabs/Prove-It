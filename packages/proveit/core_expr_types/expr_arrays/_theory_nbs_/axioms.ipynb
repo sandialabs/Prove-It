{
 "cells": [
  {
   "cell_type": "markdown",
   "metadata": {},
   "source": [
    "Axioms for the theory of <a class=\"ProveItLink\" href=\"theory.ipynb\">proveit.core_expr_types.expr_arrays</a>\n",
    "========"
   ]
  },
  {
   "cell_type": "code",
   "execution_count": null,
   "metadata": {},
   "outputs": [],
   "source": [
    "import proveit\n",
    "# Prepare this notebook for defining the axioms of a theory:\n",
    "%axioms_notebook # Keep this at the top following 'import proveit'.\n",
    "\n",
    "from proveit import ExprTuple, ExprArray, VertExprArray\n",
    "from proveit import a, b, c, d, f, i, j, m, n, fab\n",
    "from proveit.logic import Forall, Equals, And, NotEquals, InSet\n",
    "from proveit.core_expr_types import \\\n",
    "    (a_1_to_i, b_1_to_j, c_1_to_i)\n",
    "from proveit.numbers import zero, one\n",
    "from proveit.numbers import Natural, NaturalPos, Add, subtract"
   ]
  },
  {
   "cell_type": "code",
   "execution_count": null,
   "metadata": {},
   "outputs": [],
   "source": [
    "%begin axioms"
   ]
  },
  {
   "cell_type": "code",
   "execution_count": null,
   "metadata": {},
   "outputs": [],
   "source": [
    "array_eq_def = Forall(i, Forall((a_1_to_i, b, c_1_to_i, d),\n",
    "                                Equals(Equals(ExprArray(a_1_to_i, b), \n",
    "                                              ExprArray(c_1_to_i, d)),\n",
    "                                       And(Equals([a_1_to_i], [c_1_to_i]), \n",
    "                                           Equals(b, d))) \\\n",
    "                                .with_wrap_after_operator()),\n",
    "                      domain = Natural)"
   ]
  },
  {
   "cell_type": "code",
   "execution_count": null,
   "metadata": {},
   "outputs": [],
   "source": [
    "varray_eq_def = Forall(i, Forall((a_1_to_i, b, c_1_to_i, d),\n",
    "                                 Equals(Equals(VertExprArray(a_1_to_i, b), \n",
    "                                               VertExprArray(c_1_to_i, d)),\n",
    "                                        And(Equals([a_1_to_i], [c_1_to_i]), \n",
    "                                            Equals(b, d))) \\\n",
    "                                 .with_wrap_after_operator()),\n",
    "                      domain = Natural)"
   ]
  },
  {
   "cell_type": "code",
   "execution_count": null,
   "metadata": {},
   "outputs": [],
   "source": [
    "array_neq_with_diff_len = Forall(\n",
    "    (i, j), Forall((a_1_to_i, b_1_to_j),\n",
    "                   NotEquals(ExprArray(a_1_to_i), ExprArray(b_1_to_j))),\n",
    "    domain=Natural,\n",
    "    condition=NotEquals(i, j))"
   ]
  },
  {
   "cell_type": "code",
   "execution_count": null,
   "metadata": {},
   "outputs": [],
   "source": [
    "varray_neq_with_diff_len = Forall(\n",
    "    (i, j), Forall((a_1_to_i, b_1_to_j),\n",
    "                   NotEquals(VertExprArray(a_1_to_i), VertExprArray(b_1_to_j))),\n",
    "    domain=Natural,\n",
    "    condition=NotEquals(i, j))"
   ]
  },
  {
   "cell_type": "code",
   "execution_count": null,
   "metadata": {},
   "outputs": [],
   "source": [
    "print(varray_neq_with_diff_len.latex())"
   ]
  },
  {
   "cell_type": "code",
   "execution_count": null,
   "metadata": {},
   "outputs": [],
   "source": [
    "%end axioms"
   ]
  }
 ],
 "metadata": {
  "kernelspec": {
   "display_name": "Python 3",
   "language": "python",
   "name": "python3"
  }
 },
 "nbformat": 4,
 "nbformat_minor": 0
}
