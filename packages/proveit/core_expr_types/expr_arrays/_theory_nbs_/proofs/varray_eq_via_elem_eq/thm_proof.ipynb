{
 "cells": [
  {
   "cell_type": "markdown",
   "metadata": {},
   "source": [
    "Proof of <a class=\"ProveItLink\" href=\"../../../../../_theory_nbs_/theory.ipynb\">proveit</a>.<a class=\"ProveItLink\" href=\"../../../../_theory_nbs_/theory.ipynb\">core_expr_types</a>.<a class=\"ProveItLink\" href=\"../../theory.ipynb\">expr_arrays</a>.<a class=\"ProveItLink\" href=\"../../theorems.ipynb#varray_eq_via_elem_eq\">varray_eq_via_elem_eq</a> theorem\n",
    "========"
   ]
  },
  {
   "cell_type": "code",
   "execution_count": 1,
   "metadata": {},
   "outputs": [],
   "source": [
    "import proveit\n",
    "theory = proveit.Theory() # the theorem's theory"
   ]
  },
  {
   "cell_type": "code",
   "execution_count": 2,
   "metadata": {},
   "outputs": [
    {
     "data": {
      "text/html": [
       "With these <a href=\"allowed_presumptions.txt\">allowed</a>/<a href=\"disallowed_presumptions.txt\">disallowed</a> theorem/theory presumptions (e.g., to avoid circular dependencies), we begin our proof of<br><strong id=\"varray_eq_via_elem_eq\">varray_eq_via_elem_eq:</strong> <a class=\"ProveItLink\" href=\"../../../__pv_it/theorems/254f53b01df4d87c6c07ac0cf6ef7b7478f7d9db0/expr.ipynb\"><img src=\"data:image/png;base64,iVBORw0KGgoAAAANSUhEUgAABBsAAABHBAMAAAC0b1JoAAAAMFBMVEX///8AAAAAAAAAAAAAAAAA\n",
       "AAAAAAAAAAAAAAAAAAAAAAAAAAAAAAAAAAAAAAAAAAAv3aB7AAAAD3RSTlMAq1RmmUTNIjK7EInv\n",
       "3XZ/CtNrAAAACXBIWXMAAA7EAAAOxAGVKw4bAAAJS0lEQVR42u1df4gcVx3/3u7s7e7s3e42Ymks\n",
       "hk3a2kBI3QonWEqY0NSkkdql9Q9jwWywRVtQpyBKa0lXCdpg7AXPoFckTiqkxvy4pb/EiiVUSiql\n",
       "7QmHhdSDPQwVTXOEg5hwxcb5vjc782bevDe7M3HntnkfuN3vvO+P+e57n3m/ZnYPIAKfnDfho4Ns\n",
       "w36ZSDUFI7R0It2ENBTOzdcijZvwUcKN9l/GSDWFR8MK08wJE8rvJxdL/eqig46f5nDKHVQnpPBw\n",
       "2gltcuhQxfcbZHSIshgiFJH+U8HSE3KnCHXf7qdDjII56Z0EZ5Q782pMaNyidLgTC74uo0OUxRDh\n",
       "cewXTwZL35M7Raj7dl/gbbicys0EZ5Q782pMqFyldPiBO3KI6BBlMUT4As6a2sGr5W3pDCpC3b/7\n",
       "jMUZcTkdW0qQkdQ5RI0J6cuUDqO2XKrJ6BBlMUS4YP9VGoHCI7c+KPOJUPfvPspP2II56VPXNmKf\n",
       "Ue4coiYJfY3SAWeTo9KpZJTF8KCAl8Bk4OI88Y09h66TjNNydQx3je9pAznp7z25/ZpWzDPKncPU\n",
       "JKG7nJXFm/Pzb8hXFhEWw4PyLK6uA4U3wB74idgnQh3DvcxNXoI5ZeoFo9COeUa5c5iaJPS+Q4dt\n",
       "AE/L6RBhMTwYwUnUtVzxHrlXhLpv99wyebt7HvFXInM5FYwEZ5Q782qS0E6L0uERyNuzSt2/99hm\n",
       "6UAtrjw0h6+ibU9nQXSz6FrniG9G2BWxV5xOmw6FS5zNdKp0IAlNtigdilbJnlqUaN3n516E26vs\n",
       "Tmqza9H7CP0QL4VpoUjfJkQmlC5Z7tw/cgbf4MeaEMRx7UaR1bvSpkP+AmezK1U6kISeaFA6ZDrd\n",
       "eeJTqw/A2pKlWQE6eBa94foQKUxL6aBXRSY50kcd4vt8p++6PzBJqgriuHbj+LHm0qaDztNhLlU6\n",
       "kIRmHDpAc5NzMW7DeUrHKEGADq5Fj3g9RArTUjpoDaHJw/hyJ6cecybGo/75OB/o9YDdCukdLnFz\n",
       "h5R7B0zoCWewgOfsWs8tAPwDVetv2l2CF7bMbWkwdEALOLrp911/RvTgFhY+XLCCEpOMV0bpMM4F\n",
       "dE2ewxd7NaA/f5adFkwufoK8BzZDuEDdOK7dyqBD4eIKGyxIQpOmQ4fH7Uo6UbF0MiKvLz1zP9c7\n",
       "oIX+jvsxGJHpcdzC8umyEZSYiZ1XRunwXcb3rmkbddcE7z/m7QSOm5OEDhqqp+CcdYZOHf3BmUD+\n",
       "OK7dCH7E1StkZcFi9cpZWcCI3U08thFyZLNsPRj/4uiAFppROAl5suAk4r1n/H0zKQSs72I926SG\n",
       "KAXtsAz2M3TY4YsNbIAdmKttuwX2Qe4Wd9SYgs+So5x/P2cHmwR7KtfOXWCnSocsv+/wfqp0IAnd\n",
       "DuwN7oOQfWh6+mc2HY6OcnQgA3ajXIUfnnbFk/p5/4DeKFe7Q7tWdQxtibOzy3y9w1pfbF+AvXhp\n",
       "29avwQKMwYw3JdhMjgp+Oqxlk2BP5dq5l0GqdND4uTOX00DpQBLazNJBX27Rrar19mUY3HcgmDGL\n",
       "t1n05iwRzYKf5KRwAy5XKzBWo4YoBe2wbEOHocNeJjbt5N0AN9K21C/C1O/ydg/hDBbn4VU8Cg4W\n",
       "e70kvDh4Ks/uNcLblOkQcs+Cy2mgdGDvWTg7OE2D7jxOBG/Aur2DOXkfabKjjlhs2KLe7r6QwnWG\n",
       "LY1bnwNqSCTbzrOiZesM/1TSje3MCZ0AsGjb41TyVOHCbQAHuvrT2f3kqNzxAtsv3UDrDCYOHpQ7\n",
       "Xc/QO5qDpkMvdzQHSgf2jqbTO6wx4VF7hlD4mwkjoXTI3XHL86SR9tWouA3FwinYZ+ILLSy2sOyL\n",
       "HceQSLZd4VXHyqRlxRZDh6LpxXbydQLAL+wY9gt86TNn66C13NpYBHJUNL3AttQNVGwxcYrEruu5\n",
       "D0u5ofv78tqNUPftfmtICwVzyrcTnFHuzKsxoWwVAg/H6X+YPsA7N31H2Eh02VayOl0R3MLjma7k\n",
       "GhK7jN/ueIahQ67NxPadCdc6NXcT6WXfpjQeHWEDZ9xAxzOMHR4c8Taw8PSrIF28E1K2Ku2Exk3o\n",
       "/1nJp96oQY72dd++PNsVsU2pVPy3I3mGaAdf8dvZZswm9VYvtv9Mmon2Gr22Ry//lx3u8GgrExgl\n",
       "J5AT3TvY6jEeP416VjIkoe6zkn3RgfiEiXIJ6iFlLh1KluDUE9T+ZdHHaDCBURIEYm96bMB+pJ0q\n",
       "HcKfpG6nm1DPT1J/8//3PYu88y6ig1OuC9S6yEFitwK+Z7FdRP00E8L7VHDu73VQUFBQUFBQGD4c\n",
       "eTO+Ngr6r2ZVBQ8ZHkigjcKooep3yLCUQBuFSk3V73Ah5IGInrWR2GmpCh4ulGbjayPxJ1W/Mjzy\n",
       "yu4E6qThw4f3NQu1uNpI7FpcpRpd3PWegl9bsdU9htf729ideVi/GFcbubL4jzVjwrOq4cNxrA53\n",
       "A/ymKVPrf7zGShTe+RJLr/i0BW+JU0Jt/IwyyzDWgVdUw4fjHoB3obA4K1NroAn0M0283hxB6N8v\n",
       "Pg/wgTgl1AozIsnIMtKaUGmrZhfhL+RLJ5lZmbrSyF8KV7vf4xk3ZOH7xLuQWxKnhFpxRnMgz2i8\n",
       "DTvVUlM4lH4I2fNiOlB11hJVfm/hcwv9bjtoy2I6oDZ+RpUa3GN9tapaPry9lmCkebOYDlQde3FH\n",
       "/U9U+hvoL+GUQ0gHoo2dUaWl/1nvLKuWD8dB2GgY4rqnaviplST8Yxv7c/oY/FwyfhFt7IxG6kUj\n",
       "/4y6byHAobM/XtMS1z1V559OFv5gn04v1CV0INrYGenX3wFQ7KiGly6/5JfLd+B7iUak5daVTilZ\n",
       "RjO/VU0ev+7zv3xye6LoTeMKp5Qwo09pqslltfvSB7Luc+zy5fOJeoc15hVOKWFGh/6p2lxBQUFB\n",
       "QUFBQUFBQUFBQUFh8Bjwz330goH+3IeCDwP+MaBeMNAfA1JQdFBQdFB0UHRQdFB0UHRQdFB0UHRQ\n",
       "dFB0UHRQdFB0UHRQdFB0UHRIDQP/t6rRGPC/VVVgcPTBPSPXxVYndQ+F/tKXDfH/TY4IKXeOUisc\n",
       "PvPxBOqk7uFt9q3Njdgh5c5R6qse+tu1BOqk7uE4tpQg5LGlJOqrHucSqZO6h6I8myCk3DlKfdVj\n",
       "dyJ1UvdQ5DsJQsqdper/AaCrRSmBlwRtAAAAAElFTkSuQmCC\n",
       "\" style=\"display:inline;vertical-align:middle;\" /></a><br>(see <a class=\"ProveItLink\" href=\"../../../__pv_it/theorems/c1b8225b7826fbceba48f01e49f20878b30906610/dependencies.ipynb\">dependencies</a>)<br>"
      ],
      "text/plain": [
       "<IPython.core.display.HTML object>"
      ]
     },
     "metadata": {},
     "output_type": "display_data"
    }
   ],
   "source": [
    "%proving varray_eq_via_elem_eq"
   ]
  },
  {
   "cell_type": "code",
   "execution_count": null,
   "metadata": {},
   "outputs": [],
   "source": []
  }
 ],
 "metadata": {
  "kernelspec": {
   "display_name": "Python 3",
   "language": "python",
   "name": "python3"
  }
 },
 "nbformat": 4,
 "nbformat_minor": 0
}