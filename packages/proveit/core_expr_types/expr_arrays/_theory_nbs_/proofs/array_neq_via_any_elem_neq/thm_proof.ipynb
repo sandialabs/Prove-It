{
 "cells": [
  {
   "cell_type": "markdown",
   "metadata": {},
   "source": [
    "Proof of <a class=\"ProveItLink\" href=\"../../../../../_theory_nbs_/theory.ipynb\">proveit</a>.<a class=\"ProveItLink\" href=\"../../../../_theory_nbs_/theory.ipynb\">core_expr_types</a>.<a class=\"ProveItLink\" href=\"../../theory.ipynb\">expr_arrays</a>.<a class=\"ProveItLink\" href=\"../../theorems.ipynb#array_neq_via_any_elem_neq\">array_neq_via_any_elem_neq</a> theorem\n",
    "========"
   ]
  },
  {
   "cell_type": "code",
   "execution_count": 1,
   "metadata": {},
   "outputs": [],
   "source": [
    "import proveit\n",
    "theory = proveit.Theory() # the theorem's theory"
   ]
  },
  {
   "cell_type": "code",
   "execution_count": 2,
   "metadata": {},
   "outputs": [
    {
     "data": {
      "text/html": [
       "With these <a href=\"allowed_presumptions.txt\">allowed</a>/<a href=\"disallowed_presumptions.txt\">disallowed</a> theorem/theory presumptions (e.g., to avoid circular dependencies), we begin our proof of<br><strong id=\"array_neq_via_any_elem_neq\">array_neq_via_any_elem_neq:</strong> <a class=\"ProveItLink\" href=\"../../../__pv_it/theorems/64c742cd4542b181d36241500491c7928c5d62310/expr.ipynb\"><img src=\"data:image/png;base64,iVBORw0KGgoAAAANSUhEUgAAA54AAABxCAMAAACKq4wfAAAAYFBMVEX///8AAAAAAAAAAAAAAAAA\n",
       "AAAAAAAAAAAAAAAAAAAAAAAAAAAAAAAAAAAAAAAAAAAAAAAAAAAAAAAAAAAAAAAAAAAAAAAAAAAA\n",
       "AAAAAAAAAAAAAAAAAAAAAAAAAAAAAACACGXEAAAAH3RSTlMAq1RmmUTNIjK7EInv3XYgpUAw7eXJ\n",
       "ucNsr+f16fN87tbzlAAAAAlwSFlzAAAOxAAADsQBlSsOGwAADs5JREFUeNrtXYmSqzgSREKAEKCZ\n",
       "t9fs7KX//8vltkEFkqDcgFUZ8Tpm0nS10q5EJ+UkOQ1perCE8DjkmZu5HEWjUCXeTo1NNYOnMP6e\n",
       "NFXaIqNkfxwEczM3QMUwJd5QjUV1hkoZkj0LSvRHgtfKydwCdYon8ZZqQIEp2TNmKCsp1HEffBTZ\n",
       "0RTDEKTKuvm0GlAg2TNqsNzN3KWpJZbEQ9NX8XE1kECyZ8yQJnMyd0FhOI7EQzj2x4PUQALJnjEj\n",
       "z93MKl/kxxqjHTlUNjgSj+jJjEKWA6gBKLJnxOBWz8JdfU3+uWUWLlxJpjEkHtJTNdhyADUARfaM\n",
       "ufNs3MyqF/HcoyhYpYtQN7ksUNYYEg/pyZnWjKPKAdTYFNkz5pmnDuyglGdnk9VtPpShA0JeunpC\n",
       "fl7iIT3KtBeqwCR3yAHU2BTZM14wyz9s31Ey95upDXsZou8+VOq/cqrLfbeY/LzEI3pa33Rhao0q\n",
       "B1BjUWTPaKFM6WSWEzBTN0ts9GaiT6qm6jJD651BnljFM/szRWbkWYmH9CSit42pUOUAaiyK7Bkt\n",
       "UmAotT96TD3HgnXZW2PITe6/qpI5Dsdmpjor8ZCe4U6T9cHw5ABqLIrsGS3suaFztii9Rnaqn/BN\n",
       "meWfz9LpFlOflXhEz7jrKfpgiHIANWuK7Bnv2LZxMnZ/U3lF7rKZ5QkvgvI5L9x2k+ckHtLTukbO\n",
       "hwMR5QBq1hTZM96xbeVkgGGeV6eluzQWiQjKZ+4+N6fDRrcegvwax1pnliJBlgOoWVNkz1jBrHUL\n",
       "5nH+rfI5IqeYrmTBtAzK50p65Fl+TuIxPa2gSqSBY3W3HEDNmiJ7xorauBkMcMxnPUzQXuonBGHK\n",
       "AdSsKLInTT39p56X2zMPOeD+EUGYcgA1K4rsGSm4tSXITYn/Z4oqN5VGCydCzt1+QBCuHEDNiiJ7\n",
       "RgphrUuI0F3FC5CGOO72ggA1K4rsGSlya8c+x36m8QOQITuftxcEqFlRZM9IUVubbrWRt2+1Cild\n",
       "d3tBgJoVRfaMFPaqoTHqCc2WJyQ+QM2SInvGicK6cRfGPKDdjf+A9QGCADVLiuwZJ7i16cA/s6+C\n",
       "PmXWxyU+Qc2SInvGCW2dWNEmf0C7mf9q7AMEAWqWFNkzTlTWmn71iW1PdAj/bwp5gCBAzZIie8YJ\n",
       "ZiUGe8RX5FT+XSKiIPQy1NtqlhTZM06URjiZe9qzOS7xzCxR/JCaJUX2jBO5lbv5I+yp/c8loAr6\n",
       "zAkHQM2SInvGicZalGi8Fl0uLEM95qs5LvG4Hvwy1FtqlhTZM07UVu7WXva8sAx1qD29BF1Whprs\n",
       "SdjLXe1koF7kyjLUfdKH2FOj6flAGeoNNZzsSWhzN3UyNq4tQx1szxRLzyfKUJM9CdtLHVbuGnc2\n",
       "HyhDraqKMV+buspQ95NAc1ziUT2vMtTIcgA1GdmT0OYudzLWBOxAGWox+RS+MKwMdZ9p3n2yU9CB\n",
       "MtTIcgA1SwrHnr/9/htl/KPwjz/+4mTslYzwMtTdj8L3KRNXGeou0/7447jEo3peZaiR5QBqltSv\n",
       "36n3pN7Tr/c8UoY6Vf75LD3cgtl7HihDjSznh3pPsmcc9jxShtp/VyIvkh+254Ey1KhyyJ4ETHse\n",
       "KEOdyMbPUF77nsj2DC9DjSqH7ElAtWd4Geqi9PRTJS+wZ3AZalQ5ZE8Cqj2DUbSdSIGXHdj2vFYO\n",
       "2ZNwqT2LUkop1LfYE1kO2ZNwqT1r0yH5FnsiyyF7Eq4d3CLj6sHtx9WQPQlkT7Ingez5k/ZcTwm/\n",
       "xZ6vh2p4esqe5wMRyJ4H7SnLL+09xbz3kx/sBH+Z/njj+UCEH7PnP53MHfFr056lfJ4gQM2S+l9r\n",
       "Tzn1ekV5+C7Q2/F8IAL1nsd6T8m+du45nd2t+Dl7ng9EIHses2dZfK0903GmmCcn7Xk6EIHsecie\n",
       "QFWS71m5HR5Lrauz9jwdiED2PGRPYLHje+wp+ml1qU7b82wgAtkzKKHHAgX/+nf3k32pPQs2/Wih\n",
       "9lZdq317LgI9AcunfvjugjNw04FqwaEE2cFefOUb/Mt6T2in4IuOJXT93fRsTbX4RItGdC+kNQPS\n",
       "2bLnItAH5OSlJ+n7ywsq3W14L2sdxH4/UILsYC8+FF1EYM9MJF9tT66t9RypWVm2HzdnSaXmMxku\n",
       "ewKBMMEqX9LzuvdMVru9/jgmWAXJqrc3hZ0JsogCd/Gu+GD0rPp+e4Lb7N90qC9P0uUwSIhxm5e3\n",
       "L4h5VOuypx0IFbX0JT2ve7en2O33WAEG6faSxjNSg1WPBllEWQ1nPePD0cGSN1819/zPf4cZKPta\n",
       "e1Z8/BQz3YvU86k8LnlW6M6elRCiaf9le/acAyWqSnVl3dZgFpxH2VdKozWzBQEk+F4A173bs9lr\n",
       "4egaK0i/xVvOA/sTQd6jgK10xd+IDm5Cf1XvCdfc+iZ7FuPcUumke1m90pbLdnDLM9/ecwqUqKYA\n",
       "jsrDLOhO4ErdqESvmwCSAMDr3uxZ5PDfFWWHv7b/UiBIX1Km7976t+hEkLcoYPe5E383Ohdfbk/u\n",
       "O71+rj0TNoyICsW7+3OWvtuzNaUuPe05BWpHxy3ffxnae3mWmc243h8Hvn7/5aEu+9J8VfBlJJ0B\n",
       "p19e9Jhv/52VO+2eRhNWC4bfKqfObR1k0apVkNdr42+Vydam1Gb8NwXrJk6vZOWX23OjYOV3PlBW\n",
       "9kVK8/5+XPLBnqqa1ntge6rUfofqNvP6gbLkb7XNZrbuCi7uzhSnK1ezR8GWESfSHXC4brP35Gy7\n",
       "3fNowmrB8KBEmo7d3jrIe6vWQV6vjU9bzFEsbMZ/+wzKDZ0Ssqf4s3AyZ6EM/iKh+vNPq/PcWBlE\n",
       "F4SvB1CzpIrUaoNqP15ZLXrP7kY/TmScveccp/sWnFT18yVls8V8+996L6Yr+Wunp0vmmi8izqQr\n",
       "4HQdX2wcles0ttvdjRz/9vdyGDlaLRhHVvnY7a2DTK2CgrxaPA3P8s0THVvxBzVQ9FnndYPbBv8L\n",
       "fYH+ZqvaM74gdD3hvSfP+x7ylSbDPptm+3/GvlHV3ewoS19prqolm3TbNgML/Ziv5H1+9VwbKO3z\n",
       "czTHknQEHK/ji3S1l4asdifvj0OsW5DowQTptJthBRlaBQeZXhuDzFFWLd+JP6uxos+vaP3Vg9vN\n",
       "StJfObhVrP9a32J6fE42+epRa097ZiLlukpfqSy7XueNHXZuelbWxfLH4sq+KcN1Ysy10RxL0hFw\n",
       "um7xYOBiHlqA7V7crNYtmJ+UyNVGkGmDCgoyvTY/bpFPuhbN34s/qbGjl+vg32nPzarQX13MRFXd\n",
       "WCnz/TO7w/x5IPhOVmo8cAa9iXyxhDv8L4c+Ex4ccApn29Oa983t1pua1Hpitw7yapUdZHpNBTwe\n",
       "u4o/vznaXvkeXoGDf489Nze9qdaQlz2lroett+y9KbkxprHYKQfVcrFKLbk54jvpHXAIB9gzEQXY\n",
       "buAY1PyasIQvmblVQJD5NRGyhrG6eFQDLFqMr8DBqRQY2XO9/OjN+nLnftmyZ396Eeh5t8cQ0AFY\n",
       "lCA7gOJvR98ITvYkez4Aq3aHPgmnvMnQIFjXey9rkj3JnoSb4KQ9U4nYFl1cbs+L9JA9CZ+wp9fX\n",
       "Svtu43NxuT0v0kP2JHzAnpnfA/e+2/jN1fa8Sg/Zk4BvT5XjVqvh5bX2vEwP2ZOAbk+ZS+TWaO/q\n",
       "VJ+w53V6yJ6EjdzNnMwGKjPUY3whfIVUrCJ4//Ege2Z310P2JKD3nmmOXYkxy7PkA/bkd9dD9iTg\n",
       "zz0l8oNV0t8f0v/Lb0NG6xfpAdQsKbJnnKhN6mR2+hvcOuMBX5iV+dszQNBVegA1GdmTcNKeflsH\n",
       "n9j3/Iw9r9JD9iTA+WjlbhNiT79Sxp77hJX8iD1DBF2kh+xJgMdfRjuZO4Kb+rjEJ6hZUmTPOFGa\n",
       "ysncEalpjkt8gpolRfaME8wIJ3NHaP9yXA8QBKhZUmTPOCEMczJ3RGXK4xKfoGZJkT3jhJ0YAYl/\n",
       "6W1FfMDJN1KzpMiecSK1hlWpecJ3mpf+6z0PEASoWVJkzziRWWuGmf+a6IXIA54Su78gQM2SInvG\n",
       "icLacSuMeUC7ayOPS3yCmiVF9owUxvrIzBM+RP8T8U8QBKhZUmTPSNFYjzw1Jrt9q4uQAevtBQFq\n",
       "VhTZM1Iw68gbCznVd9mUOT8j8f5qVhTZM1Joa01fP+Bcgg45CYQoSJV18yNqVhTZM1LYd+7sATsr\n",
       "LKScIKqgXPyImhVF9owUylrXVA9Yum0CVoZwBX2ipjWgZkWRPWNFY31mjc+nmMoPtceneLMK28pE\n",
       "FJQZhS4HULOmyJ6xorIWTiqfpRT0ujwTfB5i5mHHaBEFVQ2+HEDNmiJ7xjv5ZE4G+C1PfxSs0kXY\n",
       "85YeBmBhQ0xEQTnTmnFcOe6pJ9kzXtTGzViDL8/OM+u+NbgcBoTKMzc8ijfX5qzEg4KUaa9TfZbj\n",
       "yQFat6bIntFCWCfKhOvEnG/BZlV3o0oxdCCVbyfqLN4sQx8RQxPE+ztNrTHlAGosiuwZ8ei2cjLr\n",
       "uZxnwWbRZ1Xj2qMMLd6sQ5dP8QT1WzSOaIFyADUWRfaMeHRbu5lVtniObeuyHxAGnqlzFm/O6/MS\n",
       "jwnq7zRZ4MzXIQdQY1Fkz3ihLf9ol6P8Cjar/pnFIbUy7TsgdRZvluHFg5AEDbueoh3h4skB1NgU\n",
       "2TNi2JMf5+TOq2Cz6rOZ5QkvlE58dwydxZuZUQgSjwhKujlsN6FGlAOosSmyZ8SorHSonMnntf9X\n",
       "tr0nb0QikkJxzx1D50ahOlI7CEkQS1tRbQPx5ABqAIrsGTGUNZhSzvGjV8FmxXQlC6blaFUvI7nW\n",
       "UPWRJEMTVIl0vvNgyAHUABTZM+7Zp3Iyp28BCukYYC1wJN5DDqAGoMieUcPe+2iQazfzPMF51uOo\n",
       "z3AFYckB1EACyZ5Rg1sfHEf+KNtxLkpAdfTZalxBSHIANaBAsmfcEKWbuQVYiSfxlmpAgWTP2Ie3\n",
       "qZu5AbJaIUq8oRpYIJY9ezDK9sdBWmkha3W/ZjYZpsQbqmnsymw9UEbkaY+Msv15yAo3czlUhivx\n",
       "dmpsarBUmvwfrkQaZIJLE14AAAAASUVORK5CYII=\n",
       "\" style=\"display:inline;vertical-align:middle;\" /></a><br>(see <a class=\"ProveItLink\" href=\"../../../__pv_it/theorems/8929f25905e890b9d35422c1f7641f757a1bb3a30/dependencies.ipynb\">dependencies</a>)<br>"
      ],
      "text/plain": [
       "<IPython.core.display.HTML object>"
      ]
     },
     "metadata": {},
     "output_type": "display_data"
    },
    {
     "name": "stdout",
     "output_type": "stream",
     "text": [
      "array_neq_via_any_elem_neq may now be readily provable (assuming required theorems are usable).  Simply execute \"%qed\".\n"
     ]
    }
   ],
   "source": [
    "%proving array_neq_via_any_elem_neq"
   ]
  },
  {
   "cell_type": "code",
   "execution_count": null,
   "metadata": {},
   "outputs": [],
   "source": []
  }
 ],
 "metadata": {
  "kernelspec": {
   "display_name": "Python 3",
   "language": "python",
   "name": "python3"
  }
 },
 "nbformat": 4,
 "nbformat_minor": 0
}