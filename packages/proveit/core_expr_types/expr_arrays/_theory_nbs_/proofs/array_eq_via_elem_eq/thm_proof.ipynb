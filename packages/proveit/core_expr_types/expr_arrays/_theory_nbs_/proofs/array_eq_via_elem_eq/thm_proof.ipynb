{
 "cells": [
  {
   "cell_type": "markdown",
   "metadata": {},
   "source": [
    "Proof of <a class=\"ProveItLink\" href=\"../../../../../_theory_nbs_/theory.ipynb\">proveit</a>.<a class=\"ProveItLink\" href=\"../../../../_theory_nbs_/theory.ipynb\">core_expr_types</a>.<a class=\"ProveItLink\" href=\"../../theory.ipynb\">expr_arrays</a>.<a class=\"ProveItLink\" href=\"../../theorems.ipynb#array_eq_via_elem_eq\">array_eq_via_elem_eq</a> theorem\n",
    "========"
   ]
  },
  {
   "cell_type": "code",
   "execution_count": 1,
   "metadata": {},
   "outputs": [],
   "source": [
    "import proveit\n",
    "theory = proveit.Theory() # the theorem's theory"
   ]
  },
  {
   "cell_type": "code",
   "execution_count": 2,
   "metadata": {},
   "outputs": [
    {
     "data": {
      "text/html": [
       "With these <a href=\"allowed_presumptions.txt\">allowed</a>/<a href=\"disallowed_presumptions.txt\">disallowed</a> theorem/theory presumptions (e.g., to avoid circular dependencies), we begin our proof of<br><strong id=\"array_eq_via_elem_eq\">array_eq_via_elem_eq:</strong> <a class=\"ProveItLink\" href=\"../../../__pv_it/theorems/9bb3007cc76da45bfca76464e688912228028a2b0/expr.ipynb\"><img src=\"data:image/png;base64,iVBORw0KGgoAAAANSUhEUgAAA4sAAABxCAMAAABLLMazAAAAS1BMVEX///8AAAAAAAAAAAAAAAAA\n",
       "AAAAAAAAAAAAAAAAAAAAAAAAAAAAAAAAAAAAAAAAAAAAAAAAAAAAAAAAAAAAAAAAAAAAAAAAAAAA\n",
       "AADXrLZzAAAAGHRSTlMAq1RmmUTNIjK7EInv3XYgpUAwucNsr3yGSgcVAAAACXBIWXMAAA7EAAAO\n",
       "xAGVKw4bAAAN10lEQVR42u1dC7ezKBIUREVQZmZ3Zpb//0vXR0yCEGkQbvTSdc5+Z7YiHeqmK7y0\n",
       "U1WnwfUCUiGujbbxM19HN4qkEi8nx2bG1UAp3o5rWU9oMNmvDUb8zAUgSUqJF5RjMbN7apLIix0m\n",
       "+vVBB+FlLoGhTifxknKcAmv0YjEQVgaI+KTPiiY2n1IIEv0w5pbjFIheLAek9TNX6WqfSmLUkpNl\n",
       "l+MSiF4sBlw3XuYq6DRNIzEKcW8eJMclEL1YDNrWz+ySg2frjPIkTD+mkRgjqNEivxyHQPRiKaDW\n",
       "mEF9o0ibbx+EMl9GqRQSowTJ8QfkOASiF4sZFkc/sxsfgMcDHZGqC7WOL9/7IYXEKEEtUYrQ3HJs\n",
       "Br1YzGoR8M1sQACHxWaYPvw+dF5He98YR89LjBIk9HSdCMzocDk2g14sBMQyCzm2D29hq8X1GIEt\n",
       "A4Oo4fuYqj92hm7PS4wSRJcwg8otx2LQi2VA6N7LmIsmPYwmPoxTbMmgUc5poNTBXI3t4unj1R3R\n",
       "/KzESEGLR7TMLcdi0ItloHbMiI4ngTVwijr0iw/WRKTwbY/Gc+Noo+VZiXGClq+VZgmWVY7FoBfL\n",
       "gL2e867wOGiCJpZF2pZG8OTlXmfo4azEKEHr6SJbguWVs2fQi4VMUUcvYw8kEhR5Tl3SVrQLSt62\n",
       "83uLn5MYJ6ia3/ZxL11eOXsGvVjIFFV6GcdsDTQcqTlnWcWCkpf6bzNTYZPUZILIZMOeVfnl7Bn0\n",
       "YhEg1sYCAdwuJiF3lAmiJO+I4kHJKzkgqdpzEqMFSVYHTrmj5OwZ9GIRGLSfSQGa8gkHHXRmmUNQ\n",
       "Zjk7Br2Iy8WrJm8bcqd3FkGZ5ewY9GIJoNbRG9V9+rfpZKulShaOhdyTmkFQdjk7Br1YApi1b8BC\n",
       "T+++gDrEXtcXZMvZMejFEtBax+Bt8mf00oOHnDBeX5AtZ8egF0vAYJ1tDZpfvtcipDDa9QXZcnYM\n",
       "erEEeLfwrtptfkLiDeSYDHqxAHTWN3Kn9Q36PcLnnXcQZMsxGfRiAaDWfj/Nc6SRfJmr4iXeQY7J\n",
       "oBcLgLJu+VC6vUG/CXxv9A6CbDkmg14sANLaTZc5jheTg8F/FeIOgmw5JoNeLADESgJyi98+kfDB\n",
       "LqGg9LWKP8oxGfRiAeg18zLX9OIYL/HMwo79kByTQS8WgNZK1PYWXlTww/6kgjLdNmDLMRn0YgEY\n",
       "rU2DEbQr8sVaxY/k1PES4wVlqFX8QY7JoBcLwGAl6gBK3S/WKg71YkpBGWoVoxcRW6IqL+MaH75Z\n",
       "q3jJ8BAvphOUo1axWw5FL5bnxdrL2PhureJgLyYTlKVWMXoRse5FWImq/akbUatYSEkI1JO+4r7L\n",
       "wk3HS4wW9KxVnF9Og14sz4vUy1iLpohaxWwzpfvCsOK+S1qBR9uUgrZaxfnlmEwaL/7x5x+Y8dfF\n",
       "f//+j5exdxrCaxXP/3TQZyt8xX3ntPr773iJ0YKetYrzyzGZv/7EcRHHxQ9zOtjq6lWruBbw5OUA\n",
       "ZyQdF8NrFeeXk2NcRC/+Qi/G1CqGHwi0XfXTXgyvVZxbDnoRvQhL3YhaxRUfYe4BHcil9mJwreLc\n",
       "ctCL6EVg6obXKu56oHkk/4YXQ2sV55aDXkQvAlM3GN00PHTpUiG5F68mB72IXszkxa7nnDPxW7yY\n",
       "Xw56Eb2YyYuDnlH9Fi/ml4NeRC/mmqMmxrfnqNnloBfRi+hF9CICvYhePPLi60kSWp/y4vlACPRi\n",
       "0V5kz1OXNnJ4+0svdwOeD4TI48V/vMwV8VeIF/+5oRyT+d/kRb6NZ10f7fjFe+cDIXBcLHu9uN3X\n",
       "Kuk5L54PhEAvlu3F+rG6a6uTXjwdCIFeLNuL1fqU5SDPevF0IAR6sXAvsuXW1l6c9uLZQAj04ufk\n",
       "NR6lJ7/Uix3Z/pkgjvZA5bEXjUB3gPmsCw3d/lUpm7sQFlLhuHh7Ly4j2fZAiTQ+0W5k8wv1QBy5\n",
       "a3nRCJRBTdsDSWhj8wfTm+AgLF1zF7whdwEZevH2XqTK2nDhivT9lAqUVHJq8Lhf3edFR6CUIBJK\n",
       "Aq97z2RBwoM0MlVzFwAhzYDueOjFO3lx8k9tTnAYezweSacX2HNy6vOiHSgpBg4lgde9e5E1EUFe\n",
       "dU5ONnfOoJvQgM54uF68lRclfXyKjVpEqudNbJTTplOzFyVjbJz+1xx58RmoErJW0lruuFnnoGBf\n",
       "ybVSVsVKJ+n8Uziue/fiCOihFeR1lHqyuQv+kPuAzng4Lt7Ki91jPShUNb8sXjlK+TRHpQ10XNwC\n",
       "VWLsHPeMu1mnFR1XqlFUat8FJ+na2HBd9+bFrnW/L+s31I4gz0onJ5u74A55GNAZD714Ky9WZJ3r\n",
       "dILOX8ZN/e7FyYGqB3pxCzRNcid++Umr96ohT7ah6ngG9mr/MsycfXW7q0PyIL0Bt8bGWPj2301/\n",
       "0O+PPWj6D82d/bH62hztO1k9qnqfKGc89OK9vPj6dJd6l+36zUtXLwq5bci4vShq+282TMm2zHc5\n",
       "fSum9WSHuZzf4UJou3K3OGLEjLiR/oDrdR/HRUoO+v2xB7z/0NzZH6uv/MiL+5AAUc547N/Oy5yG\n",
       "0Mn37MS//0IvTS7oR+SYTFdbfRDTx8ulMS7OX+SP9Yh3XHzGmX/xpBZzyr5y+sV2z+/6T3+L7Ur6\n",
       "OmSZ83egRsQn6Qu4XUeNM5t+n8Z2v405odWD56Rw33zrj6v5q6+Hc9R9yLXrroBPUV+co47Jf171\n",
       "q+PiT8jxjIu0Xca+1/RsPeJS5Phd7G+lYV7kNPUrp4U02Wo+MVlZ1z/PK+mSXws3BaqX/Hw4wSQ9\n",
       "AR/XUSNd7b0bq9/mJ7TrQaXUI7zdfO2Pu/n22tzc1VtnSGo7bS9KKZyj/po5qiDLb6x2/WPZx8d2\n",
       "95ww0IsNq6mS9Stv+TyevLHrocnC8qEz/zGuXLqyXsceufZwgkl6Am7X9fyDF/vO2W9T6a4HS6Ml\n",
       "vN2c8c/Nt9eWRo4uu0P2/FPA/j0eevGXrBc3T8p5FtRA3+Vwtv6cz72TUjxu2XL9Eamxobr+X+qI\n",
       "+E4CA27hbC9aB+VHRaO3kbl/ht83f/bHge21bb+aunu8C2l23fWK6Cv04q/zYuC7HHiRq2E99Wre\n",
       "e9JqrUeL3VwhzN0kYXLPiO8kOOAazuHFinXOfh9pWpus4c3mz/448Hzt0cTRZVdIs+uuV1iHXkQv\n",
       "Aq6qwSyUO9fY8uJys18QHveL1ueau7oXFfLD7avoRfTiDbDrd6iZRNLmkZd4L0YvohcR18BJL9Y8\n",
       "YV9U93UvfksPehFx1ouw3/MFHo5T9nUvgvRAz/oD9KAXESe92AAfDQcejo/f9iJQD/Ssf0QvIn7I\n",
       "i6JNWzGF9t/14vf0oBcRp7zIW564NwpcDimHF7+oB72ImBK18TIfIPUwmgjfr2S7COA3D/Jic3k9\n",
       "6EXEqXGxblMX9WvapsrgRXp5PehFxLn1Ik/87BCHm4HDf4k0ZNL9LT22HJNBLxaAQdde5mAkSVt5\n",
       "OuBnjxq4FwMEfU2PLadBL6IXQ7wI3LXPcL6Yx4swPRnOF9GLiGq0EnUM8SKw3i3sQE7yLF4MEQTT\n",
       "AzxfDNCDXkRUrVZe5oqgeoiXeAc5JoNeLAC9ll7miqj1GC/xDnJMBr1YAIhmXuaKUPD6T3cQZMsx\n",
       "GfRiAWCaeJkrQuo+XuId5JgMerEA+JLgut8hLINtLyTHZNCLBaC2Jke1vsNPR/fwDZk7CLLlmAx6\n",
       "sQA01gZeA9+h/CLagAehbiDIlmMy6MUC0FkHW53WN+j3oHm8xDvIMRn0YgnQ1uej7/CJwW8Nv4Ug\n",
       "W47JoBdLwGg91TPq5vK97kLmndcXZMvZMejFEkCsO8RIyE1wX1vmtmckXl/OjkEvlgBl7aarW5yN\n",
       "yzMSoyH6YfwROTsGvVgCvF/JFx3N6RmJJ9CyH5GzY9CLJUBYu4ziBvuOY8DWTVpBWQof23J2DHqx\n",
       "CIzWBzRCPrKaZ+oPpMKvCDsyTCio0eIn5OwZ9GIRkNbOhoTsdSSvDbMB8gQuDbvFNKEgOf6InD2D\n",
       "XixkwUi8jKMV1AwdkaoLeoAQkO0kbKaYUFBLlCI0u5w9g14sA4P2M9asCjosNvMvuPbrxE7AMgFQ\n",
       "4XfQZyVGChJ6um75ZXaomjg5ewa9WAaYdf8V891gBq7qK4Z5dsjWsUECh0dvhV8e+hRUMkF0+VYZ\n",
       "VICaGDkWg14sZZIqvcx+/QWt6suWHBo9h4GhFX5V6GZmMkFsOR3xRDsvx2LQi6VMUgc/s0sN6BR1\n",
       "6JeJXdg9aN4Kv+1wXmKcoOVbpQlcrYbLsRj0YiFQlleUzz3Aqr5ieQhvTaRGASeW3gq/PLyATSpB\n",
       "iwvZNFEFq4mRYzPoxVJgL7+8CzJYVV+x5C5pK9oJVQGP5rwVfokWCSRGCZrXnfMaGK4mRo7NoBdL\n",
       "gbQ+e+nNNNg5Wz+Ni3RkFas6QWFNvAdyIqZ+TSJBpJ40TR0Eq4mR4xCIXiwFwpoTCe80EFbVVxAl\n",
       "eUcUf/gS4hrfjqaKyahEggSRrH5+y2SS4xCIXixoxSi8zHnDizS3zQ0sjcRrqHHIcQhEL5YD+9Rh\n",
       "TF3gl7YVy/O9ESvxCmqAX4PoxXJArU+Jpv7cpulqiogi9sHgtIISqXHIcQpELxYE1vuZS4D06SRe\n",
       "Uo5TIHqxqFlq7WcugGYQCSVeUI5bYCovLiCY7dcGt3KAD+KCXxlNSokXlDPapcAWJJkQ1wsazPaL\n",
       "o+n8zNchmrQSLyfHZlb/1NX/AQ3n8oTuTtSGAAAAAElFTkSuQmCC\n",
       "\" style=\"display:inline;vertical-align:middle;\" /></a><br>(see <a class=\"ProveItLink\" href=\"../../../__pv_it/theorems/e3a049e875066d0c69ac3f22f97406f34d0e3c710/dependencies.ipynb\">dependencies</a>)<br>"
      ],
      "text/plain": [
       "<IPython.core.display.HTML object>"
      ]
     },
     "metadata": {},
     "output_type": "display_data"
    }
   ],
   "source": [
    "%proving array_eq_via_elem_eq"
   ]
  },
  {
   "cell_type": "code",
   "execution_count": null,
   "metadata": {},
   "outputs": [],
   "source": []
  }
 ],
 "metadata": {
  "kernelspec": {
   "display_name": "Python 3",
   "language": "python",
   "name": "python3"
  }
 },
 "nbformat": 4,
 "nbformat_minor": 0
}