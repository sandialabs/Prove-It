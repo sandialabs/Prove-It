{
 "cells": [
  {
   "cell_type": "markdown",
   "metadata": {},
   "source": [
    "Proof of <a class=\"ProveItLink\" href=\"../../../../../_theory_nbs_/theory.ipynb\">proveit</a>.<a class=\"ProveItLink\" href=\"../../../../_theory_nbs_/theory.ipynb\">core_expr_types</a>.<a class=\"ProveItLink\" href=\"../../theory.ipynb\">expr_arrays</a>.<a class=\"ProveItLink\" href=\"../../theorems.ipynb#varray_neq_via_any_elem_neq\">varray_neq_via_any_elem_neq</a> theorem\n",
    "========"
   ]
  },
  {
   "cell_type": "code",
   "execution_count": 1,
   "metadata": {},
   "outputs": [],
   "source": [
    "import proveit\n",
    "theory = proveit.Theory() # the theorem's theory"
   ]
  },
  {
   "cell_type": "code",
   "execution_count": 2,
   "metadata": {},
   "outputs": [
    {
     "data": {
      "text/html": [
       "With these <a href=\"allowed_presumptions.txt\">allowed</a>/<a href=\"disallowed_presumptions.txt\">disallowed</a> theorem/theory presumptions (e.g., to avoid circular dependencies), we begin our proof of<br><strong id=\"varray_neq_via_any_elem_neq\">varray_neq_via_any_elem_neq:</strong> <a class=\"ProveItLink\" href=\"../../../__pv_it/theorems/2d8a252e24a5a7c37b6692155a0472d3a302c5ff0/expr.ipynb\"><img src=\"data:image/png;base64,iVBORw0KGgoAAAANSUhEUgAABC0AAABHCAMAAAAUck0WAAAARVBMVEX///8AAAAAAAAAAAAAAAAA\n",
       "AAAAAAAAAAAAAAAAAAAAAAAAAAAAAAAAAAAAAAAAAAAAAAAAAAAAAAAAAAAAAAAAAAAAAAAeYafp\n",
       "AAAAFnRSTlMAq1RmmUTNIjK7EInv3Xbt5cnn9enzas/lfgAAAAlwSFlzAAAOxAAADsQBlSsOGwAA\n",
       "Cf1JREFUeNrtXYmStCgTFEVFVHb/Y/v9H3VFRU5PWpn5zIyYCYa2kuoaSUoQzbJIkL7v6wz4JShK\n",
       "v/Q+0CsBe2eAVEkM/TyP5q3QA38RcuqXXoi6OR+wlwbICFVRQC3eBF75pXemWGJtUOUrAXttgIxS\n",
       "kREto5ekQ4YzlgN4CE3hl1aVRUTpkojz9O7Wex6sZs1awG5wNDJGUea7xjpAS2lQC7pcl1X1VbWI\n",
       "5QAeyi87v7QKETWsishB+e7WBQnLKVsJ2B2ORsYoynzXWAdoKQ1qwcjpazlPLWI5gGdAW7+0Ovh0\n",
       "n4hJrTjrB1rnn1BywchawG5wNDJGUeb7xjpAS0nOW1Rzuc0vq0UsB/AMPqVfWjtZmoJUl5cD4qwf\n",
       "ab0KXWM09VrAvu9oZIyizI8Y6wCpklQLNdN5Ma+pFE8EB/AI2DJcsA/fuaqtGKOcEHbtmjjG+qHW\n",
       "aSANLslawL7uaGSMosyPGesAqdLYy7teomsj1CKSA3gEovdLYcjJakaHn0v/0Djrh1oXgSkJd9bt\n",
       "xjBFxijK/JixDpAqjWpBR4lpeIxaxHEAj4BUfmkjE4m604BF3qdwe+ulkTfQcazr//s/+ZuEAnaL\n",
       "o5ExijLfN9YBUqVRLWqifsksZWtRo11VC4vjN8AOVr65lBPQwND601dItoaE+gx7gLxp/NJr1YJ9\n",
       "2F5qcXeYfrZa6ACp0jTfIFOCdp7zaK2zrO6p/KDoSKCLWVMVJscNV9xVc6juqO3gr/nH9t2949dy\n",
       "WfxQfIVkA1v8IXafvCJ+6bVqUXszmCVdD9gL1UIHSJUmtciFNz/JBGma4ZicZC1f7nDbUIsAx1eT\n",
       "6PZY3VFbSy345kkxZ0wOS9ka8SAxJBZLOAHa4w+yl97X7qlfeq1acE8t/HuFbg7Tz1YLHSBuqcXQ\n",
       "zZ07YSllakJEyHO2zfbUwuf4Kjp2rO6oraUWdDMrIHWQRS4az3euTspxlcRi8aejjvCH2SuO3GJr\n",
       "6GT2vMX//5lmLwhyCydAtXUlkrX5fGaV031bYllqzVle1kKqRUsp7YefckUtFo6Mt4VoPZ0O1wZF\n",
       "zT+SfYQgPNutC19/hY4z1aLf8nDuxB7LeGtJs1yFRZCYLEEvDf4g/Qq7d/ML1MI6LepsW1xfrhY6\n",
       "QKo0q0U9z0twkcnpT667Us6GK5G8PJBbKI6M97X/r1ipDYpF4EjR80w4rYfqQggfZ6hFXYXbpY3E\n",
       "X8NPEWAZNyeOg/8YnQgSgyWYXBj8Lv0mu7d9kjR+6bVqUTr3UoQ2m5I3z3KurInIsEypRs1zOYSV\n",
       "hakWg0aIZl8tFMdwFTP4Mq7Q1sZwudSWudhO2rW97tKyMxSVzTjX7fIpW3ti0/ijbDb8VmmW58Fk\n",
       "1aih3yWx3HJI9GezVZOtrT47/KHYeC6qj0r3XPdX0F+sFkW3m1rcHaafrRY6QIV5v4V1dsq5h6Ia\n",
       "h6wmn9SCt0oSNtVimSYo540oLDc2+i21nZw12ZxmKP09P/KKnBKHcarb55uOW88tcrLu95JmeR5M\n",
       "uxWHAE5JgUtiuuWS6M/mLY8Li/8vs/lDsXHZ9QnR7I4WL1YL55TI2wP5x6vUQgdIlVy14B/OrHu8\n",
       "pFrIsXC+Ej6gFlwmyk3Bx2tt7tfWy+i4NhWrjsz1aq7sW11uMaq6PT51XG6vDTdur/L9lmn+3/9p\n",
       "pjTf82DOXKs5KXBJlFshEu2ySn+r1RvbLH4vNiH25Yv6uXVX+qW3qoWzT6TiayPXW9UivE/EUthq\n",
       "zB/0qTst8ouN2R4/t5CX1mWhex1v7dpMLs1OtaFfy5H5eLqPdQNRMXZHg3Gpm/hCXOZxud15/FlO\n",
       "z+/M3JPoeDDEZOqThVq29Ehmt4Ik6rOZZGFxvoPH78QmyL58JLw1qjN7UP9wtXD2oBbheNwbph+t\n",
       "Fit7UK1DiKjHC/d5DoL10yL0GbUoaZGLttA9i8kx2aidVmfHWtbV9i/ryNGL6Tg6n/oG41I3r/YG\n",
       "CK3j7EcXmGox7Tz0/LZk0/FAb1es+AqJWoQOkajPlj2PM4sTD4/fiU2YvXHJ9SnS+aVV1FGbfurI\n",
       "LUN3t17Yp/Taw3FuDVNkjKLMd411gArj+RZhYWlldnvo1sytW7KWrN2sbPl8V3Jod7tZx/vpz3yb\n",
       "ceELEeYeW0AtvDmDpRWx+p24NyngkOiv6ZOoz/iJx4HY/Mu38dnVRyFykvuld8J58vTarTvvDZMO\n",
       "0FK69bmcTHTTkn9pCnf1+Xx6r1Z1CW5PuXK7LsS48IUIzaqJLaQWGa2Dfge+2/IZ9QZuu0a75ZMs\n",
       "n9EzTxqzD1bfJhD++aMQOZ7LqU78g3cS4rmc9nM571ML3fLh2pi6UOX612vcwT6U6KwnV6FNG18h\n",
       "2UCIf509TK6n/vM3P13gxDO/25cH6MvP/P6d7xNxXD671Z4frjxL8q3j+Z6IvPp9IsdD+dL3iXC3\n",
       "JPq+wyO6AQAAAAAAAAAAAOCXgDdd/7xpWscBALiGiqYwTes4AABXEPH2n0/+Sx0HAOACjuxQ/b5p\n",
       "WscBALiCtk9hmtZxAHBQk1bUIo11YudPXf0TIS7uI4kwTes4ADiJqtz+2lzNVuOsv+o8v/UeY/6p\n",
       "+PTEkSdNv+s4r3G6A1En03iDLx2zVV5U16152xLC0znvvBvn28hHSerEhSgtpilCZDh+c4SAPx90\n",
       "fAhgL3dTMSH669ZU99sTw95a4XTzt8dpdOzTXojSYpoiRLp1AIhFNz3Tb9pMlffXreWv+nPuJeDL\n",
       "+378wnnn78UoSeW4GHk2SotpihCZjgNA5FXt+CDn+QnEZ/uBaS2fN3i2K3zR+VLc+1resbvRMas/\n",
       "G6XFNEGIjNbvjhDwArWQJxOpppc0n1cL0/rxxTqj+fndODd2OqamSc6rhTZNsJ6pWr89QsCfD/mS\n",
       "iHxIbumlKxHLOmM9T+X8/G6c+0CG3t7QSxmYYfp8iJbWb48Q8ILkgoiW1USwS2phWdcNT+h8I25u\n",
       "qqXFxes1bfp8iIzWGyyJAF9E1OhTywEs2Yr+9G6cHx6lpCF6MEIA1GKnJzSMMZrsynh+N86PjlLa\n",
       "ED0YIeDPR91Wn+s38HQfiZRXVPVPj1LaED0WIQAAAAAAAAAAAAAAAAAAAAAAAAAAAAAAAAAALNRt\n",
       "OuvUrT/TVKSXUeY1HoYDfBGMprNO3fozTUV6GWXOcM83ALWAWkAtAKgF1AJqAUAtoBZQCwBqAbWA\n",
       "WgBQC6gF1AIAoBZQCwCAWkAtoBYA1AJqAbUAoBZQC6gFALWAWkAtgF+PvJjOJ9Y+b5269WeaivQy\n",
       "yvzBCAEvAG+rcjifCGHPW6du/ZmmIr2MMn8wQsA79KISlJRprFO3/kxTkV5GmT8YIeAVctGNbyBO\n",
       "Yp269WeaivQyyvzBCAFvgOjTWadu/ZmmIr2MMhd4YTLwRdQinXXq1p9pKtLLKPNrxv8CQEZriobW\n",
       "D6YAAAAASUVORK5CYII=\n",
       "\" style=\"display:inline;vertical-align:middle;\" /></a><br>(see <a class=\"ProveItLink\" href=\"../../../__pv_it/theorems/bc067da921020cc31b9d27d98cc186d740a48c790/dependencies.ipynb\">dependencies</a>)<br>"
      ],
      "text/plain": [
       "<IPython.core.display.HTML object>"
      ]
     },
     "metadata": {},
     "output_type": "display_data"
    },
    {
     "name": "stdout",
     "output_type": "stream",
     "text": [
      "varray_neq_via_any_elem_neq may now be readily provable (assuming required theorems are usable).  Simply execute \"%qed\".\n"
     ]
    }
   ],
   "source": [
    "%proving varray_neq_via_any_elem_neq"
   ]
  },
  {
   "cell_type": "code",
   "execution_count": null,
   "metadata": {},
   "outputs": [],
   "source": []
  }
 ],
 "metadata": {
  "kernelspec": {
   "display_name": "Python 3",
   "language": "python",
   "name": "python3"
  }
 },
 "nbformat": 4,
 "nbformat_minor": 0
}