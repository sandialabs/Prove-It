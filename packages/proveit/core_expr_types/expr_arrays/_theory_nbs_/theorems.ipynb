{
 "cells": [
  {
   "cell_type": "markdown",
   "metadata": {},
   "source": [
    "Theorems (or conjectures) for the theory of <a class=\"ProveItLink\" href=\"theory.ipynb\">proveit.core_expr_types.expr_arrays</a>\n",
    "========"
   ]
  },
  {
   "cell_type": "code",
   "execution_count": null,
   "metadata": {},
   "outputs": [],
   "source": [
    "import proveit\n",
    "# Prepare this notebook for defining the theorems of a theory:\n",
    "%theorems_notebook # Keep this at the top following 'import proveit'.\n",
    "\n",
    "from proveit import ExprTuple, ExprArray, VertExprArray, ExprRange, IndexedVar\n",
    "from proveit import a, b, c, d, f, i, j, k, m, n, fab\n",
    "from proveit.logic import Forall, Equals, And, Or, NotEquals, InSet\n",
    "from proveit.core_expr_types import \\\n",
    "    (a_1_to_i, b_1_to_i, b_1_to_j, c_1_to_i)\n",
    "from proveit.numbers import zero, one\n",
    "from proveit.numbers import Natural, NaturalPos, Add, subtract"
   ]
  },
  {
   "cell_type": "code",
   "execution_count": null,
   "metadata": {},
   "outputs": [],
   "source": [
    "%begin theorems"
   ]
  },
  {
   "cell_type": "code",
   "execution_count": null,
   "metadata": {},
   "outputs": [],
   "source": [
    "array_eq_via_elem_eq = Forall(i, Forall((a_1_to_i, b_1_to_i),\n",
    "                                        Equals(ExprArray(a_1_to_i), ExprArray(b_1_to_i)),\n",
    "                                        conditions=[ExprRange(k, Equals(IndexedVar(a, k),\n",
    "                                                                        IndexedVar(b, k)),\n",
    "                                                              one, i)]),\n",
    "                              domain=NaturalPos)"
   ]
  },
  {
   "cell_type": "code",
   "execution_count": null,
   "metadata": {},
   "outputs": [],
   "source": [
    "varray_eq_via_elem_eq = Forall(\n",
    "    i, Forall((a_1_to_i, b_1_to_i),\n",
    "              Equals(VertExprArray(a_1_to_i), VertExprArray(b_1_to_i)),\n",
    "              conditions=[ExprRange(k, Equals(IndexedVar(a, k),\n",
    "                                              IndexedVar(b, k)),\n",
    "                                    one, i)]),\n",
    "    domain=NaturalPos)"
   ]
  },
  {
   "cell_type": "code",
   "execution_count": null,
   "metadata": {},
   "outputs": [],
   "source": [
    "array_neq_via_any_elem_neq = Forall(\n",
    "    i, Forall((a_1_to_i, b_1_to_i),\n",
    "              NotEquals(ExprArray(a_1_to_i), ExprArray(b_1_to_i)),\n",
    "              condition=Or(ExprRange(k, NotEquals(IndexedVar(a, k),\n",
    "                                                  IndexedVar(b, k)),\n",
    "                                     one, i))),\n",
    "    domain=NaturalPos)"
   ]
  },
  {
   "cell_type": "code",
   "execution_count": null,
   "metadata": {},
   "outputs": [],
   "source": [
    "varray_neq_via_any_elem_neq = Forall(\n",
    "    i, Forall((a_1_to_i, b_1_to_i),\n",
    "              NotEquals(VertExprArray(a_1_to_i), VertExprArray(b_1_to_i)),\n",
    "              condition=Or(ExprRange(k, NotEquals(IndexedVar(a, k),\n",
    "                                                  IndexedVar(b, k)),\n",
    "                                     one, i))),\n",
    "    domain=NaturalPos)"
   ]
  },
  {
   "cell_type": "code",
   "execution_count": null,
   "metadata": {},
   "outputs": [],
   "source": [
    "%end theorems"
   ]
  }
 ],
 "metadata": {
  "kernelspec": {
   "display_name": "Python 3",
   "language": "python",
   "name": "python3"
  }
 },
 "nbformat": 4,
 "nbformat_minor": 0
}
