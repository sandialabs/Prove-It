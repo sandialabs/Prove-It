{
 "cells": [
  {
   "cell_type": "markdown",
   "metadata": {},
   "source": [
    "Demonstrations for the theory of <a class=\"ProveItLink\" href=\"theory.ipynb\">proveit.core_expr_types.expr_arrays</a>\n",
    "========"
   ]
  },
  {
   "cell_type": "code",
   "execution_count": 1,
   "metadata": {},
   "outputs": [],
   "source": [
    "import proveit\n",
    "from proveit import defaults\n",
    "from proveit import ExprRange, ExprTuple, IndexedVar, var_range, ExprArray, VertExprArray\n",
    "from proveit import i, j, k, m, n, p, q, A, B, C, D, E, F, G, H, I, X\n",
    "from proveit.logic import InSet\n",
    "from proveit.numbers import one, Natural, NaturalPos, subtract\n",
    "%begin demonstrations"
   ]
  },
  {
   "cell_type": "code",
   "execution_count": 2,
   "metadata": {},
   "outputs": [],
   "source": [
    "# defaults.assumptions = [InSet(i, Natural), InSet(j, Natural), InSet(k, Natural),\n",
    "#                         InSet(subtract(j, i), Natural), \n",
    "#                         InSet(n, Natural), InSet(m, NaturalPos)]"
   ]
  },
  {
   "cell_type": "code",
   "execution_count": 3,
   "metadata": {},
   "outputs": [
    {
     "data": {
      "text/html": [
       "<strong id=\"A_i_to_j\">A_i_to_j:</strong> <a class=\"ProveItLink\" href=\"../__pv_it/demonstrations/f544c1c0c0391d80fd85848ffbbdf729a89f95230/expr.ipynb\"><img src=\"data:image/png;base64,iVBORw0KGgoAAAANSUhEUgAAAJAAAAAVBAMAAABbFXrgAAAAMFBMVEX///8AAAAAAAAAAAAAAAAA\n",
       "AAAAAAAAAAAAAAAAAAAAAAAAAAAAAAAAAAAAAAAAAAAv3aB7AAAAD3RSTlMAIs1UmauJMnZmRLsQ\n",
       "3e++988cAAAACXBIWXMAAA7EAAAOxAGVKw4bAAABm0lEQVQ4y61UMUtCURT+7D1M7InSIA1RTkEQ\n",
       "6F7iG3RvbNO2thybykGniKS/0BBtDQ2Fg28MCmoIWircW9KoiAo775rec+/La0Ef3PvOx3f83jvn\n",
       "3CvgYxIqdG5CKMVIWhPTfzAae5Sx1VU1nRuRY0Z2MaFoOjei0Jbx6npZ0XRuQjj5KttV2c0o7dO4\n",
       "EVORJ1kJcnWlMo0b4Vpvg3gfWyXASQzjJkQz4y/+U/TCxewyFVsZvETlzp7ByEbo2X/e0Ioc54tH\n",
       "TOPcpbWxYzDazhfe+/EZEL9iGufCMDvcx6HP/pSVINZCtPYTH2Vk07onvyqNOVoXx/ws7sET7ZNc\n",
       "GjlBD5F82LtPtkUXbobiiTams3A6viY5M7qkRCGLbcBCLdqaCVyEXZx3F2A1OyWcAHf0FsbtRuOh\n",
       "cSqMYrf0i2t8bzF/BpTsNDseFrtzVII8eM5HGZYHhbMeLQVK48mIy0NnpVyEeV7K5Ual4CXjZJN9\n",
       "wUrCH7zCe0bJ9JoYswaejJqqBbP7BzMSnJqSPD/ySv7uT/KghX+BXfXwBVS0bmN9CMDMAAAAAElF\n",
       "TkSuQmCC\n",
       "\" style=\"display:inline;vertical-align:middle;\" /></a><br>"
      ],
      "text/plain": [
       "<IPython.core.display.HTML object>"
      ]
     },
     "metadata": {},
     "output_type": "display_data"
    }
   ],
   "source": [
    "A_i_to_j = var_range(A, i, j)"
   ]
  },
  {
   "cell_type": "code",
   "execution_count": 4,
   "metadata": {},
   "outputs": [
    {
     "data": {
      "text/html": [
       "<strong id=\"B_i_to_j\">B_i_to_j:</strong> <a class=\"ProveItLink\" href=\"../__pv_it/demonstrations/1ec989c54ac1d8f0a06a09d30ec3866416deb5480/expr.ipynb\"><img src=\"data:image/png;base64,iVBORw0KGgoAAAANSUhEUgAAAJAAAAAUBAMAAACQSalFAAAAMFBMVEX///8AAAAAAAAAAAAAAAAA\n",
       "AAAAAAAAAAAAAAAAAAAAAAAAAAAAAAAAAAAAAAAAAAAv3aB7AAAAD3RSTlMAZrurzTLvInZEmRDd\n",
       "VIkafcLnAAAACXBIWXMAAA7EAAAOxAGVKw4bAAABsUlEQVQ4y61TPU8CQRB9eKDC8hVjD5JoaIxG\n",
       "KCxMOCxoLKQydiAxsb3eREloCDHRRlvvJ1xiQ2JhZaMWVDZSWNr5AUbUQmfhPvbuvNPCSXazb2fy\n",
       "Zt7sDoCpr1xutQzTnNjPAgu9XH7WQDVAehW8Tuxn42mgoGedGADhD8vnxL62XwdOVb08yh4YCOU6\n",
       "sK+lqJpUfXSWnoDgjuVzYl8r0Coppky2UrbJtmFfo36eXernSraZTwJM8cB+FnppNor8wBMfKoht\n",
       "AXFdqQuzaW+iyTfglrKCVzVH61GQImL+HpsH3kRjVcpofJUerMY7cZpvXW+ixKL1wqFn3vyjcAM/\n",
       "4N+IKiRLegdrdUYyQ320Exo0Q7aOLSLm5tD0fqIiIxKT6cuQzJM17HbB+txnYYHoggKH7uFmIpRo\n",
       "CLY1nMdVSHzs5ukuC9xQFgFHMplaZmZIFL2mmyvoW5S/AQ9e4vPd4dmTZqXss4yYBhsWenTnkiYG\n",
       "I2F9upisIi7GyapIdO8iEoOxIVSwrKANOx4R7a0/gNVdRGIwGnafOzpt/GD3q9mCi7/NkvqnyQ0e\n",
       "V/EvFmlp+AYH+nj5OavN8AAAAABJRU5ErkJggg==\n",
       "\" style=\"display:inline;vertical-align:middle;\" /></a><br>"
      ],
      "text/plain": [
       "<IPython.core.display.HTML object>"
      ]
     },
     "metadata": {},
     "output_type": "display_data"
    }
   ],
   "source": [
    "B_i_to_j = var_range(B, i, j)"
   ]
  },
  {
   "cell_type": "code",
   "execution_count": 5,
   "metadata": {},
   "outputs": [
    {
     "data": {
      "text/html": [
       "<strong id=\"C_i_to_j\">C_i_to_j:</strong> <a class=\"ProveItLink\" href=\"../__pv_it/demonstrations/d3ad75402e2645f2246a9b915122dbf6067d72fd0/expr.ipynb\"><img src=\"data:image/png;base64,iVBORw0KGgoAAAANSUhEUgAAAI0AAAAUBAMAAABCGaMdAAAAMFBMVEX///8AAAAAAAAAAAAAAAAA\n",
       "AAAAAAAAAAAAAAAAAAAAAAAAAAAAAAAAAAAAAAAAAAAv3aB7AAAAD3RSTlMAEHa7q2Yiie9Umd0y\n",
       "zUTye3nKAAAACXBIWXMAAA7EAAAOxAGVKw4bAAABt0lEQVQ4y61Uu0oDQRQ9m8Cum5dDfIASyPpA\n",
       "rE0KwSZIbKz2E2JlaWIpSNQf0LQ+MJpKBI2FjQpJKVZpBCsRGy2NoCIiODM7uztriEzhFHfv7Lnn\n",
       "7Nyz3AGgjeXn9CK8lczm7UWoLZk7OQLz2Pag0AbB9rmijsTtu6LhtOB9YaYJRN7VZGTuHaHh2YPi\n",
       "6zQk1tR0JK7xyeKNB5W3aIhVlWRk7lKdxZQL6V+8uaaSjswtW8IXp0vjVdQMKui4XMSAhnDYcN5F\n",
       "XYeX3eKBVlcdl4toE5s8IS7U88IP52wi7FOj9a46MrfBgun5EeU6u84mzLHuOjKX/30DiXFxBN5X\n",
       "EY85BR3BRfKIes58KSHZS3g3OvPZIJrVlnW0Tg3WjeCiukfL3oAngoUdIM0c3beRKEEfqss6DNG+\n",
       "ISU8CK5GVuhmODv/QB9T1JszVlDLnzAJC7XMdCZjcx2OXDD7qiLBJfG5uPUHt03tqvjHTqcC/lQ6\n",
       "+jKJtPHH0WxVmb3e2osEdIqdMyHlMX8ctdkCNMuH+ieEjr76YQUQ95aS8lAuAIV+14a7IoCsHLf/\n",
       "np+I2u1xf41/WYcHwA+dDGP4TkBZcQAAAABJRU5ErkJggg==\n",
       "\" style=\"display:inline;vertical-align:middle;\" /></a><br>"
      ],
      "text/plain": [
       "<IPython.core.display.HTML object>"
      ]
     },
     "metadata": {},
     "output_type": "display_data"
    }
   ],
   "source": [
    "C_i_to_j = var_range(C, i, j)"
   ]
  },
  {
   "cell_type": "code",
   "execution_count": 6,
   "metadata": {},
   "outputs": [
    {
     "data": {
      "text/html": [
       "<strong id=\"D_i_to_j\">D_i_to_j:</strong> <a class=\"ProveItLink\" href=\"../__pv_it/demonstrations/e31545e603bce2ce322796babed15c5daffd0cac0/expr.ipynb\"><img src=\"data:image/png;base64,iVBORw0KGgoAAAANSUhEUgAAAJUAAAAUBAMAAAB2YGIBAAAAMFBMVEX///8AAAAAAAAAAAAAAAAA\n",
       "AAAAAAAAAAAAAAAAAAAAAAAAAAAAAAAAAAAAAAAAAAAv3aB7AAAAD3RSTlMAdrurIs1mVDKZ70SJ\n",
       "EN02Mxp8AAAACXBIWXMAAA7EAAAOxAGVKw4bAAABpUlEQVQ4y61UPU8CQRB9IJ/Rg9PYS45YaAMB\n",
       "e/wHUtlYyD/AhpKE2kY0JiYmJsRfoH9Az8LCDqJRY4OthUZB0SgGZw+W29uVxcKXMGHesI+Zd7MH\n",
       "YKaXzCSX4UIhdPClWllraZi+AaF3sa4QOsTzQHFjkEReKOwLVYXQYssEojXe5QeF04LQtkxoMVcB\n",
       "JjuDxP9MYcV2qwqhRYo+gS4fOME6TQsOyIQWLeZKWxgYRRtXGEXo4Jgbor4ifGDkjnAmOuAhrvOa\n",
       "nWDmTnwBscpgYHxKDnAiyv56+n60lmNuvCYMHOpIDnDCz0JYo+WYWywIA98lcJzGL8RYLWaucQg0\n",
       "9vjA8zDMbyIhEa6WocrUubl+8rNaoiRIA59UEbihA828RLharGTQ5er/ZphhnTb1gZL6BT2CVDtr\n",
       "7bJT1Gzs0UvsWIuWVXC0WAl0CLEqD0/UWKaXzSw474FVoePmLYWyTLh+lZUZw3UxexW+l9jjt2XC\n",
       "1VLv1JRnZ2tCcjlLU5sS4WgFzrumt9RHw7Oz8p3zqas4ugSPenD8eyX6xxu+tol/w/YB8AO+5n2A\n",
       "myFzUwAAAABJRU5ErkJggg==\n",
       "\" style=\"display:inline;vertical-align:middle;\" /></a><br>"
      ],
      "text/plain": [
       "<IPython.core.display.HTML object>"
      ]
     },
     "metadata": {},
     "output_type": "display_data"
    }
   ],
   "source": [
    "D_i_to_j = var_range(D, i, j)"
   ]
  },
  {
   "cell_type": "code",
   "execution_count": 7,
   "metadata": {},
   "outputs": [
    {
     "data": {
      "text/html": [
       "<strong id=\"Aij\">Aij:</strong> <a class=\"ProveItLink\" href=\"../__pv_it/demonstrations/5c23fba9289b116293ae940ed2d9d410ec6d6f6f0/expr.ipynb\"><img src=\"data:image/png;base64,iVBORw0KGgoAAAANSUhEUgAAACIAAAAVBAMAAADRFiHkAAAAMFBMVEX///8AAAAAAAAAAAAAAAAA\n",
       "AAAAAAAAAAAAAAAAAAAAAAAAAAAAAAAAAAAAAAAAAAAv3aB7AAAAD3RSTlMAIs1UmauJMnZmRLsQ\n",
       "3e++988cAAAACXBIWXMAAA7EAAAOxAGVKw4bAAAAuUlEQVQY02NgAAEhBnSgjy7A/B9dhCVeAE0k\n",
       "Mb8AVYCxod8ATROD/QRUkcUM9QkMDDwQs8D6HRjkAxgY2BrAIteBmGOLS/wGFE0nGBj4L6CIODAw\n",
       "8D5g4GoFsXlagLZyAe1h+sBwgv8AyFpmBQYGOSCD+yODjC1IzRk2B4bT/3UYmPd/SmDYATaCCeEy\n",
       "nj9gl/AjfMis4MADdGcdwkaeCAH2xwwMrWjhxMCgiSqyhmn5A1SRCSwtBxgAsj8jeXo92SwAAAAA\n",
       "SUVORK5CYII=\n",
       "\" style=\"display:inline;vertical-align:middle;\" /></a><br>"
      ],
      "text/plain": [
       "<IPython.core.display.HTML object>"
      ]
     },
     "metadata": {},
     "output_type": "display_data"
    }
   ],
   "source": [
    "Aij = IndexedVar(A,(i,j))"
   ]
  },
  {
   "cell_type": "code",
   "execution_count": 8,
   "metadata": {},
   "outputs": [
    {
     "data": {
      "text/html": [
       "<strong id=\"Bij\">Bij:</strong> <a class=\"ProveItLink\" href=\"../__pv_it/demonstrations/b2540ac3e53a84b9b46e1e396c0df40b119644cf0/expr.ipynb\"><img src=\"data:image/png;base64,iVBORw0KGgoAAAANSUhEUgAAACIAAAAUBAMAAAAaSvJBAAAAMFBMVEX///8AAAAAAAAAAAAAAAAA\n",
       "AAAAAAAAAAAAAAAAAAAAAAAAAAAAAAAAAAAAAAAAAAAv3aB7AAAAD3RSTlMAZrurzTLvInZEmRDd\n",
       "VIkafcLnAAAACXBIWXMAAA7EAAAOxAGVKw4bAAAAzElEQVQY02NgYBD6b2zsFMCADJIYGJi/Iguw\n",
       "/2Bg4PyFLMIIlGf8gSzC/IGBgSUdWYRNgYHbBsXkeI0OEwEGBu4CMA8k1V/AwJvIwMDXABY5CsRq\n",
       "QPweRddnIJZvQBJg/Qgk7CdwNoM43F0XGBg4vgNFvzDs4N8AFOHidQA6JYGBYZo3Q/UdkJrdfAsY\n",
       "mPU/G5voAjkaYDNYBODGcf8GW8dfABfhdVjA/YCBIQxhJbdFAWsuA0MzSjgx8DIwOKKKzGaZmoAq\n",
       "IsDVtYEBABFxJ5xswAvAAAAAAElFTkSuQmCC\n",
       "\" style=\"display:inline;vertical-align:middle;\" /></a><br>"
      ],
      "text/plain": [
       "<IPython.core.display.HTML object>"
      ]
     },
     "metadata": {},
     "output_type": "display_data"
    }
   ],
   "source": [
    "Bij = IndexedVar(B,(i,j))"
   ]
  },
  {
   "cell_type": "code",
   "execution_count": 9,
   "metadata": {},
   "outputs": [
    {
     "data": {
      "text/html": [
       "<strong id=\"Cij\">Cij:</strong> <a class=\"ProveItLink\" href=\"../__pv_it/demonstrations/40822cc19599f75195f37e8f4a897f7089b646470/expr.ipynb\"><img src=\"data:image/png;base64,iVBORw0KGgoAAAANSUhEUgAAACAAAAAUBAMAAAAevyJ8AAAAMFBMVEX///8AAAAAAAAAAAAAAAAA\n",
       "AAAAAAAAAAAAAAAAAAAAAAAAAAAAAAAAAAAAAAAAAAAv3aB7AAAAD3RSTlMAEHa7q2Yiie9Umd0y\n",
       "zUTye3nKAAAACXBIWXMAAA7EAAAOxAGVKw4bAAAAt0lEQVQY02NgYGBUdnFlK2BAAA1FBs7VAQi+\n",
       "8B4gsT4BIXBDAEi8QPDZf4LIUwiB/A0gUgYhUK8AoRkhphxg2A81jh0isYehH0wLILTsBxGcBxAC\n",
       "YBewM/CpgA3SmsCQD9JbyCDED9LFxXmBgfMrA8NzAYbE2SAVguwLGBikTLweANlGYAN44X5i/Ag2\n",
       "lx/uJ84LCxiBQXACbhmjUwJPJwODCgMy4GRguIoi8JD3TQOKQACXlgADAIv6Is+IoKHsAAAAAElF\n",
       "TkSuQmCC\n",
       "\" style=\"display:inline;vertical-align:middle;\" /></a><br>"
      ],
      "text/plain": [
       "<IPython.core.display.HTML object>"
      ]
     },
     "metadata": {},
     "output_type": "display_data"
    }
   ],
   "source": [
    "Cij = IndexedVar(C,(i,j))"
   ]
  },
  {
   "cell_type": "code",
   "execution_count": 10,
   "metadata": {},
   "outputs": [
    {
     "data": {
      "text/html": [
       "<strong id=\"Dij\">Dij:</strong> <a class=\"ProveItLink\" href=\"../__pv_it/demonstrations/d07264199fe181b9854a2ae697e256089cfdd1220/expr.ipynb\"><img src=\"data:image/png;base64,iVBORw0KGgoAAAANSUhEUgAAACMAAAAUBAMAAAD1iJl/AAAAMFBMVEX///8AAAAAAAAAAAAAAAAA\n",
       "AAAAAAAAAAAAAAAAAAAAAAAAAAAAAAAAAAAAAAAAAAAv3aB7AAAAD3RSTlMAdrurIs1mVDKZ70SJ\n",
       "EN02Mxp8AAAACXBIWXMAAA7EAAAOxAGVKw4bAAAAwklEQVQY02NgYBD6r2yk7MCAAr4yMLB9RxHh\n",
       "+AgkZqEIMf4AEvsTkIWYPgAJ/wPIQvwKQKLfAFmoXwBI5B9guAIxGUTINwAJ+w0MB8FCfCCePoj1\n",
       "C8XGT0DM9g3DWbcUGDaCLbg4HeYsVQZegb8goQmlQIIV6Kx9ExhYrj8AcngvnGRgYNb/bKw0BeRi\n",
       "AbA5YUhm3r8Bpr4gCZVyMtwBWrYASeiyCENXAQOjAWrAMRQwsCaginBfiO5CU8TGMHEuAwMAEogt\n",
       "D9HekBIAAAAASUVORK5CYII=\n",
       "\" style=\"display:inline;vertical-align:middle;\" /></a><br>"
      ],
      "text/plain": [
       "<IPython.core.display.HTML object>"
      ]
     },
     "metadata": {},
     "output_type": "display_data"
    }
   ],
   "source": [
    "Dij = IndexedVar(D,(i,j))"
   ]
  },
  {
   "cell_type": "code",
   "execution_count": 11,
   "metadata": {},
   "outputs": [
    {
     "data": {
      "text/html": [
       "<strong id=\"Eij\">Eij:</strong> <a class=\"ProveItLink\" href=\"../__pv_it/demonstrations/ee3d7f7dad9a57caecc65f1091c71ab57ea2d8720/expr.ipynb\"><img src=\"data:image/png;base64,iVBORw0KGgoAAAANSUhEUgAAACEAAAAUBAMAAADxfUlCAAAAMFBMVEX///8AAAAAAAAAAAAAAAAA\n",
       "AAAAAAAAAAAAAAAAAAAAAAAAAAAAAAAAAAAAAAAAAAAv3aB7AAAAD3RSTlMAdrvvq93NRIkQmTJm\n",
       "IlTMv30WAAAACXBIWXMAAA7EAAAOxAGVKw4bAAAAwklEQVQY02NgYBAyVnFRNWJABt+AWAhZgP0H\n",
       "kJiFLMLxHUhMRBZh+8DAyMCNLMKvwFCDYi5DfYjTXyA1F8wBq+3fwBsApBrBIqwbgEQ+A0MDwwRk\n",
       "XZ8YGC5wCiA75yOQYJxQ6ADiTFwHcs5vIHGFU+AnSGTBM5BZH4DqzHnngUznnNDFwDAl/4uLk30C\n",
       "AxPEpByEcfNng6m/CJFnXAwzgA40QIhMkWXY/ICB0QHVPw8Y2A6gCLBPSN+MqoSHYeFKBgYA6qMp\n",
       "yKOVtOAAAAAASUVORK5CYII=\n",
       "\" style=\"display:inline;vertical-align:middle;\" /></a><br>"
      ],
      "text/plain": [
       "<IPython.core.display.HTML object>"
      ]
     },
     "metadata": {},
     "output_type": "display_data"
    }
   ],
   "source": [
    "Eij = IndexedVar(E, (i,j))"
   ]
  },
  {
   "cell_type": "code",
   "execution_count": 12,
   "metadata": {},
   "outputs": [
    {
     "data": {
      "text/html": [
       "<strong id=\"Fij\">Fij:</strong> <a class=\"ProveItLink\" href=\"../__pv_it/demonstrations/14590420a9c6b6a07907e087797f4570bae349a10/expr.ipynb\"><img src=\"data:image/png;base64,iVBORw0KGgoAAAANSUhEUgAAAB8AAAAUBAMAAACHR/vJAAAAMFBMVEX///8AAAAAAAAAAAAAAAAA\n",
       "AAAAAAAAAAAAAAAAAAAAAAAAAAAAAAAAAAAAAAAAAAAv3aB7AAAAD3RSTlMAdrvvq2bNMolEVCLd\n",
       "EJnHu19WAAAACXBIWXMAAA7EAAAOxAGVKw4bAAAAt0lEQVQY02NgYBAyVnFRNmVAAt+AOBWJz/4D\n",
       "SEQiCTD+BBKrkQSYPjCwMyxAEuBPYChFNpKhvoE7m4HhNsQ8ENGv4mPAwNAIFuApABL5FxgeMKA6\n",
       "gxfZSAZOkDMYJjqAyIuvgATHdyDBK/AXJPBgGZBg+wAkuG8dAAlf6GNguKL/xRvkOgGwfoSX7l8H\n",
       "U7/hAsv4GG4A3WUAF7gizVC8gIHRAcVBCxjYAlAcdCGzGEUBK8PDtwwMAHUeKUCqsL2yAAAAAElF\n",
       "TkSuQmCC\n",
       "\" style=\"display:inline;vertical-align:middle;\" /></a><br>"
      ],
      "text/plain": [
       "<IPython.core.display.HTML object>"
      ]
     },
     "metadata": {},
     "output_type": "display_data"
    }
   ],
   "source": [
    "Fij = IndexedVar(F, (i,j))"
   ]
  },
  {
   "cell_type": "code",
   "execution_count": 13,
   "metadata": {},
   "outputs": [
    {
     "data": {
      "text/html": [
       "<a class=\"ProveItLink\" href=\"../__pv_it/demonstrations/aee78aa821b8d02125f08cebe09b1c17bde35d130/expr.ipynb\"><img src=\"data:image/png;base64,iVBORw0KGgoAAAANSUhEUgAAADAAAAAVBAMAAADyTXAxAAAAMFBMVEX///8AAAAAAAAAAAAAAAAA\n",
       "AAAAAAAAAAAAAAAAAAAAAAAAAAAAAAAAAAAAAAAAAAAv3aB7AAAAD3RSTlMAIs1UmauJMnZmRLsQ\n",
       "3e++988cAAAACXBIWXMAAA7EAAAOxAGVKw4bAAAAv0lEQVQoz2NgAAEhBhxAH4c4838cEizxAtgl\n",
       "EvMLsIozNvQbYDeJwX4CVonFDPUJDAw8mPY4MMgHMDCwNaCLc2xxid+AzaQTDAz8F7BJODAw8D5g\n",
       "4GpFiPBktgEt5AK6iOkDwwn+A3CJswL1QAk5IIv7I4OMLUKHC0MdA8Pp/zoMzPs/JTDsQEi8YkA2\n",
       "9w88WHg+Muw8gwhhBQeeBCj7IfuvOQgdEQLsjxlEXFxcFjAsmdyGGkbMuCJyDS4JZP0AP5UpALeM\n",
       "uJUAAAAASUVORK5CYII=\n",
       "\" style=\"display:inline;vertical-align:middle;\" /></a>"
      ],
      "text/plain": [
       "A_{i, _a}"
      ]
     },
     "metadata": {},
     "output_type": "display_data"
    }
   ],
   "source": [
    "ExprRange(j, Aij, one, n).with_styles(parameterization='explicit').body"
   ]
  },
  {
   "cell_type": "code",
   "execution_count": 14,
   "metadata": {},
   "outputs": [
    {
     "data": {
      "text/html": [
       "<a class=\"ProveItLink\" href=\"../__pv_it/demonstrations/b7d26508ca175f4e77a4a79ae0682391a34b4e790/expr.ipynb\"><img src=\"data:image/png;base64,iVBORw0KGgoAAAANSUhEUgAABLAAAAAXBAMAAADpWau5AAAAMFBMVEX///8AAAAAAAAAAAAAAAAA\n",
       "AAAAAAAAAAAAAAAAAAAAAAAAAAAAAAAAAAAAAAAAAAAv3aB7AAAAD3RSTlMAInZUiRDNmWbv3US7\n",
       "qzJazP2FAAAACXBIWXMAAA7EAAAOxAGVKw4bAAAIAElEQVRo3tVaXWhcRRQ+dzebbJLuZq21IkR2\n",
       "jVWLtHQf2kKK2CgiIgSX0IcKFSNYSEHIPlRShEpeWkFDf5RKQa2hpRQtlIIUjFBMKyK+NCFgETFk\n",
       "qQ/SPrRpranYNvHOnZmdmTtz5p5No9ILSW/O+eac7ztn7sz9KQAU4D47Av2P+5u947jvBGEaU+Xo\n",
       "fCUC6ScH6/+vaLeX1LmfPWq/F+QSsnccCYIaZbryf5lYkcb1/HzQDWmepQZzI7MTd6cvXrDtIwvT\n",
       "02/VKHEdyNXq1M8etRORGHvMTkKu9g5Yn0h8sJEWDzZQ1sZ7g5Yi1JjhC016wT1uM3liIcjWcYAZ\n",
       "B8tPAXLzpMA2srkizxLYY3YyEmOP2SlIxd5xJAhqSJMf7GkAvTdYKUKNLcPRWcuMe2/ffZ2aAEEW\n",
       "w1Xx26q9cd4IF8xbpC3WRmbr8RLYY3YyEmGP2inIrG9cgqCGNHnBngbQe4OWItTYys+ee8V5/TWt\n",
       "oM5cDLk/jLvfvq3IhujsDdJa60Aeql8uXvaonYxE2KN2EvKQ7/pPJE7X5AV7GkDvDV6KQ7CRT9LS\n",
       "urJr1PLUH8T4GHIm/NlhXza5cONsPkgJ7EIOyBM/e8xORyLsUTsJOeCBb0wiTtfkB3saQO8NXooB\n",
       "2MmXTNg87BpVTf9FjI8hw/36tVPOnTnzC/UmxUL2yhM/e8xORyLsUTsJ2euB70wiTtfkB3saQO8N\n",
       "Xopecfl8Bdd6XI+N5fxN4gMmgszf6VrrukKvne+6SCuQC7nXvPgR9qidjMTYY3Yacq8HP5BEnK7J\n",
       "D/Y0gN4bvBR74Rhfb6A46ZzxwV3qteFGpsJb+m4Hy3UFSB8mRXYhu+WJlz1qJyMx9pidhuz24I8l\n",
       "Eadr8oM9DaD3Bi9FN3wSeX8YmgmfGrdGz7oZdUWtGdp9RxoyL0x7npN1pH4sOxDe189LB0/Ajh/D\n",
       "n/DGkhu29P6ERzaQ2aP8mpJOjb3gp1Ew7N4cBtJmL8Yq9obdWxgzwvslg73j0NuhDpU57vImt+LY\n",
       "ZXXliLsoArVb/6NcY6SkD6BjFPJdo+yPS0/XI4Z1+FsaWqBlFH/9oiP1o2MyesLgDpGAHWx5218S\n",
       "hiq8g5faQHK6MGb0gbMX/DQKht2bw0Da7PlYjb1h9xbGQELraYM9NrE4HW27UZnjLm/yONguqzNH\n",
       "3EURGJcwxtfeKkBbOPPSfPwmFRHgC2noOB3Me3ZCDWns1+EqmbstHWlJMM/u9GdOC8NtKKL3iiYy\n",
       "mDUZauwlv03aRqDZfTliESz2YmydvWn3FsaMUDTZY1uhaIf2nnPUZKr11ZfcimOX1ZHDclEEak+i\n",
       "s1zjeXbnPcy/yGgTK1r7vgb+TSCqRLYShs/YkR3IXZeeAgEN92u41q9PrIzcmfNzMuMeVnZ7tXUg\n",
       "s+PL2d3oiPRq7CN+OnvT7sthIt/b11UVIQT7PWpiGaq43VsYM8JIsEqwx6jognZdWpsaqcm6GZrq\n",
       "rih5giwFVo0RZY3lcLsoAsOiTa6+oFo0Ej37PsL2yuv6xMrMsbnHZvtEoX6JNY3C6/3CF/2q/2Ui\n",
       "t44NtxYiJ8COUN/HFX1iRfbmcMDYdnWZvOyK6kDmHttwUDyUR16dPeOnsY/bZQ4zfPTLQGY+OAwH\n",
       "RQjJPhyrs4/ZjcLUo7oiTD34aoGzx6hoglgZJ1OTIrOhSXOFyR15dVkKrDVGlNXMgbksgapZQiAr\n",
       "2mewVrVoJ1wB2LawHdITcz36ivVlBTITcxV4ZuHN+sS6UoG24+G/J0D8aqs6kQ89CR0C+iv7nlkG\n",
       "fWIxe459ufxOrb/541EcLWp0YiNbHwd2DZ0UXoM946fYW3aZQ4WviigmMujrhz85tM6ejVXs43aj\n",
       "MDyqKEwc+WE5L9gjVHRBrIy1lh6ZWdekuVjyeiyjdDZYNUaWNZYDcdkCT4ApkBVtnr+E4y06CW01\n",
       "a5tlrUnryyufFcH34a8N1oLoQE5F96cGVLvH2mBv7J2VWBx+2MjiEKMbjEqvzj7i52Av7IQcHJkr\n",
       "tR+IQTsrTvbCTilMhAxuvVtnj1DRBU3BZWgry8zGAOViyRNkKbDdGDMH4iIIzJXyB/gNYtSiUKP+\n",
       "SVSbWE32rHgYHgCw37c5kEdgKB+DahOrx5ouQTUomHH4YSNH2kcL8kst8+rsI34O9txOycGRrbWW\n",
       "as2ARmMd7IWdUBiOzI5/E0j2CBVd0BFYA8W8FG8MUC6WPEGWAtuNMXMgLoLA1lpqPJityRYxjeeM\n",
       "5mV6eGv6YrNiCwQXrr4dvVawn2njyFk49WwMGjn4DWIJ4hk7r/5eMePU32HEkFP50ZBgp/Iq9oyf\n",
       "i72wE3IIZBHafqsZUDbWxZ7bKYXhyFzpSpNgj1I5pz9eTcFIi6xbn/nkJVxR8gRZCmw1JpYDGUYQ\n",
       "WAzFZcerskVM4zYV6sWbpfxHsGLweQA9DDNcLrcuLMxCyr42bGT7JKwaNqHcwRIYdpHx84UFM454\n",
       "v2cjz8HPNVF87lXsGT8Xe2En5BDIs5B6yYSysQ72wk4pDEcuK+T2yamDUVGCwjK+AY8+ITPrA5Qr\n",
       "Su6XpcB2Y2I5UniOBIFnobkQTFVki5jGwKSVRt5X0D+plxt0pMmRBTKlfUsnsm84B11Wo4VJ+f9T\n",
       "RFBqJAM9eQJ4qXKkUY1n3APaK9TQKBJznCGzPrNoxL3nwNgvQWEWP66hkD7wUuXwFBr5tJolh842\n",
       "6hgmhx5eNOLec2ThXyvM4sdllyjOkuVQ5fsHYoP6NsjFHuEAAAAASUVORK5CYII=\n",
       "\" style=\"display:inline;vertical-align:middle;\" /></a>"
      ],
      "text/plain": [
       "(A_{1, 1}, A_{1, 2}, ..., A_{1, n},B_{1, 1}, B_{1, 2}, ..., B_{1, k}), (A_{2, 1}, A_{2, 2}, ..., A_{2, n},B_{2, 1}, B_{2, 2}, ..., B_{2, k}), ..., (A_{m, 1}, A_{m, 2}, ..., A_{m, n},B_{m, 1}, B_{m, 2}, ..., B_{m, k})"
      ]
     },
     "metadata": {},
     "output_type": "display_data"
    }
   ],
   "source": [
    "ExprRange(i, ExprTuple(ExprRange(j, Aij, one, n), ExprRange(j, Bij, one, k)),one,m)"
   ]
  },
  {
   "cell_type": "code",
   "execution_count": 15,
   "metadata": {},
   "outputs": [
    {
     "data": {
      "text/html": [
       "<a class=\"ProveItLink\" href=\"../__pv_it/demonstrations/000e011c4fb3f42285a4d2ee4257e77f15613ecd0/expr.ipynb\"><img src=\"data:image/png;base64,iVBORw0KGgoAAAANSUhEUgAABMEAAAAXBAMAAADw0kUfAAAAMFBMVEX///8AAAAAAAAAAAAAAAAA\n",
       "AAAAAAAAAAAAAAAAAAAAAAAAAAAAAAAAAAAAAAAAAAAv3aB7AAAAD3RSTlMAInZUiRDNmWbv3US7\n",
       "qzJazP2FAAAACXBIWXMAAA7EAAAOxAGVKw4bAAAINUlEQVRo3tVab4hUVRQ/b2Zn582uMzuZGcXG\n",
       "TJuVhOJ8UEGJ3CIiAmkQPxgYbZCwQrDzwVgJjPmiQi3+KQzBsiERqUCWQshAWo2IvrjLQhLRsoN9\n",
       "CP2gq9kaqTvdf++9e9/9886sW+GFs74553fP+Z1z7nv3/REAisDlnhqe/OPeZm8Y91xCtiRYIqkK\n",
       "FzKWWuoxgK7cwH9Fv7scHbvZW/V3g1xA9oaRkFC7TJf+PyvsSyGwWggZQ2Zo5wzWqRnpj9+ZunBe\n",
       "14+0pqbebGL8GpDLo0M3e6seibSxt+lRyOXOCasTiQ+10+qhNsrafm+spUjVuWQGuJCRbpkdbECv\n",
       "MAsyNwYwbaD7EUB+DuVYR3ZWg6ME9jY9Gmljb9NjkBF7w0hIqK2c3GBHA/C9sZZiG5dsnQsZ2Wnz\n",
       "/r/rGjaSBVkim8K3NX1PvU72i5uo3VdH+qG/BPY2PRppYW/VY5C+a15CQm3l5AQ7GoDvjb0Ue7nk\n",
       "gAsZz75sPCM7lmDXsg25n/jdr996+ATtX0ddhg3IQ+EJ5GRv1aORFvZWPQp5yHVFSCSOz8kJdjQA\n",
       "3xt7KXJVJmvJ4Vq+bMurKqbpi1N/IAPZkNNEtusnUp7sqZ0HMY5NyMHgwM3epscjLeytehRy0AFf\n",
       "m0Qcn5Mb7GgAvjf2UnTWmewghzv41RQ21E3Ta+m/kIFsSLKnv3rSuHtnfsHeyGjIjcGBm71Nj0da\n",
       "2Fv1KORGB3xHEnF8Tm6wowH43thL0THBZDA8ob6Cq/2mJ+tK4QbyGdyCLNzuW2k6Z6+e67uAq5QJ\n",
       "uUe9HFjYW/VopI29TY9D7nHgB5OI43Nygx0NwPfGXgp/gMkxcniMX4GgNGE8B7w72LPFjEyR+/91\n",
       "BrqripA+jPJsQq4LDpzsrXo00sbepsch1znwx5KI43Nygx0NwPfGXor0ASZHyOERBvtheJo8dG5h\n",
       "j8qZ6BxbMbzrdqDIPD/leMyWkfJYRCJ1zAUGHoCOH4mQu1Cu2LzxJ7tnBel/ys+ywCixF/wkCore\n",
       "GUNB6uzF3Ii9oncWRvXwbllhbxhyO6IRRY6bnME1P3pZTTHiJkyC0tWLtagwwyRcYZsAehpQ6GvQ\n",
       "HxefCl2TgvwdKLKQbdhf48hIefRMsOcSbhAB6KAXvP1loajB2/aaK0hOF04rDeHsBT+JgqJ3xlCQ\n",
       "Ons+V2Kv6J2FUZCQG1XY21YYpyPtRFHkuMkZPA7Wy2qMETdhEoyn0H2ASbhL1gC66GWNO1ofuQb4\n",
       "LFD0jHpzjk1SQip7OrmA5m8FhnTAtEAfC6ZHheIWlKw3lirSm1EZSuwDfuulPULSu2LEPGjsxdyQ\n",
       "vap3Fkb1UFLZ23ZJ0Q5pz2moTKUGu4JrfvSyGmJoJkyC0vPrTOCNyDlySKW7zj/6SCuMXRa/Bv7Z\n",
       "gZXEr5I4GT2EAbnz4pMgoGRPh6sD8grLBLt3YTaIuJvWX78QG5D+2GJ66zoSWCX2jJ+gwGyq3hVD\n",
       "Re7d11cTaQn2u6UVpuudhVE9jHjLBHsbFTmhnRdXpkaaSt00EwuekFYEjhojymqKoZkwCZKiTSw/\n",
       "H7XIH2OyUTw6P0T302vyCsvM0tVI1/94MTzpOhrw2oCwsT/hLxW55XQ9V2RGgO0k0Q+r8gpj+k4y\n",
       "4fS26MR5yeTVgMw/uuageKZnVpk95SdWGLPF9EEMPQUVmXnvMBzkxpA9mRv0wKBXCsMchr9iyMn7\n",
       "Xyly9oZM4wnRMk6kJpS66SYS3FY6DSw1RpTVFEM3aQlGEUWCtGgfw8qoRdl+JpeJgsjW1jZIj8/2\n",
       "y9ewz6uQGZ+twtOtN8IVdrkKXcfJvydA/OmqGZEPPAE9Avor/YhaAXmFUX2efi79Lro0F44zP5JX\n",
       "dqAjc48BPau+EFaFPeUnIlFbXB/ECN2HMVSkt2kA/uTQkD2dKygY9EphmPugMHHk+5WCYK9S4ZNi\n",
       "CdEyNrP9ct0MJhrcXDodHDUmKKshhsGkJ3gC1ARp0eb4yzzeoq5RJl30sKltxbRHafnKy5eH9z35\n",
       "s0Z/LtWRk+xmVoFK92Fr9M2/txrzw4eOLA1Tul4jsMrsGT8RSZ4p9IgYHJkv09tUBdpbDSkY9JjC\n",
       "MKR3852QvYWKnNAkXIKuirFukYkGT0grAuuNQcdISDBfLvD7etGih7nQb7Dyd1hphXXoy+NBuA9A\n",
       "f4FnQB6F4UIMKq2wfm3deDWvqPrhQ0eOdDeKwedhapXZM34ikjyT6zExODLXzNaaCpTNFRQMekRh\n",
       "ONIf+8YL2FuoyAkdhRVQKhjrFplo8IS0IrDeGHSMhARzzdSYN9MMW7QTuJwVEnUx0897tCm2PDaD\n",
       "d/7KW+ythP5IHEfOwMlnYlBm4HcyZYhH7L3ye1X1E74CiSEnCw1CsDeyRuwpv4C9PFPoETEEsgRd\n",
       "vzUVKJ0r2Bv0mMJwZL58uUOwt1I5Kz+UTcJI1lS3yMSCJ6QVgbXG4GMkJFgiyfljtaBFHrnRpwJb\n",
       "hQifL9woFz6AJUPPAcj+qOJSJddqzUBKP1t0ZPcELKurUG6gARS9iPhJq6X6ES8MdeRZ+LkpusCt\n",
       "EXvKL2AvzxR6RAyBPAOpF1UonSvYG/SYwnDkomJ+X7CGbFSihEgZX4dHHjfVLTKx4O60IrDeGHyM\n",
       "hATPQGfRm6wGLVpELmNUwCtzka8Vlvce+A/6lTYNabRngUxJX/KR7NuOgU+r3cKk3P8lwyu3EwEf\n",
       "PAG8UDFE+R4VYhqnzOruKjaGFWkznELTPzVvxN3HsLFfgMLMf15bLl3ghYqBKXTdrPbRMfx2DXW0\n",
       "6/q8EXcfw4d/rTDzn+cvkJ8FixEr3z+bWA/Bc3e9BQAAAABJRU5ErkJggg==\n",
       "\" style=\"display:inline;vertical-align:middle;\" /></a>"
      ],
      "text/plain": [
       "((A_{1, 1}, A_{1, 2}, ..., A_{1, n},B_{1, 1}, B_{1, 2}, ..., B_{1, k}), (A_{2, 1}, A_{2, 2}, ..., A_{2, n},B_{2, 1}, B_{2, 2}, ..., B_{2, k}), ..., (A_{m, 1}, A_{m, 2}, ..., A_{m, n},B_{m, 1}, B_{m, 2}, ..., B_{m, k}))"
      ]
     },
     "metadata": {},
     "output_type": "display_data"
    }
   ],
   "source": [
    "ExprTuple(ExprRange(i, ExprTuple(ExprRange(j, Aij, one, n), ExprRange(j, Bij, one, k)),\n",
    "                    one,m))"
   ]
  },
  {
   "cell_type": "code",
   "execution_count": 16,
   "metadata": {},
   "outputs": [
    {
     "data": {
      "text/html": [
       "<a class=\"ProveItLink\" href=\"../__pv_it/demonstrations/2bc591d55c282547b7e86884a6fb3804f8a6d0110/expr.ipynb\"><img src=\"data:image/png;base64,iVBORw0KGgoAAAANSUhEUgAAADUAAAAoBAMAAACsgK8GAAAAMFBMVEX///8AAAAAAAAAAAAAAAAA\n",
       "AAAAAAAAAAAAAAAAAAAAAAAAAAAAAAAAAAAAAAAAAAAv3aB7AAAAD3RSTlMAIs1UmauJMnZmRLsQ\n",
       "3e++988cAAAACXBIWXMAAA7EAAAOxAGVKw4bAAABdElEQVQ4y+2UPUvDUBSG39pvv1r8AcZVlNpf\n",
       "oBW6qkXMIB0Sd6Ed3JNFECq2/6AFwU1bxOLgkA6KQkHcHFtcHbQV8aNgPOfGwWNwcfZAkvfmyT33\n",
       "Hu57AnBM4PeYk8O486yvnno66P74drwBGEUlQ0ZSMs0G6hklNwpFyao0rtqsAnY5LZlBV0rlCmGh\n",
       "Itk9cHGr1D4sU6DoYGd72pMZaDnBYj1gXqWKnWSNhmAjXSDywuoKSNwIlqA08VcvJca6glmUL/xO\n",
       "YpjE0KNgZdq+NUVikhfoCZaiGXctoO3OIuj0vxeRd3V9Jo3/+FuMlvT1gDBFyW3mm8pKe7sILkkz\n",
       "9elsn+jZZkOtCPNG+cyX+bDooHAkvcReqVcQ4bnYkl5iG2gmNGWjS+kltp2VQ8H279zid1UTnaSf\n",
       "lbl1jBoe1KglmMO3D6CjmlP22IB79+2rsgh85V03vBbFpr+8Y05Hcw/kcuzyQ9XR5821mkBh+kuc\n",
       "LZL4BMdgX02oVq8HAAAAAElFTkSuQmCC\n",
       "\" style=\"display:inline;vertical-align:middle;\" /></a>"
      ],
      "text/plain": [
       "ExprArray((A, B),  \\\\ (C, D))"
      ]
     },
     "metadata": {},
     "output_type": "display_data"
    }
   ],
   "source": [
    "ExprArray(ExprTuple(A, B), ExprTuple(C, D))"
   ]
  },
  {
   "cell_type": "code",
   "execution_count": 17,
   "metadata": {},
   "outputs": [
    {
     "data": {
      "text/html": [
       "<a class=\"ProveItLink\" href=\"../__pv_it/demonstrations/5413877e0e90910ade6c557bb49e9d30763624db0/expr.ipynb\"><img src=\"data:image/png;base64,iVBORw0KGgoAAAANSUhEUgAAAPcAAABBBAMAAAD/MS8IAAAAMFBMVEX///8AAAAAAAAAAAAAAAAA\n",
       "AAAAAAAAAAAAAAAAAAAAAAAAAAAAAAAAAAAAAAAAAAAv3aB7AAAAD3RSTlMAIs1UmauJMnZmRLsQ\n",
       "3e++988cAAAACXBIWXMAAA7EAAAOxAGVKw4bAAAFdklEQVRYw+1ZTWhcVRQ+85P5ffmhi+JCnbgR\n",
       "iqUTQXAhmAipC4M2Bl9RYpy4EUQhXdSFq5mFhcIUMxs3ukhAEFyYCdrBQmjegC0WClJBqW6a6EqJ\n",
       "tiY2aZJpHO+5k8x757s3PChdvgvzYO4753zvnXPuvd95h4hHbJAecBx5UEUfMv6PvJP1Nt2Jb0H8\n",
       "WsOtHUUbRfj/Wdt1nzoj55yq+0ZsGgR9yGEAp75FopK0kfmjSc/8CnKJNj7NGlHPPTn18QVKvFwD\n",
       "OR/y5DrcKlSI6iPi8S+rZ0miXLI0AN7cJsrdFVPXb6rLKZDzIVNH4VlpTiHNVYSb/lKX3CrIvT0D\n",
       "Ls4qS9ltMXWiqS4LoOhDPpL5F+6VWEk87MyQuqRH4D0rs0Nypkd5M/6bgNG2zwKADzmS2DEjd/Wm\n",
       "gNnTvof3TNJwzUgWZ0pIFW7w9XsA6ELmhtJb8la6df7cMemmbdt6+ZzKkMXlS+cn5PPMVCyKPmSS\n",
       "YpvyXkZlw/PCRu+6DXyECuNyZnaAEn+KmZUBi6IPWR092ZL38iqxUiIJ+/TKcOAZL46WFuXUMr+r\n",
       "cPsdfW1KsS6ko/yyJ+/1j2PO9mrwZ2HbUZI35BS/j1wmK3o/kMniQybV7xZETrm8Z1f4Sbt9Gr1O\n",
       "vXLxpTmNSvPBKb3CU+j1A8gvzV1SRY7Kg7h5UEo6L1czNmZOlvSGsV/R+9J+FzLGz+7JrDihLP8u\n",
       "kdSayoGJxzk7ZCLGlbGF43IHVs74QtrqQjreRpOeaz8ZvDnJpwPsHs6Y+5Kcud4+TglvIxiKHj6Q\n",
       "voHMvtJ4bV6askBGIxrRiEY0HuqothuTDXmwZJbX3MlbkidUbzfcZUFSMl7LXXqVwjT11O3aIZDq\n",
       "CMwCfe1X52kGSAqflMcMqbmhUE2eitfQVgcyzUf1K9JEXZ1VjuTJmvF9KjmHOqqTq6GaTDKz4mDz\n",
       "ITNM1upAOec7XCfoPWY2T0vOochRDli3RXNWTSVEXH3IPJORwjTWfxWSvEuJpUn62GNisEVhmkrs\n",
       "TAJt7UP2c4TKkgK3NEfCyH0IU0xA05sUprlBaZjyITlyNCfePLfneki3y9OxJ6C04Mhl5ZtbNFWy\n",
       "HIEpH5IjB4xTcfbHcEXONKYgt3TkJMm1aaZaLpDjACRHjv7Dyj2FFUKxSVAm6sj1r4Zpxu9rqozJ\n",
       "0oHkyGV3MCYxLglk5JwhS+TmamGaKlm+sySLhtSR+0FuC3WOyQUZzC1ja+TIOWsUplnHLyIBSB25\n",
       "ryG+KiaxcQwmWSKXHwzVxO8HQUiuOb6CaHJ9tTB/yAec4JLO/UShmkVDsQvJPH/pBUnqJ1TRsCyL\n",
       "nqveJhwhXFpMXhwI03SUGCw0C2Q0ohGNaETjIY9rS9hCONdu0Cd3GvIbUsprvRmmmSm1xrNvodx7\n",
       "bTBFTrXRaT7YWgh8NvyND4lfG22aXCD0oRx+4Aw0Hy4PGC0ELhBidw3ygKzAoskyhREis94QBOxH\n",
       "6nyazN8no4WQ2jUrqA75FyYsmlwzYAXVqTcEh+MocPNhht8eWgh82mvTJu0LAlk0iwemDaYZfDfN\n",
       "GM8e0kJgamhGTtILu2bLmizAtbrNB2sLof6z65YwcjmQtGmqmsF1jWSpV8BlB//j9yzgzPmwdWNQ\n",
       "SJsmyxjdIoNCFg/+cwshMzo6HR45pJA2TXuyIIXk5sNHoy/utxCSOyap3zAiBx8LbJosgxHumEOK\n",
       "S6e4obBupiNH11ibRuRsmixjbAeYLKTbkLq+5juFRTNyu2GRs2nqZJkPSRbdfIhpdwzXKD1VMRya\n",
       "N4qEFZywaK5YtoP95lBgcPPhg1/0Qh07/W6sCQVCJem1pFlF/k+DDUNTybxOY+1LhPUGBuJK453a\n",
       "o0T/A+dX8ciO+eOkAAAAAElFTkSuQmCC\n",
       "\" style=\"display:inline;vertical-align:middle;\" /></a>"
      ],
      "text/plain": [
       "ExprArray((A, B, C, A, B, C, A),  \\\\ (D, E, F, D, E, F, D),  \\\\ (G, H, I, G, H, I, G))"
      ]
     },
     "metadata": {},
     "output_type": "display_data"
    }
   ],
   "source": [
    "ExprArray(ExprTuple(A, B, C, A, B, C, A), \n",
    "          ExprTuple(D, E, F, D, E, F, D), \n",
    "          ExprTuple(G, H, I, G, H, I, G))"
   ]
  },
  {
   "cell_type": "code",
   "execution_count": 18,
   "metadata": {},
   "outputs": [
    {
     "data": {
      "text/html": [
       "<a class=\"ProveItLink\" href=\"../__pv_it/demonstrations/c779a43b34f2384a4fc73613f7a3aa6bffbe511e0/expr.ipynb\"><img src=\"data:image/png;base64,iVBORw0KGgoAAAANSUhEUgAAASUAAAAuBAMAAACc+RIzAAAAMFBMVEX///8AAAAAAAAAAAAAAAAA\n",
       "AAAAAAAAAAAAAAAAAAAAAAAAAAAAAAAAAAAAAAAAAAAv3aB7AAAAD3RSTlMAIs1UmauJMnZmRLsQ\n",
       "3e++988cAAAACXBIWXMAAA7EAAAOxAGVKw4bAAAEXUlEQVRYw+1YTUhUURQ+8+O8cXw2g5C0iHQV\n",
       "WJEiQYsIB1KILDLpQTGEU7RwITiL1jmBgmDk7FsoBP1sVEhBEJ0JFQ0DXRjSRm1XGZWWP6kx3Xvf\n",
       "/Nx73xl97zVCC8/izZ1v7jnvvHPPnHO+B0ClBBBxlIM9KbEE55JKDHT+sOlTpTn4aVLTTkcESO3S\n",
       "bjvCbOlKYjZqbPqEW0PgFYCCTQF58hhc12Js6W4KIEbqVu35hFszwo4tAN8vHplZIJfr+ra7rRGj\n",
       "DU/ppj2fUGsIXEjsF27xyNkEufTpDke7q4w2jnl/2nIJt4bABSQ3nB/5KLAbPtCjCjUxo5Gg67e9\n",
       "o0OtIfCRAVDv8LErm6PXKbZ+Bm0k11XxuH1Vygb5eGPZJ90aKDjMSdtwZ6PgZmuUiwiUNZDIRaXn\n",
       "cqyTj+b097dmq5VuDYojKMxJdwBcn3lgKRsV72Bt04DBdFdt3U7GPfLYnXNCIVkjl9ny1IIX3BoG\n",
       "j9HQ8J5/Z1ea5zAN4J+Tbagkan9S6yJWXsQt8zQUwdSCF9QaCtNj6OEPZ4ndJ6JHFYqXwdchHR3A\n",
       "IsDLhhw+7XF01BpMX0JhThT6F2rq5RBWmTwsmWOsjUz7E7zGK9YM1OiuRZ9S1iBYjcL8aZKSrAgn\n",
       "X0aD1kJXJ+hdV+H4RaGa0GeKBxzjcxZ9SllTE/cxWGin5BZ9Z4TuQyL3nEZmJnkGXPG1MAzz2RRf\n",
       "S8CF5EkoikL9yNjISMykTxlrUIHD2YoZX9caX4vaE0M3e4Wk3sU6wuyU1XxKi81mKbbt8iCCVrtt\n",
       "+qQs58En9RbWzScfpXxy3NuIWjHnbYADlSIbOs7Ywfrktq5y6iH8d3L5KhzKoRzKXjI9pMVKTaI2\n",
       "rXnjO9rIDWlq/Dakja4Iu8ZWtNA3Wtm8nxJw7oPBCoqaKOC4np/MpD0ScaGDSpdhF6226ihpvm65\n",
       "ZeKoiRaVQ6+NdCa32AN9lINMiLvI5FBIRgPnV/q73DJx1ERPyaHXTVz1ieTMs63PxPwu4o+L9N1W\n",
       "GlFFHgpwdH/JpRenfXxDfkfilSgX2RVxkY2MCajS8ISjJkhwLj3KgZR1MXkG2IQtZphCM9yTZuwC\n",
       "u8TR/SWjB6JbCsULxTj1vw9JeUdYbgmdmIrTeDP/qxE1xzkzerAg/hvp+5CCbfGYIw5pTvTsaIuM\n",
       "tTM2oUq2BdQC58StkRGM4v5l+R1ZGASy5NzV56JiZuW8/Lw8aoFz4tZY7pD6FJNTLKBGpfI0zoLA\n",
       "oh3W2WV2jONRC/N4Wk9trzKUJ3VFLE80xbxCnPrD2bdl4Eno7FJ4h5ZBLfiU0gO3q9xQnopEyENT\n",
       "7KiUYenXljHwtYDOLrmXmRxqhbfoevDOE5RzxzdvTA/fF3lXKl3rtSv0xiItyaKWOGdaT+IIoaQW\n",
       "GhR50WTluhb6zodOJbsCRnaZP87pD+RhYKl2Qz45Z154C2OX+eOcHQc889nhnBUH7JN1zul8sQz/\n",
       "m7jbE/+g/RcDB10/8zSBJAAAAABJRU5ErkJggg==\n",
       "\" style=\"display:inline;vertical-align:middle;\" /></a>"
      ],
      "text/plain": [
       "ExprArray((A_{i}, A_{i + 1}, ..., A_{j}, A, B, C),  \\\\ (C_{i}, C_{i + 1}, ..., C_{j}, D, E, F))"
      ]
     },
     "metadata": {},
     "output_type": "display_data"
    }
   ],
   "source": [
    "ExprArray(ExprTuple(A_i_to_j, A, B, C), \n",
    "          ExprTuple(C_i_to_j, D, E, F))"
   ]
  },
  {
   "cell_type": "code",
   "execution_count": 19,
   "metadata": {},
   "outputs": [
    {
     "data": {
      "text/html": [
       "<a class=\"ProveItLink\" href=\"../__pv_it/demonstrations/b565eeea2e52d72f344bd82748a471a51a89efc80/expr.ipynb\"><img src=\"data:image/png;base64,iVBORw0KGgoAAAANSUhEUgAAAWUAAAAuBAMAAAACQxWTAAAAMFBMVEX///8AAAAAAAAAAAAAAAAA\n",
       "AAAAAAAAAAAAAAAAAAAAAAAAAAAAAAAAAAAAAAAAAAAv3aB7AAAAD3RSTlMAIs1UmauJMnZmRLsQ\n",
       "3e++988cAAAACXBIWXMAAA7EAAAOxAGVKw4bAAAE70lEQVRo3u1YXWgUVxQ+szuZ2d1M3DVU6UNp\n",
       "9qlgK00IhT6UkoUqlGppKh1oWUrSIsUHIfsg+NRmBQUhpdn3PhgQtH3RQA0VUrNbVEyx4D5YpC+a\n",
       "vtVG/IkmURPZ3ntndvf+nJm9Y7KBQM7D7Oz33XvPmTPn3jnnAFDpBkSMLIRKKz5QuiPBQdKLgbGH\n",
       "4ZNa8dG0qfCPNdd9qyBAzpj7hTHMbuM1bI2BFjYNvKTNuDYEngfoWBaQH76H+McldmsOZZBF9j4K\n",
       "192KDxJcmwobTwFST3jk+i1y+cQb9tVIQV3D2rkcqroVHyioNgROkvWTT3nk7Qq5nPMeqDjep67x\n",
       "auJxqOpWfODWRbUhcAeJvdg/vJeYwiPeW4GBkrpILv4sVHcrPjA0UG0IvG0SnC953/dU6fUauz8N\n",
       "o2QvOmI4pfrsJfLze5DqVnygeNrAxmFORi+ePCA8xkiR8xj0DBLPF6XnNhbJz6H6/z+yEMY737gV\n",
       "PZs9bdBVQGFOxjMQv8sDd5peTVzYMzSpLD22Z+9KwzzilpPVUN4Ekx/gLJDLjax/wwuuDYNnqGv5\n",
       "J3vArsw1swDpqryGQ7z+wr/vZMdnNZRPTxjCMXKTujLn3/CCakNh+hpP8S//DrOj4L0V6JqD1Anp\n",
       "1QPcBvhpMMBmmU9WjGXN0KDaYPYDFObEplt8aIJD2Mlssc1UYp/h2bQQjz+zj6lTXA2wWeHBquqY\n",
       "7GuDXD8K89FCPlm2EFk91OmH6d3rVOsjeO194bSkz1zOGJeruM0qD99q7UFfm1M5iMFCOkNUnNst\n",
       "fN2J589QLddruyFeXhiGi3y0lhcq8F7tDegswr7pmenpkmgzwhu/6Zjc0Aa7cLj5RSkvugd+EWdf\n",
       "mfpsQthUq9gX9ca1gNhQ+Fdge6Rj+iWTFTGtyuYQtN8Mt7nBG78e3R9FnT23DjY7n2PZ1tVjdZu+\n",
       "XiqG8dtqtUipaWIQ2iqda+TRgqHUXpvNNfKIvPkdbDr5cD9syZZsyWaW2Sm3tFMT1ecjzUuUV9zp\n",
       "T6Wq4v6Ue2leGDUz7+bv05M98W8F3vlbWQVF9fmI89KkpjklFd40ER1TRtGvkXOJJEemnLLgqD4f\n",
       "dd4oyQxMMQdJ0Rr5ijiKZH5JktrF7lFeTllwVJ+POm+cPEpKbD5Yz72aix9F7I2TvGiEvhFbTupw\n",
       "VJ+POq9M87Al8fEeQkJqKZBRhTgZyCpRR0qecVSfjzyP1vD2ohi8k6yCEyPcpjvQqnfEhO4Kjurz\n",
       "gU2+Rv9NNNumeFL08/m/8lLc20vQTTPmrjp+iGdVVOzJKLxmT6YxD26Jpwkt2juei2FUMKQ6w1px\n",
       "b7OuGEvVHWltAUV6Mgqv2ZPBtZEUnOJpcWv2AgyD4IjYqpf3drFV3pX9waNIbaXwmj0ZXBuLXXI+\n",
       "l+QQzzhF6Xi+zJzE3taw111ppvE8itis8Jo9mfo853ifcjw78+LxTEM8Ifj5vF+Y0246WBWvu9Lc\n",
       "3zyK9TcUXq8n488DM55VjudOEbKoD3ZIEe7fDJQgdRi87kpTeBSruxVesyfjzYM/rZwcu6mbanim\n",
       "/pNH+dtln/sRVSyW1U0U68kgvF5Ppj5PqmHzNTd/Qaz7r/YuuvkHvOsdMiqjdlc2rieTzqxDQtpv\n",
       "wkb2ZNal7mbdlY3ryZxoc03Qjp7MrjbbvP49mdjZOdhsYh6vrGH2//xhurtlX4BWAAAAAElFTkSu\n",
       "QmCC\n",
       "\" style=\"display:inline;vertical-align:middle;\" /></a>"
      ],
      "text/plain": [
       "ExprArray((A_{i}, A_{i + 1}, A_{i + 2}, ..., A_{j}, A, B, C),  \\\\ (C_{i}, C_{i + 1}, C_{i + 2}, ..., C_{j}, D, E, F))"
      ]
     },
     "metadata": {},
     "output_type": "display_data"
    }
   ],
   "source": [
    "ExprArray(ExprTuple(A_i_to_j.with_front_expansion(3), A, B, C), \n",
    "          ExprTuple(C_i_to_j.with_front_expansion(3), D, E, F))"
   ]
  },
  {
   "cell_type": "code",
   "execution_count": 20,
   "metadata": {},
   "outputs": [
    {
     "data": {
      "text/html": [
       "<a class=\"ProveItLink\" href=\"../__pv_it/demonstrations/06afc29911fea7d3bd6e8abdd8f50092d03e61630/expr.ipynb\"><img src=\"data:image/png;base64,iVBORw0KGgoAAAANSUhEUgAAAb8AAAAyCAMAAAD7lCXyAAAAM1BMVEX///8AAAAAAAAAAAAAAAAA\n",
       "AAAAAAAAAAAAAAAAAAAAAAAAAAAAAAAAAAAAAAAAAAAAAADxgEwMAAAAEHRSTlMAdrvvq93NRIkQ\n",
       "mTJmIlRAUMakMQAAAAlwSFlzAAAOxAAADsQBlSsOGwAACHNJREFUeNrtXNuWragOlatcxOb/v/aI\n",
       "yk2CCGVvd59RPFQ5VhJEAiGZzrWm6buG9fTbRprE8i8YBV0eKpr/d390P6Bm3zuQioeKaE0flTem\n",
       "gv9bc8x/rlFrM+q1WNnX7luePu2a+Znbe+2WfLi1OwY0Fmwt3RoHjgqJ8CZZJrM9H1p6hyPoxyGD\n",
       "PAwaMvPzau+nsSUfbu2OYQ2Cj2Bjrw5EBLkYuCrmfMe74yFbPvUfexoyVDZORe2t31vy4dbuGNQw\n",
       "9njO2apLBsJOh6rdalHdC4p8eQQu5KlmpiiMsHdJa0s+3NodwxrL+dli8/XKw+zPxwP2e4OrD/1H\n",
       "niYvaxo+DZqQXW+CckM+Hu2bHVc0qPX+yvamiKr6cAPvDoez/S4vR/bpclOpo5U7ZW4etCUfj57N\n",
       "jisax/EnKdN5VI3po9Sj+Qj/LoVhj2+drst5W7Tang6V5epryYdb1vF22dQImhYjhOh1cwmLhtPx\n",
       "NGH66gTUzw8ptmZrfFu6p+sFgvbAnVwufHz7xY63MemWRowz5sg1cgeyMvStpHtU0qKP/EefD5bM\n",
       "cTKwUluSh6tBGZb7Y14jNFj0tm5c18DEb7jM5SSpNKRf0v3jwl8V8YQO+E8eq83WBl2T45+CFq0b\n",
       "32j4HXlJP1l01qqzNLQvif8og9EdOUaMn+c+YuRAnOgE77NC/mP/ZR1vvlLrvQbwoNTOmX6cePGD\n",
       "sUn7TQ2POtYN9gt3XhKUalvw++GdHOCgHPTfo1Nfwh07X50lTVVDFg+qLc8EJmxH4T9bcHHjV+MY\n",
       "WPMM5gO4I1b4vNp4G+zmxMjdF9KGEYBy0H/BKFqXH0VZ3vEk5STUvUYcFCdnbNzhsURwlhpzcF+o\n",
       "kxKl5wcgwoQ4MBUzgnsKkEGssecm+phzbO0+B6u7EGFfsvM9SkWu8NaI+7Mk+88bTSwgGOEqXhxK\n",
       "ZcehpKlq+P5pAK/XKb/xZqW2+VZJUGXzVCi1F3dwgPc66pjaUaxY2h7kh2m4j6PuXWXtHlJXz7/1\n",
       "yQzVlXz0r2r0CybDHigBCczssRi/fTumdhQr1l11C4zsbmeQSo//mhz03yPsrqqkSUujX5Ci9GJg\n",
       "JoV3pHw+tcNY8doHUWJokUiKzN1wT3nqPyO43Yv6R89YV/KZbf3e3YLJ4AdKN5HsOMkQjA1VbjmM\n",
       "FS99bpd3dfMT/48Y3Sh5MAx1m6Ina7QLU/H15Y4c+DR4WwKISi2Ew/TcFRJUTlrgySixJDXPmUVF\n",
       "SapjqEDmWO57cJB0pHw4V8pP2quvWfisyfR6Q6N1+In4zJZtyWeYVuWCBJoUc8GY8s2Nm1/EhLcc\n",
       "V/jRJ4BtlCQ6s3thgl0RJg5sb7Exa/ob2FODiwGpv2nwhEd4LqRAi3GzLR0/TK/HW4rFmmXiLHmd\n",
       "EwHbKEl05I7YuhWwdeH+bdl0RB/+u/77yxpjyfEnzurfnU4qYAz7GYfsP3JK0ZoEsNVBEq82H+3d\n",
       "i70L4gIgCVGQ2t+Jf8t/JAmjJkl+wmzP+2ZxiMmcbJscsI2ScLWX6PLIavcPk1dGv/572X9zKMiQ\n",
       "9H4wO1S0bcrdRS5PVazICU73R4m/Ol5NnUfevpdRPPbv4qf59UnPnBzxM9Rxhu75+ny8oNuPup0l\n",
       "szh2DYuF5QWwjRIWUDwXdSmfVpfFuF4xTVCf6ojQ+uuuot2we4/8xb+OmveXbavVUpEjw9wcgV1m\n",
       "49Kb+ArkAthGSbxy8OPK1L5RFXUbOh6eqFr/RapuSm4FK+Fb8Ws2L3SMsLWbHGNqSlENdg4S4vLA\n",
       "OruX0K0u4wfMisn5lkMhNK1qWQ+sRCMk3J1nFurpC2AbJMmVpEhoQ5HerwVK3njV6/dI1c3JreWc\n",
       "3Iunt2ze6fjElhcA7ajDzl7Cb9m9TSRZvfR1AsFT/Gy+BwGv5NYCkLkVV0CcfpuXOg4gpSoq/zrs\n",
       "HLhQi5urGrtX2lYsYeIV10mypmOrLFT/fAW59YKB3Ith3GTA5qWOw3ExF89dh52Rl6z7oqiwe5tv\n",
       "AuQLbFjHlM+/a1TZ9Z6qW5JbLw99K4bX0IDNWx1jG7KD62aow86H0fbpGqMoMGMN96zc8h+fFuuC\n",
       "VB4wGRyUT2wHILdm2fS9GM7AB2xe6ziw0nTBL8xh5+L400FSYfeibwhMFfrguVQKcqu8UM9vxZVd\n",
       "0m/zcPsVAUxXY9xy3X8X2Pl6/BkeJBXm6kdIyAIX8CfVrCC3igv37la8e+f6uG0bKQSl/bAsQMS9\n",
       "8gVitUSveVsOO+eSrXpI6GwVdm8X2+W9puGwfVI9AXJrplUV14m6bRs15QDTw9YYa3b8TZaAx58A\n",
       "bPm+wlUyY3D0/oiADfPeTv8B5NZ8ydfEdaJn28ZtDdNPJ2iMNTv+liL9LGHn7PiTcZXDue1X/F2g\n",
       "Ekri54XcemXq1sV1/7VtFjnkvysRtyT3huNPFsGuhJ2LurD2QGdA/oo/P4MV/EnVzcmtBVMXFoP+\n",
       "67I5ofo+cu+ViOvJvbI8/jC/htkcdgYlYaeBB91n319JmJfp/FFf1STk1pKpC4lB//XZHL/J8YjT\n",
       "WyXienJvSuG1J7KoCtscdgaMitLqURr4WQaqA8KakVtzpi4sbhB1n9iY4zdxog3A6b2Qe8uOfRF0\n",
       "ofBirEKc9bTfK+ycSHaj7GhjULxiH/4EBfj9aZCq22DqjhB1IRuz+caY6S1y700vdVFVAtYYX35/\n",
       "Gt6AIEzbYOqOEHUBG4O11js16R1yrxiwrUsUBNHgT38BhkODhai6DabuCFEXsCHWtektcu9NL3VR\n",
       "VWIwuP0+ZYFpAr4Zquo/mFb8h2wekHvRiG1VAjLQ2cdUBfCbMj+i6qo/ZFN33r9C7oXZvV//flbH\n",
       "79f9Z9ofJPfO/PvH5b9kpeHTh/8NFOjf328dbDK67395A1JLR/VTJAAAAABJRU5ErkJggg==\n",
       "\" style=\"display:inline;vertical-align:middle;\" /></a>"
      ],
      "text/plain": [
       "ExprArray((A_{i}, A_{i + 1}, ..., A_{j}, A, B, C),  \\\\ (C_{i}, C_{i + 1}, C_{i + 2}, ..., C_{j}, D, E, F))"
      ]
     },
     "metadata": {},
     "output_type": "display_data"
    }
   ],
   "source": [
    "# Unable to format this in an array form.\n",
    "ExprArray(ExprTuple(A_i_to_j.with_front_expansion(2), A, B, C), \n",
    "          ExprTuple(C_i_to_j.with_front_expansion(3), D, E, F))"
   ]
  },
  {
   "cell_type": "code",
   "execution_count": 21,
   "metadata": {},
   "outputs": [
    {
     "data": {
      "text/html": [
       "<a class=\"ProveItLink\" href=\"../__pv_it/demonstrations/ae62ec29d895e1bcf2c424eeb79c3339f6ca3ee60/expr.ipynb\"><img src=\"data:image/png;base64,iVBORw0KGgoAAAANSUhEUgAAAakAAAAuBAMAAABgwPu8AAAAMFBMVEX///8AAAAAAAAAAAAAAAAA\n",
       "AAAAAAAAAAAAAAAAAAAAAAAAAAAAAAAAAAAAAAAAAAAv3aB7AAAAD3RSTlMAIs1UmauJMnZmRLsQ\n",
       "3e++988cAAAACXBIWXMAAA7EAAAOxAGVKw4bAAAFvElEQVRo3u1ZTWhcVRQ+k5nMm0zeNDFocCEm\n",
       "K6FaTAmCCykJ2ILYirH4QBkkUaRkUcgsBAWxGaFCIWoGty4aEPzZtAEbjIzNTGlLIxUyC6W4aePO\n",
       "OtKm0SS1iYz33vcz95x73zT3ZYa6yFm8vJx877v33HN/zv0CwK0HNBbrh2jW0ypAj1k/BnTOtpWI\n",
       "UQ20CkDdn9cc56kcctlTzuuxMfEar+k4hiJGpWdrAkB1VwHaN5Dn048h/lJBvCZGuzUkh+5Ei0rP\n",
       "1gSA4o7dBUj/LXuuXmOPl13YmxM5lSPZuxEtKi1bMwCKu4P1sOOu7Hm6zB5n3JDz0/tVjkdTf0UK\n",
       "Ss/WBIDqbmdrpO03OROiy++4mYWhgkoyHP8n2gTUsjUBoLr3zIL9hpy/vgp/XhHvX8Ak2zVsPGnT\n",
       "+6119uOCcVQuG1hNB3huySbnTx1FgU7kpaxA3wjLXp6MTGyN/Rj3f/9xu6eXywYZbwztY065IUBl\n",
       "pgDslmy6G+I3ZceNemZS5w6Oziqdmzp4aDMIkA3cqYr81yXWE3sVvIdslC0BiUpDAGEO64/OvcDT\n",
       "I8d+WzzFKC4CdFUoh80y96/33ikOCwTJDLPHz+A/JKNsXTOxjYYAwhzSH62bT6bT8hS7IfhybmYh\n",
       "swzpj8gEBLgO8PWIPqpGE5CzweLz/u5bJlFRgMKsAJBbzjLfzkZnJI84qZJiWyiI4mixC03/b0SB\n",
       "Yue3DKPy2GB4sL7dVhoDCLOGQXbLc5KVCRZaAX08ccf52+O833fgsQPobOCjUuqOXawYRuWx2eW3\n",
       "A9cH5cYAwqxhkNyoUGWdPLMPTWaWvS95c1dr+yBeWh2DeXlVlVbL8FztCejMw+HiQrFY2GZUARvs\n",
       "hfeLzLoh9sN9AJhZBmjd9TO4tOYc/Ra3f2nu1Rm0PWzpqpSlK6bryrdgWB+GhxoDwpgjlqG4IO4f\n",
       "1ngHExGjsvyFHfvu3SMNAWHM1nITorJf09XJlz/0ooq9tZ43oUv5B+aeWm2lISCMOTUCLbXOCN+0\n",
       "FVoO2KElzD958kTLAQ/AXjjScsCu7dqu7VpzbHHOKfQqp3JdLmwCmxFA23SqtOkUXyE321tzzvkq\n",
       "Qi1UnewtftKlfi/DM79SakkuNDI9mwkgpOkudv0+TUQmfg2ZUlD8/LbPs7I2QUtJWS40Kry0bCaA\n",
       "sKYnWV2VwLVhmutFlzCK5biDle1tf/K/01JSkgvNKiUtmwkgrOlpNhppLOYl77k3fxnFIoqzEZng\n",
       "WbVIwS7LhUamZTMChDVd4pXwOh6hFUgRgY2hcnEGFJqLTS5XslxoYno2E0Bo01zxstbwIpoVSgRe\n",
       "aRZfkUlfp76gkwttw5UVsEEuIqCuVOIkWPzDDpyrs79kyQK11qGHdznj+8d1cmEgfdqfbSuqgA2u\n",
       "+R9ilVMFUJUzUCqxypniSlX7PTwAuRi5cSY3neviVifudDbpnSQXCs0K3vsE3/z79SqnykZUThVA\n",
       "VU7UtHTJ4x924V1mAGAMI9u23HtTRjTzLOGQ5EIAoZgewDnhkWpUTpWNqJya5sgNHzWN1hA7rwp0\n",
       "qXXbeXJcXRRjKabEmKtnUrnQlT41UYVeMD02+6R/XhKVUwXQqHylkqic/Liyq/i44ksthXJ11itJ\n",
       "+P/rIFl29UwqF7rSp0FUHhsk4vXFglRODYBE5SuVROXkx1UnXoFJPlyPkJXmvQwVIH0cXD2TyoWu\n",
       "9GkQlccGPyXrJxJWOVUAicprmqqcbA2liabPZ3P6D4ryNqnDzot8NWKhx5ML5yFRLFaL3287Ko+N\n",
       "12JalVMDoMqZr1QilTNbc7Ln8DFzeWDNyd6W02czFMYs6Y5cV/o0yVWwbAP2EJWzDmilyjmoU5Jc\n",
       "6TNKVIFCFKZynoD7RGUtNyEqoWcquRLSJ4+qd2DciC74v1GYyhkAHpTKORvhm707BrRa5Rw2v498\n",
       "tbxDwP9R5UycLO8QsDOV8z/zkwT6/jto2gAAAABJRU5ErkJggg==\n",
       "\" style=\"display:inline;vertical-align:middle;\" /></a>"
      ],
      "text/plain": [
       "ExprArray((A_{i}, A_{i + 1}, ..., A_{j - 2}, A_{j - 1}, A_{j}, A, B, C),  \\\\ (C_{i}, C_{i + 1}, ..., C_{j - 2}, C_{j - 1}, C_{j}, D, E, F))"
      ]
     },
     "metadata": {},
     "output_type": "display_data"
    }
   ],
   "source": [
    "ExprArray(ExprTuple(A_i_to_j.with_back_expansion(3), A, B, C), \n",
    "          ExprTuple(C_i_to_j.with_back_expansion(3), D, E, F))"
   ]
  },
  {
   "cell_type": "code",
   "execution_count": 22,
   "metadata": {},
   "outputs": [
    {
     "data": {
      "text/html": [
       "<a class=\"ProveItLink\" href=\"../__pv_it/demonstrations/37fbc10e76973c7ff842f88cabadfdafb14e2df70/expr.ipynb\"><img src=\"data:image/png;base64,iVBORw0KGgoAAAANSUhEUgAAAfcAAAAyCAMAAAB2+WKmAAAAM1BMVEX///8AAAAAAAAAAAAAAAAA\n",
       "AAAAAAAAAAAAAAAAAAAAAAAAAAAAAAAAAAAAAAAAAAAAAADxgEwMAAAAEHRSTlMAdrvvq93NRIkQ\n",
       "mTJmIlRAUMakMQAAAAlwSFlzAAAOxAAADsQBlSsOGwAACRtJREFUeNrtXdmSrCgQFQRlUS///7Uj\n",
       "qKwJAmW3HTHFwx2jk0QkIVdOzTC817Acvu03G8f8D8yCLLU916/InlkVSd8XPGG1PdEWfO5UXo2p\n",
       "ZwmnHxPO9GOvnlE7z0bfFvtS/b1buEEmVex9Q36Q6ZmRgQ4LVorsbQIMIUd4pyzDui8KWtrnw8jL\n",
       "SmqsVVM83CCbKq7kDflBpmdGhjuM+FCJKhY8GpHW1JugWuZTh9amy6typ9VKSoQTFUSVdswN+UGm\n",
       "Z0YGO6zqWJ1Zicgvo+dGEIZrER07cXzTxC9jddewJ1uZKoQBN+QHmZ4ZGe6wnH9bVHg6Jiuz+ViV\n",
       "HhlO4kW5j9VO3Rao+RUNSG1561EmP8j0zMiZDkRdcg50AXNd5SG8qUNpz+q98Aip6o0qgh0itEXM\n",
       "f+wN+UGmZ0bOdDjMOydUhtrfOeNc9ntp03uuHa1/dbCl533DS3XuBJ7s2xtyZv/3MLWPvD/edbAd\n",
       "FUYIkfgwM4X6g6LAlXzLwssGc0q38Hzs2/7cNAwBx6dE5uAylZk4Y4Tw7uPuRt6/RN50cNpwPTyw\n",
       "UPA0VdDb2DEtrtBLcicN0x1nb0GwELsDjHPWAyZffoxEiDYz6f+KvmTHzWzzHfB4HfBgp4xexMev\n",
       "A9QzMfxW8mYkXXLnxz5VmWnnyLiUrbpjUrM+kj3e/s1sCx0uDRC589QJeZOBW98aTL3k2ckWL8rT\n",
       "8+cZpOZjZ0TgI5qQi3K/Y1p4r9yDkXchi63YAVgeouagvxMXy39QlaJ/J3eDWvYbtnt+PmdrMpv7\n",
       "YTHuiTO9IBmWexPTvso04Cmt6ACPrIV8BKQ814EnyyPVFFBWe/zZ9acFA29+Vt9C0WdnSQG3aCcb\n",
       "qqwXF9brsnIjRK6mEhmWexvTUcRyPPap8BCPPHA+MFF4tc86jacOP9KwjnKGfLMVuwtyPfYGA4/w\n",
       "OOp0P6YjbgkEO7PaTS+Rp6ywUmYdNv3ArCKgR2UxQxZ4b6P+Z/HPexPTehStqS1hUpF/ODulI18B\n",
       "afbVFyuxRZktGnTnEruUhKf8qX2mLRVWZgV3bRfUIJLeagZXTZlCKjOjHLmLjRfJsH1vYFr3ya5r\n",
       "nidak3ynU3tne+RZs5SVVr0ZcOzmK3d35S0aRNJbzZBt8WOm+LCbS+G7OBkyLPd6phVLKQXP80Qn\n",
       "Kf/V400P1j6oX7JiPRJg1wbg9SLprmZsjclwDO4uTtBamPBJDkTIJnXkZRqYRqVb7coUOp2hQrZH\n",
       "njVLWXHVmwsa97DUCEwm5l7aXc1YGrcLL9meis/FjzBVrWuh05l1Re2sqOZAtKXgrgyByRldgcW+\n",
       "dxDhkjGdPdZPiBE+SIZ3W8cWL/o8/UtH8fushKEVHZHrYs5SVxh3brFPmvg1przQZzkOTzfUn305\n",
       "c4Szorszb8UhtFZCJj3JBjLt4t/lyQa8Rw3smr5XUnAUr8+sS4hYh8PsyCIvynmTf+FW5682gcSf\n",
       "+uZxOiUhPedwWbWUuL7vKrejareodRkm6gWMrqTgKF4fbmoKeufsQ5j8NsEu7/S/k/tfa5R65p2d\n",
       "aR9tfYVNFRkbjtQ/PvjZPa+kIC3FPe2yNcMzM8So9fRolTVR34V/W+6jp+5Xzyu0UprN4dQZttk7\n",
       "pmFJwVHsk0nN8CNKMH/0Sq9fuf8Ruc82oEb8kt9qcotnbnrQfr9fjQxLCo5yPR0l3tOkG92BnF9T\n",
       "0vNfhMRzbb3T8zYOX4kJm+ajQG5MubmFt+j7e9RlBqKSgqNcT9xYBzINm/bu9KjYlQJY3p9H21dc\n",
       "j7UCruLw667C7mxq3ZuSXIyHx74LEGuPT7t9rigYlRQcxT3pRPdGxXFtgWgF4pwDlI3fHULChweA\n",
       "qYwiubt1jtvHVuZCWKmdjjFZU1KunGIpo/ar87iKkexx9XQUAvB4JOm5QGjYxLIduTWJENNvnqlN\n",
       "o0QlBUvxnjhBTK4ESfPMkFc7zudtHEIihAeka1Im90fEfeP2sd1ynTWTBciO5cspF2Uq4ipuKyTi\n",
       "IeAY88bZwusE3suWa2eF8IAkf1ck9x/2vnH72O65bBJdJCmffDnF3tJc9BrncBVc3Skmyh4ROR83\n",
       "f26ZDX59XwIPiJJfZXJ/Uq1v3D62ey5rDudkvfLlFHRRNrOZMriK28oYfwBPoBFRIfZVZSts51fF\n",
       "8IDoo4vk/v3ZN24fWwUXVtZrig9fvpxyMO1/3Zy2B1b6RqzbpKaPLei2IBEqdgobjzMXCMADguik\n",
       "TO6PevrG7WOr4bL3bGVy0zospyTmXVpKBleB3rlYmblGfW6xBB7AI7BQkfzBcU90n/wxtgoup4uX\n",
       "+LxH5ZTYvK+TpWRwFS9lzhY4cXPenE3gASy6TVwkm53QAyMBUAnJTR8ARFHFlsyngstFuyT2g8Ny\n",
       "SkjZozjvgm4GV9F00e25JmHzct6UB+ABQa8suYyPuGs3r7VviEAUFWzAfCq4sLsDN4LmnQG8kzlR\n",
       "wltp2Mq8BJiB7/GecgfgAeFRyZGL9+QrznvxtYcEUhBFDVs6nwoua96XxJ1PyymBeefuVMGxwlu4\n",
       "CSAi9fR8BA+I8RF58mdyj1EJANABAlHUsKXzueey5p0nSjktpyRxfXkhyFs4qRnM3JwIiRAekOAj\n",
       "YDIo9yaoQ4xKEBHy3sqJDvnpZNgSvEaOi6fmHU+xOQjLKSDFblTQkL+Gi3QXzoMVJVd06cEDEnwE\n",
       "SAbl3gh1CFEJF9AhMdbmnnpuOhm2BK+R4fLBE4clmK+V8khhOQVgSkLjKrf6NY9e2gpAAA8I8BEZ\n",
       "MoyPaII6pKgEE1dKfDWjmU8QRX46B1vEFeE1si+LwRMYC2sPLsBFXE7xKIYpMN0U0qv0xZ+0An/n\n",
       "BERIfIKP+AzqAP3g0AWiKAwNsN3hNYZ7VMXHuArPyL54yQE88GAZ4RN8xEdQB+AGrANR5IeGLs7e\n",
       "4TUqUBUf4yqcG/XqL9hN0GQhhMQH+IjPoA6IADH+CaIoDJ2y3eM17lEVH+MqvOP+6q1WOYIV1mz/\n",
       "34c6FCsT+aFLbLdcqIe3ClcRR8uvNRCB+RFC4sniXCfQoY/tR1AVGVzF279T2vK7xG9klvqADn1s\n",
       "v4iqmKf313b6XqL8des6/QXIyvf/O/DLjTux/wc6xV1zC2lOAwAAAABJRU5ErkJggg==\n",
       "\" style=\"display:inline;vertical-align:middle;\" /></a>"
      ],
      "text/plain": [
       "ExprArray((A_{i}, A_{i + 1}, A_{i + 2}, ..., A_{j}, A, B, C),  \\\\ (C_{i}, C_{i + 1}, ..., C_{j - 2}, C_{j - 1}, C_{j}, D, E, F))"
      ]
     },
     "metadata": {},
     "output_type": "display_data"
    }
   ],
   "source": [
    "# Unable to format this in an array form.\n",
    "ExprArray(ExprTuple(A_i_to_j.with_front_expansion(3), A, B, C), \n",
    "          ExprTuple(C_i_to_j.with_back_expansion(3), D, E, F))"
   ]
  },
  {
   "cell_type": "code",
   "execution_count": 23,
   "metadata": {},
   "outputs": [
    {
     "data": {
      "text/html": [
       "<a class=\"ProveItLink\" href=\"../__pv_it/demonstrations/2c1fc67a67dd096d50f04d3da37b8dd5707ed5cc0/expr.ipynb\"><img src=\"data:image/png;base64,iVBORw0KGgoAAAANSUhEUgAAAVkAAAAuBAMAAABwjHclAAAAMFBMVEX///8AAAAAAAAAAAAAAAAA\n",
       "AAAAAAAAAAAAAAAAAAAAAAAAAAAAAAAAAAAAAAAAAAAv3aB7AAAAD3RSTlMAIs1UmauJMnZmRLsQ\n",
       "3e++988cAAAACXBIWXMAAA7EAAAOxAGVKw4bAAAExElEQVRYw+1YTWhTWRQ+aTJ5afJqQkFxIWNW\n",
       "A1WZFhEcGBwfGMHxB6v4QMmicXChIDQL1yaCBaHD9C1nIbQg+LOxXVgUiiaiHTsoWKFS3GhwJdOh\n",
       "2krrTyvx3vte0nvuuy/vlr6CQs/i5uXknJPzzj333HM+AEqtIKFQGlSpdWVyrbAsapcxm96tTF9d\n",
       "TmA3l+bMo7cxT+81T4Ry7DFcldnYreytXF9ZzsVeNwTQlUesv/6E8CGLPUa6UhIje2dUvZXrK8u5\n",
       "2JuLAIMGz3k8SZbDttjJ7rzbRnTDB1Vvpfrqci52P/neX+Q5P5fJctM+TsW+DreNjbH3is7K9ZXl\n",
       "3Owu6h8f7yhz5Zy9E7Dbchsxwp9UE0GqryznZk8BjE6i1Bin6yP2fAUK5LTpOHniHdo8+biv4IWt\n",
       "ryyn+alrC5d62hCnm0sLAzZ3kmgXhTcOzZGP07Xv/3pXX1vfnxy5lryPeowc799QuF8tRTJ2K9M1\n",
       "5DLdm9m7UHecvO+lcVT+ZmuLXP9puraAz/9I2IkKiR064m/ZSk8ajAEkx0UbOon0l5o2K4pYZKK+\n",
       "SPVbjNqyRNL/kbGTJNTNH1FsmQd5eyegpQLxHiERAF4CXO/08BbtJNV36J+/T/rIje1poM6oQLLg\n",
       "h888h1XaKDtOFrtkx5Jl/vcb7ELUi4u+3jr6zpY802Z85Izt3uo29RHfCmnxuoCz9OlH6s8MbNqF\n",
       "aiB921Iq9GDc11tH39kSQ6s0ltPLp7zVnauAvMNrFDtaTK9SzuPqNgiXZnNwh8/a0mwZfq3+BIki\n",
       "HBi5NzJieXpb17dv+IFYp59cm7c6o2zVNLcK98XD4WMD6Fgtym7Fp4/88xbJpxKXyz4yyu1Ho/4o\n",
       "bUi42yPL83ZdqnDDx1vPVFkO6cdl/dHoBcfb0B/zxcZNQCaT2Q/x33854/NHsU5YVUoEaq3JWl1v\n",
       "I0Ea23IeviPadxDWaI3W6NsmDlng+85h09oQ6P9ILcZKC+bIEWESmB42704hqXtTZnbaEpAF7vc3\n",
       "ZdjxIkhnPSwmSW/YLzQxdCjpdUmxe4VHFpbifZc0OZGZIHfQw2KB3OgR3DvE6fz6EEuRvW8ewMgC\n",
       "dz/+T7UqAXrrZbGPvEQcgwHRz/YExEsRT8MpjCxwMzHdG80I0FsviyXaEs3jF3sHMWGQJ1L5sIAs\n",
       "LHVUbILU88E562mRTtbaHE7SITZp4UzWLB5ZQOhHtDZy3g/K27pFwA5rlN+MYzv4PCvktzYPrSke\n",
       "WUDoR0tNWgX9UKK6RZjElYICB3jChe58SOj9owvmSxFZ4GYANoXqnugHuKAQCnU4cIh8quAt8s0z\n",
       "5Sfx4WsHyGGPmhadvpVDFrhIMNs7vdEPFxTCoI6JBrHlLeIcJfXWElM5pReFcvuARxYw+mHXxZwS\n",
       "+qHY0jsW9YsdrnKrT+FyS1M5hmI7mMPIAkY/QlQhWlZBP1Rrgm0RIuG0q9wmMIthYOuFTMbIAkY/\n",
       "KKQaPwsq6Icq2RbhSdQQczQ+4U6a+H+iFEYW7uCTc8DcTx31RT/Ub17bojBFZqtm9ha+9Ufb58zs\n",
       "Wz7cOpHCMsGgHwqUTAVgJBj0Q4ECmXlXin4oU88qd+vBoh9tq+xtkOhH07UKfD8UuVhegfZXNAR4\n",
       "lhXXne8AAAAASUVORK5CYII=\n",
       "\" style=\"display:inline;vertical-align:middle;\" /></a>"
      ],
      "text/plain": [
       "ExprArray((A_{i}, A_{i + 1}, ..A_{_a}.., A_{j}, A, B, C),  \\\\ (C_{i}, C_{i + 1}, ..., C_{j}, D, E, F))"
      ]
     },
     "metadata": {},
     "output_type": "display_data"
    }
   ],
   "source": [
    "ExprArray(ExprTuple(A_i_to_j.with_explicit_parameterization(), A, B, C), \n",
    "          ExprTuple(C_i_to_j, D, E, F))"
   ]
  },
  {
   "cell_type": "code",
   "execution_count": 24,
   "metadata": {},
   "outputs": [
    {
     "data": {
      "text/html": [
       "<a class=\"ProveItLink\" href=\"../__pv_it/demonstrations/9d54a0b7005b2ef274b4f97cb7e5a0f57721880c0/expr.ipynb\"><img src=\"data:image/png;base64,iVBORw0KGgoAAAANSUhEUgAAAecAAAAuBAMAAADgs8yvAAAAMFBMVEX///8AAAAAAAAAAAAAAAAA\n",
       "AAAAAAAAAAAAAAAAAAAAAAAAAAAAAAAAAAAAAAAAAAAv3aB7AAAAD3RSTlMAIs1UmauJMnZmRLsQ\n",
       "3e++988cAAAACXBIWXMAAA7EAAAOxAGVKw4bAAAF2ElEQVRo3u1aXWibVRh+06RJmnxpgkjxQmyu\n",
       "hOpoyxAURBcxA938qcOAUqSdeFFh0F144dUSYYVC1QavBIUUBHUXbkVXrASXiE4rE7vBYHjjoldK\n",
       "ha3Vdj+dxnPOd77k/H3JG3qqInkhSfN9T573vOd73/PznAJQuw0MFkiDZbPPuBMbMV3suWrbjYmx\n",
       "r7KZO/Spdvmdei5371EUKxaq4IJ1E2if9aCNjP2LABN6m9cAeq/haLFQGReaSBkw+9dtB21kHCwA\n",
       "nMpolXAdIPYHrmiQUAV3eNqQHeGBa5ZjNjOWiO9SQct6Au27jqLFQmVcoDA/qmPuiP5uOWgz4wR5\n",
       "DWuZ1ksqoecnFC0WKuNCsK+oYzLBG5aDNjOSSjt7yVTpzgu4gQwLlXHvQX4SwJF7OzYa2SIfX9iL\n",
       "mTOC3L7I9uzMkO4ovzx7qKg1ymgcisZF3CcAg2Ok4uS6CkFgk3xMed+/3fEcyxlBfqxRMrg9XBQc\n",
       "uTafguCvQqOct3x5ObStebgE7fXo6ezEogaZy+7fbrSWdM/seV+2VdIfzgbwN18TGAWL10ho+gB3\n",
       "hry84ZUO7a++obl032So10Ub0LxvooQVgKQWkUO6+E+vXWwu9w86QVt1Ebw3HxMZBUuOGcdemhPe\n",
       "mM6eyEO6y0RGg3p2EZr3TZS0IxM1iM0ouQjwI8CHY4igsdnNGJ3j8kyRJ6nde9N1JFQ6HfImFtxG\n",
       "GYLWofzb128fboNbeZSOL0W2PlxJVkXICbY4dQq3rAXtMkIomFYrDfJp15Fc6ZEN3qjWQXMoT6cL\n",
       "kfU2uMxe8uUuGtY63CmxBkilQSUV+PK8raA5I3wXlpNumHT7z1XXkbBKJ+iTe3ijWgfNoTydMpFa\n",
       "a5xTfQngXH0PBCsbk7As1l9lowoP1u+GeAEOls+Uy8WdBt1ghB5pehmnuwCS8HGpKHvpLuQT8scy\n",
       "hMrltfJn/kE3oO5cvBAda4cbElp1yzS/r35jLb0bI5dx6mWO9K5ijWr9pGWaVPzdahuMkP/BdMYA\n",
       "2BuyHvQx41XmSDO3UR0E3Z/Kn2gTtJj/znOmJ3D2NR504MWtgp2gZ4xXmSP9SbNG0aAHRqbajBnZ\n",
       "bPYAxB5/4OU2/v3yX10/WF2BD3X8i0W7SkYRBQvZdPlBrfONis2Y7zn2zwtToeNV+FftsSega13r\n",
       "Wtf+H+bM5Z4PTKpXV5ZyxQHU77FII26uvjS+pK2LopXtXPkZq1EqlG++DsEn1Sk7+ksV7vsBxYZE\n",
       "+uDIbq9PV0mTZANaGrUatUR5jopWTyud7XxOlvohjNyPRfrgIlQ1eUpD58miN1SzGrREOUyXCyfV\n",
       "ldNvVF/AeMUifXBRqo+d0paG86SHYnY1aJEyzHLrFQUxTfMgglkAYpE+uDg93xrURpQK3UNsWQ1a\n",
       "pBxke0ZlOxtgEp6DkNCxSD9ckm4n8trOh+qmkU2rQYuU03zLKOnqYU+fbCv2h3EHTgLuqFZpUJpU\n",
       "HLFK79tCif1I8yiZ2H+Z80pif8IbcNqK/Qnk2WYTd0mrNCpSTumV3nsTJfZjpyxOycT+K+ySsvfp\n",
       "ZyfJTnNrqYj9TW1fQkq3ZbHdiOOVBn8ZKz1Za24tFbFf1ojS3ONqupUqIFJeZrqMUmsJ1sT7BRFB\n",
       "kYsa2r6ElG9LYrsZ51Za3w1jpZeKgojQQi5qHDYkWg2nEiWbocOK2O/Op5MIsd9DcvMV2z2cIvaz\n",
       "Svt+URX7aaU7a4AR+zuZpgmlK/bT/wSAI4rYT0/tIVxFiP0c6eW1r9ju4RSxn1Xax6CK/bTS42mU\n",
       "2N/JNE0oXbGfHhq/X1XEfnpiHTsCGLHfRXrPMxOptcYpYj/935uPMqCK/SNkHUESFiP2Y41TMrEf\n",
       "4KulZxcAJLGf3DuYOwCAEfs5kg9XvmJ7AycJc1SCLz8Cqtg/Xs+Nn04BRuzHWoPSvtiPENt3VezH\n",
       "mHWxHyG276rYj1mkCPW3U7H/9mw2u4AR23dJ7McvUrpiv691xf4d2n9C7P8bDVwSbPLxIXEAAAAA\n",
       "SUVORK5CYII=\n",
       "\" style=\"display:inline;vertical-align:middle;\" /></a>"
      ],
      "text/plain": [
       "ExprArray((A_{i}, A_{i + 1}, ..., A_{j},B_{i}, B_{i + 1}, ..B_{_a}.., B_{j}),  \\\\ (C_{i}, C_{i + 1}, ..C_{_a}.., C_{j},D_{i}, D_{i + 1}, ..., D_{j}))"
      ]
     },
     "metadata": {},
     "output_type": "display_data"
    }
   ],
   "source": [
    "ExprArray(ExprTuple(A_i_to_j, B_i_to_j.with_explicit_parameterization()), \n",
    "          ExprTuple(C_i_to_j.with_explicit_parameterization(), D_i_to_j))"
   ]
  },
  {
   "cell_type": "code",
   "execution_count": 25,
   "metadata": {},
   "outputs": [
    {
     "data": {
      "text/html": [
       "<a class=\"ProveItLink\" href=\"../__pv_it/demonstrations/2082b0cd307c708cad09fbe4f21585a772e4b2d70/expr.ipynb\"><img src=\"data:image/png;base64,iVBORw0KGgoAAAANSUhEUgAAAO4AAABuBAMAAADScDLJAAAAMFBMVEX///8AAAAAAAAAAAAAAAAA\n",
       "AAAAAAAAAAAAAAAAAAAAAAAAAAAAAAAAAAAAAAAAAAAv3aB7AAAAD3RSTlMAIs1UmauJMnZmRLsQ\n",
       "3e++988cAAAACXBIWXMAAA7EAAAOxAGVKw4bAAAFRElEQVRo3u1aXWgcVRQ+szvZ2d3M/igahIob\n",
       "XwS1JEEEH0S7Yiv+tLoWFypRdhUVHyrZh0L7YnaRBiKpZhFBMEICoiJoumhDhao7D7WmtNQFC0EQ\n",
       "uyqiJULTaJO2oY73zuyumXvnnMFECOo9MBMy33fvuXP/5mO/C+CE1gsbEqEFCp2w8/lbSwTBHMs/\n",
       "rhVROFpfyR951A/ZQuaFeYCuZQJ/9QCEd1RxPMW6c3LAB9h2nkqrXQSI/47jJ+bY7ZE0TihXAPSm\n",
       "/DzSQ70NxBgau4jjfRa7TRMVjLNBil+Sn18X/Y3K28VGIfQ9CkecwnuICuq805bk59nwJSpvsgbm\n",
       "k/i8yjT4/UuighV2GRekx/EBY1VjDHl4PhnduWrWiC0Yqnj/l1po8DGKLUkEHTTWGPM197+EVG48\n",
       "DeGzAMdbi3xOgM+0ZhSGQ5TPnq7LEmFs6zbWE/tewbrpc/5SJWO04Q+fc+4WikM3X6WppkgwWT9d\n",
       "YX/vwvLykZmsQBip9wy/hUsoDqkar6AqEnR2fdfJO3uvNDx80hWmWsXM/eIG4KzcCKC4s3zNeYnw\n",
       "Prv6O3mzt0nDwzYVY7FdTA+Le3mGz6vdOO4s3+5ekaDxjaSebuU1rWekzZsRpje3i52MZAWcL8J3\n",
       "LRznLxU/DQLBrC9acKd9U2d8bxZ3jfqF/M6PO8UgJG3ER2cemyLwQTs/eCiNE1p50a26VSyVXiOO\n",
       "EVjeY2wkm0Qxk33shteKI4Se/udheACiOeyr9PRSxfgRYGSNOEkY8Bk+T5Pl8f9bOEKIW7cMk8U+\n",
       "CL3XXA+OEGJw/3ayWFXfb60HDyao+A+F0u1Ktyvd/u/W7ceefYLU7eZzeYvS7Sje1u0SwdXtWdhB\n",
       "6nYd9Aal21G8rdtFQku3X4ZMidLtqSltmdLtKN7W7SKhpdvfcvOiuj1mOcVQ3Y7ibd0uEtq6HV6g\n",
       "dTtEGqRux/CObvcSOrrd+JbW7fCiRep2DO/odg/hL92+yaJ1u/YprdsxvKPb/QlaVkuTuv0auIrU\n",
       "5UE4Qti0d49F6Xbt8N7tlC4PwjHCOdsmdXvSthcoXR6EkwSl25VuV6FChQoV/4v4KuC3BnNxfThG\n",
       "SGQDyp1eJx5MUKFChdo31L6hQq1ftX5VqFChYqPj6g3K20+BMf47/2GKMTuTr/bg8Jg9Mzjj9yN8\n",
       "2CZblawBFAjbOfqLBbd/Q1TAvkMxP+NTL6SpvNynOYh/rMzPWJt0wkB27MGHfYCnhigTHSZLzjE3\n",
       "LEK/slu8SfQHd6sOyj/ja5XxASpvgV19eI8M8cIG8fF27MFMUe5m2EJ6CvMAX8yhqHbF6Wyixxx7\n",
       "sCzbJW9D2dsYrwNsrIyOCFbE6iQRHwPe2whuD8JkUSJkIeNtjNcB5vbg3d4OWf32CZ8Z5e0dbg/y\n",
       "84gCIXpoa6FGdHM3mzIR/NxB0jmCYRIVcHcf/pBXPRuBBlEslSNPMyScvHcQFXB3PyYfIGAzMdGE\n",
       "2AP7RqITTgcLDnC56hxuff2N0dzLzrbldXjdlVtEcXf5nqqJhHjVOSZzfLqazLkeneAAj7MlVO41\n",
       "3zwLP7kWm9fh5YdKIGKhuLt8PwKRcAMfwvNw/UuQKul80okOcB9r2w+WNtsLy3AffyA4vGwRxncD\n",
       "jvOzPx9mRcIJezOE64tF2AXDkHA7yLNqBvmhIPa8q2I04Wu3Js/sNh/KPwg4zu3jI/fghJ9hDDLu\n",
       "yvXda5OlaE1bcCaAr8MbhCMEbYG98YSOn9zMsAbHalnU4Q3CEUI8BzfCtQdwB/gdCKW1XRbq8Abh\n",
       "QQTlAHvjn3GA/wRFIEQTdaO5SQAAAABJRU5ErkJggg==\n",
       "\" style=\"display:inline;vertical-align:middle;\" /></a>"
      ],
      "text/plain": [
       "ExprArray((A_{1, j}, B_{1, j}, C_{1, j}, D_{1, j}), (A_{2, j}, B_{2, j}, C_{2, j}, D_{2, j}), ..., (A_{m, j}, B_{m, j}, C_{m, j}, D_{m, j}))"
      ]
     },
     "metadata": {},
     "output_type": "display_data"
    }
   ],
   "source": [
    "ExprArray(ExprRange(i, ExprTuple(Aij, Bij, Cij, Dij),one,m))"
   ]
  },
  {
   "cell_type": "code",
   "execution_count": 26,
   "metadata": {},
   "outputs": [
    {
     "data": {
      "text/html": [
       "<a class=\"ProveItLink\" href=\"../__pv_it/demonstrations/05f39ebda8def30ccfcbf700db2a40a380f93c3d0/expr.ipynb\"><img src=\"data:image/png;base64,iVBORw0KGgoAAAANSUhEUgAAAUYAAACSBAMAAADLIX5OAAAAMFBMVEX///8AAAAAAAAAAAAAAAAA\n",
       "AAAAAAAAAAAAAAAAAAAAAAAAAAAAAAAAAAAAAAAAAAAv3aB7AAAAD3RSTlMAIs1UmauJMnZmRLsQ\n",
       "3e++988cAAAACXBIWXMAAA7EAAAOxAGVKw4bAAAHHElEQVR42u1cb2gcRRR/e3e5vbtscqfUIlRM\n",
       "/CJUSxtEUBDtSVOxtdVYPKhESSsqFiq5D4X2i70gbYmk2kMFxRYS8B8FbYM2VKma/aA1xWorCkUQ\n",
       "e1VEa4Qmqf2ThnrO7L+muZnNb9ouTXEeZOEyP96+nXnzdva93wyRJ9fTzJcFOHR7tVC4vQjDrZ7C\n",
       "48YqENxTHWgfyInb4lWF5xkmqjsDo1/ZSvHlZRQ9RpQ+KW5KdOTgmxpniTL/oOhvjrDLI6h2k+mm\n",
       "h8VtqzvxwUuzPkyfRdHzbXbZhaJTfHx2C3vd6NrWAttYN0IUOwaCk87ArUN11zPd1CT03gQthD2G\n",
       "GvvJehLt9qbD/Po1qjvbzy6lNlHT21SaZPs09y990r2ijKI7uy7+PZ1uDu8NbDEnNeWpidl+oNn9\n",
       "dSRcz7YcxY+j6KPebEF182fo6LNedX82XHik1J7Wjn4yuw9D4/EF754iiD7hXG1U9yC//EsbXq5p\n",
       "GWKOwHTEMT2n+HB0geijTvQtoroneNwYJ7q3piXPerXi22htCp/i5rgzHCDaiYxJWDcPad/1+zYO\n",
       "LQpaMmwGxEZ8PYl4c3gIG2W6xlB0E58Ea2HdPDx+RL6N+TuClpt5YBr19RxM5kP1xFiP75qHouOs\n",
       "19+zYd2spz7M+zZa9tPB26o6j+KDY6t8n4mFhsq6wVOFFR8TYWiiLwce60PRXPe++ynoR5pb+8yu\n",
       "niz2co0S7ds4KtJjsfC5kdC7RobmNu5nbl+peWk/dbrL/I1oM7b6iRBNsxc8RxtbKNUmfl6RE8h7\n",
       "J0I0tci894PY+xVcTZTojH2bxDPKiU02ridKdJoeXEZatMxY0TkAnQPQOQCdA9A5AGkOwHq2YOM5\n",
       "ABDt5QBg3W4OYP8zT4hzAAlKQB/Bbg4ARHs5AFS3lwPI03JxDiDbZ0BRz80BgGgvB4Dq9nIA56ip\n",
       "KMwBpG1HD5gDANFeDgDV7eUAdrg2CnIAlDyskAPA0H4OANTt5wDoeUkOgF6wFXIAGNrPAYC6/RyA\n",
       "+bMkB2B8ppIDgNBBDgDW7eYA5tiSHMAsuk7hOz1KtJE3csIcgLF3/TL8Oz1KNM1Zv84W5gAaq9UR\n",
       "/Ds9SjSdqFZ1DkDnALRo0aJFi5YI5ccZg26QLdetMRU1UaLpkPSzx1bSEyXa0k6t5VqQa2JeXwPx\n",
       "UYsWLVq0aIlG/t8kgKGBQnk2iE0NThT2PSppjI4EkPrTpjt/QtFZttrplRSZIiMBWJ+zHk+Morp5\n",
       "0TVREbdFRgKI/c0umQqqmxddM+PiromMBNDJ9ZrwWpAXXY3T4qGOigRgnHcGHB4kXnQ1TwmbLiYB\n",
       "uGJKfeZiEkAoOin2CZnNTtE1fVoIdzcCTFmsyxR5GwEgdIN4tsioAE7Rte6cCO6SAFBxSQCgX4wo\n",
       "5RwcTkpWOMO8jQCgeBsBsC8nx8a74PDIe6pXODXy7kYAV/a/udqxe5HMZ7yNABDajYy+r1trtvAw\n",
       "LKcC8PBoDZMAHpAAnIbvTUfvpAL8FJ/xSQAImsd7Strer29zJX5TORWAh8f6oHEyPCABOE+eN3mX\n",
       "TirAT43KFY8EAKFZTMus9X+0uoVhORWArRoyFz7DJ8EDEoDr5X1eOVZSHw1IABCarIcKS4Mff3mF\n",
       "YRkVoL1aaN+Tmx5+KFe/wxkb6B2rhLZG6dODztSAFgdyeGOutFNcgBfGFiX0MfPcDgUqgAButLa2\n",
       "LqXMkrvXhBTgLxE9i6H76J3XtpQRKoCrezp4y7Rkk0tGK1IBpHB5Af7y0WpUADlcrQCvhlajAqjC\n",
       "tWjRokWLlssUzQNQEc0D0KLlConmAVyZ+KhFixYtWrREJEbzzLcxKH5ML2mett+LLyZUTgMIZQIs\n",
       "xG3klVfqgGupaqcBhDEBFo/iNvLdobvRdYnaaQBhTIDkbPyYBOot4hVDxdMAwpgAN6ZO4jZ28FuD\n",
       "PaN4GkAYEyAfH8dtHCb66gjqF2qnAYQwATIt5hTbQ6aEOdG9eS6K7qz1CTPERAETwIcnyJhie0g/\n",
       "8crrfWUQfbTWJxpCnl/ABPDhPa2LJ+DhqGfTLolOsRNqOQo5E8BiA3IetjHbpkDw8U8ERHVLmQAJ\n",
       "9vcL0etvdLe95LxAQnftl8rOcGBo/zSAJRs2p7Y7pkoZBn54tIZF8J3E69vWW8fpd7eCGLprfxu7\n",
       "bakZRHunARzYVW5scyufUoaBHx7rmwVwg4//YM4YaqYz9AD/T+iu/fksDvxqg2jvNICbXqRsMcHf\n",
       "2nLOAFHABKiBW4NjNt1TvZXquswK/eAuMeQv2HbOLWSDi6H90wBW0kZqcF0ipOwaMAGk8MZiqt8Y\n",
       "cbwAKNWrof+gHmpyQx2yMpDCm1jfpPvzYKleCW2MsK7ZniCQMyCHv0uxnLHSBnftK6EzbXQL3bAV\n",
       "4Qxg8Cj3+KsxDK7KiQBqnIGrcyKA4hZ/D/4fG4UGZHRRk3YAAAAASUVORK5CYII=\n",
       "\" style=\"display:inline;vertical-align:middle;\" /></a>"
      ],
      "text/plain": [
       "ExprArray((A_{1, j}, B_{1, j}, C_{1, j}, D_{1, j}), (A_{2, j}, B_{2, j}, C_{2, j}, D_{2, j}), ..(A_{_a, j}, B_{_a, j}, C_{_a, j}, D_{_a, j}).., (A_{m, j}, B_{m, j}, C_{m, j}, D_{m, j}))"
      ]
     },
     "metadata": {},
     "output_type": "display_data"
    }
   ],
   "source": [
    "ExprArray(ExprRange(i, ExprTuple(Aij, Bij, Cij, Dij),one,m)\n",
    "          .with_explicit_parameterization())"
   ]
  },
  {
   "cell_type": "code",
   "execution_count": 27,
   "metadata": {},
   "outputs": [
    {
     "data": {
      "text/html": [
       "<a class=\"ProveItLink\" href=\"../__pv_it/demonstrations/05f39ebda8def30ccfcbf700db2a40a380f93c3d0/expr.ipynb\"><img src=\"data:image/png;base64,iVBORw0KGgoAAAANSUhEUgAAAUYAAACSBAMAAADLIX5OAAAAMFBMVEX///8AAAAAAAAAAAAAAAAA\n",
       "AAAAAAAAAAAAAAAAAAAAAAAAAAAAAAAAAAAAAAAAAAAv3aB7AAAAD3RSTlMAIs1UmauJMnZmRLsQ\n",
       "3e++988cAAAACXBIWXMAAA7EAAAOxAGVKw4bAAAHHElEQVR42u1cb2gcRRR/e3e5vbtscqfUIlRM\n",
       "/CJUSxtEUBDtSVOxtdVYPKhESSsqFiq5D4X2i70gbYmk2kMFxRYS8B8FbYM2VKma/aA1xWorCkUQ\n",
       "e1VEa4Qmqf2ThnrO7L+muZnNb9ouTXEeZOEyP96+nXnzdva93wyRJ9fTzJcFOHR7tVC4vQjDrZ7C\n",
       "48YqENxTHWgfyInb4lWF5xkmqjsDo1/ZSvHlZRQ9RpQ+KW5KdOTgmxpniTL/oOhvjrDLI6h2k+mm\n",
       "h8VtqzvxwUuzPkyfRdHzbXbZhaJTfHx2C3vd6NrWAttYN0IUOwaCk87ArUN11zPd1CT03gQthD2G\n",
       "GvvJehLt9qbD/Po1qjvbzy6lNlHT21SaZPs09y990r2ijKI7uy7+PZ1uDu8NbDEnNeWpidl+oNn9\n",
       "dSRcz7YcxY+j6KPebEF182fo6LNedX82XHik1J7Wjn4yuw9D4/EF754iiD7hXG1U9yC//EsbXq5p\n",
       "GWKOwHTEMT2n+HB0geijTvQtoroneNwYJ7q3piXPerXi22htCp/i5rgzHCDaiYxJWDcPad/1+zYO\n",
       "LQpaMmwGxEZ8PYl4c3gIG2W6xlB0E58Ea2HdPDx+RL6N+TuClpt5YBr19RxM5kP1xFiP75qHouOs\n",
       "19+zYd2spz7M+zZa9tPB26o6j+KDY6t8n4mFhsq6wVOFFR8TYWiiLwce60PRXPe++ynoR5pb+8yu\n",
       "niz2co0S7ds4KtJjsfC5kdC7RobmNu5nbl+peWk/dbrL/I1oM7b6iRBNsxc8RxtbKNUmfl6RE8h7\n",
       "J0I0tci894PY+xVcTZTojH2bxDPKiU02ridKdJoeXEZatMxY0TkAnQPQOQCdA9A5AGkOwHq2YOM5\n",
       "ABDt5QBg3W4OYP8zT4hzAAlKQB/Bbg4ARHs5AFS3lwPI03JxDiDbZ0BRz80BgGgvB4Dq9nIA56ip\n",
       "KMwBpG1HD5gDANFeDgDV7eUAdrg2CnIAlDyskAPA0H4OANTt5wDoeUkOgF6wFXIAGNrPAYC6/RyA\n",
       "+bMkB2B8ppIDgNBBDgDW7eYA5tiSHMAsuk7hOz1KtJE3csIcgLF3/TL8Oz1KNM1Zv84W5gAaq9UR\n",
       "/Ds9SjSdqFZ1DkDnALRo0aJFi5YI5ccZg26QLdetMRU1UaLpkPSzx1bSEyXa0k6t5VqQa2JeXwPx\n",
       "UYsWLVq0aIlG/t8kgKGBQnk2iE0NThT2PSppjI4EkPrTpjt/QtFZttrplRSZIiMBWJ+zHk+Morp5\n",
       "0TVREbdFRgKI/c0umQqqmxddM+PiromMBNDJ9ZrwWpAXXY3T4qGOigRgnHcGHB4kXnQ1TwmbLiYB\n",
       "uGJKfeZiEkAoOin2CZnNTtE1fVoIdzcCTFmsyxR5GwEgdIN4tsioAE7Rte6cCO6SAFBxSQCgX4wo\n",
       "5RwcTkpWOMO8jQCgeBsBsC8nx8a74PDIe6pXODXy7kYAV/a/udqxe5HMZ7yNABDajYy+r1trtvAw\n",
       "LKcC8PBoDZMAHpAAnIbvTUfvpAL8FJ/xSQAImsd7Strer29zJX5TORWAh8f6oHEyPCABOE+eN3mX\n",
       "TirAT43KFY8EAKFZTMus9X+0uoVhORWArRoyFz7DJ8EDEoDr5X1eOVZSHw1IABCarIcKS4Mff3mF\n",
       "YRkVoL1aaN+Tmx5+KFe/wxkb6B2rhLZG6dODztSAFgdyeGOutFNcgBfGFiX0MfPcDgUqgAButLa2\n",
       "LqXMkrvXhBTgLxE9i6H76J3XtpQRKoCrezp4y7Rkk0tGK1IBpHB5Af7y0WpUADlcrQCvhlajAqjC\n",
       "tWjRokWLlssUzQNQEc0D0KLlConmAVyZ+KhFixYtWrREJEbzzLcxKH5ML2mett+LLyZUTgMIZQIs\n",
       "xG3klVfqgGupaqcBhDEBFo/iNvLdobvRdYnaaQBhTIDkbPyYBOot4hVDxdMAwpgAN6ZO4jZ28FuD\n",
       "PaN4GkAYEyAfH8dtHCb66gjqF2qnAYQwATIt5hTbQ6aEOdG9eS6K7qz1CTPERAETwIcnyJhie0g/\n",
       "8crrfWUQfbTWJxpCnl/ABPDhPa2LJ+DhqGfTLolOsRNqOQo5E8BiA3IetjHbpkDw8U8ERHVLmQAJ\n",
       "9vcL0etvdLe95LxAQnftl8rOcGBo/zSAJRs2p7Y7pkoZBn54tIZF8J3E69vWW8fpd7eCGLprfxu7\n",
       "bakZRHunARzYVW5scyufUoaBHx7rmwVwg4//YM4YaqYz9AD/T+iu/fksDvxqg2jvNICbXqRsMcHf\n",
       "2nLOAFHABKiBW4NjNt1TvZXquswK/eAuMeQv2HbOLWSDi6H90wBW0kZqcF0ipOwaMAGk8MZiqt8Y\n",
       "cbwAKNWrof+gHmpyQx2yMpDCm1jfpPvzYKleCW2MsK7ZniCQMyCHv0uxnLHSBnftK6EzbXQL3bAV\n",
       "4Qxg8Cj3+KsxDK7KiQBqnIGrcyKA4hZ/D/4fG4UGZHRRk3YAAAAASUVORK5CYII=\n",
       "\" style=\"display:inline;vertical-align:middle;\" /></a>"
      ],
      "text/plain": [
       "ExprArray((A_{1, j}, B_{1, j}, C_{1, j}, D_{1, j}), (A_{2, j}, B_{2, j}, C_{2, j}, D_{2, j}), ..(A_{_a, j}, B_{_a, j}, C_{_a, j}, D_{_a, j}).., (A_{m, j}, B_{m, j}, C_{m, j}, D_{m, j}))"
      ]
     },
     "metadata": {},
     "output_type": "display_data"
    }
   ],
   "source": [
    "ExprArray(ExprRange(i, ExprTuple(Aij, Bij, Cij, Dij),one,m)\n",
    "          .with_explicit_parameterization())"
   ]
  },
  {
   "cell_type": "code",
   "execution_count": 28,
   "metadata": {},
   "outputs": [
    {
     "data": {
      "text/html": [
       "<a class=\"ProveItLink\" href=\"../__pv_it/demonstrations/4b224b6466a73ac4a04a364117d9eb45f3a2b3b70/expr.ipynb\"><img src=\"data:image/png;base64,iVBORw0KGgoAAAANSUhEUgAAAUYAAAClBAMAAADSXklbAAAAMFBMVEX///8AAAAAAAAAAAAAAAAA\n",
       "AAAAAAAAAAAAAAAAAAAAAAAAAAAAAAAAAAAAAAAAAAAv3aB7AAAAD3RSTlMAIs1UmauJMnZmRLsQ\n",
       "3e++988cAAAACXBIWXMAAA7EAAAOxAGVKw4bAAAH9UlEQVR42u1cf2hVVRz/3r2392t32ytMAqOt\n",
       "fwJLdERQEOULZ6RpLemBsWIaFQnG9oeg/+RGqCxm+aigSGGDfiGUDnNYWO3+UTbJ0iiQIHIWUbbA\n",
       "beaPOfR1zv21t+2cs8/xeXHS+cAuvN0P33vuOed+7z2f7/d8iXzcSLMfi3DqzmI+f2cbTLe78k9a\n",
       "a0ByV7GvuS8rPhcratzPEFHleZj92naKrSyg7FGi9BnxqXhLFr6odYEo8y/K/vY4OzyGWk8y2/So\n",
       "+NzaVnzw0qwP0xdQ9kKHHfag7BQfn73CXrc6djTAbawcJqo4CZIT7sBtQG1XMdtUJ5y9cVoMzxiq\n",
       "6SX7abTb647x4zeo7dpedmhvEp16l9pL2j7D9ds/7VxVQNmtHZN/z2Sb07vDtiRLTuWojrX9cL33\n",
       "67jazo4sxU6h7BP+04La5vfQ0mO/7v2snril1P7Gll5Kdh6DxuNL3j1tIPu0e3RQ2/38cJk2vTrt\n",
       "zACbCMxGDLNzlg9HB8g+4XrfNtT2OPcbY0T3TzuTY706GLTR3qJ+xJNj7nCAbNczJmDb3KV93xu0\n",
       "cWBJeCbDnoCK4cBOPFavdmEjzNYoyq7jD8F62DZ3j/soaGPurvDMrdwxjQR2jiRySjsVrMf3LEDZ\n",
       "MdbrHziwbdZTH+eCNtrOs+HbqriAYv2ja4I5U6F0lZX9Z/OrPiHC2ERf9T3Rg7K57YMPUtiPNH/6\n",
       "PXt2arGXa5TsoI0jIjs2c5+bCb1qZGzexkNs2g9Oe2k/c64j+TvRVuzrJ0I2zV30Am1uoFST+H5F\n",
       "k0DeOxGyqUE2ez+q+HAQNxMlO+PcIZkZhfgWB7cTJTtND68gA4NZC6MBGA3AaABGAzAagFQDsJ/P\n",
       "O7gGALJ9DQC27WkAh557SqwBxCkOLYI9DQBk+xoAatvXAHK0UqwB1PZYkNfzNACQ7WsAqG1fA7hI\n",
       "dW1CDSDtuHZADQBk+xoAatvXAHZ5bRRoAJQ4pqEBYOxAAwBtBxoAvSjRAOglR0MDwNiBBgDaDjSA\n",
       "5C8SDcD6XEcDgNihBgDb9jSAeY5EA5hDN2is06NkWzkrK9QArAMbV+Dr9CjZNG/jBkeoAdQUi8P4\n",
       "Oj1KNp0uFo0GYDQAAwMDAwODCPHTrGFXyz7X7VEdM1Gy6ah02eNo2YmSbZtJbXA94Lp4rq8D/2hg\n",
       "YGBgYBAN/t9JAAN9+cJckJvqH88ffFxyMrokgNRfDt39M8quZV873ZIgU2RJAPYXrMfjI6htHnSN\n",
       "D4rPRZYEUPEPO2QGUds86JoZE3dNZEkArdxuEv4W5EFX65x4qKNKArAuuQMODxIPuibPCk9NTgLw\n",
       "kJTOmclJAEp2QjwnZG12g67pc0K6txFgyse6zJC/EQBiV4ufFlkqgBt0rbwoontJACi8JABwXgxr\n",
       "aQ5uTkqt8AnzNwKA8DcCYCsnt433wO6R91S38NHIeRsBPBx6e63b7iWyOeNvBIDYnmcM5rq9bht3\n",
       "w/JUAO4e7SES0MMkAPfED0nXbkkAfsqcCZIAEDb395Rw/F/fZdv5ReWpANw9VoUnS+lhEoB757kk\n",
       "79KSAPxUrzzoJwFAbObTMuuDH41eYFieCsC+GjITy/ASepgE4M3yHj8cK4mPhkkAEJvsR/LLwx9/\n",
       "+4FhWSpAczHfvD87M/1otmqXOzbQO1aLbY/QZ0fcRwP6OJDTa7Ltu8UBeKFv0WKfTF7cpZEKIKBb\n",
       "jY2Nyymz7N51igD8FbLnMHYPvffGtgKSCuDZnoneMGOyyRWzNVMBpHR5AL58tl4qgJyuF4DXY+ul\n",
       "AujSDQwMDAwMyoTJA9CByQMwMLhKMHkAV8c/GhgYGBgYRASrfva3MQx+zIw0l+0P4B8TOtUAlJkA\n",
       "i/E28sgrtcCxVL1qAKpMgKUjeBv57tC96HeJXjUAVSZAYi5eJoG62/CIoWY1AFUmwM2pM3gbW/il\n",
       "wZ7RrAagygTIxcbwNg4RfX0cnRd61QAUmQCZhuSUtiseieR459b5KLt1+pxIKpooyAQI6HGyprRd\n",
       "0U888vpAAWSfmD4nqhX3L8gECOhdjUvH4eGoYo9dAn3ETutpFPJMAJsNyCW4jbVNGgk+QUVA1LY0\n",
       "EyDO/n4levOtzqZX3BeIctd+e8EdDowdVANYtmlraqfbVGmGQeAe7SERfTfx+Lb9zin6w4sgKnft\n",
       "72CXba8H2X41gMN7CjVNXuRTmmEQuMeqegHd4uPfn7UG6uk8PcT/o9y1v5D5gd8ckO1XA7jlZapt\n",
       "i/O3tjxngCjMBJhGt/tHHbqveDtVdiQH6UfvE0P+gm3muYVscDF2UA1gNW2mam9KKMKuYSaAlF7T\n",
       "luq1ht1ZAITq9dh/UhfVea4O+TKQ0utY36R7c2CoXottDbOu2RknMGdATn+fKrLWagfcta/FzjTR\n",
       "bXTTdiRnAKNHucdfL8PgmlQE0MsZuDYVATS3+JuKAAYGOMTbE1Tl+Mpd3GsKByTdnqAox1f24l5P\n",
       "OJBuT1CV4yt7ca8lHJB0e4KiHF/5i3st4YCk2xMU5fjKX9zrCAck356gKMdX/uJeRzgg+faEKeX4\n",
       "1Gjt0PIkAuFACdH2hGDBM5H6PdOiNKvVRoFwoIRoe0KgB9HliBb3OsKBYntCUJI/ksW9jnAg354Q\n",
       "luSHEJT7B+ELB/hQl2xPmOoe9+n4ZFoPX9QTDuDv74JEoQ/L8WHvqqDUH+jxXeEAZU/anlCCiXJ8\n",
       "GPzFPYZAOABfs5O2JxD9B2NBZbCE/ljAAAAAAElFTkSuQmCC\n",
       "\" style=\"display:inline;vertical-align:middle;\" /></a>"
      ],
      "text/plain": [
       "ExprArray((A_{1, j}, B_{1, j}, C_{1, j}, D_{1, j}),  \\\\ (A_{2, j}, B_{2, j}, C_{2, j}, D_{2, j}), ..(A_{_a, j}, B_{_a, j}, C_{_a, j}, D_{_a, j}).., (A_{m, j}, B_{m, j}, C_{m, j}, D_{m, j}), (D, C, B, A))"
      ]
     },
     "metadata": {},
     "output_type": "display_data"
    }
   ],
   "source": [
    "ExprArray(ExprRange(i, ExprTuple(Aij, Bij, Cij, Dij),one,m)\n",
    "          .with_explicit_parameterization(),\n",
    "          ExprTuple(D, C, B, A))"
   ]
  },
  {
   "cell_type": "code",
   "execution_count": 29,
   "metadata": {},
   "outputs": [
    {
     "data": {
      "text/html": [
       "<a class=\"ProveItLink\" href=\"../__pv_it/demonstrations/4bbed1d74c317fa24f2dffd9c6e8f5e5b97b2df70/expr.ipynb\"><img src=\"data:image/png;base64,iVBORw0KGgoAAAANSUhEUgAAAUYAAAC+BAMAAAC7T7sDAAAAMFBMVEX///8AAAAAAAAAAAAAAAAA\n",
       "AAAAAAAAAAAAAAAAAAAAAAAAAAAAAAAAAAAAAAAAAAAv3aB7AAAAD3RSTlMAIs1UmauJMnZmRLsQ\n",
       "3e++988cAAAACXBIWXMAAA7EAAAOxAGVKw4bAAAIw0lEQVR42u1dDYhUVRQ+b2d23szs250pVAKj\n",
       "3QgKa9ElhIIoJ1wrTWuTBow1VqM/w9ghBIXI2UJlay2HCoxW2KVfBNPJXCys9hFpK2oaBRJUOxah\n",
       "tsX++Lu76XTv+3N+7n17rvqcke4HOzDzPs6cuT/nvXfO984CWLgWyh8z8NTObDx+WwJN1zrijylL\n",
       "kOSObE9zT5R9zJcV+D0DAJVn0Ow31oNvQQrLHgEInWAf8rdE0V+qnAUIn8Sy9x0mLw9jravENjzE\n",
       "Pra0FT95ITKGobNY9nSdvGzFsoN0frYxR11p29CA9rFyCKDiCJIcMCZuBdZ2FbENtczV64dZ6BUD\n",
       "NWnQHscOe+0h+vod1nYkTV6STaxD70Myx/cJvj/5efvCFJbd2pb/fiLblN7l+KLmHIpBLfF9b535\n",
       "7rC7nQ1R8B3Hsvut3YK1TX9DS7f2pvm2+sJPCu5obEmD2n4INR9f0+FJINmDxquOtd1LX87DqteL\n",
       "jvSRhUBs+HB2TtHpaEOy+43om8DaHqdxYxTg7qIjMTKqGdtHbY37FldHjelAso3IGEDbpiHt+7Tt\n",
       "Y99s50iY7ICKIduO31fnHsKGia0RLLuWboLlaNs0PG4H28fY7c6RG2hgGrbt7A/EXO1UkBHfWo9l\n",
       "+8iof6SjbZOR+iRm+6jpTzpnq2w9+HpHlthrpsI1VFb2noov/AwAxwb4tufRbiyb2t51LzjjCNOK\n",
       "f7NpJ4I7uXrJtn0cZtnRSPhcDdhv9YxNfdxDln2m6KT9xOk29Q+AtbirHw/ZMGXGs7C6AYJN7N/L\n",
       "WgT80fGQDQ281bul4uMM3oyX7LB+K2dlpPxrdLwdL9kheGA+SEiULWQOQOYAZA5A5gBkDoCbA9Ce\n",
       "juv4HACSbeUA0LbNHMCepxazcwB+8KNugs0cAJJt5QCwtq0cQAwWsHMAkW4FFfXMHACSbeUAsLat\n",
       "HMAY1CaYOYCQbthB5gCQbCsHgLVt5QA2mT4ycgAQOCSQA8Cx7RwA0radA4DnOTkAeEkXyAHg2HYO\n",
       "AGnbzgGov3ByAMqXIjkAFNvJAaBtmzmAqTonBzAJrhG4T/eSrcSUKDMHoOxcOR9/n+4lG6auXKEz\n",
       "cwA12ewQ/j7dSzYMZrMyByBzABISEhISEh7ip7JhV/Mu17URETNesuEg97ZHF7LjJVuTi1riasBV\n",
       "sa+vgvgoISEhISHhDf7fIoC+nnhqCpIb7B2P73qEc9A7EUDwmA4zf8ayI+Rqp4tTZPJMBKB9RUbc\n",
       "P4y1TYuu/gz7mGcigIq/yUs4g7VNi67hUfbQeCYCaKV2VfS1IC26KqfZU+2VCEA5Z0w4epJo0VU9\n",
       "xTyULwIwoXLXTL4IwJUdYK8Jns9G0TV0mkk3HwQouFjnGbIeBECxq9m7hScFMIqulWMsuikCwMIU\n",
       "ASDXxZBQzsHQpESYO8x6EAAJ60EA3J2T4eMd6PBIR6qLuTVi5oMAJva8s9TwezZvzVgPAqDYZmS0\n",
       "17q2bB0Nw3wpAA2P2gAw6I4IwDjwg2rYzSnAF6wZWwSAYdN4DwHdencgmqRfypcC0PBY5RzMpTsi\n",
       "AOOXx1Q6pDkF+MKonLFEACg2iWnh5fabRrMwzJcCkKuG8IXb8By6IwIwV3m3VY7l1EcdEQCKDdqD\n",
       "8XnOm7+swjBPCtCcjTfviE5MPxit2mTMDeocK8TWhuGL/cbWQF0c8Ok10eRmdgGeGVuE2EfUsU0C\n",
       "UgAGXWlsbJwH4bl3LnMpwF8kexJhd8MHb61LYaQApu2J6A0Tik0umi0oBeDS+QX4S2eLSQH4dLEC\n",
       "vBhbTAogSpeQkJCQkLhESB2ACKQOQELiMkHqAC5PfJSQkJCQkPAISl35++gUPyZGiKbtd+IvJkS6\n",
       "AbgqAWbhfaSVV2hB11LFugG4KQHmDON9pE+HbsNel4h1A3BTAgSm4NskQFcCXzEU7AbgpgS4LngC\n",
       "72ML/WrkyAh2A3BTAsR8o3gfBwB2H8auC7FuAC5KgHCDWuC7y5ZQx9vXTsOyW4vXhOriIkMJYNP9\n",
       "oBT47jJOtPJ6TwrJ7i9eE9Uuv5+hBLDpHY1zxtHTUUW2XQC7xQbFchR8JYBGJuQc2sdIk4DAx+4I\n",
       "iLXNVQL4yd9vAG9vbG961TiBuD61n0wZ04Fj290A5q5aG+w0XOUqDOzwqA2w6JuB1re1d4/Dn2YF\n",
       "0fWp/Q3ka5N1SLbVDWDv1lRNk1n55CoM7PBYVcegK3T+e6NKXx2cgfvoJ65P7U8nceB3Hcm2ugFc\n",
       "/wpEEn561uZrBgAcJUARXesd0eGu7M1Q2aZm4EfzEoN/gm2m2kIyuTi23Q1gEayGanNJuJRdHSUA\n",
       "l16TCKaVIWMVIEr1Yuyj0AG1ZqjDXBlw6bVkbELpGLJUL8RWhsjQdPoBqRng0z+EiqiySEc+tS/E\n",
       "DjfBjTB5PUYzgKN7+Yy/mMKgJB0BxDQDpekIIPiIv+wIICFRFujMHoMD528qbydbGsD3aZkPZDIN\n",
       "k8rInY3MzNGwxjzFvlwaH+uZ54aTu5nkmSVxMcy+JBlczPy4uiQ+fqNjb/uN66N0CVxUb+FsbI4e\n",
       "vkO/8j62/vOrifw7V//kggcO/Batf+zK+xhibhm4X+WkPN7rLsFkv8D6MJBg5Xjo0qgvxZ4JLWF8\n",
       "+FpuF8y8uBktycZmbI59xL/Iv+UTH+G5ok9eHDwK6oxzrLzFM/J6S0JCQkJCQgjsFgVuLfkZECrw\n",
       "C4oHgNuiwKUlPwNiBX4x8QC3RYFbS37GVZhYgV9IPADcFgUuLfkZECzwC4kHgNuiwKUlP+OeQLDA\n",
       "LyIeAH6LApeW/Iy5Eyzwi4gHgN+ioKAl/wR3rm1CkYQhHnAFq0UBhdWSH2ekX+wWiiEecAWrRQGF\n",
       "1ZIfB9ECf0ZAPODSosD+t3y4cTSCGL7ALyIe4LcocP4tHwr2v/xDwhIP4Kc6p0VBYXjcLhKTYTn6\n",
       "S03xAJad16IgL5Fgt+THnavsdv/IiG+IB7DsvBYFObjQkh8Hq8CPgy0eQJ5m81oUAPwHZzWX3N84\n",
       "iMcAAAAASUVORK5CYII=\n",
       "\" style=\"display:inline;vertical-align:middle;\" /></a>"
      ],
      "text/plain": [
       "ExprArray((A_{1, j}, B_{1, j}, C_{1, j}, D_{1, j}),  \\\\ (A_{2, j}, B_{2, j}, C_{2, j}, D_{2, j}),  \\\\ ..(A_{_a, j}, B_{_a, j}, C_{_a, j}, D_{_a, j}).., (A_{m, j}, B_{m, j}, C_{m, j}, D_{m, j}), X, (D, C, B, A))"
      ]
     },
     "metadata": {},
     "output_type": "display_data"
    }
   ],
   "source": [
    "ExprArray(ExprRange(i, ExprTuple(Aij, Bij, Cij, Dij),one,m)\n",
    "          .with_explicit_parameterization(),\n",
    "          X, [D, C, B, A])"
   ]
  },
  {
   "cell_type": "code",
   "execution_count": 30,
   "metadata": {},
   "outputs": [
    {
     "data": {
      "text/html": [
       "<a class=\"ProveItLink\" href=\"../__pv_it/demonstrations/3c1fec3793f7797fc624e8f571acd5fa01dd1f010/expr.ipynb\"><img src=\"data:image/png;base64,iVBORw0KGgoAAAANSUhEUgAAAXoAAABgBAMAAADhtKTqAAAAMFBMVEX///8AAAAAAAAAAAAAAAAA\n",
       "AAAAAAAAAAAAAAAAAAAAAAAAAAAAAAAAAAAAAAAAAAAv3aB7AAAAD3RSTlMAIs1UmauJMnZmRLsQ\n",
       "3e++988cAAAACXBIWXMAAA7EAAAOxAGVKw4bAAAIoElEQVR42u2bf2hbVRTHT5ofL0lf2ihaBhNb\n",
       "/1H2g62IoDK0GWbi5qZxGJxOaQf+GigLUtz+sQ1jG5NuLvgDxQ1a8BeCbkVXp0zXh9ha2dSJhSGI\n",
       "6yaiU2Fd59ZtZYv33vfrJrm/3kuLLfbAsiznu/NO3rvvvns/OQcAW6AJBCb2UnY1eDHlsDKrGfXv\n",
       "pWzxJB5UbNH+iezBB6x/tAgDtSgeJlj0lEFLFdlDPbpw3c3m+2VnREqx17VQa9JLAqphmdaZR8cb\n",
       "IW8jDeMCodhL2boNOQ/HVw7LtF3oUPGL5O2c6FmBUOyl7sL8rmYPx1cNy7Z+fMDz5G0qeFEgFHup\n",
       "gQMtBQ/HVw3Ltgn0RzuH38WbtfPu51qZTuyl7C3obCv/jC8vDYvNy7DTLqCX2HnzpAXQt9BfNh2J\n",
       "XPkpxd7BJx5leumTCY2Z8s/4cjMsbce8zJj4nglfwm+70svQhdi0ky00vSlYxfB932S/oID70629\n",
       "zAi0qiysX6vFs209nnN0NPlcRn/fwdRZ3kvQyDiNiZT9AjCEwh1lhqBVZWF9T/f4PHUXyDUE+MXJ\n",
       "fuiu8itMvHvM7Mu9JQMHEiP2PwbfWAdCuRX21de3Z148QL7OFi8TFp7u9b/wu/etZ7yZfermUp3t\n",
       "hWdZXuouLFDPfv0H7YxYbobV3zwFv8FW8nWCXpY9eLqvxf8hgE9Yf9LKXjceL53Eba/2M8NL2fV4\n",
       "NNpPz1BKGxHKrbCBoSYYh7vxJ0ciKQ/Zo/MZH8ZH6B8zYEnxRmfczysZno53rlHppexwcSEE+8es\n",
       "KbOuJ5oRyZ2w4Tz6mj+aizb2w2KI9eHaYnbt/tJliZU9e/URSAWSfG/FLJOs3WOoyOty0d7AKJkP\n",
       "6tmLpM2KVwNlP4hGyAjTOXdju8H3ViSV7HxfSd6Izn6sN6Wja9bBvkqn1W7mhsVPQ0czRDNM7+li\n",
       "UeClrlE6nV4B8eW3rVeSvwM1ycAaQ/sVzHu3ckS+Nl/9bmjmDT8FbzXyIOcWGbqpfeAh1ePFjfkd\n",
       "fr1VyT+oeY85yG6HdnheNUgM7lnp11uVvBDaYrA97TCTbTb72exns2fMDf3nsqsP+PNStruYzS5Q\n",
       "3t0ph+VlP9SXLTSQ5zpa6rdyjyv2UoaW22F1yKEalpN99A8DbvmJLDbQUn8fd30q9lJrBLRRjv+j\n",
       "nL1qWHb2+hfoi4fIGrAbvevO8/672EuNBXTeYxeUs1cNy86+5m/8MCeP51b0ZxEX4om9roXRxqrm\n",
       "hHL2qmHZ2W/AK08tZQ3YgWOi4TxwTG0g64+pMxnVsA3MUUo29Do+mjaxfes8LkASe+mN8qfbVxeU\n",
       "aVRZWI80KuKO0Cga/HcWeDTK8spp1K4kBE8p0ygrrE8alXD3bLVo8EfGeTTK8spp1CE8HHOqNMoK\n",
       "69PqCLzQyYYyY04WbBpleeU0CnM99iTColH2Qf1ZgmR/KxmwBRMJsmmU5ZXSKA0T4dYeVRplhfVJ\n",
       "o8yZvs0asNDZxKNRtldGo/BA1saUaZQZ1i+Nwk9GiJD9zCI07580ODTK8cpoVA0ayHsXqtIoK6xv\n",
       "GtVSgPgzFtnJLmgGNo1yvRIaFcarro+du0pCo5ywEhoV67+S14+frBxT+r3ZFTDtaVT4LMASpd/y\n",
       "piON0ibQeZu5NGpxcmDm0ijoXplRPt60o1FQd86YJID0X9CoiO/n8XSw8OWZnP1SZ/ExAy2U6+yd\n",
       "udk/RS/lZ5pFe6yf80XmkB0mfOjKPhxoUziUMIovuf4JeikaYvblkh2WvbQDgqsUnjriKH7k2qEr\n",
       "OXiuOCxkXxTZYdhhvN28X75QEkepVs5nXxTZYS3E8YXbKw8njlKtnM++KLLDeNadFcBEDh9SMY9y\n",
       "LvuiyA5rCUvKPr6WX0lhlGrlfPZVvpIoBUgb8mrIiLMe8SL39FVs9mU/Dtg06rh5v+pPZg0hMuI8\n",
       "VLzIvdRGOezLJjtsGnWavBohCB3lcSZ9rJQPqdAokVzJbPblkB0mjTpO9g65+p7AOI8zwXApH1Kh\n",
       "USK5ktnsyyE7TBpFZvoIxAySPR8ZUXwI69ZvSyrJ/dZGOezLITtMGoV/4gBMTiJHhciI4kPIvk12\n",
       "JlXkvmujXPZlkx0mjcIln+/ipF4wxMjI4UPY0iYhkMp90yiXfdlkh0mj4Ku+B/H+IPA5Fxkx+NCf\n",
       "FiGQyuW1UQ1y9iWnUdfAVVxkVJnaGfjsiJJcXhul+muziEYFDmxcyS9gqrAT2qU9SnJpbZRq9kIa\n",
       "VVcsjvKREX2N0ul0D7z9yraCklxKozz90i8ESEE+Va1Wztd6yF4MkLjIqHo5X+shezFA4hcwVS2f\n",
       "rY2azX42+/9D9mZfYFexb20f95Eu9lKrPrp3btLkompSqy8QrTRj/N4nsdc1undu0uSD89vDnEpe\n",
       "qy+QdP/cx90HCL30Pjnv9M7B5Mm/3PIIb4Nj9gWS7p99vAWC2Evvk93eOaVttZqcX8Fu9QWS7p/G\n",
       "No5I7KWM6p1TMVX5Tt7uzOoLJN0/nbyf5sReytzeOSVTlc/hDRyrLxCPQOhuY9Moibfs/qiA7V7k\n",
       "mqeZ1O4LxCMQ7c85tVGWV1obRfXO0eTDgzzhCabZfYF4BMIVXm2U5WXWRhEOZXEmt3eOLdPHKm+n\n",
       "+hHwa05fIB6BsYu82ijLy66NGnaRlNs7x5ENV95O3QXf2dt9gWQEftfLoVG2V1ob5fbOkaeMtDbK\n",
       "lMeWb9oa3Z0Ta9kDx+wLJCPwI+DQKMcrq41yeufIWJHXRpnyb/YW6jLmVpqvZW0C7b5A/PJhikej\n",
       "HK+sNsrunTOnsxRBE3L5dZuhPhdqE2sZZvcFYrBzcCmPRrleSW1Uae+cSm2UKV8DHZBoFmoZVtoX\n",
       "KKdRU1QbBb9DFzRqoB7aD42aqtqowCg6+7tDoB7aD42aqtqoeAZugGt3KGmrpFFTWBvlNbQPGjWF\n",
       "tVEeQ/uhUVNYG+UxtG3/AubodmnNtD9/AAAAAElFTkSuQmCC\n",
       "\" style=\"display:inline;vertical-align:middle;\" /></a>"
      ],
      "text/plain": [
       "VertExprArray((A_{1, j}, B_{1, j}, C_{1, j}, D_{1, j}),  \\\\ (A_{2, j}, B_{2, j}, C_{2, j}, D_{2, j}),  \\\\ ..(A_{_a, j}, B_{_a, j}, C_{_a, j}, D_{_a, j}).., (A_{m, j}, B_{m, j}, C_{m, j}, D_{m, j}), X, (D, C, B, A))"
      ]
     },
     "metadata": {},
     "output_type": "display_data"
    }
   ],
   "source": [
    "VertExprArray(ExprRange(i, ExprTuple(Aij, Bij, Cij, Dij),one,m)\n",
    "              .with_explicit_parameterization(),\n",
    "              X, [D, C, B, A])"
   ]
  },
  {
   "cell_type": "code",
   "execution_count": 31,
   "metadata": {},
   "outputs": [
    {
     "data": {
      "text/html": [
       "<a class=\"ProveItLink\" href=\"../__pv_it/demonstrations/9f0be0b40b7957ddbced5b477897bd43f48a7e140/expr.ipynb\"><img src=\"data:image/png;base64,iVBORw0KGgoAAAANSUhEUgAAAO4AAACaBAMAAABcc2nGAAAAMFBMVEX///8AAAAAAAAAAAAAAAAA\n",
       "AAAAAAAAAAAAAAAAAAAAAAAAAAAAAAAAAAAAAAAAAAAv3aB7AAAAD3RSTlMAIs1UmauJMnZmRLsQ\n",
       "3e++988cAAAACXBIWXMAAA7EAAAOxAGVKw4bAAAF6ElEQVR42u1cXWgcVRQ+szvZ2d3O/igahIq7\n",
       "vgi1pQ0i+CDaFVvxp9U1uFCJkioqPlQyD4X2xWSRBiKpdhFBMEICoiJoGrShQtWdB60pLbpgIQii\n",
       "qyJaKjRJbbZpqOu9M7NrZuaeM7rrGkvugUzIfN/9mXPuvfPd3D0LsMKuhtWxLRQYK18o9B4lCPpo\n",
       "4VFlN46P1qf7ptMCIFwne5WcAug3cPzlgxDeWSIqWGCdPy+4r/anqXYzRYDDORQ+OcsuDxE1aBfZ\n",
       "5UEB8MSAQbU7ztDxIgpvNtllkigfrbHLYb9DlOKhHqrdfl45+jwRy4N7ifLr5rjT/ANAha1UdOAs\n",
       "wOezeBQq/PoFUT7FxgcM5X3334QhYjSCtjwyvAGHB4pBs2WIM8b9TeQgk6fCMw9wJ+6Q79NB7R7i\n",
       "o6d/wlfvkW39U1R4qiyINRQ+Z11NooIyv/zhuz3DIlChwsOcEbuIP6+1AlATYpkvPksCN0OiSoWH\n",
       "+bjrEgpbMzcCAdP3S59H46za0BwVHlbxUJZcVWBP0PT9wHf7Bh7CeaLcZta3H/H4hZkH36bCyx/q\n",
       "fd9yd7K+CcLlBXwi9dULhY3UuvLZ9CMTBNzFXivH7gJp0qRJu0JNya5Ou+SbCMb42my0Ltmj5eXC\n",
       "sYdFyFayXS7pumrQumRPMXeOi14q2+fJKLBXdvx3aF2yc0mnCkRFpLtGbo1qpMQJluxc0sX9Egeu\n",
       "i56n2u1iUQj9AK1Ldi7plEX//Vx4KWBHpj9utCHZuaTTLvhux3u0FZ3R/OH5aKR3xagxAiS7IZR0\n",
       "sUUfQQWFdUZ/xf4rYQgkXfgMwAlnks8ikh3DbUnHtKiXMLptO/PE/pcwN33KH8rQRiqkZEdxe0eW\n",
       "qnoJOvPTZfb7DqxdHhm2Aw1XaMmO4faObLzkJajs57tmuzN3+8KzZG9s7GL6gR5EsmO4NX31sz7C\n",
       "u86/Nux2c7eIdmTaQqOYGs4ikh3Drem7LuslKHwhKaeddnXzKd/izQiTmxrFTkVyiGTHcP5Q8dPg\n",
       "IejlBRNur9/UjO8GgeLu/bBZDEIlRLJjOJP8fUfSOMFpF12qnWKpdIs4RmDtHmeRrBLFdPayG2wV\n",
       "RwjdW56FwR6IYpt+5cnFovYTwHCLOEnoEYTP1WV//P8RjhDi5s2DZLH3Qu9U28ERQgzu3UEWK6kH\n",
       "zHbwYII0qdulbpe6Xer2/4luP/70Y6Ru158pmJRuR/GGbvcRbN2eg52kbldBrVC6HcUbut1LcHT7\n",
       "JcgYlG5PTSg1SrejeEO3ewmObn/DbhfV7THTKobqdhRv6HYvoaHb4Tlat0OkQup2DG/qdjehqdu1\n",
       "b2ndDs+bpG7H8KZudxH+0u3rTVq3Kx/Tuh3Dm7pdTFBySprU7dfAVaQuD8IRwvp9e01KtytH9+2g\n",
       "dHkQjhHO1eukbk/W63OULg/CSYLU7VK3S5MmTZq0NWFfBfyvQV9oD8cIiVxAudNt4sEEadLk/JXz\n",
       "V5o0uW7IdUOaNGnSVtuuzEQrmJkulLpxuFOJVtFfTbj1G6KCziRa6Z+wPqnEAXKHEq1Cv7FLvEr4\n",
       "oyOJVjDAC2vEy7sziVbKZcvZhMf+dqKV+wRYkGi1spGI4ADe3QlBopVF8CVauU+ABYlWK58+IRhR\n",
       "bu8IEq04oc1Eq6T1EQydqKAziVYJq93biArIRKvYffuHo2OWgz0nwE6i1auvjeRftJYt9wmvPXN3\n",
       "o3gz0cpDcBKtTkyWknn7jM5zAmwnWumvn4Gf7SM29wkv/1AJREwUbyRaeQlOotX1L0DKUPmg854A\n",
       "24lWykwWanAPv+E54WWTML4HcNxJtPIQmolWu2AQEraDXLOmkWjVVdSq8LVdk2t06w8U7gccbyZa\n",
       "IYRfYBQy9swVrrVJIzqlzFkDQHjCG4QjBGWOPfGYin9yM8M6HJvKoSe8QThCiOfhRrj2IH4C/BaE\n",
       "0souEz3hDcKDCPIE2G3yBFjampDv8nsS/hP5Lr8noVX5DkHy3bVbKQbNFvk9Cf+GfJffkyCavmv2\n",
       "exL+BBkGArryInkIAAAAAElFTkSuQmCC\n",
       "\" style=\"display:inline;vertical-align:middle;\" /></a>"
      ],
      "text/plain": [
       "ExprArray((A, B, C, D), \\\\ (A_{1, j}, B_{1, j}, C_{1, j}, D_{1, j}),  \\\\ (A_{2, j}, B_{2, j}, C_{2, j}, D_{2, j}), ..., (A_{m, j}, B_{m, j}, C_{m, j}, D_{m, j}), (A, B, C, D))"
      ]
     },
     "metadata": {},
     "output_type": "display_data"
    }
   ],
   "source": [
    "ExprArray(ExprTuple(A,B,C,D),\n",
    "          ExprRange(i, ExprTuple(Aij, Bij, Cij, Dij),one,m), \n",
    "          ExprTuple(A,B,C,D))"
   ]
  },
  {
   "cell_type": "code",
   "execution_count": 32,
   "metadata": {},
   "outputs": [
    {
     "data": {
      "text/html": [
       "<a class=\"ProveItLink\" href=\"../__pv_it/demonstrations/40de1117a09fe7b20ad5b1dea0abf8b4242dfb0f0/expr.ipynb\"><img src=\"data:image/png;base64,iVBORw0KGgoAAAANSUhEUgAAAdcAAABuBAMAAACHGET7AAAAMFBMVEX///8AAAAAAAAAAAAAAAAA\n",
       "AAAAAAAAAAAAAAAAAAAAAAAAAAAAAAAAAAAAAAAAAAAv3aB7AAAAD3RSTlMAIs1UmauJMnZmRLsQ\n",
       "3e++988cAAAACXBIWXMAAA7EAAAOxAGVKw4bAAAGzklEQVR42u1cXWgcVRj9Jrvb/ekmWf+KEHHj\n",
       "iyCWdt8lZh9aRbAQCoGASqKg6EPpgkL70mYRIpEqXaQQMJUGpA9CrQGF+iBmXwwtggZc8KVIaila\n",
       "fDCNTVNbZZ2Ze2d359757jf3brapcA+EZHfPuSd3du78HDgD4MMZBjVIAoYH4b5D31q3BAx71R/P\n",
       "N8fHn67gn2eXNsYPXjDwVQhHqbmMGk420SQIfwCkNhWfDywCTFYMnHHh/huElCQgSE4W1MvjNkDu\n",
       "poJQrAJ8UTZwRoU7dm2qlSQBw6uH1d9K1h03e1tBOOPqz1QNnFHho5m/1EqSgH1x1ZMlJSHlLo++\n",
       "KwrCpPuzp2BgjQrLib/VSpKA7cUwWqNWVv6VinpNf/eziTUmzJXSt5RCkoDhU5ieUhKmv549qNoc\n",
       "6buzM0+ZOKPCJDgbAPmP/BeXhtWE/Bvj9diWZSiORQ/JcbIAiesBg/8Hnci4B8ZnawbWISF80l68\n",
       "J/btvwtw9EN/i8yuyMpOQhKSYcaP7j+aX+d/CI5f7ZtcjB6S41v353CFM5hBCDtX3aPjpsq67Y8L\n",
       "YWAheD/vTvtf9/cIOzPK/1mIMLjghI/M/d7xvRH8EcJFl74SOWSADfCPmZwxIn0+OMaO1grrlj8u\n",
       "hGLHTgrwi2qyIUK27mzG34uhfzUY8tTcrLQ10t5xb3IBn+y0u6BTdwysQ0KYd97j73/Gr+rQyYYJ\n",
       "sGMlpmGuxq4z/SHzH1+HK1ErK70O+GTdNQ3Tw/rWgnDioR/YWchxtz0sFfDJCgQ4Fvco8bi3dm7w\n",
       "IZ2Lw/CPdMntDn1+t2Kye9xN9mtd31oQ/l5KswW5tF6HZ5pPopMVCc43Mf2+b+6GxNL6FB8yVc2t\n",
       "ipcU3tX6l4BP9iXvPqEE2taC0Ln5vEhAd+Mw4WF4QPduwB9yoJIsV5SMiG+2W2u+2Bc/d+T3l6nJ\n",
       "LoNz4ciL+pPNT7lHxP63K0qGerJG1kyYqh7bEX5719434XjJee0WdtnNCAPNpubtnjdk+iqchcxb\n",
       "aoZnsLXWXLizkJqL+LBEqUtghkT3DFNrTJijjna5uqHhua4ZxtaYMEumHaZbt9Y1w9jaWGhhYXFf\n",
       "wBnuloDBhuRt2JBcSORsSE7ChuQebEiuRcD2YhuSd2C7QvLl11/2XuAhOSPoh+QqBQvJOQMPyfWt\n",
       "Q0I5JC/DAVCG5IygH5JLig6wkJwz8JBcYa0OyZlQDsnvQLECqpCcEfRDcknRARaSBww0JFdZK0Ny\n",
       "PikpJD+NTjZE0A/JuUIRkgdjoiG5vnVIGBGSwyEAZUjOCPohua9QhuR8TDwk17UWhHJInr4cPVmB\n",
       "oB+S+wplSM7HxENyXWtBKIfkQ/XIyYoE/ZCcKVQhOR8TD8k1rQWhHJI7ZacAqtyYE/STaqZQheR8\n",
       "zJEtt2ZCOSQfOvJOXRmSM4J+Uu0p1CE5Z+CTNbXmQjkk/7PZVIfkjKCfVHsKdUjOGXhIbmrNhTYk\n",
       "tyG5HgGDDcktLCwsLCwsLCwsLCzuIeRAX5dgLJQD/a2yxkaWA31dgrmw0StrcuSt2nr3ANtg3di+\n",
       "tdcACwsLC3tREfMc0NuLCqW4NxcVje27qGjYc5OFhYW9Ifif3hDYm3d7825hYWFhYWFhYUGWXB3T\n",
       "S1NjYQ9BlFzN27OEkGrP0gR9IVlyNW3PkkKqPUsTtIVUydW4PUsJyfYsSdAXUiVX4/YsJSTbsyRB\n",
       "W0iWXE3bs6SQbM+SBG0hWXI1bc+SQrI9SxK0hVTJ1bg9Swqp9ixN0BayJ0G2ITZoWXu2Dd5JpSEK\n",
       "JfBHTOLWIiF2g1YamTdoWcm1DalBy9qznRvnQOdLvD8rCiWw9qzCWiQIDVq8PysKgwYtfxJkx2k3\n",
       "7Bg8YrIF3kkNgPZnJaEE/ohJ1FoiCA1avD8rjVwMvii/5PrC0ZnMfCXCkbdnT83Njr3vP9LjdHiy\n",
       "ir1YEIoN2qA9i1pLhLgNWnlk1qDlJddL52sDY5mxCEfWnvXqr9dghr11KNa6EYVSg5a3Z3FrmRCz\n",
       "QSsLWYOWl1wfexcGK8kp2ZG3Z7366yY8x7bb5VgXMaJQatDy9ixqHUGI2aCVhX6DtlVynYDj0F+S\n",
       "HFvt2VQ1vQo/+e8NxTGMEAoN2lZ7FrGOIsRr0MpCoUH7G5yAYjrqKMEPZ5XMorPm7f+8zBr7/N4S\n",
       "Yg1ayrqDoNmgbQnDDVpnzd0M80n8MZNF94vJLpbzU34nVcOwLUQatKR1m6DZoG0Lww3a3Bg8AY98\n",
       "gDdoz0JfwZmop6/6nVQNtIVIg5a0bhM0G7RtoWGDNgGGoIU9K+8aN2jPmRqSwt6Vd40btDXTyZLC\n",
       "3pV3ufA/Nf+Rfq2teMwAAAAASUVORK5CYII=\n",
       "\" style=\"display:inline;vertical-align:middle;\" /></a>"
      ],
      "text/plain": [
       "ExprArray((A_{1, 1}, A_{1, 2}, ..., A_{1, n},B_{1, 1}, B_{1, 2}, ..., B_{1, k}), (A_{2, 1}, A_{2, 2}, ..., A_{2, n},B_{2, 1}, B_{2, 2}, ..., B_{2, k}), ..., (A_{m, 1}, A_{m, 2}, ..., A_{m, n},B_{m, 1}, B_{m, 2}, ..., B_{m, k}))"
      ]
     },
     "metadata": {},
     "output_type": "display_data"
    }
   ],
   "source": [
    "ExprArray(ExprRange(i, ExprTuple(ExprRange(j, Aij, one, n), \n",
    "                                 ExprRange(j, Bij, one, k)),one,m))"
   ]
  },
  {
   "cell_type": "code",
   "execution_count": 33,
   "metadata": {},
   "outputs": [
    {
     "data": {
      "text/html": [
       "<a class=\"ProveItLink\" href=\"../__pv_it/demonstrations/f71f971be68623e506497c39f8f3045c3d6b0f070/expr.ipynb\"><img src=\"data:image/png;base64,iVBORw0KGgoAAAANSUhEUgAAAlsAAACSBAMAAACAkxIXAAAAMFBMVEX///8AAAAAAAAAAAAAAAAA\n",
       "AAAAAAAAAAAAAAAAAAAAAAAAAAAAAAAAAAAAAAAAAAAv3aB7AAAAD3RSTlMAIs1UmauJMnZmRLsQ\n",
       "3e++988cAAAACXBIWXMAAA7EAAAOxAGVKw4bAAAJtklEQVR42u1dXWgcVRQ+02y62TR/ai1CxY0v\n",
       "grS0efNBYvchVSsWQiESsJIoKPpQumihfWkTpCmRWhpKoWAqDUgfCrUGFKogZl8MLYIGLPSlSGqR\n",
       "WnwwjW1TWyXOzL0zc2d35s45c2fNas8HadLs4Ttnzu79mXx8cwEErG4g4GHIAtmwrAhWLVCiN2eS\n",
       "k8AyuTwwsKGMDC7M3B7Ycd60Oi3LFkq7mpaz6BaJ5TeA5iVscMc0wFDZtD4dy9abBKLcUFcG7aKw\n",
       "WHcBWm9ho4ujAJ+VTOvTsKxet0Qgen13OYN2UVgKdnmFu9joUzbxqVHT+jQsj7X8geexRo/2mHeL\n",
       "xNJszxWrrmKjh+yvTcYDQMNSavqTMIpgy0QGY5HCYs8jba+hP4z2RPftZeMC41lae/J38DyfwMiw\n",
       "ebtILCNfju9ANzd/f3zsaeP6NCw5sG4DtB1z/3MxaQtWgmK/Fzb75s6U5agsiTjaBU03vGhZZyxa\n",
       "7GXruQkZ1vbWQCVVfSEW+FidxA73bb0PsO+I29XxuQSeL/qGpr2wEmyPivnBvq62RflDMksivrG/\n",
       "dpdltKgzHmvm7bVrSYblIDeXqsIQC3RMBa+02a372/7eK/ZDCVdwAaBzzgu7B8WoKaXdWYAveT8k\n",
       "siTiNrirlIzu1Qd39otl1A3rnLIiF/3ECkMsUAyNRYCf0O2y6dvnvbCT0e3CjEWF5fiJce02Ke8s\n",
       "RENTyHaN2LNc8z0ZVqhYS6kKDLHApHXIf+WMvCNBtat1QtwyeWG7UhUTYmn76AZcTZpH8ouAbJc9\n",
       "0cFItx+2ei5VhWGWwUe+9/YUlv0uw0wXsl1POOP6ph+Wv5KqmBCLdaEb/tLe0doVntuIbdcm+934\n",
       "ueKH7U831YdZfu3JezPXzGIFnl1+Cteu75Y3QtPM4rAXtj5VMVUszaOt87pNqnO3+zkg2/Wqczve\n",
       "44dZX6fqVpjFuvVCbQhu7vLukN0wq2QZbZ8FS0c5Vyqjo5M+XeHLWQsPGe2/xAw4/akV9cospV1t\n",
       "w7B+756KYbtsliK0v1dGRxPaNQvW+b0vm7Zr1v74719d/cK6zW/DgR7rjTuYu1MnLH8Nfl82+mOO\n",
       "ZDkNLe/go506ERCX07G8vGBSoWBZ09V8IvJl0s1zUyZ/JmyqY3RPJhXGsrSShtbZTIo5W7/o1koW\n",
       "BcazFEg8E5m0a6J+0YVMCsyGhcFgMFYaVjclmmVZlmUpLCzLklhYlqWwsCxLYmFZlsTCsiyFhWVZ\n",
       "EouQZaXEipNlpdxpKMtiRVMhy8popCwrSjOVZeUFRsiyQmJFyrJS7jSUZeNE02oIWVZGI2VZUZqp\n",
       "LCsvMEKWlRIrTpaVcqehLBsnmlZDyLJeNE6WFaWZyrLyAiNk2ZO4dpVcQVXKnYayrGRByrKexIqT\n",
       "ZUVpprKsvMAoWVZIrEhZ1pM7zWRZlwUty8qcSFlWlmYoywqWKFlWSKxIWVbKnYayrMuClmVlTqQs\n",
       "K0szlGUFS5QsKyRWpCwr5U5DWVawYGVZmRMpy4rSTGVZlyVKlpUSK1JnFHKnqSwrWLCyrJRYcTqj\n",
       "LM1QlhUsUbKsI7GiZVlH7jSXZSULUpaV0ch2icsxlWUFS5Qs60isaFnWkTvNZVnJgpRlZTRSlhWX\n",
       "YyrLChaWZTNhYVmWxMKybN1YGAwGg8FgMBgMRqMhVoaIxKUVyLkSFcayxIpcUXBFJ3OQcq5EhfEs\n",
       "bSSeTO71iTlXosIKMBgMxv8IvDKSWHjfVT8WBoPBYDAYDEZDIKNNf6Pcw9QdDb8Zpt0hhEDyrVqZ\n",
       "vC3/Yasszf26auFfTklzv5KMtalS0tyvW7JoFyklzf1KMtamSUlzv5KMtXEgpSS5X2nG2jQpSe5X\n",
       "mrE2DqSUJPcrzVibIiXN/Yo31mo2E7SUJPcrxVgbv5nQpKS5XwnG2vjNBC0lyf1KMdbGbyY0KUm+\n",
       "VZqxNg6klDT3K8lYmyaleJywi3en3W8aw6ww1grODe63NIZZJaVk0UD6VtUKNYZZ+bxjhTuFYTYi\n",
       "pWeYFb5VOfDd91xnmBXGWoFX5KVvp3ZLTSlZNJC+VbVCjWFWGGtVbqwlV5/SM8zKxwmLX4k88bYg\n",
       "73nHLq67/96jO0DVlJJFA+9xwmqF8bYg+bxjhRtryU1IWfQGhvs4YTHwx3fq2+U979j9EN4dcz7k\n",
       "WsNs9OqophQshW37DsbORvJxwmqFse3ynnescmsNs5EVRqUUhlnft+rgSOWgvl1nlPuXlistYmXZ\n",
       "RVwdQykFy8VzEx1d8bOR8K0qFfbqZp38YlWFWsPsJWRKYZj1fasOvoJj2nb5xlp3gE8UXEayYTaU\n",
       "UrA8/j50xs3Hnm9VrTC2Xb6xVq2QbJiNSukaZn3fqhzrW3XtCoy1Ykzn3OWNapgNp5Qsg3AuJtz3\n",
       "raoVxrXLN9aq3GTDbFTKKMPsAlzTD8bQfAgdDqWhYVayXIe+PCZcVthL4TY0zIqUUYbZK4Vp/HOM\n",
       "2yuTGTzH2GGZBWsBLj+DCbcrxBtmJbehYVY0JWyYtfr6+l6CPeOAMsyutaOn8i+OgolhVqR0WA70\n",
       "tPbDoQlETqdCjGFW5U5vmPVTNphhlmZqfdANs0RT64NumCXaUdkwy2AwGAwGg8FgMLIAuzZILOwJ\n",
       "IrGwW7Z+LAwGg9Eg4JWRxML7rvqxMBgMBoPBYDAYjMYC22VJYLsshYXtsiQWtsuSWNguS2Gpl11W\n",
       "9+Y1hl02FUvd7LKasdgYdtlULGyXJbEo3lUX2tNlFbusi3Sny1an1CLkXXWgPV1Wtcu6walOl61m\n",
       "CU6XDXlXIel0WdUuKy48wiybdHJrdUo9Qt5VB9rTZUN2WYgzyyZVWM0SnC4b8q66eyJNu0J2WQeR\n",
       "Ztmkk1trUmoR8q660FmCQnZZiDPLJlVYzRKcLlsSx7xu2zfWMllOape0yx4/Md7/gbvRTnW6bHVK\n",
       "nVnW964GOXXt8s6hDbjTnC5bw+KfLiu9q45ftb+lP6ldwi7rnAb7C4yJX9FPl61JqTPLet5VNWev\n",
       "fqLLL6qXk+Z02VoW73RZ6V11/Krl3HBCu6Rd1jkNdgmeF28E/XTZmpQ6s6znXVVzatol7bLK5aQ5\n",
       "XbaWRZ4u63tXB+EAtPfo2+XbZZtH8/Pwo/s7+umyESnjzbKBd1XJGd8u3y4bcKc4XbaWpcYsex0O\n",
       "QzGfNBi9daLcMm0tOIPaxCwbpMSYZYOcGPdnwG1ilvVZqs2y1oLdyskc0ixbtN/rwnTJzCwbpESZ\n",
       "ZYOciHYp3AZm2YCl+nTZ1n54Eh79EHm67GlY1WUNVsxOlw1SIsyyak7E6bIBt8npsgELm2UzYWGz\n",
       "LImFzbIaln8AK4e1E9haSgkAAAAASUVORK5CYII=\n",
       "\" style=\"display:inline;vertical-align:middle;\" /></a>"
      ],
      "text/plain": [
       "ExprArray((A_{1, 1}, A_{1, 2}, ..., A_{1, n},B_{1, 1}, B_{1, 2}, ..., B_{1, k}), (A_{2, 1}, A_{2, 2}, ..., A_{2, n},B_{2, 1}, B_{2, 2}, ..., B_{2, k}), ..(A_{_b, 1}, A_{_b, 2}, ..., A_{_b, n},B_{_b, 1}, B_{_b, 2}, ..., B_{_b, k}).., (A_{m, 1}, A_{m, 2}, ..., A_{m, n},B_{m, 1}, B_{m, 2}, ..., B_{m, k}))"
      ]
     },
     "metadata": {},
     "output_type": "display_data"
    }
   ],
   "source": [
    "ExprArray(ExprRange(i, ExprTuple(ExprRange(j, Aij, one, n), \n",
    "                                 ExprRange(j, Bij, one, k)),one,m)\n",
    "          .with_explicit_parameterization())"
   ]
  },
  {
   "cell_type": "code",
   "execution_count": 34,
   "metadata": {},
   "outputs": [
    {
     "data": {
      "text/html": [
       "<a class=\"ProveItLink\" href=\"../__pv_it/demonstrations/8579790a1107e6fd5a42c0af0e99c3560021f80a0/expr.ipynb\"><img src=\"data:image/png;base64,iVBORw0KGgoAAAANSUhEUgAAAh4AAABuBAMAAACaUAeRAAAAMFBMVEX///8AAAAAAAAAAAAAAAAA\n",
       "AAAAAAAAAAAAAAAAAAAAAAAAAAAAAAAAAAAAAAAAAAAv3aB7AAAAD3RSTlMAIs1UmauJMnZmRLsQ\n",
       "3e++988cAAAACXBIWXMAAA7EAAAOxAGVKw4bAAAICklEQVR42u1cW2gcVRj+p9ntZNNNslYthYqJ\n",
       "L4JY2n0UvHQfUqWiEAqBiEpSQbEP4oJC+9JmVVIiVRq0UDGRFrQPBa0RhSqIyYuhxUsjBvRBJFFE\n",
       "ax9so21qq6wzc85k51z+c5nZtKmcD3bTZL7/smfOnDmzH/0ACNaCGl43mMKCalj8GmCz5viqc8ap\n",
       "LKhGxQuTF/q2n8hCsA9sqWtCt5h/yC2246Er3jEBMFDNQrAOzA2U1JFbzxsXsaCaFe+qAbxfyUKw\n",
       "DtzxrHp4V69bNK1hQTUsfjg4fLiWhWAb6NUOlJWB61v/NK1hQTUsPhC8NpWyEGwDc7BlVBlYafnb\n",
       "tIYF1bD4WYDPv8tEsA18G4YGVXFtZf+iYQkLqmFx/8rI8B2ZCNaBFejqBTgVbRyKr8lOoXchPlJ8\n",
       "qm9KebYbVMMJlSguQ2uwPt83GqeU8BiCpj1F5reWFpLWj3oGJsAfmQl/2f2qGLi/Z+uV+EgOcjPs\n",
       "0eJC+H66W6CyiAinhY/DFJdhzVywSC/SlDIeQxDaCytGHYqlmUDoOBL//SRAZ5CkhSS6VyhYDEbu\n",
       "3/hI5xGPv4HMhm/tFYHKIiK0C3c3trgEncHsKVyKU0p4DEFoL6o4Ky3NZu5KzFhon1OMRy54/Rgf\n",
       "KUx5i6rLJUGlmH5jh/JySRQ/eGhE6HooWG3zlxXjwRDU7akyj3n76BI4SjbZ6Hgco3tqemT1DF6C\n",
       "o0ZT5htfsUNjihffPAPzPONAcEMc6laMB0tQtqcK7L/xa3LrvTW8lM7j4+EFpw8mS0tH9uALFk+N\n",
       "pkzFn8N7Yop7J7vhH56xKRi0n6YU48ESVO0pA38r+9HPL+oboWVyYRAbj+LkwhTcXb89PuJ9ihbg\n",
       "qXSdau1FI7ji+VobP3aP1vv67iwDPh4cQdGeMtD76wH+uQq7XmKQIzfBDfpaiSSnS2vG9aeMFO+o\n",
       "5ipVZUp83bVpTxJYmHjPE1oqDmrGYxq8E7seMioxHc+P0tAxo/EIindB+3NVZUr1eJi2JwnM1/as\n",
       "Zq/9Jy7W/J9h3eankbDwyN5yR72uf6AnVK+np+dBaNt21079QwwpfhRad6pTBrzs7ckC15TyhySn\n",
       "SRdcNq9Ttj1PLdlTWtfUBL6rezwxXrxtqIbF9Snta2oCR3VfsVl8G2fd1GjmlIW00yN1oIODgwMH\n",
       "p0excHoUuxNyehT7NY7Toxg4PYpdAp0exc5Yp0cxcHoUd05DSYgqObgeNf3kY2CoRxGq4YRKFJeB\n",
       "qkY0Ja5HGbWnyMzrUVTJwfWoCjwMhnoUobJQ6lFi1iVQ1YikVOhRSHt6PYo2y+tRsZKD6lGXoatq\n",
       "qEcRKgulHiXJGoOqRjQlrkch7en1KJqZ16NiJQfVo8ajOCM9ajw5HiZ6FM2q0KPG0fFgCCn0KJpZ\n",
       "0KOokoPrUfAM2WEY6FGUGk0ZIz0qyqrUo0hKhR5l0J4qUNCjqJKD61H+D9HvJnoUpUZTpuLP4T0x\n",
       "xZV6FEmp0KP07SkDBT2KKjm4HrUhqmSkR21oNGWmR5GsKj2KpFToUdr2lIGiHkWVHFR/8SpeCcwE\n",
       "H0olC7yRHkWyKvQomhLXXyzakwUKelSo5Cj1qA27np8yFHwIlc4PEz2KFlfoUTQlPh4W7ckCBT0q\n",
       "VHKUetQf9bqp4EOoFnoULa7Qo2hKXI+yaE8W6PQok0CnR7FwepSDg4ODg4ODg4ODg4ODw/8KRGZT\n",
       "QBS4mght8uVrDwuc1cSJAlcToU++bO0t6+cyO5crat5fBcyupIVgRTXj4ODg4PZjGTc8lre55d2P\n",
       "KYOv0n7M7ja3zPux2Wu6H3NwcHBwz3XuuW659h+WcN8HXdX9xzX7XA4ODg4ODg4ODg6ZsTYzIRWV\n",
       "wOteceOxOTMhFZVA4xcyFv6vrmoWAoIM7h9aQioqhc4v5CxAfjETAUF69w8tIRWVQuMX4l0CaPsr\n",
       "CwFDavcPPSEVlUDnF1JYJKa+6QkYUrt/aAmpqBQ6v5B8cDmtms9CwJDa/UNLSEWl0PmFBFd58fFq\n",
       "FoJi3Unl/qEnpKISaP1Chj4e2T6aiYBA40bfgGCxwRFUFht8LoMJFfqFKHCgBC1nVO3xBFMHEOr+\n",
       "kViIvid/jww4EuPGW2zwBM5iI+nrwVMZRN8I818LE78QBT4LXsk1WmiPJ0jak/p/UPePBH6P3qkh\n",
       "fGILwRXkCZzFRtLXQ8jFYHbprTFGNeJfjyOcPcxdgG+PJ8jak/l/xG70jXvBOTrFIwOObbuHW8eq\n",
       "soI8QWGxIeQiH3rnvhJ6uUR+IQcPjfS+HO0VeQcQP1xtB47g7QkEUwcQ6v7RKF2YWD+4ZMBx6vho\n",
       "Ry8xYuAKigTUYkNCDfFVaQgbD+IXEvp+/ALDIHEACa9yf0HRnkgwdAAh7h+N0pB/4Z75JQOOW16E\n",
       "zmpuUFJQJKAWGxJqiB7Yi21XgmsYJkuh78ci3A8SB5BVAeP4RkV7IsHQAYS4fzRKQ8dLUG0YcPQH\n",
       "TbeXxYISAmaxIaHSdWoYWWFjv5B8zZ+Db6OTxDqA5MOHrg+Df2DtSQhmDiCx+0ejdFdPchfzK+yH\n",
       "Ll+2fggErcVGgxp96vPwyZeaR6tq64R3rgq4A0gz20NKj7XNlJKLaz+M5XDL9wZBa7GRyBVh3r88\n",
       "rnm0Ck5TYaKCO4A0sz2sdL8/07jG23rhNrj5Fdxio0HQWmwkckUOIO+8vk+zgTwKq0pe/xTuANLM\n",
       "9rDSH8AjkjPRTIuN68kBBCndTIuN68oBBCndTIuN68oBhJT+D3S7EgEjP9T5AAAAAElFTkSuQmCC\n",
       "\" style=\"display:inline;vertical-align:middle;\" /></a>"
      ],
      "text/plain": [
       "ExprArray((A_{1, 1}, A_{1, 2}, ..A_{1, _a}.., A_{1, n},B_{1, 1}, B_{1, 2}, ..., B_{1, k}), (A_{2, 1}, A_{2, 2}, ..A_{2, _a}.., A_{2, n},B_{2, 1}, B_{2, 2}, ..., B_{2, k}), ..., (A_{m, 1}, A_{m, 2}, ..A_{m, _a}.., A_{m, n},B_{m, 1}, B_{m, 2}, ..., B_{m, k}))"
      ]
     },
     "metadata": {},
     "output_type": "display_data"
    }
   ],
   "source": [
    "ExprArray(ExprRange(i, ExprTuple(ExprRange(j, Aij, one, n)\n",
    "                                 .with_explicit_parameterization(), \n",
    "                                 ExprRange(j, Bij, one, k)),one,m))"
   ]
  },
  {
   "cell_type": "code",
   "execution_count": 35,
   "metadata": {},
   "outputs": [
    {
     "data": {
      "text/html": [
       "<a class=\"ProveItLink\" href=\"../__pv_it/demonstrations/ab05a8c062260354cf207ef682f4901911531fc70/expr.ipynb\"><img src=\"data:image/png;base64,iVBORw0KGgoAAAANSUhEUgAAAjwAAACSBAMAAACzqA0eAAAAMFBMVEX///8AAAAAAAAAAAAAAAAA\n",
       "AAAAAAAAAAAAAAAAAAAAAAAAAAAAAAAAAAAAAAAAAAAv3aB7AAAAD3RSTlMAIs1UmauJMnZmRLsQ\n",
       "3e++988cAAAACXBIWXMAAA7EAAAOxAGVKw4bAAAJS0lEQVR42u1dXWgcVRQ+k910s3GTrKWWQsXE\n",
       "F0Fa2n3zwZ/uw1asKCyFSEQlUVD0oTRIoX2xiT8pkVoaVBBMoQX1QSg1olALYvbF0qJiwEB9KNJa\n",
       "pLQ+mEbb1BRZZ/be2ZnZuf/3NknJ+WDTbufsd87e3XvnTr5+cwAI1oIYXh84gjumJcRWyfG2OVeZ\n",
       "lJjy09f7d55UpZys9/dvGrYtTMCSqUteu83Z8KgxdU8BDCq/4z8B2hesK+OzZAeL4pduv+ZqeNSY\n",
       "ekcBviirztebAJ3/WM96PsuLu8Wf1Jr1C45GR5HpqF/P0VFFzrxPmb9pWxmfxRs9XBK+dEPH346G\n",
       "R5Fp0H9sKSpytvvzte2ibWV8lixsmxC+tJz519HwKDL568D351Q5/YWq8IL10sxn+QRGhkSv7Czl\n",
       "brgZHUWm3K3xsQeVSUe+Gd85YV0an6UMvVWAs40dSeF91rfLux4eKbzSXzOvIc4kQIe/fj82Ecad\n",
       "lWyVDhchcyUMO/3y82alJVjyv8aK+boyOAW58Zngyb5D6VcerGy/FR7JQnaGSV+Y93/83Bf+YCPO\n",
       "JMBdF/xFfIHG0cL4+M5/7B6mYWV4mhXTLKxRppQFrkYHzgD0+P+YIQceTb9x/xTyX3ik55jHOffM\n",
       "+o+ucviDPYRxJgF6quQsQuIykuG5Do3THAlbhF7WAhIVNqvC4s3F5xZ0XRAMT9Z//BYeyde8BYu5\n",
       "FWfase8d3jrgLwLti4rDkwsW+8FjNOwIe3jky12CJT+1IVyNOyfIVp87PJ/Tqw56ZM2M8fAkmM6e\n",
       "mOguctcBGOlTHJ5gocrNR2G7jEpLsrS/+Uh4jr8vmOzX+MPj+d8smC42j7xhvDQnme59C3o4VFv8\n",
       "D+33muLwtPmsJzY3w3Lnza4FEyzdbwP9Dv5Q3wyZ6fkh3vAUpudr8HD9gfCI963p6LQyDcAJduBz\n",
       "wdVhCdSGpz24fP0qCtto9Om1sPRWUjOUO7lCkCPr4G7rPQZhugyVnEpcRm0200W17BVtSiMsk50z\n",
       "xfSBwpBkeE6Dd3LvUy6G53Rwdjj3kEKcxvD49W/cu6dmOTw+y0BupmWj7L10YzR3CdZvfZXzwuDI\n",
       "/lJ3vW79yw3C1FmFAxMKcUFhKgsbqf+vet2mNMryJTzLOv9lZC8vOfsNXMlxnFr9dizHZddMNVej\n",
       "o8qkl/G4k9q4LLIru7yzL0/ecZxa/UvJgkAgEJZAGVAIlAFRBjRmQRkQZUBjFpQBAWVAYxaUAUEq\n",
       "A1J9jy8DEoHNhQwoleqoDEjj1GRAWpilDEhZ0jIg1ff4MiAR2FzIgBypLgKVAUmcogxIC7OUAcO3\n",
       "l5IBQ32PKwMSgc2FDLgo06KoDEjj1GRAWpilDEhZ0jJgqO9xZUAisLmQASmTVAY8ojQ8VMCjhVnK\n",
       "gJSFIQNSfY8vA1KBzYEM2GBSkAFJRkUZMCzMTgYkLAwZkOp7fBmQCmwOZMAGk4IMSDIqyoC0MEsZ\n",
       "kLAwZECq7/FlQCKwuZABCZNcBiRxijIgLcxSBiQsDBmQ6ntcnYsKbA5kQMoklQFpnKLORQqzlQEJ\n",
       "S1oGDPQ9oQwYCGxuZEDKJJUBSZzi8ND6LWVAypKWAQN9TygDBgKbGxmQMMllQBKnKAPS+i1lQMqC\n",
       "MqAJC8qAQhaUAd2xIBAIBAKBQCAQiOXHrE4wXwFYepYlAVd0YUKgHy05y9JA62q94OYjwTmLQCAQ\n",
       "eObCfQ8CgUAgECtvk+FuR6C3n7lDNhkOdwSz+G28o3fgqw/L+I31+nD4BXBnFgyg5e7TMw46SamN\n",
       "bU6HR8/dp2ccdJJSF+7Mgo2pquXu0zIOukmpCXdmQTJftNx9WsZB85QW20Jds6AklZ67T8M4yM+r\n",
       "kNJ8W6htFpyVrSYa7j4d4+Csm5R6cGcWJNBy9+kZB52k1ASx+BG8PmXPR2/PSd79psYffEMgNQ7G\n",
       "sxsYAhkp44ZAKxCLH53EQ/Z8xJdHnzzTqJhvCKTGwXh2qdlQJWXCEGh1NTNK7vRJJrGDCUxvz0lw\n",
       "ufGTb6sI7x8ay76o73hjpPTmXM0tcqdPMonHoy924bUDJuaY8Pac5MnNsZpweML7h8ayCw2BzLMX\n",
       "K2XMEGiFpsUvwKFaZID8qThiMjxNX17jyfmOsnB4msbBePZdmmcvVsqYIdBm39O0+DVwCiKjdwX2\n",
       "m+x7mr68xtIyke8TDk9oHIxn1zYEslJGhkCbfU9k8aPzdnvz0FUYM9j3NH15dDXJVkXD0zQOxrPr\n",
       "GgKZKRmGQHvMwaXmwF2DUz/a8vVAdwmUDYEku6UhkKZk3BfUHufzU4VwRbuYWzxiy9dVm9S4LyjJ\n",
       "bmkIDFIyDYFWWFepVI7BnnHIXaJ///SDAxY7Uc/neBJyT4wqGQLj2Y0NgVFKviHQHhnXhCvJEGiP\n",
       "4475VpQh0B6ur+3QEIhAIBAIBAKBQCAMgf8rXgT0VIihdamObkAEAoHAMxfuexAIBAKBQCAQCIQS\n",
       "1loHuEu1ArHVOsBdqgDLYAcUsEg7A2bqrkZHkWkZ7IB8FmlnQGmAMtSYlsEOKGCRdQaUByhDjWkZ\n",
       "7IB8FmlnQGmAMhSZbpsd0IRF2hlQGqA+t9SYbp8d0IBF1hlQHqAMRaZlsAPyWRqdAWNIOe9aAiy6\n",
       "A7am4iDuzWOXFEPCDhjAqDtgiiU0A5LOgLFxbHXetQZwugMq9AZsZeIh4c0DSXfAhB2QfAYMM6Cs\n",
       "N2CKJTQDks6A8b1JSy2tAbzugPLegKlUHCS8eayS4kjYAQMwzYCy3oApltAMWCadAXfsG+uYHGbV\n",
       "0hpg3h0wxcTuDhi26eOXlFioiB3ww4/Gq+82tr1G3QFTLNQMSDsDBo36qh1VRi3pANPugCkmTndA\n",
       "6s3jl9S6UMFIX+HjK/BH6B8z6A6YYqFmQNoZMGjUN5wdYtSSDjDtDphi4nQHpN48fkkJEDugd6YP\n",
       "FuBx8u0z6A6YYiFmwGZnwAHYD12ldC2MAMPugAwmZnfApjePV1ICoR2wfTR3AX5p/JNBd8A0S4sZ\n",
       "8DIchN6coJYowLY7YMQk7g4oLSmxlRzumPLmgrdkYwaMWJJmQH+hHoDJLN95FwXYdgeMMQm7A0pL\n",
       "Sl5S+p98fqpsaQaMWJJmwM4q3A/3vMd33kUBtt0BIyZxd0BpSQl8Bm1Fb6Bm2R0wYuGYAaWXjKu6\n",
       "O6DUebe6uwNKnXerqjvg/8/Aa9n2h0elAAAAAElFTkSuQmCC\n",
       "\" style=\"display:inline;vertical-align:middle;\" /></a>"
      ],
      "text/plain": [
       "ExprArray((A_{1, 1}, A_{1, 2}, ..A_{1, _a}.., A_{1, n},B_{1, 1}, B_{1, 2}, ..., B_{1, k}), (A_{2, 1}, A_{2, 2}, ..A_{2, _a}.., A_{2, n},B_{2, 1}, B_{2, 2}, ..., B_{2, k}), ..(A_{_b, 1}, A_{_b, 2}, ..A_{_b, _a}.., A_{_b, n},B_{_b, 1}, B_{_b, 2}, ..., B_{_b, k}).., (A_{m, 1}, A_{m, 2}, ..A_{m, _a}.., A_{m, n},B_{m, 1}, B_{m, 2}, ..., B_{m, k}))"
      ]
     },
     "metadata": {},
     "output_type": "display_data"
    }
   ],
   "source": [
    "ExprArray(ExprRange(i, ExprTuple(ExprRange(j, Aij, one, n)\n",
    "                                 .with_explicit_parameterization(), \n",
    "                                 ExprRange(j, Bij, one, k)),one,m)\n",
    "          .with_explicit_parameterization())"
   ]
  },
  {
   "cell_type": "code",
   "execution_count": 36,
   "metadata": {},
   "outputs": [
    {
     "data": {
      "text/html": [
       "<a class=\"ProveItLink\" href=\"../__pv_it/demonstrations/ab05a8c062260354cf207ef682f4901911531fc70/expr.ipynb\"><img src=\"data:image/png;base64,iVBORw0KGgoAAAANSUhEUgAAAjwAAACSBAMAAACzqA0eAAAAMFBMVEX///8AAAAAAAAAAAAAAAAA\n",
       "AAAAAAAAAAAAAAAAAAAAAAAAAAAAAAAAAAAAAAAAAAAv3aB7AAAAD3RSTlMAIs1UmauJMnZmRLsQ\n",
       "3e++988cAAAACXBIWXMAAA7EAAAOxAGVKw4bAAAJS0lEQVR42u1dXWgcVRQ+k910s3GTrKWWQsXE\n",
       "F0Fa2n3zwZ/uw1asKCyFSEQlUVD0oTRIoX2xiT8pkVoaVBBMoQX1QSg1olALYvbF0qJiwEB9KNJa\n",
       "pLQ+mEbb1BRZZ/be2ZnZuf/3NknJ+WDTbufsd87e3XvnTr5+cwAI1oIYXh84gjumJcRWyfG2OVeZ\n",
       "lJjy09f7d55UpZys9/dvGrYtTMCSqUteu83Z8KgxdU8BDCq/4z8B2hesK+OzZAeL4pduv+ZqeNSY\n",
       "ekcBviirztebAJ3/WM96PsuLu8Wf1Jr1C45GR5HpqF/P0VFFzrxPmb9pWxmfxRs9XBK+dEPH346G\n",
       "R5Fp0H9sKSpytvvzte2ibWV8lixsmxC+tJz519HwKDL568D351Q5/YWq8IL10sxn+QRGhkSv7Czl\n",
       "brgZHUWm3K3xsQeVSUe+Gd85YV0an6UMvVWAs40dSeF91rfLux4eKbzSXzOvIc4kQIe/fj82Ecad\n",
       "lWyVDhchcyUMO/3y82alJVjyv8aK+boyOAW58Zngyb5D6VcerGy/FR7JQnaGSV+Y93/83Bf+YCPO\n",
       "JMBdF/xFfIHG0cL4+M5/7B6mYWV4mhXTLKxRppQFrkYHzgD0+P+YIQceTb9x/xTyX3ik55jHOffM\n",
       "+o+ucviDPYRxJgF6quQsQuIykuG5Do3THAlbhF7WAhIVNqvC4s3F5xZ0XRAMT9Z//BYeyde8BYu5\n",
       "FWfase8d3jrgLwLti4rDkwsW+8FjNOwIe3jky12CJT+1IVyNOyfIVp87PJ/Tqw56ZM2M8fAkmM6e\n",
       "mOguctcBGOlTHJ5gocrNR2G7jEpLsrS/+Uh4jr8vmOzX+MPj+d8smC42j7xhvDQnme59C3o4VFv8\n",
       "D+33muLwtPmsJzY3w3Lnza4FEyzdbwP9Dv5Q3wyZ6fkh3vAUpudr8HD9gfCI963p6LQyDcAJduBz\n",
       "wdVhCdSGpz24fP0qCtto9Om1sPRWUjOUO7lCkCPr4G7rPQZhugyVnEpcRm0200W17BVtSiMsk50z\n",
       "xfSBwpBkeE6Dd3LvUy6G53Rwdjj3kEKcxvD49W/cu6dmOTw+y0BupmWj7L10YzR3CdZvfZXzwuDI\n",
       "/lJ3vW79yw3C1FmFAxMKcUFhKgsbqf+vet2mNMryJTzLOv9lZC8vOfsNXMlxnFr9dizHZddMNVej\n",
       "o8qkl/G4k9q4LLIru7yzL0/ecZxa/UvJgkAgEJZAGVAIlAFRBjRmQRkQZUBjFpQBAWVAYxaUAUEq\n",
       "A1J9jy8DEoHNhQwoleqoDEjj1GRAWpilDEhZ0jIg1ff4MiAR2FzIgBypLgKVAUmcogxIC7OUAcO3\n",
       "l5IBQ32PKwMSgc2FDLgo06KoDEjj1GRAWpilDEhZ0jJgqO9xZUAisLmQASmTVAY8ojQ8VMCjhVnK\n",
       "gJSFIQNSfY8vA1KBzYEM2GBSkAFJRkUZMCzMTgYkLAwZkOp7fBmQCmwOZMAGk4IMSDIqyoC0MEsZ\n",
       "kLAwZECq7/FlQCKwuZABCZNcBiRxijIgLcxSBiQsDBmQ6ntcnYsKbA5kQMoklQFpnKLORQqzlQEJ\n",
       "S1oGDPQ9oQwYCGxuZEDKJJUBSZzi8ND6LWVAypKWAQN9TygDBgKbGxmQMMllQBKnKAPS+i1lQMqC\n",
       "MqAJC8qAQhaUAd2xIBAIBAKBQCAQiOXHrE4wXwFYepYlAVd0YUKgHy05y9JA62q94OYjwTmLQCAQ\n",
       "eObCfQ8CgUAgECtvk+FuR6C3n7lDNhkOdwSz+G28o3fgqw/L+I31+nD4BXBnFgyg5e7TMw46SamN\n",
       "bU6HR8/dp2ccdJJSF+7Mgo2pquXu0zIOukmpCXdmQTJftNx9WsZB85QW20Jds6AklZ67T8M4yM+r\n",
       "kNJ8W6htFpyVrSYa7j4d4+Csm5R6cGcWJNBy9+kZB52k1ASx+BG8PmXPR2/PSd79psYffEMgNQ7G\n",
       "sxsYAhkp44ZAKxCLH53EQ/Z8xJdHnzzTqJhvCKTGwXh2qdlQJWXCEGh1NTNK7vRJJrGDCUxvz0lw\n",
       "ufGTb6sI7x8ay76o73hjpPTmXM0tcqdPMonHoy924bUDJuaY8Pac5MnNsZpweML7h8ayCw2BzLMX\n",
       "K2XMEGiFpsUvwKFaZID8qThiMjxNX17jyfmOsnB4msbBePZdmmcvVsqYIdBm39O0+DVwCiKjdwX2\n",
       "m+x7mr68xtIyke8TDk9oHIxn1zYEslJGhkCbfU9k8aPzdnvz0FUYM9j3NH15dDXJVkXD0zQOxrPr\n",
       "GgKZKRmGQHvMwaXmwF2DUz/a8vVAdwmUDYEku6UhkKZk3BfUHufzU4VwRbuYWzxiy9dVm9S4LyjJ\n",
       "bmkIDFIyDYFWWFepVI7BnnHIXaJ///SDAxY7Uc/neBJyT4wqGQLj2Y0NgVFKviHQHhnXhCvJEGiP\n",
       "4475VpQh0B6ur+3QEIhAIBAIBAKBQCAMgf8rXgT0VIihdamObkAEAoHAMxfuexAIBAKBQCAQCIQS\n",
       "1loHuEu1ArHVOsBdqgDLYAcUsEg7A2bqrkZHkWkZ7IB8FmlnQGmAMtSYlsEOKGCRdQaUByhDjWkZ\n",
       "7IB8FmlnQGmAMhSZbpsd0IRF2hlQGqA+t9SYbp8d0IBF1hlQHqAMRaZlsAPyWRqdAWNIOe9aAiy6\n",
       "A7am4iDuzWOXFEPCDhjAqDtgiiU0A5LOgLFxbHXetQZwugMq9AZsZeIh4c0DSXfAhB2QfAYMM6Cs\n",
       "N2CKJTQDks6A8b1JSy2tAbzugPLegKlUHCS8eayS4kjYAQMwzYCy3oApltAMWCadAXfsG+uYHGbV\n",
       "0hpg3h0wxcTuDhi26eOXlFioiB3ww4/Gq+82tr1G3QFTLNQMSDsDBo36qh1VRi3pANPugCkmTndA\n",
       "6s3jl9S6UMFIX+HjK/BH6B8z6A6YYqFmQNoZMGjUN5wdYtSSDjDtDphi4nQHpN48fkkJEDugd6YP\n",
       "FuBx8u0z6A6YYiFmwGZnwAHYD12ldC2MAMPugAwmZnfApjePV1ICoR2wfTR3AX5p/JNBd8A0S4sZ\n",
       "8DIchN6coJYowLY7YMQk7g4oLSmxlRzumPLmgrdkYwaMWJJmQH+hHoDJLN95FwXYdgeMMQm7A0pL\n",
       "Sl5S+p98fqpsaQaMWJJmwM4q3A/3vMd33kUBtt0BIyZxd0BpSQl8Bm1Fb6Bm2R0wYuGYAaWXjKu6\n",
       "O6DUebe6uwNKnXerqjvg/8/Aa9n2h0elAAAAAElFTkSuQmCC\n",
       "\" style=\"display:inline;vertical-align:middle;\" /></a>"
      ],
      "text/plain": [
       "ExprArray((A_{1, 1}, A_{1, 2}, ..A_{1, _a}.., A_{1, n},B_{1, 1}, B_{1, 2}, ..., B_{1, k}), (A_{2, 1}, A_{2, 2}, ..A_{2, _a}.., A_{2, n},B_{2, 1}, B_{2, 2}, ..., B_{2, k}), ..(A_{_b, 1}, A_{_b, 2}, ..A_{_b, _a}.., A_{_b, n},B_{_b, 1}, B_{_b, 2}, ..., B_{_b, k}).., (A_{m, 1}, A_{m, 2}, ..A_{m, _a}.., A_{m, n},B_{m, 1}, B_{m, 2}, ..., B_{m, k}))"
      ]
     },
     "metadata": {},
     "output_type": "display_data"
    }
   ],
   "source": [
    "ExprArray(ExprRange(i, ExprTuple(ExprRange(j, Aij, one, n)\n",
    "                                 .with_explicit_parameterization(), \n",
    "                                 ExprRange(j, Bij, one, k)),one,m)\n",
    "          .with_explicit_parameterization())"
   ]
  },
  {
   "cell_type": "code",
   "execution_count": 37,
   "metadata": {},
   "outputs": [
    {
     "data": {
      "text/html": [
       "<a class=\"ProveItLink\" href=\"../__pv_it/demonstrations/cb251ca6d219822915676f8190971bb0470bc3770/expr.ipynb\"><img src=\"data:image/png;base64,iVBORw0KGgoAAAANSUhEUgAAARkAAADfBAMAAAAw+Lo5AAAAMFBMVEX///8AAAAAAAAAAAAAAAAA\n",
       "AAAAAAAAAAAAAAAAAAAAAAAAAAAAAAAAAAAAAAAAAAAv3aB7AAAAD3RSTlMAIs1UmauJMnZmRLsQ\n",
       "3e++988cAAAACXBIWXMAAA7EAAAOxAGVKw4bAAAId0lEQVR42u1cXWgcVRQ+k2Sz2e1ms9ZaChU3\n",
       "vghiafPmg8buw1YpKIRCIKKSVVDsg3TRQvvSZNW2RGrpokLBVBrQPgi1rijUgph9sVj8CxioD0VS\n",
       "i9TWB9PaP1Mlzsy9szN35p57Z9O5M2m5H2yasGe+c3Zn5s797v1OASwY/SDCSlACjLZjXnjYBjXV\n",
       "YLQbhdV0LiopBqXddEl0WNdoQUU1GG336uuiw57fVlVRDUa7pudvwVFG7cCAgmJQ2lLnP6JvFDbW\n",
       "VZwohDY7kL4mOOxDGK8oqAaj7QLjKkDuHfuPU4GhpwTFIci9NNyEVlAUsGk9cBLvK2+6CbBzv/V7\n",
       "emLGd1TPF+XRhllxl/UGCUKRu2z++Knf+SECoXXhJM7VAP4z/x0ko4C/mm8B+magb8qw77tBcY5Z\n",
       "89Vbcn6IQGi9w88MPVEAv+LVmLS9c5BphqqmnRNl027euadnsupJ/DEdpPnVZOv0wdE9E2U1lPbU\n",
       "sXp+qGfITWzMmT+mC1g195mvFdZQvasZZTWU9t43oK/aVWklzk1fbsIjiw8g1Xy3uA46py9XwPgK\n",
       "IqymRTsCY9A7wEmMXDcUq+CuSK8bivOwD4ppfjUn0WqM4zuezFUir8aYN7+dya5g4tUbXoaxAeOF\n",
       "azXeYfnFxfn0OTsoSmSH4H64520ksfjx2AnKwEucbQoPOaqsGG7ijPiYurJqMqChcauDkFZ3Wt1p\n",
       "dafVXezqjqo4TN2dfPFZRequldir7qiKw9RdCZ5SpO6cxIy6c1Qcou4WoFhVo+6cxIy6c1Qcou4O\n",
       "SapZurpzErPqjqo4TN3BK6rUHUngU3dUxWHqLn1GlbqzE/jVHVVxmLpb21Sl7nyJB70qDlF3RsmI\n",
       "9pnlqjtfYlvdWSpOoO7W7tjejLIYV935EhN1Z6k4gbr7azHa2YWr7niJtbrT6k5DQ0NDQ0NDEcTq\n",
       "0FaRMaaVqMNZRdVIRalG1DD6l1M1klXemLFxWVUjXuWNGZJV3phHP/Eqb9yjn3iVN+bRT7LKGzPI\n",
       "Ki/Bq42kqyGrvASpSsLFOKu8NvLVxE8UWeW1MT7hLrjntu4txF6Ns8prY39zd+uNHwrjhQhv/FDj\n",
       "TWuV18YJcL1mZRiLe7xxV3ltnIdNrbcuwp6EZ1vzcK5V5yU48X2yl/SZTCPn3ORn0wuHkqpjVblc\n",
       "noLtE5A+R3//6N29dUgcnbCccHRZVVMHDY14sTIJ3YbSbkhCt2G0EoONIt2G0UoMNop0G0YrNthE\n",
       "rNtktBKDzVJ12xLloMRgs1TdtkQ5KDbYKNJtKC1xwpzqF+m2CI03QTnoBXHCBNsqGN0mMd545/Lh\n",
       "/DdeOegFdcIgFnCq2xbCWV1C+28YOcieKMsJQ6t57+BEiafbiPEms3nn7kjloJlu6K3jnsSOwYb0\n",
       "E7x/Ac7ydZtlvLHsMtFIR0Jrpfvd1jhOYsdgY1djfNsP/3J1m228sewyzUiemITWSncdHncTt5ww\n",
       "5Eylatk5rm4jxpsROBbJIoJDm6ql5+BnTmJSTb7aVeJdrtR4cx7K6Sjv83y1p2HMV4OJzWpMTVaE\n",
       "3td41VjGm5OWXeb0w1FWUzS/k0yjFEhsdTeYmuwI9GzlHWYZb8YGskMQrVg7Ah0FY6TJTyzRZCrM\n",
       "q4LEYk2WbSqr5mj7mkyhSUaLQY07CZnpq8NbjqNvTy4ODz9UvWWa0LT5BsAonu9P85EWRsNIaMLS\n",
       "Fs152KfoXM24YY57V8I8c4Q0oWkPmx/ocA09A+YHyNwIwS+mCU07ar7Wo1O6lDkv7Dgbgl9ME5rW\n",
       "PIPfnBZdDrnnquEuBAFNWNr0zYk9D+KHjX85sSXMY0RCE5a2x5wUP1ZHe+cPFKDzQojeeUpDQLbv\n",
       "RJ32hNYDmniFOR/tvo72zn9tvrZV+b3zZGeGKDlKQ68KW0rTaPt9/yYOofV8tTRx3xC5upGuY0uf\n",
       "Hq4hvfP2zgxRcg4Nne+CG03en+XRBublMG5+vakFrJq0tZIwOiXvnXdoyB9k+w6PdmgDvfPmGYTx\n",
       "fqwa63JIW9+yrHfeobFBt+8GhVeZSRvonYf15qD4WxOrpsO8HI6tA3nvvENjg27f4dGU1t87D89Y\n",
       "j68BQKpJWc/CzwGkvfMtGht0+w6NbtHG0jtPt+/k0bH0ztPtO2m06t557/adPDq+3vm2opV3V7QT\n",
       "rb67op1o3V2hodWdVnda3Wl1dxuqu2DvPKPuBFt4HHUn2vDzqzsnMaPugr3zjLrzbeFJ1B2NDqXu\n",
       "nMSMugv2zjPqzr+FJ1Z3NDqUunMSM+ou0DvPqjtB7zxH3QmiA+rOScyqO3/vvE/d4b3zPHWHRwfV\n",
       "HU3Aqjt/77xP3eG98zx1h0cH1R1J4FN3vhZ2v7pDe+e56g6N5qg7hb3zRN2FiI6ld56oO3m06t55\n",
       "r7qTR8fXO6/VnVZ3GhoaGhoaGh7o3nlQ3M0l9c7GCv3fBGjcGeNNW/eV8vGmrftK34Qat+kders9\n",
       "r/T8Ro83GhoaGhpSJOJ4waMTcbyg0Yk4XtDoRBwvaHQijhc0OhHHCxadiOMFjWb7GT7wn0vG8ZL5\n",
       "BeXnOF7CRntjGccL5Kd8xzGOF7gYnLvTCTzH8UKjvVEOmGhPrK+foej/FIzjxZjnzN1nGRrymewL\n",
       "zYmeDU7zmWhvLNvPMGnsZU8w43jJNNZUsOsr6HiRR7vd6k4s63gZufvHgv8Eu46X1OuPYjc7x/Ei\n",
       "jXa71VuxrOPljwG25Zp1vOTfBOxm5zhepNFut7oTyzpejCtPsGMf63gpljF6nuNFHu12q/tjiVOq\n",
       "8YnBPZ4YUiazM204XuTRbre6P9Z2vKRqu7q5z07ieBlJz1TCVEMcL/Jot1vdF0scLysKqYPcD0Ec\n",
       "L5/B05KHhNfxIo92u9V5sUk5XrixiTleuLGJOV5o7P+roVwZaswOAwAAAABJRU5ErkJggg==\n",
       "\" style=\"display:inline;vertical-align:middle;\" /></a>"
      ],
      "text/plain": [
       "VertExprArray((A_{1, 1}, A_{1, 2}, ..A_{1, _a}.., A_{1, n},B_{1, 1}, B_{1, 2}, ..., B_{1, k}), (A_{2, 1}, A_{2, 2}, ..A_{2, _a}.., A_{2, n},B_{2, 1}, B_{2, 2}, ..., B_{2, k}), ..(A_{_b, 1}, A_{_b, 2}, ..A_{_b, _a}.., A_{_b, n},B_{_b, 1}, B_{_b, 2}, ..., B_{_b, k}).., (A_{m, 1}, A_{m, 2}, ..A_{m, _a}.., A_{m, n},B_{m, 1}, B_{m, 2}, ..., B_{m, k}))"
      ]
     },
     "metadata": {},
     "output_type": "display_data"
    }
   ],
   "source": [
    "VertExprArray(ExprRange(i, ExprTuple(ExprRange(j, Aij, one, n)\n",
    "                                 .with_explicit_parameterization(), \n",
    "                                 ExprRange(j, Bij, one, k)),one,m)\n",
    "          .with_explicit_parameterization())"
   ]
  },
  {
   "cell_type": "code",
   "execution_count": 38,
   "metadata": {},
   "outputs": [
    {
     "data": {
      "text/html": [
       "<a class=\"ProveItLink\" href=\"../__pv_it/demonstrations/d3ae099e09c82b90b8793c23e4160715d6bf28370/expr.ipynb\"><img src=\"data:image/png;base64,iVBORw0KGgoAAAANSUhEUgAAAXMAAABuBAMAAAAnq+5QAAAAMFBMVEX///8AAAAAAAAAAAAAAAAA\n",
       "AAAAAAAAAAAAAAAAAAAAAAAAAAAAAAAAAAAAAAAAAAAv3aB7AAAAD3RSTlMAIs1UmauJMnZmRLsQ\n",
       "3e++988cAAAACXBIWXMAAA7EAAAOxAGVKw4bAAAEyklEQVR42u1cTWhTWRQ+z0STdNKfERXBwdaN\n",
       "KyHZuRAxiyoUFLIRuhD8AcWNmIVgN2oQKxVHpoggTGchiAtBpAvBjdCsRHFhwYCbYRBEZFZTI2MZ\n",
       "hyHmvXvfa9499/bcd988qXg+aEnvOd+5X/KS9/I+PgrgYyOo8MbQkqaL5liBImrqkZYKKq1bwhMq\n",
       "hAIdxwoUUVMPteS6qLQPd2u6SI4dKCKuR1ryR0fU2v4PaICmi+TYgSLieqTl+NmGUtqwZRkNwF00\n",
       "xwoUUVMPtXjNX6pKaWvxI/qs4C6SYweKiOuRljzsm1Vqtdw/6BjhLpJjB4qI65GWu3DpWLw0UC18\n",
       "UgfgLppjBYqoqUdaajBaV5+V9zd67kHX8+AUW76JdxAcUSmfOtyylt5PNNc1WgCKj8aPzsdL18f3\n",
       "/6t0i67CzKL/x9QNvIPgiEoe8ouxYrnT+/VyTD4wE3XAYiLFzwCGlY2aAP8pA2RXTnTuRRuEnKAy\n",
       "fMdTTgrt3s9gTT4wEzXQiIkU9wYOvlEOEcAf6BgFXUbpISeolFresv37pZ84MXXFUMdaYGAWXWnv\n",
       "46t+2GWUHnJkZcOirfQY8fnD2aERIMREirf3fn6IXa48/xktxCeEXSbpEUdWLth+TOPEny7DcAsI\n",
       "MaGWF91dkFvo9J33ygudFuzp7uzvjroM0lc4ouI9sVSuEifhoaGOtSSE8Q0TQlQ2wY9JJwviexgv\n",
       "QDboSS8fI6Q/Be/x+YMO0nvEJXi9Oxvl3olPzcJb2FI5bWjwKxerQ91u0i/AgjhQh6uzkB1yVEPV\n",
       "dXIVMsYD6ktJy3GwM9Ea1BEtuQ4uAYPBMIEtJLaQ2EJiC4ktpO/UQpLekNlCenryiJuFJIgZWkjS\n",
       "GzJbSDU45GYhCWKGFlLoDRktpM8w2nCykAQxQwsp9IaMFtJvgQIHC0kSM7SQpDdktpDgjKOFFBCz\n",
       "tJCkN2S2kAq/O1pIATFLC0l6Q2YLaVvL0UISxAwtJOkNGX0Yr+aNOFlIkpidheR7Q6taSNvOn2s5\n",
       "WUiSmJ2F5HtDq1pIf3W7bhaSILKFxBYSW0gMBoPBYDAYjDUA35VSbnY7prvgDnWb3HEUYSbiyspK\n",
       "4ErF0TbNaVMS2q4vYDtBpf01j6zz0VgDaPMHk8HgS1KWl6RVyWv8ktT+Ji9JDAafzr4daE5nfKvB\n",
       "txoMBoPBYHx3sMmve2OJhzjvTm+dKL9OptMrrtJJYtr8OhUyJ+Pt7sS0+XUqZE7G292JKfPrZDqd\n",
       "ire7E9Pm16mQORlvdyemza9TIXMy3u5OTJlfJ9PpVLzdnZg2v66uoAS7MsQ+wY53B0pMsvy6uqIm\n",
       "2NUhSoLdnF/X7A6UmET5dbyi5EvVIWqC3Zhfx7urt//NdPl1uXLr9kz92mOddDGkNDE1XZzzz1vW\n",
       "CXZEVBPsafPrYqX865/wDqY10uUQP35eL4q3rl2CHRFRgj1lfl2ueM/GYBkOaKTLIX78vJEXH367\n",
       "BDsiqgn2lPn1aGV9s/AGXmHp0ZBJuAiDwdXCLsGuIcYT7P9bfn2oUZz3lhqa97rEe7gOo0EAPWGC\n",
       "fYWYUYJ9tPe6l+ZrxgS7t9R70ebyyf8JQh8xowT7PVg34k22jAn2gTrsgM0/J0+wrxA5wW4EJ9jT\n",
       "Eb8Ay3WZEZaHvvgAAAAASUVORK5CYII=\n",
       "\" style=\"display:inline;vertical-align:middle;\" /></a>"
      ],
      "text/plain": [
       "ExprArray((A, A,A_{1, 1}, A_{1, 2}, ..., A_{1, n}, A, A), (A, A,A_{2, 1}, A_{2, 2}, ..., A_{2, n}, A, A), ..., (A, A,A_{m, 1}, A_{m, 2}, ..., A_{m, n}, A, A))"
      ]
     },
     "metadata": {},
     "output_type": "display_data"
    }
   ],
   "source": [
    "ExprArray(ExprRange(i, ExprTuple(A, A, ExprRange(j, Aij, one, n), A, A), one, m))"
   ]
  },
  {
   "cell_type": "code",
   "execution_count": 39,
   "metadata": {},
   "outputs": [
    {
     "data": {
      "text/html": [
       "<a class=\"ProveItLink\" href=\"../__pv_it/demonstrations/3d42f7d286aea39fe1fc512e0b2739249b6dcd330/expr.ipynb\"><img src=\"data:image/png;base64,iVBORw0KGgoAAAANSUhEUgAAAIAAAAGgBAMAAACQy3J6AAAAMFBMVEX///8AAAAAAAAAAAAAAAAA\n",
       "AAAAAAAAAAAAAAAAAAAAAAAAAAAAAAAAAAAAAAAAAAAv3aB7AAAAD3RSTlMAZjLNEESrie/dVCKZ\n",
       "druiQIfaAAAACXBIWXMAAA7EAAAOxAGVKw4bAAAF3UlEQVR42u1cQYgbVRj+M802u5nEXdKKl1JC\n",
       "c1nF4lJSPOxhp/TQU7VSKcVTDuJt6VpRKSKNHgTrwSAetBeDt8KyDShWUDcRpFLYQ0SpyLprKHsU\n",
       "dt1aWy0Y5817k00m/5t5Mz+rW/f/YDczmcyfvDdv3vf+//v/AdDDngIa9mwQDVylGrh+3/STBfTd\n",
       "zLXN0LPyjd5mGf3AV/m/Qg1kW/7WSAX9QCv7W/gPr/kbxx3s8EjduhtuYEG9WkfQwzmw/wBI7/N2\n",
       "jmFDIr8mXy++/aFEfeDw6tL1vwEO/+R9x0qt/9ANdUL3lLebQvsw3Qb40329IjushjXyqNoo4S0A\n",
       "+CDcQMnvu9QccvQZ928m3MD08PXou5Gq7r/1RpiBrXEALw/3wPptBxa6T4YZyBSNhnlIE8DUwAmK\n",
       "gWszr8Nk3X7pbptyX9eJ88KIQzSQAkZiMLEwsQwSS/rVFxwSseQgVyMRy/gpe5NELCkHMxCHWCBT\n",
       "oxELPOrQiMVeIxLLl/AFiVjsW4e+IRHLaLdLurWZWBgMxo7A09R10liLO/FfRsHoU33LuyDKRuMg\n",
       "q72y2HIPGwdaD+64IYUtaN7XLPf0y7sgNMs9/fJuiEPLpmx9VHOgZGigpOsrdLkXGjcwuD6xxgGy\n",
       "3MPGgeHyjsHYMfiEamCGeH62SzSQO9cw9Qfw+/O1ixH37XIvVoJOUXb7lwhXZ97fOKPx3q9ORCw+\n",
       "fCcTn42fgyci5shsR02yeFNb0KxoItK9CIHX9sw9RReXB+nn16VznWBE2m+dOuOjO97uPrQPTwKM\n",
       "1yJioaclQ1lTeAtgrOobOFBYQeZyy++8RzD6mpChMM9A+uE34J3hz+xpBC5HPz53/x66rwzYJ6fg\n",
       "95BxkBkm26e6Zciu355TTdjbHqkOGzhvdEd5BkaLuVZCPnINpOegCWOPJTMgItLWJXew51+kTAzU\n",
       "melZqoEJpofk4MA0B6b9wPSJV54XO8kVzxbcAJLieQeaRaAonvtDDJgFpuECAEnxtN7XGTAMTC86\n",
       "OgNmnovdshtAESwXDz3ukBTPd7tdVjyZWJhYmFg8YgntBBNikcwUkEzjEItkpoBkGodYJDPhkqkR\n",
       "sUhmwiVTM2KRzIRJpobEIpkJk0wNQ2KSmey1xHOCZKbkkqlkJoJkKpmJJVMGg7ETwIrngwdWPFnx\n",
       "BFY8GYxtAyuerHgqxRNPle5FCLxjoYon7vfHUDxxv9+HgeKp/H6C4un5/RTF0/P7KYqn9PsJiqf0\n",
       "+5MrnsLvJymewu9nxZPBYHD8gOMHPA54HPA4eHDHQSHuCcuB/XJcA/OBxXkldu8O7prG4YYdJuU6\n",
       "HInfa6v93xkdh9M6TMp3Lcf/BacHvIxS7POtwe80jcMhDpNCjTgOsDhcOM4Dg2dlZmcGDyQGjwMG\n",
       "Iz52VZJpqoi9G5VkKqAyEXCVKCrJ1HM65GSBq0SRSaa9FTauEkUnmQp4mQi4ShRMMlVPbgt2wppW\n",
       "JZJJpluQD9jpoT8TAVWJ/MfqbOEK2lCRiYCqRCrJ9EBhpfLdLb0BmYmAqUQyyVTIQ2/BTb2BacwH\n",
       "9W6kKogkUyEPbcK3WgNqHAyrRL0k071tqwqXtQaiMxFGi/mOvVHUNiESTfc3pDqt9FxSA2dc99Ce\n",
       "daxL3gN2CGChiImFieV/RCyqQC45scgyBAKxqAK55MSyHzUQh1hUGUJyYlFlCMmJZdGhEYsqQ0hO\n",
       "LKIMgUQsogyBiYXBYPy34DjSLgTXL3D9AnD9AoOxTdhN1QsaOomsXhBY1tGJSfWCwLyOTkyqF3o+\n",
       "K04n0dULXk93tHQin9cWiVVHQyeyeiHkGm0l5OB0op7XFgmRkFPCW+BVL3x9+Gb+oLic7tbPGJ2W\n",
       "NXSiqheOnZ0YreRFX4gtZGDJhBzkp6rqhU+/h/FiTnyB2HI04wChk171wixMwpjXu7NwFmlCZELO\n",
       "m7AKTUtuLVnxbyh7w/3mgznxyPcNeO/j+AbcUT4Nn/0Ak3V360eKB14nzg3b+vyCfwDfasuxUpGU\n",
       "HQAAAABJRU5ErkJggg==\n",
       "\" style=\"display:inline;vertical-align:middle;\" /></a>"
      ],
      "text/plain": [
       "ExprArray(A_{1, 1}, A_{1, 2}, ..., A_{1, n}, A_{2, 1}, A_{2, 2}, ..., A_{2, n}, ......, A_{m, 1}, A_{m, 2}, ..., A_{m, n})"
      ]
     },
     "metadata": {},
     "output_type": "display_data"
    }
   ],
   "source": [
    "ExprArray(ExprRange(i, ExprRange(j, Aij, \n",
    "                                 one, n), \n",
    "                    one, m))"
   ]
  },
  {
   "cell_type": "code",
   "execution_count": 40,
   "metadata": {},
   "outputs": [
    {
     "data": {
      "text/html": [
       "<a class=\"ProveItLink\" href=\"../__pv_it/demonstrations/2f6a6a324cf8780c9fc6ca00de98d89ad3f599500/expr.ipynb\"><img src=\"data:image/png;base64,iVBORw0KGgoAAAANSUhEUgAAAHEAAAGeBAMAAABRNfMAAAAAMFBMVEX///8AAAAAAAAAAAAAAAAA\n",
       "AAAAAAAAAAAAAAAAAAAAAAAAAAAAAAAAAAAAAAAAAAAv3aB7AAAAD3RSTlMAIs1UmauJMnZmRLsQ\n",
       "3e++988cAAAACXBIWXMAAA7EAAAOxAGVKw4bAAAGSElEQVR42u1cTWhcVRQ+LzPJ/Dj5UbQIEWfc\n",
       "CGJps3Mh2lmkQqHCUAgEVBIFRRelDxSSjc0gRiJVGqRQMIUWpAtBYkAhLsTMxtLiwoBCNyJRkRJc\n",
       "OImmY39kfO/dc+e+effc82IUrMn5YKCTMyfz3rsvX+f7vnMHQOEe2CkOstXCytbYsWWylGnzv3hg\n",
       "CWDCpyrZiSG2s1wH+LhKVZ4/4bOd54Py+TpR8OqnR9jOieBxgDqsLByaZzt/AfjyKlX4AGYmucbc\n",
       "rbnZR8hKFco1gCuV8N+l9+x6fgPgyXldUq9ThU9HJ5YgN7caPpl+1+68aw2gr4UlfF2EywCDwbOM\n",
       "+skTdudgcESFP3Qpsxo7WOhf4zpnguvXe9PuLAY/72lynaeDBZmp2J0PhmeywXUeCH79jw2r86v2\n",
       "fsisbE66O59pj409OgLEeerb3vmeGkxnaTKt8xLR6b1wvZ77CfYdfNnVGJZOjoSvo/5QUznA9afx\n",
       "UVpjseEozKd1FmCPQph6tzL1pRef5Zm69NJYg2TqKjzNM3UWsqskU9+Ess8y9eAFr0Uy9Tmis4up\n",
       "C41OZ4Kp4XgKU0PfKs3Uue9SmBpeb9BMPdxIYWrvc5qpvao3xDP1vXA3ydTDU681WKb2lqeOkkz9\n",
       "a7vNM/VAu90UphYIdj9Km2mv+LriKHyb1tlflesrd4LcCbKeAsF24FV22tnTZMsL4cdxWvMd4jtD\n",
       "XdbbIiuHN/iTCVRO8Xeq0revxX+obSmNZOP+/G9sZ29wMj0/kFowcyNNZpeeo65QcSR3ne2c+Wzu\n",
       "GPk5PQveFm0RGl2WWe+yCBGnRg/foi1CxBfB44QftwiR9ALR/idwNtYWRNLesrGyweN73Vk4Mv2m\n",
       "JbPD6zdxATvPnJ3THPghuh9R55XF+YEhQmbnNlHyld5fB1wgL5C7sDKEnQ+8AYNJGdQTvGJxP3Z6\n",
       "lytwW53lymYDHm8/rM9zHBaT90Hot3zSkZm99eIaqS6vwWjOcaFU54CfrfqUumzC1cfcnYFALUP/\n",
       "qz6hLos1eMsh61CgXoT8K39DXaYKVKe6TBWo6epyHvYoxCmMsJucQnQAmUwHTUQr00EHkMl0lIlo\n",
       "ZzraAXRnOmgiWpmOdgDdmc65ZKd2CtEBZDIdZSLamQ46gEymo0xEO9NBB5DJdJSJaCcz6AC6/0tD\n",
       "E9FOZpanjvKZTmgiUplO6ADymU5oIkqmI0wtTP0fMjWT6aiSnekgUzOZjirZmQ4yNZPpqJKd6SBT\n",
       "M5mOKhGZjs5qjqcwtZ3pIFMzmQ6WrEwHmZrJdFTJznQUUzOZDpasTAeZmsl0FFPbmQ4yNZPpKKaW\n",
       "TEcg2BsQ51fWU9ZT1lMg+LfgVXbaKclMhDswmaHko1FXmfUu+YhQyQwlHxEqmYnLRyS9epTMUPIR\n",
       "oZKZuHzUBxslM6gR3ckMykcimYk0IpfMRPKRSmYijcglM5F8pJIZpRGZZEbJRzuZQY3IJDNKPtrJ\n",
       "DGpEdzKDMtNOZpRGZJIZlJmSzAgE8ilVPqXKnSB3gqynrKdAIBDuE+6T9RTInSAQbBteZaedYqpH\n",
       "uANN9RghJedocbuDgZ6jVaa6gTVHq0x181zP0ertDgbJWU/c7mCAs55oqp85O1d7e5nq1Kb6kenZ\n",
       "/IIf61SmemiW/wyzVCea6qHfXsvXTCea6qFZ3oKnqE401UO/3c9Odjo7pnpvPbcG3xCdHVN9HE5C\n",
       "/0jsaPVy+/klr+lTVwhxDU5BOWd3loN3LSxV3XO0XjN414Ws/d0oF6FnyBtvuOdoizV4CO57R+Zo\n",
       "hW+Fb/8531qw+FYjybdWEJrkWx2EWnxrBaFJvtVBqN5e1kEyCNXbyzrQQSiGmIapk3O0yLeGqTEI\n",
       "Rb6NM3Vijhb5NsbUKghFvo0zdfccrebbGFN35mjVCwxTD9NMY5i6e47WMLVrjtYwdfccrWFqxxyt\n",
       "YerEHK1hasccrWFqmaMVCMRPED9B1lPWU9ZTINg2ZCdmhF317Zpu4E5MohDtxGSAOzFt4LdruqG/\n",
       "XZM42GgnptGIyTla3IlpZCbO0eJOTKMRrTlatRPTyEw9R4s7MY1GtOZo1U5MIzNxjrazE9NoxMQc\n",
       "rd6JaWRmYo7WaETHHK2Rmd1ztDGN6JijNTKze47WaETXHK2Rmf/DOdq/AOWcgcQ9GNjRAAAAAElF\n",
       "TkSuQmCC\n",
       "\" style=\"display:inline;vertical-align:middle;\" /></a>"
      ],
      "text/plain": [
       "ExprArray((A_{1, 1}, B_{1, 1}), (A_{1, 2}, B_{1, 2}), ..., (A_{1, n}, B_{1, n}), (A_{2, 1}, B_{2, 1}), (A_{2, 2}, B_{2, 2}), ..., (A_{2, n}, B_{2, n}), ......, (A_{m, 1}, B_{m, 1}), (A_{m, 2}, B_{m, 2}), ..., (A_{m, n}, B_{m, n}))"
      ]
     },
     "metadata": {},
     "output_type": "display_data"
    }
   ],
   "source": [
    "ExprArray(ExprRange(i, ExprRange(j, ExprTuple(Aij, Bij), \n",
    "                                 one, n), \n",
    "                    one, m))"
   ]
  },
  {
   "cell_type": "code",
   "execution_count": 41,
   "metadata": {},
   "outputs": [
    {
     "data": {
      "text/html": [
       "<a class=\"ProveItLink\" href=\"../__pv_it/demonstrations/d3ae099e09c82b90b8793c23e4160715d6bf28370/expr.ipynb\"><img src=\"data:image/png;base64,iVBORw0KGgoAAAANSUhEUgAAAXMAAABuBAMAAAAnq+5QAAAAMFBMVEX///8AAAAAAAAAAAAAAAAA\n",
       "AAAAAAAAAAAAAAAAAAAAAAAAAAAAAAAAAAAAAAAAAAAv3aB7AAAAD3RSTlMAIs1UmauJMnZmRLsQ\n",
       "3e++988cAAAACXBIWXMAAA7EAAAOxAGVKw4bAAAEyklEQVR42u1cTWhTWRQ+z0STdNKfERXBwdaN\n",
       "KyHZuRAxiyoUFLIRuhD8AcWNmIVgN2oQKxVHpoggTGchiAtBpAvBjdCsRHFhwYCbYRBEZFZTI2MZ\n",
       "hyHmvXvfa9499/bcd988qXg+aEnvOd+5X/KS9/I+PgrgYyOo8MbQkqaL5liBImrqkZYKKq1bwhMq\n",
       "hAIdxwoUUVMPteS6qLQPd2u6SI4dKCKuR1ryR0fU2v4PaICmi+TYgSLieqTl+NmGUtqwZRkNwF00\n",
       "xwoUUVMPtXjNX6pKaWvxI/qs4C6SYweKiOuRljzsm1Vqtdw/6BjhLpJjB4qI65GWu3DpWLw0UC18\n",
       "UgfgLppjBYqoqUdaajBaV5+V9zd67kHX8+AUW76JdxAcUSmfOtyylt5PNNc1WgCKj8aPzsdL18f3\n",
       "/6t0i67CzKL/x9QNvIPgiEoe8ouxYrnT+/VyTD4wE3XAYiLFzwCGlY2aAP8pA2RXTnTuRRuEnKAy\n",
       "fMdTTgrt3s9gTT4wEzXQiIkU9wYOvlEOEcAf6BgFXUbpISeolFresv37pZ84MXXFUMdaYGAWXWnv\n",
       "46t+2GWUHnJkZcOirfQY8fnD2aERIMREirf3fn6IXa48/xktxCeEXSbpEUdWLth+TOPEny7DcAsI\n",
       "MaGWF91dkFvo9J33ygudFuzp7uzvjroM0lc4ouI9sVSuEifhoaGOtSSE8Q0TQlQ2wY9JJwviexgv\n",
       "QDboSS8fI6Q/Be/x+YMO0nvEJXi9Oxvl3olPzcJb2FI5bWjwKxerQ91u0i/AgjhQh6uzkB1yVEPV\n",
       "dXIVMsYD6ktJy3GwM9Ea1BEtuQ4uAYPBMIEtJLaQ2EJiC4ktpO/UQpLekNlCenryiJuFJIgZWkjS\n",
       "GzJbSDU45GYhCWKGFlLoDRktpM8w2nCykAQxQwsp9IaMFtJvgQIHC0kSM7SQpDdktpDgjKOFFBCz\n",
       "tJCkN2S2kAq/O1pIATFLC0l6Q2YLaVvL0UISxAwtJOkNGX0Yr+aNOFlIkpidheR7Q6taSNvOn2s5\n",
       "WUiSmJ2F5HtDq1pIf3W7bhaSILKFxBYSW0gMBoPBYDAYjDUA35VSbnY7prvgDnWb3HEUYSbiyspK\n",
       "4ErF0TbNaVMS2q4vYDtBpf01j6zz0VgDaPMHk8HgS1KWl6RVyWv8ktT+Ji9JDAafzr4daE5nfKvB\n",
       "txoMBoPBYHx3sMmve2OJhzjvTm+dKL9OptMrrtJJYtr8OhUyJ+Pt7sS0+XUqZE7G292JKfPrZDqd\n",
       "ire7E9Pm16mQORlvdyemza9TIXMy3u5OTJlfJ9PpVLzdnZg2v66uoAS7MsQ+wY53B0pMsvy6uqIm\n",
       "2NUhSoLdnF/X7A6UmET5dbyi5EvVIWqC3Zhfx7urt//NdPl1uXLr9kz92mOddDGkNDE1XZzzz1vW\n",
       "CXZEVBPsafPrYqX865/wDqY10uUQP35eL4q3rl2CHRFRgj1lfl2ueM/GYBkOaKTLIX78vJEXH367\n",
       "BDsiqgn2lPn1aGV9s/AGXmHp0ZBJuAiDwdXCLsGuIcYT7P9bfn2oUZz3lhqa97rEe7gOo0EAPWGC\n",
       "fYWYUYJ9tPe6l+ZrxgS7t9R70ebyyf8JQh8xowT7PVg34k22jAn2gTrsgM0/J0+wrxA5wW4EJ9jT\n",
       "Eb8Ay3WZEZaHvvgAAAAASUVORK5CYII=\n",
       "\" style=\"display:inline;vertical-align:middle;\" /></a>"
      ],
      "text/plain": [
       "ExprArray((A, A,A_{1, 1}, A_{1, 2}, ..., A_{1, n}, A, A), (A, A,A_{2, 1}, A_{2, 2}, ..., A_{2, n}, A, A), ..., (A, A,A_{m, 1}, A_{m, 2}, ..., A_{m, n}, A, A))"
      ]
     },
     "metadata": {},
     "output_type": "display_data"
    }
   ],
   "source": [
    "ExprArray(ExprRange(i, ExprTuple(A, A, ExprRange(j, Aij, one, n), A, A), one, m))"
   ]
  },
  {
   "cell_type": "code",
   "execution_count": 42,
   "metadata": {},
   "outputs": [
    {
     "data": {
      "text/html": [
       "<a class=\"ProveItLink\" href=\"../__pv_it/demonstrations/653b992822bd4eec30ff06bd50233315ee4f96a00/expr.ipynb\"><img src=\"data:image/png;base64,iVBORw0KGgoAAAANSUhEUgAAAdMAAACSBAMAAADsoz3jAAAAMFBMVEX///8AAAAAAAAAAAAAAAAA\n",
       "AAAAAAAAAAAAAAAAAAAAAAAAAAAAAAAAAAAAAAAAAAAv3aB7AAAAD3RSTlMAIs1UmauJMnZmRLsQ\n",
       "3e++988cAAAACXBIWXMAAA7EAAAOxAGVKw4bAAAGS0lEQVR42u1dT2gcVRj/ptl2dre7m7VoESpu\n",
       "vHhRSG4epGQPW7GisBclB6FRUOxBXFBoLqaLmFKp4qKCYHIQtAehlByEIgjZU2lRMWDAS5EUkaAX\n",
       "txFbmyrrzryZ2Zndff/mvTeTTb4fpEzyvff9yb6Z9+bHL18BHBwBOqwpWYOPI6AL3FDcQUEu04xB\n",
       "BzqyBhGvcuCG4g7yc5noMgbNdmQNIl7lMNtRHBTkkjlVpo86cUvWIOJVDrxQ3EFBLi+90aAOOnT0\n",
       "jqTBB8urHLihuIP8XKzmhzPUQQ9m/5I0+E8Jllc58EJxBwW5ZGC2RR1VnbgrafDXDMurHHihuIOC\n",
       "XL6As/O0QfkZ+7acwQfLqxy4obiDglyqUKnTfx/W3wxD4SP3m+sjtjTilViuvvKiQqmRUNKJhivM\n",
       "fl07tUobdKF24h7DsPCBc22fXx+yE6+epQrPjXZf2O798+OUd8HMgYQC6UTDFV4DmFynDCo0Af5j\n",
       "GY6TbWt4vueVWHagQnkab/S+ilXvgp3DcVal1EQjFfYCFTepywLgF5aBWqrnlVhWqKUKrd9QqNzJ\n",
       "hXelEg1XmG8xzlRf0c53voFWqu/Vt7we/1aNhLp+uVUqyyQarvDh3tdhykHDcn4Xa2WGgVaq79Wz\n",
       "2DfiH/UjoR56BybbEomGc/mu+zhMrG2P3BcKa9tteLL7KMNAKTXw6lmOteNWOhhqDi5LJBrJRRHU\n",
       "e9U/Z7sWq2qpn4dJqC2o2ZAKevGvckotzMOxM2+19YSyOvDzE6lUenT6NVicsV6+3aTcaD2L/Sv8\n",
       "2e1qCpWvw7kWpAbeqX4iuVCGkeetzUvJhTKMHG9AK7lQCARirwApbxdIeSPlHX5bRspbHkh5iw9C\n",
       "ynvggI2Ut2fwuGwq5V149XnnZUQH5c3xYZzyJlw2nfLOQGYd9FDeVB+cREET5e1x2VTKe/Jzy3ku\n",
       "6qC8d5hcsnnKe4VaKvGaa7ul6qC8iY8UKW/CZdMpbzhETBoob9dHipQ34bLplDe87XIkOihv10eK\n",
       "lDfhsumUt/Wt+70Oypv4SI3y9rhsOg98P9wHeihvz0dqlLfDZbMob+vKmWc1Ud4kVHqUt8Nlsyjv\n",
       "Urfb0UR5k1BIeScEpLz7QMobgUAgEAgEYkzg0lg0bIxLFRsiFTrkJJUE2B6TSpmJBhUWWC7a4/Kp\n",
       "shIt4K2LQIwX9tETeB/tqwgEAoFAjOvpQ/MJJO3DDHdv1ngC2cCVJYdYKm+TQeOAmaiaylsV05r9\n",
       "GVR5K0KjCJyfqKLKWxEaReD8RNVU3qrQJwIXSFRN5a24r0qLwHn7qkGVt+K+Ki8C5+yr5lTeqtAn\n",
       "AhdIVE3lrYpQUPsxHU85cypvRUSCvqDBoTmVtyoiQbc0vAw0jam81ddvP6j9z1K7n/Ppc+VY69eY\n",
       "ylv1IRIOmr2R7T/IfyifjVOqOZW36r4aCXq4leu7qcFijH3VnMpbdV+NBi01Mv0d4A9Ykt9XE2ls\n",
       "ogOTUAoOToVb8M33e/dtudhedrqjENy0d1b2YpFWrVZ7Buynm45U3L2GLz9OU8WdCGZgvyBt/XaC\n",
       "QP02AoFAIBAIxG54iapKv1vvQqDKO1ohqrwRCMQuA6q89+K+ikAgEAgEAoFgI47KmyfStqZ0ZSfo\n",
       "iTlMSeXN0/joU4cLejKm8uaKtPWpwwU9GVN5c0Xa+tThgp6Mqbx5Im196nBBT8ZU3lyRtlD/bSEI\n",
       "ejKm8uaKtIX6bwtB0JMxlTdPpK1PHS7oyZzKe3DOYDfvwXnxu3kL6syNqbwH5wx18x6cR+nELdDL\n",
       "W1BnbkzlPTRnoJfs0DxaJ25uL29Bnbk5lTeZkzu5sJRdbowo1Zv3yafn6+9dcX4Qu5v3kKfeVVU8\n",
       "UQhXGEfl7c1xGmvXs/URpZJ5hc9+h998fW/Mbt6Dnpyrm8KJhrONp/L25jiNtRuZ+eFSvXnWtSm4\n",
       "A0+RuzleN+8hT87Vv8KJhrONpfIO5szBIhRnhkoN5h1s2pvwk/uzeN28R3g62MxviiYazVYJW3AB\n",
       "KvaIBeyh1MiuWh3nJlXt5t33VGpkqnr/cFBodXV6n+tyhv4fWFZ6n0Futaqhm3ffUwWKbyZfar4O\n",
       "j8AD79O7eV+EA2Vrrq2hm3ff00XInk6RxUium/cEpIsEu3lfSrnUBLt5K3j6H+SuJ/4EWGbIAAAA\n",
       "AElFTkSuQmCC\n",
       "\" style=\"display:inline;vertical-align:middle;\" /></a>"
      ],
      "text/plain": [
       "ExprArray((A, A,A_{1, 1}, A_{1, 2}, ..A_{1, _a}.., A_{1, n}, A, A), (A, A,A_{2, 1}, A_{2, 2}, ..A_{2, _a}.., A_{2, n}, A, A), ..(A, A,A_{_b, 1}, A_{_b, 2}, ..A_{_b, _a}.., A_{_b, n}, A, A).., (A, A,A_{m, 1}, A_{m, 2}, ..A_{m, _a}.., A_{m, n}, A, A))"
      ]
     },
     "metadata": {},
     "output_type": "display_data"
    }
   ],
   "source": [
    "ExprArray(ExprRange(i, ExprTuple(A, A, ExprRange(j, Aij, one, n).with_explicit_parameterization(), A, A), one, m)\n",
    "          .with_explicit_parameterization())"
   ]
  },
  {
   "cell_type": "code",
   "execution_count": 43,
   "metadata": {},
   "outputs": [
    {
     "data": {
      "text/html": [
       "<a class=\"ProveItLink\" href=\"../__pv_it/demonstrations/3dd21e3b4068ed83bfc4d09292b40031a94c8d290/expr.ipynb\"><img src=\"data:image/png;base64,iVBORw0KGgoAAAANSUhEUgAAAf0AAACSBAMAAAC9Nw6AAAAAMFBMVEX///8AAAAAAAAAAAAAAAAA\n",
       "AAAAAAAAAAAAAAAAAAAAAAAAAAAAAAAAAAAAAAAAAAAv3aB7AAAAD3RSTlMAIs1UmauJMnZmRLsQ\n",
       "3e++988cAAAACXBIWXMAAA7EAAAOxAGVKw4bAAAGr0lEQVR42u1dT2gcZRR/0910/3SziaUWoWLi\n",
       "xYtCcvMgkj1sxIqFvSg5CI2CoofiooXmYruIkUgtLlIoGA8F6UEoJQehCELmVFo8WDDgJUikSPDk\n",
       "GrHV2rLu/NnJzux87/u++b5vZ2TfD5rQ8Hu/914yOzO7b3/7ABwcBjasWUBxGCQgRdahglYf6Mwh\n",
       "pAMdPMOcTOVzWvqXUEGr7+vkughpAe8fjVUia1HBqg908ien2azFP9AEaKwSWYsKVn2g8/q7TSbp\n",
       "4NF7aAIsVo2sQwWtvq9jtT6bZ5IeK/6Jnl+wWCWyFhWs+kAnDwttJquW+wc9FrFYJbIWFaz6QOcr\n",
       "OLfMIpXnC3exBFisGlmHClp9oFODmQb7l2T9hf6C3dhb7lW28jnvrzFAvvHmawn7H1ThHipI9f22\n",
       "i9/UT26wSOfri/8iCbzYwtpt5z8rF/BqQuQanIjj/DDrf6nsiahwgFUftH0TYIolVmkBPEQS+LE5\n",
       "L/55vJoQ+T7MxJ3FJ2v9L1tCKVGg1Qdt95JN7jAPIICf0WPRjRXrP0T+Mr5/kcN/QOXipbUadvgj\n",
       "1ffbLreRu8Sv8bvNfqxQ/xEynErUfkil8sVv8Aubi1UftP1E798hxl2S5fyCNtl3W/1Yof4j5MJ2\n",
       "ov5DKtbNWXjAvsBj1fd1vu8+A7nNvdgrSmVzz4bnuk+xEgSxIv1HycfsJO1HVCZa5R3mox+rHms7\n",
       "wTMSocd/iGzVrGn1lNVmvtaE1NErprIs0X+PfOzMaVs95QxMvp9+/9Ybd1uFO3B07m1x8u/droaU\n",
       "V6D4DmQDOWNkwyqacNUY2bCKJrSNkQ2rEAiEsQbNP9ig+Qd+D0LzD/FqaP5B8w/1Z1s0/6D5hxhG\n",
       "NP+ovPWK81qG2PzDJyvOP3wV7qEykvlHHvLOq1Fi8w+frDj/8FU4GNH8Y+qy5Z5mheYfPllx/tFP\n",
       "iWJU84+SLdR/iKw4//BVMjL/gIO3+f1HyIrzD1clK/MP+MDm9x8hK84/XJWszD+s74Dbf5SsOP/w\n",
       "VDIy/zgCjwg8/kNk1fmHp5KN+Yd1/czLwvMPn6w4//BVsjH/qHa7HeH5h09WnH/4KjT/yAxo/mGK\n",
       "bFiFQCAQCAQCgTBmcF9uZGFLRGFLWzrNKlsiCu5rzgwwX4aWJgXA0mlWQQsLFCqYhC1SjC1TeUXL\n",
       "QSumYhuvg0Ag/K8x7uf/cb/+EwgEAoFAIBBShNy9tCYk9n9I+TksoRv/LYVak1af2P8h5efgOUnE\n",
       "IGchMev/kPNzLOjoX9JCYtb/Iefn4DhJxCBpITHr/5Dyc/CcJGKQs5CY9X/I+Tk4ThKxa4CkhcSs\n",
       "/0POz8FxkohdAyQtJGb9H1J+Dp6TRAxyFhLD/o+BwMLT7jfkU6kGld5zjQdJLCDDKdGTpVH/Ryjw\n",
       "Vbck5FOpBpUmlr0CTsi2P5wShVn/Ryhw17ukMvsPKVXdE+99eQtETErsPNoy6v8YDCz8vWqj/YeU\n",
       "zq05Rz5qAYm/BgynLB1f+QhUqk/s/wgFFreLNbT/kNIF26v5lOQ1ICblrWvt6rRK9Yn9H6HAQ+3S\n",
       "LNZ/WOlbcK1y0haQmJSPfwhTtkL1if0f4cBqM99A+o8o7cKi803WAhKbcgmuCeXEpNQxBdV5EPtU\n",
       "vh46cAeULSB+yl2oF9J/2WLSXocbwv1vlzbULSBeSqsDPz2bZudWvV5/CQovtuDsvPOpVDj7SI99\n",
       "GU6vgYoFZDBluQEfZ+V98FLm9tzoUxpGWepovjr6lIZRkmK3R5+SQCAQCAQCgUAAev8n+T8QCD3B\n",
       "knoWRv4PAoGQGZD/Y7yv/wQCgUAgEAiEcUPy/R8GDCBaVVCyhv0fKRhApFQM7/9IwQAip2J4/0cK\n",
       "BhA5FcP7P1IwgEipGN7/YcoAok3F8P4PYwYQXSqG93+kYACRUjG9/yMaiS4lj0ol2wDCW0giTlbf\n",
       "/xGNxJeSR6Vi7R/c/R+chSTiZA37P4Yisbf/DknF2j94+z94C0nEyRr2f3iRpeMrq8X1Jq9/X+ri\n",
       "pbXGJ9edHyTaADKkgm0AMbz/w490HBiNYoPXvyflbOz4FVa9HyXYABJVQTeAGN7/4Uc6DoxmfpnT\n",
       "vy/lbOy4By94pwv5DSBDKtgGEMP7P4LIJTgLk/N4/4HURKuwAz+6P5PfABKjwt4AMjL/xy6ch5kC\n",
       "7/j3UW0WN6yO88BXsX/sq6S/AcTq9I6A9byg/WOm9xcrbdQU7R/7KulvACk34El49FMh+wfAFTgw\n",
       "bS3ZihtA9lUytAEkBftHljaApGD/yNQGkBTsH+oq/wHHW4Yy99C0tQAAAABJRU5ErkJggg==\n",
       "\" style=\"display:inline;vertical-align:middle;\" /></a>"
      ],
      "text/plain": [
       "ExprArray((A, A,A_{1, 1}, A_{1, 2}, ..., A_{1, n}, A, A), (A, A,A_{2, 1}, A_{2, 2}, ..., A_{2, n}, A, A), ..(A, A,A_{_b, 1}, A_{_b, 2}, ..., A_{_b, n}, A, A).., (A, A,A_{m, 1}, A_{m, 2}, ..., A_{m, n}, A, A))"
      ]
     },
     "metadata": {},
     "output_type": "display_data"
    }
   ],
   "source": [
    "ExprArray(ExprRange(i, ExprTuple(A, A, ExprRange(j, Aij, one, n), A, A), one, m)\n",
    "          .with_explicit_parameterization())"
   ]
  },
  {
   "cell_type": "code",
   "execution_count": 44,
   "metadata": {},
   "outputs": [
    {
     "data": {
      "text/html": [
       "<strong id=\"Apj\">Apj:</strong> <a class=\"ProveItLink\" href=\"../__pv_it/demonstrations/178425e83c1fd6ce09092436f2b44fb1146a44ed0/expr.ipynb\"><img src=\"data:image/png;base64,iVBORw0KGgoAAAANSUhEUgAAACUAAAAVBAMAAAAzyjqdAAAAMFBMVEX///8AAAAAAAAAAAAAAAAA\n",
       "AAAAAAAAAAAAAAAAAAAAAAAAAAAAAAAAAAAAAAAAAAAv3aB7AAAAD3RSTlMAIs1UmauJMnZmRLsQ\n",
       "3e++988cAAAACXBIWXMAAA7EAAAOxAGVKw4bAAAAw0lEQVQY02NgAAEhBkygjynE/B9TjCVeAEMs\n",
       "Mb8AXYixod8AQyuD/QR0scUM9QkIHjuYdGCQD0CI8YLM5tjiEr8BTesJBgb+C2hiDkD1Dxg4PWeG\n",
       "g1U4AwkuoJ1MHxhOrheoBaswAhJyQMz9kUGmlUEeyOI5kMLAcPq/DgPz/k8JDDsY7MBGaSIZ+5wh\n",
       "BEx/RPLgR8Y7DMeATn6AEOPUaDnAUGfAwIHkfBaw9wwYmJC8zgsKGq4DWnVIVuT7gAxg8ABSAIJ9\n",
       "J3VK5RyTAAAAAElFTkSuQmCC\n",
       "\" style=\"display:inline;vertical-align:middle;\" /></a><br>"
      ],
      "text/plain": [
       "<IPython.core.display.HTML object>"
      ]
     },
     "metadata": {},
     "output_type": "display_data"
    }
   ],
   "source": [
    "Apj = IndexedVar(A,(p,j))"
   ]
  },
  {
   "cell_type": "code",
   "execution_count": 45,
   "metadata": {},
   "outputs": [
    {
     "data": {
      "text/html": [
       "<strong id=\"Bpj\">Bpj:</strong> <a class=\"ProveItLink\" href=\"../__pv_it/demonstrations/f277d8a83a7e43415435af95629eb777433a69c00/expr.ipynb\"><img src=\"data:image/png;base64,iVBORw0KGgoAAAANSUhEUgAAACUAAAAUBAMAAAD4luk4AAAAMFBMVEX///8AAAAAAAAAAAAAAAAA\n",
       "AAAAAAAAAAAAAAAAAAAAAAAAAAAAAAAAAAAAAAAAAAAv3aB7AAAAD3RSTlMAZrurzTLvInZEmRDd\n",
       "VIkafcLnAAAACXBIWXMAAA7EAAAOxAGVKw4bAAAA1ElEQVQY02NgYBD6b2zsFMCACpIYGJi/ogqx\n",
       "/2Bg4PyFKsYIVMP4A1WM+QMDA0s6qhibAgO3DZod8RodJgIILiuI6C9g4E1EiPGAtKgB8Xs0vZ+B\n",
       "WL4BRYj1I5Cwn8C4UNAUxN2xFkhwfAeKf2HYOL8gBiS24AqQYElgYJjmzVDdzFAP5HFveAV0sf5n\n",
       "YxNdIE+D4RrYLEckc1MZrMD0d6SQ+M5+mmEf0OgEpJDw6NrAEHaBgcMAIcb1AEReYGBB8ibPBSDB\n",
       "ucEzDMmK96tBBjCsAFIAkUsu26uiFbYAAAAASUVORK5CYII=\n",
       "\" style=\"display:inline;vertical-align:middle;\" /></a><br>"
      ],
      "text/plain": [
       "<IPython.core.display.HTML object>"
      ]
     },
     "metadata": {},
     "output_type": "display_data"
    }
   ],
   "source": [
    "Bpj = IndexedVar(B,(p,j))"
   ]
  },
  {
   "cell_type": "code",
   "execution_count": 46,
   "metadata": {},
   "outputs": [
    {
     "data": {
      "text/html": [
       "<strong id=\"Cjk\">Cjk:</strong> <a class=\"ProveItLink\" href=\"../__pv_it/demonstrations/f7a30fa9bf46e62c05eed19ffa1b33476ea0de4d0/expr.ipynb\"><img src=\"data:image/png;base64,iVBORw0KGgoAAAANSUhEUgAAACMAAAAUBAMAAAD1iJl/AAAAMFBMVEX///8AAAAAAAAAAAAAAAAA\n",
       "AAAAAAAAAAAAAAAAAAAAAAAAAAAAAAAAAAAAAAAAAAAv3aB7AAAAD3RSTlMAEHa7q2Yiie9Umd0y\n",
       "zUTye3nKAAAACXBIWXMAAA7EAAAOxAGVKw4bAAAAyElEQVQY02NgYGBUdnFlK2BABhqKDJyrA5BF\n",
       "hPcAifUJyEI3BIDEC2QR9p8g8hSyUP4GECmDLFSvAGXwwIX2wwzmPgAkokEK+sF8Aag4xwOQKhCL\n",
       "8wDMZAaYi9gZGIRWgnjBbOpAcZDuQgaGBXNBQk6ZEgkMnF8ZGJ4LMDAKVIGEmiaALJYy8QKZyXAV\n",
       "iNl+rUF24DcgZjV4zYYQ4WlgEGdgUTjNjhBicmA4MYE5gSUGIcQLDLEJKOF47wQDA58AitCihUDD\n",
       "IUwAeRAnBQZMeeEAAAAASUVORK5CYII=\n",
       "\" style=\"display:inline;vertical-align:middle;\" /></a><br>"
      ],
      "text/plain": [
       "<IPython.core.display.HTML object>"
      ]
     },
     "metadata": {},
     "output_type": "display_data"
    }
   ],
   "source": [
    "Cjk = IndexedVar(C,(j,k))"
   ]
  },
  {
   "cell_type": "code",
   "execution_count": 47,
   "metadata": {},
   "outputs": [
    {
     "data": {
      "text/html": [
       "<strong id=\"Dki\">Dki:</strong> <a class=\"ProveItLink\" href=\"../__pv_it/demonstrations/8c581377def276d6a1419602dba75f9349d4ac830/expr.ipynb\"><img src=\"data:image/png;base64,iVBORw0KGgoAAAANSUhEUgAAACUAAAAUBAMAAAD4luk4AAAAMFBMVEX///8AAAAAAAAAAAAAAAAA\n",
       "AAAAAAAAAAAAAAAAAAAAAAAAAAAAAAAAAAAAAAAAAAAv3aB7AAAAD3RSTlMAdrurIs1mVDKZ70SJ\n",
       "EN02Mxp8AAAACXBIWXMAAA7EAAAOxAGVKw4bAAAAyElEQVQY02NgYBD6r2yk7MCACr4yMLB9RxXi\n",
       "+AgkZqGKMf4AEvsTUMSYPgAJ/wMoYvwKQKLfAEWsXwBI5MPVXQER8g1Awn4D20OI2EEQoQ8ifjEw\n",
       "rEbS+wmI2b4xsHxAc94tBQY2BUeQmRsNYM5TZWBgFqldwsDAK/AXyGUF6tk3gYGBS5wBaBnL9QdA\n",
       "af3PxkpTQK6e2QD2gQCSVUncD0CBc/8Gkpghx4MDvAcYSjmRxFQYzBo4ljNcFkELSQZ2BkywF4sY\n",
       "OBQB19Yucsky3ogAAAAASUVORK5CYII=\n",
       "\" style=\"display:inline;vertical-align:middle;\" /></a><br>"
      ],
      "text/plain": [
       "<IPython.core.display.HTML object>"
      ]
     },
     "metadata": {},
     "output_type": "display_data"
    }
   ],
   "source": [
    "Dki = IndexedVar(D,(k,i))"
   ]
  },
  {
   "cell_type": "code",
   "execution_count": 48,
   "metadata": {},
   "outputs": [
    {
     "data": {
      "text/html": [
       "<strong id=\"C_i_to_k\">C_i_to_k:</strong> <a class=\"ProveItLink\" href=\"../__pv_it/demonstrations/365d354598e29a38013d8499dcb4beb16015d18e0/expr.ipynb\"><img src=\"data:image/png;base64,iVBORw0KGgoAAAANSUhEUgAAAI8AAAATBAMAAABb6UOYAAAAMFBMVEX///8AAAAAAAAAAAAAAAAA\n",
       "AAAAAAAAAAAAAAAAAAAAAAAAAAAAAAAAAAAAAAAAAAAv3aB7AAAAD3RSTlMAEHa7q2Yiie9Umd0y\n",
       "zUTye3nKAAAACXBIWXMAAA7EAAAOxAGVKw4bAAABuklEQVQ4y2NgYGBUdnFlK2CAAyETl4B0BuIA\n",
       "il4NRQbO1QFwOaYmAYZZW4k0CFmv8B4gsT4Bbof1AQYGrm/EmYOi94YAkHgBl+NtBBJ8DcQZhKyX\n",
       "/SeIPAWXq58AJHgWEGUOit78DSBSBibH9hvsvwNEGYSit14BGjYQn7J/gioSI8IgmF4w2A8NKnaI\n",
       "IDcsmItgCkQv4DQIpjcapLcfzBSAyXF8ADsPwuECBZfSBpwGwfRyPACZCmJzwsOEG2zQHAiHGSyH\n",
       "2yCY3nwGWCpgZ+BTgToC7LUChkcORBgE1csQzKYODHmQ/woZhPgFwB5iAwU2uwCjwkdkgxgxDQEF\n",
       "BlQvg1OmRAID51cGhucCDImzGRjkQcE6P4CBr5CBTXIDskEgGca/DFAlcB5UL0PTBB4gT8rECxRW\n",
       "RsDw2QgK58Uu60BmKDAsNrYwNg4AGwSW2QUKwgUwYrcAXC/brzVI2fgjMLwnIvjyMihhNBHDa5zw\n",
       "iGZgNXjNhhC/sAAUxnAwlwvFoALM7IFgsiicRvAYnRIYGJESqoga1CC22u8KKDKwUgvBZE5giUGR\n",
       "Y0JXzIxThoFBgYEEwEWCWgBBZ2O/cOG9jgAAAABJRU5ErkJggg==\n",
       "\" style=\"display:inline;vertical-align:middle;\" /></a><br>"
      ],
      "text/plain": [
       "<IPython.core.display.HTML object>"
      ]
     },
     "metadata": {},
     "output_type": "display_data"
    }
   ],
   "source": [
    "C_i_to_k = var_range(C, i, k)"
   ]
  },
  {
   "cell_type": "code",
   "execution_count": 49,
   "metadata": {},
   "outputs": [
    {
     "data": {
      "text/html": [
       "<strong id=\"D_j_to_i\">D_j_to_i:</strong> <a class=\"ProveItLink\" href=\"../__pv_it/demonstrations/8d12c1b59c3ffa7afff98bd4d346291ed07398160/expr.ipynb\"><img src=\"data:image/png;base64,iVBORw0KGgoAAAANSUhEUgAAAJMAAAAUBAMAAAB7fhJGAAAAMFBMVEX///8AAAAAAAAAAAAAAAAA\n",
       "AAAAAAAAAAAAAAAAAAAAAAAAAAAAAAAAAAAAAAAAAAAv3aB7AAAAD3RSTlMAZrurzTLvInZEmRDd\n",
       "VIkafcLnAAAACXBIWXMAAA7EAAAOxAGVKw4bAAABxUlEQVQ4y5WUv0sCYRjHv+qZdacm/QOGkLRE\n",
       "ko6B2iBEi5OrFkGr/0EHDolLLUVb0hREcCGREGFLSzU0SEtLQ0O09EMjK6ieV+7seTmM84W7e597\n",
       "Pvd93+fHewDGfuLxuSx6wzXdiicm4HDI9BLgeWPeoXEgmXWqxWlfBxj5ZM5VHdipOpXitIt25Oow\n",
       "Z5jWCOtOpTjteQaUFeZM0pUpOpXiNAWrzfLUUO5q506VJDo/WU6E6Ok1be9ruZQWE0eZt+hjYawX\n",
       "EVikp9/8dPgduBHavZ0dpvpLWfSDMKJ0PbEduAtA0GoOVSxcPusvJdEtyAUbjbGKusUt8I8Up70v\n",
       "ogwbqB9YuaPtej6gVa6dSJn0dswM1tsGqk3AMHOHfApqIMWlNLsKozX9i+YKBbu1AM14hNYWzgw1\n",
       "/7KBk2CVSzVIuOsXkz/LpH2nhHjEcZwSL6mkV7TQjDjdIjYlhN1INBIJdaX8l/TqQhS6at047ZZO\n",
       "BwUaMHhCi1Kubm0BcrpxxHtNVJWTObmCdzYpTjdV3mtUgzonS5aU7/5bh2Y/35yurTGDUgMJT/d2\n",
       "1V3JXsF+P4/5nGwrmwWr2wcde/uyrVaMARV+AfsdfD+m1a53AAAAAElFTkSuQmCC\n",
       "\" style=\"display:inline;vertical-align:middle;\" /></a><br>"
      ],
      "text/plain": [
       "<IPython.core.display.HTML object>"
      ]
     },
     "metadata": {},
     "output_type": "display_data"
    }
   ],
   "source": [
    "D_j_to_i = var_range(B, j, i)"
   ]
  },
  {
   "cell_type": "code",
   "execution_count": 50,
   "metadata": {},
   "outputs": [
    {
     "data": {
      "text/html": [
       "<a class=\"ProveItLink\" href=\"../__pv_it/demonstrations/5100ee09d15f91de5cfe9bc8709e5329f779b1de0/expr.ipynb\"><img src=\"data:image/png;base64,iVBORw0KGgoAAAANSUhEUgAAAWQAAABLCAMAAABwSA1FAAAANlBMVEX///8AAAAAAAAAAAAAAAAA\n",
       "AAAAAAAAAAAAAAAAAAAAAAAAAAAAAAAAAAAAAAAAAAAAAAAAAABHL6OuAAAAEXRSTlMAdrvvq93N\n",
       "RIkQmTJmIlRAUOjneOcAAAAJcEhZcwAADsQAAA7EAZUrDhsAAAkSSURBVHja5V3reqwqDJWrgMI+\n",
       "vP/LHlFBkPvYKdPWP51PZA0TQkjCMp2moRedp995ScI/ZSgC18b6ccJrfZDhDxmxQpXpBsr/ffTr\n",
       "REVf7TKD1g5o/QgZ89o4FAtMi44eWKHWeLsoXGJ0ALeWdZIsYaX6oPwuoFV2s/6IZYgr+sSDdqV1\n",
       "Sl/gAaXvogEImGWiBIml0gkVdqGtxhbDD5Dxoiu7nlhD+51QDanBqTYinB9ITlGJRK8uqHuXVbQa\n",
       "GK3GC5nWDCMKNhLJEiq2nvdWHdpK6qz9jOI9qQsq6oJaVRmS8bteTZGVPwkSTCChGVhboQaqya5H\n",
       "l0jx+qDiLnRtXqpguCLX5ln4O5Yws7Jm7CjHZAkX6oXNI53tgkp0aXfOIBpukWvT7GvMrEwPFoNA\n",
       "AAC+6xYrYfdBJbqstH2xDrbKWNdMG1GBKm36GakQOHYjdfMFScl76oNKdFHt+qnpUBlzXXVw0GWz\n",
       "ARRi299hbj3eNjLkeWj3qeyESnRZdIcmLSOFvNZX0iVkfqx+HVlxq103j4BcYlDLPUTpg0p0mds1\n",
       "edZspJBh1Vp45uJ0EAiK7OhqNSbwVDzfmCVWfg9Uoovq8Mw0Gmot6iOFVqXmNYhs+d2ObhKiQYt0\n",
       "2sh42KMbKupiAvCMJUrq0jLSWtTXkXWVJHIjlvv80CvkONfvEepeLae/NbPb/Regbl0815I3bGtg\n",
       "pL3Aup5IXsgRIGu9/3BlPpghkzNVi11Kx9oV4pK4XECMxRzefwEq7rI1zdHXFRzVgf4FatmhSWap\n",
       "qexvy7Vke/RDTZI09L6Msh6WvG8xyflUTH4Fss77L0D5aasGU0D1sLMfpZvSgDAZU/BsOJdryfbo\n",
       "h5okbOjtOzrD8heibT/gyanIjxp03n8Byp/4FvGtelhWmTYG9XJ4GisSfudxxzLOU0Zjw81v3X30\n",
       "qK8euOd+/08dpE9y3PR++0VGpTuVJn9GyHSUewEKcZD8SRJsGCx+GFi/zDZheb8GqJ8k5Aaqi7A5\n",
       "VAARMkwQSBDsWgkvZy5yx2SWzgKg1tuIIMSRsuQH61pQcLzxTqw61YVdq9Z+Ah1CVi9vX1BnAmaP\n",
       "znKOKJXczw/WttxO6t6IVaW6sCvZbw0HF+2iSlJEGpeAqOUF3DmriJz5/GDdYec6h7ffh1WlugAX\n",
       "jTCbxuDtW2GaItLo1mQ2A+SNbbFiWCPdyA0W2BYlw9tvxKpRXdaL36VtLN4stgxFpDHgSwvZo7NA\n",
       "7XxqltwKUoM9Om13VeL2m7BqVJdLyPtub89ZOACYL4wZsoH5BBjm08LgJAW7EC++h2vyn5GYgT3z\n",
       "wMFuAzgOhJxeMB6dxTsbvm+SwWBje7lELW/FqlFd3M41a7LtmO54ZZtaDCZBTMIU003Wm/DYBDcR\n",
       "MLeePb6Ha/KemQ3XaT8sZQdPYdWBkNPTT2OTHB9UhYONzKikMrr9Tqwa1cUJeTeuNuO/SoPAJ7yp\n",
       "ppoo3gHlutOqLlW7+B6uyXvmYB6badogzJ+QR6ozQr7Op53piw+qgsHe3W+Mo3PoN2PVqC6zFfJh\n",
       "mYwA+WGchDuy3c0u0P/4pEN/0fE9Ftu0XM+IHZCwHQKZyUcgEHLamF9MC2f64kP1YLC3Fj65E/yE\n",
       "GX0LVo3qsthk2GFo5LXHOpHM+xOGXTP7ibOQ7+Ga3IfdtefHXO83l8AR0fq/ipCd6VsjpY8GG5pR\n",
       "rrJm9C1YNarLv1PIszM0gJ/CMt9rPrNdjMatFf6iCvkersl+4DvgaYb3VQHQ1KDJzlw408ejEDQa\n",
       "bOzzZszoe7BqVBeryc7fldgc+cwTRucimqgR52p8QeJ9643v4ZqIYyQYaWG6+5jQGG6IW4Ts6CzO\n",
       "9MFzW+GhGbWDTbeEt9ux+NSNVae6LKdNttSx2SxXpRduohnjPhy0QGmO5qW3Z9z4Hq7pesZISxGx\n",
       "a7x5jewWBeS8C+cOnbM3E2FnjV6BjDfYkJ/i0wyj23Usn6zSiDXVqS77xscxPYgdEB12SAAwKbGq\n",
       "w/9YAGByx3Xfeed7uCbvGQzYIjFY9s8M3F7cyAn5oLNYqgmEwvWyXJPbYP2WvdO9QxeW7dOBVae6\n",
       "zNUMj/gi/gujt7A6EyaRbMDZzUIpEE+6qS4FrCrVpS5kwr5EvhypttOCfLqlm4VSGHk31aWAVaW6\n",
       "qNpxNf+C8ymyyROzu7eZGzbM5PW6WSiFTFc31aWAVae6rJWjNkU1ffzuqlqBmKOkfU5jeSaf3c1C\n",
       "KWQTu6kuBaw61QWMohyK7MnIB9JZisniekKdjaIQMQ2nv3IJLcZ88Tr4raDvvOAoSsCs0Z8RMh1F\n",
       "bvlLDKJxtD/dcAT7E1gusuWnjqL9kTr//EewXOrkFjnOMmJd87+voi0cQJiowAKwoZlsmyhG299A\n",
       "W9jOQOFRSJHEeQZUJbfM4/Z4UPNrLpZLvgKLHT6KQ6pElFWo5PIEqEZuGfiOWXV+XUoAEnu8ezfj\n",
       "ln0i4wlLFAHI4zwDqpFb8LhCAVX++ZWxzlZgsbyUBPkKRCa/gPMQqEJuIQPp7qTsXliWC7tsd1SB\n",
       "xebVE29pQx3JMY/zEKic3eEjIwJW3vmEXcCFCiw2NE9ZUnrf4kuVXJ4BlcktSg+swTeXv/xUj1IF\n",
       "lp2XYq7Yks73buVKLs+AyuQWPLR2S/m93/PYmhaiJXvUmSDkRUTIEs5ToDK5BQ0NbUUx2jwJGHaI\n",
       "QGwXa7akETm9hPMUqEhuWfTQip3lmiankK8KLCLDS0mW+YkSqSWcp0BFcgsYXOkJobq5uFjm0TZv\n",
       "zWXCk40saQnnMVCR3EIHZxtBKX1xslxcBRZ56hRPWFLL4k5Y0qiSS4zzEMgjtyStBRsr5Klkrqxf\n",
       "ZBnQmIDD64x4KVajEk1xJZcEzjOg6VYiMFL80S/essIIFrsGTQUWxtZJHs8GTJbtZwqTwQFx0/nD\n",
       "w0ouMc5zII/ckopEhheq5qW11F+0Jdn0QsWWTiBJShZxfE4cFFS5v2hLsumFii2dQKIQuSIxjb9K\n",
       "/KTeoi3JphcqtnQCSfiaEn3fpQrLqbdoS7LphYotnUCw8Av0ZxS1FwU9+BEslxK5BX8Kt4Ss02+9\n",
       "ZvQpdVMW9GsruJDP+Tc1s/ylMua+jP8H5R5pO2zlitQAAAAASUVORK5CYII=\n",
       "\" style=\"display:inline;vertical-align:middle;\" /></a>"
      ],
      "text/plain": [
       "ExprArray((A, B, C, A, B, A),  \\\\ (D, E, F, D, E, F, D),  \\\\ (G, H, I, G, H, I, G))"
      ]
     },
     "metadata": {},
     "output_type": "display_data"
    }
   ],
   "source": [
    "# Unable to format this in an array form.\n",
    "ExprArray(ExprTuple(A, B, C, A, B, A), \n",
    "          ExprTuple(D, E, F, D, E, F, D), \n",
    "          ExprTuple(G, H, I, G, H, I, G))"
   ]
  },
  {
   "cell_type": "code",
   "execution_count": 51,
   "metadata": {},
   "outputs": [
    {
     "data": {
      "text/html": [
       "<a class=\"ProveItLink\" href=\"../__pv_it/demonstrations/118ffd019a5d654b36b30b7a3e9b080daad555760/expr.ipynb\"><img src=\"data:image/png;base64,iVBORw0KGgoAAAANSUhEUgAAAZUAAAAyCAMAAACj67brAAAAM1BMVEX///8AAAAAAAAAAAAAAAAA\n",
       "AAAAAAAAAAAAAAAAAAAAAAAAAAAAAAAAAAAAAAAAAAAAAADxgEwMAAAAEHRSTlMAdrvvq93NRIkQ\n",
       "mTJmIlRAUMakMQAAAAlwSFlzAAAOxAAADsQBlSsOGwAAB/xJREFUeNrtXNu2pCYQFRAEBML/f21E\n",
       "5aJQgHbP4kxyfEhcVlGNFNRlu89M07gLr9PvFS+BxQ+YxazyZ/q/vvS1F1zpeLfMPH+GzF+ytuzt\n",
       "yAVVhIaOfjFVeDFzOkpha+ftYkCMa8nfT6rTMLOPhgqEN4ma9PZ+SFXs8nnwbiP5WRbRUQQf58kC\n",
       "q9OSv766DBtrnwxFBLnQZCR1HmG1MEXVUK/QwkmWYUraHuLFyrJPG/L3m6XLsJyt7h4qMD3dJPdR\n",
       "qmbZkJGpRZHSZovic78pWw7DLfn7efUY5poXjhI0lIWFXo4XrC48kwO9Qgqp3sQANlv/RuWapSV/\n",
       "X4J0GNZoQtb0DuVRdT1WnNWi1GLHlaHIFvaL5LcQLWZaTSuw/MO0UjcsXWJRnUO1jXWVWDtSOhuX\n",
       "8Gnpp+MeWi1GCM3+gbhvn5b89XUzvD0o7Gbj9HhzqD8qqKf6TCuJUZllLVY41MSjpI/Ud7wiR9lR\n",
       "q8snodjLM3wxvM1pLR2V7QTMzaGngTwiGVLt8L+dKvujd3FeZAlQDPEbrRxIILnPlCtC7/qx1g+7\n",
       "1cdSbjUY7hxKkhpa+D1Zn8OoVpLMda/4nQhVQpAcf9olt37YNYSHIu0cSqMLzHopxeAyUA8KYMUq\n",
       "JESwIJ/t4jCKGRp/l3/qlavhzQPSlOKXmyupD436cY1539yEHdNJovJuwOgmXy3bN+ee/0Q+/iIv\n",
       "eqUrcYqyYeeBs1iPGou6QC7g0CDR4ehwEbCZ/JfbkeSPY3SY1EEgRs6T7sAJLfYVFpYlfVkuL3ol\n",
       "DIqj80eJ5YvhSYiJy6uG9jPHuxPAoYnkLKKX4JTYAaTvVEgsCBPi8DNMCX6wusx+hDVl8eOYzRxg\n",
       "PpOeIeph7rJc4u0i7j8qOSthEA0tc7iLN6dSZjgU66eG2BT2RTfuhleHhl+ehNyWViZhjYZ7WoTu\n",
       "eVhW7zX0wCtljK4jYkAYU7l1E/bovoyAzIkVzCumJ4bBSj7UghrwUFCiaUNJ+cy0+K5IPIBhihhd\n",
       "V04FCpwybrfFdpkmS0he9ArvmRCotJKWBn9uVKqGUlgf7t0j+luYMkbXdcagb1u45GUxI12b2SlP\n",
       "vaI5s3tr2fU6sJKv7gR6PBSUaNxSCrHkyBCoDDE8wug6LgU6U1TiZ8/64jeDKkoePkHPh4KSdOeh\n",
       "ete0t6q+6ttciGaxcu4AH3eH+CymleNJS65yjC5KUh09c6SP/bqfWTE3CuPT1Z9cX0XB2bKSP9AV\n",
       "dAT9EzhYLN0KsLBY0p1dNEnqAt/MNudsq80nvJV0nOQYXZQkOovDs7HrJPgB/Cgba4yfwOVouxjJ\n",
       "QfMkLGI3oTZQ2q2hcByU1RzIsrJaTYwmtXbE6KIk0RE7SOf8uplw/9uKx9ju/hVeGXdRmqQVfnab\n",
       "LurL0KHuuQPZf8SUIgEJRrcGSbzbVn43z3cTxMUlEoLTbH8Xvu4VkgQynRQFYQ2XfWO7bnxJtvgV\n",
       "o4uScLc3iuKo7PaHCXj/65UuryyhgUDCr67eEYftAO0L72o1SSGMLkr83fGR4Ewl+7lDZOqLYPp/\n",
       "sfC6HcFC36HnvTxdjg8gewrZv+4rRwCgHMLoosTfiT3uzWwyLuc7q3hOEIXKnP4Wnt6HV5Wsd2R7\n",
       "/w1g2b9wGLsKSY4qa1te7OoAVwxEhPqG0UVJvHPYlKFyP1RydodPJfAq3BR5nh7C1uKtLsRz5kEY\n",
       "tAsScvkgWLHVrfG+EgZM18h6ZN76CHYga5gcYJiQCE1GKnP04StC3BlcaGj1bhhdkCR3W8PNVz2j\n",
       "db/nKPnMUOkiU57eicypQqcKg3Zecvt6XrHVrfH6AkxXyHpNkptk35kaZynisrQxogAGyayVg0G7\n",
       "QHJQSxFYkqQFzcmvN46QaZisJ2wLvaP8Kw4RxKTzBE8vycPckmnDoB3yEqOvj0Fb3RrvQxhkGiTr\n",
       "rS0+hfjCiXbc1Sv/HjyhCU8P25Cr7hsDBu2OQdtTU3hctNWt8foCTYNkPdNYdMMs+3jvGIXkNWRR\n",
       "KCwmPL1AIlkzks8VtMtC+KoAXKlkq1vjfVqBTINkPTSGTjFDwZvlaWXLkvyeVi6g3T2taKbBiHDY\n",
       "ykl9bY3P00p4EX/AQcraoC5bQW1kytNbwxyXe1pZrx/0EslWg2bsk8xWTupra7yl/RVexH9xBcl6\n",
       "j77Sf7MsAQJnwtOL365JMa140O4qEVMBzq/Yaml8TPur/DhE1tOjyJMQtybh6eFwrlQxUOtCCban\n",
       "FWHAyK6gAgvU+Jj2V/lxiKw3iqUHdgUJT+9ccZEd5xy0y/oYILIftnLSX0XjY6/cXyQh/kEW51GM\n",
       "1gXoIxOe3hl8sSdtXdNKAO2Kkuvjq61A6hNTS6Polce8v+uLyFj9KyB9DGN/J/SscrF4wp6L10v4\n",
       "bFfQ7kKUS4nW2ePTlif1XVh/RY2iVyokvwITMHuRQPy7tgFdpdCwKuzK08NYhgjreXJ30C6R7IPu\n",
       "Awq2zgN5Z/3dNcq0vwLvL7+p/HhS/dNyvKAD/4yYlDcK/CdWj+lwTVIfaLFK+/uU9xeIf5oCwX3g\n",
       "BybgsMCQ3WM6XJPUx6eWRtErn/H+IvFPlutBPPQv7ll54hjYKY/pcE1SX8Vihfb3Ke8vEP80Bo7K\n",
       "UKbJWv4jXYin95gO11y8rkoHvxtWUfJpBdh+dPCnWIBnrtH0g64v//F7JP4BZL3R/2JI+V/X+Y9f\n",
       "LeLfwsbPkZnp97pEdfYT6Iu//2rbNadGp/wLz4tOT7ET4mQAAAAASUVORK5CYII=\n",
       "\" style=\"display:inline;vertical-align:middle;\" /></a>"
      ],
      "text/plain": [
       "ExprArray((B_{i}, B_{i + 1}, ..., B_{j}, A, B, C),  \\\\ (D, E, F,D_{i}, D_{i + 1}, ..., D_{j}))"
      ]
     },
     "metadata": {},
     "output_type": "display_data"
    }
   ],
   "source": [
    "ExprArray(ExprTuple(B_i_to_j, A, B, C), \n",
    "          ExprTuple(D, E, F, D_i_to_j))"
   ]
  },
  {
   "cell_type": "code",
   "execution_count": 52,
   "metadata": {},
   "outputs": [
    {
     "data": {
      "text/html": [
       "<a class=\"ProveItLink\" href=\"../__pv_it/demonstrations/be6a3bd90197b46662d0d044c3d3741e8ab2d96d0/expr.ipynb\"><img src=\"data:image/png;base64,iVBORw0KGgoAAAANSUhEUgAAAZMAAAAyCAMAAACu9casAAAAM1BMVEX///8AAAAAAAAAAAAAAAAA\n",
       "AAAAAAAAAAAAAAAAAAAAAAAAAAAAAAAAAAAAAAAAAAAAAADxgEwMAAAAEHRSTlMAdrvvq93NRIkQ\n",
       "mTJmIlRAUMakMQAAAAlwSFlzAAAOxAAADsQBlSsOGwAAB91JREFUeNrtXNmypCgQlX0RbP7/a0e0\n",
       "2IQEqqwIe/peH2YqzASRJLfjub0sj114XX6veCmsnl8ENfU9+6/vfOcFV/a4Uais76EtXz7/B20i\n",
       "ECzb2MOLM40d3wozcVcPws7R/eKNsKcQ3iVmsXJ2xIz8xgu2Z0YGHiLpsz5Mai9WhZk25xrjCD6d\n",
       "zF23EBHkXX/TzEyOmJR/frVn5p0IxcyTNmENH9bFijR1tdmsO8cJpy8Jkr1eXF9GQSNm5TeOXXtm\n",
       "03nORh5MKYa0zlXhx1Y2Tq553TOutCmPLyPI3IhZ+Y13BGbu7TvXz9mENBL8locuixbktrowcMEG\n",
       "hTfIpLrqqRHT8htFDDAz7wQo4R6rPJFrnBWd20n7hGKAEK0oW8sokSoWtc6MmJffTSf1zN1Mzh9L\n",
       "86z15Pz8iP3cr65yptVhhBC9njQJx53LCGXflH9+VWtdOxVnVtk8lFHWZo3DtsJN9tNPa/+yZyos\n",
       "jcJgj7+MkOhN+aIM/zQWXNYa/GUjvW7+62ltNtI2V0VEeh+s9V534QqNIcExCqOSrGpWUyOG8pCV\n",
       "VoQ+7OTAJ6+uO+yhxpHQvk3UeVZctbzgOZdShqW33NapEUM5vt1dg08WpF+t2WdCV7PySLHrdUgZ\n",
       "gQZSJ4pDnd5D9kYIRJdJ+W2bXNaqkN6mJlTukb4RtY8CDudJmAJcUdXA1fFCYuNRlKozYnc/NyVv\n",
       "2mQq94Jr1anUN3jpzUjuVV4fooSYdNEeG8T4eC3leOoMX85/4hNJ8iqbhbzcL0dYde7vSN60SRxU\n",
       "/2jduqxVqUXqS82fKbcSCsKEeAQPM4Lf2Fzu7uBAlbefG4adO15j8z/88tkLw6YR1AtRgEV0W+l9\n",
       "+Vpc7lcjXq7Yl2u8X8T/x+R+Eh/GwubGH9ktcK2p1GeiWn5Z2MeMxIN15ve2jRKO/RtClqC2bQPD\n",
       "BiQB7iv36ihH8mY+2WaiF6wUArZlfWUTcqUI/Zl6A3BpooQz2Q8owSF0ToJTyffu7yFdT8mbNpEz\n",
       "LwcqrSEiZ0ir7G6PDMZR8y1LGyWcca8NSjRNE8NLgiTgfYrsjDyziZXcnY3k1M7ASqGks3igHMPI\n",
       "mRlQhgCME3wbJRxfBrSkagZOeC/Qm/dn5YWfvDGopxTSSXbuUL+xOVrmUIMqhKhapfSYk/+FJFXL\n",
       "KvFitTQNlDCKch1LJbLorMzNcQYHpfDLzn/J9V3MnIsQutA42r/gC+HYXnSFvdLe09CimY94lO+m\n",
       "2fdaLngv4iRpoIRRlOkID1BjX+7LE+AxLhUWavlhl0Z6/p0JT5hMKAiM9TuoPK9k3U7weG/4zcJZ\n",
       "jqcnlDCKMh11IG/eqvsU/n97dZi67h9nk7cuxrJ0Is/e0kd7HRvlI2Ug90ctRdOfoYRrEK1JRx8T\n",
       "MnlMQXxEIjEsUfe7712bkCyE2VQKxB0Ux6H2nbfIj3eJEkZR/HG0heos5o6bGTz/a5MZm4jYMSD1\n",
       "2lt74AG77xy77sszzeoU+DJpFIUf51eAVwo5fA6RZSp22R+y8XYUu2KfYakvSMX5geNIHcdHe+M/\n",
       "67Osw7mghFHEIpTjIx7ly+YzvU86mGbgAbwgtP0Qm3S4d2eOD98fhP+EsblVaXIWVvvmYp/8fQWQ\n",
       "weMXlDCKko4HjjamD3/S1DueyRBTsAcKpDuEncN7JYgpYL6hwo1rYu6OCgwdRgnxBRDMvSN0bxz4\n",
       "iZdhcoBeSiO0bNpsZ8+9IiT9gwVLnd0FJYyiTIciuVqK1uO3RDnrqtMzJqD0hb8ZsCsdKty4Jubu\n",
       "qMDQYZAc/SPIvRsRzfSXOLuS59iKgJ5mKtBHkwFopsnXTTIxd0cFhg4j6cOIDrqn3ABYY/Ir5lBk\n",
       "y5cGuS2p45sAlIcKd4LXeO6OCgwdoiDZjqABcO/WAUtCfSEyeBZqyaGHnDMj3eFQL1vg1AwVblwT\n",
       "c3dUYOjwHLTf3QoE7LoL/T3fuOO3T+FmkC6DFQMCYka6i5SV1dEeKAQr3Ekn47k7KgV0WKeTNUoA\n",
       "7h16hCRBgTDN63SyJ9EDXbCggwMK30gnr7kbWHmtkqWTHDqs0onlUQIQx55pqQ3QNCbiSiqXT9ZH\n",
       "gyo3UPicK1fN3fgAWqtk6WQtviXmkr0Szrg4APfura/vXzyI7YiZCF44fZMm/Xh+VbjPlRs/vKtS\n",
       "QIcXiVryjwBt7p19iAgJ0GWSTWK4NkDlAyrc58qNH95VqaDDMp2odBzb3LuHOHdQ3R9jVwzX6nDk\n",
       "FlUOUrhvk8vcOVsOUinSyQU6rPuW/gLpQ9xU0e4aI+kuhmvMF4Aq11Ro22Tma41agLkztpwCVTJR\n",
       "AR0W81bkBdNMHE9xuDNmVJEEaRGTF3GqtahyTYW2TTpkuRZX7jJ3YsuBjy9EBXTYmrdZ+o/rn6cq\n",
       "r5N0F/hqGGtbOtCF0HZVALhyPbJcxZVrzB1rdPjxQXSFDtMYdQ4qUgVrBQv23J/+kmaDDJDuRlS5\n",
       "AVduiizX0wlZt6MDiuAxzXr5wb+dAxwFgOVGVLkBV26KLNfRiWw5+cFweIxuFXX4yb+Q583FAqS7\n",
       "AVWuz5WbIsv1dEJR19GBVwaOsbjpJk/SR9bmn9mqbg87U5Hgz4b1dALkgz4YDo9pHj/27GfWNln8\n",
       "Nunu239fnthyX3592ys8n7qoXP4H11tsubtt2/P/6A//KXyI2XDO/wIu4u+/qVbk0mSS/wBRvE5P\n",
       "vBJq0wAAAABJRU5ErkJggg==\n",
       "\" style=\"display:inline;vertical-align:middle;\" /></a>"
      ],
      "text/plain": [
       "ExprArray((A, B, C,B_{i}, B_{i + 1}, ..., B_{j}),  \\\\ (D_{i}, D_{i + 1}, ..., D_{j}, D, E, F))"
      ]
     },
     "metadata": {},
     "output_type": "display_data"
    }
   ],
   "source": [
    "ExprArray(ExprTuple(A, B, C, B_i_to_j), \n",
    "          ExprTuple(D_i_to_j, D, E, F))"
   ]
  },
  {
   "cell_type": "code",
   "execution_count": 53,
   "metadata": {},
   "outputs": [
    {
     "data": {
      "text/html": [
       "<a class=\"ProveItLink\" href=\"../__pv_it/demonstrations/57b19567a4c8545ac129c8f1bae1b0d813f885d80/expr.ipynb\"><img src=\"data:image/png;base64,iVBORw0KGgoAAAANSUhEUgAAAeMAAAAyCAMAAABYvEM0AAAAM1BMVEX///8AAAAAAAAAAAAAAAAA\n",
       "AAAAAAAAAAAAAAAAAAAAAAAAAAAAAAAAAAAAAAAAAAAAAADxgEwMAAAAEHRSTlMAdrvvq93NRIkQ\n",
       "mTJmIlRAUMakMQAAAAlwSFlzAAAOxAAADsQBlSsOGwAAB/hJREFUeNrtXOvWoyoMFQQFFA7v/7RH\n",
       "8AIqIQp17MwqP2ZcX9IYCISw2W3TvNfo0PzaU01S+QVesPH0J/2Lza2WG6+Bvx9kJk5/IuYXtlut\n",
       "Jxmh4W+7N3Znp0LUJaGMTQtdi3QiyovLE1ze7kitneSsA3cZXKNixBK2yZj5gGAvZ5n2lGdkiDpp\n",
       "iUs0RvFkHxBxccPttnTOQRYMIa5R3hK2u1xC/vDw3G38nGXUuJULfOmEsjpVTWTFFVUKalfb2e3e\n",
       "qqZUo2JdJGyPudeY9s0teWwTs3Sbm5trfUINExe3C3bHZQWNlhRrVAxaynY2jJ16McbtecMza6oW\n",
       "diu9hoSPiLi4XbHL7DoddLFGRZWast3l8nFv3zupEHuefUqsGSnUg3JIJKysuCIRXrA7b4iScWQ7\n",
       "zmnUbscH2/nCqnuv7OKJV68TUhyznNT75ZYVVyzjU3I9hWmwlBDCwtIp0ChvB9tLvxPnkzg52rd2\n",
       "5CFVdPIlVfJjfhG7wUfEvvf5fgPT7pzWTmuRzDqmHcs1ipxL2V76bbI1iXygLLi4saT8avvlfxu5\n",
       "mFADxesmOhBScPpHXusbbdc1P9zVqHMuY3uw+Q+9BYS0LBNjHpw2qeUOimkVwoO81jfLGqRoBjXq\n",
       "nMvYRs4W40tV12BTteCaq6PDqavCerKfELC4bhgPdhtJlIH8Zra/q1Ef473trd+IOWnfwUFIcm5R\n",
       "sj/pT2Mt3TA1vmyQRyBgL04O46VyQybtuuS6HObkye/Bdjc1UjG+5d3Rduj3SPM7TFtXWevC6oEm\n",
       "08t2CDDz1Ov9WGvpx0TarsmIk8MYPrM9ZR72dhspG6H2CtO5dMmOHkC8oZGcgPe8O9gO/V6PnDvd\n",
       "xIZMaNs6MJ7ylt4BhmzNOe+Ui7ZgSTU5o/rd+ubhpiwhVnRqrftnjIYxfIYr+GFT2tvdDnOrAtuu\n",
       "BMw9jbRzN7072V7THt8c5snLRLEFaZ0D5EaMjS2LsQSg3DRsIO2MSBjZ5MTJdGiu5ENQad1RYCvX\n",
       "NVL7cZV3a781R3RH26+Yl1jn8o0qhZXVbANQlabh9WlHU1shBIuTw3jp5hFSGlpE4Y5GKsZV3q39\n",
       "ViOiu422WIMtrx+ZhRZl92fGAlQAmpoykhGdcWwRx8OoRWc9QHCpM6DSWrjCVq5rJJyr9G7pt6aY\n",
       "7pY1552V3MHeNJkqvSLexghNDZnZKC4MCC34TEZpxQxhK9c1Es5VepdYFiR/rLbOhX67vyWEyUEI\n",
       "42CZ6YkIJptB0EYrMUbAzVKJBkmko5kgel5MPp1IhhydlnlT0T55CdX1Q/tRjWcu+ciFzdLSZTvm\n",
       "U1G9Db1ySYY0irsUz7op1FPsREOnMl2sXvduAsy7eJCEp95df1F3hBMzojraqNL7BsYgMl+Iks9r\n",
       "/BlQsQsI6FahjdqFRDre5GDm26nR6rHpeHQaUx42cLIgCU/S4+ZukkwW3H9T7R8hSt8f43+ocR5t\n",
       "x2LBStxuqTYEx++5xP4nmxgVI1Spqa52gRs2SXhS3iAX3kLrMnAb0jCzv4H/kzFuo5Sto9JsC0nv\n",
       "F51Dpvpo+S16y7V6kKxPHuWQc7Hu/xbfJv5i/EKM++3ASuQaK+2huGlx+zC6+lvxU3mzTJEgUStO\n",
       "R8IW7FMCieoTLFf/iPT3mr6Sq7dzrmb+BNPPF7x+6/Wsr9ERw3g4Yq8V+AJmBsnyJH2CZ11jXOXl\n",
       "jFIWo2tZr3ZEegwSL4XM8YHr/poY9+RCzbVenfb+CtfYQap2rpynaFFXjbmSzG7AqF4X5VyKB8n2\n",
       "5MBUw5Vf74q5vBDv5VnoxOzQGgwS757K+znDGFH+MSI9YDhLpHcXT5J18wdpO4PWUhHSGDWaGZMa\n",
       "CBEukj3fkApr/bWKcQ8ikkQ6jIhBMzL4Z0F2hOUxF2PZ7SExi0BmD8UYMYwR5R8j0qcNZ4n0KNFb\n",
       "fSZliW43fn3mhbs5iUHipZA5fj7OGsaI8o8R6QHDOSK9tBguzsUnwivbeI8dctSEHXaEQeLFkDnq\n",
       "dN4wRpR/jEgPGc4Q6QfMB2mrv0novvRy+IpiZnabeMFjkHg5ZI4tF8QwRpR/jEgPGc4Q6Q0yQqaz\n",
       "XS0dyIxEHXIzhzcAFc+GAIkDyoi8PFMjhjGi/GNEeshwhkhP3iHtMRjMj6dUBIknmfKYvPwwEhvG\n",
       "ifKnV2Py4gYy9DOc7ZcQpxEGQbjZAy16vRkTJLXacvJysvrOME6UP70akxe7BjL0M0T6W+ytz7UB\n",
       "3iLakNYjSDzd4bS8nqyOvRil0kPyatfAF8NEev3WFyVgPmiI8R4ST5SDgLyayIy9GKfSQ/Jq18AX\n",
       "w0T6tzj0jWrxXL2DxI9E+oy8eiD3WDxKlD+7BsprXYMZ+rA99tZ3YXoQBaHbfVcMiZ+I9IA8OZA3\n",
       "ueoHLB4jyidcA8ju9a7BDP0R3Fhe+05b4A+fwIdl0u8h8TORPilPDmSCj57jqh+weJQof3YNIrtX\n",
       "k/wzDH0l7pe3r1XWM5H+BIkfiPSAHGHSh4kFctXPhnGi/IHjn5Z/gOQPc/hjIv1xMb340z4tNPGK\n",
       "iPRPMukxovw3uKY5uCm+eBkPLuQiIv2DTHqUKP8NrikIk6Ov/kJXB3leQqR/kEmPEuW/wDVNwWX8\n",
       "KjtygOD6SiL9p5n0F4jyr7tG9QXU8I0Gfnuujkj/WbI6TpT/AtdAIv3bv6WY/E3Ur2tfQoMvc63/\n",
       "Akpa9/uV20d3w+4bpufvN8ofbDKE+H/Ub1gy9BsvzwAAAABJRU5ErkJggg==\n",
       "\" style=\"display:inline;vertical-align:middle;\" /></a>"
      ],
      "text/plain": [
       "ExprArray((C_{i}, C_{i + 1}, ..., C_{j},B_{j}, B_{j + 1}, ..., B_{i}),  \\\\ (A_{i}, A_{i + 1}, ..., A_{j},B_{i}, B_{i + 1}, ..., B_{j}))"
      ]
     },
     "metadata": {},
     "output_type": "display_data"
    }
   ],
   "source": [
    "ExprArray(ExprTuple(C_i_to_j, D_j_to_i), \n",
    "          ExprTuple(A_i_to_j, B_i_to_j))"
   ]
  },
  {
   "cell_type": "code",
   "execution_count": 54,
   "metadata": {},
   "outputs": [
    {
     "data": {
      "text/html": [
       "<a class=\"ProveItLink\" href=\"../__pv_it/demonstrations/8f1752ebfbe11e08117ef85ba8c8b4c5d4ea60640/expr.ipynb\"><img src=\"data:image/png;base64,iVBORw0KGgoAAAANSUhEUgAAAOIAAABuBAMAAADITNJHAAAAMFBMVEX///8AAAAAAAAAAAAAAAAA\n",
       "AAAAAAAAAAAAAAAAAAAAAAAAAAAAAAAAAAAAAAAAAAAv3aB7AAAAD3RSTlMAIs1UmauJMnZmRLsQ\n",
       "3e++988cAAAACXBIWXMAAA7EAAAOxAGVKw4bAAAE40lEQVRo3u1aX2hbVRj/btP05qZpe1EUocPU\n",
       "N6vDhT27GXGgg01rWXCjSiI48EFpHgbby5L4pzLotMEXkSgpCD65NuqKg4G9D1odg60Pg/kwWDYf\n",
       "pvZhafenawvGc05y0uSe+325kCpTz/dwyv1+93zfOec759wf+RWA2wPwT9sOHLLm7yRGv8PxyGTi\n",
       "kJHC0Mnq3NicrfoDVWI0/SWAZBqFPzoJgf15FF5hY76luruTNp4xmgOYjWPo+cuseQntbt5jzYuq\n",
       "//VxfA5QZFgxh6FPOayZQTuHVlkzqyyBkZuK4RmTPC42iR6xYkfQzr0VvkpKmbvhGbwQsATw42V0\n",
       "yRd5+xPaeYBtAsiOuN1fQLZpFKarEhsnJoZRdDzn7ZeW5XhRmWMcok2j6GutaWgZYHceIh97olft\n",
       "5l6fK+We4u7ktPVL7STVg4RO70mW8EqUWbVW4diHnuhN0TryIE278Xne/Anwh3iSQX5my72IV4JN\n",
       "32J7fJcnelUcZznvqIJv8DtkDYxK7XGXXFToK4O199NXRP7nXJVgmyq4Ll92o+Ik9kh/wfjA4zhe\n",
       "KIFVeiS1mTHMQnZV4NysfVzk3+mqBIuZHZIvu1F+PcBb0n/wwQu2ehy/YUN+5+lrmxkf5cVahm0T\n",
       "YlEizhuuI87GdN2pv6yggTWALx3p/y3m2rJsJnCKrWH/e5BuZDxf3Q6B+ZUUnIHd4q3hlj5j1UTi\n",
       "ydhmCYZdhfph7sC09Bu3n28Fg+wrcPZZvhR70s11rNsNOCD+LnvvoPrLCCr8VumU4Y0Wwou2ktFY\n",
       "Nq7AAit2Gc1IoMy/AMHc8R5v+KC5mIqkXBmtx993IBOD0Ihnn4d3vEmg3J+J9drBT7zhr+FQ2vxV\n",
       "BGm6XMX2jUEXccXiKPfH2nz2A67nPt4h7DyRwbvgKPeHnTYZv3I9j+/jSwsv7CMICIpyv9WO2uRB\n",
       "23/ONEPWDFkz5H8TQ144/GrnDFkG8cWQ47C/c4Ysg/hiyOsQTXfMkGUQXwz5s9rLnTHkehCfDBne\n",
       "3gKGXAvikyGbV7aAIYsgfhnyoLMFDHnQ8c+Qjbhhd8yQZRBfDHnw6BGnY4bMg/hmyDer1c4ZMg+i\n",
       "GbJmyNq0adOm7f6yyAoJXxzaevgS2acv/jfC2rRp0zeANm36POrzqE2btv+B3U/6Y4H/ap2mvgCE\n",
       "/hia30icfdkLofTHJYDgKpGR1B8H2Dej6PW7K6E/GvcAwrfxhLT+yGWr7rIHQOiP1mrtn54wo/VH\n",
       "LluF1zzmQeiPwQpA1zU0YRv9kctWxl2PRSX0x/4SRF7Dd04b/ZHLVuYd1U/pj9kzJ0Zbh9OC0/qj\n",
       "kK0sjzlS+uOUDYHfWxlEM07rj0K2Cq6rfkp//J5PBF9VWn8UKvJAWfGT+iMvAq6Ut9EfhYpczCv+\n",
       "OKE/mnxrJ6etvccmQoW0itP6Iz+OkSXpbwQh9UeuIpsrcG4m3z9SU5BacVp/5Mexd0j6G0FI/bGL\n",
       "XRgz22HbuzCQFjqTC6f1R3Zdhy81/DIIqT9yAXH0Wz56yNR0JrcCSemPY9XE2Gl7098URBipP96A\n",
       "SYiaOE7qj9LfFERcdZT+aFTYAAvduD5pUvqj8C80gjQGQumP4RF4DB46iSuQpP4o/JmYDNK4XMVF\n",
       "R+uPOO5Df1RgH/ojjvvQH1XYh/6I4z70xwb8F0dsJxCt5WaTAAAAAElFTkSuQmCC\n",
       "\" style=\"display:inline;vertical-align:middle;\" /></a>"
      ],
      "text/plain": [
       "ExprArray((A_{p, j}, B_{1, j}, C_{j, k}, D_{k, 1}), (A_{p, j}, B_{2, j}, C_{j, k}, D_{k, 2}), ..., (A_{p, j}, B_{m, j}, C_{j, k}, D_{k, m}))"
      ]
     },
     "metadata": {},
     "output_type": "display_data"
    }
   ],
   "source": [
    "ExprArray(ExprRange(i, ExprTuple(Apj, Bij, Cjk, Dki),one,m))"
   ]
  },
  {
   "cell_type": "code",
   "execution_count": 55,
   "metadata": {},
   "outputs": [
    {
     "data": {
      "text/html": [
       "<a class=\"ProveItLink\" href=\"../__pv_it/demonstrations/ccc1d10682ef6d6cff4184aababff9953fcce50f0/expr.ipynb\"><img src=\"data:image/png;base64,iVBORw0KGgoAAAANSUhEUgAAAvUAAAAuBAMAAABaCvt7AAAAMFBMVEX///8AAAAAAAAAAAAAAAAA\n",
       "AAAAAAAAAAAAAAAAAAAAAAAAAAAAAAAAAAAAAAAAAAAv3aB7AAAAD3RSTlMAIs1UmauJMnZmRLsQ\n",
       "3e++988cAAAACXBIWXMAAA7EAAAOxAGVKw4bAAAGB0lEQVR42u1aT2gcVRj/Jrvp7qabPxYtQsTE\n",
       "iyCWJjcPEruHVChYWAqBgEqioOhBuqDQXGwWMRKp0kUEwRRakB6EEAMK8SBmL5YWDwYM9CISFSml\n",
       "B5Nom9oq65vMezv7Zt/3zbzPebf5YJdk9v3+zG93Z3dmfwD+HAJivFFgTAzKgeIh+P8Tq8yzRgHH\n",
       "KFTPNkcrBuVAcSyF7GOVedYIYK5FoY6x5GiUA0WaMhXX7DAIYH5miEAd3+Fo0SgHijRlKq7ZYRDA\n",
       "l07XcNCBw3sMqRiUA0WSMh3XXGsE0KufH8dRDxf/ZGjRKAeKNGUqrtlhEMA8HGvgqErub4YWjXKg\n",
       "SFOm4podBgH8DOZnUVDfeOGOvVQMyoEiSZmOa641CliBkSrAtf0voOWPul5P3m21ufzqVDPpqzBE\n",
       "YYqSDVG88soLVoqdlNwJlMNBrIUTmGQwqyl+NTmzCoXFDf+fuQ8jj56bPH5fbc5DfqPT2q64+2FU\n",
       "3WEoTFGyIYoVOEko7v+BUkanjWibDf/rVg4Hsdb5hJ9M5K4LqOYqwKBwnAtcT+gPlusA/6rNg5c8\n",
       "7dN6U9z6K+oOQ2GKis2seA9GaoTiJkkZmTYiNLtJuA5nImZBYDLeXTdz+8mD/i0s+7y4/aw2l5re\n",
       "XsK3WCfqxNy7JkXFZla8sL9biRU1yo8/WaywDjn7ygJdfX+NCCNccEHPPjmzdNjXCE54zdl/Lk/W\n",
       "5eYDG4n2QkNdW2kMaKc9SlGyIYrwhoWiRln+9Cb8wsg+UPbRv8MCHkbnAmnSllk5fFTcDu4g2Xvi\n",
       "DQHrQ+3Nbyf6KNNRj7wDgxpMKUo2RLHwk4WiRuldHYV/GGcIgbKP3oNn8TA6F0iTtszS4fetI5Bb\n",
       "3501Zl9e323C063H1WbvmyRSUdQ0rHQ+3FaUbIjicDO5YoSyt963ZR19W7m3XtiCHwlrHQuGmzzm\n",
       "iEPzMUf/1HkQHrDanwB1AyYLpkclm1nRq3hD9orB8oFavsK/wDBQK6562zXcWrhAmrRnjjgU2Zdn\n",
       "qeyvgLd25jnb7AVqG64/ZUpXsOGKw2fealorSsoR6H+Tn/2IeFWWViu4tXCBb5LFrDv0Xr5TL/wG\n",
       "h8deM6H8zWfHB1otq0uoAaqvCu+ZTvd9Nlzxj1bLXlFSXobi6/wzrMvQM+RNN3Fr4QLfJIvZ4DBH\n",
       "QnnXqmiUA8UcpDM5Z0JG4DL5PY51uh6DcqC4nFL2y86EjEDySmCJpRODcqDYSCn7hjOhtBxmk002\n",
       "2WSTTTZxs9SamnoSOw0srd+eOrVm/eWGRjlQJCnTcc21Rrq7BdCLXiUfWAWYsd6pGJQDRZIyHddc\n",
       "a4Q77644i/kLvQZRB/iiYn1NhEQ5UKQpU3HNDoNwVxJPSOkuBrsonuaLdVsxGuVAkaZMxTU7DMJd\n",
       "7zZAD/o7z4y4HbVu29EoB4o0ZSqu2WEQ7sRBrPxijThSfXedc3wjUA4UacpUXLPDINzNf714Cr3C\n",
       "ULi/uPCEtVYMyoEiSZmOa641yt35IcjdxLpRxR2AZxq23SgNhSki3SiJtexGaZTMkcrhINbCSdqN\n",
       "khF3z7fidrqGdKMObgEc2LPtRmkoTBHpRkmsZTdKo4xOwm6UVA4HsRZO0m5U4M7gzC+riQ9v8++1\n",
       "g9XgE9quG6WhMEWkGyWxlt0onTIyCbtRynU4EzELknajZMTdBzG/IDtzCcl+XrzFeu/ZdqN0VLQb\n",
       "JRWRbpTE2nWjdEpmN0oq492orgUJu1HK3Ym5heJSrSMS/yBW2MV6CuJIBfOjtt0oDdXVjVKK5m6U\n",
       "wlp1ozRKbjcqUCa6Ud0LknWjpDs/iGqx2hFJjziIrRzBsj8qTsh+bVp2o3RUVzdKKRq7UW2sVTdK\n",
       "o2R2o6Qy3o0yLEjWjZLu/CBq+dkwkl7/+tCXgGT/vH8RaBzsulFRVKQb1VY0daNCrE03KkLJ6ka1\n",
       "lbFulGlBom5U2900nIX+cUMkWTdKnQg560bdgHMwUjBEknWj1AUzV90oEcQ0LOW7I8m6UWqcdaNE\n",
       "EI/BQx8gkWTdKBsetpBxt7JulA0PV8i8W1k3yoaHK6R26z+xTncaz4/iIwAAAABJRU5ErkJggg==\n",
       "\" style=\"display:inline;vertical-align:middle;\" /></a>"
      ],
      "text/plain": [
       "ExprArray((A_{1, 1}, A_{1, 2}, ..., A_{1, n}, A_{2, 1}, A_{2, 2}, ..., A_{2, n}, ......, A_{m, 1}, A_{m, 2}, ..., A_{m, n}),  \\\\ (B_{1, 1}, B_{1, 2}, ..., B_{1, n}, B_{2, 1}, B_{2, 2}, ..., B_{2, n}, ......, B_{m, 1}, B_{m, 2}, ..., B_{m, n}))"
      ]
     },
     "metadata": {},
     "output_type": "display_data"
    }
   ],
   "source": [
    "ExprArray(ExprTuple(ExprRange(i, ExprRange(j, Aij, one, n), one, m)),\n",
    "          ExprTuple(ExprRange(i, ExprRange(j, Bij, one, n), one, m)))"
   ]
  },
  {
   "cell_type": "code",
   "execution_count": 56,
   "metadata": {},
   "outputs": [
    {
     "data": {
      "text/html": [
       "<a class=\"ProveItLink\" href=\"../__pv_it/demonstrations/f5e291169c9322d47b7d0897083cb9368cb619eb0/expr.ipynb\"><img src=\"data:image/png;base64,iVBORw0KGgoAAAANSUhEUgAAAGwAAABrBAMAAABgTXpGAAAAMFBMVEX///8AAAAAAAAAAAAAAAAA\n",
       "AAAAAAAAAAAAAAAAAAAAAAAAAAAAAAAAAAAAAAAAAAAv3aB7AAAAD3RSTlMAZjLNEESrie/dVCKZ\n",
       "druiQIfaAAAACXBIWXMAAA7EAAAOxAGVKw4bAAACO0lEQVRYw2NgwAW4DRjIAcwfyNK2njxtx37j\n",
       "l2dUwCbKvv0TDvW8GyCecMAmuZf3Fw5tXAfAVBhWyQNcH3E5bwKIYDHBJsW6gOk7Lm3rQIQyVq/x\n",
       "MHB/AxopjNVzT4Be/zETAmahSN07c+wfA4PuTRTBk1Cl/wMYGISxhQjLBQaGn0B6JVYPmAIJJgOs\n",
       "bmRgmIFLmzLYInEsMoFAbI9LmzWY5MSSjBuAxPsN2LVB4409AMNn7z87MKz7b45dG7sCwYS5kqzk\n",
       "TKa27fa1DKNgaIHR4nXoFq/uZSnkFK8HGE6SU7x+ZdivQEbxKoJVG+HilaGSrOKVaQpZxes+B3KK\n",
       "V+4D3BvISM77lHQcyNDW////aHk1CkbBKIACf/Iqb84Do0FHBhAiShUveo1gQlS8caHFCWsCcfE2\n",
       "AZXrTGTFsg6Fx2REZBCA2hYIUN8JbToswKUeuW2BaK2ZEGkbuG2B1GYgUpsyahgwFhCnzRp/yBIZ\n",
       "bwylRMUbEV23UTAKCIPN5GmzJ0sXF3kNUJ78DeSUrNX1ODPJbVwlK7BNfuE+zuJoDa6SFdRbWS+A\n",
       "s77EXbJGMejjLF64HuAsWQ8w7E/AGRr3HHCUrLxvzuQ/wHQ5VOn8rzhKVl8GBv4JOG0LDsBRsgIL\n",
       "Lc4GBsaDunewSDKZ4ChZWQXAgwOOEQIcWCKdeQOOknUHEPP9ZthymYHfAUe8YSlZ/f6bMHC9/1zA\n",
       "kMsQgcWRRYQSZhPDGSYyhkw+MExaRLo2YLq7jj2JAQAYyLwcHA1yqQAAAABJRU5ErkJggg==\n",
       "\" style=\"display:inline;vertical-align:middle;\" /></a>"
      ],
      "text/plain": [
       "ExprArray(A_{1}, A_{2}, ..., A_{n})"
      ]
     },
     "metadata": {},
     "output_type": "display_data"
    }
   ],
   "source": [
    "ExprArray(ExprRange(i, IndexedVar(A, i), one, n))"
   ]
  },
  {
   "cell_type": "code",
   "execution_count": 57,
   "metadata": {},
   "outputs": [
    {
     "data": {
      "text/html": [
       "<a class=\"ProveItLink\" href=\"../__pv_it/demonstrations/7826e2c9b14adc2ad1bd29495a300f3348dbb95e0/expr.ipynb\"><img src=\"data:image/png;base64,iVBORw0KGgoAAAANSUhEUgAAAEoAAABrBAMAAAAiDgnRAAAAMFBMVEX///8AAAAAAAAAAAAAAAAA\n",
       "AAAAAAAAAAAAAAAAAAAAAAAAAAAAAAAAAAAAAAAAAAAv3aB7AAAAD3RSTlMAIs1UmauJMnZmRLsQ\n",
       "3e++988cAAAACXBIWXMAAA7EAAAOxAGVKw4bAAACSElEQVRIx2NgAAFGBQYiANMHLIKc+7+GBm1H\n",
       "ErDHpoqBbwMDQ3wBgu/6EZsq+QYGhvUOcC6b2HdsquYDzZnfAOdKcHzGpioeiPUE4FwH5p/YVL1m\n",
       "YDh6Hc7jMmD/hkUR+++OVk0El4WB8SsDA88kNFUcQC/ZTYCLd7u4/mZgqOhFU8X9AOiv7zBxHqA3\n",
       "/gJpWzRV/AHAkP0BE2cB4ntYVNVPYGBg/QUTXwnE+lhU9QMDoV4BKs4ItJ5hvwCmKj2g7x8dgIjz\n",
       "7P90gMH6vxqGquj/oaHaBhh22OJIMGSoEtPPwKoIl/hIBqO5lvRceyw1BmuuhYlDcq0Dgy/WXAsV\n",
       "h+baXwzyBdhyLVQcmmvnoKuC5lqoOCzXMuRiz7VgcXiuZb+DPdeCxBG5VvoA9lyLIs7owCiANVWh\n",
       "iEuXlxzApgpV/P3//1jTHi7xUTAKBgScVyBGnNcBuypc4qOhOhqqo+E14oAQUar0sQnOBlXJSM0C\n",
       "Zuz1JLCdw4rUmGKJx1ZjMwL7CVxfEPzE/AJsLb7vkB4FTFNDvwEWVazAZiDTQ6Q2k/0E7M1CnliE\n",
       "JYsZ6hOwqKrf0RGEpNuBQT4AiypgO4f5JaI1tsUlfgMWVfuAGOGtE8Cm1gUsqr4yIDcxgdmE9wED\n",
       "p2dFC2qzENSijF8AFeeaAG4hn1w3gU8AvVnI/gkmLgdqAn5kkGli4EdpDTEB22XrdKDip//rMDDv\n",
       "/5TAEMGwDiVMQW3tzUAGqvhzBhd2bHGOIs74geG6ObY4RxHnCmBowxZPYHEAvd3IcCwl9ZIAAAAA\n",
       "SUVORK5CYII=\n",
       "\" style=\"display:inline;vertical-align:middle;\" /></a>"
      ],
      "text/plain": [
       "ExprArray((A_{1}, B_{1}), (A_{2}, B_{2}), ..., (A_{n}, B_{n}))"
      ]
     },
     "metadata": {},
     "output_type": "display_data"
    }
   ],
   "source": [
    "ExprArray(ExprRange(i, ExprTuple(IndexedVar(A, i), IndexedVar(B, i)), one, n))#.get_format_cell_entries()"
   ]
  },
  {
   "cell_type": "code",
   "execution_count": 58,
   "metadata": {},
   "outputs": [
    {
     "data": {
      "text/plain": [
       "[(A_{1}, 0), (A_{2}, 1), (A_{1}, A_{2}, ..., A_{n}, 'implicit'), (A_{n}, -1)]"
      ]
     },
     "metadata": {},
     "output_type": "display_data"
    }
   ],
   "source": [
    "ExprArray(ExprRange(i, IndexedVar(A, i), one, n)).get_format_cell_entries()"
   ]
  },
  {
   "cell_type": "code",
   "execution_count": 59,
   "metadata": {},
   "outputs": [
    {
     "data": {
      "text/html": [
       "<a class=\"ProveItLink\" href=\"../__pv_it/demonstrations/3d42f7d286aea39fe1fc512e0b2739249b6dcd330/expr.ipynb\"><img src=\"data:image/png;base64,iVBORw0KGgoAAAANSUhEUgAAAIAAAAGgBAMAAACQy3J6AAAAMFBMVEX///8AAAAAAAAAAAAAAAAA\n",
       "AAAAAAAAAAAAAAAAAAAAAAAAAAAAAAAAAAAAAAAAAAAv3aB7AAAAD3RSTlMAZjLNEESrie/dVCKZ\n",
       "druiQIfaAAAACXBIWXMAAA7EAAAOxAGVKw4bAAAF3UlEQVR42u1cQYgbVRj+M802u5nEXdKKl1JC\n",
       "c1nF4lJSPOxhp/TQU7VSKcVTDuJt6VpRKSKNHgTrwSAetBeDt8KyDShWUDcRpFLYQ0SpyLprKHsU\n",
       "dt1aWy0Y5817k00m/5t5Mz+rW/f/YDczmcyfvDdv3vf+//v/AdDDngIa9mwQDVylGrh+3/STBfTd\n",
       "zLXN0LPyjd5mGf3AV/m/Qg1kW/7WSAX9QCv7W/gPr/kbxx3s8EjduhtuYEG9WkfQwzmw/wBI7/N2\n",
       "jmFDIr8mXy++/aFEfeDw6tL1vwEO/+R9x0qt/9ANdUL3lLebQvsw3Qb40329IjushjXyqNoo4S0A\n",
       "+CDcQMnvu9QccvQZ928m3MD08PXou5Gq7r/1RpiBrXEALw/3wPptBxa6T4YZyBSNhnlIE8DUwAmK\n",
       "gWszr8Nk3X7pbptyX9eJ88KIQzSQAkZiMLEwsQwSS/rVFxwSseQgVyMRy/gpe5NELCkHMxCHWCBT\n",
       "oxELPOrQiMVeIxLLl/AFiVjsW4e+IRHLaLdLurWZWBgMxo7A09R10liLO/FfRsHoU33LuyDKRuMg\n",
       "q72y2HIPGwdaD+64IYUtaN7XLPf0y7sgNMs9/fJuiEPLpmx9VHOgZGigpOsrdLkXGjcwuD6xxgGy\n",
       "3MPGgeHyjsHYMfiEamCGeH62SzSQO9cw9Qfw+/O1ixH37XIvVoJOUXb7lwhXZ97fOKPx3q9ORCw+\n",
       "fCcTn42fgyci5shsR02yeFNb0KxoItK9CIHX9sw9RReXB+nn16VznWBE2m+dOuOjO97uPrQPTwKM\n",
       "1yJioaclQ1lTeAtgrOobOFBYQeZyy++8RzD6mpChMM9A+uE34J3hz+xpBC5HPz53/x66rwzYJ6fg\n",
       "95BxkBkm26e6Zciu355TTdjbHqkOGzhvdEd5BkaLuVZCPnINpOegCWOPJTMgItLWJXew51+kTAzU\n",
       "melZqoEJpofk4MA0B6b9wPSJV54XO8kVzxbcAJLieQeaRaAonvtDDJgFpuECAEnxtN7XGTAMTC86\n",
       "OgNmnovdshtAESwXDz3ukBTPd7tdVjyZWJhYmFg8YgntBBNikcwUkEzjEItkpoBkGodYJDPhkqkR\n",
       "sUhmwiVTM2KRzIRJpobEIpkJk0wNQ2KSmey1xHOCZKbkkqlkJoJkKpmJJVMGg7ETwIrngwdWPFnx\n",
       "BFY8GYxtAyuerHgqxRNPle5FCLxjoYon7vfHUDxxv9+HgeKp/H6C4un5/RTF0/P7KYqn9PsJiqf0\n",
       "+5MrnsLvJymewu9nxZPBYHD8gOMHPA54HPA4eHDHQSHuCcuB/XJcA/OBxXkldu8O7prG4YYdJuU6\n",
       "HInfa6v93xkdh9M6TMp3Lcf/BacHvIxS7POtwe80jcMhDpNCjTgOsDhcOM4Dg2dlZmcGDyQGjwMG\n",
       "Iz52VZJpqoi9G5VkKqAyEXCVKCrJ1HM65GSBq0SRSaa9FTauEkUnmQp4mQi4ShRMMlVPbgt2wppW\n",
       "JZJJpluQD9jpoT8TAVWJ/MfqbOEK2lCRiYCqRCrJ9EBhpfLdLb0BmYmAqUQyyVTIQ2/BTb2BacwH\n",
       "9W6kKogkUyEPbcK3WgNqHAyrRL0k071tqwqXtQaiMxFGi/mOvVHUNiESTfc3pDqt9FxSA2dc99Ce\n",
       "daxL3gN2CGChiImFieV/RCyqQC45scgyBAKxqAK55MSyHzUQh1hUGUJyYlFlCMmJZdGhEYsqQ0hO\n",
       "LKIMgUQsogyBiYXBYPy34DjSLgTXL3D9AnD9AoOxTdhN1QsaOomsXhBY1tGJSfWCwLyOTkyqF3o+\n",
       "K04n0dULXk93tHQin9cWiVVHQyeyeiHkGm0l5OB0op7XFgmRkFPCW+BVL3x9+Gb+oLic7tbPGJ2W\n",
       "NXSiqheOnZ0YreRFX4gtZGDJhBzkp6rqhU+/h/FiTnyB2HI04wChk171wixMwpjXu7NwFmlCZELO\n",
       "m7AKTUtuLVnxbyh7w/3mgznxyPcNeO/j+AbcUT4Nn/0Ak3V360eKB14nzg3b+vyCfwDfasuxUpGU\n",
       "HQAAAABJRU5ErkJggg==\n",
       "\" style=\"display:inline;vertical-align:middle;\" /></a>"
      ],
      "text/plain": [
       "ExprArray(A_{1, 1}, A_{1, 2}, ..., A_{1, n}, A_{2, 1}, A_{2, 2}, ..., A_{2, n}, ......, A_{m, 1}, A_{m, 2}, ..., A_{m, n})"
      ]
     },
     "metadata": {},
     "output_type": "display_data"
    }
   ],
   "source": [
    "ExprArray(ExprRange(i, ExprRange(j, Aij, one, n), one, m))"
   ]
  },
  {
   "cell_type": "code",
   "execution_count": 60,
   "metadata": {},
   "outputs": [
    {
     "data": {
      "text/html": [
       "<a class=\"ProveItLink\" href=\"../__pv_it/demonstrations/9a7df754de731d71cbb88bb852da2718b8b274530/expr.ipynb\"><img src=\"data:image/png;base64,iVBORw0KGgoAAAANSUhEUgAAA98AAABEBAMAAABqlJueAAAAMFBMVEX///8AAAAAAAAAAAAAAAAA\n",
       "AAAAAAAAAAAAAAAAAAAAAAAAAAAAAAAAAAAAAAAAAAAv3aB7AAAAD3RSTlMAEHbN71S7ZqtEMpmJ\n",
       "It02cEEwAAAACXBIWXMAAA7EAAAOxAGVKw4bAAAFwklEQVR42u2dTWgjdRjG38l2TJPutCHK1kPB\n",
       "sAUVVmr0tiK0F1EE2Z4UPGzrSVgPzeLFj0tdL6uXbWHFxVNY1ksjOnuyUJHgHvTgR62yFyuNoBe9\n",
       "RMr6UXaNk86k46Qz///zn3mTIrwvtLTwm+d9n/dJ0mRCM0S9KhNWCGdVmIRgMc7B0IYmJkzhMiOV\n",
       "4GcaHAXhclUmIViMczC0oYkJU3iakYr3Y52Zx24uCHfPLSYhVIxzMLShkQlDGENBwXg/J145DY2C\n",
       "cNaLb66wCMFinIOhDU1MmMIYilHxfsqPNe59G/mrAXDW9Nr1i3UGIViMczC0oYkJUxhDMSrBz3PU\n",
       "oA+AURDOrhXdYpNBCBbjHAxtaGLCFMZQjEr00wDnRriiyyQEi3EOhjY0MWEKNxipBD8SuAQugUvg\n",
       "ErgELoFL4BK4BC6BS+ASuAQugUvgErgELoFzBL4NjoJwTpNJCBbjHAxtaGLCFN5mpEz8SElJSUlJ\n",
       "SUlJSUkdUX3HzGlfKFSZQac65E0MyjCjFZXWLCgwyzTIsTYzCAsOy2H6+disKLTsDnY8ymlroc0M\n",
       "LjBtic1h+vkW2oNvO3ZpEzoe5bS1focZhAWH5TD9fFxWVFpffVOHjkc5XR3f3uMFYcFhOUw/H5sV\n",
       "hZZTeRj6lxWU09ZW7hYvCAsOy2H6+bisqLTGaKEGPd6BnLZc+09eEBYclsP083FZUWm9Qx81keNR\n",
       "TleF+eJtVhAWHJbD9POxWVFpubSzTDS5/5rNellxg/kPN/XFGxnuR85f6k4RMGg1WYU468uLpfR3\n",
       "ia7DTAqK+cJSWO9Hs+/5cOVe2ri0SMWTre4vV2cSj49wLn0aT1m73rf7qsEPsXX/xvofyk5R0G8V\n",
       "9NVyYzTWUg/mf0t2mKjQqwORqFed4bAU1vvRxD1H+mNavSoTTXgObd/l2cRZItzftJPwfPY372vc\n",
       "DX6I3XyF6B9lpygYtLJbEDex4uxpBht3lQ6TFYIKRaJedYbDOksomrjnaH+s7cGNiMbngMAj3PnE\n",
       "wIFHGqKfe53yH189pQHP6wKPcPmSk/p1je8wUHj9tZMusVQwnye4/MA59ZIPodn3HGoFjgo1/xSc\n",
       "LvA+jr5O6/9d8s9g7neavFwb2dSAfqvkwKMcHW+lfZITONxXsF59kp7hCdyfryv4FD2oXvJhNOue\n",
       "Q62eo++9r7vu6APv44o/pX2t6z1K0NJm0OnbaZooaUC/VWLgfRx9mPYpV8/hvoJTrtLvPC/u/fm6\n",
       "gnv0iXLJMWjWPYdagaMTnUfIXtpt6gLv526mXKu1tFuiZzuP9zpdoMs60G+VFHg/57yQckMHDn2F\n",
       "0UphjiPvg/lGK8U5+kW15Dg0855DrT5H2r/hEc5xnaxnnf1OT9NGUXNT9VvZukfqgPuBfsw4mK8w\n",
       "Uh9z68RYI/XcotOuI0sO0ex7DrX6HHkLtZpY4B53c61Ryh74FDlt+vV5NddtNQUE7nPOubXrGR+C\n",
       "PQXP4Q6Nv88a+I53F8svusiSQzT7nkOtqCPnxu1K8Qnanv1Msw6fO9PJ+kZit9O1+cIyPaQ5m9lt\n",
       "dW2+2xfhRjqdjO8vdhU8h1co9znr6ZcrdGzTuVBClhyi2fccasU4skERm2sJ89wg13sfNg2s7KOZ\n",
       "IlZrFTx4lWmIQokZLHCdFF0dXOCrRzNFrBb6VhHXW0p5bjDPtZ7a4AKvHc0UA3QkJSUlJSUlJSU1\n",
       "sJIPBDBtaGLCFB7CBwLIR36YNjQxYQrLZ7xI4BK4BC6BS+ASuAQugUvgErgELoFL4BK4BC6BS+AS\n",
       "+P8icLlQnWlDExOm8BAuVDd1ujGKXCcR4awb77naizmiDSExzsHQhiYmTGEMxagkP3efeguaBeGs\n",
       "R9dXWIRgMc7B0IYmJkxhDMWoBD9yOWnThkYmDOEhXE6aZsBZEC7XYhKCxTgHQxuamDCFZxipBD9b\n",
       "4CgI51SYhGAxzsHQhiYmTOEtRiri518rkT1auOQUYwAAAABJRU5ErkJggg==\n",
       "\" style=\"display:inline;vertical-align:middle;\" /></a>"
      ],
      "text/plain": [
       "VertExprArray(A_{1, 1}, A_{1, 2}, ..., A_{1, n}, A_{2, 1}, A_{2, 2}, ..., A_{2, n}, ......, A_{m, 1}, A_{m, 2}, ..., A_{m, n})"
      ]
     },
     "metadata": {},
     "output_type": "display_data"
    }
   ],
   "source": [
    "VertExprArray(ExprRange(i, ExprRange(j, Aij, one, n), one, m))"
   ]
  },
  {
   "cell_type": "code",
   "execution_count": 61,
   "metadata": {},
   "outputs": [
    {
     "data": {
      "text/html": [
       "<a class=\"ProveItLink\" href=\"../__pv_it/demonstrations/e303598ad4231d89daa799efcd475078caba48370/expr.ipynb\"><img src=\"data:image/png;base64,iVBORw0KGgoAAAANSUhEUgAABQMAAABEBAMAAADHDD4aAAAAMFBMVEX///8AAAAAAAAAAAAAAAAA\n",
       "AAAAAAAAAAAAAAAAAAAAAAAAAAAAAAAAAAAAAAAAAAAv3aB7AAAAD3RSTlMAEHbN71S7ZqtEMpmJ\n",
       "It02cEEwAAAACXBIWXMAAA7EAAAOxAGVKw4bAAAHLklEQVR42u1dTWgcZRh+Z5vtJpNOssTSegi4\n",
       "JKCFSFw9CBWhvRRFkO7Jgoc2ngr10C0F8eeS1kstQhOoWDwttV66xU69GInIYg968CdG6cVIUrAX\n",
       "e4mW+lNa4+zO7G52d775nsz3ZqbY94GEFJ553ud73if7k022RE2MEAaEZxWYhGAxTmPoQFaMEN3f\n",
       "U0cYWYqEx0ErCC9TZBKCxTiNoQNZMZ5KBce5qeMGK7X2l7ACI7ztt5mEUDFOY+hAVsBppDUVo4KC\n",
       "4QnveH03ZAXhWYffnmERgsU4jaEDWYGmkdpUjIqxwhMeeab68Gnkvh7gWeMXr5yqMAjBYpzG0IG8\n",
       "j8nANFKbilExliLhA1SlS4AVhJct265dYxCCxTiNoQNZgaaR2lSMirGUCVdB3wjPdpmEYDFOY+hA\n",
       "VlSJ7u+pVUaWImGpoFRQKigVlApKBaWCUkGpoFRQKigVlApKBaWCUkGpoFRQKigVlApKBaWCUsEH\n",
       "q4JLoBWE59SYhGAxTmPoQFYspVLBJW7qEutKBQKBQCAQCAQCgUAg+N/jR2ae9kl5kZnoFBNOwsiK\n",
       "idvEV8AYbpTWHlBgD5ORLavMRFhw808IWDFxm/gKGMON0MquYdejPC0OrTITDzGlxHBCwIqB2+RX\n",
       "wBdulNbgmQXoepSnxdw9ZiIsuPknBKwYuE1+BXzhRml9+30Fuh7l6bBt6Q4vERbc/BMCVkzcJr4C\n",
       "xnAjtJzCE9DbMKA8LRYzt3mJsODmnxCwYuA2+RXwhRulNUiHytCdAMjTws3+xUuEBTf/hIAVA7fJ\n",
       "r4Av3Cit9+hyDbke5ekwULLvshJhwc0/IWDFxG3iK2AMN0rLpeVpop2Nn9hYxyMqvI43+vUJg9sa\n",
       "5+/oSR3EYNTOIsSzvjmVj/9NWj+hkYJvxceHU6GJhlDgif4KGrCfNrq5b3vQrL2bar75XmRenT8z\n",
       "RfbYSv0f5yeV13fwXPoinGXd8j49Ugy+CMWj83N/Rk7qJPqjgrla3iANrkQb8z+pT6hUaKJxfUPO\n",
       "P+N6Pd+Kj/5aaKK9lK6J6gh9gwHeDT/iujMqD9rhQbP2bqpy8y3H+NgmRoiGvQSyfgoHlV46eP/Q\n",
       "suKp2U3vY8gNvgjtQoHo38hJncRgVHYF4g3POHc0xobcyBOqFQL4199sfVqn1zxbA32VsERDKN0T\n",
       "lREGK/DxQvgR151RedAOD9Fr76EqN99yvIGxrVrT0F6ggh28Y8oKArfGRL82J+U+PT+hIR7TVbCD\n",
       "l8s7sX+G4J8wUHjrzTE39tkauDx2IiTREArsOViBf0f8x658dH5am94Rpx87Er32Hqr55ttaQcYD\n",
       "Zf9lE10Fu3j0XdxFv0/+y0yNSTvPlvsWNER/lLqCnTzathL3wXJwwoaC9cZz9GLsszUwmZ8ISTSM\n",
       "AnpuGWzcKV/PuNH56WzWj/g87Ypeey/VdPNtrWbGP3kfW+/pK9jFs6/H/dFW/dv46EIw6YdxGs5r\n",
       "iP4oZQW7ePRx3CcTzRM2FJyRIv0e+2wNHKbjvYmGUkDPLYN1bC3nipH5aW3Wj3iHPo9cewjVdPNt\n",
       "rSDjHWtPUvborZqugt28azEXbR29laeX1p5tTjpJZ3VEf5Sqgt0855WYCbVO6Cv0Fwb2xj5b8GBt\n",
       "rifRcArmuWUweBg5OB2VH2Czv2DvpRtRaw+jGm++rdWVsfaxYAfPcR3TFysPBkuYtzXfPP6orO6+\n",
       "KuD9TL8YGvMVvBW7FSOdVdqnSzSgxPE8TH0lKD81+iqZKWe1gqy9TTXffFurK2NvxVYNq6DHu3ax\n",
       "mjev4Cg5q/Tby9G8+qhRoII+zzly8YqZr7qCd8JlGvrIrILXc1O6RD0KxfQ8lH8Ny0+NZe9mKDfl\n",
       "ImtvU80339bqzNi5erdg76OlPV9qFuTz9q+Z/tZQfdKF0sA0Pa55yak+6kKpPhfh9a2tGf5uUV3B\n",
       "O+E5ynwV+3Z0fn5+hqpjpE60Rdm4Z8e79DOyPylg+alxjrYsOCfzyNrbVPPNt7VCMs6CIlliQomb\n",
       "yPW/d2QT1CklkB/XYdk2r9KaBS+eZTIxkGcmDuSZnM0mp2Pgmem4s8nnotRCb9LLTCZy3MQcVzzl\n",
       "5HRyCeTHdtgyYwU5tQQCgUAgEAgEAoHABPIWlxsdmEr8qU1N4C0u5Y1+NzqQFfJGv1JBqaBUUCoo\n",
       "FZQKSgWlglJBqaBUUCooFZQKSgWlglJBqaBUUCooFZQKSgWlgg9WBQ94F18CLkZ42bLt2jUGIViM\n",
       "0xg6kBVoGqlNxagYS5Hw6O5q/2nACsKzrn7gnqowCMFinMbQgaxA00htKkbFWKqEH5p4B/KC8Kyn\n",
       "5mZYhGAxTmPoQFagaaQ2FaNiLEXC1n7sDwIh3vbbTEKoGKcxdCAr4DTSmopRQUFFwpOgF4SXWWES\n",
       "gsU4jaEDWTFJdH9PnWRkKRJeBK0gPKfAJASLcRpDB7JiMZUKLnJTFze+0v8ACeTNRVc68BgAAAAA\n",
       "SUVORK5CYII=\n",
       "\" style=\"display:inline;vertical-align:middle;\" /></a>"
      ],
      "text/plain": [
       "VertExprArray(A_{1, 1}, A_{1, 2}, ..., A_{1, n}, A_{2, 1}, A_{2, 2}, ..., A_{2, n}, ....A_{_b, 1}, A_{_b, 2}, ..., A_{_b, n}...., A_{m, 1}, A_{m, 2}, ..., A_{m, n})"
      ]
     },
     "metadata": {},
     "output_type": "display_data"
    }
   ],
   "source": [
    "VertExprArray(ExprRange(i, ExprRange(j, Aij, one, n), one, m).with_explicit_parameterization())"
   ]
  },
  {
   "cell_type": "code",
   "execution_count": 62,
   "metadata": {},
   "outputs": [
    {
     "data": {
      "text/html": [
       "<a class=\"ProveItLink\" href=\"../__pv_it/demonstrations/09869d21f9158658b2334ae4bb8d91037ddb2a540/expr.ipynb\"><img src=\"data:image/png;base64,iVBORw0KGgoAAAANSUhEUgAAAzsAAAAZBAMAAADkjS28AAAAMFBMVEX///8AAAAAAAAAAAAAAAAA\n",
       "AAAAAAAAAAAAAAAAAAAAAAAAAAAAAAAAAAAAAAAAAAAv3aB7AAAAD3RSTlMAZkRUmRDNuyLviTJ2\n",
       "3asqG0tJAAAACXBIWXMAAA7EAAAOxAGVKw4bAAAFgUlEQVRo3u2aT2gcVRzHf5vdqbPZ3WQp2iJ6\n",
       "WJEcvNRcxJNkhRVBMEwvFUKg6UEQD2YFi4cekkNNtYgb6UUQdL2IiH8GLEJpZVdQi5DUgObgQViQ\n",
       "6qXYVWksDbq+vzPv7bzf873dCDnkkezOvt93Pt/3m9/OzJvHAsBhOGj7sRXYa75+cCT2ZQub9PUE\n",
       "/7CGaJaccWvgh1gbm+ws8sjCU29Rro3reD99eZFvL5t3O9R3dkAIKGJ5bLKzyCMLT71FuTyuYyUi\n",
       "ZVvnl7iBebc554FiBAyB6kdTWkVznuVx1+NK9/wwTrlHbkBtfh+6uWrcbf62850MIWAIVD+a0ipy\n",
       "z8JXjyvd88M4wS2A6Rrb/ODT2LTX5PldVwOEgCIw/YhKm8gjC0+9RemeH8o5BdCJ2J2p+92sabfX\n",
       "y3+63tsQAoZA9aMprSL3LHz1uNI9P5zzJMCmmGPPVU271fO/O8/SzQQMgepHU1pF7ln46nGle344\n",
       "51uAX9jGg9BpG+ITs6U7jgYIAUVg+hGVNpFHFp56i9I9P5zzcAQv8+pBq2f8CoT/uNbfTEARmH5E\n",
       "pU3kkYWn3qJ0zw/ndGJ4gU3hXmrcJM+ox9mzUXAkiV9tzP8lO4IPf4twA42gNo5Y+OQ6/ZCGuV4w\n",
       "RdRGtrtLe9Y+bxqz0IJWWlbvotRN1QH5OSqtVYMf6PsimcFtQWlji364spkwuwB/y44CFLZwA42g\n",
       "Dosj6vA0+aCEuV4wedRKtrsLEW9TbWMWatBKM+hdlLqpOiA/R6WdrPGzp04eUcnjaZ4THkuZAD/K\n",
       "julauGu7uKgEdVgM8Qe06DQzDXO9YIqojWx3l/asFWNzFkrQSjPoXZS6qTogP0f17OEXt4kqX1VQ\n",
       "ysPOxAfE0gQzzUXUIHuGsh6dcPd9G3UdcU9ankDRcyaPZskGJScHmVtrVVkW6WxcN2ahBBktAHMu\n",
       "Bj23xZQk2vvyjDx02qgfv3KtfDR2dEw5wq+zCr+St9fI/1231fIEOyDWe1ZWk+/E5BbvP7kEQxs6\n",
       "ITj8Jrw1hICPQZSH7pToKRNYlMmzeF3JyVKR/KUi2jajr4xZqEFK032STwZ9kpBmKpU0+g5ck4dO\n",
       "HfXxh6rFXrnn5phyRJp05kbm1s8MnoX8yk5bPXt+iiBY2Yng0cHzSXm+iFg/VGhl6T2LbdAenRAu\n",
       "LsGtIURpW5ansq3oGZNHKSelso2MUpBpgCrkXyria7xHjFmoQUqTFG4oczHpha3iqCppdBeekodO\n",
       "HfUr38B0LJbN/tMx5Qg/uJdVKF3FS8uTjzJX1PD0cD/fSe3hhKnuxPpQ4FyUhB9Rn61PJ9Es2aDk\n",
       "ZC2QaW/DvDELNchoWQqmF7aIcqpbWofvkyOlYm/AJajMOjqmHOFHrIs1Y3kmsze8s/DqUD8/aSFT\n",
       "nmJcqMdaIKyHqzKszoUYk0ezZIOSk8H6wNeHC8Ys1CCjte25KHphiyiLcbkZ9mNp2taqexVaJUfH\n",
       "lCP8TiUr1vLgBm3usThUngUIz1x+YqhfTiGHCS2ofBZrgXOXL0YLYmrQVapGmERPowayQcnJaiDb\n",
       "tnNNYxYyKHMxUBYRGLfFlC3ybc8168JUG3WfnD9HC46OKUekSS5wpfSsDd+/0y1dgPPLHwGoINpx\n",
       "abY4GPT1ft7UHkE4BuX39MC7gwFB0DCU1e8LYRI9jRrIBiUnl5HCnG00GjW4uAGmLJKgzMVA6SIw\n",
       "bospj8Gh1fBGJExV7EQPnoM3vnZ0TDncL0fnFD8PXQyR1N2XXzEChsiPT/ZUeiwl+9jm98hRcir0\n",
       "fnBCj80gi3aRM30G/BAzY5M9lR65eNnO7JGj5LDfGuT1+xWyCp5zp2Pr6DlP/f+mzPlVx9m2ukeO\n",
       "gsN/qXPwO7d92grklPsXy0iXUEwQPaMAAAAASUVORK5CYII=\n",
       "\" style=\"display:inline;vertical-align:middle;\" /></a>"
      ],
      "text/plain": [
       "(A_{1, 1}, A_{1, 2}, ..., A_{1, n}, A_{2, 1}, A_{2, 2}, ..., A_{2, n}, ....A_{_b, 1}, A_{_b, 2}, ..., A_{_b, n}...., A_{m, 1}, A_{m, 2}, ..., A_{m, n})"
      ]
     },
     "metadata": {},
     "output_type": "display_data"
    }
   ],
   "source": [
    "ExprTuple(ExprRange(i, ExprRange(j, Aij, one, n), one, m).with_explicit_parameterization())"
   ]
  },
  {
   "cell_type": "code",
   "execution_count": 63,
   "metadata": {},
   "outputs": [
    {
     "data": {
      "text/html": [
       "<a class=\"ProveItLink\" href=\"../__pv_it/demonstrations/2f6a6a324cf8780c9fc6ca00de98d89ad3f599500/expr.ipynb\"><img src=\"data:image/png;base64,iVBORw0KGgoAAAANSUhEUgAAAHEAAAGeBAMAAABRNfMAAAAAMFBMVEX///8AAAAAAAAAAAAAAAAA\n",
       "AAAAAAAAAAAAAAAAAAAAAAAAAAAAAAAAAAAAAAAAAAAv3aB7AAAAD3RSTlMAIs1UmauJMnZmRLsQ\n",
       "3e++988cAAAACXBIWXMAAA7EAAAOxAGVKw4bAAAGSElEQVR42u1cTWhcVRQ+LzPJ/Dj5UbQIEWfc\n",
       "CGJps3Mh2lmkQqHCUAgEVBIFRRelDxSSjc0gRiJVGqRQMIUWpAtBYkAhLsTMxtLiwoBCNyJRkRJc\n",
       "OImmY39kfO/dc+e+effc82IUrMn5YKCTMyfz3rsvX+f7vnMHQOEe2CkOstXCytbYsWWylGnzv3hg\n",
       "CWDCpyrZiSG2s1wH+LhKVZ4/4bOd54Py+TpR8OqnR9jOieBxgDqsLByaZzt/AfjyKlX4AGYmucbc\n",
       "rbnZR8hKFco1gCuV8N+l9+x6fgPgyXldUq9ThU9HJ5YgN7caPpl+1+68aw2gr4UlfF2EywCDwbOM\n",
       "+skTdudgcESFP3Qpsxo7WOhf4zpnguvXe9PuLAY/72lynaeDBZmp2J0PhmeywXUeCH79jw2r86v2\n",
       "fsisbE66O59pj409OgLEeerb3vmeGkxnaTKt8xLR6b1wvZ77CfYdfNnVGJZOjoSvo/5QUznA9afx\n",
       "UVpjseEozKd1FmCPQph6tzL1pRef5Zm69NJYg2TqKjzNM3UWsqskU9+Ess8y9eAFr0Uy9Tmis4up\n",
       "C41OZ4Kp4XgKU0PfKs3Uue9SmBpeb9BMPdxIYWrvc5qpvao3xDP1vXA3ydTDU681WKb2lqeOkkz9\n",
       "a7vNM/VAu90UphYIdj9Km2mv+LriKHyb1tlflesrd4LcCbKeAsF24FV22tnTZMsL4cdxWvMd4jtD\n",
       "XdbbIiuHN/iTCVRO8Xeq0revxX+obSmNZOP+/G9sZ29wMj0/kFowcyNNZpeeo65QcSR3ne2c+Wzu\n",
       "GPk5PQveFm0RGl2WWe+yCBGnRg/foi1CxBfB44QftwiR9ALR/idwNtYWRNLesrGyweN73Vk4Mv2m\n",
       "JbPD6zdxATvPnJ3THPghuh9R55XF+YEhQmbnNlHyld5fB1wgL5C7sDKEnQ+8AYNJGdQTvGJxP3Z6\n",
       "lytwW53lymYDHm8/rM9zHBaT90Hot3zSkZm99eIaqS6vwWjOcaFU54CfrfqUumzC1cfcnYFALUP/\n",
       "qz6hLos1eMsh61CgXoT8K39DXaYKVKe6TBWo6epyHvYoxCmMsJucQnQAmUwHTUQr00EHkMl0lIlo\n",
       "ZzraAXRnOmgiWpmOdgDdmc65ZKd2CtEBZDIdZSLamQ46gEymo0xEO9NBB5DJdJSJaCcz6AC6/0tD\n",
       "E9FOZpanjvKZTmgiUplO6ADymU5oIkqmI0wtTP0fMjWT6aiSnekgUzOZjirZmQ4yNZPpqJKd6SBT\n",
       "M5mOKhGZjs5qjqcwtZ3pIFMzmQ6WrEwHmZrJdFTJznQUUzOZDpasTAeZmsl0FFPbmQ4yNZPpKKaW\n",
       "TEcg2BsQ51fWU9ZT1lMg+LfgVXbaKclMhDswmaHko1FXmfUu+YhQyQwlHxEqmYnLRyS9epTMUPIR\n",
       "oZKZuHzUBxslM6gR3ckMykcimYk0IpfMRPKRSmYijcglM5F8pJIZpRGZZEbJRzuZQY3IJDNKPtrJ\n",
       "DGpEdzKDMtNOZpRGZJIZlJmSzAgE8ilVPqXKnSB3gqynrKdAIBDuE+6T9RTInSAQbBteZaedYqpH\n",
       "uANN9RghJedocbuDgZ6jVaa6gTVHq0x181zP0ertDgbJWU/c7mCAs55oqp85O1d7e5nq1Kb6kenZ\n",
       "/IIf61SmemiW/wyzVCea6qHfXsvXTCea6qFZ3oKnqE401UO/3c9Odjo7pnpvPbcG3xCdHVN9HE5C\n",
       "/0jsaPVy+/klr+lTVwhxDU5BOWd3loN3LSxV3XO0XjN414Ws/d0oF6FnyBtvuOdoizV4CO57R+Zo\n",
       "hW+Fb/8531qw+FYjybdWEJrkWx2EWnxrBaFJvtVBqN5e1kEyCNXbyzrQQSiGmIapk3O0yLeGqTEI\n",
       "Rb6NM3Vijhb5NsbUKghFvo0zdfccrebbGFN35mjVCwxTD9NMY5i6e47WMLVrjtYwdfccrWFqxxyt\n",
       "YerEHK1hasccrWFqmaMVCMRPED9B1lPWU9ZTINg2ZCdmhF317Zpu4E5MohDtxGSAOzFt4LdruqG/\n",
       "XZM42GgnptGIyTla3IlpZCbO0eJOTKMRrTlatRPTyEw9R4s7MY1GtOZo1U5MIzNxjrazE9NoxMQc\n",
       "rd6JaWRmYo7WaETHHK2Rmd1ztDGN6JijNTKze47WaETXHK2Rmf/DOdq/AOWcgcQ9GNjRAAAAAElF\n",
       "TkSuQmCC\n",
       "\" style=\"display:inline;vertical-align:middle;\" /></a>"
      ],
      "text/plain": [
       "ExprArray((A_{1, 1}, B_{1, 1}), (A_{1, 2}, B_{1, 2}), ..., (A_{1, n}, B_{1, n}), (A_{2, 1}, B_{2, 1}), (A_{2, 2}, B_{2, 2}), ..., (A_{2, n}, B_{2, n}), ......, (A_{m, 1}, B_{m, 1}), (A_{m, 2}, B_{m, 2}), ..., (A_{m, n}, B_{m, n}))"
      ]
     },
     "metadata": {},
     "output_type": "display_data"
    }
   ],
   "source": [
    "ExprArray(ExprRange(i, ExprRange(j, ExprTuple(Aij, Bij), one, n), one, m))"
   ]
  },
  {
   "cell_type": "code",
   "execution_count": 64,
   "metadata": {},
   "outputs": [
    {
     "data": {
      "text/html": [
       "<a class=\"ProveItLink\" href=\"../__pv_it/demonstrations/e683a64f4f3b8d172084dd25dc628d72b83dabb00/expr.ipynb\"><img src=\"data:image/png;base64,iVBORw0KGgoAAAANSUhEUgAAAKQAAAImBAMAAAAvfDyIAAAAMFBMVEX///8AAAAAAAAAAAAAAAAA\n",
       "AAAAAAAAAAAAAAAAAAAAAAAAAAAAAAAAAAAAAAAAAAAv3aB7AAAAD3RSTlMAIs1UmauJMnZmRLsQ\n",
       "3e++988cAAAACXBIWXMAAA7EAAAOxAGVKw4bAAAIz0lEQVR42u1dT2gcZRR/k2y62e3mj1KLUDHr\n",
       "RZCWJjcPEruHrVhRWAqRgpVEQdFD6aKF9mKzSCORWhpKoWAKLUgPQqkBhSqI2YulxYMFD70USS0S\n",
       "Sg+m1Ta1VdaZ+d7M7My8b/K9j40E8n6QpGHyfp3Z/Xb2t+/93vsAEE4ZOo2uJZuo2dbY2Na65uAO\n",
       "K0q4DdCzrDm2844No/MAoPgXfWzD5mUbyoIbVXhAH3uy908byh734eq6QR+rdP9tQ9k/B6U36aen\n",
       "OJK/b0M5+e307hn6UA6cewClE/4vV8yX6PFB6L4VRGA44mh15yOAQ8e8f+enrxpT/uB+7a9jhApH\n",
       "lBoA/7o/R/3fus0p3UuDM40gYjR23QC/WlDmved0/CxF+aX7NWxB2eu+PvJ3gaB0Ftxv84N8yi43\n",
       "8MI2grI0f7cJL7SeZVP2zN8b2/01UGcZgv30ILIpL1lSliZIys3D78HhEeft+w3m/ciNyN/0w0mM\n",
       "WN7Du7VHik1LyvP6O6DtO80MCFYPIg1EGqxtaVB6d8z4bhSTBpfe2auRBjnIGd/WY9KgAq9ppMHA\n",
       "Wcf42Y9Jg4cwVKelQaFpTBmXBqfbKePSADaYXnhCGsA+nTSAj0yfnoQ0yF/XSQPne0tpsKWpkwab\n",
       "4DEraeBUnEFaGjgXD75qJQ22HDzQpKVBf6vFvNGhNPij1RJpIBAIBGsHP5c7HthXsaS0DhQIZKkL\n",
       "ZF3KuhQI1hYe7zzlsE1QwctEXNR9mm5ZnUj/HMC4JiWaGx+0oRxqAHyluQ29tb9uQ3mm7mezKDiN\n",
       "41YJiHH3azt9fTnYYfWp/zbAj9foQ1/A5IQFY/7R9NRzmmMVGKqxapoKXs7txZlETRMPfVMdn2PV\n",
       "NBU2LgBsWI7XNBGXAQauWlS4BmoqYT1KXTf0LQSUJ09Nm77hTbrPac/DIO+569CR8EhxRhUUfMrS\n",
       "57fghiHlcXf9TJaR8sqFmf5wPT3tPSx3kNK5XIZ/DCm3u6fzWxMpn/oYBpp44KfWNuievzuBF97T\n",
       "KC6YMb7hFT28l4h6LPfAhfS9w6fsr+cqzFenolyEap6gLE3AEPR9yKe8BM4SXHs++UJXachz0Ps+\n",
       "j1HlPYs1+IR8VXfb3sP1t53zlowZeU/bNKR13lNgAqfccUopbfIWuJQ2CQHjlTaxNsl2PWExlHI9\n",
       "qdok3/WExVDK9YS1SbbrKSiGEq6n01xKLG0GxVDK9aRqk3zXExZDKdeTqk3yXU9YDKVcT6o2yXc9\n",
       "YTGUUFtYm+RblLAYSlB6tUkb15NXDNW4nrzapI3rySuGiutJINJApMH6kwZ81xNGUK4nJQ34rieM\n",
       "oFxPShrwXU8YQbmelDTgu54wgnQ9oW2J7XoKIvbppAHf9YQRlOtJSQO+6wkjCNcTSgO+60lFUK4n\n",
       "JQ34rieUBpTrSUkDvusJpYG4ngQCgWBNQUruAlmXsi4Fsi4FgvUOsSixIBalNFbLosTJMiqgRSme\n",
       "ZcRDvkWJk2VUQItSLMuIUBYlTpZRAS1KsSxjeN2eRQlzhnyLEiYpKYuSnzO0sSj5WUbSouTnDG0s\n",
       "Sn6WkbQoqZyhhUVJZRkpi5LKGfItSphlJCxKmDPkW5QwSUlYlDBnyLcoqSSlWJQEAkEnsAqfzlbh\n",
       "M2TJ9vJK8gxL1kAgEAgEIg1EGog0EAgEHYBT7jilnXU5s5xgaV3OKifYWZezygmW1uWscoKldTmr\n",
       "nGBpXc4oJ9halzPKCcq6rPDBnP9Wf8KEEssJVKCyLiv0THjfqSbmNLCcQAQGAxvVUlPLbNSEMuh4\n",
       "TgcGAxt9TE7vNaYMOp7TgaF12cOx5hFjyrCckAwMrcs+voMTxpRBOSEZGFmXfSzCTlPKsJywQuAS\n",
       "3DQ+S8PA64U5TYvSCqACN1Wr1bNwYBqyWpQomARa1xT0gbY1hYxAax+yGJhFGog0WL/SgDIPGEmD\n",
       "IDAtDSjzgJE0wEBCGlDmASNpgIGENDhtRElIAwykpEFbixJPGviBpDSIWpSY0sALpKUBNZjZSBoQ\n",
       "geodnhzMbCINqED1Dk+1KBlJg3hg+zu8tkVpJWmgCxRpIBAIBP8/JK8ukHUp61IgS12WumBdY610\n",
       "NWWOULLsasoaoWTZ1ZQ1QsmyqyljhJJtV1PGCCXbrqaMEUqWXU1ZI5TU4GU+cOM4AqqrSSG/lUGp\n",
       "RihRgTh4WeF1BiVuHEcEVtTgZYVFc8Zg47h0YNjV5P/Zg6lmoutJi3CEUiow7Gry/+x6byXR9aRF\n",
       "OEIpGRh2NfnYOFMox7ue9As9GKG0QmB/PeetJ6rraYVlrw0cgP4RoAczZ0Mf2Nec1QxmXknCEIFO\n",
       "tVp9BfIvN7K6nsibjkmg7WgmfaD1aCZ9oHXXk7RLCdYxxL0skI/4AoFAIBBpIBBpIBAIDCCD0liQ\n",
       "QWlprNpejhEM92yK2Zd9iRA2RLWXFPz/3XDPpph92UPUEBUrKfjL1IwyZl/2MRpdtz8obdehqd7Z\n",
       "OoMS7csnT03XPr0Yo8SSgpe6r/XWGJTKvuyNVvsdpmKUWFLwUvf13ASDUtmXvdFqy/BSO2VYUtgD\n",
       "h6FvxJwysC/3NPIL8Ev8sUQswlEYyjPOMrh51HvnnKU6Qeksuec5mwP2nk1D7nkW5ipEQ1SxBs/A\n",
       "E5/x92w6B12Dzp6m7NkkEGkg0mD9SQPTaaopaRA1RCWlgek01ZQ0iBqiktLAdJpqShpEDVFJaWC6\n",
       "Z1NKGoQNUWlpYLhnU1oaBA1RaWlguGdTWhpgQxQhDcz2bCKkQbKvKZIGvD2bImmQ7GuKpAFzz6ZI\n",
       "GiQboiJpwNyzKZIGsmeTQCAQrCFIXl0gS12WukDWpaxLgaDDcModp5T95lmQ/ebTaJ/MxIG+WSo2\n",
       "mYmD9mapOGKTmTiINUslrtufzBSlIQ23gQr2m4/ynmFDlJrMFKUhTbeBwmapKO8ZNkThZKYoDWm6\n",
       "DRQ2S0V5z6CvKZzMFKUhzbaBCpulorxnsq8pSkMyt4GK8p7JvqYoDcnbBqot75lsiIrSkLxtoKK8\n",
       "5zrfBuo/qvakDV9CBp0AAAAASUVORK5CYII=\n",
       "\" style=\"display:inline;vertical-align:middle;\" /></a>"
      ],
      "text/plain": [
       "ExprArray((A_{1, 1}, B_{1, 1}), (A_{1, 2}, B_{1, 2}), ..., (A_{1, n}, B_{1, n}), (A_{2, 1}, B_{2, 1}), (A_{2, 2}, B_{2, 2}), ..., (A_{2, n}, B_{2, n}), ....(A_{_b, 1}, B_{_b, 1}), (A_{_b, 2}, B_{_b, 2}), ..., (A_{_b, n}, B_{_b, n})...., (A_{m, 1}, B_{m, 1}), (A_{m, 2}, B_{m, 2}), ..., (A_{m, n}, B_{m, n}))"
      ]
     },
     "metadata": {},
     "output_type": "display_data"
    }
   ],
   "source": [
    "ExprArray(ExprRange(i, ExprRange(j, ExprTuple(Aij, Bij), one, n), one, m)\n",
    "          .with_explicit_parameterization())"
   ]
  },
  {
   "cell_type": "code",
   "execution_count": 65,
   "metadata": {},
   "outputs": [
    {
     "data": {
      "text/html": [
       "<a class=\"ProveItLink\" href=\"../__pv_it/demonstrations/8fd52eaedb86d2396c1961e055d711a954fb2aa80/expr.ipynb\"><img src=\"data:image/png;base64,iVBORw0KGgoAAAANSUhEUgAABBYAAAAuBAMAAABuaodKAAAAMFBMVEX///8AAAAAAAAAAAAAAAAA\n",
       "AAAAAAAAAAAAAAAAAAAAAAAAAAAAAAAAAAAAAAAAAAAv3aB7AAAAD3RSTlMAIs1UmauJMnZmRLsQ\n",
       "3e++988cAAAACXBIWXMAAA7EAAAOxAGVKw4bAAAH5ElEQVR42u1bXWgcVRQ+k93t7qb5s9QiVEx8\n",
       "EaSl2TcfpGYfErGisBQiBSuJgqIP0kUL7YvNIo2s1NKlCIIpNCB9EEoNKFRBzL5YWnwwYKAvRaJF\n",
       "SvHBNNomtso6P3d+7sy9Z+65s4MPOweyZCfnO993v73ZmczmA7BqByBljIFGxaBSYNwBeqXApico\n",
       "mSxF9I5uTx7HQH3rOlQxqBQYxzVNUWDTE5RMliJ6vMuTcx0MNKFlBI5KgREfmYxtQn8vaMtSQ2uP\n",
       "lwHzMyMIauqODheOSoERH5mMTc+CZLLU0NrjZcBXj9TloG27NjWoYlApMKIjIRGbnqBkshTR2uMl\n",
       "QKNxpiIHPVL6U4MKR6XAiI+ERGx6FiSTpYbWHi8D5mGiJUdVc39rcOGoFBjxkZCITc+CZLLU0Nrj\n",
       "ZcDPYG5WCuqvFO/RqWJQKTCiI/WV6gtKJksRrT1eBqzCaA3gmv039MDZyAYy7rqHB96YbqtuOx8l\n",
       "Y2TTJIxXXj9MYgyOpP2CWGxOvbOEWBBsccQpy3KquIf+nuWj7bo2hjcQ7YpW6avJmSUoNlesJ8dP\n",
       "h356anLqgXs4D/mVIPOG+fDjmPsgQ8kY2TQJYxVeRBjtb6Qjw2XLsyH+A8/mVGEWsSDY4ojj5yOy\n",
       "WL0UEeb0+xaGfOTQ1m5qrgDaEFq/Jyny+oSBbl0FGDYn5Jwp+0NqGwD/uoeHFw3ugnrV/Bqsug8y\n",
       "lIzRnSZmvA+jdYRxFR0ZKkfeKv/AK7VrqI5ZEGhxxPHzEVmsbkWVrfLwkI8c2r4psAJoQ2j9nqTw\n",
       "6xOd7L1dwOCabC/kza+f3cPltrGp+MYbRB04flLE6E4TM56z7VZm5EZ+/EmzqnyKcJTaNdc8jFgQ\n",
       "aDnH74U4Wey3emu+LXIjdlEHjs+XFuqivRBuoNrlAx1V/S3nHqt4L3wOzt1KdnjbihIVh7p2qTXE\n",
       "3ddwGdk0CSO8TWDkRg58eht+UbTbY7PqdPskJijQwsQpy7Lfl2+UqgI3YtEWolaqCfZCtIFmlw9k\n",
       "qh4zv91+R7IXDGtTL494h99TujThUY++D8MczGVk0ySMxRsERm6kcXUM/lH8M9tls+sbOIsICrYw\n",
       "ccqyrNreKo8J3IhFW4h6flawF6INNLt8oKPqh85eyC1vzAr3wsDyRhue7jzhHja+VWEKow7BpeCP\n",
       "PUY2TcK4u63OGBpZaPSvAU0pO6FPIYKCLbvbJFnsUiNfi7qhgD4EJ2CwEt0LggaiXT6QVyU+R7jl\n",
       "HN4JD5H+JtrP/Jssin7KpokZjaoxQmd02k3Xqzq3ZtfhJmJBoIWJo9UwDFUQN+R1C07BaFF0vRBp\n",
       "INrlA3lVJs/ALLYXroBx+dgL1L1gotbh+lOiV9ucJmfcfexom8zIRo7C4Ls6e+FGeQmxINBiiSNP\n",
       "H2wvIG4gi1o3f2sX8iZWshf8BqpdPpBTZbx2r1G8CbvG3xShrMMnKkOdDunDWwfVX4MPRPc7rWly\n",
       "xj86HTojG3kBSm/RXqedk5OTi3C0CXJBwRZLHMVzE/o8FJ9rIG4gF3o1eBwe/sjEWq8R2kC0ywcK\n",
       "VOVQqN6nIDgqBcYcJKlcugSVNLGVbk6+iO6itg5NDCoFxouJ9sLFVAn0VqSI1R4uBKJvXmUtnhhU\n",
       "CoytRHuhlSpBGVLElv8PVVlllVVWWWWVVVZZ9WotdKan98hu05WX704fvEy+MMVRKTCiI/WV6gtK\n",
       "JksR3f1V/w5QkH7sPbQEMEOmi0GlwIiO1FeqLyiZLEV0t1dtbAH0/yVDjTYAvqhSuXBUCoz4SG2l\n",
       "CSxIJksN3fVVl82NVd6Soc6bu+d8g8qFo1JgxEdqK01gQTJZauiur7qwDtAn/T+gGfNrH/kDWhyV\n",
       "AiM+UltpAguSyVJDd33V5rlj4JU6ckb6/rrOiQ5BpcCIj9RWmsCCZLLU0F1f9dzXzYPSW+zFB835\n",
       "J8lUMagUGNGR+kr1BSWTpYju+qrPjEDutiwrU7oD8EyLmpXhUDJGSVaGYYlZGW4koRibU+KsjKBF\n",
       "OSvDvHVeAHJWJoi2K5yVCTeorp9bUrC+M7+O1CVZme1rANs2qVkZDiVjlGRlGJaYleFGhsvXGMnK\n",
       "MDZ2+p1FLAi2KGdlHFnsSXxWJoTn0CDIyoQbVLMy3JKCZeXDzGtK8f87DtecK1VaVoZDyRglWRmG\n",
       "JWZl+JGhCmgMZ2Vcpc7pt45ZEGhRzsowb52Kz8qE8BzaqvD/uIUbVLMy3JKC5w4rQzyzKNkLc+Y7\n",
       "SeE+NSvDo8LpEMYoycowLC0rw48kZGVcpc4TYVZG0KKalXG9dZ5QszLuoqRZmUiDql1sSaZPtQ/t\n",
       "24/MMevcUdyQ/R+0eUaCuTFqVoZDRdIhLqM4K+NiSVkZbiQlK+OxWSXOyohaFLMyniz7CTUrw9Dy\n",
       "rEy0QdEuZ0mWT7/BPPiO9Znnjkt7ZXthH0D/r21iVoZHRdIhLqMwK+NhSVkZbiQhK+Ox2SXMyghb\n",
       "FLMyniz7JE3NyjC0PCsTbVC0y1mS5dMmPAueYwXrY4ovQbIXXrY+/KgALSsTRoXSIR6jKCvjYylZ\n",
       "mdBI5ayMz8ZO6FOIoGCLWlbGk8UuNWhZGQ8ty8oIGtTscpdUaBTX4CeBY1lWpueyMkP10pKxXo86\n",
       "lmVlei4rM2q+H5SXqhHHsqxM72VlLkDfiHGoLXYsy8r0ZFZGuKAsK9OTWRnhgrKsTE9mZdiC/gM7\n",
       "Kpwt6/88pwAAAABJRU5ErkJggg==\n",
       "\" style=\"display:inline;vertical-align:middle;\" /></a>"
      ],
      "text/plain": [
       "VertExprArray((A_{1, 1}, B_{1, 1}), (A_{1, 2}, B_{1, 2}), ..., (A_{1, n}, B_{1, n}), (A_{2, 1}, B_{2, 1}), (A_{2, 2}, B_{2, 2}), ..., (A_{2, n}, B_{2, n}), ....(A_{_b, 1}, B_{_b, 1}), (A_{_b, 2}, B_{_b, 2}), ..., (A_{_b, n}, B_{_b, n})...., (A_{m, 1}, B_{m, 1}), (A_{m, 2}, B_{m, 2}), ..., (A_{m, n}, B_{m, n}))"
      ]
     },
     "metadata": {},
     "output_type": "display_data"
    }
   ],
   "source": [
    "VertExprArray(ExprRange(i, ExprRange(j, ExprTuple(Aij, Bij), one, n), one, m).with_explicit_parameterization())"
   ]
  },
  {
   "cell_type": "code",
   "execution_count": 66,
   "metadata": {},
   "outputs": [
    {
     "data": {
      "text/html": [
       "<a class=\"ProveItLink\" href=\"../__pv_it/demonstrations/19eac60c78a4ffc7efa1924b203a783a4ac033380/expr.ipynb\"><img src=\"data:image/png;base64,iVBORw0KGgoAAAANSUhEUgAABSwAAAAuBAMAAADQNUp7AAAAMFBMVEX///8AAAAAAAAAAAAAAAAA\n",
       "AAAAAAAAAAAAAAAAAAAAAAAAAAAAAAAAAAAAAAAAAAAv3aB7AAAAD3RSTlMAIs1UmauJMnZmRLsQ\n",
       "3e++988cAAAACXBIWXMAAA7EAAAOxAGVKw4bAAAKMklEQVR42u2cX2gcVRTGz3aT7m6apmvQIlRM\n",
       "fBGkxeybgsTuQypWFIJQKVhJKij2oTRooX2xCWJLRMWlCoottKA+CKUGFKogdl8MLSpVDPhSJFqk\n",
       "qA+m1f6xVeLM3Ds7987cc+85MzuJLXugodl+5zu/c/fsZrabPQB+9IMlCoNACqpORn8Gs/5lIMpW\n",
       "pj9vkLTwxBb68yTBMoZsSSsWaOZUHaWmw2xoGYiylRnKG2Qo01g6WxjKkwTJKC7akjYS79yNrCGw\n",
       "17SbOXLzIcpUhuWdBiQ1PK0Fhj2fBMvoGqtasjZdoLlTdZSadjNHbj5EmcqwvNOApIantcCw55Ng\n",
       "Gdt3TeBJK9deIZlTdZSaDjN7bj5E2cqwvNOApIUntsCw55MgGYWpN2p40u3lP0nmVB2lpt3MkZsP\n",
       "UaYyLO80IKnhaS0w7PkkWEYXbGzgWfXi3yR3qo5S027myM2HKFMZlncakNTwtBYY9nwSLOM9mBxH\n",
       "k3pqpcsUc6qOUtNhZs/NhyhbGZZ3GpC08MQWGPZ8EiyjDgOjAKcH/b/3HkzMcuFSeHPvs1ua+MxH\n",
       "OsrjU6mJmc0+s83/JiEKciWL1DhNiES2Dq1lRDw/AzixKrHVUcSl9azj5OWYWzAOgWLPoOezq1H+\n",
       "ZGRsBkrT3/rf7H099q+vjmy6Ht7cBV3fqnQX/a9nBhM6PQLBmUG8ZjKEWR0e8485LhK5kkVojLVU\n",
       "EwORoDe7xiPQRl+0bkQZEd3Bwx4hViWmk5RAqhieAAa8Iyf6EsvWWjANgWbPoGeMQjJOAazxqhRF\n",
       "peHYHTIF8G9485qjBe0V25z/ZXU9odMjEAgVUjMxBcLsGgz4L9HiIpErWaTGUEs3SRIJerNrIub0\n",
       "L0o3YeNB9IlSZmJVYjzJuYQYziPHaYR35ChnM2e8j6MYxvk59JxRMDyJwup5bCy7vD8/hjdXmoUr\n",
       "6M8BRSdj9p3t+BO3UvOtt6frJrPD5rEUuZLlsGHqTCbyDthxoGolkq4JItsPQNF4EJPT2wAlViWW\n",
       "k1TFpav7m3R4Naeyee/LwGvBa3r0lROmIZBns3nv/vKhCQp9JKWOgmIuyHsa4r0n81h+COK9IXnz\n",
       "SuyRENMFx/hdCftPWq1m77u/wk9GM9hpuJPD3JBlp4NIFXxTnazaiQLXJBEerTJ+vN582UasSNCT\n",
       "1MTls+U6Bz7KOX280VdlteA3/QvsNwyBtPctR8ujFHpVShuFKEOS3+n9ddUFZCwL/mPwZLV184vI\n",
       "pW5cFzwI66V5hEWrWTg1CP8YzUpnDXdymCtZhMZCpApGYJ+DKHBNEFn+0y0sE8RncNBGrEjQk9TE\n",
       "qxqVQQ58lHPHS7CmyWrBb/oKPGQYAmnvW050jVPoVSltFKIMQf7V4gYonrw4bhzL3pMXm/DA4t3h\n",
       "zYXPzd5xnbiKOlpGXpPFanZP9cwbzdY1k3dyK1eyrGs6iFTBb/LZACcSrjEiPKIy8rJuk4VYlWAn\n",
       "qYv7JrpGGfBqzlY4DrwWuqe82fk+OQQt+63e42J1jUQfSamjEGXo5OYf4vpF8K1wi6NJJf1MddVh\n",
       "xwNW1PQOsm66QCzUC1VAXxcJFqmxPBcogt4L8NnXdiLhihG5YgHOAU6sStwnGby2gL4aA17NOQ8j\n",
       "JR5830R5prAwgQ/BeXgVBkok+khKHYUoQyf3zrJ33DaWs1A4sedR91jOhm1WJz90j6VXcwBWv2Aa\n",
       "gnV7djdnsTvZZ/FyfY21hDQR8VPp2mH7EAtXjMgVZyszMGsfSyEhnGTwyrV5KLhTaPBRjldgAX64\n",
       "jwc/4D1fVmbq6BB4llvhUBeFPpJSR0Ex18gLT1+eKp2DtUPPmbL8m/fV+hYXHb8AJXSFkZGRR6Bn\n",
       "8/07HFc1ouYHUDYK/1hc9M08kemx7bF4ub7GGtIkIIL33zxgf2dMumJElmdZr8BR2D0NOLFgEBLn\n",
       "SQpx6eEp8HCEuRM+ytlX6xmFA8w3AT+AFdXC1iY6BJ7lXXDbaxT6SEodhSjDQF60plLfgue9VV/M\n",
       "YFZcDqI2FKvljZPl9zaKbTSvtYX8mHWgia/sqDpKTYfZsWUgakMxHs+xXBjS12OY8zmMGdan/QrR\n",
       "ucIDaWQwaywDURuKVfLGqWRpoNE+88rSkneiE53oRCc60YlOdKITnejEjRKHFrdsWY+9p1E5eWnL\n",
       "4ycIr6CIOkpNh5k9Nx+iTGV4JGlAmL1ysxlIfHo043eAbvQDmX0zAGOEOlQdpabDzJ6bD1GmMjyS\n",
       "NCDMXrnZDCQ+PZJRuArQ8xeWNDAF8FHdbU7VUWrazRy5+RBlKsMiSQXC65WbzUDi02MZFW9UK1ex\n",
       "rCPeo+jIlNudqqPUtJs5cvMhylSGRZIKhNcrN5uBxKfHMroXAFagv4w95v25l/B7zlQdpabdzJGb\n",
       "D1GmMiySVCC8XrnZDCQ+PZbhXVn0PmW7kPvyB9oVAklHqWk3c+TmQ5SpDIskFQivV242A4lPj2VM\n",
       "fjr9OPo+aOn69P57COZUHaWmw8yemw9RpjI8kjQgzF652QwkPj2W8UYVir9i6wvKFwAebLjXF2g6\n",
       "d2g1MTNkfYHIda4v0E2IRPz1BbKMCLmb4KBbgteRRyMGZn1qiLQtmBpQkRj0rFFIxBfen10TyPqC\n",
       "VfMAK69Y1hfIj61rOj1Mn1nXaiZCmiHrC0Suc32BZmIgin2GX3PFE9SeVVZ5nTRuOUNVYjlJASL/\n",
       "wbCKIEFgroDcBc5sUwMaEoOeMQpJrb/nw3sdZv4sz5pR8ToJX18wl9TpYfrMul4zHtIMWV8gcp3r\n",
       "C3STJFHsM/yaqyVhLpYaNi6ukyZsZ6hILCcpj0aEYRVBggCBQO4CV7apAQ2JQc8ZhcSVhb+sa+wo\n",
       "MpaT3pN79zX3+gJNJwP/zLpeM7EsQJqZ1xfIXOf6At1EPq7RDQC6K2N9Qdi4+EasLxh2SvCTDI9G\n",
       "fENcX2CowG8BXV8Qng1hfUFCSh2FxPoC/8qidBH75KP3kx8mB93rC2K64Bjxz6xrNZPLAkIz4/qC\n",
       "MNe1vkA3EYFvANBcOesLWmX8kLsJht0S9CRbIME3tPUFhgr8FvD1BRKJsr7AIKWNQmJ9wQrvyuL4\n",
       "Bmws7wXo+bnpXF8Q1wVXIPXSPKLWaiaXBYRmxvUFYa5jfUHMRAS+AUBzZawvaJUJQu4mGHZL0JNs\n",
       "gQRXfbT1BYYK/Bbw9QUSibK+wCCljUJ8fUG3/z79x4CM5ZP+++g1cK0viOvENQ76mfVYzfiygJaZ\n",
       "aX1BK9e+viBuIgLdABBzJa8viMrIS8FNljNUJdhJtkDkZSJlfYGxAr8FbH1BC8m9vsAgpY5CZ32B\n",
       "LdqyvmDYLclvfYGswG+hs75Ar3lTrS+wnGEoyXd9gYTgt3DTry8Qf/8/rS+Q3yzB+gL8DNUNB7ms\n",
       "L9Ag+C3ksr6AOgpLsb5A7rCgxZKsL2gnURuyc19fUMyzAc76AtbBY+ad9QUM1/TZua8vyNRCZ32B\n",
       "s+YNuL6g0W6eRj4QqXOXYn3Bf/bTRTok1L+DAAAAAElFTkSuQmCC\n",
       "\" style=\"display:inline;vertical-align:middle;\" /></a>"
      ],
      "text/plain": [
       "VertExprArray((A_{1, 1}, B_{1, 1}), (A_{1, 2}, B_{1, 2}), ..(A_{1, _a}, B_{1, _a}).., (A_{1, n}, B_{1, n}), (A_{2, 1}, B_{2, 1}), (A_{2, 2}, B_{2, 2}), ..(A_{2, _a}, B_{2, _a}).., (A_{2, n}, B_{2, n}), ....(A_{_b, 1}, B_{_b, 1}), (A_{_b, 2}, B_{_b, 2}), ..(A_{_b, _a}, B_{_b, _a}).., (A_{_b, n}, B_{_b, n})...., (A_{m, 1}, B_{m, 1}), (A_{m, 2}, B_{m, 2}), ..(A_{m, _a}, B_{m, _a}).., (A_{m, n}, B_{m, n}))"
      ]
     },
     "metadata": {},
     "output_type": "display_data"
    }
   ],
   "source": [
    "VertExprArray(ExprRange(i, ExprRange(j, ExprTuple(Aij, Bij), one, n).with_explicit_parameterization(), \n",
    "                        one, m).with_explicit_parameterization())"
   ]
  },
  {
   "cell_type": "code",
   "execution_count": 67,
   "metadata": {},
   "outputs": [
    {
     "data": {
      "text/html": [
       "<a class=\"ProveItLink\" href=\"../__pv_it/demonstrations/9a7df754de731d71cbb88bb852da2718b8b274530/expr.ipynb\"><img src=\"data:image/png;base64,iVBORw0KGgoAAAANSUhEUgAAA98AAABEBAMAAABqlJueAAAAMFBMVEX///8AAAAAAAAAAAAAAAAA\n",
       "AAAAAAAAAAAAAAAAAAAAAAAAAAAAAAAAAAAAAAAAAAAv3aB7AAAAD3RSTlMAEHbN71S7ZqtEMpmJ\n",
       "It02cEEwAAAACXBIWXMAAA7EAAAOxAGVKw4bAAAFwklEQVR42u2dTWgjdRjG38l2TJPutCHK1kPB\n",
       "sAUVVmr0tiK0F1EE2Z4UPGzrSVgPzeLFj0tdL6uXbWHFxVNY1ksjOnuyUJHgHvTgR62yFyuNoBe9\n",
       "RMr6UXaNk86k46Qz///zn3mTIrwvtLTwm+d9n/dJ0mRCM0S9KhNWCGdVmIRgMc7B0IYmJkzhMiOV\n",
       "4GcaHAXhclUmIViMczC0oYkJU3iakYr3Y52Zx24uCHfPLSYhVIxzMLShkQlDGENBwXg/J145DY2C\n",
       "cNaLb66wCMFinIOhDU1MmMIYilHxfsqPNe59G/mrAXDW9Nr1i3UGIViMczC0oYkJUxhDMSrBz3PU\n",
       "oA+AURDOrhXdYpNBCBbjHAxtaGLCFMZQjEr00wDnRriiyyQEi3EOhjY0MWEKNxipBD8SuAQugUvg\n",
       "ErgELoFL4BK4BC6BS+ASuAQugUvgErgELoFzBL4NjoJwTpNJCBbjHAxtaGLCFN5mpEz8SElJSUlJ\n",
       "SUlJSUkdUX3HzGlfKFSZQac65E0MyjCjFZXWLCgwyzTIsTYzCAsOy2H6+disKLTsDnY8ymlroc0M\n",
       "LjBtic1h+vkW2oNvO3ZpEzoe5bS1focZhAWH5TD9fFxWVFpffVOHjkc5XR3f3uMFYcFhOUw/H5sV\n",
       "hZZTeRj6lxWU09ZW7hYvCAsOy2H6+bisqLTGaKEGPd6BnLZc+09eEBYclsP083FZUWm9Qx81keNR\n",
       "TleF+eJtVhAWHJbD9POxWVFpubSzTDS5/5rNellxg/kPN/XFGxnuR85f6k4RMGg1WYU468uLpfR3\n",
       "ia7DTAqK+cJSWO9Hs+/5cOVe2ri0SMWTre4vV2cSj49wLn0aT1m73rf7qsEPsXX/xvofyk5R0G8V\n",
       "9NVyYzTWUg/mf0t2mKjQqwORqFed4bAU1vvRxD1H+mNavSoTTXgObd/l2cRZItzftJPwfPY372vc\n",
       "DX6I3XyF6B9lpygYtLJbEDex4uxpBht3lQ6TFYIKRaJedYbDOksomrjnaH+s7cGNiMbngMAj3PnE\n",
       "wIFHGqKfe53yH189pQHP6wKPcPmSk/p1je8wUHj9tZMusVQwnye4/MA59ZIPodn3HGoFjgo1/xSc\n",
       "LvA+jr5O6/9d8s9g7neavFwb2dSAfqvkwKMcHW+lfZITONxXsF59kp7hCdyfryv4FD2oXvJhNOue\n",
       "Q62eo++9r7vu6APv44o/pX2t6z1K0NJm0OnbaZooaUC/VWLgfRx9mPYpV8/hvoJTrtLvPC/u/fm6\n",
       "gnv0iXLJMWjWPYdagaMTnUfIXtpt6gLv526mXKu1tFuiZzuP9zpdoMs60G+VFHg/57yQckMHDn2F\n",
       "0UphjiPvg/lGK8U5+kW15Dg0855DrT5H2r/hEc5xnaxnnf1OT9NGUXNT9VvZukfqgPuBfsw4mK8w\n",
       "Uh9z68RYI/XcotOuI0sO0ex7DrX6HHkLtZpY4B53c61Ryh74FDlt+vV5NddtNQUE7nPOubXrGR+C\n",
       "PQXP4Q6Nv88a+I53F8svusiSQzT7nkOtqCPnxu1K8Qnanv1Msw6fO9PJ+kZit9O1+cIyPaQ5m9lt\n",
       "dW2+2xfhRjqdjO8vdhU8h1co9znr6ZcrdGzTuVBClhyi2fccasU4skERm2sJ89wg13sfNg2s7KOZ\n",
       "IlZrFTx4lWmIQokZLHCdFF0dXOCrRzNFrBb6VhHXW0p5bjDPtZ7a4AKvHc0UA3QkJSUlJSUlJSU1\n",
       "sJIPBDBtaGLCFB7CBwLIR36YNjQxYQrLZ7xI4BK4BC6BS+ASuAQugUvgErgELoFL4BK4BC6BS+AS\n",
       "+P8icLlQnWlDExOm8BAuVDd1ujGKXCcR4awb77naizmiDSExzsHQhiYmTGEMxagkP3efeguaBeGs\n",
       "R9dXWIRgMc7B0IYmJkxhDMWoBD9yOWnThkYmDOEhXE6aZsBZEC7XYhKCxTgHQxuamDCFZxipBD9b\n",
       "4CgI51SYhGAxzsHQhiYmTOEtRiri518rkT1auOQUYwAAAABJRU5ErkJggg==\n",
       "\" style=\"display:inline;vertical-align:middle;\" /></a>"
      ],
      "text/plain": [
       "VertExprArray(A_{1, 1}, A_{1, 2}, ..., A_{1, n}, A_{2, 1}, A_{2, 2}, ..., A_{2, n}, ......, A_{m, 1}, A_{m, 2}, ..., A_{m, n})"
      ]
     },
     "metadata": {},
     "output_type": "display_data"
    }
   ],
   "source": [
    "VertExprArray(ExprRange(i, ExprRange(j, Aij, one, n), one, m))"
   ]
  },
  {
   "cell_type": "code",
   "execution_count": 68,
   "metadata": {},
   "outputs": [
    {
     "data": {
      "text/html": [
       "<a class=\"ProveItLink\" href=\"../__pv_it/demonstrations/3d42f7d286aea39fe1fc512e0b2739249b6dcd330/expr.ipynb\"><img src=\"data:image/png;base64,iVBORw0KGgoAAAANSUhEUgAAAIAAAAGgBAMAAACQy3J6AAAAMFBMVEX///8AAAAAAAAAAAAAAAAA\n",
       "AAAAAAAAAAAAAAAAAAAAAAAAAAAAAAAAAAAAAAAAAAAv3aB7AAAAD3RSTlMAZjLNEESrie/dVCKZ\n",
       "druiQIfaAAAACXBIWXMAAA7EAAAOxAGVKw4bAAAF3UlEQVR42u1cQYgbVRj+M802u5nEXdKKl1JC\n",
       "c1nF4lJSPOxhp/TQU7VSKcVTDuJt6VpRKSKNHgTrwSAetBeDt8KyDShWUDcRpFLYQ0SpyLprKHsU\n",
       "dt1aWy0Y5817k00m/5t5Mz+rW/f/YDczmcyfvDdv3vf+//v/AdDDngIa9mwQDVylGrh+3/STBfTd\n",
       "zLXN0LPyjd5mGf3AV/m/Qg1kW/7WSAX9QCv7W/gPr/kbxx3s8EjduhtuYEG9WkfQwzmw/wBI7/N2\n",
       "jmFDIr8mXy++/aFEfeDw6tL1vwEO/+R9x0qt/9ANdUL3lLebQvsw3Qb40329IjushjXyqNoo4S0A\n",
       "+CDcQMnvu9QccvQZ928m3MD08PXou5Gq7r/1RpiBrXEALw/3wPptBxa6T4YZyBSNhnlIE8DUwAmK\n",
       "gWszr8Nk3X7pbptyX9eJ88KIQzSQAkZiMLEwsQwSS/rVFxwSseQgVyMRy/gpe5NELCkHMxCHWCBT\n",
       "oxELPOrQiMVeIxLLl/AFiVjsW4e+IRHLaLdLurWZWBgMxo7A09R10liLO/FfRsHoU33LuyDKRuMg\n",
       "q72y2HIPGwdaD+64IYUtaN7XLPf0y7sgNMs9/fJuiEPLpmx9VHOgZGigpOsrdLkXGjcwuD6xxgGy\n",
       "3MPGgeHyjsHYMfiEamCGeH62SzSQO9cw9Qfw+/O1ixH37XIvVoJOUXb7lwhXZ97fOKPx3q9ORCw+\n",
       "fCcTn42fgyci5shsR02yeFNb0KxoItK9CIHX9sw9RReXB+nn16VznWBE2m+dOuOjO97uPrQPTwKM\n",
       "1yJioaclQ1lTeAtgrOobOFBYQeZyy++8RzD6mpChMM9A+uE34J3hz+xpBC5HPz53/x66rwzYJ6fg\n",
       "95BxkBkm26e6Zciu355TTdjbHqkOGzhvdEd5BkaLuVZCPnINpOegCWOPJTMgItLWJXew51+kTAzU\n",
       "melZqoEJpofk4MA0B6b9wPSJV54XO8kVzxbcAJLieQeaRaAonvtDDJgFpuECAEnxtN7XGTAMTC86\n",
       "OgNmnovdshtAESwXDz3ukBTPd7tdVjyZWJhYmFg8YgntBBNikcwUkEzjEItkpoBkGodYJDPhkqkR\n",
       "sUhmwiVTM2KRzIRJpobEIpkJk0wNQ2KSmey1xHOCZKbkkqlkJoJkKpmJJVMGg7ETwIrngwdWPFnx\n",
       "BFY8GYxtAyuerHgqxRNPle5FCLxjoYon7vfHUDxxv9+HgeKp/H6C4un5/RTF0/P7KYqn9PsJiqf0\n",
       "+5MrnsLvJymewu9nxZPBYHD8gOMHPA54HPA4eHDHQSHuCcuB/XJcA/OBxXkldu8O7prG4YYdJuU6\n",
       "HInfa6v93xkdh9M6TMp3Lcf/BacHvIxS7POtwe80jcMhDpNCjTgOsDhcOM4Dg2dlZmcGDyQGjwMG\n",
       "Iz52VZJpqoi9G5VkKqAyEXCVKCrJ1HM65GSBq0SRSaa9FTauEkUnmQp4mQi4ShRMMlVPbgt2wppW\n",
       "JZJJpluQD9jpoT8TAVWJ/MfqbOEK2lCRiYCqRCrJ9EBhpfLdLb0BmYmAqUQyyVTIQ2/BTb2BacwH\n",
       "9W6kKogkUyEPbcK3WgNqHAyrRL0k071tqwqXtQaiMxFGi/mOvVHUNiESTfc3pDqt9FxSA2dc99Ce\n",
       "daxL3gN2CGChiImFieV/RCyqQC45scgyBAKxqAK55MSyHzUQh1hUGUJyYlFlCMmJZdGhEYsqQ0hO\n",
       "LKIMgUQsogyBiYXBYPy34DjSLgTXL3D9AnD9AoOxTdhN1QsaOomsXhBY1tGJSfWCwLyOTkyqF3o+\n",
       "K04n0dULXk93tHQin9cWiVVHQyeyeiHkGm0l5OB0op7XFgmRkFPCW+BVL3x9+Gb+oLic7tbPGJ2W\n",
       "NXSiqheOnZ0YreRFX4gtZGDJhBzkp6rqhU+/h/FiTnyB2HI04wChk171wixMwpjXu7NwFmlCZELO\n",
       "m7AKTUtuLVnxbyh7w/3mgznxyPcNeO/j+AbcUT4Nn/0Ak3V360eKB14nzg3b+vyCfwDfasuxUpGU\n",
       "HQAAAABJRU5ErkJggg==\n",
       "\" style=\"display:inline;vertical-align:middle;\" /></a>"
      ],
      "text/plain": [
       "ExprArray(A_{1, 1}, A_{1, 2}, ..., A_{1, n}, A_{2, 1}, A_{2, 2}, ..., A_{2, n}, ......, A_{m, 1}, A_{m, 2}, ..., A_{m, n})"
      ]
     },
     "metadata": {},
     "output_type": "display_data"
    }
   ],
   "source": [
    "ExprArray(ExprRange(i, ExprRange(j, Aij, one, n), one, m))"
   ]
  },
  {
   "cell_type": "code",
   "execution_count": 69,
   "metadata": {},
   "outputs": [
    {
     "data": {
      "text/html": [
       "<a class=\"ProveItLink\" href=\"../__pv_it/demonstrations/055fc83064fc47e91efd1f27782dc243ce1dacf40/expr.ipynb\"><img src=\"data:image/png;base64,iVBORw0KGgoAAAANSUhEUgAAAyoAAABMCAMAAAC1UrMvAAAAM1BMVEX///8AAAAAAAAAAAAAAAAA\n",
       "AAAAAAAAAAAAAAAAAAAAAAAAAAAAAAAAAAAAAAAAAAAAAADxgEwMAAAAEHRSTlMAdrvvq93NRIkQ\n",
       "mTJmIlRAUMakMQAAAAlwSFlzAAAOxAAADsQBlSsOGwAADR9JREFUeNrtnduioyoMQEVRAcXD/3/t\n",
       "EZWrBGm3ih3hZTpbNCEQSJCuVlXO0vVVKaU8tvCWPkQThktvlPLkQh4yQqeGls6AZ7Qff/6/UZrx\n",
       "CVrQZ6jx0IIme1h35wvoUTFygpXEE6YU3JWegFdc4uR0YldhrIXAc+nqYT8JoXq+MlbceQia75j/\n",
       "Xtd47X1UZqqUUVrn12EQJaeHV1xnGpmECMUGaydi4fsKapCMbCfWes4g1qeOYl2xuhL/JsSpYsqu\n",
       "Q1cWFbgwZ5AzHAgDuEBbiMBcL6vbzXeYd9ew3VGxZnUZVgx9XOo2e4RRFpVYNmn/h3Ai9lHWuP1t\n",
       "FG7S0enNkr7xVhv1lF6snli2VZKin9xJXdeWXoDnEXvF5Wge5PsoAAvlGs7aQUzVwVs1aqEXpDWJ\n",
       "6Uq2krKsNG/31UfHX3Y+zuQSPAKpCsXt4IZlZgqi3lIkam389XUBKe+1kuKfvNkKFmXxjyy5lmf0\n",
       "kxzbZD/X1Agh7C8MBJ6CzOw0bo8bS7qYUkRWM1FRly6ASzs5i8q8Vuzmf7Tm7JP3cqqF3wPoVGWe\n",
       "p9Y8cWqKqZOm9SGj9PEBW3BPzurNlgeqGWN4P7OoCNrL+BtrW5kCqUolGrXOFFMnlH6/pt+ZKpX4\n",
       "K81V6Bo0id0miFpnvA2w1oz+CUpVRpX59GVVSYvAMtqJirL/lRaAbZtYbbNLPEY3mFL1TQBGgFSF\n",
       "NspnptILiRN7vghszLqk/UDfqJWi3xxiO9lC/VRldoDOucL1IkOof8fW37XOUscaiNVK8bK8fMMV\n",
       "l/eP0aJ2cXmj5zW+LMZ6lHfNFkKtp1PMlW1fuSfe35W39a1526L3pKkoe2GRMmQ0T1PyyXjfLJER\n",
       "rYVYPGGSH+SwbrevGmF9VlJFaq3+EhJlNcas9/6+3VHXzNoha/WE1bZlXYklK9lS65KqHCYrQHA8\n",
       "gV0GXYHvqHibVK2UeUXOFQVN5a3KUTIHnGSEY2ZSfXqHcyaz5I6xwrKdLWElqz9M7INvEinYY9AV\n",
       "+I6K10nVSpHbULnm9q68gDyMUYN9Aw9o9OHfPW8snnKQ1+d6s9JkPSnwG4VfPXpR+XL9B8l1rn0o\n",
       "Ud7Vl/JTRWSa3Lkoe8Wl/FRpM6UMU9krLuW3SpdpCwyVd8Ol/FbBmfZsyVteq3Dv34se/8mVhzfp\n",
       "qYWJP31h9GuOGxbv+KKqot5dRb8DoXfousBayXwZcI+oQAjVTSMha3XbfDDfd98m57V4BVVHUe8O\n",
       "6XfhEmPiKZcYo4Ihdh7wMI+odyDzXcA9YtJr4zQfJOffukr3CldR1LsU+l24gEw8Y0kaERxh54WL\n",
       "R9Q7kPkq4B7S7yD1VyJp+iAOctySSvuKcy3qhFUC/Q4IcAEmnr3ysIhgmJ0XLj5R70Dmq4B7o57h\n",
       "iDo5mX4WKMxxS5stX+Eqjffvx1aDmHiOEAoLhtl50MzpEfUOZL4JuGdcZQ2gZY+k9iPAcUt0lRfk\n",
       "hIp6l0K/g3Y/1JCH14QA9E4JjLDzoBRSL2fRqUzJfBNwz8TNy+6t+nIqRQjTgRDJn5KfEMG0Gkhd\n",
       "cUa0dQzHzVyx63BM0HKMiaIlIKDYdpUXGFl9wzCFfhdLVXwmnre2Y0hwjJ0HpCo+Ue9A5puAe9pV\n",
       "etFiXKuAdu5PhFHFWvktBtzNHjO7AKnquQ+ITm4Mx81cser0ciZcsCxkpU2NVjYr3uAqobkXoN9t\n",
       "A3SXOgSZeG7tAPRuuyHAzhvSUpUj8oGS+SbgXq9cZYmf1XfiRi6NRSs8VsNUdXixHR8XyLCeIg3H\n",
       "zVyx6qy/MiSdbX6E/Mf5mQrxhjP4CrqSQL/bKg5+6mAz8ag3MLfaAejdJjDAztMSxhZFUpWVfODV\n",
       "seQrmW8C7g3qhO+aqkg3oOvcwzQGZBnVSPxHK3spsDhug75iPlVseWBLlkc00uaNZfhxfEFCqFBe\n",
       "CfQ7IHWwmXgDQm24CyHBEXaeo9Q+VdmwV04dW76S+SbgHh1HO0rlZgNMD+x+cSbZa711cN7luJkr\n",
       "+tMSZtN1W23542Dv+4g38Fr2rgLS74DUwWXihZldgb2tTWCEnTevbLFUZSXq+XWMfCWzf+Gq0uso\n",
       "FdFtyEu3kZ/JYiC5sc9aN5CoNMfNXFGf6PLALT1ZVihkm/WlAZhjtZGN44gH40Zs8jvHZeLZrmJq\n",
       "BxxoE+iz82wJY11xdEDU8+sYSerTm4B7ylX0Vj/H8sVVX+FGGbiT/TvKHfTWmM3juJkr6hNdfAF3\n",
       "1SSTezk71vhtrqKod2H6HR3ldDSYSWbd46W7VEUzqCZnqlI7wgHo3SbQZ+cxa9saIz7RZQsaJuqZ\n",
       "Or5jKJlaNn2FqzhrdS/X7kkMVL6ulbs1K7Cey3SQm6DJ47iZK+aT7K6pZctEKn+c3n2p9YrNYn9L\n",
       "1bUapwhbQc68ghPmkus8Jp7tKlvtxQH20Dsl0GPnmXtkfD2tOWmEqKfr7FzF3wZ/A29v2QGjuFuP\n",
       "5dXN0mTKEKomNk6rued8jvDFhKpPfI5bb4JY/YliRAaO0dIdmCD3ZMUrXEWtGBD9bplNrLB02ePV\n",
       "5Lo9E88Nd9QWcgB6p5cql51nbVtzwdjg3rUj6ll1fPlKZutj+f51V4kWdtJ8QZzntG9wFb01C7xB\n",
       "bOY/Y+st+rY1DCPxHFfZpp4g9A56Zamnqzlymmc1XsUE2nVc+UqmJXsqrmInKH/xEto4yUn3ih+3\n",
       "ix8r5PPA5XI2pquJh8Zk4BFXcWuHoXfAOcblnuV+jOTSQ6ICTZ1NpHaVwDHQf/9I33REN6In5N/y\n",
       "TRZ2bVm/g5inOFtB+t3YIcToMoIXGyO8blMBz+KkEwR5tSHoXRi3t9yz3C+v43GICjR1lluUfCPT\n",
       "kv0C3t54sMU/deLvR+KmETHvNQp+x1e7FPUuSL+zjoZNJpFIGHNWbQh6F8btbfe4k1/SIJ8OJoAX\n",
       "xAi5cBDsJV8YVtS7EP3OvG7padX1Q+rrPLs2CL3bC9T39J+nFc4tSubLgHu5cBCk0L2JYGoAzpM9\n",
       "Qyx1BH9W28xO6p4vooTy4/Zyds8TCI0FblTKj+WdmXaielF+rrOUnyq5gPQFxFrKj5VsQHohjmlv\n",
       "V6WN/OMLp4nkj3jMt/a5nJLHH6NBaMRmesvawqfwr8bMgay3x2PmLrfMgZLo6hDk0EwXtzwimWdL\n",
       "GTB4suV6zBzAens8Zu4Gy0SVvNRASWY6bHmsjWGlffWgDuqzbUQhaOvtDsxckPX2eMzcLZaJKHmx\n",
       "gRLMlNJysI2g0p56QAfl++F60EnvwMwFz0g9HjN3i2UiSl5soAQzJbQcaiOstK8e0EE42zeswN8L\n",
       "uwUzF2K9PR4zd49lYCWvNtCxmRJaDrURVnqnXriD2nw/M9eGZ6R7MHMB1tvjMXM3WQZU8nIDHZop\n",
       "peVAGyNK79QLdhDN+CKQhKeYezBzAdbb4zFzN1kGVPJyAx2aKaXl4TbGlN6pF+ygKeOhxT4s+x7M\n",
       "XID19njM3MWWcW/KweE7NFNCy4E2Ejjk3KsX7CCcEwbRBJOVczFzlBCMaaD2nvV2CWbOlv9XzNzJ\n",
       "AL4qetNtHL799A2bKaHlQBtbeP/BUw/qoCbn6RIWTEfPxcwtDIw2OJcAgs/FzNny/4qZO9cyh7tW\n",
       "1S0GgiXDGsRaDrQxorSvXriDhqxfGumDy/G5mDk5T/DQyNjv3VyCmbPl/xUzdzaAL945t3H4IMmw\n",
       "BrGWA22MKO2pB3QQygvjapqkMOMvmDmJezWuYtXes94uwczZ8v+KmTvZMmwc5qC+QqP1Xvt2Dl9A\n",
       "i4iZgJaDbbQjGFdpWD2gg7q8B+FR6BjYV5g5B/vmYuYUHdOuXYVYbxdh5oz8HWYujTNHL7HMXF2G\n",
       "8w3WX9J3G3sPhy+kRcRM4ZZHep+a5c5VGlbPkWw5VGYURCj++wYz52DfPMzcPHqoV9ved7wcM2fk\n",
       "7zZ79VMiHwIKnmKZubq8sORz5mTX3Ry+kBawmYCWw71vXfCUhtXz96TVIpWZ3UQCCnyFmfOxbxZm\n",
       "jtc0tN24Z71dhJkz8neYOSNb99P+w17BkyyD0QY7sveVbufw7bWImAlqOdhGC+TnKg2q50rWN2cn\n",
       "QdDQsvYVZg4ktvG5Kud+7SDr7RLMnJEfwMylceZ2Cp5jGVld/pj0vBANu5tu4/DttIiaCdIAtOPn\n",
       "F1zJXlyXNVvZa/wVZg4itvF6GAZG/dpB1tsVmDklvwofdkwKgMk1lhHbnD6PXZaDw7fax9XiyEzQ\n",
       "UVNyaLvkC/6ZzNWhH0DiCqErv8DMgcS2Rsji1wZYbxdg5pT8IGYujTMXUPAMy/TycieTHCzPpt/P\n",
       "4Vvu8LQ4NFNYA1DY5xdcyZEZ/fYyBVa2LzBzCcQ2uzbAersbM5f2FHS1ZQI33cPhm6q0efJQA5Rg\n",
       "uypVvb030mfwtVmg7Vdj5kDW2+Mxc1dYJnDTPRy+0B2HZuJXA4YCkvFDkHXtRx5bMHOnWyabgX4F\n",
       "w9c3D4H8D80LfvCplB8u7WN+tbTnpTdKeW6htqf8D+hYoaNLK8NqAAAAAElFTkSuQmCC\n",
       "\" style=\"display:inline;vertical-align:middle;\" /></a>"
      ],
      "text/plain": [
       "ExprArray((A, B, C, D), \\\\ ((A_{p, j}, B_{1, j}), (C_{j, k}, D_{k, 1})),  \\\\ ((A_{p, j}, B_{2, j}), (C_{j, k}, D_{k, 2})), ..., ((A_{p, j}, B_{m, j}), (C_{j, k}, D_{k, m})), (A, B, C, D))"
      ]
     },
     "metadata": {},
     "output_type": "display_data"
    }
   ],
   "source": [
    "# Unable to format this in an array form.\n",
    "ExprArray(ExprTuple(A,B,C,D),\n",
    "          ExprRange(i, ExprTuple(ExprTuple(Apj, Bij), \n",
    "                                 ExprTuple(Cjk, Dki)),one,m), \n",
    "          ExprTuple(A,B,C,D))"
   ]
  },
  {
   "cell_type": "code",
   "execution_count": 70,
   "metadata": {},
   "outputs": [
    {
     "data": {
      "text/html": [
       "<a class=\"ProveItLink\" href=\"../__pv_it/demonstrations/7da479167900a5bdc847292c08a9022b1e72c48a0/expr.ipynb\"><img src=\"data:image/png;base64,iVBORw0KGgoAAAANSUhEUgAAAG4AAABzBAMAAACLPSqNAAAAMFBMVEX///8AAAAAAAAAAAAAAAAA\n",
       "AAAAAAAAAAAAAAAAAAAAAAAAAAAAAAAAAAAAAAAAAAAv3aB7AAAAD3RSTlMAZjLNEESrie/dVHa7\n",
       "mSKN00liAAAACXBIWXMAAA7EAAAOxAGVKw4bAAAC+0lEQVRYw+1YzWsTQRR/2c2H2TQf6MGL0EDP\n",
       "kiI9eBBSFES0hYig1UsihQUhkiB6NXoQKhRbPIh6Sf8BMQcPgsEEhFC/SI96UBcK4i1tY9PS1sa3\n",
       "28TE7Nu3zl4U2Qf7GGb2t/MyL/N7vxkAxsozNfX1LIhbUweLw3wb6Cb5d/YTfYF1dGfM/S/72mME\n",
       "Tl6BEEjm/id9IWUIXLQKZ6nYgr3miXFiPP0gu0vhlGq3JR2hxgvxyDydoO4shbuP9myhfzgJkIf+\n",
       "QMKdt4rrnQ4PtSywA6B5S8TAuVS3NUKlbxtdiPjhUm8WT55I3xq6r1R+tF6bWIDgCs55B9j8wQ3T\n",
       "6MlkS83OjRK4a+Caa3/fQouzanYmJg6M4r9adoBL4K70pIR5FyqIUTRh3oU6QFwR512sK1LMAe9K\n",
       "G7CsOeDdwI760Anvyt8h/Nv7f8i7mL7T5Hw870I6T+fMhnexrtA4G97V6wppPO96s21VI3Eu77rm\n",
       "yJYd4pI244faqnrMvDmUtt2HUSz710y94ZzGwyKonHw/TN03rTbor12Nc3m2TV8rVRZ4nB+Vk3zP\n",
       "FCY8takd+6rgvWKK6ZJRP9j68vbFtPnTS9DI8LiKBsptU3V8/ylX5XGLFLnhASE6z+Na+AyXTGFC\n",
       "8BYLk1bR5Qbqpy9mHDDYOo+nAak50PkNn6FdFidjOFMDFWSiPQZKvcklwl9vqdNvXNZw7V8zb1m9\n",
       "HMmL454/A+WjuN6duI/uiyasd4/qsm9K+J4hsKX7w8J6t2Gw1XFhvVsoWfwmG71btFwRXu/OGV78\n",
       "nqFoxBQX1rtG5gLierehr8t1cb2rIL1fGBfWuwCTtaspV++69r9ZuV3L1jQHQNQ6ni1xmKRL3A+8\n",
       "EqZoJKRL8XSM42uZ2tdDumxr5Ln9fp48v+v8msgwfO0lz/0JnZiG8wxfj5AHgUqc0J39fB3Y7BDx\n",
       "48HrF4BNjq8PUMui3wuDZ5Xja2nUKn2nqixfH7RK3yuer4PUMKbv4hLP14EUKY/ffbbg659YXOM7\n",
       "zT5jBwAAAABJRU5ErkJggg==\n",
       "\" style=\"display:inline;vertical-align:middle;\" /></a>"
      ],
      "text/plain": [
       "ExprArray(E,  \\\\ F,  \\\\ (A, B),  \\\\ C,  \\\\ D)"
      ]
     },
     "metadata": {},
     "output_type": "display_data"
    }
   ],
   "source": [
    "ExprArray(E, F, ExprTuple(A,B), C, D)"
   ]
  },
  {
   "cell_type": "code",
   "execution_count": 71,
   "metadata": {},
   "outputs": [],
   "source": [
    "%end demonstrations"
   ]
  },
  {
   "cell_type": "code",
   "execution_count": null,
   "metadata": {},
   "outputs": [],
   "source": []
  }
 ],
 "metadata": {
  "kernelspec": {
   "display_name": "Python 3",
   "language": "python",
   "name": "python3"
  }
 },
 "nbformat": 4,
 "nbformat_minor": 0
}