{
 "cells": [
  {
   "cell_type": "markdown",
   "metadata": {},
   "source": [
    "Demonstrations for the theory of <a class=\"ProveItLink\" href=\"theory.ipynb\">proveit.core_expr_types.expr_arrays</a>\n",
    "========"
   ]
  },
  {
   "cell_type": "code",
   "execution_count": null,
   "metadata": {},
   "outputs": [],
   "source": [
    "import proveit\n",
    "from proveit import defaults\n",
    "from proveit import ExprRange, ExprTuple, IndexedVar, var_range, ExprArray, VertExprArray\n",
    "from proveit import i, j, k, m, n, p, q, A, B, C, D, E, F, G, H, I, X\n",
    "from proveit.logic import InSet\n",
    "from proveit.numbers import one, Natural, NaturalPos, subtract\n",
    "%begin demonstrations"
   ]
  },
  {
   "cell_type": "code",
   "execution_count": null,
   "metadata": {},
   "outputs": [],
   "source": [
    "# defaults.assumptions = [InSet(i, Natural), InSet(j, Natural), InSet(k, Natural),\n",
    "#                         InSet(subtract(j, i), Natural), \n",
    "#                         InSet(n, Natural), InSet(m, NaturalPos)]"
   ]
  },
  {
   "cell_type": "code",
   "execution_count": null,
   "metadata": {},
   "outputs": [],
   "source": [
    "A_i_to_j = var_range(A, i, j)"
   ]
  },
  {
   "cell_type": "code",
   "execution_count": null,
   "metadata": {},
   "outputs": [],
   "source": [
    "B_i_to_j = var_range(B, i, j)"
   ]
  },
  {
   "cell_type": "code",
   "execution_count": null,
   "metadata": {},
   "outputs": [],
   "source": [
    "C_i_to_j = var_range(C, i, j)"
   ]
  },
  {
   "cell_type": "code",
   "execution_count": null,
   "metadata": {},
   "outputs": [],
   "source": [
    "D_i_to_j = var_range(D, i, j)"
   ]
  },
  {
   "cell_type": "code",
   "execution_count": null,
   "metadata": {},
   "outputs": [],
   "source": [
    "Aij = IndexedVar(A,(i,j))"
   ]
  },
  {
   "cell_type": "code",
   "execution_count": null,
   "metadata": {},
   "outputs": [],
   "source": [
    "Bij = IndexedVar(B,(i,j))"
   ]
  },
  {
   "cell_type": "code",
   "execution_count": null,
   "metadata": {},
   "outputs": [],
   "source": [
    "Cij = IndexedVar(C,(i,j))"
   ]
  },
  {
   "cell_type": "code",
   "execution_count": null,
   "metadata": {},
   "outputs": [],
   "source": [
    "Dij = IndexedVar(D,(i,j))"
   ]
  },
  {
   "cell_type": "code",
   "execution_count": null,
   "metadata": {},
   "outputs": [],
   "source": [
    "Eij = IndexedVar(E, (i,j))"
   ]
  },
  {
   "cell_type": "code",
   "execution_count": null,
   "metadata": {},
   "outputs": [],
   "source": [
    "Fij = IndexedVar(F, (i,j))"
   ]
  },
  {
   "cell_type": "code",
   "execution_count": null,
   "metadata": {},
   "outputs": [],
   "source": [
    "ExprRange(j, Aij, one, n).with_styles(parameterization='explicit').body"
   ]
  },
  {
   "cell_type": "code",
   "execution_count": null,
   "metadata": {},
   "outputs": [],
   "source": [
    "ExprRange(i, ExprTuple(ExprRange(j, Aij, one, n), ExprRange(j, Bij, one, k)),one,m)"
   ]
  },
  {
   "cell_type": "code",
   "execution_count": null,
   "metadata": {},
   "outputs": [],
   "source": [
    "ExprTuple(ExprRange(i, ExprTuple(ExprRange(j, Aij, one, n), ExprRange(j, Bij, one, k)),\n",
    "                    one,m))"
   ]
  },
  {
   "cell_type": "code",
   "execution_count": null,
   "metadata": {},
   "outputs": [],
   "source": [
    "ExprArray(ExprTuple(A, B), ExprTuple(C, D))"
   ]
  },
  {
   "cell_type": "code",
   "execution_count": null,
   "metadata": {},
   "outputs": [],
   "source": [
    "ExprArray(ExprTuple(A, B, C, A, B, C, A), \n",
    "          ExprTuple(D, E, F, D, E, F, D), \n",
    "          ExprTuple(G, H, I, G, H, I, G))"
   ]
  },
  {
   "cell_type": "code",
   "execution_count": null,
   "metadata": {},
   "outputs": [],
   "source": [
    "ExprArray(ExprTuple(A_i_to_j, A, B, C), \n",
    "          ExprTuple(C_i_to_j, D, E, F))"
   ]
  },
  {
   "cell_type": "code",
   "execution_count": null,
   "metadata": {},
   "outputs": [],
   "source": [
    "ExprArray(ExprTuple(A_i_to_j.with_front_expansion(3), A, B, C), \n",
    "          ExprTuple(C_i_to_j.with_front_expansion(3), D, E, F))"
   ]
  },
  {
   "cell_type": "code",
   "execution_count": null,
   "metadata": {},
   "outputs": [],
   "source": [
    "try:\n",
    "    ExprArray(ExprTuple(A_i_to_j.with_front_expansion(2), A, B, C), \n",
    "              ExprTuple(C_i_to_j.with_front_expansion(3), D, E, F)).latex()\n",
    "    assert False, \"Should raise a ValueError\"\n",
    "except ValueError as e:\n",
    "    print(\"EXPECTED EXCEPTION: \" + str(e))"
   ]
  },
  {
   "cell_type": "code",
   "execution_count": null,
   "metadata": {},
   "outputs": [],
   "source": [
    "ExprArray(ExprTuple(A_i_to_j.with_back_expansion(3), A, B, C), \n",
    "          ExprTuple(C_i_to_j.with_back_expansion(3), D, E, F))"
   ]
  },
  {
   "cell_type": "code",
   "execution_count": null,
   "metadata": {},
   "outputs": [],
   "source": [
    "try:\n",
    "    ExprArray(ExprTuple(A_i_to_j.with_front_expansion(3), A, B, C), \n",
    "              ExprTuple(C_i_to_j.with_back_expansion(3), D, E, F)).latex()\n",
    "    assert False, \"Should raise a ValueError\"\n",
    "except ValueError as e:\n",
    "    print(\"EXPECTED EXCEPTION: \" + str(e))"
   ]
  },
  {
   "cell_type": "code",
   "execution_count": null,
   "metadata": {},
   "outputs": [],
   "source": [
    "ExprArray(ExprTuple(A_i_to_j.with_explicit_parameterization(), A, B, C), \n",
    "          ExprTuple(C_i_to_j, D, E, F))"
   ]
  },
  {
   "cell_type": "code",
   "execution_count": null,
   "metadata": {},
   "outputs": [],
   "source": [
    "ExprArray(ExprTuple(A_i_to_j, B_i_to_j.with_explicit_parameterization()), \n",
    "          ExprTuple(C_i_to_j.with_explicit_parameterization(), D_i_to_j))"
   ]
  },
  {
   "cell_type": "code",
   "execution_count": null,
   "metadata": {},
   "outputs": [],
   "source": [
    "ExprArray(ExprRange(i, ExprTuple(Aij, Bij, Cij, Dij),one,m))"
   ]
  },
  {
   "cell_type": "code",
   "execution_count": null,
   "metadata": {},
   "outputs": [],
   "source": [
    "ExprArray(ExprRange(i, ExprTuple(Aij, Bij, Cij, Dij),one,m)\n",
    "          .with_explicit_parameterization())"
   ]
  },
  {
   "cell_type": "code",
   "execution_count": null,
   "metadata": {},
   "outputs": [],
   "source": [
    "ExprArray(ExprRange(i, ExprTuple(Aij, Bij, Cij, Dij),one,m)\n",
    "          .with_explicit_parameterization())"
   ]
  },
  {
   "cell_type": "code",
   "execution_count": null,
   "metadata": {},
   "outputs": [],
   "source": [
    "ExprArray(ExprRange(i, ExprTuple(Aij, Bij, Cij, Dij),one,m)\n",
    "          .with_explicit_parameterization(),\n",
    "          ExprTuple(D, C, B, A))"
   ]
  },
  {
   "cell_type": "code",
   "execution_count": null,
   "metadata": {},
   "outputs": [],
   "source": [
    "ExprArray(ExprRange(i, ExprTuple(Aij, Bij, Cij, Dij),one,m)\n",
    "          .with_explicit_parameterization(),\n",
    "          X, [D, C, B, A])"
   ]
  },
  {
   "cell_type": "code",
   "execution_count": null,
   "metadata": {},
   "outputs": [],
   "source": [
    "VertExprArray(ExprRange(i, ExprTuple(Aij, Bij, Cij, Dij),one,m)\n",
    "              .with_explicit_parameterization(),\n",
    "              X, [D, C, B, A])"
   ]
  },
  {
   "cell_type": "code",
   "execution_count": null,
   "metadata": {},
   "outputs": [],
   "source": [
    "ExprArray(ExprTuple(A,B,C,D),\n",
    "          ExprRange(i, ExprTuple(Aij, Bij, Cij, Dij),one,m), \n",
    "          ExprTuple(A,B,C,D))"
   ]
  },
  {
   "cell_type": "code",
   "execution_count": null,
   "metadata": {},
   "outputs": [],
   "source": [
    "ExprArray(ExprRange(i, ExprTuple(ExprRange(j, Aij, one, n), \n",
    "                                 ExprRange(j, Bij, one, k)),one,m))"
   ]
  },
  {
   "cell_type": "code",
   "execution_count": null,
   "metadata": {},
   "outputs": [],
   "source": [
    "ExprArray(ExprRange(i, ExprTuple(ExprRange(j, Aij, one, n), \n",
    "                                 ExprRange(j, Bij, one, k)),one,m)\n",
    "          .with_explicit_parameterization())"
   ]
  },
  {
   "cell_type": "code",
   "execution_count": null,
   "metadata": {},
   "outputs": [],
   "source": [
    "ExprArray(ExprRange(i, ExprTuple(ExprRange(j, Aij, one, n)\n",
    "                                 .with_explicit_parameterization(), \n",
    "                                 ExprRange(j, Bij, one, k)),one,m))"
   ]
  },
  {
   "cell_type": "code",
   "execution_count": null,
   "metadata": {},
   "outputs": [],
   "source": [
    "ExprArray(ExprRange(i, ExprTuple(ExprRange(j, Aij, one, n)\n",
    "                                 .with_explicit_parameterization(), \n",
    "                                 ExprRange(j, Bij, one, k)),one,m)\n",
    "          .with_explicit_parameterization())"
   ]
  },
  {
   "cell_type": "code",
   "execution_count": null,
   "metadata": {},
   "outputs": [],
   "source": [
    "ExprArray(ExprRange(i, ExprTuple(ExprRange(j, Aij, one, n)\n",
    "                                 .with_explicit_parameterization(), \n",
    "                                 ExprRange(j, Bij, one, k)),one,m)\n",
    "          .with_explicit_parameterization())"
   ]
  },
  {
   "cell_type": "code",
   "execution_count": null,
   "metadata": {},
   "outputs": [],
   "source": [
    "VertExprArray(ExprRange(i, ExprTuple(ExprRange(j, Aij, one, n)\n",
    "                                 .with_explicit_parameterization(), \n",
    "                                 ExprRange(j, Bij, one, k)),one,m)\n",
    "          .with_explicit_parameterization())"
   ]
  },
  {
   "cell_type": "code",
   "execution_count": null,
   "metadata": {},
   "outputs": [],
   "source": [
    "ExprArray(ExprRange(i, ExprTuple(A, A, ExprRange(j, Aij, one, n), A, A), one, m))"
   ]
  },
  {
   "cell_type": "code",
   "execution_count": null,
   "metadata": {},
   "outputs": [],
   "source": [
    "ExprArray(ExprRange(i, ExprRange(j, Aij, \n",
    "                                 one, n), \n",
    "                    one, m))"
   ]
  },
  {
   "cell_type": "code",
   "execution_count": null,
   "metadata": {},
   "outputs": [],
   "source": [
    "ExprArray(ExprRange(i, ExprRange(j, ExprTuple(Aij, Bij), \n",
    "                                 one, n), \n",
    "                    one, m))"
   ]
  },
  {
   "cell_type": "code",
   "execution_count": null,
   "metadata": {},
   "outputs": [],
   "source": [
    "ExprArray(ExprRange(i, ExprTuple(A, A, ExprRange(j, Aij, one, n), A, A), one, m))"
   ]
  },
  {
   "cell_type": "code",
   "execution_count": null,
   "metadata": {},
   "outputs": [],
   "source": [
    "ExprArray(ExprRange(i, ExprTuple(A, A, ExprRange(j, Aij, one, n).with_explicit_parameterization(), A, A), one, m)\n",
    "          .with_explicit_parameterization())"
   ]
  },
  {
   "cell_type": "code",
   "execution_count": null,
   "metadata": {},
   "outputs": [],
   "source": [
    "ExprArray(ExprRange(i, ExprTuple(A, A, ExprRange(j, Aij, one, n), A, A), one, m)\n",
    "          .with_explicit_parameterization())"
   ]
  },
  {
   "cell_type": "code",
   "execution_count": null,
   "metadata": {},
   "outputs": [],
   "source": [
    "Apj = IndexedVar(A,(p,j))"
   ]
  },
  {
   "cell_type": "code",
   "execution_count": null,
   "metadata": {},
   "outputs": [],
   "source": [
    "Bpj = IndexedVar(B,(p,j))"
   ]
  },
  {
   "cell_type": "code",
   "execution_count": null,
   "metadata": {},
   "outputs": [],
   "source": [
    "Cjk = IndexedVar(C,(j,k))"
   ]
  },
  {
   "cell_type": "code",
   "execution_count": null,
   "metadata": {},
   "outputs": [],
   "source": [
    "Dki = IndexedVar(D,(k,i))"
   ]
  },
  {
   "cell_type": "code",
   "execution_count": null,
   "metadata": {},
   "outputs": [],
   "source": [
    "C_i_to_k = var_range(C, i, k)"
   ]
  },
  {
   "cell_type": "code",
   "execution_count": null,
   "metadata": {},
   "outputs": [],
   "source": [
    "D_j_to_i = var_range(B, j, i)"
   ]
  },
  {
   "cell_type": "code",
   "execution_count": null,
   "metadata": {},
   "outputs": [],
   "source": [
    "try:\n",
    "    ExprArray(ExprTuple(A, B, C, A, B, A), \n",
    "              ExprTuple(D, E, F, D, E, F, D), \n",
    "              ExprTuple(G, H, I, G, H, I, G)).latex()\n",
    "    assert False, \"Expected a ValueError error.\"\n",
    "except ValueError as e:\n",
    "    print(\"Expected error:\", e)"
   ]
  },
  {
   "cell_type": "code",
   "execution_count": null,
   "metadata": {},
   "outputs": [],
   "source": [
    "try:\n",
    "    ExprArray(ExprTuple(B_i_to_j, A, B, C), \n",
    "              ExprTuple(D, E, F, D_i_to_j)).latex()\n",
    "    assert False, \"Expected a ValueError error.\"\n",
    "except ValueError as e:\n",
    "    print(\"Expected error:\", e)"
   ]
  },
  {
   "cell_type": "code",
   "execution_count": null,
   "metadata": {},
   "outputs": [],
   "source": [
    "try:\n",
    "    ExprArray(ExprTuple(A, B, C, B_i_to_j), \n",
    "              ExprTuple(D_i_to_j, D, E, F)).latex()\n",
    "    assert False, \"Expected a ValueError error.\"\n",
    "except ValueError as e:\n",
    "    print(\"Expected error:\", e)"
   ]
  },
  {
   "cell_type": "code",
   "execution_count": null,
   "metadata": {},
   "outputs": [],
   "source": [
    "try:\n",
    "    ExprArray(ExprTuple(C_i_to_j, D_j_to_i), \n",
    "              ExprTuple(A_i_to_j, B_i_to_j)).latex()\n",
    "    assert False, \"Expected a ValueError error.\"\n",
    "except ValueError as e:\n",
    "    print(\"Expected error:\", e)"
   ]
  },
  {
   "cell_type": "code",
   "execution_count": null,
   "metadata": {},
   "outputs": [],
   "source": [
    "ExprArray(ExprRange(i, ExprTuple(Apj, Bij, Cjk, Dki),one,m))"
   ]
  },
  {
   "cell_type": "code",
   "execution_count": null,
   "metadata": {},
   "outputs": [],
   "source": [
    "ExprArray(ExprTuple(ExprRange(i, ExprRange(j, Aij, one, n), one, m)),\n",
    "          ExprTuple(ExprRange(i, ExprRange(j, Bij, one, n), one, m)))"
   ]
  },
  {
   "cell_type": "code",
   "execution_count": null,
   "metadata": {},
   "outputs": [],
   "source": [
    "ExprArray(ExprRange(i, IndexedVar(A, i), one, n))"
   ]
  },
  {
   "cell_type": "code",
   "execution_count": null,
   "metadata": {},
   "outputs": [],
   "source": [
    "ExprArray(ExprRange(i, ExprTuple(IndexedVar(A, i), IndexedVar(B, i)), one, n))#.get_format_cell_entries()"
   ]
  },
  {
   "cell_type": "code",
   "execution_count": null,
   "metadata": {},
   "outputs": [],
   "source": [
    "ExprArray(ExprRange(i, IndexedVar(A, i), one, n)).get_format_cell_entries()"
   ]
  },
  {
   "cell_type": "code",
   "execution_count": null,
   "metadata": {},
   "outputs": [],
   "source": [
    "ExprArray(ExprRange(i, ExprRange(j, Aij, one, n), one, m))"
   ]
  },
  {
   "cell_type": "code",
   "execution_count": null,
   "metadata": {},
   "outputs": [],
   "source": [
    "VertExprArray(ExprRange(i, ExprRange(j, Aij, one, n), one, m))"
   ]
  },
  {
   "cell_type": "code",
   "execution_count": null,
   "metadata": {},
   "outputs": [],
   "source": [
    "VertExprArray(ExprRange(i, ExprRange(j, Aij, one, n), one, m).with_explicit_parameterization())"
   ]
  },
  {
   "cell_type": "code",
   "execution_count": null,
   "metadata": {},
   "outputs": [],
   "source": [
    "ExprTuple(ExprRange(i, ExprRange(j, Aij, one, n), one, m).with_explicit_parameterization())"
   ]
  },
  {
   "cell_type": "code",
   "execution_count": null,
   "metadata": {},
   "outputs": [],
   "source": [
    "ExprArray(ExprRange(i, ExprRange(j, ExprTuple(Aij, Bij), one, n), one, m))"
   ]
  },
  {
   "cell_type": "code",
   "execution_count": null,
   "metadata": {},
   "outputs": [],
   "source": [
    "ExprArray(ExprRange(i, ExprRange(j, ExprTuple(Aij, Bij), one, n), one, m)\n",
    "          .with_explicit_parameterization())"
   ]
  },
  {
   "cell_type": "code",
   "execution_count": null,
   "metadata": {},
   "outputs": [],
   "source": [
    "VertExprArray(ExprRange(i, ExprRange(j, ExprTuple(Aij, Bij), one, n), one, m).with_explicit_parameterization())"
   ]
  },
  {
   "cell_type": "code",
   "execution_count": null,
   "metadata": {},
   "outputs": [],
   "source": [
    "VertExprArray(ExprRange(i, ExprRange(j, ExprTuple(Aij, Bij), one, n).with_explicit_parameterization(), \n",
    "                        one, m).with_explicit_parameterization())"
   ]
  },
  {
   "cell_type": "code",
   "execution_count": null,
   "metadata": {},
   "outputs": [],
   "source": [
    "VertExprArray(ExprRange(i, ExprRange(j, Aij, one, n), one, m))"
   ]
  },
  {
   "cell_type": "code",
   "execution_count": null,
   "metadata": {},
   "outputs": [],
   "source": [
    "ExprArray(ExprRange(i, ExprRange(j, Aij, one, n), one, m))"
   ]
  },
  {
   "cell_type": "code",
   "execution_count": null,
   "metadata": {},
   "outputs": [],
   "source": [
    "try:\n",
    "    ExprArray(ExprTuple(A,B,C,D),\n",
    "              ExprRange(i, ExprTuple(ExprTuple(Apj, Bij), \n",
    "                                     ExprTuple(Cjk, Dki)),one,m), \n",
    "              ExprTuple(A,B,C,D)).latex()\n",
    "    assert False, \"Expected a ValueError error.\"\n",
    "except ValueError as e:\n",
    "    print(\"Expected error:\", e)"
   ]
  },
  {
   "cell_type": "code",
   "execution_count": null,
   "metadata": {},
   "outputs": [],
   "source": [
    "ExprArray(E, F, ExprTuple(A,B), C, D)"
   ]
  },
  {
   "cell_type": "code",
   "execution_count": null,
   "metadata": {},
   "outputs": [],
   "source": [
    "%end demonstrations"
   ]
  },
  {
   "cell_type": "code",
   "execution_count": null,
   "metadata": {},
   "outputs": [],
   "source": []
  }
 ],
 "metadata": {
  "kernelspec": {
   "display_name": "Python 3",
   "language": "python",
   "name": "python3"
  }
 },
 "nbformat": 4,
 "nbformat_minor": 0
}
