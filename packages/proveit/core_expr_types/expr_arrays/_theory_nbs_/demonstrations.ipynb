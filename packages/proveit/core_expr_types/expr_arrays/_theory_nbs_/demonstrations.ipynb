{
 "cells": [
  {
   "cell_type": "markdown",
   "metadata": {},
   "source": [
    "Demonstrations for the theory of <a class=\"ProveItLink\" href=\"theory.ipynb\">proveit.core_expr_types.expr_arrays</a>\n",
    "========"
   ]
  },
  {
   "cell_type": "code",
   "execution_count": null,
   "metadata": {},
   "outputs": [],
   "source": [
    "import proveit\n",
    "proveit.defaults.automation = False\n",
    "from proveit import ExprRange, ExprTuple, IndexedVar, var_range, ExprArray\n",
    "from proveit import A, B, C, D, E, F, G, H, I, i, j, k, m, n, p, q\n",
    "from proveit.numbers import one\n",
    "%begin demonstrations"
   ]
  },
  {
   "cell_type": "code",
   "execution_count": null,
   "metadata": {},
   "outputs": [],
   "source": [
    "A_i_to_j = var_range(A, i, j)"
   ]
  },
  {
   "cell_type": "code",
   "execution_count": null,
   "metadata": {},
   "outputs": [],
   "source": [
    "B_i_to_j = var_range(B, i, j)"
   ]
  },
  {
   "cell_type": "code",
   "execution_count": null,
   "metadata": {},
   "outputs": [],
   "source": [
    "C_i_to_j = var_range(C, i, j)"
   ]
  },
  {
   "cell_type": "code",
   "execution_count": null,
   "metadata": {},
   "outputs": [],
   "source": [
    "D_i_to_j = var_range(D, i, j)"
   ]
  },
  {
   "cell_type": "code",
   "execution_count": null,
   "metadata": {},
   "outputs": [],
   "source": [
    "Aij = IndexedVar(A,(i,j))"
   ]
  },
  {
   "cell_type": "code",
   "execution_count": null,
   "metadata": {},
   "outputs": [],
   "source": [
    "Bij = IndexedVar(B,(i,j))"
   ]
  },
  {
   "cell_type": "code",
   "execution_count": null,
   "metadata": {},
   "outputs": [],
   "source": [
    "Cij = IndexedVar(C,(i,j))"
   ]
  },
  {
   "cell_type": "code",
   "execution_count": null,
   "metadata": {},
   "outputs": [],
   "source": [
    "Dij = IndexedVar(D,(i,j))"
   ]
  },
  {
   "cell_type": "code",
   "execution_count": null,
   "metadata": {},
   "outputs": [],
   "source": [
    "Eij = IndexedVar(E, (i,j))"
   ]
  },
  {
   "cell_type": "code",
   "execution_count": null,
   "metadata": {},
   "outputs": [],
   "source": [
    "Fij = IndexedVar(F, (i,j))"
   ]
  },
  {
   "cell_type": "code",
   "execution_count": null,
   "metadata": {},
   "outputs": [],
   "source": [
    "ExprRange(j, Aij, one, n).with_styles(parameterization='explicit').body"
   ]
  },
  {
   "cell_type": "code",
   "execution_count": null,
   "metadata": {},
   "outputs": [],
   "source": [
    "ExprRange(i, ExprTuple(ExprRange(j, Aij, one, n), ExprRange(j, Bij, one, k)),one,m)"
   ]
  },
  {
   "cell_type": "code",
   "execution_count": null,
   "metadata": {},
   "outputs": [],
   "source": [
    "ExprTuple(ExprRange(i, ExprTuple(ExprRange(j, Aij, one, n), ExprRange(j, Bij, one, k)),\n",
    "                    one,m))"
   ]
  },
  {
   "cell_type": "code",
   "execution_count": null,
   "metadata": {},
   "outputs": [],
   "source": [
    "ExprArray(ExprTuple(A, B), ExprTuple(C, D)).with_styles(orientation='horizontal')"
   ]
  },
  {
   "cell_type": "code",
   "execution_count": null,
   "metadata": {},
   "outputs": [],
   "source": [
    "ExprArray(ExprTuple(A, B, C, A, B, C, A), \n",
    "          ExprTuple(D, E, F, D, E, F, D), \n",
    "          ExprTuple(G, H, I, G, H, I, G))\\\n",
    "    .with_styles(parameterization=\"explicit\")\\\n",
    "    .with_styles(orientation='vertical')"
   ]
  },
  {
   "cell_type": "code",
   "execution_count": null,
   "metadata": {},
   "outputs": [],
   "source": [
    "ExprArray(ExprTuple(A_i_to_j, A, B, C), \n",
    "          ExprTuple(C_i_to_j, D, E, F))\\\n",
    "    .with_styles(parameterization=\"implicit\")\\\n",
    "    .with_styles(orientation='horizontal')"
   ]
  },
  {
   "cell_type": "code",
   "execution_count": null,
   "metadata": {},
   "outputs": [],
   "source": [
    "ExprArray(ExprTuple(A_i_to_j, A, B, C), \n",
    "          ExprTuple(C_i_to_j, D, E, F))\\\n",
    "    .with_styles(parameterization=\"implicit\")\\\n",
    "    .with_styles(orientation='vertical')"
   ]
  },
  {
   "cell_type": "code",
   "execution_count": null,
   "metadata": {},
   "outputs": [],
   "source": [
    "ExprArray(ExprTuple(A_i_to_j, B_i_to_j), \n",
    "          ExprTuple(C_i_to_j, D_i_to_j))\\\n",
    "    .with_styles(parameterization=\"implicit\")\\\n",
    "    .with_styles(orientation='horizontal')"
   ]
  },
  {
   "cell_type": "code",
   "execution_count": null,
   "metadata": {},
   "outputs": [],
   "source": [
    "ExprArray(ExprTuple(A_i_to_j, B_i_to_j), \n",
    "          ExprTuple(C_i_to_j, D_i_to_j))\\\n",
    "    .with_styles(parameterization=\"implicit\")\\\n",
    "    .with_styles(orientation='vertical')"
   ]
  },
  {
   "cell_type": "code",
   "execution_count": null,
   "metadata": {},
   "outputs": [],
   "source": [
    "ExprArray(ExprRange(i, ExprTuple(Aij, Bij, Cij, Dij),one,m))\\\n",
    "    .with_styles(orientation='horizontal')\\\n",
    "    .with_styles(parameterization='implicit')"
   ]
  },
  {
   "cell_type": "code",
   "execution_count": null,
   "metadata": {},
   "outputs": [],
   "source": [
    "ExprArray(ExprRange(i, ExprTuple(Aij, Bij, Cij, Dij),one,m))\\\n",
    "    .with_styles(orientation='vertical')\\\n",
    "    .with_styles(parameterization='implicit')"
   ]
  },
  {
   "cell_type": "code",
   "execution_count": null,
   "metadata": {},
   "outputs": [],
   "source": [
    "ExprArray(ExprTuple(A,B,C,D),\n",
    "          ExprRange(i, ExprTuple(Aij, Bij, Cij, Dij),one,m), \n",
    "          ExprTuple(A,B,C,D))\\\n",
    "    .with_styles(orientation='vertical')\\\n",
    "    .with_styles(parameterization='implicit')"
   ]
  },
  {
   "cell_type": "code",
   "execution_count": null,
   "metadata": {},
   "outputs": [],
   "source": [
    "ExprArray(ExprTuple(A,B,C,D),\n",
    "          ExprRange(i, ExprTuple(Aij, Bij, Cij, Dij),one,m), \n",
    "          ExprTuple(A,B,C,D))\\\n",
    "    .with_styles(orientation='horizontal')\\\n",
    "    .with_styles(parameterization=\"implicit\")"
   ]
  },
  {
   "cell_type": "code",
   "execution_count": null,
   "metadata": {},
   "outputs": [],
   "source": [
    "ExprArray(ExprRange(i, ExprTuple(Aij, Bij, Cij, Dij, Eij, Fij),one,m))\\\n",
    "    .with_styles(orientation='horizontal')\\\n",
    "    .with_styles(parameterization=\"implicit\")"
   ]
  },
  {
   "cell_type": "code",
   "execution_count": null,
   "metadata": {},
   "outputs": [],
   "source": [
    "ExprArray(ExprRange(i, ExprTuple(Aij, Bij, Cij, Dij, Eij, Fij),one,m))\\\n",
    "    .with_styles(orientation='vertical')\\\n",
    "    .with_styles(parameterization='implicit')"
   ]
  },
  {
   "cell_type": "code",
   "execution_count": null,
   "metadata": {},
   "outputs": [],
   "source": [
    "ExprArray(ExprRange(i, ExprTuple(ExprRange(j, Aij, one, n), \n",
    "                                 ExprRange(j, Bij, one, k)),one,m))\\\n",
    "    .with_styles(parameterization=\"explicit\")"
   ]
  },
  {
   "cell_type": "code",
   "execution_count": null,
   "metadata": {},
   "outputs": [],
   "source": [
    "ExprArray(ExprRange(i, ExprTuple(ExprRange(j, Aij, one, n), \n",
    "                                 ExprRange(j, Bij, one, k)),one,m))\\\n",
    "    .with_styles(orientation='vertical')\\\n",
    "    .with_styles(parameterization='implicit')"
   ]
  },
  {
   "cell_type": "code",
   "execution_count": null,
   "metadata": {},
   "outputs": [],
   "source": [
    "ExprArray(ExprRange(i, ExprTuple(A, A, ExprRange(j, Aij, one, n), A, A), one, m))\\\n",
    "    .with_styles(orientation='horizontal')\\\n",
    "    .with_styles(parameterization='explicit')"
   ]
  },
  {
   "cell_type": "code",
   "execution_count": null,
   "metadata": {},
   "outputs": [],
   "source": [
    "ExprArray(ExprRange(i, ExprTuple(A, A, ExprRange(j, Aij, one, n), A, A), one, m))\\\n",
    "    .with_styles(orientation='vertical')\\\n",
    "    .with_styles(parameterization='explicit')"
   ]
  },
  {
   "cell_type": "code",
   "execution_count": null,
   "metadata": {},
   "outputs": [],
   "source": [
    "ExprArray(ExprRange(i, ExprRange(j, ExprTuple(Aij, Bij), \n",
    "                                 one, n), \n",
    "                    one, m))\\\n",
    "    .with_styles(orientation='horizontal')\\\n",
    "    .with_styles(parameterization='explicit')"
   ]
  },
  {
   "cell_type": "code",
   "execution_count": null,
   "metadata": {},
   "outputs": [],
   "source": [
    "ExprArray(ExprRange(i, ExprRange(j, ExprTuple(Aij, Bij), \n",
    "                                 one, n), \n",
    "                    one, m))\\\n",
    "    .with_styles(orientation='vertical')\\\n",
    "    .with_styles(parameterization='explicit')"
   ]
  },
  {
   "cell_type": "code",
   "execution_count": null,
   "metadata": {},
   "outputs": [],
   "source": [
    "Apj = IndexedVar(A,(p,j))"
   ]
  },
  {
   "cell_type": "code",
   "execution_count": null,
   "metadata": {},
   "outputs": [],
   "source": [
    "Bpj = IndexedVar(B,(p,j))"
   ]
  },
  {
   "cell_type": "code",
   "execution_count": null,
   "metadata": {},
   "outputs": [],
   "source": [
    "Cjk = IndexedVar(C,(j,k))"
   ]
  },
  {
   "cell_type": "code",
   "execution_count": null,
   "metadata": {},
   "outputs": [],
   "source": [
    "Dki = IndexedVar(D,(k,i))"
   ]
  },
  {
   "cell_type": "code",
   "execution_count": null,
   "metadata": {},
   "outputs": [],
   "source": [
    "C_i_to_k = var_range(C, i, k)"
   ]
  },
  {
   "cell_type": "code",
   "execution_count": null,
   "metadata": {},
   "outputs": [],
   "source": [
    "D_j_to_i = var_range(B, j, i)"
   ]
  },
  {
   "cell_type": "code",
   "execution_count": null,
   "metadata": {},
   "outputs": [],
   "source": [
    "try:\n",
    "    ExprArray(ExprTuple(A, B, C, A, B, A), \n",
    "              ExprTuple(D, E, F, D, E, F, D), \n",
    "              ExprTuple(G, H, I, G, H, I, G))\n",
    "    assert False, \"Expected a ValueError error.\"\n",
    "except ValueError as e:\n",
    "    print(\"Expected error:\", e)"
   ]
  },
  {
   "cell_type": "code",
   "execution_count": null,
   "metadata": {},
   "outputs": [],
   "source": [
    "# try:\n",
    "#     ExprArray(ExprTuple(B_i_to_j, A, B, C), \n",
    "#               ExprTuple(D, E, F, D_i_to_j))\n",
    "#     assert False, \"Expected a ValueError error.\"\n",
    "# except ValueError as e:\n",
    "#     print(\"Expected error:\", e)"
   ]
  },
  {
   "cell_type": "code",
   "execution_count": null,
   "metadata": {},
   "outputs": [],
   "source": [
    "# try:\n",
    "#     ExprArray(ExprTuple(A, B, C, B_i_to_j), \n",
    "#               ExprTuple(D_i_to_j, D, E, F))\n",
    "#     assert False, \"Expected a ValueError error.\"\n",
    "# except ValueError as e:\n",
    "#     print(\"Expected error:\", e)"
   ]
  },
  {
   "cell_type": "code",
   "execution_count": null,
   "metadata": {},
   "outputs": [],
   "source": [
    "# try:\n",
    "#     ExprArray(ExprRange(i, ExprTuple(ExprRange(j, Aij, one, n), \n",
    "#                                      ExprRange(j, Bpj, one, k)),one,m))\n",
    "#     assert False, \"Expected a ValueError error.\"\n",
    "# except ValueError as e:\n",
    "#     print(\"Expected error:\", e)"
   ]
  },
  {
   "cell_type": "code",
   "execution_count": null,
   "metadata": {},
   "outputs": [],
   "source": [
    "try:\n",
    "    ExprArray(ExprTuple(C_i_to_j, D_j_to_i), \n",
    "              ExprTuple(A_i_to_j, B_i_to_j))\n",
    "    assert False, \"Expected a ValueError error.\"\n",
    "except ValueError as e:\n",
    "    print(\"Expected error:\", e)"
   ]
  },
  {
   "cell_type": "code",
   "execution_count": null,
   "metadata": {},
   "outputs": [],
   "source": [
    "# try:\n",
    "#     ExprArray(ExprRange(i, ExprTuple(Apj, Bij, Cjk, Dki),one,m))\n",
    "#     assert False, \"Expected a ValueError error.\"\n",
    "# except ValueError as e:\n",
    "#     print(\"Expected error:\", e)"
   ]
  },
  {
   "cell_type": "code",
   "execution_count": null,
   "metadata": {},
   "outputs": [],
   "source": [
    "try:\n",
    "    ExprArray(ExprRange(i, ExprRange(j, Aij, one, n), one, m)).latex()\n",
    "    assert False, \"Expected a ValueError error.\"\n",
    "except ValueError as e:\n",
    "    print(\"Expected error:\", e)"
   ]
  },
  {
   "cell_type": "code",
   "execution_count": null,
   "metadata": {},
   "outputs": [],
   "source": [
    "try:\n",
    "    ExprArray(ExprTuple(A,B,C,D),\n",
    "              ExprRange(i, ExprTuple(ExprTuple(Apj, Bij), \n",
    "                                     ExprTuple(Cjk, Dki)),one,m), \n",
    "              ExprTuple(A,B,C,D))\n",
    "    assert False, \"Expected a ValueError error.\"\n",
    "except ValueError as e:\n",
    "    print(\"Expected error:\", e)"
   ]
  },
  {
   "cell_type": "code",
   "execution_count": null,
   "metadata": {},
   "outputs": [],
   "source": [
    "try:\n",
    "    ExprArray(E, F, ExprTuple(A,B), C, D)\n",
    "    assert False, \"Expected a ValueError error.\"\n",
    "except ValueError as e:\n",
    "    print(\"Expected error:\", e)"
   ]
  },
  {
   "cell_type": "code",
   "execution_count": null,
   "metadata": {},
   "outputs": [],
   "source": [
    "%end demonstrations"
   ]
  }
 ],
 "metadata": {
  "kernelspec": {
   "display_name": "Python 3",
   "language": "python",
   "name": "python3"
  }
 },
 "nbformat": 4,
 "nbformat_minor": 0
}
