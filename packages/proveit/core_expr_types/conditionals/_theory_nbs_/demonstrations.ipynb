{
 "cells": [
  {
   "cell_type": "markdown",
   "metadata": {},
   "source": [
    "Demonstrations for the theory of <a class=\"ProveItLink\" href=\"theory.ipynb\">proveit.core_expr_types.conditionals</a>\n",
    "========"
   ]
  },
  {
   "cell_type": "code",
   "execution_count": 1,
   "metadata": {},
   "outputs": [],
   "source": [
    "import proveit\n",
    "from proveit import defaults\n",
    "from proveit import Conditional, ConditionalSet\n",
    "from proveit import A, B, m, n, Q, x, y, fx, gx, Qx\n",
    "from proveit.logic import Implies, And, TRUE, FALSE, Forall, Equals, InSet\n",
    "from proveit.core_expr_types import A_1_to_m, B_1_to_n\n",
    "from proveit.numbers import Natural\n",
    "%begin demonstrations"
   ]
  },
  {
   "cell_type": "markdown",
   "metadata": {},
   "source": [
    "## Conditional reductions"
   ]
  },
  {
   "cell_type": "markdown",
   "metadata": {},
   "source": [
    "***A conditional with a TRUE condition reduces to its value.***"
   ]
  },
  {
   "cell_type": "code",
   "execution_count": 2,
   "metadata": {},
   "outputs": [
    {
     "data": {
      "text/html": [
       "<strong id=\"x_if_A\">x_if_A:</strong> <a class=\"ProveItLink\" href=\"../__pv_it/demonstrations/bf2268898ae6b39e0ea2ccffa0c63df079738e100/expr.ipynb\"><img src=\"data:image/png;base64,iVBORw0KGgoAAAANSUhEUgAAAEkAAAAVBAMAAAD4Ed5jAAAAMFBMVEX///8AAAAAAAAAAAAAAAAA\n",
       "AAAAAAAAAAAAAAAAAAAAAAAAAAAAAAAAAAAAAAAAAAAv3aB7AAAAD3RSTlMAEER2zVSJ3Zki72ar\n",
       "MruaaVGaAAAACXBIWXMAAA7EAAAOxAGVKw4bAAABF0lEQVQoz2NgYGBUYiACmCiiCWxWgDI4HeBi\n",
       "rB+RFHCuZmBgif0E5bF8gEuwFSCpYvrBwLCd8yCUF49DFYMAA8MZOKfnJw5VQHACLjPtLxGqJjN/\n",
       "RVHFaHzwWiqIM2UNw51VMCsbWH/DVXEAvcvBYGPQDub5INzFFMD7Da5q1gYGhp0M+wVOg3lvEKo4\n",
       "GDj/wBTNcQISFxhaoFwkVXYdPf9gqnj7BEDUYgxVjAYMDN/hNvIdALnhJ4MgmioOIK5C9iPjI54F\n",
       "DAloqrSB2B9ZFetfiQVMAWDeOzACxegCIPF+Aogp7wAxq9kgYitY7s6qg3fWHwa56v0XAYa4/24g\n",
       "QfYGLGGPFRCninkBMao4vxKjimHGUYJKAFoMTNP4F4rhAAAAAElFTkSuQmCC\n",
       "\" style=\"display:inline;vertical-align:middle;\" /></a><br>"
      ],
      "text/plain": [
       "<IPython.core.display.HTML object>"
      ]
     },
     "metadata": {},
     "output_type": "display_data"
    }
   ],
   "source": [
    "x_if_A = Conditional(x, A)"
   ]
  },
  {
   "cell_type": "code",
   "execution_count": 3,
   "metadata": {},
   "outputs": [
    {
     "data": {
      "text/html": [
       "<a class=\"ProveItLink\" href=\"../../../__pv_it/common/a0d9d672aa5e272d907247690c152cc2c6daafb70/expr.ipynb\"><img src=\"data:image/png;base64,iVBORw0KGgoAAAANSUhEUgAAAAsAAAAJBAMAAAAWSsseAAAAMFBMVEX///8AAAAAAAAAAAAAAAAA\n",
       "AAAAAAAAAAAAAAAAAAAAAAAAAAAAAAAAAAAAAAAAAAAv3aB7AAAAD3RSTlMAEHarMolUmd1mIs3v\n",
       "RLtmgJDEAAAACXBIWXMAAA7EAAAOxAGVKw4bAAAAQklEQVQI12NgEFIWCU1gYChgMmJvYOBcwPmR\n",
       "eQIDCwP7BgYQ4FEAU/cXMAowyF2wYWBlYMh3rGG4xsAgrsRWmcAAAFEjCyBvD0T9AAAAAElFTkSu\n",
       "QmCC\n",
       "\" style=\"display:inline;vertical-align:middle;\" /></a>"
      ],
      "text/plain": [
       "x"
      ]
     },
     "metadata": {},
     "output_type": "display_data"
    }
   ],
   "source": [
    "requirements = []\n",
    "x_if_A.complete_replaced({A:TRUE}, requirements=requirements)"
   ]
  },
  {
   "cell_type": "code",
   "execution_count": 4,
   "metadata": {},
   "outputs": [
    {
     "data": {
      "text/html": [
       "<a class=\"ProveItLink\" href=\"../__pv_it/demonstrations/9f992d2aaea4dcd2ad30c2561a8040d58c4370ff0/expr.ipynb\"><img src=\"data:image/png;base64,iVBORw0KGgoAAAANSUhEUgAAAIAAAAAVBAMAAAB8u/sIAAAAMFBMVEX///8AAAAAAAAAAAAAAAAA\n",
       "AAAAAAAAAAAAAAAAAAAAAAAAAAAAAAAAAAAAAAAAAAAv3aB7AAAAD3RSTlMAInZUiRDNmWbv3US7\n",
       "qzJazP2FAAAACXBIWXMAAA7EAAAOxAGVKw4bAAABY0lEQVQ4y2NgYBBgYGCI3sBADmAEEUwGQJwd\n",
       "gCrDoU2UAdwKQMIEiO2R9Us2MDAkvwc6iX0VGFzAY4IGAwNrApD2QhbcX8DAsUAWYiSzAn4nsAUw\n",
       "sDegG8DKwMALs5WQARwFDJwM6AYAAW8BkQYwTGUwo8yADIYSmAFBunEuBqCoybzAd3PuBUIGQJX7\n",
       "Ao0AgjIgLmC6xL4AHDAXcIUBcrRAlbcxLAZZOgMYHAIcX3lBAcrAc4GIQIQpt2SYDdR/DRjpfAzs\n",
       "CRA5ogyAKX8PMoDh+VEQm1OBBANgyneCvcBwFpyABFgD8BuAkjQhyq0YDkFjIWbDTQYW4l0AU94D\n",
       "jAeIAfZPKxk2Qww4AEKoBrB+QzMApryE4RXUgHAl5goDcPDcnBt38y9UI3cDVMNyNANgylczcD3A\n",
       "khKJLxAWgLIDBQaAsuJBIK1JrgEyoPAEYnkDMg0A2c4IDC/GWvJMYBJgAADAUGJS6JBYYwAAAABJ\n",
       "RU5ErkJggg==\n",
       "\" style=\"display:inline;vertical-align:middle;\" /></a>"
      ],
      "text/plain": [
       "({x if TRUE. = x)"
      ]
     },
     "metadata": {},
     "output_type": "display_data"
    }
   ],
   "source": [
    "requirements"
   ]
  },
  {
   "cell_type": "markdown",
   "metadata": {},
   "source": [
    "***A redundant condition can be dropped via simplification.***"
   ]
  },
  {
   "cell_type": "code",
   "execution_count": 5,
   "metadata": {},
   "outputs": [
    {
     "data": {
      "text/html": [
       "<span style=\"font-size:20px;\"> <a class=\"ProveItLink\" href=\"../__pv_it/demonstrations/86a56f6482af102be02d89a2fb33def3d6bac1bc0/proof.ipynb\" style=\"text-decoration: none\">&nbsp;&#x22A2;&nbsp;&nbsp;</a><a class=\"ProveItLink\" href=\"../__pv_it/demonstrations/2928fad6fad8d0384e9ee74bbbba87f9817446350/expr.ipynb\"><img src=\"data:image/png;base64,iVBORw0KGgoAAAANSUhEUgAAAO8AAAAVBAMAAABcV6T1AAAAMFBMVEX///8AAAAAAAAAAAAAAAAA\n",
       "AAAAAAAAAAAAAAAAAAAAAAAAAAAAAAAAAAAAAAAAAAAv3aB7AAAAD3RSTlMAEER2zVSJ3Zki72ar\n",
       "MruaaVGaAAAACXBIWXMAAA7EAAAOxAGVKw4bAAACR0lEQVRIx2NgYGBUYoASVAPEmWaiCCOQwWYF\n",
       "KIPTAU2G2wjGmoLXSEJ6WD/CCBjgXM3AwBL7Ccpj+YAkNWsDA4PrfZib/HHYi2IaTj1sBTACBph+\n",
       "MDBs5zwI5cUjW6zfwMBdMEcAav5/HBajmIZTD6bFDEBFZ+Ccnp/IkcfAwHMAxuE4P4EYi3HpwWIx\n",
       "EJyAS0/7iyrD0wBjZeZfIMZiXHoIWDyZ+SsOQzgN7ANItRhZD9xiRuOD11LBCW8Nw51VsLBuYP2N\n",
       "lOy8DvCeWgMNNw6G+A14LBa2kU0LwKeHwwFKcDDYGLSDhXwQccwUwPsNyUiWA4j4UmW4n4CQaS8H\n",
       "gRqEkQ3MhzkK8OkBpXYwsZNhv8BpsNAbhMUcDJx/kCzmQzKkgWH+Aew+BpnGPYH7I88GPHrmOMGI\n",
       "CwwtUDEki+06ev5ht5j5Rcf5B1jtBZvGC/E3bj28fQJQgoFhMYbFjAYMDN+xWyzMwMBfgNViqGlc\n",
       "Bvj18B2AEUw/GQTRLOYA4irsFgMTKvsC7HEMNo1BfwKjAD49sFTN+IhnAUMCmsXaaAUjwhCmDWil\n",
       "KVqqllM4xcCGVw/MYta/EguYIJnsHRiBsgLIee/BZY08OMb4HoAQOAGBeOBCjfELNovjL3YB0zAu\n",
       "PSDT4D5uNojYCpa/s+rgnfWHQUa+/yLAEPffDSTIDioDgBlS9tQfUNzJ/XdkYH3/BRxCFdgsljBm\n",
       "7QZ7A6sekGnYSy6KAHGmDZjFzAtgBNUAcaZxfoURVANEmjbjKIygGiDCNAA4MdfefNGQjQAAAABJ\n",
       "RU5ErkJggg==\n",
       "\" style=\"display:inline;vertical-align:middle;\" /></a></span>"
      ],
      "text/plain": [
       "|- {{x if A. if A. = {x if A."
      ]
     },
     "metadata": {},
     "output_type": "display_data"
    }
   ],
   "source": [
    "Conditional(Conditional(x, A), A).shallow_simplification()"
   ]
  },
  {
   "cell_type": "markdown",
   "metadata": {},
   "source": [
    "***A conditional with a condition that is a singular conjunction can drop the conjunction regardless of whether or not we know the contents to be boolean.***"
   ]
  },
  {
   "cell_type": "code",
   "execution_count": 6,
   "metadata": {},
   "outputs": [
    {
     "data": {
      "text/html": [
       "<a class=\"ProveItLink\" href=\"../__pv_it/demonstrations/ed1a90852622e39b2d55ec6a9d567c4c5ad5cf040/expr.ipynb\"><img src=\"data:image/png;base64,iVBORw0KGgoAAAANSUhEUgAAAEoAAAAVBAMAAAATJmVgAAAAMFBMVEX///8AAAAAAAAAAAAAAAAA\n",
       "AAAAAAAAAAAAAAAAAAAAAAAAAAAAAAAAAAAAAAAAAAAv3aB7AAAAD3RSTlMAEER2zVSJ3Zki72ar\n",
       "MruaaVGaAAAACXBIWXMAAA7EAAAOxAGVKw4bAAABJUlEQVQoz2NgYGBUYiACmCiiCXAbYSpi/YjM\n",
       "m7WBgcH1vgKIue//mTN+F6DibAXIqvQbGLgL5giA2esYGHj+YlXFCJQ5AGFyfmZgYPqBVRUQ8DRA\n",
       "nQc0h/szIVU8HxgYWFYiqxK2kU0LANnidYD31BqIlVwPGBiPw1zP4QAkGpgPc4DNZDkAd9f9x8ZH\n",
       "NiD7nXsC90cesAgfQpX9BAbW1VBFc5yABC/ERFRVr4A4H2ojbx84cLgMMFT9AeL9UGGQOCg0JzAK\n",
       "oKri/Q0kzisg+VFO4RQDG5pZzD+BKr8wIKmKv9jFoApR9QCEwL5dwMCg5QiOjy8QVRLGrN0BYGtO\n",
       "rZE99QfkGJ73f84ceQoxqAJL2GMFxKliXkCMKs6vxKhimHGUoBIAwNpSpZKfKJIAAAAASUVORK5C\n",
       "YII=\n",
       "\" style=\"display:inline;vertical-align:middle;\" /></a>"
      ],
      "text/plain": [
       "{x if B."
      ]
     },
     "metadata": {},
     "output_type": "display_data"
    }
   ],
   "source": [
    "requirements = []\n",
    "x_if_A.complete_replaced({A:And(B)}, requirements=requirements)"
   ]
  },
  {
   "cell_type": "code",
   "execution_count": 7,
   "metadata": {},
   "outputs": [
    {
     "data": {
      "text/html": [
       "<a class=\"ProveItLink\" href=\"../__pv_it/demonstrations/1a4193f1deeaf7a4a6b6289328d46189ae6a257f0/expr.ipynb\"><img src=\"data:image/png;base64,iVBORw0KGgoAAAANSUhEUgAAAAwAAAAVBAMAAACAghKHAAAAMFBMVEX///8AAAAAAAAAAAAAAAAA\n",
       "AAAAAAAAAAAAAAAAAAAAAAAAAAAAAAAAAAAAAAAAAAAv3aB7AAAAD3RSTlMAInZUiRDNmWbv3US7\n",
       "qzJazP2FAAAACXBIWXMAAA7EAAAOxAGVKw4bAAAAcklEQVQI12NgYBBgZAACJgNuBSBlwsCgwcDA\n",
       "msDAwBbAwN7AwMBRwMAJkp/KYAaiMhhKQJQvkAEEbQyLQZQlw2wQ9R5C7YQIWjEcAlE9QLVAUMLw\n",
       "CkStZuB6wMDAuABkLNj4gwwMMkDxGDCLgVGBSYABAJpvEmISwLzKAAAAAElFTkSuQmCC\n",
       "\" style=\"display:inline;vertical-align:middle;\" /></a>"
      ],
      "text/plain": [
       "()"
      ]
     },
     "metadata": {},
     "output_type": "display_data"
    }
   ],
   "source": [
    "requirements"
   ]
  },
  {
   "cell_type": "markdown",
   "metadata": {},
   "source": [
    "***A conditional with a conjunction of a pair of conjunctions as its condition is reduced to a flattened single conjunction for its conjunction which is displayed as a comma-delimited list.***"
   ]
  },
  {
   "cell_type": "code",
   "execution_count": 8,
   "metadata": {},
   "outputs": [
    {
     "data": {
      "text/html": [
       "<strong id=\"x_if_A_and_B\">x_if_A_and_B:</strong> <a class=\"ProveItLink\" href=\"../__pv_it/demonstrations/6ec6888a79431c4f519e8f3628ea026b0e9a0dfd0/expr.ipynb\"><img src=\"data:image/png;base64,iVBORw0KGgoAAAANSUhEUgAAAGMAAAAVBAMAAACgbk16AAAAMFBMVEX///8AAAAAAAAAAAAAAAAA\n",
       "AAAAAAAAAAAAAAAAAAAAAAAAAAAAAAAAAAAAAAAAAAAv3aB7AAAAD3RSTlMAEER2zVSJ3Zki72ar\n",
       "MruaaVGaAAAACXBIWXMAAA7EAAAOxAGVKw4bAAABjUlEQVQ4y2NgYGBUYiAVmCiiCWxWgDI4HbDr\n",
       "YP2IxOFczcDAEvsJymP5ABPf9//MGb8LMB5bAZIWph8MDNs5D0J58XAtDOsYGHj+YtXCIMDAcAbO\n",
       "6fkJt/0zxDhsWoDgBFxmGtxcbiCL+zNhLZOZv8KYPEAnsqxE1sJofPBaKogzZQ3DnVUwlzWw/oYp\n",
       "4nrAwHgc7n0OYEhyMNgYtIN5Pgi/MAXwfoMpuv/Y+MgGuDtmAZk7GfYLnAbz3iC0cDBw/oEpsp/A\n",
       "wLoaxpnjBCQuMLRAuUha7Dp6/sFUvQLifJjDePsEQNRiDC2MBgwM32FaQNbtN4Dx+A6A3P2TQRBN\n",
       "CwcQV8HMBYXDeQWkEGN8xLOAIQFNizYQ+wMtA7GZgXHK+4UBSQvrX4kFTAFg3jswAsX3AiDxfgKD\n",
       "PChpsgA5Wo5gcRAfZEuzQcRWsMCdVQfvrD8M8sn7LwIMcf/dGNgLgRH5/s+ZI08hNrA3YIl9NBCI\n",
       "KURISwKmEPMCvDoYDTDFOL/i1cKMTXDGUdIyPgCt7G9M2hCMhQAAAABJRU5ErkJggg==\n",
       "\" style=\"display:inline;vertical-align:middle;\" /></a><br>"
      ],
      "text/plain": [
       "<IPython.core.display.HTML object>"
      ]
     },
     "metadata": {},
     "output_type": "display_data"
    }
   ],
   "source": [
    "x_if_A_and_B = Conditional(x, (A, B))"
   ]
  },
  {
   "cell_type": "code",
   "execution_count": 9,
   "metadata": {},
   "outputs": [
    {
     "data": {
      "text/html": [
       "<strong id=\"defaults.assumptions\">defaults.assumptions:</strong> <a class=\"ProveItLink\" href=\"../__pv_it/demonstrations/9b5ee3de4f63acfabd40019f00836b8e9da451160/expr.ipynb\"><img src=\"data:image/png;base64,iVBORw0KGgoAAAANSUhEUgAAAIUAAAAVBAMAAACakjBMAAAAMFBMVEX///8AAAAAAAAAAAAAAAAA\n",
       "AAAAAAAAAAAAAAAAAAAAAAAAAAAAAAAAAAAAAAAAAAAv3aB7AAAAD3RSTlMAInZUiRDNmWbv3US7\n",
       "qzJazP2FAAAACXBIWXMAAA7EAAAOxAGVKw4bAAAB+UlEQVQ4y6WUMUgbURjH/7n4kniXhEwiLl6L\n",
       "3VQyVEEQDMVBQeG6FiXXloCjlCIdQ5cOQpshU7sE1A6HQxB1cXkqOCgUo1hEHDK1tFM6FAxK6Xvf\n",
       "3dG7y/Uy+OAd33v/3/vfe+977wHI4T6FRiv5EOXZ3ZGB2Xb9/2NdYks2Hocih9opWCtqAg6hlAFm\n",
       "hhJXuRmgEuXhEiUgWQ4lznkih1qUh0u8A3r9yrBl0cQab2NmqIdybH2Gl+g1MO4jdh85QSPTHArz\n",
       "0F4YASJRxmvRP/L0yQH1x0ou2wBP120PkrPTJ9ToM4JEzymWxDd9hiLlOZH7R3xnG7YHyauYoMZz\n",
       "BImUiTVgT+UYbJKHh0jlJ+28kKzjAzXMDiJewSfAKNYxRXP8YYnCbQIXGdvDkVdknP0ogE14iWxL\n",
       "emAK+Er9C56/YJE5eypkYVCVIeMdhFaRa5EGN0z2q14iqzsDhLwO7RcRtQ4iXoNMSBXx3z2UfN0l\n",
       "vog6ykHjqmC3yJj9Mn6IAIEUx7zI6B8o5nsSXrqEDJImiibJqRbShQLtej5AIFnAT7GiGtilrS2e\n",
       "2Pn/1uZ0ldQNkpVlaK8o7+x6Bz4Cah1q03cOt48t3yUc6zioc85Zd8uAWM5y5BNT6PoIvRF1Pwpg\n",
       "ejeLGPedibBb2nUaablNMf1e7+kD4C+Y1pejbttTZQAAAABJRU5ErkJggg==\n",
       "\" style=\"display:inline;vertical-align:middle;\" /></a><br>"
      ],
      "text/plain": [
       "<IPython.core.display.HTML object>"
      ]
     },
     "metadata": {},
     "output_type": "display_data"
    }
   ],
   "source": [
    "defaults.assumptions = (InSet(n, Natural), InSet(m, Natural))"
   ]
  },
  {
   "cell_type": "code",
   "execution_count": 10,
   "metadata": {},
   "outputs": [
    {
     "data": {
      "text/html": [
       "<a class=\"ProveItLink\" href=\"../__pv_it/demonstrations/b870552ec3d79460beda684362b16233f3398a5f0/expr.ipynb\"><img src=\"data:image/png;base64,iVBORw0KGgoAAAANSUhEUgAAAU8AAAAVBAMAAAA0gXHkAAAAMFBMVEX///8AAAAAAAAAAAAAAAAA\n",
       "AAAAAAAAAAAAAAAAAAAAAAAAAAAAAAAAAAAAAAAAAAAv3aB7AAAAD3RSTlMAEER2zVSJ3Zki72ar\n",
       "MruaaVGaAAAACXBIWXMAAA7EAAAOxAGVKw4bAAADU0lEQVRIx9WXX0hTURzHf/vndt2u3ggiKMqC\n",
       "XuyhhVI9iM4egixyPRmBOYiIICifikAYFCgksSgkRNygXtLKRUX0ohsaBY02ECLCmBRBRDXT9UdS\n",
       "1zn3nt2dP3fHkHrwi3fb73PP/d7fPX9+5woAtq2wOlS/hQMPasgPJcCdEYCFrv+vPF3f6EyGAZzt\n",
       "syRyznBtBWChVh54cwupiS8yYKHRQip1KMOgirNUYP8F8FhJkqiDz6tj+URdBQFVTgOkMzJgoXsA\n",
       "vsXyiYIGkDKD3nnuagGI8qQjPIr6AXaEZUCUMmf0WtlEkZ6bZ/rYRxKBhU6dEbpqDJExvwyI8qI7\n",
       "eef+MtFrju/sGQFY9IS/KcizNDpaIjIgyocmmfO2kKitLvnqhL5k78DUUHHsw67f7NUCsBh56Ihb\n",
       "TLeNXVIAVvPa9owdG08A2zf4u/XoYGmO2oPqD6alACy0DbIhDqlLdQ0HpMBC2fd1E9wT96P4CYxp\n",
       "L/TocylRDygLqLMfUr2FwbrTSckNwhBNcMiBVuDROGVEgNSoKQKuYYYM7EUfGbhEQirRxp7eJYDJ\n",
       "3WZTA4Shu7y/42NPeppjVTE0vxYpIwKkRp/QwS5L9YqGv24KidrQsvyJvtuKLQmYhWj5ErgWoJpf\n",
       "nNUJYwG3cUBqtABCYajCQ2WfhzVcoh50XKATJeC+zB8VR3cMvJcnGxyjxVZZNLd8s5QRATIjFa/a\n",
       "dA0y2kOvets7XwxCXKLbyXbYZmwDJQAnCWBk05dbXN9mN9TGKxOOhMHwdINsgDIqAokRnsZqXjeK\n",
       "UIm6FtfH7Eb5+6r/4YKIJhLkIrq/LU8DtdMAmwPkjBlBPx6hebhaD9UZT8hg0IIe4JZWMjKBxMiJ\n",
       "blbbrBvpj4Ih7tGL/iOP9PSmhpJTI+P4mlxeg2OFfUZHnNMoMKjpANx4EzwP5MPdCbCp0AyuXD4E\n",
       "4/AG3EGdwUv8ehEE06gEyhv58GvLBxSMQ62eF24i7EycsL+LGiElrEQYQHSY+n0XGiGqsmyFRj1q\n",
       "2S3UItEKKh58+1pjABFV55UZ1BWjHoat1Kir3Sx9MWmefa3H9apjaqRQYEGpeJlbWAL2w8BOhq3U\n",
       "aJe5PynLvmgA+JcF4LAq///KyNCNp6vhH6Y/IBEr3NEFhp8AAAAASUVORK5CYII=\n",
       "\" style=\"display:inline;vertical-align:middle;\" /></a>"
      ],
      "text/plain": [
       "{x if A_{1} ,  A_{2} ,  ... ,  A_{m}, B_{1} ,  B_{2} ,  ... ,  B_{n}."
      ]
     },
     "metadata": {},
     "output_type": "display_data"
    }
   ],
   "source": [
    "x_if_A_and_B.complete_replaced({A:A_1_to_m, B:B_1_to_n})"
   ]
  },
  {
   "cell_type": "code",
   "execution_count": 11,
   "metadata": {},
   "outputs": [
    {
     "data": {
      "text/html": [
       "<a class=\"ProveItLink\" href=\"../__pv_it/demonstrations/b870552ec3d79460beda684362b16233f3398a5f0/expr.ipynb\"><img src=\"data:image/png;base64,iVBORw0KGgoAAAANSUhEUgAAAU8AAAAVBAMAAAA0gXHkAAAAMFBMVEX///8AAAAAAAAAAAAAAAAA\n",
       "AAAAAAAAAAAAAAAAAAAAAAAAAAAAAAAAAAAAAAAAAAAv3aB7AAAAD3RSTlMAEER2zVSJ3Zki72ar\n",
       "MruaaVGaAAAACXBIWXMAAA7EAAAOxAGVKw4bAAADU0lEQVRIx9WXX0hTURzHf/vndt2u3ggiKMqC\n",
       "XuyhhVI9iM4egixyPRmBOYiIICifikAYFCgksSgkRNygXtLKRUX0ohsaBY02ECLCmBRBRDXT9UdS\n",
       "1zn3nt2dP3fHkHrwi3fb73PP/d7fPX9+5woAtq2wOlS/hQMPasgPJcCdEYCFrv+vPF3f6EyGAZzt\n",
       "syRyznBtBWChVh54cwupiS8yYKHRQip1KMOgirNUYP8F8FhJkqiDz6tj+URdBQFVTgOkMzJgoXsA\n",
       "vsXyiYIGkDKD3nnuagGI8qQjPIr6AXaEZUCUMmf0WtlEkZ6bZ/rYRxKBhU6dEbpqDJExvwyI8qI7\n",
       "eef+MtFrju/sGQFY9IS/KcizNDpaIjIgyocmmfO2kKitLvnqhL5k78DUUHHsw67f7NUCsBh56Ihb\n",
       "TLeNXVIAVvPa9owdG08A2zf4u/XoYGmO2oPqD6alACy0DbIhDqlLdQ0HpMBC2fd1E9wT96P4CYxp\n",
       "L/TocylRDygLqLMfUr2FwbrTSckNwhBNcMiBVuDROGVEgNSoKQKuYYYM7EUfGbhEQirRxp7eJYDJ\n",
       "3WZTA4Shu7y/42NPeppjVTE0vxYpIwKkRp/QwS5L9YqGv24KidrQsvyJvtuKLQmYhWj5ErgWoJpf\n",
       "nNUJYwG3cUBqtABCYajCQ2WfhzVcoh50XKATJeC+zB8VR3cMvJcnGxyjxVZZNLd8s5QRATIjFa/a\n",
       "dA0y2kOvets7XwxCXKLbyXbYZmwDJQAnCWBk05dbXN9mN9TGKxOOhMHwdINsgDIqAokRnsZqXjeK\n",
       "UIm6FtfH7Eb5+6r/4YKIJhLkIrq/LU8DtdMAmwPkjBlBPx6hebhaD9UZT8hg0IIe4JZWMjKBxMiJ\n",
       "blbbrBvpj4Ih7tGL/iOP9PSmhpJTI+P4mlxeg2OFfUZHnNMoMKjpANx4EzwP5MPdCbCp0AyuXD4E\n",
       "4/AG3EGdwUv8ehEE06gEyhv58GvLBxSMQ62eF24i7EycsL+LGiElrEQYQHSY+n0XGiGqsmyFRj1q\n",
       "2S3UItEKKh58+1pjABFV55UZ1BWjHoat1Kir3Sx9MWmefa3H9apjaqRQYEGpeJlbWAL2w8BOhq3U\n",
       "aJe5PynLvmgA+JcF4LAq///KyNCNp6vhH6Y/IBEr3NEFhp8AAAAASUVORK5CYII=\n",
       "\" style=\"display:inline;vertical-align:middle;\" /></a>"
      ],
      "text/plain": [
       "{x if A_{1} ,  A_{2} ,  ... ,  A_{m}, B_{1} ,  B_{2} ,  ... ,  B_{n}."
      ]
     },
     "metadata": {},
     "output_type": "display_data"
    }
   ],
   "source": [
    "requirements = []\n",
    "x_if_A_and_B.complete_replaced({A:And(A_1_to_m), B:And(B_1_to_n)},\n",
    "                      requirements=requirements)"
   ]
  },
  {
   "cell_type": "code",
   "execution_count": 12,
   "metadata": {},
   "outputs": [
    {
     "data": {
      "text/html": [
       "<a class=\"ProveItLink\" href=\"../__pv_it/demonstrations/c7030c178d9de6e628e93acd647dbc4b281273540/expr.ipynb\"><img src=\"data:image/png;base64,iVBORw0KGgoAAAANSUhEUgAAAd4AAAAyBAMAAAAAQae9AAAAMFBMVEX///8AAAAAAAAAAAAAAAAA\n",
       "AAAAAAAAAAAAAAAAAAAAAAAAAAAAAAAAAAAAAAAAAAAv3aB7AAAAD3RSTlMAuzKrZonNIu/ddhCZ\n",
       "VERetuGgAAAACXBIWXMAAA7EAAAOxAGVKw4bAAAGqElEQVRo3uWaTWhcVRTHT2Ymmcy8mSSkG7VK\n",
       "RgXBqkw0EtIKZnQhImICtYpuEkEhUGsGpFVESCRts3AzuGpohSnpQrMwr9VNi9iBqhQsNO4sXSSg\n",
       "CzfSfJgGk7Tx3vu+7te57462KWQOncmb/7058879OO/cXwpArKkAO9+c3eHls2LLDws7MuDHXf8i\n",
       "OSjo2Q9csWPqm+DqCOLqSH3fnB6+F/HmK/7FS6I+z4f7cQngUDGY8FHE1Wh939yyKCsvbPX0vKPZ\n",
       "VZiOWKprpae3E2vd74/2pCi/xX+4UYNU5UN/BPJbXEvzXDRyiC4Yp88r8cJnZJkta/piOuK7tQOg\n",
       "HxufTMn7UTXE65Dv6w4+5PrLUcv5aFFiumCcfmlNWeHrAG2bal9Mx3yPVdkUIQv6c/bjZTDES7d3\n",
       "+PtvDnFDd+Z5iNMFi/Tmw8vKQiRKal3ti+mY7wFyIwNVbEG/z96P2cabrs5y66nyMMTookX6J9lb\n",
       "cmOSrPCWSbUvpmO++8lrpIzFe4O2ZDc08V6YPneAxpAe6U70TfgLOgfzpWhxDLYEfjFdXEyRXsv/\n",
       "LbeSfefsLah9MR3zTbb7t1/geZIGkumW1J/pLWX35Sp+l3D//gXF6MnVUs7XYnTxu0K9bS6xKrcW\n",
       "H5jpLWn6YjriO7E0M/2u4YlEp7YopbP0UbJlyqmNJPueJi7eGoyRy++83PAowEledw70uJIuWKTn\n",
       "IL0it86WIX9U49vTrX1nSSL8rYSXWDQT9Enh9pKHbQJyfsbj4s0+eKW/AxIz3mP7GYAZXs+BtyAi\n",
       "XbRIP33l0pLceh95DRVU355u7btpnGTDZXyC7yevCUl7ktWZrVUl3gsA7ZWgTHHIeJzn9faF9LKo\n",
       "i0Mb6g7x/I/cTCec5FXFt6db+27vFtK5YgNlSCi5Y5eXyhxXipdskcx4EC99wufmOD3lsnvidKUi\n",
       "8PQceZ0AePXFme4zQSnEbqJ/QfHt69a+i2QtJ29T3/pn8MUSW/JKfj670AfN0vy2lbxC0LunTFgG\n",
       "Bzo0VwRdqm1C/Q9WfzqvHSUraxrADfZd4qbqO9BtfZPtDsVh6ntSG29rN1vySrzzT1wmWZfF20H/\n",
       "sUqafloL7ukV+tbJ6975I9QdepsXh/2LSE/T7+sqpy8MwzL85Le2EPHPg6rvQLf0DSNk+I+71Dd7\n",
       "yHrNnDVVWMWpxPv9TP5Hb0H1TZzrW6F7+ezWQch33Rz07+k5+raH19O7BR1O0ZGv+Reh7nTddOHX\n",
       "rfcgWU2Mw5cAUySSJC3zHwqPMKGPULfzDU/T0wW572S1zZvFU/LKX4SLNYipr7BjlWSfwkf1nJFa\n",
       "C9mO9GIB8u7d8J2raQ8NqdtQrN6ZeNOdj/xSzz2NkVlIddT8NHGnfWee0sabWId5JeF9ZT6rv7Gq\n",
       "rcdbt7YW67mn30lVlN7n0qfZXfCdfV1fcGyyE4U0OnPbSR2q28o4VlgKl2bw0rYGvK22BEMuNJAd\n",
       "h6sNFe8UOyE3jp1ouHjN63mnofcpGCobmutB7xbM/d5wdjFfzRYMzfWgdwvmrnB2lY9bAHYzVDfb\n",
       "hKbewEpLHL1rBd3wLWo4ncTHRcCuL49NUN1smzC/YBsvjt61gsZUzq7wcQmw68vjqgGqG81ZZUjA\n",
       "Ll5A0btW0HAIlbMrfFwC7HoqUzBBdZOR80J77b/EKyJ2naAxDWdX+LgE2LVmhurGs90tyAzHxBuP\n",
       "3rWCxjScXeHjImDXmxmqmyy7BkmJ5+SmmHlx2aF3raCahrOrfFwE7PpFaYbqJiOrJ7VheF7aofdQ\n",
       "CLi43jSc3efjTvQXaBGwY5NkguoxmT1xCw/XEr2DzNz1puHsPh/f83WoiIBda3FQPSazT+DNdug9\n",
       "EnwujjwLqipnD/j4Ne5AzgF2vcVBdVNmJ1nusmH/WqH3SPC5OLacVc7u8/EoXhGw6y0OqhtsLw1n\n",
       "wZif49C7wwuUizuqGzZcOs7u8XEvXgG8mxzFQXWD0VWRqRnjjUPvFHsLzD3k4OEFe9Nydo+Ps3hF\n",
       "8G5wFAvVDZX3RvCGxxuH3jMnJeZOBQmIT7l6zh7wcTa/AnjHHcVDddy8P3Ufs6+v5HKF7t/rnMC4\n",
       "+HW1H/dw0XL2a1InO0cIVMeN/X8GGHD/V7xcmeFxcbXu4Jm6lrNfkzrZOUKgOm67vFMpXhhZoHeH\n",
       "K9wZF3fUSp5n6jrOfnj0bbGTnSMEquMFnrdzE3ias0Dv2VhBz9SrsYKlI3vL+NGcxmdwR6H3/UEV\n",
       "PQiNYG1htX+oIeJ9LMzLTYUGCNehZQz8C/X/uNP/1M5aAAAAAElFTkSuQmCC\n",
       "\" style=\"display:inline;vertical-align:middle;\" /></a>"
      ],
      "text/plain": [
       "({x if A_{1} and  A_{2} and  ... and  A_{m} ,  B_{1} and  B_{2} and  ... and  B_{n}. \\\\  = {x if A_{1} ,  A_{2} ,  ... ,  A_{m}, B_{1} ,  B_{2} ,  ... ,  B_{n}.)"
      ]
     },
     "metadata": {},
     "output_type": "display_data"
    }
   ],
   "source": [
    "requirements"
   ]
  },
  {
   "cell_type": "code",
   "execution_count": 13,
   "metadata": {},
   "outputs": [
    {
     "data": {
      "text/html": [
       "<a class=\"ProveItLink\" href=\"../__pv_it/demonstrations/1fa4ff2b0f8fd52074e6a575ffd58427e054dec50/expr.ipynb\"><img src=\"data:image/png;base64,iVBORw0KGgoAAAANSUhEUgAAAOcAAAAVBAMAAABPgOQBAAAAMFBMVEX///8AAAAAAAAAAAAAAAAA\n",
       "AAAAAAAAAAAAAAAAAAAAAAAAAAAAAAAAAAAAAAAAAAAv3aB7AAAAD3RSTlMAEER2zVSJ3Zki72ar\n",
       "MruaaVGaAAAACXBIWXMAAA7EAAAOxAGVKw4bAAACoUlEQVRIx2NgYGBUYqA/MFFEE9isAGVwOmDX\n",
       "gUscF5iCIcL6Edm41QwMLLGfoDyWD9gNwSWOC/hjiLAVIHGYfjAwbOc8COXFIxueimDiEkcxNgDh\n",
       "rf/4LWUQYGA4A+f0/ERIMJYwEBRHBuKIKOA4PwG/pUBwAi4z7S9ClHmPAiFxFGB9CM7MzL9AvKWT\n",
       "mb8iRNl5HxASRwEF9+DpxMA+AJuljMYHr4HjZsoahjurYOHbwPoboSyMwZOBgDhK8kxggYUpB0P8\n",
       "BnRpDgeQuI1BO5jng4hTpgDebwhlngwRBMRRE/gE1gYoU5XhfgK69CygM3Yy7Bc4Dea9QVjKwcD5\n",
       "BxgIW8Ac3gMM7ALI4mI5B9HEUcAdBoZCWMAwzD+AJjvHCUhcYGiBcpEstevo+cfAcNkczOG5wMBs\n",
       "gCzewNCOJo4CzjIwGENT2ouO8+jRztsHduhiDEsZgWZ9B9LhYJ4IUKAAWfwTw/wLKOIogBEYZ+IQ\n",
       "pjADAz+GCj6Q35l+MgiiWcoBxFVwS0HJrBVZfCPEUoQ4RtHAEQANXQb2BQzc3ZdtmPddQEq9jI94\n",
       "FjAkoFmqDS2/IJYWwItQmDhDOqo4CmCHl9BMG8DFprTWBq4DzAeQLGX9K7GACeKud2AE0rIASLyf\n",
       "ALWUGxRvfBeQxXkLUcTlgVYwfoEyGDaDNL0Fp1OQgp8ME00Y+C9wgD0GUgDyabNBxFZIolt18M76\n",
       "w6BIef9FgCHuvxvUUh5QxPMaIIvPE0AWZ2AH5ZAKGAOcsi8Dsdx/RwbW918SGA4z3GJgB3sMpICt\n",
       "AH8VEY6jemvgnEBKTbOWwY5hPi/OYpA4S+fdvSFAgp2cH4B+3ccBL7EX4FU9zT8Zq/j6//9J8SjT\n",
       "AWDZNccQ7oavA9BaYZhxlN42AgDbJ75COAz3wgAAAABJRU5ErkJggg==\n",
       "\" style=\"display:inline;vertical-align:middle;\" /></a>"
      ],
      "text/plain": [
       "{x if A_{1} and  A_{2} and  ... and  A_{m}."
      ]
     },
     "metadata": {},
     "output_type": "display_data"
    }
   ],
   "source": [
    "requirements = []\n",
    "x_if_A_and_B.complete_replaced({A:And(A_1_to_m), B:And()}, \n",
    "                      requirements=requirements)"
   ]
  },
  {
   "cell_type": "code",
   "execution_count": 14,
   "metadata": {},
   "outputs": [
    {
     "data": {
      "text/html": [
       "<a class=\"ProveItLink\" href=\"../__pv_it/demonstrations/93a2e46c51230369a7578f720c883484d11838c10/expr.ipynb\"><img src=\"data:image/png;base64,iVBORw0KGgoAAAANSUhEUgAAAjMAAAAVBAMAAABBFnLzAAAAMFBMVEX///8AAAAAAAAAAAAAAAAA\n",
       "AAAAAAAAAAAAAAAAAAAAAAAAAAAAAAAAAAAAAAAAAAAv3aB7AAAAD3RSTlMAInZUiRDNmWbv3US7\n",
       "qzJazP2FAAAACXBIWXMAAA7EAAAOxAGVKw4bAAAEaUlEQVRYw71YbYhMURh+74y7Mzuze3eSj4h2\n",
       "ELGR+bFsbbKDfzaZ5KulrKLUJhNCm61BKJHJLxKmtESRSJE/Q8kPHzvRooRpUyKLDUs+dpzznnPv\n",
       "Pfeee3d2mblvc2bOee597/vMc97zdQEgAgBrroDHVnfZWlGQh7Opt7xmx8j4YqS0JWyX9upaKa3O\n",
       "vm64m42xtZtttSlw1dV32nWv2TEy9aQ0icooxwEq5v/irYrPzg9zw91sy+DS+OPgS7m4+r95zg7J\n",
       "qFTfxSIa/g5wSOnmrSYxyCKz6oaLNiJm/r2CkzSLjNpKUja68B6RKQs7AZfYIZlAyi4NkBR6aTQ6\n",
       "+oQxfw6K4qK1mGkdeB2RpWF+KM0uUg4ORZrSsRNwiR2SqQRJGmLPDFqjBoQsO3KlGG6x6S+M6oKl\n",
       "eVka5ofSpEmpTAxFmpKxE3CJHZKZO7g0I31fTDSkZYvhFst8MGaI6OyYLA3zozU/za+K1HCl+S92\n",
       "Ji6zQzLbdWnUyd1vcPSNOQW9J/ScTfp/mLfXw3ooglumz3iFnqcBaErJ0jA/WgvEqQQ5d2lKz07A\n",
       "ZXZIZhP93YHXZ0XbEd1sjuZwTPtq3r4eGorgVuEj/iSvXoNPcVka5tesJ0xQWHHbL1K7xJi3loOd\n",
       "gMvskMxZviDCHjiaeI7oQzN4AJQ/pMsOYEPLQSgh4suXdNtwi/UCdOrdCLU5SRruh0OLJrQ/7Zw1\n",
       "41LlYCfgMjskc5Io85TOR3nMHVvwmTs7fgP01GGjOg++qIgnod2GW+wVwGQ+493b+TorScP9qDSV\n",
       "lIHmvBmZ2FYWdibuwA7JEGng7V1sHZOCq8T3J/ltBL73UDMi/gtq8xbcujiScdDCqssAajKSNNzP\n",
       "kCbsnDXa7kQZ2Am4Azskc5aHI40+WGELHiDlghGcToPbRHw/C27i0oYvEOMZC6E0BHf1zPIdzhvS\n",
       "cD9zQGWc55qqXBnYCbgDOyRzh69Q6v3qNMRtwW/wPTQLnjEOGzrOVv2M0yGEhDPOMuEUbt1X30xV\n",
       "5nw5ULk03I9KU0VTO5h1XaFKz87Ebez0aTgLS/gz/AOr0mHWxw/wQ/8YzfCuCA8epPSr8iKudYq4\n",
       "2g/8ax1VZC91eoTzKL2hD0ZPg5o8WabxarPh16yv27iCs6t2aUrADh9ssjNxGzt+A6m917Nma7Rh\n",
       "H1tYTnT3nnlM/2VXfwLmFTbw4NV0yGtREZ+QEHE4D/wrRBdtXB96SFlb2Aj+rv44PIZ3dOiEOlEa\n",
       "3Y9Ko9E+DOHuNJR0ypoSsMMHG+wM3M6O30DIhPJOu2GbNboc/ZNKZDjn29MwE2o1gDnyyZu+tBk/\n",
       "pDNU2dkxI2SCyX+XZsLHt4lhxFY+k545TCbJuCzNQX7ELKE0/8qOGSVzm5QZg3uN2rLQET9TKAyn\n",
       "W8I5sgOdOBUXV7s0VRFQXGZh8KW9ZMeFomTWklIb8/Llos/hVZaapeq49OcXz99/MjIK6UOlI+Z1\n",
       "7MXGu+GT7LAMk1zvHfvEc2kImb8Sgbdqh5l0KQAAAABJRU5ErkJggg==\n",
       "\" style=\"display:inline;vertical-align:middle;\" /></a>"
      ],
      "text/plain": [
       "({x if A_{1} and  A_{2} and  ... and  A_{m} ,  [and](). = {x if A_{1} and  A_{2} and  ... and  A_{m}.)"
      ]
     },
     "metadata": {},
     "output_type": "display_data"
    }
   ],
   "source": [
    "requirements"
   ]
  },
  {
   "cell_type": "code",
   "execution_count": 15,
   "metadata": {},
   "outputs": [
    {
     "data": {
      "text/html": [
       "<a class=\"ProveItLink\" href=\"../__pv_it/demonstrations/a580bf9f11bb6c8e1039518eb683768d225f3ee90/expr.ipynb\"><img src=\"data:image/png;base64,iVBORw0KGgoAAAANSUhEUgAAAOQAAAAVBAMAAACkt18CAAAAMFBMVEX///8AAAAAAAAAAAAAAAAA\n",
       "AAAAAAAAAAAAAAAAAAAAAAAAAAAAAAAAAAAAAAAAAAAv3aB7AAAAD3RSTlMAEER2zVSJ3Zki72ar\n",
       "MruaaVGaAAAACXBIWXMAAA7EAAAOxAGVKw4bAAACfklEQVRIx72WQWjTUBjH/1mbrWmSLbDDBJ1W\n",
       "wYsIFrObA6PgpYLs7EUPsosH682LEK8KkuOUwXrYZWxI0YsXXdSJUKqLiHhROxEvQnFzKoqt9b0k\n",
       "fXkvNWE92I82vPy+1/d/3/u+fCkA6QAGbVP7Y0A9+p8V5S3+7nYVONUo0OHDTr1+xuv9QRJPMPVL\n",
       "q77WFNBwmb87YkMtzxv++A6gtaN5M91REheN8fwGsO4lS0pkOTcYKtvA0E/mmbCQzmPG+ELRjyRR\n",
       "kpgWulUSibrN8LHHSOcxY3yVRLha3JGktglklxguv0c6jxnj6+Rbcnokx6cnZ+nZKyVXr6243RxI\n",
       "z1gO5PNZB6k8VpWMk9TvuSr4cvTM7cyTnB9t1mW5bHw016psWtaR7XQuGuP6H3P6tOijj4XqqFua\n",
       "v8xoJHncgbwM7A7K4C1wmefSbN0QuWiMZ34BZ6u8a/4k3UkQqyj5mXwveboZ5Po5YPI8h+BYIi4a\n",
       "46MVkrw279Jv+pvNF3skW/ArTfZXlsiWJng+VlDaIhcs4mOuUOChCG0BjmSIkvpvWm2FUJI+2LkZ\n",
       "jquGLxnx3kYQ8AY5VO0r7j8wbb5i9xZqGI5FSXOgf0MoOULL2eJ5UOoRFy3iJPVoWNLdZSzxkude\n",
       "XsfBQHKDfvySIzk4dKIreY9emjzHG4PnEt3FPisccPNLpFctGsq4Bb+ZUzeV3GXKN4JTq61M1lo0\n",
       "rxrtxp/QlXxEL694rnwQOK7Q2OxwEPEX9CVA1taKQxWE83q6T/yZTvDP4VY/L6y8l7O9pIa3M0ml\n",
       "+e5aP5ILGHndlcxUUqcqF34U/7nrTmezH8nDyFxka34f+P8QzD0drN5fl+3Xkqg9d0kAAAAASUVO\n",
       "RK5CYII=\n",
       "\" style=\"display:inline;vertical-align:middle;\" /></a>"
      ],
      "text/plain": [
       "{x if B_{1} and  B_{2} and  ... and  B_{n}."
      ]
     },
     "metadata": {},
     "output_type": "display_data"
    }
   ],
   "source": [
    "requirements = []\n",
    "x_if_A_and_B.complete_replaced({A:And(), B:And(B_1_to_n)}, \n",
    "                      requirements=requirements)"
   ]
  },
  {
   "cell_type": "code",
   "execution_count": 16,
   "metadata": {},
   "outputs": [
    {
     "data": {
      "text/html": [
       "<a class=\"ProveItLink\" href=\"../__pv_it/demonstrations/8a3af0fa061e13711d79b415a5d4610a816818120/expr.ipynb\"><img src=\"data:image/png;base64,iVBORw0KGgoAAAANSUhEUgAAAjIAAAAVBAMAAACu1BnNAAAAMFBMVEX///8AAAAAAAAAAAAAAAAA\n",
       "AAAAAAAAAAAAAAAAAAAAAAAAAAAAAAAAAAAAAAAAAAAv3aB7AAAAD3RSTlMAInZUiRDNmWbv3US7\n",
       "qzJazP2FAAAACXBIWXMAAA7EAAAOxAGVKw4bAAAEc0lEQVRYw8WYUWgcRRjH/3uXvbtccuc+SEVI\n",
       "yXIPUltC76FYmgdb1AdpCRxBLdRYr/jSUKWLFtFgIVasoNWcQktLLQ1ILaZYDsSHImIUfLKtR0uq\n",
       "wZ5d2kpBjKFK7UNs48w3uzuze7ubi7rJx+3u7bf/mf3mNzvfzC4AA8DTdYTa6tPimJqw6WhoWA7T\n",
       "v1jiG1IzU2W27ar4r+TWiOMW19FRF9oucznIPPB5wLGvnuwNqZnr2LZRBXP/KPDcbD2MDNOuUvB9\n",
       "f6d56XxrtVH+KFtQn76ldudhIPPwXMIBsGbqVXbcrDq/spAbX1nxyHSUXTJcm1Egdk4CV2zvlIRx\n",
       "/oA9GlFPi3WMq915G3hbm0o4ANbM7GiQjA4UGpCjaVvVJcO1OUsqe03i6BoJ4/yB5PFxRD3xZMC6\n",
       "ppl4AKyZnQiSYVawFDKrfnLJkPaglI0xzGMy8ZAwzu+31Lv1cP0CZJj9kHwAB/HQgmTGf3PJkHan\n",
       "lF1h27DhnZIwzu+3fHEyXN8+mQQD2Ik9LpnBvu2P8fGoDTeK08caHpn0pozhkCHtgCz9IfDMaZkn\n",
       "SRjn99s67AitJ5yMXpq6TnlhxTHMHGkmHsCAeAReZpuVupClvsk0fHkmY6Qthwxp93uFi3+X+pQn\n",
       "SAhj/AHbgfWh9QgbmeD2Kf3PsjyRRZ85QmcveHkmyQD24yNnIswZuVsFno3R7SczA5xwyHAtNshx\n",
       "epOdjUJ3WAmh9D8xMOX3+63YQL6i6qONryNex1jlRzo755FJMoANOMrAXGLNLlLPhJD5GSg5ZI5y\n",
       "16xXuLvG/HdxdbU4FULptzDi9wdymY2UqeojbeUutrPpwfaTSTKAWWrtjW9pUjfDyPA1zDaVzBmv\n",
       "8D1MlfsD6BdzoBBK/xx6bZ/fb0+xS+O+eqKs+Bp17QctZJIM4IwYIedohWfolVYyfJWULSujqV9i\n",
       "ZQ9gYc71OELpf1MEJv2ty6yX1Hreeq9kheeZbh5O1008GSCTZAD9+MaZm4bq0+gIeWbyPA9VBRnS\n",
       "HnBWW8BalvFnq25gjlDxi8WA9PuNd9cKSL3+zmG8Hzk36d8VatgUIJNkAAfEJMxq2PjLq/hMkJnk\n",
       "P5fMPn44L8iQlk/d+l/83zDryEMVNzBHqPiLJ3z+Z6vOjkrn+NjttqVeG6yC3o9E5QEy6btba12i\n",
       "48/S718EQBW3G8Ae/OqQ2VpKv0J3ZouZ7dN3TJcMpferggxpT/HdBLvv5flm8/myN74coeLvqfj8\n",
       "ecvdneT5j18smoq+YHbVqKaTYc/Mi+b6N8RMc2Rq5vgFYPEBUMXtBnAKeTtkDeyZ/12bazVKWmn1\n",
       "5bw/4huHpRmLefPvtLOW3d4aOGAJBMCaSW+IbZLhWnoDdTJSfGA9v9+oLCawXuSv/a9k/ksAvJlf\n",
       "s+OD7ZHh2h46HVQ09+5+JLTs8fn5RX0t+hKpx8OvpGqxBZMIgDdziNMqt0dmSIAElvbLnvbnkn9F\n",
       "5M3UWCu1vRFoNrvfgT8hMpqZMrAMdt/FJb4ha+Y/FI72iSuOKmAAAAAASUVORK5CYII=\n",
       "\" style=\"display:inline;vertical-align:middle;\" /></a>"
      ],
      "text/plain": [
       "({x if [and]() ,  B_{1} and  B_{2} and  ... and  B_{n}. = {x if B_{1} and  B_{2} and  ... and  B_{n}.)"
      ]
     },
     "metadata": {},
     "output_type": "display_data"
    }
   ],
   "source": [
    "requirements"
   ]
  },
  {
   "cell_type": "code",
   "execution_count": 17,
   "metadata": {},
   "outputs": [
    {
     "data": {
      "text/html": [
       "<a class=\"ProveItLink\" href=\"../__pv_it/demonstrations/fae00dbaaeb2a9ee40b12a1cd1e38b54317bf4be0/expr.ipynb\"><img src=\"data:image/png;base64,iVBORw0KGgoAAAANSUhEUgAAANcAAAAVBAMAAAAnc2Y5AAAAMFBMVEX///8AAAAAAAAAAAAAAAAA\n",
       "AAAAAAAAAAAAAAAAAAAAAAAAAAAAAAAAAAAAAAAAAAAv3aB7AAAAD3RSTlMAEER2zVSJ3Zki72ar\n",
       "MruaaVGaAAAACXBIWXMAAA7EAAAOxAGVKw4bAAACdElEQVRIx71WTWjUQBh92Z822R8b8SL04Opx\n",
       "vQS2iAep1YMn0XrzUu1BvRpPiiBUFFqwyBZFqnhY8GT9K4iIF9ulFQUXXBD0suIfXkTd1W6rxdZ1\n",
       "Jslkv0kmC4L0sRnmvbzJm2TmSxaAtgVrh77NAeF+zusYA/87K/mdEOMWkBj64bFEQ+iPW5XKviox\n",
       "hgQFFJ4um5DYL+ChUfbYYT8Md4HMKh0WEhQIe6QwmEDFJ+PL/h0vuBNBpKCAwiOHMTzzz1zxp5Vm\n",
       "vfQCMYUEBRSe6LBL8UXRzbAHmrhJTCFBAYWHh2mF8qujnFy+jdqUeI4jyd/ClHoH7Sld65CggMKj\n",
       "s/2tY4c16rC97TWLDWaXhOntx8L8NB0VEhRQeK4x/ggz5nOHfWmH6TBWhGlnEUlWFb0DsqAdq5jR\n",
       "Yd4gguu7WVPFeY+SsP6x8T/C9Zkdx6vZgi0LOnQ7Osz1UCV70ZnbjVCYZgE/hYvf4oyFpC0LPTmj\n",
       "Q615gyjWzfL1Wcb6QJjOjtNiRnynvMi1wzwhbXYIE54LL7fT3ah9yJQwHAjbyo797AZ5P86qO9uE\n",
       "EyYJzuhwjkk8vfnpVJGEJVc3lmKDDvvm/Hj5l1hTL2IT3xMJRvK73DBJwGvTFXijNWlHeCb60OOE\n",
       "8zN8buesgw+ciNpUuXZvjq9YvWniUGsPuk+w6qyvVOY/wQ2TBOO9K6B7hDWnROekSTxzyDvX5me6\n",
       "7M7VcoB+IeyAMImrsuD5aEHcwVg28nUVwHAwjAjG1zdnZYd3Tfo6buDMkCDxUscsjexd48iSJQmp\n",
       "VqshCR420K/WLLb57xFjsWNY/N8FwIq83OSTtfoD8hcie9XNNOUYUgAAAABJRU5ErkJggg==\n",
       "\" style=\"display:inline;vertical-align:middle;\" /></a>"
      ],
      "text/plain": [
       "{x if A, B_{1} ,  B_{2} ,  ... ,  B_{n}."
      ]
     },
     "metadata": {},
     "output_type": "display_data"
    }
   ],
   "source": [
    "requirements = []\n",
    "x_if_A_and_B.complete_replaced({A:A, B:And(B_1_to_n)}, \n",
    "                      requirements=requirements)"
   ]
  },
  {
   "cell_type": "code",
   "execution_count": 18,
   "metadata": {},
   "outputs": [
    {
     "data": {
      "text/html": [
       "<a class=\"ProveItLink\" href=\"../__pv_it/demonstrations/3a23c82a9af5bbadf3039ba61682c19a54551d3a0/expr.ipynb\"><img src=\"data:image/png;base64,iVBORw0KGgoAAAANSUhEUgAAAT8AAAAyBAMAAADYYcHyAAAAMFBMVEX///8AAAAAAAAAAAAAAAAA\n",
       "AAAAAAAAAAAAAAAAAAAAAAAAAAAAAAAAAAAAAAAAAAAv3aB7AAAAD3RSTlMAuzKrZonNIu/ddhCZ\n",
       "VERetuGgAAAACXBIWXMAAA7EAAAOxAGVKw4bAAAFPklEQVRYw81ZbWgcRRh+b+/7KxfqHz/pqf9i\n",
       "5U4jIVbwTgURFXOgIgqSE4UGQu0VUQR/JJpofnpUEUoqrFRFDzGXqoUeYhZapELFQxAqCncgSP5I\n",
       "alJSMNpzPnb2ZmZ3Z3cv0NxLsjf77OzcszPv+8777AEgC+VhCG21aTXvEa981x0Kgtoya4UrwoXU\n",
       "y02xZ+RL1nrtmjL8lTUeFvEOz+/1MsDhApvSIxbn/VvjE/vsY7rhbqbsHy3Sz/iSiD/Ln2wYEKm/\n",
       "YlLO9iw8MQpQ6rtutO2BS/a8yziivU8/krqCYBp5QJGdZEo11pzTCXlmZ6oeuGjpD1zGEe0inZhH\n",
       "QEEQu6h1/zPT1rNOodZU/8k+vt8DFy31UNe5v2gx+s1v+yUY11esFSuh/xlrPqF+qwcuWlIbde4v\n",
       "2sgV8jQ7DgRbJ089jcnEZ4ra5IK5xhnolFmnNwG+Ombdkq3EampctF/gkOM4sr1InqYood+jfyN1\n",
       "MFMns1zs++BfUGAJSfu7cfIlbi1qWUOJS3YIfnccRzaSUApSDMUXUfTXIjthMlshjqABc6yZQpN/\n",
       "sQxpM0PdDrDM4988eZ+ISym4CMkm39/N1rB3Tkr8JpD/apAxw48jmLr5Qom5TmgepZBNGPucnt4N\n",
       "0OBxA34Qccmr85DS+f5uFsKruCCBB24i+Um3EWwB5OpmpxzCIv+wZJ9GT3OGx6/CXF7ARTuNLtWF\n",
       "cdzyOJpg7bKMXkcSdC3dlAgib0rOm30KaFnCVxlBnI4zbQ5/jBLs4/Y0/SM/zuMPNhx9NX2ZeoEt\n",
       "ile7kxCVZnAEjRW7BEB4r6DgLFQZwSR2jSqP01zVx0WrW9s67Z9+YhGWHKdwgXqBjWDnjvMoZgnB\n",
       "UfxHdmV8dgXS2/hkBhF+p8kIPooP+3icViIWvlY1D+TuiG6VeLR/vFUFkuzo4JzdQDdDG8FvG9lz\n",
       "ZGlQEjw1uYUHXO3NQnb/dgWOo++/qzc+/kLbKjhIyI4Bhx9tCnjSYIcTOEbwRU3n+of1ETpPJyQu\n",
       "0+i5DPDYSSTLNp0qIikVGPFakMIqkc8YjhXDVBcKekCCUfAmePS2A80gBOcgeacjQcSuY4uyz9SD\n",
       "tbj2q0eec+zzbq8XqDT9A1JPOWdqg5QT0uO0lYPp17KoRnlyxeYs8bPtoRFOuVGYbsIQW6IKPw01\n",
       "wWSdVIxDTHB++Amql3ivNTxa4mlVyt9zDY+CZEX1XmYgDe9HvD+AN2Efb4QSRYdEvUsN7yHG+2Ip\n",
       "vOkjDxrQ6fol6FPDe4hxczNAVfTIv94E1yqkpvVH0KeG9xDjphtsKkt9vljIGYMQVGh4DzFuDoRK\n",
       "89iSN0FUyiSrHgQDanhPMc7cNH2vjyBBlUJYKvkzx4kVB9XwnmKcLt2NjYmyjzSDFiOyo3DlATS8\n",
       "Tby7zUx20QdBtBjaf+78BtHwNvHuaNdjveG9xDjYbcJ9dxreJt6dbQs8A50Jdziv8MHgGt4m3h2N\n",
       "vC0odSPnxr5QBzuehY2uMooDafimLN7tlUiauam2DV+vlxPKdJTTmVx1JxhEw4sAEu8EIAdLtRMN\n",
       "H0PTvz4Lb3wKOfIIay65bgpfVYVxUA0vAFi8Y4CocUu1J5fRyuFy4hZ0chDWaVXlMknvOb4C3oWG\n",
       "5wEi3rP2Nf6Na78FFzTF+PQVMJ3HgQjaNHxUFu9R+03cr0bxS3DsZ8X4IerysYprj6AaviWL95Y9\n",
       "SLjkMlKET1T7yQadOs190w6q4b0BSAWopz80Pz9yz+R7quHZT2Hyj4lDY39arcNDyU+b7UdLfhgJ\n",
       "niYh8j98LO0Ukxu5RgAAAABJRU5ErkJggg==\n",
       "\" style=\"display:inline;vertical-align:middle;\" /></a>"
      ],
      "text/plain": [
       "({x if A ,  B_{1} and  B_{2} and  ... and  B_{n}. \\\\  = {x if A, B_{1} ,  B_{2} ,  ... ,  B_{n}.)"
      ]
     },
     "metadata": {},
     "output_type": "display_data"
    }
   ],
   "source": [
    "requirements"
   ]
  },
  {
   "cell_type": "code",
   "execution_count": 19,
   "metadata": {},
   "outputs": [
    {
     "data": {
      "text/html": [
       "<a class=\"ProveItLink\" href=\"../__pv_it/demonstrations/d36b9e6e1ad9b1410b42d7a3970ef22d3064e1fa0/expr.ipynb\"><img src=\"data:image/png;base64,iVBORw0KGgoAAAANSUhEUgAAANsAAAAVBAMAAAA9T4a3AAAAMFBMVEX///8AAAAAAAAAAAAAAAAA\n",
       "AAAAAAAAAAAAAAAAAAAAAAAAAAAAAAAAAAAAAAAAAAAv3aB7AAAAD3RSTlMAEER2zVSJ3Zki72ar\n",
       "MruaaVGaAAAACXBIWXMAAA7EAAAOxAGVKw4bAAACtElEQVRIx72WTWgTQRTH/5vNNrtN1q4IIgha\n",
       "BS/1stKCl9KmHgRBbDzViyYgIoKgPVk8BRRasEhEKVJKE/BkqzaiIl7ShFYUDDRQEJFIiyKIiKlt\n",
       "/Ag2rrMf2czObpJbH9ndeb/5+M+bmTcEALcfW2k9+xjwpNMqSGGmxgU87E7zauEHPd4s4D+9bnn+\n",
       "NaatC3jYIAsyWj5/olDz2i5TVb4/wHMpZ3lRdvRoazlBc6FHQKjqKQcFyNvOeIXp6AJuE5cS7A5s\n",
       "mGF4yRF7bddMVJ01LuBhFy4VGBIknYIbreVu8z+dNS7gNkntjzAoRHbAf5+W47pzb88Zx+oBijO1\n",
       "1YwLf50dXcBjLRFNM6h9FdwrO2QxrDfqVUcN73h973wR+Zejnwt42AGsxBi08ql7sT6FSVJ8gXnl\n",
       "jeF9q8uJkDZJ4E+pmetg58VcE7k4klkG9ScgzNacqSPkVcB1y6Xk+sbG/wHLh+1+JohjtLEa/2Vs\n",
       "aZVhX8ljnx/5pqJ/7rnkOBX4Tb5DtW4WWEey0FBuB9DBHj2yIphXa942PXhfBdsZOZE8V2k5Czxu\n",
       "JhcHAikEbyz38hmrlawfr6VO6mRyH0MpxBi5g9aFNGQmfx3gvAUcxhmHKW1cdLu70u1ZPmsynlwN\n",
       "chmUnFDdlfKZ6fLd+OkJlCKvUsKQ48o0kIdNsDeMesF8TeqrVcGtHnQUxJjJ/KRf14Axpu7r0V1T\n",
       "Tz0zQHEmV5xb0CdbKis4ox01o7uiUGBaMQACZOUwAqsQGAb2aAMQSuUYFvAegYjBQqXN/OJnMzK9\n",
       "oetWYUyXE6jFk+JSwgEsO0mVH6IPSdnJGl1iHnJtlD/94Z3iAJZR2S2tkfgyooPZqZJqqjYxeNY4\n",
       "37bNaZoT1NPEvn6yOIapQw5mT6XltQuoLQF4r6T3Guvuy637o/IfJizG4UslD0YAAAAASUVORK5C\n",
       "YII=\n",
       "\" style=\"display:inline;vertical-align:middle;\" /></a>"
      ],
      "text/plain": [
       "{x if A_{1} ,  A_{2} ,  ... ,  A_{m} ,  B."
      ]
     },
     "metadata": {},
     "output_type": "display_data"
    }
   ],
   "source": [
    "requirements = []\n",
    "x_if_A_and_B.complete_replaced({A:And(A_1_to_m), B:B}, \n",
    "                      requirements=requirements)"
   ]
  },
  {
   "cell_type": "code",
   "execution_count": 20,
   "metadata": {},
   "outputs": [
    {
     "data": {
      "text/html": [
       "<a class=\"ProveItLink\" href=\"../__pv_it/demonstrations/dc597d3d6308193904b3cd1d3bfd867683033dbc0/expr.ipynb\"><img src=\"data:image/png;base64,iVBORw0KGgoAAAANSUhEUgAAAUUAAAAyBAMAAAA5CtSjAAAAMFBMVEX///8AAAAAAAAAAAAAAAAA\n",
       "AAAAAAAAAAAAAAAAAAAAAAAAAAAAAAAAAAAAAAAAAAAv3aB7AAAAD3RSTlMAuzKrZonNIu/ddhCZ\n",
       "VERetuGgAAAACXBIWXMAAA7EAAAOxAGVKw4bAAAFWUlEQVRo3tVZXWgcVRQ+md3uZmb2J9oX/7Ma\n",
       "ChIKuxgJ2qjZIPhTkSz4IBXKRkT6EGy3lAZRIauttPjShYpYVJhSKRofMoIWWsWORIqRiqsgKC3s\n",
       "PogURFvbmmBju947v/feuTNzZxEdD01z55u7s9+cc88993wBQDZQgmTah7o7vJu+o/6WFI7SW84o\n",
       "VaPvHP2Fmbq5aw+yM/xnBeFBNic68Udn8BCN59fIb98LkPnumn2VucB/VBAeZDtYYKo3NvY0Z8Wt\n",
       "q9g09jF4i7go/AXwaHbCvuqQXLZ6wyCcemzb80LPd/dlFM6LnE+9bv2StRCOgFbtmHuxtEqs2jcg\n",
       "EiftuLcecpMNdrFcsdzhsx+srHkEwjgiu8+9s5t4VeXBbhRO2bsPuMMn62xY0+gB6Su8VWSYv14V\n",
       "5viCctVDZWkoCqesdbvrNG2xzdxMocWS2cf5VMGMkLLG4aguTGww19XcHhjZ7wTbyF/2pn0P2yAC\n",
       "pzKxlnECnINOlbk7OATqvdxd+hnzvSsMmpvBjzmiLTtzHIqFtvSHN20bnI3A6aA18oY9/BXKzG4H\n",
       "5ZsWxqtc93fwgiyz9J9Hkx+Gad3a2dd7HHOQvYRcbG1VUgVkncQ/fmKCwSkbAXA2ZAPmWb8sNiC/\n",
       "l8vxJM7oexhw13b0XwlO2ZcEx8Onl34HGH3fWkElUDQSN2CZwSm7C2DBTqpbTk+yS/YG9FPnxnoA\n",
       "Z8cetv58brrhNR9HFX31n+7efwwBLRK/BvMlCqfrK1pAx63hCYAiOwPFAaZ5rwZplDTSZR/zipVP\n",
       "nzAcc+jnTZcjzqivSfwxi6OH+3bwXNsONchNSH8xekSZsl1nkpjk7lkquqWsgj+v1dtSTagxHH+y\n",
       "i5jFseWWXQeHLTROmexW9ULVrJ0fnasOVpQKqGb4sbNW+Hs/ivNAk8Mxf/HTZsF66+vMf/gb8MTh\n",
       "hs0xrTlnOhc3DykefhIxUlfsAWzGH7reTEk8YRVePArFUq5m3c2gZ5ybtXKEPZ7caO5MHD9+pZ19\n",
       "3ErH/RMjBzZhnw+v6PBt71mbYwovWkkj8Z06iYOMt5q3nYGZ86P4SNibhfzwSg02wZ0gt0FGb5Ya\n",
       "vjQ2fqvtcIOhU0e8DYiqM0HnJabkGtlGnLPPK3AY5iWAMxHzprtQ1v4hjjvv2KjHoJi9gDw5hfKt\n",
       "FjEREeywpROUZuhndu94iosf6PXiuLFQQRVp1wfmzhVqKNDTvp0ze/XfbAeUqAnFCq5CrL10f5L6\n",
       "ruIQ1HVItg3OwDdJ5yi3YBKSzrH5v+AYHuvPukmIdT2sOCjbdWE5QEQHmOsvZxbDtJ6OLi4HiOgA\n",
       "wr0/ybHC2cMJ2wJicgAX4PRd4r0/sT8a0OmKcgyWA/iA32L0/kQtrEG5KswxUA7gAhyL0ftTZ4qi\n",
       "0RdHqu3nApyjTozen1hD6Iw5E8FRQA7gApxQx+n9ybY2xZ7Elg9hO2iOT4GQHMADOBar93cNFZn0\n",
       "WkhwcFseLQf4dIAAi9X7k5kvBS+j7HhXSA7w6QABBSFW709mvk8DIGzjzSAiB/h0AL7F6/1JDQC+\n",
       "DFmP60FEDvDpAEGhjtP7u5mPX+t8NzSvo+QA1acD+A8pej+9v1NmNF5DS3OMkgPMnp3UAdy+nx7E\n",
       "7v2d1hW/YFhiYz9GyAG4h6d1gEM6KwBgJHbvb9tBrtYcVmc4rfYZVgfI+4JNIaK9P6k1W97sn2ON\n",
       "1QHW+UWzfnp/QsRDiyJ49nsQKQdQPbypA5zg7Trxe3/LzlsOlIJr+ny7jx5eE0AEen/L3nFqRPAm\n",
       "v9SG/9Scv8X5/qaZIPvZHT2XVIrSrJc8pYRyPGZmzN9De+TwY7DXSwAAAABJRU5ErkJggg==\n",
       "\" style=\"display:inline;vertical-align:middle;\" /></a>"
      ],
      "text/plain": [
       "({x if A_{1} and  A_{2} and  ... and  A_{m} ,  B. \\\\  = {x if A_{1} ,  A_{2} ,  ... ,  A_{m} ,  B.)"
      ]
     },
     "metadata": {},
     "output_type": "display_data"
    }
   ],
   "source": [
    "requirements"
   ]
  },
  {
   "cell_type": "markdown",
   "metadata": {},
   "source": [
    "***A `ConditionalSet` with a single TRUE conditional reduces to its value.***"
   ]
  },
  {
   "cell_type": "code",
   "execution_count": 21,
   "metadata": {},
   "outputs": [
    {
     "data": {
      "text/html": [
       "<span style=\"font-size:20px;\"> <a class=\"ProveItLink\" href=\"../__pv_it/demonstrations/12ccf235cd56418ddadc7eeb529350667e30b5660/proof.ipynb\" style=\"text-decoration: none\">&nbsp;&#x22A2;&nbsp;&nbsp;</a><a class=\"ProveItLink\" href=\"../__pv_it/demonstrations/a1adbfe0b1604bc19a98916880c0d6ef96cbef210/expr.ipynb\"><img src=\"data:image/png;base64,iVBORw0KGgoAAAANSUhEUgAAAJUAAABMCAMAAABTTQWaAAAAOVBMVEX///8AAAAAAAAAAAAAAAAA\n",
       "AAAAAAAAAAAAAAAAAAAAAAAAAAAAAAAAAAAAAAAAAAAAAAAAAAAAAAACXHtMAAAAEnRSTlMAEFRm\n",
       "u5mrdkTdic0y31wi74U6jrWwAAAACXBIWXMAAA7EAAAOxAGVKw4bAAACQklEQVRo3u2a25aDIAxF\n",
       "RW4izMDk/z92UNAWFdquKuaBPNiL1m4PIfGw7Lo1SN/hCwoMHxQHgQ9KlpSy+lhdOVwLNQCQ/F4N\n",
       "CaOj4dveQII10JOpFIz5nT1AegV8Vkp1ViSX0suaUnEB9vlzOFTs8vBsKgE6v3O0I5iD3/CrqRTw\n",
       "fKpLPxX6O6gA8ifkU2LR5wnp/NgZ4dx2DCtSDV4mk84FLerkFQAtSNXZtMKy26kk49zPQYaKioQ/\n",
       "AoWKKs4z5TBRLT0kbTk3U9lFIpYUd8Ye2+pUhAHoqbv005u1NsyVivgtiJWCqymcm19EhcpwY/z8\n",
       "/CKkwqlVo2pUjapRfUx1j0slAMWVjyoulfpuK3xoFg2VgSNrVd2lOhZtoInLMVBcGKnjUm20NPGq\n",
       "PV3p7qOWS6WrRjKmVSFtq7lUEQdMu3lkxqJU1VxqSCsilAnj6QpLH6e71HDfGuPpHAaYlFLoIABR\n",
       "zpalquNSZZhS/Vx3iGKkdGw1l8qidZmnFi2WqooudRmPMAXHUre5wKVm8sosGCIUBJ7HquhSY1p5\n",
       "uth0Va5cneZSSWktcalSQQenydLY3OGpTnSpir+ooGtrftRrh/L2ir8W+IYoL2zfFabYnu8K0txE\n",
       "o2pUjepLqp2dRKLVxk5eR/X3hZ3EodXGTiKh2thJJFSpnURCldpJLFSJnURDldhJNFSpnURCtbWT\n",
       "OKh2dvJCqvcHY2cnLwv1du84spNXhWiG8JMhlCjFchjFGjE+AjklPMeIJXGqZfE88fsP5vIfyzfh\n",
       "kr0AAAAASUVORK5CYII=\n",
       "\" style=\"display:inline;vertical-align:middle;\" /></a></span>"
      ],
      "text/plain": [
       "|- {A if FALSE; A if FALSE; B. = B"
      ]
     },
     "execution_count": 21,
     "metadata": {},
     "output_type": "execute_result"
    }
   ],
   "source": [
    " ConditionalSet(Conditional(A, FALSE), Conditional(A, FALSE), B).single_case_via_elimination()"
   ]
  },
  {
   "cell_type": "code",
   "execution_count": 22,
   "metadata": {},
   "outputs": [
    {
     "data": {
      "text/html": [
       "<span style=\"font-size:20px;\"> <a class=\"ProveItLink\" href=\"../__pv_it/demonstrations/6545fb3406afdb7ebefbd94c503bc94962ae941c0/proof.ipynb\" style=\"text-decoration: none\">&nbsp;&#x22A2;&nbsp;&nbsp;</a><a class=\"ProveItLink\" href=\"../__pv_it/demonstrations/dfd8f46d4093d6c37b8b0453d710d9de51bc3e920/expr.ipynb\"><img src=\"data:image/png;base64,iVBORw0KGgoAAAANSUhEUgAAAJYAAAB+CAMAAADxyBg/AAAAPFBMVEX///8AAAAAAAAAAAAAAAAA\n",
       "AAAAAAAAAAAAAAAAAAAAAAAAAAAAAAAAAAAAAAAAAAAAAAAAAAAAAAAAAAAo1xBWAAAAE3RSTlMA\n",
       "EFRmu5mrdkTdic0y31yFIu+vienLTwAAAAlwSFlzAAAOxAAADsQBlSsOGwAAAtpJREFUeNrtnOmW\n",
       "oyAQhUU2EXoGut7/XUejSYsCWUYsTp+qH+nFpOtLQQG3rydd9wjWdw0GB9EglQTVIJUu1crbdH31\n",
       "UJlqAGD5qxYiyMCX3/YOIq6Bn41lYMxf7AHityBvtTKdV9F76fWlxZIK/Pbn5anqMBdPx1Jg8xdH\n",
       "P4JLvEZWxzIg8/NdT/3Qo2AB5P+inCcX37ZlmIbPqRD2w3gl1jAVysUNYdVFcwuAF4rV+XipFfhY\n",
       "Wkg5daJoC4stmcC0hbV2mwlNYd23k3j3wcby9yKJaJkX4ufxeiwmAOy80fTzN48l4rZisekR1AND\n",
       "mjlCuH1RVywQmPH19adFrEarRViEVQ/rL1Xrl2NhydcnWFjytYyFJl/LnYgmX4vVwpOvJSxU+crb\n",
       "lK+c5OsJnUjyleQrydcr5SudTgmLsAiLsH4tFgP4xD6vLV8dpKTNnHjaDdUUVrj68vWQjMf6dBth\n",
       "OSeoDXc9+bpLprKuvl+ts2FrONaSr7tk09TKTRK+gvOjs3e+TtwlG/O3QKh1dG3w9bHiZB4CK482\n",
       "U8ZdIF+jZMwcK/HTokJrrWzcYv8nX5eT7Boql4wZkb/XQC9n+D7wCyRGlIxnlqwFYNUY8b9sKmHF\n",
       "ycbCxnPvhbgRK2Htksksl7tfUdEKIqrMrUMyk1u21tGeXmHrz61DsgFC+pl2+f0QbNQVH8hXVrpb\n",
       "JpcsJIdRPbbO6HjxmXw18slSmkgmn78XjCjfJ4UWLr9XI59O6SxPWIRFWJ9hkfv6Bhaa+/r97UoH\n",
       "N3JfX8Yi9/UNLHJfE1jkvp6ARe7r61jkvr7ZiXQMJCzCuhKLOpGwCCsXSUu2hWolLNkqUZavh/NO\n",
       "ypLFr1bBksXEKliymFgJS7YBrLQli46VtmTRsdKWLDpW2pLFxspYsthYGUu2Dtbr45GxZGuEeXkb\n",
       "yViydUKR/freKOo2yxWaLNfY5MfYzLNeNsmlG62Xb+ijm/4BsBA2kVT0NaIAAAAASUVORK5CYII=\n",
       "\" style=\"display:inline;vertical-align:middle;\" /></a></span>"
      ],
      "text/plain": [
       "|- {A if FALSE; A if FALSE; B if FALSE; A if FALSE; B. = B"
      ]
     },
     "metadata": {},
     "output_type": "display_data"
    }
   ],
   "source": [
    "ConditionalSet(Conditional(A, FALSE), Conditional(A, FALSE), Conditional(B, FALSE), \n",
    "               Conditional(A, FALSE), B).single_case_via_elimination()"
   ]
  },
  {
   "cell_type": "markdown",
   "metadata": {},
   "source": [
    "### Test value substitution"
   ]
  },
  {
   "cell_type": "code",
   "execution_count": 23,
   "metadata": {},
   "outputs": [
    {
     "data": {
      "text/html": [
       "<strong id=\"x_eq_y\">x_eq_y:</strong> <a class=\"ProveItLink\" href=\"../../../logic/equality/__pv_it/theorems/8dc625ee9fbf5f96228c059ed58b16ec83d4e40d0/expr.ipynb\"><img src=\"data:image/png;base64,iVBORw0KGgoAAAANSUhEUgAAADMAAAANBAMAAAD2/0vEAAAAMFBMVEX///8AAAAAAAAAAAAAAAAA\n",
       "AAAAAAAAAAAAAAAAAAAAAAAAAAAAAAAAAAAAAAAAAAAv3aB7AAAAD3RSTlMAEHarMolUmd1mIs3v\n",
       "RLtmgJDEAAAACXBIWXMAAA7EAAAOxAGVKw4bAAAAmUlEQVQY02NgEFIWCU1gQAGM6hMYhIF0AZMR\n",
       "ewOQZu8AAwMgk5XtAMN8BgbOBZwfmSeg6nIDqrVjYGBhYN/AgAYEeBQYDoEYQBod3Bdg+QKmFzAK\n",
       "oNrFUM3AdICBQe6CDQMruq7HDHxAJfmONQzX0KWKGe4DXSauxFaZgC4lHFS/gAEXiMYhzrqB8RgO\n",
       "KQ4F5gAcUmyTaoEkAEh8IT7vWgQmAAAAAElFTkSuQmCC\n",
       "\" style=\"display:inline;vertical-align:middle;\" /></a><br>"
      ],
      "text/plain": [
       "<IPython.core.display.HTML object>"
      ]
     },
     "metadata": {},
     "output_type": "display_data"
    }
   ],
   "source": [
    "x_eq_y = Equals(x, y)"
   ]
  },
  {
   "cell_type": "code",
   "execution_count": 24,
   "metadata": {},
   "outputs": [
    {
     "data": {
      "text/html": [
       "<strong id=\"eq_if_Q\">eq_if_Q:</strong> <a class=\"ProveItLink\" href=\"../__pv_it/demonstrations/3904d92c9a92fd492646f44c75d3e53aa343f3cf0/expr.ipynb\"><img src=\"data:image/png;base64,iVBORw0KGgoAAAANSUhEUgAAAHAAAAAVBAMAAABs93eRAAAAMFBMVEX///8AAAAAAAAAAAAAAAAA\n",
       "AAAAAAAAAAAAAAAAAAAAAAAAAAAAAAAAAAAAAAAAAAAv3aB7AAAAD3RSTlMAIomZq2bNMhC7791E\n",
       "VHYkqjbgAAAACXBIWXMAAA7EAAAOxAGVKw4bAAABr0lEQVQ4y2NgwA0EcMowMuADfBdwSvE8AGtX\n",
       "VnLFJnsJj6FPQYRaAQNLAqYcRwIejWwNDAxtE4CMxZhyzAF4NLIaMDBkgxj+cCHOBiiDC28ArGBg\n",
       "/g6i9QtgIuwToIxreDWmMsiDFdofgAsFQWkjIO570q6EFrZ9pgwcDgwMKgz2YIl8UJxZ7waB/QYw\n",
       "MxkYDPj8mDfAZbaAhBVuMbB+YGAIY9gP8hPHLyQzr0Hs2AsMAgHWHyyoYcR+wZqBBejIWwxgLaxf\n",
       "keMhC+zuNUBVDMzoccLBsI6BCxj99Qy7QdwuZHkxRQaoRgawGrRE84OhHhiSp4ARwXOBwQqcLCE+\n",
       "2Z3IAHMqA8N5AY4GVD8C3fAKSN1mqL8QLsq0EMnIk1B6HgND5wEvBiY0GzkdGKYAqUgGvoUPmFwa\n",
       "kBI+zNUqDAz3K6wYzqInKAeer5DIKpmkfYChAGEijFnNwND8jtcUPYtwOD3+CKT2gNUe4BPAzGrc\n",
       "BTgSDRPQTYwbIM6+hiMdYwFqDF0XYDmA+f93bEomYtW4j8EJSEpCUsMurHm9E6vGq48P4DQU5tsH\n",
       "uEsVAQYAP01sjITeNz0AAAAASUVORK5CYII=\n",
       "\" style=\"display:inline;vertical-align:middle;\" /></a><br>"
      ],
      "text/plain": [
       "<IPython.core.display.HTML object>"
      ]
     },
     "metadata": {},
     "output_type": "display_data"
    }
   ],
   "source": [
    "eq_if_Q = Implies(Q, x_eq_y)"
   ]
  },
  {
   "cell_type": "markdown",
   "metadata": {},
   "source": [
    "Two ways to accomplish the same thing:"
   ]
  },
  {
   "cell_type": "code",
   "execution_count": 25,
   "metadata": {},
   "outputs": [
    {
     "data": {
      "text/html": [
       "<span style=\"font-size:20px;\"><a class=\"ProveItLink\" href=\"../__pv_it/demonstrations/3904d92c9a92fd492646f44c75d3e53aa343f3cf0/expr.ipynb\"><img src=\"data:image/png;base64,iVBORw0KGgoAAAANSUhEUgAAAHAAAAAVBAMAAABs93eRAAAAMFBMVEX///8AAAAAAAAAAAAAAAAA\n",
       "AAAAAAAAAAAAAAAAAAAAAAAAAAAAAAAAAAAAAAAAAAAv3aB7AAAAD3RSTlMAIomZq2bNMhC7791E\n",
       "VHYkqjbgAAAACXBIWXMAAA7EAAAOxAGVKw4bAAABr0lEQVQ4y2NgwA0EcMowMuADfBdwSvE8AGtX\n",
       "VnLFJnsJj6FPQYRaAQNLAqYcRwIejWwNDAxtE4CMxZhyzAF4NLIaMDBkgxj+cCHOBiiDC28ArGBg\n",
       "/g6i9QtgIuwToIxreDWmMsiDFdofgAsFQWkjIO570q6EFrZ9pgwcDgwMKgz2YIl8UJxZ7waB/QYw\n",
       "MxkYDPj8mDfAZbaAhBVuMbB+YGAIY9gP8hPHLyQzr0Hs2AsMAgHWHyyoYcR+wZqBBejIWwxgLaxf\n",
       "keMhC+zuNUBVDMzoccLBsI6BCxj99Qy7QdwuZHkxRQaoRgawGrRE84OhHhiSp4ARwXOBwQqcLCE+\n",
       "2Z3IAHMqA8N5AY4GVD8C3fAKSN1mqL8QLsq0EMnIk1B6HgND5wEvBiY0GzkdGKYAqUgGvoUPmFwa\n",
       "kBI+zNUqDAz3K6wYzqInKAeer5DIKpmkfYChAGEijFnNwND8jtcUPYtwOD3+CKT2gNUe4BPAzGrc\n",
       "BTgSDRPQTYwbIM6+hiMdYwFqDF0XYDmA+f93bEomYtW4j8EJSEpCUsMurHm9E6vGq48P4DQU5tsH\n",
       "uEsVAQYAP01sjITeNz0AAAAASUVORK5CYII=\n",
       "\" style=\"display:inline;vertical-align:middle;\" /></a> <a class=\"ProveItLink\" href=\"../__pv_it/demonstrations/87a7efd5737012665fa593666dbbb7a5f1d41db00/proof.ipynb\" style=\"text-decoration: none\">&nbsp;&#x22A2;&nbsp;&nbsp;</a><a class=\"ProveItLink\" href=\"../__pv_it/demonstrations/90bc25daf4471aa38ab60ebe0fa06f1e898deb440/expr.ipynb\"><img src=\"data:image/png;base64,iVBORw0KGgoAAAANSUhEUgAAAF8AAAAuBAMAAAC8HNiiAAAAMFBMVEX///8AAAAAAAAAAAAAAAAA\n",
       "AAAAAAAAAAAAAAAAAAAAAAAAAAAAAAAAAAAAAAAAAAAv3aB7AAAAD3RSTlMAEER2zVSJ3Zki72ar\n",
       "MruaaVGaAAAACXBIWXMAAA7EAAAOxAGVKw4bAAACZ0lEQVRIx2NgYGBUYiANmCiiCWxWwKue9SMS\n",
       "h3M1AwNL7CcIOyPtNDYNbAVIHKYfDAzbOQ+C2SkXGHgcCGlgEGBgOANhiTwAEisIagCCExDKHUSc\n",
       "J14Dx18QmX8BuwZG44PXUkGcKWsY7qwCu2k+yEUM/VgCjAPoMQ4GG4N2MM8H5of+ABDpPwFTw6wN\n",
       "DAw7GfYLQILwDUxDPdD7DIy/MNXPcQISFxhaoFy4BrBS7t+YGnj7QEYxLEbXUA4ipLDFA98BUIT9\n",
       "ZBBE1XCegSmAoWsC9mBlfMSzgCEBVcP9gL2z2VbiSBqsfyUWMIFDheEdGAEB80oDtjNg1zIwfsGw\n",
       "odkgYiuYc2fVwTvrD0OYz9IVGCDxVoE/phG+U2CeQEzSQAqOEGzCzAtwaeD4/xebMOdXXBp4qwKw\n",
       "is84yjCiAcVlGrcRA/FlGignut6H5OlpbTkbCJZp+g0M3AVzwOmVzZeB4QhBDYwMDDwHICw/IMHV\n",
       "QEQ65IEoYgEJ83wgXkM/KFew/cWhQbibgRHkEk6vA7yn1oBZ/8BJ9xNUUXs5CNTAy7SEKAZusO0s\n",
       "B6B+4AAnZ5afDFjLNN6AdgaeB9DSBKKBHRzY8guwl2mMwBKKywBFAz9Y6f4NOMo0po8M9y+g2gAK\n",
       "CsYlDFj8ACrTgP6wYkDRAAxQVQYOXEUUSN0bVA28X7lvbsiagEsDxwEmSAnM9wCEQMBqMkMOpNpj\n",
       "kHfArFuOWYADEBgJsqf+gL3Pey6tiIEXrIK9AUtMs2Epsh8xWOJyUgqDFJbC5Q2rA64yrZjhGBaZ\n",
       "/v8XcJVp0RbYGg7XlzKQW6YBAEgrtl0e0BXVAAAAAElFTkSuQmCC\n",
       "\" style=\"display:inline;vertical-align:middle;\" /></a></span>"
      ],
      "text/plain": [
       "{Q => (x = y)} |- {x if Q. \\\\  = {y if Q."
      ]
     },
     "metadata": {},
     "output_type": "display_data"
    }
   ],
   "source": [
    "Conditional(x, Q).value_substitution(x_eq_y, assumptions=[eq_if_Q])"
   ]
  },
  {
   "cell_type": "code",
   "execution_count": 26,
   "metadata": {},
   "outputs": [
    {
     "data": {
      "text/html": [
       "<span style=\"font-size:20px;\"><a class=\"ProveItLink\" href=\"../__pv_it/demonstrations/3904d92c9a92fd492646f44c75d3e53aa343f3cf0/expr.ipynb\"><img src=\"data:image/png;base64,iVBORw0KGgoAAAANSUhEUgAAAHAAAAAVBAMAAABs93eRAAAAMFBMVEX///8AAAAAAAAAAAAAAAAA\n",
       "AAAAAAAAAAAAAAAAAAAAAAAAAAAAAAAAAAAAAAAAAAAv3aB7AAAAD3RSTlMAIomZq2bNMhC7791E\n",
       "VHYkqjbgAAAACXBIWXMAAA7EAAAOxAGVKw4bAAABr0lEQVQ4y2NgwA0EcMowMuADfBdwSvE8AGtX\n",
       "VnLFJnsJj6FPQYRaAQNLAqYcRwIejWwNDAxtE4CMxZhyzAF4NLIaMDBkgxj+cCHOBiiDC28ArGBg\n",
       "/g6i9QtgIuwToIxreDWmMsiDFdofgAsFQWkjIO570q6EFrZ9pgwcDgwMKgz2YIl8UJxZ7waB/QYw\n",
       "MxkYDPj8mDfAZbaAhBVuMbB+YGAIY9gP8hPHLyQzr0Hs2AsMAgHWHyyoYcR+wZqBBejIWwxgLaxf\n",
       "keMhC+zuNUBVDMzoccLBsI6BCxj99Qy7QdwuZHkxRQaoRgawGrRE84OhHhiSp4ARwXOBwQqcLCE+\n",
       "2Z3IAHMqA8N5AY4GVD8C3fAKSN1mqL8QLsq0EMnIk1B6HgND5wEvBiY0GzkdGKYAqUgGvoUPmFwa\n",
       "kBI+zNUqDAz3K6wYzqInKAeer5DIKpmkfYChAGEijFnNwND8jtcUPYtwOD3+CKT2gNUe4BPAzGrc\n",
       "BTgSDRPQTYwbIM6+hiMdYwFqDF0XYDmA+f93bEomYtW4j8EJSEpCUsMurHm9E6vGq48P4DQU5tsH\n",
       "uEsVAQYAP01sjITeNz0AAAAASUVORK5CYII=\n",
       "\" style=\"display:inline;vertical-align:middle;\" /></a> <a class=\"ProveItLink\" href=\"../__pv_it/demonstrations/87a7efd5737012665fa593666dbbb7a5f1d41db00/proof.ipynb\" style=\"text-decoration: none\">&nbsp;&#x22A2;&nbsp;&nbsp;</a><a class=\"ProveItLink\" href=\"../__pv_it/demonstrations/90bc25daf4471aa38ab60ebe0fa06f1e898deb440/expr.ipynb\"><img src=\"data:image/png;base64,iVBORw0KGgoAAAANSUhEUgAAAF8AAAAuBAMAAAC8HNiiAAAAMFBMVEX///8AAAAAAAAAAAAAAAAA\n",
       "AAAAAAAAAAAAAAAAAAAAAAAAAAAAAAAAAAAAAAAAAAAv3aB7AAAAD3RSTlMAEER2zVSJ3Zki72ar\n",
       "MruaaVGaAAAACXBIWXMAAA7EAAAOxAGVKw4bAAACZ0lEQVRIx2NgYGBUYiANmCiiCWxWwKue9SMS\n",
       "h3M1AwNL7CcIOyPtNDYNbAVIHKYfDAzbOQ+C2SkXGHgcCGlgEGBgOANhiTwAEisIagCCExDKHUSc\n",
       "J14Dx18QmX8BuwZG44PXUkGcKWsY7qwCu2k+yEUM/VgCjAPoMQ4GG4N2MM8H5of+ABDpPwFTw6wN\n",
       "DAw7GfYLQILwDUxDPdD7DIy/MNXPcQISFxhaoFy4BrBS7t+YGnj7QEYxLEbXUA4ipLDFA98BUIT9\n",
       "ZBBE1XCegSmAoWsC9mBlfMSzgCEBVcP9gL2z2VbiSBqsfyUWMIFDheEdGAEB80oDtjNg1zIwfsGw\n",
       "odkgYiuYc2fVwTvrD0OYz9IVGCDxVoE/phG+U2CeQEzSQAqOEGzCzAtwaeD4/xebMOdXXBp4qwKw\n",
       "is84yjCiAcVlGrcRA/FlGignut6H5OlpbTkbCJZp+g0M3AVzwOmVzZeB4QhBDYwMDDwHICw/IMHV\n",
       "QEQ65IEoYgEJ83wgXkM/KFew/cWhQbibgRHkEk6vA7yn1oBZ/8BJ9xNUUXs5CNTAy7SEKAZusO0s\n",
       "B6B+4AAnZ5afDFjLNN6AdgaeB9DSBKKBHRzY8guwl2mMwBKKywBFAz9Y6f4NOMo0po8M9y+g2gAK\n",
       "CsYlDFj8ACrTgP6wYkDRAAxQVQYOXEUUSN0bVA28X7lvbsiagEsDxwEmSAnM9wCEQMBqMkMOpNpj\n",
       "kHfArFuOWYADEBgJsqf+gL3Pey6tiIEXrIK9AUtMs2Epsh8xWOJyUgqDFJbC5Q2rA64yrZjhGBaZ\n",
       "/v8XcJVp0RbYGg7XlzKQW6YBAEgrtl0e0BXVAAAAAElFTkSuQmCC\n",
       "\" style=\"display:inline;vertical-align:middle;\" /></a></span>"
      ],
      "text/plain": [
       "{Q => (x = y)} |- {x if Q. \\\\  = {y if Q."
      ]
     },
     "metadata": {},
     "output_type": "display_data"
    }
   ],
   "source": [
    "x_eq_y.substitution(Conditional(x, Q), assumptions=[eq_if_Q])"
   ]
  },
  {
   "cell_type": "markdown",
   "metadata": {},
   "source": [
    "We can also use a universally quantified equality."
   ]
  },
  {
   "cell_type": "code",
   "execution_count": 27,
   "metadata": {},
   "outputs": [
    {
     "data": {
      "text/html": [
       "<strong id=\"quantified_eq\">quantified_eq:</strong> <a class=\"ProveItLink\" href=\"../__pv_it/demonstrations/9ce0a2894070a97b646666334e1217119365db8a0/expr.ipynb\"><img src=\"data:image/png;base64,iVBORw0KGgoAAAANSUhEUgAAANYAAAAXBAMAAACFeawMAAAAMFBMVEX///8AAAAAAAAAAAAAAAAA\n",
       "AAAAAAAAAAAAAAAAAAAAAAAAAAAAAAAAAAAAAAAAAAAv3aB7AAAAD3RSTlMAq1RmmUTNIjK7EInv\n",
       "3XZ/CtNrAAAACXBIWXMAAA7EAAAOxAGVKw4bAAAC1UlEQVRIx7VWTWgTQRR+3U2ym2675iCiUrQg\n",
       "6kGl9SJ4kRQpEaoSPXiwQkMVBEFY6UkINr14EMUchEAOZQURe6nowUNFiYoHK4WgeBEKKUYEC6F6\n",
       "SfEgvjebmdnOpMkK+uC9fMl+u9+8n5kNwF+Zp2OrO93qQmtr7qCO47WudKKQp+jLnohaB1gcW5AY\n",
       "7UsXeouCPkr4cjSp3hxFZ/trgckSfkc6p6DPUC2L0bRiwxT79pYFJjPTHemcgk6SzmA0rT4WJ3yJ\n",
       "mS12pAvKIpgonojYrn0svghhZhc70gUFfWl5+X1ErTEKh5e2cjy/8ug5luSJPhSNKZ2CfgKgLEu8\n",
       "4Zb9weQqCfwWOO3uilUBjrA7l5mxsXZy1judgn4NrJR4WrL1udrIYDezwRfR+w9sY65zbHrmrx5s\n",
       "wUE1rSGfLUihoCd9J6tqnfMg78H91o/j/OpbCsYaxzbE2FTfVbVegd3UKehGLTQagZaBWceKwdYL\n",
       "byCm5VQl7mNnxgVFyv4JbkWnkOeOYWhk6p7Qmi5g9muAD3XrNzJyS7AaJlMST3i9uI5DSr/MZkBS\n",
       "KORPr+AzvR2JQaG1jZZfsTD7bz3FSTB4w2blQgnPZQfAQXhUyQuX+XhYp5DncQ0mzNqyhrQHEqk4\n",
       "nibDyVoB4vxYYcM9neV46NZJOMu3QvhsasJuX6eQ9xSI0Az16w110jOoDluwsjbXusOGTOAHDeM4\n",
       "FeOTOhtnVk+1oQiaXbGk1j04Dx8Didv4DhI17KdVjYRw8Haq6rv+kk4RtLyTi0mt/NT8TSx4FazK\n",
       "M9xdbk0eoUZqUj1x5RHbshnfXtcpghb7+vK71LJGVnZimiWA0+MNH5LibVyC/nJO4JZdV5Ma8B/W\n",
       "dIpG4+dGPD0v9/CcuDwHZt1Tfy3p7RptQyltpmX9+IzJth6bEZet0PueY9fb9KwOU3Qa14KrNNkL\n",
       "QWey8F9s47+d3lD8B/YH05vFszWIh8wAAAAASUVORK5CYII=\n",
       "\" style=\"display:inline;vertical-align:middle;\" /></a><br>"
      ],
      "text/plain": [
       "<IPython.core.display.HTML object>"
      ]
     },
     "metadata": {},
     "output_type": "display_data"
    }
   ],
   "source": [
    "quantified_eq = Forall(x, Equals(fx, gx), condition=Qx)"
   ]
  },
  {
   "cell_type": "code",
   "execution_count": 28,
   "metadata": {},
   "outputs": [
    {
     "data": {
      "text/html": [
       "<span style=\"font-size:20px;\"><a class=\"ProveItLink\" href=\"../__pv_it/demonstrations/9ce0a2894070a97b646666334e1217119365db8a0/expr.ipynb\"><img src=\"data:image/png;base64,iVBORw0KGgoAAAANSUhEUgAAANYAAAAXBAMAAACFeawMAAAAMFBMVEX///8AAAAAAAAAAAAAAAAA\n",
       "AAAAAAAAAAAAAAAAAAAAAAAAAAAAAAAAAAAAAAAAAAAv3aB7AAAAD3RSTlMAq1RmmUTNIjK7EInv\n",
       "3XZ/CtNrAAAACXBIWXMAAA7EAAAOxAGVKw4bAAAC1UlEQVRIx7VWTWgTQRR+3U2ym2675iCiUrQg\n",
       "6kGl9SJ4kRQpEaoSPXiwQkMVBEFY6UkINr14EMUchEAOZQURe6nowUNFiYoHK4WgeBEKKUYEC6F6\n",
       "SfEgvjebmdnOpMkK+uC9fMl+u9+8n5kNwF+Zp2OrO93qQmtr7qCO47WudKKQp+jLnohaB1gcW5AY\n",
       "7UsXeouCPkr4cjSp3hxFZ/trgckSfkc6p6DPUC2L0bRiwxT79pYFJjPTHemcgk6SzmA0rT4WJ3yJ\n",
       "mS12pAvKIpgonojYrn0svghhZhc70gUFfWl5+X1ErTEKh5e2cjy/8ug5luSJPhSNKZ2CfgKgLEu8\n",
       "4Zb9weQqCfwWOO3uilUBjrA7l5mxsXZy1judgn4NrJR4WrL1udrIYDezwRfR+w9sY65zbHrmrx5s\n",
       "wUE1rSGfLUihoCd9J6tqnfMg78H91o/j/OpbCsYaxzbE2FTfVbVegd3UKehGLTQagZaBWceKwdYL\n",
       "byCm5VQl7mNnxgVFyv4JbkWnkOeOYWhk6p7Qmi5g9muAD3XrNzJyS7AaJlMST3i9uI5DSr/MZkBS\n",
       "KORPr+AzvR2JQaG1jZZfsTD7bz3FSTB4w2blQgnPZQfAQXhUyQuX+XhYp5DncQ0mzNqyhrQHEqk4\n",
       "nibDyVoB4vxYYcM9neV46NZJOMu3QvhsasJuX6eQ9xSI0Az16w110jOoDluwsjbXusOGTOAHDeM4\n",
       "FeOTOhtnVk+1oQiaXbGk1j04Dx8Didv4DhI17KdVjYRw8Haq6rv+kk4RtLyTi0mt/NT8TSx4FazK\n",
       "M9xdbk0eoUZqUj1x5RHbshnfXtcpghb7+vK71LJGVnZimiWA0+MNH5LibVyC/nJO4JZdV5Ma8B/W\n",
       "dIpG4+dGPD0v9/CcuDwHZt1Tfy3p7RptQyltpmX9+IzJth6bEZet0PueY9fb9KwOU3Qa14KrNNkL\n",
       "QWey8F9s47+d3lD8B/YH05vFszWIh8wAAAAASUVORK5CYII=\n",
       "\" style=\"display:inline;vertical-align:middle;\" /></a> <a class=\"ProveItLink\" href=\"../__pv_it/demonstrations/ae0df7f26856f1329dfc6182fb19add604ec87f30/proof.ipynb\" style=\"text-decoration: none\">&nbsp;&#x22A2;&nbsp;&nbsp;</a><a class=\"ProveItLink\" href=\"../__pv_it/demonstrations/2c62eb8238d7a0ca5647a8a1a4e00d6c459f579d0/expr.ipynb\"><img src=\"data:image/png;base64,iVBORw0KGgoAAAANSUhEUgAAAKEAAAAuBAMAAACymWSIAAAAMFBMVEX///8AAAAAAAAAAAAAAAAA\n",
       "AAAAAAAAAAAAAAAAAAAAAAAAAAAAAAAAAAAAAAAAAAAv3aB7AAAAD3RSTlMAEER2zVSJ3Zki72ar\n",
       "MruaaVGaAAAACXBIWXMAAA7EAAAOxAGVKw4bAAAC10lEQVRIx+2WS2gTQRjHv82rm+bRCD2Il0a9\n",
       "S0A9VDxEPXgR3IMHD4qCte1BMLeKVA0olFqwCwpKFRopgq2CARH1IEkogmihe/IggQQPnkSsKKgl\n",
       "6Hzz2OxjNoZkjn6EmdnJf/477/0BgLYD2hHnuQkdo7Nsz3bHw16e73RJnmY9beQyHtENmunjGXw4\n",
       "zWvDZdGbRwCRk99YeXL8HWvjkzkjVqDZuQ8GSYft6gM8D/0EeB6v0fKYBck8SGUSxwe7sI9zdvUL\n",
       "USDVa6w03CTJQ5DLfI4hNvaSXT2YaUvesOwwJuvBMrcjS6N5uzpS9jrqLUzPW4Eyl2Pi7XQRG5EZ\n",
       "13bX3p8l1VX2963HUF+hw17EQcN8Vipzhk5fOJQTb9Rhf26GvEP044iYx3lcOjhqymWOWKD9XrQw\n",
       "HSCNXkIlQ/ZIVMzVZ+F4BadM+x0ga8e9gzQ7xeaZDMmCa1hMffU6ohckNgNk7UjdoKs1YTsCLNHF\n",
       "9/VxCpNt+QCZI9JV3o4PB0K/YAsZTsHruA4hA66bATLf7lli7jnQPiZLQNYy0fQ6NoxXd2PLQTKv\n",
       "Y5wdXLIXoq2tJdIXukNofKE/PMPLudhaRibTvvsdo2yCUwXQruaOP8OR8eumvlKrP1llxU8TWbBk\n",
       "sgt+R51v1Et29W3ZPZXOhs1/y9DxRMTwHvw5qWP1WBeyMFn/y+J6SotLOd6UOep/Wl3I4j/IHT3L\n",
       "H7Sm19q9eS8a3cjuvHY83OT5aOfvTJey/6EqnDCghAVcMKCCBQQMBHzke2AB8ekGUMUCLkclLOBy\n",
       "VMICTkc1LMAv3zOj5b5YYGYKY7oNA2Ow0FTFAhQGyA5CvlDCAgwGBqvQMBWxAIOBhgH7+mMB5zwi\n",
       "DFRMSgNqWICudQW0TWUsQB1HzORG7ywAI3mfY2h1stAHCwwUJWcmUlTGAuiYqkHDUsYCCAPJ+9oh\n",
       "dSyAMECmMauQBVww0CsL/AUIv0cF68Dw2wAAAABJRU5ErkJggg==\n",
       "\" style=\"display:inline;vertical-align:middle;\" /></a></span>"
      ],
      "text/plain": [
       "{forall_{x | Q(x)} (f(x) = g(x))} |- {f(x) if Q(x). \\\\  = {g(x) if Q(x)."
      ]
     },
     "metadata": {},
     "output_type": "display_data"
    }
   ],
   "source": [
    "Conditional(fx, Qx).value_substitution(quantified_eq, assumptions=[quantified_eq])"
   ]
  },
  {
   "cell_type": "code",
   "execution_count": 29,
   "metadata": {},
   "outputs": [],
   "source": [
    "%end demonstrations"
   ]
  }
 ],
 "metadata": {
  "kernelspec": {
   "display_name": "Python 3",
   "language": "python",
   "name": "python3"
  }
 },
 "nbformat": 4,
 "nbformat_minor": 0
}