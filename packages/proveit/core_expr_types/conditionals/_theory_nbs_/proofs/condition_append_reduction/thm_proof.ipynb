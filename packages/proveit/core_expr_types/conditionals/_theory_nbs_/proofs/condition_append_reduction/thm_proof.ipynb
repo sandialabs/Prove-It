{
 "cells": [
  {
   "cell_type": "markdown",
   "metadata": {},
   "source": [
    "Proof of <a class=\"ProveItLink\" href=\"../../../../../_theory_nbs_/theory.ipynb\">proveit</a>.<a class=\"ProveItLink\" href=\"../../../../_theory_nbs_/theory.ipynb\">core_expr_types</a>.<a class=\"ProveItLink\" href=\"../../theory.ipynb\">conditionals</a>.<a class=\"ProveItLink\" href=\"../../theorems.ipynb#condition_append_reduction\">condition_append_reduction</a> theorem\n",
    "========"
   ]
  },
  {
   "cell_type": "code",
   "execution_count": 1,
   "metadata": {},
   "outputs": [],
   "source": [
    "import proveit\n",
    "theory = proveit.Theory() # the theorem's theory"
   ]
  },
  {
   "cell_type": "code",
   "execution_count": 2,
   "metadata": {},
   "outputs": [
    {
     "data": {
      "text/html": [
       "With these <a href=\"allowed_presumptions.txt\">allowed</a>/<a href=\"disallowed_presumptions.txt\">disallowed</a> theorem/theory presumptions (e.g., to avoid circular dependencies), we begin our proof of<br><strong id=\"condition_append_reduction\">condition_append_reduction:</strong> <a class=\"ProveItLink\" href=\"../../../__pv_it/theorems/625f55a86d5c39a84aaec1f6a3f3ca70711ed2d20/expr.ipynb\"><img src=\"data:image/png;base64,iVBORw0KGgoAAAANSUhEUgAAAjMAAAAzBAMAAACQ45TYAAAAMFBMVEX///8AAAAAAAAAAAAAAAAA\n",
       "AAAAAAAAAAAAAAAAAAAAAAAAAAAAAAAAAAAAAAAAAAAv3aB7AAAAD3RSTlMAq1RmmUTNIjK7EInv\n",
       "3XZ/CtNrAAAACXBIWXMAAA7EAAAOxAGVKw4bAAAI2ElEQVRo3uVbe4zURBj/bl/d7e6WxQfxeW7i\n",
       "I0aiWRMkSiK38RUUDStoiIaEJWrwEaVEolHRW4zxEZFb/zDhUGONCYmHcndi1HCKBxhOBcP6QBPj\n",
       "aQn4jMKBnNwdhnVm2um205m2SyRd45dLb7+v37Szv87M933z6wL4SE9PD/z/RO7p0XydfqgfOg63\n",
       "Xt2qkKwx/qfq9aqv867j0YO2grNDN7cMNs/RwRINCZrTnepPtzLnZ5bCgiZSCxeaaNnZnQmbIm0F\n",
       "SJw/anx+e+BEXnuRXSiPzO4vMCbllfFTu/Nu1/5woVmuOtR0zabE0dJ2uXQa+fxOBdpsKKbpN2Hs\n",
       "8Bb/NpZ/+k6AKezZSVWQDrgbZQuhQvM9iKEBNNknG5/W4t591DjzZplvl7/m34b6y3ehQ6bInO3S\n",
       "AV5R3TPq0zChiQ56QYPkJOPfvfhwVsO852S+XbmYvzRR/wS+ftsIc3Z/BWCJGxq4PUxoMn2BoImN\n",
       "4eOHFctce4Zvzyb5X8P0hznYNT3GnF0CkBzntFqohgjNfo0DjXT6zzpWHtgMK3aQGdVJOjfHGhGR\n",
       "voTKs8NUWMwNNqa/RACIjTKnkfXRHKdZIhciNJ8zegyvCQvUlBGoFtG1Zg5ZRRtjPqFGijw7AuYc\n",
       "3m2of+wg0Q47z8bH9/XP4iI6ER40SXZoL0dBQd4KMWNePU+h+QEPLvlvkKcbbisAvrXb1/UbcSyZ\n",
       "gywvq6f+WfJde9kF7jC8uoabEB8ND5o2ppNL78CPdgSyfU5o/iY9/BNW/WH4nQKwz24vwg3G9Sqg\n",
       "6Jz7UP9J5H4dTGKTQNYj3P69HB40GWaGJ69FzzxThd6SE5phfHgDTbYLjaeJPr1pt49CJ1mK16Jz\n",
       "Nc7Tp/5ZfFLexqY1OZAPcPvXoYYGTRebmKYQVr06dIATmrMgnofrVQoNTuBieZt9hgkNTviu4Cd8\n",
       "xB+F7bkQG4Lolat2K5fRwLawABF+4dxbCA2a/WwygSNUbx6mRFQHNF35S+9PDwGFJouDTdluhw+M\n",
       "GI3jGietpf7Jg9GnCu+r8NqCQian5EhSiRZzDdJHoSIc1aFA8xJwoEnpka9iROsmfziTG9LTkzUL\n",
       "mpl0M8OyJ8kqG8XrTAp9R/kv/MjL9GD5w++PAV6xH/4JJlVifYaftFOD6NF4nnrbB3HNhIZAdLYn\n",
       "NH4uTconPGjk9veW/kLiyo7TVuxsN0LMix+U8HM1oCHhaJXd/hB5/G0EJYzPV3isFOmh4Z88dWAX\n",
       "JAHaYSVkERjDqMXAwAaAa/YA9bZ3Z8SE5mojM/CCxs+lyd2iQzxo+JIqKdZa47JLRUkNetMX4GeA\n",
       "j+FX6EQQRbw38KKjJjQr8OiqekLj59JkWnO0CWhy5wEXGmx/6OkntKA3fT5SBmkEjZvL0KxNB+kg\n",
       "giah2ap3PjR+Lk1uFh1kLcqgyDdWR+nhI0s2ce076/XAN51Tr0A8h4b+0t8A1gcZ1giaKApVCe9l\n",
       "2M+lybp7zLUzdVD4AL/LN2UX72tusSm6j/MBGqE+Gx7e7hOhfFyaE+Wwy7TsBGglGafQoBprjQ80\n",
       "Pi7NSXoCWly2UWiWgsRk7o/OLkU326Fxuiib9qp8BUTmWw69be2Ux1oemmEKTUpL2zbJkru7S5Hc\n",
       "RrjODo3DJb4YpCGuAiAyKzVI0OzBtd3WcvIdhSai25fYq1AqFZkZgz47NA4XHEqv5SoCHwxHEVLl\n",
       "/x40UEYpNS29FFxaRR6frzugIS6wbua7OJzgANNBY4tdsYUc1pzJw4JKoAnVCmydNaHgrbvBKr1e\n",
       "J5lHZeO5Tmiwi/xNEscWwnK8T0eAXbENEtbcuWdvwbaH5CGtwNZZyzAszzVKr3kGNDGl6oAGu8SK\n",
       "SZyakT3vRSCRkGUqc/c6+2+aG3I5vG5hrYx55YPB2ToO7eYavRwqT0TN2WSzBU0bHupm6TW9u7s7\n",
       "H6nIfWUHNNglU8IFPWRQf9DweZxUvaYyKDvXD9PckJMgMiJO+UQ1gwdbJ6DdGHE1IntYfGrOJoec\n",
       "mxJm6fWsMWpgru7alOhVUzNQxZAqxjXM8BFoTEVNOlN90zzt7Glz3yOGLZC2PCKjQaHxYOsEtJtT\n",
       "XI2MbSCdS83ZLn3EAQ0tvVK4YIuWQMm5oMmoXfO0dSgoz/jlNiDQNJRUCSlyHz2Y5ouqmdJUbJEm\n",
       "oK02n6YHfwaGBoRsnYB2c4qrkbGTVuFTc+7y0hy7Zukl4b2f5xabezQOaOJXXrQBVuZhWftkTSXQ\n",
       "NJRZWEkOwUoVH6g5VVkLV0ByC/x6REvepzvGa3PQuFg5Ae3mrEFdjYiIqDmm/nXv8q3r7i557fLh\n",
       "BewmWTcmFFXSmm4oTp8sTIVaASLMLb72g8afrRPRbg5xNbIqJC41xxR5TW+AxvGE6zxTg1Xb8w1l\n",
       "Sb1mKE6fV+FHaFeBDcdnMPoNw1gM3i4gWyeg3ZiNCLaR0TsRNddIPUaOCZoo6dEukeI2I2FDbIfH\n",
       "BlRAts6i3eSBycKr0UbMuBRRc434Wj0maP4N6RJnFUHZOot2i1EUOUIbOSUxKKLmrImohwZNRjzT\n",
       "A7J1DdptUkka88z332DzGjE1Z43q8Ci62KB4rQnG1tloN00MDW007dJ9uT3WK6diao7KmRAaNPFR\n",
       "7wjlx9bhJYTSbqSF7L6O1mgkX7IVpf67wZeaoxLi6wCEL/KAxoetIwwbpd3I26yYYyNWi6QjH8xG\n",
       "0voyjMFs8KXmaBQJ8SUSrxAVhK0bJsPGpN1wmZv9luJtkXTEx2zUpqM65gvwpeboMhbmq0fsC2te\n",
       "2XCjLrPYOsqwEdptGTwIcIE7o9UajTIVpSqNVHypOboYhfnCWnTiWKCx2DrKsBHabfXT1wG4oU7b\n",
       "GnWicROtFn2pObDW/vCggXvESfqgMK5ZbB1l2DDtlqnXR0DWXd7rbY1uhIQqtWu+1JwZJCZChWal\n",
       "sPANwtZRICzaTXF762wje0NPyeZDhUYR3zZ0ti7kF/HZn2+0kMTLwaH58nj8VCyRb1VonjSimNyz\n",
       "3h+a/9lPxe42Q1u9Xv0H2q43EodB+/EAAAAASUVORK5CYII=\n",
       "\" style=\"display:inline;vertical-align:middle;\" /></a><br>(see <a class=\"ProveItLink\" href=\"../../../__pv_it/theorems/d66601b9923d4efb4cd05da7af9a024b24c12bba0/dependencies.ipynb\">dependencies</a>)<br>"
      ],
      "text/plain": [
       "<IPython.core.display.HTML object>"
      ]
     },
     "metadata": {},
     "output_type": "display_data"
    }
   ],
   "source": [
    "%proving condition_append_reduction"
   ]
  },
  {
   "cell_type": "code",
   "execution_count": null,
   "metadata": {},
   "outputs": [],
   "source": []
  }
 ],
 "metadata": {
  "kernelspec": {
   "display_name": "Python 3",
   "language": "python",
   "name": "python3"
  }
 },
 "nbformat": 4,
 "nbformat_minor": 0
}