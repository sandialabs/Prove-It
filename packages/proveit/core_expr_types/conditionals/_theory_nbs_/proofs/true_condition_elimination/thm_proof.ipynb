{
 "cells": [
  {
   "cell_type": "markdown",
   "metadata": {},
   "source": [
    "Proof of <a class=\"ProveItLink\" href=\"../../../../../_theory_nbs_/theory.ipynb\">proveit</a>.<a class=\"ProveItLink\" href=\"../../../../_theory_nbs_/theory.ipynb\">core_expr_types</a>.<a class=\"ProveItLink\" href=\"../../theory.ipynb\">conditionals</a>.<a class=\"ProveItLink\" href=\"../../theorems.ipynb#true_condition_elimination\">true_condition_elimination</a> theorem\n",
    "========"
   ]
  },
  {
   "cell_type": "code",
   "execution_count": 1,
   "metadata": {},
   "outputs": [],
   "source": [
    "import proveit\n",
    "theory = proveit.Theory() # the theorem's theory"
   ]
  },
  {
   "cell_type": "code",
   "execution_count": 2,
   "metadata": {},
   "outputs": [
    {
     "data": {
      "text/html": [
       "With these <a href=\"allowed_presumptions.txt\">allowed</a>/<a href=\"disallowed_presumptions.txt\">disallowed</a> theorem/theory presumptions (e.g., to avoid circular dependencies), we begin our proof of<br><strong id=\"true_condition_elimination\">true_condition_elimination:</strong> <a class=\"ProveItLink\" href=\"../../../__pv_it/theorems/dfdfde917b38e9d3835ee0574a0f576076b03f5b0/expr.ipynb\"><img src=\"data:image/png;base64,iVBORw0KGgoAAAANSUhEUgAAAvgAAAAzBAMAAAAQvGGOAAAAMFBMVEX///8AAAAAAAAAAAAAAAAA\n",
       "AAAAAAAAAAAAAAAAAAAAAAAAAAAAAAAAAAAAAAAAAAAv3aB7AAAAD3RSTlMAq1RmmUTNIjK7EInv\n",
       "3XZ/CtNrAAAACXBIWXMAAA7EAAAOxAGVKw4bAAAKe0lEQVR42u1cDWwcxRV+vr/d2z1fDhpVhCbm\n",
       "qqhggRJONJFw1OKjkDY0RTERbVUaKUd/lEKBnEWkKm0aH6gKqDLxpW2qxLR4UyTUOtRxEkAUA3FC\n",
       "i6Go4tIGVKVxe1ECrWvq2CZuHKf1dWb2b3ZndrwU30VrGCV7+2bePM9+O/PmzbvPBvBVlO5uDT4s\n",
       "s1m6u7t9atZXKtmLONBdcwh0pVP/7Kqc9wt+y8Ucb11mLk35R0wf0hQI8D/mmjtfDDT4oVKQwA/n\n",
       "nPLbd7ja3woW+vuDBP6WvHPmTNFtyCN9rUMf3fdW73f6J+mpvo/MZJzViQySkjLEocqO3T+i25kK\n",
       "tiS7zi/YnfYEMxMg8P/qFNUSJazPQrjUSryo+i2Ajzo0nylAXW4G41ydUJkS0L7YlgJRBVvmFUEa\n",
       "8/Q7vw8O+OF+AfgK2o51IJS70CVBx2RPFNHlt2LjfB0afHkaIH4OBBWc0oEMdOW9Wr8RHPATvQLw\n",
       "cSykAx7D1XWjVMO9+HKF2DhfhwY/OYls01gzFZxypgCw0RP89fnAgH9G8wX+mgJum6R8N7k/VBDZ\n",
       "9tChwY+h99lRBEEFp2xEC8Q7jI+lAgP+UeCA3/riVrJd3pOSFx7GzyKRZ41M2HptBKA1wpF76NDg\n",
       "Y/d91O3Pj84wZjSY73tvC0bIEADw5Un3bEX7Y3QAujRjEuk+PzJORModrCHhhvfiF+jQ4K9/bHi+\n",
       "Y2UwFWyJnh/Zv0pwyJ0OCvh1/e7IE0VqT2bgViLETfDryWza1w+Pm7HL3/DbUf4De/df7mnc1BGA\n",
       "fyivLEBallmjQum7RPM0q56DPZ2CZ/p5UMBPuJZv6zfxjAX4ixP8eeQdNWfkEXNLIJCG34Ws8Z54\n",
       "xdQRgH8Pst0LtlmjIgKRkrdTR4O5IHim5nxAwO9wJXbkW9CMexWUCdfMx1AoL1On90F8eTIHE9Dm\n",
       "6SVMHQH4KFzfl6LMGhXzWqRJ7zA/BcqY4Jn2ZQIC/hm3Q0Z4I6cZHnWCj4LMtRAZoFC6AqJp+EIe\n",
       "VgjAN3WWXT+SOrWLB34ULYtrs5RZoyKsCcBfn4HQWcBWs4LVHADwfwZstKOMo2PpVQ7w5fHwQ5nn\n",
       "8wZK2B13pK+/Xx3AbS+Qw5i7UDrK8pfgMJy01HTwiU+PoL3kUFkmZhW6goyDbxXWaKBOww+R1QHu\n",
       "M8VLAQH/VQ748BgsyZJJFS/if7i8sxXIzkpQ+jc+DA2UVbIpysfRQs8ZtfjGlgwdqScHk7DaaDXA\n",
       "JwqwBWHdXF5LzJJWswKnhi07lmlyI72uQXg6ehWySsIA3RL9CKM6+GTaLPYBfh0ZVc0z68pZHvh7\n",
       "hh9qwL4EBfm/XDhG5qm8oO8NkI2ZP4hBf+DRF1oAaW1GQj16AXAMP0nWvNA6dWW5H/5oqCHXQh4T\n",
       "K6h9fRmI3JchZnGrVSF1UlZt07hTX99BgM+eQlajeqh2zJ0xmdDBX4k/NvgAP4Infyxf8zB/mgc+\n",
       "v+yEvxvgh/QwMN6SzIOUldCor2aPOpROopAsSqMFp1qIjiWJWbp1E3xHYFV37YVItuD9UE3wAF4m\n",
       "RR/gy3iNbK651wmN+wd/RyhnoKSae/OVaMwP/wAB0ssG45ROG5ql4WLWqaaCG3yqVdr18OcFVvXz\n",
       "M9Q/WPBezk0Qw2sr7cfn340+D9Q+p8nEFMl+z/NqpQDSMxeQF+oxDsMV1Pv1SgU9bpnRpnVuQ2ta\n",
       "atCcaj3UPTFLtyYqlVGBVVJug+RB/kjHdPDDyL3FfG24n0SfuZqDn2Tyh9K4l+4jR8w7AxT5hDmt\n",
       "kqw2o+NWY5BNzljB6eSV+yHRzh8GB1/zBX5icPBEb83BV6eYqk2XQtDLywb4qwA6fYEfKUBcq/kw\n",
       "I1MwB8ugAX4rSPzkp3TsafhUygYfqbVSzcMjn/MQ7FX54mk6Oop2rb6xlyvY5Stnn3JyFRxfj8yZ\n",
       "csIAP66pnBPU9gU74eOqFtGoQ1YnPG0rfClPfbHtEGywN4DkOOH9y/oGzS3Y76sEsewHB/xQmbPf\n",
       "RnA2enE5q9In3KXUfosjr0iRJ9hlCfp/C10xH+CnfMHGOgvx3AfH7UDuBhTQ3bT9ZLIJx6To7jTA\n",
       "KdzY+ImtDvBjYbSVKweH8RzHuaqwOSkdgu22cJDYTNccgegrfMGO4NKwzhEaq8JvS4PKnzI3XDiA\n",
       "AvjH12USqSR28Pgur5Bp3Kj+4qs0+OqVyAn9Ot+BwcccDdUMuB2CPYnxDH6efhvTN9zEF6hzyanT\n",
       "zgxGclL0EEHlTx02wd+CMP/u2zCvEMEbIL7T9NxGI2SHaPAl3OVmaMcVODqNpUjaxBSiS1c6JzE2\n",
       "dyeNTEl5FEhOxBLWnnbtN5+GX/XOcMiij51V5k9xGFJiPpRHJ6acNcGvw8u8AWFaT2w2wDoI37Ub\n",
       "9W6EvTFHVvMy9P93OPMK8BLOx+blJZotJGCfE3z0+PI5pz+/FuDB45TQr7i81XwIOWtCE6JDQPX5\n",
       "UwxDSsiH8urk9pYXTPBJeQWGoE3W726W5V595keXOsDH3c7BjzGv/CdwB/wJ1ZNn1QVJXxNWiWej\n",
       "Wn0Gli1etvZZ059jL3ScEvKyy1sdwf4rvPI6a/rL7/oFvyr8KZYhJeZDeXTySKwZK24UzfimCOzF\n",
       "d39u1I9dy0Gf5TT4MCBPrFB6Ycv9PdsyBHxbgJ1Y2KtfkKWBFf/4OoqRiomWawDJ0KbBomgeg28L\n",
       "8Ra7C7pIU1BX+nJoCErOFeoHfKgGf4plSIn5UB6duNlCE/xoCjZA6z+hPY3uhjOwGf0E+c28nsR3\n",
       "gH/7dcMZ+QhIN568XCLg2wI6AiOhPS8PoEt7GjY1XKIheAtPwGcAWU52PQfbRsjMt4VVVBd0N3RB\n",
       "k+8rw2WSvfzffO/gzyJ/imVIiflQHp24CSvmmyxjK1F+s3unO71Avzn8vrI9utuxhOeSumBbul0p\n",
       "Qz1cA6WMZVl3O6agamWqi3VXSi63EhkLZwK/qvwpliEl5kN5dHIHgqM88KOad26HKjjAk8aOg/zO\n",
       "AVuIVf6rC7altkUa7IG3oCFvW97+WtoWNlZKdhfrTkmF7FRss2tItxICt/5s1edPMQypGfhQ/E7M\n",
       "aabIAz8MvsAnYdy9LV6CZSn2Bt9ymDHmuqM3OEFcV33+FEOZMvhQIktmJ8EqK3Pdjj/wa1kS3mu8\n",
       "BvwphjIV6yd8KJElo5OgBIY0Fen3jtiqz59iKFMGH0pkyezkXRZBQMCPTnj7/KrzpxjKlMmHElky\n",
       "aVUkS8YtgSHKMrwLZ7RTXf4UQ5ky+FAFYon163QnkiXjDjscGIo4E+64Qs33x5+yKU9c/hRDmTL4\n",
       "UGlsyWnEYmOZnUiWDMBiYlFoBueXIxK9QvDfJ3+KrCsv/hRDmbL4UMQS7mYZ0dlYdCecJQOzxRGK\n",
       "BufXgsJTvk+4dplt/pSbMkUshdg1SevgLBl3cDsgMODDt/8P8GeZP+WmTOmWVPbn0rQqkiXjbchT\n",
       "AQK/3fNkWiv+FEOZ0i31sBsupaNnyXhgpgMEftIzR1Uz/hS/H/sWk36eJ1C//u/+wxdUCSJ/Kpp7\n",
       "r+CvuJh/7CiWhjlUtulIdncP+QX/wz92NFtFuVv/7Kqc/x8uQEPCxdIO4QAAAABJRU5ErkJggg==\n",
       "\" style=\"display:inline;vertical-align:middle;\" /></a><br>(see <a class=\"ProveItLink\" href=\"../../../__pv_it/theorems/0ec8f2cc0d4f80b2a925259a7024509be2bf08ca0/dependencies.ipynb\">dependencies</a>)<br>"
      ],
      "text/plain": [
       "<IPython.core.display.HTML object>"
      ]
     },
     "metadata": {},
     "output_type": "display_data"
    }
   ],
   "source": [
    "%proving true_condition_elimination"
   ]
  },
  {
   "cell_type": "code",
   "execution_count": null,
   "metadata": {},
   "outputs": [],
   "source": []
  }
 ],
 "metadata": {
  "kernelspec": {
   "display_name": "Python 3",
   "language": "python",
   "name": "python3"
  }
 },
 "nbformat": 4,
 "nbformat_minor": 0
}