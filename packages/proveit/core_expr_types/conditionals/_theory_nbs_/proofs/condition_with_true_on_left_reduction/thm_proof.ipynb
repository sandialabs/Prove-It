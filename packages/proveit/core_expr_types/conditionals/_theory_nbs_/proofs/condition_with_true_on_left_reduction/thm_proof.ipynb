{
 "cells": [
  {
   "cell_type": "markdown",
   "metadata": {},
   "source": [
    "Proof of <a class=\"ProveItLink\" href=\"../../../../../_theory_nbs_/theory.ipynb\">proveit</a>.<a class=\"ProveItLink\" href=\"../../../../_theory_nbs_/theory.ipynb\">core_expr_types</a>.<a class=\"ProveItLink\" href=\"../../theory.ipynb\">conditionals</a>.<a class=\"ProveItLink\" href=\"../../theorems.ipynb#condition_with_true_on_left_reduction\">condition_with_true_on_left_reduction</a> theorem\n",
    "========"
   ]
  },
  {
   "cell_type": "code",
   "execution_count": 1,
   "metadata": {},
   "outputs": [],
   "source": [
    "import proveit\n",
    "theory = proveit.Theory() # the theorem's theory"
   ]
  },
  {
   "cell_type": "code",
   "execution_count": 2,
   "metadata": {},
   "outputs": [
    {
     "data": {
      "text/html": [
       "With these <a href=\"allowed_presumptions.txt\">allowed</a>/<a href=\"disallowed_presumptions.txt\">disallowed</a> theorem/theory presumptions (e.g., to avoid circular dependencies), we begin our proof of<br><strong id=\"condition_with_true_on_left_reduction\">condition_with_true_on_left_reduction:</strong> <a class=\"ProveItLink\" href=\"../../../__pv_it/theorems/2801b6f179a708df38d82f1895cba20bef2b8eb60/expr.ipynb\"><img src=\"data:image/png;base64,iVBORw0KGgoAAAANSUhEUgAAAiEAAAAzBAMAAACzuMUNAAAAMFBMVEX///8AAAAAAAAAAAAAAAAA\n",
       "AAAAAAAAAAAAAAAAAAAAAAAAAAAAAAAAAAAAAAAAAAAv3aB7AAAAD3RSTlMAq1RmmUTNIjK7EInv\n",
       "3XZ/CtNrAAAACXBIWXMAAA7EAAAOxAGVKw4bAAAIjElEQVRo3uVbCWgcVRj+Mzu7MzvZTLYeRaPG\n",
       "BQ/Eao14oAXT9ahaq3RttUIpuCIlWindoghqNBsRD4xtCgrGAxaKhSa2WatU6WVq1CgqpocKYuyW\n",
       "Sg+PWtvGxHrE997Mm8y8Y2ZXy2zEn2R35p9vZme+ffP+45sFCLDu7m7435jR3V0IBO0aO3r8PvHF\n",
       "iUrFaouI+NhYZyD2i+P4uTVN3vXXMhOFEf1reyESLiOneVfNhcwQba4eQxdWhZFI1rt+kYsQrR8g\n",
       "dt4wWrplCNs2uuGRWW80iQ6mvbXxxEo+PABfm6wGI6057/pm13IUzVZXaQ3WylTXmd4DMNl95il7\n",
       "YX0earICP3ulEjxnO6rByLcgZwTQeJlEl8cZMe5FL4n0OGyNfVWr8Jm/z/tZk+E5u6AQPiORPj9G\n",
       "kJ3EMxIbxBPyoXHMnpOt98X45Uzez5oMz1ksHT4jiWLljMzO45E/Oo4ZfIa8qcT1bp71cybDcxYd\n",
       "CZ+RnwsCRrTT9pXw8oNbof3TSSwj2m/kcoadXZRijExGbeTEZ2dYP2syvMDuCp+RbazjevS/IBc/\n",
       "Rk+In0fUw2RAj4yP7ZxCRvdsMmEuybF+7l6Q4AVmRb4wGdFH2XiIAq7RD+ogWVshYqSOsNXbByvt\n",
       "CbIdgORSu/DpG39AzxsNHj9rLN7HekthM1LDTKzaZDSG1UNQV5QzUk/2md6kH7Rog1MADuJ3cm2R\n",
       "I5CGWzx+1li8j8UHw2YkkWQcT7yEnJ3Qm/EZI/gsjQ/RfGAxYqChsgYvDOGX17MwDG15t5+t3Fi8\n",
       "XygcCZuR5VzquYIM1ekgZwTF3TmgDjiM4HxLTZE4Gk3BzTmYZjHi+AX5mQd/6RUHk3vE9aZxJGxG\n",
       "fuamNRRrelMwWckJGTHw3HM48lTTppzDSB2+2/A3vTx1xf21A04Id/yMsXjjsn7YCrvFJ7g1bEZe\n",
       "AQEj8ZKyUyUrXeTPxUgvvpIfHwMyd9qMNNOWgjlQqp1UcIpWx2/8au9JFji8tjYLozALnOO77VWb\n",
       "EXJ3n+XLSBCkPPtYxIjR+M7S/SQofNrQ/nmjvWEu+X7xteqnbvwCdIcREliWEfzLmzOAbpiHCl7/\n",
       "Trxn2l7g8TUlvQ+2W+OHDdfv2ozMwO8tvowEQcprTx0VMeJn51tvL8A+hxFPbMiYOdDSWq7MEyD4\n",
       "RN7s1A6JU9fpGYuRdnyrdfoyEgQpLx35q1JG7KR/hZIVM5I8Fw2Rp58olMsIxrehURLpTIun/pLF\n",
       "SKwgL6VtRoIgZZlymHP96D+oSnZpM5YHbf3vJXa7OoZSvs/Hxso9AYK/FWWxWqOYxN60xUgEBcWY\n",
       "/8waBCmv8h3lXG2+LJv2+3PvSQbdN5V9SYH4+qQdaz4bGvokINYEQMoyc4Rva139bwfecbX6TpuR\n",
       "GwFeCmAkAFKW1R6DCW6JrM3IUtCY/PrRWZnIVjcjXoi55bvx+f2HgzeIjs671QnPCCkZMCPxQq2r\n",
       "baDv7sooyQ1wk5sRDyTaAtoAXZmX47qnEre7ETZBGemzGVFK7lnzOhSrlWYVim5GPBDcx59JAwii\n",
       "VeXjssj9H2IEsijXjVy7bLd5ZR5MXI4pj99R8jBCINDT/DaeDnHMmE6jBeIvwl+qyO1/1xi3T6C7\n",
       "BtYtAli5oCmRNJOwmnzF+Q3neBnBEOMrHYcL0uLfZG/EukFtH3dskbt2xO9s9s5nHFUQs5yZFVrR\n",
       "rPnwXqjPq0WrolDyqtnpYQRD1LSOL5L0j+8CjQQfHJNjyejUGd5jW24m+o76pW/HmN6aJWbJdadK\n",
       "9SupEMY2cAgjNTjNb4QOqEvB5V1dXSklbxSzHkYwJJEx8S4JdGA0WB4nNWc/Tn5zCej1HttyB2Zo\n",
       "rgHkTtLdYpZMp2L1qHWS41I8K4QJ85G0pxvwERyANh2etcYIzClx3YDeXHwaSn/j6WihrsluXz4P\n",
       "82EHaIhNj1nuyDWXzJjiFFXKcLmMuMQsmU7F+o0vxceleE4IE2bxRTcj2iE0Sq5UUZzF3gyYSY6R\n",
       "RG753EIPirzT9t8NmBGjCK33r32yidSn0IPX8YvjVg7AB4ozH+lHymYEHOlGplOxfvNi8bRD8ZwQ\n",
       "5lfp2SM1icr9pd+Dhtsrz7XYPREPI9Frp74JHSl4oHFSIYcZ0d9DefjuBg1NMWgkdKT0AejI6QPj\n",
       "7heNrKvVd7RyRmQ6Feev08WlOdW1OCFMZBelhD20nq6ujF8PDe91Gy5L0V2jYJ7SawE2mPYW6/6g\n",
       "7kGlWBdx9vwyiBFezJLpVJweNUXcvqF4TgiTtz0r7ipG8V3VdkYBln2SAhwxtV++htjYn/YWYtRt\n",
       "JM1MzT5n19PZtJ48FTFEBqOK73dezJLpVJwe1QJni86d4jkhTGhn/qM+K/nKY7aPhLPFGdcW3u1q\n",
       "Ufm0dlqbhGIW1Z2Myy2YTL/Sk1AnOjrFO0JYcNszVHVCXvovXQhCMYvqTst+snAy/QolB2ZJcFyK\n",
       "p0KY7/lpf4XNCKdgucrLmQWhmOXoTtYzUTL9ClahbYOC0oDiHSHMt6UVuoKl9snnkXhSKGZR3clm\n",
       "RKZfkfzsGnF+RvBUCKPVm9BqQlc5o8P+sUYgZjk6lcWITL8CfC0PCko3iqdCGK3exClrKWxGLAVF\n",
       "zohAzHJ0KosRmX4VwdcSz7v0K+vFwVMhjFZvQBUufuYPlRGfYIMZEYlZVKeyGJHpVzWEnBK49Cvy\n",
       "Mo6nQphdvQm/H+vxluo+deWTszpGdCfnaVPGX4F+ZQlhdvUmvKmr8NRV5Ng/YQTrTiJGKtSviBBG\n",
       "qzfxB4XPCNwn3WJKkyeiOz2yZIvQX4F+RYQwWr2J7M5CFRjpkA5x7bA0VZHoTpXqV1IhjNp2qAIj\n",
       "pvzTHjihyk3W6jwFzv5SYCLZPCibkR3H8RdHsdREJURfZOX93WuDGfl//OJolTWv4l8c/Q1fvwJ8\n",
       "wPnerQAAAABJRU5ErkJggg==\n",
       "\" style=\"display:inline;vertical-align:middle;\" /></a><br>(see <a class=\"ProveItLink\" href=\"../../../__pv_it/theorems/8990fd319856a6b6e87f712cf047cb89ba09e5000/dependencies.ipynb\">dependencies</a>)<br>"
      ],
      "text/plain": [
       "<IPython.core.display.HTML object>"
      ]
     },
     "metadata": {},
     "output_type": "display_data"
    }
   ],
   "source": [
    "%proving condition_with_true_on_left_reduction"
   ]
  },
  {
   "cell_type": "code",
   "execution_count": null,
   "metadata": {},
   "outputs": [],
   "source": []
  }
 ],
 "metadata": {
  "kernelspec": {
   "display_name": "Python 3",
   "language": "python",
   "name": "python3"
  }
 },
 "nbformat": 4,
 "nbformat_minor": 0
}