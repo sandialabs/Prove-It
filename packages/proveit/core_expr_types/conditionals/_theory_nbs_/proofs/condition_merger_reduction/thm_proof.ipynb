{
 "cells": [
  {
   "cell_type": "markdown",
   "metadata": {},
   "source": [
    "Proof of <a class=\"ProveItLink\" href=\"../../../../../_theory_nbs_/theory.ipynb\">proveit</a>.<a class=\"ProveItLink\" href=\"../../../../_theory_nbs_/theory.ipynb\">core_expr_types</a>.<a class=\"ProveItLink\" href=\"../../theory.ipynb\">conditionals</a>.<a class=\"ProveItLink\" href=\"../../theorems.ipynb#condition_merger_reduction\">condition_merger_reduction</a> theorem\n",
    "========"
   ]
  },
  {
   "cell_type": "code",
   "execution_count": 1,
   "metadata": {},
   "outputs": [],
   "source": [
    "import proveit\n",
    "theory = proveit.Theory() # the theorem's theory"
   ]
  },
  {
   "cell_type": "code",
   "execution_count": 2,
   "metadata": {},
   "outputs": [
    {
     "data": {
      "text/html": [
       "With these <a href=\"allowed_presumptions.txt\">allowed</a>/<a href=\"disallowed_presumptions.txt\">disallowed</a> theorem/theory presumptions (e.g., to avoid circular dependencies), we begin our proof of<br><strong id=\"condition_merger_reduction\">condition_merger_reduction:</strong> <a class=\"ProveItLink\" href=\"../../../__pv_it/theorems/37420e860ef29dbee54c7df8aa4ffd40fac9480e0/expr.ipynb\"><img src=\"data:image/png;base64,iVBORw0KGgoAAAANSUhEUgAAAysAAAAzBAMAAABlFIoEAAAAMFBMVEX///8AAAAAAAAAAAAAAAAA\n",
       "AAAAAAAAAAAAAAAAAAAAAAAAAAAAAAAAAAAAAAAAAAAv3aB7AAAAD3RSTlMAq1RmmUTNIjK7EInv\n",
       "3XZ/CtNrAAAACXBIWXMAAA7EAAAOxAGVKw4bAAALW0lEQVR42u1cDWwcRxV+97/es89XCKgpqTkU\n",
       "KFZDkqMkUhtBfP0JpApVTFSKKJFw+VFoaZuzWiEFQnxFqAXJxC40iKS02bRSRJPGdpK2grpt3BRw\n",
       "ogrVlDZCoYaLkhaMi/Nr7DjgY352d2ZnZ/bGSHW0dp6iu513b9/uzjcz783bLwbQEnPXLgsuybTI\n",
       "FPq6rlIpXMQ7/cWswOMpikZNpdKpC0vzxbzfSH5WwGIctQ9i4YDlQ8Is/+IMxWVhqGCJtXjb79wu\n",
       "/P72DIElnQ0TLBuLnmZ0gv8NrW9f66B3971Ve6WrXeqZ3vdP5Xoy+6HKw1t/KrHNbD8/d2tO37fK\n",
       "D5U/hQmWvwpjaoBrfLUAsYFWEivT3wL4IG/n9NZzJYi0SPTiWFXYUzkP0JZlzX3OQX0npE5L9ILs\n",
       "U/jxyies8MAS6wuAxUQJAX1K8070Ucvli3vsrt2JH/K3fr0oKnsajidRijTGLnvEOeooA2wv+vVC\n",
       "ODwi9yNIshAeWGp7AmDBeRp9liRWR04x/fEP0O978MeH/XpRVPZ0sRpHV2Ddmfmk0yEnSwDri369\n",
       "cLqjF/wIkhgLDywnLS1YVpfwb+NMP/Bj8hUnqgMlUe8TlT0FHeHdwXqrznCO16MZcF6iF/rP0Qt+\n",
       "RLkjPLD8ESSwtL60iUTnu7PGvJfxKpYifRMfZZlBT5IM4jbyjKubRb0oKnsWQrgbWQDrWKz4flai\n",
       "94qrF/yIstgKCyzGuKCIoxiQ6Ift5AmSWTu2xM+QJlsfksUomUarSSRn64yj963rCns7tXh8eA43\n",
       "gdbBR+1l5/zI3pUSvSCuXvAjSnc5LLBE+sR8GWXBT+fhFlqpcGCpI2lzdx88aUfuBwDIrvlvGD7z\n",
       "P7B77xUevSiivVcOFM256AfbuZGFOrq0psdgxzZwnDO9MLRcve1HJTUDYYGlVkgnW7+JhzTAX7yw\n",
       "1BP0mvLGiB16LgcYwd+kg2NnoWAD6ehFEe29cje6Qg84ziMlyJTpHEOXvQCOc6YXhparp37UWedY\n",
       "WGDpELaIxs1otB0Gc1SYLbjDzN+jGEF7zkTjeg8+GMQfT7fAKLSVeL2Ywor2XkFbk+6s63wnsqdH\n",
       "9Vkw0W+2c6b3CtPbflRing0LLCfFAI2QMCchdsoLC0qN10C83+05vDmM50iqm8jB54uwjPacq5ds\n",
       "Jj32S64dyR53StcJ1F2LC65zvDm8gcaKPETPgeOc6f2byRs4P7EbN5+QP+3LYYHll+DPxMwzaB/+\n",
       "cQ8sxpnYQ/kXim7P1eHsDI/5jty196X7sepFj158QsHeXPoK6qNjZMOKAEOR60DZcJzjz+/QtNyC\n",
       "9CSUbOdML+Tejt728+TafK00HYTHwgLLYQks8DgsLJC8qaYT/8Py7iYgcdfuueX4Aw/2TH85fRmO\n",
       "srRu7urNf+MUocU+8NmnulpgHFZRE9iIurOpvMZ2HsNxogZPj9RrFsQm0fQizpne9UvOZnrbz3ff\n",
       "gXoS+LvFAXLAhoUMtfkasERIcj/tbz7MczJYdgw/1IAfE21afjXvNImmxtzeN8FwYSGZ0WaSYj36\n",
       "YjMezxssr/4N/FwF+8BvHykbffA6MkEdnu7tzUP83rztPEJQxlft7d0P8NnjtnOmd/2SA1fv+mmA\n",
       "tbRfxVy9qZnCsoKm1dVhiTeT5H7aty2TMljksgX+7sLiiUbNmSKkCindmyf2taVMZ+oUgvNqfs+p\n",
       "uPYUnBM5BDcZ8gSnTGF5ADvt1IDFwPNqw7SvYdEz+rA8HG2Rw5K9Ct36j35o6cKC7dvQfIl1otHc\n",
       "owHLFJwTFE/Bnxvl+8kChSVpqUvd3thyF6jr1u9h/XjcV/brU9murpQg9dwF384hXkFOXqtUdK9J\n",
       "7L+AloZUgwUm507mnMgUnJOELAvD8nBQn6WwxNDPSa2Q/yn03TLtsGR85dbUGZXtTw4qFsK3clO6\n",
       "psc+M62PW99pZ2J/GBx8VQuW2sHBt3qmHZb0hE91//tgxkptiw3LSoBtWrDES1BjTft9xidgNgkp\n",
       "VmBYWiElrwak3ngWPp1lsCCzVu7n4ZHPKRps/r90gs9PEttXXd8jbTD58rlnvDwX/sXWbIClz4al\n",
       "xkpL9oqb526Bj6StuMVtJ7fBs8zgtiJHffA0GAzrINXPK/4F8A15gyE54Lw5neWwRMuSiB/H7xDm\n",
       "lwtpfpe/iIv4OFOMd8oaTDDt6WZeMQfg5/IGQ6EANS2XFjGcXS0HXDs7lrkO75tpFe04Nmn82CYP\n",
       "LElcRDD3D+N5gStzMWcgexpsEcSpbROvOQiJQ/IGC3k5WFvyhPyxwBrATGPyuSEf9qENCa6dZTM4\n",
       "kJAqmkmGfmP6ia/wsKSvQkvanmIHhgUzf9LOBsLTYAMfX+EFHqfJ5TfKG0zajp/wJvSZ8aCnmHFM\n",
       "vtqsA8tGdIRrZ6U4DsGkipYgXdMIhSEelhSuOt8E7ViBc+pk1q4z0UZi0QrvFbC7O/g+GzAfRV62\n",
       "cY01J4S49hl4qqfKdpLfdGsz+XQofFq0PR2+XjBHL3jfUnBgieBFowH1dh25Gq6ixe7civw2wu4k\n",
       "Dwt+gQe/w8VugFdw/aZoLLRYoxa6vbCgjjHGvHFjMcAPjnKNPlNY++ZA1KuJjgZtajSZfApKniA6\n",
       "tD0fX08qgRy9QOnuAb6wfwiGoM1wqmhGD50tiUUeWPBiPgY/24W+H4HbMTWTvqGmjRSdR6yyVEhY\n",
       "dXlYMn/Jml87cQOvaUe5RtEQ1r6DeDWMrbjGnTLGWV1YAph8ckqeIDq0PRD5evIqQSBHL1CcUqVb\n",
       "O2uA6+Kw266ikYVmKdCZwcMC/cboMrMHNt7X9WCewMIasAU3dtMP5Kl/2T++jvK3ztrmBYDa0GbB\n",
       "lYkihoU1aprZKegjNQGRgS9Fh4D19zldWEDN5JNT8gTRoe2ByNeTF4wCOXqBsjjHw5LIwjpo/Se0\n",
       "52gVbQO6tnGkSF+yeGC59ZrhvHEQUtcfuyJFYGGNeAk32otGP/poz8H9DZdZqONLO/EL0/ZcZvvz\n",
       "8OAImS2ssZI7BR0NXbCMe8twOff+8MjUYfEx+eSUPGFPoEPbA5GvJ5UqHL0gIa/I/W8n7WBm/mbr\n",
       "FrH4wi/4GMlCF13E3MbzGdpgnm41y1AHC2Ag73qmi5jTSFtl7hT3aCCz1C3zzKsGS3Umn4KSJ+SA\n",
       "OrQ9EPl6qnpjEEcvSMhs9cGSsNQ1MU5wWpo6fRSMd/exRrLyX9pgntqutGAHvA0NReZ586s51lhf\n",
       "GWCnuEdmNrrfVTYJt3TLIBb61JpMPgUlzytatD0fX08qVTh6QXJYCksMtGAhyec9zaqG6yn5ptxz\n",
       "zOdMOOKDYEA2qsnk81H4ZKJD2wORryeXKhy9oBx9UgoL6MEy7Rssuegy+XwUPpno0PZA5OvJpQpH\n",
       "L0DCQ9+L96kTUT0mn4/CJxUd2h6IfD25VOHoBUgkNGTXxKg6tugx+XwUPkWwrU7bA5GvJ7/jahy9\n",
       "gGShHBZYKF9ImYlVZfJZIFD4TL8fzkZN26Pn8Xw9f/zgT1Jz9NRC85tQwNJkBSbIVZh8hETnofB5\n",
       "qHXkgLdR0/aIgufreZ2Qn/mT1Bw9tdBFIJT/SU+ApRqTbxB3DU/hw3w8gbvH2yhpe+Q8D18Pn+Yl\n",
       "6nlOUnL01At2iP6TXmxCe5fPhDH5onSycRS+q/2VaM5GTdvjFcRT1D+PeRslR08pNdnwwALf/j9g\n",
       "YUy+tPPELoXPP/t4GzVtj1cQT2n/dTkbNUdPvQ+1QgRLuzJw6jD5uuw826Xw8Xw8W3gbJW3Pcx7x\n",
       "1OUP+ZyNmqOnlNchRLBklHepw+SzO4pR8iR8PJ+NzCyjOi3QZioSrj8uIv4pHk5mFpPvNpgqLMsu\n",
       "5p95S+ZgNohxF10Id3Vpw3Lpz7y997LTzgcrlc7/Aa6iaHiiJeOfAAAAAElFTkSuQmCC\n",
       "\" style=\"display:inline;vertical-align:middle;\" /></a><br>(see <a class=\"ProveItLink\" href=\"../../../__pv_it/theorems/f5bedd7c5217cca639e002ea5e3119ef4908af760/dependencies.ipynb\">dependencies</a>)<br>"
      ],
      "text/plain": [
       "<IPython.core.display.HTML object>"
      ]
     },
     "metadata": {},
     "output_type": "display_data"
    }
   ],
   "source": [
    "%proving condition_merger_reduction"
   ]
  },
  {
   "cell_type": "code",
   "execution_count": null,
   "metadata": {},
   "outputs": [],
   "source": []
  }
 ],
 "metadata": {
  "kernelspec": {
   "display_name": "Python 3",
   "language": "python",
   "name": "python3"
  }
 },
 "nbformat": 4,
 "nbformat_minor": 0
}