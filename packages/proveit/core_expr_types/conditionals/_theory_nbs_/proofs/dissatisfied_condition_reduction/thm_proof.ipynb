{
 "cells": [
  {
   "cell_type": "markdown",
   "metadata": {},
   "source": [
    "Proof of <a class=\"ProveItLink\" href=\"../../../../../_theory_nbs_/theory.ipynb\">proveit</a>.<a class=\"ProveItLink\" href=\"../../../../_theory_nbs_/theory.ipynb\">core_expr_types</a>.<a class=\"ProveItLink\" href=\"../../theory.ipynb\">conditionals</a>.<a class=\"ProveItLink\" href=\"../../theorems.ipynb#dissatisfied_condition_reduction\">dissatisfied_condition_reduction</a> theorem\n",
    "========"
   ]
  },
  {
   "cell_type": "code",
   "execution_count": 1,
   "metadata": {},
   "outputs": [],
   "source": [
    "import proveit\n",
    "theory = proveit.Theory() # the theorem's theory"
   ]
  },
  {
   "cell_type": "code",
   "execution_count": 2,
   "metadata": {},
   "outputs": [
    {
     "data": {
      "text/html": [
       "With these <a href=\"allowed_presumptions.txt\">allowed</a>/<a href=\"disallowed_presumptions.txt\">disallowed</a> theorem/theory presumptions (e.g., to avoid circular dependencies), we begin our proof of<br><strong id=\"dissatisfied_condition_reduction\">dissatisfied_condition_reduction:</strong> <a class=\"ProveItLink\" href=\"../../../__pv_it/theorems/a149ec43b7ef5d374bb47943807533d24c1266170/expr.ipynb\"><img src=\"data:image/png;base64,iVBORw0KGgoAAAANSUhEUgAAAR4AAAAXBAMAAAAvnz2ZAAAAMFBMVEX///8AAAAAAAAAAAAAAAAA\n",
       "AAAAAAAAAAAAAAAAAAAAAAAAAAAAAAAAAAAAAAAAAAAv3aB7AAAAD3RSTlMAq1RmmUTNIjK7EInv\n",
       "3XZ/CtNrAAAACXBIWXMAAA7EAAAOxAGVKw4bAAADYUlEQVRIx8WWXUgUURTHz7ofszv70RohJCZC\n",
       "D/WQtg8RJKQTUiQiStZLBG2JWNHDChJEoS4EvhTqQ8T2UNtDERio9RCRiRYkldEGLQUxsPQN+WBL\n",
       "9vVQnXNnZudj5+osPnjYOzvzv/fc+c2955wZgFJNwCYeKNkNrrc7mrpke4ft00Gz5v64rFukK20W\n",
       "Gor5vDmAKJ1sdI5TNo7tj0E4GwM4OqRMfqZlIsbx22rAER4B+DYvKhcdhkHvAXbTf7dznhvYghmD\n",
       "cFgCd6aH3S14DKCC4/fAuA7fAXYKlcpFnaHDl4Yk8Q4752my8ogArqhydhwPIWl5HkD6cu3cyOOW\n",
       "CAmCNc55pq08aC6FwUeya8EBD9o6Ox54Cm7ccF8J4RPn87QNUN+vlfB0AjyX5WfOeTzjGk/PVB+L\n",
       "zZNRf9UMbZjwmw1YXIJH9Tk1A8m5cjueCYC9AJdt7svh8VH+eHCRvLNwlQWxL6rGjyfPLn/qc8jM\n",
       "lODaAwafI5z4ge3IDELUUCamPiToP2CqHaqIFq5RU/xWDFqZEtB4wqwKjE3blzpMcd1nhMezBedL\n",
       "B/XK5O0GYdbKUxApfXBsTxcFC8BbM88aRtJoW4CEinajD5dnCCM0ZwjnWmzNVp6CqPL4m3HRn4C4\n",
       "aFkfiirxsf0+n6OYKPhweQ5hizfgYbThLj0GJUejhUcXtf1CBPEvuBfMPJjp+8AzC/bxgwi6D5eH\n",
       "Hv32CRz62k9x6KJsnrTw6CLpOSW/xDzqm0w8/rx7MDaZ4Ndn3YfLs4OiE2fzSH7a/dC4Evwaz71U\n",
       "KpXRRUKJqvl+BWolVnYCw/Qjm++DCfUlMBa3y/eCT4r9zDziDzy00PMPUFhE6EYhDEa2UIb1ieoi\n",
       "LUJG5bn2dbCa6h8Wn5tV33Ksb/39LPiVbZXseDSf5Fxl8kU1qa2yPCfLL9mIV9iy6uixRKAegzQg\n",
       "edPhmIVHF8ne2NRn3S7CZ3BWn+2rgjZxKDHUkR7FtK7/0glmHkkXybYtyTNSFl8Jj0d7bG9T3R04\n",
       "XwO91eXponpYEFkHnkWmeRO2/Rvg9Mw74TltvqRc3i/miuqzJrKww9gV8rwJLzzk9fQ7+Ya4ZP5c\n",
       "pHdL/4Z0MY8qMqM3Yu/a0j+7dy0PFDEXCzd7H2ahmMeXhVU2YZXu+x96K+E7OWN07wAAAABJRU5E\n",
       "rkJggg==\n",
       "\" style=\"display:inline;vertical-align:middle;\" /></a><br>(see <a class=\"ProveItLink\" href=\"../../../__pv_it/theorems/2f84381d903a1ce1b774396a756af73bc7b1a5ad0/dependencies.ipynb\">dependencies</a>)<br>"
      ],
      "text/plain": [
       "<IPython.core.display.HTML object>"
      ]
     },
     "metadata": {},
     "output_type": "display_data"
    }
   ],
   "source": [
    "%proving dissatisfied_condition_reduction"
   ]
  },
  {
   "cell_type": "code",
   "execution_count": null,
   "metadata": {},
   "outputs": [],
   "source": []
  }
 ],
 "metadata": {
  "kernelspec": {
   "display_name": "Python 3",
   "language": "python",
   "name": "python3"
  }
 },
 "nbformat": 4,
 "nbformat_minor": 0
}