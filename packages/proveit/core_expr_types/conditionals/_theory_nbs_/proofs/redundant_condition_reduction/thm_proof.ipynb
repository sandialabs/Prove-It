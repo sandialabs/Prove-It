{
 "cells": [
  {
   "cell_type": "markdown",
   "metadata": {},
   "source": [
    "Proof of <a class=\"ProveItLink\" href=\"../../../../../_theory_nbs_/theory.ipynb\">proveit</a>.<a class=\"ProveItLink\" href=\"../../../../_theory_nbs_/theory.ipynb\">core_expr_types</a>.<a class=\"ProveItLink\" href=\"../../theory.ipynb\">conditionals</a>.<a class=\"ProveItLink\" href=\"../../theorems.ipynb#redundant_condition_reduction\">redundant_condition_reduction</a> theorem\n",
    "========"
   ]
  },
  {
   "cell_type": "code",
   "execution_count": 1,
   "metadata": {},
   "outputs": [],
   "source": [
    "import proveit\n",
    "theory = proveit.Theory() # the theorem's theory"
   ]
  },
  {
   "cell_type": "code",
   "execution_count": 2,
   "metadata": {},
   "outputs": [
    {
     "data": {
      "text/html": [
       "With these <a href=\"allowed_presumptions.txt\">allowed</a>/<a href=\"disallowed_presumptions.txt\">disallowed</a> theorem/theory presumptions (e.g., to avoid circular dependencies), we begin our proof of<br><strong id=\"redundant_condition_reduction\">redundant_condition_reduction:</strong> <a class=\"ProveItLink\" href=\"../../../__pv_it/theorems/c83e4b929ae2910c1fe28fd57cc4078fa37360700/expr.ipynb\"><img src=\"data:image/png;base64,iVBORw0KGgoAAAANSUhEUgAAATMAAAAWBAMAAABeYGZcAAAAMFBMVEX///8AAAAAAAAAAAAAAAAA\n",
       "AAAAAAAAAAAAAAAAAAAAAAAAAAAAAAAAAAAAAAAAAAAv3aB7AAAAD3RSTlMAq1RmmUTNIjK7EInv\n",
       "3XZ/CtNrAAAACXBIWXMAAA7EAAAOxAGVKw4bAAAD5UlEQVRIx81XS2gTURS9yUwynyQ1VSlYtQ0I\n",
       "KkhtFi6kYBsRRVFp8LMR0WoRPygmWNxY2wSEbiytCxEValwoioW0Kir0Y2vVIioWUVxoMAu1Bbuo\n",
       "1fpDrPe+yUxmkpk0hS68ZF7uvDPvvPPe3HtfApDDQnhdCWIjb4eZNMaZ20K54QIfXvti6H3aYUS4\n",
       "j5aDckAaL+PUWWW21F14eclZZEqxDK9yYrH/1vXW+wH2tihkJzZ2+vOD9FauUyYMADiXTij+7a45\n",
       "mnwcvJac/WYMcg02PeS5hnTduwPADYUZu+sAQFF+kN56dL7jG8AqoZj5dyJgq1GBQwBRkttqxsD7\n",
       "TaXJADav4h3Exh3IC7KSBriQQsW7Sioeqv0rcDcRc/nMGNxgKg3NpszppG7bWL6QuTS0ucrXEWpK\n",
       "tdljwOHeOE0ZFk8lrTpC2M98oSmk8ezp+5FUpxN1PU8knpoybDRKC/c2sFg97BUX9NNrE34xxol0\n",
       "SFtDWdKE+cNJ8o/3Q/QZe6ONLKqq1WR1Ic96gAumDLXUrGNzYHA6BuESC3CnNxVQ/Di7/ZEeYQ3x\n",
       "CWZKIBLnzpCkpP0eNdaqWVQdVQsah3OGQfDqak7vBxV8mcptpSi0+2Ez65bU+T2MO96XHpwDAmO9\n",
       "kAeAV6LkjCrtPS1c/qM+ZcfBUsyVrniO/SAMpvxHyFJEUHgfLQrgrXH+WWzmKr+JtGxIp4w4+THw\n",
       "dBilMVHcV/UxEXPIntRlQRleG9LS4BS9a3EDLugJyBMZW0PLlh+D2a5lQTojTncrxINGaQlq2rW6\n",
       "5qDV1VRic6PyLq2IsqRK90JpJJtS/gvcmHF+rA1bgB80k5YFGWINOeNJdRpNWik4fLBJOzvttLqb\n",
       "WHjlNyLFLCvG3SmwTZ+h8jiCSwzzi+Nck787ZCYtG8rI0LgPiuwhg7QW38pjrvRqOErYemTjAyJt\n",
       "oLtDyRlmnYbi0QZlAVazpFb6kI02QKdyxMjfYQooQ5qUtL/i2c159qEEHEy6CpXTNY47xJMUG1Y5\n",
       "d7CAluvGwBXVlG82SLv8uamEyiFWrmsLvrCaJM7reg0ie/YV5IYypckl98Ij5EefFUdflLDu6MWe\n",
       "ILCK68E98Ki5GQ9JFahYCjhiHjWvPBGr0yBtZ2F4+lCP1RApWKAFwUntxAq1bI3dwMJRMVKrve3A\n",
       "1NLO2GumD1lL8y7W/DVaqq5ZfgtO+6CupDCmCT9HQcPCoM+KrHoyMn1o1GoIP6mdupk/huio2CYn\n",
       "1dvrdLJRnzBuRdb8AKYPNfosAPGdhkjG9HZQfjQu1H6DCihSWE1P182eyb8GCmduy4hTjp3Jr+E/\n",
       "sX8fqB+gG906lwAAAABJRU5ErkJggg==\n",
       "\" style=\"display:inline;vertical-align:middle;\" /></a><br>(see <a class=\"ProveItLink\" href=\"../../../__pv_it/theorems/c3a2cfe0cd71818685c0ee6440c21fbb64c6841d0/dependencies.ipynb\">dependencies</a>)<br>"
      ],
      "text/plain": [
       "<IPython.core.display.HTML object>"
      ]
     },
     "metadata": {},
     "output_type": "display_data"
    }
   ],
   "source": [
    "%proving redundant_condition_reduction"
   ]
  },
  {
   "cell_type": "code",
   "execution_count": null,
   "metadata": {},
   "outputs": [],
   "source": []
  }
 ],
 "metadata": {
  "kernelspec": {
   "display_name": "Python 3",
   "language": "python",
   "name": "python3"
  }
 },
 "nbformat": 4,
 "nbformat_minor": 0
}