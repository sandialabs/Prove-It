{
 "cells": [
  {
   "cell_type": "markdown",
   "metadata": {},
   "source": [
    "Proof of <a class=\"ProveItLink\" href=\"../../../../../_theory_nbs_/theory.ipynb\">proveit</a>.<a class=\"ProveItLink\" href=\"../../../../_theory_nbs_/theory.ipynb\">core_expr_types</a>.<a class=\"ProveItLink\" href=\"../../theory.ipynb\">conditionals</a>.<a class=\"ProveItLink\" href=\"../../theorems.ipynb#satisfied_condition_reduction\">satisfied_condition_reduction</a> theorem\n",
    "========"
   ]
  },
  {
   "cell_type": "code",
   "execution_count": 1,
   "metadata": {},
   "outputs": [],
   "source": [
    "import proveit\n",
    "theory = proveit.Theory() # the theorem's theory"
   ]
  },
  {
   "cell_type": "code",
   "execution_count": 2,
   "metadata": {},
   "outputs": [
    {
     "data": {
      "text/html": [
       "With these <a href=\"allowed_presumptions.txt\">allowed</a>/<a href=\"disallowed_presumptions.txt\">disallowed</a> theorem/theory presumptions (e.g., to avoid circular dependencies), we begin our proof of<br><strong id=\"satisfied_condition_reduction\">satisfied_condition_reduction:</strong> <a class=\"ProveItLink\" href=\"../../../__pv_it/theorems/c8bf62b9a20e5b889420ce1caaf8f665d9f49fdc0/expr.ipynb\"><img src=\"data:image/png;base64,iVBORw0KGgoAAAANSUhEUgAAANIAAAAXBAMAAACMkgx2AAAAMFBMVEX///8AAAAAAAAAAAAAAAAA\n",
       "AAAAAAAAAAAAAAAAAAAAAAAAAAAAAAAAAAAAAAAAAAAv3aB7AAAAD3RSTlMAq1RmmUTNIjK7EInv\n",
       "3XZ/CtNrAAAACXBIWXMAAA7EAAAOxAGVKw4bAAADEklEQVRIx7WWW2gTQRSGj7l0s5sLCUofKqYB\n",
       "QX2wmgcRLVhXije0NKD4IH2oFCkIxS0VQShNA6IvQisIooKuD/pSaeIFFbS1UiGoFVu0KGpwvYCF\n",
       "itQbFhH1nNnZ7CbdLmvBITM7uzNzvjlz/pkJgPskUHEhBXNIwr91f4s5slct/VjniuzXAKJUWeym\n",
       "tyeHxUoLSBgGqFj2Xa9fuzXfafA7gI30bHVDukjFgHWi3wDWCVWsfr0b5jU7DK5QIUMT6nVDqi8n\n",
       "AfoX47MgC/ccBntlgkEw4YY0NIOEaYH+aKOi2mn0A/Am0TVXYWqeneSbpvJOt8PwFoBHhcJDNyRf\n",
       "ziAJCz9oVD94FzIjbPnSbPkb7WXYPtiF5WWALQCnbezOjGmSyk2YmxTxJ/u0x4hTI1v+/Uqxc0OB\n",
       "0hjTTR7OYYRWIxKEqGkvMvie9Rf5++SnzbwWTnBhS8PgG2Wfjhuk16R96ZetS5eS0ICP5WhTDZpe\n",
       "+1tByFtIuxTo5DMNYS+hEgvfFIRzpSTG8H61JTUCvMRHD0ZaswiiBvNWk+TBuft6TRIcxoUO9UI2\n",
       "VUoqsMnb76f7INHmbsLcXIdFX90NWhzS0HqTlEY1eacsq0fGs5rexUKqBn8CtpthssRJ+q1bIB+u\n",
       "7MP3Z4EfWGXb/LZJqsQcHNIHixrXXjYBlR6lhNSTWNMRzNu6JH1Bq0sB1mK9EwXhkwNkMJTTFWWQ\n",
       "SP4VXC/BKCeJmuepLs1T7Ec6ymvBmH4iZsvX8CzUyDLANnKkm4IQIUMhVDJzjpOGab58UQKjnCTF\n",
       "b7ZPUD0zUpV5HGeNmTMDKWAbNyyXkc5PHo1jyzh/zSpiLc5JlP1qOGmSTsBueGIMeW53RhSTmIoo\n",
       "ThfUKK+ElJ4dah8qvHaiBUxSZ0f/kaTReZUzKbrE8YQxzPjrV1yFYwk4EI+plp0rbHhTVbwuRWr4\n",
       "OKupP9NOpEOlr6TjnZJmPSP8cn9RRbSx0rMd+4FXjhfCydIrmNSTXqRaScLnF8X2LualqxumPJXF\n",
       "0MsO0nGwkqBtTv9Q/t+fGRfpL761uRRSORTSAAAAAElFTkSuQmCC\n",
       "\" style=\"display:inline;vertical-align:middle;\" /></a><br>(see <a class=\"ProveItLink\" href=\"../../../__pv_it/theorems/e5832acd55dd3eda2d731c35c4aa2bcaf728baa00/dependencies.ipynb\">dependencies</a>)<br>"
      ],
      "text/plain": [
       "<IPython.core.display.HTML object>"
      ]
     },
     "metadata": {},
     "output_type": "display_data"
    }
   ],
   "source": [
    "%proving satisfied_condition_reduction"
   ]
  },
  {
   "cell_type": "code",
   "execution_count": null,
   "metadata": {},
   "outputs": [],
   "source": []
  }
 ],
 "metadata": {
  "kernelspec": {
   "display_name": "Python 3",
   "language": "python",
   "name": "python3"
  }
 },
 "nbformat": 4,
 "nbformat_minor": 0
}