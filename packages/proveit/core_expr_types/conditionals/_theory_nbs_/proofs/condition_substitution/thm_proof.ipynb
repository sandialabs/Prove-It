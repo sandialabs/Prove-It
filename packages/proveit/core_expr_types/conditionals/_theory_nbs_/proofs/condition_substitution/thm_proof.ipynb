{
 "cells": [
  {
   "cell_type": "markdown",
   "metadata": {},
   "source": [
    "Proof of <a class=\"ProveItLink\" href=\"../../../../../_theory_nbs_/theory.ipynb\">proveit</a>.<a class=\"ProveItLink\" href=\"../../../../_theory_nbs_/theory.ipynb\">core_expr_types</a>.<a class=\"ProveItLink\" href=\"../../theory.ipynb\">conditionals</a>.<a class=\"ProveItLink\" href=\"../../theorems.ipynb#condition_substitution\">condition_substitution</a> theorem\n",
    "========"
   ]
  },
  {
   "cell_type": "code",
   "execution_count": 1,
   "metadata": {},
   "outputs": [],
   "source": [
    "import proveit\n",
    "theory = proveit.Theory() # the theorem's theory"
   ]
  },
  {
   "cell_type": "code",
   "execution_count": 2,
   "metadata": {},
   "outputs": [
    {
     "data": {
      "text/html": [
       "With these <a href=\"allowed_presumptions.txt\">allowed</a>/<a href=\"disallowed_presumptions.txt\">disallowed</a> theorem/theory presumptions (e.g., to avoid circular dependencies), we begin our proof of<br><strong id=\"condition_substitution\">condition_substitution:</strong> <a class=\"ProveItLink\" href=\"../../../__pv_it/theorems/a5543f9eac21318ec358905e55447824a2249ca80/expr.ipynb\"><img src=\"data:image/png;base64,iVBORw0KGgoAAAANSUhEUgAAASEAAAAyBAMAAADhBnCpAAAAMFBMVEX///8AAAAAAAAAAAAAAAAA\n",
       "AAAAAAAAAAAAAAAAAAAAAAAAAAAAAAAAAAAAAAAAAAAv3aB7AAAAD3RSTlMAq1RmmUTNIjK7EInv\n",
       "3XZ/CtNrAAAACXBIWXMAAA7EAAAOxAGVKw4bAAAE7UlEQVRYw7WZXYwTVRTHTzsznY+W7mo2JOCC\n",
       "m/jgi7h9JnFbQowSQmhQMRIT6ldQRNKNvNmw+AIvmC5+RfxgxxcjwdBFTUzcDZQ1EQkx6apIgllT\n",
       "I36QVWTLrh9rsnDubWc6M713Ztrevdl053amp7977znnnv8tgIj2lhArx00Q1SIpV9d4pDMz2mVh\n",
       "RHe4u7/ucPelX0LaWScKSMq5utFFR6eA0/dkMUuvX9p8KuVrKN4riKiQd9utODo7MyBVhqmDxJ8F\n",
       "WOlv6VtBRD8Cn8hAL6uP3HgOXxIZX0v3iPFtqexDRPy+ThEjb0eu+5qKZYQQJcZDEW09QO7962tK\n",
       "+UcI0V8mg2j49H5yre7p1frPkmVT/yN9ecHf1hNCiKY9fRlDTzkHYxQ01tvwI7lGuwGTMCjCkTTv\n",
       "QpCA/ygFW2hHt4hW0JxQKvsbK1VFJGzPlww/Q5wG4Ac3UQ99LO2fkECviHBsT1rTNuHMnwdjwTNH\n",
       "5LuML4PiVoRrF73DRghjCaTrbiKM+20gnwswZtwQEWp5aIk1owaR3N0uIq0mHUpN5oOsnRVA9C60\n",
       "EsExWJehaUgfJX+k/bEfTq2uT8TffGvvAdAB3NUF0XkW0fuzh9aSjIjJ6MP+ORpA2qqJi6DRJ77j\n",
       "WzsDcD/5v6tzIGOeRcRub8BvQebSWXiZ5NPRLtLRUniiI9FcYJxUIYaxGh/onCha876T5GbBrTcP\n",
       "BJkrYfWCwRvrZudv2TvVGu/ZV6YCzfWgX389M3OhC6Jka07bd3vn5nrQgR4EeLsLovgiiGwJ9LRh\n",
       "UP3KWznAhCyWiGw2uhnPOhbh9BWaV5WxzRtoJaY3bsxee8B+6LH5T235EVAVtk2EYRGtOhxb2QVq\n",
       "fe/5E+BpB9H2vKPAT1aa9ecyEEFuyK2YNtGrPoA3m0RRnEx51FGn6rlQq9a2mKQlwse78eXE0Gck\n",
       "cEkop+mtKVC+ahKNYCKR7NlIDMDjVmaJ+9YPbYtJ4tlQQMc2LmnEcoT0J2lSWRraCE0iorPiZfko\n",
       "tteQ7+crdgmS9KvleWLy6s0jR1/lV1sRHK6c0cqWrKDVt1Qx3nEQXaiXzI12Hxwf52fIEGISUAaM\n",
       "MCO8x/LPRDZJHkjgMOhkEVcZdBB9QbYc27P7IGqvYHQhLFFTTNLNUGcud8kaaimvr0d6PaOYK1IN\n",
       "V5l0EL0OO1ACW6s2hSto77Q3whI1pRtdarYsKVqlfyJffMg8gZG//ven0M1xTk1Yo+RtosKLJw/a\n",
       "rqMuQqTyqNWb74AohlNcZBYcg9amr2y89xM4PAD71t5m5vEiOfY5HLzWnCN1w0+rVetTV/83tb22\n",
       "jPk+iKhFTNLdS50OUyMTvoeNav3CquMt5sxJ9rf2e/pbZkib9hGT6OTHZvvYhcmdbtVNPjiyxqxf\n",
       "eIjUOc4JWNpHhrLFJNaueWOVGaJGluhILjYuPETwQpZT9fHLPY6YBNiDCzfO+oS6FJzW1XYVZLCY\n",
       "BJjD6O5dNgUpl/l+xBaToGDGGGQeFUVEqGxlwTfWGGKS7s5nqhorZYs4ifBTXxwxWUCidHUbQ0ym\n",
       "hRz7+Vhhi8n4xEQK5L0pxnCml+XUL5R0W9ZTP2lRGJEu6ED7eb50Krdnaacphugw9wyGLybZ7RtB\n",
       "1XqSf2zQnpgU9iuE95eajtt2YZImNiDEjLZbnMoS84vfB9SvbwHCzFVVQ5MmyAAAAABJRU5ErkJg\n",
       "gg==\n",
       "\" style=\"display:inline;vertical-align:middle;\" /></a><br>(see <a class=\"ProveItLink\" href=\"../../../__pv_it/theorems/76764afc98c2f884cc9e31536815aecde55b628b0/dependencies.ipynb\">dependencies</a>)<br>"
      ],
      "text/plain": [
       "<IPython.core.display.HTML object>"
      ]
     },
     "metadata": {},
     "output_type": "display_data"
    }
   ],
   "source": [
    "%proving condition_substitution"
   ]
  },
  {
   "cell_type": "code",
   "execution_count": null,
   "metadata": {},
   "outputs": [],
   "source": []
  }
 ],
 "metadata": {
  "kernelspec": {
   "display_name": "Python 3",
   "language": "python",
   "name": "python3"
  }
 },
 "nbformat": 4,
 "nbformat_minor": 0
}