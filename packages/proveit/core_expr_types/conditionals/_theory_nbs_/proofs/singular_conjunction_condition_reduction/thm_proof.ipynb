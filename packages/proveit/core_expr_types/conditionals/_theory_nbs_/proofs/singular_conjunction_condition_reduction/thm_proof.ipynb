{
 "cells": [
  {
   "cell_type": "markdown",
   "metadata": {},
   "source": [
    "Proof of <a class=\"ProveItLink\" href=\"../../../../../_theory_nbs_/theory.ipynb\">proveit</a>.<a class=\"ProveItLink\" href=\"../../../../_theory_nbs_/theory.ipynb\">core_expr_types</a>.<a class=\"ProveItLink\" href=\"../../theory.ipynb\">conditionals</a>.<a class=\"ProveItLink\" href=\"../../theorems.ipynb#singular_conjunction_condition_reduction\">singular_conjunction_condition_reduction</a> theorem\n",
    "========"
   ]
  },
  {
   "cell_type": "code",
   "execution_count": 1,
   "metadata": {},
   "outputs": [],
   "source": [
    "import proveit\n",
    "theory = proveit.Theory() # the theorem's theory"
   ]
  },
  {
   "cell_type": "code",
   "execution_count": 2,
   "metadata": {},
   "outputs": [
    {
     "data": {
      "text/html": [
       "With these <a href=\"allowed_presumptions.txt\">allowed</a>/<a href=\"disallowed_presumptions.txt\">disallowed</a> theorem/theory presumptions (e.g., to avoid circular dependencies), we begin our proof of<br><strong id=\"singular_conjunction_condition_reduction\">singular_conjunction_condition_reduction:</strong> <a class=\"ProveItLink\" href=\"../../../__pv_it/theorems/7756d8f0922aac362d2c43a4079cdaf67757aa0d0/expr.ipynb\"><img src=\"data:image/png;base64,iVBORw0KGgoAAAANSUhEUgAAAPEAAAAyBAMAAAB/mSAgAAAAMFBMVEX///8AAAAAAAAAAAAAAAAA\n",
       "AAAAAAAAAAAAAAAAAAAAAAAAAAAAAAAAAAAAAAAAAAAv3aB7AAAAD3RSTlMAq1RmmUTNIjK7EInv\n",
       "3XZ/CtNrAAAACXBIWXMAAA7EAAAOxAGVKw4bAAAEqklEQVRYw72Yf2gcRRTH3/3e3bvdJFTyR63J\n",
       "QUUK/kgLIlI0ubYoFgpZsPiX2KiUQKF4RelfanLgn0Iuf1oR7h8LUuFCtSrYNimtlNIWo61WxMOl\n",
       "CK3Q0mJsE0JR3+yPub29mXlzpfGR7O3sj/nMvHnz5rsDoDZzGh64fdbQeWpdZ/FTV/iU0wobePMX\n",
       "/6fA71QFTxu/aoBTc52EvYnmjgYtKfIGHfOPV/kDr4lqfVKD/ExncSQGLpwGyG+6IyKnWXsLX36L\n",
       "DnM2C2ot9pPgwtnO8onYee5vgOcL69vko5x8mB2+mobUBMA+Ub2XSLLtycmA/R+IOoFk62dO3sHo\n",
       "dTycAXhaVO8TZIw9Bwoy2kMxsrPFjcgL+L+fnQwDlESQfIUin++BbBv1kJxGJ2dX2PX5aciLBjq3\n",
       "TICdVQG58PA1fwwOnoLahYE2+XGYDMlZDLAp1gwYdyXR9Do1zMm3XsT/V6vmavR2fJwn4dGQzLo5\n",
       "XmbX36pCZkJU8wgx0DOJBMYmknUasot+abaDbPSD3QjINlJ/Z1Vb99D1C6Kam56avCEBHsSuZW+D\n",
       "PScgp6bB8QJyCR+7xy5nljBh3RYm5UU1+VSi/MEhrLYOTVdAxjlsLbbJLXb5c/R0TtjnjDrEjKXk\n",
       "lVnfT2MgILM8sr3t7WHIlWEXZu20sHfWkjq0uxqGsd0sw2C62k1mgIMB2USvz5SffbvIMmCmruXO\n",
       "xGAsCMiml76c9Qsf+X8hOeMFS+qxMC07Z73iQCOcYtjHu4maPgHwJ85GIblUF5CtoW8OXGfntQvr\n",
       "a98PReQUoxieTzZY/2sfn3AB54YdBMXlRE3zAC+w30khuVkBIodBbD7H1qpgkTZdB0flPfEbYy7U\n",
       "2HQRj8WMd5/kYJUw+x8LVw9x3Xl0U7EsvDvSdfmGHtn0IzD774q0U8yfGUx1eYlHujTYVFmLbPk4\n",
       "47dy1Ihu68P4uthqnRffvdX1VmGbGF3kOuw7/+d9fueaxEt92LiXAA6J785racT7sxKmtwNQiC1J\n",
       "zsk/eE/H15Bs48wzG+1RgtxkTHsNwxqSMUulvXynHt35f5FhYhQPR0a/ZhHENMyYnrclor8Hb8NR\n",
       "FKbWFYMtD0ymwnEeYVXVciIR/T1EGLyLAZatGKz7pbm4Rrql+qaSif5A4NNkFtWoJnAxd9hpCdOK\n",
       "sSzPJBqiPxT4lPVFa0Kzam7FTpiVXMPmMnXE1STHRH8k8ClrRh9sperMy40jOKO2Xn+zndU365Lb\n",
       "0nu/5qTgq1Fux1NfwIdleGdooFHt8og+mQt8yhKrESvttvjaaE8Q5G7RzwU+ZZ1rQo6F69QjPGhT\n",
       "CTWUbfnWrxD9XOBT1jkgGf9j66d2eVXxfSsW/VzgU3ZOrXr/koMlop8LfOrD/J/elD4t+rnAJ4xQ\n",
       "+rBLMc5i0c8FPrX/Qnzd7HGVsS0Q/VzgUymM+KKzK0qyQPRzgY/tUvl8jBAdquCWiP5I4KubDT/0\n",
       "uluhIb1Dga82crdC5RQ52Rf4xJ4muSGWn5Pekon+QOATtofUloY8TGWiPxD4hP1IR/+f8iy0jQbI\n",
       "TGP3Mbnj+oDsFZ2H3lgDsLFP56m12Fk/7MfXf7RUU7wn/SGSAAAAAElFTkSuQmCC\n",
       "\" style=\"display:inline;vertical-align:middle;\" /></a><br>(see <a class=\"ProveItLink\" href=\"../../../__pv_it/theorems/ab5fc82fe96c222977f1d8b2e391c1961760c9a40/dependencies.ipynb\">dependencies</a>)<br>"
      ],
      "text/plain": [
       "<IPython.core.display.HTML object>"
      ]
     },
     "metadata": {},
     "output_type": "display_data"
    }
   ],
   "source": [
    "%proving singular_conjunction_condition_reduction"
   ]
  },
  {
   "cell_type": "code",
   "execution_count": null,
   "metadata": {},
   "outputs": [],
   "source": []
  }
 ],
 "metadata": {
  "kernelspec": {
   "display_name": "Python 3",
   "language": "python",
   "name": "python3"
  }
 },
 "nbformat": 4,
 "nbformat_minor": 0
}