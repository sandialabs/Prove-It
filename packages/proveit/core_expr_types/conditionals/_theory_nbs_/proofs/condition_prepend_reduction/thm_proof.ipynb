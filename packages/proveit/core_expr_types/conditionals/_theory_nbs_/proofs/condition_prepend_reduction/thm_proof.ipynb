{
 "cells": [
  {
   "cell_type": "markdown",
   "metadata": {},
   "source": [
    "Proof of <a class=\"ProveItLink\" href=\"../../../../../_theory_nbs_/theory.ipynb\">proveit</a>.<a class=\"ProveItLink\" href=\"../../../../_theory_nbs_/theory.ipynb\">core_expr_types</a>.<a class=\"ProveItLink\" href=\"../../theory.ipynb\">conditionals</a>.<a class=\"ProveItLink\" href=\"../../theorems.ipynb#condition_prepend_reduction\">condition_prepend_reduction</a> theorem\n",
    "========"
   ]
  },
  {
   "cell_type": "code",
   "execution_count": 1,
   "metadata": {},
   "outputs": [],
   "source": [
    "import proveit\n",
    "theory = proveit.Theory() # the theorem's theory"
   ]
  },
  {
   "cell_type": "code",
   "execution_count": 2,
   "metadata": {},
   "outputs": [
    {
     "data": {
      "text/html": [
       "With these <a href=\"allowed_presumptions.txt\">allowed</a>/<a href=\"disallowed_presumptions.txt\">disallowed</a> theorem/theory presumptions (e.g., to avoid circular dependencies), we begin our proof of<br><strong id=\"condition_prepend_reduction\">condition_prepend_reduction:</strong> <a class=\"ProveItLink\" href=\"../../../__pv_it/theorems/bf4f464c1555167cb480276019fcc6324039a2850/expr.ipynb\"><img src=\"data:image/png;base64,iVBORw0KGgoAAAANSUhEUgAAAiQAAAAzBAMAAABVkQ5JAAAAMFBMVEX///8AAAAAAAAAAAAAAAAA\n",
       "AAAAAAAAAAAAAAAAAAAAAAAAAAAAAAAAAAAAAAAAAAAv3aB7AAAAD3RSTlMAq1RmmUTNIjK7EInv\n",
       "3XZ/CtNrAAAACXBIWXMAAA7EAAAOxAGVKw4bAAAINElEQVRo3uVbe2wURRj/7rF3273r9TBoKK/U\n",
       "EENDAlyMJEKUnkGMSAgVNUYl6fkKggSuCYlReRz8AWoqLSYYWpWu8o+2QlvxESmBggkFifGIgKZa\n",
       "PVNEG7S0pbWv2HNm9v2ava2EPcMX2Jv57ezt7G+/+eab+V0BqNbQ0AA3ldk/8C/Zget+1335SAVX\n",
       "J3zWZ0dsWl64/jf3xLR9eSw/OHmTFwsLbzwl07TVy09q677f3KHEm3aNEl9C25NRVWUzcqBnqstJ\n",
       "+dXlLbI7dWf31L5l8l1WuIVF6keKa0uszra4RsnmpKYaSqsqFXHwpSuJB4deALhNPoHG97aock2J\n",
       "Ha41GS+qgWCfVccKY25R8jNYU8KhSCM8IbcWHcJxEWfHAQqG5GYHEza4zmS8OoPiZ9Jq5HztEiW+\n",
       "NgolOPgKNAQw7OmVPH4YIcqjd91qg+tMxq+mADZaUQLPuURJuDknSlam8LlhEQwgbqpr5Dbp121w\n",
       "ncn4RuRY1nNsRdIdSq7yJpRUHtuKy8H1UXb6CTxygqTj/kFVDDineHhzIEnHdSNCxtG3boladi0Q\n",
       "dYeSc7q6H41zph3qebFTQizx95OqNCYq9l+ZnFK6nvTG6bjuUSWcGelpeZAyDY+6Qgk7rJ+AUJz/\n",
       "OAYrSKVAoqSQ9K5JijvHk1wx4uyAECa3A3Soca51Eq/FtSbjoSF4v46SwI67QolHF10rn8eBA+BH\n",
       "LSVFpFmZlJisR0gzsD1C3JkC0KPG/eBPa3GtyXgAfesYpXPvuUJJWDeU2WXoBZ8BblDnJfgZuVNS\n",
       "K5RLNEWlBJNDvnJQjReVB4e1uPbly3hRFLg+SufKkm5QUh3TAYgF5LC+Xi0laPpdBf52sQ1zDWB+\n",
       "XKIEJ17+EhXu4wklCm5M1AS8IgZetIq96+4e05gDTTE3KLmqnxPQjMP1gycxW0MJ2+/bFTuK2pIg\n",
       "4UeR5XiGFSkpxDNSQo0L05aC67JSGV/JQ2gc3ljwFbRTXPhGU/IuGCmB/TA3Tt5bQQ3+h+3PrdAy\n",
       "FTn93yQEo0cvy6wSKVksbzBIuLCKlXFyUVNCulrGg9/y4BtnZh9KAInewmm1x6YFSggzsyiU0Bs4\n",
       "tDNmlLx/ZddMPJeipOTD6X0Z4ibFrRcAvf9O9LCh1tYY+DfEREqm4sNuUOHBOg0O57FvxMWCgre2\n",
       "HgZ4oAs8GUYI8uf1fekVKFmKP9ZQKKE3cLhRM2BGibnthd9R+ODN1u862wQvOQrxKX88ZbrYGBQo\n",
       "2Y5dqoZCCb2Bw7RkPHdK9niR74fAnpLgvtcectKJbVC4I2Xdu4UQ4K1X1YQSegOH+zT9hj2MNqu2\n",
       "K7Oo34fUj/75WMb0rWezvU468TBEDlN8eCH40MwToIVXegOH6+Bhwyvut9z5O4kOmRu6s9Ynzjjf\n",
       "dHaepc441AbOLDJkDAS3QN7YiEgJWgjVUSmhNnBmoVHIZzslUlIJQXWWHTz/GdwTVVOibRA5domk\n",
       "W0z98vvkvY8nBj6dZnILA+zPb0o6RUoK+FC5hO0u3gu3h3g/r6ZE3QCYNRAUcr+/5H0oxFMaAiZJ\n",
       "sgH29OY1JT+JlHgzcvD0492EWZl4SDNwVA0A5qL/y0hpMsDbqr2wApNc2gD/TyiBBEp5fUt2XwLo\n",
       "wlDpHVu1lJAG0Lj4Czys8JRRRk6dBOa0PA+WwGqTqd4A0weO6yqXNHDgk3UAB1bHwkmOJGSloQ+e\n",
       "0lKCG3Dfs3i28OCXfpTEnPHFS5Tsp+tSzCwp0sOhIVqPXFe5pPAKm1HwfOUyFPEM6X8pxLu1lOAG\n",
       "/jiLkyqym/w06W+aewfE5QXcCx81AzNvqe4WBNYEl2Gw3ehTdttyUrlykLfokpbKTkiUeLBvz4TV\n",
       "4Ftbi769FBoDWkpwg3B5BE87YdQ34i44TswH2NEhxhVvL4ShSXcLAtNTNavcPkeVywwwGlXSUtmA\n",
       "ZnPgNNzPss2ClzDzjJsDTcmCRaiDBXGGF2QxFCfwAOoQ40qoDYJQpbsFgX1L75RdxTuYKyU5qlwm\n",
       "gNnGVYYiaanuOaamJNgLP5QKGdkCgF+NlIST1Y/wjWgCXvTHsyjWojfDwwwmiSjhmiE4Cp7043jx\n",
       "iiqN8kGAvd0gPyt7LVdKIDeVywQw27hK0SQtw7JPTDeicCUGL6NL2YtJ8BgpYZbMOwxVJbBp5iQ+\n",
       "iQqR+iOwswd7CXsSusd4dkMG/ClcqUqy7fggw1NUe10DzimhqlwmgInRJS3dolS7q8Z9WbuXuquG\n",
       "Y9SjXEYoEEMDxyuVj0RUFaWUjiyQU7+LdpQ4U7nMAPO1y5ZoriswZxuNDH60bTN4oUDS3bMlIE2d\n",
       "gew/AMo8KpW4qFdZi0/Xff+KTmzCI01A5TIDjGYjaekSSWeU+EjvLogFyWLmFbNEBcp463tNQOUC\n",
       "vbxl7n50SUvJLGucU/Lfrdo6PZiIygV6ecvUAm10SUvOLDNuUBK2HtITULkUQJS3LNISG0lLdmFX\n",
       "pC1/m3Usca5ygV7eMjc7SUuyGeAGJcwgdcZxpHJxaoBcbfxOcpGdpCWZOzK5QTvRTcJOVC6sXmnk\n",
       "LVnOImfkmq2kJU0e7vyYgjblOFW5Cjt08hYGFF2LHPBFtpKWaIUu/eRG/8MsSvaqmIXKNUe9q43l\n",
       "rTnGhFR1kaWkJYUcl36Y5RudACUWKpeKXUHeMtKtvshS0pLuAu5QAi9a59NtVmfMVS4uo/IALG+p\n",
       "AdHUF1lKWmLkH3WLkirLFalTlStiCziSxgpL3KIkYr1qdVflcu8H4zAN8tKYRI6UfHf9/0QpUJKX\n",
       "lOwU5qaGhm6bhjfPnyitEz7rsyP/Arw2F3V1EflLAAAAAElFTkSuQmCC\n",
       "\" style=\"display:inline;vertical-align:middle;\" /></a><br>(see <a class=\"ProveItLink\" href=\"../../../__pv_it/theorems/a8a565c9356b2f7f4c22d2a0d6fd9164d631f43b0/dependencies.ipynb\">dependencies</a>)<br>"
      ],
      "text/plain": [
       "<IPython.core.display.HTML object>"
      ]
     },
     "metadata": {},
     "output_type": "display_data"
    }
   ],
   "source": [
    "%proving condition_prepend_reduction"
   ]
  },
  {
   "cell_type": "code",
   "execution_count": null,
   "metadata": {},
   "outputs": [],
   "source": []
  }
 ],
 "metadata": {
  "kernelspec": {
   "display_name": "Python 3",
   "language": "python",
   "name": "python3"
  }
 },
 "nbformat": 4,
 "nbformat_minor": 0
}