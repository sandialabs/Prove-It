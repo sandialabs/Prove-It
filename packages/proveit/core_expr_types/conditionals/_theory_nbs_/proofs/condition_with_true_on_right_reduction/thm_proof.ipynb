{
 "cells": [
  {
   "cell_type": "markdown",
   "metadata": {},
   "source": [
    "Proof of <a class=\"ProveItLink\" href=\"../../../../../_theory_nbs_/theory.ipynb\">proveit</a>.<a class=\"ProveItLink\" href=\"../../../../_theory_nbs_/theory.ipynb\">core_expr_types</a>.<a class=\"ProveItLink\" href=\"../../theory.ipynb\">conditionals</a>.<a class=\"ProveItLink\" href=\"../../theorems.ipynb#condition_with_true_on_right_reduction\">condition_with_true_on_right_reduction</a> theorem\n",
    "========"
   ]
  },
  {
   "cell_type": "code",
   "execution_count": 1,
   "metadata": {},
   "outputs": [],
   "source": [
    "import proveit\n",
    "theory = proveit.Theory() # the theorem's theory"
   ]
  },
  {
   "cell_type": "code",
   "execution_count": 2,
   "metadata": {},
   "outputs": [
    {
     "data": {
      "text/html": [
       "With these <a href=\"allowed_presumptions.txt\">allowed</a>/<a href=\"disallowed_presumptions.txt\">disallowed</a> theorem/theory presumptions (e.g., to avoid circular dependencies), we begin our proof of<br><strong id=\"condition_with_true_on_right_reduction\">condition_with_true_on_right_reduction:</strong> <a class=\"ProveItLink\" href=\"../../../__pv_it/theorems/475bb4c14e9367185b30e02f3801ff79558aaad20/expr.ipynb\"><img src=\"data:image/png;base64,iVBORw0KGgoAAAANSUhEUgAAAiEAAAAzBAMAAACzuMUNAAAAMFBMVEX///8AAAAAAAAAAAAAAAAA\n",
       "AAAAAAAAAAAAAAAAAAAAAAAAAAAAAAAAAAAAAAAAAAAv3aB7AAAAD3RSTlMAq1RmmUTNIjK7EInv\n",
       "3XZ/CtNrAAAACXBIWXMAAA7EAAAOxAGVKw4bAAAIEUlEQVRo3uWbDYgUVRzA/zc7uzM7+3FrH1Ja\n",
       "50IfBJZuBJJCd5tmZSa3aBmI0ErIlSHuoRjm1e2JlNGpJxR4VrAQCd6lu1pU+HlqdYWGV34E0uVK\n",
       "4UeZXqfX2WFu896bmZ2PNx+7HbMXPnR25j//mTf3m/fe/2sXwKZ1dHTADdOEjo6MrdKpwpXh63Hj\n",
       "SEWxhYDwFwpttrrHh7Hfqpj2+KPESCHCn5R2PO4SGas9DC/UDdHayhF6oCJEPEnt8UQVEO4ggO++\n",
       "AbL/6a6bqTdYOXN7rJQOjfqzelH73qgaiFSCSFNKe7xHte8VV6tHuDF4/7M0VKngBaLyzosAo1XX\n",
       "7KB3Y6pP2gT6VUcrQeRnMCcC4ngZRfY2o4f6snhmq0RHeEncBONFw3CC3o2ZvjWR+zPuE/F0WRER\n",
       "2y3kYzHajCuKf7mVfPp60OLcV1yGHqQvO2b61kR8cfeJBHOOiLBX0XZfWhH3vEU+65EocFWRh3j6\n",
       "05vpWxPxDrpP5FKGQoQbezaP9pfvh5bDeNo042eqV94/k/Ph9Yf7G/MaUC4fDw20bkz1rYnAAveJ\n",
       "GFb4x8X/81P+IfmByDpSjxfGJcoq7EsxeECz/fhoULm8Ae6mDn8zfRsixPK5SYTXj19kcIWDwPbg\n",
       "ow0ykVPoyYRrIEwiai0A2H0KYXLZLmHXKPzsfARCNJdbr++USDbvNpEq3bNxo8WJwfZBKKclcg0/\n",
       "2GVY9wfRuw3gIvqsxtfXxViJYVUawnlKP3p9p0T8PW4TCUZ0gtWbRGEbZBNaIr1o83FSdiMFcW8r\n",
       "fufoiYWvoTrB4dG2WTzqoQRren2nRDyDbhNZb3hbG/BQrQMtkXHgjcLTKZkI8rfYKLGjs4HtBk+G\n",
       "EEH+2VS6f6bVn7budHhy2paIcNltIpdSYLQ12SiMZlIaIuujDy8NdCuhRghNMORz8f2eN2O7kW4A\n",
       "Dw20WW7sxqD/4fxYMBKOYB/Qigjsd5vI+0Ah4s8zx1h80I7/IcerOx/AaychUqtkES68Dtuxm78W\n",
       "nfWgNcQvvnrhL5A22SRN/9UzUJ1mc0RFRSSri7LgA4kInt13WRKxU3HWvqUREWq+aDyHLcThMS1H\n",
       "aoixeG9PAtIyEcxgHTYut+86Drw4AjbhhRVh4RGWYyBtQnGqfg20QkicR71kkMyRB5Pev98nEZlO\n",
       "TLsVETsVZ+mpKzQiJst+IpwqBuiq9i6cBVgGrzjtFOt/A+ehWSTD2KTH6hKESAuad22WROxUnLkj\n",
       "10sgErkXqEQ2MEngNq55ymmnWL9PHCWTxakZsFv684SIL6OKn+lE7FQcNabfILpgpssWRGuycsle\n",
       "w4n6QhqChUKf006Rvjciju/G3wC22Shn44SIRzSKPuuV1U7FWeRrCLmg2Ywy/5PJmbUHSutUo5+3\n",
       "Ua6OSLbmu97eQza2xkbFUQsbAgzgHv2vA29YW3WbRORJgE02RGxUHLXAEIzwFkxKRBqB0/nXr81M\n",
       "ePariWhVwnt/LTpbv198gnZ3o5gd8USw24+I+DMBVS6KP92eYCI74Sk1EY2KtwG4bvlgbsqQPTUR\n",
       "V/WNeCJdEhEmr141HxNdI6aWhZyaiEYFGcUZsgERsbJGu0wT/4+IQFJ0fOVwKIzCMWbVc3kNEawC\n",
       "nbWfo+UQ2Yw62VqI/DzGP5Umtp41wrMjaNbAjkWghENb8CtO77xHSwSpCD/yyFzgusFu6STK/QcM\n",
       "ORmqODBo9TRn5ukEFShmKSsrNEWK4dAcQoQNt2mIIBU2zqM/EuePF0jBBbLJvoh3wnTtvYlYZ32v\n",
       "WrlvQ7rcml0xy7TIZdYcFL+Csj+CklFKODSpvb09yqSFXFJDBKkEEyikhqB4Y3GwrMKZu4PI+U0F\n",
       "Iau9NxHbemiqAaRO/TgpZunkZRazdP5IXJMNkMKht8kYgdl5QzYgm/JPEd15f9ybCcWkXOY7MA+O\n",
       "AifS1DQi9kx9aPp4JVPDDDgl4qCYpZeXWczSefE5NRE5HPLj1EMCwhEDkWBq/ZxMp2h5p5x7ARAR\n",
       "IQdNS7e9EcMxJnSiY7RRxMx5+IpR1iP+smMiYFvM0svLLGbRIz1ppErhEIdyLWsbpJyIhoh32oRP\n",
       "oDUKy2pGZVKICH9A9MNPj+HEJUYcCa1RvhtaU3x3UbxRSLJFP/1K6UTMilkGeZnFLG2bGKXm0Drb\n",
       "2xNWOTR01TNCHs8aBnGKiyHlzrB0hswPWdzD5EIe5coTdkScF7P08nKLWZS0Z8lZRS+aVc13ZmDd\n",
       "oSggi8n9eRJ8hX+kM7jJYiESTlSdVS69Q+/W4y8u9OLByKL57ryYpZeXW8zStnFl5VnxK/dJMmzO\n",
       "FidUZ4xiVYrKIoXVFCupmCXLO0netexiFiXt6Wp1wjz0b1wIJRWzZHkcZoHkHJRVzNK6ONfdJmKo\n",
       "YKnCyxmZkopZsnwAxwvlF7O0w9/1ChbbZb6O+CMlFbNk+RSJSLnFLG0o6nqV0ztgbWtKKGYpcil5\n",
       "XXIxi+qy5t0mQuoq5kRKKGYpcvKlS20xC1emrItZAEo9S7/yu0rEwtggIqUUs2T5CnxLbTELV6Zs\n",
       "ilm090O+3lLZb11Z+KxKMytmYTkX51JOe9cUs2iTugLfuvIMlUPEpJiF5SvWrM447V1TzKJ25D4R\n",
       "eNn0TNjUeTIrZmH5kULBceeaYhalPZ+pAJFW0yHO9Zu6KibFLNMil1mzK379ABUgEjbvbdlNFU6y\n",
       "VuZb4PpfCoykNhccEzk6jL848kVHKhB+EfH7O7bZE7kxfnG0mayr6BdH/wJrzPt0Uo2LBQAAAABJ\n",
       "RU5ErkJggg==\n",
       "\" style=\"display:inline;vertical-align:middle;\" /></a><br>(see <a class=\"ProveItLink\" href=\"../../../__pv_it/theorems/cdad28850fd836500b26f02bcd669b6d6a539ece0/dependencies.ipynb\">dependencies</a>)<br>"
      ],
      "text/plain": [
       "<IPython.core.display.HTML object>"
      ]
     },
     "metadata": {},
     "output_type": "display_data"
    }
   ],
   "source": [
    "%proving condition_with_true_on_right_reduction"
   ]
  },
  {
   "cell_type": "code",
   "execution_count": null,
   "metadata": {},
   "outputs": [],
   "source": []
  }
 ],
 "metadata": {
  "kernelspec": {
   "display_name": "Python 3",
   "language": "python",
   "name": "python3"
  }
 },
 "nbformat": 4,
 "nbformat_minor": 0
}