{
 "cells": [
  {
   "cell_type": "markdown",
   "metadata": {},
   "source": [
    "Theory of <a class=\"ProveItLink\" href=\"../../../_theory_nbs_/theory.ipynb\">proveit</a>.<a class=\"ProveItLink\" href=\"../../_theory_nbs_/theory.ipynb\">core_expr_types</a>.conditionals\n",
    "========\n",
    "\n",
    "Theory related to **Conditional** types of Prove-It expressions.  A **Conditional** has a *condition* and a *value*.  The expression evaluates to the *value* when the *condition* is satisfied (evaluates to true) but cannot be reduced if it is not satisfied."
   ]
  },
  {
   "cell_type": "code",
   "execution_count": 1,
   "metadata": {},
   "outputs": [
    {
     "data": {
      "text/html": [
       "<h3>Local content of this theory</h3>"
      ],
      "text/plain": [
       "<IPython.core.display.HTML object>"
      ]
     },
     "metadata": {},
     "output_type": "display_data"
    },
    {
     "data": {
      "text/html": [
       "<table><tr>\n",
       "<th><a class=\"ProveItLink\" href=\"common.ipynb\">common expressions</a></th>\n",
       "<th><a class=\"ProveItLink\" href=\"axioms.ipynb\">axioms</a></th>\n",
       "<th><a class=\"ProveItLink\" href=\"theorems.ipynb\">theorems</a></th>\n",
       "<th><a class=\"ProveItLink\" href=\"demonstrations.ipynb\">demonstrations</a></th>\n",
       "</tr></table>\n",
       "<h3>Sub-theories</h3>\n"
      ],
      "text/plain": [
       "<IPython.core.display.HTML object>"
      ]
     },
     "metadata": {},
     "output_type": "display_data"
    },
    {
     "data": {
      "text/html": [
       "<h3>All axioms contained within this theory</h3>"
      ],
      "text/plain": [
       "<IPython.core.display.HTML object>"
      ]
     },
     "metadata": {},
     "output_type": "display_data"
    },
    {
     "data": {
      "text/html": [
       "<dt><a class=\"ProveItLink\" href=\"axioms.ipynb#true_condition_reduction\">proveit.core_expr_types.conditionals.true_condition_reduction</a></dt><dd><a class=\"ProveItLink\" href=\"../__pv_it/axioms/99547e0677900727aee7970197d1753b64c335eb0/expr.ipynb\"><img src=\"data:image/png;base64,iVBORw0KGgoAAAANSUhEUgAAAKAAAAAVBAMAAAAz5vjYAAAAMFBMVEX///8AAAAAAAAAAAAAAAAA\n",
       "AAAAAAAAAAAAAAAAAAAAAAAAAAAAAAAAAAAAAAAAAAAv3aB7AAAAD3RSTlMAq1RmmUTNIjK7EInv\n",
       "3XZ/CtNrAAAACXBIWXMAAA7EAAAOxAGVKw4bAAAB+0lEQVQ4y2NgwAQFQLw0gIEMwI5VlE8BiFMX\n",
       "oAraEWUB6wMGBgEQQxlZVBuI9ZHMYz/MwMCm8RXI8r0LAhfxmPiYgcEVRKcjiXElAIm9yNZ+YWCw\n",
       "ZZeCcPTwO5FtAUMjyA0TkMRYDNAMZAC6VhDGJmAgswPITAZuBSQxHgZ0A4FAhEgDGU4xMAMdxIYs\n",
       "pEaRgckMDGfv3j2NLOQNM5Bd+vkDELvsIEPjGUGCBhbuqwOSGxkYPBgYZqHZwcDgBsQxBZy/wCKJ\n",
       "OMMQKdpZjzPMB4aeGdBkBnYBZEWXoCmF6zADywWwyERiImWNAYMvkNJhYOBcwI2SaI8CzRMDirB8\n",
       "YODdQLyB/gwMt4FUPwMD0wOUOAEZyNACDASeCQzrA4g38CQDFyjtxwBxgh2QWG23HcnLIDPWP2Cw\n",
       "ZyBgICIMuf4xMH8A0rpAvCkLyL/O8R2qaB40ltcrMIgxFRDrQq5PDIwJ6gwMlkB2DTBOWBw4DkCl\n",
       "NkIN5HzAdIUFLDITjFANXJ+AZuI8Bl0HB0iiY2wABlgAHyyqe6EGcsntKHwBYjeekWo8LweVDYbS\n",
       "vA5oBi583S4HNOgqzMICTitoAcPbgCWnEF0gXoBl4IL+4AXw/E2+geCSBZzOnfU2wwSnA/EbMg2s\n",
       "xCa4EojrFcgzcDrWcAAWCeyOZJnIV8AAAH5VfF0OvkrKAAAAAElFTkSuQmCC\n",
       "\" style=\"display:inline;vertical-align:middle;\" /></a></dd>"
      ],
      "text/plain": [
       "<IPython.core.display.HTML object>"
      ]
     },
     "metadata": {},
     "output_type": "display_data"
    },
    {
     "data": {
      "text/html": [
       "<dt><a class=\"ProveItLink\" href=\"axioms.ipynb#condition_replacement\">proveit.core_expr_types.conditionals.condition_replacement</a></dt><dd><a class=\"ProveItLink\" href=\"../__pv_it/axioms/477fa00338386b957e051df9105be19ef197cd130/expr.ipynb\"><img src=\"data:image/png;base64,iVBORw0KGgoAAAANSUhEUgAAASUAAAAyBAMAAADo7dDTAAAAMFBMVEX///8AAAAAAAAAAAAAAAAA\n",
       "AAAAAAAAAAAAAAAAAAAAAAAAAAAAAAAAAAAAAAAAAAAv3aB7AAAAD3RSTlMAq1RmmUTNIjK7EInv\n",
       "3XZ/CtNrAAAACXBIWXMAAA7EAAAOxAGVKw4bAAAFEklEQVRYw7VZb2hbVRQ/Sd7Le3n506hjstnN\n",
       "gh/8oDP55IehTcrw75SGKRNFWJzKdMyRot8MSwXZEJS04gaduEZQsVaWTAXB1rWbYC1FyNQhKIWI\n",
       "Ex2t29o5nRU6z73pS957ue++95rbS3m5ty/vvN8993fOPb8bACEt1C/EzEgJxLUbzMP3M6szo/4k\n",
       "DpKvYhrGnrXMN/CbS0NbxGG60zxMGCHlkwC7i3XHvbz9RJJrKBwXBUmZMo+/NA52pSFQ7aMow88B\n",
       "rOeb+l4UpmiNg0nDpa3PXnseL5E019Ttolh+F3AwEbrVcQSrpH+JayqYFoRpxh2mXpIwwle5puR/\n",
       "xECKLbEw9Z08QLm2L652niKLp/xLxtIVvrGnBNHJGiz3kglPwTDlRjC+widpkQ4dHJEQQ6iiJYkr\n",
       "X+Hl4yQ8XE/xOqYodWd5km+sXBOCqdMCaT1JRr0AP5sxdVA0qaTDLlUVgumUZfzqUbxMg3bF4ify\n",
       "Nu1rB2MBISRXL1v/M4jvXobAJTMmzAI7QJpysKZdFhJ2LTPDuNMWwZe91YRJXQwcSo7nvHp9dXXK\n",
       "JAMTHIMtaZqWQgPkj7T5A3BiY90Zf9ubeweATuGWdjBFBliY3p07tJnEIyanDzsXaDCpG8bOgkq/\n",
       "8YO9uQmAe8jnnnYwldPgkMeb7TD87mQulYFXSPQOtJWeau4xDfqzLswFMW+Gu9rBlGh5et72u73X\n",
       "+l24PYA5LNgWx1MtrynYzvGN047mOpDh387OzrSF6WJLeCs9bTi+A4l0P8DRtjBNiBQbGMbIuD5Q\n",
       "eEWw5GikVywmsgWFSmGD8omdPEeXQh7e3kPFSGjlxtyF+wwPPv7XZzfp/ZtBLCZMwf6ageLyHr3g\n",
       "/xPgGQOmnTnIG3gTqzar1DXABNlus756gPbWARxpYvKjQyUk33uoh1aq2VDW1dp5lp+0fPhkL15G\n",
       "uz8nAUOK5RS9dRrkb5qYChjvZJ+/EaERd0W64Ek9BUzwtlXv8pNwHPJIce1HlezuPjIep+G83L0N\n",
       "mpiIKgtPgjQ9NHSEQC38eq5Rm13sd1vKGuTn+WuDQ2+yMZGI86FNKa2SZYxU9Co9UNXeNmCaoYW1\n",
       "fD2NxAcB7oaRin3OdCE/AQVDgRnvHTpPI5kY+UIEJ0IdRgiTMGAiFXYx56OJzH+YsM3f0GmJjFtM\n",
       "TfkJ6jKaZpaUZX2y5VxoK+IPpeVSlC4KEmbcgOkteILI5teGsD1N2RZuVE3FpFtMTakHsat2Eqax\n",
       "pUdyxUdKo5gHtv6BrxxFv5Zgk5xrYMq/ePwgvlrDmIjhp7IEvupjVmd7wRRENxcHuFu6vO2OT+H1\n",
       "Lnhp83WlHHZiw1/AwQtNPyk9v2xU8PM2gBHC0P9K6n59PtGsE6YW+Ul3NeWMm+2TIHxUq9U7emWr\n",
       "o04fJ2YBPmo5fLLUvtIsbXGO/ES6H5tbx44NcwqWyYOFTaV6x4JJWbA7QwsscU6B2PKTJDVtAzvX\n",
       "TpuN07mcXelYMMELduGlLtpDspGfAPtw+SrMR5ZdnHd515zO8hNgAWM9vnaaEx7i8IktP0FGZZlg\n",
       "xqtPjDbfleHGHUN+goQcnKiprDQu5gwjmubnAob8zCOmVG0HQ36mxFSIvMBjy8/w2FgSpP1Jhvw8\n",
       "s0Znh66k3tqeHfL87RVTSNQBebBie2vea7yIEhyq/aFSwaPS+05YXX/ePuV6k5/iftuw/ga0+rZT\n",
       "oADaLYgEewViEvSb4geU4f8DsSlWhpwxuMIAAAAASUVORK5CYII=\n",
       "\" style=\"display:inline;vertical-align:middle;\" /></a></dd>"
      ],
      "text/plain": [
       "<IPython.core.display.HTML object>"
      ]
     },
     "metadata": {},
     "output_type": "display_data"
    },
    {
     "data": {
      "text/html": [
       "<dt><a class=\"ProveItLink\" href=\"axioms.ipynb#condition__as__condition_eq_true\">proveit.core_expr_types.conditionals.condition__as__condition_eq_true</a></dt><dd><a class=\"ProveItLink\" href=\"../__pv_it/axioms/d0dc202382d6630c56a19d0c4385cef00f4bf3ca0/expr.ipynb\"><img src=\"data:image/png;base64,iVBORw0KGgoAAAANSUhEUgAAAQMAAAAyBAMAAACqrqNEAAAAMFBMVEX///8AAAAAAAAAAAAAAAAA\n",
       "AAAAAAAAAAAAAAAAAAAAAAAAAAAAAAAAAAAAAAAAAAAv3aB7AAAAD3RSTlMAq1RmmUTNIjK7EInv\n",
       "3XZ/CtNrAAAACXBIWXMAAA7EAAAOxAGVKw4bAAADz0lEQVRYw72YX0gUQRzHf+ft/dm7vVMxfLDS\n",
       "hSB6qNOnCCnvIooCwwWjp0ArQhCik6KnwDvoMfB8zAjuJSEM7qiooMzEQEIjLSOIju4hyCAw+qdI\n",
       "VDN73Z/d2/mz056Dzs3cju5nf/P7M98FoDc5AbVrN9M8q5qM0xuakwj+txyLXFnDNHzGxN31f0i7\n",
       "ONbsNk7bKwh8MwDeHT8K47sPm0QQgg3MJb5Z43yyYuz5DrDP16KP7yXA1S/C8Iq5IpQnIwCySGNh\n",
       "NJ5C3VMRhJ1Mh9wLFATUNhU+zuKuTQTBG2OtmONCkNZwPyUSvp5VxoLwugWCb/NHfXsuTkNyXt+J\n",
       "YbwP0CMUHCdZrmB22EPo90RcXi/+dcEXelTcn4uLILQznGHEZFsch4EZkBb02WgR4T3+N4FfQpkh\n",
       "k6df32IiaEa2lr5AKGtE0G/u/iaEIC/Qr0+b5pfHAJQUZDQjQg53t4TyArjp/uiverBR3XJRMCK0\n",
       "gUeFbiFXgADdeOEqQhQRGRWa6+IGhBF1z/ngrGCZmKbv0xMLBDlftyTpk6v6D0adzQcbC54d+GkX\n",
       "4TqAHnfbLK8qKQuEQOuDoWU8Ts63JF+06l8nr01qUIieJbsIUwAH8eeAdcDEgJEdywbTwmK+AFEN\n",
       "kjjaUtZpIc+P0LBd0BfQTbxoE4Oqdeaq+voz6R9Jf9YEEZCp3R2oXhFsVFV4hlVS/L5TBRHqkTM+\n",
       "z+XmrK+uVG2vb7/oncgIyAkOA4wRnDUNtW8KyqpD4KsoiOHHH0rP3rMRCCFUJOR0sFzpPQMV58U2\n",
       "2AgElP/q8l7jqfrIhiNAfxfqJrruY3fDoRXl2wiHVA3eCLg9iNLuGz+uSfpJ/FHJHWkJzylVg90R\n",
       "LiFvlGJ+bBAlW3mcW0lwnrhYquZoDrdFawQcCy50J0UL46GC8pR/lZyaxFVNhJgXioUoE5c70WPJ\n",
       "MU861FF6UI0TgUPVEBEyRdWqxEd60xMoIDuXT5crSAcvAlvVRChl6p8pD0TuwBUVLrQ2puNVNuJH\n",
       "IKoaIoKpFuLZsUCpRIf6GQg2VA0RwViIPNjJh7eWXN1lOrhJumPnGvhUjTEMiAjGTXPrQvN1eb5O\n",
       "kf02VQ0R4Rn9EP+VTGBX1ZAQfL+FD9h2VU1ETMpAN8UXmKqGzxdcDEHXp1Ejwo6qISHUM2RtKEZF\n",
       "oKsaa4SMaZOijGMRLSTYqsbQeglPtWj3RY/jqob5oodmJmdUjcx88ejNEi85o2r6mCdkP1myO6Nq\n",
       "XrKXfCLnRydUDccLYPNrcKfbcZ5Fp2pJ4B/kctlEDRHGdWf8C5YHKnNyINgbAAAAAElFTkSuQmCC\n",
       "\" style=\"display:inline;vertical-align:middle;\" /></a></dd>"
      ],
      "text/plain": [
       "<IPython.core.display.HTML object>"
      ]
     },
     "metadata": {},
     "output_type": "display_data"
    },
    {
     "data": {
      "text/html": [
       "<dt><a class=\"ProveItLink\" href=\"axioms.ipynb#conditional_substitution\">proveit.core_expr_types.conditionals.conditional_substitution</a></dt><dd><a class=\"ProveItLink\" href=\"../__pv_it/axioms/63e5e0c1276cb1bb5fa7a2b0d0bc38d036151d290/expr.ipynb\"><img src=\"data:image/png;base64,iVBORw0KGgoAAAANSUhEUgAAATsAAAAyBAMAAADRimGIAAAAMFBMVEX///8AAAAAAAAAAAAAAAAA\n",
       "AAAAAAAAAAAAAAAAAAAAAAAAAAAAAAAAAAAAAAAAAAAv3aB7AAAAD3RSTlMAq1RmmUTNIjK7EInv\n",
       "3XZ/CtNrAAAACXBIWXMAAA7EAAAOxAGVKw4bAAAFsklEQVRYw72Zb0wbZRjAn7bXu+tdKSWYGREZ\n",
       "xkT94KQxcVGiUOKfaZzS6LJE/QBOzRzZYsnMvkhGmyxbTGYKQT8wo54fXJzMwYRo4v4Am4oLm6Jz\n",
       "MWESSzKjhslYJzLRMN/3vWvvT+/eK/ieb8i171vuuV+ff+/7PAVgPkIpFlIOKODNqDRP30+sSIo4\n",
       "6Q2db8A0jbxoUUPg59LkrPEGb615Wmek64gBbMqo6nz1scMxmhw56gWdMGaeHzNOWuIQmGgnwPJL\n",
       "AKuoks56gVeWpeBJyPaqUqQt6BKO0yTd4UVw3AcUPOyaKhI/gd/P0STxcQ/wxkvDa8bZR75KkxRc\n",
       "YE8XWbTDaz++k/jl1qhYPYqtK/yF59w8VdZzHrieNd4exnoYg3eJI/FRzfe4HJnS9VPH3vkyli1D\n",
       "OIkuB2PwuLqh5PHKiJL7R6iy+rPM8aotdKtwkmsGOG/GKydgjTH67jjBHG/UMt+1D11OgTRv0R5+\n",
       "svQlXVaAeWyIV6wr3QhjCQJzZjyUUp4EbowuTLrCPHCLvjCKXCkHvtbbTHhiLrAndjS5TFP898PU\n",
       "iA0evANr4iTdhbrwHx4Xd8LhKlVHfzpKexuAfJlbWOGFu+zw3pvZU4MjGiW9D6ovk3gUbzhyDkTy\n",
       "H987ShsGeAi/bmaF1x8Hl11DH2/CLy7SGhOQxuHfxSztZUvH6/a3ukvjUWqWa1nh1RVJuuj4v83X\n",
       "Uu62CKDUyDMLjcaiJ3Y6fvXXT7hJK0eBcWZqapwZ3qWiXCE0rdw05cjpHgHYxwxvmOkuHkbO2Q6C\n",
       "46mes131W1QUMfgTUzy89YUUuVDqiVu0Bx6/QBBC2vrM7DrDXXcbRexGBtCzyWq2pzOU5P1ZQ2Tc\n",
       "qJ5TN2sVjYa3MQkdusakqLVufNZDPGht0Be+KpSYj+p4fqRjjqRGPz4Bcaa6OoxilVdKM+5yK3Jy\n",
       "rvm4DV36Gj7Fxl2aRvIFXAI06nidiEA7clyPb0IKHJzJazMzW2XIm8O0Xd5akTckSggN6EDGkn4Q\n",
       "8VkjMhlBfuTDq0d1PFyOyiNyLxpbEekOgI+SmSSH5z3wu3IB/AXnu5RyOZwfOFM4RPO3q4dAYehI\n",
       "pQMediMfEsnFRWznUCyA0MID+TokVCi+eM3hhhLwNMCDsDcvogfWQrDLOS1b97cXVO/+A+B+QT2y\n",
       "fJJSFWKT9/JfO5yIRIkjcegljDyMKFPDw+VCRrNa+2dwM8AXMK17axOIBby6hBteTn2PFFmhvtuP\n",
       "b/7cflPLt2v6k6F6dEc5hJEbheJBpSym470Bz8BZIMbtRTe8BtIC9HyoGXcOThiMm4m54AX1QvM6\n",
       "9WWbc8QXDhjhZOYppQ/KlHuhDyWV+l+fBx2vY/uh3dpjB9XQGBPn67U7JwNdEMkWmcMJT56w4HGk\n",
       "FB9OUQ8YwQfuHIS9teITWXSFV2oqFENaFpqmqwQ1beOnh5Kw4a6ZvJp2zZKVfCpodcHja6bxM3eM\n",
       "Qvo0sW4ncYzmRAk7eG3hukHKGneNYPxQvoWDJgNFnUw9SVsO89wUGdFCRd7fJi1oHQDV95rJQ1+2\n",
       "TUhmkweVwrXzJsWIJ1w29irXWcXoC4FFSmvtpJpcvtYKOBXvJ/wg6R/bO06Z60r9yp8DIx5sMypf\n",
       "tvY79Q/FnDMdqciRBv824RGwgG3JKCy59RLtly14Umm1H6nIz0MwZ8KbwpeDrf9PGQ7rKb7XTdIe\n",
       "t2jCWw3BWlhv63o+9k2MlgQ9cq/ifpARL1N7z3bZvl1Qzr4FVBan41WiJI9HL/nD2/xYVq5QbAvy\n",
       "RvYNNFrokop8iCgvfboq/U0NWU2/dSwBKbuC/Fv27UcYd9lz7TofiYid73nRvKVZxBEveqv9sgd4\n",
       "/IDjR04VOXfNtgXeoniAJzo37ZwqcvFH2w++Ay/Gb85JflkVuTc/Wll/8lvx2AjejE1snKTNIzw2\n",
       "PzfvJ4HxL0EKbSFnHLA6AAAAAElFTkSuQmCC\n",
       "\" style=\"display:inline;vertical-align:middle;\" /></a></dd>"
      ],
      "text/plain": [
       "<IPython.core.display.HTML object>"
      ]
     },
     "metadata": {},
     "output_type": "display_data"
    },
    {
     "data": {
      "text/html": [
       "<dt><a class=\"ProveItLink\" href=\"axioms.ipynb#true_case_reduction\">proveit.core_expr_types.conditionals.true_case_reduction</a></dt><dd><a class=\"ProveItLink\" href=\"../__pv_it/axioms/9151abb9e4e0cba92a2ae162c7e73f15a663ee9e0/expr.ipynb\"><img src=\"data:image/png;base64,iVBORw0KGgoAAAANSUhEUgAAAe4AAAD7CAMAAACbpYf4AAAAVFBMVEX///8AAAAAAAAAAAAAAAAA\n",
       "AAAAAAAAAAAAAAAAAAAAAAAAAAAAAAAAAAAAAAAAAAAAAAAAAAAAAAAAAAAAAAAAAAAAAAAAAAAA\n",
       "AAAAAAAAAAAAAACwjqETAAAAG3RSTlMAq1RmmUTNIjK7EInv3XYgpUAwucNsr99chXwZ27ZgAAAA\n",
       "CXBIWXMAAA7EAAAOxAGVKw4bAAAM3klEQVR42u2d7aKjKBKGVVAQkJ6e6e3ZXu7/Plc0JqKYKFEk\n",
       "5q0f6T4cD6KP9QFSqSyDvC2i+NpL56aT/NIXWZXjn4ip0xoea8SkpempHIFbklbKK9OmzsNMw59t\n",
       "oo+5T3I6IouE5IfgZlc3YIUaK4/erttMkd5IFNw4vEuy0xCVryMC3CGe2rmXpTFiaw+lod3tbzKW\n",
       "O39c6J3GWPooAHeI5JXrFWXAE9N3NHMCu+HO8hq4d7rA8k3lviOhx+FmpgDuXaJyR7lzU2Up4s7q\n",
       "Brj3iNPc4KoxdFHBcqmZjx+rVGvGea7U1JzviJsbDdw7KLerNcYsESpVeyNqv6mv8qN9d3tqBdy7\n",
       "K80i7j5+p93DIcjE4tcRcBcz7w3c2/3tRF2NWZgq0+7eNjZs51o38XFns6gCuDfPoKZrKou4Vd0d\n",
       "3jv64gzcueHA/Z6QqYVcwi06Iz/c4FNwl9MVAeDeHP9MQ69l3EW/IlOws3BnRgH3m7Z8OptdNOa1\n",
       "tpRpRr3aXT8+j8NdT6w5cG+25XItbpFryVmu+Rx3N+MW7afJ73hpY0Wp7p+d3h7ryWiBe3P0U67F\n",
       "7Wptc86ksQLud0TNbljKuLPJej5wv+u6s3///e/LP2OyMlKfMN7KlMAdLsV8J8M67T5JqLvkB9xb\n",
       "b5/8KNyTTXTAvdU4Fh+Fm7szb+DeGqnxj8It3L2nwP1WpJs87nZ0HLhDhXk2ahvzJ+ERN473Ae6N\n",
       "gXmTfZZ2V05oDtybRHv2pb2H+6i0gkFyZyoB3JtEehIIgnAfn1ZwnznmwB2uK/k+uI9PK7g/oBVw\n",
       "h0rt2XUaZsyPTysYcDfAHR740F0j80P3md+iDQXc4dMauWuodjxu4kwdgXuTqG24z00rAO73cesN\n",
       "uM9OK+hXCoD7DdxkPe5RWoGQMncj8Bq40xezBfcorYAO3KPjLoH7HdzFetyjtAL7wZyXFbFwc+el\n",
       "zhG4f/z146q4//n196zt92/ut+WjtAIizsL949ev0U8//4J2H6TdblpBlslTjPnx2g3cN6LjtIKM\n",
       "u199FSetALjj4XbSClg9ph0rrQC44+F21lVaFWdn3BbgPgE3qznnVAD3FXC/fkWiDvqCSuBO05if\n",
       "JsAN3MAN3MAN3MAN3K78NH9fF/d/giLz8+Sng/t/0G5oN3ADN3ADN3ADN3AD94Vx/wFuaDdwAzdw\n",
       "AzdwAzdwA3eKuLFmvkLEG+WotsHAmnkK2t1QGHMYc+AGbuAGbuAGbuAGbuDeEfdSwi9wQ7uB+ztx\n",
       "x1pmAe40tBvLLDDmwA3cieMWRFwVN/3NPLhT3rwkfv8e/cQItBvaDdzADdzADdyYdwM35t3XxY20\n",
       "Amg3cAM3cAM3cAM3cAN3kriRVpCQIK0A2g3cwA3cwA3cu+M+tIQ3cCeCO04Jb+BOBHecEt7AvTPu\n",
       "4LSCKCW8gTst331wTWfgBm7g3h/3YvHu26/jlPAG7ji4nxXv7iVKCW/gjoJ7VLx7Sepr4EZaQeYU\n",
       "7z4VN9IKomj3qHj3xbUbuCfFuynhWueZJjUH7ovivhfvFqS0ftzG4ToH7msa80fxbia0zSAwrWZT\n",
       "x5VHKeEN3HEi81HxblujmysbuY3+OlIJb+DeHferzUuqZa5bJWYmi/6tPcAdZ5llNPsxNw0ndUaB\n",
       "++q4S2uWK2aXVbUA7qvjPlWAG7iBG7hD5evSClLGjbQCaDdwAzdwAzdwT0T4HoGUcT8WZwuyJ+69\n",
       "+00Td3s/t6+Milo1hwxw1vEcN72/g6/Ynrj37jdN3MQEGcjqqOXUScdz3HxQQ1bvasz37jdN3LkJ\n",
       "enV1mAeYdOzx3dWtQRa74t673yRxt647JKGvNAetnk879uAmN9e60/f43XHv3G+SuGWYcsvmoBFO\n",
       "O/ZF5v37dCX3jsz37TdF3MyoIDWtcq3zI4zetGMfbtrFlrXYG/e+/SaIWzQqKAoVpnV04q0Ja7/z\n",
       "5Sb5Ysc+3CwfPlYLa6hsnRZR+RPcAf2GPF5VfRJu0QQ+ykXHQOndBzjr2LvMYkct14UcXOd13R5a\n",
       "5Jls/4rOr3eUVrCh3zckj+YtJmkFxARuRqJdOGP2H/esY29agd38uC6gopQPSyfabsWRz4z5hn7f\n",
       "EcVP0u42UAtbQOqyS8oDJmOzjv2LqFVGegPg2wPft3XTd32/vIIXJdMvcD/6zYQkWs6clb/V6+4W\n",
       "j+SmHfD9mqQmcxvpbfTFtS+Om4VqNIx31w19azLm992zjv24ZdFPkn174Ic2ZtfoHl6Ct8a8KF/g\n",
       "Hvpt3RzzLKb7W720l4/Ujcj0sJbUlP0eX/eZ9zX6dOPVcfOJWBM07bZOQKgDlpZnHftxs1vI5dsD\n",
       "P7QJ51tiCntIt5/2Ge6h39YJ3PZaZ2wU3txby0LT8rkTyZZQ1O2gyM1l0HY8grsnGRpfn+P2x1tw\n",
       "l0YFUMnbIdfbl1FflziYdbzwRiwfLtO3B962lbaNVHUnRY9bSJ9ndpRw6FeVN3vBi+Zx/nurstfy\n",
       "1D+X05wbx3XT/HHY9CRD46pzbF1myVSIORe5pCG6/bLEwazjVy9AfXvguxtK25+5dLTbKswL3Pfn\n",
       "0ia3E2FP/SDxaGXZczP6OJLQghBaFvI+OnsJ6obhfuox7lvjq3MMx7W9k0KuxU1N0ouGL3BP9sAL\n",
       "ObQ13AJ+2EjSqYJP4bwuVlnXW5IH7q7nUWtmZ3d9q+/jfmRhn8VWD4v7r9r+SH37f2U7kQ/cbuOL\n",
       "c9yO687QrMVdGiM+F/dkDzy3atO1aUk6x3tTKt70bzXX4i4pKfoubiT6nh+t/QSva+WKuR/Oke0I\n",
       "RKtQtLgfTrUe/s8oIXpkQtzGF+cYjmsdEKvW4uZh70gSwT1fp5nOh6zvLtctoi44IOHpWbbRte98\n",
       "87ZW76xmNxmZ/qrwnGTcuPYcjZ1wlmIdbnGpzUulCDgDe7oqp/oXok7PlTGmWTqf0ybsHLG0DodN\n",
       "fjX6//0k48a157BnKCRZqd3X2qtGsp1xv+iZbBsDeXUYef8c34Q7QJBWkJAgreAt3NBu4AZu4AZu\n",
       "4J5FiLoE7svjjlOpALgPwb29jlicSgXAnYoxj1KpALjT8t0Hf3U9cAM3cB+IW2pN5vtjIlUqAO64\n",
       "uJndEUR9u+CjVCoA7ri4u23Ado+/IJP35/V1cH9ZtYLlOmL3DcBc6+Yk3KhWEE271WibdnNZ7Qbu\n",
       "m2IZDdxfpN23X5TA/RW4+5i82yE9wx2jUgFwx43MpbxtgZ3gjlSpALgPwb3iFUnRnDRi4I6n3cD9\n",
       "lbiZrIzUwP012n2aADdwAzdwh8rXpRX8SXjESCuAdgM3cAM3cAP3rriRVvANuJFW8MG4kVYA7X4u\n",
       "SCv4Qt+NfebADdyfixtpBV+EG2kFX4V7SCsQUuZuBI60gk+QwLQC66JpcwpupBVE0+57WoFdSmFO\n",
       "IQtsPL4c7kdagTV3wH117R6lFUzruQH39XCP0goy3rihGtIKrheZP9IKnGIZSCv4aNyvX5GwNjZn\n",
       "p9wV4I6n3XfaNeecCuD+DtzKWMmA+ztwnyjADdzADdyhgrSChARpBdBu4AZu4AZu4AZu4Abu78H9\n",
       "B7ih3cAN3MAN3MAN3MAN3Cnixpp5QoI1c2g3cMfGLUwF3F+k3Q0Fbhhz4AZu4AZu4D4F93LCL3BD\n",
       "u4EbuIEb827gxrwbuGHMT8V9YWHc9wik/Iok4/zwB+rC2l1Cu2HMgRu4U8GdAXegKA/atHGXwJ0C\n",
       "7ljzbuB+Qxov7qDIPNK8G7jfkMroDzPmhVHAHSq1kR+Gm5gGuEMlN/TDcGsnRgDuTUJN/mG4pamB\n",
       "e5+b9wm4qWOPgHujJ6z2isyjRRsauMOnNerDtLty1gGBe5Mwz1ddpo1bOd+aD9zbxMyvLW3czhsS\n",
       "4N4ozfwNaNK4met9gHvrxJvsi/vgis6lG1sC99ZVC7oL7lgVnbW7DAjcb2mLlaC0glgVnXP3BT1w\n",
       "bxMxD80DX4D2NI4uNdQ4kRpwb79/bEfffXSJXzFZJwDujSJncFPGXUzW+IF7s9PNN+D213OOV9F5\n",
       "4rqBe7Mosxr3cj3nWBWdp4MF7q1CDV+Le6jn7JMoVSH51BQB93ZrLlfipuZJ5bAouPV0nzRwbzeQ\n",
       "aiVuVWcn466m7++AO0BlylW4R/WcKeFa0+i4+WxnHXBvl4lDNGaB0FDPWZDSLpkqFht3PvMmwB0y\n",
       "9RbuwsvCjvGhnjMT2q68mtgVncV8Yx1wh9xG6erQUj7IvZ6zLdtcjv1olIrOes4BuIPuo3BCdfOq\n",
       "dq9q526UZpG/oUnNrQ5wh0gjXWv+wgAze5MbXvATH0rgDpfCucLSqOfqXVrTrGXcTS/CN2EA7iBx\n",
       "V0alydMbYu6b9QN3oDknbrRGUxtg6bU4x+DuJL8ybu7eTZ3c1TbTLXBNT+UAr0E6KS+t3qVrwViR\n",
       "2GRxdvd7KCT7PyYIOOI8QI8UAAAAAElFTkSuQmCC\n",
       "\" style=\"display:inline;vertical-align:middle;\" /></a></dd>"
      ],
      "text/plain": [
       "<IPython.core.display.HTML object>"
      ]
     },
     "metadata": {},
     "output_type": "display_data"
    }
   ],
   "source": [
    "import proveit\n",
    "%theory # toggles between interactive and static modes"
   ]
  },
  {
   "cell_type": "code",
   "execution_count": null,
   "metadata": {},
   "outputs": [],
   "source": []
  }
 ],
 "metadata": {
  "kernelspec": {
   "display_name": "Python 3",
   "language": "python",
   "name": "python3"
  }
 },
 "nbformat": 4,
 "nbformat_minor": 0
}