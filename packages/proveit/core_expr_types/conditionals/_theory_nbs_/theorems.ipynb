{
 "cells": [
  {
   "cell_type": "markdown",
   "metadata": {},
   "source": [
    "Theorems (or conjectures) for the theory of <a class=\"ProveItLink\" href=\"theory.ipynb\">proveit.core_expr_types.conditionals</a>\n",
    "========"
   ]
  },
  {
   "cell_type": "code",
   "execution_count": null,
   "metadata": {},
   "outputs": [],
   "source": [
    "import proveit\n",
    "# Prepare this notebook for defining the theorems of a theory:\n",
    "%theorems_notebook # Keep this at the top following 'import proveit'.\n",
    "from proveit import Conditional\n",
    "from proveit import a, b, f, g, m, n, A, Q, R\n",
    "from proveit.core_expr_types import (x_1_to_n, y_1_to_n, f__x_1_to_n, f__y_1_to_n, \n",
    "                                     g__x_1_to_n, g__y_1_to_n, Q__x_1_to_n, Q__y_1_to_n,\n",
    "                                     Q_1_to_m, R_1_to_n)\n",
    "from proveit.logic import TRUE, And, Implies, Forall, Equals, Not, NotEquals\n",
    "from proveit.numbers import Natural, NaturalPos"
   ]
  },
  {
   "cell_type": "code",
   "execution_count": null,
   "metadata": {},
   "outputs": [],
   "source": [
    "%begin theorems"
   ]
  },
  {
   "cell_type": "code",
   "execution_count": null,
   "metadata": {},
   "outputs": [],
   "source": [
    "redundant_condition_reduction = Forall((a, Q), Equals(Conditional(Conditional(a, Q), Q),\n",
    "                                                      Conditional(a, Q)))"
   ]
  },
  {
   "cell_type": "code",
   "execution_count": null,
   "metadata": {},
   "outputs": [],
   "source": [
    "implication_from_conditional =  Forall((A, Q), Implies(Q, A), \n",
    "                                      condition=Conditional(A, Q))"
   ]
  },
  {
   "cell_type": "markdown",
   "metadata": {},
   "source": [
    "Note: to prove the following, we will need to use the fact that a condition of $Q$ is the same as having a condition of $Q=\\top$ in order to avoid requiring that $Q$ is boolean."
   ]
  },
  {
   "cell_type": "code",
   "execution_count": null,
   "metadata": {},
   "outputs": [],
   "source": [
    "singular_conjunction_condition_reduction = \\\n",
    "    Forall((a, Q), Equals(Conditional(a, And(Q)), \n",
    "                          Conditional(a, Q)).with_wrap_before_operator())"
   ]
  },
  {
   "cell_type": "markdown",
   "metadata": {},
   "source": [
    "Note: to prove the following, we will need to use the fact that a condition of $Q$ is the same as having a condition of $Q=\\top$ in order to avoid requiring that the $Q$ and $R$ variables be booleans."
   ]
  },
  {
   "cell_type": "code",
   "execution_count": null,
   "metadata": {},
   "outputs": [],
   "source": [
    "condition_merger_reduction = \\\n",
    "    Forall((m, n), Forall((a, Q_1_to_m, R_1_to_n), \n",
    "                          Equals(Conditional(a, (And(Q_1_to_m), And(R_1_to_n))), \n",
    "                                 Conditional(a, (Q_1_to_m, R_1_to_n))).with_wrap_before_operator()),\n",
    "           domain=Natural)"
   ]
  },
  {
   "cell_type": "code",
   "execution_count": null,
   "metadata": {},
   "outputs": [],
   "source": [
    "condition_append_reduction = \\\n",
    "    Forall(m, Forall((a, Q_1_to_m, R), \n",
    "                     Equals(Conditional(a, (And(Q_1_to_m), R)), \n",
    "                            Conditional(a, (Q_1_to_m, R))).with_wrap_before_operator()),\n",
    "           domain=Natural)"
   ]
  },
  {
   "cell_type": "code",
   "execution_count": null,
   "metadata": {},
   "outputs": [],
   "source": [
    "condition_prepend_reduction = \\\n",
    "    Forall(n, Forall((a, Q, R_1_to_n), \n",
    "                     Equals(Conditional(a, (Q, And(R_1_to_n))), \n",
    "                            Conditional(a, (Q, R_1_to_n))).with_wrap_before_operator()),\n",
    "           domain=Natural)"
   ]
  },
  {
   "cell_type": "code",
   "execution_count": null,
   "metadata": {},
   "outputs": [],
   "source": [
    "condition_with_true_on_left_reduction = \\\n",
    "    Forall(m, Forall((a, Q_1_to_m), \n",
    "                     Equals(Conditional(a, (TRUE, And(Q_1_to_m))), \n",
    "                            Conditional(a, (Q_1_to_m))).with_wrap_before_operator()),\n",
    "           domain=Natural)"
   ]
  },
  {
   "cell_type": "code",
   "execution_count": null,
   "metadata": {},
   "outputs": [],
   "source": [
    "condition_with_true_on_right_reduction = \\\n",
    "    Forall(m, Forall((a, Q_1_to_m), \n",
    "                          Equals(Conditional(a, (And(Q_1_to_m), TRUE)), \n",
    "                                 Conditional(a, (Q_1_to_m))).with_wrap_before_operator()),\n",
    "           domain=Natural)"
   ]
  },
  {
   "cell_type": "code",
   "execution_count": null,
   "metadata": {},
   "outputs": [],
   "source": [
    "%end theorems"
   ]
  }
 ],
 "metadata": {
  "kernelspec": {
   "display_name": "Python 3",
   "language": "python",
   "name": "python3"
  }
 },
 "nbformat": 4,
 "nbformat_minor": 0
}
