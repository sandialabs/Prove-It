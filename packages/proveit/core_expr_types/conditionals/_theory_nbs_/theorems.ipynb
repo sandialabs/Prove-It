{
 "cells": [
  {
   "cell_type": "markdown",
   "metadata": {},
   "source": [
    "Theorems (or conjectures) for the theory of <a class=\"ProveItLink\" href=\"theory.ipynb\">proveit.core_expr_types.conditionals</a>\n",
    "========"
   ]
  },
  {
   "cell_type": "code",
   "execution_count": 1,
   "metadata": {},
   "outputs": [],
   "source": [
    "import proveit\n",
    "# Prepare this notebook for defining the theorems of a theory:\n",
    "%theorems_notebook # Keep this at the top following 'import proveit'.\n",
    "from proveit import Conditional\n",
    "from proveit import a, b, f, g, m, n, A, Q, R\n",
    "from proveit.core_expr_types import (x_1_to_n, y_1_to_n, f__x_1_to_n, f__y_1_to_n, \n",
    "                                     g__x_1_to_n, g__y_1_to_n, Q__x_1_to_n, Q__y_1_to_n,\n",
    "                                     Q_1_to_m, R_1_to_n)\n",
    "from proveit.logic import TRUE, FALSE, And, Implies, Forall, Equals, Not, NotEquals\n",
    "from proveit.numbers import Natural, NaturalPos"
   ]
  },
  {
   "cell_type": "code",
   "execution_count": 2,
   "metadata": {},
   "outputs": [
    {
     "name": "stdout",
     "output_type": "stream",
     "text": [
      "Defining theorems for theory 'proveit.core_expr_types.conditionals'\n",
      "Subsequent end-of-cell assignments will define theorems\n",
      "'%end theorems' will finalize the definitions\n"
     ]
    }
   ],
   "source": [
    "%begin theorems"
   ]
  },
  {
   "cell_type": "code",
   "execution_count": 3,
   "metadata": {},
   "outputs": [
    {
     "data": {
      "text/html": [
       "<strong id=\"satisfied_condition_reduction\"><a class=\"ProveItLink\" href=\"proofs/satisfied_condition_reduction/thm_proof.ipynb\">satisfied_condition_reduction</a> (conjecture without proof):<br></strong> <a class=\"ProveItLink\" href=\"../__pv_it/theorems/e5832acd55dd3eda2d731c35c4aa2bcaf728baa00/theorem_expr.ipynb\"><img src=\"data:image/png;base64,iVBORw0KGgoAAAANSUhEUgAAANIAAAAXBAMAAACMkgx2AAAAMFBMVEX///8AAAAAAAAAAAAAAAAA\n",
       "AAAAAAAAAAAAAAAAAAAAAAAAAAAAAAAAAAAAAAAAAAAv3aB7AAAAD3RSTlMAq1RmmUTNIjK7EInv\n",
       "3XZ/CtNrAAAACXBIWXMAAA7EAAAOxAGVKw4bAAADEklEQVRIx7WWW2gTQRSGj7l0s5sLCUofKqYB\n",
       "QX2wmgcRLVhXije0NKD4IH2oFCkIxS0VQShNA6IvQisIooKuD/pSaeIFFbS1UiGoFVu0KGpwvYCF\n",
       "itQbFhH1nNnZ7CbdLmvBITM7uzNzvjlz/pkJgPskUHEhBXNIwr91f4s5slct/VjniuzXAKJUWeym\n",
       "tyeHxUoLSBgGqFj2Xa9fuzXfafA7gI30bHVDukjFgHWi3wDWCVWsfr0b5jU7DK5QIUMT6nVDqi8n\n",
       "AfoX47MgC/ccBntlgkEw4YY0NIOEaYH+aKOi2mn0A/Am0TVXYWqeneSbpvJOt8PwFoBHhcJDNyRf\n",
       "ziAJCz9oVD94FzIjbPnSbPkb7WXYPtiF5WWALQCnbezOjGmSyk2YmxTxJ/u0x4hTI1v+/Uqxc0OB\n",
       "0hjTTR7OYYRWIxKEqGkvMvie9Rf5++SnzbwWTnBhS8PgG2Wfjhuk16R96ZetS5eS0ICP5WhTDZpe\n",
       "+1tByFtIuxTo5DMNYS+hEgvfFIRzpSTG8H61JTUCvMRHD0ZaswiiBvNWk+TBuft6TRIcxoUO9UI2\n",
       "VUoqsMnb76f7INHmbsLcXIdFX90NWhzS0HqTlEY1eacsq0fGs5rexUKqBn8CtpthssRJ+q1bIB+u\n",
       "7MP3Z4EfWGXb/LZJqsQcHNIHixrXXjYBlR6lhNSTWNMRzNu6JH1Bq0sB1mK9EwXhkwNkMJTTFWWQ\n",
       "SP4VXC/BKCeJmuepLs1T7Ec6ymvBmH4iZsvX8CzUyDLANnKkm4IQIUMhVDJzjpOGab58UQKjnCTF\n",
       "b7ZPUD0zUpV5HGeNmTMDKWAbNyyXkc5PHo1jyzh/zSpiLc5JlP1qOGmSTsBueGIMeW53RhSTmIoo\n",
       "ThfUKK+ElJ4dah8qvHaiBUxSZ0f/kaTReZUzKbrE8YQxzPjrV1yFYwk4EI+plp0rbHhTVbwuRWr4\n",
       "OKupP9NOpEOlr6TjnZJmPSP8cn9RRbSx0rMd+4FXjhfCydIrmNSTXqRaScLnF8X2LualqxumPJXF\n",
       "0MsO0nGwkqBtTv9Q/t+fGRfpL761uRRSORTSAAAAAElFTkSuQmCC\n",
       "\" style=\"display:inline;vertical-align:middle;\" /></a><br>"
      ],
      "text/plain": [
       "<IPython.core.display.HTML object>"
      ]
     },
     "metadata": {},
     "output_type": "display_data"
    }
   ],
   "source": [
    "satisfied_condition_reduction = Forall((a, Q), Equals(Conditional(a, Q), a),\n",
    "                                      condition=Q)"
   ]
  },
  {
   "cell_type": "code",
   "execution_count": 4,
   "metadata": {},
   "outputs": [
    {
     "data": {
      "text/html": [
       "<strong id=\"dissatisfied_condition_reduction\"><a class=\"ProveItLink\" href=\"proofs/dissatisfied_condition_reduction/thm_proof.ipynb\">dissatisfied_condition_reduction</a> (conjecture without proof):<br></strong> <a class=\"ProveItLink\" href=\"../__pv_it/theorems/2f84381d903a1ce1b774396a756af73bc7b1a5ad0/theorem_expr.ipynb\"><img src=\"data:image/png;base64,iVBORw0KGgoAAAANSUhEUgAAAR4AAAAXBAMAAAAvnz2ZAAAAMFBMVEX///8AAAAAAAAAAAAAAAAA\n",
       "AAAAAAAAAAAAAAAAAAAAAAAAAAAAAAAAAAAAAAAAAAAv3aB7AAAAD3RSTlMAq1RmmUTNIjK7EInv\n",
       "3XZ/CtNrAAAACXBIWXMAAA7EAAAOxAGVKw4bAAADYUlEQVRIx8WWXUgUURTHz7ofszv70RohJCZC\n",
       "D/WQtg8RJKQTUiQiStZLBG2JWNHDChJEoS4EvhTqQ8T2UNtDERio9RCRiRYkldEGLQUxsPQN+WBL\n",
       "9vVQnXNnZudj5+osPnjYOzvzv/fc+c2955wZgFJNwCYeKNkNrrc7mrpke4ft00Gz5v64rFukK20W\n",
       "Gor5vDmAKJ1sdI5TNo7tj0E4GwM4OqRMfqZlIsbx22rAER4B+DYvKhcdhkHvAXbTf7dznhvYghmD\n",
       "cFgCd6aH3S14DKCC4/fAuA7fAXYKlcpFnaHDl4Yk8Q4752my8ogArqhydhwPIWl5HkD6cu3cyOOW\n",
       "CAmCNc55pq08aC6FwUeya8EBD9o6Ox54Cm7ccF8J4RPn87QNUN+vlfB0AjyX5WfOeTzjGk/PVB+L\n",
       "zZNRf9UMbZjwmw1YXIJH9Tk1A8m5cjueCYC9AJdt7svh8VH+eHCRvLNwlQWxL6rGjyfPLn/qc8jM\n",
       "lODaAwafI5z4ge3IDELUUCamPiToP2CqHaqIFq5RU/xWDFqZEtB4wqwKjE3blzpMcd1nhMezBedL\n",
       "B/XK5O0GYdbKUxApfXBsTxcFC8BbM88aRtJoW4CEinajD5dnCCM0ZwjnWmzNVp6CqPL4m3HRn4C4\n",
       "aFkfiirxsf0+n6OYKPhweQ5hizfgYbThLj0GJUejhUcXtf1CBPEvuBfMPJjp+8AzC/bxgwi6D5eH\n",
       "Hv32CRz62k9x6KJsnrTw6CLpOSW/xDzqm0w8/rx7MDaZ4Ndn3YfLs4OiE2fzSH7a/dC4Evwaz71U\n",
       "KpXRRUKJqvl+BWolVnYCw/Qjm++DCfUlMBa3y/eCT4r9zDziDzy00PMPUFhE6EYhDEa2UIb1ieoi\n",
       "LUJG5bn2dbCa6h8Wn5tV33Ksb/39LPiVbZXseDSf5Fxl8kU1qa2yPCfLL9mIV9iy6uixRKAegzQg\n",
       "edPhmIVHF8ne2NRn3S7CZ3BWn+2rgjZxKDHUkR7FtK7/0glmHkkXybYtyTNSFl8Jj0d7bG9T3R04\n",
       "XwO91eXponpYEFkHnkWmeRO2/Rvg9Mw74TltvqRc3i/miuqzJrKww9gV8rwJLzzk9fQ7+Ya4ZP5c\n",
       "pHdL/4Z0MY8qMqM3Yu/a0j+7dy0PFDEXCzd7H2ahmMeXhVU2YZXu+x96K+E7OWN07wAAAABJRU5E\n",
       "rkJggg==\n",
       "\" style=\"display:inline;vertical-align:middle;\" /></a><br>"
      ],
      "text/plain": [
       "<IPython.core.display.HTML object>"
      ]
     },
     "metadata": {},
     "output_type": "display_data"
    }
   ],
   "source": [
    "dissatisfied_condition_reduction = Forall((a, Q), Equals(Conditional(a, Q), Conditional(a, FALSE)),\n",
    "                                          condition=Not(Q))"
   ]
  },
  {
   "cell_type": "code",
   "execution_count": 5,
   "metadata": {},
   "outputs": [
    {
     "data": {
      "text/html": [
       "<strong id=\"condition_substitution\"><a class=\"ProveItLink\" href=\"proofs/condition_substitution/thm_proof.ipynb\">condition_substitution</a> (conjecture without proof):<br></strong> <a class=\"ProveItLink\" href=\"../__pv_it/theorems/76764afc98c2f884cc9e31536815aecde55b628b0/theorem_expr.ipynb\"><img src=\"data:image/png;base64,iVBORw0KGgoAAAANSUhEUgAAASEAAAAyBAMAAADhBnCpAAAAMFBMVEX///8AAAAAAAAAAAAAAAAA\n",
       "AAAAAAAAAAAAAAAAAAAAAAAAAAAAAAAAAAAAAAAAAAAv3aB7AAAAD3RSTlMAq1RmmUTNIjK7EInv\n",
       "3XZ/CtNrAAAACXBIWXMAAA7EAAAOxAGVKw4bAAAE7UlEQVRYw7WZXYwTVRTHTzsznY+W7mo2JOCC\n",
       "m/jgi7h9JnFbQowSQmhQMRIT6ldQRNKNvNmw+AIvmC5+RfxgxxcjwdBFTUzcDZQ1EQkx6apIgllT\n",
       "I36QVWTLrh9rsnDubWc6M713Ztrevdl053amp7977znnnv8tgIj2lhArx00Q1SIpV9d4pDMz2mVh\n",
       "RHe4u7/ucPelX0LaWScKSMq5utFFR6eA0/dkMUuvX9p8KuVrKN4riKiQd9utODo7MyBVhqmDxJ8F\n",
       "WOlv6VtBRD8Cn8hAL6uP3HgOXxIZX0v3iPFtqexDRPy+ThEjb0eu+5qKZYQQJcZDEW09QO7962tK\n",
       "+UcI0V8mg2j49H5yre7p1frPkmVT/yN9ecHf1hNCiKY9fRlDTzkHYxQ01tvwI7lGuwGTMCjCkTTv\n",
       "QpCA/ygFW2hHt4hW0JxQKvsbK1VFJGzPlww/Q5wG4Ac3UQ99LO2fkECviHBsT1rTNuHMnwdjwTNH\n",
       "5LuML4PiVoRrF73DRghjCaTrbiKM+20gnwswZtwQEWp5aIk1owaR3N0uIq0mHUpN5oOsnRVA9C60\n",
       "EsExWJehaUgfJX+k/bEfTq2uT8TffGvvAdAB3NUF0XkW0fuzh9aSjIjJ6MP+ORpA2qqJi6DRJ77j\n",
       "WzsDcD/5v6tzIGOeRcRub8BvQebSWXiZ5NPRLtLRUniiI9FcYJxUIYaxGh/onCha876T5GbBrTcP\n",
       "BJkrYfWCwRvrZudv2TvVGu/ZV6YCzfWgX389M3OhC6Jka07bd3vn5nrQgR4EeLsLovgiiGwJ9LRh\n",
       "UP3KWznAhCyWiGw2uhnPOhbh9BWaV5WxzRtoJaY3bsxee8B+6LH5T235EVAVtk2EYRGtOhxb2QVq\n",
       "fe/5E+BpB9H2vKPAT1aa9ecyEEFuyK2YNtGrPoA3m0RRnEx51FGn6rlQq9a2mKQlwse78eXE0Gck\n",
       "cEkop+mtKVC+ahKNYCKR7NlIDMDjVmaJ+9YPbYtJ4tlQQMc2LmnEcoT0J2lSWRraCE0iorPiZfko\n",
       "tteQ7+crdgmS9KvleWLy6s0jR1/lV1sRHK6c0cqWrKDVt1Qx3nEQXaiXzI12Hxwf52fIEGISUAaM\n",
       "MCO8x/LPRDZJHkjgMOhkEVcZdBB9QbYc27P7IGqvYHQhLFFTTNLNUGcud8kaaimvr0d6PaOYK1IN\n",
       "V5l0EL0OO1ACW6s2hSto77Q3whI1pRtdarYsKVqlfyJffMg8gZG//ven0M1xTk1Yo+RtosKLJw/a\n",
       "rqMuQqTyqNWb74AohlNcZBYcg9amr2y89xM4PAD71t5m5vEiOfY5HLzWnCN1w0+rVetTV/83tb22\n",
       "jPk+iKhFTNLdS50OUyMTvoeNav3CquMt5sxJ9rf2e/pbZkib9hGT6OTHZvvYhcmdbtVNPjiyxqxf\n",
       "eIjUOc4JWNpHhrLFJNaueWOVGaJGluhILjYuPETwQpZT9fHLPY6YBNiDCzfO+oS6FJzW1XYVZLCY\n",
       "BJjD6O5dNgUpl/l+xBaToGDGGGQeFUVEqGxlwTfWGGKS7s5nqhorZYs4ifBTXxwxWUCidHUbQ0ym\n",
       "hRz7+Vhhi8n4xEQK5L0pxnCml+XUL5R0W9ZTP2lRGJEu6ED7eb50Krdnaacphugw9wyGLybZ7RtB\n",
       "1XqSf2zQnpgU9iuE95eajtt2YZImNiDEjLZbnMoS84vfB9SvbwHCzFVVQ5MmyAAAAABJRU5ErkJg\n",
       "gg==\n",
       "\" style=\"display:inline;vertical-align:middle;\" /></a><br>"
      ],
      "text/plain": [
       "<IPython.core.display.HTML object>"
      ]
     },
     "metadata": {},
     "output_type": "display_data"
    }
   ],
   "source": [
    "condition_substitution = \\\n",
    "    Forall((a, Q, R), Equals(Conditional(a, Q),\n",
    "                             Conditional(a, R)).with_wrap_before_operator(),\n",
    "          conditions=[Equals(Q, R)])"
   ]
  },
  {
   "cell_type": "code",
   "execution_count": 6,
   "metadata": {},
   "outputs": [
    {
     "data": {
      "text/html": [
       "<strong id=\"redundant_condition_reduction\"><a class=\"ProveItLink\" href=\"proofs/redundant_condition_reduction/thm_proof.ipynb\">redundant_condition_reduction</a> (conjecture without proof):<br></strong> <a class=\"ProveItLink\" href=\"../__pv_it/theorems/c3a2cfe0cd71818685c0ee6440c21fbb64c6841d0/theorem_expr.ipynb\"><img src=\"data:image/png;base64,iVBORw0KGgoAAAANSUhEUgAAATMAAAAWBAMAAABeYGZcAAAAMFBMVEX///8AAAAAAAAAAAAAAAAA\n",
       "AAAAAAAAAAAAAAAAAAAAAAAAAAAAAAAAAAAAAAAAAAAv3aB7AAAAD3RSTlMAq1RmmUTNIjK7EInv\n",
       "3XZ/CtNrAAAACXBIWXMAAA7EAAAOxAGVKw4bAAAD5UlEQVRIx81XS2gTURS9yUwynyQ1VSlYtQ0I\n",
       "KkhtFi6kYBsRRVFp8LMR0WoRPygmWNxY2wSEbiytCxEValwoioW0Kir0Y2vVIioWUVxoMAu1Bbuo\n",
       "1fpDrPe+yUxmkpk0hS68ZF7uvDPvvPPe3HtfApDDQnhdCWIjb4eZNMaZ20K54QIfXvti6H3aYUS4\n",
       "j5aDckAaL+PUWWW21F14eclZZEqxDK9yYrH/1vXW+wH2tihkJzZ2+vOD9FauUyYMADiXTij+7a45\n",
       "mnwcvJac/WYMcg02PeS5hnTduwPADYUZu+sAQFF+kN56dL7jG8AqoZj5dyJgq1GBQwBRkttqxsD7\n",
       "TaXJADav4h3Exh3IC7KSBriQQsW7Sioeqv0rcDcRc/nMGNxgKg3NpszppG7bWL6QuTS0ucrXEWpK\n",
       "tdljwOHeOE0ZFk8lrTpC2M98oSmk8ezp+5FUpxN1PU8knpoybDRKC/c2sFg97BUX9NNrE34xxol0\n",
       "SFtDWdKE+cNJ8o/3Q/QZe6ONLKqq1WR1Ic96gAumDLXUrGNzYHA6BuESC3CnNxVQ/Di7/ZEeYQ3x\n",
       "CWZKIBLnzpCkpP0eNdaqWVQdVQsah3OGQfDqak7vBxV8mcptpSi0+2Ez65bU+T2MO96XHpwDAmO9\n",
       "kAeAV6LkjCrtPS1c/qM+ZcfBUsyVrniO/SAMpvxHyFJEUHgfLQrgrXH+WWzmKr+JtGxIp4w4+THw\n",
       "dBilMVHcV/UxEXPIntRlQRleG9LS4BS9a3EDLugJyBMZW0PLlh+D2a5lQTojTncrxINGaQlq2rW6\n",
       "5qDV1VRic6PyLq2IsqRK90JpJJtS/gvcmHF+rA1bgB80k5YFGWINOeNJdRpNWik4fLBJOzvttLqb\n",
       "WHjlNyLFLCvG3SmwTZ+h8jiCSwzzi+Nck787ZCYtG8rI0LgPiuwhg7QW38pjrvRqOErYemTjAyJt\n",
       "oLtDyRlmnYbi0QZlAVazpFb6kI02QKdyxMjfYQooQ5qUtL/i2c159qEEHEy6CpXTNY47xJMUG1Y5\n",
       "d7CAluvGwBXVlG82SLv8uamEyiFWrmsLvrCaJM7reg0ie/YV5IYypckl98Ij5EefFUdflLDu6MWe\n",
       "ILCK68E98Ki5GQ9JFahYCjhiHjWvPBGr0yBtZ2F4+lCP1RApWKAFwUntxAq1bI3dwMJRMVKrve3A\n",
       "1NLO2GumD1lL8y7W/DVaqq5ZfgtO+6CupDCmCT9HQcPCoM+KrHoyMn1o1GoIP6mdupk/huio2CYn\n",
       "1dvrdLJRnzBuRdb8AKYPNfosAPGdhkjG9HZQfjQu1H6DCihSWE1P182eyb8GCmduy4hTjp3Jr+E/\n",
       "sX8fqB+gG906lwAAAABJRU5ErkJggg==\n",
       "\" style=\"display:inline;vertical-align:middle;\" /></a><br>"
      ],
      "text/plain": [
       "<IPython.core.display.HTML object>"
      ]
     },
     "metadata": {},
     "output_type": "display_data"
    }
   ],
   "source": [
    "redundant_condition_reduction = Forall((a, Q), Equals(Conditional(Conditional(a, Q), Q),\n",
    "                                                      Conditional(a, Q)))"
   ]
  },
  {
   "cell_type": "code",
   "execution_count": 7,
   "metadata": {},
   "outputs": [
    {
     "data": {
      "text/html": [
       "<strong id=\"implication_from_conditional\"><a class=\"ProveItLink\" href=\"proofs/implication_from_conditional/thm_proof.ipynb\">implication_from_conditional</a> (established theorem):<br></strong> <a class=\"ProveItLink\" href=\"../__pv_it/theorems/aa98bdea9b7af342767a4f3f696745564500c11a0/theorem_expr.ipynb\"><img src=\"data:image/png;base64,iVBORw0KGgoAAAANSUhEUgAAAMYAAAAXBAMAAACi1y3kAAAAMFBMVEX///8AAAAAAAAAAAAAAAAA\n",
       "AAAAAAAAAAAAAAAAAAAAAAAAAAAAAAAAAAAAAAAAAAAv3aB7AAAAD3RSTlMAq1RmmUTNIjK7EInv\n",
       "3XZ/CtNrAAAACXBIWXMAAA7EAAAOxAGVKw4bAAAC+UlEQVRIx61VTWhTQRD+bF7ykpfm2SJ4EDQB\n",
       "oSfFHET8QY34T6sNKlKrh5YigWJppFIUgklBPIntoSDooRFEEKS2IvYQtfUHIopSKAURQ58/B0Hx\n",
       "p0pbqlBn9mWTbWhTiF3Y3cmb3flmvpnZAP819EU4sdD4UFzdDjgtoILl1SVClPWxp/dSy+bRt9L8\n",
       "COxmOVIixk1e7iewpGFuF2ZocSXRwZ50lYixk3H48rM51Zo/CjhCDANvoESMIZotLPhznzzJvHpg\n",
       "MEHrCziCFE6p6SCKtCmWhDEx3HlOdOs7O98EvMpkXpaIoVHK48JmbTj3cUtejXUUAPqBfcBV8SlZ\n",
       "YEAKxrwYLjJRK3huJeJxIMNjLCTVh9DJdbcBOA1d1K/x3NZ8+bbXJlYevS142AocP8iC+ehTNKvx\n",
       "kf0xds34qyBXyeyGEGfLazhJXhGod1wojkYRi87CGBR3LgPTZ2l3RqCns5pyuiisO34pGMYpmziz\n",
       "e5efieykxFl2yuteizQOE0tdKobzkpW9y1WEtTT3KxgZEaraH+0D9t4LLCVrOEGzYZv4ZDXyGidi\n",
       "HD9UDNPFARs9uPCH6Ne5jLYrXPnhDKBGRG7nIxPJUQXfUNaru83CFPbwtpxZG1IxLE04GYfB0KKj\n",
       "H8heoAg7AxvbvGkljGMyfm4KvrKJZkykvA5feeMyFo5LDGfCFJB3bIxyrpTGrBkvHTTTlrdSKUld\n",
       "0hZjG5O0VLNrom6qU34++ZSTpOZcS/VPqxjknXtS9hvT3XHtYRiJfJ9nxVszzSjrmSCXRqXKtFOB\n",
       "btRjRK1dy06BxPCEnElfUN56Y58Mm9H5/y/0YSkdpiIIGH2ItfVeDCoYzOq4gqGnN39uyt1fb5+s\n",
       "qCr2GEiPtMcwak+6n0Df8X6FrmDUVODGBJWo4Q9d/83enllVmcx57RGSNjNVBONc4SPHnod6Z/d5\n",
       "4ThiWLl2E53kflfs3b5S8Lue2fj5tjhGfGW+jM4v+G4qqbKHoK4lXBzDNYrFGvqiWfoHmoK0F4SP\n",
       "8PYAAAAASUVORK5CYII=\n",
       "\" style=\"display:inline;vertical-align:middle;\" /></a><br>"
      ],
      "text/plain": [
       "<IPython.core.display.HTML object>"
      ]
     },
     "metadata": {},
     "output_type": "display_data"
    }
   ],
   "source": [
    "implication_from_conditional =  Forall((A, Q), Implies(Q, A), \n",
    "                                      condition=Conditional(A, Q))"
   ]
  },
  {
   "cell_type": "markdown",
   "metadata": {},
   "source": [
    "Note: to prove the following, we will need to use the fact that a condition of $Q$ is the same as having a condition of $Q=\\top$ in order to avoid requiring that $Q$ is boolean."
   ]
  },
  {
   "cell_type": "code",
   "execution_count": 8,
   "metadata": {},
   "outputs": [
    {
     "data": {
      "text/html": [
       "<strong id=\"singular_conjunction_condition_reduction\"><a class=\"ProveItLink\" href=\"proofs/singular_conjunction_condition_reduction/thm_proof.ipynb\">singular_conjunction_condition_reduction</a> (conjecture without proof):<br></strong> <a class=\"ProveItLink\" href=\"../__pv_it/theorems/ab5fc82fe96c222977f1d8b2e391c1961760c9a40/theorem_expr.ipynb\"><img src=\"data:image/png;base64,iVBORw0KGgoAAAANSUhEUgAAAPEAAAAyBAMAAAB/mSAgAAAAMFBMVEX///8AAAAAAAAAAAAAAAAA\n",
       "AAAAAAAAAAAAAAAAAAAAAAAAAAAAAAAAAAAAAAAAAAAv3aB7AAAAD3RSTlMAq1RmmUTNIjK7EInv\n",
       "3XZ/CtNrAAAACXBIWXMAAA7EAAAOxAGVKw4bAAAEqklEQVRYw72Yf2gcRRTH3/3e3bvdJFTyR63J\n",
       "QUUK/kgLIlI0ubYoFgpZsPiX2KiUQKF4RelfanLgn0Iuf1oR7h8LUuFCtSrYNimtlNIWo61WxMOl\n",
       "CK3Q0mJsE0JR3+yPub29mXlzpfGR7O3sj/nMvHnz5rsDoDZzGh64fdbQeWpdZ/FTV/iU0wobePMX\n",
       "/6fA71QFTxu/aoBTc52EvYnmjgYtKfIGHfOPV/kDr4lqfVKD/ExncSQGLpwGyG+6IyKnWXsLX36L\n",
       "DnM2C2ot9pPgwtnO8onYee5vgOcL69vko5x8mB2+mobUBMA+Ub2XSLLtycmA/R+IOoFk62dO3sHo\n",
       "dTycAXhaVO8TZIw9Bwoy2kMxsrPFjcgL+L+fnQwDlESQfIUin++BbBv1kJxGJ2dX2PX5aciLBjq3\n",
       "TICdVQG58PA1fwwOnoLahYE2+XGYDMlZDLAp1gwYdyXR9Do1zMm3XsT/V6vmavR2fJwn4dGQzLo5\n",
       "XmbX36pCZkJU8wgx0DOJBMYmknUasot+abaDbPSD3QjINlJ/Z1Vb99D1C6Kam56avCEBHsSuZW+D\n",
       "PScgp6bB8QJyCR+7xy5nljBh3RYm5UU1+VSi/MEhrLYOTVdAxjlsLbbJLXb5c/R0TtjnjDrEjKXk\n",
       "lVnfT2MgILM8sr3t7WHIlWEXZu20sHfWkjq0uxqGsd0sw2C62k1mgIMB2USvz5SffbvIMmCmruXO\n",
       "xGAsCMiml76c9Qsf+X8hOeMFS+qxMC07Z73iQCOcYtjHu4maPgHwJ85GIblUF5CtoW8OXGfntQvr\n",
       "a98PReQUoxieTzZY/2sfn3AB54YdBMXlRE3zAC+w30khuVkBIodBbD7H1qpgkTZdB0flPfEbYy7U\n",
       "2HQRj8WMd5/kYJUw+x8LVw9x3Xl0U7EsvDvSdfmGHtn0IzD774q0U8yfGUx1eYlHujTYVFmLbPk4\n",
       "47dy1Ihu68P4uthqnRffvdX1VmGbGF3kOuw7/+d9fueaxEt92LiXAA6J785racT7sxKmtwNQiC1J\n",
       "zsk/eE/H15Bs48wzG+1RgtxkTHsNwxqSMUulvXynHt35f5FhYhQPR0a/ZhHENMyYnrclor8Hb8NR\n",
       "FKbWFYMtD0ymwnEeYVXVciIR/T1EGLyLAZatGKz7pbm4Rrql+qaSif5A4NNkFtWoJnAxd9hpCdOK\n",
       "sSzPJBqiPxT4lPVFa0Kzam7FTpiVXMPmMnXE1STHRH8k8ClrRh9sperMy40jOKO2Xn+zndU365Lb\n",
       "0nu/5qTgq1Fux1NfwIdleGdooFHt8og+mQt8yhKrESvttvjaaE8Q5G7RzwU+ZZ1rQo6F69QjPGhT\n",
       "CTWUbfnWrxD9XOBT1jkgGf9j66d2eVXxfSsW/VzgU3ZOrXr/koMlop8LfOrD/J/elD4t+rnAJ4xQ\n",
       "+rBLMc5i0c8FPrX/Qnzd7HGVsS0Q/VzgUymM+KKzK0qyQPRzgY/tUvl8jBAdquCWiP5I4KubDT/0\n",
       "uluhIb1Dga82crdC5RQ52Rf4xJ4muSGWn5Pekon+QOATtofUloY8TGWiPxD4hP1IR/+f8iy0jQbI\n",
       "TGP3Mbnj+oDsFZ2H3lgDsLFP56m12Fk/7MfXf7RUU7wn/SGSAAAAAElFTkSuQmCC\n",
       "\" style=\"display:inline;vertical-align:middle;\" /></a><br>"
      ],
      "text/plain": [
       "<IPython.core.display.HTML object>"
      ]
     },
     "metadata": {},
     "output_type": "display_data"
    }
   ],
   "source": [
    "singular_conjunction_condition_reduction = \\\n",
    "    Forall((a, Q), Equals(Conditional(a, And(Q)), \n",
    "                          Conditional(a, Q)).with_wrap_before_operator())"
   ]
  },
  {
   "cell_type": "markdown",
   "metadata": {},
   "source": [
    "Note: to prove the following, we will need to use the fact that a condition of $Q$ is the same as having a condition of $Q=\\top$ in order to avoid requiring that the $Q$ and $R$ variables be booleans."
   ]
  },
  {
   "cell_type": "code",
   "execution_count": 9,
   "metadata": {},
   "outputs": [
    {
     "data": {
      "text/html": [
       "<strong id=\"condition_merger_reduction\"><a class=\"ProveItLink\" href=\"proofs/condition_merger_reduction/thm_proof.ipynb\">condition_merger_reduction</a> (conjecture without proof):<br></strong> <a class=\"ProveItLink\" href=\"../__pv_it/theorems/f5bedd7c5217cca639e002ea5e3119ef4908af760/theorem_expr.ipynb\"><img src=\"data:image/png;base64,iVBORw0KGgoAAAANSUhEUgAAAysAAAAzBAMAAABlFIoEAAAAMFBMVEX///8AAAAAAAAAAAAAAAAA\n",
       "AAAAAAAAAAAAAAAAAAAAAAAAAAAAAAAAAAAAAAAAAAAv3aB7AAAAD3RSTlMAq1RmmUTNIjK7EInv\n",
       "3XZ/CtNrAAAACXBIWXMAAA7EAAAOxAGVKw4bAAALW0lEQVR42u1cDWwcRxV+97/es89XCKgpqTkU\n",
       "KFZDkqMkUhtBfP0JpApVTFSKKJFw+VFoaZuzWiEFQnxFqAXJxC40iKS02bRSRJPGdpK2grpt3BRw\n",
       "ogrVlDZCoYaLkhaMi/Nr7DjgY352d2ZnZ/bGSHW0dp6iu513b9/uzjcz783bLwbQEnPXLgsuybTI\n",
       "FPq6rlIpXMQ7/cWswOMpikZNpdKpC0vzxbzfSH5WwGIctQ9i4YDlQ8Is/+IMxWVhqGCJtXjb79wu\n",
       "/P72DIElnQ0TLBuLnmZ0gv8NrW9f66B3971Ve6WrXeqZ3vdP5Xoy+6HKw1t/KrHNbD8/d2tO37fK\n",
       "D5U/hQmWvwpjaoBrfLUAsYFWEivT3wL4IG/n9NZzJYi0SPTiWFXYUzkP0JZlzX3OQX0npE5L9ILs\n",
       "U/jxyies8MAS6wuAxUQJAX1K8070Ucvli3vsrt2JH/K3fr0oKnsajidRijTGLnvEOeooA2wv+vVC\n",
       "ODwi9yNIshAeWGp7AmDBeRp9liRWR04x/fEP0O978MeH/XpRVPZ0sRpHV2Ddmfmk0yEnSwDri369\n",
       "cLqjF/wIkhgLDywnLS1YVpfwb+NMP/Bj8hUnqgMlUe8TlT0FHeHdwXqrznCO16MZcF6iF/rP0Qt+\n",
       "RLkjPLD8ESSwtL60iUTnu7PGvJfxKpYifRMfZZlBT5IM4jbyjKubRb0oKnsWQrgbWQDrWKz4flai\n",
       "94qrF/yIstgKCyzGuKCIoxiQ6Ift5AmSWTu2xM+QJlsfksUomUarSSRn64yj963rCns7tXh8eA43\n",
       "gdbBR+1l5/zI3pUSvSCuXvAjSnc5LLBE+sR8GWXBT+fhFlqpcGCpI2lzdx88aUfuBwDIrvlvGD7z\n",
       "P7B77xUevSiivVcOFM256AfbuZGFOrq0psdgxzZwnDO9MLRcve1HJTUDYYGlVkgnW7+JhzTAX7yw\n",
       "1BP0mvLGiB16LgcYwd+kg2NnoWAD6ehFEe29cje6Qg84ziMlyJTpHEOXvQCOc6YXhparp37UWedY\n",
       "WGDpELaIxs1otB0Gc1SYLbjDzN+jGEF7zkTjeg8+GMQfT7fAKLSVeL2Ywor2XkFbk+6s63wnsqdH\n",
       "9Vkw0W+2c6b3CtPbflRing0LLCfFAI2QMCchdsoLC0qN10C83+05vDmM50iqm8jB54uwjPacq5ds\n",
       "Jj32S64dyR53StcJ1F2LC65zvDm8gcaKPETPgeOc6f2byRs4P7EbN5+QP+3LYYHll+DPxMwzaB/+\n",
       "cQ8sxpnYQ/kXim7P1eHsDI/5jty196X7sepFj158QsHeXPoK6qNjZMOKAEOR60DZcJzjz+/QtNyC\n",
       "9CSUbOdML+Tejt728+TafK00HYTHwgLLYQks8DgsLJC8qaYT/8Py7iYgcdfuueX4Aw/2TH85fRmO\n",
       "srRu7urNf+MUocU+8NmnulpgHFZRE9iIurOpvMZ2HsNxogZPj9RrFsQm0fQizpne9UvOZnrbz3ff\n",
       "gXoS+LvFAXLAhoUMtfkasERIcj/tbz7MczJYdgw/1IAfE21afjXvNImmxtzeN8FwYSGZ0WaSYj36\n",
       "YjMezxssr/4N/FwF+8BvHykbffA6MkEdnu7tzUP83rztPEJQxlft7d0P8NnjtnOmd/2SA1fv+mmA\n",
       "tbRfxVy9qZnCsoKm1dVhiTeT5H7aty2TMljksgX+7sLiiUbNmSKkCindmyf2taVMZ+oUgvNqfs+p\n",
       "uPYUnBM5BDcZ8gSnTGF5ADvt1IDFwPNqw7SvYdEz+rA8HG2Rw5K9Ct36j35o6cKC7dvQfIl1otHc\n",
       "owHLFJwTFE/Bnxvl+8kChSVpqUvd3thyF6jr1u9h/XjcV/brU9murpQg9dwF384hXkFOXqtUdK9J\n",
       "7L+AloZUgwUm507mnMgUnJOELAvD8nBQn6WwxNDPSa2Q/yn03TLtsGR85dbUGZXtTw4qFsK3clO6\n",
       "psc+M62PW99pZ2J/GBx8VQuW2sHBt3qmHZb0hE91//tgxkptiw3LSoBtWrDES1BjTft9xidgNgkp\n",
       "VmBYWiElrwak3ngWPp1lsCCzVu7n4ZHPKRps/r90gs9PEttXXd8jbTD58rlnvDwX/sXWbIClz4al\n",
       "xkpL9oqb526Bj6StuMVtJ7fBs8zgtiJHffA0GAzrINXPK/4F8A15gyE54Lw5neWwRMuSiB/H7xDm\n",
       "lwtpfpe/iIv4OFOMd8oaTDDt6WZeMQfg5/IGQ6EANS2XFjGcXS0HXDs7lrkO75tpFe04Nmn82CYP\n",
       "LElcRDD3D+N5gStzMWcgexpsEcSpbROvOQiJQ/IGC3k5WFvyhPyxwBrATGPyuSEf9qENCa6dZTM4\n",
       "kJAqmkmGfmP6ia/wsKSvQkvanmIHhgUzf9LOBsLTYAMfX+EFHqfJ5TfKG0zajp/wJvSZ8aCnmHFM\n",
       "vtqsA8tGdIRrZ6U4DsGkipYgXdMIhSEelhSuOt8E7ViBc+pk1q4z0UZi0QrvFbC7O/g+GzAfRV62\n",
       "cY01J4S49hl4qqfKdpLfdGsz+XQofFq0PR2+XjBHL3jfUnBgieBFowH1dh25Gq6ixe7civw2wu4k\n",
       "Dwt+gQe/w8VugFdw/aZoLLRYoxa6vbCgjjHGvHFjMcAPjnKNPlNY++ZA1KuJjgZtajSZfApKniA6\n",
       "tD0fX08qgRy9QOnuAb6wfwiGoM1wqmhGD50tiUUeWPBiPgY/24W+H4HbMTWTvqGmjRSdR6yyVEhY\n",
       "dXlYMn/Jml87cQOvaUe5RtEQ1r6DeDWMrbjGnTLGWV1YAph8ckqeIDq0PRD5evIqQSBHL1CcUqVb\n",
       "O2uA6+Kw266ikYVmKdCZwcMC/cboMrMHNt7X9WCewMIasAU3dtMP5Kl/2T++jvK3ztrmBYDa0GbB\n",
       "lYkihoU1aprZKegjNQGRgS9Fh4D19zldWEDN5JNT8gTRoe2ByNeTF4wCOXqBsjjHw5LIwjpo/Se0\n",
       "52gVbQO6tnGkSF+yeGC59ZrhvHEQUtcfuyJFYGGNeAk32otGP/poz8H9DZdZqONLO/EL0/ZcZvvz\n",
       "8OAImS2ssZI7BR0NXbCMe8twOff+8MjUYfEx+eSUPGFPoEPbA5GvJ5UqHL0gIa/I/W8n7WBm/mbr\n",
       "FrH4wi/4GMlCF13E3MbzGdpgnm41y1AHC2Ag73qmi5jTSFtl7hT3aCCz1C3zzKsGS3Umn4KSJ+SA\n",
       "OrQ9EPl6qnpjEEcvSMhs9cGSsNQ1MU5wWpo6fRSMd/exRrLyX9pgntqutGAHvA0NReZ586s51lhf\n",
       "GWCnuEdmNrrfVTYJt3TLIBb61JpMPgUlzytatD0fX08qVTh6QXJYCksMtGAhyec9zaqG6yn5ptxz\n",
       "zOdMOOKDYEA2qsnk81H4ZKJD2wORryeXKhy9oBx9UgoL6MEy7Rssuegy+XwUPpno0PZA5OvJpQpH\n",
       "L0DCQ9+L96kTUT0mn4/CJxUd2h6IfD25VOHoBUgkNGTXxKg6tugx+XwUPkWwrU7bA5GvJ7/jahy9\n",
       "gGShHBZYKF9ImYlVZfJZIFD4TL8fzkZN26Pn8Xw9f/zgT1Jz9NRC85tQwNJkBSbIVZh8hETnofB5\n",
       "qHXkgLdR0/aIgufreZ2Qn/mT1Bw9tdBFIJT/SU+ApRqTbxB3DU/hw3w8gbvH2yhpe+Q8D18Pn+Yl\n",
       "6nlOUnL01At2iP6TXmxCe5fPhDH5onSycRS+q/2VaM5GTdvjFcRT1D+PeRslR08pNdnwwALf/j9g\n",
       "YUy+tPPELoXPP/t4GzVtj1cQT2n/dTkbNUdPvQ+1QgRLuzJw6jD5uuw826Xw8Xw8W3gbJW3Pcx7x\n",
       "1OUP+ZyNmqOnlNchRLBklHepw+SzO4pR8iR8PJ+NzCyjOi3QZioSrj8uIv4pHk5mFpPvNpgqLMsu\n",
       "5p95S+ZgNohxF10Id3Vpw3Lpz7y997LTzgcrlc7/Aa6iaHiiJeOfAAAAAElFTkSuQmCC\n",
       "\" style=\"display:inline;vertical-align:middle;\" /></a><br>"
      ],
      "text/plain": [
       "<IPython.core.display.HTML object>"
      ]
     },
     "metadata": {},
     "output_type": "display_data"
    }
   ],
   "source": [
    "condition_merger_reduction = \\\n",
    "    Forall((m, n), Forall((a, Q_1_to_m, R_1_to_n), \n",
    "                          Equals(Conditional(a, (And(Q_1_to_m), And(R_1_to_n))), \n",
    "                                 Conditional(a, (Q_1_to_m, R_1_to_n))).with_wrap_before_operator()),\n",
    "           domain=Natural)"
   ]
  },
  {
   "cell_type": "code",
   "execution_count": 10,
   "metadata": {},
   "outputs": [
    {
     "data": {
      "text/html": [
       "<strong id=\"condition_append_reduction\"><a class=\"ProveItLink\" href=\"proofs/condition_append_reduction/thm_proof.ipynb\">condition_append_reduction</a> (conjecture without proof):<br></strong> <a class=\"ProveItLink\" href=\"../__pv_it/theorems/d66601b9923d4efb4cd05da7af9a024b24c12bba0/theorem_expr.ipynb\"><img src=\"data:image/png;base64,iVBORw0KGgoAAAANSUhEUgAAAjMAAAAzBAMAAACQ45TYAAAAMFBMVEX///8AAAAAAAAAAAAAAAAA\n",
       "AAAAAAAAAAAAAAAAAAAAAAAAAAAAAAAAAAAAAAAAAAAv3aB7AAAAD3RSTlMAq1RmmUTNIjK7EInv\n",
       "3XZ/CtNrAAAACXBIWXMAAA7EAAAOxAGVKw4bAAAI2ElEQVRo3uVbe4zURBj/bl/d7e6WxQfxeW7i\n",
       "I0aiWRMkSiK38RUUDStoiIaEJWrwEaVEolHRW4zxEZFb/zDhUGONCYmHcndi1HCKBxhOBcP6QBPj\n",
       "aQn4jMKBnNwdhnVm2um205m2SyRd45dLb7+v37Szv87M933z6wL4SE9PD/z/RO7p0XydfqgfOg63\n",
       "Xt2qkKwx/qfq9aqv867j0YO2grNDN7cMNs/RwRINCZrTnepPtzLnZ5bCgiZSCxeaaNnZnQmbIm0F\n",
       "SJw/anx+e+BEXnuRXSiPzO4vMCbllfFTu/Nu1/5woVmuOtR0zabE0dJ2uXQa+fxOBdpsKKbpN2Hs\n",
       "8Bb/NpZ/+k6AKezZSVWQDrgbZQuhQvM9iKEBNNknG5/W4t591DjzZplvl7/m34b6y3ehQ6bInO3S\n",
       "AV5R3TPq0zChiQ56QYPkJOPfvfhwVsO852S+XbmYvzRR/wS+ftsIc3Z/BWCJGxq4PUxoMn2BoImN\n",
       "4eOHFctce4Zvzyb5X8P0hznYNT3GnF0CkBzntFqohgjNfo0DjXT6zzpWHtgMK3aQGdVJOjfHGhGR\n",
       "voTKs8NUWMwNNqa/RACIjTKnkfXRHKdZIhciNJ8zegyvCQvUlBGoFtG1Zg5ZRRtjPqFGijw7AuYc\n",
       "3m2of+wg0Q47z8bH9/XP4iI6ER40SXZoL0dBQd4KMWNePU+h+QEPLvlvkKcbbisAvrXb1/UbcSyZ\n",
       "gywvq6f+WfJde9kF7jC8uoabEB8ND5o2ppNL78CPdgSyfU5o/iY9/BNW/WH4nQKwz24vwg3G9Sqg\n",
       "6Jz7UP9J5H4dTGKTQNYj3P69HB40GWaGJ69FzzxThd6SE5phfHgDTbYLjaeJPr1pt49CJ1mK16Jz\n",
       "Nc7Tp/5ZfFLexqY1OZAPcPvXoYYGTRebmKYQVr06dIATmrMgnofrVQoNTuBieZt9hgkNTviu4Cd8\n",
       "xB+F7bkQG4Lolat2K5fRwLawABF+4dxbCA2a/WwygSNUbx6mRFQHNF35S+9PDwGFJouDTdluhw+M\n",
       "GI3jGietpf7Jg9GnCu+r8NqCQian5EhSiRZzDdJHoSIc1aFA8xJwoEnpka9iROsmfziTG9LTkzUL\n",
       "mpl0M8OyJ8kqG8XrTAp9R/kv/MjL9GD5w++PAV6xH/4JJlVifYaftFOD6NF4nnrbB3HNhIZAdLYn\n",
       "NH4uTconPGjk9veW/kLiyo7TVuxsN0LMix+U8HM1oCHhaJXd/hB5/G0EJYzPV3isFOmh4Z88dWAX\n",
       "JAHaYSVkERjDqMXAwAaAa/YA9bZ3Z8SE5mojM/CCxs+lyd2iQzxo+JIqKdZa47JLRUkNetMX4GeA\n",
       "j+FX6EQQRbw38KKjJjQr8OiqekLj59JkWnO0CWhy5wEXGmx/6OkntKA3fT5SBmkEjZvL0KxNB+kg\n",
       "giah2ap3PjR+Lk1uFh1kLcqgyDdWR+nhI0s2ce076/XAN51Tr0A8h4b+0t8A1gcZ1giaKApVCe9l\n",
       "2M+lybp7zLUzdVD4AL/LN2UX72tusSm6j/MBGqE+Gx7e7hOhfFyaE+Wwy7TsBGglGafQoBprjQ80\n",
       "Pi7NSXoCWly2UWiWgsRk7o/OLkU326Fxuiib9qp8BUTmWw69be2Ux1oemmEKTUpL2zbJkru7S5Hc\n",
       "RrjODo3DJb4YpCGuAiAyKzVI0OzBtd3WcvIdhSai25fYq1AqFZkZgz47NA4XHEqv5SoCHwxHEVLl\n",
       "/x40UEYpNS29FFxaRR6frzugIS6wbua7OJzgANNBY4tdsYUc1pzJw4JKoAnVCmydNaHgrbvBKr1e\n",
       "J5lHZeO5Tmiwi/xNEscWwnK8T0eAXbENEtbcuWdvwbaH5CGtwNZZyzAszzVKr3kGNDGl6oAGu8SK\n",
       "SZyakT3vRSCRkGUqc/c6+2+aG3I5vG5hrYx55YPB2ToO7eYavRwqT0TN2WSzBU0bHupm6TW9u7s7\n",
       "H6nIfWUHNNglU8IFPWRQf9DweZxUvaYyKDvXD9PckJMgMiJO+UQ1gwdbJ6DdGHE1IntYfGrOJoec\n",
       "mxJm6fWsMWpgru7alOhVUzNQxZAqxjXM8BFoTEVNOlN90zzt7Glz3yOGLZC2PCKjQaHxYOsEtJtT\n",
       "XI2MbSCdS83ZLn3EAQ0tvVK4YIuWQMm5oMmoXfO0dSgoz/jlNiDQNJRUCSlyHz2Y5ouqmdJUbJEm\n",
       "oK02n6YHfwaGBoRsnYB2c4qrkbGTVuFTc+7y0hy7Zukl4b2f5xabezQOaOJXXrQBVuZhWftkTSXQ\n",
       "NJRZWEkOwUoVH6g5VVkLV0ByC/x6REvepzvGa3PQuFg5Ae3mrEFdjYiIqDmm/nXv8q3r7i557fLh\n",
       "BewmWTcmFFXSmm4oTp8sTIVaASLMLb72g8afrRPRbg5xNbIqJC41xxR5TW+AxvGE6zxTg1Xb8w1l\n",
       "Sb1mKE6fV+FHaFeBDcdnMPoNw1gM3i4gWyeg3ZiNCLaR0TsRNddIPUaOCZoo6dEukeI2I2FDbIfH\n",
       "BlRAts6i3eSBycKr0UbMuBRRc434Wj0maP4N6RJnFUHZOot2i1EUOUIbOSUxKKLmrImohwZNRjzT\n",
       "A7J1DdptUkka88z332DzGjE1Z43q8Ci62KB4rQnG1tloN00MDW007dJ9uT3WK6diao7KmRAaNPFR\n",
       "7wjlx9bhJYTSbqSF7L6O1mgkX7IVpf67wZeaoxLi6wCEL/KAxoetIwwbpd3I26yYYyNWi6QjH8xG\n",
       "0voyjMFs8KXmaBQJ8SUSrxAVhK0bJsPGpN1wmZv9luJtkXTEx2zUpqM65gvwpeboMhbmq0fsC2te\n",
       "2XCjLrPYOsqwEdptGTwIcIE7o9UajTIVpSqNVHypOboYhfnCWnTiWKCx2DrKsBHabfXT1wG4oU7b\n",
       "GnWicROtFn2pObDW/vCggXvESfqgMK5ZbB1l2DDtlqnXR0DWXd7rbY1uhIQqtWu+1JwZJCZChWal\n",
       "sPANwtZRICzaTXF762wje0NPyeZDhUYR3zZ0ti7kF/HZn2+0kMTLwaH58nj8VCyRb1VonjSimNyz\n",
       "3h+a/9lPxe42Q1u9Xv0H2q43EodB+/EAAAAASUVORK5CYII=\n",
       "\" style=\"display:inline;vertical-align:middle;\" /></a><br>"
      ],
      "text/plain": [
       "<IPython.core.display.HTML object>"
      ]
     },
     "metadata": {},
     "output_type": "display_data"
    }
   ],
   "source": [
    "condition_append_reduction = \\\n",
    "    Forall(m, Forall((a, Q_1_to_m, R), \n",
    "                     Equals(Conditional(a, (And(Q_1_to_m), R)), \n",
    "                            Conditional(a, (Q_1_to_m, R))).with_wrap_before_operator()),\n",
    "           domain=Natural)"
   ]
  },
  {
   "cell_type": "code",
   "execution_count": 11,
   "metadata": {},
   "outputs": [
    {
     "data": {
      "text/html": [
       "<strong id=\"condition_prepend_reduction\"><a class=\"ProveItLink\" href=\"proofs/condition_prepend_reduction/thm_proof.ipynb\">condition_prepend_reduction</a> (conjecture without proof):<br></strong> <a class=\"ProveItLink\" href=\"../__pv_it/theorems/a8a565c9356b2f7f4c22d2a0d6fd9164d631f43b0/theorem_expr.ipynb\"><img src=\"data:image/png;base64,iVBORw0KGgoAAAANSUhEUgAAAiQAAAAzBAMAAABVkQ5JAAAAMFBMVEX///8AAAAAAAAAAAAAAAAA\n",
       "AAAAAAAAAAAAAAAAAAAAAAAAAAAAAAAAAAAAAAAAAAAv3aB7AAAAD3RSTlMAq1RmmUTNIjK7EInv\n",
       "3XZ/CtNrAAAACXBIWXMAAA7EAAAOxAGVKw4bAAAINElEQVRo3uVbe2wURRj/7rF3273r9TBoKK/U\n",
       "EENDAlyMJEKUnkGMSAgVNUYl6fkKggSuCYlReRz8AWoqLSYYWpWu8o+2QlvxESmBggkFifGIgKZa\n",
       "PVNEG7S0pbWv2HNm9v2ava2EPcMX2Jv57ezt7G+/+eab+V0BqNbQ0AA3ldk/8C/Zget+1335SAVX\n",
       "J3zWZ0dsWl64/jf3xLR9eSw/OHmTFwsLbzwl07TVy09q677f3KHEm3aNEl9C25NRVWUzcqBnqstJ\n",
       "+dXlLbI7dWf31L5l8l1WuIVF6keKa0uszra4RsnmpKYaSqsqFXHwpSuJB4deALhNPoHG97aock2J\n",
       "Ha41GS+qgWCfVccKY25R8jNYU8KhSCM8IbcWHcJxEWfHAQqG5GYHEza4zmS8OoPiZ9Jq5HztEiW+\n",
       "NgolOPgKNAQw7OmVPH4YIcqjd91qg+tMxq+mADZaUQLPuURJuDknSlam8LlhEQwgbqpr5Dbp121w\n",
       "ncn4RuRY1nNsRdIdSq7yJpRUHtuKy8H1UXb6CTxygqTj/kFVDDineHhzIEnHdSNCxtG3boladi0Q\n",
       "dYeSc7q6H41zph3qebFTQizx95OqNCYq9l+ZnFK6nvTG6bjuUSWcGelpeZAyDY+6Qgk7rJ+AUJz/\n",
       "OAYrSKVAoqSQ9K5JijvHk1wx4uyAECa3A3Soca51Eq/FtSbjoSF4v46SwI67QolHF10rn8eBA+BH\n",
       "LSVFpFmZlJisR0gzsD1C3JkC0KPG/eBPa3GtyXgAfesYpXPvuUJJWDeU2WXoBZ8BblDnJfgZuVNS\n",
       "K5RLNEWlBJNDvnJQjReVB4e1uPbly3hRFLg+SufKkm5QUh3TAYgF5LC+Xi0laPpdBf52sQ1zDWB+\n",
       "XKIEJ17+EhXu4wklCm5M1AS8IgZetIq96+4e05gDTTE3KLmqnxPQjMP1gycxW0MJ2+/bFTuK2pIg\n",
       "4UeR5XiGFSkpxDNSQo0L05aC67JSGV/JQ2gc3ljwFbRTXPhGU/IuGCmB/TA3Tt5bQQ3+h+3PrdAy\n",
       "FTn93yQEo0cvy6wSKVksbzBIuLCKlXFyUVNCulrGg9/y4BtnZh9KAInewmm1x6YFSggzsyiU0Bs4\n",
       "tDNmlLx/ZddMPJeipOTD6X0Z4ibFrRcAvf9O9LCh1tYY+DfEREqm4sNuUOHBOg0O57FvxMWCgre2\n",
       "HgZ4oAs8GUYI8uf1fekVKFmKP9ZQKKE3cLhRM2BGibnthd9R+ODN1u862wQvOQrxKX88ZbrYGBQo\n",
       "2Y5dqoZCCb2Bw7RkPHdK9niR74fAnpLgvtcectKJbVC4I2Xdu4UQ4K1X1YQSegOH+zT9hj2MNqu2\n",
       "K7Oo34fUj/75WMb0rWezvU468TBEDlN8eCH40MwToIVXegOH6+Bhwyvut9z5O4kOmRu6s9Ynzjjf\n",
       "dHaepc441AbOLDJkDAS3QN7YiEgJWgjVUSmhNnBmoVHIZzslUlIJQXWWHTz/GdwTVVOibRA5domk\n",
       "W0z98vvkvY8nBj6dZnILA+zPb0o6RUoK+FC5hO0u3gu3h3g/r6ZE3QCYNRAUcr+/5H0oxFMaAiZJ\n",
       "sgH29OY1JT+JlHgzcvD0492EWZl4SDNwVA0A5qL/y0hpMsDbqr2wApNc2gD/TyiBBEp5fUt2XwLo\n",
       "wlDpHVu1lJAG0Lj4Czys8JRRRk6dBOa0PA+WwGqTqd4A0weO6yqXNHDgk3UAB1bHwkmOJGSloQ+e\n",
       "0lKCG3Dfs3i28OCXfpTEnPHFS5Tsp+tSzCwp0sOhIVqPXFe5pPAKm1HwfOUyFPEM6X8pxLu1lOAG\n",
       "/jiLkyqym/w06W+aewfE5QXcCx81AzNvqe4WBNYEl2Gw3ehTdttyUrlykLfokpbKTkiUeLBvz4TV\n",
       "4Ftbi769FBoDWkpwg3B5BE87YdQ34i44TswH2NEhxhVvL4ShSXcLAtNTNavcPkeVywwwGlXSUtmA\n",
       "ZnPgNNzPss2ClzDzjJsDTcmCRaiDBXGGF2QxFCfwAOoQ40qoDYJQpbsFgX1L75RdxTuYKyU5qlwm\n",
       "gNnGVYYiaanuOaamJNgLP5QKGdkCgF+NlIST1Y/wjWgCXvTHsyjWojfDwwwmiSjhmiE4Cp7043jx\n",
       "iiqN8kGAvd0gPyt7LVdKIDeVywQw27hK0SQtw7JPTDeicCUGL6NL2YtJ8BgpYZbMOwxVJbBp5iQ+\n",
       "iQqR+iOwswd7CXsSusd4dkMG/ClcqUqy7fggw1NUe10DzimhqlwmgInRJS3dolS7q8Z9WbuXuquG\n",
       "Y9SjXEYoEEMDxyuVj0RUFaWUjiyQU7+LdpQ4U7nMAPO1y5ZoriswZxuNDH60bTN4oUDS3bMlIE2d\n",
       "gew/AMo8KpW4qFdZi0/Xff+KTmzCI01A5TIDjGYjaekSSWeU+EjvLogFyWLmFbNEBcp463tNQOUC\n",
       "vbxl7n50SUvJLGucU/Lfrdo6PZiIygV6ecvUAm10SUvOLDNuUBK2HtITULkUQJS3LNISG0lLdmFX\n",
       "pC1/m3Usca5ygV7eMjc7SUuyGeAGJcwgdcZxpHJxaoBcbfxOcpGdpCWZOzK5QTvRTcJOVC6sXmnk\n",
       "LVnOImfkmq2kJU0e7vyYgjblOFW5Cjt08hYGFF2LHPBFtpKWaIUu/eRG/8MsSvaqmIXKNUe9q43l\n",
       "rTnGhFR1kaWkJYUcl36Y5RudACUWKpeKXUHeMtKtvshS0pLuAu5QAi9a59NtVmfMVS4uo/IALG+p\n",
       "AdHUF1lKWmLkH3WLkirLFalTlStiCziSxgpL3KIkYr1qdVflcu8H4zAN8tKYRI6UfHf9/0QpUJKX\n",
       "lOwU5qaGhm6bhjfPnyitEz7rsyP/Arw2F3V1EflLAAAAAElFTkSuQmCC\n",
       "\" style=\"display:inline;vertical-align:middle;\" /></a><br>"
      ],
      "text/plain": [
       "<IPython.core.display.HTML object>"
      ]
     },
     "metadata": {},
     "output_type": "display_data"
    }
   ],
   "source": [
    "condition_prepend_reduction = \\\n",
    "    Forall(n, Forall((a, Q, R_1_to_n), \n",
    "                     Equals(Conditional(a, (Q, And(R_1_to_n))), \n",
    "                            Conditional(a, (Q, R_1_to_n))).with_wrap_before_operator()),\n",
    "           domain=Natural)"
   ]
  },
  {
   "cell_type": "code",
   "execution_count": 12,
   "metadata": {},
   "outputs": [
    {
     "data": {
      "text/html": [
       "<strong id=\"true_condition_elimination\"><a class=\"ProveItLink\" href=\"proofs/true_condition_elimination/thm_proof.ipynb\">true_condition_elimination</a> (conjecture without proof):<br></strong> <a class=\"ProveItLink\" href=\"../__pv_it/theorems/0ec8f2cc0d4f80b2a925259a7024509be2bf08ca0/theorem_expr.ipynb\"><img src=\"data:image/png;base64,iVBORw0KGgoAAAANSUhEUgAAAvgAAAAzBAMAAAAQvGGOAAAAMFBMVEX///8AAAAAAAAAAAAAAAAA\n",
       "AAAAAAAAAAAAAAAAAAAAAAAAAAAAAAAAAAAAAAAAAAAv3aB7AAAAD3RSTlMAq1RmmUTNIjK7EInv\n",
       "3XZ/CtNrAAAACXBIWXMAAA7EAAAOxAGVKw4bAAAKe0lEQVR42u1cDWwcxRV+vr/d2z1fDhpVhCbm\n",
       "qqhggRJONJFw1OKjkDY0RTERbVUaKUd/lEKBnEWkKm0aH6gKqDLxpW2qxLR4UyTUOtRxEkAUA3FC\n",
       "i6Go4tIGVKVxe1ECrWvq2CZuHKf1dWb2b3ZndrwU30VrGCV7+2bePM9+O/PmzbvPBvBVlO5uDT4s\n",
       "s1m6u7t9atZXKtmLONBdcwh0pVP/7Kqc9wt+y8Ucb11mLk35R0wf0hQI8D/mmjtfDDT4oVKQwA/n\n",
       "nPLbd7ja3woW+vuDBP6WvHPmTNFtyCN9rUMf3fdW73f6J+mpvo/MZJzViQySkjLEocqO3T+i25kK\n",
       "tiS7zi/YnfYEMxMg8P/qFNUSJazPQrjUSryo+i2Ajzo0nylAXW4G41ydUJkS0L7YlgJRBVvmFUEa\n",
       "8/Q7vw8O+OF+AfgK2o51IJS70CVBx2RPFNHlt2LjfB0afHkaIH4OBBWc0oEMdOW9Wr8RHPATvQLw\n",
       "cSykAx7D1XWjVMO9+HKF2DhfhwY/OYls01gzFZxypgCw0RP89fnAgH9G8wX+mgJum6R8N7k/VBDZ\n",
       "9tChwY+h99lRBEEFp2xEC8Q7jI+lAgP+UeCA3/riVrJd3pOSFx7GzyKRZ41M2HptBKA1wpF76NDg\n",
       "Y/d91O3Pj84wZjSY73tvC0bIEADw5Un3bEX7Y3QAujRjEuk+PzJORModrCHhhvfiF+jQ4K9/bHi+\n",
       "Y2UwFWyJnh/Zv0pwyJ0OCvh1/e7IE0VqT2bgViLETfDryWza1w+Pm7HL3/DbUf4De/df7mnc1BGA\n",
       "fyivLEBallmjQum7RPM0q56DPZ2CZ/p5UMBPuJZv6zfxjAX4ixP8eeQdNWfkEXNLIJCG34Ws8Z54\n",
       "xdQRgH8Pst0LtlmjIgKRkrdTR4O5IHim5nxAwO9wJXbkW9CMexWUCdfMx1AoL1On90F8eTIHE9Dm\n",
       "6SVMHQH4KFzfl6LMGhXzWqRJ7zA/BcqY4Jn2ZQIC/hm3Q0Z4I6cZHnWCj4LMtRAZoFC6AqJp+EIe\n",
       "VgjAN3WWXT+SOrWLB34ULYtrs5RZoyKsCcBfn4HQWcBWs4LVHADwfwZstKOMo2PpVQ7w5fHwQ5nn\n",
       "8wZK2B13pK+/Xx3AbS+Qw5i7UDrK8pfgMJy01HTwiU+PoL3kUFkmZhW6goyDbxXWaKBOww+R1QHu\n",
       "M8VLAQH/VQ748BgsyZJJFS/if7i8sxXIzkpQ+jc+DA2UVbIpysfRQs8ZtfjGlgwdqScHk7DaaDXA\n",
       "JwqwBWHdXF5LzJJWswKnhi07lmlyI72uQXg6ehWySsIA3RL9CKM6+GTaLPYBfh0ZVc0z68pZHvh7\n",
       "hh9qwL4EBfm/XDhG5qm8oO8NkI2ZP4hBf+DRF1oAaW1GQj16AXAMP0nWvNA6dWW5H/5oqCHXQh4T\n",
       "K6h9fRmI3JchZnGrVSF1UlZt07hTX99BgM+eQlajeqh2zJ0xmdDBX4k/NvgAP4Infyxf8zB/mgc+\n",
       "v+yEvxvgh/QwMN6SzIOUldCor2aPOpROopAsSqMFp1qIjiWJWbp1E3xHYFV37YVItuD9UE3wAF4m\n",
       "RR/gy3iNbK651wmN+wd/RyhnoKSae/OVaMwP/wAB0ssG45ROG5ql4WLWqaaCG3yqVdr18OcFVvXz\n",
       "M9Q/WPBezk0Qw2sr7cfn340+D9Q+p8nEFMl+z/NqpQDSMxeQF+oxDsMV1Pv1SgU9bpnRpnVuQ2ta\n",
       "atCcaj3UPTFLtyYqlVGBVVJug+RB/kjHdPDDyL3FfG24n0SfuZqDn2Tyh9K4l+4jR8w7AxT5hDmt\n",
       "kqw2o+NWY5BNzljB6eSV+yHRzh8GB1/zBX5icPBEb83BV6eYqk2XQtDLywb4qwA6fYEfKUBcq/kw\n",
       "I1MwB8ugAX4rSPzkp3TsafhUygYfqbVSzcMjn/MQ7FX54mk6Oop2rb6xlyvY5Stnn3JyFRxfj8yZ\n",
       "csIAP66pnBPU9gU74eOqFtGoQ1YnPG0rfClPfbHtEGywN4DkOOH9y/oGzS3Y76sEsewHB/xQmbPf\n",
       "RnA2enE5q9In3KXUfosjr0iRJ9hlCfp/C10xH+CnfMHGOgvx3AfH7UDuBhTQ3bT9ZLIJx6To7jTA\n",
       "KdzY+ImtDvBjYbSVKweH8RzHuaqwOSkdgu22cJDYTNccgegrfMGO4NKwzhEaq8JvS4PKnzI3XDiA\n",
       "AvjH12USqSR28Pgur5Bp3Kj+4qs0+OqVyAn9Ot+BwcccDdUMuB2CPYnxDH6efhvTN9zEF6hzyanT\n",
       "zgxGclL0EEHlTx02wd+CMP/u2zCvEMEbIL7T9NxGI2SHaPAl3OVmaMcVODqNpUjaxBSiS1c6JzE2\n",
       "dyeNTEl5FEhOxBLWnnbtN5+GX/XOcMiij51V5k9xGFJiPpRHJ6acNcGvw8u8AWFaT2w2wDoI37Ub\n",
       "9W6EvTFHVvMy9P93OPMK8BLOx+blJZotJGCfE3z0+PI5pz+/FuDB45TQr7i81XwIOWtCE6JDQPX5\n",
       "UwxDSsiH8urk9pYXTPBJeQWGoE3W726W5V595keXOsDH3c7BjzGv/CdwB/wJ1ZNn1QVJXxNWiWej\n",
       "Wn0Gli1etvZZ059jL3ScEvKyy1sdwf4rvPI6a/rL7/oFvyr8KZYhJeZDeXTySKwZK24UzfimCOzF\n",
       "d39u1I9dy0Gf5TT4MCBPrFB6Ycv9PdsyBHxbgJ1Y2KtfkKWBFf/4OoqRiomWawDJ0KbBomgeg28L\n",
       "8Ra7C7pIU1BX+nJoCErOFeoHfKgGf4plSIn5UB6duNlCE/xoCjZA6z+hPY3uhjOwGf0E+c28nsR3\n",
       "gH/7dcMZ+QhIN568XCLg2wI6AiOhPS8PoEt7GjY1XKIheAtPwGcAWU52PQfbRsjMt4VVVBd0N3RB\n",
       "k+8rw2WSvfzffO/gzyJ/imVIiflQHp24CSvmmyxjK1F+s3unO71Avzn8vrI9utuxhOeSumBbul0p\n",
       "Qz1cA6WMZVl3O6agamWqi3VXSi63EhkLZwK/qvwpliEl5kN5dHIHgqM88KOad26HKjjAk8aOg/zO\n",
       "AVuIVf6rC7altkUa7IG3oCFvW97+WtoWNlZKdhfrTkmF7FRss2tItxICt/5s1edPMQypGfhQ/E7M\n",
       "aabIAz8MvsAnYdy9LV6CZSn2Bt9ymDHmuqM3OEFcV33+FEOZMvhQIktmJ8EqK3Pdjj/wa1kS3mu8\n",
       "BvwphjIV6yd8KJElo5OgBIY0Fen3jtiqz59iKFMGH0pkyezkXRZBQMCPTnj7/KrzpxjKlMmHElky\n",
       "aVUkS8YtgSHKMrwLZ7RTXf4UQ5ky+FAFYon163QnkiXjDjscGIo4E+64Qs33x5+yKU9c/hRDmTL4\n",
       "UGlsyWnEYmOZnUiWDMBiYlFoBueXIxK9QvDfJ3+KrCsv/hRDmbL4UMQS7mYZ0dlYdCecJQOzxRGK\n",
       "BufXgsJTvk+4dplt/pSbMkUshdg1SevgLBl3cDsgMODDt/8P8GeZP+WmTOmWVPbn0rQqkiXjbchT\n",
       "AQK/3fNkWiv+FEOZ0i31sBsupaNnyXhgpgMEftIzR1Uz/hS/H/sWk36eJ1C//u/+wxdUCSJ/Kpp7\n",
       "r+CvuJh/7CiWhjlUtulIdncP+QX/wz92NFtFuVv/7Kqc/x8uQEPCxdIO4QAAAABJRU5ErkJggg==\n",
       "\" style=\"display:inline;vertical-align:middle;\" /></a><br>"
      ],
      "text/plain": [
       "<IPython.core.display.HTML object>"
      ]
     },
     "metadata": {},
     "output_type": "display_data"
    }
   ],
   "source": [
    "true_condition_elimination = (\n",
    "    Forall((m, n), Forall((a, Q_1_to_m, R_1_to_n), \n",
    "                          Equals(Conditional(a, (And(Q_1_to_m, TRUE, R_1_to_n))), \n",
    "                                 Conditional(a, (Q_1_to_m, R_1_to_n)))\n",
    "                          .with_wrap_before_operator()),\n",
    "           domain=Natural))"
   ]
  },
  {
   "cell_type": "code",
   "execution_count": 13,
   "metadata": {},
   "outputs": [
    {
     "data": {
      "text/html": [
       "<strong id=\"condition_with_true_on_left_reduction\"><a class=\"ProveItLink\" href=\"proofs/condition_with_true_on_left_reduction/thm_proof.ipynb\">condition_with_true_on_left_reduction</a> (conjecture without proof):<br></strong> <a class=\"ProveItLink\" href=\"../__pv_it/theorems/8990fd319856a6b6e87f712cf047cb89ba09e5000/theorem_expr.ipynb\"><img src=\"data:image/png;base64,iVBORw0KGgoAAAANSUhEUgAAAiEAAAAzBAMAAACzuMUNAAAAMFBMVEX///8AAAAAAAAAAAAAAAAA\n",
       "AAAAAAAAAAAAAAAAAAAAAAAAAAAAAAAAAAAAAAAAAAAv3aB7AAAAD3RSTlMAq1RmmUTNIjK7EInv\n",
       "3XZ/CtNrAAAACXBIWXMAAA7EAAAOxAGVKw4bAAAIjElEQVRo3uVbCWgcVRj+Mzu7MzvZTLYeRaPG\n",
       "BQ/Eao14oAXT9ahaq3RttUIpuCIlWindoghqNBsRD4xtCgrGAxaKhSa2WatU6WVq1CgqpocKYuyW\n",
       "Sg+PWtvGxHrE997Mm8y8Y2ZXy2zEn2R35p9vZme+ffP+45sFCLDu7m7435jR3V0IBO0aO3r8PvHF\n",
       "iUrFaouI+NhYZyD2i+P4uTVN3vXXMhOFEf1reyESLiOneVfNhcwQba4eQxdWhZFI1rt+kYsQrR8g\n",
       "dt4wWrplCNs2uuGRWW80iQ6mvbXxxEo+PABfm6wGI6057/pm13IUzVZXaQ3WylTXmd4DMNl95il7\n",
       "YX0earICP3ulEjxnO6rByLcgZwTQeJlEl8cZMe5FL4n0OGyNfVWr8Jm/z/tZk+E5u6AQPiORPj9G\n",
       "kJ3EMxIbxBPyoXHMnpOt98X45Uzez5oMz1ksHT4jiWLljMzO45E/Oo4ZfIa8qcT1bp71cybDcxYd\n",
       "CZ+RnwsCRrTT9pXw8oNbof3TSSwj2m/kcoadXZRijExGbeTEZ2dYP2syvMDuCp+RbazjevS/IBc/\n",
       "Rk+In0fUw2RAj4yP7ZxCRvdsMmEuybF+7l6Q4AVmRb4wGdFH2XiIAq7RD+ogWVshYqSOsNXbByvt\n",
       "CbIdgORSu/DpG39AzxsNHj9rLN7HekthM1LDTKzaZDSG1UNQV5QzUk/2md6kH7Rog1MADuJ3cm2R\n",
       "I5CGWzx+1li8j8UHw2YkkWQcT7yEnJ3Qm/EZI/gsjQ/RfGAxYqChsgYvDOGX17MwDG15t5+t3Fi8\n",
       "XygcCZuR5VzquYIM1ekgZwTF3TmgDjiM4HxLTZE4Gk3BzTmYZjHi+AX5mQd/6RUHk3vE9aZxJGxG\n",
       "fuamNRRrelMwWckJGTHw3HM48lTTppzDSB2+2/A3vTx1xf21A04Id/yMsXjjsn7YCrvFJ7g1bEZe\n",
       "AQEj8ZKyUyUrXeTPxUgvvpIfHwMyd9qMNNOWgjlQqp1UcIpWx2/8au9JFji8tjYLozALnOO77VWb\n",
       "EXJ3n+XLSBCkPPtYxIjR+M7S/SQofNrQ/nmjvWEu+X7xteqnbvwCdIcREliWEfzLmzOAbpiHCl7/\n",
       "Trxn2l7g8TUlvQ+2W+OHDdfv2ozMwO8tvowEQcprTx0VMeJn51tvL8A+hxFPbMiYOdDSWq7MEyD4\n",
       "RN7s1A6JU9fpGYuRdnyrdfoyEgQpLx35q1JG7KR/hZIVM5I8Fw2Rp58olMsIxrehURLpTIun/pLF\n",
       "SKwgL6VtRoIgZZlymHP96D+oSnZpM5YHbf3vJXa7OoZSvs/Hxso9AYK/FWWxWqOYxN60xUgEBcWY\n",
       "/8waBCmv8h3lXG2+LJv2+3PvSQbdN5V9SYH4+qQdaz4bGvokINYEQMoyc4Rva139bwfecbX6TpuR\n",
       "GwFeCmAkAFKW1R6DCW6JrM3IUtCY/PrRWZnIVjcjXoi55bvx+f2HgzeIjs671QnPCCkZMCPxQq2r\n",
       "baDv7sooyQ1wk5sRDyTaAtoAXZmX47qnEre7ETZBGemzGVFK7lnzOhSrlWYVim5GPBDcx59JAwii\n",
       "VeXjssj9H2IEsijXjVy7bLd5ZR5MXI4pj99R8jBCINDT/DaeDnHMmE6jBeIvwl+qyO1/1xi3T6C7\n",
       "BtYtAli5oCmRNJOwmnzF+Q3neBnBEOMrHYcL0uLfZG/EukFtH3dskbt2xO9s9s5nHFUQs5yZFVrR\n",
       "rPnwXqjPq0WrolDyqtnpYQRD1LSOL5L0j+8CjQQfHJNjyejUGd5jW24m+o76pW/HmN6aJWbJdadK\n",
       "9SupEMY2cAgjNTjNb4QOqEvB5V1dXSklbxSzHkYwJJEx8S4JdGA0WB4nNWc/Tn5zCej1HttyB2Zo\n",
       "rgHkTtLdYpZMp2L1qHWS41I8K4QJ85G0pxvwERyANh2etcYIzClx3YDeXHwaSn/j6WihrsluXz4P\n",
       "82EHaIhNj1nuyDWXzJjiFFXKcLmMuMQsmU7F+o0vxceleE4IE2bxRTcj2iE0Sq5UUZzF3gyYSY6R\n",
       "RG753EIPirzT9t8NmBGjCK33r32yidSn0IPX8YvjVg7AB4ozH+lHymYEHOlGplOxfvNi8bRD8ZwQ\n",
       "5lfp2SM1icr9pd+Dhtsrz7XYPREPI9Frp74JHSl4oHFSIYcZ0d9DefjuBg1NMWgkdKT0AejI6QPj\n",
       "7heNrKvVd7RyRmQ6Feev08WlOdW1OCFMZBelhD20nq6ujF8PDe91Gy5L0V2jYJ7SawE2mPYW6/6g\n",
       "7kGlWBdx9vwyiBFezJLpVJweNUXcvqF4TgiTtz0r7ipG8V3VdkYBln2SAhwxtV++htjYn/YWYtRt\n",
       "JM1MzT5n19PZtJ48FTFEBqOK73dezJLpVJwe1QJni86d4jkhTGhn/qM+K/nKY7aPhLPFGdcW3u1q\n",
       "Ufm0dlqbhGIW1Z2Myy2YTL/Sk1AnOjrFO0JYcNszVHVCXvovXQhCMYvqTst+snAy/QolB2ZJcFyK\n",
       "p0KY7/lpf4XNCKdgucrLmQWhmOXoTtYzUTL9ClahbYOC0oDiHSHMt6UVuoKl9snnkXhSKGZR3clm\n",
       "RKZfkfzsGnF+RvBUCKPVm9BqQlc5o8P+sUYgZjk6lcWITL8CfC0PCko3iqdCGK3exClrKWxGLAVF\n",
       "zohAzHJ0KosRmX4VwdcSz7v0K+vFwVMhjFZvQBUufuYPlRGfYIMZEYlZVKeyGJHpVzWEnBK49Cvy\n",
       "Mo6nQphdvQm/H+vxluo+deWTszpGdCfnaVPGX4F+ZQlhdvUmvKmr8NRV5Ng/YQTrTiJGKtSviBBG\n",
       "qzfxB4XPCNwn3WJKkyeiOz2yZIvQX4F+RYQwWr2J7M5CFRjpkA5x7bA0VZHoTpXqV1IhjNp2qAIj\n",
       "pvzTHjihyk3W6jwFzv5SYCLZPCibkR3H8RdHsdREJURfZOX93WuDGfl//OJolTWv4l8c/Q1fvwJ8\n",
       "wPnerQAAAABJRU5ErkJggg==\n",
       "\" style=\"display:inline;vertical-align:middle;\" /></a><br>"
      ],
      "text/plain": [
       "<IPython.core.display.HTML object>"
      ]
     },
     "metadata": {},
     "output_type": "display_data"
    }
   ],
   "source": [
    "condition_with_true_on_left_reduction = \\\n",
    "    Forall(m, Forall((a, Q_1_to_m), \n",
    "                     Equals(Conditional(a, (TRUE, And(Q_1_to_m))), \n",
    "                            Conditional(a, (Q_1_to_m))).with_wrap_before_operator()),\n",
    "           domain=Natural)"
   ]
  },
  {
   "cell_type": "code",
   "execution_count": 14,
   "metadata": {},
   "outputs": [
    {
     "data": {
      "text/html": [
       "<strong id=\"condition_with_true_on_right_reduction\"><a class=\"ProveItLink\" href=\"proofs/condition_with_true_on_right_reduction/thm_proof.ipynb\">condition_with_true_on_right_reduction</a> (conjecture without proof):<br></strong> <a class=\"ProveItLink\" href=\"../__pv_it/theorems/cdad28850fd836500b26f02bcd669b6d6a539ece0/theorem_expr.ipynb\"><img src=\"data:image/png;base64,iVBORw0KGgoAAAANSUhEUgAAAiEAAAAzBAMAAACzuMUNAAAAMFBMVEX///8AAAAAAAAAAAAAAAAA\n",
       "AAAAAAAAAAAAAAAAAAAAAAAAAAAAAAAAAAAAAAAAAAAv3aB7AAAAD3RSTlMAq1RmmUTNIjK7EInv\n",
       "3XZ/CtNrAAAACXBIWXMAAA7EAAAOxAGVKw4bAAAIEUlEQVRo3uWbDYgUVRzA/zc7uzM7+3FrH1Ja\n",
       "50IfBJZuBJJCd5tmZSa3aBmI0ErIlSHuoRjm1e2JlNGpJxR4VrAQCd6lu1pU+HlqdYWGV34E0uVK\n",
       "4UeZXqfX2WFu896bmZ2PNx+7HbMXPnR25j//mTf3m/fe/2sXwKZ1dHTADdOEjo6MrdKpwpXh63Hj\n",
       "SEWxhYDwFwpttrrHh7Hfqpj2+KPESCHCn5R2PO4SGas9DC/UDdHayhF6oCJEPEnt8UQVEO4ggO++\n",
       "AbL/6a6bqTdYOXN7rJQOjfqzelH73qgaiFSCSFNKe7xHte8VV6tHuDF4/7M0VKngBaLyzosAo1XX\n",
       "7KB3Y6pP2gT6VUcrQeRnMCcC4ngZRfY2o4f6snhmq0RHeEncBONFw3CC3o2ZvjWR+zPuE/F0WRER\n",
       "2y3kYzHajCuKf7mVfPp60OLcV1yGHqQvO2b61kR8cfeJBHOOiLBX0XZfWhH3vEU+65EocFWRh3j6\n",
       "05vpWxPxDrpP5FKGQoQbezaP9pfvh5bDeNo042eqV94/k/Ph9Yf7G/MaUC4fDw20bkz1rYnAAveJ\n",
       "GFb4x8X/81P+IfmByDpSjxfGJcoq7EsxeECz/fhoULm8Ae6mDn8zfRsixPK5SYTXj19kcIWDwPbg\n",
       "ow0ykVPoyYRrIEwiai0A2H0KYXLZLmHXKPzsfARCNJdbr++USDbvNpEq3bNxo8WJwfZBKKclcg0/\n",
       "2GVY9wfRuw3gIvqsxtfXxViJYVUawnlKP3p9p0T8PW4TCUZ0gtWbRGEbZBNaIr1o83FSdiMFcW8r\n",
       "fufoiYWvoTrB4dG2WTzqoQRren2nRDyDbhNZb3hbG/BQrQMtkXHgjcLTKZkI8rfYKLGjs4HtBk+G\n",
       "EEH+2VS6f6bVn7budHhy2paIcNltIpdSYLQ12SiMZlIaIuujDy8NdCuhRghNMORz8f2eN2O7kW4A\n",
       "Dw20WW7sxqD/4fxYMBKOYB/Qigjsd5vI+0Ah4s8zx1h80I7/IcerOx/AaychUqtkES68Dtuxm78W\n",
       "nfWgNcQvvnrhL5A22SRN/9UzUJ1mc0RFRSSri7LgA4kInt13WRKxU3HWvqUREWq+aDyHLcThMS1H\n",
       "aoixeG9PAtIyEcxgHTYut+86Drw4AjbhhRVh4RGWYyBtQnGqfg20QkicR71kkMyRB5Pev98nEZlO\n",
       "TLsVETsVZ+mpKzQiJst+IpwqBuiq9i6cBVgGrzjtFOt/A+ehWSTD2KTH6hKESAuad22WROxUnLkj\n",
       "10sgErkXqEQ2MEngNq55ymmnWL9PHCWTxakZsFv684SIL6OKn+lE7FQcNabfILpgpssWRGuycsle\n",
       "w4n6QhqChUKf006Rvjciju/G3wC22Shn44SIRzSKPuuV1U7FWeRrCLmg2Ywy/5PJmbUHSutUo5+3\n",
       "Ua6OSLbmu97eQza2xkbFUQsbAgzgHv2vA29YW3WbRORJgE02RGxUHLXAEIzwFkxKRBqB0/nXr81M\n",
       "ePariWhVwnt/LTpbv198gnZ3o5gd8USw24+I+DMBVS6KP92eYCI74Sk1EY2KtwG4bvlgbsqQPTUR\n",
       "V/WNeCJdEhEmr141HxNdI6aWhZyaiEYFGcUZsgERsbJGu0wT/4+IQFJ0fOVwKIzCMWbVc3kNEawC\n",
       "nbWfo+UQ2Yw62VqI/DzGP5Umtp41wrMjaNbAjkWghENb8CtO77xHSwSpCD/yyFzgusFu6STK/QcM\n",
       "ORmqODBo9TRn5ukEFShmKSsrNEWK4dAcQoQNt2mIIBU2zqM/EuePF0jBBbLJvoh3wnTtvYlYZ32v\n",
       "WrlvQ7rcml0xy7TIZdYcFL+Csj+CklFKODSpvb09yqSFXFJDBKkEEyikhqB4Y3GwrMKZu4PI+U0F\n",
       "Iau9NxHbemiqAaRO/TgpZunkZRazdP5IXJMNkMKht8kYgdl5QzYgm/JPEd15f9ybCcWkXOY7MA+O\n",
       "AifS1DQi9kx9aPp4JVPDDDgl4qCYpZeXWczSefE5NRE5HPLj1EMCwhEDkWBq/ZxMp2h5p5x7ARAR\n",
       "IQdNS7e9EcMxJnSiY7RRxMx5+IpR1iP+smMiYFvM0svLLGbRIz1ppErhEIdyLWsbpJyIhoh32oRP\n",
       "oDUKy2pGZVKICH9A9MNPj+HEJUYcCa1RvhtaU3x3UbxRSLJFP/1K6UTMilkGeZnFLG2bGKXm0Drb\n",
       "2xNWOTR01TNCHs8aBnGKiyHlzrB0hswPWdzD5EIe5coTdkScF7P08nKLWZS0Z8lZRS+aVc13ZmDd\n",
       "oSggi8n9eRJ8hX+kM7jJYiESTlSdVS69Q+/W4y8u9OLByKL57ryYpZeXW8zStnFl5VnxK/dJMmzO\n",
       "FidUZ4xiVYrKIoXVFCupmCXLO0netexiFiXt6Wp1wjz0b1wIJRWzZHkcZoHkHJRVzNK6ONfdJmKo\n",
       "YKnCyxmZkopZsnwAxwvlF7O0w9/1ChbbZb6O+CMlFbNk+RSJSLnFLG0o6nqV0ztgbWtKKGYpcil5\n",
       "XXIxi+qy5t0mQuoq5kRKKGYpcvKlS20xC1emrItZAEo9S7/yu0rEwtggIqUUs2T5CnxLbTELV6Zs\n",
       "ilm090O+3lLZb11Z+KxKMytmYTkX51JOe9cUs2iTugLfuvIMlUPEpJiF5SvWrM447V1TzKJ25D4R\n",
       "eNn0TNjUeTIrZmH5kULBceeaYhalPZ+pAJFW0yHO9Zu6KibFLNMil1mzK379ABUgEjbvbdlNFU6y\n",
       "VuZb4PpfCoykNhccEzk6jL848kVHKhB+EfH7O7bZE7kxfnG0mayr6BdH/wJrzPt0Uo2LBQAAAABJ\n",
       "RU5ErkJggg==\n",
       "\" style=\"display:inline;vertical-align:middle;\" /></a><br>"
      ],
      "text/plain": [
       "<IPython.core.display.HTML object>"
      ]
     },
     "metadata": {},
     "output_type": "display_data"
    }
   ],
   "source": [
    "condition_with_true_on_right_reduction = \\\n",
    "    Forall(m, Forall((a, Q_1_to_m), \n",
    "                          Equals(Conditional(a, (And(Q_1_to_m), TRUE)), \n",
    "                                 Conditional(a, (Q_1_to_m))).with_wrap_before_operator()),\n",
    "           domain=Natural)"
   ]
  },
  {
   "cell_type": "code",
   "execution_count": 15,
   "metadata": {},
   "outputs": [
    {
     "name": "stdout",
     "output_type": "stream",
     "text": [
      "These theorems may now be imported from the theory package: proveit.core_expr_types.conditionals\n"
     ]
    }
   ],
   "source": [
    "%end theorems"
   ]
  },
  {
   "cell_type": "code",
   "execution_count": null,
   "metadata": {},
   "outputs": [],
   "source": []
  }
 ],
 "metadata": {
  "kernelspec": {
   "display_name": "Python 3",
   "language": "python",
   "name": "python3"
  }
 },
 "nbformat": 4,
 "nbformat_minor": 0
}