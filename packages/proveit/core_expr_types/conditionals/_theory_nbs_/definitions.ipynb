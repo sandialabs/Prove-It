{
 "cells": [
  {
   "cell_type": "markdown",
   "metadata": {},
   "source": [
    "Conservative definitions for the theory of <a class=\"ProveItLink\" href=\"theory.ipynb\">proveit.core_expr_types.conditionals</a>\n",
    "========"
   ]
  },
  {
   "cell_type": "code",
   "execution_count": null,
   "metadata": {},
   "outputs": [],
   "source": [
    "import proveit\n",
    "# Prepare this notebook for defining the conservative definitions of a theory:\n",
    "%definitions_notebook # Keep this at the top following 'import proveit'.\n",
    "\n",
    "from proveit import Conditional, ExprRange, IndexedVar\n",
    "from proveit.core_expr_types import ConditionalSet\n",
    "from proveit import a, b, c, i, m, n, Q, R\n",
    "from proveit.core_expr_types import a_1_to_m, c_1_to_n\n",
    "from proveit.logic import Forall, Equals, FALSE\n",
    "from proveit.numbers import one, Natural"
   ]
  },
  {
   "cell_type": "code",
   "execution_count": null,
   "metadata": {},
   "outputs": [],
   "source": [
    "%begin defining_properties"
   ]
  },
  {
   "cell_type": "code",
   "execution_count": null,
   "metadata": {},
   "outputs": [],
   "source": [
    "true_case_reduction = \\\n",
    "    Forall((m, n), \n",
    "           Forall((a_1_to_m, b, c_1_to_n), \n",
    "                  Equals(ConditionalSet(ExprRange(i, Conditional(IndexedVar(a, i), FALSE), one, m), b, \n",
    "                                        ExprRange(i, Conditional(IndexedVar(c, i), FALSE), one, n)), b)), \n",
    "                  domain=Natural)"
   ]
  },
  {
   "cell_type": "code",
   "execution_count": null,
   "metadata": {},
   "outputs": [],
   "source": [
    "%end defining_properties"
   ]
  }
 ],
 "metadata": {
  "kernelspec": {
   "display_name": "Python 3 (ipykernel)",
   "language": "python",
   "name": "python3"
  }
 },
 "nbformat": 4,
 "nbformat_minor": 0
}
