{
 "cells": [
  {
   "cell_type": "markdown",
   "metadata": {},
   "source": [
    "Axioms for the theory of <a class=\"ProveItLink\" href=\"theory.ipynb\">proveit.core_expr_types.conditionals</a>\n",
    "========"
   ]
  },
  {
   "cell_type": "code",
   "execution_count": null,
   "metadata": {},
   "outputs": [],
   "source": [
    "import proveit\n",
    "# Prepare this notebook for defining the axioms of a theory:\n",
    "%axioms_notebook # Keep this at the top following 'import proveit'.\n",
    "from proveit import Conditional, ConditionalSet, ExprRange, IndexedVar\n",
    "from proveit import a, b, c, i, m, n, Q, R\n",
    "from proveit.core_expr_types import a_1_to_m, c_1_to_n\n",
    "from proveit.logic import Implies, Forall, Equals, TRUE, FALSE, Or\n",
    "from proveit.numbers import one, Natural"
   ]
  },
  {
   "cell_type": "code",
   "execution_count": null,
   "metadata": {},
   "outputs": [],
   "source": [
    "%begin axioms"
   ]
  },
  {
   "cell_type": "markdown",
   "metadata": {},
   "source": [
    "***A `Conditional` is defined to evaluate to its `value` when the `condition` is `TRUE`:***"
   ]
  },
  {
   "cell_type": "code",
   "execution_count": null,
   "metadata": {},
   "outputs": [],
   "source": [
    "true_condition_reduction = Forall(a, Equals(Conditional(a, TRUE), a))"
   ]
  },
  {
   "cell_type": "markdown",
   "metadata": {},
   "source": [
    "***A condition may be substituted with an equal condition.  (Since a `Conditional` is not an `Operation`, this must be a distinct axiom from `Operation` substitution axioms).***"
   ]
  },
  {
   "cell_type": "code",
   "execution_count": null,
   "metadata": {},
   "outputs": [],
   "source": [
    "condition_substitution = \\\n",
    "    Forall((a, Q, R), Equals(Conditional(a, Q),\n",
    "                             Conditional(a, R)).with_wrap_before_operator(),\n",
    "          conditions=[Equals(Q, R)])"
   ]
  },
  {
   "cell_type": "markdown",
   "metadata": {},
   "source": [
    "***The condition is either true or not true but otherwise it doesn't matter if it is a Boolean.  Therefore, a condition of $Q$ is the same as a condition of $Q=\\top$***"
   ]
  },
  {
   "cell_type": "code",
   "execution_count": null,
   "metadata": {},
   "outputs": [],
   "source": [
    "condition__as__condition_eq_true = \\\n",
    "    Forall((a, Q), Equals(Conditional(a, Q), \n",
    "                          Conditional(a, Equals(Q, TRUE))).with_wrap_before_operator())"
   ]
  },
  {
   "cell_type": "markdown",
   "metadata": {},
   "source": [
    "***If two values are equal when the condition is satisfied, one may replace the other within the `Conditional`.***"
   ]
  },
  {
   "cell_type": "code",
   "execution_count": null,
   "metadata": {},
   "outputs": [],
   "source": [
    "conditional_substitution = \\\n",
    "    Forall((a, b, Q), Equals(Conditional(a, Q),\n",
    "                             Conditional(b, Q)).with_wrap_before_operator(),\n",
    "          conditions=[Implies(Q, Equals(a, b))])"
   ]
  },
  {
   "cell_type": "markdown",
   "metadata": {},
   "source": [
    "***If one and only one `Conditional` in a `ConditionalSet` is True, equate the `ConditionalSet` to the `Conditional`.***"
   ]
  },
  {
   "cell_type": "code",
   "execution_count": null,
   "metadata": {},
   "outputs": [],
   "source": [
    "# singular_truth_reduction = \\\n",
    "#     Forall((m, n), \n",
    "#            Forall((a, b, c), \n",
    "#                   Equals(ConditionalSet(var_range(a, one, m), b, var_range(c, one, n)), b), \n",
    "#                   conditions=[Equals(Or(var_range(a, one, m)), FALSE), Equals(Or(var_range(c, one, n)), FALSE)]), \n",
    "# domain=Natural)"
   ]
  },
  {
   "cell_type": "code",
   "execution_count": null,
   "metadata": {},
   "outputs": [],
   "source": [
    "true_case_reduction = \\\n",
    "    Forall((m, n), \n",
    "           Forall((a_1_to_m, b, c_1_to_n), \n",
    "                  Equals(ConditionalSet(ExprRange(i, Conditional(IndexedVar(a, i), FALSE), one, m), b, \n",
    "                                        ExprRange(i, Conditional(IndexedVar(c, i), FALSE), one, n)), b)), \n",
    "                  domain=Natural)"
   ]
  },
  {
   "cell_type": "code",
   "execution_count": null,
   "metadata": {},
   "outputs": [],
   "source": [
    "%end axioms"
   ]
  }
 ],
 "metadata": {
  "kernelspec": {
   "display_name": "Python 3",
   "language": "python",
   "name": "python3"
  }
 },
 "nbformat": 4,
 "nbformat_minor": 0
}
