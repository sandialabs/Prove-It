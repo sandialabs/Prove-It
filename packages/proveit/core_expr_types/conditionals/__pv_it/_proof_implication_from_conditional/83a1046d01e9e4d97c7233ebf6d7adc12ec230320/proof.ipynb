{
 "cells": [
  {
   "cell_type": "markdown",
   "metadata": {},
   "source": [
    "Show the Proof\n",
    "========"
   ]
  },
  {
   "cell_type": "code",
   "execution_count": 1,
   "metadata": {},
   "outputs": [
    {
     "data": {
      "text/html": [
       "<table><tr><th>&nbsp;</th><th>step type</th><th>requirements</th><th>statement</th></tr>\n",
       "<tr><td><a name=\"proveit.core_expr_types.conditionals._proof_implication_from_conditional.83a1046d01e9e4d97c7233ebf6d7adc12ec230320_step0\">0</a></td><td>instantiation</td><td><a href=\"#proveit.core_expr_types.conditionals._proof_implication_from_conditional.83a1046d01e9e4d97c7233ebf6d7adc12ec230320_step1\">1</a>, <a href=\"#proveit.core_expr_types.conditionals._proof_implication_from_conditional.83a1046d01e9e4d97c7233ebf6d7adc12ec230320_step2\">2</a>, <a href=\"#proveit.core_expr_types.conditionals._proof_implication_from_conditional.83a1046d01e9e4d97c7233ebf6d7adc12ec230320_step3\">3</a></td><td><span style=\"font-size:20px;\"><a class=\"ProveItLink\" href=\"../../theorems/3d3373ff2ec4b7e6d825f3151e6c1781690cf63d0/expr.ipynb\"><img src=\"../../theorems/3d3373ff2ec4b7e6d825f3151e6c1781690cf63d0/expr.png\" style=\"display:inline;vertical-align:middle;\" /></a>, <a class=\"ProveItLink\" href=\"../../../../../__pv_it/common/d72bb8b07403efe79afab564c36a28e21330e5f90/expr.ipynb\"><img src=\"../../../../../__pv_it/common/d72bb8b07403efe79afab564c36a28e21330e5f90/expr.png\" style=\"display:inline;vertical-align:middle;\" /></a> <a class=\"ProveItLink\" href=\"proof.ipynb\" style=\"text-decoration: none\">&nbsp;&#x22A2;&nbsp;&nbsp;</a><a class=\"ProveItLink\" href=\"../cebdb61df77f3aafaa9b31ac5d6eb12c07dbaa270/expr.ipynb\"><img src=\"../cebdb61df77f3aafaa9b31ac5d6eb12c07dbaa270/expr.png\" style=\"display:inline;vertical-align:middle;\" /></a></span></td></tr>\n",
       "<tr><td>&nbsp;</td><td colspan=4 style=\"text-align:left\"><span style=\"font-size:20px;\"><a class=\"ProveItLink\" href=\"../1d99392da58b40374b949787020ddefb47f454cd0/expr.ipynb\"><img src=\"../1d99392da58b40374b949787020ddefb47f454cd0/expr.png\" style=\"display:inline;vertical-align:middle;\" /></a> : <a class=\"ProveItLink\" href=\"../daf35c46300ac26da191dc4a854831523418c5c60/expr.ipynb\"><img src=\"../daf35c46300ac26da191dc4a854831523418c5c60/expr.png\" style=\"display:inline;vertical-align:middle;\" /></a>, <a class=\"ProveItLink\" href=\"../../../../../__pv_it/common/a0d9d672aa5e272d907247690c152cc2c6daafb70/expr.ipynb\"><img src=\"../../../../../__pv_it/common/a0d9d672aa5e272d907247690c152cc2c6daafb70/expr.png\" style=\"display:inline;vertical-align:middle;\" /></a> : <a class=\"ProveItLink\" href=\"../../../../../__pv_it/common/d72bb8b07403efe79afab564c36a28e21330e5f90/expr.ipynb\"><img src=\"../../../../../__pv_it/common/d72bb8b07403efe79afab564c36a28e21330e5f90/expr.png\" style=\"display:inline;vertical-align:middle;\" /></a></span></td></tr><tr><td><a name=\"proveit.core_expr_types.conditionals._proof_implication_from_conditional.83a1046d01e9e4d97c7233ebf6d7adc12ec230320_step1\">1</a></td><td>theorem</td><td></td><td><span style=\"font-size:20px;\"> <a class=\"ProveItLink\" href=\"../../../../../logic/equality/_theory_nbs_/proofs/substitute_in_true/thm_proof.ipynb\" style=\"text-decoration: none\">&nbsp;&#x22A2;&nbsp;&nbsp;</a><a class=\"ProveItLink\" href=\"../../../../../logic/equality/__pv_it/theorems/0988059a1bd4d61fa0dc7f7468fa4a03d73271540/expr.ipynb\"><img src=\"../../../../../logic/equality/__pv_it/theorems/0988059a1bd4d61fa0dc7f7468fa4a03d73271540/expr.png\" style=\"display:inline;vertical-align:middle;\" /></a></span></td></tr>\n",
       "<tr><td>&nbsp;</td><td colspan=4 style-\"text-align:left\"><a class=\"ProveItLink\" href=\"../../../../../logic/equality/_theory_nbs_/proofs/substitute_in_true/thm_proof.ipynb\">proveit.logic.equality.substitute_in_true</a></td></tr><tr><td><a name=\"proveit.core_expr_types.conditionals._proof_implication_from_conditional.83a1046d01e9e4d97c7233ebf6d7adc12ec230320_step2\">2</a></td><td>assumption</td><td></td><td><span style=\"font-size:20px;\"><a class=\"ProveItLink\" href=\"../../theorems/3d3373ff2ec4b7e6d825f3151e6c1781690cf63d0/expr.ipynb\"><img src=\"../../theorems/3d3373ff2ec4b7e6d825f3151e6c1781690cf63d0/expr.png\" style=\"display:inline;vertical-align:middle;\" /></a> <a class=\"ProveItLink\" href=\"../c5c19acd4056da2c2fbf546613d4979086c825160/proof.ipynb\" style=\"text-decoration: none\">&nbsp;&#x22A2;&nbsp;&nbsp;</a><a class=\"ProveItLink\" href=\"../../theorems/3d3373ff2ec4b7e6d825f3151e6c1781690cf63d0/expr.ipynb\"><img src=\"../../theorems/3d3373ff2ec4b7e6d825f3151e6c1781690cf63d0/expr.png\" style=\"display:inline;vertical-align:middle;\" /></a></span></td></tr>\n",
       "<tr><td><a name=\"proveit.core_expr_types.conditionals._proof_implication_from_conditional.83a1046d01e9e4d97c7233ebf6d7adc12ec230320_step3\">3</a></td><td>assumption</td><td></td><td><span style=\"font-size:20px;\"><a class=\"ProveItLink\" href=\"../../../../../__pv_it/common/d72bb8b07403efe79afab564c36a28e21330e5f90/expr.ipynb\"><img src=\"../../../../../__pv_it/common/d72bb8b07403efe79afab564c36a28e21330e5f90/expr.png\" style=\"display:inline;vertical-align:middle;\" /></a> <a class=\"ProveItLink\" href=\"../1f8c4db26a2142ecf7602b64d0573e305ec5a1010/proof.ipynb\" style=\"text-decoration: none\">&nbsp;&#x22A2;&nbsp;&nbsp;</a><a class=\"ProveItLink\" href=\"../../../../../__pv_it/common/d72bb8b07403efe79afab564c36a28e21330e5f90/expr.ipynb\"><img src=\"../../../../../__pv_it/common/d72bb8b07403efe79afab564c36a28e21330e5f90/expr.png\" style=\"display:inline;vertical-align:middle;\" /></a></span></td></tr>\n",
       "</table>"
      ],
      "text/plain": [
       "<proveit._core_.proof._ShowProof at 0x7ff9d8fc1470>"
      ]
     },
     "execution_count": 1,
     "metadata": {},
     "output_type": "execute_result"
    }
   ],
   "source": [
    "import proveit\n",
    "# Automation is not needed when only showing a stored proof:\n",
    "proveit.defaults.automation = False # This will speed things up.\n",
    "proveit.defaults.inline_pngs = False # Makes files smaller.\n",
    "%show_proof"
   ]
  },
  {
   "cell_type": "code",
   "execution_count": null,
   "metadata": {},
   "outputs": [],
   "source": []
  }
 ],
 "metadata": {
  "kernelspec": {
   "display_name": "Python 3",
   "language": "python",
   "name": "python3"
  }
 },
 "nbformat": 4,
 "nbformat_minor": 0
}