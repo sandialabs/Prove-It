{
 "cells": [
  {
   "cell_type": "markdown",
   "metadata": {},
   "source": [
    "Expression of type <a class=\"ProveItLink\" href=\"../../../../../../../doc/html/api/proveit.ExprTuple.html\">ExprTuple</a>\n",
    "=======================\n",
    "# from the theory of <a class=\"ProveItLink\" href=\"../../../_theory_nbs_/theory.ipynb\">proveit.core_expr_types.conditionals</a>"
   ]
  },
  {
   "cell_type": "code",
   "execution_count": 1,
   "metadata": {},
   "outputs": [],
   "source": [
    "import proveit\n",
    "# Automation is not needed when building an expression:\n",
    "proveit.defaults.automation = False # This will speed things up.\n",
    "proveit.defaults.inline_pngs = False # Makes files smaller.\n",
    "%load_expr # Load the stored expression as 'stored_expr'\n",
    "# import Expression classes needed to build the expression\n",
    "from proveit import Conditional, ConditionalSet, ExprRange, ExprTuple, IndexedVar, Lambda, Variable, a, b, c, m, n\n",
    "from proveit.core_expr_types import a_1_to_m, c_1_to_n\n",
    "from proveit.logic import And, Equals, FALSE, Forall, InSet\n",
    "from proveit.numbers import Natural, one"
   ]
  },
  {
   "cell_type": "code",
   "execution_count": 2,
   "metadata": {},
   "outputs": [
    {
     "data": {
      "text/html": [
       "<strong id=\"expr\">expr:</strong> <a class=\"ProveItLink\" href=\"expr.ipynb\"><img src=\"expr.png\" style=\"display:inline;vertical-align:middle;\" /></a><br>"
      ],
      "text/plain": [
       "<IPython.core.display.HTML object>"
      ]
     },
     "metadata": {},
     "output_type": "display_data"
    }
   ],
   "source": [
    "# build up the expression from sub-expressions\n",
    "sub_expr1 = Variable(\"_a\", latex_format = r\"{_{-}a}\")\n",
    "expr = ExprTuple(Lambda([m, n], Conditional(Forall(instance_param_or_params = [a_1_to_m, b, c_1_to_n], instance_expr = Equals(ConditionalSet(ExprRange(sub_expr1, Conditional(IndexedVar(a, sub_expr1), FALSE), one, m), b, ExprRange(sub_expr1, Conditional(IndexedVar(c, sub_expr1), FALSE), one, n)), b)), And(InSet(m, Natural), InSet(n, Natural)))))"
   ]
  },
  {
   "cell_type": "code",
   "execution_count": 3,
   "metadata": {},
   "outputs": [
    {
     "name": "stdout",
     "output_type": "stream",
     "text": [
      "Passed sanity check: expr matches stored_expr\n"
     ]
    }
   ],
   "source": [
    "# check that the built expression is the same as the stored expression\n",
    "assert expr == stored_expr\n",
    "assert expr._style_id == stored_expr._style_id\n",
    "print(\"Passed sanity check: expr matches stored_expr\")"
   ]
  },
  {
   "cell_type": "code",
   "execution_count": 4,
   "metadata": {},
   "outputs": [
    {
     "name": "stdout",
     "output_type": "stream",
     "text": [
      "\\left(\\left(m, n\\right) \\mapsto \\left\\{\\forall_{a_{1}, a_{2}, \\ldots, a_{m}, b, c_{1}, c_{2}, \\ldots, c_{n}}~\\left(\\left\\{\\begin{array}{ccc}a_{1} \\textrm{ if } \\bot \\\\ a_{2} \\textrm{ if } \\bot \\\\  \\vdots \\\\ a_{m} \\textrm{ if } \\bot \\\\ b \\\\ c_{1} \\textrm{ if } \\bot \\\\ c_{2} \\textrm{ if } \\bot \\\\  \\vdots \\\\ c_{n} \\textrm{ if } \\bot\\end{array}\\right.. = b\\right) \\textrm{ if } m \\in \\mathbb{N} ,  n \\in \\mathbb{N}\\right..\\right)\n"
     ]
    }
   ],
   "source": [
    "# Show the LaTeX representation of the expression for convenience if you need it.\n",
    "print(stored_expr.latex())"
   ]
  },
  {
   "cell_type": "code",
   "execution_count": 5,
   "metadata": {},
   "outputs": [
    {
     "data": {
      "text/html": [
       "no style options"
      ],
      "text/plain": [
       "no style options"
      ]
     },
     "metadata": {},
     "output_type": "display_data"
    }
   ],
   "source": [
    "stored_expr.style_options()"
   ]
  },
  {
   "cell_type": "code",
   "execution_count": 6,
   "metadata": {},
   "outputs": [
    {
     "data": {
      "text/html": [
       "<table><tr><th>&nbsp;</th><th>core type</th><th>sub-expressions</th><th>expression</th></tr>\n",
       "<tr><td>0</td><td>ExprTuple</td><td>1</td><td><a class=\"ProveItLink\" href=\"expr.ipynb\"><img src=\"expr.png\" style=\"display:inline;vertical-align:middle;\" /></a></td></tr>\n",
       "<tr><td>1</td><td>Lambda</td><td>parameters:&nbsp;2<br>body:&nbsp;3<br></td><td><a class=\"ProveItLink\" href=\"../fb6f2e57a98fdc1248ddf60b5bfe52e3028020650/expr.ipynb\"><img src=\"../fb6f2e57a98fdc1248ddf60b5bfe52e3028020650/expr.png\" style=\"display:inline;vertical-align:middle;\" /></a></td></tr>\n",
       "<tr><td>2</td><td>ExprTuple</td><td>32, 35</td><td><a class=\"ProveItLink\" href=\"../05a1ed7149bdab455b0537bd9baa8c6aae03294c0/expr.ipynb\"><img src=\"../05a1ed7149bdab455b0537bd9baa8c6aae03294c0/expr.png\" style=\"display:inline;vertical-align:middle;\" /></a></td></tr>\n",
       "<tr><td>3</td><td>Conditional</td><td>value:&nbsp;4<br>condition:&nbsp;5<br></td><td><a class=\"ProveItLink\" href=\"../c3a303d7e1d8ecdf5539f67a19c45f6ee6b389b30/expr.ipynb\"><img src=\"../c3a303d7e1d8ecdf5539f67a19c45f6ee6b389b30/expr.png\" style=\"display:inline;vertical-align:middle;\" /></a></td></tr>\n",
       "<tr><td>4</td><td>Operation</td><td>operator:&nbsp;6<br>operand:&nbsp;10<br></td><td><a class=\"ProveItLink\" href=\"../7312f7e534a2dab7ec7145136cf030c7b26ec2960/expr.ipynb\"><img src=\"../7312f7e534a2dab7ec7145136cf030c7b26ec2960/expr.png\" style=\"display:inline;vertical-align:middle;\" /></a></td></tr>\n",
       "<tr><td>5</td><td>Operation</td><td>operator:&nbsp;8<br>operands:&nbsp;9<br></td><td><a class=\"ProveItLink\" href=\"../deb382ab480ed705c698d9676558b67a323b5f490/expr.ipynb\"><img src=\"../deb382ab480ed705c698d9676558b67a323b5f490/expr.png\" style=\"display:inline;vertical-align:middle;\" /></a></td></tr>\n",
       "<tr><td>6</td><td>Literal</td><td></td><td><a class=\"ProveItLink\" href=\"../../../../../logic/booleans/quantification/universality/__pv_it/common/083d2baa0b8ecab1d230f9ec29a15aa1355809fb0/expr.ipynb\"><img src=\"../../../../../logic/booleans/quantification/universality/__pv_it/common/083d2baa0b8ecab1d230f9ec29a15aa1355809fb0/expr.png\" style=\"display:inline;vertical-align:middle;\" /></a></td></tr>\n",
       "<tr><td>7</td><td>ExprTuple</td><td>10</td><td><a class=\"ProveItLink\" href=\"../7393b12b297803d11ca78b1c7ca97175bb6866d80/expr.ipynb\"><img src=\"../7393b12b297803d11ca78b1c7ca97175bb6866d80/expr.png\" style=\"display:inline;vertical-align:middle;\" /></a></td></tr>\n",
       "<tr><td>8</td><td>Literal</td><td></td><td><a class=\"ProveItLink\" href=\"../../../../../logic/booleans/conjunction/__pv_it/common/42118ff318bd65d98b1393f64ce7c2269feef76e0/expr.ipynb\"><img src=\"../../../../../logic/booleans/conjunction/__pv_it/common/42118ff318bd65d98b1393f64ce7c2269feef76e0/expr.png\" style=\"display:inline;vertical-align:middle;\" /></a></td></tr>\n",
       "<tr><td>9</td><td>ExprTuple</td><td>11, 12</td><td><a class=\"ProveItLink\" href=\"../74ab02b43e26a5b1f3ab0135ca892748e41860a00/expr.ipynb\"><img src=\"../74ab02b43e26a5b1f3ab0135ca892748e41860a00/expr.png\" style=\"display:inline;vertical-align:middle;\" /></a></td></tr>\n",
       "<tr><td>10</td><td>Lambda</td><td>parameters:&nbsp;13<br>body:&nbsp;14<br></td><td><a class=\"ProveItLink\" href=\"../8e1c39103b0d117f655c477ee13f783e533bfaa70/expr.ipynb\"><img src=\"../8e1c39103b0d117f655c477ee13f783e533bfaa70/expr.png\" style=\"display:inline;vertical-align:middle;\" /></a></td></tr>\n",
       "<tr><td>11</td><td>Operation</td><td>operator:&nbsp;16<br>operands:&nbsp;15<br></td><td><a class=\"ProveItLink\" href=\"../22736ce9d3a37303b26f11de823dee236fdf12440/expr.ipynb\"><img src=\"../22736ce9d3a37303b26f11de823dee236fdf12440/expr.png\" style=\"display:inline;vertical-align:middle;\" /></a></td></tr>\n",
       "<tr><td>12</td><td>Operation</td><td>operator:&nbsp;16<br>operands:&nbsp;17<br></td><td><a class=\"ProveItLink\" href=\"../a4c62904f3a87ce48a16b43526806be1316ce7cc0/expr.ipynb\"><img src=\"../a4c62904f3a87ce48a16b43526806be1316ce7cc0/expr.png\" style=\"display:inline;vertical-align:middle;\" /></a></td></tr>\n",
       "<tr><td>13</td><td>ExprTuple</td><td>18, 29, 19</td><td><a class=\"ProveItLink\" href=\"../be06767cf5db53bab4847053b0333591e20181250/expr.ipynb\"><img src=\"../be06767cf5db53bab4847053b0333591e20181250/expr.png\" style=\"display:inline;vertical-align:middle;\" /></a></td></tr>\n",
       "<tr><td>14</td><td>Operation</td><td>operator:&nbsp;20<br>operands:&nbsp;21<br></td><td><a class=\"ProveItLink\" href=\"../d8097b75bf8bd75d01efe1c7d11711ebe7dae8dc0/expr.ipynb\"><img src=\"../d8097b75bf8bd75d01efe1c7d11711ebe7dae8dc0/expr.png\" style=\"display:inline;vertical-align:middle;\" /></a></td></tr>\n",
       "<tr><td>15</td><td>ExprTuple</td><td>32, 22</td><td><a class=\"ProveItLink\" href=\"../0d6c99f0fbf307a57c36a9642312d22b5ef7d9810/expr.ipynb\"><img src=\"../0d6c99f0fbf307a57c36a9642312d22b5ef7d9810/expr.png\" style=\"display:inline;vertical-align:middle;\" /></a></td></tr>\n",
       "<tr><td>16</td><td>Literal</td><td></td><td><a class=\"ProveItLink\" href=\"../../../../../logic/sets/membership/__pv_it/common/477487d8796864d23d5810f83761435f25167f690/expr.ipynb\"><img src=\"../../../../../logic/sets/membership/__pv_it/common/477487d8796864d23d5810f83761435f25167f690/expr.png\" style=\"display:inline;vertical-align:middle;\" /></a></td></tr>\n",
       "<tr><td>17</td><td>ExprTuple</td><td>35, 22</td><td><a class=\"ProveItLink\" href=\"../ecc3c58a9897ba541ec19be82e54ee986957c4200/expr.ipynb\"><img src=\"../ecc3c58a9897ba541ec19be82e54ee986957c4200/expr.png\" style=\"display:inline;vertical-align:middle;\" /></a></td></tr>\n",
       "<tr><td>18</td><td>ExprRange</td><td>lambda_map:&nbsp;23<br>start_index:&nbsp;34<br>end_index:&nbsp;32<br></td><td><a class=\"ProveItLink\" href=\"../../../../__pv_it/common/1b82bfd6d142c0dcddaa042c515eb9e5527f4b990/expr.ipynb\"><img src=\"../../../../__pv_it/common/1b82bfd6d142c0dcddaa042c515eb9e5527f4b990/expr.png\" style=\"display:inline;vertical-align:middle;\" /></a></td></tr>\n",
       "<tr><td>19</td><td>ExprRange</td><td>lambda_map:&nbsp;24<br>start_index:&nbsp;34<br>end_index:&nbsp;35<br></td><td><a class=\"ProveItLink\" href=\"../../../../__pv_it/common/2ae8a0336550b4d1a519316f74812fe20fc282a60/expr.ipynb\"><img src=\"../../../../__pv_it/common/2ae8a0336550b4d1a519316f74812fe20fc282a60/expr.png\" style=\"display:inline;vertical-align:middle;\" /></a></td></tr>\n",
       "<tr><td>20</td><td>Literal</td><td></td><td><a class=\"ProveItLink\" href=\"../../../../../logic/equality/__pv_it/common/fb96dc12b2aa8801dda64d0132b396c63d1502bb0/expr.ipynb\"><img src=\"../../../../../logic/equality/__pv_it/common/fb96dc12b2aa8801dda64d0132b396c63d1502bb0/expr.png\" style=\"display:inline;vertical-align:middle;\" /></a></td></tr>\n",
       "<tr><td>21</td><td>ExprTuple</td><td>25, 29</td><td><a class=\"ProveItLink\" href=\"../bfa16414bec0de53710a6683713418d1d92d42a70/expr.ipynb\"><img src=\"../bfa16414bec0de53710a6683713418d1d92d42a70/expr.png\" style=\"display:inline;vertical-align:middle;\" /></a></td></tr>\n",
       "<tr><td>22</td><td>Literal</td><td></td><td><a class=\"ProveItLink\" href=\"../../../../../numbers/number_sets/natural_numbers/__pv_it/common/8b7c321957f52ed3b05b36af612eeae4fa4783bc0/expr.ipynb\"><img src=\"../../../../../numbers/number_sets/natural_numbers/__pv_it/common/8b7c321957f52ed3b05b36af612eeae4fa4783bc0/expr.png\" style=\"display:inline;vertical-align:middle;\" /></a></td></tr>\n",
       "<tr><td>23</td><td>Lambda</td><td>parameter:&nbsp;44<br>body:&nbsp;38<br></td><td><a class=\"ProveItLink\" href=\"../../../../__pv_it/common/1527ad383e12f9c6ed6b371c9a7dd1892d80da1b0/expr.ipynb\"><img src=\"../../../../__pv_it/common/1527ad383e12f9c6ed6b371c9a7dd1892d80da1b0/expr.png\" style=\"display:inline;vertical-align:middle;\" /></a></td></tr>\n",
       "<tr><td>24</td><td>Lambda</td><td>parameter:&nbsp;44<br>body:&nbsp;39<br></td><td><a class=\"ProveItLink\" href=\"../../../../__pv_it/common/89a29b5b02ce6c37577f6352274a3d503dcdde3e0/expr.ipynb\"><img src=\"../../../../__pv_it/common/89a29b5b02ce6c37577f6352274a3d503dcdde3e0/expr.png\" style=\"display:inline;vertical-align:middle;\" /></a></td></tr>\n",
       "<tr><td>25</td><td>Operation</td><td>operator:&nbsp;26<br>operands:&nbsp;27<br></td><td><a class=\"ProveItLink\" href=\"../3d2dfaccf9ed8cbf0ccdca8ec3de44f8ec815e2b0/expr.ipynb\"><img src=\"../3d2dfaccf9ed8cbf0ccdca8ec3de44f8ec815e2b0/expr.png\" style=\"display:inline;vertical-align:middle;\" /></a></td></tr>\n",
       "<tr><td>26</td><td>Literal</td><td></td><td><a class=\"ProveItLink\" href=\"../../../../../_core_/expression/conditional/__pv_it/common/83d667c64f29f6c733f867a4bce407455c5de51e0/expr.ipynb\"><img src=\"../../../../../_core_/expression/conditional/__pv_it/common/83d667c64f29f6c733f867a4bce407455c5de51e0/expr.png\" style=\"display:inline;vertical-align:middle;\" /></a></td></tr>\n",
       "<tr><td>27</td><td>ExprTuple</td><td>28, 29, 30</td><td><a class=\"ProveItLink\" href=\"../e57c0943921ec2608b46258dd237cbf4d4013b040/expr.ipynb\"><img src=\"../e57c0943921ec2608b46258dd237cbf4d4013b040/expr.png\" style=\"display:inline;vertical-align:middle;\" /></a></td></tr>\n",
       "<tr><td>28</td><td>ExprRange</td><td>lambda_map:&nbsp;31<br>start_index:&nbsp;34<br>end_index:&nbsp;32<br></td><td><a class=\"ProveItLink\" href=\"../167c65ccd15fa952605c44ae5e3840a8685625190/expr.ipynb\"><img src=\"../167c65ccd15fa952605c44ae5e3840a8685625190/expr.png\" style=\"display:inline;vertical-align:middle;\" /></a></td></tr>\n",
       "<tr><td>29</td><td>Variable</td><td></td><td><a class=\"ProveItLink\" href=\"../../../../../__pv_it/common/195236b98c6c564a75b5dbada74b173bc52d5c3e0/expr.ipynb\"><img src=\"../../../../../__pv_it/common/195236b98c6c564a75b5dbada74b173bc52d5c3e0/expr.png\" style=\"display:inline;vertical-align:middle;\" /></a></td></tr>\n",
       "<tr><td>30</td><td>ExprRange</td><td>lambda_map:&nbsp;33<br>start_index:&nbsp;34<br>end_index:&nbsp;35<br></td><td><a class=\"ProveItLink\" href=\"../57272315620fe69865ee04229b410238be93a51d0/expr.ipynb\"><img src=\"../57272315620fe69865ee04229b410238be93a51d0/expr.png\" style=\"display:inline;vertical-align:middle;\" /></a></td></tr>\n",
       "<tr><td>31</td><td>Lambda</td><td>parameter:&nbsp;44<br>body:&nbsp;36<br></td><td><a class=\"ProveItLink\" href=\"../3c259f7023315a898b98923b25a91fa786e296f50/expr.ipynb\"><img src=\"../3c259f7023315a898b98923b25a91fa786e296f50/expr.png\" style=\"display:inline;vertical-align:middle;\" /></a></td></tr>\n",
       "<tr><td>32</td><td>Variable</td><td></td><td><a class=\"ProveItLink\" href=\"../../../../../__pv_it/common/674a03b9c3ca221b3aabd5636837b31528ff33830/expr.ipynb\"><img src=\"../../../../../__pv_it/common/674a03b9c3ca221b3aabd5636837b31528ff33830/expr.png\" style=\"display:inline;vertical-align:middle;\" /></a></td></tr>\n",
       "<tr><td>33</td><td>Lambda</td><td>parameter:&nbsp;44<br>body:&nbsp;37<br></td><td><a class=\"ProveItLink\" href=\"../7a5c44d55e98bcc6f966f24d4e6181751f1992e70/expr.ipynb\"><img src=\"../7a5c44d55e98bcc6f966f24d4e6181751f1992e70/expr.png\" style=\"display:inline;vertical-align:middle;\" /></a></td></tr>\n",
       "<tr><td>34</td><td>Literal</td><td></td><td><a class=\"ProveItLink\" href=\"../../../../../numbers/numerals/__pv_it/common/682157d4892d216d9e5626ed533aff9b56b9506e0/expr.ipynb\"><img src=\"../../../../../numbers/numerals/__pv_it/common/682157d4892d216d9e5626ed533aff9b56b9506e0/expr.png\" style=\"display:inline;vertical-align:middle;\" /></a></td></tr>\n",
       "<tr><td>35</td><td>Variable</td><td></td><td><a class=\"ProveItLink\" href=\"../../../../../__pv_it/common/8968bb04eb3f7dfa02353397ce929b025bbd79c20/expr.ipynb\"><img src=\"../../../../../__pv_it/common/8968bb04eb3f7dfa02353397ce929b025bbd79c20/expr.png\" style=\"display:inline;vertical-align:middle;\" /></a></td></tr>\n",
       "<tr><td>36</td><td>Conditional</td><td>value:&nbsp;38<br>condition:&nbsp;40<br></td><td><a class=\"ProveItLink\" href=\"../3dca6a5fef475899580b2c4f240b385318f029140/expr.ipynb\"><img src=\"../3dca6a5fef475899580b2c4f240b385318f029140/expr.png\" style=\"display:inline;vertical-align:middle;\" /></a></td></tr>\n",
       "<tr><td>37</td><td>Conditional</td><td>value:&nbsp;39<br>condition:&nbsp;40<br></td><td><a class=\"ProveItLink\" href=\"../cce1e8e3cc48c21a3bebad76764cdf153301ee330/expr.ipynb\"><img src=\"../cce1e8e3cc48c21a3bebad76764cdf153301ee330/expr.png\" style=\"display:inline;vertical-align:middle;\" /></a></td></tr>\n",
       "<tr><td>38</td><td>IndexedVar</td><td>variable:&nbsp;41<br>index:&nbsp;44<br></td><td><a class=\"ProveItLink\" href=\"../../../../__pv_it/common/3a62c13e156d62d52fe585fa37cc2172fcf685260/expr.ipynb\"><img src=\"../../../../__pv_it/common/3a62c13e156d62d52fe585fa37cc2172fcf685260/expr.png\" style=\"display:inline;vertical-align:middle;\" /></a></td></tr>\n",
       "<tr><td>39</td><td>IndexedVar</td><td>variable:&nbsp;42<br>index:&nbsp;44<br></td><td><a class=\"ProveItLink\" href=\"../../../../__pv_it/common/8ffbefe913f7c934b2e3a2a12315d5900822d9d00/expr.ipynb\"><img src=\"../../../../__pv_it/common/8ffbefe913f7c934b2e3a2a12315d5900822d9d00/expr.png\" style=\"display:inline;vertical-align:middle;\" /></a></td></tr>\n",
       "<tr><td>40</td><td>Literal</td><td></td><td><a class=\"ProveItLink\" href=\"../../../../../logic/booleans/__pv_it/common/e0f123f2e4f322e1eba7f861749cda9fd9d99a120/expr.ipynb\"><img src=\"../../../../../logic/booleans/__pv_it/common/e0f123f2e4f322e1eba7f861749cda9fd9d99a120/expr.png\" style=\"display:inline;vertical-align:middle;\" /></a></td></tr>\n",
       "<tr><td>41</td><td>Variable</td><td></td><td><a class=\"ProveItLink\" href=\"../../../../../__pv_it/common/c06c606ec12678c58933ac85412ecadc2ae28be60/expr.ipynb\"><img src=\"../../../../../__pv_it/common/c06c606ec12678c58933ac85412ecadc2ae28be60/expr.png\" style=\"display:inline;vertical-align:middle;\" /></a></td></tr>\n",
       "<tr><td>42</td><td>Variable</td><td></td><td><a class=\"ProveItLink\" href=\"../../../../../__pv_it/common/ceef4280a2f1cc604b455b54e735507244cc62cd0/expr.ipynb\"><img src=\"../../../../../__pv_it/common/ceef4280a2f1cc604b455b54e735507244cc62cd0/expr.png\" style=\"display:inline;vertical-align:middle;\" /></a></td></tr>\n",
       "<tr><td>43</td><td>ExprTuple</td><td>44</td><td><a class=\"ProveItLink\" href=\"../../../../__pv_it/common/4b0dd6be36d76552eda6a95d5b4a27f5a5b62f900/expr.ipynb\"><img src=\"../../../../__pv_it/common/4b0dd6be36d76552eda6a95d5b4a27f5a5b62f900/expr.png\" style=\"display:inline;vertical-align:middle;\" /></a></td></tr>\n",
       "<tr><td>44</td><td>Variable</td><td></td><td><a class=\"ProveItLink\" href=\"../../../../__pv_it/common/006c465e50948aa2b52285e2de47974f741255cc0/expr.ipynb\"><img src=\"../../../../__pv_it/common/006c465e50948aa2b52285e2de47974f741255cc0/expr.png\" style=\"display:inline;vertical-align:middle;\" /></a></td></tr>\n",
       "</table>\n"
      ],
      "text/plain": [
       "0. ((m, n) -> {forall_{a_{1}, a_{2}, ..., a_{m}, b, c_{1}, c_{2}, ..., c_{n}} ({{a_{1} if FALSE. ; {a_{2} if FALSE. ; ... ; {a_{m} if FALSE.; b;{c_{1} if FALSE. ; {c_{2} if FALSE. ; ... ; {c_{n} if FALSE.. = b) if m in Natural ,  n in Natural.)\n",
       "   core type: ExprTuple\n",
       "   sub-expressions: 1\n",
       "1. (m, n) -> {forall_{a_{1}, a_{2}, ..., a_{m}, b, c_{1}, c_{2}, ..., c_{n}} ({{a_{1} if FALSE. ; {a_{2} if FALSE. ; ... ; {a_{m} if FALSE.; b;{c_{1} if FALSE. ; {c_{2} if FALSE. ; ... ; {c_{n} if FALSE.. = b) if m in Natural ,  n in Natural.\n",
       "   core type: Lambda\n",
       "   parameters: 2\\n   body: 3\n",
       "2. (m, n)\n",
       "   core type: ExprTuple\n",
       "   sub-expressions: 32, 35\n",
       "3. {forall_{a_{1}, a_{2}, ..., a_{m}, b, c_{1}, c_{2}, ..., c_{n}} ({{a_{1} if FALSE. ; {a_{2} if FALSE. ; ... ; {a_{m} if FALSE.; b;{c_{1} if FALSE. ; {c_{2} if FALSE. ; ... ; {c_{n} if FALSE.. = b) if m in Natural ,  n in Natural.\n",
       "   core type: Conditional\n",
       "   value: 4\n",
       "   condition: 5\n",
       "4. forall_{a_{1}, a_{2}, ..., a_{m}, b, c_{1}, c_{2}, ..., c_{n}} ({{a_{1} if FALSE. ; {a_{2} if FALSE. ; ... ; {a_{m} if FALSE.; b;{c_{1} if FALSE. ; {c_{2} if FALSE. ; ... ; {c_{n} if FALSE.. = b)\n",
       "   core type: Operation\n",
       "   operator: 6\n",
       "   operand: 10\n",
       "5. (m in Natural) and (n in Natural)\n",
       "   core type: Operation\n",
       "   operator: 8\n",
       "   operands: 9\n",
       "6. forall\n",
       "   core type: Literal\n",
       "   sub-expressions: \n",
       "7. ((a_{1}, a_{2}, ..., a_{m}, b, c_{1}, c_{2}, ..., c_{n}) -> ({{a_{1} if FALSE. ; {a_{2} if FALSE. ; ... ; {a_{m} if FALSE.; b;{c_{1} if FALSE. ; {c_{2} if FALSE. ; ... ; {c_{n} if FALSE.. = b))\n",
       "   core type: ExprTuple\n",
       "   sub-expressions: 10\n",
       "8. and\n",
       "   core type: Literal\n",
       "   sub-expressions: \n",
       "9. (m in Natural, n in Natural)\n",
       "   core type: ExprTuple\n",
       "   sub-expressions: 11, 12\n",
       "10. (a_{1}, a_{2}, ..., a_{m}, b, c_{1}, c_{2}, ..., c_{n}) -> ({{a_{1} if FALSE. ; {a_{2} if FALSE. ; ... ; {a_{m} if FALSE.; b;{c_{1} if FALSE. ; {c_{2} if FALSE. ; ... ; {c_{n} if FALSE.. = b)\n",
       "    core type: Lambda\n",
       "    parameters: 13\\n    body: 14\n",
       "11. m in Natural\n",
       "    core type: Operation\n",
       "    operator: 16\n",
       "    operands: 15\n",
       "12. n in Natural\n",
       "    core type: Operation\n",
       "    operator: 16\n",
       "    operands: 17\n",
       "13. (a_{1}, a_{2}, ..., a_{m}, b,c_{1}, c_{2}, ..., c_{n})\n",
       "    core type: ExprTuple\n",
       "    sub-expressions: 18, 29, 19\n",
       "14. {{a_{1} if FALSE. ; {a_{2} if FALSE. ; ... ; {a_{m} if FALSE.; b;{c_{1} if FALSE. ; {c_{2} if FALSE. ; ... ; {c_{n} if FALSE.. = b\n",
       "    core type: Operation\n",
       "    operator: 20\n",
       "    operands: 21\n",
       "15. (m, Natural)\n",
       "    core type: ExprTuple\n",
       "    sub-expressions: 32, 22\n",
       "16. in\n",
       "    core type: Literal\n",
       "    sub-expressions: \n",
       "17. (n, Natural)\n",
       "    core type: ExprTuple\n",
       "    sub-expressions: 35, 22\n",
       "18. a_{1}, a_{2}, ..., a_{m}\n",
       "    core type: ExprRange\n",
       "    lambda_map: 23\n",
       "    start_index: 34\n",
       "    end_index: 32\n",
       "19. c_{1}, c_{2}, ..., c_{n}\n",
       "    core type: ExprRange\n",
       "    lambda_map: 24\n",
       "    start_index: 34\n",
       "    end_index: 35\n",
       "20. =\n",
       "    core type: Literal\n",
       "    sub-expressions: \n",
       "21. ({{a_{1} if FALSE. ; {a_{2} if FALSE. ; ... ; {a_{m} if FALSE.; b;{c_{1} if FALSE. ; {c_{2} if FALSE. ; ... ; {c_{n} if FALSE.., b)\n",
       "    core type: ExprTuple\n",
       "    sub-expressions: 25, 29\n",
       "22. Natural\n",
       "    core type: Literal\n",
       "    sub-expressions: \n",
       "23. _a -> a_{_a}\n",
       "    core type: Lambda\n",
       "    parameter: 44\n",
       "    body: 38\n",
       "24. _a -> c_{_a}\n",
       "    core type: Lambda\n",
       "    parameter: 44\n",
       "    body: 39\n",
       "25. {{a_{1} if FALSE. ; {a_{2} if FALSE. ; ... ; {a_{m} if FALSE.; b;{c_{1} if FALSE. ; {c_{2} if FALSE. ; ... ; {c_{n} if FALSE..\n",
       "    core type: Operation\n",
       "    operator: 26\n",
       "    operands: 27\n",
       "26. CondSet\n",
       "    core type: Literal\n",
       "    sub-expressions: \n",
       "27. ({a_{1} if FALSE., {a_{2} if FALSE., ..., {a_{m} if FALSE., b,{c_{1} if FALSE., {c_{2} if FALSE., ..., {c_{n} if FALSE.)\n",
       "    core type: ExprTuple\n",
       "    sub-expressions: 28, 29, 30\n",
       "28. {a_{1} if FALSE., {a_{2} if FALSE., ..., {a_{m} if FALSE.\n",
       "    core type: ExprRange\n",
       "    lambda_map: 31\n",
       "    start_index: 34\n",
       "    end_index: 32\n",
       "29. b\n",
       "    core type: Variable\n",
       "    sub-expressions: \n",
       "30. {c_{1} if FALSE., {c_{2} if FALSE., ..., {c_{n} if FALSE.\n",
       "    core type: ExprRange\n",
       "    lambda_map: 33\n",
       "    start_index: 34\n",
       "    end_index: 35\n",
       "31. _a -> {a_{_a} if FALSE.\n",
       "    core type: Lambda\n",
       "    parameter: 44\n",
       "    body: 36\n",
       "32. m\n",
       "    core type: Variable\n",
       "    sub-expressions: \n",
       "33. _a -> {c_{_a} if FALSE.\n",
       "    core type: Lambda\n",
       "    parameter: 44\n",
       "    body: 37\n",
       "34. 1\n",
       "    core type: Literal\n",
       "    sub-expressions: \n",
       "35. n\n",
       "    core type: Variable\n",
       "    sub-expressions: \n",
       "36. {a_{_a} if FALSE.\n",
       "    core type: Conditional\n",
       "    value: 38\n",
       "    condition: 40\n",
       "37. {c_{_a} if FALSE.\n",
       "    core type: Conditional\n",
       "    value: 39\n",
       "    condition: 40\n",
       "38. a_{_a}\n",
       "    core type: IndexedVar\n",
       "variable: 41\n",
       "index: 44\n",
       "39. c_{_a}\n",
       "    core type: IndexedVar\n",
       "variable: 42\n",
       "index: 44\n",
       "40. FALSE\n",
       "    core type: Literal\n",
       "    sub-expressions: \n",
       "41. a\n",
       "    core type: Variable\n",
       "    sub-expressions: \n",
       "42. c\n",
       "    core type: Variable\n",
       "    sub-expressions: \n",
       "43. (_a)\n",
       "    core type: ExprTuple\n",
       "    sub-expressions: 44\n",
       "44. _a\n",
       "    core type: Variable\n",
       "    sub-expressions: "
      ]
     },
     "metadata": {},
     "output_type": "display_data"
    }
   ],
   "source": [
    "# display the expression information\n",
    "stored_expr.expr_info()"
   ]
  },
  {
   "cell_type": "code",
   "execution_count": null,
   "metadata": {},
   "outputs": [],
   "source": []
  }
 ],
 "metadata": {
  "kernelspec": {
   "display_name": "Python 3",
   "language": "python",
   "name": "python3"
  }
 },
 "nbformat": 4,
 "nbformat_minor": 0
}