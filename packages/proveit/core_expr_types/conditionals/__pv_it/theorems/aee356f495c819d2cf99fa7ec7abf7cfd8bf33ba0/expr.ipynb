{
 "cells": [
  {
   "cell_type": "markdown",
   "metadata": {},
   "source": [
    "Expression of type <a class=\"ProveItLink\" href=\"../../../../../../../doc/html/api/proveit.ExprTuple.html\">ExprTuple</a>\n",
    "=======================\n",
    "# from the theory of <a class=\"ProveItLink\" href=\"../../../_theory_nbs_/theory.ipynb\">proveit.core_expr_types.conditionals</a>"
   ]
  },
  {
   "cell_type": "code",
   "execution_count": 1,
   "metadata": {},
   "outputs": [],
   "source": [
    "import proveit\n",
    "# Automation is not needed when building an expression:\n",
    "proveit.defaults.automation = False # This will speed things up.\n",
    "proveit.defaults.inline_pngs = False # Makes files smaller.\n",
    "%load_expr # Load the stored expression as 'stored_expr'\n",
    "# import Expression classes needed to build the expression\n",
    "from proveit import Conditional, ExprTuple, Lambda, a, m, n\n",
    "from proveit.core_expr_types import Q_1_to_m, R_1_to_n\n",
    "from proveit.logic import And, Equals, Forall, InSet, TRUE\n",
    "from proveit.numbers import Natural"
   ]
  },
  {
   "cell_type": "code",
   "execution_count": 2,
   "metadata": {},
   "outputs": [
    {
     "data": {
      "text/html": [
       "<strong id=\"expr\">expr:</strong> <a class=\"ProveItLink\" href=\"expr.ipynb\"><img src=\"expr.png\" style=\"display:inline;vertical-align:middle;\" /></a><br>"
      ],
      "text/plain": [
       "<IPython.core.display.HTML object>"
      ]
     },
     "metadata": {},
     "output_type": "display_data"
    }
   ],
   "source": [
    "# build up the expression from sub-expressions\n",
    "expr = ExprTuple(Lambda([m, n], Conditional(Forall(instance_param_or_params = [a, Q_1_to_m, R_1_to_n], instance_expr = Equals(Conditional(a, And(Q_1_to_m, TRUE, R_1_to_n)), Conditional(a, And(Q_1_to_m, R_1_to_n))).with_wrapping_at(1)), And(InSet(m, Natural), InSet(n, Natural)))))"
   ]
  },
  {
   "cell_type": "code",
   "execution_count": 3,
   "metadata": {},
   "outputs": [
    {
     "name": "stdout",
     "output_type": "stream",
     "text": [
      "Passed sanity check: expr matches stored_expr\n"
     ]
    }
   ],
   "source": [
    "# check that the built expression is the same as the stored expression\n",
    "assert expr == stored_expr\n",
    "assert expr._style_id == stored_expr._style_id\n",
    "print(\"Passed sanity check: expr matches stored_expr\")"
   ]
  },
  {
   "cell_type": "code",
   "execution_count": 4,
   "metadata": {},
   "outputs": [
    {
     "name": "stdout",
     "output_type": "stream",
     "text": [
      "\\left(\\left(m, n\\right) \\mapsto \\left\\{\\forall_{a, Q_{1}, Q_{2}, \\ldots, Q_{m}, R_{1}, R_{2}, \\ldots, R_{n}}~\\left(\\begin{array}{c} \\begin{array}{l} \\left\\{a \\textrm{ if } Q_{1} ,  Q_{2} ,  \\ldots ,  Q_{m} ,  \\top, R_{1} ,  R_{2} ,  \\ldots ,  R_{n}\\right.. \\\\  = \\left\\{a \\textrm{ if } Q_{1} ,  Q_{2} ,  \\ldots ,  Q_{m}, R_{1} ,  R_{2} ,  \\ldots ,  R_{n}\\right.. \\end{array} \\end{array}\\right) \\textrm{ if } m \\in \\mathbb{N} ,  n \\in \\mathbb{N}\\right..\\right)\n"
     ]
    }
   ],
   "source": [
    "# Show the LaTeX representation of the expression for convenience if you need it.\n",
    "print(stored_expr.latex())"
   ]
  },
  {
   "cell_type": "code",
   "execution_count": 5,
   "metadata": {},
   "outputs": [
    {
     "data": {
      "text/html": [
       "no style options"
      ],
      "text/plain": [
       "no style options"
      ]
     },
     "metadata": {},
     "output_type": "display_data"
    }
   ],
   "source": [
    "stored_expr.style_options()"
   ]
  },
  {
   "cell_type": "code",
   "execution_count": 6,
   "metadata": {},
   "outputs": [
    {
     "data": {
      "text/html": [
       "<table><tr><th>&nbsp;</th><th>core type</th><th>sub-expressions</th><th>expression</th></tr>\n",
       "<tr><td>0</td><td>ExprTuple</td><td>1</td><td><a class=\"ProveItLink\" href=\"expr.ipynb\"><img src=\"expr.png\" style=\"display:inline;vertical-align:middle;\" /></a></td></tr>\n",
       "<tr><td>1</td><td>Lambda</td><td>parameters:&nbsp;2<br>body:&nbsp;3<br></td><td><a class=\"ProveItLink\" href=\"../57cb815b9c51926dbe3418d624ff05f03cafd35a0/expr.ipynb\"><img src=\"../57cb815b9c51926dbe3418d624ff05f03cafd35a0/expr.png\" style=\"display:inline;vertical-align:middle;\" /></a></td></tr>\n",
       "<tr><td>2</td><td>ExprTuple</td><td>32, 35</td><td><a class=\"ProveItLink\" href=\"../05a1ed7149bdab455b0537bd9baa8c6aae03294c0/expr.ipynb\"><img src=\"../05a1ed7149bdab455b0537bd9baa8c6aae03294c0/expr.png\" style=\"display:inline;vertical-align:middle;\" /></a></td></tr>\n",
       "<tr><td>3</td><td>Conditional</td><td>value:&nbsp;4<br>condition:&nbsp;5<br></td><td><a class=\"ProveItLink\" href=\"../414295a5984266db115595ceb0b394c82e2c29de0/expr.ipynb\"><img src=\"../414295a5984266db115595ceb0b394c82e2c29de0/expr.png\" style=\"display:inline;vertical-align:middle;\" /></a></td></tr>\n",
       "<tr><td>4</td><td>Operation</td><td>operator:&nbsp;6<br>operand:&nbsp;9<br></td><td><a class=\"ProveItLink\" href=\"../7d6ad4fa8c6d91873217a8e9b9b2aa6b71186ae10/expr.ipynb\"><img src=\"../7d6ad4fa8c6d91873217a8e9b9b2aa6b71186ae10/expr.png\" style=\"display:inline;vertical-align:middle;\" /></a></td></tr>\n",
       "<tr><td>5</td><td>Operation</td><td>operator:&nbsp;26<br>operands:&nbsp;8<br></td><td><a class=\"ProveItLink\" href=\"../deb382ab480ed705c698d9676558b67a323b5f490/expr.ipynb\"><img src=\"../deb382ab480ed705c698d9676558b67a323b5f490/expr.png\" style=\"display:inline;vertical-align:middle;\" /></a></td></tr>\n",
       "<tr><td>6</td><td>Literal</td><td></td><td><a class=\"ProveItLink\" href=\"../../../../../logic/booleans/quantification/universality/__pv_it/common/083d2baa0b8ecab1d230f9ec29a15aa1355809fb0/expr.ipynb\"><img src=\"../../../../../logic/booleans/quantification/universality/__pv_it/common/083d2baa0b8ecab1d230f9ec29a15aa1355809fb0/expr.png\" style=\"display:inline;vertical-align:middle;\" /></a></td></tr>\n",
       "<tr><td>7</td><td>ExprTuple</td><td>9</td><td><a class=\"ProveItLink\" href=\"../69716370c60d9fb75dd22731f044688ad7a284610/expr.ipynb\"><img src=\"../69716370c60d9fb75dd22731f044688ad7a284610/expr.png\" style=\"display:inline;vertical-align:middle;\" /></a></td></tr>\n",
       "<tr><td>8</td><td>ExprTuple</td><td>10, 11</td><td><a class=\"ProveItLink\" href=\"../74ab02b43e26a5b1f3ab0135ca892748e41860a00/expr.ipynb\"><img src=\"../74ab02b43e26a5b1f3ab0135ca892748e41860a00/expr.png\" style=\"display:inline;vertical-align:middle;\" /></a></td></tr>\n",
       "<tr><td>9</td><td>Lambda</td><td>parameters:&nbsp;12<br>body:&nbsp;13<br></td><td><a class=\"ProveItLink\" href=\"../a399148e01b4e7d26014aef3f28b46f8768a0c710/expr.ipynb\"><img src=\"../a399148e01b4e7d26014aef3f28b46f8768a0c710/expr.png\" style=\"display:inline;vertical-align:middle;\" /></a></td></tr>\n",
       "<tr><td>10</td><td>Operation</td><td>operator:&nbsp;15<br>operands:&nbsp;14<br></td><td><a class=\"ProveItLink\" href=\"../22736ce9d3a37303b26f11de823dee236fdf12440/expr.ipynb\"><img src=\"../22736ce9d3a37303b26f11de823dee236fdf12440/expr.png\" style=\"display:inline;vertical-align:middle;\" /></a></td></tr>\n",
       "<tr><td>11</td><td>Operation</td><td>operator:&nbsp;15<br>operands:&nbsp;16<br></td><td><a class=\"ProveItLink\" href=\"../a4c62904f3a87ce48a16b43526806be1316ce7cc0/expr.ipynb\"><img src=\"../a4c62904f3a87ce48a16b43526806be1316ce7cc0/expr.png\" style=\"display:inline;vertical-align:middle;\" /></a></td></tr>\n",
       "<tr><td>12</td><td>ExprTuple</td><td>23, 29, 30</td><td><a class=\"ProveItLink\" href=\"../a0825ca80f24fbd84c713eb726d169b52005e64c0/expr.ipynb\"><img src=\"../a0825ca80f24fbd84c713eb726d169b52005e64c0/expr.png\" style=\"display:inline;vertical-align:middle;\" /></a></td></tr>\n",
       "<tr><td>13</td><td>Operation</td><td>operator:&nbsp;17<br>operands:&nbsp;18<br></td><td><a class=\"ProveItLink\" href=\"../b2e4bc519ae1402b69b9562cb069f3336d7e17020/expr.ipynb\"><img src=\"../b2e4bc519ae1402b69b9562cb069f3336d7e17020/expr.png\" style=\"display:inline;vertical-align:middle;\" /></a></td></tr>\n",
       "<tr><td>14</td><td>ExprTuple</td><td>32, 19</td><td><a class=\"ProveItLink\" href=\"../0d6c99f0fbf307a57c36a9642312d22b5ef7d9810/expr.ipynb\"><img src=\"../0d6c99f0fbf307a57c36a9642312d22b5ef7d9810/expr.png\" style=\"display:inline;vertical-align:middle;\" /></a></td></tr>\n",
       "<tr><td>15</td><td>Literal</td><td></td><td><a class=\"ProveItLink\" href=\"../../../../../logic/sets/membership/__pv_it/common/477487d8796864d23d5810f83761435f25167f690/expr.ipynb\"><img src=\"../../../../../logic/sets/membership/__pv_it/common/477487d8796864d23d5810f83761435f25167f690/expr.png\" style=\"display:inline;vertical-align:middle;\" /></a></td></tr>\n",
       "<tr><td>16</td><td>ExprTuple</td><td>35, 19</td><td><a class=\"ProveItLink\" href=\"../ecc3c58a9897ba541ec19be82e54ee986957c4200/expr.ipynb\"><img src=\"../ecc3c58a9897ba541ec19be82e54ee986957c4200/expr.png\" style=\"display:inline;vertical-align:middle;\" /></a></td></tr>\n",
       "<tr><td>17</td><td>Literal</td><td></td><td><a class=\"ProveItLink\" href=\"../../../../../logic/equality/__pv_it/common/fb96dc12b2aa8801dda64d0132b396c63d1502bb0/expr.ipynb\"><img src=\"../../../../../logic/equality/__pv_it/common/fb96dc12b2aa8801dda64d0132b396c63d1502bb0/expr.png\" style=\"display:inline;vertical-align:middle;\" /></a></td></tr>\n",
       "<tr><td>18</td><td>ExprTuple</td><td>20, 21</td><td><a class=\"ProveItLink\" href=\"../4126692938f8673d46002ba753982d35b02524200/expr.ipynb\"><img src=\"../4126692938f8673d46002ba753982d35b02524200/expr.png\" style=\"display:inline;vertical-align:middle;\" /></a></td></tr>\n",
       "<tr><td>19</td><td>Literal</td><td></td><td><a class=\"ProveItLink\" href=\"../../../../../numbers/number_sets/natural_numbers/__pv_it/common/8b7c321957f52ed3b05b36af612eeae4fa4783bc0/expr.ipynb\"><img src=\"../../../../../numbers/number_sets/natural_numbers/__pv_it/common/8b7c321957f52ed3b05b36af612eeae4fa4783bc0/expr.png\" style=\"display:inline;vertical-align:middle;\" /></a></td></tr>\n",
       "<tr><td>20</td><td>Conditional</td><td>value:&nbsp;23<br>condition:&nbsp;22<br></td><td><a class=\"ProveItLink\" href=\"../f8e141f15572be5ce658f27ed8e2ed12888fd0fd0/expr.ipynb\"><img src=\"../f8e141f15572be5ce658f27ed8e2ed12888fd0fd0/expr.png\" style=\"display:inline;vertical-align:middle;\" /></a></td></tr>\n",
       "<tr><td>21</td><td>Conditional</td><td>value:&nbsp;23<br>condition:&nbsp;24<br></td><td><a class=\"ProveItLink\" href=\"../21ab1e637e24da3bc3d94aea1ed085091151d9400/expr.ipynb\"><img src=\"../21ab1e637e24da3bc3d94aea1ed085091151d9400/expr.png\" style=\"display:inline;vertical-align:middle;\" /></a></td></tr>\n",
       "<tr><td>22</td><td>Operation</td><td>operator:&nbsp;26<br>operands:&nbsp;25<br></td><td><a class=\"ProveItLink\" href=\"../c9ec23fbac5ad86991746a84fcfc71f0b3dfd2f30/expr.ipynb\"><img src=\"../c9ec23fbac5ad86991746a84fcfc71f0b3dfd2f30/expr.png\" style=\"display:inline;vertical-align:middle;\" /></a></td></tr>\n",
       "<tr><td>23</td><td>Variable</td><td></td><td><a class=\"ProveItLink\" href=\"../../../../../__pv_it/common/c06c606ec12678c58933ac85412ecadc2ae28be60/expr.ipynb\"><img src=\"../../../../../__pv_it/common/c06c606ec12678c58933ac85412ecadc2ae28be60/expr.png\" style=\"display:inline;vertical-align:middle;\" /></a></td></tr>\n",
       "<tr><td>24</td><td>Operation</td><td>operator:&nbsp;26<br>operands:&nbsp;27<br></td><td><a class=\"ProveItLink\" href=\"../39e6b42c9247de198f9a6ffd373afd92452de32d0/expr.ipynb\"><img src=\"../39e6b42c9247de198f9a6ffd373afd92452de32d0/expr.png\" style=\"display:inline;vertical-align:middle;\" /></a></td></tr>\n",
       "<tr><td>25</td><td>ExprTuple</td><td>29, 28, 30</td><td><a class=\"ProveItLink\" href=\"../e8b8cd0d1d18ff8f6e2cd43768df79cca4cc2c0e0/expr.ipynb\"><img src=\"../e8b8cd0d1d18ff8f6e2cd43768df79cca4cc2c0e0/expr.png\" style=\"display:inline;vertical-align:middle;\" /></a></td></tr>\n",
       "<tr><td>26</td><td>Literal</td><td></td><td><a class=\"ProveItLink\" href=\"../../../../../logic/booleans/conjunction/__pv_it/common/42118ff318bd65d98b1393f64ce7c2269feef76e0/expr.ipynb\"><img src=\"../../../../../logic/booleans/conjunction/__pv_it/common/42118ff318bd65d98b1393f64ce7c2269feef76e0/expr.png\" style=\"display:inline;vertical-align:middle;\" /></a></td></tr>\n",
       "<tr><td>27</td><td>ExprTuple</td><td>29, 30</td><td><a class=\"ProveItLink\" href=\"../9846326658a5057ef5a53c363ad90c6a995938390/expr.ipynb\"><img src=\"../9846326658a5057ef5a53c363ad90c6a995938390/expr.png\" style=\"display:inline;vertical-align:middle;\" /></a></td></tr>\n",
       "<tr><td>28</td><td>Literal</td><td></td><td><a class=\"ProveItLink\" href=\"../../../../../logic/booleans/__pv_it/common/95025295868b9266d37330b4427adf122f6061770/expr.ipynb\"><img src=\"../../../../../logic/booleans/__pv_it/common/95025295868b9266d37330b4427adf122f6061770/expr.png\" style=\"display:inline;vertical-align:middle;\" /></a></td></tr>\n",
       "<tr><td>29</td><td>ExprRange</td><td>lambda_map:&nbsp;31<br>start_index:&nbsp;34<br>end_index:&nbsp;32<br></td><td><a class=\"ProveItLink\" href=\"../../../../__pv_it/common/36ec706e1143fd1d895c3be566542a2a3b5f14570/expr.ipynb\"><img src=\"../../../../__pv_it/common/36ec706e1143fd1d895c3be566542a2a3b5f14570/expr.png\" style=\"display:inline;vertical-align:middle;\" /></a></td></tr>\n",
       "<tr><td>30</td><td>ExprRange</td><td>lambda_map:&nbsp;33<br>start_index:&nbsp;34<br>end_index:&nbsp;35<br></td><td><a class=\"ProveItLink\" href=\"../../../../__pv_it/common/178e3d2d677180c226652597ee4a3b01b978fa0b0/expr.ipynb\"><img src=\"../../../../__pv_it/common/178e3d2d677180c226652597ee4a3b01b978fa0b0/expr.png\" style=\"display:inline;vertical-align:middle;\" /></a></td></tr>\n",
       "<tr><td>31</td><td>Lambda</td><td>parameter:&nbsp;41<br>body:&nbsp;36<br></td><td><a class=\"ProveItLink\" href=\"../../../../__pv_it/common/c5711c2f48ebf1c0337f029f40c3d8397f5c14ae0/expr.ipynb\"><img src=\"../../../../__pv_it/common/c5711c2f48ebf1c0337f029f40c3d8397f5c14ae0/expr.png\" style=\"display:inline;vertical-align:middle;\" /></a></td></tr>\n",
       "<tr><td>32</td><td>Variable</td><td></td><td><a class=\"ProveItLink\" href=\"../../../../../__pv_it/common/674a03b9c3ca221b3aabd5636837b31528ff33830/expr.ipynb\"><img src=\"../../../../../__pv_it/common/674a03b9c3ca221b3aabd5636837b31528ff33830/expr.png\" style=\"display:inline;vertical-align:middle;\" /></a></td></tr>\n",
       "<tr><td>33</td><td>Lambda</td><td>parameter:&nbsp;41<br>body:&nbsp;37<br></td><td><a class=\"ProveItLink\" href=\"../../../../__pv_it/common/3a59a4b99599820a98d30387e37bd7e06be2b0960/expr.ipynb\"><img src=\"../../../../__pv_it/common/3a59a4b99599820a98d30387e37bd7e06be2b0960/expr.png\" style=\"display:inline;vertical-align:middle;\" /></a></td></tr>\n",
       "<tr><td>34</td><td>Literal</td><td></td><td><a class=\"ProveItLink\" href=\"../../../../../numbers/numerals/__pv_it/common/682157d4892d216d9e5626ed533aff9b56b9506e0/expr.ipynb\"><img src=\"../../../../../numbers/numerals/__pv_it/common/682157d4892d216d9e5626ed533aff9b56b9506e0/expr.png\" style=\"display:inline;vertical-align:middle;\" /></a></td></tr>\n",
       "<tr><td>35</td><td>Variable</td><td></td><td><a class=\"ProveItLink\" href=\"../../../../../__pv_it/common/8968bb04eb3f7dfa02353397ce929b025bbd79c20/expr.ipynb\"><img src=\"../../../../../__pv_it/common/8968bb04eb3f7dfa02353397ce929b025bbd79c20/expr.png\" style=\"display:inline;vertical-align:middle;\" /></a></td></tr>\n",
       "<tr><td>36</td><td>IndexedVar</td><td>variable:&nbsp;38<br>index:&nbsp;41<br></td><td><a class=\"ProveItLink\" href=\"../../../../__pv_it/common/2a0888bbb42cace260399ab97dfa7ca33ea67cf70/expr.ipynb\"><img src=\"../../../../__pv_it/common/2a0888bbb42cace260399ab97dfa7ca33ea67cf70/expr.png\" style=\"display:inline;vertical-align:middle;\" /></a></td></tr>\n",
       "<tr><td>37</td><td>IndexedVar</td><td>variable:&nbsp;39<br>index:&nbsp;41<br></td><td><a class=\"ProveItLink\" href=\"../../../../__pv_it/common/d5bb5d50b25fbbb6477c8c27210ed614e78dd5bc0/expr.ipynb\"><img src=\"../../../../__pv_it/common/d5bb5d50b25fbbb6477c8c27210ed614e78dd5bc0/expr.png\" style=\"display:inline;vertical-align:middle;\" /></a></td></tr>\n",
       "<tr><td>38</td><td>Variable</td><td></td><td><a class=\"ProveItLink\" href=\"../../../../../__pv_it/common/d72bb8b07403efe79afab564c36a28e21330e5f90/expr.ipynb\"><img src=\"../../../../../__pv_it/common/d72bb8b07403efe79afab564c36a28e21330e5f90/expr.png\" style=\"display:inline;vertical-align:middle;\" /></a></td></tr>\n",
       "<tr><td>39</td><td>Variable</td><td></td><td><a class=\"ProveItLink\" href=\"../../../../../__pv_it/common/647ca33d6b96e29d5aa85a15d2241c7ebd0c6e4b0/expr.ipynb\"><img src=\"../../../../../__pv_it/common/647ca33d6b96e29d5aa85a15d2241c7ebd0c6e4b0/expr.png\" style=\"display:inline;vertical-align:middle;\" /></a></td></tr>\n",
       "<tr><td>40</td><td>ExprTuple</td><td>41</td><td><a class=\"ProveItLink\" href=\"../../../../__pv_it/common/4b0dd6be36d76552eda6a95d5b4a27f5a5b62f900/expr.ipynb\"><img src=\"../../../../__pv_it/common/4b0dd6be36d76552eda6a95d5b4a27f5a5b62f900/expr.png\" style=\"display:inline;vertical-align:middle;\" /></a></td></tr>\n",
       "<tr><td>41</td><td>Variable</td><td></td><td><a class=\"ProveItLink\" href=\"../../../../__pv_it/common/006c465e50948aa2b52285e2de47974f741255cc0/expr.ipynb\"><img src=\"../../../../__pv_it/common/006c465e50948aa2b52285e2de47974f741255cc0/expr.png\" style=\"display:inline;vertical-align:middle;\" /></a></td></tr>\n",
       "</table>\n"
      ],
      "text/plain": [
       "0. ((m, n) -> {forall_{a, Q_{1}, Q_{2}, ..., Q_{m}, R_{1}, R_{2}, ..., R_{n}} ({a if Q_{1} ,  Q_{2} ,  ... ,  Q_{m} ,  TRUE, R_{1} ,  R_{2} ,  ... ,  R_{n}. \\\\  = {a if Q_{1} ,  Q_{2} ,  ... ,  Q_{m}, R_{1} ,  R_{2} ,  ... ,  R_{n}.) if m in Natural ,  n in Natural.)\n",
       "   core type: ExprTuple\n",
       "   sub-expressions: 1\n",
       "1. (m, n) -> {forall_{a, Q_{1}, Q_{2}, ..., Q_{m}, R_{1}, R_{2}, ..., R_{n}} ({a if Q_{1} ,  Q_{2} ,  ... ,  Q_{m} ,  TRUE, R_{1} ,  R_{2} ,  ... ,  R_{n}. \\\\  = {a if Q_{1} ,  Q_{2} ,  ... ,  Q_{m}, R_{1} ,  R_{2} ,  ... ,  R_{n}.) if m in Natural ,  n in Natural.\n",
       "   core type: Lambda\n",
       "   parameters: 2\\n   body: 3\n",
       "2. (m, n)\n",
       "   core type: ExprTuple\n",
       "   sub-expressions: 32, 35\n",
       "3. {forall_{a, Q_{1}, Q_{2}, ..., Q_{m}, R_{1}, R_{2}, ..., R_{n}} ({a if Q_{1} ,  Q_{2} ,  ... ,  Q_{m} ,  TRUE, R_{1} ,  R_{2} ,  ... ,  R_{n}. \\\\  = {a if Q_{1} ,  Q_{2} ,  ... ,  Q_{m}, R_{1} ,  R_{2} ,  ... ,  R_{n}.) if m in Natural ,  n in Natural.\n",
       "   core type: Conditional\n",
       "   value: 4\n",
       "   condition: 5\n",
       "4. forall_{a, Q_{1}, Q_{2}, ..., Q_{m}, R_{1}, R_{2}, ..., R_{n}} ({a if Q_{1} ,  Q_{2} ,  ... ,  Q_{m} ,  TRUE, R_{1} ,  R_{2} ,  ... ,  R_{n}. \\\\  = {a if Q_{1} ,  Q_{2} ,  ... ,  Q_{m}, R_{1} ,  R_{2} ,  ... ,  R_{n}.)\n",
       "   core type: Operation\n",
       "   operator: 6\n",
       "   operand: 9\n",
       "5. (m in Natural) and (n in Natural)\n",
       "   core type: Operation\n",
       "   operator: 26\n",
       "   operands: 8\n",
       "6. forall\n",
       "   core type: Literal\n",
       "   sub-expressions: \n",
       "7. ((a, Q_{1}, Q_{2}, ..., Q_{m}, R_{1}, R_{2}, ..., R_{n}) -> ({a if Q_{1} ,  Q_{2} ,  ... ,  Q_{m} ,  TRUE, R_{1} ,  R_{2} ,  ... ,  R_{n}. \\\\  = {a if Q_{1} ,  Q_{2} ,  ... ,  Q_{m}, R_{1} ,  R_{2} ,  ... ,  R_{n}.))\n",
       "   core type: ExprTuple\n",
       "   sub-expressions: 9\n",
       "8. (m in Natural, n in Natural)\n",
       "   core type: ExprTuple\n",
       "   sub-expressions: 10, 11\n",
       "9. (a, Q_{1}, Q_{2}, ..., Q_{m}, R_{1}, R_{2}, ..., R_{n}) -> ({a if Q_{1} ,  Q_{2} ,  ... ,  Q_{m} ,  TRUE, R_{1} ,  R_{2} ,  ... ,  R_{n}. \\\\  = {a if Q_{1} ,  Q_{2} ,  ... ,  Q_{m}, R_{1} ,  R_{2} ,  ... ,  R_{n}.)\n",
       "   core type: Lambda\n",
       "   parameters: 12\\n   body: 13\n",
       "10. m in Natural\n",
       "    core type: Operation\n",
       "    operator: 15\n",
       "    operands: 14\n",
       "11. n in Natural\n",
       "    core type: Operation\n",
       "    operator: 15\n",
       "    operands: 16\n",
       "12. (a,Q_{1}, Q_{2}, ..., Q_{m},R_{1}, R_{2}, ..., R_{n})\n",
       "    core type: ExprTuple\n",
       "    sub-expressions: 23, 29, 30\n",
       "13. {a if Q_{1} ,  Q_{2} ,  ... ,  Q_{m} ,  TRUE, R_{1} ,  R_{2} ,  ... ,  R_{n}. \\\\  = {a if Q_{1} ,  Q_{2} ,  ... ,  Q_{m}, R_{1} ,  R_{2} ,  ... ,  R_{n}.\n",
       "    core type: Operation\n",
       "    operator: 17\n",
       "    operands: 18\n",
       "14. (m, Natural)\n",
       "    core type: ExprTuple\n",
       "    sub-expressions: 32, 19\n",
       "15. in\n",
       "    core type: Literal\n",
       "    sub-expressions: \n",
       "16. (n, Natural)\n",
       "    core type: ExprTuple\n",
       "    sub-expressions: 35, 19\n",
       "17. =\n",
       "    core type: Literal\n",
       "    sub-expressions: \n",
       "18. (a if Q_{1} ,  Q_{2} ,  ... ,  Q_{m} ,  TRUE, R_{1} ,  R_{2} ,  ... ,  R_{n}, a if Q_{1} ,  Q_{2} ,  ... ,  Q_{m}, R_{1} ,  R_{2} ,  ... ,  R_{n})\n",
       "    core type: ExprTuple\n",
       "    sub-expressions: 20, 21\n",
       "19. Natural\n",
       "    core type: Literal\n",
       "    sub-expressions: \n",
       "20. {a if Q_{1} ,  Q_{2} ,  ... ,  Q_{m} ,  TRUE, R_{1} ,  R_{2} ,  ... ,  R_{n}.\n",
       "    core type: Conditional\n",
       "    value: 23\n",
       "    condition: 22\n",
       "21. {a if Q_{1} ,  Q_{2} ,  ... ,  Q_{m}, R_{1} ,  R_{2} ,  ... ,  R_{n}.\n",
       "    core type: Conditional\n",
       "    value: 23\n",
       "    condition: 24\n",
       "22. Q_{1} and  Q_{2} and  ... and  Q_{m} and TRUEand R_{1} and  R_{2} and  ... and  R_{n}\n",
       "    core type: Operation\n",
       "    operator: 26\n",
       "    operands: 25\n",
       "23. a\n",
       "    core type: Variable\n",
       "    sub-expressions: \n",
       "24. Q_{1} and  Q_{2} and  ... and  Q_{m}and R_{1} and  R_{2} and  ... and  R_{n}\n",
       "    core type: Operation\n",
       "    operator: 26\n",
       "    operands: 27\n",
       "25. (Q_{1}, Q_{2}, ..., Q_{m}, TRUE,R_{1}, R_{2}, ..., R_{n})\n",
       "    core type: ExprTuple\n",
       "    sub-expressions: 29, 28, 30\n",
       "26. and\n",
       "    core type: Literal\n",
       "    sub-expressions: \n",
       "27. (Q_{1}, Q_{2}, ..., Q_{m},R_{1}, R_{2}, ..., R_{n})\n",
       "    core type: ExprTuple\n",
       "    sub-expressions: 29, 30\n",
       "28. TRUE\n",
       "    core type: Literal\n",
       "    sub-expressions: \n",
       "29. Q_{1}, Q_{2}, ..., Q_{m}\n",
       "    core type: ExprRange\n",
       "    lambda_map: 31\n",
       "    start_index: 34\n",
       "    end_index: 32\n",
       "30. R_{1}, R_{2}, ..., R_{n}\n",
       "    core type: ExprRange\n",
       "    lambda_map: 33\n",
       "    start_index: 34\n",
       "    end_index: 35\n",
       "31. _a -> Q_{_a}\n",
       "    core type: Lambda\n",
       "    parameter: 41\n",
       "    body: 36\n",
       "32. m\n",
       "    core type: Variable\n",
       "    sub-expressions: \n",
       "33. _a -> R_{_a}\n",
       "    core type: Lambda\n",
       "    parameter: 41\n",
       "    body: 37\n",
       "34. 1\n",
       "    core type: Literal\n",
       "    sub-expressions: \n",
       "35. n\n",
       "    core type: Variable\n",
       "    sub-expressions: \n",
       "36. Q_{_a}\n",
       "    core type: IndexedVar\n",
       "variable: 38\n",
       "index: 41\n",
       "37. R_{_a}\n",
       "    core type: IndexedVar\n",
       "variable: 39\n",
       "index: 41\n",
       "38. Q\n",
       "    core type: Variable\n",
       "    sub-expressions: \n",
       "39. R\n",
       "    core type: Variable\n",
       "    sub-expressions: \n",
       "40. (_a)\n",
       "    core type: ExprTuple\n",
       "    sub-expressions: 41\n",
       "41. _a\n",
       "    core type: Variable\n",
       "    sub-expressions: "
      ]
     },
     "metadata": {},
     "output_type": "display_data"
    }
   ],
   "source": [
    "# display the expression information\n",
    "stored_expr.expr_info()"
   ]
  },
  {
   "cell_type": "code",
   "execution_count": null,
   "metadata": {},
   "outputs": [],
   "source": []
  }
 ],
 "metadata": {
  "kernelspec": {
   "display_name": "Python 3",
   "language": "python",
   "name": "python3"
  }
 },
 "nbformat": 4,
 "nbformat_minor": 0
}