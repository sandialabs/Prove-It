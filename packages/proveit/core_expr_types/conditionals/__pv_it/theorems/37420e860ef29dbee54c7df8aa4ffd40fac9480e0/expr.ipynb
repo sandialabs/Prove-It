{
 "cells": [
  {
   "cell_type": "markdown",
   "metadata": {},
   "source": [
    "Expression of type <a class=\"ProveItLink\" href=\"../../../../../../../doc/html/api/proveit.logic.Forall.html\">Forall</a>\n",
    "=======================\n",
    "# from the theory of <a class=\"ProveItLink\" href=\"../../../_theory_nbs_/theory.ipynb\">proveit.core_expr_types.conditionals</a>"
   ]
  },
  {
   "cell_type": "code",
   "execution_count": 1,
   "metadata": {},
   "outputs": [],
   "source": [
    "import proveit\n",
    "# Automation is not needed when building an expression:\n",
    "proveit.defaults.automation = False # This will speed things up.\n",
    "proveit.defaults.inline_pngs = False # Makes files smaller.\n",
    "%load_expr # Load the stored expression as 'stored_expr'\n",
    "# import Expression classes needed to build the expression\n",
    "from proveit import Conditional, a, m, n\n",
    "from proveit.core_expr_types import Q_1_to_m, R_1_to_n\n",
    "from proveit.logic import And, Equals, Forall\n",
    "from proveit.numbers import Natural"
   ]
  },
  {
   "cell_type": "code",
   "execution_count": 2,
   "metadata": {},
   "outputs": [
    {
     "data": {
      "text/html": [
       "<strong id=\"expr\">expr:</strong> <a class=\"ProveItLink\" href=\"expr.ipynb\"><img src=\"expr.png\" style=\"display:inline;vertical-align:middle;\" /></a><br>"
      ],
      "text/plain": [
       "<IPython.core.display.HTML object>"
      ]
     },
     "metadata": {},
     "output_type": "display_data"
    }
   ],
   "source": [
    "# build up the expression from sub-expressions\n",
    "expr = Forall(instance_param_or_params = [m, n], instance_expr = Forall(instance_param_or_params = [a, Q_1_to_m, R_1_to_n], instance_expr = Equals(Conditional(a, And(And(Q_1_to_m), And(R_1_to_n))), Conditional(a, And(Q_1_to_m, R_1_to_n))).with_wrapping_at(1)), domain = Natural)"
   ]
  },
  {
   "cell_type": "code",
   "execution_count": 3,
   "metadata": {},
   "outputs": [
    {
     "name": "stdout",
     "output_type": "stream",
     "text": [
      "Passed sanity check: expr matches stored_expr\n"
     ]
    }
   ],
   "source": [
    "# check that the built expression is the same as the stored expression\n",
    "assert expr == stored_expr\n",
    "assert expr._style_id == stored_expr._style_id\n",
    "print(\"Passed sanity check: expr matches stored_expr\")"
   ]
  },
  {
   "cell_type": "code",
   "execution_count": 4,
   "metadata": {},
   "outputs": [
    {
     "name": "stdout",
     "output_type": "stream",
     "text": [
      "\\forall_{m, n \\in \\mathbb{N}}~\\left[\\forall_{a, Q_{1}, Q_{2}, \\ldots, Q_{m}, R_{1}, R_{2}, \\ldots, R_{n}}~\\left(\\begin{array}{c} \\begin{array}{l} \\left\\{a \\textrm{ if } Q_{1} \\land  Q_{2} \\land  \\ldots \\land  Q_{m} ,  R_{1} \\land  R_{2} \\land  \\ldots \\land  R_{n}\\right.. \\\\  = \\left\\{a \\textrm{ if } Q_{1} ,  Q_{2} ,  \\ldots ,  Q_{m}, R_{1} ,  R_{2} ,  \\ldots ,  R_{n}\\right.. \\end{array} \\end{array}\\right)\\right]\n"
     ]
    }
   ],
   "source": [
    "# Show the LaTeX representation of the expression for convenience if you need it.\n",
    "print(stored_expr.latex())"
   ]
  },
  {
   "cell_type": "code",
   "execution_count": 5,
   "metadata": {},
   "outputs": [
    {
     "data": {
      "text/html": [
       "<table>\n",
       "<tr><th>name</th><th>description</th><th>default</th><th>current value</th><th>related methods</th></tr><tr><td>with_wrapping</td><td>If 'True', wrap the Expression after the parameters</td><td>None</td><td>None/False</td><td>('with_wrapping',)</td></tr>\n",
       "<tr><td>condition_wrapping</td><td>Wrap 'before' or 'after' the condition (or None).</td><td>None</td><td>None/False</td><td>('with_wrap_after_condition', 'with_wrap_before_condition')</td></tr>\n",
       "<tr><td>wrap_params</td><td>If 'True', wraps every two parameters AND wraps the Expression after the parameters</td><td>None</td><td>None/False</td><td>('with_params',)</td></tr>\n",
       "<tr><td>justification</td><td>justify to the 'left', 'center', or 'right' in the array cells</td><td>center</td><td>center</td><td>('with_justification',)</td></tr>\n",
       "</table>\n"
      ],
      "text/plain": [
       "style name: with_wrapping\n",
       "description: If 'True', wrap the Expression after the parameters\n",
       "default: None\n",
       "current value: None/False\n",
       "related methods: ('with_wrapping',)\n",
       "style name: condition_wrapping\n",
       "description: Wrap 'before' or 'after' the condition (or None).\n",
       "default: None\n",
       "current value: None/False\n",
       "related methods: ('with_wrap_after_condition', 'with_wrap_before_condition')\n",
       "style name: wrap_params\n",
       "description: If 'True', wraps every two parameters AND wraps the Expression after the parameters\n",
       "default: None\n",
       "current value: None/False\n",
       "related methods: ('with_params',)\n",
       "style name: justification\n",
       "description: justify to the 'left', 'center', or 'right' in the array cells\n",
       "default: center\n",
       "current value: center\n",
       "related methods: ('with_justification',)"
      ]
     },
     "metadata": {},
     "output_type": "display_data"
    }
   ],
   "source": [
    "stored_expr.style_options()"
   ]
  },
  {
   "cell_type": "code",
   "execution_count": 6,
   "metadata": {},
   "outputs": [
    {
     "data": {
      "text/html": [
       "<table><tr><th>&nbsp;</th><th>core type</th><th>sub-expressions</th><th>expression</th></tr>\n",
       "<tr><td>0</td><td>Operation</td><td>operator:&nbsp;7<br>operand:&nbsp;2<br></td><td><a class=\"ProveItLink\" href=\"expr.ipynb\"><img src=\"expr.png\" style=\"display:inline;vertical-align:middle;\" /></a></td></tr>\n",
       "<tr><td>1</td><td>ExprTuple</td><td>2</td><td><a class=\"ProveItLink\" href=\"../a9c21a108e040b8e5869025c06628d7ad92e27010/expr.ipynb\"><img src=\"../a9c21a108e040b8e5869025c06628d7ad92e27010/expr.png\" style=\"display:inline;vertical-align:middle;\" /></a></td></tr>\n",
       "<tr><td>2</td><td>Lambda</td><td>parameters:&nbsp;3<br>body:&nbsp;4<br></td><td><a class=\"ProveItLink\" href=\"../e6ab9a6e074cfe45f12ce348adbaab738e98b4c20/expr.ipynb\"><img src=\"../e6ab9a6e074cfe45f12ce348adbaab738e98b4c20/expr.png\" style=\"display:inline;vertical-align:middle;\" /></a></td></tr>\n",
       "<tr><td>3</td><td>ExprTuple</td><td>36, 39</td><td><a class=\"ProveItLink\" href=\"../05a1ed7149bdab455b0537bd9baa8c6aae03294c0/expr.ipynb\"><img src=\"../05a1ed7149bdab455b0537bd9baa8c6aae03294c0/expr.png\" style=\"display:inline;vertical-align:middle;\" /></a></td></tr>\n",
       "<tr><td>4</td><td>Conditional</td><td>value:&nbsp;5<br>condition:&nbsp;6<br></td><td><a class=\"ProveItLink\" href=\"../87f7520e0546879f5851ed71fba90f9c49f1dbe70/expr.ipynb\"><img src=\"../87f7520e0546879f5851ed71fba90f9c49f1dbe70/expr.png\" style=\"display:inline;vertical-align:middle;\" /></a></td></tr>\n",
       "<tr><td>5</td><td>Operation</td><td>operator:&nbsp;7<br>operand:&nbsp;10<br></td><td><a class=\"ProveItLink\" href=\"../8b309364134b804c1e5f2f1e462967fb397098990/expr.ipynb\"><img src=\"../8b309364134b804c1e5f2f1e462967fb397098990/expr.png\" style=\"display:inline;vertical-align:middle;\" /></a></td></tr>\n",
       "<tr><td>6</td><td>Operation</td><td>operator:&nbsp;31<br>operands:&nbsp;9<br></td><td><a class=\"ProveItLink\" href=\"../deb382ab480ed705c698d9676558b67a323b5f490/expr.ipynb\"><img src=\"../deb382ab480ed705c698d9676558b67a323b5f490/expr.png\" style=\"display:inline;vertical-align:middle;\" /></a></td></tr>\n",
       "<tr><td>7</td><td>Literal</td><td></td><td><a class=\"ProveItLink\" href=\"../../../../../logic/booleans/quantification/universality/__pv_it/common/083d2baa0b8ecab1d230f9ec29a15aa1355809fb0/expr.ipynb\"><img src=\"../../../../../logic/booleans/quantification/universality/__pv_it/common/083d2baa0b8ecab1d230f9ec29a15aa1355809fb0/expr.png\" style=\"display:inline;vertical-align:middle;\" /></a></td></tr>\n",
       "<tr><td>8</td><td>ExprTuple</td><td>10</td><td><a class=\"ProveItLink\" href=\"../8686695268b862c1705069553adf194bc66f86980/expr.ipynb\"><img src=\"../8686695268b862c1705069553adf194bc66f86980/expr.png\" style=\"display:inline;vertical-align:middle;\" /></a></td></tr>\n",
       "<tr><td>9</td><td>ExprTuple</td><td>11, 12</td><td><a class=\"ProveItLink\" href=\"../74ab02b43e26a5b1f3ab0135ca892748e41860a00/expr.ipynb\"><img src=\"../74ab02b43e26a5b1f3ab0135ca892748e41860a00/expr.png\" style=\"display:inline;vertical-align:middle;\" /></a></td></tr>\n",
       "<tr><td>10</td><td>Lambda</td><td>parameters:&nbsp;13<br>body:&nbsp;14<br></td><td><a class=\"ProveItLink\" href=\"../563eb492bca803e73b2f16f1263691ccd49ba8b50/expr.ipynb\"><img src=\"../563eb492bca803e73b2f16f1263691ccd49ba8b50/expr.png\" style=\"display:inline;vertical-align:middle;\" /></a></td></tr>\n",
       "<tr><td>11</td><td>Operation</td><td>operator:&nbsp;16<br>operands:&nbsp;15<br></td><td><a class=\"ProveItLink\" href=\"../22736ce9d3a37303b26f11de823dee236fdf12440/expr.ipynb\"><img src=\"../22736ce9d3a37303b26f11de823dee236fdf12440/expr.png\" style=\"display:inline;vertical-align:middle;\" /></a></td></tr>\n",
       "<tr><td>12</td><td>Operation</td><td>operator:&nbsp;16<br>operands:&nbsp;17<br></td><td><a class=\"ProveItLink\" href=\"../a4c62904f3a87ce48a16b43526806be1316ce7cc0/expr.ipynb\"><img src=\"../a4c62904f3a87ce48a16b43526806be1316ce7cc0/expr.png\" style=\"display:inline;vertical-align:middle;\" /></a></td></tr>\n",
       "<tr><td>13</td><td>ExprTuple</td><td>24, 33, 34</td><td><a class=\"ProveItLink\" href=\"../a0825ca80f24fbd84c713eb726d169b52005e64c0/expr.ipynb\"><img src=\"../a0825ca80f24fbd84c713eb726d169b52005e64c0/expr.png\" style=\"display:inline;vertical-align:middle;\" /></a></td></tr>\n",
       "<tr><td>14</td><td>Operation</td><td>operator:&nbsp;18<br>operands:&nbsp;19<br></td><td><a class=\"ProveItLink\" href=\"../35447921c7b9935c254f96e1b838e53f1d84c0140/expr.ipynb\"><img src=\"../35447921c7b9935c254f96e1b838e53f1d84c0140/expr.png\" style=\"display:inline;vertical-align:middle;\" /></a></td></tr>\n",
       "<tr><td>15</td><td>ExprTuple</td><td>36, 20</td><td><a class=\"ProveItLink\" href=\"../0d6c99f0fbf307a57c36a9642312d22b5ef7d9810/expr.ipynb\"><img src=\"../0d6c99f0fbf307a57c36a9642312d22b5ef7d9810/expr.png\" style=\"display:inline;vertical-align:middle;\" /></a></td></tr>\n",
       "<tr><td>16</td><td>Literal</td><td></td><td><a class=\"ProveItLink\" href=\"../../../../../logic/sets/membership/__pv_it/common/477487d8796864d23d5810f83761435f25167f690/expr.ipynb\"><img src=\"../../../../../logic/sets/membership/__pv_it/common/477487d8796864d23d5810f83761435f25167f690/expr.png\" style=\"display:inline;vertical-align:middle;\" /></a></td></tr>\n",
       "<tr><td>17</td><td>ExprTuple</td><td>39, 20</td><td><a class=\"ProveItLink\" href=\"../ecc3c58a9897ba541ec19be82e54ee986957c4200/expr.ipynb\"><img src=\"../ecc3c58a9897ba541ec19be82e54ee986957c4200/expr.png\" style=\"display:inline;vertical-align:middle;\" /></a></td></tr>\n",
       "<tr><td>18</td><td>Literal</td><td></td><td><a class=\"ProveItLink\" href=\"../../../../../logic/equality/__pv_it/common/fb96dc12b2aa8801dda64d0132b396c63d1502bb0/expr.ipynb\"><img src=\"../../../../../logic/equality/__pv_it/common/fb96dc12b2aa8801dda64d0132b396c63d1502bb0/expr.png\" style=\"display:inline;vertical-align:middle;\" /></a></td></tr>\n",
       "<tr><td>19</td><td>ExprTuple</td><td>21, 22</td><td><a class=\"ProveItLink\" href=\"../77c7bb9450bb54f0cc4758f4065c01a5a64314390/expr.ipynb\"><img src=\"../77c7bb9450bb54f0cc4758f4065c01a5a64314390/expr.png\" style=\"display:inline;vertical-align:middle;\" /></a></td></tr>\n",
       "<tr><td>20</td><td>Literal</td><td></td><td><a class=\"ProveItLink\" href=\"../../../../../numbers/number_sets/natural_numbers/__pv_it/common/8b7c321957f52ed3b05b36af612eeae4fa4783bc0/expr.ipynb\"><img src=\"../../../../../numbers/number_sets/natural_numbers/__pv_it/common/8b7c321957f52ed3b05b36af612eeae4fa4783bc0/expr.png\" style=\"display:inline;vertical-align:middle;\" /></a></td></tr>\n",
       "<tr><td>21</td><td>Conditional</td><td>value:&nbsp;24<br>condition:&nbsp;23<br></td><td><a class=\"ProveItLink\" href=\"../35ffb38c720f4495660b54508a64cb304ca126910/expr.ipynb\"><img src=\"../35ffb38c720f4495660b54508a64cb304ca126910/expr.png\" style=\"display:inline;vertical-align:middle;\" /></a></td></tr>\n",
       "<tr><td>22</td><td>Conditional</td><td>value:&nbsp;24<br>condition:&nbsp;25<br></td><td><a class=\"ProveItLink\" href=\"../21ab1e637e24da3bc3d94aea1ed085091151d9400/expr.ipynb\"><img src=\"../21ab1e637e24da3bc3d94aea1ed085091151d9400/expr.png\" style=\"display:inline;vertical-align:middle;\" /></a></td></tr>\n",
       "<tr><td>23</td><td>Operation</td><td>operator:&nbsp;31<br>operands:&nbsp;26<br></td><td><a class=\"ProveItLink\" href=\"../f1602dda85a99e94ed00c79bff0495a3785f3d940/expr.ipynb\"><img src=\"../f1602dda85a99e94ed00c79bff0495a3785f3d940/expr.png\" style=\"display:inline;vertical-align:middle;\" /></a></td></tr>\n",
       "<tr><td>24</td><td>Variable</td><td></td><td><a class=\"ProveItLink\" href=\"../../../../../__pv_it/common/c06c606ec12678c58933ac85412ecadc2ae28be60/expr.ipynb\"><img src=\"../../../../../__pv_it/common/c06c606ec12678c58933ac85412ecadc2ae28be60/expr.png\" style=\"display:inline;vertical-align:middle;\" /></a></td></tr>\n",
       "<tr><td>25</td><td>Operation</td><td>operator:&nbsp;31<br>operands:&nbsp;27<br></td><td><a class=\"ProveItLink\" href=\"../39e6b42c9247de198f9a6ffd373afd92452de32d0/expr.ipynb\"><img src=\"../39e6b42c9247de198f9a6ffd373afd92452de32d0/expr.png\" style=\"display:inline;vertical-align:middle;\" /></a></td></tr>\n",
       "<tr><td>26</td><td>ExprTuple</td><td>28, 29</td><td><a class=\"ProveItLink\" href=\"../3acebdb3e6a9e98131acf8ff38d13597680233540/expr.ipynb\"><img src=\"../3acebdb3e6a9e98131acf8ff38d13597680233540/expr.png\" style=\"display:inline;vertical-align:middle;\" /></a></td></tr>\n",
       "<tr><td>27</td><td>ExprTuple</td><td>33, 34</td><td><a class=\"ProveItLink\" href=\"../9846326658a5057ef5a53c363ad90c6a995938390/expr.ipynb\"><img src=\"../9846326658a5057ef5a53c363ad90c6a995938390/expr.png\" style=\"display:inline;vertical-align:middle;\" /></a></td></tr>\n",
       "<tr><td>28</td><td>Operation</td><td>operator:&nbsp;31<br>operands:&nbsp;30<br></td><td><a class=\"ProveItLink\" href=\"../6faa1cc8be6dd913e5163eb24e70248f37cebdb50/expr.ipynb\"><img src=\"../6faa1cc8be6dd913e5163eb24e70248f37cebdb50/expr.png\" style=\"display:inline;vertical-align:middle;\" /></a></td></tr>\n",
       "<tr><td>29</td><td>Operation</td><td>operator:&nbsp;31<br>operands:&nbsp;32<br></td><td><a class=\"ProveItLink\" href=\"../b3a97fc3167e62a50c04b2a3e602fa8f0c53ae790/expr.ipynb\"><img src=\"../b3a97fc3167e62a50c04b2a3e602fa8f0c53ae790/expr.png\" style=\"display:inline;vertical-align:middle;\" /></a></td></tr>\n",
       "<tr><td>30</td><td>ExprTuple</td><td>33</td><td><a class=\"ProveItLink\" href=\"../93bc94d9bec0d661bbc4ad6929bffa030c2e5a6a0/expr.ipynb\"><img src=\"../93bc94d9bec0d661bbc4ad6929bffa030c2e5a6a0/expr.png\" style=\"display:inline;vertical-align:middle;\" /></a></td></tr>\n",
       "<tr><td>31</td><td>Literal</td><td></td><td><a class=\"ProveItLink\" href=\"../../../../../logic/booleans/conjunction/__pv_it/common/42118ff318bd65d98b1393f64ce7c2269feef76e0/expr.ipynb\"><img src=\"../../../../../logic/booleans/conjunction/__pv_it/common/42118ff318bd65d98b1393f64ce7c2269feef76e0/expr.png\" style=\"display:inline;vertical-align:middle;\" /></a></td></tr>\n",
       "<tr><td>32</td><td>ExprTuple</td><td>34</td><td><a class=\"ProveItLink\" href=\"../d7471e3e291276e29460ff60a0a5e92d1b7ee6c00/expr.ipynb\"><img src=\"../d7471e3e291276e29460ff60a0a5e92d1b7ee6c00/expr.png\" style=\"display:inline;vertical-align:middle;\" /></a></td></tr>\n",
       "<tr><td>33</td><td>ExprRange</td><td>lambda_map:&nbsp;35<br>start_index:&nbsp;38<br>end_index:&nbsp;36<br></td><td><a class=\"ProveItLink\" href=\"../../../../__pv_it/common/36ec706e1143fd1d895c3be566542a2a3b5f14570/expr.ipynb\"><img src=\"../../../../__pv_it/common/36ec706e1143fd1d895c3be566542a2a3b5f14570/expr.png\" style=\"display:inline;vertical-align:middle;\" /></a></td></tr>\n",
       "<tr><td>34</td><td>ExprRange</td><td>lambda_map:&nbsp;37<br>start_index:&nbsp;38<br>end_index:&nbsp;39<br></td><td><a class=\"ProveItLink\" href=\"../../../../__pv_it/common/178e3d2d677180c226652597ee4a3b01b978fa0b0/expr.ipynb\"><img src=\"../../../../__pv_it/common/178e3d2d677180c226652597ee4a3b01b978fa0b0/expr.png\" style=\"display:inline;vertical-align:middle;\" /></a></td></tr>\n",
       "<tr><td>35</td><td>Lambda</td><td>parameter:&nbsp;45<br>body:&nbsp;40<br></td><td><a class=\"ProveItLink\" href=\"../../../../__pv_it/common/c5711c2f48ebf1c0337f029f40c3d8397f5c14ae0/expr.ipynb\"><img src=\"../../../../__pv_it/common/c5711c2f48ebf1c0337f029f40c3d8397f5c14ae0/expr.png\" style=\"display:inline;vertical-align:middle;\" /></a></td></tr>\n",
       "<tr><td>36</td><td>Variable</td><td></td><td><a class=\"ProveItLink\" href=\"../../../../../__pv_it/common/674a03b9c3ca221b3aabd5636837b31528ff33830/expr.ipynb\"><img src=\"../../../../../__pv_it/common/674a03b9c3ca221b3aabd5636837b31528ff33830/expr.png\" style=\"display:inline;vertical-align:middle;\" /></a></td></tr>\n",
       "<tr><td>37</td><td>Lambda</td><td>parameter:&nbsp;45<br>body:&nbsp;41<br></td><td><a class=\"ProveItLink\" href=\"../../../../__pv_it/common/3a59a4b99599820a98d30387e37bd7e06be2b0960/expr.ipynb\"><img src=\"../../../../__pv_it/common/3a59a4b99599820a98d30387e37bd7e06be2b0960/expr.png\" style=\"display:inline;vertical-align:middle;\" /></a></td></tr>\n",
       "<tr><td>38</td><td>Literal</td><td></td><td><a class=\"ProveItLink\" href=\"../../../../../numbers/numerals/__pv_it/common/682157d4892d216d9e5626ed533aff9b56b9506e0/expr.ipynb\"><img src=\"../../../../../numbers/numerals/__pv_it/common/682157d4892d216d9e5626ed533aff9b56b9506e0/expr.png\" style=\"display:inline;vertical-align:middle;\" /></a></td></tr>\n",
       "<tr><td>39</td><td>Variable</td><td></td><td><a class=\"ProveItLink\" href=\"../../../../../__pv_it/common/8968bb04eb3f7dfa02353397ce929b025bbd79c20/expr.ipynb\"><img src=\"../../../../../__pv_it/common/8968bb04eb3f7dfa02353397ce929b025bbd79c20/expr.png\" style=\"display:inline;vertical-align:middle;\" /></a></td></tr>\n",
       "<tr><td>40</td><td>IndexedVar</td><td>variable:&nbsp;42<br>index:&nbsp;45<br></td><td><a class=\"ProveItLink\" href=\"../../../../__pv_it/common/2a0888bbb42cace260399ab97dfa7ca33ea67cf70/expr.ipynb\"><img src=\"../../../../__pv_it/common/2a0888bbb42cace260399ab97dfa7ca33ea67cf70/expr.png\" style=\"display:inline;vertical-align:middle;\" /></a></td></tr>\n",
       "<tr><td>41</td><td>IndexedVar</td><td>variable:&nbsp;43<br>index:&nbsp;45<br></td><td><a class=\"ProveItLink\" href=\"../../../../__pv_it/common/d5bb5d50b25fbbb6477c8c27210ed614e78dd5bc0/expr.ipynb\"><img src=\"../../../../__pv_it/common/d5bb5d50b25fbbb6477c8c27210ed614e78dd5bc0/expr.png\" style=\"display:inline;vertical-align:middle;\" /></a></td></tr>\n",
       "<tr><td>42</td><td>Variable</td><td></td><td><a class=\"ProveItLink\" href=\"../../../../../__pv_it/common/d72bb8b07403efe79afab564c36a28e21330e5f90/expr.ipynb\"><img src=\"../../../../../__pv_it/common/d72bb8b07403efe79afab564c36a28e21330e5f90/expr.png\" style=\"display:inline;vertical-align:middle;\" /></a></td></tr>\n",
       "<tr><td>43</td><td>Variable</td><td></td><td><a class=\"ProveItLink\" href=\"../../../../../__pv_it/common/647ca33d6b96e29d5aa85a15d2241c7ebd0c6e4b0/expr.ipynb\"><img src=\"../../../../../__pv_it/common/647ca33d6b96e29d5aa85a15d2241c7ebd0c6e4b0/expr.png\" style=\"display:inline;vertical-align:middle;\" /></a></td></tr>\n",
       "<tr><td>44</td><td>ExprTuple</td><td>45</td><td><a class=\"ProveItLink\" href=\"../../../../__pv_it/common/4b0dd6be36d76552eda6a95d5b4a27f5a5b62f900/expr.ipynb\"><img src=\"../../../../__pv_it/common/4b0dd6be36d76552eda6a95d5b4a27f5a5b62f900/expr.png\" style=\"display:inline;vertical-align:middle;\" /></a></td></tr>\n",
       "<tr><td>45</td><td>Variable</td><td></td><td><a class=\"ProveItLink\" href=\"../../../../__pv_it/common/006c465e50948aa2b52285e2de47974f741255cc0/expr.ipynb\"><img src=\"../../../../__pv_it/common/006c465e50948aa2b52285e2de47974f741255cc0/expr.png\" style=\"display:inline;vertical-align:middle;\" /></a></td></tr>\n",
       "</table>\n"
      ],
      "text/plain": [
       "0. forall_{m, n in Natural} [forall_{a, Q_{1}, Q_{2}, ..., Q_{m}, R_{1}, R_{2}, ..., R_{n}} ({a if Q_{1} and  Q_{2} and  ... and  Q_{m} ,  R_{1} and  R_{2} and  ... and  R_{n}. \\\\  = {a if Q_{1} ,  Q_{2} ,  ... ,  Q_{m}, R_{1} ,  R_{2} ,  ... ,  R_{n}.)]\n",
       "   core type: Operation\n",
       "   operator: 7\n",
       "   operand: 2\n",
       "1. ((m, n) -> {forall_{a, Q_{1}, Q_{2}, ..., Q_{m}, R_{1}, R_{2}, ..., R_{n}} ({a if Q_{1} and  Q_{2} and  ... and  Q_{m} ,  R_{1} and  R_{2} and  ... and  R_{n}. \\\\  = {a if Q_{1} ,  Q_{2} ,  ... ,  Q_{m}, R_{1} ,  R_{2} ,  ... ,  R_{n}.) if m in Natural ,  n in Natural.)\n",
       "   core type: ExprTuple\n",
       "   sub-expressions: 2\n",
       "2. (m, n) -> {forall_{a, Q_{1}, Q_{2}, ..., Q_{m}, R_{1}, R_{2}, ..., R_{n}} ({a if Q_{1} and  Q_{2} and  ... and  Q_{m} ,  R_{1} and  R_{2} and  ... and  R_{n}. \\\\  = {a if Q_{1} ,  Q_{2} ,  ... ,  Q_{m}, R_{1} ,  R_{2} ,  ... ,  R_{n}.) if m in Natural ,  n in Natural.\n",
       "   core type: Lambda\n",
       "   parameters: 3\\n   body: 4\n",
       "3. (m, n)\n",
       "   core type: ExprTuple\n",
       "   sub-expressions: 36, 39\n",
       "4. {forall_{a, Q_{1}, Q_{2}, ..., Q_{m}, R_{1}, R_{2}, ..., R_{n}} ({a if Q_{1} and  Q_{2} and  ... and  Q_{m} ,  R_{1} and  R_{2} and  ... and  R_{n}. \\\\  = {a if Q_{1} ,  Q_{2} ,  ... ,  Q_{m}, R_{1} ,  R_{2} ,  ... ,  R_{n}.) if m in Natural ,  n in Natural.\n",
       "   core type: Conditional\n",
       "   value: 5\n",
       "   condition: 6\n",
       "5. forall_{a, Q_{1}, Q_{2}, ..., Q_{m}, R_{1}, R_{2}, ..., R_{n}} ({a if Q_{1} and  Q_{2} and  ... and  Q_{m} ,  R_{1} and  R_{2} and  ... and  R_{n}. \\\\  = {a if Q_{1} ,  Q_{2} ,  ... ,  Q_{m}, R_{1} ,  R_{2} ,  ... ,  R_{n}.)\n",
       "   core type: Operation\n",
       "   operator: 7\n",
       "   operand: 10\n",
       "6. (m in Natural) and (n in Natural)\n",
       "   core type: Operation\n",
       "   operator: 31\n",
       "   operands: 9\n",
       "7. forall\n",
       "   core type: Literal\n",
       "   sub-expressions: \n",
       "8. ((a, Q_{1}, Q_{2}, ..., Q_{m}, R_{1}, R_{2}, ..., R_{n}) -> ({a if Q_{1} and  Q_{2} and  ... and  Q_{m} ,  R_{1} and  R_{2} and  ... and  R_{n}. \\\\  = {a if Q_{1} ,  Q_{2} ,  ... ,  Q_{m}, R_{1} ,  R_{2} ,  ... ,  R_{n}.))\n",
       "   core type: ExprTuple\n",
       "   sub-expressions: 10\n",
       "9. (m in Natural, n in Natural)\n",
       "   core type: ExprTuple\n",
       "   sub-expressions: 11, 12\n",
       "10. (a, Q_{1}, Q_{2}, ..., Q_{m}, R_{1}, R_{2}, ..., R_{n}) -> ({a if Q_{1} and  Q_{2} and  ... and  Q_{m} ,  R_{1} and  R_{2} and  ... and  R_{n}. \\\\  = {a if Q_{1} ,  Q_{2} ,  ... ,  Q_{m}, R_{1} ,  R_{2} ,  ... ,  R_{n}.)\n",
       "    core type: Lambda\n",
       "    parameters: 13\\n    body: 14\n",
       "11. m in Natural\n",
       "    core type: Operation\n",
       "    operator: 16\n",
       "    operands: 15\n",
       "12. n in Natural\n",
       "    core type: Operation\n",
       "    operator: 16\n",
       "    operands: 17\n",
       "13. (a,Q_{1}, Q_{2}, ..., Q_{m},R_{1}, R_{2}, ..., R_{n})\n",
       "    core type: ExprTuple\n",
       "    sub-expressions: 24, 33, 34\n",
       "14. {a if Q_{1} and  Q_{2} and  ... and  Q_{m} ,  R_{1} and  R_{2} and  ... and  R_{n}. \\\\  = {a if Q_{1} ,  Q_{2} ,  ... ,  Q_{m}, R_{1} ,  R_{2} ,  ... ,  R_{n}.\n",
       "    core type: Operation\n",
       "    operator: 18\n",
       "    operands: 19\n",
       "15. (m, Natural)\n",
       "    core type: ExprTuple\n",
       "    sub-expressions: 36, 20\n",
       "16. in\n",
       "    core type: Literal\n",
       "    sub-expressions: \n",
       "17. (n, Natural)\n",
       "    core type: ExprTuple\n",
       "    sub-expressions: 39, 20\n",
       "18. =\n",
       "    core type: Literal\n",
       "    sub-expressions: \n",
       "19. (a if Q_{1} and  Q_{2} and  ... and  Q_{m} ,  R_{1} and  R_{2} and  ... and  R_{n}, a if Q_{1} ,  Q_{2} ,  ... ,  Q_{m}, R_{1} ,  R_{2} ,  ... ,  R_{n})\n",
       "    core type: ExprTuple\n",
       "    sub-expressions: 21, 22\n",
       "20. Natural\n",
       "    core type: Literal\n",
       "    sub-expressions: \n",
       "21. {a if Q_{1} and  Q_{2} and  ... and  Q_{m} ,  R_{1} and  R_{2} and  ... and  R_{n}.\n",
       "    core type: Conditional\n",
       "    value: 24\n",
       "    condition: 23\n",
       "22. {a if Q_{1} ,  Q_{2} ,  ... ,  Q_{m}, R_{1} ,  R_{2} ,  ... ,  R_{n}.\n",
       "    core type: Conditional\n",
       "    value: 24\n",
       "    condition: 25\n",
       "23. (Q_{1} and  Q_{2} and  ... and  Q_{m}) and (R_{1} and  R_{2} and  ... and  R_{n})\n",
       "    core type: Operation\n",
       "    operator: 31\n",
       "    operands: 26\n",
       "24. a\n",
       "    core type: Variable\n",
       "    sub-expressions: \n",
       "25. Q_{1} and  Q_{2} and  ... and  Q_{m}and R_{1} and  R_{2} and  ... and  R_{n}\n",
       "    core type: Operation\n",
       "    operator: 31\n",
       "    operands: 27\n",
       "26. (Q_{1} and  Q_{2} and  ... and  Q_{m}, R_{1} and  R_{2} and  ... and  R_{n})\n",
       "    core type: ExprTuple\n",
       "    sub-expressions: 28, 29\n",
       "27. (Q_{1}, Q_{2}, ..., Q_{m},R_{1}, R_{2}, ..., R_{n})\n",
       "    core type: ExprTuple\n",
       "    sub-expressions: 33, 34\n",
       "28. Q_{1} and  Q_{2} and  ... and  Q_{m}\n",
       "    core type: Operation\n",
       "    operator: 31\n",
       "    operands: 30\n",
       "29. R_{1} and  R_{2} and  ... and  R_{n}\n",
       "    core type: Operation\n",
       "    operator: 31\n",
       "    operands: 32\n",
       "30. (Q_{1}, Q_{2}, ..., Q_{m})\n",
       "    core type: ExprTuple\n",
       "    sub-expressions: 33\n",
       "31. and\n",
       "    core type: Literal\n",
       "    sub-expressions: \n",
       "32. (R_{1}, R_{2}, ..., R_{n})\n",
       "    core type: ExprTuple\n",
       "    sub-expressions: 34\n",
       "33. Q_{1}, Q_{2}, ..., Q_{m}\n",
       "    core type: ExprRange\n",
       "    lambda_map: 35\n",
       "    start_index: 38\n",
       "    end_index: 36\n",
       "34. R_{1}, R_{2}, ..., R_{n}\n",
       "    core type: ExprRange\n",
       "    lambda_map: 37\n",
       "    start_index: 38\n",
       "    end_index: 39\n",
       "35. _a -> Q_{_a}\n",
       "    core type: Lambda\n",
       "    parameter: 45\n",
       "    body: 40\n",
       "36. m\n",
       "    core type: Variable\n",
       "    sub-expressions: \n",
       "37. _a -> R_{_a}\n",
       "    core type: Lambda\n",
       "    parameter: 45\n",
       "    body: 41\n",
       "38. 1\n",
       "    core type: Literal\n",
       "    sub-expressions: \n",
       "39. n\n",
       "    core type: Variable\n",
       "    sub-expressions: \n",
       "40. Q_{_a}\n",
       "    core type: IndexedVar\n",
       "variable: 42\n",
       "index: 45\n",
       "41. R_{_a}\n",
       "    core type: IndexedVar\n",
       "variable: 43\n",
       "index: 45\n",
       "42. Q\n",
       "    core type: Variable\n",
       "    sub-expressions: \n",
       "43. R\n",
       "    core type: Variable\n",
       "    sub-expressions: \n",
       "44. (_a)\n",
       "    core type: ExprTuple\n",
       "    sub-expressions: 45\n",
       "45. _a\n",
       "    core type: Variable\n",
       "    sub-expressions: "
      ]
     },
     "metadata": {},
     "output_type": "display_data"
    }
   ],
   "source": [
    "# display the expression information\n",
    "stored_expr.expr_info()"
   ]
  },
  {
   "cell_type": "code",
   "execution_count": null,
   "metadata": {},
   "outputs": [],
   "source": []
  }
 ],
 "metadata": {
  "kernelspec": {
   "display_name": "Python 3",
   "language": "python",
   "name": "python3"
  }
 },
 "nbformat": 4,
 "nbformat_minor": 0
}