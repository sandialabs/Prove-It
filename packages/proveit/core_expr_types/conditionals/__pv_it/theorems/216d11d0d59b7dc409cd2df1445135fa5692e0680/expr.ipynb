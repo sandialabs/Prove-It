{
 "cells": [
  {
   "cell_type": "markdown",
   "metadata": {},
   "source": [
    "Expression of type <a class=\"ProveItLink\" href=\"../../../../../../../doc/html/api/proveit.ExprTuple.html\">ExprTuple</a>\n",
    "=======================\n",
    "# from the theory of <a class=\"ProveItLink\" href=\"../../../_theory_nbs_/theory.ipynb\">proveit.core_expr_types.conditionals</a>"
   ]
  },
  {
   "cell_type": "code",
   "execution_count": 1,
   "metadata": {},
   "outputs": [],
   "source": [
    "import proveit\n",
    "# Automation is not needed when building an expression:\n",
    "proveit.defaults.automation = False # This will speed things up.\n",
    "proveit.defaults.inline_pngs = False # Makes files smaller.\n",
    "%load_expr # Load the stored expression as 'stored_expr'\n",
    "# import Expression classes needed to build the expression\n",
    "from proveit import Conditional, ExprTuple, Q, a\n",
    "from proveit.core_expr_types import R_1_to_n\n",
    "from proveit.logic import And"
   ]
  },
  {
   "cell_type": "code",
   "execution_count": 2,
   "metadata": {},
   "outputs": [
    {
     "data": {
      "text/html": [
       "<strong id=\"expr\">expr:</strong> <a class=\"ProveItLink\" href=\"expr.ipynb\"><img src=\"expr.png\" style=\"display:inline;vertical-align:middle;\" /></a><br>"
      ],
      "text/plain": [
       "<IPython.core.display.HTML object>"
      ]
     },
     "metadata": {},
     "output_type": "display_data"
    }
   ],
   "source": [
    "# build up the expression from sub-expressions\n",
    "expr = ExprTuple(Conditional(a, And(Q, And(R_1_to_n))), Conditional(a, And(Q, R_1_to_n)))"
   ]
  },
  {
   "cell_type": "code",
   "execution_count": 3,
   "metadata": {},
   "outputs": [
    {
     "name": "stdout",
     "output_type": "stream",
     "text": [
      "Passed sanity check: expr matches stored_expr\n"
     ]
    }
   ],
   "source": [
    "# check that the built expression is the same as the stored expression\n",
    "assert expr == stored_expr\n",
    "assert expr._style_id == stored_expr._style_id\n",
    "print(\"Passed sanity check: expr matches stored_expr\")"
   ]
  },
  {
   "cell_type": "code",
   "execution_count": 4,
   "metadata": {},
   "outputs": [
    {
     "name": "stdout",
     "output_type": "stream",
     "text": [
      "\\left(a \\textrm{ if } Q ,  R_{1} \\land  R_{2} \\land  \\ldots \\land  R_{n}, a \\textrm{ if } Q, R_{1} ,  R_{2} ,  \\ldots ,  R_{n}\\right)\n"
     ]
    }
   ],
   "source": [
    "# Show the LaTeX representation of the expression for convenience if you need it.\n",
    "print(stored_expr.latex())"
   ]
  },
  {
   "cell_type": "code",
   "execution_count": 5,
   "metadata": {},
   "outputs": [
    {
     "data": {
      "text/html": [
       "<table>\n",
       "<tr><th>name</th><th>description</th><th>default</th><th>current value</th><th>related methods</th></tr><tr><td>wrap_positions</td><td>position(s) at which wrapping is to occur; 'n' is after the nth comma.</td><td>()</td><td>()</td><td>('with_wrapping_at',)</td></tr>\n",
       "<tr><td>justification</td><td>if any wrap positions are set, justify to the 'left', 'center', or 'right'</td><td>left</td><td>left</td><td>('with_justification',)</td></tr>\n",
       "</table>\n"
      ],
      "text/plain": [
       "style name: wrap_positions\n",
       "description: position(s) at which wrapping is to occur; 'n' is after the nth comma.\n",
       "default: ()\n",
       "current value: ()\n",
       "related methods: ('with_wrapping_at',)\n",
       "style name: justification\n",
       "description: if any wrap positions are set, justify to the 'left', 'center', or 'right'\n",
       "default: left\n",
       "current value: left\n",
       "related methods: ('with_justification',)"
      ]
     },
     "metadata": {},
     "output_type": "display_data"
    }
   ],
   "source": [
    "stored_expr.style_options()"
   ]
  },
  {
   "cell_type": "code",
   "execution_count": 6,
   "metadata": {},
   "outputs": [
    {
     "data": {
      "text/html": [
       "<table><tr><th>&nbsp;</th><th>core type</th><th>sub-expressions</th><th>expression</th></tr>\n",
       "<tr><td>0</td><td>ExprTuple</td><td>1, 2</td><td><a class=\"ProveItLink\" href=\"expr.ipynb\"><img src=\"expr.png\" style=\"display:inline;vertical-align:middle;\" /></a></td></tr>\n",
       "<tr><td>1</td><td>Conditional</td><td>value:&nbsp;4<br>condition:&nbsp;3<br></td><td><a class=\"ProveItLink\" href=\"../a797fa80ac41d1d80c7675cf0fd25ebfde878ff90/expr.ipynb\"><img src=\"../a797fa80ac41d1d80c7675cf0fd25ebfde878ff90/expr.png\" style=\"display:inline;vertical-align:middle;\" /></a></td></tr>\n",
       "<tr><td>2</td><td>Conditional</td><td>value:&nbsp;4<br>condition:&nbsp;5<br></td><td><a class=\"ProveItLink\" href=\"../baec57c70d615f208ff42aa4bcb95410a4cbcd920/expr.ipynb\"><img src=\"../baec57c70d615f208ff42aa4bcb95410a4cbcd920/expr.png\" style=\"display:inline;vertical-align:middle;\" /></a></td></tr>\n",
       "<tr><td>3</td><td>Operation</td><td>operator:&nbsp;10<br>operands:&nbsp;6<br></td><td><a class=\"ProveItLink\" href=\"../46e72702cc122a4a5211a1020bed1edd1ad0cad80/expr.ipynb\"><img src=\"../46e72702cc122a4a5211a1020bed1edd1ad0cad80/expr.png\" style=\"display:inline;vertical-align:middle;\" /></a></td></tr>\n",
       "<tr><td>4</td><td>Variable</td><td></td><td><a class=\"ProveItLink\" href=\"../../../../../__pv_it/common/c06c606ec12678c58933ac85412ecadc2ae28be60/expr.ipynb\"><img src=\"../../../../../__pv_it/common/c06c606ec12678c58933ac85412ecadc2ae28be60/expr.png\" style=\"display:inline;vertical-align:middle;\" /></a></td></tr>\n",
       "<tr><td>5</td><td>Operation</td><td>operator:&nbsp;10<br>operands:&nbsp;7<br></td><td><a class=\"ProveItLink\" href=\"../96683de527bc17daaebed16fa4a5e7a2e836f8580/expr.ipynb\"><img src=\"../96683de527bc17daaebed16fa4a5e7a2e836f8580/expr.png\" style=\"display:inline;vertical-align:middle;\" /></a></td></tr>\n",
       "<tr><td>6</td><td>ExprTuple</td><td>9, 8</td><td><a class=\"ProveItLink\" href=\"../e17a2bf7910a4fc07a450a4b03276bd89c1deffc0/expr.ipynb\"><img src=\"../e17a2bf7910a4fc07a450a4b03276bd89c1deffc0/expr.png\" style=\"display:inline;vertical-align:middle;\" /></a></td></tr>\n",
       "<tr><td>7</td><td>ExprTuple</td><td>9, 12</td><td><a class=\"ProveItLink\" href=\"../3d9cfea49d57de69f68b165e1519c3a297cafb210/expr.ipynb\"><img src=\"../3d9cfea49d57de69f68b165e1519c3a297cafb210/expr.png\" style=\"display:inline;vertical-align:middle;\" /></a></td></tr>\n",
       "<tr><td>8</td><td>Operation</td><td>operator:&nbsp;10<br>operands:&nbsp;11<br></td><td><a class=\"ProveItLink\" href=\"../b3a97fc3167e62a50c04b2a3e602fa8f0c53ae790/expr.ipynb\"><img src=\"../b3a97fc3167e62a50c04b2a3e602fa8f0c53ae790/expr.png\" style=\"display:inline;vertical-align:middle;\" /></a></td></tr>\n",
       "<tr><td>9</td><td>Variable</td><td></td><td><a class=\"ProveItLink\" href=\"../../../../../__pv_it/common/d72bb8b07403efe79afab564c36a28e21330e5f90/expr.ipynb\"><img src=\"../../../../../__pv_it/common/d72bb8b07403efe79afab564c36a28e21330e5f90/expr.png\" style=\"display:inline;vertical-align:middle;\" /></a></td></tr>\n",
       "<tr><td>10</td><td>Literal</td><td></td><td><a class=\"ProveItLink\" href=\"../../../../../logic/booleans/conjunction/__pv_it/common/42118ff318bd65d98b1393f64ce7c2269feef76e0/expr.ipynb\"><img src=\"../../../../../logic/booleans/conjunction/__pv_it/common/42118ff318bd65d98b1393f64ce7c2269feef76e0/expr.png\" style=\"display:inline;vertical-align:middle;\" /></a></td></tr>\n",
       "<tr><td>11</td><td>ExprTuple</td><td>12</td><td><a class=\"ProveItLink\" href=\"../d7471e3e291276e29460ff60a0a5e92d1b7ee6c00/expr.ipynb\"><img src=\"../d7471e3e291276e29460ff60a0a5e92d1b7ee6c00/expr.png\" style=\"display:inline;vertical-align:middle;\" /></a></td></tr>\n",
       "<tr><td>12</td><td>ExprRange</td><td>lambda_map:&nbsp;13<br>start_index:&nbsp;14<br>end_index:&nbsp;15<br></td><td><a class=\"ProveItLink\" href=\"../../../../__pv_it/common/178e3d2d677180c226652597ee4a3b01b978fa0b0/expr.ipynb\"><img src=\"../../../../__pv_it/common/178e3d2d677180c226652597ee4a3b01b978fa0b0/expr.png\" style=\"display:inline;vertical-align:middle;\" /></a></td></tr>\n",
       "<tr><td>13</td><td>Lambda</td><td>parameter:&nbsp;19<br>body:&nbsp;16<br></td><td><a class=\"ProveItLink\" href=\"../../../../__pv_it/common/3a59a4b99599820a98d30387e37bd7e06be2b0960/expr.ipynb\"><img src=\"../../../../__pv_it/common/3a59a4b99599820a98d30387e37bd7e06be2b0960/expr.png\" style=\"display:inline;vertical-align:middle;\" /></a></td></tr>\n",
       "<tr><td>14</td><td>Literal</td><td></td><td><a class=\"ProveItLink\" href=\"../../../../../numbers/numerals/__pv_it/common/682157d4892d216d9e5626ed533aff9b56b9506e0/expr.ipynb\"><img src=\"../../../../../numbers/numerals/__pv_it/common/682157d4892d216d9e5626ed533aff9b56b9506e0/expr.png\" style=\"display:inline;vertical-align:middle;\" /></a></td></tr>\n",
       "<tr><td>15</td><td>Variable</td><td></td><td><a class=\"ProveItLink\" href=\"../../../../../__pv_it/common/8968bb04eb3f7dfa02353397ce929b025bbd79c20/expr.ipynb\"><img src=\"../../../../../__pv_it/common/8968bb04eb3f7dfa02353397ce929b025bbd79c20/expr.png\" style=\"display:inline;vertical-align:middle;\" /></a></td></tr>\n",
       "<tr><td>16</td><td>IndexedVar</td><td>variable:&nbsp;17<br>index:&nbsp;19<br></td><td><a class=\"ProveItLink\" href=\"../../../../__pv_it/common/d5bb5d50b25fbbb6477c8c27210ed614e78dd5bc0/expr.ipynb\"><img src=\"../../../../__pv_it/common/d5bb5d50b25fbbb6477c8c27210ed614e78dd5bc0/expr.png\" style=\"display:inline;vertical-align:middle;\" /></a></td></tr>\n",
       "<tr><td>17</td><td>Variable</td><td></td><td><a class=\"ProveItLink\" href=\"../../../../../__pv_it/common/647ca33d6b96e29d5aa85a15d2241c7ebd0c6e4b0/expr.ipynb\"><img src=\"../../../../../__pv_it/common/647ca33d6b96e29d5aa85a15d2241c7ebd0c6e4b0/expr.png\" style=\"display:inline;vertical-align:middle;\" /></a></td></tr>\n",
       "<tr><td>18</td><td>ExprTuple</td><td>19</td><td><a class=\"ProveItLink\" href=\"../../../../__pv_it/common/4b0dd6be36d76552eda6a95d5b4a27f5a5b62f900/expr.ipynb\"><img src=\"../../../../__pv_it/common/4b0dd6be36d76552eda6a95d5b4a27f5a5b62f900/expr.png\" style=\"display:inline;vertical-align:middle;\" /></a></td></tr>\n",
       "<tr><td>19</td><td>Variable</td><td></td><td><a class=\"ProveItLink\" href=\"../../../../__pv_it/common/006c465e50948aa2b52285e2de47974f741255cc0/expr.ipynb\"><img src=\"../../../../__pv_it/common/006c465e50948aa2b52285e2de47974f741255cc0/expr.png\" style=\"display:inline;vertical-align:middle;\" /></a></td></tr>\n",
       "</table>\n"
      ],
      "text/plain": [
       "0. (a if Q ,  R_{1} and  R_{2} and  ... and  R_{n}, a if Q, R_{1} ,  R_{2} ,  ... ,  R_{n})\n",
       "   core type: ExprTuple\n",
       "   sub-expressions: 1, 2\n",
       "1. {a if Q ,  R_{1} and  R_{2} and  ... and  R_{n}.\n",
       "   core type: Conditional\n",
       "   value: 4\n",
       "   condition: 3\n",
       "2. {a if Q, R_{1} ,  R_{2} ,  ... ,  R_{n}.\n",
       "   core type: Conditional\n",
       "   value: 4\n",
       "   condition: 5\n",
       "3. Q and (R_{1} and  R_{2} and  ... and  R_{n})\n",
       "   core type: Operation\n",
       "   operator: 10\n",
       "   operands: 6\n",
       "4. a\n",
       "   core type: Variable\n",
       "   sub-expressions: \n",
       "5. Qand R_{1} and  R_{2} and  ... and  R_{n}\n",
       "   core type: Operation\n",
       "   operator: 10\n",
       "   operands: 7\n",
       "6. (Q, R_{1} and  R_{2} and  ... and  R_{n})\n",
       "   core type: ExprTuple\n",
       "   sub-expressions: 9, 8\n",
       "7. (Q,R_{1}, R_{2}, ..., R_{n})\n",
       "   core type: ExprTuple\n",
       "   sub-expressions: 9, 12\n",
       "8. R_{1} and  R_{2} and  ... and  R_{n}\n",
       "   core type: Operation\n",
       "   operator: 10\n",
       "   operands: 11\n",
       "9. Q\n",
       "   core type: Variable\n",
       "   sub-expressions: \n",
       "10. and\n",
       "    core type: Literal\n",
       "    sub-expressions: \n",
       "11. (R_{1}, R_{2}, ..., R_{n})\n",
       "    core type: ExprTuple\n",
       "    sub-expressions: 12\n",
       "12. R_{1}, R_{2}, ..., R_{n}\n",
       "    core type: ExprRange\n",
       "    lambda_map: 13\n",
       "    start_index: 14\n",
       "    end_index: 15\n",
       "13. _a -> R_{_a}\n",
       "    core type: Lambda\n",
       "    parameter: 19\n",
       "    body: 16\n",
       "14. 1\n",
       "    core type: Literal\n",
       "    sub-expressions: \n",
       "15. n\n",
       "    core type: Variable\n",
       "    sub-expressions: \n",
       "16. R_{_a}\n",
       "    core type: IndexedVar\n",
       "variable: 17\n",
       "index: 19\n",
       "17. R\n",
       "    core type: Variable\n",
       "    sub-expressions: \n",
       "18. (_a)\n",
       "    core type: ExprTuple\n",
       "    sub-expressions: 19\n",
       "19. _a\n",
       "    core type: Variable\n",
       "    sub-expressions: "
      ]
     },
     "metadata": {},
     "output_type": "display_data"
    }
   ],
   "source": [
    "# display the expression information\n",
    "stored_expr.expr_info()"
   ]
  },
  {
   "cell_type": "code",
   "execution_count": null,
   "metadata": {},
   "outputs": [],
   "source": []
  }
 ],
 "metadata": {
  "kernelspec": {
   "display_name": "Python 3",
   "language": "python",
   "name": "python3"
  }
 },
 "nbformat": 4,
 "nbformat_minor": 0
}