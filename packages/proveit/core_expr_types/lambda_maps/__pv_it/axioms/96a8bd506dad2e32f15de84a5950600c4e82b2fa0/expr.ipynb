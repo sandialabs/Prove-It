{
 "cells": [
  {
   "cell_type": "markdown",
   "metadata": {},
   "source": [
    "Expression of type <a class=\"ProveItLink\" href=\"../../../../../../../doc/html/api/proveit.Lambda.html\">Lambda</a>\n",
    "=======================\n",
    "# from the theory of <a class=\"ProveItLink\" href=\"../../../_theory_nbs_/theory.ipynb\">proveit.core_expr_types.lambda_maps</a>"
   ]
  },
  {
   "cell_type": "code",
   "execution_count": 1,
   "metadata": {},
   "outputs": [],
   "source": [
    "import proveit\n",
    "# Automation is not needed when building an expression:\n",
    "proveit.defaults.automation = False # This will speed things up.\n",
    "proveit.defaults.inline_pngs = False # Makes files smaller.\n",
    "%load_expr # Load the stored expression as 'stored_expr'\n",
    "# import Expression classes needed to build the expression\n",
    "from proveit import B, Composition, Conditional, Lambda, m\n",
    "from proveit.core_expr_types import A_1_to_m\n",
    "from proveit.logic import Equals, Forall, InSet\n",
    "from proveit.numbers import NaturalPos"
   ]
  },
  {
   "cell_type": "code",
   "execution_count": 2,
   "metadata": {},
   "outputs": [
    {
     "data": {
      "text/html": [
       "<strong id=\"expr\">expr:</strong> <a class=\"ProveItLink\" href=\"expr.ipynb\"><img src=\"expr.png\" style=\"display:inline;vertical-align:middle;\" /></a><br>"
      ],
      "text/plain": [
       "<IPython.core.display.HTML object>"
      ]
     },
     "metadata": {},
     "output_type": "display_data"
    }
   ],
   "source": [
    "# build up the expression from sub-expressions\n",
    "expr = Lambda(m, Conditional(Forall(instance_param_or_params = [A_1_to_m, B], instance_expr = Equals(Composition(A_1_to_m, B), Composition(Composition(A_1_to_m), B)).with_wrapping_at(2)), InSet(m, NaturalPos)))"
   ]
  },
  {
   "cell_type": "code",
   "execution_count": 3,
   "metadata": {},
   "outputs": [
    {
     "name": "stdout",
     "output_type": "stream",
     "text": [
      "Passed sanity check: expr matches stored_expr\n"
     ]
    }
   ],
   "source": [
    "# check that the built expression is the same as the stored expression\n",
    "assert expr == stored_expr\n",
    "assert expr._style_id == stored_expr._style_id\n",
    "print(\"Passed sanity check: expr matches stored_expr\")"
   ]
  },
  {
   "cell_type": "code",
   "execution_count": 4,
   "metadata": {},
   "outputs": [
    {
     "name": "stdout",
     "output_type": "stream",
     "text": [
      "m \\mapsto \\left\\{\\forall_{A_{1}, A_{2}, \\ldots, A_{m}, B}~\\left(\\begin{array}{c} \\begin{array}{l} \\left(A_{1} \\circ  A_{2} \\circ  \\ldots \\circ  A_{m} \\circ B\\right) =  \\\\ \\left(\\left(A_{1} \\circ  A_{2} \\circ  \\ldots \\circ  A_{m}\\right) \\circ B\\right) \\end{array} \\end{array}\\right) \\textrm{ if } m \\in \\mathbb{N}^+\\right..\n"
     ]
    }
   ],
   "source": [
    "# Show the LaTeX representation of the expression for convenience if you need it.\n",
    "print(stored_expr.latex())"
   ]
  },
  {
   "cell_type": "code",
   "execution_count": 5,
   "metadata": {},
   "outputs": [
    {
     "data": {
      "text/html": [
       "no style options"
      ],
      "text/plain": [
       "no style options"
      ]
     },
     "metadata": {},
     "output_type": "display_data"
    }
   ],
   "source": [
    "stored_expr.style_options()"
   ]
  },
  {
   "cell_type": "code",
   "execution_count": 6,
   "metadata": {},
   "outputs": [
    {
     "data": {
      "text/html": [
       "<table><tr><th>&nbsp;</th><th>core type</th><th>sub-expressions</th><th>expression</th></tr>\n",
       "<tr><td>0</td><td>Lambda</td><td>parameter:&nbsp;25<br>body:&nbsp;2<br></td><td><a class=\"ProveItLink\" href=\"expr.ipynb\"><img src=\"expr.png\" style=\"display:inline;vertical-align:middle;\" /></a></td></tr>\n",
       "<tr><td>1</td><td>ExprTuple</td><td>25</td><td><a class=\"ProveItLink\" href=\"../2ed45ad9602ac89076225577ef477d88f8c5a1790/expr.ipynb\"><img src=\"../2ed45ad9602ac89076225577ef477d88f8c5a1790/expr.png\" style=\"display:inline;vertical-align:middle;\" /></a></td></tr>\n",
       "<tr><td>2</td><td>Conditional</td><td>value:&nbsp;3<br>condition:&nbsp;4<br></td><td><a class=\"ProveItLink\" href=\"../f847191c9c6f7b922f9e142195a082b499d54bf10/expr.ipynb\"><img src=\"../f847191c9c6f7b922f9e142195a082b499d54bf10/expr.png\" style=\"display:inline;vertical-align:middle;\" /></a></td></tr>\n",
       "<tr><td>3</td><td>Operation</td><td>operator:&nbsp;5<br>operand:&nbsp;9<br></td><td><a class=\"ProveItLink\" href=\"../e5f28d4610d864f8190fe44f2e3009da547f3efd0/expr.ipynb\"><img src=\"../e5f28d4610d864f8190fe44f2e3009da547f3efd0/expr.png\" style=\"display:inline;vertical-align:middle;\" /></a></td></tr>\n",
       "<tr><td>4</td><td>Operation</td><td>operator:&nbsp;7<br>operands:&nbsp;8<br></td><td><a class=\"ProveItLink\" href=\"../79a768603778550c651661670153c27ee0a505870/expr.ipynb\"><img src=\"../79a768603778550c651661670153c27ee0a505870/expr.png\" style=\"display:inline;vertical-align:middle;\" /></a></td></tr>\n",
       "<tr><td>5</td><td>Literal</td><td></td><td><a class=\"ProveItLink\" href=\"../../../../../logic/booleans/quantification/universality/__pv_it/common/083d2baa0b8ecab1d230f9ec29a15aa1355809fb0/expr.ipynb\"><img src=\"../../../../../logic/booleans/quantification/universality/__pv_it/common/083d2baa0b8ecab1d230f9ec29a15aa1355809fb0/expr.png\" style=\"display:inline;vertical-align:middle;\" /></a></td></tr>\n",
       "<tr><td>6</td><td>ExprTuple</td><td>9</td><td><a class=\"ProveItLink\" href=\"../8b85661c662a2a954573b439b1740d554db6943f0/expr.ipynb\"><img src=\"../8b85661c662a2a954573b439b1740d554db6943f0/expr.png\" style=\"display:inline;vertical-align:middle;\" /></a></td></tr>\n",
       "<tr><td>7</td><td>Literal</td><td></td><td><a class=\"ProveItLink\" href=\"../../../../../logic/sets/membership/__pv_it/common/477487d8796864d23d5810f83761435f25167f690/expr.ipynb\"><img src=\"../../../../../logic/sets/membership/__pv_it/common/477487d8796864d23d5810f83761435f25167f690/expr.png\" style=\"display:inline;vertical-align:middle;\" /></a></td></tr>\n",
       "<tr><td>8</td><td>ExprTuple</td><td>25, 10</td><td><a class=\"ProveItLink\" href=\"../0aafde61e876ad81c8138546f58d9459d893af050/expr.ipynb\"><img src=\"../0aafde61e876ad81c8138546f58d9459d893af050/expr.png\" style=\"display:inline;vertical-align:middle;\" /></a></td></tr>\n",
       "<tr><td>9</td><td>Lambda</td><td>parameters:&nbsp;16<br>body:&nbsp;11<br></td><td><a class=\"ProveItLink\" href=\"../abc437e1f1fafa0e6b8892637922a9cf4d34f2a00/expr.ipynb\"><img src=\"../abc437e1f1fafa0e6b8892637922a9cf4d34f2a00/expr.png\" style=\"display:inline;vertical-align:middle;\" /></a></td></tr>\n",
       "<tr><td>10</td><td>Literal</td><td></td><td><a class=\"ProveItLink\" href=\"../../../../../numbers/number_sets/natural_numbers/__pv_it/common/6111329435c43892c831c4793de96afbf80bdb3e0/expr.ipynb\"><img src=\"../../../../../numbers/number_sets/natural_numbers/__pv_it/common/6111329435c43892c831c4793de96afbf80bdb3e0/expr.png\" style=\"display:inline;vertical-align:middle;\" /></a></td></tr>\n",
       "<tr><td>11</td><td>Operation</td><td>operator:&nbsp;12<br>operands:&nbsp;13<br></td><td><a class=\"ProveItLink\" href=\"../1c6382c8d069915e1db1d552b37c12c1de6999290/expr.ipynb\"><img src=\"../1c6382c8d069915e1db1d552b37c12c1de6999290/expr.png\" style=\"display:inline;vertical-align:middle;\" /></a></td></tr>\n",
       "<tr><td>12</td><td>Literal</td><td></td><td><a class=\"ProveItLink\" href=\"../../../../../logic/equality/__pv_it/common/fb96dc12b2aa8801dda64d0132b396c63d1502bb0/expr.ipynb\"><img src=\"../../../../../logic/equality/__pv_it/common/fb96dc12b2aa8801dda64d0132b396c63d1502bb0/expr.png\" style=\"display:inline;vertical-align:middle;\" /></a></td></tr>\n",
       "<tr><td>13</td><td>ExprTuple</td><td>14, 15</td><td><a class=\"ProveItLink\" href=\"../1e0bcb1da3113739b3d2591cd9b8fd525532a4230/expr.ipynb\"><img src=\"../1e0bcb1da3113739b3d2591cd9b8fd525532a4230/expr.png\" style=\"display:inline;vertical-align:middle;\" /></a></td></tr>\n",
       "<tr><td>14</td><td>Operation</td><td>operator:&nbsp;20<br>operands:&nbsp;16<br></td><td><a class=\"ProveItLink\" href=\"../20f98ac1ef77029dd25c6c9c6f07e45793e9cb4d0/expr.ipynb\"><img src=\"../20f98ac1ef77029dd25c6c9c6f07e45793e9cb4d0/expr.png\" style=\"display:inline;vertical-align:middle;\" /></a></td></tr>\n",
       "<tr><td>15</td><td>Operation</td><td>operator:&nbsp;20<br>operands:&nbsp;17<br></td><td><a class=\"ProveItLink\" href=\"../970838be7d10341d5b3a4661f52cddb8a5352dcc0/expr.ipynb\"><img src=\"../970838be7d10341d5b3a4661f52cddb8a5352dcc0/expr.png\" style=\"display:inline;vertical-align:middle;\" /></a></td></tr>\n",
       "<tr><td>16</td><td>ExprTuple</td><td>22, 19</td><td><a class=\"ProveItLink\" href=\"../4204ad542ea10490880e1cce6c44f4814247c9fc0/expr.ipynb\"><img src=\"../4204ad542ea10490880e1cce6c44f4814247c9fc0/expr.png\" style=\"display:inline;vertical-align:middle;\" /></a></td></tr>\n",
       "<tr><td>17</td><td>ExprTuple</td><td>18, 19</td><td><a class=\"ProveItLink\" href=\"../cd9d65fda0994dd769687a5cd66b500537b10aaa0/expr.ipynb\"><img src=\"../cd9d65fda0994dd769687a5cd66b500537b10aaa0/expr.png\" style=\"display:inline;vertical-align:middle;\" /></a></td></tr>\n",
       "<tr><td>18</td><td>Operation</td><td>operator:&nbsp;20<br>operands:&nbsp;21<br></td><td><a class=\"ProveItLink\" href=\"../f4b0a4aa883847d86f89fddbd0f9cf91a11f8f460/expr.ipynb\"><img src=\"../f4b0a4aa883847d86f89fddbd0f9cf91a11f8f460/expr.png\" style=\"display:inline;vertical-align:middle;\" /></a></td></tr>\n",
       "<tr><td>19</td><td>Variable</td><td></td><td><a class=\"ProveItLink\" href=\"../../../../../__pv_it/common/a9162d1c3cc0470c02e5daf414500903a7a419230/expr.ipynb\"><img src=\"../../../../../__pv_it/common/a9162d1c3cc0470c02e5daf414500903a7a419230/expr.png\" style=\"display:inline;vertical-align:middle;\" /></a></td></tr>\n",
       "<tr><td>20</td><td>Literal</td><td></td><td><a class=\"ProveItLink\" href=\"../../../../../_core_/expression/lambda_expr/__pv_it/common/937c3fce6fae0f7bf212b2afb24ffa2312fdb2b40/expr.ipynb\"><img src=\"../../../../../_core_/expression/lambda_expr/__pv_it/common/937c3fce6fae0f7bf212b2afb24ffa2312fdb2b40/expr.png\" style=\"display:inline;vertical-align:middle;\" /></a></td></tr>\n",
       "<tr><td>21</td><td>ExprTuple</td><td>22</td><td><a class=\"ProveItLink\" href=\"../218b49ecc2fcb674f5eb724d523a787df9bde9a00/expr.ipynb\"><img src=\"../218b49ecc2fcb674f5eb724d523a787df9bde9a00/expr.png\" style=\"display:inline;vertical-align:middle;\" /></a></td></tr>\n",
       "<tr><td>22</td><td>ExprRange</td><td>lambda_map:&nbsp;23<br>start_index:&nbsp;24<br>end_index:&nbsp;25<br></td><td><a class=\"ProveItLink\" href=\"../../../../__pv_it/common/eaccd55f312202b1e754429bdfeaf22333037c330/expr.ipynb\"><img src=\"../../../../__pv_it/common/eaccd55f312202b1e754429bdfeaf22333037c330/expr.png\" style=\"display:inline;vertical-align:middle;\" /></a></td></tr>\n",
       "<tr><td>23</td><td>Lambda</td><td>parameter:&nbsp;29<br>body:&nbsp;26<br></td><td><a class=\"ProveItLink\" href=\"../../../../__pv_it/common/9332289e845003c758afc3bcee43498ae784f2d90/expr.ipynb\"><img src=\"../../../../__pv_it/common/9332289e845003c758afc3bcee43498ae784f2d90/expr.png\" style=\"display:inline;vertical-align:middle;\" /></a></td></tr>\n",
       "<tr><td>24</td><td>Literal</td><td></td><td><a class=\"ProveItLink\" href=\"../../../../../numbers/numerals/__pv_it/common/682157d4892d216d9e5626ed533aff9b56b9506e0/expr.ipynb\"><img src=\"../../../../../numbers/numerals/__pv_it/common/682157d4892d216d9e5626ed533aff9b56b9506e0/expr.png\" style=\"display:inline;vertical-align:middle;\" /></a></td></tr>\n",
       "<tr><td>25</td><td>Variable</td><td></td><td><a class=\"ProveItLink\" href=\"../../../../../__pv_it/common/674a03b9c3ca221b3aabd5636837b31528ff33830/expr.ipynb\"><img src=\"../../../../../__pv_it/common/674a03b9c3ca221b3aabd5636837b31528ff33830/expr.png\" style=\"display:inline;vertical-align:middle;\" /></a></td></tr>\n",
       "<tr><td>26</td><td>IndexedVar</td><td>variable:&nbsp;27<br>index:&nbsp;29<br></td><td><a class=\"ProveItLink\" href=\"../../../../__pv_it/common/9fdaaadf1b3d81a308244818dc08833e7f5035730/expr.ipynb\"><img src=\"../../../../__pv_it/common/9fdaaadf1b3d81a308244818dc08833e7f5035730/expr.png\" style=\"display:inline;vertical-align:middle;\" /></a></td></tr>\n",
       "<tr><td>27</td><td>Variable</td><td></td><td><a class=\"ProveItLink\" href=\"../../../../../__pv_it/common/09585084922504426caf1db2ff588a23a0932a960/expr.ipynb\"><img src=\"../../../../../__pv_it/common/09585084922504426caf1db2ff588a23a0932a960/expr.png\" style=\"display:inline;vertical-align:middle;\" /></a></td></tr>\n",
       "<tr><td>28</td><td>ExprTuple</td><td>29</td><td><a class=\"ProveItLink\" href=\"../../../../__pv_it/common/4b0dd6be36d76552eda6a95d5b4a27f5a5b62f900/expr.ipynb\"><img src=\"../../../../__pv_it/common/4b0dd6be36d76552eda6a95d5b4a27f5a5b62f900/expr.png\" style=\"display:inline;vertical-align:middle;\" /></a></td></tr>\n",
       "<tr><td>29</td><td>Variable</td><td></td><td><a class=\"ProveItLink\" href=\"../../../../__pv_it/common/006c465e50948aa2b52285e2de47974f741255cc0/expr.ipynb\"><img src=\"../../../../__pv_it/common/006c465e50948aa2b52285e2de47974f741255cc0/expr.png\" style=\"display:inline;vertical-align:middle;\" /></a></td></tr>\n",
       "</table>\n"
      ],
      "text/plain": [
       "0. m -> {forall_{A_{1}, A_{2}, ..., A_{m}, B} ((A_{1} o  A_{2} o  ... o  A_{m} o B) =  \\\\ ((A_{1} o  A_{2} o  ... o  A_{m}) o B)) if m in NaturalPos.\n",
       "   core type: Lambda\n",
       "   parameter: 25\n",
       "   body: 2\n",
       "1. (m)\n",
       "   core type: ExprTuple\n",
       "   sub-expressions: 25\n",
       "2. {forall_{A_{1}, A_{2}, ..., A_{m}, B} ((A_{1} o  A_{2} o  ... o  A_{m} o B) =  \\\\ ((A_{1} o  A_{2} o  ... o  A_{m}) o B)) if m in NaturalPos.\n",
       "   core type: Conditional\n",
       "   value: 3\n",
       "   condition: 4\n",
       "3. forall_{A_{1}, A_{2}, ..., A_{m}, B} ((A_{1} o  A_{2} o  ... o  A_{m} o B) =  \\\\ ((A_{1} o  A_{2} o  ... o  A_{m}) o B))\n",
       "   core type: Operation\n",
       "   operator: 5\n",
       "   operand: 9\n",
       "4. m in NaturalPos\n",
       "   core type: Operation\n",
       "   operator: 7\n",
       "   operands: 8\n",
       "5. forall\n",
       "   core type: Literal\n",
       "   sub-expressions: \n",
       "6. ((A_{1}, A_{2}, ..., A_{m}, B) -> ((A_{1} o  A_{2} o  ... o  A_{m} o B) =  \\\\ ((A_{1} o  A_{2} o  ... o  A_{m}) o B)))\n",
       "   core type: ExprTuple\n",
       "   sub-expressions: 9\n",
       "7. in\n",
       "   core type: Literal\n",
       "   sub-expressions: \n",
       "8. (m, NaturalPos)\n",
       "   core type: ExprTuple\n",
       "   sub-expressions: 25, 10\n",
       "9. (A_{1}, A_{2}, ..., A_{m}, B) -> ((A_{1} o  A_{2} o  ... o  A_{m} o B) =  \\\\ ((A_{1} o  A_{2} o  ... o  A_{m}) o B))\n",
       "   core type: Lambda\n",
       "   parameters: 16\\n   body: 11\n",
       "10. NaturalPos\n",
       "    core type: Literal\n",
       "    sub-expressions: \n",
       "11. (A_{1} o  A_{2} o  ... o  A_{m} o B) =  \\\\ ((A_{1} o  A_{2} o  ... o  A_{m}) o B)\n",
       "    core type: Operation\n",
       "    operator: 12\n",
       "    operands: 13\n",
       "12. =\n",
       "    core type: Literal\n",
       "    sub-expressions: \n",
       "13. (A_{1} o  A_{2} o  ... o  A_{m} o B, (A_{1} o  A_{2} o  ... o  A_{m}) o B)\n",
       "    core type: ExprTuple\n",
       "    sub-expressions: 14, 15\n",
       "14. A_{1} o  A_{2} o  ... o  A_{m} o B\n",
       "    core type: Operation\n",
       "    operator: 20\n",
       "    operands: 16\n",
       "15. (A_{1} o  A_{2} o  ... o  A_{m}) o B\n",
       "    core type: Operation\n",
       "    operator: 20\n",
       "    operands: 17\n",
       "16. (A_{1}, A_{2}, ..., A_{m}, B)\n",
       "    core type: ExprTuple\n",
       "    sub-expressions: 22, 19\n",
       "17. (A_{1} o  A_{2} o  ... o  A_{m}, B)\n",
       "    core type: ExprTuple\n",
       "    sub-expressions: 18, 19\n",
       "18. A_{1} o  A_{2} o  ... o  A_{m}\n",
       "    core type: Operation\n",
       "    operator: 20\n",
       "    operands: 21\n",
       "19. B\n",
       "    core type: Variable\n",
       "    sub-expressions: \n",
       "20. o\n",
       "    core type: Literal\n",
       "    sub-expressions: \n",
       "21. (A_{1}, A_{2}, ..., A_{m})\n",
       "    core type: ExprTuple\n",
       "    sub-expressions: 22\n",
       "22. A_{1}, A_{2}, ..., A_{m}\n",
       "    core type: ExprRange\n",
       "    lambda_map: 23\n",
       "    start_index: 24\n",
       "    end_index: 25\n",
       "23. _a -> A_{_a}\n",
       "    core type: Lambda\n",
       "    parameter: 29\n",
       "    body: 26\n",
       "24. 1\n",
       "    core type: Literal\n",
       "    sub-expressions: \n",
       "25. m\n",
       "    core type: Variable\n",
       "    sub-expressions: \n",
       "26. A_{_a}\n",
       "    core type: IndexedVar\n",
       "variable: 27\n",
       "index: 29\n",
       "27. A\n",
       "    core type: Variable\n",
       "    sub-expressions: \n",
       "28. (_a)\n",
       "    core type: ExprTuple\n",
       "    sub-expressions: 29\n",
       "29. _a\n",
       "    core type: Variable\n",
       "    sub-expressions: "
      ]
     },
     "metadata": {},
     "output_type": "display_data"
    }
   ],
   "source": [
    "# display the expression information\n",
    "stored_expr.expr_info()"
   ]
  },
  {
   "cell_type": "code",
   "execution_count": null,
   "metadata": {},
   "outputs": [],
   "source": []
  }
 ],
 "metadata": {
  "kernelspec": {
   "display_name": "Python 3",
   "language": "python",
   "name": "python3"
  }
 },
 "nbformat": 4,
 "nbformat_minor": 0
}