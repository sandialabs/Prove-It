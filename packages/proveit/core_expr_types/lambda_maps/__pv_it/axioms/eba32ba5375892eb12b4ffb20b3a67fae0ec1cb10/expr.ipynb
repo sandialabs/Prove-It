{
 "cells": [
  {
   "cell_type": "markdown",
   "metadata": {},
   "source": [
    "Expression of type <a class=\"ProveItLink\" href=\"../../../../../../../doc/html/api/proveit.Conditional.html\">Conditional</a>\n",
    "=======================\n",
    "# from the theory of <a class=\"ProveItLink\" href=\"../../../_theory_nbs_/theory.ipynb\">proveit.core_expr_types.lambda_maps</a>"
   ]
  },
  {
   "cell_type": "code",
   "execution_count": 1,
   "metadata": {},
   "outputs": [],
   "source": [
    "import proveit\n",
    "# Automation is not needed when building an expression:\n",
    "proveit.defaults.automation = False # This will speed things up.\n",
    "proveit.defaults.inline_pngs = False # Makes files smaller.\n",
    "%load_expr # Load the stored expression as 'stored_expr'\n",
    "# import Expression classes needed to build the expression\n",
    "from proveit import Conditional, Lambda, f, g, i\n",
    "from proveit.core_expr_types import a_1_to_i, b_1_to_i, c_1_to_i, f__a_1_to_i, f__b_1_to_i, g__a_1_to_i, g__c_1_to_i\n",
    "from proveit.logic import Equals, Forall, Implies, InSet\n",
    "from proveit.numbers import NaturalPos"
   ]
  },
  {
   "cell_type": "code",
   "execution_count": 2,
   "metadata": {},
   "outputs": [
    {
     "data": {
      "text/html": [
       "<strong id=\"expr\">expr:</strong> <a class=\"ProveItLink\" href=\"expr.ipynb\"><img src=\"expr.png\" style=\"display:inline;vertical-align:middle;\" /></a><br>"
      ],
      "text/plain": [
       "<IPython.core.display.HTML object>"
      ]
     },
     "metadata": {},
     "output_type": "display_data"
    }
   ],
   "source": [
    "# build up the expression from sub-expressions\n",
    "expr = Conditional(Forall(instance_param_or_params = [f, g], instance_expr = Implies(Forall(instance_param_or_params = [a_1_to_i], instance_expr = Equals(f__a_1_to_i, g__a_1_to_i)), Equals(Lambda([b_1_to_i], f__b_1_to_i), Lambda([c_1_to_i], g__c_1_to_i)).with_wrapping_at(2)).with_wrapping_at(2)), InSet(i, NaturalPos))"
   ]
  },
  {
   "cell_type": "code",
   "execution_count": 3,
   "metadata": {},
   "outputs": [
    {
     "name": "stdout",
     "output_type": "stream",
     "text": [
      "Passed sanity check: expr matches stored_expr\n"
     ]
    }
   ],
   "source": [
    "# check that the built expression is the same as the stored expression\n",
    "assert expr == stored_expr\n",
    "assert expr._style_id == stored_expr._style_id\n",
    "print(\"Passed sanity check: expr matches stored_expr\")"
   ]
  },
  {
   "cell_type": "code",
   "execution_count": 4,
   "metadata": {},
   "outputs": [
    {
     "name": "stdout",
     "output_type": "stream",
     "text": [
      "\\left\\{\\forall_{f, g}~\\left(\\begin{array}{c} \\begin{array}{l} \\left[\\forall_{a_{1}, a_{2}, \\ldots, a_{i}}~\\left(f\\left(a_{1}, a_{2}, \\ldots, a_{i}\\right) = g\\left(a_{1}, a_{2}, \\ldots, a_{i}\\right)\\right)\\right] \\Rightarrow  \\\\ \\left(\\begin{array}{c} \\begin{array}{l} \\left[\\left(b_{1}, b_{2}, \\ldots, b_{i}\\right) \\mapsto f\\left(b_{1}, b_{2}, \\ldots, b_{i}\\right)\\right] =  \\\\ \\left[\\left(c_{1}, c_{2}, \\ldots, c_{i}\\right) \\mapsto g\\left(c_{1}, c_{2}, \\ldots, c_{i}\\right)\\right] \\end{array} \\end{array}\\right) \\end{array} \\end{array}\\right) \\textrm{ if } i \\in \\mathbb{N}^+\\right..\n"
     ]
    }
   ],
   "source": [
    "# Show the LaTeX representation of the expression for convenience if you need it.\n",
    "print(stored_expr.latex())"
   ]
  },
  {
   "cell_type": "code",
   "execution_count": 5,
   "metadata": {},
   "outputs": [
    {
     "data": {
      "text/html": [
       "<table>\n",
       "<tr><th>name</th><th>description</th><th>default</th><th>current value</th><th>related methods</th></tr><tr><td>condition_delimiter</td><td>'comma' or 'and'</td><td>comma</td><td>comma</td><td>('with_comma_delimiter', 'with_conjunction_delimiter')</td></tr>\n",
       "</table>\n"
      ],
      "text/plain": [
       "style name: condition_delimiter\n",
       "description: 'comma' or 'and'\n",
       "default: comma\n",
       "current value: comma\n",
       "related methods: ('with_comma_delimiter', 'with_conjunction_delimiter')"
      ]
     },
     "metadata": {},
     "output_type": "display_data"
    }
   ],
   "source": [
    "stored_expr.style_options()"
   ]
  },
  {
   "cell_type": "code",
   "execution_count": 6,
   "metadata": {},
   "outputs": [
    {
     "data": {
      "text/html": [
       "<table><tr><th>&nbsp;</th><th>core type</th><th>sub-expressions</th><th>expression</th></tr>\n",
       "<tr><td>0</td><td>Conditional</td><td>value:&nbsp;1<br>condition:&nbsp;2<br></td><td><a class=\"ProveItLink\" href=\"expr.ipynb\"><img src=\"expr.png\" style=\"display:inline;vertical-align:middle;\" /></a></td></tr>\n",
       "<tr><td>1</td><td>Operation</td><td>operator:&nbsp;14<br>operand:&nbsp;6<br></td><td><a class=\"ProveItLink\" href=\"../d4e7d4836cb050f83a2c0d29a855f786463d59e30/expr.ipynb\"><img src=\"../d4e7d4836cb050f83a2c0d29a855f786463d59e30/expr.png\" style=\"display:inline;vertical-align:middle;\" /></a></td></tr>\n",
       "<tr><td>2</td><td>Operation</td><td>operator:&nbsp;4<br>operands:&nbsp;5<br></td><td><a class=\"ProveItLink\" href=\"../25affb7a8c81ead7ae47a3a75d143c7ed8067f4d0/expr.ipynb\"><img src=\"../25affb7a8c81ead7ae47a3a75d143c7ed8067f4d0/expr.png\" style=\"display:inline;vertical-align:middle;\" /></a></td></tr>\n",
       "<tr><td>3</td><td>ExprTuple</td><td>6</td><td><a class=\"ProveItLink\" href=\"../1a16991839ff9e2b3cf448f781a4b25f07b782100/expr.ipynb\"><img src=\"../1a16991839ff9e2b3cf448f781a4b25f07b782100/expr.png\" style=\"display:inline;vertical-align:middle;\" /></a></td></tr>\n",
       "<tr><td>4</td><td>Literal</td><td></td><td><a class=\"ProveItLink\" href=\"../../../../../logic/sets/membership/__pv_it/common/477487d8796864d23d5810f83761435f25167f690/expr.ipynb\"><img src=\"../../../../../logic/sets/membership/__pv_it/common/477487d8796864d23d5810f83761435f25167f690/expr.png\" style=\"display:inline;vertical-align:middle;\" /></a></td></tr>\n",
       "<tr><td>5</td><td>ExprTuple</td><td>41, 7</td><td><a class=\"ProveItLink\" href=\"../d61b4452898dd077c102c9107cc83cb672d976200/expr.ipynb\"><img src=\"../d61b4452898dd077c102c9107cc83cb672d976200/expr.png\" style=\"display:inline;vertical-align:middle;\" /></a></td></tr>\n",
       "<tr><td>6</td><td>Lambda</td><td>parameters:&nbsp;8<br>body:&nbsp;9<br></td><td><a class=\"ProveItLink\" href=\"../8c33b1eaa59972da5cce750d6be5173aa3a460fe0/expr.ipynb\"><img src=\"../8c33b1eaa59972da5cce750d6be5173aa3a460fe0/expr.png\" style=\"display:inline;vertical-align:middle;\" /></a></td></tr>\n",
       "<tr><td>7</td><td>Literal</td><td></td><td><a class=\"ProveItLink\" href=\"../../../../../numbers/number_sets/natural_numbers/__pv_it/common/6111329435c43892c831c4793de96afbf80bdb3e0/expr.ipynb\"><img src=\"../../../../../numbers/number_sets/natural_numbers/__pv_it/common/6111329435c43892c831c4793de96afbf80bdb3e0/expr.png\" style=\"display:inline;vertical-align:middle;\" /></a></td></tr>\n",
       "<tr><td>8</td><td>ExprTuple</td><td>31, 32</td><td><a class=\"ProveItLink\" href=\"../2c954f158acc6105edefb51b37f61ee4473f2f420/expr.ipynb\"><img src=\"../2c954f158acc6105edefb51b37f61ee4473f2f420/expr.png\" style=\"display:inline;vertical-align:middle;\" /></a></td></tr>\n",
       "<tr><td>9</td><td>Operation</td><td>operator:&nbsp;10<br>operands:&nbsp;11<br></td><td><a class=\"ProveItLink\" href=\"../c9192623466361c2f4ac88d6e09a42c593ec549c0/expr.ipynb\"><img src=\"../c9192623466361c2f4ac88d6e09a42c593ec549c0/expr.png\" style=\"display:inline;vertical-align:middle;\" /></a></td></tr>\n",
       "<tr><td>10</td><td>Literal</td><td></td><td><a class=\"ProveItLink\" href=\"../../../../../logic/booleans/implication/__pv_it/common/02bdb382575728da8cdbaed545b9096ea7a1bd5b0/expr.ipynb\"><img src=\"../../../../../logic/booleans/implication/__pv_it/common/02bdb382575728da8cdbaed545b9096ea7a1bd5b0/expr.png\" style=\"display:inline;vertical-align:middle;\" /></a></td></tr>\n",
       "<tr><td>11</td><td>ExprTuple</td><td>12, 13</td><td><a class=\"ProveItLink\" href=\"../a89659d92945fccef9acfbb4ecf31d33af76a0ca0/expr.ipynb\"><img src=\"../a89659d92945fccef9acfbb4ecf31d33af76a0ca0/expr.png\" style=\"display:inline;vertical-align:middle;\" /></a></td></tr>\n",
       "<tr><td>12</td><td>Operation</td><td>operator:&nbsp;14<br>operand:&nbsp;17<br></td><td><a class=\"ProveItLink\" href=\"../0872e2daad2d93d4a5d8ad036685f9ab66f7d2070/expr.ipynb\"><img src=\"../0872e2daad2d93d4a5d8ad036685f9ab66f7d2070/expr.png\" style=\"display:inline;vertical-align:middle;\" /></a></td></tr>\n",
       "<tr><td>13</td><td>Operation</td><td>operator:&nbsp;23<br>operands:&nbsp;16<br></td><td><a class=\"ProveItLink\" href=\"../d5bea4429655fb537e98b4a96240000f356e0d330/expr.ipynb\"><img src=\"../d5bea4429655fb537e98b4a96240000f356e0d330/expr.png\" style=\"display:inline;vertical-align:middle;\" /></a></td></tr>\n",
       "<tr><td>14</td><td>Literal</td><td></td><td><a class=\"ProveItLink\" href=\"../../../../../logic/booleans/quantification/universality/__pv_it/common/083d2baa0b8ecab1d230f9ec29a15aa1355809fb0/expr.ipynb\"><img src=\"../../../../../logic/booleans/quantification/universality/__pv_it/common/083d2baa0b8ecab1d230f9ec29a15aa1355809fb0/expr.png\" style=\"display:inline;vertical-align:middle;\" /></a></td></tr>\n",
       "<tr><td>15</td><td>ExprTuple</td><td>17</td><td><a class=\"ProveItLink\" href=\"../d966b2bebe509ee2df520b76603f276ad08e833d0/expr.ipynb\"><img src=\"../d966b2bebe509ee2df520b76603f276ad08e833d0/expr.png\" style=\"display:inline;vertical-align:middle;\" /></a></td></tr>\n",
       "<tr><td>16</td><td>ExprTuple</td><td>18, 19</td><td><a class=\"ProveItLink\" href=\"../1ced963b3d14d544633b72ea7714cfdac899a5370/expr.ipynb\"><img src=\"../1ced963b3d14d544633b72ea7714cfdac899a5370/expr.png\" style=\"display:inline;vertical-align:middle;\" /></a></td></tr>\n",
       "<tr><td>17</td><td>Lambda</td><td>parameters:&nbsp;33<br>body:&nbsp;20<br></td><td><a class=\"ProveItLink\" href=\"../c8d719f26b064c28b0b1bb03744c6c632b85971a0/expr.ipynb\"><img src=\"../c8d719f26b064c28b0b1bb03744c6c632b85971a0/expr.png\" style=\"display:inline;vertical-align:middle;\" /></a></td></tr>\n",
       "<tr><td>18</td><td>Lambda</td><td>parameters:&nbsp;25<br>body:&nbsp;21<br></td><td><a class=\"ProveItLink\" href=\"../8e1c6e0787b1de478d9259c1c1470e5715b60b970/expr.ipynb\"><img src=\"../8e1c6e0787b1de478d9259c1c1470e5715b60b970/expr.png\" style=\"display:inline;vertical-align:middle;\" /></a></td></tr>\n",
       "<tr><td>19</td><td>Lambda</td><td>parameters:&nbsp;26<br>body:&nbsp;22<br></td><td><a class=\"ProveItLink\" href=\"../69caa6dfedd6265bf1dab6e462649347279ced7f0/expr.ipynb\"><img src=\"../69caa6dfedd6265bf1dab6e462649347279ced7f0/expr.png\" style=\"display:inline;vertical-align:middle;\" /></a></td></tr>\n",
       "<tr><td>20</td><td>Operation</td><td>operator:&nbsp;23<br>operands:&nbsp;24<br></td><td><a class=\"ProveItLink\" href=\"../2472b8e03c7a39daa1d1d578b1ef99811a0040ba0/expr.ipynb\"><img src=\"../2472b8e03c7a39daa1d1d578b1ef99811a0040ba0/expr.png\" style=\"display:inline;vertical-align:middle;\" /></a></td></tr>\n",
       "<tr><td>21</td><td>Operation</td><td>operator:&nbsp;31<br>operands:&nbsp;25<br></td><td><a class=\"ProveItLink\" href=\"../../../../__pv_it/common/d11e64ac94a9cfc8fc504686da3edbc6c0900f2f0/expr.ipynb\"><img src=\"../../../../__pv_it/common/d11e64ac94a9cfc8fc504686da3edbc6c0900f2f0/expr.png\" style=\"display:inline;vertical-align:middle;\" /></a></td></tr>\n",
       "<tr><td>22</td><td>Operation</td><td>operator:&nbsp;32<br>operands:&nbsp;26<br></td><td><a class=\"ProveItLink\" href=\"../../../../__pv_it/common/e03d0bd72023e90a1fd531ac37255895f1952b270/expr.ipynb\"><img src=\"../../../../__pv_it/common/e03d0bd72023e90a1fd531ac37255895f1952b270/expr.png\" style=\"display:inline;vertical-align:middle;\" /></a></td></tr>\n",
       "<tr><td>23</td><td>Literal</td><td></td><td><a class=\"ProveItLink\" href=\"../../../../../logic/equality/__pv_it/common/fb96dc12b2aa8801dda64d0132b396c63d1502bb0/expr.ipynb\"><img src=\"../../../../../logic/equality/__pv_it/common/fb96dc12b2aa8801dda64d0132b396c63d1502bb0/expr.png\" style=\"display:inline;vertical-align:middle;\" /></a></td></tr>\n",
       "<tr><td>24</td><td>ExprTuple</td><td>27, 28</td><td><a class=\"ProveItLink\" href=\"../22f2622789629b292e403ce2b34c409239cc71ac0/expr.ipynb\"><img src=\"../22f2622789629b292e403ce2b34c409239cc71ac0/expr.png\" style=\"display:inline;vertical-align:middle;\" /></a></td></tr>\n",
       "<tr><td>25</td><td>ExprTuple</td><td>29</td><td><a class=\"ProveItLink\" href=\"../../../../__pv_it/common/cbb267d411548f30abbb41bd891bd261776fba3d0/expr.ipynb\"><img src=\"../../../../__pv_it/common/cbb267d411548f30abbb41bd891bd261776fba3d0/expr.png\" style=\"display:inline;vertical-align:middle;\" /></a></td></tr>\n",
       "<tr><td>26</td><td>ExprTuple</td><td>30</td><td><a class=\"ProveItLink\" href=\"../../../../__pv_it/common/cdb720a1a4f317f41a3f5ffdcb4d8477c115dfae0/expr.ipynb\"><img src=\"../../../../__pv_it/common/cdb720a1a4f317f41a3f5ffdcb4d8477c115dfae0/expr.png\" style=\"display:inline;vertical-align:middle;\" /></a></td></tr>\n",
       "<tr><td>27</td><td>Operation</td><td>operator:&nbsp;31<br>operands:&nbsp;33<br></td><td><a class=\"ProveItLink\" href=\"../../../../__pv_it/common/e3365f75bd57fd1ba0f454f5bdb756ddb29fc4e20/expr.ipynb\"><img src=\"../../../../__pv_it/common/e3365f75bd57fd1ba0f454f5bdb756ddb29fc4e20/expr.png\" style=\"display:inline;vertical-align:middle;\" /></a></td></tr>\n",
       "<tr><td>28</td><td>Operation</td><td>operator:&nbsp;32<br>operands:&nbsp;33<br></td><td><a class=\"ProveItLink\" href=\"../../../../__pv_it/common/91df282e531dc076061551dc17931f746f1b916a0/expr.ipynb\"><img src=\"../../../../__pv_it/common/91df282e531dc076061551dc17931f746f1b916a0/expr.png\" style=\"display:inline;vertical-align:middle;\" /></a></td></tr>\n",
       "<tr><td>29</td><td>ExprRange</td><td>lambda_map:&nbsp;34<br>start_index:&nbsp;40<br>end_index:&nbsp;41<br></td><td><a class=\"ProveItLink\" href=\"../../../../__pv_it/common/6614125435656057a807c01b2703aec599ab667b0/expr.ipynb\"><img src=\"../../../../__pv_it/common/6614125435656057a807c01b2703aec599ab667b0/expr.png\" style=\"display:inline;vertical-align:middle;\" /></a></td></tr>\n",
       "<tr><td>30</td><td>ExprRange</td><td>lambda_map:&nbsp;35<br>start_index:&nbsp;40<br>end_index:&nbsp;41<br></td><td><a class=\"ProveItLink\" href=\"../../../../__pv_it/common/7f544f12ad63e3712bd60e5a54402b08e8202c760/expr.ipynb\"><img src=\"../../../../__pv_it/common/7f544f12ad63e3712bd60e5a54402b08e8202c760/expr.png\" style=\"display:inline;vertical-align:middle;\" /></a></td></tr>\n",
       "<tr><td>31</td><td>Variable</td><td></td><td><a class=\"ProveItLink\" href=\"../../../../../__pv_it/common/01b6dbb444a31fc38af4c2379badef6c75b363710/expr.ipynb\"><img src=\"../../../../../__pv_it/common/01b6dbb444a31fc38af4c2379badef6c75b363710/expr.png\" style=\"display:inline;vertical-align:middle;\" /></a></td></tr>\n",
       "<tr><td>32</td><td>Variable</td><td></td><td><a class=\"ProveItLink\" href=\"../../../../../__pv_it/common/96ac097ea7ee432328a5e933062d0ef407701bf40/expr.ipynb\"><img src=\"../../../../../__pv_it/common/96ac097ea7ee432328a5e933062d0ef407701bf40/expr.png\" style=\"display:inline;vertical-align:middle;\" /></a></td></tr>\n",
       "<tr><td>33</td><td>ExprTuple</td><td>36</td><td><a class=\"ProveItLink\" href=\"../../../../__pv_it/common/acc7ecd6d6e1490d943c617eb5dc8d91eb0774310/expr.ipynb\"><img src=\"../../../../__pv_it/common/acc7ecd6d6e1490d943c617eb5dc8d91eb0774310/expr.png\" style=\"display:inline;vertical-align:middle;\" /></a></td></tr>\n",
       "<tr><td>34</td><td>Lambda</td><td>parameter:&nbsp;47<br>body:&nbsp;37<br></td><td><a class=\"ProveItLink\" href=\"../../../../__pv_it/common/d763764ede9c88a33f4b750791da02d1a21cb6820/expr.ipynb\"><img src=\"../../../../__pv_it/common/d763764ede9c88a33f4b750791da02d1a21cb6820/expr.png\" style=\"display:inline;vertical-align:middle;\" /></a></td></tr>\n",
       "<tr><td>35</td><td>Lambda</td><td>parameter:&nbsp;47<br>body:&nbsp;38<br></td><td><a class=\"ProveItLink\" href=\"../../../../__pv_it/common/89a29b5b02ce6c37577f6352274a3d503dcdde3e0/expr.ipynb\"><img src=\"../../../../__pv_it/common/89a29b5b02ce6c37577f6352274a3d503dcdde3e0/expr.png\" style=\"display:inline;vertical-align:middle;\" /></a></td></tr>\n",
       "<tr><td>36</td><td>ExprRange</td><td>lambda_map:&nbsp;39<br>start_index:&nbsp;40<br>end_index:&nbsp;41<br></td><td><a class=\"ProveItLink\" href=\"../../../../__pv_it/common/7230c683fcd56948c826ac1be71b01b6fb2913950/expr.ipynb\"><img src=\"../../../../__pv_it/common/7230c683fcd56948c826ac1be71b01b6fb2913950/expr.png\" style=\"display:inline;vertical-align:middle;\" /></a></td></tr>\n",
       "<tr><td>37</td><td>IndexedVar</td><td>variable:&nbsp;42<br>index:&nbsp;47<br></td><td><a class=\"ProveItLink\" href=\"../../../../__pv_it/common/8542342c36565a593724a99f9c08d995c1c21af20/expr.ipynb\"><img src=\"../../../../__pv_it/common/8542342c36565a593724a99f9c08d995c1c21af20/expr.png\" style=\"display:inline;vertical-align:middle;\" /></a></td></tr>\n",
       "<tr><td>38</td><td>IndexedVar</td><td>variable:&nbsp;43<br>index:&nbsp;47<br></td><td><a class=\"ProveItLink\" href=\"../../../../__pv_it/common/8ffbefe913f7c934b2e3a2a12315d5900822d9d00/expr.ipynb\"><img src=\"../../../../__pv_it/common/8ffbefe913f7c934b2e3a2a12315d5900822d9d00/expr.png\" style=\"display:inline;vertical-align:middle;\" /></a></td></tr>\n",
       "<tr><td>39</td><td>Lambda</td><td>parameter:&nbsp;47<br>body:&nbsp;44<br></td><td><a class=\"ProveItLink\" href=\"../../../../__pv_it/common/1527ad383e12f9c6ed6b371c9a7dd1892d80da1b0/expr.ipynb\"><img src=\"../../../../__pv_it/common/1527ad383e12f9c6ed6b371c9a7dd1892d80da1b0/expr.png\" style=\"display:inline;vertical-align:middle;\" /></a></td></tr>\n",
       "<tr><td>40</td><td>Literal</td><td></td><td><a class=\"ProveItLink\" href=\"../../../../../numbers/numerals/__pv_it/common/682157d4892d216d9e5626ed533aff9b56b9506e0/expr.ipynb\"><img src=\"../../../../../numbers/numerals/__pv_it/common/682157d4892d216d9e5626ed533aff9b56b9506e0/expr.png\" style=\"display:inline;vertical-align:middle;\" /></a></td></tr>\n",
       "<tr><td>41</td><td>Variable</td><td></td><td><a class=\"ProveItLink\" href=\"../../../../../__pv_it/common/ae955345c83abf786c3aff8681cd5465beae262d0/expr.ipynb\"><img src=\"../../../../../__pv_it/common/ae955345c83abf786c3aff8681cd5465beae262d0/expr.png\" style=\"display:inline;vertical-align:middle;\" /></a></td></tr>\n",
       "<tr><td>42</td><td>Variable</td><td></td><td><a class=\"ProveItLink\" href=\"../../../../../__pv_it/common/195236b98c6c564a75b5dbada74b173bc52d5c3e0/expr.ipynb\"><img src=\"../../../../../__pv_it/common/195236b98c6c564a75b5dbada74b173bc52d5c3e0/expr.png\" style=\"display:inline;vertical-align:middle;\" /></a></td></tr>\n",
       "<tr><td>43</td><td>Variable</td><td></td><td><a class=\"ProveItLink\" href=\"../../../../../__pv_it/common/ceef4280a2f1cc604b455b54e735507244cc62cd0/expr.ipynb\"><img src=\"../../../../../__pv_it/common/ceef4280a2f1cc604b455b54e735507244cc62cd0/expr.png\" style=\"display:inline;vertical-align:middle;\" /></a></td></tr>\n",
       "<tr><td>44</td><td>IndexedVar</td><td>variable:&nbsp;45<br>index:&nbsp;47<br></td><td><a class=\"ProveItLink\" href=\"../../../../__pv_it/common/3a62c13e156d62d52fe585fa37cc2172fcf685260/expr.ipynb\"><img src=\"../../../../__pv_it/common/3a62c13e156d62d52fe585fa37cc2172fcf685260/expr.png\" style=\"display:inline;vertical-align:middle;\" /></a></td></tr>\n",
       "<tr><td>45</td><td>Variable</td><td></td><td><a class=\"ProveItLink\" href=\"../../../../../__pv_it/common/c06c606ec12678c58933ac85412ecadc2ae28be60/expr.ipynb\"><img src=\"../../../../../__pv_it/common/c06c606ec12678c58933ac85412ecadc2ae28be60/expr.png\" style=\"display:inline;vertical-align:middle;\" /></a></td></tr>\n",
       "<tr><td>46</td><td>ExprTuple</td><td>47</td><td><a class=\"ProveItLink\" href=\"../../../../__pv_it/common/4b0dd6be36d76552eda6a95d5b4a27f5a5b62f900/expr.ipynb\"><img src=\"../../../../__pv_it/common/4b0dd6be36d76552eda6a95d5b4a27f5a5b62f900/expr.png\" style=\"display:inline;vertical-align:middle;\" /></a></td></tr>\n",
       "<tr><td>47</td><td>Variable</td><td></td><td><a class=\"ProveItLink\" href=\"../../../../__pv_it/common/006c465e50948aa2b52285e2de47974f741255cc0/expr.ipynb\"><img src=\"../../../../__pv_it/common/006c465e50948aa2b52285e2de47974f741255cc0/expr.png\" style=\"display:inline;vertical-align:middle;\" /></a></td></tr>\n",
       "</table>\n"
      ],
      "text/plain": [
       "0. {forall_{f, g} ([forall_{a_{1}, a_{2}, ..., a_{i}} (f(a_{1}, a_{2}, ..., a_{i}) = g(a_{1}, a_{2}, ..., a_{i}))] =>  \\\\ ([(b_{1}, b_{2}, ..., b_{i}) -> f(b_{1}, b_{2}, ..., b_{i})] =  \\\\ [(c_{1}, c_{2}, ..., c_{i}) -> g(c_{1}, c_{2}, ..., c_{i})])) if i in NaturalPos.\n",
       "   core type: Conditional\n",
       "   value: 1\n",
       "   condition: 2\n",
       "1. forall_{f, g} ([forall_{a_{1}, a_{2}, ..., a_{i}} (f(a_{1}, a_{2}, ..., a_{i}) = g(a_{1}, a_{2}, ..., a_{i}))] =>  \\\\ ([(b_{1}, b_{2}, ..., b_{i}) -> f(b_{1}, b_{2}, ..., b_{i})] =  \\\\ [(c_{1}, c_{2}, ..., c_{i}) -> g(c_{1}, c_{2}, ..., c_{i})]))\n",
       "   core type: Operation\n",
       "   operator: 14\n",
       "   operand: 6\n",
       "2. i in NaturalPos\n",
       "   core type: Operation\n",
       "   operator: 4\n",
       "   operands: 5\n",
       "3. ((f, g) -> ([forall_{a_{1}, a_{2}, ..., a_{i}} (f(a_{1}, a_{2}, ..., a_{i}) = g(a_{1}, a_{2}, ..., a_{i}))] =>  \\\\ ([(b_{1}, b_{2}, ..., b_{i}) -> f(b_{1}, b_{2}, ..., b_{i})] =  \\\\ [(c_{1}, c_{2}, ..., c_{i}) -> g(c_{1}, c_{2}, ..., c_{i})])))\n",
       "   core type: ExprTuple\n",
       "   sub-expressions: 6\n",
       "4. in\n",
       "   core type: Literal\n",
       "   sub-expressions: \n",
       "5. (i, NaturalPos)\n",
       "   core type: ExprTuple\n",
       "   sub-expressions: 41, 7\n",
       "6. (f, g) -> ([forall_{a_{1}, a_{2}, ..., a_{i}} (f(a_{1}, a_{2}, ..., a_{i}) = g(a_{1}, a_{2}, ..., a_{i}))] =>  \\\\ ([(b_{1}, b_{2}, ..., b_{i}) -> f(b_{1}, b_{2}, ..., b_{i})] =  \\\\ [(c_{1}, c_{2}, ..., c_{i}) -> g(c_{1}, c_{2}, ..., c_{i})]))\n",
       "   core type: Lambda\n",
       "   parameters: 8\\n   body: 9\n",
       "7. NaturalPos\n",
       "   core type: Literal\n",
       "   sub-expressions: \n",
       "8. (f, g)\n",
       "   core type: ExprTuple\n",
       "   sub-expressions: 31, 32\n",
       "9. [forall_{a_{1}, a_{2}, ..., a_{i}} (f(a_{1}, a_{2}, ..., a_{i}) = g(a_{1}, a_{2}, ..., a_{i}))] =>  \\\\ ([(b_{1}, b_{2}, ..., b_{i}) -> f(b_{1}, b_{2}, ..., b_{i})] =  \\\\ [(c_{1}, c_{2}, ..., c_{i}) -> g(c_{1}, c_{2}, ..., c_{i})])\n",
       "   core type: Operation\n",
       "   operator: 10\n",
       "   operands: 11\n",
       "10. =>\n",
       "    core type: Literal\n",
       "    sub-expressions: \n",
       "11. (forall_{a_{1}, a_{2}, ..., a_{i}} (f(a_{1}, a_{2}, ..., a_{i}) = g(a_{1}, a_{2}, ..., a_{i})), [(b_{1}, b_{2}, ..., b_{i}) -> f(b_{1}, b_{2}, ..., b_{i})] =  \\\\ [(c_{1}, c_{2}, ..., c_{i}) -> g(c_{1}, c_{2}, ..., c_{i})])\n",
       "    core type: ExprTuple\n",
       "    sub-expressions: 12, 13\n",
       "12. forall_{a_{1}, a_{2}, ..., a_{i}} (f(a_{1}, a_{2}, ..., a_{i}) = g(a_{1}, a_{2}, ..., a_{i}))\n",
       "    core type: Operation\n",
       "    operator: 14\n",
       "    operand: 17\n",
       "13. [(b_{1}, b_{2}, ..., b_{i}) -> f(b_{1}, b_{2}, ..., b_{i})] =  \\\\ [(c_{1}, c_{2}, ..., c_{i}) -> g(c_{1}, c_{2}, ..., c_{i})]\n",
       "    core type: Operation\n",
       "    operator: 23\n",
       "    operands: 16\n",
       "14. forall\n",
       "    core type: Literal\n",
       "    sub-expressions: \n",
       "15. ((a_{1}, a_{2}, ..., a_{i}) -> (f(a_{1}, a_{2}, ..., a_{i}) = g(a_{1}, a_{2}, ..., a_{i})))\n",
       "    core type: ExprTuple\n",
       "    sub-expressions: 17\n",
       "16. ((b_{1}, b_{2}, ..., b_{i}) -> f(b_{1}, b_{2}, ..., b_{i}), (c_{1}, c_{2}, ..., c_{i}) -> g(c_{1}, c_{2}, ..., c_{i}))\n",
       "    core type: ExprTuple\n",
       "    sub-expressions: 18, 19\n",
       "17. (a_{1}, a_{2}, ..., a_{i}) -> (f(a_{1}, a_{2}, ..., a_{i}) = g(a_{1}, a_{2}, ..., a_{i}))\n",
       "    core type: Lambda\n",
       "    parameters: 33\\n    body: 20\n",
       "18. (b_{1}, b_{2}, ..., b_{i}) -> f(b_{1}, b_{2}, ..., b_{i})\n",
       "    core type: Lambda\n",
       "    parameters: 25\\n    body: 21\n",
       "19. (c_{1}, c_{2}, ..., c_{i}) -> g(c_{1}, c_{2}, ..., c_{i})\n",
       "    core type: Lambda\n",
       "    parameters: 26\\n    body: 22\n",
       "20. f(a_{1}, a_{2}, ..., a_{i}) = g(a_{1}, a_{2}, ..., a_{i})\n",
       "    core type: Operation\n",
       "    operator: 23\n",
       "    operands: 24\n",
       "21. f(b_{1}, b_{2}, ..., b_{i})\n",
       "    core type: Operation\n",
       "    operator: 31\n",
       "    operands: 25\n",
       "22. g(c_{1}, c_{2}, ..., c_{i})\n",
       "    core type: Operation\n",
       "    operator: 32\n",
       "    operands: 26\n",
       "23. =\n",
       "    core type: Literal\n",
       "    sub-expressions: \n",
       "24. (f(a_{1}, a_{2}, ..., a_{i}), g(a_{1}, a_{2}, ..., a_{i}))\n",
       "    core type: ExprTuple\n",
       "    sub-expressions: 27, 28\n",
       "25. (b_{1}, b_{2}, ..., b_{i})\n",
       "    core type: ExprTuple\n",
       "    sub-expressions: 29\n",
       "26. (c_{1}, c_{2}, ..., c_{i})\n",
       "    core type: ExprTuple\n",
       "    sub-expressions: 30\n",
       "27. f(a_{1}, a_{2}, ..., a_{i})\n",
       "    core type: Operation\n",
       "    operator: 31\n",
       "    operands: 33\n",
       "28. g(a_{1}, a_{2}, ..., a_{i})\n",
       "    core type: Operation\n",
       "    operator: 32\n",
       "    operands: 33\n",
       "29. b_{1}, b_{2}, ..., b_{i}\n",
       "    core type: ExprRange\n",
       "    lambda_map: 34\n",
       "    start_index: 40\n",
       "    end_index: 41\n",
       "30. c_{1}, c_{2}, ..., c_{i}\n",
       "    core type: ExprRange\n",
       "    lambda_map: 35\n",
       "    start_index: 40\n",
       "    end_index: 41\n",
       "31. f\n",
       "    core type: Variable\n",
       "    sub-expressions: \n",
       "32. g\n",
       "    core type: Variable\n",
       "    sub-expressions: \n",
       "33. (a_{1}, a_{2}, ..., a_{i})\n",
       "    core type: ExprTuple\n",
       "    sub-expressions: 36\n",
       "34. _a -> b_{_a}\n",
       "    core type: Lambda\n",
       "    parameter: 47\n",
       "    body: 37\n",
       "35. _a -> c_{_a}\n",
       "    core type: Lambda\n",
       "    parameter: 47\n",
       "    body: 38\n",
       "36. a_{1}, a_{2}, ..., a_{i}\n",
       "    core type: ExprRange\n",
       "    lambda_map: 39\n",
       "    start_index: 40\n",
       "    end_index: 41\n",
       "37. b_{_a}\n",
       "    core type: IndexedVar\n",
       "variable: 42\n",
       "index: 47\n",
       "38. c_{_a}\n",
       "    core type: IndexedVar\n",
       "variable: 43\n",
       "index: 47\n",
       "39. _a -> a_{_a}\n",
       "    core type: Lambda\n",
       "    parameter: 47\n",
       "    body: 44\n",
       "40. 1\n",
       "    core type: Literal\n",
       "    sub-expressions: \n",
       "41. i\n",
       "    core type: Variable\n",
       "    sub-expressions: \n",
       "42. b\n",
       "    core type: Variable\n",
       "    sub-expressions: \n",
       "43. c\n",
       "    core type: Variable\n",
       "    sub-expressions: \n",
       "44. a_{_a}\n",
       "    core type: IndexedVar\n",
       "variable: 45\n",
       "index: 47\n",
       "45. a\n",
       "    core type: Variable\n",
       "    sub-expressions: \n",
       "46. (_a)\n",
       "    core type: ExprTuple\n",
       "    sub-expressions: 47\n",
       "47. _a\n",
       "    core type: Variable\n",
       "    sub-expressions: "
      ]
     },
     "metadata": {},
     "output_type": "display_data"
    }
   ],
   "source": [
    "# display the expression information\n",
    "stored_expr.expr_info()"
   ]
  },
  {
   "cell_type": "code",
   "execution_count": null,
   "metadata": {},
   "outputs": [],
   "source": []
  }
 ],
 "metadata": {
  "kernelspec": {
   "display_name": "Python 3",
   "language": "python",
   "name": "python3"
  }
 },
 "nbformat": 4,
 "nbformat_minor": 0
}