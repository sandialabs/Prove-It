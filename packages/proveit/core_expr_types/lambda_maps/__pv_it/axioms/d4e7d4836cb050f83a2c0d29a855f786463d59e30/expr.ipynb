{
 "cells": [
  {
   "cell_type": "markdown",
   "metadata": {},
   "source": [
    "Expression of type <a class=\"ProveItLink\" href=\"../../../../../../../doc/html/api/proveit.logic.Forall.html\">Forall</a>\n",
    "=======================\n",
    "# from the theory of <a class=\"ProveItLink\" href=\"../../../_theory_nbs_/theory.ipynb\">proveit.core_expr_types.lambda_maps</a>"
   ]
  },
  {
   "cell_type": "code",
   "execution_count": 1,
   "metadata": {},
   "outputs": [],
   "source": [
    "import proveit\n",
    "# Automation is not needed when building an expression:\n",
    "proveit.defaults.automation = False # This will speed things up.\n",
    "proveit.defaults.inline_pngs = False # Makes files smaller.\n",
    "%load_expr # Load the stored expression as 'stored_expr'\n",
    "# import Expression classes needed to build the expression\n",
    "from proveit import Lambda, f, g\n",
    "from proveit.core_expr_types import a_1_to_i, b_1_to_i, c_1_to_i, f__a_1_to_i, f__b_1_to_i, g__a_1_to_i, g__c_1_to_i\n",
    "from proveit.logic import Equals, Forall, Implies"
   ]
  },
  {
   "cell_type": "code",
   "execution_count": 2,
   "metadata": {},
   "outputs": [
    {
     "data": {
      "text/html": [
       "<strong id=\"expr\">expr:</strong> <a class=\"ProveItLink\" href=\"expr.ipynb\"><img src=\"expr.png\" style=\"display:inline;vertical-align:middle;\" /></a><br>"
      ],
      "text/plain": [
       "<IPython.core.display.HTML object>"
      ]
     },
     "metadata": {},
     "output_type": "display_data"
    }
   ],
   "source": [
    "# build up the expression from sub-expressions\n",
    "expr = Forall(instance_param_or_params = [f, g], instance_expr = Implies(Forall(instance_param_or_params = [a_1_to_i], instance_expr = Equals(f__a_1_to_i, g__a_1_to_i)), Equals(Lambda([b_1_to_i], f__b_1_to_i), Lambda([c_1_to_i], g__c_1_to_i)).with_wrapping_at(2)).with_wrapping_at(2))"
   ]
  },
  {
   "cell_type": "code",
   "execution_count": 3,
   "metadata": {},
   "outputs": [
    {
     "name": "stdout",
     "output_type": "stream",
     "text": [
      "Passed sanity check: expr matches stored_expr\n"
     ]
    }
   ],
   "source": [
    "# check that the built expression is the same as the stored expression\n",
    "assert expr == stored_expr\n",
    "assert expr._style_id == stored_expr._style_id\n",
    "print(\"Passed sanity check: expr matches stored_expr\")"
   ]
  },
  {
   "cell_type": "code",
   "execution_count": 4,
   "metadata": {},
   "outputs": [
    {
     "name": "stdout",
     "output_type": "stream",
     "text": [
      "\\forall_{f, g}~\\left(\\begin{array}{c} \\begin{array}{l} \\left[\\forall_{a_{1}, a_{2}, \\ldots, a_{i}}~\\left(f\\left(a_{1}, a_{2}, \\ldots, a_{i}\\right) = g\\left(a_{1}, a_{2}, \\ldots, a_{i}\\right)\\right)\\right] \\Rightarrow  \\\\ \\left(\\begin{array}{c} \\begin{array}{l} \\left[\\left(b_{1}, b_{2}, \\ldots, b_{i}\\right) \\mapsto f\\left(b_{1}, b_{2}, \\ldots, b_{i}\\right)\\right] =  \\\\ \\left[\\left(c_{1}, c_{2}, \\ldots, c_{i}\\right) \\mapsto g\\left(c_{1}, c_{2}, \\ldots, c_{i}\\right)\\right] \\end{array} \\end{array}\\right) \\end{array} \\end{array}\\right)\n"
     ]
    }
   ],
   "source": [
    "# Show the LaTeX representation of the expression for convenience if you need it.\n",
    "print(stored_expr.latex())"
   ]
  },
  {
   "cell_type": "code",
   "execution_count": 5,
   "metadata": {},
   "outputs": [
    {
     "data": {
      "text/html": [
       "<table>\n",
       "<tr><th>name</th><th>description</th><th>default</th><th>current value</th><th>related methods</th></tr><tr><td>with_wrapping</td><td>If 'True', wrap the Expression after the parameters</td><td>None</td><td>None/False</td><td>('with_wrapping',)</td></tr>\n",
       "<tr><td>condition_wrapping</td><td>Wrap 'before' or 'after' the condition (or None).</td><td>None</td><td>None/False</td><td>('with_wrap_after_condition', 'with_wrap_before_condition')</td></tr>\n",
       "<tr><td>wrap_params</td><td>If 'True', wraps every two parameters AND wraps the Expression after the parameters</td><td>None</td><td>None/False</td><td>('with_params',)</td></tr>\n",
       "<tr><td>justification</td><td>justify to the 'left', 'center', or 'right' in the array cells</td><td>center</td><td>center</td><td>('with_justification',)</td></tr>\n",
       "</table>\n"
      ],
      "text/plain": [
       "style name: with_wrapping\n",
       "description: If 'True', wrap the Expression after the parameters\n",
       "default: None\n",
       "current value: None/False\n",
       "related methods: ('with_wrapping',)\n",
       "style name: condition_wrapping\n",
       "description: Wrap 'before' or 'after' the condition (or None).\n",
       "default: None\n",
       "current value: None/False\n",
       "related methods: ('with_wrap_after_condition', 'with_wrap_before_condition')\n",
       "style name: wrap_params\n",
       "description: If 'True', wraps every two parameters AND wraps the Expression after the parameters\n",
       "default: None\n",
       "current value: None/False\n",
       "related methods: ('with_params',)\n",
       "style name: justification\n",
       "description: justify to the 'left', 'center', or 'right' in the array cells\n",
       "default: center\n",
       "current value: center\n",
       "related methods: ('with_justification',)"
      ]
     },
     "metadata": {},
     "output_type": "display_data"
    }
   ],
   "source": [
    "stored_expr.style_options()"
   ]
  },
  {
   "cell_type": "code",
   "execution_count": 6,
   "metadata": {},
   "outputs": [
    {
     "data": {
      "text/html": [
       "<table><tr><th>&nbsp;</th><th>core type</th><th>sub-expressions</th><th>expression</th></tr>\n",
       "<tr><td>0</td><td>Operation</td><td>operator:&nbsp;9<br>operand:&nbsp;2<br></td><td><a class=\"ProveItLink\" href=\"expr.ipynb\"><img src=\"expr.png\" style=\"display:inline;vertical-align:middle;\" /></a></td></tr>\n",
       "<tr><td>1</td><td>ExprTuple</td><td>2</td><td><a class=\"ProveItLink\" href=\"../1a16991839ff9e2b3cf448f781a4b25f07b782100/expr.ipynb\"><img src=\"../1a16991839ff9e2b3cf448f781a4b25f07b782100/expr.png\" style=\"display:inline;vertical-align:middle;\" /></a></td></tr>\n",
       "<tr><td>2</td><td>Lambda</td><td>parameters:&nbsp;3<br>body:&nbsp;4<br></td><td><a class=\"ProveItLink\" href=\"../8c33b1eaa59972da5cce750d6be5173aa3a460fe0/expr.ipynb\"><img src=\"../8c33b1eaa59972da5cce750d6be5173aa3a460fe0/expr.png\" style=\"display:inline;vertical-align:middle;\" /></a></td></tr>\n",
       "<tr><td>3</td><td>ExprTuple</td><td>26, 27</td><td><a class=\"ProveItLink\" href=\"../2c954f158acc6105edefb51b37f61ee4473f2f420/expr.ipynb\"><img src=\"../2c954f158acc6105edefb51b37f61ee4473f2f420/expr.png\" style=\"display:inline;vertical-align:middle;\" /></a></td></tr>\n",
       "<tr><td>4</td><td>Operation</td><td>operator:&nbsp;5<br>operands:&nbsp;6<br></td><td><a class=\"ProveItLink\" href=\"../c9192623466361c2f4ac88d6e09a42c593ec549c0/expr.ipynb\"><img src=\"../c9192623466361c2f4ac88d6e09a42c593ec549c0/expr.png\" style=\"display:inline;vertical-align:middle;\" /></a></td></tr>\n",
       "<tr><td>5</td><td>Literal</td><td></td><td><a class=\"ProveItLink\" href=\"../../../../../logic/booleans/implication/__pv_it/common/02bdb382575728da8cdbaed545b9096ea7a1bd5b0/expr.ipynb\"><img src=\"../../../../../logic/booleans/implication/__pv_it/common/02bdb382575728da8cdbaed545b9096ea7a1bd5b0/expr.png\" style=\"display:inline;vertical-align:middle;\" /></a></td></tr>\n",
       "<tr><td>6</td><td>ExprTuple</td><td>7, 8</td><td><a class=\"ProveItLink\" href=\"../a89659d92945fccef9acfbb4ecf31d33af76a0ca0/expr.ipynb\"><img src=\"../a89659d92945fccef9acfbb4ecf31d33af76a0ca0/expr.png\" style=\"display:inline;vertical-align:middle;\" /></a></td></tr>\n",
       "<tr><td>7</td><td>Operation</td><td>operator:&nbsp;9<br>operand:&nbsp;12<br></td><td><a class=\"ProveItLink\" href=\"../0872e2daad2d93d4a5d8ad036685f9ab66f7d2070/expr.ipynb\"><img src=\"../0872e2daad2d93d4a5d8ad036685f9ab66f7d2070/expr.png\" style=\"display:inline;vertical-align:middle;\" /></a></td></tr>\n",
       "<tr><td>8</td><td>Operation</td><td>operator:&nbsp;18<br>operands:&nbsp;11<br></td><td><a class=\"ProveItLink\" href=\"../d5bea4429655fb537e98b4a96240000f356e0d330/expr.ipynb\"><img src=\"../d5bea4429655fb537e98b4a96240000f356e0d330/expr.png\" style=\"display:inline;vertical-align:middle;\" /></a></td></tr>\n",
       "<tr><td>9</td><td>Literal</td><td></td><td><a class=\"ProveItLink\" href=\"../../../../../logic/booleans/quantification/universality/__pv_it/common/083d2baa0b8ecab1d230f9ec29a15aa1355809fb0/expr.ipynb\"><img src=\"../../../../../logic/booleans/quantification/universality/__pv_it/common/083d2baa0b8ecab1d230f9ec29a15aa1355809fb0/expr.png\" style=\"display:inline;vertical-align:middle;\" /></a></td></tr>\n",
       "<tr><td>10</td><td>ExprTuple</td><td>12</td><td><a class=\"ProveItLink\" href=\"../d966b2bebe509ee2df520b76603f276ad08e833d0/expr.ipynb\"><img src=\"../d966b2bebe509ee2df520b76603f276ad08e833d0/expr.png\" style=\"display:inline;vertical-align:middle;\" /></a></td></tr>\n",
       "<tr><td>11</td><td>ExprTuple</td><td>13, 14</td><td><a class=\"ProveItLink\" href=\"../1ced963b3d14d544633b72ea7714cfdac899a5370/expr.ipynb\"><img src=\"../1ced963b3d14d544633b72ea7714cfdac899a5370/expr.png\" style=\"display:inline;vertical-align:middle;\" /></a></td></tr>\n",
       "<tr><td>12</td><td>Lambda</td><td>parameters:&nbsp;28<br>body:&nbsp;15<br></td><td><a class=\"ProveItLink\" href=\"../c8d719f26b064c28b0b1bb03744c6c632b85971a0/expr.ipynb\"><img src=\"../c8d719f26b064c28b0b1bb03744c6c632b85971a0/expr.png\" style=\"display:inline;vertical-align:middle;\" /></a></td></tr>\n",
       "<tr><td>13</td><td>Lambda</td><td>parameters:&nbsp;20<br>body:&nbsp;16<br></td><td><a class=\"ProveItLink\" href=\"../8e1c6e0787b1de478d9259c1c1470e5715b60b970/expr.ipynb\"><img src=\"../8e1c6e0787b1de478d9259c1c1470e5715b60b970/expr.png\" style=\"display:inline;vertical-align:middle;\" /></a></td></tr>\n",
       "<tr><td>14</td><td>Lambda</td><td>parameters:&nbsp;21<br>body:&nbsp;17<br></td><td><a class=\"ProveItLink\" href=\"../69caa6dfedd6265bf1dab6e462649347279ced7f0/expr.ipynb\"><img src=\"../69caa6dfedd6265bf1dab6e462649347279ced7f0/expr.png\" style=\"display:inline;vertical-align:middle;\" /></a></td></tr>\n",
       "<tr><td>15</td><td>Operation</td><td>operator:&nbsp;18<br>operands:&nbsp;19<br></td><td><a class=\"ProveItLink\" href=\"../2472b8e03c7a39daa1d1d578b1ef99811a0040ba0/expr.ipynb\"><img src=\"../2472b8e03c7a39daa1d1d578b1ef99811a0040ba0/expr.png\" style=\"display:inline;vertical-align:middle;\" /></a></td></tr>\n",
       "<tr><td>16</td><td>Operation</td><td>operator:&nbsp;26<br>operands:&nbsp;20<br></td><td><a class=\"ProveItLink\" href=\"../../../../__pv_it/common/d11e64ac94a9cfc8fc504686da3edbc6c0900f2f0/expr.ipynb\"><img src=\"../../../../__pv_it/common/d11e64ac94a9cfc8fc504686da3edbc6c0900f2f0/expr.png\" style=\"display:inline;vertical-align:middle;\" /></a></td></tr>\n",
       "<tr><td>17</td><td>Operation</td><td>operator:&nbsp;27<br>operands:&nbsp;21<br></td><td><a class=\"ProveItLink\" href=\"../../../../__pv_it/common/e03d0bd72023e90a1fd531ac37255895f1952b270/expr.ipynb\"><img src=\"../../../../__pv_it/common/e03d0bd72023e90a1fd531ac37255895f1952b270/expr.png\" style=\"display:inline;vertical-align:middle;\" /></a></td></tr>\n",
       "<tr><td>18</td><td>Literal</td><td></td><td><a class=\"ProveItLink\" href=\"../../../../../logic/equality/__pv_it/common/fb96dc12b2aa8801dda64d0132b396c63d1502bb0/expr.ipynb\"><img src=\"../../../../../logic/equality/__pv_it/common/fb96dc12b2aa8801dda64d0132b396c63d1502bb0/expr.png\" style=\"display:inline;vertical-align:middle;\" /></a></td></tr>\n",
       "<tr><td>19</td><td>ExprTuple</td><td>22, 23</td><td><a class=\"ProveItLink\" href=\"../22f2622789629b292e403ce2b34c409239cc71ac0/expr.ipynb\"><img src=\"../22f2622789629b292e403ce2b34c409239cc71ac0/expr.png\" style=\"display:inline;vertical-align:middle;\" /></a></td></tr>\n",
       "<tr><td>20</td><td>ExprTuple</td><td>24</td><td><a class=\"ProveItLink\" href=\"../../../../__pv_it/common/cbb267d411548f30abbb41bd891bd261776fba3d0/expr.ipynb\"><img src=\"../../../../__pv_it/common/cbb267d411548f30abbb41bd891bd261776fba3d0/expr.png\" style=\"display:inline;vertical-align:middle;\" /></a></td></tr>\n",
       "<tr><td>21</td><td>ExprTuple</td><td>25</td><td><a class=\"ProveItLink\" href=\"../../../../__pv_it/common/cdb720a1a4f317f41a3f5ffdcb4d8477c115dfae0/expr.ipynb\"><img src=\"../../../../__pv_it/common/cdb720a1a4f317f41a3f5ffdcb4d8477c115dfae0/expr.png\" style=\"display:inline;vertical-align:middle;\" /></a></td></tr>\n",
       "<tr><td>22</td><td>Operation</td><td>operator:&nbsp;26<br>operands:&nbsp;28<br></td><td><a class=\"ProveItLink\" href=\"../../../../__pv_it/common/e3365f75bd57fd1ba0f454f5bdb756ddb29fc4e20/expr.ipynb\"><img src=\"../../../../__pv_it/common/e3365f75bd57fd1ba0f454f5bdb756ddb29fc4e20/expr.png\" style=\"display:inline;vertical-align:middle;\" /></a></td></tr>\n",
       "<tr><td>23</td><td>Operation</td><td>operator:&nbsp;27<br>operands:&nbsp;28<br></td><td><a class=\"ProveItLink\" href=\"../../../../__pv_it/common/91df282e531dc076061551dc17931f746f1b916a0/expr.ipynb\"><img src=\"../../../../__pv_it/common/91df282e531dc076061551dc17931f746f1b916a0/expr.png\" style=\"display:inline;vertical-align:middle;\" /></a></td></tr>\n",
       "<tr><td>24</td><td>ExprRange</td><td>lambda_map:&nbsp;29<br>start_index:&nbsp;35<br>end_index:&nbsp;36<br></td><td><a class=\"ProveItLink\" href=\"../../../../__pv_it/common/6614125435656057a807c01b2703aec599ab667b0/expr.ipynb\"><img src=\"../../../../__pv_it/common/6614125435656057a807c01b2703aec599ab667b0/expr.png\" style=\"display:inline;vertical-align:middle;\" /></a></td></tr>\n",
       "<tr><td>25</td><td>ExprRange</td><td>lambda_map:&nbsp;30<br>start_index:&nbsp;35<br>end_index:&nbsp;36<br></td><td><a class=\"ProveItLink\" href=\"../../../../__pv_it/common/7f544f12ad63e3712bd60e5a54402b08e8202c760/expr.ipynb\"><img src=\"../../../../__pv_it/common/7f544f12ad63e3712bd60e5a54402b08e8202c760/expr.png\" style=\"display:inline;vertical-align:middle;\" /></a></td></tr>\n",
       "<tr><td>26</td><td>Variable</td><td></td><td><a class=\"ProveItLink\" href=\"../../../../../__pv_it/common/01b6dbb444a31fc38af4c2379badef6c75b363710/expr.ipynb\"><img src=\"../../../../../__pv_it/common/01b6dbb444a31fc38af4c2379badef6c75b363710/expr.png\" style=\"display:inline;vertical-align:middle;\" /></a></td></tr>\n",
       "<tr><td>27</td><td>Variable</td><td></td><td><a class=\"ProveItLink\" href=\"../../../../../__pv_it/common/96ac097ea7ee432328a5e933062d0ef407701bf40/expr.ipynb\"><img src=\"../../../../../__pv_it/common/96ac097ea7ee432328a5e933062d0ef407701bf40/expr.png\" style=\"display:inline;vertical-align:middle;\" /></a></td></tr>\n",
       "<tr><td>28</td><td>ExprTuple</td><td>31</td><td><a class=\"ProveItLink\" href=\"../../../../__pv_it/common/acc7ecd6d6e1490d943c617eb5dc8d91eb0774310/expr.ipynb\"><img src=\"../../../../__pv_it/common/acc7ecd6d6e1490d943c617eb5dc8d91eb0774310/expr.png\" style=\"display:inline;vertical-align:middle;\" /></a></td></tr>\n",
       "<tr><td>29</td><td>Lambda</td><td>parameter:&nbsp;42<br>body:&nbsp;32<br></td><td><a class=\"ProveItLink\" href=\"../../../../__pv_it/common/d763764ede9c88a33f4b750791da02d1a21cb6820/expr.ipynb\"><img src=\"../../../../__pv_it/common/d763764ede9c88a33f4b750791da02d1a21cb6820/expr.png\" style=\"display:inline;vertical-align:middle;\" /></a></td></tr>\n",
       "<tr><td>30</td><td>Lambda</td><td>parameter:&nbsp;42<br>body:&nbsp;33<br></td><td><a class=\"ProveItLink\" href=\"../../../../__pv_it/common/89a29b5b02ce6c37577f6352274a3d503dcdde3e0/expr.ipynb\"><img src=\"../../../../__pv_it/common/89a29b5b02ce6c37577f6352274a3d503dcdde3e0/expr.png\" style=\"display:inline;vertical-align:middle;\" /></a></td></tr>\n",
       "<tr><td>31</td><td>ExprRange</td><td>lambda_map:&nbsp;34<br>start_index:&nbsp;35<br>end_index:&nbsp;36<br></td><td><a class=\"ProveItLink\" href=\"../../../../__pv_it/common/7230c683fcd56948c826ac1be71b01b6fb2913950/expr.ipynb\"><img src=\"../../../../__pv_it/common/7230c683fcd56948c826ac1be71b01b6fb2913950/expr.png\" style=\"display:inline;vertical-align:middle;\" /></a></td></tr>\n",
       "<tr><td>32</td><td>IndexedVar</td><td>variable:&nbsp;37<br>index:&nbsp;42<br></td><td><a class=\"ProveItLink\" href=\"../../../../__pv_it/common/8542342c36565a593724a99f9c08d995c1c21af20/expr.ipynb\"><img src=\"../../../../__pv_it/common/8542342c36565a593724a99f9c08d995c1c21af20/expr.png\" style=\"display:inline;vertical-align:middle;\" /></a></td></tr>\n",
       "<tr><td>33</td><td>IndexedVar</td><td>variable:&nbsp;38<br>index:&nbsp;42<br></td><td><a class=\"ProveItLink\" href=\"../../../../__pv_it/common/8ffbefe913f7c934b2e3a2a12315d5900822d9d00/expr.ipynb\"><img src=\"../../../../__pv_it/common/8ffbefe913f7c934b2e3a2a12315d5900822d9d00/expr.png\" style=\"display:inline;vertical-align:middle;\" /></a></td></tr>\n",
       "<tr><td>34</td><td>Lambda</td><td>parameter:&nbsp;42<br>body:&nbsp;39<br></td><td><a class=\"ProveItLink\" href=\"../../../../__pv_it/common/1527ad383e12f9c6ed6b371c9a7dd1892d80da1b0/expr.ipynb\"><img src=\"../../../../__pv_it/common/1527ad383e12f9c6ed6b371c9a7dd1892d80da1b0/expr.png\" style=\"display:inline;vertical-align:middle;\" /></a></td></tr>\n",
       "<tr><td>35</td><td>Literal</td><td></td><td><a class=\"ProveItLink\" href=\"../../../../../numbers/numerals/__pv_it/common/682157d4892d216d9e5626ed533aff9b56b9506e0/expr.ipynb\"><img src=\"../../../../../numbers/numerals/__pv_it/common/682157d4892d216d9e5626ed533aff9b56b9506e0/expr.png\" style=\"display:inline;vertical-align:middle;\" /></a></td></tr>\n",
       "<tr><td>36</td><td>Variable</td><td></td><td><a class=\"ProveItLink\" href=\"../../../../../__pv_it/common/ae955345c83abf786c3aff8681cd5465beae262d0/expr.ipynb\"><img src=\"../../../../../__pv_it/common/ae955345c83abf786c3aff8681cd5465beae262d0/expr.png\" style=\"display:inline;vertical-align:middle;\" /></a></td></tr>\n",
       "<tr><td>37</td><td>Variable</td><td></td><td><a class=\"ProveItLink\" href=\"../../../../../__pv_it/common/195236b98c6c564a75b5dbada74b173bc52d5c3e0/expr.ipynb\"><img src=\"../../../../../__pv_it/common/195236b98c6c564a75b5dbada74b173bc52d5c3e0/expr.png\" style=\"display:inline;vertical-align:middle;\" /></a></td></tr>\n",
       "<tr><td>38</td><td>Variable</td><td></td><td><a class=\"ProveItLink\" href=\"../../../../../__pv_it/common/ceef4280a2f1cc604b455b54e735507244cc62cd0/expr.ipynb\"><img src=\"../../../../../__pv_it/common/ceef4280a2f1cc604b455b54e735507244cc62cd0/expr.png\" style=\"display:inline;vertical-align:middle;\" /></a></td></tr>\n",
       "<tr><td>39</td><td>IndexedVar</td><td>variable:&nbsp;40<br>index:&nbsp;42<br></td><td><a class=\"ProveItLink\" href=\"../../../../__pv_it/common/3a62c13e156d62d52fe585fa37cc2172fcf685260/expr.ipynb\"><img src=\"../../../../__pv_it/common/3a62c13e156d62d52fe585fa37cc2172fcf685260/expr.png\" style=\"display:inline;vertical-align:middle;\" /></a></td></tr>\n",
       "<tr><td>40</td><td>Variable</td><td></td><td><a class=\"ProveItLink\" href=\"../../../../../__pv_it/common/c06c606ec12678c58933ac85412ecadc2ae28be60/expr.ipynb\"><img src=\"../../../../../__pv_it/common/c06c606ec12678c58933ac85412ecadc2ae28be60/expr.png\" style=\"display:inline;vertical-align:middle;\" /></a></td></tr>\n",
       "<tr><td>41</td><td>ExprTuple</td><td>42</td><td><a class=\"ProveItLink\" href=\"../../../../__pv_it/common/4b0dd6be36d76552eda6a95d5b4a27f5a5b62f900/expr.ipynb\"><img src=\"../../../../__pv_it/common/4b0dd6be36d76552eda6a95d5b4a27f5a5b62f900/expr.png\" style=\"display:inline;vertical-align:middle;\" /></a></td></tr>\n",
       "<tr><td>42</td><td>Variable</td><td></td><td><a class=\"ProveItLink\" href=\"../../../../__pv_it/common/006c465e50948aa2b52285e2de47974f741255cc0/expr.ipynb\"><img src=\"../../../../__pv_it/common/006c465e50948aa2b52285e2de47974f741255cc0/expr.png\" style=\"display:inline;vertical-align:middle;\" /></a></td></tr>\n",
       "</table>\n"
      ],
      "text/plain": [
       "0. forall_{f, g} ([forall_{a_{1}, a_{2}, ..., a_{i}} (f(a_{1}, a_{2}, ..., a_{i}) = g(a_{1}, a_{2}, ..., a_{i}))] =>  \\\\ ([(b_{1}, b_{2}, ..., b_{i}) -> f(b_{1}, b_{2}, ..., b_{i})] =  \\\\ [(c_{1}, c_{2}, ..., c_{i}) -> g(c_{1}, c_{2}, ..., c_{i})]))\n",
       "   core type: Operation\n",
       "   operator: 9\n",
       "   operand: 2\n",
       "1. ((f, g) -> ([forall_{a_{1}, a_{2}, ..., a_{i}} (f(a_{1}, a_{2}, ..., a_{i}) = g(a_{1}, a_{2}, ..., a_{i}))] =>  \\\\ ([(b_{1}, b_{2}, ..., b_{i}) -> f(b_{1}, b_{2}, ..., b_{i})] =  \\\\ [(c_{1}, c_{2}, ..., c_{i}) -> g(c_{1}, c_{2}, ..., c_{i})])))\n",
       "   core type: ExprTuple\n",
       "   sub-expressions: 2\n",
       "2. (f, g) -> ([forall_{a_{1}, a_{2}, ..., a_{i}} (f(a_{1}, a_{2}, ..., a_{i}) = g(a_{1}, a_{2}, ..., a_{i}))] =>  \\\\ ([(b_{1}, b_{2}, ..., b_{i}) -> f(b_{1}, b_{2}, ..., b_{i})] =  \\\\ [(c_{1}, c_{2}, ..., c_{i}) -> g(c_{1}, c_{2}, ..., c_{i})]))\n",
       "   core type: Lambda\n",
       "   parameters: 3\\n   body: 4\n",
       "3. (f, g)\n",
       "   core type: ExprTuple\n",
       "   sub-expressions: 26, 27\n",
       "4. [forall_{a_{1}, a_{2}, ..., a_{i}} (f(a_{1}, a_{2}, ..., a_{i}) = g(a_{1}, a_{2}, ..., a_{i}))] =>  \\\\ ([(b_{1}, b_{2}, ..., b_{i}) -> f(b_{1}, b_{2}, ..., b_{i})] =  \\\\ [(c_{1}, c_{2}, ..., c_{i}) -> g(c_{1}, c_{2}, ..., c_{i})])\n",
       "   core type: Operation\n",
       "   operator: 5\n",
       "   operands: 6\n",
       "5. =>\n",
       "   core type: Literal\n",
       "   sub-expressions: \n",
       "6. (forall_{a_{1}, a_{2}, ..., a_{i}} (f(a_{1}, a_{2}, ..., a_{i}) = g(a_{1}, a_{2}, ..., a_{i})), [(b_{1}, b_{2}, ..., b_{i}) -> f(b_{1}, b_{2}, ..., b_{i})] =  \\\\ [(c_{1}, c_{2}, ..., c_{i}) -> g(c_{1}, c_{2}, ..., c_{i})])\n",
       "   core type: ExprTuple\n",
       "   sub-expressions: 7, 8\n",
       "7. forall_{a_{1}, a_{2}, ..., a_{i}} (f(a_{1}, a_{2}, ..., a_{i}) = g(a_{1}, a_{2}, ..., a_{i}))\n",
       "   core type: Operation\n",
       "   operator: 9\n",
       "   operand: 12\n",
       "8. [(b_{1}, b_{2}, ..., b_{i}) -> f(b_{1}, b_{2}, ..., b_{i})] =  \\\\ [(c_{1}, c_{2}, ..., c_{i}) -> g(c_{1}, c_{2}, ..., c_{i})]\n",
       "   core type: Operation\n",
       "   operator: 18\n",
       "   operands: 11\n",
       "9. forall\n",
       "   core type: Literal\n",
       "   sub-expressions: \n",
       "10. ((a_{1}, a_{2}, ..., a_{i}) -> (f(a_{1}, a_{2}, ..., a_{i}) = g(a_{1}, a_{2}, ..., a_{i})))\n",
       "    core type: ExprTuple\n",
       "    sub-expressions: 12\n",
       "11. ((b_{1}, b_{2}, ..., b_{i}) -> f(b_{1}, b_{2}, ..., b_{i}), (c_{1}, c_{2}, ..., c_{i}) -> g(c_{1}, c_{2}, ..., c_{i}))\n",
       "    core type: ExprTuple\n",
       "    sub-expressions: 13, 14\n",
       "12. (a_{1}, a_{2}, ..., a_{i}) -> (f(a_{1}, a_{2}, ..., a_{i}) = g(a_{1}, a_{2}, ..., a_{i}))\n",
       "    core type: Lambda\n",
       "    parameters: 28\\n    body: 15\n",
       "13. (b_{1}, b_{2}, ..., b_{i}) -> f(b_{1}, b_{2}, ..., b_{i})\n",
       "    core type: Lambda\n",
       "    parameters: 20\\n    body: 16\n",
       "14. (c_{1}, c_{2}, ..., c_{i}) -> g(c_{1}, c_{2}, ..., c_{i})\n",
       "    core type: Lambda\n",
       "    parameters: 21\\n    body: 17\n",
       "15. f(a_{1}, a_{2}, ..., a_{i}) = g(a_{1}, a_{2}, ..., a_{i})\n",
       "    core type: Operation\n",
       "    operator: 18\n",
       "    operands: 19\n",
       "16. f(b_{1}, b_{2}, ..., b_{i})\n",
       "    core type: Operation\n",
       "    operator: 26\n",
       "    operands: 20\n",
       "17. g(c_{1}, c_{2}, ..., c_{i})\n",
       "    core type: Operation\n",
       "    operator: 27\n",
       "    operands: 21\n",
       "18. =\n",
       "    core type: Literal\n",
       "    sub-expressions: \n",
       "19. (f(a_{1}, a_{2}, ..., a_{i}), g(a_{1}, a_{2}, ..., a_{i}))\n",
       "    core type: ExprTuple\n",
       "    sub-expressions: 22, 23\n",
       "20. (b_{1}, b_{2}, ..., b_{i})\n",
       "    core type: ExprTuple\n",
       "    sub-expressions: 24\n",
       "21. (c_{1}, c_{2}, ..., c_{i})\n",
       "    core type: ExprTuple\n",
       "    sub-expressions: 25\n",
       "22. f(a_{1}, a_{2}, ..., a_{i})\n",
       "    core type: Operation\n",
       "    operator: 26\n",
       "    operands: 28\n",
       "23. g(a_{1}, a_{2}, ..., a_{i})\n",
       "    core type: Operation\n",
       "    operator: 27\n",
       "    operands: 28\n",
       "24. b_{1}, b_{2}, ..., b_{i}\n",
       "    core type: ExprRange\n",
       "    lambda_map: 29\n",
       "    start_index: 35\n",
       "    end_index: 36\n",
       "25. c_{1}, c_{2}, ..., c_{i}\n",
       "    core type: ExprRange\n",
       "    lambda_map: 30\n",
       "    start_index: 35\n",
       "    end_index: 36\n",
       "26. f\n",
       "    core type: Variable\n",
       "    sub-expressions: \n",
       "27. g\n",
       "    core type: Variable\n",
       "    sub-expressions: \n",
       "28. (a_{1}, a_{2}, ..., a_{i})\n",
       "    core type: ExprTuple\n",
       "    sub-expressions: 31\n",
       "29. _a -> b_{_a}\n",
       "    core type: Lambda\n",
       "    parameter: 42\n",
       "    body: 32\n",
       "30. _a -> c_{_a}\n",
       "    core type: Lambda\n",
       "    parameter: 42\n",
       "    body: 33\n",
       "31. a_{1}, a_{2}, ..., a_{i}\n",
       "    core type: ExprRange\n",
       "    lambda_map: 34\n",
       "    start_index: 35\n",
       "    end_index: 36\n",
       "32. b_{_a}\n",
       "    core type: IndexedVar\n",
       "variable: 37\n",
       "index: 42\n",
       "33. c_{_a}\n",
       "    core type: IndexedVar\n",
       "variable: 38\n",
       "index: 42\n",
       "34. _a -> a_{_a}\n",
       "    core type: Lambda\n",
       "    parameter: 42\n",
       "    body: 39\n",
       "35. 1\n",
       "    core type: Literal\n",
       "    sub-expressions: \n",
       "36. i\n",
       "    core type: Variable\n",
       "    sub-expressions: \n",
       "37. b\n",
       "    core type: Variable\n",
       "    sub-expressions: \n",
       "38. c\n",
       "    core type: Variable\n",
       "    sub-expressions: \n",
       "39. a_{_a}\n",
       "    core type: IndexedVar\n",
       "variable: 40\n",
       "index: 42\n",
       "40. a\n",
       "    core type: Variable\n",
       "    sub-expressions: \n",
       "41. (_a)\n",
       "    core type: ExprTuple\n",
       "    sub-expressions: 42\n",
       "42. _a\n",
       "    core type: Variable\n",
       "    sub-expressions: "
      ]
     },
     "metadata": {},
     "output_type": "display_data"
    }
   ],
   "source": [
    "# display the expression information\n",
    "stored_expr.expr_info()"
   ]
  },
  {
   "cell_type": "code",
   "execution_count": null,
   "metadata": {},
   "outputs": [],
   "source": []
  }
 ],
 "metadata": {
  "kernelspec": {
   "display_name": "Python 3",
   "language": "python",
   "name": "python3"
  }
 },
 "nbformat": 4,
 "nbformat_minor": 0
}