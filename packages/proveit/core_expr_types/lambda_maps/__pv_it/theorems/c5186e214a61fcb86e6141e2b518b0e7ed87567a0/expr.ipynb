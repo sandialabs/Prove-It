{
 "cells": [
  {
   "cell_type": "markdown",
   "metadata": {},
   "source": [
    "Expression of type <a class=\"ProveItLink\" href=\"../../../../../../../doc/html/api/proveit.ExprTuple.html\">ExprTuple</a>\n",
    "=======================\n",
    "# from the theory of <a class=\"ProveItLink\" href=\"../../../_theory_nbs_/theory.ipynb\">proveit.core_expr_types.lambda_maps</a>"
   ]
  },
  {
   "cell_type": "code",
   "execution_count": 1,
   "metadata": {},
   "outputs": [],
   "source": [
    "import proveit\n",
    "# Automation is not needed when building an expression:\n",
    "proveit.defaults.automation = False # This will speed things up.\n",
    "proveit.defaults.inline_pngs = False # Makes files smaller.\n",
    "%load_expr # Load the stored expression as 'stored_expr'\n",
    "# import Expression classes needed to build the expression\n",
    "from proveit import Conditional, ExprTuple, Lambda, Q, f, g\n",
    "from proveit.core_expr_types import Q__a_1_to_i, Q__b_1_to_i, Q__c_1_to_i, a_1_to_i, b_1_to_i, c_1_to_i, f__a_1_to_i, f__b_1_to_i, g__a_1_to_i, g__c_1_to_i\n",
    "from proveit.logic import Equals, Forall, Implies"
   ]
  },
  {
   "cell_type": "code",
   "execution_count": 2,
   "metadata": {},
   "outputs": [
    {
     "data": {
      "text/html": [
       "<strong id=\"expr\">expr:</strong> <a class=\"ProveItLink\" href=\"expr.ipynb\"><img src=\"expr.png\" style=\"display:inline;vertical-align:middle;\" /></a><br>"
      ],
      "text/plain": [
       "<IPython.core.display.HTML object>"
      ]
     },
     "metadata": {},
     "output_type": "display_data"
    }
   ],
   "source": [
    "# build up the expression from sub-expressions\n",
    "expr = ExprTuple(Lambda([f, g, Q], Implies(Forall(instance_param_or_params = [a_1_to_i], instance_expr = Equals(f__a_1_to_i, g__a_1_to_i), condition = Q__a_1_to_i), Equals(Lambda([b_1_to_i], Conditional(f__b_1_to_i, Q__b_1_to_i)), Lambda([c_1_to_i], Conditional(g__c_1_to_i, Q__c_1_to_i))).with_wrapping_at(2)).with_wrapping_at(2)))"
   ]
  },
  {
   "cell_type": "code",
   "execution_count": 3,
   "metadata": {},
   "outputs": [
    {
     "name": "stdout",
     "output_type": "stream",
     "text": [
      "Passed sanity check: expr matches stored_expr\n"
     ]
    }
   ],
   "source": [
    "# check that the built expression is the same as the stored expression\n",
    "assert expr == stored_expr\n",
    "assert expr._style_id == stored_expr._style_id\n",
    "print(\"Passed sanity check: expr matches stored_expr\")"
   ]
  },
  {
   "cell_type": "code",
   "execution_count": 4,
   "metadata": {},
   "outputs": [
    {
     "name": "stdout",
     "output_type": "stream",
     "text": [
      "\\left(\\left(f, g, Q\\right) \\mapsto \\left(\\begin{array}{c} \\begin{array}{l} \\left[\\forall_{a_{1}, a_{2}, \\ldots, a_{i}~|~Q\\left(a_{1}, a_{2}, \\ldots, a_{i}\\right)}~\\left(f\\left(a_{1}, a_{2}, \\ldots, a_{i}\\right) = g\\left(a_{1}, a_{2}, \\ldots, a_{i}\\right)\\right)\\right] \\Rightarrow  \\\\ \\left(\\begin{array}{c} \\begin{array}{l} \\left[\\left(b_{1}, b_{2}, \\ldots, b_{i}\\right) \\mapsto \\left\\{f\\left(b_{1}, b_{2}, \\ldots, b_{i}\\right) \\textrm{ if } Q\\left(b_{1}, b_{2}, \\ldots, b_{i}\\right)\\right..\\right] =  \\\\ \\left[\\left(c_{1}, c_{2}, \\ldots, c_{i}\\right) \\mapsto \\left\\{g\\left(c_{1}, c_{2}, \\ldots, c_{i}\\right) \\textrm{ if } Q\\left(c_{1}, c_{2}, \\ldots, c_{i}\\right)\\right..\\right] \\end{array} \\end{array}\\right) \\end{array} \\end{array}\\right)\\right)\n"
     ]
    }
   ],
   "source": [
    "# Show the LaTeX representation of the expression for convenience if you need it.\n",
    "print(stored_expr.latex())"
   ]
  },
  {
   "cell_type": "code",
   "execution_count": 5,
   "metadata": {},
   "outputs": [
    {
     "data": {
      "text/html": [
       "no style options"
      ],
      "text/plain": [
       "no style options"
      ]
     },
     "metadata": {},
     "output_type": "display_data"
    }
   ],
   "source": [
    "stored_expr.style_options()"
   ]
  },
  {
   "cell_type": "code",
   "execution_count": 6,
   "metadata": {},
   "outputs": [
    {
     "data": {
      "text/html": [
       "<table><tr><th>&nbsp;</th><th>core type</th><th>sub-expressions</th><th>expression</th></tr>\n",
       "<tr><td>0</td><td>ExprTuple</td><td>1</td><td><a class=\"ProveItLink\" href=\"expr.ipynb\"><img src=\"expr.png\" style=\"display:inline;vertical-align:middle;\" /></a></td></tr>\n",
       "<tr><td>1</td><td>Lambda</td><td>parameters:&nbsp;2<br>body:&nbsp;3<br></td><td><a class=\"ProveItLink\" href=\"../f4d7232a17527abb56bd7911324570c330fd97d50/expr.ipynb\"><img src=\"../f4d7232a17527abb56bd7911324570c330fd97d50/expr.png\" style=\"display:inline;vertical-align:middle;\" /></a></td></tr>\n",
       "<tr><td>2</td><td>ExprTuple</td><td>32, 33, 26</td><td><a class=\"ProveItLink\" href=\"../ebb1f05d747197881d5be18ddeddf658d53f92630/expr.ipynb\"><img src=\"../ebb1f05d747197881d5be18ddeddf658d53f92630/expr.png\" style=\"display:inline;vertical-align:middle;\" /></a></td></tr>\n",
       "<tr><td>3</td><td>Operation</td><td>operator:&nbsp;4<br>operands:&nbsp;5<br></td><td><a class=\"ProveItLink\" href=\"../9183cdefacc827b1eb8eb856472df403d98657de0/expr.ipynb\"><img src=\"../9183cdefacc827b1eb8eb856472df403d98657de0/expr.png\" style=\"display:inline;vertical-align:middle;\" /></a></td></tr>\n",
       "<tr><td>4</td><td>Literal</td><td></td><td><a class=\"ProveItLink\" href=\"../../../../../logic/booleans/implication/__pv_it/common/02bdb382575728da8cdbaed545b9096ea7a1bd5b0/expr.ipynb\"><img src=\"../../../../../logic/booleans/implication/__pv_it/common/02bdb382575728da8cdbaed545b9096ea7a1bd5b0/expr.png\" style=\"display:inline;vertical-align:middle;\" /></a></td></tr>\n",
       "<tr><td>5</td><td>ExprTuple</td><td>6, 7</td><td><a class=\"ProveItLink\" href=\"../7b08887f335a78907e2704c07f554aaa812c815f0/expr.ipynb\"><img src=\"../7b08887f335a78907e2704c07f554aaa812c815f0/expr.png\" style=\"display:inline;vertical-align:middle;\" /></a></td></tr>\n",
       "<tr><td>6</td><td>Operation</td><td>operator:&nbsp;8<br>operand:&nbsp;11<br></td><td><a class=\"ProveItLink\" href=\"../634c809753c96fd32d92e6e51d71ed9ea9ad9d720/expr.ipynb\"><img src=\"../634c809753c96fd32d92e6e51d71ed9ea9ad9d720/expr.png\" style=\"display:inline;vertical-align:middle;\" /></a></td></tr>\n",
       "<tr><td>7</td><td>Operation</td><td>operator:&nbsp;23<br>operands:&nbsp;10<br></td><td><a class=\"ProveItLink\" href=\"../5a0a19b66a9e9456af1ece8c02aa788501f34b890/expr.ipynb\"><img src=\"../5a0a19b66a9e9456af1ece8c02aa788501f34b890/expr.png\" style=\"display:inline;vertical-align:middle;\" /></a></td></tr>\n",
       "<tr><td>8</td><td>Literal</td><td></td><td><a class=\"ProveItLink\" href=\"../../../../../logic/booleans/quantification/universality/__pv_it/common/083d2baa0b8ecab1d230f9ec29a15aa1355809fb0/expr.ipynb\"><img src=\"../../../../../logic/booleans/quantification/universality/__pv_it/common/083d2baa0b8ecab1d230f9ec29a15aa1355809fb0/expr.png\" style=\"display:inline;vertical-align:middle;\" /></a></td></tr>\n",
       "<tr><td>9</td><td>ExprTuple</td><td>11</td><td><a class=\"ProveItLink\" href=\"../f524a44c14faae00ad7d64c0c76553c07b1590b90/expr.ipynb\"><img src=\"../f524a44c14faae00ad7d64c0c76553c07b1590b90/expr.png\" style=\"display:inline;vertical-align:middle;\" /></a></td></tr>\n",
       "<tr><td>10</td><td>ExprTuple</td><td>12, 13</td><td><a class=\"ProveItLink\" href=\"../3b136f35c8aa7aca61d36bd0ed4ba5239834dfde0/expr.ipynb\"><img src=\"../3b136f35c8aa7aca61d36bd0ed4ba5239834dfde0/expr.png\" style=\"display:inline;vertical-align:middle;\" /></a></td></tr>\n",
       "<tr><td>11</td><td>Lambda</td><td>parameters:&nbsp;34<br>body:&nbsp;14<br></td><td><a class=\"ProveItLink\" href=\"../25a2843b4c9514d3b4e185a638b78518a022a20b0/expr.ipynb\"><img src=\"../25a2843b4c9514d3b4e185a638b78518a022a20b0/expr.png\" style=\"display:inline;vertical-align:middle;\" /></a></td></tr>\n",
       "<tr><td>12</td><td>Lambda</td><td>parameters:&nbsp;25<br>body:&nbsp;15<br></td><td><a class=\"ProveItLink\" href=\"../6acce030d760f47e9ac46a439b2e3efa458ac7d10/expr.ipynb\"><img src=\"../6acce030d760f47e9ac46a439b2e3efa458ac7d10/expr.png\" style=\"display:inline;vertical-align:middle;\" /></a></td></tr>\n",
       "<tr><td>13</td><td>Lambda</td><td>parameters:&nbsp;27<br>body:&nbsp;16<br></td><td><a class=\"ProveItLink\" href=\"../88abe77e055838413cffbf6dd874bfd6a6be29b40/expr.ipynb\"><img src=\"../88abe77e055838413cffbf6dd874bfd6a6be29b40/expr.png\" style=\"display:inline;vertical-align:middle;\" /></a></td></tr>\n",
       "<tr><td>14</td><td>Conditional</td><td>value:&nbsp;17<br>condition:&nbsp;18<br></td><td><a class=\"ProveItLink\" href=\"../93002c4ac0ec444e1b0796ed6008a608a68e96460/expr.ipynb\"><img src=\"../93002c4ac0ec444e1b0796ed6008a608a68e96460/expr.png\" style=\"display:inline;vertical-align:middle;\" /></a></td></tr>\n",
       "<tr><td>15</td><td>Conditional</td><td>value:&nbsp;19<br>condition:&nbsp;20<br></td><td><a class=\"ProveItLink\" href=\"../50b7a8c5a478f90c3424a06934518ef6f3a1ea5f0/expr.ipynb\"><img src=\"../50b7a8c5a478f90c3424a06934518ef6f3a1ea5f0/expr.png\" style=\"display:inline;vertical-align:middle;\" /></a></td></tr>\n",
       "<tr><td>16</td><td>Conditional</td><td>value:&nbsp;21<br>condition:&nbsp;22<br></td><td><a class=\"ProveItLink\" href=\"../ffe5184fff2939d90bdd74aceebc368cfb7894cd0/expr.ipynb\"><img src=\"../ffe5184fff2939d90bdd74aceebc368cfb7894cd0/expr.png\" style=\"display:inline;vertical-align:middle;\" /></a></td></tr>\n",
       "<tr><td>17</td><td>Operation</td><td>operator:&nbsp;23<br>operands:&nbsp;24<br></td><td><a class=\"ProveItLink\" href=\"../2472b8e03c7a39daa1d1d578b1ef99811a0040ba0/expr.ipynb\"><img src=\"../2472b8e03c7a39daa1d1d578b1ef99811a0040ba0/expr.png\" style=\"display:inline;vertical-align:middle;\" /></a></td></tr>\n",
       "<tr><td>18</td><td>Operation</td><td>operator:&nbsp;26<br>operands:&nbsp;34<br></td><td><a class=\"ProveItLink\" href=\"../../../../__pv_it/common/fa56c5e4791077e82241b419c707e26e9d9d33950/expr.ipynb\"><img src=\"../../../../__pv_it/common/fa56c5e4791077e82241b419c707e26e9d9d33950/expr.png\" style=\"display:inline;vertical-align:middle;\" /></a></td></tr>\n",
       "<tr><td>19</td><td>Operation</td><td>operator:&nbsp;32<br>operands:&nbsp;25<br></td><td><a class=\"ProveItLink\" href=\"../../../../__pv_it/common/d11e64ac94a9cfc8fc504686da3edbc6c0900f2f0/expr.ipynb\"><img src=\"../../../../__pv_it/common/d11e64ac94a9cfc8fc504686da3edbc6c0900f2f0/expr.png\" style=\"display:inline;vertical-align:middle;\" /></a></td></tr>\n",
       "<tr><td>20</td><td>Operation</td><td>operator:&nbsp;26<br>operands:&nbsp;25<br></td><td><a class=\"ProveItLink\" href=\"../../../../__pv_it/common/41faf4bb5a8d1b262cc27c0ca9528a52cb93aaba0/expr.ipynb\"><img src=\"../../../../__pv_it/common/41faf4bb5a8d1b262cc27c0ca9528a52cb93aaba0/expr.png\" style=\"display:inline;vertical-align:middle;\" /></a></td></tr>\n",
       "<tr><td>21</td><td>Operation</td><td>operator:&nbsp;33<br>operands:&nbsp;27<br></td><td><a class=\"ProveItLink\" href=\"../../../../__pv_it/common/e03d0bd72023e90a1fd531ac37255895f1952b270/expr.ipynb\"><img src=\"../../../../__pv_it/common/e03d0bd72023e90a1fd531ac37255895f1952b270/expr.png\" style=\"display:inline;vertical-align:middle;\" /></a></td></tr>\n",
       "<tr><td>22</td><td>Operation</td><td>operator:&nbsp;26<br>operands:&nbsp;27<br></td><td><a class=\"ProveItLink\" href=\"../../../../__pv_it/common/7a21ce6b91940f9c540872f6afba85402663d0aa0/expr.ipynb\"><img src=\"../../../../__pv_it/common/7a21ce6b91940f9c540872f6afba85402663d0aa0/expr.png\" style=\"display:inline;vertical-align:middle;\" /></a></td></tr>\n",
       "<tr><td>23</td><td>Literal</td><td></td><td><a class=\"ProveItLink\" href=\"../../../../../logic/equality/__pv_it/common/fb96dc12b2aa8801dda64d0132b396c63d1502bb0/expr.ipynb\"><img src=\"../../../../../logic/equality/__pv_it/common/fb96dc12b2aa8801dda64d0132b396c63d1502bb0/expr.png\" style=\"display:inline;vertical-align:middle;\" /></a></td></tr>\n",
       "<tr><td>24</td><td>ExprTuple</td><td>28, 29</td><td><a class=\"ProveItLink\" href=\"../22f2622789629b292e403ce2b34c409239cc71ac0/expr.ipynb\"><img src=\"../22f2622789629b292e403ce2b34c409239cc71ac0/expr.png\" style=\"display:inline;vertical-align:middle;\" /></a></td></tr>\n",
       "<tr><td>25</td><td>ExprTuple</td><td>30</td><td><a class=\"ProveItLink\" href=\"../../../../__pv_it/common/cbb267d411548f30abbb41bd891bd261776fba3d0/expr.ipynb\"><img src=\"../../../../__pv_it/common/cbb267d411548f30abbb41bd891bd261776fba3d0/expr.png\" style=\"display:inline;vertical-align:middle;\" /></a></td></tr>\n",
       "<tr><td>26</td><td>Variable</td><td></td><td><a class=\"ProveItLink\" href=\"../../../../../__pv_it/common/d72bb8b07403efe79afab564c36a28e21330e5f90/expr.ipynb\"><img src=\"../../../../../__pv_it/common/d72bb8b07403efe79afab564c36a28e21330e5f90/expr.png\" style=\"display:inline;vertical-align:middle;\" /></a></td></tr>\n",
       "<tr><td>27</td><td>ExprTuple</td><td>31</td><td><a class=\"ProveItLink\" href=\"../../../../__pv_it/common/cdb720a1a4f317f41a3f5ffdcb4d8477c115dfae0/expr.ipynb\"><img src=\"../../../../__pv_it/common/cdb720a1a4f317f41a3f5ffdcb4d8477c115dfae0/expr.png\" style=\"display:inline;vertical-align:middle;\" /></a></td></tr>\n",
       "<tr><td>28</td><td>Operation</td><td>operator:&nbsp;32<br>operands:&nbsp;34<br></td><td><a class=\"ProveItLink\" href=\"../../../../__pv_it/common/e3365f75bd57fd1ba0f454f5bdb756ddb29fc4e20/expr.ipynb\"><img src=\"../../../../__pv_it/common/e3365f75bd57fd1ba0f454f5bdb756ddb29fc4e20/expr.png\" style=\"display:inline;vertical-align:middle;\" /></a></td></tr>\n",
       "<tr><td>29</td><td>Operation</td><td>operator:&nbsp;33<br>operands:&nbsp;34<br></td><td><a class=\"ProveItLink\" href=\"../../../../__pv_it/common/91df282e531dc076061551dc17931f746f1b916a0/expr.ipynb\"><img src=\"../../../../__pv_it/common/91df282e531dc076061551dc17931f746f1b916a0/expr.png\" style=\"display:inline;vertical-align:middle;\" /></a></td></tr>\n",
       "<tr><td>30</td><td>ExprRange</td><td>lambda_map:&nbsp;35<br>start_index:&nbsp;41<br>end_index:&nbsp;42<br></td><td><a class=\"ProveItLink\" href=\"../../../../__pv_it/common/6614125435656057a807c01b2703aec599ab667b0/expr.ipynb\"><img src=\"../../../../__pv_it/common/6614125435656057a807c01b2703aec599ab667b0/expr.png\" style=\"display:inline;vertical-align:middle;\" /></a></td></tr>\n",
       "<tr><td>31</td><td>ExprRange</td><td>lambda_map:&nbsp;36<br>start_index:&nbsp;41<br>end_index:&nbsp;42<br></td><td><a class=\"ProveItLink\" href=\"../../../../__pv_it/common/7f544f12ad63e3712bd60e5a54402b08e8202c760/expr.ipynb\"><img src=\"../../../../__pv_it/common/7f544f12ad63e3712bd60e5a54402b08e8202c760/expr.png\" style=\"display:inline;vertical-align:middle;\" /></a></td></tr>\n",
       "<tr><td>32</td><td>Variable</td><td></td><td><a class=\"ProveItLink\" href=\"../../../../../__pv_it/common/01b6dbb444a31fc38af4c2379badef6c75b363710/expr.ipynb\"><img src=\"../../../../../__pv_it/common/01b6dbb444a31fc38af4c2379badef6c75b363710/expr.png\" style=\"display:inline;vertical-align:middle;\" /></a></td></tr>\n",
       "<tr><td>33</td><td>Variable</td><td></td><td><a class=\"ProveItLink\" href=\"../../../../../__pv_it/common/96ac097ea7ee432328a5e933062d0ef407701bf40/expr.ipynb\"><img src=\"../../../../../__pv_it/common/96ac097ea7ee432328a5e933062d0ef407701bf40/expr.png\" style=\"display:inline;vertical-align:middle;\" /></a></td></tr>\n",
       "<tr><td>34</td><td>ExprTuple</td><td>37</td><td><a class=\"ProveItLink\" href=\"../../../../__pv_it/common/acc7ecd6d6e1490d943c617eb5dc8d91eb0774310/expr.ipynb\"><img src=\"../../../../__pv_it/common/acc7ecd6d6e1490d943c617eb5dc8d91eb0774310/expr.png\" style=\"display:inline;vertical-align:middle;\" /></a></td></tr>\n",
       "<tr><td>35</td><td>Lambda</td><td>parameter:&nbsp;48<br>body:&nbsp;38<br></td><td><a class=\"ProveItLink\" href=\"../../../../__pv_it/common/d763764ede9c88a33f4b750791da02d1a21cb6820/expr.ipynb\"><img src=\"../../../../__pv_it/common/d763764ede9c88a33f4b750791da02d1a21cb6820/expr.png\" style=\"display:inline;vertical-align:middle;\" /></a></td></tr>\n",
       "<tr><td>36</td><td>Lambda</td><td>parameter:&nbsp;48<br>body:&nbsp;39<br></td><td><a class=\"ProveItLink\" href=\"../../../../__pv_it/common/89a29b5b02ce6c37577f6352274a3d503dcdde3e0/expr.ipynb\"><img src=\"../../../../__pv_it/common/89a29b5b02ce6c37577f6352274a3d503dcdde3e0/expr.png\" style=\"display:inline;vertical-align:middle;\" /></a></td></tr>\n",
       "<tr><td>37</td><td>ExprRange</td><td>lambda_map:&nbsp;40<br>start_index:&nbsp;41<br>end_index:&nbsp;42<br></td><td><a class=\"ProveItLink\" href=\"../../../../__pv_it/common/7230c683fcd56948c826ac1be71b01b6fb2913950/expr.ipynb\"><img src=\"../../../../__pv_it/common/7230c683fcd56948c826ac1be71b01b6fb2913950/expr.png\" style=\"display:inline;vertical-align:middle;\" /></a></td></tr>\n",
       "<tr><td>38</td><td>IndexedVar</td><td>variable:&nbsp;43<br>index:&nbsp;48<br></td><td><a class=\"ProveItLink\" href=\"../../../../__pv_it/common/8542342c36565a593724a99f9c08d995c1c21af20/expr.ipynb\"><img src=\"../../../../__pv_it/common/8542342c36565a593724a99f9c08d995c1c21af20/expr.png\" style=\"display:inline;vertical-align:middle;\" /></a></td></tr>\n",
       "<tr><td>39</td><td>IndexedVar</td><td>variable:&nbsp;44<br>index:&nbsp;48<br></td><td><a class=\"ProveItLink\" href=\"../../../../__pv_it/common/8ffbefe913f7c934b2e3a2a12315d5900822d9d00/expr.ipynb\"><img src=\"../../../../__pv_it/common/8ffbefe913f7c934b2e3a2a12315d5900822d9d00/expr.png\" style=\"display:inline;vertical-align:middle;\" /></a></td></tr>\n",
       "<tr><td>40</td><td>Lambda</td><td>parameter:&nbsp;48<br>body:&nbsp;45<br></td><td><a class=\"ProveItLink\" href=\"../../../../__pv_it/common/1527ad383e12f9c6ed6b371c9a7dd1892d80da1b0/expr.ipynb\"><img src=\"../../../../__pv_it/common/1527ad383e12f9c6ed6b371c9a7dd1892d80da1b0/expr.png\" style=\"display:inline;vertical-align:middle;\" /></a></td></tr>\n",
       "<tr><td>41</td><td>Literal</td><td></td><td><a class=\"ProveItLink\" href=\"../../../../../numbers/numerals/__pv_it/common/682157d4892d216d9e5626ed533aff9b56b9506e0/expr.ipynb\"><img src=\"../../../../../numbers/numerals/__pv_it/common/682157d4892d216d9e5626ed533aff9b56b9506e0/expr.png\" style=\"display:inline;vertical-align:middle;\" /></a></td></tr>\n",
       "<tr><td>42</td><td>Variable</td><td></td><td><a class=\"ProveItLink\" href=\"../../../../../__pv_it/common/ae955345c83abf786c3aff8681cd5465beae262d0/expr.ipynb\"><img src=\"../../../../../__pv_it/common/ae955345c83abf786c3aff8681cd5465beae262d0/expr.png\" style=\"display:inline;vertical-align:middle;\" /></a></td></tr>\n",
       "<tr><td>43</td><td>Variable</td><td></td><td><a class=\"ProveItLink\" href=\"../../../../../__pv_it/common/195236b98c6c564a75b5dbada74b173bc52d5c3e0/expr.ipynb\"><img src=\"../../../../../__pv_it/common/195236b98c6c564a75b5dbada74b173bc52d5c3e0/expr.png\" style=\"display:inline;vertical-align:middle;\" /></a></td></tr>\n",
       "<tr><td>44</td><td>Variable</td><td></td><td><a class=\"ProveItLink\" href=\"../../../../../__pv_it/common/ceef4280a2f1cc604b455b54e735507244cc62cd0/expr.ipynb\"><img src=\"../../../../../__pv_it/common/ceef4280a2f1cc604b455b54e735507244cc62cd0/expr.png\" style=\"display:inline;vertical-align:middle;\" /></a></td></tr>\n",
       "<tr><td>45</td><td>IndexedVar</td><td>variable:&nbsp;46<br>index:&nbsp;48<br></td><td><a class=\"ProveItLink\" href=\"../../../../__pv_it/common/3a62c13e156d62d52fe585fa37cc2172fcf685260/expr.ipynb\"><img src=\"../../../../__pv_it/common/3a62c13e156d62d52fe585fa37cc2172fcf685260/expr.png\" style=\"display:inline;vertical-align:middle;\" /></a></td></tr>\n",
       "<tr><td>46</td><td>Variable</td><td></td><td><a class=\"ProveItLink\" href=\"../../../../../__pv_it/common/c06c606ec12678c58933ac85412ecadc2ae28be60/expr.ipynb\"><img src=\"../../../../../__pv_it/common/c06c606ec12678c58933ac85412ecadc2ae28be60/expr.png\" style=\"display:inline;vertical-align:middle;\" /></a></td></tr>\n",
       "<tr><td>47</td><td>ExprTuple</td><td>48</td><td><a class=\"ProveItLink\" href=\"../../../../__pv_it/common/4b0dd6be36d76552eda6a95d5b4a27f5a5b62f900/expr.ipynb\"><img src=\"../../../../__pv_it/common/4b0dd6be36d76552eda6a95d5b4a27f5a5b62f900/expr.png\" style=\"display:inline;vertical-align:middle;\" /></a></td></tr>\n",
       "<tr><td>48</td><td>Variable</td><td></td><td><a class=\"ProveItLink\" href=\"../../../../__pv_it/common/006c465e50948aa2b52285e2de47974f741255cc0/expr.ipynb\"><img src=\"../../../../__pv_it/common/006c465e50948aa2b52285e2de47974f741255cc0/expr.png\" style=\"display:inline;vertical-align:middle;\" /></a></td></tr>\n",
       "</table>\n"
      ],
      "text/plain": [
       "0. ((f, g, Q) -> ([forall_{a_{1}, a_{2}, ..., a_{i} | Q(a_{1}, a_{2}, ..., a_{i})} (f(a_{1}, a_{2}, ..., a_{i}) = g(a_{1}, a_{2}, ..., a_{i}))] =>  \\\\ ([(b_{1}, b_{2}, ..., b_{i}) -> {f(b_{1}, b_{2}, ..., b_{i}) if Q(b_{1}, b_{2}, ..., b_{i}).] =  \\\\ [(c_{1}, c_{2}, ..., c_{i}) -> {g(c_{1}, c_{2}, ..., c_{i}) if Q(c_{1}, c_{2}, ..., c_{i}).])))\n",
       "   core type: ExprTuple\n",
       "   sub-expressions: 1\n",
       "1. (f, g, Q) -> ([forall_{a_{1}, a_{2}, ..., a_{i} | Q(a_{1}, a_{2}, ..., a_{i})} (f(a_{1}, a_{2}, ..., a_{i}) = g(a_{1}, a_{2}, ..., a_{i}))] =>  \\\\ ([(b_{1}, b_{2}, ..., b_{i}) -> {f(b_{1}, b_{2}, ..., b_{i}) if Q(b_{1}, b_{2}, ..., b_{i}).] =  \\\\ [(c_{1}, c_{2}, ..., c_{i}) -> {g(c_{1}, c_{2}, ..., c_{i}) if Q(c_{1}, c_{2}, ..., c_{i}).]))\n",
       "   core type: Lambda\n",
       "   parameters: 2\\n   body: 3\n",
       "2. (f, g, Q)\n",
       "   core type: ExprTuple\n",
       "   sub-expressions: 32, 33, 26\n",
       "3. [forall_{a_{1}, a_{2}, ..., a_{i} | Q(a_{1}, a_{2}, ..., a_{i})} (f(a_{1}, a_{2}, ..., a_{i}) = g(a_{1}, a_{2}, ..., a_{i}))] =>  \\\\ ([(b_{1}, b_{2}, ..., b_{i}) -> {f(b_{1}, b_{2}, ..., b_{i}) if Q(b_{1}, b_{2}, ..., b_{i}).] =  \\\\ [(c_{1}, c_{2}, ..., c_{i}) -> {g(c_{1}, c_{2}, ..., c_{i}) if Q(c_{1}, c_{2}, ..., c_{i}).])\n",
       "   core type: Operation\n",
       "   operator: 4\n",
       "   operands: 5\n",
       "4. =>\n",
       "   core type: Literal\n",
       "   sub-expressions: \n",
       "5. (forall_{a_{1}, a_{2}, ..., a_{i} | Q(a_{1}, a_{2}, ..., a_{i})} (f(a_{1}, a_{2}, ..., a_{i}) = g(a_{1}, a_{2}, ..., a_{i})), [(b_{1}, b_{2}, ..., b_{i}) -> {f(b_{1}, b_{2}, ..., b_{i}) if Q(b_{1}, b_{2}, ..., b_{i}).] =  \\\\ [(c_{1}, c_{2}, ..., c_{i}) -> {g(c_{1}, c_{2}, ..., c_{i}) if Q(c_{1}, c_{2}, ..., c_{i}).])\n",
       "   core type: ExprTuple\n",
       "   sub-expressions: 6, 7\n",
       "6. forall_{a_{1}, a_{2}, ..., a_{i} | Q(a_{1}, a_{2}, ..., a_{i})} (f(a_{1}, a_{2}, ..., a_{i}) = g(a_{1}, a_{2}, ..., a_{i}))\n",
       "   core type: Operation\n",
       "   operator: 8\n",
       "   operand: 11\n",
       "7. [(b_{1}, b_{2}, ..., b_{i}) -> {f(b_{1}, b_{2}, ..., b_{i}) if Q(b_{1}, b_{2}, ..., b_{i}).] =  \\\\ [(c_{1}, c_{2}, ..., c_{i}) -> {g(c_{1}, c_{2}, ..., c_{i}) if Q(c_{1}, c_{2}, ..., c_{i}).]\n",
       "   core type: Operation\n",
       "   operator: 23\n",
       "   operands: 10\n",
       "8. forall\n",
       "   core type: Literal\n",
       "   sub-expressions: \n",
       "9. ((a_{1}, a_{2}, ..., a_{i}) -> {f(a_{1}, a_{2}, ..., a_{i}) = g(a_{1}, a_{2}, ..., a_{i}) if Q(a_{1}, a_{2}, ..., a_{i}).)\n",
       "   core type: ExprTuple\n",
       "   sub-expressions: 11\n",
       "10. ((b_{1}, b_{2}, ..., b_{i}) -> {f(b_{1}, b_{2}, ..., b_{i}) if Q(b_{1}, b_{2}, ..., b_{i})., (c_{1}, c_{2}, ..., c_{i}) -> {g(c_{1}, c_{2}, ..., c_{i}) if Q(c_{1}, c_{2}, ..., c_{i}).)\n",
       "    core type: ExprTuple\n",
       "    sub-expressions: 12, 13\n",
       "11. (a_{1}, a_{2}, ..., a_{i}) -> {f(a_{1}, a_{2}, ..., a_{i}) = g(a_{1}, a_{2}, ..., a_{i}) if Q(a_{1}, a_{2}, ..., a_{i}).\n",
       "    core type: Lambda\n",
       "    parameters: 34\\n    body: 14\n",
       "12. (b_{1}, b_{2}, ..., b_{i}) -> {f(b_{1}, b_{2}, ..., b_{i}) if Q(b_{1}, b_{2}, ..., b_{i}).\n",
       "    core type: Lambda\n",
       "    parameters: 25\\n    body: 15\n",
       "13. (c_{1}, c_{2}, ..., c_{i}) -> {g(c_{1}, c_{2}, ..., c_{i}) if Q(c_{1}, c_{2}, ..., c_{i}).\n",
       "    core type: Lambda\n",
       "    parameters: 27\\n    body: 16\n",
       "14. {f(a_{1}, a_{2}, ..., a_{i}) = g(a_{1}, a_{2}, ..., a_{i}) if Q(a_{1}, a_{2}, ..., a_{i}).\n",
       "    core type: Conditional\n",
       "    value: 17\n",
       "    condition: 18\n",
       "15. {f(b_{1}, b_{2}, ..., b_{i}) if Q(b_{1}, b_{2}, ..., b_{i}).\n",
       "    core type: Conditional\n",
       "    value: 19\n",
       "    condition: 20\n",
       "16. {g(c_{1}, c_{2}, ..., c_{i}) if Q(c_{1}, c_{2}, ..., c_{i}).\n",
       "    core type: Conditional\n",
       "    value: 21\n",
       "    condition: 22\n",
       "17. f(a_{1}, a_{2}, ..., a_{i}) = g(a_{1}, a_{2}, ..., a_{i})\n",
       "    core type: Operation\n",
       "    operator: 23\n",
       "    operands: 24\n",
       "18. Q(a_{1}, a_{2}, ..., a_{i})\n",
       "    core type: Operation\n",
       "    operator: 26\n",
       "    operands: 34\n",
       "19. f(b_{1}, b_{2}, ..., b_{i})\n",
       "    core type: Operation\n",
       "    operator: 32\n",
       "    operands: 25\n",
       "20. Q(b_{1}, b_{2}, ..., b_{i})\n",
       "    core type: Operation\n",
       "    operator: 26\n",
       "    operands: 25\n",
       "21. g(c_{1}, c_{2}, ..., c_{i})\n",
       "    core type: Operation\n",
       "    operator: 33\n",
       "    operands: 27\n",
       "22. Q(c_{1}, c_{2}, ..., c_{i})\n",
       "    core type: Operation\n",
       "    operator: 26\n",
       "    operands: 27\n",
       "23. =\n",
       "    core type: Literal\n",
       "    sub-expressions: \n",
       "24. (f(a_{1}, a_{2}, ..., a_{i}), g(a_{1}, a_{2}, ..., a_{i}))\n",
       "    core type: ExprTuple\n",
       "    sub-expressions: 28, 29\n",
       "25. (b_{1}, b_{2}, ..., b_{i})\n",
       "    core type: ExprTuple\n",
       "    sub-expressions: 30\n",
       "26. Q\n",
       "    core type: Variable\n",
       "    sub-expressions: \n",
       "27. (c_{1}, c_{2}, ..., c_{i})\n",
       "    core type: ExprTuple\n",
       "    sub-expressions: 31\n",
       "28. f(a_{1}, a_{2}, ..., a_{i})\n",
       "    core type: Operation\n",
       "    operator: 32\n",
       "    operands: 34\n",
       "29. g(a_{1}, a_{2}, ..., a_{i})\n",
       "    core type: Operation\n",
       "    operator: 33\n",
       "    operands: 34\n",
       "30. b_{1}, b_{2}, ..., b_{i}\n",
       "    core type: ExprRange\n",
       "    lambda_map: 35\n",
       "    start_index: 41\n",
       "    end_index: 42\n",
       "31. c_{1}, c_{2}, ..., c_{i}\n",
       "    core type: ExprRange\n",
       "    lambda_map: 36\n",
       "    start_index: 41\n",
       "    end_index: 42\n",
       "32. f\n",
       "    core type: Variable\n",
       "    sub-expressions: \n",
       "33. g\n",
       "    core type: Variable\n",
       "    sub-expressions: \n",
       "34. (a_{1}, a_{2}, ..., a_{i})\n",
       "    core type: ExprTuple\n",
       "    sub-expressions: 37\n",
       "35. _a -> b_{_a}\n",
       "    core type: Lambda\n",
       "    parameter: 48\n",
       "    body: 38\n",
       "36. _a -> c_{_a}\n",
       "    core type: Lambda\n",
       "    parameter: 48\n",
       "    body: 39\n",
       "37. a_{1}, a_{2}, ..., a_{i}\n",
       "    core type: ExprRange\n",
       "    lambda_map: 40\n",
       "    start_index: 41\n",
       "    end_index: 42\n",
       "38. b_{_a}\n",
       "    core type: IndexedVar\n",
       "variable: 43\n",
       "index: 48\n",
       "39. c_{_a}\n",
       "    core type: IndexedVar\n",
       "variable: 44\n",
       "index: 48\n",
       "40. _a -> a_{_a}\n",
       "    core type: Lambda\n",
       "    parameter: 48\n",
       "    body: 45\n",
       "41. 1\n",
       "    core type: Literal\n",
       "    sub-expressions: \n",
       "42. i\n",
       "    core type: Variable\n",
       "    sub-expressions: \n",
       "43. b\n",
       "    core type: Variable\n",
       "    sub-expressions: \n",
       "44. c\n",
       "    core type: Variable\n",
       "    sub-expressions: \n",
       "45. a_{_a}\n",
       "    core type: IndexedVar\n",
       "variable: 46\n",
       "index: 48\n",
       "46. a\n",
       "    core type: Variable\n",
       "    sub-expressions: \n",
       "47. (_a)\n",
       "    core type: ExprTuple\n",
       "    sub-expressions: 48\n",
       "48. _a\n",
       "    core type: Variable\n",
       "    sub-expressions: "
      ]
     },
     "metadata": {},
     "output_type": "display_data"
    }
   ],
   "source": [
    "# display the expression information\n",
    "stored_expr.expr_info()"
   ]
  },
  {
   "cell_type": "code",
   "execution_count": null,
   "metadata": {},
   "outputs": [],
   "source": []
  }
 ],
 "metadata": {
  "kernelspec": {
   "display_name": "Python 3",
   "language": "python",
   "name": "python3"
  }
 },
 "nbformat": 4,
 "nbformat_minor": 0
}