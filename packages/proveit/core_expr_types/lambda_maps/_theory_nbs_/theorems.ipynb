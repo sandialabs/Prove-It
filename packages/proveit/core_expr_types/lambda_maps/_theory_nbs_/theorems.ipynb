{
 "cells": [
  {
   "cell_type": "markdown",
   "metadata": {},
   "source": [
    "Theorems (or conjectures) for the theory of <a class=\"ProveItLink\" href=\"theory.ipynb\">proveit.core_expr_types.lambda_maps</a>\n",
    "========"
   ]
  },
  {
   "cell_type": "code",
   "execution_count": null,
   "metadata": {},
   "outputs": [],
   "source": [
    "import proveit\n",
    "# Prepare this notebook for defining the theorems of a theory:\n",
    "%theorems_notebook # Keep this at the top following 'import proveit'.\n",
    "from proveit import Conditional, Lambda\n",
    "from proveit import i, a, b, c, f, g, Q\n",
    "from proveit.core_expr_types import (\n",
    "    a_1_to_i, b_1_to_i, c_1_to_i, \n",
    "    f__a_1_to_i, g__a_1_to_i, f__b_1_to_i, g__c_1_to_i,\n",
    "    Q__a_1_to_i, Q__b_1_to_i, Q__c_1_to_i)\n",
    "from proveit.logic import Forall, Implies, Equals\n",
    "from proveit.numbers import NaturalPos"
   ]
  },
  {
   "cell_type": "code",
   "execution_count": null,
   "metadata": {},
   "outputs": [],
   "source": [
    "%begin theorems"
   ]
  },
  {
   "cell_type": "code",
   "execution_count": null,
   "metadata": {},
   "outputs": [],
   "source": [
    "general_lambda_substitution = \\\n",
    "    Forall(i, Forall((f, g, Q), \n",
    "                     Implies(Forall(a_1_to_i, \n",
    "                                    Equals(f__a_1_to_i, \n",
    "                                           g__a_1_to_i), \n",
    "                                    conditions = [Q__a_1_to_i]),\n",
    "                             Equals(Lambda(b_1_to_i, \n",
    "                                           Conditional(f__b_1_to_i, \n",
    "                                                       Q__b_1_to_i)),\n",
    "                                    Lambda(c_1_to_i, \n",
    "                                           Conditional(g__c_1_to_i, \n",
    "                                                       Q__c_1_to_i))) \\\n",
    "                                      .with_wrap_after_operator()).with_wrap_after_operator()),\n",
    "          domain=NaturalPos)"
   ]
  },
  {
   "cell_type": "code",
   "execution_count": null,
   "metadata": {},
   "outputs": [],
   "source": [
    "%end theorems"
   ]
  }
 ],
 "metadata": {
  "kernelspec": {
   "display_name": "Python 3",
   "language": "python",
   "name": "python3"
  }
 },
 "nbformat": 4,
 "nbformat_minor": 0
}
