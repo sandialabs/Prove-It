{
 "cells": [
  {
   "cell_type": "markdown",
   "metadata": {},
   "source": [
    "Theory of <a class=\"ProveItLink\" href=\"../../../_theory_nbs_/theory.ipynb\">proveit</a>.<a class=\"ProveItLink\" href=\"../../_theory_nbs_/theory.ipynb\">core_expr_types</a>.lambda_maps\n",
    "========\n",
    "\n",
    "Theory related to **Lambda** types of Prove-It expressions.  A **Lambda** has *parameter(s)* and a *body* and represents a mapping of the *parameter(s)* to the *body*.  For example, $(x, y) \\mapsto x + y$ represents a mapping of $x$ and $y$ into $x + y$; the application of this mapping to the arguments $5$ and $2$ yields $5+2$."
   ]
  },
  {
   "cell_type": "code",
   "execution_count": null,
   "metadata": {},
   "outputs": [],
   "source": [
    "import proveit\n",
    "%theory # toggles between interactive and static modes"
   ]
  },
  {
   "cell_type": "code",
   "execution_count": null,
   "metadata": {},
   "outputs": [],
   "source": []
  }
 ],
 "metadata": {
  "kernelspec": {
   "display_name": "Python 3 (ipykernel)",
   "language": "python",
   "name": "python3"
  }
 },
 "nbformat": 4,
 "nbformat_minor": 0
}
