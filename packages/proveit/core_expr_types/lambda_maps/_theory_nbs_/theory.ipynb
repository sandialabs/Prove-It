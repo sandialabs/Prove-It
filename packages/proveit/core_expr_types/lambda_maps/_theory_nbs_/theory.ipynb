{
 "cells": [
  {
   "cell_type": "markdown",
   "metadata": {},
   "source": [
    "Theory of <a class=\"ProveItLink\" href=\"../../../_theory_nbs_/theory.ipynb\">proveit</a>.<a class=\"ProveItLink\" href=\"../../_theory_nbs_/theory.ipynb\">core_expr_types</a>.lambda_maps\n",
    "========\n",
    "\n",
    "Theory related to **Lambda** types of Prove-It expressions.  A **Lambda** has *parameter(s)* and a *body* and represents a mapping of the *parameter(s)* to the *body*.  For example, $(x, y) \\mapsto x + y$ represents a mapping of $x$ and $y$ into $x + y$; the application of this mapping to the arguments $5$ and $2$ yields $5+2$."
   ]
  },
  {
   "cell_type": "code",
   "execution_count": 1,
   "metadata": {},
   "outputs": [
    {
     "data": {
      "text/html": [
       "<h3>Local content of this theory</h3>"
      ],
      "text/plain": [
       "<IPython.core.display.HTML object>"
      ]
     },
     "metadata": {},
     "output_type": "display_data"
    },
    {
     "data": {
      "text/html": [
       "<table><tr>\n",
       "<th><a class=\"ProveItLink\" href=\"common.ipynb\">common expressions</a></th>\n",
       "<th><a class=\"ProveItLink\" href=\"axioms.ipynb\">axioms</a></th>\n",
       "<th><a class=\"ProveItLink\" href=\"theorems.ipynb\">theorems</a></th>\n",
       "<th><a class=\"ProveItLink\" href=\"demonstrations.ipynb\">demonstrations</a></th>\n",
       "</tr></table>\n",
       "<h3>Sub-theories</h3>\n"
      ],
      "text/plain": [
       "<IPython.core.display.HTML object>"
      ]
     },
     "metadata": {},
     "output_type": "display_data"
    },
    {
     "data": {
      "text/html": [
       "<h3>All axioms contained within this theory</h3>"
      ],
      "text/plain": [
       "<IPython.core.display.HTML object>"
      ]
     },
     "metadata": {},
     "output_type": "display_data"
    },
    {
     "data": {
      "text/html": [
       "<dt><a class=\"ProveItLink\" href=\"axioms.ipynb#lambda_substitution\">proveit.core_expr_types.lambda_maps.lambda_substitution</a></dt><dd><a class=\"ProveItLink\" href=\"../__pv_it/axioms/bff143def57912affde18c7a27272cb1e41a7d8d0/expr.ipynb\"><img src=\"data:image/png;base64,iVBORw0KGgoAAAANSUhEUgAAAqkAAABMCAMAAAB57t7tAAAANlBMVEX///8AAAAAAAAAAAAAAAAA\n",
       "AAAAAAAAAAAAAAAAAAAAAAAAAAAAAAAAAAAAAAAAAAAAAAAAAABHL6OuAAAAEXRSTlMAq1RmmUTN\n",
       "IjK7EInv3Xbz6T5NtFUAAAAJcEhZcwAADsQAAA7EAZUrDhsAAA4JSURBVHja7V0L160aGy2XEvJ9\n",
       "/v+fPasLkWtayXvOMsbevYOyJmY8eMy67guByDX093IZcPcL//UwzvQUM2/k+k72RDL4CfeYhvpf\n",
       "O/1Cx840WJgF+68xdbydB+A0kCLmmdR9ry9Fv4Lloce+g3W81W4ceiJhO0ylXoDbW1bZKhDgSvTD\n",
       "AYsvFqESVo25qOWwj0wNMbUfuhhTjyEBwIfrGzDDImGMeqKrvjfwXhHewKquZX1MP7XMVCJxlKlI\n",
       "Jw8PD2x0MG0mwoEbXTcM9E4R3sG6X8uYOkrQMFOHSOUu5SWqUx2nhysbGX0YB3iibnTdANGdIryD\n",
       "db8W2m3T3C5TQaRL3cqr3lb2tAXGTYuJ+qJrB07Li/AW1u3qZ+pEk3QSzTJ1mLsEU+HeTzw9sAFz\n",
       "8J+90dWHVFhehLewblc/U0lyWJx4q0z1vETO3J/PS+BPzxWQ/gHY87lHTvTYMzGG4EYT84w0NweW\n",
       "sdAMmBAjPGGNo3kU63YNjP4w1YjAsVRbYWovaZKpiGSNHN/swIz3R0dj/inqFMAbTcxbojFyoHul\n",
       "wqOPRLMRDAKzzy0jn2yscTTPYt2uBlMt5DJlesuhTaZSGR0PtvKOvfrv0TADYw5KnOht2RetZgGF\n",
       "p/o0EiljfX+dBWb2HdtfFJC0O8FKF/Vi7VijUJ/Gul2DMyowgETXRZpkKpQgzdS1O31+E4Bjo/3d\n",
       "aLTGzcvwRYQ4WddGIjoa8ZLtceRg1m4SdG82wo41CvVprNs13Fx04LGmxJI1ydTEGLSXF4jn51MW\n",
       "U40JlY5eR1i6r1SAU/Maict/o7y8mWhlf4yyyepf3nTBbaxRqE9jxfE+dRxYnDGSt8hUKuMvtCrv\n",
       "0MF9jKEMCreo/ljvL4bvNEb/qXei6TrCqmo7Nb+ZCGlJ65s5YKF+3vgZv50K1+rXcDesUaiPY92u\n",
       "ITt1Tm7fTCc8bTAVSpbFVAb2RVU6j56f9Md6Kzly53TMorhwounae/VDB0ajWWjnSVR9cpYB6OZA\n",
       "RadGGjglK3B9FlpY/VBrYd2ugT4Vp3dvxIkTbTC1lziLqSPf31z0sazIOjyMxlqAjsVAoGiOx/Od\n",
       "U2fHktBowlLRCwvAjFbbTjU/VTNVK7Ejq6elTjz+ivxx5DBSTS7Ekt3baK6f7Fh9UDOxun9cxbpd\n",
       "/UwdhxxGDQ0ylSdQ6PL25DDE1vGGAMPvVsfypTpTtqgIrCKQ2Teh0tG0F4yMvSBm8887CitRvUSz\n",
       "hjij8B+eHHTvPienkfjz2DEn2rF6oWZidRFexLpdA3tUOYaGtOcuTTA1ZaY65V27kAnSpSgHU4/Y\n",
       "UfeYkS5ovRMwd+Vb+1Tant0+V0vd/MAdNsdPw45jINGTFXVR0u0nx7xp+YBiWA87tQrW/RroU7OK\n",
       "Yw+0TTAVyOkaUzu+mJkYHkylzI7tJqxiff/pOwFwl6A35wrQd/aSn89PRDe/OzyPEyEEUX+ir4ye\n",
       "Jcd9ZE76m5BlMZQYUxAP1oOpVbDu1xuLisjetmyCqSgxoXLLixEEgq2VsTF19c0zYrf9rDWW8NH+\n",
       "z7rTNxBNS1nm6ew6N52LOLJBbn0yFR6LRp39oTkblp6bPoPruPEoaedz2tFBRLAeUOtgVdcbTIV2\n",
       "/9UEUwcJLjLVHJT3kcjKgtFOuLGdeyedPbfQpYqgQKMnOjBRjc5ic+ogctOUrNrVSsUtYVXXG0wl\n",
       "9opqE0zlqaU8FjyPQwTfvAAxtagvN9MXe6wuO24SnlsCbhv3vDlKgyiq2Xex7lcx83KmUvs0ahNM\n",
       "lfK+1wnMjn3NyfgXrtKCNMbU8VtHuX/hXxVmyyhsgalAXnCOmMivCasH+rirpX/6IhpjqpD5bif9\n",
       "b+x+I5D5Bar21pJQC0xlMvsMXx9ezjpUECprMoyvPVz8c9cVI8Bcn6nIEo9qgal9tpwVTJxf3Zqh\n",
       "siYDvjHLfg3r5dUjVl+JiVlj7cLUb2g+KKaW5DXJzFPCIx/TTF01GejE57DRxW91EM7z15QjDKmL\n",
       "F7FeX+ecYX2mziemfkPzQTG1JK8hl6lz+lSg1mQYInkO6F4Vnp+/ohxhSF28ifU6UwGvbaoKa+l/\n",
       "Yeo3NB8UU0vymmXecVMY9Xzf617tO8e2veTNMff8/BXlCEPq4k2sBXtHd9+ZywFaq5ernfoFzQdt\n",
       "pxbkxTOZGj8/vde9OhsR2UzANzca3OdD3Y27vWQ9+yLWAqZiOb7O1C9oPmimFuTFZd5uc85ZK6XJ\n",
       "wCLmHbs5j3WfNw5eWxhdRy3z2TexluzHD5UnVcBl6hc0H465//W8uMwy1ud4Re2aAEzVqhA9CNV4\n",
       "OC2vxc7PGxNjmxknnlhSF69iLWEqkPR1pt7XfDiYej0vmcVUknBj2ep+792o/Fgh1D9cxdKy5tPH\n",
       "8x7lCJub4Gytm8PHm1gPpoakLnyZ1fV6wR6mWpoPNFYvLMnUk34ERUk/YJk1a+gTJ4m3ut9PkG6v\n",
       "/3Jgz1Vk0GmFegxH3j7liFMvKuxX1joA+ibWIm+8qe7yP7E8l/aVf1PzwT6vMc5oSYD7WbvQ/I9C\n",
       "namtHzFBnNoOgTCnCXifw1SlybA2+Wem5lNkUGmlegzqebNO9Z//+791WHiW1hkL62TWm1iLmArr\n",
       "zqkoNPu4XXPLo/lARD8tRzxAv/gld9vZhSBTjT0qO68M20ZKnPOCwQtMXXU98NpXO/uAOq1Qj8HI\n",
       "W49TwT4V25+DsSY4b2ItYiqV8PU+1dB8UG8j2qsFfBKQHvYzmGrmBXpuLFdBIaAoHP1F6n22Rv81\n",
       "R7QW1Gl9nVamx3A871WOsH+NnDYFTKmLV7GW2Knpca0GU7Xmw16kY4cQEIBHsTCVIYTmzz+cYKrO\n",
       "q7M1FQQ6NdUVpk4pwZut7vfDvEub7l+4OCsymGklegz6eb9yhM2180Ydt846BbFqPI9hLTs1UtdQ\n",
       "JZ4Z1aH5sBfJOIYDyGf0B/hCnzoarx5CxmyC+jVrs1ap+JTF1H29aHEOnJDV32k9BSOtSI9BPe9X\n",
       "jsCx9VRL6iKM9fj1x7CWMZVVdXnHXqYqzYe9SBiaTP3wU0z5TNX6EeuE6vippfZ8Y3gOU2nSN2Cr\n",
       "e63JwNSSg0eRQacV6jGo55PKEYycp+JWnQWxajyPYS1jKpT4fabaYxIcpjWAjamUqTlSFlNNFh5t\n",
       "xVBAL2LOYCpJruXtde84XkYUGW7qMVxVjnA+YhjG6uL5MtYyppKqK6oJpm5FIszqUxehp9z11HNu\n",
       "64Wts6tPb+szyYeM8oOkLbvXveMtElZkuKvHkK8csc8uT1IXEawOnm9jLWMqlTW9VIDjS+Ur0rFg\n",
       "vX0LVfSpt83L1L0P3RzdkBCDj5NThocKTM57Vd3bp+Njigx39RjylSO2HtSRughidfF8G2vhOXxZ\n",
       "c/IPHf9UX5FGdbKO7EqXZUzVvQZwjAHDrM14U5OLVLrug5oMkRa+p8cw5a2Hu1IXQayiexprKVOn\n",
       "ikwVjs+//61ki52aXR4vUyeg5laYrvMH4fWwQhlvKkvuIGj1itqaDOLGxs1LWIsVI3jNzwfZ5+se\n",
       "PUfFhGoIuPTSkCGaRhSYi8g3zvH+wtmCqbmgiqyxtoUTfzDjFHX/E69ogqk1Px44NXfeH0v+Y+qP\n",
       "qZ41odY0VHLUfn6j/39v9OfN6VJ1Mv0wS97yJ5Up/oowxSszKltYrwmmzulNOpG9nvqXlCn+jjCF\n",
       "YmrF9dSxQf3UPr2dmr/yD1hXOYhSr833oJYyteYeFbYn2k0wVaQrACS73ZMyRc0wlNnQL0ItZCqV\n",
       "Fd+t0wepmmAqTi9TJV3+z8oUNQMs62lehFrI1KoeKr3t6tHIV37SKDK9/jrevRDylSmsp96DWshU\n",
       "ICsa1nOD36P6gEo+PQ9ZTAXDG82fr0xhJr4ItZCpouKRP3paZW+DqSw9perzTqcc3vdMCBiahcXS\n",
       "svCens9Vplg+1CZG9cWmHKh3kQagFjK15v4LOHmDtMFUnPZRgamlf0uZohuX43TI708QS8taPtHP\n",
       "X1WmYMNydmeyO+IInLtIg1ALmcorulKdzNRGmJr8cKr6gn2SqeqT5+vxYb/ag04rVHs48r6qTLHp\n",
       "RKhZSQbUu0iDUMuYOtacUJ0p0QhTUfqA8DVlCtUD+9QeVFqp2oPbu2cqU6xF0DWVhnoXaRhq6TGq\n",
       "emYqOQ+zjTAVpxfqEL/AVGOYcs7Q67RCtQfPEJinTLENC0Ldm4Z6F2kYahlT+4q7/sIRfm2DqR3n\n",
       "aTLj7NHf1Po6N/+RVqb2cDx/VZli65K04kES6l2kEahlTK05+A+8a5OpIr31P6MMpiq1h222gjuf\n",
       "MsWRVqb2sD9/WZliretDMScMNYI0C+ohbBGCWihLVc+fjTiDbCtM7W7P/i1lim2+vB63d5QpjLSg\n",
       "2kNMAEI9f1mZYlWH7HUpglAjSGO4PKUIQi1i6lzRPaV3GrsZpqYPSmWpp+9qDx1jEG7f7nWUKYy0\n",
       "sNqDR/fBff6qMsX6yWjd6YahRpDGhClcpEGoJUzFVZf9+65VpmY4P8Q71b+gTNFZ33W4IExxIM2C\n",
       "6tzzDWGKqWKX6tkMa4apKRn/tZVZmqntKlOQZUXUVNbOF6YwkGZBde75gjAFrnnqgqOuXaZuq9Tx\n",
       "H8n5clqzyhQ9px21pDmyhSkOpFlQ3Xu+IEwxV3RO8fVaDTEVpLMQU5qpzSpTrFaqxZCnhCnC95QL\n",
       "U9T8GqVXUbghpuZscEe+8PsXlSn+jjAFrun41U9d20zN+TTnUPnk0S9szTtUNFKx1933e0xdw70h\n",
       "gmR8mnMiP95UD7QmUd01v1kedvr9ssA13BSCxeOPFb/XwiHRxi3Y/QPyhqzIMKLsYwAAAABJRU5E\n",
       "rkJggg==\n",
       "\" style=\"display:inline;vertical-align:middle;\" /></a></dd>"
      ],
      "text/plain": [
       "<IPython.core.display.HTML object>"
      ]
     },
     "metadata": {},
     "output_type": "display_data"
    },
    {
     "data": {
      "text/html": [
       "<dt><a class=\"ProveItLink\" href=\"axioms.ipynb#unary_composition\">proveit.core_expr_types.lambda_maps.unary_composition</a></dt><dd><a class=\"ProveItLink\" href=\"../__pv_it/axioms/fc5ad42732757eaff21c92028e4df6e1e6bc96200/expr.ipynb\"><img src=\"data:image/png;base64,iVBORw0KGgoAAAANSUhEUgAAAToAAAAWCAMAAABnhaCXAAAANlBMVEX///8AAAAAAAAAAAAAAAAA\n",
       "AAAAAAAAAAAAAAAAAAAAAAAAAAAAAAAAAAAAAAAAAAAAAAAAAABHL6OuAAAAEXRSTlMAq1RmmUTN\n",
       "IjK7EInv3Xbz6T5NtFUAAAAJcEhZcwAADsQAAA7EAZUrDhsAAAPrSURBVFjD7VnZkuQoDDSXuZn1\n",
       "///sYi4jwJhy1bwNEd0EVXRmSggh6G37vHH/46wV1ydwFCZ82/h4uATdyPmFAA6Q3xrosP+lGfyw\n",
       "HocJX7YWgznYT1sr7gcCCm/AjiNUvsVkCRPrbe66OOFFo1qrWwxHYP8XXFfx9wIyb8QOI1po9qUw\n",
       "VPs2d12a8HnTSBh8j7Er2P/cdRX/SEDiTdjnSOSw43JtaciD6yh56TqDmVT3GITC/ueuq/hHAhJv\n",
       "wg6jvIp6LUOZ7cF1ZimT9BHODrVNMYyC/Veu6wXU/EMBkTdjnyOSHLy2z/D+4Dp8hwMMxn3oaNuR\n",
       "NDuGwP5T1z0IqPjHAiJvxg4jY89m1pI71UAdtVYKoDZPUM4hJfQVyxbg2HY7IGMRnWJotIH+wXXK\n",
       "hV2n0JIAwJ8FQIjImw0NIxpsl2rJdTs4aHZvlNhZ7bo8wctwyHnfjrXiLrMeriOBGCSFArlCgtqq\n",
       "Ieg6veFz25FjUUDFnwVAiMibDQ0jjvKv6Go6S/QW1+pIOY2K69IEwk9KtSFys8yuWSt+iJakwcAp\n",
       "AWGzEnUCR5cjuSag5k8CGojImw2NoxPjSg+SsEkpbljlurT84O/ThBOCgozx5z8L2nGAjISPjqTB\n",
       "EAfs567zmswZR8atCaj5k4AGIvJmQ+MIu/qQOKY7F7pOlRqndd0GVA8Wne3sNkuPMZiB/dMxEY5M\n",
       "cQXTXEDNXwQACAaiLqnYN5IVYmSuzE6cI26yYV34ko82bOD1G06psXLRVrYS9SQQAycEbJdyXQxY\n",
       "Z7Y1ATV/EQAgIm/ZsDaVdBcOudKnow3iyeBqdVJzhS2vXRcnKMk2ZEKmHSvvri51iI4xsjIi16Iu\n",
       "SK/0zwWALZKtBBCRtxwTUQU3FwGlV+JUfRFVKoRUVMtdg0oxTcCHUNSbza46m03LKl4nnjFGLlmo\n",
       "XnMdRWfUkjUBgL9YCSAouLxnFeg6GGThCsfv0SyOsA8lcZygqN/MmJK7G4puTyKQpccYlsH+yXUK\n",
       "aUcPviYA8BcrAUTk1fcqTMHUfmFEl5LTS9j9RezdUxlFAxIYFxb2S7cJvb/irwVkiMSbsAcqVDhg\n",
       "lQ4nhg9HNL8FD9QuXM+72x0KxXV/1R+8O6w8L8Si05usDH7FnwQACPjuMVARwyy+vvgNs/cvi5I/\n",
       "vNfJj99QrWwfeXqM/LCz8sATxFgvHemX/FFADZF5o6EjFXm9cbt9r7iUD65T8lPXEUf5iGTkzJWF\n",
       "CWKwR2Vv+aOAGiLzptO7UyFxOjCYCqnSjVIFd6GChP+bqKrYOOHL1mLkRyK3EtL6B/+baAQk3mTo\n",
       "QIV26Q/IGZNEU7X9a3ftf6i2JZi+RUhJAAAAAElFTkSuQmCC\n",
       "\" style=\"display:inline;vertical-align:middle;\" /></a></dd>"
      ],
      "text/plain": [
       "<IPython.core.display.HTML object>"
      ]
     },
     "metadata": {},
     "output_type": "display_data"
    },
    {
     "data": {
      "text/html": [
       "<dt><a class=\"ProveItLink\" href=\"axioms.ipynb#binary_composition\">proveit.core_expr_types.lambda_maps.binary_composition</a></dt><dd><a class=\"ProveItLink\" href=\"../__pv_it/axioms/2af0f0b4298cae1127661da204438790d82f59d50/expr.ipynb\"><img src=\"data:image/png;base64,iVBORw0KGgoAAAANSUhEUgAAAb0AAAAWCAMAAABjXLLvAAAANlBMVEX///8AAAAAAAAAAAAAAAAA\n",
       "AAAAAAAAAAAAAAAAAAAAAAAAAAAAAAAAAAAAAAAAAAAAAAAAAABHL6OuAAAAEXRSTlMAq1RmmUTN\n",
       "IjK7EInv3Xbz6T5NtFUAAAAJcEhZcwAADsQAAA7EAZUrDhsAAATYSURBVGje7VrZtpwqEJV5Jtf/\n",
       "/9mrqEhBIfS0Vh7CQzhtt3uoYigxy/J6U0UfQ9DLx02hH5+wv8Cr+pxq5v6vWFfjq+p9iZhqWvRO\n",
       "fJ67jHg1Ec8/+uif81akgDN/eGrfsF47x65mMYhEkn9F2RQhdWX/rgXunK0RC/ns59lrSAFnZD/L\n",
       "3rNz7GoW00rkWYOcmoxWgv5NC45oTyvEskn74+whpIBT2h9lb+Qcu5rFNBL1NfmUmRs6DPRvRtFT\n",
       "YWyFWDbGf5w9hBRwnh++n72Rc+xqFtNKvBLr6Bw77GcsxGZSi9W2iJDGfpq9qGZsdDm9/Tx7iISx\n",
       "c+xqFtNIZGeq5dx2IWHfsQCs02Ycu9AiVosFeyN7A9ZlQAo4JXsreyMJY+fY1SymlejD3ryb3HNh\n",
       "fwDZGInV7p6+AdwUqoWA+EB4jQgxHKkDxEMwGoTOxrTIWDLFuhUDMSoGSCEC4HRkMnt6L+Av3IEE\n",
       "3DkqDQBnMa1EnmJi7FT2rlEgQVW4CYokbgHGZdN6S11jiwgxmKyyJ7esainK0LmF7qsMW6dY3Yao\n",
       "vAGkEAFwMlmOm7uRKntWRmccmTSOOkelAeAsppWoyPXPcRfnD4tGoLBPQEztEbALYZ1BF+HYUKtu\n",
       "ECuMFNUie47Bcmz7RtMj1cTMsNK04VzBO0grBMBJ/dzcUzvs/QzwbBx1jkqDwFkMInFnuONkmHg4\n",
       "QvAC9um+/fccLNd//gugrWu5SdC1Raww9Aqzd36Tg7F9s/3pd8c+zrB6klBVSVohAE69Tu979k7e\n",
       "wDjqHJUGgbMYRCKNZc2yPi6haPYWEENkCAopelt3qbbAENXcOytjacvQpQJO38P5gVWv+5COviIF\n",
       "CIBT+NnsqThtHHXekVYCZzGYRLmw64eU+Lv2YDGyOLFypjBsQ8d2FhBdPfsagiBCDBpg9mLSoSQI\n",
       "XZqr0S8TrCwN7Ux8kQIEwEnD3L63CFaWms/GUecdaSVwFoNJdPRmYfdGG3lFt5NE2Kfaz4iF+FQE\n",
       "4CbqUxwwTw+kGuOQUVQtxilLgwKhS+IKhQ+sqTCxK6ttlAiAk5m5uUcpOG98No4570krgbMYTKLy\n",
       "dwQ4v3dY2z72XNVV7sW+mGvLt8iL+3lfPD32KLAXHEg1Bm9OUZmRxf5yzD2yT1g2w2r3AU7yrnDJ\n",
       "BwiAk7up7GnjTHT3y4ZH46jzjjQAnMWgEsldp5gcjFSQrtXo0QH2ae7xbV2jnPUOa1xVBYGt+0Sq\n",
       "MYKYeFq3xEW+qilWQaK7n2gu+QABcAYxlT23l35SzBlHnXekAeAsZiTRZ0a3jRzd7N3XMDv7dw77\n",
       "OEERwSANs+ecTs4TS46RXgiAU4VfnHP2nePSYDTGEm2awdalAmablKR3Yjo8R+6dUZH04I2dwbYn\n",
       "tc/Z28Nu/dTxrCawOj1JAQLg5Ozr2es470hDz61HEo/JdrzE2BYz2b6mNKrsX85eMM0bENOsfdf7\n",
       "jufshU0cmTvgI97uhxc1aYkAOGdeuLxqveO8Iw2JxljilXhar6P37DRl/3L2WOSqg9jqf84e3bAm\n",
       "6dPWIhrSEgFwGvX97HWcd6Rh2RxINPSsX4RNu2fENpXrITL17iv/uSOib1Zi8P3sfcxbkQLOOPOi\n",
       "+hvWVRxfzWJGEl0872P7zGSO2+Vf+4vb/y8eNvYGDFNNAAAAAElFTkSuQmCC\n",
       "\" style=\"display:inline;vertical-align:middle;\" /></a></dd>"
      ],
      "text/plain": [
       "<IPython.core.display.HTML object>"
      ]
     },
     "metadata": {},
     "output_type": "display_data"
    },
    {
     "data": {
      "text/html": [
       "<dt><a class=\"ProveItLink\" href=\"axioms.ipynb#multi_composition_def\">proveit.core_expr_types.lambda_maps.multi_composition_def</a></dt><dd><a class=\"ProveItLink\" href=\"../__pv_it/axioms/c8218f0ba26027b3ef1d7c72ef17c078d0917f760/expr.ipynb\"><img src=\"data:image/png;base64,iVBORw0KGgoAAAANSUhEUgAAAhkAAAAzBAMAAADInAfBAAAAMFBMVEX///8AAAAAAAAAAAAAAAAA\n",
       "AAAAAAAAAAAAAAAAAAAAAAAAAAAAAAAAAAAAAAAAAAAv3aB7AAAAD3RSTlMAq1RmmUTNIjK7EInv\n",
       "3XZ/CtNrAAAACXBIWXMAAA7EAAAOxAGVKw4bAAAHjklEQVRo3t1bbWwURRh+u3t3u9272x7REGOE\n",
       "XmI0MUi4RCTWKD2kGLEQTvghMQROkBDhB8cfExDsaQzR2NrTGKF+0IsaE4rCFRNJaAwtBEGI2vgR\n",
       "o7HxCEZSQ0qBUkobOWdmd293ZmfvlthlK5Pc3u7Ms3uzz77vzDvvswfgqnR1dcEtXpSurrxL6B+l\n",
       "kUn84drsVGLhPb1TpVLO5Sk/T2oHbqMPMzflrh1/pc0wCdEXNmoK1KEaJ18vcLFS2v11K2NXOzUI\n",
       "/b6yMY8+nKV9beZiQ8Pur+uAbShNm/Z8FtSE03ndfrIhnaD9VnuiQokLnnMDbDhhv0HmOAaw0em8\n",
       "aMJHNqJF6jCg9SVQz3XsBVfdX9gBK10HCKJJYK6jq5zykY1H6MOI9nXoCG+iCb845vq6TlgRVYuI\n",
       "kYjjBPqcj2ycpg/v1R5g8UKcg31JveT6uk7YGuRAIeSdIceBY03GNzbUcfq4WXMUmGN2NjCwW99L\n",
       "Cpc5tZSjcbG4LP1Vs7ZIDpQZaDcccxx+Y76xEWU6tY5sl0O7Oe+uhZ0pshOMyxP2WqrwsfgW4/J6\n",
       "stO+Z2g6ZlpME/JIofsgjPvGRjszPvygPVhoQT38mMwv4YQx0QRAugiwr/tOqpYaLBisWb4A+JTs\n",
       "XMiAcAzfc69jOHrdNzbuYo6PE/d5p6k+B/IQCYRC6KOFy4NNC65hppZStZQFMFizII5qybj5Afrg\n",
       "IVp2nqw/9I2NPh4b+wHq+o2wMJTXgwMFzcX/AFyBlqyllmaDwZplo9YIgC2mEbUGHW0DGjM+sSFf\n",
       "Bo6nJNF40muwoRb1IDuAPr8DPEzYKNfSYzKDnfvQUOwsGVeH9GCf/GB9Sr84d9yAAwmf2FDZEGkP\n",
       "HgETWlytLxne3zabPKwVRsD+lbWWLjRWefAYMr4zZE166KNfjB+URyvfbCTmExu1vZxVwnbccLXM\n",
       "hvjuYRKDYGgnulf5N0vtAWQKCr47smGw0v40jOmTdsMm4igh1LIKO1Og4Nypfp0NwsrdLthwB6xa\n",
       "IuwDaAPYW9oIQudowVxOkpGgczQP95U2AWy1RpFR5FXwExgbBltTlHv1aUqPvTovTpv+Njkx5RzG\n",
       "DutsLMLfG1yw4Q5YtRxIsvFHlrO4phcaScl1CiSSVXPSMDebtMP5LPGKzsbL+OdyLthwB6webhTZ\n",
       "niSrsbH1tVfd5uigBVmHmEvymhZWGNqv62zgWSgcd8GGO2D1ZbftErtMI/hyosg55ftSyfXln4JQ\n",
       "RprJI6/Sk1RGdDbEhBbCVGXDHbBqabRZ8d6bkgiE2kredtGYU74dGDjtak5xBaxaLtg6JRVvChvn\n",
       "KjVeM9h4ghfw8tgoA612qPDxzn5+JA9TsHxtsLEFJP5SN8ywYQCVk5aGz7jDNwWB10d6Fpdhy6Yk\n",
       "GwMGG7X5MDMR72hOiX1arGtlwwCGrUmVI9xxlYKA2A9qOeaqn4pk4JheY0MoWsdG+UxHSogdhift\n",
       "bBjAld+Z9cFWrtNbISgASoI4/D9hA9LzLdVNyKSF+QEo2NkwgMVnLauOENfLrBAUEcXh80QFT8mA\n",
       "JwqTxK/OVPQUOIiCeHHhm2fUBl10EF55ulgINy1tWkSzcZAsnVV43HLbgTRvZWaFoIjo7Nw7TNey\n",
       "9QarS14oTEH+XLW64igK23HSaVUiElNj2twvZA/fw7ON7cQOVsL58sohmEUDwvI/2QUAgZjlUVBu\n",
       "N2dY27A7CzxSmM7STZVUpr4yGzWof9v+grosWuSt0NgIqDkOGzXkRpp76vPybI2NQE/3OPQqbG8x\n",
       "xHKIqGhJOUZfOJHnjcIUYpyygso0Qq/oZ0IrROMwr6OjIy5klUKaw4buBTj3EtV+qAjSGGTkXtZR\n",
       "EER87IFFs7Q7PwqwpszBHNaQsLrkjcIk0suVCiqTMkGzcRIGoUWGNzTbgOVFe7yhFWQ9dXHMhlIg\n",
       "SRo0l9amYB8+1DcaRBiE40IB10jjoJiL73bWUCPgmcJ0il4eOqtM5VWbztswso6GgJZXFVOgxhyy\n",
       "PYE+UJatx2zIR2FJDD4ZTeEgtTUun4DWDN7EdchuJR2IY9S8iZ7FZlRSx64v7wXPFKZ1VFsFlUm4\n",
       "RLERjMEG2PI3SDil2LZBz+04576wpwjG88gjQzJvw9jrFwpR0USVz2QniGbwTGHSxHcXKpOWnrRn\n",
       "Avd1dKSqZwLl8wcBntEPNpf6IVi2PmNPiampmnMmqvyE2EzgOvBMYSKvRvBVJrCZzX/Mi1oNTuTs\n",
       "2VGknREeSdrOI4XpfrxxozJp6Uk/FAR2EDgOnilM7SSCdqEytRR9YoOrLnmkMK3CGzcqk2/qEixx\n",
       "8pTkpCtMs3ElX2Wiywzwi401zDC4BzxTmBpIBtCFyuSfKh1lAo5u8Exhcqsyif69scBOKm3gmcJk\n",
       "7XUllSnq39ss7JtOWF3yRmGSuFfiqEw+vukEjfQ6Aa+tvFGYAvwXvewq01vgHxshxm93gUcK01Z+\n",
       "Psh2z8FxH9mQ6bdnSYbJE4VpF7fWrjJF4z6yAYPMwyp6ozCp/IHGrjL5+mY1+9a93yWYvlE2fpzU\n",
       "f+usnVJs7NSGZ6Vrv1s2buV/6+gLH/xvnX8BM3/ecaHa9PIAAAAASUVORK5CYII=\n",
       "\" style=\"display:inline;vertical-align:middle;\" /></a></dd>"
      ],
      "text/plain": [
       "<IPython.core.display.HTML object>"
      ]
     },
     "metadata": {},
     "output_type": "display_data"
    }
   ],
   "source": [
    "import proveit\n",
    "%theory # toggles between interactive and static modes"
   ]
  },
  {
   "cell_type": "code",
   "execution_count": null,
   "metadata": {},
   "outputs": [],
   "source": []
  }
 ],
 "metadata": {
  "kernelspec": {
   "display_name": "Python 3",
   "language": "python",
   "name": "python3"
  }
 },
 "nbformat": 4,
 "nbformat_minor": 0
}