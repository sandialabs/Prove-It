{
 "cells": [
  {
   "cell_type": "markdown",
   "metadata": {},
   "source": [
    "Conservative definitions for the theory of <a class=\"ProveItLink\" href=\"theory.ipynb\">proveit.core_expr_types.lambda_maps</a>\n",
    "========"
   ]
  },
  {
   "cell_type": "code",
   "execution_count": null,
   "metadata": {},
   "outputs": [],
   "source": [
    "import proveit\n",
    "# Prepare this notebook for defining the conservative definitions of a theory:\n",
    "%definitions_notebook # Keep this at the top following 'import proveit'.\n",
    "\n",
    "from proveit import A, B, f, g, m, n, x, y, z, fx, fy, gy, gz\n",
    "from proveit import Function, Lambda\n",
    "from proveit.core_expr_types import Composition, FunctionalPower\n",
    "from proveit.core_expr_types import A_1_to_m\n",
    "from proveit.logic import Forall, Equals\n",
    "from proveit.numbers.number_sets.natural_numbers.successor import NatSuccessor\n",
    "from proveit.numbers import zero, Natural, NaturalPos"
   ]
  },
  {
   "cell_type": "code",
   "execution_count": null,
   "metadata": {},
   "outputs": [],
   "source": [
    "%begin defining_properties"
   ]
  },
  {
   "cell_type": "markdown",
   "metadata": {},
   "source": [
    "### Functional compositions"
   ]
  },
  {
   "cell_type": "code",
   "execution_count": null,
   "metadata": {},
   "outputs": [],
   "source": [
    "unary_composition = \\\n",
    "    Forall((f, g), Equals(Composition(Lambda(x, fx)),\n",
    "                          Lambda(y, fy)))\n",
    "binary_composition = \\\n",
    "    Forall((f, g), Equals(Composition(Lambda(x, fx), Lambda(y, gy)),\n",
    "                          Lambda(z, Function(f, gz))))\n",
    "multi_composition_def = \\\n",
    "    Forall(m, Forall((A_1_to_m, B), \n",
    "                     Equals(Composition(A_1_to_m, B), \n",
    "                            Composition(Composition(A_1_to_m), B)).with_wrap_after_operator()),\n",
    "           domain=NaturalPos)"
   ]
  },
  {
   "cell_type": "markdown",
   "metadata": {},
   "source": [
    "### Functional powers (repeated compositions)"
   ]
  },
  {
   "cell_type": "code",
   "execution_count": null,
   "metadata": {},
   "outputs": [],
   "source": [
    "function_pow_0 = Forall(f, Equals(FunctionalPower(f, zero), Lambda(x, x)))\n",
    "function_pow_n = Forall(f, Forall(n, Equals(FunctionalPower(f, NatSuccessor(n)), \n",
    "                                            Composition(f, FunctionalPower(f, n))), \n",
    "                                  domain=Natural))"
   ]
  },
  {
   "cell_type": "code",
   "execution_count": null,
   "metadata": {},
   "outputs": [],
   "source": [
    "%end defining_properties"
   ]
  },
  {
   "cell_type": "code",
   "execution_count": null,
   "metadata": {},
   "outputs": [],
   "source": []
  }
 ],
 "metadata": {
  "kernelspec": {
   "display_name": "Python 3 (ipykernel)",
   "language": "python",
   "name": "python3"
  }
 },
 "nbformat": 4,
 "nbformat_minor": 0
}
