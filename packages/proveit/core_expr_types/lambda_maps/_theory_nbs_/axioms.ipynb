{
 "cells": [
  {
   "cell_type": "markdown",
   "metadata": {},
   "source": [
    "Axioms for the theory of <a class=\"ProveItLink\" href=\"theory.ipynb\">proveit.core_expr_types.lambda_maps</a>\n",
    "========"
   ]
  },
  {
   "cell_type": "code",
   "execution_count": null,
   "metadata": {},
   "outputs": [],
   "source": [
    "import proveit\n",
    "# Prepare this notebook for defining the axioms of a theory:\n",
    "%axioms_notebook # Keep this at the top following 'import proveit'.\n",
    "from proveit import Lambda\n",
    "from proveit import i, a, b, c, f, g, m, x, y, z, B, Q, fx, fy, gy, gz\n",
    "from proveit.core_expr_types import (\n",
    "    a_1_to_i, b_1_to_i, c_1_to_i, \n",
    "    f__a_1_to_i, g__a_1_to_i, f__b_1_to_i, g__c_1_to_i)\n",
    "#from proveit.core_expr_types.tuples import f_x\n",
    "from proveit.logic import Implies, Forall, Equals\n",
    "from proveit.numbers import NaturalPos"
   ]
  },
  {
   "cell_type": "code",
   "execution_count": null,
   "metadata": {},
   "outputs": [],
   "source": [
    "%begin axioms"
   ]
  },
  {
   "cell_type": "markdown",
   "metadata": {},
   "source": [
    "**A `Lambda` map is as a `Lambda` map does.  Thus, `Lambda` maps are defined to be equal if they preform the same transformation under the pertinent conditions.  This is similar to the `proveit.logic.equality.substitution` axiom except that the substitution is performed within a `Lambda` map which requires a special rule due to scoping restriction.**"
   ]
  },
  {
   "cell_type": "code",
   "execution_count": null,
   "metadata": {},
   "outputs": [],
   "source": [
    "lambda_substitution = \\\n",
    "    Forall(i, Forall((f, g), \n",
    "                     Implies(Forall(a_1_to_i, \n",
    "                                    Equals(f__a_1_to_i, \n",
    "                                           g__a_1_to_i)),\n",
    "                             Equals(Lambda(b_1_to_i, f__b_1_to_i),\n",
    "                                    Lambda(c_1_to_i, g__c_1_to_i)) \\\n",
    "                                      .with_wrap_after_operator()).with_wrap_after_operator()),\n",
    "          domain=NaturalPos)"
   ]
  },
  {
   "cell_type": "code",
   "execution_count": null,
   "metadata": {},
   "outputs": [],
   "source": [
    "%end axioms"
   ]
  },
  {
   "cell_type": "code",
   "execution_count": null,
   "metadata": {},
   "outputs": [],
   "source": []
  }
 ],
 "metadata": {
  "kernelspec": {
   "display_name": "Python 3 (ipykernel)",
   "language": "python",
   "name": "python3"
  }
 },
 "nbformat": 4,
 "nbformat_minor": 0
}
