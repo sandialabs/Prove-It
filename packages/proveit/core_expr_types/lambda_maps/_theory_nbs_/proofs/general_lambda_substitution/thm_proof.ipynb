{
 "cells": [
  {
   "cell_type": "markdown",
   "metadata": {},
   "source": [
    "Proof of <a class=\"ProveItLink\" href=\"../../../../../_theory_nbs_/theory.ipynb\">proveit</a>.<a class=\"ProveItLink\" href=\"../../../../_theory_nbs_/theory.ipynb\">core_expr_types</a>.<a class=\"ProveItLink\" href=\"../../theory.ipynb\">lambda_maps</a>.<a class=\"ProveItLink\" href=\"../../theorems.ipynb#general_lambda_substitution\">general_lambda_substitution</a> theorem\n",
    "========"
   ]
  },
  {
   "cell_type": "code",
   "execution_count": 1,
   "metadata": {},
   "outputs": [],
   "source": [
    "import proveit\n",
    "theory = proveit.Theory() # the theorem's theory"
   ]
  },
  {
   "cell_type": "code",
   "execution_count": 2,
   "metadata": {},
   "outputs": [
    {
     "data": {
      "text/html": [
       "With these <a href=\"allowed_presumptions.txt\">allowed</a>/<a href=\"disallowed_presumptions.txt\">disallowed</a> theorem/theory presumptions (e.g., to avoid circular dependencies), we begin our proof of<br><strong id=\"general_lambda_substitution\">general_lambda_substitution:</strong> <a class=\"ProveItLink\" href=\"../../../__pv_it/theorems/6679331be9e478407e6eaf1170f20046992098510/expr.ipynb\"><img src=\"data:image/png;base64,iVBORw0KGgoAAAANSUhEUgAAAzoAAABMCAMAAACS/DLHAAAAQlBMVEX///8AAAAAAAAAAAAAAAAA\n",
       "AAAAAAAAAAAAAAAAAAAAAAAAAAAAAAAAAAAAAAAAAAAAAAAAAAAAAAAAAAAAAAAAAACGKEuzAAAA\n",
       "FXRSTlMAq1RmmUTNIjK7EInv3XZAMFDz6XwpTZHJAAAACXBIWXMAAA7EAAAOxAGVKw4bAAARWUlE\n",
       "QVR42u1dC9u0nBoN6YDsY///r+6pEDndqWbMs8d1fc+8H6UVFrcbq6b5woCmaeqbX/gFeJCvNoNr\n",
       "AzXMa0A3Z9vReNKvJfzC+UBIwU39xA4x09be76EOJ69A733PNkHF/yvq9CfjPwLmibtugtpfo07D\n",
       "kcfAV0A3UeeBosGC/aizGhr4XPyzgcobX+E9UHfIZdRpROg2Ui11mEi95kKdvS/A5A8zB3NrIOac\n",
       "heLfymRy6RU+AdVALqQODbXveqmDkgPLktgaA7H7wx4D1tmWwyBwIP69oWMXXuEzUPVvIXUaNH4R\n",
       "dYaZ5qgz6GGnH//woNNatS0wHVkg/s1z7fbCK3wGqvktRNLP+Huo06V7qs7uSzj+w9QRtt3AgvFv\n",
       "h8SKX+FTUNVvjDpj7o3G6Wuog9ODzkYdXRB/2WeAbXttCse/3Qwixa/wKajqN0adYcy2cPkt1Omm\n",
       "Jk+dRkxLEPwPU6c1L0eQmFDrxfeIyz7m9UomAm0VPwueX8DDXMqenIF6A9YEVPUbNdhIrg2N4kuo\n",
       "EyB5iDrtABptvznYPbxdKDqeilfRj3O4CJKJsGBnwVQtEzOMtJMVLELx1xW9GE9AvQFrCqr6dajj\n",
       "gJ/bnBmEv4M6KFeEnepm9J/HOv1EYd7v1gv0F9bWkX4evPjNhd+uYzQjB8vISmScI1TQLO38G67w\n",
       "4dzkBa/Vp5kOgXoD1iRU9ZtwE+AuPWOeu6+gDptztme3T+84fZA6BxzyZYe027sS+hamCmo1SD++\n",
       "XeOmxdwYpDxYuVZiu7eqc4D2LOzqzk3Okd0oIFBvwJqEqn5THjbWCZrszYdvoA6ZMYw6WD7sJHCo\n",
       "Q9f1o36xCxr2yFhHeYI6tpdAx69GEVM+FXxob1bi8qc/Vj7EQ2Xnv1tGueawVJ8UJ6DegDUJlWZH\n",
       "nb7jyUZMZ/4N1MmbvJ35JfJd1NHV3S6R7TNjnbfcaBlsI/Li2WoU6Uo8tEc7kbCi5mhnQSVqjs8J\n",
       "z3XI2hwMXADUG7Cmoarf+Fxnyi6rz+ILqMPm7HCtqcOxbmyME+n3G+HY4EODV1rUMbW5ltl0y1O9\n",
       "C70lqnHvGYT04tnav6Num3jpdqJLxEk0oxZkFsEaLwsmG92hkTFnNKy3EgDUNFbQhIdBoKrf6KhD\n",
       "86vq44HNVVKHzBxKnV6o/oVNfQBGODZYAeErrRI1O4O4WIb3O57qX4iPs53dEdw7toiKX5olntpt\n",
       "kqTaI9MzWiexGba98yYV8g8ri56Z5t7yXNfX256eBNQ01gCeBNYkVPUbo04PsPrloVVWSR00Uyh1\n",
       "GqS6gvZV5sM6pPaWs9rEUizTJtZ+v2OkWf82y0cdMr3Uxaf6D/V6v2EKegl0PEOSDz2Sg90eJ3XA\n",
       "xEk0AHVqM2maBv6hr7GzMAPglKse+rprn+inoKax+lATWJNQ1W90N8EAaeRd/dQReVBdaDq9WrgD\n",
       "tk4mmVixdE/JZ+oro6OO3sm9vixGdzzVf6i/rD3pWj0cX5r82jbtEfuWTv9qaX0fS/WzYoGxhG2P\n",
       "7EHer64FQU1jhUANXORB1b/RUQfyRrM7A6+ROoCpjked1UYYCVtebm/Ee2xvuveEjbFeibkMU2d8\n",
       "VSh9ZT0R08QvPjXwUM9gUzsXX1Q9rDsENmGa9ugbVP04DEPLIql+CFyDO2VN5XZzDsuizGDNDFJQ\n",
       "01hB+0R4Hqr+JVc2onauMVQjdfA8nqZOI5ZZAyV7I2bcjW1GqmNDf8yV2Gm9tptA9ITJQa2NTxef\n",
       "Gnmo9P2F41K20+jt3B8PZd7zbt4YyGRgIDcnghnAJRm65mUQ9VvLztnbgjWskyCoaawQqKGLjlAN\n",
       "5EvUad0tLjVSp817CXzq0JZgydeS2RrxerLFit027ayxg+jdP86Vjt07OnYEkssyd7+3hvKnRh46\n",
       "+gXJFgxEr8Qe4sMT2vR0F1AFqWvGXF2vMx0Kg5pGA1p3kHmoBvIl6hC3S6+ROt2Mz1PHngUo08nJ\n",
       "hTNVxqG8seP1sv939Biqejlv8fL0U0MPDbax2J7I/tEVrWhLLanqz0LdIV+izuCu7NRIHQFYDotT\n",
       "Z5BiWxyhzKHjvM2gaGDi6caNksWp089IccQdBc4/NfjQ9ieQ9Wi4RB3mauDUSJ0ZsH22y+uwEXBs\n",
       "ojxH/8F0H1GuPDUIhP5a94OD0DQJcq1hDnVTp79H4OomMKle6PansV/7rjlMzkyiQurg+cyu2XH4\n",
       "VekvFPRSBae8OsfFViF15HxiLzQiieF5yA4cbx6n/Aqk9JZ83ou6QrCmtuFtdjrNHeS4fiukDp/h\n",
       "Ajco7sbWx3jerZ53RuJPdjRWf2+GnUJNZG4KVgPY08e28OkjQa0jDb1Q57oUoKLOPZqCCK5dTRLj\n",
       "kyrKTT2PjWKKjtxiulKP3v1wiT/s+kM8fcIHUXsZ+Kh7NafusCvs1fMXUGe0rwBsyYlHfvbIFXfs\n",
       "oYU616UAFXXu0RQcZ6jO13boLEkdswbfxTPt2kv16t0Plvhzzq4F9QkfRH3MwENNt3ogU9Pbx515\n",
       "t1pGlsJkDWCLDgtP5Cx1pgN1rksBKurcoynYgakzpWyjrSjNfqvEMut80dw43g+W+HOpE9InfBD1\n",
       "MQMf9QYGOX0z63TVil2cpwawJdTBJwXlpLMmus51LksB6rnOLZqC0wwUhyLJc75bUQrThUZLic7X\n",
       "fML+/bEaOS7EO9QJ6RM+iNrPIIIaOa10F/nahf7rAFsiUXFyMCTOsslKnctSgJo6t2gKCih10vpr\n",
       "a1Ea9Tw+Afv+AreGd78lAOXU8HFbtHNnSJ/wQdR+BhFhQoc67b4oyPU/KwFbQh16zr0VoM5lKcBd\n",
       "/OQGTUExw3xUMt2VrUXZ7sfTpEThsTCRBOu6vPut+adb5VO0QYT1CR9E7WdwmDX33XIAd0BCIOug\n",
       "6mixiNYDtpA666nFEwZegDpXpQANde7QFBQzbPY2pV97LUrdObH5ZUuyYB+TSIJ5f/b7fYm/A1mw\n",
       "Owds7dE5oE/4IOoAbM9dubUre67TWlOOTj+8DrA2dWLCiiEysIvUcaQAWeoVeZo6B01B1kaPRVmK\n",
       "ZscZIYw6Q2aT6FqUWk9mK6JFF8MTzzNJhcp5e9Yhib/DOCPtXqW3d1SF9AkfRB2A7QkTjh51ptk6\n",
       "zyeqAls26rD5zJZuGqCOIwXonJJs+qldEoiSz2jT1DloCo6Ehtu3rWjmUwc0tKOMGNiKQquYbf37\n",
       "axIV0PnTSaXKefp+uzjMP//9H0exaJrNEkmPnE+lBvUJn0MdgO0JE/rUsTxMxHRwdYAtVLIcz6AZ\n",
       "nI3JijoBKcBBonE54ojRukdYHc4NU+cf8z91C3Ayig2HjqKZT51/gew6dII6qyYkXTl5XEQ2SYXK\n",
       "eVbWpmOIjjrUosvQ2kNQSJ/wQdQB2BQw6hgUTHR1gS2kDjljRv7Doc5/Z+0TO0gBtq12oLwSWmOp\n",
       "5UYdOyOMhOWlJlLqFFfRrGzUGXJmnWOwrVm264sf69UkFar8mftDEn8H6gzuUp6tSRjQJ3wSdQC2\n",
       "tzHFp87qkKbrnbvBUAfYsrmOpRZXOursUoAK3L7VAQ+Y9nKhDm/bdnr9R1PU2TUFXak72e7Nw1E0\n",
       "K6SOzHUXa1FqUaGlutTHSQ86f3ZSiXKeuT8s8efW8GGThT3SBPQJn0QdgO0JE/rUWRRxydCTV8X1\n",
       "lYEtlR4X6BR1/LmOkQJU4KyDvnh4GWyYQked3sLSttYsmO3+LkfRrNDDNubU9tei1D7MZcvV2Nr9\n",
       "lVG+s5KKlPP0/WGJP6c+E+s6QX3CMtQwbUIftidMOI77X91hieWotDvX/zRYdVkhdc5MdoJuAiMF\n",
       "qMBRYlPnRRg5AqljNAVXL8H+nOX1zOoP8W87Sx0xQqijBQAZ4trX5+v8maRC5Tx9f1bijw9R6kT0\n",
       "CYtQA7UJj7APqNcVHfb6OyNpx46cr1cO1YDdri+kDp8vU8cdf0k3rgFv1GFcz/3z1LGb995UeGtJ\n",
       "kjmKZv6cEEIdlt3othWlf4ojrvN3UTnvpMSfS52cPuFjqA3sHt79Lt4ja1NRHWALqUNmehd1NnAD\n",
       "d0adRQFWATxBHTbv0mSLWuZiNa//4yqaHUMH8bVnP/umitLfJxjV+buqnAeW+POoA9AnfAy1gX3i\n",
       "M9OvSZD9fdA6wBZSZzixsoP97Z8BcLvfdJOakCj9/BB11CizbaVvpVxU7bb/cRTNvIqB7GHDWV+C\n",
       "KsqDalhC5++qch5Y4s+aOahuO6dP+CBqDfvMZvd2dgUuqgBbSB02w7eAEu/QQRjcoC3Z7nCMDUwd\n",
       "0xth237TTd4omh0DgrwMybo4VVFG1fMSdXdNOW8ErxT0iv8n9AkrQL20CYGrA1v6cT/4wcrD0f/o\n",
       "AWvGl7kOEE6IOiPWDoPXtGaZSspO/Y9uNyh8OryFvEzWN/2yhjYb/N3qeWck/l6jb2zwfDNseemE\n",
       "/OfBykmUUgc+3LpH/5/TJuBGPpksgxjhm427G6ldxBEF0ibg80946RfuCAJ+QqZ17KEKZT0IRBGn\n",
       "/VHnF24J0wnPYu1iUnQW+YvQ/Kv0X7iFOgJ8aVe7hCFI/fNHnV94O3VE7cK5zQzILW+wfYWEYVTD\n",
       "sGrQ9YE9r2BYYrC5Yug1UmcCLPDyvIftCyQMoxqGNYHOKhhWAbbUN33CTdDX/5EQBNiJI6HrOpg3\n",
       "bw5wCcPo+d4aQIMVDOso4XLqgNd1qOu/qpE6ErAmCl0SZV3z9gCWMIwpxVQBGqpgWEkJF1MHvpvg\n",
       "8PX3GqlDAd5pnDXqDhKGbwxgCcMYdeoADVQwrKSES6nDZvCgidzNX3V+wXoGPJGAqCOaDwSohGGM\n",
       "OjWBzioYVgK2lDontn9O9X/8/YUxnx3s0AHuPlGxUAnDCHU+DjpKnYCCYS1gS6mDwZq+7LDeWCV1\n",
       "OMBPMHUQ6liHCbmUJDI/SiTB8B7uh0oYWtTBrzx69dY76BSwB0Gv3gCggmEVYC9QR4KbLj7srayS\n",
       "OhSwARSBDlib3qlfxCeCAjypJFDY7z8rYbhrGPJucWmNbpeaAvYoaAUDpGBYCdhi6sDX1tFRMr5G\n",
       "6jQij4rk1kQdRZxNjiior2eSSvX1TNZnJQx3DcPNSa2tbg06gflZ0FuAKRhWAraYOmIsbZR1UqfN\n",
       "Cw4NORvVlTDUlR7Q19NJpRKGPodBEoa2huG6trALd9Mc5odBx6gTUjCsBGwpdXqwl2A4mkJ1UocC\n",
       "PIanJAytvuWo4GWSCvX1At0WTMJw1zDcugF9ZlSDTmB+GHR01AkoGFYCtlyaANpypfcZpSqp04i8\n",
       "y7OFCOcqc8KWFj7U7J5Upq+3339ewlAL0231Z0QMN9AJzE+DjlEnpGBYCdhS6iDwINiJ5iuoI/Pb\n",
       "2GjmElfCcDMvaBPQ19uTyiQM1f0FEobaw7ZWwq5DqTUBfcxvAh2jTkjBsBKwpdQ5Ya/x76AO5MT4\n",
       "1Oapo52Ym3tn1UE76utZSUX6evr+AglDTZ318xfIWPQKtI8ZBBqEPg1akQKkYHgN7A0lfEnBkIBP\n",
       "TCLvylqpAzhATQCfphqMrBEnRDJ7rDf6eHtSmb6euf+0hKFZ16FI8n3+rEH7mEGgIbqLedBQBcOL\n",
       "YG8o4SsKhhN07yfz+/JaqQPZWgT4IGLdEobObgLru5ZxTcAaQB8UDCsBW0QdesJJ0H8LdXKfO8wP\n",
       "O18gYaioMyz2j/2lrbgmYA2gDwqGlYAtos4IPnAg2uZrqLOtg2WcHjxLnaolDJU/GgnWsM750kFE\n",
       "E7AK0EcFwzrAln2FFzrTCXXk9VIH5/McRJ+lTs0ShkrDcJ3pODVfNeijgmEdYEuoM8F3fpLmi6gD\n",
       "2fQkx5QxVL+EYVTDsGrQFYItUjDkYHMNjc1XUSfyIQT3nd5+uPcX/kqg4OMSNHiW6S7qrAHd+26D\n",
       "yJuiHf61gV8oal3wc/DeYsM0m1nb1cDIGujd/QJgLBuHXyv4hYImC2cO89r11txJ8z8nie9jlpFW\n",
       "bwAAAABJRU5ErkJggg==\n",
       "\" style=\"display:inline;vertical-align:middle;\" /></a><br>(see <a class=\"ProveItLink\" href=\"../../../__pv_it/theorems/c2d40e2684ec2846cbac36f60fcb96d5b5e05d360/dependencies.ipynb\">dependencies</a>)<br>"
      ],
      "text/plain": [
       "<IPython.core.display.HTML object>"
      ]
     },
     "metadata": {},
     "output_type": "display_data"
    }
   ],
   "source": [
    "%proving general_lambda_substitution"
   ]
  },
  {
   "cell_type": "code",
   "execution_count": null,
   "metadata": {},
   "outputs": [],
   "source": []
  }
 ],
 "metadata": {
  "kernelspec": {
   "display_name": "Python 3",
   "language": "python",
   "name": "python3"
  }
 },
 "nbformat": 4,
 "nbformat_minor": 0
}