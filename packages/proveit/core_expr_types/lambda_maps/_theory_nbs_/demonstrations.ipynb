{
 "cells": [
  {
   "cell_type": "markdown",
   "metadata": {},
   "source": [
    "Demonstrations for the theory of <a class=\"ProveItLink\" href=\"theory.ipynb\">proveit.core_expr_types.lambda_maps</a>\n",
    "========"
   ]
  },
  {
   "cell_type": "code",
   "execution_count": null,
   "metadata": {},
   "outputs": [],
   "source": [
    "import proveit\n",
    "from proveit import Lambda, Conditional, Function\n",
    "from proveit import c, f, g, h, x, y, F, G, fx, gx, Qx\n",
    "from proveit.logic import Equals, Forall, Not\n",
    "from proveit.numbers import one, two, three\n",
    "%begin demonstrations"
   ]
  },
  {
   "cell_type": "markdown",
   "metadata": {},
   "source": [
    "### Lambda substitution"
   ]
  },
  {
   "cell_type": "code",
   "execution_count": null,
   "metadata": {},
   "outputs": [],
   "source": [
    "universal_eq = Forall(x, Equals(fx, gx))"
   ]
  },
  {
   "cell_type": "code",
   "execution_count": null,
   "metadata": {},
   "outputs": [],
   "source": [
    "Lambda(x, fx).substitution(universal_eq, assumptions=[universal_eq])"
   ]
  },
  {
   "cell_type": "code",
   "execution_count": null,
   "metadata": {},
   "outputs": [],
   "source": [
    "universal_eq_with_cond = Forall(x, Equals(fx, gx), condition=Qx)"
   ]
  },
  {
   "cell_type": "code",
   "execution_count": null,
   "metadata": {},
   "outputs": [],
   "source": [
    "Lambda(x, Conditional(fx, Qx)).substitution(universal_eq_with_cond, \n",
    "                                            assumptions=[universal_eq_with_cond])"
   ]
  },
  {
   "cell_type": "markdown",
   "metadata": {},
   "source": [
    "### Creating, Applying, & Checking Lambda Maps"
   ]
  },
  {
   "cell_type": "markdown",
   "metadata": {},
   "source": [
    "#### Some example Lambda maps"
   ]
  },
  {
   "cell_type": "code",
   "execution_count": null,
   "metadata": {},
   "outputs": [],
   "source": [
    "maps = { 1: Lambda(f, c),\n",
    "         2: Lambda(x, fx),\n",
    "         3: Lambda((f, g), Function(f, Function(g, c))),\n",
    "         4: Lambda((f,g), Function(f, (g, Function(g, c)))),\n",
    "         5: Lambda(g, Function(f, Function(g, c))),\n",
    "         6: Lambda(f, Lambda(g, Function(f, Function(g, c)))),\n",
    "         7: Lambda(g, Function(f, (g, Function(g, c)))),\n",
    "         8: Lambda(f, Lambda(g, Function(f, (g, Function(g, c))))),\n",
    "         9: Lambda((f, g, h), Function(h, (Function(f, c), Function(g, f)))),\n",
    "        10: Lambda((f, g, h), Function(h, (Function(f, c), Function(g, f), g))),\n",
    "        11: Lambda(x, Function(f, c)),\n",
    "        12: Lambda(x, Function(f, f)),\n",
    "        13: Lambda(x, Not(Function(f, f))),\n",
    "        14: Lambda(f, Not(Function(f, f))),\n",
    "        15: Lambda(f, Function(f, f)),\n",
    "        16: Lambda((f, g, h), Function(h, (Function(f, g), Function(g, f))))\n",
    "       };\n",
    "for i in range(len(maps)):\n",
    "    print(f'({i+1}) {maps[i+1]}')"
   ]
  },
  {
   "cell_type": "markdown",
   "metadata": {},
   "source": [
    "#### We can apply our Lambda maps to appropriate inputs. Some examples:"
   ]
  },
  {
   "cell_type": "code",
   "execution_count": null,
   "metadata": {},
   "outputs": [],
   "source": [
    "print(f'[{maps[1]}]({three}) = {maps[1].apply(three)}')\n",
    "print(f'[{maps[2]}]({three}) = {maps[2].apply(three)}')\n",
    "print(f'[{maps[3]}]({(F, G)}) = {maps[3].apply(F, G)}')\n",
    "print(f'[{maps[4]}]({(F, G)}) = {maps[4].apply(F, G)}')"
   ]
  },
  {
   "cell_type": "markdown",
   "metadata": {},
   "source": [
    "Should we be able to do the following (where I was expecting the <u>parameter</u> `g` to be distinguished from the <u>input</u> `g`)?<br/>\n",
    "Should the Lambda application be handling the parameter `g` somehow to avoid variable capture?<br/>\n",
    "This appears to be correct behavior, but also shows the (possible) importance then of checking resulting expressions for validity as well. The Lambda map looks fine, as does the input, but the result is a recursive expression that should be disallowed."
   ]
  },
  {
   "cell_type": "code",
   "execution_count": null,
   "metadata": {},
   "outputs": [],
   "source": [
    "print(f'[{maps[4]}]({(g, g)}) = {maps[4].apply(g, g)}')"
   ]
  },
  {
   "cell_type": "markdown",
   "metadata": {},
   "source": [
    "#### Accessing pieces of a Lambda map."
   ]
  },
  {
   "cell_type": "code",
   "execution_count": null,
   "metadata": {},
   "outputs": [],
   "source": [
    "maps[4]"
   ]
  },
  {
   "cell_type": "code",
   "execution_count": null,
   "metadata": {},
   "outputs": [],
   "source": [
    "# single-parameter Lambda can use .parameter, and\n",
    "# multi-parameter Lambas can use .parameters, but more generally we have:\n",
    "maps[4].parameter_or_parameters"
   ]
  },
  {
   "cell_type": "markdown",
   "metadata": {},
   "source": [
    "For a Lambda map with multiple parameters, calling the (singular) `parameter` field yields an error:"
   ]
  },
  {
   "cell_type": "code",
   "execution_count": null,
   "metadata": {},
   "outputs": [],
   "source": [
    "try:\n",
    "    maps[4].parameter\n",
    "except Exception as the_exception:\n",
    "    print(f\"{the_exception}\")"
   ]
  },
  {
   "cell_type": "markdown",
   "metadata": {},
   "source": [
    "But a Lambda map with a single parameter can use both the singular and plural field names, giving the parameter for the singular case, and a tuple containing the parameter for the plural case:"
   ]
  },
  {
   "cell_type": "code",
   "execution_count": null,
   "metadata": {},
   "outputs": [],
   "source": [
    "maps[5].parameter"
   ]
  },
  {
   "cell_type": "code",
   "execution_count": null,
   "metadata": {},
   "outputs": [],
   "source": [
    "maps[5].parameters"
   ]
  },
  {
   "cell_type": "code",
   "execution_count": null,
   "metadata": {},
   "outputs": [],
   "source": [
    "maps[5].body"
   ]
  },
  {
   "cell_type": "code",
   "execution_count": null,
   "metadata": {},
   "outputs": [],
   "source": [
    "# variables in the body?\n",
    "maps[5].body.expr_info()"
   ]
  },
  {
   "cell_type": "code",
   "execution_count": null,
   "metadata": {},
   "outputs": [],
   "source": [
    "maps[5].body._used_vars()"
   ]
  },
  {
   "cell_type": "code",
   "execution_count": null,
   "metadata": {},
   "outputs": [],
   "source": [
    "maps[1].body._used_vars()"
   ]
  },
  {
   "cell_type": "markdown",
   "metadata": {},
   "source": [
    "#### For Function bodies:"
   ]
  },
  {
   "cell_type": "code",
   "execution_count": null,
   "metadata": {},
   "outputs": [],
   "source": [
    "if isinstance(maps[5].body, Function):\n",
    "    print(f'Lambda body is a Function with')\n",
    "    print(f'  Function operator:   {maps[5].body.operator}')\n",
    "    print(f'  Function operand(s): {maps[5].body.operands}')"
   ]
  },
  {
   "cell_type": "markdown",
   "metadata": {},
   "source": [
    "#### Infinite Order ?"
   ]
  },
  {
   "cell_type": "code",
   "execution_count": null,
   "metadata": {},
   "outputs": [],
   "source": [
    "import math\n",
    "math.inf"
   ]
  },
  {
   "cell_type": "code",
   "execution_count": null,
   "metadata": {},
   "outputs": [],
   "source": [
    "1 + math.inf"
   ]
  },
  {
   "cell_type": "markdown",
   "metadata": {},
   "source": [
    "### Operand/Operands and `_used_vars()` of Function()s"
   ]
  },
  {
   "cell_type": "markdown",
   "metadata": {},
   "source": [
    "Function operations such as `Function(f, (x, y))`, giving $f(x,y)$, have no `operand` attribute, instead having an `operands` attribute."
   ]
  },
  {
   "cell_type": "code",
   "execution_count": null,
   "metadata": {},
   "outputs": [],
   "source": [
    "temp_expr = Function(f, Function(f, (x,y)))\n",
    "temp_expr.operands"
   ]
  },
  {
   "cell_type": "markdown",
   "metadata": {},
   "source": [
    "In fact, unary function operations such as $f(x)$ also have an `operands` (plural) attribute, wrapping the single operand in an ExprTuple:"
   ]
  },
  {
   "cell_type": "code",
   "execution_count": null,
   "metadata": {},
   "outputs": [],
   "source": [
    "temp_expr = Function(f, x)\n",
    "temp_expr.operands"
   ]
  },
  {
   "cell_type": "code",
   "execution_count": null,
   "metadata": {},
   "outputs": [],
   "source": [
    "example_exprs = [x, f, Function(f,x), Function(f, f), Lambda(x, Function(f, x)), Lambda(g, Function(f, x))]\n",
    "for _expr in example_exprs:\n",
    "    print(f'{_expr._used_vars()}')"
   ]
  },
  {
   "cell_type": "markdown",
   "metadata": {},
   "source": [
    "#### Related: Depth-First Search & The Discovery of Cycles"
   ]
  },
  {
   "cell_type": "markdown",
   "metadata": {},
   "source": [
    "One approach to catching problematic dependencies among a collection of operands for a mult-operand function operation is to create and search through a graph or graph representation of the operator-operand relationships.</br>\n",
    "In the graph below on the left, we might have had a function with various operands, including things like $A(B)$, $B(E)$, $E(F)$, etc., where $X(Y)$ is represented in the graph by a directed link from $X$ to $Y$. The graph on the right is the same but now without node $E$, which then removes the cycle."
   ]
  },
  {
   "cell_type": "markdown",
   "metadata": {},
   "source": [
    "![title](images/example_graph_with_cycle.png) ![title](images/example_graph_without_cycle.png)"
   ]
  },
  {
   "cell_type": "markdown",
   "metadata": {},
   "source": [
    "Notice that if we cannot find a node with only outgoing links, we must have a cycle somewhere (i.e. such a node is necessary but not sufficient for the directed graph to be acyclic)."
   ]
  },
  {
   "cell_type": "markdown",
   "metadata": {},
   "source": [
    "We might represent such graphs with adjacency dictionaries, like these:"
   ]
  },
  {
   "cell_type": "code",
   "execution_count": null,
   "metadata": {},
   "outputs": [],
   "source": [
    "from proveit import A, B, C, D, E, F, G, H\n",
    "example_graph_01 = {A: [B, F, H], B: [C, E], C: [D], D: [], E: [F], F: [B, G], G: [], H: []}\n",
    "example_graph_02 = {A: [B, F, H], B: [C], C: [D], D: [], F: [B, G], G: [], H: []}\n",
    "print(f'{example_graph_01.items()}')"
   ]
  },
  {
   "cell_type": "markdown",
   "metadata": {},
   "source": [
    "#### Topological Sorting\n",
    "\n",
    "(as described at https://www.geeksforgeeks.org/detect-cycle-in-a-graph/, with some minor modifications)."
   ]
  },
  {
   "cell_type": "code",
   "execution_count": null,
   "metadata": {},
   "outputs": [],
   "source": [
    "from collections import deque\n",
    "\n",
    "def is_cyclic(graph):\n",
    "    '''\n",
    "    Given a directed graph in the form of a dictionary of\n",
    "    adjacencies, such as {A:[B, F, H], B:[C], ..., H:[]},\n",
    "    use Kahn's algorithm for topological sorting to return\n",
    "    True if and only if the graph contains a cycle.\n",
    "    '''\n",
    "    # get number of nodes\n",
    "    num_nodes = len(graph.keys())\n",
    "    \n",
    "    # dict to store in-degree of each node\n",
    "    in_degree = {x:0 for x in graph.keys()}\n",
    "    # populate the in_degree dictionary\n",
    "    for out_node in graph:\n",
    "        for in_node in graph[out_node]:\n",
    "            in_degree[in_node] += 1\n",
    "\n",
    "    # a queue to store nodes with 0 in-degree\n",
    "    q = deque()\n",
    "\n",
    "    visited = 0 # count of visited vertices\n",
    "\n",
    "    # Enqueue vertices with 0 in-degree\n",
    "    for node in graph:\n",
    "        if in_degree[node] == 0:\n",
    "            q.append(node)\n",
    "\n",
    "    # BFS traversal [?]\n",
    "    while q:\n",
    "        node = q.popleft()\n",
    "        visited += 1\n",
    "\n",
    "        # Reduce in-degree of adjacent vertices\n",
    "        for node in graph[node]:\n",
    "            in_degree[node] -= 1\n",
    "            # If in-degree becomes 0, enqueue it\n",
    "            if in_degree[node] == 0:\n",
    "                q.append(node)\n",
    "                \n",
    "    # If not all vertices are visited (popped from q),\n",
    "    # we have a cycle\n",
    "    return visited != num_nodes\n"
   ]
  },
  {
   "cell_type": "code",
   "execution_count": null,
   "metadata": {},
   "outputs": [],
   "source": [
    "example_graph_01.items()"
   ]
  },
  {
   "cell_type": "code",
   "execution_count": null,
   "metadata": {},
   "outputs": [],
   "source": [
    "example_graph_01.keys()"
   ]
  },
  {
   "cell_type": "code",
   "execution_count": null,
   "metadata": {},
   "outputs": [],
   "source": [
    "is_cyclic(example_graph_01)"
   ]
  },
  {
   "cell_type": "code",
   "execution_count": null,
   "metadata": {},
   "outputs": [],
   "source": [
    "is_cyclic(example_graph_02)"
   ]
  },
  {
   "cell_type": "markdown",
   "metadata": {},
   "source": [
    "#### The functions below are the most up-to-date versions of functions here that attempt to:\n",
    "\n",
    "(1) canonicalize expressions to avoid variable crashing;\n",
    "\n",
    "(2) construct a graphical representation of an expression (note this is not a syntax tree but a particular way of graphing expressions so we can detect cyclicality/recursion we want to disallow);\n",
    "\n",
    "(3) generate a dictionary of minimum \"orders\" for an expression and its sub-expressions from a DAG of an expression (if the graph representation is in fact non-cyclic);\n",
    "\n",
    "(4) return the minimum order of an expression.\n",
    "\n",
    "Several of these implicitly or explicitly rely on the `is_cyclic()` function further above.\n",
    "\n",
    "The functions still rely on a faulty `canonically_labeled()` function that will not return a full alpha-replacement for an expression containing multiple Lambda maps as sub-expressions, so that still needs work (as of Tues 2/18/25)."
   ]
  },
  {
   "cell_type": "code",
   "execution_count": null,
   "metadata": {},
   "outputs": [],
   "source": [
    "########################################################################\n",
    "import math\n",
    "from proveit import ExprTuple, Literal, Operation, Variable\n",
    "\n",
    "def canonicalize(expr):\n",
    "    '''\n",
    "    Given an Expression expr, parts of which might be Lambda\n",
    "    expressions, build and return an equivalent Expression in which\n",
    "    each Lambda expression component has been replaced by its\n",
    "    canonical form. For example, the expression f(f -> f(x)) would\n",
    "    be returned as f(_a -> _a(x)). This is not actually sufficient\n",
    "    for some expressions, for example returning multiple Lambda\n",
    "    maps in a single expression with the same dummy variables;\n",
    "    thus this will be updated/upgraded soon.\n",
    "    '''\n",
    "    return expr.canonically_labeled()\n",
    "\n",
    "########################################################################\n",
    "def graph_from_expr(expr):\n",
    "    '''\n",
    "    Given an Operation (e.g. a Function) or Lambda map expr, generate\n",
    "    and return an adjacency set dictionary representing the (directed)\n",
    "    graph of dependencies among the operators and operands of the\n",
    "    canonicalized form of expr.\n",
    "    For example, the Function expression f(g(h), h(g)) would return\n",
    "    the adjacency dictionary:\n",
    "    {f(g(h), h(g)):{}, f:{g(h), h(g)}, g(h):{}, h(g):{}, g:{h}, h:{g}},\n",
    "    where {} indicates an empty set (not an empty dictionary). The\n",
    "    expr f([f -> f(x)]) would return the adjacency dictionary\n",
    "    {  f([_a -> _a(x)]):{}, f:{[_a -> _a(x)]},\n",
    "       [_a -> _a(x)]:{_a, _a{x}}, _a:{x}  }\n",
    "    Notice that the original expr itself (in canonicalized form) is\n",
    "    one of the nodes in the constructed graph, typically isolated from\n",
    "    all others. For an expr that is neither an Operation nor a Lambda\n",
    "    map, the adjacency dictionary returned is a trivial one of the\n",
    "    form {expr: {}}.\n",
    "    '''\n",
    "    adj_dict = {}\n",
    "\n",
    "    # convert to canonicalized form to avoid variable capture\n",
    "    # (most relevant for exprs with Lambda maps).\n",
    "    expr = expr.canonically_labeled()\n",
    "    \n",
    "    adj_dict[expr] = set() # will often be an isolated node\n",
    "    if isinstance(expr, Operation):\n",
    "        adj_dict[expr.operator] = set(expr.operands)\n",
    "        for _operand in expr.operands:\n",
    "            if _operand not in adj_dict:\n",
    "                adj_dict[_operand] = set()\n",
    "        for _op in expr.operands:\n",
    "            _op_adj_dict = graph_from_expr(_op)\n",
    "            for key in _op_adj_dict:\n",
    "                if key in adj_dict:\n",
    "                    # update previously established key by updating\n",
    "                    # (not replacing) its set of adjacencies\n",
    "                    adj_dict[key] = adj_dict[key].union(_op_adj_dict[key])\n",
    "                else:\n",
    "                    adj_dict[key] = _op_adj_dict[key]\n",
    "\n",
    "########################################################################\n",
    "\n",
    "    if isinstance(expr, Lambda):\n",
    "        # For subsequent order computations, a Lambda map should be\n",
    "        # linked to each of its parameters and to its body.\n",
    "        for param in expr.parameters:\n",
    "            adj_dict[expr].add(param)\n",
    "            adj_dict[param] = set()\n",
    "        adj_dict[expr].add(expr.body)\n",
    "        # construct adjacency dictionary for Lambda map body\n",
    "        body_adj_dict = graph_from_expr(expr.body)\n",
    "        # update adjacency dictionary with body adjacency data\n",
    "        for key in body_adj_dict:\n",
    "            if key in adj_dict:\n",
    "                # update previously-estab'd key:adj pair\n",
    "                adj_dict[key] = adj_dict[key].union(body_adj_dict[key])\n",
    "            else:\n",
    "                adj_dict[key] = body_adj_dict[key]\n",
    "            \n",
    "    return adj_dict\n",
    "\n",
    "########################################################################\n",
    "\n",
    "def orders_from_dag(graph):\n",
    "    '''\n",
    "    Given a directed acyclic graph (DAG), in the form of an\n",
    "    adjacency list dictionary, return a dictionary of node:order pairs\n",
    "    corresponding to the nodes in the graph.\n",
    "    For example, given the graph:\n",
    "        { f(g(h), h(x)):{}, f:{g(h), h(x)}, g(h):{},\n",
    "          h(x):{}, g:{h}, h:{x} }\n",
    "    Return the order dictionary:\n",
    "    {f(g(h), h(x)):0, f:1, g(h):0, h(x):0, g:2, h:1, x:0}.\n",
    "    For convenience and flexibility, the supplied graph dict values\n",
    "    can be lists or sets.\n",
    "    '''\n",
    "    # first a quick verification that the graph is acyclic\n",
    "    # (otherwise, the results are nonsense)\n",
    "    if is_cyclic(graph):\n",
    "        raise ValueError(f\"The graph {graph} submitted to \" +\n",
    "                         \"'orders_from_graph()' appears to be cyclic. \" +\n",
    "                         \"'orders_from_graph()' works only for directed \" +\n",
    "                         \"acyclic graphs (DAGs).\")\n",
    "    \n",
    "    # use dict/set comprehension to initialize order 0 for each node\n",
    "    order_dict = {node:0 for node in graph}\n",
    "    \n",
    "    # collect all leaf nodes (nodes with out-degree 0)\n",
    "    target_nodes = []\n",
    "    for node in graph:\n",
    "        if graph[node] == set() or graph[node] == []:\n",
    "            target_nodes.append(node)\n",
    "    \n",
    "    # because the graph is a DAG, we know target_nodes is non-empty\n",
    "    order = 1\n",
    "    while target_nodes:\n",
    "        connecting_nodes = []\n",
    "        for target_node in target_nodes:\n",
    "            for node in graph:\n",
    "                if target_node in graph[node]:\n",
    "                    connecting_nodes.append(node)\n",
    "        for node in connecting_nodes:\n",
    "            order_dict[node] = order # will auto-increase if needed\n",
    "        target_nodes = connecting_nodes\n",
    "        order += 1\n",
    "\n",
    "    # then need to check if any of our isolated nodes are actually Lambda maps\n",
    "    # (notice that nested Lambda maps will lead to some redundant processing here)\n",
    "    for node in order_dict:\n",
    "        if isinstance(node, Lambda):\n",
    "            # print(f'Found a Lambda for updating: {node}')\n",
    "            # more elaborate order calculation necessary\n",
    "            # o(Lambda) = 1 + max(o(params), o(body)), where\n",
    "            # o(params) = max(o(param_1), o(param_2), ..., o(param_n))\n",
    "            params_order = 0 \n",
    "            for param in node.parameters:\n",
    "                params_order = max(params_order, order_dict[param])\n",
    "            # print(f'params_order = {params_order}')\n",
    "            order_dict[node] = 1 + max(params_order, order_dict[node.body])\n",
    "            # print(f'order_dict[node] = {order_dict[node]}')\n",
    "\n",
    "    # one last check: when expr is f(X),\n",
    "    # where a non-zero order X now appears elsewhere - do we need to check that\n",
    "    # o(f) > o(X), or does this happen automatically now? \n",
    "    # Actually it happens automatically based on the f -->-- X link in the graph.\n",
    "    \n",
    "    return order_dict\n",
    "\n",
    "def min_order(expr):\n",
    "    '''\n",
    "    Return the minimum order of the expression expr,\n",
    "    for an expr type Variable, Literal, Function,\n",
    "    or Lambda map. Currently uses the min_order_helper()\n",
    "    function, but can eventually be combined with that\n",
    "    function to form a single function.\n",
    "    '''\n",
    "    _order_dict = min_order_helper(expr)\n",
    "    if isinstance(_order_dict, dict):\n",
    "        return _order_dict[expr]\n",
    "    else:\n",
    "        return _order_dict\n",
    "\n",
    "def min_order_helper(expr):\n",
    "    '''\n",
    "    ########################################################################\n",
    "    Given an Expression expr of type Variable, Literal, Function, or\n",
    "    Lambda map, return a dictionary of values representing the order of\n",
    "    the expression itself and the order of any operators and operand(s).\n",
    "    For example, min_order_helper(f(f(x))) would eventually return the\n",
    "    dictionary: {f(f(x)):0, f(x):0, f:1, , x:0}.\n",
    "    min_order_helper is typically used indirectly through min_order().\n",
    "    min_order_helper utilizes both the graph_from_exp() function and the\n",
    "    is_cyclic() function.\n",
    "    '''\n",
    "    # construct an adjacency dictionary representation\n",
    "    # of the graph of expr\n",
    "    expr_graph = graph_from_expr(expr)\n",
    "\n",
    "    # test the graph for being cyclic\n",
    "    expr_graph_is_cyclic = is_cyclic(expr_graph)\n",
    "\n",
    "    if not expr_graph_is_cyclic:\n",
    "        # if expr graph is non-cyclic we should be fine\n",
    "        expr_orders = orders_from_dag(expr_graph)\n",
    "        # if isinstance(expr, Lambda):\n",
    "        # # the order of a full Lambda map takes a little more work\n",
    "        # # o(Lambda) = 1 + max(o(params), o(body)),\n",
    "        # # where o(params) = max{o(param_1), o(param_2), ..., o(param_n)}\n",
    "        #     params_order = -1\n",
    "        #     for param in expr.parameters:\n",
    "        #         params_order = max(params_order, expr_orders[param])\n",
    "        #     expr_orders[expr] = 1 + max(params_order, expr_orders[expr.body])\n",
    "        return expr_orders\n",
    "    else:\n",
    "        # if cyclic, we have a problem\n",
    "        return {expr:math.inf}\n",
    "\n",
    "    # still need to deal with lambda maps more generally\n",
    "    # stuff below is left over from pervious incarnations\n",
    "    \n",
    "    \n",
    "    _order_dict = {}       # an empty dictionary to build and store the order of each component\n",
    "    _order_dict[expr] = 0  # include self with initial o(self) = 0\n",
    "\n",
    "    # expr is a Label (i.e. a Variable or a Literal).\n",
    "    if isinstance(expr, Variable) or isinstance(expr, Literal):\n",
    "        # we are done; this is a \"base case\" with o(Label) = 0 when\n",
    "        # no other information is available about the Label\n",
    "        return _order_dict\n",
    "    \n",
    "    # if expr is a function operation of the form Function(operator, operand),\n",
    "    if isinstance(expr, Function) and len(expr.operands)==1:\n",
    "        _order_dict[expr.operator] = 0\n",
    "        # the following might simply repeat the previous entry, and that's OK\n",
    "        _order_dict[expr.operand] = 0\n",
    "        operand_dict = min_order_helper(expr.operand)\n",
    "        if not isinstance(operand_dict, dict):\n",
    "            return operand_dict\n",
    "        else:\n",
    "            _order_dict[expr.operator] = 1 + operand_dict[expr.operand]\n",
    "            if expr.operator in operand_dict and _order_dict[expr.operator] != operand_dict[expr.operator]:\n",
    "                # operator depends on itself as an operand (somewhere)\n",
    "                _order_dict[expr.operand]  = operand_dict[expr.operand]\n",
    "                _order_dict[expr.operator] = math.inf\n",
    "                _order_dict[expr]          = math.inf\n",
    "                # do we need to merge?\n",
    "            else:\n",
    "                # update current order dict\n",
    "                _order_dict.update(operand_dict)\n",
    "                # if operator and operands have finite order, function operation has order 0\n",
    "                # but if operator/operands have infinite order, fxn op also has inf order\n",
    "                if _order_dict[expr.operand] == math.inf:\n",
    "                    _order_dict[expr.operator] = math.inf\n",
    "                if _order_dict[expr.operator] == math.inf:\n",
    "                    _order_dict[expr] = math.inf\n",
    "                return _order_dict\n",
    "\n",
    "    # expr is a Lambda map (UNDER CONSTRUCTION)\n",
    "    if isinstance(expr, Lambda):\n",
    "        _body_dict = min_order_helper(expr.body)\n",
    "        _params_dict = {}\n",
    "        for _param in expr.parameters:\n",
    "            if _param in _body_dict:\n",
    "                _params_dict[_param] = _body_dict[_param]\n",
    "            else:\n",
    "                _params_dict[_param] = 0\n",
    "        # print(f'_params_dict.values() = {_params_dict.values()}')\n",
    "        _params_dict[expr.parameters] = max(_params_dict.values()) ## problem here\n",
    "        _order_dict.update(_body_dict)\n",
    "        _order_dict.update(_params_dict)\n",
    "        _order_dict[expr] = 1 + max(_params_dict[expr.parameters], _body_dict[expr.body])\n",
    "        return _order_dict\n",
    "\n",
    "    # everything else right now\n",
    "    else:\n",
    "        for _var in expr._used_vars():\n",
    "            _order_dict[_var] = 0\n",
    "    return _order_dict\n"
   ]
  },
  {
   "cell_type": "code",
   "execution_count": null,
   "metadata": {},
   "outputs": [],
   "source": [
    "from proveit import a, b, c, f, g, h, k, x\n",
    "example_fxns = [\n",
    "    Function(f, g), Function(f, Function(g, x)), Function(f, f),\n",
    "    Function(f, Function(f, f)), Function(f, Function(f, Function(f, x))),\n",
    "    Function(f, Function(g, f)), Function(g, Function(f, g)),\n",
    "    Function(f, Function(g, Function(h, f))),\n",
    "    Function(f, Function(g, Function(f, g))),\n",
    "    Function(f, Function(g, Function(h, Function(x, two)))),\n",
    "    Function(f, Function(g, Function(h, Function(f, two)))),\n",
    "    Function(f, Function(g, Function(h, Function(x, g)))),\n",
    "    Function(f, (Function(g, h), Function(h, g))),\n",
    "    Function(f, (Function(g, h), Function(h, f))),\n",
    "    Function(f, (Function(g, h), Function(x, y))),\n",
    "    Function(f, (Function(a, b), Function(b, c), Function(c, a))),\n",
    "    Function(f, Lambda(g, Function(h, g))),\n",
    "    Function(g, Lambda(g, Function(h, g))),\n",
    "    Function(f, (Lambda((a, b), Function(a, b)), Lambda((a, b), Function(b, a)), k))\n",
    "];\n",
    "for i, example in enumerate(example_fxns):\n",
    "    num_str = f'({i+1})'\n",
    "    print(f'{num_str:5} {example}')"
   ]
  },
  {
   "cell_type": "code",
   "execution_count": null,
   "metadata": {},
   "outputs": [],
   "source": [
    "for i, fxn in enumerate(example_fxns):\n",
    "    num_str = f'({i+1})'\n",
    "    fxn_str = f'{fxn}'\n",
    "    print(f'{num_str:4} {fxn_str:13}\\n     has graph: {graph_from_expr(fxn)}\\n')"
   ]
  },
  {
   "cell_type": "code",
   "execution_count": null,
   "metadata": {},
   "outputs": [],
   "source": [
    "for i, fxn in enumerate(example_fxns):\n",
    "    print(f'{(i+1)} {fxn} has order dict: {min_order_helper(fxn)}')"
   ]
  },
  {
   "cell_type": "code",
   "execution_count": null,
   "metadata": {},
   "outputs": [],
   "source": [
    "from proveit import a, b, c, f, g, h, x\n",
    "example_expressions = [\n",
    "    Lambda(f, c),\n",
    "    Lambda(f, Function(f, c)),\n",
    "    Lambda((f, g), Function(f, Function(g, c))),\n",
    "    Lambda((f, g), Function(f, (g, Function(g, c)))),\n",
    "    Lambda(g, Function(f, Function(g, c))),\n",
    "    Lambda(f, Lambda(g, Function(f, Function(g, c)))),\n",
    "    Lambda(g, Function(f, (g, Function(g, c)))),\n",
    "    Lambda(f, Lambda(g, Function(f, (g, Function(g, c))))),\n",
    "    Lambda((f, g, h), Function(h, (Function(f, c), Function(g, f)))),\n",
    "    Lambda((f, g, h), Function(h, (Function(f, c), Function(g, f), g))),\n",
    "    Lambda(x, Function(f, c)),\n",
    "    Lambda(x, Function(f, f)),\n",
    "    Lambda(x, Not(Function(f, f))),\n",
    "    Lambda(f, Not(Function(f, f))),\n",
    "    Lambda(f, Function(f, f)),\n",
    "    Lambda((f, g, h), Function(h, (Function(f, g), Function(g, f)))),\n",
    "    Lambda((f, g), Function(f, Function(g, f))),\n",
    "    Function(f, Lambda(g, h)),\n",
    "    Function(f, Lambda(g, Function(h, g))),\n",
    "    Function(f, Lambda(f, Function(f, x))),\n",
    "    Function(f, Lambda(g, Function(g, f)))\n",
    "];\n",
    "for i, example in enumerate(example_expressions):\n",
    "    num_str = f'({i+1})'\n",
    "    print(f'{num_str:5} {example}')"
   ]
  },
  {
   "cell_type": "code",
   "execution_count": null,
   "metadata": {},
   "outputs": [],
   "source": [
    "for i, example in enumerate(example_expressions):\n",
    "    num_str = f'({i+1})'\n",
    "    example_str = f'{example}'\n",
    "    print(f'{num_str:5} {example_str:30} {min_order(example)}')"
   ]
  },
  {
   "cell_type": "markdown",
   "metadata": {},
   "source": [
    "### Canonicalization"
   ]
  },
  {
   "cell_type": "markdown",
   "metadata": {},
   "source": [
    "We can canonicalize an expression, converting all parameters to canonical forms. For example:"
   ]
  },
  {
   "cell_type": "code",
   "execution_count": null,
   "metadata": {},
   "outputs": [],
   "source": [
    "display(example_expressions[5])\n",
    "canonicalize(example_expressions[5])"
   ]
  },
  {
   "cell_type": "code",
   "execution_count": null,
   "metadata": {},
   "outputs": [],
   "source": [
    "display(example_expressions[19])\n",
    "canonicalize(example_expressions[19])"
   ]
  },
  {
   "cell_type": "code",
   "execution_count": null,
   "metadata": {},
   "outputs": [],
   "source": [
    "display(example_expressions[20])\n",
    "display(canonicalize(example_expressions[20]))\n",
    "display(canonicalize(Function(f, x)))"
   ]
  },
  {
   "cell_type": "code",
   "execution_count": null,
   "metadata": {},
   "outputs": [],
   "source": [
    "display(example_fxns[18])\n",
    "display(canonicalize(example_fxns[18]))"
   ]
  },
  {
   "cell_type": "markdown",
   "metadata": {},
   "source": [
    "Notice in the examples above that the non-parameter variables ($c$, $f$, and $x$) remain in the canonicalized versions. In fact, what the canonicalize() function is doing is working only on the parameters appearing in Lambda maps."
   ]
  },
  {
   "cell_type": "code",
   "execution_count": null,
   "metadata": {},
   "outputs": [],
   "source": [
    "display(example_expressions[15])\n",
    "display(canonicalize(example_expressions[15]))"
   ]
  },
  {
   "cell_type": "markdown",
   "metadata": {},
   "source": [
    "And note that an expression is equivalent to its canonicalized version, as we demonstrate for each of our example expressions:"
   ]
  },
  {
   "cell_type": "code",
   "execution_count": null,
   "metadata": {},
   "outputs": [],
   "source": [
    "for i, example in enumerate(example_expressions):\n",
    "    num_str = f'({i+1})'\n",
    "    truth_value = example == canonicalize(example)\n",
    "    print(f'{num_str:4} {example} == {canonicalize(example)}? {truth_value}')"
   ]
  },
  {
   "cell_type": "markdown",
   "metadata": {},
   "source": [
    "### Some Practice and Reminders Working with sets"
   ]
  },
  {
   "cell_type": "markdown",
   "metadata": {},
   "source": [
    "First of all, there is something odd about trying to create a python set containing Prove-It objects. As you'll see below, we can create sets of numbers and sets of strings, but the attempt to create a set of Variable objects produces a tuple-like structure (appearing with parentheses instead of braces):"
   ]
  },
  {
   "cell_type": "code",
   "execution_count": null,
   "metadata": {},
   "outputs": [],
   "source": [
    "from proveit import a, b, c, d, f\n",
    "example_set_01 = {a, b, c}"
   ]
  },
  {
   "cell_type": "code",
   "execution_count": null,
   "metadata": {},
   "outputs": [],
   "source": [
    "from proveit import a, b, c, d, f\n",
    "example_set_02 = {x.string() for x in [c, d, f]}"
   ]
  },
  {
   "cell_type": "markdown",
   "metadata": {},
   "source": [
    "But print()'ing or display()'ing the tuple-like set gives the braces notation:"
   ]
  },
  {
   "cell_type": "code",
   "execution_count": null,
   "metadata": {},
   "outputs": [],
   "source": [
    "print(example_set_01)"
   ]
  },
  {
   "cell_type": "markdown",
   "metadata": {},
   "source": [
    "The `add()` method is mutating: this changes the set itself"
   ]
  },
  {
   "cell_type": "code",
   "execution_count": null,
   "metadata": {},
   "outputs": [],
   "source": [
    "example_set_01.add(d)\n",
    "display(example_set_01)"
   ]
  },
  {
   "cell_type": "markdown",
   "metadata": {},
   "source": [
    "The union() method produces a new set, leaving the two united sets as they were:"
   ]
  },
  {
   "cell_type": "code",
   "execution_count": null,
   "metadata": {},
   "outputs": [],
   "source": [
    "example_set_01.union(example_set_02)"
   ]
  },
  {
   "cell_type": "code",
   "execution_count": null,
   "metadata": {},
   "outputs": [],
   "source": [
    "print(f\"example_set_01 = {example_set_01}\")\n",
    "print(f\"example_set_02 = {example_set_02}\")"
   ]
  },
  {
   "cell_type": "code",
   "execution_count": null,
   "metadata": {},
   "outputs": [],
   "source": [
    "example_set_04 = set()\n",
    "example_set_04.add(b)\n",
    "print(f'example_set_04 = {example_set_04}')"
   ]
  },
  {
   "cell_type": "markdown",
   "metadata": {},
   "source": [
    "### Looking at the `canonically_labeled()` method"
   ]
  },
  {
   "cell_type": "code",
   "execution_count": null,
   "metadata": {},
   "outputs": [],
   "source": [
    "ExprTuple(Lambda(f, Function(f, x)), Lambda(g, Function(g, x))).canonically_labeled()"
   ]
  },
  {
   "cell_type": "code",
   "execution_count": null,
   "metadata": {},
   "outputs": [],
   "source": [
    "ExprTuple(Lambda(f, Function(f, x)), Lambda(x, Function(g, x))).canonically_labeled()"
   ]
  },
  {
   "cell_type": "markdown",
   "metadata": {},
   "source": [
    "Notice the potential problem below, where we apply `canonicalize()` to an entire `ExprTuple`, and produce a list of canonicalized elements that end up sharing parameters:"
   ]
  },
  {
   "cell_type": "code",
   "execution_count": null,
   "metadata": {},
   "outputs": [],
   "source": [
    "example_tuple = ExprTuple(\n",
    "    Function(f, x), Lambda(f, Function(f, x)), Lambda(x, Function(g, x)),\n",
    "    Function(h, Function(f, Function(g, h))), Function(h, h),\n",
    "    Function(f, (Lambda((f, g),Function(f, g)), Lambda((f, g),Function(g, f)))))\n",
    "display(example_tuple)\n",
    "canonicalize(example_tuple)"
   ]
  },
  {
   "cell_type": "code",
   "execution_count": null,
   "metadata": {},
   "outputs": [],
   "source": [
    "my_set = set()\n",
    "for item in example_tuple:\n",
    "    my_set.add(item.canonically_labeled())\n",
    "print(f'my_set = {my_set}')"
   ]
  },
  {
   "cell_type": "markdown",
   "metadata": {},
   "source": [
    "Notice that the function $f((f,g)\\mapsto f(g), (f, g)\\mapsto g(f))$ is labeled as cyclic, but shouldn't be. This is because the `canonically_labeled()` method is generating identical dummy variables for the two Lambda maps that serve as arguments for the function. Here is the result compared to other results that are perfectly fine:"
   ]
  },
  {
   "cell_type": "code",
   "execution_count": null,
   "metadata": {},
   "outputs": [],
   "source": [
    "display(example_tuple)\n",
    "for item in example_tuple:\n",
    "    print(f'Cyclic? {is_cyclic(graph_from_expr(item))}')"
   ]
  },
  {
   "cell_type": "markdown",
   "metadata": {},
   "source": [
    "And of course we can see the issue at the graph level, where the so-called graph isn't even a graph but just the ExprTuple expression itself, but the underlying `canonically_labeled()` call on the ExprTuple has generated the same canonical dummy variables for the Lambda maps inside the last function:"
   ]
  },
  {
   "cell_type": "code",
   "execution_count": null,
   "metadata": {},
   "outputs": [],
   "source": [
    "graph_from_expr(example_tuple)"
   ]
  },
  {
   "cell_type": "markdown",
   "metadata": {},
   "source": [
    "Not clear why this doesn't give an error, since the input doesn't appear to be a graph; need to check on this:"
   ]
  },
  {
   "cell_type": "code",
   "execution_count": null,
   "metadata": {},
   "outputs": [],
   "source": [
    "is_cyclic(graph_from_expr(example_tuple))"
   ]
  },
  {
   "cell_type": "markdown",
   "metadata": {},
   "source": [
    "### A potentially useful tool: `traverse_inner_expressions()`"
   ]
  },
  {
   "cell_type": "code",
   "execution_count": null,
   "metadata": {},
   "outputs": [],
   "source": [
    "from proveit._core_.expression import free_vars, traverse_inner_expressions"
   ]
  },
  {
   "cell_type": "markdown",
   "metadata": {},
   "source": [
    "The `traverse_inner_expressions()` function appears to traverse the syntax tree in a DFS fashion:"
   ]
  },
  {
   "cell_type": "code",
   "execution_count": null,
   "metadata": {},
   "outputs": [],
   "source": [
    "for item in traverse_inner_expressions(example_tuple):\n",
    "    display(item)"
   ]
  },
  {
   "cell_type": "code",
   "execution_count": null,
   "metadata": {},
   "outputs": [],
   "source": [
    "from proveit._core_.expression import free_vars, traverse_inner_expressions\n",
    "for item in example_tuple:\n",
    "    display(free_vars(item))\n",
    "for item in example_tuple:\n",
    "    for inner_item in traverse_inner_expressions(item):\n",
    "        display(inner_item, type(inner_item), inner_item.__class__)"
   ]
  },
  {
   "cell_type": "markdown",
   "metadata": {},
   "source": [
    "### Some Work on Dummy Variables"
   ]
  },
  {
   "cell_type": "markdown",
   "metadata": {},
   "source": [
    "In part, trying to make the cycling of the dummy variables somewhat more “regular” than the dummy-variable generation in Prove-It. The original algorithm has that line appending the `powers_of_26` with the last item times 3, which … isn't a power of 26, so at some point we end up having some irregularity in the procession of the dummy variables.\n",
    "\n",
    "First, the original dummy variable generator, renamed as `dummy_var_original()`:"
   ]
  },
  {
   "cell_type": "code",
   "execution_count": null,
   "metadata": {},
   "outputs": [],
   "source": [
    "\n",
    "def dummy_var_original(n):\n",
    "    '''\n",
    "    A replication of WW's dummy_var(n) method from var.py in _core_.\n",
    "    Given an integer n, produce a \"dummy\" Variable that is the (n+1) element\n",
    "    in the list: _X_, _Y_, _Z_, _XX_, _XY_, _XZ_, _YX_, _YY_, _YZ_, etc.\n",
    "\n",
    "    Correction to description?\n",
    "    Given a non-negative integer n (not clear what negative integers produce\n",
    "    or if they even produce anything reliably), return the (n+1)st item\n",
    "    in the list\n",
    "    _a, _b, _c, ..., _z, _aa, _ab, _ac, ... _az, _ba, _bb, _bc, ..., _bz, ...\n",
    "    That list is infinite and does not pre-exist.\n",
    "    '''\n",
    "    m = n\n",
    "    powers_of_26 = [1, 26]  # for 26 letters in the alphabet\n",
    "    # print(f'(1) powers_of_26 = {powers_of_26}')\n",
    "    while m >= powers_of_26[-1]:\n",
    "        m -= powers_of_26[-1]\n",
    "        powers_of_26.append(powers_of_26[-1] * 3)\n",
    "    # print(f'(2) powers_of_26 = {powers_of_26}')\n",
    "    letters = ''\n",
    "    powers_of_26.pop(-1)\n",
    "    # print(f'(3) powers_of_26 = {powers_of_26}')\n",
    "    while len(powers_of_26) > 0:\n",
    "        pow_of_26 = powers_of_26.pop(-1)\n",
    "        # print(f'(4) pow_of_26 = {pow_of_26}')\n",
    "        k = int(m / pow_of_26)\n",
    "        # print(f'(5) k = {k}')\n",
    "        letters += chr(ord('a') + k)\n",
    "        # print(f'(6) letters = {letters}')\n",
    "        m -= k * pow_of_26\n",
    "        # print(f'm = {m}')\n",
    "    return Variable('_' + letters, latex_format=r'{_{-}' + letters + r'}')"
   ]
  },
  {
   "cell_type": "markdown",
   "metadata": {},
   "source": [
    "For example, we have the following where we go from `_cz` to `_aaa` instead of from `_cz` to `_da` (see items (103) and (104)):"
   ]
  },
  {
   "cell_type": "code",
   "execution_count": null,
   "metadata": {},
   "outputs": [],
   "source": [
    "for i in range(101, 111):\n",
    "    print(f'({i}) {dummy_var_original(i)}')"
   ]
  },
  {
   "cell_type": "markdown",
   "metadata": {},
   "source": [
    "So in some sense the algorithm is skipping ahead and hitting the 3-digit variables sooner than expected.\n",
    "\n",
    "In the new dummy variable algorithm, we clean that up, but it's a bit complicated because the use of the modular arithmetic ends up treating the character 'a' as both a 0 sometimes and an incremental 1 sometimes. Hence we have an `expected_num_digits` calculation to help guide the formation of the variable strings:"
   ]
  },
  {
   "cell_type": "code",
   "execution_count": null,
   "metadata": {},
   "outputs": [],
   "source": [
    "def dummy_var_new(n):\n",
    "    '''\n",
    "    For positive integer n, returns the nth dummy variable, using a\n",
    "    simple base-26 conversion from non-negative (n-1) to variables of\n",
    "    the form a, b, ..., z, aa, ab, ac, ..., az, aaa, aab, aac, etc.\n",
    "    Algorithm somewhat complicated by the fact that we sometimes treat\n",
    "    'a' as a 0 and sometimes like a '1' when dealing with the modular\n",
    "    arithmetic and integer division. Without accounting for this,\n",
    "    we end up with a sequence of variables like a, b, ..., z, ab, ...,\n",
    "    where (for example) the aa element is skipped.\n",
    "    '''\n",
    "    digits = \"abcdefghijklmnopqrstuvwxyz\"\n",
    "    n -= 1 # convert to 0 indexing; if asked for 1st value, want 0th in list\n",
    "    result = \"\"\n",
    "\n",
    "    m = n + 1\n",
    "    expected_num_digits = 0\n",
    "    while m > 0:\n",
    "        expected_num_digits += 1\n",
    "        m -= 26 ** expected_num_digits\n",
    "\n",
    "    num_digits = 1\n",
    "    while n >= 0 and num_digits <= expected_num_digits:\n",
    "        remainder = n % 26\n",
    "        result = digits[remainder] + result\n",
    "        n = n // 26 - 1\n",
    "        num_digits += 1\n",
    "    \n",
    "    return f'_{result}'"
   ]
  },
  {
   "cell_type": "markdown",
   "metadata": {},
   "source": [
    "Now we see the continuation of the 2-digit variable names as expected:"
   ]
  },
  {
   "cell_type": "code",
   "execution_count": null,
   "metadata": {},
   "outputs": [],
   "source": [
    "for i in range(1, 28):\n",
    "    print(f'({i}) {dummy_var_new(i)}')"
   ]
  },
  {
   "cell_type": "code",
   "execution_count": null,
   "metadata": {},
   "outputs": [],
   "source": [
    "for i in range(101, 107):\n",
    "    print(f'({i}) {dummy_var_new(i)}')"
   ]
  },
  {
   "cell_type": "markdown",
   "metadata": {},
   "source": [
    "and we shift from 2-digit to 3-digit as expected much later:"
   ]
  },
  {
   "cell_type": "code",
   "execution_count": null,
   "metadata": {},
   "outputs": [],
   "source": [
    "for i in range(698, 708):\n",
    "    print(f'({i}) {dummy_var_new(i)}')"
   ]
  },
  {
   "cell_type": "markdown",
   "metadata": {},
   "source": [
    "and then from 3 to 4 digits in just the right way as well:"
   ]
  },
  {
   "cell_type": "code",
   "execution_count": null,
   "metadata": {},
   "outputs": [],
   "source": [
    "for i in range(18276, 18285):\n",
    "    print(f'({i}) {dummy_var_new(i)}')"
   ]
  },
  {
   "cell_type": "markdown",
   "metadata": {},
   "source": [
    "and from 4 digits to 5 digits:"
   ]
  },
  {
   "cell_type": "code",
   "execution_count": null,
   "metadata": {},
   "outputs": [],
   "source": [
    "for i in range(26 + 26**2 + 26**3 + 26**4 - 5, 26 + 26**2 + 26**3 + 26**4 + 5):\n",
    "    print(f'({i}) {dummy_var_new(i)}')"
   ]
  },
  {
   "cell_type": "code",
   "execution_count": null,
   "metadata": {},
   "outputs": [],
   "source": [
    "%end demonstrations"
   ]
  }
 ],
 "metadata": {
  "kernelspec": {
   "display_name": "Python 3",
   "language": "python",
   "name": "python3"
  }
 },
 "nbformat": 4,
 "nbformat_minor": 0
}
