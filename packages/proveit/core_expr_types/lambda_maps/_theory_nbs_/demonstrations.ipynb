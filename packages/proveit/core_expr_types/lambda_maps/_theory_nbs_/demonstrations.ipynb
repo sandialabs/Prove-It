{
 "cells": [
  {
   "cell_type": "markdown",
   "metadata": {},
   "source": [
    "Demonstrations for the theory of <a class=\"ProveItLink\" href=\"theory.ipynb\">proveit.core_expr_types.lambda_maps</a>\n",
    "========"
   ]
  },
  {
   "cell_type": "code",
   "execution_count": 1,
   "metadata": {},
   "outputs": [],
   "source": [
    "import proveit\n",
    "from proveit import Lambda, Conditional\n",
    "from proveit import x, fx, gx, Qx\n",
    "from proveit.logic import Equals, Forall\n",
    "%begin demonstrations"
   ]
  },
  {
   "cell_type": "markdown",
   "metadata": {},
   "source": [
    "### Lambda substitution"
   ]
  },
  {
   "cell_type": "code",
   "execution_count": 2,
   "metadata": {},
   "outputs": [
    {
     "data": {
      "text/html": [
       "<strong id=\"universal_eq\">universal_eq:</strong> <a class=\"ProveItLink\" href=\"../__pv_it/demonstrations/918fa7ba3a0ac38caa4e05074fc86515b53ed5a40/expr.ipynb\"><img src=\"data:image/png;base64,iVBORw0KGgoAAAANSUhEUgAAAKAAAAAVBAMAAAAz5vjYAAAAMFBMVEX///8AAAAAAAAAAAAAAAAA\n",
       "AAAAAAAAAAAAAAAAAAAAAAAAAAAAAAAAAAAAAAAAAAAv3aB7AAAAD3RSTlMAq1RmmUTNIjK7EInv\n",
       "3XZ/CtNrAAAACXBIWXMAAA7EAAAOxAGVKw4bAAACBklEQVQ4y3WUQSgEURjHPztjd5i17cGBEkpc\n",
       "EC7KRaSNQi1nZUIpp5GTUrgqcdvag+Yg2QtxJEI5ILUpx60VLtQml5WDfN/bfTNv35v56vv6b/vr\n",
       "/968930PQA1b1REIDgHxx2Ktqq7OB/qJCGWcfrSJRCer42eexngNNKxAMBOkFwWg1qJqNty4miLs\n",
       "BPhVIpib9Om7AqH3Uo22p11NoQ0FGFYimORrCqcGUVZnHU+zuA8wlJB70HCFsEh0sHohaBbzAYYS\n",
       "gvmYyz2IxDiVvsd6ro9eDs/xC07U2yisqAjmGEBa5Epb+XP1UKxZzwL0swPLsWCdYVqROxXBXIZI\n",
       "XDR8Yl36w7Vma79VeCxd8gZ7HLaqhGDWOGZSBG+phL64NkBnjbEjG16DUVQRzFC+4k5KhmbW01E2\n",
       "JTOSn/ENsSsVobQGsRRG32zhk2vinp61a7GHuqUz1IolSEIoT5dwIO3GcLkZ97wlSWeSTWCiHJB2\n",
       "qH3Bca+KUK7hQhrsGWWS9cd6kuuerQmY5t0kjlwRWhwVoazaIKDIyW12ha7eL4RGaO/P8qVMfU76\n",
       "IC5mXPG3rI78hwVdeu2y6pAsqIiLrZmW7s14KD4nPwneG1COTcf4UREX098vP/gfKahLW64ux6q8\n",
       "vSbnIK8iq37jngGNtxBq2dk7woQPkvIzjORVHbMDX2wRwfwHPpaaXWmaQg8AAAAASUVORK5CYII=\n",
       "\" style=\"display:inline;vertical-align:middle;\" /></a><br>"
      ],
      "text/plain": [
       "<IPython.core.display.HTML object>"
      ]
     },
     "metadata": {},
     "output_type": "display_data"
    }
   ],
   "source": [
    "universal_eq = Forall(x, Equals(fx, gx))"
   ]
  },
  {
   "cell_type": "code",
   "execution_count": 3,
   "metadata": {},
   "outputs": [
    {
     "data": {
      "text/html": [
       "<span style=\"font-size:20px;\"><a class=\"ProveItLink\" href=\"../__pv_it/demonstrations/918fa7ba3a0ac38caa4e05074fc86515b53ed5a40/expr.ipynb\"><img src=\"data:image/png;base64,iVBORw0KGgoAAAANSUhEUgAAAKAAAAAVBAMAAAAz5vjYAAAAMFBMVEX///8AAAAAAAAAAAAAAAAA\n",
       "AAAAAAAAAAAAAAAAAAAAAAAAAAAAAAAAAAAAAAAAAAAv3aB7AAAAD3RSTlMAq1RmmUTNIjK7EInv\n",
       "3XZ/CtNrAAAACXBIWXMAAA7EAAAOxAGVKw4bAAACBklEQVQ4y3WUQSgEURjHPztjd5i17cGBEkpc\n",
       "EC7KRaSNQi1nZUIpp5GTUrgqcdvag+Yg2QtxJEI5ILUpx60VLtQml5WDfN/bfTNv35v56vv6b/vr\n",
       "/968930PQA1b1REIDgHxx2Ktqq7OB/qJCGWcfrSJRCer42eexngNNKxAMBOkFwWg1qJqNty4miLs\n",
       "BPhVIpib9Om7AqH3Uo22p11NoQ0FGFYimORrCqcGUVZnHU+zuA8wlJB70HCFsEh0sHohaBbzAYYS\n",
       "gvmYyz2IxDiVvsd6ro9eDs/xC07U2yisqAjmGEBa5Epb+XP1UKxZzwL0swPLsWCdYVqROxXBXIZI\n",
       "XDR8Yl36w7Vma79VeCxd8gZ7HLaqhGDWOGZSBG+phL64NkBnjbEjG16DUVQRzFC+4k5KhmbW01E2\n",
       "JTOSn/ENsSsVobQGsRRG32zhk2vinp61a7GHuqUz1IolSEIoT5dwIO3GcLkZ97wlSWeSTWCiHJB2\n",
       "qH3Bca+KUK7hQhrsGWWS9cd6kuuerQmY5t0kjlwRWhwVoazaIKDIyW12ha7eL4RGaO/P8qVMfU76\n",
       "IC5mXPG3rI78hwVdeu2y6pAsqIiLrZmW7s14KD4nPwneG1COTcf4UREX098vP/gfKahLW64ux6q8\n",
       "vSbnIK8iq37jngGNtxBq2dk7woQPkvIzjORVHbMDX2wRwfwHPpaaXWmaQg8AAAAASUVORK5CYII=\n",
       "\" style=\"display:inline;vertical-align:middle;\" /></a> <a class=\"ProveItLink\" href=\"../__pv_it/demonstrations/2f6d882857c910f2b7f80400f495a01c93b64c0d0/proof.ipynb\" style=\"text-decoration: none\">&nbsp;&#x22A2;&nbsp;&nbsp;</a><a class=\"ProveItLink\" href=\"../__pv_it/demonstrations/928efb89783fb4adef1fdf6e83ca01eabcaa1dbe0/expr.ipynb\"><img src=\"data:image/png;base64,iVBORw0KGgoAAAANSUhEUgAAAHYAAAAuCAMAAADKpB25AAAANlBMVEX///8AAAAAAAAAAAAAAAAA\n",
       "AAAAAAAAAAAAAAAAAAAAAAAAAAAAAAAAAAAAAAAAAAAAAAAAAABHL6OuAAAAEXRSTlMAdt0yiUQQ\n",
       "q1SZZiLN77vz6d8wgQcAAAAJcEhZcwAADsQAAA7EAZUrDhsAAAIYSURBVFjD7ZfJdsMgDEURg5hp\n",
       "+f+frYc6NUMSW9BFzymrEIyehEBcGHAu2HDz3e4L21KNizIwZV/BO+tUWSslHr+NbPxwvyMrtYhH\n",
       "iBja8YC/IhuNSke01rXjzg7Lgm/+UhlPLnT9QoIsnjvGtrP4aTj0LAR3QRYBNAopj3Tx4hter6CO\n",
       "XNufzfXtamFD6guyiw3QwCzvCplUz8pQx1XbcKGUtfzU9D7gluy5JV3a9eODhGU5yKcywPfwKhsm\n",
       "vo92NWLPKfr45EXLuZhv8nnz7EOVDZGvbakIz7Opgnq6ow7ZyoaKl2RVXhYJsSsrQrnGLGnWLHJl\n",
       "w/C3ucWkmF69k/1oQ31wi5VJW6e24dLbaE0WaJcp6sfvl+fWF5nej0ptYz9WL2XRAizGnXnySX17\n",
       "FTuKiW1pahtcTa/JVpfVpHOpej75KjCaBdMr+6VnbrIsT81Fl5q7wqfZ960DW6tgUzwPR57LzmAp\n",
       "D92rEnicgUz/7W+1GXh+G86n4Pl9OJ8hS4DzCbIUOJ8gS4FzKp6zMTin4vkgnNPw3EgA7wbgnITn\n",
       "cgnQx3QHzvuyt/DcbM+u411AgnMKnke90bcfgHMCnou8xgdxBM4JeO62OB+Afg3O+8B6B8/dun6Y\n",
       "3QicE/Ac16D04zVPgnMKnisN8nHSaHBOrcnBDsH5fVmhcd3NYgjO78vqpcpjgDE4vy+7ZVYNwvkU\n",
       "PCfA+Rc7bhTuIYaQiQAAAABJRU5ErkJggg==\n",
       "\" style=\"display:inline;vertical-align:middle;\" /></a></span>"
      ],
      "text/plain": [
       "{forall_{x} (f(x) = g(x))} |- [x -> f(x)] =  \\\\ [x -> g(x)]"
      ]
     },
     "metadata": {},
     "output_type": "display_data"
    }
   ],
   "source": [
    "Lambda(x, fx).substitution(universal_eq, assumptions=[universal_eq])"
   ]
  },
  {
   "cell_type": "code",
   "execution_count": 4,
   "metadata": {},
   "outputs": [
    {
     "data": {
      "text/html": [
       "<strong id=\"universal_eq_with_cond\">universal_eq_with_cond:</strong> <a class=\"ProveItLink\" href=\"../__pv_it/demonstrations/9ce0a2894070a97b646666334e1217119365db8a0/expr.ipynb\"><img src=\"data:image/png;base64,iVBORw0KGgoAAAANSUhEUgAAANYAAAAXBAMAAACFeawMAAAAMFBMVEX///8AAAAAAAAAAAAAAAAA\n",
       "AAAAAAAAAAAAAAAAAAAAAAAAAAAAAAAAAAAAAAAAAAAv3aB7AAAAD3RSTlMAq1RmmUTNIjK7EInv\n",
       "3XZ/CtNrAAAACXBIWXMAAA7EAAAOxAGVKw4bAAAC1UlEQVRIx7VWTWgTQRR+3U2ym2675iCiUrQg\n",
       "6kGl9SJ4kRQpEaoSPXiwQkMVBEFY6UkINr14EMUchEAOZQURe6nowUNFiYoHK4WgeBEKKUYEC6F6\n",
       "SfEgvjebmdnOpMkK+uC9fMl+u9+8n5kNwF+Zp2OrO93qQmtr7qCO47WudKKQp+jLnohaB1gcW5AY\n",
       "7UsXeouCPkr4cjSp3hxFZ/trgckSfkc6p6DPUC2L0bRiwxT79pYFJjPTHemcgk6SzmA0rT4WJ3yJ\n",
       "mS12pAvKIpgonojYrn0svghhZhc70gUFfWl5+X1ErTEKh5e2cjy/8ug5luSJPhSNKZ2CfgKgLEu8\n",
       "4Zb9weQqCfwWOO3uilUBjrA7l5mxsXZy1judgn4NrJR4WrL1udrIYDezwRfR+w9sY65zbHrmrx5s\n",
       "wUE1rSGfLUihoCd9J6tqnfMg78H91o/j/OpbCsYaxzbE2FTfVbVegd3UKehGLTQagZaBWceKwdYL\n",
       "byCm5VQl7mNnxgVFyv4JbkWnkOeOYWhk6p7Qmi5g9muAD3XrNzJyS7AaJlMST3i9uI5DSr/MZkBS\n",
       "KORPr+AzvR2JQaG1jZZfsTD7bz3FSTB4w2blQgnPZQfAQXhUyQuX+XhYp5DncQ0mzNqyhrQHEqk4\n",
       "nibDyVoB4vxYYcM9neV46NZJOMu3QvhsasJuX6eQ9xSI0Az16w110jOoDluwsjbXusOGTOAHDeM4\n",
       "FeOTOhtnVk+1oQiaXbGk1j04Dx8Didv4DhI17KdVjYRw8Haq6rv+kk4RtLyTi0mt/NT8TSx4FazK\n",
       "M9xdbk0eoUZqUj1x5RHbshnfXtcpghb7+vK71LJGVnZimiWA0+MNH5LibVyC/nJO4JZdV5Ma8B/W\n",
       "dIpG4+dGPD0v9/CcuDwHZt1Tfy3p7RptQyltpmX9+IzJth6bEZet0PueY9fb9KwOU3Qa14KrNNkL\n",
       "QWey8F9s47+d3lD8B/YH05vFszWIh8wAAAAASUVORK5CYII=\n",
       "\" style=\"display:inline;vertical-align:middle;\" /></a><br>"
      ],
      "text/plain": [
       "<IPython.core.display.HTML object>"
      ]
     },
     "metadata": {},
     "output_type": "display_data"
    }
   ],
   "source": [
    "universal_eq_with_cond = Forall(x, Equals(fx, gx), condition=Qx)"
   ]
  },
  {
   "cell_type": "code",
   "execution_count": 5,
   "metadata": {},
   "outputs": [
    {
     "data": {
      "text/html": [
       "<span style=\"font-size:20px;\"><a class=\"ProveItLink\" href=\"../__pv_it/demonstrations/9ce0a2894070a97b646666334e1217119365db8a0/expr.ipynb\"><img src=\"data:image/png;base64,iVBORw0KGgoAAAANSUhEUgAAANYAAAAXBAMAAACFeawMAAAAMFBMVEX///8AAAAAAAAAAAAAAAAA\n",
       "AAAAAAAAAAAAAAAAAAAAAAAAAAAAAAAAAAAAAAAAAAAv3aB7AAAAD3RSTlMAq1RmmUTNIjK7EInv\n",
       "3XZ/CtNrAAAACXBIWXMAAA7EAAAOxAGVKw4bAAAC1UlEQVRIx7VWTWgTQRR+3U2ym2675iCiUrQg\n",
       "6kGl9SJ4kRQpEaoSPXiwQkMVBEFY6UkINr14EMUchEAOZQURe6nowUNFiYoHK4WgeBEKKUYEC6F6\n",
       "SfEgvjebmdnOpMkK+uC9fMl+u9+8n5kNwF+Zp2OrO93qQmtr7qCO47WudKKQp+jLnohaB1gcW5AY\n",
       "7UsXeouCPkr4cjSp3hxFZ/trgckSfkc6p6DPUC2L0bRiwxT79pYFJjPTHemcgk6SzmA0rT4WJ3yJ\n",
       "mS12pAvKIpgonojYrn0svghhZhc70gUFfWl5+X1ErTEKh5e2cjy/8ug5luSJPhSNKZ2CfgKgLEu8\n",
       "4Zb9weQqCfwWOO3uilUBjrA7l5mxsXZy1judgn4NrJR4WrL1udrIYDezwRfR+w9sY65zbHrmrx5s\n",
       "wUE1rSGfLUihoCd9J6tqnfMg78H91o/j/OpbCsYaxzbE2FTfVbVegd3UKehGLTQagZaBWceKwdYL\n",
       "byCm5VQl7mNnxgVFyv4JbkWnkOeOYWhk6p7Qmi5g9muAD3XrNzJyS7AaJlMST3i9uI5DSr/MZkBS\n",
       "KORPr+AzvR2JQaG1jZZfsTD7bz3FSTB4w2blQgnPZQfAQXhUyQuX+XhYp5DncQ0mzNqyhrQHEqk4\n",
       "nibDyVoB4vxYYcM9neV46NZJOMu3QvhsasJuX6eQ9xSI0Az16w110jOoDluwsjbXusOGTOAHDeM4\n",
       "FeOTOhtnVk+1oQiaXbGk1j04Dx8Didv4DhI17KdVjYRw8Haq6rv+kk4RtLyTi0mt/NT8TSx4FazK\n",
       "M9xdbk0eoUZqUj1x5RHbshnfXtcpghb7+vK71LJGVnZimiWA0+MNH5LibVyC/nJO4JZdV5Ma8B/W\n",
       "dIpG4+dGPD0v9/CcuDwHZt1Tfy3p7RptQyltpmX9+IzJth6bEZet0PueY9fb9KwOU3Qa14KrNNkL\n",
       "QWey8F9s47+d3lD8B/YH05vFszWIh8wAAAAASUVORK5CYII=\n",
       "\" style=\"display:inline;vertical-align:middle;\" /></a> <a class=\"ProveItLink\" href=\"../__pv_it/demonstrations/6012ae2ea2ab9a5747a0469ebd7196c0d94e71040/proof.ipynb\" style=\"text-decoration: none\">&nbsp;&#x22A2;&nbsp;&nbsp;</a><a class=\"ProveItLink\" href=\"../__pv_it/demonstrations/6a1fe5dc60c336026d89dd911f258e24b3f78cc10/expr.ipynb\"><img src=\"data:image/png;base64,iVBORw0KGgoAAAANSUhEUgAAANoAAAAuCAMAAAB5wPfmAAAANlBMVEX///8AAAAAAAAAAAAAAAAA\n",
       "AAAAAAAAAAAAAAAAAAAAAAAAAAAAAAAAAAAAAAAAAAAAAAAAAABHL6OuAAAAEXRSTlMAdt0yiUQQ\n",
       "q1SZZiLN77vz6d8wgQcAAAAJcEhZcwAADsQAAA7EAZUrDhsAAAOnSURBVGje7ZhHFqQgFEUlZ7rZ\n",
       "/2ZbLQNRsER6Ugw8YnjwCB+4E4AQTbcTJaTwRlXy95Kqil3UH5MvSgSa0MIbHj0goKgiQa3sWC0r\n",
       "VnTwjTXuAmMC4z3PcVo9GfeE+TzRHDm/cIVnIeZ/naolYr2tYRjkGDJb61Kd+VpHHUycWPsMTop5\n",
       "r7BeBxY7JXJqmo60ZjixW4FC5sadiCfqemUseKbtLnd8nlNLxB5aA+rCGvFGp8n+brLzkgWV1Ick\n",
       "c5dqqdhda4EAFxfWvAzXWS0tq9aEO8Ic3m/zaqlYxRoFgFGE8RGRgiEX5Xw3khl4VFLs0z6Uw8HQ\n",
       "U9rMecSMOYekctZzSUK1K7EGa3PlAAOTgHkz3AZZ4benA2mLhnIyan7N4rkm3BnltVOh2rWYb01A\n",
       "L7HPCzmryXnOnKE36idgaRq9twY/V0y4VTCS49GksYk1eM5X6kyoVhGr9RqKu2L68xcGyR1LkGKa\n",
       "BGucN8W3F5EccjVr7qyvdDJUq4i1hBEDLmYX8ewg4XehH1KMV4gnR+q9dohQozNqF2IN1sgyxCnN\n",
       "W0PhSmlZ/h5yb0k45TisWVsDPln+FkalaldilblGLZnY0hq40GtaFYO/39n2cx/LSVuzhuYwIpGS\n",
       "Ez6dbWo1sUqvcYeoMFu7bQ3VuK4pfxu4BeZYTkRbQWvP6x6mjALL/8HOi1XEqNNVa1QAMNdf8tI3\n",
       "qGjNjyIT+jyP5WBQ9rqi0fnqGPCfWozhHtI8tSsxKN7cQ4pgBc0enRRs1Z3Hnr+py6llxF6xxtl8\n",
       "MqlsXgt75rw1FuyucmoZsa7WwBaAoY3PHTY9ByvbrCucc+hSLSfW1Zra9kUSiKhwmhZt2xECgoZf\n",
       "q+XEyta+YSNKsELIUaByILpXDqiKAWjI9Eu/9Ev/M3VGrHUmOgqw9kasTUx0DGDtglhvMdFhgLUH\n",
       "h5xuMdFhgLWvtSYmOgqwdkCsPv5sY6IJhXwFsHZArN5njUw0sfYKYH2MWDkGQMl2JjoOsD5FrFgv\n",
       "Mc/eYaKvAda8tW8R62cV2PlxGxMdBVgfItZlcE1ob+g2JjoKsD5DrGgdSfuZu5GJjgKszxCrXPvr\n",
       "gKxtTPQ1wJqHdV8iVunW6SFvMdFRgPUZYqVLe7IjCFSZ6KfOgwDrQ8RKGMDnglFnoiMBa4c9pBZ3\n",
       "mWiJQvYFrI+soWUAIY8cNjLRkrW+gPURYmXzZpVqcJuJFlJnwPoIsa4zjdxnooXUGbD2RqwNTPRG\n",
       "Kc8A6z/WTizuDma4LQAAAABJRU5ErkJggg==\n",
       "\" style=\"display:inline;vertical-align:middle;\" /></a></span>"
      ],
      "text/plain": [
       "{forall_{x | Q(x)} (f(x) = g(x))} |- [x -> {f(x) if Q(x).] =  \\\\ [x -> {g(x) if Q(x).]"
      ]
     },
     "metadata": {},
     "output_type": "display_data"
    }
   ],
   "source": [
    "Lambda(x, Conditional(fx, Qx)).substitution(universal_eq_with_cond, \n",
    "                                            assumptions=[universal_eq_with_cond])"
   ]
  },
  {
   "cell_type": "code",
   "execution_count": 6,
   "metadata": {},
   "outputs": [],
   "source": [
    "%end demonstrations"
   ]
  }
 ],
 "metadata": {
  "kernelspec": {
   "display_name": "Python 3",
   "language": "python",
   "name": "python3"
  }
 },
 "nbformat": 4,
 "nbformat_minor": 0
}