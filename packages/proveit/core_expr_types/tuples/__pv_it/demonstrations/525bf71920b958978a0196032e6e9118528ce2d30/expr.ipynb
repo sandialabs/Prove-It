{
 "cells": [
  {
   "cell_type": "markdown",
   "metadata": {},
   "source": [
    "Expression of type <a class=\"ProveItLink\" href=\"../../../../../../../doc/html/api/proveit.ExprTuple.html\">ExprTuple</a>\n",
    "=======================\n",
    "# from the theory of <a class=\"ProveItLink\" href=\"../../../_theory_nbs_/theory.ipynb\">proveit.core_expr_types.tuples</a>"
   ]
  },
  {
   "cell_type": "code",
   "execution_count": 1,
   "metadata": {},
   "outputs": [],
   "source": [
    "import proveit\n",
    "# Automation is not needed when building an expression:\n",
    "proveit.defaults.automation = False # This will speed things up.\n",
    "proveit.defaults.inline_pngs = False # Makes files smaller.\n",
    "%load_expr # Load the stored expression as 'stored_expr'\n",
    "# import Expression classes needed to build the expression\n",
    "from proveit import ExprRange, ExprTuple, Variable, j\n",
    "from proveit.numbers import Add, Exp, e, four, three, two"
   ]
  },
  {
   "cell_type": "code",
   "execution_count": 2,
   "metadata": {},
   "outputs": [
    {
     "data": {
      "text/html": [
       "<strong id=\"expr\">expr:</strong> <a class=\"ProveItLink\" href=\"expr.ipynb\"><img src=\"expr.png\" style=\"display:inline;vertical-align:middle;\" /></a><br>"
      ],
      "text/plain": [
       "<IPython.core.display.HTML object>"
      ]
     },
     "metadata": {},
     "output_type": "display_data"
    }
   ],
   "source": [
    "# build up the expression from sub-expressions\n",
    "sub_expr1 = Variable(\"_a\", latex_format = r\"{_{-}a}\")\n",
    "expr = ExprTuple([ExprRange(sub_expr1, Exp(e, Add(sub_expr1, j)), two, four)], [Exp(e, Add(two, j)), Exp(e, Add(three, j)), Exp(e, Add(four, j))])"
   ]
  },
  {
   "cell_type": "code",
   "execution_count": 3,
   "metadata": {},
   "outputs": [
    {
     "name": "stdout",
     "output_type": "stream",
     "text": [
      "Passed sanity check: expr matches stored_expr\n"
     ]
    }
   ],
   "source": [
    "# check that the built expression is the same as the stored expression\n",
    "assert expr == stored_expr\n",
    "assert expr._style_id == stored_expr._style_id\n",
    "print(\"Passed sanity check: expr matches stored_expr\")"
   ]
  },
  {
   "cell_type": "code",
   "execution_count": 4,
   "metadata": {},
   "outputs": [
    {
     "name": "stdout",
     "output_type": "stream",
     "text": [
      "\\left(\\left(\\mathsf{e}^{2 + j}, \\mathsf{e}^{3 + j}, \\ldots, \\mathsf{e}^{4 + j}\\right), \\left(\\mathsf{e}^{2 + j}, \\mathsf{e}^{3 + j}, \\mathsf{e}^{4 + j}\\right)\\right)\n"
     ]
    }
   ],
   "source": [
    "# Show the LaTeX representation of the expression for convenience if you need it.\n",
    "print(stored_expr.latex())"
   ]
  },
  {
   "cell_type": "code",
   "execution_count": 5,
   "metadata": {},
   "outputs": [
    {
     "data": {
      "text/html": [
       "<table>\n",
       "<tr><th>name</th><th>description</th><th>default</th><th>current value</th><th>related methods</th></tr><tr><td>wrap_positions</td><td>position(s) at which wrapping is to occur; 'n' is after the nth comma.</td><td>()</td><td>()</td><td>('with_wrapping_at',)</td></tr>\n",
       "<tr><td>justification</td><td>if any wrap positions are set, justify to the 'left', 'center', or 'right'</td><td>left</td><td>left</td><td>('with_justification',)</td></tr>\n",
       "</table>\n"
      ],
      "text/plain": [
       "style name: wrap_positions\n",
       "description: position(s) at which wrapping is to occur; 'n' is after the nth comma.\n",
       "default: ()\n",
       "current value: ()\n",
       "related methods: ('with_wrapping_at',)\n",
       "style name: justification\n",
       "description: if any wrap positions are set, justify to the 'left', 'center', or 'right'\n",
       "default: left\n",
       "current value: left\n",
       "related methods: ('with_justification',)"
      ]
     },
     "metadata": {},
     "output_type": "display_data"
    }
   ],
   "source": [
    "stored_expr.style_options()"
   ]
  },
  {
   "cell_type": "code",
   "execution_count": 6,
   "metadata": {},
   "outputs": [
    {
     "data": {
      "text/html": [
       "<table><tr><th>&nbsp;</th><th>core type</th><th>sub-expressions</th><th>expression</th></tr>\n",
       "<tr><td>0</td><td>ExprTuple</td><td>1, 2</td><td><a class=\"ProveItLink\" href=\"expr.ipynb\"><img src=\"expr.png\" style=\"display:inline;vertical-align:middle;\" /></a></td></tr>\n",
       "<tr><td>1</td><td>ExprTuple</td><td>3</td><td><a class=\"ProveItLink\" href=\"../2b029eeea5de633da3f062a4e6acded41dfa3caf0/expr.ipynb\"><img src=\"../2b029eeea5de633da3f062a4e6acded41dfa3caf0/expr.png\" style=\"display:inline;vertical-align:middle;\" /></a></td></tr>\n",
       "<tr><td>2</td><td>ExprTuple</td><td>4, 5, 6</td><td><a class=\"ProveItLink\" href=\"../0727124efa6cd254861f4d9b342f5b1555d60e320/expr.ipynb\"><img src=\"../0727124efa6cd254861f4d9b342f5b1555d60e320/expr.png\" style=\"display:inline;vertical-align:middle;\" /></a></td></tr>\n",
       "<tr><td>3</td><td>ExprRange</td><td>lambda_map:&nbsp;7<br>start_index:&nbsp;23<br>end_index:&nbsp;25<br></td><td><a class=\"ProveItLink\" href=\"../ee75a95b356e5b791b4e02dd363eef69ccb2dee80/expr.ipynb\"><img src=\"../ee75a95b356e5b791b4e02dd363eef69ccb2dee80/expr.png\" style=\"display:inline;vertical-align:middle;\" /></a></td></tr>\n",
       "<tr><td>4</td><td>Operation</td><td>operator:&nbsp;16<br>operands:&nbsp;8<br></td><td><a class=\"ProveItLink\" href=\"../a8cfb944596b76b94e927f4a4de6997ab1c1f9aa0/expr.ipynb\"><img src=\"../a8cfb944596b76b94e927f4a4de6997ab1c1f9aa0/expr.png\" style=\"display:inline;vertical-align:middle;\" /></a></td></tr>\n",
       "<tr><td>5</td><td>Operation</td><td>operator:&nbsp;16<br>operands:&nbsp;9<br></td><td><a class=\"ProveItLink\" href=\"../7e2cdc70a0f04514b7efe2b5212be2a8a52d14c20/expr.ipynb\"><img src=\"../7e2cdc70a0f04514b7efe2b5212be2a8a52d14c20/expr.png\" style=\"display:inline;vertical-align:middle;\" /></a></td></tr>\n",
       "<tr><td>6</td><td>Operation</td><td>operator:&nbsp;16<br>operands:&nbsp;10<br></td><td><a class=\"ProveItLink\" href=\"../e815a6dd2da4fed1e270cdf2f6be80641e88c93a0/expr.ipynb\"><img src=\"../e815a6dd2da4fed1e270cdf2f6be80641e88c93a0/expr.png\" style=\"display:inline;vertical-align:middle;\" /></a></td></tr>\n",
       "<tr><td>7</td><td>Lambda</td><td>parameter:&nbsp;28<br>body:&nbsp;12<br></td><td><a class=\"ProveItLink\" href=\"../4e909eb73e712bb191918598d6dddc097fc848690/expr.ipynb\"><img src=\"../4e909eb73e712bb191918598d6dddc097fc848690/expr.png\" style=\"display:inline;vertical-align:middle;\" /></a></td></tr>\n",
       "<tr><td>8</td><td>ExprTuple</td><td>21, 13</td><td><a class=\"ProveItLink\" href=\"../dadfe9a4edd34aa78d499d4262075a10853124f50/expr.ipynb\"><img src=\"../dadfe9a4edd34aa78d499d4262075a10853124f50/expr.png\" style=\"display:inline;vertical-align:middle;\" /></a></td></tr>\n",
       "<tr><td>9</td><td>ExprTuple</td><td>21, 14</td><td><a class=\"ProveItLink\" href=\"../89f3a5a36d127ec14be521f6c81256f6c5d939cf0/expr.ipynb\"><img src=\"../89f3a5a36d127ec14be521f6c81256f6c5d939cf0/expr.png\" style=\"display:inline;vertical-align:middle;\" /></a></td></tr>\n",
       "<tr><td>10</td><td>ExprTuple</td><td>21, 15</td><td><a class=\"ProveItLink\" href=\"../9a7c82976da86edf7e55a611fcff060b04415c240/expr.ipynb\"><img src=\"../9a7c82976da86edf7e55a611fcff060b04415c240/expr.png\" style=\"display:inline;vertical-align:middle;\" /></a></td></tr>\n",
       "<tr><td>11</td><td>ExprTuple</td><td>28</td><td><a class=\"ProveItLink\" href=\"../../../../__pv_it/common/4b0dd6be36d76552eda6a95d5b4a27f5a5b62f900/expr.ipynb\"><img src=\"../../../../__pv_it/common/4b0dd6be36d76552eda6a95d5b4a27f5a5b62f900/expr.png\" style=\"display:inline;vertical-align:middle;\" /></a></td></tr>\n",
       "<tr><td>12</td><td>Operation</td><td>operator:&nbsp;16<br>operands:&nbsp;17<br></td><td><a class=\"ProveItLink\" href=\"../8cc2030ad5dd04029d56f2c448c58d464d85b6ba0/expr.ipynb\"><img src=\"../8cc2030ad5dd04029d56f2c448c58d464d85b6ba0/expr.png\" style=\"display:inline;vertical-align:middle;\" /></a></td></tr>\n",
       "<tr><td>13</td><td>Operation</td><td>operator:&nbsp;26<br>operands:&nbsp;18<br></td><td><a class=\"ProveItLink\" href=\"../c472d337a6d5ee7b04f9666339014bc75689cf8a0/expr.ipynb\"><img src=\"../c472d337a6d5ee7b04f9666339014bc75689cf8a0/expr.png\" style=\"display:inline;vertical-align:middle;\" /></a></td></tr>\n",
       "<tr><td>14</td><td>Operation</td><td>operator:&nbsp;26<br>operands:&nbsp;19<br></td><td><a class=\"ProveItLink\" href=\"../f07097377a4a551949e8dadfb740ba10f120ed170/expr.ipynb\"><img src=\"../f07097377a4a551949e8dadfb740ba10f120ed170/expr.png\" style=\"display:inline;vertical-align:middle;\" /></a></td></tr>\n",
       "<tr><td>15</td><td>Operation</td><td>operator:&nbsp;26<br>operands:&nbsp;20<br></td><td><a class=\"ProveItLink\" href=\"../bb6682b37729e5733a1d288f1e4baa5de4b913ce0/expr.ipynb\"><img src=\"../bb6682b37729e5733a1d288f1e4baa5de4b913ce0/expr.png\" style=\"display:inline;vertical-align:middle;\" /></a></td></tr>\n",
       "<tr><td>16</td><td>Literal</td><td></td><td><a class=\"ProveItLink\" href=\"../../../../../numbers/exponentiation/__pv_it/common/0ac37aca1e54c35c5cda09672df32d4f69f1f3020/expr.ipynb\"><img src=\"../../../../../numbers/exponentiation/__pv_it/common/0ac37aca1e54c35c5cda09672df32d4f69f1f3020/expr.png\" style=\"display:inline;vertical-align:middle;\" /></a></td></tr>\n",
       "<tr><td>17</td><td>ExprTuple</td><td>21, 22</td><td><a class=\"ProveItLink\" href=\"../7a8b76d60576449f2db18e9a6d11f0b1425a6f150/expr.ipynb\"><img src=\"../7a8b76d60576449f2db18e9a6d11f0b1425a6f150/expr.png\" style=\"display:inline;vertical-align:middle;\" /></a></td></tr>\n",
       "<tr><td>18</td><td>ExprTuple</td><td>23, 29</td><td><a class=\"ProveItLink\" href=\"../98a5855b672e935315de1848bac054640c6e81d30/expr.ipynb\"><img src=\"../98a5855b672e935315de1848bac054640c6e81d30/expr.png\" style=\"display:inline;vertical-align:middle;\" /></a></td></tr>\n",
       "<tr><td>19</td><td>ExprTuple</td><td>24, 29</td><td><a class=\"ProveItLink\" href=\"../d9df6b49ddf4cb4f9e0f4feaef41e28e034c37ac0/expr.ipynb\"><img src=\"../d9df6b49ddf4cb4f9e0f4feaef41e28e034c37ac0/expr.png\" style=\"display:inline;vertical-align:middle;\" /></a></td></tr>\n",
       "<tr><td>20</td><td>ExprTuple</td><td>25, 29</td><td><a class=\"ProveItLink\" href=\"../18d04f0b5ad9c58d308cd9cde0f363ba8e7d78840/expr.ipynb\"><img src=\"../18d04f0b5ad9c58d308cd9cde0f363ba8e7d78840/expr.png\" style=\"display:inline;vertical-align:middle;\" /></a></td></tr>\n",
       "<tr><td>21</td><td>Literal</td><td></td><td><a class=\"ProveItLink\" href=\"../../../../../numbers/number_sets/real_numbers/__pv_it/common/e531ffa54fd897084533764a4a14f19f590674f80/expr.ipynb\"><img src=\"../../../../../numbers/number_sets/real_numbers/__pv_it/common/e531ffa54fd897084533764a4a14f19f590674f80/expr.png\" style=\"display:inline;vertical-align:middle;\" /></a></td></tr>\n",
       "<tr><td>22</td><td>Operation</td><td>operator:&nbsp;26<br>operands:&nbsp;27<br></td><td><a class=\"ProveItLink\" href=\"../d351ebbc5597a94ba8c6800655f55aed7bd36c340/expr.ipynb\"><img src=\"../d351ebbc5597a94ba8c6800655f55aed7bd36c340/expr.png\" style=\"display:inline;vertical-align:middle;\" /></a></td></tr>\n",
       "<tr><td>23</td><td>Literal</td><td></td><td><a class=\"ProveItLink\" href=\"../../../../../numbers/numerals/__pv_it/common/af4aab8a07465db063742696e006d04670f30cf10/expr.ipynb\"><img src=\"../../../../../numbers/numerals/__pv_it/common/af4aab8a07465db063742696e006d04670f30cf10/expr.png\" style=\"display:inline;vertical-align:middle;\" /></a></td></tr>\n",
       "<tr><td>24</td><td>Literal</td><td></td><td><a class=\"ProveItLink\" href=\"../../../../../numbers/numerals/__pv_it/common/1943b60945420e340d305780feff5c1aff2740ff0/expr.ipynb\"><img src=\"../../../../../numbers/numerals/__pv_it/common/1943b60945420e340d305780feff5c1aff2740ff0/expr.png\" style=\"display:inline;vertical-align:middle;\" /></a></td></tr>\n",
       "<tr><td>25</td><td>Literal</td><td></td><td><a class=\"ProveItLink\" href=\"../../../../../numbers/numerals/__pv_it/common/48a1d915c1e9490b9a94e5c77a208938d3ee20ce0/expr.ipynb\"><img src=\"../../../../../numbers/numerals/__pv_it/common/48a1d915c1e9490b9a94e5c77a208938d3ee20ce0/expr.png\" style=\"display:inline;vertical-align:middle;\" /></a></td></tr>\n",
       "<tr><td>26</td><td>Literal</td><td></td><td><a class=\"ProveItLink\" href=\"../../../../../numbers/addition/__pv_it/common/4b7effaab3619a1c2c38fe2dee8601df8ec714590/expr.ipynb\"><img src=\"../../../../../numbers/addition/__pv_it/common/4b7effaab3619a1c2c38fe2dee8601df8ec714590/expr.png\" style=\"display:inline;vertical-align:middle;\" /></a></td></tr>\n",
       "<tr><td>27</td><td>ExprTuple</td><td>28, 29</td><td><a class=\"ProveItLink\" href=\"../43f52d43712173fb2f7c0316ae07321c966bea3b0/expr.ipynb\"><img src=\"../43f52d43712173fb2f7c0316ae07321c966bea3b0/expr.png\" style=\"display:inline;vertical-align:middle;\" /></a></td></tr>\n",
       "<tr><td>28</td><td>Variable</td><td></td><td><a class=\"ProveItLink\" href=\"../../../../__pv_it/common/006c465e50948aa2b52285e2de47974f741255cc0/expr.ipynb\"><img src=\"../../../../__pv_it/common/006c465e50948aa2b52285e2de47974f741255cc0/expr.png\" style=\"display:inline;vertical-align:middle;\" /></a></td></tr>\n",
       "<tr><td>29</td><td>Variable</td><td></td><td><a class=\"ProveItLink\" href=\"../../../../../__pv_it/common/1ed21df18baca2f42b561a7ffbf30a2743d594650/expr.ipynb\"><img src=\"../../../../../__pv_it/common/1ed21df18baca2f42b561a7ffbf30a2743d594650/expr.png\" style=\"display:inline;vertical-align:middle;\" /></a></td></tr>\n",
       "</table>\n"
      ],
      "text/plain": [
       "0. ((e^{2 + j}, e^{3 + j}, ..., e^{4 + j}), (e^{2 + j}, e^{3 + j}, e^{4 + j}))\n",
       "   core type: ExprTuple\n",
       "   sub-expressions: 1, 2\n",
       "1. (e^{2 + j}, e^{3 + j}, ..., e^{4 + j})\n",
       "   core type: ExprTuple\n",
       "   sub-expressions: 3\n",
       "2. (e^{2 + j}, e^{3 + j}, e^{4 + j})\n",
       "   core type: ExprTuple\n",
       "   sub-expressions: 4, 5, 6\n",
       "3. e^{2 + j}, e^{3 + j}, ..., e^{4 + j}\n",
       "   core type: ExprRange\n",
       "   lambda_map: 7\n",
       "   start_index: 23\n",
       "   end_index: 25\n",
       "4. e^{2 + j}\n",
       "   core type: Operation\n",
       "   operator: 16\n",
       "   operands: 8\n",
       "5. e^{3 + j}\n",
       "   core type: Operation\n",
       "   operator: 16\n",
       "   operands: 9\n",
       "6. e^{4 + j}\n",
       "   core type: Operation\n",
       "   operator: 16\n",
       "   operands: 10\n",
       "7. _a -> e^{_a + j}\n",
       "   core type: Lambda\n",
       "   parameter: 28\n",
       "   body: 12\n",
       "8. (e, 2 + j)\n",
       "   core type: ExprTuple\n",
       "   sub-expressions: 21, 13\n",
       "9. (e, 3 + j)\n",
       "   core type: ExprTuple\n",
       "   sub-expressions: 21, 14\n",
       "10. (e, 4 + j)\n",
       "    core type: ExprTuple\n",
       "    sub-expressions: 21, 15\n",
       "11. (_a)\n",
       "    core type: ExprTuple\n",
       "    sub-expressions: 28\n",
       "12. e^{_a + j}\n",
       "    core type: Operation\n",
       "    operator: 16\n",
       "    operands: 17\n",
       "13. 2 + j\n",
       "    core type: Operation\n",
       "    operator: 26\n",
       "    operands: 18\n",
       "14. 3 + j\n",
       "    core type: Operation\n",
       "    operator: 26\n",
       "    operands: 19\n",
       "15. 4 + j\n",
       "    core type: Operation\n",
       "    operator: 26\n",
       "    operands: 20\n",
       "16. Exp\n",
       "    core type: Literal\n",
       "    sub-expressions: \n",
       "17. (e, _a + j)\n",
       "    core type: ExprTuple\n",
       "    sub-expressions: 21, 22\n",
       "18. (2, j)\n",
       "    core type: ExprTuple\n",
       "    sub-expressions: 23, 29\n",
       "19. (3, j)\n",
       "    core type: ExprTuple\n",
       "    sub-expressions: 24, 29\n",
       "20. (4, j)\n",
       "    core type: ExprTuple\n",
       "    sub-expressions: 25, 29\n",
       "21. e\n",
       "    core type: Literal\n",
       "    sub-expressions: \n",
       "22. _a + j\n",
       "    core type: Operation\n",
       "    operator: 26\n",
       "    operands: 27\n",
       "23. 2\n",
       "    core type: Literal\n",
       "    sub-expressions: \n",
       "24. 3\n",
       "    core type: Literal\n",
       "    sub-expressions: \n",
       "25. 4\n",
       "    core type: Literal\n",
       "    sub-expressions: \n",
       "26. +\n",
       "    core type: Literal\n",
       "    sub-expressions: \n",
       "27. (_a, j)\n",
       "    core type: ExprTuple\n",
       "    sub-expressions: 28, 29\n",
       "28. _a\n",
       "    core type: Variable\n",
       "    sub-expressions: \n",
       "29. j\n",
       "    core type: Variable\n",
       "    sub-expressions: "
      ]
     },
     "metadata": {},
     "output_type": "display_data"
    }
   ],
   "source": [
    "# display the expression information\n",
    "stored_expr.expr_info()"
   ]
  },
  {
   "cell_type": "code",
   "execution_count": null,
   "metadata": {},
   "outputs": [],
   "source": []
  }
 ],
 "metadata": {
  "kernelspec": {
   "display_name": "Python 3",
   "language": "python",
   "name": "python3"
  }
 },
 "nbformat": 4,
 "nbformat_minor": 0
}