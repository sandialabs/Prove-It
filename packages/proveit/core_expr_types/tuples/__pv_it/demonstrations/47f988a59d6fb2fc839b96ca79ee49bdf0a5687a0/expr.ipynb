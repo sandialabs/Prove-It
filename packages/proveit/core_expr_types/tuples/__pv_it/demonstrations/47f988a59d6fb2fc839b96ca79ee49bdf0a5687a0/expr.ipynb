{
 "cells": [
  {
   "cell_type": "markdown",
   "metadata": {},
   "source": [
    "Expression of type <a class=\"ProveItLink\" href=\"../../../../../../../doc/html/api/proveit.ExprTuple.html\">ExprTuple</a>\n",
    "=======================\n",
    "# from the theory of <a class=\"ProveItLink\" href=\"../../../_theory_nbs_/theory.ipynb\">proveit.core_expr_types.tuples</a>"
   ]
  },
  {
   "cell_type": "code",
   "execution_count": 1,
   "metadata": {},
   "outputs": [],
   "source": [
    "import proveit\n",
    "# Automation is not needed when building an expression:\n",
    "proveit.defaults.automation = False # This will speed things up.\n",
    "proveit.defaults.inline_pngs = False # Makes files smaller.\n",
    "%load_expr # Load the stored expression as 'stored_expr'\n",
    "# import Expression classes needed to build the expression\n",
    "from proveit import ExprTuple, i, j\n",
    "from proveit.numbers import Add, Exp, e, four, one, three, two"
   ]
  },
  {
   "cell_type": "code",
   "execution_count": 2,
   "metadata": {},
   "outputs": [
    {
     "data": {
      "text/html": [
       "<strong id=\"expr\">expr:</strong> <a class=\"ProveItLink\" href=\"expr.ipynb\"><img src=\"expr.png\" style=\"display:inline;vertical-align:middle;\" /></a><br>"
      ],
      "text/plain": [
       "<IPython.core.display.HTML object>"
      ]
     },
     "metadata": {},
     "output_type": "display_data"
    }
   ],
   "source": [
    "# build up the expression from sub-expressions\n",
    "expr = ExprTuple(Exp(e, Add(i, j)), Exp(e, Add(Add(i, one), j)), Exp(e, Add(Add(i, two), j)), Exp(e, Add(Add(i, three), j)), Exp(e, Add(Add(i, four), j)))"
   ]
  },
  {
   "cell_type": "code",
   "execution_count": 3,
   "metadata": {},
   "outputs": [
    {
     "name": "stdout",
     "output_type": "stream",
     "text": [
      "Passed sanity check: expr matches stored_expr\n"
     ]
    }
   ],
   "source": [
    "# check that the built expression is the same as the stored expression\n",
    "assert expr == stored_expr\n",
    "assert expr._style_id == stored_expr._style_id\n",
    "print(\"Passed sanity check: expr matches stored_expr\")"
   ]
  },
  {
   "cell_type": "code",
   "execution_count": 4,
   "metadata": {},
   "outputs": [
    {
     "name": "stdout",
     "output_type": "stream",
     "text": [
      "\\left(\\mathsf{e}^{i + j}, \\mathsf{e}^{\\left(i + 1\\right) + j}, \\mathsf{e}^{\\left(i + 2\\right) + j}, \\mathsf{e}^{\\left(i + 3\\right) + j}, \\mathsf{e}^{\\left(i + 4\\right) + j}\\right)\n"
     ]
    }
   ],
   "source": [
    "# Show the LaTeX representation of the expression for convenience if you need it.\n",
    "print(stored_expr.latex())"
   ]
  },
  {
   "cell_type": "code",
   "execution_count": 5,
   "metadata": {},
   "outputs": [
    {
     "data": {
      "text/html": [
       "<table>\n",
       "<tr><th>name</th><th>description</th><th>default</th><th>current value</th><th>related methods</th></tr><tr><td>wrap_positions</td><td>position(s) at which wrapping is to occur; 'n' is after the nth comma.</td><td>()</td><td>()</td><td>('with_wrapping_at',)</td></tr>\n",
       "<tr><td>justification</td><td>if any wrap positions are set, justify to the 'left', 'center', or 'right'</td><td>left</td><td>left</td><td>('with_justification',)</td></tr>\n",
       "</table>\n"
      ],
      "text/plain": [
       "style name: wrap_positions\n",
       "description: position(s) at which wrapping is to occur; 'n' is after the nth comma.\n",
       "default: ()\n",
       "current value: ()\n",
       "related methods: ('with_wrapping_at',)\n",
       "style name: justification\n",
       "description: if any wrap positions are set, justify to the 'left', 'center', or 'right'\n",
       "default: left\n",
       "current value: left\n",
       "related methods: ('with_justification',)"
      ]
     },
     "metadata": {},
     "output_type": "display_data"
    }
   ],
   "source": [
    "stored_expr.style_options()"
   ]
  },
  {
   "cell_type": "code",
   "execution_count": 6,
   "metadata": {},
   "outputs": [
    {
     "data": {
      "text/html": [
       "<table><tr><th>&nbsp;</th><th>core type</th><th>sub-expressions</th><th>expression</th></tr>\n",
       "<tr><td>0</td><td>ExprTuple</td><td>1, 2, 3, 4, 5</td><td><a class=\"ProveItLink\" href=\"expr.ipynb\"><img src=\"expr.png\" style=\"display:inline;vertical-align:middle;\" /></a></td></tr>\n",
       "<tr><td>1</td><td>Operation</td><td>operator:&nbsp;10<br>operands:&nbsp;6<br></td><td><a class=\"ProveItLink\" href=\"../c0c4a933d3a91bdb1545a898acb6e8048342b1ae0/expr.ipynb\"><img src=\"../c0c4a933d3a91bdb1545a898acb6e8048342b1ae0/expr.png\" style=\"display:inline;vertical-align:middle;\" /></a></td></tr>\n",
       "<tr><td>2</td><td>Operation</td><td>operator:&nbsp;10<br>operands:&nbsp;7<br></td><td><a class=\"ProveItLink\" href=\"../9d9bad8f2e7969cd7ea3e2d64e77c80d6c458fa50/expr.ipynb\"><img src=\"../9d9bad8f2e7969cd7ea3e2d64e77c80d6c458fa50/expr.png\" style=\"display:inline;vertical-align:middle;\" /></a></td></tr>\n",
       "<tr><td>3</td><td>Operation</td><td>operator:&nbsp;10<br>operands:&nbsp;8<br></td><td><a class=\"ProveItLink\" href=\"../9c3ca4ee4281403e586dd8ce83961f6e60784a340/expr.ipynb\"><img src=\"../9c3ca4ee4281403e586dd8ce83961f6e60784a340/expr.png\" style=\"display:inline;vertical-align:middle;\" /></a></td></tr>\n",
       "<tr><td>4</td><td>Operation</td><td>operator:&nbsp;10<br>operands:&nbsp;9<br></td><td><a class=\"ProveItLink\" href=\"../79854aa8549eb907e1dc5cf1e932d2fe0d2d45870/expr.ipynb\"><img src=\"../79854aa8549eb907e1dc5cf1e932d2fe0d2d45870/expr.png\" style=\"display:inline;vertical-align:middle;\" /></a></td></tr>\n",
       "<tr><td>5</td><td>Operation</td><td>operator:&nbsp;10<br>operands:&nbsp;11<br></td><td><a class=\"ProveItLink\" href=\"../9d4be231f44ed9e1dc880798aae4bb4825cf33990/expr.ipynb\"><img src=\"../9d4be231f44ed9e1dc880798aae4bb4825cf33990/expr.png\" style=\"display:inline;vertical-align:middle;\" /></a></td></tr>\n",
       "<tr><td>6</td><td>ExprTuple</td><td>16, 12</td><td><a class=\"ProveItLink\" href=\"../2f4ad059968c84f228ce37774c40982ae9715bab0/expr.ipynb\"><img src=\"../2f4ad059968c84f228ce37774c40982ae9715bab0/expr.png\" style=\"display:inline;vertical-align:middle;\" /></a></td></tr>\n",
       "<tr><td>7</td><td>ExprTuple</td><td>16, 13</td><td><a class=\"ProveItLink\" href=\"../7d360dc785f5d746337141a50f2fa1c6d5a930310/expr.ipynb\"><img src=\"../7d360dc785f5d746337141a50f2fa1c6d5a930310/expr.png\" style=\"display:inline;vertical-align:middle;\" /></a></td></tr>\n",
       "<tr><td>8</td><td>ExprTuple</td><td>16, 14</td><td><a class=\"ProveItLink\" href=\"../c1d086bf18784ae489e01689eaacac0b9f263f3c0/expr.ipynb\"><img src=\"../c1d086bf18784ae489e01689eaacac0b9f263f3c0/expr.png\" style=\"display:inline;vertical-align:middle;\" /></a></td></tr>\n",
       "<tr><td>9</td><td>ExprTuple</td><td>16, 15</td><td><a class=\"ProveItLink\" href=\"../5706d51279382473acb1a042b301425af54e8f2e0/expr.ipynb\"><img src=\"../5706d51279382473acb1a042b301425af54e8f2e0/expr.png\" style=\"display:inline;vertical-align:middle;\" /></a></td></tr>\n",
       "<tr><td>10</td><td>Literal</td><td></td><td><a class=\"ProveItLink\" href=\"../../../../../numbers/exponentiation/__pv_it/common/0ac37aca1e54c35c5cda09672df32d4f69f1f3020/expr.ipynb\"><img src=\"../../../../../numbers/exponentiation/__pv_it/common/0ac37aca1e54c35c5cda09672df32d4f69f1f3020/expr.png\" style=\"display:inline;vertical-align:middle;\" /></a></td></tr>\n",
       "<tr><td>11</td><td>ExprTuple</td><td>16, 17</td><td><a class=\"ProveItLink\" href=\"../43fcd9f17518691d347d7330918ea4cd9ae90ba30/expr.ipynb\"><img src=\"../43fcd9f17518691d347d7330918ea4cd9ae90ba30/expr.png\" style=\"display:inline;vertical-align:middle;\" /></a></td></tr>\n",
       "<tr><td>12</td><td>Operation</td><td>operator:&nbsp;31<br>operands:&nbsp;18<br></td><td><a class=\"ProveItLink\" href=\"../a38e9f703dbd93f6015417d8ffc0a3700bdb01960/expr.ipynb\"><img src=\"../a38e9f703dbd93f6015417d8ffc0a3700bdb01960/expr.png\" style=\"display:inline;vertical-align:middle;\" /></a></td></tr>\n",
       "<tr><td>13</td><td>Operation</td><td>operator:&nbsp;31<br>operands:&nbsp;19<br></td><td><a class=\"ProveItLink\" href=\"../9567ae4e3de9000393ac0b97ced345da1cb3a9b80/expr.ipynb\"><img src=\"../9567ae4e3de9000393ac0b97ced345da1cb3a9b80/expr.png\" style=\"display:inline;vertical-align:middle;\" /></a></td></tr>\n",
       "<tr><td>14</td><td>Operation</td><td>operator:&nbsp;31<br>operands:&nbsp;20<br></td><td><a class=\"ProveItLink\" href=\"../256bd919ab3b7513cbd7373febfde893ad5463e20/expr.ipynb\"><img src=\"../256bd919ab3b7513cbd7373febfde893ad5463e20/expr.png\" style=\"display:inline;vertical-align:middle;\" /></a></td></tr>\n",
       "<tr><td>15</td><td>Operation</td><td>operator:&nbsp;31<br>operands:&nbsp;21<br></td><td><a class=\"ProveItLink\" href=\"../4b56177e893fe30152638b32d80afb22c797a5bf0/expr.ipynb\"><img src=\"../4b56177e893fe30152638b32d80afb22c797a5bf0/expr.png\" style=\"display:inline;vertical-align:middle;\" /></a></td></tr>\n",
       "<tr><td>16</td><td>Literal</td><td></td><td><a class=\"ProveItLink\" href=\"../../../../../numbers/number_sets/real_numbers/__pv_it/common/e531ffa54fd897084533764a4a14f19f590674f80/expr.ipynb\"><img src=\"../../../../../numbers/number_sets/real_numbers/__pv_it/common/e531ffa54fd897084533764a4a14f19f590674f80/expr.png\" style=\"display:inline;vertical-align:middle;\" /></a></td></tr>\n",
       "<tr><td>17</td><td>Operation</td><td>operator:&nbsp;31<br>operands:&nbsp;22<br></td><td><a class=\"ProveItLink\" href=\"../70c156e2f9b8e2a667daa17e2c46738d71b696ca0/expr.ipynb\"><img src=\"../70c156e2f9b8e2a667daa17e2c46738d71b696ca0/expr.png\" style=\"display:inline;vertical-align:middle;\" /></a></td></tr>\n",
       "<tr><td>18</td><td>ExprTuple</td><td>36, 27</td><td><a class=\"ProveItLink\" href=\"../../axioms/fd5db4d3d282981293a7ef32c5ae50e0675f01460/expr.ipynb\"><img src=\"../../axioms/fd5db4d3d282981293a7ef32c5ae50e0675f01460/expr.png\" style=\"display:inline;vertical-align:middle;\" /></a></td></tr>\n",
       "<tr><td>19</td><td>ExprTuple</td><td>23, 27</td><td><a class=\"ProveItLink\" href=\"../96710240c99d5fd0bc0cc26c3e79409df93d26370/expr.ipynb\"><img src=\"../96710240c99d5fd0bc0cc26c3e79409df93d26370/expr.png\" style=\"display:inline;vertical-align:middle;\" /></a></td></tr>\n",
       "<tr><td>20</td><td>ExprTuple</td><td>24, 27</td><td><a class=\"ProveItLink\" href=\"../39fd6667d305f5f46216e96c7b526379473831100/expr.ipynb\"><img src=\"../39fd6667d305f5f46216e96c7b526379473831100/expr.png\" style=\"display:inline;vertical-align:middle;\" /></a></td></tr>\n",
       "<tr><td>21</td><td>ExprTuple</td><td>25, 27</td><td><a class=\"ProveItLink\" href=\"../d1fecc310184f61ad4a15fedbe604a7f6ea3d8520/expr.ipynb\"><img src=\"../d1fecc310184f61ad4a15fedbe604a7f6ea3d8520/expr.png\" style=\"display:inline;vertical-align:middle;\" /></a></td></tr>\n",
       "<tr><td>22</td><td>ExprTuple</td><td>26, 27</td><td><a class=\"ProveItLink\" href=\"../903f7c930955bf06c1e049db4f4ddcb70bbdaa380/expr.ipynb\"><img src=\"../903f7c930955bf06c1e049db4f4ddcb70bbdaa380/expr.png\" style=\"display:inline;vertical-align:middle;\" /></a></td></tr>\n",
       "<tr><td>23</td><td>Operation</td><td>operator:&nbsp;31<br>operands:&nbsp;28<br></td><td><a class=\"ProveItLink\" href=\"../../../../__pv_it/common/a2e143af123f66da09e0988b76b1d4e48661786c0/expr.ipynb\"><img src=\"../../../../__pv_it/common/a2e143af123f66da09e0988b76b1d4e48661786c0/expr.png\" style=\"display:inline;vertical-align:middle;\" /></a></td></tr>\n",
       "<tr><td>24</td><td>Operation</td><td>operator:&nbsp;31<br>operands:&nbsp;29<br></td><td><a class=\"ProveItLink\" href=\"../../../../../numbers/numerals/decimals/__pv_it/theorems/24128158ac3bbc68b8ee4a75afd24ed2fce98d980/expr.ipynb\"><img src=\"../../../../../numbers/numerals/decimals/__pv_it/theorems/24128158ac3bbc68b8ee4a75afd24ed2fce98d980/expr.png\" style=\"display:inline;vertical-align:middle;\" /></a></td></tr>\n",
       "<tr><td>25</td><td>Operation</td><td>operator:&nbsp;31<br>operands:&nbsp;30<br></td><td><a class=\"ProveItLink\" href=\"../../../../../numbers/numerals/decimals/__pv_it/theorems/f508bd27b327306788d2dd9f530f11d70c41254e0/expr.ipynb\"><img src=\"../../../../../numbers/numerals/decimals/__pv_it/theorems/f508bd27b327306788d2dd9f530f11d70c41254e0/expr.png\" style=\"display:inline;vertical-align:middle;\" /></a></td></tr>\n",
       "<tr><td>26</td><td>Operation</td><td>operator:&nbsp;31<br>operands:&nbsp;32<br></td><td><a class=\"ProveItLink\" href=\"../../../../../numbers/numerals/decimals/__pv_it/theorems/a80dfd517f887dc5f9b93bd60a7e3f6c0ed2eec00/expr.ipynb\"><img src=\"../../../../../numbers/numerals/decimals/__pv_it/theorems/a80dfd517f887dc5f9b93bd60a7e3f6c0ed2eec00/expr.png\" style=\"display:inline;vertical-align:middle;\" /></a></td></tr>\n",
       "<tr><td>27</td><td>Variable</td><td></td><td><a class=\"ProveItLink\" href=\"../../../../../__pv_it/common/1ed21df18baca2f42b561a7ffbf30a2743d594650/expr.ipynb\"><img src=\"../../../../../__pv_it/common/1ed21df18baca2f42b561a7ffbf30a2743d594650/expr.png\" style=\"display:inline;vertical-align:middle;\" /></a></td></tr>\n",
       "<tr><td>28</td><td>ExprTuple</td><td>36, 33</td><td><a class=\"ProveItLink\" href=\"../../../../__pv_it/common/c89850952f9608f21aa2408d82ba7769fea41e400/expr.ipynb\"><img src=\"../../../../__pv_it/common/c89850952f9608f21aa2408d82ba7769fea41e400/expr.png\" style=\"display:inline;vertical-align:middle;\" /></a></td></tr>\n",
       "<tr><td>29</td><td>ExprTuple</td><td>36, 34</td><td><a class=\"ProveItLink\" href=\"../../../../../numbers/numerals/decimals/__pv_it/theorems/f6b83eb3317523dc13986de5fc52ed67a403af7b0/expr.ipynb\"><img src=\"../../../../../numbers/numerals/decimals/__pv_it/theorems/f6b83eb3317523dc13986de5fc52ed67a403af7b0/expr.png\" style=\"display:inline;vertical-align:middle;\" /></a></td></tr>\n",
       "<tr><td>30</td><td>ExprTuple</td><td>36, 35</td><td><a class=\"ProveItLink\" href=\"../../../../../numbers/numerals/decimals/__pv_it/theorems/1b239d03320e6b55a7f4745615ee61682a92a62e0/expr.ipynb\"><img src=\"../../../../../numbers/numerals/decimals/__pv_it/theorems/1b239d03320e6b55a7f4745615ee61682a92a62e0/expr.png\" style=\"display:inline;vertical-align:middle;\" /></a></td></tr>\n",
       "<tr><td>31</td><td>Literal</td><td></td><td><a class=\"ProveItLink\" href=\"../../../../../numbers/addition/__pv_it/common/4b7effaab3619a1c2c38fe2dee8601df8ec714590/expr.ipynb\"><img src=\"../../../../../numbers/addition/__pv_it/common/4b7effaab3619a1c2c38fe2dee8601df8ec714590/expr.png\" style=\"display:inline;vertical-align:middle;\" /></a></td></tr>\n",
       "<tr><td>32</td><td>ExprTuple</td><td>36, 37</td><td><a class=\"ProveItLink\" href=\"../../../../../numbers/numerals/decimals/__pv_it/theorems/afafc58f7f5d15038c45c8851b78cd323938625d0/expr.ipynb\"><img src=\"../../../../../numbers/numerals/decimals/__pv_it/theorems/afafc58f7f5d15038c45c8851b78cd323938625d0/expr.png\" style=\"display:inline;vertical-align:middle;\" /></a></td></tr>\n",
       "<tr><td>33</td><td>Literal</td><td></td><td><a class=\"ProveItLink\" href=\"../../../../../numbers/numerals/__pv_it/common/682157d4892d216d9e5626ed533aff9b56b9506e0/expr.ipynb\"><img src=\"../../../../../numbers/numerals/__pv_it/common/682157d4892d216d9e5626ed533aff9b56b9506e0/expr.png\" style=\"display:inline;vertical-align:middle;\" /></a></td></tr>\n",
       "<tr><td>34</td><td>Literal</td><td></td><td><a class=\"ProveItLink\" href=\"../../../../../numbers/numerals/__pv_it/common/af4aab8a07465db063742696e006d04670f30cf10/expr.ipynb\"><img src=\"../../../../../numbers/numerals/__pv_it/common/af4aab8a07465db063742696e006d04670f30cf10/expr.png\" style=\"display:inline;vertical-align:middle;\" /></a></td></tr>\n",
       "<tr><td>35</td><td>Literal</td><td></td><td><a class=\"ProveItLink\" href=\"../../../../../numbers/numerals/__pv_it/common/1943b60945420e340d305780feff5c1aff2740ff0/expr.ipynb\"><img src=\"../../../../../numbers/numerals/__pv_it/common/1943b60945420e340d305780feff5c1aff2740ff0/expr.png\" style=\"display:inline;vertical-align:middle;\" /></a></td></tr>\n",
       "<tr><td>36</td><td>Variable</td><td></td><td><a class=\"ProveItLink\" href=\"../../../../../__pv_it/common/ae955345c83abf786c3aff8681cd5465beae262d0/expr.ipynb\"><img src=\"../../../../../__pv_it/common/ae955345c83abf786c3aff8681cd5465beae262d0/expr.png\" style=\"display:inline;vertical-align:middle;\" /></a></td></tr>\n",
       "<tr><td>37</td><td>Literal</td><td></td><td><a class=\"ProveItLink\" href=\"../../../../../numbers/numerals/__pv_it/common/48a1d915c1e9490b9a94e5c77a208938d3ee20ce0/expr.ipynb\"><img src=\"../../../../../numbers/numerals/__pv_it/common/48a1d915c1e9490b9a94e5c77a208938d3ee20ce0/expr.png\" style=\"display:inline;vertical-align:middle;\" /></a></td></tr>\n",
       "</table>\n"
      ],
      "text/plain": [
       "0. (e^{i + j}, e^{(i + 1) + j}, e^{(i + 2) + j}, e^{(i + 3) + j}, e^{(i + 4) + j})\n",
       "   core type: ExprTuple\n",
       "   sub-expressions: 1, 2, 3, 4, 5\n",
       "1. e^{i + j}\n",
       "   core type: Operation\n",
       "   operator: 10\n",
       "   operands: 6\n",
       "2. e^{(i + 1) + j}\n",
       "   core type: Operation\n",
       "   operator: 10\n",
       "   operands: 7\n",
       "3. e^{(i + 2) + j}\n",
       "   core type: Operation\n",
       "   operator: 10\n",
       "   operands: 8\n",
       "4. e^{(i + 3) + j}\n",
       "   core type: Operation\n",
       "   operator: 10\n",
       "   operands: 9\n",
       "5. e^{(i + 4) + j}\n",
       "   core type: Operation\n",
       "   operator: 10\n",
       "   operands: 11\n",
       "6. (e, i + j)\n",
       "   core type: ExprTuple\n",
       "   sub-expressions: 16, 12\n",
       "7. (e, (i + 1) + j)\n",
       "   core type: ExprTuple\n",
       "   sub-expressions: 16, 13\n",
       "8. (e, (i + 2) + j)\n",
       "   core type: ExprTuple\n",
       "   sub-expressions: 16, 14\n",
       "9. (e, (i + 3) + j)\n",
       "   core type: ExprTuple\n",
       "   sub-expressions: 16, 15\n",
       "10. Exp\n",
       "    core type: Literal\n",
       "    sub-expressions: \n",
       "11. (e, (i + 4) + j)\n",
       "    core type: ExprTuple\n",
       "    sub-expressions: 16, 17\n",
       "12. i + j\n",
       "    core type: Operation\n",
       "    operator: 31\n",
       "    operands: 18\n",
       "13. (i + 1) + j\n",
       "    core type: Operation\n",
       "    operator: 31\n",
       "    operands: 19\n",
       "14. (i + 2) + j\n",
       "    core type: Operation\n",
       "    operator: 31\n",
       "    operands: 20\n",
       "15. (i + 3) + j\n",
       "    core type: Operation\n",
       "    operator: 31\n",
       "    operands: 21\n",
       "16. e\n",
       "    core type: Literal\n",
       "    sub-expressions: \n",
       "17. (i + 4) + j\n",
       "    core type: Operation\n",
       "    operator: 31\n",
       "    operands: 22\n",
       "18. (i, j)\n",
       "    core type: ExprTuple\n",
       "    sub-expressions: 36, 27\n",
       "19. (i + 1, j)\n",
       "    core type: ExprTuple\n",
       "    sub-expressions: 23, 27\n",
       "20. (i + 2, j)\n",
       "    core type: ExprTuple\n",
       "    sub-expressions: 24, 27\n",
       "21. (i + 3, j)\n",
       "    core type: ExprTuple\n",
       "    sub-expressions: 25, 27\n",
       "22. (i + 4, j)\n",
       "    core type: ExprTuple\n",
       "    sub-expressions: 26, 27\n",
       "23. i + 1\n",
       "    core type: Operation\n",
       "    operator: 31\n",
       "    operands: 28\n",
       "24. i + 2\n",
       "    core type: Operation\n",
       "    operator: 31\n",
       "    operands: 29\n",
       "25. i + 3\n",
       "    core type: Operation\n",
       "    operator: 31\n",
       "    operands: 30\n",
       "26. i + 4\n",
       "    core type: Operation\n",
       "    operator: 31\n",
       "    operands: 32\n",
       "27. j\n",
       "    core type: Variable\n",
       "    sub-expressions: \n",
       "28. (i, 1)\n",
       "    core type: ExprTuple\n",
       "    sub-expressions: 36, 33\n",
       "29. (i, 2)\n",
       "    core type: ExprTuple\n",
       "    sub-expressions: 36, 34\n",
       "30. (i, 3)\n",
       "    core type: ExprTuple\n",
       "    sub-expressions: 36, 35\n",
       "31. +\n",
       "    core type: Literal\n",
       "    sub-expressions: \n",
       "32. (i, 4)\n",
       "    core type: ExprTuple\n",
       "    sub-expressions: 36, 37\n",
       "33. 1\n",
       "    core type: Literal\n",
       "    sub-expressions: \n",
       "34. 2\n",
       "    core type: Literal\n",
       "    sub-expressions: \n",
       "35. 3\n",
       "    core type: Literal\n",
       "    sub-expressions: \n",
       "36. i\n",
       "    core type: Variable\n",
       "    sub-expressions: \n",
       "37. 4\n",
       "    core type: Literal\n",
       "    sub-expressions: "
      ]
     },
     "metadata": {},
     "output_type": "display_data"
    }
   ],
   "source": [
    "# display the expression information\n",
    "stored_expr.expr_info()"
   ]
  },
  {
   "cell_type": "code",
   "execution_count": null,
   "metadata": {},
   "outputs": [],
   "source": []
  }
 ],
 "metadata": {
  "kernelspec": {
   "display_name": "Python 3",
   "language": "python",
   "name": "python3"
  }
 },
 "nbformat": 4,
 "nbformat_minor": 0
}