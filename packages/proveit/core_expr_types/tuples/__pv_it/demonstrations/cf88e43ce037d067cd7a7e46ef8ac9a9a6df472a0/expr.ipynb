{
 "cells": [
  {
   "cell_type": "markdown",
   "metadata": {},
   "source": [
    "Expression of type <a class=\"ProveItLink\" href=\"../../../../../../../doc/html/api/proveit.ExprTuple.html\">ExprTuple</a>\n",
    "=======================\n",
    "# from the theory of <a class=\"ProveItLink\" href=\"../../../_theory_nbs_/theory.ipynb\">proveit.core_expr_types.tuples</a>"
   ]
  },
  {
   "cell_type": "code",
   "execution_count": 1,
   "metadata": {},
   "outputs": [],
   "source": [
    "import proveit\n",
    "# Automation is not needed when building an expression:\n",
    "proveit.defaults.automation = False # This will speed things up.\n",
    "proveit.defaults.inline_pngs = False # Makes files smaller.\n",
    "%load_expr # Load the stored expression as 'stored_expr'\n",
    "# import Expression classes needed to build the expression\n",
    "from proveit import ExprRange, ExprTuple, Function, Variable, f, i, j\n",
    "from proveit.numbers import Add, subtract, two"
   ]
  },
  {
   "cell_type": "code",
   "execution_count": 2,
   "metadata": {},
   "outputs": [
    {
     "data": {
      "text/html": [
       "<strong id=\"expr\">expr:</strong> <a class=\"ProveItLink\" href=\"expr.ipynb\"><img src=\"expr.png\" style=\"display:inline;vertical-align:middle;\" /></a><br>"
      ],
      "text/plain": [
       "<IPython.core.display.HTML object>"
      ]
     },
     "metadata": {},
     "output_type": "display_data"
    }
   ],
   "source": [
    "# build up the expression from sub-expressions\n",
    "sub_expr1 = Variable(\"_a\", latex_format = r\"{_{-}a}\")\n",
    "expr = ExprTuple(ExprRange(sub_expr1, Function(f, [Add(sub_expr1, two)]), subtract(i, two), subtract(j, two)))"
   ]
  },
  {
   "cell_type": "code",
   "execution_count": 3,
   "metadata": {},
   "outputs": [
    {
     "name": "stdout",
     "output_type": "stream",
     "text": [
      "Passed sanity check: expr matches stored_expr\n"
     ]
    }
   ],
   "source": [
    "# check that the built expression is the same as the stored expression\n",
    "assert expr == stored_expr\n",
    "assert expr._style_id == stored_expr._style_id\n",
    "print(\"Passed sanity check: expr matches stored_expr\")"
   ]
  },
  {
   "cell_type": "code",
   "execution_count": 4,
   "metadata": {},
   "outputs": [
    {
     "name": "stdout",
     "output_type": "stream",
     "text": [
      "\\left(f\\left(\\left(i - 2\\right) + 2\\right), f\\left(\\left(i - 1\\right) + 2\\right), \\ldots, f\\left(\\left(j - 2\\right) + 2\\right)\\right)\n"
     ]
    }
   ],
   "source": [
    "# Show the LaTeX representation of the expression for convenience if you need it.\n",
    "print(stored_expr.latex())"
   ]
  },
  {
   "cell_type": "code",
   "execution_count": 5,
   "metadata": {},
   "outputs": [
    {
     "data": {
      "text/html": [
       "no style options"
      ],
      "text/plain": [
       "no style options"
      ]
     },
     "metadata": {},
     "output_type": "display_data"
    }
   ],
   "source": [
    "stored_expr.style_options()"
   ]
  },
  {
   "cell_type": "code",
   "execution_count": 6,
   "metadata": {},
   "outputs": [
    {
     "data": {
      "text/html": [
       "<table><tr><th>&nbsp;</th><th>core type</th><th>sub-expressions</th><th>expression</th></tr>\n",
       "<tr><td>0</td><td>ExprTuple</td><td>1</td><td><a class=\"ProveItLink\" href=\"expr.ipynb\"><img src=\"expr.png\" style=\"display:inline;vertical-align:middle;\" /></a></td></tr>\n",
       "<tr><td>1</td><td>ExprRange</td><td>lambda_map:&nbsp;2<br>start_index:&nbsp;3<br>end_index:&nbsp;4<br></td><td><a class=\"ProveItLink\" href=\"../ae14dd9c652a040d543b32781cf7582d2580bf0b0/expr.ipynb\"><img src=\"../ae14dd9c652a040d543b32781cf7582d2580bf0b0/expr.png\" style=\"display:inline;vertical-align:middle;\" /></a></td></tr>\n",
       "<tr><td>2</td><td>Lambda</td><td>parameter:&nbsp;19<br>body:&nbsp;6<br></td><td><a class=\"ProveItLink\" href=\"../00a4b579cdee05f874e405447b208bfe3636d2cb0/expr.ipynb\"><img src=\"../00a4b579cdee05f874e405447b208bfe3636d2cb0/expr.png\" style=\"display:inline;vertical-align:middle;\" /></a></td></tr>\n",
       "<tr><td>3</td><td>Operation</td><td>operator:&nbsp;17<br>operands:&nbsp;7<br></td><td><a class=\"ProveItLink\" href=\"../fb47fb7c7d43fda5b7a6c308ba0f9e7f0896b8130/expr.ipynb\"><img src=\"../fb47fb7c7d43fda5b7a6c308ba0f9e7f0896b8130/expr.png\" style=\"display:inline;vertical-align:middle;\" /></a></td></tr>\n",
       "<tr><td>4</td><td>Operation</td><td>operator:&nbsp;17<br>operands:&nbsp;8<br></td><td><a class=\"ProveItLink\" href=\"../c410f5e86e5fbe82d4b8f1ba6d41f8322154d20e0/expr.ipynb\"><img src=\"../c410f5e86e5fbe82d4b8f1ba6d41f8322154d20e0/expr.png\" style=\"display:inline;vertical-align:middle;\" /></a></td></tr>\n",
       "<tr><td>5</td><td>ExprTuple</td><td>19</td><td><a class=\"ProveItLink\" href=\"../../../../__pv_it/common/4b0dd6be36d76552eda6a95d5b4a27f5a5b62f900/expr.ipynb\"><img src=\"../../../../__pv_it/common/4b0dd6be36d76552eda6a95d5b4a27f5a5b62f900/expr.png\" style=\"display:inline;vertical-align:middle;\" /></a></td></tr>\n",
       "<tr><td>6</td><td>Operation</td><td>operator:&nbsp;9<br>operand:&nbsp;14<br></td><td><a class=\"ProveItLink\" href=\"../1fcc75b79b4640f79f917b4f9fb5a120e34012db0/expr.ipynb\"><img src=\"../1fcc75b79b4640f79f917b4f9fb5a120e34012db0/expr.png\" style=\"display:inline;vertical-align:middle;\" /></a></td></tr>\n",
       "<tr><td>7</td><td>ExprTuple</td><td>11, 13</td><td><a class=\"ProveItLink\" href=\"../3bfbe6964da1e59afb8774f0dcab7ffbf29bcade0/expr.ipynb\"><img src=\"../3bfbe6964da1e59afb8774f0dcab7ffbf29bcade0/expr.png\" style=\"display:inline;vertical-align:middle;\" /></a></td></tr>\n",
       "<tr><td>8</td><td>ExprTuple</td><td>12, 13</td><td><a class=\"ProveItLink\" href=\"../8aa84c46b6fd3464a362c6d577ab9b948569c4a50/expr.ipynb\"><img src=\"../8aa84c46b6fd3464a362c6d577ab9b948569c4a50/expr.png\" style=\"display:inline;vertical-align:middle;\" /></a></td></tr>\n",
       "<tr><td>9</td><td>Variable</td><td></td><td><a class=\"ProveItLink\" href=\"../../../../../__pv_it/common/01b6dbb444a31fc38af4c2379badef6c75b363710/expr.ipynb\"><img src=\"../../../../../__pv_it/common/01b6dbb444a31fc38af4c2379badef6c75b363710/expr.png\" style=\"display:inline;vertical-align:middle;\" /></a></td></tr>\n",
       "<tr><td>10</td><td>ExprTuple</td><td>14</td><td><a class=\"ProveItLink\" href=\"../343cdfc1522fb81768404d54f45f8500e6f73f760/expr.ipynb\"><img src=\"../343cdfc1522fb81768404d54f45f8500e6f73f760/expr.png\" style=\"display:inline;vertical-align:middle;\" /></a></td></tr>\n",
       "<tr><td>11</td><td>Variable</td><td></td><td><a class=\"ProveItLink\" href=\"../../../../../__pv_it/common/ae955345c83abf786c3aff8681cd5465beae262d0/expr.ipynb\"><img src=\"../../../../../__pv_it/common/ae955345c83abf786c3aff8681cd5465beae262d0/expr.png\" style=\"display:inline;vertical-align:middle;\" /></a></td></tr>\n",
       "<tr><td>12</td><td>Variable</td><td></td><td><a class=\"ProveItLink\" href=\"../../../../../__pv_it/common/1ed21df18baca2f42b561a7ffbf30a2743d594650/expr.ipynb\"><img src=\"../../../../../__pv_it/common/1ed21df18baca2f42b561a7ffbf30a2743d594650/expr.png\" style=\"display:inline;vertical-align:middle;\" /></a></td></tr>\n",
       "<tr><td>13</td><td>Operation</td><td>operator:&nbsp;15<br>operand:&nbsp;20<br></td><td><a class=\"ProveItLink\" href=\"../16bf7762f473cc2cfad370a096ed5f2eb39b6b2c0/expr.ipynb\"><img src=\"../16bf7762f473cc2cfad370a096ed5f2eb39b6b2c0/expr.png\" style=\"display:inline;vertical-align:middle;\" /></a></td></tr>\n",
       "<tr><td>14</td><td>Operation</td><td>operator:&nbsp;17<br>operands:&nbsp;18<br></td><td><a class=\"ProveItLink\" href=\"../0ebfb96005cb4958b4dea8c0b073148f39aa9f930/expr.ipynb\"><img src=\"../0ebfb96005cb4958b4dea8c0b073148f39aa9f930/expr.png\" style=\"display:inline;vertical-align:middle;\" /></a></td></tr>\n",
       "<tr><td>15</td><td>Literal</td><td></td><td><a class=\"ProveItLink\" href=\"../../../../../numbers/negation/__pv_it/common/221b3c4d1770ee9051b7c044c3f9ec61196fc34b0/expr.ipynb\"><img src=\"../../../../../numbers/negation/__pv_it/common/221b3c4d1770ee9051b7c044c3f9ec61196fc34b0/expr.png\" style=\"display:inline;vertical-align:middle;\" /></a></td></tr>\n",
       "<tr><td>16</td><td>ExprTuple</td><td>20</td><td><a class=\"ProveItLink\" href=\"../56953b0728fa2850398ae7a13d530612ae194a390/expr.ipynb\"><img src=\"../56953b0728fa2850398ae7a13d530612ae194a390/expr.png\" style=\"display:inline;vertical-align:middle;\" /></a></td></tr>\n",
       "<tr><td>17</td><td>Literal</td><td></td><td><a class=\"ProveItLink\" href=\"../../../../../numbers/addition/__pv_it/common/4b7effaab3619a1c2c38fe2dee8601df8ec714590/expr.ipynb\"><img src=\"../../../../../numbers/addition/__pv_it/common/4b7effaab3619a1c2c38fe2dee8601df8ec714590/expr.png\" style=\"display:inline;vertical-align:middle;\" /></a></td></tr>\n",
       "<tr><td>18</td><td>ExprTuple</td><td>19, 20</td><td><a class=\"ProveItLink\" href=\"../9ef639073a6123151b125a397ed1069a7591e1040/expr.ipynb\"><img src=\"../9ef639073a6123151b125a397ed1069a7591e1040/expr.png\" style=\"display:inline;vertical-align:middle;\" /></a></td></tr>\n",
       "<tr><td>19</td><td>Variable</td><td></td><td><a class=\"ProveItLink\" href=\"../../../../__pv_it/common/006c465e50948aa2b52285e2de47974f741255cc0/expr.ipynb\"><img src=\"../../../../__pv_it/common/006c465e50948aa2b52285e2de47974f741255cc0/expr.png\" style=\"display:inline;vertical-align:middle;\" /></a></td></tr>\n",
       "<tr><td>20</td><td>Literal</td><td></td><td><a class=\"ProveItLink\" href=\"../../../../../numbers/numerals/__pv_it/common/af4aab8a07465db063742696e006d04670f30cf10/expr.ipynb\"><img src=\"../../../../../numbers/numerals/__pv_it/common/af4aab8a07465db063742696e006d04670f30cf10/expr.png\" style=\"display:inline;vertical-align:middle;\" /></a></td></tr>\n",
       "</table>\n"
      ],
      "text/plain": [
       "0. (f((i - 2) + 2), f((i - 1) + 2), ..., f((j - 2) + 2))\n",
       "   core type: ExprTuple\n",
       "   sub-expressions: 1\n",
       "1. f((i - 2) + 2), f((i - 1) + 2), ..., f((j - 2) + 2)\n",
       "   core type: ExprRange\n",
       "   lambda_map: 2\n",
       "   start_index: 3\n",
       "   end_index: 4\n",
       "2. _a -> f(_a + 2)\n",
       "   core type: Lambda\n",
       "   parameter: 19\n",
       "   body: 6\n",
       "3. i - 2\n",
       "   core type: Operation\n",
       "   operator: 17\n",
       "   operands: 7\n",
       "4. j - 2\n",
       "   core type: Operation\n",
       "   operator: 17\n",
       "   operands: 8\n",
       "5. (_a)\n",
       "   core type: ExprTuple\n",
       "   sub-expressions: 19\n",
       "6. f(_a + 2)\n",
       "   core type: Operation\n",
       "   operator: 9\n",
       "   operand: 14\n",
       "7. (i, -2)\n",
       "   core type: ExprTuple\n",
       "   sub-expressions: 11, 13\n",
       "8. (j, -2)\n",
       "   core type: ExprTuple\n",
       "   sub-expressions: 12, 13\n",
       "9. f\n",
       "   core type: Variable\n",
       "   sub-expressions: \n",
       "10. (_a + 2)\n",
       "    core type: ExprTuple\n",
       "    sub-expressions: 14\n",
       "11. i\n",
       "    core type: Variable\n",
       "    sub-expressions: \n",
       "12. j\n",
       "    core type: Variable\n",
       "    sub-expressions: \n",
       "13. -2\n",
       "    core type: Operation\n",
       "    operator: 15\n",
       "    operand: 20\n",
       "14. _a + 2\n",
       "    core type: Operation\n",
       "    operator: 17\n",
       "    operands: 18\n",
       "15. -\n",
       "    core type: Literal\n",
       "    sub-expressions: \n",
       "16. (2)\n",
       "    core type: ExprTuple\n",
       "    sub-expressions: 20\n",
       "17. +\n",
       "    core type: Literal\n",
       "    sub-expressions: \n",
       "18. (_a, 2)\n",
       "    core type: ExprTuple\n",
       "    sub-expressions: 19, 20\n",
       "19. _a\n",
       "    core type: Variable\n",
       "    sub-expressions: \n",
       "20. 2\n",
       "    core type: Literal\n",
       "    sub-expressions: "
      ]
     },
     "metadata": {},
     "output_type": "display_data"
    }
   ],
   "source": [
    "# display the expression information\n",
    "stored_expr.expr_info()"
   ]
  },
  {
   "cell_type": "code",
   "execution_count": null,
   "metadata": {},
   "outputs": [],
   "source": []
  }
 ],
 "metadata": {
  "kernelspec": {
   "display_name": "Python 3",
   "language": "python",
   "name": "python3"
  }
 },
 "nbformat": 4,
 "nbformat_minor": 0
}