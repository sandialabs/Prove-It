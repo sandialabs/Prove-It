{
 "cells": [
  {
   "cell_type": "markdown",
   "metadata": {},
   "source": [
    "Expression of type <a class=\"ProveItLink\" href=\"../../../../../../../doc/html/api/proveit.logic.Equals.html\">Equals</a>\n",
    "=======================\n",
    "# from the theory of <a class=\"ProveItLink\" href=\"../../../_theory_nbs_/theory.ipynb\">proveit.core_expr_types.tuples</a>"
   ]
  },
  {
   "cell_type": "code",
   "execution_count": 1,
   "metadata": {},
   "outputs": [],
   "source": [
    "import proveit\n",
    "# Automation is not needed when building an expression:\n",
    "proveit.defaults.automation = False # This will speed things up.\n",
    "proveit.defaults.inline_pngs = False # Makes files smaller.\n",
    "%load_expr # Load the stored expression as 'stored_expr'\n",
    "# import Expression classes needed to build the expression\n",
    "from proveit import ExprRange, Variable, j\n",
    "from proveit.logic import Equals\n",
    "from proveit.numbers import Add, Exp, e, four, three, two"
   ]
  },
  {
   "cell_type": "code",
   "execution_count": 2,
   "metadata": {},
   "outputs": [
    {
     "data": {
      "text/html": [
       "<strong id=\"expr\">expr:</strong> <a class=\"ProveItLink\" href=\"expr.ipynb\"><img src=\"expr.png\" style=\"display:inline;vertical-align:middle;\" /></a><br>"
      ],
      "text/plain": [
       "<IPython.core.display.HTML object>"
      ]
     },
     "metadata": {},
     "output_type": "display_data"
    }
   ],
   "source": [
    "# build up the expression from sub-expressions\n",
    "sub_expr1 = Variable(\"_a\", latex_format = r\"{_{-}a}\")\n",
    "expr = Equals([ExprRange(sub_expr1, Exp(e, Add(sub_expr1, j)), two, four)], [Exp(e, Add(two, j)), Exp(e, Add(three, j)), Exp(e, Add(four, j))])"
   ]
  },
  {
   "cell_type": "code",
   "execution_count": 3,
   "metadata": {},
   "outputs": [
    {
     "name": "stdout",
     "output_type": "stream",
     "text": [
      "Passed sanity check: expr matches stored_expr\n"
     ]
    }
   ],
   "source": [
    "# check that the built expression is the same as the stored expression\n",
    "assert expr == stored_expr\n",
    "assert expr._style_id == stored_expr._style_id\n",
    "print(\"Passed sanity check: expr matches stored_expr\")"
   ]
  },
  {
   "cell_type": "code",
   "execution_count": 4,
   "metadata": {},
   "outputs": [
    {
     "name": "stdout",
     "output_type": "stream",
     "text": [
      "\\left(\\mathsf{e}^{2 + j}, \\mathsf{e}^{3 + j}, \\ldots, \\mathsf{e}^{4 + j}\\right) = \\left(\\mathsf{e}^{2 + j}, \\mathsf{e}^{3 + j}, \\mathsf{e}^{4 + j}\\right)\n"
     ]
    }
   ],
   "source": [
    "# Show the LaTeX representation of the expression for convenience if you need it.\n",
    "print(stored_expr.latex())"
   ]
  },
  {
   "cell_type": "code",
   "execution_count": 5,
   "metadata": {},
   "outputs": [
    {
     "data": {
      "text/html": [
       "<table>\n",
       "<tr><th>name</th><th>description</th><th>default</th><th>current value</th><th>related methods</th></tr><tr><td>operation</td><td>'infix' or 'function' style formatting</td><td>infix</td><td>infix</td><td></td></tr>\n",
       "<tr><td>wrap_positions</td><td>position(s) at which wrapping is to occur; '2 n - 1' is after the nth operand, '2 n' is after the nth operation.</td><td>()</td><td>()</td><td>('with_wrapping_at', 'with_wrap_before_operator', 'with_wrap_after_operator', 'without_wrapping', 'wrap_positions')</td></tr>\n",
       "<tr><td>justification</td><td>if any wrap positions are set, justify to the 'left', 'center', or 'right'</td><td>center</td><td>center</td><td>('with_justification',)</td></tr>\n",
       "<tr><td>direction</td><td>Direction of the relation (normal or reversed)</td><td>normal</td><td>normal</td><td>('with_direction_reversed', 'is_reversed')</td></tr>\n",
       "</table>\n"
      ],
      "text/plain": [
       "style name: operation\n",
       "description: 'infix' or 'function' style formatting\n",
       "default: infix\n",
       "current value: infix\n",
       "related methods: ()\n",
       "style name: wrap_positions\n",
       "description: position(s) at which wrapping is to occur; '2 n - 1' is after the nth operand, '2 n' is after the nth operation.\n",
       "default: ()\n",
       "current value: ()\n",
       "related methods: ('with_wrapping_at', 'with_wrap_before_operator', 'with_wrap_after_operator', 'without_wrapping', 'wrap_positions')\n",
       "style name: justification\n",
       "description: if any wrap positions are set, justify to the 'left', 'center', or 'right'\n",
       "default: center\n",
       "current value: center\n",
       "related methods: ('with_justification',)\n",
       "style name: direction\n",
       "description: Direction of the relation (normal or reversed)\n",
       "default: normal\n",
       "current value: normal\n",
       "related methods: ('with_direction_reversed', 'is_reversed')"
      ]
     },
     "metadata": {},
     "output_type": "display_data"
    }
   ],
   "source": [
    "stored_expr.style_options()"
   ]
  },
  {
   "cell_type": "code",
   "execution_count": 6,
   "metadata": {},
   "outputs": [
    {
     "data": {
      "text/html": [
       "<table><tr><th>&nbsp;</th><th>core type</th><th>sub-expressions</th><th>expression</th></tr>\n",
       "<tr><td>0</td><td>Operation</td><td>operator:&nbsp;1<br>operands:&nbsp;2<br></td><td><a class=\"ProveItLink\" href=\"expr.ipynb\"><img src=\"expr.png\" style=\"display:inline;vertical-align:middle;\" /></a></td></tr>\n",
       "<tr><td>1</td><td>Literal</td><td></td><td><a class=\"ProveItLink\" href=\"../../../../../logic/equality/__pv_it/common/fb96dc12b2aa8801dda64d0132b396c63d1502bb0/expr.ipynb\"><img src=\"../../../../../logic/equality/__pv_it/common/fb96dc12b2aa8801dda64d0132b396c63d1502bb0/expr.png\" style=\"display:inline;vertical-align:middle;\" /></a></td></tr>\n",
       "<tr><td>2</td><td>ExprTuple</td><td>3, 4</td><td><a class=\"ProveItLink\" href=\"../525bf71920b958978a0196032e6e9118528ce2d30/expr.ipynb\"><img src=\"../525bf71920b958978a0196032e6e9118528ce2d30/expr.png\" style=\"display:inline;vertical-align:middle;\" /></a></td></tr>\n",
       "<tr><td>3</td><td>ExprTuple</td><td>5</td><td><a class=\"ProveItLink\" href=\"../2b029eeea5de633da3f062a4e6acded41dfa3caf0/expr.ipynb\"><img src=\"../2b029eeea5de633da3f062a4e6acded41dfa3caf0/expr.png\" style=\"display:inline;vertical-align:middle;\" /></a></td></tr>\n",
       "<tr><td>4</td><td>ExprTuple</td><td>6, 7, 8</td><td><a class=\"ProveItLink\" href=\"../0727124efa6cd254861f4d9b342f5b1555d60e320/expr.ipynb\"><img src=\"../0727124efa6cd254861f4d9b342f5b1555d60e320/expr.png\" style=\"display:inline;vertical-align:middle;\" /></a></td></tr>\n",
       "<tr><td>5</td><td>ExprRange</td><td>lambda_map:&nbsp;9<br>start_index:&nbsp;25<br>end_index:&nbsp;27<br></td><td><a class=\"ProveItLink\" href=\"../ee75a95b356e5b791b4e02dd363eef69ccb2dee80/expr.ipynb\"><img src=\"../ee75a95b356e5b791b4e02dd363eef69ccb2dee80/expr.png\" style=\"display:inline;vertical-align:middle;\" /></a></td></tr>\n",
       "<tr><td>6</td><td>Operation</td><td>operator:&nbsp;18<br>operands:&nbsp;10<br></td><td><a class=\"ProveItLink\" href=\"../a8cfb944596b76b94e927f4a4de6997ab1c1f9aa0/expr.ipynb\"><img src=\"../a8cfb944596b76b94e927f4a4de6997ab1c1f9aa0/expr.png\" style=\"display:inline;vertical-align:middle;\" /></a></td></tr>\n",
       "<tr><td>7</td><td>Operation</td><td>operator:&nbsp;18<br>operands:&nbsp;11<br></td><td><a class=\"ProveItLink\" href=\"../7e2cdc70a0f04514b7efe2b5212be2a8a52d14c20/expr.ipynb\"><img src=\"../7e2cdc70a0f04514b7efe2b5212be2a8a52d14c20/expr.png\" style=\"display:inline;vertical-align:middle;\" /></a></td></tr>\n",
       "<tr><td>8</td><td>Operation</td><td>operator:&nbsp;18<br>operands:&nbsp;12<br></td><td><a class=\"ProveItLink\" href=\"../e815a6dd2da4fed1e270cdf2f6be80641e88c93a0/expr.ipynb\"><img src=\"../e815a6dd2da4fed1e270cdf2f6be80641e88c93a0/expr.png\" style=\"display:inline;vertical-align:middle;\" /></a></td></tr>\n",
       "<tr><td>9</td><td>Lambda</td><td>parameter:&nbsp;30<br>body:&nbsp;14<br></td><td><a class=\"ProveItLink\" href=\"../4e909eb73e712bb191918598d6dddc097fc848690/expr.ipynb\"><img src=\"../4e909eb73e712bb191918598d6dddc097fc848690/expr.png\" style=\"display:inline;vertical-align:middle;\" /></a></td></tr>\n",
       "<tr><td>10</td><td>ExprTuple</td><td>23, 15</td><td><a class=\"ProveItLink\" href=\"../dadfe9a4edd34aa78d499d4262075a10853124f50/expr.ipynb\"><img src=\"../dadfe9a4edd34aa78d499d4262075a10853124f50/expr.png\" style=\"display:inline;vertical-align:middle;\" /></a></td></tr>\n",
       "<tr><td>11</td><td>ExprTuple</td><td>23, 16</td><td><a class=\"ProveItLink\" href=\"../89f3a5a36d127ec14be521f6c81256f6c5d939cf0/expr.ipynb\"><img src=\"../89f3a5a36d127ec14be521f6c81256f6c5d939cf0/expr.png\" style=\"display:inline;vertical-align:middle;\" /></a></td></tr>\n",
       "<tr><td>12</td><td>ExprTuple</td><td>23, 17</td><td><a class=\"ProveItLink\" href=\"../9a7c82976da86edf7e55a611fcff060b04415c240/expr.ipynb\"><img src=\"../9a7c82976da86edf7e55a611fcff060b04415c240/expr.png\" style=\"display:inline;vertical-align:middle;\" /></a></td></tr>\n",
       "<tr><td>13</td><td>ExprTuple</td><td>30</td><td><a class=\"ProveItLink\" href=\"../../../../__pv_it/common/4b0dd6be36d76552eda6a95d5b4a27f5a5b62f900/expr.ipynb\"><img src=\"../../../../__pv_it/common/4b0dd6be36d76552eda6a95d5b4a27f5a5b62f900/expr.png\" style=\"display:inline;vertical-align:middle;\" /></a></td></tr>\n",
       "<tr><td>14</td><td>Operation</td><td>operator:&nbsp;18<br>operands:&nbsp;19<br></td><td><a class=\"ProveItLink\" href=\"../8cc2030ad5dd04029d56f2c448c58d464d85b6ba0/expr.ipynb\"><img src=\"../8cc2030ad5dd04029d56f2c448c58d464d85b6ba0/expr.png\" style=\"display:inline;vertical-align:middle;\" /></a></td></tr>\n",
       "<tr><td>15</td><td>Operation</td><td>operator:&nbsp;28<br>operands:&nbsp;20<br></td><td><a class=\"ProveItLink\" href=\"../c472d337a6d5ee7b04f9666339014bc75689cf8a0/expr.ipynb\"><img src=\"../c472d337a6d5ee7b04f9666339014bc75689cf8a0/expr.png\" style=\"display:inline;vertical-align:middle;\" /></a></td></tr>\n",
       "<tr><td>16</td><td>Operation</td><td>operator:&nbsp;28<br>operands:&nbsp;21<br></td><td><a class=\"ProveItLink\" href=\"../f07097377a4a551949e8dadfb740ba10f120ed170/expr.ipynb\"><img src=\"../f07097377a4a551949e8dadfb740ba10f120ed170/expr.png\" style=\"display:inline;vertical-align:middle;\" /></a></td></tr>\n",
       "<tr><td>17</td><td>Operation</td><td>operator:&nbsp;28<br>operands:&nbsp;22<br></td><td><a class=\"ProveItLink\" href=\"../bb6682b37729e5733a1d288f1e4baa5de4b913ce0/expr.ipynb\"><img src=\"../bb6682b37729e5733a1d288f1e4baa5de4b913ce0/expr.png\" style=\"display:inline;vertical-align:middle;\" /></a></td></tr>\n",
       "<tr><td>18</td><td>Literal</td><td></td><td><a class=\"ProveItLink\" href=\"../../../../../numbers/exponentiation/__pv_it/common/0ac37aca1e54c35c5cda09672df32d4f69f1f3020/expr.ipynb\"><img src=\"../../../../../numbers/exponentiation/__pv_it/common/0ac37aca1e54c35c5cda09672df32d4f69f1f3020/expr.png\" style=\"display:inline;vertical-align:middle;\" /></a></td></tr>\n",
       "<tr><td>19</td><td>ExprTuple</td><td>23, 24</td><td><a class=\"ProveItLink\" href=\"../7a8b76d60576449f2db18e9a6d11f0b1425a6f150/expr.ipynb\"><img src=\"../7a8b76d60576449f2db18e9a6d11f0b1425a6f150/expr.png\" style=\"display:inline;vertical-align:middle;\" /></a></td></tr>\n",
       "<tr><td>20</td><td>ExprTuple</td><td>25, 31</td><td><a class=\"ProveItLink\" href=\"../98a5855b672e935315de1848bac054640c6e81d30/expr.ipynb\"><img src=\"../98a5855b672e935315de1848bac054640c6e81d30/expr.png\" style=\"display:inline;vertical-align:middle;\" /></a></td></tr>\n",
       "<tr><td>21</td><td>ExprTuple</td><td>26, 31</td><td><a class=\"ProveItLink\" href=\"../d9df6b49ddf4cb4f9e0f4feaef41e28e034c37ac0/expr.ipynb\"><img src=\"../d9df6b49ddf4cb4f9e0f4feaef41e28e034c37ac0/expr.png\" style=\"display:inline;vertical-align:middle;\" /></a></td></tr>\n",
       "<tr><td>22</td><td>ExprTuple</td><td>27, 31</td><td><a class=\"ProveItLink\" href=\"../18d04f0b5ad9c58d308cd9cde0f363ba8e7d78840/expr.ipynb\"><img src=\"../18d04f0b5ad9c58d308cd9cde0f363ba8e7d78840/expr.png\" style=\"display:inline;vertical-align:middle;\" /></a></td></tr>\n",
       "<tr><td>23</td><td>Literal</td><td></td><td><a class=\"ProveItLink\" href=\"../../../../../numbers/number_sets/real_numbers/__pv_it/common/e531ffa54fd897084533764a4a14f19f590674f80/expr.ipynb\"><img src=\"../../../../../numbers/number_sets/real_numbers/__pv_it/common/e531ffa54fd897084533764a4a14f19f590674f80/expr.png\" style=\"display:inline;vertical-align:middle;\" /></a></td></tr>\n",
       "<tr><td>24</td><td>Operation</td><td>operator:&nbsp;28<br>operands:&nbsp;29<br></td><td><a class=\"ProveItLink\" href=\"../d351ebbc5597a94ba8c6800655f55aed7bd36c340/expr.ipynb\"><img src=\"../d351ebbc5597a94ba8c6800655f55aed7bd36c340/expr.png\" style=\"display:inline;vertical-align:middle;\" /></a></td></tr>\n",
       "<tr><td>25</td><td>Literal</td><td></td><td><a class=\"ProveItLink\" href=\"../../../../../numbers/numerals/__pv_it/common/af4aab8a07465db063742696e006d04670f30cf10/expr.ipynb\"><img src=\"../../../../../numbers/numerals/__pv_it/common/af4aab8a07465db063742696e006d04670f30cf10/expr.png\" style=\"display:inline;vertical-align:middle;\" /></a></td></tr>\n",
       "<tr><td>26</td><td>Literal</td><td></td><td><a class=\"ProveItLink\" href=\"../../../../../numbers/numerals/__pv_it/common/1943b60945420e340d305780feff5c1aff2740ff0/expr.ipynb\"><img src=\"../../../../../numbers/numerals/__pv_it/common/1943b60945420e340d305780feff5c1aff2740ff0/expr.png\" style=\"display:inline;vertical-align:middle;\" /></a></td></tr>\n",
       "<tr><td>27</td><td>Literal</td><td></td><td><a class=\"ProveItLink\" href=\"../../../../../numbers/numerals/__pv_it/common/48a1d915c1e9490b9a94e5c77a208938d3ee20ce0/expr.ipynb\"><img src=\"../../../../../numbers/numerals/__pv_it/common/48a1d915c1e9490b9a94e5c77a208938d3ee20ce0/expr.png\" style=\"display:inline;vertical-align:middle;\" /></a></td></tr>\n",
       "<tr><td>28</td><td>Literal</td><td></td><td><a class=\"ProveItLink\" href=\"../../../../../numbers/addition/__pv_it/common/4b7effaab3619a1c2c38fe2dee8601df8ec714590/expr.ipynb\"><img src=\"../../../../../numbers/addition/__pv_it/common/4b7effaab3619a1c2c38fe2dee8601df8ec714590/expr.png\" style=\"display:inline;vertical-align:middle;\" /></a></td></tr>\n",
       "<tr><td>29</td><td>ExprTuple</td><td>30, 31</td><td><a class=\"ProveItLink\" href=\"../43f52d43712173fb2f7c0316ae07321c966bea3b0/expr.ipynb\"><img src=\"../43f52d43712173fb2f7c0316ae07321c966bea3b0/expr.png\" style=\"display:inline;vertical-align:middle;\" /></a></td></tr>\n",
       "<tr><td>30</td><td>Variable</td><td></td><td><a class=\"ProveItLink\" href=\"../../../../__pv_it/common/006c465e50948aa2b52285e2de47974f741255cc0/expr.ipynb\"><img src=\"../../../../__pv_it/common/006c465e50948aa2b52285e2de47974f741255cc0/expr.png\" style=\"display:inline;vertical-align:middle;\" /></a></td></tr>\n",
       "<tr><td>31</td><td>Variable</td><td></td><td><a class=\"ProveItLink\" href=\"../../../../../__pv_it/common/1ed21df18baca2f42b561a7ffbf30a2743d594650/expr.ipynb\"><img src=\"../../../../../__pv_it/common/1ed21df18baca2f42b561a7ffbf30a2743d594650/expr.png\" style=\"display:inline;vertical-align:middle;\" /></a></td></tr>\n",
       "</table>\n"
      ],
      "text/plain": [
       "0. (e^{2 + j}, e^{3 + j}, ..., e^{4 + j}) = (e^{2 + j}, e^{3 + j}, e^{4 + j})\n",
       "   core type: Operation\n",
       "   operator: 1\n",
       "   operands: 2\n",
       "1. =\n",
       "   core type: Literal\n",
       "   sub-expressions: \n",
       "2. ((e^{2 + j}, e^{3 + j}, ..., e^{4 + j}), (e^{2 + j}, e^{3 + j}, e^{4 + j}))\n",
       "   core type: ExprTuple\n",
       "   sub-expressions: 3, 4\n",
       "3. (e^{2 + j}, e^{3 + j}, ..., e^{4 + j})\n",
       "   core type: ExprTuple\n",
       "   sub-expressions: 5\n",
       "4. (e^{2 + j}, e^{3 + j}, e^{4 + j})\n",
       "   core type: ExprTuple\n",
       "   sub-expressions: 6, 7, 8\n",
       "5. e^{2 + j}, e^{3 + j}, ..., e^{4 + j}\n",
       "   core type: ExprRange\n",
       "   lambda_map: 9\n",
       "   start_index: 25\n",
       "   end_index: 27\n",
       "6. e^{2 + j}\n",
       "   core type: Operation\n",
       "   operator: 18\n",
       "   operands: 10\n",
       "7. e^{3 + j}\n",
       "   core type: Operation\n",
       "   operator: 18\n",
       "   operands: 11\n",
       "8. e^{4 + j}\n",
       "   core type: Operation\n",
       "   operator: 18\n",
       "   operands: 12\n",
       "9. _a -> e^{_a + j}\n",
       "   core type: Lambda\n",
       "   parameter: 30\n",
       "   body: 14\n",
       "10. (e, 2 + j)\n",
       "    core type: ExprTuple\n",
       "    sub-expressions: 23, 15\n",
       "11. (e, 3 + j)\n",
       "    core type: ExprTuple\n",
       "    sub-expressions: 23, 16\n",
       "12. (e, 4 + j)\n",
       "    core type: ExprTuple\n",
       "    sub-expressions: 23, 17\n",
       "13. (_a)\n",
       "    core type: ExprTuple\n",
       "    sub-expressions: 30\n",
       "14. e^{_a + j}\n",
       "    core type: Operation\n",
       "    operator: 18\n",
       "    operands: 19\n",
       "15. 2 + j\n",
       "    core type: Operation\n",
       "    operator: 28\n",
       "    operands: 20\n",
       "16. 3 + j\n",
       "    core type: Operation\n",
       "    operator: 28\n",
       "    operands: 21\n",
       "17. 4 + j\n",
       "    core type: Operation\n",
       "    operator: 28\n",
       "    operands: 22\n",
       "18. Exp\n",
       "    core type: Literal\n",
       "    sub-expressions: \n",
       "19. (e, _a + j)\n",
       "    core type: ExprTuple\n",
       "    sub-expressions: 23, 24\n",
       "20. (2, j)\n",
       "    core type: ExprTuple\n",
       "    sub-expressions: 25, 31\n",
       "21. (3, j)\n",
       "    core type: ExprTuple\n",
       "    sub-expressions: 26, 31\n",
       "22. (4, j)\n",
       "    core type: ExprTuple\n",
       "    sub-expressions: 27, 31\n",
       "23. e\n",
       "    core type: Literal\n",
       "    sub-expressions: \n",
       "24. _a + j\n",
       "    core type: Operation\n",
       "    operator: 28\n",
       "    operands: 29\n",
       "25. 2\n",
       "    core type: Literal\n",
       "    sub-expressions: \n",
       "26. 3\n",
       "    core type: Literal\n",
       "    sub-expressions: \n",
       "27. 4\n",
       "    core type: Literal\n",
       "    sub-expressions: \n",
       "28. +\n",
       "    core type: Literal\n",
       "    sub-expressions: \n",
       "29. (_a, j)\n",
       "    core type: ExprTuple\n",
       "    sub-expressions: 30, 31\n",
       "30. _a\n",
       "    core type: Variable\n",
       "    sub-expressions: \n",
       "31. j\n",
       "    core type: Variable\n",
       "    sub-expressions: "
      ]
     },
     "metadata": {},
     "output_type": "display_data"
    }
   ],
   "source": [
    "# display the expression information\n",
    "stored_expr.expr_info()"
   ]
  },
  {
   "cell_type": "code",
   "execution_count": null,
   "metadata": {},
   "outputs": [],
   "source": []
  }
 ],
 "metadata": {
  "kernelspec": {
   "display_name": "Python 3",
   "language": "python",
   "name": "python3"
  }
 },
 "nbformat": 4,
 "nbformat_minor": 0
}