{
 "cells": [
  {
   "cell_type": "markdown",
   "metadata": {},
   "source": [
    "Expression of type <a class=\"ProveItLink\" href=\"../../../../../../../doc/html/api/proveit.ExprTuple.html\">ExprTuple</a>\n",
    "=======================\n",
    "# from the theory of <a class=\"ProveItLink\" href=\"../../../_theory_nbs_/theory.ipynb\">proveit.core_expr_types.tuples</a>"
   ]
  },
  {
   "cell_type": "code",
   "execution_count": 1,
   "metadata": {},
   "outputs": [],
   "source": [
    "import proveit\n",
    "# Automation is not needed when building an expression:\n",
    "proveit.defaults.automation = False # This will speed things up.\n",
    "proveit.defaults.inline_pngs = False # Makes files smaller.\n",
    "%load_expr # Load the stored expression as 'stored_expr'\n",
    "# import Expression classes needed to build the expression\n",
    "from proveit import ExprTuple, i, j\n",
    "from proveit.numbers import Add, one, subtract, zero"
   ]
  },
  {
   "cell_type": "code",
   "execution_count": 2,
   "metadata": {},
   "outputs": [
    {
     "data": {
      "text/html": [
       "<strong id=\"expr\">expr:</strong> <a class=\"ProveItLink\" href=\"expr.ipynb\"><img src=\"expr.png\" style=\"display:inline;vertical-align:middle;\" /></a><br>"
      ],
      "text/plain": [
       "<IPython.core.display.HTML object>"
      ]
     },
     "metadata": {},
     "output_type": "display_data"
    }
   ],
   "source": [
    "# build up the expression from sub-expressions\n",
    "expr = ExprTuple(zero, subtract(Add(subtract(j, one), one), subtract(i, one)))"
   ]
  },
  {
   "cell_type": "code",
   "execution_count": 3,
   "metadata": {},
   "outputs": [
    {
     "name": "stdout",
     "output_type": "stream",
     "text": [
      "Passed sanity check: expr matches stored_expr\n"
     ]
    }
   ],
   "source": [
    "# check that the built expression is the same as the stored expression\n",
    "assert expr == stored_expr\n",
    "assert expr._style_id == stored_expr._style_id\n",
    "print(\"Passed sanity check: expr matches stored_expr\")"
   ]
  },
  {
   "cell_type": "code",
   "execution_count": 4,
   "metadata": {},
   "outputs": [
    {
     "name": "stdout",
     "output_type": "stream",
     "text": [
      "\\left(0, \\left(\\left(j - 1\\right) + 1\\right) - \\left(i - 1\\right)\\right)\n"
     ]
    }
   ],
   "source": [
    "# Show the LaTeX representation of the expression for convenience if you need it.\n",
    "print(stored_expr.latex())"
   ]
  },
  {
   "cell_type": "code",
   "execution_count": 5,
   "metadata": {},
   "outputs": [
    {
     "data": {
      "text/html": [
       "<table>\n",
       "<tr><th>name</th><th>description</th><th>default</th><th>current value</th><th>related methods</th></tr><tr><td>wrap_positions</td><td>position(s) at which wrapping is to occur; 'n' is after the nth comma.</td><td>()</td><td>()</td><td>('with_wrapping_at',)</td></tr>\n",
       "<tr><td>justification</td><td>if any wrap positions are set, justify to the 'left', 'center', or 'right'</td><td>left</td><td>left</td><td>('with_justification',)</td></tr>\n",
       "</table>\n"
      ],
      "text/plain": [
       "style name: wrap_positions\n",
       "description: position(s) at which wrapping is to occur; 'n' is after the nth comma.\n",
       "default: ()\n",
       "current value: ()\n",
       "related methods: ('with_wrapping_at',)\n",
       "style name: justification\n",
       "description: if any wrap positions are set, justify to the 'left', 'center', or 'right'\n",
       "default: left\n",
       "current value: left\n",
       "related methods: ('with_justification',)"
      ]
     },
     "metadata": {},
     "output_type": "display_data"
    }
   ],
   "source": [
    "stored_expr.style_options()"
   ]
  },
  {
   "cell_type": "code",
   "execution_count": 6,
   "metadata": {},
   "outputs": [
    {
     "data": {
      "text/html": [
       "<table><tr><th>&nbsp;</th><th>core type</th><th>sub-expressions</th><th>expression</th></tr>\n",
       "<tr><td>0</td><td>ExprTuple</td><td>1, 2</td><td><a class=\"ProveItLink\" href=\"expr.ipynb\"><img src=\"expr.png\" style=\"display:inline;vertical-align:middle;\" /></a></td></tr>\n",
       "<tr><td>1</td><td>Literal</td><td></td><td><a class=\"ProveItLink\" href=\"../../../../../numbers/numerals/__pv_it/common/dd4e19e8b134dfb293470ea55fe3589b0ab9f8040/expr.ipynb\"><img src=\"../../../../../numbers/numerals/__pv_it/common/dd4e19e8b134dfb293470ea55fe3589b0ab9f8040/expr.png\" style=\"display:inline;vertical-align:middle;\" /></a></td></tr>\n",
       "<tr><td>2</td><td>Operation</td><td>operator:&nbsp;11<br>operands:&nbsp;3<br></td><td><a class=\"ProveItLink\" href=\"../29c113c3b8a02657f966be31505ae41ac82eef460/expr.ipynb\"><img src=\"../29c113c3b8a02657f966be31505ae41ac82eef460/expr.png\" style=\"display:inline;vertical-align:middle;\" /></a></td></tr>\n",
       "<tr><td>3</td><td>ExprTuple</td><td>4, 5</td><td><a class=\"ProveItLink\" href=\"../2df7e5896efdc8efcfd4150f8f7e1ccabd4b9e930/expr.ipynb\"><img src=\"../2df7e5896efdc8efcfd4150f8f7e1ccabd4b9e930/expr.png\" style=\"display:inline;vertical-align:middle;\" /></a></td></tr>\n",
       "<tr><td>4</td><td>Operation</td><td>operator:&nbsp;11<br>operands:&nbsp;6<br></td><td><a class=\"ProveItLink\" href=\"../3e3ba9181e6141cc2be061abf6618b79813f89ba0/expr.ipynb\"><img src=\"../3e3ba9181e6141cc2be061abf6618b79813f89ba0/expr.png\" style=\"display:inline;vertical-align:middle;\" /></a></td></tr>\n",
       "<tr><td>5</td><td>Operation</td><td>operator:&nbsp;16<br>operand:&nbsp;9<br></td><td><a class=\"ProveItLink\" href=\"../713fc877ab99f74502e2a5fb1b84137280dc55e30/expr.ipynb\"><img src=\"../713fc877ab99f74502e2a5fb1b84137280dc55e30/expr.png\" style=\"display:inline;vertical-align:middle;\" /></a></td></tr>\n",
       "<tr><td>6</td><td>ExprTuple</td><td>8, 18</td><td><a class=\"ProveItLink\" href=\"../8e6bcc7c6acd4e49367cc37067a1f9b5493a74bf0/expr.ipynb\"><img src=\"../8e6bcc7c6acd4e49367cc37067a1f9b5493a74bf0/expr.png\" style=\"display:inline;vertical-align:middle;\" /></a></td></tr>\n",
       "<tr><td>7</td><td>ExprTuple</td><td>9</td><td><a class=\"ProveItLink\" href=\"../9ac8d6d83b34ebd469cef55b52c586ad7782b6860/expr.ipynb\"><img src=\"../9ac8d6d83b34ebd469cef55b52c586ad7782b6860/expr.png\" style=\"display:inline;vertical-align:middle;\" /></a></td></tr>\n",
       "<tr><td>8</td><td>Operation</td><td>operator:&nbsp;11<br>operands:&nbsp;10<br></td><td><a class=\"ProveItLink\" href=\"../../../../__pv_it/common/5f12c85b222ddc9d6e8035b3d7bc327905179e870/expr.ipynb\"><img src=\"../../../../__pv_it/common/5f12c85b222ddc9d6e8035b3d7bc327905179e870/expr.png\" style=\"display:inline;vertical-align:middle;\" /></a></td></tr>\n",
       "<tr><td>9</td><td>Operation</td><td>operator:&nbsp;11<br>operands:&nbsp;12<br></td><td><a class=\"ProveItLink\" href=\"../5c23b58f7fce71ffede2c04b3ddc8106dfd083710/expr.ipynb\"><img src=\"../5c23b58f7fce71ffede2c04b3ddc8106dfd083710/expr.png\" style=\"display:inline;vertical-align:middle;\" /></a></td></tr>\n",
       "<tr><td>10</td><td>ExprTuple</td><td>13, 15</td><td><a class=\"ProveItLink\" href=\"../../../../__pv_it/common/70a39ec96dd161410196034dd28cf263f545d5dd0/expr.ipynb\"><img src=\"../../../../__pv_it/common/70a39ec96dd161410196034dd28cf263f545d5dd0/expr.png\" style=\"display:inline;vertical-align:middle;\" /></a></td></tr>\n",
       "<tr><td>11</td><td>Literal</td><td></td><td><a class=\"ProveItLink\" href=\"../../../../../numbers/addition/__pv_it/common/4b7effaab3619a1c2c38fe2dee8601df8ec714590/expr.ipynb\"><img src=\"../../../../../numbers/addition/__pv_it/common/4b7effaab3619a1c2c38fe2dee8601df8ec714590/expr.png\" style=\"display:inline;vertical-align:middle;\" /></a></td></tr>\n",
       "<tr><td>12</td><td>ExprTuple</td><td>14, 15</td><td><a class=\"ProveItLink\" href=\"../a200551f4820663a7b442b975c3bb16e37221d460/expr.ipynb\"><img src=\"../a200551f4820663a7b442b975c3bb16e37221d460/expr.png\" style=\"display:inline;vertical-align:middle;\" /></a></td></tr>\n",
       "<tr><td>13</td><td>Variable</td><td></td><td><a class=\"ProveItLink\" href=\"../../../../../__pv_it/common/1ed21df18baca2f42b561a7ffbf30a2743d594650/expr.ipynb\"><img src=\"../../../../../__pv_it/common/1ed21df18baca2f42b561a7ffbf30a2743d594650/expr.png\" style=\"display:inline;vertical-align:middle;\" /></a></td></tr>\n",
       "<tr><td>14</td><td>Variable</td><td></td><td><a class=\"ProveItLink\" href=\"../../../../../__pv_it/common/ae955345c83abf786c3aff8681cd5465beae262d0/expr.ipynb\"><img src=\"../../../../../__pv_it/common/ae955345c83abf786c3aff8681cd5465beae262d0/expr.png\" style=\"display:inline;vertical-align:middle;\" /></a></td></tr>\n",
       "<tr><td>15</td><td>Operation</td><td>operator:&nbsp;16<br>operand:&nbsp;18<br></td><td><a class=\"ProveItLink\" href=\"../../../../__pv_it/common/bf4beda21975fe8a0a5007615b5bcc943da59bb20/expr.ipynb\"><img src=\"../../../../__pv_it/common/bf4beda21975fe8a0a5007615b5bcc943da59bb20/expr.png\" style=\"display:inline;vertical-align:middle;\" /></a></td></tr>\n",
       "<tr><td>16</td><td>Literal</td><td></td><td><a class=\"ProveItLink\" href=\"../../../../../numbers/negation/__pv_it/common/221b3c4d1770ee9051b7c044c3f9ec61196fc34b0/expr.ipynb\"><img src=\"../../../../../numbers/negation/__pv_it/common/221b3c4d1770ee9051b7c044c3f9ec61196fc34b0/expr.png\" style=\"display:inline;vertical-align:middle;\" /></a></td></tr>\n",
       "<tr><td>17</td><td>ExprTuple</td><td>18</td><td><a class=\"ProveItLink\" href=\"../../../../__pv_it/common/b9e4f0dffece176bbe2f36127440684a20e0468e0/expr.ipynb\"><img src=\"../../../../__pv_it/common/b9e4f0dffece176bbe2f36127440684a20e0468e0/expr.png\" style=\"display:inline;vertical-align:middle;\" /></a></td></tr>\n",
       "<tr><td>18</td><td>Literal</td><td></td><td><a class=\"ProveItLink\" href=\"../../../../../numbers/numerals/__pv_it/common/682157d4892d216d9e5626ed533aff9b56b9506e0/expr.ipynb\"><img src=\"../../../../../numbers/numerals/__pv_it/common/682157d4892d216d9e5626ed533aff9b56b9506e0/expr.png\" style=\"display:inline;vertical-align:middle;\" /></a></td></tr>\n",
       "</table>\n"
      ],
      "text/plain": [
       "0. (0, ((j - 1) + 1) - (i - 1))\n",
       "   core type: ExprTuple\n",
       "   sub-expressions: 1, 2\n",
       "1. 0\n",
       "   core type: Literal\n",
       "   sub-expressions: \n",
       "2. ((j - 1) + 1) - (i - 1)\n",
       "   core type: Operation\n",
       "   operator: 11\n",
       "   operands: 3\n",
       "3. ((j - 1) + 1, -(i - 1))\n",
       "   core type: ExprTuple\n",
       "   sub-expressions: 4, 5\n",
       "4. (j - 1) + 1\n",
       "   core type: Operation\n",
       "   operator: 11\n",
       "   operands: 6\n",
       "5. -(i - 1)\n",
       "   core type: Operation\n",
       "   operator: 16\n",
       "   operand: 9\n",
       "6. (j - 1, 1)\n",
       "   core type: ExprTuple\n",
       "   sub-expressions: 8, 18\n",
       "7. (i - 1)\n",
       "   core type: ExprTuple\n",
       "   sub-expressions: 9\n",
       "8. j - 1\n",
       "   core type: Operation\n",
       "   operator: 11\n",
       "   operands: 10\n",
       "9. i - 1\n",
       "   core type: Operation\n",
       "   operator: 11\n",
       "   operands: 12\n",
       "10. (j, -1)\n",
       "    core type: ExprTuple\n",
       "    sub-expressions: 13, 15\n",
       "11. +\n",
       "    core type: Literal\n",
       "    sub-expressions: \n",
       "12. (i, -1)\n",
       "    core type: ExprTuple\n",
       "    sub-expressions: 14, 15\n",
       "13. j\n",
       "    core type: Variable\n",
       "    sub-expressions: \n",
       "14. i\n",
       "    core type: Variable\n",
       "    sub-expressions: \n",
       "15. -1\n",
       "    core type: Operation\n",
       "    operator: 16\n",
       "    operand: 18\n",
       "16. -\n",
       "    core type: Literal\n",
       "    sub-expressions: \n",
       "17. (1)\n",
       "    core type: ExprTuple\n",
       "    sub-expressions: 18\n",
       "18. 1\n",
       "    core type: Literal\n",
       "    sub-expressions: "
      ]
     },
     "metadata": {},
     "output_type": "display_data"
    }
   ],
   "source": [
    "# display the expression information\n",
    "stored_expr.expr_info()"
   ]
  },
  {
   "cell_type": "code",
   "execution_count": null,
   "metadata": {},
   "outputs": [],
   "source": []
  }
 ],
 "metadata": {
  "kernelspec": {
   "display_name": "Python 3",
   "language": "python",
   "name": "python3"
  }
 },
 "nbformat": 4,
 "nbformat_minor": 0
}