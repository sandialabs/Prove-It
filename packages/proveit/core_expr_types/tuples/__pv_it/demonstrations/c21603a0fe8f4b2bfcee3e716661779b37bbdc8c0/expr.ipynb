{
 "cells": [
  {
   "cell_type": "markdown",
   "metadata": {},
   "source": [
    "Expression of type <a class=\"ProveItLink\" href=\"../../../../../../../doc/html/api/proveit.ExprTuple.html\">ExprTuple</a>\n",
    "=======================\n",
    "# from the theory of <a class=\"ProveItLink\" href=\"../../../_theory_nbs_/theory.ipynb\">proveit.core_expr_types.tuples</a>"
   ]
  },
  {
   "cell_type": "code",
   "execution_count": 1,
   "metadata": {},
   "outputs": [],
   "source": [
    "import proveit\n",
    "# Automation is not needed when building an expression:\n",
    "proveit.defaults.automation = False # This will speed things up.\n",
    "proveit.defaults.inline_pngs = False # Makes files smaller.\n",
    "%load_expr # Load the stored expression as 'stored_expr'\n",
    "# import Expression classes needed to build the expression\n",
    "from proveit import ExprRange, ExprTuple, Variable, i, j, k\n",
    "from proveit.numbers import Add, Exp, e, four, one, three, two"
   ]
  },
  {
   "cell_type": "code",
   "execution_count": 2,
   "metadata": {},
   "outputs": [
    {
     "data": {
      "text/html": [
       "<strong id=\"expr\">expr:</strong> <a class=\"ProveItLink\" href=\"expr.ipynb\"><img src=\"expr.png\" style=\"display:inline;vertical-align:middle;\" /></a><br>"
      ],
      "text/plain": [
       "<IPython.core.display.HTML object>"
      ]
     },
     "metadata": {},
     "output_type": "display_data"
    }
   ],
   "source": [
    "# build up the expression from sub-expressions\n",
    "sub_expr1 = Variable(\"_a\", latex_format = r\"{_{-}a}\")\n",
    "expr = ExprTuple([ExprRange(sub_expr1, Exp(e, Add(sub_expr1, j)), i, k)], [Exp(e, Add(i, j)), Exp(e, Add(Add(i, one), j)), Exp(e, Add(Add(i, two), j)), Exp(e, Add(Add(i, three), j)), Exp(e, Add(Add(i, four), j))])"
   ]
  },
  {
   "cell_type": "code",
   "execution_count": 3,
   "metadata": {},
   "outputs": [
    {
     "name": "stdout",
     "output_type": "stream",
     "text": [
      "Passed sanity check: expr matches stored_expr\n"
     ]
    }
   ],
   "source": [
    "# check that the built expression is the same as the stored expression\n",
    "assert expr == stored_expr\n",
    "assert expr._style_id == stored_expr._style_id\n",
    "print(\"Passed sanity check: expr matches stored_expr\")"
   ]
  },
  {
   "cell_type": "code",
   "execution_count": 4,
   "metadata": {},
   "outputs": [
    {
     "name": "stdout",
     "output_type": "stream",
     "text": [
      "\\left(\\left(\\mathsf{e}^{i + j}, \\mathsf{e}^{\\left(i + 1\\right) + j}, \\ldots, \\mathsf{e}^{k + j}\\right), \\left(\\mathsf{e}^{i + j}, \\mathsf{e}^{\\left(i + 1\\right) + j}, \\mathsf{e}^{\\left(i + 2\\right) + j}, \\mathsf{e}^{\\left(i + 3\\right) + j}, \\mathsf{e}^{\\left(i + 4\\right) + j}\\right)\\right)\n"
     ]
    }
   ],
   "source": [
    "# Show the LaTeX representation of the expression for convenience if you need it.\n",
    "print(stored_expr.latex())"
   ]
  },
  {
   "cell_type": "code",
   "execution_count": 5,
   "metadata": {},
   "outputs": [
    {
     "data": {
      "text/html": [
       "<table>\n",
       "<tr><th>name</th><th>description</th><th>default</th><th>current value</th><th>related methods</th></tr><tr><td>wrap_positions</td><td>position(s) at which wrapping is to occur; 'n' is after the nth comma.</td><td>()</td><td>()</td><td>('with_wrapping_at',)</td></tr>\n",
       "<tr><td>justification</td><td>if any wrap positions are set, justify to the 'left', 'center', or 'right'</td><td>left</td><td>left</td><td>('with_justification',)</td></tr>\n",
       "</table>\n"
      ],
      "text/plain": [
       "style name: wrap_positions\n",
       "description: position(s) at which wrapping is to occur; 'n' is after the nth comma.\n",
       "default: ()\n",
       "current value: ()\n",
       "related methods: ('with_wrapping_at',)\n",
       "style name: justification\n",
       "description: if any wrap positions are set, justify to the 'left', 'center', or 'right'\n",
       "default: left\n",
       "current value: left\n",
       "related methods: ('with_justification',)"
      ]
     },
     "metadata": {},
     "output_type": "display_data"
    }
   ],
   "source": [
    "stored_expr.style_options()"
   ]
  },
  {
   "cell_type": "code",
   "execution_count": 6,
   "metadata": {},
   "outputs": [
    {
     "data": {
      "text/html": [
       "<table><tr><th>&nbsp;</th><th>core type</th><th>sub-expressions</th><th>expression</th></tr>\n",
       "<tr><td>0</td><td>ExprTuple</td><td>1, 2</td><td><a class=\"ProveItLink\" href=\"expr.ipynb\"><img src=\"expr.png\" style=\"display:inline;vertical-align:middle;\" /></a></td></tr>\n",
       "<tr><td>1</td><td>ExprTuple</td><td>3</td><td><a class=\"ProveItLink\" href=\"../48b98817df24fccaadbe3f41e131bbbdde4ab2f00/expr.ipynb\"><img src=\"../48b98817df24fccaadbe3f41e131bbbdde4ab2f00/expr.png\" style=\"display:inline;vertical-align:middle;\" /></a></td></tr>\n",
       "<tr><td>2</td><td>ExprTuple</td><td>4, 5, 6, 7, 8</td><td><a class=\"ProveItLink\" href=\"../47f988a59d6fb2fc839b96ca79ee49bdf0a5687a0/expr.ipynb\"><img src=\"../47f988a59d6fb2fc839b96ca79ee49bdf0a5687a0/expr.png\" style=\"display:inline;vertical-align:middle;\" /></a></td></tr>\n",
       "<tr><td>3</td><td>ExprRange</td><td>lambda_map:&nbsp;9<br>start_index:&nbsp;47<br>end_index:&nbsp;10<br></td><td><a class=\"ProveItLink\" href=\"../a8d1b8f45304e1e24f355b8d0d276ad791fd48dc0/expr.ipynb\"><img src=\"../a8d1b8f45304e1e24f355b8d0d276ad791fd48dc0/expr.png\" style=\"display:inline;vertical-align:middle;\" /></a></td></tr>\n",
       "<tr><td>4</td><td>Operation</td><td>operator:&nbsp;23<br>operands:&nbsp;11<br></td><td><a class=\"ProveItLink\" href=\"../c0c4a933d3a91bdb1545a898acb6e8048342b1ae0/expr.ipynb\"><img src=\"../c0c4a933d3a91bdb1545a898acb6e8048342b1ae0/expr.png\" style=\"display:inline;vertical-align:middle;\" /></a></td></tr>\n",
       "<tr><td>5</td><td>Operation</td><td>operator:&nbsp;23<br>operands:&nbsp;12<br></td><td><a class=\"ProveItLink\" href=\"../9d9bad8f2e7969cd7ea3e2d64e77c80d6c458fa50/expr.ipynb\"><img src=\"../9d9bad8f2e7969cd7ea3e2d64e77c80d6c458fa50/expr.png\" style=\"display:inline;vertical-align:middle;\" /></a></td></tr>\n",
       "<tr><td>6</td><td>Operation</td><td>operator:&nbsp;23<br>operands:&nbsp;13<br></td><td><a class=\"ProveItLink\" href=\"../9c3ca4ee4281403e586dd8ce83961f6e60784a340/expr.ipynb\"><img src=\"../9c3ca4ee4281403e586dd8ce83961f6e60784a340/expr.png\" style=\"display:inline;vertical-align:middle;\" /></a></td></tr>\n",
       "<tr><td>7</td><td>Operation</td><td>operator:&nbsp;23<br>operands:&nbsp;14<br></td><td><a class=\"ProveItLink\" href=\"../79854aa8549eb907e1dc5cf1e932d2fe0d2d45870/expr.ipynb\"><img src=\"../79854aa8549eb907e1dc5cf1e932d2fe0d2d45870/expr.png\" style=\"display:inline;vertical-align:middle;\" /></a></td></tr>\n",
       "<tr><td>8</td><td>Operation</td><td>operator:&nbsp;23<br>operands:&nbsp;15<br></td><td><a class=\"ProveItLink\" href=\"../9d4be231f44ed9e1dc880798aae4bb4825cf33990/expr.ipynb\"><img src=\"../9d4be231f44ed9e1dc880798aae4bb4825cf33990/expr.png\" style=\"display:inline;vertical-align:middle;\" /></a></td></tr>\n",
       "<tr><td>9</td><td>Lambda</td><td>parameter:&nbsp;42<br>body:&nbsp;17<br></td><td><a class=\"ProveItLink\" href=\"../4e909eb73e712bb191918598d6dddc097fc848690/expr.ipynb\"><img src=\"../4e909eb73e712bb191918598d6dddc097fc848690/expr.png\" style=\"display:inline;vertical-align:middle;\" /></a></td></tr>\n",
       "<tr><td>10</td><td>Variable</td><td></td><td><a class=\"ProveItLink\" href=\"../../../../../__pv_it/common/63b7c64bf9ec7a04ecc396c7a1670f3f12fb59490/expr.ipynb\"><img src=\"../../../../../__pv_it/common/63b7c64bf9ec7a04ecc396c7a1670f3f12fb59490/expr.png\" style=\"display:inline;vertical-align:middle;\" /></a></td></tr>\n",
       "<tr><td>11</td><td>ExprTuple</td><td>30, 18</td><td><a class=\"ProveItLink\" href=\"../2f4ad059968c84f228ce37774c40982ae9715bab0/expr.ipynb\"><img src=\"../2f4ad059968c84f228ce37774c40982ae9715bab0/expr.png\" style=\"display:inline;vertical-align:middle;\" /></a></td></tr>\n",
       "<tr><td>12</td><td>ExprTuple</td><td>30, 19</td><td><a class=\"ProveItLink\" href=\"../7d360dc785f5d746337141a50f2fa1c6d5a930310/expr.ipynb\"><img src=\"../7d360dc785f5d746337141a50f2fa1c6d5a930310/expr.png\" style=\"display:inline;vertical-align:middle;\" /></a></td></tr>\n",
       "<tr><td>13</td><td>ExprTuple</td><td>30, 20</td><td><a class=\"ProveItLink\" href=\"../c1d086bf18784ae489e01689eaacac0b9f263f3c0/expr.ipynb\"><img src=\"../c1d086bf18784ae489e01689eaacac0b9f263f3c0/expr.png\" style=\"display:inline;vertical-align:middle;\" /></a></td></tr>\n",
       "<tr><td>14</td><td>ExprTuple</td><td>30, 21</td><td><a class=\"ProveItLink\" href=\"../5706d51279382473acb1a042b301425af54e8f2e0/expr.ipynb\"><img src=\"../5706d51279382473acb1a042b301425af54e8f2e0/expr.png\" style=\"display:inline;vertical-align:middle;\" /></a></td></tr>\n",
       "<tr><td>15</td><td>ExprTuple</td><td>30, 22</td><td><a class=\"ProveItLink\" href=\"../43fcd9f17518691d347d7330918ea4cd9ae90ba30/expr.ipynb\"><img src=\"../43fcd9f17518691d347d7330918ea4cd9ae90ba30/expr.png\" style=\"display:inline;vertical-align:middle;\" /></a></td></tr>\n",
       "<tr><td>16</td><td>ExprTuple</td><td>42</td><td><a class=\"ProveItLink\" href=\"../../../../__pv_it/common/4b0dd6be36d76552eda6a95d5b4a27f5a5b62f900/expr.ipynb\"><img src=\"../../../../__pv_it/common/4b0dd6be36d76552eda6a95d5b4a27f5a5b62f900/expr.png\" style=\"display:inline;vertical-align:middle;\" /></a></td></tr>\n",
       "<tr><td>17</td><td>Operation</td><td>operator:&nbsp;23<br>operands:&nbsp;24<br></td><td><a class=\"ProveItLink\" href=\"../8cc2030ad5dd04029d56f2c448c58d464d85b6ba0/expr.ipynb\"><img src=\"../8cc2030ad5dd04029d56f2c448c58d464d85b6ba0/expr.png\" style=\"display:inline;vertical-align:middle;\" /></a></td></tr>\n",
       "<tr><td>18</td><td>Operation</td><td>operator:&nbsp;40<br>operands:&nbsp;25<br></td><td><a class=\"ProveItLink\" href=\"../a38e9f703dbd93f6015417d8ffc0a3700bdb01960/expr.ipynb\"><img src=\"../a38e9f703dbd93f6015417d8ffc0a3700bdb01960/expr.png\" style=\"display:inline;vertical-align:middle;\" /></a></td></tr>\n",
       "<tr><td>19</td><td>Operation</td><td>operator:&nbsp;40<br>operands:&nbsp;26<br></td><td><a class=\"ProveItLink\" href=\"../9567ae4e3de9000393ac0b97ced345da1cb3a9b80/expr.ipynb\"><img src=\"../9567ae4e3de9000393ac0b97ced345da1cb3a9b80/expr.png\" style=\"display:inline;vertical-align:middle;\" /></a></td></tr>\n",
       "<tr><td>20</td><td>Operation</td><td>operator:&nbsp;40<br>operands:&nbsp;27<br></td><td><a class=\"ProveItLink\" href=\"../256bd919ab3b7513cbd7373febfde893ad5463e20/expr.ipynb\"><img src=\"../256bd919ab3b7513cbd7373febfde893ad5463e20/expr.png\" style=\"display:inline;vertical-align:middle;\" /></a></td></tr>\n",
       "<tr><td>21</td><td>Operation</td><td>operator:&nbsp;40<br>operands:&nbsp;28<br></td><td><a class=\"ProveItLink\" href=\"../4b56177e893fe30152638b32d80afb22c797a5bf0/expr.ipynb\"><img src=\"../4b56177e893fe30152638b32d80afb22c797a5bf0/expr.png\" style=\"display:inline;vertical-align:middle;\" /></a></td></tr>\n",
       "<tr><td>22</td><td>Operation</td><td>operator:&nbsp;40<br>operands:&nbsp;29<br></td><td><a class=\"ProveItLink\" href=\"../70c156e2f9b8e2a667daa17e2c46738d71b696ca0/expr.ipynb\"><img src=\"../70c156e2f9b8e2a667daa17e2c46738d71b696ca0/expr.png\" style=\"display:inline;vertical-align:middle;\" /></a></td></tr>\n",
       "<tr><td>23</td><td>Literal</td><td></td><td><a class=\"ProveItLink\" href=\"../../../../../numbers/exponentiation/__pv_it/common/0ac37aca1e54c35c5cda09672df32d4f69f1f3020/expr.ipynb\"><img src=\"../../../../../numbers/exponentiation/__pv_it/common/0ac37aca1e54c35c5cda09672df32d4f69f1f3020/expr.png\" style=\"display:inline;vertical-align:middle;\" /></a></td></tr>\n",
       "<tr><td>24</td><td>ExprTuple</td><td>30, 31</td><td><a class=\"ProveItLink\" href=\"../7a8b76d60576449f2db18e9a6d11f0b1425a6f150/expr.ipynb\"><img src=\"../7a8b76d60576449f2db18e9a6d11f0b1425a6f150/expr.png\" style=\"display:inline;vertical-align:middle;\" /></a></td></tr>\n",
       "<tr><td>25</td><td>ExprTuple</td><td>47, 43</td><td><a class=\"ProveItLink\" href=\"../../axioms/fd5db4d3d282981293a7ef32c5ae50e0675f01460/expr.ipynb\"><img src=\"../../axioms/fd5db4d3d282981293a7ef32c5ae50e0675f01460/expr.png\" style=\"display:inline;vertical-align:middle;\" /></a></td></tr>\n",
       "<tr><td>26</td><td>ExprTuple</td><td>32, 43</td><td><a class=\"ProveItLink\" href=\"../96710240c99d5fd0bc0cc26c3e79409df93d26370/expr.ipynb\"><img src=\"../96710240c99d5fd0bc0cc26c3e79409df93d26370/expr.png\" style=\"display:inline;vertical-align:middle;\" /></a></td></tr>\n",
       "<tr><td>27</td><td>ExprTuple</td><td>33, 43</td><td><a class=\"ProveItLink\" href=\"../39fd6667d305f5f46216e96c7b526379473831100/expr.ipynb\"><img src=\"../39fd6667d305f5f46216e96c7b526379473831100/expr.png\" style=\"display:inline;vertical-align:middle;\" /></a></td></tr>\n",
       "<tr><td>28</td><td>ExprTuple</td><td>34, 43</td><td><a class=\"ProveItLink\" href=\"../d1fecc310184f61ad4a15fedbe604a7f6ea3d8520/expr.ipynb\"><img src=\"../d1fecc310184f61ad4a15fedbe604a7f6ea3d8520/expr.png\" style=\"display:inline;vertical-align:middle;\" /></a></td></tr>\n",
       "<tr><td>29</td><td>ExprTuple</td><td>35, 43</td><td><a class=\"ProveItLink\" href=\"../903f7c930955bf06c1e049db4f4ddcb70bbdaa380/expr.ipynb\"><img src=\"../903f7c930955bf06c1e049db4f4ddcb70bbdaa380/expr.png\" style=\"display:inline;vertical-align:middle;\" /></a></td></tr>\n",
       "<tr><td>30</td><td>Literal</td><td></td><td><a class=\"ProveItLink\" href=\"../../../../../numbers/number_sets/real_numbers/__pv_it/common/e531ffa54fd897084533764a4a14f19f590674f80/expr.ipynb\"><img src=\"../../../../../numbers/number_sets/real_numbers/__pv_it/common/e531ffa54fd897084533764a4a14f19f590674f80/expr.png\" style=\"display:inline;vertical-align:middle;\" /></a></td></tr>\n",
       "<tr><td>31</td><td>Operation</td><td>operator:&nbsp;40<br>operands:&nbsp;36<br></td><td><a class=\"ProveItLink\" href=\"../d351ebbc5597a94ba8c6800655f55aed7bd36c340/expr.ipynb\"><img src=\"../d351ebbc5597a94ba8c6800655f55aed7bd36c340/expr.png\" style=\"display:inline;vertical-align:middle;\" /></a></td></tr>\n",
       "<tr><td>32</td><td>Operation</td><td>operator:&nbsp;40<br>operands:&nbsp;37<br></td><td><a class=\"ProveItLink\" href=\"../../../../__pv_it/common/a2e143af123f66da09e0988b76b1d4e48661786c0/expr.ipynb\"><img src=\"../../../../__pv_it/common/a2e143af123f66da09e0988b76b1d4e48661786c0/expr.png\" style=\"display:inline;vertical-align:middle;\" /></a></td></tr>\n",
       "<tr><td>33</td><td>Operation</td><td>operator:&nbsp;40<br>operands:&nbsp;38<br></td><td><a class=\"ProveItLink\" href=\"../../../../../numbers/numerals/decimals/__pv_it/theorems/24128158ac3bbc68b8ee4a75afd24ed2fce98d980/expr.ipynb\"><img src=\"../../../../../numbers/numerals/decimals/__pv_it/theorems/24128158ac3bbc68b8ee4a75afd24ed2fce98d980/expr.png\" style=\"display:inline;vertical-align:middle;\" /></a></td></tr>\n",
       "<tr><td>34</td><td>Operation</td><td>operator:&nbsp;40<br>operands:&nbsp;39<br></td><td><a class=\"ProveItLink\" href=\"../../../../../numbers/numerals/decimals/__pv_it/theorems/f508bd27b327306788d2dd9f530f11d70c41254e0/expr.ipynb\"><img src=\"../../../../../numbers/numerals/decimals/__pv_it/theorems/f508bd27b327306788d2dd9f530f11d70c41254e0/expr.png\" style=\"display:inline;vertical-align:middle;\" /></a></td></tr>\n",
       "<tr><td>35</td><td>Operation</td><td>operator:&nbsp;40<br>operands:&nbsp;41<br></td><td><a class=\"ProveItLink\" href=\"../../../../../numbers/numerals/decimals/__pv_it/theorems/a80dfd517f887dc5f9b93bd60a7e3f6c0ed2eec00/expr.ipynb\"><img src=\"../../../../../numbers/numerals/decimals/__pv_it/theorems/a80dfd517f887dc5f9b93bd60a7e3f6c0ed2eec00/expr.png\" style=\"display:inline;vertical-align:middle;\" /></a></td></tr>\n",
       "<tr><td>36</td><td>ExprTuple</td><td>42, 43</td><td><a class=\"ProveItLink\" href=\"../43f52d43712173fb2f7c0316ae07321c966bea3b0/expr.ipynb\"><img src=\"../43f52d43712173fb2f7c0316ae07321c966bea3b0/expr.png\" style=\"display:inline;vertical-align:middle;\" /></a></td></tr>\n",
       "<tr><td>37</td><td>ExprTuple</td><td>47, 44</td><td><a class=\"ProveItLink\" href=\"../../../../__pv_it/common/c89850952f9608f21aa2408d82ba7769fea41e400/expr.ipynb\"><img src=\"../../../../__pv_it/common/c89850952f9608f21aa2408d82ba7769fea41e400/expr.png\" style=\"display:inline;vertical-align:middle;\" /></a></td></tr>\n",
       "<tr><td>38</td><td>ExprTuple</td><td>47, 45</td><td><a class=\"ProveItLink\" href=\"../../../../../numbers/numerals/decimals/__pv_it/theorems/f6b83eb3317523dc13986de5fc52ed67a403af7b0/expr.ipynb\"><img src=\"../../../../../numbers/numerals/decimals/__pv_it/theorems/f6b83eb3317523dc13986de5fc52ed67a403af7b0/expr.png\" style=\"display:inline;vertical-align:middle;\" /></a></td></tr>\n",
       "<tr><td>39</td><td>ExprTuple</td><td>47, 46</td><td><a class=\"ProveItLink\" href=\"../../../../../numbers/numerals/decimals/__pv_it/theorems/1b239d03320e6b55a7f4745615ee61682a92a62e0/expr.ipynb\"><img src=\"../../../../../numbers/numerals/decimals/__pv_it/theorems/1b239d03320e6b55a7f4745615ee61682a92a62e0/expr.png\" style=\"display:inline;vertical-align:middle;\" /></a></td></tr>\n",
       "<tr><td>40</td><td>Literal</td><td></td><td><a class=\"ProveItLink\" href=\"../../../../../numbers/addition/__pv_it/common/4b7effaab3619a1c2c38fe2dee8601df8ec714590/expr.ipynb\"><img src=\"../../../../../numbers/addition/__pv_it/common/4b7effaab3619a1c2c38fe2dee8601df8ec714590/expr.png\" style=\"display:inline;vertical-align:middle;\" /></a></td></tr>\n",
       "<tr><td>41</td><td>ExprTuple</td><td>47, 48</td><td><a class=\"ProveItLink\" href=\"../../../../../numbers/numerals/decimals/__pv_it/theorems/afafc58f7f5d15038c45c8851b78cd323938625d0/expr.ipynb\"><img src=\"../../../../../numbers/numerals/decimals/__pv_it/theorems/afafc58f7f5d15038c45c8851b78cd323938625d0/expr.png\" style=\"display:inline;vertical-align:middle;\" /></a></td></tr>\n",
       "<tr><td>42</td><td>Variable</td><td></td><td><a class=\"ProveItLink\" href=\"../../../../__pv_it/common/006c465e50948aa2b52285e2de47974f741255cc0/expr.ipynb\"><img src=\"../../../../__pv_it/common/006c465e50948aa2b52285e2de47974f741255cc0/expr.png\" style=\"display:inline;vertical-align:middle;\" /></a></td></tr>\n",
       "<tr><td>43</td><td>Variable</td><td></td><td><a class=\"ProveItLink\" href=\"../../../../../__pv_it/common/1ed21df18baca2f42b561a7ffbf30a2743d594650/expr.ipynb\"><img src=\"../../../../../__pv_it/common/1ed21df18baca2f42b561a7ffbf30a2743d594650/expr.png\" style=\"display:inline;vertical-align:middle;\" /></a></td></tr>\n",
       "<tr><td>44</td><td>Literal</td><td></td><td><a class=\"ProveItLink\" href=\"../../../../../numbers/numerals/__pv_it/common/682157d4892d216d9e5626ed533aff9b56b9506e0/expr.ipynb\"><img src=\"../../../../../numbers/numerals/__pv_it/common/682157d4892d216d9e5626ed533aff9b56b9506e0/expr.png\" style=\"display:inline;vertical-align:middle;\" /></a></td></tr>\n",
       "<tr><td>45</td><td>Literal</td><td></td><td><a class=\"ProveItLink\" href=\"../../../../../numbers/numerals/__pv_it/common/af4aab8a07465db063742696e006d04670f30cf10/expr.ipynb\"><img src=\"../../../../../numbers/numerals/__pv_it/common/af4aab8a07465db063742696e006d04670f30cf10/expr.png\" style=\"display:inline;vertical-align:middle;\" /></a></td></tr>\n",
       "<tr><td>46</td><td>Literal</td><td></td><td><a class=\"ProveItLink\" href=\"../../../../../numbers/numerals/__pv_it/common/1943b60945420e340d305780feff5c1aff2740ff0/expr.ipynb\"><img src=\"../../../../../numbers/numerals/__pv_it/common/1943b60945420e340d305780feff5c1aff2740ff0/expr.png\" style=\"display:inline;vertical-align:middle;\" /></a></td></tr>\n",
       "<tr><td>47</td><td>Variable</td><td></td><td><a class=\"ProveItLink\" href=\"../../../../../__pv_it/common/ae955345c83abf786c3aff8681cd5465beae262d0/expr.ipynb\"><img src=\"../../../../../__pv_it/common/ae955345c83abf786c3aff8681cd5465beae262d0/expr.png\" style=\"display:inline;vertical-align:middle;\" /></a></td></tr>\n",
       "<tr><td>48</td><td>Literal</td><td></td><td><a class=\"ProveItLink\" href=\"../../../../../numbers/numerals/__pv_it/common/48a1d915c1e9490b9a94e5c77a208938d3ee20ce0/expr.ipynb\"><img src=\"../../../../../numbers/numerals/__pv_it/common/48a1d915c1e9490b9a94e5c77a208938d3ee20ce0/expr.png\" style=\"display:inline;vertical-align:middle;\" /></a></td></tr>\n",
       "</table>\n"
      ],
      "text/plain": [
       "0. ((e^{i + j}, e^{(i + 1) + j}, ..., e^{k + j}), (e^{i + j}, e^{(i + 1) + j}, e^{(i + 2) + j}, e^{(i + 3) + j}, e^{(i + 4) + j}))\n",
       "   core type: ExprTuple\n",
       "   sub-expressions: 1, 2\n",
       "1. (e^{i + j}, e^{(i + 1) + j}, ..., e^{k + j})\n",
       "   core type: ExprTuple\n",
       "   sub-expressions: 3\n",
       "2. (e^{i + j}, e^{(i + 1) + j}, e^{(i + 2) + j}, e^{(i + 3) + j}, e^{(i + 4) + j})\n",
       "   core type: ExprTuple\n",
       "   sub-expressions: 4, 5, 6, 7, 8\n",
       "3. e^{i + j}, e^{(i + 1) + j}, ..., e^{k + j}\n",
       "   core type: ExprRange\n",
       "   lambda_map: 9\n",
       "   start_index: 47\n",
       "   end_index: 10\n",
       "4. e^{i + j}\n",
       "   core type: Operation\n",
       "   operator: 23\n",
       "   operands: 11\n",
       "5. e^{(i + 1) + j}\n",
       "   core type: Operation\n",
       "   operator: 23\n",
       "   operands: 12\n",
       "6. e^{(i + 2) + j}\n",
       "   core type: Operation\n",
       "   operator: 23\n",
       "   operands: 13\n",
       "7. e^{(i + 3) + j}\n",
       "   core type: Operation\n",
       "   operator: 23\n",
       "   operands: 14\n",
       "8. e^{(i + 4) + j}\n",
       "   core type: Operation\n",
       "   operator: 23\n",
       "   operands: 15\n",
       "9. _a -> e^{_a + j}\n",
       "   core type: Lambda\n",
       "   parameter: 42\n",
       "   body: 17\n",
       "10. k\n",
       "    core type: Variable\n",
       "    sub-expressions: \n",
       "11. (e, i + j)\n",
       "    core type: ExprTuple\n",
       "    sub-expressions: 30, 18\n",
       "12. (e, (i + 1) + j)\n",
       "    core type: ExprTuple\n",
       "    sub-expressions: 30, 19\n",
       "13. (e, (i + 2) + j)\n",
       "    core type: ExprTuple\n",
       "    sub-expressions: 30, 20\n",
       "14. (e, (i + 3) + j)\n",
       "    core type: ExprTuple\n",
       "    sub-expressions: 30, 21\n",
       "15. (e, (i + 4) + j)\n",
       "    core type: ExprTuple\n",
       "    sub-expressions: 30, 22\n",
       "16. (_a)\n",
       "    core type: ExprTuple\n",
       "    sub-expressions: 42\n",
       "17. e^{_a + j}\n",
       "    core type: Operation\n",
       "    operator: 23\n",
       "    operands: 24\n",
       "18. i + j\n",
       "    core type: Operation\n",
       "    operator: 40\n",
       "    operands: 25\n",
       "19. (i + 1) + j\n",
       "    core type: Operation\n",
       "    operator: 40\n",
       "    operands: 26\n",
       "20. (i + 2) + j\n",
       "    core type: Operation\n",
       "    operator: 40\n",
       "    operands: 27\n",
       "21. (i + 3) + j\n",
       "    core type: Operation\n",
       "    operator: 40\n",
       "    operands: 28\n",
       "22. (i + 4) + j\n",
       "    core type: Operation\n",
       "    operator: 40\n",
       "    operands: 29\n",
       "23. Exp\n",
       "    core type: Literal\n",
       "    sub-expressions: \n",
       "24. (e, _a + j)\n",
       "    core type: ExprTuple\n",
       "    sub-expressions: 30, 31\n",
       "25. (i, j)\n",
       "    core type: ExprTuple\n",
       "    sub-expressions: 47, 43\n",
       "26. (i + 1, j)\n",
       "    core type: ExprTuple\n",
       "    sub-expressions: 32, 43\n",
       "27. (i + 2, j)\n",
       "    core type: ExprTuple\n",
       "    sub-expressions: 33, 43\n",
       "28. (i + 3, j)\n",
       "    core type: ExprTuple\n",
       "    sub-expressions: 34, 43\n",
       "29. (i + 4, j)\n",
       "    core type: ExprTuple\n",
       "    sub-expressions: 35, 43\n",
       "30. e\n",
       "    core type: Literal\n",
       "    sub-expressions: \n",
       "31. _a + j\n",
       "    core type: Operation\n",
       "    operator: 40\n",
       "    operands: 36\n",
       "32. i + 1\n",
       "    core type: Operation\n",
       "    operator: 40\n",
       "    operands: 37\n",
       "33. i + 2\n",
       "    core type: Operation\n",
       "    operator: 40\n",
       "    operands: 38\n",
       "34. i + 3\n",
       "    core type: Operation\n",
       "    operator: 40\n",
       "    operands: 39\n",
       "35. i + 4\n",
       "    core type: Operation\n",
       "    operator: 40\n",
       "    operands: 41\n",
       "36. (_a, j)\n",
       "    core type: ExprTuple\n",
       "    sub-expressions: 42, 43\n",
       "37. (i, 1)\n",
       "    core type: ExprTuple\n",
       "    sub-expressions: 47, 44\n",
       "38. (i, 2)\n",
       "    core type: ExprTuple\n",
       "    sub-expressions: 47, 45\n",
       "39. (i, 3)\n",
       "    core type: ExprTuple\n",
       "    sub-expressions: 47, 46\n",
       "40. +\n",
       "    core type: Literal\n",
       "    sub-expressions: \n",
       "41. (i, 4)\n",
       "    core type: ExprTuple\n",
       "    sub-expressions: 47, 48\n",
       "42. _a\n",
       "    core type: Variable\n",
       "    sub-expressions: \n",
       "43. j\n",
       "    core type: Variable\n",
       "    sub-expressions: \n",
       "44. 1\n",
       "    core type: Literal\n",
       "    sub-expressions: \n",
       "45. 2\n",
       "    core type: Literal\n",
       "    sub-expressions: \n",
       "46. 3\n",
       "    core type: Literal\n",
       "    sub-expressions: \n",
       "47. i\n",
       "    core type: Variable\n",
       "    sub-expressions: \n",
       "48. 4\n",
       "    core type: Literal\n",
       "    sub-expressions: "
      ]
     },
     "metadata": {},
     "output_type": "display_data"
    }
   ],
   "source": [
    "# display the expression information\n",
    "stored_expr.expr_info()"
   ]
  },
  {
   "cell_type": "code",
   "execution_count": null,
   "metadata": {},
   "outputs": [],
   "source": []
  }
 ],
 "metadata": {
  "kernelspec": {
   "display_name": "Python 3",
   "language": "python",
   "name": "python3"
  }
 },
 "nbformat": 4,
 "nbformat_minor": 0
}