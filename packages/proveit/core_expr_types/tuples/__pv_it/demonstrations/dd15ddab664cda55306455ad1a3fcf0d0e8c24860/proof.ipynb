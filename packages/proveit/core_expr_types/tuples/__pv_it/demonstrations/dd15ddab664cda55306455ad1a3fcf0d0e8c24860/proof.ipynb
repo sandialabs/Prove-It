{
 "cells": [
  {
   "cell_type": "markdown",
   "metadata": {},
   "source": [
    "Show the Proof\n",
    "========"
   ]
  },
  {
   "cell_type": "code",
   "execution_count": 1,
   "metadata": {},
   "outputs": [
    {
     "data": {
      "text/html": [
       "<table><tr><th>&nbsp;</th><th>step type</th><th>requirements</th><th>statement</th></tr>\n",
       "<tr><td><a name=\"proveit.core_expr_types.tuples.demonstrations.dd15ddab664cda55306455ad1a3fcf0d0e8c24860_step0\">0</a></td><td>instantiation</td><td><a href=\"#proveit.core_expr_types.tuples.demonstrations.dd15ddab664cda55306455ad1a3fcf0d0e8c24860_step1\">1</a>, <a href=\"#proveit.core_expr_types.tuples.demonstrations.dd15ddab664cda55306455ad1a3fcf0d0e8c24860_step2\">2</a>, <a href=\"#proveit.core_expr_types.tuples.demonstrations.dd15ddab664cda55306455ad1a3fcf0d0e8c24860_step3\">3</a><sup>*</sup></td><td><span style=\"font-size:20px;\"> <a class=\"ProveItLink\" href=\"proof.ipynb\" style=\"text-decoration: none\">&nbsp;&#x22A2;&nbsp;&nbsp;</a><a class=\"ProveItLink\" href=\"../01fea8f109a457c0af7e9a8a0b6eb6117f707b170/expr.ipynb\"><img src=\"../01fea8f109a457c0af7e9a8a0b6eb6117f707b170/expr.png\" style=\"display:inline;vertical-align:middle;\" /></a></span></td></tr>\n",
       "<tr><td>&nbsp;</td><td colspan=4 style=\"text-align:left\"><span style=\"font-size:20px;\"><a class=\"ProveItLink\" href=\"../f9e4b0de67b8dd65d92d959756833b8a820d4c250/expr.ipynb\"><img src=\"../f9e4b0de67b8dd65d92d959756833b8a820d4c250/expr.png\" style=\"display:inline;vertical-align:middle;\" /></a> : <a class=\"ProveItLink\" href=\"../4476d43973b68421bb51c50d7c0c0a4b47d5d2b90/expr.ipynb\"><img src=\"../4476d43973b68421bb51c50d7c0c0a4b47d5d2b90/expr.png\" style=\"display:inline;vertical-align:middle;\" /></a>, <a class=\"ProveItLink\" href=\"../../../../../__pv_it/common/ae955345c83abf786c3aff8681cd5465beae262d0/expr.ipynb\"><img src=\"../../../../../__pv_it/common/ae955345c83abf786c3aff8681cd5465beae262d0/expr.png\" style=\"display:inline;vertical-align:middle;\" /></a> : <a class=\"ProveItLink\" href=\"../../../../../numbers/numerals/__pv_it/common/af4aab8a07465db063742696e006d04670f30cf10/expr.ipynb\"><img src=\"../../../../../numbers/numerals/__pv_it/common/af4aab8a07465db063742696e006d04670f30cf10/expr.png\" style=\"display:inline;vertical-align:middle;\" /></a>, <a class=\"ProveItLink\" href=\"../../../../../__pv_it/common/1ed21df18baca2f42b561a7ffbf30a2743d594650/expr.ipynb\"><img src=\"../../../../../__pv_it/common/1ed21df18baca2f42b561a7ffbf30a2743d594650/expr.png\" style=\"display:inline;vertical-align:middle;\" /></a> : <a class=\"ProveItLink\" href=\"../../../../../numbers/numerals/__pv_it/common/1943b60945420e340d305780feff5c1aff2740ff0/expr.ipynb\"><img src=\"../../../../../numbers/numerals/__pv_it/common/1943b60945420e340d305780feff5c1aff2740ff0/expr.png\" style=\"display:inline;vertical-align:middle;\" /></a></span></td></tr><tr><td><a name=\"proveit.core_expr_types.tuples.demonstrations.dd15ddab664cda55306455ad1a3fcf0d0e8c24860_step1\">1</a></td><td>theorem</td><td></td><td><span style=\"font-size:20px;\"> <a class=\"ProveItLink\" href=\"../../../../../numbers/numerals/decimals/_theory_nbs_/proofs/range_2_expansion/thm_proof.ipynb\" style=\"text-decoration: none\">&nbsp;&#x22A2;&nbsp;&nbsp;</a><a class=\"ProveItLink\" href=\"../../../../../numbers/numerals/decimals/__pv_it/theorems/c20f9ba7ebd6611050136ff71e1cf15d78ea8d410/expr.ipynb\"><img src=\"../../../../../numbers/numerals/decimals/__pv_it/theorems/c20f9ba7ebd6611050136ff71e1cf15d78ea8d410/expr.png\" style=\"display:inline;vertical-align:middle;\" /></a></span></td></tr>\n",
       "<tr><td>&nbsp;</td><td colspan=4 style-\"text-align:left\"><a class=\"ProveItLink\" href=\"../../../../../numbers/numerals/decimals/_theory_nbs_/proofs/range_2_expansion/thm_proof.ipynb\">proveit.numbers.numerals.decimals.range_2_expansion</a></td></tr><tr><td><a name=\"proveit.core_expr_types.tuples.demonstrations.dd15ddab664cda55306455ad1a3fcf0d0e8c24860_step2\">2</a></td><td>instantiation</td><td><a href=\"#proveit.core_expr_types.tuples.demonstrations.dd15ddab664cda55306455ad1a3fcf0d0e8c24860_step4\">4</a>, <a href=\"#proveit.core_expr_types.tuples.demonstrations.dd15ddab664cda55306455ad1a3fcf0d0e8c24860_step5\">5</a></td><td><span style=\"font-size:20px;\"> <a class=\"ProveItLink\" href=\"../60d50c23163e1e219da465f8f2438d47f1236b790/proof.ipynb\" style=\"text-decoration: none\">&nbsp;&#x22A2;&nbsp;&nbsp;</a><a class=\"ProveItLink\" href=\"../02beb40d902e136848b28c2288ec88c0ab249b780/expr.ipynb\"><img src=\"../02beb40d902e136848b28c2288ec88c0ab249b780/expr.png\" style=\"display:inline;vertical-align:middle;\" /></a></span></td></tr>\n",
       "<tr><td>&nbsp;</td><td colspan=4 style=\"text-align:left\"><span style=\"font-size:20px;\"><a class=\"ProveItLink\" href=\"../../../../../__pv_it/common/a0d9d672aa5e272d907247690c152cc2c6daafb70/expr.ipynb\"><img src=\"../../../../../__pv_it/common/a0d9d672aa5e272d907247690c152cc2c6daafb70/expr.png\" style=\"display:inline;vertical-align:middle;\" /></a> : <a class=\"ProveItLink\" href=\"../../../../../numbers/numerals/decimals/__pv_it/theorems/152baadcc425a7b5a35d5f04a3244bfb6e7e991f0/expr.ipynb\"><img src=\"../../../../../numbers/numerals/decimals/__pv_it/theorems/152baadcc425a7b5a35d5f04a3244bfb6e7e991f0/expr.png\" style=\"display:inline;vertical-align:middle;\" /></a>, <a class=\"ProveItLink\" href=\"../../../../../__pv_it/common/ff7dba4ef0bbe791ab573bf2d9c220a304399ac80/expr.ipynb\"><img src=\"../../../../../__pv_it/common/ff7dba4ef0bbe791ab573bf2d9c220a304399ac80/expr.png\" style=\"display:inline;vertical-align:middle;\" /></a> : <a class=\"ProveItLink\" href=\"../../../../../numbers/numerals/__pv_it/common/1943b60945420e340d305780feff5c1aff2740ff0/expr.ipynb\"><img src=\"../../../../../numbers/numerals/__pv_it/common/1943b60945420e340d305780feff5c1aff2740ff0/expr.png\" style=\"display:inline;vertical-align:middle;\" /></a></span></td></tr><tr><td><a name=\"proveit.core_expr_types.tuples.demonstrations.dd15ddab664cda55306455ad1a3fcf0d0e8c24860_step3\">3</a></td><td><i>reference</i></td><td><a href=\"#proveit.core_expr_types.tuples.demonstrations.dd15ddab664cda55306455ad1a3fcf0d0e8c24860_step5\">5</a></td><td><span style=\"font-size:20px;\"> <a class=\"ProveItLink\" href=\"../../../../../numbers/numerals/decimals/_theory_nbs_/proofs/add_2_1/thm_proof.ipynb\" style=\"text-decoration: none\">&nbsp;&#x22A2;&nbsp;&nbsp;</a><a class=\"ProveItLink\" href=\"../../../../../numbers/numerals/decimals/__pv_it/theorems/3cf257bc8770a5704f6e15f77739460894a274650/expr.ipynb\"><img src=\"../../../../../numbers/numerals/decimals/__pv_it/theorems/3cf257bc8770a5704f6e15f77739460894a274650/expr.png\" style=\"display:inline;vertical-align:middle;\" /></a></span></td></tr>\n",
       "<tr><td><a name=\"proveit.core_expr_types.tuples.demonstrations.dd15ddab664cda55306455ad1a3fcf0d0e8c24860_step4\">4</a></td><td>theorem</td><td></td><td><span style=\"font-size:20px;\"> <a class=\"ProveItLink\" href=\"../../../../../logic/equality/_theory_nbs_/proofs/equals_reversal/thm_proof.ipynb\" style=\"text-decoration: none\">&nbsp;&#x22A2;&nbsp;&nbsp;</a><a class=\"ProveItLink\" href=\"../../../../../logic/equality/__pv_it/theorems/6eaa0fec06de9345737f83f0a1ce382c3a3515530/expr.ipynb\"><img src=\"../../../../../logic/equality/__pv_it/theorems/6eaa0fec06de9345737f83f0a1ce382c3a3515530/expr.png\" style=\"display:inline;vertical-align:middle;\" /></a></span></td></tr>\n",
       "<tr><td>&nbsp;</td><td colspan=4 style-\"text-align:left\"><a class=\"ProveItLink\" href=\"../../../../../logic/equality/_theory_nbs_/proofs/equals_reversal/thm_proof.ipynb\">proveit.logic.equality.equals_reversal</a></td></tr><tr><td><a name=\"proveit.core_expr_types.tuples.demonstrations.dd15ddab664cda55306455ad1a3fcf0d0e8c24860_step5\">5</a></td><td>theorem</td><td></td><td><span style=\"font-size:20px;\"> <a class=\"ProveItLink\" href=\"../../../../../numbers/numerals/decimals/_theory_nbs_/proofs/add_2_1/thm_proof.ipynb\" style=\"text-decoration: none\">&nbsp;&#x22A2;&nbsp;&nbsp;</a><a class=\"ProveItLink\" href=\"../../../../../numbers/numerals/decimals/__pv_it/theorems/3cf257bc8770a5704f6e15f77739460894a274650/expr.ipynb\"><img src=\"../../../../../numbers/numerals/decimals/__pv_it/theorems/3cf257bc8770a5704f6e15f77739460894a274650/expr.png\" style=\"display:inline;vertical-align:middle;\" /></a></span></td></tr>\n",
       "<tr><td>&nbsp;</td><td colspan=4 style-\"text-align:left\"><a class=\"ProveItLink\" href=\"../../../../../numbers/numerals/decimals/_theory_nbs_/proofs/add_2_1/thm_proof.ipynb\">proveit.numbers.numerals.decimals.add_2_1</a></td></tr><tr><td colspan=4 style=\"text-align:left\"><sup>*</sup>equality replacement requirements</td></tr></table>"
      ],
      "text/plain": [
       "<proveit._core_.proof._ShowProof at 0x7f93142666d8>"
      ]
     },
     "execution_count": 1,
     "metadata": {},
     "output_type": "execute_result"
    }
   ],
   "source": [
    "import proveit\n",
    "# Automation is not needed when only showing a stored proof:\n",
    "proveit.defaults.automation = False # This will speed things up.\n",
    "proveit.defaults.inline_pngs = False # Makes files smaller.\n",
    "%show_proof"
   ]
  },
  {
   "cell_type": "code",
   "execution_count": null,
   "metadata": {},
   "outputs": [],
   "source": []
  }
 ],
 "metadata": {
  "kernelspec": {
   "display_name": "Python 3",
   "language": "python",
   "name": "python3"
  }
 },
 "nbformat": 4,
 "nbformat_minor": 0
}