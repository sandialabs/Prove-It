{
 "cells": [
  {
   "cell_type": "markdown",
   "metadata": {},
   "source": [
    "Expression of type <a class=\"ProveItLink\" href=\"../../../../../../../doc/html/api/proveit.ExprTuple.html\">ExprTuple</a>\n",
    "=======================\n",
    "# from the theory of <a class=\"ProveItLink\" href=\"../../../_theory_nbs_/theory.ipynb\">proveit.core_expr_types.tuples</a>"
   ]
  },
  {
   "cell_type": "code",
   "execution_count": 1,
   "metadata": {},
   "outputs": [],
   "source": [
    "import proveit\n",
    "# Automation is not needed when building an expression:\n",
    "proveit.defaults.automation = False # This will speed things up.\n",
    "proveit.defaults.inline_pngs = False # Makes files smaller.\n",
    "%load_expr # Load the stored expression as 'stored_expr'\n",
    "# import Expression classes needed to build the expression\n",
    "from proveit import Conditional, ExprTuple, Lambda, b, d, i\n",
    "from proveit.core_expr_types import a_1_to_i, c_1_to_i\n",
    "from proveit.logic import And, Equals, Forall, InSet\n",
    "from proveit.numbers import Natural"
   ]
  },
  {
   "cell_type": "code",
   "execution_count": 2,
   "metadata": {},
   "outputs": [
    {
     "data": {
      "text/html": [
       "<strong id=\"expr\">expr:</strong> <a class=\"ProveItLink\" href=\"expr.ipynb\"><img src=\"expr.png\" style=\"display:inline;vertical-align:middle;\" /></a><br>"
      ],
      "text/plain": [
       "<IPython.core.display.HTML object>"
      ]
     },
     "metadata": {},
     "output_type": "display_data"
    }
   ],
   "source": [
    "# build up the expression from sub-expressions\n",
    "expr = ExprTuple(Lambda(i, Conditional(Forall(instance_param_or_params = [a_1_to_i, b, c_1_to_i, d], instance_expr = Equals(Equals([a_1_to_i, b], [c_1_to_i, d]), And(Equals([a_1_to_i], [c_1_to_i]), Equals(b, d))).with_wrapping_at(2)), InSet(i, Natural))))"
   ]
  },
  {
   "cell_type": "code",
   "execution_count": 3,
   "metadata": {},
   "outputs": [
    {
     "name": "stdout",
     "output_type": "stream",
     "text": [
      "Passed sanity check: expr matches stored_expr\n"
     ]
    }
   ],
   "source": [
    "# check that the built expression is the same as the stored expression\n",
    "assert expr == stored_expr\n",
    "assert expr._style_id == stored_expr._style_id\n",
    "print(\"Passed sanity check: expr matches stored_expr\")"
   ]
  },
  {
   "cell_type": "code",
   "execution_count": 4,
   "metadata": {},
   "outputs": [
    {
     "name": "stdout",
     "output_type": "stream",
     "text": [
      "\\left(i \\mapsto \\left\\{\\forall_{a_{1}, a_{2}, \\ldots, a_{i}, b, c_{1}, c_{2}, \\ldots, c_{i}, d}~\\left(\\begin{array}{c} \\begin{array}{l} \\left(\\left(a_{1}, a_{2}, \\ldots, a_{i}, b\\right) = \\left(c_{1}, c_{2}, \\ldots, c_{i}, d\\right)\\right) =  \\\\ \\left(\\left(\\left(a_{1}, a_{2}, \\ldots, a_{i}\\right) = \\left(c_{1}, c_{2}, \\ldots, c_{i}\\right)\\right) \\land \\left(b = d\\right)\\right) \\end{array} \\end{array}\\right) \\textrm{ if } i \\in \\mathbb{N}\\right..\\right)\n"
     ]
    }
   ],
   "source": [
    "# Show the LaTeX representation of the expression for convenience if you need it.\n",
    "print(stored_expr.latex())"
   ]
  },
  {
   "cell_type": "code",
   "execution_count": 5,
   "metadata": {},
   "outputs": [
    {
     "data": {
      "text/html": [
       "no style options"
      ],
      "text/plain": [
       "no style options"
      ]
     },
     "metadata": {},
     "output_type": "display_data"
    }
   ],
   "source": [
    "stored_expr.style_options()"
   ]
  },
  {
   "cell_type": "code",
   "execution_count": 6,
   "metadata": {},
   "outputs": [
    {
     "data": {
      "text/html": [
       "<table><tr><th>&nbsp;</th><th>core type</th><th>sub-expressions</th><th>expression</th></tr>\n",
       "<tr><td>0</td><td>ExprTuple</td><td>1</td><td><a class=\"ProveItLink\" href=\"expr.ipynb\"><img src=\"expr.png\" style=\"display:inline;vertical-align:middle;\" /></a></td></tr>\n",
       "<tr><td>1</td><td>Lambda</td><td>parameter:&nbsp;36<br>body:&nbsp;3<br></td><td><a class=\"ProveItLink\" href=\"../918e0238d62f6109b5d6ccb5103fbddcdd70bb3d0/expr.ipynb\"><img src=\"../918e0238d62f6109b5d6ccb5103fbddcdd70bb3d0/expr.png\" style=\"display:inline;vertical-align:middle;\" /></a></td></tr>\n",
       "<tr><td>2</td><td>ExprTuple</td><td>36</td><td><a class=\"ProveItLink\" href=\"../../../../__pv_it/common/0fc33550aa9740010879fdf30c320b63ba918eff0/expr.ipynb\"><img src=\"../../../../__pv_it/common/0fc33550aa9740010879fdf30c320b63ba918eff0/expr.png\" style=\"display:inline;vertical-align:middle;\" /></a></td></tr>\n",
       "<tr><td>3</td><td>Conditional</td><td>value:&nbsp;4<br>condition:&nbsp;5<br></td><td><a class=\"ProveItLink\" href=\"../c3e51c071c3b10a605795885ab62e78e18f6a1330/expr.ipynb\"><img src=\"../c3e51c071c3b10a605795885ab62e78e18f6a1330/expr.png\" style=\"display:inline;vertical-align:middle;\" /></a></td></tr>\n",
       "<tr><td>4</td><td>Operation</td><td>operator:&nbsp;6<br>operand:&nbsp;10<br></td><td><a class=\"ProveItLink\" href=\"../7ce5c3f716b976d3c9513cd33715c3544cc690190/expr.ipynb\"><img src=\"../7ce5c3f716b976d3c9513cd33715c3544cc690190/expr.png\" style=\"display:inline;vertical-align:middle;\" /></a></td></tr>\n",
       "<tr><td>5</td><td>Operation</td><td>operator:&nbsp;8<br>operands:&nbsp;9<br></td><td><a class=\"ProveItLink\" href=\"../10cfe086dee5530e9b3b60486d89c6cb824c41920/expr.ipynb\"><img src=\"../10cfe086dee5530e9b3b60486d89c6cb824c41920/expr.png\" style=\"display:inline;vertical-align:middle;\" /></a></td></tr>\n",
       "<tr><td>6</td><td>Literal</td><td></td><td><a class=\"ProveItLink\" href=\"../../../../../logic/booleans/quantification/universality/__pv_it/common/083d2baa0b8ecab1d230f9ec29a15aa1355809fb0/expr.ipynb\"><img src=\"../../../../../logic/booleans/quantification/universality/__pv_it/common/083d2baa0b8ecab1d230f9ec29a15aa1355809fb0/expr.png\" style=\"display:inline;vertical-align:middle;\" /></a></td></tr>\n",
       "<tr><td>7</td><td>ExprTuple</td><td>10</td><td><a class=\"ProveItLink\" href=\"../f9ea4303bcdf749d522543c478f5a7509afcc9a60/expr.ipynb\"><img src=\"../f9ea4303bcdf749d522543c478f5a7509afcc9a60/expr.png\" style=\"display:inline;vertical-align:middle;\" /></a></td></tr>\n",
       "<tr><td>8</td><td>Literal</td><td></td><td><a class=\"ProveItLink\" href=\"../../../../../logic/sets/membership/__pv_it/common/477487d8796864d23d5810f83761435f25167f690/expr.ipynb\"><img src=\"../../../../../logic/sets/membership/__pv_it/common/477487d8796864d23d5810f83761435f25167f690/expr.png\" style=\"display:inline;vertical-align:middle;\" /></a></td></tr>\n",
       "<tr><td>9</td><td>ExprTuple</td><td>36, 11</td><td><a class=\"ProveItLink\" href=\"../1e0eb14b674d1cdf4a94a1df57c3bb998311774a0/expr.ipynb\"><img src=\"../1e0eb14b674d1cdf4a94a1df57c3bb998311774a0/expr.png\" style=\"display:inline;vertical-align:middle;\" /></a></td></tr>\n",
       "<tr><td>10</td><td>Lambda</td><td>parameters:&nbsp;12<br>body:&nbsp;13<br></td><td><a class=\"ProveItLink\" href=\"../3344ce745a0ac937cc9ffe86fea70b6fecb53b8e0/expr.ipynb\"><img src=\"../3344ce745a0ac937cc9ffe86fea70b6fecb53b8e0/expr.png\" style=\"display:inline;vertical-align:middle;\" /></a></td></tr>\n",
       "<tr><td>11</td><td>Literal</td><td></td><td><a class=\"ProveItLink\" href=\"../../../../../numbers/number_sets/natural_numbers/__pv_it/common/8b7c321957f52ed3b05b36af612eeae4fa4783bc0/expr.ipynb\"><img src=\"../../../../../numbers/number_sets/natural_numbers/__pv_it/common/8b7c321957f52ed3b05b36af612eeae4fa4783bc0/expr.png\" style=\"display:inline;vertical-align:middle;\" /></a></td></tr>\n",
       "<tr><td>12</td><td>ExprTuple</td><td>31, 29, 32, 30</td><td><a class=\"ProveItLink\" href=\"../f5a53a5d9272d71c64c80e87857a1bee75f7a5ab0/expr.ipynb\"><img src=\"../f5a53a5d9272d71c64c80e87857a1bee75f7a5ab0/expr.png\" style=\"display:inline;vertical-align:middle;\" /></a></td></tr>\n",
       "<tr><td>13</td><td>Operation</td><td>operator:&nbsp;25<br>operands:&nbsp;14<br></td><td><a class=\"ProveItLink\" href=\"../7064529598a210dfba1de08dd5c80acba1192fce0/expr.ipynb\"><img src=\"../7064529598a210dfba1de08dd5c80acba1192fce0/expr.png\" style=\"display:inline;vertical-align:middle;\" /></a></td></tr>\n",
       "<tr><td>14</td><td>ExprTuple</td><td>15, 16</td><td><a class=\"ProveItLink\" href=\"../960089df98c28bbf459b1b989a96f9d2b408bcbb0/expr.ipynb\"><img src=\"../960089df98c28bbf459b1b989a96f9d2b408bcbb0/expr.png\" style=\"display:inline;vertical-align:middle;\" /></a></td></tr>\n",
       "<tr><td>15</td><td>Operation</td><td>operator:&nbsp;25<br>operands:&nbsp;17<br></td><td><a class=\"ProveItLink\" href=\"../0db8709fbbda7c009bd4a90a4f51856b8a2c07850/expr.ipynb\"><img src=\"../0db8709fbbda7c009bd4a90a4f51856b8a2c07850/expr.png\" style=\"display:inline;vertical-align:middle;\" /></a></td></tr>\n",
       "<tr><td>16</td><td>Operation</td><td>operator:&nbsp;18<br>operands:&nbsp;19<br></td><td><a class=\"ProveItLink\" href=\"../598e6ec96f7e91aae9dfd346725381f1dbd395580/expr.ipynb\"><img src=\"../598e6ec96f7e91aae9dfd346725381f1dbd395580/expr.png\" style=\"display:inline;vertical-align:middle;\" /></a></td></tr>\n",
       "<tr><td>17</td><td>ExprTuple</td><td>20, 21</td><td><a class=\"ProveItLink\" href=\"../64b222c7114774a67cc56d44d90b176d3b3a33a20/expr.ipynb\"><img src=\"../64b222c7114774a67cc56d44d90b176d3b3a33a20/expr.png\" style=\"display:inline;vertical-align:middle;\" /></a></td></tr>\n",
       "<tr><td>18</td><td>Literal</td><td></td><td><a class=\"ProveItLink\" href=\"../../../../../logic/booleans/conjunction/__pv_it/common/42118ff318bd65d98b1393f64ce7c2269feef76e0/expr.ipynb\"><img src=\"../../../../../logic/booleans/conjunction/__pv_it/common/42118ff318bd65d98b1393f64ce7c2269feef76e0/expr.png\" style=\"display:inline;vertical-align:middle;\" /></a></td></tr>\n",
       "<tr><td>19</td><td>ExprTuple</td><td>22, 23</td><td><a class=\"ProveItLink\" href=\"../f19507f1b24436413c046a67c2e6cb44a27441020/expr.ipynb\"><img src=\"../f19507f1b24436413c046a67c2e6cb44a27441020/expr.png\" style=\"display:inline;vertical-align:middle;\" /></a></td></tr>\n",
       "<tr><td>20</td><td>ExprTuple</td><td>31, 29</td><td><a class=\"ProveItLink\" href=\"../../../../__pv_it/common/2a9e3ef801087f548d43462803dae78227b69ad00/expr.ipynb\"><img src=\"../../../../__pv_it/common/2a9e3ef801087f548d43462803dae78227b69ad00/expr.png\" style=\"display:inline;vertical-align:middle;\" /></a></td></tr>\n",
       "<tr><td>21</td><td>ExprTuple</td><td>32, 30</td><td><a class=\"ProveItLink\" href=\"../43f38f34143295ea5ef8ffdbb251b6ea7d51a9c10/expr.ipynb\"><img src=\"../43f38f34143295ea5ef8ffdbb251b6ea7d51a9c10/expr.png\" style=\"display:inline;vertical-align:middle;\" /></a></td></tr>\n",
       "<tr><td>22</td><td>Operation</td><td>operator:&nbsp;25<br>operands:&nbsp;24<br></td><td><a class=\"ProveItLink\" href=\"../4ac272a73a707cc782502999f78b3822f63a09600/expr.ipynb\"><img src=\"../4ac272a73a707cc782502999f78b3822f63a09600/expr.png\" style=\"display:inline;vertical-align:middle;\" /></a></td></tr>\n",
       "<tr><td>23</td><td>Operation</td><td>operator:&nbsp;25<br>operands:&nbsp;26<br></td><td><a class=\"ProveItLink\" href=\"../a0ca24ef0c9308a0238e2b2d0d1c2a38e9d113f50/expr.ipynb\"><img src=\"../a0ca24ef0c9308a0238e2b2d0d1c2a38e9d113f50/expr.png\" style=\"display:inline;vertical-align:middle;\" /></a></td></tr>\n",
       "<tr><td>24</td><td>ExprTuple</td><td>27, 28</td><td><a class=\"ProveItLink\" href=\"../2494039df278ab21532e3d85bb702b025bbfcca20/expr.ipynb\"><img src=\"../2494039df278ab21532e3d85bb702b025bbfcca20/expr.png\" style=\"display:inline;vertical-align:middle;\" /></a></td></tr>\n",
       "<tr><td>25</td><td>Literal</td><td></td><td><a class=\"ProveItLink\" href=\"../../../../../logic/equality/__pv_it/common/fb96dc12b2aa8801dda64d0132b396c63d1502bb0/expr.ipynb\"><img src=\"../../../../../logic/equality/__pv_it/common/fb96dc12b2aa8801dda64d0132b396c63d1502bb0/expr.png\" style=\"display:inline;vertical-align:middle;\" /></a></td></tr>\n",
       "<tr><td>26</td><td>ExprTuple</td><td>29, 30</td><td><a class=\"ProveItLink\" href=\"../8d203ea65980ff8c7bfac0136b7f4e82e7529ea50/expr.ipynb\"><img src=\"../8d203ea65980ff8c7bfac0136b7f4e82e7529ea50/expr.png\" style=\"display:inline;vertical-align:middle;\" /></a></td></tr>\n",
       "<tr><td>27</td><td>ExprTuple</td><td>31</td><td><a class=\"ProveItLink\" href=\"../../../../__pv_it/common/acc7ecd6d6e1490d943c617eb5dc8d91eb0774310/expr.ipynb\"><img src=\"../../../../__pv_it/common/acc7ecd6d6e1490d943c617eb5dc8d91eb0774310/expr.png\" style=\"display:inline;vertical-align:middle;\" /></a></td></tr>\n",
       "<tr><td>28</td><td>ExprTuple</td><td>32</td><td><a class=\"ProveItLink\" href=\"../fe6e524266e33754b5b7d715bfef7021fd35dc1d0/expr.ipynb\"><img src=\"../fe6e524266e33754b5b7d715bfef7021fd35dc1d0/expr.png\" style=\"display:inline;vertical-align:middle;\" /></a></td></tr>\n",
       "<tr><td>29</td><td>Variable</td><td></td><td><a class=\"ProveItLink\" href=\"../../../../../__pv_it/common/195236b98c6c564a75b5dbada74b173bc52d5c3e0/expr.ipynb\"><img src=\"../../../../../__pv_it/common/195236b98c6c564a75b5dbada74b173bc52d5c3e0/expr.png\" style=\"display:inline;vertical-align:middle;\" /></a></td></tr>\n",
       "<tr><td>30</td><td>Variable</td><td></td><td><a class=\"ProveItLink\" href=\"../../../../../__pv_it/common/4f5c524ffda87296de1c79b96880123fe2efedd50/expr.ipynb\"><img src=\"../../../../../__pv_it/common/4f5c524ffda87296de1c79b96880123fe2efedd50/expr.png\" style=\"display:inline;vertical-align:middle;\" /></a></td></tr>\n",
       "<tr><td>31</td><td>ExprRange</td><td>lambda_map:&nbsp;33<br>start_index:&nbsp;35<br>end_index:&nbsp;36<br></td><td><a class=\"ProveItLink\" href=\"../../../../__pv_it/common/7230c683fcd56948c826ac1be71b01b6fb2913950/expr.ipynb\"><img src=\"../../../../__pv_it/common/7230c683fcd56948c826ac1be71b01b6fb2913950/expr.png\" style=\"display:inline;vertical-align:middle;\" /></a></td></tr>\n",
       "<tr><td>32</td><td>ExprRange</td><td>lambda_map:&nbsp;34<br>start_index:&nbsp;35<br>end_index:&nbsp;36<br></td><td><a class=\"ProveItLink\" href=\"../../../../__pv_it/common/7f544f12ad63e3712bd60e5a54402b08e8202c760/expr.ipynb\"><img src=\"../../../../__pv_it/common/7f544f12ad63e3712bd60e5a54402b08e8202c760/expr.png\" style=\"display:inline;vertical-align:middle;\" /></a></td></tr>\n",
       "<tr><td>33</td><td>Lambda</td><td>parameter:&nbsp;42<br>body:&nbsp;37<br></td><td><a class=\"ProveItLink\" href=\"../../../../__pv_it/common/1527ad383e12f9c6ed6b371c9a7dd1892d80da1b0/expr.ipynb\"><img src=\"../../../../__pv_it/common/1527ad383e12f9c6ed6b371c9a7dd1892d80da1b0/expr.png\" style=\"display:inline;vertical-align:middle;\" /></a></td></tr>\n",
       "<tr><td>34</td><td>Lambda</td><td>parameter:&nbsp;42<br>body:&nbsp;38<br></td><td><a class=\"ProveItLink\" href=\"../../../../__pv_it/common/89a29b5b02ce6c37577f6352274a3d503dcdde3e0/expr.ipynb\"><img src=\"../../../../__pv_it/common/89a29b5b02ce6c37577f6352274a3d503dcdde3e0/expr.png\" style=\"display:inline;vertical-align:middle;\" /></a></td></tr>\n",
       "<tr><td>35</td><td>Literal</td><td></td><td><a class=\"ProveItLink\" href=\"../../../../../numbers/numerals/__pv_it/common/682157d4892d216d9e5626ed533aff9b56b9506e0/expr.ipynb\"><img src=\"../../../../../numbers/numerals/__pv_it/common/682157d4892d216d9e5626ed533aff9b56b9506e0/expr.png\" style=\"display:inline;vertical-align:middle;\" /></a></td></tr>\n",
       "<tr><td>36</td><td>Variable</td><td></td><td><a class=\"ProveItLink\" href=\"../../../../../__pv_it/common/ae955345c83abf786c3aff8681cd5465beae262d0/expr.ipynb\"><img src=\"../../../../../__pv_it/common/ae955345c83abf786c3aff8681cd5465beae262d0/expr.png\" style=\"display:inline;vertical-align:middle;\" /></a></td></tr>\n",
       "<tr><td>37</td><td>IndexedVar</td><td>variable:&nbsp;39<br>index:&nbsp;42<br></td><td><a class=\"ProveItLink\" href=\"../../../../__pv_it/common/3a62c13e156d62d52fe585fa37cc2172fcf685260/expr.ipynb\"><img src=\"../../../../__pv_it/common/3a62c13e156d62d52fe585fa37cc2172fcf685260/expr.png\" style=\"display:inline;vertical-align:middle;\" /></a></td></tr>\n",
       "<tr><td>38</td><td>IndexedVar</td><td>variable:&nbsp;40<br>index:&nbsp;42<br></td><td><a class=\"ProveItLink\" href=\"../../../../__pv_it/common/8ffbefe913f7c934b2e3a2a12315d5900822d9d00/expr.ipynb\"><img src=\"../../../../__pv_it/common/8ffbefe913f7c934b2e3a2a12315d5900822d9d00/expr.png\" style=\"display:inline;vertical-align:middle;\" /></a></td></tr>\n",
       "<tr><td>39</td><td>Variable</td><td></td><td><a class=\"ProveItLink\" href=\"../../../../../__pv_it/common/c06c606ec12678c58933ac85412ecadc2ae28be60/expr.ipynb\"><img src=\"../../../../../__pv_it/common/c06c606ec12678c58933ac85412ecadc2ae28be60/expr.png\" style=\"display:inline;vertical-align:middle;\" /></a></td></tr>\n",
       "<tr><td>40</td><td>Variable</td><td></td><td><a class=\"ProveItLink\" href=\"../../../../../__pv_it/common/ceef4280a2f1cc604b455b54e735507244cc62cd0/expr.ipynb\"><img src=\"../../../../../__pv_it/common/ceef4280a2f1cc604b455b54e735507244cc62cd0/expr.png\" style=\"display:inline;vertical-align:middle;\" /></a></td></tr>\n",
       "<tr><td>41</td><td>ExprTuple</td><td>42</td><td><a class=\"ProveItLink\" href=\"../../../../__pv_it/common/4b0dd6be36d76552eda6a95d5b4a27f5a5b62f900/expr.ipynb\"><img src=\"../../../../__pv_it/common/4b0dd6be36d76552eda6a95d5b4a27f5a5b62f900/expr.png\" style=\"display:inline;vertical-align:middle;\" /></a></td></tr>\n",
       "<tr><td>42</td><td>Variable</td><td></td><td><a class=\"ProveItLink\" href=\"../../../../__pv_it/common/006c465e50948aa2b52285e2de47974f741255cc0/expr.ipynb\"><img src=\"../../../../__pv_it/common/006c465e50948aa2b52285e2de47974f741255cc0/expr.png\" style=\"display:inline;vertical-align:middle;\" /></a></td></tr>\n",
       "</table>\n"
      ],
      "text/plain": [
       "0. (i -> {forall_{a_{1}, a_{2}, ..., a_{i}, b, c_{1}, c_{2}, ..., c_{i}, d} (((a_{1}, a_{2}, ..., a_{i}, b) = (c_{1}, c_{2}, ..., c_{i}, d)) =  \\\\ (((a_{1}, a_{2}, ..., a_{i}) = (c_{1}, c_{2}, ..., c_{i})) and (b = d))) if i in Natural.)\n",
       "   core type: ExprTuple\n",
       "   sub-expressions: 1\n",
       "1. i -> {forall_{a_{1}, a_{2}, ..., a_{i}, b, c_{1}, c_{2}, ..., c_{i}, d} (((a_{1}, a_{2}, ..., a_{i}, b) = (c_{1}, c_{2}, ..., c_{i}, d)) =  \\\\ (((a_{1}, a_{2}, ..., a_{i}) = (c_{1}, c_{2}, ..., c_{i})) and (b = d))) if i in Natural.\n",
       "   core type: Lambda\n",
       "   parameter: 36\n",
       "   body: 3\n",
       "2. (i)\n",
       "   core type: ExprTuple\n",
       "   sub-expressions: 36\n",
       "3. {forall_{a_{1}, a_{2}, ..., a_{i}, b, c_{1}, c_{2}, ..., c_{i}, d} (((a_{1}, a_{2}, ..., a_{i}, b) = (c_{1}, c_{2}, ..., c_{i}, d)) =  \\\\ (((a_{1}, a_{2}, ..., a_{i}) = (c_{1}, c_{2}, ..., c_{i})) and (b = d))) if i in Natural.\n",
       "   core type: Conditional\n",
       "   value: 4\n",
       "   condition: 5\n",
       "4. forall_{a_{1}, a_{2}, ..., a_{i}, b, c_{1}, c_{2}, ..., c_{i}, d} (((a_{1}, a_{2}, ..., a_{i}, b) = (c_{1}, c_{2}, ..., c_{i}, d)) =  \\\\ (((a_{1}, a_{2}, ..., a_{i}) = (c_{1}, c_{2}, ..., c_{i})) and (b = d)))\n",
       "   core type: Operation\n",
       "   operator: 6\n",
       "   operand: 10\n",
       "5. i in Natural\n",
       "   core type: Operation\n",
       "   operator: 8\n",
       "   operands: 9\n",
       "6. forall\n",
       "   core type: Literal\n",
       "   sub-expressions: \n",
       "7. ((a_{1}, a_{2}, ..., a_{i}, b, c_{1}, c_{2}, ..., c_{i}, d) -> (((a_{1}, a_{2}, ..., a_{i}, b) = (c_{1}, c_{2}, ..., c_{i}, d)) =  \\\\ (((a_{1}, a_{2}, ..., a_{i}) = (c_{1}, c_{2}, ..., c_{i})) and (b = d))))\n",
       "   core type: ExprTuple\n",
       "   sub-expressions: 10\n",
       "8. in\n",
       "   core type: Literal\n",
       "   sub-expressions: \n",
       "9. (i, Natural)\n",
       "   core type: ExprTuple\n",
       "   sub-expressions: 36, 11\n",
       "10. (a_{1}, a_{2}, ..., a_{i}, b, c_{1}, c_{2}, ..., c_{i}, d) -> (((a_{1}, a_{2}, ..., a_{i}, b) = (c_{1}, c_{2}, ..., c_{i}, d)) =  \\\\ (((a_{1}, a_{2}, ..., a_{i}) = (c_{1}, c_{2}, ..., c_{i})) and (b = d)))\n",
       "    core type: Lambda\n",
       "    parameters: 12\\n    body: 13\n",
       "11. Natural\n",
       "    core type: Literal\n",
       "    sub-expressions: \n",
       "12. (a_{1}, a_{2}, ..., a_{i}, b,c_{1}, c_{2}, ..., c_{i}, d)\n",
       "    core type: ExprTuple\n",
       "    sub-expressions: 31, 29, 32, 30\n",
       "13. ((a_{1}, a_{2}, ..., a_{i}, b) = (c_{1}, c_{2}, ..., c_{i}, d)) =  \\\\ (((a_{1}, a_{2}, ..., a_{i}) = (c_{1}, c_{2}, ..., c_{i})) and (b = d))\n",
       "    core type: Operation\n",
       "    operator: 25\n",
       "    operands: 14\n",
       "14. ((a_{1}, a_{2}, ..., a_{i}, b) = (c_{1}, c_{2}, ..., c_{i}, d), ((a_{1}, a_{2}, ..., a_{i}) = (c_{1}, c_{2}, ..., c_{i})) and (b = d))\n",
       "    core type: ExprTuple\n",
       "    sub-expressions: 15, 16\n",
       "15. (a_{1}, a_{2}, ..., a_{i}, b) = (c_{1}, c_{2}, ..., c_{i}, d)\n",
       "    core type: Operation\n",
       "    operator: 25\n",
       "    operands: 17\n",
       "16. ((a_{1}, a_{2}, ..., a_{i}) = (c_{1}, c_{2}, ..., c_{i})) and (b = d)\n",
       "    core type: Operation\n",
       "    operator: 18\n",
       "    operands: 19\n",
       "17. ((a_{1}, a_{2}, ..., a_{i}, b), (c_{1}, c_{2}, ..., c_{i}, d))\n",
       "    core type: ExprTuple\n",
       "    sub-expressions: 20, 21\n",
       "18. and\n",
       "    core type: Literal\n",
       "    sub-expressions: \n",
       "19. ((a_{1}, a_{2}, ..., a_{i}) = (c_{1}, c_{2}, ..., c_{i}), b = d)\n",
       "    core type: ExprTuple\n",
       "    sub-expressions: 22, 23\n",
       "20. (a_{1}, a_{2}, ..., a_{i}, b)\n",
       "    core type: ExprTuple\n",
       "    sub-expressions: 31, 29\n",
       "21. (c_{1}, c_{2}, ..., c_{i}, d)\n",
       "    core type: ExprTuple\n",
       "    sub-expressions: 32, 30\n",
       "22. (a_{1}, a_{2}, ..., a_{i}) = (c_{1}, c_{2}, ..., c_{i})\n",
       "    core type: Operation\n",
       "    operator: 25\n",
       "    operands: 24\n",
       "23. b = d\n",
       "    core type: Operation\n",
       "    operator: 25\n",
       "    operands: 26\n",
       "24. ((a_{1}, a_{2}, ..., a_{i}), (c_{1}, c_{2}, ..., c_{i}))\n",
       "    core type: ExprTuple\n",
       "    sub-expressions: 27, 28\n",
       "25. =\n",
       "    core type: Literal\n",
       "    sub-expressions: \n",
       "26. (b, d)\n",
       "    core type: ExprTuple\n",
       "    sub-expressions: 29, 30\n",
       "27. (a_{1}, a_{2}, ..., a_{i})\n",
       "    core type: ExprTuple\n",
       "    sub-expressions: 31\n",
       "28. (c_{1}, c_{2}, ..., c_{i})\n",
       "    core type: ExprTuple\n",
       "    sub-expressions: 32\n",
       "29. b\n",
       "    core type: Variable\n",
       "    sub-expressions: \n",
       "30. d\n",
       "    core type: Variable\n",
       "    sub-expressions: \n",
       "31. a_{1}, a_{2}, ..., a_{i}\n",
       "    core type: ExprRange\n",
       "    lambda_map: 33\n",
       "    start_index: 35\n",
       "    end_index: 36\n",
       "32. c_{1}, c_{2}, ..., c_{i}\n",
       "    core type: ExprRange\n",
       "    lambda_map: 34\n",
       "    start_index: 35\n",
       "    end_index: 36\n",
       "33. _a -> a_{_a}\n",
       "    core type: Lambda\n",
       "    parameter: 42\n",
       "    body: 37\n",
       "34. _a -> c_{_a}\n",
       "    core type: Lambda\n",
       "    parameter: 42\n",
       "    body: 38\n",
       "35. 1\n",
       "    core type: Literal\n",
       "    sub-expressions: \n",
       "36. i\n",
       "    core type: Variable\n",
       "    sub-expressions: \n",
       "37. a_{_a}\n",
       "    core type: IndexedVar\n",
       "variable: 39\n",
       "index: 42\n",
       "38. c_{_a}\n",
       "    core type: IndexedVar\n",
       "variable: 40\n",
       "index: 42\n",
       "39. a\n",
       "    core type: Variable\n",
       "    sub-expressions: \n",
       "40. c\n",
       "    core type: Variable\n",
       "    sub-expressions: \n",
       "41. (_a)\n",
       "    core type: ExprTuple\n",
       "    sub-expressions: 42\n",
       "42. _a\n",
       "    core type: Variable\n",
       "    sub-expressions: "
      ]
     },
     "metadata": {},
     "output_type": "display_data"
    }
   ],
   "source": [
    "# display the expression information\n",
    "stored_expr.expr_info()"
   ]
  },
  {
   "cell_type": "code",
   "execution_count": null,
   "metadata": {},
   "outputs": [],
   "source": []
  }
 ],
 "metadata": {
  "kernelspec": {
   "display_name": "Python 3",
   "language": "python",
   "name": "python3"
  }
 },
 "nbformat": 4,
 "nbformat_minor": 0
}