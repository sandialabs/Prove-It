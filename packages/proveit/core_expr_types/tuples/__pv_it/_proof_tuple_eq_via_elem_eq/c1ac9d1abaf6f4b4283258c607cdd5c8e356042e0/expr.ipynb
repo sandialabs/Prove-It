{
 "cells": [
  {
   "cell_type": "markdown",
   "metadata": {},
   "source": [
    "Expression of type <a class=\"ProveItLink\" href=\"../../../../../../../doc/html/api/proveit.ExprTuple.html\">ExprTuple</a>\n",
    "=======================\n",
    "# from the theory of <a class=\"ProveItLink\" href=\"../../../_theory_nbs_/theory.ipynb\">proveit.core_expr_types.tuples</a>"
   ]
  },
  {
   "cell_type": "code",
   "execution_count": 1,
   "metadata": {},
   "outputs": [],
   "source": [
    "import proveit\n",
    "# Automation is not needed when building an expression:\n",
    "proveit.defaults.automation = False # This will speed things up.\n",
    "proveit.defaults.inline_pngs = False # Makes files smaller.\n",
    "%load_expr # Load the stored expression as 'stored_expr'\n",
    "# import Expression classes needed to build the expression\n",
    "from proveit import ExprRange, ExprTuple, IndexedVar, Variable, a, b, m\n",
    "from proveit.logic import Equals\n",
    "from proveit.numbers import Add, one"
   ]
  },
  {
   "cell_type": "code",
   "execution_count": 2,
   "metadata": {},
   "outputs": [
    {
     "data": {
      "text/html": [
       "<strong id=\"expr\">expr:</strong> <a class=\"ProveItLink\" href=\"expr.ipynb\"><img src=\"expr.png\" style=\"display:inline;vertical-align:middle;\" /></a><br>"
      ],
      "text/plain": [
       "<IPython.core.display.HTML object>"
      ]
     },
     "metadata": {},
     "output_type": "display_data"
    }
   ],
   "source": [
    "# build up the expression from sub-expressions\n",
    "sub_expr1 = Variable(\"_a\", latex_format = r\"{_{-}a}\")\n",
    "expr = ExprTuple(ExprRange(sub_expr1, Equals(IndexedVar(a, sub_expr1), IndexedVar(b, sub_expr1)), one, Add(m, one)))"
   ]
  },
  {
   "cell_type": "code",
   "execution_count": 3,
   "metadata": {},
   "outputs": [
    {
     "name": "stdout",
     "output_type": "stream",
     "text": [
      "Passed sanity check: expr matches stored_expr\n"
     ]
    }
   ],
   "source": [
    "# check that the built expression is the same as the stored expression\n",
    "assert expr == stored_expr\n",
    "assert expr._style_id == stored_expr._style_id\n",
    "print(\"Passed sanity check: expr matches stored_expr\")"
   ]
  },
  {
   "cell_type": "code",
   "execution_count": 4,
   "metadata": {},
   "outputs": [
    {
     "name": "stdout",
     "output_type": "stream",
     "text": [
      "\\left(\\left(a_{1} = b_{1}\\right), \\left(a_{2} = b_{2}\\right), \\ldots, \\left(a_{m + 1} = b_{m + 1}\\right)\\right)\n"
     ]
    }
   ],
   "source": [
    "# Show the LaTeX representation of the expression for convenience if you need it.\n",
    "print(stored_expr.latex())"
   ]
  },
  {
   "cell_type": "code",
   "execution_count": 5,
   "metadata": {},
   "outputs": [
    {
     "data": {
      "text/html": [
       "no style options"
      ],
      "text/plain": [
       "no style options"
      ]
     },
     "metadata": {},
     "output_type": "display_data"
    }
   ],
   "source": [
    "stored_expr.style_options()"
   ]
  },
  {
   "cell_type": "code",
   "execution_count": 6,
   "metadata": {},
   "outputs": [
    {
     "data": {
      "text/html": [
       "<table><tr><th>&nbsp;</th><th>core type</th><th>sub-expressions</th><th>expression</th></tr>\n",
       "<tr><td>0</td><td>ExprTuple</td><td>1</td><td><a class=\"ProveItLink\" href=\"expr.ipynb\"><img src=\"expr.png\" style=\"display:inline;vertical-align:middle;\" /></a></td></tr>\n",
       "<tr><td>1</td><td>ExprRange</td><td>lambda_map:&nbsp;2<br>start_index:&nbsp;10<br>end_index:&nbsp;3<br></td><td><a class=\"ProveItLink\" href=\"../2fa67578b2af9f310f3c641ab402a90dc9ab796e0/expr.ipynb\"><img src=\"../2fa67578b2af9f310f3c641ab402a90dc9ab796e0/expr.png\" style=\"display:inline;vertical-align:middle;\" /></a></td></tr>\n",
       "<tr><td>2</td><td>Lambda</td><td>parameter:&nbsp;16<br>body:&nbsp;4<br></td><td><a class=\"ProveItLink\" href=\"../../theorems/5c21227301ebed6b2c1b05da3226d9b68cf374630/expr.ipynb\"><img src=\"../../theorems/5c21227301ebed6b2c1b05da3226d9b68cf374630/expr.png\" style=\"display:inline;vertical-align:middle;\" /></a></td></tr>\n",
       "<tr><td>3</td><td>Operation</td><td>operator:&nbsp;5<br>operands:&nbsp;6<br></td><td><a class=\"ProveItLink\" href=\"../../../../../numbers/__pv_it/common/f0153e6834a9ad14709e8cc9fcde46b29f1ea5f30/expr.ipynb\"><img src=\"../../../../../numbers/__pv_it/common/f0153e6834a9ad14709e8cc9fcde46b29f1ea5f30/expr.png\" style=\"display:inline;vertical-align:middle;\" /></a></td></tr>\n",
       "<tr><td>4</td><td>Operation</td><td>operator:&nbsp;7<br>operands:&nbsp;8<br></td><td><a class=\"ProveItLink\" href=\"../../theorems/2367be28c1a9c30c28329313099ab8d656f408520/expr.ipynb\"><img src=\"../../theorems/2367be28c1a9c30c28329313099ab8d656f408520/expr.png\" style=\"display:inline;vertical-align:middle;\" /></a></td></tr>\n",
       "<tr><td>5</td><td>Literal</td><td></td><td><a class=\"ProveItLink\" href=\"../../../../../numbers/addition/__pv_it/common/4b7effaab3619a1c2c38fe2dee8601df8ec714590/expr.ipynb\"><img src=\"../../../../../numbers/addition/__pv_it/common/4b7effaab3619a1c2c38fe2dee8601df8ec714590/expr.png\" style=\"display:inline;vertical-align:middle;\" /></a></td></tr>\n",
       "<tr><td>6</td><td>ExprTuple</td><td>9, 10</td><td><a class=\"ProveItLink\" href=\"../../../../../numbers/__pv_it/common/170d11eb07f7b16874eb02f06c0a6709375d45350/expr.ipynb\"><img src=\"../../../../../numbers/__pv_it/common/170d11eb07f7b16874eb02f06c0a6709375d45350/expr.png\" style=\"display:inline;vertical-align:middle;\" /></a></td></tr>\n",
       "<tr><td>7</td><td>Literal</td><td></td><td><a class=\"ProveItLink\" href=\"../../../../../logic/equality/__pv_it/common/fb96dc12b2aa8801dda64d0132b396c63d1502bb0/expr.ipynb\"><img src=\"../../../../../logic/equality/__pv_it/common/fb96dc12b2aa8801dda64d0132b396c63d1502bb0/expr.png\" style=\"display:inline;vertical-align:middle;\" /></a></td></tr>\n",
       "<tr><td>8</td><td>ExprTuple</td><td>11, 12</td><td><a class=\"ProveItLink\" href=\"../../theorems/bba0807525d3fc2a75641fe92eca9a3a348d1c4f0/expr.ipynb\"><img src=\"../../theorems/bba0807525d3fc2a75641fe92eca9a3a348d1c4f0/expr.png\" style=\"display:inline;vertical-align:middle;\" /></a></td></tr>\n",
       "<tr><td>9</td><td>Variable</td><td></td><td><a class=\"ProveItLink\" href=\"../../../../../__pv_it/common/674a03b9c3ca221b3aabd5636837b31528ff33830/expr.ipynb\"><img src=\"../../../../../__pv_it/common/674a03b9c3ca221b3aabd5636837b31528ff33830/expr.png\" style=\"display:inline;vertical-align:middle;\" /></a></td></tr>\n",
       "<tr><td>10</td><td>Literal</td><td></td><td><a class=\"ProveItLink\" href=\"../../../../../numbers/numerals/__pv_it/common/682157d4892d216d9e5626ed533aff9b56b9506e0/expr.ipynb\"><img src=\"../../../../../numbers/numerals/__pv_it/common/682157d4892d216d9e5626ed533aff9b56b9506e0/expr.png\" style=\"display:inline;vertical-align:middle;\" /></a></td></tr>\n",
       "<tr><td>11</td><td>IndexedVar</td><td>variable:&nbsp;13<br>index:&nbsp;16<br></td><td><a class=\"ProveItLink\" href=\"../../../../__pv_it/common/3a62c13e156d62d52fe585fa37cc2172fcf685260/expr.ipynb\"><img src=\"../../../../__pv_it/common/3a62c13e156d62d52fe585fa37cc2172fcf685260/expr.png\" style=\"display:inline;vertical-align:middle;\" /></a></td></tr>\n",
       "<tr><td>12</td><td>IndexedVar</td><td>variable:&nbsp;14<br>index:&nbsp;16<br></td><td><a class=\"ProveItLink\" href=\"../../../../__pv_it/common/8542342c36565a593724a99f9c08d995c1c21af20/expr.ipynb\"><img src=\"../../../../__pv_it/common/8542342c36565a593724a99f9c08d995c1c21af20/expr.png\" style=\"display:inline;vertical-align:middle;\" /></a></td></tr>\n",
       "<tr><td>13</td><td>Variable</td><td></td><td><a class=\"ProveItLink\" href=\"../../../../../__pv_it/common/c06c606ec12678c58933ac85412ecadc2ae28be60/expr.ipynb\"><img src=\"../../../../../__pv_it/common/c06c606ec12678c58933ac85412ecadc2ae28be60/expr.png\" style=\"display:inline;vertical-align:middle;\" /></a></td></tr>\n",
       "<tr><td>14</td><td>Variable</td><td></td><td><a class=\"ProveItLink\" href=\"../../../../../__pv_it/common/195236b98c6c564a75b5dbada74b173bc52d5c3e0/expr.ipynb\"><img src=\"../../../../../__pv_it/common/195236b98c6c564a75b5dbada74b173bc52d5c3e0/expr.png\" style=\"display:inline;vertical-align:middle;\" /></a></td></tr>\n",
       "<tr><td>15</td><td>ExprTuple</td><td>16</td><td><a class=\"ProveItLink\" href=\"../../../../__pv_it/common/4b0dd6be36d76552eda6a95d5b4a27f5a5b62f900/expr.ipynb\"><img src=\"../../../../__pv_it/common/4b0dd6be36d76552eda6a95d5b4a27f5a5b62f900/expr.png\" style=\"display:inline;vertical-align:middle;\" /></a></td></tr>\n",
       "<tr><td>16</td><td>Variable</td><td></td><td><a class=\"ProveItLink\" href=\"../../../../__pv_it/common/006c465e50948aa2b52285e2de47974f741255cc0/expr.ipynb\"><img src=\"../../../../__pv_it/common/006c465e50948aa2b52285e2de47974f741255cc0/expr.png\" style=\"display:inline;vertical-align:middle;\" /></a></td></tr>\n",
       "</table>\n"
      ],
      "text/plain": [
       "0. ((a_{1} = b_{1}), (a_{2} = b_{2}), ..., (a_{m + 1} = b_{m + 1}))\n",
       "   core type: ExprTuple\n",
       "   sub-expressions: 1\n",
       "1. (a_{1} = b_{1}), (a_{2} = b_{2}), ..., (a_{m + 1} = b_{m + 1})\n",
       "   core type: ExprRange\n",
       "   lambda_map: 2\n",
       "   start_index: 10\n",
       "   end_index: 3\n",
       "2. _a -> (a_{_a} = b_{_a})\n",
       "   core type: Lambda\n",
       "   parameter: 16\n",
       "   body: 4\n",
       "3. m + 1\n",
       "   core type: Operation\n",
       "   operator: 5\n",
       "   operands: 6\n",
       "4. a_{_a} = b_{_a}\n",
       "   core type: Operation\n",
       "   operator: 7\n",
       "   operands: 8\n",
       "5. +\n",
       "   core type: Literal\n",
       "   sub-expressions: \n",
       "6. (m, 1)\n",
       "   core type: ExprTuple\n",
       "   sub-expressions: 9, 10\n",
       "7. =\n",
       "   core type: Literal\n",
       "   sub-expressions: \n",
       "8. (a_{_a}, b_{_a})\n",
       "   core type: ExprTuple\n",
       "   sub-expressions: 11, 12\n",
       "9. m\n",
       "   core type: Variable\n",
       "   sub-expressions: \n",
       "10. 1\n",
       "    core type: Literal\n",
       "    sub-expressions: \n",
       "11. a_{_a}\n",
       "    core type: IndexedVar\n",
       "variable: 13\n",
       "index: 16\n",
       "12. b_{_a}\n",
       "    core type: IndexedVar\n",
       "variable: 14\n",
       "index: 16\n",
       "13. a\n",
       "    core type: Variable\n",
       "    sub-expressions: \n",
       "14. b\n",
       "    core type: Variable\n",
       "    sub-expressions: \n",
       "15. (_a)\n",
       "    core type: ExprTuple\n",
       "    sub-expressions: 16\n",
       "16. _a\n",
       "    core type: Variable\n",
       "    sub-expressions: "
      ]
     },
     "metadata": {},
     "output_type": "display_data"
    }
   ],
   "source": [
    "# display the expression information\n",
    "stored_expr.expr_info()"
   ]
  },
  {
   "cell_type": "code",
   "execution_count": null,
   "metadata": {},
   "outputs": [],
   "source": []
  }
 ],
 "metadata": {
  "kernelspec": {
   "display_name": "Python 3",
   "language": "python",
   "name": "python3"
  }
 },
 "nbformat": 4,
 "nbformat_minor": 0
}