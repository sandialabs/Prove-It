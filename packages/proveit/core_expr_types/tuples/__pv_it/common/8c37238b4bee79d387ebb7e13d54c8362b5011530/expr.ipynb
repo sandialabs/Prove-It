{
 "cells": [
  {
   "cell_type": "markdown",
   "metadata": {},
   "source": [
    "Expression of type <a class=\"ProveItLink\" href=\"../../../../../../../doc/html/api/proveit.ExprTuple.html\">ExprTuple</a>\n",
    "=======================\n",
    "# from the theory of <a class=\"ProveItLink\" href=\"../../../_theory_nbs_/theory.ipynb\">proveit.core_expr_types.tuples</a>"
   ]
  },
  {
   "cell_type": "code",
   "execution_count": 1,
   "metadata": {},
   "outputs": [],
   "source": [
    "import proveit\n",
    "# Automation is not needed when building an expression:\n",
    "proveit.defaults.automation = False # This will speed things up.\n",
    "proveit.defaults.inline_pngs = False # Makes files smaller.\n",
    "%load_expr # Load the stored expression as 'stored_expr'\n",
    "# import Expression classes needed to build the expression\n",
    "from proveit import ExprRange, ExprTuple, Function, Variable, a, f, k, l\n",
    "from proveit.core_expr_types import f_i_to_j_dec\n",
    "from proveit.numbers import Add, Neg"
   ]
  },
  {
   "cell_type": "code",
   "execution_count": 2,
   "metadata": {},
   "outputs": [
    {
     "data": {
      "text/html": [
       "<strong id=\"expr\">expr:</strong> <a class=\"ProveItLink\" href=\"expr.ipynb\"><img src=\"expr.png\" style=\"display:inline;vertical-align:middle;\" /></a><br>"
      ],
      "text/plain": [
       "<IPython.core.display.HTML object>"
      ]
     },
     "metadata": {},
     "output_type": "display_data"
    }
   ],
   "source": [
    "# build up the expression from sub-expressions\n",
    "sub_expr1 = Variable(\"_a\", latex_format = r\"{_{-}a}\")\n",
    "expr = ExprTuple([f_i_to_j_dec], [ExprRange(sub_expr1, Function(f, [Add(Neg(sub_expr1), a)]), Neg(k), Neg(l)).with_decreasing_order()])"
   ]
  },
  {
   "cell_type": "code",
   "execution_count": 3,
   "metadata": {},
   "outputs": [
    {
     "name": "stdout",
     "output_type": "stream",
     "text": [
      "Passed sanity check: expr matches stored_expr\n"
     ]
    }
   ],
   "source": [
    "# check that the built expression is the same as the stored expression\n",
    "assert expr == stored_expr\n",
    "assert expr._style_id == stored_expr._style_id\n",
    "print(\"Passed sanity check: expr matches stored_expr\")"
   ]
  },
  {
   "cell_type": "code",
   "execution_count": 4,
   "metadata": {},
   "outputs": [
    {
     "name": "stdout",
     "output_type": "stream",
     "text": [
      "\\left(\\left(f\\left(i\\right), f\\left(i - 1\\right), \\ldots, f\\left(j\\right)\\right), \\left(f\\left(k + a\\right), f\\left(\\left(k - 1\\right) + a\\right), \\ldots, f\\left(l + a\\right)\\right)\\right)\n"
     ]
    }
   ],
   "source": [
    "# Show the LaTeX representation of the expression for convenience if you need it.\n",
    "print(stored_expr.latex())"
   ]
  },
  {
   "cell_type": "code",
   "execution_count": 5,
   "metadata": {},
   "outputs": [
    {
     "data": {
      "text/html": [
       "<table>\n",
       "<tr><th>name</th><th>description</th><th>default</th><th>current value</th><th>related methods</th></tr><tr><td>wrap_positions</td><td>position(s) at which wrapping is to occur; 'n' is after the nth comma.</td><td>()</td><td>()</td><td>('with_wrapping_at',)</td></tr>\n",
       "<tr><td>justification</td><td>if any wrap positions are set, justify to the 'left', 'center', or 'right'</td><td>left</td><td>left</td><td>('with_justification',)</td></tr>\n",
       "</table>\n"
      ],
      "text/plain": [
       "style name: wrap_positions\n",
       "description: position(s) at which wrapping is to occur; 'n' is after the nth comma.\n",
       "default: ()\n",
       "current value: ()\n",
       "related methods: ('with_wrapping_at',)\n",
       "style name: justification\n",
       "description: if any wrap positions are set, justify to the 'left', 'center', or 'right'\n",
       "default: left\n",
       "current value: left\n",
       "related methods: ('with_justification',)"
      ]
     },
     "metadata": {},
     "output_type": "display_data"
    }
   ],
   "source": [
    "stored_expr.style_options()"
   ]
  },
  {
   "cell_type": "code",
   "execution_count": 6,
   "metadata": {},
   "outputs": [
    {
     "data": {
      "text/html": [
       "<table><tr><th>&nbsp;</th><th>core type</th><th>sub-expressions</th><th>expression</th></tr>\n",
       "<tr><td>0</td><td>ExprTuple</td><td>1, 2</td><td><a class=\"ProveItLink\" href=\"expr.ipynb\"><img src=\"expr.png\" style=\"display:inline;vertical-align:middle;\" /></a></td></tr>\n",
       "<tr><td>1</td><td>ExprTuple</td><td>3</td><td><a class=\"ProveItLink\" href=\"../f2d94e44be4ed00ad2b4431fb9ed509ed641a21d0/expr.ipynb\"><img src=\"../f2d94e44be4ed00ad2b4431fb9ed509ed641a21d0/expr.png\" style=\"display:inline;vertical-align:middle;\" /></a></td></tr>\n",
       "<tr><td>2</td><td>ExprTuple</td><td>4</td><td><a class=\"ProveItLink\" href=\"../5289c77d15bd8af4855d673096707c45c82f2a510/expr.ipynb\"><img src=\"../5289c77d15bd8af4855d673096707c45c82f2a510/expr.png\" style=\"display:inline;vertical-align:middle;\" /></a></td></tr>\n",
       "<tr><td>3</td><td>ExprRange</td><td>lambda_map:&nbsp;5<br>start_index:&nbsp;6<br>end_index:&nbsp;7<br></td><td><a class=\"ProveItLink\" href=\"../../../../__pv_it/common/0bddaaf076f4370ef99072b6bd75245122135a110/expr.ipynb\"><img src=\"../../../../__pv_it/common/0bddaaf076f4370ef99072b6bd75245122135a110/expr.png\" style=\"display:inline;vertical-align:middle;\" /></a></td></tr>\n",
       "<tr><td>4</td><td>ExprRange</td><td>lambda_map:&nbsp;8<br>start_index:&nbsp;9<br>end_index:&nbsp;10<br></td><td><a class=\"ProveItLink\" href=\"../220d2916dfb871ab8ee705e719949757c66429610/expr.ipynb\"><img src=\"../220d2916dfb871ab8ee705e719949757c66429610/expr.png\" style=\"display:inline;vertical-align:middle;\" /></a></td></tr>\n",
       "<tr><td>5</td><td>Lambda</td><td>parameter:&nbsp;31<br>body:&nbsp;11<br></td><td><a class=\"ProveItLink\" href=\"../../../../__pv_it/common/1d745dcdbc5e735ccfe80f20aeed6b3b668d0a2f0/expr.ipynb\"><img src=\"../../../../__pv_it/common/1d745dcdbc5e735ccfe80f20aeed6b3b668d0a2f0/expr.png\" style=\"display:inline;vertical-align:middle;\" /></a></td></tr>\n",
       "<tr><td>6</td><td>Operation</td><td>operator:&nbsp;29<br>operand:&nbsp;18<br></td><td><a class=\"ProveItLink\" href=\"../../../../__pv_it/common/8c734d503ad1059c44c9f2e4827f47823ef862820/expr.ipynb\"><img src=\"../../../../__pv_it/common/8c734d503ad1059c44c9f2e4827f47823ef862820/expr.png\" style=\"display:inline;vertical-align:middle;\" /></a></td></tr>\n",
       "<tr><td>7</td><td>Operation</td><td>operator:&nbsp;29<br>operand:&nbsp;19<br></td><td><a class=\"ProveItLink\" href=\"../../../../__pv_it/common/24f853fddbdbdadc19a8f07ec76ee6ccec6bd1460/expr.ipynb\"><img src=\"../../../../__pv_it/common/24f853fddbdbdadc19a8f07ec76ee6ccec6bd1460/expr.png\" style=\"display:inline;vertical-align:middle;\" /></a></td></tr>\n",
       "<tr><td>8</td><td>Lambda</td><td>parameter:&nbsp;31<br>body:&nbsp;14<br></td><td><a class=\"ProveItLink\" href=\"../7f8b89acba962c8938271fb2b4e34fc9953d65080/expr.ipynb\"><img src=\"../7f8b89acba962c8938271fb2b4e34fc9953d65080/expr.png\" style=\"display:inline;vertical-align:middle;\" /></a></td></tr>\n",
       "<tr><td>9</td><td>Operation</td><td>operator:&nbsp;29<br>operand:&nbsp;22<br></td><td><a class=\"ProveItLink\" href=\"../f7bbee27c2c90b57698d8cac5c5d15600f06703b0/expr.ipynb\"><img src=\"../f7bbee27c2c90b57698d8cac5c5d15600f06703b0/expr.png\" style=\"display:inline;vertical-align:middle;\" /></a></td></tr>\n",
       "<tr><td>10</td><td>Operation</td><td>operator:&nbsp;29<br>operand:&nbsp;23<br></td><td><a class=\"ProveItLink\" href=\"../da9fde21ceebc5eab41f7b757424b62afc640c5b0/expr.ipynb\"><img src=\"../da9fde21ceebc5eab41f7b757424b62afc640c5b0/expr.png\" style=\"display:inline;vertical-align:middle;\" /></a></td></tr>\n",
       "<tr><td>11</td><td>Operation</td><td>operator:&nbsp;20<br>operand:&nbsp;27<br></td><td><a class=\"ProveItLink\" href=\"../../../../__pv_it/common/721c7135cc663f87bdc76fc93c252fdc05038f9f0/expr.ipynb\"><img src=\"../../../../__pv_it/common/721c7135cc663f87bdc76fc93c252fdc05038f9f0/expr.png\" style=\"display:inline;vertical-align:middle;\" /></a></td></tr>\n",
       "<tr><td>12</td><td>ExprTuple</td><td>18</td><td><a class=\"ProveItLink\" href=\"../../../../__pv_it/common/0fc33550aa9740010879fdf30c320b63ba918eff0/expr.ipynb\"><img src=\"../../../../__pv_it/common/0fc33550aa9740010879fdf30c320b63ba918eff0/expr.png\" style=\"display:inline;vertical-align:middle;\" /></a></td></tr>\n",
       "<tr><td>13</td><td>ExprTuple</td><td>19</td><td><a class=\"ProveItLink\" href=\"../../../../__pv_it/common/e53e75ee8364373a10f420a7f9184b4cb67637be0/expr.ipynb\"><img src=\"../../../../__pv_it/common/e53e75ee8364373a10f420a7f9184b4cb67637be0/expr.png\" style=\"display:inline;vertical-align:middle;\" /></a></td></tr>\n",
       "<tr><td>14</td><td>Operation</td><td>operator:&nbsp;20<br>operand:&nbsp;24<br></td><td><a class=\"ProveItLink\" href=\"../96e59b46b9c3101524c79f1567fcd0abe6ff63900/expr.ipynb\"><img src=\"../96e59b46b9c3101524c79f1567fcd0abe6ff63900/expr.png\" style=\"display:inline;vertical-align:middle;\" /></a></td></tr>\n",
       "<tr><td>15</td><td>ExprTuple</td><td>22</td><td><a class=\"ProveItLink\" href=\"../../../../../__pv_it/common/688b115fcd711144fb0bdcf2138b0bd26487dd890/expr.ipynb\"><img src=\"../../../../../__pv_it/common/688b115fcd711144fb0bdcf2138b0bd26487dd890/expr.png\" style=\"display:inline;vertical-align:middle;\" /></a></td></tr>\n",
       "<tr><td>16</td><td>ExprTuple</td><td>23</td><td><a class=\"ProveItLink\" href=\"../039a14dbb9d0bf99f342285bcbd227a70d804d7f0/expr.ipynb\"><img src=\"../039a14dbb9d0bf99f342285bcbd227a70d804d7f0/expr.png\" style=\"display:inline;vertical-align:middle;\" /></a></td></tr>\n",
       "<tr><td>17</td><td>ExprTuple</td><td>27</td><td><a class=\"ProveItLink\" href=\"../../../../__pv_it/common/96e5cd91d23e3c4de4423e82abb47cfbb94903fe0/expr.ipynb\"><img src=\"../../../../__pv_it/common/96e5cd91d23e3c4de4423e82abb47cfbb94903fe0/expr.png\" style=\"display:inline;vertical-align:middle;\" /></a></td></tr>\n",
       "<tr><td>18</td><td>Variable</td><td></td><td><a class=\"ProveItLink\" href=\"../../../../../__pv_it/common/ae955345c83abf786c3aff8681cd5465beae262d0/expr.ipynb\"><img src=\"../../../../../__pv_it/common/ae955345c83abf786c3aff8681cd5465beae262d0/expr.png\" style=\"display:inline;vertical-align:middle;\" /></a></td></tr>\n",
       "<tr><td>19</td><td>Variable</td><td></td><td><a class=\"ProveItLink\" href=\"../../../../../__pv_it/common/1ed21df18baca2f42b561a7ffbf30a2743d594650/expr.ipynb\"><img src=\"../../../../../__pv_it/common/1ed21df18baca2f42b561a7ffbf30a2743d594650/expr.png\" style=\"display:inline;vertical-align:middle;\" /></a></td></tr>\n",
       "<tr><td>20</td><td>Variable</td><td></td><td><a class=\"ProveItLink\" href=\"../../../../../__pv_it/common/01b6dbb444a31fc38af4c2379badef6c75b363710/expr.ipynb\"><img src=\"../../../../../__pv_it/common/01b6dbb444a31fc38af4c2379badef6c75b363710/expr.png\" style=\"display:inline;vertical-align:middle;\" /></a></td></tr>\n",
       "<tr><td>21</td><td>ExprTuple</td><td>24</td><td><a class=\"ProveItLink\" href=\"../0d062d1f4f180790ed2fca77b82b90e97da5edcc0/expr.ipynb\"><img src=\"../0d062d1f4f180790ed2fca77b82b90e97da5edcc0/expr.png\" style=\"display:inline;vertical-align:middle;\" /></a></td></tr>\n",
       "<tr><td>22</td><td>Variable</td><td></td><td><a class=\"ProveItLink\" href=\"../../../../../__pv_it/common/63b7c64bf9ec7a04ecc396c7a1670f3f12fb59490/expr.ipynb\"><img src=\"../../../../../__pv_it/common/63b7c64bf9ec7a04ecc396c7a1670f3f12fb59490/expr.png\" style=\"display:inline;vertical-align:middle;\" /></a></td></tr>\n",
       "<tr><td>23</td><td>Variable</td><td></td><td><a class=\"ProveItLink\" href=\"../../../../../__pv_it/common/27cc275d44b4f4499fb9ccfb3fab1a98165d2fa60/expr.ipynb\"><img src=\"../../../../../__pv_it/common/27cc275d44b4f4499fb9ccfb3fab1a98165d2fa60/expr.png\" style=\"display:inline;vertical-align:middle;\" /></a></td></tr>\n",
       "<tr><td>24</td><td>Operation</td><td>operator:&nbsp;25<br>operands:&nbsp;26<br></td><td><a class=\"ProveItLink\" href=\"../e08feb80798cd920340c84e2c50fa4206f8602570/expr.ipynb\"><img src=\"../e08feb80798cd920340c84e2c50fa4206f8602570/expr.png\" style=\"display:inline;vertical-align:middle;\" /></a></td></tr>\n",
       "<tr><td>25</td><td>Literal</td><td></td><td><a class=\"ProveItLink\" href=\"../../../../../numbers/addition/__pv_it/common/4b7effaab3619a1c2c38fe2dee8601df8ec714590/expr.ipynb\"><img src=\"../../../../../numbers/addition/__pv_it/common/4b7effaab3619a1c2c38fe2dee8601df8ec714590/expr.png\" style=\"display:inline;vertical-align:middle;\" /></a></td></tr>\n",
       "<tr><td>26</td><td>ExprTuple</td><td>27, 28</td><td><a class=\"ProveItLink\" href=\"../e6d2e838ab8828a8f33d9ada585cf69ad52e05a00/expr.ipynb\"><img src=\"../e6d2e838ab8828a8f33d9ada585cf69ad52e05a00/expr.png\" style=\"display:inline;vertical-align:middle;\" /></a></td></tr>\n",
       "<tr><td>27</td><td>Operation</td><td>operator:&nbsp;29<br>operand:&nbsp;31<br></td><td><a class=\"ProveItLink\" href=\"../../../../__pv_it/common/e001e125799731d1c34a886e5c27308febcc370a0/expr.ipynb\"><img src=\"../../../../__pv_it/common/e001e125799731d1c34a886e5c27308febcc370a0/expr.png\" style=\"display:inline;vertical-align:middle;\" /></a></td></tr>\n",
       "<tr><td>28</td><td>Variable</td><td></td><td><a class=\"ProveItLink\" href=\"../../../../../__pv_it/common/c06c606ec12678c58933ac85412ecadc2ae28be60/expr.ipynb\"><img src=\"../../../../../__pv_it/common/c06c606ec12678c58933ac85412ecadc2ae28be60/expr.png\" style=\"display:inline;vertical-align:middle;\" /></a></td></tr>\n",
       "<tr><td>29</td><td>Literal</td><td></td><td><a class=\"ProveItLink\" href=\"../../../../../numbers/negation/__pv_it/common/221b3c4d1770ee9051b7c044c3f9ec61196fc34b0/expr.ipynb\"><img src=\"../../../../../numbers/negation/__pv_it/common/221b3c4d1770ee9051b7c044c3f9ec61196fc34b0/expr.png\" style=\"display:inline;vertical-align:middle;\" /></a></td></tr>\n",
       "<tr><td>30</td><td>ExprTuple</td><td>31</td><td><a class=\"ProveItLink\" href=\"../../../../__pv_it/common/4b0dd6be36d76552eda6a95d5b4a27f5a5b62f900/expr.ipynb\"><img src=\"../../../../__pv_it/common/4b0dd6be36d76552eda6a95d5b4a27f5a5b62f900/expr.png\" style=\"display:inline;vertical-align:middle;\" /></a></td></tr>\n",
       "<tr><td>31</td><td>Variable</td><td></td><td><a class=\"ProveItLink\" href=\"../../../../__pv_it/common/006c465e50948aa2b52285e2de47974f741255cc0/expr.ipynb\"><img src=\"../../../../__pv_it/common/006c465e50948aa2b52285e2de47974f741255cc0/expr.png\" style=\"display:inline;vertical-align:middle;\" /></a></td></tr>\n",
       "</table>\n"
      ],
      "text/plain": [
       "0. ((f(i), f(i - 1), ..., f(j)), (f(k + a), f((k - 1) + a), ..., f(l + a)))\n",
       "   core type: ExprTuple\n",
       "   sub-expressions: 1, 2\n",
       "1. (f(i), f(i - 1), ..., f(j))\n",
       "   core type: ExprTuple\n",
       "   sub-expressions: 3\n",
       "2. (f(k + a), f((k - 1) + a), ..., f(l + a))\n",
       "   core type: ExprTuple\n",
       "   sub-expressions: 4\n",
       "3. f(i), f(i - 1), ..., f(j)\n",
       "   core type: ExprRange\n",
       "   lambda_map: 5\n",
       "   start_index: 6\n",
       "   end_index: 7\n",
       "4. f(k + a), f((k - 1) + a), ..., f(l + a)\n",
       "   core type: ExprRange\n",
       "   lambda_map: 8\n",
       "   start_index: 9\n",
       "   end_index: 10\n",
       "5. _a -> f(-_a)\n",
       "   core type: Lambda\n",
       "   parameter: 31\n",
       "   body: 11\n",
       "6. -i\n",
       "   core type: Operation\n",
       "   operator: 29\n",
       "   operand: 18\n",
       "7. -j\n",
       "   core type: Operation\n",
       "   operator: 29\n",
       "   operand: 19\n",
       "8. _a -> f(-_a + a)\n",
       "   core type: Lambda\n",
       "   parameter: 31\n",
       "   body: 14\n",
       "9. -k\n",
       "   core type: Operation\n",
       "   operator: 29\n",
       "   operand: 22\n",
       "10. -l\n",
       "    core type: Operation\n",
       "    operator: 29\n",
       "    operand: 23\n",
       "11. f(-_a)\n",
       "    core type: Operation\n",
       "    operator: 20\n",
       "    operand: 27\n",
       "12. (i)\n",
       "    core type: ExprTuple\n",
       "    sub-expressions: 18\n",
       "13. (j)\n",
       "    core type: ExprTuple\n",
       "    sub-expressions: 19\n",
       "14. f(-_a + a)\n",
       "    core type: Operation\n",
       "    operator: 20\n",
       "    operand: 24\n",
       "15. (k)\n",
       "    core type: ExprTuple\n",
       "    sub-expressions: 22\n",
       "16. (l)\n",
       "    core type: ExprTuple\n",
       "    sub-expressions: 23\n",
       "17. (-_a)\n",
       "    core type: ExprTuple\n",
       "    sub-expressions: 27\n",
       "18. i\n",
       "    core type: Variable\n",
       "    sub-expressions: \n",
       "19. j\n",
       "    core type: Variable\n",
       "    sub-expressions: \n",
       "20. f\n",
       "    core type: Variable\n",
       "    sub-expressions: \n",
       "21. (-_a + a)\n",
       "    core type: ExprTuple\n",
       "    sub-expressions: 24\n",
       "22. k\n",
       "    core type: Variable\n",
       "    sub-expressions: \n",
       "23. l\n",
       "    core type: Variable\n",
       "    sub-expressions: \n",
       "24. -_a + a\n",
       "    core type: Operation\n",
       "    operator: 25\n",
       "    operands: 26\n",
       "25. +\n",
       "    core type: Literal\n",
       "    sub-expressions: \n",
       "26. (-_a, a)\n",
       "    core type: ExprTuple\n",
       "    sub-expressions: 27, 28\n",
       "27. -_a\n",
       "    core type: Operation\n",
       "    operator: 29\n",
       "    operand: 31\n",
       "28. a\n",
       "    core type: Variable\n",
       "    sub-expressions: \n",
       "29. -\n",
       "    core type: Literal\n",
       "    sub-expressions: \n",
       "30. (_a)\n",
       "    core type: ExprTuple\n",
       "    sub-expressions: 31\n",
       "31. _a\n",
       "    core type: Variable\n",
       "    sub-expressions: "
      ]
     },
     "metadata": {},
     "output_type": "display_data"
    }
   ],
   "source": [
    "# display the expression information\n",
    "stored_expr.expr_info()"
   ]
  },
  {
   "cell_type": "code",
   "execution_count": null,
   "metadata": {},
   "outputs": [],
   "source": []
  }
 ],
 "metadata": {
  "kernelspec": {
   "display_name": "Python 3",
   "language": "python",
   "name": "python3"
  }
 },
 "nbformat": 4,
 "nbformat_minor": 0
}