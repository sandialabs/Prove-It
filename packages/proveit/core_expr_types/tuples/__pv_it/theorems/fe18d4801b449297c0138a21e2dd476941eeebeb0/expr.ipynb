{
 "cells": [
  {
   "cell_type": "markdown",
   "metadata": {},
   "source": [
    "Expression of type <a class=\"ProveItLink\" href=\"../../../../../../../doc/html/api/proveit.ExprTuple.html\">ExprTuple</a>\n",
    "=======================\n",
    "# from the theory of <a class=\"ProveItLink\" href=\"../../../_theory_nbs_/theory.ipynb\">proveit.core_expr_types.tuples</a>"
   ]
  },
  {
   "cell_type": "code",
   "execution_count": 1,
   "metadata": {},
   "outputs": [],
   "source": [
    "import proveit\n",
    "# Automation is not needed when building an expression:\n",
    "proveit.defaults.automation = False # This will speed things up.\n",
    "proveit.defaults.inline_pngs = False # Makes files smaller.\n",
    "%load_expr # Load the stored expression as 'stored_expr'\n",
    "# import Expression classes needed to build the expression\n",
    "from proveit import Conditional, ExprTuple, Lambda, a, b, i, j, k, l\n",
    "from proveit.core_expr_types.tuples import shift_equiv_both\n",
    "from proveit.logic import And, Equals, InSet\n",
    "from proveit.numbers import Add, Natural, one, subtract"
   ]
  },
  {
   "cell_type": "code",
   "execution_count": 2,
   "metadata": {},
   "outputs": [
    {
     "data": {
      "text/html": [
       "<strong id=\"expr\">expr:</strong> <a class=\"ProveItLink\" href=\"expr.ipynb\"><img src=\"expr.png\" style=\"display:inline;vertical-align:middle;\" /></a><br>"
      ],
      "text/plain": [
       "<IPython.core.display.HTML object>"
      ]
     },
     "metadata": {},
     "output_type": "display_data"
    }
   ],
   "source": [
    "# build up the expression from sub-expressions\n",
    "expr = ExprTuple(Lambda([i, j, k, l], Conditional(shift_equiv_both, And(InSet(subtract(Add(j, one), i), Natural), Equals(Add(i, a), Add(k, b)), Equals(Add(j, a), Add(l, b))))))"
   ]
  },
  {
   "cell_type": "code",
   "execution_count": 3,
   "metadata": {},
   "outputs": [
    {
     "name": "stdout",
     "output_type": "stream",
     "text": [
      "Passed sanity check: expr matches stored_expr\n"
     ]
    }
   ],
   "source": [
    "# check that the built expression is the same as the stored expression\n",
    "assert expr == stored_expr\n",
    "assert expr._style_id == stored_expr._style_id\n",
    "print(\"Passed sanity check: expr matches stored_expr\")"
   ]
  },
  {
   "cell_type": "code",
   "execution_count": 4,
   "metadata": {},
   "outputs": [
    {
     "name": "stdout",
     "output_type": "stream",
     "text": [
      "\\left(\\left(i, j, k, l\\right) \\mapsto \\left\\{\\left(f\\left(i + a\\right), f\\left(\\left(i + 1\\right) + a\\right), \\ldots, f\\left(j + a\\right)\\right) = \\left(f\\left(k + b\\right), f\\left(\\left(k + 1\\right) + b\\right), \\ldots, f\\left(l + b\\right)\\right) \\textrm{ if } \\left(\\left(j + 1\\right) - i\\right) \\in \\mathbb{N} ,  \\left(i + a\\right) = \\left(k + b\\right) ,  \\left(j + a\\right) = \\left(l + b\\right)\\right..\\right)\n"
     ]
    }
   ],
   "source": [
    "# Show the LaTeX representation of the expression for convenience if you need it.\n",
    "print(stored_expr.latex())"
   ]
  },
  {
   "cell_type": "code",
   "execution_count": 5,
   "metadata": {},
   "outputs": [
    {
     "data": {
      "text/html": [
       "no style options"
      ],
      "text/plain": [
       "no style options"
      ]
     },
     "metadata": {},
     "output_type": "display_data"
    }
   ],
   "source": [
    "stored_expr.style_options()"
   ]
  },
  {
   "cell_type": "code",
   "execution_count": 6,
   "metadata": {},
   "outputs": [
    {
     "data": {
      "text/html": [
       "<table><tr><th>&nbsp;</th><th>core type</th><th>sub-expressions</th><th>expression</th></tr>\n",
       "<tr><td>0</td><td>ExprTuple</td><td>1</td><td><a class=\"ProveItLink\" href=\"expr.ipynb\"><img src=\"expr.png\" style=\"display:inline;vertical-align:middle;\" /></a></td></tr>\n",
       "<tr><td>1</td><td>Lambda</td><td>parameters:&nbsp;2<br>body:&nbsp;3<br></td><td><a class=\"ProveItLink\" href=\"../c777c3014073c639df104c6f7d302f38d804827c0/expr.ipynb\"><img src=\"../c777c3014073c639df104c6f7d302f38d804827c0/expr.png\" style=\"display:inline;vertical-align:middle;\" /></a></td></tr>\n",
       "<tr><td>2</td><td>ExprTuple</td><td>54, 52, 42, 43</td><td><a class=\"ProveItLink\" href=\"../c3cbae2b8169d5d4ab9bc9cc5183b3904e0ad5cb0/expr.ipynb\"><img src=\"../c3cbae2b8169d5d4ab9bc9cc5183b3904e0ad5cb0/expr.png\" style=\"display:inline;vertical-align:middle;\" /></a></td></tr>\n",
       "<tr><td>3</td><td>Conditional</td><td>value:&nbsp;4<br>condition:&nbsp;5<br></td><td><a class=\"ProveItLink\" href=\"../5588ea78cf10327cf3c4ed8c82260c64d2204ba20/expr.ipynb\"><img src=\"../5588ea78cf10327cf3c4ed8c82260c64d2204ba20/expr.png\" style=\"display:inline;vertical-align:middle;\" /></a></td></tr>\n",
       "<tr><td>4</td><td>Operation</td><td>operator:&nbsp;19<br>operands:&nbsp;6<br></td><td><a class=\"ProveItLink\" href=\"../../common/59e4ad55aa017bdd99ca12ea9d63ce379384130d0/expr.ipynb\"><img src=\"../../common/59e4ad55aa017bdd99ca12ea9d63ce379384130d0/expr.png\" style=\"display:inline;vertical-align:middle;\" /></a></td></tr>\n",
       "<tr><td>5</td><td>Operation</td><td>operator:&nbsp;7<br>operands:&nbsp;8<br></td><td><a class=\"ProveItLink\" href=\"../b3321a38558cfa41926972b5095bd8f1c289e5a00/expr.ipynb\"><img src=\"../b3321a38558cfa41926972b5095bd8f1c289e5a00/expr.png\" style=\"display:inline;vertical-align:middle;\" /></a></td></tr>\n",
       "<tr><td>6</td><td>ExprTuple</td><td>9, 10</td><td><a class=\"ProveItLink\" href=\"../../common/63c7207970a6d6400e9b0796daa234aab5de14690/expr.ipynb\"><img src=\"../../common/63c7207970a6d6400e9b0796daa234aab5de14690/expr.png\" style=\"display:inline;vertical-align:middle;\" /></a></td></tr>\n",
       "<tr><td>7</td><td>Literal</td><td></td><td><a class=\"ProveItLink\" href=\"../../../../../logic/booleans/conjunction/__pv_it/common/42118ff318bd65d98b1393f64ce7c2269feef76e0/expr.ipynb\"><img src=\"../../../../../logic/booleans/conjunction/__pv_it/common/42118ff318bd65d98b1393f64ce7c2269feef76e0/expr.png\" style=\"display:inline;vertical-align:middle;\" /></a></td></tr>\n",
       "<tr><td>8</td><td>ExprTuple</td><td>11, 12, 13</td><td><a class=\"ProveItLink\" href=\"../77cd229d7db0489da35aab709a9d94354d3e99050/expr.ipynb\"><img src=\"../77cd229d7db0489da35aab709a9d94354d3e99050/expr.png\" style=\"display:inline;vertical-align:middle;\" /></a></td></tr>\n",
       "<tr><td>9</td><td>ExprTuple</td><td>14</td><td><a class=\"ProveItLink\" href=\"../../common/e927bcb0e70833376dfe6ebefc8cbfa4fd7769690/expr.ipynb\"><img src=\"../../common/e927bcb0e70833376dfe6ebefc8cbfa4fd7769690/expr.png\" style=\"display:inline;vertical-align:middle;\" /></a></td></tr>\n",
       "<tr><td>10</td><td>ExprTuple</td><td>15</td><td><a class=\"ProveItLink\" href=\"../../common/414994e11665678ac0a243539ba2cae6d5ec88d30/expr.ipynb\"><img src=\"../../common/414994e11665678ac0a243539ba2cae6d5ec88d30/expr.png\" style=\"display:inline;vertical-align:middle;\" /></a></td></tr>\n",
       "<tr><td>11</td><td>Operation</td><td>operator:&nbsp;16<br>operands:&nbsp;17<br></td><td><a class=\"ProveItLink\" href=\"../a49f9d9780e8f8b2ad2bfc0d0ba1f066056651f30/expr.ipynb\"><img src=\"../a49f9d9780e8f8b2ad2bfc0d0ba1f066056651f30/expr.png\" style=\"display:inline;vertical-align:middle;\" /></a></td></tr>\n",
       "<tr><td>12</td><td>Operation</td><td>operator:&nbsp;19<br>operands:&nbsp;18<br></td><td><a class=\"ProveItLink\" href=\"../d5f8e861fc05280a3c4b97cbc548164fe440022b0/expr.ipynb\"><img src=\"../d5f8e861fc05280a3c4b97cbc548164fe440022b0/expr.png\" style=\"display:inline;vertical-align:middle;\" /></a></td></tr>\n",
       "<tr><td>13</td><td>Operation</td><td>operator:&nbsp;19<br>operands:&nbsp;20<br></td><td><a class=\"ProveItLink\" href=\"../7ddf1b64d88fa289f8589e26881fec2f86cbf3990/expr.ipynb\"><img src=\"../7ddf1b64d88fa289f8589e26881fec2f86cbf3990/expr.png\" style=\"display:inline;vertical-align:middle;\" /></a></td></tr>\n",
       "<tr><td>14</td><td>ExprRange</td><td>lambda_map:&nbsp;21<br>start_index:&nbsp;54<br>end_index:&nbsp;52<br></td><td><a class=\"ProveItLink\" href=\"../../common/60d6669fda7f87c976b17486a44217bfd05d95520/expr.ipynb\"><img src=\"../../common/60d6669fda7f87c976b17486a44217bfd05d95520/expr.png\" style=\"display:inline;vertical-align:middle;\" /></a></td></tr>\n",
       "<tr><td>15</td><td>ExprRange</td><td>lambda_map:&nbsp;22<br>start_index:&nbsp;42<br>end_index:&nbsp;43<br></td><td><a class=\"ProveItLink\" href=\"../../common/e5d71a5ab3659948f12130020f7c7062146e26590/expr.ipynb\"><img src=\"../../common/e5d71a5ab3659948f12130020f7c7062146e26590/expr.png\" style=\"display:inline;vertical-align:middle;\" /></a></td></tr>\n",
       "<tr><td>16</td><td>Literal</td><td></td><td><a class=\"ProveItLink\" href=\"../../../../../logic/sets/membership/__pv_it/common/477487d8796864d23d5810f83761435f25167f690/expr.ipynb\"><img src=\"../../../../../logic/sets/membership/__pv_it/common/477487d8796864d23d5810f83761435f25167f690/expr.png\" style=\"display:inline;vertical-align:middle;\" /></a></td></tr>\n",
       "<tr><td>17</td><td>ExprTuple</td><td>23, 24</td><td><a class=\"ProveItLink\" href=\"../468936c052dd71d7665fdee2f795fc1718106ad40/expr.ipynb\"><img src=\"../468936c052dd71d7665fdee2f795fc1718106ad40/expr.png\" style=\"display:inline;vertical-align:middle;\" /></a></td></tr>\n",
       "<tr><td>18</td><td>ExprTuple</td><td>25, 26</td><td><a class=\"ProveItLink\" href=\"../0221c2727dcc3f03e334af2da6ef855e69fa104f0/expr.ipynb\"><img src=\"../0221c2727dcc3f03e334af2da6ef855e69fa104f0/expr.png\" style=\"display:inline;vertical-align:middle;\" /></a></td></tr>\n",
       "<tr><td>19</td><td>Literal</td><td></td><td><a class=\"ProveItLink\" href=\"../../../../../logic/equality/__pv_it/common/fb96dc12b2aa8801dda64d0132b396c63d1502bb0/expr.ipynb\"><img src=\"../../../../../logic/equality/__pv_it/common/fb96dc12b2aa8801dda64d0132b396c63d1502bb0/expr.png\" style=\"display:inline;vertical-align:middle;\" /></a></td></tr>\n",
       "<tr><td>20</td><td>ExprTuple</td><td>27, 28</td><td><a class=\"ProveItLink\" href=\"../e7e2f2ec955d96e4d7cf37161872e5e9c4223ca90/expr.ipynb\"><img src=\"../e7e2f2ec955d96e4d7cf37161872e5e9c4223ca90/expr.png\" style=\"display:inline;vertical-align:middle;\" /></a></td></tr>\n",
       "<tr><td>21</td><td>Lambda</td><td>parameter:&nbsp;56<br>body:&nbsp;29<br></td><td><a class=\"ProveItLink\" href=\"../../common/93e504dd743f106cb84e8fc2eb0443f78bbd5b8f0/expr.ipynb\"><img src=\"../../common/93e504dd743f106cb84e8fc2eb0443f78bbd5b8f0/expr.png\" style=\"display:inline;vertical-align:middle;\" /></a></td></tr>\n",
       "<tr><td>22</td><td>Lambda</td><td>parameter:&nbsp;56<br>body:&nbsp;31<br></td><td><a class=\"ProveItLink\" href=\"../../common/93b3c87c9d890f4c6188b673b1e136da3021e7f20/expr.ipynb\"><img src=\"../../common/93b3c87c9d890f4c6188b673b1e136da3021e7f20/expr.png\" style=\"display:inline;vertical-align:middle;\" /></a></td></tr>\n",
       "<tr><td>23</td><td>Operation</td><td>operator:&nbsp;50<br>operands:&nbsp;32<br></td><td><a class=\"ProveItLink\" href=\"../590525331bb20a3217ebdffc7435439a7e691e4c0/expr.ipynb\"><img src=\"../590525331bb20a3217ebdffc7435439a7e691e4c0/expr.png\" style=\"display:inline;vertical-align:middle;\" /></a></td></tr>\n",
       "<tr><td>24</td><td>Literal</td><td></td><td><a class=\"ProveItLink\" href=\"../../../../../numbers/number_sets/natural_numbers/__pv_it/common/8b7c321957f52ed3b05b36af612eeae4fa4783bc0/expr.ipynb\"><img src=\"../../../../../numbers/number_sets/natural_numbers/__pv_it/common/8b7c321957f52ed3b05b36af612eeae4fa4783bc0/expr.png\" style=\"display:inline;vertical-align:middle;\" /></a></td></tr>\n",
       "<tr><td>25</td><td>Operation</td><td>operator:&nbsp;50<br>operands:&nbsp;33<br></td><td><a class=\"ProveItLink\" href=\"../1f6c1e7c66896be997237ef32c6b499ea970413a0/expr.ipynb\"><img src=\"../1f6c1e7c66896be997237ef32c6b499ea970413a0/expr.png\" style=\"display:inline;vertical-align:middle;\" /></a></td></tr>\n",
       "<tr><td>26</td><td>Operation</td><td>operator:&nbsp;50<br>operands:&nbsp;34<br></td><td><a class=\"ProveItLink\" href=\"../3f6a6321ce3fd59d424072f5d14253e19d1c9cb90/expr.ipynb\"><img src=\"../3f6a6321ce3fd59d424072f5d14253e19d1c9cb90/expr.png\" style=\"display:inline;vertical-align:middle;\" /></a></td></tr>\n",
       "<tr><td>27</td><td>Operation</td><td>operator:&nbsp;50<br>operands:&nbsp;35<br></td><td><a class=\"ProveItLink\" href=\"../d5a6559120991fe479046e55dff894a211fa768f0/expr.ipynb\"><img src=\"../d5a6559120991fe479046e55dff894a211fa768f0/expr.png\" style=\"display:inline;vertical-align:middle;\" /></a></td></tr>\n",
       "<tr><td>28</td><td>Operation</td><td>operator:&nbsp;50<br>operands:&nbsp;36<br></td><td><a class=\"ProveItLink\" href=\"../08f72e4ca1e3e240c0ac33fc12003959640a2ad80/expr.ipynb\"><img src=\"../08f72e4ca1e3e240c0ac33fc12003959640a2ad80/expr.png\" style=\"display:inline;vertical-align:middle;\" /></a></td></tr>\n",
       "<tr><td>29</td><td>Operation</td><td>operator:&nbsp;38<br>operand:&nbsp;44<br></td><td><a class=\"ProveItLink\" href=\"../../common/0c0c30f716d5f8aeebdbf9a994488cfa09430bf50/expr.ipynb\"><img src=\"../../common/0c0c30f716d5f8aeebdbf9a994488cfa09430bf50/expr.png\" style=\"display:inline;vertical-align:middle;\" /></a></td></tr>\n",
       "<tr><td>30</td><td>ExprTuple</td><td>56</td><td><a class=\"ProveItLink\" href=\"../../../../__pv_it/common/4b0dd6be36d76552eda6a95d5b4a27f5a5b62f900/expr.ipynb\"><img src=\"../../../../__pv_it/common/4b0dd6be36d76552eda6a95d5b4a27f5a5b62f900/expr.png\" style=\"display:inline;vertical-align:middle;\" /></a></td></tr>\n",
       "<tr><td>31</td><td>Operation</td><td>operator:&nbsp;38<br>operand:&nbsp;45<br></td><td><a class=\"ProveItLink\" href=\"../../common/152fa9093eb726787b7f425663047ea2dbf1f1f40/expr.ipynb\"><img src=\"../../common/152fa9093eb726787b7f425663047ea2dbf1f1f40/expr.png\" style=\"display:inline;vertical-align:middle;\" /></a></td></tr>\n",
       "<tr><td>32</td><td>ExprTuple</td><td>40, 41</td><td><a class=\"ProveItLink\" href=\"../214f5d727771bbec9da2102dd75f40e66945a58c0/expr.ipynb\"><img src=\"../214f5d727771bbec9da2102dd75f40e66945a58c0/expr.png\" style=\"display:inline;vertical-align:middle;\" /></a></td></tr>\n",
       "<tr><td>33</td><td>ExprTuple</td><td>54, 55</td><td><a class=\"ProveItLink\" href=\"../ec8811274a56713b6e68f2c45710c01d5941d07e0/expr.ipynb\"><img src=\"../ec8811274a56713b6e68f2c45710c01d5941d07e0/expr.png\" style=\"display:inline;vertical-align:middle;\" /></a></td></tr>\n",
       "<tr><td>34</td><td>ExprTuple</td><td>42, 57</td><td><a class=\"ProveItLink\" href=\"../7635458b893ed4de382f06f60494d4790838c3260/expr.ipynb\"><img src=\"../7635458b893ed4de382f06f60494d4790838c3260/expr.png\" style=\"display:inline;vertical-align:middle;\" /></a></td></tr>\n",
       "<tr><td>35</td><td>ExprTuple</td><td>52, 55</td><td><a class=\"ProveItLink\" href=\"../8fcec6b10000c8f938c3ef15371152ff069615c10/expr.ipynb\"><img src=\"../8fcec6b10000c8f938c3ef15371152ff069615c10/expr.png\" style=\"display:inline;vertical-align:middle;\" /></a></td></tr>\n",
       "<tr><td>36</td><td>ExprTuple</td><td>43, 57</td><td><a class=\"ProveItLink\" href=\"../5264096e458d0ad1bfe38d80dd5d2429eb47827a0/expr.ipynb\"><img src=\"../5264096e458d0ad1bfe38d80dd5d2429eb47827a0/expr.png\" style=\"display:inline;vertical-align:middle;\" /></a></td></tr>\n",
       "<tr><td>37</td><td>ExprTuple</td><td>44</td><td><a class=\"ProveItLink\" href=\"../../common/533f44533b898d309d939963bee1cac6fed865600/expr.ipynb\"><img src=\"../../common/533f44533b898d309d939963bee1cac6fed865600/expr.png\" style=\"display:inline;vertical-align:middle;\" /></a></td></tr>\n",
       "<tr><td>38</td><td>Variable</td><td></td><td><a class=\"ProveItLink\" href=\"../../../../../__pv_it/common/01b6dbb444a31fc38af4c2379badef6c75b363710/expr.ipynb\"><img src=\"../../../../../__pv_it/common/01b6dbb444a31fc38af4c2379badef6c75b363710/expr.png\" style=\"display:inline;vertical-align:middle;\" /></a></td></tr>\n",
       "<tr><td>39</td><td>ExprTuple</td><td>45</td><td><a class=\"ProveItLink\" href=\"../../common/3a4c194a2d3e008ac8d48c1d92d6d0cc77f4577f0/expr.ipynb\"><img src=\"../../common/3a4c194a2d3e008ac8d48c1d92d6d0cc77f4577f0/expr.png\" style=\"display:inline;vertical-align:middle;\" /></a></td></tr>\n",
       "<tr><td>40</td><td>Operation</td><td>operator:&nbsp;50<br>operands:&nbsp;46<br></td><td><a class=\"ProveItLink\" href=\"../../../../__pv_it/common/d0273df65d133a1f8883b8a3a163ce78774ce88e0/expr.ipynb\"><img src=\"../../../../__pv_it/common/d0273df65d133a1f8883b8a3a163ce78774ce88e0/expr.png\" style=\"display:inline;vertical-align:middle;\" /></a></td></tr>\n",
       "<tr><td>41</td><td>Operation</td><td>operator:&nbsp;47<br>operand:&nbsp;54<br></td><td><a class=\"ProveItLink\" href=\"../../../../__pv_it/common/8c734d503ad1059c44c9f2e4827f47823ef862820/expr.ipynb\"><img src=\"../../../../__pv_it/common/8c734d503ad1059c44c9f2e4827f47823ef862820/expr.png\" style=\"display:inline;vertical-align:middle;\" /></a></td></tr>\n",
       "<tr><td>42</td><td>Variable</td><td></td><td><a class=\"ProveItLink\" href=\"../../../../../__pv_it/common/63b7c64bf9ec7a04ecc396c7a1670f3f12fb59490/expr.ipynb\"><img src=\"../../../../../__pv_it/common/63b7c64bf9ec7a04ecc396c7a1670f3f12fb59490/expr.png\" style=\"display:inline;vertical-align:middle;\" /></a></td></tr>\n",
       "<tr><td>43</td><td>Variable</td><td></td><td><a class=\"ProveItLink\" href=\"../../../../../__pv_it/common/27cc275d44b4f4499fb9ccfb3fab1a98165d2fa60/expr.ipynb\"><img src=\"../../../../../__pv_it/common/27cc275d44b4f4499fb9ccfb3fab1a98165d2fa60/expr.png\" style=\"display:inline;vertical-align:middle;\" /></a></td></tr>\n",
       "<tr><td>44</td><td>Operation</td><td>operator:&nbsp;50<br>operands:&nbsp;49<br></td><td><a class=\"ProveItLink\" href=\"../../common/69712f9482749a1506d8972ee6fdd0ab8c9beefe0/expr.ipynb\"><img src=\"../../common/69712f9482749a1506d8972ee6fdd0ab8c9beefe0/expr.png\" style=\"display:inline;vertical-align:middle;\" /></a></td></tr>\n",
       "<tr><td>45</td><td>Operation</td><td>operator:&nbsp;50<br>operands:&nbsp;51<br></td><td><a class=\"ProveItLink\" href=\"../../common/4ac8e08059551af992561b139e5f69828e27ad2e0/expr.ipynb\"><img src=\"../../common/4ac8e08059551af992561b139e5f69828e27ad2e0/expr.png\" style=\"display:inline;vertical-align:middle;\" /></a></td></tr>\n",
       "<tr><td>46</td><td>ExprTuple</td><td>52, 53</td><td><a class=\"ProveItLink\" href=\"../../../../__pv_it/common/8b6ed1fad73893e4ad1245f0c4137f5451742f770/expr.ipynb\"><img src=\"../../../../__pv_it/common/8b6ed1fad73893e4ad1245f0c4137f5451742f770/expr.png\" style=\"display:inline;vertical-align:middle;\" /></a></td></tr>\n",
       "<tr><td>47</td><td>Literal</td><td></td><td><a class=\"ProveItLink\" href=\"../../../../../numbers/negation/__pv_it/common/221b3c4d1770ee9051b7c044c3f9ec61196fc34b0/expr.ipynb\"><img src=\"../../../../../numbers/negation/__pv_it/common/221b3c4d1770ee9051b7c044c3f9ec61196fc34b0/expr.png\" style=\"display:inline;vertical-align:middle;\" /></a></td></tr>\n",
       "<tr><td>48</td><td>ExprTuple</td><td>54</td><td><a class=\"ProveItLink\" href=\"../../../../__pv_it/common/0fc33550aa9740010879fdf30c320b63ba918eff0/expr.ipynb\"><img src=\"../../../../__pv_it/common/0fc33550aa9740010879fdf30c320b63ba918eff0/expr.png\" style=\"display:inline;vertical-align:middle;\" /></a></td></tr>\n",
       "<tr><td>49</td><td>ExprTuple</td><td>56, 55</td><td><a class=\"ProveItLink\" href=\"../../common/53f697b8f0c1800a83da6d87a6adf056dbac18ec0/expr.ipynb\"><img src=\"../../common/53f697b8f0c1800a83da6d87a6adf056dbac18ec0/expr.png\" style=\"display:inline;vertical-align:middle;\" /></a></td></tr>\n",
       "<tr><td>50</td><td>Literal</td><td></td><td><a class=\"ProveItLink\" href=\"../../../../../numbers/addition/__pv_it/common/4b7effaab3619a1c2c38fe2dee8601df8ec714590/expr.ipynb\"><img src=\"../../../../../numbers/addition/__pv_it/common/4b7effaab3619a1c2c38fe2dee8601df8ec714590/expr.png\" style=\"display:inline;vertical-align:middle;\" /></a></td></tr>\n",
       "<tr><td>51</td><td>ExprTuple</td><td>56, 57</td><td><a class=\"ProveItLink\" href=\"../../common/815db4c668abfd414c1a57704a879f45e6f71f710/expr.ipynb\"><img src=\"../../common/815db4c668abfd414c1a57704a879f45e6f71f710/expr.png\" style=\"display:inline;vertical-align:middle;\" /></a></td></tr>\n",
       "<tr><td>52</td><td>Variable</td><td></td><td><a class=\"ProveItLink\" href=\"../../../../../__pv_it/common/1ed21df18baca2f42b561a7ffbf30a2743d594650/expr.ipynb\"><img src=\"../../../../../__pv_it/common/1ed21df18baca2f42b561a7ffbf30a2743d594650/expr.png\" style=\"display:inline;vertical-align:middle;\" /></a></td></tr>\n",
       "<tr><td>53</td><td>Literal</td><td></td><td><a class=\"ProveItLink\" href=\"../../../../../numbers/numerals/__pv_it/common/682157d4892d216d9e5626ed533aff9b56b9506e0/expr.ipynb\"><img src=\"../../../../../numbers/numerals/__pv_it/common/682157d4892d216d9e5626ed533aff9b56b9506e0/expr.png\" style=\"display:inline;vertical-align:middle;\" /></a></td></tr>\n",
       "<tr><td>54</td><td>Variable</td><td></td><td><a class=\"ProveItLink\" href=\"../../../../../__pv_it/common/ae955345c83abf786c3aff8681cd5465beae262d0/expr.ipynb\"><img src=\"../../../../../__pv_it/common/ae955345c83abf786c3aff8681cd5465beae262d0/expr.png\" style=\"display:inline;vertical-align:middle;\" /></a></td></tr>\n",
       "<tr><td>55</td><td>Variable</td><td></td><td><a class=\"ProveItLink\" href=\"../../../../../__pv_it/common/c06c606ec12678c58933ac85412ecadc2ae28be60/expr.ipynb\"><img src=\"../../../../../__pv_it/common/c06c606ec12678c58933ac85412ecadc2ae28be60/expr.png\" style=\"display:inline;vertical-align:middle;\" /></a></td></tr>\n",
       "<tr><td>56</td><td>Variable</td><td></td><td><a class=\"ProveItLink\" href=\"../../../../__pv_it/common/006c465e50948aa2b52285e2de47974f741255cc0/expr.ipynb\"><img src=\"../../../../__pv_it/common/006c465e50948aa2b52285e2de47974f741255cc0/expr.png\" style=\"display:inline;vertical-align:middle;\" /></a></td></tr>\n",
       "<tr><td>57</td><td>Variable</td><td></td><td><a class=\"ProveItLink\" href=\"../../../../../__pv_it/common/195236b98c6c564a75b5dbada74b173bc52d5c3e0/expr.ipynb\"><img src=\"../../../../../__pv_it/common/195236b98c6c564a75b5dbada74b173bc52d5c3e0/expr.png\" style=\"display:inline;vertical-align:middle;\" /></a></td></tr>\n",
       "</table>\n"
      ],
      "text/plain": [
       "0. ((i, j, k, l) -> {(f(i + a), f((i + 1) + a), ..., f(j + a)) = (f(k + b), f((k + 1) + b), ..., f(l + b)) if ((j + 1) - i) in Natural ,  (i + a) = (k + b) ,  (j + a) = (l + b).)\n",
       "   core type: ExprTuple\n",
       "   sub-expressions: 1\n",
       "1. (i, j, k, l) -> {(f(i + a), f((i + 1) + a), ..., f(j + a)) = (f(k + b), f((k + 1) + b), ..., f(l + b)) if ((j + 1) - i) in Natural ,  (i + a) = (k + b) ,  (j + a) = (l + b).\n",
       "   core type: Lambda\n",
       "   parameters: 2\\n   body: 3\n",
       "2. (i, j, k, l)\n",
       "   core type: ExprTuple\n",
       "   sub-expressions: 54, 52, 42, 43\n",
       "3. {(f(i + a), f((i + 1) + a), ..., f(j + a)) = (f(k + b), f((k + 1) + b), ..., f(l + b)) if ((j + 1) - i) in Natural ,  (i + a) = (k + b) ,  (j + a) = (l + b).\n",
       "   core type: Conditional\n",
       "   value: 4\n",
       "   condition: 5\n",
       "4. (f(i + a), f((i + 1) + a), ..., f(j + a)) = (f(k + b), f((k + 1) + b), ..., f(l + b))\n",
       "   core type: Operation\n",
       "   operator: 19\n",
       "   operands: 6\n",
       "5. (((j + 1) - i) in Natural) and ((i + a) = (k + b)) and ((j + a) = (l + b))\n",
       "   core type: Operation\n",
       "   operator: 7\n",
       "   operands: 8\n",
       "6. ((f(i + a), f((i + 1) + a), ..., f(j + a)), (f(k + b), f((k + 1) + b), ..., f(l + b)))\n",
       "   core type: ExprTuple\n",
       "   sub-expressions: 9, 10\n",
       "7. and\n",
       "   core type: Literal\n",
       "   sub-expressions: \n",
       "8. (((j + 1) - i) in Natural, (i + a) = (k + b), (j + a) = (l + b))\n",
       "   core type: ExprTuple\n",
       "   sub-expressions: 11, 12, 13\n",
       "9. (f(i + a), f((i + 1) + a), ..., f(j + a))\n",
       "   core type: ExprTuple\n",
       "   sub-expressions: 14\n",
       "10. (f(k + b), f((k + 1) + b), ..., f(l + b))\n",
       "    core type: ExprTuple\n",
       "    sub-expressions: 15\n",
       "11. ((j + 1) - i) in Natural\n",
       "    core type: Operation\n",
       "    operator: 16\n",
       "    operands: 17\n",
       "12. (i + a) = (k + b)\n",
       "    core type: Operation\n",
       "    operator: 19\n",
       "    operands: 18\n",
       "13. (j + a) = (l + b)\n",
       "    core type: Operation\n",
       "    operator: 19\n",
       "    operands: 20\n",
       "14. f(i + a), f((i + 1) + a), ..., f(j + a)\n",
       "    core type: ExprRange\n",
       "    lambda_map: 21\n",
       "    start_index: 54\n",
       "    end_index: 52\n",
       "15. f(k + b), f((k + 1) + b), ..., f(l + b)\n",
       "    core type: ExprRange\n",
       "    lambda_map: 22\n",
       "    start_index: 42\n",
       "    end_index: 43\n",
       "16. in\n",
       "    core type: Literal\n",
       "    sub-expressions: \n",
       "17. ((j + 1) - i, Natural)\n",
       "    core type: ExprTuple\n",
       "    sub-expressions: 23, 24\n",
       "18. (i + a, k + b)\n",
       "    core type: ExprTuple\n",
       "    sub-expressions: 25, 26\n",
       "19. =\n",
       "    core type: Literal\n",
       "    sub-expressions: \n",
       "20. (j + a, l + b)\n",
       "    core type: ExprTuple\n",
       "    sub-expressions: 27, 28\n",
       "21. _a -> f(_a + a)\n",
       "    core type: Lambda\n",
       "    parameter: 56\n",
       "    body: 29\n",
       "22. _a -> f(_a + b)\n",
       "    core type: Lambda\n",
       "    parameter: 56\n",
       "    body: 31\n",
       "23. (j + 1) - i\n",
       "    core type: Operation\n",
       "    operator: 50\n",
       "    operands: 32\n",
       "24. Natural\n",
       "    core type: Literal\n",
       "    sub-expressions: \n",
       "25. i + a\n",
       "    core type: Operation\n",
       "    operator: 50\n",
       "    operands: 33\n",
       "26. k + b\n",
       "    core type: Operation\n",
       "    operator: 50\n",
       "    operands: 34\n",
       "27. j + a\n",
       "    core type: Operation\n",
       "    operator: 50\n",
       "    operands: 35\n",
       "28. l + b\n",
       "    core type: Operation\n",
       "    operator: 50\n",
       "    operands: 36\n",
       "29. f(_a + a)\n",
       "    core type: Operation\n",
       "    operator: 38\n",
       "    operand: 44\n",
       "30. (_a)\n",
       "    core type: ExprTuple\n",
       "    sub-expressions: 56\n",
       "31. f(_a + b)\n",
       "    core type: Operation\n",
       "    operator: 38\n",
       "    operand: 45\n",
       "32. (j + 1, -i)\n",
       "    core type: ExprTuple\n",
       "    sub-expressions: 40, 41\n",
       "33. (i, a)\n",
       "    core type: ExprTuple\n",
       "    sub-expressions: 54, 55\n",
       "34. (k, b)\n",
       "    core type: ExprTuple\n",
       "    sub-expressions: 42, 57\n",
       "35. (j, a)\n",
       "    core type: ExprTuple\n",
       "    sub-expressions: 52, 55\n",
       "36. (l, b)\n",
       "    core type: ExprTuple\n",
       "    sub-expressions: 43, 57\n",
       "37. (_a + a)\n",
       "    core type: ExprTuple\n",
       "    sub-expressions: 44\n",
       "38. f\n",
       "    core type: Variable\n",
       "    sub-expressions: \n",
       "39. (_a + b)\n",
       "    core type: ExprTuple\n",
       "    sub-expressions: 45\n",
       "40. j + 1\n",
       "    core type: Operation\n",
       "    operator: 50\n",
       "    operands: 46\n",
       "41. -i\n",
       "    core type: Operation\n",
       "    operator: 47\n",
       "    operand: 54\n",
       "42. k\n",
       "    core type: Variable\n",
       "    sub-expressions: \n",
       "43. l\n",
       "    core type: Variable\n",
       "    sub-expressions: \n",
       "44. _a + a\n",
       "    core type: Operation\n",
       "    operator: 50\n",
       "    operands: 49\n",
       "45. _a + b\n",
       "    core type: Operation\n",
       "    operator: 50\n",
       "    operands: 51\n",
       "46. (j, 1)\n",
       "    core type: ExprTuple\n",
       "    sub-expressions: 52, 53\n",
       "47. -\n",
       "    core type: Literal\n",
       "    sub-expressions: \n",
       "48. (i)\n",
       "    core type: ExprTuple\n",
       "    sub-expressions: 54\n",
       "49. (_a, a)\n",
       "    core type: ExprTuple\n",
       "    sub-expressions: 56, 55\n",
       "50. +\n",
       "    core type: Literal\n",
       "    sub-expressions: \n",
       "51. (_a, b)\n",
       "    core type: ExprTuple\n",
       "    sub-expressions: 56, 57\n",
       "52. j\n",
       "    core type: Variable\n",
       "    sub-expressions: \n",
       "53. 1\n",
       "    core type: Literal\n",
       "    sub-expressions: \n",
       "54. i\n",
       "    core type: Variable\n",
       "    sub-expressions: \n",
       "55. a\n",
       "    core type: Variable\n",
       "    sub-expressions: \n",
       "56. _a\n",
       "    core type: Variable\n",
       "    sub-expressions: \n",
       "57. b\n",
       "    core type: Variable\n",
       "    sub-expressions: "
      ]
     },
     "metadata": {},
     "output_type": "display_data"
    }
   ],
   "source": [
    "# display the expression information\n",
    "stored_expr.expr_info()"
   ]
  },
  {
   "cell_type": "code",
   "execution_count": null,
   "metadata": {},
   "outputs": [],
   "source": []
  }
 ],
 "metadata": {
  "kernelspec": {
   "display_name": "Python 3",
   "language": "python",
   "name": "python3"
  }
 },
 "nbformat": 4,
 "nbformat_minor": 0
}