{
 "cells": [
  {
   "cell_type": "markdown",
   "metadata": {},
   "source": [
    "Theorem <a class=\"ProveItLink\" href=\"../../../_theorems_.ipynb#tuple_neq_via_any_elem_neq\">tuple_neq_via_any_elem_neq</a> of type <a class=\"ProveItLink\" href=\"../../../../../../../doc/html/api/proveit.logic.Forall.html\">Forall</a>\n",
    "=======================\n",
    "# from the theory of <a class=\"ProveItLink\" href=\"../../../_theory_nbs_/theory.ipynb\">proveit.core_expr_types.tuples</a>\n",
    "*** see <a class=\"ProveItLink\" href=\"dependencies.ipynb\">dependencies</a> ***"
   ]
  },
  {
   "cell_type": "code",
   "execution_count": 1,
   "metadata": {},
   "outputs": [],
   "source": [
    "import proveit\n",
    "# Automation is not needed when only building an expression:\n",
    "proveit.defaults.automation = False # This will speed things up.\n",
    "proveit.defaults.inline_pngs = False # Makes files smaller.\n",
    "%load_theorem_expr # Load the stored theorem expression as 'stored_expr'\n",
    "# import the special expression\n",
    "from proveit.core_expr_types.tuples import tuple_neq_via_any_elem_neq"
   ]
  },
  {
   "cell_type": "code",
   "execution_count": 2,
   "metadata": {},
   "outputs": [
    {
     "name": "stdout",
     "output_type": "stream",
     "text": [
      "Passed sanity check: tuple_neq_via_any_elem_neq matches stored_expr\n"
     ]
    }
   ],
   "source": [
    "# check that the built expression is the same as the stored expression\n",
    "assert tuple_neq_via_any_elem_neq.expr == stored_expr\n",
    "assert tuple_neq_via_any_elem_neq.expr._style_id == stored_expr._style_id\n",
    "print(\"Passed sanity check: tuple_neq_via_any_elem_neq matches stored_expr\")"
   ]
  },
  {
   "cell_type": "code",
   "execution_count": 3,
   "metadata": {},
   "outputs": [
    {
     "name": "stdout",
     "output_type": "stream",
     "text": [
      "\\forall_{i \\in \\mathbb{N}^+}~\\left[\\forall_{a_{1}, a_{2}, \\ldots, a_{i}, b_{1}, b_{2}, \\ldots, b_{i}~|~\\left(a_{1} \\neq b_{1}\\right) \\lor  \\left(a_{2} \\neq b_{2}\\right) \\lor  \\ldots \\lor  \\left(a_{i} \\neq b_{i}\\right)}~\\left(\\left(a_{1}, a_{2}, \\ldots, a_{i}\\right) \\neq \\left(b_{1}, b_{2}, \\ldots, b_{i}\\right)\\right)\\right]\n"
     ]
    }
   ],
   "source": [
    "# Show the LaTeX representation of the expression for convenience if you need it.\n",
    "print(stored_expr.latex())"
   ]
  },
  {
   "cell_type": "code",
   "execution_count": 4,
   "metadata": {},
   "outputs": [
    {
     "data": {
      "text/html": [
       "<table>\n",
       "<tr><th>name</th><th>description</th><th>default</th><th>current value</th><th>related methods</th></tr><tr><td>with_wrapping</td><td>If 'True', wrap the Expression after the parameters</td><td>None</td><td>None/False</td><td>('with_wrapping',)</td></tr>\n",
       "<tr><td>condition_wrapping</td><td>Wrap 'before' or 'after' the condition (or None).</td><td>None</td><td>None/False</td><td>('with_wrap_after_condition', 'with_wrap_before_condition')</td></tr>\n",
       "<tr><td>wrap_params</td><td>If 'True', wraps every two parameters AND wraps the Expression after the parameters</td><td>None</td><td>None/False</td><td>('with_params',)</td></tr>\n",
       "<tr><td>justification</td><td>justify to the 'left', 'center', or 'right' in the array cells</td><td>center</td><td>center</td><td>('with_justification',)</td></tr>\n",
       "</table>\n"
      ],
      "text/plain": [
       "style name: with_wrapping\n",
       "description: If 'True', wrap the Expression after the parameters\n",
       "default: None\n",
       "current value: None/False\n",
       "related methods: ('with_wrapping',)\n",
       "style name: condition_wrapping\n",
       "description: Wrap 'before' or 'after' the condition (or None).\n",
       "default: None\n",
       "current value: None/False\n",
       "related methods: ('with_wrap_after_condition', 'with_wrap_before_condition')\n",
       "style name: wrap_params\n",
       "description: If 'True', wraps every two parameters AND wraps the Expression after the parameters\n",
       "default: None\n",
       "current value: None/False\n",
       "related methods: ('with_params',)\n",
       "style name: justification\n",
       "description: justify to the 'left', 'center', or 'right' in the array cells\n",
       "default: center\n",
       "current value: center\n",
       "related methods: ('with_justification',)"
      ]
     },
     "metadata": {},
     "output_type": "display_data"
    }
   ],
   "source": [
    "stored_expr.style_options()"
   ]
  },
  {
   "cell_type": "code",
   "execution_count": 5,
   "metadata": {},
   "outputs": [
    {
     "data": {
      "text/html": [
       "<table><tr><th>&nbsp;</th><th>core type</th><th>sub-expressions</th><th>expression</th></tr>\n",
       "<tr><td>0</td><td>Operation</td><td>operator:&nbsp;7<br>operand:&nbsp;2<br></td><td><a class=\"ProveItLink\" href=\"../18388f93bc8d8a8dd901c2d386713a2301408ece0/expr.ipynb\"><img src=\"../18388f93bc8d8a8dd901c2d386713a2301408ece0/expr.png\" style=\"display:inline;vertical-align:middle;\" /></a></td></tr>\n",
       "<tr><td>1</td><td>ExprTuple</td><td>2</td><td><a class=\"ProveItLink\" href=\"../9afffbade38b9e103f8eb656943bfd2178034c6a0/expr.ipynb\"><img src=\"../9afffbade38b9e103f8eb656943bfd2178034c6a0/expr.png\" style=\"display:inline;vertical-align:middle;\" /></a></td></tr>\n",
       "<tr><td>2</td><td>Lambda</td><td>parameter:&nbsp;29<br>body:&nbsp;4<br></td><td><a class=\"ProveItLink\" href=\"../bd520ab8d98b617ede2a859886da03e77904a4060/expr.ipynb\"><img src=\"../bd520ab8d98b617ede2a859886da03e77904a4060/expr.png\" style=\"display:inline;vertical-align:middle;\" /></a></td></tr>\n",
       "<tr><td>3</td><td>ExprTuple</td><td>29</td><td><a class=\"ProveItLink\" href=\"../../../../__pv_it/common/0fc33550aa9740010879fdf30c320b63ba918eff0/expr.ipynb\"><img src=\"../../../../__pv_it/common/0fc33550aa9740010879fdf30c320b63ba918eff0/expr.png\" style=\"display:inline;vertical-align:middle;\" /></a></td></tr>\n",
       "<tr><td>4</td><td>Conditional</td><td>value:&nbsp;5<br>condition:&nbsp;6<br></td><td><a class=\"ProveItLink\" href=\"../a8d60110b775ec7511de069a599a9827f4031e930/expr.ipynb\"><img src=\"../a8d60110b775ec7511de069a599a9827f4031e930/expr.png\" style=\"display:inline;vertical-align:middle;\" /></a></td></tr>\n",
       "<tr><td>5</td><td>Operation</td><td>operator:&nbsp;7<br>operand:&nbsp;11<br></td><td><a class=\"ProveItLink\" href=\"../ccc7fbc5e57dc72dc39b15a8c62e29c22bf933a40/expr.ipynb\"><img src=\"../ccc7fbc5e57dc72dc39b15a8c62e29c22bf933a40/expr.png\" style=\"display:inline;vertical-align:middle;\" /></a></td></tr>\n",
       "<tr><td>6</td><td>Operation</td><td>operator:&nbsp;9<br>operands:&nbsp;10<br></td><td><a class=\"ProveItLink\" href=\"../25affb7a8c81ead7ae47a3a75d143c7ed8067f4d0/expr.ipynb\"><img src=\"../25affb7a8c81ead7ae47a3a75d143c7ed8067f4d0/expr.png\" style=\"display:inline;vertical-align:middle;\" /></a></td></tr>\n",
       "<tr><td>7</td><td>Literal</td><td></td><td><a class=\"ProveItLink\" href=\"../../../../../logic/booleans/quantification/universality/__pv_it/common/083d2baa0b8ecab1d230f9ec29a15aa1355809fb0/expr.ipynb\"><img src=\"../../../../../logic/booleans/quantification/universality/__pv_it/common/083d2baa0b8ecab1d230f9ec29a15aa1355809fb0/expr.png\" style=\"display:inline;vertical-align:middle;\" /></a></td></tr>\n",
       "<tr><td>8</td><td>ExprTuple</td><td>11</td><td><a class=\"ProveItLink\" href=\"../6554174d1de912744d122693b032a1e03e67a1c90/expr.ipynb\"><img src=\"../6554174d1de912744d122693b032a1e03e67a1c90/expr.png\" style=\"display:inline;vertical-align:middle;\" /></a></td></tr>\n",
       "<tr><td>9</td><td>Literal</td><td></td><td><a class=\"ProveItLink\" href=\"../../../../../logic/sets/membership/__pv_it/common/477487d8796864d23d5810f83761435f25167f690/expr.ipynb\"><img src=\"../../../../../logic/sets/membership/__pv_it/common/477487d8796864d23d5810f83761435f25167f690/expr.png\" style=\"display:inline;vertical-align:middle;\" /></a></td></tr>\n",
       "<tr><td>10</td><td>ExprTuple</td><td>29, 12</td><td><a class=\"ProveItLink\" href=\"../d61b4452898dd077c102c9107cc83cb672d976200/expr.ipynb\"><img src=\"../d61b4452898dd077c102c9107cc83cb672d976200/expr.png\" style=\"display:inline;vertical-align:middle;\" /></a></td></tr>\n",
       "<tr><td>11</td><td>Lambda</td><td>parameters:&nbsp;13<br>body:&nbsp;14<br></td><td><a class=\"ProveItLink\" href=\"../12bc0ca59951e206faacfa7ce945f86acacf548e0/expr.ipynb\"><img src=\"../12bc0ca59951e206faacfa7ce945f86acacf548e0/expr.png\" style=\"display:inline;vertical-align:middle;\" /></a></td></tr>\n",
       "<tr><td>12</td><td>Literal</td><td></td><td><a class=\"ProveItLink\" href=\"../../../../../numbers/number_sets/natural_numbers/__pv_it/common/6111329435c43892c831c4793de96afbf80bdb3e0/expr.ipynb\"><img src=\"../../../../../numbers/number_sets/natural_numbers/__pv_it/common/6111329435c43892c831c4793de96afbf80bdb3e0/expr.png\" style=\"display:inline;vertical-align:middle;\" /></a></td></tr>\n",
       "<tr><td>13</td><td>ExprTuple</td><td>23, 24</td><td><a class=\"ProveItLink\" href=\"../24165d8271721a46874f99ca2bf4fd20fafd17200/expr.ipynb\"><img src=\"../24165d8271721a46874f99ca2bf4fd20fafd17200/expr.png\" style=\"display:inline;vertical-align:middle;\" /></a></td></tr>\n",
       "<tr><td>14</td><td>Conditional</td><td>value:&nbsp;15<br>condition:&nbsp;16<br></td><td><a class=\"ProveItLink\" href=\"../9b623f935054219da8ac6b1bdaf42b6d51e941670/expr.ipynb\"><img src=\"../9b623f935054219da8ac6b1bdaf42b6d51e941670/expr.png\" style=\"display:inline;vertical-align:middle;\" /></a></td></tr>\n",
       "<tr><td>15</td><td>Operation</td><td>operator:&nbsp;31<br>operands:&nbsp;17<br></td><td><a class=\"ProveItLink\" href=\"../f623cb031e886011a050ec59ae4faf32d9b38eb10/expr.ipynb\"><img src=\"../f623cb031e886011a050ec59ae4faf32d9b38eb10/expr.png\" style=\"display:inline;vertical-align:middle;\" /></a></td></tr>\n",
       "<tr><td>16</td><td>Operation</td><td>operator:&nbsp;18<br>operands:&nbsp;19<br></td><td><a class=\"ProveItLink\" href=\"../b906a0ffb1afb773ce3394de6c22878c118f59c10/expr.ipynb\"><img src=\"../b906a0ffb1afb773ce3394de6c22878c118f59c10/expr.png\" style=\"display:inline;vertical-align:middle;\" /></a></td></tr>\n",
       "<tr><td>17</td><td>ExprTuple</td><td>20, 21</td><td><a class=\"ProveItLink\" href=\"../ac9ac9865d259401a54161118a85219c2310f7df0/expr.ipynb\"><img src=\"../ac9ac9865d259401a54161118a85219c2310f7df0/expr.png\" style=\"display:inline;vertical-align:middle;\" /></a></td></tr>\n",
       "<tr><td>18</td><td>Literal</td><td></td><td><a class=\"ProveItLink\" href=\"../../../../../logic/booleans/disjunction/__pv_it/common/ef8e59262ff8e0133aa1ca984dd6b3a41bf69d5b0/expr.ipynb\"><img src=\"../../../../../logic/booleans/disjunction/__pv_it/common/ef8e59262ff8e0133aa1ca984dd6b3a41bf69d5b0/expr.png\" style=\"display:inline;vertical-align:middle;\" /></a></td></tr>\n",
       "<tr><td>19</td><td>ExprTuple</td><td>22</td><td><a class=\"ProveItLink\" href=\"../2a561b585a9da63a27a304dc6de1d46c462e10240/expr.ipynb\"><img src=\"../2a561b585a9da63a27a304dc6de1d46c462e10240/expr.png\" style=\"display:inline;vertical-align:middle;\" /></a></td></tr>\n",
       "<tr><td>20</td><td>ExprTuple</td><td>23</td><td><a class=\"ProveItLink\" href=\"../2c196e25eb75441998cc38de7042eaf6940c703f0/expr.ipynb\"><img src=\"../2c196e25eb75441998cc38de7042eaf6940c703f0/expr.png\" style=\"display:inline;vertical-align:middle;\" /></a></td></tr>\n",
       "<tr><td>21</td><td>ExprTuple</td><td>24</td><td><a class=\"ProveItLink\" href=\"../6a0ddbb330db04bdf84c543a5561627b1a7c1a540/expr.ipynb\"><img src=\"../6a0ddbb330db04bdf84c543a5561627b1a7c1a540/expr.png\" style=\"display:inline;vertical-align:middle;\" /></a></td></tr>\n",
       "<tr><td>22</td><td>ExprRange</td><td>lambda_map:&nbsp;25<br>start_index:&nbsp;28<br>end_index:&nbsp;29<br></td><td><a class=\"ProveItLink\" href=\"../32a32f4e29ef39360357287271862fdf9fc321550/expr.ipynb\"><img src=\"../32a32f4e29ef39360357287271862fdf9fc321550/expr.png\" style=\"display:inline;vertical-align:middle;\" /></a></td></tr>\n",
       "<tr><td>23</td><td>ExprRange</td><td>lambda_map:&nbsp;26<br>start_index:&nbsp;28<br>end_index:&nbsp;29<br></td><td><a class=\"ProveItLink\" href=\"../../../../__pv_it/common/7230c683fcd56948c826ac1be71b01b6fb2913950/expr.ipynb\"><img src=\"../../../../__pv_it/common/7230c683fcd56948c826ac1be71b01b6fb2913950/expr.png\" style=\"display:inline;vertical-align:middle;\" /></a></td></tr>\n",
       "<tr><td>24</td><td>ExprRange</td><td>lambda_map:&nbsp;27<br>start_index:&nbsp;28<br>end_index:&nbsp;29<br></td><td><a class=\"ProveItLink\" href=\"../../../../__pv_it/common/6614125435656057a807c01b2703aec599ab667b0/expr.ipynb\"><img src=\"../../../../__pv_it/common/6614125435656057a807c01b2703aec599ab667b0/expr.png\" style=\"display:inline;vertical-align:middle;\" /></a></td></tr>\n",
       "<tr><td>25</td><td>Lambda</td><td>parameter:&nbsp;38<br>body:&nbsp;30<br></td><td><a class=\"ProveItLink\" href=\"../40c3a30ffccd9d46d61aadc36c929bb8285668fa0/expr.ipynb\"><img src=\"../40c3a30ffccd9d46d61aadc36c929bb8285668fa0/expr.png\" style=\"display:inline;vertical-align:middle;\" /></a></td></tr>\n",
       "<tr><td>26</td><td>Lambda</td><td>parameter:&nbsp;38<br>body:&nbsp;33<br></td><td><a class=\"ProveItLink\" href=\"../../../../__pv_it/common/1527ad383e12f9c6ed6b371c9a7dd1892d80da1b0/expr.ipynb\"><img src=\"../../../../__pv_it/common/1527ad383e12f9c6ed6b371c9a7dd1892d80da1b0/expr.png\" style=\"display:inline;vertical-align:middle;\" /></a></td></tr>\n",
       "<tr><td>27</td><td>Lambda</td><td>parameter:&nbsp;38<br>body:&nbsp;34<br></td><td><a class=\"ProveItLink\" href=\"../../../../__pv_it/common/d763764ede9c88a33f4b750791da02d1a21cb6820/expr.ipynb\"><img src=\"../../../../__pv_it/common/d763764ede9c88a33f4b750791da02d1a21cb6820/expr.png\" style=\"display:inline;vertical-align:middle;\" /></a></td></tr>\n",
       "<tr><td>28</td><td>Literal</td><td></td><td><a class=\"ProveItLink\" href=\"../../../../../numbers/numerals/__pv_it/common/682157d4892d216d9e5626ed533aff9b56b9506e0/expr.ipynb\"><img src=\"../../../../../numbers/numerals/__pv_it/common/682157d4892d216d9e5626ed533aff9b56b9506e0/expr.png\" style=\"display:inline;vertical-align:middle;\" /></a></td></tr>\n",
       "<tr><td>29</td><td>Variable</td><td></td><td><a class=\"ProveItLink\" href=\"../../../../../__pv_it/common/ae955345c83abf786c3aff8681cd5465beae262d0/expr.ipynb\"><img src=\"../../../../../__pv_it/common/ae955345c83abf786c3aff8681cd5465beae262d0/expr.png\" style=\"display:inline;vertical-align:middle;\" /></a></td></tr>\n",
       "<tr><td>30</td><td>Operation</td><td>operator:&nbsp;31<br>operands:&nbsp;32<br></td><td><a class=\"ProveItLink\" href=\"../1cb4cf53c10a918b2fcabbacc76a2009053171d70/expr.ipynb\"><img src=\"../1cb4cf53c10a918b2fcabbacc76a2009053171d70/expr.png\" style=\"display:inline;vertical-align:middle;\" /></a></td></tr>\n",
       "<tr><td>31</td><td>Literal</td><td></td><td><a class=\"ProveItLink\" href=\"../../../../../logic/equality/__pv_it/common/d96270bc9bb1bad54f773b1c04bfb343a739642c0/expr.ipynb\"><img src=\"../../../../../logic/equality/__pv_it/common/d96270bc9bb1bad54f773b1c04bfb343a739642c0/expr.png\" style=\"display:inline;vertical-align:middle;\" /></a></td></tr>\n",
       "<tr><td>32</td><td>ExprTuple</td><td>33, 34</td><td><a class=\"ProveItLink\" href=\"../bba0807525d3fc2a75641fe92eca9a3a348d1c4f0/expr.ipynb\"><img src=\"../bba0807525d3fc2a75641fe92eca9a3a348d1c4f0/expr.png\" style=\"display:inline;vertical-align:middle;\" /></a></td></tr>\n",
       "<tr><td>33</td><td>IndexedVar</td><td>variable:&nbsp;35<br>index:&nbsp;38<br></td><td><a class=\"ProveItLink\" href=\"../../../../__pv_it/common/3a62c13e156d62d52fe585fa37cc2172fcf685260/expr.ipynb\"><img src=\"../../../../__pv_it/common/3a62c13e156d62d52fe585fa37cc2172fcf685260/expr.png\" style=\"display:inline;vertical-align:middle;\" /></a></td></tr>\n",
       "<tr><td>34</td><td>IndexedVar</td><td>variable:&nbsp;36<br>index:&nbsp;38<br></td><td><a class=\"ProveItLink\" href=\"../../../../__pv_it/common/8542342c36565a593724a99f9c08d995c1c21af20/expr.ipynb\"><img src=\"../../../../__pv_it/common/8542342c36565a593724a99f9c08d995c1c21af20/expr.png\" style=\"display:inline;vertical-align:middle;\" /></a></td></tr>\n",
       "<tr><td>35</td><td>Variable</td><td></td><td><a class=\"ProveItLink\" href=\"../../../../../__pv_it/common/c06c606ec12678c58933ac85412ecadc2ae28be60/expr.ipynb\"><img src=\"../../../../../__pv_it/common/c06c606ec12678c58933ac85412ecadc2ae28be60/expr.png\" style=\"display:inline;vertical-align:middle;\" /></a></td></tr>\n",
       "<tr><td>36</td><td>Variable</td><td></td><td><a class=\"ProveItLink\" href=\"../../../../../__pv_it/common/195236b98c6c564a75b5dbada74b173bc52d5c3e0/expr.ipynb\"><img src=\"../../../../../__pv_it/common/195236b98c6c564a75b5dbada74b173bc52d5c3e0/expr.png\" style=\"display:inline;vertical-align:middle;\" /></a></td></tr>\n",
       "<tr><td>37</td><td>ExprTuple</td><td>38</td><td><a class=\"ProveItLink\" href=\"../../../../__pv_it/common/4b0dd6be36d76552eda6a95d5b4a27f5a5b62f900/expr.ipynb\"><img src=\"../../../../__pv_it/common/4b0dd6be36d76552eda6a95d5b4a27f5a5b62f900/expr.png\" style=\"display:inline;vertical-align:middle;\" /></a></td></tr>\n",
       "<tr><td>38</td><td>Variable</td><td></td><td><a class=\"ProveItLink\" href=\"../../../../__pv_it/common/006c465e50948aa2b52285e2de47974f741255cc0/expr.ipynb\"><img src=\"../../../../__pv_it/common/006c465e50948aa2b52285e2de47974f741255cc0/expr.png\" style=\"display:inline;vertical-align:middle;\" /></a></td></tr>\n",
       "</table>\n"
      ],
      "text/plain": [
       "0. forall_{i in NaturalPos} [forall_{a_{1}, a_{2}, ..., a_{i}, b_{1}, b_{2}, ..., b_{i} | (a_{1} != b_{1}) or  (a_{2} != b_{2}) or  ... or  (a_{i} != b_{i})} ((a_{1}, a_{2}, ..., a_{i}) != (b_{1}, b_{2}, ..., b_{i}))]\n",
       "   core type: Operation\n",
       "   operator: 7\n",
       "   operand: 2\n",
       "1. (i -> {forall_{a_{1}, a_{2}, ..., a_{i}, b_{1}, b_{2}, ..., b_{i} | (a_{1} != b_{1}) or  (a_{2} != b_{2}) or  ... or  (a_{i} != b_{i})} ((a_{1}, a_{2}, ..., a_{i}) != (b_{1}, b_{2}, ..., b_{i})) if i in NaturalPos.)\n",
       "   core type: ExprTuple\n",
       "   sub-expressions: 2\n",
       "2. i -> {forall_{a_{1}, a_{2}, ..., a_{i}, b_{1}, b_{2}, ..., b_{i} | (a_{1} != b_{1}) or  (a_{2} != b_{2}) or  ... or  (a_{i} != b_{i})} ((a_{1}, a_{2}, ..., a_{i}) != (b_{1}, b_{2}, ..., b_{i})) if i in NaturalPos.\n",
       "   core type: Lambda\n",
       "   parameter: 29\n",
       "   body: 4\n",
       "3. (i)\n",
       "   core type: ExprTuple\n",
       "   sub-expressions: 29\n",
       "4. {forall_{a_{1}, a_{2}, ..., a_{i}, b_{1}, b_{2}, ..., b_{i} | (a_{1} != b_{1}) or  (a_{2} != b_{2}) or  ... or  (a_{i} != b_{i})} ((a_{1}, a_{2}, ..., a_{i}) != (b_{1}, b_{2}, ..., b_{i})) if i in NaturalPos.\n",
       "   core type: Conditional\n",
       "   value: 5\n",
       "   condition: 6\n",
       "5. forall_{a_{1}, a_{2}, ..., a_{i}, b_{1}, b_{2}, ..., b_{i} | (a_{1} != b_{1}) or  (a_{2} != b_{2}) or  ... or  (a_{i} != b_{i})} ((a_{1}, a_{2}, ..., a_{i}) != (b_{1}, b_{2}, ..., b_{i}))\n",
       "   core type: Operation\n",
       "   operator: 7\n",
       "   operand: 11\n",
       "6. i in NaturalPos\n",
       "   core type: Operation\n",
       "   operator: 9\n",
       "   operands: 10\n",
       "7. forall\n",
       "   core type: Literal\n",
       "   sub-expressions: \n",
       "8. ((a_{1}, a_{2}, ..., a_{i}, b_{1}, b_{2}, ..., b_{i}) -> {(a_{1}, a_{2}, ..., a_{i}) != (b_{1}, b_{2}, ..., b_{i}) if (a_{1} != b_{1}) or  (a_{2} != b_{2}) or  ... or  (a_{i} != b_{i}).)\n",
       "   core type: ExprTuple\n",
       "   sub-expressions: 11\n",
       "9. in\n",
       "   core type: Literal\n",
       "   sub-expressions: \n",
       "10. (i, NaturalPos)\n",
       "    core type: ExprTuple\n",
       "    sub-expressions: 29, 12\n",
       "11. (a_{1}, a_{2}, ..., a_{i}, b_{1}, b_{2}, ..., b_{i}) -> {(a_{1}, a_{2}, ..., a_{i}) != (b_{1}, b_{2}, ..., b_{i}) if (a_{1} != b_{1}) or  (a_{2} != b_{2}) or  ... or  (a_{i} != b_{i}).\n",
       "    core type: Lambda\n",
       "    parameters: 13\\n    body: 14\n",
       "12. NaturalPos\n",
       "    core type: Literal\n",
       "    sub-expressions: \n",
       "13. (a_{1}, a_{2}, ..., a_{i},b_{1}, b_{2}, ..., b_{i})\n",
       "    core type: ExprTuple\n",
       "    sub-expressions: 23, 24\n",
       "14. {(a_{1}, a_{2}, ..., a_{i}) != (b_{1}, b_{2}, ..., b_{i}) if (a_{1} != b_{1}) or  (a_{2} != b_{2}) or  ... or  (a_{i} != b_{i}).\n",
       "    core type: Conditional\n",
       "    value: 15\n",
       "    condition: 16\n",
       "15. (a_{1}, a_{2}, ..., a_{i}) != (b_{1}, b_{2}, ..., b_{i})\n",
       "    core type: Operation\n",
       "    operator: 31\n",
       "    operands: 17\n",
       "16. (a_{1} != b_{1}) or  (a_{2} != b_{2}) or  ... or  (a_{i} != b_{i})\n",
       "    core type: Operation\n",
       "    operator: 18\n",
       "    operands: 19\n",
       "17. ((a_{1}, a_{2}, ..., a_{i}), (b_{1}, b_{2}, ..., b_{i}))\n",
       "    core type: ExprTuple\n",
       "    sub-expressions: 20, 21\n",
       "18. or\n",
       "    core type: Literal\n",
       "    sub-expressions: \n",
       "19. ((a_{1} != b_{1}), (a_{2} != b_{2}), ..., (a_{i} != b_{i}))\n",
       "    core type: ExprTuple\n",
       "    sub-expressions: 22\n",
       "20. (a_{1}, a_{2}, ..., a_{i})\n",
       "    core type: ExprTuple\n",
       "    sub-expressions: 23\n",
       "21. (b_{1}, b_{2}, ..., b_{i})\n",
       "    core type: ExprTuple\n",
       "    sub-expressions: 24\n",
       "22. (a_{1} != b_{1}), (a_{2} != b_{2}), ..., (a_{i} != b_{i})\n",
       "    core type: ExprRange\n",
       "    lambda_map: 25\n",
       "    start_index: 28\n",
       "    end_index: 29\n",
       "23. a_{1}, a_{2}, ..., a_{i}\n",
       "    core type: ExprRange\n",
       "    lambda_map: 26\n",
       "    start_index: 28\n",
       "    end_index: 29\n",
       "24. b_{1}, b_{2}, ..., b_{i}\n",
       "    core type: ExprRange\n",
       "    lambda_map: 27\n",
       "    start_index: 28\n",
       "    end_index: 29\n",
       "25. _a -> (a_{_a} != b_{_a})\n",
       "    core type: Lambda\n",
       "    parameter: 38\n",
       "    body: 30\n",
       "26. _a -> a_{_a}\n",
       "    core type: Lambda\n",
       "    parameter: 38\n",
       "    body: 33\n",
       "27. _a -> b_{_a}\n",
       "    core type: Lambda\n",
       "    parameter: 38\n",
       "    body: 34\n",
       "28. 1\n",
       "    core type: Literal\n",
       "    sub-expressions: \n",
       "29. i\n",
       "    core type: Variable\n",
       "    sub-expressions: \n",
       "30. a_{_a} != b_{_a}\n",
       "    core type: Operation\n",
       "    operator: 31\n",
       "    operands: 32\n",
       "31. !=\n",
       "    core type: Literal\n",
       "    sub-expressions: \n",
       "32. (a_{_a}, b_{_a})\n",
       "    core type: ExprTuple\n",
       "    sub-expressions: 33, 34\n",
       "33. a_{_a}\n",
       "    core type: IndexedVar\n",
       "variable: 35\n",
       "index: 38\n",
       "34. b_{_a}\n",
       "    core type: IndexedVar\n",
       "variable: 36\n",
       "index: 38\n",
       "35. a\n",
       "    core type: Variable\n",
       "    sub-expressions: \n",
       "36. b\n",
       "    core type: Variable\n",
       "    sub-expressions: \n",
       "37. (_a)\n",
       "    core type: ExprTuple\n",
       "    sub-expressions: 38\n",
       "38. _a\n",
       "    core type: Variable\n",
       "    sub-expressions: "
      ]
     },
     "metadata": {},
     "output_type": "display_data"
    }
   ],
   "source": [
    "# display the expression information\n",
    "stored_expr.expr_info()"
   ]
  },
  {
   "cell_type": "code",
   "execution_count": null,
   "metadata": {},
   "outputs": [],
   "source": []
  }
 ],
 "metadata": {
  "kernelspec": {
   "display_name": "Python 3",
   "language": "python",
   "name": "python3"
  }
 },
 "nbformat": 4,
 "nbformat_minor": 0
}