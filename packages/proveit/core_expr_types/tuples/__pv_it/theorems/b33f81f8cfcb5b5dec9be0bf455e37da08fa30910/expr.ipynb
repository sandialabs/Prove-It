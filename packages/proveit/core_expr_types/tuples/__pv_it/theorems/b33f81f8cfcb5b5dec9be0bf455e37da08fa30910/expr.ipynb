{
 "cells": [
  {
   "cell_type": "markdown",
   "metadata": {},
   "source": [
    "Expression of type <a class=\"ProveItLink\" href=\"../../../../../../../doc/html/api/proveit.ExprTuple.html\">ExprTuple</a>\n",
    "=======================\n",
    "# from the theory of <a class=\"ProveItLink\" href=\"../../../_theory_nbs_/theory.ipynb\">proveit.core_expr_types.tuples</a>"
   ]
  },
  {
   "cell_type": "code",
   "execution_count": 1,
   "metadata": {},
   "outputs": [],
   "source": [
    "import proveit\n",
    "# Automation is not needed when building an expression:\n",
    "proveit.defaults.automation = False # This will speed things up.\n",
    "proveit.defaults.inline_pngs = False # Makes files smaller.\n",
    "%load_expr # Load the stored expression as 'stored_expr'\n",
    "# import Expression classes needed to build the expression\n",
    "from proveit import Conditional, ExprTuple, Lambda, i\n",
    "from proveit.core_expr_types import Len, a_1_to_i\n",
    "from proveit.logic import Equals, Forall, InSet\n",
    "from proveit.numbers import Natural"
   ]
  },
  {
   "cell_type": "code",
   "execution_count": 2,
   "metadata": {},
   "outputs": [
    {
     "data": {
      "text/html": [
       "<strong id=\"expr\">expr:</strong> <a class=\"ProveItLink\" href=\"expr.ipynb\"><img src=\"expr.png\" style=\"display:inline;vertical-align:middle;\" /></a><br>"
      ],
      "text/plain": [
       "<IPython.core.display.HTML object>"
      ]
     },
     "metadata": {},
     "output_type": "display_data"
    }
   ],
   "source": [
    "# build up the expression from sub-expressions\n",
    "sub_expr1 = [a_1_to_i]\n",
    "expr = ExprTuple(Lambda(i, Conditional(Forall(instance_param_or_params = sub_expr1, instance_expr = Equals(Len(operands = sub_expr1), i)), InSet(i, Natural))))"
   ]
  },
  {
   "cell_type": "code",
   "execution_count": 3,
   "metadata": {},
   "outputs": [
    {
     "name": "stdout",
     "output_type": "stream",
     "text": [
      "Passed sanity check: expr matches stored_expr\n"
     ]
    }
   ],
   "source": [
    "# check that the built expression is the same as the stored expression\n",
    "assert expr == stored_expr\n",
    "assert expr._style_id == stored_expr._style_id\n",
    "print(\"Passed sanity check: expr matches stored_expr\")"
   ]
  },
  {
   "cell_type": "code",
   "execution_count": 4,
   "metadata": {},
   "outputs": [
    {
     "name": "stdout",
     "output_type": "stream",
     "text": [
      "\\left(i \\mapsto \\left\\{\\forall_{a_{1}, a_{2}, \\ldots, a_{i}}~\\left(|\\left(a_{1}, a_{2}, \\ldots, a_{i}\\right)| = i\\right) \\textrm{ if } i \\in \\mathbb{N}\\right..\\right)\n"
     ]
    }
   ],
   "source": [
    "# Show the LaTeX representation of the expression for convenience if you need it.\n",
    "print(stored_expr.latex())"
   ]
  },
  {
   "cell_type": "code",
   "execution_count": 5,
   "metadata": {},
   "outputs": [
    {
     "data": {
      "text/html": [
       "no style options"
      ],
      "text/plain": [
       "no style options"
      ]
     },
     "metadata": {},
     "output_type": "display_data"
    }
   ],
   "source": [
    "stored_expr.style_options()"
   ]
  },
  {
   "cell_type": "code",
   "execution_count": 6,
   "metadata": {},
   "outputs": [
    {
     "data": {
      "text/html": [
       "<table><tr><th>&nbsp;</th><th>core type</th><th>sub-expressions</th><th>expression</th></tr>\n",
       "<tr><td>0</td><td>ExprTuple</td><td>1</td><td><a class=\"ProveItLink\" href=\"expr.ipynb\"><img src=\"expr.png\" style=\"display:inline;vertical-align:middle;\" /></a></td></tr>\n",
       "<tr><td>1</td><td>Lambda</td><td>parameter:&nbsp;21<br>body:&nbsp;3<br></td><td><a class=\"ProveItLink\" href=\"../b095cb75d3b86a3c74242c0d0d83309baedf35250/expr.ipynb\"><img src=\"../b095cb75d3b86a3c74242c0d0d83309baedf35250/expr.png\" style=\"display:inline;vertical-align:middle;\" /></a></td></tr>\n",
       "<tr><td>2</td><td>ExprTuple</td><td>21</td><td><a class=\"ProveItLink\" href=\"../../../../__pv_it/common/0fc33550aa9740010879fdf30c320b63ba918eff0/expr.ipynb\"><img src=\"../../../../__pv_it/common/0fc33550aa9740010879fdf30c320b63ba918eff0/expr.png\" style=\"display:inline;vertical-align:middle;\" /></a></td></tr>\n",
       "<tr><td>3</td><td>Conditional</td><td>value:&nbsp;4<br>condition:&nbsp;5<br></td><td><a class=\"ProveItLink\" href=\"../586080e6866beb41d5a86d415d377c99705f7ace0/expr.ipynb\"><img src=\"../586080e6866beb41d5a86d415d377c99705f7ace0/expr.png\" style=\"display:inline;vertical-align:middle;\" /></a></td></tr>\n",
       "<tr><td>4</td><td>Operation</td><td>operator:&nbsp;6<br>operand:&nbsp;10<br></td><td><a class=\"ProveItLink\" href=\"../09a1def3d06e5f58e5aec9a966c5d025a3109a720/expr.ipynb\"><img src=\"../09a1def3d06e5f58e5aec9a966c5d025a3109a720/expr.png\" style=\"display:inline;vertical-align:middle;\" /></a></td></tr>\n",
       "<tr><td>5</td><td>Operation</td><td>operator:&nbsp;8<br>operands:&nbsp;9<br></td><td><a class=\"ProveItLink\" href=\"../10cfe086dee5530e9b3b60486d89c6cb824c41920/expr.ipynb\"><img src=\"../10cfe086dee5530e9b3b60486d89c6cb824c41920/expr.png\" style=\"display:inline;vertical-align:middle;\" /></a></td></tr>\n",
       "<tr><td>6</td><td>Literal</td><td></td><td><a class=\"ProveItLink\" href=\"../../../../../logic/booleans/quantification/universality/__pv_it/common/083d2baa0b8ecab1d230f9ec29a15aa1355809fb0/expr.ipynb\"><img src=\"../../../../../logic/booleans/quantification/universality/__pv_it/common/083d2baa0b8ecab1d230f9ec29a15aa1355809fb0/expr.png\" style=\"display:inline;vertical-align:middle;\" /></a></td></tr>\n",
       "<tr><td>7</td><td>ExprTuple</td><td>10</td><td><a class=\"ProveItLink\" href=\"../694f2f2961ab49bf48d723a83cb492d7211d6d950/expr.ipynb\"><img src=\"../694f2f2961ab49bf48d723a83cb492d7211d6d950/expr.png\" style=\"display:inline;vertical-align:middle;\" /></a></td></tr>\n",
       "<tr><td>8</td><td>Literal</td><td></td><td><a class=\"ProveItLink\" href=\"../../../../../logic/sets/membership/__pv_it/common/477487d8796864d23d5810f83761435f25167f690/expr.ipynb\"><img src=\"../../../../../logic/sets/membership/__pv_it/common/477487d8796864d23d5810f83761435f25167f690/expr.png\" style=\"display:inline;vertical-align:middle;\" /></a></td></tr>\n",
       "<tr><td>9</td><td>ExprTuple</td><td>21, 11</td><td><a class=\"ProveItLink\" href=\"../1e0eb14b674d1cdf4a94a1df57c3bb998311774a0/expr.ipynb\"><img src=\"../1e0eb14b674d1cdf4a94a1df57c3bb998311774a0/expr.png\" style=\"display:inline;vertical-align:middle;\" /></a></td></tr>\n",
       "<tr><td>10</td><td>Lambda</td><td>parameters:&nbsp;17<br>body:&nbsp;12<br></td><td><a class=\"ProveItLink\" href=\"../4df6c35b64e857d01c1a2c1eb29042cf5f7f79760/expr.ipynb\"><img src=\"../4df6c35b64e857d01c1a2c1eb29042cf5f7f79760/expr.png\" style=\"display:inline;vertical-align:middle;\" /></a></td></tr>\n",
       "<tr><td>11</td><td>Literal</td><td></td><td><a class=\"ProveItLink\" href=\"../../../../../numbers/number_sets/natural_numbers/__pv_it/common/8b7c321957f52ed3b05b36af612eeae4fa4783bc0/expr.ipynb\"><img src=\"../../../../../numbers/number_sets/natural_numbers/__pv_it/common/8b7c321957f52ed3b05b36af612eeae4fa4783bc0/expr.png\" style=\"display:inline;vertical-align:middle;\" /></a></td></tr>\n",
       "<tr><td>12</td><td>Operation</td><td>operator:&nbsp;13<br>operands:&nbsp;14<br></td><td><a class=\"ProveItLink\" href=\"../3624f29f6fe2beea9c68c6082a13e143571d26700/expr.ipynb\"><img src=\"../3624f29f6fe2beea9c68c6082a13e143571d26700/expr.png\" style=\"display:inline;vertical-align:middle;\" /></a></td></tr>\n",
       "<tr><td>13</td><td>Literal</td><td></td><td><a class=\"ProveItLink\" href=\"../../../../../logic/equality/__pv_it/common/fb96dc12b2aa8801dda64d0132b396c63d1502bb0/expr.ipynb\"><img src=\"../../../../../logic/equality/__pv_it/common/fb96dc12b2aa8801dda64d0132b396c63d1502bb0/expr.png\" style=\"display:inline;vertical-align:middle;\" /></a></td></tr>\n",
       "<tr><td>14</td><td>ExprTuple</td><td>15, 21</td><td><a class=\"ProveItLink\" href=\"../e508eb99b7bdb4da04daf9a04f9144810e6be9280/expr.ipynb\"><img src=\"../e508eb99b7bdb4da04daf9a04f9144810e6be9280/expr.png\" style=\"display:inline;vertical-align:middle;\" /></a></td></tr>\n",
       "<tr><td>15</td><td>Operation</td><td>operator:&nbsp;16<br>operands:&nbsp;17<br></td><td><a class=\"ProveItLink\" href=\"../209914782a4b5a76d8e49489ac70eb7de7c4731d0/expr.ipynb\"><img src=\"../209914782a4b5a76d8e49489ac70eb7de7c4731d0/expr.png\" style=\"display:inline;vertical-align:middle;\" /></a></td></tr>\n",
       "<tr><td>16</td><td>Literal</td><td></td><td><a class=\"ProveItLink\" href=\"../../common/43df765abf1294d8f1fd177863f57f08bf5ad0080/expr.ipynb\"><img src=\"../../common/43df765abf1294d8f1fd177863f57f08bf5ad0080/expr.png\" style=\"display:inline;vertical-align:middle;\" /></a></td></tr>\n",
       "<tr><td>17</td><td>ExprTuple</td><td>18</td><td><a class=\"ProveItLink\" href=\"../2c196e25eb75441998cc38de7042eaf6940c703f0/expr.ipynb\"><img src=\"../2c196e25eb75441998cc38de7042eaf6940c703f0/expr.png\" style=\"display:inline;vertical-align:middle;\" /></a></td></tr>\n",
       "<tr><td>18</td><td>ExprRange</td><td>lambda_map:&nbsp;19<br>start_index:&nbsp;20<br>end_index:&nbsp;21<br></td><td><a class=\"ProveItLink\" href=\"../../../../__pv_it/common/7230c683fcd56948c826ac1be71b01b6fb2913950/expr.ipynb\"><img src=\"../../../../__pv_it/common/7230c683fcd56948c826ac1be71b01b6fb2913950/expr.png\" style=\"display:inline;vertical-align:middle;\" /></a></td></tr>\n",
       "<tr><td>19</td><td>Lambda</td><td>parameter:&nbsp;25<br>body:&nbsp;22<br></td><td><a class=\"ProveItLink\" href=\"../../../../__pv_it/common/1527ad383e12f9c6ed6b371c9a7dd1892d80da1b0/expr.ipynb\"><img src=\"../../../../__pv_it/common/1527ad383e12f9c6ed6b371c9a7dd1892d80da1b0/expr.png\" style=\"display:inline;vertical-align:middle;\" /></a></td></tr>\n",
       "<tr><td>20</td><td>Literal</td><td></td><td><a class=\"ProveItLink\" href=\"../../../../../numbers/numerals/__pv_it/common/682157d4892d216d9e5626ed533aff9b56b9506e0/expr.ipynb\"><img src=\"../../../../../numbers/numerals/__pv_it/common/682157d4892d216d9e5626ed533aff9b56b9506e0/expr.png\" style=\"display:inline;vertical-align:middle;\" /></a></td></tr>\n",
       "<tr><td>21</td><td>Variable</td><td></td><td><a class=\"ProveItLink\" href=\"../../../../../__pv_it/common/ae955345c83abf786c3aff8681cd5465beae262d0/expr.ipynb\"><img src=\"../../../../../__pv_it/common/ae955345c83abf786c3aff8681cd5465beae262d0/expr.png\" style=\"display:inline;vertical-align:middle;\" /></a></td></tr>\n",
       "<tr><td>22</td><td>IndexedVar</td><td>variable:&nbsp;23<br>index:&nbsp;25<br></td><td><a class=\"ProveItLink\" href=\"../../../../__pv_it/common/3a62c13e156d62d52fe585fa37cc2172fcf685260/expr.ipynb\"><img src=\"../../../../__pv_it/common/3a62c13e156d62d52fe585fa37cc2172fcf685260/expr.png\" style=\"display:inline;vertical-align:middle;\" /></a></td></tr>\n",
       "<tr><td>23</td><td>Variable</td><td></td><td><a class=\"ProveItLink\" href=\"../../../../../__pv_it/common/c06c606ec12678c58933ac85412ecadc2ae28be60/expr.ipynb\"><img src=\"../../../../../__pv_it/common/c06c606ec12678c58933ac85412ecadc2ae28be60/expr.png\" style=\"display:inline;vertical-align:middle;\" /></a></td></tr>\n",
       "<tr><td>24</td><td>ExprTuple</td><td>25</td><td><a class=\"ProveItLink\" href=\"../../../../__pv_it/common/4b0dd6be36d76552eda6a95d5b4a27f5a5b62f900/expr.ipynb\"><img src=\"../../../../__pv_it/common/4b0dd6be36d76552eda6a95d5b4a27f5a5b62f900/expr.png\" style=\"display:inline;vertical-align:middle;\" /></a></td></tr>\n",
       "<tr><td>25</td><td>Variable</td><td></td><td><a class=\"ProveItLink\" href=\"../../../../__pv_it/common/006c465e50948aa2b52285e2de47974f741255cc0/expr.ipynb\"><img src=\"../../../../__pv_it/common/006c465e50948aa2b52285e2de47974f741255cc0/expr.png\" style=\"display:inline;vertical-align:middle;\" /></a></td></tr>\n",
       "</table>\n"
      ],
      "text/plain": [
       "0. (i -> {forall_{a_{1}, a_{2}, ..., a_{i}} (|(a_{1}, a_{2}, ..., a_{i})| = i) if i in Natural.)\n",
       "   core type: ExprTuple\n",
       "   sub-expressions: 1\n",
       "1. i -> {forall_{a_{1}, a_{2}, ..., a_{i}} (|(a_{1}, a_{2}, ..., a_{i})| = i) if i in Natural.\n",
       "   core type: Lambda\n",
       "   parameter: 21\n",
       "   body: 3\n",
       "2. (i)\n",
       "   core type: ExprTuple\n",
       "   sub-expressions: 21\n",
       "3. {forall_{a_{1}, a_{2}, ..., a_{i}} (|(a_{1}, a_{2}, ..., a_{i})| = i) if i in Natural.\n",
       "   core type: Conditional\n",
       "   value: 4\n",
       "   condition: 5\n",
       "4. forall_{a_{1}, a_{2}, ..., a_{i}} (|(a_{1}, a_{2}, ..., a_{i})| = i)\n",
       "   core type: Operation\n",
       "   operator: 6\n",
       "   operand: 10\n",
       "5. i in Natural\n",
       "   core type: Operation\n",
       "   operator: 8\n",
       "   operands: 9\n",
       "6. forall\n",
       "   core type: Literal\n",
       "   sub-expressions: \n",
       "7. ((a_{1}, a_{2}, ..., a_{i}) -> (|(a_{1}, a_{2}, ..., a_{i})| = i))\n",
       "   core type: ExprTuple\n",
       "   sub-expressions: 10\n",
       "8. in\n",
       "   core type: Literal\n",
       "   sub-expressions: \n",
       "9. (i, Natural)\n",
       "   core type: ExprTuple\n",
       "   sub-expressions: 21, 11\n",
       "10. (a_{1}, a_{2}, ..., a_{i}) -> (|(a_{1}, a_{2}, ..., a_{i})| = i)\n",
       "    core type: Lambda\n",
       "    parameters: 17\\n    body: 12\n",
       "11. Natural\n",
       "    core type: Literal\n",
       "    sub-expressions: \n",
       "12. |(a_{1}, a_{2}, ..., a_{i})| = i\n",
       "    core type: Operation\n",
       "    operator: 13\n",
       "    operands: 14\n",
       "13. =\n",
       "    core type: Literal\n",
       "    sub-expressions: \n",
       "14. (|(a_{1}, a_{2}, ..., a_{i})|, i)\n",
       "    core type: ExprTuple\n",
       "    sub-expressions: 15, 21\n",
       "15. |(a_{1}, a_{2}, ..., a_{i})|\n",
       "    core type: Operation\n",
       "    operator: 16\n",
       "    operands: 17\n",
       "16. length\n",
       "    core type: Literal\n",
       "    sub-expressions: \n",
       "17. (a_{1}, a_{2}, ..., a_{i})\n",
       "    core type: ExprTuple\n",
       "    sub-expressions: 18\n",
       "18. a_{1}, a_{2}, ..., a_{i}\n",
       "    core type: ExprRange\n",
       "    lambda_map: 19\n",
       "    start_index: 20\n",
       "    end_index: 21\n",
       "19. _a -> a_{_a}\n",
       "    core type: Lambda\n",
       "    parameter: 25\n",
       "    body: 22\n",
       "20. 1\n",
       "    core type: Literal\n",
       "    sub-expressions: \n",
       "21. i\n",
       "    core type: Variable\n",
       "    sub-expressions: \n",
       "22. a_{_a}\n",
       "    core type: IndexedVar\n",
       "variable: 23\n",
       "index: 25\n",
       "23. a\n",
       "    core type: Variable\n",
       "    sub-expressions: \n",
       "24. (_a)\n",
       "    core type: ExprTuple\n",
       "    sub-expressions: 25\n",
       "25. _a\n",
       "    core type: Variable\n",
       "    sub-expressions: "
      ]
     },
     "metadata": {},
     "output_type": "display_data"
    }
   ],
   "source": [
    "# display the expression information\n",
    "stored_expr.expr_info()"
   ]
  },
  {
   "cell_type": "code",
   "execution_count": null,
   "metadata": {},
   "outputs": [],
   "source": []
  }
 ],
 "metadata": {
  "kernelspec": {
   "display_name": "Python 3",
   "language": "python",
   "name": "python3"
  }
 },
 "nbformat": 4,
 "nbformat_minor": 0
}