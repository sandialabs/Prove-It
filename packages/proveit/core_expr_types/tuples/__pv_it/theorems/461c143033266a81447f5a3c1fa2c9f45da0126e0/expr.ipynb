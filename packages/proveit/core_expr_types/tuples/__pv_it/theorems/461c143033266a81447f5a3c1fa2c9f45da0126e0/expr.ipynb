{
 "cells": [
  {
   "cell_type": "markdown",
   "metadata": {},
   "source": [
    "Expression of type <a class=\"ProveItLink\" href=\"../../../../../../../doc/html/api/proveit.Lambda.html\">Lambda</a>\n",
    "=======================\n",
    "# from the theory of <a class=\"ProveItLink\" href=\"../../../_theory_nbs_/theory.ipynb\">proveit.core_expr_types.tuples</a>"
   ]
  },
  {
   "cell_type": "code",
   "execution_count": 1,
   "metadata": {},
   "outputs": [],
   "source": [
    "import proveit\n",
    "# Automation is not needed when building an expression:\n",
    "proveit.defaults.automation = False # This will speed things up.\n",
    "proveit.defaults.inline_pngs = False # Makes files smaller.\n",
    "%load_expr # Load the stored expression as 'stored_expr'\n",
    "# import Expression classes needed to build the expression\n",
    "from proveit import Conditional, ExprRange, Function, Lambda, Variable, f, i, j, m, n\n",
    "from proveit.logic import Equals\n",
    "from proveit.numbers import Add, one"
   ]
  },
  {
   "cell_type": "code",
   "execution_count": 2,
   "metadata": {},
   "outputs": [
    {
     "data": {
      "text/html": [
       "<strong id=\"expr\">expr:</strong> <a class=\"ProveItLink\" href=\"expr.ipynb\"><img src=\"expr.png\" style=\"display:inline;vertical-align:middle;\" /></a><br>"
      ],
      "text/plain": [
       "<IPython.core.display.HTML object>"
      ]
     },
     "metadata": {},
     "output_type": "display_data"
    }
   ],
   "source": [
    "# build up the expression from sub-expressions\n",
    "sub_expr1 = Variable(\"_b\", latex_format = r\"{_{-}b}\")\n",
    "sub_expr2 = Variable(\"_a\", latex_format = r\"{_{-}a}\")\n",
    "expr = Lambda([f, i, j, m, n], Conditional(Equals([ExprRange(sub_expr1, ExprRange(sub_expr2, Function(f, [sub_expr1, sub_expr2]), i, j), m, n)], []), Equals(Add(j, one), i)))"
   ]
  },
  {
   "cell_type": "code",
   "execution_count": 3,
   "metadata": {},
   "outputs": [
    {
     "name": "stdout",
     "output_type": "stream",
     "text": [
      "Passed sanity check: expr matches stored_expr\n"
     ]
    }
   ],
   "source": [
    "# check that the built expression is the same as the stored expression\n",
    "assert expr == stored_expr\n",
    "assert expr._style_id == stored_expr._style_id\n",
    "print(\"Passed sanity check: expr matches stored_expr\")"
   ]
  },
  {
   "cell_type": "code",
   "execution_count": 4,
   "metadata": {},
   "outputs": [
    {
     "name": "stdout",
     "output_type": "stream",
     "text": [
      "\\left(f, i, j, m, n\\right) \\mapsto \\left\\{\\left(f\\left(m, i\\right), f\\left(m, i + 1\\right), \\ldots, f\\left(m, j\\right), f\\left(m + 1, i\\right), f\\left(m + 1, i + 1\\right), \\ldots, f\\left(m + 1, j\\right), \\ldots\\ldots, f\\left(n, i\\right), f\\left(n, i + 1\\right), \\ldots, f\\left(n, j\\right)\\right) = () \\textrm{ if } \\left(j + 1\\right) = i\\right..\n"
     ]
    }
   ],
   "source": [
    "# Show the LaTeX representation of the expression for convenience if you need it.\n",
    "print(stored_expr.latex())"
   ]
  },
  {
   "cell_type": "code",
   "execution_count": 5,
   "metadata": {},
   "outputs": [
    {
     "data": {
      "text/html": [
       "no style options"
      ],
      "text/plain": [
       "no style options"
      ]
     },
     "metadata": {},
     "output_type": "display_data"
    }
   ],
   "source": [
    "stored_expr.style_options()"
   ]
  },
  {
   "cell_type": "code",
   "execution_count": 6,
   "metadata": {},
   "outputs": [
    {
     "data": {
      "text/html": [
       "<table><tr><th>&nbsp;</th><th>core type</th><th>sub-expressions</th><th>expression</th></tr>\n",
       "<tr><td>0</td><td>Lambda</td><td>parameters:&nbsp;1<br>body:&nbsp;2<br></td><td><a class=\"ProveItLink\" href=\"expr.ipynb\"><img src=\"expr.png\" style=\"display:inline;vertical-align:middle;\" /></a></td></tr>\n",
       "<tr><td>1</td><td>ExprTuple</td><td>25, 21, 22, 15, 16</td><td><a class=\"ProveItLink\" href=\"../a4b126cbe94766edd22892a59ed0f3c6cea85b0d0/expr.ipynb\"><img src=\"../a4b126cbe94766edd22892a59ed0f3c6cea85b0d0/expr.png\" style=\"display:inline;vertical-align:middle;\" /></a></td></tr>\n",
       "<tr><td>2</td><td>Conditional</td><td>value:&nbsp;3<br>condition:&nbsp;4<br></td><td><a class=\"ProveItLink\" href=\"../75a5842e879e78e2e2adc411f0d28bad1848e9730/expr.ipynb\"><img src=\"../75a5842e879e78e2e2adc411f0d28bad1848e9730/expr.png\" style=\"display:inline;vertical-align:middle;\" /></a></td></tr>\n",
       "<tr><td>3</td><td>Operation</td><td>operator:&nbsp;6<br>operands:&nbsp;5<br></td><td><a class=\"ProveItLink\" href=\"../77683447a173cd8b2c9f52bff57d18c6ea73da870/expr.ipynb\"><img src=\"../77683447a173cd8b2c9f52bff57d18c6ea73da870/expr.png\" style=\"display:inline;vertical-align:middle;\" /></a></td></tr>\n",
       "<tr><td>4</td><td>Operation</td><td>operator:&nbsp;6<br>operands:&nbsp;7<br></td><td><a class=\"ProveItLink\" href=\"../bb44a3614daff281ab5c9a90a6bfc6ed8fbc08cd0/expr.ipynb\"><img src=\"../bb44a3614daff281ab5c9a90a6bfc6ed8fbc08cd0/expr.png\" style=\"display:inline;vertical-align:middle;\" /></a></td></tr>\n",
       "<tr><td>5</td><td>ExprTuple</td><td>8, 9</td><td><a class=\"ProveItLink\" href=\"../2fd5f1b9ab34fa2835ae1779f099b23d90572de50/expr.ipynb\"><img src=\"../2fd5f1b9ab34fa2835ae1779f099b23d90572de50/expr.png\" style=\"display:inline;vertical-align:middle;\" /></a></td></tr>\n",
       "<tr><td>6</td><td>Literal</td><td></td><td><a class=\"ProveItLink\" href=\"../../../../../logic/equality/__pv_it/common/fb96dc12b2aa8801dda64d0132b396c63d1502bb0/expr.ipynb\"><img src=\"../../../../../logic/equality/__pv_it/common/fb96dc12b2aa8801dda64d0132b396c63d1502bb0/expr.png\" style=\"display:inline;vertical-align:middle;\" /></a></td></tr>\n",
       "<tr><td>7</td><td>ExprTuple</td><td>10, 21</td><td><a class=\"ProveItLink\" href=\"../72a91a2a50bc74e4706142112b5d0a87a8a28d2a0/expr.ipynb\"><img src=\"../72a91a2a50bc74e4706142112b5d0a87a8a28d2a0/expr.png\" style=\"display:inline;vertical-align:middle;\" /></a></td></tr>\n",
       "<tr><td>8</td><td>ExprTuple</td><td>11</td><td><a class=\"ProveItLink\" href=\"../2c8c208fe13b3bc8aa5b7f0b07df2f7a0ffba8000/expr.ipynb\"><img src=\"../2c8c208fe13b3bc8aa5b7f0b07df2f7a0ffba8000/expr.png\" style=\"display:inline;vertical-align:middle;\" /></a></td></tr>\n",
       "<tr><td>9</td><td>ExprTuple</td><td></td><td><a class=\"ProveItLink\" href=\"../1a4193f1deeaf7a4a6b6289328d46189ae6a257f0/expr.ipynb\"><img src=\"../1a4193f1deeaf7a4a6b6289328d46189ae6a257f0/expr.png\" style=\"display:inline;vertical-align:middle;\" /></a></td></tr>\n",
       "<tr><td>10</td><td>Operation</td><td>operator:&nbsp;12<br>operands:&nbsp;13<br></td><td><a class=\"ProveItLink\" href=\"../../../../__pv_it/common/d0273df65d133a1f8883b8a3a163ce78774ce88e0/expr.ipynb\"><img src=\"../../../../__pv_it/common/d0273df65d133a1f8883b8a3a163ce78774ce88e0/expr.png\" style=\"display:inline;vertical-align:middle;\" /></a></td></tr>\n",
       "<tr><td>11</td><td>ExprRange</td><td>lambda_map:&nbsp;14<br>start_index:&nbsp;15<br>end_index:&nbsp;16<br></td><td><a class=\"ProveItLink\" href=\"../4eb43c9ac66f9649136222764bdba08ed32a4cd00/expr.ipynb\"><img src=\"../4eb43c9ac66f9649136222764bdba08ed32a4cd00/expr.png\" style=\"display:inline;vertical-align:middle;\" /></a></td></tr>\n",
       "<tr><td>12</td><td>Literal</td><td></td><td><a class=\"ProveItLink\" href=\"../../../../../numbers/addition/__pv_it/common/4b7effaab3619a1c2c38fe2dee8601df8ec714590/expr.ipynb\"><img src=\"../../../../../numbers/addition/__pv_it/common/4b7effaab3619a1c2c38fe2dee8601df8ec714590/expr.png\" style=\"display:inline;vertical-align:middle;\" /></a></td></tr>\n",
       "<tr><td>13</td><td>ExprTuple</td><td>22, 17</td><td><a class=\"ProveItLink\" href=\"../../../../__pv_it/common/8b6ed1fad73893e4ad1245f0c4137f5451742f770/expr.ipynb\"><img src=\"../../../../__pv_it/common/8b6ed1fad73893e4ad1245f0c4137f5451742f770/expr.png\" style=\"display:inline;vertical-align:middle;\" /></a></td></tr>\n",
       "<tr><td>14</td><td>Lambda</td><td>parameter:&nbsp;27<br>body:&nbsp;19<br></td><td><a class=\"ProveItLink\" href=\"../b48064dcf8f38ad24b5fc16c1d588a6fb324ca9b0/expr.ipynb\"><img src=\"../b48064dcf8f38ad24b5fc16c1d588a6fb324ca9b0/expr.png\" style=\"display:inline;vertical-align:middle;\" /></a></td></tr>\n",
       "<tr><td>15</td><td>Variable</td><td></td><td><a class=\"ProveItLink\" href=\"../../../../../__pv_it/common/674a03b9c3ca221b3aabd5636837b31528ff33830/expr.ipynb\"><img src=\"../../../../../__pv_it/common/674a03b9c3ca221b3aabd5636837b31528ff33830/expr.png\" style=\"display:inline;vertical-align:middle;\" /></a></td></tr>\n",
       "<tr><td>16</td><td>Variable</td><td></td><td><a class=\"ProveItLink\" href=\"../../../../../__pv_it/common/8968bb04eb3f7dfa02353397ce929b025bbd79c20/expr.ipynb\"><img src=\"../../../../../__pv_it/common/8968bb04eb3f7dfa02353397ce929b025bbd79c20/expr.png\" style=\"display:inline;vertical-align:middle;\" /></a></td></tr>\n",
       "<tr><td>17</td><td>Literal</td><td></td><td><a class=\"ProveItLink\" href=\"../../../../../numbers/numerals/__pv_it/common/682157d4892d216d9e5626ed533aff9b56b9506e0/expr.ipynb\"><img src=\"../../../../../numbers/numerals/__pv_it/common/682157d4892d216d9e5626ed533aff9b56b9506e0/expr.png\" style=\"display:inline;vertical-align:middle;\" /></a></td></tr>\n",
       "<tr><td>18</td><td>ExprTuple</td><td>27</td><td><a class=\"ProveItLink\" href=\"../../common/18f7318b68e45ff8356043b6e71619fa8450fb200/expr.ipynb\"><img src=\"../../common/18f7318b68e45ff8356043b6e71619fa8450fb200/expr.png\" style=\"display:inline;vertical-align:middle;\" /></a></td></tr>\n",
       "<tr><td>19</td><td>ExprRange</td><td>lambda_map:&nbsp;20<br>start_index:&nbsp;21<br>end_index:&nbsp;22<br></td><td><a class=\"ProveItLink\" href=\"../0f48b26f5894224c6867c184d5636261492de73a0/expr.ipynb\"><img src=\"../0f48b26f5894224c6867c184d5636261492de73a0/expr.png\" style=\"display:inline;vertical-align:middle;\" /></a></td></tr>\n",
       "<tr><td>20</td><td>Lambda</td><td>parameter:&nbsp;28<br>body:&nbsp;24<br></td><td><a class=\"ProveItLink\" href=\"../../common/db3af742df06dcc04a8d090500384f64fe8de7080/expr.ipynb\"><img src=\"../../common/db3af742df06dcc04a8d090500384f64fe8de7080/expr.png\" style=\"display:inline;vertical-align:middle;\" /></a></td></tr>\n",
       "<tr><td>21</td><td>Variable</td><td></td><td><a class=\"ProveItLink\" href=\"../../../../../__pv_it/common/ae955345c83abf786c3aff8681cd5465beae262d0/expr.ipynb\"><img src=\"../../../../../__pv_it/common/ae955345c83abf786c3aff8681cd5465beae262d0/expr.png\" style=\"display:inline;vertical-align:middle;\" /></a></td></tr>\n",
       "<tr><td>22</td><td>Variable</td><td></td><td><a class=\"ProveItLink\" href=\"../../../../../__pv_it/common/1ed21df18baca2f42b561a7ffbf30a2743d594650/expr.ipynb\"><img src=\"../../../../../__pv_it/common/1ed21df18baca2f42b561a7ffbf30a2743d594650/expr.png\" style=\"display:inline;vertical-align:middle;\" /></a></td></tr>\n",
       "<tr><td>23</td><td>ExprTuple</td><td>28</td><td><a class=\"ProveItLink\" href=\"../../../../__pv_it/common/4b0dd6be36d76552eda6a95d5b4a27f5a5b62f900/expr.ipynb\"><img src=\"../../../../__pv_it/common/4b0dd6be36d76552eda6a95d5b4a27f5a5b62f900/expr.png\" style=\"display:inline;vertical-align:middle;\" /></a></td></tr>\n",
       "<tr><td>24</td><td>Operation</td><td>operator:&nbsp;25<br>operands:&nbsp;26<br></td><td><a class=\"ProveItLink\" href=\"../../common/c5aac26340a71de95d834d2c4fb04792bf7d0d4f0/expr.ipynb\"><img src=\"../../common/c5aac26340a71de95d834d2c4fb04792bf7d0d4f0/expr.png\" style=\"display:inline;vertical-align:middle;\" /></a></td></tr>\n",
       "<tr><td>25</td><td>Variable</td><td></td><td><a class=\"ProveItLink\" href=\"../../../../../__pv_it/common/01b6dbb444a31fc38af4c2379badef6c75b363710/expr.ipynb\"><img src=\"../../../../../__pv_it/common/01b6dbb444a31fc38af4c2379badef6c75b363710/expr.png\" style=\"display:inline;vertical-align:middle;\" /></a></td></tr>\n",
       "<tr><td>26</td><td>ExprTuple</td><td>27, 28</td><td><a class=\"ProveItLink\" href=\"../../common/57bd33b61c68801720e3703949003a2868e60e590/expr.ipynb\"><img src=\"../../common/57bd33b61c68801720e3703949003a2868e60e590/expr.png\" style=\"display:inline;vertical-align:middle;\" /></a></td></tr>\n",
       "<tr><td>27</td><td>Variable</td><td></td><td><a class=\"ProveItLink\" href=\"../../common/9a18d67b443cf8d92289c655ed91ec78766170a90/expr.ipynb\"><img src=\"../../common/9a18d67b443cf8d92289c655ed91ec78766170a90/expr.png\" style=\"display:inline;vertical-align:middle;\" /></a></td></tr>\n",
       "<tr><td>28</td><td>Variable</td><td></td><td><a class=\"ProveItLink\" href=\"../../../../__pv_it/common/006c465e50948aa2b52285e2de47974f741255cc0/expr.ipynb\"><img src=\"../../../../__pv_it/common/006c465e50948aa2b52285e2de47974f741255cc0/expr.png\" style=\"display:inline;vertical-align:middle;\" /></a></td></tr>\n",
       "</table>\n"
      ],
      "text/plain": [
       "0. (f, i, j, m, n) -> {(f(m, i), f(m, i + 1), ..., f(m, j), f(m + 1, i), f(m + 1, i + 1), ..., f(m + 1, j), ......, f(n, i), f(n, i + 1), ..., f(n, j)) = () if (j + 1) = i.\n",
       "   core type: Lambda\n",
       "   parameters: 1\\n   body: 2\n",
       "1. (f, i, j, m, n)\n",
       "   core type: ExprTuple\n",
       "   sub-expressions: 25, 21, 22, 15, 16\n",
       "2. {(f(m, i), f(m, i + 1), ..., f(m, j), f(m + 1, i), f(m + 1, i + 1), ..., f(m + 1, j), ......, f(n, i), f(n, i + 1), ..., f(n, j)) = () if (j + 1) = i.\n",
       "   core type: Conditional\n",
       "   value: 3\n",
       "   condition: 4\n",
       "3. (f(m, i), f(m, i + 1), ..., f(m, j), f(m + 1, i), f(m + 1, i + 1), ..., f(m + 1, j), ......, f(n, i), f(n, i + 1), ..., f(n, j)) = ()\n",
       "   core type: Operation\n",
       "   operator: 6\n",
       "   operands: 5\n",
       "4. (j + 1) = i\n",
       "   core type: Operation\n",
       "   operator: 6\n",
       "   operands: 7\n",
       "5. ((f(m, i), f(m, i + 1), ..., f(m, j), f(m + 1, i), f(m + 1, i + 1), ..., f(m + 1, j), ......, f(n, i), f(n, i + 1), ..., f(n, j)), ())\n",
       "   core type: ExprTuple\n",
       "   sub-expressions: 8, 9\n",
       "6. =\n",
       "   core type: Literal\n",
       "   sub-expressions: \n",
       "7. (j + 1, i)\n",
       "   core type: ExprTuple\n",
       "   sub-expressions: 10, 21\n",
       "8. (f(m, i), f(m, i + 1), ..., f(m, j), f(m + 1, i), f(m + 1, i + 1), ..., f(m + 1, j), ......, f(n, i), f(n, i + 1), ..., f(n, j))\n",
       "   core type: ExprTuple\n",
       "   sub-expressions: 11\n",
       "9. ()\n",
       "   core type: ExprTuple\n",
       "   sub-expressions: \n",
       "10. j + 1\n",
       "    core type: Operation\n",
       "    operator: 12\n",
       "    operands: 13\n",
       "11. f(m, i), f(m, i + 1), ..., f(m, j), f(m + 1, i), f(m + 1, i + 1), ..., f(m + 1, j), ......, f(n, i), f(n, i + 1), ..., f(n, j)\n",
       "    core type: ExprRange\n",
       "    lambda_map: 14\n",
       "    start_index: 15\n",
       "    end_index: 16\n",
       "12. +\n",
       "    core type: Literal\n",
       "    sub-expressions: \n",
       "13. (j, 1)\n",
       "    core type: ExprTuple\n",
       "    sub-expressions: 22, 17\n",
       "14. _b -> f(_b, i), f(_b, i + 1), ..., f(_b, j)\n",
       "    core type: Lambda\n",
       "    parameter: 27\n",
       "    body: 19\n",
       "15. m\n",
       "    core type: Variable\n",
       "    sub-expressions: \n",
       "16. n\n",
       "    core type: Variable\n",
       "    sub-expressions: \n",
       "17. 1\n",
       "    core type: Literal\n",
       "    sub-expressions: \n",
       "18. (_b)\n",
       "    core type: ExprTuple\n",
       "    sub-expressions: 27\n",
       "19. f(_b, i), f(_b, i + 1), ..., f(_b, j)\n",
       "    core type: ExprRange\n",
       "    lambda_map: 20\n",
       "    start_index: 21\n",
       "    end_index: 22\n",
       "20. _a -> f(_b, _a)\n",
       "    core type: Lambda\n",
       "    parameter: 28\n",
       "    body: 24\n",
       "21. i\n",
       "    core type: Variable\n",
       "    sub-expressions: \n",
       "22. j\n",
       "    core type: Variable\n",
       "    sub-expressions: \n",
       "23. (_a)\n",
       "    core type: ExprTuple\n",
       "    sub-expressions: 28\n",
       "24. f(_b, _a)\n",
       "    core type: Operation\n",
       "    operator: 25\n",
       "    operands: 26\n",
       "25. f\n",
       "    core type: Variable\n",
       "    sub-expressions: \n",
       "26. (_b, _a)\n",
       "    core type: ExprTuple\n",
       "    sub-expressions: 27, 28\n",
       "27. _b\n",
       "    core type: Variable\n",
       "    sub-expressions: \n",
       "28. _a\n",
       "    core type: Variable\n",
       "    sub-expressions: "
      ]
     },
     "metadata": {},
     "output_type": "display_data"
    }
   ],
   "source": [
    "# display the expression information\n",
    "stored_expr.expr_info()"
   ]
  },
  {
   "cell_type": "code",
   "execution_count": null,
   "metadata": {},
   "outputs": [],
   "source": []
  }
 ],
 "metadata": {
  "kernelspec": {
   "display_name": "Python 3",
   "language": "python",
   "name": "python3"
  }
 },
 "nbformat": 4,
 "nbformat_minor": 0
}