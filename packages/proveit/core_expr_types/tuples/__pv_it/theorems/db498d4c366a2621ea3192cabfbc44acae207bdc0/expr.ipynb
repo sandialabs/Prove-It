{
 "cells": [
  {
   "cell_type": "markdown",
   "metadata": {},
   "source": [
    "Expression of type <a class=\"ProveItLink\" href=\"../../../../../../../doc/html/api/proveit.ExprTuple.html\">ExprTuple</a>\n",
    "=======================\n",
    "# from the theory of <a class=\"ProveItLink\" href=\"../../../_theory_nbs_/theory.ipynb\">proveit.core_expr_types.tuples</a>"
   ]
  },
  {
   "cell_type": "code",
   "execution_count": 1,
   "metadata": {},
   "outputs": [],
   "source": [
    "import proveit\n",
    "# Automation is not needed when building an expression:\n",
    "proveit.defaults.automation = False # This will speed things up.\n",
    "proveit.defaults.inline_pngs = False # Makes files smaller.\n",
    "%load_expr # Load the stored expression as 'stored_expr'\n",
    "# import Expression classes needed to build the expression\n",
    "from proveit import Conditional, ExprTuple, Lambda, i, n\n",
    "from proveit.core_expr_types import Len, f_1_to_n\n",
    "from proveit.core_expr_types.tuples import f_1_to_i__1_to_n\n",
    "from proveit.logic import Equals, InSet\n",
    "from proveit.numbers import Mult, Natural"
   ]
  },
  {
   "cell_type": "code",
   "execution_count": 2,
   "metadata": {},
   "outputs": [
    {
     "data": {
      "text/html": [
       "<strong id=\"expr\">expr:</strong> <a class=\"ProveItLink\" href=\"expr.ipynb\"><img src=\"expr.png\" style=\"display:inline;vertical-align:middle;\" /></a><br>"
      ],
      "text/plain": [
       "<IPython.core.display.HTML object>"
      ]
     },
     "metadata": {},
     "output_type": "display_data"
    }
   ],
   "source": [
    "# build up the expression from sub-expressions\n",
    "expr = ExprTuple(Lambda([f_1_to_n, i], Conditional(Equals(Len(operands = [f_1_to_i__1_to_n]), Mult(n, i)).with_wrapping_at(1), InSet(i, Natural))))"
   ]
  },
  {
   "cell_type": "code",
   "execution_count": 3,
   "metadata": {},
   "outputs": [
    {
     "name": "stdout",
     "output_type": "stream",
     "text": [
      "Passed sanity check: expr matches stored_expr\n"
     ]
    }
   ],
   "source": [
    "# check that the built expression is the same as the stored expression\n",
    "assert expr == stored_expr\n",
    "assert expr._style_id == stored_expr._style_id\n",
    "print(\"Passed sanity check: expr matches stored_expr\")"
   ]
  },
  {
   "cell_type": "code",
   "execution_count": 4,
   "metadata": {},
   "outputs": [
    {
     "name": "stdout",
     "output_type": "stream",
     "text": [
      "\\left(\\left(f_{1}, f_{2}, \\ldots, f_{n}, i\\right) \\mapsto \\left\\{\\begin{array}{c} \\begin{array}{l} |\\left(f_{1}\\left(1\\right), f_{1}\\left(2\\right), \\ldots, f_{1}\\left(i\\right), f_{2}\\left(1\\right), f_{2}\\left(2\\right), \\ldots, f_{2}\\left(i\\right), \\ldots\\ldots, f_{n}\\left(1\\right), f_{n}\\left(2\\right), \\ldots, f_{n}\\left(i\\right)\\right)| \\\\  = \\left(n \\cdot i\\right) \\end{array} \\end{array} \\textrm{ if } i \\in \\mathbb{N}\\right..\\right)\n"
     ]
    }
   ],
   "source": [
    "# Show the LaTeX representation of the expression for convenience if you need it.\n",
    "print(stored_expr.latex())"
   ]
  },
  {
   "cell_type": "code",
   "execution_count": 5,
   "metadata": {},
   "outputs": [
    {
     "data": {
      "text/html": [
       "no style options"
      ],
      "text/plain": [
       "no style options"
      ]
     },
     "metadata": {},
     "output_type": "display_data"
    }
   ],
   "source": [
    "stored_expr.style_options()"
   ]
  },
  {
   "cell_type": "code",
   "execution_count": 6,
   "metadata": {},
   "outputs": [
    {
     "data": {
      "text/html": [
       "<table><tr><th>&nbsp;</th><th>core type</th><th>sub-expressions</th><th>expression</th></tr>\n",
       "<tr><td>0</td><td>ExprTuple</td><td>1</td><td><a class=\"ProveItLink\" href=\"expr.ipynb\"><img src=\"expr.png\" style=\"display:inline;vertical-align:middle;\" /></a></td></tr>\n",
       "<tr><td>1</td><td>Lambda</td><td>parameters:&nbsp;2<br>body:&nbsp;3<br></td><td><a class=\"ProveItLink\" href=\"../f0439f99145ee6cbd2b0ce4f4fd6ced14730dc2f0/expr.ipynb\"><img src=\"../f0439f99145ee6cbd2b0ce4f4fd6ced14730dc2f0/expr.png\" style=\"display:inline;vertical-align:middle;\" /></a></td></tr>\n",
       "<tr><td>2</td><td>ExprTuple</td><td>4, 26</td><td><a class=\"ProveItLink\" href=\"../0f5d5bd01235a710e74cb5976ee3072262c9e3070/expr.ipynb\"><img src=\"../0f5d5bd01235a710e74cb5976ee3072262c9e3070/expr.png\" style=\"display:inline;vertical-align:middle;\" /></a></td></tr>\n",
       "<tr><td>3</td><td>Conditional</td><td>value:&nbsp;5<br>condition:&nbsp;6<br></td><td><a class=\"ProveItLink\" href=\"../fc69fb44f6dd020aaefd31ee8c1de6ebe66f034b0/expr.ipynb\"><img src=\"../fc69fb44f6dd020aaefd31ee8c1de6ebe66f034b0/expr.png\" style=\"display:inline;vertical-align:middle;\" /></a></td></tr>\n",
       "<tr><td>4</td><td>ExprRange</td><td>lambda_map:&nbsp;7<br>start_index:&nbsp;25<br>end_index:&nbsp;22<br></td><td><a class=\"ProveItLink\" href=\"../../../../__pv_it/common/43b754cf68eaa443709a6d8b0599284558b3f64a0/expr.ipynb\"><img src=\"../../../../__pv_it/common/43b754cf68eaa443709a6d8b0599284558b3f64a0/expr.png\" style=\"display:inline;vertical-align:middle;\" /></a></td></tr>\n",
       "<tr><td>5</td><td>Operation</td><td>operator:&nbsp;8<br>operands:&nbsp;9<br></td><td><a class=\"ProveItLink\" href=\"../0fd992a2c74346ab732c4ceff71a5d5f11295d6c0/expr.ipynb\"><img src=\"../0fd992a2c74346ab732c4ceff71a5d5f11295d6c0/expr.png\" style=\"display:inline;vertical-align:middle;\" /></a></td></tr>\n",
       "<tr><td>6</td><td>Operation</td><td>operator:&nbsp;10<br>operands:&nbsp;11<br></td><td><a class=\"ProveItLink\" href=\"../10cfe086dee5530e9b3b60486d89c6cb824c41920/expr.ipynb\"><img src=\"../10cfe086dee5530e9b3b60486d89c6cb824c41920/expr.png\" style=\"display:inline;vertical-align:middle;\" /></a></td></tr>\n",
       "<tr><td>7</td><td>Lambda</td><td>parameter:&nbsp;32<br>body:&nbsp;12<br></td><td><a class=\"ProveItLink\" href=\"../../../../__pv_it/common/ecf2ffd49c43ce43b946489bf82c36c997f2e63a0/expr.ipynb\"><img src=\"../../../../__pv_it/common/ecf2ffd49c43ce43b946489bf82c36c997f2e63a0/expr.png\" style=\"display:inline;vertical-align:middle;\" /></a></td></tr>\n",
       "<tr><td>8</td><td>Literal</td><td></td><td><a class=\"ProveItLink\" href=\"../../../../../logic/equality/__pv_it/common/fb96dc12b2aa8801dda64d0132b396c63d1502bb0/expr.ipynb\"><img src=\"../../../../../logic/equality/__pv_it/common/fb96dc12b2aa8801dda64d0132b396c63d1502bb0/expr.png\" style=\"display:inline;vertical-align:middle;\" /></a></td></tr>\n",
       "<tr><td>9</td><td>ExprTuple</td><td>13, 14</td><td><a class=\"ProveItLink\" href=\"../856cb859974b4df973c35c123bfba99487ad26530/expr.ipynb\"><img src=\"../856cb859974b4df973c35c123bfba99487ad26530/expr.png\" style=\"display:inline;vertical-align:middle;\" /></a></td></tr>\n",
       "<tr><td>10</td><td>Literal</td><td></td><td><a class=\"ProveItLink\" href=\"../../../../../logic/sets/membership/__pv_it/common/477487d8796864d23d5810f83761435f25167f690/expr.ipynb\"><img src=\"../../../../../logic/sets/membership/__pv_it/common/477487d8796864d23d5810f83761435f25167f690/expr.png\" style=\"display:inline;vertical-align:middle;\" /></a></td></tr>\n",
       "<tr><td>11</td><td>ExprTuple</td><td>26, 15</td><td><a class=\"ProveItLink\" href=\"../1e0eb14b674d1cdf4a94a1df57c3bb998311774a0/expr.ipynb\"><img src=\"../1e0eb14b674d1cdf4a94a1df57c3bb998311774a0/expr.png\" style=\"display:inline;vertical-align:middle;\" /></a></td></tr>\n",
       "<tr><td>12</td><td>IndexedVar</td><td>variable:&nbsp;30<br>index:&nbsp;32<br></td><td><a class=\"ProveItLink\" href=\"../../../../__pv_it/common/547cf03121fc61889c17c9471fd9cf52308ae0db0/expr.ipynb\"><img src=\"../../../../__pv_it/common/547cf03121fc61889c17c9471fd9cf52308ae0db0/expr.png\" style=\"display:inline;vertical-align:middle;\" /></a></td></tr>\n",
       "<tr><td>13</td><td>Operation</td><td>operator:&nbsp;16<br>operands:&nbsp;17<br></td><td><a class=\"ProveItLink\" href=\"../6b60702b7ca5ee8dd6acf0286b1f5b75880507110/expr.ipynb\"><img src=\"../6b60702b7ca5ee8dd6acf0286b1f5b75880507110/expr.png\" style=\"display:inline;vertical-align:middle;\" /></a></td></tr>\n",
       "<tr><td>14</td><td>Operation</td><td>operator:&nbsp;18<br>operands:&nbsp;19<br></td><td><a class=\"ProveItLink\" href=\"../dc17df629db982bad831c81d351a998d4c641c9b0/expr.ipynb\"><img src=\"../dc17df629db982bad831c81d351a998d4c641c9b0/expr.png\" style=\"display:inline;vertical-align:middle;\" /></a></td></tr>\n",
       "<tr><td>15</td><td>Literal</td><td></td><td><a class=\"ProveItLink\" href=\"../../../../../numbers/number_sets/natural_numbers/__pv_it/common/8b7c321957f52ed3b05b36af612eeae4fa4783bc0/expr.ipynb\"><img src=\"../../../../../numbers/number_sets/natural_numbers/__pv_it/common/8b7c321957f52ed3b05b36af612eeae4fa4783bc0/expr.png\" style=\"display:inline;vertical-align:middle;\" /></a></td></tr>\n",
       "<tr><td>16</td><td>Literal</td><td></td><td><a class=\"ProveItLink\" href=\"../../common/43df765abf1294d8f1fd177863f57f08bf5ad0080/expr.ipynb\"><img src=\"../../common/43df765abf1294d8f1fd177863f57f08bf5ad0080/expr.png\" style=\"display:inline;vertical-align:middle;\" /></a></td></tr>\n",
       "<tr><td>17</td><td>ExprTuple</td><td>20</td><td><a class=\"ProveItLink\" href=\"../90f64bf54684e3f0bb20946f2e7b0f2b08bad0550/expr.ipynb\"><img src=\"../90f64bf54684e3f0bb20946f2e7b0f2b08bad0550/expr.png\" style=\"display:inline;vertical-align:middle;\" /></a></td></tr>\n",
       "<tr><td>18</td><td>Literal</td><td></td><td><a class=\"ProveItLink\" href=\"../../../../../numbers/multiplication/__pv_it/common/ed719cef37831779c16481533a4d380a2f95ab270/expr.ipynb\"><img src=\"../../../../../numbers/multiplication/__pv_it/common/ed719cef37831779c16481533a4d380a2f95ab270/expr.png\" style=\"display:inline;vertical-align:middle;\" /></a></td></tr>\n",
       "<tr><td>19</td><td>ExprTuple</td><td>22, 26</td><td><a class=\"ProveItLink\" href=\"../77879cf5a7f804f9a2c7720b654db73c193cb98b0/expr.ipynb\"><img src=\"../77879cf5a7f804f9a2c7720b654db73c193cb98b0/expr.png\" style=\"display:inline;vertical-align:middle;\" /></a></td></tr>\n",
       "<tr><td>20</td><td>ExprRange</td><td>lambda_map:&nbsp;21<br>start_index:&nbsp;25<br>end_index:&nbsp;22<br></td><td><a class=\"ProveItLink\" href=\"../../common/0d8ca2ea278c2eab995ddb027ccb1dba5273c49c0/expr.ipynb\"><img src=\"../../common/0d8ca2ea278c2eab995ddb027ccb1dba5273c49c0/expr.png\" style=\"display:inline;vertical-align:middle;\" /></a></td></tr>\n",
       "<tr><td>21</td><td>Lambda</td><td>parameter:&nbsp;33<br>body:&nbsp;23<br></td><td><a class=\"ProveItLink\" href=\"../../common/7e7b8f85c89cc4021d3e63ef9a8a8e780769a5640/expr.ipynb\"><img src=\"../../common/7e7b8f85c89cc4021d3e63ef9a8a8e780769a5640/expr.png\" style=\"display:inline;vertical-align:middle;\" /></a></td></tr>\n",
       "<tr><td>22</td><td>Variable</td><td></td><td><a class=\"ProveItLink\" href=\"../../../../../__pv_it/common/8968bb04eb3f7dfa02353397ce929b025bbd79c20/expr.ipynb\"><img src=\"../../../../../__pv_it/common/8968bb04eb3f7dfa02353397ce929b025bbd79c20/expr.png\" style=\"display:inline;vertical-align:middle;\" /></a></td></tr>\n",
       "<tr><td>23</td><td>ExprRange</td><td>lambda_map:&nbsp;24<br>start_index:&nbsp;25<br>end_index:&nbsp;26<br></td><td><a class=\"ProveItLink\" href=\"../../common/c78b07fcbe880d5a9f02b395f6bf3fcfd7780b950/expr.ipynb\"><img src=\"../../common/c78b07fcbe880d5a9f02b395f6bf3fcfd7780b950/expr.png\" style=\"display:inline;vertical-align:middle;\" /></a></td></tr>\n",
       "<tr><td>24</td><td>Lambda</td><td>parameter:&nbsp;32<br>body:&nbsp;27<br></td><td><a class=\"ProveItLink\" href=\"../../common/91fbd1e224e0abd4dfa6b22c47ff294d2af20c1c0/expr.ipynb\"><img src=\"../../common/91fbd1e224e0abd4dfa6b22c47ff294d2af20c1c0/expr.png\" style=\"display:inline;vertical-align:middle;\" /></a></td></tr>\n",
       "<tr><td>25</td><td>Literal</td><td></td><td><a class=\"ProveItLink\" href=\"../../../../../numbers/numerals/__pv_it/common/682157d4892d216d9e5626ed533aff9b56b9506e0/expr.ipynb\"><img src=\"../../../../../numbers/numerals/__pv_it/common/682157d4892d216d9e5626ed533aff9b56b9506e0/expr.png\" style=\"display:inline;vertical-align:middle;\" /></a></td></tr>\n",
       "<tr><td>26</td><td>Variable</td><td></td><td><a class=\"ProveItLink\" href=\"../../../../../__pv_it/common/ae955345c83abf786c3aff8681cd5465beae262d0/expr.ipynb\"><img src=\"../../../../../__pv_it/common/ae955345c83abf786c3aff8681cd5465beae262d0/expr.png\" style=\"display:inline;vertical-align:middle;\" /></a></td></tr>\n",
       "<tr><td>27</td><td>Operation</td><td>operator:&nbsp;28<br>operand:&nbsp;32<br></td><td><a class=\"ProveItLink\" href=\"../../common/4543d681feb1ba745f997390f1f306d51b254a040/expr.ipynb\"><img src=\"../../common/4543d681feb1ba745f997390f1f306d51b254a040/expr.png\" style=\"display:inline;vertical-align:middle;\" /></a></td></tr>\n",
       "<tr><td>28</td><td>IndexedVar</td><td>variable:&nbsp;30<br>index:&nbsp;33<br></td><td><a class=\"ProveItLink\" href=\"../../common/5bd3db69303afa465308092059ecc64ddc1d429a0/expr.ipynb\"><img src=\"../../common/5bd3db69303afa465308092059ecc64ddc1d429a0/expr.png\" style=\"display:inline;vertical-align:middle;\" /></a></td></tr>\n",
       "<tr><td>29</td><td>ExprTuple</td><td>32</td><td><a class=\"ProveItLink\" href=\"../../../../__pv_it/common/4b0dd6be36d76552eda6a95d5b4a27f5a5b62f900/expr.ipynb\"><img src=\"../../../../__pv_it/common/4b0dd6be36d76552eda6a95d5b4a27f5a5b62f900/expr.png\" style=\"display:inline;vertical-align:middle;\" /></a></td></tr>\n",
       "<tr><td>30</td><td>Variable</td><td></td><td><a class=\"ProveItLink\" href=\"../../../../../__pv_it/common/01b6dbb444a31fc38af4c2379badef6c75b363710/expr.ipynb\"><img src=\"../../../../../__pv_it/common/01b6dbb444a31fc38af4c2379badef6c75b363710/expr.png\" style=\"display:inline;vertical-align:middle;\" /></a></td></tr>\n",
       "<tr><td>31</td><td>ExprTuple</td><td>33</td><td><a class=\"ProveItLink\" href=\"../../common/18f7318b68e45ff8356043b6e71619fa8450fb200/expr.ipynb\"><img src=\"../../common/18f7318b68e45ff8356043b6e71619fa8450fb200/expr.png\" style=\"display:inline;vertical-align:middle;\" /></a></td></tr>\n",
       "<tr><td>32</td><td>Variable</td><td></td><td><a class=\"ProveItLink\" href=\"../../../../__pv_it/common/006c465e50948aa2b52285e2de47974f741255cc0/expr.ipynb\"><img src=\"../../../../__pv_it/common/006c465e50948aa2b52285e2de47974f741255cc0/expr.png\" style=\"display:inline;vertical-align:middle;\" /></a></td></tr>\n",
       "<tr><td>33</td><td>Variable</td><td></td><td><a class=\"ProveItLink\" href=\"../../common/9a18d67b443cf8d92289c655ed91ec78766170a90/expr.ipynb\"><img src=\"../../common/9a18d67b443cf8d92289c655ed91ec78766170a90/expr.png\" style=\"display:inline;vertical-align:middle;\" /></a></td></tr>\n",
       "</table>\n"
      ],
      "text/plain": [
       "0. ((f_{1}, f_{2}, ..., f_{n}, i) -> {|(f_{1}(1), f_{1}(2), ..., f_{1}(i), f_{2}(1), f_{2}(2), ..., f_{2}(i), ......, f_{n}(1), f_{n}(2), ..., f_{n}(i))| \\\\  = (n * i) if i in Natural.)\n",
       "   core type: ExprTuple\n",
       "   sub-expressions: 1\n",
       "1. (f_{1}, f_{2}, ..., f_{n}, i) -> {|(f_{1}(1), f_{1}(2), ..., f_{1}(i), f_{2}(1), f_{2}(2), ..., f_{2}(i), ......, f_{n}(1), f_{n}(2), ..., f_{n}(i))| \\\\  = (n * i) if i in Natural.\n",
       "   core type: Lambda\n",
       "   parameters: 2\\n   body: 3\n",
       "2. (f_{1}, f_{2}, ..., f_{n}, i)\n",
       "   core type: ExprTuple\n",
       "   sub-expressions: 4, 26\n",
       "3. {|(f_{1}(1), f_{1}(2), ..., f_{1}(i), f_{2}(1), f_{2}(2), ..., f_{2}(i), ......, f_{n}(1), f_{n}(2), ..., f_{n}(i))| \\\\  = (n * i) if i in Natural.\n",
       "   core type: Conditional\n",
       "   value: 5\n",
       "   condition: 6\n",
       "4. f_{1}, f_{2}, ..., f_{n}\n",
       "   core type: ExprRange\n",
       "   lambda_map: 7\n",
       "   start_index: 25\n",
       "   end_index: 22\n",
       "5. |(f_{1}(1), f_{1}(2), ..., f_{1}(i), f_{2}(1), f_{2}(2), ..., f_{2}(i), ......, f_{n}(1), f_{n}(2), ..., f_{n}(i))| \\\\  = (n * i)\n",
       "   core type: Operation\n",
       "   operator: 8\n",
       "   operands: 9\n",
       "6. i in Natural\n",
       "   core type: Operation\n",
       "   operator: 10\n",
       "   operands: 11\n",
       "7. _a -> f_{_a}\n",
       "   core type: Lambda\n",
       "   parameter: 32\n",
       "   body: 12\n",
       "8. =\n",
       "   core type: Literal\n",
       "   sub-expressions: \n",
       "9. (|(f_{1}(1), f_{1}(2), ..., f_{1}(i), f_{2}(1), f_{2}(2), ..., f_{2}(i), ......, f_{n}(1), f_{n}(2), ..., f_{n}(i))|, n * i)\n",
       "   core type: ExprTuple\n",
       "   sub-expressions: 13, 14\n",
       "10. in\n",
       "    core type: Literal\n",
       "    sub-expressions: \n",
       "11. (i, Natural)\n",
       "    core type: ExprTuple\n",
       "    sub-expressions: 26, 15\n",
       "12. f_{_a}\n",
       "    core type: IndexedVar\n",
       "variable: 30\n",
       "index: 32\n",
       "13. |(f_{1}(1), f_{1}(2), ..., f_{1}(i), f_{2}(1), f_{2}(2), ..., f_{2}(i), ......, f_{n}(1), f_{n}(2), ..., f_{n}(i))|\n",
       "    core type: Operation\n",
       "    operator: 16\n",
       "    operands: 17\n",
       "14. n * i\n",
       "    core type: Operation\n",
       "    operator: 18\n",
       "    operands: 19\n",
       "15. Natural\n",
       "    core type: Literal\n",
       "    sub-expressions: \n",
       "16. length\n",
       "    core type: Literal\n",
       "    sub-expressions: \n",
       "17. (f_{1}(1), f_{1}(2), ..., f_{1}(i), f_{2}(1), f_{2}(2), ..., f_{2}(i), ......, f_{n}(1), f_{n}(2), ..., f_{n}(i))\n",
       "    core type: ExprTuple\n",
       "    sub-expressions: 20\n",
       "18. *\n",
       "    core type: Literal\n",
       "    sub-expressions: \n",
       "19. (n, i)\n",
       "    core type: ExprTuple\n",
       "    sub-expressions: 22, 26\n",
       "20. f_{1}(1), f_{1}(2), ..., f_{1}(i), f_{2}(1), f_{2}(2), ..., f_{2}(i), ......, f_{n}(1), f_{n}(2), ..., f_{n}(i)\n",
       "    core type: ExprRange\n",
       "    lambda_map: 21\n",
       "    start_index: 25\n",
       "    end_index: 22\n",
       "21. _b -> f_{_b}(1), f_{_b}(2), ..., f_{_b}(i)\n",
       "    core type: Lambda\n",
       "    parameter: 33\n",
       "    body: 23\n",
       "22. n\n",
       "    core type: Variable\n",
       "    sub-expressions: \n",
       "23. f_{_b}(1), f_{_b}(2), ..., f_{_b}(i)\n",
       "    core type: ExprRange\n",
       "    lambda_map: 24\n",
       "    start_index: 25\n",
       "    end_index: 26\n",
       "24. _a -> f_{_b}(_a)\n",
       "    core type: Lambda\n",
       "    parameter: 32\n",
       "    body: 27\n",
       "25. 1\n",
       "    core type: Literal\n",
       "    sub-expressions: \n",
       "26. i\n",
       "    core type: Variable\n",
       "    sub-expressions: \n",
       "27. f_{_b}(_a)\n",
       "    core type: Operation\n",
       "    operator: 28\n",
       "    operand: 32\n",
       "28. f_{_b}\n",
       "    core type: IndexedVar\n",
       "variable: 30\n",
       "index: 33\n",
       "29. (_a)\n",
       "    core type: ExprTuple\n",
       "    sub-expressions: 32\n",
       "30. f\n",
       "    core type: Variable\n",
       "    sub-expressions: \n",
       "31. (_b)\n",
       "    core type: ExprTuple\n",
       "    sub-expressions: 33\n",
       "32. _a\n",
       "    core type: Variable\n",
       "    sub-expressions: \n",
       "33. _b\n",
       "    core type: Variable\n",
       "    sub-expressions: "
      ]
     },
     "metadata": {},
     "output_type": "display_data"
    }
   ],
   "source": [
    "# display the expression information\n",
    "stored_expr.expr_info()"
   ]
  },
  {
   "cell_type": "code",
   "execution_count": null,
   "metadata": {},
   "outputs": [],
   "source": []
  }
 ],
 "metadata": {
  "kernelspec": {
   "display_name": "Python 3",
   "language": "python",
   "name": "python3"
  }
 },
 "nbformat": 4,
 "nbformat_minor": 0
}