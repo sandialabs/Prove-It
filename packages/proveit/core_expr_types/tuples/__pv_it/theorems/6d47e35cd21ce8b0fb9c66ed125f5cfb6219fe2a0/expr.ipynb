{
 "cells": [
  {
   "cell_type": "markdown",
   "metadata": {},
   "source": [
    "Expression of type <a class=\"ProveItLink\" href=\"../../../../../../../doc/html/api/proveit.Lambda.html\">Lambda</a>\n",
    "=======================\n",
    "# from the theory of <a class=\"ProveItLink\" href=\"../../../_theory_nbs_/theory.ipynb\">proveit.core_expr_types.tuples</a>"
   ]
  },
  {
   "cell_type": "code",
   "execution_count": 1,
   "metadata": {},
   "outputs": [],
   "source": [
    "import proveit\n",
    "# Automation is not needed when building an expression:\n",
    "proveit.defaults.automation = False # This will speed things up.\n",
    "proveit.defaults.inline_pngs = False # Makes files smaller.\n",
    "%load_expr # Load the stored expression as 'stored_expr'\n",
    "# import Expression classes needed to build the expression\n",
    "from proveit import Conditional, Lambda\n",
    "from proveit.core_expr_types import Len, f_1_to_n, i_1_to_n, j_1_to_n\n",
    "from proveit.core_expr_types.tuples import f_ik_to_jk__1_to_n, range_len_conditions, range_len_sum\n",
    "from proveit.logic import And, Equals"
   ]
  },
  {
   "cell_type": "code",
   "execution_count": 2,
   "metadata": {},
   "outputs": [
    {
     "data": {
      "text/html": [
       "<strong id=\"expr\">expr:</strong> <a class=\"ProveItLink\" href=\"expr.ipynb\"><img src=\"expr.png\" style=\"display:inline;vertical-align:middle;\" /></a><br>"
      ],
      "text/plain": [
       "<IPython.core.display.HTML object>"
      ]
     },
     "metadata": {},
     "output_type": "display_data"
    }
   ],
   "source": [
    "# build up the expression from sub-expressions\n",
    "expr = Lambda([f_1_to_n, i_1_to_n, j_1_to_n], Conditional(Equals(Len(operands = [f_ik_to_jk__1_to_n]), range_len_sum).with_wrapping_at(1), And(range_len_conditions)))"
   ]
  },
  {
   "cell_type": "code",
   "execution_count": 3,
   "metadata": {},
   "outputs": [
    {
     "name": "stdout",
     "output_type": "stream",
     "text": [
      "Passed sanity check: expr matches stored_expr\n"
     ]
    }
   ],
   "source": [
    "# check that the built expression is the same as the stored expression\n",
    "assert expr == stored_expr\n",
    "assert expr._style_id == stored_expr._style_id\n",
    "print(\"Passed sanity check: expr matches stored_expr\")"
   ]
  },
  {
   "cell_type": "code",
   "execution_count": 4,
   "metadata": {},
   "outputs": [
    {
     "name": "stdout",
     "output_type": "stream",
     "text": [
      "\\left(f_{1}, f_{2}, \\ldots, f_{n}, i_{1}, i_{2}, \\ldots, i_{n}, j_{1}, j_{2}, \\ldots, j_{n}\\right) \\mapsto \\left\\{\\begin{array}{c} \\begin{array}{l} |\\left(f_{1}\\left(i_{1}\\right), f_{1}\\left(i_{1} + 1\\right), \\ldots, f_{1}\\left(j_{1}\\right), f_{2}\\left(i_{2}\\right), f_{2}\\left(i_{2} + 1\\right), \\ldots, f_{2}\\left(j_{2}\\right), \\ldots\\ldots, f_{n}\\left(i_{n}\\right), f_{n}\\left(i_{n} + 1\\right), \\ldots, f_{n}\\left(j_{n}\\right)\\right)| \\\\  = \\left(\\left(j_{1} - i_{1} + 1\\right) +  \\left(j_{2} - i_{2} + 1\\right) +  \\ldots +  \\left(j_{n} - i_{n} + 1\\right)\\right) \\end{array} \\end{array} \\textrm{ if } \\left(\\left(j_{1} - i_{1} + 1\\right) \\in \\mathbb{N}\\right) \\land  \\left(\\left(j_{2} - i_{2} + 1\\right) \\in \\mathbb{N}\\right) \\land  \\ldots \\land  \\left(\\left(j_{n} - i_{n} + 1\\right) \\in \\mathbb{N}\\right)\\right..\n"
     ]
    }
   ],
   "source": [
    "# Show the LaTeX representation of the expression for convenience if you need it.\n",
    "print(stored_expr.latex())"
   ]
  },
  {
   "cell_type": "code",
   "execution_count": 5,
   "metadata": {},
   "outputs": [
    {
     "data": {
      "text/html": [
       "no style options"
      ],
      "text/plain": [
       "no style options"
      ]
     },
     "metadata": {},
     "output_type": "display_data"
    }
   ],
   "source": [
    "stored_expr.style_options()"
   ]
  },
  {
   "cell_type": "code",
   "execution_count": 6,
   "metadata": {},
   "outputs": [
    {
     "data": {
      "text/html": [
       "<table><tr><th>&nbsp;</th><th>core type</th><th>sub-expressions</th><th>expression</th></tr>\n",
       "<tr><td>0</td><td>Lambda</td><td>parameters:&nbsp;1<br>body:&nbsp;2<br></td><td><a class=\"ProveItLink\" href=\"expr.ipynb\"><img src=\"expr.png\" style=\"display:inline;vertical-align:middle;\" /></a></td></tr>\n",
       "<tr><td>1</td><td>ExprTuple</td><td>3, 4, 5</td><td><a class=\"ProveItLink\" href=\"../a8e658f4f42e778def57a5e11bf3a9fdc3f9a1de0/expr.ipynb\"><img src=\"../a8e658f4f42e778def57a5e11bf3a9fdc3f9a1de0/expr.png\" style=\"display:inline;vertical-align:middle;\" /></a></td></tr>\n",
       "<tr><td>2</td><td>Conditional</td><td>value:&nbsp;6<br>condition:&nbsp;7<br></td><td><a class=\"ProveItLink\" href=\"../8d02c86fb0c8c50aa20d1b4090512d02bdde6bbc0/expr.ipynb\"><img src=\"../8d02c86fb0c8c50aa20d1b4090512d02bdde6bbc0/expr.png\" style=\"display:inline;vertical-align:middle;\" /></a></td></tr>\n",
       "<tr><td>3</td><td>ExprRange</td><td>lambda_map:&nbsp;8<br>start_index:&nbsp;42<br>end_index:&nbsp;28<br></td><td><a class=\"ProveItLink\" href=\"../../../../__pv_it/common/43b754cf68eaa443709a6d8b0599284558b3f64a0/expr.ipynb\"><img src=\"../../../../__pv_it/common/43b754cf68eaa443709a6d8b0599284558b3f64a0/expr.png\" style=\"display:inline;vertical-align:middle;\" /></a></td></tr>\n",
       "<tr><td>4</td><td>ExprRange</td><td>lambda_map:&nbsp;9<br>start_index:&nbsp;42<br>end_index:&nbsp;28<br></td><td><a class=\"ProveItLink\" href=\"../../../../__pv_it/common/93225504bc91e9be143d744388e2311bf74f9ba70/expr.ipynb\"><img src=\"../../../../__pv_it/common/93225504bc91e9be143d744388e2311bf74f9ba70/expr.png\" style=\"display:inline;vertical-align:middle;\" /></a></td></tr>\n",
       "<tr><td>5</td><td>ExprRange</td><td>lambda_map:&nbsp;10<br>start_index:&nbsp;42<br>end_index:&nbsp;28<br></td><td><a class=\"ProveItLink\" href=\"../../../../__pv_it/common/152324565e35c531ed90e69acc883f5ff8d6d64a0/expr.ipynb\"><img src=\"../../../../__pv_it/common/152324565e35c531ed90e69acc883f5ff8d6d64a0/expr.png\" style=\"display:inline;vertical-align:middle;\" /></a></td></tr>\n",
       "<tr><td>6</td><td>Operation</td><td>operator:&nbsp;11<br>operands:&nbsp;12<br></td><td><a class=\"ProveItLink\" href=\"../4b4b7237cc4e01d13daa7366d6a462726a4241740/expr.ipynb\"><img src=\"../4b4b7237cc4e01d13daa7366d6a462726a4241740/expr.png\" style=\"display:inline;vertical-align:middle;\" /></a></td></tr>\n",
       "<tr><td>7</td><td>Operation</td><td>operator:&nbsp;13<br>operands:&nbsp;14<br></td><td><a class=\"ProveItLink\" href=\"../1ca554a5d4469a096a8209532aca56ba57dc021d0/expr.ipynb\"><img src=\"../1ca554a5d4469a096a8209532aca56ba57dc021d0/expr.png\" style=\"display:inline;vertical-align:middle;\" /></a></td></tr>\n",
       "<tr><td>8</td><td>Lambda</td><td>parameter:&nbsp;53<br>body:&nbsp;15<br></td><td><a class=\"ProveItLink\" href=\"../../../../__pv_it/common/ecf2ffd49c43ce43b946489bf82c36c997f2e63a0/expr.ipynb\"><img src=\"../../../../__pv_it/common/ecf2ffd49c43ce43b946489bf82c36c997f2e63a0/expr.png\" style=\"display:inline;vertical-align:middle;\" /></a></td></tr>\n",
       "<tr><td>9</td><td>Lambda</td><td>parameter:&nbsp;53<br>body:&nbsp;49<br></td><td><a class=\"ProveItLink\" href=\"../../../../__pv_it/common/546dc673dd77681c100710b0cfcb5b0f33690b520/expr.ipynb\"><img src=\"../../../../__pv_it/common/546dc673dd77681c100710b0cfcb5b0f33690b520/expr.png\" style=\"display:inline;vertical-align:middle;\" /></a></td></tr>\n",
       "<tr><td>10</td><td>Lambda</td><td>parameter:&nbsp;53<br>body:&nbsp;40<br></td><td><a class=\"ProveItLink\" href=\"../../../../__pv_it/common/2d7f60864bfa6c61209ee9f4985722b3feb857150/expr.ipynb\"><img src=\"../../../../__pv_it/common/2d7f60864bfa6c61209ee9f4985722b3feb857150/expr.png\" style=\"display:inline;vertical-align:middle;\" /></a></td></tr>\n",
       "<tr><td>11</td><td>Literal</td><td></td><td><a class=\"ProveItLink\" href=\"../../../../../logic/equality/__pv_it/common/fb96dc12b2aa8801dda64d0132b396c63d1502bb0/expr.ipynb\"><img src=\"../../../../../logic/equality/__pv_it/common/fb96dc12b2aa8801dda64d0132b396c63d1502bb0/expr.png\" style=\"display:inline;vertical-align:middle;\" /></a></td></tr>\n",
       "<tr><td>12</td><td>ExprTuple</td><td>16, 17</td><td><a class=\"ProveItLink\" href=\"../ca71e1c5c90578bdec0b3a190ccfff9cc4e37a3a0/expr.ipynb\"><img src=\"../ca71e1c5c90578bdec0b3a190ccfff9cc4e37a3a0/expr.png\" style=\"display:inline;vertical-align:middle;\" /></a></td></tr>\n",
       "<tr><td>13</td><td>Literal</td><td></td><td><a class=\"ProveItLink\" href=\"../../../../../logic/booleans/conjunction/__pv_it/common/42118ff318bd65d98b1393f64ce7c2269feef76e0/expr.ipynb\"><img src=\"../../../../../logic/booleans/conjunction/__pv_it/common/42118ff318bd65d98b1393f64ce7c2269feef76e0/expr.png\" style=\"display:inline;vertical-align:middle;\" /></a></td></tr>\n",
       "<tr><td>14</td><td>ExprTuple</td><td>18</td><td><a class=\"ProveItLink\" href=\"../5041d0a3d22be2f4350de345a808dcc172954ac40/expr.ipynb\"><img src=\"../5041d0a3d22be2f4350de345a808dcc172954ac40/expr.png\" style=\"display:inline;vertical-align:middle;\" /></a></td></tr>\n",
       "<tr><td>15</td><td>IndexedVar</td><td>variable:&nbsp;47<br>index:&nbsp;53<br></td><td><a class=\"ProveItLink\" href=\"../../../../__pv_it/common/547cf03121fc61889c17c9471fd9cf52308ae0db0/expr.ipynb\"><img src=\"../../../../__pv_it/common/547cf03121fc61889c17c9471fd9cf52308ae0db0/expr.png\" style=\"display:inline;vertical-align:middle;\" /></a></td></tr>\n",
       "<tr><td>16</td><td>Operation</td><td>operator:&nbsp;19<br>operands:&nbsp;20<br></td><td><a class=\"ProveItLink\" href=\"../0089931ed12e7dc97312f488ac4ca08fc13b4b790/expr.ipynb\"><img src=\"../0089931ed12e7dc97312f488ac4ca08fc13b4b790/expr.png\" style=\"display:inline;vertical-align:middle;\" /></a></td></tr>\n",
       "<tr><td>17</td><td>Operation</td><td>operator:&nbsp;37<br>operands:&nbsp;21<br></td><td><a class=\"ProveItLink\" href=\"../../common/8c3025d5cd9e61f378fd141d5293b8e18dc05ce70/expr.ipynb\"><img src=\"../../common/8c3025d5cd9e61f378fd141d5293b8e18dc05ce70/expr.png\" style=\"display:inline;vertical-align:middle;\" /></a></td></tr>\n",
       "<tr><td>18</td><td>ExprRange</td><td>lambda_map:&nbsp;22<br>start_index:&nbsp;42<br>end_index:&nbsp;28<br></td><td><a class=\"ProveItLink\" href=\"../../common/0ba651005da2872515e635648fe9d027abb990f40/expr.ipynb\"><img src=\"../../common/0ba651005da2872515e635648fe9d027abb990f40/expr.png\" style=\"display:inline;vertical-align:middle;\" /></a></td></tr>\n",
       "<tr><td>19</td><td>Literal</td><td></td><td><a class=\"ProveItLink\" href=\"../../common/43df765abf1294d8f1fd177863f57f08bf5ad0080/expr.ipynb\"><img src=\"../../common/43df765abf1294d8f1fd177863f57f08bf5ad0080/expr.png\" style=\"display:inline;vertical-align:middle;\" /></a></td></tr>\n",
       "<tr><td>20</td><td>ExprTuple</td><td>23</td><td><a class=\"ProveItLink\" href=\"../f6a9f3136adafdac5579b83df4de1db09052c4630/expr.ipynb\"><img src=\"../f6a9f3136adafdac5579b83df4de1db09052c4630/expr.png\" style=\"display:inline;vertical-align:middle;\" /></a></td></tr>\n",
       "<tr><td>21</td><td>ExprTuple</td><td>24</td><td><a class=\"ProveItLink\" href=\"../../common/21be8d1018d1c34fcc47df5436a3e8d79c491e230/expr.ipynb\"><img src=\"../../common/21be8d1018d1c34fcc47df5436a3e8d79c491e230/expr.png\" style=\"display:inline;vertical-align:middle;\" /></a></td></tr>\n",
       "<tr><td>22</td><td>Lambda</td><td>parameter:&nbsp;53<br>body:&nbsp;25<br></td><td><a class=\"ProveItLink\" href=\"../../common/6c02f56664c6e68012046be19774bbc3b50ae28a0/expr.ipynb\"><img src=\"../../common/6c02f56664c6e68012046be19774bbc3b50ae28a0/expr.png\" style=\"display:inline;vertical-align:middle;\" /></a></td></tr>\n",
       "<tr><td>23</td><td>ExprRange</td><td>lambda_map:&nbsp;26<br>start_index:&nbsp;42<br>end_index:&nbsp;28<br></td><td><a class=\"ProveItLink\" href=\"../../common/a569b75414739b2ae3cea468f5af7ee6c1036e150/expr.ipynb\"><img src=\"../../common/a569b75414739b2ae3cea468f5af7ee6c1036e150/expr.png\" style=\"display:inline;vertical-align:middle;\" /></a></td></tr>\n",
       "<tr><td>24</td><td>ExprRange</td><td>lambda_map:&nbsp;27<br>start_index:&nbsp;42<br>end_index:&nbsp;28<br></td><td><a class=\"ProveItLink\" href=\"../../common/4b16ad93eef99e7b148dcf431c5c0ce54ddbfc520/expr.ipynb\"><img src=\"../../common/4b16ad93eef99e7b148dcf431c5c0ce54ddbfc520/expr.png\" style=\"display:inline;vertical-align:middle;\" /></a></td></tr>\n",
       "<tr><td>25</td><td>Operation</td><td>operator:&nbsp;29<br>operands:&nbsp;30<br></td><td><a class=\"ProveItLink\" href=\"../../common/ad76e7e984cfb474d950ab5f6911faba7cab88560/expr.ipynb\"><img src=\"../../common/ad76e7e984cfb474d950ab5f6911faba7cab88560/expr.png\" style=\"display:inline;vertical-align:middle;\" /></a></td></tr>\n",
       "<tr><td>26</td><td>Lambda</td><td>parameter:&nbsp;50<br>body:&nbsp;31<br></td><td><a class=\"ProveItLink\" href=\"../../common/84cb69c85a7b96b98d83f3a090d2761480356bdd0/expr.ipynb\"><img src=\"../../common/84cb69c85a7b96b98d83f3a090d2761480356bdd0/expr.png\" style=\"display:inline;vertical-align:middle;\" /></a></td></tr>\n",
       "<tr><td>27</td><td>Lambda</td><td>parameter:&nbsp;53<br>body:&nbsp;32<br></td><td><a class=\"ProveItLink\" href=\"../../common/f2b41ff423a75eaa04f6b153328374ed08db84c90/expr.ipynb\"><img src=\"../../common/f2b41ff423a75eaa04f6b153328374ed08db84c90/expr.png\" style=\"display:inline;vertical-align:middle;\" /></a></td></tr>\n",
       "<tr><td>28</td><td>Variable</td><td></td><td><a class=\"ProveItLink\" href=\"../../../../../__pv_it/common/8968bb04eb3f7dfa02353397ce929b025bbd79c20/expr.ipynb\"><img src=\"../../../../../__pv_it/common/8968bb04eb3f7dfa02353397ce929b025bbd79c20/expr.png\" style=\"display:inline;vertical-align:middle;\" /></a></td></tr>\n",
       "<tr><td>29</td><td>Literal</td><td></td><td><a class=\"ProveItLink\" href=\"../../../../../logic/sets/membership/__pv_it/common/477487d8796864d23d5810f83761435f25167f690/expr.ipynb\"><img src=\"../../../../../logic/sets/membership/__pv_it/common/477487d8796864d23d5810f83761435f25167f690/expr.png\" style=\"display:inline;vertical-align:middle;\" /></a></td></tr>\n",
       "<tr><td>30</td><td>ExprTuple</td><td>32, 33</td><td><a class=\"ProveItLink\" href=\"../../common/dbf0ab5bfbd3cac9dec2e1a8d354e95760670f240/expr.ipynb\"><img src=\"../../common/dbf0ab5bfbd3cac9dec2e1a8d354e95760670f240/expr.png\" style=\"display:inline;vertical-align:middle;\" /></a></td></tr>\n",
       "<tr><td>31</td><td>ExprRange</td><td>lambda_map:&nbsp;34<br>start_index:&nbsp;35<br>end_index:&nbsp;36<br></td><td><a class=\"ProveItLink\" href=\"../../common/c994d797c02aa375a25ce237c76335b13ea41ec20/expr.ipynb\"><img src=\"../../common/c994d797c02aa375a25ce237c76335b13ea41ec20/expr.png\" style=\"display:inline;vertical-align:middle;\" /></a></td></tr>\n",
       "<tr><td>32</td><td>Operation</td><td>operator:&nbsp;37<br>operands:&nbsp;38<br></td><td><a class=\"ProveItLink\" href=\"../../common/235895f35b8c7a169fd1c2b6ceb2fc8256e875d90/expr.ipynb\"><img src=\"../../common/235895f35b8c7a169fd1c2b6ceb2fc8256e875d90/expr.png\" style=\"display:inline;vertical-align:middle;\" /></a></td></tr>\n",
       "<tr><td>33</td><td>Literal</td><td></td><td><a class=\"ProveItLink\" href=\"../../../../../numbers/number_sets/natural_numbers/__pv_it/common/8b7c321957f52ed3b05b36af612eeae4fa4783bc0/expr.ipynb\"><img src=\"../../../../../numbers/number_sets/natural_numbers/__pv_it/common/8b7c321957f52ed3b05b36af612eeae4fa4783bc0/expr.png\" style=\"display:inline;vertical-align:middle;\" /></a></td></tr>\n",
       "<tr><td>34</td><td>Lambda</td><td>parameter:&nbsp;53<br>body:&nbsp;39<br></td><td><a class=\"ProveItLink\" href=\"../../common/91fbd1e224e0abd4dfa6b22c47ff294d2af20c1c0/expr.ipynb\"><img src=\"../../common/91fbd1e224e0abd4dfa6b22c47ff294d2af20c1c0/expr.png\" style=\"display:inline;vertical-align:middle;\" /></a></td></tr>\n",
       "<tr><td>35</td><td>IndexedVar</td><td>variable:&nbsp;51<br>index:&nbsp;50<br></td><td><a class=\"ProveItLink\" href=\"../../common/e9b801b0d9eeb43dff862a90bb5d895df222047d0/expr.ipynb\"><img src=\"../../common/e9b801b0d9eeb43dff862a90bb5d895df222047d0/expr.png\" style=\"display:inline;vertical-align:middle;\" /></a></td></tr>\n",
       "<tr><td>36</td><td>IndexedVar</td><td>variable:&nbsp;44<br>index:&nbsp;50<br></td><td><a class=\"ProveItLink\" href=\"../../common/1b55dad2dcf6b76e35e2f224d5630f2b71a43dae0/expr.ipynb\"><img src=\"../../common/1b55dad2dcf6b76e35e2f224d5630f2b71a43dae0/expr.png\" style=\"display:inline;vertical-align:middle;\" /></a></td></tr>\n",
       "<tr><td>37</td><td>Literal</td><td></td><td><a class=\"ProveItLink\" href=\"../../../../../numbers/addition/__pv_it/common/4b7effaab3619a1c2c38fe2dee8601df8ec714590/expr.ipynb\"><img src=\"../../../../../numbers/addition/__pv_it/common/4b7effaab3619a1c2c38fe2dee8601df8ec714590/expr.png\" style=\"display:inline;vertical-align:middle;\" /></a></td></tr>\n",
       "<tr><td>38</td><td>ExprTuple</td><td>40, 41, 42</td><td><a class=\"ProveItLink\" href=\"../../common/5536594311e8a905d82c07711610e8fb1029bed10/expr.ipynb\"><img src=\"../../common/5536594311e8a905d82c07711610e8fb1029bed10/expr.png\" style=\"display:inline;vertical-align:middle;\" /></a></td></tr>\n",
       "<tr><td>39</td><td>Operation</td><td>operator:&nbsp;43<br>operand:&nbsp;53<br></td><td><a class=\"ProveItLink\" href=\"../../common/4543d681feb1ba745f997390f1f306d51b254a040/expr.ipynb\"><img src=\"../../common/4543d681feb1ba745f997390f1f306d51b254a040/expr.png\" style=\"display:inline;vertical-align:middle;\" /></a></td></tr>\n",
       "<tr><td>40</td><td>IndexedVar</td><td>variable:&nbsp;44<br>index:&nbsp;53<br></td><td><a class=\"ProveItLink\" href=\"../../../../__pv_it/common/90508669f7d91496e75b11cc407c71e3abe928350/expr.ipynb\"><img src=\"../../../../__pv_it/common/90508669f7d91496e75b11cc407c71e3abe928350/expr.png\" style=\"display:inline;vertical-align:middle;\" /></a></td></tr>\n",
       "<tr><td>41</td><td>Operation</td><td>operator:&nbsp;45<br>operand:&nbsp;49<br></td><td><a class=\"ProveItLink\" href=\"../../common/dbd7cc4a70f5bf7a9dc058b05793d4e0d4d933af0/expr.ipynb\"><img src=\"../../common/dbd7cc4a70f5bf7a9dc058b05793d4e0d4d933af0/expr.png\" style=\"display:inline;vertical-align:middle;\" /></a></td></tr>\n",
       "<tr><td>42</td><td>Literal</td><td></td><td><a class=\"ProveItLink\" href=\"../../../../../numbers/numerals/__pv_it/common/682157d4892d216d9e5626ed533aff9b56b9506e0/expr.ipynb\"><img src=\"../../../../../numbers/numerals/__pv_it/common/682157d4892d216d9e5626ed533aff9b56b9506e0/expr.png\" style=\"display:inline;vertical-align:middle;\" /></a></td></tr>\n",
       "<tr><td>43</td><td>IndexedVar</td><td>variable:&nbsp;47<br>index:&nbsp;50<br></td><td><a class=\"ProveItLink\" href=\"../../common/5bd3db69303afa465308092059ecc64ddc1d429a0/expr.ipynb\"><img src=\"../../common/5bd3db69303afa465308092059ecc64ddc1d429a0/expr.png\" style=\"display:inline;vertical-align:middle;\" /></a></td></tr>\n",
       "<tr><td>44</td><td>Variable</td><td></td><td><a class=\"ProveItLink\" href=\"../../../../../__pv_it/common/1ed21df18baca2f42b561a7ffbf30a2743d594650/expr.ipynb\"><img src=\"../../../../../__pv_it/common/1ed21df18baca2f42b561a7ffbf30a2743d594650/expr.png\" style=\"display:inline;vertical-align:middle;\" /></a></td></tr>\n",
       "<tr><td>45</td><td>Literal</td><td></td><td><a class=\"ProveItLink\" href=\"../../../../../numbers/negation/__pv_it/common/221b3c4d1770ee9051b7c044c3f9ec61196fc34b0/expr.ipynb\"><img src=\"../../../../../numbers/negation/__pv_it/common/221b3c4d1770ee9051b7c044c3f9ec61196fc34b0/expr.png\" style=\"display:inline;vertical-align:middle;\" /></a></td></tr>\n",
       "<tr><td>46</td><td>ExprTuple</td><td>49</td><td><a class=\"ProveItLink\" href=\"../../common/eafc25357862fc91da4441b5f04434b0c902d2230/expr.ipynb\"><img src=\"../../common/eafc25357862fc91da4441b5f04434b0c902d2230/expr.png\" style=\"display:inline;vertical-align:middle;\" /></a></td></tr>\n",
       "<tr><td>47</td><td>Variable</td><td></td><td><a class=\"ProveItLink\" href=\"../../../../../__pv_it/common/01b6dbb444a31fc38af4c2379badef6c75b363710/expr.ipynb\"><img src=\"../../../../../__pv_it/common/01b6dbb444a31fc38af4c2379badef6c75b363710/expr.png\" style=\"display:inline;vertical-align:middle;\" /></a></td></tr>\n",
       "<tr><td>48</td><td>ExprTuple</td><td>50</td><td><a class=\"ProveItLink\" href=\"../../common/18f7318b68e45ff8356043b6e71619fa8450fb200/expr.ipynb\"><img src=\"../../common/18f7318b68e45ff8356043b6e71619fa8450fb200/expr.png\" style=\"display:inline;vertical-align:middle;\" /></a></td></tr>\n",
       "<tr><td>49</td><td>IndexedVar</td><td>variable:&nbsp;51<br>index:&nbsp;53<br></td><td><a class=\"ProveItLink\" href=\"../../../../__pv_it/common/769fea6d137fb225212d47f83bb07b14f0183d790/expr.ipynb\"><img src=\"../../../../__pv_it/common/769fea6d137fb225212d47f83bb07b14f0183d790/expr.png\" style=\"display:inline;vertical-align:middle;\" /></a></td></tr>\n",
       "<tr><td>50</td><td>Variable</td><td></td><td><a class=\"ProveItLink\" href=\"../../common/9a18d67b443cf8d92289c655ed91ec78766170a90/expr.ipynb\"><img src=\"../../common/9a18d67b443cf8d92289c655ed91ec78766170a90/expr.png\" style=\"display:inline;vertical-align:middle;\" /></a></td></tr>\n",
       "<tr><td>51</td><td>Variable</td><td></td><td><a class=\"ProveItLink\" href=\"../../../../../__pv_it/common/ae955345c83abf786c3aff8681cd5465beae262d0/expr.ipynb\"><img src=\"../../../../../__pv_it/common/ae955345c83abf786c3aff8681cd5465beae262d0/expr.png\" style=\"display:inline;vertical-align:middle;\" /></a></td></tr>\n",
       "<tr><td>52</td><td>ExprTuple</td><td>53</td><td><a class=\"ProveItLink\" href=\"../../../../__pv_it/common/4b0dd6be36d76552eda6a95d5b4a27f5a5b62f900/expr.ipynb\"><img src=\"../../../../__pv_it/common/4b0dd6be36d76552eda6a95d5b4a27f5a5b62f900/expr.png\" style=\"display:inline;vertical-align:middle;\" /></a></td></tr>\n",
       "<tr><td>53</td><td>Variable</td><td></td><td><a class=\"ProveItLink\" href=\"../../../../__pv_it/common/006c465e50948aa2b52285e2de47974f741255cc0/expr.ipynb\"><img src=\"../../../../__pv_it/common/006c465e50948aa2b52285e2de47974f741255cc0/expr.png\" style=\"display:inline;vertical-align:middle;\" /></a></td></tr>\n",
       "</table>\n"
      ],
      "text/plain": [
       "0. (f_{1}, f_{2}, ..., f_{n}, i_{1}, i_{2}, ..., i_{n}, j_{1}, j_{2}, ..., j_{n}) -> {|(f_{1}(i_{1}), f_{1}(i_{1} + 1), ..., f_{1}(j_{1}), f_{2}(i_{2}), f_{2}(i_{2} + 1), ..., f_{2}(j_{2}), ......, f_{n}(i_{n}), f_{n}(i_{n} + 1), ..., f_{n}(j_{n}))| \\\\  = ((j_{1} - i_{1} + 1) +  (j_{2} - i_{2} + 1) +  ... +  (j_{n} - i_{n} + 1)) if ((j_{1} - i_{1} + 1) in Natural) and  ((j_{2} - i_{2} + 1) in Natural) and  ... and  ((j_{n} - i_{n} + 1) in Natural).\n",
       "   core type: Lambda\n",
       "   parameters: 1\\n   body: 2\n",
       "1. (f_{1}, f_{2}, ..., f_{n},i_{1}, i_{2}, ..., i_{n},j_{1}, j_{2}, ..., j_{n})\n",
       "   core type: ExprTuple\n",
       "   sub-expressions: 3, 4, 5\n",
       "2. {|(f_{1}(i_{1}), f_{1}(i_{1} + 1), ..., f_{1}(j_{1}), f_{2}(i_{2}), f_{2}(i_{2} + 1), ..., f_{2}(j_{2}), ......, f_{n}(i_{n}), f_{n}(i_{n} + 1), ..., f_{n}(j_{n}))| \\\\  = ((j_{1} - i_{1} + 1) +  (j_{2} - i_{2} + 1) +  ... +  (j_{n} - i_{n} + 1)) if ((j_{1} - i_{1} + 1) in Natural) and  ((j_{2} - i_{2} + 1) in Natural) and  ... and  ((j_{n} - i_{n} + 1) in Natural).\n",
       "   core type: Conditional\n",
       "   value: 6\n",
       "   condition: 7\n",
       "3. f_{1}, f_{2}, ..., f_{n}\n",
       "   core type: ExprRange\n",
       "   lambda_map: 8\n",
       "   start_index: 42\n",
       "   end_index: 28\n",
       "4. i_{1}, i_{2}, ..., i_{n}\n",
       "   core type: ExprRange\n",
       "   lambda_map: 9\n",
       "   start_index: 42\n",
       "   end_index: 28\n",
       "5. j_{1}, j_{2}, ..., j_{n}\n",
       "   core type: ExprRange\n",
       "   lambda_map: 10\n",
       "   start_index: 42\n",
       "   end_index: 28\n",
       "6. |(f_{1}(i_{1}), f_{1}(i_{1} + 1), ..., f_{1}(j_{1}), f_{2}(i_{2}), f_{2}(i_{2} + 1), ..., f_{2}(j_{2}), ......, f_{n}(i_{n}), f_{n}(i_{n} + 1), ..., f_{n}(j_{n}))| \\\\  = ((j_{1} - i_{1} + 1) +  (j_{2} - i_{2} + 1) +  ... +  (j_{n} - i_{n} + 1))\n",
       "   core type: Operation\n",
       "   operator: 11\n",
       "   operands: 12\n",
       "7. ((j_{1} - i_{1} + 1) in Natural) and  ((j_{2} - i_{2} + 1) in Natural) and  ... and  ((j_{n} - i_{n} + 1) in Natural)\n",
       "   core type: Operation\n",
       "   operator: 13\n",
       "   operands: 14\n",
       "8. _a -> f_{_a}\n",
       "   core type: Lambda\n",
       "   parameter: 53\n",
       "   body: 15\n",
       "9. _a -> i_{_a}\n",
       "   core type: Lambda\n",
       "   parameter: 53\n",
       "   body: 49\n",
       "10. _a -> j_{_a}\n",
       "    core type: Lambda\n",
       "    parameter: 53\n",
       "    body: 40\n",
       "11. =\n",
       "    core type: Literal\n",
       "    sub-expressions: \n",
       "12. (|(f_{1}(i_{1}), f_{1}(i_{1} + 1), ..., f_{1}(j_{1}), f_{2}(i_{2}), f_{2}(i_{2} + 1), ..., f_{2}(j_{2}), ......, f_{n}(i_{n}), f_{n}(i_{n} + 1), ..., f_{n}(j_{n}))|, (j_{1} - i_{1} + 1) +  (j_{2} - i_{2} + 1) +  ... +  (j_{n} - i_{n} + 1))\n",
       "    core type: ExprTuple\n",
       "    sub-expressions: 16, 17\n",
       "13. and\n",
       "    core type: Literal\n",
       "    sub-expressions: \n",
       "14. (((j_{1} - i_{1} + 1) in Natural), ((j_{2} - i_{2} + 1) in Natural), ..., ((j_{n} - i_{n} + 1) in Natural))\n",
       "    core type: ExprTuple\n",
       "    sub-expressions: 18\n",
       "15. f_{_a}\n",
       "    core type: IndexedVar\n",
       "variable: 47\n",
       "index: 53\n",
       "16. |(f_{1}(i_{1}), f_{1}(i_{1} + 1), ..., f_{1}(j_{1}), f_{2}(i_{2}), f_{2}(i_{2} + 1), ..., f_{2}(j_{2}), ......, f_{n}(i_{n}), f_{n}(i_{n} + 1), ..., f_{n}(j_{n}))|\n",
       "    core type: Operation\n",
       "    operator: 19\n",
       "    operands: 20\n",
       "17. (j_{1} - i_{1} + 1) +  (j_{2} - i_{2} + 1) +  ... +  (j_{n} - i_{n} + 1)\n",
       "    core type: Operation\n",
       "    operator: 37\n",
       "    operands: 21\n",
       "18. ((j_{1} - i_{1} + 1) in Natural), ((j_{2} - i_{2} + 1) in Natural), ..., ((j_{n} - i_{n} + 1) in Natural)\n",
       "    core type: ExprRange\n",
       "    lambda_map: 22\n",
       "    start_index: 42\n",
       "    end_index: 28\n",
       "19. length\n",
       "    core type: Literal\n",
       "    sub-expressions: \n",
       "20. (f_{1}(i_{1}), f_{1}(i_{1} + 1), ..., f_{1}(j_{1}), f_{2}(i_{2}), f_{2}(i_{2} + 1), ..., f_{2}(j_{2}), ......, f_{n}(i_{n}), f_{n}(i_{n} + 1), ..., f_{n}(j_{n}))\n",
       "    core type: ExprTuple\n",
       "    sub-expressions: 23\n",
       "21. ((j_{1} - i_{1} + 1), (j_{2} - i_{2} + 1), ..., (j_{n} - i_{n} + 1))\n",
       "    core type: ExprTuple\n",
       "    sub-expressions: 24\n",
       "22. _a -> ((j_{_a} - i_{_a} + 1) in Natural)\n",
       "    core type: Lambda\n",
       "    parameter: 53\n",
       "    body: 25\n",
       "23. f_{1}(i_{1}), f_{1}(i_{1} + 1), ..., f_{1}(j_{1}), f_{2}(i_{2}), f_{2}(i_{2} + 1), ..., f_{2}(j_{2}), ......, f_{n}(i_{n}), f_{n}(i_{n} + 1), ..., f_{n}(j_{n})\n",
       "    core type: ExprRange\n",
       "    lambda_map: 26\n",
       "    start_index: 42\n",
       "    end_index: 28\n",
       "24. (j_{1} - i_{1} + 1), (j_{2} - i_{2} + 1), ..., (j_{n} - i_{n} + 1)\n",
       "    core type: ExprRange\n",
       "    lambda_map: 27\n",
       "    start_index: 42\n",
       "    end_index: 28\n",
       "25. (j_{_a} - i_{_a} + 1) in Natural\n",
       "    core type: Operation\n",
       "    operator: 29\n",
       "    operands: 30\n",
       "26. _b -> f_{_b}(i_{_b}), f_{_b}(i_{_b} + 1), ..., f_{_b}(j_{_b})\n",
       "    core type: Lambda\n",
       "    parameter: 50\n",
       "    body: 31\n",
       "27. _a -> (j_{_a} - i_{_a} + 1)\n",
       "    core type: Lambda\n",
       "    parameter: 53\n",
       "    body: 32\n",
       "28. n\n",
       "    core type: Variable\n",
       "    sub-expressions: \n",
       "29. in\n",
       "    core type: Literal\n",
       "    sub-expressions: \n",
       "30. (j_{_a} - i_{_a} + 1, Natural)\n",
       "    core type: ExprTuple\n",
       "    sub-expressions: 32, 33\n",
       "31. f_{_b}(i_{_b}), f_{_b}(i_{_b} + 1), ..., f_{_b}(j_{_b})\n",
       "    core type: ExprRange\n",
       "    lambda_map: 34\n",
       "    start_index: 35\n",
       "    end_index: 36\n",
       "32. j_{_a} - i_{_a} + 1\n",
       "    core type: Operation\n",
       "    operator: 37\n",
       "    operands: 38\n",
       "33. Natural\n",
       "    core type: Literal\n",
       "    sub-expressions: \n",
       "34. _a -> f_{_b}(_a)\n",
       "    core type: Lambda\n",
       "    parameter: 53\n",
       "    body: 39\n",
       "35. i_{_b}\n",
       "    core type: IndexedVar\n",
       "variable: 51\n",
       "index: 50\n",
       "36. j_{_b}\n",
       "    core type: IndexedVar\n",
       "variable: 44\n",
       "index: 50\n",
       "37. +\n",
       "    core type: Literal\n",
       "    sub-expressions: \n",
       "38. (j_{_a}, -i_{_a}, 1)\n",
       "    core type: ExprTuple\n",
       "    sub-expressions: 40, 41, 42\n",
       "39. f_{_b}(_a)\n",
       "    core type: Operation\n",
       "    operator: 43\n",
       "    operand: 53\n",
       "40. j_{_a}\n",
       "    core type: IndexedVar\n",
       "variable: 44\n",
       "index: 53\n",
       "41. -i_{_a}\n",
       "    core type: Operation\n",
       "    operator: 45\n",
       "    operand: 49\n",
       "42. 1\n",
       "    core type: Literal\n",
       "    sub-expressions: \n",
       "43. f_{_b}\n",
       "    core type: IndexedVar\n",
       "variable: 47\n",
       "index: 50\n",
       "44. j\n",
       "    core type: Variable\n",
       "    sub-expressions: \n",
       "45. -\n",
       "    core type: Literal\n",
       "    sub-expressions: \n",
       "46. (i_{_a})\n",
       "    core type: ExprTuple\n",
       "    sub-expressions: 49\n",
       "47. f\n",
       "    core type: Variable\n",
       "    sub-expressions: \n",
       "48. (_b)\n",
       "    core type: ExprTuple\n",
       "    sub-expressions: 50\n",
       "49. i_{_a}\n",
       "    core type: IndexedVar\n",
       "variable: 51\n",
       "index: 53\n",
       "50. _b\n",
       "    core type: Variable\n",
       "    sub-expressions: \n",
       "51. i\n",
       "    core type: Variable\n",
       "    sub-expressions: \n",
       "52. (_a)\n",
       "    core type: ExprTuple\n",
       "    sub-expressions: 53\n",
       "53. _a\n",
       "    core type: Variable\n",
       "    sub-expressions: "
      ]
     },
     "metadata": {},
     "output_type": "display_data"
    }
   ],
   "source": [
    "# display the expression information\n",
    "stored_expr.expr_info()"
   ]
  },
  {
   "cell_type": "code",
   "execution_count": null,
   "metadata": {},
   "outputs": [],
   "source": []
  }
 ],
 "metadata": {
  "kernelspec": {
   "display_name": "Python 3",
   "language": "python",
   "name": "python3"
  }
 },
 "nbformat": 4,
 "nbformat_minor": 0
}