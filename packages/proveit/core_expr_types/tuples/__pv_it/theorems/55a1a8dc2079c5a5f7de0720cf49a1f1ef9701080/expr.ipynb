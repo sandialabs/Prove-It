{
 "cells": [
  {
   "cell_type": "markdown",
   "metadata": {},
   "source": [
    "Expression of type <a class=\"ProveItLink\" href=\"../../../../../../../doc/html/api/proveit.Conditional.html\">Conditional</a>\n",
    "=======================\n",
    "# from the theory of <a class=\"ProveItLink\" href=\"../../../_theory_nbs_/theory.ipynb\">proveit.core_expr_types.tuples</a>"
   ]
  },
  {
   "cell_type": "code",
   "execution_count": 1,
   "metadata": {},
   "outputs": [],
   "source": [
    "import proveit\n",
    "# Automation is not needed when building an expression:\n",
    "proveit.defaults.automation = False # This will speed things up.\n",
    "proveit.defaults.inline_pngs = False # Makes files smaller.\n",
    "%load_expr # Load the stored expression as 'stored_expr'\n",
    "# import Expression classes needed to build the expression\n",
    "from proveit import Conditional, fi, fj, i, j\n",
    "from proveit.core_expr_types import f_i_to_j\n",
    "from proveit.logic import Equals\n",
    "from proveit.numbers import Add, one"
   ]
  },
  {
   "cell_type": "code",
   "execution_count": 2,
   "metadata": {},
   "outputs": [
    {
     "data": {
      "text/html": [
       "<strong id=\"expr\">expr:</strong> <a class=\"ProveItLink\" href=\"expr.ipynb\"><img src=\"expr.png\" style=\"display:inline;vertical-align:middle;\" /></a><br>"
      ],
      "text/plain": [
       "<IPython.core.display.HTML object>"
      ]
     },
     "metadata": {},
     "output_type": "display_data"
    }
   ],
   "source": [
    "# build up the expression from sub-expressions\n",
    "expr = Conditional(Equals([fi, fj], [f_i_to_j]), Equals(j, Add(i, one)))"
   ]
  },
  {
   "cell_type": "code",
   "execution_count": 3,
   "metadata": {},
   "outputs": [
    {
     "name": "stdout",
     "output_type": "stream",
     "text": [
      "Passed sanity check: expr matches stored_expr\n"
     ]
    }
   ],
   "source": [
    "# check that the built expression is the same as the stored expression\n",
    "assert expr == stored_expr\n",
    "assert expr._style_id == stored_expr._style_id\n",
    "print(\"Passed sanity check: expr matches stored_expr\")"
   ]
  },
  {
   "cell_type": "code",
   "execution_count": 4,
   "metadata": {},
   "outputs": [
    {
     "name": "stdout",
     "output_type": "stream",
     "text": [
      "\\left\\{\\left(f\\left(i\\right), f\\left(j\\right)\\right) = \\left(f\\left(i\\right), f\\left(i + 1\\right), \\ldots, f\\left(j\\right)\\right) \\textrm{ if } j = \\left(i + 1\\right)\\right..\n"
     ]
    }
   ],
   "source": [
    "# Show the LaTeX representation of the expression for convenience if you need it.\n",
    "print(stored_expr.latex())"
   ]
  },
  {
   "cell_type": "code",
   "execution_count": 5,
   "metadata": {},
   "outputs": [
    {
     "data": {
      "text/html": [
       "<table>\n",
       "<tr><th>name</th><th>description</th><th>default</th><th>current value</th><th>related methods</th></tr><tr><td>condition_delimiter</td><td>'comma' or 'and'</td><td>comma</td><td>comma</td><td>('with_comma_delimiter', 'with_conjunction_delimiter')</td></tr>\n",
       "</table>\n"
      ],
      "text/plain": [
       "style name: condition_delimiter\n",
       "description: 'comma' or 'and'\n",
       "default: comma\n",
       "current value: comma\n",
       "related methods: ('with_comma_delimiter', 'with_conjunction_delimiter')"
      ]
     },
     "metadata": {},
     "output_type": "display_data"
    }
   ],
   "source": [
    "stored_expr.style_options()"
   ]
  },
  {
   "cell_type": "code",
   "execution_count": 6,
   "metadata": {},
   "outputs": [
    {
     "data": {
      "text/html": [
       "<table><tr><th>&nbsp;</th><th>core type</th><th>sub-expressions</th><th>expression</th></tr>\n",
       "<tr><td>0</td><td>Conditional</td><td>value:&nbsp;1<br>condition:&nbsp;2<br></td><td><a class=\"ProveItLink\" href=\"expr.ipynb\"><img src=\"expr.png\" style=\"display:inline;vertical-align:middle;\" /></a></td></tr>\n",
       "<tr><td>1</td><td>Operation</td><td>operator:&nbsp;4<br>operands:&nbsp;3<br></td><td><a class=\"ProveItLink\" href=\"../3fa4520b54ac49183bd2d590e8e27ba9a5d3fafb0/expr.ipynb\"><img src=\"../3fa4520b54ac49183bd2d590e8e27ba9a5d3fafb0/expr.png\" style=\"display:inline;vertical-align:middle;\" /></a></td></tr>\n",
       "<tr><td>2</td><td>Operation</td><td>operator:&nbsp;4<br>operands:&nbsp;5<br></td><td><a class=\"ProveItLink\" href=\"../7437e34d36e7b405f4e03fda13b834bd998096d30/expr.ipynb\"><img src=\"../7437e34d36e7b405f4e03fda13b834bd998096d30/expr.png\" style=\"display:inline;vertical-align:middle;\" /></a></td></tr>\n",
       "<tr><td>3</td><td>ExprTuple</td><td>6, 7</td><td><a class=\"ProveItLink\" href=\"../d97c686c22dec8403c7bb54ad9121cff986eb35e0/expr.ipynb\"><img src=\"../d97c686c22dec8403c7bb54ad9121cff986eb35e0/expr.png\" style=\"display:inline;vertical-align:middle;\" /></a></td></tr>\n",
       "<tr><td>4</td><td>Literal</td><td></td><td><a class=\"ProveItLink\" href=\"../../../../../logic/equality/__pv_it/common/fb96dc12b2aa8801dda64d0132b396c63d1502bb0/expr.ipynb\"><img src=\"../../../../../logic/equality/__pv_it/common/fb96dc12b2aa8801dda64d0132b396c63d1502bb0/expr.png\" style=\"display:inline;vertical-align:middle;\" /></a></td></tr>\n",
       "<tr><td>5</td><td>ExprTuple</td><td>19, 8</td><td><a class=\"ProveItLink\" href=\"../2c84694578149d833d7352d3ce49e989904b5a950/expr.ipynb\"><img src=\"../2c84694578149d833d7352d3ce49e989904b5a950/expr.png\" style=\"display:inline;vertical-align:middle;\" /></a></td></tr>\n",
       "<tr><td>6</td><td>ExprTuple</td><td>9, 10</td><td><a class=\"ProveItLink\" href=\"../2f05e23f0b61d2cdb39e793ef3e785f2414b1d280/expr.ipynb\"><img src=\"../2f05e23f0b61d2cdb39e793ef3e785f2414b1d280/expr.png\" style=\"display:inline;vertical-align:middle;\" /></a></td></tr>\n",
       "<tr><td>7</td><td>ExprTuple</td><td>11</td><td><a class=\"ProveItLink\" href=\"../../../../__pv_it/common/e7a80fc9143dea62333f7779cd60665a5fb841c70/expr.ipynb\"><img src=\"../../../../__pv_it/common/e7a80fc9143dea62333f7779cd60665a5fb841c70/expr.png\" style=\"display:inline;vertical-align:middle;\" /></a></td></tr>\n",
       "<tr><td>8</td><td>Operation</td><td>operator:&nbsp;12<br>operands:&nbsp;13<br></td><td><a class=\"ProveItLink\" href=\"../../../../__pv_it/common/a2e143af123f66da09e0988b76b1d4e48661786c0/expr.ipynb\"><img src=\"../../../../__pv_it/common/a2e143af123f66da09e0988b76b1d4e48661786c0/expr.png\" style=\"display:inline;vertical-align:middle;\" /></a></td></tr>\n",
       "<tr><td>9</td><td>Operation</td><td>operator:&nbsp;21<br>operand:&nbsp;18<br></td><td><a class=\"ProveItLink\" href=\"../../../../__pv_it/common/47417ab7f1e7f118867e6cd89ca650b18d19923f0/expr.ipynb\"><img src=\"../../../../__pv_it/common/47417ab7f1e7f118867e6cd89ca650b18d19923f0/expr.png\" style=\"display:inline;vertical-align:middle;\" /></a></td></tr>\n",
       "<tr><td>10</td><td>Operation</td><td>operator:&nbsp;21<br>operand:&nbsp;19<br></td><td><a class=\"ProveItLink\" href=\"../../../../__pv_it/common/c0fa75ff73ad8460566542ebda2b9c56866f27420/expr.ipynb\"><img src=\"../../../../__pv_it/common/c0fa75ff73ad8460566542ebda2b9c56866f27420/expr.png\" style=\"display:inline;vertical-align:middle;\" /></a></td></tr>\n",
       "<tr><td>11</td><td>ExprRange</td><td>lambda_map:&nbsp;16<br>start_index:&nbsp;18<br>end_index:&nbsp;19<br></td><td><a class=\"ProveItLink\" href=\"../../../../__pv_it/common/253a5fe8886c2ac76e888f437ab1b15f51c1335e0/expr.ipynb\"><img src=\"../../../../__pv_it/common/253a5fe8886c2ac76e888f437ab1b15f51c1335e0/expr.png\" style=\"display:inline;vertical-align:middle;\" /></a></td></tr>\n",
       "<tr><td>12</td><td>Literal</td><td></td><td><a class=\"ProveItLink\" href=\"../../../../../numbers/addition/__pv_it/common/4b7effaab3619a1c2c38fe2dee8601df8ec714590/expr.ipynb\"><img src=\"../../../../../numbers/addition/__pv_it/common/4b7effaab3619a1c2c38fe2dee8601df8ec714590/expr.png\" style=\"display:inline;vertical-align:middle;\" /></a></td></tr>\n",
       "<tr><td>13</td><td>ExprTuple</td><td>18, 17</td><td><a class=\"ProveItLink\" href=\"../../../../__pv_it/common/c89850952f9608f21aa2408d82ba7769fea41e400/expr.ipynb\"><img src=\"../../../../__pv_it/common/c89850952f9608f21aa2408d82ba7769fea41e400/expr.png\" style=\"display:inline;vertical-align:middle;\" /></a></td></tr>\n",
       "<tr><td>14</td><td>ExprTuple</td><td>18</td><td><a class=\"ProveItLink\" href=\"../../../../__pv_it/common/0fc33550aa9740010879fdf30c320b63ba918eff0/expr.ipynb\"><img src=\"../../../../__pv_it/common/0fc33550aa9740010879fdf30c320b63ba918eff0/expr.png\" style=\"display:inline;vertical-align:middle;\" /></a></td></tr>\n",
       "<tr><td>15</td><td>ExprTuple</td><td>19</td><td><a class=\"ProveItLink\" href=\"../../../../__pv_it/common/e53e75ee8364373a10f420a7f9184b4cb67637be0/expr.ipynb\"><img src=\"../../../../__pv_it/common/e53e75ee8364373a10f420a7f9184b4cb67637be0/expr.png\" style=\"display:inline;vertical-align:middle;\" /></a></td></tr>\n",
       "<tr><td>16</td><td>Lambda</td><td>parameter:&nbsp;23<br>body:&nbsp;20<br></td><td><a class=\"ProveItLink\" href=\"../../../../__pv_it/common/85a3534ef7cc0fae4ff216233b0408e0e4a3424b0/expr.ipynb\"><img src=\"../../../../__pv_it/common/85a3534ef7cc0fae4ff216233b0408e0e4a3424b0/expr.png\" style=\"display:inline;vertical-align:middle;\" /></a></td></tr>\n",
       "<tr><td>17</td><td>Literal</td><td></td><td><a class=\"ProveItLink\" href=\"../../../../../numbers/numerals/__pv_it/common/682157d4892d216d9e5626ed533aff9b56b9506e0/expr.ipynb\"><img src=\"../../../../../numbers/numerals/__pv_it/common/682157d4892d216d9e5626ed533aff9b56b9506e0/expr.png\" style=\"display:inline;vertical-align:middle;\" /></a></td></tr>\n",
       "<tr><td>18</td><td>Variable</td><td></td><td><a class=\"ProveItLink\" href=\"../../../../../__pv_it/common/ae955345c83abf786c3aff8681cd5465beae262d0/expr.ipynb\"><img src=\"../../../../../__pv_it/common/ae955345c83abf786c3aff8681cd5465beae262d0/expr.png\" style=\"display:inline;vertical-align:middle;\" /></a></td></tr>\n",
       "<tr><td>19</td><td>Variable</td><td></td><td><a class=\"ProveItLink\" href=\"../../../../../__pv_it/common/1ed21df18baca2f42b561a7ffbf30a2743d594650/expr.ipynb\"><img src=\"../../../../../__pv_it/common/1ed21df18baca2f42b561a7ffbf30a2743d594650/expr.png\" style=\"display:inline;vertical-align:middle;\" /></a></td></tr>\n",
       "<tr><td>20</td><td>Operation</td><td>operator:&nbsp;21<br>operand:&nbsp;23<br></td><td><a class=\"ProveItLink\" href=\"../../../../__pv_it/common/1fec0eaf1cfb24a7fd0f169d6d2b28f8410bcd7c0/expr.ipynb\"><img src=\"../../../../__pv_it/common/1fec0eaf1cfb24a7fd0f169d6d2b28f8410bcd7c0/expr.png\" style=\"display:inline;vertical-align:middle;\" /></a></td></tr>\n",
       "<tr><td>21</td><td>Variable</td><td></td><td><a class=\"ProveItLink\" href=\"../../../../../__pv_it/common/01b6dbb444a31fc38af4c2379badef6c75b363710/expr.ipynb\"><img src=\"../../../../../__pv_it/common/01b6dbb444a31fc38af4c2379badef6c75b363710/expr.png\" style=\"display:inline;vertical-align:middle;\" /></a></td></tr>\n",
       "<tr><td>22</td><td>ExprTuple</td><td>23</td><td><a class=\"ProveItLink\" href=\"../../../../__pv_it/common/4b0dd6be36d76552eda6a95d5b4a27f5a5b62f900/expr.ipynb\"><img src=\"../../../../__pv_it/common/4b0dd6be36d76552eda6a95d5b4a27f5a5b62f900/expr.png\" style=\"display:inline;vertical-align:middle;\" /></a></td></tr>\n",
       "<tr><td>23</td><td>Variable</td><td></td><td><a class=\"ProveItLink\" href=\"../../../../__pv_it/common/006c465e50948aa2b52285e2de47974f741255cc0/expr.ipynb\"><img src=\"../../../../__pv_it/common/006c465e50948aa2b52285e2de47974f741255cc0/expr.png\" style=\"display:inline;vertical-align:middle;\" /></a></td></tr>\n",
       "</table>\n"
      ],
      "text/plain": [
       "0. {(f(i), f(j)) = (f(i), f(i + 1), ..., f(j)) if j = (i + 1).\n",
       "   core type: Conditional\n",
       "   value: 1\n",
       "   condition: 2\n",
       "1. (f(i), f(j)) = (f(i), f(i + 1), ..., f(j))\n",
       "   core type: Operation\n",
       "   operator: 4\n",
       "   operands: 3\n",
       "2. j = (i + 1)\n",
       "   core type: Operation\n",
       "   operator: 4\n",
       "   operands: 5\n",
       "3. ((f(i), f(j)), (f(i), f(i + 1), ..., f(j)))\n",
       "   core type: ExprTuple\n",
       "   sub-expressions: 6, 7\n",
       "4. =\n",
       "   core type: Literal\n",
       "   sub-expressions: \n",
       "5. (j, i + 1)\n",
       "   core type: ExprTuple\n",
       "   sub-expressions: 19, 8\n",
       "6. (f(i), f(j))\n",
       "   core type: ExprTuple\n",
       "   sub-expressions: 9, 10\n",
       "7. (f(i), f(i + 1), ..., f(j))\n",
       "   core type: ExprTuple\n",
       "   sub-expressions: 11\n",
       "8. i + 1\n",
       "   core type: Operation\n",
       "   operator: 12\n",
       "   operands: 13\n",
       "9. f(i)\n",
       "   core type: Operation\n",
       "   operator: 21\n",
       "   operand: 18\n",
       "10. f(j)\n",
       "    core type: Operation\n",
       "    operator: 21\n",
       "    operand: 19\n",
       "11. f(i), f(i + 1), ..., f(j)\n",
       "    core type: ExprRange\n",
       "    lambda_map: 16\n",
       "    start_index: 18\n",
       "    end_index: 19\n",
       "12. +\n",
       "    core type: Literal\n",
       "    sub-expressions: \n",
       "13. (i, 1)\n",
       "    core type: ExprTuple\n",
       "    sub-expressions: 18, 17\n",
       "14. (i)\n",
       "    core type: ExprTuple\n",
       "    sub-expressions: 18\n",
       "15. (j)\n",
       "    core type: ExprTuple\n",
       "    sub-expressions: 19\n",
       "16. _a -> f(_a)\n",
       "    core type: Lambda\n",
       "    parameter: 23\n",
       "    body: 20\n",
       "17. 1\n",
       "    core type: Literal\n",
       "    sub-expressions: \n",
       "18. i\n",
       "    core type: Variable\n",
       "    sub-expressions: \n",
       "19. j\n",
       "    core type: Variable\n",
       "    sub-expressions: \n",
       "20. f(_a)\n",
       "    core type: Operation\n",
       "    operator: 21\n",
       "    operand: 23\n",
       "21. f\n",
       "    core type: Variable\n",
       "    sub-expressions: \n",
       "22. (_a)\n",
       "    core type: ExprTuple\n",
       "    sub-expressions: 23\n",
       "23. _a\n",
       "    core type: Variable\n",
       "    sub-expressions: "
      ]
     },
     "metadata": {},
     "output_type": "display_data"
    }
   ],
   "source": [
    "# display the expression information\n",
    "stored_expr.expr_info()"
   ]
  },
  {
   "cell_type": "code",
   "execution_count": null,
   "metadata": {},
   "outputs": [],
   "source": []
  }
 ],
 "metadata": {
  "kernelspec": {
   "display_name": "Python 3",
   "language": "python",
   "name": "python3"
  }
 },
 "nbformat": 4,
 "nbformat_minor": 0
}