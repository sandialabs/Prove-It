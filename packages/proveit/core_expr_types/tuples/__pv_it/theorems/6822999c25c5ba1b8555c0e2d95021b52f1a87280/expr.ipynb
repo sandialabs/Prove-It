{
 "cells": [
  {
   "cell_type": "markdown",
   "metadata": {},
   "source": [
    "Expression of type <a class=\"ProveItLink\" href=\"../../../../../../../doc/html/api/proveit.ExprTuple.html\">ExprTuple</a>\n",
    "=======================\n",
    "# from the theory of <a class=\"ProveItLink\" href=\"../../../_theory_nbs_/theory.ipynb\">proveit.core_expr_types.tuples</a>"
   ]
  },
  {
   "cell_type": "code",
   "execution_count": 1,
   "metadata": {},
   "outputs": [],
   "source": [
    "import proveit\n",
    "# Automation is not needed when building an expression:\n",
    "proveit.defaults.automation = False # This will speed things up.\n",
    "proveit.defaults.inline_pngs = False # Makes files smaller.\n",
    "%load_expr # Load the stored expression as 'stored_expr'\n",
    "# import Expression classes needed to build the expression\n",
    "from proveit import Conditional, ExprTuple, Lambda, i, n\n",
    "from proveit.core_expr_types import Len, f_1_to_n\n",
    "from proveit.core_expr_types.tuples import f_1_to_i__1_to_n\n",
    "from proveit.logic import Equals, Forall, InSet\n",
    "from proveit.numbers import Mult, Natural, NaturalPos"
   ]
  },
  {
   "cell_type": "code",
   "execution_count": 2,
   "metadata": {},
   "outputs": [
    {
     "data": {
      "text/html": [
       "<strong id=\"expr\">expr:</strong> <a class=\"ProveItLink\" href=\"expr.ipynb\"><img src=\"expr.png\" style=\"display:inline;vertical-align:middle;\" /></a><br>"
      ],
      "text/plain": [
       "<IPython.core.display.HTML object>"
      ]
     },
     "metadata": {},
     "output_type": "display_data"
    }
   ],
   "source": [
    "# build up the expression from sub-expressions\n",
    "expr = ExprTuple(Lambda(n, Conditional(Forall(instance_param_or_params = [f_1_to_n, i], instance_expr = Equals(Len(operands = [f_1_to_i__1_to_n]), Mult(n, i)).with_wrapping_at(1), condition = InSet(i, Natural)), InSet(n, NaturalPos))))"
   ]
  },
  {
   "cell_type": "code",
   "execution_count": 3,
   "metadata": {},
   "outputs": [
    {
     "name": "stdout",
     "output_type": "stream",
     "text": [
      "Passed sanity check: expr matches stored_expr\n"
     ]
    }
   ],
   "source": [
    "# check that the built expression is the same as the stored expression\n",
    "assert expr == stored_expr\n",
    "assert expr._style_id == stored_expr._style_id\n",
    "print(\"Passed sanity check: expr matches stored_expr\")"
   ]
  },
  {
   "cell_type": "code",
   "execution_count": 4,
   "metadata": {},
   "outputs": [
    {
     "name": "stdout",
     "output_type": "stream",
     "text": [
      "\\left(n \\mapsto \\left\\{\\forall_{f_{1}, f_{2}, \\ldots, f_{n}, i~|~i \\in \\mathbb{N}}~\\left(\\begin{array}{c} \\begin{array}{l} |\\left(f_{1}\\left(1\\right), f_{1}\\left(2\\right), \\ldots, f_{1}\\left(i\\right), f_{2}\\left(1\\right), f_{2}\\left(2\\right), \\ldots, f_{2}\\left(i\\right), \\ldots\\ldots, f_{n}\\left(1\\right), f_{n}\\left(2\\right), \\ldots, f_{n}\\left(i\\right)\\right)| \\\\  = \\left(n \\cdot i\\right) \\end{array} \\end{array}\\right) \\textrm{ if } n \\in \\mathbb{N}^+\\right..\\right)\n"
     ]
    }
   ],
   "source": [
    "# Show the LaTeX representation of the expression for convenience if you need it.\n",
    "print(stored_expr.latex())"
   ]
  },
  {
   "cell_type": "code",
   "execution_count": 5,
   "metadata": {},
   "outputs": [
    {
     "data": {
      "text/html": [
       "no style options"
      ],
      "text/plain": [
       "no style options"
      ]
     },
     "metadata": {},
     "output_type": "display_data"
    }
   ],
   "source": [
    "stored_expr.style_options()"
   ]
  },
  {
   "cell_type": "code",
   "execution_count": 6,
   "metadata": {},
   "outputs": [
    {
     "data": {
      "text/html": [
       "<table><tr><th>&nbsp;</th><th>core type</th><th>sub-expressions</th><th>expression</th></tr>\n",
       "<tr><td>0</td><td>ExprTuple</td><td>1</td><td><a class=\"ProveItLink\" href=\"expr.ipynb\"><img src=\"expr.png\" style=\"display:inline;vertical-align:middle;\" /></a></td></tr>\n",
       "<tr><td>1</td><td>Lambda</td><td>parameter:&nbsp;31<br>body:&nbsp;3<br></td><td><a class=\"ProveItLink\" href=\"../7e214311d2dc531cb7cf5ca828489a243c1728330/expr.ipynb\"><img src=\"../7e214311d2dc531cb7cf5ca828489a243c1728330/expr.png\" style=\"display:inline;vertical-align:middle;\" /></a></td></tr>\n",
       "<tr><td>2</td><td>ExprTuple</td><td>31</td><td><a class=\"ProveItLink\" href=\"../ca565dff2751ea9a3b48fe855133b9e0c2eca83f0/expr.ipynb\"><img src=\"../ca565dff2751ea9a3b48fe855133b9e0c2eca83f0/expr.png\" style=\"display:inline;vertical-align:middle;\" /></a></td></tr>\n",
       "<tr><td>3</td><td>Conditional</td><td>value:&nbsp;4<br>condition:&nbsp;5<br></td><td><a class=\"ProveItLink\" href=\"../dae7814903edd8900b2601c1ccb806ae5403d9bd0/expr.ipynb\"><img src=\"../dae7814903edd8900b2601c1ccb806ae5403d9bd0/expr.png\" style=\"display:inline;vertical-align:middle;\" /></a></td></tr>\n",
       "<tr><td>4</td><td>Operation</td><td>operator:&nbsp;6<br>operand:&nbsp;9<br></td><td><a class=\"ProveItLink\" href=\"../00c2b1ce82afaf77ad66bd4a4b6953248761c2cd0/expr.ipynb\"><img src=\"../00c2b1ce82afaf77ad66bd4a4b6953248761c2cd0/expr.png\" style=\"display:inline;vertical-align:middle;\" /></a></td></tr>\n",
       "<tr><td>5</td><td>Operation</td><td>operator:&nbsp;19<br>operands:&nbsp;8<br></td><td><a class=\"ProveItLink\" href=\"../c3c0a0522590e024022c8052cabac138164190560/expr.ipynb\"><img src=\"../c3c0a0522590e024022c8052cabac138164190560/expr.png\" style=\"display:inline;vertical-align:middle;\" /></a></td></tr>\n",
       "<tr><td>6</td><td>Literal</td><td></td><td><a class=\"ProveItLink\" href=\"../../../../../logic/booleans/quantification/universality/__pv_it/common/083d2baa0b8ecab1d230f9ec29a15aa1355809fb0/expr.ipynb\"><img src=\"../../../../../logic/booleans/quantification/universality/__pv_it/common/083d2baa0b8ecab1d230f9ec29a15aa1355809fb0/expr.png\" style=\"display:inline;vertical-align:middle;\" /></a></td></tr>\n",
       "<tr><td>7</td><td>ExprTuple</td><td>9</td><td><a class=\"ProveItLink\" href=\"../db498d4c366a2621ea3192cabfbc44acae207bdc0/expr.ipynb\"><img src=\"../db498d4c366a2621ea3192cabfbc44acae207bdc0/expr.png\" style=\"display:inline;vertical-align:middle;\" /></a></td></tr>\n",
       "<tr><td>8</td><td>ExprTuple</td><td>31, 10</td><td><a class=\"ProveItLink\" href=\"../4459dda147b56e10026c83203ced1bc32b9704ab0/expr.ipynb\"><img src=\"../4459dda147b56e10026c83203ced1bc32b9704ab0/expr.png\" style=\"display:inline;vertical-align:middle;\" /></a></td></tr>\n",
       "<tr><td>9</td><td>Lambda</td><td>parameters:&nbsp;11<br>body:&nbsp;12<br></td><td><a class=\"ProveItLink\" href=\"../f0439f99145ee6cbd2b0ce4f4fd6ced14730dc2f0/expr.ipynb\"><img src=\"../f0439f99145ee6cbd2b0ce4f4fd6ced14730dc2f0/expr.png\" style=\"display:inline;vertical-align:middle;\" /></a></td></tr>\n",
       "<tr><td>10</td><td>Literal</td><td></td><td><a class=\"ProveItLink\" href=\"../../../../../numbers/number_sets/natural_numbers/__pv_it/common/6111329435c43892c831c4793de96afbf80bdb3e0/expr.ipynb\"><img src=\"../../../../../numbers/number_sets/natural_numbers/__pv_it/common/6111329435c43892c831c4793de96afbf80bdb3e0/expr.png\" style=\"display:inline;vertical-align:middle;\" /></a></td></tr>\n",
       "<tr><td>11</td><td>ExprTuple</td><td>13, 35</td><td><a class=\"ProveItLink\" href=\"../0f5d5bd01235a710e74cb5976ee3072262c9e3070/expr.ipynb\"><img src=\"../0f5d5bd01235a710e74cb5976ee3072262c9e3070/expr.png\" style=\"display:inline;vertical-align:middle;\" /></a></td></tr>\n",
       "<tr><td>12</td><td>Conditional</td><td>value:&nbsp;14<br>condition:&nbsp;15<br></td><td><a class=\"ProveItLink\" href=\"../fc69fb44f6dd020aaefd31ee8c1de6ebe66f034b0/expr.ipynb\"><img src=\"../fc69fb44f6dd020aaefd31ee8c1de6ebe66f034b0/expr.png\" style=\"display:inline;vertical-align:middle;\" /></a></td></tr>\n",
       "<tr><td>13</td><td>ExprRange</td><td>lambda_map:&nbsp;16<br>start_index:&nbsp;34<br>end_index:&nbsp;31<br></td><td><a class=\"ProveItLink\" href=\"../../../../__pv_it/common/43b754cf68eaa443709a6d8b0599284558b3f64a0/expr.ipynb\"><img src=\"../../../../__pv_it/common/43b754cf68eaa443709a6d8b0599284558b3f64a0/expr.png\" style=\"display:inline;vertical-align:middle;\" /></a></td></tr>\n",
       "<tr><td>14</td><td>Operation</td><td>operator:&nbsp;17<br>operands:&nbsp;18<br></td><td><a class=\"ProveItLink\" href=\"../0fd992a2c74346ab732c4ceff71a5d5f11295d6c0/expr.ipynb\"><img src=\"../0fd992a2c74346ab732c4ceff71a5d5f11295d6c0/expr.png\" style=\"display:inline;vertical-align:middle;\" /></a></td></tr>\n",
       "<tr><td>15</td><td>Operation</td><td>operator:&nbsp;19<br>operands:&nbsp;20<br></td><td><a class=\"ProveItLink\" href=\"../10cfe086dee5530e9b3b60486d89c6cb824c41920/expr.ipynb\"><img src=\"../10cfe086dee5530e9b3b60486d89c6cb824c41920/expr.png\" style=\"display:inline;vertical-align:middle;\" /></a></td></tr>\n",
       "<tr><td>16</td><td>Lambda</td><td>parameter:&nbsp;41<br>body:&nbsp;21<br></td><td><a class=\"ProveItLink\" href=\"../../../../__pv_it/common/ecf2ffd49c43ce43b946489bf82c36c997f2e63a0/expr.ipynb\"><img src=\"../../../../__pv_it/common/ecf2ffd49c43ce43b946489bf82c36c997f2e63a0/expr.png\" style=\"display:inline;vertical-align:middle;\" /></a></td></tr>\n",
       "<tr><td>17</td><td>Literal</td><td></td><td><a class=\"ProveItLink\" href=\"../../../../../logic/equality/__pv_it/common/fb96dc12b2aa8801dda64d0132b396c63d1502bb0/expr.ipynb\"><img src=\"../../../../../logic/equality/__pv_it/common/fb96dc12b2aa8801dda64d0132b396c63d1502bb0/expr.png\" style=\"display:inline;vertical-align:middle;\" /></a></td></tr>\n",
       "<tr><td>18</td><td>ExprTuple</td><td>22, 23</td><td><a class=\"ProveItLink\" href=\"../856cb859974b4df973c35c123bfba99487ad26530/expr.ipynb\"><img src=\"../856cb859974b4df973c35c123bfba99487ad26530/expr.png\" style=\"display:inline;vertical-align:middle;\" /></a></td></tr>\n",
       "<tr><td>19</td><td>Literal</td><td></td><td><a class=\"ProveItLink\" href=\"../../../../../logic/sets/membership/__pv_it/common/477487d8796864d23d5810f83761435f25167f690/expr.ipynb\"><img src=\"../../../../../logic/sets/membership/__pv_it/common/477487d8796864d23d5810f83761435f25167f690/expr.png\" style=\"display:inline;vertical-align:middle;\" /></a></td></tr>\n",
       "<tr><td>20</td><td>ExprTuple</td><td>35, 24</td><td><a class=\"ProveItLink\" href=\"../1e0eb14b674d1cdf4a94a1df57c3bb998311774a0/expr.ipynb\"><img src=\"../1e0eb14b674d1cdf4a94a1df57c3bb998311774a0/expr.png\" style=\"display:inline;vertical-align:middle;\" /></a></td></tr>\n",
       "<tr><td>21</td><td>IndexedVar</td><td>variable:&nbsp;39<br>index:&nbsp;41<br></td><td><a class=\"ProveItLink\" href=\"../../../../__pv_it/common/547cf03121fc61889c17c9471fd9cf52308ae0db0/expr.ipynb\"><img src=\"../../../../__pv_it/common/547cf03121fc61889c17c9471fd9cf52308ae0db0/expr.png\" style=\"display:inline;vertical-align:middle;\" /></a></td></tr>\n",
       "<tr><td>22</td><td>Operation</td><td>operator:&nbsp;25<br>operands:&nbsp;26<br></td><td><a class=\"ProveItLink\" href=\"../6b60702b7ca5ee8dd6acf0286b1f5b75880507110/expr.ipynb\"><img src=\"../6b60702b7ca5ee8dd6acf0286b1f5b75880507110/expr.png\" style=\"display:inline;vertical-align:middle;\" /></a></td></tr>\n",
       "<tr><td>23</td><td>Operation</td><td>operator:&nbsp;27<br>operands:&nbsp;28<br></td><td><a class=\"ProveItLink\" href=\"../dc17df629db982bad831c81d351a998d4c641c9b0/expr.ipynb\"><img src=\"../dc17df629db982bad831c81d351a998d4c641c9b0/expr.png\" style=\"display:inline;vertical-align:middle;\" /></a></td></tr>\n",
       "<tr><td>24</td><td>Literal</td><td></td><td><a class=\"ProveItLink\" href=\"../../../../../numbers/number_sets/natural_numbers/__pv_it/common/8b7c321957f52ed3b05b36af612eeae4fa4783bc0/expr.ipynb\"><img src=\"../../../../../numbers/number_sets/natural_numbers/__pv_it/common/8b7c321957f52ed3b05b36af612eeae4fa4783bc0/expr.png\" style=\"display:inline;vertical-align:middle;\" /></a></td></tr>\n",
       "<tr><td>25</td><td>Literal</td><td></td><td><a class=\"ProveItLink\" href=\"../../common/43df765abf1294d8f1fd177863f57f08bf5ad0080/expr.ipynb\"><img src=\"../../common/43df765abf1294d8f1fd177863f57f08bf5ad0080/expr.png\" style=\"display:inline;vertical-align:middle;\" /></a></td></tr>\n",
       "<tr><td>26</td><td>ExprTuple</td><td>29</td><td><a class=\"ProveItLink\" href=\"../90f64bf54684e3f0bb20946f2e7b0f2b08bad0550/expr.ipynb\"><img src=\"../90f64bf54684e3f0bb20946f2e7b0f2b08bad0550/expr.png\" style=\"display:inline;vertical-align:middle;\" /></a></td></tr>\n",
       "<tr><td>27</td><td>Literal</td><td></td><td><a class=\"ProveItLink\" href=\"../../../../../numbers/multiplication/__pv_it/common/ed719cef37831779c16481533a4d380a2f95ab270/expr.ipynb\"><img src=\"../../../../../numbers/multiplication/__pv_it/common/ed719cef37831779c16481533a4d380a2f95ab270/expr.png\" style=\"display:inline;vertical-align:middle;\" /></a></td></tr>\n",
       "<tr><td>28</td><td>ExprTuple</td><td>31, 35</td><td><a class=\"ProveItLink\" href=\"../77879cf5a7f804f9a2c7720b654db73c193cb98b0/expr.ipynb\"><img src=\"../77879cf5a7f804f9a2c7720b654db73c193cb98b0/expr.png\" style=\"display:inline;vertical-align:middle;\" /></a></td></tr>\n",
       "<tr><td>29</td><td>ExprRange</td><td>lambda_map:&nbsp;30<br>start_index:&nbsp;34<br>end_index:&nbsp;31<br></td><td><a class=\"ProveItLink\" href=\"../../common/0d8ca2ea278c2eab995ddb027ccb1dba5273c49c0/expr.ipynb\"><img src=\"../../common/0d8ca2ea278c2eab995ddb027ccb1dba5273c49c0/expr.png\" style=\"display:inline;vertical-align:middle;\" /></a></td></tr>\n",
       "<tr><td>30</td><td>Lambda</td><td>parameter:&nbsp;42<br>body:&nbsp;32<br></td><td><a class=\"ProveItLink\" href=\"../../common/7e7b8f85c89cc4021d3e63ef9a8a8e780769a5640/expr.ipynb\"><img src=\"../../common/7e7b8f85c89cc4021d3e63ef9a8a8e780769a5640/expr.png\" style=\"display:inline;vertical-align:middle;\" /></a></td></tr>\n",
       "<tr><td>31</td><td>Variable</td><td></td><td><a class=\"ProveItLink\" href=\"../../../../../__pv_it/common/8968bb04eb3f7dfa02353397ce929b025bbd79c20/expr.ipynb\"><img src=\"../../../../../__pv_it/common/8968bb04eb3f7dfa02353397ce929b025bbd79c20/expr.png\" style=\"display:inline;vertical-align:middle;\" /></a></td></tr>\n",
       "<tr><td>32</td><td>ExprRange</td><td>lambda_map:&nbsp;33<br>start_index:&nbsp;34<br>end_index:&nbsp;35<br></td><td><a class=\"ProveItLink\" href=\"../../common/c78b07fcbe880d5a9f02b395f6bf3fcfd7780b950/expr.ipynb\"><img src=\"../../common/c78b07fcbe880d5a9f02b395f6bf3fcfd7780b950/expr.png\" style=\"display:inline;vertical-align:middle;\" /></a></td></tr>\n",
       "<tr><td>33</td><td>Lambda</td><td>parameter:&nbsp;41<br>body:&nbsp;36<br></td><td><a class=\"ProveItLink\" href=\"../../common/91fbd1e224e0abd4dfa6b22c47ff294d2af20c1c0/expr.ipynb\"><img src=\"../../common/91fbd1e224e0abd4dfa6b22c47ff294d2af20c1c0/expr.png\" style=\"display:inline;vertical-align:middle;\" /></a></td></tr>\n",
       "<tr><td>34</td><td>Literal</td><td></td><td><a class=\"ProveItLink\" href=\"../../../../../numbers/numerals/__pv_it/common/682157d4892d216d9e5626ed533aff9b56b9506e0/expr.ipynb\"><img src=\"../../../../../numbers/numerals/__pv_it/common/682157d4892d216d9e5626ed533aff9b56b9506e0/expr.png\" style=\"display:inline;vertical-align:middle;\" /></a></td></tr>\n",
       "<tr><td>35</td><td>Variable</td><td></td><td><a class=\"ProveItLink\" href=\"../../../../../__pv_it/common/ae955345c83abf786c3aff8681cd5465beae262d0/expr.ipynb\"><img src=\"../../../../../__pv_it/common/ae955345c83abf786c3aff8681cd5465beae262d0/expr.png\" style=\"display:inline;vertical-align:middle;\" /></a></td></tr>\n",
       "<tr><td>36</td><td>Operation</td><td>operator:&nbsp;37<br>operand:&nbsp;41<br></td><td><a class=\"ProveItLink\" href=\"../../common/4543d681feb1ba745f997390f1f306d51b254a040/expr.ipynb\"><img src=\"../../common/4543d681feb1ba745f997390f1f306d51b254a040/expr.png\" style=\"display:inline;vertical-align:middle;\" /></a></td></tr>\n",
       "<tr><td>37</td><td>IndexedVar</td><td>variable:&nbsp;39<br>index:&nbsp;42<br></td><td><a class=\"ProveItLink\" href=\"../../common/5bd3db69303afa465308092059ecc64ddc1d429a0/expr.ipynb\"><img src=\"../../common/5bd3db69303afa465308092059ecc64ddc1d429a0/expr.png\" style=\"display:inline;vertical-align:middle;\" /></a></td></tr>\n",
       "<tr><td>38</td><td>ExprTuple</td><td>41</td><td><a class=\"ProveItLink\" href=\"../../../../__pv_it/common/4b0dd6be36d76552eda6a95d5b4a27f5a5b62f900/expr.ipynb\"><img src=\"../../../../__pv_it/common/4b0dd6be36d76552eda6a95d5b4a27f5a5b62f900/expr.png\" style=\"display:inline;vertical-align:middle;\" /></a></td></tr>\n",
       "<tr><td>39</td><td>Variable</td><td></td><td><a class=\"ProveItLink\" href=\"../../../../../__pv_it/common/01b6dbb444a31fc38af4c2379badef6c75b363710/expr.ipynb\"><img src=\"../../../../../__pv_it/common/01b6dbb444a31fc38af4c2379badef6c75b363710/expr.png\" style=\"display:inline;vertical-align:middle;\" /></a></td></tr>\n",
       "<tr><td>40</td><td>ExprTuple</td><td>42</td><td><a class=\"ProveItLink\" href=\"../../common/18f7318b68e45ff8356043b6e71619fa8450fb200/expr.ipynb\"><img src=\"../../common/18f7318b68e45ff8356043b6e71619fa8450fb200/expr.png\" style=\"display:inline;vertical-align:middle;\" /></a></td></tr>\n",
       "<tr><td>41</td><td>Variable</td><td></td><td><a class=\"ProveItLink\" href=\"../../../../__pv_it/common/006c465e50948aa2b52285e2de47974f741255cc0/expr.ipynb\"><img src=\"../../../../__pv_it/common/006c465e50948aa2b52285e2de47974f741255cc0/expr.png\" style=\"display:inline;vertical-align:middle;\" /></a></td></tr>\n",
       "<tr><td>42</td><td>Variable</td><td></td><td><a class=\"ProveItLink\" href=\"../../common/9a18d67b443cf8d92289c655ed91ec78766170a90/expr.ipynb\"><img src=\"../../common/9a18d67b443cf8d92289c655ed91ec78766170a90/expr.png\" style=\"display:inline;vertical-align:middle;\" /></a></td></tr>\n",
       "</table>\n"
      ],
      "text/plain": [
       "0. (n -> {forall_{f_{1}, f_{2}, ..., f_{n}, i | i in Natural} (|(f_{1}(1), f_{1}(2), ..., f_{1}(i), f_{2}(1), f_{2}(2), ..., f_{2}(i), ......, f_{n}(1), f_{n}(2), ..., f_{n}(i))| \\\\  = (n * i)) if n in NaturalPos.)\n",
       "   core type: ExprTuple\n",
       "   sub-expressions: 1\n",
       "1. n -> {forall_{f_{1}, f_{2}, ..., f_{n}, i | i in Natural} (|(f_{1}(1), f_{1}(2), ..., f_{1}(i), f_{2}(1), f_{2}(2), ..., f_{2}(i), ......, f_{n}(1), f_{n}(2), ..., f_{n}(i))| \\\\  = (n * i)) if n in NaturalPos.\n",
       "   core type: Lambda\n",
       "   parameter: 31\n",
       "   body: 3\n",
       "2. (n)\n",
       "   core type: ExprTuple\n",
       "   sub-expressions: 31\n",
       "3. {forall_{f_{1}, f_{2}, ..., f_{n}, i | i in Natural} (|(f_{1}(1), f_{1}(2), ..., f_{1}(i), f_{2}(1), f_{2}(2), ..., f_{2}(i), ......, f_{n}(1), f_{n}(2), ..., f_{n}(i))| \\\\  = (n * i)) if n in NaturalPos.\n",
       "   core type: Conditional\n",
       "   value: 4\n",
       "   condition: 5\n",
       "4. forall_{f_{1}, f_{2}, ..., f_{n}, i | i in Natural} (|(f_{1}(1), f_{1}(2), ..., f_{1}(i), f_{2}(1), f_{2}(2), ..., f_{2}(i), ......, f_{n}(1), f_{n}(2), ..., f_{n}(i))| \\\\  = (n * i))\n",
       "   core type: Operation\n",
       "   operator: 6\n",
       "   operand: 9\n",
       "5. n in NaturalPos\n",
       "   core type: Operation\n",
       "   operator: 19\n",
       "   operands: 8\n",
       "6. forall\n",
       "   core type: Literal\n",
       "   sub-expressions: \n",
       "7. ((f_{1}, f_{2}, ..., f_{n}, i) -> {|(f_{1}(1), f_{1}(2), ..., f_{1}(i), f_{2}(1), f_{2}(2), ..., f_{2}(i), ......, f_{n}(1), f_{n}(2), ..., f_{n}(i))| \\\\  = (n * i) if i in Natural.)\n",
       "   core type: ExprTuple\n",
       "   sub-expressions: 9\n",
       "8. (n, NaturalPos)\n",
       "   core type: ExprTuple\n",
       "   sub-expressions: 31, 10\n",
       "9. (f_{1}, f_{2}, ..., f_{n}, i) -> {|(f_{1}(1), f_{1}(2), ..., f_{1}(i), f_{2}(1), f_{2}(2), ..., f_{2}(i), ......, f_{n}(1), f_{n}(2), ..., f_{n}(i))| \\\\  = (n * i) if i in Natural.\n",
       "   core type: Lambda\n",
       "   parameters: 11\\n   body: 12\n",
       "10. NaturalPos\n",
       "    core type: Literal\n",
       "    sub-expressions: \n",
       "11. (f_{1}, f_{2}, ..., f_{n}, i)\n",
       "    core type: ExprTuple\n",
       "    sub-expressions: 13, 35\n",
       "12. {|(f_{1}(1), f_{1}(2), ..., f_{1}(i), f_{2}(1), f_{2}(2), ..., f_{2}(i), ......, f_{n}(1), f_{n}(2), ..., f_{n}(i))| \\\\  = (n * i) if i in Natural.\n",
       "    core type: Conditional\n",
       "    value: 14\n",
       "    condition: 15\n",
       "13. f_{1}, f_{2}, ..., f_{n}\n",
       "    core type: ExprRange\n",
       "    lambda_map: 16\n",
       "    start_index: 34\n",
       "    end_index: 31\n",
       "14. |(f_{1}(1), f_{1}(2), ..., f_{1}(i), f_{2}(1), f_{2}(2), ..., f_{2}(i), ......, f_{n}(1), f_{n}(2), ..., f_{n}(i))| \\\\  = (n * i)\n",
       "    core type: Operation\n",
       "    operator: 17\n",
       "    operands: 18\n",
       "15. i in Natural\n",
       "    core type: Operation\n",
       "    operator: 19\n",
       "    operands: 20\n",
       "16. _a -> f_{_a}\n",
       "    core type: Lambda\n",
       "    parameter: 41\n",
       "    body: 21\n",
       "17. =\n",
       "    core type: Literal\n",
       "    sub-expressions: \n",
       "18. (|(f_{1}(1), f_{1}(2), ..., f_{1}(i), f_{2}(1), f_{2}(2), ..., f_{2}(i), ......, f_{n}(1), f_{n}(2), ..., f_{n}(i))|, n * i)\n",
       "    core type: ExprTuple\n",
       "    sub-expressions: 22, 23\n",
       "19. in\n",
       "    core type: Literal\n",
       "    sub-expressions: \n",
       "20. (i, Natural)\n",
       "    core type: ExprTuple\n",
       "    sub-expressions: 35, 24\n",
       "21. f_{_a}\n",
       "    core type: IndexedVar\n",
       "variable: 39\n",
       "index: 41\n",
       "22. |(f_{1}(1), f_{1}(2), ..., f_{1}(i), f_{2}(1), f_{2}(2), ..., f_{2}(i), ......, f_{n}(1), f_{n}(2), ..., f_{n}(i))|\n",
       "    core type: Operation\n",
       "    operator: 25\n",
       "    operands: 26\n",
       "23. n * i\n",
       "    core type: Operation\n",
       "    operator: 27\n",
       "    operands: 28\n",
       "24. Natural\n",
       "    core type: Literal\n",
       "    sub-expressions: \n",
       "25. length\n",
       "    core type: Literal\n",
       "    sub-expressions: \n",
       "26. (f_{1}(1), f_{1}(2), ..., f_{1}(i), f_{2}(1), f_{2}(2), ..., f_{2}(i), ......, f_{n}(1), f_{n}(2), ..., f_{n}(i))\n",
       "    core type: ExprTuple\n",
       "    sub-expressions: 29\n",
       "27. *\n",
       "    core type: Literal\n",
       "    sub-expressions: \n",
       "28. (n, i)\n",
       "    core type: ExprTuple\n",
       "    sub-expressions: 31, 35\n",
       "29. f_{1}(1), f_{1}(2), ..., f_{1}(i), f_{2}(1), f_{2}(2), ..., f_{2}(i), ......, f_{n}(1), f_{n}(2), ..., f_{n}(i)\n",
       "    core type: ExprRange\n",
       "    lambda_map: 30\n",
       "    start_index: 34\n",
       "    end_index: 31\n",
       "30. _b -> f_{_b}(1), f_{_b}(2), ..., f_{_b}(i)\n",
       "    core type: Lambda\n",
       "    parameter: 42\n",
       "    body: 32\n",
       "31. n\n",
       "    core type: Variable\n",
       "    sub-expressions: \n",
       "32. f_{_b}(1), f_{_b}(2), ..., f_{_b}(i)\n",
       "    core type: ExprRange\n",
       "    lambda_map: 33\n",
       "    start_index: 34\n",
       "    end_index: 35\n",
       "33. _a -> f_{_b}(_a)\n",
       "    core type: Lambda\n",
       "    parameter: 41\n",
       "    body: 36\n",
       "34. 1\n",
       "    core type: Literal\n",
       "    sub-expressions: \n",
       "35. i\n",
       "    core type: Variable\n",
       "    sub-expressions: \n",
       "36. f_{_b}(_a)\n",
       "    core type: Operation\n",
       "    operator: 37\n",
       "    operand: 41\n",
       "37. f_{_b}\n",
       "    core type: IndexedVar\n",
       "variable: 39\n",
       "index: 42\n",
       "38. (_a)\n",
       "    core type: ExprTuple\n",
       "    sub-expressions: 41\n",
       "39. f\n",
       "    core type: Variable\n",
       "    sub-expressions: \n",
       "40. (_b)\n",
       "    core type: ExprTuple\n",
       "    sub-expressions: 42\n",
       "41. _a\n",
       "    core type: Variable\n",
       "    sub-expressions: \n",
       "42. _b\n",
       "    core type: Variable\n",
       "    sub-expressions: "
      ]
     },
     "metadata": {},
     "output_type": "display_data"
    }
   ],
   "source": [
    "# display the expression information\n",
    "stored_expr.expr_info()"
   ]
  },
  {
   "cell_type": "code",
   "execution_count": null,
   "metadata": {},
   "outputs": [],
   "source": []
  }
 ],
 "metadata": {
  "kernelspec": {
   "display_name": "Python 3",
   "language": "python",
   "name": "python3"
  }
 },
 "nbformat": 4,
 "nbformat_minor": 0
}