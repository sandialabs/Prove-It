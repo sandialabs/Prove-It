{
 "cells": [
  {
   "cell_type": "markdown",
   "metadata": {},
   "source": [
    "Expression of type <a class=\"ProveItLink\" href=\"../../../../../../../doc/html/api/proveit.logic.Forall.html\">Forall</a>\n",
    "=======================\n",
    "# from the theory of <a class=\"ProveItLink\" href=\"../../../_theory_nbs_/theory.ipynb\">proveit.core_expr_types.tuples</a>"
   ]
  },
  {
   "cell_type": "code",
   "execution_count": 1,
   "metadata": {},
   "outputs": [],
   "source": [
    "import proveit\n",
    "# Automation is not needed when building an expression:\n",
    "proveit.defaults.automation = False # This will speed things up.\n",
    "proveit.defaults.inline_pngs = False # Makes files smaller.\n",
    "%load_expr # Load the stored expression as 'stored_expr'\n",
    "# import Expression classes needed to build the expression\n",
    "from proveit import i, j, n\n",
    "from proveit.core_expr_types import Len, f_1_to_n, i_to_j_len\n",
    "from proveit.core_expr_types.tuples import f_i_to_j__1_to_n\n",
    "from proveit.logic import Equals, Forall, InSet\n",
    "from proveit.numbers import Mult, Natural"
   ]
  },
  {
   "cell_type": "code",
   "execution_count": 2,
   "metadata": {},
   "outputs": [
    {
     "data": {
      "text/html": [
       "<strong id=\"expr\">expr:</strong> <a class=\"ProveItLink\" href=\"expr.ipynb\"><img src=\"expr.png\" style=\"display:inline;vertical-align:middle;\" /></a><br>"
      ],
      "text/plain": [
       "<IPython.core.display.HTML object>"
      ]
     },
     "metadata": {},
     "output_type": "display_data"
    }
   ],
   "source": [
    "# build up the expression from sub-expressions\n",
    "expr = Forall(instance_param_or_params = [f_1_to_n, i, j], instance_expr = Equals(Len(operands = [f_i_to_j__1_to_n]), Mult(n, i_to_j_len)).with_wrapping_at(1), condition = InSet(i_to_j_len, Natural))"
   ]
  },
  {
   "cell_type": "code",
   "execution_count": 3,
   "metadata": {},
   "outputs": [
    {
     "name": "stdout",
     "output_type": "stream",
     "text": [
      "Passed sanity check: expr matches stored_expr\n"
     ]
    }
   ],
   "source": [
    "# check that the built expression is the same as the stored expression\n",
    "assert expr == stored_expr\n",
    "assert expr._style_id == stored_expr._style_id\n",
    "print(\"Passed sanity check: expr matches stored_expr\")"
   ]
  },
  {
   "cell_type": "code",
   "execution_count": 4,
   "metadata": {},
   "outputs": [
    {
     "name": "stdout",
     "output_type": "stream",
     "text": [
      "\\forall_{f_{1}, f_{2}, \\ldots, f_{n}, i, j~|~\\left(j - i + 1\\right) \\in \\mathbb{N}}~\\left(\\begin{array}{c} \\begin{array}{l} |\\left(f_{1}\\left(i\\right), f_{1}\\left(i + 1\\right), \\ldots, f_{1}\\left(j\\right), f_{2}\\left(i\\right), f_{2}\\left(i + 1\\right), \\ldots, f_{2}\\left(j\\right), \\ldots\\ldots, f_{n}\\left(i\\right), f_{n}\\left(i + 1\\right), \\ldots, f_{n}\\left(j\\right)\\right)| \\\\  = \\left(n \\cdot \\left(j - i + 1\\right)\\right) \\end{array} \\end{array}\\right)\n"
     ]
    }
   ],
   "source": [
    "# Show the LaTeX representation of the expression for convenience if you need it.\n",
    "print(stored_expr.latex())"
   ]
  },
  {
   "cell_type": "code",
   "execution_count": 5,
   "metadata": {},
   "outputs": [
    {
     "data": {
      "text/html": [
       "<table>\n",
       "<tr><th>name</th><th>description</th><th>default</th><th>current value</th><th>related methods</th></tr><tr><td>with_wrapping</td><td>If 'True', wrap the Expression after the parameters</td><td>None</td><td>None/False</td><td>('with_wrapping',)</td></tr>\n",
       "<tr><td>condition_wrapping</td><td>Wrap 'before' or 'after' the condition (or None).</td><td>None</td><td>None/False</td><td>('with_wrap_after_condition', 'with_wrap_before_condition')</td></tr>\n",
       "<tr><td>wrap_params</td><td>If 'True', wraps every two parameters AND wraps the Expression after the parameters</td><td>None</td><td>None/False</td><td>('with_params',)</td></tr>\n",
       "<tr><td>justification</td><td>justify to the 'left', 'center', or 'right' in the array cells</td><td>center</td><td>center</td><td>('with_justification',)</td></tr>\n",
       "</table>\n"
      ],
      "text/plain": [
       "style name: with_wrapping\n",
       "description: If 'True', wrap the Expression after the parameters\n",
       "default: None\n",
       "current value: None/False\n",
       "related methods: ('with_wrapping',)\n",
       "style name: condition_wrapping\n",
       "description: Wrap 'before' or 'after' the condition (or None).\n",
       "default: None\n",
       "current value: None/False\n",
       "related methods: ('with_wrap_after_condition', 'with_wrap_before_condition')\n",
       "style name: wrap_params\n",
       "description: If 'True', wraps every two parameters AND wraps the Expression after the parameters\n",
       "default: None\n",
       "current value: None/False\n",
       "related methods: ('with_params',)\n",
       "style name: justification\n",
       "description: justify to the 'left', 'center', or 'right' in the array cells\n",
       "default: center\n",
       "current value: center\n",
       "related methods: ('with_justification',)"
      ]
     },
     "metadata": {},
     "output_type": "display_data"
    }
   ],
   "source": [
    "stored_expr.style_options()"
   ]
  },
  {
   "cell_type": "code",
   "execution_count": 6,
   "metadata": {},
   "outputs": [
    {
     "data": {
      "text/html": [
       "<table><tr><th>&nbsp;</th><th>core type</th><th>sub-expressions</th><th>expression</th></tr>\n",
       "<tr><td>0</td><td>Operation</td><td>operator:&nbsp;1<br>operand:&nbsp;3<br></td><td><a class=\"ProveItLink\" href=\"expr.ipynb\"><img src=\"expr.png\" style=\"display:inline;vertical-align:middle;\" /></a></td></tr>\n",
       "<tr><td>1</td><td>Literal</td><td></td><td><a class=\"ProveItLink\" href=\"../../../../../logic/booleans/quantification/universality/__pv_it/common/083d2baa0b8ecab1d230f9ec29a15aa1355809fb0/expr.ipynb\"><img src=\"../../../../../logic/booleans/quantification/universality/__pv_it/common/083d2baa0b8ecab1d230f9ec29a15aa1355809fb0/expr.png\" style=\"display:inline;vertical-align:middle;\" /></a></td></tr>\n",
       "<tr><td>2</td><td>ExprTuple</td><td>3</td><td><a class=\"ProveItLink\" href=\"../67855f49de7700770f2f441b91f73e6922371b7e0/expr.ipynb\"><img src=\"../67855f49de7700770f2f441b91f73e6922371b7e0/expr.png\" style=\"display:inline;vertical-align:middle;\" /></a></td></tr>\n",
       "<tr><td>3</td><td>Lambda</td><td>parameters:&nbsp;4<br>body:&nbsp;5<br></td><td><a class=\"ProveItLink\" href=\"../833849225ffead16267a29e3586f9a66be02729c0/expr.ipynb\"><img src=\"../833849225ffead16267a29e3586f9a66be02729c0/expr.png\" style=\"display:inline;vertical-align:middle;\" /></a></td></tr>\n",
       "<tr><td>4</td><td>ExprTuple</td><td>6, 36, 32</td><td><a class=\"ProveItLink\" href=\"../7813c73469515ea07d6abf95cb24f3aeb316ed550/expr.ipynb\"><img src=\"../7813c73469515ea07d6abf95cb24f3aeb316ed550/expr.png\" style=\"display:inline;vertical-align:middle;\" /></a></td></tr>\n",
       "<tr><td>5</td><td>Conditional</td><td>value:&nbsp;7<br>condition:&nbsp;8<br></td><td><a class=\"ProveItLink\" href=\"../dd93cb26a4323a28598e79b9da830aa07466ea910/expr.ipynb\"><img src=\"../dd93cb26a4323a28598e79b9da830aa07466ea910/expr.png\" style=\"display:inline;vertical-align:middle;\" /></a></td></tr>\n",
       "<tr><td>6</td><td>ExprRange</td><td>lambda_map:&nbsp;9<br>start_index:&nbsp;30<br>end_index:&nbsp;25<br></td><td><a class=\"ProveItLink\" href=\"../../../../__pv_it/common/43b754cf68eaa443709a6d8b0599284558b3f64a0/expr.ipynb\"><img src=\"../../../../__pv_it/common/43b754cf68eaa443709a6d8b0599284558b3f64a0/expr.png\" style=\"display:inline;vertical-align:middle;\" /></a></td></tr>\n",
       "<tr><td>7</td><td>Operation</td><td>operator:&nbsp;10<br>operands:&nbsp;11<br></td><td><a class=\"ProveItLink\" href=\"../051158e10bdc92f186108907b90f56b127eed36a0/expr.ipynb\"><img src=\"../051158e10bdc92f186108907b90f56b127eed36a0/expr.png\" style=\"display:inline;vertical-align:middle;\" /></a></td></tr>\n",
       "<tr><td>8</td><td>Operation</td><td>operator:&nbsp;12<br>operands:&nbsp;13<br></td><td><a class=\"ProveItLink\" href=\"../0416a1b210810ad0dc1b92b729f6f0c5dca980ff0/expr.ipynb\"><img src=\"../0416a1b210810ad0dc1b92b729f6f0c5dca980ff0/expr.png\" style=\"display:inline;vertical-align:middle;\" /></a></td></tr>\n",
       "<tr><td>9</td><td>Lambda</td><td>parameter:&nbsp;41<br>body:&nbsp;14<br></td><td><a class=\"ProveItLink\" href=\"../../../../__pv_it/common/ecf2ffd49c43ce43b946489bf82c36c997f2e63a0/expr.ipynb\"><img src=\"../../../../__pv_it/common/ecf2ffd49c43ce43b946489bf82c36c997f2e63a0/expr.png\" style=\"display:inline;vertical-align:middle;\" /></a></td></tr>\n",
       "<tr><td>10</td><td>Literal</td><td></td><td><a class=\"ProveItLink\" href=\"../../../../../logic/equality/__pv_it/common/fb96dc12b2aa8801dda64d0132b396c63d1502bb0/expr.ipynb\"><img src=\"../../../../../logic/equality/__pv_it/common/fb96dc12b2aa8801dda64d0132b396c63d1502bb0/expr.png\" style=\"display:inline;vertical-align:middle;\" /></a></td></tr>\n",
       "<tr><td>11</td><td>ExprTuple</td><td>15, 16</td><td><a class=\"ProveItLink\" href=\"../6a0ae827394d86c2c94b30c033fdef4eb982b00d0/expr.ipynb\"><img src=\"../6a0ae827394d86c2c94b30c033fdef4eb982b00d0/expr.png\" style=\"display:inline;vertical-align:middle;\" /></a></td></tr>\n",
       "<tr><td>12</td><td>Literal</td><td></td><td><a class=\"ProveItLink\" href=\"../../../../../logic/sets/membership/__pv_it/common/477487d8796864d23d5810f83761435f25167f690/expr.ipynb\"><img src=\"../../../../../logic/sets/membership/__pv_it/common/477487d8796864d23d5810f83761435f25167f690/expr.png\" style=\"display:inline;vertical-align:middle;\" /></a></td></tr>\n",
       "<tr><td>13</td><td>ExprTuple</td><td>23, 17</td><td><a class=\"ProveItLink\" href=\"../e34263ce39eaf223c46243183b84c34f286270840/expr.ipynb\"><img src=\"../e34263ce39eaf223c46243183b84c34f286270840/expr.png\" style=\"display:inline;vertical-align:middle;\" /></a></td></tr>\n",
       "<tr><td>14</td><td>IndexedVar</td><td>variable:&nbsp;39<br>index:&nbsp;41<br></td><td><a class=\"ProveItLink\" href=\"../../../../__pv_it/common/547cf03121fc61889c17c9471fd9cf52308ae0db0/expr.ipynb\"><img src=\"../../../../__pv_it/common/547cf03121fc61889c17c9471fd9cf52308ae0db0/expr.png\" style=\"display:inline;vertical-align:middle;\" /></a></td></tr>\n",
       "<tr><td>15</td><td>Operation</td><td>operator:&nbsp;18<br>operands:&nbsp;19<br></td><td><a class=\"ProveItLink\" href=\"../f817f2b7e8ddc7966ab4d2e65c2692c2be9216080/expr.ipynb\"><img src=\"../f817f2b7e8ddc7966ab4d2e65c2692c2be9216080/expr.png\" style=\"display:inline;vertical-align:middle;\" /></a></td></tr>\n",
       "<tr><td>16</td><td>Operation</td><td>operator:&nbsp;20<br>operands:&nbsp;21<br></td><td><a class=\"ProveItLink\" href=\"../b05bf46ff7fe6b82e6282d29130f1d416b36c8200/expr.ipynb\"><img src=\"../b05bf46ff7fe6b82e6282d29130f1d416b36c8200/expr.png\" style=\"display:inline;vertical-align:middle;\" /></a></td></tr>\n",
       "<tr><td>17</td><td>Literal</td><td></td><td><a class=\"ProveItLink\" href=\"../../../../../numbers/number_sets/natural_numbers/__pv_it/common/8b7c321957f52ed3b05b36af612eeae4fa4783bc0/expr.ipynb\"><img src=\"../../../../../numbers/number_sets/natural_numbers/__pv_it/common/8b7c321957f52ed3b05b36af612eeae4fa4783bc0/expr.png\" style=\"display:inline;vertical-align:middle;\" /></a></td></tr>\n",
       "<tr><td>18</td><td>Literal</td><td></td><td><a class=\"ProveItLink\" href=\"../../common/43df765abf1294d8f1fd177863f57f08bf5ad0080/expr.ipynb\"><img src=\"../../common/43df765abf1294d8f1fd177863f57f08bf5ad0080/expr.png\" style=\"display:inline;vertical-align:middle;\" /></a></td></tr>\n",
       "<tr><td>19</td><td>ExprTuple</td><td>22</td><td><a class=\"ProveItLink\" href=\"../5cbd9ac0541235755c355ff122e8531bb5bb24620/expr.ipynb\"><img src=\"../5cbd9ac0541235755c355ff122e8531bb5bb24620/expr.png\" style=\"display:inline;vertical-align:middle;\" /></a></td></tr>\n",
       "<tr><td>20</td><td>Literal</td><td></td><td><a class=\"ProveItLink\" href=\"../../../../../numbers/multiplication/__pv_it/common/ed719cef37831779c16481533a4d380a2f95ab270/expr.ipynb\"><img src=\"../../../../../numbers/multiplication/__pv_it/common/ed719cef37831779c16481533a4d380a2f95ab270/expr.png\" style=\"display:inline;vertical-align:middle;\" /></a></td></tr>\n",
       "<tr><td>21</td><td>ExprTuple</td><td>25, 23</td><td><a class=\"ProveItLink\" href=\"../1e7bbaafdbee2258534b4de9305adbc0d37ce0f20/expr.ipynb\"><img src=\"../1e7bbaafdbee2258534b4de9305adbc0d37ce0f20/expr.png\" style=\"display:inline;vertical-align:middle;\" /></a></td></tr>\n",
       "<tr><td>22</td><td>ExprRange</td><td>lambda_map:&nbsp;24<br>start_index:&nbsp;30<br>end_index:&nbsp;25<br></td><td><a class=\"ProveItLink\" href=\"../../common/b87112660a630a579dd1922fbffc09e9335bef1f0/expr.ipynb\"><img src=\"../../common/b87112660a630a579dd1922fbffc09e9335bef1f0/expr.png\" style=\"display:inline;vertical-align:middle;\" /></a></td></tr>\n",
       "<tr><td>23</td><td>Operation</td><td>operator:&nbsp;26<br>operands:&nbsp;27<br></td><td><a class=\"ProveItLink\" href=\"../../../../__pv_it/common/e20dc1a4e2bdb53debb76c564b074a43b60103970/expr.ipynb\"><img src=\"../../../../__pv_it/common/e20dc1a4e2bdb53debb76c564b074a43b60103970/expr.png\" style=\"display:inline;vertical-align:middle;\" /></a></td></tr>\n",
       "<tr><td>24</td><td>Lambda</td><td>parameter:&nbsp;42<br>body:&nbsp;28<br></td><td><a class=\"ProveItLink\" href=\"../../common/fa58fe44ea59c84f72e0d0ddf528008fb78472960/expr.ipynb\"><img src=\"../../common/fa58fe44ea59c84f72e0d0ddf528008fb78472960/expr.png\" style=\"display:inline;vertical-align:middle;\" /></a></td></tr>\n",
       "<tr><td>25</td><td>Variable</td><td></td><td><a class=\"ProveItLink\" href=\"../../../../../__pv_it/common/8968bb04eb3f7dfa02353397ce929b025bbd79c20/expr.ipynb\"><img src=\"../../../../../__pv_it/common/8968bb04eb3f7dfa02353397ce929b025bbd79c20/expr.png\" style=\"display:inline;vertical-align:middle;\" /></a></td></tr>\n",
       "<tr><td>26</td><td>Literal</td><td></td><td><a class=\"ProveItLink\" href=\"../../../../../numbers/addition/__pv_it/common/4b7effaab3619a1c2c38fe2dee8601df8ec714590/expr.ipynb\"><img src=\"../../../../../numbers/addition/__pv_it/common/4b7effaab3619a1c2c38fe2dee8601df8ec714590/expr.png\" style=\"display:inline;vertical-align:middle;\" /></a></td></tr>\n",
       "<tr><td>27</td><td>ExprTuple</td><td>32, 29, 30</td><td><a class=\"ProveItLink\" href=\"../../../../__pv_it/common/6061f0b394c6ed4691f293648f7c8587f65eb3d50/expr.ipynb\"><img src=\"../../../../__pv_it/common/6061f0b394c6ed4691f293648f7c8587f65eb3d50/expr.png\" style=\"display:inline;vertical-align:middle;\" /></a></td></tr>\n",
       "<tr><td>28</td><td>ExprRange</td><td>lambda_map:&nbsp;31<br>start_index:&nbsp;36<br>end_index:&nbsp;32<br></td><td><a class=\"ProveItLink\" href=\"../../common/0e6fa13d749624b54fe79a1c8a5085161a2225da0/expr.ipynb\"><img src=\"../../common/0e6fa13d749624b54fe79a1c8a5085161a2225da0/expr.png\" style=\"display:inline;vertical-align:middle;\" /></a></td></tr>\n",
       "<tr><td>29</td><td>Operation</td><td>operator:&nbsp;33<br>operand:&nbsp;36<br></td><td><a class=\"ProveItLink\" href=\"../../../../__pv_it/common/8c734d503ad1059c44c9f2e4827f47823ef862820/expr.ipynb\"><img src=\"../../../../__pv_it/common/8c734d503ad1059c44c9f2e4827f47823ef862820/expr.png\" style=\"display:inline;vertical-align:middle;\" /></a></td></tr>\n",
       "<tr><td>30</td><td>Literal</td><td></td><td><a class=\"ProveItLink\" href=\"../../../../../numbers/numerals/__pv_it/common/682157d4892d216d9e5626ed533aff9b56b9506e0/expr.ipynb\"><img src=\"../../../../../numbers/numerals/__pv_it/common/682157d4892d216d9e5626ed533aff9b56b9506e0/expr.png\" style=\"display:inline;vertical-align:middle;\" /></a></td></tr>\n",
       "<tr><td>31</td><td>Lambda</td><td>parameter:&nbsp;41<br>body:&nbsp;35<br></td><td><a class=\"ProveItLink\" href=\"../../common/91fbd1e224e0abd4dfa6b22c47ff294d2af20c1c0/expr.ipynb\"><img src=\"../../common/91fbd1e224e0abd4dfa6b22c47ff294d2af20c1c0/expr.png\" style=\"display:inline;vertical-align:middle;\" /></a></td></tr>\n",
       "<tr><td>32</td><td>Variable</td><td></td><td><a class=\"ProveItLink\" href=\"../../../../../__pv_it/common/1ed21df18baca2f42b561a7ffbf30a2743d594650/expr.ipynb\"><img src=\"../../../../../__pv_it/common/1ed21df18baca2f42b561a7ffbf30a2743d594650/expr.png\" style=\"display:inline;vertical-align:middle;\" /></a></td></tr>\n",
       "<tr><td>33</td><td>Literal</td><td></td><td><a class=\"ProveItLink\" href=\"../../../../../numbers/negation/__pv_it/common/221b3c4d1770ee9051b7c044c3f9ec61196fc34b0/expr.ipynb\"><img src=\"../../../../../numbers/negation/__pv_it/common/221b3c4d1770ee9051b7c044c3f9ec61196fc34b0/expr.png\" style=\"display:inline;vertical-align:middle;\" /></a></td></tr>\n",
       "<tr><td>34</td><td>ExprTuple</td><td>36</td><td><a class=\"ProveItLink\" href=\"../../../../__pv_it/common/0fc33550aa9740010879fdf30c320b63ba918eff0/expr.ipynb\"><img src=\"../../../../__pv_it/common/0fc33550aa9740010879fdf30c320b63ba918eff0/expr.png\" style=\"display:inline;vertical-align:middle;\" /></a></td></tr>\n",
       "<tr><td>35</td><td>Operation</td><td>operator:&nbsp;37<br>operand:&nbsp;41<br></td><td><a class=\"ProveItLink\" href=\"../../common/4543d681feb1ba745f997390f1f306d51b254a040/expr.ipynb\"><img src=\"../../common/4543d681feb1ba745f997390f1f306d51b254a040/expr.png\" style=\"display:inline;vertical-align:middle;\" /></a></td></tr>\n",
       "<tr><td>36</td><td>Variable</td><td></td><td><a class=\"ProveItLink\" href=\"../../../../../__pv_it/common/ae955345c83abf786c3aff8681cd5465beae262d0/expr.ipynb\"><img src=\"../../../../../__pv_it/common/ae955345c83abf786c3aff8681cd5465beae262d0/expr.png\" style=\"display:inline;vertical-align:middle;\" /></a></td></tr>\n",
       "<tr><td>37</td><td>IndexedVar</td><td>variable:&nbsp;39<br>index:&nbsp;42<br></td><td><a class=\"ProveItLink\" href=\"../../common/5bd3db69303afa465308092059ecc64ddc1d429a0/expr.ipynb\"><img src=\"../../common/5bd3db69303afa465308092059ecc64ddc1d429a0/expr.png\" style=\"display:inline;vertical-align:middle;\" /></a></td></tr>\n",
       "<tr><td>38</td><td>ExprTuple</td><td>41</td><td><a class=\"ProveItLink\" href=\"../../../../__pv_it/common/4b0dd6be36d76552eda6a95d5b4a27f5a5b62f900/expr.ipynb\"><img src=\"../../../../__pv_it/common/4b0dd6be36d76552eda6a95d5b4a27f5a5b62f900/expr.png\" style=\"display:inline;vertical-align:middle;\" /></a></td></tr>\n",
       "<tr><td>39</td><td>Variable</td><td></td><td><a class=\"ProveItLink\" href=\"../../../../../__pv_it/common/01b6dbb444a31fc38af4c2379badef6c75b363710/expr.ipynb\"><img src=\"../../../../../__pv_it/common/01b6dbb444a31fc38af4c2379badef6c75b363710/expr.png\" style=\"display:inline;vertical-align:middle;\" /></a></td></tr>\n",
       "<tr><td>40</td><td>ExprTuple</td><td>42</td><td><a class=\"ProveItLink\" href=\"../../common/18f7318b68e45ff8356043b6e71619fa8450fb200/expr.ipynb\"><img src=\"../../common/18f7318b68e45ff8356043b6e71619fa8450fb200/expr.png\" style=\"display:inline;vertical-align:middle;\" /></a></td></tr>\n",
       "<tr><td>41</td><td>Variable</td><td></td><td><a class=\"ProveItLink\" href=\"../../../../__pv_it/common/006c465e50948aa2b52285e2de47974f741255cc0/expr.ipynb\"><img src=\"../../../../__pv_it/common/006c465e50948aa2b52285e2de47974f741255cc0/expr.png\" style=\"display:inline;vertical-align:middle;\" /></a></td></tr>\n",
       "<tr><td>42</td><td>Variable</td><td></td><td><a class=\"ProveItLink\" href=\"../../common/9a18d67b443cf8d92289c655ed91ec78766170a90/expr.ipynb\"><img src=\"../../common/9a18d67b443cf8d92289c655ed91ec78766170a90/expr.png\" style=\"display:inline;vertical-align:middle;\" /></a></td></tr>\n",
       "</table>\n"
      ],
      "text/plain": [
       "0. forall_{f_{1}, f_{2}, ..., f_{n}, i, j | (j - i + 1) in Natural} (|(f_{1}(i), f_{1}(i + 1), ..., f_{1}(j), f_{2}(i), f_{2}(i + 1), ..., f_{2}(j), ......, f_{n}(i), f_{n}(i + 1), ..., f_{n}(j))| \\\\  = (n * (j - i + 1)))\n",
       "   core type: Operation\n",
       "   operator: 1\n",
       "   operand: 3\n",
       "1. forall\n",
       "   core type: Literal\n",
       "   sub-expressions: \n",
       "2. ((f_{1}, f_{2}, ..., f_{n}, i, j) -> {|(f_{1}(i), f_{1}(i + 1), ..., f_{1}(j), f_{2}(i), f_{2}(i + 1), ..., f_{2}(j), ......, f_{n}(i), f_{n}(i + 1), ..., f_{n}(j))| \\\\  = (n * (j - i + 1)) if (j - i + 1) in Natural.)\n",
       "   core type: ExprTuple\n",
       "   sub-expressions: 3\n",
       "3. (f_{1}, f_{2}, ..., f_{n}, i, j) -> {|(f_{1}(i), f_{1}(i + 1), ..., f_{1}(j), f_{2}(i), f_{2}(i + 1), ..., f_{2}(j), ......, f_{n}(i), f_{n}(i + 1), ..., f_{n}(j))| \\\\  = (n * (j - i + 1)) if (j - i + 1) in Natural.\n",
       "   core type: Lambda\n",
       "   parameters: 4\\n   body: 5\n",
       "4. (f_{1}, f_{2}, ..., f_{n}, i, j)\n",
       "   core type: ExprTuple\n",
       "   sub-expressions: 6, 36, 32\n",
       "5. {|(f_{1}(i), f_{1}(i + 1), ..., f_{1}(j), f_{2}(i), f_{2}(i + 1), ..., f_{2}(j), ......, f_{n}(i), f_{n}(i + 1), ..., f_{n}(j))| \\\\  = (n * (j - i + 1)) if (j - i + 1) in Natural.\n",
       "   core type: Conditional\n",
       "   value: 7\n",
       "   condition: 8\n",
       "6. f_{1}, f_{2}, ..., f_{n}\n",
       "   core type: ExprRange\n",
       "   lambda_map: 9\n",
       "   start_index: 30\n",
       "   end_index: 25\n",
       "7. |(f_{1}(i), f_{1}(i + 1), ..., f_{1}(j), f_{2}(i), f_{2}(i + 1), ..., f_{2}(j), ......, f_{n}(i), f_{n}(i + 1), ..., f_{n}(j))| \\\\  = (n * (j - i + 1))\n",
       "   core type: Operation\n",
       "   operator: 10\n",
       "   operands: 11\n",
       "8. (j - i + 1) in Natural\n",
       "   core type: Operation\n",
       "   operator: 12\n",
       "   operands: 13\n",
       "9. _a -> f_{_a}\n",
       "   core type: Lambda\n",
       "   parameter: 41\n",
       "   body: 14\n",
       "10. =\n",
       "    core type: Literal\n",
       "    sub-expressions: \n",
       "11. (|(f_{1}(i), f_{1}(i + 1), ..., f_{1}(j), f_{2}(i), f_{2}(i + 1), ..., f_{2}(j), ......, f_{n}(i), f_{n}(i + 1), ..., f_{n}(j))|, n * (j - i + 1))\n",
       "    core type: ExprTuple\n",
       "    sub-expressions: 15, 16\n",
       "12. in\n",
       "    core type: Literal\n",
       "    sub-expressions: \n",
       "13. (j - i + 1, Natural)\n",
       "    core type: ExprTuple\n",
       "    sub-expressions: 23, 17\n",
       "14. f_{_a}\n",
       "    core type: IndexedVar\n",
       "variable: 39\n",
       "index: 41\n",
       "15. |(f_{1}(i), f_{1}(i + 1), ..., f_{1}(j), f_{2}(i), f_{2}(i + 1), ..., f_{2}(j), ......, f_{n}(i), f_{n}(i + 1), ..., f_{n}(j))|\n",
       "    core type: Operation\n",
       "    operator: 18\n",
       "    operands: 19\n",
       "16. n * (j - i + 1)\n",
       "    core type: Operation\n",
       "    operator: 20\n",
       "    operands: 21\n",
       "17. Natural\n",
       "    core type: Literal\n",
       "    sub-expressions: \n",
       "18. length\n",
       "    core type: Literal\n",
       "    sub-expressions: \n",
       "19. (f_{1}(i), f_{1}(i + 1), ..., f_{1}(j), f_{2}(i), f_{2}(i + 1), ..., f_{2}(j), ......, f_{n}(i), f_{n}(i + 1), ..., f_{n}(j))\n",
       "    core type: ExprTuple\n",
       "    sub-expressions: 22\n",
       "20. *\n",
       "    core type: Literal\n",
       "    sub-expressions: \n",
       "21. (n, j - i + 1)\n",
       "    core type: ExprTuple\n",
       "    sub-expressions: 25, 23\n",
       "22. f_{1}(i), f_{1}(i + 1), ..., f_{1}(j), f_{2}(i), f_{2}(i + 1), ..., f_{2}(j), ......, f_{n}(i), f_{n}(i + 1), ..., f_{n}(j)\n",
       "    core type: ExprRange\n",
       "    lambda_map: 24\n",
       "    start_index: 30\n",
       "    end_index: 25\n",
       "23. j - i + 1\n",
       "    core type: Operation\n",
       "    operator: 26\n",
       "    operands: 27\n",
       "24. _b -> f_{_b}(i), f_{_b}(i + 1), ..., f_{_b}(j)\n",
       "    core type: Lambda\n",
       "    parameter: 42\n",
       "    body: 28\n",
       "25. n\n",
       "    core type: Variable\n",
       "    sub-expressions: \n",
       "26. +\n",
       "    core type: Literal\n",
       "    sub-expressions: \n",
       "27. (j, -i, 1)\n",
       "    core type: ExprTuple\n",
       "    sub-expressions: 32, 29, 30\n",
       "28. f_{_b}(i), f_{_b}(i + 1), ..., f_{_b}(j)\n",
       "    core type: ExprRange\n",
       "    lambda_map: 31\n",
       "    start_index: 36\n",
       "    end_index: 32\n",
       "29. -i\n",
       "    core type: Operation\n",
       "    operator: 33\n",
       "    operand: 36\n",
       "30. 1\n",
       "    core type: Literal\n",
       "    sub-expressions: \n",
       "31. _a -> f_{_b}(_a)\n",
       "    core type: Lambda\n",
       "    parameter: 41\n",
       "    body: 35\n",
       "32. j\n",
       "    core type: Variable\n",
       "    sub-expressions: \n",
       "33. -\n",
       "    core type: Literal\n",
       "    sub-expressions: \n",
       "34. (i)\n",
       "    core type: ExprTuple\n",
       "    sub-expressions: 36\n",
       "35. f_{_b}(_a)\n",
       "    core type: Operation\n",
       "    operator: 37\n",
       "    operand: 41\n",
       "36. i\n",
       "    core type: Variable\n",
       "    sub-expressions: \n",
       "37. f_{_b}\n",
       "    core type: IndexedVar\n",
       "variable: 39\n",
       "index: 42\n",
       "38. (_a)\n",
       "    core type: ExprTuple\n",
       "    sub-expressions: 41\n",
       "39. f\n",
       "    core type: Variable\n",
       "    sub-expressions: \n",
       "40. (_b)\n",
       "    core type: ExprTuple\n",
       "    sub-expressions: 42\n",
       "41. _a\n",
       "    core type: Variable\n",
       "    sub-expressions: \n",
       "42. _b\n",
       "    core type: Variable\n",
       "    sub-expressions: "
      ]
     },
     "metadata": {},
     "output_type": "display_data"
    }
   ],
   "source": [
    "# display the expression information\n",
    "stored_expr.expr_info()"
   ]
  },
  {
   "cell_type": "code",
   "execution_count": null,
   "metadata": {},
   "outputs": [],
   "source": []
  }
 ],
 "metadata": {
  "kernelspec": {
   "display_name": "Python 3",
   "language": "python",
   "name": "python3"
  }
 },
 "nbformat": 4,
 "nbformat_minor": 0
}