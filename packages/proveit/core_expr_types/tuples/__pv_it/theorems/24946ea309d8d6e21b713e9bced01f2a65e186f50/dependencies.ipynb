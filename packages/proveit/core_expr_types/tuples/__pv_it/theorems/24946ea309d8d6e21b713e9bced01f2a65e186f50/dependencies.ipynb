{
 "cells": [
  {
   "cell_type": "markdown",
   "metadata": {},
   "source": [
    "Theorem Dependencies\n",
    "=======================\n",
    "\n",
    "## <a class=\"ProveItLink\" href=\"../../../_theory_nbs_/theory.ipynb\">proveit.core_expr_types.tuples</a>.<a class=\"ProveItLink\" href=\"../../../_theorems_.ipynb#extended_range_from1_len_typical_eq\">extended_range_from1_len_typical_eq</a> \n",
    "***see <a class=\"ProveItLink\" href=\"../../../_theory_nbs_/proofs/extended_range_from1_len_typical_eq/thm_proof.ipynb\">proof</a>***"
   ]
  },
  {
   "cell_type": "code",
   "execution_count": 1,
   "metadata": {},
   "outputs": [],
   "source": [
    "import proveit\n",
    "# Automation is not needed when querying dependencies:\n",
    "proveit.defaults.automation = False # This will speed things up.\n",
    "proveit.defaults.inline_pngs = False # Makes files smaller.\n",
    "from proveit.core_expr_types.tuples import extended_range_from1_len_typical_eq"
   ]
  },
  {
   "cell_type": "code",
   "execution_count": 2,
   "metadata": {},
   "outputs": [
    {
     "data": {
      "text/html": [
       "<h3>Unproven conjectures required (directly or indirectly) to prove extended_range_from1_len_typical_eq</h3>"
      ],
      "text/plain": [
       "<IPython.core.display.HTML object>"
      ]
     },
     "metadata": {},
     "output_type": "display_data"
    },
    {
     "data": {
      "text/html": [
       "<dl>"
      ],
      "text/plain": [
       "<IPython.core.display.HTML object>"
      ]
     },
     "metadata": {},
     "output_type": "display_data"
    },
    {
     "data": {
      "text/html": [
       "<dt><a class=\"ProveItLink\" href=\"../../../_theory_nbs_/proofs/extended_range_from1_len_typical_eq/thm_proof.ipynb\">proveit.core_expr_types.tuples.extended_range_from1_len_typical_eq</a></dt><dd><a class=\"ProveItLink\" href=\"../90ab609bd7731cc068b829ecfecc5a4e2b0668ac0/expr.ipynb\"><img src=\"../90ab609bd7731cc068b829ecfecc5a4e2b0668ac0/expr.png\" style=\"display:inline;vertical-align:middle;\" /></a></dd>"
      ],
      "text/plain": [
       "<IPython.core.display.HTML object>"
      ]
     },
     "metadata": {},
     "output_type": "display_data"
    },
    {
     "data": {
      "text/html": [
       "</dl>"
      ],
      "text/plain": [
       "<IPython.core.display.HTML object>"
      ]
     },
     "metadata": {},
     "output_type": "display_data"
    },
    {
     "data": {
      "text/html": [
       "<h3>Theorems/conjectures that depend directly on extended_range_from1_len_typical_eq</h3>"
      ],
      "text/plain": [
       "<IPython.core.display.HTML object>"
      ]
     },
     "metadata": {},
     "output_type": "display_data"
    },
    {
     "data": {
      "text/html": [
       "<dl>"
      ],
      "text/plain": [
       "<IPython.core.display.HTML object>"
      ]
     },
     "metadata": {},
     "output_type": "display_data"
    },
    {
     "data": {
      "text/html": [
       "<dt><a class=\"ProveItLink\" href=\"../../../_theory_nbs_/proofs/tuple_eq_via_elem_eq/thm_proof.ipynb\">proveit.core_expr_types.tuples.tuple_eq_via_elem_eq</a></dt><dd><a class=\"ProveItLink\" href=\"../b032b2cdc2eda215cf3bb0e638ef73c96c50ab690/expr.ipynb\"><img src=\"../b032b2cdc2eda215cf3bb0e638ef73c96c50ab690/expr.png\" style=\"display:inline;vertical-align:middle;\" /></a></dd>"
      ],
      "text/plain": [
       "<IPython.core.display.HTML object>"
      ]
     },
     "metadata": {},
     "output_type": "display_data"
    },
    {
     "data": {
      "text/html": [
       "<dt><a class=\"ProveItLink\" href=\"../../../../../logic/booleans/disjunction/_theory_nbs_/proofs/closure/thm_proof.ipynb\">proveit.logic.booleans.disjunction.closure</a></dt><dd><a class=\"ProveItLink\" href=\"../../../../../logic/booleans/disjunction/__pv_it/theorems/89d3d97dc4360142d43d01b2b868737402f7ad940/expr.ipynb\"><img src=\"../../../../../logic/booleans/disjunction/__pv_it/theorems/89d3d97dc4360142d43d01b2b868737402f7ad940/expr.png\" style=\"display:inline;vertical-align:middle;\" /></a></dd>"
      ],
      "text/plain": [
       "<IPython.core.display.HTML object>"
      ]
     },
     "metadata": {},
     "output_type": "display_data"
    },
    {
     "data": {
      "text/html": [
       "</dl>"
      ],
      "text/plain": [
       "<IPython.core.display.HTML object>"
      ]
     },
     "metadata": {},
     "output_type": "display_data"
    }
   ],
   "source": [
    "%dependencies extended_range_from1_len_typical_eq"
   ]
  }
 ],
 "metadata": {
  "kernelspec": {
   "display_name": "Python 3",
   "language": "python",
   "name": "python3"
  }
 },
 "nbformat": 4,
 "nbformat_minor": 0
}