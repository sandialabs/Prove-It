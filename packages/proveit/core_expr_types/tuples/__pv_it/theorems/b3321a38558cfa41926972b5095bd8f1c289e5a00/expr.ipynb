{
 "cells": [
  {
   "cell_type": "markdown",
   "metadata": {},
   "source": [
    "Expression of type <a class=\"ProveItLink\" href=\"../../../../../../../doc/html/api/proveit.logic.And.html\">And</a>\n",
    "=======================\n",
    "# from the theory of <a class=\"ProveItLink\" href=\"../../../_theory_nbs_/theory.ipynb\">proveit.core_expr_types.tuples</a>"
   ]
  },
  {
   "cell_type": "code",
   "execution_count": 1,
   "metadata": {},
   "outputs": [],
   "source": [
    "import proveit\n",
    "# Automation is not needed when building an expression:\n",
    "proveit.defaults.automation = False # This will speed things up.\n",
    "proveit.defaults.inline_pngs = False # Makes files smaller.\n",
    "%load_expr # Load the stored expression as 'stored_expr'\n",
    "# import Expression classes needed to build the expression\n",
    "from proveit import a, b, i, j, k, l\n",
    "from proveit.logic import And, Equals, InSet\n",
    "from proveit.numbers import Add, Natural, one, subtract"
   ]
  },
  {
   "cell_type": "code",
   "execution_count": 2,
   "metadata": {},
   "outputs": [
    {
     "data": {
      "text/html": [
       "<strong id=\"expr\">expr:</strong> <a class=\"ProveItLink\" href=\"expr.ipynb\"><img src=\"expr.png\" style=\"display:inline;vertical-align:middle;\" /></a><br>"
      ],
      "text/plain": [
       "<IPython.core.display.HTML object>"
      ]
     },
     "metadata": {},
     "output_type": "display_data"
    }
   ],
   "source": [
    "# build up the expression from sub-expressions\n",
    "expr = And(InSet(subtract(Add(j, one), i), Natural), Equals(Add(i, a), Add(k, b)), Equals(Add(j, a), Add(l, b)))"
   ]
  },
  {
   "cell_type": "code",
   "execution_count": 3,
   "metadata": {},
   "outputs": [
    {
     "name": "stdout",
     "output_type": "stream",
     "text": [
      "Passed sanity check: expr matches stored_expr\n"
     ]
    }
   ],
   "source": [
    "# check that the built expression is the same as the stored expression\n",
    "assert expr == stored_expr\n",
    "assert expr._style_id == stored_expr._style_id\n",
    "print(\"Passed sanity check: expr matches stored_expr\")"
   ]
  },
  {
   "cell_type": "code",
   "execution_count": 4,
   "metadata": {},
   "outputs": [
    {
     "name": "stdout",
     "output_type": "stream",
     "text": [
      "\\left(\\left(\\left(j + 1\\right) - i\\right) \\in \\mathbb{N}\\right) \\land \\left(\\left(i + a\\right) = \\left(k + b\\right)\\right) \\land \\left(\\left(j + a\\right) = \\left(l + b\\right)\\right)\n"
     ]
    }
   ],
   "source": [
    "# Show the LaTeX representation of the expression for convenience if you need it.\n",
    "print(stored_expr.latex())"
   ]
  },
  {
   "cell_type": "code",
   "execution_count": 5,
   "metadata": {},
   "outputs": [
    {
     "data": {
      "text/html": [
       "<table>\n",
       "<tr><th>name</th><th>description</th><th>default</th><th>current value</th><th>related methods</th></tr><tr><td>operation</td><td>'infix' or 'function' style formatting</td><td>infix</td><td>infix</td><td></td></tr>\n",
       "<tr><td>wrap_positions</td><td>position(s) at which wrapping is to occur; '2 n - 1' is after the nth operand, '2 n' is after the nth operation.</td><td>()</td><td>()</td><td>('with_wrapping_at', 'with_wrap_before_operator', 'with_wrap_after_operator', 'without_wrapping', 'wrap_positions')</td></tr>\n",
       "<tr><td>justification</td><td>if any wrap positions are set, justify to the 'left', 'center', or 'right'</td><td>center</td><td>center</td><td>('with_justification',)</td></tr>\n",
       "</table>\n"
      ],
      "text/plain": [
       "style name: operation\n",
       "description: 'infix' or 'function' style formatting\n",
       "default: infix\n",
       "current value: infix\n",
       "related methods: ()\n",
       "style name: wrap_positions\n",
       "description: position(s) at which wrapping is to occur; '2 n - 1' is after the nth operand, '2 n' is after the nth operation.\n",
       "default: ()\n",
       "current value: ()\n",
       "related methods: ('with_wrapping_at', 'with_wrap_before_operator', 'with_wrap_after_operator', 'without_wrapping', 'wrap_positions')\n",
       "style name: justification\n",
       "description: if any wrap positions are set, justify to the 'left', 'center', or 'right'\n",
       "default: center\n",
       "current value: center\n",
       "related methods: ('with_justification',)"
      ]
     },
     "metadata": {},
     "output_type": "display_data"
    }
   ],
   "source": [
    "stored_expr.style_options()"
   ]
  },
  {
   "cell_type": "code",
   "execution_count": 6,
   "metadata": {},
   "outputs": [
    {
     "data": {
      "text/html": [
       "<table><tr><th>&nbsp;</th><th>core type</th><th>sub-expressions</th><th>expression</th></tr>\n",
       "<tr><td>0</td><td>Operation</td><td>operator:&nbsp;1<br>operands:&nbsp;2<br></td><td><a class=\"ProveItLink\" href=\"expr.ipynb\"><img src=\"expr.png\" style=\"display:inline;vertical-align:middle;\" /></a></td></tr>\n",
       "<tr><td>1</td><td>Literal</td><td></td><td><a class=\"ProveItLink\" href=\"../../../../../logic/booleans/conjunction/__pv_it/common/42118ff318bd65d98b1393f64ce7c2269feef76e0/expr.ipynb\"><img src=\"../../../../../logic/booleans/conjunction/__pv_it/common/42118ff318bd65d98b1393f64ce7c2269feef76e0/expr.png\" style=\"display:inline;vertical-align:middle;\" /></a></td></tr>\n",
       "<tr><td>2</td><td>ExprTuple</td><td>3, 4, 5</td><td><a class=\"ProveItLink\" href=\"../77cd229d7db0489da35aab709a9d94354d3e99050/expr.ipynb\"><img src=\"../77cd229d7db0489da35aab709a9d94354d3e99050/expr.png\" style=\"display:inline;vertical-align:middle;\" /></a></td></tr>\n",
       "<tr><td>3</td><td>Operation</td><td>operator:&nbsp;6<br>operands:&nbsp;7<br></td><td><a class=\"ProveItLink\" href=\"../a49f9d9780e8f8b2ad2bfc0d0ba1f066056651f30/expr.ipynb\"><img src=\"../a49f9d9780e8f8b2ad2bfc0d0ba1f066056651f30/expr.png\" style=\"display:inline;vertical-align:middle;\" /></a></td></tr>\n",
       "<tr><td>4</td><td>Operation</td><td>operator:&nbsp;9<br>operands:&nbsp;8<br></td><td><a class=\"ProveItLink\" href=\"../d5f8e861fc05280a3c4b97cbc548164fe440022b0/expr.ipynb\"><img src=\"../d5f8e861fc05280a3c4b97cbc548164fe440022b0/expr.png\" style=\"display:inline;vertical-align:middle;\" /></a></td></tr>\n",
       "<tr><td>5</td><td>Operation</td><td>operator:&nbsp;9<br>operands:&nbsp;10<br></td><td><a class=\"ProveItLink\" href=\"../7ddf1b64d88fa289f8589e26881fec2f86cbf3990/expr.ipynb\"><img src=\"../7ddf1b64d88fa289f8589e26881fec2f86cbf3990/expr.png\" style=\"display:inline;vertical-align:middle;\" /></a></td></tr>\n",
       "<tr><td>6</td><td>Literal</td><td></td><td><a class=\"ProveItLink\" href=\"../../../../../logic/sets/membership/__pv_it/common/477487d8796864d23d5810f83761435f25167f690/expr.ipynb\"><img src=\"../../../../../logic/sets/membership/__pv_it/common/477487d8796864d23d5810f83761435f25167f690/expr.png\" style=\"display:inline;vertical-align:middle;\" /></a></td></tr>\n",
       "<tr><td>7</td><td>ExprTuple</td><td>11, 12</td><td><a class=\"ProveItLink\" href=\"../468936c052dd71d7665fdee2f795fc1718106ad40/expr.ipynb\"><img src=\"../468936c052dd71d7665fdee2f795fc1718106ad40/expr.png\" style=\"display:inline;vertical-align:middle;\" /></a></td></tr>\n",
       "<tr><td>8</td><td>ExprTuple</td><td>13, 14</td><td><a class=\"ProveItLink\" href=\"../0221c2727dcc3f03e334af2da6ef855e69fa104f0/expr.ipynb\"><img src=\"../0221c2727dcc3f03e334af2da6ef855e69fa104f0/expr.png\" style=\"display:inline;vertical-align:middle;\" /></a></td></tr>\n",
       "<tr><td>9</td><td>Literal</td><td></td><td><a class=\"ProveItLink\" href=\"../../../../../logic/equality/__pv_it/common/fb96dc12b2aa8801dda64d0132b396c63d1502bb0/expr.ipynb\"><img src=\"../../../../../logic/equality/__pv_it/common/fb96dc12b2aa8801dda64d0132b396c63d1502bb0/expr.png\" style=\"display:inline;vertical-align:middle;\" /></a></td></tr>\n",
       "<tr><td>10</td><td>ExprTuple</td><td>15, 16</td><td><a class=\"ProveItLink\" href=\"../e7e2f2ec955d96e4d7cf37161872e5e9c4223ca90/expr.ipynb\"><img src=\"../e7e2f2ec955d96e4d7cf37161872e5e9c4223ca90/expr.png\" style=\"display:inline;vertical-align:middle;\" /></a></td></tr>\n",
       "<tr><td>11</td><td>Operation</td><td>operator:&nbsp;28<br>operands:&nbsp;17<br></td><td><a class=\"ProveItLink\" href=\"../590525331bb20a3217ebdffc7435439a7e691e4c0/expr.ipynb\"><img src=\"../590525331bb20a3217ebdffc7435439a7e691e4c0/expr.png\" style=\"display:inline;vertical-align:middle;\" /></a></td></tr>\n",
       "<tr><td>12</td><td>Literal</td><td></td><td><a class=\"ProveItLink\" href=\"../../../../../numbers/number_sets/natural_numbers/__pv_it/common/8b7c321957f52ed3b05b36af612eeae4fa4783bc0/expr.ipynb\"><img src=\"../../../../../numbers/number_sets/natural_numbers/__pv_it/common/8b7c321957f52ed3b05b36af612eeae4fa4783bc0/expr.png\" style=\"display:inline;vertical-align:middle;\" /></a></td></tr>\n",
       "<tr><td>13</td><td>Operation</td><td>operator:&nbsp;28<br>operands:&nbsp;18<br></td><td><a class=\"ProveItLink\" href=\"../1f6c1e7c66896be997237ef32c6b499ea970413a0/expr.ipynb\"><img src=\"../1f6c1e7c66896be997237ef32c6b499ea970413a0/expr.png\" style=\"display:inline;vertical-align:middle;\" /></a></td></tr>\n",
       "<tr><td>14</td><td>Operation</td><td>operator:&nbsp;28<br>operands:&nbsp;19<br></td><td><a class=\"ProveItLink\" href=\"../3f6a6321ce3fd59d424072f5d14253e19d1c9cb90/expr.ipynb\"><img src=\"../3f6a6321ce3fd59d424072f5d14253e19d1c9cb90/expr.png\" style=\"display:inline;vertical-align:middle;\" /></a></td></tr>\n",
       "<tr><td>15</td><td>Operation</td><td>operator:&nbsp;28<br>operands:&nbsp;20<br></td><td><a class=\"ProveItLink\" href=\"../d5a6559120991fe479046e55dff894a211fa768f0/expr.ipynb\"><img src=\"../d5a6559120991fe479046e55dff894a211fa768f0/expr.png\" style=\"display:inline;vertical-align:middle;\" /></a></td></tr>\n",
       "<tr><td>16</td><td>Operation</td><td>operator:&nbsp;28<br>operands:&nbsp;21<br></td><td><a class=\"ProveItLink\" href=\"../08f72e4ca1e3e240c0ac33fc12003959640a2ad80/expr.ipynb\"><img src=\"../08f72e4ca1e3e240c0ac33fc12003959640a2ad80/expr.png\" style=\"display:inline;vertical-align:middle;\" /></a></td></tr>\n",
       "<tr><td>17</td><td>ExprTuple</td><td>22, 23</td><td><a class=\"ProveItLink\" href=\"../214f5d727771bbec9da2102dd75f40e66945a58c0/expr.ipynb\"><img src=\"../214f5d727771bbec9da2102dd75f40e66945a58c0/expr.png\" style=\"display:inline;vertical-align:middle;\" /></a></td></tr>\n",
       "<tr><td>18</td><td>ExprTuple</td><td>34, 25</td><td><a class=\"ProveItLink\" href=\"../ec8811274a56713b6e68f2c45710c01d5941d07e0/expr.ipynb\"><img src=\"../ec8811274a56713b6e68f2c45710c01d5941d07e0/expr.png\" style=\"display:inline;vertical-align:middle;\" /></a></td></tr>\n",
       "<tr><td>19</td><td>ExprTuple</td><td>24, 27</td><td><a class=\"ProveItLink\" href=\"../7635458b893ed4de382f06f60494d4790838c3260/expr.ipynb\"><img src=\"../7635458b893ed4de382f06f60494d4790838c3260/expr.png\" style=\"display:inline;vertical-align:middle;\" /></a></td></tr>\n",
       "<tr><td>20</td><td>ExprTuple</td><td>32, 25</td><td><a class=\"ProveItLink\" href=\"../8fcec6b10000c8f938c3ef15371152ff069615c10/expr.ipynb\"><img src=\"../8fcec6b10000c8f938c3ef15371152ff069615c10/expr.png\" style=\"display:inline;vertical-align:middle;\" /></a></td></tr>\n",
       "<tr><td>21</td><td>ExprTuple</td><td>26, 27</td><td><a class=\"ProveItLink\" href=\"../5264096e458d0ad1bfe38d80dd5d2429eb47827a0/expr.ipynb\"><img src=\"../5264096e458d0ad1bfe38d80dd5d2429eb47827a0/expr.png\" style=\"display:inline;vertical-align:middle;\" /></a></td></tr>\n",
       "<tr><td>22</td><td>Operation</td><td>operator:&nbsp;28<br>operands:&nbsp;29<br></td><td><a class=\"ProveItLink\" href=\"../../../../__pv_it/common/d0273df65d133a1f8883b8a3a163ce78774ce88e0/expr.ipynb\"><img src=\"../../../../__pv_it/common/d0273df65d133a1f8883b8a3a163ce78774ce88e0/expr.png\" style=\"display:inline;vertical-align:middle;\" /></a></td></tr>\n",
       "<tr><td>23</td><td>Operation</td><td>operator:&nbsp;30<br>operand:&nbsp;34<br></td><td><a class=\"ProveItLink\" href=\"../../../../__pv_it/common/8c734d503ad1059c44c9f2e4827f47823ef862820/expr.ipynb\"><img src=\"../../../../__pv_it/common/8c734d503ad1059c44c9f2e4827f47823ef862820/expr.png\" style=\"display:inline;vertical-align:middle;\" /></a></td></tr>\n",
       "<tr><td>24</td><td>Variable</td><td></td><td><a class=\"ProveItLink\" href=\"../../../../../__pv_it/common/63b7c64bf9ec7a04ecc396c7a1670f3f12fb59490/expr.ipynb\"><img src=\"../../../../../__pv_it/common/63b7c64bf9ec7a04ecc396c7a1670f3f12fb59490/expr.png\" style=\"display:inline;vertical-align:middle;\" /></a></td></tr>\n",
       "<tr><td>25</td><td>Variable</td><td></td><td><a class=\"ProveItLink\" href=\"../../../../../__pv_it/common/c06c606ec12678c58933ac85412ecadc2ae28be60/expr.ipynb\"><img src=\"../../../../../__pv_it/common/c06c606ec12678c58933ac85412ecadc2ae28be60/expr.png\" style=\"display:inline;vertical-align:middle;\" /></a></td></tr>\n",
       "<tr><td>26</td><td>Variable</td><td></td><td><a class=\"ProveItLink\" href=\"../../../../../__pv_it/common/27cc275d44b4f4499fb9ccfb3fab1a98165d2fa60/expr.ipynb\"><img src=\"../../../../../__pv_it/common/27cc275d44b4f4499fb9ccfb3fab1a98165d2fa60/expr.png\" style=\"display:inline;vertical-align:middle;\" /></a></td></tr>\n",
       "<tr><td>27</td><td>Variable</td><td></td><td><a class=\"ProveItLink\" href=\"../../../../../__pv_it/common/195236b98c6c564a75b5dbada74b173bc52d5c3e0/expr.ipynb\"><img src=\"../../../../../__pv_it/common/195236b98c6c564a75b5dbada74b173bc52d5c3e0/expr.png\" style=\"display:inline;vertical-align:middle;\" /></a></td></tr>\n",
       "<tr><td>28</td><td>Literal</td><td></td><td><a class=\"ProveItLink\" href=\"../../../../../numbers/addition/__pv_it/common/4b7effaab3619a1c2c38fe2dee8601df8ec714590/expr.ipynb\"><img src=\"../../../../../numbers/addition/__pv_it/common/4b7effaab3619a1c2c38fe2dee8601df8ec714590/expr.png\" style=\"display:inline;vertical-align:middle;\" /></a></td></tr>\n",
       "<tr><td>29</td><td>ExprTuple</td><td>32, 33</td><td><a class=\"ProveItLink\" href=\"../../../../__pv_it/common/8b6ed1fad73893e4ad1245f0c4137f5451742f770/expr.ipynb\"><img src=\"../../../../__pv_it/common/8b6ed1fad73893e4ad1245f0c4137f5451742f770/expr.png\" style=\"display:inline;vertical-align:middle;\" /></a></td></tr>\n",
       "<tr><td>30</td><td>Literal</td><td></td><td><a class=\"ProveItLink\" href=\"../../../../../numbers/negation/__pv_it/common/221b3c4d1770ee9051b7c044c3f9ec61196fc34b0/expr.ipynb\"><img src=\"../../../../../numbers/negation/__pv_it/common/221b3c4d1770ee9051b7c044c3f9ec61196fc34b0/expr.png\" style=\"display:inline;vertical-align:middle;\" /></a></td></tr>\n",
       "<tr><td>31</td><td>ExprTuple</td><td>34</td><td><a class=\"ProveItLink\" href=\"../../../../__pv_it/common/0fc33550aa9740010879fdf30c320b63ba918eff0/expr.ipynb\"><img src=\"../../../../__pv_it/common/0fc33550aa9740010879fdf30c320b63ba918eff0/expr.png\" style=\"display:inline;vertical-align:middle;\" /></a></td></tr>\n",
       "<tr><td>32</td><td>Variable</td><td></td><td><a class=\"ProveItLink\" href=\"../../../../../__pv_it/common/1ed21df18baca2f42b561a7ffbf30a2743d594650/expr.ipynb\"><img src=\"../../../../../__pv_it/common/1ed21df18baca2f42b561a7ffbf30a2743d594650/expr.png\" style=\"display:inline;vertical-align:middle;\" /></a></td></tr>\n",
       "<tr><td>33</td><td>Literal</td><td></td><td><a class=\"ProveItLink\" href=\"../../../../../numbers/numerals/__pv_it/common/682157d4892d216d9e5626ed533aff9b56b9506e0/expr.ipynb\"><img src=\"../../../../../numbers/numerals/__pv_it/common/682157d4892d216d9e5626ed533aff9b56b9506e0/expr.png\" style=\"display:inline;vertical-align:middle;\" /></a></td></tr>\n",
       "<tr><td>34</td><td>Variable</td><td></td><td><a class=\"ProveItLink\" href=\"../../../../../__pv_it/common/ae955345c83abf786c3aff8681cd5465beae262d0/expr.ipynb\"><img src=\"../../../../../__pv_it/common/ae955345c83abf786c3aff8681cd5465beae262d0/expr.png\" style=\"display:inline;vertical-align:middle;\" /></a></td></tr>\n",
       "</table>\n"
      ],
      "text/plain": [
       "0. (((j + 1) - i) in Natural) and ((i + a) = (k + b)) and ((j + a) = (l + b))\n",
       "   core type: Operation\n",
       "   operator: 1\n",
       "   operands: 2\n",
       "1. and\n",
       "   core type: Literal\n",
       "   sub-expressions: \n",
       "2. (((j + 1) - i) in Natural, (i + a) = (k + b), (j + a) = (l + b))\n",
       "   core type: ExprTuple\n",
       "   sub-expressions: 3, 4, 5\n",
       "3. ((j + 1) - i) in Natural\n",
       "   core type: Operation\n",
       "   operator: 6\n",
       "   operands: 7\n",
       "4. (i + a) = (k + b)\n",
       "   core type: Operation\n",
       "   operator: 9\n",
       "   operands: 8\n",
       "5. (j + a) = (l + b)\n",
       "   core type: Operation\n",
       "   operator: 9\n",
       "   operands: 10\n",
       "6. in\n",
       "   core type: Literal\n",
       "   sub-expressions: \n",
       "7. ((j + 1) - i, Natural)\n",
       "   core type: ExprTuple\n",
       "   sub-expressions: 11, 12\n",
       "8. (i + a, k + b)\n",
       "   core type: ExprTuple\n",
       "   sub-expressions: 13, 14\n",
       "9. =\n",
       "   core type: Literal\n",
       "   sub-expressions: \n",
       "10. (j + a, l + b)\n",
       "    core type: ExprTuple\n",
       "    sub-expressions: 15, 16\n",
       "11. (j + 1) - i\n",
       "    core type: Operation\n",
       "    operator: 28\n",
       "    operands: 17\n",
       "12. Natural\n",
       "    core type: Literal\n",
       "    sub-expressions: \n",
       "13. i + a\n",
       "    core type: Operation\n",
       "    operator: 28\n",
       "    operands: 18\n",
       "14. k + b\n",
       "    core type: Operation\n",
       "    operator: 28\n",
       "    operands: 19\n",
       "15. j + a\n",
       "    core type: Operation\n",
       "    operator: 28\n",
       "    operands: 20\n",
       "16. l + b\n",
       "    core type: Operation\n",
       "    operator: 28\n",
       "    operands: 21\n",
       "17. (j + 1, -i)\n",
       "    core type: ExprTuple\n",
       "    sub-expressions: 22, 23\n",
       "18. (i, a)\n",
       "    core type: ExprTuple\n",
       "    sub-expressions: 34, 25\n",
       "19. (k, b)\n",
       "    core type: ExprTuple\n",
       "    sub-expressions: 24, 27\n",
       "20. (j, a)\n",
       "    core type: ExprTuple\n",
       "    sub-expressions: 32, 25\n",
       "21. (l, b)\n",
       "    core type: ExprTuple\n",
       "    sub-expressions: 26, 27\n",
       "22. j + 1\n",
       "    core type: Operation\n",
       "    operator: 28\n",
       "    operands: 29\n",
       "23. -i\n",
       "    core type: Operation\n",
       "    operator: 30\n",
       "    operand: 34\n",
       "24. k\n",
       "    core type: Variable\n",
       "    sub-expressions: \n",
       "25. a\n",
       "    core type: Variable\n",
       "    sub-expressions: \n",
       "26. l\n",
       "    core type: Variable\n",
       "    sub-expressions: \n",
       "27. b\n",
       "    core type: Variable\n",
       "    sub-expressions: \n",
       "28. +\n",
       "    core type: Literal\n",
       "    sub-expressions: \n",
       "29. (j, 1)\n",
       "    core type: ExprTuple\n",
       "    sub-expressions: 32, 33\n",
       "30. -\n",
       "    core type: Literal\n",
       "    sub-expressions: \n",
       "31. (i)\n",
       "    core type: ExprTuple\n",
       "    sub-expressions: 34\n",
       "32. j\n",
       "    core type: Variable\n",
       "    sub-expressions: \n",
       "33. 1\n",
       "    core type: Literal\n",
       "    sub-expressions: \n",
       "34. i\n",
       "    core type: Variable\n",
       "    sub-expressions: "
      ]
     },
     "metadata": {},
     "output_type": "display_data"
    }
   ],
   "source": [
    "# display the expression information\n",
    "stored_expr.expr_info()"
   ]
  },
  {
   "cell_type": "code",
   "execution_count": null,
   "metadata": {},
   "outputs": [],
   "source": []
  }
 ],
 "metadata": {
  "kernelspec": {
   "display_name": "Python 3",
   "language": "python",
   "name": "python3"
  }
 },
 "nbformat": 4,
 "nbformat_minor": 0
}