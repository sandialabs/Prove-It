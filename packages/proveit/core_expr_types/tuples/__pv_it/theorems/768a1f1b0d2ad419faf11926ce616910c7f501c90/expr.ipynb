{
 "cells": [
  {
   "cell_type": "markdown",
   "metadata": {},
   "source": [
    "Expression of type <a class=\"ProveItLink\" href=\"../../../../../../../doc/html/api/proveit.ExprTuple.html\">ExprTuple</a>\n",
    "=======================\n",
    "# from the theory of <a class=\"ProveItLink\" href=\"../../../_theory_nbs_/theory.ipynb\">proveit.core_expr_types.tuples</a>"
   ]
  },
  {
   "cell_type": "code",
   "execution_count": 1,
   "metadata": {},
   "outputs": [],
   "source": [
    "import proveit\n",
    "# Automation is not needed when building an expression:\n",
    "proveit.defaults.automation = False # This will speed things up.\n",
    "proveit.defaults.inline_pngs = False # Makes files smaller.\n",
    "%load_expr # Load the stored expression as 'stored_expr'\n",
    "# import Expression classes needed to build the expression\n",
    "from proveit import ExprTuple, Lambda, f, g, i, j, k\n",
    "from proveit.core_expr_types import f_i_to_j, fk, g_i_to_j, gk\n",
    "from proveit.logic import Equals, Forall, Implies\n",
    "from proveit.numbers import Integer, Interval"
   ]
  },
  {
   "cell_type": "code",
   "execution_count": 2,
   "metadata": {},
   "outputs": [
    {
     "data": {
      "text/html": [
       "<strong id=\"expr\">expr:</strong> <a class=\"ProveItLink\" href=\"expr.ipynb\"><img src=\"expr.png\" style=\"display:inline;vertical-align:middle;\" /></a><br>"
      ],
      "text/plain": [
       "<IPython.core.display.HTML object>"
      ]
     },
     "metadata": {},
     "output_type": "display_data"
    }
   ],
   "source": [
    "# build up the expression from sub-expressions\n",
    "expr = ExprTuple(Lambda([f, g], Forall(instance_param_or_params = [i, j], instance_expr = Implies(Forall(instance_param_or_params = [k], instance_expr = Equals(fk, gk), domain = Interval(i, j)), Equals([f_i_to_j], [g_i_to_j])), domain = Integer)))"
   ]
  },
  {
   "cell_type": "code",
   "execution_count": 3,
   "metadata": {},
   "outputs": [
    {
     "name": "stdout",
     "output_type": "stream",
     "text": [
      "Passed sanity check: expr matches stored_expr\n"
     ]
    }
   ],
   "source": [
    "# check that the built expression is the same as the stored expression\n",
    "assert expr == stored_expr\n",
    "assert expr._style_id == stored_expr._style_id\n",
    "print(\"Passed sanity check: expr matches stored_expr\")"
   ]
  },
  {
   "cell_type": "code",
   "execution_count": 4,
   "metadata": {},
   "outputs": [
    {
     "name": "stdout",
     "output_type": "stream",
     "text": [
      "\\left(\\left(f, g\\right) \\mapsto \\left[\\forall_{i, j \\in \\mathbb{Z}}~\\left(\\left[\\forall_{k \\in \\{i~\\ldotp \\ldotp~j\\}}~\\left(f\\left(k\\right) = g\\left(k\\right)\\right)\\right] \\Rightarrow \\left(\\left(f\\left(i\\right), f\\left(i + 1\\right), \\ldots, f\\left(j\\right)\\right) = \\left(g\\left(i\\right), g\\left(i + 1\\right), \\ldots, g\\left(j\\right)\\right)\\right)\\right)\\right]\\right)\n"
     ]
    }
   ],
   "source": [
    "# Show the LaTeX representation of the expression for convenience if you need it.\n",
    "print(stored_expr.latex())"
   ]
  },
  {
   "cell_type": "code",
   "execution_count": 5,
   "metadata": {},
   "outputs": [
    {
     "data": {
      "text/html": [
       "no style options"
      ],
      "text/plain": [
       "no style options"
      ]
     },
     "metadata": {},
     "output_type": "display_data"
    }
   ],
   "source": [
    "stored_expr.style_options()"
   ]
  },
  {
   "cell_type": "code",
   "execution_count": 6,
   "metadata": {},
   "outputs": [
    {
     "data": {
      "text/html": [
       "<table><tr><th>&nbsp;</th><th>core type</th><th>sub-expressions</th><th>expression</th></tr>\n",
       "<tr><td>0</td><td>ExprTuple</td><td>1</td><td><a class=\"ProveItLink\" href=\"expr.ipynb\"><img src=\"expr.png\" style=\"display:inline;vertical-align:middle;\" /></a></td></tr>\n",
       "<tr><td>1</td><td>Lambda</td><td>parameters:&nbsp;2<br>body:&nbsp;3<br></td><td><a class=\"ProveItLink\" href=\"../43e8850fd59c9b26e23b7f276858e82ce944bc210/expr.ipynb\"><img src=\"../43e8850fd59c9b26e23b7f276858e82ce944bc210/expr.png\" style=\"display:inline;vertical-align:middle;\" /></a></td></tr>\n",
       "<tr><td>2</td><td>ExprTuple</td><td>43, 44</td><td><a class=\"ProveItLink\" href=\"../2c954f158acc6105edefb51b37f61ee4473f2f420/expr.ipynb\"><img src=\"../2c954f158acc6105edefb51b37f61ee4473f2f420/expr.png\" style=\"display:inline;vertical-align:middle;\" /></a></td></tr>\n",
       "<tr><td>3</td><td>Operation</td><td>operator:&nbsp;17<br>operand:&nbsp;5<br></td><td><a class=\"ProveItLink\" href=\"../f7cc26d5457b8693e1820418a2bd3914ca7727930/expr.ipynb\"><img src=\"../f7cc26d5457b8693e1820418a2bd3914ca7727930/expr.png\" style=\"display:inline;vertical-align:middle;\" /></a></td></tr>\n",
       "<tr><td>4</td><td>ExprTuple</td><td>5</td><td><a class=\"ProveItLink\" href=\"../0def550a33fb39079fb8aef77869d49bda438fff0/expr.ipynb\"><img src=\"../0def550a33fb39079fb8aef77869d49bda438fff0/expr.png\" style=\"display:inline;vertical-align:middle;\" /></a></td></tr>\n",
       "<tr><td>5</td><td>Lambda</td><td>parameters:&nbsp;47<br>body:&nbsp;6<br></td><td><a class=\"ProveItLink\" href=\"../2b8df22e36faa3a385e2f6ac0b82fce2ecbe98650/expr.ipynb\"><img src=\"../2b8df22e36faa3a385e2f6ac0b82fce2ecbe98650/expr.png\" style=\"display:inline;vertical-align:middle;\" /></a></td></tr>\n",
       "<tr><td>6</td><td>Conditional</td><td>value:&nbsp;7<br>condition:&nbsp;8<br></td><td><a class=\"ProveItLink\" href=\"../92efbc2ed9798be5eb0707074ce6311e98829e020/expr.ipynb\"><img src=\"../92efbc2ed9798be5eb0707074ce6311e98829e020/expr.png\" style=\"display:inline;vertical-align:middle;\" /></a></td></tr>\n",
       "<tr><td>7</td><td>Operation</td><td>operator:&nbsp;9<br>operands:&nbsp;10<br></td><td><a class=\"ProveItLink\" href=\"../eb9792b58db9e58a75b93cf016b88ef13b12417b0/expr.ipynb\"><img src=\"../eb9792b58db9e58a75b93cf016b88ef13b12417b0/expr.png\" style=\"display:inline;vertical-align:middle;\" /></a></td></tr>\n",
       "<tr><td>8</td><td>Operation</td><td>operator:&nbsp;11<br>operands:&nbsp;12<br></td><td><a class=\"ProveItLink\" href=\"../bcd19e26cf58f6a25b016c8d6adf6c06dd510b200/expr.ipynb\"><img src=\"../bcd19e26cf58f6a25b016c8d6adf6c06dd510b200/expr.png\" style=\"display:inline;vertical-align:middle;\" /></a></td></tr>\n",
       "<tr><td>9</td><td>Literal</td><td></td><td><a class=\"ProveItLink\" href=\"../../../../../logic/booleans/implication/__pv_it/common/02bdb382575728da8cdbaed545b9096ea7a1bd5b0/expr.ipynb\"><img src=\"../../../../../logic/booleans/implication/__pv_it/common/02bdb382575728da8cdbaed545b9096ea7a1bd5b0/expr.png\" style=\"display:inline;vertical-align:middle;\" /></a></td></tr>\n",
       "<tr><td>10</td><td>ExprTuple</td><td>13, 14</td><td><a class=\"ProveItLink\" href=\"../6f9d418e7eaa90b5d139fbfe429f7d87134ad0700/expr.ipynb\"><img src=\"../6f9d418e7eaa90b5d139fbfe429f7d87134ad0700/expr.png\" style=\"display:inline;vertical-align:middle;\" /></a></td></tr>\n",
       "<tr><td>11</td><td>Literal</td><td></td><td><a class=\"ProveItLink\" href=\"../../../../../logic/booleans/conjunction/__pv_it/common/42118ff318bd65d98b1393f64ce7c2269feef76e0/expr.ipynb\"><img src=\"../../../../../logic/booleans/conjunction/__pv_it/common/42118ff318bd65d98b1393f64ce7c2269feef76e0/expr.png\" style=\"display:inline;vertical-align:middle;\" /></a></td></tr>\n",
       "<tr><td>12</td><td>ExprTuple</td><td>15, 16</td><td><a class=\"ProveItLink\" href=\"../09d9c932f9dd37874a35b55f296bbd5ff857e9540/expr.ipynb\"><img src=\"../09d9c932f9dd37874a35b55f296bbd5ff857e9540/expr.png\" style=\"display:inline;vertical-align:middle;\" /></a></td></tr>\n",
       "<tr><td>13</td><td>Operation</td><td>operator:&nbsp;17<br>operand:&nbsp;22<br></td><td><a class=\"ProveItLink\" href=\"../05e44edd57bdf7f60412467f0f9b33fd53e9824e0/expr.ipynb\"><img src=\"../05e44edd57bdf7f60412467f0f9b33fd53e9824e0/expr.png\" style=\"display:inline;vertical-align:middle;\" /></a></td></tr>\n",
       "<tr><td>14</td><td>Operation</td><td>operator:&nbsp;33<br>operands:&nbsp;19<br></td><td><a class=\"ProveItLink\" href=\"../17ff030e2a244d87f258dc46bb552a85535bebbb0/expr.ipynb\"><img src=\"../17ff030e2a244d87f258dc46bb552a85535bebbb0/expr.png\" style=\"display:inline;vertical-align:middle;\" /></a></td></tr>\n",
       "<tr><td>15</td><td>Operation</td><td>operator:&nbsp;35<br>operands:&nbsp;20<br></td><td><a class=\"ProveItLink\" href=\"../8c03a8ee27d4d8fa777368c3ee7b307fe25ee5270/expr.ipynb\"><img src=\"../8c03a8ee27d4d8fa777368c3ee7b307fe25ee5270/expr.png\" style=\"display:inline;vertical-align:middle;\" /></a></td></tr>\n",
       "<tr><td>16</td><td>Operation</td><td>operator:&nbsp;35<br>operands:&nbsp;21<br></td><td><a class=\"ProveItLink\" href=\"../3b73368031281d59ff93a70f2b4cba5069515ff80/expr.ipynb\"><img src=\"../3b73368031281d59ff93a70f2b4cba5069515ff80/expr.png\" style=\"display:inline;vertical-align:middle;\" /></a></td></tr>\n",
       "<tr><td>17</td><td>Literal</td><td></td><td><a class=\"ProveItLink\" href=\"../../../../../logic/booleans/quantification/universality/__pv_it/common/083d2baa0b8ecab1d230f9ec29a15aa1355809fb0/expr.ipynb\"><img src=\"../../../../../logic/booleans/quantification/universality/__pv_it/common/083d2baa0b8ecab1d230f9ec29a15aa1355809fb0/expr.png\" style=\"display:inline;vertical-align:middle;\" /></a></td></tr>\n",
       "<tr><td>18</td><td>ExprTuple</td><td>22</td><td><a class=\"ProveItLink\" href=\"../f6c8dddc176a6a661fb0542ef577a5c7e94cacf20/expr.ipynb\"><img src=\"../f6c8dddc176a6a661fb0542ef577a5c7e94cacf20/expr.png\" style=\"display:inline;vertical-align:middle;\" /></a></td></tr>\n",
       "<tr><td>19</td><td>ExprTuple</td><td>23, 24</td><td><a class=\"ProveItLink\" href=\"../335ee6b023ea52d06949ea18a61e47386f9f9e920/expr.ipynb\"><img src=\"../335ee6b023ea52d06949ea18a61e47386f9f9e920/expr.png\" style=\"display:inline;vertical-align:middle;\" /></a></td></tr>\n",
       "<tr><td>20</td><td>ExprTuple</td><td>50, 25</td><td><a class=\"ProveItLink\" href=\"../47ca95fbf770788a7539aec78740699ca1d4e6a90/expr.ipynb\"><img src=\"../47ca95fbf770788a7539aec78740699ca1d4e6a90/expr.png\" style=\"display:inline;vertical-align:middle;\" /></a></td></tr>\n",
       "<tr><td>21</td><td>ExprTuple</td><td>51, 25</td><td><a class=\"ProveItLink\" href=\"../b837e7b5b741e6b3bc2376025255553857d94ca30/expr.ipynb\"><img src=\"../b837e7b5b741e6b3bc2376025255553857d94ca30/expr.png\" style=\"display:inline;vertical-align:middle;\" /></a></td></tr>\n",
       "<tr><td>22</td><td>Lambda</td><td>parameter:&nbsp;49<br>body:&nbsp;26<br></td><td><a class=\"ProveItLink\" href=\"../ded398c5377fa888005fc210a2f83df24a3318670/expr.ipynb\"><img src=\"../ded398c5377fa888005fc210a2f83df24a3318670/expr.png\" style=\"display:inline;vertical-align:middle;\" /></a></td></tr>\n",
       "<tr><td>23</td><td>ExprTuple</td><td>27</td><td><a class=\"ProveItLink\" href=\"../../../../__pv_it/common/e7a80fc9143dea62333f7779cd60665a5fb841c70/expr.ipynb\"><img src=\"../../../../__pv_it/common/e7a80fc9143dea62333f7779cd60665a5fb841c70/expr.png\" style=\"display:inline;vertical-align:middle;\" /></a></td></tr>\n",
       "<tr><td>24</td><td>ExprTuple</td><td>28</td><td><a class=\"ProveItLink\" href=\"../0ad5abe844dcd5adcd1f65c3fa489ac4e623b57a0/expr.ipynb\"><img src=\"../0ad5abe844dcd5adcd1f65c3fa489ac4e623b57a0/expr.png\" style=\"display:inline;vertical-align:middle;\" /></a></td></tr>\n",
       "<tr><td>25</td><td>Literal</td><td></td><td><a class=\"ProveItLink\" href=\"../../../../../numbers/number_sets/integers/__pv_it/common/e6b4e90f9467053e055a4fd2f735c0bb79cb79300/expr.ipynb\"><img src=\"../../../../../numbers/number_sets/integers/__pv_it/common/e6b4e90f9467053e055a4fd2f735c0bb79cb79300/expr.png\" style=\"display:inline;vertical-align:middle;\" /></a></td></tr>\n",
       "<tr><td>26</td><td>Conditional</td><td>value:&nbsp;29<br>condition:&nbsp;30<br></td><td><a class=\"ProveItLink\" href=\"../4ce94e833d6a9bb870875877bf62edf5706d49250/expr.ipynb\"><img src=\"../4ce94e833d6a9bb870875877bf62edf5706d49250/expr.png\" style=\"display:inline;vertical-align:middle;\" /></a></td></tr>\n",
       "<tr><td>27</td><td>ExprRange</td><td>lambda_map:&nbsp;31<br>start_index:&nbsp;50<br>end_index:&nbsp;51<br></td><td><a class=\"ProveItLink\" href=\"../../../../__pv_it/common/253a5fe8886c2ac76e888f437ab1b15f51c1335e0/expr.ipynb\"><img src=\"../../../../__pv_it/common/253a5fe8886c2ac76e888f437ab1b15f51c1335e0/expr.png\" style=\"display:inline;vertical-align:middle;\" /></a></td></tr>\n",
       "<tr><td>28</td><td>ExprRange</td><td>lambda_map:&nbsp;32<br>start_index:&nbsp;50<br>end_index:&nbsp;51<br></td><td><a class=\"ProveItLink\" href=\"../../../../__pv_it/common/2798f098fbc26e5befa4096d30283d42cc47bdfb0/expr.ipynb\"><img src=\"../../../../__pv_it/common/2798f098fbc26e5befa4096d30283d42cc47bdfb0/expr.png\" style=\"display:inline;vertical-align:middle;\" /></a></td></tr>\n",
       "<tr><td>29</td><td>Operation</td><td>operator:&nbsp;33<br>operands:&nbsp;34<br></td><td><a class=\"ProveItLink\" href=\"../272734739075e8f8dc67edc722f7d1d54d13d6b50/expr.ipynb\"><img src=\"../272734739075e8f8dc67edc722f7d1d54d13d6b50/expr.png\" style=\"display:inline;vertical-align:middle;\" /></a></td></tr>\n",
       "<tr><td>30</td><td>Operation</td><td>operator:&nbsp;35<br>operands:&nbsp;36<br></td><td><a class=\"ProveItLink\" href=\"../72f2dfd27edf71e4e2f278f012a045f73dd3641b0/expr.ipynb\"><img src=\"../72f2dfd27edf71e4e2f278f012a045f73dd3641b0/expr.png\" style=\"display:inline;vertical-align:middle;\" /></a></td></tr>\n",
       "<tr><td>31</td><td>Lambda</td><td>parameter:&nbsp;48<br>body:&nbsp;37<br></td><td><a class=\"ProveItLink\" href=\"../../../../__pv_it/common/85a3534ef7cc0fae4ff216233b0408e0e4a3424b0/expr.ipynb\"><img src=\"../../../../__pv_it/common/85a3534ef7cc0fae4ff216233b0408e0e4a3424b0/expr.png\" style=\"display:inline;vertical-align:middle;\" /></a></td></tr>\n",
       "<tr><td>32</td><td>Lambda</td><td>parameter:&nbsp;48<br>body:&nbsp;38<br></td><td><a class=\"ProveItLink\" href=\"../../../../__pv_it/common/b2962d001893dddb7d608e5130a394f83d21f3040/expr.ipynb\"><img src=\"../../../../__pv_it/common/b2962d001893dddb7d608e5130a394f83d21f3040/expr.png\" style=\"display:inline;vertical-align:middle;\" /></a></td></tr>\n",
       "<tr><td>33</td><td>Literal</td><td></td><td><a class=\"ProveItLink\" href=\"../../../../../logic/equality/__pv_it/common/fb96dc12b2aa8801dda64d0132b396c63d1502bb0/expr.ipynb\"><img src=\"../../../../../logic/equality/__pv_it/common/fb96dc12b2aa8801dda64d0132b396c63d1502bb0/expr.png\" style=\"display:inline;vertical-align:middle;\" /></a></td></tr>\n",
       "<tr><td>34</td><td>ExprTuple</td><td>39, 40</td><td><a class=\"ProveItLink\" href=\"../c3250d7d37ac17560015e8143303561da29536720/expr.ipynb\"><img src=\"../c3250d7d37ac17560015e8143303561da29536720/expr.png\" style=\"display:inline;vertical-align:middle;\" /></a></td></tr>\n",
       "<tr><td>35</td><td>Literal</td><td></td><td><a class=\"ProveItLink\" href=\"../../../../../logic/sets/membership/__pv_it/common/477487d8796864d23d5810f83761435f25167f690/expr.ipynb\"><img src=\"../../../../../logic/sets/membership/__pv_it/common/477487d8796864d23d5810f83761435f25167f690/expr.png\" style=\"display:inline;vertical-align:middle;\" /></a></td></tr>\n",
       "<tr><td>36</td><td>ExprTuple</td><td>49, 41</td><td><a class=\"ProveItLink\" href=\"../006ff6cb90af30c5d0b2dea192bd0c2340639dfb0/expr.ipynb\"><img src=\"../006ff6cb90af30c5d0b2dea192bd0c2340639dfb0/expr.png\" style=\"display:inline;vertical-align:middle;\" /></a></td></tr>\n",
       "<tr><td>37</td><td>Operation</td><td>operator:&nbsp;43<br>operand:&nbsp;48<br></td><td><a class=\"ProveItLink\" href=\"../../../../__pv_it/common/1fec0eaf1cfb24a7fd0f169d6d2b28f8410bcd7c0/expr.ipynb\"><img src=\"../../../../__pv_it/common/1fec0eaf1cfb24a7fd0f169d6d2b28f8410bcd7c0/expr.png\" style=\"display:inline;vertical-align:middle;\" /></a></td></tr>\n",
       "<tr><td>38</td><td>Operation</td><td>operator:&nbsp;44<br>operand:&nbsp;48<br></td><td><a class=\"ProveItLink\" href=\"../../../../__pv_it/common/10c3579df5cfa64b89741cd3451618f867acc6240/expr.ipynb\"><img src=\"../../../../__pv_it/common/10c3579df5cfa64b89741cd3451618f867acc6240/expr.png\" style=\"display:inline;vertical-align:middle;\" /></a></td></tr>\n",
       "<tr><td>39</td><td>Operation</td><td>operator:&nbsp;43<br>operand:&nbsp;49<br></td><td><a class=\"ProveItLink\" href=\"../../../../__pv_it/common/3580ed132920d60bd6bc70c75976c142582909f50/expr.ipynb\"><img src=\"../../../../__pv_it/common/3580ed132920d60bd6bc70c75976c142582909f50/expr.png\" style=\"display:inline;vertical-align:middle;\" /></a></td></tr>\n",
       "<tr><td>40</td><td>Operation</td><td>operator:&nbsp;44<br>operand:&nbsp;49<br></td><td><a class=\"ProveItLink\" href=\"../../../../__pv_it/common/4b158327635277797044cacdb25b251b4d3a4b4e0/expr.ipynb\"><img src=\"../../../../__pv_it/common/4b158327635277797044cacdb25b251b4d3a4b4e0/expr.png\" style=\"display:inline;vertical-align:middle;\" /></a></td></tr>\n",
       "<tr><td>41</td><td>Operation</td><td>operator:&nbsp;46<br>operands:&nbsp;47<br></td><td><a class=\"ProveItLink\" href=\"../78852fa01c5bdf9c194bd9df7da88e9da104e2a70/expr.ipynb\"><img src=\"../78852fa01c5bdf9c194bd9df7da88e9da104e2a70/expr.png\" style=\"display:inline;vertical-align:middle;\" /></a></td></tr>\n",
       "<tr><td>42</td><td>ExprTuple</td><td>48</td><td><a class=\"ProveItLink\" href=\"../../../../__pv_it/common/4b0dd6be36d76552eda6a95d5b4a27f5a5b62f900/expr.ipynb\"><img src=\"../../../../__pv_it/common/4b0dd6be36d76552eda6a95d5b4a27f5a5b62f900/expr.png\" style=\"display:inline;vertical-align:middle;\" /></a></td></tr>\n",
       "<tr><td>43</td><td>Variable</td><td></td><td><a class=\"ProveItLink\" href=\"../../../../../__pv_it/common/01b6dbb444a31fc38af4c2379badef6c75b363710/expr.ipynb\"><img src=\"../../../../../__pv_it/common/01b6dbb444a31fc38af4c2379badef6c75b363710/expr.png\" style=\"display:inline;vertical-align:middle;\" /></a></td></tr>\n",
       "<tr><td>44</td><td>Variable</td><td></td><td><a class=\"ProveItLink\" href=\"../../../../../__pv_it/common/96ac097ea7ee432328a5e933062d0ef407701bf40/expr.ipynb\"><img src=\"../../../../../__pv_it/common/96ac097ea7ee432328a5e933062d0ef407701bf40/expr.png\" style=\"display:inline;vertical-align:middle;\" /></a></td></tr>\n",
       "<tr><td>45</td><td>ExprTuple</td><td>49</td><td><a class=\"ProveItLink\" href=\"../../../../../__pv_it/common/688b115fcd711144fb0bdcf2138b0bd26487dd890/expr.ipynb\"><img src=\"../../../../../__pv_it/common/688b115fcd711144fb0bdcf2138b0bd26487dd890/expr.png\" style=\"display:inline;vertical-align:middle;\" /></a></td></tr>\n",
       "<tr><td>46</td><td>Literal</td><td></td><td><a class=\"ProveItLink\" href=\"../../../../../numbers/number_sets/integers/__pv_it/common/92f3a0a77e3c3ea8e4a5c8674edadc54e4f57d550/expr.ipynb\"><img src=\"../../../../../numbers/number_sets/integers/__pv_it/common/92f3a0a77e3c3ea8e4a5c8674edadc54e4f57d550/expr.png\" style=\"display:inline;vertical-align:middle;\" /></a></td></tr>\n",
       "<tr><td>47</td><td>ExprTuple</td><td>50, 51</td><td><a class=\"ProveItLink\" href=\"../../../../__pv_it/common/fd5db4d3d282981293a7ef32c5ae50e0675f01460/expr.ipynb\"><img src=\"../../../../__pv_it/common/fd5db4d3d282981293a7ef32c5ae50e0675f01460/expr.png\" style=\"display:inline;vertical-align:middle;\" /></a></td></tr>\n",
       "<tr><td>48</td><td>Variable</td><td></td><td><a class=\"ProveItLink\" href=\"../../../../__pv_it/common/006c465e50948aa2b52285e2de47974f741255cc0/expr.ipynb\"><img src=\"../../../../__pv_it/common/006c465e50948aa2b52285e2de47974f741255cc0/expr.png\" style=\"display:inline;vertical-align:middle;\" /></a></td></tr>\n",
       "<tr><td>49</td><td>Variable</td><td></td><td><a class=\"ProveItLink\" href=\"../../../../../__pv_it/common/63b7c64bf9ec7a04ecc396c7a1670f3f12fb59490/expr.ipynb\"><img src=\"../../../../../__pv_it/common/63b7c64bf9ec7a04ecc396c7a1670f3f12fb59490/expr.png\" style=\"display:inline;vertical-align:middle;\" /></a></td></tr>\n",
       "<tr><td>50</td><td>Variable</td><td></td><td><a class=\"ProveItLink\" href=\"../../../../../__pv_it/common/ae955345c83abf786c3aff8681cd5465beae262d0/expr.ipynb\"><img src=\"../../../../../__pv_it/common/ae955345c83abf786c3aff8681cd5465beae262d0/expr.png\" style=\"display:inline;vertical-align:middle;\" /></a></td></tr>\n",
       "<tr><td>51</td><td>Variable</td><td></td><td><a class=\"ProveItLink\" href=\"../../../../../__pv_it/common/1ed21df18baca2f42b561a7ffbf30a2743d594650/expr.ipynb\"><img src=\"../../../../../__pv_it/common/1ed21df18baca2f42b561a7ffbf30a2743d594650/expr.png\" style=\"display:inline;vertical-align:middle;\" /></a></td></tr>\n",
       "</table>\n"
      ],
      "text/plain": [
       "0. ((f, g) -> [forall_{i, j in Integer} ([forall_{k in {i .. j}} (f(k) = g(k))] => ((f(i), f(i + 1), ..., f(j)) = (g(i), g(i + 1), ..., g(j))))])\n",
       "   core type: ExprTuple\n",
       "   sub-expressions: 1\n",
       "1. (f, g) -> [forall_{i, j in Integer} ([forall_{k in {i .. j}} (f(k) = g(k))] => ((f(i), f(i + 1), ..., f(j)) = (g(i), g(i + 1), ..., g(j))))]\n",
       "   core type: Lambda\n",
       "   parameters: 2\\n   body: 3\n",
       "2. (f, g)\n",
       "   core type: ExprTuple\n",
       "   sub-expressions: 43, 44\n",
       "3. forall_{i, j in Integer} ([forall_{k in {i .. j}} (f(k) = g(k))] => ((f(i), f(i + 1), ..., f(j)) = (g(i), g(i + 1), ..., g(j))))\n",
       "   core type: Operation\n",
       "   operator: 17\n",
       "   operand: 5\n",
       "4. ((i, j) -> {[forall_{k in {i .. j}} (f(k) = g(k))] => ((f(i), f(i + 1), ..., f(j)) = (g(i), g(i + 1), ..., g(j))) if i in Integer ,  j in Integer.)\n",
       "   core type: ExprTuple\n",
       "   sub-expressions: 5\n",
       "5. (i, j) -> {[forall_{k in {i .. j}} (f(k) = g(k))] => ((f(i), f(i + 1), ..., f(j)) = (g(i), g(i + 1), ..., g(j))) if i in Integer ,  j in Integer.\n",
       "   core type: Lambda\n",
       "   parameters: 47\\n   body: 6\n",
       "6. {[forall_{k in {i .. j}} (f(k) = g(k))] => ((f(i), f(i + 1), ..., f(j)) = (g(i), g(i + 1), ..., g(j))) if i in Integer ,  j in Integer.\n",
       "   core type: Conditional\n",
       "   value: 7\n",
       "   condition: 8\n",
       "7. [forall_{k in {i .. j}} (f(k) = g(k))] => ((f(i), f(i + 1), ..., f(j)) = (g(i), g(i + 1), ..., g(j)))\n",
       "   core type: Operation\n",
       "   operator: 9\n",
       "   operands: 10\n",
       "8. (i in Integer) and (j in Integer)\n",
       "   core type: Operation\n",
       "   operator: 11\n",
       "   operands: 12\n",
       "9. =>\n",
       "   core type: Literal\n",
       "   sub-expressions: \n",
       "10. (forall_{k in {i .. j}} (f(k) = g(k)), (f(i), f(i + 1), ..., f(j)) = (g(i), g(i + 1), ..., g(j)))\n",
       "    core type: ExprTuple\n",
       "    sub-expressions: 13, 14\n",
       "11. and\n",
       "    core type: Literal\n",
       "    sub-expressions: \n",
       "12. (i in Integer, j in Integer)\n",
       "    core type: ExprTuple\n",
       "    sub-expressions: 15, 16\n",
       "13. forall_{k in {i .. j}} (f(k) = g(k))\n",
       "    core type: Operation\n",
       "    operator: 17\n",
       "    operand: 22\n",
       "14. (f(i), f(i + 1), ..., f(j)) = (g(i), g(i + 1), ..., g(j))\n",
       "    core type: Operation\n",
       "    operator: 33\n",
       "    operands: 19\n",
       "15. i in Integer\n",
       "    core type: Operation\n",
       "    operator: 35\n",
       "    operands: 20\n",
       "16. j in Integer\n",
       "    core type: Operation\n",
       "    operator: 35\n",
       "    operands: 21\n",
       "17. forall\n",
       "    core type: Literal\n",
       "    sub-expressions: \n",
       "18. (k -> {f(k) = g(k) if k in {i .. j}.)\n",
       "    core type: ExprTuple\n",
       "    sub-expressions: 22\n",
       "19. ((f(i), f(i + 1), ..., f(j)), (g(i), g(i + 1), ..., g(j)))\n",
       "    core type: ExprTuple\n",
       "    sub-expressions: 23, 24\n",
       "20. (i, Integer)\n",
       "    core type: ExprTuple\n",
       "    sub-expressions: 50, 25\n",
       "21. (j, Integer)\n",
       "    core type: ExprTuple\n",
       "    sub-expressions: 51, 25\n",
       "22. k -> {f(k) = g(k) if k in {i .. j}.\n",
       "    core type: Lambda\n",
       "    parameter: 49\n",
       "    body: 26\n",
       "23. (f(i), f(i + 1), ..., f(j))\n",
       "    core type: ExprTuple\n",
       "    sub-expressions: 27\n",
       "24. (g(i), g(i + 1), ..., g(j))\n",
       "    core type: ExprTuple\n",
       "    sub-expressions: 28\n",
       "25. Integer\n",
       "    core type: Literal\n",
       "    sub-expressions: \n",
       "26. {f(k) = g(k) if k in {i .. j}.\n",
       "    core type: Conditional\n",
       "    value: 29\n",
       "    condition: 30\n",
       "27. f(i), f(i + 1), ..., f(j)\n",
       "    core type: ExprRange\n",
       "    lambda_map: 31\n",
       "    start_index: 50\n",
       "    end_index: 51\n",
       "28. g(i), g(i + 1), ..., g(j)\n",
       "    core type: ExprRange\n",
       "    lambda_map: 32\n",
       "    start_index: 50\n",
       "    end_index: 51\n",
       "29. f(k) = g(k)\n",
       "    core type: Operation\n",
       "    operator: 33\n",
       "    operands: 34\n",
       "30. k in {i .. j}\n",
       "    core type: Operation\n",
       "    operator: 35\n",
       "    operands: 36\n",
       "31. _a -> f(_a)\n",
       "    core type: Lambda\n",
       "    parameter: 48\n",
       "    body: 37\n",
       "32. _a -> g(_a)\n",
       "    core type: Lambda\n",
       "    parameter: 48\n",
       "    body: 38\n",
       "33. =\n",
       "    core type: Literal\n",
       "    sub-expressions: \n",
       "34. (f(k), g(k))\n",
       "    core type: ExprTuple\n",
       "    sub-expressions: 39, 40\n",
       "35. in\n",
       "    core type: Literal\n",
       "    sub-expressions: \n",
       "36. (k, {i .. j})\n",
       "    core type: ExprTuple\n",
       "    sub-expressions: 49, 41\n",
       "37. f(_a)\n",
       "    core type: Operation\n",
       "    operator: 43\n",
       "    operand: 48\n",
       "38. g(_a)\n",
       "    core type: Operation\n",
       "    operator: 44\n",
       "    operand: 48\n",
       "39. f(k)\n",
       "    core type: Operation\n",
       "    operator: 43\n",
       "    operand: 49\n",
       "40. g(k)\n",
       "    core type: Operation\n",
       "    operator: 44\n",
       "    operand: 49\n",
       "41. {i .. j}\n",
       "    core type: Operation\n",
       "    operator: 46\n",
       "    operands: 47\n",
       "42. (_a)\n",
       "    core type: ExprTuple\n",
       "    sub-expressions: 48\n",
       "43. f\n",
       "    core type: Variable\n",
       "    sub-expressions: \n",
       "44. g\n",
       "    core type: Variable\n",
       "    sub-expressions: \n",
       "45. (k)\n",
       "    core type: ExprTuple\n",
       "    sub-expressions: 49\n",
       "46. Interval\n",
       "    core type: Literal\n",
       "    sub-expressions: \n",
       "47. (i, j)\n",
       "    core type: ExprTuple\n",
       "    sub-expressions: 50, 51\n",
       "48. _a\n",
       "    core type: Variable\n",
       "    sub-expressions: \n",
       "49. k\n",
       "    core type: Variable\n",
       "    sub-expressions: \n",
       "50. i\n",
       "    core type: Variable\n",
       "    sub-expressions: \n",
       "51. j\n",
       "    core type: Variable\n",
       "    sub-expressions: "
      ]
     },
     "metadata": {},
     "output_type": "display_data"
    }
   ],
   "source": [
    "# display the expression information\n",
    "stored_expr.expr_info()"
   ]
  },
  {
   "cell_type": "code",
   "execution_count": null,
   "metadata": {},
   "outputs": [],
   "source": []
  }
 ],
 "metadata": {
  "kernelspec": {
   "display_name": "Python 3",
   "language": "python",
   "name": "python3"
  }
 },
 "nbformat": 4,
 "nbformat_minor": 0
}