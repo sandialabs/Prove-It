{
 "cells": [
  {
   "cell_type": "markdown",
   "metadata": {},
   "source": [
    "Expression of type <a class=\"ProveItLink\" href=\"../../../../../../../doc/html/api/proveit.logic.Forall.html\">Forall</a>\n",
    "=======================\n",
    "# from the theory of <a class=\"ProveItLink\" href=\"../../../_theory_nbs_/theory.ipynb\">proveit.core_expr_types.tuples</a>"
   ]
  },
  {
   "cell_type": "code",
   "execution_count": 1,
   "metadata": {},
   "outputs": [],
   "source": [
    "import proveit\n",
    "# Automation is not needed when building an expression:\n",
    "proveit.defaults.automation = False # This will speed things up.\n",
    "proveit.defaults.inline_pngs = False # Makes files smaller.\n",
    "%load_expr # Load the stored expression as 'stored_expr'\n",
    "# import Expression classes needed to build the expression\n",
    "from proveit import f, i, j, x\n",
    "from proveit.core_expr_types import Len, f_i_to_j, range_i_to_jp1\n",
    "from proveit.logic import Equals, Forall, InSet\n",
    "from proveit.numbers import Natural"
   ]
  },
  {
   "cell_type": "code",
   "execution_count": 2,
   "metadata": {},
   "outputs": [
    {
     "data": {
      "text/html": [
       "<strong id=\"expr\">expr:</strong> <a class=\"ProveItLink\" href=\"expr.ipynb\"><img src=\"expr.png\" style=\"display:inline;vertical-align:middle;\" /></a><br>"
      ],
      "text/plain": [
       "<IPython.core.display.HTML object>"
      ]
     },
     "metadata": {},
     "output_type": "display_data"
    }
   ],
   "source": [
    "# build up the expression from sub-expressions\n",
    "expr = Forall(instance_param_or_params = [f, x], instance_expr = Forall(instance_param_or_params = [i, j], instance_expr = Equals(Len(operands = [f_i_to_j, x]), Len(operands = [range_i_to_jp1])), condition = InSet(Len(operands = [f_i_to_j]), Natural)))"
   ]
  },
  {
   "cell_type": "code",
   "execution_count": 3,
   "metadata": {},
   "outputs": [
    {
     "name": "stdout",
     "output_type": "stream",
     "text": [
      "Passed sanity check: expr matches stored_expr\n"
     ]
    }
   ],
   "source": [
    "# check that the built expression is the same as the stored expression\n",
    "assert expr == stored_expr\n",
    "assert expr._style_id == stored_expr._style_id\n",
    "print(\"Passed sanity check: expr matches stored_expr\")"
   ]
  },
  {
   "cell_type": "code",
   "execution_count": 4,
   "metadata": {},
   "outputs": [
    {
     "name": "stdout",
     "output_type": "stream",
     "text": [
      "\\forall_{f, x}~\\left[\\forall_{i, j~|~|\\left(f\\left(i\\right), f\\left(i + 1\\right), \\ldots, f\\left(j\\right)\\right)| \\in \\mathbb{N}}~\\left(|\\left(f\\left(i\\right), f\\left(i + 1\\right), \\ldots, f\\left(j\\right), x\\right)| = |\\left(i, \\left(i + 1\\right), \\ldots, \\left(j + 1\\right)\\right)|\\right)\\right]\n"
     ]
    }
   ],
   "source": [
    "# Show the LaTeX representation of the expression for convenience if you need it.\n",
    "print(stored_expr.latex())"
   ]
  },
  {
   "cell_type": "code",
   "execution_count": 5,
   "metadata": {},
   "outputs": [
    {
     "data": {
      "text/html": [
       "<table>\n",
       "<tr><th>name</th><th>description</th><th>default</th><th>current value</th><th>related methods</th></tr><tr><td>with_wrapping</td><td>If 'True', wrap the Expression after the parameters</td><td>None</td><td>None/False</td><td>('with_wrapping',)</td></tr>\n",
       "<tr><td>condition_wrapping</td><td>Wrap 'before' or 'after' the condition (or None).</td><td>None</td><td>None/False</td><td>('with_wrap_after_condition', 'with_wrap_before_condition')</td></tr>\n",
       "<tr><td>wrap_params</td><td>If 'True', wraps every two parameters AND wraps the Expression after the parameters</td><td>None</td><td>None/False</td><td>('with_params',)</td></tr>\n",
       "<tr><td>justification</td><td>justify to the 'left', 'center', or 'right' in the array cells</td><td>center</td><td>center</td><td>('with_justification',)</td></tr>\n",
       "</table>\n"
      ],
      "text/plain": [
       "style name: with_wrapping\n",
       "description: If 'True', wrap the Expression after the parameters\n",
       "default: None\n",
       "current value: None/False\n",
       "related methods: ('with_wrapping',)\n",
       "style name: condition_wrapping\n",
       "description: Wrap 'before' or 'after' the condition (or None).\n",
       "default: None\n",
       "current value: None/False\n",
       "related methods: ('with_wrap_after_condition', 'with_wrap_before_condition')\n",
       "style name: wrap_params\n",
       "description: If 'True', wraps every two parameters AND wraps the Expression after the parameters\n",
       "default: None\n",
       "current value: None/False\n",
       "related methods: ('with_params',)\n",
       "style name: justification\n",
       "description: justify to the 'left', 'center', or 'right' in the array cells\n",
       "default: center\n",
       "current value: center\n",
       "related methods: ('with_justification',)"
      ]
     },
     "metadata": {},
     "output_type": "display_data"
    }
   ],
   "source": [
    "stored_expr.style_options()"
   ]
  },
  {
   "cell_type": "code",
   "execution_count": 6,
   "metadata": {},
   "outputs": [
    {
     "data": {
      "text/html": [
       "<table><tr><th>&nbsp;</th><th>core type</th><th>sub-expressions</th><th>expression</th></tr>\n",
       "<tr><td>0</td><td>Operation</td><td>operator:&nbsp;5<br>operand:&nbsp;2<br></td><td><a class=\"ProveItLink\" href=\"expr.ipynb\"><img src=\"expr.png\" style=\"display:inline;vertical-align:middle;\" /></a></td></tr>\n",
       "<tr><td>1</td><td>ExprTuple</td><td>2</td><td><a class=\"ProveItLink\" href=\"../7079e896196228402aa89334edf188134f87bc510/expr.ipynb\"><img src=\"../7079e896196228402aa89334edf188134f87bc510/expr.png\" style=\"display:inline;vertical-align:middle;\" /></a></td></tr>\n",
       "<tr><td>2</td><td>Lambda</td><td>parameters:&nbsp;3<br>body:&nbsp;4<br></td><td><a class=\"ProveItLink\" href=\"../77242a999c812834e2d44e18e7c29a5e74b0e5c70/expr.ipynb\"><img src=\"../77242a999c812834e2d44e18e7c29a5e74b0e5c70/expr.png\" style=\"display:inline;vertical-align:middle;\" /></a></td></tr>\n",
       "<tr><td>3</td><td>ExprTuple</td><td>36, 24</td><td><a class=\"ProveItLink\" href=\"../54fbdcb6a922c0c22e5f701094b23d09263d2d170/expr.ipynb\"><img src=\"../54fbdcb6a922c0c22e5f701094b23d09263d2d170/expr.png\" style=\"display:inline;vertical-align:middle;\" /></a></td></tr>\n",
       "<tr><td>4</td><td>Operation</td><td>operator:&nbsp;5<br>operand:&nbsp;7<br></td><td><a class=\"ProveItLink\" href=\"../91862eb53f30664683151e399b58d0e9e1dd2b320/expr.ipynb\"><img src=\"../91862eb53f30664683151e399b58d0e9e1dd2b320/expr.png\" style=\"display:inline;vertical-align:middle;\" /></a></td></tr>\n",
       "<tr><td>5</td><td>Literal</td><td></td><td><a class=\"ProveItLink\" href=\"../../../../../logic/booleans/quantification/universality/__pv_it/common/083d2baa0b8ecab1d230f9ec29a15aa1355809fb0/expr.ipynb\"><img src=\"../../../../../logic/booleans/quantification/universality/__pv_it/common/083d2baa0b8ecab1d230f9ec29a15aa1355809fb0/expr.png\" style=\"display:inline;vertical-align:middle;\" /></a></td></tr>\n",
       "<tr><td>6</td><td>ExprTuple</td><td>7</td><td><a class=\"ProveItLink\" href=\"../3c07baa0172df0399915833d2fdddc727a4371d60/expr.ipynb\"><img src=\"../3c07baa0172df0399915833d2fdddc727a4371d60/expr.png\" style=\"display:inline;vertical-align:middle;\" /></a></td></tr>\n",
       "<tr><td>7</td><td>Lambda</td><td>parameters:&nbsp;8<br>body:&nbsp;9<br></td><td><a class=\"ProveItLink\" href=\"../e1a93bf175baf250d8c674731b963f64c1adf6570/expr.ipynb\"><img src=\"../e1a93bf175baf250d8c674731b963f64c1adf6570/expr.png\" style=\"display:inline;vertical-align:middle;\" /></a></td></tr>\n",
       "<tr><td>8</td><td>ExprTuple</td><td>30, 34</td><td><a class=\"ProveItLink\" href=\"../../../../__pv_it/common/fd5db4d3d282981293a7ef32c5ae50e0675f01460/expr.ipynb\"><img src=\"../../../../__pv_it/common/fd5db4d3d282981293a7ef32c5ae50e0675f01460/expr.png\" style=\"display:inline;vertical-align:middle;\" /></a></td></tr>\n",
       "<tr><td>9</td><td>Conditional</td><td>value:&nbsp;10<br>condition:&nbsp;11<br></td><td><a class=\"ProveItLink\" href=\"../ad7a0e2ec875c2793414cddec9ea6a086eefb2ac0/expr.ipynb\"><img src=\"../ad7a0e2ec875c2793414cddec9ea6a086eefb2ac0/expr.png\" style=\"display:inline;vertical-align:middle;\" /></a></td></tr>\n",
       "<tr><td>10</td><td>Operation</td><td>operator:&nbsp;12<br>operands:&nbsp;13<br></td><td><a class=\"ProveItLink\" href=\"../71e41c57e3513f8192218ac429d5292f300f018e0/expr.ipynb\"><img src=\"../71e41c57e3513f8192218ac429d5292f300f018e0/expr.png\" style=\"display:inline;vertical-align:middle;\" /></a></td></tr>\n",
       "<tr><td>11</td><td>Operation</td><td>operator:&nbsp;14<br>operands:&nbsp;15<br></td><td><a class=\"ProveItLink\" href=\"../915328799f3b647b48311214cb1ffc6144f63c700/expr.ipynb\"><img src=\"../915328799f3b647b48311214cb1ffc6144f63c700/expr.png\" style=\"display:inline;vertical-align:middle;\" /></a></td></tr>\n",
       "<tr><td>12</td><td>Literal</td><td></td><td><a class=\"ProveItLink\" href=\"../../../../../logic/equality/__pv_it/common/fb96dc12b2aa8801dda64d0132b396c63d1502bb0/expr.ipynb\"><img src=\"../../../../../logic/equality/__pv_it/common/fb96dc12b2aa8801dda64d0132b396c63d1502bb0/expr.png\" style=\"display:inline;vertical-align:middle;\" /></a></td></tr>\n",
       "<tr><td>13</td><td>ExprTuple</td><td>16, 17</td><td><a class=\"ProveItLink\" href=\"../5fdaf7f73bdc32ef760a8cfd8467819935fdf4180/expr.ipynb\"><img src=\"../5fdaf7f73bdc32ef760a8cfd8467819935fdf4180/expr.png\" style=\"display:inline;vertical-align:middle;\" /></a></td></tr>\n",
       "<tr><td>14</td><td>Literal</td><td></td><td><a class=\"ProveItLink\" href=\"../../../../../logic/sets/membership/__pv_it/common/477487d8796864d23d5810f83761435f25167f690/expr.ipynb\"><img src=\"../../../../../logic/sets/membership/__pv_it/common/477487d8796864d23d5810f83761435f25167f690/expr.png\" style=\"display:inline;vertical-align:middle;\" /></a></td></tr>\n",
       "<tr><td>15</td><td>ExprTuple</td><td>18, 19</td><td><a class=\"ProveItLink\" href=\"../a126a10ed93b7ea4a4d4dd829681a4cda62a924a0/expr.ipynb\"><img src=\"../a126a10ed93b7ea4a4d4dd829681a4cda62a924a0/expr.png\" style=\"display:inline;vertical-align:middle;\" /></a></td></tr>\n",
       "<tr><td>16</td><td>Operation</td><td>operator:&nbsp;22<br>operands:&nbsp;20<br></td><td><a class=\"ProveItLink\" href=\"../613a6416e4dd4ce8425d8f3d415e069e6ff6666b0/expr.ipynb\"><img src=\"../613a6416e4dd4ce8425d8f3d415e069e6ff6666b0/expr.png\" style=\"display:inline;vertical-align:middle;\" /></a></td></tr>\n",
       "<tr><td>17</td><td>Operation</td><td>operator:&nbsp;22<br>operands:&nbsp;21<br></td><td><a class=\"ProveItLink\" href=\"../f26a58e86ed46d28dcf0b282219855eb1369a73c0/expr.ipynb\"><img src=\"../f26a58e86ed46d28dcf0b282219855eb1369a73c0/expr.png\" style=\"display:inline;vertical-align:middle;\" /></a></td></tr>\n",
       "<tr><td>18</td><td>Operation</td><td>operator:&nbsp;22<br>operands:&nbsp;23<br></td><td><a class=\"ProveItLink\" href=\"../42db0f51c89be7bc772377fe079e7f9dc481ea400/expr.ipynb\"><img src=\"../42db0f51c89be7bc772377fe079e7f9dc481ea400/expr.png\" style=\"display:inline;vertical-align:middle;\" /></a></td></tr>\n",
       "<tr><td>19</td><td>Literal</td><td></td><td><a class=\"ProveItLink\" href=\"../../../../../numbers/number_sets/natural_numbers/__pv_it/common/8b7c321957f52ed3b05b36af612eeae4fa4783bc0/expr.ipynb\"><img src=\"../../../../../numbers/number_sets/natural_numbers/__pv_it/common/8b7c321957f52ed3b05b36af612eeae4fa4783bc0/expr.png\" style=\"display:inline;vertical-align:middle;\" /></a></td></tr>\n",
       "<tr><td>20</td><td>ExprTuple</td><td>26, 24</td><td><a class=\"ProveItLink\" href=\"../15712fba15ccf155a26cd949f811e42e015506f80/expr.ipynb\"><img src=\"../15712fba15ccf155a26cd949f811e42e015506f80/expr.png\" style=\"display:inline;vertical-align:middle;\" /></a></td></tr>\n",
       "<tr><td>21</td><td>ExprTuple</td><td>25</td><td><a class=\"ProveItLink\" href=\"../dca01066733d57db85b3e280cdc77725caf27b970/expr.ipynb\"><img src=\"../dca01066733d57db85b3e280cdc77725caf27b970/expr.png\" style=\"display:inline;vertical-align:middle;\" /></a></td></tr>\n",
       "<tr><td>22</td><td>Literal</td><td></td><td><a class=\"ProveItLink\" href=\"../../common/43df765abf1294d8f1fd177863f57f08bf5ad0080/expr.ipynb\"><img src=\"../../common/43df765abf1294d8f1fd177863f57f08bf5ad0080/expr.png\" style=\"display:inline;vertical-align:middle;\" /></a></td></tr>\n",
       "<tr><td>23</td><td>ExprTuple</td><td>26</td><td><a class=\"ProveItLink\" href=\"../../../../__pv_it/common/e7a80fc9143dea62333f7779cd60665a5fb841c70/expr.ipynb\"><img src=\"../../../../__pv_it/common/e7a80fc9143dea62333f7779cd60665a5fb841c70/expr.png\" style=\"display:inline;vertical-align:middle;\" /></a></td></tr>\n",
       "<tr><td>24</td><td>Variable</td><td></td><td><a class=\"ProveItLink\" href=\"../../../../../__pv_it/common/a0d9d672aa5e272d907247690c152cc2c6daafb70/expr.ipynb\"><img src=\"../../../../../__pv_it/common/a0d9d672aa5e272d907247690c152cc2c6daafb70/expr.png\" style=\"display:inline;vertical-align:middle;\" /></a></td></tr>\n",
       "<tr><td>25</td><td>ExprRange</td><td>lambda_map:&nbsp;27<br>start_index:&nbsp;30<br>end_index:&nbsp;28<br></td><td><a class=\"ProveItLink\" href=\"../../../../__pv_it/common/b4380606ff0e00c5b4b5ca6b75a27ca68870028a0/expr.ipynb\"><img src=\"../../../../__pv_it/common/b4380606ff0e00c5b4b5ca6b75a27ca68870028a0/expr.png\" style=\"display:inline;vertical-align:middle;\" /></a></td></tr>\n",
       "<tr><td>26</td><td>ExprRange</td><td>lambda_map:&nbsp;29<br>start_index:&nbsp;30<br>end_index:&nbsp;34<br></td><td><a class=\"ProveItLink\" href=\"../../../../__pv_it/common/253a5fe8886c2ac76e888f437ab1b15f51c1335e0/expr.ipynb\"><img src=\"../../../../__pv_it/common/253a5fe8886c2ac76e888f437ab1b15f51c1335e0/expr.png\" style=\"display:inline;vertical-align:middle;\" /></a></td></tr>\n",
       "<tr><td>27</td><td>Lambda</td><td>parameter:&nbsp;38<br>body:&nbsp;38<br></td><td><a class=\"ProveItLink\" href=\"../../../../__pv_it/common/90e08240ada6ff34ada724205d9cb9b31f4aecbd0/expr.ipynb\"><img src=\"../../../../__pv_it/common/90e08240ada6ff34ada724205d9cb9b31f4aecbd0/expr.png\" style=\"display:inline;vertical-align:middle;\" /></a></td></tr>\n",
       "<tr><td>28</td><td>Operation</td><td>operator:&nbsp;31<br>operands:&nbsp;32<br></td><td><a class=\"ProveItLink\" href=\"../../../../__pv_it/common/d0273df65d133a1f8883b8a3a163ce78774ce88e0/expr.ipynb\"><img src=\"../../../../__pv_it/common/d0273df65d133a1f8883b8a3a163ce78774ce88e0/expr.png\" style=\"display:inline;vertical-align:middle;\" /></a></td></tr>\n",
       "<tr><td>29</td><td>Lambda</td><td>parameter:&nbsp;38<br>body:&nbsp;33<br></td><td><a class=\"ProveItLink\" href=\"../../../../__pv_it/common/85a3534ef7cc0fae4ff216233b0408e0e4a3424b0/expr.ipynb\"><img src=\"../../../../__pv_it/common/85a3534ef7cc0fae4ff216233b0408e0e4a3424b0/expr.png\" style=\"display:inline;vertical-align:middle;\" /></a></td></tr>\n",
       "<tr><td>30</td><td>Variable</td><td></td><td><a class=\"ProveItLink\" href=\"../../../../../__pv_it/common/ae955345c83abf786c3aff8681cd5465beae262d0/expr.ipynb\"><img src=\"../../../../../__pv_it/common/ae955345c83abf786c3aff8681cd5465beae262d0/expr.png\" style=\"display:inline;vertical-align:middle;\" /></a></td></tr>\n",
       "<tr><td>31</td><td>Literal</td><td></td><td><a class=\"ProveItLink\" href=\"../../../../../numbers/addition/__pv_it/common/4b7effaab3619a1c2c38fe2dee8601df8ec714590/expr.ipynb\"><img src=\"../../../../../numbers/addition/__pv_it/common/4b7effaab3619a1c2c38fe2dee8601df8ec714590/expr.png\" style=\"display:inline;vertical-align:middle;\" /></a></td></tr>\n",
       "<tr><td>32</td><td>ExprTuple</td><td>34, 35</td><td><a class=\"ProveItLink\" href=\"../../../../__pv_it/common/8b6ed1fad73893e4ad1245f0c4137f5451742f770/expr.ipynb\"><img src=\"../../../../__pv_it/common/8b6ed1fad73893e4ad1245f0c4137f5451742f770/expr.png\" style=\"display:inline;vertical-align:middle;\" /></a></td></tr>\n",
       "<tr><td>33</td><td>Operation</td><td>operator:&nbsp;36<br>operand:&nbsp;38<br></td><td><a class=\"ProveItLink\" href=\"../../../../__pv_it/common/1fec0eaf1cfb24a7fd0f169d6d2b28f8410bcd7c0/expr.ipynb\"><img src=\"../../../../__pv_it/common/1fec0eaf1cfb24a7fd0f169d6d2b28f8410bcd7c0/expr.png\" style=\"display:inline;vertical-align:middle;\" /></a></td></tr>\n",
       "<tr><td>34</td><td>Variable</td><td></td><td><a class=\"ProveItLink\" href=\"../../../../../__pv_it/common/1ed21df18baca2f42b561a7ffbf30a2743d594650/expr.ipynb\"><img src=\"../../../../../__pv_it/common/1ed21df18baca2f42b561a7ffbf30a2743d594650/expr.png\" style=\"display:inline;vertical-align:middle;\" /></a></td></tr>\n",
       "<tr><td>35</td><td>Literal</td><td></td><td><a class=\"ProveItLink\" href=\"../../../../../numbers/numerals/__pv_it/common/682157d4892d216d9e5626ed533aff9b56b9506e0/expr.ipynb\"><img src=\"../../../../../numbers/numerals/__pv_it/common/682157d4892d216d9e5626ed533aff9b56b9506e0/expr.png\" style=\"display:inline;vertical-align:middle;\" /></a></td></tr>\n",
       "<tr><td>36</td><td>Variable</td><td></td><td><a class=\"ProveItLink\" href=\"../../../../../__pv_it/common/01b6dbb444a31fc38af4c2379badef6c75b363710/expr.ipynb\"><img src=\"../../../../../__pv_it/common/01b6dbb444a31fc38af4c2379badef6c75b363710/expr.png\" style=\"display:inline;vertical-align:middle;\" /></a></td></tr>\n",
       "<tr><td>37</td><td>ExprTuple</td><td>38</td><td><a class=\"ProveItLink\" href=\"../../../../__pv_it/common/4b0dd6be36d76552eda6a95d5b4a27f5a5b62f900/expr.ipynb\"><img src=\"../../../../__pv_it/common/4b0dd6be36d76552eda6a95d5b4a27f5a5b62f900/expr.png\" style=\"display:inline;vertical-align:middle;\" /></a></td></tr>\n",
       "<tr><td>38</td><td>Variable</td><td></td><td><a class=\"ProveItLink\" href=\"../../../../__pv_it/common/006c465e50948aa2b52285e2de47974f741255cc0/expr.ipynb\"><img src=\"../../../../__pv_it/common/006c465e50948aa2b52285e2de47974f741255cc0/expr.png\" style=\"display:inline;vertical-align:middle;\" /></a></td></tr>\n",
       "</table>\n"
      ],
      "text/plain": [
       "0. forall_{f, x} [forall_{i, j | |(f(i), f(i + 1), ..., f(j))| in Natural} (|(f(i), f(i + 1), ..., f(j), x)| = |(i, (i + 1), ..., (j + 1))|)]\n",
       "   core type: Operation\n",
       "   operator: 5\n",
       "   operand: 2\n",
       "1. ((f, x) -> [forall_{i, j | |(f(i), f(i + 1), ..., f(j))| in Natural} (|(f(i), f(i + 1), ..., f(j), x)| = |(i, (i + 1), ..., (j + 1))|)])\n",
       "   core type: ExprTuple\n",
       "   sub-expressions: 2\n",
       "2. (f, x) -> [forall_{i, j | |(f(i), f(i + 1), ..., f(j))| in Natural} (|(f(i), f(i + 1), ..., f(j), x)| = |(i, (i + 1), ..., (j + 1))|)]\n",
       "   core type: Lambda\n",
       "   parameters: 3\\n   body: 4\n",
       "3. (f, x)\n",
       "   core type: ExprTuple\n",
       "   sub-expressions: 36, 24\n",
       "4. forall_{i, j | |(f(i), f(i + 1), ..., f(j))| in Natural} (|(f(i), f(i + 1), ..., f(j), x)| = |(i, (i + 1), ..., (j + 1))|)\n",
       "   core type: Operation\n",
       "   operator: 5\n",
       "   operand: 7\n",
       "5. forall\n",
       "   core type: Literal\n",
       "   sub-expressions: \n",
       "6. ((i, j) -> {|(f(i), f(i + 1), ..., f(j), x)| = |(i, (i + 1), ..., (j + 1))| if |(f(i), f(i + 1), ..., f(j))| in Natural.)\n",
       "   core type: ExprTuple\n",
       "   sub-expressions: 7\n",
       "7. (i, j) -> {|(f(i), f(i + 1), ..., f(j), x)| = |(i, (i + 1), ..., (j + 1))| if |(f(i), f(i + 1), ..., f(j))| in Natural.\n",
       "   core type: Lambda\n",
       "   parameters: 8\\n   body: 9\n",
       "8. (i, j)\n",
       "   core type: ExprTuple\n",
       "   sub-expressions: 30, 34\n",
       "9. {|(f(i), f(i + 1), ..., f(j), x)| = |(i, (i + 1), ..., (j + 1))| if |(f(i), f(i + 1), ..., f(j))| in Natural.\n",
       "   core type: Conditional\n",
       "   value: 10\n",
       "   condition: 11\n",
       "10. |(f(i), f(i + 1), ..., f(j), x)| = |(i, (i + 1), ..., (j + 1))|\n",
       "    core type: Operation\n",
       "    operator: 12\n",
       "    operands: 13\n",
       "11. |(f(i), f(i + 1), ..., f(j))| in Natural\n",
       "    core type: Operation\n",
       "    operator: 14\n",
       "    operands: 15\n",
       "12. =\n",
       "    core type: Literal\n",
       "    sub-expressions: \n",
       "13. (|(f(i), f(i + 1), ..., f(j), x)|, |(i, (i + 1), ..., (j + 1))|)\n",
       "    core type: ExprTuple\n",
       "    sub-expressions: 16, 17\n",
       "14. in\n",
       "    core type: Literal\n",
       "    sub-expressions: \n",
       "15. (|(f(i), f(i + 1), ..., f(j))|, Natural)\n",
       "    core type: ExprTuple\n",
       "    sub-expressions: 18, 19\n",
       "16. |(f(i), f(i + 1), ..., f(j), x)|\n",
       "    core type: Operation\n",
       "    operator: 22\n",
       "    operands: 20\n",
       "17. |(i, (i + 1), ..., (j + 1))|\n",
       "    core type: Operation\n",
       "    operator: 22\n",
       "    operands: 21\n",
       "18. |(f(i), f(i + 1), ..., f(j))|\n",
       "    core type: Operation\n",
       "    operator: 22\n",
       "    operands: 23\n",
       "19. Natural\n",
       "    core type: Literal\n",
       "    sub-expressions: \n",
       "20. (f(i), f(i + 1), ..., f(j), x)\n",
       "    core type: ExprTuple\n",
       "    sub-expressions: 26, 24\n",
       "21. (i, (i + 1), ..., (j + 1))\n",
       "    core type: ExprTuple\n",
       "    sub-expressions: 25\n",
       "22. length\n",
       "    core type: Literal\n",
       "    sub-expressions: \n",
       "23. (f(i), f(i + 1), ..., f(j))\n",
       "    core type: ExprTuple\n",
       "    sub-expressions: 26\n",
       "24. x\n",
       "    core type: Variable\n",
       "    sub-expressions: \n",
       "25. i, (i + 1), ..., (j + 1)\n",
       "    core type: ExprRange\n",
       "    lambda_map: 27\n",
       "    start_index: 30\n",
       "    end_index: 28\n",
       "26. f(i), f(i + 1), ..., f(j)\n",
       "    core type: ExprRange\n",
       "    lambda_map: 29\n",
       "    start_index: 30\n",
       "    end_index: 34\n",
       "27. _a -> _a\n",
       "    core type: Lambda\n",
       "    parameter: 38\n",
       "    body: 38\n",
       "28. j + 1\n",
       "    core type: Operation\n",
       "    operator: 31\n",
       "    operands: 32\n",
       "29. _a -> f(_a)\n",
       "    core type: Lambda\n",
       "    parameter: 38\n",
       "    body: 33\n",
       "30. i\n",
       "    core type: Variable\n",
       "    sub-expressions: \n",
       "31. +\n",
       "    core type: Literal\n",
       "    sub-expressions: \n",
       "32. (j, 1)\n",
       "    core type: ExprTuple\n",
       "    sub-expressions: 34, 35\n",
       "33. f(_a)\n",
       "    core type: Operation\n",
       "    operator: 36\n",
       "    operand: 38\n",
       "34. j\n",
       "    core type: Variable\n",
       "    sub-expressions: \n",
       "35. 1\n",
       "    core type: Literal\n",
       "    sub-expressions: \n",
       "36. f\n",
       "    core type: Variable\n",
       "    sub-expressions: \n",
       "37. (_a)\n",
       "    core type: ExprTuple\n",
       "    sub-expressions: 38\n",
       "38. _a\n",
       "    core type: Variable\n",
       "    sub-expressions: "
      ]
     },
     "metadata": {},
     "output_type": "display_data"
    }
   ],
   "source": [
    "# display the expression information\n",
    "stored_expr.expr_info()"
   ]
  },
  {
   "cell_type": "code",
   "execution_count": null,
   "metadata": {},
   "outputs": [],
   "source": []
  }
 ],
 "metadata": {
  "kernelspec": {
   "display_name": "Python 3",
   "language": "python",
   "name": "python3"
  }
 },
 "nbformat": 4,
 "nbformat_minor": 0
}