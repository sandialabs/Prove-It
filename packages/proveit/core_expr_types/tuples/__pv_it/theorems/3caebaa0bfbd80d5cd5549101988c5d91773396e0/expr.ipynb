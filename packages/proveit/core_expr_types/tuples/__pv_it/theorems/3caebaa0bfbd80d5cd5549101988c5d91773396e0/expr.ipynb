{
 "cells": [
  {
   "cell_type": "markdown",
   "metadata": {},
   "source": [
    "Expression of type <a class=\"ProveItLink\" href=\"../../../../../../../doc/html/api/proveit.ExprTuple.html\">ExprTuple</a>\n",
    "=======================\n",
    "# from the theory of <a class=\"ProveItLink\" href=\"../../../_theory_nbs_/theory.ipynb\">proveit.core_expr_types.tuples</a>"
   ]
  },
  {
   "cell_type": "code",
   "execution_count": 1,
   "metadata": {},
   "outputs": [],
   "source": [
    "import proveit\n",
    "# Automation is not needed when building an expression:\n",
    "proveit.defaults.automation = False # This will speed things up.\n",
    "proveit.defaults.inline_pngs = False # Makes files smaller.\n",
    "%load_expr # Load the stored expression as 'stored_expr'\n",
    "# import Expression classes needed to build the expression\n",
    "from proveit import Conditional, ExprTuple, Lambda, f, i, j\n",
    "from proveit.core_expr_types import Len, f_i_to_j, i_to_j_len, range_i_to_j\n",
    "from proveit.logic import Equals, InSet\n",
    "from proveit.numbers import Natural"
   ]
  },
  {
   "cell_type": "code",
   "execution_count": 2,
   "metadata": {},
   "outputs": [
    {
     "data": {
      "text/html": [
       "<strong id=\"expr\">expr:</strong> <a class=\"ProveItLink\" href=\"expr.ipynb\"><img src=\"expr.png\" style=\"display:inline;vertical-align:middle;\" /></a><br>"
      ],
      "text/plain": [
       "<IPython.core.display.HTML object>"
      ]
     },
     "metadata": {},
     "output_type": "display_data"
    }
   ],
   "source": [
    "# build up the expression from sub-expressions\n",
    "expr = ExprTuple(Lambda([f, i, j], Conditional(Equals(Len(operands = [f_i_to_j]), Len(operands = [range_i_to_j])), InSet(i_to_j_len, Natural))))"
   ]
  },
  {
   "cell_type": "code",
   "execution_count": 3,
   "metadata": {},
   "outputs": [
    {
     "name": "stdout",
     "output_type": "stream",
     "text": [
      "Passed sanity check: expr matches stored_expr\n"
     ]
    }
   ],
   "source": [
    "# check that the built expression is the same as the stored expression\n",
    "assert expr == stored_expr\n",
    "assert expr._style_id == stored_expr._style_id\n",
    "print(\"Passed sanity check: expr matches stored_expr\")"
   ]
  },
  {
   "cell_type": "code",
   "execution_count": 4,
   "metadata": {},
   "outputs": [
    {
     "name": "stdout",
     "output_type": "stream",
     "text": [
      "\\left(\\left(f, i, j\\right) \\mapsto \\left\\{|\\left(f\\left(i\\right), f\\left(i + 1\\right), \\ldots, f\\left(j\\right)\\right)| = |\\left(i, \\left(i + 1\\right), \\ldots, j\\right)| \\textrm{ if } \\left(j - i + 1\\right) \\in \\mathbb{N}\\right..\\right)\n"
     ]
    }
   ],
   "source": [
    "# Show the LaTeX representation of the expression for convenience if you need it.\n",
    "print(stored_expr.latex())"
   ]
  },
  {
   "cell_type": "code",
   "execution_count": 5,
   "metadata": {},
   "outputs": [
    {
     "data": {
      "text/html": [
       "no style options"
      ],
      "text/plain": [
       "no style options"
      ]
     },
     "metadata": {},
     "output_type": "display_data"
    }
   ],
   "source": [
    "stored_expr.style_options()"
   ]
  },
  {
   "cell_type": "code",
   "execution_count": 6,
   "metadata": {},
   "outputs": [
    {
     "data": {
      "text/html": [
       "<table><tr><th>&nbsp;</th><th>core type</th><th>sub-expressions</th><th>expression</th></tr>\n",
       "<tr><td>0</td><td>ExprTuple</td><td>1</td><td><a class=\"ProveItLink\" href=\"expr.ipynb\"><img src=\"expr.png\" style=\"display:inline;vertical-align:middle;\" /></a></td></tr>\n",
       "<tr><td>1</td><td>Lambda</td><td>parameters:&nbsp;2<br>body:&nbsp;3<br></td><td><a class=\"ProveItLink\" href=\"../d2434dc2e456fac7bdcdb18c3ae0a7fd5a56a82e0/expr.ipynb\"><img src=\"../d2434dc2e456fac7bdcdb18c3ae0a7fd5a56a82e0/expr.png\" style=\"display:inline;vertical-align:middle;\" /></a></td></tr>\n",
       "<tr><td>2</td><td>ExprTuple</td><td>30, 29, 25</td><td><a class=\"ProveItLink\" href=\"../47e05f250511e609cc5f2936430313a40ef8fe410/expr.ipynb\"><img src=\"../47e05f250511e609cc5f2936430313a40ef8fe410/expr.png\" style=\"display:inline;vertical-align:middle;\" /></a></td></tr>\n",
       "<tr><td>3</td><td>Conditional</td><td>value:&nbsp;4<br>condition:&nbsp;5<br></td><td><a class=\"ProveItLink\" href=\"../2321506c061763700f4c60236a3d6f647fd99b4c0/expr.ipynb\"><img src=\"../2321506c061763700f4c60236a3d6f647fd99b4c0/expr.png\" style=\"display:inline;vertical-align:middle;\" /></a></td></tr>\n",
       "<tr><td>4</td><td>Operation</td><td>operator:&nbsp;6<br>operands:&nbsp;7<br></td><td><a class=\"ProveItLink\" href=\"../17767771b2672105fc7957ce3d972431accd41970/expr.ipynb\"><img src=\"../17767771b2672105fc7957ce3d972431accd41970/expr.png\" style=\"display:inline;vertical-align:middle;\" /></a></td></tr>\n",
       "<tr><td>5</td><td>Operation</td><td>operator:&nbsp;8<br>operands:&nbsp;9<br></td><td><a class=\"ProveItLink\" href=\"../0416a1b210810ad0dc1b92b729f6f0c5dca980ff0/expr.ipynb\"><img src=\"../0416a1b210810ad0dc1b92b729f6f0c5dca980ff0/expr.png\" style=\"display:inline;vertical-align:middle;\" /></a></td></tr>\n",
       "<tr><td>6</td><td>Literal</td><td></td><td><a class=\"ProveItLink\" href=\"../../../../../logic/equality/__pv_it/common/fb96dc12b2aa8801dda64d0132b396c63d1502bb0/expr.ipynb\"><img src=\"../../../../../logic/equality/__pv_it/common/fb96dc12b2aa8801dda64d0132b396c63d1502bb0/expr.png\" style=\"display:inline;vertical-align:middle;\" /></a></td></tr>\n",
       "<tr><td>7</td><td>ExprTuple</td><td>10, 11</td><td><a class=\"ProveItLink\" href=\"../5fb824e905aeef5e3874cf561bc15ebdd54200910/expr.ipynb\"><img src=\"../5fb824e905aeef5e3874cf561bc15ebdd54200910/expr.png\" style=\"display:inline;vertical-align:middle;\" /></a></td></tr>\n",
       "<tr><td>8</td><td>Literal</td><td></td><td><a class=\"ProveItLink\" href=\"../../../../../logic/sets/membership/__pv_it/common/477487d8796864d23d5810f83761435f25167f690/expr.ipynb\"><img src=\"../../../../../logic/sets/membership/__pv_it/common/477487d8796864d23d5810f83761435f25167f690/expr.png\" style=\"display:inline;vertical-align:middle;\" /></a></td></tr>\n",
       "<tr><td>9</td><td>ExprTuple</td><td>12, 13</td><td><a class=\"ProveItLink\" href=\"../e34263ce39eaf223c46243183b84c34f286270840/expr.ipynb\"><img src=\"../e34263ce39eaf223c46243183b84c34f286270840/expr.png\" style=\"display:inline;vertical-align:middle;\" /></a></td></tr>\n",
       "<tr><td>10</td><td>Operation</td><td>operator:&nbsp;15<br>operands:&nbsp;14<br></td><td><a class=\"ProveItLink\" href=\"../42db0f51c89be7bc772377fe079e7f9dc481ea400/expr.ipynb\"><img src=\"../42db0f51c89be7bc772377fe079e7f9dc481ea400/expr.png\" style=\"display:inline;vertical-align:middle;\" /></a></td></tr>\n",
       "<tr><td>11</td><td>Operation</td><td>operator:&nbsp;15<br>operands:&nbsp;16<br></td><td><a class=\"ProveItLink\" href=\"../81b951c46d6f360d41c666d4639a654db8ae29560/expr.ipynb\"><img src=\"../81b951c46d6f360d41c666d4639a654db8ae29560/expr.png\" style=\"display:inline;vertical-align:middle;\" /></a></td></tr>\n",
       "<tr><td>12</td><td>Operation</td><td>operator:&nbsp;17<br>operands:&nbsp;18<br></td><td><a class=\"ProveItLink\" href=\"../../../../__pv_it/common/e20dc1a4e2bdb53debb76c564b074a43b60103970/expr.ipynb\"><img src=\"../../../../__pv_it/common/e20dc1a4e2bdb53debb76c564b074a43b60103970/expr.png\" style=\"display:inline;vertical-align:middle;\" /></a></td></tr>\n",
       "<tr><td>13</td><td>Literal</td><td></td><td><a class=\"ProveItLink\" href=\"../../../../../numbers/number_sets/natural_numbers/__pv_it/common/8b7c321957f52ed3b05b36af612eeae4fa4783bc0/expr.ipynb\"><img src=\"../../../../../numbers/number_sets/natural_numbers/__pv_it/common/8b7c321957f52ed3b05b36af612eeae4fa4783bc0/expr.png\" style=\"display:inline;vertical-align:middle;\" /></a></td></tr>\n",
       "<tr><td>14</td><td>ExprTuple</td><td>19</td><td><a class=\"ProveItLink\" href=\"../../../../__pv_it/common/e7a80fc9143dea62333f7779cd60665a5fb841c70/expr.ipynb\"><img src=\"../../../../__pv_it/common/e7a80fc9143dea62333f7779cd60665a5fb841c70/expr.png\" style=\"display:inline;vertical-align:middle;\" /></a></td></tr>\n",
       "<tr><td>15</td><td>Literal</td><td></td><td><a class=\"ProveItLink\" href=\"../../common/43df765abf1294d8f1fd177863f57f08bf5ad0080/expr.ipynb\"><img src=\"../../common/43df765abf1294d8f1fd177863f57f08bf5ad0080/expr.png\" style=\"display:inline;vertical-align:middle;\" /></a></td></tr>\n",
       "<tr><td>16</td><td>ExprTuple</td><td>20</td><td><a class=\"ProveItLink\" href=\"../b0355549f1caa6d4a2119ed2cb4b79d7c745fdee0/expr.ipynb\"><img src=\"../b0355549f1caa6d4a2119ed2cb4b79d7c745fdee0/expr.png\" style=\"display:inline;vertical-align:middle;\" /></a></td></tr>\n",
       "<tr><td>17</td><td>Literal</td><td></td><td><a class=\"ProveItLink\" href=\"../../../../../numbers/addition/__pv_it/common/4b7effaab3619a1c2c38fe2dee8601df8ec714590/expr.ipynb\"><img src=\"../../../../../numbers/addition/__pv_it/common/4b7effaab3619a1c2c38fe2dee8601df8ec714590/expr.png\" style=\"display:inline;vertical-align:middle;\" /></a></td></tr>\n",
       "<tr><td>18</td><td>ExprTuple</td><td>25, 21, 22</td><td><a class=\"ProveItLink\" href=\"../../../../__pv_it/common/6061f0b394c6ed4691f293648f7c8587f65eb3d50/expr.ipynb\"><img src=\"../../../../__pv_it/common/6061f0b394c6ed4691f293648f7c8587f65eb3d50/expr.png\" style=\"display:inline;vertical-align:middle;\" /></a></td></tr>\n",
       "<tr><td>19</td><td>ExprRange</td><td>lambda_map:&nbsp;23<br>start_index:&nbsp;29<br>end_index:&nbsp;25<br></td><td><a class=\"ProveItLink\" href=\"../../../../__pv_it/common/253a5fe8886c2ac76e888f437ab1b15f51c1335e0/expr.ipynb\"><img src=\"../../../../__pv_it/common/253a5fe8886c2ac76e888f437ab1b15f51c1335e0/expr.png\" style=\"display:inline;vertical-align:middle;\" /></a></td></tr>\n",
       "<tr><td>20</td><td>ExprRange</td><td>lambda_map:&nbsp;24<br>start_index:&nbsp;29<br>end_index:&nbsp;25<br></td><td><a class=\"ProveItLink\" href=\"../../../../__pv_it/common/63eed09e6f2e98b25ec5b4e7089e2dc2dbc004740/expr.ipynb\"><img src=\"../../../../__pv_it/common/63eed09e6f2e98b25ec5b4e7089e2dc2dbc004740/expr.png\" style=\"display:inline;vertical-align:middle;\" /></a></td></tr>\n",
       "<tr><td>21</td><td>Operation</td><td>operator:&nbsp;26<br>operand:&nbsp;29<br></td><td><a class=\"ProveItLink\" href=\"../../../../__pv_it/common/8c734d503ad1059c44c9f2e4827f47823ef862820/expr.ipynb\"><img src=\"../../../../__pv_it/common/8c734d503ad1059c44c9f2e4827f47823ef862820/expr.png\" style=\"display:inline;vertical-align:middle;\" /></a></td></tr>\n",
       "<tr><td>22</td><td>Literal</td><td></td><td><a class=\"ProveItLink\" href=\"../../../../../numbers/numerals/__pv_it/common/682157d4892d216d9e5626ed533aff9b56b9506e0/expr.ipynb\"><img src=\"../../../../../numbers/numerals/__pv_it/common/682157d4892d216d9e5626ed533aff9b56b9506e0/expr.png\" style=\"display:inline;vertical-align:middle;\" /></a></td></tr>\n",
       "<tr><td>23</td><td>Lambda</td><td>parameter:&nbsp;32<br>body:&nbsp;28<br></td><td><a class=\"ProveItLink\" href=\"../../../../__pv_it/common/85a3534ef7cc0fae4ff216233b0408e0e4a3424b0/expr.ipynb\"><img src=\"../../../../__pv_it/common/85a3534ef7cc0fae4ff216233b0408e0e4a3424b0/expr.png\" style=\"display:inline;vertical-align:middle;\" /></a></td></tr>\n",
       "<tr><td>24</td><td>Lambda</td><td>parameter:&nbsp;32<br>body:&nbsp;32<br></td><td><a class=\"ProveItLink\" href=\"../../../../__pv_it/common/90e08240ada6ff34ada724205d9cb9b31f4aecbd0/expr.ipynb\"><img src=\"../../../../__pv_it/common/90e08240ada6ff34ada724205d9cb9b31f4aecbd0/expr.png\" style=\"display:inline;vertical-align:middle;\" /></a></td></tr>\n",
       "<tr><td>25</td><td>Variable</td><td></td><td><a class=\"ProveItLink\" href=\"../../../../../__pv_it/common/1ed21df18baca2f42b561a7ffbf30a2743d594650/expr.ipynb\"><img src=\"../../../../../__pv_it/common/1ed21df18baca2f42b561a7ffbf30a2743d594650/expr.png\" style=\"display:inline;vertical-align:middle;\" /></a></td></tr>\n",
       "<tr><td>26</td><td>Literal</td><td></td><td><a class=\"ProveItLink\" href=\"../../../../../numbers/negation/__pv_it/common/221b3c4d1770ee9051b7c044c3f9ec61196fc34b0/expr.ipynb\"><img src=\"../../../../../numbers/negation/__pv_it/common/221b3c4d1770ee9051b7c044c3f9ec61196fc34b0/expr.png\" style=\"display:inline;vertical-align:middle;\" /></a></td></tr>\n",
       "<tr><td>27</td><td>ExprTuple</td><td>29</td><td><a class=\"ProveItLink\" href=\"../../../../__pv_it/common/0fc33550aa9740010879fdf30c320b63ba918eff0/expr.ipynb\"><img src=\"../../../../__pv_it/common/0fc33550aa9740010879fdf30c320b63ba918eff0/expr.png\" style=\"display:inline;vertical-align:middle;\" /></a></td></tr>\n",
       "<tr><td>28</td><td>Operation</td><td>operator:&nbsp;30<br>operand:&nbsp;32<br></td><td><a class=\"ProveItLink\" href=\"../../../../__pv_it/common/1fec0eaf1cfb24a7fd0f169d6d2b28f8410bcd7c0/expr.ipynb\"><img src=\"../../../../__pv_it/common/1fec0eaf1cfb24a7fd0f169d6d2b28f8410bcd7c0/expr.png\" style=\"display:inline;vertical-align:middle;\" /></a></td></tr>\n",
       "<tr><td>29</td><td>Variable</td><td></td><td><a class=\"ProveItLink\" href=\"../../../../../__pv_it/common/ae955345c83abf786c3aff8681cd5465beae262d0/expr.ipynb\"><img src=\"../../../../../__pv_it/common/ae955345c83abf786c3aff8681cd5465beae262d0/expr.png\" style=\"display:inline;vertical-align:middle;\" /></a></td></tr>\n",
       "<tr><td>30</td><td>Variable</td><td></td><td><a class=\"ProveItLink\" href=\"../../../../../__pv_it/common/01b6dbb444a31fc38af4c2379badef6c75b363710/expr.ipynb\"><img src=\"../../../../../__pv_it/common/01b6dbb444a31fc38af4c2379badef6c75b363710/expr.png\" style=\"display:inline;vertical-align:middle;\" /></a></td></tr>\n",
       "<tr><td>31</td><td>ExprTuple</td><td>32</td><td><a class=\"ProveItLink\" href=\"../../../../__pv_it/common/4b0dd6be36d76552eda6a95d5b4a27f5a5b62f900/expr.ipynb\"><img src=\"../../../../__pv_it/common/4b0dd6be36d76552eda6a95d5b4a27f5a5b62f900/expr.png\" style=\"display:inline;vertical-align:middle;\" /></a></td></tr>\n",
       "<tr><td>32</td><td>Variable</td><td></td><td><a class=\"ProveItLink\" href=\"../../../../__pv_it/common/006c465e50948aa2b52285e2de47974f741255cc0/expr.ipynb\"><img src=\"../../../../__pv_it/common/006c465e50948aa2b52285e2de47974f741255cc0/expr.png\" style=\"display:inline;vertical-align:middle;\" /></a></td></tr>\n",
       "</table>\n"
      ],
      "text/plain": [
       "0. ((f, i, j) -> {|(f(i), f(i + 1), ..., f(j))| = |(i, (i + 1), ..., j)| if (j - i + 1) in Natural.)\n",
       "   core type: ExprTuple\n",
       "   sub-expressions: 1\n",
       "1. (f, i, j) -> {|(f(i), f(i + 1), ..., f(j))| = |(i, (i + 1), ..., j)| if (j - i + 1) in Natural.\n",
       "   core type: Lambda\n",
       "   parameters: 2\\n   body: 3\n",
       "2. (f, i, j)\n",
       "   core type: ExprTuple\n",
       "   sub-expressions: 30, 29, 25\n",
       "3. {|(f(i), f(i + 1), ..., f(j))| = |(i, (i + 1), ..., j)| if (j - i + 1) in Natural.\n",
       "   core type: Conditional\n",
       "   value: 4\n",
       "   condition: 5\n",
       "4. |(f(i), f(i + 1), ..., f(j))| = |(i, (i + 1), ..., j)|\n",
       "   core type: Operation\n",
       "   operator: 6\n",
       "   operands: 7\n",
       "5. (j - i + 1) in Natural\n",
       "   core type: Operation\n",
       "   operator: 8\n",
       "   operands: 9\n",
       "6. =\n",
       "   core type: Literal\n",
       "   sub-expressions: \n",
       "7. (|(f(i), f(i + 1), ..., f(j))|, |(i, (i + 1), ..., j)|)\n",
       "   core type: ExprTuple\n",
       "   sub-expressions: 10, 11\n",
       "8. in\n",
       "   core type: Literal\n",
       "   sub-expressions: \n",
       "9. (j - i + 1, Natural)\n",
       "   core type: ExprTuple\n",
       "   sub-expressions: 12, 13\n",
       "10. |(f(i), f(i + 1), ..., f(j))|\n",
       "    core type: Operation\n",
       "    operator: 15\n",
       "    operands: 14\n",
       "11. |(i, (i + 1), ..., j)|\n",
       "    core type: Operation\n",
       "    operator: 15\n",
       "    operands: 16\n",
       "12. j - i + 1\n",
       "    core type: Operation\n",
       "    operator: 17\n",
       "    operands: 18\n",
       "13. Natural\n",
       "    core type: Literal\n",
       "    sub-expressions: \n",
       "14. (f(i), f(i + 1), ..., f(j))\n",
       "    core type: ExprTuple\n",
       "    sub-expressions: 19\n",
       "15. length\n",
       "    core type: Literal\n",
       "    sub-expressions: \n",
       "16. (i, (i + 1), ..., j)\n",
       "    core type: ExprTuple\n",
       "    sub-expressions: 20\n",
       "17. +\n",
       "    core type: Literal\n",
       "    sub-expressions: \n",
       "18. (j, -i, 1)\n",
       "    core type: ExprTuple\n",
       "    sub-expressions: 25, 21, 22\n",
       "19. f(i), f(i + 1), ..., f(j)\n",
       "    core type: ExprRange\n",
       "    lambda_map: 23\n",
       "    start_index: 29\n",
       "    end_index: 25\n",
       "20. i, (i + 1), ..., j\n",
       "    core type: ExprRange\n",
       "    lambda_map: 24\n",
       "    start_index: 29\n",
       "    end_index: 25\n",
       "21. -i\n",
       "    core type: Operation\n",
       "    operator: 26\n",
       "    operand: 29\n",
       "22. 1\n",
       "    core type: Literal\n",
       "    sub-expressions: \n",
       "23. _a -> f(_a)\n",
       "    core type: Lambda\n",
       "    parameter: 32\n",
       "    body: 28\n",
       "24. _a -> _a\n",
       "    core type: Lambda\n",
       "    parameter: 32\n",
       "    body: 32\n",
       "25. j\n",
       "    core type: Variable\n",
       "    sub-expressions: \n",
       "26. -\n",
       "    core type: Literal\n",
       "    sub-expressions: \n",
       "27. (i)\n",
       "    core type: ExprTuple\n",
       "    sub-expressions: 29\n",
       "28. f(_a)\n",
       "    core type: Operation\n",
       "    operator: 30\n",
       "    operand: 32\n",
       "29. i\n",
       "    core type: Variable\n",
       "    sub-expressions: \n",
       "30. f\n",
       "    core type: Variable\n",
       "    sub-expressions: \n",
       "31. (_a)\n",
       "    core type: ExprTuple\n",
       "    sub-expressions: 32\n",
       "32. _a\n",
       "    core type: Variable\n",
       "    sub-expressions: "
      ]
     },
     "metadata": {},
     "output_type": "display_data"
    }
   ],
   "source": [
    "# display the expression information\n",
    "stored_expr.expr_info()"
   ]
  },
  {
   "cell_type": "code",
   "execution_count": null,
   "metadata": {},
   "outputs": [],
   "source": []
  }
 ],
 "metadata": {
  "kernelspec": {
   "display_name": "Python 3",
   "language": "python",
   "name": "python3"
  }
 },
 "nbformat": 4,
 "nbformat_minor": 0
}