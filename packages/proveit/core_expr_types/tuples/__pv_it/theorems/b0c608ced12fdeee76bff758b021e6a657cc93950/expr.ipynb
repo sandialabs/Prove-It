{
 "cells": [
  {
   "cell_type": "markdown",
   "metadata": {},
   "source": [
    "Expression of type <a class=\"ProveItLink\" href=\"../../../../../../../doc/html/api/proveit.ExprTuple.html\">ExprTuple</a>\n",
    "=======================\n",
    "# from the theory of <a class=\"ProveItLink\" href=\"../../../_theory_nbs_/theory.ipynb\">proveit.core_expr_types.tuples</a>"
   ]
  },
  {
   "cell_type": "code",
   "execution_count": 1,
   "metadata": {},
   "outputs": [],
   "source": [
    "import proveit\n",
    "# Automation is not needed when building an expression:\n",
    "proveit.defaults.automation = False # This will speed things up.\n",
    "proveit.defaults.inline_pngs = False # Makes files smaller.\n",
    "%load_expr # Load the stored expression as 'stored_expr'\n",
    "# import Expression classes needed to build the expression\n",
    "from proveit import Conditional, ExprTuple, Lambda, a, i, j, k, l\n",
    "from proveit.core_expr_types.tuples import shift_equiv\n",
    "from proveit.logic import And, Equals, InSet\n",
    "from proveit.numbers import Add, Natural, one, subtract"
   ]
  },
  {
   "cell_type": "code",
   "execution_count": 2,
   "metadata": {},
   "outputs": [
    {
     "data": {
      "text/html": [
       "<strong id=\"expr\">expr:</strong> <a class=\"ProveItLink\" href=\"expr.ipynb\"><img src=\"expr.png\" style=\"display:inline;vertical-align:middle;\" /></a><br>"
      ],
      "text/plain": [
       "<IPython.core.display.HTML object>"
      ]
     },
     "metadata": {},
     "output_type": "display_data"
    }
   ],
   "source": [
    "# build up the expression from sub-expressions\n",
    "expr = ExprTuple(Lambda([i, j, k, l], Conditional(shift_equiv, And(InSet(subtract(Add(j, one), i), Natural), Equals(k, subtract(i, a)), Equals(l, subtract(j, a))))))"
   ]
  },
  {
   "cell_type": "code",
   "execution_count": 3,
   "metadata": {},
   "outputs": [
    {
     "name": "stdout",
     "output_type": "stream",
     "text": [
      "Passed sanity check: expr matches stored_expr\n"
     ]
    }
   ],
   "source": [
    "# check that the built expression is the same as the stored expression\n",
    "assert expr == stored_expr\n",
    "assert expr._style_id == stored_expr._style_id\n",
    "print(\"Passed sanity check: expr matches stored_expr\")"
   ]
  },
  {
   "cell_type": "code",
   "execution_count": 4,
   "metadata": {},
   "outputs": [
    {
     "name": "stdout",
     "output_type": "stream",
     "text": [
      "\\left(\\left(i, j, k, l\\right) \\mapsto \\left\\{\\left(f\\left(i\\right), f\\left(i + 1\\right), \\ldots, f\\left(j\\right)\\right) = \\left(f\\left(k + a\\right), f\\left(\\left(k + 1\\right) + a\\right), \\ldots, f\\left(l + a\\right)\\right) \\textrm{ if } \\left(\\left(j + 1\\right) - i\\right) \\in \\mathbb{N} ,  k = \\left(i - a\\right) ,  l = \\left(j - a\\right)\\right..\\right)\n"
     ]
    }
   ],
   "source": [
    "# Show the LaTeX representation of the expression for convenience if you need it.\n",
    "print(stored_expr.latex())"
   ]
  },
  {
   "cell_type": "code",
   "execution_count": 5,
   "metadata": {},
   "outputs": [
    {
     "data": {
      "text/html": [
       "no style options"
      ],
      "text/plain": [
       "no style options"
      ]
     },
     "metadata": {},
     "output_type": "display_data"
    }
   ],
   "source": [
    "stored_expr.style_options()"
   ]
  },
  {
   "cell_type": "code",
   "execution_count": 6,
   "metadata": {},
   "outputs": [
    {
     "data": {
      "text/html": [
       "<table><tr><th>&nbsp;</th><th>core type</th><th>sub-expressions</th><th>expression</th></tr>\n",
       "<tr><td>0</td><td>ExprTuple</td><td>1</td><td><a class=\"ProveItLink\" href=\"expr.ipynb\"><img src=\"expr.png\" style=\"display:inline;vertical-align:middle;\" /></a></td></tr>\n",
       "<tr><td>1</td><td>Lambda</td><td>parameters:&nbsp;2<br>body:&nbsp;3<br></td><td><a class=\"ProveItLink\" href=\"../802777a5303c4bd3888c97c12b4f3a9246fd49c70/expr.ipynb\"><img src=\"../802777a5303c4bd3888c97c12b4f3a9246fd49c70/expr.png\" style=\"display:inline;vertical-align:middle;\" /></a></td></tr>\n",
       "<tr><td>2</td><td>ExprTuple</td><td>49, 47, 25, 27</td><td><a class=\"ProveItLink\" href=\"../c3cbae2b8169d5d4ab9bc9cc5183b3904e0ad5cb0/expr.ipynb\"><img src=\"../c3cbae2b8169d5d4ab9bc9cc5183b3904e0ad5cb0/expr.png\" style=\"display:inline;vertical-align:middle;\" /></a></td></tr>\n",
       "<tr><td>3</td><td>Conditional</td><td>value:&nbsp;4<br>condition:&nbsp;5<br></td><td><a class=\"ProveItLink\" href=\"../5495d9bd55c0d03b47810bef8be96f86b9a64b3a0/expr.ipynb\"><img src=\"../5495d9bd55c0d03b47810bef8be96f86b9a64b3a0/expr.png\" style=\"display:inline;vertical-align:middle;\" /></a></td></tr>\n",
       "<tr><td>4</td><td>Operation</td><td>operator:&nbsp;19<br>operands:&nbsp;6<br></td><td><a class=\"ProveItLink\" href=\"../../common/91af3663a64365849fb14c26250ebe2b2eec85080/expr.ipynb\"><img src=\"../../common/91af3663a64365849fb14c26250ebe2b2eec85080/expr.png\" style=\"display:inline;vertical-align:middle;\" /></a></td></tr>\n",
       "<tr><td>5</td><td>Operation</td><td>operator:&nbsp;7<br>operands:&nbsp;8<br></td><td><a class=\"ProveItLink\" href=\"../58faab08c8aba6f6b6294270d202f5dbe82670ad0/expr.ipynb\"><img src=\"../58faab08c8aba6f6b6294270d202f5dbe82670ad0/expr.png\" style=\"display:inline;vertical-align:middle;\" /></a></td></tr>\n",
       "<tr><td>6</td><td>ExprTuple</td><td>9, 10</td><td><a class=\"ProveItLink\" href=\"../../common/bc2152b066eafe7026e252bb999f366a49d64a180/expr.ipynb\"><img src=\"../../common/bc2152b066eafe7026e252bb999f366a49d64a180/expr.png\" style=\"display:inline;vertical-align:middle;\" /></a></td></tr>\n",
       "<tr><td>7</td><td>Literal</td><td></td><td><a class=\"ProveItLink\" href=\"../../../../../logic/booleans/conjunction/__pv_it/common/42118ff318bd65d98b1393f64ce7c2269feef76e0/expr.ipynb\"><img src=\"../../../../../logic/booleans/conjunction/__pv_it/common/42118ff318bd65d98b1393f64ce7c2269feef76e0/expr.png\" style=\"display:inline;vertical-align:middle;\" /></a></td></tr>\n",
       "<tr><td>8</td><td>ExprTuple</td><td>11, 12, 13</td><td><a class=\"ProveItLink\" href=\"../82802f7e37a6a9d52c3aad75b355f82042cf17680/expr.ipynb\"><img src=\"../82802f7e37a6a9d52c3aad75b355f82042cf17680/expr.png\" style=\"display:inline;vertical-align:middle;\" /></a></td></tr>\n",
       "<tr><td>9</td><td>ExprTuple</td><td>14</td><td><a class=\"ProveItLink\" href=\"../../common/ca4fef6e8316ef2c0e82c2bd07277543e391687b0/expr.ipynb\"><img src=\"../../common/ca4fef6e8316ef2c0e82c2bd07277543e391687b0/expr.png\" style=\"display:inline;vertical-align:middle;\" /></a></td></tr>\n",
       "<tr><td>10</td><td>ExprTuple</td><td>15</td><td><a class=\"ProveItLink\" href=\"../../common/00c7feccb542622a88ed5b140d3ffc373cd533bb0/expr.ipynb\"><img src=\"../../common/00c7feccb542622a88ed5b140d3ffc373cd533bb0/expr.png\" style=\"display:inline;vertical-align:middle;\" /></a></td></tr>\n",
       "<tr><td>11</td><td>Operation</td><td>operator:&nbsp;16<br>operands:&nbsp;17<br></td><td><a class=\"ProveItLink\" href=\"../a49f9d9780e8f8b2ad2bfc0d0ba1f066056651f30/expr.ipynb\"><img src=\"../a49f9d9780e8f8b2ad2bfc0d0ba1f066056651f30/expr.png\" style=\"display:inline;vertical-align:middle;\" /></a></td></tr>\n",
       "<tr><td>12</td><td>Operation</td><td>operator:&nbsp;19<br>operands:&nbsp;18<br></td><td><a class=\"ProveItLink\" href=\"../a4dd254105a340d0b9823d5e590b6adbe4062d420/expr.ipynb\"><img src=\"../a4dd254105a340d0b9823d5e590b6adbe4062d420/expr.png\" style=\"display:inline;vertical-align:middle;\" /></a></td></tr>\n",
       "<tr><td>13</td><td>Operation</td><td>operator:&nbsp;19<br>operands:&nbsp;20<br></td><td><a class=\"ProveItLink\" href=\"../a24d0623641c01cbb6047dc68b863b5df83c22160/expr.ipynb\"><img src=\"../a24d0623641c01cbb6047dc68b863b5df83c22160/expr.png\" style=\"display:inline;vertical-align:middle;\" /></a></td></tr>\n",
       "<tr><td>14</td><td>ExprRange</td><td>lambda_map:&nbsp;21<br>start_index:&nbsp;49<br>end_index:&nbsp;47<br></td><td><a class=\"ProveItLink\" href=\"../../../../__pv_it/common/253a5fe8886c2ac76e888f437ab1b15f51c1335e0/expr.ipynb\"><img src=\"../../../../__pv_it/common/253a5fe8886c2ac76e888f437ab1b15f51c1335e0/expr.png\" style=\"display:inline;vertical-align:middle;\" /></a></td></tr>\n",
       "<tr><td>15</td><td>ExprRange</td><td>lambda_map:&nbsp;22<br>start_index:&nbsp;25<br>end_index:&nbsp;27<br></td><td><a class=\"ProveItLink\" href=\"../../common/dbb7bce9f7ade8f4e3e64f62dffa745c3840b3440/expr.ipynb\"><img src=\"../../common/dbb7bce9f7ade8f4e3e64f62dffa745c3840b3440/expr.png\" style=\"display:inline;vertical-align:middle;\" /></a></td></tr>\n",
       "<tr><td>16</td><td>Literal</td><td></td><td><a class=\"ProveItLink\" href=\"../../../../../logic/sets/membership/__pv_it/common/477487d8796864d23d5810f83761435f25167f690/expr.ipynb\"><img src=\"../../../../../logic/sets/membership/__pv_it/common/477487d8796864d23d5810f83761435f25167f690/expr.png\" style=\"display:inline;vertical-align:middle;\" /></a></td></tr>\n",
       "<tr><td>17</td><td>ExprTuple</td><td>23, 24</td><td><a class=\"ProveItLink\" href=\"../468936c052dd71d7665fdee2f795fc1718106ad40/expr.ipynb\"><img src=\"../468936c052dd71d7665fdee2f795fc1718106ad40/expr.png\" style=\"display:inline;vertical-align:middle;\" /></a></td></tr>\n",
       "<tr><td>18</td><td>ExprTuple</td><td>25, 26</td><td><a class=\"ProveItLink\" href=\"../0fa8a302b54fee2370f76249d90bbf357a3972430/expr.ipynb\"><img src=\"../0fa8a302b54fee2370f76249d90bbf357a3972430/expr.png\" style=\"display:inline;vertical-align:middle;\" /></a></td></tr>\n",
       "<tr><td>19</td><td>Literal</td><td></td><td><a class=\"ProveItLink\" href=\"../../../../../logic/equality/__pv_it/common/fb96dc12b2aa8801dda64d0132b396c63d1502bb0/expr.ipynb\"><img src=\"../../../../../logic/equality/__pv_it/common/fb96dc12b2aa8801dda64d0132b396c63d1502bb0/expr.png\" style=\"display:inline;vertical-align:middle;\" /></a></td></tr>\n",
       "<tr><td>20</td><td>ExprTuple</td><td>27, 28</td><td><a class=\"ProveItLink\" href=\"../d18c8a764832e97869f21f4577a8f70e5f38a0520/expr.ipynb\"><img src=\"../d18c8a764832e97869f21f4577a8f70e5f38a0520/expr.png\" style=\"display:inline;vertical-align:middle;\" /></a></td></tr>\n",
       "<tr><td>21</td><td>Lambda</td><td>parameter:&nbsp;50<br>body:&nbsp;29<br></td><td><a class=\"ProveItLink\" href=\"../../../../__pv_it/common/85a3534ef7cc0fae4ff216233b0408e0e4a3424b0/expr.ipynb\"><img src=\"../../../../__pv_it/common/85a3534ef7cc0fae4ff216233b0408e0e4a3424b0/expr.png\" style=\"display:inline;vertical-align:middle;\" /></a></td></tr>\n",
       "<tr><td>22</td><td>Lambda</td><td>parameter:&nbsp;50<br>body:&nbsp;30<br></td><td><a class=\"ProveItLink\" href=\"../../common/93e504dd743f106cb84e8fc2eb0443f78bbd5b8f0/expr.ipynb\"><img src=\"../../common/93e504dd743f106cb84e8fc2eb0443f78bbd5b8f0/expr.png\" style=\"display:inline;vertical-align:middle;\" /></a></td></tr>\n",
       "<tr><td>23</td><td>Operation</td><td>operator:&nbsp;45<br>operands:&nbsp;31<br></td><td><a class=\"ProveItLink\" href=\"../590525331bb20a3217ebdffc7435439a7e691e4c0/expr.ipynb\"><img src=\"../590525331bb20a3217ebdffc7435439a7e691e4c0/expr.png\" style=\"display:inline;vertical-align:middle;\" /></a></td></tr>\n",
       "<tr><td>24</td><td>Literal</td><td></td><td><a class=\"ProveItLink\" href=\"../../../../../numbers/number_sets/natural_numbers/__pv_it/common/8b7c321957f52ed3b05b36af612eeae4fa4783bc0/expr.ipynb\"><img src=\"../../../../../numbers/number_sets/natural_numbers/__pv_it/common/8b7c321957f52ed3b05b36af612eeae4fa4783bc0/expr.png\" style=\"display:inline;vertical-align:middle;\" /></a></td></tr>\n",
       "<tr><td>25</td><td>Variable</td><td></td><td><a class=\"ProveItLink\" href=\"../../../../../__pv_it/common/63b7c64bf9ec7a04ecc396c7a1670f3f12fb59490/expr.ipynb\"><img src=\"../../../../../__pv_it/common/63b7c64bf9ec7a04ecc396c7a1670f3f12fb59490/expr.png\" style=\"display:inline;vertical-align:middle;\" /></a></td></tr>\n",
       "<tr><td>26</td><td>Operation</td><td>operator:&nbsp;45<br>operands:&nbsp;32<br></td><td><a class=\"ProveItLink\" href=\"../b6209fc7dc195651791cfb48304e75fc784b8e500/expr.ipynb\"><img src=\"../b6209fc7dc195651791cfb48304e75fc784b8e500/expr.png\" style=\"display:inline;vertical-align:middle;\" /></a></td></tr>\n",
       "<tr><td>27</td><td>Variable</td><td></td><td><a class=\"ProveItLink\" href=\"../../../../../__pv_it/common/27cc275d44b4f4499fb9ccfb3fab1a98165d2fa60/expr.ipynb\"><img src=\"../../../../../__pv_it/common/27cc275d44b4f4499fb9ccfb3fab1a98165d2fa60/expr.png\" style=\"display:inline;vertical-align:middle;\" /></a></td></tr>\n",
       "<tr><td>28</td><td>Operation</td><td>operator:&nbsp;45<br>operands:&nbsp;33<br></td><td><a class=\"ProveItLink\" href=\"../7514a0a61e2acdfe179f53f322074eb2606831440/expr.ipynb\"><img src=\"../7514a0a61e2acdfe179f53f322074eb2606831440/expr.png\" style=\"display:inline;vertical-align:middle;\" /></a></td></tr>\n",
       "<tr><td>29</td><td>Operation</td><td>operator:&nbsp;35<br>operand:&nbsp;50<br></td><td><a class=\"ProveItLink\" href=\"../../../../__pv_it/common/1fec0eaf1cfb24a7fd0f169d6d2b28f8410bcd7c0/expr.ipynb\"><img src=\"../../../../__pv_it/common/1fec0eaf1cfb24a7fd0f169d6d2b28f8410bcd7c0/expr.png\" style=\"display:inline;vertical-align:middle;\" /></a></td></tr>\n",
       "<tr><td>30</td><td>Operation</td><td>operator:&nbsp;35<br>operand:&nbsp;40<br></td><td><a class=\"ProveItLink\" href=\"../../common/0c0c30f716d5f8aeebdbf9a994488cfa09430bf50/expr.ipynb\"><img src=\"../../common/0c0c30f716d5f8aeebdbf9a994488cfa09430bf50/expr.png\" style=\"display:inline;vertical-align:middle;\" /></a></td></tr>\n",
       "<tr><td>31</td><td>ExprTuple</td><td>37, 38</td><td><a class=\"ProveItLink\" href=\"../214f5d727771bbec9da2102dd75f40e66945a58c0/expr.ipynb\"><img src=\"../214f5d727771bbec9da2102dd75f40e66945a58c0/expr.png\" style=\"display:inline;vertical-align:middle;\" /></a></td></tr>\n",
       "<tr><td>32</td><td>ExprTuple</td><td>49, 39</td><td><a class=\"ProveItLink\" href=\"../bacf1061b3ad7a788b5c4c7f9ef8bbaaf5f6a0c70/expr.ipynb\"><img src=\"../bacf1061b3ad7a788b5c4c7f9ef8bbaaf5f6a0c70/expr.png\" style=\"display:inline;vertical-align:middle;\" /></a></td></tr>\n",
       "<tr><td>33</td><td>ExprTuple</td><td>47, 39</td><td><a class=\"ProveItLink\" href=\"../eff8965ef0133eb02a6376fb65e46a2b426b5f340/expr.ipynb\"><img src=\"../eff8965ef0133eb02a6376fb65e46a2b426b5f340/expr.png\" style=\"display:inline;vertical-align:middle;\" /></a></td></tr>\n",
       "<tr><td>34</td><td>ExprTuple</td><td>50</td><td><a class=\"ProveItLink\" href=\"../../../../__pv_it/common/4b0dd6be36d76552eda6a95d5b4a27f5a5b62f900/expr.ipynb\"><img src=\"../../../../__pv_it/common/4b0dd6be36d76552eda6a95d5b4a27f5a5b62f900/expr.png\" style=\"display:inline;vertical-align:middle;\" /></a></td></tr>\n",
       "<tr><td>35</td><td>Variable</td><td></td><td><a class=\"ProveItLink\" href=\"../../../../../__pv_it/common/01b6dbb444a31fc38af4c2379badef6c75b363710/expr.ipynb\"><img src=\"../../../../../__pv_it/common/01b6dbb444a31fc38af4c2379badef6c75b363710/expr.png\" style=\"display:inline;vertical-align:middle;\" /></a></td></tr>\n",
       "<tr><td>36</td><td>ExprTuple</td><td>40</td><td><a class=\"ProveItLink\" href=\"../../common/533f44533b898d309d939963bee1cac6fed865600/expr.ipynb\"><img src=\"../../common/533f44533b898d309d939963bee1cac6fed865600/expr.png\" style=\"display:inline;vertical-align:middle;\" /></a></td></tr>\n",
       "<tr><td>37</td><td>Operation</td><td>operator:&nbsp;45<br>operands:&nbsp;41<br></td><td><a class=\"ProveItLink\" href=\"../../../../__pv_it/common/d0273df65d133a1f8883b8a3a163ce78774ce88e0/expr.ipynb\"><img src=\"../../../../__pv_it/common/d0273df65d133a1f8883b8a3a163ce78774ce88e0/expr.png\" style=\"display:inline;vertical-align:middle;\" /></a></td></tr>\n",
       "<tr><td>38</td><td>Operation</td><td>operator:&nbsp;43<br>operand:&nbsp;49<br></td><td><a class=\"ProveItLink\" href=\"../../../../__pv_it/common/8c734d503ad1059c44c9f2e4827f47823ef862820/expr.ipynb\"><img src=\"../../../../__pv_it/common/8c734d503ad1059c44c9f2e4827f47823ef862820/expr.png\" style=\"display:inline;vertical-align:middle;\" /></a></td></tr>\n",
       "<tr><td>39</td><td>Operation</td><td>operator:&nbsp;43<br>operand:&nbsp;51<br></td><td><a class=\"ProveItLink\" href=\"../acf31e2b985e1fe7ad12e3cd1aec200a58e2459c0/expr.ipynb\"><img src=\"../acf31e2b985e1fe7ad12e3cd1aec200a58e2459c0/expr.png\" style=\"display:inline;vertical-align:middle;\" /></a></td></tr>\n",
       "<tr><td>40</td><td>Operation</td><td>operator:&nbsp;45<br>operands:&nbsp;46<br></td><td><a class=\"ProveItLink\" href=\"../../common/69712f9482749a1506d8972ee6fdd0ab8c9beefe0/expr.ipynb\"><img src=\"../../common/69712f9482749a1506d8972ee6fdd0ab8c9beefe0/expr.png\" style=\"display:inline;vertical-align:middle;\" /></a></td></tr>\n",
       "<tr><td>41</td><td>ExprTuple</td><td>47, 48</td><td><a class=\"ProveItLink\" href=\"../../../../__pv_it/common/8b6ed1fad73893e4ad1245f0c4137f5451742f770/expr.ipynb\"><img src=\"../../../../__pv_it/common/8b6ed1fad73893e4ad1245f0c4137f5451742f770/expr.png\" style=\"display:inline;vertical-align:middle;\" /></a></td></tr>\n",
       "<tr><td>42</td><td>ExprTuple</td><td>49</td><td><a class=\"ProveItLink\" href=\"../../../../__pv_it/common/0fc33550aa9740010879fdf30c320b63ba918eff0/expr.ipynb\"><img src=\"../../../../__pv_it/common/0fc33550aa9740010879fdf30c320b63ba918eff0/expr.png\" style=\"display:inline;vertical-align:middle;\" /></a></td></tr>\n",
       "<tr><td>43</td><td>Literal</td><td></td><td><a class=\"ProveItLink\" href=\"../../../../../numbers/negation/__pv_it/common/221b3c4d1770ee9051b7c044c3f9ec61196fc34b0/expr.ipynb\"><img src=\"../../../../../numbers/negation/__pv_it/common/221b3c4d1770ee9051b7c044c3f9ec61196fc34b0/expr.png\" style=\"display:inline;vertical-align:middle;\" /></a></td></tr>\n",
       "<tr><td>44</td><td>ExprTuple</td><td>51</td><td><a class=\"ProveItLink\" href=\"../034703c6972b772d60786b3024fb4de33deb9fd00/expr.ipynb\"><img src=\"../034703c6972b772d60786b3024fb4de33deb9fd00/expr.png\" style=\"display:inline;vertical-align:middle;\" /></a></td></tr>\n",
       "<tr><td>45</td><td>Literal</td><td></td><td><a class=\"ProveItLink\" href=\"../../../../../numbers/addition/__pv_it/common/4b7effaab3619a1c2c38fe2dee8601df8ec714590/expr.ipynb\"><img src=\"../../../../../numbers/addition/__pv_it/common/4b7effaab3619a1c2c38fe2dee8601df8ec714590/expr.png\" style=\"display:inline;vertical-align:middle;\" /></a></td></tr>\n",
       "<tr><td>46</td><td>ExprTuple</td><td>50, 51</td><td><a class=\"ProveItLink\" href=\"../../common/53f697b8f0c1800a83da6d87a6adf056dbac18ec0/expr.ipynb\"><img src=\"../../common/53f697b8f0c1800a83da6d87a6adf056dbac18ec0/expr.png\" style=\"display:inline;vertical-align:middle;\" /></a></td></tr>\n",
       "<tr><td>47</td><td>Variable</td><td></td><td><a class=\"ProveItLink\" href=\"../../../../../__pv_it/common/1ed21df18baca2f42b561a7ffbf30a2743d594650/expr.ipynb\"><img src=\"../../../../../__pv_it/common/1ed21df18baca2f42b561a7ffbf30a2743d594650/expr.png\" style=\"display:inline;vertical-align:middle;\" /></a></td></tr>\n",
       "<tr><td>48</td><td>Literal</td><td></td><td><a class=\"ProveItLink\" href=\"../../../../../numbers/numerals/__pv_it/common/682157d4892d216d9e5626ed533aff9b56b9506e0/expr.ipynb\"><img src=\"../../../../../numbers/numerals/__pv_it/common/682157d4892d216d9e5626ed533aff9b56b9506e0/expr.png\" style=\"display:inline;vertical-align:middle;\" /></a></td></tr>\n",
       "<tr><td>49</td><td>Variable</td><td></td><td><a class=\"ProveItLink\" href=\"../../../../../__pv_it/common/ae955345c83abf786c3aff8681cd5465beae262d0/expr.ipynb\"><img src=\"../../../../../__pv_it/common/ae955345c83abf786c3aff8681cd5465beae262d0/expr.png\" style=\"display:inline;vertical-align:middle;\" /></a></td></tr>\n",
       "<tr><td>50</td><td>Variable</td><td></td><td><a class=\"ProveItLink\" href=\"../../../../__pv_it/common/006c465e50948aa2b52285e2de47974f741255cc0/expr.ipynb\"><img src=\"../../../../__pv_it/common/006c465e50948aa2b52285e2de47974f741255cc0/expr.png\" style=\"display:inline;vertical-align:middle;\" /></a></td></tr>\n",
       "<tr><td>51</td><td>Variable</td><td></td><td><a class=\"ProveItLink\" href=\"../../../../../__pv_it/common/c06c606ec12678c58933ac85412ecadc2ae28be60/expr.ipynb\"><img src=\"../../../../../__pv_it/common/c06c606ec12678c58933ac85412ecadc2ae28be60/expr.png\" style=\"display:inline;vertical-align:middle;\" /></a></td></tr>\n",
       "</table>\n"
      ],
      "text/plain": [
       "0. ((i, j, k, l) -> {(f(i), f(i + 1), ..., f(j)) = (f(k + a), f((k + 1) + a), ..., f(l + a)) if ((j + 1) - i) in Natural ,  k = (i - a) ,  l = (j - a).)\n",
       "   core type: ExprTuple\n",
       "   sub-expressions: 1\n",
       "1. (i, j, k, l) -> {(f(i), f(i + 1), ..., f(j)) = (f(k + a), f((k + 1) + a), ..., f(l + a)) if ((j + 1) - i) in Natural ,  k = (i - a) ,  l = (j - a).\n",
       "   core type: Lambda\n",
       "   parameters: 2\\n   body: 3\n",
       "2. (i, j, k, l)\n",
       "   core type: ExprTuple\n",
       "   sub-expressions: 49, 47, 25, 27\n",
       "3. {(f(i), f(i + 1), ..., f(j)) = (f(k + a), f((k + 1) + a), ..., f(l + a)) if ((j + 1) - i) in Natural ,  k = (i - a) ,  l = (j - a).\n",
       "   core type: Conditional\n",
       "   value: 4\n",
       "   condition: 5\n",
       "4. (f(i), f(i + 1), ..., f(j)) = (f(k + a), f((k + 1) + a), ..., f(l + a))\n",
       "   core type: Operation\n",
       "   operator: 19\n",
       "   operands: 6\n",
       "5. (((j + 1) - i) in Natural) and (k = (i - a)) and (l = (j - a))\n",
       "   core type: Operation\n",
       "   operator: 7\n",
       "   operands: 8\n",
       "6. ((f(i), f(i + 1), ..., f(j)), (f(k + a), f((k + 1) + a), ..., f(l + a)))\n",
       "   core type: ExprTuple\n",
       "   sub-expressions: 9, 10\n",
       "7. and\n",
       "   core type: Literal\n",
       "   sub-expressions: \n",
       "8. (((j + 1) - i) in Natural, k = (i - a), l = (j - a))\n",
       "   core type: ExprTuple\n",
       "   sub-expressions: 11, 12, 13\n",
       "9. (f(i), f(i + 1), ..., f(j))\n",
       "   core type: ExprTuple\n",
       "   sub-expressions: 14\n",
       "10. (f(k + a), f((k + 1) + a), ..., f(l + a))\n",
       "    core type: ExprTuple\n",
       "    sub-expressions: 15\n",
       "11. ((j + 1) - i) in Natural\n",
       "    core type: Operation\n",
       "    operator: 16\n",
       "    operands: 17\n",
       "12. k = (i - a)\n",
       "    core type: Operation\n",
       "    operator: 19\n",
       "    operands: 18\n",
       "13. l = (j - a)\n",
       "    core type: Operation\n",
       "    operator: 19\n",
       "    operands: 20\n",
       "14. f(i), f(i + 1), ..., f(j)\n",
       "    core type: ExprRange\n",
       "    lambda_map: 21\n",
       "    start_index: 49\n",
       "    end_index: 47\n",
       "15. f(k + a), f((k + 1) + a), ..., f(l + a)\n",
       "    core type: ExprRange\n",
       "    lambda_map: 22\n",
       "    start_index: 25\n",
       "    end_index: 27\n",
       "16. in\n",
       "    core type: Literal\n",
       "    sub-expressions: \n",
       "17. ((j + 1) - i, Natural)\n",
       "    core type: ExprTuple\n",
       "    sub-expressions: 23, 24\n",
       "18. (k, i - a)\n",
       "    core type: ExprTuple\n",
       "    sub-expressions: 25, 26\n",
       "19. =\n",
       "    core type: Literal\n",
       "    sub-expressions: \n",
       "20. (l, j - a)\n",
       "    core type: ExprTuple\n",
       "    sub-expressions: 27, 28\n",
       "21. _a -> f(_a)\n",
       "    core type: Lambda\n",
       "    parameter: 50\n",
       "    body: 29\n",
       "22. _a -> f(_a + a)\n",
       "    core type: Lambda\n",
       "    parameter: 50\n",
       "    body: 30\n",
       "23. (j + 1) - i\n",
       "    core type: Operation\n",
       "    operator: 45\n",
       "    operands: 31\n",
       "24. Natural\n",
       "    core type: Literal\n",
       "    sub-expressions: \n",
       "25. k\n",
       "    core type: Variable\n",
       "    sub-expressions: \n",
       "26. i - a\n",
       "    core type: Operation\n",
       "    operator: 45\n",
       "    operands: 32\n",
       "27. l\n",
       "    core type: Variable\n",
       "    sub-expressions: \n",
       "28. j - a\n",
       "    core type: Operation\n",
       "    operator: 45\n",
       "    operands: 33\n",
       "29. f(_a)\n",
       "    core type: Operation\n",
       "    operator: 35\n",
       "    operand: 50\n",
       "30. f(_a + a)\n",
       "    core type: Operation\n",
       "    operator: 35\n",
       "    operand: 40\n",
       "31. (j + 1, -i)\n",
       "    core type: ExprTuple\n",
       "    sub-expressions: 37, 38\n",
       "32. (i, -a)\n",
       "    core type: ExprTuple\n",
       "    sub-expressions: 49, 39\n",
       "33. (j, -a)\n",
       "    core type: ExprTuple\n",
       "    sub-expressions: 47, 39\n",
       "34. (_a)\n",
       "    core type: ExprTuple\n",
       "    sub-expressions: 50\n",
       "35. f\n",
       "    core type: Variable\n",
       "    sub-expressions: \n",
       "36. (_a + a)\n",
       "    core type: ExprTuple\n",
       "    sub-expressions: 40\n",
       "37. j + 1\n",
       "    core type: Operation\n",
       "    operator: 45\n",
       "    operands: 41\n",
       "38. -i\n",
       "    core type: Operation\n",
       "    operator: 43\n",
       "    operand: 49\n",
       "39. -a\n",
       "    core type: Operation\n",
       "    operator: 43\n",
       "    operand: 51\n",
       "40. _a + a\n",
       "    core type: Operation\n",
       "    operator: 45\n",
       "    operands: 46\n",
       "41. (j, 1)\n",
       "    core type: ExprTuple\n",
       "    sub-expressions: 47, 48\n",
       "42. (i)\n",
       "    core type: ExprTuple\n",
       "    sub-expressions: 49\n",
       "43. -\n",
       "    core type: Literal\n",
       "    sub-expressions: \n",
       "44. (a)\n",
       "    core type: ExprTuple\n",
       "    sub-expressions: 51\n",
       "45. +\n",
       "    core type: Literal\n",
       "    sub-expressions: \n",
       "46. (_a, a)\n",
       "    core type: ExprTuple\n",
       "    sub-expressions: 50, 51\n",
       "47. j\n",
       "    core type: Variable\n",
       "    sub-expressions: \n",
       "48. 1\n",
       "    core type: Literal\n",
       "    sub-expressions: \n",
       "49. i\n",
       "    core type: Variable\n",
       "    sub-expressions: \n",
       "50. _a\n",
       "    core type: Variable\n",
       "    sub-expressions: \n",
       "51. a\n",
       "    core type: Variable\n",
       "    sub-expressions: "
      ]
     },
     "metadata": {},
     "output_type": "display_data"
    }
   ],
   "source": [
    "# display the expression information\n",
    "stored_expr.expr_info()"
   ]
  },
  {
   "cell_type": "code",
   "execution_count": null,
   "metadata": {},
   "outputs": [],
   "source": []
  }
 ],
 "metadata": {
  "kernelspec": {
   "display_name": "Python 3",
   "language": "python",
   "name": "python3"
  }
 },
 "nbformat": 4,
 "nbformat_minor": 0
}