{
 "cells": [
  {
   "cell_type": "markdown",
   "metadata": {},
   "source": [
    "Expression of type <a class=\"ProveItLink\" href=\"../../../../../../../doc/html/api/proveit.Lambda.html\">Lambda</a>\n",
    "=======================\n",
    "# from the theory of <a class=\"ProveItLink\" href=\"../../../_theory_nbs_/theory.ipynb\">proveit.core_expr_types.tuples</a>"
   ]
  },
  {
   "cell_type": "code",
   "execution_count": 1,
   "metadata": {},
   "outputs": [],
   "source": [
    "import proveit\n",
    "# Automation is not needed when building an expression:\n",
    "proveit.defaults.automation = False # This will speed things up.\n",
    "proveit.defaults.inline_pngs = False # Makes files smaller.\n",
    "%load_expr # Load the stored expression as 'stored_expr'\n",
    "# import Expression classes needed to build the expression\n",
    "from proveit import Conditional, Lambda, f, i, j, k\n",
    "from proveit.core_expr_types import partition_equiv\n",
    "from proveit.logic import And, InSet\n",
    "from proveit.numbers import Add, Natural, one, subtract"
   ]
  },
  {
   "cell_type": "code",
   "execution_count": 2,
   "metadata": {},
   "outputs": [
    {
     "data": {
      "text/html": [
       "<strong id=\"expr\">expr:</strong> <a class=\"ProveItLink\" href=\"expr.ipynb\"><img src=\"expr.png\" style=\"display:inline;vertical-align:middle;\" /></a><br>"
      ],
      "text/plain": [
       "<IPython.core.display.HTML object>"
      ]
     },
     "metadata": {},
     "output_type": "display_data"
    }
   ],
   "source": [
    "# build up the expression from sub-expressions\n",
    "expr = Lambda([f, i, j, k], Conditional(partition_equiv, And(InSet(subtract(Add(j, one), i), Natural), InSet(subtract(k, j), Natural))))"
   ]
  },
  {
   "cell_type": "code",
   "execution_count": 3,
   "metadata": {},
   "outputs": [
    {
     "name": "stdout",
     "output_type": "stream",
     "text": [
      "Passed sanity check: expr matches stored_expr\n"
     ]
    }
   ],
   "source": [
    "# check that the built expression is the same as the stored expression\n",
    "assert expr == stored_expr\n",
    "assert expr._style_id == stored_expr._style_id\n",
    "print(\"Passed sanity check: expr matches stored_expr\")"
   ]
  },
  {
   "cell_type": "code",
   "execution_count": 4,
   "metadata": {},
   "outputs": [
    {
     "name": "stdout",
     "output_type": "stream",
     "text": [
      "\\left(f, i, j, k\\right) \\mapsto \\left\\{\\begin{array}{c} \\begin{array}{l} \\left(f\\left(i\\right), f\\left(i + 1\\right), \\ldots, f\\left(k\\right)\\right) =  \\\\ \\left(f\\left(i\\right), f\\left(i + 1\\right), \\ldots, f\\left(j\\right),f\\left(j + 1\\right), f\\left(j + 2\\right), \\ldots, f\\left(k\\right)\\right) \\end{array} \\end{array} \\textrm{ if } \\left(\\left(j + 1\\right) - i\\right) \\in \\mathbb{N} ,  \\left(k - j\\right) \\in \\mathbb{N}\\right..\n"
     ]
    }
   ],
   "source": [
    "# Show the LaTeX representation of the expression for convenience if you need it.\n",
    "print(stored_expr.latex())"
   ]
  },
  {
   "cell_type": "code",
   "execution_count": 5,
   "metadata": {},
   "outputs": [
    {
     "data": {
      "text/html": [
       "no style options"
      ],
      "text/plain": [
       "no style options"
      ]
     },
     "metadata": {},
     "output_type": "display_data"
    }
   ],
   "source": [
    "stored_expr.style_options()"
   ]
  },
  {
   "cell_type": "code",
   "execution_count": 6,
   "metadata": {},
   "outputs": [
    {
     "data": {
      "text/html": [
       "<table><tr><th>&nbsp;</th><th>core type</th><th>sub-expressions</th><th>expression</th></tr>\n",
       "<tr><td>0</td><td>Lambda</td><td>parameters:&nbsp;1<br>body:&nbsp;2<br></td><td><a class=\"ProveItLink\" href=\"expr.ipynb\"><img src=\"expr.png\" style=\"display:inline;vertical-align:middle;\" /></a></td></tr>\n",
       "<tr><td>1</td><td>ExprTuple</td><td>26, 39, 40, 30</td><td><a class=\"ProveItLink\" href=\"../8bab20eff98fdcde4028fc5c381e2f5c29c036cb0/expr.ipynb\"><img src=\"../8bab20eff98fdcde4028fc5c381e2f5c29c036cb0/expr.png\" style=\"display:inline;vertical-align:middle;\" /></a></td></tr>\n",
       "<tr><td>2</td><td>Conditional</td><td>value:&nbsp;3<br>condition:&nbsp;4<br></td><td><a class=\"ProveItLink\" href=\"../f46908489d245ac975638d3a212e82660a55d1b40/expr.ipynb\"><img src=\"../f46908489d245ac975638d3a212e82660a55d1b40/expr.png\" style=\"display:inline;vertical-align:middle;\" /></a></td></tr>\n",
       "<tr><td>3</td><td>Operation</td><td>operator:&nbsp;5<br>operands:&nbsp;6<br></td><td><a class=\"ProveItLink\" href=\"../../../../__pv_it/common/8980b240e6e8f6e0ab68edbb6d5ed6d9416125c80/expr.ipynb\"><img src=\"../../../../__pv_it/common/8980b240e6e8f6e0ab68edbb6d5ed6d9416125c80/expr.png\" style=\"display:inline;vertical-align:middle;\" /></a></td></tr>\n",
       "<tr><td>4</td><td>Operation</td><td>operator:&nbsp;7<br>operands:&nbsp;8<br></td><td><a class=\"ProveItLink\" href=\"../c12796a19625da3c17f9bc3a23998609e38450680/expr.ipynb\"><img src=\"../c12796a19625da3c17f9bc3a23998609e38450680/expr.png\" style=\"display:inline;vertical-align:middle;\" /></a></td></tr>\n",
       "<tr><td>5</td><td>Literal</td><td></td><td><a class=\"ProveItLink\" href=\"../../../../../logic/equality/__pv_it/common/fb96dc12b2aa8801dda64d0132b396c63d1502bb0/expr.ipynb\"><img src=\"../../../../../logic/equality/__pv_it/common/fb96dc12b2aa8801dda64d0132b396c63d1502bb0/expr.png\" style=\"display:inline;vertical-align:middle;\" /></a></td></tr>\n",
       "<tr><td>6</td><td>ExprTuple</td><td>9, 10</td><td><a class=\"ProveItLink\" href=\"../../../../__pv_it/common/0938383abc98cc7e7eb797a656b48def913a028b0/expr.ipynb\"><img src=\"../../../../__pv_it/common/0938383abc98cc7e7eb797a656b48def913a028b0/expr.png\" style=\"display:inline;vertical-align:middle;\" /></a></td></tr>\n",
       "<tr><td>7</td><td>Literal</td><td></td><td><a class=\"ProveItLink\" href=\"../../../../../logic/booleans/conjunction/__pv_it/common/42118ff318bd65d98b1393f64ce7c2269feef76e0/expr.ipynb\"><img src=\"../../../../../logic/booleans/conjunction/__pv_it/common/42118ff318bd65d98b1393f64ce7c2269feef76e0/expr.png\" style=\"display:inline;vertical-align:middle;\" /></a></td></tr>\n",
       "<tr><td>8</td><td>ExprTuple</td><td>11, 12</td><td><a class=\"ProveItLink\" href=\"../b120235f48f137a15eadf1b33aa7aea1328865200/expr.ipynb\"><img src=\"../b120235f48f137a15eadf1b33aa7aea1328865200/expr.png\" style=\"display:inline;vertical-align:middle;\" /></a></td></tr>\n",
       "<tr><td>9</td><td>ExprTuple</td><td>13</td><td><a class=\"ProveItLink\" href=\"../../../../__pv_it/common/953afa1b7202a04d6e119de1378b367706793a0d0/expr.ipynb\"><img src=\"../../../../__pv_it/common/953afa1b7202a04d6e119de1378b367706793a0d0/expr.png\" style=\"display:inline;vertical-align:middle;\" /></a></td></tr>\n",
       "<tr><td>10</td><td>ExprTuple</td><td>14, 15</td><td><a class=\"ProveItLink\" href=\"../../../../__pv_it/common/a68e84c4449c196864677708d11d54363628438a0/expr.ipynb\"><img src=\"../../../../__pv_it/common/a68e84c4449c196864677708d11d54363628438a0/expr.png\" style=\"display:inline;vertical-align:middle;\" /></a></td></tr>\n",
       "<tr><td>11</td><td>Operation</td><td>operator:&nbsp;17<br>operands:&nbsp;16<br></td><td><a class=\"ProveItLink\" href=\"../a49f9d9780e8f8b2ad2bfc0d0ba1f066056651f30/expr.ipynb\"><img src=\"../a49f9d9780e8f8b2ad2bfc0d0ba1f066056651f30/expr.png\" style=\"display:inline;vertical-align:middle;\" /></a></td></tr>\n",
       "<tr><td>12</td><td>Operation</td><td>operator:&nbsp;17<br>operands:&nbsp;18<br></td><td><a class=\"ProveItLink\" href=\"../a28318e8e727c364330a7f8278a6ace5b7215d6e0/expr.ipynb\"><img src=\"../a28318e8e727c364330a7f8278a6ace5b7215d6e0/expr.png\" style=\"display:inline;vertical-align:middle;\" /></a></td></tr>\n",
       "<tr><td>13</td><td>ExprRange</td><td>lambda_map:&nbsp;19<br>start_index:&nbsp;39<br>end_index:&nbsp;30<br></td><td><a class=\"ProveItLink\" href=\"../../../../__pv_it/common/a2e2c997e63f8e1538c888a45eaa849bae4034750/expr.ipynb\"><img src=\"../../../../__pv_it/common/a2e2c997e63f8e1538c888a45eaa849bae4034750/expr.png\" style=\"display:inline;vertical-align:middle;\" /></a></td></tr>\n",
       "<tr><td>14</td><td>ExprRange</td><td>lambda_map:&nbsp;19<br>start_index:&nbsp;39<br>end_index:&nbsp;40<br></td><td><a class=\"ProveItLink\" href=\"../../../../__pv_it/common/253a5fe8886c2ac76e888f437ab1b15f51c1335e0/expr.ipynb\"><img src=\"../../../../__pv_it/common/253a5fe8886c2ac76e888f437ab1b15f51c1335e0/expr.png\" style=\"display:inline;vertical-align:middle;\" /></a></td></tr>\n",
       "<tr><td>15</td><td>ExprRange</td><td>lambda_map:&nbsp;19<br>start_index:&nbsp;28<br>end_index:&nbsp;30<br></td><td><a class=\"ProveItLink\" href=\"../../../../__pv_it/common/fbda609ada52503a137b636abd1c94a133563a3f0/expr.ipynb\"><img src=\"../../../../__pv_it/common/fbda609ada52503a137b636abd1c94a133563a3f0/expr.png\" style=\"display:inline;vertical-align:middle;\" /></a></td></tr>\n",
       "<tr><td>16</td><td>ExprTuple</td><td>20, 22</td><td><a class=\"ProveItLink\" href=\"../468936c052dd71d7665fdee2f795fc1718106ad40/expr.ipynb\"><img src=\"../468936c052dd71d7665fdee2f795fc1718106ad40/expr.png\" style=\"display:inline;vertical-align:middle;\" /></a></td></tr>\n",
       "<tr><td>17</td><td>Literal</td><td></td><td><a class=\"ProveItLink\" href=\"../../../../../logic/sets/membership/__pv_it/common/477487d8796864d23d5810f83761435f25167f690/expr.ipynb\"><img src=\"../../../../../logic/sets/membership/__pv_it/common/477487d8796864d23d5810f83761435f25167f690/expr.png\" style=\"display:inline;vertical-align:middle;\" /></a></td></tr>\n",
       "<tr><td>18</td><td>ExprTuple</td><td>21, 22</td><td><a class=\"ProveItLink\" href=\"../423521424832333bf30b09511735169f905fe1aa0/expr.ipynb\"><img src=\"../423521424832333bf30b09511735169f905fe1aa0/expr.png\" style=\"display:inline;vertical-align:middle;\" /></a></td></tr>\n",
       "<tr><td>19</td><td>Lambda</td><td>parameter:&nbsp;32<br>body:&nbsp;23<br></td><td><a class=\"ProveItLink\" href=\"../../../../__pv_it/common/85a3534ef7cc0fae4ff216233b0408e0e4a3424b0/expr.ipynb\"><img src=\"../../../../__pv_it/common/85a3534ef7cc0fae4ff216233b0408e0e4a3424b0/expr.png\" style=\"display:inline;vertical-align:middle;\" /></a></td></tr>\n",
       "<tr><td>20</td><td>Operation</td><td>operator:&nbsp;33<br>operands:&nbsp;24<br></td><td><a class=\"ProveItLink\" href=\"../590525331bb20a3217ebdffc7435439a7e691e4c0/expr.ipynb\"><img src=\"../590525331bb20a3217ebdffc7435439a7e691e4c0/expr.png\" style=\"display:inline;vertical-align:middle;\" /></a></td></tr>\n",
       "<tr><td>21</td><td>Operation</td><td>operator:&nbsp;33<br>operands:&nbsp;25<br></td><td><a class=\"ProveItLink\" href=\"../f82906e20cb06e254a5a9088c0838b633ecbedc00/expr.ipynb\"><img src=\"../f82906e20cb06e254a5a9088c0838b633ecbedc00/expr.png\" style=\"display:inline;vertical-align:middle;\" /></a></td></tr>\n",
       "<tr><td>22</td><td>Literal</td><td></td><td><a class=\"ProveItLink\" href=\"../../../../../numbers/number_sets/natural_numbers/__pv_it/common/8b7c321957f52ed3b05b36af612eeae4fa4783bc0/expr.ipynb\"><img src=\"../../../../../numbers/number_sets/natural_numbers/__pv_it/common/8b7c321957f52ed3b05b36af612eeae4fa4783bc0/expr.png\" style=\"display:inline;vertical-align:middle;\" /></a></td></tr>\n",
       "<tr><td>23</td><td>Operation</td><td>operator:&nbsp;26<br>operand:&nbsp;32<br></td><td><a class=\"ProveItLink\" href=\"../../../../__pv_it/common/1fec0eaf1cfb24a7fd0f169d6d2b28f8410bcd7c0/expr.ipynb\"><img src=\"../../../../__pv_it/common/1fec0eaf1cfb24a7fd0f169d6d2b28f8410bcd7c0/expr.png\" style=\"display:inline;vertical-align:middle;\" /></a></td></tr>\n",
       "<tr><td>24</td><td>ExprTuple</td><td>28, 29</td><td><a class=\"ProveItLink\" href=\"../214f5d727771bbec9da2102dd75f40e66945a58c0/expr.ipynb\"><img src=\"../214f5d727771bbec9da2102dd75f40e66945a58c0/expr.png\" style=\"display:inline;vertical-align:middle;\" /></a></td></tr>\n",
       "<tr><td>25</td><td>ExprTuple</td><td>30, 31</td><td><a class=\"ProveItLink\" href=\"../17059b1833669dd620f2340745c2af78c78655830/expr.ipynb\"><img src=\"../17059b1833669dd620f2340745c2af78c78655830/expr.png\" style=\"display:inline;vertical-align:middle;\" /></a></td></tr>\n",
       "<tr><td>26</td><td>Variable</td><td></td><td><a class=\"ProveItLink\" href=\"../../../../../__pv_it/common/01b6dbb444a31fc38af4c2379badef6c75b363710/expr.ipynb\"><img src=\"../../../../../__pv_it/common/01b6dbb444a31fc38af4c2379badef6c75b363710/expr.png\" style=\"display:inline;vertical-align:middle;\" /></a></td></tr>\n",
       "<tr><td>27</td><td>ExprTuple</td><td>32</td><td><a class=\"ProveItLink\" href=\"../../../../__pv_it/common/4b0dd6be36d76552eda6a95d5b4a27f5a5b62f900/expr.ipynb\"><img src=\"../../../../__pv_it/common/4b0dd6be36d76552eda6a95d5b4a27f5a5b62f900/expr.png\" style=\"display:inline;vertical-align:middle;\" /></a></td></tr>\n",
       "<tr><td>28</td><td>Operation</td><td>operator:&nbsp;33<br>operands:&nbsp;34<br></td><td><a class=\"ProveItLink\" href=\"../../../../__pv_it/common/d0273df65d133a1f8883b8a3a163ce78774ce88e0/expr.ipynb\"><img src=\"../../../../__pv_it/common/d0273df65d133a1f8883b8a3a163ce78774ce88e0/expr.png\" style=\"display:inline;vertical-align:middle;\" /></a></td></tr>\n",
       "<tr><td>29</td><td>Operation</td><td>operator:&nbsp;36<br>operand:&nbsp;39<br></td><td><a class=\"ProveItLink\" href=\"../../../../__pv_it/common/8c734d503ad1059c44c9f2e4827f47823ef862820/expr.ipynb\"><img src=\"../../../../__pv_it/common/8c734d503ad1059c44c9f2e4827f47823ef862820/expr.png\" style=\"display:inline;vertical-align:middle;\" /></a></td></tr>\n",
       "<tr><td>30</td><td>Variable</td><td></td><td><a class=\"ProveItLink\" href=\"../../../../../__pv_it/common/63b7c64bf9ec7a04ecc396c7a1670f3f12fb59490/expr.ipynb\"><img src=\"../../../../../__pv_it/common/63b7c64bf9ec7a04ecc396c7a1670f3f12fb59490/expr.png\" style=\"display:inline;vertical-align:middle;\" /></a></td></tr>\n",
       "<tr><td>31</td><td>Operation</td><td>operator:&nbsp;36<br>operand:&nbsp;40<br></td><td><a class=\"ProveItLink\" href=\"../../../../__pv_it/common/24f853fddbdbdadc19a8f07ec76ee6ccec6bd1460/expr.ipynb\"><img src=\"../../../../__pv_it/common/24f853fddbdbdadc19a8f07ec76ee6ccec6bd1460/expr.png\" style=\"display:inline;vertical-align:middle;\" /></a></td></tr>\n",
       "<tr><td>32</td><td>Variable</td><td></td><td><a class=\"ProveItLink\" href=\"../../../../__pv_it/common/006c465e50948aa2b52285e2de47974f741255cc0/expr.ipynb\"><img src=\"../../../../__pv_it/common/006c465e50948aa2b52285e2de47974f741255cc0/expr.png\" style=\"display:inline;vertical-align:middle;\" /></a></td></tr>\n",
       "<tr><td>33</td><td>Literal</td><td></td><td><a class=\"ProveItLink\" href=\"../../../../../numbers/addition/__pv_it/common/4b7effaab3619a1c2c38fe2dee8601df8ec714590/expr.ipynb\"><img src=\"../../../../../numbers/addition/__pv_it/common/4b7effaab3619a1c2c38fe2dee8601df8ec714590/expr.png\" style=\"display:inline;vertical-align:middle;\" /></a></td></tr>\n",
       "<tr><td>34</td><td>ExprTuple</td><td>40, 38</td><td><a class=\"ProveItLink\" href=\"../../../../__pv_it/common/8b6ed1fad73893e4ad1245f0c4137f5451742f770/expr.ipynb\"><img src=\"../../../../__pv_it/common/8b6ed1fad73893e4ad1245f0c4137f5451742f770/expr.png\" style=\"display:inline;vertical-align:middle;\" /></a></td></tr>\n",
       "<tr><td>35</td><td>ExprTuple</td><td>39</td><td><a class=\"ProveItLink\" href=\"../../../../__pv_it/common/0fc33550aa9740010879fdf30c320b63ba918eff0/expr.ipynb\"><img src=\"../../../../__pv_it/common/0fc33550aa9740010879fdf30c320b63ba918eff0/expr.png\" style=\"display:inline;vertical-align:middle;\" /></a></td></tr>\n",
       "<tr><td>36</td><td>Literal</td><td></td><td><a class=\"ProveItLink\" href=\"../../../../../numbers/negation/__pv_it/common/221b3c4d1770ee9051b7c044c3f9ec61196fc34b0/expr.ipynb\"><img src=\"../../../../../numbers/negation/__pv_it/common/221b3c4d1770ee9051b7c044c3f9ec61196fc34b0/expr.png\" style=\"display:inline;vertical-align:middle;\" /></a></td></tr>\n",
       "<tr><td>37</td><td>ExprTuple</td><td>40</td><td><a class=\"ProveItLink\" href=\"../../../../__pv_it/common/e53e75ee8364373a10f420a7f9184b4cb67637be0/expr.ipynb\"><img src=\"../../../../__pv_it/common/e53e75ee8364373a10f420a7f9184b4cb67637be0/expr.png\" style=\"display:inline;vertical-align:middle;\" /></a></td></tr>\n",
       "<tr><td>38</td><td>Literal</td><td></td><td><a class=\"ProveItLink\" href=\"../../../../../numbers/numerals/__pv_it/common/682157d4892d216d9e5626ed533aff9b56b9506e0/expr.ipynb\"><img src=\"../../../../../numbers/numerals/__pv_it/common/682157d4892d216d9e5626ed533aff9b56b9506e0/expr.png\" style=\"display:inline;vertical-align:middle;\" /></a></td></tr>\n",
       "<tr><td>39</td><td>Variable</td><td></td><td><a class=\"ProveItLink\" href=\"../../../../../__pv_it/common/ae955345c83abf786c3aff8681cd5465beae262d0/expr.ipynb\"><img src=\"../../../../../__pv_it/common/ae955345c83abf786c3aff8681cd5465beae262d0/expr.png\" style=\"display:inline;vertical-align:middle;\" /></a></td></tr>\n",
       "<tr><td>40</td><td>Variable</td><td></td><td><a class=\"ProveItLink\" href=\"../../../../../__pv_it/common/1ed21df18baca2f42b561a7ffbf30a2743d594650/expr.ipynb\"><img src=\"../../../../../__pv_it/common/1ed21df18baca2f42b561a7ffbf30a2743d594650/expr.png\" style=\"display:inline;vertical-align:middle;\" /></a></td></tr>\n",
       "</table>\n"
      ],
      "text/plain": [
       "0. (f, i, j, k) -> {(f(i), f(i + 1), ..., f(k)) =  \\\\ (f(i), f(i + 1), ..., f(j),f(j + 1), f(j + 2), ..., f(k)) if ((j + 1) - i) in Natural ,  (k - j) in Natural.\n",
       "   core type: Lambda\n",
       "   parameters: 1\\n   body: 2\n",
       "1. (f, i, j, k)\n",
       "   core type: ExprTuple\n",
       "   sub-expressions: 26, 39, 40, 30\n",
       "2. {(f(i), f(i + 1), ..., f(k)) =  \\\\ (f(i), f(i + 1), ..., f(j),f(j + 1), f(j + 2), ..., f(k)) if ((j + 1) - i) in Natural ,  (k - j) in Natural.\n",
       "   core type: Conditional\n",
       "   value: 3\n",
       "   condition: 4\n",
       "3. (f(i), f(i + 1), ..., f(k)) =  \\\\ (f(i), f(i + 1), ..., f(j),f(j + 1), f(j + 2), ..., f(k))\n",
       "   core type: Operation\n",
       "   operator: 5\n",
       "   operands: 6\n",
       "4. (((j + 1) - i) in Natural) and ((k - j) in Natural)\n",
       "   core type: Operation\n",
       "   operator: 7\n",
       "   operands: 8\n",
       "5. =\n",
       "   core type: Literal\n",
       "   sub-expressions: \n",
       "6. ((f(i), f(i + 1), ..., f(k)), (f(i), f(i + 1), ..., f(j),f(j + 1), f(j + 2), ..., f(k)))\n",
       "   core type: ExprTuple\n",
       "   sub-expressions: 9, 10\n",
       "7. and\n",
       "   core type: Literal\n",
       "   sub-expressions: \n",
       "8. (((j + 1) - i) in Natural, (k - j) in Natural)\n",
       "   core type: ExprTuple\n",
       "   sub-expressions: 11, 12\n",
       "9. (f(i), f(i + 1), ..., f(k))\n",
       "   core type: ExprTuple\n",
       "   sub-expressions: 13\n",
       "10. (f(i), f(i + 1), ..., f(j),f(j + 1), f(j + 2), ..., f(k))\n",
       "    core type: ExprTuple\n",
       "    sub-expressions: 14, 15\n",
       "11. ((j + 1) - i) in Natural\n",
       "    core type: Operation\n",
       "    operator: 17\n",
       "    operands: 16\n",
       "12. (k - j) in Natural\n",
       "    core type: Operation\n",
       "    operator: 17\n",
       "    operands: 18\n",
       "13. f(i), f(i + 1), ..., f(k)\n",
       "    core type: ExprRange\n",
       "    lambda_map: 19\n",
       "    start_index: 39\n",
       "    end_index: 30\n",
       "14. f(i), f(i + 1), ..., f(j)\n",
       "    core type: ExprRange\n",
       "    lambda_map: 19\n",
       "    start_index: 39\n",
       "    end_index: 40\n",
       "15. f(j + 1), f(j + 2), ..., f(k)\n",
       "    core type: ExprRange\n",
       "    lambda_map: 19\n",
       "    start_index: 28\n",
       "    end_index: 30\n",
       "16. ((j + 1) - i, Natural)\n",
       "    core type: ExprTuple\n",
       "    sub-expressions: 20, 22\n",
       "17. in\n",
       "    core type: Literal\n",
       "    sub-expressions: \n",
       "18. (k - j, Natural)\n",
       "    core type: ExprTuple\n",
       "    sub-expressions: 21, 22\n",
       "19. _a -> f(_a)\n",
       "    core type: Lambda\n",
       "    parameter: 32\n",
       "    body: 23\n",
       "20. (j + 1) - i\n",
       "    core type: Operation\n",
       "    operator: 33\n",
       "    operands: 24\n",
       "21. k - j\n",
       "    core type: Operation\n",
       "    operator: 33\n",
       "    operands: 25\n",
       "22. Natural\n",
       "    core type: Literal\n",
       "    sub-expressions: \n",
       "23. f(_a)\n",
       "    core type: Operation\n",
       "    operator: 26\n",
       "    operand: 32\n",
       "24. (j + 1, -i)\n",
       "    core type: ExprTuple\n",
       "    sub-expressions: 28, 29\n",
       "25. (k, -j)\n",
       "    core type: ExprTuple\n",
       "    sub-expressions: 30, 31\n",
       "26. f\n",
       "    core type: Variable\n",
       "    sub-expressions: \n",
       "27. (_a)\n",
       "    core type: ExprTuple\n",
       "    sub-expressions: 32\n",
       "28. j + 1\n",
       "    core type: Operation\n",
       "    operator: 33\n",
       "    operands: 34\n",
       "29. -i\n",
       "    core type: Operation\n",
       "    operator: 36\n",
       "    operand: 39\n",
       "30. k\n",
       "    core type: Variable\n",
       "    sub-expressions: \n",
       "31. -j\n",
       "    core type: Operation\n",
       "    operator: 36\n",
       "    operand: 40\n",
       "32. _a\n",
       "    core type: Variable\n",
       "    sub-expressions: \n",
       "33. +\n",
       "    core type: Literal\n",
       "    sub-expressions: \n",
       "34. (j, 1)\n",
       "    core type: ExprTuple\n",
       "    sub-expressions: 40, 38\n",
       "35. (i)\n",
       "    core type: ExprTuple\n",
       "    sub-expressions: 39\n",
       "36. -\n",
       "    core type: Literal\n",
       "    sub-expressions: \n",
       "37. (j)\n",
       "    core type: ExprTuple\n",
       "    sub-expressions: 40\n",
       "38. 1\n",
       "    core type: Literal\n",
       "    sub-expressions: \n",
       "39. i\n",
       "    core type: Variable\n",
       "    sub-expressions: \n",
       "40. j\n",
       "    core type: Variable\n",
       "    sub-expressions: "
      ]
     },
     "metadata": {},
     "output_type": "display_data"
    }
   ],
   "source": [
    "# display the expression information\n",
    "stored_expr.expr_info()"
   ]
  },
  {
   "cell_type": "code",
   "execution_count": null,
   "metadata": {},
   "outputs": [],
   "source": []
  }
 ],
 "metadata": {
  "kernelspec": {
   "display_name": "Python 3",
   "language": "python",
   "name": "python3"
  }
 },
 "nbformat": 4,
 "nbformat_minor": 0
}