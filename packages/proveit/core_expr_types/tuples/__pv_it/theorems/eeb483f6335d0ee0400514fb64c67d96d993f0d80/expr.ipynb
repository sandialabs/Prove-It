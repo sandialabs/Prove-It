{
 "cells": [
  {
   "cell_type": "markdown",
   "metadata": {},
   "source": [
    "Expression of type <a class=\"ProveItLink\" href=\"../../../../../../../doc/html/api/proveit.logic.And.html\">And</a>\n",
    "=======================\n",
    "# from the theory of <a class=\"ProveItLink\" href=\"../../../_theory_nbs_/theory.ipynb\">proveit.core_expr_types.tuples</a>"
   ]
  },
  {
   "cell_type": "code",
   "execution_count": 1,
   "metadata": {},
   "outputs": [],
   "source": [
    "import proveit\n",
    "# Automation is not needed when building an expression:\n",
    "proveit.defaults.automation = False # This will speed things up.\n",
    "proveit.defaults.inline_pngs = False # Makes files smaller.\n",
    "%load_expr # Load the stored expression as 'stored_expr'\n",
    "# import Expression classes needed to build the expression\n",
    "from proveit.core_expr_types import merge_series_conditions\n",
    "from proveit.logic import And"
   ]
  },
  {
   "cell_type": "code",
   "execution_count": 2,
   "metadata": {},
   "outputs": [
    {
     "data": {
      "text/html": [
       "<strong id=\"expr\">expr:</strong> <a class=\"ProveItLink\" href=\"expr.ipynb\"><img src=\"expr.png\" style=\"display:inline;vertical-align:middle;\" /></a><br>"
      ],
      "text/plain": [
       "<IPython.core.display.HTML object>"
      ]
     },
     "metadata": {},
     "output_type": "display_data"
    }
   ],
   "source": [
    "# build up the expression from sub-expressions\n",
    "expr = And(merge_series_conditions)"
   ]
  },
  {
   "cell_type": "code",
   "execution_count": 3,
   "metadata": {},
   "outputs": [
    {
     "name": "stdout",
     "output_type": "stream",
     "text": [
      "Passed sanity check: expr matches stored_expr\n"
     ]
    }
   ],
   "source": [
    "# check that the built expression is the same as the stored expression\n",
    "assert expr == stored_expr\n",
    "assert expr._style_id == stored_expr._style_id\n",
    "print(\"Passed sanity check: expr matches stored_expr\")"
   ]
  },
  {
   "cell_type": "code",
   "execution_count": 4,
   "metadata": {},
   "outputs": [
    {
     "name": "stdout",
     "output_type": "stream",
     "text": [
      "\\left(x_{0} = f\\left(i + 0\\right)\\right) \\land  \\left(x_{1} = f\\left(i + 1\\right)\\right) \\land  \\ldots \\land  \\left(x_{j - i} = f\\left(i + \\left(j - i\\right)\\right)\\right)\n"
     ]
    }
   ],
   "source": [
    "# Show the LaTeX representation of the expression for convenience if you need it.\n",
    "print(stored_expr.latex())"
   ]
  },
  {
   "cell_type": "code",
   "execution_count": 5,
   "metadata": {},
   "outputs": [
    {
     "data": {
      "text/html": [
       "<table>\n",
       "<tr><th>name</th><th>description</th><th>default</th><th>current value</th><th>related methods</th></tr><tr><td>operation</td><td>'infix' or 'function' style formatting</td><td>infix</td><td>infix</td><td></td></tr>\n",
       "<tr><td>wrap_positions</td><td>position(s) at which wrapping is to occur; '2 n - 1' is after the nth operand, '2 n' is after the nth operation.</td><td>()</td><td>()</td><td>('with_wrapping_at', 'with_wrap_before_operator', 'with_wrap_after_operator', 'without_wrapping', 'wrap_positions')</td></tr>\n",
       "<tr><td>justification</td><td>if any wrap positions are set, justify to the 'left', 'center', or 'right'</td><td>center</td><td>center</td><td>('with_justification',)</td></tr>\n",
       "</table>\n"
      ],
      "text/plain": [
       "style name: operation\n",
       "description: 'infix' or 'function' style formatting\n",
       "default: infix\n",
       "current value: infix\n",
       "related methods: ()\n",
       "style name: wrap_positions\n",
       "description: position(s) at which wrapping is to occur; '2 n - 1' is after the nth operand, '2 n' is after the nth operation.\n",
       "default: ()\n",
       "current value: ()\n",
       "related methods: ('with_wrapping_at', 'with_wrap_before_operator', 'with_wrap_after_operator', 'without_wrapping', 'wrap_positions')\n",
       "style name: justification\n",
       "description: if any wrap positions are set, justify to the 'left', 'center', or 'right'\n",
       "default: center\n",
       "current value: center\n",
       "related methods: ('with_justification',)"
      ]
     },
     "metadata": {},
     "output_type": "display_data"
    }
   ],
   "source": [
    "stored_expr.style_options()"
   ]
  },
  {
   "cell_type": "code",
   "execution_count": 6,
   "metadata": {},
   "outputs": [
    {
     "data": {
      "text/html": [
       "<table><tr><th>&nbsp;</th><th>core type</th><th>sub-expressions</th><th>expression</th></tr>\n",
       "<tr><td>0</td><td>Operation</td><td>operator:&nbsp;1<br>operands:&nbsp;2<br></td><td><a class=\"ProveItLink\" href=\"expr.ipynb\"><img src=\"expr.png\" style=\"display:inline;vertical-align:middle;\" /></a></td></tr>\n",
       "<tr><td>1</td><td>Literal</td><td></td><td><a class=\"ProveItLink\" href=\"../../../../../logic/booleans/conjunction/__pv_it/common/42118ff318bd65d98b1393f64ce7c2269feef76e0/expr.ipynb\"><img src=\"../../../../../logic/booleans/conjunction/__pv_it/common/42118ff318bd65d98b1393f64ce7c2269feef76e0/expr.png\" style=\"display:inline;vertical-align:middle;\" /></a></td></tr>\n",
       "<tr><td>2</td><td>ExprTuple</td><td>3</td><td><a class=\"ProveItLink\" href=\"../a4714a9083a62579a093d21e4fd25ece67aadfe10/expr.ipynb\"><img src=\"../a4714a9083a62579a093d21e4fd25ece67aadfe10/expr.png\" style=\"display:inline;vertical-align:middle;\" /></a></td></tr>\n",
       "<tr><td>3</td><td>ExprRange</td><td>lambda_map:&nbsp;4<br>start_index:&nbsp;5<br>end_index:&nbsp;6<br></td><td><a class=\"ProveItLink\" href=\"../../../../__pv_it/common/9fbb7eeee9cdead97cdea051410271330a6508b80/expr.ipynb\"><img src=\"../../../../__pv_it/common/9fbb7eeee9cdead97cdea051410271330a6508b80/expr.png\" style=\"display:inline;vertical-align:middle;\" /></a></td></tr>\n",
       "<tr><td>4</td><td>Lambda</td><td>parameter:&nbsp;25<br>body:&nbsp;7<br></td><td><a class=\"ProveItLink\" href=\"../../../../__pv_it/common/18e39f197949fac18bd853b53fdad86e5df979d90/expr.ipynb\"><img src=\"../../../../__pv_it/common/18e39f197949fac18bd853b53fdad86e5df979d90/expr.png\" style=\"display:inline;vertical-align:middle;\" /></a></td></tr>\n",
       "<tr><td>5</td><td>Literal</td><td></td><td><a class=\"ProveItLink\" href=\"../../../../../numbers/numerals/__pv_it/common/dd4e19e8b134dfb293470ea55fe3589b0ab9f8040/expr.ipynb\"><img src=\"../../../../../numbers/numerals/__pv_it/common/dd4e19e8b134dfb293470ea55fe3589b0ab9f8040/expr.png\" style=\"display:inline;vertical-align:middle;\" /></a></td></tr>\n",
       "<tr><td>6</td><td>Operation</td><td>operator:&nbsp;22<br>operands:&nbsp;8<br></td><td><a class=\"ProveItLink\" href=\"../../../../__pv_it/common/145310e06cceecc2c582a9e19e4f0cd9c49e84130/expr.ipynb\"><img src=\"../../../../__pv_it/common/145310e06cceecc2c582a9e19e4f0cd9c49e84130/expr.png\" style=\"display:inline;vertical-align:middle;\" /></a></td></tr>\n",
       "<tr><td>7</td><td>Operation</td><td>operator:&nbsp;9<br>operands:&nbsp;10<br></td><td><a class=\"ProveItLink\" href=\"../../../../__pv_it/common/fb5c6f4ac6ee63902002cfc9ea94dd5383d6b2be0/expr.ipynb\"><img src=\"../../../../__pv_it/common/fb5c6f4ac6ee63902002cfc9ea94dd5383d6b2be0/expr.png\" style=\"display:inline;vertical-align:middle;\" /></a></td></tr>\n",
       "<tr><td>8</td><td>ExprTuple</td><td>11, 12</td><td><a class=\"ProveItLink\" href=\"../../../../__pv_it/common/d65ae6a57e3d81ea5d8cecf6c36bb4590c6e4e2d0/expr.ipynb\"><img src=\"../../../../__pv_it/common/d65ae6a57e3d81ea5d8cecf6c36bb4590c6e4e2d0/expr.png\" style=\"display:inline;vertical-align:middle;\" /></a></td></tr>\n",
       "<tr><td>9</td><td>Literal</td><td></td><td><a class=\"ProveItLink\" href=\"../../../../../logic/equality/__pv_it/common/fb96dc12b2aa8801dda64d0132b396c63d1502bb0/expr.ipynb\"><img src=\"../../../../../logic/equality/__pv_it/common/fb96dc12b2aa8801dda64d0132b396c63d1502bb0/expr.png\" style=\"display:inline;vertical-align:middle;\" /></a></td></tr>\n",
       "<tr><td>10</td><td>ExprTuple</td><td>13, 14</td><td><a class=\"ProveItLink\" href=\"../../../../__pv_it/common/7630bfc6ed54352dd25e8436d113f27c30c3eb6a0/expr.ipynb\"><img src=\"../../../../__pv_it/common/7630bfc6ed54352dd25e8436d113f27c30c3eb6a0/expr.png\" style=\"display:inline;vertical-align:middle;\" /></a></td></tr>\n",
       "<tr><td>11</td><td>Variable</td><td></td><td><a class=\"ProveItLink\" href=\"../../../../../__pv_it/common/1ed21df18baca2f42b561a7ffbf30a2743d594650/expr.ipynb\"><img src=\"../../../../../__pv_it/common/1ed21df18baca2f42b561a7ffbf30a2743d594650/expr.png\" style=\"display:inline;vertical-align:middle;\" /></a></td></tr>\n",
       "<tr><td>12</td><td>Operation</td><td>operator:&nbsp;15<br>operand:&nbsp;24<br></td><td><a class=\"ProveItLink\" href=\"../../../../__pv_it/common/8c734d503ad1059c44c9f2e4827f47823ef862820/expr.ipynb\"><img src=\"../../../../__pv_it/common/8c734d503ad1059c44c9f2e4827f47823ef862820/expr.png\" style=\"display:inline;vertical-align:middle;\" /></a></td></tr>\n",
       "<tr><td>13</td><td>IndexedVar</td><td>variable:&nbsp;17<br>index:&nbsp;25<br></td><td><a class=\"ProveItLink\" href=\"../../../../__pv_it/common/b7a46615d4e67a28ab963909b818c72af8e8e7c60/expr.ipynb\"><img src=\"../../../../__pv_it/common/b7a46615d4e67a28ab963909b818c72af8e8e7c60/expr.png\" style=\"display:inline;vertical-align:middle;\" /></a></td></tr>\n",
       "<tr><td>14</td><td>Operation</td><td>operator:&nbsp;19<br>operand:&nbsp;21<br></td><td><a class=\"ProveItLink\" href=\"../../../../__pv_it/common/11dbabd2249620ea6debb1df28e696be6caac5880/expr.ipynb\"><img src=\"../../../../__pv_it/common/11dbabd2249620ea6debb1df28e696be6caac5880/expr.png\" style=\"display:inline;vertical-align:middle;\" /></a></td></tr>\n",
       "<tr><td>15</td><td>Literal</td><td></td><td><a class=\"ProveItLink\" href=\"../../../../../numbers/negation/__pv_it/common/221b3c4d1770ee9051b7c044c3f9ec61196fc34b0/expr.ipynb\"><img src=\"../../../../../numbers/negation/__pv_it/common/221b3c4d1770ee9051b7c044c3f9ec61196fc34b0/expr.png\" style=\"display:inline;vertical-align:middle;\" /></a></td></tr>\n",
       "<tr><td>16</td><td>ExprTuple</td><td>24</td><td><a class=\"ProveItLink\" href=\"../../../../__pv_it/common/0fc33550aa9740010879fdf30c320b63ba918eff0/expr.ipynb\"><img src=\"../../../../__pv_it/common/0fc33550aa9740010879fdf30c320b63ba918eff0/expr.png\" style=\"display:inline;vertical-align:middle;\" /></a></td></tr>\n",
       "<tr><td>17</td><td>Variable</td><td></td><td><a class=\"ProveItLink\" href=\"../../../../../__pv_it/common/a0d9d672aa5e272d907247690c152cc2c6daafb70/expr.ipynb\"><img src=\"../../../../../__pv_it/common/a0d9d672aa5e272d907247690c152cc2c6daafb70/expr.png\" style=\"display:inline;vertical-align:middle;\" /></a></td></tr>\n",
       "<tr><td>18</td><td>ExprTuple</td><td>25</td><td><a class=\"ProveItLink\" href=\"../../../../__pv_it/common/4b0dd6be36d76552eda6a95d5b4a27f5a5b62f900/expr.ipynb\"><img src=\"../../../../__pv_it/common/4b0dd6be36d76552eda6a95d5b4a27f5a5b62f900/expr.png\" style=\"display:inline;vertical-align:middle;\" /></a></td></tr>\n",
       "<tr><td>19</td><td>Variable</td><td></td><td><a class=\"ProveItLink\" href=\"../../../../../__pv_it/common/01b6dbb444a31fc38af4c2379badef6c75b363710/expr.ipynb\"><img src=\"../../../../../__pv_it/common/01b6dbb444a31fc38af4c2379badef6c75b363710/expr.png\" style=\"display:inline;vertical-align:middle;\" /></a></td></tr>\n",
       "<tr><td>20</td><td>ExprTuple</td><td>21</td><td><a class=\"ProveItLink\" href=\"../../../../__pv_it/common/32e05c442ecc3bab77fb7577298c747376eecda80/expr.ipynb\"><img src=\"../../../../__pv_it/common/32e05c442ecc3bab77fb7577298c747376eecda80/expr.png\" style=\"display:inline;vertical-align:middle;\" /></a></td></tr>\n",
       "<tr><td>21</td><td>Operation</td><td>operator:&nbsp;22<br>operands:&nbsp;23<br></td><td><a class=\"ProveItLink\" href=\"../../../../__pv_it/common/a0a0aeeef34e6248752c27ce550cb0ab6c23a6470/expr.ipynb\"><img src=\"../../../../__pv_it/common/a0a0aeeef34e6248752c27ce550cb0ab6c23a6470/expr.png\" style=\"display:inline;vertical-align:middle;\" /></a></td></tr>\n",
       "<tr><td>22</td><td>Literal</td><td></td><td><a class=\"ProveItLink\" href=\"../../../../../numbers/addition/__pv_it/common/4b7effaab3619a1c2c38fe2dee8601df8ec714590/expr.ipynb\"><img src=\"../../../../../numbers/addition/__pv_it/common/4b7effaab3619a1c2c38fe2dee8601df8ec714590/expr.png\" style=\"display:inline;vertical-align:middle;\" /></a></td></tr>\n",
       "<tr><td>23</td><td>ExprTuple</td><td>24, 25</td><td><a class=\"ProveItLink\" href=\"../../../../__pv_it/common/362fd48e25d306de7505a9835d269463f90c6a550/expr.ipynb\"><img src=\"../../../../__pv_it/common/362fd48e25d306de7505a9835d269463f90c6a550/expr.png\" style=\"display:inline;vertical-align:middle;\" /></a></td></tr>\n",
       "<tr><td>24</td><td>Variable</td><td></td><td><a class=\"ProveItLink\" href=\"../../../../../__pv_it/common/ae955345c83abf786c3aff8681cd5465beae262d0/expr.ipynb\"><img src=\"../../../../../__pv_it/common/ae955345c83abf786c3aff8681cd5465beae262d0/expr.png\" style=\"display:inline;vertical-align:middle;\" /></a></td></tr>\n",
       "<tr><td>25</td><td>Variable</td><td></td><td><a class=\"ProveItLink\" href=\"../../../../__pv_it/common/006c465e50948aa2b52285e2de47974f741255cc0/expr.ipynb\"><img src=\"../../../../__pv_it/common/006c465e50948aa2b52285e2de47974f741255cc0/expr.png\" style=\"display:inline;vertical-align:middle;\" /></a></td></tr>\n",
       "</table>\n"
      ],
      "text/plain": [
       "0. (x_{0} = f(i + 0)) and  (x_{1} = f(i + 1)) and  ... and  (x_{j - i} = f(i + (j - i)))\n",
       "   core type: Operation\n",
       "   operator: 1\n",
       "   operands: 2\n",
       "1. and\n",
       "   core type: Literal\n",
       "   sub-expressions: \n",
       "2. ((x_{0} = f(i + 0)), (x_{1} = f(i + 1)), ..., (x_{j - i} = f(i + (j - i))))\n",
       "   core type: ExprTuple\n",
       "   sub-expressions: 3\n",
       "3. (x_{0} = f(i + 0)), (x_{1} = f(i + 1)), ..., (x_{j - i} = f(i + (j - i)))\n",
       "   core type: ExprRange\n",
       "   lambda_map: 4\n",
       "   start_index: 5\n",
       "   end_index: 6\n",
       "4. _a -> (x_{_a} = f(i + _a))\n",
       "   core type: Lambda\n",
       "   parameter: 25\n",
       "   body: 7\n",
       "5. 0\n",
       "   core type: Literal\n",
       "   sub-expressions: \n",
       "6. j - i\n",
       "   core type: Operation\n",
       "   operator: 22\n",
       "   operands: 8\n",
       "7. x_{_a} = f(i + _a)\n",
       "   core type: Operation\n",
       "   operator: 9\n",
       "   operands: 10\n",
       "8. (j, -i)\n",
       "   core type: ExprTuple\n",
       "   sub-expressions: 11, 12\n",
       "9. =\n",
       "   core type: Literal\n",
       "   sub-expressions: \n",
       "10. (x_{_a}, f(i + _a))\n",
       "    core type: ExprTuple\n",
       "    sub-expressions: 13, 14\n",
       "11. j\n",
       "    core type: Variable\n",
       "    sub-expressions: \n",
       "12. -i\n",
       "    core type: Operation\n",
       "    operator: 15\n",
       "    operand: 24\n",
       "13. x_{_a}\n",
       "    core type: IndexedVar\n",
       "variable: 17\n",
       "index: 25\n",
       "14. f(i + _a)\n",
       "    core type: Operation\n",
       "    operator: 19\n",
       "    operand: 21\n",
       "15. -\n",
       "    core type: Literal\n",
       "    sub-expressions: \n",
       "16. (i)\n",
       "    core type: ExprTuple\n",
       "    sub-expressions: 24\n",
       "17. x\n",
       "    core type: Variable\n",
       "    sub-expressions: \n",
       "18. (_a)\n",
       "    core type: ExprTuple\n",
       "    sub-expressions: 25\n",
       "19. f\n",
       "    core type: Variable\n",
       "    sub-expressions: \n",
       "20. (i + _a)\n",
       "    core type: ExprTuple\n",
       "    sub-expressions: 21\n",
       "21. i + _a\n",
       "    core type: Operation\n",
       "    operator: 22\n",
       "    operands: 23\n",
       "22. +\n",
       "    core type: Literal\n",
       "    sub-expressions: \n",
       "23. (i, _a)\n",
       "    core type: ExprTuple\n",
       "    sub-expressions: 24, 25\n",
       "24. i\n",
       "    core type: Variable\n",
       "    sub-expressions: \n",
       "25. _a\n",
       "    core type: Variable\n",
       "    sub-expressions: "
      ]
     },
     "metadata": {},
     "output_type": "display_data"
    }
   ],
   "source": [
    "# display the expression information\n",
    "stored_expr.expr_info()"
   ]
  },
  {
   "cell_type": "code",
   "execution_count": null,
   "metadata": {},
   "outputs": [],
   "source": []
  }
 ],
 "metadata": {
  "kernelspec": {
   "display_name": "Python 3",
   "language": "python",
   "name": "python3"
  }
 },
 "nbformat": 4,
 "nbformat_minor": 0
}