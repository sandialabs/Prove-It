{
 "cells": [
  {
   "cell_type": "markdown",
   "metadata": {},
   "source": [
    "Theorems (or conjectures) for the theory of <a class=\"ProveItLink\" href=\"theory.ipynb\">proveit.core_expr_types.tuples</a>\n",
    "========"
   ]
  },
  {
   "cell_type": "code",
   "execution_count": null,
   "metadata": {},
   "outputs": [],
   "source": [
    "import proveit\n",
    "# Prepare this notebook for defining the theorems of a theory:\n",
    "%theorems_notebook # Keep this at the top following 'import proveit'.\n",
    "from proveit import ExprTuple, ExprRange, IndexedVar, Function, var_range\n",
    "from proveit import a, b, c, d, f, g, i, j, k, l, m, n, x, y, fab\n",
    "from proveit.core_expr_types import Len\n",
    "from proveit.core_expr_types import \\\n",
    "   (range_1_to_i, range_1_to_ip1, range_i_to_j, range_i_to_jp1,\n",
    "    a_1_to_i, b_1_to_i, b_1_to_j, c_1_to_i, c_1_to_k, d_1_to_j, fi, fj, f_jp1, fk,\n",
    "    f_1_to_i, f_i_to_j, gk, g_i_to_j, i_to_j_len, j_to_k_len,\n",
    "    f_1_to_n, i_1_to_n, j_1_to_n, x_1_to_k, y_1_to_l, x_0_to_jmi,\n",
    "    concat_len_equiv, concat_len_simple_equiv, iter_ext_equiv,\n",
    "    partition_equiv, merge_equiv,\n",
    "    partition_front_equiv, merge_front_equiv,\n",
    "    partition_back_equiv, merge_back_equiv,\n",
    "    merge_series_conditions, merge_series_equiv)\n",
    "from proveit.core_expr_types.tuples import \\\n",
    "    (f_i_to_j__1_to_n, f_1_to_i__1_to_n, f_ik_to_jk__1_to_n, fk_i_to_j,\n",
    "     general_range_of_ranges, range_len_conditions, range_len_sum, shift_equiv, neg_shift_equiv, shift_equiv_both, neg_shift_equiv_both)\n",
    "from proveit.logic import Forall, Equals, NotEquals, And, Or, InSet, Implies\n",
    "from proveit.numbers import (Natural, NaturalPos, Integer, Add, Neg,\n",
    "                            Mult, zero, one, two, subtract, Interval)"
   ]
  },
  {
   "cell_type": "code",
   "execution_count": null,
   "metadata": {},
   "outputs": [],
   "source": [
    "%begin theorems"
   ]
  },
  {
   "cell_type": "code",
   "execution_count": null,
   "metadata": {},
   "outputs": [],
   "source": [
    "singular_range_reduction = Forall((f, i, j), Equals(ExprTuple(f_i_to_j), \n",
    "                                           ExprTuple(Function(f, i))),\n",
    "                                  conditions=[Equals(i, j)])"
   ]
  },
  {
   "cell_type": "code",
   "execution_count": null,
   "metadata": {},
   "outputs": [],
   "source": [
    "tuple_len_0_typical_eq = Equals(Len([]), Len([ExprRange(a, a, one, zero)]))"
   ]
  },
  {
   "cell_type": "code",
   "execution_count": null,
   "metadata": {},
   "outputs": [],
   "source": [
    "tuple_len = Forall(i, Forall(a_1_to_i, \n",
    "                             Equals(Len([a_1_to_i]), i)),\n",
    "                   domain=Natural)"
   ]
  },
  {
   "cell_type": "code",
   "execution_count": null,
   "metadata": {},
   "outputs": [],
   "source": [
    "range_len = Forall((f, i, j), \n",
    "                   Equals(Len([f_i_to_j]), i_to_j_len),\n",
    "                   conditions=InSet(i_to_j_len, Natural))"
   ]
  },
  {
   "cell_type": "code",
   "execution_count": null,
   "metadata": {},
   "outputs": [],
   "source": [
    "range_len_typical_eq = Forall((f, i, j), \n",
    "                                 Equals(Len([f_i_to_j]), Len(range_i_to_j)),\n",
    "                                 conditions=InSet(i_to_j_len, Natural))"
   ]
  },
  {
   "cell_type": "code",
   "execution_count": null,
   "metadata": {},
   "outputs": [],
   "source": [
    "range_len_is_nat = Forall((f, i, j), \n",
    "                           InSet(Len([f_i_to_j]), Natural),\n",
    "                           conditions=InSet(i_to_j_len, Natural))"
   ]
  },
  {
   "cell_type": "code",
   "execution_count": null,
   "metadata": {},
   "outputs": [],
   "source": [
    "range_from1_len = Forall(i, Forall(f, Equals(Len([f_1_to_i]), i)),\n",
    "                         domain=Natural)"
   ]
  },
  {
   "cell_type": "code",
   "execution_count": null,
   "metadata": {},
   "outputs": [],
   "source": [
    "range_from1_len_typical_eq = Forall(i, Forall(f, Equals(Len([f_1_to_i]), \n",
    "                                                           Len(range_1_to_i))),\n",
    "                                       domain=Natural)"
   ]
  },
  {
   "cell_type": "code",
   "execution_count": null,
   "metadata": {},
   "outputs": [],
   "source": [
    "range_from1_len_is_nat = Forall(i, Forall(f, \n",
    "                                           InSet(Len([f_1_to_i]), Natural)),\n",
    "                                 domain=Natural)"
   ]
  },
  {
   "cell_type": "code",
   "execution_count": null,
   "metadata": {},
   "outputs": [],
   "source": [
    "extended_range_len = Forall((f, x), Forall((i, j), \n",
    "                                      Equals(Len([f_i_to_j, x]),\n",
    "                                             Add(j, Neg(i), two)),\n",
    "                                      conditions=[InSet(Len(f_i_to_j), Natural)]))"
   ]
  },
  {
   "cell_type": "code",
   "execution_count": null,
   "metadata": {},
   "outputs": [],
   "source": [
    "extended_range_len_typical_eq = \\\n",
    "    Forall((f, x), Forall((i, j), Equals(Len([f_i_to_j, x]), Len(range_i_to_jp1)),\n",
    "                     conditions=[InSet(Len(f_i_to_j), Natural)]))"
   ]
  },
  {
   "cell_type": "code",
   "execution_count": null,
   "metadata": {},
   "outputs": [],
   "source": [
    "extended_range_from1_len = Forall(i, Forall((f, x), Equals(Len([f_1_to_i, x]), \n",
    "                                                           Add(i, one))),\n",
    "                                  domain=Natural)"
   ]
  },
  {
   "cell_type": "code",
   "execution_count": null,
   "metadata": {},
   "outputs": [],
   "source": [
    "extended_range_from1_len_typical_eq = \\\n",
    "    Forall((f, x), Forall(i, Equals(Len([f_1_to_i, x]), Len(range_1_to_ip1)),\n",
    "                          domain=Natural))"
   ]
  },
  {
   "cell_type": "code",
   "execution_count": null,
   "metadata": {},
   "outputs": [],
   "source": []
  },
  {
   "cell_type": "markdown",
   "metadata": {},
   "source": [
    "Compute the length of an ExprTuple with any number of expression ranges:"
   ]
  },
  {
   "cell_type": "code",
   "execution_count": null,
   "metadata": {},
   "outputs": [],
   "source": [
    "general_len = \\\n",
    "    Forall(n, Forall((f_1_to_n, i_1_to_n, j_1_to_n),\n",
    "                     Equals(Len(f_ik_to_jk__1_to_n),\n",
    "                           range_len_sum).with_wrap_before_operator(),\n",
    "                     conditions=range_len_conditions).with_wrapping(),\n",
    "             domain=NaturalPos)"
   ]
  },
  {
   "cell_type": "code",
   "execution_count": null,
   "metadata": {},
   "outputs": [],
   "source": [
    "len_of_ranges_with_repeated_indices = \\\n",
    "    Forall(n, Forall((f_1_to_n, i, j),\n",
    "                     Equals(Len(f_i_to_j__1_to_n),\n",
    "                           Mult(n, i_to_j_len)).with_wrap_before_operator(),\n",
    "                     condition=InSet(i_to_j_len, Natural)),\n",
    "          domain=NaturalPos)"
   ]
  },
  {
   "cell_type": "code",
   "execution_count": null,
   "metadata": {},
   "outputs": [],
   "source": [
    "len_of_ranges_with_repeated_indices_from_1 = \\\n",
    "    Forall(n, Forall((f_1_to_n, i),\n",
    "                     Equals(Len(f_1_to_i__1_to_n),\n",
    "                           Mult(n, i)).with_wrap_before_operator(),\n",
    "                     condition=InSet(i, Natural)),\n",
    "          domain=NaturalPos)"
   ]
  },
  {
   "cell_type": "code",
   "execution_count": null,
   "metadata": {},
   "outputs": [],
   "source": [
    "len_of_empty_range_of_ranges = Forall((m, n), Forall((f, i, j),\n",
    "                                                  Equals(Len(general_range_of_ranges),\n",
    "                                                         zero).with_wrap_before_operator()),\n",
    "                                domain=Natural, condition=Equals(Add(n, one), m))"
   ]
  },
  {
   "cell_type": "code",
   "execution_count": null,
   "metadata": {},
   "outputs": [],
   "source": []
  },
  {
   "cell_type": "code",
   "execution_count": null,
   "metadata": {},
   "outputs": [],
   "source": [
    "n_repeats_reduction = Forall((n, x), Equals([ExprRange(i, x, one, n)], ExprTuple(x, ExprRange(i, x, one, subtract(n, one)))), \n",
    "                             conditions=[InSet(n, NaturalPos)])"
   ]
  },
  {
   "cell_type": "code",
   "execution_count": null,
   "metadata": {},
   "outputs": [],
   "source": [
    "empty_inside_range_of_range = Forall((f, i, j, m, n), Equals(ExprTuple(ExprRange(a, ExprRange(b, fab, i, j), m, n)), \n",
    "                                           ExprTuple()),\n",
    "                         conditions=[Equals(Add(j, one), i)])"
   ]
  },
  {
   "cell_type": "code",
   "execution_count": null,
   "metadata": {},
   "outputs": [],
   "source": [
    "empty_outside_range_of_range = Forall((f, i, j, m, n), Equals(ExprTuple(ExprRange(a, ExprRange(b, fab, i, j), m, n)), \n",
    "                                           ExprTuple()),\n",
    "                         conditions=[Equals(Add(n, one), m)])"
   ]
  },
  {
   "cell_type": "code",
   "execution_count": null,
   "metadata": {},
   "outputs": [],
   "source": [
    "partition = \\\n",
    "    Forall((f, i, j, k), partition_equiv,\n",
    "           conditions=[InSet(subtract(Add(j, one), i), Natural),\n",
    "                       InSet(subtract(k, j), Natural)])"
   ]
  },
  {
   "cell_type": "code",
   "execution_count": null,
   "metadata": {},
   "outputs": [],
   "source": [
    "merge = Forall((f, i, j, k, l), merge_equiv,\n",
    "               conditions=[InSet(subtract(k, i), Natural),\n",
    "                           InSet(subtract(l, j), Natural),\n",
    "                           Equals(k, Add(j, one))])"
   ]
  },
  {
   "cell_type": "code",
   "execution_count": null,
   "metadata": {},
   "outputs": [],
   "source": [
    "partition_front = Forall((f, i, j), partition_front_equiv,\n",
    "                         conditions=[InSet(subtract(j, i),\n",
    "                                           Natural)])"
   ]
  },
  {
   "cell_type": "code",
   "execution_count": null,
   "metadata": {},
   "outputs": [],
   "source": [
    "merge_front = Forall((f, i, j, k), merge_front_equiv,\n",
    "                     conditions=[InSet(subtract(k, i), Natural),\n",
    "                                 Equals(j, Add(i, one))])"
   ]
  },
  {
   "cell_type": "code",
   "execution_count": null,
   "metadata": {},
   "outputs": [],
   "source": [
    "partition_back = Forall((f, i, j), partition_back_equiv,\n",
    "                        conditions=[InSet(subtract(j, i),\n",
    "                                          Natural)])"
   ]
  },
  {
   "cell_type": "code",
   "execution_count": null,
   "metadata": {},
   "outputs": [],
   "source": [
    "merge_back = Forall((f, i, j, k), merge_back_equiv,\n",
    "                    conditions=[InSet(subtract(k, i),\n",
    "                                      Natural),\n",
    "                                Equals(k, Add(j, one))])"
   ]
  },
  {
   "cell_type": "code",
   "execution_count": null,
   "metadata": {},
   "outputs": [],
   "source": [
    "merge_extension = Forall((f, i, j), iter_ext_equiv.reversed(),\n",
    "                         conditions=[InSet(Len([f_i_to_j]), \n",
    "                                           Natural)])"
   ]
  },
  {
   "cell_type": "code",
   "execution_count": null,
   "metadata": {},
   "outputs": [],
   "source": [
    "merge_pair = Forall((f, i, j), Equals(ExprTuple(fi, fj), \n",
    "                                      ExprTuple(f_i_to_j)),\n",
    "                    conditions=[Equals(j, Add(i, one))])"
   ]
  },
  {
   "cell_type": "code",
   "execution_count": null,
   "metadata": {},
   "outputs": [],
   "source": [
    "merge_series = Forall((f, i, j), Forall(x_0_to_jmi, \n",
    "                                        merge_series_equiv,\n",
    "                                        conditions = [merge_series_conditions]),\n",
    "                      conditions=[InSet(subtract(j, i), Natural)])"
   ]
  },
  {
   "cell_type": "code",
   "execution_count": null,
   "metadata": {},
   "outputs": [],
   "source": [
    "# Transform the lambda function of the range.\n",
    "range_fn_transformation = \\\n",
    "    Forall((f, g), Forall((i, j), Implies(Forall(k, Equals(fk, gk),\n",
    "                                                 domain=Interval(i, j)),\n",
    "                                          Equals([f_i_to_j], [g_i_to_j])),\n",
    "                          domain=Integer))"
   ]
  },
  {
   "cell_type": "code",
   "execution_count": null,
   "metadata": {},
   "outputs": [],
   "source": [
    "shift_equivalence = \\\n",
    "    Forall(f, Forall(a, Forall((i, j, k, l), \n",
    "                               shift_equiv,\n",
    "                               conditions = [InSet(subtract(Add(j, one), i), Natural),\n",
    "                                             Equals(k, subtract(i, a)),\n",
    "                                             Equals(l, subtract(j, a))\n",
    "                                            ]),\n",
    "                     domain=Integer))"
   ]
  },
  {
   "cell_type": "code",
   "execution_count": null,
   "metadata": {},
   "outputs": [],
   "source": [
    "negated_shift_equivalence = Forall(f, Forall(a, Forall((i, j, k, l), \n",
    "                               neg_shift_equiv,\n",
    "                               conditions = [InSet(subtract(subtract(j, one), i), Natural),\n",
    "                                             Equals(k, subtract(i, a)),\n",
    "                                             Equals(l, subtract(j, a))\n",
    "                                            ]),\n",
    "                     domain=Integer))"
   ]
  },
  {
   "cell_type": "code",
   "execution_count": null,
   "metadata": {},
   "outputs": [],
   "source": [
    "shift_equivalence_both = \\\n",
    "    Forall(f, Forall((a, b), Forall((i, j, k, l), \n",
    "                                    shift_equiv_both,\n",
    "                                    conditions = [InSet(subtract(Add(j, one), i), Natural),\n",
    "                                                  Equals(Add(i, a), Add(k, b)),\n",
    "                                                  Equals(Add(j, a), Add(l, b))\n",
    "                                                 ]),\n",
    "                     domain=Integer))"
   ]
  },
  {
   "cell_type": "code",
   "execution_count": null,
   "metadata": {},
   "outputs": [],
   "source": [
    "negated_shift_equivalence_both = Forall(f, Forall((a, b), Forall((i, j, k, l), \n",
    "                                    neg_shift_equiv_both,\n",
    "                                    conditions = [InSet(subtract(Add(j, one), i), Natural),\n",
    "                                                  Equals(Add(i, a), Add(k, b)),\n",
    "                                                  Equals(Add(j, a), Add(l, b))\n",
    "                                                 ]),\n",
    "                     domain=Integer))# only used for decreasing exprranges"
   ]
  },
  {
   "cell_type": "code",
   "execution_count": null,
   "metadata": {},
   "outputs": [],
   "source": [
    "tuple_eq_via_elem_eq = Forall(i, Forall((a_1_to_i, b_1_to_i),\n",
    "                                        Equals(ExprTuple(a_1_to_i), ExprTuple(b_1_to_i)),\n",
    "                                        conditions=[ExprRange(k, Equals(IndexedVar(a, k),\n",
    "                                                                        IndexedVar(b, k)),\n",
    "                                                              one, i)]),\n",
    "                              domain=NaturalPos)"
   ]
  },
  {
   "cell_type": "code",
   "execution_count": null,
   "metadata": {},
   "outputs": [],
   "source": [
    "tuple_neq_via_any_elem_neq = Forall(\n",
    "    i, Forall((a_1_to_i, b_1_to_i),\n",
    "              NotEquals(ExprTuple(a_1_to_i), ExprTuple(b_1_to_i)),\n",
    "              condition=Or(ExprRange(k, NotEquals(IndexedVar(a, k),\n",
    "                                                  IndexedVar(b, k)),\n",
    "                                     one, i))),\n",
    "    domain=NaturalPos)"
   ]
  },
  {
   "cell_type": "code",
   "execution_count": null,
   "metadata": {},
   "outputs": [],
   "source": [
    "tuple_elem_substitution = Forall((i, k), \n",
    "                      Forall((a_1_to_i, b, c_1_to_k, d),\n",
    "                             Equals([a_1_to_i, b, c_1_to_k], \n",
    "                                    [a_1_to_i, d, c_1_to_k]).with_wrap_after_operator(),\n",
    "                             condition=Equals(b, d)),\n",
    "                      domain = Natural)"
   ]
  },
  {
   "cell_type": "code",
   "execution_count": null,
   "metadata": {},
   "outputs": [],
   "source": [
    "tuple_portion_substitution = Forall((i, j, k), \n",
    "                      Forall((a_1_to_i, b_1_to_j, c_1_to_k, d_1_to_j),\n",
    "                             Equals([a_1_to_i, b_1_to_j, c_1_to_k], \n",
    "                                    [a_1_to_i, d_1_to_j, c_1_to_k]).with_wrap_after_operator(),\n",
    "                             condition=Equals([b_1_to_j], [d_1_to_j])),\n",
    "                      domain = Natural)"
   ]
  },
  {
   "cell_type": "code",
   "execution_count": null,
   "metadata": {},
   "outputs": [],
   "source": [
    "%end theorems"
   ]
  },
  {
   "cell_type": "code",
   "execution_count": null,
   "metadata": {},
   "outputs": [],
   "source": []
  }
 ],
 "metadata": {
  "kernelspec": {
   "display_name": "Python 3",
   "language": "python",
   "name": "python3"
  }
 },
 "nbformat": 4,
 "nbformat_minor": 0
}
