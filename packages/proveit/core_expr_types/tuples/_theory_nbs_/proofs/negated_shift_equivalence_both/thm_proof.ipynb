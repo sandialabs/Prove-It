{
 "cells": [
  {
   "cell_type": "markdown",
   "metadata": {},
   "source": [
    "Proof of <a class=\"ProveItLink\" href=\"../../../../../_theory_nbs_/theory.ipynb\">proveit</a>.<a class=\"ProveItLink\" href=\"../../../../_theory_nbs_/theory.ipynb\">core_expr_types</a>.<a class=\"ProveItLink\" href=\"../../theory.ipynb\">tuples</a>.<a class=\"ProveItLink\" href=\"../../theorems.ipynb#negated_shift_equivalence_both\">negated_shift_equivalence_both</a> theorem\n",
    "========"
   ]
  },
  {
   "cell_type": "code",
   "execution_count": 1,
   "metadata": {},
   "outputs": [],
   "source": [
    "import proveit\n",
    "theory = proveit.Theory() # the theorem's theory"
   ]
  },
  {
   "cell_type": "code",
   "execution_count": 2,
   "metadata": {},
   "outputs": [
    {
     "data": {
      "text/html": [
       "With these <a href=\"allowed_presumptions.txt\">allowed</a>/<a href=\"disallowed_presumptions.txt\">disallowed</a> theorem/theory presumptions (e.g., to avoid circular dependencies), we begin our proof of<br><strong id=\"negated_shift_equivalence_both\">negated_shift_equivalence_both:</strong> <a class=\"ProveItLink\" href=\"../../../__pv_it/theorems/d8abe5179fb048b37392901ab090884d6e66a5c00/expr.ipynb\"><img src=\"data:image/png;base64,iVBORw0KGgoAAAANSUhEUgAABPIAAAAZBAMAAABJHB1UAAAAMFBMVEX///8AAAAAAAAAAAAAAAAA\n",
       "AAAAAAAAAAAAAAAAAAAAAAAAAAAAAAAAAAAAAAAAAAAv3aB7AAAAD3RSTlMAq1RmmUTNIjK7EInv\n",
       "3XZ/CtNrAAAACXBIWXMAAA7EAAAOxAGVKw4bAAAL70lEQVRo3u1bfYxUVxU/O/NmZ+bN7LCKaarF\n",
       "zWDtsmktjBaqNAamLi2lCN0U/7CgMAimkaTJEKMJpqXjR2pIUKbFhrBt8G1NUIoyI6VqUZoV0tBW\n",
       "abYEWoSuDrDJahGy2YaPbBPiPffj3Y9337zBJupGTubOvDv3/M65577f3HvufbsApnx8uAyR0pLS\n",
       "dbkuFjk/nIfc8NFgQ6kVdGnSx1/mRa1bJNkKNtJMsrU+JVvtrA3QFHwtITRB/NsxJJUC8QJ5u+P/\n",
       "lXm5PCtq3SaJRjRWlZUtW7HImbCGlSGWz7QKvpYQQoJYCR8gBhwAUQTzOrHhZo1UbfgRKzRnXgA3\n",
       "ueQ2XgAW7xf1EZviWbUidW36qZPkdtqH7Wzz3ji/93DI62ik30aUgtUyBUiw++yQoUC/0YFaCLuO\n",
       "BGzagrCYaRJD5m8VrYE6OasUzrx7sPFhjVROH/loLzdnXgA3qcQtsQKQufEgr8Mpm2a7J6+lrk1/\n",
       "4N4J8r4OoqxY5Nebcf7ZSUlmXU7WWS3vNMDtxYDfogE0QlhrAuxBBMw0jWG+0bKWD4AonHnfxdW3\n",
       "qpEqhfPZhojVNoCbVOIUWAHI3tIP4pqvDNqPO67cTanr2CaAHN602ZFWLHLwIWRmr7Y+afjZimUp\n",
       "vQZ4ir9+LuOf9BsVaIQw3loQATNNY7jXiGCcD4BfGPOQhJm8nsIhu/dGMC+Am1SS5QVglQf+NV/D\n",
       "9KTsdXkpdbMQxrysF2XFkgVN0I9BCO0FWs0G5s1BA7zK15ip9lgF6iFwbGQQATNNY/irDmYtr8vC\n",
       "mYcf7cbm4Y7IPUQpiJtU0s0LwAG/HsK8NfLygIG13bT2QpSVoGRofhYrhTMPrbab8ywDKOA/gMm8\n",
       "AwA6UA8hM9haEAEzzWJIXtHBrGWNLGJve2R4+E8G87LDw+/Uo/a2Jm5SyWJe4NNHPsLr7ojJmfUv\n",
       "b8T8xQdJXU1fv2mZzggrQYlPexMXYweHfM9pg3nJm0YbzKqwLFOGugFeDbfdrzNv9YUPa0A9BGjv\n",
       "jO3zWgjCNNM0hviYDm7vOp1nA8CLYN59AP0GqZwKpL0o5pm4SSVr/GnoqqhnEoPGKnEYfkpG4U6J\n",
       "uqpifX39psVLUVaCMqXhzynFrMH/r5TTE8wqs7xkGOVNOQlJsPtebMYhjXnuJa9W9rsUCAFqhU88\n",
       "WogOImimWQxtVT2C2jr3MhsAXgTz1kOy0yAV+WJ95Hkew7lsC1wJpPDcexlfkFJDU3aY5VzA8gyA\n",
       "n6v1htakD5LvQ3OgQmJlsLo+yotYGsj19xyDM78swBLy8Sl5HHpFxfr6+k2LDUZYscjjdPg68Iyt\n",
       "LHYJ4qYfAmeIWY2ZTO/I6+DY5QdTD2vMi01AtqEC9RBg1rfyT5SjgwiYaRpDtqGPwCwP3mADwItg\n",
       "XtrL4CmKu6AgD4n74UXf5BNiAzvtmUX7FOYxXIaZP4E/FJZZDtDJNs305tAXdAhm/owA5TaPgHkl\n",
       "eexF+Dz+AOLE5ssWCrMm7kJ0qyh8SAc6hLQNjAUARF7hBWJjou7REXNIokHyCOzKA+zcZIuk8ZiK\n",
       "ZfruI3QOqvg3LTUWYcUis9gugoTu4n1S8c4YdNSZ1dSYuU3q08HOITYKZFr8M5sWyY9jSl0F6iHA\n",
       "Fz/H6B0RRMBM0xi2lPURIFvd99kA8CKYF2vQjUJ6TkUyb6aywWjDDOLHH30a3ob97yrM4zhFXlHy\n",
       "XsY8txNfkg+pC+T3u0LFrODGp2c8B8d8wGRPwk84B3wXRd6tFdxHKIS00e5oAI15LP2l17OMDd1r\n",
       "4F7E5c5Ion3sLM8255lrdsCKRQ4oRFqi53nZKtT6mNXA6s4AEtyx9j5jh0FIuyqvAo0Q3lpQgRaC\n",
       "CJhpGsM/jUz1FCTG2QDw4j89K82j67QnSQXtcbliZUnnHAypkJpRUJjHcVKSYzLv5cxz+tixtP9N\n",
       "bMg4VSUVavzmRjGD9XtUbf8QFXgTd1Hl3aKWdAc6BP3XTYC22qY7/fpqV1/nrrJc+XbfrKKr6hsL\n",
       "1VCEFYs8qSyep/T7VmvQg1m0yiwreR4DSHAtv6qiM48s3Q94fpcCIbjjiSvQQhABM01jeFIfRxgH\n",
       "Z4INAC8+8/bijYpN26uQKtNNbpH7wjmcN7dc+Bh/+OM4ap5HcQm6FXNHcAzi1Y14lzv6JA066Av2\n",
       "fEFlnn8KiGBSocZ7btlImUfaV3YK7d3zfqscLA75Lqq8W9SS7kCHdPDuaACUHbyIpIRcuxczOmfG\n",
       "oa1EUsu5eA26rqZvJOfVCCuasF/CG4wViEheNJiXhxtIsopW4+a5PQUo4PleLd/QmVcheSIDepYQ\n",
       "4hPueK6FIBQzLcTwnj6OcAVzXToAvPjMe5T+DuaqpEr+kbz9qkxX7PPeiMs68tkejXmI20OnSocu\n",
       "aW2jtx7GsVImoG/TFxS7VebFRLaF4FiRGe/JPIdLYbIEbmOCa7tvp8im6JOwaDuRAmkSLqqsW8yS\n",
       "5kBAHIRsxbYamACQ+3uSGPeJemrsm/qI7YDbi0V2+lAr6bqavlzKLvtTfrgVfHMvqReCbfTUQhxJ\n",
       "CHy6ETvmMKuOedBFAQr4BqhV6hrz2grpIgMyT0YIbSX3SqaFIKQZS/cDMVzco4/AVPiJcpCzWGFe\n",
       "G52iF6ikghvpN5vxcivcyZ6DuI26xjzEfYeuIs9n8I5mz9AtbrfCvIfoy/X2qcxLiN8ughNVZrwH\n",
       "iv8A2pZ8bohrO8XUIDXAZsiq76LKusUsaQ50CF50gwlA+REvPDGm11ON84yBcz/sIt6O49x50tBV\n",
       "9f2EeNqlqWLKD7fSgUN1TFwMezLtT2Hc4kjCnzO7frf+78yqsOwLBSjgpyC31NNPVW7qFasQ9WSE\n",
       "kM7DyLstBKGYoTEcU+MIxDDb+O0N7MOBOi6L8VdSWzXmsTSULqWvwt3xb2zf/hRkMp7rmUo7/CN2\n",
       "eJylq4sV5k2nLzw7WrT9WTJvUealqrAJp6QyglNVZrwHduOGJdZJZ2ymne3LkeomcSs6mQsynb1G\n",
       "pjPSLbRkONAh2LY4AAC+F6b74btl3f70IEmzm1tB1+2ohOU7j0VZ0R9D0CWD75FOyOXQxD+mWJZy\n",
       "wgBD4BmG7BL11FoIIUGwL1uIwQbGARDFYN6rJvPcy7D1efI5BgdTlMUPfh8yJvPcCdr/Kbgsz00M\n",
       "4cdxTzJvE2fBZetqi+BYkRnvgQSOFlKj9guuXSun7/L81RabuIsq6xazpDkQEL7abuLd0QD0hKZI\n",
       "S6zza7Lub421uYz9bUAddN3wvwDobW7FXNvw59HOs8/Z0Jaf71nxvWD8QQEHqGBVlgW6lIGWQwgJ\n",
       "gn0ZGYN9HMXfKGDRmedOBOa8w6mLd7l1OEkyS/qwol6Er5pKsVKRqJBlmbx3pYbq5GOsEdhh4Aoo\n",
       "mZdrSDBW+vmh3GnYTbcR3Q7Xzpa3LPPggrLDQBecSNitXIP40xwYENJGuyMBomUbLR39JaVulQ0s\n",
       "0QBDN0w/5M93fCuGYEr0l51ix1Dekj8aatViOV1WwdC0S+iptRBCgmBfRscQPoyi6MxLDQaY96XP\n",
       "nCukDsIPyH3cQGa2+Ie6XlodmBi7ykSFkIa8b4OpFfKxVNnbkn5gV3Jit5r8zfsN2TkCxgoaT71V\n",
       "hjbYnMfhGBjl2onemS8oA7QNqAtOJOxWGp1rDgwIaVvapwFEyy5a4iNlpW6VbeLhh64bph8y8tuM\n",
       "pzfq45Z5C8V4VJ2RvlCrFstkc6aAoWmXGi2HEBIE+zI6hvBhFEVnnpx79WdCMWbvpe1Pm0/PVJU1\n",
       "QlF8cOYl6vRYl6aBabDd5F2a8bx/1puGQCjyBLoqwTGLAwkRZ8rVgOtkgxW1bpOc5SaYWFVGW7Zi\n",
       "kY1hDaMhlje2Cr6WEEKCGIUPEAMOgCg689LTK3bmLQ99bitV2r886Csu15mzEF9f36w9YlioGtIq\n",
       "CQ+csvFAwikHr4oSvNziQCoK80Wbt+vyXxKNeZkLYGdeIZp5BWfE8xULOvPIliTjLb1f89sXVoE4\n",
       "KfsNT3PkpdmE4AIEHKiQjBfq+rr8TzBPkUda+VfaSKWkPOD2jOQktGL9xgtvcoMqgbrX3Nt1+c/L\n",
       "+XcKkBs+9C+as0pU8aGCgwAAAABJRU5ErkJggg==\n",
       "\" style=\"display:inline;vertical-align:middle;\" /></a><br>(see <a class=\"ProveItLink\" href=\"../../../__pv_it/theorems/66b77917a8ff296e26df993b4ddb72e368e9c8ea0/dependencies.ipynb\">dependencies</a>)<br>"
      ],
      "text/plain": [
       "<IPython.core.display.HTML object>"
      ]
     },
     "metadata": {},
     "output_type": "display_data"
    }
   ],
   "source": [
    "%proving negated_shift_equivalence_both"
   ]
  },
  {
   "cell_type": "code",
   "execution_count": null,
   "metadata": {},
   "outputs": [],
   "source": []
  }
 ],
 "metadata": {
  "kernelspec": {
   "display_name": "Python 3",
   "language": "python",
   "name": "python3"
  }
 },
 "nbformat": 4,
 "nbformat_minor": 0
}