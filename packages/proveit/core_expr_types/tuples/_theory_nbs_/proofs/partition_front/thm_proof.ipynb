{
 "cells": [
  {
   "cell_type": "markdown",
   "metadata": {},
   "source": [
    "Proof of <a class=\"ProveItLink\" href=\"../../../../../_theory_nbs_/theory.ipynb\">proveit</a>.<a class=\"ProveItLink\" href=\"../../../../_theory_nbs_/theory.ipynb\">core_expr_types</a>.<a class=\"ProveItLink\" href=\"../../theory.ipynb\">tuples</a>.<a class=\"ProveItLink\" href=\"../../theorems.ipynb#partition_front\">partition_front</a> theorem\n",
    "========"
   ]
  },
  {
   "cell_type": "code",
   "execution_count": 1,
   "metadata": {},
   "outputs": [],
   "source": [
    "import proveit\n",
    "theory = proveit.Theory() # the theorem's theory"
   ]
  },
  {
   "cell_type": "code",
   "execution_count": 2,
   "metadata": {},
   "outputs": [
    {
     "data": {
      "text/html": [
       "With these <a href=\"allowed_presumptions.txt\">allowed</a>/<a href=\"disallowed_presumptions.txt\">disallowed</a> theorem/theory presumptions (e.g., to avoid circular dependencies), we begin our proof of<br><strong id=\"partition_front\">partition_front:</strong> <a class=\"ProveItLink\" href=\"../../../__pv_it/theorems/6e66518df6e74f54a19abc00913f1c8c0239e6150/expr.ipynb\"><img src=\"data:image/png;base64,iVBORw0KGgoAAAANSUhEUgAAAg0AAAAyBAMAAAAthfX2AAAAMFBMVEX///8AAAAAAAAAAAAAAAAA\n",
       "AAAAAAAAAAAAAAAAAAAAAAAAAAAAAAAAAAAAAAAAAAAv3aB7AAAAD3RSTlMAq1RmmUTNIjK7EInv\n",
       "3XZ/CtNrAAAACXBIWXMAAA7EAAAOxAGVKw4bAAAHtElEQVRo3t1bb4hUVRQ/M/Nm3uy8ndkphBIt\n",
       "ZwlD1HIiFYLQCdc0xBgIIlN0zA+hfWj6Emy42/ZRWNu1ENul4hEhmLB/hD5USJsR9Mc/u7ZJGZuj\n",
       "Li190cXSZD9o99+77917359p5vZhOzB3zp1zzn33/e655/45uwDa6D2Yl3TM1tterChUTZk3/YxM\n",
       "/7bMOp9Z5aXZcL/TF/XisEisXpH5ZM3H6Ip/W766KuUK5Gtn/RZ+9IhWGBIVoRofwaXxhc34XAmu\n",
       "euWCRKSDSHI14mlbPsflClwcsHPYE6823HMrrxOH/VWhepSUo70FxmdHIOWdiILES5kFryK9VPik\n",
       "te4/hVUJ9L8D7INIizD6UScOv4nVDaQ8tc3mPCS8Ay9ICD3nMNdtSVel1qWD2KeciLQaIi3CaKXG\n",
       "SJkYE+ukmpxzeUTfewKAKMH0qBcHr64P7SI9b+WwRFuEUaqkD4dW0bvjxGWtcZdHtMfj2KJExWFP\n",
       "6NNOkvJh/iLFSIswSv6tD4from8ZGJbE4okS44fwDBh1vUeSqDiMhj3ssTMLSLDEMeJankW60cY7\n",
       "v1sfDhOSq5Gp21Zz+JEdiFnryiWJisPa0Kfd4f5lwNdsrSIWW6cwTfzLzq/SFiDSt8V6lqzsb/Yw\n",
       "Pl14GscjVy5JVBxWhj3NpE87jz4zcAPNr7Eoi3AarunCISaFydYywdnhM3AWMX2eERAleBxPO+NI\n",
       "cOgLe1p8lnx9gz52HEXc9GyURTi1jGsLk3k/HE5yHvcWdsiBjktUf9gRun0Y5ziAgfjkWJRFxGKn\n",
       "LVD2Ff3mxSHOp/K2sIGVJCoOoZvdljyfF2QbFh93LBqLD5k/tS0XVamnZMad5fxwGXX3CVyjby1J\n",
       "VBw8ukKPqR/R+fwhiTTIpxL9jkWD9JUuHN7327ObNznfZxbZOncLfCQCDl9WwaM7XPEwtCDv7qyU\n",
       "651VeksT3f8AgLjYQ83i8J28foy74QzzsccR8xOuTdk+Ei8O95zbXfToZvFGYxIYk73oRlk4iIuF\n",
       "+Ney03qD9CXARvz9cpMwZP6Sf/kZD1Pe5bET0D2krUpEf5B0RVqOi6dYEOphM6yLWzRI68vwFm6j\n",
       "v9ntwx35F3T0aU8V3GMQPxZZoErEc5aoKxGOivmX+MHt3sQcO64ZxWbCfI2cV61CkzjEbyghvQq/\n",
       "HHV5TJ2kHEIfWaKSqys5HoqQ2UHnWHIkfQMvOWQYO5vp/3AJEgjHVNOnzdtKh/th3SaXJ70mJQ71\n",
       "skQlV1e6gcIPm3bQOwbPbnTQPNJM/9vQPD0zNfVDszjk1I1It8zn/Ma+O6C9al2PNSlQM/VbBOGA\n",
       "xmMzwGCzOFhzMK+pFc2018B0N8UZCis5BRls7ldZncpzfu0Y8xyHLFpsWmwLL7+ZDhxwrZq7nrVQ\n",
       "nTXe9Q3J2eWNOfkpPOkAGJud5zigA0q8RsJky5oeOeRTD5Bvc7ejz9sLD0O7ZRv2/wgHqKwjoULZ\n",
       "s1AcjLJ8m2eDsRnvQWslK2Re6M/jBOjWGSBNV7vqOy/gBL72ji8+gW/qLhMXmC64OGR5ncnRZoPk\n",
       "CpYt7eY4WOp6oT+PE6C7sz4crrjaO33jJOwnnk+Oa0PEKwx6f0pxeJ3XmTxeoqv+Muuj7XydU/YP\n",
       "OvM4gbpmx94eyEVsJF1rSA8SbdWCXJ/ESGDowMUb5BD/iVVycdjG60ye7E+SdpZB6Y/gfZTOPE6g\n",
       "bidYN2kWJ4Rca8hVqLZi0ebi+657pGe3rBSHdlo/MICoiuXp/sTegYF3EA7H+T40flNuWWceJ1D3\n",
       "PoDT4iHFhyTr1eBjMezi+y0ZjDniG21VF4cDvM7k8VJ6hPpDkh8R08qFDrmv1JPHCdY9Z8OSKs3i\n",
       "BJJsjbUViz4ejzJI/TjEK6UMesleEOIkq+Nxr5QgV6P7T7SvuMwbks/dOvM4wboPACzpYd4bfpfp\n",
       "WmNtxWIVP2imEWC9hcyD1fQp5/1a+JGQvy+S4x86kdekL1Qhxhu6IAcnfXmcUF24FJGv9ljD0GV2\n",
       "B6ZYuNeKZEISVOLOYFAckiNSyuwYguOzgcNiQ4vlTYbGPE6YLr74SFRCj1DcGkqtRaqtWCzhe6Z2\n",
       "NMRJMm1eTL0w5sEBNjl1Rpt8L3Rsv/tqPXmcMN1snmVxAolboyNpW4FqKxb8WtG6hn2CsEVj2vbi\n",
       "YH087X3JRNn3Qke6ydGZxwnTfQZYFieQuDUyx/k7rC1bmHfq2IlKt+cZ/4Prf5jHCdFN4McmQ/3h\n",
       "pKc/W5m2bKEvj2OM+c0LPXmcEN0VYFZpFieQDnn68yvQnI9sEdOW10tKGymdeZxgXbSRydk0i+Pj\n",
       "prI1zZpg7US/XyzVQpPSqq0tjxOm29XRsZWtiTzdIyZ/vNaQmGUrqDESHuWbIKkpfXmcMN1Ld+/e\n",
       "YlkckuCZdEaE5Hxka4hhN8DaWSnWT2iDQf67II15nEjdLlIuV7qkWJO0aBe3cCe1xr8LSkg3Mdry\n",
       "ONG6dJM5ou6oRetYYb1z4NogBTOdf0D5itS2rjxOpC5NxmXUUCdZ9xXOM205fbfL1ohDr9hNbXmc\n",
       "SF2Kj881umRtTJeZtozoeZ1XnTmpm/rzOAG6M/X1r9vVnvFZ2/TRovl6Wf283uZShfkJQ3qf5gbn\n",
       "6f+hHCVR8h/xMp6G3eI0XAAAAABJRU5ErkJggg==\n",
       "\" style=\"display:inline;vertical-align:middle;\" /></a><br>(see <a class=\"ProveItLink\" href=\"../../../__pv_it/theorems/254dab2b2b65e10afc39c945cc9a221ea73e92220/dependencies.ipynb\">dependencies</a>)<br>"
      ],
      "text/plain": [
       "<IPython.core.display.HTML object>"
      ]
     },
     "metadata": {},
     "output_type": "display_data"
    }
   ],
   "source": [
    "%proving partition_front"
   ]
  },
  {
   "cell_type": "code",
   "execution_count": null,
   "metadata": {},
   "outputs": [],
   "source": []
  }
 ],
 "metadata": {
  "kernelspec": {
   "display_name": "Python 3",
   "language": "python",
   "name": "python3"
  }
 },
 "nbformat": 4,
 "nbformat_minor": 0
}