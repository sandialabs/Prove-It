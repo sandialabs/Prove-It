{
 "cells": [
  {
   "cell_type": "markdown",
   "metadata": {},
   "source": [
    "Proof of <a class=\"ProveItLink\" href=\"../../../../../_theory_nbs_/theory.ipynb\">proveit</a>.<a class=\"ProveItLink\" href=\"../../../../_theory_nbs_/theory.ipynb\">core_expr_types</a>.<a class=\"ProveItLink\" href=\"../../theory.ipynb\">tuples</a>.<a class=\"ProveItLink\" href=\"../../theorems.ipynb#shift_equivalence_both\">shift_equivalence_both</a> theorem\n",
    "========"
   ]
  },
  {
   "cell_type": "code",
   "execution_count": 1,
   "metadata": {},
   "outputs": [],
   "source": [
    "import proveit\n",
    "theory = proveit.Theory() # the theorem's theory"
   ]
  },
  {
   "cell_type": "code",
   "execution_count": 2,
   "metadata": {},
   "outputs": [
    {
     "data": {
      "text/html": [
       "With these <a href=\"allowed_presumptions.txt\">allowed</a>/<a href=\"disallowed_presumptions.txt\">disallowed</a> theorem/theory presumptions (e.g., to avoid circular dependencies), we begin our proof of<br><strong id=\"shift_equivalence_both\">shift_equivalence_both:</strong> <a class=\"ProveItLink\" href=\"../../../__pv_it/theorems/427ac14fc22e324f8f1e4096c5caa8245e98383a0/expr.ipynb\"><img src=\"data:image/png;base64,iVBORw0KGgoAAAANSUhEUgAABPIAAAAZBAMAAABJHB1UAAAAMFBMVEX///8AAAAAAAAAAAAAAAAA\n",
       "AAAAAAAAAAAAAAAAAAAAAAAAAAAAAAAAAAAAAAAAAAAv3aB7AAAAD3RSTlMAq1RmmUTNIjK7EInv\n",
       "3XZ/CtNrAAAACXBIWXMAAA7EAAAOxAGVKw4bAAAL2UlEQVRo3u1be4xUVxn/dubO697ZYRXTVIub\n",
       "wbbLprUwWqjSGJi6tJQidFP8w4LCIJhGEpMhRhNMS9dHakhQpsWGsDZ4tyYopTIjpWpRmhXS0FZp\n",
       "tgRahK4OsMlqEbLZhke2CfE873neuRebqBv5Mmfmnjnf73fOd+5vzuvuAuj28eEqRFosp+t23Sx2\n",
       "frgIheGjZkElDroy6eOvsiTnLZaJg42kycRrUyZuY22AluBrCaEF4t+OISMlSJbQ253/r8orFGmS\n",
       "8zZLNaOxsq2MzWKxM2EFK0OYz8QFX0sIIUGshA8QA+4AnrjyOnDBzYqo2vBHotRaeQZuctntLAEs\n",
       "3s/zIzbHs3JG+Nr8syfR7bR329nWrXF+7+Mub2CSfptQSlZmAhBg95khzYF8owKVEHYdMThtQVho\n",
       "WsTg/a1PKSCVnJUSU969uPARRVROL/pIV1srz8BNKnMrNAF4Nx5keThl80z74lr42vwH7ptA7+sg\n",
       "isViv96Mx5+dRGTW6WSdlXmnBk6XjXrLGlALYa0OsAdh0LSMYb5WspZ1AE9Med/Fs29NEVUWj2cb\n",
       "ImZbAzepzCnRBJC/tR/4NZsZlB93UrqbwtfqX8A3bXYki8UOPoyV2aPMTwp+tsQsrEcDTwnmz2Xs\n",
       "k3wjA7UQxuMFYdC0jOE+jXKcdUCQqPKwCL2iuoTD6t4boTwDN6kszxLAKh+CazaHqYuy18Wl8LX6\n",
       "k5uW96NYLKugCfIxCKGtwKx5Y9wc1MCrAo+ZcotloBoCw0YGYdC0jOGvKpiWvC4SUx7+SGubhzsj\n",
       "9xAVEzeprIslgANBPkR5a8TlAQ1ru2npUhSLaR5ZnyUq4crDrGl9oUUBEvgPoCvvAIAKVEPwBuMF\n",
       "YdC0iiFzRQXTkjUi8b3tkeHhP2nKyw8Pv9OI2tvquElli1mCTx35CMu7I7pm1r+8Ea9fApDwtfuT\n",
       "m+Z1RLCYlpz2Jp6MHdzle05rUsjcNNqkrJxZLBkaGng13P6AqrzVFz6sANUQIN2R2OfHCEKnaRlD\n",
       "ckwFpztPF2kHsMSVdz9AvyYqpw9yfpTydNyksjXBMHSV573UoDZLHIafoV64S6CuyljDn960ZCWK\n",
       "xbQpzWBMKec1PX+5mpugrJR5yTC2N8UgJMDue4kZhxTluZf8ejVokhEC1EufeLQUHYRJ0yqGtpoa\n",
       "QX2de5l2AEtceesh06GJCn2xPvI8j+JcugXuM5bwrPYqfkFWPiGQdpjVgsE8A+AXcr6pFKlnDUEd\n",
       "SgUyJFEFa9VHWeJTA7r+nqNp5vkSLEEfnxTHoVdkrOFPb1piMILFYo+T7mvHZ2xVvkvgN/0QOEOU\n",
       "NTGowdqLKjhx+aHsI4ryEhOQb8pANQSY9a3iE9XoIAyaljHkm2oPzPLhDdoBLHHl5XwPn6K4C0ri\n",
       "kLgfXgwon+Ab2Gk/XbRPUh7FeZT+BP6h0JXlABlsc9RvDnlBO1fmzxFQbPMQmGUyx16Ez+EfQBJx\n",
       "vmyRMC1iVfBmlXkdogIVgsoGxgwAsldYgsQYz/ukxxy00EDrCNyUB+m5yRYh4zEZa/jTm5Ydi2Cx\n",
       "2Cy6i0Chu/g+yXhnDNoblDU7pm+TelWwc4j2AhoW/0yHRfTjmNKQgWoI8IXP0g6LCMKgaRnDlqpK\n",
       "iba679MOYIkrL9EkG4XcnD6hvJnSBqMNryB+/NGn4W3Y/66kPIaT7BVp3UuV53bgl9BD9gL6/a6Q\n",
       "MSsY+XTPd3CfD+jqSQULzoGgijJr1gpWRygElZHmKABFeXT5S65naRu618C9iKc7bREdYHV/etP0\n",
       "OdhgsdgBSUhL1HVevgb1XsqaGrQqT4Db196v7TCQaFcVZaAWwlsL+iBGEAZNyxj+qVGegtQ47QCW\n",
       "gqdnlXlknvaFqCCdFDNWHjXOwSGVsjNKkvIYTlhmTKx7mfKcXnosHXyTGNJOVVGGkN/cLHs4f6/s\n",
       "HRyiAitiVdRYswiTWoEKwfU3dIAy2+Y6gvxqV53nrtK18h0BreRr8ecT1VAEi8WelCbPU+p9qzfJ\n",
       "wSxmpczSOo8CBLheXNWnKg9N3Q/6QZOMENzx1BWIEYRB0zKGJ7V+GQdngnYAS4Hy9uIblZi2VxKV\n",
       "14VukfvCOTxubrnwMfbwx3HkdR7BpchWzB3BfZCsbcR3ub1XyKCdvGDP52XlBaeAGIwyhLz71o1E\n",
       "eah8ZQf33j3vt9LB4lBQRY01izCpFaiQdtYcBYBtB0t8UYKu3YueqplxaKugpeVcfA2qr82fL85r\n",
       "ESyK0V/CG1QVGJG5qCmvCDegxSpmTern9gQggef79WJTVV4fWidSoG8JITnhjhdiBCHRxIjhPa1f\n",
       "ruC1LukAlgLlPUp+B3NlUWX+iN5+VSUz9nl/xKUN+Uy3ojyM20OGSodMaW2jtx3GfSUNQN8mLyh3\n",
       "ycpL8NUWBifKlLzbexZPhZkKuM0J5u2+nUWboltg0XZkJVTEq6jRZlEmpQIOcTBkKy6rgw4Asb9H\n",
       "C+Nens+OfVPtsR1wR7lMTx/qFdXX6g/e5WDID2fBb+4l+YKrjZxa8CMJjs81E8ccyuroB10EIIFv\n",
       "gHpfQ1FeWylXpkBakxZCW8W94sUIQtBYmm/EcHGPSjkVfiId5CyWlNdGhugFsqjgRvLNZny5Fe6i\n",
       "z0HcZkNRHsZ9h8wiz3n4jubPkC1ul6S8h8nL9ffJykvx3y4Gp2qUvBvK/wBSlnl2iHk75ewgIaAj\n",
       "ZC2ookabRZmUClQIvugCHYDtRyyxhTG5nqqdZwyc+2Enqu04HjtPar42/7Zpl6byIT+cpR131TF+\n",
       "MeyLZX8Wx82PJIIxs/N36/9OWTlzYAQggZ+CwlJfPVW5qYfPQqQmLYRcEUbejRGERENiOCbHYcQw\n",
       "W/vtDezDHXVcJO2vpLYqyqPLUDKVvgr3JL++fftT4Hm+6+tOO4IjdnicLlcXS8qbTl747GjR9mfQ\n",
       "uEWUl63BJjwkVTE4W6Pk3bAbb1gSHWTEpt753gLKbuK3ooNWgYaz19BwhpqFmbQKVAguW2wAgO2F\n",
       "yX74HpG3Pz3IkNXNbaD6hvs/FsWiPoYgUwbbI50Q06GN9TEDfUIDg/EMQzSJ1BQWQqwg6JcxYrCB\n",
       "cQfwpCnvVV157mXY+hz6HIODWaLih74Pnq48d4K0fwqeluemhvDHcV8obxNTwWXrbIvBiTIl74YU\n",
       "7i0sjfovmXe9mrvbD2ZbXMSqqNFmUSalAg5hs+0m1hwFQE5oyiQlOr4q8sHWWHlKRP82oAGqb7h/\n",
       "T2sWfcLEP480W33OhrbifD+UtcdAz1bAsi0zmuRBixBiBUG/jIzBTsn/RgEnVXnuhDHmHc5evNtt\n",
       "wEm0siQPKxpl+IrulKiUkQualtF7Z3aogT7GmsYOA8+AQnmFpgDjTD87lDsNu8k2osth3vnqlmU+\n",
       "XJB2GLgKJiTcrEIT1adUoEFQGWmOAPCSbSS191ekvNU20IUGaL5h/iF/vhOwaIaXRH/ZyXcM1S3F\n",
       "o6GsFuZcVQZDyybhmuKFEBIE/TI6hvBu5ElVXnbQUN4XP32ulD0IP0D3cQMa2ZIf6nxptTEwdlaR\n",
       "CxINet8GU/vQx1Jpb4vagZtS4LvVzG/eb4rGITDOYPLsW1Vog81F3B0Do8w71TPzBamDtgGpggkJ\n",
       "NyuHK1cq0CCobGmvAuAlu0hKjlSlvNW28Ycfqm+Yf0jPb9Oe3siPW+Yt5P1Rc0Z6Q1ktzGhzJoGh\n",
       "ZZOasUMICYJ+GR1DeDfypCpPjL3q07kE5Xtp+9P60zPZZQ135B9MeakGOdYly8Ac2G7yLoW8GJz1\n",
       "5sAIRZxA1wQ4YalAQPiZcs2oOtOkSc7brGC5CTpWttHYLBbbGFYwGsK8MS74WkIICWIUPkAMuAN4\n",
       "UpWXm95nV97y0Oe2wiX9pcHAcbmqnIX49bXNyiOGhTKRkkn54FS1BxJO1bwqC/BySwXCkdOXbbVd\n",
       "t/+SKcrzLoBdeaVo5ZWcET9wLKnKQ1sSz1/6gFJvb1gGkijt12qaIy71IgwugVGBDPH80Kqv2/+E\n",
       "8iT7Rpx/pY10yogDbl9bnIRmrN/44UWu6WLk/da1Xbf/vJ1/pwSF4UP/AkK0Xma6MXr9AAAAAElF\n",
       "TkSuQmCC\n",
       "\" style=\"display:inline;vertical-align:middle;\" /></a><br>(see <a class=\"ProveItLink\" href=\"../../../__pv_it/theorems/bdbba53b1af806299ec0f900fbf628f2c9617a630/dependencies.ipynb\">dependencies</a>)<br>"
      ],
      "text/plain": [
       "<IPython.core.display.HTML object>"
      ]
     },
     "metadata": {},
     "output_type": "display_data"
    }
   ],
   "source": [
    "%proving shift_equivalence_both"
   ]
  },
  {
   "cell_type": "code",
   "execution_count": null,
   "metadata": {},
   "outputs": [],
   "source": []
  }
 ],
 "metadata": {
  "kernelspec": {
   "display_name": "Python 3",
   "language": "python",
   "name": "python3"
  }
 },
 "nbformat": 4,
 "nbformat_minor": 0
}