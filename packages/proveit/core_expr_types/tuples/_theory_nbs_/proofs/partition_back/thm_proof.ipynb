{
 "cells": [
  {
   "cell_type": "markdown",
   "metadata": {},
   "source": [
    "Proof of <a class=\"ProveItLink\" href=\"../../../../../_theory_nbs_/theory.ipynb\">proveit</a>.<a class=\"ProveItLink\" href=\"../../../../_theory_nbs_/theory.ipynb\">core_expr_types</a>.<a class=\"ProveItLink\" href=\"../../theory.ipynb\">tuples</a>.<a class=\"ProveItLink\" href=\"../../theorems.ipynb#partition_back\">partition_back</a> theorem\n",
    "========"
   ]
  },
  {
   "cell_type": "code",
   "execution_count": 1,
   "metadata": {},
   "outputs": [],
   "source": [
    "import proveit\n",
    "theory = proveit.Theory() # the theorem's theory"
   ]
  },
  {
   "cell_type": "code",
   "execution_count": 2,
   "metadata": {},
   "outputs": [
    {
     "data": {
      "text/html": [
       "With these <a href=\"allowed_presumptions.txt\">allowed</a>/<a href=\"disallowed_presumptions.txt\">disallowed</a> theorem/theory presumptions (e.g., to avoid circular dependencies), we begin our proof of<br><strong id=\"partition_back\">partition_back:</strong> <a class=\"ProveItLink\" href=\"../../../__pv_it/theorems/0bfb98d0ff3589ab2cf2aa780ed7a04c0b3b38460/expr.ipynb\"><img src=\"data:image/png;base64,iVBORw0KGgoAAAANSUhEUgAAAg8AAAAyBAMAAAApcCXLAAAAMFBMVEX///8AAAAAAAAAAAAAAAAA\n",
       "AAAAAAAAAAAAAAAAAAAAAAAAAAAAAAAAAAAAAAAAAAAv3aB7AAAAD3RSTlMAq1RmmUTNIjK7EInv\n",
       "3XZ/CtNrAAAACXBIWXMAAA7EAAAOxAGVKw4bAAAHXUlEQVRo3t1ba2hcRRSe3b37unezu6g/LA26\n",
       "RVqLWhuxFQrSrPaJpSUgiNqSRouIFWH9WWlj/FmIJiqlJqjc9ke1FpK06A8r1VgRfLUktRYfRLY1\n",
       "GPxTQ7UP8iM4c+bemTuP3F1zhyvxwN6cu+eceXwzc+bMnA1CxugttDDpqGu2vESb8JqV+azOKKsv\n",
       "q9ZclVmuXZt/w3M/mwVisfh6SebTdY3RJX1Znc1VeYlrd0Zo+QqjOKS6hNfkCHlan7geX6yi34Jy\n",
       "QaIMULGtQW1bTvp15AZBu6FFCDllk0DsFSfnEXge7614fMsIygTXoiAJ0qGNM/i5u0HTbz3t11Hs\n",
       "otq7I7T9e5NA/Cq+roPn6SdcxqNUcOgFCdCj3t8iAWJVeGWFpYNB61WNLULpHoPuMjUqvsNreobz\n",
       "mL7hYklC6N4gEIXwpu10BWuiXYjQmUzVHBAFcYInwWM4Y5zHtCswt0WJAkQmfMmfEq2JdiaCk0hf\n",
       "NwfEn+KAWASXVOt41eOHyDQ+zuePJFGACPdf9525xa9j6KKnHcnjPWUOiHFpssH4lOo+P7IDMw9w\n",
       "uSRRgJD2IJlmWR3VQhvVphZbJwiN/9vWrzTmJHI3xPcWsiegl3s8PlfZSHwSl0sSBYjkaGggdcOv\n",
       "o1grVah2uEUDGq4bCyulZhQ6AGift9FZzPQFhkCUkJH8zhtJACI3HVZbctqvw4bBJNrhFg0oP2bM\n",
       "V5Z1QJxifJL0bofk7bhEmRHp0PGlrpbWsdXTTkeZESlj3rKvTbc0Xmd8puwKoawkUZdG6BDly7yO\n",
       "XzxtajFPH2H/ZWzTkA49eVh0Zxk/3IFd/BryRrstSVRn2U+ap9ZDrQt1Vkf2qqcNFvOmz00B8bYu\n",
       "fIdGUr4vi6fMFtK5a0gjCQLhXPe3xuEu7wFGjMGutoPVkZr2tK2RKO1/ByGYZXdEBeJreRcZYz4N\n",
       "+MT9mPmBvE24GkkAiETrtZvxtCddbSHn4xYScJz3GbD2XC3UkSATgWiDxbzpM4Q2kL/PRsTB/lv+\n",
       "5kcyUGXOk2lAo0lXlQgzAmgfPO9S9wsA4iFuDatkH7OYL7V3oFdIE/sjApGblb/BZ6AlmQo/E5He\n",
       "wxpwkCoRDl2BM5s624l1svy0b52otPtnt3XRnH0dDsdOJSIQySuKY6+hn45wntAeeA7hjyxRIyYY\n",
       "GVsNc4h1y2CXb91XOedpRxzL4SpKkQNL5LPnDWWx9KO1mzhP6CA8SedkCdLASPYPVUCsU5M139qa\n",
       "7PC087VIHSjhtXpmYuLbqEAU1YCkW+aLuqZ268ubaq7abq49Fa0DJTwimxEajAqEM4MWNhXwansR\n",
       "ZXl8/B71fdS50a/uxJ8eNuNrRV051kIHogXvaHnXIQvNXk+c+qf0a+h4ni7/juA259SRd5uTPf8R\n",
       "etBHMDG90IEg59c6+Mr86h7ZY8HzkGyzHX9eW3QALXFcy/0/AYG61oK7UO4mKBAblAs+F1mbSTRa\n",
       "rzohSyPGBE+T9jX2rGmXBjpBbsKTrSfwsxPm+tDDASCwhj3pxxnpixB0QIZi+dJuBoSj7hoxJnia\n",
       "sy9WmKhT6yzRXuj9GohgYGSryzgQWaxhsWvSITxvklW6+y93Dm9nlShxRJwJnkb2oIzuJo/9rj4b\n",
       "BPcpCXAO60mvD5MZYrsfciDSuNMfOH5bX1pBvklDOctR9Y+5A6pYEzzh9lTZBr3f58gGlfhovMmv\n",
       "Ebx7dwAiWabXpPsHMNXQuxjx/tRzAwNvYCCOsYg0eVUuOdYEj7gEZHuqbLXxU5Ba/DAfja/g/X3g\n",
       "r3MgcmQZlHzvYs/04KWRG6EzIs0OjDnlhgcuzuJK8KhABO2pcoHh4mqK72MOzJ5B9ghaZqFjuFuj\n",
       "orNEvWzku6qoWKeR6GqELrKC5GN4vAkeFYigPb0fXcZ2PV02aCU7duLO506jQ1MIr91iOQAEOSqx\n",
       "Dtu31cjxZg/2KrkLNZRgBV2QQ81YEzwqEAF7qkyvxy6X58gG8atGsoCTwFV8vPIsftoVtDmKC/x4\n",
       "4IBYUKscbMSa4FGBCNrPsulooS+C2aAA3c6CpyV4kJ+E1es+0xsMqKxa5nFhMW7S3vBIiy7eBI8K\n",
       "RMCeKqNzcES9Mkc2iF01OpfxA7BNoW2PBIFAJ63JYC9T2rvBPqk58SZ4kP0CXOP36Oy9+9Ev8ccl\n",
       "SRRdNig720QAK12q2/r97D9N8KgzImBPlQEIZI3ps0HmEjzWqG5pxJXg0SyNMUkZlgYEbzwbxClh\n",
       "LOWXliKqeBM8GmfZLymTUJAmRHTZoFLd2Dn2vDR5Y03wiFX79oIy3bvbkT4b1O4aA0IqKt4EjzDL\n",
       "uX1QGb1KHouQPhs0bgwH+adD8SZ4VNqnKMOt21mkzQaZ/OlQSrqaiTXBo9I6RRlHjDdBIzXZoLzJ\n",
       "H1o+L5UdY4JnLntBGR3MXSH7jC4btNM1CESv2Kc4Ezxz2QvK+GiwbQPSZ4POmbz+LEp9ijHB05x9\n",
       "ts5EU5otzhwtXrBX2I+ZLS5TWaA45HYbLnCh/uPKEXCV/wBoSpRoIsidUwAAAABJRU5ErkJggg==\n",
       "\" style=\"display:inline;vertical-align:middle;\" /></a><br>(see <a class=\"ProveItLink\" href=\"../../../__pv_it/theorems/8f3fda735bb677e1a5d0cc332fd6ec868a4f98ba0/dependencies.ipynb\">dependencies</a>)<br>"
      ],
      "text/plain": [
       "<IPython.core.display.HTML object>"
      ]
     },
     "metadata": {},
     "output_type": "display_data"
    }
   ],
   "source": [
    "%proving partition_back"
   ]
  },
  {
   "cell_type": "code",
   "execution_count": null,
   "metadata": {},
   "outputs": [],
   "source": []
  }
 ],
 "metadata": {
  "kernelspec": {
   "display_name": "Python 3",
   "language": "python",
   "name": "python3"
  }
 },
 "nbformat": 4,
 "nbformat_minor": 0
}