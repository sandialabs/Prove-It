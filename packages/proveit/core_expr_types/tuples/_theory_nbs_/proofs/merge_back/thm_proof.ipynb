{
 "cells": [
  {
   "cell_type": "markdown",
   "metadata": {},
   "source": [
    "Proof of <a class=\"ProveItLink\" href=\"../../../../../_theory_nbs_/theory.ipynb\">proveit</a>.<a class=\"ProveItLink\" href=\"../../../../_theory_nbs_/theory.ipynb\">core_expr_types</a>.<a class=\"ProveItLink\" href=\"../../theory.ipynb\">tuples</a>.<a class=\"ProveItLink\" href=\"../../theorems.ipynb#merge_back\">merge_back</a> theorem\n",
    "========"
   ]
  },
  {
   "cell_type": "code",
   "execution_count": 1,
   "metadata": {},
   "outputs": [],
   "source": [
    "import proveit\n",
    "theory = proveit.Theory() # the theorem's theory"
   ]
  },
  {
   "cell_type": "code",
   "execution_count": 2,
   "metadata": {},
   "outputs": [
    {
     "data": {
      "text/html": [
       "With these <a href=\"allowed_presumptions.txt\">allowed</a>/<a href=\"disallowed_presumptions.txt\">disallowed</a> theorem/theory presumptions (e.g., to avoid circular dependencies), we begin our proof of<br><strong id=\"merge_back\">merge_back:</strong> <a class=\"ProveItLink\" href=\"../../../__pv_it/theorems/5ad8905ed28b4910c0963e78b79fe9f948bbe8e00/expr.ipynb\"><img src=\"data:image/png;base64,iVBORw0KGgoAAAANSUhEUgAAAlcAAAAyBAMAAACDs+N3AAAAMFBMVEX///8AAAAAAAAAAAAAAAAA\n",
       "AAAAAAAAAAAAAAAAAAAAAAAAAAAAAAAAAAAAAAAAAAAv3aB7AAAAD3RSTlMAq1RmmUTNIjK7EInv\n",
       "3XZ/CtNrAAAACXBIWXMAAA7EAAAOxAGVKw4bAAAIQ0lEQVRo3t1bXWxUVRCevft/d7u7CcaY2OCi\n",
       "/CQooUYg9EG6SkEEIRtMVH6EIhiS+uBq4oNK29UHE2KxRR6wDZpbH1DEdEvDUxWsEKNoIAWRKFqz\n",
       "rU1INGJTftr0gXjm3L9zzv3Z2qT3pp7oZXa/mXPunTsz58zMFsCH8QHMtnFM8WvlQM2sU1bsql8r\n",
       "38t/jIp01E4oaj9XYWpLRp25o8xMzrMt8UlXwQb+87BIh8s2UsP2k+2Y2prDztzDzEzOsyUy/ihr\n",
       "H//+pB68hr5QNDqVgz9YnEMsvpGq4NKmNMQ6Be4NfRp07DyoM7nM9qM/yvqd/3iUXk+0ZjW6qgci\n",
       "bDjlEHZ0rZ0k10b3xUxpSDXw3Il7zujQHtBmcp7tIV9CfLCf/7yaXs9sUQwagqwJcQj1Uv31p1BZ\n",
       "y9xXE6RZ7uSCTh0a0zHn2SI5P5SV5O0DqO7CkyZNxveMangEHafMKivp+sZFaZZ7p6JDKhdizrOF\n",
       "x/1Q1j/8/Ug03CcGTJqM3Yyz8IhFWRHXoCVKs9ynDCjRr2Mus+3yQ1kXhQiMhhasvpjT6G70ixOm\n",
       "0wqIRVmu2xQjDd1DPPfD5+/SoUhGOqlQzGW2pT4ErdiEEAvou0yXdbpnOyFWmLiAWJQlHkT4YUpD\n",
       "LlnDc98xoFLN/ftqKKbiGwdxCG+1VPbh+C7E9yrcraClqNGx7FrcekxcQCzKkvrdVjOkIVVIZznu\n",
       "6ISx/NLXsu8UKOYyW3zAh/guGHoyT21cp2W4QIg2xvp5JDQ4+Nv5wcGMoazYqNtqhjQRRz9iuKVR\n",
       "Y/mnVoI2k8tsQR8ifFuNnbJOGbSEGtguhGETsVhW2NWyTjFrbOS51dhPoSv1RQ1zmU2+4cNmWLBz\n",
       "w4MGHckoXCYmIFY3dPWOg8wav/Lc8YwOyWPhCQ1TcduYBV97r6wjYiigj37BoEt5sj/V4ptUcQGx\n",
       "Bvh2k5cdiiAN0Vs6twolyzoUnJTHUipGcYfxoffKOmeXodIHUem2KPHTDbj70I1JRFhlJcb1vR95\n",
       "5du6kPGJlYbgqMatQtCS16FAgzyRULFQj/OdfwVAjfEBz3Ql3xSPEgNGsKV04BFC/IQOchVsEEZZ\n",
       "gerbcwhbXue9jEROvwwqvDQE0GgoN4W02I9QPAsjf6oYxR1GXR7W4L97vTtm3RG/+RlfeMak0SBo\n",
       "5FgMVoSzLDqawODlMwNFkKZu12RA8Jg4cZMxm8PWVIa38ObaPVOWNCZ+Q3LXeZEsl+eGqL+hR4gI\n",
       "l0gzebjVexK8dCBbZ2TUCEmZF8SJV/P5umWUcrQcksh6V3OYsBz2CvDLUZPG8Tp1WLQEEbHWOdsN\n",
       "Xn5089Jt2UsGN0JVnQ3CxIi5Wk06A0FMH72L7ynL0U5uh1VPmDSOw5QTLyICNqrWeflR5qVDI3mD\n",
       "G6HgSEGYGLG4W5U6TTjJefgH75SVmLR81SzSKbtbbraf79rUlm125m5mZnKdLUlscR1Ap/ma1fss\n",
       "Mjxa0WsRJ/gJuKaVhDkmvmYtHE3CbB1VZNt5BaK4Z8j1GDcTZWOLeFR7QtVMg3kIMvXg0xDS95AN\n",
       "+SCebVk0iJuwrnB5BRjMZAMfnb3KIqlQXElQd15etEvadGV1kf+/4SqHZAOKDXXkpUwfrAce7WKt\n",
       "8r2/Veb/hbKkMo3vabG21QKssshxLMo/ZyMA5p/SqhDduFl0DbCyS4BpBMxyN4SGVXjuqO5Fcxmi\n",
       "jjOCR4na6F+MsgYwb2rWDWQHcdxetXEkvf1smRY7TRSZux/nlNULbIoi7P4iPXNN1gqd1ArFJTxs\n",
       "9NLXXktPINS+QrQwPffVzwvGA0fJN4Fri7/VwlCZ2Md8OEZPmcW+Baglij7ZQUYNMucWcsqabxwd\n",
       "LOcsL5usFTqpU6jE7aM5QT1e3qC1kc8SGGsuZGOmZYXJNTms75LRj4ntbIGnVWWFUshiosgsKyc5\n",
       "ZW1xPpR61GSVj6AXVeikuo40Lh+gD3mIfvERvWJhOnpzHRN3JKLQFhKiYmg6h2lhYz+sIHRWKso9\n",
       "aIgt9cYGgcywG0IdHec6DqnK2m9gt8R78KrJqjb+GiuLOKY75vLfUf+apE+cLmAMej5qKitGrrXh\n",
       "Ad3dS5+iZ72rWhZsRrehqOqGyAzj9m4Ys9QbvWqyprN6KrhsmjVeIzrIZOHjIDXkZKK/VkIGygcS\n",
       "fICfGxvQdbuQHJyuk0OHeqZKZYgQgyJzrJ9T1nVjSbFE41mTVe2pundSXcdSI4PGh2vNynMLsTMA\n",
       "Q4SMFwIrGWUdxv/m6J7WdQ0/RvFHaQf2AmSIEIMicyqjy7758mkt26PjihiyGsyC+Iw2Wb80Ikxk\n",
       "ekHLLIhTy6eqk+i9mnUIVVnbbPJfON7RoZ1cJQ7bpt9QuzUNrhYjsFdN1l3w4Hqo1El1G/cZyfs8\n",
       "YhZhap5bI8/1aySjrJB4OuG/2CpgL7ayeSXLXCf4gFdNVvmGtOisyu4uUrkgnsCgEqRkTWhE0UhG\n",
       "WdAniC7nPgmG3bdpvRNzm1A786rJKo1vju2FSp1Ut3PtnSkw6XUf4WvXIOnC7FeTNXSW6q1CJ9XN\n",
       "pX1osob67ZQ1803Wqj303Fihk+oyAj6078O37Nxw5puspezOIrCd1P98gC/7kLxfFurC9B5mvsla\n",
       "p5Sy5cqdVOdRp/igLGFRr5qsd0Op2FO5k+o8LvpRFhJ+JulVk/V9SG1SKndSncOHLz+TDArlP6+a\n",
       "rCZ703RuO+7PD+Ff4j9602Rl2VdP5653Kr4oq5VPBrxpsjLs0+u/X/Knlp1qF5NMD5qsDHt8OnVl\n",
       "v/4cRfxDJw+brJU7qU7jGZ90BZEszLYRa/Rt6dn3x5lHaXj/F1r97c05nJUnAAAAAElFTkSuQmCC\n",
       "\" style=\"display:inline;vertical-align:middle;\" /></a><br>(see <a class=\"ProveItLink\" href=\"../../../__pv_it/theorems/6501df3b61c5a7d742fb73452094194e3f4273600/dependencies.ipynb\">dependencies</a>)<br>"
      ],
      "text/plain": [
       "<IPython.core.display.HTML object>"
      ]
     },
     "metadata": {},
     "output_type": "display_data"
    }
   ],
   "source": [
    "%proving merge_back"
   ]
  },
  {
   "cell_type": "code",
   "execution_count": null,
   "metadata": {},
   "outputs": [],
   "source": []
  }
 ],
 "metadata": {
  "kernelspec": {
   "display_name": "Python 3",
   "language": "python",
   "name": "python3"
  }
 },
 "nbformat": 4,
 "nbformat_minor": 0
}