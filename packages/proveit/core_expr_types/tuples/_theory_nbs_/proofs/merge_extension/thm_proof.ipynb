{
 "cells": [
  {
   "cell_type": "markdown",
   "metadata": {},
   "source": [
    "Proof of <a class=\"ProveItLink\" href=\"../../../../../_theory_nbs_/theory.ipynb\">proveit</a>.<a class=\"ProveItLink\" href=\"../../../../_theory_nbs_/theory.ipynb\">core_expr_types</a>.<a class=\"ProveItLink\" href=\"../../theory.ipynb\">tuples</a>.<a class=\"ProveItLink\" href=\"../../theorems.ipynb#merge_extension\">merge_extension</a> theorem\n",
    "========"
   ]
  },
  {
   "cell_type": "code",
   "execution_count": 1,
   "metadata": {},
   "outputs": [],
   "source": [
    "import proveit\n",
    "theory = proveit.Theory() # the theorem's theory"
   ]
  },
  {
   "cell_type": "code",
   "execution_count": 2,
   "metadata": {},
   "outputs": [
    {
     "data": {
      "text/html": [
       "With these <a href=\"allowed_presumptions.txt\">allowed</a>/<a href=\"disallowed_presumptions.txt\">disallowed</a> theorem/theory presumptions (e.g., to avoid circular dependencies), we begin our proof of<br><strong id=\"merge_extension\">merge_extension:</strong> <a class=\"ProveItLink\" href=\"../../../__pv_it/theorems/899754fe217bdad070ac21d68cb975ad70415c200/expr.ipynb\"><img src=\"data:image/png;base64,iVBORw0KGgoAAAANSUhEUgAAA3oAAAAYBAMAAABeqZKHAAAAMFBMVEX///8AAAAAAAAAAAAAAAAA\n",
       "AAAAAAAAAAAAAAAAAAAAAAAAAAAAAAAAAAAAAAAAAAAv3aB7AAAAD3RSTlMAq1RmmUTNIjK7EInv\n",
       "3XZ/CtNrAAAACXBIWXMAAA7EAAAOxAGVKw4bAAAHU0lEQVRo3u1aXYhUVRz/7507O7N3ZscpfTCQ\n",
       "mKXch9LcIAVfdErNckmGeihLbExC8KUbgWBkbb5JK075YLNEjBWWCOusRA+GHxlhaNoqCWUNXHPJ\n",
       "NxNBjQ2i8/+fc+49H3cmDboD4YFz7znn/3F+9/zO9wxA14MvoprXCnSJFTK3UU8b7XYuMu1kyeGN\n",
       "L8/chp//NBRKPKp5gHVtNGNCOrjletpp/9rGBpXjDBLEa4d1CrAiFtzXRfYeFBFg+JDMT0FhSNVR\n",
       "JXrY0QC49A81RNawvaFru18ye3Ca7JEda+P6UjzmpPBqIXsBeFUC2Aos3Ng98rwqjwC52cdFHn4G\n",
       "2KTo6BLVeNYr7PN6Gx1rUKzhN0N7YhR7+F7q69U2rm33ieJVw57Hp4FXJYC9jTNorXvsuUM8AuTn\n",
       "joFMAzyi6OgSmn1k+nf2FalyxxoMa037+BpsyWWq+jNguLbdJ4pXA1WYFlUJYEhirtQ99vIiArzY\n",
       "gDDN3koH1SUYnEBpDTjZsQbTWtFOT9PrmKr+EJiuT8ZhTg6vCorYy0fAUozj3i4ue4MiAhwO8xh6\n",
       "lb6nS+zW2NCxBtNa0c5NkrNqe/Y2xLlPFq/FHlUlgJ1utU51kb1hEeHh07NE3pti8HLFUMWQ2K0x\n",
       "0amCyBq8K0VNOzXnLE5iLm5axi/GsjcR5z5ZvBZ7uWIE7AmAsS6yF3Xuv2Q+l2ZTWUoZELrEbo1F\n",
       "HWsIrcGFr3XtGUE4bMr5oTj2FkkDt0WhCInjtdijqgSwVyETdZtP+b6UnmX5dMS5kb09v6DOB74w\n",
       "EK5jwaB1FgIuttfrcyJC5g+Z3+YyeE60GBkSuzXmdWqMyBouwzVd+60RfPbjidOfUYpjb16c+2Tx\n",
       "WuxRVQJYXyNXwVG6HPveEdLpp4/iG1H2XCjE7J0LJAGfLCPBEVnpx9UYboQSc+hy6sTmdutwJfUV\n",
       "T34jIjhXZb6RZ9+avRrxr0twGPxyWgwDao2dnVojsoaGM61rL+AbDvb9HixAT0+1Wt+1WmdBc225\n",
       "TxavCorYo6oEMCegTUvfwhHDjWTPK3Kxx4foC1y66zkQBYDMZK9MhqIoRErpJomZz+zFesUpHoJV\n",
       "Bnt8B0FpbMj0MWNvEUrsvry24/EpsgZ3Utc+HLLH2ih23Vsb5z5ZvNbYo6oksOoSWgKsI6Rkz61w\n",
       "Mb3DsyZzIwqgj/BNxhxDFaVNJGY+l7Ne4ixxoWnMnH3FML/e4/5EMCR2a8zv1BqKNfQ3de13Qc6c\n",
       "0blaZ2++NFDXvWTx2jPnpALsIJ7dnTkH8QqNLMcf09jrF2L2Tl+Uh8OBUyUsIIOQPfPcKJTI4UES\n",
       "1/g9j7Pt2UAA+1BEyAcy713PsaUZq+ffbkjs1liMKfsCw7Rm61xF1z7D2ws1Mtdj2VssDdSQLF57\n",
       "11JTgL1BlGHKC2ieLQ9q7G0WYvYeZ0PQodUNPWwWBiF7jrHwcSXu8H4S12AfKY8cmivYC7fkAukE\n",
       "zuuviW38gWqMRGuNo77cXd+QDzQKE6o1wFJQtSVjtANPXTXZC10Pm82cLF4VVO6mPOFIYD204C3H\n",
       "r/kIx6TX+Fxjb40Qs/frbKymqdwtYwE3CNlLGzduXIk7XEPiGr/zcUbcgtDdIaLYQVB6Jhuf/fgR\n",
       "/RdiJGpr3PX9elZyHpMt7Mw/oFFZJkxruAcfkbbYIGTxI3pqRkNFrs+b7CWLVwHVM+fGTFGVDmxX\n",
       "OIfI84xkb0CIB/h4zlJ53xAVMIMn6x/U60PEXtZgTyiRw+0krsGier1ecka8pthL4/6W9riPgrLf\n",
       "ZdtSej4AtkTryzSE+I2JPRVZ1md0bVdsu36MJixl7EnXmUnTb6J4bVBbbWDf4uPAZ5S+qbG3XYjZ\n",
       "25seEdNjfoQKyKDtzCmUyKGcOd/hYw+eDqJLYxad4kv6JTK/OWZzhCXRbn2jS+OcvQEwrO9OTWva\n",
       "A70lecPcU1raMG+p9Tt0bUVIEq8NapkFzJsGrwmDLuxnY+SYtWthYnw71TIUAqYIBxpUMOiq7BUC\n",
       "Zs6k+FCUyOEVEtfY8RKhVaAgrwh2U+wfqyp5+bOHxyg2JXbYQs9xexegW2ev0eYy0v5pr5wj/J2l\n",
       "c21db7GLk8RrH+drFjDWwNnjsOcyjJZkw0r2+nze/uzt3euzF1OEUfpoNODsZb74M8CC0VL2BIz6\n",
       "2ROKEjncTckaZN7HSX2j+FmYhX0UU1O+kudm/HrGlMS1JYbAKjetV6/QtZeslM1Wc6cqbV3HkJAk\n",
       "XvtI4VvAcJg7lCrJ63LJHh60UZxuSkwO/41JFPCxJ+GG3UVRYg69GonZc3+9rrVUJuBRzeMlUUyn\n",
       "C2K/puDf0oWqsI7VfrONDSrHGSSI1w6XLWB9A2yJep5m6MbLo/ppHVZyMfCuuhIV35sNYQHdtUhR\n",
       "OlyLIyV06Pok7uLPwP/jkGPLEtCQS8HqVQZ7uQaJ2ZsvWUzxSBAWKIt5Bc1liJTQ4UIuvsNeUsEP\n",
       "n5KkRnghoBSYdwVWaIiHB+3/5XYn/KvwN74pCHp3CnJeAAAAAElFTkSuQmCC\n",
       "\" style=\"display:inline;vertical-align:middle;\" /></a><br>(see <a class=\"ProveItLink\" href=\"../../../__pv_it/theorems/54087cbff86e3001eb43bb50d1ccb992814fdcd90/dependencies.ipynb\">dependencies</a>)<br>"
      ],
      "text/plain": [
       "<IPython.core.display.HTML object>"
      ]
     },
     "metadata": {},
     "output_type": "display_data"
    }
   ],
   "source": [
    "%proving merge_extension"
   ]
  },
  {
   "cell_type": "code",
   "execution_count": null,
   "metadata": {},
   "outputs": [],
   "source": []
  }
 ],
 "metadata": {
  "kernelspec": {
   "display_name": "Python 3",
   "language": "python",
   "name": "python3"
  }
 },
 "nbformat": 4,
 "nbformat_minor": 0
}