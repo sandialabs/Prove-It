{
 "cells": [
  {
   "cell_type": "markdown",
   "metadata": {},
   "source": [
    "Proof of <a class=\"ProveItLink\" href=\"../../../../../_theory_nbs_/theory.ipynb\">proveit</a>.<a class=\"ProveItLink\" href=\"../../../../_theory_nbs_/theory.ipynb\">core_expr_types</a>.<a class=\"ProveItLink\" href=\"../../theory.ipynb\">tuples</a>.<a class=\"ProveItLink\" href=\"../../theorems.ipynb#empty_inside_range_of_range\">empty_inside_range_of_range</a> theorem\n",
    "========"
   ]
  },
  {
   "cell_type": "code",
   "execution_count": 1,
   "metadata": {},
   "outputs": [],
   "source": [
    "import proveit\n",
    "theory = proveit.Theory() # the theorem's theory"
   ]
  },
  {
   "cell_type": "code",
   "execution_count": 2,
   "metadata": {},
   "outputs": [
    {
     "data": {
      "text/html": [
       "With these <a href=\"allowed_presumptions.txt\">allowed</a>/<a href=\"disallowed_presumptions.txt\">disallowed</a> theorem/theory presumptions (e.g., to avoid circular dependencies), we begin our proof of<br><strong id=\"empty_inside_range_of_range\">empty_inside_range_of_range:</strong> <a class=\"ProveItLink\" href=\"../../../__pv_it/theorems/9a135a412f26159ffcae6c31e6c04b21b79347080/expr.ipynb\"><img src=\"data:image/png;base64,iVBORw0KGgoAAAANSUhEUgAABSkAAAAYBAMAAADkP2WPAAAAMFBMVEX///8AAAAAAAAAAAAAAAAA\n",
       "AAAAAAAAAAAAAAAAAAAAAAAAAAAAAAAAAAAAAAAAAAAv3aB7AAAAD3RSTlMAq1RmmUTNIjK7EInv\n",
       "3XZ/CtNrAAAACXBIWXMAAA7EAAAOxAGVKw4bAAAJi0lEQVRo3u1aXYhd1RVec3/m3jn3zsytkdCW\n",
       "IFfaxmJ1ctsm0rzotJPYUkm4kApa0/HaUARfvOJTazXTvklHMxKKmIKcsaCtQnIT+lKl6RAR/Knp\n",
       "KBbiz8CNHTLYUg1KjMyDdK/9d/Y+++fsnJ7Ql9lwzpw9a69vfWuvdfbfuQCXpfT5pdb1UrOp1UKx\n",
       "A0otFD+/0X7uvsnJP2+rDAo5uyW3I32Hcs0pKaRMtNml1lOlOrTovR8CPhvGwYZVrFGLV5eZf6BH\n",
       "IeEpoFtyOzLrUH5fSlpY/UrBWfkNfgHc8jzIZ7VfpuGfar3yQkzupUG63WqqXn+H6Hb8xl1Y8HAc\n",
       "ZlSUR+KEhm7U4ZXKUvp5yfwZuptWgg71I7pHmcVGPCgWeRyx9y/hjIoWZdJSSHZj/e5ikzLqsQug\n",
       "8cVTIJ7VMj6A0VipH5/H1/dpA+ldvbp48zq53+O37sKCcxBmlDtx5b2xQkM16vJKYyn8vGT+DN1F\n",
       "S0WHiZ7uUVaxEg+KRR5H7P1LOFNFU/lpkJJf4Xy+UGxWVjrsAmh+7QiI51Qpq2/fqduxX2ac85QA\n",
       "mMDO2O637sMKMSqNfaTGSjXq8mqfytItyeDP0Gf8fWD3KKu4iIfHYl8hgdhuVZ5JJPiaNNrFZmWT\n",
       "XwB3xiCf0+VVpcdZRy+5AEtDtTOa3uHBjxVgVBrTslI16vJqypmVU+H8OfqSvw+sHmUWZziCYzFV\n",
       "SCBQ0VReSiRl8uKMFrys3MovgL/IulkOKDPLMu33XlhWjnrXM36sAKP2rFSNurwKzEo/f4buoZVC\n",
       "P3AJgXGGIzgWU4UEAhUNZdpSSF5fWXmt4Ky8hV/wzdev5PXq2WdOPll/4beswVEcrI8nE8iWN3AK\n",
       "qZC1y+yXH/hg+Js/d9nSbrVji0ij5bHtwoLow1aQUTMrKQ3FqMsrMyuPztgkXv4c3UMrycqjZzWP\n",
       "MkuKeFAscjtiB2KcUdFQxpZS8gOAIwVn5QH59n0u6o2xq+DYDriONRjsJ7cbEoXJoXiDBo8No0+6\n",
       "JTbsN6pLtoiUez7jDiyowItBRs2spDRUow6vzKykfhoSP3+G7qGVZOV0s6N5lFl04v2AWFzM74gV\n",
       "iHFGRaa8ZwXLG3I2EpL7oJZk7TNs8243w5fE15BrTvm3ctjF1OFNfkHtM1G/dXwBDg7hJobfvpnc\n",
       "r0v0DlK88TZUu29D7XMon6f//nWlZ4tIacnXGQ4sWIOPg4yaWUlpKEYdXplZyfw0JH7+DN1DS2bl\n",
       "RH+yrXmUVVLE5wJi8Vl+R2xAnDMqGsrjbUgkY3ED54hoF6bqSSafs5phO/Uytj4jjk9uwEFIFqYO\n",
       "L/ELSudFPT7WhW0xMOciOE3uhxK9bWwN3IUougCldeDZGDcxEpWVlffIMqMlO6N+3tcZDiyIS+sB\n",
       "RlVjIispDcWo3Svy1v+Nv/Uib5ifhsTPn6F7aMmsjNC26lFWMYiHxCK3IzYgzhkVDeVmFxJJaUg3\n",
       "O2M75rKcYlm5qA6dj/6HrFGM816ZlWzBS58JRxI8voKlHPenV+FIi3QcCUOTQ26LbeNEdSl7RW9i\n",
       "QWU5zKi520EailGXV+YMLmKhS/z8GbqHlrLb2aN7lHlcqRHfHBCLkV5+R6xAjDMqGso0K6WkdyNd\n",
       "BWSfxrKs3K1Vr7edh8oZfKwl65vxLLp6MWJ7sFbMVHl5TA7hhP34AO7sMzZ3RdYZfNnH0oXFDoID\n",
       "jJpZiTQUoy6vzKykfpoTn5c/Q/fQUrLyXd2jrKIT/yQgFpOdOLcjViDGGRWZsrKuZDO4kJzArCpt\n",
       "OUHus5T20e/hRD3z6NmJnXPsaVXJymXclLbVrDwheMzyBeqT/ILmUNZfAzKOj/TuB2R3rEsyZCed\n",
       "HWmD06zTSGsyMpDJZXOtg10WXWhYdzsLdCowiheLrHPwXfQbNbMyFjQUozavjJDRptRPc5Pg5c/Q\n",
       "PbQkOtQu6B65S2wSL603smOxLR7kdsQKxDijYjn96QZbJpJf0lxCXtGQvobTeKD1+/2dZmuixZ/6\n",
       "MitrZCiu0KMlmZVfhcoTpBzm6uyc4bhMBPpMVrtk2T42GESf4jIGexrPjmiNMWUnAmSJTPYOv2vA\n",
       "sR4uMO5PZWXjojhCQDnVxoek5sQCtifxG9WN/bXPmlIa0qjVKz1kyJI2PcQzSpMoUJoTjBZH99CS\n",
       "6GwjJD2SGHrNgObEJ3rfyY7FufJciCMWsw4gxhkVK+mFHz0qkpIRuqDchUBP4dgZxX8i91+cg8k5\n",
       "KsenWGZlldyfbUyrWXm72OI9xUf0R/jFF7z4XF3GD/zVvX1YIVgj3yb//QeKsCZW4XWi/hP6i4wf\n",
       "rcE4/gZhU+q8cmTLp5vIUI+dS+Vv4cO0uPmx4EuQaVQz9oW/39VhTZFGYtTqlRoyypI2pX6mJQoU\n",
       "pf2Wxp+ju2kl6DCyoHokwRJEKzQnHm1qZ8di8VthjuhmPUCMMyqOd1NZiS3TksNyEOVnjVfBPJvq\n",
       "ydP+ZAYvtejREhkdX3niMMvKh7UxmO/h6T7+u2Du6Ut8tqkty1qFz/xnVJLX2r5r0PKgIVeQ3Vin\n",
       "A4waxgRb1ajNK20gMflNBfMX6H5aTBtnZMUj3+47thIPikVORxxAdBXxoFRWyxlT8jJdPvyBPl9k\n",
       "//gADtbZ0666zMo63if7thlcqNOP/eQqtX6a1JOBWmyJO6J29Wib/Uv7YK8O8FXt69SMIU+QnVhX\n",
       "lNcDjBrGGoZRu1e07HPx1yU+/hLdTwu1R9o3xapH3t03WIkHxSKfI3Ygxpkqmr/a2G5IonWIBrC1\n",
       "As+RxFsi99p5MkburLCnM1/XdjtkFFWz8kMBslUcXT5Or/EjPaUuP5Pxvz+XtbfFj53GlJ8hR0Pn\n",
       "WfCCQ+7Dqn9Mx/0Mo2DF1I3avTJKTv4S3U8LtQ+139Q8ynLDQjwkFoUFIuGMipbfqZGWKQnJxPop\n",
       "WFyD+TaQPc58u9qCu+G+f7Gnf3eSrESXzorqA/eeVJxc5Esg+CO9yqt9pZ7+FPS4rN34fcFbYTrh\n",
       "Pt/oO+RerL27A4zaMXWjdq+MkpO/RPfTQu3KalfzKMsNC/GQWBQWiIQzKlreOtIyJcFRvUSf2vSD\n",
       "ZFtK2qnzyjvEwnPBHdbakF1qPd2vtrHgoZBTt7WwwzkbVrFGa0PIU/4H/oEeZX55HBbSLbkdWXMo\n",
       "P5SSjF1NVsA/psuX+GfzeJfLmTiVlZX+6G1L4tsO+wdslI1yGUoD14Z0mi7D3h/iXQ6i6W878Hxl\n",
       "Vdvx7djovo3y/ytixWM9yd8oG6Ww8l/kk00Gjp0d7wAAAABJRU5ErkJggg==\n",
       "\" style=\"display:inline;vertical-align:middle;\" /></a><br>(see <a class=\"ProveItLink\" href=\"../../../__pv_it/theorems/96af58b3e82f2277068bb02165a61b2c3e9d8d580/dependencies.ipynb\">dependencies</a>)<br>"
      ],
      "text/plain": [
       "<IPython.core.display.HTML object>"
      ]
     },
     "metadata": {},
     "output_type": "display_data"
    }
   ],
   "source": [
    "%proving empty_inside_range_of_range"
   ]
  },
  {
   "cell_type": "code",
   "execution_count": null,
   "metadata": {},
   "outputs": [],
   "source": []
  }
 ],
 "metadata": {
  "kernelspec": {
   "display_name": "Python 3",
   "language": "python",
   "name": "python3"
  }
 },
 "nbformat": 4,
 "nbformat_minor": 0
}