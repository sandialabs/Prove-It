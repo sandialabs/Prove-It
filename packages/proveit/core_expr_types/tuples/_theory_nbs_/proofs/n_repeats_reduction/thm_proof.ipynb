{
 "cells": [
  {
   "cell_type": "markdown",
   "metadata": {},
   "source": [
    "Proof of <a class=\"ProveItLink\" href=\"../../../../../_theory_nbs_/theory.ipynb\">proveit</a>.<a class=\"ProveItLink\" href=\"../../../../_theory_nbs_/theory.ipynb\">core_expr_types</a>.<a class=\"ProveItLink\" href=\"../../theory.ipynb\">tuples</a>.<a class=\"ProveItLink\" href=\"../../theorems.ipynb#n_repeats_reduction\">n_repeats_reduction</a> theorem\n",
    "========"
   ]
  },
  {
   "cell_type": "code",
   "execution_count": 1,
   "metadata": {},
   "outputs": [],
   "source": [
    "import proveit\n",
    "theory = proveit.Theory() # the theorem's theory"
   ]
  },
  {
   "cell_type": "code",
   "execution_count": 2,
   "metadata": {},
   "outputs": [
    {
     "data": {
      "text/html": [
       "With these <a href=\"allowed_presumptions.txt\">allowed</a>/<a href=\"disallowed_presumptions.txt\">disallowed</a> theorem/theory presumptions (e.g., to avoid circular dependencies), we begin our proof of<br><strong id=\"n_repeats_reduction\">n_repeats_reduction:</strong> <a class=\"ProveItLink\" href=\"../../../__pv_it/theorems/ae6e23d76b9720dad13f162c790e538951c001bc0/expr.ipynb\"><img src=\"data:image/png;base64,iVBORw0KGgoAAAANSUhEUgAAAjQAAAAYBAMAAAAfVHpUAAAAMFBMVEX///8AAAAAAAAAAAAAAAAA\n",
       "AAAAAAAAAAAAAAAAAAAAAAAAAAAAAAAAAAAAAAAAAAAv3aB7AAAAD3RSTlMAq1RmmUTNIjK7EInv\n",
       "3XZ/CtNrAAAACXBIWXMAAA7EAAAOxAGVKw4bAAAE1klEQVRYw+1YW2gcVRj+dnY3szt7yQbfitQF\n",
       "L0hVutSY6ktdyNZbTVnrg6BpDPpQKAjro5e0Y5/Eal0fRNcHu2IQo1DHCj60LxtFFEWNorAWAhMt\n",
       "DSLGqNiWvOi5zc6Z684MyZP92Y9sZv75vrPfOec/5wyQOFoCYaGGPj2UPjrdZiqr8ZS8Ua5yhMbP\n",
       "gXdmhvHPxKLbTOWsyVGh/1ybwJqbBMJCMXx75ey9TZRrw6yvRaSLoQzk6sOV8QvHXvr9UHxntFmO\n",
       "0HjH9+o8lL+Aw8MUDkeki6EMlCoRlEe6DM/RbmzHtyZT4wiNSd+rf1S1i8D4MIXxiHQxlIHfKxGU\n",
       "03UG6lChGt+aokBo9HyvTjdBrCl2hyl0o9HFUEZuohJBGV8ypEnPjyQoNTcIhE74oAmn/E1E2ZBL\n",
       "tQIH7UgtKl105cJIJYIyHuf4enn5qwTW7BM4tfLuWT7otLVtx087Jx2phTPbnvnVdD98kDSuwBYA\n",
       "tQ/M6a4yxol4gotOEkmivEqtCVa2OD8Ewz3AG1H9KHiMRb28PbPEm4MVc8rT78YrpnbJRXNijDQp\n",
       "zTt2TqdtdP4uTsQTppZpfGfRSSIJlNUatSZY2eKcAMOTUCveIhtQe+2v33OkW+mNFB/5u3Fn9yrn\n",
       "clBFtvkT1Mue8U5WKIWXA7Xv6TpBpLjrBaGTRJIoF0CtCVa2OG8GQ75baHo8yLv+n9vXTC86rPmM\n",
       "I4eMNa113OUupE1o2j9QNuigf4J1v2jMt13k1gW1p+sEkZUg00kiSZR3M2uClS3OlzkU06cKy9bk\n",
       "VjpNpXIG9/lZQ1phz+dvfH6Lso6UqyY+D5wkvdoLaqAgyvZ86GSR2MqqyawJU+ac0wKze8KtaRC/\n",
       "lT0ZGIXGVGOva0IBj7Y0sRhmL+E9zwwgrRutOVfLf7vUGmUpaFgLIp4g1RpKJ4vEVs6OjV2zaIQp\n",
       "C85bwHGa7A7TkyfOs935+SN329aM374m9tXKsYdMwzFq3uRYaF5NizOh015N9WBAkw0mXVA0sLPr\n",
       "3LUvsgmVbvsVQ21AZCU46CSRJMrkYgXByhYn7hB4lmS/PV0r0hPpaqr92MAa7bZP8TkWWN3Uz1zv\n",
       "tEasbztfuB8HQHe3yuX5XraKD+gB4iK7wlbJozoupJ29cyvb12QM5xJKHuQfQSQS5CJakUWSKAOj\n",
       "7RBlwWnvTFLk/tMXMErHXi1v6gNr1FOz2MCD3JpMue2w5iWO+TVlkvyM5S60/eZ1u8hQPkdu/MA+\n",
       "yJGRexB4a5drvjTI8RIlVjmouMoqQqnOPucsIpEgF70lWSSJMjIn/zSDlS1O/CjAYjsrO8TVllRr\n",
       "UiapWBOdTqeq6Jox69jXlHQOsRrbc3qH1JJ+yB5pzv/yjpCEvk/WViirSxw8vkAjR/++yN/0cGuK\n",
       "eqauH+ejBgdMvyOYdy9ohJ4Qhx4AjZCEcZ+srVB2HJ3VdfRv1Ay19zHqtjVHUTqm52m3pJsouzaG\n",
       "rwnwDbZdzWQH88Fv1AKOL/bjPgkDOklkC5TxlACf/hX8Vst9gv2PrHVtax5A+SOor9Oqcki89LJj\n",
       "QYCFTVt2yAW/7QhoezksYUAniWyBsrPXxbz13de83+k0/cw3OULjSOCd1WHntdVYdJupXG5xyPFw\n",
       "4EHhfx+1K9YMD/WKBfgP0y+z87jSi/kAAAAASUVORK5CYII=\n",
       "\" style=\"display:inline;vertical-align:middle;\" /></a><br>(see <a class=\"ProveItLink\" href=\"../../../__pv_it/theorems/bd845ebc454abf9be034ef14f1b7b9c1be2da3ba0/dependencies.ipynb\">dependencies</a>)<br>"
      ],
      "text/plain": [
       "<IPython.core.display.HTML object>"
      ]
     },
     "metadata": {},
     "output_type": "display_data"
    }
   ],
   "source": [
    "%proving n_repeats_reduction"
   ]
  },
  {
   "cell_type": "code",
   "execution_count": null,
   "metadata": {},
   "outputs": [],
   "source": []
  }
 ],
 "metadata": {
  "kernelspec": {
   "display_name": "Python 3",
   "language": "python",
   "name": "python3"
  }
 },
 "nbformat": 4,
 "nbformat_minor": 0
}