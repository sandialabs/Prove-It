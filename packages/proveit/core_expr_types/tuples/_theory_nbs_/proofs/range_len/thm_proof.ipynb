{
 "cells": [
  {
   "cell_type": "markdown",
   "metadata": {},
   "source": [
    "Proof of <a class=\"ProveItLink\" href=\"../../../../../_theory_nbs_/theory.ipynb\">proveit</a>.<a class=\"ProveItLink\" href=\"../../../../_theory_nbs_/theory.ipynb\">core_expr_types</a>.<a class=\"ProveItLink\" href=\"../../theory.ipynb\">tuples</a>.<a class=\"ProveItLink\" href=\"../../theorems.ipynb#range_len\">range_len</a> theorem\n",
    "========"
   ]
  },
  {
   "cell_type": "code",
   "execution_count": 1,
   "metadata": {},
   "outputs": [],
   "source": [
    "import proveit\n",
    "theory = proveit.Theory() # the theorem's theory"
   ]
  },
  {
   "cell_type": "code",
   "execution_count": 2,
   "metadata": {},
   "outputs": [
    {
     "data": {
      "text/html": [
       "With these <a href=\"allowed_presumptions.txt\">allowed</a>/<a href=\"disallowed_presumptions.txt\">disallowed</a> theorem/theory presumptions (e.g., to avoid circular dependencies), we begin our proof of<br><strong id=\"range_len\">range_len:</strong> <a class=\"ProveItLink\" href=\"../../../__pv_it/theorems/ace0878051e8cca7f19f26dfaed8f7bbe4b7aab30/expr.ipynb\"><img src=\"data:image/png;base64,iVBORw0KGgoAAAANSUhEUgAAAiEAAAAXBAMAAAAvhYItAAAAMFBMVEX///8AAAAAAAAAAAAAAAAA\n",
       "AAAAAAAAAAAAAAAAAAAAAAAAAAAAAAAAAAAAAAAAAAAv3aB7AAAAD3RSTlMAq1RmmUTNIjK7EInv\n",
       "3XZ/CtNrAAAACXBIWXMAAA7EAAAOxAGVKw4bAAAF+ElEQVRYw+VYT2hcRRj/svuS3X0vu1lNDwql\n",
       "bNH2oI1GSAK9tJGmKgZl0YNWSt2aQ8FLnwhC1di1t2BrAj3EzUFWkEAsxE2OATUqglara7EQqgsb\n",
       "u5iTMRRaJQdxvm/+vJl5L697WC864b3MzPd98/32N9/MfPMAOl1S7I+Kr3X6docpiRikveIr7dRO\n",
       "du0ORWP58C+UX8Er4v9cIejj9RMR2rqWVrqbbfkS1qjNLbhrC0+b5YR48ti4r3OEJGoC1oPUHF+R\n",
       "9RbkBnVFXWKWC1WAG3dwE1jDVJW0b0QzwvAApOesXttl+joQPHyOYsepzjEyL2C5JUJ4zxey/jPA\n",
       "y5qeKdGKu+s0Y6SnGutFs4bfuDZZhBmZp1gqWb2mS/jgsW3g8NjzNi61mc4xckTAciggevfNqTrA\n",
       "kKZnSrA8Kyt/sN+WHI31YlmjNlmEGTkSN0y3HCC3LeANcWq9QucYWRWweqn1Ik11r/wd2sSbEiwP\n",
       "6YzA5VgvtvVl8YQZWY1d4k2dEYTHniSjqaeD20hJwNpPzU/ovV8Ie7SIMCVhRiZi3djWE+IJMZIo\n",
       "tc8IwsPnSqPxbecYcWoC1ji2HrmyC3jdbTFXXl7pWZIwI0txXgJrcDfzQnspihHEA4vrZqdyaTKC\n",
       "8PB5AiDYiV1+IJdpMGHli7Ym5yXqhESOCRaf47/lDHrdLHyT2oSZkjAjI7HEK2uG8kuhPaIYeaqB\n",
       "5UcVlqO9g+a+LF2ajCA8fF6BFLLsjqGVx1XW8JXhysOyDYGcqY8oymByvJj8XNSzBQHrKmVHf1En\n",
       "q59zmKtEsKgtSZiRA7FZoLKGDbgptA9ExQjiyfl95kapXJqMIDx8MlUaJjNctgbjjLj5EB7c1N/9\n",
       "ne3ULCLT65ViIr8CT8rNsyhgfUUet6iT1au9zHl6K1jBpgSn9TsxrZyR6dj1r6yhmtgW2tNRjCAe\n",
       "Fx7GEecpcnByuUun0fiFbRl5xQjCwyfRpI21L5QAcEaccBZIZ/UAP7zHGI+JQw7UIhnx6go5guoO\n",
       "YsSShGPkeGw6EliDUxfax3dihPFt9UqXZowgPIJYOoSy3cvYt843nkLASFa1lVwxsszT0MS555q1\n",
       "yFWTyavoPukyxXpAtykJMzIQx4hmDdma0B6I2keyhYiETLm0Vk1dQFymVPIgvhYpUhx+ZHFGXlNt\n",
       "JVeM3A8LNG55ZZ9kJNMUsN6nGeIeWd295bFtCy359FiSMCOEJ5y4upY1wNmi0D4YFSOIB1K3rEGk\n",
       "S2tnnREQ3yTCx/D1Os3MR95owMgx1VZyxcgxnmcmyk5OZr10ghXl6XmWA1zC9fkqPwrd2xAhMRj5\n",
       "zJcnK+p+XBKvoKVZAxyW5/B4FCN04Ce3rFuMdKkY8f4UJzWd1l20pV4MWBeZFGdkL29PVVjxmdyp\n",
       "VL6pXOSMTMEI6y0kym5NRlG6LmBdoPUqrm7s6WdjZlHQqEZIdEbu+uEk67kGQjeL00Gvn7By3bKG\n",
       "e/F1TTwhRhAPdNm3lH4rH+nafbufw8sGA3xN4bRN7PT5ASNTqq3k2qp5h8cIPKNykzUBK4uaj4rN\n",
       "RRxjk6RNjFgSI0bofK0HukZ5wLb+XmiTRTiLXwsWWUzOquBNBkuLLaRLLOcddVnYnAdjZxVtyolH\n",
       "dUY22dGNQVmEnDqjhwQsdvFK5F8KLmLq1oVLOCQxbnqgLnFe+EfUTOu7k9tCmyzCjAxBV+Fw9U43\n",
       "PQUvuBim2alzvuDu8dPsmr2uMZLxZRt52+MLRt44/SnALKTew+A9JT6zCH0Oaxayc3ItzfJ5JyoX\n",
       "kWZLEi5nQOpam2LTsE7fpMPkjLQIM5LxpwtX2/v4N2N8BaDJopMqITNwzgimYRMR+QiiY5VLlYoJ\n",
       "gnVyWAuQbMnVtqDI5bm/LQmX2R3uCTnL+umjUns2mhF3xmkV22IE4WXULSWzly3JbgquF3qeX9UY\n",
       "gcdl28hZKbIjv0q+BTnaHFLaz+H1jaiJiV7iufY+eApr1OYWuXIEnjbLhgHR20TuqTrotKo6I96H\n",
       "rR2W4TD8z4r8iL3j973qf/Jn/wPIy7yecQDwDAAAAABJRU5ErkJggg==\n",
       "\" style=\"display:inline;vertical-align:middle;\" /></a><br>(see <a class=\"ProveItLink\" href=\"../../../__pv_it/theorems/3e61d0380c20934ca55b8ada0d14a0d56ade1ca80/dependencies.ipynb\">dependencies</a>)<br>"
      ],
      "text/plain": [
       "<IPython.core.display.HTML object>"
      ]
     },
     "metadata": {},
     "output_type": "display_data"
    }
   ],
   "source": [
    "%proving range_len"
   ]
  },
  {
   "cell_type": "code",
   "execution_count": null,
   "metadata": {},
   "outputs": [],
   "source": []
  }
 ],
 "metadata": {
  "kernelspec": {
   "display_name": "Python 3",
   "language": "python",
   "name": "python3"
  }
 },
 "nbformat": 4,
 "nbformat_minor": 0
}