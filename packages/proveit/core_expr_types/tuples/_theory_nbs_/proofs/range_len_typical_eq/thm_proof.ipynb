{
 "cells": [
  {
   "cell_type": "markdown",
   "metadata": {},
   "source": [
    "Proof of <a class=\"ProveItLink\" href=\"../../../../../_theory_nbs_/theory.ipynb\">proveit</a>.<a class=\"ProveItLink\" href=\"../../../../_theory_nbs_/theory.ipynb\">core_expr_types</a>.<a class=\"ProveItLink\" href=\"../../theory.ipynb\">tuples</a>.<a class=\"ProveItLink\" href=\"../../theorems.ipynb#range_len_typical_eq\">range_len_typical_eq</a> theorem\n",
    "========"
   ]
  },
  {
   "cell_type": "code",
   "execution_count": 1,
   "metadata": {},
   "outputs": [],
   "source": [
    "import proveit\n",
    "theory = proveit.Theory() # the theorem's theory"
   ]
  },
  {
   "cell_type": "code",
   "execution_count": 2,
   "metadata": {},
   "outputs": [
    {
     "data": {
      "text/html": [
       "With these <a href=\"allowed_presumptions.txt\">allowed</a>/<a href=\"disallowed_presumptions.txt\">disallowed</a> theorem/theory presumptions (e.g., to avoid circular dependencies), we begin our proof of<br><strong id=\"range_len_typical_eq\">range_len_typical_eq:</strong> <a class=\"ProveItLink\" href=\"../../../__pv_it/theorems/39e788f16407fcee1adc785c136fc2d465b717d60/expr.ipynb\"><img src=\"data:image/png;base64,iVBORw0KGgoAAAANSUhEUgAAAmwAAAAYBAMAAAC1l7zoAAAAMFBMVEX///8AAAAAAAAAAAAAAAAA\n",
       "AAAAAAAAAAAAAAAAAAAAAAAAAAAAAAAAAAAAAAAAAAAv3aB7AAAAD3RSTlMAq1RmmUTNIjK7EInv\n",
       "3XZ/CtNrAAAACXBIWXMAAA7EAAAOxAGVKw4bAAAG1UlEQVRYw+1YXWxURRQ+vXu7/12q8KAJD0sM\n",
       "NUGQNSoJL1DlTyGQjTz4A8HFxpD44hqfSKRU3owlXeND3caYiyZoJYEt8fpQA641JgYFC8FEi5ss\n",
       "0FieKiEBTE2MM2fOzJ25f+Vh3/CQuXy9Z+bMd7+dnzMD0Gmrsn/cUtq7lP+F6bnn1xHVqlRC2lWN\n",
       "/wJ48dchnaWg81YogovgmvYScXc7pPq18CihdSNb76MCkCv7ariSlE4w1PYt1hlxchH0cvhI52R7\n",
       "jKhaDf60v3EIF/rhul7P8Jh2lHmuL9LNjknVx3tOocSilGJkY6Rg1iOosLT0jAwQaekx4uQiuS0c\n",
       "HuiYatkKUT2Of04MFwn3NCDpaBUNjxFh2ZusnlE3aLmHplQffwK8AaJEyMZJwRWPoMTSjm1dkAGi\n",
       "Z1GFOLlI7l0+a2sdk80uEdVN+OfUy47CkNCHleFB2y3BX46vbtDyK8f01k9RiZDNLpkE1bSTuLAg\n",
       "A8SZ4OQi4BLmih2TLS+pNpHXAijM7JzG2PRwe1yXTa8bYq86Ruu8I0qEbHkfQWlWW5ct7yz2cedk\n",
       "xHOQYIonO7e09VFgq4I//jQozGxAm2WmJyjbQGw3Z8zWyZIoEbL1+QiGy5YsLfZxAzIiA+dbrZ86\n",
       "J9sOCmzzBSux/GI/4ZN8Qk14493nCco2EdfLE+eXyT6y82xTy1GJkI2Rys6WFEGFTdkwQJSdvCo5\n",
       "uQI8BzDWOdkGKLD46Za05Vho7GVgnVfP5wnKti62m39la7Dhe/YrVEQRstkttF4lGyOV624qggqb\n",
       "siUqMR3250vEyRXk3oKUJ/PnYrMVNcWrR1kZMv3UV1j4SxS4B5fLw9iQ4XRxKwOrvXo+T1C21bGZ\n",
       "598g+5iDW+z7m6JEjDZG6ohdUQQVNmWzmjH7aHVJkTi5glzGwb6ym/lvdxYr9eA3ie01wZ2/yeZn\n",
       "JfisonSFQzvKie8I/0CB88h/rViFy5CFCwyMeDx8HtjZav3cal30ZBuJk826CbIPx2KfnL4pSoRs\n",
       "jJSTbyuCArMx+cd5GpMoGwaIyqtgrUOcXEHOauOOkHl6yFdVyHYsmGPwLubZkr6Hg6v1stU7CdtD\n",
       "ZTsjxQH+cbDXt6Z7nuBo2xubtk0r2cBmmM+67macbPjZfmyOtu5mXJc7JSeXQGUDLjaB7VfItiUQ\n",
       "IIM9TouUdDMT29pgQyN0kn4AcjIle1nlNV4Qnyco25q4b8j0qkmK2TJnw0vE2sZJ7c96BCX2TdLp\n",
       "uC6vSE4ugdM8PbaWn+bnMuzq5LOabNN855F5HfqVbCzdwxOJdeTFtpTtEwqcQUYXxEcyfKrMaqzn\n",
       "fwmRfJ6gbOtxagRMtBYzTvRxmCmVqIkSMdoYqeztnAhHOGxLqKn45vzE1fQ2ccKIHLyDWiHNNk6Y\n",
       "/j5PthRbw2yZIAm/ks3qh3HEQ5MrpWwTFBh3c+xL4JFUSWQn2TsQ4jFk+7ZKmcypCj2wkQJCKpkx\n",
       "bKRUBNORcNkm+ML1tghH2JQtd5eCYHyzN2wFiZvECSNy0IWL2mb+MZ/ycZp1vvJk62bPL3O0+Au/\n",
       "ko35dgvZ7II8nh2lwOlptXIj7nqSgV/5Xy0nxKPL9sAv+0uibs8Mf/DOL0uArWlDwT7gYe4qixIh\n",
       "Gye1tCTCETZk61p+ZykFwPiXjW5nsEpN8nclQPvQG/aUoaMSVi8mSOk6s1Huf77+cb1eQtnSNVjH\n",
       "XhetoWxD5jx8E0aqfPO1KbOhjTglTgZO0GOONq/uquAeirI9o7Xm0/0QlQjZemi3W6VhY7SJhMCL\n",
       "b9gquSwITq4EaD/yx6kvEN/1ZEvz5xJ5hYd+fZK+L0YbvNDWjrsuna5XJIveSVudovm64veYR3mv\n",
       "biO4h+JP+Zpq/WBigc70m6Jlk/cCDd99QrdxnNok4/uMteoqbnQkJ1e/DsguQLYBfTacYFI1zS0B\n",
       "htWBztZlK7RZ0idSu4LKmEeJaqYKvx+XG5+Q/aA4prDi9wTtoFhLg4ccPmDGKrJ1+hbfTvkNjrjF\n",
       "ibhvGwUv3GhUCl2T8X1bAms1Uryk+LsS4KhqQnoKjs3BcFFqUFM9XlUXU3MkW+rrf9r8m1Mf8eXi\n",
       "AN12chuXd1w12LBN9lzTyHPufk/QRiPOIbx1YraqWu/aQuKLHyBCtnHtWDMeldRUZXzfAYGP/dmy\n",
       "4u/qyvOxayEqyqsA8UV7ArcRGU0hOFGvm0xTbbiBYFB7OSgOKCFkB6MOM/d0AqbWc1RYO3/OfkOS\n",
       "0gmG2tyi1/1ViuiRy6xg/b2C8915fVhPd+1q8qVm4JSAtg3ud8vNswcOsgTs2q7LBpP2bPj9XaIM\n",
       "/1vQqnqWHHq8vX/tP7i+FfJpvq2lAAAAAElFTkSuQmCC\n",
       "\" style=\"display:inline;vertical-align:middle;\" /></a><br>(see <a class=\"ProveItLink\" href=\"../../../__pv_it/theorems/af21369e6f94c707353cf4e28d7cbd4c2a9277df0/dependencies.ipynb\">dependencies</a>)<br>"
      ],
      "text/plain": [
       "<IPython.core.display.HTML object>"
      ]
     },
     "metadata": {},
     "output_type": "display_data"
    }
   ],
   "source": [
    "%proving range_len_typical_eq"
   ]
  },
  {
   "cell_type": "code",
   "execution_count": null,
   "metadata": {},
   "outputs": [],
   "source": []
  }
 ],
 "metadata": {
  "kernelspec": {
   "display_name": "Python 3",
   "language": "python",
   "name": "python3"
  }
 },
 "nbformat": 4,
 "nbformat_minor": 0
}