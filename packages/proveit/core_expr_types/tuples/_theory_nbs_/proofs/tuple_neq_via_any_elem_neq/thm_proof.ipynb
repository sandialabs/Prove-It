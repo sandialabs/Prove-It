{
 "cells": [
  {
   "cell_type": "markdown",
   "metadata": {},
   "source": [
    "Proof of <a class=\"ProveItLink\" href=\"../../../../../_theory_nbs_/theory.ipynb\">proveit</a>.<a class=\"ProveItLink\" href=\"../../../../_theory_nbs_/theory.ipynb\">core_expr_types</a>.<a class=\"ProveItLink\" href=\"../../theory.ipynb\">tuples</a>.<a class=\"ProveItLink\" href=\"../../theorems.ipynb#tuple_neq_via_any_elem_neq\">tuple_neq_via_any_elem_neq</a> theorem\n",
    "========"
   ]
  },
  {
   "cell_type": "code",
   "execution_count": 1,
   "metadata": {},
   "outputs": [],
   "source": [
    "import proveit\n",
    "theory = proveit.Theory() # the theorem's theory"
   ]
  },
  {
   "cell_type": "code",
   "execution_count": 2,
   "metadata": {},
   "outputs": [
    {
     "data": {
      "text/html": [
       "With these <a href=\"allowed_presumptions.txt\">allowed</a>/<a href=\"disallowed_presumptions.txt\">disallowed</a> theorem/theory presumptions (e.g., to avoid circular dependencies), we begin our proof of<br><strong id=\"tuple_neq_via_any_elem_neq\">tuple_neq_via_any_elem_neq:</strong> <a class=\"ProveItLink\" href=\"../../../__pv_it/theorems/18388f93bc8d8a8dd901c2d386713a2301408ece0/expr.ipynb\"><img src=\"data:image/png;base64,iVBORw0KGgoAAAANSUhEUgAAAxcAAAAZCAMAAAB0HCPjAAAARVBMVEX///8AAAAAAAAAAAAAAAAA\n",
       "AAAAAAAAAAAAAAAAAAAAAAAAAAAAAAAAAAAAAAAAAAAAAAAAAAAAAAAAAAAAAAAAAAAAAAAeYafp\n",
       "AAAAFnRSTlMAq1RmmUTNIjK7EInv3Xbt5cnn9enzas/lfgAAAAlwSFlzAAAOxAAADsQBlSsOGwAA\n",
       "B4BJREFUeNrtXIu2q6oOLYgioJy3//+pB3mTRGprd/fZ98oYa9FFYDqFhIRH1+NxMbF1XeXjTnf6\n",
       "X0nWaTS/jDLdHfkLJQnyn/Lwz1X8UZ0yDLdd/F9NhbzNv5tGeyAQmmT5bV6Fn7MLlsV8eNcurmLc\n",
       "6TuJmzb/ulnS2jErzFKrZT2C6cnOJNQ+8cr8nF2IMWu4fNcurmLc6StJT23+/TRpqlTNFMtJdHDE\n",
       "RR6C5pVyZxdzmuylejuOuopxp68kMbT599NA6fPMSJZbJ5raLkZasH3ilfOh2Ijhb9vFVYw7fSUt\n",
       "IP8ZFAiHoSTFctz08YKgIzu1oEDtE6+Y73aR1t5vOtepXr/fi/D/8upiavOfEkhhVzUykqXpLCHM\n",
       "eo0Fbp94xdzr87LuaTEX7OIixp2+EkaZNndhLzNWHm0SdYWnEoFgGFYgSbKcmLXsIPzoyU7pLGqf\n",
       "eMXc24Xwyx6lr9jFNYw7fXOuznP2uDiVVAcxSVd4LlohEIbiq4SfStc//9p/M8hSby421xu5jdOT\n",
       "ndp/wO0Tr5h7u5As/drb9J5mDu2iwfglJs/WeXf7mNANah79CEgvDpKvoGPwdIibcr34WZGOSbrC\n",
       "c9pXIyS14ssTd5HYcW9PC9lFPdmpjiztIa+Yh3XBPs2buNVqmqfJVeyCYWGEMjVLihrj82me1Kmy\n",
       "s20d32YW6xL3rwVRcFd8BKS3lzO+ho7Al7HNxeb10E92egCLjkqojWHsdb9Rw2e1mjfoVATNUng+\n",
       "myGoFdm7zDI24hXzYBfcohXzbJlSjiFnD6PzgWTHLgiMTyZmzpWdbdvYhWb9KJlCGU3VH+wKSINC\n",
       "O7Vn+CT6aJ7YxaJ8TOFNylrgGSqheM9xVAh1bPXEXSR23p7GjRPUiuxNZrk95jXW/sIp9NA6JSHi\n",
       "UQt3ApEDqI5dYIyPpmU+V3a2bWMXojvTM0mi7FvT8XQ/2Mi7IA0KcPgn8Wl0eIgG4ii97eM1xImS\n",
       "ryAEL8JdteU2vzhiLXx+o7VdX/z9T1hlMMjSa63wAQ+Hmp9l7zGrsSGvmEe7MDz24Wg9wXJez2c+\n",
       "SrvbhRFCrO5nPLCLjOG822ANioXpUrJHcc15sxY6TKqMjKPIerVdrD2GUV0Rij+qUTmGvABSo5As\n",
       "K3wS/gAdHiYp2+TaqwebwrolKUYaw0o46KR9p0IWAiGq1a5w6tG13cxuf15YoUBqlew9ZqU95hXz\n",
       "aBcyrh+0fexWpAt5Prs4io8n/EXCeOhVuiGCY0eXkuyJmnbVDwueTpVRia5XjY+c6OcKtaff3M9A\n",
       "oHCRJnTfOxdAKhTSYVT4EL6LzsFLg71Ir4F8FWFUo/LpbSKEccc/C8unzoeCENWq3SMmKRZ2zL2Q\n",
       "Eg+KWi2DzDofyqfUnuAV83Qex4IvktpzGIfaLtyLWfXcLhKGi8Hc1OXDNFlNgbl05LYfcpT2RXn3\n",
       "Yd+XXzViLHuKl9q2S+3qj1F1eCfXiRiEVipN5xCkoQVAiiy2Uod73ACf6htEMYlGMDfPa5trZs0s\n",
       "mZ3rSXldNRa6JroWuk/i+ANCiGrlheMTd5HYaWbShRBIrZYhZh1iFbPQnuAVc3TP3HuxYfLTkOLB\n",
       "LrRJyt+1i3rh5P3TzFeNS5fdcLvLgVQTLBEEA4ih7DleqHfsLzg75p1dJ2IQLoG6DgwTPQSpaUGQ\n",
       "Ipuz2x7pTQSAT/UNRC8aBvfh1rnNycCfE/aZJwN+Jl4hKqUQTrZLBfJeL2LXo3aRGeSVcmgXetOO\n",
       "1Wwaf7HPb8/OL2qI/TRn0D4m1rhU5hnvaL2WavKyZ7xr0cIbxFT2DC/V4+0OtIL6g3nvQcrvf6gQ\n",
       "pCAGMQSY4kQPQRItCqRQTnHEdHgk2uCjvqHQ84uiIAXejiOVjxhj6epLeaQAOBIixlQHZQc3Fsnr\n",
       "tYhdh9pFZohXyqFd8Mn7hDJIYdPcdvYIsb/YQ+BxKPqlTVv62DeAQyn1K9fkfmB9mQMKK6IKMZcF\n",
       "PAqrrsdbNcHrbsT7UV/1BAxcnwTtG9LmKAKJtEiQJIsgGQW8A8IHfUOiZ5FF+4Pphp6Sh3ahLTEn\n",
       "z/Psd+r1mR1HolJUK3jdeqCVGbI7pnaVGeSV+SF/wawMz0vRW9hffsUuRjFwa4aiQ/M+z1alYQ/Y\n",
       "l86LbH81NT2LUE/EQa4Qc1ncUyYAm3rtLX+FBgLxbiYIwKCM3qQPQNJWNwWSZFkFIgroD4QP+oZG\n",
       "V/OR9qeQS8MIS5ppC26G0K9l29OBkNjnIBQyqBVktNI+smXXo3aVGeSV+R19j1Wb3TefOr7uHebl\n",
       "mKNxZjoSpC5+8WZjKvzJ+4gZjwLkCI2wCxTb56fYw3dCqgVBymtikCTTL3xdpcXPb4PRk4gCT7f4\n",
       "5A88auroJTDUo4OHb7NLvAq/H/r97tkuYQt9rOeFyVn4ikrT4Ot2VaTbMgox41GAdVFAo+ziISTJ\n",
       "m3i3LBNoMm5LCi0MkmXilatvbeX0NkT3R5G4vzr5dvrO/z0YTpdeKaMKj19PwQmccl7HDpO6rPQR\n",
       "kN6qUb+CPoy3ev9Uu/g1/38UoPzq5TN9uvBVkE/Vv6/8vx1Wresy/AttDVNwZrqHWwAAAABJRU5E\n",
       "rkJggg==\n",
       "\" style=\"display:inline;vertical-align:middle;\" /></a><br>(see <a class=\"ProveItLink\" href=\"../../../__pv_it/theorems/d99c60a5576dc9f682ce6e12e8ea3dd9aa217c800/dependencies.ipynb\">dependencies</a>)<br>"
      ],
      "text/plain": [
       "<IPython.core.display.HTML object>"
      ]
     },
     "metadata": {},
     "output_type": "display_data"
    },
    {
     "name": "stdout",
     "output_type": "stream",
     "text": [
      "tuple_neq_via_any_elem_neq may now be readily provable (assuming required theorems are usable).  Simply execute \"%qed\".\n"
     ]
    }
   ],
   "source": [
    "%proving tuple_neq_via_any_elem_neq"
   ]
  },
  {
   "cell_type": "code",
   "execution_count": null,
   "metadata": {},
   "outputs": [],
   "source": []
  }
 ],
 "metadata": {
  "kernelspec": {
   "display_name": "Python 3",
   "language": "python",
   "name": "python3"
  }
 },
 "nbformat": 4,
 "nbformat_minor": 0
}