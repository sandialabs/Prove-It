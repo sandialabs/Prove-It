{
 "cells": [
  {
   "cell_type": "markdown",
   "metadata": {},
   "source": [
    "Proof of <a class=\"ProveItLink\" href=\"../../../../../_theory_nbs_/theory.ipynb\">proveit</a>.<a class=\"ProveItLink\" href=\"../../../../_theory_nbs_/theory.ipynb\">core_expr_types</a>.<a class=\"ProveItLink\" href=\"../../theory.ipynb\">tuples</a>.<a class=\"ProveItLink\" href=\"../../theorems.ipynb#merge_pair\">merge_pair</a> theorem\n",
    "========"
   ]
  },
  {
   "cell_type": "code",
   "execution_count": 1,
   "metadata": {},
   "outputs": [],
   "source": [
    "import proveit\n",
    "theory = proveit.Theory() # the theorem's theory"
   ]
  },
  {
   "cell_type": "code",
   "execution_count": 2,
   "metadata": {},
   "outputs": [
    {
     "data": {
      "text/html": [
       "With these <a href=\"allowed_presumptions.txt\">allowed</a>/<a href=\"disallowed_presumptions.txt\">disallowed</a> theorem/theory presumptions (e.g., to avoid circular dependencies), we begin our proof of<br><strong id=\"merge_pair\">merge_pair:</strong> <a class=\"ProveItLink\" href=\"../../../__pv_it/theorems/4bf2a828bd45bb84145633aaa1c7d9739e337c500/expr.ipynb\"><img src=\"data:image/png;base64,iVBORw0KGgoAAAANSUhEUgAAAggAAAAXBAMAAACczao3AAAAMFBMVEX///8AAAAAAAAAAAAAAAAA\n",
       "AAAAAAAAAAAAAAAAAAAAAAAAAAAAAAAAAAAAAAAAAAAv3aB7AAAAD3RSTlMAq1RmmUTNIjK7EInv\n",
       "3XZ/CtNrAAAACXBIWXMAAA7EAAAOxAGVKw4bAAAFeklEQVRYw91YTWhcVRQ+nXnJzLzJTEftQqGL\n",
       "KWIW2toR00I3NZrWqsUy0FU11KlFBDeOCIJgbXRXaEmkC0kQeSpUi5BMirhQ1CEiiNqaioVWGRhs\n",
       "MLsYCrUSoXjPvee+e859L4M4rnrgvDn3fV/efPPd3xeA/yWalLwtbkgEcpR+5Pw6jZR+c93b60ho\n",
       "9pDxn6JcNcnbAIfXYaoY6Jr04ze/TiMJFotU7roSDjMZFbxxd58m3EcJsP8z216Cco1zHAInIriq\n",
       "Pq4mnpNpOSrW5VFJCj6PHCLjVJT2QBlCglZHMvbiref78yBsmAQo3rlAbfgV4AXGYQj8DjAYmZRx\n",
       "hlGxLrUkaf5k1SFCwaYXUx8owpOA6kjGGzgtpvozIaiZBBi6ZwZsDTDCOBKB7KhJGWOMOuaIcSwc\n",
       "ihyi46At/ojSHijCkzDiZKAXxWp/JgxRAjwTQVyrT9YzEgH4jlJEm1HbjGgn/RpwBON+bkLygSI8\n",
       "CUNRLCOrjBnsc0kYpgT4Im5jDLJFQSIARynFktBwVKoFqbgokKQJR3vK9CRodSTjfKfzfZ8m7KeE\n",
       "B85vona4pL6iWIkpDoFwBW/PU4pp1XJUrGfHBCm7+eIoR5ImzPdS6UsoMhmPAczExA/1Na+vNMHy\n",
       "rqOahNNWk9KrN227OKAGbZb1WYxAAF+r605KCDo6Km7k3LT91Bq3JBMbuwJJmrCzZ195ErQ6kvES\n",
       "5FBAuAcVfKl5pQm80mppGhg7LK7ig0bsEsBPlJD7y7bfDBQh42avQ2AZrqnrVkoepaqjqjpffVSS\n",
       "jk8IJGnC1l4e+BK0OpJRiIp1VRV2THh/5G8ZIQ3uAIfHipqeT1vkG0rIrNp2NKR6Lb/qRlGMQJTB\n",
       "9W2SUiywdUdVdQgXJGk7CASe7HR+6HQuOhMme5ngS9DqSEamq9fFjYk91jchqJvPgn7iItuWYxPM\n",
       "yqXr7QocaHtrmmEFWI9TJk0wVKy1W+P+yhYjyZEw3vOY4EnQ6qyMxm78UZvP4VFSd/bsI8wEauAw\n",
       "JDw2Id5Z4+lQqMTtI6EhUTDEHHS2UfI1wUwHQ8V6sBIRycRbIJCkCdt6meBL0OqsjHP6YLcLB3xX\n",
       "Gzw6zExQjWBaxWl4hfDYhIxdFN6lhKGubYfXi2rpwUeEIBE1tev0fbt8mV1HxXqu3iKS+ckXQCBJ\n",
       "ExhXTORUCVqdlfGadmgPLh3vozlh9IkzwTZUHCI8NmHATph4uztet+386su05c01JALwkNhW+YCt\n",
       "OCrWk7kabWl/6pXtOghEmPBVExgXvzQu1pGg1VkZG/SKeNp1BW13U95hZYvGH59+Z3q6pk3IWxNO\n",
       "UdLKpes7lMoSfm3pFw+Bu/ByiZJHftFRsd7woCV1IreyxQg34bYfj9QYt4SD9GegIl2CVidlfIuX\n",
       "uY90fYObcMNOhxOEJ6cD7qJ6J31Y7qrH9PVe8BAc1blFkzIuM+pl2tjMKRFNCCoCkSPB48pIlXAs\n",
       "ISNcg7AFwwF8rKxuMxPybbYwDgfchHJXvg1lKs/Klx5zrMM1iCG3Z9fEOxePEUYdcS9nagrgSBys\n",
       "Jt/LDvovcobrRaqEsYQM9VvzC/DeMqiX1XKFmVCOj76FJuLGhNynf3fxBsXbOkszDda2L6ehsooh\n",
       "+Wt6D3iV0lsZm45KTzekWZVXzoBAkuG43sKYJkGrkzKw8zK6qtrT65T3EjTQYucEjLPAq7OQXWoK\n",
       "xIjF0zVHDux1tiXUTjlqOMX8xDG3ex8IJBmO6/0vKU2CVidkFLaomfKU/qnRcyfZYck2MPa5EyNv\n",
       "Y593TfI2Hk5Tzq6GVW6a9ON1v04jCRb/rc1/9bpHEpYTMoor6qL7PAsHnmAm2IYmyRUnW4dbP5K+\n",
       "RilHkFsh/gGMBsKxUq2DWAAAAABJRU5ErkJggg==\n",
       "\" style=\"display:inline;vertical-align:middle;\" /></a><br>(see <a class=\"ProveItLink\" href=\"../../../__pv_it/theorems/3e7e9886894de5e5cfdf5193ff274276e4f1696d0/dependencies.ipynb\">dependencies</a>)<br>"
      ],
      "text/plain": [
       "<IPython.core.display.HTML object>"
      ]
     },
     "metadata": {},
     "output_type": "display_data"
    }
   ],
   "source": [
    "%proving merge_pair"
   ]
  },
  {
   "cell_type": "code",
   "execution_count": null,
   "metadata": {},
   "outputs": [],
   "source": []
  }
 ],
 "metadata": {
  "kernelspec": {
   "display_name": "Python 3",
   "language": "python",
   "name": "python3"
  }
 },
 "nbformat": 4,
 "nbformat_minor": 0
}