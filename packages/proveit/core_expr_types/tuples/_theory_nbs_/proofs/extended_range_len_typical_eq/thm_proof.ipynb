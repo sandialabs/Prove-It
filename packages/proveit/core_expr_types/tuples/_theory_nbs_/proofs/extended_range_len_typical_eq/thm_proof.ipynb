{
 "cells": [
  {
   "cell_type": "markdown",
   "metadata": {},
   "source": [
    "Proof of <a class=\"ProveItLink\" href=\"../../../../../_theory_nbs_/theory.ipynb\">proveit</a>.<a class=\"ProveItLink\" href=\"../../../../_theory_nbs_/theory.ipynb\">core_expr_types</a>.<a class=\"ProveItLink\" href=\"../../theory.ipynb\">tuples</a>.<a class=\"ProveItLink\" href=\"../../theorems.ipynb#extended_range_len_typical_eq\">extended_range_len_typical_eq</a> theorem\n",
    "========"
   ]
  },
  {
   "cell_type": "code",
   "execution_count": 1,
   "metadata": {},
   "outputs": [],
   "source": [
    "import proveit\n",
    "theory = proveit.Theory() # the theorem's theory"
   ]
  },
  {
   "cell_type": "code",
   "execution_count": 2,
   "metadata": {},
   "outputs": [
    {
     "data": {
      "text/html": [
       "With these <a href=\"allowed_presumptions.txt\">allowed</a>/<a href=\"disallowed_presumptions.txt\">disallowed</a> theorem/theory presumptions (e.g., to avoid circular dependencies), we begin our proof of<br><strong id=\"extended_range_len_typical_eq\">extended_range_len_typical_eq:</strong> <a class=\"ProveItLink\" href=\"../../../__pv_it/theorems/d7e7a6b2059c454e2a10237bbca81beaed32ef200/expr.ipynb\"><img src=\"data:image/png;base64,iVBORw0KGgoAAAANSUhEUgAAA0oAAAAZBAMAAAD9BsMaAAAAMFBMVEX///8AAAAAAAAAAAAAAAAA\n",
       "AAAAAAAAAAAAAAAAAAAAAAAAAAAAAAAAAAAAAAAAAAAv3aB7AAAAD3RSTlMAq1RmmUTNIjK7EInv\n",
       "3XZ/CtNrAAAACXBIWXMAAA7EAAAOxAGVKw4bAAAI+klEQVRo3u1aXWxURRQ++9fdvduuq/ighpgl\n",
       "IhIFXC1iTIysImIkkCa+iCVYJcboi2t88gesvhHRVg1pygO5GKOiSdk2YqJG3WCMv2g1/iC6ySKN\n",
       "6INITBTTB+OcM2fmzsydu+WpmsjhMndmzvnmzJ1v/rcAfkm1v4Uz8p+QcvvLJFXPv1uzvPhH0jAy\n",
       "G26GrTnt7LizKIyhG/7s/Nx+8nO4bXTJ11Uio/7/KEs/QmmA+lHV6FMU3+LrbVV/KVtO1xlKruNF\n",
       "H3CtDxiYru5jBZ5epcmvxIo22CJZquDrIh9LCZr5kHSTWbqMkuvfVPEZKNdMQ1NjS+EIOLZxyb4V\n",
       "SmfCfDccc5uxlswSYsp1zvG5f0qUfKyrc/q0HWFCrY8xS5Toh7WYvMfHUoJmPuRFkCwFQ1TZ8w6q\n",
       "+PcA9xl2tsaUvTfNgm3rkcmdVelMNM0Q9DgtJtF+lhDT15QZHvfBufeLwmIFWib0aT8l1Zqw2Ab3\n",
       "EUuP4/w36mMpQTMfsoZZylJ37r14t44DrDTsbA1NMypennVsPXJwUyidkWTqjnplMktrzBFpuL9V\n",
       "RX4LPQVCAirC6VoTFttgJbGEpJWqPpYSNPMhLWapl1J3UJ/sVcwYPdTW0FTUMb+3t1tvhtyscibl\n",
       "Y0dPaD9LLdPMiK8wWYoVCAmoCBfV+mNmCRP9kKl5twoiK0EzH8vSELO0hJJvU7hE1czohLYmzlJP\n",
       "14WpNK2cSdnqtkEtiaUI47i3WdraxfmSZJbI71ZmCRNij3eo3f7Ev8fza+ZBsk1maT2mrjh0Lsh4\n",
       "MCOqXKpoO0cTZ8mwjUtm4Rd1dgYTR3GZ0mvGiQuenGK0lyXETKhZz3RvszTZxft68lPxsUR+J5kl\n",
       "TAiWbgbY7WfJr5kHwf5DLMnO+Lfq6aWcmGkyRj+2NXGWTNu4nNXRI6beK8JVupfA0c4GRhNL2TZJ\n",
       "RbGEmObmaAhq9zZLq7o430p+3vOxRH5XMUuYECw9APmKnyWpCeTpa1hWX4WXsJ14vwTmweASBZDi\n",
       "PzMIVAHKgA+XaUlflVmiQ3f+L8oU8SeyosrpaE1wNHGW0q1uLD02rJyVG2eJcJlSXA2rwwWM9o4l\n",
       "gSlUb+IM073N0rIuzvHTjsPvPpbI7zJmCROCpWIoN7031lyWpKYkv/swBkXgMDMgEfh+RzU0Z5RU\n",
       "QwWrPBwoVN8wiPmmrsqE/FcH4FruLr0DzNL71PAnKVPEw15RdOFktAjZGuzyPxziLk/fa9h65HLt\n",
       "LIDLRauOKMUwEAOE9rIkMAF8xhna/YZ2+9N2+4uIpZEuzvHTwjTtXwxcVOsRZgkT/dj7aItQvGrY\n",
       "ZYk1hmiW9jJir9wsyZNDlEHND0//qlVGEZHRID1Y5tPn74JFpTAb+liSizzFsS1zLWf515r4WMp1\n",
       "HUtva2eipcT/zZGKGMi1urAEsoUd9/ZY2jwHS5Cd9o0l8ruZWcrJsQRD19EkHcZviKTGx9JaRqw1\n",
       "zn9mBtA5a7nnYGkYia2+eERp2ZvxlqNTL3lnvGJFTxF3BqJ1pqPq2BrPjDfdjaVntDN5Kl0e7dFP\n",
       "wSuM9q5LiOmphBBzb7O0fI4ZTx+MnRlvmrE0401LlqawIdMLp9BoZvs6gyXU5I7SPDVTtViaZoR4\n",
       "bxF1nwLQGRKgWZpyNtmMmriBDmPiKfJ1yNKLtyuWih1maQ91dtnwIh78ISwyWLRsFEfj2T1Ettas\n",
       "awwYcgb5P0RwDSZF6wa7Ui1oMto7lhCzf6AJoeveZkkV6HNPn/bYgHf3MMpY2j2MSpYepS5CJR5P\n",
       "jd5lsISaCRpkWXlCUCzlhyRCvIOOKHgxgM6QAM3SYqeK0gjq4ryQruNThICMl5aeH1QzWYVZmjQ+\n",
       "ZRLn6Ad557x/yKOxWCqdAsM2+NONMDO8782cVJtjoU//9UIrV2W0lyXEjORrVJjlXrP0bsMoUDq0\n",
       "3dOnrXbPS1Gt1zNLmECWUrQg3YhBrdgZNlhCzcM0bF8p1U2WcqMSId7558XI2ASgMyRAs7TJ+Uhp\n",
       "FISv0Vs8Rb7VWQr1X9Sd4zSz9FS0yFN8gbDsQ0XfEY/GZCm18M8Fpu1XGKmryBFj74HOIIX1/RqT\n",
       "7RCCjZ3FVwKjvSwhJtVPxrZ71dpnf35nLSpQerbd06ed77Bk1PprZgkT0S8Xz8lVoxH75WKPceJX\n",
       "LKUrEoFvHP07VBGYsQey4+MfjT8nWdrhfCQb4XmhMIpPETL3jo8/K1h6VTs9zCz1YZ+5nhcr7j/b\n",
       "KLwU4hprLLm2llBOtqKd0dyZl1cRoY323xAdZm+h436F9QOTW6DpnlCfeXHbFBbbYJv1+9KHFO5U\n",
       "v03pBgtmhyP6FEuFUYnA9/6X1bQmMyQgccZjFJyKZrxCU46l3ArjnpNYygiLyl32Zag88jchrrFu\n",
       "W21bRzBnUU9VOUtVV4fq/rPkoP0s8TVuyXV/a/xCtQRe9wJ1TmbWi1ujsNgGa0yWglkImvnW61B3\n",
       "WEoP1YMm0ufuHgJ0Id5LxJHoBLyqMwTAZAlVogAONKogNpjlDj5FvuG4CuCo3rw1+PelMejbre4P\n",
       "xmQHpZID0fddTVwiW2f5xpzvXtTORqq443qIUhMO2s9SsWEYJ7l3C7Tcw1jh975qYq0f4t+XKKFZ\n",
       "Eq1WOAgbB0+E7li6sCEU3ICapTHZzvjeexxfO6sqQwCYpUfuf0eqCh/AzgYG2gjKFfpUfESVxOgr\n",
       "fNOAlHY6yiztg8yMmoT3QdQ+eGnhauIS2Tq/72Fw3TrtLDszoBu746D9LMkNDxsnuR9LuH0pM2rj\n",
       "2uRajzFLlNAs4bBNu+clPZ7UjZpmaZAH+qBqVKiaGTyWtEpJZITr3D56RGnBG+O77JpuhzJNtHnj\n",
       "G2X8uK/3+e+hvLYe2S7bruFF/+xa/2xgurovd/+zi6RKk1+JFW1AlVAsFReJRrk9iaXbe25r2Sxl\n",
       "G4QQb5BhLjQzQE2cUqUXDW10N86g6+gpwhmZQxRLpRO4D09iqZadCW2W4E1CiDcvKRkwMyIhlR6w\n",
       "2mjjLXQXiBd6Z1g6bZbid+Lev8eL/iYqMM/RYfxcryT0lh5wEMDcfxD1v5dy+71/AGbftehWCp2F\n",
       "AAAAAElFTkSuQmCC\n",
       "\" style=\"display:inline;vertical-align:middle;\" /></a><br>(see <a class=\"ProveItLink\" href=\"../../../__pv_it/theorems/9cf97cb8d1eccfe99bdba7a4417419b3112131b60/dependencies.ipynb\">dependencies</a>)<br>"
      ],
      "text/plain": [
       "<IPython.core.display.HTML object>"
      ]
     },
     "metadata": {},
     "output_type": "display_data"
    }
   ],
   "source": [
    "%proving extended_range_len_typical_eq"
   ]
  },
  {
   "cell_type": "code",
   "execution_count": null,
   "metadata": {},
   "outputs": [],
   "source": []
  }
 ],
 "metadata": {
  "kernelspec": {
   "display_name": "Python 3",
   "language": "python",
   "name": "python3"
  }
 },
 "nbformat": 4,
 "nbformat_minor": 0
}