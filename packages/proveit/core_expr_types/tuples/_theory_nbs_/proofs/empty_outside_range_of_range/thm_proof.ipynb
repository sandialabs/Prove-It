{
 "cells": [
  {
   "cell_type": "markdown",
   "metadata": {},
   "source": [
    "Proof of <a class=\"ProveItLink\" href=\"../../../../../_theory_nbs_/theory.ipynb\">proveit</a>.<a class=\"ProveItLink\" href=\"../../../../_theory_nbs_/theory.ipynb\">core_expr_types</a>.<a class=\"ProveItLink\" href=\"../../theory.ipynb\">tuples</a>.<a class=\"ProveItLink\" href=\"../../theorems.ipynb#empty_outside_range_of_range\">empty_outside_range_of_range</a> theorem\n",
    "========"
   ]
  },
  {
   "cell_type": "code",
   "execution_count": 1,
   "metadata": {},
   "outputs": [],
   "source": [
    "import proveit\n",
    "theory = proveit.Theory() # the theorem's theory"
   ]
  },
  {
   "cell_type": "code",
   "execution_count": 2,
   "metadata": {},
   "outputs": [
    {
     "data": {
      "text/html": [
       "With these <a href=\"allowed_presumptions.txt\">allowed</a>/<a href=\"disallowed_presumptions.txt\">disallowed</a> theorem/theory presumptions (e.g., to avoid circular dependencies), we begin our proof of<br><strong id=\"empty_outside_range_of_range\">empty_outside_range_of_range:</strong> <a class=\"ProveItLink\" href=\"../../../__pv_it/theorems/05934e89a1a38a2d22298a23225586b10c48df540/expr.ipynb\"><img src=\"data:image/png;base64,iVBORw0KGgoAAAANSUhEUgAABTQAAAAYBAMAAAA2b2/XAAAAMFBMVEX///8AAAAAAAAAAAAAAAAA\n",
       "AAAAAAAAAAAAAAAAAAAAAAAAAAAAAAAAAAAAAAAAAAAv3aB7AAAAD3RSTlMAq1RmmUTNIjK7EInv\n",
       "3XZ/CtNrAAAACXBIWXMAAA7EAAAOxAGVKw4bAAAJq0lEQVRo3u1abYhc1Rl+dz52Zu/MTqZVxEoI\n",
       "I6VpMUkzaiLdP7ptPmwbDCPWH+o2jgYR/OOIv+LXrv4r3ZgVKdukRW4q1IbCZlZFUNGukaCoaVdR\n",
       "UNuFiQlZVIhBiRtWEM/3Ofd8Xmdn6J89cO+cM+973/d53vPec8499wL0rxTYobYtKkZppbSdprTS\n",
       "2u/aaaG74LTSx7B30fBe1GVfdEuk4HRZ6D6qacsn7FDbWsl3zP8qtRS2bRdCSlt7oJdOP+kuOHvS\n",
       "x7Bn0fCb7rIvuiWC3dldckkVN3/cj8zMtOkBkHs5Bl5PoBiFU2p710v4vMGwdFpr70fmTgW8u2zB\n",
       "H+JKPZWi4syK1sWKl+LHLvxYkgRhlpB1AQszCkYjbNrOboO/I7onwjBbcG8ALtmBm3f3IzX/zg6A\n",
       "2cmaqKtluA2DMsJQuvQYOkdNQ++/iVZ08b3oIvVCS3HagjMA96RSVJzZ0DpZsXJ457IdP5Pc44+e\n",
       "37oCizAKRCOFaSs7PSy9I8Iwm7ixSyZ5FE/sU/1IzW3sADh2SyzqWsmOynr5J4fwXea8C/Nc8kWc\n",
       "vNBSvLa2pFC8CRRnNrQuVgJlZdkr2eKPXsj6F7ErjMHi6g6TnSN+vSBC3Zm4sUsmwRlaqvUjNefY\n",
       "Afll0TbLW7J6O4l22b1C6Kjd8pbXuddWOQ4r/tyWmqpTFyuB0kjNpKTsHeiC1pOpGYhGKtMWduVA\n",
       "R6yACHNn4C5LSRZl6WBflppNeqDMn+dtS9krq6+Q8/qUqbnX691ra7AeVrSnpuLUxSptag5612hB\n",
       "61pq7k3fMe7uMNitT5Oa3RFh7gzc6xXJiYWFt/uRmrk2PSC79t1R1t5z2YOfdv74YoNqzOBRflZc\n",
       "cOWJi8ljCbrTTj7z6lPFl//EVh+n67ZumfU5d9mC6Cx67itVw4pGamponayM1DTxE4kCwjLZBa2L\n",
       "1CSM/NHwmvax2wWqUi+I6JgN3LtASn4NcKgfqYlvJnpDrenwdvuJTvRVI8NG9/YYOl0jr/iW30ul\n",
       "oXVwdCtsZPddfs7WLdd4vTtsQQ5eR/FqhhWN1NTRulgZqWniJ5Js04c/aF2kJmEUiIbH9JKPHR69\n",
       "pFIPiCzpmInL3AIpVTFyM8l9UJBp/wzdE7B7YUvWnxp7QFbt4Ro9AMYnWDvf+AgK30L2HPVS24nO\n",
       "G+Ue7AXy8x7AzcNTMN6B6+j/j+Watm7Z6N3gddiCRfgSGZoLK+qpqaN1sTJT08RPJJk5H4GgdZGa\n",
       "hJE/Gj7TF3zsUFgUpR4QuaBjNnC/B1IyFJfwZBFtxyPcqzSrJqxe6HN8tpH48+mmyFltPdugB8Bm\n",
       "3o6i85BZBsYwgn+j8wG5gqHRPw4QH23A5hh20v/jcofeWf87we4s0i0HvAtdhy2IkX8ongso3rCw\n",
       "8M7CwrtqDuho7axUlDw1TfxEooCwlKB1kZqEkT8aftMedigsilJPiGiYDdzHQUoyHfIUNLR1IsSJ\n",
       "puZhuZrEuM6iZe5t/tR8RbRRIqAYl9n2K8E3pi2YCTbEB6UIXwJvjm0jxlh48W2xBTkkyc+FFY0J\n",
       "XUPrZmU8Bhn4iSQ/F36M81iXj0GYkT8aHtMDTR+745BQWjERbkhiHrOmJpc0ryVrgvCmLU3NHaI9\n",
       "RGDOOzZ85YT+hGgjaMNtuL1F9Qer6HeTNFcVI/oleHc3vxRRwR2RrVs2+aA6bWH/BHNI0UhNDa2T\n",
       "lZmaBn46D877CASty9TEjPzR8JheU4897HBYFKUVE+GGJOZN+lqTTOhc8izezs+sfRY/jRHpzK/w\n",
       "vL3t8ZOVkQlaO62kJgKy5RdnR9XUFPuiSFA99WfW6R16AJkraB3d+2javKRQJxyPNhDAETKdkDuL\n",
       "En4K8NCFRv+B5v2AmUTnS7bUHCEzg/mexGsLrX3Q/Zud8iqaqRmraJkhCyuz3yIrfvr0IEEkSkrr\n",
       "HBZlpITRUyymN8dtW18wJRwWqbRyItybxDyiX4VdCslDVd6KOuRGH8V7S0+P1cvVSpXVWiI1C02I\n",
       "tr4Ob6ipmRnNHUTlSSx4DU6yqZLv0hTOizZaE6PHjL+U4Cge2Q/gcOPNAtKicMmmAVoto2X/ULsd\n",
       "fU3WMvdrEflXi+0yEDm5Gp9ky2kLyGMO2dNyKmqpiZyRSwVaasjGKomytESdmPixRIIQsEklrXUO\n",
       "izKSYTQtJv/WTJ/JTtj6ginNgqq0ciLcm8S8S0/NWVUyQBaZ27Gdv+GxOYqfR+cHzsCaCeIV12KR\n",
       "mvkpKMw0YVlNzTx70YkFF7i34jw9+JMGrv+efCHwu0UYxp8+DFyNTh/g4f1juWCG/cjePP7aIL+7\n",
       "BQvY8UXadtoP/nNHnV5I5MN4BCen98O24EdYp+FVTKQmcYYvFWipIRurBMqBtV9fRJ3o+IlEAfG+\n",
       "ij+ldQGLMpJhlIFIVMjJYvrwVda+YEooLKrSiolwQxLzB3pq7jclT/Jxl+8trYNJtlZcxxarJAEz\n",
       "KP8HOmjp+5uDfz14sE5Ss8jfwQ90inN0tYDKh+zIVWVblCv45s28aP0SzO2BTGx7CSEvzJgzesAW\n",
       "nmAe9ismR03VjeLUyspAKXiakocNueIrnXXJSAmjb9/CbtrSF0xJCUvPiFyhYi4Y61TsUpO8SVYc\n",
       "/yD1JfrHpzBepLXtRZGaOA3LE7nRCcuEjgSVqcI5xmcLPS4frMm2KPwbKfoBAX40qd7J3h+oW1Gl\n",
       "xOtY9Y0YvbBkxt9r64dZPNxv8yuSchNYYEindlYGSmg7JdsMufSV0rpkJMLof0VpN230hVBSwtIz\n",
       "Im0Vs/n9CHaZlETLELVhfQ7+ibJvDp0L59BoOZKjtQ9/lngMGofhx9TUrPC7aByNm9kpxmeoRY6P\n",
       "+PdQQ8r30BG/Yh9vDR/iGwvTCtAZZ5j3OeReW8Uv8TxAP7RyK5plxnBqZQVWNI6XAlMO+fewLhjJ\n",
       "MAZpmKbNvpBK0z0nghQVzPtMe9O6BKVj8RgcXoTJGqCHn8lavgp3w32f0drndZma6NIbofIcW2sW\n",
       "XvimI/3eCIOtwjo2+0VT5Lj2epBt4wXSNG9lT3MjRxSc7mBPO+R+W7t3iDC5Fc3SMZxaWQGke1EG\n",
       "CRAWXymtC0YyjEEapmmzL6TSkZ4TqSQwW0aEI7oEj6MZUquRF541Ialp+5q3Jfc1Pf36CDvUtt51\n",
       "llGhELr5XRdCSluL0Eunj0BXZTGdWjrrKaPhN91lX3RLBLuzu0xKhi5HE/StZB0R3zWJz2JdEWup\n",
       "mWupb4NIuR5Wy2rpUymdRScya2dh92/xWQyn+tsgeMlYuTZWA7ha/q+FDZfGxn+0GprV0vvyHaXy\n",
       "bnfTo4fBAAAAAElFTkSuQmCC\n",
       "\" style=\"display:inline;vertical-align:middle;\" /></a><br>(see <a class=\"ProveItLink\" href=\"../../../__pv_it/theorems/373f3d0cffa8ac9099a7c4430ffffafe158c22a30/dependencies.ipynb\">dependencies</a>)<br>"
      ],
      "text/plain": [
       "<IPython.core.display.HTML object>"
      ]
     },
     "metadata": {},
     "output_type": "display_data"
    }
   ],
   "source": [
    "%proving empty_outside_range_of_range"
   ]
  },
  {
   "cell_type": "code",
   "execution_count": null,
   "metadata": {},
   "outputs": [],
   "source": []
  }
 ],
 "metadata": {
  "kernelspec": {
   "display_name": "Python 3",
   "language": "python",
   "name": "python3"
  }
 },
 "nbformat": 4,
 "nbformat_minor": 0
}