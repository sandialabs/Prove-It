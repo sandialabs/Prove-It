{
 "cells": [
  {
   "cell_type": "markdown",
   "metadata": {},
   "source": [
    "Proof of <a class=\"ProveItLink\" href=\"../../../../../_theory_nbs_/theory.ipynb\">proveit</a>.<a class=\"ProveItLink\" href=\"../../../../_theory_nbs_/theory.ipynb\">core_expr_types</a>.<a class=\"ProveItLink\" href=\"../../theory.ipynb\">tuples</a>.<a class=\"ProveItLink\" href=\"../../theorems.ipynb#singular_range_reduction\">singular_range_reduction</a> theorem\n",
    "========"
   ]
  },
  {
   "cell_type": "code",
   "execution_count": 1,
   "metadata": {},
   "outputs": [],
   "source": [
    "import proveit\n",
    "from proveit import defaults\n",
    "theory = proveit.Theory() # the theorem's theory"
   ]
  },
  {
   "cell_type": "code",
   "execution_count": 2,
   "metadata": {},
   "outputs": [
    {
     "data": {
      "text/html": [
       "With these <a href=\"allowed_presumptions.txt\">allowed</a>/<a href=\"disallowed_presumptions.txt\">disallowed</a> theorem/theory presumptions (e.g., to avoid circular dependencies), we begin our proof of<br><strong id=\"singular_range_reduction\">singular_range_reduction:</strong> <a class=\"ProveItLink\" href=\"../../../__pv_it/theorems/3d08766f171bd867f4c97800be61648b1b9ac2730/expr.ipynb\"><img src=\"data:image/png;base64,iVBORw0KGgoAAAANSUhEUgAAAa8AAAAXBAMAAABOq92eAAAAMFBMVEX///8AAAAAAAAAAAAAAAAA\n",
       "AAAAAAAAAAAAAAAAAAAAAAAAAAAAAAAAAAAAAAAAAAAv3aB7AAAAD3RSTlMAq1RmmUTNIjK7EInv\n",
       "3XZ/CtNrAAAACXBIWXMAAA7EAAAOxAGVKw4bAAAEfElEQVRYw91XTWhUVxQ+mXnz995MZsAuughl\n",
       "RJpFVaLQCm5sWu0PlZYsrYiOSim4GnFlaTTtOkWLCzGL8uzC/kH8wZVFCQFBKilRFDQaGOtAdiUb\n",
       "tWRRvOfee+7/GzPu9MB33z3vnLnvfPfnnDsALyNtCVO3XtiWVb92paTa0otGaZtxteHlZLApYOoA\n",
       "ezM8Q7J3dR/6h7eFjkCvwXUIhAa+WNcfsfUSADuvkN6FwU2mj2mxpbwAjq8v0Z8pa3MX0H0KHrPH\n",
       "43AYfgiEj/D1133xilsCAMmbs1KHBwCHDB/bYsrZj1fA9g3IxUlcgXN8LVpQZCwRfhihECS+ww18\n",
       "si9i0SYBgOrbU0B9gHcNH9vCNxT1B1cc34DMfok8tkstPyrghxEKQQJnImn2RawqAbAvBdVnT2NS\n",
       "bQtKrmMSq6a9vlBY4Y8Z0v+S8MIIhSCRZ1yL/R2xYQmAq0pHKRrrY1t8YsWehyyZ579okX5Qwgsj\n",
       "FAJhbnHxZn/EdkrA5rk3pB532UhJQ7k4Fp+Y4etLfugWbrwIc8f0IzxyEl4YoRAInwJMKedfRN4S\n",
       "e1gcUV0TJrz5+5/0pMC2Tb6lv2pbfGKmry/1jtoBo1XWbgEBiBa5NKBHCITDUEK/eAcOc4271TiF\n",
       "itgVuoDck8/bElD6j/TvIzZSbkZXVtviEzN8A3KcB1DDctmus3YDCFiSFQKhkiZjSOO9CeeHlazP\n",
       "XpeA3DLpaZWFXV7WB8q24Ew/nJMzzYkZvgEZEZmAxRXDCMsFJ0DACyMUAiHX4bmj7qWpFxMTZ5z3\n",
       "8fOFGef0K4u/YoWeK3ZVEQP4nGGPhE8sEAIBWtvws0OX8CrCp3T6Q02s8EjVw27T3YqVhtL3x2yM\n",
       "eT0ptiWwFed7EfsRaCuK+r5RwjpjWSEQ4BK/BWzF2Du8fowOa2LT9TQ6w+QURCr7/iQB1Q7p8ZOE\n",
       "nVis84KGYwkkD+1r3SbE428RAP6i9EQGt9X1zQqBAN9y0jtwkJ+RaJxe1sS+2Ujj/J5Q7VfJ9/gY\n",
       "6eXlIzI9n28FLBax5BkYvvFTtyPJyJKQXzYLjHXtygiBAAM8a5xSc0SJtKLnxa6/P0jIM877a5ix\n",
       "hh+pLQQsJrGBoadrTN872BmlzoKREco4zQM493clLMkKgSDlBjbnf+X9Z5pYvDIhtyLUqaJhNeAV\n",
       "4QMwqgPAOG/fAd9irZjrawl/EzV0fcG9VpoXsCUrhHE1vCAA8QUYjuAPNlMzmliupS6fk2DfSXON\n",
       "A1oHdWdlm8CzWJdg29cRfLO22KQr7UDz/dS8dVv3k4wQthvXZ06mPAtnl4D9XxhsGCv2lrp5qPwI\n",
       "pzlqUy1Dp/8IMZth1xL4a6x8neSBb+6fo9zaPtHEfHdUwpFwCARjFXK816TD5NYxfQv9jSPfbRs6\n",
       "hsFzHg7mWHzRvs6fYmy2fUI0T0bdMTWRnoRDIMgPrWWbdDffMelXk6ECXdxlXJg6AqYOsBRamU6Y\n",
       "2NLqrtvHBNu2QK/BdQhL1vDJv6zhC5WHLz4LEYu6KbwmUnqlo38OAGBxo1BMATkAAAAASUVORK5C\n",
       "YII=\n",
       "\" style=\"display:inline;vertical-align:middle;\" /></a><br>(see <a class=\"ProveItLink\" href=\"../../../__pv_it/theorems/3a06db964768041294ee753ed0e17a91337f97c60/dependencies.ipynb\">dependencies</a>)<br>"
      ],
      "text/plain": [
       "<IPython.core.display.HTML object>"
      ]
     },
     "metadata": {},
     "output_type": "display_data"
    }
   ],
   "source": [
    "%proving singular_range_reduction"
   ]
  },
  {
   "cell_type": "code",
   "execution_count": 3,
   "metadata": {},
   "outputs": [
    {
     "data": {
      "text/html": [
       "<strong id=\"defaults.assumptions\">defaults.assumptions:</strong> <a class=\"ProveItLink\" href=\"../../../__pv_it/_proof_singular_range_reduction/67062e379cc08d39b833c51012ade4d10a6503f90/expr.ipynb\"><img src=\"data:image/png;base64,iVBORw0KGgoAAAANSUhEUgAAADkAAAAVBAMAAAAOWFv7AAAAMFBMVEX///8AAAAAAAAAAAAAAAAA\n",
       "AAAAAAAAAAAAAAAAAAAAAAAAAAAAAAAAAAAAAAAAAAAv3aB7AAAAD3RSTlMAInZUiRDNmWbv3US7\n",
       "qzJazP2FAAAACXBIWXMAAA7EAAAOxAGVKw4bAAAA+ElEQVQoz2NgYBBgwA7A4kwGOGQ3gQgTIFbH\n",
       "kOI7ysDUwMDAmgBkL8GQZQIKpzIwsDcw4ALtDAycOCUZOAMYzHDLsjUwlACtVscwPUgXSLBcYMgA\n",
       "ktwTQCJVq0BgLVi2gBOogSOBYTEDw2P2BHQXC/ADQ4F5AsNsBoYATgU0WVYG+wCgnz+AZMFMNFAF\n",
       "xEALgSYz5LKi2wsOH+YFDIeA5vxmQdfK+BtIcBxg8AWZL4Euy/EBSLA7MLwCUjcw/Mt7AEhwbWDg\n",
       "eoA1EEG+kAKaUYApx2vQD/JFBRAfxJR9bwDyCSPI9BhMWXb1DUCSB5R0GBVwRJEiAwMAK7IwmoJP\n",
       "iAcAAAAASUVORK5CYII=\n",
       "\" style=\"display:inline;vertical-align:middle;\" /></a><br>"
      ],
      "text/plain": [
       "<IPython.core.display.HTML object>"
      ]
     },
     "metadata": {},
     "output_type": "display_data"
    }
   ],
   "source": [
    "defaults.assumptions = singular_range_reduction.conditions"
   ]
  },
  {
   "cell_type": "code",
   "execution_count": 4,
   "metadata": {},
   "outputs": [
    {
     "data": {
      "text/html": [
       "<strong id=\"i_eq_j\">i_eq_j:</strong> <a class=\"ProveItLink\" href=\"../../../__pv_it/theorems/7ff99845a266ee006d093f1f3992d31b0010acbb0/expr.ipynb\"><img src=\"data:image/png;base64,iVBORw0KGgoAAAANSUhEUgAAACwAAAASBAMAAADS2iHvAAAAMFBMVEX///8AAAAAAAAAAAAAAAAA\n",
       "AAAAAAAAAAAAAAAAAAAAAAAAAAAAAAAAAAAAAAAAAAAv3aB7AAAAD3RSTlMAdpndiRBmRO8yVM2r\n",
       "IrsWj4mGAAAACXBIWXMAAA7EAAAOxAGVKw4bAAAAgElEQVQY02NgYBBiQAecT4GECYYw4wYGqgBW\n",
       "oQR0oUAZBgYW9gYQU9kYBGzAwgocCQyzmNCtZbzAv4AhgEMA3ViG9QEMYIwGlIF4Dyu62SAPsn5n\n",
       "QVfM+x3o/w/X0IXZPgCJYxju5nmA1YcYbgOrXZAfgEV4/gIrbEYwCRUwMAAAj3IXQ9DH7yYAAAAA\n",
       "SUVORK5CYII=\n",
       "\" style=\"display:inline;vertical-align:middle;\" /></a><br>"
      ],
      "text/plain": [
       "<IPython.core.display.HTML object>"
      ]
     },
     "metadata": {},
     "output_type": "display_data"
    }
   ],
   "source": [
    "i_eq_j = defaults.assumptions[0]"
   ]
  },
  {
   "cell_type": "code",
   "execution_count": 5,
   "metadata": {},
   "outputs": [
    {
     "data": {
      "text/html": [
       "<span style=\"font-size:20px;\"><a class=\"ProveItLink\" href=\"../../../__pv_it/theorems/7ff99845a266ee006d093f1f3992d31b0010acbb0/expr.ipynb\"><img src=\"data:image/png;base64,iVBORw0KGgoAAAANSUhEUgAAACwAAAASBAMAAADS2iHvAAAAMFBMVEX///8AAAAAAAAAAAAAAAAA\n",
       "AAAAAAAAAAAAAAAAAAAAAAAAAAAAAAAAAAAAAAAAAAAv3aB7AAAAD3RSTlMAdpndiRBmRO8yVM2r\n",
       "IrsWj4mGAAAACXBIWXMAAA7EAAAOxAGVKw4bAAAAgElEQVQY02NgYBBiQAecT4GECYYw4wYGqgBW\n",
       "oQR0oUAZBgYW9gYQU9kYBGzAwgocCQyzmNCtZbzAv4AhgEMA3ViG9QEMYIwGlIF4Dyu62SAPsn5n\n",
       "QVfM+x3o/w/X0IXZPgCJYxju5nmA1YcYbgOrXZAfgEV4/gIrbEYwCRUwMAAAj3IXQ9DH7yYAAAAA\n",
       "SUVORK5CYII=\n",
       "\" style=\"display:inline;vertical-align:middle;\" /></a> <a class=\"ProveItLink\" href=\"../../../__pv_it/_proof_singular_range_reduction/ea7c9319cb76497119ab7d89d7051eeb921462060/proof.ipynb\" style=\"text-decoration: none\">&nbsp;&#x22A2;&nbsp;&nbsp;</a><a class=\"ProveItLink\" href=\"../../../__pv_it/theorems/0b4ff2c31e2a7dce7741613f3a81a93ec9b43a620/expr.ipynb\"><img src=\"data:image/png;base64,iVBORw0KGgoAAAANSUhEUgAAATkAAAAVBAMAAADP1oQ7AAAAMFBMVEX///8AAAAAAAAAAAAAAAAA\n",
       "AAAAAAAAAAAAAAAAAAAAAAAAAAAAAAAAAAAAAAAAAAAv3aB7AAAAD3RSTlMAInZUiRDNmWbv3US7\n",
       "qzJazP2FAAAACXBIWXMAAA7EAAAOxAGVKw4bAAADN0lEQVRIx41XTWhTQRCeNElffiTmKKVg6sF4\n",
       "MwctWJF60Esh+PDgqWBAhF6KUXIQRCge9FIxtBSkPRjQIrYK4q0g2Ao9CgEPVVARPFkEgyVeCuLM\n",
       "vN33dt/uvmZglsnOfG++nTdvdwMAZYikHA5xsU5CCgaTchidOujhIQU2hmqRJ7DfWPBqlCLFykDk\n",
       "BJqibQg7BaZxiidbF6VdhaE5Fap6dNn1AU4cwMu74Mscv3yOtiDsFEizDZrLfFsEYT8DuK4gdY8i\n",
       "2Z0bmHjYT2ZX/1mTOY4H0SbCRQHV40Llz26DtAEeKFDdw+9H2icxT66ZzG7xra+gKdpEuCig5vnH\n",
       "O15QXjJSlqd7SNIVhR0sJZIr9nX0kg3hooA6zj+meBwXrmGlUrrHZDeTyC7T0dEzNoSLAmqL7IfL\n",
       "O9yX+N6rOJ3phsiYx2RXTyKX+/yqGaAhe6wrog2EiwJqsJI/cmWZYhsf2oigusdkdz+xdocrsmIe\n",
       "PBbRjPDWWLoQFtOkgPqUt8l/7EL7h4fT6Xa03eoek92ZRHZHvws0jMGeiDYQLgqoK5ywxy60/Tzm\n",
       "LvWiJtM9tOYXy2LNzO53IrtJiQY/3RfRBsJFAXUlal62JzFlsR1r69Bj1m4jkd1UlN7riOgNKzsL\n",
       "BVQu66FuWOLZLObvhMiYx2Q3kcjuQ/TqCudF9ES871wUUN/z7hIkRDu7n8F23KSPDCwek908WeaB\n",
       "IVayINHYgq9F9Hw81kUBtR4i+Vsv9Y7gwmiZVxsWj8buUlnuFn/lQKDQwFbfl2iAR3LzaBmnnYMC\n",
       "6m7UvGx/ws2mQJGFVYtHZff1ySzOrJO5RsV7TqCmNFaVVuccX2hYF6rfJhwUUAv0zd8NXGyjjPB4\n",
       "GkyPVjuuDrdo2ny1jPa6EXpBRKc68VAXhRE+lNPda9EhTXKbR6yt4dFuAdEJnjG/B2qOc8M1if6Y\n",
       "64tob844URwUSLegsC3Phq2gHpvc11iiuMeUUR4vm18FFfjlFYku7RVqInrUfIidAtOYhlxV3pyn\n",
       "g10kuDPTSmIe24NJzPsuoeHezRB9646MtqzTToFppJRHB/aY7Q+E/Yo+VB7o5i7QFG1D2Cmg/ge/\n",
       "uv2/YXC+CwAAAABJRU5ErkJggg==\n",
       "\" style=\"display:inline;vertical-align:middle;\" /></a></span>"
      ],
      "text/plain": [
       "{i = j} |- (f(i), f(i + 1), ..., f(j)) = (f(i))"
      ]
     },
     "metadata": {},
     "output_type": "display_data"
    },
    {
     "name": "stdout",
     "output_type": "stream",
     "text": [
      "singular_range_reduction may now be readily provable (assuming required theorems are usable).  Simply execute \"%qed\".\n"
     ]
    }
   ],
   "source": [
    "i_eq_j.derive_reversed().substitution(singular_range_reduction.instance_expr.lhs)"
   ]
  },
  {
   "cell_type": "code",
   "execution_count": 6,
   "metadata": {},
   "outputs": [
    {
     "name": "stdout",
     "output_type": "stream",
     "text": [
      "proveit.core_expr_types.tuples.singular_range_reduction has been proven.\n"
     ]
    },
    {
     "data": {
      "text/html": [
       "<table><tr><th>&nbsp;</th><th>step type</th><th>requirements</th><th>statement</th></tr>\n",
       "<tr><td><a name=\"-0x4a1b1771345a0de4_step0\">0</a></td><td>generalization</td><td><a href=\"#-0x4a1b1771345a0de4_step1\">1</a></td><td><span style=\"font-size:20px;\"> <a class=\"ProveItLink\" href=\"../../../__pv_it/_proof_singular_range_reduction/b35254fa26595a2244fa73a5e3a4dba434896abb0/proof.ipynb\" style=\"text-decoration: none\">&nbsp;&#x22A2;&nbsp;&nbsp;</a><a class=\"ProveItLink\" href=\"../../../__pv_it/theorems/3d08766f171bd867f4c97800be61648b1b9ac2730/expr.ipynb\"><img src=\"data:image/png;base64,iVBORw0KGgoAAAANSUhEUgAAAa8AAAAXBAMAAABOq92eAAAAMFBMVEX///8AAAAAAAAAAAAAAAAA\n",
       "AAAAAAAAAAAAAAAAAAAAAAAAAAAAAAAAAAAAAAAAAAAv3aB7AAAAD3RSTlMAq1RmmUTNIjK7EInv\n",
       "3XZ/CtNrAAAACXBIWXMAAA7EAAAOxAGVKw4bAAAEfElEQVRYw91XTWhUVxQ+mXnz995MZsAuughl\n",
       "RJpFVaLQCm5sWu0PlZYsrYiOSim4GnFlaTTtOkWLCzGL8uzC/kH8wZVFCQFBKilRFDQaGOtAdiUb\n",
       "tWRRvOfee+7/GzPu9MB33z3vnLnvfPfnnDsALyNtCVO3XtiWVb92paTa0otGaZtxteHlZLApYOoA\n",
       "ezM8Q7J3dR/6h7eFjkCvwXUIhAa+WNcfsfUSADuvkN6FwU2mj2mxpbwAjq8v0Z8pa3MX0H0KHrPH\n",
       "43AYfgiEj/D1133xilsCAMmbs1KHBwCHDB/bYsrZj1fA9g3IxUlcgXN8LVpQZCwRfhihECS+ww18\n",
       "si9i0SYBgOrbU0B9gHcNH9vCNxT1B1cc34DMfok8tkstPyrghxEKQQJnImn2RawqAbAvBdVnT2NS\n",
       "bQtKrmMSq6a9vlBY4Y8Z0v+S8MIIhSCRZ1yL/R2xYQmAq0pHKRrrY1t8YsWehyyZ579okX5Qwgsj\n",
       "FAJhbnHxZn/EdkrA5rk3pB532UhJQ7k4Fp+Y4etLfugWbrwIc8f0IzxyEl4YoRAInwJMKedfRN4S\n",
       "e1gcUV0TJrz5+5/0pMC2Tb6lv2pbfGKmry/1jtoBo1XWbgEBiBa5NKBHCITDUEK/eAcOc4271TiF\n",
       "itgVuoDck8/bElD6j/TvIzZSbkZXVtviEzN8A3KcB1DDctmus3YDCFiSFQKhkiZjSOO9CeeHlazP\n",
       "XpeA3DLpaZWFXV7WB8q24Ew/nJMzzYkZvgEZEZmAxRXDCMsFJ0DACyMUAiHX4bmj7qWpFxMTZ5z3\n",
       "8fOFGef0K4u/YoWeK3ZVEQP4nGGPhE8sEAIBWtvws0OX8CrCp3T6Q02s8EjVw27T3YqVhtL3x2yM\n",
       "eT0ptiWwFed7EfsRaCuK+r5RwjpjWSEQ4BK/BWzF2Du8fowOa2LT9TQ6w+QURCr7/iQB1Q7p8ZOE\n",
       "nVis84KGYwkkD+1r3SbE428RAP6i9EQGt9X1zQqBAN9y0jtwkJ+RaJxe1sS+2Ujj/J5Q7VfJ9/gY\n",
       "6eXlIzI9n28FLBax5BkYvvFTtyPJyJKQXzYLjHXtygiBAAM8a5xSc0SJtKLnxa6/P0jIM877a5ix\n",
       "hh+pLQQsJrGBoadrTN872BmlzoKREco4zQM493clLMkKgSDlBjbnf+X9Z5pYvDIhtyLUqaJhNeAV\n",
       "4QMwqgPAOG/fAd9irZjrawl/EzV0fcG9VpoXsCUrhHE1vCAA8QUYjuAPNlMzmliupS6fk2DfSXON\n",
       "A1oHdWdlm8CzWJdg29cRfLO22KQr7UDz/dS8dVv3k4wQthvXZ06mPAtnl4D9XxhsGCv2lrp5qPwI\n",
       "pzlqUy1Dp/8IMZth1xL4a6x8neSBb+6fo9zaPtHEfHdUwpFwCARjFXK816TD5NYxfQv9jSPfbRs6\n",
       "hsFzHg7mWHzRvs6fYmy2fUI0T0bdMTWRnoRDIMgPrWWbdDffMelXk6ECXdxlXJg6AqYOsBRamU6Y\n",
       "2NLqrtvHBNu2QK/BdQhL1vDJv6zhC5WHLz4LEYu6KbwmUnqlo38OAGBxo1BMATkAAAAASUVORK5C\n",
       "YII=\n",
       "\" style=\"display:inline;vertical-align:middle;\" /></a></span></td></tr>\n",
       "<tr><td><a name=\"-0x4a1b1771345a0de4_step1\">1</a></td><td>instantiation</td><td><a href=\"#-0x4a1b1771345a0de4_step2\">2</a>, <a href=\"#-0x4a1b1771345a0de4_step3\">3</a></td><td><span style=\"font-size:20px;\"><a class=\"ProveItLink\" href=\"../../../__pv_it/theorems/7ff99845a266ee006d093f1f3992d31b0010acbb0/expr.ipynb\"><img src=\"data:image/png;base64,iVBORw0KGgoAAAANSUhEUgAAACwAAAASBAMAAADS2iHvAAAAMFBMVEX///8AAAAAAAAAAAAAAAAA\n",
       "AAAAAAAAAAAAAAAAAAAAAAAAAAAAAAAAAAAAAAAAAAAv3aB7AAAAD3RSTlMAdpndiRBmRO8yVM2r\n",
       "IrsWj4mGAAAACXBIWXMAAA7EAAAOxAGVKw4bAAAAgElEQVQY02NgYBBiQAecT4GECYYw4wYGqgBW\n",
       "oQR0oUAZBgYW9gYQU9kYBGzAwgocCQyzmNCtZbzAv4AhgEMA3ViG9QEMYIwGlIF4Dyu62SAPsn5n\n",
       "QVfM+x3o/w/X0IXZPgCJYxju5nmA1YcYbgOrXZAfgEV4/gIrbEYwCRUwMAAAj3IXQ9DH7yYAAAAA\n",
       "SUVORK5CYII=\n",
       "\" style=\"display:inline;vertical-align:middle;\" /></a> <a class=\"ProveItLink\" href=\"../../../__pv_it/_proof_singular_range_reduction/ea7c9319cb76497119ab7d89d7051eeb921462060/proof.ipynb\" style=\"text-decoration: none\">&nbsp;&#x22A2;&nbsp;&nbsp;</a><a class=\"ProveItLink\" href=\"../../../__pv_it/theorems/0b4ff2c31e2a7dce7741613f3a81a93ec9b43a620/expr.ipynb\"><img src=\"data:image/png;base64,iVBORw0KGgoAAAANSUhEUgAAATkAAAAVBAMAAADP1oQ7AAAAMFBMVEX///8AAAAAAAAAAAAAAAAA\n",
       "AAAAAAAAAAAAAAAAAAAAAAAAAAAAAAAAAAAAAAAAAAAv3aB7AAAAD3RSTlMAInZUiRDNmWbv3US7\n",
       "qzJazP2FAAAACXBIWXMAAA7EAAAOxAGVKw4bAAADN0lEQVRIx41XTWhTQRCeNElffiTmKKVg6sF4\n",
       "MwctWJF60Esh+PDgqWBAhF6KUXIQRCge9FIxtBSkPRjQIrYK4q0g2Ao9CgEPVVARPFkEgyVeCuLM\n",
       "vN33dt/uvmZglsnOfG++nTdvdwMAZYikHA5xsU5CCgaTchidOujhIQU2hmqRJ7DfWPBqlCLFykDk\n",
       "BJqibQg7BaZxiidbF6VdhaE5Fap6dNn1AU4cwMu74Mscv3yOtiDsFEizDZrLfFsEYT8DuK4gdY8i\n",
       "2Z0bmHjYT2ZX/1mTOY4H0SbCRQHV40Llz26DtAEeKFDdw+9H2icxT66ZzG7xra+gKdpEuCig5vnH\n",
       "O15QXjJSlqd7SNIVhR0sJZIr9nX0kg3hooA6zj+meBwXrmGlUrrHZDeTyC7T0dEzNoSLAmqL7IfL\n",
       "O9yX+N6rOJ3phsiYx2RXTyKX+/yqGaAhe6wrog2EiwJqsJI/cmWZYhsf2oigusdkdz+xdocrsmIe\n",
       "PBbRjPDWWLoQFtOkgPqUt8l/7EL7h4fT6Xa03eoek92ZRHZHvws0jMGeiDYQLgqoK5ywxy60/Tzm\n",
       "LvWiJtM9tOYXy2LNzO53IrtJiQY/3RfRBsJFAXUlal62JzFlsR1r69Bj1m4jkd1UlN7riOgNKzsL\n",
       "BVQu66FuWOLZLObvhMiYx2Q3kcjuQ/TqCudF9ES871wUUN/z7hIkRDu7n8F23KSPDCwek908WeaB\n",
       "IVayINHYgq9F9Hw81kUBtR4i+Vsv9Y7gwmiZVxsWj8buUlnuFn/lQKDQwFbfl2iAR3LzaBmnnYMC\n",
       "6m7UvGx/ws2mQJGFVYtHZff1ySzOrJO5RsV7TqCmNFaVVuccX2hYF6rfJhwUUAv0zd8NXGyjjPB4\n",
       "GkyPVjuuDrdo2ny1jPa6EXpBRKc68VAXhRE+lNPda9EhTXKbR6yt4dFuAdEJnjG/B2qOc8M1if6Y\n",
       "64tob844URwUSLegsC3Phq2gHpvc11iiuMeUUR4vm18FFfjlFYku7RVqInrUfIidAtOYhlxV3pyn\n",
       "g10kuDPTSmIe24NJzPsuoeHezRB9646MtqzTToFppJRHB/aY7Q+E/Yo+VB7o5i7QFG1D2Cmg/ge/\n",
       "uv2/YXC+CwAAAABJRU5ErkJggg==\n",
       "\" style=\"display:inline;vertical-align:middle;\" /></a></span></td></tr>\n",
       "<tr><td>&nbsp;</td><td colspan=4 style=\"text-align:left\"><span style=\"font-size:20px;\"><a class=\"ProveItLink\" href=\"../../../__pv_it/_proof_singular_range_reduction/3e7f3569c18357d67af66f83da8ba5f81ce02a880/expr.ipynb\"><img src=\"data:image/png;base64,iVBORw0KGgoAAAANSUhEUgAAADQAAAAVBAMAAAD7ptBLAAAAMFBMVEX///8AAAAAAAAAAAAAAAAA\n",
       "AAAAAAAAAAAAAAAAAAAAAAAAAAAAAAAAAAAAAAAAAAAv3aB7AAAAD3RSTlMAmYkQqzLvVES73WZ2\n",
       "Is1wFLxSAAAACXBIWXMAAA7EAAAOxAGVKw4bAAABEklEQVQoz2NggANeBgYcHIbjyByOA2CKUckA\n",
       "SLIrwIQts4DEaTBTJawASNohtDwEYj6Qcob0ThAljZD6DsTcAiBjP4P5CQh7wALJQMy0AMRifwCX\n",
       "ggi8Bup0WwLSywh3BQOfzxGg5SpAFj/YnXwb4FL2j5n/MjDsA7LuB4D4XAVwqXoDhhwGhjIQC8xn\n",
       "a4BLyTEwfGJgiAeytNClFjFwAJ3fBmRNYUAz8DsDI9D5VUBWDpjPeQAu9ZXBDOimncAw/gHxjANc\n",
       "ypthIpAUAvr1A5jPCvRn5EwguMBgogjyyAqgX6HKl6LEEAPvAoYSPqj9G1GlGDcwrIRFBucFFKmb\n",
       "DAx7ZKFs5gkoUnOROXeQOTwXGAC//jhHEFCMfwAAAABJRU5ErkJggg==\n",
       "\" style=\"display:inline;vertical-align:middle;\" /></a> : <a class=\"ProveItLink\" href=\"../../../__pv_it/_proof_singular_range_reduction/e1e4821f3fa3ff0ac0392580ad4ec4d15cbd58690/expr.ipynb\"><img src=\"data:image/png;base64,iVBORw0KGgoAAAANSUhEUgAAAPMAAAAVBAMAAABhxcWTAAAAMFBMVEX///8AAAAAAAAAAAAAAAAA\n",
       "AAAAAAAAAAAAAAAAAAAAAAAAAAAAAAAAAAAAAAAAAAAv3aB7AAAAD3RSTlMAInZUiRDNmWbv3US7\n",
       "qzJazP2FAAAACXBIWXMAAA7EAAAOxAGVKw4bAAACtElEQVRIx41WPWgUURCe3O3mcnsx2VKC4MXm\n",
       "7LxCA2qRa2wCwcU6kIAINodXpEgjptJGISCCxMIDFXFtJJ1VckIKweJAITbKgV0ag2AaQZw3b9/v\n",
       "bJ43MO/m5nvffPt+dwEgBWOpbnwrTcIEjGep/4cSlbZJyninhGv3sqzRHEvZZe8ojYv0d/2ailtQ\n",
       "2bQ72ohrhxnA+f+IGjZZ/LEPVF94vCZS0ffHUMQvAW5ZXBexLD64g9KTWVDZYkub7IGsj16jIdav\n",
       "7oOKAR5YZBehSVbxBZSd6gWlGXu2XdRHr1Nmlx6+rgjWUFxEWLVpScOToDRjU0LUR1+gzBK1C2pW\n",
       "rDG6CJe+HZRm7CVVH31dxI+2D2hP4LK0MB0NdVcP4dLLIWXDVtY991nWR5dP/YtajKPGFi6g2RYe\n",
       "wqXvB0et2WpvHmerKdVHf0E3w18CMP5Rw3R1y9wZLsKlL4eUDVst1m+oN6k++jPKHBGAcYYIzByZ\n",
       "vi4CtTx/s53nQy39MyRt2IXh4892qD46paO+7rKI9Rpm1B7CR/0+eKz7nnTSgd021UenyZge6onp\n",
       "xli8r/t6CJe+EpK22PpY38uoPvoHOniyGsbxnwi3wJ7YEVCCcOmHIuJXms9W0qP4qayPTofj7DsC\n",
       "lsUSnMYV6eCf1bUSxJG+nhYHJz5WjSDpwGYXdmpzuifrox+KzGLxPkD/iqc3EYzkVQliS3973sXM\n",
       "WxHmYtivBamnAo898wltAPGXDZD10ZMRxneLTTCSv3PUXgKOOKOm40Pbospn/CS2qj9H9391eFOm\n",
       "1Ltgg1qcFYY4rw/Qb4aI77CT2Kq+8AEk++r2GsiR7NFGwcH5CLcz1N7g2yzAFvVJYwWmWur7ZUUe\n",
       "Cfn1Ih7XQ7jJovxbJcQW9UljwuLJeL7sSiz/EqqkY30guex56f8AXfC9F4806VcAAAAASUVORK5C\n",
       "YII=\n",
       "\" style=\"display:inline;vertical-align:middle;\" /></a>, <a class=\"ProveItLink\" href=\"../../../../../__pv_it/common/a0d9d672aa5e272d907247690c152cc2c6daafb70/expr.ipynb\"><img src=\"data:image/png;base64,iVBORw0KGgoAAAANSUhEUgAAAAsAAAAJBAMAAAAWSsseAAAAMFBMVEX///8AAAAAAAAAAAAAAAAA\n",
       "AAAAAAAAAAAAAAAAAAAAAAAAAAAAAAAAAAAAAAAAAAAv3aB7AAAAD3RSTlMAEHarMolUmd1mIs3v\n",
       "RLtmgJDEAAAACXBIWXMAAA7EAAAOxAGVKw4bAAAAQklEQVQI12NgEFIWCU1gYChgMmJvYOBcwPmR\n",
       "eQIDCwP7BgYQ4FEAU/cXMAowyF2wYWBlYMh3rGG4xsAgrsRWmcAAAFEjCyBvD0T9AAAAAElFTkSu\n",
       "QmCC\n",
       "\" style=\"display:inline;vertical-align:middle;\" /></a> : <a class=\"ProveItLink\" href=\"../../../../../__pv_it/common/1ed21df18baca2f42b561a7ffbf30a2743d594650/expr.ipynb\"><img src=\"data:image/png;base64,iVBORw0KGgoAAAANSUhEUgAAAAoAAAASBAMAAACQmVJ4AAAAMFBMVEX///8AAAAAAAAAAAAAAAAA\n",
       "AAAAAAAAAAAAAAAAAAAAAAAAAAAAAAAAAAAAAAAAAAAv3aB7AAAAD3RSTlMAMrsQds2rme9mIlTd\n",
       "iUQmv6lAAAAACXBIWXMAAA7EAAAOxAGVKw4bAAAATElEQVQI12NgYGBgVAYSDCwBDNiAiRuILOCY\n",
       "AFSxgH8DAwMzw34DkFANWPosiOD6ByI5P4BINgUQyeEAZG2YD1Qov+E0kM/u/oCBAQDY7wxV/Qz6\n",
       "SAAAAABJRU5ErkJggg==\n",
       "\" style=\"display:inline;vertical-align:middle;\" /></a>, <a class=\"ProveItLink\" href=\"../../../../../__pv_it/common/ff7dba4ef0bbe791ab573bf2d9c220a304399ac80/expr.ipynb\"><img src=\"data:image/png;base64,iVBORw0KGgoAAAANSUhEUgAAAAsAAAANBAMAAACN24kIAAAAMFBMVEX///8AAAAAAAAAAAAAAAAA\n",
       "AAAAAAAAAAAAAAAAAAAAAAAAAAAAAAAAAAAAAAAAAAAv3aB7AAAAD3RSTlMAEHaZZquJVO8y3btE\n",
       "zSKD2s2pAAAACXBIWXMAAA7EAAAOxAGVKw4bAAAAVklEQVQI12NgVHZgEGVgYGNvYPBnYJjOvIAh\n",
       "moFBgEOBoYmBgeG8AOdPIGXLwNQApLYycAcAKVOG8w5ASjTJ/gEDCOQCMdsFxnYgxaXAmgCk2J1s\n",
       "gCQAaFoNDtFIIdEAAAAASUVORK5CYII=\n",
       "\" style=\"display:inline;vertical-align:middle;\" /></a> : <a class=\"ProveItLink\" href=\"../../../../../__pv_it/common/ae955345c83abf786c3aff8681cd5465beae262d0/expr.ipynb\"><img src=\"data:image/png;base64,iVBORw0KGgoAAAANSUhEUgAAAAcAAAAOBAMAAAARcxsoAAAALVBMVEX///8AAAAAAAAAAAAAAAAA\n",
       "AAAAAAAAAAAAAAAAAAAAAAAAAAAAAAAAAAAAAADAOrOgAAAADnRSTlMAdpndiRBmRO8yVM2rIuws\n",
       "s0IAAAAJcEhZcwAADsQAAA7EAZUrDhsAAAA6SURBVAjXY2BgEGIAAhMGdMAqlMDAwMLewMAwi2kD\n",
       "A0MAhwBQcF0AkNjDCpR9zsLAwPngGpB7LIEBALAvCJF4nqyTAAAAAElFTkSuQmCC\n",
       "\" style=\"display:inline;vertical-align:middle;\" /></a></span></td></tr><tr><td><a name=\"-0x4a1b1771345a0de4_step2\">2</a></td><td>axiom</td><td></td><td><span style=\"font-size:20px;\"> <a class=\"ProveItLink\" href=\"../../../../../logic/equality/_theory_nbs_/axioms.ipynb#substitution\" style=\"text-decoration: none\">&nbsp;&#x22A2;&nbsp;&nbsp;</a><a class=\"ProveItLink\" href=\"../../../../../logic/equality/__pv_it/axioms/b3647e5bced6c805148d96be1aa0946871a946d20/expr.ipynb\"><img src=\"data:image/png;base64,iVBORw0KGgoAAAANSUhEUgAAAO8AAAAXBAMAAAARnwX+AAAAMFBMVEX///8AAAAAAAAAAAAAAAAA\n",
       "AAAAAAAAAAAAAAAAAAAAAAAAAAAAAAAAAAAAAAAAAAAv3aB7AAAAD3RSTlMAq1RmmUTNIjK7EInv\n",
       "3XZ/CtNrAAAACXBIWXMAAA7EAAAOxAGVKw4bAAAC/UlEQVRIx7VWTWgTURCeJLtpkk3SHDxYLCXi\n",
       "z0VLV1Chl1pp/aOCwYMnMYseBE/rUalYPUrFigexh7IFDxah1B48KJYgCKJUglDwEkixInoovVV6\n",
       "EOfN+9vsS1sT6MDMfvvmy5t5+97MC0Db4pu44z/4fuSnLUu+aGK7vj3/itACe9nXRuBDZEfeaIzy\n",
       "vRmzkZN3uZ5iL9dbj5vxmHV2v1eYSTIwmVHODa732NZMtB7YcpnNHphUmEli0GRGOUe5shydYuuB\n",
       "s2TLgcYkn0xmlJMNSBOYSbKNLT5I9l0Ik1wzmVFO0uW6WKt9biPwCDNHFndJPLv84i1+uFcGUXMy\n",
       "Ky5M4/ctcD0LMLnZ7IObB+ZL+6vwYL7HqgIcp/2vkRSgkePEK3ACz4HH9SZ0MEZm2DVn3+LQfaWG\n",
       "8UfihJ/YiOEMhw2i5tzHzLoAMDxpOnBK6EgfG2sp8Adm4msSp8CienlkEDUnyNbhC1LXuMbrdLY6\n",
       "m1TgtoGdqsZZ6lqXzTLWnHKQwuXbFa7gDbC8uueZe/XMCvZRexliocB8kFqidIhPnS5oXPYzmHuv\n",
       "scchzmnIs89c5QrzrJVAP7UzvyuJR3O2MxjXgWnw3DMUVzkApvQqGZ4pdYMjp2kseMWBx5RFYoIr\n",
       "jFJKw9R4YCqFj9u98EsHFoMQdoi6uVuSuO/Bebgoq6xBNAdOQhnPnzXHFWJ0qp5w2jrZPdAT3uN1\n",
       "NYt0ADxkpk/h56vxIdb/lozAmgPTCxdwz3IlrkI+kk1V6EpdEq8TapB/auXAn47REjTmtVM1Ajdw\n",
       "XqPeESoumw2AlzDqeBY+4Ju9pgPToBDpoOsgXrgavRqsaDMIcxwvw+6pIaEgVgUwXrR+LPzGB+zv\n",
       "93RgGhQiHShPITfpKSzkVnS9YU6uHpvjV2HoOqSkxSVVzPhpt2kdKwfKDCRklSGOZqDmDXHiA+zy\n",
       "T/tcuaT34hbYvIfYQax+qXkDUQ62naG/ORLnt/gzJTk/hYr2skp1w5MEe2CueWDl2Gnxd27qf2UN\n",
       "1FvBvR7LAAAAAElFTkSuQmCC\n",
       "\" style=\"display:inline;vertical-align:middle;\" /></a></span></td></tr>\n",
       "<tr><td>&nbsp;</td><td colspan=4 style-\"text-align:left\"><a class=\"ProveItLink\" href=\"../../../../../logic/equality/_theory_nbs_/axioms.ipynb#substitution\">proveit.logic.equality.substitution</a></td></tr><tr><td><a name=\"-0x4a1b1771345a0de4_step3\">3</a></td><td>instantiation</td><td><a href=\"#-0x4a1b1771345a0de4_step4\">4</a>, <a href=\"#-0x4a1b1771345a0de4_step5\">5</a></td><td><span style=\"font-size:20px;\"><a class=\"ProveItLink\" href=\"../../../__pv_it/theorems/7ff99845a266ee006d093f1f3992d31b0010acbb0/expr.ipynb\"><img src=\"data:image/png;base64,iVBORw0KGgoAAAANSUhEUgAAACwAAAASBAMAAADS2iHvAAAAMFBMVEX///8AAAAAAAAAAAAAAAAA\n",
       "AAAAAAAAAAAAAAAAAAAAAAAAAAAAAAAAAAAAAAAAAAAv3aB7AAAAD3RSTlMAdpndiRBmRO8yVM2r\n",
       "IrsWj4mGAAAACXBIWXMAAA7EAAAOxAGVKw4bAAAAgElEQVQY02NgYBBiQAecT4GECYYw4wYGqgBW\n",
       "oQR0oUAZBgYW9gYQU9kYBGzAwgocCQyzmNCtZbzAv4AhgEMA3ViG9QEMYIwGlIF4Dyu62SAPsn5n\n",
       "QVfM+x3o/w/X0IXZPgCJYxju5nmA1YcYbgOrXZAfgEV4/gIrbEYwCRUwMAAAj3IXQ9DH7yYAAAAA\n",
       "SUVORK5CYII=\n",
       "\" style=\"display:inline;vertical-align:middle;\" /></a> <a class=\"ProveItLink\" href=\"../../../__pv_it/_proof_singular_range_reduction/f56f529bfec1f52397672da22219d94ecb77d3460/proof.ipynb\" style=\"text-decoration: none\">&nbsp;&#x22A2;&nbsp;&nbsp;</a><a class=\"ProveItLink\" href=\"../../../__pv_it/_proof_singular_range_reduction/71e9c598ed02df61276472df00d3b8ebe1f87f610/expr.ipynb\"><img src=\"data:image/png;base64,iVBORw0KGgoAAAANSUhEUgAAAC4AAAASBAMAAADWL/HSAAAAMFBMVEX///8AAAAAAAAAAAAAAAAA\n",
       "AAAAAAAAAAAAAAAAAAAAAAAAAAAAAAAAAAAAAAAAAAAv3aB7AAAAD3RSTlMAMrsQds2rme9mIlTd\n",
       "iUQmv6lAAAAACXBIWXMAAA7EAAAOxAGVKw4bAAAAhklEQVQY02NgYGBgVGZAAywFYDIAXZznAgP1\n",
       "gIkbhkgliCzgmACias6AwDEQ88ILkGsW8G9AVc64oRRIMjPsN0AVZ2ZoAdM16OZzfwZTZxnQzGdN\n",
       "AJnA9Q9dvf0DkH85P6CLy3OBXMimgC7ONhNEcjhg8y3bhvkG2MTlN5zGGjrs7g+wCQMAH9ohDfhu\n",
       "Qb0AAAAASUVORK5CYII=\n",
       "\" style=\"display:inline;vertical-align:middle;\" /></a></span></td></tr>\n",
       "<tr><td>&nbsp;</td><td colspan=4 style=\"text-align:left\"><span style=\"font-size:20px;\"><a class=\"ProveItLink\" href=\"../../../../../__pv_it/common/a0d9d672aa5e272d907247690c152cc2c6daafb70/expr.ipynb\"><img src=\"data:image/png;base64,iVBORw0KGgoAAAANSUhEUgAAAAsAAAAJBAMAAAAWSsseAAAAMFBMVEX///8AAAAAAAAAAAAAAAAA\n",
       "AAAAAAAAAAAAAAAAAAAAAAAAAAAAAAAAAAAAAAAAAAAv3aB7AAAAD3RSTlMAEHarMolUmd1mIs3v\n",
       "RLtmgJDEAAAACXBIWXMAAA7EAAAOxAGVKw4bAAAAQklEQVQI12NgEFIWCU1gYChgMmJvYOBcwPmR\n",
       "eQIDCwP7BgYQ4FEAU/cXMAowyF2wYWBlYMh3rGG4xsAgrsRWmcAAAFEjCyBvD0T9AAAAAElFTkSu\n",
       "QmCC\n",
       "\" style=\"display:inline;vertical-align:middle;\" /></a> : <a class=\"ProveItLink\" href=\"../../../../../__pv_it/common/ae955345c83abf786c3aff8681cd5465beae262d0/expr.ipynb\"><img src=\"data:image/png;base64,iVBORw0KGgoAAAANSUhEUgAAAAcAAAAOBAMAAAARcxsoAAAALVBMVEX///8AAAAAAAAAAAAAAAAA\n",
       "AAAAAAAAAAAAAAAAAAAAAAAAAAAAAAAAAAAAAADAOrOgAAAADnRSTlMAdpndiRBmRO8yVM2rIuws\n",
       "s0IAAAAJcEhZcwAADsQAAA7EAZUrDhsAAAA6SURBVAjXY2BgEGIAAhMGdMAqlMDAwMLewMAwi2kD\n",
       "A0MAhwBQcF0AkNjDCpR9zsLAwPngGpB7LIEBALAvCJF4nqyTAAAAAElFTkSuQmCC\n",
       "\" style=\"display:inline;vertical-align:middle;\" /></a>, <a class=\"ProveItLink\" href=\"../../../../../__pv_it/common/ff7dba4ef0bbe791ab573bf2d9c220a304399ac80/expr.ipynb\"><img src=\"data:image/png;base64,iVBORw0KGgoAAAANSUhEUgAAAAsAAAANBAMAAACN24kIAAAAMFBMVEX///8AAAAAAAAAAAAAAAAA\n",
       "AAAAAAAAAAAAAAAAAAAAAAAAAAAAAAAAAAAAAAAAAAAv3aB7AAAAD3RSTlMAEHaZZquJVO8y3btE\n",
       "zSKD2s2pAAAACXBIWXMAAA7EAAAOxAGVKw4bAAAAVklEQVQI12NgVHZgEGVgYGNvYPBnYJjOvIAh\n",
       "moFBgEOBoYmBgeG8AOdPIGXLwNQApLYycAcAKVOG8w5ASjTJ/gEDCOQCMdsFxnYgxaXAmgCk2J1s\n",
       "gCQAaFoNDtFIIdEAAAAASUVORK5CYII=\n",
       "\" style=\"display:inline;vertical-align:middle;\" /></a> : <a class=\"ProveItLink\" href=\"../../../../../__pv_it/common/1ed21df18baca2f42b561a7ffbf30a2743d594650/expr.ipynb\"><img src=\"data:image/png;base64,iVBORw0KGgoAAAANSUhEUgAAAAoAAAASBAMAAACQmVJ4AAAAMFBMVEX///8AAAAAAAAAAAAAAAAA\n",
       "AAAAAAAAAAAAAAAAAAAAAAAAAAAAAAAAAAAAAAAAAAAv3aB7AAAAD3RSTlMAMrsQds2rme9mIlTd\n",
       "iUQmv6lAAAAACXBIWXMAAA7EAAAOxAGVKw4bAAAATElEQVQI12NgYGBgVAYSDCwBDNiAiRuILOCY\n",
       "AFSxgH8DAwMzw34DkFANWPosiOD6ByI5P4BINgUQyeEAZG2YD1Qov+E0kM/u/oCBAQDY7wxV/Qz6\n",
       "SAAAAABJRU5ErkJggg==\n",
       "\" style=\"display:inline;vertical-align:middle;\" /></a></span></td></tr><tr><td><a name=\"-0x4a1b1771345a0de4_step4\">4</a></td><td>theorem</td><td></td><td><span style=\"font-size:20px;\"> <a class=\"ProveItLink\" href=\"../../../../../logic/equality/_theory_nbs_/proofs/equals_reversal/thm_proof.ipynb\" style=\"text-decoration: none\">&nbsp;&#x22A2;&nbsp;&nbsp;</a><a class=\"ProveItLink\" href=\"../../../../../logic/equality/__pv_it/theorems/6eaa0fec06de9345737f83f0a1ce382c3a3515530/expr.ipynb\"><img src=\"data:image/png;base64,iVBORw0KGgoAAAANSUhEUgAAAKEAAAAXBAMAAACR7DLtAAAAMFBMVEX///8AAAAAAAAAAAAAAAAA\n",
       "AAAAAAAAAAAAAAAAAAAAAAAAAAAAAAAAAAAAAAAAAAAv3aB7AAAAD3RSTlMAq1RmmUTNIjK7EInv\n",
       "3XZ/CtNrAAAACXBIWXMAAA7EAAAOxAGVKw4bAAACFElEQVQ4y51VTUjcUBD+stm3v1YDnqxQApVe\n",
       "2sJSCuJFBbG1lBVPPZZAD0JP22uxYM+1WA8iepAcvPiDbD30WPYiFEqlFQQvWyJsKS1FBA8rnvq9\n",
       "5ya7iUkgO/AyL/NlvsybmUyA5FLpCoqRXjMae85lyM3tJIx3495WAiblZjYBYcGKQ18Cb6myHxIw\n",
       "pktx6EMgYwNFMwFjTzxqQ+crM0nSeCcWzZDuW73+NQnjU67dCRSMQHpPb77b43FpngLWrrmNRzO+\n",
       "4Kreg35GXa5L+aHSixOnDOis2ytkjWtuMaU6BHJmGVrgkWGM2f1Aqgbk7eJMEsZ9nhAH6HH85nk8\n",
       "kirH0FNOSGHiGSEusTgfBA7kRTBGWKO8nD5u8JsUJ9A6GK+M6kEXUKdG2sI/+PMI0cQW4/vO7R77\n",
       "vLcykGFT7vbZC21GZXyySil5ALDOlTewFCj1slZDlZWRnnMsjI71HLev7+NPm7FlRCcAfJQxGuLc\n",
       "z5i62KgJxpQmKzSVkaYCBnGrM49Nz8MFgPcyosFGMxDjtDP0gPqGV+VcLSvVEb50MErj1ak9gD4q\n",
       "gGLEvHjjbuaKVhrbwLE4azMqY0tcgLlg93/CTsQomPAGyq/Pf7FgYmjEajMqY0tcgLIC/GQWQiU4\n",
       "xcxCJV8K7UcPoGxyQjdmwhnz/t+CsDXnWXiHe4CMw4lu/9/+Wx1itBrO6AFdS6V71//TzoWc8iuM\n",
       "ngAAAABJRU5ErkJggg==\n",
       "\" style=\"display:inline;vertical-align:middle;\" /></a></span></td></tr>\n",
       "<tr><td>&nbsp;</td><td colspan=4 style-\"text-align:left\"><a class=\"ProveItLink\" href=\"../../../../../logic/equality/_theory_nbs_/proofs/equals_reversal/thm_proof.ipynb\">proveit.logic.equality.equals_reversal</a></td></tr><tr><td><a name=\"-0x4a1b1771345a0de4_step5\">5</a></td><td>assumption</td><td></td><td><span style=\"font-size:20px;\"><a class=\"ProveItLink\" href=\"../../../__pv_it/theorems/7ff99845a266ee006d093f1f3992d31b0010acbb0/expr.ipynb\"><img src=\"data:image/png;base64,iVBORw0KGgoAAAANSUhEUgAAACwAAAASBAMAAADS2iHvAAAAMFBMVEX///8AAAAAAAAAAAAAAAAA\n",
       "AAAAAAAAAAAAAAAAAAAAAAAAAAAAAAAAAAAAAAAAAAAv3aB7AAAAD3RSTlMAdpndiRBmRO8yVM2r\n",
       "IrsWj4mGAAAACXBIWXMAAA7EAAAOxAGVKw4bAAAAgElEQVQY02NgYBBiQAecT4GECYYw4wYGqgBW\n",
       "oQR0oUAZBgYW9gYQU9kYBGzAwgocCQyzmNCtZbzAv4AhgEMA3ViG9QEMYIwGlIF4Dyu62SAPsn5n\n",
       "QVfM+x3o/w/X0IXZPgCJYxju5nmA1YcYbgOrXZAfgEV4/gIrbEYwCRUwMAAAj3IXQ9DH7yYAAAAA\n",
       "SUVORK5CYII=\n",
       "\" style=\"display:inline;vertical-align:middle;\" /></a> <a class=\"ProveItLink\" href=\"../../../__pv_it/_proof_singular_range_reduction/27be9b07d14ba40c87b9e45f255262d353ceb7030/proof.ipynb\" style=\"text-decoration: none\">&nbsp;&#x22A2;&nbsp;&nbsp;</a><a class=\"ProveItLink\" href=\"../../../__pv_it/theorems/7ff99845a266ee006d093f1f3992d31b0010acbb0/expr.ipynb\"><img src=\"data:image/png;base64,iVBORw0KGgoAAAANSUhEUgAAACwAAAASBAMAAADS2iHvAAAAMFBMVEX///8AAAAAAAAAAAAAAAAA\n",
       "AAAAAAAAAAAAAAAAAAAAAAAAAAAAAAAAAAAAAAAAAAAv3aB7AAAAD3RSTlMAdpndiRBmRO8yVM2r\n",
       "IrsWj4mGAAAACXBIWXMAAA7EAAAOxAGVKw4bAAAAgElEQVQY02NgYBBiQAecT4GECYYw4wYGqgBW\n",
       "oQR0oUAZBgYW9gYQU9kYBGzAwgocCQyzmNCtZbzAv4AhgEMA3ViG9QEMYIwGlIF4Dyu62SAPsn5n\n",
       "QVfM+x3o/w/X0IXZPgCJYxju5nmA1YcYbgOrXZAfgEV4/gIrbEYwCRUwMAAAj3IXQ9DH7yYAAAAA\n",
       "SUVORK5CYII=\n",
       "\" style=\"display:inline;vertical-align:middle;\" /></a></span></td></tr>\n",
       "</table>"
      ],
      "text/plain": [
       "\tstep type\trequirements\tstatement\n",
       "0\tgeneralization\t1\t|- forall_{f, i, j | i = j} ((f(i), f(i + 1), ..., f(j)) = (f(i)))\n",
       "1\tinstantiation\t2, 3\t{i = j} |- (f(i), f(i + 1), ..., f(j)) = (f(i))\n",
       "\tf(_b) : (f(i), f(i + 1), ..., f(_b)), x : j, y : i\n",
       "2\taxiom\t\t|- forall_{f, x, y | x = y} (f(x) = f(y))\n",
       "\tproveit.logic.equality.substitution\n",
       "3\tinstantiation\t4, 5\t{i = j} |- j = i\n",
       "\tx : i, y : j\n",
       "4\ttheorem\t\t|- forall_{x, y | x = y} (y = x)\n",
       "\tproveit.logic.equality.equals_reversal\n",
       "5\tassumption\t\t{i = j} |- i = j"
      ]
     },
     "execution_count": 6,
     "metadata": {},
     "output_type": "execute_result"
    }
   ],
   "source": [
    "%qed"
   ]
  },
  {
   "cell_type": "code",
   "execution_count": null,
   "metadata": {},
   "outputs": [],
   "source": []
  }
 ],
 "metadata": {
  "kernelspec": {
   "display_name": "Python 3",
   "language": "python",
   "name": "python3"
  }
 },
 "nbformat": 4,
 "nbformat_minor": 0
}