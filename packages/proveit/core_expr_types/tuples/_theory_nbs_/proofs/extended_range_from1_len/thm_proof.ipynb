{
 "cells": [
  {
   "cell_type": "markdown",
   "metadata": {},
   "source": [
    "Proof of <a class=\"ProveItLink\" href=\"../../../../../_theory_nbs_/theory.ipynb\">proveit</a>.<a class=\"ProveItLink\" href=\"../../../../_theory_nbs_/theory.ipynb\">core_expr_types</a>.<a class=\"ProveItLink\" href=\"../../theory.ipynb\">tuples</a>.<a class=\"ProveItLink\" href=\"../../theorems.ipynb#extended_range_from1_len\">extended_range_from1_len</a> theorem\n",
    "========"
   ]
  },
  {
   "cell_type": "code",
   "execution_count": 1,
   "metadata": {},
   "outputs": [],
   "source": [
    "import proveit\n",
    "theory = proveit.Theory() # the theorem's theory"
   ]
  },
  {
   "cell_type": "code",
   "execution_count": 2,
   "metadata": {},
   "outputs": [
    {
     "data": {
      "text/html": [
       "With these <a href=\"allowed_presumptions.txt\">allowed</a>/<a href=\"disallowed_presumptions.txt\">disallowed</a> theorem/theory presumptions (e.g., to avoid circular dependencies), we begin our proof of<br><strong id=\"extended_range_from1_len\">extended_range_from1_len:</strong> <a class=\"ProveItLink\" href=\"../../../__pv_it/theorems/c009d4d8ca8a54e951247505a165dbaf791b57700/expr.ipynb\"><img src=\"data:image/png;base64,iVBORw0KGgoAAAANSUhEUgAAAcYAAAAWBAMAAACoBSGBAAAAMFBMVEX///8AAAAAAAAAAAAAAAAA\n",
       "AAAAAAAAAAAAAAAAAAAAAAAAAAAAAAAAAAAAAAAAAAAv3aB7AAAAD3RSTlMAq1RmmUTNIjK7EInv\n",
       "3XZ/CtNrAAAACXBIWXMAAA7EAAAOxAGVKw4bAAAFg0lEQVRYw9VYX2gcRRj/7k9u73bvLiftg0Io\n",
       "F6QStGmumBYKUk4SYyEqhz5pg702D6IvrihIpKbRR21NVEpNH2QVKRYhvQRO0FJ6BAol2nqVRGol\n",
       "cGkDrUJjXvqHezDONzM7Ozs7u+bVOWaY3e/3fd/85s833x5AaLlzLVxmkx8WQ3pnuCItXkVHFVtn\n",
       "J9R8iFWD1ygaUA8X5YtcekN6yfuv6vFYOlqbosjQqh2uHBzVDb0VxFOdOhTw+VE9x1DZE9xXvIZt\n",
       "8pzD++nrZIQlGTn8I8e/M/QFwM3/YCfQsKrYAVc5wBH95svKy+MOw9+kGs/gq9f0HMNkZpX7Ok0f\n",
       "Z48VWf+roTbpvCEhrYfnGd6YggsVSDmRFAUa4A+/HSxMOcARx5Cr+ce39U2H4bHW4QPctlN6jmGy\n",
       "ZIn7GqCP8y87vJ9Hjv0SMrv9FMPHbMg2IFGO5CjQtPQrUqYc4Dgg9V9yO387DI+1TplaRT3HMFnW\n",
       "9dWgG78Nbp9yzEqLddDh+GwbYvcBFiI5CjTzoi76gpZjQ+rvlDlS/AJqJMispUJiTpjsMe4rXqU7\n",
       "rAlun3JMSQfpvIuPNSH2AGA0kqNAs72pHshRHUc2Bi3HUVaJxuXl5Z/C4mqIbJj7SuIxSHRdLbt9\n",
       "ytEqCOCuy1tdPDk06+ToRlH00OZqSbYzs/LtuSJXVjmi35kBLcdZVonGfgByCkxbx5HJAmWU+2Iz\n",
       "3dkSs045JqSZ/cdbAJgkuD2R6yjQVkdDtlPOb0s2uTLl+Pwylquu39qIluMeVonGW2CQCbPY7WMs\n",
       "1uGpguDIZGAO+rfNr9xXjp7VoxPg9inHuHdCjAcCD4BD2hFF0UN/mKxKdhJ2oh0rcWV1HYnfdHFI\n",
       "y3EHq0Qj41gVJvjkkRPQbTlJR3DksszuCZ/di9xXlir2sQhRcTmm173Dsi7wkMQAPRnF0UM72ZZk\n",
       "Jw1JuqSTOo7ErwlX+OL+zBeXcZxklWjEWzysJPfjjd8qW95e5bJOJcL5OZ5XOHZ468jCEeO4C5uR\n",
       "yOvRQ/c5PjvZllDWcIR4W7uOI6yiRnUfsbfC84ie7eMSRyqDeNccjn91/FntXv0UlL3aFAPIFASe\n",
       "pCPvAvRGcZTQh0yfnYO26XBl9Tyi31TB0XHsZRU15khCMdPpmPSy77G+PiBxnKPJxl5sbsWmDnPJ\n",
       "l1yaodN7hQ2wJWIOGjKl+af4jwH+4paCyY6KNu9akp0zlS6w3GGo64h+z1ZqOo57WUWNI2T63uuF\n",
       "DhpXeqD8p8TxCJ3aQWxKmZZ7Kme5lEZ34y7baNi37ru3yFl6go5WXLyxODjYZLeIec+VY+M9Sej0\n",
       "+tuSnb6PnoMX3StI5Yh+J42SwvGCzfHDTCM2QScv8fr09GeE43cpiSOVwef0uVNcL8e5NN30IgX2\n",
       "Y133tpDdg0PNXffCEeJzGxsbZLhL+LhMJjmHdyptFjVo2FKS7HyzFh/Ak7Ck40j9Pqmcx4d+OVRi\n",
       "+CVPw2xPpGtsHTt2Br6tLtH2mPh2y01wKX6aJflVIz7T3qft49g87eHZ7cBSouBm1aElO5JyIJe7\n",
       "pstzXDzWusiIyuy23w2wonI022DWjMb3UJay4zpPm7tTRSWFZkkHmbF44bCcTYt02wqGGx1a2PEp\n",
       "Bzj263JyFy++HpDGNhvGyPylf7MhpnJMNyA9Dy8cWBPzf5JLMzb8fto9/HyV2YeKSUJB7lTVw9My\n",
       "xlKzYMzRoD07PuUAx4wdEqbHeJU1zB+mT2j/B8CJjfvUz3ApicX73AvFnJJ95lFv1fbw0uiD/wbo\n",
       "0J4dn3KAozkVwvEkr/WorwC+0zPdZIFf8WddLbhNO+PSS96/pcvSGK28van/OhhatcOVbwfg4yH/\n",
       "mNis3rm4CZfWGt4c8P8t/wKMgrGHZa/FagAAAABJRU5ErkJggg==\n",
       "\" style=\"display:inline;vertical-align:middle;\" /></a><br>(see <a class=\"ProveItLink\" href=\"../../../__pv_it/theorems/75f412d29092636b6e1c7962c33b19bd61f226290/dependencies.ipynb\">dependencies</a>)<br>"
      ],
      "text/plain": [
       "<IPython.core.display.HTML object>"
      ]
     },
     "metadata": {},
     "output_type": "display_data"
    }
   ],
   "source": [
    "%proving extended_range_from1_len"
   ]
  },
  {
   "cell_type": "code",
   "execution_count": null,
   "metadata": {},
   "outputs": [],
   "source": []
  }
 ],
 "metadata": {
  "kernelspec": {
   "display_name": "Python 3",
   "language": "python",
   "name": "python3"
  }
 },
 "nbformat": 4,
 "nbformat_minor": 0
}