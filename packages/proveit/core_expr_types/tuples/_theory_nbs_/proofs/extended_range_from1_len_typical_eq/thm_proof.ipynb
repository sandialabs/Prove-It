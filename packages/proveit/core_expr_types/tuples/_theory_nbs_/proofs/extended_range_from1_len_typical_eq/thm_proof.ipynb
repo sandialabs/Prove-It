{
 "cells": [
  {
   "cell_type": "markdown",
   "metadata": {},
   "source": [
    "Proof of <a class=\"ProveItLink\" href=\"../../../../../_theory_nbs_/theory.ipynb\">proveit</a>.<a class=\"ProveItLink\" href=\"../../../../_theory_nbs_/theory.ipynb\">core_expr_types</a>.<a class=\"ProveItLink\" href=\"../../theory.ipynb\">tuples</a>.<a class=\"ProveItLink\" href=\"../../theorems.ipynb#extended_range_from1_len_typical_eq\">extended_range_from1_len_typical_eq</a> theorem\n",
    "========"
   ]
  },
  {
   "cell_type": "code",
   "execution_count": 1,
   "metadata": {},
   "outputs": [],
   "source": [
    "import proveit\n",
    "theory = proveit.Theory() # the theorem's theory"
   ]
  },
  {
   "cell_type": "code",
   "execution_count": 2,
   "metadata": {},
   "outputs": [
    {
     "data": {
      "text/html": [
       "With these <a href=\"allowed_presumptions.txt\">allowed</a>/<a href=\"disallowed_presumptions.txt\">disallowed</a> theorem/theory presumptions (e.g., to avoid circular dependencies), we begin our proof of<br><strong id=\"extended_range_from1_len_typical_eq\">extended_range_from1_len_typical_eq:</strong> <a class=\"ProveItLink\" href=\"../../../__pv_it/theorems/90ab609bd7731cc068b829ecfecc5a4e2b0668ac0/expr.ipynb\"><img src=\"data:image/png;base64,iVBORw0KGgoAAAANSUhEUgAAAjUAAAAWBAMAAADKnHAaAAAAMFBMVEX///8AAAAAAAAAAAAAAAAA\n",
       "AAAAAAAAAAAAAAAAAAAAAAAAAAAAAAAAAAAAAAAAAAAv3aB7AAAAD3RSTlMAq1RmmUTNIjK7EInv\n",
       "3XZ/CtNrAAAACXBIWXMAAA7EAAAOxAGVKw4bAAAGOUlEQVRYw+1Y32scVRQ+2R/Z3ZnsZqUFrUS7\n",
       "QVuCNho1rRSkRhL7gxAJ9EkMdTUP0r64PkbadH22NVUJIXkIo0hBC+kmMA8q0aVQkNjatDQSxaXb\n",
       "RjEKxr60KXlovffcnztz75A/wFO6OTP3O99373dn7twZAEv8swwRkSL/MErayRJvMuJD6Eh2E0/J\n",
       "TBGhChFdMZ2WvSRJrla2UviRArfAHaR/cwV1jufJuhGPcWRz3b9l5Dli7pevC2yWPBxUjkv6mJAB\n",
       "5unREyZvbC0kYhXuzdN42P+NyE97ACs6MvGtx/CpvqNlyHVF91uiIdfTyEO977J7Q0vSv4pLgErZ\n",
       "gpM3huj2imBcQW9epUfvmLyxtZA4C8wbp0iP3EcusNzZ+i4RafY05OypAsOPgHsH4Fi0NxIN2Uoj\n",
       "D41jdm9IyWf7N/gZJmUJTq6H6jaT9DEhA/yAGn3G5I2thUQv9yaBU9myY0rk/xLyuD4rF173GP5h\n",
       "gEsA3dHeSDSNeHB2u+3e0JKc8IZJWaJXyw+LRHSbSfqYkAFSq9yCyRtbC4kq96YFj95Et1uECCxo\n",
       "d/GGwF/xYHsJWrwoaxQaYyHQjMVmb6q6N0zKElUtf0b3BuUWBOMCHWCcTHezcS22tZB7tsi92YmH\n",
       "8/i7U4oMK6S7KPCPAWwvQ3PkgqPQGMOBZiw2eoMl0hsmBdauW7wZFpI+JnSAl2u1H83PKUsLuX0q\n",
       "3Jt+evTc5a0gchSZlcB429Uejidxg1TlI6zR0DO9Oo+z9uiHc7zY6A0KSG+YFFi7PtNr9GZWSPqY\n",
       "0AEeBJgye8NanPDlSScQvWEze1/NMorsUcjWupxwSBNcvBh13Sh0ZUjnScDN+gAvRm8SNYy8GAkK\n",
       "aN6k79skJHnYmz1C0seEDvA9SFENp68r6A1rcdlDP3Xdh5f4rGcL3Jtr2HIPT16TIrsUy8mywJNf\n",
       "Uh2rRnkj0enCfp3nRXjZ28KLjdcNCmjeZK2XpyQPe7NLSPqY0AFmPBxmZnc5KMlbSHy0bRzaXS/B\n",
       "V9KWQe7NRbyFb+PJi1JkTLE8K/EAh+iE3o7yRqId+EnnKQOOBouN3qCA5s0hq4Qkh4Fa7VKtdhUa\n",
       "uj0mGMdwgLE6LritXkiSt5BL+CDdBdZ7XDB5w1ZQzZshxTKvvInTuUxGXjcKHdto5MHRJKub9Cae\n",
       "j/KGkYevmyEh6WOCAyzuo5PfNkdPrx34vaQkaUvyJt8uduwYdcF0T2XygXuqU3XlY4kn2+ZUCWKL\n",
       "Ud4odHPe03mS6/AVsGLjehO4p1DKek8x8rA3naLrPiY4wDncb+7FbXlpW3NBeUNbZlo9BzeAHe7n\n",
       "b3CqTJ17M41TwRakaSmCVJ6ab8SnK5DzIE6pnHCXg+jzgxXF44w3VYEcY7HxuqEl6A1So5RFRJKH\n",
       "vdkruu5jggM8jvb34cUI02lNkra83wlJXKU7oOcvsQ/Jc2/wkXeSLUqYf1/iT3PnLi7TdyT+RF/f\n",
       "AH/Yni/ydpqoIx09lupSPLF7X1STBV5s9Aaf7u46Z0Qpi4gkb/BGdrtfMPazATbhIvwpQ63rktgy\n",
       "DfGjk5OfEG/OiZ1gepF7c1qtoJg/dOUtIrtED2ueWqYp/saDB6RvWVqVpS+F12nSI36C6KYXQPE4\n",
       "r9WffB54sdEbLGm7u4VRo5RFRJLr3qhuLwnGJRDPIRI/sH5VU4FvFM5GOV1h101S+rzMvclS817h\n",
       "d7J4zqXY7paONpGXeBYn8Pep8HbVgNZ4tGLzO4MUUNQWkWXTvljIMUkfE+WNQ27Wc3DcLSYC3sSK\n",
       "PWxvuBvgpvbWh6XklSyWfzvwasheQOm63S4Wr+7GN71K+G3BgFY8erHZGymgqM0iDW+7hxt2zF1C\n",
       "0sdEeZMmz8dThcQf3/0dvG4eL8EIuSTSP5egSaAzJV46AdkpsdWdkJ8IaMyQ/7+cVXg2N7iqO+Gv\n",
       "Xya04tGLzd4IAUVtEZHIUIxISR8T5Q3OesHy3c/5enK88YvHGV76JcTFQ5/kuke0a/sOKLw26ly4\n",
       "Yya04tGLzd4IAUVtEZHIUExISR8T6U2mnVwaSX37Nx/5vXgUcri8pLTZ4XmuZMRj/Lm5z5ajRh5W\n",
       "vBoEr+oCmyUPB5Xjkqs0yf0mvHHX8An+f+jxH/CvCPPkMs8vAAAAAElFTkSuQmCC\n",
       "\" style=\"display:inline;vertical-align:middle;\" /></a><br>(see <a class=\"ProveItLink\" href=\"../../../__pv_it/theorems/24946ea309d8d6e21b713e9bced01f2a65e186f50/dependencies.ipynb\">dependencies</a>)<br>"
      ],
      "text/plain": [
       "<IPython.core.display.HTML object>"
      ]
     },
     "metadata": {},
     "output_type": "display_data"
    }
   ],
   "source": [
    "%proving extended_range_from1_len_typical_eq"
   ]
  },
  {
   "cell_type": "code",
   "execution_count": null,
   "metadata": {},
   "outputs": [],
   "source": []
  }
 ],
 "metadata": {
  "kernelspec": {
   "display_name": "Python 3",
   "language": "python",
   "name": "python3"
  }
 },
 "nbformat": 4,
 "nbformat_minor": 0
}