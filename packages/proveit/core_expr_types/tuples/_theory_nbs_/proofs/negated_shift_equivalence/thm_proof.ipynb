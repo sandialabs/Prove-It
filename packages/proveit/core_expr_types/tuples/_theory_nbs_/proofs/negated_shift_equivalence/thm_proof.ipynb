{
 "cells": [
  {
   "cell_type": "markdown",
   "metadata": {},
   "source": [
    "Proof of <a class=\"ProveItLink\" href=\"../../../../../_theory_nbs_/theory.ipynb\">proveit</a>.<a class=\"ProveItLink\" href=\"../../../../_theory_nbs_/theory.ipynb\">core_expr_types</a>.<a class=\"ProveItLink\" href=\"../../theory.ipynb\">tuples</a>.<a class=\"ProveItLink\" href=\"../../theorems.ipynb#negated_shift_equivalence\">negated_shift_equivalence</a> theorem\n",
    "========"
   ]
  },
  {
   "cell_type": "code",
   "execution_count": 1,
   "metadata": {},
   "outputs": [],
   "source": [
    "import proveit\n",
    "theory = proveit.Theory() # the theorem's theory"
   ]
  },
  {
   "cell_type": "code",
   "execution_count": 2,
   "metadata": {},
   "outputs": [
    {
     "data": {
      "text/html": [
       "With these <a href=\"allowed_presumptions.txt\">allowed</a>/<a href=\"disallowed_presumptions.txt\">disallowed</a> theorem/theory presumptions (e.g., to avoid circular dependencies), we begin our proof of<br><strong id=\"negated_shift_equivalence\">negated_shift_equivalence:</strong> <a class=\"ProveItLink\" href=\"../../../__pv_it/theorems/d6c0fed2eba654fb582fce42ec2461b2ba4807f30/expr.ipynb\"><img src=\"data:image/png;base64,iVBORw0KGgoAAAANSUhEUgAABC0AAAAZBAMAAADnBsmQAAAAMFBMVEX///8AAAAAAAAAAAAAAAAA\n",
       "AAAAAAAAAAAAAAAAAAAAAAAAAAAAAAAAAAAAAAAAAAAv3aB7AAAAD3RSTlMAq1RmmUTNIjK7EInv\n",
       "3XZ/CtNrAAAACXBIWXMAAA7EAAAOxAGVKw4bAAAKp0lEQVRo3u1bbYxUVxl+d+bOzsydj92mTdNG\n",
       "XGdTCxtbYJS2SqN0DG1BCXVS/CGU0sE1aWxCvGhighE66g/TBNylpCGsBu9Wg1Lq7kKtWix1hDTV\n",
       "auuWUIttN5m1a1BJcaNSzJo0nu/vc2dj+LEaTnJ27pn3fZ7znjnPfc+55wKAWd47FUFC6WC+Uv63\n",
       "S3nqNMDbUxXb0kgGNhb6yLKsqm3tC1E8Ao/m3w/zjvzmZMbsfAbQGTHvmBNGLMaxAtV09f9PF39k\n",
       "VW1Dpu24NSpugi3z74d5b/Gbkzpyh2UNoDNivjEnjViMg+miF1/foE18F/5IVX26sBALqqQmaAUI\n",
       "fh6zdrkGb6k+1HITqjMGOvc68q4m9yB5ITdCvB0INQTUUfidSSfXW25iVF2IPbGBkDPeIeZ1x4EG\n",
       "cuJfHrQYB9PFXdjwoDbxQR19dEc+XViIBVUOsQpwdHeFXZcmoDtWfIglxJnvDR08evcc+vtQcg+S\n",
       "F8oN6v2QMwy1o+6ak8sOSwzAQoTXfCE2ELIkx1y47iTQQNKzPjSvTBdfw4vWsDbxOZwRdnjXEQux\n",
       "oMpqVgFObozFNaTVX5lYAtctVsa6uCW5B42Xet/iDEPtqEek8A2qmx2WGECPnfT/FisIjadDzMUb\n",
       "R4AGEjR8aF6ZLrD+ChV9A4Flc8yrCwuxoEqLVcjMiTYuLyprNLEUwaeLYpzUgcFLvG1Ey+joAeGx\n",
       "TPN70Unc0hCaLgRC50mOmXLhQEptH5pXpgu89ew2NpYrEvaXDRuxoLYXDVqRdCd5m5RBJasSy2Kv\n",
       "LroTF2uDl3hbCDUE0tGz4NbFoIuYoJ8Fty4GnTzJMZ8AHsjDTR+aV/488tLU1G8MXRSnpt6c8D+P\n",
       "mIiFVIIJWiG96JUaa4/htHxU5m5qWYcW3JmqSxeF3oQOFF4Ym2beFkINYR3+Yivc9El9RrY/t8sV\n",
       "lhiAROi6OGroIvuec+0OMX/wpWuABXKHF80r18VagBFj4oMm5GO/LkzEQiry7u1p8/bEZnRxm/Sh\n",
       "FnTfFTItly7Sic/ikhdqxSr1poj1U7i8Im9f0RGE/0gtOaXNSOYF+G7sCIsPQEHourjNmNnNUX6u\n",
       "U8zvitx0vRfNK9fFdsj2GhOPvtiecH5BESF9YGladyz9WILSYaSby8reOionrgYR/EBtt2273rFw\n",
       "KFVo5RkTXecqd6OLm6UztZwG+HrQcOki1UqKTfBCOcJ7Q+xtIdQQTmPKS/fmHtRm5MkqrHeFxQeg\n",
       "IHRd3KzPbHgKgskOMWfpwykO5GUvmleui3xcwM+l4Z1VeXA1Ak+rvIu+/YkfK7qgiAKdi7Oofoxc\n",
       "hu8jX+RpVkQetzIzKd9DQLn5RmDWyJ55Gj7aK0hoQcjnbK2Nzip2yayIES2BdVoBlvN2SH6MIelM\n",
       "Lc8DxEXcZ7iN3OdNoYvcbJIuBC8iXh5TbwuhhvA8ju8UlTFKKb+lKeVT9CF5yEWMK0ccIsGdlboY\n",
       "0nmCWfwYnhxzapYHkrvkRfPKdZFqk01k/tam1MUyue381vWPwWtw/K+KLhjC/BXYTo7qYhT9bGoa\n",
       "yl1AsrxPBd3HyPsLcRBLEqIwc7HMTGh7PcvOHDRdnBDtFJ7szeYuDE/X8tiVLzKtzns42sd65m0h\n",
       "1BBwR6XPrTX2nb+G8KIrLD4ABaHni806T3EYxusdYqY7WhxIueVF8yrOwRuryOoWKwfd3Wl+8wY4\n",
       "umpuSVU9B6cIJQOyQzVFF3cBPR6Tmp00zmRQg5Df0K4VFBLSad15bBNMeO3iXEeuI3tFu7sX9btU\n",
       "+u4VWXVr6FxHJpN0sVdZKN5g3hSh7C/UEHBH45UHmtqMhO/SI6alLmJcFYSui6X6zI63yV4yMeZ8\n",
       "Lw8k3xv70LwKXRzDv2lq0TFl4guLETx86nzEjl2DQN1fEERmmgxvBv8AK7PnceNVRReogxI3C12I\n",
       "Uw8MRg1CPnDjLqILRkJ+G4AtIiUcWfVTdppSqku7wiwdcO9tWvlKiq/H60hQK3G01IdaDqL2xYJz\n",
       "3zksfdUSg84L2YvMO20e86khHMSPAfF4RTs5CP8OXY0lNCyLGFcFoetipaGLClyLtlskAvtZgY6i\n",
       "2OaB9FQnfGhehS6+SqZgpTrx2V+iPz+KhqKQDvjDA5ouMGKMJJiA5Pa+Lz6JNoLhrNRFFn39ZW4W\n",
       "ukjxDQYGp2qUfKDwOFlfMElwAJV9CBm25/jIXsNr4vvJIEDYFWbFQX1qJHNGr4eyVZrMxgmGWY7i\n",
       "5fRLZsa9xPMS9g3f4SDRUnnpHS8eLDWeXq0juBbGm/qMHISltRoNyyLGVUGI8otIZGXBk2+nzgQ0\n",
       "Ake4dMQP13kgPZvaPjSvQhddJF/dqU48XEe+2Q0Zsn6E7QlNFxjxFZLPnijgqX65kpPLP9FFBk35\n",
       "Rm4Wusjw2wqDM8OUfABqfwFBQspGyD7O82JQy7UIl3ISpTErDngfM0kr32vh664VLJmVXld2YXtQ\n",
       "vdo4v+ha9M7VLC8R3zP4osb/TMU6L3QNsyxWMhc2NQTc0aNQvkfP4KPnv9nXZDnWJMZVQfBy1e+2\n",
       "VnlWlk8UfT/b/mcWAeaR4Z4RI6Y7WhxIep0Xzavxnn2fpgu6TZmG9OcPHHgUCoU4jE3zQXFekP3n\n",
       "WmX5J7pIIcX3U/Mj+B6PiC5yw7x1EDco+QAcwdtYRkJKP0ml1LVYLyOuR0C5U3RmxYE/H+Ea9Mo2\n",
       "pic6+wBIS6npW453gvDVt/WxwUvy806BUMtZb0faSSMNyyI+m/DMOek879wpePRCRvFxsAKx0bwa\n",
       "uviVqYvwEux7Ikfm+t5vQMHURThHeumJ8Kp0P/7nIqVNUhdIAWSqeiLnOoLBqRolH4DMMmAkbJ1A\n",
       "yPEfMtfxKH97TJeJV2Npl8yKg/IKqL+7or1Qom/JcIfcor2ycrzzsg98C6DxdlXuiLUXdcabKE9H\n",
       "2hsrGpZBnPgWTLzu22DHXLDd8Uv73s/aL+k2OF82rrZ0Ec5Z+eKF3MXb6cHmRA3uN82pRi1Ene6G\n",
       "I9DV3lNAHz1la9+JzKouym0Jxo0RdhYxzUnkvnIx3+kWo6ENMVwA1NlsW9olM3fgO76I1D8cUtrA\n",
       "Xg+HmEBY9vvuyGHhq5cxFZ2Phiqnmbfj7bIawn7/LO9wEYug/Qh3zGP2vhONojTSmMeIxTh0XeRa\n",
       "li4+/aHzVdiBskL6qr5ntlrppC/KncRTuruSj7o+gj6CPym62E8HNy26/sm/23K4CIwbmDz3+wi6\n",
       "OIn8aUbP8UeX1cuewnSos3vqyk8nmLkDpx4mddUapc1/EiJcYTnse6qLjMNZ9VBV4Q1m6v5pVEM4\n",
       "7NfFfhexCNqPcMdsSxmPIj0TzWPEYhy6LmSO0Y+Gw2cOPGaeg8scQM7cWf7jz415fmqFz5oGNexh\n",
       "o6GQV5ynVOpkp3T7oOXAyi5W1TaUHTdgtu3+lc7N703MLul9zm9O6sgdljWAzoj5xpw0YjEOTRf5\n",
       "/qZbF673I6Js6v5MCzJ055GJNV0EKP412KyWNd5GJvY7MrZNqt1kDq78I/XLVTRdFC7Af6GLajAT\n",
       "Q5olHNB0AccR6fdntOlO130NiWbhGBtr/D5EfaQ0mYnDlXL5daGUbcn/QWRbp/8/kpUnbbHr8M3V\n",
       "8Bwt+pr2F/GV+bw8pTx1CuDtN6v/AWrseCd0w1gYAAAAAElFTkSuQmCC\n",
       "\" style=\"display:inline;vertical-align:middle;\" /></a><br>(see <a class=\"ProveItLink\" href=\"../../../__pv_it/theorems/3380c6144d1eb296bfa2dbfafe23e63d43fe33890/dependencies.ipynb\">dependencies</a>)<br>"
      ],
      "text/plain": [
       "<IPython.core.display.HTML object>"
      ]
     },
     "metadata": {},
     "output_type": "display_data"
    }
   ],
   "source": [
    "%proving negated_shift_equivalence"
   ]
  },
  {
   "cell_type": "code",
   "execution_count": null,
   "metadata": {},
   "outputs": [],
   "source": []
  }
 ],
 "metadata": {
  "kernelspec": {
   "display_name": "Python 3",
   "language": "python",
   "name": "python3"
  }
 },
 "nbformat": 4,
 "nbformat_minor": 0
}