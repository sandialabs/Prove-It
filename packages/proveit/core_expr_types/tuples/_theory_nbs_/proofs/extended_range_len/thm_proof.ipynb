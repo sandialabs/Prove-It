{
 "cells": [
  {
   "cell_type": "markdown",
   "metadata": {},
   "source": [
    "Proof of <a class=\"ProveItLink\" href=\"../../../../../_theory_nbs_/theory.ipynb\">proveit</a>.<a class=\"ProveItLink\" href=\"../../../../_theory_nbs_/theory.ipynb\">core_expr_types</a>.<a class=\"ProveItLink\" href=\"../../theory.ipynb\">tuples</a>.<a class=\"ProveItLink\" href=\"../../theorems.ipynb#extended_range_len\">extended_range_len</a> theorem\n",
    "========"
   ]
  },
  {
   "cell_type": "code",
   "execution_count": 1,
   "metadata": {},
   "outputs": [],
   "source": [
    "import proveit\n",
    "theory = proveit.Theory() # the theorem's theory"
   ]
  },
  {
   "cell_type": "code",
   "execution_count": 2,
   "metadata": {},
   "outputs": [
    {
     "data": {
      "text/html": [
       "With these <a href=\"allowed_presumptions.txt\">allowed</a>/<a href=\"disallowed_presumptions.txt\">disallowed</a> theorem/theory presumptions (e.g., to avoid circular dependencies), we begin our proof of<br><strong id=\"extended_range_len\">extended_range_len:</strong> <a class=\"ProveItLink\" href=\"../../../__pv_it/theorems/bcb7dbd341c11e73d035dc265f116982ab398adb0/expr.ipynb\"><img src=\"data:image/png;base64,iVBORw0KGgoAAAANSUhEUgAAAssAAAAZBAMAAAA1T37lAAAAMFBMVEX///8AAAAAAAAAAAAAAAAA\n",
       "AAAAAAAAAAAAAAAAAAAAAAAAAAAAAAAAAAAAAAAAAAAv3aB7AAAAD3RSTlMAq1RmmUTNIjK7EInv\n",
       "3XZ/CtNrAAAACXBIWXMAAA7EAAAOxAGVKw4bAAAIGklEQVRo3u2ae4hc1RnAv3ntzNyZHQfjH7UE\n",
       "mWBMQjU6ak0RSjKalzQkLPhP44Y4KiIWilMUirWN2/4XjNlVCevmj3ATRBsDyWRpClq0Q0rxGdlI\n",
       "fEUHJrqYKiQEQRP2D9Pzfd85557XrEspq6hf7tx753yPc+5vvnteG4CwpLrvwY/y/5Ez3Vo/1cC3\n",
       "27K8+EfSMgpbboGtmXOxX1ly9rxb/3NYikhRM/XvKOaPoTSE14qRB3y/NWBd6ZMtW+daGUquF/Q+\n",
       "MufaPMGIFFVgrmLBlSHMfTTzIem2xHw1fd3worqfhoqVGabGlsJJcGx9yf4j5sqE+W74xMVZD2Om\n",
       "Nm2PHeOG/f2hdU8DRfyEMa/FwvtCmPto5kOeBcYcNfFb6SdH1f2HAL8x7GyNKXvXzYBtG5DDO2pc\n",
       "mcDUhAGHHHt7mLlNnzqlg227vxiDfw5RRPwIzH/mwgDmPpr5kNUSc5YSqnzVbn0P8HPDztbQi6ru\n",
       "KzOObUCObo65MpKMk5Ds7WHOzvqK3C5nEC0odygifepEu1QLYe6jmQ/pSMxl+nYnpVlZoTWSztZQ\n",
       "d9MzMZfjWfvOGVUZy+uOnrw9zOVZW36tNJqB1HmO+DphxlFwIDgE9tHMR9fclJiX0NeX6LxEtczI\n",
       "JlvjYx6YNfNKU6oylntcBvUQ5iVzwZyagtQFjngPkzzW7b4RnmmENfMg2bbEvAG/XX/sMuD7aFq0\n",
       "t1TVdo7Gx2zY+pJZeLwhK4ODp7Cr1t3v2Z8+Nim9PcwbyMAJfHC1jRl763Mc8TBjvg1gdxhzWDMP\n",
       "gmlEmDm/vla5VsqJFzzTTAxtjY/ZtPXlkp7O2UZZnFfonxlO9TZKb8Kc7ZJUVc5n4V92qPYWD/No\n",
       "jyOuYMy/g3w1jJk1Ec/GR7h+dV4q7cT1OTBnnEuVA0sv+IDCqwAVwEPGtIftmsT8No3aF6hQ3P8l\n",
       "Kx483UnGc1vjYzZsA/LoiKqs0rpEnK9Ril/AqniB9PayGdt0Gr6wZ4+1dR7m48ARr2HMxZjnTmvq\n",
       "LmbWlLjh7+OpCPKcGWIPvL6sSMmCknrSaEUAovIaHAHxyjZUTMifOAK/lL93eUhi/jeRO0eF4j4u\n",
       "i9CFc0lHbGsw6T46JpOOMBu2AblOVxbBdWK4G1WKESBq5O1hxjbFaYwe/ZZyfAT930LVxm73zW73\n",
       "OOciztFG+YOY0z0a54o3jbiYpcYQjXmv9NjLQzZPGpMC4gc7z2iVESIxGqYDY+68fBcsKsXZOISZ\n",
       "Ryq6Rxi5jjOGaY2fzblZs/klXZkgJD5bEhVRy3X6YYbslDNoz7jZfD3IiFvkYru5kjqq2F9ssyaE\n",
       "ea30WGtM5M0CoPn28sAKwTASM0ZxiGjZ23C92WuUgp1Gsapf1rsi8UTJEzqaQKcxNRvmJ3RlvLpZ\n",
       "nkz1zsPz0tvrm98OrEZgoBrbmMXS8vcccbnEPIkk0gsnsW3T29YbmFGTO0Wv+nTNwjwlPcR1q6h8\n",
       "EkAXsIPGPOn87NLr4K00KRdHkReksOyqbQpzsScx76F0Y3LiPvpSWGQwNEN1NIEhMLG1Oi4jZaky\n",
       "yH8pTjfjV4Er2pXqQFt6e9lMbXp0yC48NNS2MT8G8DlHvFli/iP9SFTH6dTY3QZm1BykNM/y7FJh\n",
       "zjfZQ1yjnniexQC6gB005sVOK9kIGmL6mW7gUYSIjJeV9g2rzqAqMR82HukwdpYPygnYoWZAY2Eu\n",
       "nQfDNvrKvZFo5bQtc05N1YQ+feGZTq4mvT3M1KZVTuFovm5hzp9Ys2aKI26QmFPUKa/BU73YGzEw\n",
       "o+YP9Co9X2qYmHNj7CGu+X0i3GYAXcAOGvNmp0FsFMV/o6s4inKBvAwan6mBe0pifjwZqeh+gbAc\n",
       "RMXgyYDGxJxa+NUC0/YE3jTUzUljAMXKIIXtfQe/dmOINvUW3wDS28NMbbrc3Z6/0e6bBy9evNjk\n",
       "iO9YG6FPcc/Z8jZC9xhrL4U5XWUPvOJLt12FwII9kJ2YeG3iKca83WmQNMLpZ2EMjyJk7p+YeFJg\n",
       "PqArfV9iHsQf/RbZcpkAf6Lzz8DXWNns2lpCJdmqroy6nzwvCmPb28NMtb31DatAmdNT/DEwv0rn\n",
       "HWrPWj9xNDOS8FeYC2PsgddDf1U9AxewQ99OQ3rB+aTTKLQ5m3PXGps2hDkjLKp32zs7vN5qg6+x\n",
       "to5sW0ewZNFATVWWqq2K1Z5QyfH2MIvaLs3MfMPWUbLLhJ8EczQDUTvf+Ts0HMzpZiNqI393CIyw\n",
       "KnFdIqbGZ+GALhAOJmZUiQDypL0KYrJU6eFRlGvNmwBO6SlES+43j8PgbrWSG1dbjNhckX2uJvDn\n",
       "C23rDIFY8sGzurLRGk4fHuZls+Pt7zePF74YnNuO2sPyk2AWj104CpuGz8ZuNl/REgpJQGMeZ1B4\n",
       "3XsaLztqqkA4SMyPPPAyqwqvwI4WnrQRVKoEEw/RFJH/hXdbkNKVjknM+yEzrfqx/eoXAF4+uhpf\n",
       "EltnDx5PK9fryrLTQ/rH6jnePub9sGnt3DYNxuUnwYwvXrrfH6nSandBYx6Wr+qwogI1s0Bms1Yp\n",
       "SYywr99Ph4gWvTCxy27gNqhQX5U3MpHvT4eyNrykD9oGZBuzbwW9/zPn2vxfsyWjaszFReKp7uiH\n",
       "+Y6BX3dszNkWeYgr8DkXmwWg+h5W6Y5TG92LndB6OorwvReNuXQWp3P9MNez07GNGV4kD3GV3WoG\n",
       "zIJESKWr00abfkX7Iri58UPC7O/QBf+fRvKn9shcUMX+CktJ+M8XkTxFEPjD/fdOznxU/y/4vUcO\n",
       "hFT6UwAAAABJRU5ErkJggg==\n",
       "\" style=\"display:inline;vertical-align:middle;\" /></a><br>(see <a class=\"ProveItLink\" href=\"../../../__pv_it/theorems/c84bdee7cb9d67ca8f5cec3a029397bf1db9c93b0/dependencies.ipynb\">dependencies</a>)<br>"
      ],
      "text/plain": [
       "<IPython.core.display.HTML object>"
      ]
     },
     "metadata": {},
     "output_type": "display_data"
    }
   ],
   "source": [
    "%proving extended_range_len"
   ]
  },
  {
   "cell_type": "code",
   "execution_count": null,
   "metadata": {},
   "outputs": [],
   "source": []
  }
 ],
 "metadata": {
  "kernelspec": {
   "display_name": "Python 3",
   "language": "python",
   "name": "python3"
  }
 },
 "nbformat": 4,
 "nbformat_minor": 0
}