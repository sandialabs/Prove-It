{
 "cells": [
  {
   "cell_type": "markdown",
   "metadata": {},
   "source": [
    "Proof of <a class=\"ProveItLink\" href=\"../../../../../_theory_nbs_/theory.ipynb\">proveit</a>.<a class=\"ProveItLink\" href=\"../../../../_theory_nbs_/theory.ipynb\">core_expr_types</a>.<a class=\"ProveItLink\" href=\"../../theory.ipynb\">tuples</a>.<a class=\"ProveItLink\" href=\"../../theorems.ipynb#range_from1_len_is_nat\">range_from1_len_is_nat</a> theorem\n",
    "========"
   ]
  },
  {
   "cell_type": "code",
   "execution_count": 1,
   "metadata": {},
   "outputs": [],
   "source": [
    "import proveit\n",
    "theory = proveit.Theory() # the theorem's theory"
   ]
  },
  {
   "cell_type": "code",
   "execution_count": 2,
   "metadata": {},
   "outputs": [
    {
     "data": {
      "text/html": [
       "With these <a href=\"allowed_presumptions.txt\">allowed</a>/<a href=\"disallowed_presumptions.txt\">disallowed</a> theorem/theory presumptions (e.g., to avoid circular dependencies), we begin our proof of<br><strong id=\"range_from1_len_is_nat\">range_from1_len_is_nat:</strong> <a class=\"ProveItLink\" href=\"../../../__pv_it/theorems/7d57dd0a8f5945d8292cad2d9189a5ba14dac7d10/expr.ipynb\"><img src=\"data:image/png;base64,iVBORw0KGgoAAAANSUhEUgAAAXIAAAAWBAMAAAAvGArCAAAAMFBMVEX///8AAAAAAAAAAAAAAAAA\n",
       "AAAAAAAAAAAAAAAAAAAAAAAAAAAAAAAAAAAAAAAAAAAv3aB7AAAAD3RSTlMAq1RmmUTNIjK7EInv\n",
       "3XZ/CtNrAAAACXBIWXMAAA7EAAAOxAGVKw4bAAAE7ElEQVRIx82XXWgcVRTHz37O7szOZIWCFaLd\n",
       "IC1RG43aFgpSVrrWShDiiyANurYP0r50RBBW2nR9FNqmKiGkaBl9KARJsgnsg0qxFALa2iaWRquw\n",
       "ZNsKWqHal4rkwXrvOWfunezMDnn0hszee///OfvbM/drALqWO9cjOg3xh8UNdLosRfpD7phi+JfY\n",
       "24xucH5pRnXeBGtYfjol3cf1TDvSj+X19ZHf9ONwrLUI5srkIbAWF1BsQlH2PRpNHtaSDSZ/AptD\n",
       "X/n1Ex7AraAz/bVHfqNysA7OYDyycoNTxji3opKXL70CMEtiE16QXW9Fk4e1s0DkZlW2rI0XqG5u\n",
       "OCy+OesFnHPHS+SvgXUP4FA8uXKD3cA4FKuDPPGTNQgFEpvwvhw4p6LJw9puJk9jDgubT/v1v0Sw\n",
       "VDngvPCaR/4HAb4H2BZPrtyyyDgUq5P8MZFHm8Qm8lulaPKwdp7JC9h6AxODdUkOF7Uxs+r7Fz3Y\n",
       "5ELBiwPXbiwX/VhMfrvVwmeceKf9riSXYhNSImPZLjM0pCWrTL4Fm+fwukWRH9BOa8n3PwywqQ7Z\n",
       "2IGu3VgO+LGI/NU//Jy7G52GTaKQLrdal7qtLZ1ausHkQ7L19OUN4NeRfE4ZU70/lNkvyoq4qxgD\n",
       "HnDP7OY4c4rcUHMk4eZh3CZRSHsBxGg13Shy0nSRmUNyyu6/KkNEvkM7e9q+HyAnfKlqXM61uzHC\n",
       "cXYo8qyryXPl6WkShfQ2GCIfFi2gxrUmPFdU5KSBWeFnbZeY/Cqa/8HOq4p8q2Y5Vvf94ipiJM/H\n",
       "kSt3rrSH42zV5HqGuvBM8hMShZT3aIUGOPnQOPRZXtpT5Kzlt9epqzDM5As4Lu9i54IiH9MsTyk/\n",
       "wEsy73fjyJXbhCscZ0yRH2+JcorJE14viUJKtvlHpffKfaddtvRoYa3HXxjWktO8CpCPaJZzmjwl\n",
       "H1smNufanVzlOCOKfCqYc7M4TaKUqrtE4Bu8bfVvHg2QowbJ3nmIGi35YsdoGdAsHyq/2GINF5JL\n",
       "ceTanS16FGdAkdtBcjiZJ1FK82LuzvR4Jj6QfuvzfQHyeZzXO9X222byM5gjmhtnFDn66PlcUf5c\n",
       "AxwPUjK6GWbudM8ONyjOTkXuqPNQXgxa5wMSpXREpO69AcjgLOyH8u0A+RFMa0Wtu0UmxzXrGM0P\n",
       "rH/j8vpo/o2T957yH61UXub1cbbKuqzoVtA9ZgxSnCG9nu9XS5t8hHtIlFKijolLHZyc/EiQf5EN\n",
       "kKMGH/u35paY/ISeV1h/YPFN8Y3Lstny9OSV/pX79wWeLe+yfxGXa7JS9i+d7sSzQHGWNfln4/Rk\n",
       "coe/48PNsj4YmKv1XINynnkydMr9VtWuM7ktf9HzPPjr/rmZdkL5Nemi8lM5itfHQ6Mlyi3jUCxG\n",
       "2Pdpa812IMWm2tbLtOdsB7jRSW6uqnu2Mbk48ySL+/UBiRYnHG9ygvdlS8qvjmqiNML7foRbxqFY\n",
       "zS5n4sFAzh9xoSZyl/tRLJmd5Dm9ouVdPp9PgH3az8MEf9bwOiP+fz6r/ZQlnP5m+N0jyl1TsbqQ\n",
       "1zok88vJ8ch3osDpVSxARD4FqV/9XXlqzS+QdLte1P4AkxOGiHJPqFhdyCe6S7Q98LDL99V15yg4\n",
       "2DIC6eO6E/XWOEofv63vbW7Uj8Oxfo90SfHOwjrCWX/C/7H8Bw65bsUd9u7VAAAAAElFTkSuQmCC\n",
       "\" style=\"display:inline;vertical-align:middle;\" /></a><br>(see <a class=\"ProveItLink\" href=\"../../../__pv_it/theorems/cece7cc29008d91726e360d89bb4d5b84ba1b3000/dependencies.ipynb\">dependencies</a>)<br>"
      ],
      "text/plain": [
       "<IPython.core.display.HTML object>"
      ]
     },
     "metadata": {},
     "output_type": "display_data"
    },
    {
     "name": "stdout",
     "output_type": "stream",
     "text": [
      "range_from1_len_is_nat may now be readily provable (assuming required theorems are usable).  Simply execute \"%qed\".\n"
     ]
    }
   ],
   "source": [
    "%proving range_from1_len_is_nat"
   ]
  },
  {
   "cell_type": "code",
   "execution_count": null,
   "metadata": {},
   "outputs": [],
   "source": []
  }
 ],
 "metadata": {
  "kernelspec": {
   "display_name": "Python 3",
   "language": "python",
   "name": "python3"
  }
 },
 "nbformat": 4,
 "nbformat_minor": 0
}