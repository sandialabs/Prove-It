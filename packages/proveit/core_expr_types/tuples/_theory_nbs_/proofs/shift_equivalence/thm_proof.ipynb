{
 "cells": [
  {
   "cell_type": "markdown",
   "metadata": {},
   "source": [
    "Proof of <a class=\"ProveItLink\" href=\"../../../../../_theory_nbs_/theory.ipynb\">proveit</a>.<a class=\"ProveItLink\" href=\"../../../../_theory_nbs_/theory.ipynb\">core_expr_types</a>.<a class=\"ProveItLink\" href=\"../../theory.ipynb\">tuples</a>.<a class=\"ProveItLink\" href=\"../../theorems.ipynb#shift_equivalence\">shift_equivalence</a> theorem\n",
    "========"
   ]
  },
  {
   "cell_type": "code",
   "execution_count": 1,
   "metadata": {},
   "outputs": [],
   "source": [
    "import proveit\n",
    "theory = proveit.Theory() # the theorem's theory"
   ]
  },
  {
   "cell_type": "code",
   "execution_count": 2,
   "metadata": {},
   "outputs": [
    {
     "data": {
      "text/html": [
       "With these <a href=\"allowed_presumptions.txt\">allowed</a>/<a href=\"disallowed_presumptions.txt\">disallowed</a> theorem/theory presumptions (e.g., to avoid circular dependencies), we begin our proof of<br><strong id=\"shift_equivalence\">shift_equivalence:</strong> <a class=\"ProveItLink\" href=\"../../../__pv_it/theorems/1eb3f7380a5a4d7c73863f06cf05b5ba55458b4e0/expr.ipynb\"><img src=\"data:image/png;base64,iVBORw0KGgoAAAANSUhEUgAABC0AAAAZBAMAAADnBsmQAAAAMFBMVEX///8AAAAAAAAAAAAAAAAA\n",
       "AAAAAAAAAAAAAAAAAAAAAAAAAAAAAAAAAAAAAAAAAAAv3aB7AAAAD3RSTlMAq1RmmUTNIjK7EInv\n",
       "3XZ/CtNrAAAACXBIWXMAAA7EAAAOxAGVKw4bAAAKxElEQVRo3u1bfYxcVRU/O/NmZ+bNxw6BEIi1\n",
       "TkXajaXLKBQp0XZMCwUquqH+YUspU5eESEJ81WhSA2XVRNOkdVca0uxK6isasBS72wIq1eLapsGv\n",
       "4tIUUOwkU1hTpaFuqqXNmhDvud9fb7pF/1hNT3Jm3333nt89997fve+881oAW97fjKCNnKf6ovxv\n",
       "S7l5BODtZtWtabQ3bMz0kUVc9TJESS2nf9uWrPqNzoMStcfw3MxekEVy8+mPWE7bdUTTtf87XpSr\n",
       "TPUywNqElj5ZO72O3qC/mZbfwnXBJ9TaB/zGBVkk3L2gEQsVvKjg9VXGwnfgn1QtiReOxYyS+VwB\n",
       "gp/H/HoCysZoVuwDWWNK7nWw2rrCcFOj2HwY3gSvxXyzo52H/Vhv+oGJho+NO623xJaFH8cj0pH9\n",
       "53x8qSkVvLgZK+4zFj7oJX86oyReOBYzScIGUyJ7Nlf59Z8B7tfaFK44AKpGlx23TIHZ1iMUF56g\n",
       "E9qAzthnwVzQOrrXj0WtXWDUzrqNedkXY8vCj+OKciQ96au/X1POi6/j42nQWPgcnggbEp8jjsVM\n",
       "kqDGlMiBVbG8huu1NsWrh0HV0HNYXJenrLYeobiwlJfSdZ8FA9c6Ou10paxdYNQueeivFBd/jzWL\n",
       "lYk4rihHgobHmvovlPMCmVaomgEE0mZvIi8ci5kkRa5kAaZAXpO/2oa6J9Zr6EOzpfOi2HbzMVwY\n",
       "E+Xf+iyKVkfcSO9KWbvAY9IYpUfnhbToScLxiHKk1PJZo/9COS8w9Oy0Asvr2sSXDddiJslcroS6\n",
       "4yCvicPaNt0Peo3Li862AQbDTcn56fNZzLU6Kowl8KLPB0zBfwF+XvR5edHXdlaUIw/3+6zRf6Hi\n",
       "feRws/k7ixfFZvPYaPL7iG0xk2QFV0jPernOrsMJMspCRTb5yOHLQKtxeaG1dYXjBjg/u49jVOCz\n",
       "WGF2BJ2V1LOx2dX6FzZyaweYgq+D+bf7eLHH4oWN4xHNkSWWdfZ9J1rMf6GCF7cCDFsLH/RDPk7m\n",
       "hW0xk6RP7p2uFi8XMmSzprXz713Qa1xepNu+izNcekLUi+T3BmERNKlU1PaVHcFI7YMP1oyuMi/C\n",
       "92Nm7QCjhv9IzTvo48UN5sq6OB5Rjlxp8WJNlJ9i/gsVvFgP2Yq18OTG+jb5C2YRsheWfifkYn/m\n",
       "kSmIzOqyFltH5XbjIJZP6uWWW5+AfISrODHJ9Tcw1kqNqSTQOdBrXF5obT3CcEuYJokwNrzGZ3HE\n",
       "7Aiu/Ur1W5HR1dM1uAOYtQOMmjp7Z+4+Hy+uMVfWxfGkvZQjL5nW4UEIxpn/QgUv8nEB30vDZTWV\n",
       "uBqG53TcWd+77VmNF8yiwAb4R6KfoJfhB+iNPDsVSYuFvJrKD4ihCpqJMS9kjz4HH69IECbE8gWH\n",
       "axyf1ytkFIl8iCtZClGOiwQ5p97PUpNGDe7zY4f5Pqe8yE22m2SGWyTjC+FaslADPotDZkfwqRvZ\n",
       "OFRXn2EvyQM+YNTgICP+Hc3m75vNlxUvBsy7Lo5nm0lHcmdN62ASSqPMf6GCF6kWDSLzC/sVL3pU\n",
       "2PmdKx+F12DfWxovuIUWzvZqwRbjxQ4ybRVtVXOnCC3v0o3u4uBzCnEQKxDKAPtxnRk1IkWnXiEr\n",
       "XuyXZVy9zJgV38ka97zIjJ0/hmPe4k5d47M4ZHX06rJ+K+78DYRnuLUDjFq691Z/3LnGvOviJIXK\n",
       "6Eh5zLQuDsJIL/NfqMyDNxbTp1usJbo702KiAvSulptX0/PgzEI7AbVgi/PiZmDpMXknNW5lX0iB\n",
       "gl/Vqhc0ENppry/xwvG99RJZPUe+K8vrQta9cKdi1HieI+PtJpnhluiLOu7UBcJCjy+OmB2FpzPn\n",
       "TF6E77IU0wIfMOpI9Z5+Ly8WGHc9OK4oR/KV2MAcadFIFP0XKnmxFyc9NWuvtvCFucQ8fOZkxBOs\n",
       "QaDHF9Qic5y6NYHzsyh7EguvaLwgHZREteSFzHqgMSlQ8O6rN1JecBA6NwBr5ZGwa/FPeTblFa2e\n",
       "IVMX0E2JvJ2reJKS6/AMwU9jIo6xoNgyajxxp2prSKzh5tEiizt1kbDQZbvZUXoqPF02eXEaOhrz\n",
       "mLUDjLokHqm2fLxYZPLCxTFypNaIu2qjJi+qcDkJ1tB/oZIXD9IlWKQvfPZX5OfH0UAUsgF/rNvg\n",
       "BVrspgdMQF+1Z3/paRJUhZOKF1ly+6uiWvIiJcIANE7VGXh34XH6FECQYIjIVmIZtkQiKHwNn4kf\n",
       "Aoov6zkycDcV8h7xzkbXjF7nJr/MX/1GqM3DvUaNwYvCWdDahu/oF/RH4NI3U7pTVwgLI1dudtTR\n",
       "CM9ZFNwOC+p1Zu0Ao14OI/2jFi9+GWmnZo8fx3TXHnHXapNr+VbqaKBejlElLzroebVMX3i4gt7Z\n",
       "zLO2YWvU4AVafI2eXE8VcEFequZUqoeyIEOWfJWolrzIiG2FxplBBt4N9b+BBKGyCrKPi7M8qOfG\n",
       "KJaWSpLIwN1UyFu4ilgLry8l/ZRwakqvq/hO1uiL1THrnUv1tkfxos4voBkr3Bz61zHIT7GS/WDb\n",
       "YnaUr8LEW2ZXO05+e3Y/PwNtYNRHoPxp88yHS/6wrqZOzR4/jnL3qGfEaYtV4eyfrf8r81+o9Z19\n",
       "q8ELFqYch/QXhoYegUIhDmO7ervMlGX/SUMkvmkYCwjj57Dq24YeGxqqUV7kBmET7vgIjXODDLwb\n",
       "dmEYy0GozKFHKWta7C0TrE3GpmTIOazfRt1EZP6I6WcKQUWWUR6ivx/Gn0+CUeMmIbW2ZlgfK1z6\n",
       "OoTnc3ZcWmhCwT0d2V1lx73AxruWmZvMjiffTbkPkqQRm/nOhzS1ePFrmxfhWdj6VI6uxZ3fhILN\n",
       "i3CK9tIV4VPpbvyHIaXVihe4Tpt4tec5gsapOgPvhkwPcBD+nCCWIz/iTUei/E0xfY4QfFXPkIWb\n",
       "Chk/IKHO6awaH5TYZy78hF35vPupyfyYJdvaYT0oXLgeOqpLxIe5pU5WtO7vyO6KfV+zgO3vcCtd\n",
       "C//dghsTJY3Y/G62VFOTF+GUc168mDtzE0tsjtbhbrs61aiHpNPNsAs6WlsK5E9X2Yk78YjXeFFu\n",
       "KWMsDPNcxHEBouLKuSLSLUYDK2M4pfBBQ5ZuSmTYxvRPT2hl8f03JK1Kww2jxpMFkm0t2Q0abj4a\n",
       "qOJbxwbwfl3eNo2OQHy1toCZtrVIxrHizmmPWKjFi9yYw4vPfvRkDTaQUyF9yezn1znHyewodwCX\n",
       "dHM1H3XcSP4Ef9F4sY0N7ri4k/3Jv1pquMQYCwieezWCDgGipmbHCbG/lvY8g3ASHzRk6aaayJ1M\n",
       "Fy/XymKikVjpicio8bzVRVZyVs+6StxwMJjo5XPtWcad0+hIrpQFzLStRTKOKdMfsaSjyQt1xpgf\n",
       "B8Lnhx618+DqWUlz7vz8q+rZCkw0YTKqT92x/dppgFfdNJbuxaDRQiKDi5xtMdXLACd8u6Tln6UT\n",
       "0/sSs5FNfOS3cF3wSTlKAN54QRYJdy9oxEJNXuTn9Pt54fs+ImV15+fGIMMij0xs8CIgni7HavXF\n",
       "hNzQgYxCxoyYltvfXCKzhUBONLgo71kMXhROwXvgRS2YiCHNDxwweAH7COgPJ4zlTvcmFZQ1d8cK\n",
       "rBdaLdoiX5T/Hi80eaD9fxB54Hz/fySrMm2xL/nmKySkFpOK7ZEvyn8g5eZBgLeP1f4NTLeIW4Fl\n",
       "GiUAAAAASUVORK5CYII=\n",
       "\" style=\"display:inline;vertical-align:middle;\" /></a><br>(see <a class=\"ProveItLink\" href=\"../../../__pv_it/theorems/be1d87d335bb15cf876e3239b0231d479c4ec6420/dependencies.ipynb\">dependencies</a>)<br>"
      ],
      "text/plain": [
       "<IPython.core.display.HTML object>"
      ]
     },
     "metadata": {},
     "output_type": "display_data"
    }
   ],
   "source": [
    "%proving shift_equivalence"
   ]
  },
  {
   "cell_type": "code",
   "execution_count": null,
   "metadata": {},
   "outputs": [],
   "source": []
  }
 ],
 "metadata": {
  "kernelspec": {
   "display_name": "Python 3",
   "language": "python",
   "name": "python3"
  }
 },
 "nbformat": 4,
 "nbformat_minor": 0
}