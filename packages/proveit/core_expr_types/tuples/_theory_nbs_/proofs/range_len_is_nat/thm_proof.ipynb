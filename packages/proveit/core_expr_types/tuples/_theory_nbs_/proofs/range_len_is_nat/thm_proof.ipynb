{
 "cells": [
  {
   "cell_type": "markdown",
   "metadata": {},
   "source": [
    "Proof of <a class=\"ProveItLink\" href=\"../../../../../_theory_nbs_/theory.ipynb\">proveit</a>.<a class=\"ProveItLink\" href=\"../../../../_theory_nbs_/theory.ipynb\">core_expr_types</a>.<a class=\"ProveItLink\" href=\"../../theory.ipynb\">tuples</a>.<a class=\"ProveItLink\" href=\"../../theorems.ipynb#range_len_is_nat\">range_len_is_nat</a> theorem\n",
    "========"
   ]
  },
  {
   "cell_type": "code",
   "execution_count": 1,
   "metadata": {},
   "outputs": [],
   "source": [
    "import proveit\n",
    "theory = proveit.Theory() # the theorem's theory"
   ]
  },
  {
   "cell_type": "code",
   "execution_count": 2,
   "metadata": {},
   "outputs": [
    {
     "data": {
      "text/html": [
       "With these <a href=\"allowed_presumptions.txt\">allowed</a>/<a href=\"disallowed_presumptions.txt\">disallowed</a> theorem/theory presumptions (e.g., to avoid circular dependencies), we begin our proof of<br><strong id=\"range_len_is_nat\">range_len_is_nat:</strong> <a class=\"ProveItLink\" href=\"../../../__pv_it/theorems/48da807b161dcd552a455a5609fa3190f33868160/expr.ipynb\"><img src=\"data:image/png;base64,iVBORw0KGgoAAAANSUhEUgAAAc8AAAAXBAMAAACfTNnuAAAAMFBMVEX///8AAAAAAAAAAAAAAAAA\n",
       "AAAAAAAAAAAAAAAAAAAAAAAAAAAAAAAAAAAAAAAAAAAv3aB7AAAAD3RSTlMAq1RmmUTNIjK7EInv\n",
       "3XZ/CtNrAAAACXBIWXMAAA7EAAAOxAGVKw4bAAAGCUlEQVRYw91YbWgcZRCe7G3uYy93PWuhKlWu\n",
       "aAPaxla0gf6J0aZWGiyHBTVaNG2Qgn96IghV255FhGBiTovGC1g2ItVYml6i/ROtnpGCVluvxYJW\n",
       "Di5tsFUxhkL9CKU4M+/H7t5tzv64P/oe+/Lezuw8+8zMzju7APUeafzJhR6hyhMVkqs97QOmtEO1\n",
       "rktD/Uc8CYfVQo+zPD/uo37W30pj+WrBlLa4IpryyA/+/aYNn1xOEXKCTtxcP6LLQRJdznPnBE5G\n",
       "HqdpiK9y6Zkf21ISb68w0Y+Sc/8Cw3YFRq/N2ud8iMLrjQmwZhl5Hf3fVjeeVrckSgsEvm4S5/20\n",
       "/BHgKZfiWF9SSmJ5r4VF25Fo0K4JI+wKjJ+ENl9RSfTG9IcABUZ+kTI7Wzei5ipJ1OTwNS0bwnmt\n",
       "FN7lUpzssl0SGpvU4neUBNprwgi7pkoR0uYrKokuzAbTUGRkckQ0WTeiTSCJNvHfJzgwBSV0wtQ4\n",
       "B24JjdvdROFYTRhht0n/PyYPRfTnUomjvbgt1E1EETmAXgnW7xFtVkSb+e8RmoxuKQw6D2m06JFU\n",
       "E+2pCXMEHAyQ2j0O0Yd+kecXN2R+JaKEfLxU+rp+RDsVUVrAHccXUYbhQ2hNI1Q0odQCS062S8no\n",
       "Wl+iY7VQhF3GsGYSUntMEw3pYrAYspFUUSDfDzCkLbzHc1g8buKUgZtQRlcK947ktwX0KKIiIldU\n",
       "IKONmKUBJ4ALykqS3+xLtLWmP69oMBO+kNqtmmgw7RB9yTpTFMhPQ4h8YnVQXn3K4hgTiwjd1Xh8\n",
       "rzNOkbNatSdgZ2cq8Llcn1JET7Fr/2JzWAL2mAhlOI/k7oyUhJP3+RJdUYunsMsY5+Gi1F7hEAWH\n",
       "aCB5a0EgR2yWRlZnKqwJolaiCoaS7tXfsKBg4oWncikjMQEbpOyoInqUs2GWawbat5vQReFZbWMl\n",
       "SIkFJ2j1QKn0Tal00iE6UIuosMsYtjEntQc00b4SjqwgCjc0FASyUWYHLKjauARRM1UFwyZagHen\n",
       "DnSP0WZC3peoKDlEFFai/cZCRTUhiTHnG9HNNbfRogYDsyi1N2uiI66IwrBVlMjdbeSjJePUpHH4\n",
       "Ru91EY1RIVHbT+OUh+i4aHaMPQ+X876pG0mo1IUtFioW9R28BkoSTNh+RFtqERV2BQb3Gy3yEERj\n",
       "bqLhclYij3ONWkNpWmbvtje7iD6LPtO7wCjHXRO9RfjOyEwsU0T3KaL7OGL8SEdwti5FsSTQlYLW\n",
       "CVCSQ6m8H1G6H6hujyxw7AqM3SmpvUYTjesy+RYeF7IS+QV2Twc94+8Qccv+yEW0C+CDqGpTnmvx\n",
       "RLRLdDNGxoyr3mpMER3TN8G1PTz7jNxn/uBqcgmUZCC0qoLoZ2m1dZDuoW7XQkzSrsC4W200nc4+\n",
       "ulWZogWVQUKGBq5Ce5WH9dYgiC4Vu0BvDkcafWjmcl/l9gqivdCKZ5NGxsqrmPcrov1OyQmT+65F\n",
       "OjG6jZLtVBOSNNxZ8Yxe8+0W1D0NUjdGXv4O5CJ2xrErMK6n6bQ8JNHhN0QuvHw5KzrimFNpvqTp\n",
       "0Pu8/tNFtJcKldqXrLmMN3VfERGFB1Wy0M50WG9R94iTanfaydp0D2bCK/FElENe1LrecRs4dhnj\n",
       "hNTmK1QL+NjbJXfTJZAlBbDy0GzCAfRzwVuMoE+X9e52N9EZ3JuozUlBPOFqrw/LhZHY6m3muQeK\n",
       "UpoEk9Vt/qbKlwOhWzEwB7VdxFgYmJPafEU05V+9nJcHJBeehOHzgG9P8q4F0QhGc0q746a0JPr8\n",
       "duwtBiFET3v/NvlaS2NQvY8OQmxIejUiPwSwh0bx+GE/eCTVYwco3YpihKmj7cJg+CKX9B3qinmI\n",
       "ul7PKBIGr5Kq9xZEqSvo8dlHCRQXB3I5r+0RRXQEAtNpR1GzoiRvWw8eSfUYnKfJjNO9KruIsXGd\n",
       "0h6sQdTxZ2QppvujTMx+ss/dMMD64COF6s6I08v3I1AZLqiFHrt4Pu+jvmuebyRX95VHYpC2uCKe\n",
       "8dVzkKMzOHEgA7Bxg4do9N3ped72V8P/Y6gvavN+1LD/S2z+AVsilazChsm4AAAAAElFTkSuQmCC\n",
       "\" style=\"display:inline;vertical-align:middle;\" /></a><br>(see <a class=\"ProveItLink\" href=\"../../../__pv_it/theorems/24e498813f9aa1d49e36919e78a2644be0cba6950/dependencies.ipynb\">dependencies</a>)<br>"
      ],
      "text/plain": [
       "<IPython.core.display.HTML object>"
      ]
     },
     "metadata": {},
     "output_type": "display_data"
    },
    {
     "name": "stdout",
     "output_type": "stream",
     "text": [
      "range_len_is_nat may now be readily provable (assuming required theorems are usable).  Simply execute \"%qed\".\n"
     ]
    }
   ],
   "source": [
    "%proving range_len_is_nat"
   ]
  },
  {
   "cell_type": "code",
   "execution_count": null,
   "metadata": {},
   "outputs": [],
   "source": []
  }
 ],
 "metadata": {
  "kernelspec": {
   "display_name": "Python 3",
   "language": "python",
   "name": "python3"
  }
 },
 "nbformat": 4,
 "nbformat_minor": 0
}