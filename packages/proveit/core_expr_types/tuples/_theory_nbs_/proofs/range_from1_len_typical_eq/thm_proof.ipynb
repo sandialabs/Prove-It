{
 "cells": [
  {
   "cell_type": "markdown",
   "metadata": {},
   "source": [
    "Proof of <a class=\"ProveItLink\" href=\"../../../../../_theory_nbs_/theory.ipynb\">proveit</a>.<a class=\"ProveItLink\" href=\"../../../../_theory_nbs_/theory.ipynb\">core_expr_types</a>.<a class=\"ProveItLink\" href=\"../../theory.ipynb\">tuples</a>.<a class=\"ProveItLink\" href=\"../../theorems.ipynb#range_from1_len_typical_eq\">range_from1_len_typical_eq</a> theorem\n",
    "========"
   ]
  },
  {
   "cell_type": "code",
   "execution_count": 1,
   "metadata": {},
   "outputs": [],
   "source": [
    "import proveit\n",
    "theory = proveit.Theory() # the theorem's theory"
   ]
  },
  {
   "cell_type": "code",
   "execution_count": 2,
   "metadata": {},
   "outputs": [
    {
     "data": {
      "text/html": [
       "With these <a href=\"allowed_presumptions.txt\">allowed</a>/<a href=\"disallowed_presumptions.txt\">disallowed</a> theorem/theory presumptions (e.g., to avoid circular dependencies), we begin our proof of<br><strong id=\"range_from1_len_typical_eq\">range_from1_len_typical_eq:</strong> <a class=\"ProveItLink\" href=\"../../../__pv_it/theorems/4ee1636269563b5a7d15684d9f87efdd4d8324700/expr.ipynb\"><img src=\"data:image/png;base64,iVBORw0KGgoAAAANSUhEUgAAAdsAAAAWBAMAAAB6VSvZAAAAMFBMVEX///8AAAAAAAAAAAAAAAAA\n",
       "AAAAAAAAAAAAAAAAAAAAAAAAAAAAAAAAAAAAAAAAAAAv3aB7AAAAD3RSTlMAq1RmmUTNIjK7EInv\n",
       "3XZ/CtNrAAAACXBIWXMAAA7EAAAOxAGVKw4bAAAFoElEQVRYw91YXWgcVRQ++5Od3Z3sZMWCCtFu\n",
       "kJbQNtpiWihI2ZI1VoKwr2Koa/Mg7YsjCBJp0vVZa6JSYvpQRh8KRUg3gX1QCQ2FgkTbpiUVlYZu\n",
       "q2D0QfPSH/LQeO859965s3Nn2GdvyOyZOd/55nz3b84MQGRz1urhixb7w+ZqF13hAhM+hI5pljq4\n",
       "5rCYO8Uw8jgrQpBqdtVw8Z647JS0fiG7q2XEYzvaWXL3FA8FNNsBTZ20kyaSaqLBUi/ys+fNcsO+\n",
       "ZEPI3Y2nI99J+7QH8HsgHH0Mb1WO18HZG59V+nuP0OCUkYcCzHI5LPubuPL+8JcxE7Qskmpidiz1\n",
       "V/jZO2a5Yd95Mej5GiKevkx2ftu7LN2Mp0ejj+HHwb4PcCJe7vwnJUJDoUE8J6LlMthXw5tisk7D\n",
       "pWokrSTjccxgqX9EMUa5Yd+QkJvGzu/ecVba/zLWVFlDko/hnwL4CWAwXu7lNzxC84Y8g9FyOcwR\n",
       "chMudC/FMVNSTTRY6ly9XTLLDfuWhNxuPHsLew5tLheWNST5GP66B9tZTl7sCtuU7Ng4DwaY5S5p\n",
       "crs3IfEwtieXZdwyTz3FxiYTsVWFfMmakLsTTxfxuFPJHdOgixL/LMD2OmRiF6+9ItHYOA8GGOUi\n",
       "TI3uCiQexcodk3FjmPrVtbUfo3bmdl+6IeSO8LN9V7eBtFHuvI8kH8ezdodFFeMmXO+NskDPDQke\n",
       "DDDKRVIply/QjSheRYZx85j6EQC2yvKuSS75/Ma7HOXSOD72uw/lHtCgjyWe7aLMTtXiRqCnJdGN\n",
       "UcGDASg3vYatKNNGUk3uVCuKVpFh3AFM/T2wGJNNMdZqE14uKrnkg3xFTMVCSci9iWCaRTeV3D3a\n",
       "4/2RxLMj40jG7ien6gKdLQ0LHgwwji6SanJvRLH6ZBi3B1PPebKe+PSZM9Bne2lPyRW+3H5RjnRX\n",
       "hdwruNZoFl1Rcqe0Vb4h8QCv8VtvxMl9UbLn4ZrgwQCjXCT15aano1h9MoybwtSTLbEbpY/woqJV\n",
       "tv3JLHw9clsNyqUNRpM72r75YGYpPkG6Ykd3UbEnNwVP11KHcvdF0yoyjBul1GuHGPldURT175jU\n",
       "5KIPkr0LYJrMuWLbZB7w70Q+nHe7wXIhuRIn9zPFnil6xIMBxrUbnMysxPogilaRYdwApb7ACpi5\n",
       "Hi+Pk6Lf/vpNTe4CFjcHlYiWkHsOR4PW+zklF3E0E8jH8dkGOB6kpnF2hRqhryn2i9UG8WCAcXQ5\n",
       "DOUi3ccAf4NnJlZkGHeQUj/J+u3DAejC7agfyn9pck9in1bUFC0Kubi7n6I1j/YlVzyS8g/A93H8\n",
       "RKXyunh6XKyJA4KUAdZ9xT5l7SUeDDDKxUeU/ZAIrNVKZQVZFKdPrMgwboRST9RxiFLHZ2c/Z3K/\n",
       "yWhy0QdfqL1uRcg97W8waD9x/W3GfIufrnm+j+PvbG2xWxd4VIHX9QX+iF2VBqLFnsfRiZeAeDDA\n",
       "KBdhvQ+eRLrC1tZWjVgUpyJWZBh3y3/Hy2/Wsw0a3a4XQi+AP6jb/SIuF3g3HBYLWr5FWlQbodzD\n",
       "Ck9tAo+7wrsJR6eLATTyTETXzIp0V4DFQKySaqKhFCVrZSoo9gPcbZeb959xg+Iyq7eTxWN6Ea7e\n",
       "G/hOp3yD2rsFf+6Haxn235cpBdDIMxQtV5E2dBYDsZ9UEw1f0XMujLNRyv7sQqJdbtZ/iORccXkG\n",
       "CmdloTQjfsepcuMDLn05V72n8buE6x+O/vU8BNDjKsAsV5L6dHNgJPaTaqIR+GCR/3b2jPFrhvZi\n",
       "x7ZvunwBUn/IuvNCQDbPQfny07oQJ5wVRx96FQLoGRVglitJnQCLgdhPqomGXY17TRGfdnJ92iee\n",
       "SXDwzNLuIGzH9EFqkn7+7OxTy6TioYD1dsC6TtpJE0mtc8O5Xe0gwv4H/jftP9Z1tb4CNPthAAAA\n",
       "AElFTkSuQmCC\n",
       "\" style=\"display:inline;vertical-align:middle;\" /></a><br>(see <a class=\"ProveItLink\" href=\"../../../__pv_it/theorems/83c1a4c00413fc10793168e2981e89c6ef99547d0/dependencies.ipynb\">dependencies</a>)<br>"
      ],
      "text/plain": [
       "<IPython.core.display.HTML object>"
      ]
     },
     "metadata": {},
     "output_type": "display_data"
    }
   ],
   "source": [
    "%proving range_from1_len_typical_eq"
   ]
  },
  {
   "cell_type": "code",
   "execution_count": null,
   "metadata": {},
   "outputs": [],
   "source": []
  }
 ],
 "metadata": {
  "kernelspec": {
   "display_name": "Python 3",
   "language": "python",
   "name": "python3"
  }
 },
 "nbformat": 4,
 "nbformat_minor": 0
}