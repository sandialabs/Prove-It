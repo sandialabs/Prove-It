{
 "cells": [
  {
   "cell_type": "markdown",
   "metadata": {},
   "source": [
    "Proof of <a class=\"ProveItLink\" href=\"../../../../../_theory_nbs_/theory.ipynb\">proveit</a>.<a class=\"ProveItLink\" href=\"../../../../_theory_nbs_/theory.ipynb\">core_expr_types</a>.<a class=\"ProveItLink\" href=\"../../theory.ipynb\">tuples</a>.<a class=\"ProveItLink\" href=\"../../theorems.ipynb#tuple_elem_substitution\">tuple_elem_substitution</a> theorem\n",
    "========"
   ]
  },
  {
   "cell_type": "code",
   "execution_count": 1,
   "metadata": {},
   "outputs": [],
   "source": [
    "import proveit\n",
    "theory = proveit.Theory() # the theorem's theory"
   ]
  },
  {
   "cell_type": "code",
   "execution_count": 2,
   "metadata": {},
   "outputs": [
    {
     "data": {
      "text/html": [
       "With these <a href=\"allowed_presumptions.txt\">allowed</a>/<a href=\"disallowed_presumptions.txt\">disallowed</a> theorem/theory presumptions (e.g., to avoid circular dependencies), we begin our proof of<br><strong id=\"tuple_elem_substitution\">tuple_elem_substitution:</strong> <a class=\"ProveItLink\" href=\"../../../__pv_it/theorems/b076253da33113ad795f6acf001a782bf1a486aa0/expr.ipynb\"><img src=\"data:image/png;base64,iVBORw0KGgoAAAANSUhEUgAAAr4AAAAzBAMAAACDGBZpAAAAMFBMVEX///8AAAAAAAAAAAAAAAAA\n",
       "AAAAAAAAAAAAAAAAAAAAAAAAAAAAAAAAAAAAAAAAAAAv3aB7AAAAD3RSTlMAq1RmmUTNIjK7EInv\n",
       "3XZ/CtNrAAAACXBIWXMAAA7EAAAOxAGVKw4bAAAIqUlEQVR42u1ca2wUVRQ+++rMzm63NSQmitY1\n",
       "IBIQ2Gg0lmC7CY+AD2zUX75ofITADxkMiQEVVjHID6DrgwgkwoA/hBbdRVRQYsEHFiHgBkGTanWw\n",
       "JghELAgWSnS9r3nvzM4625RJOD9275z7nTsz39x77rl3zi5AeWlvb4cr8j/EJXG/FM9dJhcczfiC\n",
       "V2Ed/d5QvOgGfvSyufBhPum4KyVWaPQVv4G88Vgc2svhbGuCBV/ye4fxMJEc2suJyLZV2/zIL9dl\n",
       "PB7rsb0tBz020GtbU5vyIb+1xv4itHpt8CmP9jWSrYPY70N+JxkPwymvDZ71aB9Kl3t0vuL3gPEw\n",
       "7tl/DnhtYb9tzSzRd/wmTHSM8tpgrOC1hSftXUe97/itrTce34OnvOHH9U55fufiMlOkHl/TcIxF\n",
       "ILHTd+pAnb3OyxgNvc0+QhvwHb9tGWvneVSM6np1pAs2SI5tUPy79CA3V+inrB+GGRrmxWQ46/iM\n",
       "NDQJGMM9RIxPX/jXd/xeZzo+jO7iSwgXQFDi4q0puA+EXVfZckzx0EmPJkhwiI6MPCq8o4QjP0Jc\n",
       "7th2rf04wui7yDC4xf5q3/Ydv5+bjveirtOH73bVH0xzPyYnTCgsLRSvyDSAS9QOPRD+NLMK4wGR\n",
       "Rg/KTjAa4i1kSNlfbbPoM375v6z8xrOQQzc6jmm+AeE81LVwF+zaYHi1o0bOMjvdmjaOncN5WGLr\n",
       "gwl6CXU39pebS/mM30S/1T/kZGgGlV/k80J9EJLs+aX4x+uV8Jf0VeYrFX5zeORPtOeXohu5U8qJ\n",
       "S/pfiNf7jN/oHpNiPeIiCVcHRXKbaNAKZyHQejOJuwSrPR7VBL9IHqD1F7DDxmo0MiKEX6yuQx0P\n",
       "9fHPwK4Rgm54dqvoSF+04DN+41nrHkpUDh4Jk24k/E0YH5dOk93BHJ6s8AfRqwWC5zYVaP0weJOq\n",
       "UTiwk/CL1Sh4iGWA7y5lr6EPJXkWItoFcX2UX9KNR5Tj1wVqsCVnXoyuRPfbsHP+73SY9qCutfHU\n",
       "qw0Z4NahOb4bT/TY4ohSwACKj8q0fuOHKaqObW+SCL9Eveu2kwALJXZ0RN+QiubOTS/T80LnKb9T\n",
       "8dfscvy6QA16+Cub4yTVQ2J+g2pQtgCeAxhjjfhVQG6zrl5VE/+rqLk0Jzo1Eso+xiGUwwKQp24a\n",
       "XsKtZcvx6wI12DIhabu7gvmNqeH/muV3A+StA1ZbWId19aqa8KuoFy5/RXJqJCCvjDnvMAnnKL94\n",
       "jy2WLMevC9RgS7NlQn+LfT8/Dy0Y3lf9dLHYB4JssVcBsPG4rl5Rcx9fkjX1t8UiODUSFQNojbzQ\n",
       "6XrPUH5D6BnUlJ3fXKAGW/60vA3aoj8wcpGw2sul62V7s3KNqA+4pFxk8cPBnp4D5eOH8qjBlt2W\n",
       "VS8nD3FE7vj+72vGL5oI0YQriM78UtSgSxqcl6U+kh7G73zgUPQVw30h9LPSM458BJPq9fxSlPvF\n",
       "7JyKuydxr1mL8W7F7d7gL3rhJ8ZvVIq16Jb0AKuuWQ03xqSwpOdXj3Ijwyu9HLqgz1qMl4DP+Q3K\n",
       "6sTF4TVHGEfOI+R0zOAfdChXsq/Syzmh43efRe9j/wCtTWhBfYxGzYvz9KXz6JsWG/klKOho2qEo\n",
       "dUUt5tt+SlSi62OYjlivOgV1NlkvQdN1ND2j8cuM9XrsKKwzxBDnlzgkmOjmN/hgLorr6vAdBY6P\n",
       "6RLILY6ObXrEyC9GCT/wyiaWrqjJe2Ibu+VEdwJPVUd5ZVOmtmWFBa7pUGsXNH6x8Yy1SFKqHsdn\n",
       "lvh3qPNLnBJM2HY15vcFNHEtIjtt8V8hEyFrktGQPmHkF6PCaZUvXVGTKaAQFk2FyFaJoJAyAzZb\n",
       "4Fg3Q2mtT+OXGhv0JdcXY70ztOwrT+a9DnXnFH4DGbrZh+aSKRkIzVm79nXEb0eNkV+Mirck6sn2\n",
       "CSs+8JtxztsLyM1ESXUmXE83+Skcz5yR8VPBBAcYCay1rMYvNTbo8frYPL96zy8BrykQ9gkmIFzS\n",
       "708KA5jkxkhB5PO0/0bGW/cnc2J0ovRyt1rcI/QZmuyHN1jCax3E0eCtQ96CwqEf5yvkjJeAHcxk\n",
       "peGTksovNqb+QdXj/R3zYt97fonnFAiHBBNlf4dtbrSmhTw08IU8XUbcDnDMym9cbHtQAkRYBy2K\n",
       "yEd0ADLEH+iriz8/MdiJq2ulRvRZ0wJ5DEdVT0OMQ96DYekH0sHsxTJtbanGLzZWT7hU4bfOfC/x\n",
       "KnRfrykQ9gkmwbOG/tsg8l+g9fSwDCxEPZn/XoSAld/I5PHbARO2IkmL0RZU5Ltghch3IfuHbj2V\n",
       "Co7E1fxMGX1yk5vI40BVC/Cm6mpcwlj8QXX9Y7Jqa2r8MFM2nJDNhmZ3MKoK/NakvdnbJ5jQ11n6\n",
       "9xdBRvUna1db18c6wQOezdzTtaJqv0bVJVU4rQpnVJCi489I+ibAYQs0YJ5PPeeXIHgbO3X1E0wC\n",
       "fWZ+H3bafzDyG6GDNibJSlG1FwpJpmM13WrVpwn9SUgpsaNb1DXhxG9ooETf8ZRfosG9JZiUFPo6\n",
       "S89vyh2/qw4kIUSL84oFpajZr5eYLqTCaVVN8R/9SUgpLG5P6ppw4pc3T/We80sQfBrzPdVPMFki\n",
       "m/kFl/13MEUsF7Abwztv+SUErq69q5xg4rv8ErjXyq+3/BICZyWodoLJ9eA3fme1WPyDp/wSCmcl\n",
       "8JBgUlL8l99Xa4qlvOaXMDjWu04wIRo3CSYh/+WnmgMIz/klBF5Zggmxc5NgUuu//Grz7wO855cQ\n",
       "eEUJJkTjJsHEh78PgGZj3FWd/JIKE0wUTbkEk9fAf/zW5G02V7zkl1SYYKJoyiSYKPtGvuKXN/2+\n",
       "sCr5JZUlmKiaMgkmtUkf8qu9i6NSlfySyhJMEqWfsEV8+ftY8++7OXmIr8c2wSTSWgm/3102/6/x\n",
       "BPhDltE5s739hBv0lf/XqFCEufR7Q/Hif0QuWNNBmagQAAAAAElFTkSuQmCC\n",
       "\" style=\"display:inline;vertical-align:middle;\" /></a><br>(see <a class=\"ProveItLink\" href=\"../../../__pv_it/theorems/c22c6892388ff30f703a261af932b45fada69f9d0/dependencies.ipynb\">dependencies</a>)<br>"
      ],
      "text/plain": [
       "<IPython.core.display.HTML object>"
      ]
     },
     "metadata": {},
     "output_type": "display_data"
    },
    {
     "name": "stdout",
     "output_type": "stream",
     "text": [
      "tuple_elem_substitution may now be readily provable (assuming required theorems are usable).  Simply execute \"%qed\".\n"
     ]
    }
   ],
   "source": [
    "%proving tuple_elem_substitution"
   ]
  },
  {
   "cell_type": "code",
   "execution_count": null,
   "metadata": {},
   "outputs": [],
   "source": []
  }
 ],
 "metadata": {
  "kernelspec": {
   "display_name": "Python 3",
   "language": "python",
   "name": "python3"
  }
 },
 "nbformat": 4,
 "nbformat_minor": 0
}