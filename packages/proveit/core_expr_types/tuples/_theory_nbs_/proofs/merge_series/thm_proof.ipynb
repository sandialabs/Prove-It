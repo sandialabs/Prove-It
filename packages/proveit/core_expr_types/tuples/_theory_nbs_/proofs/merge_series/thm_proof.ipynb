{
 "cells": [
  {
   "cell_type": "markdown",
   "metadata": {},
   "source": [
    "Proof of <a class=\"ProveItLink\" href=\"../../../../../_theory_nbs_/theory.ipynb\">proveit</a>.<a class=\"ProveItLink\" href=\"../../../../_theory_nbs_/theory.ipynb\">core_expr_types</a>.<a class=\"ProveItLink\" href=\"../../theory.ipynb\">tuples</a>.<a class=\"ProveItLink\" href=\"../../theorems.ipynb#merge_series\">merge_series</a> theorem\n",
    "========"
   ]
  },
  {
   "cell_type": "code",
   "execution_count": 1,
   "metadata": {},
   "outputs": [],
   "source": [
    "import proveit\n",
    "theory = proveit.Theory() # the theorem's theory"
   ]
  },
  {
   "cell_type": "code",
   "execution_count": 2,
   "metadata": {},
   "outputs": [
    {
     "data": {
      "text/html": [
       "With these <a href=\"allowed_presumptions.txt\">allowed</a>/<a href=\"disallowed_presumptions.txt\">disallowed</a> theorem/theory presumptions (e.g., to avoid circular dependencies), we begin our proof of<br><strong id=\"merge_series\">merge_series:</strong> <a class=\"ProveItLink\" href=\"../../../__pv_it/theorems/6559c61ed40262ffb620a3f9ceb6c48145e766190/expr.ipynb\"><img src=\"data:image/png;base64,iVBORw0KGgoAAAANSUhEUgAAA7gAAAAzBAMAAABPiLnuAAAAMFBMVEX///8AAAAAAAAAAAAAAAAA\n",
       "AAAAAAAAAAAAAAAAAAAAAAAAAAAAAAAAAAAAAAAAAAAv3aB7AAAAD3RSTlMAq1RmmUTNIjK7EInv\n",
       "3XZ/CtNrAAAACXBIWXMAAA7EAAAOxAGVKw4bAAAMCElEQVR42u1cfYxUVxU/O/Pm683OMComRUkd\n",
       "WloI5WNVtk2jKaNlSxVLNjYxxSVlW9IY8Q/HfzQYuqz+h267awlZl9T20RLaXZRdiDZxSemKMbXF\n",
       "4lCwqSTogChpa1ZCpdA1Ae+5X+/e+94Mu7M36W54Zydv78c55553f+/ee+55dwbABg0NDUFEM4us\n",
       "YfL3a/+9sXvy5zPHlEGP/X/22od2FP7lBh8lTS0zx5b0KZG6OwLXBn1az6bsaC03JrYsAtcmxTv1\n",
       "/Fk7ah9uTCxbiMC1SFv1MRYbsaM23+BkfyIC1yL9Tc/utaV3c2NiS70IXHuz8piev9eW4pWNiSVL\n",
       "EbjWqNmYhsesKfYaEktcjsC1Rv/RMYh12lKcbHDRfSQC1xod17MODuT9Z148VPTLjGyQ3PFP/fRg\n",
       "Tb93irTCi8C1FTW4EjLeSvmbnYpfZmSD5MCZ6gPkf7dEuyy2WA+cRjo+BYuGqxG4lqjJWGNzZIjG\n",
       "y/GJphY49B53uVj2+doT9l2wyvsE+f+2HLUEoFiDq3emEoFry+0xJs/mdjKawSFAxquJPja4aTY9\n",
       "XnvwdsN9IXPChQbd98sRuJaotyUILrmSkdfcDZdFIc6UsXoz87EQt7fBkeu+H4Fry1kuB6dlgI1l\n",
       "19vmwRFeiNm64JL9yxC454TXlTgjH4apr7nwuwhcS/S0ueKRQTrYPh+y0OvBCXBBZClYblAB8W3d\n",
       "nWTlHgFHbqP2zyGl8b4GTfpFBK4lei1kA7PiJ1+DryO4x2C4U2QpuJh1PwB+EbnYlT1jiSIMZUtc\n",
       "yQ+XiU1VI/QKB5d6A7dOH1wremYjueY5hTSBcM947N4ikGn5IuROiSwFF7NwEvglh2Ce9sBdV134\n",
       "ObaN2j5AqAzPYG17gzatamfgtuG/b00fXCt6ZuU296pZIrczzKFaIivoGrokoCHmyeQcsX67E2TH\n",
       "+3jDPl6Vgfsjck31TR9cK3pmI8UumiUy3p+vJsiENqKDG5xqs36yR7J2lqbxBmK4xMBNkscmW5w+\n",
       "uFb0zEaKXwnEEKT7fOgcmXGrIpd66X9VJStpv588Iyf7m8vTGCtzCgzcONmlJS04VFb0zEbKXw6s\n",
       "whooeYM9qEGBe1P4QzJlcPu4t/zG6dNHbXjLNvTMRspOBIq6GlSVfEiLWpxv2KbmTg7u/QC7ZOkL\n",
       "zEegV+6VLwIlnP0CVGuBq+mZEjl+Q2FrWplb5T/51SkKBEfLovoWLQJFxSLRIbIDqqpKZ8Lac+Kc\n",
       "8+woylU4uN+DFM7Q7mqMoh1mdRRMNrnE21X/77BAAlInfwNfLCjgcj0NUMZvyKA9xKVoFVbhGvYe\n",
       "feacSQs830kFSuY6WWePQVRg9WGVN9etdYADisqmCzNvNsmNcXAzXhZvNdPabXAwcHcbpQn09p6c\n",
       "txMWZD3HU8DlehoGd3dIzY6HwC34w5sG4ju4DZMRoKH6DvrRaHcda4iK3eqUEtIB2H7HrAA3VqV+\n",
       "0JzAjMDAbTOLN5Obvh8DFtVSVp2WuZ6GwW0LqSEzntPuM9F9I7rlmycpQDcfRCBp3FxbHWsm/OpM\n",
       "rQ7YDL5Ki9OyPXDFtAyd92AvzMdzAA/Tp37/lxVwMRwqw9lYT/j+genFt3Vp4DI942vOCR9PSfoU\n",
       "VpgRDeXPda1RKxYcLUKOW4VMNBCP+62DkxSg4BIBc49WqWEdV1FRVVRkh/gdcFDZ9mUD3rJ2KD1l\n",
       "FoRyXb84QGXJnartUMHBzSLlVulTWLrdBzdF2GQ4m9Yv5K7+4uxzHRq4qCdfnpfkd60kFe8mrDAj\n",
       "Gjrf1PcoHQwYgdvBAuff51YhEw3Ex0pow+QEKLhEIKYvukQ0YIiiglT7KrAZ3iGyA/AjVeYD+1zt\n",
       "UDpNJ8Lc0BpH10N5Q3ZgRckdlGguCEi30tRqvJHncDi73q99cPFtswxn0/r1kKAvMBdD6R0NXNQT\n",
       "h2eEZ6kkFU8mrDAjGmrJVLWF3ylhc8wqDu4xyrh+kgIUXMKY0MMBJBtqCFdBqn0VJCM6RHYAfqTK\n",
       "YBCDH0pfO8rT+RKb62QThzy/RqcnPNB5Q4jqhTvwst2j3AGJOSUBbhPtnx20m6vKVppaH0Pkky1p\n",
       "fK77af12iH97YOApAu6+pAYu00Mmqa7lbMogyVRgd4STmHTE+pTVscBCq6mz/vYuQ56iBdSqrww8\n",
       "PTDQQgPx6T60wReALV5NAQouEUjr4FLREEO4CqyWKijvJtA6AD9SZeySeYvsUHr2piM8nRvRF/0D\n",
       "PUW/Rot+zP2uBwEHwdxXU70unUz/xbgDEsMjAlxGf6SFL0oA+A3Te5DhbKxfCOkRNnITyzVw2RZ5\n",
       "LEXcjU6R/PEpo1ksDB25tKEeKCe9pJwiiQOF/Uitkg6VmJaFQHqZV1OgxrSMoqYhigqslipoM3JZ\n",
       "ZR2gTcvp9837YSHh5tt2yTTEVQOOrPdADxw/KBJ4SjZeqh+goHodcfwDuQMS4sWBeGgmwB2B2x3Y\n",
       "h/etO1R+OJvUwzgPVrQqkVAJ7tZsp+OOwetEDSYBCLj7UDO/0MK4iKzfUdUcqtTYS1D6pXIUe5ik\n",
       "cqxVykQD8fkq2rBPCkDOf25NAQouESAf1QoiGmqIUFFRVVRkh/gdME61cgp8NZlxb/T8NJAe8ReF\n",
       "CVBrkJar4Kq8IcT0Nsv86yESK4oauMT+9BHYfR7IlJEvKOD2q+FsUo8FW8gASb9VhqYAuM4/D7+b\n",
       "qsDbRA0mKbg9xfSr0FPGCyv8gfgyzS0lBVyid13HuPe4EjHoYQFWbJUxYSAeI679aCYXUME1BWio\n",
       "nhSQj2oFEQ01RKjoB6VNkskXjA7oVwO/b5lLLnM/X1bSWtA4W9FqguBuqgvuy+wp08LRpgQ7+SPB\n",
       "xZEdo6miOOjOwO0wZNFVdn87sDMQfvQ5xuBVVEPpFMikn/oCpFavXt0GmW4FXO56k5Eru22lCJpI\n",
       "JkKDzIaiDCMo4NYSGDSsEKKGIUJFh7pedBgn/0nj2P6gLJhvumTUgM++MZen9+MEfMD3KecfL6k1\n",
       "QXAP1MOW6YW1aMl4gXObEp8BFdzMAnJ736SThvdYj+pkOGU9nO2Ua8SWfeokfwlPgpuQnS9Sn+T5\n",
       "X8UUGLjipP9u6amb8LpGC0DTPGElqoQlPrg1BdYYVghRwxChQlQ7zK7HekDvAKz399erDHeGPwpX\n",
       "RXpkA0ncqbiyVa0mCO6ddUfuVTleHfg95zYlXtPAzZJVBFrYZmXdVzUPclQPZ7fCdcHturVM1FB6\n",
       "8mhRJKluGUNgqL6rjrFRtts4e5eM49JeyHqBsHArU8UE0v8+eD0BlNGtGA01RKoYVRWMig6RHdCq\n",
       "Rad7jY07O/2YusLT6SKeSF7q12/r1mqC4C6thy3TC2/St0YXObchkboKurdcKwRiHtfzrg/u9bbf\n",
       "t5RCYzJuDX69RdcvmbRAkNENNUSvDs1Q7Z5WGHYonaxxF3japSeSexVvB7QaPLr6J3F0lYLbW6/3\n",
       "mF74A1oSm+DchsRHeCg9NneGRGAtGeKMhYHL3CZMUwg2mB6RrAmO3A11t7kVCS7Qrx9tCEo0RV8n\n",
       "sUWJS2HTcqYg0smCp/wKCcDPQKsJgrus7luWgpyWWQxkWVCCreoRuDbopNH9tGvp90doerh9hHc0\n",
       "g/IYaDVBcO8OX/7YSsD00pOvsK2dcxswchcvAtcCGe4y+1bttnaR7k218K3LB9TDuARajQbuK2VQ\n",
       "eOUBdkywC9fLNj+rxKZorW4Q/+pJBK4FMn42IV3x3SZMN31e9NBpz/eIZI0K7sf+/EiLwkuPrMuz\n",
       "6/Q4O9cLT+Blnuh7vf+jn02wSHHjdT09lPQlJU2GK4tKIbhOQavRR67Bq9MSRS8N4x3j3KlK2LIc\n",
       "gWuFvqNnV+J7p0f9gBeIOD8eblggXiOrP1XzoOZ9S16DRhS98RJ8nD5UyO3oXyLd6EXg2qMePWqX\n",
       "KUNuV6dMI22hVzx9/te9oNUEyec1HCriSkm90J++SN3yLVJC0psQgWuP8vrrYrcP4uIMj+u/fmFH\n",
       "cu9ZA1pNkHxeoxUcsPJs0CCsaxPc/SEOXQSuLTJ+2LPLTOfDRmmNo+v5yX3PIFWV3IbEN8AuuCdu\n",
       "8B/TDp4L++gozX9UcGjoHTsKox/Tnjmm7OXu1LPXPvw/C8270gEVJOgAAAAASUVORK5CYII=\n",
       "\" style=\"display:inline;vertical-align:middle;\" /></a><br>(see <a class=\"ProveItLink\" href=\"../../../__pv_it/theorems/ab5dfa24b5b0c4886ce651bd549bc4b6c2378eab0/dependencies.ipynb\">dependencies</a>)<br>"
      ],
      "text/plain": [
       "<IPython.core.display.HTML object>"
      ]
     },
     "metadata": {},
     "output_type": "display_data"
    }
   ],
   "source": [
    "%proving merge_series"
   ]
  },
  {
   "cell_type": "code",
   "execution_count": null,
   "metadata": {},
   "outputs": [],
   "source": []
  }
 ],
 "metadata": {
  "kernelspec": {
   "display_name": "Python 3",
   "language": "python",
   "name": "python3"
  }
 },
 "nbformat": 4,
 "nbformat_minor": 0
}