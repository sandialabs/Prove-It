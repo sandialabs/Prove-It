{
 "cells": [
  {
   "cell_type": "markdown",
   "metadata": {},
   "source": [
    "Proof of <a class=\"ProveItLink\" href=\"../../../../../_theory_nbs_/theory.ipynb\">proveit</a>.<a class=\"ProveItLink\" href=\"../../../../_theory_nbs_/theory.ipynb\">core_expr_types</a>.<a class=\"ProveItLink\" href=\"../../theory.ipynb\">tuples</a>.<a class=\"ProveItLink\" href=\"../../theorems.ipynb#merge\">merge</a> theorem\n",
    "========"
   ]
  },
  {
   "cell_type": "code",
   "execution_count": 1,
   "metadata": {},
   "outputs": [],
   "source": [
    "import proveit\n",
    "theory = proveit.Theory() # the theorem's theory"
   ]
  },
  {
   "cell_type": "code",
   "execution_count": 2,
   "metadata": {},
   "outputs": [
    {
     "data": {
      "text/html": [
       "With these <a href=\"allowed_presumptions.txt\">allowed</a>/<a href=\"disallowed_presumptions.txt\">disallowed</a> theorem/theory presumptions (e.g., to avoid circular dependencies), we begin our proof of<br><strong id=\"merge\">merge:</strong> <a class=\"ProveItLink\" href=\"../../../__pv_it/theorems/99361a95474cb60bed5da3ea5b60b92aab8511c30/expr.ipynb\"><img src=\"data:image/png;base64,iVBORw0KGgoAAAANSUhEUgAAA1QAAAAyBAMAAACpCoe0AAAAMFBMVEX///8AAAAAAAAAAAAAAAAA\n",
       "AAAAAAAAAAAAAAAAAAAAAAAAAAAAAAAAAAAAAAAAAAAv3aB7AAAAD3RSTlMAq1RmmUTNIjK7EInv\n",
       "3XZ/CtNrAAAACXBIWXMAAA7EAAAOxAGVKw4bAAAK+klEQVR42u1cb4wbRxV/Xq//7Z59hlSISqH1\n",
       "USWNaNM7RBI1UskZ8g96bbDaD9A0JE4JiugXDAikoCYx/VApIuWcVlVwVNCmoEJJlXOrgkSg5EjE\n",
       "H1ESrqipoHDglINTASXHJWmCK0XMm5mdnZld7x0f4syHex/2Zve995vnebNv3oyfD8BQytVhgTg5\n",
       "h4w2b9GChwJ63DPYuERLva/p7VqEUiYaKzPPPmvdpWswJ+//YESYl4m105ow2FWr1NtCSW9vjVB6\n",
       "Mxor1Z5Xl7yPKGm/+zhemLbO76O+6SPH2PmCuZ7K/Eq9v41eR4757SkoDMl8yrHIm1goR8SOv83R\n",
       "W4AL+zxVWrCeO4UNhWf/xGM85+nQrM++AZqJYWL6xGr3r3WK3N3O/JCxrsqrE8yp4tV97wm//SeA\n",
       "hyU+4zyLimrgdG74PBmOdHyol3DhH6q0xNqB9wrSC/tLnJfWJ8jhDR1QTYx6VVCfWj3MkLvbaf3G\n",
       "WFfdpc0/Oqn6lhwSbYAVEp9x1kpP7vcb58nHT5ZjO1NxFWmJNavz4MQDHuf1l/R+Cx3NxAii+tTq\n",
       "DQw5xs4dxrrqFW0w6XWbF7TJX2kKMs64pHGH7CqIn5MqriIdsFIdncee9AVicr/UVX2xbzNHRKv/\n",
       "wpG727mtZqinCh31fim9viy1SbSQwjflWNWurvpMbG8qriIdsNxxnedOCLWfQqSr0rErDNNHqzNX\n",
       "OHJ3O9NFU5cqzbARvHzw1A287UyRMXADGcaxyTJ1dG2kq2ITqAAXnHNFRVpipYvWS57MSy5+teyb\n",
       "th1uuzvCVW7c+HJ9tDo5w3vtbqfVMdRVo9pRBZttV/22myJTPCm9RFf916y1JdJVq2J7E7hgw0lV\n",
       "OmCNDb3/kSGF19/2ec4F69aTEa6STQwT00erEw3eK0W3JympbnauGuqqxdr972kCf8VvP2qTMbCC\n",
       "pYlx8iXIljZEuur22I2BwIVpmjzcHsUa/HLpsZqCtLfu86zL92V3RrjKGo/rl+kTq6GvzXuNsfNb\n",
       "hrrq59r9L2gMmPHbHn627EwQHWizrwIOnMbWvZOTv52cfDVw1WhcZwEueDTOjEax7rmTve+B3qDg\n",
       "2SdZFJD6pa6STIwgpk+shtEaR46xc9jMvCJ7IcpVbBmm7UEy/qlxbYHGDy1CuvpWbZl7eWd92BOK\n",
       "tMR6fR11xxY95UBefsfHItOK1Pjc2Qxa/W8fOcbOMTM3wYXLUQEwVxTt7Y5yLsY4GErSRS/KVcvj\n",
       "epNw2Q56eQTLmU3RYCghHRBqY6Vt9ShXxR/dMX20+oDDkZd3Xaugz8wUMKfPxm9TY9t+27nkkjUb\n",
       "12LmGMbJketYpRXlqtUgZJW1GlRcsn5UuLTOSnac2YLCY7GWqg17Y6V2VFrRCKRl8iR9tPqCy5FX\n",
       "x4yJmSe2fY2o00o6jLSdnfkSy3KdtyHgYGo8mhnSXHW85ifiKDtW5Q1xJ+PSEx4mrbMSVeeKq/Ay\n",
       "l4Tae2Csrk0R9zJPxCO6ZFZzfbT60lGOPBITpmeAvle3mOWqsdCZa7AM0/Yi4pA8DuOkF3CyZN4l\n",
       "PqQFonf9bjuRPQNcNo/IrwG/5N/QcOFGvJyJYOVKMPVPhcdTDlR7Agqb1MCbWPz2Im4ilQ66LPtW\n",
       "c320ekWLI5+J2YZdgvX4d6dh26q2viXGpeAjUpvQbjpedIQ45w9RpxV0Ak8Esgp9ADTc00I6xJKQ\n",
       "KM8uarxwv7uDTtSc0wv0fasRORMT5LJX4Wso1jDLVYMlfUqVwSo+pJ6m0nMJjEmCsyLquDY47XXD\n",
       "HbVAwX13siOkNZaChC/BQLoUOtzV+13rd6IHM0nftxqR7Zgsz7lID97dklmuGq7rTw5C/lBVtEFM\n",
       "LwzygpPrtvXYBb6s9vHbIONmZzEdY9IaS0FCHvzxWZ0X3ls3hLRKR2V9bvUuYWcX+g8kiSfThqUV\n",
       "50Nj/hwkp2qiHXxCHAbBcboFBzaa4SEryNoEd9N6Ia2zZCTkwZqNOi+ctNWEtEptWZ9bfTDW64T+\n",
       "C3BqcvIVw1x1PLSqZNp6ezpCb0+Xbdr8Nvq8jyhpv/s4Xpim5/dp9/jI8Xb+EoBstIPape+xJSwk\n",
       "xwPyrUr4qIUnjCX3lo2aUapsXZvjjD7hwQLpNAnwBchgLuKswzXtZ0FW82E6W5yb6RP2kiYr/Clb\n",
       "HNu+B2H3SCVJz+1W+gochgtkXvsh3FUUoIxWyknbd6piPgDcvOCYMP2ZRFTPxfQ/t1Jby/vY9m+p\n",
       "5KrD4imnB/HdOdusWMVjgF/YOEX5Kzou8I0bn4IB17M9UNQd/6TERpBzE0x4wVUxrrLaNKvo14PO\n",
       "XvZnRHLVevGUE6aPeIxprbFpTmpXtB03EbDxKPOWdtmVQIHLstUX+HGZqAJZCIDRARCqa3CoFr9I\n",
       "rlvpTD/6UbyuzvwLxAaauWpCPCWUOkuzfFpBZT36yTa6Ki/vuBGGCNCKqWVL9rgSKDBZZ6oku0rs\n",
       "GY6H19eelWzWYN61lr0lklbAi7QGip5Dtul3CGUaw2764vPEZGcmcFWm6j+lniDvoVVmuapVP7YE\n",
       "XfUVocBhrDLLRZe5zzzog9pNQk+irE3LIYSrLH+xOh/aV/WuZHMrzLvWsreEucAj9FVah754Bk82\n",
       "HO8lfHC6hIkgry2h451q+E+RvrqcPrmfucouoMgDUjEKhUk1UnQHvgzKbwWglIjsD9yy7KpUo+sW\n",
       "uEclmy9fobgFE78buohHi3RgnqTLBpt/WC+QuUi/LrNbgausInu6D1+LGh7/ZxuwirRLVt1poYsG\n",
       "qALnI0y2kfxcs/kEcdWRdABKaQBoYcHHm083m0PUVVnfVYMV/ViB+v/al2xiPQriPmyep5x3RPPX\n",
       "eBn7Pm3jAX6y8WmM8fnNgavIUPKnVLdTx5D1dfZWwX3o5X1CgcNY5WyLvVWpO3xQHgD3YS5TiwyA\n",
       "o/qs7lXJJtZsrIA5ay2vB2VFHYzTAacFS204Qp6Ok2ui/bhL/vQXlLSCPuU72GoZCm2S67MNV6FI\n",
       "9Emq0C92sgQGBQ7xPdRZHzRIK2C/kgEW/DWlXx/aXpVsYv014vaZl4Jas9K4Zk/A4WnYT5K6Irnm\n",
       "aok7yR/775KrDgJ9yp17Uw1PuTLfxAVhJ0CR6JN7roDLdJEeg+0i8TX7eg0SPqh0QnbWd1XmR++0\n",
       "g+PWfFWzs1clm1hEhLhp8xaroIgBY4RFWyVqKM+4/MSrITa02ikqwJFmky8tFqTklQJhiIDz4+ZT\n",
       "oKKxvKzFhzAH+sFnYlxf9/HSg5JN/BIYcV3zChkSfmadGyDzia4yKe+z+/HKhtNTXGXrG46Nyt1m\n",
       "5QHCqAIpNaxsTH9q3D+tUNGSeilpr0o28UtgxE1WjXOVKGJwz5ELfeuTsOluvLIxA8VVcExVT6qZ\n",
       "Gk71wBsURhFIaonXd6e8aLTsrGZnr0o28UtgxI2vtbwutLc9T0H/GyEtgQwLenMJdJWVha9TyWYW\n",
       "1wPEja+1vC5kaMkm3BPlqmtfsllASMRNmfdWvc/Qo8ltlYgAeO1LNnOoTXd45hXdmfrzgry2sepR\n",
       "yWb/UIvhJhumjUjS1B/t6Ib1qGSzf3Ob4dot4yavqT+F039g2qOSzSS6FHHzFeOWBFN/YArDarTq\n",
       "Wckmx91t3IAcMNVTkFYjUI9KNgXuWtPGI9Ux1lVZ7V+M9KRkU+BmjMsq8iVjXQVvqbe9Kdn0cXPG\n",
       "LQwG/+Me/d9hZdp6+1qVbE7DvGstexj/qga7Ch6CBRL0mGeydQv/ulFaU2kBwf8AUaKd9D/FE68A\n",
       "AAAASUVORK5CYII=\n",
       "\" style=\"display:inline;vertical-align:middle;\" /></a><br>(see <a class=\"ProveItLink\" href=\"../../../__pv_it/theorems/20806ea5b71fcadb6a27afdf96f3cc81cfd50fc10/dependencies.ipynb\">dependencies</a>)<br>"
      ],
      "text/plain": [
       "<IPython.core.display.HTML object>"
      ]
     },
     "metadata": {},
     "output_type": "display_data"
    }
   ],
   "source": [
    "%proving merge"
   ]
  },
  {
   "cell_type": "code",
   "execution_count": null,
   "metadata": {},
   "outputs": [],
   "source": []
  }
 ],
 "metadata": {
  "kernelspec": {
   "display_name": "Python 3",
   "language": "python",
   "name": "python3"
  }
 },
 "nbformat": 4,
 "nbformat_minor": 0
}