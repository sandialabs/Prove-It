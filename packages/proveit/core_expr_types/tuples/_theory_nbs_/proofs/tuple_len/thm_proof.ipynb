{
 "cells": [
  {
   "cell_type": "markdown",
   "metadata": {},
   "source": [
    "Proof of <a class=\"ProveItLink\" href=\"../../../../../_theory_nbs_/theory.ipynb\">proveit</a>.<a class=\"ProveItLink\" href=\"../../../../_theory_nbs_/theory.ipynb\">core_expr_types</a>.<a class=\"ProveItLink\" href=\"../../theory.ipynb\">tuples</a>.<a class=\"ProveItLink\" href=\"../../theorems.ipynb#tuple_len\">tuple_len</a> theorem\n",
    "========"
   ]
  },
  {
   "cell_type": "code",
   "execution_count": 1,
   "metadata": {},
   "outputs": [],
   "source": [
    "import proveit\n",
    "theory = proveit.Theory() # the theorem's theory"
   ]
  },
  {
   "cell_type": "code",
   "execution_count": 2,
   "metadata": {},
   "outputs": [
    {
     "data": {
      "text/html": [
       "With these <a href=\"allowed_presumptions.txt\">allowed</a>/<a href=\"disallowed_presumptions.txt\">disallowed</a> theorem/theory presumptions (e.g., to avoid circular dependencies), we begin our proof of<br><strong id=\"tuple_len\">tuple_len:</strong> <a class=\"ProveItLink\" href=\"../../../__pv_it/theorems/43d7e30e713d7d0644b26c803b2bd00dd35cb7c40/expr.ipynb\"><img src=\"data:image/png;base64,iVBORw0KGgoAAAANSUhEUgAAAWoAAAAWBAMAAAAbYcveAAAAMFBMVEX///8AAAAAAAAAAAAAAAAA\n",
       "AAAAAAAAAAAAAAAAAAAAAAAAAAAAAAAAAAAAAAAAAAAv3aB7AAAAD3RSTlMAq1RmmUTNIjK7EInv\n",
       "3XZ/CtNrAAAACXBIWXMAAA7EAAAOxAGVKw4bAAAD+UlEQVRIx8VXTWgTQRR+TTbdZJOm8SKIUKJi\n",
       "LdRKQRQU0QVRilIMelQk4EH00i0I4g8SvehBWxGk1oOuXrRUm6gEFVEEEVFRotQfKoUVhfpDIQj+\n",
       "0IN13szOZJLOVF0Pfoflm/fN7vt29u2bXQAtxl9DIDhgchIUpnScqkxrrBgsYzIN8YxPgiLi4ZFd\n",
       "RqEUIYV8ntq1XpsGrTxdKwTHO7XrpE2VIqzB0Xa1a72mh5X10yEJjHpX6bqhQJUiHMRiOa52rdf0\n",
       "MNr9dEgCI2xrKoQqReo9nla71mt6JHi6BPwLHulco1KEMFmSes3bqNf0aObpmv/J9Tat6220TzwZ\n",
       "HX2s6yFaTY/1PB0Sc/aYJ2nddw78puOJ+VdUrodWM4U46wA4Td4dR+WaacEWCckWJzYhda0HcNad\n",
       "9mQ2/wJhS4XrzlHEM6SFLUwhzrrBJB0uzu7RHC7CipRwzbS/wnOejhDrHhglsJb60qV26ATr1gyt\n",
       "czYf7hC6ULHW0fRaphBnMZerPbNOwpy4a7jCdUX7Y9zn6QgxytiresZ9aQPAGzCoMU3/ofMpehWu\n",
       "LXjKFOIs5PkvnNGBe4pnxysVIrRgrhPHIU9omy89BOsrNGbMH9r+w+bTWlHVdWiCKbhrZ1eSknvr\n",
       "70ct8w9IrqkGgyuv8/MkWkFVUK6QvAerQLi2fkK4DGFX75rN35ryz5lS1/Uplyro7OpO8nY2uhbd\n",
       "Tlri5zdLrlGzXkW/82dUodKDqwqe4ekIyadhZsihDkg66wvUZRcQtUSHNcAInb/XwxVdplrrfKZA\n",
       "FXS2n9zb3jaI0L2sBeyPkmvUDDt6F0zaSyjd+L76ajQIfAsVLYuQmBcaNujqWN/ofbTZZGc75rJh\n",
       "Pgs1hM43z5fkBiqj12ynCjqry9Erhnf0958grgfrJdeoJTLJFBwaoYWH9K5Vrq5GDAoc4+kIsZpu\n",
       "dH9gT3uUrOW5z4ebcuz+cdiAu/Yw+AQjbH4M29kLleu6xUzhX6PWRC5aYGsdWVTzpZp3YstdGBHU\n",
       "waWVnxsGW/lu0pDz0yFhQNchURO7YLc8FG+aiOQvkg5c0u2NqHBnoazN9pMlAG9rXCec3k3U9aBP\n",
       "YxlCrQI/0OBcW/q6oenCtuw6LrKeOrJOGgpUIs2G/+mldI2KWOsmB/aQxYm+dKCuxnVk9aJrgK6P\n",
       "phntQBp9AEcdPLBgTKxsH0/X5wf2dZFtY0jU0+RkWRpWdmvBzo0B7NH9FVBF/l+xbvaf1P/LYIWw\n",
       "z7+463EKIng5xMcDPN2AfLpXndub4qY60qd13febv6zb8u9Zz+M0RFjpdU2WOMUnwVjskygBD5I5\n",
       "nwRFkn4VJXNqZfz+X32qq2gY/gN+AYYAPkcrcQWkAAAAAElFTkSuQmCC\n",
       "\" style=\"display:inline;vertical-align:middle;\" /></a><br>(see <a class=\"ProveItLink\" href=\"../../../__pv_it/theorems/8495bff2716ab47ef5165f91a0fbef447fa3973c0/dependencies.ipynb\">dependencies</a>)<br>"
      ],
      "text/plain": [
       "<IPython.core.display.HTML object>"
      ]
     },
     "metadata": {},
     "output_type": "display_data"
    }
   ],
   "source": [
    "%proving tuple_len"
   ]
  },
  {
   "cell_type": "code",
   "execution_count": null,
   "metadata": {},
   "outputs": [],
   "source": []
  }
 ],
 "metadata": {
  "kernelspec": {
   "display_name": "Python 3",
   "language": "python",
   "name": "python3"
  }
 },
 "nbformat": 4,
 "nbformat_minor": 0
}