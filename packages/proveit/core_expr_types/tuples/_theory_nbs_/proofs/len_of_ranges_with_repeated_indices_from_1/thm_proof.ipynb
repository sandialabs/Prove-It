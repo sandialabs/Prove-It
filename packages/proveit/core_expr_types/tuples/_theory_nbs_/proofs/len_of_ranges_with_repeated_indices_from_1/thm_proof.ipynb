{
 "cells": [
  {
   "cell_type": "markdown",
   "metadata": {},
   "source": [
    "Proof of <a class=\"ProveItLink\" href=\"../../../../../_theory_nbs_/theory.ipynb\">proveit</a>.<a class=\"ProveItLink\" href=\"../../../../_theory_nbs_/theory.ipynb\">core_expr_types</a>.<a class=\"ProveItLink\" href=\"../../theory.ipynb\">tuples</a>.<a class=\"ProveItLink\" href=\"../../theorems.ipynb#len_of_ranges_with_repeated_indices_from_1\">len_of_ranges_with_repeated_indices_from_1</a> theorem\n",
    "========"
   ]
  },
  {
   "cell_type": "code",
   "execution_count": 1,
   "metadata": {},
   "outputs": [],
   "source": [
    "import proveit\n",
    "theory = proveit.Theory() # the theorem's theory"
   ]
  },
  {
   "cell_type": "code",
   "execution_count": 2,
   "metadata": {},
   "outputs": [
    {
     "data": {
      "text/html": [
       "With these <a href=\"allowed_presumptions.txt\">allowed</a>/<a href=\"disallowed_presumptions.txt\">disallowed</a> theorem/theory presumptions (e.g., to avoid circular dependencies), we begin our proof of<br><strong id=\"len_of_ranges_with_repeated_indices_from_1\">len_of_ranges_with_repeated_indices_from_1:</strong> <a class=\"ProveItLink\" href=\"../../../__pv_it/theorems/877402e64ca6a15d3488dfee4e7dcddd6d015bdb0/expr.ipynb\"><img src=\"data:image/png;base64,iVBORw0KGgoAAAANSUhEUgAABCoAAAAzBAMAAACj7fS5AAAAMFBMVEX///8AAAAAAAAAAAAAAAAA\n",
       "AAAAAAAAAAAAAAAAAAAAAAAAAAAAAAAAAAAAAAAAAAAv3aB7AAAAD3RSTlMAq1RmmUTNIjK7EInv\n",
       "3XZ/CtNrAAAACXBIWXMAAA7EAAAOxAGVKw4bAAAKkklEQVR42u1dfYxcVRU/8z375mOHhD8qVjKN\n",
       "gTRo2wG3xhIDY3aLREIy/udHhVFMCOUPhoTELGA7EmNIXLpbSEPbaBnFkLhNulOwJkKAtQapbYAp\n",
       "KaQ0rBkqQauxXZW17RI73o9377v33fvemzedl7eE9/tj5s49Z885753f3M93ZwE8YczOtiDCJwaz\n",
       "s7N9aBV6vWow/ndHKVhBMPbS96d6F/thRS2gMGKVKBUrCY+xLmFTmKz4tPghQ98askpGelPRcBer\n",
       "yFyOuSF784SXP9/xCAE11Nsd76wAViTq4qcc8VIsyzqn6VuqqzdhqjuJNTh9GeaG7M0TXv78xyME\n",
       "dAf5fEiSHlwBrHi4obLic6ScfMFsy+Jts2H7i6jKxVj9gVt228Qa3PY8WAaLVRdzgXvzguXOKxz/\n",
       "8YgBFSsqKwqV8FnxZ1BYYdDm4+CU2WQ8g6quvA/dhrQ4C+JipJ6ZgZdrslhFbtVh4Aah0HY2F7w3\n",
       "L3B3XuEMEI8U0FaVFfGjobMiMa+yIknJevib5nWO45dz6ENCnAVxMVKPNSA/L4tV5K8xh9fUoIu5\n",
       "4L15gbvzCmeAeKSAxlRWwPdDZ0W+rbIiTzvKZVY5z1gBRy1NS4zU88sQOy+JNbizJRl0MRe4Ny9Y\n",
       "7rzCGSAeKaB8S2XFnY2wWXGupbLiWlpkY+F4nSveJWgyMVaPdSB2QRJr8CJIBl3MBe7NC5Y7r3D8\n",
       "xyMHlK6orEiXwmbFcVBZcRtp31YfN5vEZJvfmINWz8PFVB0Ki6JYg+tfuxIsgwfGXc0F682zW7Xc\n",
       "eYXjPx45oFxJZUV8OWRWZC9oWEFJP8qmWoTO9MZ80dLkYlN9uiuJNbgEgsH2FldzAXvzguXOKxz/\n",
       "8cgBkYUBGyuMSyGzIjavYcWbpLi9CQa50EKZ35jPW5pcbKofl8WapRtEwKfrpsFs+RbF3P6DV3Fz\n",
       "Gm+iuC9vxgtXtBy8eQG5Y3AKR5L3d/Usk2JA8XmVFfDzkFmRL2lY8QopbgDY8U+iU+M3ZtrS5GKq\n",
       "npyRxSrii5A92zENGvC6Yq4Kt3NzGm+iuC9vSUh2HLx5YYNVdApHkvcVD7/nYkDZRQ0rbm6Ey4rp\n",
       "iiMr8PBonY0VW+TR0zrrvlwPslg/goszVtC+Uza3RL+Crzh4E8V9eRutkS+ozpsXXtSxYouzvL+r\n",
       "t1hhBZTStRVzlXBZca7h2IPsZGkXepB1liYXE/V4G34giVWMlBgrsMF0qWU3dyNN+5sO3gRxf94S\n",
       "LcIKnTcvIHdjXzpbBZdwRHmf8YzveF+5fHJHDmlb8PBY8TPQsGIfKb7ObsRIl98YHKgBspio/xTg\n",
       "7+Z1qEt8tCbfZazABudqbcUc/Qruk7yZfyyLXb0Z3Bv9guq8OYO5Mzb+AV51CUeS9xfP01sq+YY9\n",
       "oMSMhhUjnXBZ8ScdK8gUK7PE0k4mT/Byw5yGzdVlMVbPnJiY6FCx8V9TRy6gEVqNsQIbnM5UFHPZ\n",
       "U8C8c2/0j2WxqzfTIPZGN6VVb2p0tliRu8yBOiy7hCPK7fFogsLxPPgBjCoBkWm/nRW5RcoKcuM/\n",
       "68GKGBm2DPNxCONDHSse48MjkvYsTuUVb3wXOX4LB3JKFmP1Qq/Xq1MxLKArL+DG9QSYhYUWG6FR\n",
       "VmCDsS+AYm6yZZoTvNE/lsXu3qhB7C2zV+9N1scFW6zYXaxLunzHcAS5PR7ZthXP1XToIQdU07Ai\n",
       "sURZsRm/3e3BiiS2kG4Mc7niko4VBdx/J0s87Sf59Iok9TqQxYWmJI4rjSit+QpnBTNoM5epZhoO\n",
       "5jzEMq5j3h7Avb3Om9tcgbnLN5PVpks4bnKHeI7ARNYe0A81+yBmWjbBj7DWjAcrsjgTk8PsQOL/\n",
       "1rECb9usSZd52sf4qhxpp3CbJ4r5thAV59TxN/ZU+p7FijGtuclHf9zSm/MQ29A2vWV2P/o1rTfX\n",
       "uQJztx0KjzRdwnGRO8WzCCfX2gMa17GCNuGbyK5qruw1rsDbrs8OkxWJCzpWwJMA7+Dt3ofue4kM\n",
       "fljzRBhp4HGcKMbqlhgOKF5wTWEvamMzv/2oKxi0mXuj13Mw5yG23dKu6S3f6y1qvbmBu/s6FJ9z\n",
       "C8dF7hBPqgT/qNgCoi2BnRXwL8qKBFJPe442cWdUHyYriue1rPg1wE1fFa6LNWLkBhTxiyjG6sL9\n",
       "Ue87rkm831AM9m3Ol7eipzc3KO68wvEfjxgQJYjCiovmHOS1hYVjnqzILyy82x4mK3LL9ksgvWTG\n",
       "dm3bTKHDkMZUL/Y/4tl2GeaG7M0TXv78xyME9Ffy+W92hT+arLgVYC9o+ySBFckmjLR8zTFIqFWh\n",
       "LCO5DBFWIBZMVtwPmZJGXJVYgVTux+VfjfO0T6gTVaEuR3g8I5TR5PoQfJm5ii1GGViJeNdkxUgr\n",
       "Jy5TsdzJrEDNCemCnvgGXwXb2FQXV+111txmx6d2wZpcK9mKWPGxYEW8m9blzsaK9XSwabX7o5oO\n",
       "RanjrEjeitfKutVc1IN8PHoQqN+k5u43EycmaiIr0gncDaw5xuaw8dXqRFWoS71nsQKXycPpa6/Z\n",
       "xlmRO+86zuqrKsLwwUab8OxWMHfVxNzZ2orctWQhx+oSdDsoVt0B2mzMmGU6I1qb++W3+ZTjglts\n",
       "p9Wqgc/aRPCD37M8PoxGEWRXTcqdjRUZop60aic0Jq26B9dZbQUqp8godC1UzziuYkmNjjIJ9nvW\n",
       "JsKA+JCxIoaGiGRXTcqdjRWwigwnK+bGDxp3Qmr9ZpvJJ6ziPmFcsQ8S9+zZ8ziyvJ8PYeJLLqE9\n",
       "o66Z+DxrE2EwGB9JbT7eVZNy17axgiDfhEdO0eIRyMOczeYRy/pyk7MClbNtyrfUeqaQ/Y9LbOO6\n",
       "Sl9nbSIMBrY7xhM6kVVzZ2fFHPq+Ilbsx6lG478pMNroA3mhdYnNN7SxPF6vclbgMmlgNgK8JzdV\n",
       "DpjX1h6NkhY46KYlYwXdVVNzZ2PFFBBWTJUhizO3C7KHYaqRfRW90Lr4GehguXF1w2orUHkSNR3Z\n",
       "txv0QQ2Ct11Cq2ur74qSFjjo9hRjBd1VU3NnY8UYZQWUSXueROpxLqN1qzJ1UratVxi/27NL9r/a\n",
       "OTT8lNAdVz10xpp1+DxrE2FQxBbV+aWaO5kVj6+irEi1RtYgRjxfBPgWnznSuk5xYwuV7axQcbNt\n",
       "8Hj7AgY5UEYOs+zsGtaSht+zNhEGRH7GadXBmRUvoW/vjmOoUYDcWZS83v8A+MYHrTNK8edw2ZsV\n",
       "02Vnh2VI1d4Rjrf4PmsTYUBs7/pnhW+47PHmS86iGhjGEj25QB9S9XvWJsKACPuUUHLejRX4sdUY\n",
       "GXSSR179nrWJMCA+A+GyIrXkOK7Ah1kQJUYrfOjh96xNhAER9ulj2ghogQ+z5NuwocVX0vjRlgiB\n",
       "IhH2LxUokxAL+DDL9iZ8kGjyoSk72hIhUBRC/1WTvONzoPgwy3cAfnGDNY1mR1siBIrwfwEp4fzc\n",
       "zUldZaYTZS1o7ISwWQH3OkrGtJOW6Pedgwb7KbYwWTHluJoxopNMRlkLfFhRDp8VRceVT0MneTLK\n",
       "WtBYCb/YLP+6u4RtGg41oqwF3YHU/bDixoD+a0y6HGViJeEnNM2zs2f6YUX0X2M+ETC20venehf/\n",
       "D9XeCKH8x4K7AAAAAElFTkSuQmCC\n",
       "\" style=\"display:inline;vertical-align:middle;\" /></a><br>(see <a class=\"ProveItLink\" href=\"../../../__pv_it/theorems/47182c433cc7b90ac555af4b9d297a370c6f04a70/dependencies.ipynb\">dependencies</a>)<br>"
      ],
      "text/plain": [
       "<IPython.core.display.HTML object>"
      ]
     },
     "metadata": {},
     "output_type": "display_data"
    }
   ],
   "source": [
    "%proving len_of_ranges_with_repeated_indices_from_1"
   ]
  },
  {
   "cell_type": "code",
   "execution_count": null,
   "metadata": {},
   "outputs": [],
   "source": []
  }
 ],
 "metadata": {
  "kernelspec": {
   "display_name": "Python 3",
   "language": "python",
   "name": "python3"
  }
 },
 "nbformat": 4,
 "nbformat_minor": 0
}