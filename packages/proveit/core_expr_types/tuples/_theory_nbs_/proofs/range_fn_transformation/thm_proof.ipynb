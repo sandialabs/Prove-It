{
 "cells": [
  {
   "cell_type": "markdown",
   "metadata": {},
   "source": [
    "Proof of <a class=\"ProveItLink\" href=\"../../../../../_theory_nbs_/theory.ipynb\">proveit</a>.<a class=\"ProveItLink\" href=\"../../../../_theory_nbs_/theory.ipynb\">core_expr_types</a>.<a class=\"ProveItLink\" href=\"../../theory.ipynb\">tuples</a>.<a class=\"ProveItLink\" href=\"../../theorems.ipynb#range_fn_transformation\">range_fn_transformation</a> theorem\n",
    "========"
   ]
  },
  {
   "cell_type": "code",
   "execution_count": 1,
   "metadata": {},
   "outputs": [],
   "source": [
    "import proveit\n",
    "theory = proveit.Theory() # the theorem's theory"
   ]
  },
  {
   "cell_type": "code",
   "execution_count": 2,
   "metadata": {},
   "outputs": [
    {
     "data": {
      "text/html": [
       "With these <a href=\"allowed_presumptions.txt\">allowed</a>/<a href=\"disallowed_presumptions.txt\">disallowed</a> theorem/theory presumptions (e.g., to avoid circular dependencies), we begin our proof of<br><strong id=\"range_fn_transformation\">range_fn_transformation:</strong> <a class=\"ProveItLink\" href=\"../../../__pv_it/theorems/dd2419e6a0d714866e34c00ec6c2f4d968e262380/expr.ipynb\"><img src=\"data:image/png;base64,iVBORw0KGgoAAAANSUhEUgAAA5kAAAAZBAMAAABJIPdQAAAAMFBMVEX///8AAAAAAAAAAAAAAAAA\n",
       "AAAAAAAAAAAAAAAAAAAAAAAAAAAAAAAAAAAAAAAAAAAv3aB7AAAAD3RSTlMAq1RmmUTNIjK7EInv\n",
       "3XZ/CtNrAAAACXBIWXMAAA7EAAAOxAGVKw4bAAAJZ0lEQVRo3u1ab2wcRxV/98fe9Z3vcoEKFRSV\n",
       "jaAGkaZd1BBRFZIrSaAkanSFT0VucmmKKiEUto2EiBSSaz8goTqyoRLBAaGFD6YlyOdULkiBFjdV\n",
       "BQ00XBEVBXriSCIiERqiQHDlD4id92ZmZ2Zn13dO+JYnzd7Y83u/+d17O7Mzswdgt1z3D7CsFRr9\n",
       "4a6zvdX14IapVlwmLMP9kLy/T1zCHEs9WBbuiGrBT0MliJ3lul/+3wkL5NXJZklXEFyLgED7ulim\n",
       "0sPSbzZLzZVm86ylvmtZ+FCPSorsszZixGd1r5gVm7SqJ/XaPM72oaDqXYMA7iyigU6beDZr7PN9\n",
       "lmzm2Efez6Ad8TGbKQwZlp/D6eFnIdVL3+0wkX4GnCDneLFmk5EaxFCtIz6ekdQW3Y6EoGMttuMk\n",
       "u65jl6+HqPdcyneTVVMBGaM4vwIBoPQvo8FKJaSwbGNtj1iyWWywj4z5Dw7SGE5hyLAZvJ6Y8Hh9\n",
       "GEP7hSw4QoZDKtZszliIK3OIl6a1aNPMTV/i3BlWvvkUn5EA/kZ6kx4zetVUICc1+PPgAmJn1r+I\n",
       "BivVGmXzcTntGtl0GeBA5q1K2UxhyLAteD31QMjrq3Du2JAFR0ihzoufgjKJuY80rQXts6Lyz9DA\n",
       "Jm301mNsfIvON4DNY0uimsQU/ZUJ0J1lNKJSWqJsssyWPdtzk917z2bxXiVcCkOGLeC8vyTru/GW\n",
       "HA0z4AQ5TUXN5kiooExi4SOeS3oLs9vVYKpYi3GZMrlWj4VkNYEZXaEAw/m0UvZSNgu+dSkT/evO\n",
       "6KOZQesuES6FIeOxiazljqz/nLr0M+AE2UtFzaY7FaMSxMJHTJV6SzKYezN1P4/XMRki3+KhkNsU\n",
       "gE4xoADDea9SPs2XE692u7+2ZnO0231zLmtt1eFrXztDxlzBWAtrXquL+h5Ytz2KdS2Rxxcu+Brk\n",
       "BGDRZtq7Y1KTeHYL4cXUZLQkg3kiS/aHX71JPF9Kl2pc7wnbd4t1GwqogVGUzvsDC1h3ab/av4gG\n",
       "ln/wbN4LcMyazWIrnsasBwxNnk07Q7rRIFzVE/XSv/IfeCkSg/fyfV1mryHwJ3BwSoNsBCw8mwT9\n",
       "S12SmsRz44QXZrQkg7kxU/d/5YgogtC70dCMEmLdhgJqYBTloYVBBZSbzitq/yIaWHbzxeGj4NSs\n",
       "2Yz+/WhU+yFNaJYNyhTPZoLhbl+4xRMiPLld1Cv4kD3cEvX84mfcaE2cXzCH5hLGX4HcBlj0VdCY\n",
       "J4gMYtf7JOGFGS3JYN6WeeTxNn78LioX4ArXa3qgWKnbUMAbGMUTxeagAu4I8X6S/YtoYJlsUVhG\n",
       "wjLbi5S2+ubpwTF4Lrq+QCpbNB5fmf+OWHcN1ziOGD4ut77ugnSLv2UrnkVGGyhO1osvIbl72Xze\n",
       "12Ay0CCTVPRslr7Y4EQGcQnOcB8RD72FjanfiHkAgzmZ+bgnfS9HJYzyQnpND5QhdRsKeAOjCEd7\n",
       "gwp4EdxFtX8RDSyHGxSWfA+XMCMfaZnZvF1fBLl/nW5UgvKsmH0rdY4jBgwlw+jLDMvjm4L+vKxX\n",
       "Hr4XV5zm2Jz08HGgQMap6Nn88k9By2ZMjN953FzGyJbk0BjP3G52ZDah2OF6xy3ZVHTrCngDUtwR\n",
       "DijAvQLVBbV/EQ0sbZ5NaOKx0KowcbI3XNBOmraywQxP7AdzbBLDYYFZNps0IX5D1tvebnTrGM+g\n",
       "zQGCFMh6Ktpzs/sI6DNtTDxcC8mHm9GSDOb6rGyO1ORMi4cPqHe9oZmRK7p1BbwBKfaUBhRQWCQF\n",
       "sn8RDSyH+UwLz7KNZX4Nbi03nevF2SyPRR3swu8w+wlx8lavJ7OJDHc5FzmGZXOX/iSN/ONsjmAf\n",
       "Z2R9c9j2oo+CeQKxOVr86JC7AIs2Nh+ISU3idmOOfIByZ7Qkg6lgtbmchh2F5nsgJrYp4aGmvKfp\n",
       "1hXwBkZRuloeUEDhMrR9tX8RDSxsBsewHMTAI0+1zm9AzJLzYsTTwzmpPgbP0B3ymJyQc2IVRAy3\n",
       "PPbjgGOawk1a5A8PyimLwZ2rsv4uaLfE/kK1dpBb0iE7aIWuZtNpxqQm8aTj8xX9f8DSogXzFwEo\n",
       "2HZTqdCFIsg3EZvFZmSHOR3XNN26At7AKNzL+/sTEP+1CO8N1f5FNLCINS3kMD9bUXAotvCYpZuj\n",
       "CPyAzSelcJ4fQc2W4/3mgsAhwxnP5ZivtbhbfG9F/jD8d/EE6MRrClb/JlR3RmIqDfOVwi3zHR3y\n",
       "OmDRzoJaMalJnLuT8ADd0NKiBnP1b/f4ChbXBL8Xi4PKn+I1FBxhl3cD1/u6+XTraLp1BbwBKd7p\n",
       "9yeAVDAB91+8T+tfRAPLx/SXEU8B7lxWBcYbMZq9ol3OxunpaQ/mTsKP1HMyiXP+Ha1TEOOuDqWb\n",
       "em6R3yf+eIPd2bW4TvZVyz6prkGcDhVtbKqkFmKHzn9Ca5fK0DCwun2IXe6BeHV/hut1Oib0jYRu\n",
       "lZUaKq0VCYCHtf5FNNDpHj2bv2KXeZgw32+2n8aPRXgSM/hBH06KppdVXGHqQYcweKDP3aQt0isX\n",
       "eV69dtiLz64T59V0m78Hd1EKhB04s2I9dd9gJ6ZDajajWLpUDr11rGFszVN7SB52v6OwxPUW/aQM\n",
       "U7dklQ3q4XrfAh4P3be1/kU0in58TivmwiUozcFaWG1mc6wIx3ELiedC5SIMdYx3KPwp2jtS5mdH\n",
       "bBU0hj9uOM5IxRY0PmAcCeCPM3Gd35fmIih3urRPhxzgxZpNhrIQ01ug2agkuzQtxhqLEHYWcEys\n",
       "1I+6V9hyFfUesMgwdUtW2QBHVyBgTTjTU/uX0TgA8TuUeMfvnoLipX1mNr9/ASY8Ntycb7OzytUX\n",
       "vyVXqxPajBzkPkoYzGbkxhCB+0s5XONslqZg06fiekqMo6dMQ4cc5cWaTYayEFPgWBySXZoWY40T\n",
       "adbneaHvGdi5Teg9apFh6passoGvKAcTcP/FbVr/MhoYkZoWFjb482LCBeOliIdnjsenp/V1Ss5L\n",
       "vDxBjGW/yfyVNweHIFm/kL7V4pBqQCXllySHbMTVIJ0vEbOgr2Nmpyf12jwO9aHA6V2DAO4sooFO\n",
       "FS0sI2ujCf1zbqfatGRzKPz8hI027XdBQ4mlAfqPwfWygg83TLNNWljKl6KL7zw1H1qyWYCd2+2v\n",
       "aFJebO4z/8H83YduZPP/Zcv+Zq/P39Naca5nAX/luml/680b2dStGFJY/gcX2DM8Rv3quwAAAABJ\n",
       "RU5ErkJggg==\n",
       "\" style=\"display:inline;vertical-align:middle;\" /></a><br>(see <a class=\"ProveItLink\" href=\"../../../__pv_it/theorems/fcc17576c71c2c2893f4eefa50fe9ccdf0d8438b0/dependencies.ipynb\">dependencies</a>)<br>"
      ],
      "text/plain": [
       "<IPython.core.display.HTML object>"
      ]
     },
     "metadata": {},
     "output_type": "display_data"
    }
   ],
   "source": [
    "%proving range_fn_transformation"
   ]
  },
  {
   "cell_type": "code",
   "execution_count": null,
   "metadata": {},
   "outputs": [],
   "source": []
  }
 ],
 "metadata": {
  "kernelspec": {
   "display_name": "Python 3",
   "language": "python",
   "name": "python3"
  }
 },
 "nbformat": 4,
 "nbformat_minor": 0
}