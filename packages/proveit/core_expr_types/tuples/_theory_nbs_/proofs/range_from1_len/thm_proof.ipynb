{
 "cells": [
  {
   "cell_type": "markdown",
   "metadata": {},
   "source": [
    "Proof of <a class=\"ProveItLink\" href=\"../../../../../_theory_nbs_/theory.ipynb\">proveit</a>.<a class=\"ProveItLink\" href=\"../../../../_theory_nbs_/theory.ipynb\">core_expr_types</a>.<a class=\"ProveItLink\" href=\"../../theory.ipynb\">tuples</a>.<a class=\"ProveItLink\" href=\"../../theorems.ipynb#range_from1_len\">range_from1_len</a> theorem\n",
    "========"
   ]
  },
  {
   "cell_type": "code",
   "execution_count": 1,
   "metadata": {},
   "outputs": [],
   "source": [
    "import proveit\n",
    "theory = proveit.Theory() # the theorem's theory"
   ]
  },
  {
   "cell_type": "code",
   "execution_count": 2,
   "metadata": {},
   "outputs": [
    {
     "data": {
      "text/html": [
       "With these <a href=\"allowed_presumptions.txt\">allowed</a>/<a href=\"disallowed_presumptions.txt\">disallowed</a> theorem/theory presumptions (e.g., to avoid circular dependencies), we begin our proof of<br><strong id=\"range_from1_len\">range_from1_len:</strong> <a class=\"ProveItLink\" href=\"../../../__pv_it/theorems/a025a1a9c58e5a8b62077c9de4d5a46060912f0b0/expr.ipynb\"><img src=\"data:image/png;base64,iVBORw0KGgoAAAANSUhEUgAAAW0AAAAWBAMAAAD5vdCnAAAAMFBMVEX///8AAAAAAAAAAAAAAAAA\n",
       "AAAAAAAAAAAAAAAAAAAAAAAAAAAAAAAAAAAAAAAAAAAv3aB7AAAAD3RSTlMAq1RmmUTNIjK7EInv\n",
       "3XZ/CtNrAAAACXBIWXMAAA7EAAAOxAGVKw4bAAAEsklEQVRIx72XTYgcRRSA3/zPdM9MBpLDCkFm\n",
       "kYRFTbIhURAkjGyMAS9zVJR11IMkpw4KEnGTiVejiZGguwdpRRZESDaBHFSiY8CLITKRKDHJwCQu\n",
       "RD3tJT/Mwc37qaquma5p92TtTvXr9968+ar6vapqgLGt2mvHlQX8U4Kt5Ba4ogQx76QW6C4YGzEY\n",
       "Q2aa33Qob2n1rSElt1nX4Ot8yfXXhC3esybWOYfPrKDVSH7EzZ2iS3ra0qWXFDcK2LLfhUouXsNf\n",
       "tT3h+W+pfwzgrT2fAvz5H8TGG5Y5jsSKc4sVGZ6luzfc3FlCzNsPa1E/hkW+PXO0LvLnewYo7Le/\n",
       "PXEBe68FhePwQxPyYSK28Qa4LnH2u7nFigxHKPuOu7mL9DAO2roZzT3DtxdeDJVcJe6dlmd50wI9\n",
       "kGlIBVDuQKaRyG28ue3UsVx5QhZfJsKvj8lvGvRZW9fR3B3O2oFWCnfZmtRXWC7j/wBS9wB+TuQ2\n",
       "3jKKUMVycqMFGTI4xvy4utyBl5ad3i3FnWat39VK4c5bCX6e+80AqS6k7gO8nshtvLlRHI7l5EYL\n",
       "MVzq9S6O4y73ejeWLFV2SXGTAJmNlxtaZm6/Zjy3X9rA5cY3lRUshSTsyNtbnpY4HGuUW1uJYS8A\n",
       "5pYXuLizbSiFw0MVbpnZdX2tFO6M9Wz+5V5m+Rj6PZk438bbz3UkDsdi7myPG41DW4nhABRoeLLA\n",
       "Fq6cg6drhhstB0j8UsoQKnXFXeGKONzWSuFOd6Kt6D5ffuX+Mn4eT8KOvN/LtiQOxxqdb20lhlKo\n",
       "N5gPHzoJk36YDaN9Z0G++vELqiSairvMX9lmlMJdXIkqQcSfeMJouTqWxB15h+W+xOFYo9zaSgzp\n",
       "virL7F7agfoN39ovt0pZDsDJfX6EOxfNt5SscG+n7uXE5Tvy3hZKnJxrvrWVGVq7UL6ptrSpTYds\n",
       "7nyG8mfyYt2ZJx/BSJ50zQ+UaiZPcDt9G2BLErfl/aoncTjWaH5rKzOcxVX61LrQ481nyv/iJYvb\n",
       "30xJk9H7UqmvuEtcDr8YpapL8vPkIUi9fIaf9wH+AXiKn3OMeNTbu+NLHI4VW0+UlRnexZG8swVy\n",
       "vERMQeNvi7vwI49Yb3a8QDX1ile4Y5Tg39Mr4mnOrMNSM2eo1Hfv7sqK6N1VdiPEvIsrb0ocjjXK\n",
       "ra3MkGrzUDP75udPIPfXefs8OMEzqveTYlepSdDVRHJq4931mDGcQteikoUP8H51dRXhfqPbHk54\n",
       "hSbhCihh1BvWT0scjhXLb2U1R1Vv0C4uyXzntsbOsWVz3L2q1VdpemtGKW2O+0epe0YVhP5mQbbW\n",
       "eKK4vOd0LOd+OWehpVsN2n0AngC4GeM+HQ6faUSYzNejYxBEhy0cf7r2mmjMcUqOTH6cwuU9o2M5\n",
       "uWcsNO/hAA7iaIu/B5CKcR+NCj9QahT+WIyUMqdcvh7WWGVB75yfqKucKk/F69LhTXEkloubLEOv\n",
       "NN438yfd7zvR+dRTtUzCrucipcVfpYlb1seGr4aI4m89Lm+KI7Fc3GRxvooZbv0Wd2IiUh6CalsJ\n",
       "tpLbbdfsCGo1WNN7mnjfNrH+cvigpXqjuZZo36/t5fB/bQ8AIpdRIyk/BaoAAAAASUVORK5CYII=\n",
       "\" style=\"display:inline;vertical-align:middle;\" /></a><br>(see <a class=\"ProveItLink\" href=\"../../../__pv_it/theorems/65890dbd5bf54e135f72eaaaa1bb61e12c4680460/dependencies.ipynb\">dependencies</a>)<br>"
      ],
      "text/plain": [
       "<IPython.core.display.HTML object>"
      ]
     },
     "metadata": {},
     "output_type": "display_data"
    }
   ],
   "source": [
    "%proving range_from1_len"
   ]
  },
  {
   "cell_type": "code",
   "execution_count": null,
   "metadata": {},
   "outputs": [],
   "source": []
  }
 ],
 "metadata": {
  "kernelspec": {
   "display_name": "Python 3",
   "language": "python",
   "name": "python3"
  }
 },
 "nbformat": 4,
 "nbformat_minor": 0
}