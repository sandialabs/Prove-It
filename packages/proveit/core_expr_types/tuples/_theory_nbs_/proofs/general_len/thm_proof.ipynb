{
 "cells": [
  {
   "cell_type": "markdown",
   "metadata": {},
   "source": [
    "Proof of <a class=\"ProveItLink\" href=\"../../../../../_theory_nbs_/theory.ipynb\">proveit</a>.<a class=\"ProveItLink\" href=\"../../../../_theory_nbs_/theory.ipynb\">core_expr_types</a>.<a class=\"ProveItLink\" href=\"../../theory.ipynb\">tuples</a>.<a class=\"ProveItLink\" href=\"../../theorems.ipynb#general_len\">general_len</a> theorem\n",
    "========"
   ]
  },
  {
   "cell_type": "code",
   "execution_count": 1,
   "metadata": {},
   "outputs": [],
   "source": [
    "import proveit\n",
    "theory = proveit.Theory() # the theorem's theory"
   ]
  },
  {
   "cell_type": "code",
   "execution_count": 2,
   "metadata": {},
   "outputs": [
    {
     "data": {
      "text/html": [
       "With these <a href=\"allowed_presumptions.txt\">allowed</a>/<a href=\"disallowed_presumptions.txt\">disallowed</a> theorem/theory presumptions (e.g., to avoid circular dependencies), we begin our proof of<br><strong id=\"general_len\">general_len:</strong> <a class=\"ProveItLink\" href=\"../../../__pv_it/theorems/dc2298794346de7b9bfbbbf8e77f1aab0809c1a80/expr.ipynb\"><img src=\"data:image/png;base64,iVBORw0KGgoAAAANSUhEUgAABFkAAABMBAMAAABE53U2AAAAMFBMVEX///8AAAAAAAAAAAAAAAAA\n",
       "AAAAAAAAAAAAAAAAAAAAAAAAAAAAAAAAAAAAAAAAAAAv3aB7AAAAD3RSTlMAq1RmmUTNIjK7EInv\n",
       "3XZ/CtNrAAAACXBIWXMAAA7EAAAOxAGVKw4bAAAS9UlEQVR42u1dfYxc1XU/Ox87s292xpOQP0hF\n",
       "yVopBAXWnnRtK1QRntYmpLgk2/BH42DBEreKilQxFRGVaW1PUFTFqmGdRMhZ1KJHiJq6luy1k1Sq\n",
       "I2AhSkihSTYWrYiTlQZYhaImsJA4tBvV23fP/Tr3vnvfe+MJW5U3R+PZd94795xz7/29e+/7+I0B\n",
       "0mV2be01GEq+pb62tpbJcParU1uHzZVzKU5NvSsbWjrDxhoKwPYhWobyZqGlyb7ePWy2IVqyoOV6\n",
       "9vXJYbMN0ZIFLZ+O/lWODJttiJYsaBkNAWoTw2YboiULWoqtCDHDVhuiJds10XeXlp4ZttoQLdnQ\n",
       "8iGAB4etNkRLNrT8OVSafQX4itwI4vds6K6uY8t1tMT/FDrsA1WfO5QeVRri73uwsBnlK1bBRoLG\n",
       "gzM3VUiMboa3tHygZSysTbOm2dmSe768I25PDj8mN2rx5qK7nnNsuY6O8T9b8QP1rscdBNsUsmD/\n",
       "runiE9DmK69pXtKI8hhVHpkBYWuW1LKVuzGCW/Wj4SvPfh0+0CzlEC2FHi5yx7aqlvrCx+L25PCv\n",
       "Wzhagib7+IT17v0/AyjPRwPA83PTheYZuBFuwWMPQ0JJ1qPVVxYBbe2SGglNdJMpPNz/zgdgYy0s\n",
       "hajlDC0wcx373hCqHasOe3L4zUFLaZp9fII3hCajf3cA7IxwW7iuBPN49Y/3F/0l0Xlhkd8psEtq\n",
       "TE2L25QZwpeihR68u9euoZY7tJxmlS5cdlrqG5+J334hh2+V53H5+ZgZ2RUsT8S2wHFUoqWOHzjx\n",
       "e053qrtOQ4NNiYV7/6g3L+4TLWJJM4pKUqElso2VVFLnbozgtDIkPLzItq+64kANtdyh5a+wZa9V\n",
       "etF1Z1cdDnpy6DkRH2/IrlJhJrZFTmayj6PlbvxA+0qnO9VdvwXHsP+7Z66YhwKbISozWNKIopNU\n",
       "aIls7ZJa7uZujOC0MiR8gNtX1b50C9Pyh5YRXJHsBNjHW6fUho8u20P7TrlR+dIiVPCS+55JKG8y\n",
       "x+97JtXmP9bawmG0ZdvhURMtu/EThF8T3qU77kN11264mfd5qXEEymw3+9ptRWFJ8jootERmdkkt\n",
       "u/E4C+6uDAlfxtX+VdB+GYvlDi1iaQvVSY6WsRYsBCuxw6pze3DvOdx6CMbhpGn2kN4cbUmHo62Y\n",
       "XbTPQstG/ADsRe+H5iLpRO6Yj9Lc3L/MfYF31yHYFh2ZKHSD+Rmosl4sNHlJHqXKCh5lSbI6/P7c\n",
       "387NtRAtka1dUstG7iYKjqKi87PHCF/807m5z0doOT7KtLyi5TvR7M07d7wLnepC7HDx+t/Ga4CT\n",
       "/wCAaAlWuxU4bC5HVrvSDDZ0pMMNHduO7VOGHC2HROO/IbwLd8IHmQr+ho8Q8NEen09Yxx+yo0RJ\n",
       "8jrQmcguqeUQdxMF33Lz1Y7KkPDVeT62lDflcyYSTYNoCaK2OBn1z9g0HGeK+GKHCy9HC8FIu7KE\n",
       "/XkcCjNRkz9ArHCXNGM9JxyyPqR2fB8axla5rIsVWlgECy2vwFjI77E0mtDosdz4KldEEcKSHDNm\n",
       "osjWLimSif6IVW4UfNOROokucyTh+Y3vrQDPo5ZPtLBeijqm+iRv9ugq8fBE9Sk43GFfE3j40mgh\n",
       "GB1/+CXsz8MTweUdKHXZLm7V4buEGWtN4TDaMuzEPmao0TLWYR/Wk2RsubxD0PKXdz4GcBQqX4y2\n",
       "7/ske48rKhDldhQLiyhCWJIfks4r//SrHjOxS4r6Remw8kcx+Ej3bhpd5EjCw74oSPXfOzCCWj7R\n",
       "UmzzmagAsCW63Ax7APoicwIPLza2huw48P7Ew2caIHaB3CXN9iqHe207vg8NFVrK83jvi61nzhkX\n",
       "t3psYT0YbRyfmxNr8GMY8xZ+10xE0XdiWR3kjWJua5dU6bDyt2DwOrz4ceJE5EjDB/8894DWcomW\n",
       "sY3Ryf/T0wAfh89fCnDn2iKU1fVjOWSHg2bhq+w4u5v5zAQ/PLr2P2IXt8Pbomg2+rEF4ZBtmXZ8\n",
       "HzfUHXoD+/zJYe5dj3k/PS1vpuKK00j7BozJ9t2goihhddD36pltrKRMB/VShwV/GK5u0Xu8PEd3\n",
       "+FInp2ipySm4BY/1xGijxx19GFp6Z8IuaJWWw9iW4yhBSy2MPh++MTltg9XCnuywmGeiwl9eTr7Z\n",
       "XJx2lVSJRcHhTFpwKzy8FSg2Fze2dP/vEq6IvyF+ksUwCMjftJJBgiYcB+mphgna/w8JHvw1oOUS\n",
       "GEo+5L5wYLSMGE9TO8Ypb+41t9yDhEv6mOL7CVRZr1QqF909nQyRKxmG3n6GaRnM0ZOFxYHRss04\n",
       "9nX8fsEs0NBLz1s9Pl9IiHdr5hr3FajcW6dUfIH68eGPnJRuP5FfsKrJA9aMNdspGy0ZGGUGWipP\n",
       "xdFS4MPNrjNiJ7vF2eDXBo0WtVYWrESj7YhVPWeXiUvpGyEJBIfCjIFeXKdUzEBpol2gj2WJHHd9\n",
       "/OnivJEW2fQD1Qd1MB7QREu9ZaElA6PMQEu9F0fL33NYXvqkWB2xu1R1MWHR9zqUBZaoO14QeviD\n",
       "q5D6LsipwxMkEPwkayD6osqbmspoP2ta5YL7+JHc766PN93gHXeGqZEtP9CYIcHuiKOl8LSFlgyM\n",
       "MgMtH4A4WvjbluNXCKSWKCK3kG1lAfb7mWVZpLFqlXHIk7vDiwpUbK9TKsV2H2hRLkwfnvrE0tX5\n",
       "vhqmRvb62SIDmmiBP7bQkoFRZqDlGQdaFnDzNlnrcSNBgnZlIUoQEPdoF40nniFl9b5ev4GeXqdU\n",
       "4OnsYNEuLB/u+sTS1fkytKRE9vphwTCghZbbOiZaMjDKKFoaq3G0iHeLHpX7jPeEyOsG2iL2zpPZ\n",
       "RaOJq4Xa4sUG2rtOqdBAaaJdWD6c9Ymna6ElObLXDwuGAS20jData6J0RhlFS70ZR0sJp9H3ffcd\n",
       "cikV/TshR7qaLqAtWIkTO7xdVEuioRQv+0GbBApeaWYOdGqdUrGuJSCbC+YjWFYYcdYnnq6FlsTI\n",
       "lh848TwNhgEttBRWLbSkM8ooWma7cbSIs+ACPbPm98jmICC+QKGsLOJdVJxJSmdDjwYqwTczB9q2\n",
       "TqlYdxkgmwvmo1ZWM4SzPvF0LbQkRzb9QHu8RYJhQAstwQULLR5G2bwbLZdBHC11XPZU/ouTcQDO\n",
       "RpdmEx8UWkFPkNoiKqEt4l1UWEiq8sEu8nV4IHgJXueqGSj4xttCHUho16Ra9J/K8VO/QVPh6jXZ\n",
       "0XJQn36Rj3tLCiNWw8mxXbScDy2JkU0/0OhsmCDBMKCFFvg7Cy2CUaY8IlkKKOfqEbLeesKBlnEs\n",
       "X1jhZByAb7HnKN8TWlW/h6ktohLaAkpLSz+O5sOm6qLqSlKdN3O+Dg8EYTRYomoGKkFpUQcS2myq\n",
       "Rf+ptOEmmgpXZ7OjZbPejHyE42qoMeujlqM8XTWhkHwRLYmRTT+Ro80hCYYBbbRsJyPFXaAYZSiK\n",
       "LGWghYwt1Z970cKWawWJFpzwUNNDK7FgJZRF/IQuL6Qt1SYVWrCXJ2OBNkzjiSQCCW1PqkX/qZzn\n",
       "o4NMhat7sqPlUQMtuv/shiO9bCwmrLFlT8YVNe+zm2iwsmtsOdkyxxbBKMPaarKUBy2NN7wz0VhT\n",
       "9v5ZXEyHXCPPGrQFK6EsHMP/YlKdP6fQchbErarJWKBiiL0vAgltMtWi/1R+h6NFpsLVyexoiVxs\n",
       "ef8rbVmd2wOpWvXZcf8yaTmpxtCSGNnyw24FCr0gT2QbLeNNCy2MUcYLabLU13Y+u3PagZaxBQda\n",
       "xjBfNobyGrL3309Oz3MNGUf8hNEWrISycCwtdRljycX/fE81Cr5of3Caq1goUIH4iSQDce3aVAt3\n",
       "Ko73E0KVCh8dVCqoXguQ/pKCdBFs/SY8JXwE52tSNRvukT2t8Y5OV6oxtHgiBy4/UDkvdRYMA9po\n",
       "GVu00MIYZViIkqU8Y8v4EQda+LUeayre++wqbrbCyRZ4qRb8EkwLVkJZGFWuvUHL4NfJGbKBVZRo\n",
       "OSXrMCmvCbkJ9ho+bpeBuLYr1cKZis7AzIenUj1npILqLnfuhqZcVE7McILwKbZ2uEuqZsPd8xNO\n",
       "GBbpSpXm+3iHRnY1neUHiitSZ8GwqjZaaisWWhijDAtRspQHLSfbDrRUF+Vyjff+fczplNDqLPxS\n",
       "aFqwEsqCVnnksl9eQss8yzy05cY5tVTjaGGB4J1CxULchAXivDQZiGv/lmrhTgXLsAx0PpgdpsIp\n",
       "byoVVFkgNNG5t8HWlIuRHl+jMB+XtKRqNdzlfEki071crVBkvm/7/u0tEtnVdJYfGDkidRYMA9po\n",
       "KZ630ILCClGylActsz0HWvjvW/yuwoL8rQrU9uNWaFrIX8SIjy0opIwh78XFVVOhBQPJiWm/NmGB\n",
       "PgV/QQKhVllMs/CkwsuYlxehSKXSrnRIKqjyQIWUqUi5GO+W2l3dbkK1Gu47sLNK0pWqla838ntd\n",
       "fth8zPX9sqo2WqoXXGhhhShZynO/ZfOECy1bGH3vE6r35aMt1PC+I1s2Uwv5yEyhpWzcYFdlHPeA\n",
       "No5OKLREgd5eXBXqDmmCgSpf/OyNOhDX+FO7JAtPKhB/5luTqez77GdCkgqqPFAt7Z6/dHEQ6vd2\n",
       "dbsJ1Wy4ygo8dxVJV6pWvt7I83E/IxPbQ6nvUK1uoSX4hQMtvBAhS3nu5W7vutAy1oH6gzOCjAOS\n",
       "O4Maf7x9gp051GKsoywcN5FUGStzZvxD9qgd+TosUPV1trhnKi/ETDDQ+Nraig7EtX2pFp5UgniW\n",
       "J2Qq3xf/WYJIBdV94K6Ax8UfQoMzGni7cdVquHIT/rOl01WqJb7IqtbEz+zEWamzYDygjRZ4zYEW\n",
       "XoiQpTxoebXjQku0PC4ukyPHyJoad7PWNiwS6TW6jCnIALqO0jeOwYevNwo1kgIdTbXwpNKIH+gl\n",
       "pCJ6vZeClpgL2m6+hkshJvkiNxx+SvrnDlgwHjCGlv92zUTcgyJL+dDyuD0j/gd+H7DOSJ3uS55q\n",
       "HUio8kuZb1b0FajRWadUGhfLHSI+/JGT0u0n8gGrmjxgw548vu1FS/pTxY+EMJRcydIAaHnXsPly\n",
       "Jj8eomUo64KW4Uw0nImyo+XxxGWUJjH1IY4CfdO3KgMGzFIkp/+l1yCr3Fe7SSvyCZNAlU0cNKsX\n",
       "+vXRD+uq/wwpOyt38sQAaNmehJarwSRhmZ3UdpRwE7wMYpQhy66wWVhXVpbODD2kLpljGhHtLSq/\n",
       "GAAtm/0/aozkKYOEZUgfBC+TGEXlR46oWVhXVpbuDJ0pkhzvyCNYgl8NgJbZhBOMPaMoZTsBb5Zn\n",
       "MyV4qQceO/ryYbKubk4zz5ihg4S2JY9ocT9VzIiWDW2/2TjYBCqvbKI9IWlW6mHqQl8+TNbVpjTz\n",
       "jBk6SGjjebweLLw+AFrqM36zK8EmUGVDi6RZyf4pzFwEWvZmRcuVF4UWxc7Km9BXa/v/Le6E834X\n",
       "2CQsIiZjykCLpFnJ/rGIUWQOXW550XIqK1q8GfpIXSrHWjOHaBlZGQAtRYvYWlpCwXbcCzYJi4jJ\n",
       "mDLQUpwx+8ciRmmpGS/gm2jZlhUt3gx9pC6VY3Emh2ihr9b2jZbq636zs2DxwehiyeCamWiRNCvZ\n",
       "P5IYpQlhQhg1S5C9Ymi5JitaZIbx9ZyH1KVyLCzkEC0HewOgJcY+I/ItsPhg0bUwjjzPUTYawE1L\n",
       "S/+6tPQD1RPIeiI0KkmMEoSw4M/QSZdTswTZi/ggrCu61xByQGYoZzfl3UfqUjkmE9HeokLZZ/2j\n",
       "5Q/S0aL4YMapSrlm5thStsYWSYzShDB1tyeUZK/Y2LIn69iiMoyva1f9Y4tiZ+VNfhMGQctt0951\n",
       "i5yJFB+MisE1s2aixfhMhMSo0EbL7YEke8XQMtnPTMQylJQvI0UXqUvlmExEe4vKhYHQUvffcHkI\n",
       "LD4YFYNrZq1yj5j9I4lRBhMTZ43z7PXkR53rlmuzokVkqChfRoouUpfKsXgkf2Aprg6EluKq1+wU\n",
       "WHwwwwflmqmu0wQv0j+SGBX7vdbqyl2S7EVxoVhXZK/J+KLmIkNF+TJSdJG6VI6l+fyhpd4cCC3g\n",
       "/2Wg+8DigxnX7VOOdQsheJH+UcSoiv1g8ZKW+k/XdPcT1hXZazK+yAGZoaR8mSnGSV06x/p0/tBi\n",
       "/5JYv2jZHnpx2LX4YLFlZGxsQdlvrxQkMUoRwogIspfto7KYdSaSGUrKlykeUpdmZ+VMPgeDoWXU\n",
       "Ox6zJ3sGH8yPFuPZn7yFqp7jSWKUIoQREWQv24d6Vpj6VFFmKClfJhY9pC7NzsqXlFcHREv1Ka8d\n",
       "I7MQPlisK5K4ZlQEMcpJCJNkLxtE2VtAZKgoX0breEhdmp2Vs2XLxIBogZe9dsfAJGFlk7HYK4wG\n",
       "MSojBLKb9p8hZWflS2K/3N43Wka8U1GlZxKosomDZnWgXx/9sK76z5Cys/I1Ec0MjBb4BAwlH/LX\n",
       "4cWgZW3tNTosd4ftmAsJ6Lul9TX3ijEmj0xNbR22Xc6lODU1Bf8LhxZp4hXMNtAAAAAASUVORK5C\n",
       "YII=\n",
       "\" style=\"display:inline;vertical-align:middle;\" /></a><br>(see <a class=\"ProveItLink\" href=\"../../../__pv_it/theorems/7381a3d6511193b8627fb9edca93483094c62c340/dependencies.ipynb\">dependencies</a>)<br>"
      ],
      "text/plain": [
       "<IPython.core.display.HTML object>"
      ]
     },
     "metadata": {},
     "output_type": "display_data"
    }
   ],
   "source": [
    "%proving general_len"
   ]
  },
  {
   "cell_type": "code",
   "execution_count": null,
   "metadata": {},
   "outputs": [],
   "source": []
  }
 ],
 "metadata": {
  "kernelspec": {
   "display_name": "Python 3",
   "language": "python",
   "name": "python3"
  }
 },
 "nbformat": 4,
 "nbformat_minor": 0
}