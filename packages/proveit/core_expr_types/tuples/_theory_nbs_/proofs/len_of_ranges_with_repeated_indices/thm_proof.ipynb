{
 "cells": [
  {
   "cell_type": "markdown",
   "metadata": {},
   "source": [
    "Proof of <a class=\"ProveItLink\" href=\"../../../../../_theory_nbs_/theory.ipynb\">proveit</a>.<a class=\"ProveItLink\" href=\"../../../../_theory_nbs_/theory.ipynb\">core_expr_types</a>.<a class=\"ProveItLink\" href=\"../../theory.ipynb\">tuples</a>.<a class=\"ProveItLink\" href=\"../../theorems.ipynb#len_of_ranges_with_repeated_indices\">len_of_ranges_with_repeated_indices</a> theorem\n",
    "========"
   ]
  },
  {
   "cell_type": "code",
   "execution_count": 1,
   "metadata": {},
   "outputs": [],
   "source": [
    "import proveit\n",
    "theory = proveit.Theory() # the theorem's theory"
   ]
  },
  {
   "cell_type": "code",
   "execution_count": 2,
   "metadata": {},
   "outputs": [
    {
     "data": {
      "text/html": [
       "With these <a href=\"allowed_presumptions.txt\">allowed</a>/<a href=\"disallowed_presumptions.txt\">disallowed</a> theorem/theory presumptions (e.g., to avoid circular dependencies), we begin our proof of<br><strong id=\"len_of_ranges_with_repeated_indices\">len_of_ranges_with_repeated_indices:</strong> <a class=\"ProveItLink\" href=\"../../../__pv_it/theorems/3c76f41082b98eb1d2faf4664fd06748f605ac8e0/expr.ipynb\"><img src=\"data:image/png;base64,iVBORw0KGgoAAAANSUhEUgAABM0AAAAzBAMAAAB20+KxAAAAMFBMVEX///8AAAAAAAAAAAAAAAAA\n",
       "AAAAAAAAAAAAAAAAAAAAAAAAAAAAAAAAAAAAAAAAAAAv3aB7AAAAD3RSTlMAq1RmmUTNIjK7EInv\n",
       "3XZ/CtNrAAAACXBIWXMAAA7EAAAOxAGVKw4bAAANPUlEQVR42u2de4wTxx3Hf7bXZ9/a53Mef5AU\n",
       "pUYpCDU83IRDJarAFUdSBRG5jdSG9EpN74+orao4atXqkhRc1D+CChwJQuRQW20eigRIdz7SVCpR\n",
       "kgtRFAiFHPSIkjSuTDiBUFU4kVxAV5XrPHZnZndndn2PGpvuT+LYncfvO5797Lx2xwbwNX3/fgMC\n",
       "C2y6ViNAbZOTuetVxOeCq9TEto/i1To5ubMWzvLXraChbHCxmtjiH5sHkQbn7EviSYz+V7QniQlR\n",
       "bitKQ2O1lyDm5ed6q9eWX61XnFKwR9oik7GLLW4OziIF8SxBypHK2NN8iv9Eq3IHzsSmqZJL7FP6\n",
       "3wav6OumXlt+pZ6ifFORM11sYDIJGyyJdFNw9lTRzdld5HjtITMwXEYfNgdnxYTaa9awEycedTjd\n",
       "jiLP+gjb3EN8L6Syyui6q0Ot2X2KJy0f7ur85BwuYKtBcpx1cwZ/awrO/gEuznTSxCXmHDYDX8YF\n",
       "LEOLOKEZ3GbeqCTx3+1zn1sfQ0lbvOc/dveQQm5+ooyut7qf8ezexZOVD56/bwJ85Rwu4BzNQWQc\n",
       "nC0ymoCzyJCbM43ca8n5e83A1WZScUZ8eL1ZsZpwY0at40uGI7nbXO4BlnlF+6s/BLOm7mc8u3fx\n",
       "5LWTmvCXk7hYZsk4OGvJNQFnybKbsyQ5/CG7Qy0U3xPqbII5EHKHq8KVFpNLzO0ekoZXtK/6Epg1\n",
       "dT/j2b2LJ68dwpm3nMxF0vpYDs6iV5qAs0uGm7MF5PB1Vj/WTKFbSDdsHS1QctbtKex2Dy1Zr2hf\n",
       "dTtnM1L3s9ehtuLJa4dw5i0nc0FydLs5g41NwNlJcHO2Fh997fitVsONmrx+3D0M8t527kmrn0CJ\n",
       "9dGsjLNBL127e+g/I8ycpqlu52wm6n7Gs/sUT147hDNPOYcL0C+mzRyDEs6WGg3PWfyqhDN6a14T\n",
       "76NyFzpYztO1s3k8SpyIDsk4W+6pbHMPuWTWvsQyDXU7ZzNS97NrUFvx5LVDOPOWs7sADd42cyyX\n",
       "cDZQbXjOQkMSzk6RxUBE4IukLtoyEM/chyc2PN3mEui0ZlHiLVpBxtkiz9VN0T2kiu3ob3hIjNZf\n",
       "u8lQqx8YvN2pbufMT527d6v7WYzfnYriWSatHcKZt5zdBZyHy2aORRLOWocbnrNkWsLZO6RWxiB+\n",
       "kXyAZB50OIEOeoWmGmDHv8gRSmwkcQ1qlconxyuVNLvSvV7CNvfIP27742NitAbasFo9B+ts6usq\n",
       "lb9WKiehZnXu3q3uZ2GeVFE8y6S1QzjzlrO7ACM8YebolXAWudLwnPVmVZzhkWiYgYA/J3TZB8KL\n",
       "WTUsNWTtWZffQJe7B0JNdEiMbs+TZkOhPk5veVHd3p75qQvuXeq+y2fDImfSyhEgcdUO4cxbzuGC\n",
       "3BMkR5eEM/2zhufsUlHVb7amLRBw19KSNviTNGTPMM5w4o26jLPFXsJ293QtMzwsRkcMAoJC/V7K\n",
       "mahu58xPXXDvUvcznH31jlGPyln29Ys5Ze3QftNTzuECrwTTHIslnMFbDc/Z70HC2R/JjVq16qIV\n",
       "HQ3k0Qddgc/ozXmCXUmUWB9PyDgTktvuPnC7h9i4VVM8mjYbNnXzip1gt7yobufMV527d6mrjWV/\n",
       "sSubLCorR+94G95V1g6dByjkZC7QeC1v5lgh4+wPDc/ZURlng9YnoyDg+XRvLGvOsL8A68JQzgbx\n",
       "wOHnjpp8swhC8oGC+YefOdxDZMxaY+DR5DmlXZ1GEnX6PoyozjirTZ27d6izdF7ZnzgH7YaycmL9\n",
       "BZhQ1k7iilpO6gJglZVjrYyzN03OyOjvTh/OQqQs9X0ZTP9cxtl2ayRKQYijv6F70MFpfFYxrIEw\n",
       "5QwnvsWxQnTT+xuzQvI23P6TPyP44GO3ewjttG42Hh3b61KnkUS9x3CqW5zVqM7dO9VHbBkU2e+g\n",
       "IzJF5YSqdPwlq53Q3C9uUcrJXcBtVgFPyzhblaecrcEnj/pwpuHELcW6cha/JuOsDY98vsnHEB+a\n",
       "s3lyFsb1oKUZZ20lyYq3I7ndvgpu96Qj+7U9+hfwK5c6icTqsVys6FBfAlNSF9w71T2MZT8CnXF1\n",
       "5SRLWq7kVTtKObmLE2YOIuPirLdKOfsNTrHTh7M4vnY99e02w5dlnEVyEE7/iINgPvKlD3TxYGNe\n",
       "S4ZxJj5AjoqtMU/uMDyktbsPZVbh2l1ti4499/QDLvWypd7z9G8Nh/pDMBV17t6p7mks+xh8uFBd\n",
       "OZuhbUvJq3aUcjIXN0cmzBxExsXZQI5yht/mSGT8xmf4vY+D9eUsclXGGeyBtr1owBD787/JLdhK\n",
       "G1l6D/Sjfx/hl2GefOwNoInlxpM7+mrk0+G+N3OK3YksOjk5OeZUx5FU/f3JyZmpc/dOdc+BhpU9\n",
       "moZ/ZtWV821IveJZPqWcxEX8Mp7Vkhw9IOOsPU05i6AStfjOA3AvX6gvZ6krUs72QWRU6MD1nUKV\n",
       "4ZpZeb+QZZ/CN0/u0MR1YnevjebZFZNEc3c48n+u7llhzuw+laMsn1JO5uLBNVaOPXLOdprzzeOV\n",
       "yjFfzpKVyifl+nKWmHDWIxlPxBzXZxOJUgwdY/ImIFX7SHMT/e+8V/R1U68tv1JPUb6pyJkuzjOZ\n",
       "VMmRIlkwOfsWwF55Zy9wppWg1ZjSbJF+OKKqmQOuonkuxIPi1sa5JiCw5re2YZOzxyEmew0kZ+MM\n",
       "JXkcH7/EXvHUO93LHEJYosqng600qIPPgFg8kEfemjXPWZuPvGWlCI0FF+lG4GzI5KzVsPWpsZFX\n",
       "4RtpJ2eoyXsVH+96mHXiHSV3xy4JY5zpaSnL+JF3FDWe8TN9+XD6EDwQcHZjchau8mnAjtt2w7yE\n",
       "oRkuzpbQaQDvy9ol3Wi7vGulnGnuxwpkmIqXINB0thMhGl6p8f466DdvrH4TCivZpUVjNbizmkvA\n",
       "nzpHOvMiZy0R3NHNO2atgITnupc5hLDoGdKEjWY4Z23snMUzzg7SvVzhLd+rMs4SV7yKX6whRDF0\n",
       "hSlt1Q1sZsbmAXAQtSb0ET/Zgbdw/qaEa3wGiQUG2J6HrpD45GH9pGnT6BvqlLNfsnMWzzj7Cp1j\n",
       "h0uH5jPOUle95vAZ/xCF4f2sU9iqG9gMOUtb3DyFjsgjfrrcsjDxwvfdnMXI+FzjoZ0SnzzsCbIg\n",
       "vz+R45ytZ+csnnG2ni6Yh0taipEc8eLsLnnIVkfHnco5UlnbdM8GANTJ2nMWZyE0MiKP+OnDh4WQ\n",
       "u+DmDOYQYrLmI140I4DokjUOn7v4IXljxNw4QzmbR8+39iEronitr+9o3y7K2VZYjkIz4ZJeLrBe\n",
       "eNxj1aQgDznnHBzY1/z4Nt0WIyCgPjZQtvWD+BF/5Md9fc8izg7giUHZwRltBEuwxfwOmCOQhAGH\n",
       "zyP8ik6QmWd7kXO2lZ2zeKHf/B1tz+A7rEeLf6YuvJb1DxHNtU3XZ6tuYLNm1nN0hkhnPF6m7Vl0\n",
       "ib1R4JwNoMuEODuAQUGD6W2gl9EJ+UPDImvuLuP4cCGHQlEC2zzAPMdEFXIiZxfpKnAkDym++vG5\n",
       "R6dfQ4ho7m267wUE1MeWZkTO6CN+0iV2AJxRcYY5QZxty0AcL4vshvhh2FaMv4v+0LDwBRjG8fod\n",
       "RRRlOqKc4WdgzDGKNzkjj7z3QAx/o972RwE4Zx+oC7+ghhA1Z93gt1U3sFkz8vY944w+4u9BnVn8\n",
       "gyJ9rVHG2TLKGWRIx6PhJS8WR8PmxArkGEhUt8AZXoztlqyfAX3ee6Cvz7HANlddePzm5obbn7xQ\n",
       "tYWQHaui9a+WcjYIPlt1A5s9+zKA671t/S99uyUrbez6PzuHchY1Wuchxg6lAB5hywU0bDjVYaBj\n",
       "HPJIy8NDAmdwv3XOzBokadK1r1WOsfq6CjayPQ3zWn6mqvMlNrZjVbRyl5Sz5eC3VTewWbOjEs7k\n",
       "xjl7A7UfO46hhgsSF9GcbfI/AGz4TcP0dPgVfIwtq40aImeJl0YVs7wO+QhSvSJ2CnGd/0jcE8t2\n",
       "rApGN8m6OVsEPlt1A5s1i12bBmfT1TL/V64lyCOS6m95eAcRrY/TzYl0dwTbsQr6z0i7VwJzk6x8\n",
       "m25vgEBdrAn2CWtDXpzh/RAhsmg2YoXQXdyChSek7VkX+GzVDWzWLNT433sQHVeOz3AviSBrzxpi\n",
       "v+lclqWbZN2cLQafrbqBzZrRL31p7O+lGlHG4KcNyTIsNcpiCN36KBjZJOvmbAXIH88GNvtGJ3ON\n",
       "zdkq5YAOr0psLsG5SEkMITtWbTOJmPPrx9g23bUBAnUxOixuqu8NFQzvT/0BwPN320LIjlXb4OAe\n",
       "x/iMb9M9HSBQl7FPM3xvaET5pqO4xVUIOaFK79qmGxsOGKiHtaabgDP4qZLAnCTkZjWXrm26WvCD\n",
       "PnUx80uZG5yzbcp3ZN1bXM0dqzVYD9R9b/3/rZ2CZuAspSzePknIg2tq87oH1FuxA5tVa5Lf3bH/\n",
       "jphtjFX1D1HBW5zSVt3AZmDfhalwdu91+53XlkxwrZrY4vQHfPT9/TVxFvzOa2DTspdp+4R/5/W/\n",
       "6xiseFhhP9gAAAAASUVORK5CYII=\n",
       "\" style=\"display:inline;vertical-align:middle;\" /></a><br>(see <a class=\"ProveItLink\" href=\"../../../__pv_it/theorems/1a56f8aa5d9cc1757b061a18f42f0d72a51bd8b30/dependencies.ipynb\">dependencies</a>)<br>"
      ],
      "text/plain": [
       "<IPython.core.display.HTML object>"
      ]
     },
     "metadata": {},
     "output_type": "display_data"
    }
   ],
   "source": [
    "%proving len_of_ranges_with_repeated_indices"
   ]
  },
  {
   "cell_type": "code",
   "execution_count": null,
   "metadata": {},
   "outputs": [],
   "source": []
  }
 ],
 "metadata": {
  "kernelspec": {
   "display_name": "Python 3",
   "language": "python",
   "name": "python3"
  }
 },
 "nbformat": 4,
 "nbformat_minor": 0
}