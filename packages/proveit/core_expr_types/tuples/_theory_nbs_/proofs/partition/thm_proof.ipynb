{
 "cells": [
  {
   "cell_type": "markdown",
   "metadata": {},
   "source": [
    "Proof of <a class=\"ProveItLink\" href=\"../../../../../_theory_nbs_/theory.ipynb\">proveit</a>.<a class=\"ProveItLink\" href=\"../../../../_theory_nbs_/theory.ipynb\">core_expr_types</a>.<a class=\"ProveItLink\" href=\"../../theory.ipynb\">tuples</a>.<a class=\"ProveItLink\" href=\"../../theorems.ipynb#partition\">partition</a> theorem\n",
    "========"
   ]
  },
  {
   "cell_type": "code",
   "execution_count": 1,
   "metadata": {},
   "outputs": [],
   "source": [
    "import proveit\n",
    "theory = proveit.Theory() # the theorem's theory"
   ]
  },
  {
   "cell_type": "code",
   "execution_count": 2,
   "metadata": {},
   "outputs": [
    {
     "data": {
      "text/html": [
       "With these <a href=\"allowed_presumptions.txt\">allowed</a>/<a href=\"disallowed_presumptions.txt\">disallowed</a> theorem/theory presumptions (e.g., to avoid circular dependencies), we begin our proof of<br><strong id=\"partition\">partition:</strong> <a class=\"ProveItLink\" href=\"../../../__pv_it/theorems/b6f8dbcf5231174bc4b872c07e9ed10fbc2499160/expr.ipynb\"><img src=\"data:image/png;base64,iVBORw0KGgoAAAANSUhEUgAAAzkAAAAyBAMAAACNEwh0AAAAMFBMVEX///8AAAAAAAAAAAAAAAAA\n",
       "AAAAAAAAAAAAAAAAAAAAAAAAAAAAAAAAAAAAAAAAAAAv3aB7AAAAD3RSTlMAq1RmmUTNIjK7EInv\n",
       "3XZ/CtNrAAAACXBIWXMAAA7EAAAOxAGVKw4bAAAKM0lEQVR42u1cfYxUVxU/82ZmZ+bNzuyojdqI\n",
       "MihQUqqsEUibWBjtUhBasmkTDQXLYmtI9Y+OJpoQ+Rj9w2QjuGObBodU8+gfVIJhBtL+IVq6pTGx\n",
       "WuhSkWjj2ulHJGqkZFso2T+o99yP9+7XfFjSmfvHnuS9vfedc+7Xeffcc+/7zQL0n34Oc6TT4cCR\n",
       "hsSG54xhUPoVRxryCTWb0tMpm1LKXlaquyqFWJlfDtJn3WhGfEzNv66nk02L1uv2wqyyrbXv55eD\n",
       "lC040Yyd6svrNfCe+G3A0/kSvCHzFY5K+wjnjQ61bTjBtQ+fJon8MLtcpD870Yp/qNlD9H5sb5Gn\n",
       "cw0YkFdIhSOTf8PDRG6g/Wqa/fgpUceDePsWvxykW1yIC+KTav4Oej+1KQjTEJcnicKhdK9IvBVo\n",
       "siYNLjogtGfwtpxfDtJAyYFGDKozAKixkrNRmtAfpYVF5SB9TraOLGuhrYHQZgUNBuxykJLvOtCI\n",
       "t9Sx8WiMkJ2K0oQekFyTyjGt80Db2p4JtbPUwAPD7HKRtjnQhrNqNoFTKT7vbImnj6IXOhb5QY1j\n",
       "WudYu8o+f/oGUcdAwXsqoJGRI9GRQcv6P6fTVzVvS1/koaZIN7aQxMqIr3FM66xsW921sI768Kd3\n",
       "DtNwnoX0d08jnXXIOvVm35sQ04KCHEZksKfC0+ninRi+RHyNY1rnlra70KthHcu+V/xxGTxSvTfp\n",
       "5tzJTPU/KNDcyuAondQi7cMZkpiQprvKwVf+RfHKU+tMtKvNuxTWcdetdOpeYpeLFO9/WDAxbLPO\n",
       "M2Haw9Bqi7asRxxz7mxpu92ZCus4P4KzMDnJLhfJf7v/IVvZ5tl+FqYHCoFy5qRxTOu0PZ/KFIS2\n",
       "P5NEL+dNscvFdQee63sLHtfHjy6FZ8J0fZQEWLdhjtlC45jWQVnfrIdpDzaFdnzWn8mTP1V2OUm/\n",
       "6HsLXtB9D77dqctheiJFXN8GHPErYOEo1nkW5yHK1sf4jSqFCRJTjArt2Jh/NcuC60TDUes8C0Dn\n",
       "+mf65lvf0SPsqXDxpunYF0jiL5ibDiwc2TofemnbMJPN4ceRHG6MzokE1eYxBWpnivDmvwlvlF1O\n",
       "0upRWIN/t/dtu3NNf/JX3C4WojROGHY+EJgcde5Esjeb0Rq1zpd07V38cpImmvBD7FLfPK83oz9Z\n",
       "DrBgoBim6fkBdWHEDxkcSvcqZw1U1vRVqO0VvqFr3wHqiapTVC/RI/dssW8x/VUjrCrD3w5FaaQd\n",
       "9H6UXDrHJCrrm7ts1M4dGNO08bVMuRoUwFAB4ngO2LcG5I0dl1+FVWujNNJ+escR1zkmUdm8+Ry1\n",
       "42+WNW00U6bsrHVIM09PT/+pbw3IzhqPduvpvG34drewdndDLbQv8MtNGiRTfR3AgfDBk2ytlmVK\n",
       "bIEg3b5J40j+40kwnImnDlTa9kZDYhbmqBXlSITzHUhhIOSP4Hp6kj3GQ47b+XgzL7CCOIZRzqHO\n",
       "YSUZ2qigk2Fm14bR+HNc43bJZESzxJ39uafhizz2il2aM0Jr60wSvxtkMeDPrKjYTry4dXwymgfl\n",
       "2fTT/wIk5dAIM+nXaqNe4QSs5xqD6k5iM+rd+BgsyAaJYM46XVnHa9KgYCjQeHtAsk6CjPMakJ/g\n",
       "eZaClyCZEWJgb1WCBrSosUctkYSHiXW4922WsnOerTvPBmOrcJWYd5zc76cO5+iX8X5b6j+RLXLk\n",
       "mhKc0DrHRTmod5xhj7wffa3Z4BqiCF4mCdwpoGnJot3COlnzlLyHaENrCNEqrrh+4dbNtaMeMSqA\n",
       "43QK0NPDJn2VS4vx/qnv/roc2uL7pKQxwQmts1AsQqi3EA7TYKByYlGDaYRF8DK9Egtll2Sf2Cxi\n",
       "LGO/00u0oQ1omG+197tu4Ta9sKMe6bevnXTCjKApn8C55AdP4YMzxXQ0dzaRjlcFJ7TOJvEKoN4m\n",
       "tmn3Kol8lfNEEbzMZDVJd/JLoPSvlrvRXqENAcYDFWhIWbCUsbQDp1d0VGJr4dTIQ5WOEMawF/7j\n",
       "OOR21OMQdjBGw4FH6e6MvXqIa0m9s05aZRbgOQjlJGq1F2qPMuuMQ7pGaD/VG4eVJF30Kn5jjGnQ\n",
       "IsZRokzLTFfjD9VqjxDrHBH7X++y3qSeoQ3hn+rCyVj+GGfJdPDOWehaeAdkL3eEMEa9YLA1K+qx\n",
       "HnXwDzT/K5rGxSBe/Xoqss44ji3nmJ6N6i2En7C5A/c0mUZYBC/TK6UbbO4kxcll2vj+1zO0oX5c\n",
       "x1gJ+Q1Oikx+tnvhjwG82BHCGPViqCgastxyCirevFnwG7A4AUfIkE2Se6y5L2tEBYQjW+ei0CZ6\n",
       "JJPBGsmuKF8gRRGNsAhgmvkm2/eSndBr4rn+BaFnaEM2yIHOGlS8bFO2TpfCLwUwv9wBwij1gpcU\n",
       "WFCPy4rS6KVPwcELQKZcvkDumXLs1sg6eBi1H5DDn/zg4ZPiAAyn/gXMpPBnUvu2AxRIUUQjLAKY\n",
       "Jnm0g3jR9PkyxMTz8/qyQ51FD9CGLMYf1liwuLV1uhT+JMD8SgcIo9SL34UNMVSir/roETyaKlKx\n",
       "KBipir3mZlFA1XYUiZkjtRrff3rqVpVpkpjO/03tMeX5PH257BXa0L+oAg0Zi32GvViwWadbYYBX\n",
       "O0AYpV7ANli6Huyox/kikVlAXur7qB2Cb+7Fu2odWEsKKyMnPHnDB/KwKvH6fVQjIqq51tLQ1dp0\n",
       "7hnaMAHPq78duhZOU8oyrdOtMP2kKAtbTp/DXvhvezfxhhgq4Vf9LC4hdGDisHE93jXrZEnPTyBH\n",
       "ohUtM1hUVh53WqbtC/GEtmPoGdrwAv4IQQIaMha8LFimdboVhlyhE4Qx7AV4796T3g5W1GPqWhc7\n",
       "Jj4nAhPqErTMWJ/41iCqX2jDAPFwEtCQIxZ+L1iQmJ7+++np6UJonW6F4SvQCcIY9gISz1ND2VCP\n",
       "DqANE5M26/QAbQiJKQVoyFh0wCnLnDvdCscL0AnCGPUi9yDdVtpQj7H+I3WTl22e7YNHG7LNrDel\n",
       "saizCve5mmfrUngppMqysIWiXtSLWysgox71xam/dE4bP9qkDx5tyLBtFGjoSyz4pWBZooLuhMmO\n",
       "Ox/IwpZ2RL1YHdSLTTvqcXXQf+tobegV2pBULGJaKi0G+ZhgKdahR+ldCu8aGblbEqY1a+2QevFR\n",
       "qFcadtSjC6hh7ZeJvUIbAtwIHGhIpTkL9gmWPOCxeVc+0rXwq++9d0UWPgdGO6RePAL5jYEV9ejE\n",
       "LxPj2ve3nqEN0bswoOHNEot+mj8DxgbzOoTNdpi9sKAeM078JO/barZHaMMP07eCHTc0JFa8xFnK\n",
       "Kah0Pvv/ClvaYemFBfW4NXDBOnvVj4K9QRumZzBgYkBDlA5ZsJ+xLDvZ9ydsaYfZCxvq8WUXjAN5\n",
       "tVU9QhtuXBOOTl5mwWHGskTj70/Y0g6zFxbUoyu/Ndb+i1EP0YY2oGGq1S7juoXb9MKCevyqG8aB\n",
       "gSLMkU5pZ/4/zNx/zzPpEI0J/gd/Sa5RaafA/wAAAABJRU5ErkJggg==\n",
       "\" style=\"display:inline;vertical-align:middle;\" /></a><br>(see <a class=\"ProveItLink\" href=\"../../../__pv_it/theorems/a781cd66d3756d235d4445e7219b393af38e44b40/dependencies.ipynb\">dependencies</a>)<br>"
      ],
      "text/plain": [
       "<IPython.core.display.HTML object>"
      ]
     },
     "metadata": {},
     "output_type": "display_data"
    }
   ],
   "source": [
    "%proving partition"
   ]
  },
  {
   "cell_type": "code",
   "execution_count": null,
   "metadata": {},
   "outputs": [],
   "source": []
  }
 ],
 "metadata": {
  "kernelspec": {
   "display_name": "Python 3",
   "language": "python",
   "name": "python3"
  }
 },
 "nbformat": 4,
 "nbformat_minor": 0
}