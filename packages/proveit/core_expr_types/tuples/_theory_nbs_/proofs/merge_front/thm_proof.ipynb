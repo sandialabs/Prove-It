{
 "cells": [
  {
   "cell_type": "markdown",
   "metadata": {},
   "source": [
    "Proof of <a class=\"ProveItLink\" href=\"../../../../../_theory_nbs_/theory.ipynb\">proveit</a>.<a class=\"ProveItLink\" href=\"../../../../_theory_nbs_/theory.ipynb\">core_expr_types</a>.<a class=\"ProveItLink\" href=\"../../theory.ipynb\">tuples</a>.<a class=\"ProveItLink\" href=\"../../theorems.ipynb#merge_front\">merge_front</a> theorem\n",
    "========"
   ]
  },
  {
   "cell_type": "code",
   "execution_count": 1,
   "metadata": {},
   "outputs": [],
   "source": [
    "import proveit\n",
    "theory = proveit.Theory() # the theorem's theory"
   ]
  },
  {
   "cell_type": "code",
   "execution_count": 2,
   "metadata": {},
   "outputs": [
    {
     "data": {
      "text/html": [
       "With these <a href=\"allowed_presumptions.txt\">allowed</a>/<a href=\"disallowed_presumptions.txt\">disallowed</a> theorem/theory presumptions (e.g., to avoid circular dependencies), we begin our proof of<br><strong id=\"merge_front\">merge_front:</strong> <a class=\"ProveItLink\" href=\"../../../__pv_it/theorems/17ad03cca49b251dc7d1ab8241f58f920d51a2730/expr.ipynb\"><img src=\"data:image/png;base64,iVBORw0KGgoAAAANSUhEUgAAAlUAAAAyBAMAAACHRjNKAAAAMFBMVEX///8AAAAAAAAAAAAAAAAA\n",
       "AAAAAAAAAAAAAAAAAAAAAAAAAAAAAAAAAAAAAAAAAAAv3aB7AAAAD3RSTlMAq1RmmUTNIjK7EInv\n",
       "3XZ/CtNrAAAACXBIWXMAAA7EAAAOxAGVKw4bAAAI7ElEQVRo3t1ba2xURRQ+u3v30bvd7RqJ0djo\n",
       "VgWJCNQoxCYqq6AiKGk0MUEqFMUQ8QeriSYoQv1jQgJ21RitUXPxB0ow7UL0h++KMVG02mIhvtYs\n",
       "j4SoUUjl0fQHcc7M3TuPe+/0dn/cTT3JTmfmnHN35tszZ+bMuQUInV6DaUe7rcZ8b6R9+mGV+qUx\n",
       "33up3Eyq9aSXUhImYQXvV6nIxf1V5jYEqli33D6q1uNVDy0mpWG5yVPYTdk8F/dXSecagdXmotSM\n",
       "lrE0PrbserYAx0Q+50DqdR1Lph2EdWySkSz/CMs5xBsNYeUY6FR+bARWv8vNXbTcuz1v1zNlSIiO\n",
       "lHMg261jiWTO2EgEE3qHnL54P4qi5jpsJ7Qq1zbAu8cG5fZiWu5faTl1iBUEvsTRsSjdV6uctBRh\n",
       "NzXPRGM0cKcZqz3bXyVRCB+r5rLcptDFJ3id0AHB6cgcHQtpnoiVKOxBa6ilNPMnHdCpxM+Fj9VJ\n",
       "2ZajdPGkh3md0MPCQpE5OpYbq4e1I/mUlrPwSYPOs/1V1oaP1YjcNNDMYq0jBbvej0tqL1+xnAP9\n",
       "R/QsN1Z7dQO5bmgGdfC4vnLR9y0m7q8yP3SHlRpX3AA9mLZUa/VyF6ks5HzOgUJzu5blxmqhdijn\n",
       "HWMaaL9is/1sqmJUKMnHhIFq2FhFFNeeoaebrT12PZW/A/ccznc4kC225LUsN1bX6kaSZL/aQTSZ\n",
       "J/PPF5m4v0rTcOiuXTnTNXdS+67VTfieVHoFy3ekTLoKNCy4p1L5rlIZ4Vj16kYSPUX/fEU+d99I\n",
       "q71alVjozr233QurT516FLekLtUBM6l79Cy3XXVpj1fDDlaHl1AT7dKqmP+Gvg0Wvdbgi049kbOk\n",
       "4OtFQepX0LLcWGmDuKZcbQ2aY/HxWsw319dfwRdhY/WGOmLqMb936gOdZF/rwBbbdjgHkmdAy3Jj\n",
       "JQhLFsIMkvnqt8jqmjDHsrZ4h//Q3wwbq2+8YlJ7qljvTbazfdw8CzIHYqdAy5Kw+rwoCg902wVv\n",
       "wdZOFiiR/abbHE/b4sv9h/45ALW0K0OCyjytniGGuZvFeuR6UjmErYolcyBS0rNErC74YW27IJzB\n",
       "kxgtRrHyC98aYAcxzTwc/9N+9iH/sS/qhNvx7/qwjlfn1Z6f0D/keB0thh3ILYWDi0bDku1KeY5M\n",
       "12Bxq+0we0TxpOZg0FuF51CsFBJW0TG15waAtkTeqUMtnAVcFQInkl9kaVly7Cw/RyHiEqO5h9Ro\n",
       "HMUNzZ3tQIFeQ6TzYd0yjLu2oyL8vIvXkTbRsp98BE5v/qCe5SYurDgCYoWZ12tx5Kui+CbN2Fty\n",
       "ECNQJsJy7VnXgc4swS138jofPS4rgWMc79Sz3MSFlUHgj3a8dnjZLYq/qsOKjG6oUvk2LKzSE66u\n",
       "LWo9W/RQZFIalsfvUgw0pGSVi2tVmoklLgXgN7DvMBcsyrAFHZUeYxazbr/Nq1cTAYHDf1pjAqYt\n",
       "ZYjffxySuKWYS9CvfcY3h5vtKbKFsYB3oH1UbQghOfoB3JSTd5RYJwrYqJLI3eCh86lpjBUJ+5us\n",
       "NK73pgU9XqGajZWZ4x2MVpHPC5e8Am1py1C25Z2CRb7wN0C8/H/BKlqlrr1FPYdsBQEro5N32DdP\n",
       "FhhL8RhbLajb8u2iJkZYG/4vaxC6b0F/1LqPlKvpauq/DcuO5F98xhmhgxjKEXrOoBmi2TO3pLkS\n",
       "pWEqIGC1z1m77ouNqeRSXRTMfTvaxeAq3r4d9tGfvYOePOjvXsBLaLjsifeKzoyfEjoILsQIowW2\n",
       "xc9Ov72qpnRXH6H2ZDcVELC6ytmbXOerKeVSXbQ62DSPCuKr68YK7WgzNaYliP/baGem9T6N4/Mp\n",
       "blcrhQ6ApwkA8VKcHnJnQ+EPrkQnW6ICAlYr/c+iwXOp2YKy75KwLjvJuxGOtvkGzgzFs/W+TtGC\n",
       "3x+hTv1lfkVCL6GTp5cKXqfN7tiGllPEm4xUKfZoX99LBKs9CUeJTT+HVx1GX983fS8zrLY5rDPq\n",
       "CILnUjNytmznHROiJ/Qmrs3yexsmV/GPcfj3f03b79I6epVY6cEkx2qb0EGMaKKHrMFUmdlVfF5N\n",
       "ia3BVIkKeK3BlOtycWq5VLTaml1kJ3gI6Udcm93I3zC5ii52dqYPZhlmGbCHzGiQlJHqjrTk250O\n",
       "TMoVIFtlR1hy8DpiK3HfjgICVv84LPVOZqq5VNy2RayaLd30BG07c2pNpuJP852gmUw1tR92ngBi\n",
       "tdkcKZuKkRs5ViSsdToIsJdhEzYR40kdLkLEVuKRFQowzWc2fiaGWYdVd9XN776D5FJVrBJa7yNo\n",
       "f8IOOu2TqQS5/kbDj9Janj6N3zxQrOJlVZXEnOaHfa/Yrbw4hFWiJo+JkVpV5xs4l9q/2Asr7bs+\n",
       "Yrp1LcxZxsTrfT3ocudqpI3YyAMUFeuR7VjKWMGdqqrUwZQcAIpiJMnbeLmoLIDgudRylxdWsW7t\n",
       "1uVom/9Gr/6SietVAlx/p9Gl0HHHYMUyLBWs0sokY1LAw5Qc+kiWXSA4SOWmLHAulXFcWEUHddPj\n",
       "6dbouXtT65m4XsX/PHs+gJBtFApWpk5FYVrKgc4VdAbIpTKOUan8NmRnoyhWKW2AydOtxpcUNhRP\n",
       "1ReThp9LNQa9sAqSS41OeNlVXGskXDuzjp4WUTxen11FQs/Rx894rcEguVTKca9B7Qy49kB+TY8t\n",
       "Hq1v0i3V0KP1UbkZPJdKOW7fXvL2B6r2ImsgX2XisfoSMYus0LFSvjJ4LpVyRKzonQU9DzhZUidV\n",
       "6tK+CAZ6ykzcKNc18JHwb4GUdyCD51IpR8Aq0nr2QrK+0N/R5OhozWppzlTVfgmyKywmnumsy3k0\n",
       "4B3ImHLbFzyXqp7bKT1Ly2tcX+Oj/ayjMlVqasQL7o/JzaC5VHfsLITe7lXlo70YlBeXA9MaqwFY\n",
       "bZcvJoPmUn0OiCwZ4N6ivLVRvM4c+8FGXFtn5bEGzaX6rAyKgjv/5qON4k11XSI35n9M1P9dmkou\n",
       "1UUngn3lFkH8RF2Dvr8hUEEiD9OOUhsa9MXT8H8td1HP/h/qB+DtvOlxdgAAAABJRU5ErkJggg==\n",
       "\" style=\"display:inline;vertical-align:middle;\" /></a><br>(see <a class=\"ProveItLink\" href=\"../../../__pv_it/theorems/a56ae50685107542c16df2073e1dd12962e3186b0/dependencies.ipynb\">dependencies</a>)<br>"
      ],
      "text/plain": [
       "<IPython.core.display.HTML object>"
      ]
     },
     "metadata": {},
     "output_type": "display_data"
    }
   ],
   "source": [
    "%proving merge_front"
   ]
  },
  {
   "cell_type": "code",
   "execution_count": null,
   "metadata": {},
   "outputs": [],
   "source": []
  }
 ],
 "metadata": {
  "kernelspec": {
   "display_name": "Python 3",
   "language": "python",
   "name": "python3"
  }
 },
 "nbformat": 4,
 "nbformat_minor": 0
}