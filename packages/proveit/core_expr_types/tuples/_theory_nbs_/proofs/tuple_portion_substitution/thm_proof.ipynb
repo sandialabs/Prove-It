{
 "cells": [
  {
   "cell_type": "markdown",
   "metadata": {},
   "source": [
    "Proof of <a class=\"ProveItLink\" href=\"../../../../../_theory_nbs_/theory.ipynb\">proveit</a>.<a class=\"ProveItLink\" href=\"../../../../_theory_nbs_/theory.ipynb\">core_expr_types</a>.<a class=\"ProveItLink\" href=\"../../theory.ipynb\">tuples</a>.<a class=\"ProveItLink\" href=\"../../theorems.ipynb#tuple_portion_substitution\">tuple_portion_substitution</a> theorem\n",
    "========"
   ]
  },
  {
   "cell_type": "code",
   "execution_count": 1,
   "metadata": {},
   "outputs": [],
   "source": [
    "import proveit\n",
    "theory = proveit.Theory() # the theorem's theory"
   ]
  },
  {
   "cell_type": "code",
   "execution_count": 2,
   "metadata": {},
   "outputs": [
    {
     "data": {
      "text/html": [
       "With these <a href=\"allowed_presumptions.txt\">allowed</a>/<a href=\"disallowed_presumptions.txt\">disallowed</a> theorem/theory presumptions (e.g., to avoid circular dependencies), we begin our proof of<br><strong id=\"tuple_portion_substitution\">tuple_portion_substitution:</strong> <a class=\"ProveItLink\" href=\"../../../__pv_it/theorems/410ebfa119355c29c123e8f69b521e45064d1c200/expr.ipynb\"><img src=\"data:image/png;base64,iVBORw0KGgoAAAANSUhEUgAABFsAAAAzBAMAAAC6ZhofAAAAMFBMVEX///8AAAAAAAAAAAAAAAAA\n",
       "AAAAAAAAAAAAAAAAAAAAAAAAAAAAAAAAAAAAAAAAAAAv3aB7AAAAD3RSTlMAq1RmmUTNIjK7EInv\n",
       "3XZ/CtNrAAAACXBIWXMAAA7EAAAOxAGVKw4bAAAMkklEQVR42u1dfYwdVRU/+77mvXkf+0zVmNas\n",
       "C2JJqC0bioRW3T5sa20R+gJGBRTWD0LgD3klxKbV2icSxNiym1QCJbFOJQH6QXdpUUmJbVHJ0jTU\n",
       "Z8VoVte8hcbaVpZNsW5TYtf7Nfdr5s57u29W2jIn6face889Z2bub+499945uwDNkb19uwMRvZdp\n",
       "MhDIT0yUoicWRJnqxXpn2yhKMhMTfU3DpRwBIphmXLR3lh5iTDyCS1jUNqDKlQvuDsxXPDeCS9h0\n",
       "jSoWOi+4O7jdWJMtRnAJl6xBVZ7TarzwqllqpD1FKnQZq/4YwSVcytfVVURPqwa/GSA10p4i3WOs\n",
       "+bgTwSVU+pQqJrpaNXgqQGqkPUW62liTKkVwCZUOqWKuVXvJs2apkfZUKecY7Y9HcAmTClp/zW7V\n",
       "YLZmlhppT5VS5iHxaxFcQg1diqp8PY5+Zx2TAxpN9ImWZYVUx4i0tlIln45W6/e9UZWgNHpt8LVz\n",
       "7WzRqHOlE8ElROqtqvI30L+vVDLymKOJXqIKT1Oh/x57XFSpkpdofZpJ6zoTol+tI7A80K3QjpP4\n",
       "/IZhTH/QHNQjuIRIH9bkI2hx9FtI1MB292OouOO5mSYTVAH28df5MDzZI17uw/aL73MCXv7DqI8Y\n",
       "Zv8KuTr3mx8Ibkq043/HXOyAUSlTi+ASIr2kyS+jxdEY7qpH3nTXSkQswQ0mE1TBpc8CvJMerUlS\n",
       "gqDJn3C9MIQHMe53JQJKUFOija8XjU5jxvuLj0dwCY/Sb3vhkuuD/rLYQKfiaVhfNa1LqD5/55On\n",
       "IFaTpPaydcY8QiRPyYZA+D2I/gU1JdoWAUrSPLrYb0dwCXFhNO6djNB0v0jqNiouNMOFKtxedDdS\n",
       "0GvP4YKluGPuc6K96zNynMH82udwNwc0Jdrxvu+hgY26841d6PAZwSUcyujv5RbUD53wwViFdBsO\n",
       "HJgIv6ai9vK6CmvrZ2n9GdjZRfoPV1EJL5dtr2+uXZpNtduRapn7RcNCkq60/d0S7bZjVwwGo+Gn\n",
       "EVzCo5z+HJ9DEKrHXkuQt9z+D3AxPUTF/h5WziWiYP28RktmwE/o646rqAQbHdGMFHMJ19vO87QE\n",
       "LXSyVe4XLYteIE1Vt7w90c69DmjQSwyY73A/gwsZ/D7aDFzaSPTcFYHDZ0QvaQUbUa90vLDqn3RS\n",
       "GHa4uMahYh63eA3Yj/yQq5Cp0/qtz3dRuOAqKllPMIm0KLk/uDZevZP6F+efEH6ze7od0lR1S9u7\n",
       "2uuXVBsMCYvKFC5LsXBXM3BJ4BapSgQOn20XfQMuzyMU3G0xPg9YJasiiZyu4MB7RlInwQSvuh9W\n",
       "SxInYW1c1lb8kqYBbhcka6hf1zW6QwSX7+Ob6GsGLmk8EK2JsOG379GpLzxLcrdlefmahx90JJET\n",
       "nwZmJyR1Ahe3ynr84RWSIieunT4gG5L90qYBbjvSNcQubjR+Irik8IDV2VTsgg+4d0fY8BuqPcud\n",
       "x9j/37l3H8AuXvz7iQlZ5DEnH522HhP11i/fqYuq3MTEmKTIiVsrFCVDil/SNMjtYzCjGjxotBcp\n",
       "XOJo1ks1F+rOR//3RNjwobc8U/Q2WdD62NvlBXN9IUBR1cYnhAGGGrrNBMUZ7X1sZfTq8PCh5uCS\n",
       "Gx7+20CEDb91gycssOr/72u4c0OLBo4Frv16GFw+B4DiZptCqxoEl0QVMs4F0oEJNvs3GZlLnXt5\n",
       "03tzgl15HjyWG1dMp/V8jcFlFVhoXsrSB/YX9O/T7rNbd305/pIEF6S3ajIuHurzcn61k6DsGT9W\n",
       "es1dvGfof5+A9N08FLzbq++WJUSQWlZt768a3YjV80cu+vEzf4DBJeNk1fV2Dovpkc3lWHEvrJC3\n",
       "6Z6AX0zGhcilaBsIqp0EWWN+rKD1oMDFRi/CLF45y6cBK0vyi9mq2V4PRje3vRfhEqunfJ4F3reJ\n",
       "dSf4UovAZd7kIt1c1cv51U6CCn1+rKDjKlzwVtErvPIVnwZuGf+sealm+zgY3aSc82kymma4uJMR\n",
       "9HSjt2uEvIxH8Yp6gXWSJhHEHvhSXYFLKo7mKXvPSTcg2NH9K69hUdg7OtPDSRs/omxft5eTJqA3\n",
       "3NnR3vMPH1Z2/S0VLnk0TJ4bYX0pOGkycsv4BkFNsS1Z9LoR+w/7vSHSBbmdWWkc6sJu9GbtasdP\n",
       "LRHDhR337ayQdWCsuvdjClyys5HWs5VeZtX+c9r7jZdU+KZz1MMJEmX58gYPJ9GfyP4TJuS66mVl\n",
       "12dUuHwbDRRDBRZjCE4ardyyy2D5ZkRdVo9sW7bodRPj5t7yXMsFmJYGQZlpuaILl+8ibi05796e\n",
       "xQ/gcGcabqZwSfBRmcDFwoHvEnC7NFHiHSktSUThJp7at0lP8lPKlsMzHk4y2GdX2eeBS6DXLZVY\n",
       "2fWYCpdbENMVZzOo4KS9BrfsFlaQ7JNtyxa9bpJ95m26Oa333UO/CxIb6k+FzJlp7SUXLm34Xrfw\n",
       "nR7r32hpfQ160zpjVXugR4YLfAjwlz8j9KQMxcSFItx0VA+U8e5iH40LrqOKmEvOW6pHDdcBjaTx\n",
       "p1xUD3EePRx5s/f4ZRw0uJrHParINfKbcARcLsEhUqJITtgI57laVEZa/IgVxIqyG2LR5w6pmzSH\n",
       "y5X64VzraWngSR46NUn9qZAxM61/AKQPGOyz5P1or+Cyr1rwYzq6wE11BS5Ycxw2bU/PxQ+zv5JZ\n",
       "6Byw1fePFFJ2DH5DFTGXg371AlAZ4/BXyVRvHGfoaHr4mmiWF3K9hbkmrK6KXJ9wlNEFgaAdcp0P\n",
       "kF8hgDn9anGZMhkhCEhuiEWfO6RuxGTUq7+ViRAO7rXkoYa5RGEkGxkz09wjRvZS9ZRshJ8NsAPa\n",
       "6huzdDsuXibnECpcYDB9eiHkHaSZq/Te7FTQ3LMDUGP2gxTOqWNhCJlHipSzkHGhxWrnlzB3J2SZ\n",
       "HuKwnmIwVYaB1OpRLAymzyxkmpi1yPUqrn/gxK9WQ928swBgCJvEnH61uIy0GJVCXdcNs+hzh9RN\n",
       "oa4M1coIFMLgoiUPNcwlCiPZyJiZRg5RxejSUUmjl30ENnRmKm3XgvU4Ktx4F4AXLl+46mQXfpgb\n",
       "OpOL5+1BHVNGbHoQNlTwD1p4aQmQuQdHcW+5HDyKOapVoWXW2h5cdv/8E0wPc0hPMWgt7nba79uG\n",
       "q13XLotUPa5XPyXBJVOB9I11AhekiDntanEZaeEeCWKmmTvEjcQhS16fe2aHAJdUKUhsqD81n6ZR\n",
       "kZyKKV/TxcgHNiyi37F5szIfa5/OoIfpaqJIB8QygHL4NynFuCLlEryMOcP+B/z1dIO9M3kTSZOo\n",
       "6q7hkxJc3N23IV7td7Wohc0fxG3N3SFuJI4R2/SQv+W0NFi1r1deXGmilzSFSWWmiXpjZhrZiFTg\n",
       "cmvqywcgaRiNvHBhmlmnLjVi3LOoP2/lT51yewsuR5zRx1z219MNnlz3NG8sNLGqxzV8QD4EWMbh\n",
       "Qqt9rxa1SPCBwuUa3CFutIzfTVwPG1pOS0sOws+krtBEn8CFKkwpM02qj5tC9IMeuHQljjoQh2bg\n",
       "kv7Xblfz3oma1IhxGTSndLmKlEtN/Jdx1JkbW/jq6QaXZa9ymwhNoupxDTUZLlnyjB851Mmqfa+2\n",
       "hs+WOO1t6g5Ro7h4JGl9UdJyWtrOLpw89KTbe0QMyi6j+lPLTMP17KTQlJlmnfPAJXgTeDo+7X79\n",
       "stBNFi6lM7jFZKe5FpKa3awbWTH0tLSVuMtFXhoRg7LLiIKwNanMtJUO268wZ6adF2lpl5RCNxl7\n",
       "//S38Gn0eS9cWktLOwj2aRCJRkQMyi6j+pItaD4zjUw09NTUlJnWFiW9hkl3lD2TUUtpafY5iI8J\n",
       "uFAxILuM6U8pM43Uk5NCCZ/6pm49gkuIlNfGyVbT0uxT0NZzOc9LY6I5MY0p4Mw0bN2QmWZIaiP1\n",
       "+KTQDIhFTgSXEElfGrWclrYF5pZKIi+Nip7ENGGBKODMNCIZMtPUXDbOkHp8UmjOTKM5sBFcwiLt\n",
       "c+fW09JO/rCjKuWlEdGbmEYsCH28gMeSITONtFUz09x6clJo7Obol42FTIvUGSactDQtL61xYho+\n",
       "dBOSNzPN3JacFBoz0zLFCC6hUkodxcNJS1Pz0honppHMNCF5M9PMbclJoTEz7Q4ngkuolNZ+DXMY\n",
       "aWlaXlrjxDRyIswlb2ZaQFtyUmjMTDsCEVzCJe2b3tDS0vRMtKDENHJCWDfbCmxLQeN7b9EveQ+d\n",
       "tMQGq/4uXMN0ZaZ9ESYNl4XRn78Kpq+/+5cwTZlpafqNnb19V/Nwif78VQO6eP/81VN0oMB//up/\n",
       "ulf4Vn8JTsUAAAAASUVORK5CYII=\n",
       "\" style=\"display:inline;vertical-align:middle;\" /></a><br>(see <a class=\"ProveItLink\" href=\"../../../__pv_it/theorems/a5ea664e3c6be367e7cb27beb0bd8f2e1e6a71590/dependencies.ipynb\">dependencies</a>)<br>"
      ],
      "text/plain": [
       "<IPython.core.display.HTML object>"
      ]
     },
     "metadata": {},
     "output_type": "display_data"
    },
    {
     "name": "stdout",
     "output_type": "stream",
     "text": [
      "tuple_portion_substitution may now be readily provable (assuming required theorems are usable).  Simply execute \"%qed\".\n"
     ]
    }
   ],
   "source": [
    "%proving tuple_portion_substitution"
   ]
  },
  {
   "cell_type": "code",
   "execution_count": null,
   "metadata": {},
   "outputs": [],
   "source": []
  }
 ],
 "metadata": {
  "kernelspec": {
   "display_name": "Python 3",
   "language": "python",
   "name": "python3"
  }
 },
 "nbformat": 4,
 "nbformat_minor": 0
}