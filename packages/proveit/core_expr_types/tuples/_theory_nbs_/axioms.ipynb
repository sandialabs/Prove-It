{
 "cells": [
  {
   "cell_type": "markdown",
   "metadata": {},
   "source": [
    "Axioms for the theory of <a class=\"ProveItLink\" href=\"theory.ipynb\">proveit.core_expr_types.tuples</a>\n",
    "========"
   ]
  },
  {
   "cell_type": "code",
   "execution_count": null,
   "metadata": {},
   "outputs": [],
   "source": [
    "import proveit\n",
    "# Prepare this notebook for defining the axioms of a theory:\n",
    "%axioms_notebook # Keep this at the top following 'import proveit'.\n",
    "from proveit import ExprTuple, ExprRange\n",
    "from proveit import a, b, c, d, f, i, j, m, n, fab\n",
    "from proveit.logic import Forall, Equals, And, NotEquals, InSet\n",
    "from proveit.core_expr_types import Len\n",
    "from proveit.core_expr_types import \\\n",
    "    (a_1_to_i, a_1_to_ip1, b_1_to_i, b_1_to_j, b_1_to_ip1, c_1_to_i, a_ip1, b_ip1,\n",
    "     x_1_to_n, y_1_to_n, tuple_len_incr_equiv, fi, fj, f_jp1, \n",
    "     f_i_to_j, f_i_to_jp1, f__x_1_to_n, f__y_1_to_n, iter_ext_equiv)\n",
    "from proveit.numbers import zero, one\n",
    "from proveit.numbers import Natural, NaturalPos, Add, subtract"
   ]
  },
  {
   "cell_type": "code",
   "execution_count": null,
   "metadata": {},
   "outputs": [],
   "source": [
    "%begin axioms"
   ]
  },
  {
   "cell_type": "markdown",
   "metadata": {},
   "source": [
    "### Define the length of an ExprTuple:"
   ]
  },
  {
   "cell_type": "code",
   "execution_count": null,
   "metadata": {},
   "outputs": [],
   "source": [
    "tuple_len_0 = Equals(Len([]), zero)"
   ]
  },
  {
   "cell_type": "code",
   "execution_count": null,
   "metadata": {},
   "outputs": [],
   "source": [
    "tuple_len_incr = Forall(i, Forall((a_1_to_i, b), \n",
    "                                  Equals(Len([a_1_to_i, b]), \n",
    "                                         Add(i, one))),\n",
    "                        domain = Natural)"
   ]
  },
  {
   "cell_type": "markdown",
   "metadata": {},
   "source": [
    "### Range length"
   ]
  },
  {
   "cell_type": "markdown",
   "metadata": {},
   "source": [
    "### Defining tuple equality"
   ]
  },
  {
   "cell_type": "code",
   "execution_count": null,
   "metadata": {},
   "outputs": [],
   "source": [
    "tuple_eq_def = Forall(i, Forall((a_1_to_i, b, c_1_to_i, d),\n",
    "                                Equals(Equals([a_1_to_i, b], [c_1_to_i, d]),\n",
    "                                       And(Equals([a_1_to_i], [c_1_to_i]), \n",
    "                                           Equals(b, d))) \\\n",
    "                                .with_wrap_after_operator()),\n",
    "                      domain = Natural)"
   ]
  },
  {
   "cell_type": "code",
   "execution_count": null,
   "metadata": {},
   "outputs": [],
   "source": [
    "tuple_neq_with_diff_len = Forall(\n",
    "    (i, j), Forall((a_1_to_i, b_1_to_j),\n",
    "                   NotEquals([a_1_to_i], [b_1_to_j])),\n",
    "    domain=Natural,\n",
    "    condition=NotEquals(i, j))"
   ]
  },
  {
   "cell_type": "markdown",
   "metadata": {},
   "source": [
    "### Collapsing and extending ranges"
   ]
  },
  {
   "cell_type": "code",
   "execution_count": null,
   "metadata": {},
   "outputs": [],
   "source": [
    "empty_range_def = Forall((f, i, j), Equals(ExprTuple(f_i_to_j), \n",
    "                                           ExprTuple()),\n",
    "                         conditions=[Equals(Add(j, one), i)])"
   ]
  },
  {
   "cell_type": "code",
   "execution_count": null,
   "metadata": {},
   "outputs": [],
   "source": []
  },
  {
   "cell_type": "code",
   "execution_count": null,
   "metadata": {},
   "outputs": [],
   "source": [
    "range_extension_def = Forall((f, i, j), iter_ext_equiv,\n",
    "                             conditions=[InSet(Len([f_i_to_j]), \n",
    "                                               Natural)])"
   ]
  },
  {
   "cell_type": "code",
   "execution_count": null,
   "metadata": {},
   "outputs": [],
   "source": [
    "%end axioms"
   ]
  },
  {
   "cell_type": "code",
   "execution_count": null,
   "metadata": {},
   "outputs": [],
   "source": []
  }
 ],
 "metadata": {
  "kernelspec": {
   "display_name": "Python 3",
   "language": "python",
   "name": "python3"
  }
 },
 "nbformat": 4,
 "nbformat_minor": 0
}
