{
 "cells": [
  {
   "cell_type": "markdown",
   "metadata": {},
   "source": [
    "Axioms for the theory of <a class=\"ProveItLink\" href=\"theory.ipynb\">proveit.core_expr_types.tuples</a>\n",
    "========"
   ]
  },
  {
   "cell_type": "code",
   "execution_count": 1,
   "metadata": {},
   "outputs": [],
   "source": [
    "import proveit\n",
    "# Prepare this notebook for defining the axioms of a theory:\n",
    "%axioms_notebook # Keep this at the top following 'import proveit'.\n",
    "from proveit import ExprTuple, ExprRange\n",
    "from proveit import a, b, c, d, f, i, j, m, n, fab\n",
    "from proveit.logic import Forall, Equals, And, NotEquals, InSet\n",
    "from proveit.core_expr_types import Len\n",
    "from proveit.core_expr_types import \\\n",
    "    (a_1_to_i, a_1_to_ip1, b_1_to_i, b_1_to_j, b_1_to_ip1, c_1_to_i, a_ip1, b_ip1,\n",
    "     x_1_to_n, y_1_to_n, tuple_len_incr_equiv, fi, fj, f_jp1, \n",
    "     f_i_to_j, f_i_to_jp1, f__x_1_to_n, f__y_1_to_n, iter_ext_equiv)\n",
    "from proveit.numbers import zero, one\n",
    "from proveit.numbers import Natural, NaturalPos, Add, subtract"
   ]
  },
  {
   "cell_type": "code",
   "execution_count": 2,
   "metadata": {},
   "outputs": [
    {
     "name": "stdout",
     "output_type": "stream",
     "text": [
      "Defining axioms for theory 'proveit.core_expr_types.tuples'\n",
      "Subsequent end-of-cell assignments will define axioms\n",
      "%end_axioms will finalize the definitions\n"
     ]
    }
   ],
   "source": [
    "%begin axioms"
   ]
  },
  {
   "cell_type": "markdown",
   "metadata": {},
   "source": [
    "### Define the length of an ExprTuple:"
   ]
  },
  {
   "cell_type": "code",
   "execution_count": 3,
   "metadata": {},
   "outputs": [
    {
     "data": {
      "text/html": [
       "<strong id=\"tuple_len_0\">tuple_len_0:</strong> <a class=\"ProveItLink\" href=\"../__pv_it/axioms/d247d1f7e2b7db80684c2716d424e74da221a2840/axiom_expr.ipynb\"><img src=\"data:image/png;base64,iVBORw0KGgoAAAANSUhEUgAAAD8AAAAVBAMAAAADRiu8AAAAMFBMVEX///8AAAAAAAAAAAAAAAAA\n",
       "AAAAAAAAAAAAAAAAAAAAAAAAAAAAAAAAAAAAAAAAAAAv3aB7AAAAD3RSTlMAIolEdjJUEM2ZZu/d\n",
       "u6v6CvZmAAAACXBIWXMAAA7EAAAOxAGVKw4bAAAA8UlEQVQoz2MQYAACAUYwyYANKAMxSwKzA5SJ\n",
       "XUESA4MXNgVKngJgUfYGBgaOAkwFHAnsB8GinAsYGLgmYCpYw8CgCxblBvG2Yyq4x8CQXwASzQDx\n",
       "ujAV/GRgiE8AiU4C8fQwFLCDFCwAiXaBuCugCuacAYFzQBbjJ6ACB5DoMZBENoYJYAUKINHNIG48\n",
       "phVABfYOcAXWWB2ZnwC3IgfDDQx3GRjWg715BcRbi2nCagaGGWBRPRBvEqYCngT2rWDRGBDvMKYC\n",
       "9kl+AWBRHiDFeABPdIMiChRhuNPDRQYGWbwJphasBocCV1CgOrAIQJkYAADq+TiDa/mHSQAAAABJ\n",
       "RU5ErkJggg==\n",
       "\" style=\"display:inline;vertical-align:middle;\" /></a><br>"
      ],
      "text/plain": [
       "<IPython.core.display.HTML object>"
      ]
     },
     "metadata": {},
     "output_type": "display_data"
    }
   ],
   "source": [
    "tuple_len_0 = Equals(Len([]), zero)"
   ]
  },
  {
   "cell_type": "code",
   "execution_count": 4,
   "metadata": {},
   "outputs": [
    {
     "data": {
      "text/html": [
       "<strong id=\"tuple_len_incr\">tuple_len_incr:</strong> <a class=\"ProveItLink\" href=\"../__pv_it/axioms/725967efb8a58f3a30bc38cbb2509a63914ed62d0/axiom_expr.ipynb\"><img src=\"data:image/png;base64,iVBORw0KGgoAAAANSUhEUgAAAbwAAAAWBAMAAABJbjTQAAAAMFBMVEX///8AAAAAAAAAAAAAAAAA\n",
       "AAAAAAAAAAAAAAAAAAAAAAAAAAAAAAAAAAAAAAAAAAAv3aB7AAAAD3RSTlMAq1RmmUTNIjK7EInv\n",
       "3XZ/CtNrAAAACXBIWXMAAA7EAAAOxAGVKw4bAAAFN0lEQVRYw81YYWgcRRR+t7d3t7d7dzkpCFIJ\n",
       "J2oNtYmHxkCK1INoCUr1sP7SUA4UpP3TDQiSquH0j/5Ik6CWNP6om/5QazR3sR4qxXIoIdVaOSVq\n",
       "SAlsVIgSAkehTTmhcd7M7N5cbrYX3T++kNk38+bte9+8NzNvD8CT1hfBB0XIHyUTfFNEaCWCJjK5\n",
       "6KYISr5c+g2MLD4TKf/wQja27H1bjEjpkKNTgiT275TD85a1JKXI3bnXJ7Qzl0jzuxweMQKJTOOY\n",
       "tkTG0lynBI/i2AtyeN6ylvQ+d0fP+Q3d8+Q/bEnhESMQLzYMTe2vkfYI1ynBa5in43J43rKW1Mfd\n",
       "UdN+4V0h/8GMFF6fwB/kzwTC6+Y6JQrSSMnhectaUpm7E/O979Bd+E4KryzwXSK8mMV0ShAkyxv2\n",
       "OFq8ZS23Xo67s8svPKOC7XMyeErOC144zXTI6Xhpefmi18npKWtFapG78zjm985VW5ANnh9ucQ+I\n",
       "88PtKyR/ZmXw0MhMnwyegYfiLIXQD/AuOQJMGTwm+w+Ey0fdwWUfMKM1Idvm4T3rpsps/gesUzii\n",
       "bwD0uPAOLCP96BgpDsjgBTGuPRTCIEQIVoOtV2ShBA8lXXhMtm3SDjtcPMXd+Yms3DegVkDv4aKP\n",
       "03AA9HO3eEJk8+E8691nwQ8Ae2TRI0a01H4ZPAV35R4KIWo5eqO3nYA7DEu1XHh12fZop8PEstyd\n",
       "OZJDVTy9R9e56EmAy6BSBB6JXRVPe+L+3wBjMnjEiI7YaUi/5yGl8LQqUB0CQbH56aH24yVuZ4x6\n",
       "crqybdIFGbzYOBQI28lF34J+FdqyketeL+HzOV2GELkaBjzggVKTRS+E0RtghVduH+mv8NKg4+5h\n",
       "AR6VwfS+z503Cmw9mc6u8Y2r3VixmpOzYMPD4MLTb0CwCkHLGx6bfyjpXHtqjSk37T00Ek5asuSs\n",
       "MIMI4VNyx8+0WTq9vzuM088K8FCm/6ptOEjqbJ0+Mcc4vMSSUyJFbe7OKeJuCm5VTOohcUW/AoHc\n",
       "PezAb95+OvD5x+wak1/HzQq9suihkUK2KDtaEEsvg/AKWadjnRCi9UUHZP4S4KFMzWhliNATlLJP\n",
       "/dFo5xEYIaaovXSQX0V4MlN3ZtELZUGli6lfo4A7M2QRjlusW8hBnaENnR85XWHDO+Adfr80wUMj\n",
       "Y5F0Izxjg18ZqIMQAnlqNHh4cvItAm86LMBDWSybSMLrSyzbCVvWqw1W5mDF2Qx5laeUVuHuHCfO\n",
       "t38x+CfLr2USj6m1N9rzbLmwG8d4LwBn4kvOfAwNnf4Z+v+zDB4aCTzQuPcCt1/bQV6TZTrOR49e\n",
       "y2tFFr1Q15YPooIZ3WvBksuaWrkhnzbg7Y8Ueoy3Qcwp4Ra5O/G8Mw/hKW46vggviV2Xdrs78ENB\n",
       "HqlIi7JFSdVC6VWuU3Lrmwy7wB8ENxaOLGaOHaTwpjkbzRJWL9KGPOa1q3uVu1Act3odA93cnWBG\n",
       "hGe4hcnJNx8TunVyb4RdqiCnhXkzvG5JSe3W2qjjRq/dhCGy0NovJgS2wAv1dZ0FhDeSYmw/sto8\n",
       "jJjavPY1PH3/WhpO0rEn3GIqanJ3JvjAy0dJgGfcM31zsyp066ngvmBqVZAPyb/3oh6/BNCvnKEt\n",
       "X+T6l5MnvL/WMTlZ5hmW7bAYd6ZbSQljODDO3TkjvsRudMNuciwhl0/I4ekeH2sU9kSLHxy+ElN7\n",
       "9GIKQmwrHN2sOCyhZ9jjlCWMIQ1Dgm67iO3/x4gEjVIi3yTwqM1Xuc763L+xEpSxaZn4f0P/ADQw\n",
       "jR6KJAN3AAAAAElFTkSuQmCC\n",
       "\" style=\"display:inline;vertical-align:middle;\" /></a><br>"
      ],
      "text/plain": [
       "<IPython.core.display.HTML object>"
      ]
     },
     "metadata": {},
     "output_type": "display_data"
    }
   ],
   "source": [
    "tuple_len_incr = Forall(i, Forall((a_1_to_i, b), \n",
    "                                  Equals(Len([a_1_to_i, b]), \n",
    "                                         Add(i, one))),\n",
    "                        domain = Natural)"
   ]
  },
  {
   "cell_type": "markdown",
   "metadata": {},
   "source": [
    "### Range length"
   ]
  },
  {
   "cell_type": "markdown",
   "metadata": {},
   "source": [
    "### Defining tuple equality"
   ]
  },
  {
   "cell_type": "code",
   "execution_count": 5,
   "metadata": {},
   "outputs": [
    {
     "data": {
      "text/html": [
       "<strong id=\"tuple_eq_def\">tuple_eq_def:</strong> <a class=\"ProveItLink\" href=\"../__pv_it/axioms/ef4403e3db8975bef587967bad21b2ec6fefa19f0/axiom_expr.ipynb\"><img src=\"data:image/png;base64,iVBORw0KGgoAAAANSUhEUgAAAukAAAAzBAMAAADY0ItYAAAAMFBMVEX///8AAAAAAAAAAAAAAAAA\n",
       "AAAAAAAAAAAAAAAAAAAAAAAAAAAAAAAAAAAAAAAAAAAv3aB7AAAAD3RSTlMAq1RmmUTNIjK7EInv\n",
       "3XZ/CtNrAAAACXBIWXMAAA7EAAAOxAGVKw4bAAAKW0lEQVR42u1cfYwbRxV/56+11/bZogIBQYcB\n",
       "cUQNl5xIQCKqEqPQqqigWID6R4hyLi1CrSq6J/HPFZq6ompBOnIWJQqJIGyKVJqExE7a0gLq9WhB\n",
       "oVQFN6QlSjnJ4SqlTehxuiq9yhU182Zmv2Z2fdndw6ySjrR7Mztv3s7+dubNm7c/H4BnUg8d0uHd\n",
       "tNJpGVjz3W65r/3J1C5ruA8ysDPdbr0X6pU+d+uqy3uQp8/wTDxKqA80nWWNHMoK6NUu8ZqvpATo\n",
       "3EgUUf+MszhYIqd/roDeHfIlqjtUSrbZ4Sdli9FDXTnhLK8hR6wZcuX6aYtAPCpdXxOyr/f9AebI\n",
       "nzmfzf4WPdTzzpGjVsnpobBKU+gP3Ca9jGpYvYuQImtjyqeP90k9cqhf4ywmcIRuCau0gKZkg3g1\n",
       "MRrWvnQgTt5nvBxgDEQL9eecxRyeZsIqHcPRlROHZC6s2iwxXH8Gdvh5WUtRQ32w4ywPo1kPbQme\n",
       "pENMHNrDK2G4bgZ2+Ek3RQ31fNFZvgEtAS6m49M77WvuqnPLeA4O+Zvm32P5Dg7dMD1n35Q5S3Ky\n",
       "149PTxHDdQzY4Set0yOG+pTw1DfzQZo8AT+3WYjtWqbTexZTeZU55OqbekODOE6ZxCxNRUP3XaWE\n",
       "7eGdJTnR+l/a70AdXers2jUvkxrtiKH+IaF8EntAhtSvRuFLAL/gtkZ9BhItOHzsg556mHyWTYhY\n",
       "B3JtiM246H6Z1KjmFgFLvbRiPUybd7gOHRJ++Ip5tCKG+u+F8h9x1SM92IqPnJ5vce9jAfJNKCOw\n",
       "HonKm85KFQpNSC/IuhM4Y3a9bshhqYfWREe+wxQ//KT4UrRQT7/hgfqzoF4kg5ajnqtDowIX4W5P\n",
       "K8zkjUdowlgJkjOy7lzdvkenpR5ac3X5Dtv54WvX9ka0UB9ccrcw6jsQX7BQJ4ZxM8BGb3yYfPKs\n",
       "6a5v1Vlju/U9aVjYEbu97aGV1u8o2u7A2o74tOtsRkcH9Yw4HvfjxTaoizBQ/QQFTsXHL8H7Yhr1\n",
       "COV9IQow+aMFndYXamQhkJ+S6C6QhbpCUcNWrOStFeu3tTu0mvcIPgvs8JV+Fi3Uc2JPjvFw0X4Y\n",
       "KZcp6o0qvofYqQQNmqpvUh8F2HUzw+TvHGFXBkYzZe6ACrqJS5KtUdSxFSsZWqkeh1asv//BFrvA\n",
       "ekTdzxv8PuZTHHU6MT7mgfoAdQRG+4B6Q9xc/xCNPcH6wIX7h2oU9fwZgsPQE+OvAkyQMTeLw/IU\n",
       "9rNsZDCAzeT3s3p11Ra34YO6f7f+PLMQtBUtGVqpQqdWrCczj1azO8CLwA5faXOFoX4tFr7pgXoC\n",
       "hVJaH1CfEvc+ebSxp40SNc1Xm1ulsqJBTDYGpoDaqdnq7wI33aZdv/oStTYeBlu10mJHgMckqN+D\n",
       "GuoeqKdxJkz0w8KsK4lOVtket6Kom4Zi4vv36pCVlZgCsWrZVi/F0Myo1Yi91XJah4lpyzoiaP6j\n",
       "aHRKE9QxWpktedl1DJIe7wfqmyX3YQ8up3yaKb9+myys5nT4a7cLcFRe90wBdUiz6l3G1B725zt3\n",
       "TNtaLaf1wDl79USg8VgoMtTj5H2lPFfT9eRvtR+o/1syYwfxie2ADTrr5XDMoHt9RraQB5dv5V7f\n",
       "dry4Pf5Rr3Mf5vnZ2ec8Uc/Nzv6j2Q/Un5LsqYJPuHMFVJ+TLynt0PsLjR1+XbUqR/16gH1ghItE\n",
       "1BM1yOj9QH1rX+7yf0/5Fkd9HJSiGS5STj0G1xQt1EnVuB+t99V9DnHDnH8YrgzUZzjqGT3L/dld\n",
       "H9gNH8nqCd22S9oHj/nROuDTHN0NVyjqsTZfTBPX436pXc7a96Zr/S2muZq/Xrx2pVoYqG4CGi6i\n",
       "PIPVH9/pQD0VJ6ZHfeSCYfYPb3pc1mVdnJqnMerpTUaVlbNSdq5ttPuWaWrkdcVgIQVnIrm21ILr\n",
       "Ui7tDuZtNO/VFI4Tp/xoQWde2ursg1+zo54dJoPwiDbFFah/Ty/JHq118XX9Fdpy0tQxKXfoxfSM\n",
       "0e4t03OUJonJQgrORHKjCQUlILnTjrz7tgPc+E+5ooH6d0nuzhFI0o3Waii/Zkddwdjk52GSRSkg\n",
       "USaIffkVZ2CDXgT60h6gH7W+AA8zccwl117rvHOirtaoNGm34L1LMlhIYZhILjShNWF0ifpI3w4+\n",
       "7yKbvr2M3CeZ/1QoG6gP1GggLX7r3r0/IqgfTjliju8H/ApwFtIjCGOuMliEGdX5cYZeZOlP8Dkq\n",
       "z8Xp9wNoCO+7YrUzXZ51YoTKZCGFYSLJNKHgBCQ77cjYzGPfbnHdDZXotl7iPzWaYIv0qp1ausnG\n",
       "enKtA3WsXIIHDkEe79jQMht1jVsIUxVeXENn3wI8Tc5ob6g45hQQjEyBWCsqTdqdN2CZEoeFyUIK\n",
       "w0SSaULBCUh22tGRqhXhWXQTHtNpDGmDV/TLChftw8ynAc6KqMOJ9MWNCONhyGlTX9EhUyFZtWmc\n",
       "6MWPlrFwJl4n529AFsV5DnaDQzxVgSaRpu2+p9unnmNG4GkGQjKRJJpQLpwurm/uvezvDKWBuaQn\n",
       "GfdJ4j/RIJ811oc0mCCWJv2SxoLqDtS/+qkLowjjZCm5Ze0jdDs7WUqfgEkNT+xipgbpp+HeeTx/\n",
       "e/15FOc5sr91iCtbNulE2lDGbybOfIOFFI6JJNGEhsPp4vpaP+BjldHA5HQLo5VI/CcabnJ8S1J/\n",
       "s3e3GBGwF8l7Y+Ysq7eNLCaWOxIjvWB9McVZ7reDIImjtMOZGBCHtMFCCsdEkmhCIQhIFu0o1mTf\n",
       "HLBvqaGzolekrHp1kX0Ik/hPdDPo4wte+l/HIckmzB3dlpFFl4rlMucBttHcNkOc5VLd/4AkTqST\n",
       "jtkX77iMLGO4BGciSTShEAQkk3YEKS1GDSL2rXGbuiTcg/UvXmWHIz3rE3Uq7pa1XRy1nZ05F/G4\n",
       "09cSFyWDhRSOiSTRhEIQkCza0T0A9Ncu2Ld1OvxFcJOeQR4O5T6J/CflnQCo/y+TFwspHBNJogmF\n",
       "ICBZtCPiTc8bPvB1AG8LLWj/KPdJ5D9FjYUEX+yBenAm0nYX1IMSkEzaEfr8RwzUX4bkotSC9I9y\n",
       "n0T+00DUGHdjFU8LE4KJJNGEQhCQTNoR7pESJd6/RTYbbPdg/aPdjQkOTqEdMdTzgsPOWUjhmEgy\n",
       "TSg4AcmiHeXRQld5/97CVcT5nlj/EFsR3816xFAXnRiDhRSGieRCEwpMQLLRjmgY9Se8f1fBj4Vb\n",
       "8P6Zbq8tvQARQ138hYzBQgrFRJJpQsEJSBbtiPo7u3j/Djwq7oR4/xA+AcLo/UKGzz7r7mhoT0M4\n",
       "JpJMEwpOQHKjHZ3u5eeDxH/KFCOHeqopB64cEaQATCQ51hWcgORGO9rQ43lcIndjeuRQTwu/8jVY\n",
       "SGGYSC40ocAEJDfaUcb7wxRyn0T+00mIHOrWN1SWDBZSGCaSC00oMAHJjXakeuNnHzA8RfEX7SK/\n",
       "QEEUdkIYJpIbTUhpB9cl6/Pu2zmQ+E83wqWgvrHP/5Xn63BZpzT7sqQeOtoT9Xf/K8+Kpod4cLbb\n",
       "rf8XLOfadpJlcVgAAAAASUVORK5CYII=\n",
       "\" style=\"display:inline;vertical-align:middle;\" /></a><br>"
      ],
      "text/plain": [
       "<IPython.core.display.HTML object>"
      ]
     },
     "metadata": {},
     "output_type": "display_data"
    }
   ],
   "source": [
    "tuple_eq_def = Forall(i, Forall((a_1_to_i, b, c_1_to_i, d),\n",
    "                                Equals(Equals([a_1_to_i, b], [c_1_to_i, d]),\n",
    "                                       And(Equals([a_1_to_i], [c_1_to_i]), \n",
    "                                           Equals(b, d))) \\\n",
    "                                .with_wrap_after_operator()),\n",
    "                      domain = Natural)"
   ]
  },
  {
   "cell_type": "code",
   "execution_count": 6,
   "metadata": {},
   "outputs": [
    {
     "data": {
      "text/html": [
       "<strong id=\"tuple_neq_with_diff_len\">tuple_neq_with_diff_len:</strong> <a class=\"ProveItLink\" href=\"../__pv_it/axioms/0979e5dd2654cad4ce3b26ee0e7b7e0a593f26b40/axiom_expr.ipynb\"><img src=\"data:image/png;base64,iVBORw0KGgoAAAANSUhEUgAAAlwAAAAZCAMAAADTyAB0AAAARVBMVEX///8AAAAAAAAAAAAAAAAA\n",
       "AAAAAAAAAAAAAAAAAAAAAAAAAAAAAAAAAAAAAAAAAAAAAAAAAAAAAAAAAAAAAAAAAAAAAAAeYafp\n",
       "AAAAFnRSTlMAq1RmmUTNIjK7EInv3Xbt5cnn9enzas/lfgAAAAlwSFlzAAAOxAAADsQBlSsOGwAA\n",
       "BlxJREFUaN7tW4mSpCgQlUO5hD1m1v//1AXkJkGnqtaJ3mgipmQSSJ7kMzNBe1keLkhrzZbv8j8v\n",
       "xpoZPz7r9tWXjXWV3zH5xzp+GlmemJBvcv3qI4nbypNlNYMGKmGUjyPLCC25UGrG5DFyPT3p5wpW\n",
       "beVhbsPrxUWPUopdj9TM2u4UYHxElhBactE1mZ09Rq6nJ/1YkVtbedzzS0gqOIRyoxM99E0cdIQs\n",
       "Xi25ePQiTDwXFp+e9GOFkrbydCEQKTgCUR6T4Hi8GTj78RFZupJMNIWfI9fTk36s7F3leQiA6xIM\n",
       "QrkecpwiTdpupVjA+IgsXB25YlL/kJ/fqp3EF0vv8dZWfkNc7H3mikCUapJWKf0eCmh8RBau3sa7\n",
       "dmVXT5Lr4Uk/FhVVW2FIGTbawk0bb+7wOxUK9WvKQJQbMgYNQsOs7ZYZgfERWbh6clGfDAr5KLme\n",
       "nfTjXiNW1t3aVQxCzLTxZvTpVZDsNKl/QvXfP9wvalHKwyYf8gB3TLO2WxsbaHxERoroxFD8caPK\n",
       "/vzySS7nK0fKoYYtPpHFpF+mpEPnUJG7fzrhEDNtvGnDUkVYYLxfOK4IDntO7qDnnLXdyg/K8dHI\n",
       "EVm4nqmP8x8qHA6ocj5dcoNp6jqRvWBEudcrR0ZttYYqyyon/Xzhm7gluzs2pqxrXaGHv0kfhiRp\n",
       "8rCiUSqF0AserNQfF5gfrXejMErq8RwKgJbbXkSWdRdGjsjC9SQXNtPMmhskhMWL0aJkfRYsRonC\n",
       "ZVi8mvTdgtQ92d2xMLl24UPE6lfJND6qaKQvurBCRREpLxxXBOc5uR4YgJbbXkSWxkPI1tJzWSOT\n",
       "sYOkNBAT204WS7nyA3Ihdk2u+aTvb9j5PdndsWBYlIe7AxIeWKybtCQ3Onqwg//qTdT6l24an3P9\n",
       "/OfMvFCL0pue+viFNXRK5dpeRFbo7pGFayCXwuHcaTUZojTUacjvGzDHq924wOQqR66q0jAgV5rU\n",
       "umZiVMtHUAibAOjJD7uZkdcy0FOP+wlTVaRfY7QtmBVrG++qaCQymvBWBJJLryItMGme6P7IPqB0\n",
       "851JWwutaHsRWdZdGDkiC9dALhbyKGmWTEbqz0tkvhXMbVjEK0iuMJIKV/6w/0jSMCJXnHSRmlmD\n",
       "NuwAhfD9Qj2Nlouh1zKoTPqlY4BQcWbEmp4bm2BBu5Fa+sZwMpQac21SKVRk09A6aGM6QomsDQRd\n",
       "IGhlW4sMgNGL8vjCyBFZuMazTHT6RSaz/5RyUXb0SkpyWVVGQOQqR0ZfFzSMyBUntXHXegsfplk+\n",
       "mkjCFRs6zfvz8MKROnK7LLbQGGWXCuPY7lMDO4+uKxIZxRkyvHQPWsu+0Y6QZaOt0XEldsoq8gLr\n",
       "9cJxZXAqvgdqoZVtHbIeT48sjS+NHJGFa/fJjTDNqQ7ZvDMS+CSXVFUWLoCRha+DTpM3MEv2Pp/j\n",
       "tPJZuLvnZZohxZ5t2kRRpTHKrhWe/eCkiw+3wTmxwUCESSzHd8IP1CksMKvTJ/DjjA7cDNrbyKKR\n",
       "I7J4bcklD1ngcrGGq8pzueceJNc50oXFP/8SISyeGq7I5Y/iBJEOtZadkCW/NEp6Y09cHIY49uy4\n",
       "1JhkVwrTWAK8I04ioC1ZELA3s90ZGzQC4Re6z9M0zRtz8COJDtwE2vvIopEjsnhtyWXDJ/XuybvL\n",
       "vT5EJ97bVU5CNCOX+gU9ZETAc7mcaSWJXH76Qri4c5BTCv2knvhMP7zQKjrTypNctexCYejHGPRZ\n",
       "TXpFLNiIXNIA3oFz7oOsvLNDhjqFBW4+IyEwI1pwY2jvI4tGjsgSws5zIeMfbJxpxOKnQlyfByow\n",
       "uc6RS/1Gx6A75FopwUaRRAU/fSE8j0K8lO+s/ql6iqIjNecynOSqZRcKUz/Icinoy2bTxtR2nK4T\n",
       "MNJ+uDJoBLYUkFnPBW5oo+FQVoObQXsfWTRyRJYQjj5zxkUslcqFOTgF7s+5sFmmKdf84DSsVXWA\n",
       "oWS4JTwCmraN4b8YWH38gkIE3XR6i8z+w1O6sXHbI5dBvwfBBSNHZBnhgFyrXLaV3/hkSUy4M9Aw\n",
       "fRWw+++71vJx3OyDpZdWmoFWKa9shFFjKbuvUC/f5YpZE5oMyGWl1FD5ArlwftgHGm688iG3peSd\n",
       "jnOZwZh+k+eqzGjy7l//vPDJxvZF/m4Ro29uvRO/td7JvzYzP8AOzrwyAAAAAElFTkSuQmCC\n",
       "\" style=\"display:inline;vertical-align:middle;\" /></a><br>"
      ],
      "text/plain": [
       "<IPython.core.display.HTML object>"
      ]
     },
     "metadata": {},
     "output_type": "display_data"
    }
   ],
   "source": [
    "tuple_neq_with_diff_len = Forall(\n",
    "    (i, j), Forall((a_1_to_i, b_1_to_j),\n",
    "                   NotEquals([a_1_to_i], [b_1_to_j])),\n",
    "    domain=Natural,\n",
    "    condition=NotEquals(i, j))"
   ]
  },
  {
   "cell_type": "markdown",
   "metadata": {},
   "source": [
    "### Collapsing and extending ranges"
   ]
  },
  {
   "cell_type": "code",
   "execution_count": 7,
   "metadata": {},
   "outputs": [
    {
     "data": {
      "text/html": [
       "<strong id=\"empty_range_def\">empty_range_def:</strong> <a class=\"ProveItLink\" href=\"../__pv_it/axioms/5daafd7a470aa278640300007224484c080d75da0/axiom_expr.ipynb\"><img src=\"data:image/png;base64,iVBORw0KGgoAAAANSUhEUgAAAasAAAAXBAMAAABHQH3kAAAAMFBMVEX///8AAAAAAAAAAAAAAAAA\n",
       "AAAAAAAAAAAAAAAAAAAAAAAAAAAAAAAAAAAAAAAAAAAv3aB7AAAAD3RSTlMAq1RmmUTNIjK7EInv\n",
       "3XZ/CtNrAAAACXBIWXMAAA7EAAAOxAGVKw4bAAAEe0lEQVRYw9VXTYgcRRR+89/TvTM74HUJvQge\n",
       "RMmCG8FLHMyfUZQ5Gg1hQETIabwEEkxcj8LCRjxIgoQOQiARJpMgXkQYcgoRZSMK8WdgVhdyC3sx\n",
       "gfWS9179V3WagfGSB1XU6+97XfXVX78G+F+sIYvtOw9cJLTB7P1I9iAXHsz+rhnsb1lsH2rTJzBz\n",
       "7MTs/Uj2iVxYIR1yn51TVXkkCkD1+0z67S78Y3McxLHoD3y2UtyDiYboIrNzIhBWyCHyP5xT1hVZ\n",
       "AG6sp7LdGkE9szgOYtvlw7tYnyzuwURDuy/YJ3OHIZFPaUuen1PWAVkAbh3LdBsq9rI4CO9RNd1t\n",
       "krVa3IMXvZobccAgNKNJOqessSxQ29U+2R1LhIvQlpnashayog78aGKHEWODVHDO6vMerb4oOEGb\n",
       "ymd733A8JJBVLzxcfjSxgwiGFfLTZPLjnLKqI1GgsnS3K/0h7YgbmuIjgaykU9CBFQ3DLckOIhhW\n",
       "yOsAFzUSizt/jVmyd3wUWcFt8NnW3C1OlT86jo2XDddDAlmVftHEmWjoLqwItoh4a0J2V8MK+Qga\n",
       "JDs+SA8T0dU9qprijfvo7lqTr/8aA8w9INnQSkUB+GRN+lF6GBsvmIF5SCCrPC6SpaOhPVhMBTuI\n",
       "4CEopJklPRKxb81jCVmxWmpavOgB7vH3gk4XeqIA7FV+DD9jY8NwPKQ6mfyF27+jZUU7RbJ0NIbv\n",
       "zQQ7iOAhKKQ85RtjMbhXhKxqz3bLm+B+jTxZP2i/TGM9bjgeEqxWrXC1TDRuO8kOIhjWSH8/9bF0\n",
       "k55t8QJtp0ZWi07pa7Ys/TkQbGcTfq79egfVv2j69JBwE24WyTLRAH9KtoiwzpbYhAq5yZ/rV6ga\n",
       "8ppVxUUqZJ2iU/qcLavchaMX0FaGaoWbU1GA95doX++N5EsFyUPCK4NSgjgU5EdD41/JrvhJBMMa\n",
       "+Zg3+EGqzvD0Xku6RtYx7Cz71pZVU687oxZDX7fcpWhvNPAKepOG+hByEFtW8kjdztf7ks+V9uxo\n",
       "qOzYnxTn49axkRLfFV8wcklf2ErWsvisHr3wFa4Py4r0LF1SueqmKFDe0X7pJWz8Rt4ky0EsWaWl\n",
       "h8/gDqKD0cKkF34FWbW6OdFQou6J3ep5shj2kNt8qnZZ4uLAyPqMqke5m1Cy5QeBSrVjfJpkkRtk\n",
       "IeKsFttZrp8PMxg/emEq2WcD7r0AiXF/f4PpRzfGBVwH98qIxras9lQnK10381yup8an0fCqJxAi\n",
       "Tqqr01T8VIdpkxtdSl/NnNzattUAoZGvp/GeQXQLYMuS1cSVa3ek2/juvyk/EVOxR7XoEZbfr1g+\n",
       "2mmuh1h8JPyv5Z0dhz+eXvRG+otk5/x24Ms9hP8heE7KKkMVsmojedaaino1HFR8nsv+I5aP9iXX\n",
       "NFQfyRuRm5gp86Kr2z0zjTnDcJHmMh6TGl+m79bfGVuy4Ah8sG6liPQgtHOy2D7mOU9g5tj92ZLq\n",
       "c4Z9Pxd2keQBrRg3V6rbmS0ryd5+w8mme/BUW8P5IJqVfhrG/hidIl/FSbb1iAAAAABJRU5ErkJg\n",
       "gg==\n",
       "\" style=\"display:inline;vertical-align:middle;\" /></a><br>"
      ],
      "text/plain": [
       "<IPython.core.display.HTML object>"
      ]
     },
     "metadata": {},
     "output_type": "display_data"
    }
   ],
   "source": [
    "empty_range_def = Forall((f, i, j), Equals(ExprTuple(f_i_to_j), \n",
    "                                           ExprTuple()),\n",
    "                         conditions=[Equals(Add(j, one), i)])"
   ]
  },
  {
   "cell_type": "code",
   "execution_count": null,
   "metadata": {},
   "outputs": [],
   "source": []
  },
  {
   "cell_type": "code",
   "execution_count": 8,
   "metadata": {},
   "outputs": [
    {
     "data": {
      "text/html": [
       "<strong id=\"range_extension_def\">range_extension_def:</strong> <a class=\"ProveItLink\" href=\"../__pv_it/axioms/6895d1f16a33b6ff0fbeb8516549cf67310599df0/axiom_expr.ipynb\"><img src=\"data:image/png;base64,iVBORw0KGgoAAAANSUhEUgAAAokAAAAyBAMAAADCa1yNAAAAMFBMVEX///8AAAAAAAAAAAAAAAAA\n",
       "AAAAAAAAAAAAAAAAAAAAAAAAAAAAAAAAAAAAAAAAAAAv3aB7AAAAD3RSTlMAq1RmmUTNIjK7EInv\n",
       "3XZ/CtNrAAAACXBIWXMAAA7EAAAOxAGVKw4bAAAInUlEQVRo3t1bXWxURRQ++9fdvdvdrsqDxEa3\n",
       "UYQYkBqBhMTAKj8lEkwTEyNCSpEYIz6wvpig/PlIUmmRECxRc/GBBElaIPogBqn4IKhgi0j8q1mw\n",
       "kfggNCg/6QNxzsy9c+eemd3evtzeMrmdO3e+c87M/e78ny5ANML7MDXDITtClYm1TlEWM79GqDIP\n",
       "+B/TNJ02KaXNtirBikzXy68Ervmc6JCY6PQ/X6bpVNWgddlsrCNYmTW0RVEdgaueK0aGxS3+bx8/\n",
       "gnHyC9tJF8rwp4r7EK2DFcYZHTxtyOwn2LsMwqIKwUeYHyPD4h/+x4M8PtpVctL5I9CgjuI+RA0H\n",
       "lo+xeGP9wjxtKPj7gDVtEyuGF7UxcN1nR2V+SQz4n5fw+NRqW6YhoTY6H8J7odt0CsjivPqladoA\n",
       "z7uJa7ZT1LzAlW8oR4TFRn+LAk5qasxLs/Ctwpkfwe5ZVVlsrNs6dG2Ax1UWeVGNgVtY6lZEWLzm\n",
       "r3Kc97PcoJdmYYMyoPsRjcWGuoOark1Z3DCuDV9YHxEWh8jwj00z0TxUdtJ92PuOev2fIBqLdadN\n",
       "RRv6LhlZPDqxqXduNAbGzG0y0vB20FR100fWssQCDyeIxiJdN/mDpw3lxlYTiwukjVXDGIbqV7+/\n",
       "Go2NC5lc8jiHwvYdTjpTWo5ToYcTRGMxPlCvNKkNhUpTycTi7HFt+EJ2MBqTC+k9je28o7hpC86x\n",
       "RLfShfxIcnj497PDw0XJYma0bgeUZViiM7IG973b4DiL3ePa8I8R0ZheultNLJ6Q6ThSs9bDCaK1\n",
       "xVTddnRCKWOVcVxcO64N/yrz32hM0RVTj94t0w1F27dfJYjeo+t2sd1KGb8ZWZwjbQQaF+GrSLD4\n",
       "AR1oOCfnZLq/nU2oC/FJcEYQfXbpwRail0O1IX3DyOJC10bA8GEkWDxj2uA7b4jp7jTr8iuRmZtg\n",
       "QFQWc7fcVUx/pyPPI/mkakNilLJ4ErvFStdGwHASgA/KD08midZ/dOWDvSk+KtOxJ1niJ3watg2I\n",
       "wmKs+eZ9rLfimJfHg78L4ET5skEbYj2ExXt+WN8qiuI2AobF7bAM769O6nLxDs35GRtD0UtjExI7\n",
       "DltHfG2Rh608fkwrSNNurNK2KIvaOpHZsQrvoF7PZLIYv05z5gG0NJRkmu9neNfNgY74TiOUwwy9\n",
       "SxLtWGmxTU8jZFFLJvAC/WV+DpQrTeqJzm1tHVuBXw56aQybedzH/iiiBdEmLH1HQbS7S+eN+psn\n",
       "2q6aipBgzDdM6uRS0FatVg8savPSGPbxGJmhCBi+AVrVAaKdHDGPffvqfCEzi6wibNn/3aSymBvT\n",
       "srbRdMH0VtvM9q4EK3ZbrY9aCW7D2SWwBcAKAO/c3BK15VvNJLjxTAedyXD1G8crroL3sfXAtDPY\n",
       "NArSJjnCGYOpHfJsOnoD0jhtWUtxUM1VvekvC06caBcwuzO87PDNMuZLBfa8wMCRowX5HahWdm1C\n",
       "+sJn8JS7e46NTnUW2W4xa+dwfMjO30HHFzc+4MAHeMYaB52/w3J5QGJ3/cOmSjovelqotkbY3DV9\n",
       "L7Tk7KR9N7EYr/LJpUk7a5QsLnPgZeL0TwiyjKQ7OvNhHnef1OfjaaEau5i15Apc5lfLubuqR0Pn\n",
       "Ihzimo/huosf/lojJR+Lgw48yHGxLMKMvKsgWTxGVoJCC/qe4WrsygpHJcyasU2ymNNPlkL06leC\n",
       "GxbCFePsAsd4C+K7/T7eIpPCKeGymO4UMLsjHhcDI8t401WQLD5C7AstKD8KqMaurLM+mZX7eI2c\n",
       "FLX1Yphe/Y7ghoVwh/l8dAsf3pZi9BY/f/okV1ZZTPUImN0RT4llGstY7SpIFlcT+0LLsj/ld3Zl\n",
       "nW3GLCj/XXvVHaZX3y+98rgsfqdtNq2bb8JKxPi0sodnfCTGsFaVxXhRwHhneEawyDJauEKyt/dM\n",
       "7x7B4k5i39FCrxpTyyCLidd6e99jLB6WS/34DVqtUL36qnTu/lOy+L+ghmnNfL9XidN8RBzjjDZV\n",
       "VBY5bac5D4g7Pfo050wo1OzRpx3Sb3k9OnNEtMWUPAHIaGfFoXr1VenGGfvpHlo3Pc9wGuGu7JjM\n",
       "YYh3li32ll1AZxeE2Z3hUKgyQZ6RB56hsHiVQcyAE7lakGFLAabGrqyzxGcrzUuyFvRkLFyvviq9\n",
       "ziaGTaY183PlMQS+aFfJerCSOeW+oGRxn4DZneG4xWRdAjNYCjMEi29v+hIlukqZb6CrglHJ1YJC\n",
       "kQvjxTb7rPVmLlYgJmtxkQ6LfHILy6uvSp+ghk2mNfOex4P3GLGGcWssWVzjwGJWPcQFMUMusnuU\n",
       "8wHveKgktbDcQ/xi1qzPe/f6a9FMh/9QvfqK9BNnp7mQdbVYy7Rm/iG5wm5hLSTFm+pLDS8O+FlM\n",
       "VjjM7pjRhoIio03Zu4AQSMnm7golK690Cdk2uQMkZ8Wki4Tr1Vel70goCV/XMq2Zlx6P3FUU4cnW\n",
       "5IjtZxGOc5jdQWyqE0IecuT157s2+EcHV+u5Z7kaahpZ7CbHm+F69RXp9G1Z/BW4Xss0NZ++M/7i\n",
       "HmPXn2YB8a0RFs2juuVEVq1dweR69RVp4ZPhxdvc1W00Tc1HxKufHDCxGJZXX5EWE4+AkoO1TFPz\n",
       "sWj8h0nqhqlHh+XVV6SzRQ9y1/O6aWq+qRqNQ5EL5DCJVyssrz6XFpDwCYrit7dDDdPU4b/YjgaL\n",
       "pB7hevVRWkAOc2Ils5iuF6Vp6vAfigaJ9D+Sw/Xqc2kOORMPh2A61DJNHP6R+Y/kBDmnDdWrv1VC\n",
       "8LRi+FxN08Thn43MD15e9z+G6tVf4kLx4svS8L3yw+qmicN/nR0VFrv8B8hhevWFNEL5/Z0ulLme\n",
       "L9UyTR3+5yPjuSj4axamV19II5QYqUjDzy2raZp8vAj9go3+mjJEr/6V4IaFMFF4ITokQkMJpmbI\n",
       "bIxSbabqr8wP8rnlf8ODJ51kDGFUAAAAAElFTkSuQmCC\n",
       "\" style=\"display:inline;vertical-align:middle;\" /></a><br>"
      ],
      "text/plain": [
       "<IPython.core.display.HTML object>"
      ]
     },
     "metadata": {},
     "output_type": "display_data"
    }
   ],
   "source": [
    "range_extension_def = Forall((f, i, j), iter_ext_equiv,\n",
    "                             conditions=[InSet(Len([f_i_to_j]), \n",
    "                                               Natural)])"
   ]
  },
  {
   "cell_type": "code",
   "execution_count": 9,
   "metadata": {},
   "outputs": [
    {
     "name": "stdout",
     "output_type": "stream",
     "text": [
      "These axioms may now be imported from the theory package: proveit.core_expr_types.tuples\n"
     ]
    }
   ],
   "source": [
    "%end axioms"
   ]
  },
  {
   "cell_type": "code",
   "execution_count": null,
   "metadata": {},
   "outputs": [],
   "source": []
  }
 ],
 "metadata": {
  "kernelspec": {
   "display_name": "Python 3",
   "language": "python",
   "name": "python3"
  }
 },
 "nbformat": 4,
 "nbformat_minor": 0
}